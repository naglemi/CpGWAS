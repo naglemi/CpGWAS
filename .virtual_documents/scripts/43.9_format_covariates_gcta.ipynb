





import pandas as pd
import os


os.chdir("/dcs04/lieber/statsgen/mnagle/mwas/full_covariates/")


import pandas as pd
import os

def prepare_gwas_covariates(input_csv, discrete_output, quantitative_output):
    """
    Prepares covariate files for GWAS analysis.
    
    Parameters:
    - input_csv (str): Path to the input CSV file.
    - discrete_output (str): Path to the output file for discrete covariates.
    - quantitative_output (str): Path to the output file for quantitative covariates.
    """
    # Read the input CSV
    df = pd.read_csv(input_csv, sep=',')
    
    # Print the head of the DataFrame and the column names
    print(f"Reading {input_csv}:")
    print("DataFrame Head:")
    print(df.head())
    print("\nColumn Names:")
    print(df.columns.tolist())
    
    # Ensure 'ID' is interpreted as FID and IID
    if 'ID' in df.columns:
        df['FID'] = 0
        df['IID'] = df['ID']
    else:
        raise KeyError("Column 'ID' not found in the file.")
    
    # Define columns
    discrete_cols = ['FID', 'IID', 'Dx', 'Sex']
    quantitative_cols = ['FID', 'IID', 'genoPC1', 'genoPC2', 'genoPC3'] + \
                        [f'methPC{i}' for i in range(1, 11)] + ['Age']

    # Convert categorical to numeric for discrete columns
    if 'Dx' in df.columns and 'Sex' in df.columns:
        df['Dx'] = pd.Categorical(df['Dx']).codes
        df['Sex'] = pd.Categorical(df['Sex']).codes
    else:
        raise KeyError("Necessary columns 'Dx' or 'Sex' not found in the file.")
    
    # Prepare discrete DataFrame
    discrete_df = df[discrete_cols]
    
    # Prepare quantitative DataFrame
    quantitative_df = df[quantitative_cols]
    
    # Save to CSV without header and index
    discrete_df.to_csv(discrete_output, sep='\t', index=False, header=False)
    quantitative_df.to_csv(quantitative_output, sep='\t', index=False, header=False)
    print(f"Processed {input_csv}:")
    print(f"- Discrete covariates saved to {discrete_output}")
    print(f"- Quantitative covariates saved to {quantitative_output}")

# Loop over files in the current directory
for filename in os.listdir('.'):
    if filename.endswith('.csv'):
        prefix = filename.split('.')[0]
        discrete_output = f'{prefix}.covar'
        quantitative_output = f'{prefix}.qcovar'
        prepare_gwas_covariates(filename, discrete_output, quantitative_output)


df



