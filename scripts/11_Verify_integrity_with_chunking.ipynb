{
 "cells": [
  {
   "cell_type": "markdown",
   "id": "e789f76e-48fa-4b71-8164-e88eb308d083",
   "metadata": {},
   "source": [
    "# Confirm consistent integrity of results whether or not chunks pre-allocated"
   ]
  },
  {
   "cell_type": "code",
   "execution_count": 1,
   "id": "6bc0225e-dcdf-4f7a-b31f-6c74142b7164",
   "metadata": {},
   "outputs": [],
   "source": [
    "library(data.table)\n",
    "library(stringr)"
   ]
  },
  {
   "cell_type": "code",
   "execution_count": 2,
   "id": "8172da51-324e-41b3-bca2-8c86f709897d",
   "metadata": {},
   "outputs": [],
   "source": [
    "path1 <- \"/dcs04/lieber/statsgen/mnagle/mwas/CpGWAS/output_chr1_a2_caud\""
   ]
  },
  {
   "cell_type": "code",
   "execution_count": 3,
   "id": "f8066af7-b66a-4cb7-b28f-adaa94996ad8",
   "metadata": {},
   "outputs": [],
   "source": [
    "path2 <- \"/dcs04/lieber/statsgen/mnagle/mwas/CpGWAS/output_chr1_a1\""
   ]
  },
  {
   "cell_type": "code",
   "execution_count": 4,
   "id": "1e8d0a58-5da0-4fe4-9f01-ff55bf7edc67",
   "metadata": {},
   "outputs": [
    {
     "data": {
      "text/html": [
       "'/dcs04/lieber/statsgen/mnagle/mwas/CpGWAS/output_chr1_a1'"
      ],
      "text/latex": [
       "'/dcs04/lieber/statsgen/mnagle/mwas/CpGWAS/output\\_chr1\\_a1'"
      ],
      "text/markdown": [
       "'/dcs04/lieber/statsgen/mnagle/mwas/CpGWAS/output_chr1_a1'"
      ],
      "text/plain": [
       "[1] \"/dcs04/lieber/statsgen/mnagle/mwas/CpGWAS/output_chr1_a1\""
      ]
     },
     "metadata": {},
     "output_type": "display_data"
    }
   ],
   "source": [
    "path2"
   ]
  },
  {
   "cell_type": "code",
   "execution_count": 5,
   "id": "2aa7100e-7de6-4b4e-afee-865ee5fa0c7c",
   "metadata": {},
   "outputs": [],
   "source": [
    "files1 <- data.frame(path = list.files(path1, full.names=TRUE, pattern = \"rds\"))\n",
    "files2 <- data.frame(path = list.files(path2, full.names=TRUE, pattern = \"rds\"))"
   ]
  },
  {
   "cell_type": "code",
   "execution_count": 6,
   "id": "a36ba8e3-8b9d-42e8-a98f-c560593d264b",
   "metadata": {},
   "outputs": [],
   "source": [
    "files1$tag <- str_split_fixed(files1$path, \"libd_chr1-\", 2)[, 2]\n",
    "files1$tag <- str_split_fixed(files1$tag, \"-dynamic\", 2)[,1 ]\n",
    "\n",
    "files2$tag <- str_split_fixed(files2$path, \"libd_chr1-\", 2)[, 2]\n",
    "files2$tag <- str_split_fixed(files2$tag, \"-dynamic\", 2)[,1 ]"
   ]
  },
  {
   "cell_type": "code",
   "execution_count": 7,
   "id": "c1450579-3a42-4fa7-b9db-a09e633dc7a4",
   "metadata": {},
   "outputs": [],
   "source": [
    "files <- merge(files1, files2, by = \"tag\")"
   ]
  },
  {
   "cell_type": "code",
   "execution_count": 8,
   "id": "fcb34d14-b614-453e-aeb6-98b1991bc40f",
   "metadata": {},
   "outputs": [],
   "source": [
    "i <- 1"
   ]
  },
  {
   "cell_type": "code",
   "execution_count": 9,
   "id": "bf6278d8-ea55-42c6-9879-31af67c83ca7",
   "metadata": {},
   "outputs": [],
   "source": [
    "load1 <- readRDS(files$path.x[i])\n",
    "load2 <- readRDS(files$path.y[i])"
   ]
  },
  {
   "cell_type": "code",
   "execution_count": 10,
   "id": "53c9c3b7-7901-43de-86aa-bae689c17734",
   "metadata": {},
   "outputs": [
    {
     "data": {
      "text/plain": [
       "71922824 bytes"
      ]
     },
     "metadata": {},
     "output_type": "display_data"
    }
   ],
   "source": [
    "object.size(load1)"
   ]
  },
  {
   "cell_type": "code",
   "execution_count": 11,
   "id": "898c3192-1db5-4fc7-96f1-f4b80ccb0efe",
   "metadata": {},
   "outputs": [
    {
     "data": {
      "text/plain": [
       "71935208 bytes"
      ]
     },
     "metadata": {},
     "output_type": "display_data"
    }
   ],
   "source": [
    "object.size(load2)"
   ]
  },
  {
   "cell_type": "code",
   "execution_count": 12,
   "id": "adc33cde-eda6-44fd-9c17-6ad169ed70fb",
   "metadata": {},
   "outputs": [
    {
     "name": "stderr",
     "output_type": "stream",
     "text": [
      "Loading required package: CpGWAS\n",
      "\n",
      "Warning message in compare_S4_objects(load1, load2):\n",
      "“Slot 'scaffoldIdentifier' does not match between the two objects.”\n",
      "Warning message in compare_S4_objects(load1, load2):\n",
      "“Slot 'models' does not match between the two objects.”\n"
     ]
    }
   ],
   "source": [
    "# Function to compare two S4 objects\n",
    "compare_S4_objects <- function(obj1, obj2) {\n",
    "  # Retrieve the names of the slots from the first object\n",
    "  slot_names <- slotNames(obj1)\n",
    "  \n",
    "  # Loop through each slot and compare\n",
    "  for (slot_name in slot_names) {\n",
    "    # Extract the slots from both objects\n",
    "    slot1 <- slot(obj1, slot_name)\n",
    "    slot2 <- slot(obj2, slot_name)\n",
    "    \n",
    "    # Check if the slots are identical\n",
    "    if (!identical(slot1, slot2)) {\n",
    "      # Print a warning if they are not identical\n",
    "      warning(sprintf(\"Slot '%s' does not match between the two objects.\", slot_name))\n",
    "    }\n",
    "  }\n",
    "}\n",
    "\n",
    "# Call the function to compare the two objects\n",
    "compare_S4_objects(load1, load2)\n"
   ]
  },
  {
   "cell_type": "code",
   "execution_count": 13,
   "id": "e62c2836-a47f-4fb8-a4bc-14913e300686",
   "metadata": {},
   "outputs": [
    {
     "data": {
      "text/plain": [
       "71921840 bytes"
      ]
     },
     "metadata": {},
     "output_type": "display_data"
    }
   ],
   "source": [
    "object.size(load1@models)"
   ]
  },
  {
   "cell_type": "code",
   "execution_count": 14,
   "id": "8d1e492a-f84b-4dfa-b5c7-2e6416328a09",
   "metadata": {},
   "outputs": [
    {
     "data": {
      "text/plain": [
       "71934224 bytes"
      ]
     },
     "metadata": {},
     "output_type": "display_data"
    }
   ],
   "source": [
    "object.size(load2@models)"
   ]
  },
  {
   "cell_type": "code",
   "execution_count": 15,
   "id": "38c7d230-a6c1-4e64-8291-e5dff9d85c0c",
   "metadata": {},
   "outputs": [
    {
     "data": {
      "text/html": [
       "'libd_chr1-chr1_AA-libd_chr1-chr1_AA-128982-148981-dynamic-1corestotal-allcorepera-20240415-110821'"
      ],
      "text/latex": [
       "'libd\\_chr1-chr1\\_AA-libd\\_chr1-chr1\\_AA-128982-148981-dynamic-1corestotal-allcorepera-20240415-110821'"
      ],
      "text/markdown": [
       "'libd_chr1-chr1_AA-libd_chr1-chr1_AA-128982-148981-dynamic-1corestotal-allcorepera-20240415-110821'"
      ],
      "text/plain": [
       "[1] \"libd_chr1-chr1_AA-libd_chr1-chr1_AA-128982-148981-dynamic-1corestotal-allcorepera-20240415-110821\""
      ]
     },
     "metadata": {},
     "output_type": "display_data"
    }
   ],
   "source": [
    "load1@scaffoldIdentifier"
   ]
  },
  {
   "cell_type": "code",
   "execution_count": 16,
   "id": "224de216-9e62-4a53-bec3-4183b4603bdf",
   "metadata": {},
   "outputs": [
    {
     "data": {
      "text/html": [
       "'libd_chr1-chr1_AA-libd_chr1-chr1_AA-128982-148981-dynamic-1corestotal-allcorepera-20240410-231433'"
      ],
      "text/latex": [
       "'libd\\_chr1-chr1\\_AA-libd\\_chr1-chr1\\_AA-128982-148981-dynamic-1corestotal-allcorepera-20240410-231433'"
      ],
      "text/markdown": [
       "'libd_chr1-chr1_AA-libd_chr1-chr1_AA-128982-148981-dynamic-1corestotal-allcorepera-20240410-231433'"
      ],
      "text/plain": [
       "[1] \"libd_chr1-chr1_AA-libd_chr1-chr1_AA-128982-148981-dynamic-1corestotal-allcorepera-20240410-231433\""
      ]
     },
     "metadata": {},
     "output_type": "display_data"
    }
   ],
   "source": [
    "load2@scaffoldIdentifier"
   ]
  },
  {
   "cell_type": "code",
   "execution_count": 17,
   "id": "6acf0116-e660-46de-bcd3-9f2b66fe7ed5",
   "metadata": {},
   "outputs": [
    {
     "data": {
      "text/html": [
       "20000"
      ],
      "text/latex": [
       "20000"
      ],
      "text/markdown": [
       "20000"
      ],
      "text/plain": [
       "[1] 20000"
      ]
     },
     "metadata": {},
     "output_type": "display_data"
    }
   ],
   "source": [
    "length(load1@models)"
   ]
  },
  {
   "cell_type": "code",
   "execution_count": 18,
   "id": "ad66b554-bdd9-41cc-9d1c-2c8ee882e43c",
   "metadata": {},
   "outputs": [
    {
     "data": {
      "text/html": [
       "20000"
      ],
      "text/latex": [
       "20000"
      ],
      "text/markdown": [
       "20000"
      ],
      "text/plain": [
       "[1] 20000"
      ]
     },
     "metadata": {},
     "output_type": "display_data"
    }
   ],
   "source": [
    "length(load2@models)"
   ]
  },
  {
   "cell_type": "code",
   "execution_count": 27,
   "id": "a125f9da-c7c7-4a0d-8272-d8f2232791d8",
   "metadata": {},
   "outputs": [
    {
     "name": "stdout",
     "output_type": "stream",
     "text": [
      "[1] \"The maximum length of snpWeights is 30, found in MethylationBase object at index 12838.\"\n"
     ]
    }
   ],
   "source": [
    "# Assuming load1 is your S4 object and already loaded\n",
    "\n",
    "# Initialize a variable to keep track of the maximum length\n",
    "max_length <- 0\n",
    "\n",
    "# Initialize a variable to keep track of the index of the max length\n",
    "max_index <- 0\n",
    "\n",
    "# Loop through each MethylationBase object in the models list\n",
    "for (i in seq_along(load1@models)) {\n",
    "  # Retrieve the snpWeights slot\n",
    "  snp_weights <- slot(load1@models[[i]], \"snpWeights\")\n",
    "  \n",
    "  # Calculate the length of the snpWeights\n",
    "  current_length <- length(snp_weights)\n",
    "  \n",
    "  # Check if this is the maximum we have seen so far\n",
    "  if (current_length > max_length) {\n",
    "    max_length <- current_length\n",
    "    max_index <- i\n",
    "  }\n",
    "}\n",
    "\n",
    "# Output the maximum length and the index of the object with this maximum length\n",
    "print(sprintf(\"The maximum length of snpWeights is %d, found in MethylationBase object at index %d.\", max_length, max_index))\n"
   ]
  },
  {
   "cell_type": "code",
   "execution_count": 28,
   "id": "d217ecef-b32d-4da2-b39d-c322db43f67b",
   "metadata": {},
   "outputs": [
    {
     "data": {
      "text/plain": [
       "An object of class \"MethylationBase\"\n",
       "Slot \"methylationPosition\":\n",
       "[1] 6765666\n",
       "\n",
       "Slot \"windowSize\":\n",
       "[1] 10000\n",
       "\n",
       "Slot \"n_SNPs\":\n",
       "[1] 57\n",
       "\n",
       "Slot \"glmnetModel\":\n",
       "NULL\n",
       "\n",
       "Slot \"snpWeights\":\n",
       "chr1:6758613:G:C chr1:6758659:T:C chr1:6759925:G:T chr1:6759951:C:G \n",
       "   -4.002628e-04    -5.742564e-05    -6.830985e-05    -7.361471e-05 \n",
       "chr1:6760497:G:C chr1:6760824:A:G chr1:6761125:G:A chr1:6761930:A:G \n",
       "   -2.483402e-03    -7.370850e-05    -7.249766e-05    -3.123098e-04 \n",
       "chr1:6762175:C:T chr1:6762567:C:G chr1:6763863:A:G chr1:6764857:G:A \n",
       "   -2.845316e-04    -4.469622e-04    -4.228544e-04    -4.092890e-04 \n",
       "chr1:6765369:C:T chr1:6766511:G:C chr1:6766528:C:T chr1:6766543:T:C \n",
       "   -3.951537e-04    -3.589909e-04    -4.328869e-04    -3.919237e-04 \n",
       "chr1:6766845:G:A chr1:6767023:G:A chr1:6767351:C:T chr1:6767793:T:C \n",
       "   -3.659326e-04    -1.635437e-04    -2.999189e-04    -3.367436e-04 \n",
       "chr1:6768120:A:T chr1:6768548:A:G chr1:6768765:G:C chr1:6768890:G:A \n",
       "   -3.533991e-04    -5.789369e-04    -4.302757e-04    -4.935109e-04 \n",
       "chr1:6769183:T:C chr1:6769522:C:A chr1:6771002:C:G chr1:6771586:G:A \n",
       "   -3.526352e-04    -3.645956e-04    -9.697067e-04    -3.883611e-04 \n",
       "chr1:6771992:G:A chr1:6775141:T:C \n",
       "   -5.757102e-04    -2.305386e-03 \n",
       "\n",
       "Slot \"intercept\":\n",
       "        s0 \n",
       "0.01322388 \n",
       "\n",
       "Slot \"alpha\":\n",
       "[1] 0.5\n",
       "\n",
       "Slot \"lambda\":\n",
       "[1] 0.01604368\n",
       "\n",
       "Slot \"evaluation_results\":\n",
       "         cor          mse \n",
       "0.6186830226 0.0005123037 \n",
       "\n",
       "Slot \"cv_eval_mode\":\n",
       "[1] \"dynamic\"\n",
       "\n",
       "Slot \"full_model_metrics\":\n",
       "           r          mse \n",
       "0.6477439803 0.0005100953 \n"
      ]
     },
     "metadata": {},
     "output_type": "display_data"
    }
   ],
   "source": [
    "load1@models[[12838]]"
   ]
  },
  {
   "cell_type": "code",
   "execution_count": 29,
   "id": "adf2d3b5-f001-4bf6-bc51-7ad806128a13",
   "metadata": {},
   "outputs": [
    {
     "data": {
      "text/plain": [
       "An object of class \"MethylationBase\"\n",
       "Slot \"methylationPosition\":\n",
       "[1] 6765666\n",
       "\n",
       "Slot \"windowSize\":\n",
       "[1] 10000\n",
       "\n",
       "Slot \"n_SNPs\":\n",
       "[1] 57\n",
       "\n",
       "Slot \"glmnetModel\":\n",
       "NULL\n",
       "\n",
       "Slot \"snpWeights\":\n",
       "chr1:6758613:G:C chr1:6758659:T:C chr1:6759925:G:T chr1:6759951:C:G \n",
       "   -5.767835e-04    -1.595367e-04    -1.706447e-04    -1.716054e-04 \n",
       "chr1:6760497:G:C chr1:6760824:A:G chr1:6761125:G:A chr1:6761930:A:G \n",
       "   -2.499680e-03    -7.769632e-05    -6.264114e-05    -2.523599e-04 \n",
       "chr1:6762175:C:T chr1:6762567:C:G chr1:6763863:A:G chr1:6764857:G:A \n",
       "   -2.106092e-04    -4.096954e-04    -4.260468e-04    -4.409811e-04 \n",
       "chr1:6765369:C:T chr1:6766511:G:C chr1:6766528:C:T chr1:6766543:T:C \n",
       "   -4.399039e-04    -4.424165e-04    -4.879895e-04    -4.937272e-04 \n",
       "chr1:6766845:G:A chr1:6767023:G:A chr1:6767351:C:T chr1:6767793:T:C \n",
       "   -4.809819e-04    -2.348752e-04    -3.525477e-04    -3.597004e-04 \n",
       "chr1:6768120:A:T chr1:6768548:A:G chr1:6768765:G:C chr1:6768890:G:A \n",
       "   -3.637829e-04    -6.467763e-04    -4.732432e-04    -5.801529e-04 \n",
       "chr1:6769183:T:C chr1:6769522:C:A chr1:6771002:C:G chr1:6771586:G:A \n",
       "   -3.595536e-04    -4.246845e-04    -1.170112e-03    -4.986910e-04 \n",
       "chr1:6771992:G:A chr1:6775141:T:C \n",
       "   -5.828894e-04    -2.527558e-03 \n",
       "\n",
       "Slot \"intercept\":\n",
       "       s0 \n",
       "0.0146108 \n",
       "\n",
       "Slot \"alpha\":\n",
       "[1] 0.5\n",
       "\n",
       "Slot \"lambda\":\n",
       "[1] 0.0146184\n",
       "\n",
       "Slot \"evaluation_results\":\n",
       "         cor          mse \n",
       "0.6018109035 0.0005156976 \n",
       "\n",
       "Slot \"cv_eval_mode\":\n",
       "[1] \"dynamic\"\n",
       "\n",
       "Slot \"full_model_metrics\":\n",
       "           r          mse \n",
       "0.6489196206 0.0004938085 \n"
      ]
     },
     "metadata": {},
     "output_type": "display_data"
    }
   ],
   "source": [
    "load2@models[[12838]]"
   ]
  },
  {
   "cell_type": "code",
   "execution_count": 23,
   "id": "739041bd-7443-4096-b603-1c4a8af3e452",
   "metadata": {},
   "outputs": [
    {
     "data": {
      "text/plain": [
       "An object of class \"MethylationBase\"\n",
       "Slot \"methylationPosition\":\n",
       "[1] 6250433\n",
       "\n",
       "Slot \"windowSize\":\n",
       "[1] 10000\n",
       "\n",
       "Slot \"n_SNPs\":\n",
       "[1] 35\n",
       "\n",
       "Slot \"glmnetModel\":\n",
       "NULL\n",
       "\n",
       "Slot \"snpWeights\":\n",
       "chr1:6241222:A:G \n",
       "    2.296439e-18 \n",
       "\n",
       "Slot \"intercept\":\n",
       "         s0 \n",
       "2.73781e-15 \n",
       "\n",
       "Slot \"alpha\":\n",
       "[1] 0.5\n",
       "\n",
       "Slot \"lambda\":\n",
       "[1] 0.0102915\n",
       "\n",
       "Slot \"evaluation_results\":\n",
       "         cor          mse \n",
       "-0.114110124  0.003031925 \n",
       "\n",
       "Slot \"cv_eval_mode\":\n",
       "[1] \"dynamic\"\n",
       "\n",
       "Slot \"full_model_metrics\":\n",
       "         r        mse \n",
       "0.09383326 0.00300735 \n"
      ]
     },
     "metadata": {},
     "output_type": "display_data"
    }
   ],
   "source": [
    "load2@models[[150]]"
   ]
  },
  {
   "cell_type": "code",
   "execution_count": null,
   "id": "43a21a18-793c-4b7a-b4b3-eb209ffd77c3",
   "metadata": {},
   "outputs": [],
   "source": []
  },
  {
   "cell_type": "code",
   "execution_count": 30,
   "id": "5ef8099c-ae8a-4265-a342-56566bd9f068",
   "metadata": {},
   "outputs": [],
   "source": [
    "i <- 2"
   ]
  },
  {
   "cell_type": "code",
   "execution_count": 31,
   "id": "d09586f9-12a0-43cf-9486-8cab9ed17afd",
   "metadata": {},
   "outputs": [],
   "source": [
    "load1 <- readRDS(files$path.x[i])\n",
    "load2 <- readRDS(files$path.y[i])"
   ]
  },
  {
   "cell_type": "code",
   "execution_count": 32,
   "id": "31ec572f-ba65-4e8f-9db7-45b432863f4b",
   "metadata": {},
   "outputs": [
    {
     "data": {
      "text/plain": [
       "73467640 bytes"
      ]
     },
     "metadata": {},
     "output_type": "display_data"
    }
   ],
   "source": [
    "object.size(load1)"
   ]
  },
  {
   "cell_type": "code",
   "execution_count": 33,
   "id": "24c62d3d-7f79-41ec-bcef-48bbd9ff8d58",
   "metadata": {},
   "outputs": [
    {
     "data": {
      "text/plain": [
       "73478536 bytes"
      ]
     },
     "metadata": {},
     "output_type": "display_data"
    }
   ],
   "source": [
    "object.size(load2)"
   ]
  },
  {
   "cell_type": "code",
   "execution_count": 34,
   "id": "78e4112c-678c-4904-98aa-95f8df188c03",
   "metadata": {},
   "outputs": [
    {
     "name": "stderr",
     "output_type": "stream",
     "text": [
      "Warning message in compare_S4_objects(load1, load2):\n",
      "“Slot 'scaffoldIdentifier' does not match between the two objects.”\n",
      "Warning message in compare_S4_objects(load1, load2):\n",
      "“Slot 'models' does not match between the two objects.”\n"
     ]
    }
   ],
   "source": [
    "# Function to compare two S4 objects\n",
    "compare_S4_objects <- function(obj1, obj2) {\n",
    "  # Retrieve the names of the slots from the first object\n",
    "  slot_names <- slotNames(obj1)\n",
    "  \n",
    "  # Loop through each slot and compare\n",
    "  for (slot_name in slot_names) {\n",
    "    # Extract the slots from both objects\n",
    "    slot1 <- slot(obj1, slot_name)\n",
    "    slot2 <- slot(obj2, slot_name)\n",
    "    \n",
    "    # Check if the slots are identical\n",
    "    if (!identical(slot1, slot2)) {\n",
    "      # Print a warning if they are not identical\n",
    "      warning(sprintf(\"Slot '%s' does not match between the two objects.\", slot_name))\n",
    "    }\n",
    "  }\n",
    "}\n",
    "\n",
    "# Call the function to compare the two objects\n",
    "compare_S4_objects(load1, load2)\n"
   ]
  },
  {
   "cell_type": "code",
   "execution_count": 35,
   "id": "a00a9d73-dbbc-4163-b169-930b8f188362",
   "metadata": {},
   "outputs": [
    {
     "data": {
      "text/plain": [
       "73466656 bytes"
      ]
     },
     "metadata": {},
     "output_type": "display_data"
    }
   ],
   "source": [
    "object.size(load1@models)"
   ]
  },
  {
   "cell_type": "code",
   "execution_count": 36,
   "id": "4b311328-5e87-43ee-878d-9688275e9851",
   "metadata": {},
   "outputs": [
    {
     "data": {
      "text/plain": [
       "73477552 bytes"
      ]
     },
     "metadata": {},
     "output_type": "display_data"
    }
   ],
   "source": [
    "object.size(load2@models)"
   ]
  },
  {
   "cell_type": "code",
   "execution_count": 37,
   "id": "071d8d69-34b0-4ba6-9b3c-39d5eb2cdf6b",
   "metadata": {},
   "outputs": [
    {
     "data": {
      "text/html": [
       "'libd_chr1-chr1_AA-libd_chr1-chr1_AA-148982-168981-dynamic-1corestotal-allcorepera-20240415-111221'"
      ],
      "text/latex": [
       "'libd\\_chr1-chr1\\_AA-libd\\_chr1-chr1\\_AA-148982-168981-dynamic-1corestotal-allcorepera-20240415-111221'"
      ],
      "text/markdown": [
       "'libd_chr1-chr1_AA-libd_chr1-chr1_AA-148982-168981-dynamic-1corestotal-allcorepera-20240415-111221'"
      ],
      "text/plain": [
       "[1] \"libd_chr1-chr1_AA-libd_chr1-chr1_AA-148982-168981-dynamic-1corestotal-allcorepera-20240415-111221\""
      ]
     },
     "metadata": {},
     "output_type": "display_data"
    }
   ],
   "source": [
    "load1@scaffoldIdentifier"
   ]
  },
  {
   "cell_type": "code",
   "execution_count": 38,
   "id": "aa0091c9-aa36-44c6-9600-b83b426699ec",
   "metadata": {},
   "outputs": [
    {
     "data": {
      "text/html": [
       "'libd_chr1-chr1_AA-libd_chr1-chr1_AA-148982-168981-dynamic-1corestotal-allcorepera-20240410-231833'"
      ],
      "text/latex": [
       "'libd\\_chr1-chr1\\_AA-libd\\_chr1-chr1\\_AA-148982-168981-dynamic-1corestotal-allcorepera-20240410-231833'"
      ],
      "text/markdown": [
       "'libd_chr1-chr1_AA-libd_chr1-chr1_AA-148982-168981-dynamic-1corestotal-allcorepera-20240410-231833'"
      ],
      "text/plain": [
       "[1] \"libd_chr1-chr1_AA-libd_chr1-chr1_AA-148982-168981-dynamic-1corestotal-allcorepera-20240410-231833\""
      ]
     },
     "metadata": {},
     "output_type": "display_data"
    }
   ],
   "source": [
    "load2@scaffoldIdentifier"
   ]
  },
  {
   "cell_type": "code",
   "execution_count": 39,
   "id": "1426a14b-907b-4e33-897d-489f71bf9730",
   "metadata": {},
   "outputs": [
    {
     "data": {
      "text/html": [
       "20000"
      ],
      "text/latex": [
       "20000"
      ],
      "text/markdown": [
       "20000"
      ],
      "text/plain": [
       "[1] 20000"
      ]
     },
     "metadata": {},
     "output_type": "display_data"
    }
   ],
   "source": [
    "length(load1@models)"
   ]
  },
  {
   "cell_type": "code",
   "execution_count": 40,
   "id": "c9dfcc1e-fd09-4ae3-bdc1-4410d5006069",
   "metadata": {},
   "outputs": [
    {
     "data": {
      "text/html": [
       "20000"
      ],
      "text/latex": [
       "20000"
      ],
      "text/markdown": [
       "20000"
      ],
      "text/plain": [
       "[1] 20000"
      ]
     },
     "metadata": {},
     "output_type": "display_data"
    }
   ],
   "source": [
    "length(load2@models)"
   ]
  },
  {
   "cell_type": "code",
   "execution_count": 41,
   "id": "8df34ac7-35d3-4c80-aa05-3fa52d59d67f",
   "metadata": {},
   "outputs": [
    {
     "name": "stdout",
     "output_type": "stream",
     "text": [
      "[1] \"The maximum length of snpWeights is 42, found in MethylationBase object at index 9441.\"\n"
     ]
    }
   ],
   "source": [
    "# Assuming load1 is your S4 object and already loaded\n",
    "\n",
    "# Initialize a variable to keep track of the maximum length\n",
    "max_length <- 0\n",
    "\n",
    "# Initialize a variable to keep track of the index of the max length\n",
    "max_index <- 0\n",
    "\n",
    "# Loop through each MethylationBase object in the models list\n",
    "for (i in seq_along(load1@models)) {\n",
    "  # Retrieve the snpWeights slot\n",
    "  snp_weights <- slot(load1@models[[i]], \"snpWeights\")\n",
    "  \n",
    "  # Calculate the length of the snpWeights\n",
    "  current_length <- length(snp_weights)\n",
    "  \n",
    "  # Check if this is the maximum we have seen so far\n",
    "  if (current_length > max_length) {\n",
    "    max_length <- current_length\n",
    "    max_index <- i\n",
    "  }\n",
    "}\n",
    "\n",
    "# Output the maximum length and the index of the object with this maximum length\n",
    "print(sprintf(\"The maximum length of snpWeights is %d, found in MethylationBase object at index %d.\", max_length, max_index))\n"
   ]
  },
  {
   "cell_type": "code",
   "execution_count": 42,
   "id": "2348a35a-38d6-4d95-aeb0-3168e20df8ff",
   "metadata": {},
   "outputs": [
    {
     "data": {
      "text/plain": [
       "An object of class \"MethylationBase\"\n",
       "Slot \"methylationPosition\":\n",
       "[1] 7886848\n",
       "\n",
       "Slot \"windowSize\":\n",
       "[1] 10000\n",
       "\n",
       "Slot \"n_SNPs\":\n",
       "[1] 68\n",
       "\n",
       "Slot \"glmnetModel\":\n",
       "NULL\n",
       "\n",
       "Slot \"snpWeights\":\n",
       "chr1:7878274:A:G chr1:7878505:T:C chr1:7878588:G:A chr1:7879863:T:A \n",
       "   -9.855802e-03    -3.178530e-03    -9.859975e-03    -6.907633e-04 \n",
       "chr1:7881138:T:A chr1:7881299:G:T chr1:7881411:C:T chr1:7881704:C:A \n",
       "    5.605422e-03     5.434287e-03     5.287085e-03    -2.232658e-03 \n",
       "chr1:7881792:T:G chr1:7882061:G:A chr1:7882313:C:A chr1:7882742:A:C \n",
       "    5.754474e-03    -2.151165e-03    -2.148790e-03    -8.946969e-04 \n",
       "chr1:7883404:G:A chr1:7884204:A:G chr1:7884976:G:A chr1:7885949:T:G \n",
       "    5.471080e-03     1.276794e-03    -2.353135e-03    -1.528124e-03 \n",
       "chr1:7886101:C:T chr1:7886381:G:A chr1:7886544:A:T chr1:7886759:G:A \n",
       "   -1.492671e-02     1.598304e-03    -3.477680e-02     2.197715e-03 \n",
       "chr1:7886771:G:A chr1:7886907:G:A chr1:7889088:A:G chr1:7889193:G:A \n",
       "    3.513026e-03     4.665218e-03     7.283167e-03     3.944971e-03 \n",
       "chr1:7889607:C:A chr1:7889992:G:A chr1:7890179:C:T chr1:7890788:C:T \n",
       "    2.400673e-03     1.796421e-02    -5.372943e-03    -9.685776e-04 \n",
       "chr1:7892143:A:G chr1:7892290:C:T chr1:7892344:G:C chr1:7892367:G:A \n",
       "   -4.952878e-05     7.362356e-03    -7.327380e-03    -8.524910e-03 \n",
       "chr1:7892700:C:T chr1:7892739:G:A chr1:7893386:G:A chr1:7893973:G:A \n",
       "   -8.960777e-03     1.424097e-03     1.541588e-03    -2.039519e-02 \n",
       "chr1:7894587:C:T chr1:7895191:A:G chr1:7895210:A:T chr1:7895226:A:G \n",
       "   -6.491982e-04    -6.260625e-04    -6.182989e-04     9.082744e-03 \n",
       "chr1:7896039:A:G chr1:7896573:T:C \n",
       "    4.767047e-03     4.620158e-03 \n",
       "\n",
       "Slot \"intercept\":\n",
       "        s0 \n",
       "0.02276398 \n",
       "\n",
       "Slot \"alpha\":\n",
       "[1] 0.5\n",
       "\n",
       "Slot \"lambda\":\n",
       "[1] 0.003579752\n",
       "\n",
       "Slot \"evaluation_results\":\n",
       "        cor         mse \n",
       "0.644920649 0.002528506 \n",
       "\n",
       "Slot \"cv_eval_mode\":\n",
       "[1] \"dynamic\"\n",
       "\n",
       "Slot \"full_model_metrics\":\n",
       "          r         mse \n",
       "0.743244898 0.001757369 \n"
      ]
     },
     "metadata": {},
     "output_type": "display_data"
    }
   ],
   "source": [
    "load1@models[[9441]]"
   ]
  },
  {
   "cell_type": "code",
   "execution_count": 43,
   "id": "1ba90a3c-c7ec-4754-a29b-583d15c4e89a",
   "metadata": {},
   "outputs": [
    {
     "data": {
      "text/plain": [
       "An object of class \"MethylationBase\"\n",
       "Slot \"methylationPosition\":\n",
       "[1] 7886848\n",
       "\n",
       "Slot \"windowSize\":\n",
       "[1] 10000\n",
       "\n",
       "Slot \"n_SNPs\":\n",
       "[1] 68\n",
       "\n",
       "Slot \"glmnetModel\":\n",
       "NULL\n",
       "\n",
       "Slot \"snpWeights\":\n",
       "chr1:7878274:A:G chr1:7878588:G:A chr1:7879863:T:A chr1:7881138:T:A \n",
       "   -7.616816e-03    -7.613838e-03    -2.277126e-04     4.318232e-03 \n",
       "chr1:7881299:G:T chr1:7881411:C:T chr1:7881792:T:G chr1:7883404:G:A \n",
       "    4.480587e-03     4.809436e-03     4.655453e-03     4.982642e-03 \n",
       "chr1:7884204:A:G chr1:7886101:C:T chr1:7886544:A:T chr1:7889992:G:A \n",
       "    3.299392e-03    -1.133576e-02    -2.775471e-02     1.337621e-03 \n",
       "chr1:7890179:C:T chr1:7892344:G:C chr1:7892367:G:A chr1:7892700:C:T \n",
       "   -1.038790e-03    -3.724081e-03    -4.001897e-03    -4.385563e-03 \n",
       "chr1:7892739:G:A chr1:7893386:G:A chr1:7893973:G:A chr1:7895226:A:G \n",
       "    2.409860e-03     7.834229e-05    -1.377887e-02     1.409344e-02 \n",
       "chr1:7895444:C:T \n",
       "    4.119275e-03 \n",
       "\n",
       "Slot \"intercept\":\n",
       "        s0 \n",
       "0.02132231 \n",
       "\n",
       "Slot \"alpha\":\n",
       "[1] 0.5\n",
       "\n",
       "Slot \"lambda\":\n",
       "[1] 0.009075977\n",
       "\n",
       "Slot \"evaluation_results\":\n",
       "        cor         mse \n",
       "0.616460397 0.002654996 \n",
       "\n",
       "Slot \"cv_eval_mode\":\n",
       "[1] \"dynamic\"\n",
       "\n",
       "Slot \"full_model_metrics\":\n",
       "          r         mse \n",
       "0.694525265 0.002099788 \n"
      ]
     },
     "metadata": {},
     "output_type": "display_data"
    }
   ],
   "source": [
    "load2@models[[9441]]"
   ]
  },
  {
   "cell_type": "code",
   "execution_count": 44,
   "id": "8fdd38d0-a2f6-4a95-aa9c-93f4886451c5",
   "metadata": {},
   "outputs": [
    {
     "data": {
      "text/plain": [
       "An object of class \"MethylationBase\"\n",
       "Slot \"methylationPosition\":\n",
       "[1] 8551256\n",
       "\n",
       "Slot \"windowSize\":\n",
       "[1] 10000\n",
       "\n",
       "Slot \"n_SNPs\":\n",
       "[1] 24\n",
       "\n",
       "Slot \"glmnetModel\":\n",
       "NULL\n",
       "\n",
       "Slot \"snpWeights\":\n",
       "chr1:8551747:T:G \n",
       "   -1.035401e-17 \n",
       "\n",
       "Slot \"intercept\":\n",
       "          s0 \n",
       "2.083645e-15 \n",
       "\n",
       "Slot \"alpha\":\n",
       "[1] 0.5\n",
       "\n",
       "Slot \"lambda\":\n",
       "[1] 0.01230088\n",
       "\n",
       "Slot \"evaluation_results\":\n",
       "        cor         mse \n",
       "0.059925556 0.001363074 \n",
       "\n",
       "Slot \"cv_eval_mode\":\n",
       "[1] \"dynamic\"\n",
       "\n",
       "Slot \"full_model_metrics\":\n",
       "          r         mse \n",
       "0.168854792 0.001326739 \n"
      ]
     },
     "metadata": {},
     "output_type": "display_data"
    }
   ],
   "source": [
    "load2@models[[20000]]"
   ]
  },
  {
   "cell_type": "code",
   "execution_count": 23,
   "id": "ab92568a-6c24-4a5c-9300-a7ce967d06e6",
   "metadata": {},
   "outputs": [
    {
     "data": {
      "text/plain": [
       "An object of class \"MethylationBase\"\n",
       "Slot \"methylationPosition\":\n",
       "[1] 6250433\n",
       "\n",
       "Slot \"windowSize\":\n",
       "[1] 10000\n",
       "\n",
       "Slot \"n_SNPs\":\n",
       "[1] 35\n",
       "\n",
       "Slot \"glmnetModel\":\n",
       "NULL\n",
       "\n",
       "Slot \"snpWeights\":\n",
       "chr1:6241222:A:G \n",
       "    2.296439e-18 \n",
       "\n",
       "Slot \"intercept\":\n",
       "         s0 \n",
       "2.73781e-15 \n",
       "\n",
       "Slot \"alpha\":\n",
       "[1] 0.5\n",
       "\n",
       "Slot \"lambda\":\n",
       "[1] 0.0102915\n",
       "\n",
       "Slot \"evaluation_results\":\n",
       "         cor          mse \n",
       "-0.114110124  0.003031925 \n",
       "\n",
       "Slot \"cv_eval_mode\":\n",
       "[1] \"dynamic\"\n",
       "\n",
       "Slot \"full_model_metrics\":\n",
       "         r        mse \n",
       "0.09383326 0.00300735 \n"
      ]
     },
     "metadata": {},
     "output_type": "display_data"
    }
   ],
   "source": [
    "load2@models[[150]]"
   ]
  }
 ],
 "metadata": {
  "kernelspec": {
   "display_name": "R",
   "language": "R",
   "name": "ir"
  },
  "language_info": {
   "codemirror_mode": "r",
   "file_extension": ".r",
   "mimetype": "text/x-r-source",
   "name": "R",
   "pygments_lexer": "r",
   "version": "4.3.1"
  }
 },
 "nbformat": 4,
 "nbformat_minor": 5
}
