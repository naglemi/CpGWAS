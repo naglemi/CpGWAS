{
 "cells": [
  {
   "cell_type": "markdown",
   "id": "1bb21c70-970c-4e01-8254-d8375f9397e3",
   "metadata": {},
   "source": [
    "# Evaluate stage 2 MWAS outputs to see which RDS files failed to load"
   ]
  },
  {
   "cell_type": "code",
   "execution_count": 2,
   "id": "756e2ad8-8c20-482e-8681-3b2305aff684",
   "metadata": {},
   "outputs": [
    {
     "name": "stdout",
     "output_type": "stream",
     "text": [
      "ALERT found in ../slurm_scripts/slurm_output_17.out on line 33\n"
     ]
    }
   ],
   "source": [
    "import os\n",
    "\n",
    "# Directory to search for files\n",
    "directory = '../slurm_scripts'\n",
    "\n",
    "# Output file to write the concatenated lines\n",
    "output_file = 'slurm_output_failed_rds_notes.txt'\n",
    "\n",
    "# Collect all file paths containing 'output' in the directory\n",
    "files_with_output = [os.path.join(directory, file) for file in os.listdir(directory) if 'output' in file]\n",
    "\n",
    "# Open the output file for writing\n",
    "with open(output_file, 'w') as outfile:\n",
    "    # Iterate through each file\n",
    "    for file_path in files_with_output:\n",
    "        # Open each file and read line by line\n",
    "        with open(file_path, 'r') as infile:\n",
    "            for line_number, line in enumerate(infile, start=1):\n",
    "                # Check if 'ALERT' is in the line\n",
    "                if 'ALERT' in line:\n",
    "                    # Write the line to the output file\n",
    "                    outfile.write(line)\n",
    "                    # Print the file path and line number where 'ALERT' was found\n",
    "                    print(f'ALERT found in {file_path} on line {line_number}')\n"
   ]
  },
  {
   "cell_type": "code",
   "execution_count": null,
   "id": "07acc695-e787-4d4e-93f2-3232d6401ef6",
   "metadata": {},
   "outputs": [],
   "source": []
  }
 ],
 "metadata": {
  "kernelspec": {
   "display_name": "Python 3 (ipykernel)",
   "language": "python",
   "name": "python3"
  },
  "language_info": {
   "codemirror_mode": {
    "name": "ipython",
    "version": 3
   },
   "file_extension": ".py",
   "mimetype": "text/x-python",
   "name": "python",
   "nbconvert_exporter": "python",
   "pygments_lexer": "ipython3",
   "version": "3.11.7"
  }
 },
 "nbformat": 4,
 "nbformat_minor": 5
}
