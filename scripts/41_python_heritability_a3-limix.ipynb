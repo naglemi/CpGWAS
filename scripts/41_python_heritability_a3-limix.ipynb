{
 "cells": [
  {
   "cell_type": "markdown",
   "id": "99ae475a-ef49-491a-a7dd-a19b1d65783a",
   "metadata": {},
   "source": [
    "# 41. Python version of heritability analysis"
   ]
  },
  {
   "cell_type": "markdown",
   "id": "b3b4e831-03e5-4fd2-b64c-470f363f7df8",
   "metadata": {},
   "source": [
    "Note here we set `df_row` to 0 because we're just testing code on first row"
   ]
  },
  {
   "cell_type": "code",
   "execution_count": null,
   "id": "4958e2ec-5b79-4aca-b916-a3b24a32c2c3",
   "metadata": {},
   "outputs": [],
   "source": [
    "a3 try using limix, which fails because of pandas version conflict"
   ]
  },
  {
   "cell_type": "code",
   "execution_count": null,
   "id": "97359ab6-2b6e-4cc9-b4d8-a7f893806670",
   "metadata": {},
   "outputs": [],
   "source": []
  },
  {
   "cell_type": "code",
   "execution_count": 3,
   "id": "841e9fbd-b451-412f-bd0a-f69d254f3582",
   "metadata": {},
   "outputs": [],
   "source": [
    "import pandas"
   ]
  },
  {
   "cell_type": "code",
   "execution_count": null,
   "id": "56abe3a4-8a40-4fe6-9384-d446aea034f7",
   "metadata": {},
   "outputs": [],
   "source": []
  },
  {
   "cell_type": "code",
   "execution_count": 5,
   "id": "5c303c15-103e-4c91-ac38-0a57170b6584",
   "metadata": {},
   "outputs": [
    {
     "data": {
      "text/plain": [
       "'2.2.2'"
      ]
     },
     "execution_count": 5,
     "metadata": {},
     "output_type": "execute_result"
    }
   ],
   "source": [
    "pandas.__version__"
   ]
  },
  {
   "cell_type": "code",
   "execution_count": 1,
   "id": "091f9bd7-177e-463d-a17e-2be4eb1132b6",
   "metadata": {},
   "outputs": [
    {
     "name": "stdout",
     "output_type": "stream",
     "text": [
      "Output directory set to: ./41-OUT_heritability_a1\n",
      "Metadata loaded from '/dcs04/lieber/statsgen/mnagle/mwas/CpGWAS/scripts/09.5-OUT_matched_SNP_meth_cov_chunked_JHPCE.csv'.\n",
      "Genotype Directory: /dcs04/lieber/statsgen/shizhong/michael/mwas/gwas\n",
      "Methylation File: /dcs04/lieber/statsgen/mnagle/mwas/pheno/caud/out/chr1_AA_8982-28981.csv\n",
      "Methylation data loaded from '/dcs04/lieber/statsgen/mnagle/mwas/pheno/caud/out/chr1_AA_8982-28981.csv'.\n",
      "'sample_id' column confirmed and converted to string.\n",
      "CpG positions extracted from column names.\n",
      "Selected CpG Columns: ['pos_1069461', 'pos_1069467', 'pos_1069470', 'pos_1069477', 'pos_1069484', 'pos_1069498', 'pos_1069506', 'pos_1069516', 'pos_1069530', 'pos_1069533', 'pos_1069539', 'pos_1069544', 'pos_1069569', 'pos_1069573', 'pos_1069591', 'pos_1069599', 'pos_1069601', 'pos_1069603', 'pos_1069613', 'pos_1069626', 'pos_1069629', 'pos_1069635', 'pos_1069637', 'pos_1069645', 'pos_1069651', 'pos_1069653', 'pos_1069669', 'pos_1069682', 'pos_1069691', 'pos_1069693', 'pos_1069697', 'pos_1069699', 'pos_1069707', 'pos_1069715', 'pos_1069720', 'pos_1069778', 'pos_1069790', 'pos_1069800', 'pos_1069810', 'pos_1069819', 'pos_1069829', 'pos_1069831', 'pos_1069835', 'pos_1069846', 'pos_1069855', 'pos_1069859', 'pos_1069874', 'pos_1069882', 'pos_1069890', 'pos_1069906']\n",
      "Selected CpG Positions: [1069461, 1069467, 1069470, 1069477, 1069484, 1069498, 1069506, 1069516, 1069530, 1069533, 1069539, 1069544, 1069569, 1069573, 1069591, 1069599, 1069601, 1069603, 1069613, 1069626, 1069629, 1069635, 1069637, 1069645, 1069651, 1069653, 1069669, 1069682, 1069691, 1069693, 1069697, 1069699, 1069707, 1069715, 1069720, 1069778, 1069790, 1069800, 1069810, 1069819, 1069829, 1069831, 1069835, 1069846, 1069855, 1069859, 1069874, 1069882, 1069890, 1069906]\n",
      "\n",
      "Processing CpG site 1: pos_1069461 at position 1069461\n",
      "Number of samples with non-missing methylation data: 164\n",
      "Genomic window: 1059461 - 1079461 bp\n",
      "All necessary PLINK 2 files found.\n",
      "Genotype sample IDs loaded from .psam file.\n",
      "Number of matching samples: 164\n",
      "SNP positions loaded from .pvar file.\n",
      "Number of SNPs within the window: 1\n",
      "PgenReader initialized.\n",
      "Genotype data successfully read and stored in buffer.\n",
      "Genotype reading time: 0.00 seconds\n",
      "Missing genotype data detected. Imputing missing values with mean genotype.\n",
      "  Imputed missing values for SNP 1 with mean genotype 0.69.\n",
      "Only one SNP in window; skipping heritability estimation.\n",
      "\n",
      "Processing CpG site 2: pos_1069467 at position 1069467\n",
      "Number of samples with non-missing methylation data: 164\n",
      "Genomic window: 1059467 - 1079467 bp\n",
      "All necessary PLINK 2 files found.\n",
      "Genotype sample IDs loaded from .psam file.\n",
      "Number of matching samples: 164\n",
      "SNP positions loaded from .pvar file.\n",
      "Number of SNPs within the window: 1\n",
      "PgenReader initialized.\n",
      "Genotype data successfully read and stored in buffer.\n",
      "Genotype reading time: 0.00 seconds\n",
      "Missing genotype data detected. Imputing missing values with mean genotype.\n",
      "  Imputed missing values for SNP 1 with mean genotype 0.69.\n",
      "Only one SNP in window; skipping heritability estimation.\n",
      "\n",
      "Processing CpG site 3: pos_1069470 at position 1069470\n",
      "Number of samples with non-missing methylation data: 164\n",
      "Genomic window: 1059470 - 1079470 bp\n",
      "All necessary PLINK 2 files found.\n",
      "Genotype sample IDs loaded from .psam file.\n",
      "Number of matching samples: 164\n",
      "SNP positions loaded from .pvar file.\n",
      "Number of SNPs within the window: 1\n",
      "PgenReader initialized.\n",
      "Genotype data successfully read and stored in buffer.\n",
      "Genotype reading time: 0.00 seconds\n",
      "Missing genotype data detected. Imputing missing values with mean genotype.\n",
      "  Imputed missing values for SNP 1 with mean genotype 0.69.\n",
      "Only one SNP in window; skipping heritability estimation.\n",
      "\n",
      "Processing CpG site 4: pos_1069477 at position 1069477\n",
      "Number of samples with non-missing methylation data: 164\n",
      "Genomic window: 1059477 - 1079477 bp\n",
      "All necessary PLINK 2 files found.\n",
      "Genotype sample IDs loaded from .psam file.\n",
      "Number of matching samples: 164\n",
      "SNP positions loaded from .pvar file.\n",
      "Number of SNPs within the window: 1\n",
      "PgenReader initialized.\n",
      "Genotype data successfully read and stored in buffer.\n",
      "Genotype reading time: 0.00 seconds\n",
      "Missing genotype data detected. Imputing missing values with mean genotype.\n",
      "  Imputed missing values for SNP 1 with mean genotype 0.69.\n",
      "Only one SNP in window; skipping heritability estimation.\n",
      "\n",
      "Processing CpG site 5: pos_1069484 at position 1069484\n",
      "Number of samples with non-missing methylation data: 164\n",
      "Genomic window: 1059484 - 1079484 bp\n",
      "All necessary PLINK 2 files found.\n",
      "Genotype sample IDs loaded from .psam file.\n",
      "Number of matching samples: 164\n",
      "SNP positions loaded from .pvar file.\n",
      "Number of SNPs within the window: 2\n",
      "PgenReader initialized.\n",
      "Genotype data successfully read and stored in buffer.\n",
      "Genotype reading time: 0.00 seconds\n",
      "Missing genotype data detected. Imputing missing values with mean genotype.\n",
      "  Imputed missing values for SNP 1 with mean genotype 0.69.\n",
      "  Imputed missing values for SNP 2 with mean genotype 0.96.\n",
      "Standardizing genotype data.\n",
      "Genotype data standardized.\n",
      "Computing kinship matrix.\n",
      "Kinship matrix computed.\n",
      "Kinship computation time: 0.00 seconds\n",
      "Kinship matrix normalized.\n",
      "Estimating heritability with likelihood: 'normal'\n"
     ]
    },
    {
     "data": {
      "text/html": [
       "<pre><b><span style='color:#0C68C7'>============================= Heritability analysis starts =============================</span></b></pre>"
      ],
      "text/plain": [
       "============================= Heritability analysis starts ============================="
      ]
     },
     "metadata": {},
     "output_type": "display_data"
    },
    {
     "name": "stdout",
     "output_type": "stream",
     "text": [
      "Normalising input...\n",
      "\u001b[1A\u001b[20C"
     ]
    },
    {
     "data": {
      "text/html": [
       "<pre><b><span style='color:#FF3534'>failed</span></b> (0.49 seconds).</pre>"
      ],
      "text/plain": [
       "failed (0.49 seconds)."
      ]
     },
     "metadata": {},
     "output_type": "display_data"
    },
    {
     "data": {
      "text/html": [
       "<pre><b><span style='color:#FF3534'>===================== Heritability analysis fails in 0.50 seconds ======================</span></b></pre>"
      ],
      "text/plain": [
       "===================== Heritability analysis fails in 0.50 seconds ======================"
      ]
     },
     "metadata": {},
     "output_type": "display_data"
    },
    {
     "name": "stdout",
     "output_type": "stream",
     "text": [
      "Heritability estimation failed: No module named 'pandas.core.index'. Skipping this CpG site.\n",
      "\n",
      "Processing CpG site 6: pos_1069498 at position 1069498\n",
      "Number of samples with non-missing methylation data: 164\n",
      "Genomic window: 1059498 - 1079498 bp\n",
      "All necessary PLINK 2 files found.\n",
      "Genotype sample IDs loaded from .psam file.\n",
      "Number of matching samples: 164\n",
      "SNP positions loaded from .pvar file.\n",
      "Number of SNPs within the window: 2\n",
      "PgenReader initialized.\n",
      "Genotype data successfully read and stored in buffer.\n",
      "Genotype reading time: 0.00 seconds\n",
      "Missing genotype data detected. Imputing missing values with mean genotype.\n",
      "  Imputed missing values for SNP 1 with mean genotype 0.69.\n",
      "  Imputed missing values for SNP 2 with mean genotype 0.96.\n",
      "Standardizing genotype data.\n",
      "Genotype data standardized.\n",
      "Computing kinship matrix.\n",
      "Kinship matrix computed.\n",
      "Kinship computation time: 0.00 seconds\n",
      "Kinship matrix normalized.\n",
      "Estimating heritability with likelihood: 'normal'\n"
     ]
    },
    {
     "data": {
      "text/html": [
       "<pre><b><span style='color:#0C68C7'>============================= Heritability analysis starts =============================</span></b></pre>"
      ],
      "text/plain": [
       "============================= Heritability analysis starts ============================="
      ]
     },
     "metadata": {},
     "output_type": "display_data"
    },
    {
     "name": "stdout",
     "output_type": "stream",
     "text": [
      "Normalising input...\n",
      "\u001b[1A\u001b[20C"
     ]
    },
    {
     "data": {
      "text/html": [
       "<pre><b><span style='color:#FF3534'>failed</span></b> (0.01 seconds).</pre>"
      ],
      "text/plain": [
       "failed (0.01 seconds)."
      ]
     },
     "metadata": {},
     "output_type": "display_data"
    },
    {
     "data": {
      "text/html": [
       "<pre><b><span style='color:#FF3534'>===================== Heritability analysis fails in 0.01 seconds ======================</span></b></pre>"
      ],
      "text/plain": [
       "===================== Heritability analysis fails in 0.01 seconds ======================"
      ]
     },
     "metadata": {},
     "output_type": "display_data"
    },
    {
     "name": "stdout",
     "output_type": "stream",
     "text": [
      "Heritability estimation failed: No module named 'pandas.core.index'. Skipping this CpG site.\n",
      "\n",
      "Processing CpG site 7: pos_1069506 at position 1069506\n",
      "Number of samples with non-missing methylation data: 164\n",
      "Genomic window: 1059506 - 1079506 bp\n",
      "All necessary PLINK 2 files found.\n",
      "Genotype sample IDs loaded from .psam file.\n",
      "Number of matching samples: 164\n",
      "SNP positions loaded from .pvar file.\n",
      "Number of SNPs within the window: 2\n",
      "PgenReader initialized.\n",
      "Genotype data successfully read and stored in buffer.\n",
      "Genotype reading time: 0.00 seconds\n",
      "Missing genotype data detected. Imputing missing values with mean genotype.\n",
      "  Imputed missing values for SNP 1 with mean genotype 0.69.\n",
      "  Imputed missing values for SNP 2 with mean genotype 0.96.\n",
      "Standardizing genotype data.\n",
      "Genotype data standardized.\n",
      "Computing kinship matrix.\n",
      "Kinship matrix computed.\n",
      "Kinship computation time: 0.00 seconds\n",
      "Kinship matrix normalized.\n",
      "Estimating heritability with likelihood: 'normal'\n"
     ]
    },
    {
     "data": {
      "text/html": [
       "<pre><b><span style='color:#0C68C7'>============================= Heritability analysis starts =============================</span></b></pre>"
      ],
      "text/plain": [
       "============================= Heritability analysis starts ============================="
      ]
     },
     "metadata": {},
     "output_type": "display_data"
    },
    {
     "name": "stdout",
     "output_type": "stream",
     "text": [
      "Normalising input...\n",
      "\u001b[1A\u001b[20C"
     ]
    },
    {
     "data": {
      "text/html": [
       "<pre><b><span style='color:#FF3534'>failed</span></b> (0.01 seconds).</pre>"
      ],
      "text/plain": [
       "failed (0.01 seconds)."
      ]
     },
     "metadata": {},
     "output_type": "display_data"
    },
    {
     "data": {
      "text/html": [
       "<pre><b><span style='color:#FF3534'>===================== Heritability analysis fails in 0.01 seconds ======================</span></b></pre>"
      ],
      "text/plain": [
       "===================== Heritability analysis fails in 0.01 seconds ======================"
      ]
     },
     "metadata": {},
     "output_type": "display_data"
    },
    {
     "name": "stdout",
     "output_type": "stream",
     "text": [
      "Heritability estimation failed: No module named 'pandas.core.index'. Skipping this CpG site.\n",
      "\n",
      "Processing CpG site 8: pos_1069516 at position 1069516\n",
      "Number of samples with non-missing methylation data: 164\n",
      "Genomic window: 1059516 - 1079516 bp\n",
      "All necessary PLINK 2 files found.\n",
      "Genotype sample IDs loaded from .psam file.\n",
      "Number of matching samples: 164\n",
      "SNP positions loaded from .pvar file.\n",
      "Number of SNPs within the window: 2\n",
      "PgenReader initialized.\n",
      "Genotype data successfully read and stored in buffer.\n",
      "Genotype reading time: 0.00 seconds\n",
      "Missing genotype data detected. Imputing missing values with mean genotype.\n",
      "  Imputed missing values for SNP 1 with mean genotype 0.69.\n",
      "  Imputed missing values for SNP 2 with mean genotype 0.96.\n",
      "Standardizing genotype data.\n",
      "Genotype data standardized.\n",
      "Computing kinship matrix.\n",
      "Kinship matrix computed.\n",
      "Kinship computation time: 0.00 seconds\n",
      "Kinship matrix normalized.\n",
      "Estimating heritability with likelihood: 'normal'\n"
     ]
    },
    {
     "data": {
      "text/html": [
       "<pre><b><span style='color:#0C68C7'>============================= Heritability analysis starts =============================</span></b></pre>"
      ],
      "text/plain": [
       "============================= Heritability analysis starts ============================="
      ]
     },
     "metadata": {},
     "output_type": "display_data"
    },
    {
     "name": "stdout",
     "output_type": "stream",
     "text": [
      "Normalising input...\n",
      "\u001b[1A\u001b[20C"
     ]
    },
    {
     "data": {
      "text/html": [
       "<pre><b><span style='color:#FF3534'>failed</span></b> (0.01 seconds).</pre>"
      ],
      "text/plain": [
       "failed (0.01 seconds)."
      ]
     },
     "metadata": {},
     "output_type": "display_data"
    },
    {
     "data": {
      "text/html": [
       "<pre><b><span style='color:#FF3534'>===================== Heritability analysis fails in 0.01 seconds ======================</span></b></pre>"
      ],
      "text/plain": [
       "===================== Heritability analysis fails in 0.01 seconds ======================"
      ]
     },
     "metadata": {},
     "output_type": "display_data"
    },
    {
     "name": "stdout",
     "output_type": "stream",
     "text": [
      "Heritability estimation failed: No module named 'pandas.core.index'. Skipping this CpG site.\n",
      "\n",
      "Processing CpG site 9: pos_1069530 at position 1069530\n",
      "Number of samples with non-missing methylation data: 164\n",
      "Genomic window: 1059530 - 1079530 bp\n",
      "All necessary PLINK 2 files found.\n",
      "Genotype sample IDs loaded from .psam file.\n",
      "Number of matching samples: 164\n",
      "SNP positions loaded from .pvar file.\n",
      "Number of SNPs within the window: 2\n",
      "PgenReader initialized.\n",
      "Genotype data successfully read and stored in buffer.\n",
      "Genotype reading time: 0.00 seconds\n",
      "Missing genotype data detected. Imputing missing values with mean genotype.\n",
      "  Imputed missing values for SNP 1 with mean genotype 0.69.\n",
      "  Imputed missing values for SNP 2 with mean genotype 0.96.\n",
      "Standardizing genotype data.\n",
      "Genotype data standardized.\n",
      "Computing kinship matrix.\n",
      "Kinship matrix computed.\n",
      "Kinship computation time: 0.00 seconds\n",
      "Kinship matrix normalized.\n",
      "Estimating heritability with likelihood: 'normal'\n"
     ]
    },
    {
     "data": {
      "text/html": [
       "<pre><b><span style='color:#0C68C7'>============================= Heritability analysis starts =============================</span></b></pre>"
      ],
      "text/plain": [
       "============================= Heritability analysis starts ============================="
      ]
     },
     "metadata": {},
     "output_type": "display_data"
    },
    {
     "name": "stdout",
     "output_type": "stream",
     "text": [
      "Normalising input...\n",
      "\u001b[1A\u001b[20C"
     ]
    },
    {
     "data": {
      "text/html": [
       "<pre><b><span style='color:#FF3534'>failed</span></b> (0.01 seconds).</pre>"
      ],
      "text/plain": [
       "failed (0.01 seconds)."
      ]
     },
     "metadata": {},
     "output_type": "display_data"
    },
    {
     "data": {
      "text/html": [
       "<pre><b><span style='color:#FF3534'>===================== Heritability analysis fails in 0.01 seconds ======================</span></b></pre>"
      ],
      "text/plain": [
       "===================== Heritability analysis fails in 0.01 seconds ======================"
      ]
     },
     "metadata": {},
     "output_type": "display_data"
    },
    {
     "name": "stdout",
     "output_type": "stream",
     "text": [
      "Heritability estimation failed: No module named 'pandas.core.index'. Skipping this CpG site.\n",
      "\n",
      "Processing CpG site 10: pos_1069533 at position 1069533\n",
      "Number of samples with non-missing methylation data: 164\n",
      "Genomic window: 1059533 - 1079533 bp\n",
      "All necessary PLINK 2 files found.\n",
      "Genotype sample IDs loaded from .psam file.\n",
      "Number of matching samples: 164\n",
      "SNP positions loaded from .pvar file.\n",
      "Number of SNPs within the window: 2\n",
      "PgenReader initialized.\n",
      "Genotype data successfully read and stored in buffer.\n",
      "Genotype reading time: 0.00 seconds\n",
      "Missing genotype data detected. Imputing missing values with mean genotype.\n",
      "  Imputed missing values for SNP 1 with mean genotype 0.69.\n",
      "  Imputed missing values for SNP 2 with mean genotype 0.96.\n",
      "Standardizing genotype data.\n",
      "Genotype data standardized.\n",
      "Computing kinship matrix.\n",
      "Kinship matrix computed.\n",
      "Kinship computation time: 0.00 seconds\n",
      "Kinship matrix normalized.\n",
      "Estimating heritability with likelihood: 'normal'\n"
     ]
    },
    {
     "data": {
      "text/html": [
       "<pre><b><span style='color:#0C68C7'>============================= Heritability analysis starts =============================</span></b></pre>"
      ],
      "text/plain": [
       "============================= Heritability analysis starts ============================="
      ]
     },
     "metadata": {},
     "output_type": "display_data"
    },
    {
     "name": "stdout",
     "output_type": "stream",
     "text": [
      "Normalising input...\n",
      "\u001b[1A\u001b[20C"
     ]
    },
    {
     "data": {
      "text/html": [
       "<pre><b><span style='color:#FF3534'>failed</span></b> (0.01 seconds).</pre>"
      ],
      "text/plain": [
       "failed (0.01 seconds)."
      ]
     },
     "metadata": {},
     "output_type": "display_data"
    },
    {
     "data": {
      "text/html": [
       "<pre><b><span style='color:#FF3534'>===================== Heritability analysis fails in 0.01 seconds ======================</span></b></pre>"
      ],
      "text/plain": [
       "===================== Heritability analysis fails in 0.01 seconds ======================"
      ]
     },
     "metadata": {},
     "output_type": "display_data"
    },
    {
     "name": "stdout",
     "output_type": "stream",
     "text": [
      "Heritability estimation failed: No module named 'pandas.core.index'. Skipping this CpG site.\n",
      "\n",
      "Processing CpG site 11: pos_1069539 at position 1069539\n",
      "Number of samples with non-missing methylation data: 164\n",
      "Genomic window: 1059539 - 1079539 bp\n",
      "All necessary PLINK 2 files found.\n",
      "Genotype sample IDs loaded from .psam file.\n",
      "Number of matching samples: 164\n",
      "SNP positions loaded from .pvar file.\n",
      "Number of SNPs within the window: 2\n",
      "PgenReader initialized.\n",
      "Genotype data successfully read and stored in buffer.\n",
      "Genotype reading time: 0.00 seconds\n",
      "Missing genotype data detected. Imputing missing values with mean genotype.\n",
      "  Imputed missing values for SNP 1 with mean genotype 0.69.\n",
      "  Imputed missing values for SNP 2 with mean genotype 0.96.\n",
      "Standardizing genotype data.\n",
      "Genotype data standardized.\n",
      "Computing kinship matrix.\n",
      "Kinship matrix computed.\n",
      "Kinship computation time: 0.00 seconds\n",
      "Kinship matrix normalized.\n",
      "Estimating heritability with likelihood: 'normal'\n"
     ]
    },
    {
     "data": {
      "text/html": [
       "<pre><b><span style='color:#0C68C7'>============================= Heritability analysis starts =============================</span></b></pre>"
      ],
      "text/plain": [
       "============================= Heritability analysis starts ============================="
      ]
     },
     "metadata": {},
     "output_type": "display_data"
    },
    {
     "name": "stdout",
     "output_type": "stream",
     "text": [
      "Normalising input...\n",
      "\u001b[1A\u001b[20C"
     ]
    },
    {
     "data": {
      "text/html": [
       "<pre><b><span style='color:#FF3534'>failed</span></b> (0.01 seconds).</pre>"
      ],
      "text/plain": [
       "failed (0.01 seconds)."
      ]
     },
     "metadata": {},
     "output_type": "display_data"
    },
    {
     "data": {
      "text/html": [
       "<pre><b><span style='color:#FF3534'>===================== Heritability analysis fails in 0.01 seconds ======================</span></b></pre>"
      ],
      "text/plain": [
       "===================== Heritability analysis fails in 0.01 seconds ======================"
      ]
     },
     "metadata": {},
     "output_type": "display_data"
    },
    {
     "name": "stdout",
     "output_type": "stream",
     "text": [
      "Heritability estimation failed: No module named 'pandas.core.index'. Skipping this CpG site.\n",
      "\n",
      "Processing CpG site 12: pos_1069544 at position 1069544\n",
      "Number of samples with non-missing methylation data: 164\n",
      "Genomic window: 1059544 - 1079544 bp\n",
      "All necessary PLINK 2 files found.\n",
      "Genotype sample IDs loaded from .psam file.\n",
      "Number of matching samples: 164\n",
      "SNP positions loaded from .pvar file.\n",
      "Number of SNPs within the window: 2\n",
      "PgenReader initialized.\n",
      "Genotype data successfully read and stored in buffer.\n",
      "Genotype reading time: 0.00 seconds\n",
      "Missing genotype data detected. Imputing missing values with mean genotype.\n",
      "  Imputed missing values for SNP 1 with mean genotype 0.69.\n",
      "  Imputed missing values for SNP 2 with mean genotype 0.96.\n",
      "Standardizing genotype data.\n",
      "Genotype data standardized.\n",
      "Computing kinship matrix.\n",
      "Kinship matrix computed.\n",
      "Kinship computation time: 0.00 seconds\n",
      "Kinship matrix normalized.\n",
      "Estimating heritability with likelihood: 'normal'\n"
     ]
    },
    {
     "data": {
      "text/html": [
       "<pre><b><span style='color:#0C68C7'>============================= Heritability analysis starts =============================</span></b></pre>"
      ],
      "text/plain": [
       "============================= Heritability analysis starts ============================="
      ]
     },
     "metadata": {},
     "output_type": "display_data"
    },
    {
     "name": "stdout",
     "output_type": "stream",
     "text": [
      "Normalising input...\n",
      "\u001b[1A\u001b[20C"
     ]
    },
    {
     "data": {
      "text/html": [
       "<pre><b><span style='color:#FF3534'>failed</span></b> (0.01 seconds).</pre>"
      ],
      "text/plain": [
       "failed (0.01 seconds)."
      ]
     },
     "metadata": {},
     "output_type": "display_data"
    },
    {
     "data": {
      "text/html": [
       "<pre><b><span style='color:#FF3534'>===================== Heritability analysis fails in 0.01 seconds ======================</span></b></pre>"
      ],
      "text/plain": [
       "===================== Heritability analysis fails in 0.01 seconds ======================"
      ]
     },
     "metadata": {},
     "output_type": "display_data"
    },
    {
     "name": "stdout",
     "output_type": "stream",
     "text": [
      "Heritability estimation failed: No module named 'pandas.core.index'. Skipping this CpG site.\n",
      "\n",
      "Processing CpG site 13: pos_1069569 at position 1069569\n",
      "Number of samples with non-missing methylation data: 164\n",
      "Genomic window: 1059569 - 1079569 bp\n",
      "All necessary PLINK 2 files found.\n",
      "Genotype sample IDs loaded from .psam file.\n",
      "Number of matching samples: 164\n",
      "SNP positions loaded from .pvar file.\n",
      "Number of SNPs within the window: 2\n",
      "PgenReader initialized.\n",
      "Genotype data successfully read and stored in buffer.\n",
      "Genotype reading time: 0.00 seconds\n",
      "Missing genotype data detected. Imputing missing values with mean genotype.\n",
      "  Imputed missing values for SNP 1 with mean genotype 0.69.\n",
      "  Imputed missing values for SNP 2 with mean genotype 0.96.\n",
      "Standardizing genotype data.\n",
      "Genotype data standardized.\n",
      "Computing kinship matrix.\n",
      "Kinship matrix computed.\n",
      "Kinship computation time: 0.00 seconds\n",
      "Kinship matrix normalized.\n",
      "Estimating heritability with likelihood: 'normal'\n"
     ]
    },
    {
     "data": {
      "text/html": [
       "<pre><b><span style='color:#0C68C7'>============================= Heritability analysis starts =============================</span></b></pre>"
      ],
      "text/plain": [
       "============================= Heritability analysis starts ============================="
      ]
     },
     "metadata": {},
     "output_type": "display_data"
    },
    {
     "name": "stdout",
     "output_type": "stream",
     "text": [
      "Normalising input...\n",
      "\u001b[1A\u001b[20C"
     ]
    },
    {
     "data": {
      "text/html": [
       "<pre><b><span style='color:#FF3534'>failed</span></b> (0.01 seconds).</pre>"
      ],
      "text/plain": [
       "failed (0.01 seconds)."
      ]
     },
     "metadata": {},
     "output_type": "display_data"
    },
    {
     "data": {
      "text/html": [
       "<pre><b><span style='color:#FF3534'>===================== Heritability analysis fails in 0.01 seconds ======================</span></b></pre>"
      ],
      "text/plain": [
       "===================== Heritability analysis fails in 0.01 seconds ======================"
      ]
     },
     "metadata": {},
     "output_type": "display_data"
    },
    {
     "name": "stdout",
     "output_type": "stream",
     "text": [
      "Heritability estimation failed: No module named 'pandas.core.index'. Skipping this CpG site.\n",
      "\n",
      "Processing CpG site 14: pos_1069573 at position 1069573\n",
      "Number of samples with non-missing methylation data: 164\n",
      "Genomic window: 1059573 - 1079573 bp\n",
      "All necessary PLINK 2 files found.\n",
      "Genotype sample IDs loaded from .psam file.\n",
      "Number of matching samples: 164\n"
     ]
    },
    {
     "name": "stderr",
     "output_type": "stream",
     "text": [
      "\n",
      "KeyboardInterrupt\n",
      "\n"
     ]
    }
   ],
   "source": [
    "import os\n",
    "import numpy as np\n",
    "import pandas as pd\n",
    "import time\n",
    "from pgenlib import PgenReader\n",
    "import limix.her\n",
    "\n",
    "# -----------------------------\n",
    "# Parameters (Adjust as needed)\n",
    "# -----------------------------\n",
    "window_sizes = [10000]                       # Window sizes in base pairs\n",
    "\n",
    "window_size = window_sizes[0] # I added this line\n",
    "\n",
    "chunk_start = 1                              # Start index for CpG sites (1-based)\n",
    "chunk_end = 50                               # End index for CpG sites (1-based)\n",
    "benchmark = True                             # Whether to measure timing\n",
    "\n",
    "# -----------------------------\n",
    "# Paths (Adjust these paths according to your data)\n",
    "# -----------------------------\n",
    "df_csv_path = \"/dcs04/lieber/statsgen/mnagle/mwas/CpGWAS/scripts/09.5-OUT_matched_SNP_meth_cov_chunked_JHPCE.csv\"\n",
    "output_dir = \"./41-OUT_heritability_a1\"\n",
    "\n",
    "# -----------------------------\n",
    "# Initialize Benchmarking\n",
    "# -----------------------------\n",
    "if benchmark:\n",
    "    start_time_total = time.time()\n",
    "\n",
    "# -----------------------------\n",
    "# Create Output Directory\n",
    "# -----------------------------\n",
    "os.makedirs(output_dir, exist_ok=True)\n",
    "os.chdir(output_dir)\n",
    "print(f\"Output directory set to: {output_dir}\")\n",
    "\n",
    "# -----------------------------\n",
    "# Read the Metadata DataFrame\n",
    "# -----------------------------\n",
    "try:\n",
    "    df = pd.read_csv(df_csv_path)\n",
    "    print(f\"Metadata loaded from '{df_csv_path}'.\")\n",
    "except Exception as e:\n",
    "    print(f\"Error reading metadata CSV '{df_csv_path}': {e}\")\n",
    "    exit(1)\n",
    "\n",
    "# -----------------------------\n",
    "# Select the Row for Processing\n",
    "# -----------------------------\n",
    "df_row = 0  # Adjust as needed\n",
    "if df.empty:\n",
    "    print(\"Metadata DataFrame is empty. Exiting.\")\n",
    "    exit(1)\n",
    "\n",
    "# Extract paths from the data frame\n",
    "gwas_dir = os.path.dirname(df.loc[df_row, 'SNP_data'])\n",
    "methylation_file = df.loc[df_row, 'modified_methylation_data']\n",
    "\n",
    "# Adjust methylation file paths\n",
    "methylation_file = methylation_file.replace(\n",
    "    \"/dcs04/lieber/statsgen/shizhong/michael/mwas/pheno/\",\n",
    "    \"/dcs04/lieber/statsgen/mnagle/mwas/pheno/\"\n",
    ").replace(\"rda\", \"csv\").replace(\"rds\", \"csv\")\n",
    "\n",
    "print(f\"Genotype Directory: {gwas_dir}\")\n",
    "print(f\"Methylation File: {methylation_file}\")\n",
    "\n",
    "# -----------------------------\n",
    "# Load Methylation Data\n",
    "# -----------------------------\n",
    "try:\n",
    "    # Methylation data has 'sample_id' as the first column and CpG positions as other columns\n",
    "    methylation_df = pd.read_csv(methylation_file)\n",
    "    print(f\"Methylation data loaded from '{methylation_file}'.\")\n",
    "except Exception as e:\n",
    "    print(f\"Error reading methylation file '{methylation_file}': {e}\")\n",
    "    exit(1)\n",
    "\n",
    "# Ensure 'sample_id' is treated as a string\n",
    "if 'sample_id' not in methylation_df.columns:\n",
    "    print(f\"'sample_id' column not found in methylation data. Exiting.\")\n",
    "    exit(1)\n",
    "\n",
    "methylation_df['sample_id'] = methylation_df['sample_id'].astype(str)\n",
    "print(\"'sample_id' column confirmed and converted to string.\")\n",
    "\n",
    "# Extract CpG columns (all columns except 'sample_id')\n",
    "cpg_columns = methylation_df.columns.drop('sample_id')\n",
    "\n",
    "# Extract numeric CpG positions from column names (e.g., 'pos_1069461' -> 1069461)\n",
    "try:\n",
    "    cpg_positions = [int(col.split('_')[1]) for col in cpg_columns]\n",
    "    print(\"CpG positions extracted from column names.\")\n",
    "except IndexError as e:\n",
    "    print(f\"Error parsing CpG positions in column names: {e}\")\n",
    "    exit(1)\n",
    "except ValueError as e:\n",
    "    print(f\"Non-integer CpG position found in column names: {e}\")\n",
    "    exit(1)\n",
    "\n",
    "# Create a mapping from column names to positions\n",
    "cpg_col_to_pos = dict(zip(cpg_columns, cpg_positions))\n",
    "\n",
    "# Select the CpG positions for the specified chunk\n",
    "selected_cpg_cols = cpg_columns[chunk_start - 1:chunk_end]\n",
    "selected_cpg_positions = [cpg_col_to_pos[col] for col in selected_cpg_cols]\n",
    "\n",
    "print(f\"Selected CpG Columns: {selected_cpg_cols.tolist()}\")\n",
    "print(f\"Selected CpG Positions: {selected_cpg_positions}\")\n",
    "\n",
    "# -----------------------------\n",
    "# Iterate Over Selected CpG Sites\n",
    "# -----------------------------\n",
    "for idx, (cpg_col, cpg_pos) in enumerate(zip(selected_cpg_cols, selected_cpg_positions), start=1):\n",
    "    print(f\"\\nProcessing CpG site {idx}: {cpg_col} at position {cpg_pos}\")\n",
    "\n",
    "    # -----------------------------\n",
    "    # Extract Methylation Data for the Selected CpG Site\n",
    "    # -----------------------------\n",
    "    pheno_df = methylation_df[['sample_id', cpg_col]].dropna()\n",
    "    y = pheno_df[cpg_col].values\n",
    "    sample_ids = pheno_df['sample_id'].values\n",
    "    n_samples = len(sample_ids)\n",
    "\n",
    "    print(f\"Number of samples with non-missing methylation data: {n_samples}\")\n",
    "\n",
    "    if n_samples == 0:\n",
    "        print(\"No samples with non-missing methylation data. Skipping this CpG site.\")\n",
    "        continue\n",
    "\n",
    "    # -----------------------------\n",
    "    # Define Genomic Window\n",
    "    # -----------------------------\n",
    "    p1 = max(cpg_pos - window_size, 0)\n",
    "    p2 = cpg_pos + window_size\n",
    "\n",
    "    print(f\"Genomic window: {p1} - {p2} bp\")\n",
    "\n",
    "    # -----------------------------\n",
    "    # Load Genotype Data for the Specified Chromosome\n",
    "    # -----------------------------\n",
    "    pgen_prefix = os.path.join(gwas_dir, f\"libd_chr{df.loc[df_row, 'Chr']}\")\n",
    "    pgen_file = f\"{pgen_prefix}.pgen\"\n",
    "    pvar_file = f\"{pgen_prefix}.pvar\"\n",
    "    psam_file = f\"{pgen_prefix}.psam\"\n",
    "\n",
    "    # Check if all necessary PLINK 2 files exist\n",
    "    if not all(os.path.exists(f) for f in [pgen_file, pvar_file, psam_file]):\n",
    "        print(\"One or more PLINK 2 files are missing. Skipping this CpG site.\")\n",
    "        continue\n",
    "\n",
    "    print(\"All necessary PLINK 2 files found.\")\n",
    "\n",
    "    # -----------------------------\n",
    "    # Read Sample IDs from .psam File\n",
    "    # -----------------------------\n",
    "    try:\n",
    "        psam_df = pd.read_csv(psam_file, sep='\\t')\n",
    "        if '#IID' not in psam_df.columns:\n",
    "            print(f\"'#IID' column not found in .psam file '{psam_file}'. Skipping this CpG site.\")\n",
    "            continue\n",
    "        geno_sample_ids = psam_df['#IID'].astype(str).values\n",
    "        print(\"Genotype sample IDs loaded from .psam file.\")\n",
    "    except Exception as e:\n",
    "        print(f\"Error reading .psam file '{psam_file}': {e}. Skipping this CpG site.\")\n",
    "        continue\n",
    "\n",
    "    # Create a mapping from sample ID to index in genotype data\n",
    "    sample_id_to_index = {sid: idx for idx, sid in enumerate(geno_sample_ids)}\n",
    "\n",
    "    # Get genotype indices for samples present in methylation data\n",
    "    geno_indices = [sample_id_to_index[sid] for sid in sample_ids if sid in sample_id_to_index]\n",
    "\n",
    "    if not geno_indices:\n",
    "        print(\"No matching samples between genotype and methylation data. Skipping this CpG site.\")\n",
    "        continue\n",
    "\n",
    "    print(f\"Number of matching samples: {len(geno_indices)}\")\n",
    "\n",
    "    # -----------------------------\n",
    "    # Read SNP Positions from .pvar File\n",
    "    # -----------------------------\n",
    "    try:\n",
    "        pvar_df = pd.read_csv(pvar_file, sep='\\t', comment='#',\n",
    "                              names=['CHROM', 'POS', 'ID', 'REF', 'ALT', 'QUAL', 'FILTER', 'INFO', 'FORMAT'])\n",
    "        print(\"SNP positions loaded from .pvar file.\")\n",
    "    except Exception as e:\n",
    "        print(f\"Error reading .pvar file '{pvar_file}': {e}. Skipping this CpG site.\")\n",
    "        continue\n",
    "\n",
    "    # Subset SNPs within the genomic window\n",
    "    snps_in_window = pvar_df[(pvar_df['POS'] >= p1) & (pvar_df['POS'] <= p2)]\n",
    "\n",
    "    if snps_in_window.empty:\n",
    "        print(\"No SNPs found within the genomic window. Skipping this CpG site.\")\n",
    "        continue\n",
    "\n",
    "    print(f\"Number of SNPs within the window: {len(snps_in_window)}\")\n",
    "\n",
    "    # Get variant indices (0-based)\n",
    "    variant_indices = snps_in_window.index.values\n",
    "\n",
    "    # -----------------------------\n",
    "    # Initialize PgenReader with sample_subset\n",
    "    # -----------------------------\n",
    "    try:\n",
    "        if benchmark:\n",
    "            start_time_total = time.time()\n",
    "\n",
    "        pgr = PgenReader(pgen_file.encode('utf-8'), sample_subset=np.array(sorted(geno_indices), dtype=np.uint32))\n",
    "        print(\"PgenReader initialized.\")\n",
    "\n",
    "    except Exception as e:\n",
    "        print(f\"Error initializing PgenReader: {e}. Skipping this CpG site.\")\n",
    "        continue\n",
    "\n",
    "    # -----------------------------\n",
    "    # Allocate buffer: rows=variants (SNPs), cols=samples\n",
    "    # -----------------------------\n",
    "    try:\n",
    "        geno_buffer = np.empty((len(variant_indices), n_samples), dtype=np.int32)\n",
    "    except Exception as e:\n",
    "        print(f\"Error allocating geno_buffer: {e}. Skipping this CpG site.\")\n",
    "        continue\n",
    "\n",
    "    # -----------------------------\n",
    "    # Read Genotype Data Using PgenReader\n",
    "    # -----------------------------\n",
    "    try:\n",
    "        for var_idx, variant_idx in enumerate(variant_indices):\n",
    "            # Read genotype for the current variant\n",
    "            # allele_idx=1 corresponds to the alternate allele count\n",
    "            pgr.read(variant_idx, geno_buffer[var_idx, :], allele_idx=1)\n",
    "\n",
    "        print(\"Genotype data successfully read and stored in buffer.\")\n",
    "\n",
    "        # -----------------------------\n",
    "        # Benchmarking: Genotype Reading Time\n",
    "        # -----------------------------\n",
    "        if benchmark:\n",
    "            geno_time = time.time() - start_time_total\n",
    "            print(f\"Genotype reading time: {geno_time:.2f} seconds\")\n",
    "\n",
    "    except Exception as e:\n",
    "        print(f\"Error reading genotype data: {e}. Skipping this CpG site.\")\n",
    "        continue\n",
    "\n",
    "    # -----------------------------\n",
    "    # Check for Missing Data and Impute\n",
    "    # -----------------------------\n",
    "    if np.any(geno_buffer == -9):\n",
    "        print(\"Missing genotype data detected. Imputing missing values with mean genotype.\")\n",
    "        # Replace missing genotypes (-9) with the mean genotype for each SNP\n",
    "        for var in range(geno_buffer.shape[0]):\n",
    "            missing = geno_buffer[var, :] == -9\n",
    "            if np.any(missing):\n",
    "                non_missing = geno_buffer[var, :] != -9\n",
    "                if np.any(non_missing):\n",
    "                    mean_geno = np.mean(geno_buffer[var, non_missing])\n",
    "                    geno_buffer[var, missing] = mean_geno\n",
    "                    print(f\"  Imputed missing values for SNP {var + 1} with mean genotype {mean_geno:.2f}.\")\n",
    "                else:\n",
    "                    # If all genotypes are missing, impute with 0\n",
    "                    geno_buffer[var, missing] = 0\n",
    "                    print(f\"  All genotypes missing for SNP {var + 1}. Imputed with 0.\")\n",
    "\n",
    "        # Check for NaNs after imputation\n",
    "        if np.isnan(geno_buffer).any():\n",
    "            nan_indices = np.argwhere(np.isnan(geno_buffer))\n",
    "            print(f\"NaNs found at positions: {nan_indices}\")\n",
    "            print(\"Exiting due to NaN values in geno_buffer.\")\n",
    "            exit(1)  # Stop execution to address the issue\n",
    "\n",
    "    # -----------------------------\n",
    "    # Check number of SNPs\n",
    "    # -----------------------------\n",
    "    if len(snps_in_window) < 2:\n",
    "        print(\"Only one SNP in window; skipping heritability estimation.\")\n",
    "        continue\n",
    "\n",
    "    # -----------------------------\n",
    "    # Standardize Genotypes (Samples × SNPs)\n",
    "    # -----------------------------\n",
    "    print(\"Standardizing genotype data.\")\n",
    "\n",
    "    # Transpose to samples × SNPs\n",
    "    try:\n",
    "        M = geno_buffer.astype(float).T  # Shape: (Samples, SNPs)\n",
    "    except Exception as e:\n",
    "        print(f\"Error transposing geno_buffer: {e}. Skipping this CpG site.\")\n",
    "        continue\n",
    "\n",
    "    # Compute mean and std per SNP (columns)\n",
    "    mu = np.mean(M, axis=0, keepdims=True)      # Shape: (1, SNPs)\n",
    "    sigma = np.std(M, axis=0, ddof=1, keepdims=True)  # Shape: (1, SNPs)\n",
    "\n",
    "    # Handle zero standard deviation\n",
    "    sigma[sigma == 0] = 1\n",
    "\n",
    "    # Standardize\n",
    "    S = (M - mu) / sigma  # Shape: (Samples, SNPs)\n",
    "\n",
    "    print(\"Genotype data standardized.\")\n",
    "\n",
    "    # -----------------------------\n",
    "    # Compute Kinship Matrix using GEMMA Method\n",
    "    # -----------------------------\n",
    "    print(\"Computing kinship matrix.\")\n",
    "\n",
    "    try:\n",
    "        K = np.dot(S, S.T) / S.shape[1]  # Shape: (Samples, Samples)\n",
    "        print(\"Kinship matrix computed.\")\n",
    "    except Exception as e:\n",
    "        print(f\"Error computing kinship matrix: {e}. Skipping this CpG site.\")\n",
    "        continue\n",
    "\n",
    "    if benchmark:\n",
    "        kinship_time = time.time() - start_time_total\n",
    "        print(f\"Kinship computation time: {kinship_time:.2f} seconds\")\n",
    "\n",
    "    # -----------------------------\n",
    "    # Normalize Kinship Matrix\n",
    "    # -----------------------------\n",
    "    try:\n",
    "        mean_diag = np.mean(np.diagonal(K))\n",
    "        if mean_diag == 0:\n",
    "            print(\"Mean of the diagonal of the kinship matrix is zero. Cannot normalize. Skipping this CpG site.\")\n",
    "            continue\n",
    "        K_normalized = K / mean_diag\n",
    "        print(\"Kinship matrix normalized.\")\n",
    "    except Exception as e:\n",
    "        print(f\"Kinship normalization failed: {e}. Skipping this CpG site.\")\n",
    "        continue\n",
    "\n",
    "    # -----------------------------\n",
    "    # Estimate Heritability Using Limix\n",
    "    # -----------------------------\n",
    "    try:\n",
    "        # Define the likelihood based on phenotype type\n",
    "        likelihood_type = \"normal\"\n",
    "\n",
    "        print(f\"Estimating heritability with likelihood: '{likelihood_type}'\")\n",
    "        h2 = limix.her.estimate(\n",
    "            y=y,\n",
    "            lik=likelihood_type,\n",
    "            K=K_normalized,\n",
    "            M=None,\n",
    "            verbose=True\n",
    "        )\n",
    "        print(f\"Estimated heritability (h2): {h2:.4f}\")\n",
    "\n",
    "        if benchmark:\n",
    "            herit_time = time.time() - start_time_total\n",
    "            total_time = time.time() - start_time_total\n",
    "            print(f\"Heritability estimation time: {herit_time:.2f} seconds\")\n",
    "            print(f\"Total processing time: {total_time:.2f} seconds\")\n",
    "\n",
    "    except Exception as e:\n",
    "        print(f\"Heritability estimation failed: {e}. Skipping this CpG site.\")\n",
    "        continue\n",
    "\n",
    "    # -----------------------------\n",
    "    # Collect and Save Results\n",
    "    # -----------------------------\n",
    "    print(\"Collecting results.\")\n",
    "    result_entry = {\n",
    "        'V_G': h2 * (np.mean(np.diagonal(K)) * (1 - h2)),\n",
    "        'V_e': (1 - h2) * (np.mean(np.diagonal(K)) * (1 - h2)),\n",
    "        'h2': h2,\n",
    "        'n': n_samples,\n",
    "        'site': f\"chr{df.loc[df_row, 'Chr']}_{cpg_pos}\",\n",
    "        'window_bp': window_size\n",
    "    }\n",
    "    results = [result_entry]\n",
    "\n",
    "    # Collect Timing Data (if benchmarking)\n",
    "    if benchmark:\n",
    "        timing_measurements = {\n",
    "            f\"chr{df.loc[df_row, 'Chr']}_pos{cpg_pos}_window{window_size}\": {\n",
    "                'geno_time_sec': geno_time,\n",
    "                'kinship_time_sec': kinship_time,\n",
    "                'herit_time_sec': herit_time,\n",
    "                'total_time_sec': time.time() - start_time_total\n",
    "            }\n",
    "        }\n",
    "\n",
    "    # Save Results to CSV\n",
    "    results_df = pd.DataFrame(results)\n",
    "    results_df.to_csv(\"heritability_results.csv\", index=False)\n",
    "    print(\"Heritability results saved to 'heritability_results.csv'.\")\n",
    "\n",
    "    # Save Timing Measurements to CSV (if benchmarking)\n",
    "    if benchmark:\n",
    "        timing_df = pd.DataFrame.from_dict(timing_measurements, orient='index')\n",
    "        timing_df.reset_index(inplace=True)\n",
    "        timing_df.rename(columns={'index': 'ID'}, inplace=True)\n",
    "        timing_df.to_csv(\"timing_measurements.csv\", index=False)\n",
    "        print(\"Timing measurements saved to 'timing_measurements.csv'.\")"
   ]
  },
  {
   "cell_type": "markdown",
   "id": "ff1dc1e7-9065-4916-860e-bbfdf9727ca2",
   "metadata": {},
   "source": [
    "We get this error.... "
   ]
  },
  {
   "cell_type": "raw",
   "id": "93673207-ac33-4415-9b88-ae9a6e763cce",
   "metadata": {},
   "source": [
    "============================= Heritability analysis starts =============================\n",
    "Normalising input...\n",
    "failed (0.43 seconds).\n",
    "===================== Heritability analysis fails in 0.44 seconds ======================\n",
    "Heritability estimation failed: No module named 'pandas.core.index'. Skipping this CpG site."
   ]
  },
  {
   "cell_type": "markdown",
   "id": "1698d0f5-0b12-4ab5-99be-e35d331b870b",
   "metadata": {},
   "source": [
    "Why?"
   ]
  },
  {
   "cell_type": "code",
   "execution_count": null,
   "id": "fd6b82bb-f079-4a00-b28a-904cde341825",
   "metadata": {},
   "outputs": [],
   "source": [
    "import pandas as pd\n",
    "print(\"Pandas version:\", pd.__version__)\n",
    "\n",
    "import limix\n",
    "print(\"Limix version:\", limix.__version__)"
   ]
  },
  {
   "cell_type": "code",
   "execution_count": null,
   "id": "fe8d17e8-cce6-45f1-a9bf-029aa56279d7",
   "metadata": {},
   "outputs": [],
   "source": [
    "pip install --upgrade pandas"
   ]
  },
  {
   "cell_type": "code",
   "execution_count": null,
   "id": "3206f3fc-75d9-496f-a5fc-d394fd07c37a",
   "metadata": {},
   "outputs": [],
   "source": [
    "pip install --upgrade limix"
   ]
  },
  {
   "cell_type": "code",
   "execution_count": null,
   "id": "f4d8364f-ea3d-4ab8-98d1-5e47897204c5",
   "metadata": {},
   "outputs": [],
   "source": []
  }
 ],
 "metadata": {
  "kernelspec": {
   "display_name": "Python 3 (ipykernel)",
   "language": "python",
   "name": "python3"
  },
  "language_info": {
   "codemirror_mode": {
    "name": "ipython",
    "version": 3
   },
   "file_extension": ".py",
   "mimetype": "text/x-python",
   "name": "python",
   "nbconvert_exporter": "python",
   "pygments_lexer": "ipython3",
   "version": "3.10.9"
  }
 },
 "nbformat": 4,
 "nbformat_minor": 5
}
