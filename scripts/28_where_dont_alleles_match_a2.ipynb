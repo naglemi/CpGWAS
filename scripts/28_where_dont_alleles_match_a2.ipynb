{
 "cells": [
  {
   "cell_type": "markdown",
   "id": "a73e5ea8-56cc-43a0-b461-7f6a7f8d4761",
   "metadata": {},
   "source": [
    "# Compare alleles across LIBD population, ref population, summary stats"
   ]
  },
  {
   "cell_type": "markdown",
   "id": "413eb57b-3010-4edf-bc0a-3602b17afc39",
   "metadata": {},
   "source": [
    "## Define paths"
   ]
  },
  {
   "cell_type": "code",
   "execution_count": 3,
   "id": "da708f88-d9e6-4c9a-8605-879250d987b1",
   "metadata": {},
   "outputs": [],
   "source": [
    "library(data.table)"
   ]
  },
  {
   "cell_type": "code",
   "execution_count": 4,
   "id": "ef595a4d-5c68-4733-9851-8f4573c478b0",
   "metadata": {},
   "outputs": [],
   "source": [
    "library(CpGWAS)"
   ]
  },
  {
   "cell_type": "code",
   "execution_count": 5,
   "id": "70d0c8f8-54aa-4edf-9a27-7050cba07e64",
   "metadata": {},
   "outputs": [],
   "source": [
    "chr <- 1"
   ]
  },
  {
   "cell_type": "code",
   "execution_count": 7,
   "id": "e431d027-1323-4951-b2ac-1e6a7cbf6803",
   "metadata": {},
   "outputs": [],
   "source": [
    "paths_ref <- list(\n",
    "  pvar_path = paste0(\"/expanse/lustre/projects/jhu152/naglemi/mwas/gwas_flipped/ref_EUR_allele-match-libd_chr\", chr, \".pvar\"),\n",
    "  pgen_path = paste0(\"/expanse/lustre/projects/jhu152/naglemi/mwas/gwas_flipped/ref_EUR_allele-match-libd_chr\", chr, \".pgen\"),\n",
    "  psam_path = paste0(\"/expanse/lustre/projects/jhu152/naglemi/mwas/gwas_flipped/ref_EUR_allele-match-libd_chr\", chr, \".psam\")\n",
    ")"
   ]
  },
  {
   "cell_type": "code",
   "execution_count": 8,
   "id": "18b6902d-2065-4be3-83c8-ecf471c9758c",
   "metadata": {},
   "outputs": [],
   "source": [
    "paths_libd <- list(\n",
    "  pvar_path = paste0(\"/expanse/lustre/projects/jhu152/naglemi/mwas/gwas_flipped/libd_chr\", chr, \".pvar\"),\n",
    "  pgen_path = paste0(\"/expanse/lustre/projects/jhu152/naglemi/mwas/gwas_flipped/libd_chr\", chr, \".pgen\"),\n",
    "  psam_path = paste0(\"/expanse/lustre/projects/jhu152/naglemi/mwas/gwas_flipped/libd_chr\", chr, \".psam\")\n",
    ")"
   ]
  },
  {
   "cell_type": "code",
   "execution_count": null,
   "id": "3486651b-74a9-4240-8ba1-6a1ef9189e08",
   "metadata": {},
   "outputs": [],
   "source": []
  },
  {
   "cell_type": "code",
   "execution_count": 9,
   "id": "bbedb75c-2598-4848-af52-780acf0e7527",
   "metadata": {},
   "outputs": [],
   "source": [
    "summary_stats_paths <- list.files(\"/expanse/lustre/projects/jhu152/naglemi/mwas/gwas/\",\n",
    "                                  pattern = \"stat\",\n",
    "                                  full.names = TRUE)"
   ]
  },
  {
   "cell_type": "code",
   "execution_count": 10,
   "id": "c8085e79-93bf-47a2-be87-0d8757f75491",
   "metadata": {},
   "outputs": [],
   "source": [
    "k <- 1"
   ]
  },
  {
   "cell_type": "code",
   "execution_count": 11,
   "id": "cf577304-4131-4d68-a120-f253eee9a5f4",
   "metadata": {},
   "outputs": [],
   "source": [
    "summary_stats_path <- summary_stats_paths[k]"
   ]
  },
  {
   "cell_type": "code",
   "execution_count": 12,
   "id": "033f4db1-cea5-40d5-b94c-bb7045d6d2d0",
   "metadata": {},
   "outputs": [
    {
     "name": "stdout",
     "output_type": "stream",
     "text": [
      "[1] \"Setting Z\"\n"
     ]
    }
   ],
   "source": [
    "summary_stats <- suppressWarnings(fread(summary_stats_path))\n",
    "summary_stats <- clean_and_standardize_colnames(summary_stats)"
   ]
  },
  {
   "cell_type": "code",
   "execution_count": 13,
   "id": "45569597-72ad-44b0-9e81-c3a6886d1134",
   "metadata": {},
   "outputs": [
    {
     "data": {
      "text/html": [
       "<table class=\"dataframe\">\n",
       "<caption>A data.table: 6 × 17</caption>\n",
       "<thead>\n",
       "\t<tr><th scope=col>CHR</th><th scope=col>BP</th><th scope=col>SNP</th><th scope=col>A1</th><th scope=col>A2</th><th scope=col>logOR</th><th scope=col>SE</th><th scope=col>PVAL</th><th scope=col>NGT</th><th scope=col>FCAS</th><th scope=col>FCON</th><th scope=col>IMPINFO</th><th scope=col>NEFFDIV2</th><th scope=col>NCAS</th><th scope=col>NCON</th><th scope=col>DIRE</th><th scope=col>Z</th></tr>\n",
       "\t<tr><th scope=col>&lt;int&gt;</th><th scope=col>&lt;int&gt;</th><th scope=col>&lt;chr&gt;</th><th scope=col>&lt;chr&gt;</th><th scope=col>&lt;chr&gt;</th><th scope=col>&lt;dbl&gt;</th><th scope=col>&lt;dbl&gt;</th><th scope=col>&lt;dbl&gt;</th><th scope=col>&lt;int&gt;</th><th scope=col>&lt;dbl&gt;</th><th scope=col>&lt;dbl&gt;</th><th scope=col>&lt;dbl&gt;</th><th scope=col>&lt;dbl&gt;</th><th scope=col>&lt;int&gt;</th><th scope=col>&lt;int&gt;</th><th scope=col>&lt;chr&gt;</th><th scope=col>&lt;dbl&gt;</th></tr>\n",
       "</thead>\n",
       "<tbody>\n",
       "\t<tr><td>10</td><td>98322628</td><td>10:100082385_C_A</td><td>C</td><td>A</td><td> 0.004001981</td><td>0.0201</td><td>0.8422</td><td> 0</td><td>0.934</td><td>0.941</td><td>0.971</td><td>43354.73</td><td>37940</td><td>103559</td><td>+++-+--++-+-++---+--++++-++--++++++--+++-+-----??-?+--+?-</td><td> 0.1991036</td></tr>\n",
       "\t<tr><td>10</td><td>98429811</td><td>10:100189568_C_A</td><td>C</td><td>A</td><td> 0.010098835</td><td>0.0200</td><td>0.6135</td><td>25</td><td>0.925</td><td>0.925</td><td>0.890</td><td>42290.42</td><td>36834</td><td>102499</td><td>-++--++++--+-++++++-?---++--+--+-+---+-+----+++??-?+?+-?+</td><td> 0.5049417</td></tr>\n",
       "\t<tr><td>10</td><td>98624242</td><td>10:100383999_C_G</td><td>C</td><td>G</td><td>-0.007397293</td><td>0.0122</td><td>0.5428</td><td> 0</td><td>0.799</td><td>0.797</td><td>1.000</td><td>43445.24</td><td>38084</td><td>103625</td><td>--++++-+++-++-++-+--++-++-+-+---+++-+----+--++-??-?---+-+</td><td>-0.6063355</td></tr>\n",
       "\t<tr><td>10</td><td>99046608</td><td>10:100806365_A_C</td><td>A</td><td>C</td><td>-0.002703652</td><td>0.0152</td><td>0.8603</td><td>26</td><td>0.119</td><td>0.126</td><td>0.993</td><td>43445.24</td><td>38084</td><td>103625</td><td>++--++++-+-++---+++-+---+++-+--+---+--++---++++??+?---++-</td><td>-0.1778718</td></tr>\n",
       "\t<tr><td>10</td><td>99053963</td><td>10:100813720_C_T</td><td>C</td><td>T</td><td>-0.003596460</td><td>0.0152</td><td>0.8123</td><td> 0</td><td>0.118</td><td>0.126</td><td>0.990</td><td>43445.24</td><td>38084</td><td>103625</td><td>--++----+-+--+++---+-+++---+-++-+++-++--+++-+--??-?+++--+</td><td>-0.2366092</td></tr>\n",
       "\t<tr><td>10</td><td>99497901</td><td>10:101257658_T_G</td><td>T</td><td>G</td><td> 0.005096988</td><td>0.0112</td><td>0.6474</td><td> 0</td><td>0.259</td><td>0.259</td><td>0.997</td><td>43445.24</td><td>38084</td><td>103625</td><td>-+--+++----+-+--++++---+---++-++---+--++--+-+++??+?--+--+</td><td> 0.4550882</td></tr>\n",
       "</tbody>\n",
       "</table>\n"
      ],
      "text/latex": [
       "A data.table: 6 × 17\n",
       "\\begin{tabular}{lllllllllllllllll}\n",
       " CHR & BP & SNP & A1 & A2 & logOR & SE & PVAL & NGT & FCAS & FCON & IMPINFO & NEFFDIV2 & NCAS & NCON & DIRE & Z\\\\\n",
       " <int> & <int> & <chr> & <chr> & <chr> & <dbl> & <dbl> & <dbl> & <int> & <dbl> & <dbl> & <dbl> & <dbl> & <int> & <int> & <chr> & <dbl>\\\\\n",
       "\\hline\n",
       "\t 10 & 98322628 & 10:100082385\\_C\\_A & C & A &  0.004001981 & 0.0201 & 0.8422 &  0 & 0.934 & 0.941 & 0.971 & 43354.73 & 37940 & 103559 & +++-+--++-+-++---+--++++-++--++++++--+++-+-----??-?+--+?- &  0.1991036\\\\\n",
       "\t 10 & 98429811 & 10:100189568\\_C\\_A & C & A &  0.010098835 & 0.0200 & 0.6135 & 25 & 0.925 & 0.925 & 0.890 & 42290.42 & 36834 & 102499 & -++--++++--+-++++++-?---++--+--+-+---+-+----+++??-?+?+-?+ &  0.5049417\\\\\n",
       "\t 10 & 98624242 & 10:100383999\\_C\\_G & C & G & -0.007397293 & 0.0122 & 0.5428 &  0 & 0.799 & 0.797 & 1.000 & 43445.24 & 38084 & 103625 & --++++-+++-++-++-+--++-++-+-+---+++-+----+--++-??-?---+-+ & -0.6063355\\\\\n",
       "\t 10 & 99046608 & 10:100806365\\_A\\_C & A & C & -0.002703652 & 0.0152 & 0.8603 & 26 & 0.119 & 0.126 & 0.993 & 43445.24 & 38084 & 103625 & ++--++++-+-++---+++-+---+++-+--+---+--++---++++??+?---++- & -0.1778718\\\\\n",
       "\t 10 & 99053963 & 10:100813720\\_C\\_T & C & T & -0.003596460 & 0.0152 & 0.8123 &  0 & 0.118 & 0.126 & 0.990 & 43445.24 & 38084 & 103625 & --++----+-+--+++---+-+++---+-++-+++-++--+++-+--??-?+++--+ & -0.2366092\\\\\n",
       "\t 10 & 99497901 & 10:101257658\\_T\\_G & T & G &  0.005096988 & 0.0112 & 0.6474 &  0 & 0.259 & 0.259 & 0.997 & 43445.24 & 38084 & 103625 & -+--+++----+-+--++++---+---++-++---+--++--+-+++??+?--+--+ &  0.4550882\\\\\n",
       "\\end{tabular}\n"
      ],
      "text/markdown": [
       "\n",
       "A data.table: 6 × 17\n",
       "\n",
       "| CHR &lt;int&gt; | BP &lt;int&gt; | SNP &lt;chr&gt; | A1 &lt;chr&gt; | A2 &lt;chr&gt; | logOR &lt;dbl&gt; | SE &lt;dbl&gt; | PVAL &lt;dbl&gt; | NGT &lt;int&gt; | FCAS &lt;dbl&gt; | FCON &lt;dbl&gt; | IMPINFO &lt;dbl&gt; | NEFFDIV2 &lt;dbl&gt; | NCAS &lt;int&gt; | NCON &lt;int&gt; | DIRE &lt;chr&gt; | Z &lt;dbl&gt; |\n",
       "|---|---|---|---|---|---|---|---|---|---|---|---|---|---|---|---|---|\n",
       "| 10 | 98322628 | 10:100082385_C_A | C | A |  0.004001981 | 0.0201 | 0.8422 |  0 | 0.934 | 0.941 | 0.971 | 43354.73 | 37940 | 103559 | +++-+--++-+-++---+--++++-++--++++++--+++-+-----??-?+--+?- |  0.1991036 |\n",
       "| 10 | 98429811 | 10:100189568_C_A | C | A |  0.010098835 | 0.0200 | 0.6135 | 25 | 0.925 | 0.925 | 0.890 | 42290.42 | 36834 | 102499 | -++--++++--+-++++++-?---++--+--+-+---+-+----+++??-?+?+-?+ |  0.5049417 |\n",
       "| 10 | 98624242 | 10:100383999_C_G | C | G | -0.007397293 | 0.0122 | 0.5428 |  0 | 0.799 | 0.797 | 1.000 | 43445.24 | 38084 | 103625 | --++++-+++-++-++-+--++-++-+-+---+++-+----+--++-??-?---+-+ | -0.6063355 |\n",
       "| 10 | 99046608 | 10:100806365_A_C | A | C | -0.002703652 | 0.0152 | 0.8603 | 26 | 0.119 | 0.126 | 0.993 | 43445.24 | 38084 | 103625 | ++--++++-+-++---+++-+---+++-+--+---+--++---++++??+?---++- | -0.1778718 |\n",
       "| 10 | 99053963 | 10:100813720_C_T | C | T | -0.003596460 | 0.0152 | 0.8123 |  0 | 0.118 | 0.126 | 0.990 | 43445.24 | 38084 | 103625 | --++----+-+--+++---+-+++---+-++-+++-++--+++-+--??-?+++--+ | -0.2366092 |\n",
       "| 10 | 99497901 | 10:101257658_T_G | T | G |  0.005096988 | 0.0112 | 0.6474 |  0 | 0.259 | 0.259 | 0.997 | 43445.24 | 38084 | 103625 | -+--+++----+-+--++++---+---++-++---+--++--+-+++??+?--+--+ |  0.4550882 |\n",
       "\n"
      ],
      "text/plain": [
       "  CHR BP       SNP              A1 A2 logOR        SE     PVAL   NGT FCAS \n",
       "1 10  98322628 10:100082385_C_A C  A   0.004001981 0.0201 0.8422  0  0.934\n",
       "2 10  98429811 10:100189568_C_A C  A   0.010098835 0.0200 0.6135 25  0.925\n",
       "3 10  98624242 10:100383999_C_G C  G  -0.007397293 0.0122 0.5428  0  0.799\n",
       "4 10  99046608 10:100806365_A_C A  C  -0.002703652 0.0152 0.8603 26  0.119\n",
       "5 10  99053963 10:100813720_C_T C  T  -0.003596460 0.0152 0.8123  0  0.118\n",
       "6 10  99497901 10:101257658_T_G T  G   0.005096988 0.0112 0.6474  0  0.259\n",
       "  FCON  IMPINFO NEFFDIV2 NCAS  NCON  \n",
       "1 0.941 0.971   43354.73 37940 103559\n",
       "2 0.925 0.890   42290.42 36834 102499\n",
       "3 0.797 1.000   43445.24 38084 103625\n",
       "4 0.126 0.993   43445.24 38084 103625\n",
       "5 0.126 0.990   43445.24 38084 103625\n",
       "6 0.259 0.997   43445.24 38084 103625\n",
       "  DIRE                                                      Z         \n",
       "1 +++-+--++-+-++---+--++++-++--++++++--+++-+-----??-?+--+?-  0.1991036\n",
       "2 -++--++++--+-++++++-?---++--+--+-+---+-+----+++??-?+?+-?+  0.5049417\n",
       "3 --++++-+++-++-++-+--++-++-+-+---+++-+----+--++-??-?---+-+ -0.6063355\n",
       "4 ++--++++-+-++---+++-+---+++-+--+---+--++---++++??+?---++- -0.1778718\n",
       "5 --++----+-+--+++---+-+++---+-++-+++-++--+++-+--??-?+++--+ -0.2366092\n",
       "6 -+--+++----+-+--++++---+---++-++---+--++--+-+++??+?--+--+  0.4550882"
      ]
     },
     "metadata": {},
     "output_type": "display_data"
    }
   ],
   "source": [
    "head(summary_stats)"
   ]
  },
  {
   "cell_type": "code",
   "execution_count": 14,
   "id": "c5eedcbc-53ac-4e9e-8521-2ccd2d9a19ba",
   "metadata": {},
   "outputs": [],
   "source": [
    "ref <- fread(paths_ref$pvar_path)"
   ]
  },
  {
   "cell_type": "code",
   "execution_count": 15,
   "id": "12fcf9d2-3742-43f1-aff3-415d9bc6d03a",
   "metadata": {},
   "outputs": [
    {
     "data": {
      "text/html": [
       "<table class=\"dataframe\">\n",
       "<caption>A data.table: 6 × 5</caption>\n",
       "<thead>\n",
       "\t<tr><th scope=col>#CHROM</th><th scope=col>POS</th><th scope=col>ID</th><th scope=col>REF</th><th scope=col>ALT</th></tr>\n",
       "\t<tr><th scope=col>&lt;int&gt;</th><th scope=col>&lt;int&gt;</th><th scope=col>&lt;chr&gt;</th><th scope=col>&lt;chr&gt;</th><th scope=col>&lt;chr&gt;</th></tr>\n",
       "</thead>\n",
       "<tbody>\n",
       "\t<tr><td>1</td><td>1079456</td><td>rs12401605</td><td>A</td><td>G</td></tr>\n",
       "\t<tr><td>1</td><td>1079484</td><td>rs12411041</td><td>T</td><td>A</td></tr>\n",
       "\t<tr><td>1</td><td>1079746</td><td>rs36027499</td><td>A</td><td>G</td></tr>\n",
       "\t<tr><td>1</td><td>1079877</td><td>rs9442369 </td><td>A</td><td>G</td></tr>\n",
       "\t<tr><td>1</td><td>1080171</td><td>rs9442370 </td><td>C</td><td>T</td></tr>\n",
       "\t<tr><td>1</td><td>1080437</td><td>rs12746483</td><td>G</td><td>A</td></tr>\n",
       "</tbody>\n",
       "</table>\n"
      ],
      "text/latex": [
       "A data.table: 6 × 5\n",
       "\\begin{tabular}{lllll}\n",
       " \\#CHROM & POS & ID & REF & ALT\\\\\n",
       " <int> & <int> & <chr> & <chr> & <chr>\\\\\n",
       "\\hline\n",
       "\t 1 & 1079456 & rs12401605 & A & G\\\\\n",
       "\t 1 & 1079484 & rs12411041 & T & A\\\\\n",
       "\t 1 & 1079746 & rs36027499 & A & G\\\\\n",
       "\t 1 & 1079877 & rs9442369  & A & G\\\\\n",
       "\t 1 & 1080171 & rs9442370  & C & T\\\\\n",
       "\t 1 & 1080437 & rs12746483 & G & A\\\\\n",
       "\\end{tabular}\n"
      ],
      "text/markdown": [
       "\n",
       "A data.table: 6 × 5\n",
       "\n",
       "| #CHROM &lt;int&gt; | POS &lt;int&gt; | ID &lt;chr&gt; | REF &lt;chr&gt; | ALT &lt;chr&gt; |\n",
       "|---|---|---|---|---|\n",
       "| 1 | 1079456 | rs12401605 | A | G |\n",
       "| 1 | 1079484 | rs12411041 | T | A |\n",
       "| 1 | 1079746 | rs36027499 | A | G |\n",
       "| 1 | 1079877 | rs9442369  | A | G |\n",
       "| 1 | 1080171 | rs9442370  | C | T |\n",
       "| 1 | 1080437 | rs12746483 | G | A |\n",
       "\n"
      ],
      "text/plain": [
       "  #CHROM POS     ID         REF ALT\n",
       "1 1      1079456 rs12401605 A   G  \n",
       "2 1      1079484 rs12411041 T   A  \n",
       "3 1      1079746 rs36027499 A   G  \n",
       "4 1      1079877 rs9442369  A   G  \n",
       "5 1      1080171 rs9442370  C   T  \n",
       "6 1      1080437 rs12746483 G   A  "
      ]
     },
     "metadata": {},
     "output_type": "display_data"
    }
   ],
   "source": [
    "head(ref)"
   ]
  },
  {
   "cell_type": "code",
   "execution_count": 26,
   "id": "c96d8816-c7da-4ad4-b037-160b862b79b3",
   "metadata": {},
   "outputs": [],
   "source": [
    "libd <- fread(paths_libd$pvar_path)"
   ]
  },
  {
   "cell_type": "code",
   "execution_count": 27,
   "id": "953098e2-ad2a-4c51-8aa3-b1646f8ed332",
   "metadata": {},
   "outputs": [
    {
     "data": {
      "text/html": [
       "<table class=\"dataframe\">\n",
       "<caption>A data.table: 6 × 7</caption>\n",
       "<thead>\n",
       "\t<tr><th scope=col>#CHROM</th><th scope=col>POS</th><th scope=col>ID</th><th scope=col>REF</th><th scope=col>ALT</th><th scope=col>FILTER</th><th scope=col>INFO</th></tr>\n",
       "\t<tr><th scope=col>&lt;int&gt;</th><th scope=col>&lt;int&gt;</th><th scope=col>&lt;chr&gt;</th><th scope=col>&lt;chr&gt;</th><th scope=col>&lt;chr&gt;</th><th scope=col>&lt;chr&gt;</th><th scope=col>&lt;chr&gt;</th></tr>\n",
       "</thead>\n",
       "<tbody>\n",
       "\t<tr><td>1</td><td>1079456</td><td>chr1:1079456:A:G</td><td>A</td><td>G</td><td>PASS</td><td>AF=0.47992;MAF=0.47992;R2=0.98236;IMPUTED;AN=4378;AC=2268                  </td></tr>\n",
       "\t<tr><td>1</td><td>1079484</td><td>chr1:1079484:T:A</td><td>T</td><td>A</td><td>PASS</td><td>AF=0.53765;MAF=0.46235;R2=0.98207;IMPUTED;AN=4378;AC=2440                  </td></tr>\n",
       "\t<tr><td>1</td><td>1079746</td><td>chr1:1079746:A:G</td><td>A</td><td>G</td><td>PASS</td><td>AF=0.54145;MAF=0.45855;R2=0.98178;IMPUTED;ER2=0.97555;TYPED;AN=4378;AC=2452</td></tr>\n",
       "\t<tr><td>1</td><td>1079877</td><td>chr1:1079877:A:G</td><td>A</td><td>G</td><td>PASS</td><td>AF=0.5594;MAF=0.4406;R2=0.98131;IMPUTED;AN=4378;AC=2492                    </td></tr>\n",
       "\t<tr><td>1</td><td>1080171</td><td>chr1:1080171:C:T</td><td>C</td><td>T</td><td>PASS</td><td>AF=0.46064;MAF=0.46064;R2=0.97025;IMPUTED;AN=4378;AC=2233                  </td></tr>\n",
       "\t<tr><td>1</td><td>1080437</td><td>chr1:1080437:G:A</td><td>G</td><td>A</td><td>PASS</td><td>AF=0.68092;MAF=0.31908;R2=0.9755;IMPUTED;AN=4378;AC=3085                   </td></tr>\n",
       "</tbody>\n",
       "</table>\n"
      ],
      "text/latex": [
       "A data.table: 6 × 7\n",
       "\\begin{tabular}{lllllll}\n",
       " \\#CHROM & POS & ID & REF & ALT & FILTER & INFO\\\\\n",
       " <int> & <int> & <chr> & <chr> & <chr> & <chr> & <chr>\\\\\n",
       "\\hline\n",
       "\t 1 & 1079456 & chr1:1079456:A:G & A & G & PASS & AF=0.47992;MAF=0.47992;R2=0.98236;IMPUTED;AN=4378;AC=2268                  \\\\\n",
       "\t 1 & 1079484 & chr1:1079484:T:A & T & A & PASS & AF=0.53765;MAF=0.46235;R2=0.98207;IMPUTED;AN=4378;AC=2440                  \\\\\n",
       "\t 1 & 1079746 & chr1:1079746:A:G & A & G & PASS & AF=0.54145;MAF=0.45855;R2=0.98178;IMPUTED;ER2=0.97555;TYPED;AN=4378;AC=2452\\\\\n",
       "\t 1 & 1079877 & chr1:1079877:A:G & A & G & PASS & AF=0.5594;MAF=0.4406;R2=0.98131;IMPUTED;AN=4378;AC=2492                    \\\\\n",
       "\t 1 & 1080171 & chr1:1080171:C:T & C & T & PASS & AF=0.46064;MAF=0.46064;R2=0.97025;IMPUTED;AN=4378;AC=2233                  \\\\\n",
       "\t 1 & 1080437 & chr1:1080437:G:A & G & A & PASS & AF=0.68092;MAF=0.31908;R2=0.9755;IMPUTED;AN=4378;AC=3085                   \\\\\n",
       "\\end{tabular}\n"
      ],
      "text/markdown": [
       "\n",
       "A data.table: 6 × 7\n",
       "\n",
       "| #CHROM &lt;int&gt; | POS &lt;int&gt; | ID &lt;chr&gt; | REF &lt;chr&gt; | ALT &lt;chr&gt; | FILTER &lt;chr&gt; | INFO &lt;chr&gt; |\n",
       "|---|---|---|---|---|---|---|\n",
       "| 1 | 1079456 | chr1:1079456:A:G | A | G | PASS | AF=0.47992;MAF=0.47992;R2=0.98236;IMPUTED;AN=4378;AC=2268                   |\n",
       "| 1 | 1079484 | chr1:1079484:T:A | T | A | PASS | AF=0.53765;MAF=0.46235;R2=0.98207;IMPUTED;AN=4378;AC=2440                   |\n",
       "| 1 | 1079746 | chr1:1079746:A:G | A | G | PASS | AF=0.54145;MAF=0.45855;R2=0.98178;IMPUTED;ER2=0.97555;TYPED;AN=4378;AC=2452 |\n",
       "| 1 | 1079877 | chr1:1079877:A:G | A | G | PASS | AF=0.5594;MAF=0.4406;R2=0.98131;IMPUTED;AN=4378;AC=2492                     |\n",
       "| 1 | 1080171 | chr1:1080171:C:T | C | T | PASS | AF=0.46064;MAF=0.46064;R2=0.97025;IMPUTED;AN=4378;AC=2233                   |\n",
       "| 1 | 1080437 | chr1:1080437:G:A | G | A | PASS | AF=0.68092;MAF=0.31908;R2=0.9755;IMPUTED;AN=4378;AC=3085                    |\n",
       "\n"
      ],
      "text/plain": [
       "  #CHROM POS     ID               REF ALT FILTER\n",
       "1 1      1079456 chr1:1079456:A:G A   G   PASS  \n",
       "2 1      1079484 chr1:1079484:T:A T   A   PASS  \n",
       "3 1      1079746 chr1:1079746:A:G A   G   PASS  \n",
       "4 1      1079877 chr1:1079877:A:G A   G   PASS  \n",
       "5 1      1080171 chr1:1080171:C:T C   T   PASS  \n",
       "6 1      1080437 chr1:1080437:G:A G   A   PASS  \n",
       "  INFO                                                                       \n",
       "1 AF=0.47992;MAF=0.47992;R2=0.98236;IMPUTED;AN=4378;AC=2268                  \n",
       "2 AF=0.53765;MAF=0.46235;R2=0.98207;IMPUTED;AN=4378;AC=2440                  \n",
       "3 AF=0.54145;MAF=0.45855;R2=0.98178;IMPUTED;ER2=0.97555;TYPED;AN=4378;AC=2452\n",
       "4 AF=0.5594;MAF=0.4406;R2=0.98131;IMPUTED;AN=4378;AC=2492                    \n",
       "5 AF=0.46064;MAF=0.46064;R2=0.97025;IMPUTED;AN=4378;AC=2233                  \n",
       "6 AF=0.68092;MAF=0.31908;R2=0.9755;IMPUTED;AN=4378;AC=3085                   "
      ]
     },
     "metadata": {},
     "output_type": "display_data"
    }
   ],
   "source": [
    "head(libd)"
   ]
  },
  {
   "cell_type": "code",
   "execution_count": 16,
   "id": "e65d59b2-8f3e-4c61-9aee-bf70effb2004",
   "metadata": {},
   "outputs": [],
   "source": [
    "library(data.table)\n",
    "\n",
    "summary_stats_paths <- list.files(\"/expanse/lustre/projects/jhu152/naglemi/mwas/gwas/\", pattern = \"stat\", full.names = TRUE)"
   ]
  },
  {
   "cell_type": "code",
   "execution_count": 17,
   "id": "9d2d61bc-59cf-484c-9798-da596f881d36",
   "metadata": {},
   "outputs": [
    {
     "data": {
      "text/html": [
       "<style>\n",
       ".list-inline {list-style: none; margin:0; padding: 0}\n",
       ".list-inline>li {display: inline-block}\n",
       ".list-inline>li:not(:last-child)::after {content: \"\\00b7\"; padding: 0 .5ex}\n",
       "</style>\n",
       "<ol class=list-inline><li>'/expanse/lustre/projects/jhu152/naglemi/mwas/gwas//gwas_stat_bp'</li><li>'/expanse/lustre/projects/jhu152/naglemi/mwas/gwas//gwas_stat_bp_alleleprocessed.txt'</li><li>'/expanse/lustre/projects/jhu152/naglemi/mwas/gwas//gwas_stat_mdd'</li><li>'/expanse/lustre/projects/jhu152/naglemi/mwas/gwas//gwas_stat_mdd_alleleprocessed_alleleprocessed.txt'</li><li>'/expanse/lustre/projects/jhu152/naglemi/mwas/gwas//gwas_stat_mdd_alleleprocessed.txt'</li><li>'/expanse/lustre/projects/jhu152/naglemi/mwas/gwas//gwas_stat_scz'</li><li>'/expanse/lustre/projects/jhu152/naglemi/mwas/gwas//gwas_stat_scz_alleleprocessed_alleleprocessed.txt'</li><li>'/expanse/lustre/projects/jhu152/naglemi/mwas/gwas//gwas_stat_scz_alleleprocessed.txt'</li></ol>\n"
      ],
      "text/latex": [
       "\\begin{enumerate*}\n",
       "\\item '/expanse/lustre/projects/jhu152/naglemi/mwas/gwas//gwas\\_stat\\_bp'\n",
       "\\item '/expanse/lustre/projects/jhu152/naglemi/mwas/gwas//gwas\\_stat\\_bp\\_alleleprocessed.txt'\n",
       "\\item '/expanse/lustre/projects/jhu152/naglemi/mwas/gwas//gwas\\_stat\\_mdd'\n",
       "\\item '/expanse/lustre/projects/jhu152/naglemi/mwas/gwas//gwas\\_stat\\_mdd\\_alleleprocessed\\_alleleprocessed.txt'\n",
       "\\item '/expanse/lustre/projects/jhu152/naglemi/mwas/gwas//gwas\\_stat\\_mdd\\_alleleprocessed.txt'\n",
       "\\item '/expanse/lustre/projects/jhu152/naglemi/mwas/gwas//gwas\\_stat\\_scz'\n",
       "\\item '/expanse/lustre/projects/jhu152/naglemi/mwas/gwas//gwas\\_stat\\_scz\\_alleleprocessed\\_alleleprocessed.txt'\n",
       "\\item '/expanse/lustre/projects/jhu152/naglemi/mwas/gwas//gwas\\_stat\\_scz\\_alleleprocessed.txt'\n",
       "\\end{enumerate*}\n"
      ],
      "text/markdown": [
       "1. '/expanse/lustre/projects/jhu152/naglemi/mwas/gwas//gwas_stat_bp'\n",
       "2. '/expanse/lustre/projects/jhu152/naglemi/mwas/gwas//gwas_stat_bp_alleleprocessed.txt'\n",
       "3. '/expanse/lustre/projects/jhu152/naglemi/mwas/gwas//gwas_stat_mdd'\n",
       "4. '/expanse/lustre/projects/jhu152/naglemi/mwas/gwas//gwas_stat_mdd_alleleprocessed_alleleprocessed.txt'\n",
       "5. '/expanse/lustre/projects/jhu152/naglemi/mwas/gwas//gwas_stat_mdd_alleleprocessed.txt'\n",
       "6. '/expanse/lustre/projects/jhu152/naglemi/mwas/gwas//gwas_stat_scz'\n",
       "7. '/expanse/lustre/projects/jhu152/naglemi/mwas/gwas//gwas_stat_scz_alleleprocessed_alleleprocessed.txt'\n",
       "8. '/expanse/lustre/projects/jhu152/naglemi/mwas/gwas//gwas_stat_scz_alleleprocessed.txt'\n",
       "\n",
       "\n"
      ],
      "text/plain": [
       "[1] \"/expanse/lustre/projects/jhu152/naglemi/mwas/gwas//gwas_stat_bp\"                                     \n",
       "[2] \"/expanse/lustre/projects/jhu152/naglemi/mwas/gwas//gwas_stat_bp_alleleprocessed.txt\"                 \n",
       "[3] \"/expanse/lustre/projects/jhu152/naglemi/mwas/gwas//gwas_stat_mdd\"                                    \n",
       "[4] \"/expanse/lustre/projects/jhu152/naglemi/mwas/gwas//gwas_stat_mdd_alleleprocessed_alleleprocessed.txt\"\n",
       "[5] \"/expanse/lustre/projects/jhu152/naglemi/mwas/gwas//gwas_stat_mdd_alleleprocessed.txt\"                \n",
       "[6] \"/expanse/lustre/projects/jhu152/naglemi/mwas/gwas//gwas_stat_scz\"                                    \n",
       "[7] \"/expanse/lustre/projects/jhu152/naglemi/mwas/gwas//gwas_stat_scz_alleleprocessed_alleleprocessed.txt\"\n",
       "[8] \"/expanse/lustre/projects/jhu152/naglemi/mwas/gwas//gwas_stat_scz_alleleprocessed.txt\"                "
      ]
     },
     "metadata": {},
     "output_type": "display_data"
    }
   ],
   "source": [
    "summary_stats_paths"
   ]
  },
  {
   "cell_type": "code",
   "execution_count": 19,
   "id": "04396bc5-4eb3-4346-bc0c-af7464aca659",
   "metadata": {},
   "outputs": [
    {
     "data": {
      "text/html": [
       "TRUE"
      ],
      "text/latex": [
       "TRUE"
      ],
      "text/markdown": [
       "TRUE"
      ],
      "text/plain": [
       "[1] TRUE"
      ]
     },
     "metadata": {},
     "output_type": "display_data"
    },
    {
     "data": {
      "text/html": [
       "TRUE"
      ],
      "text/latex": [
       "TRUE"
      ],
      "text/markdown": [
       "TRUE"
      ],
      "text/plain": [
       "[1] TRUE"
      ]
     },
     "metadata": {},
     "output_type": "display_data"
    }
   ],
   "source": [
    "file.remove(\"/expanse/lustre/projects/jhu152/naglemi/mwas/gwas//gwas_stat_mdd_alleleprocessed_alleleprocessed.txt\")\n",
    "file.remove(\"/expanse/lustre/projects/jhu152/naglemi/mwas/gwas//gwas_stat_scz_alleleprocessed_alleleprocessed.txt\")"
   ]
  },
  {
   "cell_type": "markdown",
   "id": "a12028ca-39b1-411b-90ff-a576952a5426",
   "metadata": {},
   "source": [
    "## Try for one chr (7)"
   ]
  },
  {
   "cell_type": "code",
   "execution_count": 22,
   "id": "b9faf690-514a-44bb-a231-6f4425c065d7",
   "metadata": {},
   "outputs": [],
   "source": [
    "summary_stats_path <- summary_stats_paths[1]"
   ]
  },
  {
   "cell_type": "code",
   "execution_count": 23,
   "id": "a933281e-75ce-462e-b99c-dc55d1d0b13d",
   "metadata": {},
   "outputs": [],
   "source": [
    "output_path <- sub(\".txt\", \"_alleleprocessed.txt\", summary_stats_path)\n",
    "\n",
    "if (!grepl(\"\\\\.\", basename(output_path))) {\n",
    "    output_path <- paste0(output_path, \"_alleleprocessed.txt\")\n",
    "}"
   ]
  },
  {
   "cell_type": "code",
   "execution_count": 24,
   "id": "1af6df69-73af-4f61-aefc-99cf4885d2af",
   "metadata": {},
   "outputs": [
    {
     "ename": "ERROR",
     "evalue": "Error in eval(expr, envir, enclos): File already exists: /expanse/lustre/projects/jhu152/naglemi/mwas/gwas//gwas_stat_bp_alleleprocessed.txt\n",
     "output_type": "error",
     "traceback": [
      "Error in eval(expr, envir, enclos): File already exists: /expanse/lustre/projects/jhu152/naglemi/mwas/gwas//gwas_stat_bp_alleleprocessed.txt\nTraceback:\n",
      "1. stop(paste(\"File already exists:\", output_path))   # at line 2 of file <text>"
     ]
    }
   ],
   "source": [
    "if (file.exists(output_path)) {\n",
    "    stop(paste(\"File already exists:\", output_path))\n",
    "}"
   ]
  },
  {
   "cell_type": "code",
   "execution_count": 25,
   "id": "f473e43d-5218-40cb-b4d8-ad57d14a95fb",
   "metadata": {},
   "outputs": [
    {
     "name": "stderr",
     "output_type": "stream",
     "text": [
      "Warning message in fread(summary_stats_path):\n",
      "“Detected 1 column names but the data has 16 columns (i.e. invalid file). Added 15 extra default column names at the end.”\n"
     ]
    },
    {
     "name": "stdout",
     "output_type": "stream",
     "text": [
      "[1] \"Setting Z\"\n"
     ]
    }
   ],
   "source": [
    "summary_stats <- fread(summary_stats_path)\n",
    "summary_stats <- clean_and_standardize_colnames(summary_stats)"
   ]
  },
  {
   "cell_type": "code",
   "execution_count": 26,
   "id": "355083ba-a61b-493f-a2a9-a4d56f832c6b",
   "metadata": {},
   "outputs": [],
   "source": [
    "chr <- 7"
   ]
  },
  {
   "cell_type": "code",
   "execution_count": 33,
   "id": "b18b7c2b-ff55-48dc-a0be-52a011b9b992",
   "metadata": {},
   "outputs": [],
   "source": [
    "ref <- fread(paste0(\"/expanse/lustre/projects/jhu152/naglemi/mwas/gwas_flipped/ref_EUR_allele-match-libd_chr\", chr, \".pvar\"),\n",
    "             select = c(\"#CHROM\", \"POS\", \"REF\", \"ALT\"),\n",
    "             col.names = c(\"CHR\", \"BP\", \"REF_EUR\", \"ALT_EUR\"))\n",
    "\n",
    "libd <- fread(paste0(\"/expanse/lustre/projects/jhu152/naglemi/mwas/gwas_flipped/libd_chr\", chr, \".pvar\"),\n",
    "              select = c(\"#CHROM\", \"POS\", \"REF\", \"ALT\"),\n",
    "              col.names = c(\"CHR\", \"BP\", \"REF_libd\", \"ALT_libd\"))\n",
    "#colnames(ref)[3:4] <- c(\"REF_EUR\", \"ALT_EUR\")\n",
    "# Merge with reference and LIBD data by CHR and BP\n",
    "merged_ref <- merge(summary_stats, ref, by = c(\"CHR\", \"BP\"), suffixes = c(\"\", \"_ref\"))\n",
    "merged_libd <- merge(merged_ref, libd, by = c(\"CHR\", \"BP\"), suffixes = c(\"\", \"_libd\"))"
   ]
  },
  {
   "cell_type": "code",
   "execution_count": 34,
   "id": "86b0715b-e236-4efa-8ee9-c308966b4a3d",
   "metadata": {},
   "outputs": [],
   "source": [
    "# Get indices where A1 doesn't match REF_EUR or A2 doesn't match ALT_EUR\n",
    "ref_mismatch_indices <- which(merged_ref$A1 != merged_ref$REF_EUR | merged_ref$A2 != merged_ref$ALT_EUR)\n",
    "\n",
    "# Similarly for libd\n",
    "libd_mismatch_indices <- which(merged_libd$A1 != merged_libd$REF_libd | merged_libd$A2 != merged_libd$ALT_libd)"
   ]
  },
  {
   "cell_type": "code",
   "execution_count": 35,
   "id": "62be0ebc-031e-4a4d-9499-46fe4da34517",
   "metadata": {},
   "outputs": [],
   "source": [
    "# Get indices where A1 doesn't match REF_EUR or A2 doesn't match ALT_EUR\n",
    "ref_mismatch_indices <- which(merged_ref$A1 != merged_ref$REF_EUR | merged_ref$A2 != merged_ref$ALT_EUR)\n",
    "\n",
    "# Similarly for libd\n",
    "libd_mismatch_indices <- which(merged_libd$A1 != merged_libd$REF_libd | merged_libd$A2 != merged_libd$ALT_libd)\n"
   ]
  },
  {
   "cell_type": "code",
   "execution_count": 36,
   "id": "37e15312-2c5b-4de6-9e0a-4e8b67e59fb0",
   "metadata": {},
   "outputs": [
    {
     "data": {
      "text/html": [
       "<style>\n",
       ".list-inline {list-style: none; margin:0; padding: 0}\n",
       ".list-inline>li {display: inline-block}\n",
       ".list-inline>li:not(:last-child)::after {content: \"\\00b7\"; padding: 0 .5ex}\n",
       "</style>\n",
       "<ol class=list-inline><li>345874</li><li>21</li></ol>\n"
      ],
      "text/latex": [
       "\\begin{enumerate*}\n",
       "\\item 345874\n",
       "\\item 21\n",
       "\\end{enumerate*}\n"
      ],
      "text/markdown": [
       "1. 345874\n",
       "2. 21\n",
       "\n",
       "\n"
      ],
      "text/plain": [
       "[1] 345874     21"
      ]
     },
     "metadata": {},
     "output_type": "display_data"
    }
   ],
   "source": [
    "dim(merged_libd)"
   ]
  },
  {
   "cell_type": "code",
   "execution_count": 37,
   "id": "a21742f2-a835-44c8-b1f3-144c2024ac85",
   "metadata": {},
   "outputs": [
    {
     "data": {
      "text/html": [
       "<table class=\"dataframe\">\n",
       "<caption>A data.table: 6 × 4</caption>\n",
       "<thead>\n",
       "\t<tr><th scope=col>CHR</th><th scope=col>BP</th><th scope=col>REF_EUR</th><th scope=col>ALT_EUR</th></tr>\n",
       "\t<tr><th scope=col>&lt;int&gt;</th><th scope=col>&lt;int&gt;</th><th scope=col>&lt;chr&gt;</th><th scope=col>&lt;chr&gt;</th></tr>\n",
       "</thead>\n",
       "<tbody>\n",
       "\t<tr><td>7</td><td>53998</td><td>C</td><td>T</td></tr>\n",
       "\t<tr><td>7</td><td>60728</td><td>G</td><td>A</td></tr>\n",
       "\t<tr><td>7</td><td>63494</td><td>A</td><td>G</td></tr>\n",
       "\t<tr><td>7</td><td>71938</td><td>A</td><td>C</td></tr>\n",
       "\t<tr><td>7</td><td>80500</td><td>T</td><td>C</td></tr>\n",
       "\t<tr><td>7</td><td>82240</td><td>C</td><td>T</td></tr>\n",
       "</tbody>\n",
       "</table>\n"
      ],
      "text/latex": [
       "A data.table: 6 × 4\n",
       "\\begin{tabular}{llll}\n",
       " CHR & BP & REF\\_EUR & ALT\\_EUR\\\\\n",
       " <int> & <int> & <chr> & <chr>\\\\\n",
       "\\hline\n",
       "\t 7 & 53998 & C & T\\\\\n",
       "\t 7 & 60728 & G & A\\\\\n",
       "\t 7 & 63494 & A & G\\\\\n",
       "\t 7 & 71938 & A & C\\\\\n",
       "\t 7 & 80500 & T & C\\\\\n",
       "\t 7 & 82240 & C & T\\\\\n",
       "\\end{tabular}\n"
      ],
      "text/markdown": [
       "\n",
       "A data.table: 6 × 4\n",
       "\n",
       "| CHR &lt;int&gt; | BP &lt;int&gt; | REF_EUR &lt;chr&gt; | ALT_EUR &lt;chr&gt; |\n",
       "|---|---|---|---|\n",
       "| 7 | 53998 | C | T |\n",
       "| 7 | 60728 | G | A |\n",
       "| 7 | 63494 | A | G |\n",
       "| 7 | 71938 | A | C |\n",
       "| 7 | 80500 | T | C |\n",
       "| 7 | 82240 | C | T |\n",
       "\n"
      ],
      "text/plain": [
       "  CHR BP    REF_EUR ALT_EUR\n",
       "1 7   53998 C       T      \n",
       "2 7   60728 G       A      \n",
       "3 7   63494 A       G      \n",
       "4 7   71938 A       C      \n",
       "5 7   80500 T       C      \n",
       "6 7   82240 C       T      "
      ]
     },
     "metadata": {},
     "output_type": "display_data"
    }
   ],
   "source": [
    "head(ref) # forward strand"
   ]
  },
  {
   "cell_type": "code",
   "execution_count": 38,
   "id": "85f163f7-a17a-476e-b8a1-e4f7e7d4dae2",
   "metadata": {},
   "outputs": [
    {
     "data": {
      "text/html": [
       "<table class=\"dataframe\">\n",
       "<caption>A data.table: 6 × 4</caption>\n",
       "<thead>\n",
       "\t<tr><th scope=col>CHR</th><th scope=col>BP</th><th scope=col>REF_libd</th><th scope=col>ALT_libd</th></tr>\n",
       "\t<tr><th scope=col>&lt;int&gt;</th><th scope=col>&lt;int&gt;</th><th scope=col>&lt;chr&gt;</th><th scope=col>&lt;chr&gt;</th></tr>\n",
       "</thead>\n",
       "<tbody>\n",
       "\t<tr><td>7</td><td>53998</td><td>C</td><td>T</td></tr>\n",
       "\t<tr><td>7</td><td>60728</td><td>G</td><td>A</td></tr>\n",
       "\t<tr><td>7</td><td>63494</td><td>A</td><td>G</td></tr>\n",
       "\t<tr><td>7</td><td>71938</td><td>A</td><td>C</td></tr>\n",
       "\t<tr><td>7</td><td>80500</td><td>T</td><td>C</td></tr>\n",
       "\t<tr><td>7</td><td>82240</td><td>C</td><td>T</td></tr>\n",
       "</tbody>\n",
       "</table>\n"
      ],
      "text/latex": [
       "A data.table: 6 × 4\n",
       "\\begin{tabular}{llll}\n",
       " CHR & BP & REF\\_libd & ALT\\_libd\\\\\n",
       " <int> & <int> & <chr> & <chr>\\\\\n",
       "\\hline\n",
       "\t 7 & 53998 & C & T\\\\\n",
       "\t 7 & 60728 & G & A\\\\\n",
       "\t 7 & 63494 & A & G\\\\\n",
       "\t 7 & 71938 & A & C\\\\\n",
       "\t 7 & 80500 & T & C\\\\\n",
       "\t 7 & 82240 & C & T\\\\\n",
       "\\end{tabular}\n"
      ],
      "text/markdown": [
       "\n",
       "A data.table: 6 × 4\n",
       "\n",
       "| CHR &lt;int&gt; | BP &lt;int&gt; | REF_libd &lt;chr&gt; | ALT_libd &lt;chr&gt; |\n",
       "|---|---|---|---|\n",
       "| 7 | 53998 | C | T |\n",
       "| 7 | 60728 | G | A |\n",
       "| 7 | 63494 | A | G |\n",
       "| 7 | 71938 | A | C |\n",
       "| 7 | 80500 | T | C |\n",
       "| 7 | 82240 | C | T |\n",
       "\n"
      ],
      "text/plain": [
       "  CHR BP    REF_libd ALT_libd\n",
       "1 7   53998 C        T       \n",
       "2 7   60728 G        A       \n",
       "3 7   63494 A        G       \n",
       "4 7   71938 A        C       \n",
       "5 7   80500 T        C       \n",
       "6 7   82240 C        T       "
      ]
     },
     "metadata": {},
     "output_type": "display_data"
    }
   ],
   "source": [
    "head(libd)"
   ]
  },
  {
   "cell_type": "markdown",
   "id": "d0dfdd0e-a5f5-4671-b5d8-f8ccd1e2d818",
   "metadata": {},
   "source": [
    "For how many loci is there a mismatch between summary stats and ref_libd?\n",
    "\"I would suggest you change the sign of GWAS summary results to match alleles in the LIBD dataset\""
   ]
  },
  {
   "cell_type": "code",
   "execution_count": 39,
   "id": "f46a1027-1ba0-41f1-a895-ffd35d4fe4d0",
   "metadata": {},
   "outputs": [
    {
     "data": {
      "text/html": [
       "774"
      ],
      "text/latex": [
       "774"
      ],
      "text/markdown": [
       "774"
      ],
      "text/plain": [
       "[1] 774"
      ]
     },
     "metadata": {},
     "output_type": "display_data"
    }
   ],
   "source": [
    "length(libd_mismatch_indices)"
   ]
  },
  {
   "cell_type": "markdown",
   "id": "a7fe703e-aa86-4a28-8075-55a88999114a",
   "metadata": {},
   "source": [
    "For how many alleles is there a mismatch between summary stats and ref_EUR?"
   ]
  },
  {
   "cell_type": "code",
   "execution_count": 40,
   "id": "d41ee051-b04a-4c5d-bab3-11b476b82c91",
   "metadata": {},
   "outputs": [
    {
     "data": {
      "text/html": [
       "774"
      ],
      "text/latex": [
       "774"
      ],
      "text/markdown": [
       "774"
      ],
      "text/plain": [
       "[1] 774"
      ]
     },
     "metadata": {},
     "output_type": "display_data"
    }
   ],
   "source": [
    "length(ref_mismatch_indices)"
   ]
  },
  {
   "cell_type": "markdown",
   "id": "d8332118-cacc-4e90-b868-cdc3c82343ab",
   "metadata": {},
   "source": [
    "An issue we have is that if we only change sign of GWAS summary statistics with respect to alleles in LIBD dataset, we still have cases where both mismatch with ref_EUR, and flipped alleles in ref_EUR will change the z.cor used to compute p-values."
   ]
  },
  {
   "cell_type": "markdown",
   "id": "405b3345-e2ba-4a04-9904-c593386290e7",
   "metadata": {},
   "source": [
    "For how many loci do we have ref_libd and ref_EUR both disagree with summary stats?"
   ]
  },
  {
   "cell_type": "code",
   "execution_count": 41,
   "id": "f7f3cbe9-463f-417c-8464-6b8f884737a7",
   "metadata": {},
   "outputs": [],
   "source": [
    "ss_mismatch_both <- intersect(ref_mismatch_indices, libd_mismatch_indices)"
   ]
  },
  {
   "cell_type": "code",
   "execution_count": 42,
   "id": "9fec9f2d-6cc5-476e-ba7f-932a31340725",
   "metadata": {},
   "outputs": [
    {
     "data": {
      "text/html": [
       "774"
      ],
      "text/latex": [
       "774"
      ],
      "text/markdown": [
       "774"
      ],
      "text/plain": [
       "[1] 774"
      ]
     },
     "metadata": {},
     "output_type": "display_data"
    }
   ],
   "source": [
    "length(ss_mismatch_both)"
   ]
  },
  {
   "cell_type": "code",
   "execution_count": 43,
   "id": "436b718b-546a-4a08-ab4f-1836b17c3739",
   "metadata": {},
   "outputs": [],
   "source": [
    "library(data.table)\n",
    "\n",
    "# Assuming you have already loaded summary_stats, ref, and libd\n",
    "\n",
    "# Merge summary stats with ref by CHR and BP\n",
    "merged_data <- merge(summary_stats, ref, by = c(\"CHR\", \"BP\"), suffixes = c(\"\", \"_ref\"))\n",
    "\n",
    "# Merge the result with libd by CHR and BP\n",
    "merged_data <- merge(merged_data, libd, by = c(\"CHR\", \"BP\"), suffixes = c(\"\", \"_libd\"))\n",
    "\n",
    "# Now merged_data contains summary stats, ref, and libd alleles in one data.table\n"
   ]
  },
  {
   "cell_type": "code",
   "execution_count": 44,
   "id": "cec0607f-453c-43a6-893d-a326ec1e3ad3",
   "metadata": {},
   "outputs": [],
   "source": [
    "ref_mismatch_between_ref_libd <- which(merged_data$REF_EUR != merged_data$REF_libd)"
   ]
  },
  {
   "cell_type": "code",
   "execution_count": 45,
   "id": "53e51261-a896-4a85-af50-c17958004bfc",
   "metadata": {},
   "outputs": [
    {
     "data": {
      "text/html": [
       "0"
      ],
      "text/latex": [
       "0"
      ],
      "text/markdown": [
       "0"
      ],
      "text/plain": [
       "[1] 0"
      ]
     },
     "metadata": {},
     "output_type": "display_data"
    }
   ],
   "source": [
    "length(ref_mismatch_between_ref_libd)"
   ]
  },
  {
   "cell_type": "code",
   "execution_count": 46,
   "id": "bb50142c-bcab-41eb-8ade-74d7252d724f",
   "metadata": {},
   "outputs": [
    {
     "data": {
      "text/html": [
       "0"
      ],
      "text/latex": [
       "0"
      ],
      "text/markdown": [
       "0"
      ],
      "text/plain": [
       "[1] 0"
      ]
     },
     "metadata": {},
     "output_type": "display_data"
    }
   ],
   "source": [
    "length(intersect(ref_mismatch_between_ref_libd, ss_mismatch_both))"
   ]
  },
  {
   "cell_type": "code",
   "execution_count": 224,
   "id": "06bb6d3e-9a54-45e4-a436-f401b5ad2ecd",
   "metadata": {},
   "outputs": [
    {
     "data": {
      "text/html": [
       "<style>\n",
       ".list-inline {list-style: none; margin:0; padding: 0}\n",
       ".list-inline>li {display: inline-block}\n",
       ".list-inline>li:not(:last-child)::after {content: \"\\00b7\"; padding: 0 .5ex}\n",
       "</style>\n",
       "<ol class=list-inline><li>345874</li><li>21</li></ol>\n"
      ],
      "text/latex": [
       "\\begin{enumerate*}\n",
       "\\item 345874\n",
       "\\item 21\n",
       "\\end{enumerate*}\n"
      ],
      "text/markdown": [
       "1. 345874\n",
       "2. 21\n",
       "\n",
       "\n"
      ],
      "text/plain": [
       "[1] 345874     21"
      ]
     },
     "metadata": {},
     "output_type": "display_data"
    }
   ],
   "source": [
    "dim(merged_data)"
   ]
  },
  {
   "cell_type": "code",
   "execution_count": 226,
   "id": "197c2f5c-d9c8-4989-91e2-b77d63283b5b",
   "metadata": {
    "collapsed": true,
    "jupyter": {
     "outputs_hidden": true
    }
   },
   "outputs": [
    {
     "data": {
      "text/html": [
       "<table class=\"dataframe\">\n",
       "<caption>A data.table: 6 × 21</caption>\n",
       "<thead>\n",
       "\t<tr><th scope=col>CHR</th><th scope=col>BP</th><th scope=col>SNP</th><th scope=col>A1</th><th scope=col>A2</th><th scope=col>BETA</th><th scope=col>SE</th><th scope=col>PVAL</th><th scope=col>NGT</th><th scope=col>FCAS</th><th scope=col>⋯</th><th scope=col>IMPINFO</th><th scope=col>NEFFDIV2</th><th scope=col>NCAS</th><th scope=col>NCON</th><th scope=col>DIRE</th><th scope=col>REF_EUR</th><th scope=col>ALT_EUR</th><th scope=col>REF_libd</th><th scope=col>ALT_libd</th><th scope=col>matches_ref</th></tr>\n",
       "\t<tr><th scope=col>&lt;int&gt;</th><th scope=col>&lt;int&gt;</th><th scope=col>&lt;chr&gt;</th><th scope=col>&lt;chr&gt;</th><th scope=col>&lt;chr&gt;</th><th scope=col>&lt;dbl&gt;</th><th scope=col>&lt;dbl&gt;</th><th scope=col>&lt;dbl&gt;</th><th scope=col>&lt;int&gt;</th><th scope=col>&lt;dbl&gt;</th><th scope=col>⋯</th><th scope=col>&lt;dbl&gt;</th><th scope=col>&lt;dbl&gt;</th><th scope=col>&lt;int&gt;</th><th scope=col>&lt;int&gt;</th><th scope=col>&lt;chr&gt;</th><th scope=col>&lt;chr&gt;</th><th scope=col>&lt;chr&gt;</th><th scope=col>&lt;chr&gt;</th><th scope=col>&lt;chr&gt;</th><th scope=col>&lt;lgl&gt;</th></tr>\n",
       "</thead>\n",
       "<tbody>\n",
       "\t<tr><td>7</td><td>60728</td><td>rs4916941 </td><td>G</td><td>A</td><td>-0.04609630</td><td>0.0304</td><td>0.13010</td><td>19</td><td>0.970</td><td>⋯</td><td>0.857</td><td>49458.29</td><td>40581</td><td>368564</td><td>+?-++-?-++-+++--+++-----+----++?+-+-+-?+-++-+++--+-+??+??</td><td>G</td><td>A</td><td>G</td><td>A</td><td>TRUE</td></tr>\n",
       "\t<tr><td>7</td><td>71938</td><td>rs13437666</td><td>A</td><td>C</td><td>-0.04880166</td><td>0.0304</td><td>0.10830</td><td> 1</td><td>0.969</td><td>⋯</td><td>0.845</td><td>49458.29</td><td>40581</td><td>368564</td><td>-?---+?+--+---++---+++++--+++--?-+-+-+?-++-+---++-+-??-??</td><td>A</td><td>C</td><td>A</td><td>C</td><td>TRUE</td></tr>\n",
       "\t<tr><td>7</td><td>80500</td><td>rs12533719</td><td>T</td><td>C</td><td>-0.01620052</td><td>0.0111</td><td>0.14330</td><td> 1</td><td>0.743</td><td>⋯</td><td>0.938</td><td>50981.48</td><td>41917</td><td>371549</td><td>+----+-++--+---+---+-+-+--+++-++----+++-++-+-+-++--+-++--</td><td>T</td><td>C</td><td>T</td><td>C</td><td>TRUE</td></tr>\n",
       "\t<tr><td>7</td><td>82240</td><td>rs13236314</td><td>C</td><td>T</td><td> 0.03040311</td><td>0.0126</td><td>0.01623</td><td> 1</td><td>0.822</td><td>⋯</td><td>0.927</td><td>50981.48</td><td>41917</td><td>371549</td><td>--------+-------+--++----++++-+------+-++++-----+----+++-</td><td>C</td><td>T</td><td>C</td><td>T</td><td>TRUE</td></tr>\n",
       "\t<tr><td>7</td><td>82405</td><td>rs10229024</td><td>G</td><td>C</td><td>-0.01339937</td><td>0.0140</td><td>0.33800</td><td> 1</td><td>0.859</td><td>⋯</td><td>0.935</td><td>50981.48</td><td>41917</td><td>371549</td><td>-++++----++-+++-++--+--++++-+++--++----+--+-++--+-+-+--+-</td><td>G</td><td>C</td><td>G</td><td>C</td><td>TRUE</td></tr>\n",
       "\t<tr><td>7</td><td>83185</td><td>rs4076161 </td><td>T</td><td>C</td><td>-0.01360209</td><td>0.0147</td><td>0.35320</td><td>15</td><td>0.879</td><td>⋯</td><td>0.951</td><td>50981.48</td><td>41917</td><td>371549</td><td>+++--+----++---++--+++-+-++++-++-------+-+-+-+--+-+--+++-</td><td>T</td><td>C</td><td>T</td><td>C</td><td>TRUE</td></tr>\n",
       "</tbody>\n",
       "</table>\n"
      ],
      "text/latex": [
       "A data.table: 6 × 21\n",
       "\\begin{tabular}{lllllllllllllllllllll}\n",
       " CHR & BP & SNP & A1 & A2 & BETA & SE & PVAL & NGT & FCAS & ⋯ & IMPINFO & NEFFDIV2 & NCAS & NCON & DIRE & REF\\_EUR & ALT\\_EUR & REF\\_libd & ALT\\_libd & matches\\_ref\\\\\n",
       " <int> & <int> & <chr> & <chr> & <chr> & <dbl> & <dbl> & <dbl> & <int> & <dbl> & ⋯ & <dbl> & <dbl> & <int> & <int> & <chr> & <chr> & <chr> & <chr> & <chr> & <lgl>\\\\\n",
       "\\hline\n",
       "\t 7 & 60728 & rs4916941  & G & A & -0.04609630 & 0.0304 & 0.13010 & 19 & 0.970 & ⋯ & 0.857 & 49458.29 & 40581 & 368564 & +?-++-?-++-+++--+++-----+----++?+-+-+-?+-++-+++--+-+??+?? & G & A & G & A & TRUE\\\\\n",
       "\t 7 & 71938 & rs13437666 & A & C & -0.04880166 & 0.0304 & 0.10830 &  1 & 0.969 & ⋯ & 0.845 & 49458.29 & 40581 & 368564 & -?---+?+--+---++---+++++--+++--?-+-+-+?-++-+---++-+-??-?? & A & C & A & C & TRUE\\\\\n",
       "\t 7 & 80500 & rs12533719 & T & C & -0.01620052 & 0.0111 & 0.14330 &  1 & 0.743 & ⋯ & 0.938 & 50981.48 & 41917 & 371549 & +----+-++--+---+---+-+-+--+++-++----+++-++-+-+-++--+-++-- & T & C & T & C & TRUE\\\\\n",
       "\t 7 & 82240 & rs13236314 & C & T &  0.03040311 & 0.0126 & 0.01623 &  1 & 0.822 & ⋯ & 0.927 & 50981.48 & 41917 & 371549 & --------+-------+--++----++++-+------+-++++-----+----+++- & C & T & C & T & TRUE\\\\\n",
       "\t 7 & 82405 & rs10229024 & G & C & -0.01339937 & 0.0140 & 0.33800 &  1 & 0.859 & ⋯ & 0.935 & 50981.48 & 41917 & 371549 & -++++----++-+++-++--+--++++-+++--++----+--+-++--+-+-+--+- & G & C & G & C & TRUE\\\\\n",
       "\t 7 & 83185 & rs4076161  & T & C & -0.01360209 & 0.0147 & 0.35320 & 15 & 0.879 & ⋯ & 0.951 & 50981.48 & 41917 & 371549 & +++--+----++---++--+++-+-++++-++-------+-+-+-+--+-+--+++- & T & C & T & C & TRUE\\\\\n",
       "\\end{tabular}\n"
      ],
      "text/markdown": [
       "\n",
       "A data.table: 6 × 21\n",
       "\n",
       "| CHR &lt;int&gt; | BP &lt;int&gt; | SNP &lt;chr&gt; | A1 &lt;chr&gt; | A2 &lt;chr&gt; | BETA &lt;dbl&gt; | SE &lt;dbl&gt; | PVAL &lt;dbl&gt; | NGT &lt;int&gt; | FCAS &lt;dbl&gt; | ⋯ ⋯ | IMPINFO &lt;dbl&gt; | NEFFDIV2 &lt;dbl&gt; | NCAS &lt;int&gt; | NCON &lt;int&gt; | DIRE &lt;chr&gt; | REF_EUR &lt;chr&gt; | ALT_EUR &lt;chr&gt; | REF_libd &lt;chr&gt; | ALT_libd &lt;chr&gt; | matches_ref &lt;lgl&gt; |\n",
       "|---|---|---|---|---|---|---|---|---|---|---|---|---|---|---|---|---|---|---|---|---|\n",
       "| 7 | 60728 | rs4916941  | G | A | -0.04609630 | 0.0304 | 0.13010 | 19 | 0.970 | ⋯ | 0.857 | 49458.29 | 40581 | 368564 | +?-++-?-++-+++--+++-----+----++?+-+-+-?+-++-+++--+-+??+?? | G | A | G | A | TRUE |\n",
       "| 7 | 71938 | rs13437666 | A | C | -0.04880166 | 0.0304 | 0.10830 |  1 | 0.969 | ⋯ | 0.845 | 49458.29 | 40581 | 368564 | -?---+?+--+---++---+++++--+++--?-+-+-+?-++-+---++-+-??-?? | A | C | A | C | TRUE |\n",
       "| 7 | 80500 | rs12533719 | T | C | -0.01620052 | 0.0111 | 0.14330 |  1 | 0.743 | ⋯ | 0.938 | 50981.48 | 41917 | 371549 | +----+-++--+---+---+-+-+--+++-++----+++-++-+-+-++--+-++-- | T | C | T | C | TRUE |\n",
       "| 7 | 82240 | rs13236314 | C | T |  0.03040311 | 0.0126 | 0.01623 |  1 | 0.822 | ⋯ | 0.927 | 50981.48 | 41917 | 371549 | --------+-------+--++----++++-+------+-++++-----+----+++- | C | T | C | T | TRUE |\n",
       "| 7 | 82405 | rs10229024 | G | C | -0.01339937 | 0.0140 | 0.33800 |  1 | 0.859 | ⋯ | 0.935 | 50981.48 | 41917 | 371549 | -++++----++-+++-++--+--++++-+++--++----+--+-++--+-+-+--+- | G | C | G | C | TRUE |\n",
       "| 7 | 83185 | rs4076161  | T | C | -0.01360209 | 0.0147 | 0.35320 | 15 | 0.879 | ⋯ | 0.951 | 50981.48 | 41917 | 371549 | +++--+----++---++--+++-+-++++-++-------+-+-+-+--+-+--+++- | T | C | T | C | TRUE |\n",
       "\n"
      ],
      "text/plain": [
       "  CHR BP    SNP        A1 A2 BETA        SE     PVAL    NGT FCAS  ⋯ IMPINFO\n",
       "1 7   60728 rs4916941  G  A  -0.04609630 0.0304 0.13010 19  0.970 ⋯ 0.857  \n",
       "2 7   71938 rs13437666 A  C  -0.04880166 0.0304 0.10830  1  0.969 ⋯ 0.845  \n",
       "3 7   80500 rs12533719 T  C  -0.01620052 0.0111 0.14330  1  0.743 ⋯ 0.938  \n",
       "4 7   82240 rs13236314 C  T   0.03040311 0.0126 0.01623  1  0.822 ⋯ 0.927  \n",
       "5 7   82405 rs10229024 G  C  -0.01339937 0.0140 0.33800  1  0.859 ⋯ 0.935  \n",
       "6 7   83185 rs4076161  T  C  -0.01360209 0.0147 0.35320 15  0.879 ⋯ 0.951  \n",
       "  NEFFDIV2 NCAS  NCON  \n",
       "1 49458.29 40581 368564\n",
       "2 49458.29 40581 368564\n",
       "3 50981.48 41917 371549\n",
       "4 50981.48 41917 371549\n",
       "5 50981.48 41917 371549\n",
       "6 50981.48 41917 371549\n",
       "  DIRE                                                      REF_EUR ALT_EUR\n",
       "1 +?-++-?-++-+++--+++-----+----++?+-+-+-?+-++-+++--+-+??+?? G       A      \n",
       "2 -?---+?+--+---++---+++++--+++--?-+-+-+?-++-+---++-+-??-?? A       C      \n",
       "3 +----+-++--+---+---+-+-+--+++-++----+++-++-+-+-++--+-++-- T       C      \n",
       "4 --------+-------+--++----++++-+------+-++++-----+----+++- C       T      \n",
       "5 -++++----++-+++-++--+--++++-+++--++----+--+-++--+-+-+--+- G       C      \n",
       "6 +++--+----++---++--+++-+-++++-++-------+-+-+-+--+-+--+++- T       C      \n",
       "  REF_libd ALT_libd matches_ref\n",
       "1 G        A        TRUE       \n",
       "2 A        C        TRUE       \n",
       "3 T        C        TRUE       \n",
       "4 C        T        TRUE       \n",
       "5 G        C        TRUE       \n",
       "6 T        C        TRUE       "
      ]
     },
     "metadata": {},
     "output_type": "display_data"
    }
   ],
   "source": [
    "# Logical condition where alleles match with both ref and libd\n",
    "match_both <- (merged_data$A1 == merged_data$REF_EUR & merged_data$A2 == merged_data$ALT_EUR) &\n",
    "              (merged_data$A1 == merged_data$REF_libd & merged_data$A2 == merged_data$ALT_libd)\n",
    "\n",
    "# View rows where none mismatch\n",
    "head(merged_data[match_both, ])\n"
   ]
  },
  {
   "cell_type": "code",
   "execution_count": 227,
   "id": "fcc66185-9a26-4ac7-8071-56698b8979f6",
   "metadata": {
    "collapsed": true,
    "jupyter": {
     "outputs_hidden": true
    }
   },
   "outputs": [
    {
     "data": {
      "text/html": [
       "<table class=\"dataframe\">\n",
       "<caption>A data.table: 6 × 21</caption>\n",
       "<thead>\n",
       "\t<tr><th scope=col>CHR</th><th scope=col>BP</th><th scope=col>SNP</th><th scope=col>A1</th><th scope=col>A2</th><th scope=col>BETA</th><th scope=col>SE</th><th scope=col>PVAL</th><th scope=col>NGT</th><th scope=col>FCAS</th><th scope=col>⋯</th><th scope=col>IMPINFO</th><th scope=col>NEFFDIV2</th><th scope=col>NCAS</th><th scope=col>NCON</th><th scope=col>DIRE</th><th scope=col>REF_EUR</th><th scope=col>ALT_EUR</th><th scope=col>REF_libd</th><th scope=col>ALT_libd</th><th scope=col>matches_ref</th></tr>\n",
       "\t<tr><th scope=col>&lt;int&gt;</th><th scope=col>&lt;int&gt;</th><th scope=col>&lt;chr&gt;</th><th scope=col>&lt;chr&gt;</th><th scope=col>&lt;chr&gt;</th><th scope=col>&lt;dbl&gt;</th><th scope=col>&lt;dbl&gt;</th><th scope=col>&lt;dbl&gt;</th><th scope=col>&lt;int&gt;</th><th scope=col>&lt;dbl&gt;</th><th scope=col>⋯</th><th scope=col>&lt;dbl&gt;</th><th scope=col>&lt;dbl&gt;</th><th scope=col>&lt;int&gt;</th><th scope=col>&lt;int&gt;</th><th scope=col>&lt;chr&gt;</th><th scope=col>&lt;chr&gt;</th><th scope=col>&lt;chr&gt;</th><th scope=col>&lt;chr&gt;</th><th scope=col>&lt;chr&gt;</th><th scope=col>&lt;lgl&gt;</th></tr>\n",
       "</thead>\n",
       "<tbody>\n",
       "\t<tr><td>7</td><td>60728</td><td>rs4916941 </td><td>G</td><td>A</td><td>-0.04609630</td><td>0.0304</td><td>0.13010</td><td>19</td><td>0.970</td><td>⋯</td><td>0.857</td><td>49458.29</td><td>40581</td><td>368564</td><td>+?-++-?-++-+++--+++-----+----++?+-+-+-?+-++-+++--+-+??+??</td><td>G</td><td>A</td><td>G</td><td>A</td><td>TRUE</td></tr>\n",
       "\t<tr><td>7</td><td>71938</td><td>rs13437666</td><td>A</td><td>C</td><td>-0.04880166</td><td>0.0304</td><td>0.10830</td><td> 1</td><td>0.969</td><td>⋯</td><td>0.845</td><td>49458.29</td><td>40581</td><td>368564</td><td>-?---+?+--+---++---+++++--+++--?-+-+-+?-++-+---++-+-??-??</td><td>A</td><td>C</td><td>A</td><td>C</td><td>TRUE</td></tr>\n",
       "\t<tr><td>7</td><td>80500</td><td>rs12533719</td><td>T</td><td>C</td><td>-0.01620052</td><td>0.0111</td><td>0.14330</td><td> 1</td><td>0.743</td><td>⋯</td><td>0.938</td><td>50981.48</td><td>41917</td><td>371549</td><td>+----+-++--+---+---+-+-+--+++-++----+++-++-+-+-++--+-++--</td><td>T</td><td>C</td><td>T</td><td>C</td><td>TRUE</td></tr>\n",
       "\t<tr><td>7</td><td>82240</td><td>rs13236314</td><td>C</td><td>T</td><td> 0.03040311</td><td>0.0126</td><td>0.01623</td><td> 1</td><td>0.822</td><td>⋯</td><td>0.927</td><td>50981.48</td><td>41917</td><td>371549</td><td>--------+-------+--++----++++-+------+-++++-----+----+++-</td><td>C</td><td>T</td><td>C</td><td>T</td><td>TRUE</td></tr>\n",
       "\t<tr><td>7</td><td>82405</td><td>rs10229024</td><td>G</td><td>C</td><td>-0.01339937</td><td>0.0140</td><td>0.33800</td><td> 1</td><td>0.859</td><td>⋯</td><td>0.935</td><td>50981.48</td><td>41917</td><td>371549</td><td>-++++----++-+++-++--+--++++-+++--++----+--+-++--+-+-+--+-</td><td>G</td><td>C</td><td>G</td><td>C</td><td>TRUE</td></tr>\n",
       "\t<tr><td>7</td><td>83185</td><td>rs4076161 </td><td>T</td><td>C</td><td>-0.01360209</td><td>0.0147</td><td>0.35320</td><td>15</td><td>0.879</td><td>⋯</td><td>0.951</td><td>50981.48</td><td>41917</td><td>371549</td><td>+++--+----++---++--+++-+-++++-++-------+-+-+-+--+-+--+++-</td><td>T</td><td>C</td><td>T</td><td>C</td><td>TRUE</td></tr>\n",
       "</tbody>\n",
       "</table>\n"
      ],
      "text/latex": [
       "A data.table: 6 × 21\n",
       "\\begin{tabular}{lllllllllllllllllllll}\n",
       " CHR & BP & SNP & A1 & A2 & BETA & SE & PVAL & NGT & FCAS & ⋯ & IMPINFO & NEFFDIV2 & NCAS & NCON & DIRE & REF\\_EUR & ALT\\_EUR & REF\\_libd & ALT\\_libd & matches\\_ref\\\\\n",
       " <int> & <int> & <chr> & <chr> & <chr> & <dbl> & <dbl> & <dbl> & <int> & <dbl> & ⋯ & <dbl> & <dbl> & <int> & <int> & <chr> & <chr> & <chr> & <chr> & <chr> & <lgl>\\\\\n",
       "\\hline\n",
       "\t 7 & 60728 & rs4916941  & G & A & -0.04609630 & 0.0304 & 0.13010 & 19 & 0.970 & ⋯ & 0.857 & 49458.29 & 40581 & 368564 & +?-++-?-++-+++--+++-----+----++?+-+-+-?+-++-+++--+-+??+?? & G & A & G & A & TRUE\\\\\n",
       "\t 7 & 71938 & rs13437666 & A & C & -0.04880166 & 0.0304 & 0.10830 &  1 & 0.969 & ⋯ & 0.845 & 49458.29 & 40581 & 368564 & -?---+?+--+---++---+++++--+++--?-+-+-+?-++-+---++-+-??-?? & A & C & A & C & TRUE\\\\\n",
       "\t 7 & 80500 & rs12533719 & T & C & -0.01620052 & 0.0111 & 0.14330 &  1 & 0.743 & ⋯ & 0.938 & 50981.48 & 41917 & 371549 & +----+-++--+---+---+-+-+--+++-++----+++-++-+-+-++--+-++-- & T & C & T & C & TRUE\\\\\n",
       "\t 7 & 82240 & rs13236314 & C & T &  0.03040311 & 0.0126 & 0.01623 &  1 & 0.822 & ⋯ & 0.927 & 50981.48 & 41917 & 371549 & --------+-------+--++----++++-+------+-++++-----+----+++- & C & T & C & T & TRUE\\\\\n",
       "\t 7 & 82405 & rs10229024 & G & C & -0.01339937 & 0.0140 & 0.33800 &  1 & 0.859 & ⋯ & 0.935 & 50981.48 & 41917 & 371549 & -++++----++-+++-++--+--++++-+++--++----+--+-++--+-+-+--+- & G & C & G & C & TRUE\\\\\n",
       "\t 7 & 83185 & rs4076161  & T & C & -0.01360209 & 0.0147 & 0.35320 & 15 & 0.879 & ⋯ & 0.951 & 50981.48 & 41917 & 371549 & +++--+----++---++--+++-+-++++-++-------+-+-+-+--+-+--+++- & T & C & T & C & TRUE\\\\\n",
       "\\end{tabular}\n"
      ],
      "text/markdown": [
       "\n",
       "A data.table: 6 × 21\n",
       "\n",
       "| CHR &lt;int&gt; | BP &lt;int&gt; | SNP &lt;chr&gt; | A1 &lt;chr&gt; | A2 &lt;chr&gt; | BETA &lt;dbl&gt; | SE &lt;dbl&gt; | PVAL &lt;dbl&gt; | NGT &lt;int&gt; | FCAS &lt;dbl&gt; | ⋯ ⋯ | IMPINFO &lt;dbl&gt; | NEFFDIV2 &lt;dbl&gt; | NCAS &lt;int&gt; | NCON &lt;int&gt; | DIRE &lt;chr&gt; | REF_EUR &lt;chr&gt; | ALT_EUR &lt;chr&gt; | REF_libd &lt;chr&gt; | ALT_libd &lt;chr&gt; | matches_ref &lt;lgl&gt; |\n",
       "|---|---|---|---|---|---|---|---|---|---|---|---|---|---|---|---|---|---|---|---|---|\n",
       "| 7 | 60728 | rs4916941  | G | A | -0.04609630 | 0.0304 | 0.13010 | 19 | 0.970 | ⋯ | 0.857 | 49458.29 | 40581 | 368564 | +?-++-?-++-+++--+++-----+----++?+-+-+-?+-++-+++--+-+??+?? | G | A | G | A | TRUE |\n",
       "| 7 | 71938 | rs13437666 | A | C | -0.04880166 | 0.0304 | 0.10830 |  1 | 0.969 | ⋯ | 0.845 | 49458.29 | 40581 | 368564 | -?---+?+--+---++---+++++--+++--?-+-+-+?-++-+---++-+-??-?? | A | C | A | C | TRUE |\n",
       "| 7 | 80500 | rs12533719 | T | C | -0.01620052 | 0.0111 | 0.14330 |  1 | 0.743 | ⋯ | 0.938 | 50981.48 | 41917 | 371549 | +----+-++--+---+---+-+-+--+++-++----+++-++-+-+-++--+-++-- | T | C | T | C | TRUE |\n",
       "| 7 | 82240 | rs13236314 | C | T |  0.03040311 | 0.0126 | 0.01623 |  1 | 0.822 | ⋯ | 0.927 | 50981.48 | 41917 | 371549 | --------+-------+--++----++++-+------+-++++-----+----+++- | C | T | C | T | TRUE |\n",
       "| 7 | 82405 | rs10229024 | G | C | -0.01339937 | 0.0140 | 0.33800 |  1 | 0.859 | ⋯ | 0.935 | 50981.48 | 41917 | 371549 | -++++----++-+++-++--+--++++-+++--++----+--+-++--+-+-+--+- | G | C | G | C | TRUE |\n",
       "| 7 | 83185 | rs4076161  | T | C | -0.01360209 | 0.0147 | 0.35320 | 15 | 0.879 | ⋯ | 0.951 | 50981.48 | 41917 | 371549 | +++--+----++---++--+++-+-++++-++-------+-+-+-+--+-+--+++- | T | C | T | C | TRUE |\n",
       "\n"
      ],
      "text/plain": [
       "  CHR BP    SNP        A1 A2 BETA        SE     PVAL    NGT FCAS  ⋯ IMPINFO\n",
       "1 7   60728 rs4916941  G  A  -0.04609630 0.0304 0.13010 19  0.970 ⋯ 0.857  \n",
       "2 7   71938 rs13437666 A  C  -0.04880166 0.0304 0.10830  1  0.969 ⋯ 0.845  \n",
       "3 7   80500 rs12533719 T  C  -0.01620052 0.0111 0.14330  1  0.743 ⋯ 0.938  \n",
       "4 7   82240 rs13236314 C  T   0.03040311 0.0126 0.01623  1  0.822 ⋯ 0.927  \n",
       "5 7   82405 rs10229024 G  C  -0.01339937 0.0140 0.33800  1  0.859 ⋯ 0.935  \n",
       "6 7   83185 rs4076161  T  C  -0.01360209 0.0147 0.35320 15  0.879 ⋯ 0.951  \n",
       "  NEFFDIV2 NCAS  NCON  \n",
       "1 49458.29 40581 368564\n",
       "2 49458.29 40581 368564\n",
       "3 50981.48 41917 371549\n",
       "4 50981.48 41917 371549\n",
       "5 50981.48 41917 371549\n",
       "6 50981.48 41917 371549\n",
       "  DIRE                                                      REF_EUR ALT_EUR\n",
       "1 +?-++-?-++-+++--+++-----+----++?+-+-+-?+-++-+++--+-+??+?? G       A      \n",
       "2 -?---+?+--+---++---+++++--+++--?-+-+-+?-++-+---++-+-??-?? A       C      \n",
       "3 +----+-++--+---+---+-+-+--+++-++----+++-++-+-+-++--+-++-- T       C      \n",
       "4 --------+-------+--++----++++-+------+-++++-----+----+++- C       T      \n",
       "5 -++++----++-+++-++--+--++++-+++--++----+--+-++--+-+-+--+- G       C      \n",
       "6 +++--+----++---++--+++-+-++++-++-------+-+-+-+--+-+--+++- T       C      \n",
       "  REF_libd ALT_libd matches_ref\n",
       "1 G        A        TRUE       \n",
       "2 A        C        TRUE       \n",
       "3 T        C        TRUE       \n",
       "4 C        T        TRUE       \n",
       "5 G        C        TRUE       \n",
       "6 T        C        TRUE       "
      ]
     },
     "metadata": {},
     "output_type": "display_data"
    }
   ],
   "source": [
    "# Logical condition where alleles match with both ref and libd\n",
    "match_both <- (merged_data$A1 == merged_data$REF_EUR & merged_data$A2 == merged_data$ALT_EUR) &\n",
    "              (merged_data$A1 == merged_data$REF_libd & merged_data$A2 == merged_data$ALT_libd)\n",
    "\n",
    "# View rows where none mismatch\n",
    "head(merged_data[match_both, ])\n"
   ]
  },
  {
   "cell_type": "code",
   "execution_count": 228,
   "id": "4f0d6e7a-7fd1-4135-9a10-ea210d54cb51",
   "metadata": {},
   "outputs": [
    {
     "data": {
      "text/html": [
       "<table class=\"dataframe\">\n",
       "<caption>A data.table: 6 × 21</caption>\n",
       "<thead>\n",
       "\t<tr><th scope=col>CHR</th><th scope=col>BP</th><th scope=col>SNP</th><th scope=col>A1</th><th scope=col>A2</th><th scope=col>BETA</th><th scope=col>SE</th><th scope=col>PVAL</th><th scope=col>NGT</th><th scope=col>FCAS</th><th scope=col>⋯</th><th scope=col>IMPINFO</th><th scope=col>NEFFDIV2</th><th scope=col>NCAS</th><th scope=col>NCON</th><th scope=col>DIRE</th><th scope=col>REF_EUR</th><th scope=col>ALT_EUR</th><th scope=col>REF_libd</th><th scope=col>ALT_libd</th><th scope=col>matches_ref</th></tr>\n",
       "\t<tr><th scope=col>&lt;int&gt;</th><th scope=col>&lt;int&gt;</th><th scope=col>&lt;chr&gt;</th><th scope=col>&lt;chr&gt;</th><th scope=col>&lt;chr&gt;</th><th scope=col>&lt;dbl&gt;</th><th scope=col>&lt;dbl&gt;</th><th scope=col>&lt;dbl&gt;</th><th scope=col>&lt;int&gt;</th><th scope=col>&lt;dbl&gt;</th><th scope=col>⋯</th><th scope=col>&lt;dbl&gt;</th><th scope=col>&lt;dbl&gt;</th><th scope=col>&lt;int&gt;</th><th scope=col>&lt;int&gt;</th><th scope=col>&lt;chr&gt;</th><th scope=col>&lt;chr&gt;</th><th scope=col>&lt;chr&gt;</th><th scope=col>&lt;chr&gt;</th><th scope=col>&lt;chr&gt;</th><th scope=col>&lt;lgl&gt;</th></tr>\n",
       "</thead>\n",
       "<tbody>\n",
       "\t<tr><td>7</td><td>9918740</td><td>rs4520074 </td><td>C</td><td>A</td><td> 0.002297359</td><td>0.0157</td><td>0.8832</td><td>1</td><td>0.901</td><td>⋯</td><td>0.988</td><td>50981.48</td><td>41917</td><td>371549</td><td>-+++-+----+-+--++--+----++++--+++---+-+++++--++---++-+-++</td><td>C</td><td>A</td><td>A</td><td>C</td><td>TRUE</td></tr>\n",
       "\t<tr><td>7</td><td>9918792</td><td>rs4472429 </td><td>G</td><td>A</td><td> 0.002197584</td><td>0.0154</td><td>0.8876</td><td>5</td><td>0.895</td><td>⋯</td><td>0.986</td><td>50981.48</td><td>41917</td><td>371549</td><td>-+++-+----+-+--+---+----++++--+-+---+-++++++-++---++-+-++</td><td>G</td><td>A</td><td>A</td><td>G</td><td>TRUE</td></tr>\n",
       "\t<tr><td>7</td><td>9919273</td><td>rs9640129 </td><td>G</td><td>A</td><td>-0.005304042</td><td>0.0218</td><td>0.8070</td><td>1</td><td>0.951</td><td>⋯</td><td>0.987</td><td>50772.41</td><td>41587</td><td>371396</td><td>++-+-+--+---+--+++++-+---+++---+++--+-+++++-+-+-+-+-?+-?-</td><td>G</td><td>A</td><td>A</td><td>G</td><td>TRUE</td></tr>\n",
       "\t<tr><td>7</td><td>9919889</td><td>rs12702956</td><td>T</td><td>G</td><td>-0.009202211</td><td>0.0164</td><td>0.5724</td><td>0</td><td>0.900</td><td>⋯</td><td>0.985</td><td>46282.26</td><td>39538</td><td>161738</td><td>+---+-++++-+-++--++-++++----++-+-+++-+------+--??+--+-+--</td><td>T</td><td>G</td><td>G</td><td>T</td><td>TRUE</td></tr>\n",
       "\t<tr><td>7</td><td>9920756</td><td>rs9640130 </td><td>G</td><td>A</td><td> 0.004001981</td><td>0.0159</td><td>0.8020</td><td>1</td><td>0.903</td><td>⋯</td><td>0.981</td><td>50981.48</td><td>41917</td><td>371549</td><td>-+++-+----+-+--++--+----++++--+-++--+-+++++--++--+++-++++</td><td>G</td><td>A</td><td>A</td><td>G</td><td>TRUE</td></tr>\n",
       "\t<tr><td>7</td><td>9922106</td><td>rs58107888</td><td>C</td><td>T</td><td> 0.004400304</td><td>0.0160</td><td>0.7825</td><td>1</td><td>0.903</td><td>⋯</td><td>0.978</td><td>50981.48</td><td>41917</td><td>371549</td><td>-+++-+----+-+--++--+----++++--+-++--+-+++++--++---++-++++</td><td>C</td><td>T</td><td>T</td><td>C</td><td>TRUE</td></tr>\n",
       "</tbody>\n",
       "</table>\n"
      ],
      "text/latex": [
       "A data.table: 6 × 21\n",
       "\\begin{tabular}{lllllllllllllllllllll}\n",
       " CHR & BP & SNP & A1 & A2 & BETA & SE & PVAL & NGT & FCAS & ⋯ & IMPINFO & NEFFDIV2 & NCAS & NCON & DIRE & REF\\_EUR & ALT\\_EUR & REF\\_libd & ALT\\_libd & matches\\_ref\\\\\n",
       " <int> & <int> & <chr> & <chr> & <chr> & <dbl> & <dbl> & <dbl> & <int> & <dbl> & ⋯ & <dbl> & <dbl> & <int> & <int> & <chr> & <chr> & <chr> & <chr> & <chr> & <lgl>\\\\\n",
       "\\hline\n",
       "\t 7 & 9918740 & rs4520074  & C & A &  0.002297359 & 0.0157 & 0.8832 & 1 & 0.901 & ⋯ & 0.988 & 50981.48 & 41917 & 371549 & -+++-+----+-+--++--+----++++--+++---+-+++++--++---++-+-++ & C & A & A & C & TRUE\\\\\n",
       "\t 7 & 9918792 & rs4472429  & G & A &  0.002197584 & 0.0154 & 0.8876 & 5 & 0.895 & ⋯ & 0.986 & 50981.48 & 41917 & 371549 & -+++-+----+-+--+---+----++++--+-+---+-++++++-++---++-+-++ & G & A & A & G & TRUE\\\\\n",
       "\t 7 & 9919273 & rs9640129  & G & A & -0.005304042 & 0.0218 & 0.8070 & 1 & 0.951 & ⋯ & 0.987 & 50772.41 & 41587 & 371396 & ++-+-+--+---+--+++++-+---+++---+++--+-+++++-+-+-+-+-?+-?- & G & A & A & G & TRUE\\\\\n",
       "\t 7 & 9919889 & rs12702956 & T & G & -0.009202211 & 0.0164 & 0.5724 & 0 & 0.900 & ⋯ & 0.985 & 46282.26 & 39538 & 161738 & +---+-++++-+-++--++-++++----++-+-+++-+------+--??+--+-+-- & T & G & G & T & TRUE\\\\\n",
       "\t 7 & 9920756 & rs9640130  & G & A &  0.004001981 & 0.0159 & 0.8020 & 1 & 0.903 & ⋯ & 0.981 & 50981.48 & 41917 & 371549 & -+++-+----+-+--++--+----++++--+-++--+-+++++--++--+++-++++ & G & A & A & G & TRUE\\\\\n",
       "\t 7 & 9922106 & rs58107888 & C & T &  0.004400304 & 0.0160 & 0.7825 & 1 & 0.903 & ⋯ & 0.978 & 50981.48 & 41917 & 371549 & -+++-+----+-+--++--+----++++--+-++--+-+++++--++---++-++++ & C & T & T & C & TRUE\\\\\n",
       "\\end{tabular}\n"
      ],
      "text/markdown": [
       "\n",
       "A data.table: 6 × 21\n",
       "\n",
       "| CHR &lt;int&gt; | BP &lt;int&gt; | SNP &lt;chr&gt; | A1 &lt;chr&gt; | A2 &lt;chr&gt; | BETA &lt;dbl&gt; | SE &lt;dbl&gt; | PVAL &lt;dbl&gt; | NGT &lt;int&gt; | FCAS &lt;dbl&gt; | ⋯ ⋯ | IMPINFO &lt;dbl&gt; | NEFFDIV2 &lt;dbl&gt; | NCAS &lt;int&gt; | NCON &lt;int&gt; | DIRE &lt;chr&gt; | REF_EUR &lt;chr&gt; | ALT_EUR &lt;chr&gt; | REF_libd &lt;chr&gt; | ALT_libd &lt;chr&gt; | matches_ref &lt;lgl&gt; |\n",
       "|---|---|---|---|---|---|---|---|---|---|---|---|---|---|---|---|---|---|---|---|---|\n",
       "| 7 | 9918740 | rs4520074  | C | A |  0.002297359 | 0.0157 | 0.8832 | 1 | 0.901 | ⋯ | 0.988 | 50981.48 | 41917 | 371549 | -+++-+----+-+--++--+----++++--+++---+-+++++--++---++-+-++ | C | A | A | C | TRUE |\n",
       "| 7 | 9918792 | rs4472429  | G | A |  0.002197584 | 0.0154 | 0.8876 | 5 | 0.895 | ⋯ | 0.986 | 50981.48 | 41917 | 371549 | -+++-+----+-+--+---+----++++--+-+---+-++++++-++---++-+-++ | G | A | A | G | TRUE |\n",
       "| 7 | 9919273 | rs9640129  | G | A | -0.005304042 | 0.0218 | 0.8070 | 1 | 0.951 | ⋯ | 0.987 | 50772.41 | 41587 | 371396 | ++-+-+--+---+--+++++-+---+++---+++--+-+++++-+-+-+-+-?+-?- | G | A | A | G | TRUE |\n",
       "| 7 | 9919889 | rs12702956 | T | G | -0.009202211 | 0.0164 | 0.5724 | 0 | 0.900 | ⋯ | 0.985 | 46282.26 | 39538 | 161738 | +---+-++++-+-++--++-++++----++-+-+++-+------+--??+--+-+-- | T | G | G | T | TRUE |\n",
       "| 7 | 9920756 | rs9640130  | G | A |  0.004001981 | 0.0159 | 0.8020 | 1 | 0.903 | ⋯ | 0.981 | 50981.48 | 41917 | 371549 | -+++-+----+-+--++--+----++++--+-++--+-+++++--++--+++-++++ | G | A | A | G | TRUE |\n",
       "| 7 | 9922106 | rs58107888 | C | T |  0.004400304 | 0.0160 | 0.7825 | 1 | 0.903 | ⋯ | 0.978 | 50981.48 | 41917 | 371549 | -+++-+----+-+--++--+----++++--+-++--+-+++++--++---++-++++ | C | T | T | C | TRUE |\n",
       "\n"
      ],
      "text/plain": [
       "  CHR BP      SNP        A1 A2 BETA         SE     PVAL   NGT FCAS  ⋯ IMPINFO\n",
       "1 7   9918740 rs4520074  C  A   0.002297359 0.0157 0.8832 1   0.901 ⋯ 0.988  \n",
       "2 7   9918792 rs4472429  G  A   0.002197584 0.0154 0.8876 5   0.895 ⋯ 0.986  \n",
       "3 7   9919273 rs9640129  G  A  -0.005304042 0.0218 0.8070 1   0.951 ⋯ 0.987  \n",
       "4 7   9919889 rs12702956 T  G  -0.009202211 0.0164 0.5724 0   0.900 ⋯ 0.985  \n",
       "5 7   9920756 rs9640130  G  A   0.004001981 0.0159 0.8020 1   0.903 ⋯ 0.981  \n",
       "6 7   9922106 rs58107888 C  T   0.004400304 0.0160 0.7825 1   0.903 ⋯ 0.978  \n",
       "  NEFFDIV2 NCAS  NCON  \n",
       "1 50981.48 41917 371549\n",
       "2 50981.48 41917 371549\n",
       "3 50772.41 41587 371396\n",
       "4 46282.26 39538 161738\n",
       "5 50981.48 41917 371549\n",
       "6 50981.48 41917 371549\n",
       "  DIRE                                                      REF_EUR ALT_EUR\n",
       "1 -+++-+----+-+--++--+----++++--+++---+-+++++--++---++-+-++ C       A      \n",
       "2 -+++-+----+-+--+---+----++++--+-+---+-++++++-++---++-+-++ G       A      \n",
       "3 ++-+-+--+---+--+++++-+---+++---+++--+-+++++-+-+-+-+-?+-?- G       A      \n",
       "4 +---+-++++-+-++--++-++++----++-+-+++-+------+--??+--+-+-- T       G      \n",
       "5 -+++-+----+-+--++--+----++++--+-++--+-+++++--++--+++-++++ G       A      \n",
       "6 -+++-+----+-+--++--+----++++--+-++--+-+++++--++---++-++++ C       T      \n",
       "  REF_libd ALT_libd matches_ref\n",
       "1 A        C        TRUE       \n",
       "2 A        G        TRUE       \n",
       "3 A        G        TRUE       \n",
       "4 G        T        TRUE       \n",
       "5 A        G        TRUE       \n",
       "6 T        C        TRUE       "
      ]
     },
     "metadata": {},
     "output_type": "display_data"
    }
   ],
   "source": [
    "# Logical condition where ss mismatches with libd but matches with ref\n",
    "mismatch_libd_only <- (merged_data$A1 != merged_data$REF_libd | merged_data$A2 != merged_data$ALT_libd) &\n",
    "                      (merged_data$A1 == merged_data$REF_EUR & merged_data$A2 == merged_data$ALT_EUR)\n",
    "\n",
    "# View rows where ss mismatches with libd\n",
    "head(merged_data[mismatch_libd_only, ])\n"
   ]
  },
  {
   "cell_type": "code",
   "execution_count": 237,
   "id": "dde5f81b-3d20-4903-b5c2-732572fda410",
   "metadata": {},
   "outputs": [
    {
     "data": {
      "text/html": [
       "<table class=\"dataframe\">\n",
       "<caption>A data.table: 6 × 21</caption>\n",
       "<thead>\n",
       "\t<tr><th scope=col>CHR</th><th scope=col>BP</th><th scope=col>SNP</th><th scope=col>A1</th><th scope=col>A2</th><th scope=col>BETA</th><th scope=col>SE</th><th scope=col>PVAL</th><th scope=col>NGT</th><th scope=col>FCAS</th><th scope=col>⋯</th><th scope=col>IMPINFO</th><th scope=col>NEFFDIV2</th><th scope=col>NCAS</th><th scope=col>NCON</th><th scope=col>DIRE</th><th scope=col>REF_EUR</th><th scope=col>ALT_EUR</th><th scope=col>REF_libd</th><th scope=col>ALT_libd</th><th scope=col>matches_ref</th></tr>\n",
       "\t<tr><th scope=col>&lt;int&gt;</th><th scope=col>&lt;int&gt;</th><th scope=col>&lt;chr&gt;</th><th scope=col>&lt;chr&gt;</th><th scope=col>&lt;chr&gt;</th><th scope=col>&lt;dbl&gt;</th><th scope=col>&lt;dbl&gt;</th><th scope=col>&lt;dbl&gt;</th><th scope=col>&lt;int&gt;</th><th scope=col>&lt;dbl&gt;</th><th scope=col>⋯</th><th scope=col>&lt;dbl&gt;</th><th scope=col>&lt;dbl&gt;</th><th scope=col>&lt;int&gt;</th><th scope=col>&lt;int&gt;</th><th scope=col>&lt;chr&gt;</th><th scope=col>&lt;chr&gt;</th><th scope=col>&lt;chr&gt;</th><th scope=col>&lt;chr&gt;</th><th scope=col>&lt;chr&gt;</th><th scope=col>&lt;lgl&gt;</th></tr>\n",
       "</thead>\n",
       "<tbody>\n",
       "\t<tr><td>7</td><td>9919610</td><td>rs2971070</td><td>G</td><td>C</td><td>-0.008203557</td><td>0.0098</td><td>0.4040</td><td>1</td><td>0.338</td><td>⋯</td><td>0.998</td><td>50981.48</td><td>41917</td><td>371549</td><td>++++-+-+----+++---+--+--++-++++---+-++++-+-+--++-+--+++++</td><td>C</td><td>G</td><td>C</td><td>G</td><td>TRUE</td></tr>\n",
       "\t<tr><td>7</td><td>9920155</td><td>rs1029553</td><td>A</td><td>T</td><td>-0.008596847</td><td>0.0098</td><td>0.3813</td><td>1</td><td>0.338</td><td>⋯</td><td>0.997</td><td>50981.48</td><td>41917</td><td>371549</td><td>----+-+-++++---+++-++-++--+----+++-+----+-+-++--+-++-+---</td><td>T</td><td>A</td><td>T</td><td>A</td><td>TRUE</td></tr>\n",
       "\t<tr><td>7</td><td>9921134</td><td>rs2906387</td><td>G</td><td>T</td><td>-0.009303140</td><td>0.0098</td><td>0.3449</td><td>9</td><td>0.338</td><td>⋯</td><td>0.997</td><td>50981.48</td><td>41917</td><td>371549</td><td>++++-+-+----+++---+--+--++-++++---+-++++---+--++-+--+-+++</td><td>T</td><td>G</td><td>T</td><td>G</td><td>TRUE</td></tr>\n",
       "\t<tr><td>7</td><td>9921437</td><td>rs2971068</td><td>G</td><td>A</td><td>-0.009696863</td><td>0.0098</td><td>0.3250</td><td>1</td><td>0.338</td><td>⋯</td><td>0.997</td><td>50981.48</td><td>41917</td><td>371549</td><td>++++-+-+-----++---+--+--++-++++---+-++++-+-+--++-+--+++++</td><td>A</td><td>G</td><td>A</td><td>G</td><td>TRUE</td></tr>\n",
       "\t<tr><td>7</td><td>9921647</td><td>rs2906386</td><td>G</td><td>T</td><td>-0.008899483</td><td>0.0099</td><td>0.3676</td><td>0</td><td>0.337</td><td>⋯</td><td>0.998</td><td>50186.29</td><td>41510</td><td>354340</td><td>++++-+-+----+++---+--+--++-++++---+-++++-+-+--++?+--+++++</td><td>T</td><td>G</td><td>T</td><td>G</td><td>TRUE</td></tr>\n",
       "\t<tr><td>7</td><td>9921738</td><td>rs2214789</td><td>T</td><td>C</td><td>-0.008697716</td><td>0.0098</td><td>0.3729</td><td>1</td><td>0.337</td><td>⋯</td><td>0.997</td><td>50981.48</td><td>41917</td><td>371549</td><td>----+-+-++++---+++-++-++--+----+++-+----+-+-++--+-++-----</td><td>C</td><td>T</td><td>C</td><td>T</td><td>TRUE</td></tr>\n",
       "</tbody>\n",
       "</table>\n"
      ],
      "text/latex": [
       "A data.table: 6 × 21\n",
       "\\begin{tabular}{lllllllllllllllllllll}\n",
       " CHR & BP & SNP & A1 & A2 & BETA & SE & PVAL & NGT & FCAS & ⋯ & IMPINFO & NEFFDIV2 & NCAS & NCON & DIRE & REF\\_EUR & ALT\\_EUR & REF\\_libd & ALT\\_libd & matches\\_ref\\\\\n",
       " <int> & <int> & <chr> & <chr> & <chr> & <dbl> & <dbl> & <dbl> & <int> & <dbl> & ⋯ & <dbl> & <dbl> & <int> & <int> & <chr> & <chr> & <chr> & <chr> & <chr> & <lgl>\\\\\n",
       "\\hline\n",
       "\t 7 & 9919610 & rs2971070 & G & C & -0.008203557 & 0.0098 & 0.4040 & 1 & 0.338 & ⋯ & 0.998 & 50981.48 & 41917 & 371549 & ++++-+-+----+++---+--+--++-++++---+-++++-+-+--++-+--+++++ & C & G & C & G & TRUE\\\\\n",
       "\t 7 & 9920155 & rs1029553 & A & T & -0.008596847 & 0.0098 & 0.3813 & 1 & 0.338 & ⋯ & 0.997 & 50981.48 & 41917 & 371549 & ----+-+-++++---+++-++-++--+----+++-+----+-+-++--+-++-+--- & T & A & T & A & TRUE\\\\\n",
       "\t 7 & 9921134 & rs2906387 & G & T & -0.009303140 & 0.0098 & 0.3449 & 9 & 0.338 & ⋯ & 0.997 & 50981.48 & 41917 & 371549 & ++++-+-+----+++---+--+--++-++++---+-++++---+--++-+--+-+++ & T & G & T & G & TRUE\\\\\n",
       "\t 7 & 9921437 & rs2971068 & G & A & -0.009696863 & 0.0098 & 0.3250 & 1 & 0.338 & ⋯ & 0.997 & 50981.48 & 41917 & 371549 & ++++-+-+-----++---+--+--++-++++---+-++++-+-+--++-+--+++++ & A & G & A & G & TRUE\\\\\n",
       "\t 7 & 9921647 & rs2906386 & G & T & -0.008899483 & 0.0099 & 0.3676 & 0 & 0.337 & ⋯ & 0.998 & 50186.29 & 41510 & 354340 & ++++-+-+----+++---+--+--++-++++---+-++++-+-+--++?+--+++++ & T & G & T & G & TRUE\\\\\n",
       "\t 7 & 9921738 & rs2214789 & T & C & -0.008697716 & 0.0098 & 0.3729 & 1 & 0.337 & ⋯ & 0.997 & 50981.48 & 41917 & 371549 & ----+-+-++++---+++-++-++--+----+++-+----+-+-++--+-++----- & C & T & C & T & TRUE\\\\\n",
       "\\end{tabular}\n"
      ],
      "text/markdown": [
       "\n",
       "A data.table: 6 × 21\n",
       "\n",
       "| CHR &lt;int&gt; | BP &lt;int&gt; | SNP &lt;chr&gt; | A1 &lt;chr&gt; | A2 &lt;chr&gt; | BETA &lt;dbl&gt; | SE &lt;dbl&gt; | PVAL &lt;dbl&gt; | NGT &lt;int&gt; | FCAS &lt;dbl&gt; | ⋯ ⋯ | IMPINFO &lt;dbl&gt; | NEFFDIV2 &lt;dbl&gt; | NCAS &lt;int&gt; | NCON &lt;int&gt; | DIRE &lt;chr&gt; | REF_EUR &lt;chr&gt; | ALT_EUR &lt;chr&gt; | REF_libd &lt;chr&gt; | ALT_libd &lt;chr&gt; | matches_ref &lt;lgl&gt; |\n",
       "|---|---|---|---|---|---|---|---|---|---|---|---|---|---|---|---|---|---|---|---|---|\n",
       "| 7 | 9919610 | rs2971070 | G | C | -0.008203557 | 0.0098 | 0.4040 | 1 | 0.338 | ⋯ | 0.998 | 50981.48 | 41917 | 371549 | ++++-+-+----+++---+--+--++-++++---+-++++-+-+--++-+--+++++ | C | G | C | G | TRUE |\n",
       "| 7 | 9920155 | rs1029553 | A | T | -0.008596847 | 0.0098 | 0.3813 | 1 | 0.338 | ⋯ | 0.997 | 50981.48 | 41917 | 371549 | ----+-+-++++---+++-++-++--+----+++-+----+-+-++--+-++-+--- | T | A | T | A | TRUE |\n",
       "| 7 | 9921134 | rs2906387 | G | T | -0.009303140 | 0.0098 | 0.3449 | 9 | 0.338 | ⋯ | 0.997 | 50981.48 | 41917 | 371549 | ++++-+-+----+++---+--+--++-++++---+-++++---+--++-+--+-+++ | T | G | T | G | TRUE |\n",
       "| 7 | 9921437 | rs2971068 | G | A | -0.009696863 | 0.0098 | 0.3250 | 1 | 0.338 | ⋯ | 0.997 | 50981.48 | 41917 | 371549 | ++++-+-+-----++---+--+--++-++++---+-++++-+-+--++-+--+++++ | A | G | A | G | TRUE |\n",
       "| 7 | 9921647 | rs2906386 | G | T | -0.008899483 | 0.0099 | 0.3676 | 0 | 0.337 | ⋯ | 0.998 | 50186.29 | 41510 | 354340 | ++++-+-+----+++---+--+--++-++++---+-++++-+-+--++?+--+++++ | T | G | T | G | TRUE |\n",
       "| 7 | 9921738 | rs2214789 | T | C | -0.008697716 | 0.0098 | 0.3729 | 1 | 0.337 | ⋯ | 0.997 | 50981.48 | 41917 | 371549 | ----+-+-++++---+++-++-++--+----+++-+----+-+-++--+-++----- | C | T | C | T | TRUE |\n",
       "\n"
      ],
      "text/plain": [
       "  CHR BP      SNP       A1 A2 BETA         SE     PVAL   NGT FCAS  ⋯ IMPINFO\n",
       "1 7   9919610 rs2971070 G  C  -0.008203557 0.0098 0.4040 1   0.338 ⋯ 0.998  \n",
       "2 7   9920155 rs1029553 A  T  -0.008596847 0.0098 0.3813 1   0.338 ⋯ 0.997  \n",
       "3 7   9921134 rs2906387 G  T  -0.009303140 0.0098 0.3449 9   0.338 ⋯ 0.997  \n",
       "4 7   9921437 rs2971068 G  A  -0.009696863 0.0098 0.3250 1   0.338 ⋯ 0.997  \n",
       "5 7   9921647 rs2906386 G  T  -0.008899483 0.0099 0.3676 0   0.337 ⋯ 0.998  \n",
       "6 7   9921738 rs2214789 T  C  -0.008697716 0.0098 0.3729 1   0.337 ⋯ 0.997  \n",
       "  NEFFDIV2 NCAS  NCON  \n",
       "1 50981.48 41917 371549\n",
       "2 50981.48 41917 371549\n",
       "3 50981.48 41917 371549\n",
       "4 50981.48 41917 371549\n",
       "5 50186.29 41510 354340\n",
       "6 50981.48 41917 371549\n",
       "  DIRE                                                      REF_EUR ALT_EUR\n",
       "1 ++++-+-+----+++---+--+--++-++++---+-++++-+-+--++-+--+++++ C       G      \n",
       "2 ----+-+-++++---+++-++-++--+----+++-+----+-+-++--+-++-+--- T       A      \n",
       "3 ++++-+-+----+++---+--+--++-++++---+-++++---+--++-+--+-+++ T       G      \n",
       "4 ++++-+-+-----++---+--+--++-++++---+-++++-+-+--++-+--+++++ A       G      \n",
       "5 ++++-+-+----+++---+--+--++-++++---+-++++-+-+--++?+--+++++ T       G      \n",
       "6 ----+-+-++++---+++-++-++--+----+++-+----+-+-++--+-++----- C       T      \n",
       "  REF_libd ALT_libd matches_ref\n",
       "1 C        G        TRUE       \n",
       "2 T        A        TRUE       \n",
       "3 T        G        TRUE       \n",
       "4 A        G        TRUE       \n",
       "5 T        G        TRUE       \n",
       "6 C        T        TRUE       "
      ]
     },
     "metadata": {},
     "output_type": "display_data"
    }
   ],
   "source": [
    "# Logical condition where ss mismatches with both ref and libd\n",
    "mismatch_both <- (merged_data$A1 != merged_data$REF_EUR | merged_data$A2 != merged_data$ALT_EUR) &\n",
    "                 (merged_data$A1 != merged_data$REF_libd | merged_data$A2 != merged_data$ALT_libd)\n",
    "\n",
    "# View rows where ss mismatches with both ref and libd\n",
    "head(merged_data[mismatch_both, ])\n"
   ]
  },
  {
   "cell_type": "markdown",
   "id": "359868bb-fe05-4602-ba8c-d793a71fe3b4",
   "metadata": {},
   "source": [
    "Should be 262"
   ]
  },
  {
   "cell_type": "code",
   "execution_count": 235,
   "id": "10cadec7-dc34-46df-9cae-c3c232f1337d",
   "metadata": {},
   "outputs": [
    {
     "data": {
      "text/html": [
       "72326"
      ],
      "text/latex": [
       "72326"
      ],
      "text/markdown": [
       "72326"
      ],
      "text/plain": [
       "[1] 72326"
      ]
     },
     "metadata": {},
     "output_type": "display_data"
    }
   ],
   "source": [
    "# Check for mismatches with ref\n",
    "mismatch_ref <- merged_data$A1 != merged_data$REF_EUR | merged_data$A2 != merged_data$ALT_EUR\n",
    "\n",
    "# Verify the number of mismatches\n",
    "length(which(mismatch_ref))\n"
   ]
  },
  {
   "cell_type": "code",
   "execution_count": null,
   "id": "97b808be-2c9d-4da7-b309-f03a3699241a",
   "metadata": {},
   "outputs": [],
   "source": []
  },
  {
   "cell_type": "code",
   "execution_count": 214,
   "id": "bbcbb220-08a7-43a4-8c9d-aebc984696eb",
   "metadata": {},
   "outputs": [],
   "source": [
    "# Identify rows where alleles don't match for ref\n",
    "ref_mismatches <- merged_ref[which(A1 != REF_EUR | A2 != ALT_EUR)]"
   ]
  },
  {
   "cell_type": "code",
   "execution_count": 212,
   "id": "e6d90093-33bd-4a9f-b537-c948e6533ce8",
   "metadata": {},
   "outputs": [
    {
     "data": {
      "text/html": [
       "<table class=\"dataframe\">\n",
       "<caption>A data.table: 6 × 18</caption>\n",
       "<thead>\n",
       "\t<tr><th scope=col>CHR</th><th scope=col>BP</th><th scope=col>SNP</th><th scope=col>A1</th><th scope=col>A2</th><th scope=col>BETA</th><th scope=col>SE</th><th scope=col>PVAL</th><th scope=col>NGT</th><th scope=col>FCAS</th><th scope=col>FCON</th><th scope=col>IMPINFO</th><th scope=col>NEFFDIV2</th><th scope=col>NCAS</th><th scope=col>NCON</th><th scope=col>DIRE</th><th scope=col>REF_EUR</th><th scope=col>ALT_EUR</th></tr>\n",
       "\t<tr><th scope=col>&lt;int&gt;</th><th scope=col>&lt;int&gt;</th><th scope=col>&lt;chr&gt;</th><th scope=col>&lt;chr&gt;</th><th scope=col>&lt;chr&gt;</th><th scope=col>&lt;dbl&gt;</th><th scope=col>&lt;dbl&gt;</th><th scope=col>&lt;dbl&gt;</th><th scope=col>&lt;int&gt;</th><th scope=col>&lt;dbl&gt;</th><th scope=col>&lt;dbl&gt;</th><th scope=col>&lt;dbl&gt;</th><th scope=col>&lt;dbl&gt;</th><th scope=col>&lt;int&gt;</th><th scope=col>&lt;int&gt;</th><th scope=col>&lt;chr&gt;</th><th scope=col>&lt;chr&gt;</th><th scope=col>&lt;chr&gt;</th></tr>\n",
       "</thead>\n",
       "<tbody>\n",
       "\t<tr><td>7</td><td>53998</td><td>rs7806592 </td><td>C</td><td>T</td><td> 0.01920441</td><td>0.0124</td><td>0.12170</td><td>24</td><td>0.202</td><td>0.191</td><td>0.885</td><td>50981.48</td><td>41917</td><td>371549</td><td>----+-----+--++-+--+--++++--++-++++--++--+-++---+--+-+--+</td><td>T</td><td>C</td></tr>\n",
       "\t<tr><td>7</td><td>60728</td><td>rs4916941 </td><td>G</td><td>A</td><td>-0.04609630</td><td>0.0304</td><td>0.13010</td><td>19</td><td>0.970</td><td>0.976</td><td>0.857</td><td>49458.29</td><td>40581</td><td>368564</td><td>+?-++-?-++-+++--+++-----+----++?+-+-+-?+-++-+++--+-+??+??</td><td>G</td><td>A</td></tr>\n",
       "\t<tr><td>7</td><td>63494</td><td>rs6964622 </td><td>A</td><td>G</td><td> 0.01240277</td><td>0.0136</td><td>0.36360</td><td>38</td><td>0.181</td><td>0.178</td><td>0.871</td><td>43445.24</td><td>38084</td><td>103625</td><td>++++-+++++-++--+-++-++---+++--+----++-+++-+--++??+?-+-+++</td><td>G</td><td>A</td></tr>\n",
       "\t<tr><td>7</td><td>71938</td><td>rs13437666</td><td>A</td><td>C</td><td>-0.04880166</td><td>0.0304</td><td>0.10830</td><td> 1</td><td>0.969</td><td>0.975</td><td>0.845</td><td>49458.29</td><td>40581</td><td>368564</td><td>-?---+?+--+---++---+++++--+++--?-+-+-+?-++-+---++-+-??-??</td><td>A</td><td>C</td></tr>\n",
       "\t<tr><td>7</td><td>80500</td><td>rs12533719</td><td>T</td><td>C</td><td>-0.01620052</td><td>0.0111</td><td>0.14330</td><td> 1</td><td>0.743</td><td>0.756</td><td>0.938</td><td>50981.48</td><td>41917</td><td>371549</td><td>+----+-++--+---+---+-+-+--+++-++----+++-++-+-+-++--+-++--</td><td>T</td><td>C</td></tr>\n",
       "\t<tr><td>7</td><td>82240</td><td>rs13236314</td><td>C</td><td>T</td><td> 0.03040311</td><td>0.0126</td><td>0.01623</td><td> 1</td><td>0.822</td><td>0.819</td><td>0.927</td><td>50981.48</td><td>41917</td><td>371549</td><td>--------+-------+--++----++++-+------+-++++-----+----+++-</td><td>C</td><td>T</td></tr>\n",
       "</tbody>\n",
       "</table>\n"
      ],
      "text/latex": [
       "A data.table: 6 × 18\n",
       "\\begin{tabular}{llllllllllllllllll}\n",
       " CHR & BP & SNP & A1 & A2 & BETA & SE & PVAL & NGT & FCAS & FCON & IMPINFO & NEFFDIV2 & NCAS & NCON & DIRE & REF\\_EUR & ALT\\_EUR\\\\\n",
       " <int> & <int> & <chr> & <chr> & <chr> & <dbl> & <dbl> & <dbl> & <int> & <dbl> & <dbl> & <dbl> & <dbl> & <int> & <int> & <chr> & <chr> & <chr>\\\\\n",
       "\\hline\n",
       "\t 7 & 53998 & rs7806592  & C & T &  0.01920441 & 0.0124 & 0.12170 & 24 & 0.202 & 0.191 & 0.885 & 50981.48 & 41917 & 371549 & ----+-----+--++-+--+--++++--++-++++--++--+-++---+--+-+--+ & T & C\\\\\n",
       "\t 7 & 60728 & rs4916941  & G & A & -0.04609630 & 0.0304 & 0.13010 & 19 & 0.970 & 0.976 & 0.857 & 49458.29 & 40581 & 368564 & +?-++-?-++-+++--+++-----+----++?+-+-+-?+-++-+++--+-+??+?? & G & A\\\\\n",
       "\t 7 & 63494 & rs6964622  & A & G &  0.01240277 & 0.0136 & 0.36360 & 38 & 0.181 & 0.178 & 0.871 & 43445.24 & 38084 & 103625 & ++++-+++++-++--+-++-++---+++--+----++-+++-+--++??+?-+-+++ & G & A\\\\\n",
       "\t 7 & 71938 & rs13437666 & A & C & -0.04880166 & 0.0304 & 0.10830 &  1 & 0.969 & 0.975 & 0.845 & 49458.29 & 40581 & 368564 & -?---+?+--+---++---+++++--+++--?-+-+-+?-++-+---++-+-??-?? & A & C\\\\\n",
       "\t 7 & 80500 & rs12533719 & T & C & -0.01620052 & 0.0111 & 0.14330 &  1 & 0.743 & 0.756 & 0.938 & 50981.48 & 41917 & 371549 & +----+-++--+---+---+-+-+--+++-++----+++-++-+-+-++--+-++-- & T & C\\\\\n",
       "\t 7 & 82240 & rs13236314 & C & T &  0.03040311 & 0.0126 & 0.01623 &  1 & 0.822 & 0.819 & 0.927 & 50981.48 & 41917 & 371549 & --------+-------+--++----++++-+------+-++++-----+----+++- & C & T\\\\\n",
       "\\end{tabular}\n"
      ],
      "text/markdown": [
       "\n",
       "A data.table: 6 × 18\n",
       "\n",
       "| CHR &lt;int&gt; | BP &lt;int&gt; | SNP &lt;chr&gt; | A1 &lt;chr&gt; | A2 &lt;chr&gt; | BETA &lt;dbl&gt; | SE &lt;dbl&gt; | PVAL &lt;dbl&gt; | NGT &lt;int&gt; | FCAS &lt;dbl&gt; | FCON &lt;dbl&gt; | IMPINFO &lt;dbl&gt; | NEFFDIV2 &lt;dbl&gt; | NCAS &lt;int&gt; | NCON &lt;int&gt; | DIRE &lt;chr&gt; | REF_EUR &lt;chr&gt; | ALT_EUR &lt;chr&gt; |\n",
       "|---|---|---|---|---|---|---|---|---|---|---|---|---|---|---|---|---|---|\n",
       "| 7 | 53998 | rs7806592  | C | T |  0.01920441 | 0.0124 | 0.12170 | 24 | 0.202 | 0.191 | 0.885 | 50981.48 | 41917 | 371549 | ----+-----+--++-+--+--++++--++-++++--++--+-++---+--+-+--+ | T | C |\n",
       "| 7 | 60728 | rs4916941  | G | A | -0.04609630 | 0.0304 | 0.13010 | 19 | 0.970 | 0.976 | 0.857 | 49458.29 | 40581 | 368564 | +?-++-?-++-+++--+++-----+----++?+-+-+-?+-++-+++--+-+??+?? | G | A |\n",
       "| 7 | 63494 | rs6964622  | A | G |  0.01240277 | 0.0136 | 0.36360 | 38 | 0.181 | 0.178 | 0.871 | 43445.24 | 38084 | 103625 | ++++-+++++-++--+-++-++---+++--+----++-+++-+--++??+?-+-+++ | G | A |\n",
       "| 7 | 71938 | rs13437666 | A | C | -0.04880166 | 0.0304 | 0.10830 |  1 | 0.969 | 0.975 | 0.845 | 49458.29 | 40581 | 368564 | -?---+?+--+---++---+++++--+++--?-+-+-+?-++-+---++-+-??-?? | A | C |\n",
       "| 7 | 80500 | rs12533719 | T | C | -0.01620052 | 0.0111 | 0.14330 |  1 | 0.743 | 0.756 | 0.938 | 50981.48 | 41917 | 371549 | +----+-++--+---+---+-+-+--+++-++----+++-++-+-+-++--+-++-- | T | C |\n",
       "| 7 | 82240 | rs13236314 | C | T |  0.03040311 | 0.0126 | 0.01623 |  1 | 0.822 | 0.819 | 0.927 | 50981.48 | 41917 | 371549 | --------+-------+--++----++++-+------+-++++-----+----+++- | C | T |\n",
       "\n"
      ],
      "text/plain": [
       "  CHR BP    SNP        A1 A2 BETA        SE     PVAL    NGT FCAS  FCON  IMPINFO\n",
       "1 7   53998 rs7806592  C  T   0.01920441 0.0124 0.12170 24  0.202 0.191 0.885  \n",
       "2 7   60728 rs4916941  G  A  -0.04609630 0.0304 0.13010 19  0.970 0.976 0.857  \n",
       "3 7   63494 rs6964622  A  G   0.01240277 0.0136 0.36360 38  0.181 0.178 0.871  \n",
       "4 7   71938 rs13437666 A  C  -0.04880166 0.0304 0.10830  1  0.969 0.975 0.845  \n",
       "5 7   80500 rs12533719 T  C  -0.01620052 0.0111 0.14330  1  0.743 0.756 0.938  \n",
       "6 7   82240 rs13236314 C  T   0.03040311 0.0126 0.01623  1  0.822 0.819 0.927  \n",
       "  NEFFDIV2 NCAS  NCON  \n",
       "1 50981.48 41917 371549\n",
       "2 49458.29 40581 368564\n",
       "3 43445.24 38084 103625\n",
       "4 49458.29 40581 368564\n",
       "5 50981.48 41917 371549\n",
       "6 50981.48 41917 371549\n",
       "  DIRE                                                      REF_EUR ALT_EUR\n",
       "1 ----+-----+--++-+--+--++++--++-++++--++--+-++---+--+-+--+ T       C      \n",
       "2 +?-++-?-++-+++--+++-----+----++?+-+-+-?+-++-+++--+-+??+?? G       A      \n",
       "3 ++++-+++++-++--+-++-++---+++--+----++-+++-+--++??+?-+-+++ G       A      \n",
       "4 -?---+?+--+---++---+++++--+++--?-+-+-+?-++-+---++-+-??-?? A       C      \n",
       "5 +----+-++--+---+---+-+-+--+++-++----+++-++-+-+-++--+-++-- T       C      \n",
       "6 --------+-------+--++----++++-+------+-++++-----+----+++- C       T      "
      ]
     },
     "metadata": {},
     "output_type": "display_data"
    }
   ],
   "source": [
    "head(merged_ref)"
   ]
  },
  {
   "cell_type": "code",
   "execution_count": 213,
   "id": "7953338c-186f-4ae2-bcc7-1b251843ab04",
   "metadata": {},
   "outputs": [
    {
     "data": {
      "text/html": [
       "<table class=\"dataframe\">\n",
       "<caption>A data.table: 6 × 18</caption>\n",
       "<thead>\n",
       "\t<tr><th scope=col>CHR</th><th scope=col>BP</th><th scope=col>SNP</th><th scope=col>A1</th><th scope=col>A2</th><th scope=col>BETA</th><th scope=col>SE</th><th scope=col>PVAL</th><th scope=col>NGT</th><th scope=col>FCAS</th><th scope=col>FCON</th><th scope=col>IMPINFO</th><th scope=col>NEFFDIV2</th><th scope=col>NCAS</th><th scope=col>NCON</th><th scope=col>DIRE</th><th scope=col>REF_EUR</th><th scope=col>ALT_EUR</th></tr>\n",
       "\t<tr><th scope=col>&lt;int&gt;</th><th scope=col>&lt;int&gt;</th><th scope=col>&lt;chr&gt;</th><th scope=col>&lt;chr&gt;</th><th scope=col>&lt;chr&gt;</th><th scope=col>&lt;dbl&gt;</th><th scope=col>&lt;dbl&gt;</th><th scope=col>&lt;dbl&gt;</th><th scope=col>&lt;int&gt;</th><th scope=col>&lt;dbl&gt;</th><th scope=col>&lt;dbl&gt;</th><th scope=col>&lt;dbl&gt;</th><th scope=col>&lt;dbl&gt;</th><th scope=col>&lt;int&gt;</th><th scope=col>&lt;int&gt;</th><th scope=col>&lt;chr&gt;</th><th scope=col>&lt;chr&gt;</th><th scope=col>&lt;chr&gt;</th></tr>\n",
       "</thead>\n",
       "<tbody>\n",
       "\t<tr><td>7</td><td>53998</td><td>rs7806592 </td><td>C</td><td>T</td><td> 0.019204409</td><td>0.0124</td><td>0.1217</td><td>24</td><td>0.202</td><td>0.191</td><td>0.885</td><td>50981.48</td><td>41917</td><td>371549</td><td>----+-----+--++-+--+--++++--++-++++--++--+-++---+--+-+--+</td><td>T</td><td>C</td></tr>\n",
       "\t<tr><td>7</td><td>63494</td><td>rs6964622 </td><td>A</td><td>G</td><td> 0.012402767</td><td>0.0136</td><td>0.3636</td><td>38</td><td>0.181</td><td>0.178</td><td>0.871</td><td>43445.24</td><td>38084</td><td>103625</td><td>++++-+++++-++--+-++-++---+++--+----++-+++-+--++??+?-+-+++</td><td>G</td><td>A</td></tr>\n",
       "\t<tr><td>7</td><td>94577</td><td>rs4298450 </td><td>A</td><td>G</td><td> 0.002297359</td><td>0.0098</td><td>0.8131</td><td>12</td><td>0.356</td><td>0.358</td><td>0.991</td><td>50981.48</td><td>41917</td><td>371549</td><td>---++-+-+----++++++--++-+++--+-++++++-+-----+--+-+--+---+</td><td>G</td><td>A</td></tr>\n",
       "\t<tr><td>7</td><td>94603</td><td>rs4320495 </td><td>A</td><td>G</td><td> 0.002297359</td><td>0.0098</td><td>0.8142</td><td> 1</td><td>0.356</td><td>0.358</td><td>0.991</td><td>50981.48</td><td>41917</td><td>371549</td><td>---++-+-+----++++++--++-+++--+-++++++-+-----+--+-+--+---+</td><td>G</td><td>A</td></tr>\n",
       "\t<tr><td>7</td><td>95067</td><td>rs34849026</td><td>A</td><td>T</td><td>-0.014301785</td><td>0.0093</td><td>0.1252</td><td> 1</td><td>0.529</td><td>0.534</td><td>0.996</td><td>50981.48</td><td>41917</td><td>371549</td><td>------+-+----+-++-++--+--++---+-+++-+++--++-+---+----+--+</td><td>T</td><td>A</td></tr>\n",
       "\t<tr><td>7</td><td>95280</td><td>rs11772933</td><td>A</td><td>C</td><td> 0.002097798</td><td>0.0098</td><td>0.8281</td><td> 1</td><td>0.356</td><td>0.358</td><td>0.991</td><td>50981.48</td><td>41917</td><td>371549</td><td>---++-+-+----++++++--++-+++--+-++++++-+-----+--+-+--+---+</td><td>C</td><td>A</td></tr>\n",
       "</tbody>\n",
       "</table>\n"
      ],
      "text/latex": [
       "A data.table: 6 × 18\n",
       "\\begin{tabular}{llllllllllllllllll}\n",
       " CHR & BP & SNP & A1 & A2 & BETA & SE & PVAL & NGT & FCAS & FCON & IMPINFO & NEFFDIV2 & NCAS & NCON & DIRE & REF\\_EUR & ALT\\_EUR\\\\\n",
       " <int> & <int> & <chr> & <chr> & <chr> & <dbl> & <dbl> & <dbl> & <int> & <dbl> & <dbl> & <dbl> & <dbl> & <int> & <int> & <chr> & <chr> & <chr>\\\\\n",
       "\\hline\n",
       "\t 7 & 53998 & rs7806592  & C & T &  0.019204409 & 0.0124 & 0.1217 & 24 & 0.202 & 0.191 & 0.885 & 50981.48 & 41917 & 371549 & ----+-----+--++-+--+--++++--++-++++--++--+-++---+--+-+--+ & T & C\\\\\n",
       "\t 7 & 63494 & rs6964622  & A & G &  0.012402767 & 0.0136 & 0.3636 & 38 & 0.181 & 0.178 & 0.871 & 43445.24 & 38084 & 103625 & ++++-+++++-++--+-++-++---+++--+----++-+++-+--++??+?-+-+++ & G & A\\\\\n",
       "\t 7 & 94577 & rs4298450  & A & G &  0.002297359 & 0.0098 & 0.8131 & 12 & 0.356 & 0.358 & 0.991 & 50981.48 & 41917 & 371549 & ---++-+-+----++++++--++-+++--+-++++++-+-----+--+-+--+---+ & G & A\\\\\n",
       "\t 7 & 94603 & rs4320495  & A & G &  0.002297359 & 0.0098 & 0.8142 &  1 & 0.356 & 0.358 & 0.991 & 50981.48 & 41917 & 371549 & ---++-+-+----++++++--++-+++--+-++++++-+-----+--+-+--+---+ & G & A\\\\\n",
       "\t 7 & 95067 & rs34849026 & A & T & -0.014301785 & 0.0093 & 0.1252 &  1 & 0.529 & 0.534 & 0.996 & 50981.48 & 41917 & 371549 & ------+-+----+-++-++--+--++---+-+++-+++--++-+---+----+--+ & T & A\\\\\n",
       "\t 7 & 95280 & rs11772933 & A & C &  0.002097798 & 0.0098 & 0.8281 &  1 & 0.356 & 0.358 & 0.991 & 50981.48 & 41917 & 371549 & ---++-+-+----++++++--++-+++--+-++++++-+-----+--+-+--+---+ & C & A\\\\\n",
       "\\end{tabular}\n"
      ],
      "text/markdown": [
       "\n",
       "A data.table: 6 × 18\n",
       "\n",
       "| CHR &lt;int&gt; | BP &lt;int&gt; | SNP &lt;chr&gt; | A1 &lt;chr&gt; | A2 &lt;chr&gt; | BETA &lt;dbl&gt; | SE &lt;dbl&gt; | PVAL &lt;dbl&gt; | NGT &lt;int&gt; | FCAS &lt;dbl&gt; | FCON &lt;dbl&gt; | IMPINFO &lt;dbl&gt; | NEFFDIV2 &lt;dbl&gt; | NCAS &lt;int&gt; | NCON &lt;int&gt; | DIRE &lt;chr&gt; | REF_EUR &lt;chr&gt; | ALT_EUR &lt;chr&gt; |\n",
       "|---|---|---|---|---|---|---|---|---|---|---|---|---|---|---|---|---|---|\n",
       "| 7 | 53998 | rs7806592  | C | T |  0.019204409 | 0.0124 | 0.1217 | 24 | 0.202 | 0.191 | 0.885 | 50981.48 | 41917 | 371549 | ----+-----+--++-+--+--++++--++-++++--++--+-++---+--+-+--+ | T | C |\n",
       "| 7 | 63494 | rs6964622  | A | G |  0.012402767 | 0.0136 | 0.3636 | 38 | 0.181 | 0.178 | 0.871 | 43445.24 | 38084 | 103625 | ++++-+++++-++--+-++-++---+++--+----++-+++-+--++??+?-+-+++ | G | A |\n",
       "| 7 | 94577 | rs4298450  | A | G |  0.002297359 | 0.0098 | 0.8131 | 12 | 0.356 | 0.358 | 0.991 | 50981.48 | 41917 | 371549 | ---++-+-+----++++++--++-+++--+-++++++-+-----+--+-+--+---+ | G | A |\n",
       "| 7 | 94603 | rs4320495  | A | G |  0.002297359 | 0.0098 | 0.8142 |  1 | 0.356 | 0.358 | 0.991 | 50981.48 | 41917 | 371549 | ---++-+-+----++++++--++-+++--+-++++++-+-----+--+-+--+---+ | G | A |\n",
       "| 7 | 95067 | rs34849026 | A | T | -0.014301785 | 0.0093 | 0.1252 |  1 | 0.529 | 0.534 | 0.996 | 50981.48 | 41917 | 371549 | ------+-+----+-++-++--+--++---+-+++-+++--++-+---+----+--+ | T | A |\n",
       "| 7 | 95280 | rs11772933 | A | C |  0.002097798 | 0.0098 | 0.8281 |  1 | 0.356 | 0.358 | 0.991 | 50981.48 | 41917 | 371549 | ---++-+-+----++++++--++-+++--+-++++++-+-----+--+-+--+---+ | C | A |\n",
       "\n"
      ],
      "text/plain": [
       "  CHR BP    SNP        A1 A2 BETA         SE     PVAL   NGT FCAS  FCON  IMPINFO\n",
       "1 7   53998 rs7806592  C  T   0.019204409 0.0124 0.1217 24  0.202 0.191 0.885  \n",
       "2 7   63494 rs6964622  A  G   0.012402767 0.0136 0.3636 38  0.181 0.178 0.871  \n",
       "3 7   94577 rs4298450  A  G   0.002297359 0.0098 0.8131 12  0.356 0.358 0.991  \n",
       "4 7   94603 rs4320495  A  G   0.002297359 0.0098 0.8142  1  0.356 0.358 0.991  \n",
       "5 7   95067 rs34849026 A  T  -0.014301785 0.0093 0.1252  1  0.529 0.534 0.996  \n",
       "6 7   95280 rs11772933 A  C   0.002097798 0.0098 0.8281  1  0.356 0.358 0.991  \n",
       "  NEFFDIV2 NCAS  NCON  \n",
       "1 50981.48 41917 371549\n",
       "2 43445.24 38084 103625\n",
       "3 50981.48 41917 371549\n",
       "4 50981.48 41917 371549\n",
       "5 50981.48 41917 371549\n",
       "6 50981.48 41917 371549\n",
       "  DIRE                                                      REF_EUR ALT_EUR\n",
       "1 ----+-----+--++-+--+--++++--++-++++--++--+-++---+--+-+--+ T       C      \n",
       "2 ++++-+++++-++--+-++-++---+++--+----++-+++-+--++??+?-+-+++ G       A      \n",
       "3 ---++-+-+----++++++--++-+++--+-++++++-+-----+--+-+--+---+ G       A      \n",
       "4 ---++-+-+----++++++--++-+++--+-++++++-+-----+--+-+--+---+ G       A      \n",
       "5 ------+-+----+-++-++--+--++---+-+++-+++--++-+---+----+--+ T       A      \n",
       "6 ---++-+-+----++++++--++-+++--+-++++++-+-----+--+-+--+---+ C       A      "
      ]
     },
     "metadata": {},
     "output_type": "display_data"
    }
   ],
   "source": [
    "head(ref_mismatches)"
   ]
  },
  {
   "cell_type": "code",
   "execution_count": 202,
   "id": "0db78aab-ba8e-415f-8284-da436363f930",
   "metadata": {},
   "outputs": [],
   "source": [
    "if(!all(ref_mismatches$A1 == ref_mismatches$REF_EUR)) stop(\"Mismatch between summary stats and reference population\")"
   ]
  },
  {
   "cell_type": "code",
   "execution_count": 203,
   "id": "680d0ebd-eab0-41ec-b955-7708a7de32e4",
   "metadata": {},
   "outputs": [
    {
     "data": {
      "text/html": [
       "<table class=\"dataframe\">\n",
       "<caption>A data.table: 6 × 18</caption>\n",
       "<thead>\n",
       "\t<tr><th scope=col>CHR</th><th scope=col>BP</th><th scope=col>SNP</th><th scope=col>A1</th><th scope=col>A2</th><th scope=col>BETA</th><th scope=col>SE</th><th scope=col>PVAL</th><th scope=col>NGT</th><th scope=col>FCAS</th><th scope=col>FCON</th><th scope=col>IMPINFO</th><th scope=col>NEFFDIV2</th><th scope=col>NCAS</th><th scope=col>NCON</th><th scope=col>DIRE</th><th scope=col>REF_EUR</th><th scope=col>ALT_EUR</th></tr>\n",
       "\t<tr><th scope=col>&lt;int&gt;</th><th scope=col>&lt;int&gt;</th><th scope=col>&lt;chr&gt;</th><th scope=col>&lt;chr&gt;</th><th scope=col>&lt;chr&gt;</th><th scope=col>&lt;dbl&gt;</th><th scope=col>&lt;dbl&gt;</th><th scope=col>&lt;dbl&gt;</th><th scope=col>&lt;int&gt;</th><th scope=col>&lt;dbl&gt;</th><th scope=col>&lt;dbl&gt;</th><th scope=col>&lt;dbl&gt;</th><th scope=col>&lt;dbl&gt;</th><th scope=col>&lt;int&gt;</th><th scope=col>&lt;int&gt;</th><th scope=col>&lt;chr&gt;</th><th scope=col>&lt;chr&gt;</th><th scope=col>&lt;chr&gt;</th></tr>\n",
       "</thead>\n",
       "<tbody>\n",
       "\t<tr><td>7</td><td>53998</td><td>rs7806592 </td><td>C</td><td>T</td><td> 0.01920441</td><td>0.0124</td><td>0.12170</td><td>24</td><td>0.202</td><td>0.191</td><td>0.885</td><td>50981.48</td><td>41917</td><td>371549</td><td>----+-----+--++-+--+--++++--++-++++--++--+-++---+--+-+--+</td><td>T</td><td>C</td></tr>\n",
       "\t<tr><td>7</td><td>60728</td><td>rs4916941 </td><td>G</td><td>A</td><td>-0.04609630</td><td>0.0304</td><td>0.13010</td><td>19</td><td>0.970</td><td>0.976</td><td>0.857</td><td>49458.29</td><td>40581</td><td>368564</td><td>+?-++-?-++-+++--+++-----+----++?+-+-+-?+-++-+++--+-+??+??</td><td>G</td><td>A</td></tr>\n",
       "\t<tr><td>7</td><td>63494</td><td>rs6964622 </td><td>A</td><td>G</td><td> 0.01240277</td><td>0.0136</td><td>0.36360</td><td>38</td><td>0.181</td><td>0.178</td><td>0.871</td><td>43445.24</td><td>38084</td><td>103625</td><td>++++-+++++-++--+-++-++---+++--+----++-+++-+--++??+?-+-+++</td><td>G</td><td>A</td></tr>\n",
       "\t<tr><td>7</td><td>71938</td><td>rs13437666</td><td>A</td><td>C</td><td>-0.04880166</td><td>0.0304</td><td>0.10830</td><td> 1</td><td>0.969</td><td>0.975</td><td>0.845</td><td>49458.29</td><td>40581</td><td>368564</td><td>-?---+?+--+---++---+++++--+++--?-+-+-+?-++-+---++-+-??-??</td><td>A</td><td>C</td></tr>\n",
       "\t<tr><td>7</td><td>80500</td><td>rs12533719</td><td>T</td><td>C</td><td>-0.01620052</td><td>0.0111</td><td>0.14330</td><td> 1</td><td>0.743</td><td>0.756</td><td>0.938</td><td>50981.48</td><td>41917</td><td>371549</td><td>+----+-++--+---+---+-+-+--+++-++----+++-++-+-+-++--+-++--</td><td>T</td><td>C</td></tr>\n",
       "\t<tr><td>7</td><td>82240</td><td>rs13236314</td><td>C</td><td>T</td><td> 0.03040311</td><td>0.0126</td><td>0.01623</td><td> 1</td><td>0.822</td><td>0.819</td><td>0.927</td><td>50981.48</td><td>41917</td><td>371549</td><td>--------+-------+--++----++++-+------+-++++-----+----+++-</td><td>C</td><td>T</td></tr>\n",
       "</tbody>\n",
       "</table>\n"
      ],
      "text/latex": [
       "A data.table: 6 × 18\n",
       "\\begin{tabular}{llllllllllllllllll}\n",
       " CHR & BP & SNP & A1 & A2 & BETA & SE & PVAL & NGT & FCAS & FCON & IMPINFO & NEFFDIV2 & NCAS & NCON & DIRE & REF\\_EUR & ALT\\_EUR\\\\\n",
       " <int> & <int> & <chr> & <chr> & <chr> & <dbl> & <dbl> & <dbl> & <int> & <dbl> & <dbl> & <dbl> & <dbl> & <int> & <int> & <chr> & <chr> & <chr>\\\\\n",
       "\\hline\n",
       "\t 7 & 53998 & rs7806592  & C & T &  0.01920441 & 0.0124 & 0.12170 & 24 & 0.202 & 0.191 & 0.885 & 50981.48 & 41917 & 371549 & ----+-----+--++-+--+--++++--++-++++--++--+-++---+--+-+--+ & T & C\\\\\n",
       "\t 7 & 60728 & rs4916941  & G & A & -0.04609630 & 0.0304 & 0.13010 & 19 & 0.970 & 0.976 & 0.857 & 49458.29 & 40581 & 368564 & +?-++-?-++-+++--+++-----+----++?+-+-+-?+-++-+++--+-+??+?? & G & A\\\\\n",
       "\t 7 & 63494 & rs6964622  & A & G &  0.01240277 & 0.0136 & 0.36360 & 38 & 0.181 & 0.178 & 0.871 & 43445.24 & 38084 & 103625 & ++++-+++++-++--+-++-++---+++--+----++-+++-+--++??+?-+-+++ & G & A\\\\\n",
       "\t 7 & 71938 & rs13437666 & A & C & -0.04880166 & 0.0304 & 0.10830 &  1 & 0.969 & 0.975 & 0.845 & 49458.29 & 40581 & 368564 & -?---+?+--+---++---+++++--+++--?-+-+-+?-++-+---++-+-??-?? & A & C\\\\\n",
       "\t 7 & 80500 & rs12533719 & T & C & -0.01620052 & 0.0111 & 0.14330 &  1 & 0.743 & 0.756 & 0.938 & 50981.48 & 41917 & 371549 & +----+-++--+---+---+-+-+--+++-++----+++-++-+-+-++--+-++-- & T & C\\\\\n",
       "\t 7 & 82240 & rs13236314 & C & T &  0.03040311 & 0.0126 & 0.01623 &  1 & 0.822 & 0.819 & 0.927 & 50981.48 & 41917 & 371549 & --------+-------+--++----++++-+------+-++++-----+----+++- & C & T\\\\\n",
       "\\end{tabular}\n"
      ],
      "text/markdown": [
       "\n",
       "A data.table: 6 × 18\n",
       "\n",
       "| CHR &lt;int&gt; | BP &lt;int&gt; | SNP &lt;chr&gt; | A1 &lt;chr&gt; | A2 &lt;chr&gt; | BETA &lt;dbl&gt; | SE &lt;dbl&gt; | PVAL &lt;dbl&gt; | NGT &lt;int&gt; | FCAS &lt;dbl&gt; | FCON &lt;dbl&gt; | IMPINFO &lt;dbl&gt; | NEFFDIV2 &lt;dbl&gt; | NCAS &lt;int&gt; | NCON &lt;int&gt; | DIRE &lt;chr&gt; | REF_EUR &lt;chr&gt; | ALT_EUR &lt;chr&gt; |\n",
       "|---|---|---|---|---|---|---|---|---|---|---|---|---|---|---|---|---|---|\n",
       "| 7 | 53998 | rs7806592  | C | T |  0.01920441 | 0.0124 | 0.12170 | 24 | 0.202 | 0.191 | 0.885 | 50981.48 | 41917 | 371549 | ----+-----+--++-+--+--++++--++-++++--++--+-++---+--+-+--+ | T | C |\n",
       "| 7 | 60728 | rs4916941  | G | A | -0.04609630 | 0.0304 | 0.13010 | 19 | 0.970 | 0.976 | 0.857 | 49458.29 | 40581 | 368564 | +?-++-?-++-+++--+++-----+----++?+-+-+-?+-++-+++--+-+??+?? | G | A |\n",
       "| 7 | 63494 | rs6964622  | A | G |  0.01240277 | 0.0136 | 0.36360 | 38 | 0.181 | 0.178 | 0.871 | 43445.24 | 38084 | 103625 | ++++-+++++-++--+-++-++---+++--+----++-+++-+--++??+?-+-+++ | G | A |\n",
       "| 7 | 71938 | rs13437666 | A | C | -0.04880166 | 0.0304 | 0.10830 |  1 | 0.969 | 0.975 | 0.845 | 49458.29 | 40581 | 368564 | -?---+?+--+---++---+++++--+++--?-+-+-+?-++-+---++-+-??-?? | A | C |\n",
       "| 7 | 80500 | rs12533719 | T | C | -0.01620052 | 0.0111 | 0.14330 |  1 | 0.743 | 0.756 | 0.938 | 50981.48 | 41917 | 371549 | +----+-++--+---+---+-+-+--+++-++----+++-++-+-+-++--+-++-- | T | C |\n",
       "| 7 | 82240 | rs13236314 | C | T |  0.03040311 | 0.0126 | 0.01623 |  1 | 0.822 | 0.819 | 0.927 | 50981.48 | 41917 | 371549 | --------+-------+--++----++++-+------+-++++-----+----+++- | C | T |\n",
       "\n"
      ],
      "text/plain": [
       "  CHR BP    SNP        A1 A2 BETA        SE     PVAL    NGT FCAS  FCON  IMPINFO\n",
       "1 7   53998 rs7806592  C  T   0.01920441 0.0124 0.12170 24  0.202 0.191 0.885  \n",
       "2 7   60728 rs4916941  G  A  -0.04609630 0.0304 0.13010 19  0.970 0.976 0.857  \n",
       "3 7   63494 rs6964622  A  G   0.01240277 0.0136 0.36360 38  0.181 0.178 0.871  \n",
       "4 7   71938 rs13437666 A  C  -0.04880166 0.0304 0.10830  1  0.969 0.975 0.845  \n",
       "5 7   80500 rs12533719 T  C  -0.01620052 0.0111 0.14330  1  0.743 0.756 0.938  \n",
       "6 7   82240 rs13236314 C  T   0.03040311 0.0126 0.01623  1  0.822 0.819 0.927  \n",
       "  NEFFDIV2 NCAS  NCON  \n",
       "1 50981.48 41917 371549\n",
       "2 49458.29 40581 368564\n",
       "3 43445.24 38084 103625\n",
       "4 49458.29 40581 368564\n",
       "5 50981.48 41917 371549\n",
       "6 50981.48 41917 371549\n",
       "  DIRE                                                      REF_EUR ALT_EUR\n",
       "1 ----+-----+--++-+--+--++++--++-++++--++--+-++---+--+-+--+ T       C      \n",
       "2 +?-++-?-++-+++--+++-----+----++?+-+-+-?+-++-+++--+-+??+?? G       A      \n",
       "3 ++++-+++++-++--+-++-++---+++--+----++-+++-+--++??+?-+-+++ G       A      \n",
       "4 -?---+?+--+---++---+++++--+++--?-+-+-+?-++-+---++-+-??-?? A       C      \n",
       "5 +----+-++--+---+---+-+-+--+++-++----+++-++-+-+-++--+-++-- T       C      \n",
       "6 --------+-------+--++----++++-+------+-++++-----+----+++- C       T      "
      ]
     },
     "metadata": {},
     "output_type": "display_data"
    }
   ],
   "source": [
    "head(merged_ref)"
   ]
  },
  {
   "cell_type": "code",
   "execution_count": 204,
   "id": "07f794a9-671c-4445-a204-52cd8917b52e",
   "metadata": {},
   "outputs": [
    {
     "data": {
      "text/html": [
       "<table class=\"dataframe\">\n",
       "<caption>A data.table: 3 × 20</caption>\n",
       "<thead>\n",
       "\t<tr><th scope=col>CHR</th><th scope=col>BP</th><th scope=col>SNP</th><th scope=col>A1</th><th scope=col>A2</th><th scope=col>BETA</th><th scope=col>SE</th><th scope=col>PVAL</th><th scope=col>NGT</th><th scope=col>FCAS</th><th scope=col>FCON</th><th scope=col>IMPINFO</th><th scope=col>NEFFDIV2</th><th scope=col>NCAS</th><th scope=col>NCON</th><th scope=col>DIRE</th><th scope=col>REF_EUR</th><th scope=col>ALT_EUR</th><th scope=col>REF_libd</th><th scope=col>ALT_libd</th></tr>\n",
       "\t<tr><th scope=col>&lt;int&gt;</th><th scope=col>&lt;int&gt;</th><th scope=col>&lt;chr&gt;</th><th scope=col>&lt;chr&gt;</th><th scope=col>&lt;chr&gt;</th><th scope=col>&lt;dbl&gt;</th><th scope=col>&lt;dbl&gt;</th><th scope=col>&lt;dbl&gt;</th><th scope=col>&lt;int&gt;</th><th scope=col>&lt;dbl&gt;</th><th scope=col>&lt;dbl&gt;</th><th scope=col>&lt;dbl&gt;</th><th scope=col>&lt;dbl&gt;</th><th scope=col>&lt;int&gt;</th><th scope=col>&lt;int&gt;</th><th scope=col>&lt;chr&gt;</th><th scope=col>&lt;chr&gt;</th><th scope=col>&lt;chr&gt;</th><th scope=col>&lt;chr&gt;</th><th scope=col>&lt;chr&gt;</th></tr>\n",
       "</thead>\n",
       "<tbody>\n",
       "\t<tr><td>7</td><td>53998</td><td>rs7806592</td><td>C</td><td>T</td><td> 0.01920441</td><td>0.0124</td><td>0.1217</td><td>24</td><td>0.202</td><td>0.191</td><td>0.885</td><td>50981.48</td><td>41917</td><td>371549</td><td>----+-----+--++-+--+--++++--++-++++--++--+-++---+--+-+--+</td><td>T</td><td>C</td><td>C</td><td>T</td></tr>\n",
       "\t<tr><td>7</td><td>60728</td><td>rs4916941</td><td>G</td><td>A</td><td>-0.04609630</td><td>0.0304</td><td>0.1301</td><td>19</td><td>0.970</td><td>0.976</td><td>0.857</td><td>49458.29</td><td>40581</td><td>368564</td><td>+?-++-?-++-+++--+++-----+----++?+-+-+-?+-++-+++--+-+??+??</td><td>G</td><td>A</td><td>G</td><td>A</td></tr>\n",
       "\t<tr><td>7</td><td>63494</td><td>rs6964622</td><td>A</td><td>G</td><td> 0.01240277</td><td>0.0136</td><td>0.3636</td><td>38</td><td>0.181</td><td>0.178</td><td>0.871</td><td>43445.24</td><td>38084</td><td>103625</td><td>++++-+++++-++--+-++-++---+++--+----++-+++-+--++??+?-+-+++</td><td>G</td><td>A</td><td>A</td><td>G</td></tr>\n",
       "</tbody>\n",
       "</table>\n"
      ],
      "text/latex": [
       "A data.table: 3 × 20\n",
       "\\begin{tabular}{llllllllllllllllllll}\n",
       " CHR & BP & SNP & A1 & A2 & BETA & SE & PVAL & NGT & FCAS & FCON & IMPINFO & NEFFDIV2 & NCAS & NCON & DIRE & REF\\_EUR & ALT\\_EUR & REF\\_libd & ALT\\_libd\\\\\n",
       " <int> & <int> & <chr> & <chr> & <chr> & <dbl> & <dbl> & <dbl> & <int> & <dbl> & <dbl> & <dbl> & <dbl> & <int> & <int> & <chr> & <chr> & <chr> & <chr> & <chr>\\\\\n",
       "\\hline\n",
       "\t 7 & 53998 & rs7806592 & C & T &  0.01920441 & 0.0124 & 0.1217 & 24 & 0.202 & 0.191 & 0.885 & 50981.48 & 41917 & 371549 & ----+-----+--++-+--+--++++--++-++++--++--+-++---+--+-+--+ & T & C & C & T\\\\\n",
       "\t 7 & 60728 & rs4916941 & G & A & -0.04609630 & 0.0304 & 0.1301 & 19 & 0.970 & 0.976 & 0.857 & 49458.29 & 40581 & 368564 & +?-++-?-++-+++--+++-----+----++?+-+-+-?+-++-+++--+-+??+?? & G & A & G & A\\\\\n",
       "\t 7 & 63494 & rs6964622 & A & G &  0.01240277 & 0.0136 & 0.3636 & 38 & 0.181 & 0.178 & 0.871 & 43445.24 & 38084 & 103625 & ++++-+++++-++--+-++-++---+++--+----++-+++-+--++??+?-+-+++ & G & A & A & G\\\\\n",
       "\\end{tabular}\n"
      ],
      "text/markdown": [
       "\n",
       "A data.table: 3 × 20\n",
       "\n",
       "| CHR &lt;int&gt; | BP &lt;int&gt; | SNP &lt;chr&gt; | A1 &lt;chr&gt; | A2 &lt;chr&gt; | BETA &lt;dbl&gt; | SE &lt;dbl&gt; | PVAL &lt;dbl&gt; | NGT &lt;int&gt; | FCAS &lt;dbl&gt; | FCON &lt;dbl&gt; | IMPINFO &lt;dbl&gt; | NEFFDIV2 &lt;dbl&gt; | NCAS &lt;int&gt; | NCON &lt;int&gt; | DIRE &lt;chr&gt; | REF_EUR &lt;chr&gt; | ALT_EUR &lt;chr&gt; | REF_libd &lt;chr&gt; | ALT_libd &lt;chr&gt; |\n",
       "|---|---|---|---|---|---|---|---|---|---|---|---|---|---|---|---|---|---|---|---|\n",
       "| 7 | 53998 | rs7806592 | C | T |  0.01920441 | 0.0124 | 0.1217 | 24 | 0.202 | 0.191 | 0.885 | 50981.48 | 41917 | 371549 | ----+-----+--++-+--+--++++--++-++++--++--+-++---+--+-+--+ | T | C | C | T |\n",
       "| 7 | 60728 | rs4916941 | G | A | -0.04609630 | 0.0304 | 0.1301 | 19 | 0.970 | 0.976 | 0.857 | 49458.29 | 40581 | 368564 | +?-++-?-++-+++--+++-----+----++?+-+-+-?+-++-+++--+-+??+?? | G | A | G | A |\n",
       "| 7 | 63494 | rs6964622 | A | G |  0.01240277 | 0.0136 | 0.3636 | 38 | 0.181 | 0.178 | 0.871 | 43445.24 | 38084 | 103625 | ++++-+++++-++--+-++-++---+++--+----++-+++-+--++??+?-+-+++ | G | A | A | G |\n",
       "\n"
      ],
      "text/plain": [
       "  CHR BP    SNP       A1 A2 BETA        SE     PVAL   NGT FCAS  FCON  IMPINFO\n",
       "1 7   53998 rs7806592 C  T   0.01920441 0.0124 0.1217 24  0.202 0.191 0.885  \n",
       "2 7   60728 rs4916941 G  A  -0.04609630 0.0304 0.1301 19  0.970 0.976 0.857  \n",
       "3 7   63494 rs6964622 A  G   0.01240277 0.0136 0.3636 38  0.181 0.178 0.871  \n",
       "  NEFFDIV2 NCAS  NCON  \n",
       "1 50981.48 41917 371549\n",
       "2 49458.29 40581 368564\n",
       "3 43445.24 38084 103625\n",
       "  DIRE                                                      REF_EUR ALT_EUR\n",
       "1 ----+-----+--++-+--+--++++--++-++++--++--+-++---+--+-+--+ T       C      \n",
       "2 +?-++-?-++-+++--+++-----+----++?+-+-+-?+-++-+++--+-+??+?? G       A      \n",
       "3 ++++-+++++-++--+-++-++---+++--+----++-+++-+--++??+?-+-+++ G       A      \n",
       "  REF_libd ALT_libd\n",
       "1 C        T       \n",
       "2 G        A       \n",
       "3 A        G       "
      ]
     },
     "metadata": {},
     "output_type": "display_data"
    }
   ],
   "source": [
    "head(merged_libd, n = 3)"
   ]
  },
  {
   "cell_type": "code",
   "execution_count": 205,
   "id": "ff4d8f3d-fb91-4309-bb3c-4ce59d4e5a70",
   "metadata": {},
   "outputs": [],
   "source": [
    "# Identify rows where alleles don't match for libd\n",
    "libd_mismatches <- merged_libd[\n",
    "    !((A1 == REF_libd & A2 == ALT_libd) | (A1 == ALT_libd & A2 == REF_libd))\n",
    "]"
   ]
  },
  {
   "cell_type": "code",
   "execution_count": 206,
   "id": "0fc3147d-c350-4c70-b89d-351ef90a0ac9",
   "metadata": {},
   "outputs": [
    {
     "data": {
      "text/html": [
       "<table class=\"dataframe\">\n",
       "<caption>A data.table: 0 × 20</caption>\n",
       "<thead>\n",
       "\t<tr><th scope=col>CHR</th><th scope=col>BP</th><th scope=col>SNP</th><th scope=col>A1</th><th scope=col>A2</th><th scope=col>BETA</th><th scope=col>SE</th><th scope=col>PVAL</th><th scope=col>NGT</th><th scope=col>FCAS</th><th scope=col>FCON</th><th scope=col>IMPINFO</th><th scope=col>NEFFDIV2</th><th scope=col>NCAS</th><th scope=col>NCON</th><th scope=col>DIRE</th><th scope=col>REF_EUR</th><th scope=col>ALT_EUR</th><th scope=col>REF_libd</th><th scope=col>ALT_libd</th></tr>\n",
       "\t<tr><th scope=col>&lt;int&gt;</th><th scope=col>&lt;int&gt;</th><th scope=col>&lt;chr&gt;</th><th scope=col>&lt;chr&gt;</th><th scope=col>&lt;chr&gt;</th><th scope=col>&lt;dbl&gt;</th><th scope=col>&lt;dbl&gt;</th><th scope=col>&lt;dbl&gt;</th><th scope=col>&lt;int&gt;</th><th scope=col>&lt;dbl&gt;</th><th scope=col>&lt;dbl&gt;</th><th scope=col>&lt;dbl&gt;</th><th scope=col>&lt;dbl&gt;</th><th scope=col>&lt;int&gt;</th><th scope=col>&lt;int&gt;</th><th scope=col>&lt;chr&gt;</th><th scope=col>&lt;chr&gt;</th><th scope=col>&lt;chr&gt;</th><th scope=col>&lt;chr&gt;</th><th scope=col>&lt;chr&gt;</th></tr>\n",
       "</thead>\n",
       "<tbody>\n",
       "</tbody>\n",
       "</table>\n"
      ],
      "text/latex": [
       "A data.table: 0 × 20\n",
       "\\begin{tabular}{llllllllllllllllllll}\n",
       " CHR & BP & SNP & A1 & A2 & BETA & SE & PVAL & NGT & FCAS & FCON & IMPINFO & NEFFDIV2 & NCAS & NCON & DIRE & REF\\_EUR & ALT\\_EUR & REF\\_libd & ALT\\_libd\\\\\n",
       " <int> & <int> & <chr> & <chr> & <chr> & <dbl> & <dbl> & <dbl> & <int> & <dbl> & <dbl> & <dbl> & <dbl> & <int> & <int> & <chr> & <chr> & <chr> & <chr> & <chr>\\\\\n",
       "\\hline\n",
       "\\end{tabular}\n"
      ],
      "text/markdown": [
       "\n",
       "A data.table: 0 × 20\n",
       "\n",
       "| CHR &lt;int&gt; | BP &lt;int&gt; | SNP &lt;chr&gt; | A1 &lt;chr&gt; | A2 &lt;chr&gt; | BETA &lt;dbl&gt; | SE &lt;dbl&gt; | PVAL &lt;dbl&gt; | NGT &lt;int&gt; | FCAS &lt;dbl&gt; | FCON &lt;dbl&gt; | IMPINFO &lt;dbl&gt; | NEFFDIV2 &lt;dbl&gt; | NCAS &lt;int&gt; | NCON &lt;int&gt; | DIRE &lt;chr&gt; | REF_EUR &lt;chr&gt; | ALT_EUR &lt;chr&gt; | REF_libd &lt;chr&gt; | ALT_libd &lt;chr&gt; |\n",
       "|---|---|---|---|---|---|---|---|---|---|---|---|---|---|---|---|---|---|---|---|\n",
       "\n"
      ],
      "text/plain": [
       "     CHR BP SNP A1 A2 BETA SE PVAL NGT FCAS FCON IMPINFO NEFFDIV2 NCAS NCON\n",
       "     DIRE REF_EUR ALT_EUR REF_libd ALT_libd"
      ]
     },
     "metadata": {},
     "output_type": "display_data"
    }
   ],
   "source": [
    "head(libd_mismatches)"
   ]
  },
  {
   "cell_type": "code",
   "execution_count": 185,
   "id": "20c895a0-1895-45db-8682-c40157cea372",
   "metadata": {},
   "outputs": [
    {
     "data": {
      "text/html": [
       "FALSE"
      ],
      "text/latex": [
       "FALSE"
      ],
      "text/markdown": [
       "FALSE"
      ],
      "text/plain": [
       "[1] FALSE"
      ]
     },
     "metadata": {},
     "output_type": "display_data"
    }
   ],
   "source": [
    "all(merged_libd$A1 == merged_libd$REF_libd)"
   ]
  },
  {
   "cell_type": "code",
   "execution_count": 184,
   "id": "d2443113-2e01-4b15-ba06-2293d6b4eea9",
   "metadata": {},
   "outputs": [
    {
     "data": {
      "text/html": [
       "<table class=\"dataframe\">\n",
       "<caption>A data.table: 6 × 20</caption>\n",
       "<thead>\n",
       "\t<tr><th scope=col>CHR</th><th scope=col>BP</th><th scope=col>SNP</th><th scope=col>A1</th><th scope=col>A2</th><th scope=col>BETA</th><th scope=col>SE</th><th scope=col>PVAL</th><th scope=col>NGT</th><th scope=col>FCAS</th><th scope=col>FCON</th><th scope=col>IMPINFO</th><th scope=col>NEFFDIV2</th><th scope=col>NCAS</th><th scope=col>NCON</th><th scope=col>DIRE</th><th scope=col>REF_EUR</th><th scope=col>ALT_EUR</th><th scope=col>REF_libd</th><th scope=col>ALT_libd</th></tr>\n",
       "\t<tr><th scope=col>&lt;int&gt;</th><th scope=col>&lt;int&gt;</th><th scope=col>&lt;chr&gt;</th><th scope=col>&lt;chr&gt;</th><th scope=col>&lt;chr&gt;</th><th scope=col>&lt;dbl&gt;</th><th scope=col>&lt;dbl&gt;</th><th scope=col>&lt;dbl&gt;</th><th scope=col>&lt;int&gt;</th><th scope=col>&lt;dbl&gt;</th><th scope=col>&lt;dbl&gt;</th><th scope=col>&lt;dbl&gt;</th><th scope=col>&lt;dbl&gt;</th><th scope=col>&lt;int&gt;</th><th scope=col>&lt;int&gt;</th><th scope=col>&lt;chr&gt;</th><th scope=col>&lt;chr&gt;</th><th scope=col>&lt;chr&gt;</th><th scope=col>&lt;chr&gt;</th><th scope=col>&lt;chr&gt;</th></tr>\n",
       "</thead>\n",
       "<tbody>\n",
       "\t<tr><td>7</td><td>53998</td><td>rs7806592 </td><td>C</td><td>T</td><td> 0.01920441</td><td>0.0124</td><td>0.12170</td><td>24</td><td>0.202</td><td>0.191</td><td>0.885</td><td>50981.48</td><td>41917</td><td>371549</td><td>----+-----+--++-+--+--++++--++-++++--++--+-++---+--+-+--+</td><td>T</td><td>C</td><td>C</td><td>T</td></tr>\n",
       "\t<tr><td>7</td><td>60728</td><td>rs4916941 </td><td>G</td><td>A</td><td>-0.04609630</td><td>0.0304</td><td>0.13010</td><td>19</td><td>0.970</td><td>0.976</td><td>0.857</td><td>49458.29</td><td>40581</td><td>368564</td><td>+?-++-?-++-+++--+++-----+----++?+-+-+-?+-++-+++--+-+??+??</td><td>G</td><td>A</td><td>G</td><td>A</td></tr>\n",
       "\t<tr><td>7</td><td>63494</td><td>rs6964622 </td><td>A</td><td>G</td><td> 0.01240277</td><td>0.0136</td><td>0.36360</td><td>38</td><td>0.181</td><td>0.178</td><td>0.871</td><td>43445.24</td><td>38084</td><td>103625</td><td>++++-+++++-++--+-++-++---+++--+----++-+++-+--++??+?-+-+++</td><td>G</td><td>A</td><td>A</td><td>G</td></tr>\n",
       "\t<tr><td>7</td><td>71938</td><td>rs13437666</td><td>A</td><td>C</td><td>-0.04880166</td><td>0.0304</td><td>0.10830</td><td> 1</td><td>0.969</td><td>0.975</td><td>0.845</td><td>49458.29</td><td>40581</td><td>368564</td><td>-?---+?+--+---++---+++++--+++--?-+-+-+?-++-+---++-+-??-??</td><td>A</td><td>C</td><td>A</td><td>C</td></tr>\n",
       "\t<tr><td>7</td><td>80500</td><td>rs12533719</td><td>T</td><td>C</td><td>-0.01620052</td><td>0.0111</td><td>0.14330</td><td> 1</td><td>0.743</td><td>0.756</td><td>0.938</td><td>50981.48</td><td>41917</td><td>371549</td><td>+----+-++--+---+---+-+-+--+++-++----+++-++-+-+-++--+-++--</td><td>T</td><td>C</td><td>T</td><td>C</td></tr>\n",
       "\t<tr><td>7</td><td>82240</td><td>rs13236314</td><td>C</td><td>T</td><td> 0.03040311</td><td>0.0126</td><td>0.01623</td><td> 1</td><td>0.822</td><td>0.819</td><td>0.927</td><td>50981.48</td><td>41917</td><td>371549</td><td>--------+-------+--++----++++-+------+-++++-----+----+++-</td><td>C</td><td>T</td><td>C</td><td>T</td></tr>\n",
       "</tbody>\n",
       "</table>\n"
      ],
      "text/latex": [
       "A data.table: 6 × 20\n",
       "\\begin{tabular}{llllllllllllllllllll}\n",
       " CHR & BP & SNP & A1 & A2 & BETA & SE & PVAL & NGT & FCAS & FCON & IMPINFO & NEFFDIV2 & NCAS & NCON & DIRE & REF\\_EUR & ALT\\_EUR & REF\\_libd & ALT\\_libd\\\\\n",
       " <int> & <int> & <chr> & <chr> & <chr> & <dbl> & <dbl> & <dbl> & <int> & <dbl> & <dbl> & <dbl> & <dbl> & <int> & <int> & <chr> & <chr> & <chr> & <chr> & <chr>\\\\\n",
       "\\hline\n",
       "\t 7 & 53998 & rs7806592  & C & T &  0.01920441 & 0.0124 & 0.12170 & 24 & 0.202 & 0.191 & 0.885 & 50981.48 & 41917 & 371549 & ----+-----+--++-+--+--++++--++-++++--++--+-++---+--+-+--+ & T & C & C & T\\\\\n",
       "\t 7 & 60728 & rs4916941  & G & A & -0.04609630 & 0.0304 & 0.13010 & 19 & 0.970 & 0.976 & 0.857 & 49458.29 & 40581 & 368564 & +?-++-?-++-+++--+++-----+----++?+-+-+-?+-++-+++--+-+??+?? & G & A & G & A\\\\\n",
       "\t 7 & 63494 & rs6964622  & A & G &  0.01240277 & 0.0136 & 0.36360 & 38 & 0.181 & 0.178 & 0.871 & 43445.24 & 38084 & 103625 & ++++-+++++-++--+-++-++---+++--+----++-+++-+--++??+?-+-+++ & G & A & A & G\\\\\n",
       "\t 7 & 71938 & rs13437666 & A & C & -0.04880166 & 0.0304 & 0.10830 &  1 & 0.969 & 0.975 & 0.845 & 49458.29 & 40581 & 368564 & -?---+?+--+---++---+++++--+++--?-+-+-+?-++-+---++-+-??-?? & A & C & A & C\\\\\n",
       "\t 7 & 80500 & rs12533719 & T & C & -0.01620052 & 0.0111 & 0.14330 &  1 & 0.743 & 0.756 & 0.938 & 50981.48 & 41917 & 371549 & +----+-++--+---+---+-+-+--+++-++----+++-++-+-+-++--+-++-- & T & C & T & C\\\\\n",
       "\t 7 & 82240 & rs13236314 & C & T &  0.03040311 & 0.0126 & 0.01623 &  1 & 0.822 & 0.819 & 0.927 & 50981.48 & 41917 & 371549 & --------+-------+--++----++++-+------+-++++-----+----+++- & C & T & C & T\\\\\n",
       "\\end{tabular}\n"
      ],
      "text/markdown": [
       "\n",
       "A data.table: 6 × 20\n",
       "\n",
       "| CHR &lt;int&gt; | BP &lt;int&gt; | SNP &lt;chr&gt; | A1 &lt;chr&gt; | A2 &lt;chr&gt; | BETA &lt;dbl&gt; | SE &lt;dbl&gt; | PVAL &lt;dbl&gt; | NGT &lt;int&gt; | FCAS &lt;dbl&gt; | FCON &lt;dbl&gt; | IMPINFO &lt;dbl&gt; | NEFFDIV2 &lt;dbl&gt; | NCAS &lt;int&gt; | NCON &lt;int&gt; | DIRE &lt;chr&gt; | REF_EUR &lt;chr&gt; | ALT_EUR &lt;chr&gt; | REF_libd &lt;chr&gt; | ALT_libd &lt;chr&gt; |\n",
       "|---|---|---|---|---|---|---|---|---|---|---|---|---|---|---|---|---|---|---|---|\n",
       "| 7 | 53998 | rs7806592  | C | T |  0.01920441 | 0.0124 | 0.12170 | 24 | 0.202 | 0.191 | 0.885 | 50981.48 | 41917 | 371549 | ----+-----+--++-+--+--++++--++-++++--++--+-++---+--+-+--+ | T | C | C | T |\n",
       "| 7 | 60728 | rs4916941  | G | A | -0.04609630 | 0.0304 | 0.13010 | 19 | 0.970 | 0.976 | 0.857 | 49458.29 | 40581 | 368564 | +?-++-?-++-+++--+++-----+----++?+-+-+-?+-++-+++--+-+??+?? | G | A | G | A |\n",
       "| 7 | 63494 | rs6964622  | A | G |  0.01240277 | 0.0136 | 0.36360 | 38 | 0.181 | 0.178 | 0.871 | 43445.24 | 38084 | 103625 | ++++-+++++-++--+-++-++---+++--+----++-+++-+--++??+?-+-+++ | G | A | A | G |\n",
       "| 7 | 71938 | rs13437666 | A | C | -0.04880166 | 0.0304 | 0.10830 |  1 | 0.969 | 0.975 | 0.845 | 49458.29 | 40581 | 368564 | -?---+?+--+---++---+++++--+++--?-+-+-+?-++-+---++-+-??-?? | A | C | A | C |\n",
       "| 7 | 80500 | rs12533719 | T | C | -0.01620052 | 0.0111 | 0.14330 |  1 | 0.743 | 0.756 | 0.938 | 50981.48 | 41917 | 371549 | +----+-++--+---+---+-+-+--+++-++----+++-++-+-+-++--+-++-- | T | C | T | C |\n",
       "| 7 | 82240 | rs13236314 | C | T |  0.03040311 | 0.0126 | 0.01623 |  1 | 0.822 | 0.819 | 0.927 | 50981.48 | 41917 | 371549 | --------+-------+--++----++++-+------+-++++-----+----+++- | C | T | C | T |\n",
       "\n"
      ],
      "text/plain": [
       "  CHR BP    SNP        A1 A2 BETA        SE     PVAL    NGT FCAS  FCON  IMPINFO\n",
       "1 7   53998 rs7806592  C  T   0.01920441 0.0124 0.12170 24  0.202 0.191 0.885  \n",
       "2 7   60728 rs4916941  G  A  -0.04609630 0.0304 0.13010 19  0.970 0.976 0.857  \n",
       "3 7   63494 rs6964622  A  G   0.01240277 0.0136 0.36360 38  0.181 0.178 0.871  \n",
       "4 7   71938 rs13437666 A  C  -0.04880166 0.0304 0.10830  1  0.969 0.975 0.845  \n",
       "5 7   80500 rs12533719 T  C  -0.01620052 0.0111 0.14330  1  0.743 0.756 0.938  \n",
       "6 7   82240 rs13236314 C  T   0.03040311 0.0126 0.01623  1  0.822 0.819 0.927  \n",
       "  NEFFDIV2 NCAS  NCON  \n",
       "1 50981.48 41917 371549\n",
       "2 49458.29 40581 368564\n",
       "3 43445.24 38084 103625\n",
       "4 49458.29 40581 368564\n",
       "5 50981.48 41917 371549\n",
       "6 50981.48 41917 371549\n",
       "  DIRE                                                      REF_EUR ALT_EUR\n",
       "1 ----+-----+--++-+--+--++++--++-++++--++--+-++---+--+-+--+ T       C      \n",
       "2 +?-++-?-++-+++--+++-----+----++?+-+-+-?+-++-+++--+-+??+?? G       A      \n",
       "3 ++++-+++++-++--+-++-++---+++--+----++-+++-+--++??+?-+-+++ G       A      \n",
       "4 -?---+?+--+---++---+++++--+++--?-+-+-+?-++-+---++-+-??-?? A       C      \n",
       "5 +----+-++--+---+---+-+-+--+++-++----+++-++-+-+-++--+-++-- T       C      \n",
       "6 --------+-------+--++----++++-+------+-++++-----+----+++- C       T      \n",
       "  REF_libd ALT_libd\n",
       "1 C        T       \n",
       "2 G        A       \n",
       "3 A        G       \n",
       "4 A        C       \n",
       "5 T        C       \n",
       "6 C        T       "
      ]
     },
     "metadata": {},
     "output_type": "display_data"
    }
   ],
   "source": [
    "head(merged_libd)"
   ]
  },
  {
   "cell_type": "code",
   "execution_count": null,
   "id": "8fe01210-dff1-4d2c-b55d-0dea2629b452",
   "metadata": {},
   "outputs": [],
   "source": []
  },
  {
   "cell_type": "code",
   "execution_count": 170,
   "id": "e7da14fb-3969-4a7e-bc41-bbc97d6808f4",
   "metadata": {},
   "outputs": [
    {
     "data": {
      "text/html": [
       "<style>\n",
       ".list-inline {list-style: none; margin:0; padding: 0}\n",
       ".list-inline>li {display: inline-block}\n",
       ".list-inline>li:not(:last-child)::after {content: \"\\00b7\"; padding: 0 .5ex}\n",
       "</style>\n",
       "<ol class=list-inline><li>0</li><li>10</li></ol>\n"
      ],
      "text/latex": [
       "\\begin{enumerate*}\n",
       "\\item 0\n",
       "\\item 10\n",
       "\\end{enumerate*}\n"
      ],
      "text/markdown": [
       "1. 0\n",
       "2. 10\n",
       "\n",
       "\n"
      ],
      "text/plain": [
       "[1]  0 10"
      ]
     },
     "metadata": {},
     "output_type": "display_data"
    }
   ],
   "source": [
    "dim(libd_mismatches)"
   ]
  },
  {
   "cell_type": "code",
   "execution_count": 165,
   "id": "d5a967ce-d4b8-4e03-a088-d6d3c31cc409",
   "metadata": {},
   "outputs": [
    {
     "data": {
      "text/html": [
       "<table class=\"dataframe\">\n",
       "<caption>A data.table: 0 × 18</caption>\n",
       "<thead>\n",
       "\t<tr><th scope=col>CHR</th><th scope=col>BP</th><th scope=col>SNP</th><th scope=col>A1</th><th scope=col>A2</th><th scope=col>BETA</th><th scope=col>SE</th><th scope=col>PVAL</th><th scope=col>NGT</th><th scope=col>FCAS</th><th scope=col>FCON</th><th scope=col>IMPINFO</th><th scope=col>NEFFDIV2</th><th scope=col>NCAS</th><th scope=col>NCON</th><th scope=col>DIRE</th><th scope=col>REF_EUR</th><th scope=col>ALT_EUR</th></tr>\n",
       "\t<tr><th scope=col>&lt;int&gt;</th><th scope=col>&lt;int&gt;</th><th scope=col>&lt;chr&gt;</th><th scope=col>&lt;chr&gt;</th><th scope=col>&lt;chr&gt;</th><th scope=col>&lt;dbl&gt;</th><th scope=col>&lt;dbl&gt;</th><th scope=col>&lt;dbl&gt;</th><th scope=col>&lt;int&gt;</th><th scope=col>&lt;dbl&gt;</th><th scope=col>&lt;dbl&gt;</th><th scope=col>&lt;dbl&gt;</th><th scope=col>&lt;dbl&gt;</th><th scope=col>&lt;int&gt;</th><th scope=col>&lt;int&gt;</th><th scope=col>&lt;chr&gt;</th><th scope=col>&lt;chr&gt;</th><th scope=col>&lt;chr&gt;</th></tr>\n",
       "</thead>\n",
       "<tbody>\n",
       "</tbody>\n",
       "</table>\n"
      ],
      "text/latex": [
       "A data.table: 0 × 18\n",
       "\\begin{tabular}{llllllllllllllllll}\n",
       " CHR & BP & SNP & A1 & A2 & BETA & SE & PVAL & NGT & FCAS & FCON & IMPINFO & NEFFDIV2 & NCAS & NCON & DIRE & REF\\_EUR & ALT\\_EUR\\\\\n",
       " <int> & <int> & <chr> & <chr> & <chr> & <dbl> & <dbl> & <dbl> & <int> & <dbl> & <dbl> & <dbl> & <dbl> & <int> & <int> & <chr> & <chr> & <chr>\\\\\n",
       "\\hline\n",
       "\\end{tabular}\n"
      ],
      "text/markdown": [
       "\n",
       "A data.table: 0 × 18\n",
       "\n",
       "| CHR &lt;int&gt; | BP &lt;int&gt; | SNP &lt;chr&gt; | A1 &lt;chr&gt; | A2 &lt;chr&gt; | BETA &lt;dbl&gt; | SE &lt;dbl&gt; | PVAL &lt;dbl&gt; | NGT &lt;int&gt; | FCAS &lt;dbl&gt; | FCON &lt;dbl&gt; | IMPINFO &lt;dbl&gt; | NEFFDIV2 &lt;dbl&gt; | NCAS &lt;int&gt; | NCON &lt;int&gt; | DIRE &lt;chr&gt; | REF_EUR &lt;chr&gt; | ALT_EUR &lt;chr&gt; |\n",
       "|---|---|---|---|---|---|---|---|---|---|---|---|---|---|---|---|---|---|\n",
       "\n"
      ],
      "text/plain": [
       "     CHR BP SNP A1 A2 BETA SE PVAL NGT FCAS FCON IMPINFO NEFFDIV2 NCAS NCON\n",
       "     DIRE REF_EUR ALT_EUR"
      ]
     },
     "metadata": {},
     "output_type": "display_data"
    }
   ],
   "source": [
    "head(ref_mismatches)"
   ]
  },
  {
   "cell_type": "code",
   "execution_count": 149,
   "id": "afec253d-85d8-4386-90fd-8e2f4ae9b4c6",
   "metadata": {},
   "outputs": [
    {
     "data": {
      "text/html": [
       "<style>\n",
       ".list-inline {list-style: none; margin:0; padding: 0}\n",
       ".list-inline>li {display: inline-block}\n",
       ".list-inline>li:not(:last-child)::after {content: \"\\00b7\"; padding: 0 .5ex}\n",
       "</style>\n",
       "<ol class=list-inline><li>5879740</li><li>16</li></ol>\n"
      ],
      "text/latex": [
       "\\begin{enumerate*}\n",
       "\\item 5879740\n",
       "\\item 16\n",
       "\\end{enumerate*}\n"
      ],
      "text/markdown": [
       "1. 5879740\n",
       "2. 16\n",
       "\n",
       "\n"
      ],
      "text/plain": [
       "[1] 5879740      16"
      ]
     },
     "metadata": {},
     "output_type": "display_data"
    }
   ],
   "source": [
    "dim(summary_stats)"
   ]
  },
  {
   "cell_type": "code",
   "execution_count": 150,
   "id": "228b8bd8-2a8b-4e59-b87d-dc480871b66c",
   "metadata": {},
   "outputs": [
    {
     "data": {
      "text/html": [
       "<style>\n",
       ".list-inline {list-style: none; margin:0; padding: 0}\n",
       ".list-inline>li {display: inline-block}\n",
       ".list-inline>li:not(:last-child)::after {content: \"\\00b7\"; padding: 0 .5ex}\n",
       "</style>\n",
       "<ol class=list-inline><li>'CHR'</li><li>'BP'</li><li>'SNP'</li><li>'A1'</li><li>'A2'</li><li>'BETA'</li><li>'SE'</li><li>'PVAL'</li><li>'NGT'</li><li>'FCAS'</li><li>'FCON'</li><li>'IMPINFO'</li><li>'NEFFDIV2'</li><li>'NCAS'</li><li>'NCON'</li><li>'DIRE'</li></ol>\n"
      ],
      "text/latex": [
       "\\begin{enumerate*}\n",
       "\\item 'CHR'\n",
       "\\item 'BP'\n",
       "\\item 'SNP'\n",
       "\\item 'A1'\n",
       "\\item 'A2'\n",
       "\\item 'BETA'\n",
       "\\item 'SE'\n",
       "\\item 'PVAL'\n",
       "\\item 'NGT'\n",
       "\\item 'FCAS'\n",
       "\\item 'FCON'\n",
       "\\item 'IMPINFO'\n",
       "\\item 'NEFFDIV2'\n",
       "\\item 'NCAS'\n",
       "\\item 'NCON'\n",
       "\\item 'DIRE'\n",
       "\\end{enumerate*}\n"
      ],
      "text/markdown": [
       "1. 'CHR'\n",
       "2. 'BP'\n",
       "3. 'SNP'\n",
       "4. 'A1'\n",
       "5. 'A2'\n",
       "6. 'BETA'\n",
       "7. 'SE'\n",
       "8. 'PVAL'\n",
       "9. 'NGT'\n",
       "10. 'FCAS'\n",
       "11. 'FCON'\n",
       "12. 'IMPINFO'\n",
       "13. 'NEFFDIV2'\n",
       "14. 'NCAS'\n",
       "15. 'NCON'\n",
       "16. 'DIRE'\n",
       "\n",
       "\n"
      ],
      "text/plain": [
       " [1] \"CHR\"      \"BP\"       \"SNP\"      \"A1\"       \"A2\"       \"BETA\"    \n",
       " [7] \"SE\"       \"PVAL\"     \"NGT\"      \"FCAS\"     \"FCON\"     \"IMPINFO\" \n",
       "[13] \"NEFFDIV2\" \"NCAS\"     \"NCON\"     \"DIRE\"    "
      ]
     },
     "metadata": {},
     "output_type": "display_data"
    }
   ],
   "source": [
    "colnames(summary_stats)"
   ]
  },
  {
   "cell_type": "code",
   "execution_count": 151,
   "id": "a95cf1b9-388c-4368-8d42-5f2df2c24170",
   "metadata": {},
   "outputs": [
    {
     "data": {
      "text/html": [
       "<style>\n",
       ".list-inline {list-style: none; margin:0; padding: 0}\n",
       ".list-inline>li {display: inline-block}\n",
       ".list-inline>li:not(:last-child)::after {content: \"\\00b7\"; padding: 0 .5ex}\n",
       "</style>\n",
       "<ol class=list-inline><li>'1'</li><li>'2'</li><li>'3'</li><li>'4'</li><li>'5'</li><li>'6'</li><li>'7'</li><li>'8'</li><li>'9'</li><li>'10'</li><li>'11'</li><li>'12'</li><li>'13'</li><li>'14'</li><li>'15'</li><li>'16'</li><li>'17'</li><li>'18'</li><li>'19'</li><li>'20'</li><li>'21'</li><li>'22'</li></ol>\n"
      ],
      "text/latex": [
       "\\begin{enumerate*}\n",
       "\\item '1'\n",
       "\\item '2'\n",
       "\\item '3'\n",
       "\\item '4'\n",
       "\\item '5'\n",
       "\\item '6'\n",
       "\\item '7'\n",
       "\\item '8'\n",
       "\\item '9'\n",
       "\\item '10'\n",
       "\\item '11'\n",
       "\\item '12'\n",
       "\\item '13'\n",
       "\\item '14'\n",
       "\\item '15'\n",
       "\\item '16'\n",
       "\\item '17'\n",
       "\\item '18'\n",
       "\\item '19'\n",
       "\\item '20'\n",
       "\\item '21'\n",
       "\\item '22'\n",
       "\\end{enumerate*}\n"
      ],
      "text/markdown": [
       "1. '1'\n",
       "2. '2'\n",
       "3. '3'\n",
       "4. '4'\n",
       "5. '5'\n",
       "6. '6'\n",
       "7. '7'\n",
       "8. '8'\n",
       "9. '9'\n",
       "10. '10'\n",
       "11. '11'\n",
       "12. '12'\n",
       "13. '13'\n",
       "14. '14'\n",
       "15. '15'\n",
       "16. '16'\n",
       "17. '17'\n",
       "18. '18'\n",
       "19. '19'\n",
       "20. '20'\n",
       "21. '21'\n",
       "22. '22'\n",
       "\n",
       "\n"
      ],
      "text/plain": [
       " [1] \"1\"  \"2\"  \"3\"  \"4\"  \"5\"  \"6\"  \"7\"  \"8\"  \"9\"  \"10\" \"11\" \"12\" \"13\" \"14\" \"15\"\n",
       "[16] \"16\" \"17\" \"18\" \"19\" \"20\" \"21\" \"22\""
      ]
     },
     "metadata": {},
     "output_type": "display_data"
    }
   ],
   "source": [
    "levels(factor(summary_stats$CHR))"
   ]
  },
  {
   "cell_type": "code",
   "execution_count": 152,
   "id": "717e96ad-4e23-476c-ae89-4464efc0a15e",
   "metadata": {},
   "outputs": [
    {
     "data": {
      "text/html": [
       "<style>\n",
       ".list-inline {list-style: none; margin:0; padding: 0}\n",
       ".list-inline>li {display: inline-block}\n",
       ".list-inline>li:not(:last-child)::after {content: \"\\00b7\"; padding: 0 .5ex}\n",
       "</style>\n",
       "<ol class=list-inline><li>345874</li><li>20</li></ol>\n"
      ],
      "text/latex": [
       "\\begin{enumerate*}\n",
       "\\item 345874\n",
       "\\item 20\n",
       "\\end{enumerate*}\n"
      ],
      "text/markdown": [
       "1. 345874\n",
       "2. 20\n",
       "\n",
       "\n"
      ],
      "text/plain": [
       "[1] 345874     20"
      ]
     },
     "metadata": {},
     "output_type": "display_data"
    }
   ],
   "source": [
    "dim(merged_data)"
   ]
  },
  {
   "cell_type": "code",
   "execution_count": 153,
   "id": "08193581-fc23-45c4-9e3f-87880b6a1f2a",
   "metadata": {},
   "outputs": [
    {
     "data": {
      "text/html": [
       "<style>\n",
       ".list-inline {list-style: none; margin:0; padding: 0}\n",
       ".list-inline>li {display: inline-block}\n",
       ".list-inline>li:not(:last-child)::after {content: \"\\00b7\"; padding: 0 .5ex}\n",
       "</style>\n",
       "<ol class=list-inline><li>345874</li><li>4</li></ol>\n"
      ],
      "text/latex": [
       "\\begin{enumerate*}\n",
       "\\item 345874\n",
       "\\item 4\n",
       "\\end{enumerate*}\n"
      ],
      "text/markdown": [
       "1. 345874\n",
       "2. 4\n",
       "\n",
       "\n"
      ],
      "text/plain": [
       "[1] 345874      4"
      ]
     },
     "metadata": {},
     "output_type": "display_data"
    }
   ],
   "source": [
    "dim(ref)"
   ]
  },
  {
   "cell_type": "markdown",
   "id": "72693bf4-1057-425e-beb0-4636837bea1b",
   "metadata": {},
   "source": [
    "Everything in reference genome dataset is also found in summary stats, but not everything in summary stats is found in this reference genome...?"
   ]
  },
  {
   "cell_type": "code",
   "execution_count": 154,
   "id": "7b8c1770-556c-4159-ac40-a5ea04ae2da3",
   "metadata": {},
   "outputs": [
    {
     "data": {
      "text/html": [
       "<style>\n",
       ".list-inline {list-style: none; margin:0; padding: 0}\n",
       ".list-inline>li {display: inline-block}\n",
       ".list-inline>li:not(:last-child)::after {content: \"\\00b7\"; padding: 0 .5ex}\n",
       "</style>\n",
       "<ol class=list-inline><li>345874</li><li>4</li></ol>\n"
      ],
      "text/latex": [
       "\\begin{enumerate*}\n",
       "\\item 345874\n",
       "\\item 4\n",
       "\\end{enumerate*}\n"
      ],
      "text/markdown": [
       "1. 345874\n",
       "2. 4\n",
       "\n",
       "\n"
      ],
      "text/plain": [
       "[1] 345874      4"
      ]
     },
     "metadata": {},
     "output_type": "display_data"
    }
   ],
   "source": [
    "dim(libd)"
   ]
  },
  {
   "cell_type": "code",
   "execution_count": 155,
   "id": "b3039bbf-f8ca-49bc-9ff5-57123c625a36",
   "metadata": {},
   "outputs": [
    {
     "data": {
      "text/html": [
       "<table class=\"dataframe\">\n",
       "<caption>A data.table: 6 × 4</caption>\n",
       "<thead>\n",
       "\t<tr><th scope=col>CHR</th><th scope=col>BP</th><th scope=col>REF_EUR</th><th scope=col>ALT_EUR</th></tr>\n",
       "\t<tr><th scope=col>&lt;int&gt;</th><th scope=col>&lt;int&gt;</th><th scope=col>&lt;chr&gt;</th><th scope=col>&lt;chr&gt;</th></tr>\n",
       "</thead>\n",
       "<tbody>\n",
       "\t<tr><td>7</td><td>53998</td><td>T</td><td>C</td></tr>\n",
       "\t<tr><td>7</td><td>60728</td><td>G</td><td>A</td></tr>\n",
       "\t<tr><td>7</td><td>63494</td><td>G</td><td>A</td></tr>\n",
       "\t<tr><td>7</td><td>71938</td><td>A</td><td>C</td></tr>\n",
       "\t<tr><td>7</td><td>80500</td><td>T</td><td>C</td></tr>\n",
       "\t<tr><td>7</td><td>82240</td><td>C</td><td>T</td></tr>\n",
       "</tbody>\n",
       "</table>\n"
      ],
      "text/latex": [
       "A data.table: 6 × 4\n",
       "\\begin{tabular}{llll}\n",
       " CHR & BP & REF\\_EUR & ALT\\_EUR\\\\\n",
       " <int> & <int> & <chr> & <chr>\\\\\n",
       "\\hline\n",
       "\t 7 & 53998 & T & C\\\\\n",
       "\t 7 & 60728 & G & A\\\\\n",
       "\t 7 & 63494 & G & A\\\\\n",
       "\t 7 & 71938 & A & C\\\\\n",
       "\t 7 & 80500 & T & C\\\\\n",
       "\t 7 & 82240 & C & T\\\\\n",
       "\\end{tabular}\n"
      ],
      "text/markdown": [
       "\n",
       "A data.table: 6 × 4\n",
       "\n",
       "| CHR &lt;int&gt; | BP &lt;int&gt; | REF_EUR &lt;chr&gt; | ALT_EUR &lt;chr&gt; |\n",
       "|---|---|---|---|\n",
       "| 7 | 53998 | T | C |\n",
       "| 7 | 60728 | G | A |\n",
       "| 7 | 63494 | G | A |\n",
       "| 7 | 71938 | A | C |\n",
       "| 7 | 80500 | T | C |\n",
       "| 7 | 82240 | C | T |\n",
       "\n"
      ],
      "text/plain": [
       "  CHR BP    REF_EUR ALT_EUR\n",
       "1 7   53998 T       C      \n",
       "2 7   60728 G       A      \n",
       "3 7   63494 G       A      \n",
       "4 7   71938 A       C      \n",
       "5 7   80500 T       C      \n",
       "6 7   82240 C       T      "
      ]
     },
     "metadata": {},
     "output_type": "display_data"
    }
   ],
   "source": [
    "head(ref)"
   ]
  },
  {
   "cell_type": "code",
   "execution_count": 156,
   "id": "1ff13cd8-d36c-4840-9a35-806dc65a782e",
   "metadata": {},
   "outputs": [
    {
     "data": {
      "text/html": [
       "<table class=\"dataframe\">\n",
       "<caption>A data.table: 6 × 4</caption>\n",
       "<thead>\n",
       "\t<tr><th scope=col>CHR</th><th scope=col>BP</th><th scope=col>REF_libd</th><th scope=col>ALT_libd</th></tr>\n",
       "\t<tr><th scope=col>&lt;int&gt;</th><th scope=col>&lt;int&gt;</th><th scope=col>&lt;chr&gt;</th><th scope=col>&lt;chr&gt;</th></tr>\n",
       "</thead>\n",
       "<tbody>\n",
       "\t<tr><td>7</td><td>53998</td><td>C</td><td>T</td></tr>\n",
       "\t<tr><td>7</td><td>60728</td><td>G</td><td>A</td></tr>\n",
       "\t<tr><td>7</td><td>63494</td><td>A</td><td>G</td></tr>\n",
       "\t<tr><td>7</td><td>71938</td><td>A</td><td>C</td></tr>\n",
       "\t<tr><td>7</td><td>80500</td><td>T</td><td>C</td></tr>\n",
       "\t<tr><td>7</td><td>82240</td><td>C</td><td>T</td></tr>\n",
       "</tbody>\n",
       "</table>\n"
      ],
      "text/latex": [
       "A data.table: 6 × 4\n",
       "\\begin{tabular}{llll}\n",
       " CHR & BP & REF\\_libd & ALT\\_libd\\\\\n",
       " <int> & <int> & <chr> & <chr>\\\\\n",
       "\\hline\n",
       "\t 7 & 53998 & C & T\\\\\n",
       "\t 7 & 60728 & G & A\\\\\n",
       "\t 7 & 63494 & A & G\\\\\n",
       "\t 7 & 71938 & A & C\\\\\n",
       "\t 7 & 80500 & T & C\\\\\n",
       "\t 7 & 82240 & C & T\\\\\n",
       "\\end{tabular}\n"
      ],
      "text/markdown": [
       "\n",
       "A data.table: 6 × 4\n",
       "\n",
       "| CHR &lt;int&gt; | BP &lt;int&gt; | REF_libd &lt;chr&gt; | ALT_libd &lt;chr&gt; |\n",
       "|---|---|---|---|\n",
       "| 7 | 53998 | C | T |\n",
       "| 7 | 60728 | G | A |\n",
       "| 7 | 63494 | A | G |\n",
       "| 7 | 71938 | A | C |\n",
       "| 7 | 80500 | T | C |\n",
       "| 7 | 82240 | C | T |\n",
       "\n"
      ],
      "text/plain": [
       "  CHR BP    REF_libd ALT_libd\n",
       "1 7   53998 C        T       \n",
       "2 7   60728 G        A       \n",
       "3 7   63494 A        G       \n",
       "4 7   71938 A        C       \n",
       "5 7   80500 T        C       \n",
       "6 7   82240 C        T       "
      ]
     },
     "metadata": {},
     "output_type": "display_data"
    }
   ],
   "source": [
    "head(libd)"
   ]
  },
  {
   "cell_type": "code",
   "execution_count": 162,
   "id": "71220642-015b-4fe8-92f4-b76580bfebd2",
   "metadata": {},
   "outputs": [],
   "source": [
    "merged_data[, matches_ref := (A1 == REF_EUR & A2 == ALT_EUR) | (A1 == ALT_EUR & A2 == REF_EUR)]"
   ]
  },
  {
   "cell_type": "code",
   "execution_count": 158,
   "id": "5e917e6b-8168-479c-92cc-31bf12e45c75",
   "metadata": {},
   "outputs": [
    {
     "ename": "ERROR",
     "evalue": "Error in eval(expr, envir, enclos): object 'A1' not found\n",
     "output_type": "error",
     "traceback": [
      "Error in eval(expr, envir, enclos): object 'A1' not found\nTraceback:\n"
     ]
    }
   ],
   "source": [
    "# Determine if summary stat alleles match with ref dataset in either orientation\n",
    "matches_ref <- (A1 == REF_EUR & A2 == ALT_EUR) | (A1 == ALT_EUR & A2 == REF_EUR)"
   ]
  },
  {
   "cell_type": "code",
   "execution_count": null,
   "id": "254add24-f948-4511-acfc-e7c374f4329a",
   "metadata": {},
   "outputs": [],
   "source": [
    "# Determine if summary stat alleles match with libd dataset in either orientation\n",
    "matches_libd <- (A1 == REF_libd & A2 == ALT_libd) | (A1 == ALT_libd & A2 == REF_libd)"
   ]
  },
  {
   "cell_type": "code",
   "execution_count": null,
   "id": "f45bcab4-5eab-4a35-be7f-ca5b091d211c",
   "metadata": {},
   "outputs": [],
   "source": [
    "# Find indices where neither ref nor libd matches\n",
    "flip_index <- merged_data[!(matches_ref & matches_libd), .I]"
   ]
  },
  {
   "cell_type": "code",
   "execution_count": 130,
   "id": "70de3a5f-c9ed-4b49-813b-d7c4efe1f276",
   "metadata": {},
   "outputs": [],
   "source": [
    "# Identify and flip alleles where necessary\n",
    "flip_index <- merged_data[\n",
    "    ((A1 == REF & A2 == ALT) | (A1 == ALT & A2 == REF)) &\n",
    "    ((A1 == REF_libd & A2 == ALT_libd) | (A1 == ALT_libd & A2 == REF_libd)),\n",
    "    .I\n",
    "]"
   ]
  },
  {
   "cell_type": "code",
   "execution_count": 132,
   "id": "49fd6e4e-6e1b-476c-b27e-2b4c281edce0",
   "metadata": {},
   "outputs": [
    {
     "data": {
      "text/html": [
       "345874"
      ],
      "text/latex": [
       "345874"
      ],
      "text/markdown": [
       "345874"
      ],
      "text/plain": [
       "[1] 345874"
      ]
     },
     "metadata": {},
     "output_type": "display_data"
    }
   ],
   "source": [
    "length(flip_index)"
   ]
  },
  {
   "cell_type": "code",
   "execution_count": 133,
   "id": "950a2e7c-eb38-4f67-b5a3-ceba27dde10f",
   "metadata": {},
   "outputs": [
    {
     "data": {
      "text/html": [
       "<style>\n",
       ".list-inline {list-style: none; margin:0; padding: 0}\n",
       ".list-inline>li {display: inline-block}\n",
       ".list-inline>li:not(:last-child)::after {content: \"\\00b7\"; padding: 0 .5ex}\n",
       "</style>\n",
       "<ol class=list-inline><li>1</li><li>2</li><li>3</li><li>4</li><li>5</li><li>6</li></ol>\n"
      ],
      "text/latex": [
       "\\begin{enumerate*}\n",
       "\\item 1\n",
       "\\item 2\n",
       "\\item 3\n",
       "\\item 4\n",
       "\\item 5\n",
       "\\item 6\n",
       "\\end{enumerate*}\n"
      ],
      "text/markdown": [
       "1. 1\n",
       "2. 2\n",
       "3. 3\n",
       "4. 4\n",
       "5. 5\n",
       "6. 6\n",
       "\n",
       "\n"
      ],
      "text/plain": [
       "[1] 1 2 3 4 5 6"
      ]
     },
     "metadata": {},
     "output_type": "display_data"
    }
   ],
   "source": [
    "head(flip_index)"
   ]
  },
  {
   "cell_type": "code",
   "execution_count": 131,
   "id": "d6101011-5b6f-448a-b646-197be38a3d2d",
   "metadata": {},
   "outputs": [
    {
     "data": {
      "text/plain": [
       "NULL"
      ]
     },
     "metadata": {},
     "output_type": "display_data"
    }
   ],
   "source": [
    "dim(flip_index)"
   ]
  },
  {
   "cell_type": "code",
   "execution_count": null,
   "id": "8fcbafc2-3e85-416f-9538-c88afd1b1283",
   "metadata": {},
   "outputs": [],
   "source": [
    "# Flip alleles and BETA where necessary\n",
    "if (length(flip_index) > 0) {\n",
    "    merged_data[flip_index, `:=`(A1 = A2, A2 = A1, BETA = -BETA)]\n",
    "}\n",
    "\n",
    "# Define the columns that need to be retained, ensuring flexibility\n",
    "retain_cols <- intersect(c(\"CHR\", \"BP\", \"SNP\", \"A1\", \"A2\", \"BETA\", \"SE\", \"P\", \"PVAL\", \"Freq\", \n",
    "                           \"NGT\", \"FCAS\", \"FCON\", \"IMPINFO\", \"NEFFDIV2\", \"NCAS\", \"NCON\", \"DIRE\"), \n",
    "                         names(merged_data))\n",
    "\n",
    "summary_stats <- merged_data[, ..retain_cols]"
   ]
  },
  {
   "cell_type": "code",
   "execution_count": null,
   "id": "4680c57b-7c87-4552-a6c0-150095f6823e",
   "metadata": {},
   "outputs": [],
   "source": []
  },
  {
   "cell_type": "code",
   "execution_count": null,
   "id": "78800fa0-0c90-4ae9-a8b3-fc72f2697496",
   "metadata": {},
   "outputs": [],
   "source": []
  },
  {
   "cell_type": "code",
   "execution_count": null,
   "id": "5ba3d314-a3d1-456e-b752-41bdc722374e",
   "metadata": {},
   "outputs": [],
   "source": [
    "for (chr in 1:22) {\n",
    "    # Load reference and LIBD data\n",
    "}\n",
    "\n",
    "# Write the updated summary statistics back to the file\n",
    "fwrite(summary_stats, output_path)"
   ]
  },
  {
   "cell_type": "code",
   "execution_count": null,
   "id": "653b8a48-417b-48a7-862a-9fbef1749456",
   "metadata": {},
   "outputs": [],
   "source": []
  },
  {
   "cell_type": "markdown",
   "id": "e3639e45-d3b1-470c-bcf1-acc060571efb",
   "metadata": {},
   "source": [
    "## Try for all chr"
   ]
  },
  {
   "cell_type": "code",
   "execution_count": 103,
   "id": "83d109cf-85bd-4643-bc3e-64cf31fa419f",
   "metadata": {},
   "outputs": [],
   "source": [
    "library(data.table)\n",
    "\n",
    "# List all summary statistics files\n",
    "#summary_stats_paths <- list.files(\"\", pattern = \"alleleprocessed.txt\", full.names = TRUE)\n",
    "\n",
    "for (summary_stats_path in summary_stats_paths) {\n",
    "    \n",
    "    output_path <- sub(\".txt\", \"_alleleprocessed_a2.txt\", summary_stats_path)\n",
    "    \n",
    "    if (!grepl(\"\\\\.\", basename(output_path))) {\n",
    "        output_path <- paste0(output_path, \"_alleleprocessed.txt\")\n",
    "    }\n",
    "\n",
    "    if (file.exists(output_path)) {\n",
    "        stop(paste(\"File already exists:\", output_path))\n",
    "    }\n",
    "\n",
    "    summary_stats <- fread(summary_stats_path)\n",
    "    summary_stats <- clean_and_standardize_colnames(summary_stats)\n",
    "\n",
    "    for (chr in 1:22) {\n",
    "        # Load reference and LIBD data\n",
    "        ref <- fread(paste0(\"/expanse/lustre/projects/jhu152/naglemi/mwas/gwas/ref_EUR_chr\", chr, \".pvar\"),\n",
    "                     select = c(\"#CHROM\", \"POS\", \"REF\", \"ALT\"),\n",
    "                     col.names = c(\"CHR\", \"BP\", \"REF\", \"ALT\"))\n",
    "\n",
    "        libd <- fread(paste0(\"/expanse/lustre/projects/jhu152/naglemi/mwas/gwas/libd_chr\", chr, \".pvar\"),\n",
    "                      select = c(\"#CHROM\", \"POS\", \"REF\", \"ALT\"),\n",
    "                      col.names = c(\"CHR\", \"BP\", \"REF_libd\", \"ALT_libd\"))\n",
    "\n",
    "        # Merge with reference and LIBD data by CHR and BP\n",
    "        merged_ref <- merge(summary_stats, ref, by = c(\"CHR\", \"BP\"), suffixes = c(\"\", \"_ref\"))\n",
    "        merged_data <- merge(merged_ref, libd, by = c(\"CHR\", \"BP\"), suffixes = c(\"\", \"_libd\"))\n",
    "\n",
    "        # Identify and flip alleles where necessary\n",
    "        flip_index <- merged_data[\n",
    "            ((A1 == REF & A2 == ALT) | (A1 == ALT & A2 == REF)) &\n",
    "            ((A1 == REF_libd & A2 == ALT_libd) | (A1 == ALT_libd & A2 == REF_libd)),\n",
    "            .I\n",
    "        ]\n",
    "\n",
    "        # Flip alleles and BETA where necessary\n",
    "        if (length(flip_index) > 0) {\n",
    "            merged_data[flip_index, `:=`(A1 = A2, A2 = A1, BETA = -BETA)]\n",
    "        }\n",
    "\n",
    "        # Define the columns that need to be retained, ensuring flexibility\n",
    "        retain_cols <- intersect(c(\"CHR\", \"BP\", \"SNP\", \"A1\", \"A2\", \"BETA\", \"SE\", \"P\", \"PVAL\", \"Freq\", \n",
    "                                   \"NGT\", \"FCAS\", \"FCON\", \"IMPINFO\", \"NEFFDIV2\", \"NCAS\", \"NCON\", \"DIRE\"), \n",
    "                                 names(merged_data))\n",
    "        \n",
    "        summary_stats <- merged_data[, ..retain_cols]\n",
    "    }\n",
    "\n",
    "    # Write the updated summary statistics back to the file\n",
    "    fwrite(summary_stats, output_path)\n",
    "}\n"
   ]
  },
  {
   "cell_type": "code",
   "execution_count": 107,
   "id": "0d2fdb29-f759-4fc6-8178-b60dfc09e9db",
   "metadata": {},
   "outputs": [],
   "source": [
    "library(data.table)\n",
    "\n",
    "summary_stats_paths <- list.files(\"/expanse/lustre/projects/jhu152/naglemi/mwas/gwas/\", pattern = \"alleleprocessed.txt\", full.names = TRUE)"
   ]
  },
  {
   "cell_type": "code",
   "execution_count": 108,
   "id": "b677f0bd-3b8e-49a9-b8f1-3242b40b939e",
   "metadata": {},
   "outputs": [
    {
     "data": {
      "text/html": [
       "<style>\n",
       ".list-inline {list-style: none; margin:0; padding: 0}\n",
       ".list-inline>li {display: inline-block}\n",
       ".list-inline>li:not(:last-child)::after {content: \"\\00b7\"; padding: 0 .5ex}\n",
       "</style>\n",
       "<ol class=list-inline><li>'/expanse/lustre/projects/jhu152/naglemi/mwas/gwas//gwas_stat_bp_alleleprocessed.txt'</li><li>'/expanse/lustre/projects/jhu152/naglemi/mwas/gwas//gwas_stat_mdd_alleleprocessed.txt'</li><li>'/expanse/lustre/projects/jhu152/naglemi/mwas/gwas//gwas_stat_scz_alleleprocessed.txt'</li></ol>\n"
      ],
      "text/latex": [
       "\\begin{enumerate*}\n",
       "\\item '/expanse/lustre/projects/jhu152/naglemi/mwas/gwas//gwas\\_stat\\_bp\\_alleleprocessed.txt'\n",
       "\\item '/expanse/lustre/projects/jhu152/naglemi/mwas/gwas//gwas\\_stat\\_mdd\\_alleleprocessed.txt'\n",
       "\\item '/expanse/lustre/projects/jhu152/naglemi/mwas/gwas//gwas\\_stat\\_scz\\_alleleprocessed.txt'\n",
       "\\end{enumerate*}\n"
      ],
      "text/markdown": [
       "1. '/expanse/lustre/projects/jhu152/naglemi/mwas/gwas//gwas_stat_bp_alleleprocessed.txt'\n",
       "2. '/expanse/lustre/projects/jhu152/naglemi/mwas/gwas//gwas_stat_mdd_alleleprocessed.txt'\n",
       "3. '/expanse/lustre/projects/jhu152/naglemi/mwas/gwas//gwas_stat_scz_alleleprocessed.txt'\n",
       "\n",
       "\n"
      ],
      "text/plain": [
       "[1] \"/expanse/lustre/projects/jhu152/naglemi/mwas/gwas//gwas_stat_bp_alleleprocessed.txt\" \n",
       "[2] \"/expanse/lustre/projects/jhu152/naglemi/mwas/gwas//gwas_stat_mdd_alleleprocessed.txt\"\n",
       "[3] \"/expanse/lustre/projects/jhu152/naglemi/mwas/gwas//gwas_stat_scz_alleleprocessed.txt\""
      ]
     },
     "metadata": {},
     "output_type": "display_data"
    }
   ],
   "source": [
    "summary_stats_paths"
   ]
  },
  {
   "cell_type": "code",
   "execution_count": 109,
   "id": "5b870466-a046-4e99-9de4-246819bdb6ab",
   "metadata": {},
   "outputs": [
    {
     "name": "stdout",
     "output_type": "stream",
     "text": [
      "File: /expanse/lustre/projects/jhu152/naglemi/mwas/gwas//gwas_stat_bp_alleleprocessed.txt - Total mismatches: 0 \n",
      "File: /expanse/lustre/projects/jhu152/naglemi/mwas/gwas//gwas_stat_mdd_alleleprocessed.txt - Total mismatches: 0 \n",
      "File: /expanse/lustre/projects/jhu152/naglemi/mwas/gwas//gwas_stat_scz_alleleprocessed.txt - Total mismatches: 0 \n"
     ]
    }
   ],
   "source": [
    "library(data.table)\n",
    "\n",
    "\n",
    "for (summary_stats_path in summary_stats_paths) {\n",
    "    \n",
    "    summary_stats <- fread(summary_stats_path)\n",
    "    summary_stats <- clean_and_standardize_colnames(summary_stats)\n",
    "\n",
    "    total_mismatches <- 0  # Initialize counter for mismatches\n",
    "\n",
    "    for (chr in 1:22) {\n",
    "        # Load reference and LIBD data\n",
    "        ref <- fread(paste0(\"/expanse/lustre/projects/jhu152/naglemi/mwas/gwas/ref_EUR_chr\", chr, \".pvar\"),\n",
    "                     select = c(\"#CHROM\", \"POS\", \"REF\", \"ALT\"),\n",
    "                     col.names = c(\"CHR\", \"BP\", \"REF\", \"ALT\"))\n",
    "\n",
    "        libd <- fread(paste0(\"/expanse/lustre/projects/jhu152/naglemi/mwas/gwas/libd_chr\", chr, \".pvar\"),\n",
    "                      select = c(\"#CHROM\", \"POS\", \"REF\", \"ALT\"),\n",
    "                      col.names = c(\"CHR\", \"BP\", \"REF_libd\", \"ALT_libd\"))\n",
    "\n",
    "        # Merge with reference and LIBD data by CHR and BP\n",
    "        merged_ref <- merge(summary_stats, ref, by = c(\"CHR\", \"BP\"), suffixes = c(\"\", \"_ref\"))\n",
    "        merged_data <- merge(merged_ref, libd, by = c(\"CHR\", \"BP\"), suffixes = c(\"\", \"_libd\"))\n",
    "\n",
    "        # Count mismatches in allele orders\n",
    "        mismatch_count <- merged_data[\n",
    "            !(((A1 == REF & A2 == ALT) | (A1 == ALT & A2 == REF)) &\n",
    "              ((A1 == REF_libd & A2 == ALT_libd) | (A1 == ALT_libd & A2 == REF_libd))),\n",
    "            .N\n",
    "        ]\n",
    "\n",
    "        # Accumulate total mismatches\n",
    "        total_mismatches <- total_mismatches + mismatch_count\n",
    "    }\n",
    "\n",
    "    # Print a message with the total count of mismatches\n",
    "    cat(\"File:\", summary_stats_path, \"- Total mismatches:\", total_mismatches, \"\\n\")\n",
    "}\n"
   ]
  },
  {
   "cell_type": "code",
   "execution_count": 110,
   "id": "94ae875a-f2ff-492a-af33-7270fd8289c9",
   "metadata": {},
   "outputs": [],
   "source": [
    "library(data.table)\n",
    "\n",
    "summary_stats_paths <- list.files(\"/expanse/lustre/projects/jhu152/naglemi/mwas/gwas/\", pattern = \"stat\", full.names = TRUE)"
   ]
  },
  {
   "cell_type": "code",
   "execution_count": 111,
   "id": "ce0dee46-9dcf-4cab-95ab-2a90f14973ef",
   "metadata": {
    "collapsed": true,
    "jupyter": {
     "outputs_hidden": true
    }
   },
   "outputs": [
    {
     "name": "stdout",
     "output_type": "stream",
     "text": [
      "[1] \"/expanse/lustre/projects/jhu152/naglemi/mwas/gwas//gwas_stat_bp\"\n"
     ]
    },
    {
     "name": "stderr",
     "output_type": "stream",
     "text": [
      "Warning message in fread(summary_stats_path):\n",
      "“Detected 1 column names but the data has 16 columns (i.e. invalid file). Added 15 extra default column names at the end.”\n"
     ]
    },
    {
     "name": "stdout",
     "output_type": "stream",
     "text": [
      "File: /expanse/lustre/projects/jhu152/naglemi/mwas/gwas//gwas_stat_bp - Total mismatches: 22 \n",
      "[1] \"/expanse/lustre/projects/jhu152/naglemi/mwas/gwas//gwas_stat_bp_alleleprocessed.txt\"\n",
      "File: /expanse/lustre/projects/jhu152/naglemi/mwas/gwas//gwas_stat_bp_alleleprocessed.txt - Total mismatches: 0 \n",
      "[1] \"/expanse/lustre/projects/jhu152/naglemi/mwas/gwas//gwas_stat_mdd\"\n",
      "File: /expanse/lustre/projects/jhu152/naglemi/mwas/gwas//gwas_stat_mdd - Total mismatches: 30 \n",
      "[1] \"/expanse/lustre/projects/jhu152/naglemi/mwas/gwas//gwas_stat_mdd_alleleprocessed.txt\"\n",
      "File: /expanse/lustre/projects/jhu152/naglemi/mwas/gwas//gwas_stat_mdd_alleleprocessed.txt - Total mismatches: 0 \n",
      "[1] \"/expanse/lustre/projects/jhu152/naglemi/mwas/gwas//gwas_stat_scz\"\n"
     ]
    },
    {
     "name": "stderr",
     "output_type": "stream",
     "text": [
      "Warning message in fread(summary_stats_path):\n",
      "“Detected 1 column names but the data has 19 columns (i.e. invalid file). Added 18 extra default column names at the end.”\n"
     ]
    },
    {
     "name": "stdout",
     "output_type": "stream",
     "text": [
      "File: /expanse/lustre/projects/jhu152/naglemi/mwas/gwas//gwas_stat_scz - Total mismatches: 21 \n",
      "[1] \"/expanse/lustre/projects/jhu152/naglemi/mwas/gwas//gwas_stat_scz_alleleprocessed.txt\"\n",
      "File: /expanse/lustre/projects/jhu152/naglemi/mwas/gwas//gwas_stat_scz_alleleprocessed.txt - Total mismatches: 0 \n"
     ]
    }
   ],
   "source": [
    "for (summary_stats_path in summary_stats_paths) {\n",
    "    print(summary_stats_path)\n",
    "    summary_stats <- fread(summary_stats_path)\n",
    "    summary_stats <- clean_and_standardize_colnames(summary_stats)\n",
    "\n",
    "    total_mismatches <- 0  # Initialize counter for mismatches\n",
    "\n",
    "    for (chr in 1:22) {\n",
    "        # Load reference and LIBD data\n",
    "        ref <- fread(paste0(\"/expanse/lustre/projects/jhu152/naglemi/mwas/gwas/ref_EUR_chr\", chr, \".pvar\"),\n",
    "                     select = c(\"#CHROM\", \"POS\", \"REF\", \"ALT\"),\n",
    "                     col.names = c(\"CHR\", \"BP\", \"REF\", \"ALT\"))\n",
    "\n",
    "        libd <- fread(paste0(\"/expanse/lustre/projects/jhu152/naglemi/mwas/gwas/libd_chr\", chr, \".pvar\"),\n",
    "                      select = c(\"#CHROM\", \"POS\", \"REF\", \"ALT\"),\n",
    "                      col.names = c(\"CHR\", \"BP\", \"REF_libd\", \"ALT_libd\"))\n",
    "\n",
    "        # Merge with reference and LIBD data by CHR and BP\n",
    "        merged_ref <- merge(summary_stats, ref, by = c(\"CHR\", \"BP\"), suffixes = c(\"\", \"_ref\"))\n",
    "        merged_data <- merge(merged_ref, libd, by = c(\"CHR\", \"BP\"), suffixes = c(\"\", \"_libd\"))\n",
    "\n",
    "        # Count mismatches in allele orders\n",
    "        mismatch_count <- merged_data[\n",
    "            !(((A1 == REF & A2 == ALT) | (A1 == ALT & A2 == REF)) &\n",
    "              ((A1 == REF_libd & A2 == ALT_libd) | (A1 == ALT_libd & A2 == REF_libd))),\n",
    "            .N\n",
    "        ]\n",
    "\n",
    "        # Accumulate total mismatches\n",
    "        total_mismatches <- total_mismatches + mismatch_count\n",
    "    }\n",
    "\n",
    "    # Print a message with the total count of mismatches\n",
    "    cat(\"File:\", summary_stats_path, \"- Total mismatches:\", total_mismatches, \"\\n\")\n",
    "}\n"
   ]
  },
  {
   "cell_type": "code",
   "execution_count": 113,
   "id": "754390d2-a7ee-4345-a73b-7b72f575f55f",
   "metadata": {},
   "outputs": [
    {
     "name": "stderr",
     "output_type": "stream",
     "text": [
      "Warning message in fread(summary_stats_path):\n",
      "“Detected 1 column names but the data has 16 columns (i.e. invalid file). Added 15 extra default column names at the end.”\n"
     ]
    },
    {
     "name": "stdout",
     "output_type": "stream",
     "text": [
      "Processing file: /expanse/lustre/projects/jhu152/naglemi/mwas/gwas//gwas_stat_bp \n",
      "\n",
      "Chromosome: 1 - ref mismatches: 1 \n",
      "Chromosome: 2 - ref mismatches: 0 \n",
      "Chromosome: 3 - ref mismatches: 0 \n",
      "Chromosome: 4 - ref mismatches: 0 \n",
      "Chromosome: 5 - ref mismatches: 1 \n",
      "Chromosome: 6 - ref mismatches: 0 \n",
      "Chromosome: 7 - ref mismatches: 0 \n",
      "Chromosome: 8 - ref mismatches: 0 \n",
      "Chromosome: 9 - ref mismatches: 0 \n",
      "Chromosome: 10 - ref mismatches: 1 \n",
      "Chromosome: 11 - ref mismatches: 1 \n",
      "Chromosome: 12 - ref mismatches: 1 \n",
      "Chromosome: 13 - ref mismatches: 2 \n",
      "Chromosome: 14 - ref mismatches: 0 \n",
      "Chromosome: 15 - ref mismatches: 0 \n",
      "Chromosome: 16 - ref mismatches: 0 \n",
      "Chromosome: 17 - ref mismatches: 0 \n",
      "Chromosome: 18 - ref mismatches: 1 \n",
      "Chromosome: 19 - ref mismatches: 0 \n",
      "Chromosome: 20 - ref mismatches: 0 \n",
      "Chromosome: 21 - ref mismatches: 0 \n",
      "Chromosome: 22 - ref mismatches: 0 \n",
      "\n",
      "Chromosome: 1 - libd mismatches: 1 \n",
      "Chromosome: 2 - libd mismatches: 1 \n",
      "Chromosome: 3 - libd mismatches: 0 \n",
      "Chromosome: 4 - libd mismatches: 0 \n",
      "Chromosome: 5 - libd mismatches: 0 \n",
      "Chromosome: 6 - libd mismatches: 10 \n",
      "Chromosome: 7 - libd mismatches: 0 \n",
      "Chromosome: 8 - libd mismatches: 0 \n",
      "Chromosome: 9 - libd mismatches: 0 \n",
      "Chromosome: 10 - libd mismatches: 0 \n",
      "Chromosome: 11 - libd mismatches: 1 \n",
      "Chromosome: 12 - libd mismatches: 0 \n",
      "Chromosome: 13 - libd mismatches: 0 \n",
      "Chromosome: 14 - libd mismatches: 0 \n",
      "Chromosome: 15 - libd mismatches: 1 \n",
      "Chromosome: 16 - libd mismatches: 0 \n",
      "Chromosome: 17 - libd mismatches: 0 \n",
      "Chromosome: 18 - libd mismatches: 0 \n",
      "Chromosome: 19 - libd mismatches: 0 \n",
      "Chromosome: 20 - libd mismatches: 0 \n",
      "Chromosome: 21 - libd mismatches: 0 \n",
      "Chromosome: 22 - libd mismatches: 1 \n",
      "\n",
      "File: /expanse/lustre/projects/jhu152/naglemi/mwas/gwas//gwas_stat_bp - Total ref mismatches: 8 \n",
      "File: /expanse/lustre/projects/jhu152/naglemi/mwas/gwas//gwas_stat_bp - Total libd mismatches: 15 \n",
      "\n",
      "Processing file: /expanse/lustre/projects/jhu152/naglemi/mwas/gwas//gwas_stat_bp_alleleprocessed.txt \n",
      "\n",
      "Chromosome: 1 - ref mismatches: 0 \n",
      "Chromosome: 2 - ref mismatches: 0 \n",
      "Chromosome: 3 - ref mismatches: 0 \n",
      "Chromosome: 4 - ref mismatches: 0 \n",
      "Chromosome: 5 - ref mismatches: 0 \n",
      "Chromosome: 6 - ref mismatches: 0 \n",
      "Chromosome: 7 - ref mismatches: 0 \n",
      "Chromosome: 8 - ref mismatches: 0 \n",
      "Chromosome: 9 - ref mismatches: 0 \n",
      "Chromosome: 10 - ref mismatches: 0 \n",
      "Chromosome: 11 - ref mismatches: 0 \n",
      "Chromosome: 12 - ref mismatches: 0 \n",
      "Chromosome: 13 - ref mismatches: 0 \n",
      "Chromosome: 14 - ref mismatches: 0 \n",
      "Chromosome: 15 - ref mismatches: 0 \n",
      "Chromosome: 16 - ref mismatches: 0 \n",
      "Chromosome: 17 - ref mismatches: 0 \n",
      "Chromosome: 18 - ref mismatches: 0 \n",
      "Chromosome: 19 - ref mismatches: 0 \n",
      "Chromosome: 20 - ref mismatches: 0 \n",
      "Chromosome: 21 - ref mismatches: 0 \n",
      "Chromosome: 22 - ref mismatches: 0 \n",
      "\n",
      "Chromosome: 1 - libd mismatches: 0 \n",
      "Chromosome: 2 - libd mismatches: 0 \n",
      "Chromosome: 3 - libd mismatches: 0 \n",
      "Chromosome: 4 - libd mismatches: 0 \n",
      "Chromosome: 5 - libd mismatches: 0 \n",
      "Chromosome: 6 - libd mismatches: 0 \n",
      "Chromosome: 7 - libd mismatches: 0 \n",
      "Chromosome: 8 - libd mismatches: 0 \n",
      "Chromosome: 9 - libd mismatches: 0 \n",
      "Chromosome: 10 - libd mismatches: 0 \n",
      "Chromosome: 11 - libd mismatches: 0 \n",
      "Chromosome: 12 - libd mismatches: 0 \n",
      "Chromosome: 13 - libd mismatches: 0 \n",
      "Chromosome: 14 - libd mismatches: 0 \n",
      "Chromosome: 15 - libd mismatches: 0 \n",
      "Chromosome: 16 - libd mismatches: 0 \n",
      "Chromosome: 17 - libd mismatches: 0 \n",
      "Chromosome: 18 - libd mismatches: 0 \n",
      "Chromosome: 19 - libd mismatches: 0 \n",
      "Chromosome: 20 - libd mismatches: 0 \n",
      "Chromosome: 21 - libd mismatches: 0 \n",
      "Chromosome: 22 - libd mismatches: 0 \n",
      "\n",
      "File: /expanse/lustre/projects/jhu152/naglemi/mwas/gwas//gwas_stat_bp_alleleprocessed.txt - Total ref mismatches: 0 \n",
      "File: /expanse/lustre/projects/jhu152/naglemi/mwas/gwas//gwas_stat_bp_alleleprocessed.txt - Total libd mismatches: 0 \n",
      "\n",
      "Processing file: /expanse/lustre/projects/jhu152/naglemi/mwas/gwas//gwas_stat_mdd \n",
      "\n",
      "Chromosome: 1 - ref mismatches: 3 \n",
      "Chromosome: 2 - ref mismatches: 0 \n",
      "Chromosome: 3 - ref mismatches: 0 \n",
      "Chromosome: 4 - ref mismatches: 0 \n",
      "Chromosome: 5 - ref mismatches: 2 \n",
      "Chromosome: 6 - ref mismatches: 0 \n",
      "Chromosome: 7 - ref mismatches: 1 \n",
      "Chromosome: 8 - ref mismatches: 1 \n",
      "Chromosome: 9 - ref mismatches: 2 \n",
      "Chromosome: 10 - ref mismatches: 1 \n",
      "Chromosome: 11 - ref mismatches: 0 \n",
      "Chromosome: 12 - ref mismatches: 1 \n",
      "Chromosome: 13 - ref mismatches: 2 \n",
      "Chromosome: 14 - ref mismatches: 1 \n",
      "Chromosome: 15 - ref mismatches: 0 \n",
      "Chromosome: 16 - ref mismatches: 0 \n",
      "Chromosome: 17 - ref mismatches: 0 \n",
      "Chromosome: 18 - ref mismatches: 1 \n",
      "Chromosome: 19 - ref mismatches: 0 \n",
      "Chromosome: 20 - ref mismatches: 1 \n",
      "Chromosome: 21 - ref mismatches: 0 \n",
      "Chromosome: 22 - ref mismatches: 0 \n",
      "\n",
      "Chromosome: 1 - libd mismatches: 3 \n",
      "Chromosome: 2 - libd mismatches: 1 \n",
      "Chromosome: 3 - libd mismatches: 0 \n",
      "Chromosome: 4 - libd mismatches: 0 \n",
      "Chromosome: 5 - libd mismatches: 1 \n",
      "Chromosome: 6 - libd mismatches: 10 \n",
      "Chromosome: 7 - libd mismatches: 1 \n",
      "Chromosome: 8 - libd mismatches: 1 \n",
      "Chromosome: 9 - libd mismatches: 2 \n",
      "Chromosome: 10 - libd mismatches: 0 \n",
      "Chromosome: 11 - libd mismatches: 0 \n",
      "Chromosome: 12 - libd mismatches: 0 \n",
      "Chromosome: 13 - libd mismatches: 0 \n",
      "Chromosome: 14 - libd mismatches: 1 \n",
      "Chromosome: 15 - libd mismatches: 1 \n",
      "Chromosome: 16 - libd mismatches: 0 \n",
      "Chromosome: 17 - libd mismatches: 0 \n",
      "Chromosome: 18 - libd mismatches: 0 \n",
      "Chromosome: 19 - libd mismatches: 0 \n",
      "Chromosome: 20 - libd mismatches: 1 \n",
      "Chromosome: 21 - libd mismatches: 0 \n",
      "Chromosome: 22 - libd mismatches: 1 \n",
      "\n",
      "File: /expanse/lustre/projects/jhu152/naglemi/mwas/gwas//gwas_stat_mdd - Total ref mismatches: 16 \n",
      "File: /expanse/lustre/projects/jhu152/naglemi/mwas/gwas//gwas_stat_mdd - Total libd mismatches: 23 \n",
      "\n",
      "Processing file: /expanse/lustre/projects/jhu152/naglemi/mwas/gwas//gwas_stat_mdd_alleleprocessed.txt \n",
      "\n",
      "Chromosome: 1 - ref mismatches: 0 \n",
      "Chromosome: 2 - ref mismatches: 0 \n",
      "Chromosome: 3 - ref mismatches: 0 \n",
      "Chromosome: 4 - ref mismatches: 0 \n",
      "Chromosome: 5 - ref mismatches: 0 \n",
      "Chromosome: 6 - ref mismatches: 0 \n",
      "Chromosome: 7 - ref mismatches: 0 \n",
      "Chromosome: 8 - ref mismatches: 0 \n",
      "Chromosome: 9 - ref mismatches: 0 \n",
      "Chromosome: 10 - ref mismatches: 0 \n",
      "Chromosome: 11 - ref mismatches: 0 \n",
      "Chromosome: 12 - ref mismatches: 0 \n",
      "Chromosome: 13 - ref mismatches: 0 \n",
      "Chromosome: 14 - ref mismatches: 0 \n",
      "Chromosome: 15 - ref mismatches: 0 \n",
      "Chromosome: 16 - ref mismatches: 0 \n",
      "Chromosome: 17 - ref mismatches: 0 \n",
      "Chromosome: 18 - ref mismatches: 0 \n",
      "Chromosome: 19 - ref mismatches: 0 \n",
      "Chromosome: 20 - ref mismatches: 0 \n",
      "Chromosome: 21 - ref mismatches: 0 \n",
      "Chromosome: 22 - ref mismatches: 0 \n",
      "\n",
      "Chromosome: 1 - libd mismatches: 0 \n",
      "Chromosome: 2 - libd mismatches: 0 \n",
      "Chromosome: 3 - libd mismatches: 0 \n",
      "Chromosome: 4 - libd mismatches: 0 \n",
      "Chromosome: 5 - libd mismatches: 0 \n",
      "Chromosome: 6 - libd mismatches: 0 \n",
      "Chromosome: 7 - libd mismatches: 0 \n",
      "Chromosome: 8 - libd mismatches: 0 \n",
      "Chromosome: 9 - libd mismatches: 0 \n",
      "Chromosome: 10 - libd mismatches: 0 \n",
      "Chromosome: 11 - libd mismatches: 0 \n",
      "Chromosome: 12 - libd mismatches: 0 \n",
      "Chromosome: 13 - libd mismatches: 0 \n",
      "Chromosome: 14 - libd mismatches: 0 \n",
      "Chromosome: 15 - libd mismatches: 0 \n",
      "Chromosome: 16 - libd mismatches: 0 \n",
      "Chromosome: 17 - libd mismatches: 0 \n",
      "Chromosome: 18 - libd mismatches: 0 \n",
      "Chromosome: 19 - libd mismatches: 0 \n",
      "Chromosome: 20 - libd mismatches: 0 \n",
      "Chromosome: 21 - libd mismatches: 0 \n",
      "Chromosome: 22 - libd mismatches: 0 \n",
      "\n",
      "File: /expanse/lustre/projects/jhu152/naglemi/mwas/gwas//gwas_stat_mdd_alleleprocessed.txt - Total ref mismatches: 0 \n",
      "File: /expanse/lustre/projects/jhu152/naglemi/mwas/gwas//gwas_stat_mdd_alleleprocessed.txt - Total libd mismatches: 0 \n",
      "\n"
     ]
    },
    {
     "name": "stderr",
     "output_type": "stream",
     "text": [
      "Warning message in fread(summary_stats_path):\n",
      "“Detected 1 column names but the data has 19 columns (i.e. invalid file). Added 18 extra default column names at the end.”\n"
     ]
    },
    {
     "name": "stdout",
     "output_type": "stream",
     "text": [
      "Processing file: /expanse/lustre/projects/jhu152/naglemi/mwas/gwas//gwas_stat_scz \n",
      "\n",
      "Chromosome: 1 - ref mismatches: 1 \n",
      "Chromosome: 2 - ref mismatches: 0 \n",
      "Chromosome: 3 - ref mismatches: 0 \n",
      "Chromosome: 4 - ref mismatches: 0 \n",
      "Chromosome: 5 - ref mismatches: 1 \n",
      "Chromosome: 6 - ref mismatches: 0 \n",
      "Chromosome: 7 - ref mismatches: 0 \n",
      "Chromosome: 8 - ref mismatches: 0 \n",
      "Chromosome: 9 - ref mismatches: 0 \n",
      "Chromosome: 10 - ref mismatches: 1 \n",
      "Chromosome: 11 - ref mismatches: 0 \n",
      "Chromosome: 12 - ref mismatches: 1 \n",
      "Chromosome: 13 - ref mismatches: 2 \n",
      "Chromosome: 14 - ref mismatches: 0 \n",
      "Chromosome: 15 - ref mismatches: 0 \n",
      "Chromosome: 16 - ref mismatches: 0 \n",
      "Chromosome: 17 - ref mismatches: 0 \n",
      "Chromosome: 18 - ref mismatches: 1 \n",
      "Chromosome: 19 - ref mismatches: 0 \n",
      "Chromosome: 20 - ref mismatches: 0 \n",
      "Chromosome: 21 - ref mismatches: 0 \n",
      "Chromosome: 22 - ref mismatches: 0 \n",
      "\n",
      "Chromosome: 1 - libd mismatches: 1 \n",
      "Chromosome: 2 - libd mismatches: 1 \n",
      "Chromosome: 3 - libd mismatches: 0 \n",
      "Chromosome: 4 - libd mismatches: 0 \n",
      "Chromosome: 5 - libd mismatches: 0 \n",
      "Chromosome: 6 - libd mismatches: 10 \n",
      "Chromosome: 7 - libd mismatches: 0 \n",
      "Chromosome: 8 - libd mismatches: 0 \n",
      "Chromosome: 9 - libd mismatches: 0 \n",
      "Chromosome: 10 - libd mismatches: 0 \n",
      "Chromosome: 11 - libd mismatches: 0 \n",
      "Chromosome: 12 - libd mismatches: 0 \n",
      "Chromosome: 13 - libd mismatches: 0 \n",
      "Chromosome: 14 - libd mismatches: 0 \n",
      "Chromosome: 15 - libd mismatches: 1 \n",
      "Chromosome: 16 - libd mismatches: 0 \n",
      "Chromosome: 17 - libd mismatches: 0 \n",
      "Chromosome: 18 - libd mismatches: 0 \n",
      "Chromosome: 19 - libd mismatches: 0 \n",
      "Chromosome: 20 - libd mismatches: 0 \n",
      "Chromosome: 21 - libd mismatches: 0 \n",
      "Chromosome: 22 - libd mismatches: 1 \n",
      "\n",
      "File: /expanse/lustre/projects/jhu152/naglemi/mwas/gwas//gwas_stat_scz - Total ref mismatches: 7 \n",
      "File: /expanse/lustre/projects/jhu152/naglemi/mwas/gwas//gwas_stat_scz - Total libd mismatches: 14 \n",
      "\n",
      "Processing file: /expanse/lustre/projects/jhu152/naglemi/mwas/gwas//gwas_stat_scz_alleleprocessed.txt \n",
      "\n",
      "Chromosome: 1 - ref mismatches: 0 \n",
      "Chromosome: 2 - ref mismatches: 0 \n",
      "Chromosome: 3 - ref mismatches: 0 \n",
      "Chromosome: 4 - ref mismatches: 0 \n",
      "Chromosome: 5 - ref mismatches: 0 \n",
      "Chromosome: 6 - ref mismatches: 0 \n",
      "Chromosome: 7 - ref mismatches: 0 \n",
      "Chromosome: 8 - ref mismatches: 0 \n",
      "Chromosome: 9 - ref mismatches: 0 \n",
      "Chromosome: 10 - ref mismatches: 0 \n",
      "Chromosome: 11 - ref mismatches: 0 \n",
      "Chromosome: 12 - ref mismatches: 0 \n",
      "Chromosome: 13 - ref mismatches: 0 \n",
      "Chromosome: 14 - ref mismatches: 0 \n",
      "Chromosome: 15 - ref mismatches: 0 \n",
      "Chromosome: 16 - ref mismatches: 0 \n",
      "Chromosome: 17 - ref mismatches: 0 \n",
      "Chromosome: 18 - ref mismatches: 0 \n",
      "Chromosome: 19 - ref mismatches: 0 \n",
      "Chromosome: 20 - ref mismatches: 0 \n",
      "Chromosome: 21 - ref mismatches: 0 \n",
      "Chromosome: 22 - ref mismatches: 0 \n",
      "\n",
      "Chromosome: 1 - libd mismatches: 0 \n",
      "Chromosome: 2 - libd mismatches: 0 \n",
      "Chromosome: 3 - libd mismatches: 0 \n",
      "Chromosome: 4 - libd mismatches: 0 \n",
      "Chromosome: 5 - libd mismatches: 0 \n",
      "Chromosome: 6 - libd mismatches: 0 \n",
      "Chromosome: 7 - libd mismatches: 0 \n",
      "Chromosome: 8 - libd mismatches: 0 \n",
      "Chromosome: 9 - libd mismatches: 0 \n",
      "Chromosome: 10 - libd mismatches: 0 \n",
      "Chromosome: 11 - libd mismatches: 0 \n",
      "Chromosome: 12 - libd mismatches: 0 \n",
      "Chromosome: 13 - libd mismatches: 0 \n",
      "Chromosome: 14 - libd mismatches: 0 \n",
      "Chromosome: 15 - libd mismatches: 0 \n",
      "Chromosome: 16 - libd mismatches: 0 \n",
      "Chromosome: 17 - libd mismatches: 0 \n",
      "Chromosome: 18 - libd mismatches: 0 \n",
      "Chromosome: 19 - libd mismatches: 0 \n",
      "Chromosome: 20 - libd mismatches: 0 \n",
      "Chromosome: 21 - libd mismatches: 0 \n",
      "Chromosome: 22 - libd mismatches: 0 \n",
      "\n",
      "File: /expanse/lustre/projects/jhu152/naglemi/mwas/gwas//gwas_stat_scz_alleleprocessed.txt - Total ref mismatches: 0 \n",
      "File: /expanse/lustre/projects/jhu152/naglemi/mwas/gwas//gwas_stat_scz_alleleprocessed.txt - Total libd mismatches: 0 \n",
      "\n"
     ]
    }
   ],
   "source": [
    "for (summary_stats_path in summary_stats_paths) {\n",
    "    \n",
    "    summary_stats <- fread(summary_stats_path)\n",
    "    summary_stats <- clean_and_standardize_colnames(summary_stats)\n",
    "\n",
    "    total_mismatches_ref <- 0  # Initialize counter for ref mismatches\n",
    "    total_mismatches_libd <- 0  # Initialize counter for libd mismatches\n",
    "\n",
    "    cat(\"Processing file:\", summary_stats_path, \"\\n\\n\")  # Print the file being processed\n",
    "\n",
    "    for (chr in 1:22) {\n",
    "        # Load reference data\n",
    "        ref <- fread(paste0(\"/expanse/lustre/projects/jhu152/naglemi/mwas/gwas/ref_EUR_chr\", chr, \".pvar\"),\n",
    "                     select = c(\"#CHROM\", \"POS\", \"REF\", \"ALT\"),\n",
    "                     col.names = c(\"CHR\", \"BP\", \"REF\", \"ALT\"))\n",
    "\n",
    "        # Merge with reference data by CHR and BP\n",
    "        merged_ref <- merge(summary_stats, ref, by = c(\"CHR\", \"BP\"), suffixes = c(\"\", \"_ref\"))\n",
    "\n",
    "        # Count mismatches in allele orders for ref\n",
    "        mismatch_count_ref <- merged_ref[\n",
    "            !((A1 == REF & A2 == ALT) | (A1 == ALT & A2 == REF)),\n",
    "            .N\n",
    "        ]\n",
    "\n",
    "        # Accumulate total ref mismatches\n",
    "        total_mismatches_ref <- total_mismatches_ref + mismatch_count_ref\n",
    "\n",
    "        # Print mismatches per chromosome for ref\n",
    "        cat(\"Chromosome:\", chr, \"- ref mismatches:\", mismatch_count_ref, \"\\n\")\n",
    "    }\n",
    "\n",
    "    cat(\"\\n\")  # Line break between ref and libd processing\n",
    "\n",
    "    for (chr in 1:22) {\n",
    "        # Load LIBD data\n",
    "        libd <- fread(paste0(\"/expanse/lustre/projects/jhu152/naglemi/mwas/gwas/libd_chr\", chr, \".pvar\"),\n",
    "                      select = c(\"#CHROM\", \"POS\", \"REF\", \"ALT\"),\n",
    "                      col.names = c(\"CHR\", \"BP\", \"REF_libd\", \"ALT_libd\"))\n",
    "\n",
    "        # Merge with LIBD data by CHR and BP\n",
    "        merged_libd <- merge(summary_stats, libd, by = c(\"CHR\", \"BP\"), suffixes = c(\"\", \"_libd\"))\n",
    "\n",
    "        # Count mismatches in allele orders for libd\n",
    "        mismatch_count_libd <- merged_libd[\n",
    "            !((A1 == REF_libd & A2 == ALT_libd) | (A1 == ALT_libd & A2 == REF_libd)),\n",
    "            .N\n",
    "        ]\n",
    "\n",
    "        # Accumulate total libd mismatches\n",
    "        total_mismatches_libd <- total_mismatches_libd + mismatch_count_libd\n",
    "\n",
    "        # Print mismatches per chromosome for libd\n",
    "        cat(\"Chromosome:\", chr, \"- libd mismatches:\", mismatch_count_libd, \"\\n\")\n",
    "    }\n",
    "\n",
    "    # Print summary of total mismatches for the file\n",
    "    cat(\"\\nFile:\", summary_stats_path, \"- Total ref mismatches:\", total_mismatches_ref, \"\\n\")\n",
    "    cat(\"File:\", summary_stats_path, \"- Total libd mismatches:\", total_mismatches_libd, \"\\n\\n\")\n",
    "}"
   ]
  },
  {
   "cell_type": "code",
   "execution_count": null,
   "id": "b6a226ed-3974-466e-ab12-11c11b866982",
   "metadata": {},
   "outputs": [],
   "source": []
  },
  {
   "cell_type": "code",
   "execution_count": 94,
   "id": "dfb3780a-ab52-425f-a545-3719e4cd4c7c",
   "metadata": {},
   "outputs": [
    {
     "name": "stderr",
     "output_type": "stream",
     "text": [
      "Warning message in file.remove(\"/expanse/lustre/projects/jhu152/naglemi/mwas/gwas//gwas_stat_bp_alleleprocessed_alleleprocessed.txt\"):\n",
      "“cannot remove file '/expanse/lustre/projects/jhu152/naglemi/mwas/gwas//gwas_stat_bp_alleleprocessed_alleleprocessed.txt', reason 'No such file or directory'”\n"
     ]
    },
    {
     "data": {
      "text/html": [
       "FALSE"
      ],
      "text/latex": [
       "FALSE"
      ],
      "text/markdown": [
       "FALSE"
      ],
      "text/plain": [
       "[1] FALSE"
      ]
     },
     "metadata": {},
     "output_type": "display_data"
    }
   ],
   "source": [
    "file.remove(\"/expanse/lustre/projects/jhu152/naglemi/mwas/gwas//gwas_stat_bp_alleleprocessed_alleleprocessed.txt\")"
   ]
  },
  {
   "cell_type": "code",
   "execution_count": 95,
   "id": "9538da8a-5f3c-4342-ba1d-2c71e454419d",
   "metadata": {},
   "outputs": [
    {
     "name": "stderr",
     "output_type": "stream",
     "text": [
      "Warning message in file.remove(\"/expanse/lustre/projects/jhu152/naglemi/mwas/gwas//gwas_stat_bp_alleleprocessed.txt\"):\n",
      "“cannot remove file '/expanse/lustre/projects/jhu152/naglemi/mwas/gwas//gwas_stat_bp_alleleprocessed.txt', reason 'No such file or directory'”\n"
     ]
    },
    {
     "data": {
      "text/html": [
       "FALSE"
      ],
      "text/latex": [
       "FALSE"
      ],
      "text/markdown": [
       "FALSE"
      ],
      "text/plain": [
       "[1] FALSE"
      ]
     },
     "metadata": {},
     "output_type": "display_data"
    }
   ],
   "source": [
    "file.remove(\"/expanse/lustre/projects/jhu152/naglemi/mwas/gwas//gwas_stat_bp_alleleprocessed.txt\")"
   ]
  },
  {
   "cell_type": "code",
   "execution_count": 87,
   "id": "25d69f4f-f4c9-4bf5-b295-9adb158509a1",
   "metadata": {},
   "outputs": [
    {
     "data": {
      "text/html": [
       "<table class=\"dataframe\">\n",
       "<caption>A data.table: 6 × 10</caption>\n",
       "<thead>\n",
       "\t<tr><th scope=col>SNP</th><th scope=col>CHR</th><th scope=col>BP</th><th scope=col>A1</th><th scope=col>A2</th><th scope=col>Freq</th><th scope=col>logOR</th><th scope=col>SE</th><th scope=col>P</th><th scope=col>BETA</th></tr>\n",
       "\t<tr><th scope=col>&lt;chr&gt;</th><th scope=col>&lt;int&gt;</th><th scope=col>&lt;int&gt;</th><th scope=col>&lt;chr&gt;</th><th scope=col>&lt;chr&gt;</th><th scope=col>&lt;dbl&gt;</th><th scope=col>&lt;dbl&gt;</th><th scope=col>&lt;dbl&gt;</th><th scope=col>&lt;dbl&gt;</th><th scope=col>&lt;dbl&gt;</th></tr>\n",
       "</thead>\n",
       "<tbody>\n",
       "\t<tr><td>rs1000000 </td><td>12</td><td>126406434</td><td>A</td><td>G</td><td>0.2242</td><td> 0.0016</td><td>0.0051</td><td>0.7600</td><td> 0.3137255</td></tr>\n",
       "\t<tr><td>rs10000003</td><td> 4</td><td> 56695481</td><td>A</td><td>G</td><td>0.2999</td><td>-0.0041</td><td>0.0047</td><td>0.3865</td><td>-0.8723404</td></tr>\n",
       "\t<tr><td>rs10000005</td><td> 4</td><td> 84240405</td><td>A</td><td>G</td><td>0.5348</td><td>-0.0023</td><td>0.0043</td><td>0.5864</td><td>-0.5348837</td></tr>\n",
       "\t<tr><td>rs10000006</td><td> 4</td><td>107905227</td><td>T</td><td>C</td><td>0.9605</td><td> 0.0060</td><td>0.0113</td><td>0.5931</td><td> 0.5309735</td></tr>\n",
       "\t<tr><td>rs10000008</td><td> 4</td><td>171855053</td><td>T</td><td>C</td><td>0.0138</td><td>-0.0185</td><td>0.0192</td><td>0.3353</td><td>-0.9635417</td></tr>\n",
       "\t<tr><td>rs10000010</td><td> 4</td><td> 21617051</td><td>T</td><td>C</td><td>0.5136</td><td>-0.0016</td><td>0.0043</td><td>0.7041</td><td>-0.3720930</td></tr>\n",
       "</tbody>\n",
       "</table>\n"
      ],
      "text/latex": [
       "A data.table: 6 × 10\n",
       "\\begin{tabular}{llllllllll}\n",
       " SNP & CHR & BP & A1 & A2 & Freq & logOR & SE & P & BETA\\\\\n",
       " <chr> & <int> & <int> & <chr> & <chr> & <dbl> & <dbl> & <dbl> & <dbl> & <dbl>\\\\\n",
       "\\hline\n",
       "\t rs1000000  & 12 & 126406434 & A & G & 0.2242 &  0.0016 & 0.0051 & 0.7600 &  0.3137255\\\\\n",
       "\t rs10000003 &  4 &  56695481 & A & G & 0.2999 & -0.0041 & 0.0047 & 0.3865 & -0.8723404\\\\\n",
       "\t rs10000005 &  4 &  84240405 & A & G & 0.5348 & -0.0023 & 0.0043 & 0.5864 & -0.5348837\\\\\n",
       "\t rs10000006 &  4 & 107905227 & T & C & 0.9605 &  0.0060 & 0.0113 & 0.5931 &  0.5309735\\\\\n",
       "\t rs10000008 &  4 & 171855053 & T & C & 0.0138 & -0.0185 & 0.0192 & 0.3353 & -0.9635417\\\\\n",
       "\t rs10000010 &  4 &  21617051 & T & C & 0.5136 & -0.0016 & 0.0043 & 0.7041 & -0.3720930\\\\\n",
       "\\end{tabular}\n"
      ],
      "text/markdown": [
       "\n",
       "A data.table: 6 × 10\n",
       "\n",
       "| SNP &lt;chr&gt; | CHR &lt;int&gt; | BP &lt;int&gt; | A1 &lt;chr&gt; | A2 &lt;chr&gt; | Freq &lt;dbl&gt; | logOR &lt;dbl&gt; | SE &lt;dbl&gt; | P &lt;dbl&gt; | BETA &lt;dbl&gt; |\n",
       "|---|---|---|---|---|---|---|---|---|---|\n",
       "| rs1000000  | 12 | 126406434 | A | G | 0.2242 |  0.0016 | 0.0051 | 0.7600 |  0.3137255 |\n",
       "| rs10000003 |  4 |  56695481 | A | G | 0.2999 | -0.0041 | 0.0047 | 0.3865 | -0.8723404 |\n",
       "| rs10000005 |  4 |  84240405 | A | G | 0.5348 | -0.0023 | 0.0043 | 0.5864 | -0.5348837 |\n",
       "| rs10000006 |  4 | 107905227 | T | C | 0.9605 |  0.0060 | 0.0113 | 0.5931 |  0.5309735 |\n",
       "| rs10000008 |  4 | 171855053 | T | C | 0.0138 | -0.0185 | 0.0192 | 0.3353 | -0.9635417 |\n",
       "| rs10000010 |  4 |  21617051 | T | C | 0.5136 | -0.0016 | 0.0043 | 0.7041 | -0.3720930 |\n",
       "\n"
      ],
      "text/plain": [
       "  SNP        CHR BP        A1 A2 Freq   logOR   SE     P      BETA      \n",
       "1 rs1000000  12  126406434 A  G  0.2242  0.0016 0.0051 0.7600  0.3137255\n",
       "2 rs10000003  4   56695481 A  G  0.2999 -0.0041 0.0047 0.3865 -0.8723404\n",
       "3 rs10000005  4   84240405 A  G  0.5348 -0.0023 0.0043 0.5864 -0.5348837\n",
       "4 rs10000006  4  107905227 T  C  0.9605  0.0060 0.0113 0.5931  0.5309735\n",
       "5 rs10000008  4  171855053 T  C  0.0138 -0.0185 0.0192 0.3353 -0.9635417\n",
       "6 rs10000010  4   21617051 T  C  0.5136 -0.0016 0.0043 0.7041 -0.3720930"
      ]
     },
     "metadata": {},
     "output_type": "display_data"
    }
   ],
   "source": [
    "head(summary_stats)"
   ]
  },
  {
   "cell_type": "code",
   "execution_count": null,
   "id": "1dfc472f-041d-4b69-96bc-051d13a31db9",
   "metadata": {},
   "outputs": [],
   "source": []
  },
  {
   "cell_type": "code",
   "execution_count": null,
   "id": "d531d312-d889-4986-a14c-f252246626cd",
   "metadata": {},
   "outputs": [],
   "source": []
  }
 ],
 "metadata": {
  "kernelspec": {
   "display_name": "R",
   "language": "R",
   "name": "ir"
  },
  "language_info": {
   "codemirror_mode": "r",
   "file_extension": ".r",
   "mimetype": "text/x-r-source",
   "name": "R",
   "pygments_lexer": "r",
   "version": "4.3.1"
  }
 },
 "nbformat": 4,
 "nbformat_minor": 5
}
