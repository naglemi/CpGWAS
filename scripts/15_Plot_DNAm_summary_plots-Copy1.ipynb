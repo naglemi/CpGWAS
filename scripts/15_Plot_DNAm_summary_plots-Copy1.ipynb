{
 "cells": [
  {
   "cell_type": "markdown",
   "id": "a6876e66-ebbd-4128-b116-b6a63b387e85",
   "metadata": {},
   "source": [
    "# Make plots of DNAm vs prediction power"
   ]
  },
  {
   "cell_type": "code",
   "execution_count": null,
   "id": "84c3eeb9-5e45-4879-98f4-9e57f9ec886d",
   "metadata": {},
   "outputs": [],
   "source": [
    "getwd()\n",
    "\n",
    "setwd(\"../\")\n",
    "\n",
    "library(data.table)\n",
    "library(ggplot2)\n",
    "\n",
    "# Read all CSV files and rbind them together\n",
    "file_list <- list.files(pattern = \"*-DNAm_stats.csv\", recursive = TRUE, full.names = TRUE)\n",
    "\n",
    "print(length(file_list))\n",
    "\n",
    "combined_data <- data.table()\n",
    "\n",
    "for (i in 1:length(file_list)) {\n",
    "  print(i)\n",
    "  file <- file_list[i]\n",
    "  temp_data <- fread(file)\n",
    "  combined_data <- rbind(combined_data, temp_data, use.names = TRUE, fill = TRUE)\n",
    "}\n",
    "\n",
    "fwrite(combined_data, \"15a2-OUT_DNAm_vs_cor_intermediate.csv\")"
   ]
  },
  {
   "cell_type": "code",
   "execution_count": null,
   "id": "011a2dbf-3441-4366-bb1e-43963a9cd89a",
   "metadata": {},
   "outputs": [],
   "source": [
    "# Plot mean_DNAm and var_DNAm vs. cor\n",
    "ggplot(combined_data, aes(x = cor)) +\n",
    "  geom_point(aes(y = mean_DNAm), color = \"blue\", alpha = 0.5) +\n",
    "  geom_point(aes(y = var_DNAm), color = \"red\", alpha = 0.5) +\n",
    "  labs(title = \"Mean and Variance of DNAm vs. Correlation\",\n",
    "       x = \"Correlation\",\n",
    "       y = \"Value\") +\n",
    "  scale_y_continuous(sec.axis = sec_axis(~ ., name = \"Variance DNAm\")) +\n",
    "  theme_minimal()"
   ]
  },
  {
   "cell_type": "code",
   "execution_count": null,
   "id": "7e9be962-888f-4f6e-ac90-2b611451d10c",
   "metadata": {},
   "outputs": [],
   "source": []
  }
 ],
 "metadata": {
  "kernelspec": {
   "display_name": "R",
   "language": "R",
   "name": "ir"
  },
  "language_info": {
   "codemirror_mode": "r",
   "file_extension": ".r",
   "mimetype": "text/x-r-source",
   "name": "R",
   "pygments_lexer": "r",
   "version": "4.3.1"
  }
 },
 "nbformat": 4,
 "nbformat_minor": 5
}
