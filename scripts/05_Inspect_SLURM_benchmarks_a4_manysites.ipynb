{
 "cells": [
  {
   "cell_type": "markdown",
   "id": "ec803619-7ddc-467d-85f8-f4a936ed29a5",
   "metadata": {},
   "source": [
    "# Inspect and summarize SLURM benchmarks"
   ]
  },
  {
   "cell_type": "markdown",
   "id": "8a74823d-20cd-4f39-8af6-5f7a71512907",
   "metadata": {},
   "source": [
    "## Overview"
   ]
  },
  {
   "cell_type": "markdown",
   "id": "b83b4000-f5a3-4aa3-b4cd-d425040bf72b",
   "metadata": {},
   "source": [
    "## Load, merge and compare benchmark summary `csv`s"
   ]
  },
  {
   "cell_type": "markdown",
   "id": "822fa4a3-4549-4b81-86c5-32deb17b9f68",
   "metadata": {},
   "source": [
    "We need a function to compare our SLURM summary output files and highlight differences in a table."
   ]
  },
  {
   "cell_type": "code",
   "execution_count": 1,
   "id": "6a868b78-f112-4f01-a0e0-e27892e35fdb",
   "metadata": {},
   "outputs": [
    {
     "name": "stderr",
     "output_type": "stream",
     "text": [
      "\n",
      "Attaching package: ‘dplyr’\n",
      "\n",
      "\n",
      "The following objects are masked from ‘package:stats’:\n",
      "\n",
      "    filter, lag\n",
      "\n",
      "\n",
      "The following objects are masked from ‘package:base’:\n",
      "\n",
      "    intersect, setdiff, setequal, union\n",
      "\n",
      "\n"
     ]
    }
   ],
   "source": [
    "library(dplyr)\n",
    "library(tidyr)\n",
    "\n",
    "read_and_summarize_differences <- function(directory) {\n",
    "  # List all CSV files in the directory\n",
    "  files <- list.files(directory, pattern = \"\\\\.csv$\", full.names = TRUE)\n",
    "  files <- files[!grepl(\"1000000\", files)]\n",
    "  \n",
    "  # Read each file and store in a list\n",
    "  data_list <- lapply(files, function(file) {\n",
    "    data <- read.csv(file)\n",
    "    # Add a column to identify the source file\n",
    "    data$Source <- basename(file)\n",
    "    return(data)\n",
    "  })\n",
    "  \n",
    "  # Combine all data frames into one\n",
    "  combined_data <- bind_rows(data_list)\n",
    "  \n",
    "  # Spread the data to wide format for comparison\n",
    "  wide_data <- spread(combined_data, key = Parameter, value = Value)\n",
    "  \n",
    "  # Identify rows with at least one difference in values\n",
    "  differing_rows <- wide_data %>%\n",
    "    summarise(across(-Source, ~n_distinct(.) > 1)) %>%\n",
    "    select(which(colSums(.) > 0)) %>%\n",
    "    names()\n",
    "  \n",
    "  # Filter the combined data to include only differing parameters\n",
    "  summary_data <- combined_data %>%\n",
    "    filter(Parameter %in% differing_rows) %>%\n",
    "    select(Parameter, Source, Value)\n",
    "  \n",
    "  # Pivot wider for a clearer summary table, if necessary\n",
    "  summary_table <- summary_data %>%\n",
    "    pivot_wider(names_from = Source, values_from = Value)\n",
    "  \n",
    "  return(summary_table)\n",
    "}"
   ]
  },
  {
   "cell_type": "code",
   "execution_count": 2,
   "id": "691fc1f5-c533-4895-a92e-c059d1709534",
   "metadata": {},
   "outputs": [
    {
     "data": {
      "text/html": [
       "<table class=\"dataframe\">\n",
       "<caption>A tibble: 8 × 8</caption>\n",
       "<thead>\n",
       "\t<tr><th scope=col>Parameter</th><th scope=col>libd_chr1-chr1_AA-libd_chr1-chr1_AA-108982-128981-dynamic-1corestotal-allcorepera-20240409-110212-summary.csv</th><th scope=col>libd_chr1-chr1_AA-libd_chr1-chr1_AA-128982-148981-dynamic-1corestotal-allcorepera-20240409-110348-summary.csv</th><th scope=col>libd_chr1-chr1_AA-libd_chr1-chr1_AA-28982-48981-dynamic-1corestotal-allcorepera-20240409-110818-summary.csv</th><th scope=col>libd_chr1-chr1_AA-libd_chr1-chr1_AA-48982-68981-dynamic-1corestotal-allcorepera-20240409-105727-summary.csv</th><th scope=col>libd_chr1-chr1_AA-libd_chr1-chr1_AA-68982-88981-dynamic-1corestotal-allcorepera-20240409-105902-summary.csv</th><th scope=col>libd_chr1-chr1_AA-libd_chr1-chr1_AA-88982-108981-dynamic-1corestotal-allcorepera-20240409-110037-summary.csv</th><th scope=col>libd_chr1-chr1_AA-libd_chr1-chr1_AA-8982-28981-dynamic-1corestotal-allcorepera-20240409-105417-summary.csv</th></tr>\n",
       "\t<tr><th scope=col>&lt;chr&gt;</th><th scope=col>&lt;chr&gt;</th><th scope=col>&lt;chr&gt;</th><th scope=col>&lt;chr&gt;</th><th scope=col>&lt;chr&gt;</th><th scope=col>&lt;chr&gt;</th><th scope=col>&lt;chr&gt;</th><th scope=col>&lt;chr&gt;</th></tr>\n",
       "</thead>\n",
       "<tbody>\n",
       "\t<tr><td>chunk1       </td><td>108982                                                                                           </td><td>128982                                                                                           </td><td>28982                                                                                          </td><td>48982                                                                                          </td><td>68982                                                                                          </td><td>88982                                                                                           </td><td>8982                                                                                          </td></tr>\n",
       "\t<tr><td>chunk2       </td><td>128981                                                                                           </td><td>148981                                                                                           </td><td>48981                                                                                          </td><td>68981                                                                                          </td><td>88981                                                                                          </td><td>108981                                                                                          </td><td>28981                                                                                         </td></tr>\n",
       "\t<tr><td>tag          </td><td>libd_chr1-chr1_AA-108982-128981-dynamic-1corestotal-allcorepera-20240409-110212                  </td><td>libd_chr1-chr1_AA-128982-148981-dynamic-1corestotal-allcorepera-20240409-110348                  </td><td>libd_chr1-chr1_AA-28982-48981-dynamic-1corestotal-allcorepera-20240409-110818                  </td><td>libd_chr1-chr1_AA-48982-68981-dynamic-1corestotal-allcorepera-20240409-105727                  </td><td>libd_chr1-chr1_AA-68982-88981-dynamic-1corestotal-allcorepera-20240409-105902                  </td><td>libd_chr1-chr1_AA-88982-108981-dynamic-1corestotal-allcorepera-20240409-110037                  </td><td>libd_chr1-chr1_AA-8982-28981-dynamic-1corestotal-allcorepera-20240409-105417                  </td></tr>\n",
       "\t<tr><td>time_started </td><td>2024-04-09 11:02:55                                                                              </td><td>2024-04-09 11:03:57                                                                              </td><td>2024-04-09 11:09:09                                                                            </td><td>2024-04-09 10:57:48                                                                            </td><td>2024-04-09 10:59:50                                                                            </td><td>2024-04-09 11:00:52                                                                             </td><td>2024-04-09 10:54:44                                                                           </td></tr>\n",
       "\t<tr><td>time_finished</td><td>2024-04-09 21:33:59                                                                              </td><td>2024-04-09 19:53:19                                                                              </td><td>2024-04-09 14:00:31                                                                            </td><td>2024-04-09 16:32:57                                                                            </td><td>2024-04-09 18:40:47                                                                            </td><td>2024-04-10 03:48:06                                                                             </td><td>2024-04-09 13:58:46                                                                           </td></tr>\n",
       "\t<tr><td>runtime      </td><td>10:31:04                                                                                         </td><td>08:49:22                                                                                         </td><td>02:51:22                                                                                       </td><td>05:35:08                                                                                       </td><td>07:40:56                                                                                       </td><td>16:47:14                                                                                        </td><td>03:04:02                                                                                      </td></tr>\n",
       "\t<tr><td>amount_RAM   </td><td>0.245569720864296                                                                                </td><td>0.245569724589586                                                                                </td><td>0.245569720864296                                                                              </td><td>0.245569724589586                                                                              </td><td>0.245569720864296                                                                              </td><td>0.245569720864296                                                                               </td><td>0.245569720864296                                                                             </td></tr>\n",
       "\t<tr><td>scaffold_ID  </td><td>libd_chr1-chr1_AA-libd_chr1-chr1_AA-108982-128981-dynamic-1corestotal-allcorepera-20240409-110212</td><td>libd_chr1-chr1_AA-libd_chr1-chr1_AA-128982-148981-dynamic-1corestotal-allcorepera-20240409-110348</td><td>libd_chr1-chr1_AA-libd_chr1-chr1_AA-28982-48981-dynamic-1corestotal-allcorepera-20240409-110818</td><td>libd_chr1-chr1_AA-libd_chr1-chr1_AA-48982-68981-dynamic-1corestotal-allcorepera-20240409-105727</td><td>libd_chr1-chr1_AA-libd_chr1-chr1_AA-68982-88981-dynamic-1corestotal-allcorepera-20240409-105902</td><td>libd_chr1-chr1_AA-libd_chr1-chr1_AA-88982-108981-dynamic-1corestotal-allcorepera-20240409-110037</td><td>libd_chr1-chr1_AA-libd_chr1-chr1_AA-8982-28981-dynamic-1corestotal-allcorepera-20240409-105417</td></tr>\n",
       "</tbody>\n",
       "</table>\n"
      ],
      "text/latex": [
       "A tibble: 8 × 8\n",
       "\\begin{tabular}{llllllll}\n",
       " Parameter & libd\\_chr1-chr1\\_AA-libd\\_chr1-chr1\\_AA-108982-128981-dynamic-1corestotal-allcorepera-20240409-110212-summary.csv & libd\\_chr1-chr1\\_AA-libd\\_chr1-chr1\\_AA-128982-148981-dynamic-1corestotal-allcorepera-20240409-110348-summary.csv & libd\\_chr1-chr1\\_AA-libd\\_chr1-chr1\\_AA-28982-48981-dynamic-1corestotal-allcorepera-20240409-110818-summary.csv & libd\\_chr1-chr1\\_AA-libd\\_chr1-chr1\\_AA-48982-68981-dynamic-1corestotal-allcorepera-20240409-105727-summary.csv & libd\\_chr1-chr1\\_AA-libd\\_chr1-chr1\\_AA-68982-88981-dynamic-1corestotal-allcorepera-20240409-105902-summary.csv & libd\\_chr1-chr1\\_AA-libd\\_chr1-chr1\\_AA-88982-108981-dynamic-1corestotal-allcorepera-20240409-110037-summary.csv & libd\\_chr1-chr1\\_AA-libd\\_chr1-chr1\\_AA-8982-28981-dynamic-1corestotal-allcorepera-20240409-105417-summary.csv\\\\\n",
       " <chr> & <chr> & <chr> & <chr> & <chr> & <chr> & <chr> & <chr>\\\\\n",
       "\\hline\n",
       "\t chunk1        & 108982                                                                                            & 128982                                                                                            & 28982                                                                                           & 48982                                                                                           & 68982                                                                                           & 88982                                                                                            & 8982                                                                                          \\\\\n",
       "\t chunk2        & 128981                                                                                            & 148981                                                                                            & 48981                                                                                           & 68981                                                                                           & 88981                                                                                           & 108981                                                                                           & 28981                                                                                         \\\\\n",
       "\t tag           & libd\\_chr1-chr1\\_AA-108982-128981-dynamic-1corestotal-allcorepera-20240409-110212                   & libd\\_chr1-chr1\\_AA-128982-148981-dynamic-1corestotal-allcorepera-20240409-110348                   & libd\\_chr1-chr1\\_AA-28982-48981-dynamic-1corestotal-allcorepera-20240409-110818                   & libd\\_chr1-chr1\\_AA-48982-68981-dynamic-1corestotal-allcorepera-20240409-105727                   & libd\\_chr1-chr1\\_AA-68982-88981-dynamic-1corestotal-allcorepera-20240409-105902                   & libd\\_chr1-chr1\\_AA-88982-108981-dynamic-1corestotal-allcorepera-20240409-110037                   & libd\\_chr1-chr1\\_AA-8982-28981-dynamic-1corestotal-allcorepera-20240409-105417                  \\\\\n",
       "\t time\\_started  & 2024-04-09 11:02:55                                                                               & 2024-04-09 11:03:57                                                                               & 2024-04-09 11:09:09                                                                             & 2024-04-09 10:57:48                                                                             & 2024-04-09 10:59:50                                                                             & 2024-04-09 11:00:52                                                                              & 2024-04-09 10:54:44                                                                           \\\\\n",
       "\t time\\_finished & 2024-04-09 21:33:59                                                                               & 2024-04-09 19:53:19                                                                               & 2024-04-09 14:00:31                                                                             & 2024-04-09 16:32:57                                                                             & 2024-04-09 18:40:47                                                                             & 2024-04-10 03:48:06                                                                              & 2024-04-09 13:58:46                                                                           \\\\\n",
       "\t runtime       & 10:31:04                                                                                          & 08:49:22                                                                                          & 02:51:22                                                                                        & 05:35:08                                                                                        & 07:40:56                                                                                        & 16:47:14                                                                                         & 03:04:02                                                                                      \\\\\n",
       "\t amount\\_RAM    & 0.245569720864296                                                                                 & 0.245569724589586                                                                                 & 0.245569720864296                                                                               & 0.245569724589586                                                                               & 0.245569720864296                                                                               & 0.245569720864296                                                                                & 0.245569720864296                                                                             \\\\\n",
       "\t scaffold\\_ID   & libd\\_chr1-chr1\\_AA-libd\\_chr1-chr1\\_AA-108982-128981-dynamic-1corestotal-allcorepera-20240409-110212 & libd\\_chr1-chr1\\_AA-libd\\_chr1-chr1\\_AA-128982-148981-dynamic-1corestotal-allcorepera-20240409-110348 & libd\\_chr1-chr1\\_AA-libd\\_chr1-chr1\\_AA-28982-48981-dynamic-1corestotal-allcorepera-20240409-110818 & libd\\_chr1-chr1\\_AA-libd\\_chr1-chr1\\_AA-48982-68981-dynamic-1corestotal-allcorepera-20240409-105727 & libd\\_chr1-chr1\\_AA-libd\\_chr1-chr1\\_AA-68982-88981-dynamic-1corestotal-allcorepera-20240409-105902 & libd\\_chr1-chr1\\_AA-libd\\_chr1-chr1\\_AA-88982-108981-dynamic-1corestotal-allcorepera-20240409-110037 & libd\\_chr1-chr1\\_AA-libd\\_chr1-chr1\\_AA-8982-28981-dynamic-1corestotal-allcorepera-20240409-105417\\\\\n",
       "\\end{tabular}\n"
      ],
      "text/markdown": [
       "\n",
       "A tibble: 8 × 8\n",
       "\n",
       "| Parameter &lt;chr&gt; | libd_chr1-chr1_AA-libd_chr1-chr1_AA-108982-128981-dynamic-1corestotal-allcorepera-20240409-110212-summary.csv &lt;chr&gt; | libd_chr1-chr1_AA-libd_chr1-chr1_AA-128982-148981-dynamic-1corestotal-allcorepera-20240409-110348-summary.csv &lt;chr&gt; | libd_chr1-chr1_AA-libd_chr1-chr1_AA-28982-48981-dynamic-1corestotal-allcorepera-20240409-110818-summary.csv &lt;chr&gt; | libd_chr1-chr1_AA-libd_chr1-chr1_AA-48982-68981-dynamic-1corestotal-allcorepera-20240409-105727-summary.csv &lt;chr&gt; | libd_chr1-chr1_AA-libd_chr1-chr1_AA-68982-88981-dynamic-1corestotal-allcorepera-20240409-105902-summary.csv &lt;chr&gt; | libd_chr1-chr1_AA-libd_chr1-chr1_AA-88982-108981-dynamic-1corestotal-allcorepera-20240409-110037-summary.csv &lt;chr&gt; | libd_chr1-chr1_AA-libd_chr1-chr1_AA-8982-28981-dynamic-1corestotal-allcorepera-20240409-105417-summary.csv &lt;chr&gt; |\n",
       "|---|---|---|---|---|---|---|---|\n",
       "| chunk1        | 108982                                                                                            | 128982                                                                                            | 28982                                                                                           | 48982                                                                                           | 68982                                                                                           | 88982                                                                                            | 8982                                                                                           |\n",
       "| chunk2        | 128981                                                                                            | 148981                                                                                            | 48981                                                                                           | 68981                                                                                           | 88981                                                                                           | 108981                                                                                           | 28981                                                                                          |\n",
       "| tag           | libd_chr1-chr1_AA-108982-128981-dynamic-1corestotal-allcorepera-20240409-110212                   | libd_chr1-chr1_AA-128982-148981-dynamic-1corestotal-allcorepera-20240409-110348                   | libd_chr1-chr1_AA-28982-48981-dynamic-1corestotal-allcorepera-20240409-110818                   | libd_chr1-chr1_AA-48982-68981-dynamic-1corestotal-allcorepera-20240409-105727                   | libd_chr1-chr1_AA-68982-88981-dynamic-1corestotal-allcorepera-20240409-105902                   | libd_chr1-chr1_AA-88982-108981-dynamic-1corestotal-allcorepera-20240409-110037                   | libd_chr1-chr1_AA-8982-28981-dynamic-1corestotal-allcorepera-20240409-105417                   |\n",
       "| time_started  | 2024-04-09 11:02:55                                                                               | 2024-04-09 11:03:57                                                                               | 2024-04-09 11:09:09                                                                             | 2024-04-09 10:57:48                                                                             | 2024-04-09 10:59:50                                                                             | 2024-04-09 11:00:52                                                                              | 2024-04-09 10:54:44                                                                            |\n",
       "| time_finished | 2024-04-09 21:33:59                                                                               | 2024-04-09 19:53:19                                                                               | 2024-04-09 14:00:31                                                                             | 2024-04-09 16:32:57                                                                             | 2024-04-09 18:40:47                                                                             | 2024-04-10 03:48:06                                                                              | 2024-04-09 13:58:46                                                                            |\n",
       "| runtime       | 10:31:04                                                                                          | 08:49:22                                                                                          | 02:51:22                                                                                        | 05:35:08                                                                                        | 07:40:56                                                                                        | 16:47:14                                                                                         | 03:04:02                                                                                       |\n",
       "| amount_RAM    | 0.245569720864296                                                                                 | 0.245569724589586                                                                                 | 0.245569720864296                                                                               | 0.245569724589586                                                                               | 0.245569720864296                                                                               | 0.245569720864296                                                                                | 0.245569720864296                                                                              |\n",
       "| scaffold_ID   | libd_chr1-chr1_AA-libd_chr1-chr1_AA-108982-128981-dynamic-1corestotal-allcorepera-20240409-110212 | libd_chr1-chr1_AA-libd_chr1-chr1_AA-128982-148981-dynamic-1corestotal-allcorepera-20240409-110348 | libd_chr1-chr1_AA-libd_chr1-chr1_AA-28982-48981-dynamic-1corestotal-allcorepera-20240409-110818 | libd_chr1-chr1_AA-libd_chr1-chr1_AA-48982-68981-dynamic-1corestotal-allcorepera-20240409-105727 | libd_chr1-chr1_AA-libd_chr1-chr1_AA-68982-88981-dynamic-1corestotal-allcorepera-20240409-105902 | libd_chr1-chr1_AA-libd_chr1-chr1_AA-88982-108981-dynamic-1corestotal-allcorepera-20240409-110037 | libd_chr1-chr1_AA-libd_chr1-chr1_AA-8982-28981-dynamic-1corestotal-allcorepera-20240409-105417 |\n",
       "\n"
      ],
      "text/plain": [
       "  Parameter    \n",
       "1 chunk1       \n",
       "2 chunk2       \n",
       "3 tag          \n",
       "4 time_started \n",
       "5 time_finished\n",
       "6 runtime      \n",
       "7 amount_RAM   \n",
       "8 scaffold_ID  \n",
       "  libd_chr1-chr1_AA-libd_chr1-chr1_AA-108982-128981-dynamic-1corestotal-allcorepera-20240409-110212-summary.csv\n",
       "1 108982                                                                                                       \n",
       "2 128981                                                                                                       \n",
       "3 libd_chr1-chr1_AA-108982-128981-dynamic-1corestotal-allcorepera-20240409-110212                              \n",
       "4 2024-04-09 11:02:55                                                                                          \n",
       "5 2024-04-09 21:33:59                                                                                          \n",
       "6 10:31:04                                                                                                     \n",
       "7 0.245569720864296                                                                                            \n",
       "8 libd_chr1-chr1_AA-libd_chr1-chr1_AA-108982-128981-dynamic-1corestotal-allcorepera-20240409-110212            \n",
       "  libd_chr1-chr1_AA-libd_chr1-chr1_AA-128982-148981-dynamic-1corestotal-allcorepera-20240409-110348-summary.csv\n",
       "1 128982                                                                                                       \n",
       "2 148981                                                                                                       \n",
       "3 libd_chr1-chr1_AA-128982-148981-dynamic-1corestotal-allcorepera-20240409-110348                              \n",
       "4 2024-04-09 11:03:57                                                                                          \n",
       "5 2024-04-09 19:53:19                                                                                          \n",
       "6 08:49:22                                                                                                     \n",
       "7 0.245569724589586                                                                                            \n",
       "8 libd_chr1-chr1_AA-libd_chr1-chr1_AA-128982-148981-dynamic-1corestotal-allcorepera-20240409-110348            \n",
       "  libd_chr1-chr1_AA-libd_chr1-chr1_AA-28982-48981-dynamic-1corestotal-allcorepera-20240409-110818-summary.csv\n",
       "1 28982                                                                                                      \n",
       "2 48981                                                                                                      \n",
       "3 libd_chr1-chr1_AA-28982-48981-dynamic-1corestotal-allcorepera-20240409-110818                              \n",
       "4 2024-04-09 11:09:09                                                                                        \n",
       "5 2024-04-09 14:00:31                                                                                        \n",
       "6 02:51:22                                                                                                   \n",
       "7 0.245569720864296                                                                                          \n",
       "8 libd_chr1-chr1_AA-libd_chr1-chr1_AA-28982-48981-dynamic-1corestotal-allcorepera-20240409-110818            \n",
       "  libd_chr1-chr1_AA-libd_chr1-chr1_AA-48982-68981-dynamic-1corestotal-allcorepera-20240409-105727-summary.csv\n",
       "1 48982                                                                                                      \n",
       "2 68981                                                                                                      \n",
       "3 libd_chr1-chr1_AA-48982-68981-dynamic-1corestotal-allcorepera-20240409-105727                              \n",
       "4 2024-04-09 10:57:48                                                                                        \n",
       "5 2024-04-09 16:32:57                                                                                        \n",
       "6 05:35:08                                                                                                   \n",
       "7 0.245569724589586                                                                                          \n",
       "8 libd_chr1-chr1_AA-libd_chr1-chr1_AA-48982-68981-dynamic-1corestotal-allcorepera-20240409-105727            \n",
       "  libd_chr1-chr1_AA-libd_chr1-chr1_AA-68982-88981-dynamic-1corestotal-allcorepera-20240409-105902-summary.csv\n",
       "1 68982                                                                                                      \n",
       "2 88981                                                                                                      \n",
       "3 libd_chr1-chr1_AA-68982-88981-dynamic-1corestotal-allcorepera-20240409-105902                              \n",
       "4 2024-04-09 10:59:50                                                                                        \n",
       "5 2024-04-09 18:40:47                                                                                        \n",
       "6 07:40:56                                                                                                   \n",
       "7 0.245569720864296                                                                                          \n",
       "8 libd_chr1-chr1_AA-libd_chr1-chr1_AA-68982-88981-dynamic-1corestotal-allcorepera-20240409-105902            \n",
       "  libd_chr1-chr1_AA-libd_chr1-chr1_AA-88982-108981-dynamic-1corestotal-allcorepera-20240409-110037-summary.csv\n",
       "1 88982                                                                                                       \n",
       "2 108981                                                                                                      \n",
       "3 libd_chr1-chr1_AA-88982-108981-dynamic-1corestotal-allcorepera-20240409-110037                              \n",
       "4 2024-04-09 11:00:52                                                                                         \n",
       "5 2024-04-10 03:48:06                                                                                         \n",
       "6 16:47:14                                                                                                    \n",
       "7 0.245569720864296                                                                                           \n",
       "8 libd_chr1-chr1_AA-libd_chr1-chr1_AA-88982-108981-dynamic-1corestotal-allcorepera-20240409-110037            \n",
       "  libd_chr1-chr1_AA-libd_chr1-chr1_AA-8982-28981-dynamic-1corestotal-allcorepera-20240409-105417-summary.csv\n",
       "1 8982                                                                                                      \n",
       "2 28981                                                                                                     \n",
       "3 libd_chr1-chr1_AA-8982-28981-dynamic-1corestotal-allcorepera-20240409-105417                              \n",
       "4 2024-04-09 10:54:44                                                                                       \n",
       "5 2024-04-09 13:58:46                                                                                       \n",
       "6 03:04:02                                                                                                  \n",
       "7 0.245569720864296                                                                                         \n",
       "8 libd_chr1-chr1_AA-libd_chr1-chr1_AA-8982-28981-dynamic-1corestotal-allcorepera-20240409-105417            "
      ]
     },
     "metadata": {},
     "output_type": "display_data"
    }
   ],
   "source": [
    "directory <- \"/expanse/lustre/projects/jhu152/naglemi/mwas/CpGWAS/output_chr1_a1/\"\n",
    "summary_table <- read_and_summarize_differences(directory)\n",
    "summary_table"
   ]
  },
  {
   "cell_type": "markdown",
   "id": "3d9b6d61-07ee-4325-aa0e-b908cf24449e",
   "metadata": {},
   "source": [
    "## Compute core-hours per test"
   ]
  },
  {
   "cell_type": "code",
   "execution_count": 3,
   "id": "a231ce51-2bbc-4893-bca6-ec8a521ca029",
   "metadata": {},
   "outputs": [],
   "source": [
    "windows <- c(10000)\n",
    "n_windows <- length(windows)\n",
    "alphas <- seq(0.5) # left out 0 on first run\n",
    "n_alphas <- length(alphas)\n",
    "#chunks <- 10000\n",
    "#n_tests <- n_windows * n_alphas * chunks\n",
    "#n_tests"
   ]
  },
  {
   "cell_type": "code",
   "execution_count": 4,
   "id": "72d144e0-9151-4871-9bf4-adb32a555e9b",
   "metadata": {},
   "outputs": [
    {
     "data": {
      "text/html": [
       "1"
      ],
      "text/latex": [
       "1"
      ],
      "text/markdown": [
       "1"
      ],
      "text/plain": [
       "[1] 1"
      ]
     },
     "metadata": {},
     "output_type": "display_data"
    }
   ],
   "source": [
    "alphas"
   ]
  },
  {
   "cell_type": "code",
   "execution_count": 5,
   "id": "fc628bd0-2b8a-4d25-b0df-6e3836e0fa11",
   "metadata": {},
   "outputs": [
    {
     "data": {
      "text/html": [
       "<style>\n",
       ".list-inline {list-style: none; margin:0; padding: 0}\n",
       ".list-inline>li {display: inline-block}\n",
       ".list-inline>li:not(:last-child)::after {content: \"\\00b7\"; padding: 0 .5ex}\n",
       "</style>\n",
       "<ol class=list-inline><li>'Parameter'</li><li>'libd_chr1-chr1_AA-libd_chr1-chr1_AA-108982-128981-dynamic-1corestotal-allcorepera-20240409-110212-summary.csv'</li><li>'libd_chr1-chr1_AA-libd_chr1-chr1_AA-128982-148981-dynamic-1corestotal-allcorepera-20240409-110348-summary.csv'</li><li>'libd_chr1-chr1_AA-libd_chr1-chr1_AA-28982-48981-dynamic-1corestotal-allcorepera-20240409-110818-summary.csv'</li><li>'libd_chr1-chr1_AA-libd_chr1-chr1_AA-48982-68981-dynamic-1corestotal-allcorepera-20240409-105727-summary.csv'</li><li>'libd_chr1-chr1_AA-libd_chr1-chr1_AA-68982-88981-dynamic-1corestotal-allcorepera-20240409-105902-summary.csv'</li><li>'libd_chr1-chr1_AA-libd_chr1-chr1_AA-88982-108981-dynamic-1corestotal-allcorepera-20240409-110037-summary.csv'</li><li>'libd_chr1-chr1_AA-libd_chr1-chr1_AA-8982-28981-dynamic-1corestotal-allcorepera-20240409-105417-summary.csv'</li></ol>\n"
      ],
      "text/latex": [
       "\\begin{enumerate*}\n",
       "\\item 'Parameter'\n",
       "\\item 'libd\\_chr1-chr1\\_AA-libd\\_chr1-chr1\\_AA-108982-128981-dynamic-1corestotal-allcorepera-20240409-110212-summary.csv'\n",
       "\\item 'libd\\_chr1-chr1\\_AA-libd\\_chr1-chr1\\_AA-128982-148981-dynamic-1corestotal-allcorepera-20240409-110348-summary.csv'\n",
       "\\item 'libd\\_chr1-chr1\\_AA-libd\\_chr1-chr1\\_AA-28982-48981-dynamic-1corestotal-allcorepera-20240409-110818-summary.csv'\n",
       "\\item 'libd\\_chr1-chr1\\_AA-libd\\_chr1-chr1\\_AA-48982-68981-dynamic-1corestotal-allcorepera-20240409-105727-summary.csv'\n",
       "\\item 'libd\\_chr1-chr1\\_AA-libd\\_chr1-chr1\\_AA-68982-88981-dynamic-1corestotal-allcorepera-20240409-105902-summary.csv'\n",
       "\\item 'libd\\_chr1-chr1\\_AA-libd\\_chr1-chr1\\_AA-88982-108981-dynamic-1corestotal-allcorepera-20240409-110037-summary.csv'\n",
       "\\item 'libd\\_chr1-chr1\\_AA-libd\\_chr1-chr1\\_AA-8982-28981-dynamic-1corestotal-allcorepera-20240409-105417-summary.csv'\n",
       "\\end{enumerate*}\n"
      ],
      "text/markdown": [
       "1. 'Parameter'\n",
       "2. 'libd_chr1-chr1_AA-libd_chr1-chr1_AA-108982-128981-dynamic-1corestotal-allcorepera-20240409-110212-summary.csv'\n",
       "3. 'libd_chr1-chr1_AA-libd_chr1-chr1_AA-128982-148981-dynamic-1corestotal-allcorepera-20240409-110348-summary.csv'\n",
       "4. 'libd_chr1-chr1_AA-libd_chr1-chr1_AA-28982-48981-dynamic-1corestotal-allcorepera-20240409-110818-summary.csv'\n",
       "5. 'libd_chr1-chr1_AA-libd_chr1-chr1_AA-48982-68981-dynamic-1corestotal-allcorepera-20240409-105727-summary.csv'\n",
       "6. 'libd_chr1-chr1_AA-libd_chr1-chr1_AA-68982-88981-dynamic-1corestotal-allcorepera-20240409-105902-summary.csv'\n",
       "7. 'libd_chr1-chr1_AA-libd_chr1-chr1_AA-88982-108981-dynamic-1corestotal-allcorepera-20240409-110037-summary.csv'\n",
       "8. 'libd_chr1-chr1_AA-libd_chr1-chr1_AA-8982-28981-dynamic-1corestotal-allcorepera-20240409-105417-summary.csv'\n",
       "\n",
       "\n"
      ],
      "text/plain": [
       "[1] \"Parameter\"                                                                                                    \n",
       "[2] \"libd_chr1-chr1_AA-libd_chr1-chr1_AA-108982-128981-dynamic-1corestotal-allcorepera-20240409-110212-summary.csv\"\n",
       "[3] \"libd_chr1-chr1_AA-libd_chr1-chr1_AA-128982-148981-dynamic-1corestotal-allcorepera-20240409-110348-summary.csv\"\n",
       "[4] \"libd_chr1-chr1_AA-libd_chr1-chr1_AA-28982-48981-dynamic-1corestotal-allcorepera-20240409-110818-summary.csv\"  \n",
       "[5] \"libd_chr1-chr1_AA-libd_chr1-chr1_AA-48982-68981-dynamic-1corestotal-allcorepera-20240409-105727-summary.csv\"  \n",
       "[6] \"libd_chr1-chr1_AA-libd_chr1-chr1_AA-68982-88981-dynamic-1corestotal-allcorepera-20240409-105902-summary.csv\"  \n",
       "[7] \"libd_chr1-chr1_AA-libd_chr1-chr1_AA-88982-108981-dynamic-1corestotal-allcorepera-20240409-110037-summary.csv\" \n",
       "[8] \"libd_chr1-chr1_AA-libd_chr1-chr1_AA-8982-28981-dynamic-1corestotal-allcorepera-20240409-105417-summary.csv\"   "
      ]
     },
     "metadata": {},
     "output_type": "display_data"
    }
   ],
   "source": [
    "colnames(summary_table)"
   ]
  },
  {
   "cell_type": "code",
   "execution_count": 6,
   "id": "dc35e0ef-9890-488d-aacb-b76370b8069e",
   "metadata": {},
   "outputs": [
    {
     "data": {
      "text/html": [
       "<table class=\"dataframe\">\n",
       "<caption>A tibble: 8 × 8</caption>\n",
       "<thead>\n",
       "\t<tr><th scope=col>Parameter</th><th scope=col>libd_chr1-chr1_AA-libd_chr1-chr1_AA-108982-128981-dynamic-1corestotal-allcorepera-20240409-110212-summary.csv</th><th scope=col>libd_chr1-chr1_AA-libd_chr1-chr1_AA-128982-148981-dynamic-1corestotal-allcorepera-20240409-110348-summary.csv</th><th scope=col>libd_chr1-chr1_AA-libd_chr1-chr1_AA-28982-48981-dynamic-1corestotal-allcorepera-20240409-110818-summary.csv</th><th scope=col>libd_chr1-chr1_AA-libd_chr1-chr1_AA-48982-68981-dynamic-1corestotal-allcorepera-20240409-105727-summary.csv</th><th scope=col>libd_chr1-chr1_AA-libd_chr1-chr1_AA-68982-88981-dynamic-1corestotal-allcorepera-20240409-105902-summary.csv</th><th scope=col>libd_chr1-chr1_AA-libd_chr1-chr1_AA-88982-108981-dynamic-1corestotal-allcorepera-20240409-110037-summary.csv</th><th scope=col>libd_chr1-chr1_AA-libd_chr1-chr1_AA-8982-28981-dynamic-1corestotal-allcorepera-20240409-105417-summary.csv</th></tr>\n",
       "\t<tr><th scope=col>&lt;chr&gt;</th><th scope=col>&lt;chr&gt;</th><th scope=col>&lt;chr&gt;</th><th scope=col>&lt;chr&gt;</th><th scope=col>&lt;chr&gt;</th><th scope=col>&lt;chr&gt;</th><th scope=col>&lt;chr&gt;</th><th scope=col>&lt;chr&gt;</th></tr>\n",
       "</thead>\n",
       "<tbody>\n",
       "\t<tr><td>chunk1       </td><td>108982                                                                                           </td><td>128982                                                                                           </td><td>28982                                                                                          </td><td>48982                                                                                          </td><td>68982                                                                                          </td><td>88982                                                                                           </td><td>8982                                                                                          </td></tr>\n",
       "\t<tr><td>chunk2       </td><td>128981                                                                                           </td><td>148981                                                                                           </td><td>48981                                                                                          </td><td>68981                                                                                          </td><td>88981                                                                                          </td><td>108981                                                                                          </td><td>28981                                                                                         </td></tr>\n",
       "\t<tr><td>tag          </td><td>libd_chr1-chr1_AA-108982-128981-dynamic-1corestotal-allcorepera-20240409-110212                  </td><td>libd_chr1-chr1_AA-128982-148981-dynamic-1corestotal-allcorepera-20240409-110348                  </td><td>libd_chr1-chr1_AA-28982-48981-dynamic-1corestotal-allcorepera-20240409-110818                  </td><td>libd_chr1-chr1_AA-48982-68981-dynamic-1corestotal-allcorepera-20240409-105727                  </td><td>libd_chr1-chr1_AA-68982-88981-dynamic-1corestotal-allcorepera-20240409-105902                  </td><td>libd_chr1-chr1_AA-88982-108981-dynamic-1corestotal-allcorepera-20240409-110037                  </td><td>libd_chr1-chr1_AA-8982-28981-dynamic-1corestotal-allcorepera-20240409-105417                  </td></tr>\n",
       "\t<tr><td>time_started </td><td>2024-04-09 11:02:55                                                                              </td><td>2024-04-09 11:03:57                                                                              </td><td>2024-04-09 11:09:09                                                                            </td><td>2024-04-09 10:57:48                                                                            </td><td>2024-04-09 10:59:50                                                                            </td><td>2024-04-09 11:00:52                                                                             </td><td>2024-04-09 10:54:44                                                                           </td></tr>\n",
       "\t<tr><td>time_finished</td><td>2024-04-09 21:33:59                                                                              </td><td>2024-04-09 19:53:19                                                                              </td><td>2024-04-09 14:00:31                                                                            </td><td>2024-04-09 16:32:57                                                                            </td><td>2024-04-09 18:40:47                                                                            </td><td>2024-04-10 03:48:06                                                                             </td><td>2024-04-09 13:58:46                                                                           </td></tr>\n",
       "\t<tr><td>runtime      </td><td>10:31:04                                                                                         </td><td>08:49:22                                                                                         </td><td>02:51:22                                                                                       </td><td>05:35:08                                                                                       </td><td>07:40:56                                                                                       </td><td>16:47:14                                                                                        </td><td>03:04:02                                                                                      </td></tr>\n",
       "\t<tr><td>amount_RAM   </td><td>0.245569720864296                                                                                </td><td>0.245569724589586                                                                                </td><td>0.245569720864296                                                                              </td><td>0.245569724589586                                                                              </td><td>0.245569720864296                                                                              </td><td>0.245569720864296                                                                               </td><td>0.245569720864296                                                                             </td></tr>\n",
       "\t<tr><td>scaffold_ID  </td><td>libd_chr1-chr1_AA-libd_chr1-chr1_AA-108982-128981-dynamic-1corestotal-allcorepera-20240409-110212</td><td>libd_chr1-chr1_AA-libd_chr1-chr1_AA-128982-148981-dynamic-1corestotal-allcorepera-20240409-110348</td><td>libd_chr1-chr1_AA-libd_chr1-chr1_AA-28982-48981-dynamic-1corestotal-allcorepera-20240409-110818</td><td>libd_chr1-chr1_AA-libd_chr1-chr1_AA-48982-68981-dynamic-1corestotal-allcorepera-20240409-105727</td><td>libd_chr1-chr1_AA-libd_chr1-chr1_AA-68982-88981-dynamic-1corestotal-allcorepera-20240409-105902</td><td>libd_chr1-chr1_AA-libd_chr1-chr1_AA-88982-108981-dynamic-1corestotal-allcorepera-20240409-110037</td><td>libd_chr1-chr1_AA-libd_chr1-chr1_AA-8982-28981-dynamic-1corestotal-allcorepera-20240409-105417</td></tr>\n",
       "</tbody>\n",
       "</table>\n"
      ],
      "text/latex": [
       "A tibble: 8 × 8\n",
       "\\begin{tabular}{llllllll}\n",
       " Parameter & libd\\_chr1-chr1\\_AA-libd\\_chr1-chr1\\_AA-108982-128981-dynamic-1corestotal-allcorepera-20240409-110212-summary.csv & libd\\_chr1-chr1\\_AA-libd\\_chr1-chr1\\_AA-128982-148981-dynamic-1corestotal-allcorepera-20240409-110348-summary.csv & libd\\_chr1-chr1\\_AA-libd\\_chr1-chr1\\_AA-28982-48981-dynamic-1corestotal-allcorepera-20240409-110818-summary.csv & libd\\_chr1-chr1\\_AA-libd\\_chr1-chr1\\_AA-48982-68981-dynamic-1corestotal-allcorepera-20240409-105727-summary.csv & libd\\_chr1-chr1\\_AA-libd\\_chr1-chr1\\_AA-68982-88981-dynamic-1corestotal-allcorepera-20240409-105902-summary.csv & libd\\_chr1-chr1\\_AA-libd\\_chr1-chr1\\_AA-88982-108981-dynamic-1corestotal-allcorepera-20240409-110037-summary.csv & libd\\_chr1-chr1\\_AA-libd\\_chr1-chr1\\_AA-8982-28981-dynamic-1corestotal-allcorepera-20240409-105417-summary.csv\\\\\n",
       " <chr> & <chr> & <chr> & <chr> & <chr> & <chr> & <chr> & <chr>\\\\\n",
       "\\hline\n",
       "\t chunk1        & 108982                                                                                            & 128982                                                                                            & 28982                                                                                           & 48982                                                                                           & 68982                                                                                           & 88982                                                                                            & 8982                                                                                          \\\\\n",
       "\t chunk2        & 128981                                                                                            & 148981                                                                                            & 48981                                                                                           & 68981                                                                                           & 88981                                                                                           & 108981                                                                                           & 28981                                                                                         \\\\\n",
       "\t tag           & libd\\_chr1-chr1\\_AA-108982-128981-dynamic-1corestotal-allcorepera-20240409-110212                   & libd\\_chr1-chr1\\_AA-128982-148981-dynamic-1corestotal-allcorepera-20240409-110348                   & libd\\_chr1-chr1\\_AA-28982-48981-dynamic-1corestotal-allcorepera-20240409-110818                   & libd\\_chr1-chr1\\_AA-48982-68981-dynamic-1corestotal-allcorepera-20240409-105727                   & libd\\_chr1-chr1\\_AA-68982-88981-dynamic-1corestotal-allcorepera-20240409-105902                   & libd\\_chr1-chr1\\_AA-88982-108981-dynamic-1corestotal-allcorepera-20240409-110037                   & libd\\_chr1-chr1\\_AA-8982-28981-dynamic-1corestotal-allcorepera-20240409-105417                  \\\\\n",
       "\t time\\_started  & 2024-04-09 11:02:55                                                                               & 2024-04-09 11:03:57                                                                               & 2024-04-09 11:09:09                                                                             & 2024-04-09 10:57:48                                                                             & 2024-04-09 10:59:50                                                                             & 2024-04-09 11:00:52                                                                              & 2024-04-09 10:54:44                                                                           \\\\\n",
       "\t time\\_finished & 2024-04-09 21:33:59                                                                               & 2024-04-09 19:53:19                                                                               & 2024-04-09 14:00:31                                                                             & 2024-04-09 16:32:57                                                                             & 2024-04-09 18:40:47                                                                             & 2024-04-10 03:48:06                                                                              & 2024-04-09 13:58:46                                                                           \\\\\n",
       "\t runtime       & 10:31:04                                                                                          & 08:49:22                                                                                          & 02:51:22                                                                                        & 05:35:08                                                                                        & 07:40:56                                                                                        & 16:47:14                                                                                         & 03:04:02                                                                                      \\\\\n",
       "\t amount\\_RAM    & 0.245569720864296                                                                                 & 0.245569724589586                                                                                 & 0.245569720864296                                                                               & 0.245569724589586                                                                               & 0.245569720864296                                                                               & 0.245569720864296                                                                                & 0.245569720864296                                                                             \\\\\n",
       "\t scaffold\\_ID   & libd\\_chr1-chr1\\_AA-libd\\_chr1-chr1\\_AA-108982-128981-dynamic-1corestotal-allcorepera-20240409-110212 & libd\\_chr1-chr1\\_AA-libd\\_chr1-chr1\\_AA-128982-148981-dynamic-1corestotal-allcorepera-20240409-110348 & libd\\_chr1-chr1\\_AA-libd\\_chr1-chr1\\_AA-28982-48981-dynamic-1corestotal-allcorepera-20240409-110818 & libd\\_chr1-chr1\\_AA-libd\\_chr1-chr1\\_AA-48982-68981-dynamic-1corestotal-allcorepera-20240409-105727 & libd\\_chr1-chr1\\_AA-libd\\_chr1-chr1\\_AA-68982-88981-dynamic-1corestotal-allcorepera-20240409-105902 & libd\\_chr1-chr1\\_AA-libd\\_chr1-chr1\\_AA-88982-108981-dynamic-1corestotal-allcorepera-20240409-110037 & libd\\_chr1-chr1\\_AA-libd\\_chr1-chr1\\_AA-8982-28981-dynamic-1corestotal-allcorepera-20240409-105417\\\\\n",
       "\\end{tabular}\n"
      ],
      "text/markdown": [
       "\n",
       "A tibble: 8 × 8\n",
       "\n",
       "| Parameter &lt;chr&gt; | libd_chr1-chr1_AA-libd_chr1-chr1_AA-108982-128981-dynamic-1corestotal-allcorepera-20240409-110212-summary.csv &lt;chr&gt; | libd_chr1-chr1_AA-libd_chr1-chr1_AA-128982-148981-dynamic-1corestotal-allcorepera-20240409-110348-summary.csv &lt;chr&gt; | libd_chr1-chr1_AA-libd_chr1-chr1_AA-28982-48981-dynamic-1corestotal-allcorepera-20240409-110818-summary.csv &lt;chr&gt; | libd_chr1-chr1_AA-libd_chr1-chr1_AA-48982-68981-dynamic-1corestotal-allcorepera-20240409-105727-summary.csv &lt;chr&gt; | libd_chr1-chr1_AA-libd_chr1-chr1_AA-68982-88981-dynamic-1corestotal-allcorepera-20240409-105902-summary.csv &lt;chr&gt; | libd_chr1-chr1_AA-libd_chr1-chr1_AA-88982-108981-dynamic-1corestotal-allcorepera-20240409-110037-summary.csv &lt;chr&gt; | libd_chr1-chr1_AA-libd_chr1-chr1_AA-8982-28981-dynamic-1corestotal-allcorepera-20240409-105417-summary.csv &lt;chr&gt; |\n",
       "|---|---|---|---|---|---|---|---|\n",
       "| chunk1        | 108982                                                                                            | 128982                                                                                            | 28982                                                                                           | 48982                                                                                           | 68982                                                                                           | 88982                                                                                            | 8982                                                                                           |\n",
       "| chunk2        | 128981                                                                                            | 148981                                                                                            | 48981                                                                                           | 68981                                                                                           | 88981                                                                                           | 108981                                                                                           | 28981                                                                                          |\n",
       "| tag           | libd_chr1-chr1_AA-108982-128981-dynamic-1corestotal-allcorepera-20240409-110212                   | libd_chr1-chr1_AA-128982-148981-dynamic-1corestotal-allcorepera-20240409-110348                   | libd_chr1-chr1_AA-28982-48981-dynamic-1corestotal-allcorepera-20240409-110818                   | libd_chr1-chr1_AA-48982-68981-dynamic-1corestotal-allcorepera-20240409-105727                   | libd_chr1-chr1_AA-68982-88981-dynamic-1corestotal-allcorepera-20240409-105902                   | libd_chr1-chr1_AA-88982-108981-dynamic-1corestotal-allcorepera-20240409-110037                   | libd_chr1-chr1_AA-8982-28981-dynamic-1corestotal-allcorepera-20240409-105417                   |\n",
       "| time_started  | 2024-04-09 11:02:55                                                                               | 2024-04-09 11:03:57                                                                               | 2024-04-09 11:09:09                                                                             | 2024-04-09 10:57:48                                                                             | 2024-04-09 10:59:50                                                                             | 2024-04-09 11:00:52                                                                              | 2024-04-09 10:54:44                                                                            |\n",
       "| time_finished | 2024-04-09 21:33:59                                                                               | 2024-04-09 19:53:19                                                                               | 2024-04-09 14:00:31                                                                             | 2024-04-09 16:32:57                                                                             | 2024-04-09 18:40:47                                                                             | 2024-04-10 03:48:06                                                                              | 2024-04-09 13:58:46                                                                            |\n",
       "| runtime       | 10:31:04                                                                                          | 08:49:22                                                                                          | 02:51:22                                                                                        | 05:35:08                                                                                        | 07:40:56                                                                                        | 16:47:14                                                                                         | 03:04:02                                                                                       |\n",
       "| amount_RAM    | 0.245569720864296                                                                                 | 0.245569724589586                                                                                 | 0.245569720864296                                                                               | 0.245569724589586                                                                               | 0.245569720864296                                                                               | 0.245569720864296                                                                                | 0.245569720864296                                                                              |\n",
       "| scaffold_ID   | libd_chr1-chr1_AA-libd_chr1-chr1_AA-108982-128981-dynamic-1corestotal-allcorepera-20240409-110212 | libd_chr1-chr1_AA-libd_chr1-chr1_AA-128982-148981-dynamic-1corestotal-allcorepera-20240409-110348 | libd_chr1-chr1_AA-libd_chr1-chr1_AA-28982-48981-dynamic-1corestotal-allcorepera-20240409-110818 | libd_chr1-chr1_AA-libd_chr1-chr1_AA-48982-68981-dynamic-1corestotal-allcorepera-20240409-105727 | libd_chr1-chr1_AA-libd_chr1-chr1_AA-68982-88981-dynamic-1corestotal-allcorepera-20240409-105902 | libd_chr1-chr1_AA-libd_chr1-chr1_AA-88982-108981-dynamic-1corestotal-allcorepera-20240409-110037 | libd_chr1-chr1_AA-libd_chr1-chr1_AA-8982-28981-dynamic-1corestotal-allcorepera-20240409-105417 |\n",
       "\n"
      ],
      "text/plain": [
       "  Parameter    \n",
       "1 chunk1       \n",
       "2 chunk2       \n",
       "3 tag          \n",
       "4 time_started \n",
       "5 time_finished\n",
       "6 runtime      \n",
       "7 amount_RAM   \n",
       "8 scaffold_ID  \n",
       "  libd_chr1-chr1_AA-libd_chr1-chr1_AA-108982-128981-dynamic-1corestotal-allcorepera-20240409-110212-summary.csv\n",
       "1 108982                                                                                                       \n",
       "2 128981                                                                                                       \n",
       "3 libd_chr1-chr1_AA-108982-128981-dynamic-1corestotal-allcorepera-20240409-110212                              \n",
       "4 2024-04-09 11:02:55                                                                                          \n",
       "5 2024-04-09 21:33:59                                                                                          \n",
       "6 10:31:04                                                                                                     \n",
       "7 0.245569720864296                                                                                            \n",
       "8 libd_chr1-chr1_AA-libd_chr1-chr1_AA-108982-128981-dynamic-1corestotal-allcorepera-20240409-110212            \n",
       "  libd_chr1-chr1_AA-libd_chr1-chr1_AA-128982-148981-dynamic-1corestotal-allcorepera-20240409-110348-summary.csv\n",
       "1 128982                                                                                                       \n",
       "2 148981                                                                                                       \n",
       "3 libd_chr1-chr1_AA-128982-148981-dynamic-1corestotal-allcorepera-20240409-110348                              \n",
       "4 2024-04-09 11:03:57                                                                                          \n",
       "5 2024-04-09 19:53:19                                                                                          \n",
       "6 08:49:22                                                                                                     \n",
       "7 0.245569724589586                                                                                            \n",
       "8 libd_chr1-chr1_AA-libd_chr1-chr1_AA-128982-148981-dynamic-1corestotal-allcorepera-20240409-110348            \n",
       "  libd_chr1-chr1_AA-libd_chr1-chr1_AA-28982-48981-dynamic-1corestotal-allcorepera-20240409-110818-summary.csv\n",
       "1 28982                                                                                                      \n",
       "2 48981                                                                                                      \n",
       "3 libd_chr1-chr1_AA-28982-48981-dynamic-1corestotal-allcorepera-20240409-110818                              \n",
       "4 2024-04-09 11:09:09                                                                                        \n",
       "5 2024-04-09 14:00:31                                                                                        \n",
       "6 02:51:22                                                                                                   \n",
       "7 0.245569720864296                                                                                          \n",
       "8 libd_chr1-chr1_AA-libd_chr1-chr1_AA-28982-48981-dynamic-1corestotal-allcorepera-20240409-110818            \n",
       "  libd_chr1-chr1_AA-libd_chr1-chr1_AA-48982-68981-dynamic-1corestotal-allcorepera-20240409-105727-summary.csv\n",
       "1 48982                                                                                                      \n",
       "2 68981                                                                                                      \n",
       "3 libd_chr1-chr1_AA-48982-68981-dynamic-1corestotal-allcorepera-20240409-105727                              \n",
       "4 2024-04-09 10:57:48                                                                                        \n",
       "5 2024-04-09 16:32:57                                                                                        \n",
       "6 05:35:08                                                                                                   \n",
       "7 0.245569724589586                                                                                          \n",
       "8 libd_chr1-chr1_AA-libd_chr1-chr1_AA-48982-68981-dynamic-1corestotal-allcorepera-20240409-105727            \n",
       "  libd_chr1-chr1_AA-libd_chr1-chr1_AA-68982-88981-dynamic-1corestotal-allcorepera-20240409-105902-summary.csv\n",
       "1 68982                                                                                                      \n",
       "2 88981                                                                                                      \n",
       "3 libd_chr1-chr1_AA-68982-88981-dynamic-1corestotal-allcorepera-20240409-105902                              \n",
       "4 2024-04-09 10:59:50                                                                                        \n",
       "5 2024-04-09 18:40:47                                                                                        \n",
       "6 07:40:56                                                                                                   \n",
       "7 0.245569720864296                                                                                          \n",
       "8 libd_chr1-chr1_AA-libd_chr1-chr1_AA-68982-88981-dynamic-1corestotal-allcorepera-20240409-105902            \n",
       "  libd_chr1-chr1_AA-libd_chr1-chr1_AA-88982-108981-dynamic-1corestotal-allcorepera-20240409-110037-summary.csv\n",
       "1 88982                                                                                                       \n",
       "2 108981                                                                                                      \n",
       "3 libd_chr1-chr1_AA-88982-108981-dynamic-1corestotal-allcorepera-20240409-110037                              \n",
       "4 2024-04-09 11:00:52                                                                                         \n",
       "5 2024-04-10 03:48:06                                                                                         \n",
       "6 16:47:14                                                                                                    \n",
       "7 0.245569720864296                                                                                           \n",
       "8 libd_chr1-chr1_AA-libd_chr1-chr1_AA-88982-108981-dynamic-1corestotal-allcorepera-20240409-110037            \n",
       "  libd_chr1-chr1_AA-libd_chr1-chr1_AA-8982-28981-dynamic-1corestotal-allcorepera-20240409-105417-summary.csv\n",
       "1 8982                                                                                                      \n",
       "2 28981                                                                                                     \n",
       "3 libd_chr1-chr1_AA-8982-28981-dynamic-1corestotal-allcorepera-20240409-105417                              \n",
       "4 2024-04-09 10:54:44                                                                                       \n",
       "5 2024-04-09 13:58:46                                                                                       \n",
       "6 03:04:02                                                                                                  \n",
       "7 0.245569720864296                                                                                         \n",
       "8 libd_chr1-chr1_AA-libd_chr1-chr1_AA-8982-28981-dynamic-1corestotal-allcorepera-20240409-105417            "
      ]
     },
     "metadata": {},
     "output_type": "display_data"
    }
   ],
   "source": [
    "summary_table"
   ]
  },
  {
   "cell_type": "code",
   "execution_count": 7,
   "id": "6781ba8a-4a5d-447c-bc04-5168b14bf17a",
   "metadata": {},
   "outputs": [],
   "source": [
    "summary_table <- as.data.frame(t(summary_table))\n",
    "colnames(summary_table) <- summary_table[1, ]\n",
    "summary_table <- summary_table[-1, ]"
   ]
  },
  {
   "cell_type": "code",
   "execution_count": 8,
   "id": "2d07bcc2-2f67-4f92-91ae-5c46414c9925",
   "metadata": {},
   "outputs": [],
   "source": [
    "#summary_table$number_cores <- as.numeric(as.character(summary_table$num_cores))\n",
    "summary_table$number_cores <- 1"
   ]
  },
  {
   "cell_type": "code",
   "execution_count": 9,
   "id": "072acef6-5e8e-4a03-9647-c2b9eb2440b4",
   "metadata": {},
   "outputs": [],
   "source": [
    "summary_table$runtime_seconds <- sapply(summary_table$runtime, function(x) {\n",
    "  parts <- strsplit(x, \":\")[[1]]\n",
    "  as.numeric(parts[1]) * 3600 + as.numeric(parts[2]) * 60 + as.numeric(parts[3])\n",
    "})"
   ]
  },
  {
   "cell_type": "code",
   "execution_count": 10,
   "id": "643f9b4a-3d63-4d6c-a354-956fc42dc3f4",
   "metadata": {},
   "outputs": [],
   "source": [
    "summary_table$runtime_hours <- summary_table$runtime_seconds/3600"
   ]
  },
  {
   "cell_type": "code",
   "execution_count": 11,
   "id": "a67458a1-0bb5-411d-ab04-d770d37586b9",
   "metadata": {},
   "outputs": [],
   "source": [
    "summary_table$chunk1 <- as.numeric(as.character(summary_table$chunk1))\n",
    "summary_table$chunk2 <- as.numeric(as.character(summary_table$chunk2))"
   ]
  },
  {
   "cell_type": "code",
   "execution_count": 12,
   "id": "ad82d466-45e5-4f91-a1d4-9413bbca1bfc",
   "metadata": {},
   "outputs": [],
   "source": [
    "summary_table$runtime_core_hours <- summary_table$runtime_hours * summary_table$number_cores\n",
    "summary_table$runtime_core_seconds <- summary_table$runtime_seconds * summary_table$number_cores\n",
    "summary_table$core_hours_per_test <- summary_table$runtime_core_hours / (summary_table$chunk2 - summary_table$chunk1 + 1)\n",
    "summary_table$core_seconds_per_test <- summary_table$runtime_core_seconds / (summary_table$chunk2 - summary_table$chunk1 + 1)"
   ]
  },
  {
   "cell_type": "code",
   "execution_count": 13,
   "id": "6d784e30-2f15-4034-9b2c-ab404913bb98",
   "metadata": {
    "scrolled": true
   },
   "outputs": [
    {
     "data": {
      "text/html": [
       "<table class=\"dataframe\">\n",
       "<caption>A data.frame: 7 × 15</caption>\n",
       "<thead>\n",
       "\t<tr><th></th><th scope=col>chunk1</th><th scope=col>chunk2</th><th scope=col>tag</th><th scope=col>time_started</th><th scope=col>time_finished</th><th scope=col>runtime</th><th scope=col>amount_RAM</th><th scope=col>scaffold_ID</th><th scope=col>number_cores</th><th scope=col>runtime_seconds</th><th scope=col>runtime_hours</th><th scope=col>runtime_core_hours</th><th scope=col>runtime_core_seconds</th><th scope=col>core_hours_per_test</th><th scope=col>core_seconds_per_test</th></tr>\n",
       "\t<tr><th></th><th scope=col>&lt;dbl&gt;</th><th scope=col>&lt;dbl&gt;</th><th scope=col>&lt;chr&gt;</th><th scope=col>&lt;chr&gt;</th><th scope=col>&lt;chr&gt;</th><th scope=col>&lt;chr&gt;</th><th scope=col>&lt;chr&gt;</th><th scope=col>&lt;chr&gt;</th><th scope=col>&lt;dbl&gt;</th><th scope=col>&lt;dbl&gt;</th><th scope=col>&lt;dbl&gt;</th><th scope=col>&lt;dbl&gt;</th><th scope=col>&lt;dbl&gt;</th><th scope=col>&lt;dbl&gt;</th><th scope=col>&lt;dbl&gt;</th></tr>\n",
       "</thead>\n",
       "<tbody>\n",
       "\t<tr><th scope=row>libd_chr1-chr1_AA-libd_chr1-chr1_AA-108982-128981-dynamic-1corestotal-allcorepera-20240409-110212-summary.csv</th><td>108982</td><td>128981</td><td>libd_chr1-chr1_AA-108982-128981-dynamic-1corestotal-allcorepera-20240409-110212</td><td>2024-04-09 11:02:55</td><td>2024-04-09 21:33:59</td><td>10:31:04</td><td>0.245569720864296</td><td>libd_chr1-chr1_AA-libd_chr1-chr1_AA-108982-128981-dynamic-1corestotal-allcorepera-20240409-110212</td><td>1</td><td>37864</td><td>10.517778</td><td>10.517778</td><td>37864</td><td>0.0005258889</td><td>1.8932</td></tr>\n",
       "\t<tr><th scope=row>libd_chr1-chr1_AA-libd_chr1-chr1_AA-128982-148981-dynamic-1corestotal-allcorepera-20240409-110348-summary.csv</th><td>128982</td><td>148981</td><td>libd_chr1-chr1_AA-128982-148981-dynamic-1corestotal-allcorepera-20240409-110348</td><td>2024-04-09 11:03:57</td><td>2024-04-09 19:53:19</td><td>08:49:22</td><td>0.245569724589586</td><td>libd_chr1-chr1_AA-libd_chr1-chr1_AA-128982-148981-dynamic-1corestotal-allcorepera-20240409-110348</td><td>1</td><td>31762</td><td> 8.822778</td><td> 8.822778</td><td>31762</td><td>0.0004411389</td><td>1.5881</td></tr>\n",
       "\t<tr><th scope=row>libd_chr1-chr1_AA-libd_chr1-chr1_AA-28982-48981-dynamic-1corestotal-allcorepera-20240409-110818-summary.csv</th><td> 28982</td><td> 48981</td><td>libd_chr1-chr1_AA-28982-48981-dynamic-1corestotal-allcorepera-20240409-110818  </td><td>2024-04-09 11:09:09</td><td>2024-04-09 14:00:31</td><td>02:51:22</td><td>0.245569720864296</td><td>libd_chr1-chr1_AA-libd_chr1-chr1_AA-28982-48981-dynamic-1corestotal-allcorepera-20240409-110818  </td><td>1</td><td>10282</td><td> 2.856111</td><td> 2.856111</td><td>10282</td><td>0.0001428056</td><td>0.5141</td></tr>\n",
       "\t<tr><th scope=row>libd_chr1-chr1_AA-libd_chr1-chr1_AA-48982-68981-dynamic-1corestotal-allcorepera-20240409-105727-summary.csv</th><td> 48982</td><td> 68981</td><td>libd_chr1-chr1_AA-48982-68981-dynamic-1corestotal-allcorepera-20240409-105727  </td><td>2024-04-09 10:57:48</td><td>2024-04-09 16:32:57</td><td>05:35:08</td><td>0.245569724589586</td><td>libd_chr1-chr1_AA-libd_chr1-chr1_AA-48982-68981-dynamic-1corestotal-allcorepera-20240409-105727  </td><td>1</td><td>20108</td><td> 5.585556</td><td> 5.585556</td><td>20108</td><td>0.0002792778</td><td>1.0054</td></tr>\n",
       "\t<tr><th scope=row>libd_chr1-chr1_AA-libd_chr1-chr1_AA-68982-88981-dynamic-1corestotal-allcorepera-20240409-105902-summary.csv</th><td> 68982</td><td> 88981</td><td>libd_chr1-chr1_AA-68982-88981-dynamic-1corestotal-allcorepera-20240409-105902  </td><td>2024-04-09 10:59:50</td><td>2024-04-09 18:40:47</td><td>07:40:56</td><td>0.245569720864296</td><td>libd_chr1-chr1_AA-libd_chr1-chr1_AA-68982-88981-dynamic-1corestotal-allcorepera-20240409-105902  </td><td>1</td><td>27656</td><td> 7.682222</td><td> 7.682222</td><td>27656</td><td>0.0003841111</td><td>1.3828</td></tr>\n",
       "\t<tr><th scope=row>libd_chr1-chr1_AA-libd_chr1-chr1_AA-88982-108981-dynamic-1corestotal-allcorepera-20240409-110037-summary.csv</th><td> 88982</td><td>108981</td><td>libd_chr1-chr1_AA-88982-108981-dynamic-1corestotal-allcorepera-20240409-110037 </td><td>2024-04-09 11:00:52</td><td>2024-04-10 03:48:06</td><td>16:47:14</td><td>0.245569720864296</td><td>libd_chr1-chr1_AA-libd_chr1-chr1_AA-88982-108981-dynamic-1corestotal-allcorepera-20240409-110037 </td><td>1</td><td>60434</td><td>16.787222</td><td>16.787222</td><td>60434</td><td>0.0008393611</td><td>3.0217</td></tr>\n",
       "\t<tr><th scope=row>libd_chr1-chr1_AA-libd_chr1-chr1_AA-8982-28981-dynamic-1corestotal-allcorepera-20240409-105417-summary.csv</th><td>  8982</td><td> 28981</td><td>libd_chr1-chr1_AA-8982-28981-dynamic-1corestotal-allcorepera-20240409-105417   </td><td>2024-04-09 10:54:44</td><td>2024-04-09 13:58:46</td><td>03:04:02</td><td>0.245569720864296</td><td>libd_chr1-chr1_AA-libd_chr1-chr1_AA-8982-28981-dynamic-1corestotal-allcorepera-20240409-105417   </td><td>1</td><td>11042</td><td> 3.067222</td><td> 3.067222</td><td>11042</td><td>0.0001533611</td><td>0.5521</td></tr>\n",
       "</tbody>\n",
       "</table>\n"
      ],
      "text/latex": [
       "A data.frame: 7 × 15\n",
       "\\begin{tabular}{r|lllllllllllllll}\n",
       "  & chunk1 & chunk2 & tag & time\\_started & time\\_finished & runtime & amount\\_RAM & scaffold\\_ID & number\\_cores & runtime\\_seconds & runtime\\_hours & runtime\\_core\\_hours & runtime\\_core\\_seconds & core\\_hours\\_per\\_test & core\\_seconds\\_per\\_test\\\\\n",
       "  & <dbl> & <dbl> & <chr> & <chr> & <chr> & <chr> & <chr> & <chr> & <dbl> & <dbl> & <dbl> & <dbl> & <dbl> & <dbl> & <dbl>\\\\\n",
       "\\hline\n",
       "\tlibd\\_chr1-chr1\\_AA-libd\\_chr1-chr1\\_AA-108982-128981-dynamic-1corestotal-allcorepera-20240409-110212-summary.csv & 108982 & 128981 & libd\\_chr1-chr1\\_AA-108982-128981-dynamic-1corestotal-allcorepera-20240409-110212 & 2024-04-09 11:02:55 & 2024-04-09 21:33:59 & 10:31:04 & 0.245569720864296 & libd\\_chr1-chr1\\_AA-libd\\_chr1-chr1\\_AA-108982-128981-dynamic-1corestotal-allcorepera-20240409-110212 & 1 & 37864 & 10.517778 & 10.517778 & 37864 & 0.0005258889 & 1.8932\\\\\n",
       "\tlibd\\_chr1-chr1\\_AA-libd\\_chr1-chr1\\_AA-128982-148981-dynamic-1corestotal-allcorepera-20240409-110348-summary.csv & 128982 & 148981 & libd\\_chr1-chr1\\_AA-128982-148981-dynamic-1corestotal-allcorepera-20240409-110348 & 2024-04-09 11:03:57 & 2024-04-09 19:53:19 & 08:49:22 & 0.245569724589586 & libd\\_chr1-chr1\\_AA-libd\\_chr1-chr1\\_AA-128982-148981-dynamic-1corestotal-allcorepera-20240409-110348 & 1 & 31762 &  8.822778 &  8.822778 & 31762 & 0.0004411389 & 1.5881\\\\\n",
       "\tlibd\\_chr1-chr1\\_AA-libd\\_chr1-chr1\\_AA-28982-48981-dynamic-1corestotal-allcorepera-20240409-110818-summary.csv &  28982 &  48981 & libd\\_chr1-chr1\\_AA-28982-48981-dynamic-1corestotal-allcorepera-20240409-110818   & 2024-04-09 11:09:09 & 2024-04-09 14:00:31 & 02:51:22 & 0.245569720864296 & libd\\_chr1-chr1\\_AA-libd\\_chr1-chr1\\_AA-28982-48981-dynamic-1corestotal-allcorepera-20240409-110818   & 1 & 10282 &  2.856111 &  2.856111 & 10282 & 0.0001428056 & 0.5141\\\\\n",
       "\tlibd\\_chr1-chr1\\_AA-libd\\_chr1-chr1\\_AA-48982-68981-dynamic-1corestotal-allcorepera-20240409-105727-summary.csv &  48982 &  68981 & libd\\_chr1-chr1\\_AA-48982-68981-dynamic-1corestotal-allcorepera-20240409-105727   & 2024-04-09 10:57:48 & 2024-04-09 16:32:57 & 05:35:08 & 0.245569724589586 & libd\\_chr1-chr1\\_AA-libd\\_chr1-chr1\\_AA-48982-68981-dynamic-1corestotal-allcorepera-20240409-105727   & 1 & 20108 &  5.585556 &  5.585556 & 20108 & 0.0002792778 & 1.0054\\\\\n",
       "\tlibd\\_chr1-chr1\\_AA-libd\\_chr1-chr1\\_AA-68982-88981-dynamic-1corestotal-allcorepera-20240409-105902-summary.csv &  68982 &  88981 & libd\\_chr1-chr1\\_AA-68982-88981-dynamic-1corestotal-allcorepera-20240409-105902   & 2024-04-09 10:59:50 & 2024-04-09 18:40:47 & 07:40:56 & 0.245569720864296 & libd\\_chr1-chr1\\_AA-libd\\_chr1-chr1\\_AA-68982-88981-dynamic-1corestotal-allcorepera-20240409-105902   & 1 & 27656 &  7.682222 &  7.682222 & 27656 & 0.0003841111 & 1.3828\\\\\n",
       "\tlibd\\_chr1-chr1\\_AA-libd\\_chr1-chr1\\_AA-88982-108981-dynamic-1corestotal-allcorepera-20240409-110037-summary.csv &  88982 & 108981 & libd\\_chr1-chr1\\_AA-88982-108981-dynamic-1corestotal-allcorepera-20240409-110037  & 2024-04-09 11:00:52 & 2024-04-10 03:48:06 & 16:47:14 & 0.245569720864296 & libd\\_chr1-chr1\\_AA-libd\\_chr1-chr1\\_AA-88982-108981-dynamic-1corestotal-allcorepera-20240409-110037  & 1 & 60434 & 16.787222 & 16.787222 & 60434 & 0.0008393611 & 3.0217\\\\\n",
       "\tlibd\\_chr1-chr1\\_AA-libd\\_chr1-chr1\\_AA-8982-28981-dynamic-1corestotal-allcorepera-20240409-105417-summary.csv &   8982 &  28981 & libd\\_chr1-chr1\\_AA-8982-28981-dynamic-1corestotal-allcorepera-20240409-105417    & 2024-04-09 10:54:44 & 2024-04-09 13:58:46 & 03:04:02 & 0.245569720864296 & libd\\_chr1-chr1\\_AA-libd\\_chr1-chr1\\_AA-8982-28981-dynamic-1corestotal-allcorepera-20240409-105417    & 1 & 11042 &  3.067222 &  3.067222 & 11042 & 0.0001533611 & 0.5521\\\\\n",
       "\\end{tabular}\n"
      ],
      "text/markdown": [
       "\n",
       "A data.frame: 7 × 15\n",
       "\n",
       "| <!--/--> | chunk1 &lt;dbl&gt; | chunk2 &lt;dbl&gt; | tag &lt;chr&gt; | time_started &lt;chr&gt; | time_finished &lt;chr&gt; | runtime &lt;chr&gt; | amount_RAM &lt;chr&gt; | scaffold_ID &lt;chr&gt; | number_cores &lt;dbl&gt; | runtime_seconds &lt;dbl&gt; | runtime_hours &lt;dbl&gt; | runtime_core_hours &lt;dbl&gt; | runtime_core_seconds &lt;dbl&gt; | core_hours_per_test &lt;dbl&gt; | core_seconds_per_test &lt;dbl&gt; |\n",
       "|---|---|---|---|---|---|---|---|---|---|---|---|---|---|---|---|\n",
       "| libd_chr1-chr1_AA-libd_chr1-chr1_AA-108982-128981-dynamic-1corestotal-allcorepera-20240409-110212-summary.csv | 108982 | 128981 | libd_chr1-chr1_AA-108982-128981-dynamic-1corestotal-allcorepera-20240409-110212 | 2024-04-09 11:02:55 | 2024-04-09 21:33:59 | 10:31:04 | 0.245569720864296 | libd_chr1-chr1_AA-libd_chr1-chr1_AA-108982-128981-dynamic-1corestotal-allcorepera-20240409-110212 | 1 | 37864 | 10.517778 | 10.517778 | 37864 | 0.0005258889 | 1.8932 |\n",
       "| libd_chr1-chr1_AA-libd_chr1-chr1_AA-128982-148981-dynamic-1corestotal-allcorepera-20240409-110348-summary.csv | 128982 | 148981 | libd_chr1-chr1_AA-128982-148981-dynamic-1corestotal-allcorepera-20240409-110348 | 2024-04-09 11:03:57 | 2024-04-09 19:53:19 | 08:49:22 | 0.245569724589586 | libd_chr1-chr1_AA-libd_chr1-chr1_AA-128982-148981-dynamic-1corestotal-allcorepera-20240409-110348 | 1 | 31762 |  8.822778 |  8.822778 | 31762 | 0.0004411389 | 1.5881 |\n",
       "| libd_chr1-chr1_AA-libd_chr1-chr1_AA-28982-48981-dynamic-1corestotal-allcorepera-20240409-110818-summary.csv |  28982 |  48981 | libd_chr1-chr1_AA-28982-48981-dynamic-1corestotal-allcorepera-20240409-110818   | 2024-04-09 11:09:09 | 2024-04-09 14:00:31 | 02:51:22 | 0.245569720864296 | libd_chr1-chr1_AA-libd_chr1-chr1_AA-28982-48981-dynamic-1corestotal-allcorepera-20240409-110818   | 1 | 10282 |  2.856111 |  2.856111 | 10282 | 0.0001428056 | 0.5141 |\n",
       "| libd_chr1-chr1_AA-libd_chr1-chr1_AA-48982-68981-dynamic-1corestotal-allcorepera-20240409-105727-summary.csv |  48982 |  68981 | libd_chr1-chr1_AA-48982-68981-dynamic-1corestotal-allcorepera-20240409-105727   | 2024-04-09 10:57:48 | 2024-04-09 16:32:57 | 05:35:08 | 0.245569724589586 | libd_chr1-chr1_AA-libd_chr1-chr1_AA-48982-68981-dynamic-1corestotal-allcorepera-20240409-105727   | 1 | 20108 |  5.585556 |  5.585556 | 20108 | 0.0002792778 | 1.0054 |\n",
       "| libd_chr1-chr1_AA-libd_chr1-chr1_AA-68982-88981-dynamic-1corestotal-allcorepera-20240409-105902-summary.csv |  68982 |  88981 | libd_chr1-chr1_AA-68982-88981-dynamic-1corestotal-allcorepera-20240409-105902   | 2024-04-09 10:59:50 | 2024-04-09 18:40:47 | 07:40:56 | 0.245569720864296 | libd_chr1-chr1_AA-libd_chr1-chr1_AA-68982-88981-dynamic-1corestotal-allcorepera-20240409-105902   | 1 | 27656 |  7.682222 |  7.682222 | 27656 | 0.0003841111 | 1.3828 |\n",
       "| libd_chr1-chr1_AA-libd_chr1-chr1_AA-88982-108981-dynamic-1corestotal-allcorepera-20240409-110037-summary.csv |  88982 | 108981 | libd_chr1-chr1_AA-88982-108981-dynamic-1corestotal-allcorepera-20240409-110037  | 2024-04-09 11:00:52 | 2024-04-10 03:48:06 | 16:47:14 | 0.245569720864296 | libd_chr1-chr1_AA-libd_chr1-chr1_AA-88982-108981-dynamic-1corestotal-allcorepera-20240409-110037  | 1 | 60434 | 16.787222 | 16.787222 | 60434 | 0.0008393611 | 3.0217 |\n",
       "| libd_chr1-chr1_AA-libd_chr1-chr1_AA-8982-28981-dynamic-1corestotal-allcorepera-20240409-105417-summary.csv |   8982 |  28981 | libd_chr1-chr1_AA-8982-28981-dynamic-1corestotal-allcorepera-20240409-105417    | 2024-04-09 10:54:44 | 2024-04-09 13:58:46 | 03:04:02 | 0.245569720864296 | libd_chr1-chr1_AA-libd_chr1-chr1_AA-8982-28981-dynamic-1corestotal-allcorepera-20240409-105417    | 1 | 11042 |  3.067222 |  3.067222 | 11042 | 0.0001533611 | 0.5521 |\n",
       "\n"
      ],
      "text/plain": [
       "                                                                                                              chunk1\n",
       "libd_chr1-chr1_AA-libd_chr1-chr1_AA-108982-128981-dynamic-1corestotal-allcorepera-20240409-110212-summary.csv 108982\n",
       "libd_chr1-chr1_AA-libd_chr1-chr1_AA-128982-148981-dynamic-1corestotal-allcorepera-20240409-110348-summary.csv 128982\n",
       "libd_chr1-chr1_AA-libd_chr1-chr1_AA-28982-48981-dynamic-1corestotal-allcorepera-20240409-110818-summary.csv    28982\n",
       "libd_chr1-chr1_AA-libd_chr1-chr1_AA-48982-68981-dynamic-1corestotal-allcorepera-20240409-105727-summary.csv    48982\n",
       "libd_chr1-chr1_AA-libd_chr1-chr1_AA-68982-88981-dynamic-1corestotal-allcorepera-20240409-105902-summary.csv    68982\n",
       "libd_chr1-chr1_AA-libd_chr1-chr1_AA-88982-108981-dynamic-1corestotal-allcorepera-20240409-110037-summary.csv   88982\n",
       "libd_chr1-chr1_AA-libd_chr1-chr1_AA-8982-28981-dynamic-1corestotal-allcorepera-20240409-105417-summary.csv      8982\n",
       "                                                                                                              chunk2\n",
       "libd_chr1-chr1_AA-libd_chr1-chr1_AA-108982-128981-dynamic-1corestotal-allcorepera-20240409-110212-summary.csv 128981\n",
       "libd_chr1-chr1_AA-libd_chr1-chr1_AA-128982-148981-dynamic-1corestotal-allcorepera-20240409-110348-summary.csv 148981\n",
       "libd_chr1-chr1_AA-libd_chr1-chr1_AA-28982-48981-dynamic-1corestotal-allcorepera-20240409-110818-summary.csv    48981\n",
       "libd_chr1-chr1_AA-libd_chr1-chr1_AA-48982-68981-dynamic-1corestotal-allcorepera-20240409-105727-summary.csv    68981\n",
       "libd_chr1-chr1_AA-libd_chr1-chr1_AA-68982-88981-dynamic-1corestotal-allcorepera-20240409-105902-summary.csv    88981\n",
       "libd_chr1-chr1_AA-libd_chr1-chr1_AA-88982-108981-dynamic-1corestotal-allcorepera-20240409-110037-summary.csv  108981\n",
       "libd_chr1-chr1_AA-libd_chr1-chr1_AA-8982-28981-dynamic-1corestotal-allcorepera-20240409-105417-summary.csv     28981\n",
       "                                                                                                              tag                                                                            \n",
       "libd_chr1-chr1_AA-libd_chr1-chr1_AA-108982-128981-dynamic-1corestotal-allcorepera-20240409-110212-summary.csv libd_chr1-chr1_AA-108982-128981-dynamic-1corestotal-allcorepera-20240409-110212\n",
       "libd_chr1-chr1_AA-libd_chr1-chr1_AA-128982-148981-dynamic-1corestotal-allcorepera-20240409-110348-summary.csv libd_chr1-chr1_AA-128982-148981-dynamic-1corestotal-allcorepera-20240409-110348\n",
       "libd_chr1-chr1_AA-libd_chr1-chr1_AA-28982-48981-dynamic-1corestotal-allcorepera-20240409-110818-summary.csv   libd_chr1-chr1_AA-28982-48981-dynamic-1corestotal-allcorepera-20240409-110818  \n",
       "libd_chr1-chr1_AA-libd_chr1-chr1_AA-48982-68981-dynamic-1corestotal-allcorepera-20240409-105727-summary.csv   libd_chr1-chr1_AA-48982-68981-dynamic-1corestotal-allcorepera-20240409-105727  \n",
       "libd_chr1-chr1_AA-libd_chr1-chr1_AA-68982-88981-dynamic-1corestotal-allcorepera-20240409-105902-summary.csv   libd_chr1-chr1_AA-68982-88981-dynamic-1corestotal-allcorepera-20240409-105902  \n",
       "libd_chr1-chr1_AA-libd_chr1-chr1_AA-88982-108981-dynamic-1corestotal-allcorepera-20240409-110037-summary.csv  libd_chr1-chr1_AA-88982-108981-dynamic-1corestotal-allcorepera-20240409-110037 \n",
       "libd_chr1-chr1_AA-libd_chr1-chr1_AA-8982-28981-dynamic-1corestotal-allcorepera-20240409-105417-summary.csv    libd_chr1-chr1_AA-8982-28981-dynamic-1corestotal-allcorepera-20240409-105417   \n",
       "                                                                                                              time_started       \n",
       "libd_chr1-chr1_AA-libd_chr1-chr1_AA-108982-128981-dynamic-1corestotal-allcorepera-20240409-110212-summary.csv 2024-04-09 11:02:55\n",
       "libd_chr1-chr1_AA-libd_chr1-chr1_AA-128982-148981-dynamic-1corestotal-allcorepera-20240409-110348-summary.csv 2024-04-09 11:03:57\n",
       "libd_chr1-chr1_AA-libd_chr1-chr1_AA-28982-48981-dynamic-1corestotal-allcorepera-20240409-110818-summary.csv   2024-04-09 11:09:09\n",
       "libd_chr1-chr1_AA-libd_chr1-chr1_AA-48982-68981-dynamic-1corestotal-allcorepera-20240409-105727-summary.csv   2024-04-09 10:57:48\n",
       "libd_chr1-chr1_AA-libd_chr1-chr1_AA-68982-88981-dynamic-1corestotal-allcorepera-20240409-105902-summary.csv   2024-04-09 10:59:50\n",
       "libd_chr1-chr1_AA-libd_chr1-chr1_AA-88982-108981-dynamic-1corestotal-allcorepera-20240409-110037-summary.csv  2024-04-09 11:00:52\n",
       "libd_chr1-chr1_AA-libd_chr1-chr1_AA-8982-28981-dynamic-1corestotal-allcorepera-20240409-105417-summary.csv    2024-04-09 10:54:44\n",
       "                                                                                                              time_finished      \n",
       "libd_chr1-chr1_AA-libd_chr1-chr1_AA-108982-128981-dynamic-1corestotal-allcorepera-20240409-110212-summary.csv 2024-04-09 21:33:59\n",
       "libd_chr1-chr1_AA-libd_chr1-chr1_AA-128982-148981-dynamic-1corestotal-allcorepera-20240409-110348-summary.csv 2024-04-09 19:53:19\n",
       "libd_chr1-chr1_AA-libd_chr1-chr1_AA-28982-48981-dynamic-1corestotal-allcorepera-20240409-110818-summary.csv   2024-04-09 14:00:31\n",
       "libd_chr1-chr1_AA-libd_chr1-chr1_AA-48982-68981-dynamic-1corestotal-allcorepera-20240409-105727-summary.csv   2024-04-09 16:32:57\n",
       "libd_chr1-chr1_AA-libd_chr1-chr1_AA-68982-88981-dynamic-1corestotal-allcorepera-20240409-105902-summary.csv   2024-04-09 18:40:47\n",
       "libd_chr1-chr1_AA-libd_chr1-chr1_AA-88982-108981-dynamic-1corestotal-allcorepera-20240409-110037-summary.csv  2024-04-10 03:48:06\n",
       "libd_chr1-chr1_AA-libd_chr1-chr1_AA-8982-28981-dynamic-1corestotal-allcorepera-20240409-105417-summary.csv    2024-04-09 13:58:46\n",
       "                                                                                                              runtime \n",
       "libd_chr1-chr1_AA-libd_chr1-chr1_AA-108982-128981-dynamic-1corestotal-allcorepera-20240409-110212-summary.csv 10:31:04\n",
       "libd_chr1-chr1_AA-libd_chr1-chr1_AA-128982-148981-dynamic-1corestotal-allcorepera-20240409-110348-summary.csv 08:49:22\n",
       "libd_chr1-chr1_AA-libd_chr1-chr1_AA-28982-48981-dynamic-1corestotal-allcorepera-20240409-110818-summary.csv   02:51:22\n",
       "libd_chr1-chr1_AA-libd_chr1-chr1_AA-48982-68981-dynamic-1corestotal-allcorepera-20240409-105727-summary.csv   05:35:08\n",
       "libd_chr1-chr1_AA-libd_chr1-chr1_AA-68982-88981-dynamic-1corestotal-allcorepera-20240409-105902-summary.csv   07:40:56\n",
       "libd_chr1-chr1_AA-libd_chr1-chr1_AA-88982-108981-dynamic-1corestotal-allcorepera-20240409-110037-summary.csv  16:47:14\n",
       "libd_chr1-chr1_AA-libd_chr1-chr1_AA-8982-28981-dynamic-1corestotal-allcorepera-20240409-105417-summary.csv    03:04:02\n",
       "                                                                                                              amount_RAM       \n",
       "libd_chr1-chr1_AA-libd_chr1-chr1_AA-108982-128981-dynamic-1corestotal-allcorepera-20240409-110212-summary.csv 0.245569720864296\n",
       "libd_chr1-chr1_AA-libd_chr1-chr1_AA-128982-148981-dynamic-1corestotal-allcorepera-20240409-110348-summary.csv 0.245569724589586\n",
       "libd_chr1-chr1_AA-libd_chr1-chr1_AA-28982-48981-dynamic-1corestotal-allcorepera-20240409-110818-summary.csv   0.245569720864296\n",
       "libd_chr1-chr1_AA-libd_chr1-chr1_AA-48982-68981-dynamic-1corestotal-allcorepera-20240409-105727-summary.csv   0.245569724589586\n",
       "libd_chr1-chr1_AA-libd_chr1-chr1_AA-68982-88981-dynamic-1corestotal-allcorepera-20240409-105902-summary.csv   0.245569720864296\n",
       "libd_chr1-chr1_AA-libd_chr1-chr1_AA-88982-108981-dynamic-1corestotal-allcorepera-20240409-110037-summary.csv  0.245569720864296\n",
       "libd_chr1-chr1_AA-libd_chr1-chr1_AA-8982-28981-dynamic-1corestotal-allcorepera-20240409-105417-summary.csv    0.245569720864296\n",
       "                                                                                                              scaffold_ID                                                                                      \n",
       "libd_chr1-chr1_AA-libd_chr1-chr1_AA-108982-128981-dynamic-1corestotal-allcorepera-20240409-110212-summary.csv libd_chr1-chr1_AA-libd_chr1-chr1_AA-108982-128981-dynamic-1corestotal-allcorepera-20240409-110212\n",
       "libd_chr1-chr1_AA-libd_chr1-chr1_AA-128982-148981-dynamic-1corestotal-allcorepera-20240409-110348-summary.csv libd_chr1-chr1_AA-libd_chr1-chr1_AA-128982-148981-dynamic-1corestotal-allcorepera-20240409-110348\n",
       "libd_chr1-chr1_AA-libd_chr1-chr1_AA-28982-48981-dynamic-1corestotal-allcorepera-20240409-110818-summary.csv   libd_chr1-chr1_AA-libd_chr1-chr1_AA-28982-48981-dynamic-1corestotal-allcorepera-20240409-110818  \n",
       "libd_chr1-chr1_AA-libd_chr1-chr1_AA-48982-68981-dynamic-1corestotal-allcorepera-20240409-105727-summary.csv   libd_chr1-chr1_AA-libd_chr1-chr1_AA-48982-68981-dynamic-1corestotal-allcorepera-20240409-105727  \n",
       "libd_chr1-chr1_AA-libd_chr1-chr1_AA-68982-88981-dynamic-1corestotal-allcorepera-20240409-105902-summary.csv   libd_chr1-chr1_AA-libd_chr1-chr1_AA-68982-88981-dynamic-1corestotal-allcorepera-20240409-105902  \n",
       "libd_chr1-chr1_AA-libd_chr1-chr1_AA-88982-108981-dynamic-1corestotal-allcorepera-20240409-110037-summary.csv  libd_chr1-chr1_AA-libd_chr1-chr1_AA-88982-108981-dynamic-1corestotal-allcorepera-20240409-110037 \n",
       "libd_chr1-chr1_AA-libd_chr1-chr1_AA-8982-28981-dynamic-1corestotal-allcorepera-20240409-105417-summary.csv    libd_chr1-chr1_AA-libd_chr1-chr1_AA-8982-28981-dynamic-1corestotal-allcorepera-20240409-105417   \n",
       "                                                                                                              number_cores\n",
       "libd_chr1-chr1_AA-libd_chr1-chr1_AA-108982-128981-dynamic-1corestotal-allcorepera-20240409-110212-summary.csv 1           \n",
       "libd_chr1-chr1_AA-libd_chr1-chr1_AA-128982-148981-dynamic-1corestotal-allcorepera-20240409-110348-summary.csv 1           \n",
       "libd_chr1-chr1_AA-libd_chr1-chr1_AA-28982-48981-dynamic-1corestotal-allcorepera-20240409-110818-summary.csv   1           \n",
       "libd_chr1-chr1_AA-libd_chr1-chr1_AA-48982-68981-dynamic-1corestotal-allcorepera-20240409-105727-summary.csv   1           \n",
       "libd_chr1-chr1_AA-libd_chr1-chr1_AA-68982-88981-dynamic-1corestotal-allcorepera-20240409-105902-summary.csv   1           \n",
       "libd_chr1-chr1_AA-libd_chr1-chr1_AA-88982-108981-dynamic-1corestotal-allcorepera-20240409-110037-summary.csv  1           \n",
       "libd_chr1-chr1_AA-libd_chr1-chr1_AA-8982-28981-dynamic-1corestotal-allcorepera-20240409-105417-summary.csv    1           \n",
       "                                                                                                              runtime_seconds\n",
       "libd_chr1-chr1_AA-libd_chr1-chr1_AA-108982-128981-dynamic-1corestotal-allcorepera-20240409-110212-summary.csv 37864          \n",
       "libd_chr1-chr1_AA-libd_chr1-chr1_AA-128982-148981-dynamic-1corestotal-allcorepera-20240409-110348-summary.csv 31762          \n",
       "libd_chr1-chr1_AA-libd_chr1-chr1_AA-28982-48981-dynamic-1corestotal-allcorepera-20240409-110818-summary.csv   10282          \n",
       "libd_chr1-chr1_AA-libd_chr1-chr1_AA-48982-68981-dynamic-1corestotal-allcorepera-20240409-105727-summary.csv   20108          \n",
       "libd_chr1-chr1_AA-libd_chr1-chr1_AA-68982-88981-dynamic-1corestotal-allcorepera-20240409-105902-summary.csv   27656          \n",
       "libd_chr1-chr1_AA-libd_chr1-chr1_AA-88982-108981-dynamic-1corestotal-allcorepera-20240409-110037-summary.csv  60434          \n",
       "libd_chr1-chr1_AA-libd_chr1-chr1_AA-8982-28981-dynamic-1corestotal-allcorepera-20240409-105417-summary.csv    11042          \n",
       "                                                                                                              runtime_hours\n",
       "libd_chr1-chr1_AA-libd_chr1-chr1_AA-108982-128981-dynamic-1corestotal-allcorepera-20240409-110212-summary.csv 10.517778    \n",
       "libd_chr1-chr1_AA-libd_chr1-chr1_AA-128982-148981-dynamic-1corestotal-allcorepera-20240409-110348-summary.csv  8.822778    \n",
       "libd_chr1-chr1_AA-libd_chr1-chr1_AA-28982-48981-dynamic-1corestotal-allcorepera-20240409-110818-summary.csv    2.856111    \n",
       "libd_chr1-chr1_AA-libd_chr1-chr1_AA-48982-68981-dynamic-1corestotal-allcorepera-20240409-105727-summary.csv    5.585556    \n",
       "libd_chr1-chr1_AA-libd_chr1-chr1_AA-68982-88981-dynamic-1corestotal-allcorepera-20240409-105902-summary.csv    7.682222    \n",
       "libd_chr1-chr1_AA-libd_chr1-chr1_AA-88982-108981-dynamic-1corestotal-allcorepera-20240409-110037-summary.csv  16.787222    \n",
       "libd_chr1-chr1_AA-libd_chr1-chr1_AA-8982-28981-dynamic-1corestotal-allcorepera-20240409-105417-summary.csv     3.067222    \n",
       "                                                                                                              runtime_core_hours\n",
       "libd_chr1-chr1_AA-libd_chr1-chr1_AA-108982-128981-dynamic-1corestotal-allcorepera-20240409-110212-summary.csv 10.517778         \n",
       "libd_chr1-chr1_AA-libd_chr1-chr1_AA-128982-148981-dynamic-1corestotal-allcorepera-20240409-110348-summary.csv  8.822778         \n",
       "libd_chr1-chr1_AA-libd_chr1-chr1_AA-28982-48981-dynamic-1corestotal-allcorepera-20240409-110818-summary.csv    2.856111         \n",
       "libd_chr1-chr1_AA-libd_chr1-chr1_AA-48982-68981-dynamic-1corestotal-allcorepera-20240409-105727-summary.csv    5.585556         \n",
       "libd_chr1-chr1_AA-libd_chr1-chr1_AA-68982-88981-dynamic-1corestotal-allcorepera-20240409-105902-summary.csv    7.682222         \n",
       "libd_chr1-chr1_AA-libd_chr1-chr1_AA-88982-108981-dynamic-1corestotal-allcorepera-20240409-110037-summary.csv  16.787222         \n",
       "libd_chr1-chr1_AA-libd_chr1-chr1_AA-8982-28981-dynamic-1corestotal-allcorepera-20240409-105417-summary.csv     3.067222         \n",
       "                                                                                                              runtime_core_seconds\n",
       "libd_chr1-chr1_AA-libd_chr1-chr1_AA-108982-128981-dynamic-1corestotal-allcorepera-20240409-110212-summary.csv 37864               \n",
       "libd_chr1-chr1_AA-libd_chr1-chr1_AA-128982-148981-dynamic-1corestotal-allcorepera-20240409-110348-summary.csv 31762               \n",
       "libd_chr1-chr1_AA-libd_chr1-chr1_AA-28982-48981-dynamic-1corestotal-allcorepera-20240409-110818-summary.csv   10282               \n",
       "libd_chr1-chr1_AA-libd_chr1-chr1_AA-48982-68981-dynamic-1corestotal-allcorepera-20240409-105727-summary.csv   20108               \n",
       "libd_chr1-chr1_AA-libd_chr1-chr1_AA-68982-88981-dynamic-1corestotal-allcorepera-20240409-105902-summary.csv   27656               \n",
       "libd_chr1-chr1_AA-libd_chr1-chr1_AA-88982-108981-dynamic-1corestotal-allcorepera-20240409-110037-summary.csv  60434               \n",
       "libd_chr1-chr1_AA-libd_chr1-chr1_AA-8982-28981-dynamic-1corestotal-allcorepera-20240409-105417-summary.csv    11042               \n",
       "                                                                                                              core_hours_per_test\n",
       "libd_chr1-chr1_AA-libd_chr1-chr1_AA-108982-128981-dynamic-1corestotal-allcorepera-20240409-110212-summary.csv 0.0005258889       \n",
       "libd_chr1-chr1_AA-libd_chr1-chr1_AA-128982-148981-dynamic-1corestotal-allcorepera-20240409-110348-summary.csv 0.0004411389       \n",
       "libd_chr1-chr1_AA-libd_chr1-chr1_AA-28982-48981-dynamic-1corestotal-allcorepera-20240409-110818-summary.csv   0.0001428056       \n",
       "libd_chr1-chr1_AA-libd_chr1-chr1_AA-48982-68981-dynamic-1corestotal-allcorepera-20240409-105727-summary.csv   0.0002792778       \n",
       "libd_chr1-chr1_AA-libd_chr1-chr1_AA-68982-88981-dynamic-1corestotal-allcorepera-20240409-105902-summary.csv   0.0003841111       \n",
       "libd_chr1-chr1_AA-libd_chr1-chr1_AA-88982-108981-dynamic-1corestotal-allcorepera-20240409-110037-summary.csv  0.0008393611       \n",
       "libd_chr1-chr1_AA-libd_chr1-chr1_AA-8982-28981-dynamic-1corestotal-allcorepera-20240409-105417-summary.csv    0.0001533611       \n",
       "                                                                                                              core_seconds_per_test\n",
       "libd_chr1-chr1_AA-libd_chr1-chr1_AA-108982-128981-dynamic-1corestotal-allcorepera-20240409-110212-summary.csv 1.8932               \n",
       "libd_chr1-chr1_AA-libd_chr1-chr1_AA-128982-148981-dynamic-1corestotal-allcorepera-20240409-110348-summary.csv 1.5881               \n",
       "libd_chr1-chr1_AA-libd_chr1-chr1_AA-28982-48981-dynamic-1corestotal-allcorepera-20240409-110818-summary.csv   0.5141               \n",
       "libd_chr1-chr1_AA-libd_chr1-chr1_AA-48982-68981-dynamic-1corestotal-allcorepera-20240409-105727-summary.csv   1.0054               \n",
       "libd_chr1-chr1_AA-libd_chr1-chr1_AA-68982-88981-dynamic-1corestotal-allcorepera-20240409-105902-summary.csv   1.3828               \n",
       "libd_chr1-chr1_AA-libd_chr1-chr1_AA-88982-108981-dynamic-1corestotal-allcorepera-20240409-110037-summary.csv  3.0217               \n",
       "libd_chr1-chr1_AA-libd_chr1-chr1_AA-8982-28981-dynamic-1corestotal-allcorepera-20240409-105417-summary.csv    0.5521               "
      ]
     },
     "metadata": {},
     "output_type": "display_data"
    }
   ],
   "source": [
    "summary_table"
   ]
  },
  {
   "cell_type": "code",
   "execution_count": 14,
   "id": "fcf6d834-f970-460a-ba8b-9ef44917e6c9",
   "metadata": {},
   "outputs": [],
   "source": [
    "#summary_table[which.min(summary_table$core_hours_per_test), ]"
   ]
  },
  {
   "cell_type": "code",
   "execution_count": 15,
   "id": "7f4deac8-60dd-4576-8c76-135d39fcb03b",
   "metadata": {},
   "outputs": [],
   "source": [
    "data.table::fwrite(summary_table, \"05-OUT_SLURM_benchmarks_a4_many_sites.csv\")"
   ]
  },
  {
   "cell_type": "markdown",
   "id": "793cb57e-aa18-4937-8611-570b1a5d30bb",
   "metadata": {},
   "source": [
    "## How long for whole dataset?"
   ]
  },
  {
   "cell_type": "markdown",
   "id": "f828b901-58a5-44e9-ac09-91a0f8ab69ba",
   "metadata": {},
   "source": [
    "***This is for benchmarks with 500kb windows***"
   ]
  },
  {
   "cell_type": "code",
   "execution_count": 17,
   "id": "757c33bf-efa4-4514-8296-287b73daa560",
   "metadata": {},
   "outputs": [],
   "source": [
    "#summary_table <- summary_table[which(summary_table$num_cores == 1), ]"
   ]
  },
  {
   "cell_type": "code",
   "execution_count": 18,
   "id": "30850d1c-aeee-49e3-94f7-dccfa46414fb",
   "metadata": {},
   "outputs": [],
   "source": [
    "n_sites <- 26000000"
   ]
  },
  {
   "cell_type": "code",
   "execution_count": 19,
   "id": "a682e1d2-85e8-40c0-8b81-7a860b77b4ad",
   "metadata": {},
   "outputs": [
    {
     "data": {
      "text/html": [
       "<style>\n",
       ".list-inline {list-style: none; margin:0; padding: 0}\n",
       ".list-inline>li {display: inline-block}\n",
       ".list-inline>li:not(:last-child)::after {content: \"\\00b7\"; padding: 0 .5ex}\n",
       "</style>\n",
       "<ol class=list-inline><li>0.000525888888888889</li><li>0.000441138888888889</li><li>0.000142805555555556</li><li>0.000279277777777778</li><li>0.000384111111111111</li><li>0.000839361111111111</li><li>0.000153361111111111</li></ol>\n"
      ],
      "text/latex": [
       "\\begin{enumerate*}\n",
       "\\item 0.000525888888888889\n",
       "\\item 0.000441138888888889\n",
       "\\item 0.000142805555555556\n",
       "\\item 0.000279277777777778\n",
       "\\item 0.000384111111111111\n",
       "\\item 0.000839361111111111\n",
       "\\item 0.000153361111111111\n",
       "\\end{enumerate*}\n"
      ],
      "text/markdown": [
       "1. 0.000525888888888889\n",
       "2. 0.000441138888888889\n",
       "3. 0.000142805555555556\n",
       "4. 0.000279277777777778\n",
       "5. 0.000384111111111111\n",
       "6. 0.000839361111111111\n",
       "7. 0.000153361111111111\n",
       "\n",
       "\n"
      ],
      "text/plain": [
       "[1] 0.0005258889 0.0004411389 0.0001428056 0.0002792778 0.0003841111\n",
       "[6] 0.0008393611 0.0001533611"
      ]
     },
     "metadata": {},
     "output_type": "display_data"
    }
   ],
   "source": [
    "summary_table$core_hours_per_test"
   ]
  },
  {
   "cell_type": "code",
   "execution_count": 20,
   "id": "7bcd6f96-7109-4fa3-8db2-076b0e5fe422",
   "metadata": {},
   "outputs": [
    {
     "data": {
      "text/html": [
       "10273.5079365079"
      ],
      "text/latex": [
       "10273.5079365079"
      ],
      "text/markdown": [
       "10273.5079365079"
      ],
      "text/plain": [
       "[1] 10273.51"
      ]
     },
     "metadata": {},
     "output_type": "display_data"
    }
   ],
   "source": [
    "# Core hours for single run over methylation dataset (single brain region, single population dataset)\n",
    "\n",
    "n_sites*mean(summary_table$core_hours_per_test)"
   ]
  },
  {
   "cell_type": "code",
   "execution_count": 19,
   "id": "4c4bc138-d455-46fc-8676-4320ee2af5ab",
   "metadata": {},
   "outputs": [
    {
     "data": {
      "text/html": [
       "12461.9444444444"
      ],
      "text/latex": [
       "12461.9444444444"
      ],
      "text/markdown": [
       "12461.9444444444"
      ],
      "text/plain": [
       "[1] 12461.94"
      ]
     },
     "metadata": {},
     "output_type": "display_data"
    }
   ],
   "source": [
    "# Core hours for single run over methylation dataset (single brain region, single population dataset)\n",
    "\n",
    "n_sites*mean(summary_table$core_hours_per_test)"
   ]
  },
  {
   "cell_type": "code",
   "execution_count": 21,
   "id": "b39dccdd-4a5c-44fa-9156-602c456893ab",
   "metadata": {},
   "outputs": [
    {
     "data": {
      "text/html": [
       "92461.5714285714"
      ],
      "text/latex": [
       "92461.5714285714"
      ],
      "text/markdown": [
       "92461.5714285714"
      ],
      "text/plain": [
       "[1] 92461.57"
      ]
     },
     "metadata": {},
     "output_type": "display_data"
    }
   ],
   "source": [
    "# Core hours for 3 x 3 brain regions x population datasets\n",
    "\n",
    "brain_regions <- 3\n",
    "populations <- 3\n",
    "n_sites*mean(summary_table$core_hours_per_test)*brain_regions*populations"
   ]
  },
  {
   "cell_type": "code",
   "execution_count": null,
   "id": "89a6fdbb-86c7-4fbc-99e0-7f2aeb755842",
   "metadata": {},
   "outputs": [],
   "source": []
  }
 ],
 "metadata": {
  "kernelspec": {
   "display_name": "R",
   "language": "R",
   "name": "ir"
  },
  "language_info": {
   "codemirror_mode": "r",
   "file_extension": ".r",
   "mimetype": "text/x-r-source",
   "name": "R",
   "pygments_lexer": "r",
   "version": "4.3.1"
  }
 },
 "nbformat": 4,
 "nbformat_minor": 5
}
