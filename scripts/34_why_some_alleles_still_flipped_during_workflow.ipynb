{
 "cells": [
  {
   "cell_type": "markdown",
   "id": "82f61e9e-9af6-41a7-b37d-986ad89a34b7",
   "metadata": {},
   "source": [
    "# 34. Why do we still have some alleles being flipped during the workflow, when they all should have been flipped before?"
   ]
  },
  {
   "cell_type": "raw",
   "id": "6ce7a0b3-5115-4900-bf2a-a8cb1efef654",
   "metadata": {},
   "source": [
    "Example:\n",
    "\n",
    "We're flipping alleles due to non-matching entries:\n",
    "[1] \"Non-matching entries in summary_stats_sub:\"\n",
    "     CHR       SNP       BP     A1     A2 FRQ_A_53386 FRQ_U_77258  INFO     OR\n",
    "   <int>    <char>    <int> <char> <char>       <num>       <num> <num>  <num>\n",
    "1:    21 rs1015014 16727404      A      T       0.634       0.625 0.967 1.0287\n",
    "       SE        P   ngt\n",
    "    <num>    <num> <int>\n",
    "1: 0.0091 0.001805     0\n",
    "                                                                      Direction\n",
    "                                                                         <char>\n",
    "1: -+----++--+++++++-----+-+++---+-+--+-+---------+-+--+--++---+-++----+-+----+\n",
    "   HetISqt HetDf  HetPVa   Nca   Nco     Neff      logOR         Z\n",
    "     <num> <int>   <num> <int> <int>    <num>      <num>     <num>\n",
    "1:    21.1    75 0.05842 53386 77258 58749.13 0.02829587 -3.109436\n",
    "[1] \"Non-matching entries in these_SNPs_pvar_dt:\"\n",
    "Key: <#CHROM, POS>\n",
    "   #CHROM      POS        ID    REF    ALT\n",
    "    <int>    <int>    <char> <char> <char>\n",
    "1:     21 16727404 rs1015014      T      A"
   ]
  },
  {
   "cell_type": "markdown",
   "id": "12f3f109-6b60-4960-b9ec-79b4e837b973",
   "metadata": {},
   "source": [
    "## Check out slurm.out file"
   ]
  },
  {
   "cell_type": "code",
   "execution_count": 1,
   "id": "1408fbce-c44f-4b4d-aa78-065dfad3f0a6",
   "metadata": {},
   "outputs": [],
   "source": [
    "import pandas as pd\n",
    "import multiprocessing as mp\n",
    "import os\n",
    "\n",
    "# Define the file path\n",
    "file_path = \"/expanse/lustre/projects/jhu152/naglemi/mwas/CpGWAS/slurm_scripts/slurm_output_21.out\"\n",
    "\n",
    "# Define the column names\n",
    "column_names = ['CHR', 'POS', 'ID', 'A1_REF', 'A2_ALT']\n",
    "\n",
    "def process_lines(lines):\n",
    "    data = []\n",
    "    for line in lines:\n",
    "        if line.lstrip().startswith(tuple(f\"{i}:\" for i in range(1, 1000))):\n",
    "            parts = line.strip().split()\n",
    "\n",
    "            if len(parts) <= 5 or len(parts) == 10:\n",
    "                continue\n",
    "            \n",
    "            if len(parts) == 6:\n",
    "                current_chr = parts[1]  # CHR\n",
    "                current_pos = parts[2]  # POS\n",
    "                current_id = parts[3]   # ID\n",
    "                a1_ref = parts[4]       # A1\n",
    "                a2_alt = parts[5]       # A2\n",
    "            else:\n",
    "                current_chr = parts[1]  # CHR\n",
    "                current_pos = parts[3]  # POS\n",
    "                current_id = parts[2]   # ID\n",
    "                a1_ref = parts[4]       # A1\n",
    "                a2_alt = parts[5]       # A2\n",
    "\n",
    "            data.append([current_chr, current_pos, current_id, a1_ref, a2_alt])\n",
    "    return data\n",
    "\n",
    "def parallel_process(file_path, num_cores=100):\n",
    "    # Read file and split into chunks\n",
    "    with open(file_path) as file:\n",
    "        lines = file.readlines()\n",
    "    \n",
    "    chunk_size = len(lines) // num_cores + 1\n",
    "    chunks = [lines[i:i + chunk_size] for i in range(0, len(lines), chunk_size)]\n",
    "\n",
    "    # Set up multiprocessing pool\n",
    "    pool = mp.Pool(num_cores)\n",
    "    results = pool.map(process_lines, chunks)\n",
    "\n",
    "    # Combine results from all cores\n",
    "    data = [item for sublist in results for item in sublist]\n",
    "    pool.close()\n",
    "    pool.join()\n",
    "\n",
    "    # Convert the data into a pandas DataFrame\n",
    "    df = pd.DataFrame(data, columns=column_names)\n",
    "    return df\n",
    "\n",
    "# Run the parallel processing\n",
    "df = parallel_process(file_path)\n",
    "\n",
    "# Save to a file or process further\n",
    "df.to_csv(\"34-OUT_alleles_still_being_flipped_during_workflow_chr21.csv\", index=False)"
   ]
  },
  {
   "cell_type": "code",
   "execution_count": null,
   "id": "6a1455ed-1b59-4a8d-9cad-6d6d74ff6235",
   "metadata": {},
   "outputs": [],
   "source": [
    "df.head()"
   ]
  },
  {
   "cell_type": "code",
   "execution_count": null,
   "id": "1622d652-e357-4c32-bc33-402008ef97d9",
   "metadata": {},
   "outputs": [],
   "source": [
    "# Save to a file or process further\n",
    "df.to_csv(\"34-OUT_alleles_still_nonmatching.csv\", index=False)"
   ]
  },
  {
   "cell_type": "code",
   "execution_count": null,
   "id": "afd14244-57fa-4dfb-98a8-736c4e5912d9",
   "metadata": {},
   "outputs": [],
   "source": [
    "line"
   ]
  },
  {
   "cell_type": "code",
   "execution_count": null,
   "id": "2c81ec0b-2522-43b7-ab69-8a0583a6e497",
   "metadata": {},
   "outputs": [],
   "source": [
    "parts"
   ]
  },
  {
   "cell_type": "code",
   "execution_count": null,
   "id": "05ea6f18-74b0-4ec6-87b5-a66b48d5339e",
   "metadata": {},
   "outputs": [],
   "source": [
    "parts"
   ]
  },
  {
   "cell_type": "code",
   "execution_count": null,
   "id": "88b56a16-48ad-428c-8248-a622be643a88",
   "metadata": {},
   "outputs": [],
   "source": [
    "# Save to a file or process further\n",
    "df.to_csv(\"34-OUT_alleles_still_being_flipped_during_workflow_chr21.csv\", index=False)"
   ]
  }
 ],
 "metadata": {
  "kernelspec": {
   "display_name": "Python 3 (ipykernel)",
   "language": "python",
   "name": "python3"
  },
  "language_info": {
   "codemirror_mode": {
    "name": "ipython",
    "version": 3
   },
   "file_extension": ".py",
   "mimetype": "text/x-python",
   "name": "python",
   "nbconvert_exporter": "python",
   "pygments_lexer": "ipython3",
   "version": "3.11.7"
  }
 },
 "nbformat": 4,
 "nbformat_minor": 5
}
