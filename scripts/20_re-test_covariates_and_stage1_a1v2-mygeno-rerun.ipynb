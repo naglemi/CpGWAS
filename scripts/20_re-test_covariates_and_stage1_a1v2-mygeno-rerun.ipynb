{
 "cells": [
  {
   "cell_type": "markdown",
   "id": "bf56f1cb-692a-4f54-b026-99e8075d50e8",
   "metadata": {},
   "source": [
    "# Try MWAS with covariates prepared in various ways"
   ]
  },
  {
   "cell_type": "markdown",
   "id": "ca2a80fb-d548-4157-b585-cd5cf6a471d2",
   "metadata": {},
   "source": [
    "# Pick the regions we will test"
   ]
  },
  {
   "cell_type": "code",
   "execution_count": 1,
   "id": "36f713c6-9673-42fe-b9d9-2010f414deda",
   "metadata": {},
   "outputs": [],
   "source": [
    "library(data.table)\n",
    "\n",
    "prev_hits <- fread(\"\n",
    "Chr     pos        old_z       old_p\n",
    "11   38247902        -27.1535308285104       2.30024742330298e-162\n",
    "2    47933357        18.3327793004811        4.53147699327216e-75\n",
    "7    1987910         10.1255085321387        4.25759742738181e-24\n",
    "7    1987896         10.1255085321387        4.25759742738189e-24\n",
    "7    1987797         10.0241523897721        1.19379483108027e-23\n",
    "7    1987778         10.0105851568856        1.36940148731912e-23\n",
    "12   2194742         -10.0072634920486       1.41615523554955e-23\n",
    "\")\n"
   ]
  },
  {
   "cell_type": "code",
   "execution_count": 2,
   "id": "ed1b7512-ee13-4f4e-9a6b-da40e521c346",
   "metadata": {},
   "outputs": [],
   "source": [
    "#df <- fread(\"09.5-OUT_matched_SNP_meth_cov_chunked_EXPANSE_a2.csv\")"
   ]
  },
  {
   "cell_type": "code",
   "execution_count": 3,
   "id": "c6034757-2d3c-43d3-aa16-70baa5169549",
   "metadata": {},
   "outputs": [],
   "source": [
    "df <- fread(\"09-OUT_matched_SNP_meth_cov_a2.csv\")"
   ]
  },
  {
   "cell_type": "markdown",
   "id": "d7711c4d-5f19-4fd0-9f7b-891133ac3311",
   "metadata": {},
   "source": [
    "## Try original code"
   ]
  },
  {
   "cell_type": "code",
   "execution_count": 4,
   "id": "be729eb2-c5b2-4d3e-b835-072d8f5ba2e6",
   "metadata": {},
   "outputs": [],
   "source": [
    "###### model: learn elastic net model on training data \n",
    "######---------Input: trainX, trainY\n",
    "######---------Return: selected features and coefficents\n",
    "\n",
    "elastic.net <- function(trainX,trainY){\n",
    "    if(nrow(trainX)!=length(trainY)){\n",
    "            stop(\"Number of observations is differerent\")\n",
    "    } \n",
    "\n",
    "    # optimize alpha---mixing parameter  \n",
    "    a <- 0.5\n",
    "    search <- foreach(ai = a, .combine = rbind) %dopar% {\n",
    "        cv.fit <- cv.glmnet(\n",
    "                        trainX,\n",
    "                        trainY,\n",
    "                        nfold = 5,\n",
    "                        type.measure = \"mse\",\n",
    "                        paralle = TRUE,\n",
    "                        alpha = ai\n",
    "                        )\n",
    "        data.frame(\n",
    "                        cvm = min(cv.fit$cvm),\n",
    "                        lambda = cv.fit$lambda.min,\n",
    "                        alpha = ai\n",
    "                        )\n",
    "        } \n",
    "    cv.opt <- search[search$cvm == min(search$cvm),] \n",
    "\n",
    "        # fit model by optimized alpha and lambda\n",
    "        yfit = glmnet(\n",
    "        trainX,\n",
    "        trainY,\n",
    "        lambda = cv.opt$lambda,\n",
    "        alpha = cv.opt$alpha\n",
    "                )       \n",
    "        idf <- coef(yfit)\n",
    "        idx <- which(idf != 0)\n",
    "        selectf <- data.frame(\n",
    "                features = idf@Dimnames[[1]][idx], \n",
    "                coefs = idf [idx]\n",
    "        )\n",
    "}\n",
    "\n",
    "MWAS <- function(gwas, weight, geno){\n",
    "        z <- gwas %*% weight\n",
    "        z.cor <- cor(geno)\n",
    "        se <- sqrt(weight %*%  z.cor %*%  weight)\n",
    "        z <- z/se\n",
    "        p=pnorm(abs(z),lower.tail=F)*2\n",
    "        return(c(z, p))\n",
    "}"
   ]
  },
  {
   "cell_type": "code",
   "execution_count": 5,
   "id": "9821a860-2a97-4a7b-bfca-6e8abd96bf8a",
   "metadata": {},
   "outputs": [],
   "source": [
    "df <- df[which(df$Chr == 7), ]"
   ]
  },
  {
   "cell_type": "code",
   "execution_count": 6,
   "id": "a023b2df-92e9-414d-a2e5-a8c6d3193954",
   "metadata": {},
   "outputs": [],
   "source": [
    "i <- 2"
   ]
  },
  {
   "cell_type": "code",
   "execution_count": 7,
   "id": "22de2603-481a-4995-8991-1f6f64989e3d",
   "metadata": {},
   "outputs": [
    {
     "name": "stderr",
     "output_type": "stream",
     "text": [
      "Loading required package: Matrix\n",
      "\n",
      "Loaded glmnet 4.1-8\n",
      "\n",
      "Loading required package: foreach\n",
      "\n",
      "Loading required package: iterators\n",
      "\n",
      "Loading required package: parallel\n",
      "\n"
     ]
    }
   ],
   "source": [
    "library(\"glmnet\")\n",
    "library(\"e1071\")\n",
    "library(\"doParallel\")\n",
    "\n",
    "set.seed(2018)\n",
    "wind <- c(5000,10000)\n",
    "# output directory\n",
    "#outd <- \"/dcl02/lieber/shan/shizhong/finemapping/GWAS/tags/scz3/mwas/chr22/1/\"\n",
    "outd <- \"20-OUT_original_mwas_sanity_test/\""
   ]
  },
  {
   "cell_type": "code",
   "execution_count": 8,
   "id": "f9b051aa-a1e5-421b-856d-718cf85c24a3",
   "metadata": {},
   "outputs": [
    {
     "name": "stderr",
     "output_type": "stream",
     "text": [
      "Loading required package: BiocGenerics\n",
      "\n",
      "\n",
      "Attaching package: ‘BiocGenerics’\n",
      "\n",
      "\n",
      "The following objects are masked from ‘package:stats’:\n",
      "\n",
      "    IQR, mad, sd, var, xtabs\n",
      "\n",
      "\n",
      "The following objects are masked from ‘package:base’:\n",
      "\n",
      "    anyDuplicated, aperm, append, as.data.frame, basename, cbind,\n",
      "    colnames, dirname, do.call, duplicated, eval, evalq, Filter, Find,\n",
      "    get, grep, grepl, intersect, is.unsorted, lapply, Map, mapply,\n",
      "    match, mget, order, paste, pmax, pmax.int, pmin, pmin.int,\n",
      "    Position, rank, rbind, Reduce, rownames, sapply, setdiff, sort,\n",
      "    table, tapply, union, unique, unsplit, which.max, which.min\n",
      "\n",
      "\n",
      "Loading required package: GenomicRanges\n",
      "\n",
      "Loading required package: stats4\n",
      "\n",
      "Loading required package: S4Vectors\n",
      "\n",
      "\n",
      "Attaching package: ‘S4Vectors’\n",
      "\n",
      "\n",
      "The following objects are masked from ‘package:Matrix’:\n",
      "\n",
      "    expand, unname\n",
      "\n",
      "\n",
      "The following objects are masked from ‘package:data.table’:\n",
      "\n",
      "    first, second\n",
      "\n",
      "\n",
      "The following object is masked from ‘package:utils’:\n",
      "\n",
      "    findMatches\n",
      "\n",
      "\n",
      "The following objects are masked from ‘package:base’:\n",
      "\n",
      "    expand.grid, I, unname\n",
      "\n",
      "\n",
      "Loading required package: IRanges\n",
      "\n",
      "\n",
      "Attaching package: ‘IRanges’\n",
      "\n",
      "\n",
      "The following object is masked from ‘package:data.table’:\n",
      "\n",
      "    shift\n",
      "\n",
      "\n",
      "Loading required package: GenomeInfoDb\n",
      "\n",
      "Loading required package: SummarizedExperiment\n",
      "\n",
      "Loading required package: MatrixGenerics\n",
      "\n",
      "Loading required package: matrixStats\n",
      "\n",
      "\n",
      "Attaching package: ‘MatrixGenerics’\n",
      "\n",
      "\n",
      "The following objects are masked from ‘package:matrixStats’:\n",
      "\n",
      "    colAlls, colAnyNAs, colAnys, colAvgsPerRowSet, colCollapse,\n",
      "    colCounts, colCummaxs, colCummins, colCumprods, colCumsums,\n",
      "    colDiffs, colIQRDiffs, colIQRs, colLogSumExps, colMadDiffs,\n",
      "    colMads, colMaxs, colMeans2, colMedians, colMins, colOrderStats,\n",
      "    colProds, colQuantiles, colRanges, colRanks, colSdDiffs, colSds,\n",
      "    colSums2, colTabulates, colVarDiffs, colVars, colWeightedMads,\n",
      "    colWeightedMeans, colWeightedMedians, colWeightedSds,\n",
      "    colWeightedVars, rowAlls, rowAnyNAs, rowAnys, rowAvgsPerColSet,\n",
      "    rowCollapse, rowCounts, rowCummaxs, rowCummins, rowCumprods,\n",
      "    rowCumsums, rowDiffs, rowIQRDiffs, rowIQRs, rowLogSumExps,\n",
      "    rowMadDiffs, rowMads, rowMaxs, rowMeans2, rowMedians, rowMins,\n",
      "    rowOrderStats, rowProds, rowQuantiles, rowRanges, rowRanks,\n",
      "    rowSdDiffs, rowSds, rowSums2, rowTabulates, rowVarDiffs, rowVars,\n",
      "    rowWeightedMads, rowWeightedMeans, rowWeightedMedians,\n",
      "    rowWeightedSds, rowWeightedVars\n",
      "\n",
      "\n",
      "Loading required package: Biobase\n",
      "\n",
      "Welcome to Bioconductor\n",
      "\n",
      "    Vignettes contain introductory material; view with\n",
      "    'browseVignettes()'. To cite Bioconductor, see\n",
      "    'citation(\"Biobase\")', and for packages 'citation(\"pkgname\")'.\n",
      "\n",
      "\n",
      "\n",
      "Attaching package: ‘Biobase’\n",
      "\n",
      "\n",
      "The following object is masked from ‘package:MatrixGenerics’:\n",
      "\n",
      "    rowMedians\n",
      "\n",
      "\n",
      "The following objects are masked from ‘package:matrixStats’:\n",
      "\n",
      "    anyMissing, rowMedians\n",
      "\n",
      "\n"
     ]
    }
   ],
   "source": [
    "suppressWarnings(library(bsseq))"
   ]
  },
  {
   "cell_type": "code",
   "execution_count": 9,
   "id": "e90b99cd-2b98-40e1-bd61-7814f00d9aec",
   "metadata": {},
   "outputs": [],
   "source": [
    "# load data for mwas\n",
    "# load(\"./rda/caudate_mwas_data_chr22.rda\")\n",
    "load(df$methylation_data[i])\n",
    "\n",
    "p <- getMeth(BSobj2)\n",
    "\n",
    "\n",
    "rownames(p) <- start(BSobj2)\n",
    "\n",
    "sites_to_test <- which(start(BSobj2) >= (1987910 - 500) & start(BSobj2) <= (1987910 + 500))\n",
    "p <- p[sites_to_test, ]\n",
    "\n",
    "# candidate cg\n",
    "cg <- as.numeric(rownames(p))\n",
    "\n",
    "# regress out covariates\n",
    "#load(\"covs_for_meqtl.rda\")"
   ]
  },
  {
   "cell_type": "code",
   "execution_count": 24,
   "id": "2a088bc0-abdc-4e7d-a6b5-cc2aacccc54c",
   "metadata": {},
   "outputs": [],
   "source": [
    "load(\"BSsample.rda\")"
   ]
  },
  {
   "cell_type": "code",
   "execution_count": 27,
   "id": "edebe6da-432a-42c2-bed1-d4abfa0d139a",
   "metadata": {},
   "outputs": [
    {
     "data": {
      "text/html": [
       "<table class=\"dataframe\">\n",
       "<caption>A data.frame: 6 × 10</caption>\n",
       "<thead>\n",
       "\t<tr><th></th><th scope=col>ID</th><th scope=col>brnum</th><th scope=col>has_genotype</th><th scope=col>source</th><th scope=col>agedeath</th><th scope=col>sex</th><th scope=col>race</th><th scope=col>primarydx</th><th scope=col>pmi</th><th scope=col>ph</th></tr>\n",
       "\t<tr><th></th><th scope=col>&lt;chr&gt;</th><th scope=col>&lt;chr&gt;</th><th scope=col>&lt;lgl&gt;</th><th scope=col>&lt;fct&gt;</th><th scope=col>&lt;dbl&gt;</th><th scope=col>&lt;fct&gt;</th><th scope=col>&lt;fct&gt;</th><th scope=col>&lt;fct&gt;</th><th scope=col>&lt;dbl&gt;</th><th scope=col>&lt;dbl&gt;</th></tr>\n",
       "</thead>\n",
       "<tbody>\n",
       "\t<tr><th scope=row>1</th><td>LIBD1633_190509</td><td>Br0836</td><td>TRUE</td><td>DC</td><td>20.77</td><td>M</td><td>AA</td><td>Control</td><td>25.5</td><td>6.46</td></tr>\n",
       "\t<tr><th scope=row>2</th><td>LIBD1654_190509</td><td>Br0845</td><td>TRUE</td><td>DC</td><td>24.79</td><td>M</td><td>AA</td><td>Control</td><td>43.5</td><td>6.94</td></tr>\n",
       "\t<tr><th scope=row>3</th><td>LIBD1508_190509</td><td>Br0848</td><td>TRUE</td><td>DC</td><td>22.71</td><td>M</td><td>AA</td><td>Control</td><td>38.5</td><td>6.57</td></tr>\n",
       "\t<tr><th scope=row>4</th><td>LIBD1655_190509</td><td>Br0863</td><td>TRUE</td><td>DC</td><td>43.85</td><td>M</td><td>AA</td><td>Control</td><td>24.5</td><td>6.57</td></tr>\n",
       "\t<tr><th scope=row>5</th><td>LIBD1604_190509</td><td>Br0914</td><td>TRUE</td><td>DC</td><td>19.69</td><td>F</td><td>AA</td><td>Control</td><td>19.0</td><td>6.98</td></tr>\n",
       "\t<tr><th scope=row>6</th><td>LIBD1389_190509</td><td>Br0948</td><td>TRUE</td><td>DC</td><td>45.91</td><td>M</td><td>AA</td><td>Control</td><td>38.5</td><td>6.66</td></tr>\n",
       "</tbody>\n",
       "</table>\n"
      ],
      "text/latex": [
       "A data.frame: 6 × 10\n",
       "\\begin{tabular}{r|llllllllll}\n",
       "  & ID & brnum & has\\_genotype & source & agedeath & sex & race & primarydx & pmi & ph\\\\\n",
       "  & <chr> & <chr> & <lgl> & <fct> & <dbl> & <fct> & <fct> & <fct> & <dbl> & <dbl>\\\\\n",
       "\\hline\n",
       "\t1 & LIBD1633\\_190509 & Br0836 & TRUE & DC & 20.77 & M & AA & Control & 25.5 & 6.46\\\\\n",
       "\t2 & LIBD1654\\_190509 & Br0845 & TRUE & DC & 24.79 & M & AA & Control & 43.5 & 6.94\\\\\n",
       "\t3 & LIBD1508\\_190509 & Br0848 & TRUE & DC & 22.71 & M & AA & Control & 38.5 & 6.57\\\\\n",
       "\t4 & LIBD1655\\_190509 & Br0863 & TRUE & DC & 43.85 & M & AA & Control & 24.5 & 6.57\\\\\n",
       "\t5 & LIBD1604\\_190509 & Br0914 & TRUE & DC & 19.69 & F & AA & Control & 19.0 & 6.98\\\\\n",
       "\t6 & LIBD1389\\_190509 & Br0948 & TRUE & DC & 45.91 & M & AA & Control & 38.5 & 6.66\\\\\n",
       "\\end{tabular}\n"
      ],
      "text/markdown": [
       "\n",
       "A data.frame: 6 × 10\n",
       "\n",
       "| <!--/--> | ID &lt;chr&gt; | brnum &lt;chr&gt; | has_genotype &lt;lgl&gt; | source &lt;fct&gt; | agedeath &lt;dbl&gt; | sex &lt;fct&gt; | race &lt;fct&gt; | primarydx &lt;fct&gt; | pmi &lt;dbl&gt; | ph &lt;dbl&gt; |\n",
       "|---|---|---|---|---|---|---|---|---|---|---|\n",
       "| 1 | LIBD1633_190509 | Br0836 | TRUE | DC | 20.77 | M | AA | Control | 25.5 | 6.46 |\n",
       "| 2 | LIBD1654_190509 | Br0845 | TRUE | DC | 24.79 | M | AA | Control | 43.5 | 6.94 |\n",
       "| 3 | LIBD1508_190509 | Br0848 | TRUE | DC | 22.71 | M | AA | Control | 38.5 | 6.57 |\n",
       "| 4 | LIBD1655_190509 | Br0863 | TRUE | DC | 43.85 | M | AA | Control | 24.5 | 6.57 |\n",
       "| 5 | LIBD1604_190509 | Br0914 | TRUE | DC | 19.69 | F | AA | Control | 19.0 | 6.98 |\n",
       "| 6 | LIBD1389_190509 | Br0948 | TRUE | DC | 45.91 | M | AA | Control | 38.5 | 6.66 |\n",
       "\n"
      ],
      "text/plain": [
       "  ID              brnum  has_genotype source agedeath sex race primarydx pmi \n",
       "1 LIBD1633_190509 Br0836 TRUE         DC     20.77    M   AA   Control   25.5\n",
       "2 LIBD1654_190509 Br0845 TRUE         DC     24.79    M   AA   Control   43.5\n",
       "3 LIBD1508_190509 Br0848 TRUE         DC     22.71    M   AA   Control   38.5\n",
       "4 LIBD1655_190509 Br0863 TRUE         DC     43.85    M   AA   Control   24.5\n",
       "5 LIBD1604_190509 Br0914 TRUE         DC     19.69    F   AA   Control   19.0\n",
       "6 LIBD1389_190509 Br0948 TRUE         DC     45.91    M   AA   Control   38.5\n",
       "  ph  \n",
       "1 6.46\n",
       "2 6.94\n",
       "3 6.57\n",
       "4 6.57\n",
       "5 6.98\n",
       "6 6.66"
      ]
     },
     "metadata": {},
     "output_type": "display_data"
    }
   ],
   "source": [
    "head(BSsample)"
   ]
  },
  {
   "cell_type": "code",
   "execution_count": 26,
   "id": "b327c31d-7eb2-434d-b68b-dbdf23b7a93a",
   "metadata": {},
   "outputs": [
    {
     "data": {
      "text/html": [
       "<table class=\"dataframe\">\n",
       "<caption>A data.frame: 10 × 10</caption>\n",
       "<thead>\n",
       "\t<tr><th></th><th scope=col>ID</th><th scope=col>brnum</th><th scope=col>has_genotype</th><th scope=col>source</th><th scope=col>agedeath</th><th scope=col>sex</th><th scope=col>race</th><th scope=col>primarydx</th><th scope=col>pmi</th><th scope=col>ph</th></tr>\n",
       "\t<tr><th></th><th scope=col>&lt;chr&gt;</th><th scope=col>&lt;chr&gt;</th><th scope=col>&lt;lgl&gt;</th><th scope=col>&lt;fct&gt;</th><th scope=col>&lt;dbl&gt;</th><th scope=col>&lt;fct&gt;</th><th scope=col>&lt;fct&gt;</th><th scope=col>&lt;fct&gt;</th><th scope=col>&lt;dbl&gt;</th><th scope=col>&lt;dbl&gt;</th></tr>\n",
       "</thead>\n",
       "<tbody>\n",
       "\t<tr><th scope=row>1</th><td>LIBD1633_190509</td><td>Br0836</td><td>TRUE</td><td>DC</td><td>20.77</td><td>M</td><td>AA  </td><td>Control</td><td>25.5</td><td>6.46</td></tr>\n",
       "\t<tr><th scope=row>2</th><td>LIBD1654_190509</td><td>Br0845</td><td>TRUE</td><td>DC</td><td>24.79</td><td>M</td><td>AA  </td><td>Control</td><td>43.5</td><td>6.94</td></tr>\n",
       "\t<tr><th scope=row>3</th><td>LIBD1508_190509</td><td>Br0848</td><td>TRUE</td><td>DC</td><td>22.71</td><td>M</td><td>AA  </td><td>Control</td><td>38.5</td><td>6.57</td></tr>\n",
       "\t<tr><th scope=row>4</th><td>LIBD1655_190509</td><td>Br0863</td><td>TRUE</td><td>DC</td><td>43.85</td><td>M</td><td>AA  </td><td>Control</td><td>24.5</td><td>6.57</td></tr>\n",
       "\t<tr><th scope=row>5</th><td>LIBD1604_190509</td><td>Br0914</td><td>TRUE</td><td>DC</td><td>19.69</td><td>F</td><td>AA  </td><td>Control</td><td>19.0</td><td>6.98</td></tr>\n",
       "\t<tr><th scope=row>6</th><td>LIBD1389_190509</td><td>Br0948</td><td>TRUE</td><td>DC</td><td>45.91</td><td>M</td><td>AA  </td><td>Control</td><td>38.5</td><td>6.66</td></tr>\n",
       "\t<tr><th scope=row>7</th><td>LIBD1675_190509</td><td>Br0949</td><td>TRUE</td><td>DC</td><td>18.05</td><td>M</td><td>AA  </td><td>Control</td><td>14.5</td><td>6.97</td></tr>\n",
       "\t<tr><th scope=row>8</th><td>LIBD1470_190509</td><td>Br0963</td><td>TRUE</td><td>DC</td><td>62.63</td><td>F</td><td>AA  </td><td>Schizo </td><td>76.0</td><td>6.38</td></tr>\n",
       "\t<tr><th scope=row>9</th><td>LIBD1434_190509</td><td>Br0983</td><td>TRUE</td><td>DC</td><td>43.38</td><td>M</td><td>CAUC</td><td>Schizo </td><td>25.0</td><td>6.37</td></tr>\n",
       "\t<tr><th scope=row>10</th><td>LIBD1597_190509</td><td>Br0991</td><td>TRUE</td><td>DC</td><td>35.24</td><td>M</td><td>AA  </td><td>Control</td><td>55.5</td><td>6.57</td></tr>\n",
       "</tbody>\n",
       "</table>\n"
      ],
      "text/latex": [
       "A data.frame: 10 × 10\n",
       "\\begin{tabular}{r|llllllllll}\n",
       "  & ID & brnum & has\\_genotype & source & agedeath & sex & race & primarydx & pmi & ph\\\\\n",
       "  & <chr> & <chr> & <lgl> & <fct> & <dbl> & <fct> & <fct> & <fct> & <dbl> & <dbl>\\\\\n",
       "\\hline\n",
       "\t1 & LIBD1633\\_190509 & Br0836 & TRUE & DC & 20.77 & M & AA   & Control & 25.5 & 6.46\\\\\n",
       "\t2 & LIBD1654\\_190509 & Br0845 & TRUE & DC & 24.79 & M & AA   & Control & 43.5 & 6.94\\\\\n",
       "\t3 & LIBD1508\\_190509 & Br0848 & TRUE & DC & 22.71 & M & AA   & Control & 38.5 & 6.57\\\\\n",
       "\t4 & LIBD1655\\_190509 & Br0863 & TRUE & DC & 43.85 & M & AA   & Control & 24.5 & 6.57\\\\\n",
       "\t5 & LIBD1604\\_190509 & Br0914 & TRUE & DC & 19.69 & F & AA   & Control & 19.0 & 6.98\\\\\n",
       "\t6 & LIBD1389\\_190509 & Br0948 & TRUE & DC & 45.91 & M & AA   & Control & 38.5 & 6.66\\\\\n",
       "\t7 & LIBD1675\\_190509 & Br0949 & TRUE & DC & 18.05 & M & AA   & Control & 14.5 & 6.97\\\\\n",
       "\t8 & LIBD1470\\_190509 & Br0963 & TRUE & DC & 62.63 & F & AA   & Schizo  & 76.0 & 6.38\\\\\n",
       "\t9 & LIBD1434\\_190509 & Br0983 & TRUE & DC & 43.38 & M & CAUC & Schizo  & 25.0 & 6.37\\\\\n",
       "\t10 & LIBD1597\\_190509 & Br0991 & TRUE & DC & 35.24 & M & AA   & Control & 55.5 & 6.57\\\\\n",
       "\\end{tabular}\n"
      ],
      "text/markdown": [
       "\n",
       "A data.frame: 10 × 10\n",
       "\n",
       "| <!--/--> | ID &lt;chr&gt; | brnum &lt;chr&gt; | has_genotype &lt;lgl&gt; | source &lt;fct&gt; | agedeath &lt;dbl&gt; | sex &lt;fct&gt; | race &lt;fct&gt; | primarydx &lt;fct&gt; | pmi &lt;dbl&gt; | ph &lt;dbl&gt; |\n",
       "|---|---|---|---|---|---|---|---|---|---|---|\n",
       "| 1 | LIBD1633_190509 | Br0836 | TRUE | DC | 20.77 | M | AA   | Control | 25.5 | 6.46 |\n",
       "| 2 | LIBD1654_190509 | Br0845 | TRUE | DC | 24.79 | M | AA   | Control | 43.5 | 6.94 |\n",
       "| 3 | LIBD1508_190509 | Br0848 | TRUE | DC | 22.71 | M | AA   | Control | 38.5 | 6.57 |\n",
       "| 4 | LIBD1655_190509 | Br0863 | TRUE | DC | 43.85 | M | AA   | Control | 24.5 | 6.57 |\n",
       "| 5 | LIBD1604_190509 | Br0914 | TRUE | DC | 19.69 | F | AA   | Control | 19.0 | 6.98 |\n",
       "| 6 | LIBD1389_190509 | Br0948 | TRUE | DC | 45.91 | M | AA   | Control | 38.5 | 6.66 |\n",
       "| 7 | LIBD1675_190509 | Br0949 | TRUE | DC | 18.05 | M | AA   | Control | 14.5 | 6.97 |\n",
       "| 8 | LIBD1470_190509 | Br0963 | TRUE | DC | 62.63 | F | AA   | Schizo  | 76.0 | 6.38 |\n",
       "| 9 | LIBD1434_190509 | Br0983 | TRUE | DC | 43.38 | M | CAUC | Schizo  | 25.0 | 6.37 |\n",
       "| 10 | LIBD1597_190509 | Br0991 | TRUE | DC | 35.24 | M | AA   | Control | 55.5 | 6.57 |\n",
       "\n"
      ],
      "text/plain": [
       "   ID              brnum  has_genotype source agedeath sex race primarydx pmi \n",
       "1  LIBD1633_190509 Br0836 TRUE         DC     20.77    M   AA   Control   25.5\n",
       "2  LIBD1654_190509 Br0845 TRUE         DC     24.79    M   AA   Control   43.5\n",
       "3  LIBD1508_190509 Br0848 TRUE         DC     22.71    M   AA   Control   38.5\n",
       "4  LIBD1655_190509 Br0863 TRUE         DC     43.85    M   AA   Control   24.5\n",
       "5  LIBD1604_190509 Br0914 TRUE         DC     19.69    F   AA   Control   19.0\n",
       "6  LIBD1389_190509 Br0948 TRUE         DC     45.91    M   AA   Control   38.5\n",
       "7  LIBD1675_190509 Br0949 TRUE         DC     18.05    M   AA   Control   14.5\n",
       "8  LIBD1470_190509 Br0963 TRUE         DC     62.63    F   AA   Schizo    76.0\n",
       "9  LIBD1434_190509 Br0983 TRUE         DC     43.38    M   CAUC Schizo    25.0\n",
       "10 LIBD1597_190509 Br0991 TRUE         DC     35.24    M   AA   Control   55.5\n",
       "   ph  \n",
       "1  6.46\n",
       "2  6.94\n",
       "3  6.57\n",
       "4  6.57\n",
       "5  6.98\n",
       "6  6.66\n",
       "7  6.97\n",
       "8  6.38\n",
       "9  6.37\n",
       "10 6.57"
      ]
     },
     "metadata": {},
     "output_type": "display_data"
    }
   ],
   "source": [
    "BSsample[1:10, 1:10]"
   ]
  },
  {
   "cell_type": "code",
   "execution_count": 25,
   "id": "bc60a3eb-ec50-4a74-af37-f09818dfcc0c",
   "metadata": {},
   "outputs": [
    {
     "data": {
      "text/html": [
       "<style>\n",
       ".list-inline {list-style: none; margin:0; padding: 0}\n",
       ".list-inline>li {display: inline-block}\n",
       ".list-inline>li:not(:last-child)::after {content: \"\\00b7\"; padding: 0 .5ex}\n",
       "</style>\n",
       "<ol class=list-inline><li>'names'</li><li>'class'</li><li>'row.names'</li></ol>\n"
      ],
      "text/latex": [
       "\\begin{enumerate*}\n",
       "\\item 'names'\n",
       "\\item 'class'\n",
       "\\item 'row.names'\n",
       "\\end{enumerate*}\n"
      ],
      "text/markdown": [
       "1. 'names'\n",
       "2. 'class'\n",
       "3. 'row.names'\n",
       "\n",
       "\n"
      ],
      "text/plain": [
       "[1] \"names\"     \"class\"     \"row.names\""
      ]
     },
     "metadata": {},
     "output_type": "display_data"
    }
   ],
   "source": [
    "names(attributes(BSsample))"
   ]
  },
  {
   "cell_type": "code",
   "execution_count": null,
   "id": "907c59e9-2531-4552-b308-c92b8f152faa",
   "metadata": {},
   "outputs": [],
   "source": []
  },
  {
   "cell_type": "code",
   "execution_count": null,
   "id": "54fbe668-b44a-41ec-a6f2-11f895806998",
   "metadata": {},
   "outputs": [],
   "source": []
  },
  {
   "cell_type": "code",
   "execution_count": 10,
   "id": "cc499656-ec9a-45cd-ad05-b17e957eaaa6",
   "metadata": {},
   "outputs": [],
   "source": [
    "covs <- fread(df$cov_file[i])\n",
    "covs <- t(covs)\n",
    "colnames(covs) <- covs[1, ]\n",
    "covs <- covs[2:nrow(covs), ]\n",
    "# transpose so we have same orientation as original code"
   ]
  },
  {
   "cell_type": "code",
   "execution_count": 11,
   "id": "8899261b-73fb-430e-bcdb-143fc8f04670",
   "metadata": {},
   "outputs": [],
   "source": [
    "mat <- match(BSobj2$brnum,colnames(covs)) \n",
    "covs <- t(covs[,mat])\n",
    "p.residual=matrix(NA,dim(p)[1],dim(p)[2])"
   ]
  },
  {
   "cell_type": "code",
   "execution_count": 12,
   "id": "35031e54-4c54-4a37-9997-99b57efa86bf",
   "metadata": {},
   "outputs": [],
   "source": [
    "rownames(covs)[is.na(covs[, 'genoPC1'])] <- BSobj2$brnum[is.na(covs[, 'genoPC1'])]"
   ]
  },
  {
   "cell_type": "code",
   "execution_count": 13,
   "id": "70bda030-7a89-4dff-8c61-f576badfd8bd",
   "metadata": {},
   "outputs": [],
   "source": [
    "colnames(p.residual) <- BSobj2$brnum"
   ]
  },
  {
   "cell_type": "code",
   "execution_count": 14,
   "id": "78ee80f1-d9ea-46b0-b37a-dfeed3dbdf97",
   "metadata": {},
   "outputs": [],
   "source": [
    "covs <- as.data.frame(covs)\n",
    "# Convert all columns except Dx and Sex from character to numeric\n",
    "cols_to_convert <- setdiff(names(covs), c(\"Dx\", \"Sex\"))\n",
    "\n",
    "for (col in cols_to_convert) {\n",
    "  covs[[col]] <- as.numeric(covs[[col]])\n",
    "}\n",
    "\n",
    "# Print the modified data frame to check the conversion\n",
    "#print(dat)\n"
   ]
  },
  {
   "cell_type": "code",
   "execution_count": 15,
   "id": "db709d51-494c-431c-8327-9348dbf0419c",
   "metadata": {},
   "outputs": [],
   "source": [
    "for (i in 1:dim(p)[1]) { # For each methylation site\n",
    "    dat <- as.data.frame(cbind(y = p[i,], covs))\n",
    "    \n",
    "    # Check for rows with NAs (the ones for which we don't have covariate data)\n",
    "    valid_rows <- complete.cases(dat)\n",
    "    \n",
    "    if (sum(valid_rows) > 0) {\n",
    "        dat_valid <- dat[valid_rows,]\n",
    "        model.res <- lm(y ~ ., data = dat_valid)\n",
    "        \n",
    "        # Store residuals in the corresponding positions\n",
    "        p.residual[i, valid_rows] <- resid(model.res)\n",
    "    }\n",
    "}\n",
    "\n",
    "\n",
    "# for(i in 1:dim(p)[1]){ # foro each methylation site\n",
    "#         dat <- as.data.frame(cbind(p[i,],covs))\n",
    "#         colnames(dat) <- c(\"y\",paste0(\"x\",1:ncol(covs)))\n",
    "#         model.res <- lm(reformulate(paste0(\"x\",1:ncol(covs)), \"y\"),dat)\n",
    "#         p.residual[i,] = resid(model.res) \n",
    "# }"
   ]
  },
  {
   "cell_type": "code",
   "execution_count": 16,
   "id": "76af831b-8212-470e-a4e4-9137c45f0b81",
   "metadata": {},
   "outputs": [],
   "source": [
    "inspect <- p.residual\n",
    "colnames(inspect) <- gsub(\"Br0\", \"Br\", colnames(inspect))\n",
    "inspect <- inspect[, order(colnames(inspect))]"
   ]
  },
  {
   "cell_type": "code",
   "execution_count": 17,
   "id": "09e921fb-92e3-41b9-9dd7-577785765367",
   "metadata": {},
   "outputs": [
    {
     "data": {
      "text/html": [
       "<table class=\"dataframe\">\n",
       "<caption>A matrix: 10 × 10 of type dbl</caption>\n",
       "<thead>\n",
       "\t<tr><th scope=col>Br1003</th><th scope=col>Br1004</th><th scope=col>Br1007</th><th scope=col>Br1016</th><th scope=col>Br1017</th><th scope=col>Br1021</th><th scope=col>Br1023</th><th scope=col>Br1030</th><th scope=col>Br1033</th><th scope=col>Br1034</th></tr>\n",
       "</thead>\n",
       "<tbody>\n",
       "\t<tr><td>0.03257891</td><td>0.01985847</td><td>0.01691957</td><td> 0.0060012777</td><td>-0.007263415</td><td>-0.023456398</td><td>-0.02982697</td><td> 0.0228373821</td><td>0.03297282</td><td>0.02401404</td></tr>\n",
       "\t<tr><td>0.03215905</td><td>0.01967398</td><td>0.01716213</td><td> 0.0057195011</td><td>-0.007217071</td><td>-0.023042783</td><td>-0.02957225</td><td> 0.0220174331</td><td>0.03277163</td><td>0.02373302</td></tr>\n",
       "\t<tr><td>0.03077852</td><td>0.01906655</td><td>0.01791941</td><td> 0.0048094823</td><td>-0.007028945</td><td>-0.021680599</td><td>-0.02866728</td><td> 0.0193969365</td><td>0.03208693</td><td>0.02281625</td></tr>\n",
       "\t<tr><td>0.02943789</td><td>0.01847816</td><td>0.01859645</td><td> 0.0039506396</td><td>-0.006802293</td><td>-0.020357128</td><td>-0.02770284</td><td> 0.0169500697</td><td>0.03139325</td><td>0.02193598</td></tr>\n",
       "\t<tr><td>0.02861438</td><td>0.01811793</td><td>0.01898610</td><td> 0.0034351395</td><td>-0.006645031</td><td>-0.019545627</td><td>-0.02707460</td><td> 0.0154904553</td><td>0.03095493</td><td>0.02139836</td></tr>\n",
       "\t<tr><td>0.02768335</td><td>0.01771243</td><td>0.01940548</td><td> 0.0028635353</td><td>-0.006452723</td><td>-0.018631372</td><td>-0.02633618</td><td> 0.0138785303</td><td>0.03044998</td><td>0.02079229</td></tr>\n",
       "\t<tr><td>0.02539013</td><td>0.01672488</td><td>0.02035221</td><td> 0.0015062943</td><td>-0.005922150</td><td>-0.016399324</td><td>-0.02440937</td><td> 0.0100654824</td><td>0.02916825</td><td>0.01930539</td></tr>\n",
       "\t<tr><td>0.02352718</td><td>0.01593283</td><td>0.02104292</td><td> 0.0004543871</td><td>-0.005443023</td><td>-0.014612172</td><td>-0.02274988</td><td> 0.0071180509</td><td>0.02808936</td><td>0.01810355</td></tr>\n",
       "\t<tr><td>0.02193501</td><td>0.01526376</td><td>0.02158426</td><td>-0.0004087996</td><td>-0.005005569</td><td>-0.013106181</td><td>-0.02127722</td><td> 0.0046961344</td><td>0.02714190</td><td>0.01708005</td></tr>\n",
       "\t<tr><td>0.01811024</td><td>0.01368837</td><td>0.02271951</td><td>-0.0023449314</td><td>-0.003865747</td><td>-0.009569197</td><td>-0.01757639</td><td>-0.0007923371</td><td>0.02477187</td><td>0.01462124</td></tr>\n",
       "</tbody>\n",
       "</table>\n"
      ],
      "text/latex": [
       "A matrix: 10 × 10 of type dbl\n",
       "\\begin{tabular}{llllllllll}\n",
       " Br1003 & Br1004 & Br1007 & Br1016 & Br1017 & Br1021 & Br1023 & Br1030 & Br1033 & Br1034\\\\\n",
       "\\hline\n",
       "\t 0.03257891 & 0.01985847 & 0.01691957 &  0.0060012777 & -0.007263415 & -0.023456398 & -0.02982697 &  0.0228373821 & 0.03297282 & 0.02401404\\\\\n",
       "\t 0.03215905 & 0.01967398 & 0.01716213 &  0.0057195011 & -0.007217071 & -0.023042783 & -0.02957225 &  0.0220174331 & 0.03277163 & 0.02373302\\\\\n",
       "\t 0.03077852 & 0.01906655 & 0.01791941 &  0.0048094823 & -0.007028945 & -0.021680599 & -0.02866728 &  0.0193969365 & 0.03208693 & 0.02281625\\\\\n",
       "\t 0.02943789 & 0.01847816 & 0.01859645 &  0.0039506396 & -0.006802293 & -0.020357128 & -0.02770284 &  0.0169500697 & 0.03139325 & 0.02193598\\\\\n",
       "\t 0.02861438 & 0.01811793 & 0.01898610 &  0.0034351395 & -0.006645031 & -0.019545627 & -0.02707460 &  0.0154904553 & 0.03095493 & 0.02139836\\\\\n",
       "\t 0.02768335 & 0.01771243 & 0.01940548 &  0.0028635353 & -0.006452723 & -0.018631372 & -0.02633618 &  0.0138785303 & 0.03044998 & 0.02079229\\\\\n",
       "\t 0.02539013 & 0.01672488 & 0.02035221 &  0.0015062943 & -0.005922150 & -0.016399324 & -0.02440937 &  0.0100654824 & 0.02916825 & 0.01930539\\\\\n",
       "\t 0.02352718 & 0.01593283 & 0.02104292 &  0.0004543871 & -0.005443023 & -0.014612172 & -0.02274988 &  0.0071180509 & 0.02808936 & 0.01810355\\\\\n",
       "\t 0.02193501 & 0.01526376 & 0.02158426 & -0.0004087996 & -0.005005569 & -0.013106181 & -0.02127722 &  0.0046961344 & 0.02714190 & 0.01708005\\\\\n",
       "\t 0.01811024 & 0.01368837 & 0.02271951 & -0.0023449314 & -0.003865747 & -0.009569197 & -0.01757639 & -0.0007923371 & 0.02477187 & 0.01462124\\\\\n",
       "\\end{tabular}\n"
      ],
      "text/markdown": [
       "\n",
       "A matrix: 10 × 10 of type dbl\n",
       "\n",
       "| Br1003 | Br1004 | Br1007 | Br1016 | Br1017 | Br1021 | Br1023 | Br1030 | Br1033 | Br1034 |\n",
       "|---|---|---|---|---|---|---|---|---|---|\n",
       "| 0.03257891 | 0.01985847 | 0.01691957 |  0.0060012777 | -0.007263415 | -0.023456398 | -0.02982697 |  0.0228373821 | 0.03297282 | 0.02401404 |\n",
       "| 0.03215905 | 0.01967398 | 0.01716213 |  0.0057195011 | -0.007217071 | -0.023042783 | -0.02957225 |  0.0220174331 | 0.03277163 | 0.02373302 |\n",
       "| 0.03077852 | 0.01906655 | 0.01791941 |  0.0048094823 | -0.007028945 | -0.021680599 | -0.02866728 |  0.0193969365 | 0.03208693 | 0.02281625 |\n",
       "| 0.02943789 | 0.01847816 | 0.01859645 |  0.0039506396 | -0.006802293 | -0.020357128 | -0.02770284 |  0.0169500697 | 0.03139325 | 0.02193598 |\n",
       "| 0.02861438 | 0.01811793 | 0.01898610 |  0.0034351395 | -0.006645031 | -0.019545627 | -0.02707460 |  0.0154904553 | 0.03095493 | 0.02139836 |\n",
       "| 0.02768335 | 0.01771243 | 0.01940548 |  0.0028635353 | -0.006452723 | -0.018631372 | -0.02633618 |  0.0138785303 | 0.03044998 | 0.02079229 |\n",
       "| 0.02539013 | 0.01672488 | 0.02035221 |  0.0015062943 | -0.005922150 | -0.016399324 | -0.02440937 |  0.0100654824 | 0.02916825 | 0.01930539 |\n",
       "| 0.02352718 | 0.01593283 | 0.02104292 |  0.0004543871 | -0.005443023 | -0.014612172 | -0.02274988 |  0.0071180509 | 0.02808936 | 0.01810355 |\n",
       "| 0.02193501 | 0.01526376 | 0.02158426 | -0.0004087996 | -0.005005569 | -0.013106181 | -0.02127722 |  0.0046961344 | 0.02714190 | 0.01708005 |\n",
       "| 0.01811024 | 0.01368837 | 0.02271951 | -0.0023449314 | -0.003865747 | -0.009569197 | -0.01757639 | -0.0007923371 | 0.02477187 | 0.01462124 |\n",
       "\n"
      ],
      "text/plain": [
       "      Br1003     Br1004     Br1007     Br1016        Br1017       Br1021      \n",
       " [1,] 0.03257891 0.01985847 0.01691957  0.0060012777 -0.007263415 -0.023456398\n",
       " [2,] 0.03215905 0.01967398 0.01716213  0.0057195011 -0.007217071 -0.023042783\n",
       " [3,] 0.03077852 0.01906655 0.01791941  0.0048094823 -0.007028945 -0.021680599\n",
       " [4,] 0.02943789 0.01847816 0.01859645  0.0039506396 -0.006802293 -0.020357128\n",
       " [5,] 0.02861438 0.01811793 0.01898610  0.0034351395 -0.006645031 -0.019545627\n",
       " [6,] 0.02768335 0.01771243 0.01940548  0.0028635353 -0.006452723 -0.018631372\n",
       " [7,] 0.02539013 0.01672488 0.02035221  0.0015062943 -0.005922150 -0.016399324\n",
       " [8,] 0.02352718 0.01593283 0.02104292  0.0004543871 -0.005443023 -0.014612172\n",
       " [9,] 0.02193501 0.01526376 0.02158426 -0.0004087996 -0.005005569 -0.013106181\n",
       "[10,] 0.01811024 0.01368837 0.02271951 -0.0023449314 -0.003865747 -0.009569197\n",
       "      Br1023      Br1030        Br1033     Br1034    \n",
       " [1,] -0.02982697  0.0228373821 0.03297282 0.02401404\n",
       " [2,] -0.02957225  0.0220174331 0.03277163 0.02373302\n",
       " [3,] -0.02866728  0.0193969365 0.03208693 0.02281625\n",
       " [4,] -0.02770284  0.0169500697 0.03139325 0.02193598\n",
       " [5,] -0.02707460  0.0154904553 0.03095493 0.02139836\n",
       " [6,] -0.02633618  0.0138785303 0.03044998 0.02079229\n",
       " [7,] -0.02440937  0.0100654824 0.02916825 0.01930539\n",
       " [8,] -0.02274988  0.0071180509 0.02808936 0.01810355\n",
       " [9,] -0.02127722  0.0046961344 0.02714190 0.01708005\n",
       "[10,] -0.01757639 -0.0007923371 0.02477187 0.01462124"
      ]
     },
     "metadata": {},
     "output_type": "display_data"
    }
   ],
   "source": [
    "inspect[1:10, 1:10]"
   ]
  },
  {
   "cell_type": "code",
   "execution_count": 22,
   "id": "3decf244-4cf4-4b88-a08d-bc264bc2e275",
   "metadata": {},
   "outputs": [
    {
     "data": {
      "text/html": [
       "<style>\n",
       ".list-inline {list-style: none; margin:0; padding: 0}\n",
       ".list-inline>li {display: inline-block}\n",
       ".list-inline>li:not(:last-child)::after {content: \"\\00b7\"; padding: 0 .5ex}\n",
       "</style>\n",
       "<ol class=list-inline><li>308</li><li>10</li></ol>\n"
      ],
      "text/latex": [
       "\\begin{enumerate*}\n",
       "\\item 308\n",
       "\\item 10\n",
       "\\end{enumerate*}\n"
      ],
      "text/markdown": [
       "1. 308\n",
       "2. 10\n",
       "\n",
       "\n"
      ],
      "text/plain": [
       "[1] 308  10"
      ]
     },
     "metadata": {},
     "output_type": "display_data"
    }
   ],
   "source": [
    "dim(BSsample)"
   ]
  },
  {
   "cell_type": "code",
   "execution_count": 23,
   "id": "b26bcd44-a902-4032-9969-9fdb5cc1d1b9",
   "metadata": {},
   "outputs": [
    {
     "data": {
      "text/plain": [
       "DataFrame with 10 rows and 10 columns\n",
       "                ID       brnum has_genotype   source  agedeath      sex\n",
       "       <character> <character>    <logical> <factor> <numeric> <factor>\n",
       "1  LIBD1633_190509      Br0836         TRUE       DC     20.77        M\n",
       "2  LIBD1654_190509      Br0845         TRUE       DC     24.79        M\n",
       "3  LIBD1508_190509      Br0848         TRUE       DC     22.71        M\n",
       "4  LIBD1655_190509      Br0863         TRUE       DC     43.85        M\n",
       "5  LIBD1604_190509      Br0914         TRUE       DC     19.69        F\n",
       "6  LIBD1389_190509      Br0948         TRUE       DC     45.91        M\n",
       "7  LIBD1675_190509      Br0949         TRUE       DC     18.05        M\n",
       "8  LIBD1470_190509      Br0963         TRUE       DC     62.63        F\n",
       "9  LIBD1434_190509      Br0983         TRUE       DC     43.38        M\n",
       "10 LIBD1597_190509      Br0991         TRUE       DC     35.24        M\n",
       "       race primarydx       pmi        ph\n",
       "   <factor>  <factor> <numeric> <numeric>\n",
       "1      AA     Control      25.5      6.46\n",
       "2      AA     Control      43.5      6.94\n",
       "3      AA     Control      38.5      6.57\n",
       "4      AA     Control      24.5      6.57\n",
       "5      AA     Control      19.0      6.98\n",
       "6      AA     Control      38.5      6.66\n",
       "7      AA     Control      14.5      6.97\n",
       "8      AA     Schizo       76.0      6.38\n",
       "9      CAUC   Schizo       25.0      6.37\n",
       "10     AA     Control      55.5      6.57"
      ]
     },
     "metadata": {},
     "output_type": "display_data"
    }
   ],
   "source": [
    "BSsample[1:10, 1:10]"
   ]
  },
  {
   "cell_type": "code",
   "execution_count": 21,
   "id": "156b4648-8ad7-408f-a693-24b2422830db",
   "metadata": {},
   "outputs": [
    {
     "ename": "ERROR",
     "evalue": "Error in getMeth(BSsample): is(BSseq, \"BSseq\") is not TRUE\n",
     "output_type": "error",
     "traceback": [
      "Error in getMeth(BSsample): is(BSseq, \"BSseq\") is not TRUE\nTraceback:\n",
      "1. getMeth(BSsample)",
      "2. stopifnot(is(BSseq, \"BSseq\"))"
     ]
    }
   ],
   "source": [
    "getMeth(BSsample)"
   ]
  },
  {
   "cell_type": "code",
   "execution_count": 19,
   "id": "39dcf7c0-3fe5-4bad-8d3d-599305c08c05",
   "metadata": {},
   "outputs": [
    {
     "data": {
      "text/html": [
       "<style>\n",
       ".list-inline {list-style: none; margin:0; padding: 0}\n",
       ".list-inline>li {display: inline-block}\n",
       ".list-inline>li:not(:last-child)::after {content: \"\\00b7\"; padding: 0 .5ex}\n",
       "</style>\n",
       "<ol class=list-inline><li>'rownames'</li><li>'nrows'</li><li>'listData'</li><li>'elementType'</li><li>'elementMetadata'</li><li>'metadata'</li><li>'class'</li></ol>\n"
      ],
      "text/latex": [
       "\\begin{enumerate*}\n",
       "\\item 'rownames'\n",
       "\\item 'nrows'\n",
       "\\item 'listData'\n",
       "\\item 'elementType'\n",
       "\\item 'elementMetadata'\n",
       "\\item 'metadata'\n",
       "\\item 'class'\n",
       "\\end{enumerate*}\n"
      ],
      "text/markdown": [
       "1. 'rownames'\n",
       "2. 'nrows'\n",
       "3. 'listData'\n",
       "4. 'elementType'\n",
       "5. 'elementMetadata'\n",
       "6. 'metadata'\n",
       "7. 'class'\n",
       "\n",
       "\n"
      ],
      "text/plain": [
       "[1] \"rownames\"        \"nrows\"           \"listData\"        \"elementType\"    \n",
       "[5] \"elementMetadata\" \"metadata\"        \"class\"          "
      ]
     },
     "metadata": {},
     "output_type": "display_data"
    }
   ],
   "source": [
    "names(attributes(BSsample))"
   ]
  },
  {
   "cell_type": "code",
   "execution_count": 18,
   "id": "44f6b191-a277-4bb2-96ec-88025728ee70",
   "metadata": {},
   "outputs": [
    {
     "name": "stdout",
     "output_type": "stream",
     "text": [
      "Loading objects:\n",
      "  snp.gwas2\n",
      "  snp.1kg.eur2\n",
      "  map.1kg.eur2\n",
      "  snp2\n",
      "  map2\n",
      "  p\n",
      "  BSsample\n"
     ]
    }
   ],
   "source": [
    "load(\"p1.rda\", verbose = TRUE)"
   ]
  },
  {
   "cell_type": "code",
   "execution_count": null,
   "id": "cb2161f5-e04c-4981-92fb-aad380bb3057",
   "metadata": {},
   "outputs": [],
   "source": []
  },
  {
   "cell_type": "code",
   "execution_count": null,
   "id": "ea3439f7-1f94-47e4-8ecc-a072cb6e1482",
   "metadata": {},
   "outputs": [],
   "source": []
  },
  {
   "cell_type": "code",
   "execution_count": null,
   "id": "9539e1bc-093e-42b3-80b7-d9f8d3623bd7",
   "metadata": {},
   "outputs": [],
   "source": []
  },
  {
   "cell_type": "code",
   "execution_count": null,
   "id": "3345aee2-0ca7-4261-8ba6-5c99e8b005b2",
   "metadata": {},
   "outputs": [],
   "source": []
  },
  {
   "cell_type": "code",
   "execution_count": 19,
   "id": "461263e5-8c47-40ae-b3e4-03dbea4820e8",
   "metadata": {},
   "outputs": [],
   "source": [
    "wind <- 10000"
   ]
  },
  {
   "cell_type": "code",
   "execution_count": 20,
   "id": "4714a813-116f-4567-a6b1-41bb02df8227",
   "metadata": {},
   "outputs": [],
   "source": [
    "# built predition models\n",
    "idx.ea <- BSobj2$race == \"CAUC\""
   ]
  },
  {
   "cell_type": "code",
   "execution_count": 21,
   "id": "84f086ad-bf9a-4002-9fd0-822cef73679b",
   "metadata": {},
   "outputs": [],
   "source": [
    "snp2 <- snp2[, colnames(snp2) %in% colnames(p.residual)]"
   ]
  },
  {
   "cell_type": "code",
   "execution_count": 22,
   "id": "5563a8dd-1704-4359-85d8-465b04d973a1",
   "metadata": {},
   "outputs": [],
   "source": [
    "library(CpGWAS)"
   ]
  },
  {
   "cell_type": "code",
   "execution_count": 23,
   "id": "686d3435-6e91-45dd-8a9d-06680259071b",
   "metadata": {},
   "outputs": [
    {
     "data": {
      "text/html": [
       "<style>\n",
       ".list-inline {list-style: none; margin:0; padding: 0}\n",
       ".list-inline>li {display: inline-block}\n",
       ".list-inline>li:not(:last-child)::after {content: \"\\00b7\"; padding: 0 .5ex}\n",
       "</style>\n",
       "<ol class=list-inline><li>'/expanse/lustre/projects/jhu152/naglemi/mwas/gwas//libd_chr7.pgen'</li><li>'/expanse/lustre/projects/jhu152/naglemi/mwas/gwas//libd_chr7.pgen'</li><li>'/expanse/lustre/projects/jhu152/naglemi/mwas/gwas//libd_chr7.pgen'</li><li>'/expanse/lustre/projects/jhu152/naglemi/mwas/gwas//libd_chr7.pgen'</li><li>'/expanse/lustre/projects/jhu152/naglemi/mwas/gwas//libd_chr7.pgen'</li><li>'/expanse/lustre/projects/jhu152/naglemi/mwas/gwas//libd_chr7.pgen'</li><li>'/expanse/lustre/projects/jhu152/naglemi/mwas/gwas//libd_chr7.pgen'</li><li>'/expanse/lustre/projects/jhu152/naglemi/mwas/gwas//libd_chr7.pgen'</li><li>'/expanse/lustre/projects/jhu152/naglemi/mwas/gwas//libd_chr7.pgen'</li></ol>\n"
      ],
      "text/latex": [
       "\\begin{enumerate*}\n",
       "\\item '/expanse/lustre/projects/jhu152/naglemi/mwas/gwas//libd\\_chr7.pgen'\n",
       "\\item '/expanse/lustre/projects/jhu152/naglemi/mwas/gwas//libd\\_chr7.pgen'\n",
       "\\item '/expanse/lustre/projects/jhu152/naglemi/mwas/gwas//libd\\_chr7.pgen'\n",
       "\\item '/expanse/lustre/projects/jhu152/naglemi/mwas/gwas//libd\\_chr7.pgen'\n",
       "\\item '/expanse/lustre/projects/jhu152/naglemi/mwas/gwas//libd\\_chr7.pgen'\n",
       "\\item '/expanse/lustre/projects/jhu152/naglemi/mwas/gwas//libd\\_chr7.pgen'\n",
       "\\item '/expanse/lustre/projects/jhu152/naglemi/mwas/gwas//libd\\_chr7.pgen'\n",
       "\\item '/expanse/lustre/projects/jhu152/naglemi/mwas/gwas//libd\\_chr7.pgen'\n",
       "\\item '/expanse/lustre/projects/jhu152/naglemi/mwas/gwas//libd\\_chr7.pgen'\n",
       "\\end{enumerate*}\n"
      ],
      "text/markdown": [
       "1. '/expanse/lustre/projects/jhu152/naglemi/mwas/gwas//libd_chr7.pgen'\n",
       "2. '/expanse/lustre/projects/jhu152/naglemi/mwas/gwas//libd_chr7.pgen'\n",
       "3. '/expanse/lustre/projects/jhu152/naglemi/mwas/gwas//libd_chr7.pgen'\n",
       "4. '/expanse/lustre/projects/jhu152/naglemi/mwas/gwas//libd_chr7.pgen'\n",
       "5. '/expanse/lustre/projects/jhu152/naglemi/mwas/gwas//libd_chr7.pgen'\n",
       "6. '/expanse/lustre/projects/jhu152/naglemi/mwas/gwas//libd_chr7.pgen'\n",
       "7. '/expanse/lustre/projects/jhu152/naglemi/mwas/gwas//libd_chr7.pgen'\n",
       "8. '/expanse/lustre/projects/jhu152/naglemi/mwas/gwas//libd_chr7.pgen'\n",
       "9. '/expanse/lustre/projects/jhu152/naglemi/mwas/gwas//libd_chr7.pgen'\n",
       "\n",
       "\n"
      ],
      "text/plain": [
       "[1] \"/expanse/lustre/projects/jhu152/naglemi/mwas/gwas//libd_chr7.pgen\"\n",
       "[2] \"/expanse/lustre/projects/jhu152/naglemi/mwas/gwas//libd_chr7.pgen\"\n",
       "[3] \"/expanse/lustre/projects/jhu152/naglemi/mwas/gwas//libd_chr7.pgen\"\n",
       "[4] \"/expanse/lustre/projects/jhu152/naglemi/mwas/gwas//libd_chr7.pgen\"\n",
       "[5] \"/expanse/lustre/projects/jhu152/naglemi/mwas/gwas//libd_chr7.pgen\"\n",
       "[6] \"/expanse/lustre/projects/jhu152/naglemi/mwas/gwas//libd_chr7.pgen\"\n",
       "[7] \"/expanse/lustre/projects/jhu152/naglemi/mwas/gwas//libd_chr7.pgen\"\n",
       "[8] \"/expanse/lustre/projects/jhu152/naglemi/mwas/gwas//libd_chr7.pgen\"\n",
       "[9] \"/expanse/lustre/projects/jhu152/naglemi/mwas/gwas//libd_chr7.pgen\""
      ]
     },
     "metadata": {},
     "output_type": "display_data"
    }
   ],
   "source": [
    "df$SNP_data"
   ]
  },
  {
   "cell_type": "code",
   "execution_count": 24,
   "id": "fa9b0dd6-a2ba-4d69-be59-de92eb504296",
   "metadata": {},
   "outputs": [],
   "source": [
    "i <- 2"
   ]
  },
  {
   "cell_type": "code",
   "execution_count": 25,
   "id": "6808e9f8-18d4-42e3-8c3c-cd90c4adb372",
   "metadata": {},
   "outputs": [],
   "source": [
    "snp_data <- loadSNPData(gsub(\"pgen\", \"pvar\", df$SNP_data[i]),\n",
    "                        df$SNP_data[i],\n",
    "                        gsub(\"pgen\", \"psam\", df$SNP_data[i]))"
   ]
  },
  {
   "cell_type": "code",
   "execution_count": 26,
   "id": "63830d0a-8fa3-4d94-be92-6ac8aab38144",
   "metadata": {},
   "outputs": [],
   "source": [
    "snp2_backup <- snp2"
   ]
  },
  {
   "cell_type": "code",
   "execution_count": 27,
   "id": "b0521db1-9859-4da6-8712-64ca124db2a9",
   "metadata": {},
   "outputs": [],
   "source": [
    "colnames(snp2) <- gsub(\"Br0\", \"Br\", colnames(snp2))"
   ]
  },
  {
   "cell_type": "code",
   "execution_count": 28,
   "id": "e1d4d646-d8a1-4f51-a62c-46054af22082",
   "metadata": {},
   "outputs": [
    {
     "data": {
      "text/html": [
       "<table class=\"dataframe\">\n",
       "<caption>A data.frame: 10 × 10</caption>\n",
       "<thead>\n",
       "\t<tr><th></th><th scope=col>Br836</th><th scope=col>Br845</th><th scope=col>Br848</th><th scope=col>Br863</th><th scope=col>Br914</th><th scope=col>Br948</th><th scope=col>Br949</th><th scope=col>Br963</th><th scope=col>Br983</th><th scope=col>Br991</th></tr>\n",
       "\t<tr><th></th><th scope=col>&lt;dbl&gt;</th><th scope=col>&lt;dbl&gt;</th><th scope=col>&lt;dbl&gt;</th><th scope=col>&lt;dbl&gt;</th><th scope=col>&lt;dbl&gt;</th><th scope=col>&lt;dbl&gt;</th><th scope=col>&lt;dbl&gt;</th><th scope=col>&lt;dbl&gt;</th><th scope=col>&lt;dbl&gt;</th><th scope=col>&lt;dbl&gt;</th></tr>\n",
       "</thead>\n",
       "<tbody>\n",
       "\t<tr><th scope=row>chr7:1963098:T:C</th><td>2.000</td><td>2</td><td>2.000</td><td>2</td><td>2.000</td><td>1.999</td><td>2.000</td><td>1.974</td><td>1.000</td><td>2</td></tr>\n",
       "\t<tr><th scope=row>chr7:1963408:C:T</th><td>0.001</td><td>2</td><td>1.991</td><td>0</td><td>1.969</td><td>0.006</td><td>0.004</td><td>0.140</td><td>2.000</td><td>0</td></tr>\n",
       "\t<tr><th scope=row>chr7:1964786:C:T</th><td>2.000</td><td>2</td><td>1.000</td><td>2</td><td>2.000</td><td>2.000</td><td>2.000</td><td>2.000</td><td>1.000</td><td>2</td></tr>\n",
       "\t<tr><th scope=row>chr7:1966112:T:C</th><td>2.000</td><td>2</td><td>1.001</td><td>2</td><td>2.000</td><td>2.000</td><td>2.000</td><td>2.000</td><td>1.002</td><td>2</td></tr>\n",
       "\t<tr><th scope=row>chr7:1973362:G:A</th><td>2.000</td><td>2</td><td>1.095</td><td>2</td><td>2.000</td><td>2.000</td><td>0.004</td><td>2.000</td><td>1.002</td><td>2</td></tr>\n",
       "\t<tr><th scope=row>chr7:1975412:T:G</th><td>2.000</td><td>2</td><td>2.000</td><td>2</td><td>2.000</td><td>2.000</td><td>2.000</td><td>2.000</td><td>1.000</td><td>2</td></tr>\n",
       "\t<tr><th scope=row>chr7:1976335:C:T</th><td>0.000</td><td>2</td><td>1.991</td><td>0</td><td>1.980</td><td>0.024</td><td>2.000</td><td>0.015</td><td>2.000</td><td>0</td></tr>\n",
       "\t<tr><th scope=row>chr7:1977810:C:T</th><td>0.000</td><td>1</td><td>1.000</td><td>0</td><td>0.000</td><td>0.000</td><td>2.000</td><td>0.000</td><td>1.000</td><td>0</td></tr>\n",
       "\t<tr><th scope=row>chr7:1978402:C:T</th><td>0.008</td><td>2</td><td>1.991</td><td>0</td><td>1.981</td><td>0.024</td><td>2.000</td><td>0.015</td><td>2.000</td><td>0</td></tr>\n",
       "\t<tr><th scope=row>chr7:1978783:G:T</th><td>0.000</td><td>2</td><td>1.990</td><td>0</td><td>1.979</td><td>0.024</td><td>2.000</td><td>0.019</td><td>2.000</td><td>0</td></tr>\n",
       "</tbody>\n",
       "</table>\n"
      ],
      "text/latex": [
       "A data.frame: 10 × 10\n",
       "\\begin{tabular}{r|llllllllll}\n",
       "  & Br836 & Br845 & Br848 & Br863 & Br914 & Br948 & Br949 & Br963 & Br983 & Br991\\\\\n",
       "  & <dbl> & <dbl> & <dbl> & <dbl> & <dbl> & <dbl> & <dbl> & <dbl> & <dbl> & <dbl>\\\\\n",
       "\\hline\n",
       "\tchr7:1963098:T:C & 2.000 & 2 & 2.000 & 2 & 2.000 & 1.999 & 2.000 & 1.974 & 1.000 & 2\\\\\n",
       "\tchr7:1963408:C:T & 0.001 & 2 & 1.991 & 0 & 1.969 & 0.006 & 0.004 & 0.140 & 2.000 & 0\\\\\n",
       "\tchr7:1964786:C:T & 2.000 & 2 & 1.000 & 2 & 2.000 & 2.000 & 2.000 & 2.000 & 1.000 & 2\\\\\n",
       "\tchr7:1966112:T:C & 2.000 & 2 & 1.001 & 2 & 2.000 & 2.000 & 2.000 & 2.000 & 1.002 & 2\\\\\n",
       "\tchr7:1973362:G:A & 2.000 & 2 & 1.095 & 2 & 2.000 & 2.000 & 0.004 & 2.000 & 1.002 & 2\\\\\n",
       "\tchr7:1975412:T:G & 2.000 & 2 & 2.000 & 2 & 2.000 & 2.000 & 2.000 & 2.000 & 1.000 & 2\\\\\n",
       "\tchr7:1976335:C:T & 0.000 & 2 & 1.991 & 0 & 1.980 & 0.024 & 2.000 & 0.015 & 2.000 & 0\\\\\n",
       "\tchr7:1977810:C:T & 0.000 & 1 & 1.000 & 0 & 0.000 & 0.000 & 2.000 & 0.000 & 1.000 & 0\\\\\n",
       "\tchr7:1978402:C:T & 0.008 & 2 & 1.991 & 0 & 1.981 & 0.024 & 2.000 & 0.015 & 2.000 & 0\\\\\n",
       "\tchr7:1978783:G:T & 0.000 & 2 & 1.990 & 0 & 1.979 & 0.024 & 2.000 & 0.019 & 2.000 & 0\\\\\n",
       "\\end{tabular}\n"
      ],
      "text/markdown": [
       "\n",
       "A data.frame: 10 × 10\n",
       "\n",
       "| <!--/--> | Br836 &lt;dbl&gt; | Br845 &lt;dbl&gt; | Br848 &lt;dbl&gt; | Br863 &lt;dbl&gt; | Br914 &lt;dbl&gt; | Br948 &lt;dbl&gt; | Br949 &lt;dbl&gt; | Br963 &lt;dbl&gt; | Br983 &lt;dbl&gt; | Br991 &lt;dbl&gt; |\n",
       "|---|---|---|---|---|---|---|---|---|---|---|\n",
       "| chr7:1963098:T:C | 2.000 | 2 | 2.000 | 2 | 2.000 | 1.999 | 2.000 | 1.974 | 1.000 | 2 |\n",
       "| chr7:1963408:C:T | 0.001 | 2 | 1.991 | 0 | 1.969 | 0.006 | 0.004 | 0.140 | 2.000 | 0 |\n",
       "| chr7:1964786:C:T | 2.000 | 2 | 1.000 | 2 | 2.000 | 2.000 | 2.000 | 2.000 | 1.000 | 2 |\n",
       "| chr7:1966112:T:C | 2.000 | 2 | 1.001 | 2 | 2.000 | 2.000 | 2.000 | 2.000 | 1.002 | 2 |\n",
       "| chr7:1973362:G:A | 2.000 | 2 | 1.095 | 2 | 2.000 | 2.000 | 0.004 | 2.000 | 1.002 | 2 |\n",
       "| chr7:1975412:T:G | 2.000 | 2 | 2.000 | 2 | 2.000 | 2.000 | 2.000 | 2.000 | 1.000 | 2 |\n",
       "| chr7:1976335:C:T | 0.000 | 2 | 1.991 | 0 | 1.980 | 0.024 | 2.000 | 0.015 | 2.000 | 0 |\n",
       "| chr7:1977810:C:T | 0.000 | 1 | 1.000 | 0 | 0.000 | 0.000 | 2.000 | 0.000 | 1.000 | 0 |\n",
       "| chr7:1978402:C:T | 0.008 | 2 | 1.991 | 0 | 1.981 | 0.024 | 2.000 | 0.015 | 2.000 | 0 |\n",
       "| chr7:1978783:G:T | 0.000 | 2 | 1.990 | 0 | 1.979 | 0.024 | 2.000 | 0.019 | 2.000 | 0 |\n",
       "\n"
      ],
      "text/plain": [
       "                 Br836 Br845 Br848 Br863 Br914 Br948 Br949 Br963 Br983 Br991\n",
       "chr7:1963098:T:C 2.000 2     2.000 2     2.000 1.999 2.000 1.974 1.000 2    \n",
       "chr7:1963408:C:T 0.001 2     1.991 0     1.969 0.006 0.004 0.140 2.000 0    \n",
       "chr7:1964786:C:T 2.000 2     1.000 2     2.000 2.000 2.000 2.000 1.000 2    \n",
       "chr7:1966112:T:C 2.000 2     1.001 2     2.000 2.000 2.000 2.000 1.002 2    \n",
       "chr7:1973362:G:A 2.000 2     1.095 2     2.000 2.000 0.004 2.000 1.002 2    \n",
       "chr7:1975412:T:G 2.000 2     2.000 2     2.000 2.000 2.000 2.000 1.000 2    \n",
       "chr7:1976335:C:T 0.000 2     1.991 0     1.980 0.024 2.000 0.015 2.000 0    \n",
       "chr7:1977810:C:T 0.000 1     1.000 0     0.000 0.000 2.000 0.000 1.000 0    \n",
       "chr7:1978402:C:T 0.008 2     1.991 0     1.981 0.024 2.000 0.015 2.000 0    \n",
       "chr7:1978783:G:T 0.000 2     1.990 0     1.979 0.024 2.000 0.019 2.000 0    "
      ]
     },
     "metadata": {},
     "output_type": "display_data"
    }
   ],
   "source": [
    "snp2[1:10, 1:10]"
   ]
  },
  {
   "cell_type": "code",
   "execution_count": 29,
   "id": "e73fe753-54c5-4bad-acc2-1c38fc43d5b2",
   "metadata": {},
   "outputs": [
    {
     "data": {
      "text/html": [
       "<style>\n",
       ".list-inline {list-style: none; margin:0; padding: 0}\n",
       ".list-inline>li {display: inline-block}\n",
       ".list-inline>li:not(:last-child)::after {content: \"\\00b7\"; padding: 0 .5ex}\n",
       "</style>\n",
       "<ol class=list-inline><li>56</li><li>297</li></ol>\n"
      ],
      "text/latex": [
       "\\begin{enumerate*}\n",
       "\\item 56\n",
       "\\item 297\n",
       "\\end{enumerate*}\n"
      ],
      "text/markdown": [
       "1. 56\n",
       "2. 297\n",
       "\n",
       "\n"
      ],
      "text/plain": [
       "[1]  56 297"
      ]
     },
     "metadata": {},
     "output_type": "display_data"
    }
   ],
   "source": [
    "dim(snp2)"
   ]
  },
  {
   "cell_type": "markdown",
   "id": "2575cd98-8fe2-4eb7-b873-6e58befbca9a",
   "metadata": {},
   "source": [
    "Why do we have 56 here but less in RStudio environment?"
   ]
  },
  {
   "cell_type": "code",
   "execution_count": 30,
   "id": "8db20cc3-c7a3-4e78-a843-c17bad3ff253",
   "metadata": {},
   "outputs": [
    {
     "data": {
      "text/html": [
       "56"
      ],
      "text/latex": [
       "56"
      ],
      "text/markdown": [
       "56"
      ],
      "text/plain": [
       "[1] 56"
      ]
     },
     "metadata": {},
     "output_type": "display_data"
    }
   ],
   "source": [
    "length(which(snp_data$pvar_dt$ID %in% rownames(snp2)))"
   ]
  },
  {
   "cell_type": "code",
   "execution_count": 31,
   "id": "aed12dde-7950-449f-8d57-b1536afa5223",
   "metadata": {},
   "outputs": [
    {
     "data": {
      "text/html": [
       "<style>\n",
       ".list-inline {list-style: none; margin:0; padding: 0}\n",
       ".list-inline>li {display: inline-block}\n",
       ".list-inline>li:not(:last-child)::after {content: \"\\00b7\"; padding: 0 .5ex}\n",
       "</style>\n",
       "<ol class=list-inline><li>'chr7:1963098:T:C'</li><li>'chr7:1963408:C:T'</li><li>'chr7:1964786:C:T'</li><li>'chr7:1966112:T:C'</li><li>'chr7:1973362:G:A'</li><li>'chr7:1975412:T:G'</li><li>'chr7:1976335:C:T'</li><li>'chr7:1977810:C:T'</li><li>'chr7:1978402:C:T'</li><li>'chr7:1978783:G:T'</li><li>'chr7:1979188:C:A'</li><li>'chr7:1979235:G:A'</li><li>'chr7:1980240:G:A'</li><li>'chr7:1981269:G:C'</li><li>'chr7:1981360:G:A'</li><li>'chr7:1982428:C:G'</li><li>'chr7:1985366:G:C'</li><li>'chr7:1985405:A:G'</li><li>'chr7:1987676:G:T'</li><li>'chr7:1987689:G:A'</li><li>'chr7:1987719:C:T'</li><li>'chr7:1987813:T:C'</li><li>'chr7:1989028:A:C'</li><li>'chr7:1989333:G:T'</li><li>'chr7:1989994:G:C'</li><li>'chr7:1990232:T:C'</li><li>'chr7:1990305:T:C'</li><li>'chr7:1990372:G:C'</li><li>'chr7:1990469:G:A'</li><li>'chr7:1990652:G:T'</li><li>'chr7:1993168:C:T'</li><li>'chr7:1993230:A:T'</li><li>'chr7:1994145:G:C'</li><li>'chr7:1994382:C:T'</li><li>'chr7:1994558:A:G'</li><li>'chr7:1994714:G:A'</li><li>'chr7:1994927:A:G'</li><li>'chr7:1997034:T:G'</li><li>'chr7:1997580:G:A'</li><li>'chr7:1998126:G:A'</li><li>'chr7:1999959:A:C'</li><li>'chr7:2001797:A:G'</li><li>'chr7:2002003:G:A'</li><li>'chr7:2002813:C:T'</li><li>'chr7:2002912:C:G'</li><li>'chr7:2004461:G:C'</li><li>'chr7:2005716:T:C'</li><li>'chr7:2006553:G:C'</li><li>'chr7:2006693:A:G'</li><li>'chr7:2007195:C:T'</li><li>'chr7:2008210:A:G'</li><li>'chr7:2008240:G:A'</li><li>'chr7:2008501:T:C'</li><li>'chr7:2008585:G:C'</li><li>'chr7:2008700:A:G'</li><li>'chr7:2009071:A:G'</li></ol>\n"
      ],
      "text/latex": [
       "\\begin{enumerate*}\n",
       "\\item 'chr7:1963098:T:C'\n",
       "\\item 'chr7:1963408:C:T'\n",
       "\\item 'chr7:1964786:C:T'\n",
       "\\item 'chr7:1966112:T:C'\n",
       "\\item 'chr7:1973362:G:A'\n",
       "\\item 'chr7:1975412:T:G'\n",
       "\\item 'chr7:1976335:C:T'\n",
       "\\item 'chr7:1977810:C:T'\n",
       "\\item 'chr7:1978402:C:T'\n",
       "\\item 'chr7:1978783:G:T'\n",
       "\\item 'chr7:1979188:C:A'\n",
       "\\item 'chr7:1979235:G:A'\n",
       "\\item 'chr7:1980240:G:A'\n",
       "\\item 'chr7:1981269:G:C'\n",
       "\\item 'chr7:1981360:G:A'\n",
       "\\item 'chr7:1982428:C:G'\n",
       "\\item 'chr7:1985366:G:C'\n",
       "\\item 'chr7:1985405:A:G'\n",
       "\\item 'chr7:1987676:G:T'\n",
       "\\item 'chr7:1987689:G:A'\n",
       "\\item 'chr7:1987719:C:T'\n",
       "\\item 'chr7:1987813:T:C'\n",
       "\\item 'chr7:1989028:A:C'\n",
       "\\item 'chr7:1989333:G:T'\n",
       "\\item 'chr7:1989994:G:C'\n",
       "\\item 'chr7:1990232:T:C'\n",
       "\\item 'chr7:1990305:T:C'\n",
       "\\item 'chr7:1990372:G:C'\n",
       "\\item 'chr7:1990469:G:A'\n",
       "\\item 'chr7:1990652:G:T'\n",
       "\\item 'chr7:1993168:C:T'\n",
       "\\item 'chr7:1993230:A:T'\n",
       "\\item 'chr7:1994145:G:C'\n",
       "\\item 'chr7:1994382:C:T'\n",
       "\\item 'chr7:1994558:A:G'\n",
       "\\item 'chr7:1994714:G:A'\n",
       "\\item 'chr7:1994927:A:G'\n",
       "\\item 'chr7:1997034:T:G'\n",
       "\\item 'chr7:1997580:G:A'\n",
       "\\item 'chr7:1998126:G:A'\n",
       "\\item 'chr7:1999959:A:C'\n",
       "\\item 'chr7:2001797:A:G'\n",
       "\\item 'chr7:2002003:G:A'\n",
       "\\item 'chr7:2002813:C:T'\n",
       "\\item 'chr7:2002912:C:G'\n",
       "\\item 'chr7:2004461:G:C'\n",
       "\\item 'chr7:2005716:T:C'\n",
       "\\item 'chr7:2006553:G:C'\n",
       "\\item 'chr7:2006693:A:G'\n",
       "\\item 'chr7:2007195:C:T'\n",
       "\\item 'chr7:2008210:A:G'\n",
       "\\item 'chr7:2008240:G:A'\n",
       "\\item 'chr7:2008501:T:C'\n",
       "\\item 'chr7:2008585:G:C'\n",
       "\\item 'chr7:2008700:A:G'\n",
       "\\item 'chr7:2009071:A:G'\n",
       "\\end{enumerate*}\n"
      ],
      "text/markdown": [
       "1. 'chr7:1963098:T:C'\n",
       "2. 'chr7:1963408:C:T'\n",
       "3. 'chr7:1964786:C:T'\n",
       "4. 'chr7:1966112:T:C'\n",
       "5. 'chr7:1973362:G:A'\n",
       "6. 'chr7:1975412:T:G'\n",
       "7. 'chr7:1976335:C:T'\n",
       "8. 'chr7:1977810:C:T'\n",
       "9. 'chr7:1978402:C:T'\n",
       "10. 'chr7:1978783:G:T'\n",
       "11. 'chr7:1979188:C:A'\n",
       "12. 'chr7:1979235:G:A'\n",
       "13. 'chr7:1980240:G:A'\n",
       "14. 'chr7:1981269:G:C'\n",
       "15. 'chr7:1981360:G:A'\n",
       "16. 'chr7:1982428:C:G'\n",
       "17. 'chr7:1985366:G:C'\n",
       "18. 'chr7:1985405:A:G'\n",
       "19. 'chr7:1987676:G:T'\n",
       "20. 'chr7:1987689:G:A'\n",
       "21. 'chr7:1987719:C:T'\n",
       "22. 'chr7:1987813:T:C'\n",
       "23. 'chr7:1989028:A:C'\n",
       "24. 'chr7:1989333:G:T'\n",
       "25. 'chr7:1989994:G:C'\n",
       "26. 'chr7:1990232:T:C'\n",
       "27. 'chr7:1990305:T:C'\n",
       "28. 'chr7:1990372:G:C'\n",
       "29. 'chr7:1990469:G:A'\n",
       "30. 'chr7:1990652:G:T'\n",
       "31. 'chr7:1993168:C:T'\n",
       "32. 'chr7:1993230:A:T'\n",
       "33. 'chr7:1994145:G:C'\n",
       "34. 'chr7:1994382:C:T'\n",
       "35. 'chr7:1994558:A:G'\n",
       "36. 'chr7:1994714:G:A'\n",
       "37. 'chr7:1994927:A:G'\n",
       "38. 'chr7:1997034:T:G'\n",
       "39. 'chr7:1997580:G:A'\n",
       "40. 'chr7:1998126:G:A'\n",
       "41. 'chr7:1999959:A:C'\n",
       "42. 'chr7:2001797:A:G'\n",
       "43. 'chr7:2002003:G:A'\n",
       "44. 'chr7:2002813:C:T'\n",
       "45. 'chr7:2002912:C:G'\n",
       "46. 'chr7:2004461:G:C'\n",
       "47. 'chr7:2005716:T:C'\n",
       "48. 'chr7:2006553:G:C'\n",
       "49. 'chr7:2006693:A:G'\n",
       "50. 'chr7:2007195:C:T'\n",
       "51. 'chr7:2008210:A:G'\n",
       "52. 'chr7:2008240:G:A'\n",
       "53. 'chr7:2008501:T:C'\n",
       "54. 'chr7:2008585:G:C'\n",
       "55. 'chr7:2008700:A:G'\n",
       "56. 'chr7:2009071:A:G'\n",
       "\n",
       "\n"
      ],
      "text/plain": [
       " [1] \"chr7:1963098:T:C\" \"chr7:1963408:C:T\" \"chr7:1964786:C:T\" \"chr7:1966112:T:C\"\n",
       " [5] \"chr7:1973362:G:A\" \"chr7:1975412:T:G\" \"chr7:1976335:C:T\" \"chr7:1977810:C:T\"\n",
       " [9] \"chr7:1978402:C:T\" \"chr7:1978783:G:T\" \"chr7:1979188:C:A\" \"chr7:1979235:G:A\"\n",
       "[13] \"chr7:1980240:G:A\" \"chr7:1981269:G:C\" \"chr7:1981360:G:A\" \"chr7:1982428:C:G\"\n",
       "[17] \"chr7:1985366:G:C\" \"chr7:1985405:A:G\" \"chr7:1987676:G:T\" \"chr7:1987689:G:A\"\n",
       "[21] \"chr7:1987719:C:T\" \"chr7:1987813:T:C\" \"chr7:1989028:A:C\" \"chr7:1989333:G:T\"\n",
       "[25] \"chr7:1989994:G:C\" \"chr7:1990232:T:C\" \"chr7:1990305:T:C\" \"chr7:1990372:G:C\"\n",
       "[29] \"chr7:1990469:G:A\" \"chr7:1990652:G:T\" \"chr7:1993168:C:T\" \"chr7:1993230:A:T\"\n",
       "[33] \"chr7:1994145:G:C\" \"chr7:1994382:C:T\" \"chr7:1994558:A:G\" \"chr7:1994714:G:A\"\n",
       "[37] \"chr7:1994927:A:G\" \"chr7:1997034:T:G\" \"chr7:1997580:G:A\" \"chr7:1998126:G:A\"\n",
       "[41] \"chr7:1999959:A:C\" \"chr7:2001797:A:G\" \"chr7:2002003:G:A\" \"chr7:2002813:C:T\"\n",
       "[45] \"chr7:2002912:C:G\" \"chr7:2004461:G:C\" \"chr7:2005716:T:C\" \"chr7:2006553:G:C\"\n",
       "[49] \"chr7:2006693:A:G\" \"chr7:2007195:C:T\" \"chr7:2008210:A:G\" \"chr7:2008240:G:A\"\n",
       "[53] \"chr7:2008501:T:C\" \"chr7:2008585:G:C\" \"chr7:2008700:A:G\" \"chr7:2009071:A:G\""
      ]
     },
     "metadata": {},
     "output_type": "display_data"
    }
   ],
   "source": [
    "rownames(snp2)"
   ]
  },
  {
   "cell_type": "code",
   "execution_count": 32,
   "id": "7623c2c8-4ed0-475c-b50d-1efc469899f6",
   "metadata": {},
   "outputs": [
    {
     "data": {
      "text/html": [
       "'chr7:1963098:T:C'"
      ],
      "text/latex": [
       "'chr7:1963098:T:C'"
      ],
      "text/markdown": [
       "'chr7:1963098:T:C'"
      ],
      "text/plain": [
       "[1] \"chr7:1963098:T:C\""
      ]
     },
     "metadata": {},
     "output_type": "display_data"
    }
   ],
   "source": [
    "min(rownames(snp2))"
   ]
  },
  {
   "cell_type": "code",
   "execution_count": null,
   "id": "01296e2f-29d7-4da9-a348-c88b54de434d",
   "metadata": {},
   "outputs": [],
   "source": []
  },
  {
   "cell_type": "code",
   "execution_count": 33,
   "id": "8b1f6616-dbef-40b7-a94f-0500de1398ff",
   "metadata": {},
   "outputs": [],
   "source": [
    "SNPs <- pgenlibr::ReadList(snp_data$pgen,\n",
    "                           which(snp_data$pvar_dt$ID %in% rownames(snp2)))"
   ]
  },
  {
   "cell_type": "code",
   "execution_count": 34,
   "id": "f1077150-994b-41dd-8c7a-533498cbf55e",
   "metadata": {},
   "outputs": [],
   "source": [
    "genotype_IDs <- colnames(snp2)"
   ]
  },
  {
   "cell_type": "code",
   "execution_count": 35,
   "id": "6ad32b65-a3b4-4eb0-8909-c5f61cd7b2da",
   "metadata": {},
   "outputs": [],
   "source": [
    "#genotype_IDs <- gsub(\"Br0\", \"\", genotype_IDs)"
   ]
  },
  {
   "cell_type": "code",
   "execution_count": 36,
   "id": "6b26edb1-31cf-4ce3-a954-24c5ac269853",
   "metadata": {},
   "outputs": [],
   "source": [
    "colnames(SNPs) <- rownames(snp2)"
   ]
  },
  {
   "cell_type": "code",
   "execution_count": 37,
   "id": "60e808ae-3a85-489e-b26b-111c1319decb",
   "metadata": {},
   "outputs": [],
   "source": [
    "rownames(SNPs) <- snp_data$psam$`#IID`"
   ]
  },
  {
   "cell_type": "code",
   "execution_count": 38,
   "id": "69d65e17-428a-4b30-baf1-a2d5ea4009bd",
   "metadata": {},
   "outputs": [],
   "source": [
    "# Filter out rows from geno that are not in genotype_IDs\n",
    "idx_geno <- which(row.names(SNPs) %in% genotype_IDs)\n",
    "geno_filtered <- SNPs[idx_geno, ]"
   ]
  },
  {
   "cell_type": "code",
   "execution_count": 39,
   "id": "851275b8-a1e1-4cde-a321-8647bc466878",
   "metadata": {},
   "outputs": [
    {
     "data": {
      "text/html": [
       "<style>\n",
       ".list-inline {list-style: none; margin:0; padding: 0}\n",
       ".list-inline>li {display: inline-block}\n",
       ".list-inline>li:not(:last-child)::after {content: \"\\00b7\"; padding: 0 .5ex}\n",
       "</style>\n",
       "<ol class=list-inline><li>297</li><li>56</li></ol>\n"
      ],
      "text/latex": [
       "\\begin{enumerate*}\n",
       "\\item 297\n",
       "\\item 56\n",
       "\\end{enumerate*}\n"
      ],
      "text/markdown": [
       "1. 297\n",
       "2. 56\n",
       "\n",
       "\n"
      ],
      "text/plain": [
       "[1] 297  56"
      ]
     },
     "metadata": {},
     "output_type": "display_data"
    }
   ],
   "source": [
    "dim(geno_filtered)"
   ]
  },
  {
   "cell_type": "code",
   "execution_count": 40,
   "id": "6ec80351-7ef1-4320-8cd7-7569e2becf10",
   "metadata": {},
   "outputs": [],
   "source": [
    "# Filter out rows from geno that are not in genotype_IDs\n",
    "idx_geno <- which(row.names(SNPs) %in% genotype_IDs)\n",
    "geno_filtered <- SNPs[idx_geno, ]\n",
    "\n",
    "# Check if both geno and genotype_IDs have the same row names\n",
    "if (length(genotype_IDs) != nrow(geno_filtered) || !all(genotype_IDs %in% row.names(geno_filtered))) {\n",
    "  missing_genotype_IDs <- setdiff(genotype_IDs, row.names(geno_filtered))\n",
    "  stop(paste(\"Missing genotypes:\", paste(missing_genotype_IDs, collapse = \", \")))\n",
    "}\n",
    "\n",
    "# Find the matching indices for reordering\n",
    "match_indices <- match(genotype_IDs, row.names(geno_filtered))\n",
    "\n",
    "# Reorder geno matrix to match the order of genotype_IDs\n",
    "reordered_geno <- geno_filtered[match_indices, ]\n",
    "\n",
    "# Edge case where we only have one SNP in window\n",
    "if (!is.matrix(geno_filtered)) {\n",
    "  geno_filtered <- as.matrix(geno_filtered)\n",
    "}\n",
    "SNPs <- geno_filtered"
   ]
  },
  {
   "cell_type": "code",
   "execution_count": 41,
   "id": "624a06c5-c302-4fee-9afe-6617a194edb8",
   "metadata": {},
   "outputs": [],
   "source": [
    "SNPs <- t(SNPs)"
   ]
  },
  {
   "cell_type": "code",
   "execution_count": 42,
   "id": "5d3e665a-f36d-49f1-be13-8cff3829481d",
   "metadata": {},
   "outputs": [],
   "source": [
    "SNPs <- SNPs[, colnames(snp2)]"
   ]
  },
  {
   "cell_type": "code",
   "execution_count": 43,
   "id": "d447cf73-d1a9-40b5-8f27-57c60c3ff4be",
   "metadata": {},
   "outputs": [
    {
     "data": {
      "text/html": [
       "<table class=\"dataframe\">\n",
       "<caption>A matrix: 10 × 10 of type dbl</caption>\n",
       "<thead>\n",
       "\t<tr><th></th><th scope=col>Br836</th><th scope=col>Br845</th><th scope=col>Br848</th><th scope=col>Br863</th><th scope=col>Br914</th><th scope=col>Br948</th><th scope=col>Br949</th><th scope=col>Br963</th><th scope=col>Br983</th><th scope=col>Br991</th></tr>\n",
       "</thead>\n",
       "<tbody>\n",
       "\t<tr><th scope=row>chr7:1963098:T:C</th><td>0.000000</td><td>0</td><td>0.000000000</td><td>0</td><td>0.00000000</td><td>0.0009765625</td><td>0.000000</td><td>0.02600098</td><td>1.0000000</td><td>0</td></tr>\n",
       "\t<tr><th scope=row>chr7:1963408:C:T</th><td>1.999023</td><td>0</td><td>0.008972168</td><td>2</td><td>0.03100586</td><td>1.9940185547</td><td>1.995972</td><td>1.85998535</td><td>0.0000000</td><td>2</td></tr>\n",
       "\t<tr><th scope=row>chr7:1964786:C:T</th><td>0.000000</td><td>0</td><td>1.000000000</td><td>0</td><td>0.00000000</td><td>0.0000000000</td><td>0.000000</td><td>0.00000000</td><td>1.0000000</td><td>0</td></tr>\n",
       "\t<tr><th scope=row>chr7:1966112:T:C</th><td>0.000000</td><td>0</td><td>0.999023438</td><td>0</td><td>0.00000000</td><td>0.0000000000</td><td>0.000000</td><td>0.00000000</td><td>0.9979858</td><td>0</td></tr>\n",
       "\t<tr><th scope=row>chr7:1973362:G:A</th><td>0.000000</td><td>0</td><td>0.905029297</td><td>0</td><td>0.00000000</td><td>0.0000000000</td><td>1.995972</td><td>0.00000000</td><td>0.9979858</td><td>0</td></tr>\n",
       "\t<tr><th scope=row>chr7:1975412:T:G</th><td>0.000000</td><td>0</td><td>0.000000000</td><td>0</td><td>0.00000000</td><td>0.0000000000</td><td>0.000000</td><td>0.00000000</td><td>1.0000000</td><td>0</td></tr>\n",
       "\t<tr><th scope=row>chr7:1976335:C:T</th><td>2.000000</td><td>0</td><td>0.008972168</td><td>2</td><td>0.02001953</td><td>1.9760131836</td><td>0.000000</td><td>1.98498535</td><td>0.0000000</td><td>2</td></tr>\n",
       "\t<tr><th scope=row>chr7:1977810:C:T</th><td>2.000000</td><td>1</td><td>1.000000000</td><td>2</td><td>2.00000000</td><td>2.0000000000</td><td>0.000000</td><td>2.00000000</td><td>1.0000000</td><td>2</td></tr>\n",
       "\t<tr><th scope=row>chr7:1978402:C:T</th><td>1.992004</td><td>0</td><td>0.008972168</td><td>2</td><td>0.01898193</td><td>1.9760131836</td><td>0.000000</td><td>1.98498535</td><td>0.0000000</td><td>2</td></tr>\n",
       "\t<tr><th scope=row>chr7:1978783:G:T</th><td>2.000000</td><td>0</td><td>0.008972168</td><td>2</td><td>0.02099609</td><td>1.9760131836</td><td>0.000000</td><td>1.98101807</td><td>0.0000000</td><td>2</td></tr>\n",
       "</tbody>\n",
       "</table>\n"
      ],
      "text/latex": [
       "A matrix: 10 × 10 of type dbl\n",
       "\\begin{tabular}{r|llllllllll}\n",
       "  & Br836 & Br845 & Br848 & Br863 & Br914 & Br948 & Br949 & Br963 & Br983 & Br991\\\\\n",
       "\\hline\n",
       "\tchr7:1963098:T:C & 0.000000 & 0 & 0.000000000 & 0 & 0.00000000 & 0.0009765625 & 0.000000 & 0.02600098 & 1.0000000 & 0\\\\\n",
       "\tchr7:1963408:C:T & 1.999023 & 0 & 0.008972168 & 2 & 0.03100586 & 1.9940185547 & 1.995972 & 1.85998535 & 0.0000000 & 2\\\\\n",
       "\tchr7:1964786:C:T & 0.000000 & 0 & 1.000000000 & 0 & 0.00000000 & 0.0000000000 & 0.000000 & 0.00000000 & 1.0000000 & 0\\\\\n",
       "\tchr7:1966112:T:C & 0.000000 & 0 & 0.999023438 & 0 & 0.00000000 & 0.0000000000 & 0.000000 & 0.00000000 & 0.9979858 & 0\\\\\n",
       "\tchr7:1973362:G:A & 0.000000 & 0 & 0.905029297 & 0 & 0.00000000 & 0.0000000000 & 1.995972 & 0.00000000 & 0.9979858 & 0\\\\\n",
       "\tchr7:1975412:T:G & 0.000000 & 0 & 0.000000000 & 0 & 0.00000000 & 0.0000000000 & 0.000000 & 0.00000000 & 1.0000000 & 0\\\\\n",
       "\tchr7:1976335:C:T & 2.000000 & 0 & 0.008972168 & 2 & 0.02001953 & 1.9760131836 & 0.000000 & 1.98498535 & 0.0000000 & 2\\\\\n",
       "\tchr7:1977810:C:T & 2.000000 & 1 & 1.000000000 & 2 & 2.00000000 & 2.0000000000 & 0.000000 & 2.00000000 & 1.0000000 & 2\\\\\n",
       "\tchr7:1978402:C:T & 1.992004 & 0 & 0.008972168 & 2 & 0.01898193 & 1.9760131836 & 0.000000 & 1.98498535 & 0.0000000 & 2\\\\\n",
       "\tchr7:1978783:G:T & 2.000000 & 0 & 0.008972168 & 2 & 0.02099609 & 1.9760131836 & 0.000000 & 1.98101807 & 0.0000000 & 2\\\\\n",
       "\\end{tabular}\n"
      ],
      "text/markdown": [
       "\n",
       "A matrix: 10 × 10 of type dbl\n",
       "\n",
       "| <!--/--> | Br836 | Br845 | Br848 | Br863 | Br914 | Br948 | Br949 | Br963 | Br983 | Br991 |\n",
       "|---|---|---|---|---|---|---|---|---|---|---|\n",
       "| chr7:1963098:T:C | 0.000000 | 0 | 0.000000000 | 0 | 0.00000000 | 0.0009765625 | 0.000000 | 0.02600098 | 1.0000000 | 0 |\n",
       "| chr7:1963408:C:T | 1.999023 | 0 | 0.008972168 | 2 | 0.03100586 | 1.9940185547 | 1.995972 | 1.85998535 | 0.0000000 | 2 |\n",
       "| chr7:1964786:C:T | 0.000000 | 0 | 1.000000000 | 0 | 0.00000000 | 0.0000000000 | 0.000000 | 0.00000000 | 1.0000000 | 0 |\n",
       "| chr7:1966112:T:C | 0.000000 | 0 | 0.999023438 | 0 | 0.00000000 | 0.0000000000 | 0.000000 | 0.00000000 | 0.9979858 | 0 |\n",
       "| chr7:1973362:G:A | 0.000000 | 0 | 0.905029297 | 0 | 0.00000000 | 0.0000000000 | 1.995972 | 0.00000000 | 0.9979858 | 0 |\n",
       "| chr7:1975412:T:G | 0.000000 | 0 | 0.000000000 | 0 | 0.00000000 | 0.0000000000 | 0.000000 | 0.00000000 | 1.0000000 | 0 |\n",
       "| chr7:1976335:C:T | 2.000000 | 0 | 0.008972168 | 2 | 0.02001953 | 1.9760131836 | 0.000000 | 1.98498535 | 0.0000000 | 2 |\n",
       "| chr7:1977810:C:T | 2.000000 | 1 | 1.000000000 | 2 | 2.00000000 | 2.0000000000 | 0.000000 | 2.00000000 | 1.0000000 | 2 |\n",
       "| chr7:1978402:C:T | 1.992004 | 0 | 0.008972168 | 2 | 0.01898193 | 1.9760131836 | 0.000000 | 1.98498535 | 0.0000000 | 2 |\n",
       "| chr7:1978783:G:T | 2.000000 | 0 | 0.008972168 | 2 | 0.02099609 | 1.9760131836 | 0.000000 | 1.98101807 | 0.0000000 | 2 |\n",
       "\n"
      ],
      "text/plain": [
       "                 Br836    Br845 Br848       Br863 Br914      Br948       \n",
       "chr7:1963098:T:C 0.000000 0     0.000000000 0     0.00000000 0.0009765625\n",
       "chr7:1963408:C:T 1.999023 0     0.008972168 2     0.03100586 1.9940185547\n",
       "chr7:1964786:C:T 0.000000 0     1.000000000 0     0.00000000 0.0000000000\n",
       "chr7:1966112:T:C 0.000000 0     0.999023438 0     0.00000000 0.0000000000\n",
       "chr7:1973362:G:A 0.000000 0     0.905029297 0     0.00000000 0.0000000000\n",
       "chr7:1975412:T:G 0.000000 0     0.000000000 0     0.00000000 0.0000000000\n",
       "chr7:1976335:C:T 2.000000 0     0.008972168 2     0.02001953 1.9760131836\n",
       "chr7:1977810:C:T 2.000000 1     1.000000000 2     2.00000000 2.0000000000\n",
       "chr7:1978402:C:T 1.992004 0     0.008972168 2     0.01898193 1.9760131836\n",
       "chr7:1978783:G:T 2.000000 0     0.008972168 2     0.02099609 1.9760131836\n",
       "                 Br949    Br963      Br983     Br991\n",
       "chr7:1963098:T:C 0.000000 0.02600098 1.0000000 0    \n",
       "chr7:1963408:C:T 1.995972 1.85998535 0.0000000 2    \n",
       "chr7:1964786:C:T 0.000000 0.00000000 1.0000000 0    \n",
       "chr7:1966112:T:C 0.000000 0.00000000 0.9979858 0    \n",
       "chr7:1973362:G:A 1.995972 0.00000000 0.9979858 0    \n",
       "chr7:1975412:T:G 0.000000 0.00000000 1.0000000 0    \n",
       "chr7:1976335:C:T 0.000000 1.98498535 0.0000000 2    \n",
       "chr7:1977810:C:T 0.000000 2.00000000 1.0000000 2    \n",
       "chr7:1978402:C:T 0.000000 1.98498535 0.0000000 2    \n",
       "chr7:1978783:G:T 0.000000 1.98101807 0.0000000 2    "
      ]
     },
     "metadata": {},
     "output_type": "display_data"
    }
   ],
   "source": [
    "SNPs[1:10, 1:10]"
   ]
  },
  {
   "cell_type": "code",
   "execution_count": 44,
   "id": "b7ce4aa9-9b24-4a9a-a5de-a8c5920727e6",
   "metadata": {},
   "outputs": [
    {
     "data": {
      "text/html": [
       "<table class=\"dataframe\">\n",
       "<caption>A data.frame: 10 × 10</caption>\n",
       "<thead>\n",
       "\t<tr><th></th><th scope=col>Br836</th><th scope=col>Br845</th><th scope=col>Br848</th><th scope=col>Br863</th><th scope=col>Br914</th><th scope=col>Br948</th><th scope=col>Br949</th><th scope=col>Br963</th><th scope=col>Br983</th><th scope=col>Br991</th></tr>\n",
       "\t<tr><th></th><th scope=col>&lt;dbl&gt;</th><th scope=col>&lt;dbl&gt;</th><th scope=col>&lt;dbl&gt;</th><th scope=col>&lt;dbl&gt;</th><th scope=col>&lt;dbl&gt;</th><th scope=col>&lt;dbl&gt;</th><th scope=col>&lt;dbl&gt;</th><th scope=col>&lt;dbl&gt;</th><th scope=col>&lt;dbl&gt;</th><th scope=col>&lt;dbl&gt;</th></tr>\n",
       "</thead>\n",
       "<tbody>\n",
       "\t<tr><th scope=row>chr7:1963098:T:C</th><td>2.000</td><td>2</td><td>2.000</td><td>2</td><td>2.000</td><td>1.999</td><td>2.000</td><td>1.974</td><td>1.000</td><td>2</td></tr>\n",
       "\t<tr><th scope=row>chr7:1963408:C:T</th><td>0.001</td><td>2</td><td>1.991</td><td>0</td><td>1.969</td><td>0.006</td><td>0.004</td><td>0.140</td><td>2.000</td><td>0</td></tr>\n",
       "\t<tr><th scope=row>chr7:1964786:C:T</th><td>2.000</td><td>2</td><td>1.000</td><td>2</td><td>2.000</td><td>2.000</td><td>2.000</td><td>2.000</td><td>1.000</td><td>2</td></tr>\n",
       "\t<tr><th scope=row>chr7:1966112:T:C</th><td>2.000</td><td>2</td><td>1.001</td><td>2</td><td>2.000</td><td>2.000</td><td>2.000</td><td>2.000</td><td>1.002</td><td>2</td></tr>\n",
       "\t<tr><th scope=row>chr7:1973362:G:A</th><td>2.000</td><td>2</td><td>1.095</td><td>2</td><td>2.000</td><td>2.000</td><td>0.004</td><td>2.000</td><td>1.002</td><td>2</td></tr>\n",
       "\t<tr><th scope=row>chr7:1975412:T:G</th><td>2.000</td><td>2</td><td>2.000</td><td>2</td><td>2.000</td><td>2.000</td><td>2.000</td><td>2.000</td><td>1.000</td><td>2</td></tr>\n",
       "\t<tr><th scope=row>chr7:1976335:C:T</th><td>0.000</td><td>2</td><td>1.991</td><td>0</td><td>1.980</td><td>0.024</td><td>2.000</td><td>0.015</td><td>2.000</td><td>0</td></tr>\n",
       "\t<tr><th scope=row>chr7:1977810:C:T</th><td>0.000</td><td>1</td><td>1.000</td><td>0</td><td>0.000</td><td>0.000</td><td>2.000</td><td>0.000</td><td>1.000</td><td>0</td></tr>\n",
       "\t<tr><th scope=row>chr7:1978402:C:T</th><td>0.008</td><td>2</td><td>1.991</td><td>0</td><td>1.981</td><td>0.024</td><td>2.000</td><td>0.015</td><td>2.000</td><td>0</td></tr>\n",
       "\t<tr><th scope=row>chr7:1978783:G:T</th><td>0.000</td><td>2</td><td>1.990</td><td>0</td><td>1.979</td><td>0.024</td><td>2.000</td><td>0.019</td><td>2.000</td><td>0</td></tr>\n",
       "</tbody>\n",
       "</table>\n"
      ],
      "text/latex": [
       "A data.frame: 10 × 10\n",
       "\\begin{tabular}{r|llllllllll}\n",
       "  & Br836 & Br845 & Br848 & Br863 & Br914 & Br948 & Br949 & Br963 & Br983 & Br991\\\\\n",
       "  & <dbl> & <dbl> & <dbl> & <dbl> & <dbl> & <dbl> & <dbl> & <dbl> & <dbl> & <dbl>\\\\\n",
       "\\hline\n",
       "\tchr7:1963098:T:C & 2.000 & 2 & 2.000 & 2 & 2.000 & 1.999 & 2.000 & 1.974 & 1.000 & 2\\\\\n",
       "\tchr7:1963408:C:T & 0.001 & 2 & 1.991 & 0 & 1.969 & 0.006 & 0.004 & 0.140 & 2.000 & 0\\\\\n",
       "\tchr7:1964786:C:T & 2.000 & 2 & 1.000 & 2 & 2.000 & 2.000 & 2.000 & 2.000 & 1.000 & 2\\\\\n",
       "\tchr7:1966112:T:C & 2.000 & 2 & 1.001 & 2 & 2.000 & 2.000 & 2.000 & 2.000 & 1.002 & 2\\\\\n",
       "\tchr7:1973362:G:A & 2.000 & 2 & 1.095 & 2 & 2.000 & 2.000 & 0.004 & 2.000 & 1.002 & 2\\\\\n",
       "\tchr7:1975412:T:G & 2.000 & 2 & 2.000 & 2 & 2.000 & 2.000 & 2.000 & 2.000 & 1.000 & 2\\\\\n",
       "\tchr7:1976335:C:T & 0.000 & 2 & 1.991 & 0 & 1.980 & 0.024 & 2.000 & 0.015 & 2.000 & 0\\\\\n",
       "\tchr7:1977810:C:T & 0.000 & 1 & 1.000 & 0 & 0.000 & 0.000 & 2.000 & 0.000 & 1.000 & 0\\\\\n",
       "\tchr7:1978402:C:T & 0.008 & 2 & 1.991 & 0 & 1.981 & 0.024 & 2.000 & 0.015 & 2.000 & 0\\\\\n",
       "\tchr7:1978783:G:T & 0.000 & 2 & 1.990 & 0 & 1.979 & 0.024 & 2.000 & 0.019 & 2.000 & 0\\\\\n",
       "\\end{tabular}\n"
      ],
      "text/markdown": [
       "\n",
       "A data.frame: 10 × 10\n",
       "\n",
       "| <!--/--> | Br836 &lt;dbl&gt; | Br845 &lt;dbl&gt; | Br848 &lt;dbl&gt; | Br863 &lt;dbl&gt; | Br914 &lt;dbl&gt; | Br948 &lt;dbl&gt; | Br949 &lt;dbl&gt; | Br963 &lt;dbl&gt; | Br983 &lt;dbl&gt; | Br991 &lt;dbl&gt; |\n",
       "|---|---|---|---|---|---|---|---|---|---|---|\n",
       "| chr7:1963098:T:C | 2.000 | 2 | 2.000 | 2 | 2.000 | 1.999 | 2.000 | 1.974 | 1.000 | 2 |\n",
       "| chr7:1963408:C:T | 0.001 | 2 | 1.991 | 0 | 1.969 | 0.006 | 0.004 | 0.140 | 2.000 | 0 |\n",
       "| chr7:1964786:C:T | 2.000 | 2 | 1.000 | 2 | 2.000 | 2.000 | 2.000 | 2.000 | 1.000 | 2 |\n",
       "| chr7:1966112:T:C | 2.000 | 2 | 1.001 | 2 | 2.000 | 2.000 | 2.000 | 2.000 | 1.002 | 2 |\n",
       "| chr7:1973362:G:A | 2.000 | 2 | 1.095 | 2 | 2.000 | 2.000 | 0.004 | 2.000 | 1.002 | 2 |\n",
       "| chr7:1975412:T:G | 2.000 | 2 | 2.000 | 2 | 2.000 | 2.000 | 2.000 | 2.000 | 1.000 | 2 |\n",
       "| chr7:1976335:C:T | 0.000 | 2 | 1.991 | 0 | 1.980 | 0.024 | 2.000 | 0.015 | 2.000 | 0 |\n",
       "| chr7:1977810:C:T | 0.000 | 1 | 1.000 | 0 | 0.000 | 0.000 | 2.000 | 0.000 | 1.000 | 0 |\n",
       "| chr7:1978402:C:T | 0.008 | 2 | 1.991 | 0 | 1.981 | 0.024 | 2.000 | 0.015 | 2.000 | 0 |\n",
       "| chr7:1978783:G:T | 0.000 | 2 | 1.990 | 0 | 1.979 | 0.024 | 2.000 | 0.019 | 2.000 | 0 |\n",
       "\n"
      ],
      "text/plain": [
       "                 Br836 Br845 Br848 Br863 Br914 Br948 Br949 Br963 Br983 Br991\n",
       "chr7:1963098:T:C 2.000 2     2.000 2     2.000 1.999 2.000 1.974 1.000 2    \n",
       "chr7:1963408:C:T 0.001 2     1.991 0     1.969 0.006 0.004 0.140 2.000 0    \n",
       "chr7:1964786:C:T 2.000 2     1.000 2     2.000 2.000 2.000 2.000 1.000 2    \n",
       "chr7:1966112:T:C 2.000 2     1.001 2     2.000 2.000 2.000 2.000 1.002 2    \n",
       "chr7:1973362:G:A 2.000 2     1.095 2     2.000 2.000 0.004 2.000 1.002 2    \n",
       "chr7:1975412:T:G 2.000 2     2.000 2     2.000 2.000 2.000 2.000 1.000 2    \n",
       "chr7:1976335:C:T 0.000 2     1.991 0     1.980 0.024 2.000 0.015 2.000 0    \n",
       "chr7:1977810:C:T 0.000 1     1.000 0     0.000 0.000 2.000 0.000 1.000 0    \n",
       "chr7:1978402:C:T 0.008 2     1.991 0     1.981 0.024 2.000 0.015 2.000 0    \n",
       "chr7:1978783:G:T 0.000 2     1.990 0     1.979 0.024 2.000 0.019 2.000 0    "
      ]
     },
     "metadata": {},
     "output_type": "display_data"
    }
   ],
   "source": [
    "snp2[1:10, 1:10]"
   ]
  },
  {
   "cell_type": "code",
   "execution_count": 45,
   "id": "6ef108da-7ac2-49b9-8686-942f0fdc5a6b",
   "metadata": {},
   "outputs": [],
   "source": [
    "library(stringr)"
   ]
  },
  {
   "cell_type": "code",
   "execution_count": 46,
   "id": "305409c3-5abb-49c2-9914-6fd958064abf",
   "metadata": {},
   "outputs": [
    {
     "name": "stdout",
     "output_type": "stream",
     "text": [
      "1 \n"
     ]
    },
    {
     "name": "stderr",
     "output_type": "stream",
     "text": [
      "Warning message:\n",
      "“executing %dopar% sequentially: no parallel backend registered”\n"
     ]
    },
    {
     "name": "stdout",
     "output_type": "stream",
     "text": [
      "2 \n",
      "3 \n",
      "4 \n",
      "5 \n",
      "6 \n",
      "7 \n",
      "8 \n",
      "9 \n",
      "10 \n",
      "11 \n",
      "12 \n",
      "13 \n",
      "14 \n",
      "15 \n",
      "16 \n",
      "17 \n",
      "18 \n",
      "19 \n",
      "20 \n",
      "21 \n",
      "22 \n",
      "23 \n",
      "24 \n",
      "25 \n",
      "26 \n",
      "27 \n",
      "28 \n",
      "29 \n",
      "30 \n",
      "31 \n",
      "32 \n",
      "33 \n",
      "34 \n",
      "35 \n",
      "36 \n",
      "37 \n",
      "38 \n",
      "39 \n",
      "40 \n",
      "41 \n",
      "42 \n",
      "43 \n",
      "44 \n",
      "45 \n",
      "46 \n",
      "47 \n",
      "48 \n",
      "49 \n"
     ]
    }
   ],
   "source": [
    "for(k in 1:length(wind)){\n",
    "    models.ea <- c()\n",
    "    models.all <- c()\n",
    "    for(i in 1:length(cg)){\n",
    "            cat(i,\"\\n\")\n",
    "            range1 <- ifelse(cg[i] - wind[k] > 0,cg[i] - wind[k],0)\n",
    "            range2 <- cg[i] + wind[k]\n",
    "            idx <- map2$POS > range1 & map2$POS < range2\n",
    "            # go to next cg if no snps within window\n",
    "            if(sum(idx) <= 1){\n",
    "                    next\n",
    "            }\n",
    "            #geno <- snp2[idx,]\n",
    "            geno <- snp2[idx,]\n",
    "            rownames(geno) <- map2$POS[idx]\n",
    "            trainX <- t(geno)\n",
    "            trainY <- p.residual[i,]\n",
    "            fit <- tryCatch(\n",
    "                    elastic.net(trainX,trainY),\n",
    "                    error = function(e) {return (\"err\")})\n",
    "            if(!is.data.frame(fit)){\n",
    "                if(fit == \"err\"){\n",
    "                    next\n",
    "                }\n",
    "            }\n",
    "            if(nrow(fit) == 0) next\n",
    "\n",
    "            fit$cg <- cg[i]\n",
    "            models.all <- rbind(models.all,fit)\n",
    "            # EA only\n",
    "            trainX <- trainX[idx.ea,]\n",
    "            if(sum(apply(trainX,2,var)!=0) <= 1){\n",
    "                    next\n",
    "            }\n",
    "            trainY <- trainY[idx.ea]\n",
    "            fit <- tryCatch(\n",
    "                    elastic.net(trainX,trainY),\n",
    "                    error = function(e) {return (\"err\")})\n",
    "            if(!is.data.frame(fit)){\n",
    "                if(fit == \"err\"){\n",
    "                    next\n",
    "                }\n",
    "            }\n",
    "            if(nrow(fit) == 0) next\n",
    "            fit$cg <- cg[i]\n",
    "            models.ea <- rbind(models.ea,fit)\n",
    "    }\n",
    "}"
   ]
  },
  {
   "cell_type": "code",
   "execution_count": 47,
   "id": "19eb30d3-ae3b-4210-94b5-76133f16b279",
   "metadata": {},
   "outputs": [
    {
     "data": {
      "text/html": [
       "'err'"
      ],
      "text/latex": [
       "'err'"
      ],
      "text/markdown": [
       "'err'"
      ],
      "text/plain": [
       "[1] \"err\""
      ]
     },
     "metadata": {},
     "output_type": "display_data"
    }
   ],
   "source": [
    "fit"
   ]
  },
  {
   "cell_type": "code",
   "execution_count": 48,
   "id": "3d109e75-bf26-43f5-8a0d-d6bb2f9cbe6b",
   "metadata": {},
   "outputs": [],
   "source": [
    "models.ea <- models.ea[models.ea[,1] != \"(Intercept)\",]\n",
    "models.all <- models.all[models.all[,1] != \"(Intercept)\",]"
   ]
  },
  {
   "cell_type": "code",
   "execution_count": 51,
   "id": "d109d668-e940-47ba-b81b-9422246ffb96",
   "metadata": {},
   "outputs": [
    {
     "data": {
      "text/plain": [
       "NULL"
      ]
     },
     "metadata": {},
     "output_type": "display_data"
    }
   ],
   "source": [
    "models.all"
   ]
  },
  {
   "cell_type": "code",
   "execution_count": 49,
   "id": "ad0d6d07-06f6-403d-8496-5dd34d8ba4b1",
   "metadata": {},
   "outputs": [],
   "source": [
    "if(!dir.exists(outd)) dir.create(outd)"
   ]
  },
  {
   "cell_type": "code",
   "execution_count": 50,
   "id": "882b49b4-c020-49d1-9689-b9aedae0083c",
   "metadata": {},
   "outputs": [
    {
     "ename": "ERROR",
     "evalue": "Error in gwas %*% weight: requires numeric/complex matrix/vector arguments\n",
     "output_type": "error",
     "traceback": [
      "Error in gwas %*% weight: requires numeric/complex matrix/vector arguments\nTraceback:\n",
      "1. MWAS(gwas, weight, t(geno))"
     ]
    }
   ],
   "source": [
    "# mwas by models of all samples\n",
    "cg2 <- unique(models.all$cg)\n",
    "mwas.all <- matrix(0,nrow=length(cg2),ncol=2)\n",
    "for(i in 1:length(cg2)){\n",
    "        pos <- models.all[models.all$cg == cg2[i],1]\n",
    "        gwas <- snp.gwas2$z[is.element(snp.gwas2$pos_hg38, pos)]\n",
    "        weight <- models.all[models.all$cg == cg2[i],2]\n",
    "        geno <- snp.1kg.eur2[match(pos,map.1kg.eur2$POS),]\n",
    "        mwas.all[i,] <- MWAS(gwas, weight, t(geno))\n",
    "}\n",
    "rownames(mwas.all) <- cg2\n",
    "colnames(mwas.all) <- c(\"z\",\"p\")\n",
    "\n",
    "# mwas by models of EA samples\n",
    "cg2 <- unique(models.ea$cg)\n",
    "mwas.ea <- matrix(0,nrow=length(cg2),ncol=2)\n",
    "for(i in 1:length(cg2)){\n",
    "        pos <- models.ea[models.ea$cg == cg2[i],1]\n",
    "        gwas <- snp.gwas2$z[is.element(snp.gwas2$pos_hg38, pos)]\n",
    "        weight <- models.ea[models.ea$cg == cg2[i],2]\n",
    "        geno <- snp.1kg.eur2[match(pos,map.1kg.eur2$POS),]\n",
    "        mwas.ea[i,] <- MWAS(gwas, weight, t(geno))\n",
    "}\n",
    "rownames(mwas.ea) <- cg2\n",
    "colnames(mwas.ea) <- c(\"z\",\"p\")\n",
    "\n",
    "# output models and mwas results\n",
    "outf <- paste0(outd,\"/models-cov1.old.all.wind.\",wind[k])\n",
    "write.csv(models.all,outf)\n",
    "outf <- paste0(outd,\"/models-cov1.old.ea.wind.\",wind[k])\n",
    "write.csv(models.ea,outf)\n",
    "outf <- paste0(outd,\"/mwas-cov1.old.all.wind.\",wind[k])\n",
    "write.csv(mwas.all,outf)\n",
    "outf <- paste0(outd,\"/mwas-cov1.old.ea.wind.\",wind[k])\n",
    "write.csv(mwas.ea,outf)"
   ]
  },
  {
   "cell_type": "code",
   "execution_count": null,
   "id": "1809c0a4-d19d-42c5-8deb-31ed0387d661",
   "metadata": {},
   "outputs": [],
   "source": [
    "head(models.ea)"
   ]
  },
  {
   "cell_type": "code",
   "execution_count": null,
   "id": "18941c5c-bb0f-4cf7-8ed0-0d21cf79c542",
   "metadata": {},
   "outputs": [],
   "source": [
    "head(models.ea)"
   ]
  },
  {
   "cell_type": "code",
   "execution_count": null,
   "id": "864c550b-b05f-43cf-b7db-94dcd04048f6",
   "metadata": {},
   "outputs": [],
   "source": [
    "mwas.all"
   ]
  },
  {
   "cell_type": "code",
   "execution_count": null,
   "id": "218df612-fba5-46c3-8105-c57c0fcdcfa4",
   "metadata": {},
   "outputs": [],
   "source": []
  }
 ],
 "metadata": {
  "kernelspec": {
   "display_name": "R",
   "language": "R",
   "name": "ir"
  },
  "language_info": {
   "codemirror_mode": "r",
   "file_extension": ".r",
   "mimetype": "text/x-r-source",
   "name": "R",
   "pygments_lexer": "r",
   "version": "4.3.1"
  }
 },
 "nbformat": 4,
 "nbformat_minor": 5
}
