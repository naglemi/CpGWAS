{
 "cells": [
  {
   "cell_type": "markdown",
   "id": "1e59a76f-522e-4d87-a14d-8f808ba3b0e2",
   "metadata": {},
   "source": [
    "# Distributions of DNA methylation levels"
   ]
  },
  {
   "cell_type": "markdown",
   "id": "4c3833ee-853a-4d60-8b70-cfdb5af845f0",
   "metadata": {},
   "source": [
    "## Get mean and variance for DNAm levels of all CpGs"
   ]
  },
  {
   "cell_type": "markdown",
   "id": "3ca8e548-2126-4380-9e27-3e5a4d5b3d27",
   "metadata": {},
   "source": [
    "Test out for one"
   ]
  },
  {
   "cell_type": "code",
   "execution_count": 1,
   "id": "38b8fca6-734e-495b-ad0d-2e57cd41df7a",
   "metadata": {},
   "outputs": [],
   "source": [
    "library(data.table)"
   ]
  },
  {
   "cell_type": "code",
   "execution_count": 2,
   "id": "42acd832-0157-4bf1-9851-5532b627f12d",
   "metadata": {},
   "outputs": [],
   "source": [
    "library(CpGWAS)"
   ]
  },
  {
   "cell_type": "code",
   "execution_count": 3,
   "id": "59ec4bdc-57d7-4f01-b439-08373fb57f4a",
   "metadata": {},
   "outputs": [],
   "source": [
    "df <- fread(\"12-OUT_matched_SNP_meth_cov_outputs.csv\")"
   ]
  },
  {
   "cell_type": "code",
   "execution_count": 4,
   "id": "aafa48cc-715e-4742-8444-1b7b72cbe70c",
   "metadata": {},
   "outputs": [],
   "source": [
    "i <- 1"
   ]
  },
  {
   "cell_type": "code",
   "execution_count": 5,
   "id": "ff6c410b-b6cf-4edc-8489-d37359996023",
   "metadata": {},
   "outputs": [
    {
     "data": {
      "text/html": [
       "<table class=\"dataframe\">\n",
       "<caption>A data.table: 6 × 14</caption>\n",
       "<thead>\n",
       "\t<tr><th scope=col>Chr</th><th scope=col>population</th><th scope=col>region</th><th scope=col>chunk_start</th><th scope=col>chunk_end</th><th scope=col>SNP_data</th><th scope=col>methylation_data</th><th scope=col>last_meth_value_with_SNP_coverage</th><th scope=col>first_meth_value_with_SNP_coverage</th><th scope=col>last_meth_index_with_SNP_coverage</th><th scope=col>first_meth_index_with_SNP_coverage</th><th scope=col>cov_file</th><th scope=col>modified_methylation_data</th><th scope=col>path</th></tr>\n",
       "\t<tr><th scope=col>&lt;int&gt;</th><th scope=col>&lt;chr&gt;</th><th scope=col>&lt;chr&gt;</th><th scope=col>&lt;int&gt;</th><th scope=col>&lt;dbl&gt;</th><th scope=col>&lt;chr&gt;</th><th scope=col>&lt;chr&gt;</th><th scope=col>&lt;int&gt;</th><th scope=col>&lt;int&gt;</th><th scope=col>&lt;int&gt;</th><th scope=col>&lt;int&gt;</th><th scope=col>&lt;chr&gt;</th><th scope=col>&lt;chr&gt;</th><th scope=col>&lt;chr&gt;</th></tr>\n",
       "</thead>\n",
       "<tbody>\n",
       "\t<tr><td>1</td><td>AA</td><td>caud</td><td> 8982</td><td>28981</td><td>/dcs04/lieber/statsgen/shizhong/michael/mwas/gwas//libd_chr1.pgen</td><td>/dcs04/lieber/statsgen/shizhong/michael/mwas/pheno/caud/out/chr1_AA.rda</td><td>248918358</td><td>1069461</td><td>2202702</td><td>8982</td><td>/dcs04/lieber/statsgen/mnagle/mwas/full_covariates/AA_caud.csv</td><td>/dcs04/lieber/statsgen/mnagle/mwas/pheno/caud/out/chr1_AA_8982-28981.rds </td><td>..//output_EXPANSE_a2_caud/libd_chr1-chr1_AA-libd_chr1-chr1_AA-8982-28981-dynamic-1corestotal-allcorepera-20240415-104419.rds      </td></tr>\n",
       "\t<tr><td>1</td><td>AA</td><td>caud</td><td> 8982</td><td>28981</td><td>/dcs04/lieber/statsgen/shizhong/michael/mwas/gwas//libd_chr1.pgen</td><td>/dcs04/lieber/statsgen/shizhong/michael/mwas/pheno/caud/out/chr1_AA.rda</td><td>248918358</td><td>1069461</td><td>2202702</td><td>8982</td><td>/dcs04/lieber/statsgen/mnagle/mwas/full_covariates/AA_caud.csv</td><td>/dcs04/lieber/statsgen/mnagle/mwas/pheno/caud/out/chr1_AA_8982-28981.rds </td><td>..//output_EXPANSE_a2_caud/libd_chr1-chr1_AA-libd_chr1-chr1_AA-8982-28981-dynamic-1corestotal-allcorepera-caud-20240510-121942.rds </td></tr>\n",
       "\t<tr><td>1</td><td>AA</td><td>caud</td><td>28982</td><td>48981</td><td>/dcs04/lieber/statsgen/shizhong/michael/mwas/gwas//libd_chr1.pgen</td><td>/dcs04/lieber/statsgen/shizhong/michael/mwas/pheno/caud/out/chr1_AA.rda</td><td>248918358</td><td>1069461</td><td>2202702</td><td>8982</td><td>/dcs04/lieber/statsgen/mnagle/mwas/full_covariates/AA_caud.csv</td><td>/dcs04/lieber/statsgen/mnagle/mwas/pheno/caud/out/chr1_AA_28982-48981.rds</td><td>..//output_EXPANSE_a2_caud/libd_chr1-chr1_AA-libd_chr1-chr1_AA-28982-48981-dynamic-1corestotal-allcorepera-20240415-104820.rds     </td></tr>\n",
       "\t<tr><td>1</td><td>AA</td><td>caud</td><td>28982</td><td>48981</td><td>/dcs04/lieber/statsgen/shizhong/michael/mwas/gwas//libd_chr1.pgen</td><td>/dcs04/lieber/statsgen/shizhong/michael/mwas/pheno/caud/out/chr1_AA.rda</td><td>248918358</td><td>1069461</td><td>2202702</td><td>8982</td><td>/dcs04/lieber/statsgen/mnagle/mwas/full_covariates/AA_caud.csv</td><td>/dcs04/lieber/statsgen/mnagle/mwas/pheno/caud/out/chr1_AA_28982-48981.rds</td><td>..//output_EXPANSE_a2_caud/libd_chr1-chr1_AA-libd_chr1-chr1_AA-28982-48981-dynamic-1corestotal-allcorepera-caud-20240510-122045.rds</td></tr>\n",
       "\t<tr><td>1</td><td>AA</td><td>caud</td><td>48982</td><td>68981</td><td>/dcs04/lieber/statsgen/shizhong/michael/mwas/gwas//libd_chr1.pgen</td><td>/dcs04/lieber/statsgen/shizhong/michael/mwas/pheno/caud/out/chr1_AA.rda</td><td>248918358</td><td>1069461</td><td>2202702</td><td>8982</td><td>/dcs04/lieber/statsgen/mnagle/mwas/full_covariates/AA_caud.csv</td><td>/dcs04/lieber/statsgen/mnagle/mwas/pheno/caud/out/chr1_AA_48982-68981.rds</td><td>..//output_EXPANSE_a2_caud/libd_chr1-chr1_AA-libd_chr1-chr1_AA-48982-68981-dynamic-1corestotal-allcorepera-20240415-105220.rds     </td></tr>\n",
       "\t<tr><td>1</td><td>AA</td><td>caud</td><td>48982</td><td>68981</td><td>/dcs04/lieber/statsgen/shizhong/michael/mwas/gwas//libd_chr1.pgen</td><td>/dcs04/lieber/statsgen/shizhong/michael/mwas/pheno/caud/out/chr1_AA.rda</td><td>248918358</td><td>1069461</td><td>2202702</td><td>8982</td><td>/dcs04/lieber/statsgen/mnagle/mwas/full_covariates/AA_caud.csv</td><td>/dcs04/lieber/statsgen/mnagle/mwas/pheno/caud/out/chr1_AA_48982-68981.rds</td><td>..//output_EXPANSE_a2_caud/libd_chr1-chr1_AA-libd_chr1-chr1_AA-48982-68981-dynamic-1corestotal-allcorepera-caud-20240510-122147.rds</td></tr>\n",
       "</tbody>\n",
       "</table>\n"
      ],
      "text/latex": [
       "A data.table: 6 × 14\n",
       "\\begin{tabular}{llllllllllllll}\n",
       " Chr & population & region & chunk\\_start & chunk\\_end & SNP\\_data & methylation\\_data & last\\_meth\\_value\\_with\\_SNP\\_coverage & first\\_meth\\_value\\_with\\_SNP\\_coverage & last\\_meth\\_index\\_with\\_SNP\\_coverage & first\\_meth\\_index\\_with\\_SNP\\_coverage & cov\\_file & modified\\_methylation\\_data & path\\\\\n",
       " <int> & <chr> & <chr> & <int> & <dbl> & <chr> & <chr> & <int> & <int> & <int> & <int> & <chr> & <chr> & <chr>\\\\\n",
       "\\hline\n",
       "\t 1 & AA & caud &  8982 & 28981 & /dcs04/lieber/statsgen/shizhong/michael/mwas/gwas//libd\\_chr1.pgen & /dcs04/lieber/statsgen/shizhong/michael/mwas/pheno/caud/out/chr1\\_AA.rda & 248918358 & 1069461 & 2202702 & 8982 & /dcs04/lieber/statsgen/mnagle/mwas/full\\_covariates/AA\\_caud.csv & /dcs04/lieber/statsgen/mnagle/mwas/pheno/caud/out/chr1\\_AA\\_8982-28981.rds  & ..//output\\_EXPANSE\\_a2\\_caud/libd\\_chr1-chr1\\_AA-libd\\_chr1-chr1\\_AA-8982-28981-dynamic-1corestotal-allcorepera-20240415-104419.rds      \\\\\n",
       "\t 1 & AA & caud &  8982 & 28981 & /dcs04/lieber/statsgen/shizhong/michael/mwas/gwas//libd\\_chr1.pgen & /dcs04/lieber/statsgen/shizhong/michael/mwas/pheno/caud/out/chr1\\_AA.rda & 248918358 & 1069461 & 2202702 & 8982 & /dcs04/lieber/statsgen/mnagle/mwas/full\\_covariates/AA\\_caud.csv & /dcs04/lieber/statsgen/mnagle/mwas/pheno/caud/out/chr1\\_AA\\_8982-28981.rds  & ..//output\\_EXPANSE\\_a2\\_caud/libd\\_chr1-chr1\\_AA-libd\\_chr1-chr1\\_AA-8982-28981-dynamic-1corestotal-allcorepera-caud-20240510-121942.rds \\\\\n",
       "\t 1 & AA & caud & 28982 & 48981 & /dcs04/lieber/statsgen/shizhong/michael/mwas/gwas//libd\\_chr1.pgen & /dcs04/lieber/statsgen/shizhong/michael/mwas/pheno/caud/out/chr1\\_AA.rda & 248918358 & 1069461 & 2202702 & 8982 & /dcs04/lieber/statsgen/mnagle/mwas/full\\_covariates/AA\\_caud.csv & /dcs04/lieber/statsgen/mnagle/mwas/pheno/caud/out/chr1\\_AA\\_28982-48981.rds & ..//output\\_EXPANSE\\_a2\\_caud/libd\\_chr1-chr1\\_AA-libd\\_chr1-chr1\\_AA-28982-48981-dynamic-1corestotal-allcorepera-20240415-104820.rds     \\\\\n",
       "\t 1 & AA & caud & 28982 & 48981 & /dcs04/lieber/statsgen/shizhong/michael/mwas/gwas//libd\\_chr1.pgen & /dcs04/lieber/statsgen/shizhong/michael/mwas/pheno/caud/out/chr1\\_AA.rda & 248918358 & 1069461 & 2202702 & 8982 & /dcs04/lieber/statsgen/mnagle/mwas/full\\_covariates/AA\\_caud.csv & /dcs04/lieber/statsgen/mnagle/mwas/pheno/caud/out/chr1\\_AA\\_28982-48981.rds & ..//output\\_EXPANSE\\_a2\\_caud/libd\\_chr1-chr1\\_AA-libd\\_chr1-chr1\\_AA-28982-48981-dynamic-1corestotal-allcorepera-caud-20240510-122045.rds\\\\\n",
       "\t 1 & AA & caud & 48982 & 68981 & /dcs04/lieber/statsgen/shizhong/michael/mwas/gwas//libd\\_chr1.pgen & /dcs04/lieber/statsgen/shizhong/michael/mwas/pheno/caud/out/chr1\\_AA.rda & 248918358 & 1069461 & 2202702 & 8982 & /dcs04/lieber/statsgen/mnagle/mwas/full\\_covariates/AA\\_caud.csv & /dcs04/lieber/statsgen/mnagle/mwas/pheno/caud/out/chr1\\_AA\\_48982-68981.rds & ..//output\\_EXPANSE\\_a2\\_caud/libd\\_chr1-chr1\\_AA-libd\\_chr1-chr1\\_AA-48982-68981-dynamic-1corestotal-allcorepera-20240415-105220.rds     \\\\\n",
       "\t 1 & AA & caud & 48982 & 68981 & /dcs04/lieber/statsgen/shizhong/michael/mwas/gwas//libd\\_chr1.pgen & /dcs04/lieber/statsgen/shizhong/michael/mwas/pheno/caud/out/chr1\\_AA.rda & 248918358 & 1069461 & 2202702 & 8982 & /dcs04/lieber/statsgen/mnagle/mwas/full\\_covariates/AA\\_caud.csv & /dcs04/lieber/statsgen/mnagle/mwas/pheno/caud/out/chr1\\_AA\\_48982-68981.rds & ..//output\\_EXPANSE\\_a2\\_caud/libd\\_chr1-chr1\\_AA-libd\\_chr1-chr1\\_AA-48982-68981-dynamic-1corestotal-allcorepera-caud-20240510-122147.rds\\\\\n",
       "\\end{tabular}\n"
      ],
      "text/markdown": [
       "\n",
       "A data.table: 6 × 14\n",
       "\n",
       "| Chr &lt;int&gt; | population &lt;chr&gt; | region &lt;chr&gt; | chunk_start &lt;int&gt; | chunk_end &lt;dbl&gt; | SNP_data &lt;chr&gt; | methylation_data &lt;chr&gt; | last_meth_value_with_SNP_coverage &lt;int&gt; | first_meth_value_with_SNP_coverage &lt;int&gt; | last_meth_index_with_SNP_coverage &lt;int&gt; | first_meth_index_with_SNP_coverage &lt;int&gt; | cov_file &lt;chr&gt; | modified_methylation_data &lt;chr&gt; | path &lt;chr&gt; |\n",
       "|---|---|---|---|---|---|---|---|---|---|---|---|---|---|\n",
       "| 1 | AA | caud |  8982 | 28981 | /dcs04/lieber/statsgen/shizhong/michael/mwas/gwas//libd_chr1.pgen | /dcs04/lieber/statsgen/shizhong/michael/mwas/pheno/caud/out/chr1_AA.rda | 248918358 | 1069461 | 2202702 | 8982 | /dcs04/lieber/statsgen/mnagle/mwas/full_covariates/AA_caud.csv | /dcs04/lieber/statsgen/mnagle/mwas/pheno/caud/out/chr1_AA_8982-28981.rds  | ..//output_EXPANSE_a2_caud/libd_chr1-chr1_AA-libd_chr1-chr1_AA-8982-28981-dynamic-1corestotal-allcorepera-20240415-104419.rds       |\n",
       "| 1 | AA | caud |  8982 | 28981 | /dcs04/lieber/statsgen/shizhong/michael/mwas/gwas//libd_chr1.pgen | /dcs04/lieber/statsgen/shizhong/michael/mwas/pheno/caud/out/chr1_AA.rda | 248918358 | 1069461 | 2202702 | 8982 | /dcs04/lieber/statsgen/mnagle/mwas/full_covariates/AA_caud.csv | /dcs04/lieber/statsgen/mnagle/mwas/pheno/caud/out/chr1_AA_8982-28981.rds  | ..//output_EXPANSE_a2_caud/libd_chr1-chr1_AA-libd_chr1-chr1_AA-8982-28981-dynamic-1corestotal-allcorepera-caud-20240510-121942.rds  |\n",
       "| 1 | AA | caud | 28982 | 48981 | /dcs04/lieber/statsgen/shizhong/michael/mwas/gwas//libd_chr1.pgen | /dcs04/lieber/statsgen/shizhong/michael/mwas/pheno/caud/out/chr1_AA.rda | 248918358 | 1069461 | 2202702 | 8982 | /dcs04/lieber/statsgen/mnagle/mwas/full_covariates/AA_caud.csv | /dcs04/lieber/statsgen/mnagle/mwas/pheno/caud/out/chr1_AA_28982-48981.rds | ..//output_EXPANSE_a2_caud/libd_chr1-chr1_AA-libd_chr1-chr1_AA-28982-48981-dynamic-1corestotal-allcorepera-20240415-104820.rds      |\n",
       "| 1 | AA | caud | 28982 | 48981 | /dcs04/lieber/statsgen/shizhong/michael/mwas/gwas//libd_chr1.pgen | /dcs04/lieber/statsgen/shizhong/michael/mwas/pheno/caud/out/chr1_AA.rda | 248918358 | 1069461 | 2202702 | 8982 | /dcs04/lieber/statsgen/mnagle/mwas/full_covariates/AA_caud.csv | /dcs04/lieber/statsgen/mnagle/mwas/pheno/caud/out/chr1_AA_28982-48981.rds | ..//output_EXPANSE_a2_caud/libd_chr1-chr1_AA-libd_chr1-chr1_AA-28982-48981-dynamic-1corestotal-allcorepera-caud-20240510-122045.rds |\n",
       "| 1 | AA | caud | 48982 | 68981 | /dcs04/lieber/statsgen/shizhong/michael/mwas/gwas//libd_chr1.pgen | /dcs04/lieber/statsgen/shizhong/michael/mwas/pheno/caud/out/chr1_AA.rda | 248918358 | 1069461 | 2202702 | 8982 | /dcs04/lieber/statsgen/mnagle/mwas/full_covariates/AA_caud.csv | /dcs04/lieber/statsgen/mnagle/mwas/pheno/caud/out/chr1_AA_48982-68981.rds | ..//output_EXPANSE_a2_caud/libd_chr1-chr1_AA-libd_chr1-chr1_AA-48982-68981-dynamic-1corestotal-allcorepera-20240415-105220.rds      |\n",
       "| 1 | AA | caud | 48982 | 68981 | /dcs04/lieber/statsgen/shizhong/michael/mwas/gwas//libd_chr1.pgen | /dcs04/lieber/statsgen/shizhong/michael/mwas/pheno/caud/out/chr1_AA.rda | 248918358 | 1069461 | 2202702 | 8982 | /dcs04/lieber/statsgen/mnagle/mwas/full_covariates/AA_caud.csv | /dcs04/lieber/statsgen/mnagle/mwas/pheno/caud/out/chr1_AA_48982-68981.rds | ..//output_EXPANSE_a2_caud/libd_chr1-chr1_AA-libd_chr1-chr1_AA-48982-68981-dynamic-1corestotal-allcorepera-caud-20240510-122147.rds |\n",
       "\n"
      ],
      "text/plain": [
       "  Chr population region chunk_start chunk_end\n",
       "1 1   AA         caud    8982       28981    \n",
       "2 1   AA         caud    8982       28981    \n",
       "3 1   AA         caud   28982       48981    \n",
       "4 1   AA         caud   28982       48981    \n",
       "5 1   AA         caud   48982       68981    \n",
       "6 1   AA         caud   48982       68981    \n",
       "  SNP_data                                                         \n",
       "1 /dcs04/lieber/statsgen/shizhong/michael/mwas/gwas//libd_chr1.pgen\n",
       "2 /dcs04/lieber/statsgen/shizhong/michael/mwas/gwas//libd_chr1.pgen\n",
       "3 /dcs04/lieber/statsgen/shizhong/michael/mwas/gwas//libd_chr1.pgen\n",
       "4 /dcs04/lieber/statsgen/shizhong/michael/mwas/gwas//libd_chr1.pgen\n",
       "5 /dcs04/lieber/statsgen/shizhong/michael/mwas/gwas//libd_chr1.pgen\n",
       "6 /dcs04/lieber/statsgen/shizhong/michael/mwas/gwas//libd_chr1.pgen\n",
       "  methylation_data                                                       \n",
       "1 /dcs04/lieber/statsgen/shizhong/michael/mwas/pheno/caud/out/chr1_AA.rda\n",
       "2 /dcs04/lieber/statsgen/shizhong/michael/mwas/pheno/caud/out/chr1_AA.rda\n",
       "3 /dcs04/lieber/statsgen/shizhong/michael/mwas/pheno/caud/out/chr1_AA.rda\n",
       "4 /dcs04/lieber/statsgen/shizhong/michael/mwas/pheno/caud/out/chr1_AA.rda\n",
       "5 /dcs04/lieber/statsgen/shizhong/michael/mwas/pheno/caud/out/chr1_AA.rda\n",
       "6 /dcs04/lieber/statsgen/shizhong/michael/mwas/pheno/caud/out/chr1_AA.rda\n",
       "  last_meth_value_with_SNP_coverage first_meth_value_with_SNP_coverage\n",
       "1 248918358                         1069461                           \n",
       "2 248918358                         1069461                           \n",
       "3 248918358                         1069461                           \n",
       "4 248918358                         1069461                           \n",
       "5 248918358                         1069461                           \n",
       "6 248918358                         1069461                           \n",
       "  last_meth_index_with_SNP_coverage first_meth_index_with_SNP_coverage\n",
       "1 2202702                           8982                              \n",
       "2 2202702                           8982                              \n",
       "3 2202702                           8982                              \n",
       "4 2202702                           8982                              \n",
       "5 2202702                           8982                              \n",
       "6 2202702                           8982                              \n",
       "  cov_file                                                      \n",
       "1 /dcs04/lieber/statsgen/mnagle/mwas/full_covariates/AA_caud.csv\n",
       "2 /dcs04/lieber/statsgen/mnagle/mwas/full_covariates/AA_caud.csv\n",
       "3 /dcs04/lieber/statsgen/mnagle/mwas/full_covariates/AA_caud.csv\n",
       "4 /dcs04/lieber/statsgen/mnagle/mwas/full_covariates/AA_caud.csv\n",
       "5 /dcs04/lieber/statsgen/mnagle/mwas/full_covariates/AA_caud.csv\n",
       "6 /dcs04/lieber/statsgen/mnagle/mwas/full_covariates/AA_caud.csv\n",
       "  modified_methylation_data                                                \n",
       "1 /dcs04/lieber/statsgen/mnagle/mwas/pheno/caud/out/chr1_AA_8982-28981.rds \n",
       "2 /dcs04/lieber/statsgen/mnagle/mwas/pheno/caud/out/chr1_AA_8982-28981.rds \n",
       "3 /dcs04/lieber/statsgen/mnagle/mwas/pheno/caud/out/chr1_AA_28982-48981.rds\n",
       "4 /dcs04/lieber/statsgen/mnagle/mwas/pheno/caud/out/chr1_AA_28982-48981.rds\n",
       "5 /dcs04/lieber/statsgen/mnagle/mwas/pheno/caud/out/chr1_AA_48982-68981.rds\n",
       "6 /dcs04/lieber/statsgen/mnagle/mwas/pheno/caud/out/chr1_AA_48982-68981.rds\n",
       "  path                                                                                                                               \n",
       "1 ..//output_EXPANSE_a2_caud/libd_chr1-chr1_AA-libd_chr1-chr1_AA-8982-28981-dynamic-1corestotal-allcorepera-20240415-104419.rds      \n",
       "2 ..//output_EXPANSE_a2_caud/libd_chr1-chr1_AA-libd_chr1-chr1_AA-8982-28981-dynamic-1corestotal-allcorepera-caud-20240510-121942.rds \n",
       "3 ..//output_EXPANSE_a2_caud/libd_chr1-chr1_AA-libd_chr1-chr1_AA-28982-48981-dynamic-1corestotal-allcorepera-20240415-104820.rds     \n",
       "4 ..//output_EXPANSE_a2_caud/libd_chr1-chr1_AA-libd_chr1-chr1_AA-28982-48981-dynamic-1corestotal-allcorepera-caud-20240510-122045.rds\n",
       "5 ..//output_EXPANSE_a2_caud/libd_chr1-chr1_AA-libd_chr1-chr1_AA-48982-68981-dynamic-1corestotal-allcorepera-20240415-105220.rds     \n",
       "6 ..//output_EXPANSE_a2_caud/libd_chr1-chr1_AA-libd_chr1-chr1_AA-48982-68981-dynamic-1corestotal-allcorepera-caud-20240510-122147.rds"
      ]
     },
     "metadata": {},
     "output_type": "display_data"
    }
   ],
   "source": [
    "head(df)"
   ]
  },
  {
   "cell_type": "code",
   "execution_count": 5,
   "id": "6b4071ff-b3c7-4083-9deb-b7b10ff76243",
   "metadata": {},
   "outputs": [],
   "source": [
    "df$methylation_data <- gsub(\"/dcs04/lieber/statsgen/mnagle/\", \"/expanse/lustre/projects/jhu152/naglemi/\", df$methylation_data)"
   ]
  },
  {
   "cell_type": "code",
   "execution_count": null,
   "id": "0efc38a6-3e4e-4a1f-ae6a-cc96218da09c",
   "metadata": {},
   "outputs": [],
   "source": [
    "head(df$methylation_data)"
   ]
  },
  {
   "cell_type": "code",
   "execution_count": 6,
   "id": "7b46d62c-bdd8-4bd6-9417-68f4218b6d3d",
   "metadata": {},
   "outputs": [],
   "source": [
    "df$table_path <- gsub(\".rda\", \"-DNAm_stats.csv\", df$path)"
   ]
  },
  {
   "cell_type": "code",
   "execution_count": 7,
   "id": "c60dd602-4ba4-485f-bb20-73c6111b21de",
   "metadata": {},
   "outputs": [],
   "source": [
    "df <- df[!duplicated(df[, c(\"methylation_data\")], fromLast = TRUE), ]"
   ]
  },
  {
   "cell_type": "code",
   "execution_count": 8,
   "id": "a03796f8-6726-490e-8a5b-cad9d183ea6b",
   "metadata": {},
   "outputs": [
    {
     "name": "stderr",
     "output_type": "stream",
     "text": [
      "Warning message in gzfile(file, \"rb\"):\n",
      "“cannot open compressed file '/dcs04/lieber/statsgen/mnagle/mwas/pheno/caud/out/chr1_AA_2188982-2202702.rds', probable reason 'No such file or directory'”\n"
     ]
    },
    {
     "ename": "ERROR",
     "evalue": "Error in gzfile(file, \"rb\"): cannot open the connection\n",
     "output_type": "error",
     "traceback": [
      "Error in gzfile(file, \"rb\"): cannot open the connection\nTraceback:\n",
      "1. readRDS(df$modified_methylation_data[i])",
      "2. gzfile(file, \"rb\")"
     ]
    }
   ],
   "source": [
    "file_in <- readRDS(df$modified_methylation_data[i])"
   ]
  },
  {
   "cell_type": "code",
   "execution_count": null,
   "id": "ec930245-3116-4dee-abe0-9fe641347150",
   "metadata": {},
   "outputs": [],
   "source": [
    "results.1 <- data.frame(Chr = df$Chr[i],\n",
    "           pos = file_in@methylations_positions,\n",
    "           population = df$population[i],\n",
    "           region = df$region[i],\n",
    "           mean_DNAm = colMeans(file_in@methylations, na.rm = TRUE),\n",
    "           var_DNAm = apply(file_in@methylations, 2, var, na.rm = TRUE))"
   ]
  },
  {
   "cell_type": "code",
   "execution_count": null,
   "id": "8db8c4a7-6330-4a5c-b3e0-c8bf52a3c31e",
   "metadata": {},
   "outputs": [],
   "source": [
    "models_in <- readRDS(df$path[i])"
   ]
  },
  {
   "cell_type": "code",
   "execution_count": null,
   "id": "bb5a46ec-7671-4187-9802-b9951d844790",
   "metadata": {},
   "outputs": [],
   "source": [
    "results.2 <- data.frame(Chr = df$Chr[i],\n",
    "                        population = df$population[i],\n",
    "                        region = df$region[i],\n",
    "                        pos = sapply(models_in@models, function(x) x@methylationPosition),\n",
    "                        cor = sapply(models_in@models, function(x) x@evaluation_results['cor']),\n",
    "                        mse = sapply(models_in@models, function(x) x@evaluation_results['mse'])\n",
    ")"
   ]
  },
  {
   "cell_type": "code",
   "execution_count": null,
   "id": "1c0a867b-a86d-49ab-b3fc-71cd0fe2468a",
   "metadata": {},
   "outputs": [],
   "source": [
    "results_merged <- merge(results.1, results.2)"
   ]
  },
  {
   "cell_type": "code",
   "execution_count": null,
   "id": "efb924b0-3ee2-4af7-8d88-08e557983ce1",
   "metadata": {},
   "outputs": [],
   "source": [
    "populations <- c(\"EA\", \"AA\", \"all\")\n",
    "\n",
    "for (pop in populations) {\n",
    "  idx <- which(df$population == pop)[1:2]\n",
    "  for (i in idx) {\n",
    "    #if (file.exists(df$table_path[i])) next\n",
    "    if (df$path[i] == \"..//output_EXPANSE_a2_caud/libd_chr17-chr17_AA-libd_chr17-chr17_AA-261513-281512-dynamic-1corestotal-allcorepera-20240507-183049.rds\") next\n",
    "    \n",
    "    load(df$methylation_data[i])\n",
    "    \n",
    "    results.1 <- data.frame(\n",
    "      Chr = df$Chr[i],\n",
    "      pos = file_in@methylations_positions,\n",
    "      population = df$population[i],\n",
    "      region = df$region[i],\n",
    "      mean_DNAm = colMeans(BSobj2@methylations, na.rm = TRUE),\n",
    "      var_DNAm = apply(BSobj2@methylations, 2, var, na.rm = TRUE)\n",
    "    )\n",
    "\n",
    "    print(df$path[i])\n",
    "    print(head(results.1))\n",
    "    print(file_in@methylations[1:10, 1:10])\n",
    "  }\n",
    "}\n"
   ]
  },
  {
   "cell_type": "markdown",
   "id": "1215de12-fb58-4b89-83f8-b3efdbd0321d",
   "metadata": {},
   "source": [
    "## Loop through all"
   ]
  },
  {
   "cell_type": "markdown",
   "id": "956fe08e-2aab-434e-8332-cc531c573e2f",
   "metadata": {},
   "source": [
    "loop through rds"
   ]
  },
  {
   "cell_type": "code",
   "execution_count": 13,
   "id": "93339098-1a0f-4283-830c-e2d36842208e",
   "metadata": {},
   "outputs": [
    {
     "data": {
      "text/html": [],
      "text/latex": [],
      "text/markdown": [],
      "text/plain": [
       "character(0)"
      ]
     },
     "metadata": {},
     "output_type": "display_data"
    }
   ],
   "source": [
    "list.files(\"/dcs04/lieber/statsgen/shizhong/michael/mwas/\")"
   ]
  },
  {
   "cell_type": "code",
   "execution_count": 9,
   "id": "ea9f7c20-b478-44c0-8c53-e9eceb0c58fe",
   "metadata": {},
   "outputs": [
    {
     "name": "stderr",
     "output_type": "stream",
     "text": [
      "Warning message in readChar(con, 5L, useBytes = TRUE):\n",
      "“cannot open compressed file '/dcs04/lieber/statsgen/shizhong/michael/mwas/pheno/caud/out/chr1_AA.rda', probable reason 'No such file or directory'”\n"
     ]
    },
    {
     "ename": "ERROR",
     "evalue": "Error in readChar(con, 5L, useBytes = TRUE): cannot open the connection\n",
     "output_type": "error",
     "traceback": [
      "Error in readChar(con, 5L, useBytes = TRUE): cannot open the connection\nTraceback:\n",
      "1. load(df$methylation_data[i])",
      "2. readChar(con, 5L, useBytes = TRUE)"
     ]
    }
   ],
   "source": [
    "for(i in 1:nrow(df)) {\n",
    "    #if(file.exists(df$table_path[i])) next\n",
    "    if(df$path[i] == \"..//output_EXPANSE_a2_caud/libd_chr17-chr17_AA-libd_chr17-chr17_AA-261513-281512-dynamic-1corestotal-allcorepera-20240507-183049.rds\") next\n",
    "    if (i %% 20 == 0) print(i)\n",
    "    \n",
    "    file_in <- load(df$methylation_data[i])\n",
    "\n",
    "    results.1 <- data.frame(\n",
    "        Chr = df$Chr[i],\n",
    "        pos = file_in@methylations_positions,\n",
    "        population = df$population[i],\n",
    "        region = df$region[i],\n",
    "        mean_DNAm = colMeans(BSobj2@methylations, na.rm = TRUE),\n",
    "        var_DNAm = apply(BSobj2@methylations, 2, var, na.rm = TRUE)\n",
    "    )\n",
    "    if(grepl(\"empty\", df$path[i])) next\n",
    "    models_in <- readRDS(df$path[i])\n",
    "    \n",
    "    results.2 <- data.frame(\n",
    "        Chr = df$Chr[i],\n",
    "        population = df$population[i],\n",
    "        region = df$region[i],\n",
    "        pos = sapply(models_in@models, function(x) x@methylationPosition),\n",
    "        cor = sapply(models_in@models, function(x) x@evaluation_results['cor']),\n",
    "        mse = sapply(models_in@models, function(x) x@evaluation_results['mse'])\n",
    "    )\n",
    "    \n",
    "    results_merged <- merge(results.1, results.2)\n",
    "    \n",
    "    fwrite(results_merged, df$table_path[i])\n",
    "}\n"
   ]
  },
  {
   "cell_type": "code",
   "execution_count": 27,
   "id": "3a339016-e578-48a9-9128-666fca94aa05",
   "metadata": {},
   "outputs": [
    {
     "data": {
      "text/html": [
       "'..//output_EXPANSE_a2_hippo/libd_chr22-chr22_all-libd_chr22-chr22_all-534844-543839-dynamic-1corestotal-allcorepera-20240509-230142.rds'"
      ],
      "text/latex": [
       "'..//output\\_EXPANSE\\_a2\\_hippo/libd\\_chr22-chr22\\_all-libd\\_chr22-chr22\\_all-534844-543839-dynamic-1corestotal-allcorepera-20240509-230142.rds'"
      ],
      "text/markdown": [
       "'..//output_EXPANSE_a2_hippo/libd_chr22-chr22_all-libd_chr22-chr22_all-534844-543839-dynamic-1corestotal-allcorepera-20240509-230142.rds'"
      ],
      "text/plain": [
       "[1] \"..//output_EXPANSE_a2_hippo/libd_chr22-chr22_all-libd_chr22-chr22_all-534844-543839-dynamic-1corestotal-allcorepera-20240509-230142.rds\""
      ]
     },
     "metadata": {},
     "output_type": "display_data"
    }
   ],
   "source": [
    "df$path[i]"
   ]
  },
  {
   "cell_type": "code",
   "execution_count": 28,
   "id": "eff108e2-6759-4818-9898-692590b50b2b",
   "metadata": {},
   "outputs": [
    {
     "data": {
      "text/html": [
       "11457"
      ],
      "text/latex": [
       "11457"
      ],
      "text/markdown": [
       "11457"
      ],
      "text/plain": [
       "[1] 11457"
      ]
     },
     "metadata": {},
     "output_type": "display_data"
    }
   ],
   "source": [
    "i"
   ]
  },
  {
   "cell_type": "code",
   "execution_count": null,
   "id": "5a716d8e-1f8e-48e3-9f75-b5436afb4f80",
   "metadata": {},
   "outputs": [],
   "source": []
  }
 ],
 "metadata": {
  "kernelspec": {
   "display_name": "R",
   "language": "R",
   "name": "ir"
  },
  "language_info": {
   "codemirror_mode": "r",
   "file_extension": ".r",
   "mimetype": "text/x-r-source",
   "name": "R",
   "pygments_lexer": "r",
   "version": "4.3.1"
  }
 },
 "nbformat": 4,
 "nbformat_minor": 5
}
