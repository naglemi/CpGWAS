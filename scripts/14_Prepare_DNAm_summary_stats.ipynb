{
 "cells": [
  {
   "cell_type": "markdown",
   "id": "1e59a76f-522e-4d87-a14d-8f808ba3b0e2",
   "metadata": {},
   "source": [
    "# Distributions of DNA methylation levels"
   ]
  },
  {
   "cell_type": "markdown",
   "id": "4c3833ee-853a-4d60-8b70-cfdb5af845f0",
   "metadata": {},
   "source": [
    "## Get mean and variance for DNAm levels of all CpGs"
   ]
  },
  {
   "cell_type": "markdown",
   "id": "3ca8e548-2126-4380-9e27-3e5a4d5b3d27",
   "metadata": {},
   "source": [
    "Test out for one"
   ]
  },
  {
   "cell_type": "code",
   "execution_count": 1,
   "id": "38b8fca6-734e-495b-ad0d-2e57cd41df7a",
   "metadata": {},
   "outputs": [],
   "source": [
    "library(data.table)"
   ]
  },
  {
   "cell_type": "code",
   "execution_count": 2,
   "id": "42acd832-0157-4bf1-9851-5532b627f12d",
   "metadata": {},
   "outputs": [
    {
     "name": "stderr",
     "output_type": "stream",
     "text": [
      "Loading required package: stats4\n",
      "\n",
      "Loading required package: BiocGenerics\n",
      "\n",
      "\n",
      "Attaching package: ‘BiocGenerics’\n",
      "\n",
      "\n",
      "The following objects are masked from ‘package:stats’:\n",
      "\n",
      "    IQR, mad, sd, var, xtabs\n",
      "\n",
      "\n",
      "The following objects are masked from ‘package:base’:\n",
      "\n",
      "    anyDuplicated, aperm, append, as.data.frame, basename, cbind,\n",
      "    colnames, dirname, do.call, duplicated, eval, evalq, Filter, Find,\n",
      "    get, grep, grepl, intersect, is.unsorted, lapply, Map, mapply,\n",
      "    match, mget, order, paste, pmax, pmax.int, pmin, pmin.int,\n",
      "    Position, rank, rbind, Reduce, rownames, sapply, setdiff, sort,\n",
      "    table, tapply, union, unique, unsplit, which.max, which.min\n",
      "\n",
      "\n",
      "Loading required package: S4Vectors\n",
      "\n",
      "\n",
      "Attaching package: ‘S4Vectors’\n",
      "\n",
      "\n",
      "The following objects are masked from ‘package:data.table’:\n",
      "\n",
      "    first, second\n",
      "\n",
      "\n",
      "The following object is masked from ‘package:utils’:\n",
      "\n",
      "    findMatches\n",
      "\n",
      "\n",
      "The following objects are masked from ‘package:base’:\n",
      "\n",
      "    expand.grid, I, unname\n",
      "\n",
      "\n",
      "Loading required package: IRanges\n",
      "\n",
      "\n",
      "Attaching package: ‘IRanges’\n",
      "\n",
      "\n",
      "The following object is masked from ‘package:data.table’:\n",
      "\n",
      "    shift\n",
      "\n",
      "\n",
      "Loading required package: GenomeInfoDb\n",
      "\n",
      "Loading required package: SummarizedExperiment\n",
      "\n",
      "Loading required package: MatrixGenerics\n",
      "\n",
      "Loading required package: matrixStats\n",
      "\n",
      "\n",
      "Attaching package: ‘MatrixGenerics’\n",
      "\n",
      "\n",
      "The following objects are masked from ‘package:matrixStats’:\n",
      "\n",
      "    colAlls, colAnyNAs, colAnys, colAvgsPerRowSet, colCollapse,\n",
      "    colCounts, colCummaxs, colCummins, colCumprods, colCumsums,\n",
      "    colDiffs, colIQRDiffs, colIQRs, colLogSumExps, colMadDiffs,\n",
      "    colMads, colMaxs, colMeans2, colMedians, colMins, colOrderStats,\n",
      "    colProds, colQuantiles, colRanges, colRanks, colSdDiffs, colSds,\n",
      "    colSums2, colTabulates, colVarDiffs, colVars, colWeightedMads,\n",
      "    colWeightedMeans, colWeightedMedians, colWeightedSds,\n",
      "    colWeightedVars, rowAlls, rowAnyNAs, rowAnys, rowAvgsPerColSet,\n",
      "    rowCollapse, rowCounts, rowCummaxs, rowCummins, rowCumprods,\n",
      "    rowCumsums, rowDiffs, rowIQRDiffs, rowIQRs, rowLogSumExps,\n",
      "    rowMadDiffs, rowMads, rowMaxs, rowMeans2, rowMedians, rowMins,\n",
      "    rowOrderStats, rowProds, rowQuantiles, rowRanges, rowRanks,\n",
      "    rowSdDiffs, rowSds, rowSums2, rowTabulates, rowVarDiffs, rowVars,\n",
      "    rowWeightedMads, rowWeightedMeans, rowWeightedMedians,\n",
      "    rowWeightedSds, rowWeightedVars\n",
      "\n",
      "\n",
      "Loading required package: Biobase\n",
      "\n",
      "Welcome to Bioconductor\n",
      "\n",
      "    Vignettes contain introductory material; view with\n",
      "    'browseVignettes()'. To cite Bioconductor, see\n",
      "    'citation(\"Biobase\")', and for packages 'citation(\"pkgname\")'.\n",
      "\n",
      "\n",
      "\n",
      "Attaching package: ‘Biobase’\n",
      "\n",
      "\n",
      "The following object is masked from ‘package:MatrixGenerics’:\n",
      "\n",
      "    rowMedians\n",
      "\n",
      "\n",
      "The following objects are masked from ‘package:matrixStats’:\n",
      "\n",
      "    anyMissing, rowMedians\n",
      "\n",
      "\n"
     ]
    }
   ],
   "source": [
    "library(CpGWAS)\n",
    "library(GenomicRanges)\n",
    "library(bsseq)"
   ]
  },
  {
   "cell_type": "code",
   "execution_count": 3,
   "id": "59ec4bdc-57d7-4f01-b439-08373fb57f4a",
   "metadata": {},
   "outputs": [],
   "source": [
    "df <- fread(\"12-OUT_matched_SNP_meth_cov_outputs.csv\")"
   ]
  },
  {
   "cell_type": "code",
   "execution_count": 4,
   "id": "aafa48cc-715e-4742-8444-1b7b72cbe70c",
   "metadata": {},
   "outputs": [],
   "source": [
    "i <- 1"
   ]
  },
  {
   "cell_type": "code",
   "execution_count": 5,
   "id": "7644d738-e350-4929-ab86-03ff02ac90ec",
   "metadata": {},
   "outputs": [
    {
     "data": {
      "text/html": [
       "<style>\n",
       ".list-inline {list-style: none; margin:0; padding: 0}\n",
       ".list-inline>li {display: inline-block}\n",
       ".list-inline>li:not(:last-child)::after {content: \"\\00b7\"; padding: 0 .5ex}\n",
       "</style>\n",
       "<ol class=list-inline><li>16098</li><li>14</li></ol>\n"
      ],
      "text/latex": [
       "\\begin{enumerate*}\n",
       "\\item 16098\n",
       "\\item 14\n",
       "\\end{enumerate*}\n"
      ],
      "text/markdown": [
       "1. 16098\n",
       "2. 14\n",
       "\n",
       "\n"
      ],
      "text/plain": [
       "[1] 16098    14"
      ]
     },
     "metadata": {},
     "output_type": "display_data"
    }
   ],
   "source": [
    "dim(df)"
   ]
  },
  {
   "cell_type": "code",
   "execution_count": 6,
   "id": "5f6f7a82-6eb9-4717-90af-286d239b4eb2",
   "metadata": {},
   "outputs": [],
   "source": [
    "library(data.table)\n",
    "\n",
    "# Assuming df is your data.table\n",
    "df[, timestamp := sub(\".*-(\\\\d{8}-\\\\d{6}).*\", \"\\\\1\", path)]"
   ]
  },
  {
   "cell_type": "code",
   "execution_count": 7,
   "id": "ff6c410b-b6cf-4edc-8489-d37359996023",
   "metadata": {
    "scrolled": true
   },
   "outputs": [
    {
     "data": {
      "text/html": [
       "<table class=\"dataframe\">\n",
       "<caption>A data.table: 6 × 15</caption>\n",
       "<thead>\n",
       "\t<tr><th scope=col>Chr</th><th scope=col>population</th><th scope=col>region</th><th scope=col>chunk_start</th><th scope=col>chunk_end</th><th scope=col>SNP_data</th><th scope=col>methylation_data</th><th scope=col>last_meth_value_with_SNP_coverage</th><th scope=col>first_meth_value_with_SNP_coverage</th><th scope=col>last_meth_index_with_SNP_coverage</th><th scope=col>first_meth_index_with_SNP_coverage</th><th scope=col>cov_file</th><th scope=col>modified_methylation_data</th><th scope=col>path</th><th scope=col>timestamp</th></tr>\n",
       "\t<tr><th scope=col>&lt;int&gt;</th><th scope=col>&lt;chr&gt;</th><th scope=col>&lt;chr&gt;</th><th scope=col>&lt;int&gt;</th><th scope=col>&lt;dbl&gt;</th><th scope=col>&lt;chr&gt;</th><th scope=col>&lt;chr&gt;</th><th scope=col>&lt;int&gt;</th><th scope=col>&lt;int&gt;</th><th scope=col>&lt;int&gt;</th><th scope=col>&lt;int&gt;</th><th scope=col>&lt;chr&gt;</th><th scope=col>&lt;chr&gt;</th><th scope=col>&lt;chr&gt;</th><th scope=col>&lt;chr&gt;</th></tr>\n",
       "</thead>\n",
       "<tbody>\n",
       "\t<tr><td>1</td><td>AA</td><td>caud</td><td> 8982</td><td>28981</td><td>/dcs04/lieber/statsgen/shizhong/michael/mwas/gwas//libd_chr1.pgen</td><td>/dcs04/lieber/statsgen/shizhong/michael/mwas/pheno/caud/out/chr1_AA.rda</td><td>248918358</td><td>1069461</td><td>2202702</td><td>8982</td><td>/dcs04/lieber/statsgen/mnagle/mwas/full_covariates/AA_caud.csv</td><td>/dcs04/lieber/statsgen/mnagle/mwas/pheno/caud/out/chr1_AA_8982-28981.rds </td><td>..//output_EXPANSE_a2_caud/libd_chr1-chr1_AA-libd_chr1-chr1_AA-8982-28981-dynamic-1corestotal-allcorepera-20240415-104419.rds      </td><td>20240415-104419</td></tr>\n",
       "\t<tr><td>1</td><td>AA</td><td>caud</td><td> 8982</td><td>28981</td><td>/dcs04/lieber/statsgen/shizhong/michael/mwas/gwas//libd_chr1.pgen</td><td>/dcs04/lieber/statsgen/shizhong/michael/mwas/pheno/caud/out/chr1_AA.rda</td><td>248918358</td><td>1069461</td><td>2202702</td><td>8982</td><td>/dcs04/lieber/statsgen/mnagle/mwas/full_covariates/AA_caud.csv</td><td>/dcs04/lieber/statsgen/mnagle/mwas/pheno/caud/out/chr1_AA_8982-28981.rds </td><td>..//output_EXPANSE_a2_caud/libd_chr1-chr1_AA-libd_chr1-chr1_AA-8982-28981-dynamic-1corestotal-allcorepera-caud-20240510-121942.rds </td><td>20240510-121942</td></tr>\n",
       "\t<tr><td>1</td><td>AA</td><td>caud</td><td>28982</td><td>48981</td><td>/dcs04/lieber/statsgen/shizhong/michael/mwas/gwas//libd_chr1.pgen</td><td>/dcs04/lieber/statsgen/shizhong/michael/mwas/pheno/caud/out/chr1_AA.rda</td><td>248918358</td><td>1069461</td><td>2202702</td><td>8982</td><td>/dcs04/lieber/statsgen/mnagle/mwas/full_covariates/AA_caud.csv</td><td>/dcs04/lieber/statsgen/mnagle/mwas/pheno/caud/out/chr1_AA_28982-48981.rds</td><td>..//output_EXPANSE_a2_caud/libd_chr1-chr1_AA-libd_chr1-chr1_AA-28982-48981-dynamic-1corestotal-allcorepera-20240415-104820.rds     </td><td>20240415-104820</td></tr>\n",
       "\t<tr><td>1</td><td>AA</td><td>caud</td><td>28982</td><td>48981</td><td>/dcs04/lieber/statsgen/shizhong/michael/mwas/gwas//libd_chr1.pgen</td><td>/dcs04/lieber/statsgen/shizhong/michael/mwas/pheno/caud/out/chr1_AA.rda</td><td>248918358</td><td>1069461</td><td>2202702</td><td>8982</td><td>/dcs04/lieber/statsgen/mnagle/mwas/full_covariates/AA_caud.csv</td><td>/dcs04/lieber/statsgen/mnagle/mwas/pheno/caud/out/chr1_AA_28982-48981.rds</td><td>..//output_EXPANSE_a2_caud/libd_chr1-chr1_AA-libd_chr1-chr1_AA-28982-48981-dynamic-1corestotal-allcorepera-caud-20240510-122045.rds</td><td>20240510-122045</td></tr>\n",
       "\t<tr><td>1</td><td>AA</td><td>caud</td><td>48982</td><td>68981</td><td>/dcs04/lieber/statsgen/shizhong/michael/mwas/gwas//libd_chr1.pgen</td><td>/dcs04/lieber/statsgen/shizhong/michael/mwas/pheno/caud/out/chr1_AA.rda</td><td>248918358</td><td>1069461</td><td>2202702</td><td>8982</td><td>/dcs04/lieber/statsgen/mnagle/mwas/full_covariates/AA_caud.csv</td><td>/dcs04/lieber/statsgen/mnagle/mwas/pheno/caud/out/chr1_AA_48982-68981.rds</td><td>..//output_EXPANSE_a2_caud/libd_chr1-chr1_AA-libd_chr1-chr1_AA-48982-68981-dynamic-1corestotal-allcorepera-20240415-105220.rds     </td><td>20240415-105220</td></tr>\n",
       "\t<tr><td>1</td><td>AA</td><td>caud</td><td>48982</td><td>68981</td><td>/dcs04/lieber/statsgen/shizhong/michael/mwas/gwas//libd_chr1.pgen</td><td>/dcs04/lieber/statsgen/shizhong/michael/mwas/pheno/caud/out/chr1_AA.rda</td><td>248918358</td><td>1069461</td><td>2202702</td><td>8982</td><td>/dcs04/lieber/statsgen/mnagle/mwas/full_covariates/AA_caud.csv</td><td>/dcs04/lieber/statsgen/mnagle/mwas/pheno/caud/out/chr1_AA_48982-68981.rds</td><td>..//output_EXPANSE_a2_caud/libd_chr1-chr1_AA-libd_chr1-chr1_AA-48982-68981-dynamic-1corestotal-allcorepera-caud-20240510-122147.rds</td><td>20240510-122147</td></tr>\n",
       "</tbody>\n",
       "</table>\n"
      ],
      "text/latex": [
       "A data.table: 6 × 15\n",
       "\\begin{tabular}{lllllllllllllll}\n",
       " Chr & population & region & chunk\\_start & chunk\\_end & SNP\\_data & methylation\\_data & last\\_meth\\_value\\_with\\_SNP\\_coverage & first\\_meth\\_value\\_with\\_SNP\\_coverage & last\\_meth\\_index\\_with\\_SNP\\_coverage & first\\_meth\\_index\\_with\\_SNP\\_coverage & cov\\_file & modified\\_methylation\\_data & path & timestamp\\\\\n",
       " <int> & <chr> & <chr> & <int> & <dbl> & <chr> & <chr> & <int> & <int> & <int> & <int> & <chr> & <chr> & <chr> & <chr>\\\\\n",
       "\\hline\n",
       "\t 1 & AA & caud &  8982 & 28981 & /dcs04/lieber/statsgen/shizhong/michael/mwas/gwas//libd\\_chr1.pgen & /dcs04/lieber/statsgen/shizhong/michael/mwas/pheno/caud/out/chr1\\_AA.rda & 248918358 & 1069461 & 2202702 & 8982 & /dcs04/lieber/statsgen/mnagle/mwas/full\\_covariates/AA\\_caud.csv & /dcs04/lieber/statsgen/mnagle/mwas/pheno/caud/out/chr1\\_AA\\_8982-28981.rds  & ..//output\\_EXPANSE\\_a2\\_caud/libd\\_chr1-chr1\\_AA-libd\\_chr1-chr1\\_AA-8982-28981-dynamic-1corestotal-allcorepera-20240415-104419.rds       & 20240415-104419\\\\\n",
       "\t 1 & AA & caud &  8982 & 28981 & /dcs04/lieber/statsgen/shizhong/michael/mwas/gwas//libd\\_chr1.pgen & /dcs04/lieber/statsgen/shizhong/michael/mwas/pheno/caud/out/chr1\\_AA.rda & 248918358 & 1069461 & 2202702 & 8982 & /dcs04/lieber/statsgen/mnagle/mwas/full\\_covariates/AA\\_caud.csv & /dcs04/lieber/statsgen/mnagle/mwas/pheno/caud/out/chr1\\_AA\\_8982-28981.rds  & ..//output\\_EXPANSE\\_a2\\_caud/libd\\_chr1-chr1\\_AA-libd\\_chr1-chr1\\_AA-8982-28981-dynamic-1corestotal-allcorepera-caud-20240510-121942.rds  & 20240510-121942\\\\\n",
       "\t 1 & AA & caud & 28982 & 48981 & /dcs04/lieber/statsgen/shizhong/michael/mwas/gwas//libd\\_chr1.pgen & /dcs04/lieber/statsgen/shizhong/michael/mwas/pheno/caud/out/chr1\\_AA.rda & 248918358 & 1069461 & 2202702 & 8982 & /dcs04/lieber/statsgen/mnagle/mwas/full\\_covariates/AA\\_caud.csv & /dcs04/lieber/statsgen/mnagle/mwas/pheno/caud/out/chr1\\_AA\\_28982-48981.rds & ..//output\\_EXPANSE\\_a2\\_caud/libd\\_chr1-chr1\\_AA-libd\\_chr1-chr1\\_AA-28982-48981-dynamic-1corestotal-allcorepera-20240415-104820.rds      & 20240415-104820\\\\\n",
       "\t 1 & AA & caud & 28982 & 48981 & /dcs04/lieber/statsgen/shizhong/michael/mwas/gwas//libd\\_chr1.pgen & /dcs04/lieber/statsgen/shizhong/michael/mwas/pheno/caud/out/chr1\\_AA.rda & 248918358 & 1069461 & 2202702 & 8982 & /dcs04/lieber/statsgen/mnagle/mwas/full\\_covariates/AA\\_caud.csv & /dcs04/lieber/statsgen/mnagle/mwas/pheno/caud/out/chr1\\_AA\\_28982-48981.rds & ..//output\\_EXPANSE\\_a2\\_caud/libd\\_chr1-chr1\\_AA-libd\\_chr1-chr1\\_AA-28982-48981-dynamic-1corestotal-allcorepera-caud-20240510-122045.rds & 20240510-122045\\\\\n",
       "\t 1 & AA & caud & 48982 & 68981 & /dcs04/lieber/statsgen/shizhong/michael/mwas/gwas//libd\\_chr1.pgen & /dcs04/lieber/statsgen/shizhong/michael/mwas/pheno/caud/out/chr1\\_AA.rda & 248918358 & 1069461 & 2202702 & 8982 & /dcs04/lieber/statsgen/mnagle/mwas/full\\_covariates/AA\\_caud.csv & /dcs04/lieber/statsgen/mnagle/mwas/pheno/caud/out/chr1\\_AA\\_48982-68981.rds & ..//output\\_EXPANSE\\_a2\\_caud/libd\\_chr1-chr1\\_AA-libd\\_chr1-chr1\\_AA-48982-68981-dynamic-1corestotal-allcorepera-20240415-105220.rds      & 20240415-105220\\\\\n",
       "\t 1 & AA & caud & 48982 & 68981 & /dcs04/lieber/statsgen/shizhong/michael/mwas/gwas//libd\\_chr1.pgen & /dcs04/lieber/statsgen/shizhong/michael/mwas/pheno/caud/out/chr1\\_AA.rda & 248918358 & 1069461 & 2202702 & 8982 & /dcs04/lieber/statsgen/mnagle/mwas/full\\_covariates/AA\\_caud.csv & /dcs04/lieber/statsgen/mnagle/mwas/pheno/caud/out/chr1\\_AA\\_48982-68981.rds & ..//output\\_EXPANSE\\_a2\\_caud/libd\\_chr1-chr1\\_AA-libd\\_chr1-chr1\\_AA-48982-68981-dynamic-1corestotal-allcorepera-caud-20240510-122147.rds & 20240510-122147\\\\\n",
       "\\end{tabular}\n"
      ],
      "text/markdown": [
       "\n",
       "A data.table: 6 × 15\n",
       "\n",
       "| Chr &lt;int&gt; | population &lt;chr&gt; | region &lt;chr&gt; | chunk_start &lt;int&gt; | chunk_end &lt;dbl&gt; | SNP_data &lt;chr&gt; | methylation_data &lt;chr&gt; | last_meth_value_with_SNP_coverage &lt;int&gt; | first_meth_value_with_SNP_coverage &lt;int&gt; | last_meth_index_with_SNP_coverage &lt;int&gt; | first_meth_index_with_SNP_coverage &lt;int&gt; | cov_file &lt;chr&gt; | modified_methylation_data &lt;chr&gt; | path &lt;chr&gt; | timestamp &lt;chr&gt; |\n",
       "|---|---|---|---|---|---|---|---|---|---|---|---|---|---|---|\n",
       "| 1 | AA | caud |  8982 | 28981 | /dcs04/lieber/statsgen/shizhong/michael/mwas/gwas//libd_chr1.pgen | /dcs04/lieber/statsgen/shizhong/michael/mwas/pheno/caud/out/chr1_AA.rda | 248918358 | 1069461 | 2202702 | 8982 | /dcs04/lieber/statsgen/mnagle/mwas/full_covariates/AA_caud.csv | /dcs04/lieber/statsgen/mnagle/mwas/pheno/caud/out/chr1_AA_8982-28981.rds  | ..//output_EXPANSE_a2_caud/libd_chr1-chr1_AA-libd_chr1-chr1_AA-8982-28981-dynamic-1corestotal-allcorepera-20240415-104419.rds       | 20240415-104419 |\n",
       "| 1 | AA | caud |  8982 | 28981 | /dcs04/lieber/statsgen/shizhong/michael/mwas/gwas//libd_chr1.pgen | /dcs04/lieber/statsgen/shizhong/michael/mwas/pheno/caud/out/chr1_AA.rda | 248918358 | 1069461 | 2202702 | 8982 | /dcs04/lieber/statsgen/mnagle/mwas/full_covariates/AA_caud.csv | /dcs04/lieber/statsgen/mnagle/mwas/pheno/caud/out/chr1_AA_8982-28981.rds  | ..//output_EXPANSE_a2_caud/libd_chr1-chr1_AA-libd_chr1-chr1_AA-8982-28981-dynamic-1corestotal-allcorepera-caud-20240510-121942.rds  | 20240510-121942 |\n",
       "| 1 | AA | caud | 28982 | 48981 | /dcs04/lieber/statsgen/shizhong/michael/mwas/gwas//libd_chr1.pgen | /dcs04/lieber/statsgen/shizhong/michael/mwas/pheno/caud/out/chr1_AA.rda | 248918358 | 1069461 | 2202702 | 8982 | /dcs04/lieber/statsgen/mnagle/mwas/full_covariates/AA_caud.csv | /dcs04/lieber/statsgen/mnagle/mwas/pheno/caud/out/chr1_AA_28982-48981.rds | ..//output_EXPANSE_a2_caud/libd_chr1-chr1_AA-libd_chr1-chr1_AA-28982-48981-dynamic-1corestotal-allcorepera-20240415-104820.rds      | 20240415-104820 |\n",
       "| 1 | AA | caud | 28982 | 48981 | /dcs04/lieber/statsgen/shizhong/michael/mwas/gwas//libd_chr1.pgen | /dcs04/lieber/statsgen/shizhong/michael/mwas/pheno/caud/out/chr1_AA.rda | 248918358 | 1069461 | 2202702 | 8982 | /dcs04/lieber/statsgen/mnagle/mwas/full_covariates/AA_caud.csv | /dcs04/lieber/statsgen/mnagle/mwas/pheno/caud/out/chr1_AA_28982-48981.rds | ..//output_EXPANSE_a2_caud/libd_chr1-chr1_AA-libd_chr1-chr1_AA-28982-48981-dynamic-1corestotal-allcorepera-caud-20240510-122045.rds | 20240510-122045 |\n",
       "| 1 | AA | caud | 48982 | 68981 | /dcs04/lieber/statsgen/shizhong/michael/mwas/gwas//libd_chr1.pgen | /dcs04/lieber/statsgen/shizhong/michael/mwas/pheno/caud/out/chr1_AA.rda | 248918358 | 1069461 | 2202702 | 8982 | /dcs04/lieber/statsgen/mnagle/mwas/full_covariates/AA_caud.csv | /dcs04/lieber/statsgen/mnagle/mwas/pheno/caud/out/chr1_AA_48982-68981.rds | ..//output_EXPANSE_a2_caud/libd_chr1-chr1_AA-libd_chr1-chr1_AA-48982-68981-dynamic-1corestotal-allcorepera-20240415-105220.rds      | 20240415-105220 |\n",
       "| 1 | AA | caud | 48982 | 68981 | /dcs04/lieber/statsgen/shizhong/michael/mwas/gwas//libd_chr1.pgen | /dcs04/lieber/statsgen/shizhong/michael/mwas/pheno/caud/out/chr1_AA.rda | 248918358 | 1069461 | 2202702 | 8982 | /dcs04/lieber/statsgen/mnagle/mwas/full_covariates/AA_caud.csv | /dcs04/lieber/statsgen/mnagle/mwas/pheno/caud/out/chr1_AA_48982-68981.rds | ..//output_EXPANSE_a2_caud/libd_chr1-chr1_AA-libd_chr1-chr1_AA-48982-68981-dynamic-1corestotal-allcorepera-caud-20240510-122147.rds | 20240510-122147 |\n",
       "\n"
      ],
      "text/plain": [
       "  Chr population region chunk_start chunk_end\n",
       "1 1   AA         caud    8982       28981    \n",
       "2 1   AA         caud    8982       28981    \n",
       "3 1   AA         caud   28982       48981    \n",
       "4 1   AA         caud   28982       48981    \n",
       "5 1   AA         caud   48982       68981    \n",
       "6 1   AA         caud   48982       68981    \n",
       "  SNP_data                                                         \n",
       "1 /dcs04/lieber/statsgen/shizhong/michael/mwas/gwas//libd_chr1.pgen\n",
       "2 /dcs04/lieber/statsgen/shizhong/michael/mwas/gwas//libd_chr1.pgen\n",
       "3 /dcs04/lieber/statsgen/shizhong/michael/mwas/gwas//libd_chr1.pgen\n",
       "4 /dcs04/lieber/statsgen/shizhong/michael/mwas/gwas//libd_chr1.pgen\n",
       "5 /dcs04/lieber/statsgen/shizhong/michael/mwas/gwas//libd_chr1.pgen\n",
       "6 /dcs04/lieber/statsgen/shizhong/michael/mwas/gwas//libd_chr1.pgen\n",
       "  methylation_data                                                       \n",
       "1 /dcs04/lieber/statsgen/shizhong/michael/mwas/pheno/caud/out/chr1_AA.rda\n",
       "2 /dcs04/lieber/statsgen/shizhong/michael/mwas/pheno/caud/out/chr1_AA.rda\n",
       "3 /dcs04/lieber/statsgen/shizhong/michael/mwas/pheno/caud/out/chr1_AA.rda\n",
       "4 /dcs04/lieber/statsgen/shizhong/michael/mwas/pheno/caud/out/chr1_AA.rda\n",
       "5 /dcs04/lieber/statsgen/shizhong/michael/mwas/pheno/caud/out/chr1_AA.rda\n",
       "6 /dcs04/lieber/statsgen/shizhong/michael/mwas/pheno/caud/out/chr1_AA.rda\n",
       "  last_meth_value_with_SNP_coverage first_meth_value_with_SNP_coverage\n",
       "1 248918358                         1069461                           \n",
       "2 248918358                         1069461                           \n",
       "3 248918358                         1069461                           \n",
       "4 248918358                         1069461                           \n",
       "5 248918358                         1069461                           \n",
       "6 248918358                         1069461                           \n",
       "  last_meth_index_with_SNP_coverage first_meth_index_with_SNP_coverage\n",
       "1 2202702                           8982                              \n",
       "2 2202702                           8982                              \n",
       "3 2202702                           8982                              \n",
       "4 2202702                           8982                              \n",
       "5 2202702                           8982                              \n",
       "6 2202702                           8982                              \n",
       "  cov_file                                                      \n",
       "1 /dcs04/lieber/statsgen/mnagle/mwas/full_covariates/AA_caud.csv\n",
       "2 /dcs04/lieber/statsgen/mnagle/mwas/full_covariates/AA_caud.csv\n",
       "3 /dcs04/lieber/statsgen/mnagle/mwas/full_covariates/AA_caud.csv\n",
       "4 /dcs04/lieber/statsgen/mnagle/mwas/full_covariates/AA_caud.csv\n",
       "5 /dcs04/lieber/statsgen/mnagle/mwas/full_covariates/AA_caud.csv\n",
       "6 /dcs04/lieber/statsgen/mnagle/mwas/full_covariates/AA_caud.csv\n",
       "  modified_methylation_data                                                \n",
       "1 /dcs04/lieber/statsgen/mnagle/mwas/pheno/caud/out/chr1_AA_8982-28981.rds \n",
       "2 /dcs04/lieber/statsgen/mnagle/mwas/pheno/caud/out/chr1_AA_8982-28981.rds \n",
       "3 /dcs04/lieber/statsgen/mnagle/mwas/pheno/caud/out/chr1_AA_28982-48981.rds\n",
       "4 /dcs04/lieber/statsgen/mnagle/mwas/pheno/caud/out/chr1_AA_28982-48981.rds\n",
       "5 /dcs04/lieber/statsgen/mnagle/mwas/pheno/caud/out/chr1_AA_48982-68981.rds\n",
       "6 /dcs04/lieber/statsgen/mnagle/mwas/pheno/caud/out/chr1_AA_48982-68981.rds\n",
       "  path                                                                                                                               \n",
       "1 ..//output_EXPANSE_a2_caud/libd_chr1-chr1_AA-libd_chr1-chr1_AA-8982-28981-dynamic-1corestotal-allcorepera-20240415-104419.rds      \n",
       "2 ..//output_EXPANSE_a2_caud/libd_chr1-chr1_AA-libd_chr1-chr1_AA-8982-28981-dynamic-1corestotal-allcorepera-caud-20240510-121942.rds \n",
       "3 ..//output_EXPANSE_a2_caud/libd_chr1-chr1_AA-libd_chr1-chr1_AA-28982-48981-dynamic-1corestotal-allcorepera-20240415-104820.rds     \n",
       "4 ..//output_EXPANSE_a2_caud/libd_chr1-chr1_AA-libd_chr1-chr1_AA-28982-48981-dynamic-1corestotal-allcorepera-caud-20240510-122045.rds\n",
       "5 ..//output_EXPANSE_a2_caud/libd_chr1-chr1_AA-libd_chr1-chr1_AA-48982-68981-dynamic-1corestotal-allcorepera-20240415-105220.rds     \n",
       "6 ..//output_EXPANSE_a2_caud/libd_chr1-chr1_AA-libd_chr1-chr1_AA-48982-68981-dynamic-1corestotal-allcorepera-caud-20240510-122147.rds\n",
       "  timestamp      \n",
       "1 20240415-104419\n",
       "2 20240510-121942\n",
       "3 20240415-104820\n",
       "4 20240510-122045\n",
       "5 20240415-105220\n",
       "6 20240510-122147"
      ]
     },
     "metadata": {},
     "output_type": "display_data"
    }
   ],
   "source": [
    "head(df)"
   ]
  },
  {
   "cell_type": "code",
   "execution_count": 8,
   "id": "68578b20-e255-4924-8301-6fde020c037e",
   "metadata": {},
   "outputs": [],
   "source": [
    "# Convert timestamp to an actual date-time object to ensure correct ordering\n",
    "df[, timestamp := as.POSIXct(timestamp, format = \"%Y%m%d-%H%M%S\")]\n",
    "\n",
    "# Order by modified_methylation_data and timestamp\n",
    "setorder(df, modified_methylation_data, -timestamp)\n",
    "\n",
    "# Remove duplicates, keeping only the latest timestamp entry for each modified_methylation_data\n",
    "df <- unique(df, by = \"modified_methylation_data\")\n"
   ]
  },
  {
   "cell_type": "code",
   "execution_count": 9,
   "id": "c93aa297-ab3a-4e47-b099-2d3f65c51968",
   "metadata": {},
   "outputs": [
    {
     "data": {
      "text/html": [
       "<table class=\"dataframe\">\n",
       "<caption>A data.table: 1 × 15</caption>\n",
       "<thead>\n",
       "\t<tr><th scope=col>Chr</th><th scope=col>population</th><th scope=col>region</th><th scope=col>chunk_start</th><th scope=col>chunk_end</th><th scope=col>SNP_data</th><th scope=col>methylation_data</th><th scope=col>last_meth_value_with_SNP_coverage</th><th scope=col>first_meth_value_with_SNP_coverage</th><th scope=col>last_meth_index_with_SNP_coverage</th><th scope=col>first_meth_index_with_SNP_coverage</th><th scope=col>cov_file</th><th scope=col>modified_methylation_data</th><th scope=col>path</th><th scope=col>timestamp</th></tr>\n",
       "\t<tr><th scope=col>&lt;int&gt;</th><th scope=col>&lt;chr&gt;</th><th scope=col>&lt;chr&gt;</th><th scope=col>&lt;int&gt;</th><th scope=col>&lt;dbl&gt;</th><th scope=col>&lt;chr&gt;</th><th scope=col>&lt;chr&gt;</th><th scope=col>&lt;int&gt;</th><th scope=col>&lt;int&gt;</th><th scope=col>&lt;int&gt;</th><th scope=col>&lt;int&gt;</th><th scope=col>&lt;chr&gt;</th><th scope=col>&lt;chr&gt;</th><th scope=col>&lt;chr&gt;</th><th scope=col>&lt;dttm&gt;</th></tr>\n",
       "</thead>\n",
       "<tbody>\n",
       "\t<tr><td>1</td><td>AA</td><td>caud</td><td>8982</td><td>28981</td><td>/dcs04/lieber/statsgen/shizhong/michael/mwas/gwas//libd_chr1.pgen</td><td>/dcs04/lieber/statsgen/shizhong/michael/mwas/pheno/caud/out/chr1_AA.rda</td><td>248918358</td><td>1069461</td><td>2202702</td><td>8982</td><td>/dcs04/lieber/statsgen/mnagle/mwas/full_covariates/AA_caud.csv</td><td>/dcs04/lieber/statsgen/mnagle/mwas/pheno/caud/out/chr1_AA_8982-28981.rds</td><td>..//output_EXPANSE_a2_caud/libd_chr1-chr1_AA-libd_chr1-chr1_AA-8982-28981-dynamic-1corestotal-allcorepera-caud-20240510-121942.rds</td><td>2024-05-10 12:19:42</td></tr>\n",
       "</tbody>\n",
       "</table>\n"
      ],
      "text/latex": [
       "A data.table: 1 × 15\n",
       "\\begin{tabular}{lllllllllllllll}\n",
       " Chr & population & region & chunk\\_start & chunk\\_end & SNP\\_data & methylation\\_data & last\\_meth\\_value\\_with\\_SNP\\_coverage & first\\_meth\\_value\\_with\\_SNP\\_coverage & last\\_meth\\_index\\_with\\_SNP\\_coverage & first\\_meth\\_index\\_with\\_SNP\\_coverage & cov\\_file & modified\\_methylation\\_data & path & timestamp\\\\\n",
       " <int> & <chr> & <chr> & <int> & <dbl> & <chr> & <chr> & <int> & <int> & <int> & <int> & <chr> & <chr> & <chr> & <dttm>\\\\\n",
       "\\hline\n",
       "\t 1 & AA & caud & 8982 & 28981 & /dcs04/lieber/statsgen/shizhong/michael/mwas/gwas//libd\\_chr1.pgen & /dcs04/lieber/statsgen/shizhong/michael/mwas/pheno/caud/out/chr1\\_AA.rda & 248918358 & 1069461 & 2202702 & 8982 & /dcs04/lieber/statsgen/mnagle/mwas/full\\_covariates/AA\\_caud.csv & /dcs04/lieber/statsgen/mnagle/mwas/pheno/caud/out/chr1\\_AA\\_8982-28981.rds & ..//output\\_EXPANSE\\_a2\\_caud/libd\\_chr1-chr1\\_AA-libd\\_chr1-chr1\\_AA-8982-28981-dynamic-1corestotal-allcorepera-caud-20240510-121942.rds & 2024-05-10 12:19:42\\\\\n",
       "\\end{tabular}\n"
      ],
      "text/markdown": [
       "\n",
       "A data.table: 1 × 15\n",
       "\n",
       "| Chr &lt;int&gt; | population &lt;chr&gt; | region &lt;chr&gt; | chunk_start &lt;int&gt; | chunk_end &lt;dbl&gt; | SNP_data &lt;chr&gt; | methylation_data &lt;chr&gt; | last_meth_value_with_SNP_coverage &lt;int&gt; | first_meth_value_with_SNP_coverage &lt;int&gt; | last_meth_index_with_SNP_coverage &lt;int&gt; | first_meth_index_with_SNP_coverage &lt;int&gt; | cov_file &lt;chr&gt; | modified_methylation_data &lt;chr&gt; | path &lt;chr&gt; | timestamp &lt;dttm&gt; |\n",
       "|---|---|---|---|---|---|---|---|---|---|---|---|---|---|---|\n",
       "| 1 | AA | caud | 8982 | 28981 | /dcs04/lieber/statsgen/shizhong/michael/mwas/gwas//libd_chr1.pgen | /dcs04/lieber/statsgen/shizhong/michael/mwas/pheno/caud/out/chr1_AA.rda | 248918358 | 1069461 | 2202702 | 8982 | /dcs04/lieber/statsgen/mnagle/mwas/full_covariates/AA_caud.csv | /dcs04/lieber/statsgen/mnagle/mwas/pheno/caud/out/chr1_AA_8982-28981.rds | ..//output_EXPANSE_a2_caud/libd_chr1-chr1_AA-libd_chr1-chr1_AA-8982-28981-dynamic-1corestotal-allcorepera-caud-20240510-121942.rds | 2024-05-10 12:19:42 |\n",
       "\n"
      ],
      "text/plain": [
       "  Chr population region chunk_start chunk_end\n",
       "1 1   AA         caud   8982        28981    \n",
       "  SNP_data                                                         \n",
       "1 /dcs04/lieber/statsgen/shizhong/michael/mwas/gwas//libd_chr1.pgen\n",
       "  methylation_data                                                       \n",
       "1 /dcs04/lieber/statsgen/shizhong/michael/mwas/pheno/caud/out/chr1_AA.rda\n",
       "  last_meth_value_with_SNP_coverage first_meth_value_with_SNP_coverage\n",
       "1 248918358                         1069461                           \n",
       "  last_meth_index_with_SNP_coverage first_meth_index_with_SNP_coverage\n",
       "1 2202702                           8982                              \n",
       "  cov_file                                                      \n",
       "1 /dcs04/lieber/statsgen/mnagle/mwas/full_covariates/AA_caud.csv\n",
       "  modified_methylation_data                                               \n",
       "1 /dcs04/lieber/statsgen/mnagle/mwas/pheno/caud/out/chr1_AA_8982-28981.rds\n",
       "  path                                                                                                                              \n",
       "1 ..//output_EXPANSE_a2_caud/libd_chr1-chr1_AA-libd_chr1-chr1_AA-8982-28981-dynamic-1corestotal-allcorepera-caud-20240510-121942.rds\n",
       "  timestamp          \n",
       "1 2024-05-10 12:19:42"
      ]
     },
     "metadata": {},
     "output_type": "display_data"
    }
   ],
   "source": [
    "df[which(df$modified_methylation_data == \"/dcs04/lieber/statsgen/mnagle/mwas/pheno/caud/out/chr1_AA_8982-28981.rds\"), ]"
   ]
  },
  {
   "cell_type": "code",
   "execution_count": 10,
   "id": "49feb156-490f-465d-b728-254d6a6e24b4",
   "metadata": {},
   "outputs": [
    {
     "data": {
      "text/html": [
       "<style>\n",
       ".list-inline {list-style: none; margin:0; padding: 0}\n",
       ".list-inline>li {display: inline-block}\n",
       ".list-inline>li:not(:last-child)::after {content: \"\\00b7\"; padding: 0 .5ex}\n",
       "</style>\n",
       "<ol class=list-inline><li>11457</li><li>15</li></ol>\n"
      ],
      "text/latex": [
       "\\begin{enumerate*}\n",
       "\\item 11457\n",
       "\\item 15\n",
       "\\end{enumerate*}\n"
      ],
      "text/markdown": [
       "1. 11457\n",
       "2. 15\n",
       "\n",
       "\n"
      ],
      "text/plain": [
       "[1] 11457    15"
      ]
     },
     "metadata": {},
     "output_type": "display_data"
    }
   ],
   "source": [
    "dim(df)"
   ]
  },
  {
   "cell_type": "code",
   "execution_count": 11,
   "id": "6b4071ff-b3c7-4083-9deb-b7b10ff76243",
   "metadata": {},
   "outputs": [],
   "source": [
    "df$methylation_data <- gsub(\"/dcs04/lieber/statsgen/mnagle/\", \"/expanse/lustre/projects/jhu152/naglemi/\", df$methylation_data)\n",
    "df$methylation_data <- gsub(\"/dcs04/lieber/statsgen/shizhong/michael/\", \"/expanse/lustre/projects/jhu152/naglemi/\", df$methylation_data)"
   ]
  },
  {
   "cell_type": "code",
   "execution_count": 12,
   "id": "7b46d62c-bdd8-4bd6-9417-68f4218b6d3d",
   "metadata": {},
   "outputs": [],
   "source": [
    "df$table_path <- gsub(\".rda\", \"-DNAm_stats.csv\", df$path)"
   ]
  },
  {
   "cell_type": "code",
   "execution_count": 13,
   "id": "c60dd602-4ba4-485f-bb20-73c6111b21de",
   "metadata": {},
   "outputs": [],
   "source": [
    "#df <- df[!duplicated(df[, c(\"methylation_data\")], fromLast = TRUE), ]"
   ]
  },
  {
   "cell_type": "code",
   "execution_count": 14,
   "id": "2a05c138-0874-4a18-a0af-4c0c64d09eee",
   "metadata": {},
   "outputs": [],
   "source": [
    "df <- df[!grepl(\"empty\", df$path), ]"
   ]
  },
  {
   "cell_type": "code",
   "execution_count": 15,
   "id": "50634661-360a-44ef-bb37-2d4da4d721fb",
   "metadata": {},
   "outputs": [
    {
     "data": {
      "text/html": [
       "<style>\n",
       ".list-inline {list-style: none; margin:0; padding: 0}\n",
       ".list-inline>li {display: inline-block}\n",
       ".list-inline>li:not(:last-child)::after {content: \"\\00b7\"; padding: 0 .5ex}\n",
       "</style>\n",
       "<ol class=list-inline><li>11421</li><li>16</li></ol>\n"
      ],
      "text/latex": [
       "\\begin{enumerate*}\n",
       "\\item 11421\n",
       "\\item 16\n",
       "\\end{enumerate*}\n"
      ],
      "text/markdown": [
       "1. 11421\n",
       "2. 16\n",
       "\n",
       "\n"
      ],
      "text/plain": [
       "[1] 11421    16"
      ]
     },
     "metadata": {},
     "output_type": "display_data"
    }
   ],
   "source": [
    "dim(df)"
   ]
  },
  {
   "cell_type": "markdown",
   "id": "9ffb02b7-ea70-47c0-9a81-1f15ec3e626e",
   "metadata": {},
   "source": [
    "## Prepare methylation files"
   ]
  },
  {
   "cell_type": "code",
   "execution_count": 16,
   "id": "94a35d92-dd9b-4dce-a7b1-159848f1041e",
   "metadata": {},
   "outputs": [],
   "source": [
    "# non-parallel version\n",
    "\n",
    "# library(data.table)\n",
    "# library(GenomicRanges)\n",
    "\n",
    "# # Assume df is already loaded and is a data.table\n",
    "# # Unique methylation_data files to process\n",
    "# unique_methylation_files <- unique(df$methylation_data)\n",
    "\n",
    "# #results <- data.table()\n",
    "\n",
    "# # Loop over each unique methylation data file\n",
    "# for (file_path in unique_methylation_files) {\n",
    "#     # Load the methylation data\n",
    "#     print(file_path)\n",
    "#     tryCatch({\n",
    "#         load(file_path)  # This should define BSobj2 or update it\n",
    "#     }, error = function(e) {\n",
    "#         warning_message <- paste(\"Error loading methylation data from\", file_path, \":\", e$message)\n",
    "#         warning(warning_message)\n",
    "#         next\n",
    "#     })\n",
    "\n",
    "#     # Assuming BSobj2 is loaded correctly and is usable\n",
    "#     granges_obj <- granges(BSobj2)\n",
    "\n",
    "#     # Calculate mean and variance of DNAm\n",
    "#     mean_DNAm <- rowMeans(getMeth(BSobj2, type = \"smooth\", what = \"perBase\"), na.rm = TRUE)\n",
    "#     var_DNAm <- apply(getMeth(BSobj2, type = \"smooth\", what = \"perBase\"), 1, var, na.rm = TRUE)\n",
    "    \n",
    "#     # Get associated metadata from df for the current file\n",
    "#     df_subset <- df[methylation_data == file_path, .(Chr, population, region)]\n",
    "\n",
    "#     # Create a temporary data.table for results.1\n",
    "#     temp_results <- data.table(\n",
    "#         Chr = unique(df_subset$Chr),\n",
    "#         pos = unique(start(ranges(granges_obj))),\n",
    "#         population = unique(df_subset$population),\n",
    "#         region = unique(df_subset$region),\n",
    "#         mean_DNAm = mean_DNAm,\n",
    "#         var_DNAm = var_DNAm\n",
    "#     )\n",
    "    \n",
    "#     # Define the output filename based on the methylation_data name\n",
    "#     output_filename <- sub(\"\\\\.rda$\", \"_raw-DNAm-only.csv\", file_path)\n",
    "    \n",
    "#     # Write to file without header\n",
    "#     fwrite(temp_results, output_filename, col.names = FALSE)\n",
    "\n",
    "#     BSobj2 <- NULL\n",
    "# }\n"
   ]
  },
  {
   "cell_type": "code",
   "execution_count": 17,
   "id": "aedde26e-8e87-4f1c-b59b-ee3ac6268cc4",
   "metadata": {},
   "outputs": [
    {
     "name": "stderr",
     "output_type": "stream",
     "text": [
      "Warning message in mclapply(unique_methylation_files, process_files, mc.cores = no_cores):\n",
      "“scheduled cores 1, 2, 3, 4, 5, 6, 7, 9, 10, 11, 12, 13, 14, 15, 17, 18, 19, 22, 23, 25, 26, 27, 28, 29, 31, 33, 36, 38, 39, 42, 43, 44, 45, 46, 51, 52, 53, 54, 55, 59, 60, 61, 67, 69, 70, 72, 73, 75, 76, 77, 79, 81, 82, 84, 86, 88, 90, 92, 93, 94, 95, 96, 99 did not deliver results, all values of the jobs will be affected”\n"
     ]
    }
   ],
   "source": [
    "# parallelized\n",
    "\n",
    "library(data.table)\n",
    "library(GenomicRanges)\n",
    "library(parallel)\n",
    "\n",
    "# Assume df is already loaded and is a data.table\n",
    "# Unique methylation_data files to process\n",
    "unique_methylation_files <- unique(df$methylation_data)\n",
    "\n",
    "# Function to process each file\n",
    "process_files <- function(file_path) {\n",
    "  # Load the methylation data\n",
    "  message <- tryCatch({\n",
    "    load(file_path)  # This should define BSobj2 or update it\n",
    "    TRUE\n",
    "  }, error = function(e) {\n",
    "    return(paste(\"Error loading methylation data from\", file_path, \":\", e$message))\n",
    "  })\n",
    "  \n",
    "  if (is.character(message)) {\n",
    "    return(message)\n",
    "  }\n",
    "\n",
    "  # Assuming BSobj2 is loaded correctly and is usable\n",
    "  granges_obj <- granges(BSobj2)\n",
    "\n",
    "  # Calculate mean and variance of DNAm\n",
    "  mean_DNAm <- rowMeans(getMeth(BSobj2, type = \"smooth\", what = \"perBase\"), na.rm = TRUE)\n",
    "  var_DNAm <- apply(getMeth(BSobj2, type = \"smooth\", what = \"perBase\"), 1, var, na.rm = TRUE)\n",
    "  \n",
    "  # Get associated metadata from df for the current file\n",
    "  df_subset <- df[methylation_data == file_path, .(Chr, population, region)]\n",
    "\n",
    "  # Create a temporary data.table for results.1\n",
    "  temp_results <- data.table(\n",
    "      Chr = unique(df_subset$Chr),\n",
    "      pos = unique(start(ranges(granges_obj))),\n",
    "      population = unique(df_subset$population),\n",
    "      region = unique(df_subset$region),\n",
    "      mean_DNAm = mean_DNAm,\n",
    "      var_DNAm = var_DNAm\n",
    "  )\n",
    "  \n",
    "  # Define the output filename based on the methylation_data name\n",
    "  output_filename <- sub(\"\\\\.rda$\", \"_raw-DNAm-only.csv\", file_path)\n",
    "  \n",
    "  # Write to file without header\n",
    "  fwrite(temp_results, output_filename, col.names = FALSE)\n",
    "\n",
    "  NULL\n",
    "}\n",
    "\n",
    "# Get the number of available cores\n",
    "no_cores <- 100\n",
    "\n",
    "# Use parallel processing to handle the files\n",
    "results <- mclapply(unique_methylation_files, process_files, mc.cores = no_cores)\n",
    "\n",
    "# Optionally print errors and messages\n",
    "errors <- unlist(results)\n",
    "if (length(errors) > 0) {\n",
    "  cat(\"Errors encountered during processing:\\n\")\n",
    "  cat(paste(errors, collapse = \"\\n\"), \"\\n\")\n",
    "}\n"
   ]
  },
  {
   "cell_type": "code",
   "execution_count": 25,
   "id": "a03796f8-6726-490e-8a5b-cad9d183ea6b",
   "metadata": {},
   "outputs": [],
   "source": [
    "# load(df$methylation_data[i])"
   ]
  },
  {
   "cell_type": "code",
   "execution_count": 16,
   "id": "cc3bd5e2-5316-46c1-8195-0c1eaece0111",
   "metadata": {},
   "outputs": [],
   "source": [
    "# names(attributes(BSobj2))"
   ]
  },
  {
   "cell_type": "code",
   "execution_count": 17,
   "id": "ae3ac94f-276f-4549-a1d0-fa39aa1b6def",
   "metadata": {},
   "outputs": [],
   "source": [
    "# length(start(ranges(granges(BSobj2))))"
   ]
  },
  {
   "cell_type": "code",
   "execution_count": 18,
   "id": "4776d036-01b8-460e-8753-b025f4495149",
   "metadata": {},
   "outputs": [],
   "source": [
    "# dim(getMeth(BSobj2, type = \"smooth\", what = \"perBase\"))"
   ]
  },
  {
   "cell_type": "code",
   "execution_count": 19,
   "id": "046ac046-bb49-4577-a246-3537c4b13610",
   "metadata": {},
   "outputs": [],
   "source": [
    "# getMeth(BSobj2[1:10, 1:10])"
   ]
  },
  {
   "cell_type": "code",
   "execution_count": 20,
   "id": "ec930245-3116-4dee-abe0-9fe641347150",
   "metadata": {},
   "outputs": [],
   "source": [
    "# results.1 <- data.frame(Chr = df$Chr[i],\n",
    "#            pos = start(ranges(granges(BSobj2))),\n",
    "#            population = df$population[i],\n",
    "#            region = df$region[i],\n",
    "#            mean_DNAm = rowMeans(getMeth(BSobj2, type = \"smooth\", what = \"perBase\"), na.rm = TRUE),\n",
    "#            var_DNAm = apply(getMeth(BSobj2, type = \"smooth\", what = \"perBase\"), 1, var, na.rm = TRUE))"
   ]
  },
  {
   "cell_type": "code",
   "execution_count": 21,
   "id": "8db8c4a7-6330-4a5c-b3e0-c8bf52a3c31e",
   "metadata": {},
   "outputs": [],
   "source": [
    "# models_in <- readRDS(df$path[i])"
   ]
  },
  {
   "cell_type": "code",
   "execution_count": 22,
   "id": "bb5a46ec-7671-4187-9802-b9951d844790",
   "metadata": {},
   "outputs": [],
   "source": [
    "# results.2 <- data.frame(Chr = df$Chr[i],\n",
    "#                         population = df$population[i],\n",
    "#                         region = df$region[i],\n",
    "#                         pos = sapply(models_in@models, function(x) x@methylationPosition),\n",
    "#                         cor = sapply(models_in@models, function(x) x@evaluation_results['cor']),\n",
    "#                         mse = sapply(models_in@models, function(x) x@evaluation_results['mse'])\n",
    "# )"
   ]
  },
  {
   "cell_type": "code",
   "execution_count": 23,
   "id": "1c0a867b-a86d-49ab-b3fc-71cd0fe2468a",
   "metadata": {},
   "outputs": [],
   "source": [
    "# results_merged <- merge(results.1, results.2)"
   ]
  },
  {
   "cell_type": "code",
   "execution_count": 24,
   "id": "efb924b0-3ee2-4af7-8d88-08e557983ce1",
   "metadata": {},
   "outputs": [],
   "source": [
    "# populations <- c(\"EA\", \"AA\", \"all\")\n",
    "\n",
    "# for (pop in populations) {\n",
    "#   idx <- which(df$population == pop)[1:2]\n",
    "#   for (i in idx) {\n",
    "#     #if (file.exists(df$table_path[i])) next\n",
    "#     if (df$path[i] == \"..//output_EXPANSE_a2_caud/libd_chr17-chr17_AA-libd_chr17-chr17_AA-261513-281512-dynamic-1corestotal-allcorepera-20240507-183049.rds\") next\n",
    "    \n",
    "#     load(df$methylation_data[i])\n",
    "    \n",
    "#     results.1 <- data.frame(\n",
    "#       Chr = df$Chr[i],\n",
    "#       pos = start(ranges(granges(BSobj2))),\n",
    "#       population = df$population[i],\n",
    "#       region = df$region[i],\n",
    "#       mean_DNAm = rowMeans(getMeth(BSobj2, type = \"smooth\", what = \"perBase\"), na.rm = TRUE),\n",
    "#       var_DNAm = apply(getMeth(BSobj2, type = \"smooth\", what = \"perBase\"), 1, var, na.rm = TRUE)\n",
    "#     )\n",
    "\n",
    "#     print(df$path[i])\n",
    "#     print(head(results.1))\n",
    "#     print(file_in@methylations[1:10, 1:10])\n",
    "#   }\n",
    "# }\n"
   ]
  },
  {
   "cell_type": "markdown",
   "id": "1215de12-fb58-4b89-83f8-b3efdbd0321d",
   "metadata": {},
   "source": [
    "## Loop through all"
   ]
  },
  {
   "cell_type": "markdown",
   "id": "e28c07a6-44b6-42c2-af83-210f17755217",
   "metadata": {},
   "source": [
    "## Prepare methylation data in a nice format"
   ]
  },
  {
   "cell_type": "code",
   "execution_count": null,
   "id": "9aaf7ccb-257f-4d62-a33e-51e4f33d58ad",
   "metadata": {},
   "outputs": [],
   "source": []
  },
  {
   "cell_type": "code",
   "execution_count": null,
   "id": "aefcfc03-24e4-4577-b78f-01a3e24b19ca",
   "metadata": {},
   "outputs": [],
   "source": []
  },
  {
   "cell_type": "markdown",
   "id": "956fe08e-2aab-434e-8332-cc531c573e2f",
   "metadata": {},
   "source": [
    "loop through rds"
   ]
  },
  {
   "cell_type": "code",
   "execution_count": 22,
   "id": "c999d3a2-7f4d-4300-a671-75454185e4a9",
   "metadata": {},
   "outputs": [
    {
     "data": {
      "text/html": [
       "198"
      ],
      "text/latex": [
       "198"
      ],
      "text/markdown": [
       "198"
      ],
      "text/plain": [
       "[1] 198"
      ]
     },
     "metadata": {},
     "output_type": "display_data"
    }
   ],
   "source": [
    "nrow(df)"
   ]
  },
  {
   "cell_type": "code",
   "execution_count": 20,
   "id": "ea9f7c20-b478-44c0-8c53-e9eceb0c58fe",
   "metadata": {},
   "outputs": [
    {
     "name": "stderr",
     "output_type": "stream",
     "text": [
      "Warning message in value[[3L]](cond):\n",
      "“Error reading RDS file for row 1 : unknown input format”\n"
     ]
    },
    {
     "ename": "ERROR",
     "evalue": "Error in value[[3L]](cond): no loop for break/next, jumping to top level\n",
     "output_type": "error",
     "traceback": [
      "Error in value[[3L]](cond): no loop for break/next, jumping to top level\nTraceback:\n",
      "1. tryCatch({\n .     models_in <- readRDS(df$path[i])\n . }, error = function(e) {\n .     warning_message <- paste(\"Error reading RDS file for row\", \n .         i, \":\", e$message)\n .     warning(warning_message)\n .     warnings_list[[length(warnings_list) + 1]] <- warning_message\n .     next\n . })",
      "2. tryCatchList(expr, classes, parentenv, handlers)",
      "3. tryCatchOne(expr, names, parentenv, handlers[[1L]])",
      "4. value[[3L]](cond)"
     ]
    }
   ],
   "source": [
    "library(data.table)\n",
    "library(GenomicRanges)\n",
    "\n",
    "# Initialize a list to store warnings\n",
    "warnings_list <- list()\n",
    "\n",
    "for(i in 1:nrow(df)) {\n",
    "    if (i %% 20 == 0) print(i)\n",
    "    \n",
    "    # Try to load the methylation data, skip on error\n",
    "    tryCatch({\n",
    "        file_in <- load(df$methylation_data[i])\n",
    "    }, error = function(e) {\n",
    "        warning_message <- paste(\"Error loading methylation data for row\", i, \":\", e$message)\n",
    "        warning(warning_message)\n",
    "        warnings_list[[length(warnings_list) + 1]] <- warning_message\n",
    "        next\n",
    "    })\n",
    "    \n",
    "    # Calculate results.1\n",
    "    results.1 <- data.frame(\n",
    "        Chr = df$Chr[i],\n",
    "        pos = start(ranges(granges(BSobj2))),\n",
    "        population = df$population[i],\n",
    "        region = df$region[i],\n",
    "        mean_DNAm = rowMeans(getMeth(BSobj2, type = \"smooth\", what = \"perBase\"), na.rm = TRUE),\n",
    "        var_DNAm = apply(getMeth(BSobj2, type = \"smooth\", what = \"perBase\"), 1, var, na.rm = TRUE)\n",
    "    )\n",
    "    \n",
    "    # Skip if the path contains \"empty\"\n",
    "    if(grepl(\"empty\", df$path[i])) next\n",
    "    \n",
    "    # Try to read the RDS file, skip on error\n",
    "    tryCatch({\n",
    "        models_in <- readRDS(df$path[i])\n",
    "    }, error = function(e) {\n",
    "        warning_message <- paste(\"Error reading RDS file for row\", i, \":\", e$message)\n",
    "        warning(warning_message)\n",
    "        warnings_list[[length(warnings_list) + 1]] <- warning_message\n",
    "        next\n",
    "    })\n",
    "    \n",
    "    # Calculate results.2\n",
    "    results.2 <- data.frame(\n",
    "        Chr = df$Chr[i],\n",
    "        population = df$population[i],\n",
    "        region = df$region[i],\n",
    "        pos = sapply(models_in@models, function(x) x@methylationPosition),\n",
    "        cor = sapply(models_in@models, function(x) x@evaluation_results['cor']),\n",
    "        mse = sapply(models_in@models, function(x) x@evaluation_results['mse'])\n",
    "    )\n",
    "    \n",
    "    # Merge results and write to file\n",
    "    results_merged <- merge(results.1, results.2)\n",
    "    \n",
    "    fwrite(results_merged, df$table_path[i])\n",
    "}\n",
    "\n",
    "# Print all stored warnings at the end\n",
    "if (length(warnings_list) > 0) {\n",
    "  cat(\"Warnings encountered during processing:\\n\")\n",
    "  cat(paste(warnings_list, collapse = \"\\n\"), \"\\n\")\n",
    "}\n"
   ]
  },
  {
   "cell_type": "code",
   "execution_count": 20,
   "id": "5a716d8e-1f8e-48e3-9f75-b5436afb4f80",
   "metadata": {},
   "outputs": [
    {
     "data": {
      "text/html": [
       "1"
      ],
      "text/latex": [
       "1"
      ],
      "text/markdown": [
       "1"
      ],
      "text/plain": [
       "[1] 1"
      ]
     },
     "metadata": {},
     "output_type": "display_data"
    }
   ],
   "source": [
    "i"
   ]
  },
  {
   "cell_type": "code",
   "execution_count": 24,
   "id": "75c733ca-f083-4997-96ff-47fe7560618d",
   "metadata": {},
   "outputs": [],
   "source": [
    "load(df$methylation_data[i])"
   ]
  },
  {
   "cell_type": "code",
   "execution_count": null,
   "id": "85b07526-e232-4009-ac5a-2b3af088a85b",
   "metadata": {},
   "outputs": [],
   "source": []
  }
 ],
 "metadata": {
  "kernelspec": {
   "display_name": "R",
   "language": "R",
   "name": "ir"
  },
  "language_info": {
   "codemirror_mode": "r",
   "file_extension": ".r",
   "mimetype": "text/x-r-source",
   "name": "R",
   "pygments_lexer": "r",
   "version": "4.3.1"
  }
 },
 "nbformat": 4,
 "nbformat_minor": 5
}
