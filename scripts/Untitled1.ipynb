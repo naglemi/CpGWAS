{
 "cells": [
  {
   "cell_type": "markdown",
   "id": "0d99123b-99a0-4f87-a030-a8a6ef5a02ba",
   "metadata": {},
   "source": [
    "# Sanity test RDS file"
   ]
  },
  {
   "cell_type": "code",
   "execution_count": 1,
   "id": "b8f74c38-95e3-49e4-9574-1b9360527068",
   "metadata": {},
   "outputs": [],
   "source": [
    "library(CpGWAS)"
   ]
  },
  {
   "cell_type": "code",
   "execution_count": 2,
   "id": "62dc3cbf-beb0-4c67-b19d-8139c4e967dc",
   "metadata": {},
   "outputs": [],
   "source": [
    "file_in <- readRDS(\"/dcs04/lieber/statsgen/mnagle/mwas/chr1_AA_methylation_10k_samples.rds\")"
   ]
  },
  {
   "cell_type": "code",
   "execution_count": 3,
   "id": "118745d6-0435-41bd-b109-c3d0963f32ce",
   "metadata": {},
   "outputs": [
    {
     "data": {
      "text/html": [
       "<style>\n",
       ".list-inline {list-style: none; margin:0; padding: 0}\n",
       ".list-inline>li {display: inline-block}\n",
       ".list-inline>li:not(:last-child)::after {content: \"\\00b7\"; padding: 0 .5ex}\n",
       "</style>\n",
       "<ol class=list-inline><li>792731</li><li>792910</li><li>792972</li><li>793022</li><li>793225</li><li>793543</li></ol>\n"
      ],
      "text/latex": [
       "\\begin{enumerate*}\n",
       "\\item 792731\n",
       "\\item 792910\n",
       "\\item 792972\n",
       "\\item 793022\n",
       "\\item 793225\n",
       "\\item 793543\n",
       "\\end{enumerate*}\n"
      ],
      "text/markdown": [
       "1. 792731\n",
       "2. 792910\n",
       "3. 792972\n",
       "4. 793022\n",
       "5. 793225\n",
       "6. 793543\n",
       "\n",
       "\n"
      ],
      "text/plain": [
       "[1] 792731 792910 792972 793022 793225 793543"
      ]
     },
     "metadata": {},
     "output_type": "display_data"
    }
   ],
   "source": [
    "head(file_in@methylations_positions)"
   ]
  },
  {
   "cell_type": "code",
   "execution_count": null,
   "id": "cef94355-2ba1-4e1a-8964-d90a2e014e76",
   "metadata": {},
   "outputs": [],
   "source": []
  }
 ],
 "metadata": {
  "kernelspec": {
   "display_name": "R",
   "language": "R",
   "name": "ir"
  },
  "language_info": {
   "codemirror_mode": "r",
   "file_extension": ".r",
   "mimetype": "text/x-r-source",
   "name": "R",
   "pygments_lexer": "r",
   "version": "4.3.1"
  }
 },
 "nbformat": 4,
 "nbformat_minor": 5
}
