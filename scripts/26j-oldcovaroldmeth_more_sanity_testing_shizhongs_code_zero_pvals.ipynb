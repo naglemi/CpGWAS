{
 "cells": [
  {
   "cell_type": "markdown",
   "id": "bf56f1cb-692a-4f54-b026-99e8075d50e8",
   "metadata": {},
   "source": [
    "# Compare MWAS methods for sanity tests and troubleshooting"
   ]
  },
  {
   "cell_type": "markdown",
   "id": "dc17d619-945e-4221-8ba7-c4c36fa56efe",
   "metadata": {},
   "source": [
    "In version e, we unify the elastic.net functions and make sure 1se and 1min produce different results.\n",
    "\n",
    "In version f, we try old covariates with all new data for everything else\n",
    "\n",
    "In version g, we do another quick sanity test with \"all\" sample methylation data instead of AA.\n",
    "\n",
    "In version h, we try old covariates, new BSseq data, new everything else. Since we're using old BSseq data, we must change back to Chr 7 for the selected peak for which we have sample data. We got normal results!\n",
    "\n",
    "In version i, change back to Chr 1 and see if we still get normal results.... We did not!\n",
    "\n",
    "Ok, now let's try other chromosomes/regions with random sites\n",
    "\n",
    "Down the road, let's change covariates back to ours"
   ]
  },
  {
   "cell_type": "code",
   "execution_count": 1,
   "id": "2054d1a8-1795-4575-863d-71ca74281822",
   "metadata": {},
   "outputs": [],
   "source": [
    "chr <- 3 # code set up for old bsseq chr 7, or anything with new bsseq"
   ]
  },
  {
   "cell_type": "code",
   "execution_count": 2,
   "id": "484d3ff2-9116-4477-8976-f1c828f354fa",
   "metadata": {},
   "outputs": [],
   "source": [
    "sites_to_test_pos <- \"random\"\n",
    "n_samples <- 200"
   ]
  },
  {
   "cell_type": "code",
   "execution_count": 3,
   "id": "be49eb64-a0d8-4e1f-a85a-983fe490bd2c",
   "metadata": {},
   "outputs": [],
   "source": [
    "# # Chr 1 sites\n",
    "# sites_to_test_pos <- c(73274305, 73274312, 73292330, 73307769, 73308571, 73419188, 73419830, 73420076)"
   ]
  },
  {
   "cell_type": "code",
   "execution_count": 4,
   "id": "a8c47927-98b4-4c3b-bf1a-1ee20ebf16f5",
   "metadata": {},
   "outputs": [],
   "source": [
    "# # These are the same sites from our test BSsample object on chr 7, and we're extracting these sites from\n",
    "# # the new bsseq object for the whole chromosome.\n",
    "# sites_to_test_pos <-\n",
    "# c(1980077, 1980101, 1980129, 1980136, 1980145, 1980179, 1980183, 1980193, 1980205, 1980239, \n",
    "# 1980247, 1980287, 1980291, 1980303, 1980320, 1980326, 1980355, 1980373, 1980390, 1980396, \n",
    "# 1980424, 1980430, 1980448, 1980458, 1980464, 1980496, 1980577, 1980581, 1980642, 1980661, \n",
    "# 1980787, 1980833, 1980852, 1980860, 1980866, 1980869, 1980893, 1980896, 1980905, 1980933, \n",
    "# 1980948, 1980952, 1980997, 1981035, 1981057, 1981111, 1981113, 1981123, 1981186, 1981200, \n",
    "# 1981213, 1981219, 1981246, 1981253, 1981262, 1981286, 1981328, 1981352, 1981359, 1981386, \n",
    "# 1981410, 1981427, 1981449, 1981479, 1981518, 1981608, 1981613, 1981675, 1981682, 1981958, \n",
    "# 1982004, 1982017, 1982035, 1982064, 1982079, 1982246, 1982264, 1982311, 1982357, 1982397, \n",
    "# 1982428, 1982488, 1982495, 1982498, 1982500, 1982541, 1982564, 1982583, 1982587, 1982648, \n",
    "# 1982740, 1982933, 1983048, 1983077, 1983083, 1983085, 1983105, 1983115, 1983133, 1983135, \n",
    "# 1983137, 1983139, 1983141, 1983143, 1983145, 1983147, 1983149, 1983151, 1983153, 1983296, \n",
    "# 1983405, 1983484, 1983612, 1983632, 1983694, 1983703, 1983733, 1983747, 1984150, 1984336, \n",
    "# 1984422, 1984473, 1984518, 1984556, 1984603, 1984623, 1984705, 1984833, 1984895, 1984908, \n",
    "# 1984972, 1985070, 1985172, 1985187, 1985193, 1985231, 1985257, 1985261, 1985292, 1985304, \n",
    "# 1985311, 1985342, 1985365, 1985419, 1985445, 1985468, 1985486, 1985521, 1985572, 1985585, \n",
    "# 1985591, 1985721, 1985744, 1985751, 1985759, 1985767, 1985825, 1985848, 1985857, 1985872, \n",
    "# 1985878, 1985883, 1985906, 1985911, 1985971, 1986087, 1986093, 1986164, 1986194, 1986214, \n",
    "# 1986256, 1986268, 1986331, 1986354, 1986377, 1986395, 1986407, 1986410, 1986417, 1986424, \n",
    "# 1986443, 1986450, 1986462, 1986465, 1986484, 1986486, 1986495, 1986497, 1986500, 1986519, \n",
    "# 1986521, 1986530, 1986532, 1986535, 1986554, 1986556, 1986583, 1986603, 1986624, 1986652, \n",
    "# 1986733, 1986784, 1986909, 1986957, 1987071, 1987106, 1987187, 1987226, 1987253, 1987269, \n",
    "# 1987319, 1987330, 1987338, 1987363, 1987365, 1987388, 1987395, 1987403, 1987407, 1987413, \n",
    "# 1987418, 1987434, 1987449, 1987458, 1987468, 1987492, 1987511, 1987527, 1987565, 1987604, \n",
    "# 1987616, 1987627, 1987648, 1987656, 1987659, 1987665, 1987669, 1987680, 1987684, 1987688, \n",
    "# 1987697, 1987705, 1987719, 1987725, 1987732, 1987778, 1987797, 1987808, 1987853, 1987858, \n",
    "# 1987861, 1987896, 1987910, 1987930, 1988010, 1988039, 1988059, 1988066, 1988078, 1988129, \n",
    "# 1988133, 1988141, 1988171, 1988201, 1988216, 1988292, 1988307, 1988321, 1988325, 1988332, \n",
    "# 1988401, 1988423, 1988546, 1988580, 1988612, 1988630, 1988634, 1988636, 1988655, 1988662, \n",
    "# 1988680, 1988708, 1988718, 1988745, 1988748, 1988776, 1988785, 1988847, 1988874, 1989119, \n",
    "# 1989169, 1989183, 1989201, 1989209, 1989218, 1989223, 1989241, 1989249, 1989258, 1989263, \n",
    "# 1989275, 1989298, 1989308, 1989332, 1989394, 1989442, 1989451, 1989482, 1989497, 1989500, \n",
    "# 1989503, 1989510, 1989527, 1989534, 1989550, 1989605, 1989607, 1989617, 1989622, 1989628, \n",
    "# 1989642, 1989658, 1989674, 1989690, 1989754, 1989761, 1989767, 1989793, 1989924, 1989957)"
   ]
  },
  {
   "cell_type": "code",
   "execution_count": 5,
   "id": "b6595216-f957-4571-a12e-7027b278774d",
   "metadata": {},
   "outputs": [],
   "source": [
    "filter_snps <- FALSE # speed things up by pre-filtering whole chromosomes to desired regions"
   ]
  },
  {
   "cell_type": "markdown",
   "id": "ca2a80fb-d548-4157-b585-cd5cf6a471d2",
   "metadata": {},
   "source": [
    "## Be ready with matched up SNP and covariate files"
   ]
  },
  {
   "cell_type": "code",
   "execution_count": 6,
   "id": "1d0d53e3-618f-4b04-b2b6-ae27a7e4ef5c",
   "metadata": {},
   "outputs": [
    {
     "name": "stderr",
     "output_type": "stream",
     "text": [
      "Loading required package: Matrix\n",
      "\n",
      "Loaded glmnet 4.1-8\n",
      "\n",
      "Loading required package: foreach\n",
      "\n",
      "Loading required package: iterators\n",
      "\n",
      "Loading required package: parallel\n",
      "\n"
     ]
    }
   ],
   "source": [
    "library(\"glmnet\")\n",
    "library(\"e1071\")\n",
    "library(\"doParallel\")\n",
    "library(\"data.table\")"
   ]
  },
  {
   "cell_type": "code",
   "execution_count": 7,
   "id": "c6034757-2d3c-43d3-aa16-70baa5169549",
   "metadata": {},
   "outputs": [],
   "source": [
    "df <- fread(\"09-OUT_matched_SNP_meth_cov_a2.csv\")"
   ]
  },
  {
   "cell_type": "code",
   "execution_count": 8,
   "id": "9821a860-2a97-4a7b-bfca-6e8abd96bf8a",
   "metadata": {},
   "outputs": [],
   "source": [
    "df <- df[which(df$Chr == chr), ]"
   ]
  },
  {
   "cell_type": "code",
   "execution_count": 9,
   "id": "ea91a79d-67a6-40df-b0ad-3b2c7db9be85",
   "metadata": {},
   "outputs": [],
   "source": [
    "df <- df[which(df$population == \"all\"), ]\n",
    "df <- df[which(df$brain_region == \"caud\"), ]"
   ]
  },
  {
   "cell_type": "code",
   "execution_count": 10,
   "id": "465c4237-66ee-4512-971b-1a70e550c36e",
   "metadata": {},
   "outputs": [
    {
     "data": {
      "text/html": [
       "<table class=\"dataframe\">\n",
       "<caption>A data.table: 1 × 15</caption>\n",
       "<thead>\n",
       "\t<tr><th scope=col>Chr</th><th scope=col>SNP_data</th><th scope=col>methylation_data</th><th scope=col>last_meth_value_with_SNP_coverage</th><th scope=col>first_meth_value_with_SNP_coverage</th><th scope=col>last_meth_index_with_SNP_coverage</th><th scope=col>first_meth_index_with_SNP_coverage</th><th scope=col>subpopulation</th><th scope=col>brain_region</th><th scope=col>population</th><th scope=col>region</th><th scope=col>cov_file</th><th scope=col>cov_file2</th><th scope=col>cov_file3</th><th scope=col>cov_file4</th></tr>\n",
       "\t<tr><th scope=col>&lt;int&gt;</th><th scope=col>&lt;chr&gt;</th><th scope=col>&lt;chr&gt;</th><th scope=col>&lt;int&gt;</th><th scope=col>&lt;int&gt;</th><th scope=col>&lt;int&gt;</th><th scope=col>&lt;int&gt;</th><th scope=col>&lt;chr&gt;</th><th scope=col>&lt;chr&gt;</th><th scope=col>&lt;chr&gt;</th><th scope=col>&lt;chr&gt;</th><th scope=col>&lt;chr&gt;</th><th scope=col>&lt;chr&gt;</th><th scope=col>&lt;chr&gt;</th><th scope=col>&lt;chr&gt;</th></tr>\n",
       "</thead>\n",
       "<tbody>\n",
       "\t<tr><td>3</td><td>/expanse/lustre/projects/jhu152/naglemi/mwas/gwas//libd_chr3.pgen</td><td>/expanse/lustre/projects/jhu152/naglemi/mwas/pheno/caud/out/chr3_all.rda</td><td>198099789</td><td>11602</td><td>1538467</td><td>1</td><td>all</td><td>caud</td><td>all</td><td>caud</td><td>/expanse/lustre/projects/jhu152/naglemi/mwas/full_covariates_a2/all_caud.csv</td><td>/expanse/lustre/projects/jhu152/naglemi/mwas/full_covariates_a2/all_caud-no-meth.csv</td><td>/expanse/lustre/projects/jhu152/naglemi/mwas/full_covariates_a2/all_caud-no-meth-no-dx.csv</td><td>/expanse/lustre/projects/jhu152/naglemi/mwas/full_covariates_a2/all_caud-no-dx.csv</td></tr>\n",
       "</tbody>\n",
       "</table>\n"
      ],
      "text/latex": [
       "A data.table: 1 × 15\n",
       "\\begin{tabular}{lllllllllllllll}\n",
       " Chr & SNP\\_data & methylation\\_data & last\\_meth\\_value\\_with\\_SNP\\_coverage & first\\_meth\\_value\\_with\\_SNP\\_coverage & last\\_meth\\_index\\_with\\_SNP\\_coverage & first\\_meth\\_index\\_with\\_SNP\\_coverage & subpopulation & brain\\_region & population & region & cov\\_file & cov\\_file2 & cov\\_file3 & cov\\_file4\\\\\n",
       " <int> & <chr> & <chr> & <int> & <int> & <int> & <int> & <chr> & <chr> & <chr> & <chr> & <chr> & <chr> & <chr> & <chr>\\\\\n",
       "\\hline\n",
       "\t 3 & /expanse/lustre/projects/jhu152/naglemi/mwas/gwas//libd\\_chr3.pgen & /expanse/lustre/projects/jhu152/naglemi/mwas/pheno/caud/out/chr3\\_all.rda & 198099789 & 11602 & 1538467 & 1 & all & caud & all & caud & /expanse/lustre/projects/jhu152/naglemi/mwas/full\\_covariates\\_a2/all\\_caud.csv & /expanse/lustre/projects/jhu152/naglemi/mwas/full\\_covariates\\_a2/all\\_caud-no-meth.csv & /expanse/lustre/projects/jhu152/naglemi/mwas/full\\_covariates\\_a2/all\\_caud-no-meth-no-dx.csv & /expanse/lustre/projects/jhu152/naglemi/mwas/full\\_covariates\\_a2/all\\_caud-no-dx.csv\\\\\n",
       "\\end{tabular}\n"
      ],
      "text/markdown": [
       "\n",
       "A data.table: 1 × 15\n",
       "\n",
       "| Chr &lt;int&gt; | SNP_data &lt;chr&gt; | methylation_data &lt;chr&gt; | last_meth_value_with_SNP_coverage &lt;int&gt; | first_meth_value_with_SNP_coverage &lt;int&gt; | last_meth_index_with_SNP_coverage &lt;int&gt; | first_meth_index_with_SNP_coverage &lt;int&gt; | subpopulation &lt;chr&gt; | brain_region &lt;chr&gt; | population &lt;chr&gt; | region &lt;chr&gt; | cov_file &lt;chr&gt; | cov_file2 &lt;chr&gt; | cov_file3 &lt;chr&gt; | cov_file4 &lt;chr&gt; |\n",
       "|---|---|---|---|---|---|---|---|---|---|---|---|---|---|---|\n",
       "| 3 | /expanse/lustre/projects/jhu152/naglemi/mwas/gwas//libd_chr3.pgen | /expanse/lustre/projects/jhu152/naglemi/mwas/pheno/caud/out/chr3_all.rda | 198099789 | 11602 | 1538467 | 1 | all | caud | all | caud | /expanse/lustre/projects/jhu152/naglemi/mwas/full_covariates_a2/all_caud.csv | /expanse/lustre/projects/jhu152/naglemi/mwas/full_covariates_a2/all_caud-no-meth.csv | /expanse/lustre/projects/jhu152/naglemi/mwas/full_covariates_a2/all_caud-no-meth-no-dx.csv | /expanse/lustre/projects/jhu152/naglemi/mwas/full_covariates_a2/all_caud-no-dx.csv |\n",
       "\n"
      ],
      "text/plain": [
       "  Chr SNP_data                                                         \n",
       "1 3   /expanse/lustre/projects/jhu152/naglemi/mwas/gwas//libd_chr3.pgen\n",
       "  methylation_data                                                        \n",
       "1 /expanse/lustre/projects/jhu152/naglemi/mwas/pheno/caud/out/chr3_all.rda\n",
       "  last_meth_value_with_SNP_coverage first_meth_value_with_SNP_coverage\n",
       "1 198099789                         11602                             \n",
       "  last_meth_index_with_SNP_coverage first_meth_index_with_SNP_coverage\n",
       "1 1538467                           1                                 \n",
       "  subpopulation brain_region population region\n",
       "1 all           caud         all        caud  \n",
       "  cov_file                                                                    \n",
       "1 /expanse/lustre/projects/jhu152/naglemi/mwas/full_covariates_a2/all_caud.csv\n",
       "  cov_file2                                                                           \n",
       "1 /expanse/lustre/projects/jhu152/naglemi/mwas/full_covariates_a2/all_caud-no-meth.csv\n",
       "  cov_file3                                                                                 \n",
       "1 /expanse/lustre/projects/jhu152/naglemi/mwas/full_covariates_a2/all_caud-no-meth-no-dx.csv\n",
       "  cov_file4                                                                         \n",
       "1 /expanse/lustre/projects/jhu152/naglemi/mwas/full_covariates_a2/all_caud-no-dx.csv"
      ]
     },
     "metadata": {},
     "output_type": "display_data"
    }
   ],
   "source": [
    "df"
   ]
  },
  {
   "cell_type": "code",
   "execution_count": 11,
   "id": "e3010894-c5e0-4875-a695-302ed787be90",
   "metadata": {},
   "outputs": [],
   "source": [
    "i <- 1"
   ]
  },
  {
   "cell_type": "code",
   "execution_count": 12,
   "id": "522b7988-f517-454d-90d5-4e6a51f49380",
   "metadata": {},
   "outputs": [
    {
     "data": {
      "text/html": [
       "<table class=\"dataframe\">\n",
       "<caption>A data.table: 1 × 15</caption>\n",
       "<thead>\n",
       "\t<tr><th scope=col>Chr</th><th scope=col>SNP_data</th><th scope=col>methylation_data</th><th scope=col>last_meth_value_with_SNP_coverage</th><th scope=col>first_meth_value_with_SNP_coverage</th><th scope=col>last_meth_index_with_SNP_coverage</th><th scope=col>first_meth_index_with_SNP_coverage</th><th scope=col>subpopulation</th><th scope=col>brain_region</th><th scope=col>population</th><th scope=col>region</th><th scope=col>cov_file</th><th scope=col>cov_file2</th><th scope=col>cov_file3</th><th scope=col>cov_file4</th></tr>\n",
       "\t<tr><th scope=col>&lt;int&gt;</th><th scope=col>&lt;chr&gt;</th><th scope=col>&lt;chr&gt;</th><th scope=col>&lt;int&gt;</th><th scope=col>&lt;int&gt;</th><th scope=col>&lt;int&gt;</th><th scope=col>&lt;int&gt;</th><th scope=col>&lt;chr&gt;</th><th scope=col>&lt;chr&gt;</th><th scope=col>&lt;chr&gt;</th><th scope=col>&lt;chr&gt;</th><th scope=col>&lt;chr&gt;</th><th scope=col>&lt;chr&gt;</th><th scope=col>&lt;chr&gt;</th><th scope=col>&lt;chr&gt;</th></tr>\n",
       "</thead>\n",
       "<tbody>\n",
       "\t<tr><td>3</td><td>/expanse/lustre/projects/jhu152/naglemi/mwas/gwas//libd_chr3.pgen</td><td>/expanse/lustre/projects/jhu152/naglemi/mwas/pheno/caud/out/chr3_all.rda</td><td>198099789</td><td>11602</td><td>1538467</td><td>1</td><td>all</td><td>caud</td><td>all</td><td>caud</td><td>/expanse/lustre/projects/jhu152/naglemi/mwas/full_covariates_a2/all_caud.csv</td><td>/expanse/lustre/projects/jhu152/naglemi/mwas/full_covariates_a2/all_caud-no-meth.csv</td><td>/expanse/lustre/projects/jhu152/naglemi/mwas/full_covariates_a2/all_caud-no-meth-no-dx.csv</td><td>/expanse/lustre/projects/jhu152/naglemi/mwas/full_covariates_a2/all_caud-no-dx.csv</td></tr>\n",
       "</tbody>\n",
       "</table>\n"
      ],
      "text/latex": [
       "A data.table: 1 × 15\n",
       "\\begin{tabular}{lllllllllllllll}\n",
       " Chr & SNP\\_data & methylation\\_data & last\\_meth\\_value\\_with\\_SNP\\_coverage & first\\_meth\\_value\\_with\\_SNP\\_coverage & last\\_meth\\_index\\_with\\_SNP\\_coverage & first\\_meth\\_index\\_with\\_SNP\\_coverage & subpopulation & brain\\_region & population & region & cov\\_file & cov\\_file2 & cov\\_file3 & cov\\_file4\\\\\n",
       " <int> & <chr> & <chr> & <int> & <int> & <int> & <int> & <chr> & <chr> & <chr> & <chr> & <chr> & <chr> & <chr> & <chr>\\\\\n",
       "\\hline\n",
       "\t 3 & /expanse/lustre/projects/jhu152/naglemi/mwas/gwas//libd\\_chr3.pgen & /expanse/lustre/projects/jhu152/naglemi/mwas/pheno/caud/out/chr3\\_all.rda & 198099789 & 11602 & 1538467 & 1 & all & caud & all & caud & /expanse/lustre/projects/jhu152/naglemi/mwas/full\\_covariates\\_a2/all\\_caud.csv & /expanse/lustre/projects/jhu152/naglemi/mwas/full\\_covariates\\_a2/all\\_caud-no-meth.csv & /expanse/lustre/projects/jhu152/naglemi/mwas/full\\_covariates\\_a2/all\\_caud-no-meth-no-dx.csv & /expanse/lustre/projects/jhu152/naglemi/mwas/full\\_covariates\\_a2/all\\_caud-no-dx.csv\\\\\n",
       "\\end{tabular}\n"
      ],
      "text/markdown": [
       "\n",
       "A data.table: 1 × 15\n",
       "\n",
       "| Chr &lt;int&gt; | SNP_data &lt;chr&gt; | methylation_data &lt;chr&gt; | last_meth_value_with_SNP_coverage &lt;int&gt; | first_meth_value_with_SNP_coverage &lt;int&gt; | last_meth_index_with_SNP_coverage &lt;int&gt; | first_meth_index_with_SNP_coverage &lt;int&gt; | subpopulation &lt;chr&gt; | brain_region &lt;chr&gt; | population &lt;chr&gt; | region &lt;chr&gt; | cov_file &lt;chr&gt; | cov_file2 &lt;chr&gt; | cov_file3 &lt;chr&gt; | cov_file4 &lt;chr&gt; |\n",
       "|---|---|---|---|---|---|---|---|---|---|---|---|---|---|---|\n",
       "| 3 | /expanse/lustre/projects/jhu152/naglemi/mwas/gwas//libd_chr3.pgen | /expanse/lustre/projects/jhu152/naglemi/mwas/pheno/caud/out/chr3_all.rda | 198099789 | 11602 | 1538467 | 1 | all | caud | all | caud | /expanse/lustre/projects/jhu152/naglemi/mwas/full_covariates_a2/all_caud.csv | /expanse/lustre/projects/jhu152/naglemi/mwas/full_covariates_a2/all_caud-no-meth.csv | /expanse/lustre/projects/jhu152/naglemi/mwas/full_covariates_a2/all_caud-no-meth-no-dx.csv | /expanse/lustre/projects/jhu152/naglemi/mwas/full_covariates_a2/all_caud-no-dx.csv |\n",
       "\n"
      ],
      "text/plain": [
       "  Chr SNP_data                                                         \n",
       "1 3   /expanse/lustre/projects/jhu152/naglemi/mwas/gwas//libd_chr3.pgen\n",
       "  methylation_data                                                        \n",
       "1 /expanse/lustre/projects/jhu152/naglemi/mwas/pheno/caud/out/chr3_all.rda\n",
       "  last_meth_value_with_SNP_coverage first_meth_value_with_SNP_coverage\n",
       "1 198099789                         11602                             \n",
       "  last_meth_index_with_SNP_coverage first_meth_index_with_SNP_coverage\n",
       "1 1538467                           1                                 \n",
       "  subpopulation brain_region population region\n",
       "1 all           caud         all        caud  \n",
       "  cov_file                                                                    \n",
       "1 /expanse/lustre/projects/jhu152/naglemi/mwas/full_covariates_a2/all_caud.csv\n",
       "  cov_file2                                                                           \n",
       "1 /expanse/lustre/projects/jhu152/naglemi/mwas/full_covariates_a2/all_caud-no-meth.csv\n",
       "  cov_file3                                                                                 \n",
       "1 /expanse/lustre/projects/jhu152/naglemi/mwas/full_covariates_a2/all_caud-no-meth-no-dx.csv\n",
       "  cov_file4                                                                         \n",
       "1 /expanse/lustre/projects/jhu152/naglemi/mwas/full_covariates_a2/all_caud-no-dx.csv"
      ]
     },
     "metadata": {},
     "output_type": "display_data"
    }
   ],
   "source": [
    "df[1, ]"
   ]
  },
  {
   "cell_type": "code",
   "execution_count": 13,
   "id": "22de2603-481a-4995-8991-1f6f64989e3d",
   "metadata": {},
   "outputs": [],
   "source": [
    "set.seed(2018)\n",
    "wind <- c(10000)\n",
    "# output directory\n",
    "#outd <- \"/dcl02/lieber/shan/shizhong/finemapping/GWAS/tags/scz3/mwas/chr22/1/\"\n",
    "outd <- \"20-OUT_original_mwas_sanity_test/\""
   ]
  },
  {
   "cell_type": "markdown",
   "id": "d7711c4d-5f19-4fd0-9f7b-891133ac3311",
   "metadata": {},
   "source": [
    "## Functions"
   ]
  },
  {
   "cell_type": "markdown",
   "id": "655b95b9-bbcb-4ae8-8914-cf36149e10e1",
   "metadata": {},
   "source": [
    "### Shizhong's original"
   ]
  },
  {
   "cell_type": "code",
   "execution_count": 14,
   "id": "be729eb2-c5b2-4d3e-b835-072d8f5ba2e6",
   "metadata": {},
   "outputs": [],
   "source": [
    "###### model: learn elastic net model on training data \n",
    "######---------Input: trainX, trainY\n",
    "######---------Return: selected features and coefficents\n",
    "\n",
    "# original\n",
    "# elastic.net <- function(trainX,trainY){\n",
    "#     if(nrow(trainX)!=length(trainY)){\n",
    "#             stop(\"Number of observations is differerent\")\n",
    "#     } \n",
    "\n",
    "#     # optimize alpha---mixing parameter  \n",
    "#     a <- 0.5\n",
    "#     search <- foreach(ai = a, .combine = rbind) %dopar% {\n",
    "#         cv.fit <- cv.glmnet(\n",
    "#                         trainX,\n",
    "#                         trainY,\n",
    "#                         nfold = 5,\n",
    "#                         type.measure = \"mse\",\n",
    "#                         paralle = TRUE,\n",
    "#                         alpha = ai\n",
    "#                         )\n",
    "#         data.frame(\n",
    "#                         cvm = min(cv.fit$cvm),\n",
    "#                         lambda = cv.fit$lambda.min,\n",
    "#                         alpha = ai\n",
    "#                         )\n",
    "#         } \n",
    "#     cv.opt <- search[search$cvm == min(search$cvm),] \n",
    "\n",
    "#         # fit model by optimized alpha and lambda\n",
    "#         yfit = glmnet(\n",
    "#         trainX,\n",
    "#         trainY,\n",
    "#         lambda = cv.opt$lambda,\n",
    "#         alpha = cv.opt$alpha\n",
    "#                 )       \n",
    "#         idf <- coef(yfit)\n",
    "#         idx <- which(idf != 0)\n",
    "#         selectf <- data.frame(\n",
    "#                 features = idf@Dimnames[[1]][idx], \n",
    "#                 coefs = idf [idx]\n",
    "#         )\n",
    "# }\n",
    "\n",
    "MWAS <- function(gwas, weight, geno){\n",
    "        z <- gwas %*% weight\n",
    "        z.cor <- cor(geno)\n",
    "        se <- sqrt(weight %*%  z.cor %*%  weight)\n",
    "        z <- z/se\n",
    "        p=pnorm(abs(z),lower.tail=F)*2\n",
    "        return(c(z, p))\n",
    "}"
   ]
  },
  {
   "cell_type": "markdown",
   "id": "52a2753a-ebee-4587-9fa2-1d33f878f68f",
   "metadata": {},
   "source": [
    "#### Modified `elastic.net` to use `lambda.1se`"
   ]
  },
  {
   "cell_type": "code",
   "execution_count": 15,
   "id": "e2a06b13-9a13-4caa-8436-9a05a0f53035",
   "metadata": {},
   "outputs": [],
   "source": [
    "# modified to use lambda 1se and appropriate cvm\n",
    "elastic.net <- function(trainX,trainY, lambda.choice = \"1se\"){\n",
    "    if(nrow(trainX)!=length(trainY)){\n",
    "            stop(\"Number of observations is differerent\")\n",
    "    } \n",
    "\n",
    "    # optimize alpha---mixing parameter  \n",
    "    a <- 0.5\n",
    "    search <- foreach(ai = a, .combine = rbind) %dopar% {\n",
    "        #set.seed(42)\n",
    "        cv.fit <- cv.glmnet(\n",
    "                        trainX,\n",
    "                        trainY,\n",
    "                        nfold = 5,\n",
    "                        type.measure = \"mse\",\n",
    "                        parallel = TRUE,\n",
    "                        alpha = ai\n",
    "                        )\n",
    "        #print(paste0(\"Dim of trainX: \", dim(trainX)))\n",
    "        #print(paste0(\"Len of trainY: \", length(trainY)))\n",
    "        coef_matrix <- as.matrix(coef(cv.fit))\n",
    "\n",
    "        if(lambda.choice == \"1se\"){\n",
    "            chosen_lambda <- cv.fit$lambda.1se\n",
    "            chosen_cvm <- cv.fit$cvm[cv.fit$lambda == cv.fit$lambda.1se]\n",
    "        }\n",
    "        if(lambda.choice == \"min\"){\n",
    "            chosen_lambda <- cv.fit$lambda.min\n",
    "            chosen_cvm <- min(cv.fit$cvm)\n",
    "        }\n",
    "\n",
    "\n",
    "        data.frame(\n",
    "                        cvm = chosen_cvm,\n",
    "                        lambda = chosen_lambda,\n",
    "                        alpha = ai\n",
    "                        )\n",
    "        } \n",
    "    cv.opt <- search[search$cvm == min(search$cvm),] \n",
    "\n",
    "        # fit model by optimized alpha and lambda\n",
    "    #set.seed(42)\n",
    "    yfit <- glmnet(\n",
    "    trainX,\n",
    "    trainY,\n",
    "    lambda = cv.opt$lambda,\n",
    "    alpha = cv.opt$alpha)\n",
    "\n",
    "    idf <- coef(yfit)\n",
    "    idx <- which(idf != 0)\n",
    "    selectf <- data.frame(\n",
    "            features = idf@Dimnames[[1]][idx], \n",
    "            coefs = idf [idx]\n",
    "    )\n",
    "}"
   ]
  },
  {
   "cell_type": "markdown",
   "id": "3a0ea432-3ac3-4077-ae61-c3a029004096",
   "metadata": {},
   "source": [
    "## Replace all old objects with new objects in same format"
   ]
  },
  {
   "cell_type": "markdown",
   "id": "18332543-6f7a-40d8-b894-9562a6ac7457",
   "metadata": {},
   "source": [
    "### Methylation data"
   ]
  },
  {
   "cell_type": "code",
   "execution_count": 16,
   "id": "f9b051aa-a1e5-421b-856d-718cf85c24a3",
   "metadata": {
    "scrolled": true
   },
   "outputs": [
    {
     "name": "stderr",
     "output_type": "stream",
     "text": [
      "Loading required package: BiocGenerics\n",
      "\n",
      "\n",
      "Attaching package: ‘BiocGenerics’\n",
      "\n",
      "\n",
      "The following objects are masked from ‘package:stats’:\n",
      "\n",
      "    IQR, mad, sd, var, xtabs\n",
      "\n",
      "\n",
      "The following objects are masked from ‘package:base’:\n",
      "\n",
      "    anyDuplicated, aperm, append, as.data.frame, basename, cbind,\n",
      "    colnames, dirname, do.call, duplicated, eval, evalq, Filter, Find,\n",
      "    get, grep, grepl, intersect, is.unsorted, lapply, Map, mapply,\n",
      "    match, mget, order, paste, pmax, pmax.int, pmin, pmin.int,\n",
      "    Position, rank, rbind, Reduce, rownames, sapply, setdiff, sort,\n",
      "    table, tapply, union, unique, unsplit, which.max, which.min\n",
      "\n",
      "\n",
      "Loading required package: GenomicRanges\n",
      "\n",
      "Loading required package: stats4\n",
      "\n",
      "Loading required package: S4Vectors\n",
      "\n",
      "\n",
      "Attaching package: ‘S4Vectors’\n",
      "\n",
      "\n",
      "The following objects are masked from ‘package:data.table’:\n",
      "\n",
      "    first, second\n",
      "\n",
      "\n",
      "The following objects are masked from ‘package:Matrix’:\n",
      "\n",
      "    expand, unname\n",
      "\n",
      "\n",
      "The following object is masked from ‘package:utils’:\n",
      "\n",
      "    findMatches\n",
      "\n",
      "\n",
      "The following objects are masked from ‘package:base’:\n",
      "\n",
      "    expand.grid, I, unname\n",
      "\n",
      "\n",
      "Loading required package: IRanges\n",
      "\n",
      "\n",
      "Attaching package: ‘IRanges’\n",
      "\n",
      "\n",
      "The following object is masked from ‘package:data.table’:\n",
      "\n",
      "    shift\n",
      "\n",
      "\n",
      "Loading required package: GenomeInfoDb\n",
      "\n",
      "Loading required package: SummarizedExperiment\n",
      "\n",
      "Loading required package: MatrixGenerics\n",
      "\n",
      "Loading required package: matrixStats\n",
      "\n",
      "\n",
      "Attaching package: ‘MatrixGenerics’\n",
      "\n",
      "\n",
      "The following objects are masked from ‘package:matrixStats’:\n",
      "\n",
      "    colAlls, colAnyNAs, colAnys, colAvgsPerRowSet, colCollapse,\n",
      "    colCounts, colCummaxs, colCummins, colCumprods, colCumsums,\n",
      "    colDiffs, colIQRDiffs, colIQRs, colLogSumExps, colMadDiffs,\n",
      "    colMads, colMaxs, colMeans2, colMedians, colMins, colOrderStats,\n",
      "    colProds, colQuantiles, colRanges, colRanks, colSdDiffs, colSds,\n",
      "    colSums2, colTabulates, colVarDiffs, colVars, colWeightedMads,\n",
      "    colWeightedMeans, colWeightedMedians, colWeightedSds,\n",
      "    colWeightedVars, rowAlls, rowAnyNAs, rowAnys, rowAvgsPerColSet,\n",
      "    rowCollapse, rowCounts, rowCummaxs, rowCummins, rowCumprods,\n",
      "    rowCumsums, rowDiffs, rowIQRDiffs, rowIQRs, rowLogSumExps,\n",
      "    rowMadDiffs, rowMads, rowMaxs, rowMeans2, rowMedians, rowMins,\n",
      "    rowOrderStats, rowProds, rowQuantiles, rowRanges, rowRanks,\n",
      "    rowSdDiffs, rowSds, rowSums2, rowTabulates, rowVarDiffs, rowVars,\n",
      "    rowWeightedMads, rowWeightedMeans, rowWeightedMedians,\n",
      "    rowWeightedSds, rowWeightedVars\n",
      "\n",
      "\n",
      "Loading required package: Biobase\n",
      "\n",
      "Welcome to Bioconductor\n",
      "\n",
      "    Vignettes contain introductory material; view with\n",
      "    'browseVignettes()'. To cite Bioconductor, see\n",
      "    'citation(\"Biobase\")', and for packages 'citation(\"pkgname\")'.\n",
      "\n",
      "\n",
      "\n",
      "Attaching package: ‘Biobase’\n",
      "\n",
      "\n",
      "The following object is masked from ‘package:MatrixGenerics’:\n",
      "\n",
      "    rowMedians\n",
      "\n",
      "\n",
      "The following objects are masked from ‘package:matrixStats’:\n",
      "\n",
      "    anyMissing, rowMedians\n",
      "\n",
      "\n"
     ]
    }
   ],
   "source": [
    "suppressWarnings(library(bsseq))"
   ]
  },
  {
   "cell_type": "code",
   "execution_count": 17,
   "id": "8a871cb8-d71d-4f62-8d5e-70b79bb1c1c8",
   "metadata": {},
   "outputs": [],
   "source": [
    "# # The code in this block is for NEW methylation data, which can be for any chromosome or portion\n",
    "\n",
    "# # load data for mwas\n",
    "# # load(\"./rda/caudate_mwas_data_chr22.rda\")\n",
    "load(df$methylation_data[i])\n",
    "\n",
    "p <- getMeth(BSobj2)\n",
    "\n",
    "\n",
    "rownames(p) <- start(BSobj2)\n",
    "\n",
    "sites_to_test_pos <- sample(start(BSobj2), n_samples)\n",
    "\n",
    "sites_to_test <- which(start(BSobj2) %in% sites_to_test_pos)\n",
    "p <- p[sites_to_test, ]\n",
    "cg <- as.numeric(rownames(p))"
   ]
  },
  {
   "cell_type": "markdown",
   "id": "892e5592-48be-4854-b932-5d43a9d27791",
   "metadata": {},
   "source": [
    "Subset our p object to the same sites as the old one, compare values"
   ]
  },
  {
   "cell_type": "code",
   "execution_count": 18,
   "id": "067bd47b-6d87-4707-be4f-2f48e4382517",
   "metadata": {},
   "outputs": [],
   "source": [
    "# # Old dataset\n",
    "# load(\"BSsample.rda\", verbose = TRUE) # we get the @colData attribute as a data.frame here\n",
    "# load(\"p1.rda\", verbose = TRUE) # and the p matrix from getMeth() here\n",
    "\n",
    "# BSobj2 <- BSsample\n",
    "# cg <- as.numeric(rownames(p)) # This line same whether we use old or new version\n",
    "# sites_to_test_pos <- cg"
   ]
  },
  {
   "cell_type": "markdown",
   "id": "6063581e-a107-4977-93d7-836f1da57078",
   "metadata": {},
   "source": [
    "### covariates"
   ]
  },
  {
   "cell_type": "code",
   "execution_count": 19,
   "id": "cc499656-ec9a-45cd-ad05-b17e957eaaa6",
   "metadata": {},
   "outputs": [],
   "source": [
    "# The code in this block is for NEW covariate data\n",
    "\n",
    "# covs <- fread(df$cov_file[i])\n",
    "# covs <- t(covs)\n",
    "# colnames(covs) <- covs[1, ]\n",
    "# covs <- covs[2:nrow(covs), ]\n",
    "# # transpose so we have same orientation as original code"
   ]
  },
  {
   "cell_type": "code",
   "execution_count": 20,
   "id": "b73eadb7-0f96-4f46-bafc-1e9ad864613d",
   "metadata": {},
   "outputs": [],
   "source": [
    "# This is the OLD covariate data\n",
    "\n",
    "load(\"covs_for_meqtl.rda\")"
   ]
  },
  {
   "cell_type": "markdown",
   "id": "72219907-d534-4523-a369-853077888b38",
   "metadata": {},
   "source": [
    "### Regress methylation data over covariates"
   ]
  },
  {
   "cell_type": "code",
   "execution_count": 21,
   "id": "85527835-9e3f-4ba9-a645-5330564e0b7c",
   "metadata": {},
   "outputs": [],
   "source": [
    "BSobj2$brnum <- gsub(\"Br0\", \"Br\", BSobj2$brnum)\n",
    "colnames(covs) <- gsub(\"Br0\", \"Br\", colnames(covs))"
   ]
  },
  {
   "cell_type": "code",
   "execution_count": 22,
   "id": "8899261b-73fb-430e-bcdb-143fc8f04670",
   "metadata": {},
   "outputs": [],
   "source": [
    "mat <- match(BSobj2$brnum,colnames(covs)) \n",
    "covs <- t(covs[,mat])\n",
    "p.residual=matrix(NA,dim(p)[1],dim(p)[2])"
   ]
  },
  {
   "cell_type": "code",
   "execution_count": 23,
   "id": "35031e54-4c54-4a37-9997-99b57efa86bf",
   "metadata": {},
   "outputs": [],
   "source": [
    "# This is something we only need to do for new covariates\n",
    "if(\"genoPC1\" %in% colnames(covs)){\n",
    "    rownames(covs)[is.na(covs[, 'genoPC1'])] <- BSobj2$brnum[is.na(covs[, 'genoPC1'])]\n",
    "}"
   ]
  },
  {
   "cell_type": "code",
   "execution_count": 24,
   "id": "70bda030-7a89-4dff-8c61-f576badfd8bd",
   "metadata": {},
   "outputs": [],
   "source": [
    "colnames(p.residual) <- BSobj2$brnum"
   ]
  },
  {
   "cell_type": "code",
   "execution_count": 25,
   "id": "78ee80f1-d9ea-46b0-b37a-dfeed3dbdf97",
   "metadata": {},
   "outputs": [],
   "source": [
    "covs <- as.data.frame(covs)\n",
    "# Convert all columns except Dx and Sex from character to numeric\n",
    "cols_to_convert <- setdiff(names(covs), c(\"Dx\", \"Sex\"))\n",
    "\n",
    "for (col in cols_to_convert) {\n",
    "  covs[[col]] <- as.numeric(covs[[col]])\n",
    "}\n",
    "\n",
    "# Print the modified data frame to check the conversion\n",
    "#print(dat)\n"
   ]
  },
  {
   "cell_type": "code",
   "execution_count": 26,
   "id": "db709d51-494c-431c-8327-9348dbf0419c",
   "metadata": {},
   "outputs": [],
   "source": [
    "for (i in 1:dim(p)[1]) { # For each methylation site\n",
    "    dat <- as.data.frame(cbind(y = p[i,], covs))\n",
    "    \n",
    "    # Check for rows with NAs (the ones for which we don't have covariate data)\n",
    "    valid_rows <- complete.cases(dat)\n",
    "    \n",
    "    if (sum(valid_rows) > 0) {\n",
    "        dat_valid <- dat[valid_rows,]\n",
    "        model.res <- lm(y ~ ., data = dat_valid)\n",
    "        \n",
    "        # Store residuals in the corresponding positions\n",
    "        p.residual[i, valid_rows] <- resid(model.res)\n",
    "    }\n",
    "}\n",
    "\n",
    "\n",
    "# for(i in 1:dim(p)[1]){ # foro each methylation site\n",
    "#         dat <- as.data.frame(cbind(p[i,],covs))\n",
    "#         colnames(dat) <- c(\"y\",paste0(\"x\",1:ncol(covs)))\n",
    "#         model.res <- lm(reformulate(paste0(\"x\",1:ncol(covs)), \"y\"),dat)\n",
    "#         p.residual[i,] = resid(model.res) \n",
    "# }"
   ]
  },
  {
   "cell_type": "code",
   "execution_count": 27,
   "id": "dee072f8-010e-4618-806c-b5e66018bc81",
   "metadata": {},
   "outputs": [
    {
     "data": {
      "text/html": [
       "<style>\n",
       ".list-inline {list-style: none; margin:0; padding: 0}\n",
       ".list-inline>li {display: inline-block}\n",
       ".list-inline>li:not(:last-child)::after {content: \"\\00b7\"; padding: 0 .5ex}\n",
       "</style>\n",
       "<ol class=list-inline><li>200</li><li>297</li></ol>\n"
      ],
      "text/latex": [
       "\\begin{enumerate*}\n",
       "\\item 200\n",
       "\\item 297\n",
       "\\end{enumerate*}\n"
      ],
      "text/markdown": [
       "1. 200\n",
       "2. 297\n",
       "\n",
       "\n"
      ],
      "text/plain": [
       "[1] 200 297"
      ]
     },
     "metadata": {},
     "output_type": "display_data"
    }
   ],
   "source": [
    "dim(p.residual)"
   ]
  },
  {
   "cell_type": "code",
   "execution_count": 28,
   "id": "4f866dd6-16c6-4803-9c21-c70e4b931e66",
   "metadata": {},
   "outputs": [
    {
     "data": {
      "text/html": [
       "<table class=\"dataframe\">\n",
       "<caption>A matrix: 8 × 8 of type dbl</caption>\n",
       "<thead>\n",
       "\t<tr><th scope=col>Br1122</th><th scope=col>Br2285</th><th scope=col>Br1764</th><th scope=col>Br1464</th><th scope=col>Br5062</th><th scope=col>Br1446</th><th scope=col>Br1503</th><th scope=col>Br1946</th></tr>\n",
       "</thead>\n",
       "<tbody>\n",
       "\t<tr><td> 0.0253829362</td><td>-0.017323894</td><td>0.005750449</td><td> 0.0078304831</td><td>-0.009078345</td><td> 0.012729692</td><td>-0.004078816</td><td> 0.0008203567</td></tr>\n",
       "\t<tr><td>-0.0064710238</td><td> 0.002414156</td><td>0.001157111</td><td>-0.0206193376</td><td> 0.022882869</td><td> 0.013767844</td><td> 0.035204178</td><td>-0.0082922974</td></tr>\n",
       "\t<tr><td>-0.0250797525</td><td> 0.014385216</td><td>0.036930629</td><td> 0.0215806349</td><td> 0.003676137</td><td> 0.015672741</td><td> 0.002314830</td><td>-0.0452117297</td></tr>\n",
       "\t<tr><td>-0.0191367843</td><td> 0.021985812</td><td>0.026616425</td><td>-0.0242845175</td><td> 0.012541978</td><td>-0.004100370</td><td>-0.011213549</td><td>-0.0064980609</td></tr>\n",
       "\t<tr><td>-0.0003911163</td><td> 0.019492335</td><td>0.042802522</td><td>-0.0001410451</td><td> 0.016599913</td><td> 0.009590463</td><td> 0.010911324</td><td>-0.0389773984</td></tr>\n",
       "\t<tr><td> 0.0322447238</td><td>-0.013782242</td><td>0.051605715</td><td> 0.0117040232</td><td>-0.027161782</td><td> 0.039692736</td><td> 0.051548369</td><td>-0.0067647916</td></tr>\n",
       "\t<tr><td>-0.0092180117</td><td> 0.011584663</td><td>0.002175614</td><td> 0.0118738754</td><td> 0.003406759</td><td> 0.008648824</td><td> 0.012176447</td><td>-0.0305694942</td></tr>\n",
       "\t<tr><td>-0.0306176580</td><td> 0.025462462</td><td>0.036081911</td><td> 0.0126729350</td><td>-0.044969716</td><td>-0.027106350</td><td>-0.022457875</td><td> 0.0445451523</td></tr>\n",
       "</tbody>\n",
       "</table>\n"
      ],
      "text/latex": [
       "A matrix: 8 × 8 of type dbl\n",
       "\\begin{tabular}{llllllll}\n",
       " Br1122 & Br2285 & Br1764 & Br1464 & Br5062 & Br1446 & Br1503 & Br1946\\\\\n",
       "\\hline\n",
       "\t  0.0253829362 & -0.017323894 & 0.005750449 &  0.0078304831 & -0.009078345 &  0.012729692 & -0.004078816 &  0.0008203567\\\\\n",
       "\t -0.0064710238 &  0.002414156 & 0.001157111 & -0.0206193376 &  0.022882869 &  0.013767844 &  0.035204178 & -0.0082922974\\\\\n",
       "\t -0.0250797525 &  0.014385216 & 0.036930629 &  0.0215806349 &  0.003676137 &  0.015672741 &  0.002314830 & -0.0452117297\\\\\n",
       "\t -0.0191367843 &  0.021985812 & 0.026616425 & -0.0242845175 &  0.012541978 & -0.004100370 & -0.011213549 & -0.0064980609\\\\\n",
       "\t -0.0003911163 &  0.019492335 & 0.042802522 & -0.0001410451 &  0.016599913 &  0.009590463 &  0.010911324 & -0.0389773984\\\\\n",
       "\t  0.0322447238 & -0.013782242 & 0.051605715 &  0.0117040232 & -0.027161782 &  0.039692736 &  0.051548369 & -0.0067647916\\\\\n",
       "\t -0.0092180117 &  0.011584663 & 0.002175614 &  0.0118738754 &  0.003406759 &  0.008648824 &  0.012176447 & -0.0305694942\\\\\n",
       "\t -0.0306176580 &  0.025462462 & 0.036081911 &  0.0126729350 & -0.044969716 & -0.027106350 & -0.022457875 &  0.0445451523\\\\\n",
       "\\end{tabular}\n"
      ],
      "text/markdown": [
       "\n",
       "A matrix: 8 × 8 of type dbl\n",
       "\n",
       "| Br1122 | Br2285 | Br1764 | Br1464 | Br5062 | Br1446 | Br1503 | Br1946 |\n",
       "|---|---|---|---|---|---|---|---|\n",
       "|  0.0253829362 | -0.017323894 | 0.005750449 |  0.0078304831 | -0.009078345 |  0.012729692 | -0.004078816 |  0.0008203567 |\n",
       "| -0.0064710238 |  0.002414156 | 0.001157111 | -0.0206193376 |  0.022882869 |  0.013767844 |  0.035204178 | -0.0082922974 |\n",
       "| -0.0250797525 |  0.014385216 | 0.036930629 |  0.0215806349 |  0.003676137 |  0.015672741 |  0.002314830 | -0.0452117297 |\n",
       "| -0.0191367843 |  0.021985812 | 0.026616425 | -0.0242845175 |  0.012541978 | -0.004100370 | -0.011213549 | -0.0064980609 |\n",
       "| -0.0003911163 |  0.019492335 | 0.042802522 | -0.0001410451 |  0.016599913 |  0.009590463 |  0.010911324 | -0.0389773984 |\n",
       "|  0.0322447238 | -0.013782242 | 0.051605715 |  0.0117040232 | -0.027161782 |  0.039692736 |  0.051548369 | -0.0067647916 |\n",
       "| -0.0092180117 |  0.011584663 | 0.002175614 |  0.0118738754 |  0.003406759 |  0.008648824 |  0.012176447 | -0.0305694942 |\n",
       "| -0.0306176580 |  0.025462462 | 0.036081911 |  0.0126729350 | -0.044969716 | -0.027106350 | -0.022457875 |  0.0445451523 |\n",
       "\n"
      ],
      "text/plain": [
       "     Br1122        Br2285       Br1764      Br1464        Br5062      \n",
       "[1,]  0.0253829362 -0.017323894 0.005750449  0.0078304831 -0.009078345\n",
       "[2,] -0.0064710238  0.002414156 0.001157111 -0.0206193376  0.022882869\n",
       "[3,] -0.0250797525  0.014385216 0.036930629  0.0215806349  0.003676137\n",
       "[4,] -0.0191367843  0.021985812 0.026616425 -0.0242845175  0.012541978\n",
       "[5,] -0.0003911163  0.019492335 0.042802522 -0.0001410451  0.016599913\n",
       "[6,]  0.0322447238 -0.013782242 0.051605715  0.0117040232 -0.027161782\n",
       "[7,] -0.0092180117  0.011584663 0.002175614  0.0118738754  0.003406759\n",
       "[8,] -0.0306176580  0.025462462 0.036081911  0.0126729350 -0.044969716\n",
       "     Br1446       Br1503       Br1946       \n",
       "[1,]  0.012729692 -0.004078816  0.0008203567\n",
       "[2,]  0.013767844  0.035204178 -0.0082922974\n",
       "[3,]  0.015672741  0.002314830 -0.0452117297\n",
       "[4,] -0.004100370 -0.011213549 -0.0064980609\n",
       "[5,]  0.009590463  0.010911324 -0.0389773984\n",
       "[6,]  0.039692736  0.051548369 -0.0067647916\n",
       "[7,]  0.008648824  0.012176447 -0.0305694942\n",
       "[8,] -0.027106350 -0.022457875  0.0445451523"
      ]
     },
     "metadata": {},
     "output_type": "display_data"
    }
   ],
   "source": [
    "p.residual[1:8, 1:8]"
   ]
  },
  {
   "cell_type": "code",
   "execution_count": 29,
   "id": "f4ad72db-fe27-4676-8da6-46222519a095",
   "metadata": {},
   "outputs": [],
   "source": [
    "snp.gwas2 <- NULL"
   ]
  },
  {
   "cell_type": "code",
   "execution_count": 30,
   "id": "744fc147-2638-4935-a805-68cb51852dd7",
   "metadata": {},
   "outputs": [],
   "source": [
    "#load(\"p1.rda\", verbose = TRUE)"
   ]
  },
  {
   "cell_type": "markdown",
   "id": "6f1649fc-72c8-4bcf-9cbc-587463117579",
   "metadata": {},
   "source": [
    "### summary stats"
   ]
  },
  {
   "cell_type": "code",
   "execution_count": 31,
   "id": "19d2a3db-0ed4-481f-b7d6-78d0ddbbb80f",
   "metadata": {},
   "outputs": [],
   "source": [
    "library(data.table)\n",
    "library(CpGWAS)"
   ]
  },
  {
   "cell_type": "code",
   "execution_count": 32,
   "id": "a5270235-a5a6-42d2-a654-ea30cb891279",
   "metadata": {},
   "outputs": [],
   "source": [
    "ss_path <- \"/home/naglemi/mwas/gwas/gwas_stat_scz\""
   ]
  },
  {
   "cell_type": "code",
   "execution_count": 33,
   "id": "203b45ea-44b4-4679-8b74-621f634db7dc",
   "metadata": {},
   "outputs": [],
   "source": [
    "snp.gwas2 <- fread(ss_path, skip = 1, header = FALSE)\n",
    "colnames(snp.gwas2) <- strsplit(readLines(ss_path, n = 1), \"\\t\")[[1]]"
   ]
  },
  {
   "cell_type": "code",
   "execution_count": 34,
   "id": "917f58c4-4ec5-47b8-bf3d-f0abcf86cf96",
   "metadata": {},
   "outputs": [],
   "source": [
    "snp.gwas2$z <- log(snp.gwas2$OR)/snp.gwas2$SE"
   ]
  },
  {
   "cell_type": "code",
   "execution_count": 35,
   "id": "6d87bed5-d32c-4264-b787-d738cd381454",
   "metadata": {},
   "outputs": [],
   "source": [
    "snp.gwas2 <- snp.gwas2[, c(2, 1, 3, 3, 8, 4, 5, 20, 11)]"
   ]
  },
  {
   "cell_type": "code",
   "execution_count": 36,
   "id": "3df5e4c7-01eb-475b-a931-1e088d109cdb",
   "metadata": {},
   "outputs": [
    {
     "data": {
      "text/html": [
       "<table class=\"dataframe\">\n",
       "<caption>A data.table: 1 × 9</caption>\n",
       "<thead>\n",
       "\t<tr><th scope=col>SNP</th><th scope=col>CHR</th><th scope=col>BP</th><th scope=col>BP</th><th scope=col>INFO</th><th scope=col>A1</th><th scope=col>A2</th><th scope=col>z</th><th scope=col>P</th></tr>\n",
       "\t<tr><th scope=col>&lt;chr&gt;</th><th scope=col>&lt;int&gt;</th><th scope=col>&lt;int&gt;</th><th scope=col>&lt;int&gt;</th><th scope=col>&lt;dbl&gt;</th><th scope=col>&lt;chr&gt;</th><th scope=col>&lt;chr&gt;</th><th scope=col>&lt;dbl&gt;</th><th scope=col>&lt;dbl&gt;</th></tr>\n",
       "</thead>\n",
       "<tbody>\n",
       "\t<tr><td>rs62513865</td><td>8</td><td>100579985</td><td>100579985</td><td>0.963</td><td>C</td><td>T</td><td>0.7016221</td><td>0.4847</td></tr>\n",
       "</tbody>\n",
       "</table>\n"
      ],
      "text/latex": [
       "A data.table: 1 × 9\n",
       "\\begin{tabular}{lllllllll}\n",
       " SNP & CHR & BP & BP & INFO & A1 & A2 & z & P\\\\\n",
       " <chr> & <int> & <int> & <int> & <dbl> & <chr> & <chr> & <dbl> & <dbl>\\\\\n",
       "\\hline\n",
       "\t rs62513865 & 8 & 100579985 & 100579985 & 0.963 & C & T & 0.7016221 & 0.4847\\\\\n",
       "\\end{tabular}\n"
      ],
      "text/markdown": [
       "\n",
       "A data.table: 1 × 9\n",
       "\n",
       "| SNP &lt;chr&gt; | CHR &lt;int&gt; | BP &lt;int&gt; | BP &lt;int&gt; | INFO &lt;dbl&gt; | A1 &lt;chr&gt; | A2 &lt;chr&gt; | z &lt;dbl&gt; | P &lt;dbl&gt; |\n",
       "|---|---|---|---|---|---|---|---|---|\n",
       "| rs62513865 | 8 | 100579985 | 100579985 | 0.963 | C | T | 0.7016221 | 0.4847 |\n",
       "\n"
      ],
      "text/plain": [
       "  SNP        CHR BP        BP        INFO  A1 A2 z         P     \n",
       "1 rs62513865 8   100579985 100579985 0.963 C  T  0.7016221 0.4847"
      ]
     },
     "metadata": {},
     "output_type": "display_data"
    }
   ],
   "source": [
    "head(snp.gwas2, n = 1)"
   ]
  },
  {
   "cell_type": "code",
   "execution_count": 37,
   "id": "a1b63fe0-6ff8-4982-92a5-7dd2a937b6f3",
   "metadata": {},
   "outputs": [],
   "source": [
    "colnames(snp.gwas2)[1:5] <- c(\"snp\", \"chr\", \"pos_hg38\", \"pos_hg38\", \"info\")"
   ]
  },
  {
   "cell_type": "code",
   "execution_count": 38,
   "id": "bda48de1-8191-4b45-8f16-41cce0a957af",
   "metadata": {},
   "outputs": [],
   "source": [
    "CHR <- chr # to avoid R df local env mixing variables of columns name and subset variable"
   ]
  },
  {
   "cell_type": "code",
   "execution_count": 39,
   "id": "196dca2f-edd0-4ff7-83d0-73049310205f",
   "metadata": {},
   "outputs": [],
   "source": [
    "snp.gwas2 <- snp.gwas2[which(snp.gwas2$chr == CHR), ]"
   ]
  },
  {
   "cell_type": "code",
   "execution_count": 40,
   "id": "86716430-3d24-416b-922e-f7f8e007325d",
   "metadata": {},
   "outputs": [],
   "source": [
    "if(filter_snps == TRUE){\n",
    "    snp.gwas2 <- snp.gwas2[which(snp.gwas2$pos_hg38 >= (min(sites_to_test_pos)-10000) & snp.gwas2$pos_hg38 <= (max(sites_to_test_pos) + 10000)), ]\n",
    "}"
   ]
  },
  {
   "cell_type": "code",
   "execution_count": 41,
   "id": "6dfba3a8-0775-4f8c-92d2-3c9c32a36945",
   "metadata": {},
   "outputs": [],
   "source": [
    "snp.gwas2 <- snp.gwas2[order(snp.gwas2$pos_hg38), ]"
   ]
  },
  {
   "cell_type": "code",
   "execution_count": 42,
   "id": "4714a813-116f-4567-a6b1-41bb02df8227",
   "metadata": {},
   "outputs": [],
   "source": [
    "# built predition models\n",
    "idx.ea <- BSobj2$race == \"CAUC\""
   ]
  },
  {
   "cell_type": "code",
   "execution_count": 43,
   "id": "8bce368a-5bbc-4ed4-9906-5d8ab09e21a8",
   "metadata": {},
   "outputs": [
    {
     "data": {
      "text/html": [
       "'3'"
      ],
      "text/latex": [
       "'3'"
      ],
      "text/markdown": [
       "'3'"
      ],
      "text/plain": [
       "[1] \"3\""
      ]
     },
     "metadata": {},
     "output_type": "display_data"
    }
   ],
   "source": [
    "levels(factor(snp.gwas2$chr))"
   ]
  },
  {
   "cell_type": "markdown",
   "id": "9700ca92-911f-4aa6-a557-789f202994b1",
   "metadata": {},
   "source": [
    "### SNPs in LIBD population"
   ]
  },
  {
   "cell_type": "markdown",
   "id": "4f57b245-ca89-42ac-986a-c47623a31e59",
   "metadata": {},
   "source": [
    "#### Old dataset"
   ]
  },
  {
   "cell_type": "code",
   "execution_count": null,
   "id": "03097259-e5c1-43c7-9b09-e67ed2080067",
   "metadata": {},
   "outputs": [],
   "source": []
  },
  {
   "cell_type": "code",
   "execution_count": null,
   "id": "0c89ee08-626a-42b6-8091-791bd5d63239",
   "metadata": {},
   "outputs": [],
   "source": []
  },
  {
   "cell_type": "code",
   "execution_count": null,
   "id": "e68fddaf-f50a-41ac-bdb3-56f9bd93ff4b",
   "metadata": {},
   "outputs": [],
   "source": []
  },
  {
   "cell_type": "markdown",
   "id": "6c305c43-74d5-42df-8039-b20adbbed9cd",
   "metadata": {},
   "source": [
    "#### New dataset prep: For reference, first load Shizhong's formatted SNPs on Chr7"
   ]
  },
  {
   "cell_type": "code",
   "execution_count": 44,
   "id": "17bbe86f-b1ff-4af1-8297-56ed0e3051e6",
   "metadata": {},
   "outputs": [],
   "source": [
    "# load(\"p1.rda\", verbose = TRUE)\n",
    "\n",
    "# snp2_sorted <- snp2[, order(names(snp2))]\n",
    "\n",
    "# colnames(snp2) <- gsub(\"Br0\", \"Br\", colnames(snp2))\n",
    "\n",
    "# snp2 <- snp2[, colnames(snp2) %in% colnames(p.residual)]\n",
    "\n",
    "# snp2_positions <- stringr::str_split_fixed(rownames(snp2), \":\", 3)[, 2]"
   ]
  },
  {
   "cell_type": "markdown",
   "id": "64e0f588-fc43-4f4a-aba6-911d037e9ead",
   "metadata": {},
   "source": [
    "#### New dataset: Now let's load ours on Chr1"
   ]
  },
  {
   "cell_type": "code",
   "execution_count": 45,
   "id": "04b0b495-749b-42fa-a4ce-2d7f14f0a053",
   "metadata": {},
   "outputs": [],
   "source": [
    "paths <- list(\n",
    "  pvar_path = paste0(\"/expanse/lustre/projects/jhu152/naglemi/mwas/gwas/libd_chr\", chr, \".pvar\"),\n",
    "  pgen_path = paste0(\"/expanse/lustre/projects/jhu152/naglemi/mwas/gwas/libd_chr\", chr, \".pgen\"),\n",
    "  psam_path = paste0(\"/expanse/lustre/projects/jhu152/naglemi/mwas/gwas/libd_chr\", chr, \".psam\")\n",
    ")\n",
    "\n",
    "my_SNPs <- loadSNPData(paths$pvar_path, paths$pgen_path, paths$psam_path)"
   ]
  },
  {
   "cell_type": "code",
   "execution_count": 46,
   "id": "6c82ac91-681b-483c-818f-3a2ec958bca7",
   "metadata": {},
   "outputs": [],
   "source": [
    "filter_snps <- TRUE"
   ]
  },
  {
   "cell_type": "code",
   "execution_count": 47,
   "id": "1dd4ef47-2a68-4f01-a0e5-03efd6732c4a",
   "metadata": {},
   "outputs": [],
   "source": [
    "if(filter_snps == TRUE){\n",
    "    snp_indices_of_interest <- which(my_SNPs$pvar_dt$POS >= min(sites_to_test_pos)-100000 & my_SNPs$pvar_dt$POS <= max(sites_to_test_pos) + 100000)\n",
    "}"
   ]
  },
  {
   "cell_type": "code",
   "execution_count": 48,
   "id": "24e9b8e2-bbbc-4421-98e2-97a6ae33ef68",
   "metadata": {},
   "outputs": [],
   "source": [
    "if(filter_snps == TRUE){\n",
    "    snp3 <- pgenlibr::ReadList(my_SNPs$pgen,\n",
    "                               variant_subset = snp_indices_of_interest)\n",
    "    colnames(snp3) <- my_SNPs$pvar_dt$ID[snp_indices_of_interest]\n",
    "} else {\n",
    "    snp3 <- pgenlibr::ReadList(my_SNPs$pgen)\n",
    "    colnames(snp3) <- my_SNPs$pvar_dt$ID\n",
    "}"
   ]
  },
  {
   "cell_type": "code",
   "execution_count": 49,
   "id": "cec6d1f4-f37a-4788-a6c8-04fb1d6a6fcf",
   "metadata": {},
   "outputs": [
    {
     "data": {
      "text/html": [
       "<table class=\"dataframe\">\n",
       "<caption>A matrix: 10 × 10 of type dbl</caption>\n",
       "<thead>\n",
       "\t<tr><th scope=col>chr3:623601:A:C</th><th scope=col>chr3:623686:G:T</th><th scope=col>chr3:623884:C:A</th><th scope=col>chr3:624899:C:T</th><th scope=col>chr3:624928:G:T</th><th scope=col>chr3:625089:C:G</th><th scope=col>chr3:625177:A:G</th><th scope=col>chr3:625208:C:G</th><th scope=col>chr3:625288:A:G</th><th scope=col>chr3:625437:T:C</th></tr>\n",
       "</thead>\n",
       "<tbody>\n",
       "\t<tr><td>0.0000000</td><td>0.0000000</td><td>0.0000000000</td><td>0.0000000</td><td>0.0000000</td><td>0.0000000</td><td>0.0000000</td><td>0</td><td>0.0000000</td><td>0.0000000</td></tr>\n",
       "\t<tr><td>0.9959717</td><td>0.0000000</td><td>0.0009765625</td><td>0.0000000</td><td>0.0000000</td><td>0.0000000</td><td>0.9959717</td><td>0</td><td>0.9959717</td><td>0.9959717</td></tr>\n",
       "\t<tr><td>0.0000000</td><td>0.0000000</td><td>0.0000000000</td><td>0.0000000</td><td>0.0000000</td><td>0.0000000</td><td>0.0000000</td><td>0</td><td>0.0000000</td><td>0.0000000</td></tr>\n",
       "\t<tr><td>0.0000000</td><td>0.9990234</td><td>0.9990234375</td><td>0.9990234</td><td>0.9990234</td><td>0.9990234</td><td>0.0000000</td><td>0</td><td>0.0000000</td><td>0.0000000</td></tr>\n",
       "\t<tr><td>0.0000000</td><td>0.0000000</td><td>0.0000000000</td><td>0.0000000</td><td>0.0000000</td><td>0.0000000</td><td>0.0000000</td><td>0</td><td>0.0000000</td><td>0.0000000</td></tr>\n",
       "\t<tr><td>0.0000000</td><td>0.0000000</td><td>0.0000000000</td><td>0.0000000</td><td>0.0000000</td><td>0.0000000</td><td>0.0000000</td><td>0</td><td>0.0000000</td><td>0.0000000</td></tr>\n",
       "\t<tr><td>0.0000000</td><td>0.0000000</td><td>0.0000000000</td><td>0.0000000</td><td>0.0000000</td><td>0.0000000</td><td>0.0000000</td><td>0</td><td>0.0000000</td><td>0.0000000</td></tr>\n",
       "\t<tr><td>0.0000000</td><td>0.0000000</td><td>0.0000000000</td><td>0.0000000</td><td>0.0000000</td><td>0.0000000</td><td>0.0000000</td><td>0</td><td>0.0000000</td><td>0.0000000</td></tr>\n",
       "\t<tr><td>1.0000000</td><td>0.0000000</td><td>0.0000000000</td><td>0.0000000</td><td>0.0000000</td><td>0.0000000</td><td>0.0000000</td><td>1</td><td>1.0000000</td><td>1.0000000</td></tr>\n",
       "\t<tr><td>0.0000000</td><td>0.0000000</td><td>0.0000000000</td><td>0.0000000</td><td>0.0000000</td><td>0.0000000</td><td>0.0000000</td><td>0</td><td>0.0000000</td><td>0.0000000</td></tr>\n",
       "</tbody>\n",
       "</table>\n"
      ],
      "text/latex": [
       "A matrix: 10 × 10 of type dbl\n",
       "\\begin{tabular}{llllllllll}\n",
       " chr3:623601:A:C & chr3:623686:G:T & chr3:623884:C:A & chr3:624899:C:T & chr3:624928:G:T & chr3:625089:C:G & chr3:625177:A:G & chr3:625208:C:G & chr3:625288:A:G & chr3:625437:T:C\\\\\n",
       "\\hline\n",
       "\t 0.0000000 & 0.0000000 & 0.0000000000 & 0.0000000 & 0.0000000 & 0.0000000 & 0.0000000 & 0 & 0.0000000 & 0.0000000\\\\\n",
       "\t 0.9959717 & 0.0000000 & 0.0009765625 & 0.0000000 & 0.0000000 & 0.0000000 & 0.9959717 & 0 & 0.9959717 & 0.9959717\\\\\n",
       "\t 0.0000000 & 0.0000000 & 0.0000000000 & 0.0000000 & 0.0000000 & 0.0000000 & 0.0000000 & 0 & 0.0000000 & 0.0000000\\\\\n",
       "\t 0.0000000 & 0.9990234 & 0.9990234375 & 0.9990234 & 0.9990234 & 0.9990234 & 0.0000000 & 0 & 0.0000000 & 0.0000000\\\\\n",
       "\t 0.0000000 & 0.0000000 & 0.0000000000 & 0.0000000 & 0.0000000 & 0.0000000 & 0.0000000 & 0 & 0.0000000 & 0.0000000\\\\\n",
       "\t 0.0000000 & 0.0000000 & 0.0000000000 & 0.0000000 & 0.0000000 & 0.0000000 & 0.0000000 & 0 & 0.0000000 & 0.0000000\\\\\n",
       "\t 0.0000000 & 0.0000000 & 0.0000000000 & 0.0000000 & 0.0000000 & 0.0000000 & 0.0000000 & 0 & 0.0000000 & 0.0000000\\\\\n",
       "\t 0.0000000 & 0.0000000 & 0.0000000000 & 0.0000000 & 0.0000000 & 0.0000000 & 0.0000000 & 0 & 0.0000000 & 0.0000000\\\\\n",
       "\t 1.0000000 & 0.0000000 & 0.0000000000 & 0.0000000 & 0.0000000 & 0.0000000 & 0.0000000 & 1 & 1.0000000 & 1.0000000\\\\\n",
       "\t 0.0000000 & 0.0000000 & 0.0000000000 & 0.0000000 & 0.0000000 & 0.0000000 & 0.0000000 & 0 & 0.0000000 & 0.0000000\\\\\n",
       "\\end{tabular}\n"
      ],
      "text/markdown": [
       "\n",
       "A matrix: 10 × 10 of type dbl\n",
       "\n",
       "| chr3:623601:A:C | chr3:623686:G:T | chr3:623884:C:A | chr3:624899:C:T | chr3:624928:G:T | chr3:625089:C:G | chr3:625177:A:G | chr3:625208:C:G | chr3:625288:A:G | chr3:625437:T:C |\n",
       "|---|---|---|---|---|---|---|---|---|---|\n",
       "| 0.0000000 | 0.0000000 | 0.0000000000 | 0.0000000 | 0.0000000 | 0.0000000 | 0.0000000 | 0 | 0.0000000 | 0.0000000 |\n",
       "| 0.9959717 | 0.0000000 | 0.0009765625 | 0.0000000 | 0.0000000 | 0.0000000 | 0.9959717 | 0 | 0.9959717 | 0.9959717 |\n",
       "| 0.0000000 | 0.0000000 | 0.0000000000 | 0.0000000 | 0.0000000 | 0.0000000 | 0.0000000 | 0 | 0.0000000 | 0.0000000 |\n",
       "| 0.0000000 | 0.9990234 | 0.9990234375 | 0.9990234 | 0.9990234 | 0.9990234 | 0.0000000 | 0 | 0.0000000 | 0.0000000 |\n",
       "| 0.0000000 | 0.0000000 | 0.0000000000 | 0.0000000 | 0.0000000 | 0.0000000 | 0.0000000 | 0 | 0.0000000 | 0.0000000 |\n",
       "| 0.0000000 | 0.0000000 | 0.0000000000 | 0.0000000 | 0.0000000 | 0.0000000 | 0.0000000 | 0 | 0.0000000 | 0.0000000 |\n",
       "| 0.0000000 | 0.0000000 | 0.0000000000 | 0.0000000 | 0.0000000 | 0.0000000 | 0.0000000 | 0 | 0.0000000 | 0.0000000 |\n",
       "| 0.0000000 | 0.0000000 | 0.0000000000 | 0.0000000 | 0.0000000 | 0.0000000 | 0.0000000 | 0 | 0.0000000 | 0.0000000 |\n",
       "| 1.0000000 | 0.0000000 | 0.0000000000 | 0.0000000 | 0.0000000 | 0.0000000 | 0.0000000 | 1 | 1.0000000 | 1.0000000 |\n",
       "| 0.0000000 | 0.0000000 | 0.0000000000 | 0.0000000 | 0.0000000 | 0.0000000 | 0.0000000 | 0 | 0.0000000 | 0.0000000 |\n",
       "\n"
      ],
      "text/plain": [
       "      chr3:623601:A:C chr3:623686:G:T chr3:623884:C:A chr3:624899:C:T\n",
       " [1,] 0.0000000       0.0000000       0.0000000000    0.0000000      \n",
       " [2,] 0.9959717       0.0000000       0.0009765625    0.0000000      \n",
       " [3,] 0.0000000       0.0000000       0.0000000000    0.0000000      \n",
       " [4,] 0.0000000       0.9990234       0.9990234375    0.9990234      \n",
       " [5,] 0.0000000       0.0000000       0.0000000000    0.0000000      \n",
       " [6,] 0.0000000       0.0000000       0.0000000000    0.0000000      \n",
       " [7,] 0.0000000       0.0000000       0.0000000000    0.0000000      \n",
       " [8,] 0.0000000       0.0000000       0.0000000000    0.0000000      \n",
       " [9,] 1.0000000       0.0000000       0.0000000000    0.0000000      \n",
       "[10,] 0.0000000       0.0000000       0.0000000000    0.0000000      \n",
       "      chr3:624928:G:T chr3:625089:C:G chr3:625177:A:G chr3:625208:C:G\n",
       " [1,] 0.0000000       0.0000000       0.0000000       0              \n",
       " [2,] 0.0000000       0.0000000       0.9959717       0              \n",
       " [3,] 0.0000000       0.0000000       0.0000000       0              \n",
       " [4,] 0.9990234       0.9990234       0.0000000       0              \n",
       " [5,] 0.0000000       0.0000000       0.0000000       0              \n",
       " [6,] 0.0000000       0.0000000       0.0000000       0              \n",
       " [7,] 0.0000000       0.0000000       0.0000000       0              \n",
       " [8,] 0.0000000       0.0000000       0.0000000       0              \n",
       " [9,] 0.0000000       0.0000000       0.0000000       1              \n",
       "[10,] 0.0000000       0.0000000       0.0000000       0              \n",
       "      chr3:625288:A:G chr3:625437:T:C\n",
       " [1,] 0.0000000       0.0000000      \n",
       " [2,] 0.9959717       0.9959717      \n",
       " [3,] 0.0000000       0.0000000      \n",
       " [4,] 0.0000000       0.0000000      \n",
       " [5,] 0.0000000       0.0000000      \n",
       " [6,] 0.0000000       0.0000000      \n",
       " [7,] 0.0000000       0.0000000      \n",
       " [8,] 0.0000000       0.0000000      \n",
       " [9,] 1.0000000       1.0000000      \n",
       "[10,] 0.0000000       0.0000000      "
      ]
     },
     "metadata": {},
     "output_type": "display_data"
    }
   ],
   "source": [
    "snp3[1:10, 1:10]"
   ]
  },
  {
   "cell_type": "code",
   "execution_count": 50,
   "id": "41fbfa27-83df-4758-87c6-0cff2de9a160",
   "metadata": {},
   "outputs": [],
   "source": [
    "rownames(snp3) <- my_SNPs$psam$`#IID`"
   ]
  },
  {
   "cell_type": "code",
   "execution_count": 51,
   "id": "7a35ed6c-92ba-44b3-840e-ffc621828872",
   "metadata": {},
   "outputs": [],
   "source": [
    "map3 <- data.frame(POS = stringr::str_split_fixed(colnames(snp3), \":\", 3)[, 2])"
   ]
  },
  {
   "cell_type": "code",
   "execution_count": 52,
   "id": "ca549289-47f4-444b-b3e8-7d8a39c2e33f",
   "metadata": {},
   "outputs": [],
   "source": [
    "snp3 <- t(snp3)"
   ]
  },
  {
   "cell_type": "code",
   "execution_count": 53,
   "id": "191b05e4-0107-4059-887e-bd3f2cafde0f",
   "metadata": {},
   "outputs": [],
   "source": [
    "map3 <- data.frame(POS = stringr::str_split_fixed(rownames(snp3), \":\", 3)[, 2])"
   ]
  },
  {
   "cell_type": "code",
   "execution_count": 54,
   "id": "4e17a504-e98e-4d5e-bc59-3fd09faf3de8",
   "metadata": {},
   "outputs": [
    {
     "data": {
      "text/html": [
       "<style>\n",
       ".list-inline {list-style: none; margin:0; padding: 0}\n",
       ".list-inline>li {display: inline-block}\n",
       ".list-inline>li:not(:last-child)::after {content: \"\\00b7\"; padding: 0 .5ex}\n",
       "</style>\n",
       "<ol class=list-inline><li>427242</li><li>1</li></ol>\n"
      ],
      "text/latex": [
       "\\begin{enumerate*}\n",
       "\\item 427242\n",
       "\\item 1\n",
       "\\end{enumerate*}\n"
      ],
      "text/markdown": [
       "1. 427242\n",
       "2. 1\n",
       "\n",
       "\n"
      ],
      "text/plain": [
       "[1] 427242      1"
      ]
     },
     "metadata": {},
     "output_type": "display_data"
    }
   ],
   "source": [
    "dim(map3)"
   ]
  },
  {
   "cell_type": "markdown",
   "id": "d0fb3ea3-0f60-4a62-b787-66185fc8e792",
   "metadata": {},
   "source": [
    "### SNPs in reference population"
   ]
  },
  {
   "cell_type": "code",
   "execution_count": 55,
   "id": "00b33368-a3ec-4788-8b82-519e1fbd5e95",
   "metadata": {},
   "outputs": [],
   "source": [
    "#snp.1kg.eur2"
   ]
  },
  {
   "cell_type": "code",
   "execution_count": 56,
   "id": "99022f2f-c9b9-47db-a5af-b2d7ba0ded99",
   "metadata": {},
   "outputs": [],
   "source": [
    "paths <- list(\n",
    "  pvar_path = paste0(\"/expanse/lustre/projects/jhu152/naglemi/mwas/gwas/ref_EUR_chr\", chr, \".pvar\"),\n",
    "  pgen_path = paste0(\"/expanse/lustre/projects/jhu152/naglemi/mwas/gwas/ref_EUR_chr\", chr, \".pgen\"),\n",
    "  psam_path = paste0(\"/expanse/lustre/projects/jhu152/naglemi/mwas/gwas/ref_EUR_chr\", chr, \".psam\")\n",
    ")\n",
    "\n",
    "my_SNPs <- loadSNPData(paths$pvar_path, paths$pgen_path, paths$psam_path)"
   ]
  },
  {
   "cell_type": "code",
   "execution_count": 57,
   "id": "90b30176-0532-45a1-bf5e-17e207bb61d5",
   "metadata": {},
   "outputs": [],
   "source": [
    "if(filter_snps == TRUE){\n",
    "    snp_indices_of_interest <- which(my_SNPs$pvar_dt$POS >= min(sites_to_test_pos)-10000 & my_SNPs$pvar_dt$POS <= max(sites_to_test_pos) + 10000)\n",
    "}"
   ]
  },
  {
   "cell_type": "code",
   "execution_count": 58,
   "id": "85f427f7-e4d3-4ba6-ad1a-a2691f68346e",
   "metadata": {},
   "outputs": [],
   "source": [
    "snp.1kg.eur2 <- pgenlibr::ReadList(my_SNPs$pgen,\n",
    "                        variant_subset = snp_indices_of_interest)\n",
    "colnames(snp.1kg.eur2) <- my_SNPs$pvar_dt$ID[snp_indices_of_interest]\n",
    "rownames(snp.1kg.eur2) <- my_SNPs$psam$`IID`"
   ]
  },
  {
   "cell_type": "code",
   "execution_count": 59,
   "id": "38d80ac5-91d5-4766-8953-fe93f6de6a34",
   "metadata": {},
   "outputs": [],
   "source": [
    "map.1kg.eur2 <- my_SNPs$pvar_dt"
   ]
  },
  {
   "cell_type": "code",
   "execution_count": 60,
   "id": "a9650fe9-2483-4bf0-95d3-0102b90465f2",
   "metadata": {},
   "outputs": [],
   "source": [
    "map.1kg.eur2 <- map.1kg.eur2[snp_indices_of_interest, ]"
   ]
  },
  {
   "cell_type": "code",
   "execution_count": 61,
   "id": "f6f5d1f5-0681-4825-bfa7-79d3ace6f004",
   "metadata": {},
   "outputs": [],
   "source": [
    "snp.1kg.eur2 <- t(snp.1kg.eur2)"
   ]
  },
  {
   "cell_type": "markdown",
   "id": "882a7c0a-0ec2-4aa2-be3c-a2f152126bd8",
   "metadata": {},
   "source": [
    "### Set window size and any other parameters"
   ]
  },
  {
   "cell_type": "code",
   "execution_count": 62,
   "id": "461263e5-8c47-40ae-b3e4-03dbea4820e8",
   "metadata": {},
   "outputs": [],
   "source": [
    "wind <- 10000"
   ]
  },
  {
   "cell_type": "markdown",
   "id": "0849e5e3-af47-480f-82ca-97b07d1dd943",
   "metadata": {},
   "source": [
    "Is 1se vs min for lambda the problem?"
   ]
  },
  {
   "cell_type": "markdown",
   "id": "b0244eba-060a-4ac3-966c-cb68deb41cb0",
   "metadata": {},
   "source": [
    "#### Final formatting steps to prepare for MWAS - sort samples"
   ]
  },
  {
   "cell_type": "code",
   "execution_count": 63,
   "id": "f41f9c4d-1489-45a4-ad25-d446a05980bf",
   "metadata": {},
   "outputs": [],
   "source": [
    "p.residual <- p.residual[, order(colnames(p.residual))]"
   ]
  },
  {
   "cell_type": "code",
   "execution_count": 64,
   "id": "65857cda-1517-4854-a1e1-5af6459cbdca",
   "metadata": {},
   "outputs": [],
   "source": [
    "snp3 <- snp3[, colnames(snp3) %in% colnames(p.residual)]"
   ]
  },
  {
   "cell_type": "code",
   "execution_count": 65,
   "id": "7ab51668-a9da-4913-a8ee-41aa0d49550e",
   "metadata": {},
   "outputs": [],
   "source": [
    "snp3 <- snp3[, order(colnames(snp3))]"
   ]
  },
  {
   "cell_type": "markdown",
   "id": "768cf092-82d8-46e6-b322-efd6e09bbb73",
   "metadata": {},
   "source": [
    "## MWAS"
   ]
  },
  {
   "cell_type": "markdown",
   "id": "c3720675-e92d-46ee-b5a6-66d71d367dc4",
   "metadata": {},
   "source": [
    "### With `lambda.1se`"
   ]
  },
  {
   "cell_type": "markdown",
   "id": "cfc14c0f-1e12-4108-97fc-ab66a6467640",
   "metadata": {},
   "source": [
    "#### Stage 1"
   ]
  },
  {
   "cell_type": "markdown",
   "id": "7cde5d54-d8c6-4f26-b992-cd06803bafc3",
   "metadata": {},
   "source": [
    "Quick debug: A version to see why we end up with empty `models.aa` and `models.ea`"
   ]
  },
  {
   "cell_type": "code",
   "execution_count": 66,
   "id": "305409c3-5abb-49c2-9914-6fd958064abf",
   "metadata": {},
   "outputs": [
    {
     "name": "stderr",
     "output_type": "stream",
     "text": [
      "Warning message:\n",
      "“executing %dopar% sequentially: no parallel backend registered”\n",
      "Warning message:\n",
      "“from glmnet C++ code (error code -95); Convergence for 95th lambda value not reached after maxit=100000 iterations; solutions for larger lambdas returned”\n",
      "Warning message:\n",
      "“from glmnet C++ code (error code -92); Convergence for 92th lambda value not reached after maxit=100000 iterations; solutions for larger lambdas returned”\n"
     ]
    }
   ],
   "source": [
    "set.seed(42)\n",
    "for(k in 1:length(wind)){\n",
    "    models.ea <- c()\n",
    "    models.all <- c()\n",
    "    for(i in 1:length(cg)){\n",
    "    #for(i in 1){\n",
    "            #cat(i,\"\\n\")\n",
    "            #print(paste0(\"This cg is: \", cg[i]))\n",
    "            range1 <- ifelse(cg[i] - wind[k] > 0,cg[i] - wind[k],0)\n",
    "            range2 <- cg[i] + wind[k]\n",
    "            idx <- map3$POS > range1 & map3$POS < range2\n",
    "            # go to next cg if no snps within window\n",
    "            if(sum(idx) <= 1){\n",
    "                    next\n",
    "            }\n",
    "            geno <- snp3[idx,] # changed snp2 to snp3\n",
    "            rownames(geno) <- map3$POS[idx]\n",
    "            trainX <- t(geno)\n",
    "            trainY <- p.residual[i,]\n",
    "            #fit <- elastic.net(trainX,trainY, \"1se\")\n",
    "            fit <- tryCatch(\n",
    "                    elastic.net(trainX,trainY, \"1se\"),\n",
    "                    error = function(e) {return (\"err\")})\n",
    "            if(!is.data.frame(fit)){\n",
    "                if(fit == \"err\"){\n",
    "                    next\n",
    "                }\n",
    "            }\n",
    "            if(nrow(fit) == 0) next\n",
    "\n",
    "            fit$cg <- cg[i]\n",
    "            models.all <- rbind(models.all,fit)\n",
    "            # EA only\n",
    "            trainX <- trainX[idx.ea,]\n",
    "            if(sum(apply(trainX,2,var)!=0) <= 1){\n",
    "                    next\n",
    "            }\n",
    "            trainY <- trainY[idx.ea]\n",
    "            fit <- tryCatch(\n",
    "                    elastic.net(trainX,trainY, \"1se\"),\n",
    "                    error = function(e) {return (\"err\")})\n",
    "            if(!is.data.frame(fit)){\n",
    "                if(fit == \"err\"){\n",
    "                    next\n",
    "                }\n",
    "            }\n",
    "            if(nrow(fit) == 0) next\n",
    "            fit$cg <- cg[i]\n",
    "            models.ea <- rbind(models.ea,fit)\n",
    "    }\n",
    "}"
   ]
  },
  {
   "cell_type": "code",
   "execution_count": 67,
   "id": "3d109e75-bf26-43f5-8a0d-d6bb2f9cbe6b",
   "metadata": {},
   "outputs": [],
   "source": [
    "models.ea <- models.ea[models.ea[,1] != \"(Intercept)\",]\n",
    "models.all <- models.all[models.all[,1] != \"(Intercept)\",]"
   ]
  },
  {
   "cell_type": "markdown",
   "id": "9f851085-6f8e-4b8e-91fb-5696125a32be",
   "metadata": {},
   "source": [
    "#### Stage 2"
   ]
  },
  {
   "cell_type": "code",
   "execution_count": 68,
   "id": "ad0d6d07-06f6-403d-8496-5dd34d8ba4b1",
   "metadata": {},
   "outputs": [],
   "source": [
    "if(!dir.exists(outd)) dir.create(outd)"
   ]
  },
  {
   "cell_type": "code",
   "execution_count": 69,
   "id": "96693eaa-eb61-415a-b5d8-6034f0a4d150",
   "metadata": {},
   "outputs": [],
   "source": [
    "set.seed(42)\n",
    "# mwas by models of all samples\n",
    "cg2 <- unique(models.all$cg)\n",
    "mwas.all <- matrix(0,nrow=length(cg2),ncol=2)\n",
    "\n",
    "for(i in 1:length(cg2)){\n",
    "    pos <- models.all[models.all$cg == cg2[i],1]\n",
    "    gwas <- snp.gwas2$z[is.element(snp.gwas2$pos_hg38, pos)]\n",
    "    weight <- models.all[models.all$cg == cg2[i],2]\n",
    "    #geno <- snp.1kg.eur2[match(pos,map.1kg.eur2$POS),]\n",
    "\n",
    "    match_indices <- match(pos, map.1kg.eur2$POS)\n",
    "\n",
    "    tryCatch({\n",
    "        geno <- snp.1kg.eur2[match_indices, , drop = FALSE]\n",
    "    }, error = function(e) {\n",
    "        cat(\"Error accessing genotype data at iteration:\", i, \"\\n\")\n",
    "        cat(\"Error message:\", e$message, \"\\n\")\n",
    "        stop(\"Stopping execution due to error.\")\n",
    "    })\n",
    "\n",
    "    tryCatch({\n",
    "        mwas.all[i,] <- MWAS(gwas, weight, t(geno))\n",
    "    }, error = function(e) {\n",
    "        cat(\"Error at iteration:\", i, \"\\n\")\n",
    "        cat(\"cg2[i]:\", cg2[i], \"\\n\")\n",
    "        cat(\"gwas:\\n\")\n",
    "        print(gwas)\n",
    "        cat(\"weight:\\n\")\n",
    "        print(weight)\n",
    "        stop(e)\n",
    "    })\n",
    "}\n",
    "\n",
    "rownames(mwas.all) <- cg2\n",
    "colnames(mwas.all) <- c(\"z\",\"p\")"
   ]
  },
  {
   "cell_type": "code",
   "execution_count": 70,
   "id": "a4314a84-5d2e-4c56-83d4-692912ee5f79",
   "metadata": {},
   "outputs": [
    {
     "data": {
      "text/html": [
       "157"
      ],
      "text/latex": [
       "157"
      ],
      "text/markdown": [
       "157"
      ],
      "text/plain": [
       "[1] 157"
      ]
     },
     "metadata": {},
     "output_type": "display_data"
    }
   ],
   "source": [
    "i"
   ]
  },
  {
   "cell_type": "code",
   "execution_count": 71,
   "id": "170e9bd7-6652-423a-b58b-3dd771d4cc0d",
   "metadata": {},
   "outputs": [
    {
     "data": {
      "text/html": [
       "<style>\n",
       ".list-inline {list-style: none; margin:0; padding: 0}\n",
       ".list-inline>li {display: inline-block}\n",
       ".list-inline>li:not(:last-child)::after {content: \"\\00b7\"; padding: 0 .5ex}\n",
       "</style>\n",
       "<ol class=list-inline><li>'197922955'</li><li>'197923603'</li><li>'197924667'</li><li>'197928018'</li><li>'197929633'</li><li>'197930175'</li><li>'197930817'</li><li>'197930932'</li><li>'197931207'</li><li>'197931436'</li><li>'197931644'</li><li>'197932119'</li><li>'197933497'</li><li>'197934733'</li><li>'197938272'</li></ol>\n"
      ],
      "text/latex": [
       "\\begin{enumerate*}\n",
       "\\item '197922955'\n",
       "\\item '197923603'\n",
       "\\item '197924667'\n",
       "\\item '197928018'\n",
       "\\item '197929633'\n",
       "\\item '197930175'\n",
       "\\item '197930817'\n",
       "\\item '197930932'\n",
       "\\item '197931207'\n",
       "\\item '197931436'\n",
       "\\item '197931644'\n",
       "\\item '197932119'\n",
       "\\item '197933497'\n",
       "\\item '197934733'\n",
       "\\item '197938272'\n",
       "\\end{enumerate*}\n"
      ],
      "text/markdown": [
       "1. '197922955'\n",
       "2. '197923603'\n",
       "3. '197924667'\n",
       "4. '197928018'\n",
       "5. '197929633'\n",
       "6. '197930175'\n",
       "7. '197930817'\n",
       "8. '197930932'\n",
       "9. '197931207'\n",
       "10. '197931436'\n",
       "11. '197931644'\n",
       "12. '197932119'\n",
       "13. '197933497'\n",
       "14. '197934733'\n",
       "15. '197938272'\n",
       "\n",
       "\n"
      ],
      "text/plain": [
       " [1] \"197922955\" \"197923603\" \"197924667\" \"197928018\" \"197929633\" \"197930175\"\n",
       " [7] \"197930817\" \"197930932\" \"197931207\" \"197931436\" \"197931644\" \"197932119\"\n",
       "[13] \"197933497\" \"197934733\" \"197938272\""
      ]
     },
     "metadata": {},
     "output_type": "display_data"
    }
   ],
   "source": [
    "pos"
   ]
  },
  {
   "cell_type": "code",
   "execution_count": 72,
   "id": "b493791d-c9a3-42bb-af38-5fc978f5aa8e",
   "metadata": {},
   "outputs": [
    {
     "data": {
      "text/html": [
       "<style>\n",
       ".list-inline {list-style: none; margin:0; padding: 0}\n",
       ".list-inline>li {display: inline-block}\n",
       ".list-inline>li:not(:last-child)::after {content: \"\\00b7\"; padding: 0 .5ex}\n",
       "</style>\n",
       "<ol class=list-inline><li>0.319006264756968</li><li>0.319006264756968</li><li>0.329662091542726</li><li>1.06540806474749</li><li>0.328484726930073</li><li>0.344219933429917</li><li>0.332023282324806</li><li>0.335561487155792</li><li>0.351319174632984</li><li>0.354868268002238</li><li>0.334367318162355</li><li>0.351319174632984</li><li>0.32494582090212</li><li>0.314326998323882</li><li>0.36067266705052</li></ol>\n"
      ],
      "text/latex": [
       "\\begin{enumerate*}\n",
       "\\item 0.319006264756968\n",
       "\\item 0.319006264756968\n",
       "\\item 0.329662091542726\n",
       "\\item 1.06540806474749\n",
       "\\item 0.328484726930073\n",
       "\\item 0.344219933429917\n",
       "\\item 0.332023282324806\n",
       "\\item 0.335561487155792\n",
       "\\item 0.351319174632984\n",
       "\\item 0.354868268002238\n",
       "\\item 0.334367318162355\n",
       "\\item 0.351319174632984\n",
       "\\item 0.32494582090212\n",
       "\\item 0.314326998323882\n",
       "\\item 0.36067266705052\n",
       "\\end{enumerate*}\n"
      ],
      "text/markdown": [
       "1. 0.319006264756968\n",
       "2. 0.319006264756968\n",
       "3. 0.329662091542726\n",
       "4. 1.06540806474749\n",
       "5. 0.328484726930073\n",
       "6. 0.344219933429917\n",
       "7. 0.332023282324806\n",
       "8. 0.335561487155792\n",
       "9. 0.351319174632984\n",
       "10. 0.354868268002238\n",
       "11. 0.334367318162355\n",
       "12. 0.351319174632984\n",
       "13. 0.32494582090212\n",
       "14. 0.314326998323882\n",
       "15. 0.36067266705052\n",
       "\n",
       "\n"
      ],
      "text/plain": [
       " [1] 0.3190063 0.3190063 0.3296621 1.0654081 0.3284847 0.3442199 0.3320233\n",
       " [8] 0.3355615 0.3513192 0.3548683 0.3343673 0.3513192 0.3249458 0.3143270\n",
       "[15] 0.3606727"
      ]
     },
     "metadata": {},
     "output_type": "display_data"
    }
   ],
   "source": [
    "gwas"
   ]
  },
  {
   "cell_type": "code",
   "execution_count": 73,
   "id": "ede13b23-ec79-4861-a0f4-4f2bd2bb07f0",
   "metadata": {},
   "outputs": [
    {
     "data": {
      "text/html": [
       "15"
      ],
      "text/latex": [
       "15"
      ],
      "text/markdown": [
       "15"
      ],
      "text/plain": [
       "[1] 15"
      ]
     },
     "metadata": {},
     "output_type": "display_data"
    }
   ],
   "source": [
    "length(pos)"
   ]
  },
  {
   "cell_type": "code",
   "execution_count": 74,
   "id": "5cd8089c-2616-4eda-8b67-d102a50cfd79",
   "metadata": {},
   "outputs": [
    {
     "data": {
      "text/html": [
       "15"
      ],
      "text/latex": [
       "15"
      ],
      "text/markdown": [
       "15"
      ],
      "text/plain": [
       "[1] 15"
      ]
     },
     "metadata": {},
     "output_type": "display_data"
    }
   ],
   "source": [
    "length(gwas)"
   ]
  },
  {
   "cell_type": "code",
   "execution_count": 75,
   "id": "8e13c25a-1b93-4186-b614-ea68f07dba7d",
   "metadata": {},
   "outputs": [
    {
     "data": {
      "text/html": [
       "<table class=\"dataframe\">\n",
       "<caption>A data.frame: 15 × 3</caption>\n",
       "<thead>\n",
       "\t<tr><th></th><th scope=col>features</th><th scope=col>coefs</th><th scope=col>cg</th></tr>\n",
       "\t<tr><th></th><th scope=col>&lt;chr&gt;</th><th scope=col>&lt;dbl&gt;</th><th scope=col>&lt;dbl&gt;</th></tr>\n",
       "</thead>\n",
       "<tbody>\n",
       "\t<tr><th scope=row>1181</th><td>197922955</td><td>-0.001769008</td><td>197931436</td></tr>\n",
       "\t<tr><th scope=row>1182</th><td>197923603</td><td>-0.001681727</td><td>197931436</td></tr>\n",
       "\t<tr><th scope=row>1183</th><td>197924667</td><td>-0.002216641</td><td>197931436</td></tr>\n",
       "\t<tr><th scope=row>1184</th><td>197928018</td><td>-0.002330621</td><td>197931436</td></tr>\n",
       "\t<tr><th scope=row>1185</th><td>197929633</td><td>-0.003240399</td><td>197931436</td></tr>\n",
       "\t<tr><th scope=row>1186</th><td>197930175</td><td>-0.002130757</td><td>197931436</td></tr>\n",
       "\t<tr><th scope=row>1187</th><td>197930817</td><td>-0.003138706</td><td>197931436</td></tr>\n",
       "\t<tr><th scope=row>1188</th><td>197930932</td><td>-0.003306130</td><td>197931436</td></tr>\n",
       "\t<tr><th scope=row>1189</th><td>197931207</td><td>-0.002086603</td><td>197931436</td></tr>\n",
       "\t<tr><th scope=row>1190</th><td>197931436</td><td>-0.001918887</td><td>197931436</td></tr>\n",
       "\t<tr><th scope=row>1191</th><td>197931644</td><td>-0.004071983</td><td>197931436</td></tr>\n",
       "\t<tr><th scope=row>1192</th><td>197932119</td><td>-0.001997126</td><td>197931436</td></tr>\n",
       "\t<tr><th scope=row>1193</th><td>197933497</td><td>-0.002347941</td><td>197931436</td></tr>\n",
       "\t<tr><th scope=row>1194</th><td>197934733</td><td>-0.003210465</td><td>197931436</td></tr>\n",
       "\t<tr><th scope=row>1195</th><td>197938272</td><td>-0.001934600</td><td>197931436</td></tr>\n",
       "</tbody>\n",
       "</table>\n"
      ],
      "text/latex": [
       "A data.frame: 15 × 3\n",
       "\\begin{tabular}{r|lll}\n",
       "  & features & coefs & cg\\\\\n",
       "  & <chr> & <dbl> & <dbl>\\\\\n",
       "\\hline\n",
       "\t1181 & 197922955 & -0.001769008 & 197931436\\\\\n",
       "\t1182 & 197923603 & -0.001681727 & 197931436\\\\\n",
       "\t1183 & 197924667 & -0.002216641 & 197931436\\\\\n",
       "\t1184 & 197928018 & -0.002330621 & 197931436\\\\\n",
       "\t1185 & 197929633 & -0.003240399 & 197931436\\\\\n",
       "\t1186 & 197930175 & -0.002130757 & 197931436\\\\\n",
       "\t1187 & 197930817 & -0.003138706 & 197931436\\\\\n",
       "\t1188 & 197930932 & -0.003306130 & 197931436\\\\\n",
       "\t1189 & 197931207 & -0.002086603 & 197931436\\\\\n",
       "\t1190 & 197931436 & -0.001918887 & 197931436\\\\\n",
       "\t1191 & 197931644 & -0.004071983 & 197931436\\\\\n",
       "\t1192 & 197932119 & -0.001997126 & 197931436\\\\\n",
       "\t1193 & 197933497 & -0.002347941 & 197931436\\\\\n",
       "\t1194 & 197934733 & -0.003210465 & 197931436\\\\\n",
       "\t1195 & 197938272 & -0.001934600 & 197931436\\\\\n",
       "\\end{tabular}\n"
      ],
      "text/markdown": [
       "\n",
       "A data.frame: 15 × 3\n",
       "\n",
       "| <!--/--> | features &lt;chr&gt; | coefs &lt;dbl&gt; | cg &lt;dbl&gt; |\n",
       "|---|---|---|---|\n",
       "| 1181 | 197922955 | -0.001769008 | 197931436 |\n",
       "| 1182 | 197923603 | -0.001681727 | 197931436 |\n",
       "| 1183 | 197924667 | -0.002216641 | 197931436 |\n",
       "| 1184 | 197928018 | -0.002330621 | 197931436 |\n",
       "| 1185 | 197929633 | -0.003240399 | 197931436 |\n",
       "| 1186 | 197930175 | -0.002130757 | 197931436 |\n",
       "| 1187 | 197930817 | -0.003138706 | 197931436 |\n",
       "| 1188 | 197930932 | -0.003306130 | 197931436 |\n",
       "| 1189 | 197931207 | -0.002086603 | 197931436 |\n",
       "| 1190 | 197931436 | -0.001918887 | 197931436 |\n",
       "| 1191 | 197931644 | -0.004071983 | 197931436 |\n",
       "| 1192 | 197932119 | -0.001997126 | 197931436 |\n",
       "| 1193 | 197933497 | -0.002347941 | 197931436 |\n",
       "| 1194 | 197934733 | -0.003210465 | 197931436 |\n",
       "| 1195 | 197938272 | -0.001934600 | 197931436 |\n",
       "\n"
      ],
      "text/plain": [
       "     features  coefs        cg       \n",
       "1181 197922955 -0.001769008 197931436\n",
       "1182 197923603 -0.001681727 197931436\n",
       "1183 197924667 -0.002216641 197931436\n",
       "1184 197928018 -0.002330621 197931436\n",
       "1185 197929633 -0.003240399 197931436\n",
       "1186 197930175 -0.002130757 197931436\n",
       "1187 197930817 -0.003138706 197931436\n",
       "1188 197930932 -0.003306130 197931436\n",
       "1189 197931207 -0.002086603 197931436\n",
       "1190 197931436 -0.001918887 197931436\n",
       "1191 197931644 -0.004071983 197931436\n",
       "1192 197932119 -0.001997126 197931436\n",
       "1193 197933497 -0.002347941 197931436\n",
       "1194 197934733 -0.003210465 197931436\n",
       "1195 197938272 -0.001934600 197931436"
      ]
     },
     "metadata": {},
     "output_type": "display_data"
    }
   ],
   "source": [
    "models.all[models.all$cg == cg2[i], ]"
   ]
  },
  {
   "cell_type": "code",
   "execution_count": 76,
   "id": "0f3ea4dd-de72-40df-91d6-4deee103e85c",
   "metadata": {},
   "outputs": [
    {
     "data": {
      "text/html": [
       "<table class=\"dataframe\">\n",
       "<caption>A data.table: 15 × 9</caption>\n",
       "<thead>\n",
       "\t<tr><th scope=col>snp</th><th scope=col>chr</th><th scope=col>pos_hg38</th><th scope=col>pos_hg38</th><th scope=col>info</th><th scope=col>A1</th><th scope=col>A2</th><th scope=col>z</th><th scope=col>P</th></tr>\n",
       "\t<tr><th scope=col>&lt;chr&gt;</th><th scope=col>&lt;int&gt;</th><th scope=col>&lt;int&gt;</th><th scope=col>&lt;int&gt;</th><th scope=col>&lt;dbl&gt;</th><th scope=col>&lt;chr&gt;</th><th scope=col>&lt;chr&gt;</th><th scope=col>&lt;dbl&gt;</th><th scope=col>&lt;dbl&gt;</th></tr>\n",
       "</thead>\n",
       "<tbody>\n",
       "\t<tr><td>rs80291915 </td><td>3</td><td>197922955</td><td>197922955</td><td>0.986</td><td>A</td><td>G</td><td>0.3190063</td><td>0.7498</td></tr>\n",
       "\t<tr><td>rs115368921</td><td>3</td><td>197923603</td><td>197923603</td><td>0.985</td><td>T</td><td>C</td><td>0.3190063</td><td>0.7492</td></tr>\n",
       "\t<tr><td>rs144392667</td><td>3</td><td>197924667</td><td>197924667</td><td>0.985</td><td>G</td><td>A</td><td>0.3296621</td><td>0.7425</td></tr>\n",
       "\t<tr><td>rs112460661</td><td>3</td><td>197928018</td><td>197928018</td><td>0.982</td><td>G</td><td>C</td><td>1.0654081</td><td>0.2865</td></tr>\n",
       "\t<tr><td>rs9682670  </td><td>3</td><td>197929633</td><td>197929633</td><td>0.984</td><td>G</td><td>A</td><td>0.3284847</td><td>0.7412</td></tr>\n",
       "\t<tr><td>rs142343359</td><td>3</td><td>197930175</td><td>197930175</td><td>0.984</td><td>C</td><td>A</td><td>0.3442199</td><td>0.7318</td></tr>\n",
       "\t<tr><td>rs147001314</td><td>3</td><td>197930817</td><td>197930817</td><td>0.984</td><td>C</td><td>T</td><td>0.3320233</td><td>0.7382</td></tr>\n",
       "\t<tr><td>rs111473297</td><td>3</td><td>197930932</td><td>197930932</td><td>0.984</td><td>G</td><td>T</td><td>0.3355615</td><td>0.7378</td></tr>\n",
       "\t<tr><td>rs116787607</td><td>3</td><td>197931207</td><td>197931207</td><td>0.984</td><td>C</td><td>T</td><td>0.3513192</td><td>0.7260</td></tr>\n",
       "\t<tr><td>rs116643341</td><td>3</td><td>197931436</td><td>197931436</td><td>0.984</td><td>C</td><td>G</td><td>0.3548683</td><td>0.7243</td></tr>\n",
       "\t<tr><td>rs137867268</td><td>3</td><td>197931644</td><td>197931644</td><td>0.981</td><td>G</td><td>A</td><td>0.3343673</td><td>0.7371</td></tr>\n",
       "\t<tr><td>rs77745626 </td><td>3</td><td>197932119</td><td>197932119</td><td>0.983</td><td>A</td><td>G</td><td>0.3513192</td><td>0.7267</td></tr>\n",
       "\t<tr><td>rs79191827 </td><td>3</td><td>197933497</td><td>197933497</td><td>0.982</td><td>T</td><td>A</td><td>0.3249458</td><td>0.7457</td></tr>\n",
       "\t<tr><td>rs116152200</td><td>3</td><td>197934733</td><td>197934733</td><td>0.981</td><td>C</td><td>T</td><td>0.3143270</td><td>0.7536</td></tr>\n",
       "\t<tr><td>rs111929118</td><td>3</td><td>197938272</td><td>197938272</td><td>0.982</td><td>A</td><td>G</td><td>0.3606727</td><td>0.7169</td></tr>\n",
       "</tbody>\n",
       "</table>\n"
      ],
      "text/latex": [
       "A data.table: 15 × 9\n",
       "\\begin{tabular}{lllllllll}\n",
       " snp & chr & pos\\_hg38 & pos\\_hg38 & info & A1 & A2 & z & P\\\\\n",
       " <chr> & <int> & <int> & <int> & <dbl> & <chr> & <chr> & <dbl> & <dbl>\\\\\n",
       "\\hline\n",
       "\t rs80291915  & 3 & 197922955 & 197922955 & 0.986 & A & G & 0.3190063 & 0.7498\\\\\n",
       "\t rs115368921 & 3 & 197923603 & 197923603 & 0.985 & T & C & 0.3190063 & 0.7492\\\\\n",
       "\t rs144392667 & 3 & 197924667 & 197924667 & 0.985 & G & A & 0.3296621 & 0.7425\\\\\n",
       "\t rs112460661 & 3 & 197928018 & 197928018 & 0.982 & G & C & 1.0654081 & 0.2865\\\\\n",
       "\t rs9682670   & 3 & 197929633 & 197929633 & 0.984 & G & A & 0.3284847 & 0.7412\\\\\n",
       "\t rs142343359 & 3 & 197930175 & 197930175 & 0.984 & C & A & 0.3442199 & 0.7318\\\\\n",
       "\t rs147001314 & 3 & 197930817 & 197930817 & 0.984 & C & T & 0.3320233 & 0.7382\\\\\n",
       "\t rs111473297 & 3 & 197930932 & 197930932 & 0.984 & G & T & 0.3355615 & 0.7378\\\\\n",
       "\t rs116787607 & 3 & 197931207 & 197931207 & 0.984 & C & T & 0.3513192 & 0.7260\\\\\n",
       "\t rs116643341 & 3 & 197931436 & 197931436 & 0.984 & C & G & 0.3548683 & 0.7243\\\\\n",
       "\t rs137867268 & 3 & 197931644 & 197931644 & 0.981 & G & A & 0.3343673 & 0.7371\\\\\n",
       "\t rs77745626  & 3 & 197932119 & 197932119 & 0.983 & A & G & 0.3513192 & 0.7267\\\\\n",
       "\t rs79191827  & 3 & 197933497 & 197933497 & 0.982 & T & A & 0.3249458 & 0.7457\\\\\n",
       "\t rs116152200 & 3 & 197934733 & 197934733 & 0.981 & C & T & 0.3143270 & 0.7536\\\\\n",
       "\t rs111929118 & 3 & 197938272 & 197938272 & 0.982 & A & G & 0.3606727 & 0.7169\\\\\n",
       "\\end{tabular}\n"
      ],
      "text/markdown": [
       "\n",
       "A data.table: 15 × 9\n",
       "\n",
       "| snp &lt;chr&gt; | chr &lt;int&gt; | pos_hg38 &lt;int&gt; | pos_hg38 &lt;int&gt; | info &lt;dbl&gt; | A1 &lt;chr&gt; | A2 &lt;chr&gt; | z &lt;dbl&gt; | P &lt;dbl&gt; |\n",
       "|---|---|---|---|---|---|---|---|---|\n",
       "| rs80291915  | 3 | 197922955 | 197922955 | 0.986 | A | G | 0.3190063 | 0.7498 |\n",
       "| rs115368921 | 3 | 197923603 | 197923603 | 0.985 | T | C | 0.3190063 | 0.7492 |\n",
       "| rs144392667 | 3 | 197924667 | 197924667 | 0.985 | G | A | 0.3296621 | 0.7425 |\n",
       "| rs112460661 | 3 | 197928018 | 197928018 | 0.982 | G | C | 1.0654081 | 0.2865 |\n",
       "| rs9682670   | 3 | 197929633 | 197929633 | 0.984 | G | A | 0.3284847 | 0.7412 |\n",
       "| rs142343359 | 3 | 197930175 | 197930175 | 0.984 | C | A | 0.3442199 | 0.7318 |\n",
       "| rs147001314 | 3 | 197930817 | 197930817 | 0.984 | C | T | 0.3320233 | 0.7382 |\n",
       "| rs111473297 | 3 | 197930932 | 197930932 | 0.984 | G | T | 0.3355615 | 0.7378 |\n",
       "| rs116787607 | 3 | 197931207 | 197931207 | 0.984 | C | T | 0.3513192 | 0.7260 |\n",
       "| rs116643341 | 3 | 197931436 | 197931436 | 0.984 | C | G | 0.3548683 | 0.7243 |\n",
       "| rs137867268 | 3 | 197931644 | 197931644 | 0.981 | G | A | 0.3343673 | 0.7371 |\n",
       "| rs77745626  | 3 | 197932119 | 197932119 | 0.983 | A | G | 0.3513192 | 0.7267 |\n",
       "| rs79191827  | 3 | 197933497 | 197933497 | 0.982 | T | A | 0.3249458 | 0.7457 |\n",
       "| rs116152200 | 3 | 197934733 | 197934733 | 0.981 | C | T | 0.3143270 | 0.7536 |\n",
       "| rs111929118 | 3 | 197938272 | 197938272 | 0.982 | A | G | 0.3606727 | 0.7169 |\n",
       "\n"
      ],
      "text/plain": [
       "   snp         chr pos_hg38  pos_hg38  info  A1 A2 z         P     \n",
       "1  rs80291915  3   197922955 197922955 0.986 A  G  0.3190063 0.7498\n",
       "2  rs115368921 3   197923603 197923603 0.985 T  C  0.3190063 0.7492\n",
       "3  rs144392667 3   197924667 197924667 0.985 G  A  0.3296621 0.7425\n",
       "4  rs112460661 3   197928018 197928018 0.982 G  C  1.0654081 0.2865\n",
       "5  rs9682670   3   197929633 197929633 0.984 G  A  0.3284847 0.7412\n",
       "6  rs142343359 3   197930175 197930175 0.984 C  A  0.3442199 0.7318\n",
       "7  rs147001314 3   197930817 197930817 0.984 C  T  0.3320233 0.7382\n",
       "8  rs111473297 3   197930932 197930932 0.984 G  T  0.3355615 0.7378\n",
       "9  rs116787607 3   197931207 197931207 0.984 C  T  0.3513192 0.7260\n",
       "10 rs116643341 3   197931436 197931436 0.984 C  G  0.3548683 0.7243\n",
       "11 rs137867268 3   197931644 197931644 0.981 G  A  0.3343673 0.7371\n",
       "12 rs77745626  3   197932119 197932119 0.983 A  G  0.3513192 0.7267\n",
       "13 rs79191827  3   197933497 197933497 0.982 T  A  0.3249458 0.7457\n",
       "14 rs116152200 3   197934733 197934733 0.981 C  T  0.3143270 0.7536\n",
       "15 rs111929118 3   197938272 197938272 0.982 A  G  0.3606727 0.7169"
      ]
     },
     "metadata": {},
     "output_type": "display_data"
    }
   ],
   "source": [
    "snp.gwas2[is.element(snp.gwas2$pos_hg38, pos), ]"
   ]
  },
  {
   "cell_type": "code",
   "execution_count": null,
   "id": "6c26320f-8327-4798-a4a8-688da8a232cd",
   "metadata": {},
   "outputs": [],
   "source": []
  },
  {
   "cell_type": "code",
   "execution_count": null,
   "id": "a3409bbc-aad9-4e4e-a96e-8a2708013cea",
   "metadata": {},
   "outputs": [],
   "source": []
  },
  {
   "cell_type": "code",
   "execution_count": 77,
   "id": "0c31ad3e-4c74-4b93-bed1-c628df41a756",
   "metadata": {},
   "outputs": [],
   "source": [
    "# Why do we get non-conformable arguments for iteration 57?"
   ]
  },
  {
   "cell_type": "code",
   "execution_count": null,
   "id": "af58f5cb-4dac-40e0-976c-8fef56a53ad9",
   "metadata": {},
   "outputs": [],
   "source": []
  },
  {
   "cell_type": "code",
   "execution_count": null,
   "id": "c4a157bc-a24d-4bf8-bb5c-e5359747c5df",
   "metadata": {},
   "outputs": [],
   "source": []
  },
  {
   "cell_type": "code",
   "execution_count": null,
   "id": "900dd643-8906-41aa-9658-7fbfd394ee3d",
   "metadata": {},
   "outputs": [],
   "source": []
  },
  {
   "cell_type": "code",
   "execution_count": 78,
   "id": "dccc0ad7-c8ec-47b9-8fd1-204576e6482e",
   "metadata": {},
   "outputs": [
    {
     "data": {
      "text/html": [
       "<style>\n",
       ".list-inline {list-style: none; margin:0; padding: 0}\n",
       ".list-inline>li {display: inline-block}\n",
       ".list-inline>li:not(:last-child)::after {content: \"\\00b7\"; padding: 0 .5ex}\n",
       "</style>\n",
       "<ol class=list-inline><li>-0.00176900827060467</li><li>-0.00168172665786218</li><li>-0.00221664123659821</li><li>-0.00233062051296046</li><li>-0.00324039853323045</li><li>-0.00213075662726835</li><li>-0.00313870558731399</li><li>-0.00330613042335924</li><li>-0.00208660335911903</li><li>-0.00191888697569363</li><li>-0.00407198288011611</li><li>-0.00199712606099277</li><li>-0.00234794074712573</li><li>-0.00321046477731162</li><li>-0.00193460004291421</li></ol>\n"
      ],
      "text/latex": [
       "\\begin{enumerate*}\n",
       "\\item -0.00176900827060467\n",
       "\\item -0.00168172665786218\n",
       "\\item -0.00221664123659821\n",
       "\\item -0.00233062051296046\n",
       "\\item -0.00324039853323045\n",
       "\\item -0.00213075662726835\n",
       "\\item -0.00313870558731399\n",
       "\\item -0.00330613042335924\n",
       "\\item -0.00208660335911903\n",
       "\\item -0.00191888697569363\n",
       "\\item -0.00407198288011611\n",
       "\\item -0.00199712606099277\n",
       "\\item -0.00234794074712573\n",
       "\\item -0.00321046477731162\n",
       "\\item -0.00193460004291421\n",
       "\\end{enumerate*}\n"
      ],
      "text/markdown": [
       "1. -0.00176900827060467\n",
       "2. -0.00168172665786218\n",
       "3. -0.00221664123659821\n",
       "4. -0.00233062051296046\n",
       "5. -0.00324039853323045\n",
       "6. -0.00213075662726835\n",
       "7. -0.00313870558731399\n",
       "8. -0.00330613042335924\n",
       "9. -0.00208660335911903\n",
       "10. -0.00191888697569363\n",
       "11. -0.00407198288011611\n",
       "12. -0.00199712606099277\n",
       "13. -0.00234794074712573\n",
       "14. -0.00321046477731162\n",
       "15. -0.00193460004291421\n",
       "\n",
       "\n"
      ],
      "text/plain": [
       " [1] -0.001769008 -0.001681727 -0.002216641 -0.002330621 -0.003240399\n",
       " [6] -0.002130757 -0.003138706 -0.003306130 -0.002086603 -0.001918887\n",
       "[11] -0.004071983 -0.001997126 -0.002347941 -0.003210465 -0.001934600"
      ]
     },
     "metadata": {},
     "output_type": "display_data"
    }
   ],
   "source": [
    "weight"
   ]
  },
  {
   "cell_type": "code",
   "execution_count": 79,
   "id": "55bb7b60-c52c-4462-9a53-8d103db474a7",
   "metadata": {},
   "outputs": [
    {
     "data": {
      "text/html": [
       "15"
      ],
      "text/latex": [
       "15"
      ],
      "text/markdown": [
       "15"
      ],
      "text/plain": [
       "[1] 15"
      ]
     },
     "metadata": {},
     "output_type": "display_data"
    }
   ],
   "source": [
    "length(weight)"
   ]
  },
  {
   "cell_type": "code",
   "execution_count": 80,
   "id": "6804d2d5-c798-48ba-bdef-e073d0e61788",
   "metadata": {},
   "outputs": [
    {
     "data": {
      "text/html": [
       "<style>\n",
       ".list-inline {list-style: none; margin:0; padding: 0}\n",
       ".list-inline>li {display: inline-block}\n",
       ".list-inline>li:not(:last-child)::after {content: \"\\00b7\"; padding: 0 .5ex}\n",
       "</style>\n",
       "<ol class=list-inline><li>0.319006264756968</li><li>0.319006264756968</li><li>0.329662091542726</li><li>1.06540806474749</li><li>0.328484726930073</li><li>0.344219933429917</li><li>0.332023282324806</li><li>0.335561487155792</li><li>0.351319174632984</li><li>0.354868268002238</li><li>0.334367318162355</li><li>0.351319174632984</li><li>0.32494582090212</li><li>0.314326998323882</li><li>0.36067266705052</li></ol>\n"
      ],
      "text/latex": [
       "\\begin{enumerate*}\n",
       "\\item 0.319006264756968\n",
       "\\item 0.319006264756968\n",
       "\\item 0.329662091542726\n",
       "\\item 1.06540806474749\n",
       "\\item 0.328484726930073\n",
       "\\item 0.344219933429917\n",
       "\\item 0.332023282324806\n",
       "\\item 0.335561487155792\n",
       "\\item 0.351319174632984\n",
       "\\item 0.354868268002238\n",
       "\\item 0.334367318162355\n",
       "\\item 0.351319174632984\n",
       "\\item 0.32494582090212\n",
       "\\item 0.314326998323882\n",
       "\\item 0.36067266705052\n",
       "\\end{enumerate*}\n"
      ],
      "text/markdown": [
       "1. 0.319006264756968\n",
       "2. 0.319006264756968\n",
       "3. 0.329662091542726\n",
       "4. 1.06540806474749\n",
       "5. 0.328484726930073\n",
       "6. 0.344219933429917\n",
       "7. 0.332023282324806\n",
       "8. 0.335561487155792\n",
       "9. 0.351319174632984\n",
       "10. 0.354868268002238\n",
       "11. 0.334367318162355\n",
       "12. 0.351319174632984\n",
       "13. 0.32494582090212\n",
       "14. 0.314326998323882\n",
       "15. 0.36067266705052\n",
       "\n",
       "\n"
      ],
      "text/plain": [
       " [1] 0.3190063 0.3190063 0.3296621 1.0654081 0.3284847 0.3442199 0.3320233\n",
       " [8] 0.3355615 0.3513192 0.3548683 0.3343673 0.3513192 0.3249458 0.3143270\n",
       "[15] 0.3606727"
      ]
     },
     "metadata": {},
     "output_type": "display_data"
    }
   ],
   "source": [
    "gwas"
   ]
  },
  {
   "cell_type": "code",
   "execution_count": 81,
   "id": "f1f81f5a-dd46-4180-86fc-2dcd9ae390c5",
   "metadata": {},
   "outputs": [
    {
     "data": {
      "text/html": [
       "15"
      ],
      "text/latex": [
       "15"
      ],
      "text/markdown": [
       "15"
      ],
      "text/plain": [
       "[1] 15"
      ]
     },
     "metadata": {},
     "output_type": "display_data"
    }
   ],
   "source": [
    "length(gwas)"
   ]
  },
  {
   "cell_type": "code",
   "execution_count": 82,
   "id": "b78985e2-cb5d-4c1d-adf4-d22a1f5dae0b",
   "metadata": {},
   "outputs": [
    {
     "data": {
      "text/html": [
       "<style>\n",
       ".list-inline {list-style: none; margin:0; padding: 0}\n",
       ".list-inline>li {display: inline-block}\n",
       ".list-inline>li:not(:last-child)::after {content: \"\\00b7\"; padding: 0 .5ex}\n",
       "</style>\n",
       "<ol class=list-inline><li>0.319006264756968</li><li>0.319006264756968</li><li>0.329662091542726</li><li>1.06540806474749</li><li>0.328484726930073</li><li>0.344219933429917</li></ol>\n"
      ],
      "text/latex": [
       "\\begin{enumerate*}\n",
       "\\item 0.319006264756968\n",
       "\\item 0.319006264756968\n",
       "\\item 0.329662091542726\n",
       "\\item 1.06540806474749\n",
       "\\item 0.328484726930073\n",
       "\\item 0.344219933429917\n",
       "\\end{enumerate*}\n"
      ],
      "text/markdown": [
       "1. 0.319006264756968\n",
       "2. 0.319006264756968\n",
       "3. 0.329662091542726\n",
       "4. 1.06540806474749\n",
       "5. 0.328484726930073\n",
       "6. 0.344219933429917\n",
       "\n",
       "\n"
      ],
      "text/plain": [
       "[1] 0.3190063 0.3190063 0.3296621 1.0654081 0.3284847 0.3442199"
      ]
     },
     "metadata": {},
     "output_type": "display_data"
    }
   ],
   "source": [
    "head(gwas)"
   ]
  },
  {
   "cell_type": "code",
   "execution_count": 83,
   "id": "a7639e85-621f-44e4-bae1-93f2f9e800f2",
   "metadata": {},
   "outputs": [
    {
     "data": {
      "text/html": [
       "<table class=\"dataframe\">\n",
       "<caption>A data.frame: 6 × 1</caption>\n",
       "<thead>\n",
       "\t<tr><th></th><th scope=col>POS</th></tr>\n",
       "\t<tr><th></th><th scope=col>&lt;chr&gt;</th></tr>\n",
       "</thead>\n",
       "<tbody>\n",
       "\t<tr><th scope=row>1</th><td>623601</td></tr>\n",
       "\t<tr><th scope=row>2</th><td>623686</td></tr>\n",
       "\t<tr><th scope=row>3</th><td>623884</td></tr>\n",
       "\t<tr><th scope=row>4</th><td>624899</td></tr>\n",
       "\t<tr><th scope=row>5</th><td>624928</td></tr>\n",
       "\t<tr><th scope=row>6</th><td>625089</td></tr>\n",
       "</tbody>\n",
       "</table>\n"
      ],
      "text/latex": [
       "A data.frame: 6 × 1\n",
       "\\begin{tabular}{r|l}\n",
       "  & POS\\\\\n",
       "  & <chr>\\\\\n",
       "\\hline\n",
       "\t1 & 623601\\\\\n",
       "\t2 & 623686\\\\\n",
       "\t3 & 623884\\\\\n",
       "\t4 & 624899\\\\\n",
       "\t5 & 624928\\\\\n",
       "\t6 & 625089\\\\\n",
       "\\end{tabular}\n"
      ],
      "text/markdown": [
       "\n",
       "A data.frame: 6 × 1\n",
       "\n",
       "| <!--/--> | POS &lt;chr&gt; |\n",
       "|---|---|\n",
       "| 1 | 623601 |\n",
       "| 2 | 623686 |\n",
       "| 3 | 623884 |\n",
       "| 4 | 624899 |\n",
       "| 5 | 624928 |\n",
       "| 6 | 625089 |\n",
       "\n"
      ],
      "text/plain": [
       "  POS   \n",
       "1 623601\n",
       "2 623686\n",
       "3 623884\n",
       "4 624899\n",
       "5 624928\n",
       "6 625089"
      ]
     },
     "metadata": {},
     "output_type": "display_data"
    }
   ],
   "source": [
    "head(map3)"
   ]
  },
  {
   "cell_type": "code",
   "execution_count": 84,
   "id": "387129e1-c89e-40b2-9f02-0ee18c3272fd",
   "metadata": {},
   "outputs": [
    {
     "data": {
      "text/html": [
       "<table class=\"dataframe\">\n",
       "<caption>A matrix: 6 × 489 of type dbl</caption>\n",
       "<thead>\n",
       "\t<tr><th></th><th scope=col>HG00096</th><th scope=col>HG00097</th><th scope=col>HG00099</th><th scope=col>HG00101</th><th scope=col>HG00102</th><th scope=col>HG00103</th><th scope=col>HG00105</th><th scope=col>HG00107</th><th scope=col>HG00108</th><th scope=col>HG00109</th><th scope=col>⋯</th><th scope=col>NA20814</th><th scope=col>NA20815</th><th scope=col>NA20818</th><th scope=col>NA20819</th><th scope=col>NA20821</th><th scope=col>NA20822</th><th scope=col>NA20826</th><th scope=col>NA20827</th><th scope=col>NA20828</th><th scope=col>NA20832</th></tr>\n",
       "</thead>\n",
       "<tbody>\n",
       "\t<tr><th scope=row>rs80291915</th><td>0</td><td>0</td><td>0</td><td>0</td><td>0</td><td>0</td><td>0</td><td>0</td><td>0</td><td>0</td><td>⋯</td><td>0</td><td>0</td><td>0</td><td>0</td><td>0</td><td>0</td><td>0</td><td>0</td><td>0</td><td>0</td></tr>\n",
       "\t<tr><th scope=row>rs115368921</th><td>0</td><td>0</td><td>0</td><td>0</td><td>0</td><td>0</td><td>0</td><td>0</td><td>0</td><td>0</td><td>⋯</td><td>0</td><td>0</td><td>0</td><td>0</td><td>0</td><td>0</td><td>0</td><td>0</td><td>0</td><td>0</td></tr>\n",
       "\t<tr><th scope=row>rs144392667</th><td>0</td><td>0</td><td>0</td><td>0</td><td>0</td><td>0</td><td>0</td><td>0</td><td>0</td><td>0</td><td>⋯</td><td>0</td><td>0</td><td>0</td><td>0</td><td>0</td><td>0</td><td>0</td><td>0</td><td>0</td><td>0</td></tr>\n",
       "\t<tr><th scope=row>rs112460661</th><td>0</td><td>0</td><td>0</td><td>0</td><td>0</td><td>0</td><td>0</td><td>0</td><td>0</td><td>0</td><td>⋯</td><td>0</td><td>0</td><td>1</td><td>0</td><td>0</td><td>1</td><td>0</td><td>0</td><td>0</td><td>0</td></tr>\n",
       "\t<tr><th scope=row>rs9682670</th><td>0</td><td>0</td><td>0</td><td>0</td><td>0</td><td>0</td><td>0</td><td>0</td><td>0</td><td>0</td><td>⋯</td><td>0</td><td>0</td><td>0</td><td>0</td><td>0</td><td>0</td><td>0</td><td>0</td><td>0</td><td>0</td></tr>\n",
       "\t<tr><th scope=row>rs142343359</th><td>0</td><td>0</td><td>0</td><td>0</td><td>0</td><td>0</td><td>0</td><td>0</td><td>0</td><td>0</td><td>⋯</td><td>0</td><td>0</td><td>0</td><td>0</td><td>0</td><td>0</td><td>0</td><td>0</td><td>0</td><td>0</td></tr>\n",
       "</tbody>\n",
       "</table>\n"
      ],
      "text/latex": [
       "A matrix: 6 × 489 of type dbl\n",
       "\\begin{tabular}{r|lllllllllllllllllllll}\n",
       "  & HG00096 & HG00097 & HG00099 & HG00101 & HG00102 & HG00103 & HG00105 & HG00107 & HG00108 & HG00109 & ⋯ & NA20814 & NA20815 & NA20818 & NA20819 & NA20821 & NA20822 & NA20826 & NA20827 & NA20828 & NA20832\\\\\n",
       "\\hline\n",
       "\trs80291915 & 0 & 0 & 0 & 0 & 0 & 0 & 0 & 0 & 0 & 0 & ⋯ & 0 & 0 & 0 & 0 & 0 & 0 & 0 & 0 & 0 & 0\\\\\n",
       "\trs115368921 & 0 & 0 & 0 & 0 & 0 & 0 & 0 & 0 & 0 & 0 & ⋯ & 0 & 0 & 0 & 0 & 0 & 0 & 0 & 0 & 0 & 0\\\\\n",
       "\trs144392667 & 0 & 0 & 0 & 0 & 0 & 0 & 0 & 0 & 0 & 0 & ⋯ & 0 & 0 & 0 & 0 & 0 & 0 & 0 & 0 & 0 & 0\\\\\n",
       "\trs112460661 & 0 & 0 & 0 & 0 & 0 & 0 & 0 & 0 & 0 & 0 & ⋯ & 0 & 0 & 1 & 0 & 0 & 1 & 0 & 0 & 0 & 0\\\\\n",
       "\trs9682670 & 0 & 0 & 0 & 0 & 0 & 0 & 0 & 0 & 0 & 0 & ⋯ & 0 & 0 & 0 & 0 & 0 & 0 & 0 & 0 & 0 & 0\\\\\n",
       "\trs142343359 & 0 & 0 & 0 & 0 & 0 & 0 & 0 & 0 & 0 & 0 & ⋯ & 0 & 0 & 0 & 0 & 0 & 0 & 0 & 0 & 0 & 0\\\\\n",
       "\\end{tabular}\n"
      ],
      "text/markdown": [
       "\n",
       "A matrix: 6 × 489 of type dbl\n",
       "\n",
       "| <!--/--> | HG00096 | HG00097 | HG00099 | HG00101 | HG00102 | HG00103 | HG00105 | HG00107 | HG00108 | HG00109 | ⋯ | NA20814 | NA20815 | NA20818 | NA20819 | NA20821 | NA20822 | NA20826 | NA20827 | NA20828 | NA20832 |\n",
       "|---|---|---|---|---|---|---|---|---|---|---|---|---|---|---|---|---|---|---|---|---|---|\n",
       "| rs80291915 | 0 | 0 | 0 | 0 | 0 | 0 | 0 | 0 | 0 | 0 | ⋯ | 0 | 0 | 0 | 0 | 0 | 0 | 0 | 0 | 0 | 0 |\n",
       "| rs115368921 | 0 | 0 | 0 | 0 | 0 | 0 | 0 | 0 | 0 | 0 | ⋯ | 0 | 0 | 0 | 0 | 0 | 0 | 0 | 0 | 0 | 0 |\n",
       "| rs144392667 | 0 | 0 | 0 | 0 | 0 | 0 | 0 | 0 | 0 | 0 | ⋯ | 0 | 0 | 0 | 0 | 0 | 0 | 0 | 0 | 0 | 0 |\n",
       "| rs112460661 | 0 | 0 | 0 | 0 | 0 | 0 | 0 | 0 | 0 | 0 | ⋯ | 0 | 0 | 1 | 0 | 0 | 1 | 0 | 0 | 0 | 0 |\n",
       "| rs9682670 | 0 | 0 | 0 | 0 | 0 | 0 | 0 | 0 | 0 | 0 | ⋯ | 0 | 0 | 0 | 0 | 0 | 0 | 0 | 0 | 0 | 0 |\n",
       "| rs142343359 | 0 | 0 | 0 | 0 | 0 | 0 | 0 | 0 | 0 | 0 | ⋯ | 0 | 0 | 0 | 0 | 0 | 0 | 0 | 0 | 0 | 0 |\n",
       "\n"
      ],
      "text/plain": [
       "            HG00096 HG00097 HG00099 HG00101 HG00102 HG00103 HG00105 HG00107\n",
       "rs80291915  0       0       0       0       0       0       0       0      \n",
       "rs115368921 0       0       0       0       0       0       0       0      \n",
       "rs144392667 0       0       0       0       0       0       0       0      \n",
       "rs112460661 0       0       0       0       0       0       0       0      \n",
       "rs9682670   0       0       0       0       0       0       0       0      \n",
       "rs142343359 0       0       0       0       0       0       0       0      \n",
       "            HG00108 HG00109 ⋯ NA20814 NA20815 NA20818 NA20819 NA20821 NA20822\n",
       "rs80291915  0       0       ⋯ 0       0       0       0       0       0      \n",
       "rs115368921 0       0       ⋯ 0       0       0       0       0       0      \n",
       "rs144392667 0       0       ⋯ 0       0       0       0       0       0      \n",
       "rs112460661 0       0       ⋯ 0       0       1       0       0       1      \n",
       "rs9682670   0       0       ⋯ 0       0       0       0       0       0      \n",
       "rs142343359 0       0       ⋯ 0       0       0       0       0       0      \n",
       "            NA20826 NA20827 NA20828 NA20832\n",
       "rs80291915  0       0       0       0      \n",
       "rs115368921 0       0       0       0      \n",
       "rs144392667 0       0       0       0      \n",
       "rs112460661 0       0       0       0      \n",
       "rs9682670   0       0       0       0      \n",
       "rs142343359 0       0       0       0      "
      ]
     },
     "metadata": {},
     "output_type": "display_data"
    }
   ],
   "source": [
    "head(geno)"
   ]
  },
  {
   "cell_type": "code",
   "execution_count": 85,
   "id": "c5fbba20-e398-4e3d-8c18-c99857820da5",
   "metadata": {},
   "outputs": [],
   "source": [
    "# mwas by models of EA samples\n",
    "cg2 <- unique(models.ea$cg)\n",
    "mwas.ea <- matrix(0,nrow=length(cg2),ncol=2)\n",
    "for(i in 1:length(cg2)){\n",
    "        pos <- models.ea[models.ea$cg == cg2[i],1]\n",
    "        gwas <- snp.gwas2$z[is.element(snp.gwas2$pos_hg38, pos)]\n",
    "        weight <- models.ea[models.ea$cg == cg2[i],2]\n",
    "        #geno <- snp.1kg.eur2[match(pos,map.1kg.eur2$POS),]\n",
    "\n",
    "        match_indices <- match(pos, map.1kg.eur2$POS)\n",
    "\n",
    "        tryCatch({\n",
    "            geno <- snp.1kg.eur2[match_indices, , drop = FALSE]\n",
    "        }, error = function(e) {\n",
    "            cat(\"Error accessing genotype data at iteration:\", i, \"\\n\")\n",
    "            cat(\"Error message:\", e$message, \"\\n\")\n",
    "            stop(\"Stopping execution due to error.\")\n",
    "        })    \n",
    "    \n",
    "        mwas.ea[i,] <- MWAS(gwas, weight, t(geno))\n",
    "}\n",
    "rownames(mwas.ea) <- cg2\n",
    "colnames(mwas.ea) <- c(\"z\",\"p\")"
   ]
  },
  {
   "cell_type": "code",
   "execution_count": 86,
   "id": "207bf56e-0680-4f1b-a54d-f5e4b68cf77d",
   "metadata": {},
   "outputs": [
    {
     "data": {
      "text/html": [
       "<table class=\"dataframe\">\n",
       "<caption>A matrix: 6 × 2 of type dbl</caption>\n",
       "<thead>\n",
       "\t<tr><th></th><th scope=col>z</th><th scope=col>p</th></tr>\n",
       "</thead>\n",
       "<tbody>\n",
       "\t<tr><th scope=row>3034705</th><td>-0.7816271</td><td>0.4344337</td></tr>\n",
       "\t<tr><th scope=row>4636521</th><td>-0.6469369</td><td>0.5176728</td></tr>\n",
       "\t<tr><th scope=row>5071620</th><td>-0.2325908</td><td>0.8160792</td></tr>\n",
       "\t<tr><th scope=row>7066027</th><td>        NA</td><td>       NA</td></tr>\n",
       "\t<tr><th scope=row>9537755</th><td>-0.5452806</td><td>0.5855606</td></tr>\n",
       "\t<tr><th scope=row>9589839</th><td>-0.2609633</td><td>0.7941208</td></tr>\n",
       "</tbody>\n",
       "</table>\n"
      ],
      "text/latex": [
       "A matrix: 6 × 2 of type dbl\n",
       "\\begin{tabular}{r|ll}\n",
       "  & z & p\\\\\n",
       "\\hline\n",
       "\t3034705 & -0.7816271 & 0.4344337\\\\\n",
       "\t4636521 & -0.6469369 & 0.5176728\\\\\n",
       "\t5071620 & -0.2325908 & 0.8160792\\\\\n",
       "\t7066027 &         NA &        NA\\\\\n",
       "\t9537755 & -0.5452806 & 0.5855606\\\\\n",
       "\t9589839 & -0.2609633 & 0.7941208\\\\\n",
       "\\end{tabular}\n"
      ],
      "text/markdown": [
       "\n",
       "A matrix: 6 × 2 of type dbl\n",
       "\n",
       "| <!--/--> | z | p |\n",
       "|---|---|---|\n",
       "| 3034705 | -0.7816271 | 0.4344337 |\n",
       "| 4636521 | -0.6469369 | 0.5176728 |\n",
       "| 5071620 | -0.2325908 | 0.8160792 |\n",
       "| 7066027 |         NA |        NA |\n",
       "| 9537755 | -0.5452806 | 0.5855606 |\n",
       "| 9589839 | -0.2609633 | 0.7941208 |\n",
       "\n"
      ],
      "text/plain": [
       "        z          p        \n",
       "3034705 -0.7816271 0.4344337\n",
       "4636521 -0.6469369 0.5176728\n",
       "5071620 -0.2325908 0.8160792\n",
       "7066027         NA        NA\n",
       "9537755 -0.5452806 0.5855606\n",
       "9589839 -0.2609633 0.7941208"
      ]
     },
     "metadata": {},
     "output_type": "display_data"
    }
   ],
   "source": [
    "head(mwas.all)"
   ]
  },
  {
   "cell_type": "code",
   "execution_count": 87,
   "id": "4b88eb34-6d44-4fe7-ad8a-c49dc1a71a81",
   "metadata": {},
   "outputs": [],
   "source": [
    "mwas.all.1se <- mwas.all"
   ]
  },
  {
   "cell_type": "markdown",
   "id": "0765a889-36b0-4d87-bd66-4f33dbea0de5",
   "metadata": {},
   "source": [
    "### With `lambda.min`"
   ]
  },
  {
   "cell_type": "markdown",
   "id": "047c1cca-57f3-494d-9f25-08d7959713d9",
   "metadata": {},
   "source": [
    "#### Stage 1"
   ]
  },
  {
   "cell_type": "code",
   "execution_count": 88,
   "id": "61a5f950-2c27-40b1-aa96-809004183249",
   "metadata": {},
   "outputs": [
    {
     "name": "stderr",
     "output_type": "stream",
     "text": [
      "Warning message:\n",
      "“from glmnet C++ code (error code -95); Convergence for 95th lambda value not reached after maxit=100000 iterations; solutions for larger lambdas returned”\n"
     ]
    }
   ],
   "source": [
    "set.seed(42)\n",
    "for(k in 1:length(wind)){\n",
    "    models.ea <- c()\n",
    "    models.all <- c()\n",
    "    for(i in 1:length(cg)){\n",
    "    #for(i in 1){\n",
    "        #cat(i,\"\\n\")\n",
    "        #print(paste0(\"This cg is: \", cg[i]))\n",
    "        range1 <- ifelse(cg[i] - wind[k] > 0,cg[i] - wind[k],0)\n",
    "        range2 <- cg[i] + wind[k]\n",
    "        idx <- map3$POS > range1 & map3$POS < range2\n",
    "        # go to next cg if no snps within window\n",
    "        if(sum(idx) <= 1){\n",
    "                next\n",
    "        }\n",
    "        geno <- snp3[idx,] # changed snp2 to snp3\n",
    "        rownames(geno) <- map3$POS[idx]\n",
    "        trainX <- t(geno)\n",
    "        trainY <- p.residual[i,]\n",
    "        fit <- elastic.net(trainX,trainY)\n",
    "        fit <- tryCatch(\n",
    "                elastic.net(trainX,trainY, \"min\"),\n",
    "                error = function(e) {return (\"err\")})\n",
    "        if(!is.data.frame(fit)){\n",
    "            if(fit == \"err\"){\n",
    "                next\n",
    "            }\n",
    "        }\n",
    "        if(nrow(fit) == 0) next\n",
    "\n",
    "        fit$cg <- cg[i]\n",
    "        models.all <- rbind(models.all,fit)\n",
    "        # EA only\n",
    "        trainX <- trainX[idx.ea,]\n",
    "        if(sum(apply(trainX,2,var)!=0) <= 1){\n",
    "                next\n",
    "        }\n",
    "        trainY <- trainY[idx.ea]\n",
    "        fit <- tryCatch(\n",
    "                elastic.net(trainX,trainY, \"min\"),\n",
    "                error = function(e) {return (\"err\")})\n",
    "        if(!is.data.frame(fit)){\n",
    "            if(fit == \"err\"){\n",
    "                next\n",
    "            }\n",
    "        }\n",
    "        if(nrow(fit) == 0) next\n",
    "        fit$cg <- cg[i]\n",
    "        models.ea <- rbind(models.ea,fit)\n",
    "    }\n",
    "}"
   ]
  },
  {
   "cell_type": "code",
   "execution_count": 89,
   "id": "edde27e7-2435-474e-8fee-5870af257547",
   "metadata": {},
   "outputs": [],
   "source": [
    "models.ea <- models.ea[models.ea[,1] != \"(Intercept)\",]\n",
    "models.all <- models.all[models.all[,1] != \"(Intercept)\",]"
   ]
  },
  {
   "cell_type": "markdown",
   "id": "e1a14145-108e-4f1c-9abb-fd4744ba5105",
   "metadata": {},
   "source": [
    "#### Stage 2"
   ]
  },
  {
   "cell_type": "code",
   "execution_count": 90,
   "id": "582b72bb-156b-4d61-9a28-b6e07b2feee6",
   "metadata": {},
   "outputs": [],
   "source": [
    "if(!dir.exists(outd)) dir.create(outd)"
   ]
  },
  {
   "cell_type": "code",
   "execution_count": 91,
   "id": "0dc61fc5-dcd5-41ca-b76d-61e379df41fc",
   "metadata": {},
   "outputs": [],
   "source": [
    "set.seed(42)\n",
    "# mwas by models of all samples\n",
    "cg2 <- unique(models.all$cg)\n",
    "mwas.all <- matrix(0,nrow=length(cg2),ncol=2)\n",
    "for(i in 1:length(cg2)){\n",
    "    pos <- models.all[models.all$cg == cg2[i],1]\n",
    "    gwas <- snp.gwas2$z[is.element(snp.gwas2$pos_hg38, pos)]\n",
    "    weight <- models.all[models.all$cg == cg2[i],2]\n",
    "    #geno <- snp.1kg.eur2[match(pos,map.1kg.eur2$POS),]\n",
    "\n",
    "    match_indices <- match(pos, map.1kg.eur2$POS)\n",
    "\n",
    "    tryCatch({\n",
    "        geno <- snp.1kg.eur2[match_indices, , drop = FALSE]\n",
    "    }, error = function(e) {\n",
    "        cat(\"Error accessing genotype data at iteration:\", i, \"\\n\")\n",
    "        cat(\"Error message:\", e$message, \"\\n\")\n",
    "        stop(\"Stopping execution due to error.\")\n",
    "    })\n",
    "\n",
    "    mwas.all[i,] <- MWAS(gwas, weight, t(geno))\n",
    "}\n",
    "rownames(mwas.all) <- cg2\n",
    "colnames(mwas.all) <- c(\"z\",\"p\")"
   ]
  },
  {
   "cell_type": "code",
   "execution_count": 92,
   "id": "4002b896-fbac-46f7-aae3-671083aa49d7",
   "metadata": {},
   "outputs": [],
   "source": [
    "# mwas by models of EA samples\n",
    "cg2 <- unique(models.ea$cg)\n",
    "mwas.ea <- matrix(0,nrow=length(cg2),ncol=2)\n",
    "for(i in 1:length(cg2)){\n",
    "    pos <- models.ea[models.ea$cg == cg2[i],1]\n",
    "    gwas <- snp.gwas2$z[is.element(snp.gwas2$pos_hg38, pos)]\n",
    "    weight <- models.ea[models.ea$cg == cg2[i],2]\n",
    "    #geno <- snp.1kg.eur2[match(pos,map.1kg.eur2$POS),]\n",
    "\n",
    "    match_indices <- match(pos, map.1kg.eur2$POS)\n",
    "\n",
    "    tryCatch({\n",
    "        geno <- snp.1kg.eur2[match_indices, , drop = FALSE]\n",
    "    }, error = function(e) {\n",
    "        cat(\"Error accessing genotype data at iteration:\", i, \"\\n\")\n",
    "        cat(\"Error message:\", e$message, \"\\n\")\n",
    "        stop(\"Stopping execution due to error.\")\n",
    "    })    \n",
    "\n",
    "    mwas.ea[i,] <- MWAS(gwas, weight, t(geno))\n",
    "}\n",
    "rownames(mwas.ea) <- cg2\n",
    "colnames(mwas.ea) <- c(\"z\",\"p\")"
   ]
  },
  {
   "cell_type": "code",
   "execution_count": 93,
   "id": "4131a37d-d770-49e0-b06e-f7731eda00d6",
   "metadata": {
    "scrolled": true
   },
   "outputs": [
    {
     "data": {
      "text/html": [
       "<table class=\"dataframe\">\n",
       "<caption>A matrix: 6 × 2 of type dbl</caption>\n",
       "<thead>\n",
       "\t<tr><th></th><th scope=col>z</th><th scope=col>p</th></tr>\n",
       "</thead>\n",
       "<tbody>\n",
       "\t<tr><th scope=row>3034705</th><td>-1.1543931</td><td>0.24833903</td></tr>\n",
       "\t<tr><th scope=row>4636521</th><td>-0.4192693</td><td>0.67501932</td></tr>\n",
       "\t<tr><th scope=row>5071620</th><td>-1.9985497</td><td>0.04565709</td></tr>\n",
       "\t<tr><th scope=row>7066027</th><td>        NA</td><td>        NA</td></tr>\n",
       "\t<tr><th scope=row>9537755</th><td>        NA</td><td>        NA</td></tr>\n",
       "\t<tr><th scope=row>9589839</th><td>-0.5258504</td><td>0.59899216</td></tr>\n",
       "</tbody>\n",
       "</table>\n"
      ],
      "text/latex": [
       "A matrix: 6 × 2 of type dbl\n",
       "\\begin{tabular}{r|ll}\n",
       "  & z & p\\\\\n",
       "\\hline\n",
       "\t3034705 & -1.1543931 & 0.24833903\\\\\n",
       "\t4636521 & -0.4192693 & 0.67501932\\\\\n",
       "\t5071620 & -1.9985497 & 0.04565709\\\\\n",
       "\t7066027 &         NA &         NA\\\\\n",
       "\t9537755 &         NA &         NA\\\\\n",
       "\t9589839 & -0.5258504 & 0.59899216\\\\\n",
       "\\end{tabular}\n"
      ],
      "text/markdown": [
       "\n",
       "A matrix: 6 × 2 of type dbl\n",
       "\n",
       "| <!--/--> | z | p |\n",
       "|---|---|---|\n",
       "| 3034705 | -1.1543931 | 0.24833903 |\n",
       "| 4636521 | -0.4192693 | 0.67501932 |\n",
       "| 5071620 | -1.9985497 | 0.04565709 |\n",
       "| 7066027 |         NA |         NA |\n",
       "| 9537755 |         NA |         NA |\n",
       "| 9589839 | -0.5258504 | 0.59899216 |\n",
       "\n"
      ],
      "text/plain": [
       "        z          p         \n",
       "3034705 -1.1543931 0.24833903\n",
       "4636521 -0.4192693 0.67501932\n",
       "5071620 -1.9985497 0.04565709\n",
       "7066027         NA         NA\n",
       "9537755         NA         NA\n",
       "9589839 -0.5258504 0.59899216"
      ]
     },
     "metadata": {},
     "output_type": "display_data"
    }
   ],
   "source": [
    "head(mwas.all)"
   ]
  },
  {
   "cell_type": "code",
   "execution_count": 94,
   "id": "b30cbbe2-8dc6-4d04-b454-30c6216b87ee",
   "metadata": {},
   "outputs": [],
   "source": [
    "mwas.all.min <- mwas.all"
   ]
  },
  {
   "cell_type": "markdown",
   "id": "87456298-fa83-4288-9607-7d4d4457a01a",
   "metadata": {},
   "source": [
    "## Compare"
   ]
  },
  {
   "cell_type": "code",
   "execution_count": 95,
   "id": "d8b4153c-b4a2-4add-b174-8a9945da6962",
   "metadata": {},
   "outputs": [
    {
     "data": {
      "text/html": [
       "<table class=\"dataframe\">\n",
       "<caption>A matrix: 157 × 2 of type dbl</caption>\n",
       "<thead>\n",
       "\t<tr><th></th><th scope=col>z</th><th scope=col>p</th></tr>\n",
       "</thead>\n",
       "<tbody>\n",
       "\t<tr><th scope=row>3034705</th><td>-0.78162713</td><td>4.344337e-01</td></tr>\n",
       "\t<tr><th scope=row>4636521</th><td>-0.64693686</td><td>5.176728e-01</td></tr>\n",
       "\t<tr><th scope=row>5071620</th><td>-0.23259081</td><td>8.160792e-01</td></tr>\n",
       "\t<tr><th scope=row>7066027</th><td>         NA</td><td>          NA</td></tr>\n",
       "\t<tr><th scope=row>9537755</th><td>-0.54528056</td><td>5.855606e-01</td></tr>\n",
       "\t<tr><th scope=row>9589839</th><td>-0.26096332</td><td>7.941208e-01</td></tr>\n",
       "\t<tr><th scope=row>9738134</th><td>-0.75316926</td><td>4.513482e-01</td></tr>\n",
       "\t<tr><th scope=row>12627094</th><td>-2.71595214</td><td>6.608547e-03</td></tr>\n",
       "\t<tr><th scope=row>15088410</th><td> 1.13602795</td><td>2.559449e-01</td></tr>\n",
       "\t<tr><th scope=row>15641507</th><td>-0.77727495</td><td>4.369966e-01</td></tr>\n",
       "\t<tr><th scope=row>15760317</th><td>-0.82069512</td><td>4.118200e-01</td></tr>\n",
       "\t<tr><th scope=row>17058373</th><td> 0.59913500</td><td>5.490829e-01</td></tr>\n",
       "\t<tr><th scope=row>17474700</th><td>-4.38025123</td><td>1.185426e-05</td></tr>\n",
       "\t<tr><th scope=row>20656633</th><td>-0.16773039</td><td>8.667954e-01</td></tr>\n",
       "\t<tr><th scope=row>23090050</th><td>-3.32446707</td><td>8.858769e-04</td></tr>\n",
       "\t<tr><th scope=row>25501528</th><td> 2.13682177</td><td>3.261249e-02</td></tr>\n",
       "\t<tr><th scope=row>27805167</th><td> 1.85543618</td><td>6.353396e-02</td></tr>\n",
       "\t<tr><th scope=row>30896015</th><td> 0.56804224</td><td>5.700063e-01</td></tr>\n",
       "\t<tr><th scope=row>32651648</th><td>-2.28085837</td><td>2.255683e-02</td></tr>\n",
       "\t<tr><th scope=row>32731013</th><td> 0.81856126</td><td>4.130368e-01</td></tr>\n",
       "\t<tr><th scope=row>32918566</th><td> 0.27917068</td><td>7.801138e-01</td></tr>\n",
       "\t<tr><th scope=row>33026549</th><td> 1.29728090</td><td>1.945346e-01</td></tr>\n",
       "\t<tr><th scope=row>34326859</th><td> 1.54771214</td><td>1.216916e-01</td></tr>\n",
       "\t<tr><th scope=row>38166150</th><td> 1.21601870</td><td>2.239778e-01</td></tr>\n",
       "\t<tr><th scope=row>39603151</th><td> 0.87856707</td><td>3.796361e-01</td></tr>\n",
       "\t<tr><th scope=row>39667411</th><td>-0.23738207</td><td>8.123604e-01</td></tr>\n",
       "\t<tr><th scope=row>40458995</th><td>-1.19748172</td><td>2.311188e-01</td></tr>\n",
       "\t<tr><th scope=row>40781188</th><td>-0.19559920</td><td>8.449239e-01</td></tr>\n",
       "\t<tr><th scope=row>42068261</th><td>-0.02726864</td><td>9.782455e-01</td></tr>\n",
       "\t<tr><th scope=row>42168926</th><td>-0.16855095</td><td>8.661499e-01</td></tr>\n",
       "\t<tr><th scope=row>⋮</th><td>⋮</td><td>⋮</td></tr>\n",
       "\t<tr><th scope=row>172567693</th><td> 0.80929879</td><td>4.183433e-01</td></tr>\n",
       "\t<tr><th scope=row>173451864</th><td> 0.47454452</td><td>6.351117e-01</td></tr>\n",
       "\t<tr><th scope=row>173706697</th><td> 2.20126411</td><td>2.771733e-02</td></tr>\n",
       "\t<tr><th scope=row>177340908</th><td>-2.06406105</td><td>3.901193e-02</td></tr>\n",
       "\t<tr><th scope=row>177943380</th><td> 1.32968768</td><td>1.836212e-01</td></tr>\n",
       "\t<tr><th scope=row>179778722</th><td>-1.12329640</td><td>2.613116e-01</td></tr>\n",
       "\t<tr><th scope=row>180864008</th><td> 5.52883188</td><td>3.223701e-08</td></tr>\n",
       "\t<tr><th scope=row>181082728</th><td>-6.81282612</td><td>9.569979e-12</td></tr>\n",
       "\t<tr><th scope=row>183792586</th><td> 0.04598621</td><td>9.633212e-01</td></tr>\n",
       "\t<tr><th scope=row>183954241</th><td> 0.83472022</td><td>4.038753e-01</td></tr>\n",
       "\t<tr><th scope=row>184073254</th><td> 0.42183415</td><td>6.731461e-01</td></tr>\n",
       "\t<tr><th scope=row>184185876</th><td>-0.01025744</td><td>9.918159e-01</td></tr>\n",
       "\t<tr><th scope=row>185373573</th><td>-0.83964280</td><td>4.011087e-01</td></tr>\n",
       "\t<tr><th scope=row>185658353</th><td>-1.27187742</td><td>2.034167e-01</td></tr>\n",
       "\t<tr><th scope=row>185850012</th><td> 2.38965842</td><td>1.686405e-02</td></tr>\n",
       "\t<tr><th scope=row>186812005</th><td>-1.04515143</td><td>2.959530e-01</td></tr>\n",
       "\t<tr><th scope=row>188028800</th><td>-1.54347505</td><td>1.227156e-01</td></tr>\n",
       "\t<tr><th scope=row>188287530</th><td> 1.78049960</td><td>7.499423e-02</td></tr>\n",
       "\t<tr><th scope=row>191050163</th><td>-1.71397926</td><td>8.653253e-02</td></tr>\n",
       "\t<tr><th scope=row>191633195</th><td>-1.02951998</td><td>3.032354e-01</td></tr>\n",
       "\t<tr><th scope=row>192271927</th><td> 3.07989751</td><td>2.070718e-03</td></tr>\n",
       "\t<tr><th scope=row>192440295</th><td>-2.45473234</td><td>1.409895e-02</td></tr>\n",
       "\t<tr><th scope=row>193166524</th><td> 1.71196644</td><td>8.690285e-02</td></tr>\n",
       "\t<tr><th scope=row>194189096</th><td>-1.51484657</td><td>1.298113e-01</td></tr>\n",
       "\t<tr><th scope=row>194496559</th><td>-0.29603868</td><td>7.672005e-01</td></tr>\n",
       "\t<tr><th scope=row>194643692</th><td>-0.30205641</td><td>7.626091e-01</td></tr>\n",
       "\t<tr><th scope=row>196136755</th><td> 0.25354653</td><td>7.998459e-01</td></tr>\n",
       "\t<tr><th scope=row>196295957</th><td> 0.28124710</td><td>7.785209e-01</td></tr>\n",
       "\t<tr><th scope=row>196340120</th><td> 3.90110190</td><td>9.575583e-05</td></tr>\n",
       "\t<tr><th scope=row>197931436</th><td>-0.39044769</td><td>6.962055e-01</td></tr>\n",
       "</tbody>\n",
       "</table>\n"
      ],
      "text/latex": [
       "A matrix: 157 × 2 of type dbl\n",
       "\\begin{tabular}{r|ll}\n",
       "  & z & p\\\\\n",
       "\\hline\n",
       "\t3034705 & -0.78162713 & 4.344337e-01\\\\\n",
       "\t4636521 & -0.64693686 & 5.176728e-01\\\\\n",
       "\t5071620 & -0.23259081 & 8.160792e-01\\\\\n",
       "\t7066027 &          NA &           NA\\\\\n",
       "\t9537755 & -0.54528056 & 5.855606e-01\\\\\n",
       "\t9589839 & -0.26096332 & 7.941208e-01\\\\\n",
       "\t9738134 & -0.75316926 & 4.513482e-01\\\\\n",
       "\t12627094 & -2.71595214 & 6.608547e-03\\\\\n",
       "\t15088410 &  1.13602795 & 2.559449e-01\\\\\n",
       "\t15641507 & -0.77727495 & 4.369966e-01\\\\\n",
       "\t15760317 & -0.82069512 & 4.118200e-01\\\\\n",
       "\t17058373 &  0.59913500 & 5.490829e-01\\\\\n",
       "\t17474700 & -4.38025123 & 1.185426e-05\\\\\n",
       "\t20656633 & -0.16773039 & 8.667954e-01\\\\\n",
       "\t23090050 & -3.32446707 & 8.858769e-04\\\\\n",
       "\t25501528 &  2.13682177 & 3.261249e-02\\\\\n",
       "\t27805167 &  1.85543618 & 6.353396e-02\\\\\n",
       "\t30896015 &  0.56804224 & 5.700063e-01\\\\\n",
       "\t32651648 & -2.28085837 & 2.255683e-02\\\\\n",
       "\t32731013 &  0.81856126 & 4.130368e-01\\\\\n",
       "\t32918566 &  0.27917068 & 7.801138e-01\\\\\n",
       "\t33026549 &  1.29728090 & 1.945346e-01\\\\\n",
       "\t34326859 &  1.54771214 & 1.216916e-01\\\\\n",
       "\t38166150 &  1.21601870 & 2.239778e-01\\\\\n",
       "\t39603151 &  0.87856707 & 3.796361e-01\\\\\n",
       "\t39667411 & -0.23738207 & 8.123604e-01\\\\\n",
       "\t40458995 & -1.19748172 & 2.311188e-01\\\\\n",
       "\t40781188 & -0.19559920 & 8.449239e-01\\\\\n",
       "\t42068261 & -0.02726864 & 9.782455e-01\\\\\n",
       "\t42168926 & -0.16855095 & 8.661499e-01\\\\\n",
       "\t⋮ & ⋮ & ⋮\\\\\n",
       "\t172567693 &  0.80929879 & 4.183433e-01\\\\\n",
       "\t173451864 &  0.47454452 & 6.351117e-01\\\\\n",
       "\t173706697 &  2.20126411 & 2.771733e-02\\\\\n",
       "\t177340908 & -2.06406105 & 3.901193e-02\\\\\n",
       "\t177943380 &  1.32968768 & 1.836212e-01\\\\\n",
       "\t179778722 & -1.12329640 & 2.613116e-01\\\\\n",
       "\t180864008 &  5.52883188 & 3.223701e-08\\\\\n",
       "\t181082728 & -6.81282612 & 9.569979e-12\\\\\n",
       "\t183792586 &  0.04598621 & 9.633212e-01\\\\\n",
       "\t183954241 &  0.83472022 & 4.038753e-01\\\\\n",
       "\t184073254 &  0.42183415 & 6.731461e-01\\\\\n",
       "\t184185876 & -0.01025744 & 9.918159e-01\\\\\n",
       "\t185373573 & -0.83964280 & 4.011087e-01\\\\\n",
       "\t185658353 & -1.27187742 & 2.034167e-01\\\\\n",
       "\t185850012 &  2.38965842 & 1.686405e-02\\\\\n",
       "\t186812005 & -1.04515143 & 2.959530e-01\\\\\n",
       "\t188028800 & -1.54347505 & 1.227156e-01\\\\\n",
       "\t188287530 &  1.78049960 & 7.499423e-02\\\\\n",
       "\t191050163 & -1.71397926 & 8.653253e-02\\\\\n",
       "\t191633195 & -1.02951998 & 3.032354e-01\\\\\n",
       "\t192271927 &  3.07989751 & 2.070718e-03\\\\\n",
       "\t192440295 & -2.45473234 & 1.409895e-02\\\\\n",
       "\t193166524 &  1.71196644 & 8.690285e-02\\\\\n",
       "\t194189096 & -1.51484657 & 1.298113e-01\\\\\n",
       "\t194496559 & -0.29603868 & 7.672005e-01\\\\\n",
       "\t194643692 & -0.30205641 & 7.626091e-01\\\\\n",
       "\t196136755 &  0.25354653 & 7.998459e-01\\\\\n",
       "\t196295957 &  0.28124710 & 7.785209e-01\\\\\n",
       "\t196340120 &  3.90110190 & 9.575583e-05\\\\\n",
       "\t197931436 & -0.39044769 & 6.962055e-01\\\\\n",
       "\\end{tabular}\n"
      ],
      "text/markdown": [
       "\n",
       "A matrix: 157 × 2 of type dbl\n",
       "\n",
       "| <!--/--> | z | p |\n",
       "|---|---|---|\n",
       "| 3034705 | -0.78162713 | 4.344337e-01 |\n",
       "| 4636521 | -0.64693686 | 5.176728e-01 |\n",
       "| 5071620 | -0.23259081 | 8.160792e-01 |\n",
       "| 7066027 |          NA |           NA |\n",
       "| 9537755 | -0.54528056 | 5.855606e-01 |\n",
       "| 9589839 | -0.26096332 | 7.941208e-01 |\n",
       "| 9738134 | -0.75316926 | 4.513482e-01 |\n",
       "| 12627094 | -2.71595214 | 6.608547e-03 |\n",
       "| 15088410 |  1.13602795 | 2.559449e-01 |\n",
       "| 15641507 | -0.77727495 | 4.369966e-01 |\n",
       "| 15760317 | -0.82069512 | 4.118200e-01 |\n",
       "| 17058373 |  0.59913500 | 5.490829e-01 |\n",
       "| 17474700 | -4.38025123 | 1.185426e-05 |\n",
       "| 20656633 | -0.16773039 | 8.667954e-01 |\n",
       "| 23090050 | -3.32446707 | 8.858769e-04 |\n",
       "| 25501528 |  2.13682177 | 3.261249e-02 |\n",
       "| 27805167 |  1.85543618 | 6.353396e-02 |\n",
       "| 30896015 |  0.56804224 | 5.700063e-01 |\n",
       "| 32651648 | -2.28085837 | 2.255683e-02 |\n",
       "| 32731013 |  0.81856126 | 4.130368e-01 |\n",
       "| 32918566 |  0.27917068 | 7.801138e-01 |\n",
       "| 33026549 |  1.29728090 | 1.945346e-01 |\n",
       "| 34326859 |  1.54771214 | 1.216916e-01 |\n",
       "| 38166150 |  1.21601870 | 2.239778e-01 |\n",
       "| 39603151 |  0.87856707 | 3.796361e-01 |\n",
       "| 39667411 | -0.23738207 | 8.123604e-01 |\n",
       "| 40458995 | -1.19748172 | 2.311188e-01 |\n",
       "| 40781188 | -0.19559920 | 8.449239e-01 |\n",
       "| 42068261 | -0.02726864 | 9.782455e-01 |\n",
       "| 42168926 | -0.16855095 | 8.661499e-01 |\n",
       "| ⋮ | ⋮ | ⋮ |\n",
       "| 172567693 |  0.80929879 | 4.183433e-01 |\n",
       "| 173451864 |  0.47454452 | 6.351117e-01 |\n",
       "| 173706697 |  2.20126411 | 2.771733e-02 |\n",
       "| 177340908 | -2.06406105 | 3.901193e-02 |\n",
       "| 177943380 |  1.32968768 | 1.836212e-01 |\n",
       "| 179778722 | -1.12329640 | 2.613116e-01 |\n",
       "| 180864008 |  5.52883188 | 3.223701e-08 |\n",
       "| 181082728 | -6.81282612 | 9.569979e-12 |\n",
       "| 183792586 |  0.04598621 | 9.633212e-01 |\n",
       "| 183954241 |  0.83472022 | 4.038753e-01 |\n",
       "| 184073254 |  0.42183415 | 6.731461e-01 |\n",
       "| 184185876 | -0.01025744 | 9.918159e-01 |\n",
       "| 185373573 | -0.83964280 | 4.011087e-01 |\n",
       "| 185658353 | -1.27187742 | 2.034167e-01 |\n",
       "| 185850012 |  2.38965842 | 1.686405e-02 |\n",
       "| 186812005 | -1.04515143 | 2.959530e-01 |\n",
       "| 188028800 | -1.54347505 | 1.227156e-01 |\n",
       "| 188287530 |  1.78049960 | 7.499423e-02 |\n",
       "| 191050163 | -1.71397926 | 8.653253e-02 |\n",
       "| 191633195 | -1.02951998 | 3.032354e-01 |\n",
       "| 192271927 |  3.07989751 | 2.070718e-03 |\n",
       "| 192440295 | -2.45473234 | 1.409895e-02 |\n",
       "| 193166524 |  1.71196644 | 8.690285e-02 |\n",
       "| 194189096 | -1.51484657 | 1.298113e-01 |\n",
       "| 194496559 | -0.29603868 | 7.672005e-01 |\n",
       "| 194643692 | -0.30205641 | 7.626091e-01 |\n",
       "| 196136755 |  0.25354653 | 7.998459e-01 |\n",
       "| 196295957 |  0.28124710 | 7.785209e-01 |\n",
       "| 196340120 |  3.90110190 | 9.575583e-05 |\n",
       "| 197931436 | -0.39044769 | 6.962055e-01 |\n",
       "\n"
      ],
      "text/plain": [
       "          z           p           \n",
       "3034705   -0.78162713 4.344337e-01\n",
       "4636521   -0.64693686 5.176728e-01\n",
       "5071620   -0.23259081 8.160792e-01\n",
       "7066027            NA           NA\n",
       "9537755   -0.54528056 5.855606e-01\n",
       "9589839   -0.26096332 7.941208e-01\n",
       "9738134   -0.75316926 4.513482e-01\n",
       "12627094  -2.71595214 6.608547e-03\n",
       "15088410   1.13602795 2.559449e-01\n",
       "15641507  -0.77727495 4.369966e-01\n",
       "15760317  -0.82069512 4.118200e-01\n",
       "17058373   0.59913500 5.490829e-01\n",
       "17474700  -4.38025123 1.185426e-05\n",
       "20656633  -0.16773039 8.667954e-01\n",
       "23090050  -3.32446707 8.858769e-04\n",
       "25501528   2.13682177 3.261249e-02\n",
       "27805167   1.85543618 6.353396e-02\n",
       "30896015   0.56804224 5.700063e-01\n",
       "32651648  -2.28085837 2.255683e-02\n",
       "32731013   0.81856126 4.130368e-01\n",
       "32918566   0.27917068 7.801138e-01\n",
       "33026549   1.29728090 1.945346e-01\n",
       "34326859   1.54771214 1.216916e-01\n",
       "38166150   1.21601870 2.239778e-01\n",
       "39603151   0.87856707 3.796361e-01\n",
       "39667411  -0.23738207 8.123604e-01\n",
       "40458995  -1.19748172 2.311188e-01\n",
       "40781188  -0.19559920 8.449239e-01\n",
       "42068261  -0.02726864 9.782455e-01\n",
       "42168926  -0.16855095 8.661499e-01\n",
       "⋮         ⋮           ⋮           \n",
       "172567693  0.80929879 4.183433e-01\n",
       "173451864  0.47454452 6.351117e-01\n",
       "173706697  2.20126411 2.771733e-02\n",
       "177340908 -2.06406105 3.901193e-02\n",
       "177943380  1.32968768 1.836212e-01\n",
       "179778722 -1.12329640 2.613116e-01\n",
       "180864008  5.52883188 3.223701e-08\n",
       "181082728 -6.81282612 9.569979e-12\n",
       "183792586  0.04598621 9.633212e-01\n",
       "183954241  0.83472022 4.038753e-01\n",
       "184073254  0.42183415 6.731461e-01\n",
       "184185876 -0.01025744 9.918159e-01\n",
       "185373573 -0.83964280 4.011087e-01\n",
       "185658353 -1.27187742 2.034167e-01\n",
       "185850012  2.38965842 1.686405e-02\n",
       "186812005 -1.04515143 2.959530e-01\n",
       "188028800 -1.54347505 1.227156e-01\n",
       "188287530  1.78049960 7.499423e-02\n",
       "191050163 -1.71397926 8.653253e-02\n",
       "191633195 -1.02951998 3.032354e-01\n",
       "192271927  3.07989751 2.070718e-03\n",
       "192440295 -2.45473234 1.409895e-02\n",
       "193166524  1.71196644 8.690285e-02\n",
       "194189096 -1.51484657 1.298113e-01\n",
       "194496559 -0.29603868 7.672005e-01\n",
       "194643692 -0.30205641 7.626091e-01\n",
       "196136755  0.25354653 7.998459e-01\n",
       "196295957  0.28124710 7.785209e-01\n",
       "196340120  3.90110190 9.575583e-05\n",
       "197931436 -0.39044769 6.962055e-01"
      ]
     },
     "metadata": {},
     "output_type": "display_data"
    }
   ],
   "source": [
    "mwas.all.1se"
   ]
  },
  {
   "cell_type": "code",
   "execution_count": 96,
   "id": "41f09f92-953b-44f8-a682-db1cc9baf86a",
   "metadata": {},
   "outputs": [
    {
     "data": {
      "text/html": [
       "<table class=\"dataframe\">\n",
       "<caption>A matrix: 184 × 2 of type dbl</caption>\n",
       "<thead>\n",
       "\t<tr><th></th><th scope=col>z</th><th scope=col>p</th></tr>\n",
       "</thead>\n",
       "<tbody>\n",
       "\t<tr><th scope=row>3034705</th><td>-1.15439312</td><td>0.248339033</td></tr>\n",
       "\t<tr><th scope=row>4636521</th><td>-0.41926932</td><td>0.675019316</td></tr>\n",
       "\t<tr><th scope=row>5071620</th><td>-1.99854973</td><td>0.045657095</td></tr>\n",
       "\t<tr><th scope=row>7066027</th><td>         NA</td><td>         NA</td></tr>\n",
       "\t<tr><th scope=row>9537755</th><td>         NA</td><td>         NA</td></tr>\n",
       "\t<tr><th scope=row>9589839</th><td>-0.52585038</td><td>0.598992165</td></tr>\n",
       "\t<tr><th scope=row>9738134</th><td>-0.75316926</td><td>0.451348207</td></tr>\n",
       "\t<tr><th scope=row>11196827</th><td>-0.07842617</td><td>0.937489061</td></tr>\n",
       "\t<tr><th scope=row>12627094</th><td>-2.22166881</td><td>0.026305696</td></tr>\n",
       "\t<tr><th scope=row>15088410</th><td> 0.96833528</td><td>0.332876949</td></tr>\n",
       "\t<tr><th scope=row>15641507</th><td>-0.52800199</td><td>0.597497954</td></tr>\n",
       "\t<tr><th scope=row>15760317</th><td>-1.34829576</td><td>0.177563276</td></tr>\n",
       "\t<tr><th scope=row>17058373</th><td> 1.83400551</td><td>0.066653176</td></tr>\n",
       "\t<tr><th scope=row>17474700</th><td>-1.48886876</td><td>0.136521930</td></tr>\n",
       "\t<tr><th scope=row>17967178</th><td> 2.64769944</td><td>0.008104154</td></tr>\n",
       "\t<tr><th scope=row>20656633</th><td>-0.27927692</td><td>0.780032320</td></tr>\n",
       "\t<tr><th scope=row>23090050</th><td>-1.61849962</td><td>0.105554969</td></tr>\n",
       "\t<tr><th scope=row>25501528</th><td> 1.69833913</td><td>0.089443773</td></tr>\n",
       "\t<tr><th scope=row>26680581</th><td> 1.00913707</td><td>0.312908903</td></tr>\n",
       "\t<tr><th scope=row>27805167</th><td> 2.13617091</td><td>0.032665486</td></tr>\n",
       "\t<tr><th scope=row>30896015</th><td> 0.42321452</td><td>0.672138754</td></tr>\n",
       "\t<tr><th scope=row>32651648</th><td>-2.28418391</td><td>0.022360725</td></tr>\n",
       "\t<tr><th scope=row>32731013</th><td> 0.79895287</td><td>0.424317741</td></tr>\n",
       "\t<tr><th scope=row>32918566</th><td> 0.09286833</td><td>0.926008169</td></tr>\n",
       "\t<tr><th scope=row>33026549</th><td> 1.29561318</td><td>0.195108787</td></tr>\n",
       "\t<tr><th scope=row>34326859</th><td> 1.78913996</td><td>0.073592278</td></tr>\n",
       "\t<tr><th scope=row>38166150</th><td> 1.21601870</td><td>0.223977800</td></tr>\n",
       "\t<tr><th scope=row>39603151</th><td> 0.92091332</td><td>0.357095682</td></tr>\n",
       "\t<tr><th scope=row>39667411</th><td> 0.11060630</td><td>0.911928550</td></tr>\n",
       "\t<tr><th scope=row>40458995</th><td>-1.19748172</td><td>0.231118848</td></tr>\n",
       "\t<tr><th scope=row>⋮</th><td>⋮</td><td>⋮</td></tr>\n",
       "\t<tr><th scope=row>177340908</th><td>-2.00594278</td><td>4.486235e-02</td></tr>\n",
       "\t<tr><th scope=row>177943380</th><td> 1.30680531</td><td>1.912788e-01</td></tr>\n",
       "\t<tr><th scope=row>179778722</th><td>-1.12329640</td><td>2.613116e-01</td></tr>\n",
       "\t<tr><th scope=row>180631723</th><td> 1.65906002</td><td>9.710370e-02</td></tr>\n",
       "\t<tr><th scope=row>180864008</th><td> 4.60758466</td><td>4.073734e-06</td></tr>\n",
       "\t<tr><th scope=row>181082728</th><td>-7.21671110</td><td>5.325996e-13</td></tr>\n",
       "\t<tr><th scope=row>181756514</th><td> 1.30251559</td><td>1.927402e-01</td></tr>\n",
       "\t<tr><th scope=row>183792586</th><td>-1.83656108</td><td>6.627472e-02</td></tr>\n",
       "\t<tr><th scope=row>183954241</th><td> 0.33676878</td><td>7.362912e-01</td></tr>\n",
       "\t<tr><th scope=row>184073254</th><td> 0.30632236</td><td>7.593592e-01</td></tr>\n",
       "\t<tr><th scope=row>184185876</th><td>-0.01025744</td><td>9.918159e-01</td></tr>\n",
       "\t<tr><th scope=row>185373573</th><td>-2.41748355</td><td>1.562824e-02</td></tr>\n",
       "\t<tr><th scope=row>185658353</th><td>-1.27187742</td><td>2.034167e-01</td></tr>\n",
       "\t<tr><th scope=row>185850012</th><td> 2.32283969</td><td>2.018777e-02</td></tr>\n",
       "\t<tr><th scope=row>186779557</th><td> 2.18433121</td><td>2.893792e-02</td></tr>\n",
       "\t<tr><th scope=row>186812005</th><td> 0.02316578</td><td>9.815180e-01</td></tr>\n",
       "\t<tr><th scope=row>188028800</th><td>-1.59460039</td><td>1.108016e-01</td></tr>\n",
       "\t<tr><th scope=row>188287530</th><td>-0.83920789</td><td>4.013527e-01</td></tr>\n",
       "\t<tr><th scope=row>191050163</th><td>-1.21197720</td><td>2.255211e-01</td></tr>\n",
       "\t<tr><th scope=row>191633195</th><td>-0.34960117</td><td>7.266380e-01</td></tr>\n",
       "\t<tr><th scope=row>192271927</th><td> 2.26433371</td><td>2.355360e-02</td></tr>\n",
       "\t<tr><th scope=row>192440295</th><td>-1.59585532</td><td>1.105211e-01</td></tr>\n",
       "\t<tr><th scope=row>193166524</th><td> 1.56586199</td><td>1.173809e-01</td></tr>\n",
       "\t<tr><th scope=row>194189096</th><td>-1.51484657</td><td>1.298113e-01</td></tr>\n",
       "\t<tr><th scope=row>194496559</th><td>-0.30290982</td><td>7.619586e-01</td></tr>\n",
       "\t<tr><th scope=row>194643692</th><td>-0.33558149</td><td>7.371865e-01</td></tr>\n",
       "\t<tr><th scope=row>196136755</th><td> 0.25354653</td><td>7.998459e-01</td></tr>\n",
       "\t<tr><th scope=row>196295957</th><td> 0.03399652</td><td>9.728799e-01</td></tr>\n",
       "\t<tr><th scope=row>196340120</th><td> 2.63720478</td><td>8.359235e-03</td></tr>\n",
       "\t<tr><th scope=row>197931436</th><td>-0.38701926</td><td>6.987419e-01</td></tr>\n",
       "</tbody>\n",
       "</table>\n"
      ],
      "text/latex": [
       "A matrix: 184 × 2 of type dbl\n",
       "\\begin{tabular}{r|ll}\n",
       "  & z & p\\\\\n",
       "\\hline\n",
       "\t3034705 & -1.15439312 & 0.248339033\\\\\n",
       "\t4636521 & -0.41926932 & 0.675019316\\\\\n",
       "\t5071620 & -1.99854973 & 0.045657095\\\\\n",
       "\t7066027 &          NA &          NA\\\\\n",
       "\t9537755 &          NA &          NA\\\\\n",
       "\t9589839 & -0.52585038 & 0.598992165\\\\\n",
       "\t9738134 & -0.75316926 & 0.451348207\\\\\n",
       "\t11196827 & -0.07842617 & 0.937489061\\\\\n",
       "\t12627094 & -2.22166881 & 0.026305696\\\\\n",
       "\t15088410 &  0.96833528 & 0.332876949\\\\\n",
       "\t15641507 & -0.52800199 & 0.597497954\\\\\n",
       "\t15760317 & -1.34829576 & 0.177563276\\\\\n",
       "\t17058373 &  1.83400551 & 0.066653176\\\\\n",
       "\t17474700 & -1.48886876 & 0.136521930\\\\\n",
       "\t17967178 &  2.64769944 & 0.008104154\\\\\n",
       "\t20656633 & -0.27927692 & 0.780032320\\\\\n",
       "\t23090050 & -1.61849962 & 0.105554969\\\\\n",
       "\t25501528 &  1.69833913 & 0.089443773\\\\\n",
       "\t26680581 &  1.00913707 & 0.312908903\\\\\n",
       "\t27805167 &  2.13617091 & 0.032665486\\\\\n",
       "\t30896015 &  0.42321452 & 0.672138754\\\\\n",
       "\t32651648 & -2.28418391 & 0.022360725\\\\\n",
       "\t32731013 &  0.79895287 & 0.424317741\\\\\n",
       "\t32918566 &  0.09286833 & 0.926008169\\\\\n",
       "\t33026549 &  1.29561318 & 0.195108787\\\\\n",
       "\t34326859 &  1.78913996 & 0.073592278\\\\\n",
       "\t38166150 &  1.21601870 & 0.223977800\\\\\n",
       "\t39603151 &  0.92091332 & 0.357095682\\\\\n",
       "\t39667411 &  0.11060630 & 0.911928550\\\\\n",
       "\t40458995 & -1.19748172 & 0.231118848\\\\\n",
       "\t⋮ & ⋮ & ⋮\\\\\n",
       "\t177340908 & -2.00594278 & 4.486235e-02\\\\\n",
       "\t177943380 &  1.30680531 & 1.912788e-01\\\\\n",
       "\t179778722 & -1.12329640 & 2.613116e-01\\\\\n",
       "\t180631723 &  1.65906002 & 9.710370e-02\\\\\n",
       "\t180864008 &  4.60758466 & 4.073734e-06\\\\\n",
       "\t181082728 & -7.21671110 & 5.325996e-13\\\\\n",
       "\t181756514 &  1.30251559 & 1.927402e-01\\\\\n",
       "\t183792586 & -1.83656108 & 6.627472e-02\\\\\n",
       "\t183954241 &  0.33676878 & 7.362912e-01\\\\\n",
       "\t184073254 &  0.30632236 & 7.593592e-01\\\\\n",
       "\t184185876 & -0.01025744 & 9.918159e-01\\\\\n",
       "\t185373573 & -2.41748355 & 1.562824e-02\\\\\n",
       "\t185658353 & -1.27187742 & 2.034167e-01\\\\\n",
       "\t185850012 &  2.32283969 & 2.018777e-02\\\\\n",
       "\t186779557 &  2.18433121 & 2.893792e-02\\\\\n",
       "\t186812005 &  0.02316578 & 9.815180e-01\\\\\n",
       "\t188028800 & -1.59460039 & 1.108016e-01\\\\\n",
       "\t188287530 & -0.83920789 & 4.013527e-01\\\\\n",
       "\t191050163 & -1.21197720 & 2.255211e-01\\\\\n",
       "\t191633195 & -0.34960117 & 7.266380e-01\\\\\n",
       "\t192271927 &  2.26433371 & 2.355360e-02\\\\\n",
       "\t192440295 & -1.59585532 & 1.105211e-01\\\\\n",
       "\t193166524 &  1.56586199 & 1.173809e-01\\\\\n",
       "\t194189096 & -1.51484657 & 1.298113e-01\\\\\n",
       "\t194496559 & -0.30290982 & 7.619586e-01\\\\\n",
       "\t194643692 & -0.33558149 & 7.371865e-01\\\\\n",
       "\t196136755 &  0.25354653 & 7.998459e-01\\\\\n",
       "\t196295957 &  0.03399652 & 9.728799e-01\\\\\n",
       "\t196340120 &  2.63720478 & 8.359235e-03\\\\\n",
       "\t197931436 & -0.38701926 & 6.987419e-01\\\\\n",
       "\\end{tabular}\n"
      ],
      "text/markdown": [
       "\n",
       "A matrix: 184 × 2 of type dbl\n",
       "\n",
       "| <!--/--> | z | p |\n",
       "|---|---|---|\n",
       "| 3034705 | -1.15439312 | 0.248339033 |\n",
       "| 4636521 | -0.41926932 | 0.675019316 |\n",
       "| 5071620 | -1.99854973 | 0.045657095 |\n",
       "| 7066027 |          NA |          NA |\n",
       "| 9537755 |          NA |          NA |\n",
       "| 9589839 | -0.52585038 | 0.598992165 |\n",
       "| 9738134 | -0.75316926 | 0.451348207 |\n",
       "| 11196827 | -0.07842617 | 0.937489061 |\n",
       "| 12627094 | -2.22166881 | 0.026305696 |\n",
       "| 15088410 |  0.96833528 | 0.332876949 |\n",
       "| 15641507 | -0.52800199 | 0.597497954 |\n",
       "| 15760317 | -1.34829576 | 0.177563276 |\n",
       "| 17058373 |  1.83400551 | 0.066653176 |\n",
       "| 17474700 | -1.48886876 | 0.136521930 |\n",
       "| 17967178 |  2.64769944 | 0.008104154 |\n",
       "| 20656633 | -0.27927692 | 0.780032320 |\n",
       "| 23090050 | -1.61849962 | 0.105554969 |\n",
       "| 25501528 |  1.69833913 | 0.089443773 |\n",
       "| 26680581 |  1.00913707 | 0.312908903 |\n",
       "| 27805167 |  2.13617091 | 0.032665486 |\n",
       "| 30896015 |  0.42321452 | 0.672138754 |\n",
       "| 32651648 | -2.28418391 | 0.022360725 |\n",
       "| 32731013 |  0.79895287 | 0.424317741 |\n",
       "| 32918566 |  0.09286833 | 0.926008169 |\n",
       "| 33026549 |  1.29561318 | 0.195108787 |\n",
       "| 34326859 |  1.78913996 | 0.073592278 |\n",
       "| 38166150 |  1.21601870 | 0.223977800 |\n",
       "| 39603151 |  0.92091332 | 0.357095682 |\n",
       "| 39667411 |  0.11060630 | 0.911928550 |\n",
       "| 40458995 | -1.19748172 | 0.231118848 |\n",
       "| ⋮ | ⋮ | ⋮ |\n",
       "| 177340908 | -2.00594278 | 4.486235e-02 |\n",
       "| 177943380 |  1.30680531 | 1.912788e-01 |\n",
       "| 179778722 | -1.12329640 | 2.613116e-01 |\n",
       "| 180631723 |  1.65906002 | 9.710370e-02 |\n",
       "| 180864008 |  4.60758466 | 4.073734e-06 |\n",
       "| 181082728 | -7.21671110 | 5.325996e-13 |\n",
       "| 181756514 |  1.30251559 | 1.927402e-01 |\n",
       "| 183792586 | -1.83656108 | 6.627472e-02 |\n",
       "| 183954241 |  0.33676878 | 7.362912e-01 |\n",
       "| 184073254 |  0.30632236 | 7.593592e-01 |\n",
       "| 184185876 | -0.01025744 | 9.918159e-01 |\n",
       "| 185373573 | -2.41748355 | 1.562824e-02 |\n",
       "| 185658353 | -1.27187742 | 2.034167e-01 |\n",
       "| 185850012 |  2.32283969 | 2.018777e-02 |\n",
       "| 186779557 |  2.18433121 | 2.893792e-02 |\n",
       "| 186812005 |  0.02316578 | 9.815180e-01 |\n",
       "| 188028800 | -1.59460039 | 1.108016e-01 |\n",
       "| 188287530 | -0.83920789 | 4.013527e-01 |\n",
       "| 191050163 | -1.21197720 | 2.255211e-01 |\n",
       "| 191633195 | -0.34960117 | 7.266380e-01 |\n",
       "| 192271927 |  2.26433371 | 2.355360e-02 |\n",
       "| 192440295 | -1.59585532 | 1.105211e-01 |\n",
       "| 193166524 |  1.56586199 | 1.173809e-01 |\n",
       "| 194189096 | -1.51484657 | 1.298113e-01 |\n",
       "| 194496559 | -0.30290982 | 7.619586e-01 |\n",
       "| 194643692 | -0.33558149 | 7.371865e-01 |\n",
       "| 196136755 |  0.25354653 | 7.998459e-01 |\n",
       "| 196295957 |  0.03399652 | 9.728799e-01 |\n",
       "| 196340120 |  2.63720478 | 8.359235e-03 |\n",
       "| 197931436 | -0.38701926 | 6.987419e-01 |\n",
       "\n"
      ],
      "text/plain": [
       "          z           p           \n",
       "3034705   -1.15439312 0.248339033 \n",
       "4636521   -0.41926932 0.675019316 \n",
       "5071620   -1.99854973 0.045657095 \n",
       "7066027            NA          NA \n",
       "9537755            NA          NA \n",
       "9589839   -0.52585038 0.598992165 \n",
       "9738134   -0.75316926 0.451348207 \n",
       "11196827  -0.07842617 0.937489061 \n",
       "12627094  -2.22166881 0.026305696 \n",
       "15088410   0.96833528 0.332876949 \n",
       "15641507  -0.52800199 0.597497954 \n",
       "15760317  -1.34829576 0.177563276 \n",
       "17058373   1.83400551 0.066653176 \n",
       "17474700  -1.48886876 0.136521930 \n",
       "17967178   2.64769944 0.008104154 \n",
       "20656633  -0.27927692 0.780032320 \n",
       "23090050  -1.61849962 0.105554969 \n",
       "25501528   1.69833913 0.089443773 \n",
       "26680581   1.00913707 0.312908903 \n",
       "27805167   2.13617091 0.032665486 \n",
       "30896015   0.42321452 0.672138754 \n",
       "32651648  -2.28418391 0.022360725 \n",
       "32731013   0.79895287 0.424317741 \n",
       "32918566   0.09286833 0.926008169 \n",
       "33026549   1.29561318 0.195108787 \n",
       "34326859   1.78913996 0.073592278 \n",
       "38166150   1.21601870 0.223977800 \n",
       "39603151   0.92091332 0.357095682 \n",
       "39667411   0.11060630 0.911928550 \n",
       "40458995  -1.19748172 0.231118848 \n",
       "⋮         ⋮           ⋮           \n",
       "177340908 -2.00594278 4.486235e-02\n",
       "177943380  1.30680531 1.912788e-01\n",
       "179778722 -1.12329640 2.613116e-01\n",
       "180631723  1.65906002 9.710370e-02\n",
       "180864008  4.60758466 4.073734e-06\n",
       "181082728 -7.21671110 5.325996e-13\n",
       "181756514  1.30251559 1.927402e-01\n",
       "183792586 -1.83656108 6.627472e-02\n",
       "183954241  0.33676878 7.362912e-01\n",
       "184073254  0.30632236 7.593592e-01\n",
       "184185876 -0.01025744 9.918159e-01\n",
       "185373573 -2.41748355 1.562824e-02\n",
       "185658353 -1.27187742 2.034167e-01\n",
       "185850012  2.32283969 2.018777e-02\n",
       "186779557  2.18433121 2.893792e-02\n",
       "186812005  0.02316578 9.815180e-01\n",
       "188028800 -1.59460039 1.108016e-01\n",
       "188287530 -0.83920789 4.013527e-01\n",
       "191050163 -1.21197720 2.255211e-01\n",
       "191633195 -0.34960117 7.266380e-01\n",
       "192271927  2.26433371 2.355360e-02\n",
       "192440295 -1.59585532 1.105211e-01\n",
       "193166524  1.56586199 1.173809e-01\n",
       "194189096 -1.51484657 1.298113e-01\n",
       "194496559 -0.30290982 7.619586e-01\n",
       "194643692 -0.33558149 7.371865e-01\n",
       "196136755  0.25354653 7.998459e-01\n",
       "196295957  0.03399652 9.728799e-01\n",
       "196340120  2.63720478 8.359235e-03\n",
       "197931436 -0.38701926 6.987419e-01"
      ]
     },
     "metadata": {},
     "output_type": "display_data"
    }
   ],
   "source": [
    "mwas.all.min"
   ]
  },
  {
   "cell_type": "code",
   "execution_count": 97,
   "id": "da310ebe-3fe8-45f4-b3e0-3482f4487c9a",
   "metadata": {},
   "outputs": [],
   "source": [
    "library(ggplot2)"
   ]
  },
  {
   "cell_type": "code",
   "execution_count": 98,
   "id": "ab9a8734-0620-4f60-977b-b41caa27b326",
   "metadata": {},
   "outputs": [],
   "source": [
    "mwas.all.1se <- as.data.frame(mwas.all.1se)\n",
    "mwas.all.min <- as.data.frame(mwas.all.min)\n",
    "\n",
    "mwas.all.1se$pos <- rownames(mwas.all.1se)\n",
    "mwas.all.min$pos <- rownames(mwas.all.min)\n",
    "\n",
    "rownames(mwas.all.1se) <- rownames(mwas.all.min) <- NULL\n",
    "\n",
    "colnames(mwas.all.1se)[2] <- \"pval.lambda.1se\"\n",
    "colnames(mwas.all.min)[2] <- \"pval.lambda.min\""
   ]
  },
  {
   "cell_type": "code",
   "execution_count": 99,
   "id": "9cf676cd-5989-49a3-88c4-e1955ea3f148",
   "metadata": {},
   "outputs": [],
   "source": [
    "df <- merge(mwas.all.1se, mwas.all.min, by = \"pos\")"
   ]
  },
  {
   "cell_type": "code",
   "execution_count": 100,
   "id": "9cd66104-5bfc-4669-8968-a1680b99a908",
   "metadata": {},
   "outputs": [
    {
     "name": "stderr",
     "output_type": "stream",
     "text": [
      "Warning message:\n",
      "“\u001b[1m\u001b[22mRemoved 4 rows containing missing values or values outside the scale range\n",
      "(`geom_point()`).”\n"
     ]
    },
    {
     "data": {
      "image/png": "[encoded data removed]",
      "text/plain": [
       "plot without title"
      ]
     },
     "metadata": {
      "image/png": {
       "height": 420,
       "width": 420
      }
     },
     "output_type": "display_data"
    }
   ],
   "source": [
    "ggplot(df, aes(x = log(pval.lambda.1se), y = log(pval.lambda.min))) +\n",
    "  geom_point(alpha = 0.6) +\n",
    "  labs(x = \"Log of p-values (lambda.1se)\",\n",
    "       y = \"Log of p-values (lambda.min)\",\n",
    "       title = \"Scattergram of MWAS p-values\",\n",
    "       subtitle = \"Comparing lambda.1se and lambda.min\") +\n",
    "  theme_minimal()"
   ]
  }
 ],
 "metadata": {
  "kernelspec": {
   "display_name": "R",
   "language": "R",
   "name": "ir"
  },
  "language_info": {
   "codemirror_mode": "r",
   "file_extension": ".r",
   "mimetype": "text/x-r-source",
   "name": "R",
   "pygments_lexer": "r",
   "version": "4.3.1"
  }
 },
 "nbformat": 4,
 "nbformat_minor": 5
}
