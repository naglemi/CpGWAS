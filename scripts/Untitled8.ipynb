{
 "cells": [
  {
   "cell_type": "markdown",
   "id": "277e1525-35f5-498d-bab4-6521e9995e0b",
   "metadata": {},
   "source": [
    "# Produce tables of stage 2 MWAS results"
   ]
  },
  {
   "cell_type": "code",
   "execution_count": 1,
   "id": "3f01d9f6-9527-4bb7-a413-391aadf7a686",
   "metadata": {},
   "outputs": [],
   "source": [
    "library(data.table)"
   ]
  },
  {
   "cell_type": "code",
   "execution_count": 2,
   "id": "8f45b9ea-1487-422f-ab80-ebee02588ea3",
   "metadata": {},
   "outputs": [
    {
     "data": {
      "text/html": [
       "'/expanse/lustre/projects/jhu152/naglemi/mwas/CpGWAS/scripts'"
      ],
      "text/latex": [
       "'/expanse/lustre/projects/jhu152/naglemi/mwas/CpGWAS/scripts'"
      ],
      "text/markdown": [
       "'/expanse/lustre/projects/jhu152/naglemi/mwas/CpGWAS/scripts'"
      ],
      "text/plain": [
       "[1] \"/expanse/lustre/projects/jhu152/naglemi/mwas/CpGWAS/scripts\""
      ]
     },
     "metadata": {},
     "output_type": "display_data"
    }
   ],
   "source": [
    "getwd()"
   ]
  },
  {
   "cell_type": "code",
   "execution_count": 3,
   "id": "1e58dbe5-8cd4-4378-9c17-686fbf5390d5",
   "metadata": {},
   "outputs": [],
   "source": [
    "df <- fread(\"12-OUT_matched_SNP_meth_cov_outputs.csv\")"
   ]
  },
  {
   "cell_type": "code",
   "execution_count": null,
   "id": "facd115b-5cb7-488c-8c4e-11d83b41b824",
   "metadata": {},
   "outputs": [],
   "source": [
    "library(data.table)\n",
    "library(ggplot2)\n",
    "\n",
    "traits <- c(\"bp\", \"mdd\", \"scz\")\n",
    "\n",
    "for (trait in traits) {\n",
    "  combined_data <- data.table()\n",
    "\n",
    "  df$stage2_path <- gsub(\".rds\", paste0(\"_gwas_stat_\", trait, \"_results.rds\"), df$path)\n",
    "\n",
    "  for (i in 1:nrow(df)) {\n",
    "    stage2_in <- readRDS(df$stage2_path[i])\n",
    "    stage1_in <- readRDS(df$path[i])\n",
    "\n",
    "    if (length(stage1_in@models) != length(stage2_in@MWASmodels)) {\n",
    "      stop(\"Files don't match\")\n",
    "    }\n",
    "\n",
    "    for (j in 1:length(stage1_in@models)) {\n",
    "      this_z <- stage2_in@MWASmodels[[j]]$z\n",
    "      this_p <- stage2_in@MWASmodels[[j]]$p\n",
    "      this_n <- stage2_in@MWASmodels[[j]]$n\n",
    "      this_pos <- stage1_in@models[[j]]@methylationPosition\n",
    "      this_stats <- stage2_in@summary_stats_path\n",
    "      this_scaff <- stage1_in@scaffoldIdentifier\n",
    "\n",
    "      combined_data <- rbind(combined_data, data.table(\n",
    "        z = this_z,\n",
    "        p = this_p,\n",
    "        n = this_n,\n",
    "        pos = this_pos,\n",
    "        stats = this_stats,\n",
    "        scaff = this_scaff\n",
    "      ), use.names = TRUE, fill = TRUE)\n",
    "    }\n",
    "  }\n",
    "\n",
    "  # Save the combined data.table for the current trait\n",
    "  fwrite(combined_data, paste0(\"16-OUT_stage2_MWAS_\", trait, \".csv\"))\n",
    "}\n"
   ]
  },
  {
   "cell_type": "code",
   "execution_count": 25,
   "id": "91177f99-d291-4530-8aed-653de372a7d8",
   "metadata": {},
   "outputs": [
    {
     "data": {
      "text/html": [
       "<strong>p:</strong> 0.982848981974366"
      ],
      "text/latex": [
       "\\textbf{p:} 0.982848981974366"
      ],
      "text/markdown": [
       "**p:** 0.982848981974366"
      ],
      "text/plain": [
       "       p \n",
       "0.982849 "
      ]
     },
     "metadata": {},
     "output_type": "display_data"
    }
   ],
   "source": [
    "this_p"
   ]
  },
  {
   "cell_type": "code",
   "execution_count": 26,
   "id": "76c5503d-f274-403f-a738-f3d234414bc2",
   "metadata": {},
   "outputs": [
    {
     "data": {
      "text/html": [
       "<strong>z:</strong> 0.021497269010823"
      ],
      "text/latex": [
       "\\textbf{z:} 0.021497269010823"
      ],
      "text/markdown": [
       "**z:** 0.021497269010823"
      ],
      "text/plain": [
       "         z \n",
       "0.02149727 "
      ]
     },
     "metadata": {},
     "output_type": "display_data"
    }
   ],
   "source": [
    "this_z"
   ]
  },
  {
   "cell_type": "code",
   "execution_count": null,
   "id": "c9320ccc-cffd-41c7-9e4b-705ec0c25c38",
   "metadata": {},
   "outputs": [],
   "source": [
    "this_ "
   ]
  },
  {
   "cell_type": "code",
   "execution_count": null,
   "id": "446e759d-5e1e-46aa-a5c2-3f48966e6b4c",
   "metadata": {},
   "outputs": [],
   "source": []
  }
 ],
 "metadata": {
  "kernelspec": {
   "display_name": "R",
   "language": "R",
   "name": "ir"
  },
  "language_info": {
   "codemirror_mode": "r",
   "file_extension": ".r",
   "mimetype": "text/x-r-source",
   "name": "R",
   "pygments_lexer": "r",
   "version": "4.3.1"
  }
 },
 "nbformat": 4,
 "nbformat_minor": 5
}
