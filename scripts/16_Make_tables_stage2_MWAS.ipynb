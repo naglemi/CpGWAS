{
 "cells": [
  {
   "cell_type": "markdown",
   "id": "277e1525-35f5-498d-bab4-6521e9995e0b",
   "metadata": {},
   "source": [
    "# Produce tables of stage 2 MWAS results"
   ]
  },
  {
   "cell_type": "code",
   "execution_count": 1,
   "id": "3f01d9f6-9527-4bb7-a413-391aadf7a686",
   "metadata": {},
   "outputs": [],
   "source": [
    "library(data.table)"
   ]
  },
  {
   "cell_type": "code",
   "execution_count": 2,
   "id": "8f45b9ea-1487-422f-ab80-ebee02588ea3",
   "metadata": {},
   "outputs": [
    {
     "data": {
      "text/html": [
       "'/expanse/lustre/projects/jhu152/naglemi/mwas/CpGWAS/scripts'"
      ],
      "text/latex": [
       "'/expanse/lustre/projects/jhu152/naglemi/mwas/CpGWAS/scripts'"
      ],
      "text/markdown": [
       "'/expanse/lustre/projects/jhu152/naglemi/mwas/CpGWAS/scripts'"
      ],
      "text/plain": [
       "[1] \"/expanse/lustre/projects/jhu152/naglemi/mwas/CpGWAS/scripts\""
      ]
     },
     "metadata": {},
     "output_type": "display_data"
    }
   ],
   "source": [
    "getwd()"
   ]
  },
  {
   "cell_type": "code",
   "execution_count": 3,
   "id": "1e58dbe5-8cd4-4378-9c17-686fbf5390d5",
   "metadata": {},
   "outputs": [],
   "source": [
    "df <- fread(\"12-OUT_matched_SNP_meth_cov_outputs.csv\")"
   ]
  },
  {
   "cell_type": "code",
   "execution_count": null,
   "id": "facd115b-5cb7-488c-8c4e-11d83b41b824",
   "metadata": {},
   "outputs": [],
   "source": [
    "import os\n",
    "import pandas as pd\n",
    "from rpy2.robjects import r, pandas2ri\n",
    "from rpy2.robjects.packages import importr\n",
    "from rpy2.robjects.methods import RS4\n",
    "\n",
    "# Enable the automatic conversion of pandas data frames to R data frames and vice versa\n",
    "pandas2ri.activate()\n",
    "\n",
    "# Import R packages\n",
    "base = importr('base')\n",
    "data_table = importr('data.table')\n",
    "readRDS = base.readRDS\n",
    "\n",
    "# Read the CSV file\n",
    "df = data_table.fread(\"12-OUT_matched_SNP_meth_cov_outputs.csv\").to_pandas()\n",
    "\n",
    "traits = [\"bp\", \"mdd\", \"scz\"]\n",
    "\n",
    "for trait in traits:\n",
    "    print(trait)\n",
    "    combined_data = []\n",
    "\n",
    "    df['stage2_path'] = df['path'].apply(lambda x: x.replace('.rds', f'_gwas_stat_{trait}_results.rds'))\n",
    "\n",
    "    for i in range(len(df)):\n",
    "        print(i)\n",
    "        stage2_in = readRDS(df.loc[i, 'stage2_path'])\n",
    "        stage1_in = readRDS(df.loc[i, 'path'])\n",
    "\n",
    "        if len(stage1_in.rx2('models')) != len(stage2_in.rx2('MWASmodels')):\n",
    "            raise ValueError(\"Files don't match\")\n",
    "\n",
    "        for j in range(len(stage1_in.rx2('models'))):\n",
    "            model1 = stage1_in.rx2('models')[j]\n",
    "            model2 = stage2_in.rx2('MWASmodels')[j]\n",
    "\n",
    "            this_z = model2.rx2('z')[0]\n",
    "            this_p = model2.rx2('p')[0]\n",
    "            this_n = model2.rx2('n')[0]\n",
    "            this_pos = model1.rx2('methylationPosition')[0]\n",
    "            this_stats = stage2_in.rx2('summary_stats_path')[0]\n",
    "            this_scaff = stage1_in.rx2('scaffoldIdentifier')[0]\n",
    "\n",
    "            combined_data.append({\n",
    "                'z': this_z,\n",
    "                'p': this_p,\n",
    "                'n': this_n,\n",
    "                'pos': this_pos,\n",
    "                'stats': this_stats,\n",
    "                'scaff': this_scaff\n",
    "            })\n",
    "\n",
    "    combined_df = pd.DataFrame(combined_data)\n",
    "    combined_df.to_csv(f\"16a3-OUT_stage2_MWAS_{trait}.csv\", index=False)\n"
   ]
  },
  {
   "cell_type": "code",
   "execution_count": null,
   "id": "91177f99-d291-4530-8aed-653de372a7d8",
   "metadata": {},
   "outputs": [],
   "source": [
    "this_p"
   ]
  },
  {
   "cell_type": "code",
   "execution_count": null,
   "id": "76c5503d-f274-403f-a738-f3d234414bc2",
   "metadata": {},
   "outputs": [],
   "source": [
    "this_z"
   ]
  },
  {
   "cell_type": "code",
   "execution_count": null,
   "id": "c9320ccc-cffd-41c7-9e4b-705ec0c25c38",
   "metadata": {},
   "outputs": [],
   "source": [
    "this_ "
   ]
  },
  {
   "cell_type": "code",
   "execution_count": null,
   "id": "446e759d-5e1e-46aa-a5c2-3f48966e6b4c",
   "metadata": {},
   "outputs": [],
   "source": []
  }
 ],
 "metadata": {
  "kernelspec": {
   "display_name": "R",
   "language": "R",
   "name": "ir"
  },
  "language_info": {
   "codemirror_mode": "r",
   "file_extension": ".r",
   "mimetype": "text/x-r-source",
   "name": "R",
   "pygments_lexer": "r",
   "version": "4.3.1"
  }
 },
 "nbformat": 4,
 "nbformat_minor": 5
}
