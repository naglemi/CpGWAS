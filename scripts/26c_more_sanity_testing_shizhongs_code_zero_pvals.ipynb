{
 "cells": [
  {
   "cell_type": "markdown",
   "id": "bf56f1cb-692a-4f54-b026-99e8075d50e8",
   "metadata": {},
   "source": [
    "# Compare MWAS methods for sanity tests and troubleshooting"
   ]
  },
  {
   "cell_type": "markdown",
   "id": "dc17d619-945e-4221-8ba7-c4c36fa56efe",
   "metadata": {},
   "source": [
    "In this version, we use the full new SNP set with a selected window"
   ]
  },
  {
   "cell_type": "markdown",
   "id": "ca2a80fb-d548-4157-b585-cd5cf6a471d2",
   "metadata": {},
   "source": [
    "## Be ready with matched up SNP and covariate files"
   ]
  },
  {
   "cell_type": "code",
   "execution_count": 1,
   "id": "1d0d53e3-618f-4b04-b2b6-ae27a7e4ef5c",
   "metadata": {},
   "outputs": [
    {
     "name": "stderr",
     "output_type": "stream",
     "text": [
      "Loading required package: Matrix\n",
      "\n",
      "Loaded glmnet 4.1-8\n",
      "\n",
      "Loading required package: foreach\n",
      "\n",
      "Loading required package: iterators\n",
      "\n",
      "Loading required package: parallel\n",
      "\n"
     ]
    }
   ],
   "source": [
    "library(\"glmnet\")\n",
    "library(\"e1071\")\n",
    "library(\"doParallel\")\n",
    "library(\"data.table\")"
   ]
  },
  {
   "cell_type": "code",
   "execution_count": 2,
   "id": "c6034757-2d3c-43d3-aa16-70baa5169549",
   "metadata": {},
   "outputs": [],
   "source": [
    "df <- fread(\"09-OUT_matched_SNP_meth_cov_a2.csv\")"
   ]
  },
  {
   "cell_type": "code",
   "execution_count": 3,
   "id": "9821a860-2a97-4a7b-bfca-6e8abd96bf8a",
   "metadata": {},
   "outputs": [],
   "source": [
    "df <- df[which(df$Chr == 1), ]"
   ]
  },
  {
   "cell_type": "code",
   "execution_count": 4,
   "id": "a023b2df-92e9-414d-a2e5-a8c6d3193954",
   "metadata": {},
   "outputs": [],
   "source": [
    "i <- 2"
   ]
  },
  {
   "cell_type": "code",
   "execution_count": 5,
   "id": "522b7988-f517-454d-90d5-4e6a51f49380",
   "metadata": {},
   "outputs": [
    {
     "data": {
      "text/html": [
       "<table class=\"dataframe\">\n",
       "<caption>A data.table: 1 × 15</caption>\n",
       "<thead>\n",
       "\t<tr><th scope=col>Chr</th><th scope=col>SNP_data</th><th scope=col>methylation_data</th><th scope=col>last_meth_value_with_SNP_coverage</th><th scope=col>first_meth_value_with_SNP_coverage</th><th scope=col>last_meth_index_with_SNP_coverage</th><th scope=col>first_meth_index_with_SNP_coverage</th><th scope=col>subpopulation</th><th scope=col>brain_region</th><th scope=col>population</th><th scope=col>region</th><th scope=col>cov_file</th><th scope=col>cov_file2</th><th scope=col>cov_file3</th><th scope=col>cov_file4</th></tr>\n",
       "\t<tr><th scope=col>&lt;int&gt;</th><th scope=col>&lt;chr&gt;</th><th scope=col>&lt;chr&gt;</th><th scope=col>&lt;int&gt;</th><th scope=col>&lt;int&gt;</th><th scope=col>&lt;int&gt;</th><th scope=col>&lt;int&gt;</th><th scope=col>&lt;chr&gt;</th><th scope=col>&lt;chr&gt;</th><th scope=col>&lt;chr&gt;</th><th scope=col>&lt;chr&gt;</th><th scope=col>&lt;chr&gt;</th><th scope=col>&lt;chr&gt;</th><th scope=col>&lt;chr&gt;</th><th scope=col>&lt;chr&gt;</th></tr>\n",
       "</thead>\n",
       "<tbody>\n",
       "\t<tr><td>1</td><td>/expanse/lustre/projects/jhu152/naglemi/mwas/gwas//libd_chr1.pgen</td><td>/expanse/lustre/projects/jhu152/naglemi/mwas/pheno/caud/out/chr1_AA.rda</td><td>248918358</td><td>1069461</td><td>2202702</td><td>8982</td><td>AA</td><td>caud</td><td>AA</td><td>caud</td><td>/expanse/lustre/projects/jhu152/naglemi/mwas/full_covariates_a2/AA_caud.csv</td><td>/expanse/lustre/projects/jhu152/naglemi/mwas/full_covariates_a2/AA_caud-no-meth.csv</td><td>/expanse/lustre/projects/jhu152/naglemi/mwas/full_covariates_a2/AA_caud-no-meth-no-dx.csv</td><td>/expanse/lustre/projects/jhu152/naglemi/mwas/full_covariates_a2/AA_caud-no-dx.csv</td></tr>\n",
       "</tbody>\n",
       "</table>\n"
      ],
      "text/latex": [
       "A data.table: 1 × 15\n",
       "\\begin{tabular}{lllllllllllllll}\n",
       " Chr & SNP\\_data & methylation\\_data & last\\_meth\\_value\\_with\\_SNP\\_coverage & first\\_meth\\_value\\_with\\_SNP\\_coverage & last\\_meth\\_index\\_with\\_SNP\\_coverage & first\\_meth\\_index\\_with\\_SNP\\_coverage & subpopulation & brain\\_region & population & region & cov\\_file & cov\\_file2 & cov\\_file3 & cov\\_file4\\\\\n",
       " <int> & <chr> & <chr> & <int> & <int> & <int> & <int> & <chr> & <chr> & <chr> & <chr> & <chr> & <chr> & <chr> & <chr>\\\\\n",
       "\\hline\n",
       "\t 1 & /expanse/lustre/projects/jhu152/naglemi/mwas/gwas//libd\\_chr1.pgen & /expanse/lustre/projects/jhu152/naglemi/mwas/pheno/caud/out/chr1\\_AA.rda & 248918358 & 1069461 & 2202702 & 8982 & AA & caud & AA & caud & /expanse/lustre/projects/jhu152/naglemi/mwas/full\\_covariates\\_a2/AA\\_caud.csv & /expanse/lustre/projects/jhu152/naglemi/mwas/full\\_covariates\\_a2/AA\\_caud-no-meth.csv & /expanse/lustre/projects/jhu152/naglemi/mwas/full\\_covariates\\_a2/AA\\_caud-no-meth-no-dx.csv & /expanse/lustre/projects/jhu152/naglemi/mwas/full\\_covariates\\_a2/AA\\_caud-no-dx.csv\\\\\n",
       "\\end{tabular}\n"
      ],
      "text/markdown": [
       "\n",
       "A data.table: 1 × 15\n",
       "\n",
       "| Chr &lt;int&gt; | SNP_data &lt;chr&gt; | methylation_data &lt;chr&gt; | last_meth_value_with_SNP_coverage &lt;int&gt; | first_meth_value_with_SNP_coverage &lt;int&gt; | last_meth_index_with_SNP_coverage &lt;int&gt; | first_meth_index_with_SNP_coverage &lt;int&gt; | subpopulation &lt;chr&gt; | brain_region &lt;chr&gt; | population &lt;chr&gt; | region &lt;chr&gt; | cov_file &lt;chr&gt; | cov_file2 &lt;chr&gt; | cov_file3 &lt;chr&gt; | cov_file4 &lt;chr&gt; |\n",
       "|---|---|---|---|---|---|---|---|---|---|---|---|---|---|---|\n",
       "| 1 | /expanse/lustre/projects/jhu152/naglemi/mwas/gwas//libd_chr1.pgen | /expanse/lustre/projects/jhu152/naglemi/mwas/pheno/caud/out/chr1_AA.rda | 248918358 | 1069461 | 2202702 | 8982 | AA | caud | AA | caud | /expanse/lustre/projects/jhu152/naglemi/mwas/full_covariates_a2/AA_caud.csv | /expanse/lustre/projects/jhu152/naglemi/mwas/full_covariates_a2/AA_caud-no-meth.csv | /expanse/lustre/projects/jhu152/naglemi/mwas/full_covariates_a2/AA_caud-no-meth-no-dx.csv | /expanse/lustre/projects/jhu152/naglemi/mwas/full_covariates_a2/AA_caud-no-dx.csv |\n",
       "\n"
      ],
      "text/plain": [
       "  Chr SNP_data                                                         \n",
       "1 1   /expanse/lustre/projects/jhu152/naglemi/mwas/gwas//libd_chr1.pgen\n",
       "  methylation_data                                                       \n",
       "1 /expanse/lustre/projects/jhu152/naglemi/mwas/pheno/caud/out/chr1_AA.rda\n",
       "  last_meth_value_with_SNP_coverage first_meth_value_with_SNP_coverage\n",
       "1 248918358                         1069461                           \n",
       "  last_meth_index_with_SNP_coverage first_meth_index_with_SNP_coverage\n",
       "1 2202702                           8982                              \n",
       "  subpopulation brain_region population region\n",
       "1 AA            caud         AA         caud  \n",
       "  cov_file                                                                   \n",
       "1 /expanse/lustre/projects/jhu152/naglemi/mwas/full_covariates_a2/AA_caud.csv\n",
       "  cov_file2                                                                          \n",
       "1 /expanse/lustre/projects/jhu152/naglemi/mwas/full_covariates_a2/AA_caud-no-meth.csv\n",
       "  cov_file3                                                                                \n",
       "1 /expanse/lustre/projects/jhu152/naglemi/mwas/full_covariates_a2/AA_caud-no-meth-no-dx.csv\n",
       "  cov_file4                                                                        \n",
       "1 /expanse/lustre/projects/jhu152/naglemi/mwas/full_covariates_a2/AA_caud-no-dx.csv"
      ]
     },
     "metadata": {},
     "output_type": "display_data"
    }
   ],
   "source": [
    "df[1, ]"
   ]
  },
  {
   "cell_type": "code",
   "execution_count": 6,
   "id": "22de2603-481a-4995-8991-1f6f64989e3d",
   "metadata": {},
   "outputs": [],
   "source": [
    "set.seed(2018)\n",
    "wind <- c(10000)\n",
    "# output directory\n",
    "#outd <- \"/dcl02/lieber/shan/shizhong/finemapping/GWAS/tags/scz3/mwas/chr22/1/\"\n",
    "outd <- \"20-OUT_original_mwas_sanity_test/\""
   ]
  },
  {
   "cell_type": "markdown",
   "id": "d7711c4d-5f19-4fd0-9f7b-891133ac3311",
   "metadata": {},
   "source": [
    "## Functions"
   ]
  },
  {
   "cell_type": "code",
   "execution_count": 7,
   "id": "a49af840-23bf-427c-93ef-2d1078b9b44b",
   "metadata": {},
   "outputs": [],
   "source": [
    "stage1_mwas <- function(map3, snp3, cg, wind, p.residual, lambda.type = \"min\") {\n",
    "    if (!lambda.type %in% c(\"min\", \"1se\")) {\n",
    "        stop(\"Invalid lambda type specified. Choose 'min' or '1se'.\")\n",
    "    }\n",
    "    \n",
    "    models.ea <- data.frame()\n",
    "    models.all <- data.frame()\n",
    "\n",
    "    for (k in 1:length(wind)) {\n",
    "        print(paste0(\"Processing window size: \", wind[k]))\n",
    "        \n",
    "        for (i in 1:length(cg)) {\n",
    "            cat(i, \"\\n\")\n",
    "            print(paste0(\"This cg is: \", cg[i]))\n",
    "\n",
    "            range1 <- ifelse(cg[i] - wind[k] > 0, cg[i] - wind[k], 0)\n",
    "            range2 <- cg[i] + wind[k]\n",
    "            idx <- map3$POS > range1 & map3$POS < range2\n",
    "\n",
    "            if (sum(idx) <= 1) next\n",
    "\n",
    "            geno <- snp3[idx,]\n",
    "            rownames(geno) <- map3$POS[idx]\n",
    "            trainX <- t(geno)\n",
    "            trainY <- p.residual[i,]\n",
    "\n",
    "            fit <- tryCatch({\n",
    "                elastic.net(trainX, trainY, lambda.type)\n",
    "            }, error = function(e) { return(NULL) })\n",
    "\n",
    "            if (is.null(fit) || nrow(fit) == 0) next\n",
    "\n",
    "            fit$cg <- cg[i]\n",
    "            models.all <- rbind(models.all, fit)\n",
    "\n",
    "            trainX <- trainX[idx.ea,]\n",
    "            if (sum(apply(trainX, 2, var) != 0) <= 1) next\n",
    "            trainY <- trainY[idx.ea]\n",
    "\n",
    "            fit <- tryCatch({\n",
    "                elastic.net(trainX, trainY, lambda.type)\n",
    "            }, error = function(e) { return(NULL) })\n",
    "\n",
    "            if (is.null(fit) || nrow(fit) == 0) next\n",
    "\n",
    "            fit$cg <- cg[i]\n",
    "            models.ea <- rbind(models.ea, fit)\n",
    "        }\n",
    "    }\n",
    "\n",
    "    results <- list(\n",
    "        all = models.all[models.all$features != \"(Intercept)\", , drop = FALSE],\n",
    "        ea = models.ea[models.ea$features != \"(Intercept)\", , drop = FALSE]\n",
    "    )\n",
    "\n",
    "    return(results)\n",
    "}\n"
   ]
  },
  {
   "cell_type": "code",
   "execution_count": 8,
   "id": "03e4446c-d86d-4fdf-be48-658b5b4dfc23",
   "metadata": {},
   "outputs": [],
   "source": [
    "# helper function to handle elastic net fitting\n",
    "elastic.net <- function(trainX, trainY, lambda.type) {\n",
    "    if (nrow(trainX) != length(trainY)) {\n",
    "        stop(\"number of observations does not match\")\n",
    "    }\n",
    "\n",
    "    set.seed(42)  # for reproducibility\n",
    "    cv.fit <- cv.glmnet(\n",
    "        trainX,\n",
    "        trainY,\n",
    "        nfold = 5,\n",
    "        type.measure = \"mse\",\n",
    "        parallel = TRUE,\n",
    "        alpha = 0.5\n",
    "    )\n",
    "\n",
    "    chosen.lambda <- if (lambda.type == \"min\") cv.fit$lambda.min else cv.fit$lambda.1se\n",
    "    yfit <- glmnet(trainX, trainY, lambda = chosen.lambda, alpha = 0.5)\n",
    "\n",
    "    if (any(coef(yfit) != 0)) {\n",
    "        coefs <- coef(yfit)\n",
    "        idx <- which(coefs != 0)\n",
    "        return(data.frame(\n",
    "            features = names(coefs[idx]),\n",
    "            coefs = coefs[idx]\n",
    "        ))\n",
    "    } else {\n",
    "        return(data.frame())\n",
    "    }\n",
    "}\n",
    "\n",
    "\n",
    "stage2_mwas <- function(results, snp.gwas2, map.1kg.eur2, outd) {\n",
    "    if (!dir.exists(outd)) {\n",
    "        dir.create(outd)\n",
    "    }\n",
    "\n",
    "    perform_mwas <- function(models, gwas_data, map_data) {\n",
    "        cg2 <- unique(models$cg)\n",
    "        mwas <- matrix(0, nrow = length(cg2), ncol = 2)\n",
    "        colnames(mwas) <- c(\"z\", \"p\")\n",
    "        rownames(mwas) <- cg2\n",
    "\n",
    "        for (i in seq_along(cg2)) {\n",
    "            pos <- models[models$cg == cg2[i], \"features\"]\n",
    "            gwas <- gwas_data$z[is.element(gwas_data$pos_hg38, pos)]\n",
    "            weight <- models[models$cg == cg2[i], \"coefs\"]\n",
    "            \n",
    "            match_indices <- match(pos, map_data$POS)\n",
    "            \n",
    "            if (any(is.na(match_indices))) {\n",
    "                cat(\"No match found for iteration\", i, \"\\n\")\n",
    "                cat(\"pos:\", pos, \"\\n\")\n",
    "                next\n",
    "            }\n",
    "\n",
    "            tryCatch({\n",
    "                geno <- map_data[match_indices, , drop = FALSE]\n",
    "                if (nrow(geno) == 0) {\n",
    "                    cat(\"Skipping iteration\", i, \": Genotype data 'geno' is empty for the given indices\\n\")\n",
    "                    next\n",
    "                }\n",
    "                if (is.null(dim(geno))) stop(\"Genotype data 'geno' has no dimensions\")\n",
    "                if (!is.numeric(geno)) {\n",
    "                    cat(\"Genotype data 'geno' class:\", class(geno), \"\\n\")\n",
    "                    cat(\"Genotype data 'geno' structure:\\n\")\n",
    "                    str(geno)\n",
    "                    stop(\"Genotype data 'geno' is not numeric\")\n",
    "                }\n",
    "                geno <- matrix(as.numeric(geno), nrow = nrow(geno), ncol = ncol(geno))\n",
    "                if (any(is.na(geno))) stop(\"Genotype data 'geno' contains NA values\")\n",
    "                if (!all(is.finite(geno))) stop(\"Genotype data 'geno' contains non-finite values\")\n",
    "                mwas[i, ] <- MWAS(gwas, weight, t(geno))\n",
    "            }, error = function(e) {\n",
    "                cat(\"Error accessing genotype data at iteration:\", i, \"\\n\")\n",
    "                cat(\"Error message:\", e$message, \"\\n\")\n",
    "                cat(\"match_indices:\", match_indices, \"\\n\")\n",
    "                stop(\"Stopping execution due to error.\")\n",
    "            })\n",
    "        }\n",
    "        return(mwas)\n",
    "    }\n",
    "\n",
    "    mwas.all <- perform_mwas(results$all, snp.gwas2, map.1kg.eur2)\n",
    "    mwas.ea <- perform_mwas(results$ea, snp.gwas2, map.1kg.eur2)\n",
    "\n",
    "    return(list(all = mwas.all, ea = mwas.ea))\n",
    "}\n",
    "\n"
   ]
  },
  {
   "cell_type": "code",
   "execution_count": 9,
   "id": "1c469a91-d06a-4abd-b72e-144cda1254c1",
   "metadata": {},
   "outputs": [],
   "source": [
    "MWAS <- function(gwas, weight, geno){\n",
    "        z <- gwas %*% weight\n",
    "        z.cor <- cor(geno)\n",
    "        se <- sqrt(weight %*%  z.cor %*%  weight)\n",
    "        z <- z/se\n",
    "        p=pnorm(abs(z),lower.tail=F)*2\n",
    "        return(c(z, p))\n",
    "}"
   ]
  },
  {
   "cell_type": "markdown",
   "id": "3a0ea432-3ac3-4077-ae61-c3a029004096",
   "metadata": {
    "jp-MarkdownHeadingCollapsed": true
   },
   "source": [
    "## Replace all old objects with new objects in same format"
   ]
  },
  {
   "cell_type": "markdown",
   "id": "18332543-6f7a-40d8-b894-9562a6ac7457",
   "metadata": {},
   "source": [
    "### Methylation data"
   ]
  },
  {
   "cell_type": "code",
   "execution_count": 10,
   "id": "f9b051aa-a1e5-421b-856d-718cf85c24a3",
   "metadata": {},
   "outputs": [
    {
     "name": "stderr",
     "output_type": "stream",
     "text": [
      "Loading required package: BiocGenerics\n",
      "\n",
      "\n",
      "Attaching package: ‘BiocGenerics’\n",
      "\n",
      "\n",
      "The following objects are masked from ‘package:stats’:\n",
      "\n",
      "    IQR, mad, sd, var, xtabs\n",
      "\n",
      "\n",
      "The following objects are masked from ‘package:base’:\n",
      "\n",
      "    anyDuplicated, aperm, append, as.data.frame, basename, cbind,\n",
      "    colnames, dirname, do.call, duplicated, eval, evalq, Filter, Find,\n",
      "    get, grep, grepl, intersect, is.unsorted, lapply, Map, mapply,\n",
      "    match, mget, order, paste, pmax, pmax.int, pmin, pmin.int,\n",
      "    Position, rank, rbind, Reduce, rownames, sapply, setdiff, sort,\n",
      "    table, tapply, union, unique, unsplit, which.max, which.min\n",
      "\n",
      "\n",
      "Loading required package: GenomicRanges\n",
      "\n",
      "Loading required package: stats4\n",
      "\n",
      "Loading required package: S4Vectors\n",
      "\n",
      "\n",
      "Attaching package: ‘S4Vectors’\n",
      "\n",
      "\n",
      "The following objects are masked from ‘package:data.table’:\n",
      "\n",
      "    first, second\n",
      "\n",
      "\n",
      "The following objects are masked from ‘package:Matrix’:\n",
      "\n",
      "    expand, unname\n",
      "\n",
      "\n",
      "The following object is masked from ‘package:utils’:\n",
      "\n",
      "    findMatches\n",
      "\n",
      "\n",
      "The following objects are masked from ‘package:base’:\n",
      "\n",
      "    expand.grid, I, unname\n",
      "\n",
      "\n",
      "Loading required package: IRanges\n",
      "\n",
      "\n",
      "Attaching package: ‘IRanges’\n",
      "\n",
      "\n",
      "The following object is masked from ‘package:data.table’:\n",
      "\n",
      "    shift\n",
      "\n",
      "\n",
      "Loading required package: GenomeInfoDb\n",
      "\n",
      "Loading required package: SummarizedExperiment\n",
      "\n",
      "Loading required package: MatrixGenerics\n",
      "\n",
      "Loading required package: matrixStats\n",
      "\n",
      "\n",
      "Attaching package: ‘MatrixGenerics’\n",
      "\n",
      "\n",
      "The following objects are masked from ‘package:matrixStats’:\n",
      "\n",
      "    colAlls, colAnyNAs, colAnys, colAvgsPerRowSet, colCollapse,\n",
      "    colCounts, colCummaxs, colCummins, colCumprods, colCumsums,\n",
      "    colDiffs, colIQRDiffs, colIQRs, colLogSumExps, colMadDiffs,\n",
      "    colMads, colMaxs, colMeans2, colMedians, colMins, colOrderStats,\n",
      "    colProds, colQuantiles, colRanges, colRanks, colSdDiffs, colSds,\n",
      "    colSums2, colTabulates, colVarDiffs, colVars, colWeightedMads,\n",
      "    colWeightedMeans, colWeightedMedians, colWeightedSds,\n",
      "    colWeightedVars, rowAlls, rowAnyNAs, rowAnys, rowAvgsPerColSet,\n",
      "    rowCollapse, rowCounts, rowCummaxs, rowCummins, rowCumprods,\n",
      "    rowCumsums, rowDiffs, rowIQRDiffs, rowIQRs, rowLogSumExps,\n",
      "    rowMadDiffs, rowMads, rowMaxs, rowMeans2, rowMedians, rowMins,\n",
      "    rowOrderStats, rowProds, rowQuantiles, rowRanges, rowRanks,\n",
      "    rowSdDiffs, rowSds, rowSums2, rowTabulates, rowVarDiffs, rowVars,\n",
      "    rowWeightedMads, rowWeightedMeans, rowWeightedMedians,\n",
      "    rowWeightedSds, rowWeightedVars\n",
      "\n",
      "\n",
      "Loading required package: Biobase\n",
      "\n",
      "Welcome to Bioconductor\n",
      "\n",
      "    Vignettes contain introductory material; view with\n",
      "    'browseVignettes()'. To cite Bioconductor, see\n",
      "    'citation(\"Biobase\")', and for packages 'citation(\"pkgname\")'.\n",
      "\n",
      "\n",
      "\n",
      "Attaching package: ‘Biobase’\n",
      "\n",
      "\n",
      "The following object is masked from ‘package:MatrixGenerics’:\n",
      "\n",
      "    rowMedians\n",
      "\n",
      "\n",
      "The following objects are masked from ‘package:matrixStats’:\n",
      "\n",
      "    anyMissing, rowMedians\n",
      "\n",
      "\n"
     ]
    }
   ],
   "source": [
    "suppressWarnings(library(bsseq))"
   ]
  },
  {
   "cell_type": "code",
   "execution_count": 11,
   "id": "8a871cb8-d71d-4f62-8d5e-70b79bb1c1c8",
   "metadata": {},
   "outputs": [],
   "source": [
    "# load data for mwas\n",
    "# load(\"./rda/caudate_mwas_data_chr22.rda\")\n",
    "load(df$methylation_data[i])\n",
    "\n",
    "p <- getMeth(BSobj2)\n",
    "\n",
    "\n",
    "rownames(p) <- start(BSobj2)\n",
    "\n",
    "sites_to_test_pos <- c(73274305, 73274312, 73292330, 73307769, 73308571, 73419188, 73419830, 73420076)\n",
    "sites_to_test <- which(start(BSobj2) %in% sites_to_test_pos)\n",
    "#sites_to_test <- c(73274305, 73274312, 73292330, 73307769, 73308571, 73419188, 73419830, 73420076)\n",
    "p <- p[sites_to_test, ]\n",
    "cg <- as.numeric(rownames(p))"
   ]
  },
  {
   "cell_type": "markdown",
   "id": "6063581e-a107-4977-93d7-836f1da57078",
   "metadata": {},
   "source": [
    "### covariates"
   ]
  },
  {
   "cell_type": "code",
   "execution_count": 12,
   "id": "cc499656-ec9a-45cd-ad05-b17e957eaaa6",
   "metadata": {},
   "outputs": [],
   "source": [
    "covs <- fread(df$cov_file[i])\n",
    "covs <- t(covs)\n",
    "colnames(covs) <- covs[1, ]\n",
    "covs <- covs[2:nrow(covs), ]\n",
    "# transpose so we have same orientation as original code"
   ]
  },
  {
   "cell_type": "markdown",
   "id": "72219907-d534-4523-a369-853077888b38",
   "metadata": {},
   "source": [
    "### Regress methylation data over covariates"
   ]
  },
  {
   "cell_type": "code",
   "execution_count": 13,
   "id": "85527835-9e3f-4ba9-a645-5330564e0b7c",
   "metadata": {},
   "outputs": [],
   "source": [
    "BSobj2$brnum <- gsub(\"Br0\", \"Br\", BSobj2$brnum)\n",
    "colnames(covs) <- gsub(\"Br0\", \"Br\", colnames(covs))"
   ]
  },
  {
   "cell_type": "code",
   "execution_count": 14,
   "id": "8899261b-73fb-430e-bcdb-143fc8f04670",
   "metadata": {},
   "outputs": [],
   "source": [
    "mat <- match(BSobj2$brnum,colnames(covs)) \n",
    "covs <- t(covs[,mat])\n",
    "p.residual=matrix(NA,dim(p)[1],dim(p)[2])"
   ]
  },
  {
   "cell_type": "code",
   "execution_count": 15,
   "id": "35031e54-4c54-4a37-9997-99b57efa86bf",
   "metadata": {},
   "outputs": [],
   "source": [
    "rownames(covs)[is.na(covs[, 'genoPC1'])] <- BSobj2$brnum[is.na(covs[, 'genoPC1'])]"
   ]
  },
  {
   "cell_type": "code",
   "execution_count": 16,
   "id": "70bda030-7a89-4dff-8c61-f576badfd8bd",
   "metadata": {},
   "outputs": [],
   "source": [
    "colnames(p.residual) <- BSobj2$brnum"
   ]
  },
  {
   "cell_type": "code",
   "execution_count": 17,
   "id": "78ee80f1-d9ea-46b0-b37a-dfeed3dbdf97",
   "metadata": {},
   "outputs": [],
   "source": [
    "covs <- as.data.frame(covs)\n",
    "# Convert all columns except Dx and Sex from character to numeric\n",
    "cols_to_convert <- setdiff(names(covs), c(\"Dx\", \"Sex\"))\n",
    "\n",
    "for (col in cols_to_convert) {\n",
    "  covs[[col]] <- as.numeric(covs[[col]])\n",
    "}\n",
    "\n",
    "# Print the modified data frame to check the conversion\n",
    "#print(dat)\n"
   ]
  },
  {
   "cell_type": "code",
   "execution_count": 18,
   "id": "db709d51-494c-431c-8327-9348dbf0419c",
   "metadata": {},
   "outputs": [],
   "source": [
    "for (i in 1:dim(p)[1]) { # For each methylation site\n",
    "    dat <- as.data.frame(cbind(y = p[i,], covs))\n",
    "    \n",
    "    # Check for rows with NAs (the ones for which we don't have covariate data)\n",
    "    valid_rows <- complete.cases(dat)\n",
    "    \n",
    "    if (sum(valid_rows) > 0) {\n",
    "        dat_valid <- dat[valid_rows,]\n",
    "        model.res <- lm(y ~ ., data = dat_valid)\n",
    "        \n",
    "        # Store residuals in the corresponding positions\n",
    "        p.residual[i, valid_rows] <- resid(model.res)\n",
    "    }\n",
    "}\n",
    "\n",
    "\n",
    "# for(i in 1:dim(p)[1]){ # foro each methylation site\n",
    "#         dat <- as.data.frame(cbind(p[i,],covs))\n",
    "#         colnames(dat) <- c(\"y\",paste0(\"x\",1:ncol(covs)))\n",
    "#         model.res <- lm(reformulate(paste0(\"x\",1:ncol(covs)), \"y\"),dat)\n",
    "#         p.residual[i,] = resid(model.res) \n",
    "# }"
   ]
  },
  {
   "cell_type": "code",
   "execution_count": null,
   "id": "4f866dd6-16c6-4803-9c21-c70e4b931e66",
   "metadata": {},
   "outputs": [],
   "source": []
  },
  {
   "cell_type": "code",
   "execution_count": 19,
   "id": "f4ad72db-fe27-4676-8da6-46222519a095",
   "metadata": {},
   "outputs": [],
   "source": [
    "snp.gwas2 <- NULL"
   ]
  },
  {
   "cell_type": "code",
   "execution_count": 20,
   "id": "744fc147-2638-4935-a805-68cb51852dd7",
   "metadata": {},
   "outputs": [],
   "source": [
    "load(\"p1.rda\")"
   ]
  },
  {
   "cell_type": "markdown",
   "id": "6f1649fc-72c8-4bcf-9cbc-587463117579",
   "metadata": {},
   "source": [
    "### summary stats"
   ]
  },
  {
   "cell_type": "code",
   "execution_count": 21,
   "id": "19d2a3db-0ed4-481f-b7d6-78d0ddbbb80f",
   "metadata": {},
   "outputs": [],
   "source": [
    "library(data.table)\n",
    "library(CpGWAS)"
   ]
  },
  {
   "cell_type": "code",
   "execution_count": 22,
   "id": "a5270235-a5a6-42d2-a654-ea30cb891279",
   "metadata": {},
   "outputs": [],
   "source": [
    "ss_path <- \"/home/naglemi/mwas/gwas/gwas_stat_scz\""
   ]
  },
  {
   "cell_type": "code",
   "execution_count": 23,
   "id": "203b45ea-44b4-4679-8b74-621f634db7dc",
   "metadata": {},
   "outputs": [],
   "source": [
    "snp.gwas2 <- fread(ss_path, skip = 1, header = FALSE)\n",
    "colnames(snp.gwas2) <- strsplit(readLines(ss_path, n = 1), \"\\t\")[[1]]"
   ]
  },
  {
   "cell_type": "code",
   "execution_count": 24,
   "id": "917f58c4-4ec5-47b8-bf3d-f0abcf86cf96",
   "metadata": {},
   "outputs": [],
   "source": [
    "snp.gwas2$z <- log(snp.gwas2$OR)/snp.gwas2$SE"
   ]
  },
  {
   "cell_type": "code",
   "execution_count": 25,
   "id": "6d87bed5-d32c-4264-b787-d738cd381454",
   "metadata": {},
   "outputs": [],
   "source": [
    "snp.gwas2 <- snp.gwas2[, c(2, 1, 3, 3, 8, 4, 5, 20, 11)]"
   ]
  },
  {
   "cell_type": "code",
   "execution_count": 26,
   "id": "3df5e4c7-01eb-475b-a931-1e088d109cdb",
   "metadata": {},
   "outputs": [
    {
     "data": {
      "text/html": [
       "<table class=\"dataframe\">\n",
       "<caption>A data.table: 1 × 9</caption>\n",
       "<thead>\n",
       "\t<tr><th scope=col>SNP</th><th scope=col>CHR</th><th scope=col>BP</th><th scope=col>BP</th><th scope=col>INFO</th><th scope=col>A1</th><th scope=col>A2</th><th scope=col>z</th><th scope=col>P</th></tr>\n",
       "\t<tr><th scope=col>&lt;chr&gt;</th><th scope=col>&lt;int&gt;</th><th scope=col>&lt;int&gt;</th><th scope=col>&lt;int&gt;</th><th scope=col>&lt;dbl&gt;</th><th scope=col>&lt;chr&gt;</th><th scope=col>&lt;chr&gt;</th><th scope=col>&lt;dbl&gt;</th><th scope=col>&lt;dbl&gt;</th></tr>\n",
       "</thead>\n",
       "<tbody>\n",
       "\t<tr><td>rs62513865</td><td>8</td><td>100579985</td><td>100579985</td><td>0.963</td><td>C</td><td>T</td><td>0.7016221</td><td>0.4847</td></tr>\n",
       "</tbody>\n",
       "</table>\n"
      ],
      "text/latex": [
       "A data.table: 1 × 9\n",
       "\\begin{tabular}{lllllllll}\n",
       " SNP & CHR & BP & BP & INFO & A1 & A2 & z & P\\\\\n",
       " <chr> & <int> & <int> & <int> & <dbl> & <chr> & <chr> & <dbl> & <dbl>\\\\\n",
       "\\hline\n",
       "\t rs62513865 & 8 & 100579985 & 100579985 & 0.963 & C & T & 0.7016221 & 0.4847\\\\\n",
       "\\end{tabular}\n"
      ],
      "text/markdown": [
       "\n",
       "A data.table: 1 × 9\n",
       "\n",
       "| SNP &lt;chr&gt; | CHR &lt;int&gt; | BP &lt;int&gt; | BP &lt;int&gt; | INFO &lt;dbl&gt; | A1 &lt;chr&gt; | A2 &lt;chr&gt; | z &lt;dbl&gt; | P &lt;dbl&gt; |\n",
       "|---|---|---|---|---|---|---|---|---|\n",
       "| rs62513865 | 8 | 100579985 | 100579985 | 0.963 | C | T | 0.7016221 | 0.4847 |\n",
       "\n"
      ],
      "text/plain": [
       "  SNP        CHR BP        BP        INFO  A1 A2 z         P     \n",
       "1 rs62513865 8   100579985 100579985 0.963 C  T  0.7016221 0.4847"
      ]
     },
     "metadata": {},
     "output_type": "display_data"
    }
   ],
   "source": [
    "head(snp.gwas2, n = 1)"
   ]
  },
  {
   "cell_type": "code",
   "execution_count": 27,
   "id": "a1b63fe0-6ff8-4982-92a5-7dd2a937b6f3",
   "metadata": {},
   "outputs": [],
   "source": [
    "colnames(snp.gwas2)[1:5] <- c(\"snp\", \"chr\", \"pos_hg38\", \"pos_hg38\", \"info\")"
   ]
  },
  {
   "cell_type": "code",
   "execution_count": 28,
   "id": "86716430-3d24-416b-922e-f7f8e007325d",
   "metadata": {},
   "outputs": [],
   "source": [
    "snp.gwas2 <- snp.gwas2[which(snp.gwas2$chr == 1 & snp.gwas2$pos_hg38 >= (73274305-10000) & snp.gwas2$pos_hg38 <= (73419830 + 10000)), ]"
   ]
  },
  {
   "cell_type": "code",
   "execution_count": 29,
   "id": "6dfba3a8-0775-4f8c-92d2-3c9c32a36945",
   "metadata": {},
   "outputs": [],
   "source": [
    "snp.gwas2 <- snp.gwas2[order(snp.gwas2$pos_hg38), ]"
   ]
  },
  {
   "cell_type": "code",
   "execution_count": 30,
   "id": "4714a813-116f-4567-a6b1-41bb02df8227",
   "metadata": {},
   "outputs": [],
   "source": [
    "# built predition models\n",
    "idx.ea <- BSobj2$race == \"CAUC\""
   ]
  },
  {
   "cell_type": "markdown",
   "id": "9700ca92-911f-4aa6-a557-789f202994b1",
   "metadata": {},
   "source": [
    "### SNPs in LIBD population"
   ]
  },
  {
   "cell_type": "markdown",
   "id": "6c305c43-74d5-42df-8039-b20adbbed9cd",
   "metadata": {},
   "source": [
    "#### For reference, first load Shizhong's formatted SNPs on Chr7"
   ]
  },
  {
   "cell_type": "code",
   "execution_count": 31,
   "id": "c03876a6-b33a-4f42-af8d-25c93233dee2",
   "metadata": {},
   "outputs": [],
   "source": [
    "snp2_sorted <- snp2[, order(names(snp2))]"
   ]
  },
  {
   "cell_type": "code",
   "execution_count": 32,
   "id": "f24d0fef-0977-4f61-9c6d-a401efb46469",
   "metadata": {},
   "outputs": [],
   "source": [
    "colnames(snp2) <- gsub(\"Br0\", \"Br\", colnames(snp2))"
   ]
  },
  {
   "cell_type": "code",
   "execution_count": 33,
   "id": "84f086ad-bf9a-4002-9fd0-822cef73679b",
   "metadata": {},
   "outputs": [],
   "source": [
    "snp2 <- snp2[, colnames(snp2) %in% colnames(p.residual)]"
   ]
  },
  {
   "cell_type": "code",
   "execution_count": 34,
   "id": "87fd1318-bcea-4a94-9b53-2361257d86bb",
   "metadata": {},
   "outputs": [],
   "source": [
    "snp2_positions <- stringr::str_split_fixed(rownames(snp2), \":\", 3)[, 2]"
   ]
  },
  {
   "cell_type": "markdown",
   "id": "64e0f588-fc43-4f4a-aba6-911d037e9ead",
   "metadata": {},
   "source": [
    "#### Now let's load ours on Chr1"
   ]
  },
  {
   "cell_type": "code",
   "execution_count": 35,
   "id": "04b0b495-749b-42fa-a4ce-2d7f14f0a053",
   "metadata": {},
   "outputs": [],
   "source": [
    "paths <- list(pvar_path = \"/expanse/lustre/projects/jhu152/naglemi/mwas/gwas/libd_chr1.pvar\",\n",
    "              pgen_path = \"/expanse/lustre/projects/jhu152/naglemi/mwas/gwas/libd_chr1.pgen\",\n",
    "              psam_path = \"/expanse/lustre/projects/jhu152/naglemi/mwas/gwas/libd_chr1.psam\")\n",
    "\n",
    "my_SNPs <- loadSNPData(paths$pvar_path, paths$pgen_path, paths$psam_path)"
   ]
  },
  {
   "cell_type": "code",
   "execution_count": 36,
   "id": "1dd4ef47-2a68-4f01-a0e5-03efd6732c4a",
   "metadata": {},
   "outputs": [],
   "source": [
    "snp_indices_of_interest <- which(my_SNPs$pvar_dt$POS >= 73274305-10000 & my_SNPs$pvar_dt$POS <= 73419830 + 10000)"
   ]
  },
  {
   "cell_type": "code",
   "execution_count": 37,
   "id": "67aa0c72-53e2-40ef-8d97-9621bdd799ea",
   "metadata": {},
   "outputs": [],
   "source": [
    "snp3 <- pgenlibr::ReadList(my_SNPs$pgen,\n",
    "                        variant_subset = snp_indices_of_interest)\n",
    "colnames(snp3) <- my_SNPs$pvar_dt$ID[snp_indices_of_interest]\n",
    "rownames(snp3) <- my_SNPs$psam$`#IID`"
   ]
  },
  {
   "cell_type": "code",
   "execution_count": 38,
   "id": "7a35ed6c-92ba-44b3-840e-ffc621828872",
   "metadata": {},
   "outputs": [],
   "source": [
    "map3 <- data.frame(POS = stringr::str_split_fixed(colnames(snp3), \":\", 3)[, 2])"
   ]
  },
  {
   "cell_type": "code",
   "execution_count": 39,
   "id": "ca549289-47f4-444b-b3e8-7d8a39c2e33f",
   "metadata": {},
   "outputs": [],
   "source": [
    "snp3 <- t(snp3)"
   ]
  },
  {
   "cell_type": "code",
   "execution_count": 40,
   "id": "191b05e4-0107-4059-887e-bd3f2cafde0f",
   "metadata": {},
   "outputs": [],
   "source": [
    "map3 <- data.frame(POS = stringr::str_split_fixed(rownames(snp3), \":\", 3)[, 2])"
   ]
  },
  {
   "cell_type": "code",
   "execution_count": 41,
   "id": "4e17a504-e98e-4d5e-bc59-3fd09faf3de8",
   "metadata": {},
   "outputs": [
    {
     "data": {
      "text/html": [
       "<style>\n",
       ".list-inline {list-style: none; margin:0; padding: 0}\n",
       ".list-inline>li {display: inline-block}\n",
       ".list-inline>li:not(:last-child)::after {content: \"\\00b7\"; padding: 0 .5ex}\n",
       "</style>\n",
       "<ol class=list-inline><li>321</li><li>1</li></ol>\n"
      ],
      "text/latex": [
       "\\begin{enumerate*}\n",
       "\\item 321\n",
       "\\item 1\n",
       "\\end{enumerate*}\n"
      ],
      "text/markdown": [
       "1. 321\n",
       "2. 1\n",
       "\n",
       "\n"
      ],
      "text/plain": [
       "[1] 321   1"
      ]
     },
     "metadata": {},
     "output_type": "display_data"
    }
   ],
   "source": [
    "dim(map3)"
   ]
  },
  {
   "cell_type": "markdown",
   "id": "d0fb3ea3-0f60-4a62-b787-66185fc8e792",
   "metadata": {},
   "source": [
    "### SNPs in reference population"
   ]
  },
  {
   "cell_type": "code",
   "execution_count": 42,
   "id": "00b33368-a3ec-4788-8b82-519e1fbd5e95",
   "metadata": {},
   "outputs": [],
   "source": [
    "#snp.1kg.eur2"
   ]
  },
  {
   "cell_type": "code",
   "execution_count": 43,
   "id": "99022f2f-c9b9-47db-a5af-b2d7ba0ded99",
   "metadata": {},
   "outputs": [],
   "source": [
    "paths <- list(pvar_path = \"/expanse/lustre/projects/jhu152/naglemi/mwas/gwas/ref_EUR_chr1.pvar\",\n",
    "              pgen_path = \"/expanse/lustre/projects/jhu152/naglemi/mwas/gwas/ref_EUR_chr1.pgen\",\n",
    "              psam_path = \"/expanse/lustre/projects/jhu152/naglemi/mwas/gwas/ref_EUR_chr1.psam\")\n",
    "\n",
    "my_SNPs <- loadSNPData(paths$pvar_path, paths$pgen_path, paths$psam_path)"
   ]
  },
  {
   "cell_type": "code",
   "execution_count": 44,
   "id": "90b30176-0532-45a1-bf5e-17e207bb61d5",
   "metadata": {},
   "outputs": [],
   "source": [
    "snp_indices_of_interest <- which(my_SNPs$pvar_dt$POS >= 73274305-10000 & my_SNPs$pvar_dt$POS <= 73419830 + 10000)"
   ]
  },
  {
   "cell_type": "code",
   "execution_count": 45,
   "id": "85f427f7-e4d3-4ba6-ad1a-a2691f68346e",
   "metadata": {},
   "outputs": [],
   "source": [
    "snp.1kg.eur2 <- pgenlibr::ReadList(my_SNPs$pgen,\n",
    "                        variant_subset = snp_indices_of_interest)\n",
    "colnames(snp.1kg.eur2) <- my_SNPs$pvar_dt$ID[snp_indices_of_interest]\n",
    "rownames(snp.1kg.eur2) <- my_SNPs$psam$`IID`"
   ]
  },
  {
   "cell_type": "code",
   "execution_count": 46,
   "id": "38d80ac5-91d5-4766-8953-fe93f6de6a34",
   "metadata": {},
   "outputs": [],
   "source": [
    "map.1kg.eur2 <- my_SNPs$pvar_dt"
   ]
  },
  {
   "cell_type": "code",
   "execution_count": 47,
   "id": "a9650fe9-2483-4bf0-95d3-0102b90465f2",
   "metadata": {},
   "outputs": [],
   "source": [
    "map.1kg.eur2 <- map.1kg.eur2[snp_indices_of_interest, ]"
   ]
  },
  {
   "cell_type": "code",
   "execution_count": 48,
   "id": "f6f5d1f5-0681-4825-bfa7-79d3ace6f004",
   "metadata": {},
   "outputs": [],
   "source": [
    "snp.1kg.eur2 <- t(snp.1kg.eur2)"
   ]
  },
  {
   "cell_type": "markdown",
   "id": "882a7c0a-0ec2-4aa2-be3c-a2f152126bd8",
   "metadata": {},
   "source": [
    "### Set window size and any other parameters"
   ]
  },
  {
   "cell_type": "code",
   "execution_count": 49,
   "id": "461263e5-8c47-40ae-b3e4-03dbea4820e8",
   "metadata": {},
   "outputs": [],
   "source": [
    "wind <- 10000"
   ]
  },
  {
   "cell_type": "markdown",
   "id": "0849e5e3-af47-480f-82ca-97b07d1dd943",
   "metadata": {},
   "source": [
    "Is 1se vs min for lambda the problem?"
   ]
  },
  {
   "cell_type": "markdown",
   "id": "b0244eba-060a-4ac3-966c-cb68deb41cb0",
   "metadata": {},
   "source": [
    "#### Final formatting steps to prepare for MWAS - sort samples"
   ]
  },
  {
   "cell_type": "code",
   "execution_count": 50,
   "id": "f41f9c4d-1489-45a4-ad25-d446a05980bf",
   "metadata": {},
   "outputs": [],
   "source": [
    "p.residual <- p.residual[, order(colnames(p.residual))]"
   ]
  },
  {
   "cell_type": "code",
   "execution_count": 51,
   "id": "65857cda-1517-4854-a1e1-5af6459cbdca",
   "metadata": {},
   "outputs": [],
   "source": [
    "snp3 <- snp3[, colnames(snp3) %in% colnames(p.residual)]"
   ]
  },
  {
   "cell_type": "code",
   "execution_count": 52,
   "id": "7ab51668-a9da-4913-a8ee-41aa0d49550e",
   "metadata": {},
   "outputs": [],
   "source": [
    "snp3 <- snp3[, order(colnames(snp3))]"
   ]
  },
  {
   "cell_type": "markdown",
   "id": "768cf092-82d8-46e6-b322-efd6e09bbb73",
   "metadata": {},
   "source": [
    "## MWAS"
   ]
  },
  {
   "cell_type": "markdown",
   "id": "c3720675-e92d-46ee-b5a6-66d71d367dc4",
   "metadata": {},
   "source": [
    "### With `lambda.min`"
   ]
  },
  {
   "cell_type": "code",
   "execution_count": 53,
   "id": "341677ad-f3a4-490c-a1f7-d9b8295d6092",
   "metadata": {},
   "outputs": [
    {
     "name": "stdout",
     "output_type": "stream",
     "text": [
      "[1] \"Processing window size: 10000\"\n",
      "1 \n",
      "[1] \"This cg is: 73274305\"\n"
     ]
    },
    {
     "name": "stderr",
     "output_type": "stream",
     "text": [
      "Warning message:\n",
      "“executing %dopar% sequentially: no parallel backend registered”\n"
     ]
    },
    {
     "name": "stdout",
     "output_type": "stream",
     "text": [
      "2 \n",
      "[1] \"This cg is: 73274312\"\n",
      "3 \n",
      "[1] \"This cg is: 73292330\"\n",
      "4 \n",
      "[1] \"This cg is: 73307769\"\n",
      "5 \n",
      "[1] \"This cg is: 73308571\"\n",
      "6 \n",
      "[1] \"This cg is: 73419188\"\n",
      "7 \n",
      "[1] \"This cg is: 73419830\"\n",
      "8 \n",
      "[1] \"This cg is: 73420076\"\n",
      "[1] \"MWAS results for all samples:\"\n",
      "     z p\n"
     ]
    }
   ],
   "source": [
    "lambda_type_selected <- \"min\"  # or \"1se\" depending on your preference\n",
    "\n",
    "# Call the stage1_mwas function with the required parameters\n",
    "results <- stage1_mwas(map3, snp3, cg, wind, p.residual, lambda_type_selected)\n",
    "\n",
    "# Call to stage2_mwas using the results from stage1\n",
    "processed_results <- stage2_mwas(results, snp.gwas2, map.1kg.eur2, \"26C-OUT_sanity-testing\")\n",
    "\n",
    "# Access the MWAS results for all samples\n",
    "mwas_all_results <- processed_results$all\n",
    "print(\"MWAS results for all samples:\")\n",
    "print(mwas_all_results)"
   ]
  },
  {
   "cell_type": "code",
   "execution_count": 54,
   "id": "871159d3-c7e6-4841-9708-e9e59a48cc86",
   "metadata": {},
   "outputs": [
    {
     "data": {
      "text/html": [
       "<style>\n",
       ".list-inline {list-style: none; margin:0; padding: 0}\n",
       ".list-inline>li {display: inline-block}\n",
       ".list-inline>li:not(:last-child)::after {content: \"\\00b7\"; padding: 0 .5ex}\n",
       "</style>\n",
       "<ol class=list-inline><li>0</li><li>2</li></ol>\n"
      ],
      "text/latex": [
       "\\begin{enumerate*}\n",
       "\\item 0\n",
       "\\item 2\n",
       "\\end{enumerate*}\n"
      ],
      "text/markdown": [
       "1. 0\n",
       "2. 2\n",
       "\n",
       "\n"
      ],
      "text/plain": [
       "[1] 0 2"
      ]
     },
     "metadata": {},
     "output_type": "display_data"
    }
   ],
   "source": [
    "dim(mwas_all_results)"
   ]
  },
  {
   "cell_type": "markdown",
   "id": "8e95a9ed-991c-4faa-a5f5-7a8c9e98f162",
   "metadata": {},
   "source": [
    "### Same thing with `lambda.1se`"
   ]
  },
  {
   "cell_type": "code",
   "execution_count": 55,
   "id": "2850e6ed-75e7-494a-8d8e-c755fd00cd9c",
   "metadata": {},
   "outputs": [
    {
     "name": "stdout",
     "output_type": "stream",
     "text": [
      "[1] \"Processing window size: 10000\"\n",
      "1 \n",
      "[1] \"This cg is: 73274305\"\n",
      "2 \n",
      "[1] \"This cg is: 73274312\"\n",
      "3 \n",
      "[1] \"This cg is: 73292330\"\n",
      "4 \n",
      "[1] \"This cg is: 73307769\"\n",
      "5 \n",
      "[1] \"This cg is: 73308571\"\n",
      "6 \n",
      "[1] \"This cg is: 73419188\"\n",
      "7 \n",
      "[1] \"This cg is: 73419830\"\n",
      "8 \n",
      "[1] \"This cg is: 73420076\"\n"
     ]
    },
    {
     "ename": "ERROR",
     "evalue": "Error in eval(expr, envir, enclos): object 'models.ea' not found\n",
     "output_type": "error",
     "traceback": [
      "Error in eval(expr, envir, enclos): object 'models.ea' not found\nTraceback:\n"
     ]
    }
   ],
   "source": [
    "lambda_type_selected <- \"1se\"  # or \"1se\" depending on your preference\n",
    "\n",
    "# Call the stage1_mwas function with the required parameters\n",
    "results <- stage1_mwas(map3, snp3, cg, wind, p.residual, lambda_type_selected)\n",
    "\n",
    "models.ea <- models.ea[models.ea[,1] != \"(Intercept)\",]\n",
    "models.all <- models.all[models.all[,1] != \"(Intercept)\",]\n",
    "\n",
    "# Call to stage2_mwas using the results from stage1\n",
    "processed_results <- stage2_mwas(results, snp.gwas2, map.1kg.eur2, \"path/to/output/directory\")\n",
    "\n",
    "# Access the MWAS results for all samples\n",
    "mwas_all_results <- processed_results$all\n",
    "print(\"MWAS results for all samples:\")\n",
    "print(mwas_all_results)"
   ]
  }
 ],
 "metadata": {
  "kernelspec": {
   "display_name": "R",
   "language": "R",
   "name": "ir"
  },
  "language_info": {
   "codemirror_mode": "r",
   "file_extension": ".r",
   "mimetype": "text/x-r-source",
   "name": "R",
   "pygments_lexer": "r",
   "version": "4.3.1"
  }
 },
 "nbformat": 4,
 "nbformat_minor": 5
}
