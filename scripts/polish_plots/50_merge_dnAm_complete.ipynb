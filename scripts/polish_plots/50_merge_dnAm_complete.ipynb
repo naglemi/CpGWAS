{
 "cells": [
  {
   "cell_type": "markdown",
   "id": "938fdacd-bd58-4d84-9a3a-dc551bf252a4",
   "metadata": {},
   "source": [
    "# Merge dnAm data"
   ]
  },
  {
   "cell_type": "code",
   "execution_count": 2,
   "id": "ea248e6d-55c3-4025-b02a-5ddac41afe66",
   "metadata": {},
   "outputs": [],
   "source": [
    "\n",
    "# Define the path to the DNA methylation data directory\n",
    "dnAm_dir <- \"/dcs05/lieber/hanlab/mnagle/mwas/CpGWAS/scripts/aggregated_DNAm_data\"  # Update if necessary"
   ]
  },
  {
   "cell_type": "code",
   "execution_count": 3,
   "id": "a6ffa953-3465-4963-a492-b4aec44809b5",
   "metadata": {},
   "outputs": [
    {
     "data": {
      "text/html": [
       "<style>\n",
       ".list-inline {list-style: none; margin:0; padding: 0}\n",
       ".list-inline>li {display: inline-block}\n",
       ".list-inline>li:not(:last-child)::after {content: \"\\00b7\"; padding: 0 .5ex}\n",
       "</style>\n",
       "<ol class=list-inline><li>'DNAm_meanvar_AA_caud_20241030095211_1166.csv'</li><li>'DNAm_meanvar_AA_dlpfc_20241030095211_1166.csv'</li><li>'DNAm_meanvar_AA_hippo_20241030095211_1166.csv'</li><li>'DNAm_meanvar_all_caud_20241030095211_1166.csv'</li><li>'DNAm_meanvar_all_dlpfc_20241030095211_1166.csv'</li><li>'DNAm_meanvar_all_hippo_20241030095211_1166.csv'</li></ol>\n"
      ],
      "text/latex": [
       "\\begin{enumerate*}\n",
       "\\item 'DNAm\\_meanvar\\_AA\\_caud\\_20241030095211\\_1166.csv'\n",
       "\\item 'DNAm\\_meanvar\\_AA\\_dlpfc\\_20241030095211\\_1166.csv'\n",
       "\\item 'DNAm\\_meanvar\\_AA\\_hippo\\_20241030095211\\_1166.csv'\n",
       "\\item 'DNAm\\_meanvar\\_all\\_caud\\_20241030095211\\_1166.csv'\n",
       "\\item 'DNAm\\_meanvar\\_all\\_dlpfc\\_20241030095211\\_1166.csv'\n",
       "\\item 'DNAm\\_meanvar\\_all\\_hippo\\_20241030095211\\_1166.csv'\n",
       "\\end{enumerate*}\n"
      ],
      "text/markdown": [
       "1. 'DNAm_meanvar_AA_caud_20241030095211_1166.csv'\n",
       "2. 'DNAm_meanvar_AA_dlpfc_20241030095211_1166.csv'\n",
       "3. 'DNAm_meanvar_AA_hippo_20241030095211_1166.csv'\n",
       "4. 'DNAm_meanvar_all_caud_20241030095211_1166.csv'\n",
       "5. 'DNAm_meanvar_all_dlpfc_20241030095211_1166.csv'\n",
       "6. 'DNAm_meanvar_all_hippo_20241030095211_1166.csv'\n",
       "\n",
       "\n"
      ],
      "text/plain": [
       "[1] \"DNAm_meanvar_AA_caud_20241030095211_1166.csv\"  \n",
       "[2] \"DNAm_meanvar_AA_dlpfc_20241030095211_1166.csv\" \n",
       "[3] \"DNAm_meanvar_AA_hippo_20241030095211_1166.csv\" \n",
       "[4] \"DNAm_meanvar_all_caud_20241030095211_1166.csv\" \n",
       "[5] \"DNAm_meanvar_all_dlpfc_20241030095211_1166.csv\"\n",
       "[6] \"DNAm_meanvar_all_hippo_20241030095211_1166.csv\""
      ]
     },
     "metadata": {},
     "output_type": "display_data"
    }
   ],
   "source": [
    "head(list.files(dnAm_dir))"
   ]
  },
  {
   "cell_type": "code",
   "execution_count": null,
   "id": "8693b72a-7d11-487f-8c0f-86afce191ac2",
   "metadata": {},
   "outputs": [],
   "source": [
    "# Check if the directory exists\n",
    "if(!dir.exists(dnAm_dir)){\n",
    "  stop(paste(\"DNA methylation data directory not found at path:\", dnAm_dir))\n",
    "}\n",
    "\n",
    "# List all CSV files ending with '1166.csv'\n",
    "dnAm_files <- list.files(dnAm_dir, pattern = \"1166\\\\.csv$\", full.names = TRUE)\n",
    "\n",
    "# Print the DNA methylation files found\n",
    "log_message(\"DNA Methylation Files Found:\")\n",
    "cat(paste(dnAm_files, collapse = \"\\n\"), \"\\n\\n\")\n",
    "\n",
    "# Initialize a list to store DNA methylation data\n",
    "dnAm_list <- list()\n",
    "\n",
    "# Loop through each DNA methylation file to load\n",
    "for(file in dnAm_files){\n",
    "  \n",
    "  log_message(paste(\"Loading DNA methylation file:\", basename(file)))\n",
    "  \n",
    "  dnAm_dt <- tryCatch({\n",
    "    fread(file)\n",
    "  }, error = function(e){\n",
    "    stop(paste(\"Failed to read DNA methylation file:\", file, \"\\nError:\", e$message))\n",
    "  })\n",
    "  \n",
    "  # Extract population and region from the filename\n",
    "  # Assuming filename format: DNAm_meanvar_<Population>_<Region>_20241030095211_1166.csv\n",
    "  file_base <- basename(file)\n",
    "  pattern <- \"DNAm_meanvar_(AA|EA|all)_(caud|hippo|dlpfc)_.*\\\\.csv$\"\n",
    "  matches <- regexec(pattern, file_base)\n",
    "  match <- regmatches(file_base, matches)[[1]]\n",
    "  \n",
    "  if(length(match) == 0){\n",
    "    warning(paste(\"Filename does not match expected pattern:\", file_base))\n",
    "    next\n",
    "  }\n",
    "  \n",
    "  population <- match[2]\n",
    "  region <- match[3]\n",
    "  \n",
    "  # Define new column names explicitly\n",
    "  new_cor_name <- paste0(population, \"_\", region, \"_cor\")\n",
    "  new_mean_name <- paste0(population, \"_\", region, \"_Mean_DNAm_Level\")\n",
    "  new_var_name <- paste0(population, \"_\", region, \"_Var_DNAm_Level\")\n",
    "  \n",
    "  # Rename columns explicitly\n",
    "  setnames(dnAm_dt, old = c(\"cor\", \"Mean_DNAm_Level\", \"Var_DNAm_Level\"),\n",
    "           new = c(new_cor_name, new_mean_name, new_var_name))\n",
    "  \n",
    "  # Keep only the relevant columns\n",
    "  dnAm_dt <- dnAm_dt[, c(\"chr\", \"cg\", new_cor_name, new_mean_name, new_var_name), with = FALSE]\n",
    "  \n",
    "  # Store in the list\n",
    "  dnAm_list[[paste0(population, \"_\", region)]] <- dnAm_dt\n",
    "  \n",
    "  log_message(paste(\"Loaded and processed DNA methylation data for\", population, region, \"\\n\"))\n",
    "}\n",
    "\n",
    "# Combine all DNA methylation data\n",
    "if(length(dnAm_list) > 0){\n",
    "  dnAm_combined <- tryCatch({\n",
    "    Reduce(function(x, y) merge(x, y, by = c(\"chr\", \"cg\"), all = TRUE), dnAm_list)\n",
    "  }, error = function(e){\n",
    "    stop(paste(\"Failed to combine DNA methylation data.\\nError:\", e$message))\n",
    "  })\n",
    "  \n",
    "  log_message(\"Combined DNA methylation data:\")\n",
    "  print(head(dnAm_combined, 5))\n",
    "} else {\n",
    "  dnAm_combined <- NULL\n",
    "  warning(\"No DNA methylation data to combine.\")\n",
    "}"
   ]
  }
 ],
 "metadata": {
  "kernelspec": {
   "display_name": "R",
   "language": "R",
   "name": "ir"
  },
  "language_info": {
   "codemirror_mode": "r",
   "file_extension": ".r",
   "mimetype": "text/x-r-source",
   "name": "R",
   "pygments_lexer": "r",
   "version": "4.3.1"
  }
 },
 "nbformat": 4,
 "nbformat_minor": 5
}
