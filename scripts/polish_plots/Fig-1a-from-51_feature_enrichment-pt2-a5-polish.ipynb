{
 "cells": [
  {
   "cell_type": "markdown",
   "id": "e0724d78-2282-44a6-be06-8713907bdd9c",
   "metadata": {},
   "source": [
    "# Stage 1 plots, plot section A: Plot relationships among cor, heritability, genomic features, DNA methylation"
   ]
  },
  {
   "cell_type": "code",
   "execution_count": null,
   "id": "c0e26ca1-79a6-45ab-9169-04b3c75c6740",
   "metadata": {},
   "outputs": [],
   "source": []
  },
  {
   "cell_type": "code",
   "execution_count": null,
   "id": "12fe5922-645b-4260-84f7-3f5accd5809a",
   "metadata": {},
   "outputs": [],
   "source": []
  },
  {
   "cell_type": "markdown",
   "id": "0ae52f10-be4e-4734-9a6f-917829f582f4",
   "metadata": {},
   "source": [
    "## Load coremarks, heritability datasets"
   ]
  },
  {
   "cell_type": "markdown",
   "id": "2e6e4bfd-0b19-4ab5-8994-56fbee8274c6",
   "metadata": {},
   "source": [
    "### Load"
   ]
  },
  {
   "cell_type": "code",
   "execution_count": 1,
   "id": "b5eb7de9-8d50-4829-99ca-67282fb76a46",
   "metadata": {},
   "outputs": [],
   "source": [
    "library(data.table)\n",
    "coremarks <- fread(\"50-OUT/50-INTERMEDIATE_coremarks_to_format.csv\")\n",
    "\n",
    "heritability <- fread(\"50-OUT/50-INTERMEDIATE_step10_heritability_combined_wide.csv\")\n",
    "\n",
    "# Load necessary library\n",
    "library(data.table)\n",
    "\n",
    "# -----------------------------\n",
    "# 1. Prepare the Mapping Table\n",
    "# -----------------------------\n",
    "\n",
    "# Create a named vector for find-and-replace with updated formatting\n",
    "replacement_mapping <- c(\n",
    "  # E071: Hippocampus Middle\n",
    "  \"E071_15_coreMarks_mnemonics|feature:1_TssA\" = \"Active TSS (Hippocampus Middle)\",\n",
    "  \"E071_15_coreMarks_mnemonics|feature:10_TssBiv\" = \"Bivalent TSS (Hippocampus Middle)\",\n",
    "  \"E071_15_coreMarks_mnemonics|feature:11_BivFlnk\" = \"Bivalent Flanking Region (Hippocampus Middle)\",\n",
    "  \"E071_15_coreMarks_mnemonics|feature:12_EnhBiv\" = \"Bivalent Enhancer (Hippocampus Middle)\",\n",
    "  \"E071_15_coreMarks_mnemonics|feature:13_ReprPC\" = \"Repressive Polycomb (Hippocampus Middle)\",\n",
    "  \"E071_15_coreMarks_mnemonics|feature:14_ReprPCWk\" = \"Weak Repressive Polycomb (Hippocampus Middle)\",\n",
    "  \"E071_15_coreMarks_mnemonics|feature:15_Quies\" = \"Quiescent (Hippocampus Middle)\",\n",
    "  \"E071_15_coreMarks_mnemonics|feature:2_TssAFlnk\" = \"Flanking Active TSS (Hippocampus Middle)\",\n",
    "  \"E071_15_coreMarks_mnemonics|feature:3_TxFlnk\" = \"Transcribed Flanking Region (Hippocampus Middle)\",\n",
    "  \"E071_15_coreMarks_mnemonics|feature:4_Tx\" = \"Strong Transcription (Hippocampus Middle)\",\n",
    "  \"E071_15_coreMarks_mnemonics|feature:5_TxWk\" = \"Weak Transcription (Hippocampus Middle)\",\n",
    "  \"E071_15_coreMarks_mnemonics|feature:6_EnhG\" = \"Genic Enhancer (Hippocampus Middle)\",\n",
    "  \"E071_15_coreMarks_mnemonics|feature:7_Enh\" = \"Enhancer (Hippocampus Middle)\",\n",
    "  \"E071_15_coreMarks_mnemonics|feature:8_ZNF/Rpts\" = \"ZNF Repetitive Elements (Hippocampus Middle)\",\n",
    "  \"E071_15_coreMarks_mnemonics|feature:9_Het\" = \"Heterochromatin (Hippocampus Middle)\",\n",
    "  # E068: Anterior Caudate\n",
    "  \"E068_15_coreMarks_mnemonics|feature:1_TssA\" = \"Active TSS (Anterior Caudate)\",\n",
    "  \"E068_15_coreMarks_mnemonics|feature:10_TssBiv\" = \"Bivalent TSS (Anterior Caudate)\",\n",
    "  \"E068_15_coreMarks_mnemonics|feature:11_BivFlnk\" = \"Bivalent Flanking Region (Anterior Caudate)\",\n",
    "  \"E068_15_coreMarks_mnemonics|feature:12_EnhBiv\" = \"Bivalent Enhancer (Anterior Caudate)\",\n",
    "  \"E068_15_coreMarks_mnemonics|feature:13_ReprPC\" = \"Repressive Polycomb (Anterior Caudate)\",\n",
    "  \"E068_15_coreMarks_mnemonics|feature:14_ReprPCWk\" = \"Weak Repressive Polycomb (Anterior Caudate)\",\n",
    "  \"E068_15_coreMarks_mnemonics|feature:15_Quies\" = \"Quiescent (Anterior Caudate)\",\n",
    "  \"E068_15_coreMarks_mnemonics|feature:2_TssAFlnk\" = \"Flanking Active TSS (Anterior Caudate)\",\n",
    "  \"E068_15_coreMarks_mnemonics|feature:3_TxFlnk\" = \"Transcribed Flanking Region (Anterior Caudate)\",\n",
    "  \"E068_15_coreMarks_mnemonics|feature:4_Tx\" = \"Strong Transcription (Anterior Caudate)\",\n",
    "  \"E068_15_coreMarks_mnemonics|feature:5_TxWk\" = \"Weak Transcription (Anterior Caudate)\",\n",
    "  \"E068_15_coreMarks_mnemonics|feature:6_EnhG\" = \"Genic Enhancer (Anterior Caudate)\",\n",
    "  \"E068_15_coreMarks_mnemonics|feature:7_Enh\" = \"Enhancer (Anterior Caudate)\",\n",
    "  \"E068_15_coreMarks_mnemonics|feature:8_ZNF/Rpts\" = \"ZNF Repetitive Elements (Anterior Caudate)\",\n",
    "  \"E068_15_coreMarks_mnemonics|feature:9_Het\" = \"Heterochromatin (Anterior Caudate)\",\n",
    "  # E073: DLPFC\n",
    "  \"E073_15_coreMarks_mnemonics|feature:1_TssA\" = \"Active TSS (DLPFC)\",\n",
    "  \"E073_15_coreMarks_mnemonics|feature:10_TssBiv\" = \"Bivalent TSS (DLPFC)\",\n",
    "  \"E073_15_coreMarks_mnemonics|feature:11_BivFlnk\" = \"Bivalent Flanking Region (DLPFC)\",\n",
    "  \"E073_15_coreMarks_mnemonics|feature:12_EnhBiv\" = \"Bivalent Enhancer (DLPFC)\",\n",
    "  \"E073_15_coreMarks_mnemonics|feature:13_ReprPC\" = \"Repressive Polycomb (DLPFC)\",\n",
    "  \"E073_15_coreMarks_mnemonics|feature:14_ReprPCWk\" = \"Weak Repressive Polycomb (DLPFC)\",\n",
    "  \"E073_15_coreMarks_mnemonics|feature:15_Quies\" = \"Quiescent (DLPFC)\",\n",
    "  \"E073_15_coreMarks_mnemonics|feature:2_TssAFlnk\" = \"Flanking Active TSS (DLPFC)\",\n",
    "  \"E073_15_coreMarks_mnemonics|feature:3_TxFlnk\" = \"Transcribed Flanking Region (DLPFC)\",\n",
    "  \"E073_15_coreMarks_mnemonics|feature:4_Tx\" = \"Strong Transcription (DLPFC)\",\n",
    "  \"E073_15_coreMarks_mnemonics|feature:5_TxWk\" = \"Weak Transcription (DLPFC)\",\n",
    "  \"E073_15_coreMarks_mnemonics|feature:6_EnhG\" = \"Genic Enhancer (DLPFC)\",\n",
    "  \"E073_15_coreMarks_mnemonics|feature:7_Enh\" = \"Enhancer (DLPFC)\",\n",
    "  \"E073_15_coreMarks_mnemonics|feature:8_ZNF/Rpts\" = \"ZNF Repetitive Elements (DLPFC)\",\n",
    "  \"E073_15_coreMarks_mnemonics|feature:9_Het\" = \"Heterochromatin (DLPFC)\"\n",
    ")\n",
    "\n",
    "# -----------------------------\n",
    "# 1B. Perform the Find and Replace\n",
    "# -----------------------------\n",
    "\n",
    "# Perform the replacement\n",
    "coremarks[, feature := replacement_mapping[Feature_INFO]]\n",
    "coremarks[, chr_cg := paste0(chr, \"_\", cg)]\n",
    "\n",
    "coremarks[, chr_cg := paste0(chr, \"_\", cg)]\n",
    "\n",
    "# -----------------------------\n",
    "# 2. Create 'count_final' Data.table\n",
    "# -----------------------------\n",
    "\n",
    "# **Purpose:**\n",
    "# - Summarize counts of unique 'chr_cg' per 'feature'.\n",
    "# - Count total unique 'chr_cg' and those with Pval_* <= 0.05 for each brain region.\n",
    "\n",
    "# Define brain regions\n",
    "brain_regions <- c(\"caud\", \"dlpfc\", \"hippo\")\n",
    "\n",
    "# -----------------------------\n",
    "# 2. Calculate Total CpG Sites Tested (`N_total`)\n",
    "# -----------------------------\n",
    "\n"
   ]
  },
  {
   "cell_type": "markdown",
   "id": "0d742566-3a83-480c-bf09-9b35cecc4557",
   "metadata": {},
   "source": [
    "### Clean"
   ]
  },
  {
   "cell_type": "code",
   "execution_count": 11,
   "id": "6fdbf382-a9b5-4d95-a9e4-6f2ebc26fe5f",
   "metadata": {},
   "outputs": [],
   "source": [
    "# Total number of unique CpG sites tested for heritability\n",
    "N_total <- uniqueN(heritability$chr_cg)\n",
    "bonf <- 0.05 / N_total"
   ]
  },
  {
   "cell_type": "code",
   "execution_count": 12,
   "id": "85584160-2103-427a-9742-7244fd92b1f7",
   "metadata": {},
   "outputs": [
    {
     "data": {
      "text/html": [
       "24535150"
      ],
      "text/latex": [
       "24535150"
      ],
      "text/markdown": [
       "24535150"
      ],
      "text/plain": [
       "[1] 24535150"
      ]
     },
     "metadata": {},
     "output_type": "display_data"
    }
   ],
   "source": [
    "N_total"
   ]
  },
  {
   "cell_type": "code",
   "execution_count": null,
   "id": "3ad634fe-8996-406f-8c4e-8e5d66d45a15",
   "metadata": {},
   "outputs": [],
   "source": []
  },
  {
   "cell_type": "code",
   "execution_count": 3,
   "id": "7adcaa8e-d915-4b43-a7ce-8c96de616fcc",
   "metadata": {},
   "outputs": [],
   "source": [
    "# Create 'count_final' by summarizing 'coremarks'\n",
    "count_final <- coremarks[, .(\n",
    "  total_CpGs_overlapping_feature = uniqueN(chr_cg), # This is the total number of methylation sites that overlap with features.\n",
    "  caud_heritable = uniqueN(chr_cg[Pval_caud <= bonf]),\n",
    "  dlpfc_heritable = uniqueN(chr_cg[Pval_dlpfc <= bonf]),\n",
    "  hippo_heritable = uniqueN(chr_cg[Pval_hippo <= bonf])\n",
    "), by = feature]"
   ]
  },
  {
   "cell_type": "code",
   "execution_count": 4,
   "id": "ac2a8e72-d086-4f62-b474-6c50dbafa947",
   "metadata": {},
   "outputs": [],
   "source": [
    "heritability[, chr_cg := paste0(chr, \"_\", cg)]"
   ]
  },
  {
   "cell_type": "code",
   "execution_count": 5,
   "id": "1545b4e5-8e4d-4542-a9c3-d7da535c67bc",
   "metadata": {},
   "outputs": [],
   "source": [
    "colnames(count_final)[2:5] <- c(\"total_CpGs_overlapping_feature\",\n",
    "                                 \"caud_heritable\",\n",
    "                                 \"dlpfc_heritable\",\n",
    "                                 \"hippo_heritable\")"
   ]
  },
  {
   "cell_type": "code",
   "execution_count": 6,
   "id": "c23b4b53-b920-4a98-aff5-db8c6a8a0a94",
   "metadata": {
    "collapsed": true,
    "jupyter": {
     "outputs_hidden": true
    }
   },
   "outputs": [
    {
     "data": {
      "text/html": [
       "<table class=\"dataframe\">\n",
       "<caption>A data.table: 45 × 5</caption>\n",
       "<thead>\n",
       "\t<tr><th scope=col>feature</th><th scope=col>total_CpGs_overlapping_feature</th><th scope=col>caud_heritable</th><th scope=col>dlpfc_heritable</th><th scope=col>hippo_heritable</th></tr>\n",
       "\t<tr><th scope=col>&lt;chr&gt;</th><th scope=col>&lt;int&gt;</th><th scope=col>&lt;int&gt;</th><th scope=col>&lt;int&gt;</th><th scope=col>&lt;int&gt;</th></tr>\n",
       "</thead>\n",
       "<tbody>\n",
       "\t<tr><td>Bivalent TSS (DLPFC)                            </td><td>  137066</td><td>  135342</td><td>  134385</td><td>  135354</td></tr>\n",
       "\t<tr><td>Bivalent Flanking Region (Hippocampus Middle)   </td><td>  138566</td><td>  136659</td><td>  136332</td><td>  137176</td></tr>\n",
       "\t<tr><td>Weak Repressive Polycomb (Anterior Caudate)     </td><td> 1565071</td><td> 1532272</td><td> 1534984</td><td> 1543000</td></tr>\n",
       "\t<tr><td>Bivalent Enhancer (Hippocampus Middle)          </td><td>   83010</td><td>   82008</td><td>   81556</td><td>   82045</td></tr>\n",
       "\t<tr><td>Repressive Polycomb (Hippocampus Middle)        </td><td>  294283</td><td>  288308</td><td>  287274</td><td>  290309</td></tr>\n",
       "\t<tr><td>Repressive Polycomb (DLPFC)                     </td><td>  245169</td><td>  240833</td><td>  239617</td><td>  241762</td></tr>\n",
       "\t<tr><td>Weak Repressive Polycomb (Hippocampus Middle)   </td><td> 2370653</td><td> 2321992</td><td> 2324273</td><td> 2336065</td></tr>\n",
       "\t<tr><td>Weak Repressive Polycomb (DLPFC)                </td><td> 2008216</td><td> 1964124</td><td> 1965666</td><td> 1979243</td></tr>\n",
       "\t<tr><td>Repressive Polycomb (Anterior Caudate)          </td><td>  171165</td><td>  168479</td><td>  168003</td><td>  169016</td></tr>\n",
       "\t<tr><td>Enhancer (Anterior Caudate)                     </td><td>  853150</td><td>  839537</td><td>  840382</td><td>  843429</td></tr>\n",
       "\t<tr><td>Bivalent Flanking Region (DLPFC)                </td><td>   43790</td><td>   43106</td><td>   43101</td><td>   43248</td></tr>\n",
       "\t<tr><td>Flanking Active TSS (Anterior Caudate)          </td><td>  299677</td><td>  295267</td><td>  295646</td><td>  295705</td></tr>\n",
       "\t<tr><td>Flanking Active TSS (Hippocampus Middle)        </td><td>  352207</td><td>  347004</td><td>  347862</td><td>  347845</td></tr>\n",
       "\t<tr><td>Active TSS (DLPFC)                              </td><td> 1234187</td><td> 1216741</td><td> 1217651</td><td> 1217142</td></tr>\n",
       "\t<tr><td>Flanking Active TSS (DLPFC)                     </td><td>  229419</td><td>  225768</td><td>  226393</td><td>  226641</td></tr>\n",
       "\t<tr><td>Active TSS (Anterior Caudate)                   </td><td> 1317604</td><td> 1298862</td><td> 1299127</td><td> 1299470</td></tr>\n",
       "\t<tr><td>Enhancer (Hippocampus Middle)                   </td><td>  985026</td><td>  968837</td><td>  970843</td><td>  974457</td></tr>\n",
       "\t<tr><td>Enhancer (DLPFC)                                </td><td>  694090</td><td>  682245</td><td>  684290</td><td>  686525</td></tr>\n",
       "\t<tr><td>Weak Transcription (Hippocampus Middle)         </td><td> 3887670</td><td> 3809853</td><td> 3815983</td><td> 3827566</td></tr>\n",
       "\t<tr><td>Weak Transcription (Anterior Caudate)           </td><td> 4147288</td><td> 4065633</td><td> 4070374</td><td> 4082346</td></tr>\n",
       "\t<tr><td>Weak Transcription (DLPFC)                      </td><td> 4052133</td><td> 3969224</td><td> 3981879</td><td> 3991058</td></tr>\n",
       "\t<tr><td>Strong Transcription (Hippocampus Middle)       </td><td> 1167622</td><td> 1144097</td><td> 1148787</td><td> 1147166</td></tr>\n",
       "\t<tr><td>Quiescent (Anterior Caudate)                    </td><td>12647534</td><td>12356704</td><td>12396949</td><td>12421596</td></tr>\n",
       "\t<tr><td>Strong Transcription (Anterior Caudate)         </td><td> 1185198</td><td> 1162229</td><td> 1165995</td><td> 1163751</td></tr>\n",
       "\t<tr><td>Active TSS (Hippocampus Middle)                 </td><td> 1092340</td><td> 1076687</td><td> 1077598</td><td> 1076833</td></tr>\n",
       "\t<tr><td>Quiescent (DLPFC)                               </td><td>12840276</td><td>12552834</td><td>12587195</td><td>12609338</td></tr>\n",
       "\t<tr><td>Quiescent (Hippocampus Middle)                  </td><td>11795007</td><td>11522961</td><td>11561166</td><td>11578538</td></tr>\n",
       "\t<tr><td>Heterochromatin (Hippocampus Middle)            </td><td>  301520</td><td>  294026</td><td>  295449</td><td>  296288</td></tr>\n",
       "\t<tr><td>Bivalent TSS (Hippocampus Middle)               </td><td>  167556</td><td>  165134</td><td>  164291</td><td>  165360</td></tr>\n",
       "\t<tr><td>Bivalent TSS (Anterior Caudate)                 </td><td>   93332</td><td>   92109</td><td>   91535</td><td>   92316</td></tr>\n",
       "\t<tr><td>Bivalent Flanking Region (Anterior Caudate)     </td><td>   37063</td><td>   36448</td><td>   36621</td><td>   36773</td></tr>\n",
       "\t<tr><td>Bivalent Enhancer (Anterior Caudate)            </td><td>   31822</td><td>   31399</td><td>   31270</td><td>   31552</td></tr>\n",
       "\t<tr><td>Bivalent Enhancer (DLPFC)                       </td><td>   46111</td><td>   45578</td><td>   45389</td><td>   45557</td></tr>\n",
       "\t<tr><td>Genic Enhancer (Hippocampus Middle)             </td><td>  133533</td><td>  131791</td><td>  131532</td><td>  132138</td></tr>\n",
       "\t<tr><td>Strong Transcription (DLPFC)                    </td><td>  940926</td><td>  922433</td><td>  926255</td><td>  922787</td></tr>\n",
       "\t<tr><td>Genic Enhancer (DLPFC)                          </td><td>  111340</td><td>  109652</td><td>  109518</td><td>  110018</td></tr>\n",
       "\t<tr><td>Transcribed Flanking Region (Hippocampus Middle)</td><td>   13335</td><td>   13069</td><td>   13218</td><td>   13234</td></tr>\n",
       "\t<tr><td>Genic Enhancer (Anterior Caudate)               </td><td>  107644</td><td>  105976</td><td>  106092</td><td>  106292</td></tr>\n",
       "\t<tr><td>Transcribed Flanking Region (DLPFC)             </td><td>   10919</td><td>   10627</td><td>   10788</td><td>   10778</td></tr>\n",
       "\t<tr><td>Transcribed Flanking Region (Anterior Caudate)  </td><td>   10822</td><td>   10645</td><td>   10738</td><td>   10708</td></tr>\n",
       "\t<tr><td>ZNF Repetitive Elements (Hippocampus Middle)    </td><td>   34882</td><td>   34297</td><td>   34495</td><td>   34385</td></tr>\n",
       "\t<tr><td>Heterochromatin (Anterior Caudate)              </td><td>  318100</td><td>  310027</td><td>  311408</td><td>  312270</td></tr>\n",
       "\t<tr><td>ZNF Repetitive Elements (Anterior Caudate)      </td><td>   29201</td><td>   28682</td><td>   28851</td><td>   28743</td></tr>\n",
       "\t<tr><td>ZNF Repetitive Elements (DLPFC)                 </td><td>   21755</td><td>   21395</td><td>   21539</td><td>   21480</td></tr>\n",
       "\t<tr><td>Heterochromatin (DLPFC)                         </td><td>  195761</td><td>  191066</td><td>  191622</td><td>  192232</td></tr>\n",
       "</tbody>\n",
       "</table>\n"
      ],
      "text/latex": [
       "A data.table: 45 × 5\n",
       "\\begin{tabular}{lllll}\n",
       " feature & total\\_CpGs\\_overlapping\\_feature & caud\\_heritable & dlpfc\\_heritable & hippo\\_heritable\\\\\n",
       " <chr> & <int> & <int> & <int> & <int>\\\\\n",
       "\\hline\n",
       "\t Bivalent TSS (DLPFC)                             &   137066 &   135342 &   134385 &   135354\\\\\n",
       "\t Bivalent Flanking Region (Hippocampus Middle)    &   138566 &   136659 &   136332 &   137176\\\\\n",
       "\t Weak Repressive Polycomb (Anterior Caudate)      &  1565071 &  1532272 &  1534984 &  1543000\\\\\n",
       "\t Bivalent Enhancer (Hippocampus Middle)           &    83010 &    82008 &    81556 &    82045\\\\\n",
       "\t Repressive Polycomb (Hippocampus Middle)         &   294283 &   288308 &   287274 &   290309\\\\\n",
       "\t Repressive Polycomb (DLPFC)                      &   245169 &   240833 &   239617 &   241762\\\\\n",
       "\t Weak Repressive Polycomb (Hippocampus Middle)    &  2370653 &  2321992 &  2324273 &  2336065\\\\\n",
       "\t Weak Repressive Polycomb (DLPFC)                 &  2008216 &  1964124 &  1965666 &  1979243\\\\\n",
       "\t Repressive Polycomb (Anterior Caudate)           &   171165 &   168479 &   168003 &   169016\\\\\n",
       "\t Enhancer (Anterior Caudate)                      &   853150 &   839537 &   840382 &   843429\\\\\n",
       "\t Bivalent Flanking Region (DLPFC)                 &    43790 &    43106 &    43101 &    43248\\\\\n",
       "\t Flanking Active TSS (Anterior Caudate)           &   299677 &   295267 &   295646 &   295705\\\\\n",
       "\t Flanking Active TSS (Hippocampus Middle)         &   352207 &   347004 &   347862 &   347845\\\\\n",
       "\t Active TSS (DLPFC)                               &  1234187 &  1216741 &  1217651 &  1217142\\\\\n",
       "\t Flanking Active TSS (DLPFC)                      &   229419 &   225768 &   226393 &   226641\\\\\n",
       "\t Active TSS (Anterior Caudate)                    &  1317604 &  1298862 &  1299127 &  1299470\\\\\n",
       "\t Enhancer (Hippocampus Middle)                    &   985026 &   968837 &   970843 &   974457\\\\\n",
       "\t Enhancer (DLPFC)                                 &   694090 &   682245 &   684290 &   686525\\\\\n",
       "\t Weak Transcription (Hippocampus Middle)          &  3887670 &  3809853 &  3815983 &  3827566\\\\\n",
       "\t Weak Transcription (Anterior Caudate)            &  4147288 &  4065633 &  4070374 &  4082346\\\\\n",
       "\t Weak Transcription (DLPFC)                       &  4052133 &  3969224 &  3981879 &  3991058\\\\\n",
       "\t Strong Transcription (Hippocampus Middle)        &  1167622 &  1144097 &  1148787 &  1147166\\\\\n",
       "\t Quiescent (Anterior Caudate)                     & 12647534 & 12356704 & 12396949 & 12421596\\\\\n",
       "\t Strong Transcription (Anterior Caudate)          &  1185198 &  1162229 &  1165995 &  1163751\\\\\n",
       "\t Active TSS (Hippocampus Middle)                  &  1092340 &  1076687 &  1077598 &  1076833\\\\\n",
       "\t Quiescent (DLPFC)                                & 12840276 & 12552834 & 12587195 & 12609338\\\\\n",
       "\t Quiescent (Hippocampus Middle)                   & 11795007 & 11522961 & 11561166 & 11578538\\\\\n",
       "\t Heterochromatin (Hippocampus Middle)             &   301520 &   294026 &   295449 &   296288\\\\\n",
       "\t Bivalent TSS (Hippocampus Middle)                &   167556 &   165134 &   164291 &   165360\\\\\n",
       "\t Bivalent TSS (Anterior Caudate)                  &    93332 &    92109 &    91535 &    92316\\\\\n",
       "\t Bivalent Flanking Region (Anterior Caudate)      &    37063 &    36448 &    36621 &    36773\\\\\n",
       "\t Bivalent Enhancer (Anterior Caudate)             &    31822 &    31399 &    31270 &    31552\\\\\n",
       "\t Bivalent Enhancer (DLPFC)                        &    46111 &    45578 &    45389 &    45557\\\\\n",
       "\t Genic Enhancer (Hippocampus Middle)              &   133533 &   131791 &   131532 &   132138\\\\\n",
       "\t Strong Transcription (DLPFC)                     &   940926 &   922433 &   926255 &   922787\\\\\n",
       "\t Genic Enhancer (DLPFC)                           &   111340 &   109652 &   109518 &   110018\\\\\n",
       "\t Transcribed Flanking Region (Hippocampus Middle) &    13335 &    13069 &    13218 &    13234\\\\\n",
       "\t Genic Enhancer (Anterior Caudate)                &   107644 &   105976 &   106092 &   106292\\\\\n",
       "\t Transcribed Flanking Region (DLPFC)              &    10919 &    10627 &    10788 &    10778\\\\\n",
       "\t Transcribed Flanking Region (Anterior Caudate)   &    10822 &    10645 &    10738 &    10708\\\\\n",
       "\t ZNF Repetitive Elements (Hippocampus Middle)     &    34882 &    34297 &    34495 &    34385\\\\\n",
       "\t Heterochromatin (Anterior Caudate)               &   318100 &   310027 &   311408 &   312270\\\\\n",
       "\t ZNF Repetitive Elements (Anterior Caudate)       &    29201 &    28682 &    28851 &    28743\\\\\n",
       "\t ZNF Repetitive Elements (DLPFC)                  &    21755 &    21395 &    21539 &    21480\\\\\n",
       "\t Heterochromatin (DLPFC)                          &   195761 &   191066 &   191622 &   192232\\\\\n",
       "\\end{tabular}\n"
      ],
      "text/markdown": [
       "\n",
       "A data.table: 45 × 5\n",
       "\n",
       "| feature &lt;chr&gt; | total_CpGs_overlapping_feature &lt;int&gt; | caud_heritable &lt;int&gt; | dlpfc_heritable &lt;int&gt; | hippo_heritable &lt;int&gt; |\n",
       "|---|---|---|---|---|\n",
       "| Bivalent TSS (DLPFC)                             |   137066 |   135342 |   134385 |   135354 |\n",
       "| Bivalent Flanking Region (Hippocampus Middle)    |   138566 |   136659 |   136332 |   137176 |\n",
       "| Weak Repressive Polycomb (Anterior Caudate)      |  1565071 |  1532272 |  1534984 |  1543000 |\n",
       "| Bivalent Enhancer (Hippocampus Middle)           |    83010 |    82008 |    81556 |    82045 |\n",
       "| Repressive Polycomb (Hippocampus Middle)         |   294283 |   288308 |   287274 |   290309 |\n",
       "| Repressive Polycomb (DLPFC)                      |   245169 |   240833 |   239617 |   241762 |\n",
       "| Weak Repressive Polycomb (Hippocampus Middle)    |  2370653 |  2321992 |  2324273 |  2336065 |\n",
       "| Weak Repressive Polycomb (DLPFC)                 |  2008216 |  1964124 |  1965666 |  1979243 |\n",
       "| Repressive Polycomb (Anterior Caudate)           |   171165 |   168479 |   168003 |   169016 |\n",
       "| Enhancer (Anterior Caudate)                      |   853150 |   839537 |   840382 |   843429 |\n",
       "| Bivalent Flanking Region (DLPFC)                 |    43790 |    43106 |    43101 |    43248 |\n",
       "| Flanking Active TSS (Anterior Caudate)           |   299677 |   295267 |   295646 |   295705 |\n",
       "| Flanking Active TSS (Hippocampus Middle)         |   352207 |   347004 |   347862 |   347845 |\n",
       "| Active TSS (DLPFC)                               |  1234187 |  1216741 |  1217651 |  1217142 |\n",
       "| Flanking Active TSS (DLPFC)                      |   229419 |   225768 |   226393 |   226641 |\n",
       "| Active TSS (Anterior Caudate)                    |  1317604 |  1298862 |  1299127 |  1299470 |\n",
       "| Enhancer (Hippocampus Middle)                    |   985026 |   968837 |   970843 |   974457 |\n",
       "| Enhancer (DLPFC)                                 |   694090 |   682245 |   684290 |   686525 |\n",
       "| Weak Transcription (Hippocampus Middle)          |  3887670 |  3809853 |  3815983 |  3827566 |\n",
       "| Weak Transcription (Anterior Caudate)            |  4147288 |  4065633 |  4070374 |  4082346 |\n",
       "| Weak Transcription (DLPFC)                       |  4052133 |  3969224 |  3981879 |  3991058 |\n",
       "| Strong Transcription (Hippocampus Middle)        |  1167622 |  1144097 |  1148787 |  1147166 |\n",
       "| Quiescent (Anterior Caudate)                     | 12647534 | 12356704 | 12396949 | 12421596 |\n",
       "| Strong Transcription (Anterior Caudate)          |  1185198 |  1162229 |  1165995 |  1163751 |\n",
       "| Active TSS (Hippocampus Middle)                  |  1092340 |  1076687 |  1077598 |  1076833 |\n",
       "| Quiescent (DLPFC)                                | 12840276 | 12552834 | 12587195 | 12609338 |\n",
       "| Quiescent (Hippocampus Middle)                   | 11795007 | 11522961 | 11561166 | 11578538 |\n",
       "| Heterochromatin (Hippocampus Middle)             |   301520 |   294026 |   295449 |   296288 |\n",
       "| Bivalent TSS (Hippocampus Middle)                |   167556 |   165134 |   164291 |   165360 |\n",
       "| Bivalent TSS (Anterior Caudate)                  |    93332 |    92109 |    91535 |    92316 |\n",
       "| Bivalent Flanking Region (Anterior Caudate)      |    37063 |    36448 |    36621 |    36773 |\n",
       "| Bivalent Enhancer (Anterior Caudate)             |    31822 |    31399 |    31270 |    31552 |\n",
       "| Bivalent Enhancer (DLPFC)                        |    46111 |    45578 |    45389 |    45557 |\n",
       "| Genic Enhancer (Hippocampus Middle)              |   133533 |   131791 |   131532 |   132138 |\n",
       "| Strong Transcription (DLPFC)                     |   940926 |   922433 |   926255 |   922787 |\n",
       "| Genic Enhancer (DLPFC)                           |   111340 |   109652 |   109518 |   110018 |\n",
       "| Transcribed Flanking Region (Hippocampus Middle) |    13335 |    13069 |    13218 |    13234 |\n",
       "| Genic Enhancer (Anterior Caudate)                |   107644 |   105976 |   106092 |   106292 |\n",
       "| Transcribed Flanking Region (DLPFC)              |    10919 |    10627 |    10788 |    10778 |\n",
       "| Transcribed Flanking Region (Anterior Caudate)   |    10822 |    10645 |    10738 |    10708 |\n",
       "| ZNF Repetitive Elements (Hippocampus Middle)     |    34882 |    34297 |    34495 |    34385 |\n",
       "| Heterochromatin (Anterior Caudate)               |   318100 |   310027 |   311408 |   312270 |\n",
       "| ZNF Repetitive Elements (Anterior Caudate)       |    29201 |    28682 |    28851 |    28743 |\n",
       "| ZNF Repetitive Elements (DLPFC)                  |    21755 |    21395 |    21539 |    21480 |\n",
       "| Heterochromatin (DLPFC)                          |   195761 |   191066 |   191622 |   192232 |\n",
       "\n"
      ],
      "text/plain": [
       "   feature                                         \n",
       "1  Bivalent TSS (DLPFC)                            \n",
       "2  Bivalent Flanking Region (Hippocampus Middle)   \n",
       "3  Weak Repressive Polycomb (Anterior Caudate)     \n",
       "4  Bivalent Enhancer (Hippocampus Middle)          \n",
       "5  Repressive Polycomb (Hippocampus Middle)        \n",
       "6  Repressive Polycomb (DLPFC)                     \n",
       "7  Weak Repressive Polycomb (Hippocampus Middle)   \n",
       "8  Weak Repressive Polycomb (DLPFC)                \n",
       "9  Repressive Polycomb (Anterior Caudate)          \n",
       "10 Enhancer (Anterior Caudate)                     \n",
       "11 Bivalent Flanking Region (DLPFC)                \n",
       "12 Flanking Active TSS (Anterior Caudate)          \n",
       "13 Flanking Active TSS (Hippocampus Middle)        \n",
       "14 Active TSS (DLPFC)                              \n",
       "15 Flanking Active TSS (DLPFC)                     \n",
       "16 Active TSS (Anterior Caudate)                   \n",
       "17 Enhancer (Hippocampus Middle)                   \n",
       "18 Enhancer (DLPFC)                                \n",
       "19 Weak Transcription (Hippocampus Middle)         \n",
       "20 Weak Transcription (Anterior Caudate)           \n",
       "21 Weak Transcription (DLPFC)                      \n",
       "22 Strong Transcription (Hippocampus Middle)       \n",
       "23 Quiescent (Anterior Caudate)                    \n",
       "24 Strong Transcription (Anterior Caudate)         \n",
       "25 Active TSS (Hippocampus Middle)                 \n",
       "26 Quiescent (DLPFC)                               \n",
       "27 Quiescent (Hippocampus Middle)                  \n",
       "28 Heterochromatin (Hippocampus Middle)            \n",
       "29 Bivalent TSS (Hippocampus Middle)               \n",
       "30 Bivalent TSS (Anterior Caudate)                 \n",
       "31 Bivalent Flanking Region (Anterior Caudate)     \n",
       "32 Bivalent Enhancer (Anterior Caudate)            \n",
       "33 Bivalent Enhancer (DLPFC)                       \n",
       "34 Genic Enhancer (Hippocampus Middle)             \n",
       "35 Strong Transcription (DLPFC)                    \n",
       "36 Genic Enhancer (DLPFC)                          \n",
       "37 Transcribed Flanking Region (Hippocampus Middle)\n",
       "38 Genic Enhancer (Anterior Caudate)               \n",
       "39 Transcribed Flanking Region (DLPFC)             \n",
       "40 Transcribed Flanking Region (Anterior Caudate)  \n",
       "41 ZNF Repetitive Elements (Hippocampus Middle)    \n",
       "42 Heterochromatin (Anterior Caudate)              \n",
       "43 ZNF Repetitive Elements (Anterior Caudate)      \n",
       "44 ZNF Repetitive Elements (DLPFC)                 \n",
       "45 Heterochromatin (DLPFC)                         \n",
       "   total_CpGs_overlapping_feature caud_heritable dlpfc_heritable\n",
       "1    137066                         135342         134385       \n",
       "2    138566                         136659         136332       \n",
       "3   1565071                        1532272        1534984       \n",
       "4     83010                          82008          81556       \n",
       "5    294283                         288308         287274       \n",
       "6    245169                         240833         239617       \n",
       "7   2370653                        2321992        2324273       \n",
       "8   2008216                        1964124        1965666       \n",
       "9    171165                         168479         168003       \n",
       "10   853150                         839537         840382       \n",
       "11    43790                          43106          43101       \n",
       "12   299677                         295267         295646       \n",
       "13   352207                         347004         347862       \n",
       "14  1234187                        1216741        1217651       \n",
       "15   229419                         225768         226393       \n",
       "16  1317604                        1298862        1299127       \n",
       "17   985026                         968837         970843       \n",
       "18   694090                         682245         684290       \n",
       "19  3887670                        3809853        3815983       \n",
       "20  4147288                        4065633        4070374       \n",
       "21  4052133                        3969224        3981879       \n",
       "22  1167622                        1144097        1148787       \n",
       "23 12647534                       12356704       12396949       \n",
       "24  1185198                        1162229        1165995       \n",
       "25  1092340                        1076687        1077598       \n",
       "26 12840276                       12552834       12587195       \n",
       "27 11795007                       11522961       11561166       \n",
       "28   301520                         294026         295449       \n",
       "29   167556                         165134         164291       \n",
       "30    93332                          92109          91535       \n",
       "31    37063                          36448          36621       \n",
       "32    31822                          31399          31270       \n",
       "33    46111                          45578          45389       \n",
       "34   133533                         131791         131532       \n",
       "35   940926                         922433         926255       \n",
       "36   111340                         109652         109518       \n",
       "37    13335                          13069          13218       \n",
       "38   107644                         105976         106092       \n",
       "39    10919                          10627          10788       \n",
       "40    10822                          10645          10738       \n",
       "41    34882                          34297          34495       \n",
       "42   318100                         310027         311408       \n",
       "43    29201                          28682          28851       \n",
       "44    21755                          21395          21539       \n",
       "45   195761                         191066         191622       \n",
       "   hippo_heritable\n",
       "1    135354       \n",
       "2    137176       \n",
       "3   1543000       \n",
       "4     82045       \n",
       "5    290309       \n",
       "6    241762       \n",
       "7   2336065       \n",
       "8   1979243       \n",
       "9    169016       \n",
       "10   843429       \n",
       "11    43248       \n",
       "12   295705       \n",
       "13   347845       \n",
       "14  1217142       \n",
       "15   226641       \n",
       "16  1299470       \n",
       "17   974457       \n",
       "18   686525       \n",
       "19  3827566       \n",
       "20  4082346       \n",
       "21  3991058       \n",
       "22  1147166       \n",
       "23 12421596       \n",
       "24  1163751       \n",
       "25  1076833       \n",
       "26 12609338       \n",
       "27 11578538       \n",
       "28   296288       \n",
       "29   165360       \n",
       "30    92316       \n",
       "31    36773       \n",
       "32    31552       \n",
       "33    45557       \n",
       "34   132138       \n",
       "35   922787       \n",
       "36   110018       \n",
       "37    13234       \n",
       "38   106292       \n",
       "39    10778       \n",
       "40    10708       \n",
       "41    34385       \n",
       "42   312270       \n",
       "43    28743       \n",
       "44    21480       \n",
       "45   192232       "
      ]
     },
     "metadata": {},
     "output_type": "display_data"
    }
   ],
   "source": [
    "count_final"
   ]
  },
  {
   "cell_type": "code",
   "execution_count": 9,
   "id": "3b531698-442f-4b77-8b7d-33312fb1e949",
   "metadata": {},
   "outputs": [
    {
     "data": {
      "text/html": [
       "<style>\n",
       ".list-inline {list-style: none; margin:0; padding: 0}\n",
       ".list-inline>li {display: inline-block}\n",
       ".list-inline>li:not(:last-child)::after {content: \"\\00b7\"; padding: 0 .5ex}\n",
       "</style>\n",
       "<ol class=list-inline><li>24535150</li><li>15</li></ol>\n"
      ],
      "text/latex": [
       "\\begin{enumerate*}\n",
       "\\item 24535150\n",
       "\\item 15\n",
       "\\end{enumerate*}\n"
      ],
      "text/markdown": [
       "1. 24535150\n",
       "2. 15\n",
       "\n",
       "\n"
      ],
      "text/plain": [
       "[1] 24535150       15"
      ]
     },
     "metadata": {},
     "output_type": "display_data"
    }
   ],
   "source": [
    "dim(heritability)"
   ]
  },
  {
   "cell_type": "code",
   "execution_count": 13,
   "id": "e4b9ed39-32c6-45d0-a3c2-37129041b589",
   "metadata": {},
   "outputs": [
    {
     "data": {
      "text/html": [
       "<table class=\"dataframe\">\n",
       "<caption>A data.table: 6 × 15</caption>\n",
       "<thead>\n",
       "\t<tr><th scope=col>chr</th><th scope=col>cg</th><th scope=col>V_G_Vp_caud</th><th scope=col>SE_V_G_Vp_caud</th><th scope=col>Pval_caud</th><th scope=col>n_caud</th><th scope=col>V_G_Vp_dlpfc</th><th scope=col>SE_V_G_Vp_dlpfc</th><th scope=col>Pval_dlpfc</th><th scope=col>n_dlpfc</th><th scope=col>V_G_Vp_hippo</th><th scope=col>SE_V_G_Vp_hippo</th><th scope=col>Pval_hippo</th><th scope=col>n_hippo</th><th scope=col>chr_cg</th></tr>\n",
       "\t<tr><th scope=col>&lt;int&gt;</th><th scope=col>&lt;int&gt;</th><th scope=col>&lt;dbl&gt;</th><th scope=col>&lt;dbl&gt;</th><th scope=col>&lt;dbl&gt;</th><th scope=col>&lt;int&gt;</th><th scope=col>&lt;dbl&gt;</th><th scope=col>&lt;dbl&gt;</th><th scope=col>&lt;dbl&gt;</th><th scope=col>&lt;int&gt;</th><th scope=col>&lt;dbl&gt;</th><th scope=col>&lt;dbl&gt;</th><th scope=col>&lt;dbl&gt;</th><th scope=col>&lt;int&gt;</th><th scope=col>&lt;chr&gt;</th></tr>\n",
       "</thead>\n",
       "<tbody>\n",
       "\t<tr><td>1</td><td>1069461</td><td>1e-06</td><td>0.018944</td><td>0.5</td><td>297</td><td>1e-06</td><td>0.055024</td><td>0.5</td><td>163</td><td>0.001690</td><td>0.013338</td><td>0.44274</td><td>178</td><td>1_1069461</td></tr>\n",
       "\t<tr><td>1</td><td>1069467</td><td>1e-06</td><td>0.019105</td><td>0.5</td><td>297</td><td>1e-06</td><td>0.059936</td><td>0.5</td><td>163</td><td>0.001226</td><td>0.012695</td><td>0.45768</td><td>178</td><td>1_1069467</td></tr>\n",
       "\t<tr><td>1</td><td>1069470</td><td>1e-06</td><td>0.019186</td><td>0.5</td><td>297</td><td>1e-06</td><td>0.062771</td><td>0.5</td><td>163</td><td>0.000994</td><td>0.012372</td><td>0.46536</td><td>178</td><td>1_1069470</td></tr>\n",
       "\t<tr><td>1</td><td>1069477</td><td>1e-06</td><td>0.019386</td><td>0.5</td><td>297</td><td>1e-06</td><td>0.070604</td><td>0.5</td><td>163</td><td>0.000454</td><td>0.011619</td><td>0.48383</td><td>178</td><td>1_1069477</td></tr>\n",
       "\t<tr><td>1</td><td>1069484</td><td>1e-06</td><td>0.007995</td><td>0.5</td><td>297</td><td>2e-06</td><td>0.089671</td><td>0.5</td><td>163</td><td>0.000001</td><td>0.012782</td><td>0.50000</td><td>178</td><td>1_1069484</td></tr>\n",
       "\t<tr><td>1</td><td>1069498</td><td>1e-06</td><td>0.008194</td><td>0.5</td><td>297</td><td>3e-06</td><td>0.105596</td><td>0.5</td><td>163</td><td>0.000001</td><td>0.013529</td><td>0.50000</td><td>178</td><td>1_1069498</td></tr>\n",
       "</tbody>\n",
       "</table>\n"
      ],
      "text/latex": [
       "A data.table: 6 × 15\n",
       "\\begin{tabular}{lllllllllllllll}\n",
       " chr & cg & V\\_G\\_Vp\\_caud & SE\\_V\\_G\\_Vp\\_caud & Pval\\_caud & n\\_caud & V\\_G\\_Vp\\_dlpfc & SE\\_V\\_G\\_Vp\\_dlpfc & Pval\\_dlpfc & n\\_dlpfc & V\\_G\\_Vp\\_hippo & SE\\_V\\_G\\_Vp\\_hippo & Pval\\_hippo & n\\_hippo & chr\\_cg\\\\\n",
       " <int> & <int> & <dbl> & <dbl> & <dbl> & <int> & <dbl> & <dbl> & <dbl> & <int> & <dbl> & <dbl> & <dbl> & <int> & <chr>\\\\\n",
       "\\hline\n",
       "\t 1 & 1069461 & 1e-06 & 0.018944 & 0.5 & 297 & 1e-06 & 0.055024 & 0.5 & 163 & 0.001690 & 0.013338 & 0.44274 & 178 & 1\\_1069461\\\\\n",
       "\t 1 & 1069467 & 1e-06 & 0.019105 & 0.5 & 297 & 1e-06 & 0.059936 & 0.5 & 163 & 0.001226 & 0.012695 & 0.45768 & 178 & 1\\_1069467\\\\\n",
       "\t 1 & 1069470 & 1e-06 & 0.019186 & 0.5 & 297 & 1e-06 & 0.062771 & 0.5 & 163 & 0.000994 & 0.012372 & 0.46536 & 178 & 1\\_1069470\\\\\n",
       "\t 1 & 1069477 & 1e-06 & 0.019386 & 0.5 & 297 & 1e-06 & 0.070604 & 0.5 & 163 & 0.000454 & 0.011619 & 0.48383 & 178 & 1\\_1069477\\\\\n",
       "\t 1 & 1069484 & 1e-06 & 0.007995 & 0.5 & 297 & 2e-06 & 0.089671 & 0.5 & 163 & 0.000001 & 0.012782 & 0.50000 & 178 & 1\\_1069484\\\\\n",
       "\t 1 & 1069498 & 1e-06 & 0.008194 & 0.5 & 297 & 3e-06 & 0.105596 & 0.5 & 163 & 0.000001 & 0.013529 & 0.50000 & 178 & 1\\_1069498\\\\\n",
       "\\end{tabular}\n"
      ],
      "text/markdown": [
       "\n",
       "A data.table: 6 × 15\n",
       "\n",
       "| chr &lt;int&gt; | cg &lt;int&gt; | V_G_Vp_caud &lt;dbl&gt; | SE_V_G_Vp_caud &lt;dbl&gt; | Pval_caud &lt;dbl&gt; | n_caud &lt;int&gt; | V_G_Vp_dlpfc &lt;dbl&gt; | SE_V_G_Vp_dlpfc &lt;dbl&gt; | Pval_dlpfc &lt;dbl&gt; | n_dlpfc &lt;int&gt; | V_G_Vp_hippo &lt;dbl&gt; | SE_V_G_Vp_hippo &lt;dbl&gt; | Pval_hippo &lt;dbl&gt; | n_hippo &lt;int&gt; | chr_cg &lt;chr&gt; |\n",
       "|---|---|---|---|---|---|---|---|---|---|---|---|---|---|---|\n",
       "| 1 | 1069461 | 1e-06 | 0.018944 | 0.5 | 297 | 1e-06 | 0.055024 | 0.5 | 163 | 0.001690 | 0.013338 | 0.44274 | 178 | 1_1069461 |\n",
       "| 1 | 1069467 | 1e-06 | 0.019105 | 0.5 | 297 | 1e-06 | 0.059936 | 0.5 | 163 | 0.001226 | 0.012695 | 0.45768 | 178 | 1_1069467 |\n",
       "| 1 | 1069470 | 1e-06 | 0.019186 | 0.5 | 297 | 1e-06 | 0.062771 | 0.5 | 163 | 0.000994 | 0.012372 | 0.46536 | 178 | 1_1069470 |\n",
       "| 1 | 1069477 | 1e-06 | 0.019386 | 0.5 | 297 | 1e-06 | 0.070604 | 0.5 | 163 | 0.000454 | 0.011619 | 0.48383 | 178 | 1_1069477 |\n",
       "| 1 | 1069484 | 1e-06 | 0.007995 | 0.5 | 297 | 2e-06 | 0.089671 | 0.5 | 163 | 0.000001 | 0.012782 | 0.50000 | 178 | 1_1069484 |\n",
       "| 1 | 1069498 | 1e-06 | 0.008194 | 0.5 | 297 | 3e-06 | 0.105596 | 0.5 | 163 | 0.000001 | 0.013529 | 0.50000 | 178 | 1_1069498 |\n",
       "\n"
      ],
      "text/plain": [
       "  chr cg      V_G_Vp_caud SE_V_G_Vp_caud Pval_caud n_caud V_G_Vp_dlpfc\n",
       "1 1   1069461 1e-06       0.018944       0.5       297    1e-06       \n",
       "2 1   1069467 1e-06       0.019105       0.5       297    1e-06       \n",
       "3 1   1069470 1e-06       0.019186       0.5       297    1e-06       \n",
       "4 1   1069477 1e-06       0.019386       0.5       297    1e-06       \n",
       "5 1   1069484 1e-06       0.007995       0.5       297    2e-06       \n",
       "6 1   1069498 1e-06       0.008194       0.5       297    3e-06       \n",
       "  SE_V_G_Vp_dlpfc Pval_dlpfc n_dlpfc V_G_Vp_hippo SE_V_G_Vp_hippo Pval_hippo\n",
       "1 0.055024        0.5        163     0.001690     0.013338        0.44274   \n",
       "2 0.059936        0.5        163     0.001226     0.012695        0.45768   \n",
       "3 0.062771        0.5        163     0.000994     0.012372        0.46536   \n",
       "4 0.070604        0.5        163     0.000454     0.011619        0.48383   \n",
       "5 0.089671        0.5        163     0.000001     0.012782        0.50000   \n",
       "6 0.105596        0.5        163     0.000001     0.013529        0.50000   \n",
       "  n_hippo chr_cg   \n",
       "1 178     1_1069461\n",
       "2 178     1_1069467\n",
       "3 178     1_1069470\n",
       "4 178     1_1069477\n",
       "5 178     1_1069484\n",
       "6 178     1_1069498"
      ]
     },
     "metadata": {},
     "output_type": "display_data"
    }
   ],
   "source": [
    "head(heritability)"
   ]
  },
  {
   "cell_type": "markdown",
   "id": "cb967c60-6ecd-44b0-af01-75cb552ff249",
   "metadata": {},
   "source": [
    "##### Figure Old-1a: geom-freq h2 by significance"
   ]
  },
  {
   "cell_type": "markdown",
   "id": "b6b99f74-ebac-407c-ba46-538a641daf8d",
   "metadata": {},
   "source": [
    "Significance computed by Bonferroni threshold with number of total CpG sites over which heritability was tested"
   ]
  },
  {
   "cell_type": "markdown",
   "id": "71ff98c2-a6dc-4455-9b31-a56d7351b911",
   "metadata": {},
   "source": [
    "How to compute Bonferroni for each brain region? First, find NA for each. Total - NA for each"
   ]
  },
  {
   "cell_type": "code",
   "execution_count": 18,
   "id": "7c5f5170-c4e0-4c7c-8d71-dd4199d44e67",
   "metadata": {},
   "outputs": [
    {
     "data": {
      "text/html": [
       "<table class=\"dataframe\">\n",
       "<caption>A data.table: 15 × 4</caption>\n",
       "<thead>\n",
       "\t<tr><th scope=col>Column</th><th scope=col>NA_Count</th><th scope=col>non_NA_Count</th><th scope=col>bonf</th></tr>\n",
       "\t<tr><th scope=col>&lt;fct&gt;</th><th scope=col>&lt;int&gt;</th><th scope=col>&lt;int&gt;</th><th scope=col>&lt;dbl&gt;</th></tr>\n",
       "</thead>\n",
       "<tbody>\n",
       "\t<tr><td>chr            </td><td>     0</td><td>24535150</td><td>2.037893e-09</td></tr>\n",
       "\t<tr><td>cg             </td><td>     0</td><td>24535150</td><td>2.037893e-09</td></tr>\n",
       "\t<tr><td>V_G_Vp_caud    </td><td>492976</td><td>24042174</td><td>2.079679e-09</td></tr>\n",
       "\t<tr><td>SE_V_G_Vp_caud </td><td>493454</td><td>24041696</td><td>2.079720e-09</td></tr>\n",
       "\t<tr><td>Pval_caud      </td><td>492976</td><td>24042174</td><td>2.079679e-09</td></tr>\n",
       "\t<tr><td>n_caud         </td><td>492976</td><td>24042174</td><td>2.079679e-09</td></tr>\n",
       "\t<tr><td>V_G_Vp_dlpfc   </td><td>441169</td><td>24093981</td><td>2.075207e-09</td></tr>\n",
       "\t<tr><td>SE_V_G_Vp_dlpfc</td><td>441248</td><td>24093902</td><td>2.075214e-09</td></tr>\n",
       "\t<tr><td>Pval_dlpfc     </td><td>441169</td><td>24093981</td><td>2.075207e-09</td></tr>\n",
       "\t<tr><td>n_dlpfc        </td><td>441169</td><td>24093981</td><td>2.075207e-09</td></tr>\n",
       "\t<tr><td>V_G_Vp_hippo   </td><td>387342</td><td>24147808</td><td>2.070581e-09</td></tr>\n",
       "\t<tr><td>SE_V_G_Vp_hippo</td><td>387456</td><td>24147694</td><td>2.070591e-09</td></tr>\n",
       "\t<tr><td>Pval_hippo     </td><td>387342</td><td>24147808</td><td>2.070581e-09</td></tr>\n",
       "\t<tr><td>n_hippo        </td><td>387342</td><td>24147808</td><td>2.070581e-09</td></tr>\n",
       "\t<tr><td>chr_cg         </td><td>     0</td><td>24535150</td><td>2.037893e-09</td></tr>\n",
       "</tbody>\n",
       "</table>\n"
      ],
      "text/latex": [
       "A data.table: 15 × 4\n",
       "\\begin{tabular}{llll}\n",
       " Column & NA\\_Count & non\\_NA\\_Count & bonf\\\\\n",
       " <fct> & <int> & <int> & <dbl>\\\\\n",
       "\\hline\n",
       "\t chr             &      0 & 24535150 & 2.037893e-09\\\\\n",
       "\t cg              &      0 & 24535150 & 2.037893e-09\\\\\n",
       "\t V\\_G\\_Vp\\_caud     & 492976 & 24042174 & 2.079679e-09\\\\\n",
       "\t SE\\_V\\_G\\_Vp\\_caud  & 493454 & 24041696 & 2.079720e-09\\\\\n",
       "\t Pval\\_caud       & 492976 & 24042174 & 2.079679e-09\\\\\n",
       "\t n\\_caud          & 492976 & 24042174 & 2.079679e-09\\\\\n",
       "\t V\\_G\\_Vp\\_dlpfc    & 441169 & 24093981 & 2.075207e-09\\\\\n",
       "\t SE\\_V\\_G\\_Vp\\_dlpfc & 441248 & 24093902 & 2.075214e-09\\\\\n",
       "\t Pval\\_dlpfc      & 441169 & 24093981 & 2.075207e-09\\\\\n",
       "\t n\\_dlpfc         & 441169 & 24093981 & 2.075207e-09\\\\\n",
       "\t V\\_G\\_Vp\\_hippo    & 387342 & 24147808 & 2.070581e-09\\\\\n",
       "\t SE\\_V\\_G\\_Vp\\_hippo & 387456 & 24147694 & 2.070591e-09\\\\\n",
       "\t Pval\\_hippo      & 387342 & 24147808 & 2.070581e-09\\\\\n",
       "\t n\\_hippo         & 387342 & 24147808 & 2.070581e-09\\\\\n",
       "\t chr\\_cg          &      0 & 24535150 & 2.037893e-09\\\\\n",
       "\\end{tabular}\n"
      ],
      "text/markdown": [
       "\n",
       "A data.table: 15 × 4\n",
       "\n",
       "| Column &lt;fct&gt; | NA_Count &lt;int&gt; | non_NA_Count &lt;int&gt; | bonf &lt;dbl&gt; |\n",
       "|---|---|---|---|\n",
       "| chr             |      0 | 24535150 | 2.037893e-09 |\n",
       "| cg              |      0 | 24535150 | 2.037893e-09 |\n",
       "| V_G_Vp_caud     | 492976 | 24042174 | 2.079679e-09 |\n",
       "| SE_V_G_Vp_caud  | 493454 | 24041696 | 2.079720e-09 |\n",
       "| Pval_caud       | 492976 | 24042174 | 2.079679e-09 |\n",
       "| n_caud          | 492976 | 24042174 | 2.079679e-09 |\n",
       "| V_G_Vp_dlpfc    | 441169 | 24093981 | 2.075207e-09 |\n",
       "| SE_V_G_Vp_dlpfc | 441248 | 24093902 | 2.075214e-09 |\n",
       "| Pval_dlpfc      | 441169 | 24093981 | 2.075207e-09 |\n",
       "| n_dlpfc         | 441169 | 24093981 | 2.075207e-09 |\n",
       "| V_G_Vp_hippo    | 387342 | 24147808 | 2.070581e-09 |\n",
       "| SE_V_G_Vp_hippo | 387456 | 24147694 | 2.070591e-09 |\n",
       "| Pval_hippo      | 387342 | 24147808 | 2.070581e-09 |\n",
       "| n_hippo         | 387342 | 24147808 | 2.070581e-09 |\n",
       "| chr_cg          |      0 | 24535150 | 2.037893e-09 |\n",
       "\n"
      ],
      "text/plain": [
       "   Column          NA_Count non_NA_Count bonf        \n",
       "1  chr                  0   24535150     2.037893e-09\n",
       "2  cg                   0   24535150     2.037893e-09\n",
       "3  V_G_Vp_caud     492976   24042174     2.079679e-09\n",
       "4  SE_V_G_Vp_caud  493454   24041696     2.079720e-09\n",
       "5  Pval_caud       492976   24042174     2.079679e-09\n",
       "6  n_caud          492976   24042174     2.079679e-09\n",
       "7  V_G_Vp_dlpfc    441169   24093981     2.075207e-09\n",
       "8  SE_V_G_Vp_dlpfc 441248   24093902     2.075214e-09\n",
       "9  Pval_dlpfc      441169   24093981     2.075207e-09\n",
       "10 n_dlpfc         441169   24093981     2.075207e-09\n",
       "11 V_G_Vp_hippo    387342   24147808     2.070581e-09\n",
       "12 SE_V_G_Vp_hippo 387456   24147694     2.070591e-09\n",
       "13 Pval_hippo      387342   24147808     2.070581e-09\n",
       "14 n_hippo         387342   24147808     2.070581e-09\n",
       "15 chr_cg               0   24535150     2.037893e-09"
      ]
     },
     "metadata": {},
     "output_type": "display_data"
    }
   ],
   "source": [
    "library(data.table)\n",
    "\n",
    "# Suppose your data is in a data.table called dt\n",
    "\n",
    "# 1. Compute the NA count for each column:\n",
    "na_counts <- heritability[, lapply(.SD, function(x) sum(is.na(x)))]\n",
    "\n",
    "# 2. Compute the non-NA count for each column:\n",
    "non_na_counts <- heritability[, lapply(.SD, function(x) sum(!is.na(x)))]\n",
    "\n",
    "# 3. Melt both results to get a long-format table:\n",
    "na_table <- melt(na_counts, measure.vars = names(na_counts),\n",
    "                 variable.name = \"Column\", value.name = \"NA_Count\")\n",
    "non_na_table <- melt(non_na_counts, measure.vars = names(non_na_counts),\n",
    "                     variable.name = \"Column\", value.name = \"non_NA_Count\")\n",
    "\n",
    "# 4. Merge the two tables:\n",
    "final_table <- merge(na_table, non_na_table, by = \"Column\")\n",
    "\n",
    "# 5. Compute the bonf column as 0.05 divided by non_NA_Count:\n",
    "final_table[, bonf := 0.05 / non_NA_Count]\n",
    "\n",
    "# Display the final table:\n",
    "final_table"
   ]
  },
  {
   "cell_type": "code",
   "execution_count": 19,
   "id": "c828c67f-3fae-4272-9b69-72cfa814a6fd",
   "metadata": {},
   "outputs": [
    {
     "data": {
      "text/html": [
       "<table class=\"dataframe\">\n",
       "<caption>A data.table: 6 × 15</caption>\n",
       "<thead>\n",
       "\t<tr><th scope=col>chr</th><th scope=col>cg</th><th scope=col>V_G_Vp_caud</th><th scope=col>SE_V_G_Vp_caud</th><th scope=col>Pval_caud</th><th scope=col>n_caud</th><th scope=col>V_G_Vp_dlpfc</th><th scope=col>SE_V_G_Vp_dlpfc</th><th scope=col>Pval_dlpfc</th><th scope=col>n_dlpfc</th><th scope=col>V_G_Vp_hippo</th><th scope=col>SE_V_G_Vp_hippo</th><th scope=col>Pval_hippo</th><th scope=col>n_hippo</th><th scope=col>chr_cg</th></tr>\n",
       "\t<tr><th scope=col>&lt;int&gt;</th><th scope=col>&lt;int&gt;</th><th scope=col>&lt;dbl&gt;</th><th scope=col>&lt;dbl&gt;</th><th scope=col>&lt;dbl&gt;</th><th scope=col>&lt;int&gt;</th><th scope=col>&lt;dbl&gt;</th><th scope=col>&lt;dbl&gt;</th><th scope=col>&lt;dbl&gt;</th><th scope=col>&lt;int&gt;</th><th scope=col>&lt;dbl&gt;</th><th scope=col>&lt;dbl&gt;</th><th scope=col>&lt;dbl&gt;</th><th scope=col>&lt;int&gt;</th><th scope=col>&lt;chr&gt;</th></tr>\n",
       "</thead>\n",
       "<tbody>\n",
       "\t<tr><td>1</td><td>1069461</td><td>1e-06</td><td>0.018944</td><td>0.5</td><td>297</td><td>1e-06</td><td>0.055024</td><td>0.5</td><td>163</td><td>0.001690</td><td>0.013338</td><td>0.44274</td><td>178</td><td>1_1069461</td></tr>\n",
       "\t<tr><td>1</td><td>1069467</td><td>1e-06</td><td>0.019105</td><td>0.5</td><td>297</td><td>1e-06</td><td>0.059936</td><td>0.5</td><td>163</td><td>0.001226</td><td>0.012695</td><td>0.45768</td><td>178</td><td>1_1069467</td></tr>\n",
       "\t<tr><td>1</td><td>1069470</td><td>1e-06</td><td>0.019186</td><td>0.5</td><td>297</td><td>1e-06</td><td>0.062771</td><td>0.5</td><td>163</td><td>0.000994</td><td>0.012372</td><td>0.46536</td><td>178</td><td>1_1069470</td></tr>\n",
       "\t<tr><td>1</td><td>1069477</td><td>1e-06</td><td>0.019386</td><td>0.5</td><td>297</td><td>1e-06</td><td>0.070604</td><td>0.5</td><td>163</td><td>0.000454</td><td>0.011619</td><td>0.48383</td><td>178</td><td>1_1069477</td></tr>\n",
       "\t<tr><td>1</td><td>1069484</td><td>1e-06</td><td>0.007995</td><td>0.5</td><td>297</td><td>2e-06</td><td>0.089671</td><td>0.5</td><td>163</td><td>0.000001</td><td>0.012782</td><td>0.50000</td><td>178</td><td>1_1069484</td></tr>\n",
       "\t<tr><td>1</td><td>1069498</td><td>1e-06</td><td>0.008194</td><td>0.5</td><td>297</td><td>3e-06</td><td>0.105596</td><td>0.5</td><td>163</td><td>0.000001</td><td>0.013529</td><td>0.50000</td><td>178</td><td>1_1069498</td></tr>\n",
       "</tbody>\n",
       "</table>\n"
      ],
      "text/latex": [
       "A data.table: 6 × 15\n",
       "\\begin{tabular}{lllllllllllllll}\n",
       " chr & cg & V\\_G\\_Vp\\_caud & SE\\_V\\_G\\_Vp\\_caud & Pval\\_caud & n\\_caud & V\\_G\\_Vp\\_dlpfc & SE\\_V\\_G\\_Vp\\_dlpfc & Pval\\_dlpfc & n\\_dlpfc & V\\_G\\_Vp\\_hippo & SE\\_V\\_G\\_Vp\\_hippo & Pval\\_hippo & n\\_hippo & chr\\_cg\\\\\n",
       " <int> & <int> & <dbl> & <dbl> & <dbl> & <int> & <dbl> & <dbl> & <dbl> & <int> & <dbl> & <dbl> & <dbl> & <int> & <chr>\\\\\n",
       "\\hline\n",
       "\t 1 & 1069461 & 1e-06 & 0.018944 & 0.5 & 297 & 1e-06 & 0.055024 & 0.5 & 163 & 0.001690 & 0.013338 & 0.44274 & 178 & 1\\_1069461\\\\\n",
       "\t 1 & 1069467 & 1e-06 & 0.019105 & 0.5 & 297 & 1e-06 & 0.059936 & 0.5 & 163 & 0.001226 & 0.012695 & 0.45768 & 178 & 1\\_1069467\\\\\n",
       "\t 1 & 1069470 & 1e-06 & 0.019186 & 0.5 & 297 & 1e-06 & 0.062771 & 0.5 & 163 & 0.000994 & 0.012372 & 0.46536 & 178 & 1\\_1069470\\\\\n",
       "\t 1 & 1069477 & 1e-06 & 0.019386 & 0.5 & 297 & 1e-06 & 0.070604 & 0.5 & 163 & 0.000454 & 0.011619 & 0.48383 & 178 & 1\\_1069477\\\\\n",
       "\t 1 & 1069484 & 1e-06 & 0.007995 & 0.5 & 297 & 2e-06 & 0.089671 & 0.5 & 163 & 0.000001 & 0.012782 & 0.50000 & 178 & 1\\_1069484\\\\\n",
       "\t 1 & 1069498 & 1e-06 & 0.008194 & 0.5 & 297 & 3e-06 & 0.105596 & 0.5 & 163 & 0.000001 & 0.013529 & 0.50000 & 178 & 1\\_1069498\\\\\n",
       "\\end{tabular}\n"
      ],
      "text/markdown": [
       "\n",
       "A data.table: 6 × 15\n",
       "\n",
       "| chr &lt;int&gt; | cg &lt;int&gt; | V_G_Vp_caud &lt;dbl&gt; | SE_V_G_Vp_caud &lt;dbl&gt; | Pval_caud &lt;dbl&gt; | n_caud &lt;int&gt; | V_G_Vp_dlpfc &lt;dbl&gt; | SE_V_G_Vp_dlpfc &lt;dbl&gt; | Pval_dlpfc &lt;dbl&gt; | n_dlpfc &lt;int&gt; | V_G_Vp_hippo &lt;dbl&gt; | SE_V_G_Vp_hippo &lt;dbl&gt; | Pval_hippo &lt;dbl&gt; | n_hippo &lt;int&gt; | chr_cg &lt;chr&gt; |\n",
       "|---|---|---|---|---|---|---|---|---|---|---|---|---|---|---|\n",
       "| 1 | 1069461 | 1e-06 | 0.018944 | 0.5 | 297 | 1e-06 | 0.055024 | 0.5 | 163 | 0.001690 | 0.013338 | 0.44274 | 178 | 1_1069461 |\n",
       "| 1 | 1069467 | 1e-06 | 0.019105 | 0.5 | 297 | 1e-06 | 0.059936 | 0.5 | 163 | 0.001226 | 0.012695 | 0.45768 | 178 | 1_1069467 |\n",
       "| 1 | 1069470 | 1e-06 | 0.019186 | 0.5 | 297 | 1e-06 | 0.062771 | 0.5 | 163 | 0.000994 | 0.012372 | 0.46536 | 178 | 1_1069470 |\n",
       "| 1 | 1069477 | 1e-06 | 0.019386 | 0.5 | 297 | 1e-06 | 0.070604 | 0.5 | 163 | 0.000454 | 0.011619 | 0.48383 | 178 | 1_1069477 |\n",
       "| 1 | 1069484 | 1e-06 | 0.007995 | 0.5 | 297 | 2e-06 | 0.089671 | 0.5 | 163 | 0.000001 | 0.012782 | 0.50000 | 178 | 1_1069484 |\n",
       "| 1 | 1069498 | 1e-06 | 0.008194 | 0.5 | 297 | 3e-06 | 0.105596 | 0.5 | 163 | 0.000001 | 0.013529 | 0.50000 | 178 | 1_1069498 |\n",
       "\n"
      ],
      "text/plain": [
       "  chr cg      V_G_Vp_caud SE_V_G_Vp_caud Pval_caud n_caud V_G_Vp_dlpfc\n",
       "1 1   1069461 1e-06       0.018944       0.5       297    1e-06       \n",
       "2 1   1069467 1e-06       0.019105       0.5       297    1e-06       \n",
       "3 1   1069470 1e-06       0.019186       0.5       297    1e-06       \n",
       "4 1   1069477 1e-06       0.019386       0.5       297    1e-06       \n",
       "5 1   1069484 1e-06       0.007995       0.5       297    2e-06       \n",
       "6 1   1069498 1e-06       0.008194       0.5       297    3e-06       \n",
       "  SE_V_G_Vp_dlpfc Pval_dlpfc n_dlpfc V_G_Vp_hippo SE_V_G_Vp_hippo Pval_hippo\n",
       "1 0.055024        0.5        163     0.001690     0.013338        0.44274   \n",
       "2 0.059936        0.5        163     0.001226     0.012695        0.45768   \n",
       "3 0.062771        0.5        163     0.000994     0.012372        0.46536   \n",
       "4 0.070604        0.5        163     0.000454     0.011619        0.48383   \n",
       "5 0.089671        0.5        163     0.000001     0.012782        0.50000   \n",
       "6 0.105596        0.5        163     0.000001     0.013529        0.50000   \n",
       "  n_hippo chr_cg   \n",
       "1 178     1_1069461\n",
       "2 178     1_1069467\n",
       "3 178     1_1069470\n",
       "4 178     1_1069477\n",
       "5 178     1_1069484\n",
       "6 178     1_1069498"
      ]
     },
     "metadata": {},
     "output_type": "display_data"
    }
   ],
   "source": [
    "head(heritability)"
   ]
  },
  {
   "cell_type": "code",
   "execution_count": 20,
   "id": "12c98776-b185-4b61-a767-f5fd94ac4c2a",
   "metadata": {},
   "outputs": [
    {
     "data": {
      "text/html": [
       "<table class=\"dataframe\">\n",
       "<caption>A data.table: 6 × 18</caption>\n",
       "<thead>\n",
       "\t<tr><th scope=col>chr</th><th scope=col>cg</th><th scope=col>V_G_Vp_caud</th><th scope=col>SE_V_G_Vp_caud</th><th scope=col>Pval_caud</th><th scope=col>n_caud</th><th scope=col>V_G_Vp_dlpfc</th><th scope=col>SE_V_G_Vp_dlpfc</th><th scope=col>Pval_dlpfc</th><th scope=col>n_dlpfc</th><th scope=col>V_G_Vp_hippo</th><th scope=col>SE_V_G_Vp_hippo</th><th scope=col>Pval_hippo</th><th scope=col>n_hippo</th><th scope=col>chr_cg</th><th scope=col>signif_caud</th><th scope=col>signif_dlpfc</th><th scope=col>signif_hippo</th></tr>\n",
       "\t<tr><th scope=col>&lt;int&gt;</th><th scope=col>&lt;int&gt;</th><th scope=col>&lt;dbl&gt;</th><th scope=col>&lt;dbl&gt;</th><th scope=col>&lt;dbl&gt;</th><th scope=col>&lt;int&gt;</th><th scope=col>&lt;dbl&gt;</th><th scope=col>&lt;dbl&gt;</th><th scope=col>&lt;dbl&gt;</th><th scope=col>&lt;int&gt;</th><th scope=col>&lt;dbl&gt;</th><th scope=col>&lt;dbl&gt;</th><th scope=col>&lt;dbl&gt;</th><th scope=col>&lt;int&gt;</th><th scope=col>&lt;chr&gt;</th><th scope=col>&lt;lgl&gt;</th><th scope=col>&lt;lgl&gt;</th><th scope=col>&lt;lgl&gt;</th></tr>\n",
       "</thead>\n",
       "<tbody>\n",
       "\t<tr><td>1</td><td>1069461</td><td>1e-06</td><td>0.018944</td><td>0.5</td><td>297</td><td>1e-06</td><td>0.055024</td><td>0.5</td><td>163</td><td>0.001690</td><td>0.013338</td><td>0.44274</td><td>178</td><td>1_1069461</td><td>FALSE</td><td>FALSE</td><td>FALSE</td></tr>\n",
       "\t<tr><td>1</td><td>1069467</td><td>1e-06</td><td>0.019105</td><td>0.5</td><td>297</td><td>1e-06</td><td>0.059936</td><td>0.5</td><td>163</td><td>0.001226</td><td>0.012695</td><td>0.45768</td><td>178</td><td>1_1069467</td><td>FALSE</td><td>FALSE</td><td>FALSE</td></tr>\n",
       "\t<tr><td>1</td><td>1069470</td><td>1e-06</td><td>0.019186</td><td>0.5</td><td>297</td><td>1e-06</td><td>0.062771</td><td>0.5</td><td>163</td><td>0.000994</td><td>0.012372</td><td>0.46536</td><td>178</td><td>1_1069470</td><td>FALSE</td><td>FALSE</td><td>FALSE</td></tr>\n",
       "\t<tr><td>1</td><td>1069477</td><td>1e-06</td><td>0.019386</td><td>0.5</td><td>297</td><td>1e-06</td><td>0.070604</td><td>0.5</td><td>163</td><td>0.000454</td><td>0.011619</td><td>0.48383</td><td>178</td><td>1_1069477</td><td>FALSE</td><td>FALSE</td><td>FALSE</td></tr>\n",
       "\t<tr><td>1</td><td>1069484</td><td>1e-06</td><td>0.007995</td><td>0.5</td><td>297</td><td>2e-06</td><td>0.089671</td><td>0.5</td><td>163</td><td>0.000001</td><td>0.012782</td><td>0.50000</td><td>178</td><td>1_1069484</td><td>FALSE</td><td>FALSE</td><td>FALSE</td></tr>\n",
       "\t<tr><td>1</td><td>1069498</td><td>1e-06</td><td>0.008194</td><td>0.5</td><td>297</td><td>3e-06</td><td>0.105596</td><td>0.5</td><td>163</td><td>0.000001</td><td>0.013529</td><td>0.50000</td><td>178</td><td>1_1069498</td><td>FALSE</td><td>FALSE</td><td>FALSE</td></tr>\n",
       "</tbody>\n",
       "</table>\n"
      ],
      "text/latex": [
       "A data.table: 6 × 18\n",
       "\\begin{tabular}{llllllllllllllllll}\n",
       " chr & cg & V\\_G\\_Vp\\_caud & SE\\_V\\_G\\_Vp\\_caud & Pval\\_caud & n\\_caud & V\\_G\\_Vp\\_dlpfc & SE\\_V\\_G\\_Vp\\_dlpfc & Pval\\_dlpfc & n\\_dlpfc & V\\_G\\_Vp\\_hippo & SE\\_V\\_G\\_Vp\\_hippo & Pval\\_hippo & n\\_hippo & chr\\_cg & signif\\_caud & signif\\_dlpfc & signif\\_hippo\\\\\n",
       " <int> & <int> & <dbl> & <dbl> & <dbl> & <int> & <dbl> & <dbl> & <dbl> & <int> & <dbl> & <dbl> & <dbl> & <int> & <chr> & <lgl> & <lgl> & <lgl>\\\\\n",
       "\\hline\n",
       "\t 1 & 1069461 & 1e-06 & 0.018944 & 0.5 & 297 & 1e-06 & 0.055024 & 0.5 & 163 & 0.001690 & 0.013338 & 0.44274 & 178 & 1\\_1069461 & FALSE & FALSE & FALSE\\\\\n",
       "\t 1 & 1069467 & 1e-06 & 0.019105 & 0.5 & 297 & 1e-06 & 0.059936 & 0.5 & 163 & 0.001226 & 0.012695 & 0.45768 & 178 & 1\\_1069467 & FALSE & FALSE & FALSE\\\\\n",
       "\t 1 & 1069470 & 1e-06 & 0.019186 & 0.5 & 297 & 1e-06 & 0.062771 & 0.5 & 163 & 0.000994 & 0.012372 & 0.46536 & 178 & 1\\_1069470 & FALSE & FALSE & FALSE\\\\\n",
       "\t 1 & 1069477 & 1e-06 & 0.019386 & 0.5 & 297 & 1e-06 & 0.070604 & 0.5 & 163 & 0.000454 & 0.011619 & 0.48383 & 178 & 1\\_1069477 & FALSE & FALSE & FALSE\\\\\n",
       "\t 1 & 1069484 & 1e-06 & 0.007995 & 0.5 & 297 & 2e-06 & 0.089671 & 0.5 & 163 & 0.000001 & 0.012782 & 0.50000 & 178 & 1\\_1069484 & FALSE & FALSE & FALSE\\\\\n",
       "\t 1 & 1069498 & 1e-06 & 0.008194 & 0.5 & 297 & 3e-06 & 0.105596 & 0.5 & 163 & 0.000001 & 0.013529 & 0.50000 & 178 & 1\\_1069498 & FALSE & FALSE & FALSE\\\\\n",
       "\\end{tabular}\n"
      ],
      "text/markdown": [
       "\n",
       "A data.table: 6 × 18\n",
       "\n",
       "| chr &lt;int&gt; | cg &lt;int&gt; | V_G_Vp_caud &lt;dbl&gt; | SE_V_G_Vp_caud &lt;dbl&gt; | Pval_caud &lt;dbl&gt; | n_caud &lt;int&gt; | V_G_Vp_dlpfc &lt;dbl&gt; | SE_V_G_Vp_dlpfc &lt;dbl&gt; | Pval_dlpfc &lt;dbl&gt; | n_dlpfc &lt;int&gt; | V_G_Vp_hippo &lt;dbl&gt; | SE_V_G_Vp_hippo &lt;dbl&gt; | Pval_hippo &lt;dbl&gt; | n_hippo &lt;int&gt; | chr_cg &lt;chr&gt; | signif_caud &lt;lgl&gt; | signif_dlpfc &lt;lgl&gt; | signif_hippo &lt;lgl&gt; |\n",
       "|---|---|---|---|---|---|---|---|---|---|---|---|---|---|---|---|---|---|\n",
       "| 1 | 1069461 | 1e-06 | 0.018944 | 0.5 | 297 | 1e-06 | 0.055024 | 0.5 | 163 | 0.001690 | 0.013338 | 0.44274 | 178 | 1_1069461 | FALSE | FALSE | FALSE |\n",
       "| 1 | 1069467 | 1e-06 | 0.019105 | 0.5 | 297 | 1e-06 | 0.059936 | 0.5 | 163 | 0.001226 | 0.012695 | 0.45768 | 178 | 1_1069467 | FALSE | FALSE | FALSE |\n",
       "| 1 | 1069470 | 1e-06 | 0.019186 | 0.5 | 297 | 1e-06 | 0.062771 | 0.5 | 163 | 0.000994 | 0.012372 | 0.46536 | 178 | 1_1069470 | FALSE | FALSE | FALSE |\n",
       "| 1 | 1069477 | 1e-06 | 0.019386 | 0.5 | 297 | 1e-06 | 0.070604 | 0.5 | 163 | 0.000454 | 0.011619 | 0.48383 | 178 | 1_1069477 | FALSE | FALSE | FALSE |\n",
       "| 1 | 1069484 | 1e-06 | 0.007995 | 0.5 | 297 | 2e-06 | 0.089671 | 0.5 | 163 | 0.000001 | 0.012782 | 0.50000 | 178 | 1_1069484 | FALSE | FALSE | FALSE |\n",
       "| 1 | 1069498 | 1e-06 | 0.008194 | 0.5 | 297 | 3e-06 | 0.105596 | 0.5 | 163 | 0.000001 | 0.013529 | 0.50000 | 178 | 1_1069498 | FALSE | FALSE | FALSE |\n",
       "\n"
      ],
      "text/plain": [
       "  chr cg      V_G_Vp_caud SE_V_G_Vp_caud Pval_caud n_caud V_G_Vp_dlpfc\n",
       "1 1   1069461 1e-06       0.018944       0.5       297    1e-06       \n",
       "2 1   1069467 1e-06       0.019105       0.5       297    1e-06       \n",
       "3 1   1069470 1e-06       0.019186       0.5       297    1e-06       \n",
       "4 1   1069477 1e-06       0.019386       0.5       297    1e-06       \n",
       "5 1   1069484 1e-06       0.007995       0.5       297    2e-06       \n",
       "6 1   1069498 1e-06       0.008194       0.5       297    3e-06       \n",
       "  SE_V_G_Vp_dlpfc Pval_dlpfc n_dlpfc V_G_Vp_hippo SE_V_G_Vp_hippo Pval_hippo\n",
       "1 0.055024        0.5        163     0.001690     0.013338        0.44274   \n",
       "2 0.059936        0.5        163     0.001226     0.012695        0.45768   \n",
       "3 0.062771        0.5        163     0.000994     0.012372        0.46536   \n",
       "4 0.070604        0.5        163     0.000454     0.011619        0.48383   \n",
       "5 0.089671        0.5        163     0.000001     0.012782        0.50000   \n",
       "6 0.105596        0.5        163     0.000001     0.013529        0.50000   \n",
       "  n_hippo chr_cg    signif_caud signif_dlpfc signif_hippo\n",
       "1 178     1_1069461 FALSE       FALSE        FALSE       \n",
       "2 178     1_1069467 FALSE       FALSE        FALSE       \n",
       "3 178     1_1069470 FALSE       FALSE        FALSE       \n",
       "4 178     1_1069477 FALSE       FALSE        FALSE       \n",
       "5 178     1_1069484 FALSE       FALSE        FALSE       \n",
       "6 178     1_1069498 FALSE       FALSE        FALSE       "
      ]
     },
     "metadata": {},
     "output_type": "display_data"
    }
   ],
   "source": [
    "# Extract the Bonferroni thresholds for each p-value column\n",
    "thresh_caud <- final_table[Column == \"Pval_caud\", bonf]\n",
    "thresh_dlpfc <- final_table[Column == \"Pval_dlpfc\", bonf]\n",
    "thresh_hippo <- final_table[Column == \"Pval_hippo\", bonf]\n",
    "\n",
    "# Add new columns to heritability indicating significance for each region\n",
    "heritability[, signif_caud := Pval_caud < thresh_caud]\n",
    "heritability[, signif_dlpfc := Pval_dlpfc < thresh_dlpfc]\n",
    "heritability[, signif_hippo := Pval_hippo < thresh_hippo]\n",
    "\n",
    "# Check the updated data.table\n",
    "head(heritability)"
   ]
  },
  {
   "cell_type": "code",
   "execution_count": 28,
   "id": "f6d60726-be62-4088-a615-c643c97fdc59",
   "metadata": {},
   "outputs": [
    {
     "data": {
      "image/png": "[encoded data removed]",
      "text/plain": [
       "plot without title"
      ]
     },
     "metadata": {
      "image/png": {
       "height": 420,
       "width": 420
      }
     },
     "output_type": "display_data"
    }
   ],
   "source": [
    "library(data.table)\n",
    "library(ggplot2)\n",
    "\n",
    "# Suppose your main data.table is called `heritability` and you have:\n",
    "# V_G_Vp_caud, Pval_caud, signif_caud\n",
    "# V_G_Vp_dlpfc, Pval_dlpfc, signif_dlpfc\n",
    "# V_G_Vp_hippo, Pval_hippo, signif_hippo\n",
    "\n",
    "# 1) Reshape your data into a \"long\" format.\n",
    "df_caud <- heritability[, .(\n",
    "  region       = \"caud\",\n",
    "  heritability = V_G_Vp_caud,\n",
    "  signif       = signif_caud\n",
    ")]\n",
    "df_dlpfc <- heritability[, .(\n",
    "  region       = \"dlpfc\",\n",
    "  heritability = V_G_Vp_dlpfc,\n",
    "  signif       = signif_dlpfc\n",
    ")]\n",
    "df_hippo <- heritability[, .(\n",
    "  region       = \"hippo\",\n",
    "  heritability = V_G_Vp_hippo,\n",
    "  signif       = signif_hippo\n",
    ")]\n",
    "df_long <- rbind(df_caud, df_dlpfc, df_hippo)\n",
    "\n",
    "# Convert 'signif' to character so we can add an extra category\n",
    "df_long[, signif := as.character(signif)]\n",
    "\n",
    "# Create a copy of the data with all rows, labeled as \"All\"\n",
    "df_all <- copy(df_long)\n",
    "df_all[, signif := \"All\"]\n",
    "\n",
    "# Combine the two datasets so that each region now has density curves for \n",
    "# \"p < 0.05\", \"p > 0.05\", and \"All\"\n",
    "df_combined <- rbind(df_long, df_all)\n",
    "\n",
    "# Create a labeller to rename the regions\n",
    "region_labels <- c(\"caud\"   = \"Caudate\",\n",
    "                   \"dlpfc\"  = \"DLPFC\",\n",
    "                   \"hippo\"  = \"Hippocampus\")\n",
    "\n",
    "# 2) Create the plot with shared y-axes, custom legend title (with line break),\n",
    "#    a black border around the legend, and capitalized \"Density\" on the y-axis.\n",
    "p <- ggplot(df_combined, aes(x = heritability, color = signif)) +\n",
    "  geom_density(na.rm = TRUE) +\n",
    "  facet_wrap(~ region, ncol = 3, scales = \"fixed\", labeller = as_labeller(region_labels)) +\n",
    "  scale_color_manual(\n",
    "    breaks = c(\"FALSE\", \"TRUE\", \"All\"),\n",
    "    labels = c(\"p > 0.05\", \"p < 0.05\", \"All\"),\n",
    "    values = c(\"FALSE\" = \"blue\", \"TRUE\" = \"red\", \"All\" = \"black\")\n",
    "  ) +\n",
    "  scale_x_continuous(breaks = c(0.0, 0.2, 0.4, 0.6, 0.8, 1.0)) +\n",
    "  theme_bw() +\n",
    "  theme(\n",
    "    text             = element_text(size = 18),\n",
    "    axis.title       = element_text(size = 16),\n",
    "    axis.text        = element_text(size = 14),\n",
    "    legend.position  = c(0.85, 0.85),  # Moves the legend inside the plot area\n",
    "    legend.background = element_rect(fill = \"white\", color = \"black\")\n",
    "  ) +\n",
    "  labs(x = \"Heritability\", y = \"Density\", color = \"Significance\\n(Bonferroni)\")\n",
    "\n",
    "# Display the plot in Jupyter\n",
    "print(p)\n",
    "\n",
    "# 3) Create directories if they don't exist and save the plot\n",
    "if(!dir.exists(\"polish_plots/plot_outputs\")){\n",
    "  dir.create(\"polish_plots/plot_outputs\", recursive = TRUE)\n",
    "}\n",
    "\n",
    "ggsave(filename = \"polish_plots/plot_outputs/oldstyle-Fig1A.png\",\n",
    "       plot     = p,\n",
    "       width    = 10,\n",
    "       height   = 6,\n",
    "       dpi      = 300)"
   ]
  },
  {
   "cell_type": "code",
   "execution_count": 29,
   "id": "10d0e2b3-09d6-441d-83e7-2be41aedc7c5",
   "metadata": {},
   "outputs": [],
   "source": [
    "# Number of unique CpG sites with features\n",
    "N_total_CpGs_overlapping_any_feature <- uniqueN(coremarks$chr_cg)"
   ]
  },
  {
   "cell_type": "code",
   "execution_count": 15,
   "id": "9a02519a-2dde-4a22-909f-b6fa6134d93a",
   "metadata": {},
   "outputs": [
    {
     "data": {
      "text/html": [
       "22824979"
      ],
      "text/latex": [
       "22824979"
      ],
      "text/markdown": [
       "22824979"
      ],
      "text/plain": [
       "[1] 22824979"
      ]
     },
     "metadata": {},
     "output_type": "display_data"
    }
   ],
   "source": [
    "N_total_CpGs_overlapping_any_feature"
   ]
  },
  {
   "cell_type": "code",
   "execution_count": 16,
   "id": "2d82d638-723e-4f11-be88-3a1238482209",
   "metadata": {},
   "outputs": [
    {
     "data": {
      "text/html": [
       "0"
      ],
      "text/latex": [
       "0"
      ],
      "text/markdown": [
       "0"
      ],
      "text/plain": [
       "[1] 0"
      ]
     },
     "metadata": {},
     "output_type": "display_data"
    }
   ],
   "source": [
    "N_total"
   ]
  },
  {
   "cell_type": "code",
   "execution_count": 17,
   "id": "e9a09ace-55b3-4ade-a1d6-f20bc48ed1fd",
   "metadata": {},
   "outputs": [],
   "source": [
    "# Number of CpG sites per feature\n",
    "N_CpGs_overlapping_each_feature <- coremarks[, .(N_feature = uniqueN(chr_cg)), by = feature]"
   ]
  },
  {
   "cell_type": "code",
   "execution_count": 18,
   "id": "57dc002a-d8dd-463b-bd35-4948bbca5022",
   "metadata": {},
   "outputs": [
    {
     "data": {
      "text/html": [
       "<table class=\"dataframe\">\n",
       "<caption>A data.table: 6 × 2</caption>\n",
       "<thead>\n",
       "\t<tr><th scope=col>feature</th><th scope=col>N_feature</th></tr>\n",
       "\t<tr><th scope=col>&lt;chr&gt;</th><th scope=col>&lt;int&gt;</th></tr>\n",
       "</thead>\n",
       "<tbody>\n",
       "\t<tr><td>Bivalent TSS (DLPFC)                         </td><td> 137066</td></tr>\n",
       "\t<tr><td>Bivalent Flanking Region (Hippocampus Middle)</td><td> 138566</td></tr>\n",
       "\t<tr><td>Weak Repressive Polycomb (Anterior Caudate)  </td><td>1565071</td></tr>\n",
       "\t<tr><td>Bivalent Enhancer (Hippocampus Middle)       </td><td>  83010</td></tr>\n",
       "\t<tr><td>Repressive Polycomb (Hippocampus Middle)     </td><td> 294283</td></tr>\n",
       "\t<tr><td>Repressive Polycomb (DLPFC)                  </td><td> 245169</td></tr>\n",
       "</tbody>\n",
       "</table>\n"
      ],
      "text/latex": [
       "A data.table: 6 × 2\n",
       "\\begin{tabular}{ll}\n",
       " feature & N\\_feature\\\\\n",
       " <chr> & <int>\\\\\n",
       "\\hline\n",
       "\t Bivalent TSS (DLPFC)                          &  137066\\\\\n",
       "\t Bivalent Flanking Region (Hippocampus Middle) &  138566\\\\\n",
       "\t Weak Repressive Polycomb (Anterior Caudate)   & 1565071\\\\\n",
       "\t Bivalent Enhancer (Hippocampus Middle)        &   83010\\\\\n",
       "\t Repressive Polycomb (Hippocampus Middle)      &  294283\\\\\n",
       "\t Repressive Polycomb (DLPFC)                   &  245169\\\\\n",
       "\\end{tabular}\n"
      ],
      "text/markdown": [
       "\n",
       "A data.table: 6 × 2\n",
       "\n",
       "| feature &lt;chr&gt; | N_feature &lt;int&gt; |\n",
       "|---|---|\n",
       "| Bivalent TSS (DLPFC)                          |  137066 |\n",
       "| Bivalent Flanking Region (Hippocampus Middle) |  138566 |\n",
       "| Weak Repressive Polycomb (Anterior Caudate)   | 1565071 |\n",
       "| Bivalent Enhancer (Hippocampus Middle)        |   83010 |\n",
       "| Repressive Polycomb (Hippocampus Middle)      |  294283 |\n",
       "| Repressive Polycomb (DLPFC)                   |  245169 |\n",
       "\n"
      ],
      "text/plain": [
       "  feature                                       N_feature\n",
       "1 Bivalent TSS (DLPFC)                           137066  \n",
       "2 Bivalent Flanking Region (Hippocampus Middle)  138566  \n",
       "3 Weak Repressive Polycomb (Anterior Caudate)   1565071  \n",
       "4 Bivalent Enhancer (Hippocampus Middle)          83010  \n",
       "5 Repressive Polycomb (Hippocampus Middle)       294283  \n",
       "6 Repressive Polycomb (DLPFC)                    245169  "
      ]
     },
     "metadata": {},
     "output_type": "display_data"
    }
   ],
   "source": [
    "head(N_CpGs_overlapping_each_feature)"
   ]
  },
  {
   "cell_type": "markdown",
   "id": "cfe54740-d8c4-4aaf-b98a-af1449d856ac",
   "metadata": {},
   "source": [
    "Let's sanity check N_CpGs_overlapping_each_feature"
   ]
  },
  {
   "cell_type": "code",
   "execution_count": 19,
   "id": "8fc4eaaa-2130-4820-b162-40934d29d167",
   "metadata": {},
   "outputs": [],
   "source": [
    "test <- coremarks[which(coremarks$feature == \"Bivalent TSS (DLPFC)\"), ]"
   ]
  },
  {
   "cell_type": "code",
   "execution_count": 20,
   "id": "8216a0b4-814f-4388-976e-e799ceed332e",
   "metadata": {},
   "outputs": [
    {
     "data": {
      "text/html": [
       "<style>\n",
       ".list-inline {list-style: none; margin:0; padding: 0}\n",
       ".list-inline>li {display: inline-block}\n",
       ".list-inline>li:not(:last-child)::after {content: \"\\00b7\"; padding: 0 .5ex}\n",
       "</style>\n",
       "<ol class=list-inline><li>137066</li><li>48</li></ol>\n"
      ],
      "text/latex": [
       "\\begin{enumerate*}\n",
       "\\item 137066\n",
       "\\item 48\n",
       "\\end{enumerate*}\n"
      ],
      "text/markdown": [
       "1. 137066\n",
       "2. 48\n",
       "\n",
       "\n"
      ],
      "text/plain": [
       "[1] 137066     48"
      ]
     },
     "metadata": {},
     "output_type": "display_data"
    }
   ],
   "source": [
    "dim(test)"
   ]
  },
  {
   "cell_type": "code",
   "execution_count": null,
   "id": "4146f5d7-f3a1-4e7a-b2a1-23579c27fbf4",
   "metadata": {},
   "outputs": [],
   "source": [
    "# Number of significant CpG sites per feature and brain region\n",
    "N_sig_feature_region <- coremarks[, .(\n",
    "  caud = uniqueN(chr_cg[Pval_caud <= bonf]),\n",
    "  dlpfc = uniqueN(chr_cg[Pval_dlpfc <= bonf]),\n",
    "  hippo = uniqueN(chr_cg[Pval_hippo <= bonf])\n",
    "), by = feature]\n",
    "\n",
    "# Number of significant CpG sites without features per brain region\n",
    "N_sig_no_feature_region <- data.table(\n",
    "  caud = N_sig_region$caud - N_sig_features_region$caud,\n",
    "  dlpfc = N_sig_region$dlpfc - N_sig_features_region$dlpfc,\n",
    "  hippo = N_sig_region$hippo - N_sig_features_region$hippo\n",
    ")"
   ]
  },
  {
   "cell_type": "code",
   "execution_count": null,
   "id": "57709b70-4c33-4f44-b06a-1e3bd7325695",
   "metadata": {},
   "outputs": [],
   "source": [
    "N_sig_no_feature_region"
   ]
  },
  {
   "cell_type": "code",
   "execution_count": null,
   "id": "fdf8f4b0-e49f-4c04-970f-d02a1e72da17",
   "metadata": {},
   "outputs": [],
   "source": [
    "# -----------------------------\n",
    "# 6. Combine Counts into `count_final`\n",
    "# -----------------------------\n",
    "\n",
    "# Create `count_final` Data.table with feature counts\n",
    "count_final <- merge(N_CpGs_overlapping_each_feature, N_sig_feature_region, by = \"feature\")\n",
    "\n",
    "# Add 'No Feature' category\n",
    "no_feature_counts <- data.table(\n",
    "  feature = \"No Feature\",\n",
    "  N_feature = N_no_feature,\n",
    "  caud = N_sig_no_feature_region$caud,\n",
    "  dlpfc = N_sig_no_feature_region$dlpfc,\n",
    "  hippo = N_sig_no_feature_region$hippo\n",
    ")\n",
    "\n",
    "# Append 'No Feature' to `count_final`\n",
    "count_final2 <- rbind(count_final, no_feature_counts, fill = TRUE)"
   ]
  },
  {
   "cell_type": "code",
   "execution_count": null,
   "id": "4f052b12-aba4-4557-91a7-1a1a22dd2d2d",
   "metadata": {},
   "outputs": [],
   "source": [
    "N_total"
   ]
  },
  {
   "cell_type": "code",
   "execution_count": null,
   "id": "1e38d0cb-ad5f-43b3-ac29-b68c29aab220",
   "metadata": {},
   "outputs": [],
   "source": [
    "# -----------------------------\n",
    "# 7. Calculate Background Frequencies and Expected Counts\n",
    "# -----------------------------\n",
    "\n",
    "# Calculate background frequency for each feature\n",
    "# This is the frequency whether heritable or not.\n",
    "# N_feature represents N_CpGs_overlapping_each_feature (regardless whether heritable or not)\n",
    "# N_total represents total CpGs whether overlapping with feature or not (regardless whether heritable or not)\n",
    "count_final[, background_freq := N_feature / N_total]"
   ]
  },
  {
   "cell_type": "code",
   "execution_count": null,
   "id": "3fc62575-c529-4a6c-9bc0-5a0d3e737387",
   "metadata": {},
   "outputs": [],
   "source": [
    "count_final"
   ]
  },
  {
   "cell_type": "code",
   "execution_count": null,
   "id": "2439a1ba-a511-402e-b376-5ef543077962",
   "metadata": {},
   "outputs": [],
   "source": [
    "N_sig_region"
   ]
  },
  {
   "cell_type": "markdown",
   "id": "0b7a0906-1ed3-4477-8d78-8b3e24679ce9",
   "metadata": {},
   "source": [
    "## Up to here"
   ]
  },
  {
   "cell_type": "markdown",
   "id": "a5503648-a39e-4103-8bf8-c96ea8ce15a0",
   "metadata": {},
   "source": [
    "To find the observed frequency...."
   ]
  },
  {
   "cell_type": "code",
   "execution_count": null,
   "id": "64405e9f-a699-49af-b61b-21a73b97ffb2",
   "metadata": {},
   "outputs": [],
   "source": [
    "# We need to know how many CpG sites are heritable in given region, and also overlap with a feature."
   ]
  },
  {
   "cell_type": "code",
   "execution_count": null,
   "id": "5fe3483a-2103-4e0d-b654-21b1fd3265d4",
   "metadata": {},
   "outputs": [],
   "source": [
    "nrow(coremarks[which(coremarks$feature == \"Quiescent (DLPFC)\" & coremarks$Pval_caud <= bonf), ])"
   ]
  },
  {
   "cell_type": "code",
   "execution_count": null,
   "id": "e67817d8-3a2d-4d3c-87db-3532ef16f600",
   "metadata": {},
   "outputs": [],
   "source": [
    "count_final[which(count_final$feature == \"Quiescent (DLPFC)\"), ]"
   ]
  },
  {
   "cell_type": "code",
   "execution_count": null,
   "id": "b7dcab38-2f5b-498d-9bfc-5f2727f130c5",
   "metadata": {},
   "outputs": [],
   "source": [
    "# test \n",
    "nrow(coremarks[which(coremarks$feature == \"Quiescent (DLPFC)\" & coremarks$Pval_caud <= bonf), ])/\n",
    "nrow(heritability[which(heritability$Pval_caud <= bonf), ])"
   ]
  },
  {
   "cell_type": "code",
   "execution_count": null,
   "id": "7c78c561-e388-4abd-b18b-01eebb7abc18",
   "metadata": {},
   "outputs": [],
   "source": [
    "test <- coremarks[which(coremarks$feature == \"Bivalent TSS (DLPFC)\"), ]"
   ]
  },
  {
   "cell_type": "code",
   "execution_count": null,
   "id": "0730da82-fdc2-455e-9383-a6260ea1bb4d",
   "metadata": {},
   "outputs": [],
   "source": [
    "# Calculate observed proportions for each brain region\n",
    "# N sig region represents # Total number of significant CpG sites per brain region, whether or not they overlap with a feature\n",
    "# so here, the numerator is the number of heritable (for given region) CpGs that overlap with a feature, out of all heritable CpGs whether or not they overlap with a feature.\n",
    "count_final[, Observed_Prop_caud := caud / N_sig_region$caud]\n",
    "count_final[, Observed_Prop_dlpfc := dlpfc / N_sig_region$dlpfc]\n",
    "count_final[, Observed_Prop_hippo := hippo / N_sig_region$hippo]"
   ]
  },
  {
   "cell_type": "code",
   "execution_count": null,
   "id": "edd2c103-9805-4fcb-bd01-1f294e69307a",
   "metadata": {},
   "outputs": [],
   "source": [
    "# Expected proportions are the background frequencies\n",
    "count_final[, Expected_Prop := background_freq]\n",
    "\n",
    "# Calculate expected counts per brain region\n",
    "count_final[, Expected_Count_caud := Expected_Prop * N_sig_region$caud]\n",
    "count_final[, Expected_Count_dlpfc := Expected_Prop * N_sig_region$dlpfc]\n",
    "count_final[, Expected_Count_hippo := Expected_Prop * N_sig_region$hippo]"
   ]
  },
  {
   "cell_type": "code",
   "execution_count": null,
   "id": "010525de-3214-4883-a44e-bbe9a77018cb",
   "metadata": {},
   "outputs": [],
   "source": [
    "# -----------------------------\n",
    "# 8. Calculate Fold Enrichment\n",
    "# -----------------------------\n",
    "\n",
    "# Fold enrichment based on proportions\n",
    "count_final[, Fold_Enrichment_prop_caud := Observed_Prop_caud / Expected_Prop]\n",
    "count_final[, Fold_Enrichment_prop_dlpfc := Observed_Prop_dlpfc / Expected_Prop]\n",
    "count_final[, Fold_Enrichment_prop_hippo := Observed_Prop_hippo / Expected_Prop]\n",
    "\n",
    "# Fold enrichment based on counts\n",
    "count_final[, Fold_Enrichment_count_caud := caud / Expected_Count_caud]\n",
    "count_final[, Fold_Enrichment_count_dlpfc := dlpfc / Expected_Count_dlpfc]\n",
    "count_final[, Fold_Enrichment_count_hippo := hippo / Expected_Count_hippo]\n",
    "\n",
    "# Now, the fold enrichment values calculated using proportions and counts should be consistent."
   ]
  },
  {
   "cell_type": "code",
   "execution_count": null,
   "id": "66829eeb-5f05-451f-8d62-f305ed7fb071",
   "metadata": {},
   "outputs": [],
   "source": [
    "head(count_final)"
   ]
  },
  {
   "cell_type": "code",
   "execution_count": null,
   "id": "537389a2-ed52-40ee-9474-304602961b49",
   "metadata": {},
   "outputs": [],
   "source": [
    "options(repr.plot.width=8, repr.plot.height=8)  # Width and height in inches\n"
   ]
  },
  {
   "cell_type": "code",
   "execution_count": null,
   "id": "897c5def-87a9-4717-873d-bd7776f2242e",
   "metadata": {},
   "outputs": [],
   "source": [
    "# Load necessary libraries\n",
    "library(data.table)\n",
    "library(ggplot2)\n",
    "library(tidyr)\n",
    "library(dplyr)\n",
    "library(grid)\n",
    "library(gridExtra) # For arranging grobs\n",
    "\n",
    "# -----------------------------\n",
    "# 1. Prepare the Data\n",
    "# -----------------------------\n",
    "\n",
    "# Define the desired feature order and reverse it\n",
    "desired_order <- rev(c(\n",
    "  \"Heterochromatin\",\n",
    "  \"Quiescent\",\n",
    "  \"ZNF Repetitive Elements\",\n",
    "  \"Weak Repressive Polycomb\",\n",
    "  \"Weak Transcription\",\n",
    "  \"Strong Transcription\",\n",
    "  \"Enhancer\",\n",
    "  \"Genic Enhancer\",\n",
    "  \"Flanking Active TSS\",\n",
    "  \"Repressive Polycomb\",\n",
    "  \"Transcribed Flanking Region\",\n",
    "  \"Bivalent Enhancer\",\n",
    "  \"Bivalent Flanking Region\",\n",
    "  \"Bivalent TSS\",\n",
    "  \"Active TSS\"\n",
    "))\n",
    "\n",
    "# 1.1. Create 'feature_short' by removing the substring in parentheses\n",
    "count_final[, feature_short := sub(\" \\\\(.*\\\\)\", \"\", feature)]\n",
    "\n",
    "# 1.2. Set 'feature_short' as a factor with levels in the reversed desired order\n",
    "count_final[, feature_short := factor(feature_short, levels = desired_order)]"
   ]
  },
  {
   "cell_type": "code",
   "execution_count": null,
   "id": "69a92d54-db35-4ccf-a46d-32aea36cb731",
   "metadata": {},
   "outputs": [],
   "source": [
    "head(count_final)"
   ]
  },
  {
   "cell_type": "code",
   "execution_count": null,
   "id": "514741f1-43f9-4506-a3a3-e0c19c259ce2",
   "metadata": {},
   "outputs": [],
   "source": [
    "# 1.3. Verify that all desired features are present in the data\n",
    "missing_features <- setdiff(desired_order, unique(count_final$feature_short))\n",
    "if (length(missing_features) > 0) {\n",
    "  warning(\"The following desired features are missing from 'count_final': \", paste(missing_features, collapse = \", \"))\n",
    "}\n",
    "\n",
    "# -----------------------------\n",
    "# 2. Prepare Data for Faceting\n",
    "# -----------------------------\n",
    "\n",
    "# Pivot the data to a long format for fold enrichment across regions\n",
    "facet_data <- count_final %>%\n",
    "  pivot_longer(\n",
    "    cols = starts_with(\"Fold_Enrichment_prop_\"),\n",
    "    names_to = \"region\",\n",
    "    names_prefix = \"Fold_Enrichment_prop_\",\n",
    "    values_to = \"Fold_Enrichment\"\n",
    "  ) %>%\n",
    "  mutate(\n",
    "    region = factor(region, levels = c(\"caud\", \"dlpfc\", \"hippo\"), labels = c(\"Caudate\", \"DLPFC\", \"Hippocampus\")),\n",
    "    feature_subset = case_when(\n",
    "      grepl(\"Caudate\", feature) ~ \"Caudate\",\n",
    "      grepl(\"DLPFC\", feature) ~ \"DLPFC\",\n",
    "      grepl(\"Hippo\", feature) ~ \"Hippocampus\",\n",
    "      TRUE ~ \"Other\"\n",
    "    ),\n",
    "    feature_subset = factor(feature_subset, levels = c(\"Caudate\", \"DLPFC\", \"Hippocampus\"))\n",
    "  ) %>%\n",
    "  filter(!is.na(Fold_Enrichment))  # Remove any NA values"
   ]
  },
  {
   "cell_type": "code",
   "execution_count": null,
   "id": "97c57df9-4cda-4fd2-99e8-a4674af21ac7",
   "metadata": {},
   "outputs": [],
   "source": [
    "# -----------------------------\n",
    "# 3. Create an Indicator for Diagonal Elements\n",
    "# -----------------------------\n",
    "\n",
    "facet_data <- facet_data %>%\n",
    "  mutate(\n",
    "    diag_status = ifelse(as.character(feature_subset) == as.character(region), \"Diagonal\", \"Off-Diagonal\")\n",
    "  )\n",
    "\n",
    "# -----------------------------\n",
    "# 4. Compute Total Counts of Methylation Sites per Region\n",
    "# -----------------------------\n",
    "\n",
    "# Assuming each row represents a unique methylation site\n",
    "# Calculate total methylation sites per region\n",
    "total_methylation_sites <- facet_data %>%\n",
    "  group_by(region) %>%\n",
    "  summarise(total_sites = n())\n",
    "\n",
    "# Extract individual counts for legend\n",
    "total_methylation_sites_caudate <- total_methylation_sites$total_sites[total_methylation_sites$region == \"Caudate\"]\n",
    "total_methylation_sites_dlpfc <- total_methylation_sites$total_sites[total_methylation_sites$region == \"DLPFC\"]\n",
    "total_methylation_sites_hippo <- total_methylation_sites$total_sites[total_methylation_sites$region == \"Hippocampus\"]\n",
    "\n",
    "\n",
    "# -----------------------------\n",
    "# 6. Perform Sanity Tests\n",
    "# -----------------------------\n",
    "\n",
    "# Calculate the sum of fold enrichment per region\n",
    "sum_fold_enrichment <- facet_data %>%\n",
    "  group_by(region) %>%\n",
    "  summarise(sum_enrichment = sum(Fold_Enrichment, na.rm = TRUE)) %>%\n",
    "  mutate(proportion_sum_ok = abs(sum_enrichment - 1) < 0.05)  # Allow a margin of 0.05\n",
    "\n",
    "# Prepare sanity test text\n",
    "sanity_text <- paste(\n",
    "  \"Sanity Tests:\",\n",
    "  paste(\"Proportions per region sum to 1:\"),\n",
    "  paste(\"Caudate:\", ifelse(sum_fold_enrichment$proportion_sum_ok[sum_fold_enrichment$region == \"Caudate\"], \"TRUE\", \"FALSE\")),\n",
    "  paste(\"DLPFC:\", ifelse(sum_fold_enrichment$proportion_sum_ok[sum_fold_enrichment$region == \"DLPFC\"], \"TRUE\", \"FALSE\")),\n",
    "  paste(\"Hippocampus:\", ifelse(sum_fold_enrichment$proportion_sum_ok[sum_fold_enrichment$region == \"Hippocampus\"], \"TRUE\", \"FALSE\")),\n",
    "  sep = \"\\n\"\n",
    ")\n",
    "\n",
    "# -----------------------------\n",
    "# 7. Create the Faceted Plot with Reversed Feature Order and Legend\n",
    "# -----------------------------\n",
    "\n",
    "# Create the faceted plot\n",
    "facet_plot <- ggplot(facet_data, aes(x = Fold_Enrichment, y = feature_short)) +\n",
    "  geom_bar(stat = \"identity\", aes(fill = diag_status), show.legend = FALSE) +\n",
    "  geom_vline(xintercept = 1, linetype = \"dotted\", color = \"red\") +\n",
    "  geom_text(aes(label = sprintf(\"%.3f\", Fold_Enrichment)),\n",
    "            hjust = 1.1,  # Adjusted to move labels to the left\n",
    "            color = \"black\",\n",
    "            size = 3) +\n",
    "  facet_grid(feature_subset ~ region, scales = \"free_y\", space = \"free_y\") +\n",
    "  theme_minimal() +\n",
    "  labs(\n",
    "    x = \"Fold Enrichment\",\n",
    "    y = \"Genomic Feature\"\n",
    "  ) +\n",
    "  theme(\n",
    "    axis.text.y = element_text(size = 10),\n",
    "    axis.title.y = element_text(size = 12),\n",
    "    axis.text.x = element_text(size = 10),\n",
    "    axis.title.x = element_text(size = 12),\n",
    "    strip.text = element_text(size = 12, face = \"bold\"),\n",
    "    plot.margin = unit(c(1,1,1,2), \"lines\")  # Increased right margin to prevent label cutoff\n",
    "  ) +\n",
    "  scale_fill_manual(values = c(\"Diagonal\" = \"skyblue\", \"Off-Diagonal\" = \"grey80\")) +\n",
    "  coord_cartesian(clip = \"off\")  # Prevent labels from being cut off\n",
    "\n",
    "# -----------------------------\n",
    "# 8. Create a Detailed Legend (Aligned Left)\n",
    "# -----------------------------\n",
    "\n",
    "# New Legend Text with Line Breaks After 60 Characters\n",
    "raw_legend_text <- paste(\n",
    "  \"Fold enrichment of regulatory features among heritable DNA methylation sites, brain regions. We predicted DNA methylation by LASSO regression given SNPs spanning a window extending 10kb on either side of each methylation site. These prediction models were constructed separately for bisulfite-sequenced DNA methylation datasets for three brain regions: the caudate nucleus, hippocampus, and dorsolateral prefrontal cortex (DLPFC). Using published annotations for regulatory features active in specific brain regions (anterior caudate, middle hippocampus and DLPFC), we computed fold enrichment among heritable (p < 0.05; GCTA) DNA methylation sites. We were unable to detect a significant difference in fold enrichment patterns across brain regions (Wilcoxon Rank-Sum Test).\",\n",
    "  sep = \" \"\n",
    ")\n",
    "\n",
    "# Wrap the text at 60 characters\n",
    "wrapped_legend_text <- paste(strwrap(raw_legend_text, width = 80), collapse = \"\\n\")\n",
    "\n",
    "# Append the total counts, test results, and sanity tests\n",
    "final_legend_text <- paste(\n",
    "  wrapped_legend_text,\n",
    "  \"\\n\\n\",\n",
    "  \"Total counts of methylation sites:\",\n",
    "  paste(\"Caudate:\", total_methylation_sites_caudate),\n",
    "  paste(\"DLPFC:\", total_methylation_sites_dlpfc),\n",
    "  paste(\"Hippocampus:\", total_methylation_sites_hippo),\n",
    "  #\"\\n\\n\",\n",
    "  #p_value_text,\n",
    "  #\"\\n\",\n",
    "  #equiv_text,\n",
    "  #\"\\n\\n\",\n",
    "  #sanity_text,\n",
    "  sep = \"\"\n",
    ")\n",
    "\n",
    "# Create a text grob for the legend\n",
    "legend_grob <- textGrob(\n",
    "  final_legend_text,\n",
    "  x = unit(0.01, \"npc\"), y = unit(0.98, \"npc\"), just = c(\"left\", \"top\"),\n",
    "  gp = gpar(fontsize = 12, lineheight = 1.2)\n",
    ")\n",
    "\n",
    "# -----------------------------\n",
    "# 9. Arrange the Plot and Legend Without Error\n",
    "# -----------------------------\n",
    "\n",
    "# Use grid.arrange to place the plot and legend together\n",
    "combined_plot <- grid.arrange(\n",
    "  facet_plot,\n",
    "  legend_grob,\n",
    "  ncol = 1,\n",
    "  heights = c(4/5, 1/5)  # Allocate 80% height to plot and 20% to legend\n",
    ")\n",
    "\n",
    "# If you wish to save the combined plot, uncomment the following line:\n",
    "# ggsave(\"facet_plot_with_legend.png\", combined_plot, width = 12, height = 14, dpi = 300)"
   ]
  },
  {
   "cell_type": "code",
   "execution_count": null,
   "id": "42832cdc-b2f7-4a65-a13e-79ce76f5353f",
   "metadata": {},
   "outputs": [],
   "source": []
  },
  {
   "cell_type": "code",
   "execution_count": null,
   "id": "60756042-faca-467e-8312-260545946d65",
   "metadata": {},
   "outputs": [],
   "source": [
    "head(count_final)"
   ]
  },
  {
   "cell_type": "markdown",
   "id": "151b099a-0043-4df5-bbde-1efe3c1a8f4b",
   "metadata": {},
   "source": [
    "## Sanity testing plots"
   ]
  },
  {
   "cell_type": "code",
   "execution_count": null,
   "id": "3b7812fd-ce53-481b-8ecd-0d8a53f69096",
   "metadata": {},
   "outputs": [],
   "source": [
    "colnames(coremarks)"
   ]
  },
  {
   "cell_type": "code",
   "execution_count": null,
   "id": "172bb9ce-e77a-4204-9cdf-21774b0d8ca6",
   "metadata": {},
   "outputs": [],
   "source": [
    "core22 <- coremarks[which(coremarks$chr == 22), ]\n",
    "# Setting specific columns with 'AA' to NULL\n",
    "core22$AA_caud_cor <- NULL\n",
    "core22$AA_caud_Mean_DNAm_Level <- NULL\n",
    "core22$AA_caud_Var_DNAm_Level <- NULL\n",
    "core22$AA_dlpfc_cor <- NULL\n",
    "core22$AA_dlpfc_Mean_DNAm_Level <- NULL\n",
    "core22$AA_dlpfc_Var_DNAm_Level <- NULL\n",
    "core22$AA_hippo_cor <- NULL\n",
    "core22$AA_hippo_Mean_DNAm_Level <- NULL\n",
    "core22$AA_hippo_Var_DNAm_Level <- NULL\n",
    "\n",
    "# Setting specific columns with 'EA' to NULL\n",
    "core22$EA_caud_cor <- NULL\n",
    "core22$EA_caud_Mean_DNAm_Level <- NULL\n",
    "core22$EA_caud_Var_DNAm_Level <- NULL\n",
    "core22$EA_dlpfc_cor <- NULL\n",
    "core22$EA_dlpfc_Mean_DNAm_Level <- NULL\n",
    "core22$EA_dlpfc_Var_DNAm_Level <- NULL\n",
    "core22$EA_hippo_cor <- NULL\n",
    "core22$EA_hippo_Mean_DNAm_Level <- NULL\n",
    "core22$EA_hippo_Var_DNAm_Level <- NULL"
   ]
  },
  {
   "cell_type": "code",
   "execution_count": null,
   "id": "5598b7a6-e5d9-4ede-8ada-1e55837c2242",
   "metadata": {},
   "outputs": [],
   "source": [
    "head(core22)"
   ]
  },
  {
   "cell_type": "code",
   "execution_count": null,
   "id": "fb6679ee-2656-4ea0-8daf-f2ee8cecabe2",
   "metadata": {},
   "outputs": [],
   "source": [
    "colnames(core22)"
   ]
  },
  {
   "cell_type": "code",
   "execution_count": null,
   "id": "86c4be72-a1df-4bbf-8977-055f8c5b3837",
   "metadata": {},
   "outputs": [],
   "source": [
    "library(ggplot2)\n",
    "\n",
    "# Scatterplot for Caudate Heritability vs Prediction R^2\n",
    "ggplot(core22, aes(x = V_G_Vp_caud, y = all_caud_cor)) +\n",
    "  geom_point(alpha = 0.6) +  # transparency to better visualize data points overlap\n",
    "  geom_smooth(method = \"lm\", color = \"blue\", se = FALSE) +  # Linear regression line without confidence interval\n",
    "  labs(\n",
    "    title = \"Scatterplot of Caudate Heritability vs Prediction R²\",\n",
    "    x = \"Caudate Heritability (V_G/Vp)\",\n",
    "    y = \"Prediction R²\",\n",
    "    caption = \"Data source: core22\"\n",
    "  ) +\n",
    "  theme_minimal() +  # Clean theme\n",
    "  theme(\n",
    "    plot.title = element_text(hjust = 0.5),  # Center title\n",
    "    plot.caption = element_text(size = 8)    # Smaller font for caption\n",
    "  )"
   ]
  },
  {
   "cell_type": "code",
   "execution_count": null,
   "id": "5f67903c-fab9-47b1-a95c-e1ce3e0aa7a4",
   "metadata": {},
   "outputs": [],
   "source": [
    "library(data.table)\n",
    "library(GGally)\n",
    "library(ggplot2)\n",
    "\n",
    "# Subset using .SDcols\n",
    "# Subset using .SDcols and randomly sample 10k rows\n",
    "subset_data <- core22[sample(.N, 10000), .SD, .SDcols = c(\"V_G_Vp_caud\", \"all_caud_cor\",\n",
    "                                                         \"V_G_Vp_dlpfc\", \"all_dlpfc_cor\",\n",
    "                                                         \"V_G_Vp_hippo\", \"all_hippo_cor\")]\n",
    "\n",
    "# Renaming columns for clarity in the plot\n",
    "setnames(subset_data, old = c(\"V_G_Vp_caud\", \"all_caud_cor\", \"V_G_Vp_dlpfc\", \"all_dlpfc_cor\", \"V_G_Vp_hippo\", \"all_hippo_cor\"),\n",
    "         new = c(\"Heritability Caudate\", \"Prediction R² Caudate\",\n",
    "                 \"Heritability DLPFC\", \"Prediction R² DLPFC\",\n",
    "                 \"Heritability Hippocampus\", \"Prediction R² Hippocampus\"))\n",
    "\n",
    "# ggpairs plot\n",
    "ggpairs(subset_data,\n",
    "        upper = list(continuous = wrap(\"cor\", size = 4)),  # Show correlations in the upper panel\n",
    "        lower = list(continuous = wrap(\"points\", size = 1, alpha = 0.6)),  # Points with transparency in lower panel\n",
    "        title = \"Pairwise Relationships: Heritability and Prediction R² Across Regions\\n(10k sites on Chr 22)\",\n",
    "        axisLabels = \"show\") +\n",
    "  theme_grey(base_size = 10)  # Smaller base font size for better fit"
   ]
  },
  {
   "cell_type": "code",
   "execution_count": null,
   "id": "0bb33070-c07f-463f-986f-55536916c480",
   "metadata": {},
   "outputs": [],
   "source": [
    "head(core22)"
   ]
  },
  {
   "cell_type": "code",
   "execution_count": null,
   "id": "23c7ff41-0b5d-429e-be9a-2743f7084f77",
   "metadata": {},
   "outputs": [],
   "source": [
    "colnames(core22)"
   ]
  },
  {
   "cell_type": "code",
   "execution_count": null,
   "id": "c7fe316f-ca3e-4893-9b5d-e61d578bce59",
   "metadata": {},
   "outputs": [],
   "source": [
    "head(coremarks)"
   ]
  },
  {
   "cell_type": "code",
   "execution_count": null,
   "id": "cb4cae27-ef24-4ec8-ba21-f770ce761d50",
   "metadata": {},
   "outputs": [],
   "source": [
    "core22$heritable_caud <- core22$Pval_caud <= bonf\n",
    "core22$heritable_hippo <- core22$Pval_hippo <= bonf\n",
    "core22$heritable_dlpfc <- core22$Pval_dlpfc <= bonf"
   ]
  },
  {
   "cell_type": "code",
   "execution_count": null,
   "id": "65b49025-ca44-4e14-8921-303763f12032",
   "metadata": {},
   "outputs": [],
   "source": [
    "library(ggplot2)\n",
    "\n",
    "# Boxplot for Correlation by Heritability in the Caudate\n",
    "ggplot(data = core22, aes(x = factor(heritable_caud, labels = c(\"Non-heritable\", \"Heritable\")), y = all_caud_cor, fill = heritable_caud)) +\n",
    "  geom_boxplot() +\n",
    "  labs(title = \"Boxplot of Correlation by Heritability: Caudate\",\n",
    "       x = \"Heritability Status\",\n",
    "       y = \"Prediction R² (Correlation)\",\n",
    "       fill = \"Heritability\") +\n",
    "  theme_minimal() +\n",
    "  theme(plot.title = element_text(hjust = 0.5))\n",
    "\n",
    "# Repeat similar code for DNA Methylation Variance\n",
    "ggplot(data = core22, aes(x = factor(heritable_caud, labels = c(\"Non-heritable\", \"Heritable\")), y = all_caud_Var_DNAm_Level, fill = heritable_caud)) +\n",
    "  geom_boxplot() +\n",
    "  labs(title = \"Boxplot of DNA Methylation Variance by Heritability: Caudate\",\n",
    "       x = \"Heritability Status\",\n",
    "       y = \"DNA Methylation Variance\",\n",
    "       fill = \"Heritability\") +\n",
    "  theme_minimal() +\n",
    "  theme(plot.title = element_text(hjust = 0.5))"
   ]
  },
  {
   "cell_type": "code",
   "execution_count": null,
   "id": "a72012e7-7276-4662-8512-8af4b915bdf2",
   "metadata": {},
   "outputs": [],
   "source": [
    "library(ggplot2)\n",
    "\n",
    "# Violin plot for Correlation by Heritability in the Caudate\n",
    "ggplot(data = core22, aes(x = factor(heritable_caud, labels = c(\"Non-heritable\", \"Heritable\")), y = all_caud_cor, fill = heritable_caud)) +\n",
    "  geom_violin(trim = FALSE) +  # trim=FALSE shows the full range of data\n",
    "  labs(title = \"Violin Plot of Correlation by Heritability: Caudate\",\n",
    "       x = \"Heritability Status\",\n",
    "       y = \"Prediction R² (Correlation)\",\n",
    "       fill = \"Heritability\") +\n",
    "  theme_minimal() +\n",
    "  theme(plot.title = element_text(hjust = 0.5))"
   ]
  },
  {
   "cell_type": "code",
   "execution_count": null,
   "id": "a54e1b9c-a3af-4eaa-bba2-63c15c9d7ce3",
   "metadata": {},
   "outputs": [],
   "source": [
    "# Violin plot for DNA Methylation Variance by Heritability in the Caudate\n",
    "ggplot(data = core22, aes(x = factor(heritable_caud, labels = c(\"Non-heritable\", \"Heritable\")), y = all_caud_Var_DNAm_Level, fill = heritable_caud)) +\n",
    "  geom_violin(trim = FALSE) +\n",
    "  labs(title = \"Violin Plot of DNA Methylation Variance by Heritability: Caudate\",\n",
    "       x = \"Heritability Status\",\n",
    "       y = \"DNA Methylation Variance\",\n",
    "       fill = \"Heritability\") +\n",
    "  theme_minimal() +\n",
    "  theme(plot.title = element_text(hjust = 0.5))"
   ]
  },
  {
   "cell_type": "code",
   "execution_count": null,
   "id": "9174a67a-c0a1-4d82-8134-76be8478aec0",
   "metadata": {},
   "outputs": [],
   "source": [
    "# Violin plot for DNA Methylation Variance by Heritability in the Caudate\n",
    "ggplot(data = core22, aes(x = factor(heritable_caud, labels = c(\"Non-heritable\", \"Heritable\")), y = log10(all_caud_Var_DNAm_Level), fill = heritable_caud)) +\n",
    "  geom_violin(trim = FALSE) +\n",
    "  labs(title = \"Violin Plot of DNA Methylation Variance (log scale) by Heritability: Caudate\",\n",
    "       x = \"Heritability Status\",\n",
    "       y = \"DNA Methylation Variance\",\n",
    "       fill = \"Heritability\") +\n",
    "  theme_minimal() +\n",
    "  theme(plot.title = element_text(hjust = 0.5))"
   ]
  },
  {
   "cell_type": "code",
   "execution_count": null,
   "id": "e0e0232e-facf-4b6a-ae89-6ceda8471db7",
   "metadata": {},
   "outputs": [],
   "source": [
    "# Violin plot for DNA Methylation Mean by Heritability in the Caudate\n",
    "ggplot(data = core22, aes(x = factor(heritable_caud, labels = c(\"Non-heritable\", \"Heritable\")), y = all_caud_Mean_DNAm_Level, fill = heritable_caud)) +\n",
    "  geom_violin(trim = FALSE) +\n",
    "  labs(title = \"Violin Plot of DNA Methylation Mean by Heritability: Caudate\",\n",
    "       x = \"Heritability Status\",\n",
    "       y = \"DNA Methylation Mean Level\",\n",
    "       fill = \"Heritability\") +\n",
    "  theme_minimal() +\n",
    "  theme(plot.title = element_text(hjust = 0.5))"
   ]
  },
  {
   "cell_type": "code",
   "execution_count": null,
   "id": "d3c9c859-b69d-4263-b47c-60d0f570e89b",
   "metadata": {},
   "outputs": [],
   "source": [
    "head(core22)"
   ]
  },
  {
   "cell_type": "code",
   "execution_count": null,
   "id": "86cba226-031d-44b5-bf9e-e29f2aaa55e4",
   "metadata": {},
   "outputs": [],
   "source": [
    "library(ggplot2)\n",
    "\n",
    "# Combined violin and boxplot for Caudate Mean DNAm Level by Feature\n",
    "ggplot(data = core22, aes(x = feature, y = all_caud_Mean_DNAm_Level, fill = feature)) +\n",
    "  geom_violin(trim = FALSE) +\n",
    "  geom_boxplot(width = 0.1, outlier.shape = NA, alpha = 0.5) +\n",
    "  labs(title = \"Caudate Mean DNA Methylation Level by Feature\",\n",
    "       x = \"Feature\",\n",
    "       y = \"Mean DNA Methylation Level\") +\n",
    "  theme_minimal() +\n",
    "  theme(axis.text.x = element_text(angle = 45, hjust = 1)) # Rotate x labels for clarity\n",
    "\n",
    "# Repeat for DLPFC Mean DNAm Level\n",
    "ggplot(data = core22, aes(x = feature, y = all_dlpfc_Mean_DNAm_Level, fill = feature)) +\n",
    "  geom_violin(trim = FALSE) +\n",
    "  geom_boxplot(width = 0.1, outlier.shape = NA, alpha = 0.5) +\n",
    "  labs(title = \"DLPFC Mean DNA Methylation Level by Feature\",\n",
    "       x = \"Feature\",\n",
    "       y = \"Mean DNA Methylation Level\") +\n",
    "  theme_minimal() +\n",
    "  theme(axis.text.x = element_text(angle = 45, hjust = 1)) # Rotate x labels for clarity\n",
    "\n",
    "# Repeat for Hippocampus Mean DNAm Level\n",
    "ggplot(data = core22, aes(x = feature, y = all_hippo_Mean_DNAm_Level, fill = feature)) +\n",
    "  geom_violin(trim = FALSE) +\n",
    "  geom_boxplot(width = 0.1, outlier.shape = NA, alpha = 0.5) +\n",
    "  labs(title = \"Hippocampus Mean DNA Methylation Level by Feature\",\n",
    "       x = \"Feature\",\n",
    "       y = \"Mean DNA Methylation Level\") +\n",
    "  theme_minimal() +\n",
    "  theme(axis.text.x = element_text(angle = 45, hjust = 1)) # Rotate x labels for clarity"
   ]
  },
  {
   "cell_type": "code",
   "execution_count": null,
   "id": "81e03290-07cf-4712-a455-e8424b06f98e",
   "metadata": {},
   "outputs": [],
   "source": [
    "min(core22$all_caud_Mean_DNAm_Level, na.rm = TRUE)"
   ]
  },
  {
   "cell_type": "code",
   "execution_count": null,
   "id": "e5c92c89-9850-40dd-9a90-6aee4c04554f",
   "metadata": {},
   "outputs": [],
   "source": [
    "options(repr.plot.width = 15, repr.plot.height = 15, repr.plot.res = 100)"
   ]
  },
  {
   "cell_type": "code",
   "execution_count": null,
   "id": "c2010cd5-b588-43a1-a0bf-d76db80d9550",
   "metadata": {},
   "outputs": [],
   "source": [
    "library(ggplot2)\n",
    "\n",
    "# Assuming core22 is already loaded and properly structured\n",
    "ggplot(data = core22, aes(x = feature, y = all_caud_Mean_DNAm_Level, fill = feature)) +\n",
    "  #geom_violin(trim = FALSE) +  # Show the full distribution\n",
    "  geom_boxplot(width = 0.5, outlier.shape = NA, alpha = 0.5, fill = \"white\") +  # Adding a boxplot inside the violin plot\n",
    "  labs(title = \"Caudate Mean DNA Methylation Level by Feature\",\n",
    "       x = \"Feature\",\n",
    "       y = \"Mean DNA Methylation Level\") +\n",
    "  theme_minimal() +\n",
    "  theme(axis.text.x = element_text(size = 16),\n",
    "        axis.title = element_text(size = 16),# Adjust text size for better readability\n",
    "        axis.text.y = element_text(size = 16),  # Adjust text size for better readability\n",
    "        plot.title = element_text(hjust = 0.5),\n",
    "        legend.position = \"none\") +  # Hide legend if not necessary \n",
    "  coord_flip()  # Flips the x and y axes"
   ]
  },
  {
   "cell_type": "code",
   "execution_count": null,
   "id": "fea9f0b0-52ec-4d66-9955-8daee5d27cfa",
   "metadata": {},
   "outputs": [],
   "source": [
    "library(ggplot2)\n",
    "\n",
    "# Assuming core22 is already loaded and properly structured\n",
    "ggplot(data = core22, aes(x = feature, y = all_caud_cor, fill = feature)) +\n",
    "  #geom_violin(trim = FALSE) +  # Show the full distribution\n",
    "  geom_boxplot(width = 0.5, outlier.shape = NA, alpha = 0.5, fill = \"white\") +  # Adding a boxplot inside the violin plot\n",
    "  labs(title = \"Caudate R^2 for prediction by Feature\",\n",
    "       x = \"Feature\",\n",
    "       y = \"R^2 for prediction\") +\n",
    "  theme_minimal() +\n",
    "  theme(axis.text.x = element_text(size = 16),\n",
    "        axis.title = element_text(size = 16),# Adjust text size for better readability\n",
    "        axis.text.y = element_text(size = 16),  # Adjust text size for better readability\n",
    "        plot.title = element_text(hjust = 0.5),\n",
    "        legend.position = \"none\") +  # Hide legend if not necessary \n",
    "  coord_flip()  # Flips the x and y axes"
   ]
  },
  {
   "cell_type": "code",
   "execution_count": null,
   "id": "12cd5ef4-1983-49b4-876d-f0e3914f13d8",
   "metadata": {},
   "outputs": [],
   "source": [
    "save.image(file = \"50-OUT/50-checkpoint_orkspace_backup.RData\")"
   ]
  },
  {
   "cell_type": "code",
   "execution_count": null,
   "id": "54f708c4-424f-45f0-a16e-43b0863e6150",
   "metadata": {},
   "outputs": [],
   "source": [
    "library(ggplot2)\n",
    "\n",
    "# 1. Density Plots for Heritability Values\n",
    "tryCatch({\n",
    "  ggplot(core22, aes(x = V_G_Vp_caud, fill = heritable_caud)) +\n",
    "    geom_density(alpha = 0.5) +\n",
    "    labs(title = \"Density of Heritability Values\",\n",
    "         x = \"Heritability Value\",\n",
    "         fill = \"Heritable\") +\n",
    "    theme_minimal()\n",
    "}, error = function(e) {\n",
    "  cat(\"Error in density plot for heritability values:\", e$message, \"\\n\")\n",
    "})\n",
    "\n",
    "# 2. Density Plots for DNAm Mean Values\n",
    "tryCatch({\n",
    "  ggplot(core22, aes(x = all_caud_Mean_DNAm_Level, fill = heritable_caud)) +\n",
    "    geom_density(alpha = 0.5) +\n",
    "    labs(title = \"Density of Mean DNAm Levels\",\n",
    "         x = \"Mean DNAm Level\",\n",
    "         fill = \"Heritable\") +\n",
    "    theme_minimal()\n",
    "}, error = function(e) {\n",
    "  cat(\"Error in density plot for DNAm mean values:\", e$message, \"\\n\")\n",
    "})\n",
    "\n",
    "# 3. Distribution of DNAm levels among CpGs stratified by their model prediction performance\n",
    "tryCatch({\n",
    "  ggplot(core22, aes(x = all_caud_Mean_DNAm_Level, fill = factor(cut(all_caud_cor, breaks = seq(0, 1, by = 0.1))))) +\n",
    "    geom_density(alpha = 0.5) +\n",
    "    labs(title = \"Distribution of DNAm Levels by Prediction Performance\",\n",
    "         x = \"Mean DNAm Level\",\n",
    "         fill = \"Prediction Performance\") +\n",
    "    theme_minimal()\n",
    "}, error = function(e) {\n",
    "  cat(\"Error in density plot for DNAm levels stratified by prediction performance:\", e$message, \"\\n\")\n",
    "})\n",
    "\n",
    "# 4. Distribution of DNAm levels variance among CpGs\n",
    "tryCatch({\n",
    "  ggplot(core22, aes(x = all_caud_Var_DNAm_Level, fill = factor(cut(all_caud_cor, breaks = seq(0, 1, by = 0.1))))) +\n",
    "    geom_density(alpha = 0.5) +\n",
    "    labs(title = \"Distribution of DNAm Levels Variance by Prediction Performance\",\n",
    "         x = \"DNAm Variance\",\n",
    "         fill = \"Prediction Performance\") +\n",
    "    theme_minimal()\n",
    "}, error = function(e) {\n",
    "  cat(\"Error in density plot for DNAm variance stratified by prediction performance:\", e$message, \"\\n\")\n",
    "})\n",
    "\n",
    "# 5. Distribution of functional annotations among CpGs\n",
    "tryCatch({\n",
    "  ggplot(core22, aes(x = Feature_INFO, fill = factor(cut(all_caud_cor, breaks = seq(0, 1, by = 0.1))))) +\n",
    "    geom_bar() +\n",
    "    labs(title = \"Distribution of Functional Annotations by Prediction Performance\",\n",
    "         x = \"Functional Annotation\",\n",
    "         fill = \"Prediction Performance\") +\n",
    "    theme_minimal() +\n",
    "    theme(axis.text.x = element_text(angle = 90, hjust = 1))\n",
    "}, error = function(e) {\n",
    "  cat(\"Error in bar plot for functional annotations:\", e$message, \"\\n\")\n",
    "})\n",
    "\n",
    "# 6. Distribution of conservation score among CpGs\n",
    "tryCatch({\n",
    "  # Assuming 'conservation_score' is a column in your dataset\n",
    "  ggplot(core22, aes(x = conservation_score, fill = factor(cut(all_caud_cor, breaks = seq(0, 1, by = 0.1))))) +\n",
    "    geom_density(alpha = 0.5) +\n",
    "    labs(title = \"Distribution of Conservation Score by Prediction Performance\",\n",
    "         x = \"Conservation Score\",\n",
    "         fill = \"Prediction Performance\") +\n",
    "    theme_minimal()\n",
    "}, error = function(e) {\n",
    "  cat(\"Error in density plot for conservation scores:\", e$message, \"\\n\")\n",
    "})\n",
    "\n",
    "# Additional Biologically Informative Plots\n",
    "# 1. Bivariate plot of Correlation vs Methylation\n",
    "tryCatch({\n",
    "  ggplot(core22, aes(x = all_caud_cor, y = all_caud_Mean_DNAm_Level)) +\n",
    "    geom_point(alpha = 0.5) +\n",
    "    geom_smooth(method = \"lm\") +\n",
    "    labs(title = \"Correlation vs. Mean DNAm Level\",\n",
    "         x = \"Prediction R² (Correlation)\",\n",
    "         y = \"Mean DNAm Level\") +\n",
    "    theme_minimal()\n",
    "}, error = function(e) {\n",
    "  cat(\"Error in scatter plot of Correlation vs DNAm Level:\", e$message, \"\\n\")\n",
    "})\n",
    "\n",
    "# 2. Bivariate plot of Heritability vs DNAm Variance\n",
    "tryCatch({\n",
    "  ggplot(core22, aes(x = V_G_Vp_caud, y = all_caud_Var_DNAm_Level)) +\n",
    "    geom_point(alpha = 0.5) +\n",
    "    geom_smooth(method = \"lm\") +\n",
    "    labs(title = \"Heritability vs. DNAm Variance\",\n",
    "         x = \"Heritability\",\n",
    "         y = \"DNAm Variance\") +\n",
    "    theme_minimal()\n",
    "}, error = function(e) {\n",
    "  cat(\"Error in scatter plot of Heritability vs DNAm Variance:\", e$message, \"\\n\")\n",
    "})\n",
    "\n",
    "# 3. 3D plot or pseudo3D plot for cor, methylation, heritability\n",
    "tryCatch({\n",
    "  # Pseudo 3D Scatter Plot\n",
    "  ggplot(core22, aes(x = all_caud_cor, y = all_caud_Mean_DNAm_Level, color = V_G_Vp_caud)) +\n",
    "    geom_point(alpha = 0.5) +\n",
    "    labs(title = \"3D View: Correlation, DNAm Level, and Heritability\",\n",
    "         x = \"Prediction R² (Correlation)\",\n",
    "         y = \"Mean DNAm Level\",\n",
    "         color = \"Heritability\") +\n",
    "    theme_minimal()\n",
    "}, error = function(e) {\n",
    "  cat(\"Error in pseudo 3D plot of Correlation, DNAm, and Heritability:\", e$message, \"\\n\")\n",
    "})"
   ]
  },
  {
   "cell_type": "markdown",
   "id": "8830241b-5787-44b8-8798-d330d5abf171",
   "metadata": {},
   "source": [
    "## Old"
   ]
  },
  {
   "cell_type": "code",
   "execution_count": null,
   "id": "81c0e041-f200-4caf-80b4-f92f19aba8a9",
   "metadata": {},
   "outputs": [],
   "source": []
  },
  {
   "cell_type": "code",
   "execution_count": null,
   "id": "c529cc68-7edd-4c7a-bb32-75ce6e7023d0",
   "metadata": {},
   "outputs": [],
   "source": []
  },
  {
   "cell_type": "code",
   "execution_count": null,
   "id": "46b98e9f-3583-4146-b478-d00cb876bbda",
   "metadata": {},
   "outputs": [],
   "source": []
  },
  {
   "cell_type": "code",
   "execution_count": null,
   "id": "9e188e28-ca66-4827-aa78-8aa60abb6237",
   "metadata": {},
   "outputs": [],
   "source": []
  },
  {
   "cell_type": "code",
   "execution_count": null,
   "id": "b6b7b8b1-0a57-4455-a555-c714dcb3d87b",
   "metadata": {},
   "outputs": [],
   "source": []
  },
  {
   "cell_type": "code",
   "execution_count": null,
   "id": "9132c778-3dfa-4d30-a790-d90b8feb155e",
   "metadata": {},
   "outputs": [],
   "source": []
  },
  {
   "cell_type": "code",
   "execution_count": null,
   "id": "755327b9-5c16-43d0-9797-0020ddeea2a0",
   "metadata": {},
   "outputs": [],
   "source": []
  },
  {
   "cell_type": "markdown",
   "id": "93ca732f-c3dd-41d7-81b9-1ee51344cf78",
   "metadata": {},
   "source": [
    "#### Figure 2.\n",
    "2A. Features (y-axis) over enrichment fold for different levels of confidence (or just one for p<0.05?)... bar plot\n",
    "2A alternative: something like above but comparing/contrasting for brain region MWAS models\n",
    "2B. methylation values for each feature - violin plot\n",
    "2C. cor values for each feature\n",
    "2D. heritability values for each feature"
   ]
  },
  {
   "cell_type": "code",
   "execution_count": null,
   "id": "2667fc1f-2b0f-415c-bdd8-d281b2506353",
   "metadata": {},
   "outputs": [],
   "source": [
    "Figure 3.\n",
    "Relationship between significance of heritability and different kinds of features"
   ]
  }
 ],
 "metadata": {
  "kernelspec": {
   "display_name": "R",
   "language": "R",
   "name": "ir"
  },
  "language_info": {
   "codemirror_mode": "r",
   "file_extension": ".r",
   "mimetype": "text/x-r-source",
   "name": "R",
   "pygments_lexer": "r",
   "version": "4.3.1"
  }
 },
 "nbformat": 4,
 "nbformat_minor": 5
}
