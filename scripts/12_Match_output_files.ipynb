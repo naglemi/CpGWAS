{
 "cells": [
  {
   "cell_type": "markdown",
   "id": "0a724974-30cc-4057-a0c7-119f3056f875",
   "metadata": {},
   "source": [
    "# Are we all done? Let's see if we really do have an output file for every job."
   ]
  },
  {
   "cell_type": "code",
   "execution_count": 1,
   "id": "8d061f23-7210-4145-b951-fa05fe15efbf",
   "metadata": {},
   "outputs": [],
   "source": [
    "library(data.table)"
   ]
  },
  {
   "cell_type": "code",
   "execution_count": 2,
   "id": "0952e189-2235-43d1-b226-0150af879480",
   "metadata": {},
   "outputs": [],
   "source": [
    "files <- list.files(\"../\", pattern = \"libd\",\n",
    "                    recursive = TRUE, full.names = TRUE)\n",
    "files <- files[!grepl(\"outlogs\", files)]\n",
    "files <- files[!grepl(\"csv\", files)]\n",
    "files <- files[!grepl(\"a1\", files)]\n",
    "files <- files[!grepl(\"slurm_scripts\", files)]\n",
    "files <- files[!grepl(\"slurm_output\", files)]\n",
    "files <- files[!grepl(\"window\", files)]\n",
    "files <- files[!grepl(\"OLD\", files)]"
   ]
  },
  {
   "cell_type": "code",
   "execution_count": 3,
   "id": "de552ab4-5055-403a-9410-ddc8b0531447",
   "metadata": {},
   "outputs": [
    {
     "data": {
      "text/html": [
       "16098"
      ],
      "text/latex": [
       "16098"
      ],
      "text/markdown": [
       "16098"
      ],
      "text/plain": [
       "[1] 16098"
      ]
     },
     "metadata": {},
     "output_type": "display_data"
    }
   ],
   "source": [
    "length(files)"
   ]
  },
  {
   "cell_type": "code",
   "execution_count": 4,
   "id": "f10e59f0-0eab-4e5a-8f12-6980d41e352a",
   "metadata": {},
   "outputs": [
    {
     "data": {
      "text/html": [
       "<style>\n",
       ".list-inline {list-style: none; margin:0; padding: 0}\n",
       ".list-inline>li {display: inline-block}\n",
       ".list-inline>li:not(:last-child)::after {content: \"\\00b7\"; padding: 0 .5ex}\n",
       "</style>\n",
       "<ol class=list-inline><li>'..//output_EXPANSE_a2_caud/libd_chr1-chr1_AA-libd_chr1-chr1_AA-1008982-1028981-dynamic-1corestotal-allcorepera-20240416-154932.rds'</li><li>'..//output_EXPANSE_a2_caud/libd_chr1-chr1_AA-libd_chr1-chr1_AA-1008982-1028981-dynamic-1corestotal-allcorepera-caud-20240510-131051.rds'</li><li>'..//output_EXPANSE_a2_caud/libd_chr1-chr1_AA-libd_chr1-chr1_AA-1028982-1048981-dynamic-1corestotal-allcorepera-20240415-140831.rds'</li><li>'..//output_EXPANSE_a2_caud/libd_chr1-chr1_AA-libd_chr1-chr1_AA-1028982-1048981-dynamic-1corestotal-allcorepera-caud-20240510-131153.rds'</li><li>'..//output_EXPANSE_a2_caud/libd_chr1-chr1_AA-libd_chr1-chr1_AA-1048982-1068981-dynamic-1corestotal-allcorepera-20240415-141231.rds'</li><li>'..//output_EXPANSE_a2_caud/libd_chr1-chr1_AA-libd_chr1-chr1_AA-1048982-1068981-dynamic-1corestotal-allcorepera-caud-20240510-131254.rds'</li></ol>\n"
      ],
      "text/latex": [
       "\\begin{enumerate*}\n",
       "\\item '..//output\\_EXPANSE\\_a2\\_caud/libd\\_chr1-chr1\\_AA-libd\\_chr1-chr1\\_AA-1008982-1028981-dynamic-1corestotal-allcorepera-20240416-154932.rds'\n",
       "\\item '..//output\\_EXPANSE\\_a2\\_caud/libd\\_chr1-chr1\\_AA-libd\\_chr1-chr1\\_AA-1008982-1028981-dynamic-1corestotal-allcorepera-caud-20240510-131051.rds'\n",
       "\\item '..//output\\_EXPANSE\\_a2\\_caud/libd\\_chr1-chr1\\_AA-libd\\_chr1-chr1\\_AA-1028982-1048981-dynamic-1corestotal-allcorepera-20240415-140831.rds'\n",
       "\\item '..//output\\_EXPANSE\\_a2\\_caud/libd\\_chr1-chr1\\_AA-libd\\_chr1-chr1\\_AA-1028982-1048981-dynamic-1corestotal-allcorepera-caud-20240510-131153.rds'\n",
       "\\item '..//output\\_EXPANSE\\_a2\\_caud/libd\\_chr1-chr1\\_AA-libd\\_chr1-chr1\\_AA-1048982-1068981-dynamic-1corestotal-allcorepera-20240415-141231.rds'\n",
       "\\item '..//output\\_EXPANSE\\_a2\\_caud/libd\\_chr1-chr1\\_AA-libd\\_chr1-chr1\\_AA-1048982-1068981-dynamic-1corestotal-allcorepera-caud-20240510-131254.rds'\n",
       "\\end{enumerate*}\n"
      ],
      "text/markdown": [
       "1. '..//output_EXPANSE_a2_caud/libd_chr1-chr1_AA-libd_chr1-chr1_AA-1008982-1028981-dynamic-1corestotal-allcorepera-20240416-154932.rds'\n",
       "2. '..//output_EXPANSE_a2_caud/libd_chr1-chr1_AA-libd_chr1-chr1_AA-1008982-1028981-dynamic-1corestotal-allcorepera-caud-20240510-131051.rds'\n",
       "3. '..//output_EXPANSE_a2_caud/libd_chr1-chr1_AA-libd_chr1-chr1_AA-1028982-1048981-dynamic-1corestotal-allcorepera-20240415-140831.rds'\n",
       "4. '..//output_EXPANSE_a2_caud/libd_chr1-chr1_AA-libd_chr1-chr1_AA-1028982-1048981-dynamic-1corestotal-allcorepera-caud-20240510-131153.rds'\n",
       "5. '..//output_EXPANSE_a2_caud/libd_chr1-chr1_AA-libd_chr1-chr1_AA-1048982-1068981-dynamic-1corestotal-allcorepera-20240415-141231.rds'\n",
       "6. '..//output_EXPANSE_a2_caud/libd_chr1-chr1_AA-libd_chr1-chr1_AA-1048982-1068981-dynamic-1corestotal-allcorepera-caud-20240510-131254.rds'\n",
       "\n",
       "\n"
      ],
      "text/plain": [
       "[1] \"..//output_EXPANSE_a2_caud/libd_chr1-chr1_AA-libd_chr1-chr1_AA-1008982-1028981-dynamic-1corestotal-allcorepera-20240416-154932.rds\"     \n",
       "[2] \"..//output_EXPANSE_a2_caud/libd_chr1-chr1_AA-libd_chr1-chr1_AA-1008982-1028981-dynamic-1corestotal-allcorepera-caud-20240510-131051.rds\"\n",
       "[3] \"..//output_EXPANSE_a2_caud/libd_chr1-chr1_AA-libd_chr1-chr1_AA-1028982-1048981-dynamic-1corestotal-allcorepera-20240415-140831.rds\"     \n",
       "[4] \"..//output_EXPANSE_a2_caud/libd_chr1-chr1_AA-libd_chr1-chr1_AA-1028982-1048981-dynamic-1corestotal-allcorepera-caud-20240510-131153.rds\"\n",
       "[5] \"..//output_EXPANSE_a2_caud/libd_chr1-chr1_AA-libd_chr1-chr1_AA-1048982-1068981-dynamic-1corestotal-allcorepera-20240415-141231.rds\"     \n",
       "[6] \"..//output_EXPANSE_a2_caud/libd_chr1-chr1_AA-libd_chr1-chr1_AA-1048982-1068981-dynamic-1corestotal-allcorepera-caud-20240510-131254.rds\""
      ]
     },
     "metadata": {},
     "output_type": "display_data"
    }
   ],
   "source": [
    "head(files)"
   ]
  },
  {
   "cell_type": "code",
   "execution_count": 5,
   "id": "b9bc9df9-389f-4ccf-8945-86ab644d205f",
   "metadata": {},
   "outputs": [],
   "source": [
    "df <- fread(\"09.5-OUT_matched_SNP_meth_cov_chunked_JHPCE.csv\")"
   ]
  },
  {
   "cell_type": "code",
   "execution_count": 6,
   "id": "3a6a20fd-f4b2-46b2-b784-90b3b03f978c",
   "metadata": {},
   "outputs": [
    {
     "data": {
      "text/html": [
       "<table class=\"dataframe\">\n",
       "<caption>A data.table: 6 × 13</caption>\n",
       "<thead>\n",
       "\t<tr><th scope=col>Chr</th><th scope=col>SNP_data</th><th scope=col>methylation_data</th><th scope=col>last_meth_value_with_SNP_coverage</th><th scope=col>first_meth_value_with_SNP_coverage</th><th scope=col>last_meth_index_with_SNP_coverage</th><th scope=col>first_meth_index_with_SNP_coverage</th><th scope=col>population</th><th scope=col>region</th><th scope=col>cov_file</th><th scope=col>chunk_start</th><th scope=col>chunk_end</th><th scope=col>modified_methylation_data</th></tr>\n",
       "\t<tr><th scope=col>&lt;int&gt;</th><th scope=col>&lt;chr&gt;</th><th scope=col>&lt;chr&gt;</th><th scope=col>&lt;int&gt;</th><th scope=col>&lt;int&gt;</th><th scope=col>&lt;int&gt;</th><th scope=col>&lt;int&gt;</th><th scope=col>&lt;chr&gt;</th><th scope=col>&lt;chr&gt;</th><th scope=col>&lt;chr&gt;</th><th scope=col>&lt;int&gt;</th><th scope=col>&lt;dbl&gt;</th><th scope=col>&lt;chr&gt;</th></tr>\n",
       "</thead>\n",
       "<tbody>\n",
       "\t<tr><td>1</td><td>/dcs04/lieber/statsgen/shizhong/michael/mwas/gwas//libd_chr1.pgen</td><td>/dcs04/lieber/statsgen/shizhong/michael/mwas/pheno/caud/out/chr1_AA.rda</td><td>248918358</td><td>1069461</td><td>2202702</td><td>8982</td><td>AA</td><td>caud</td><td>/dcs04/lieber/statsgen/mnagle/mwas/full_covariates/AA_caud.csv</td><td>  8982</td><td> 28981</td><td>/dcs04/lieber/statsgen/mnagle/mwas/pheno/caud/out/chr1_AA_8982-28981.rds   </td></tr>\n",
       "\t<tr><td>1</td><td>/dcs04/lieber/statsgen/shizhong/michael/mwas/gwas//libd_chr1.pgen</td><td>/dcs04/lieber/statsgen/shizhong/michael/mwas/pheno/caud/out/chr1_AA.rda</td><td>248918358</td><td>1069461</td><td>2202702</td><td>8982</td><td>AA</td><td>caud</td><td>/dcs04/lieber/statsgen/mnagle/mwas/full_covariates/AA_caud.csv</td><td> 28982</td><td> 48981</td><td>/dcs04/lieber/statsgen/mnagle/mwas/pheno/caud/out/chr1_AA_28982-48981.rds  </td></tr>\n",
       "\t<tr><td>1</td><td>/dcs04/lieber/statsgen/shizhong/michael/mwas/gwas//libd_chr1.pgen</td><td>/dcs04/lieber/statsgen/shizhong/michael/mwas/pheno/caud/out/chr1_AA.rda</td><td>248918358</td><td>1069461</td><td>2202702</td><td>8982</td><td>AA</td><td>caud</td><td>/dcs04/lieber/statsgen/mnagle/mwas/full_covariates/AA_caud.csv</td><td> 48982</td><td> 68981</td><td>/dcs04/lieber/statsgen/mnagle/mwas/pheno/caud/out/chr1_AA_48982-68981.rds  </td></tr>\n",
       "\t<tr><td>1</td><td>/dcs04/lieber/statsgen/shizhong/michael/mwas/gwas//libd_chr1.pgen</td><td>/dcs04/lieber/statsgen/shizhong/michael/mwas/pheno/caud/out/chr1_AA.rda</td><td>248918358</td><td>1069461</td><td>2202702</td><td>8982</td><td>AA</td><td>caud</td><td>/dcs04/lieber/statsgen/mnagle/mwas/full_covariates/AA_caud.csv</td><td> 68982</td><td> 88981</td><td>/dcs04/lieber/statsgen/mnagle/mwas/pheno/caud/out/chr1_AA_68982-88981.rds  </td></tr>\n",
       "\t<tr><td>1</td><td>/dcs04/lieber/statsgen/shizhong/michael/mwas/gwas//libd_chr1.pgen</td><td>/dcs04/lieber/statsgen/shizhong/michael/mwas/pheno/caud/out/chr1_AA.rda</td><td>248918358</td><td>1069461</td><td>2202702</td><td>8982</td><td>AA</td><td>caud</td><td>/dcs04/lieber/statsgen/mnagle/mwas/full_covariates/AA_caud.csv</td><td> 88982</td><td>108981</td><td>/dcs04/lieber/statsgen/mnagle/mwas/pheno/caud/out/chr1_AA_88982-108981.rds </td></tr>\n",
       "\t<tr><td>1</td><td>/dcs04/lieber/statsgen/shizhong/michael/mwas/gwas//libd_chr1.pgen</td><td>/dcs04/lieber/statsgen/shizhong/michael/mwas/pheno/caud/out/chr1_AA.rda</td><td>248918358</td><td>1069461</td><td>2202702</td><td>8982</td><td>AA</td><td>caud</td><td>/dcs04/lieber/statsgen/mnagle/mwas/full_covariates/AA_caud.csv</td><td>108982</td><td>128981</td><td>/dcs04/lieber/statsgen/mnagle/mwas/pheno/caud/out/chr1_AA_108982-128981.rds</td></tr>\n",
       "</tbody>\n",
       "</table>\n"
      ],
      "text/latex": [
       "A data.table: 6 × 13\n",
       "\\begin{tabular}{lllllllllllll}\n",
       " Chr & SNP\\_data & methylation\\_data & last\\_meth\\_value\\_with\\_SNP\\_coverage & first\\_meth\\_value\\_with\\_SNP\\_coverage & last\\_meth\\_index\\_with\\_SNP\\_coverage & first\\_meth\\_index\\_with\\_SNP\\_coverage & population & region & cov\\_file & chunk\\_start & chunk\\_end & modified\\_methylation\\_data\\\\\n",
       " <int> & <chr> & <chr> & <int> & <int> & <int> & <int> & <chr> & <chr> & <chr> & <int> & <dbl> & <chr>\\\\\n",
       "\\hline\n",
       "\t 1 & /dcs04/lieber/statsgen/shizhong/michael/mwas/gwas//libd\\_chr1.pgen & /dcs04/lieber/statsgen/shizhong/michael/mwas/pheno/caud/out/chr1\\_AA.rda & 248918358 & 1069461 & 2202702 & 8982 & AA & caud & /dcs04/lieber/statsgen/mnagle/mwas/full\\_covariates/AA\\_caud.csv &   8982 &  28981 & /dcs04/lieber/statsgen/mnagle/mwas/pheno/caud/out/chr1\\_AA\\_8982-28981.rds   \\\\\n",
       "\t 1 & /dcs04/lieber/statsgen/shizhong/michael/mwas/gwas//libd\\_chr1.pgen & /dcs04/lieber/statsgen/shizhong/michael/mwas/pheno/caud/out/chr1\\_AA.rda & 248918358 & 1069461 & 2202702 & 8982 & AA & caud & /dcs04/lieber/statsgen/mnagle/mwas/full\\_covariates/AA\\_caud.csv &  28982 &  48981 & /dcs04/lieber/statsgen/mnagle/mwas/pheno/caud/out/chr1\\_AA\\_28982-48981.rds  \\\\\n",
       "\t 1 & /dcs04/lieber/statsgen/shizhong/michael/mwas/gwas//libd\\_chr1.pgen & /dcs04/lieber/statsgen/shizhong/michael/mwas/pheno/caud/out/chr1\\_AA.rda & 248918358 & 1069461 & 2202702 & 8982 & AA & caud & /dcs04/lieber/statsgen/mnagle/mwas/full\\_covariates/AA\\_caud.csv &  48982 &  68981 & /dcs04/lieber/statsgen/mnagle/mwas/pheno/caud/out/chr1\\_AA\\_48982-68981.rds  \\\\\n",
       "\t 1 & /dcs04/lieber/statsgen/shizhong/michael/mwas/gwas//libd\\_chr1.pgen & /dcs04/lieber/statsgen/shizhong/michael/mwas/pheno/caud/out/chr1\\_AA.rda & 248918358 & 1069461 & 2202702 & 8982 & AA & caud & /dcs04/lieber/statsgen/mnagle/mwas/full\\_covariates/AA\\_caud.csv &  68982 &  88981 & /dcs04/lieber/statsgen/mnagle/mwas/pheno/caud/out/chr1\\_AA\\_68982-88981.rds  \\\\\n",
       "\t 1 & /dcs04/lieber/statsgen/shizhong/michael/mwas/gwas//libd\\_chr1.pgen & /dcs04/lieber/statsgen/shizhong/michael/mwas/pheno/caud/out/chr1\\_AA.rda & 248918358 & 1069461 & 2202702 & 8982 & AA & caud & /dcs04/lieber/statsgen/mnagle/mwas/full\\_covariates/AA\\_caud.csv &  88982 & 108981 & /dcs04/lieber/statsgen/mnagle/mwas/pheno/caud/out/chr1\\_AA\\_88982-108981.rds \\\\\n",
       "\t 1 & /dcs04/lieber/statsgen/shizhong/michael/mwas/gwas//libd\\_chr1.pgen & /dcs04/lieber/statsgen/shizhong/michael/mwas/pheno/caud/out/chr1\\_AA.rda & 248918358 & 1069461 & 2202702 & 8982 & AA & caud & /dcs04/lieber/statsgen/mnagle/mwas/full\\_covariates/AA\\_caud.csv & 108982 & 128981 & /dcs04/lieber/statsgen/mnagle/mwas/pheno/caud/out/chr1\\_AA\\_108982-128981.rds\\\\\n",
       "\\end{tabular}\n"
      ],
      "text/markdown": [
       "\n",
       "A data.table: 6 × 13\n",
       "\n",
       "| Chr &lt;int&gt; | SNP_data &lt;chr&gt; | methylation_data &lt;chr&gt; | last_meth_value_with_SNP_coverage &lt;int&gt; | first_meth_value_with_SNP_coverage &lt;int&gt; | last_meth_index_with_SNP_coverage &lt;int&gt; | first_meth_index_with_SNP_coverage &lt;int&gt; | population &lt;chr&gt; | region &lt;chr&gt; | cov_file &lt;chr&gt; | chunk_start &lt;int&gt; | chunk_end &lt;dbl&gt; | modified_methylation_data &lt;chr&gt; |\n",
       "|---|---|---|---|---|---|---|---|---|---|---|---|---|\n",
       "| 1 | /dcs04/lieber/statsgen/shizhong/michael/mwas/gwas//libd_chr1.pgen | /dcs04/lieber/statsgen/shizhong/michael/mwas/pheno/caud/out/chr1_AA.rda | 248918358 | 1069461 | 2202702 | 8982 | AA | caud | /dcs04/lieber/statsgen/mnagle/mwas/full_covariates/AA_caud.csv |   8982 |  28981 | /dcs04/lieber/statsgen/mnagle/mwas/pheno/caud/out/chr1_AA_8982-28981.rds    |\n",
       "| 1 | /dcs04/lieber/statsgen/shizhong/michael/mwas/gwas//libd_chr1.pgen | /dcs04/lieber/statsgen/shizhong/michael/mwas/pheno/caud/out/chr1_AA.rda | 248918358 | 1069461 | 2202702 | 8982 | AA | caud | /dcs04/lieber/statsgen/mnagle/mwas/full_covariates/AA_caud.csv |  28982 |  48981 | /dcs04/lieber/statsgen/mnagle/mwas/pheno/caud/out/chr1_AA_28982-48981.rds   |\n",
       "| 1 | /dcs04/lieber/statsgen/shizhong/michael/mwas/gwas//libd_chr1.pgen | /dcs04/lieber/statsgen/shizhong/michael/mwas/pheno/caud/out/chr1_AA.rda | 248918358 | 1069461 | 2202702 | 8982 | AA | caud | /dcs04/lieber/statsgen/mnagle/mwas/full_covariates/AA_caud.csv |  48982 |  68981 | /dcs04/lieber/statsgen/mnagle/mwas/pheno/caud/out/chr1_AA_48982-68981.rds   |\n",
       "| 1 | /dcs04/lieber/statsgen/shizhong/michael/mwas/gwas//libd_chr1.pgen | /dcs04/lieber/statsgen/shizhong/michael/mwas/pheno/caud/out/chr1_AA.rda | 248918358 | 1069461 | 2202702 | 8982 | AA | caud | /dcs04/lieber/statsgen/mnagle/mwas/full_covariates/AA_caud.csv |  68982 |  88981 | /dcs04/lieber/statsgen/mnagle/mwas/pheno/caud/out/chr1_AA_68982-88981.rds   |\n",
       "| 1 | /dcs04/lieber/statsgen/shizhong/michael/mwas/gwas//libd_chr1.pgen | /dcs04/lieber/statsgen/shizhong/michael/mwas/pheno/caud/out/chr1_AA.rda | 248918358 | 1069461 | 2202702 | 8982 | AA | caud | /dcs04/lieber/statsgen/mnagle/mwas/full_covariates/AA_caud.csv |  88982 | 108981 | /dcs04/lieber/statsgen/mnagle/mwas/pheno/caud/out/chr1_AA_88982-108981.rds  |\n",
       "| 1 | /dcs04/lieber/statsgen/shizhong/michael/mwas/gwas//libd_chr1.pgen | /dcs04/lieber/statsgen/shizhong/michael/mwas/pheno/caud/out/chr1_AA.rda | 248918358 | 1069461 | 2202702 | 8982 | AA | caud | /dcs04/lieber/statsgen/mnagle/mwas/full_covariates/AA_caud.csv | 108982 | 128981 | /dcs04/lieber/statsgen/mnagle/mwas/pheno/caud/out/chr1_AA_108982-128981.rds |\n",
       "\n"
      ],
      "text/plain": [
       "  Chr SNP_data                                                         \n",
       "1 1   /dcs04/lieber/statsgen/shizhong/michael/mwas/gwas//libd_chr1.pgen\n",
       "2 1   /dcs04/lieber/statsgen/shizhong/michael/mwas/gwas//libd_chr1.pgen\n",
       "3 1   /dcs04/lieber/statsgen/shizhong/michael/mwas/gwas//libd_chr1.pgen\n",
       "4 1   /dcs04/lieber/statsgen/shizhong/michael/mwas/gwas//libd_chr1.pgen\n",
       "5 1   /dcs04/lieber/statsgen/shizhong/michael/mwas/gwas//libd_chr1.pgen\n",
       "6 1   /dcs04/lieber/statsgen/shizhong/michael/mwas/gwas//libd_chr1.pgen\n",
       "  methylation_data                                                       \n",
       "1 /dcs04/lieber/statsgen/shizhong/michael/mwas/pheno/caud/out/chr1_AA.rda\n",
       "2 /dcs04/lieber/statsgen/shizhong/michael/mwas/pheno/caud/out/chr1_AA.rda\n",
       "3 /dcs04/lieber/statsgen/shizhong/michael/mwas/pheno/caud/out/chr1_AA.rda\n",
       "4 /dcs04/lieber/statsgen/shizhong/michael/mwas/pheno/caud/out/chr1_AA.rda\n",
       "5 /dcs04/lieber/statsgen/shizhong/michael/mwas/pheno/caud/out/chr1_AA.rda\n",
       "6 /dcs04/lieber/statsgen/shizhong/michael/mwas/pheno/caud/out/chr1_AA.rda\n",
       "  last_meth_value_with_SNP_coverage first_meth_value_with_SNP_coverage\n",
       "1 248918358                         1069461                           \n",
       "2 248918358                         1069461                           \n",
       "3 248918358                         1069461                           \n",
       "4 248918358                         1069461                           \n",
       "5 248918358                         1069461                           \n",
       "6 248918358                         1069461                           \n",
       "  last_meth_index_with_SNP_coverage first_meth_index_with_SNP_coverage\n",
       "1 2202702                           8982                              \n",
       "2 2202702                           8982                              \n",
       "3 2202702                           8982                              \n",
       "4 2202702                           8982                              \n",
       "5 2202702                           8982                              \n",
       "6 2202702                           8982                              \n",
       "  population region\n",
       "1 AA         caud  \n",
       "2 AA         caud  \n",
       "3 AA         caud  \n",
       "4 AA         caud  \n",
       "5 AA         caud  \n",
       "6 AA         caud  \n",
       "  cov_file                                                       chunk_start\n",
       "1 /dcs04/lieber/statsgen/mnagle/mwas/full_covariates/AA_caud.csv   8982     \n",
       "2 /dcs04/lieber/statsgen/mnagle/mwas/full_covariates/AA_caud.csv  28982     \n",
       "3 /dcs04/lieber/statsgen/mnagle/mwas/full_covariates/AA_caud.csv  48982     \n",
       "4 /dcs04/lieber/statsgen/mnagle/mwas/full_covariates/AA_caud.csv  68982     \n",
       "5 /dcs04/lieber/statsgen/mnagle/mwas/full_covariates/AA_caud.csv  88982     \n",
       "6 /dcs04/lieber/statsgen/mnagle/mwas/full_covariates/AA_caud.csv 108982     \n",
       "  chunk_end\n",
       "1  28981   \n",
       "2  48981   \n",
       "3  68981   \n",
       "4  88981   \n",
       "5 108981   \n",
       "6 128981   \n",
       "  modified_methylation_data                                                  \n",
       "1 /dcs04/lieber/statsgen/mnagle/mwas/pheno/caud/out/chr1_AA_8982-28981.rds   \n",
       "2 /dcs04/lieber/statsgen/mnagle/mwas/pheno/caud/out/chr1_AA_28982-48981.rds  \n",
       "3 /dcs04/lieber/statsgen/mnagle/mwas/pheno/caud/out/chr1_AA_48982-68981.rds  \n",
       "4 /dcs04/lieber/statsgen/mnagle/mwas/pheno/caud/out/chr1_AA_68982-88981.rds  \n",
       "5 /dcs04/lieber/statsgen/mnagle/mwas/pheno/caud/out/chr1_AA_88982-108981.rds \n",
       "6 /dcs04/lieber/statsgen/mnagle/mwas/pheno/caud/out/chr1_AA_108982-128981.rds"
      ]
     },
     "metadata": {},
     "output_type": "display_data"
    }
   ],
   "source": [
    "head(df)"
   ]
  },
  {
   "cell_type": "code",
   "execution_count": 7,
   "id": "ddbfcffc-78a7-4ec5-95fe-03a2ea79816a",
   "metadata": {},
   "outputs": [
    {
     "data": {
      "text/html": [
       "<style>\n",
       ".list-inline {list-style: none; margin:0; padding: 0}\n",
       ".list-inline>li {display: inline-block}\n",
       ".list-inline>li:not(:last-child)::after {content: \"\\00b7\"; padding: 0 .5ex}\n",
       "</style>\n",
       "<ol class=list-inline><li>11457</li><li>13</li></ol>\n"
      ],
      "text/latex": [
       "\\begin{enumerate*}\n",
       "\\item 11457\n",
       "\\item 13\n",
       "\\end{enumerate*}\n"
      ],
      "text/markdown": [
       "1. 11457\n",
       "2. 13\n",
       "\n",
       "\n"
      ],
      "text/plain": [
       "[1] 11457    13"
      ]
     },
     "metadata": {},
     "output_type": "display_data"
    }
   ],
   "source": [
    "dim(df)"
   ]
  },
  {
   "cell_type": "code",
   "execution_count": 8,
   "id": "ed69239f-dfc5-417b-880b-bba96849101d",
   "metadata": {},
   "outputs": [],
   "source": [
    "files <- data.frame(path = files,\n",
    "                    Chr = NA,\n",
    "                    chunk_start = NA,\n",
    "                    chunk_end = NA,\n",
    "                    region = NA,\n",
    "                    population = NA)"
   ]
  },
  {
   "cell_type": "code",
   "execution_count": 9,
   "id": "c1d25926-87d1-4c01-abd3-d94fd87e9919",
   "metadata": {},
   "outputs": [
    {
     "data": {
      "text/html": [
       "<style>\n",
       ".list-inline {list-style: none; margin:0; padding: 0}\n",
       ".list-inline>li {display: inline-block}\n",
       ".list-inline>li:not(:last-child)::after {content: \"\\00b7\"; padding: 0 .5ex}\n",
       "</style>\n",
       "<ol class=list-inline><li>16098</li><li>6</li></ol>\n"
      ],
      "text/latex": [
       "\\begin{enumerate*}\n",
       "\\item 16098\n",
       "\\item 6\n",
       "\\end{enumerate*}\n"
      ],
      "text/markdown": [
       "1. 16098\n",
       "2. 6\n",
       "\n",
       "\n"
      ],
      "text/plain": [
       "[1] 16098     6"
      ]
     },
     "metadata": {},
     "output_type": "display_data"
    }
   ],
   "source": [
    "dim(files)"
   ]
  },
  {
   "cell_type": "code",
   "execution_count": 10,
   "id": "7de0ca6e-fdbf-41eb-a6ad-9a0f3fc13484",
   "metadata": {},
   "outputs": [],
   "source": [
    "library(stringr)"
   ]
  },
  {
   "cell_type": "code",
   "execution_count": 11,
   "id": "8540eaf6-2e35-4c96-ae18-647d121ea5b3",
   "metadata": {},
   "outputs": [],
   "source": [
    "region <- str_split_fixed(files$path, \"/\", 4)[, 3]\n",
    "region <- gsub(\"output_chr1_a2_\", \"\", region)\n",
    "region <- gsub(\"output_EXPANSE_a2_\", \"\", region)"
   ]
  },
  {
   "cell_type": "code",
   "execution_count": 12,
   "id": "cd797a4d-6797-4cde-be00-6d0a5bb492d5",
   "metadata": {},
   "outputs": [],
   "source": [
    "path_split <- str_split_fixed(files$path, \"/\", 4)[, 4]\n",
    "path_split <- as.data.frame(str_split_fixed(path_split, \"-\", 11))"
   ]
  },
  {
   "cell_type": "code",
   "execution_count": 13,
   "id": "528c36b6-b08c-4829-9a5c-504017906347",
   "metadata": {},
   "outputs": [],
   "source": [
    "files$Chr <- gsub(\"libd_\", \"\", path_split$V1)\n",
    "files$chunk_start <- gsub(\"libd_\", \"\", path_split$V5)\n",
    "files$chunk_end <- gsub(\"libd_\", \"\", path_split$V6)\n",
    "files$region <- region\n",
    "files$population <- str_split_fixed(path_split$V2, \"_\", 2)[, 2]"
   ]
  },
  {
   "cell_type": "code",
   "execution_count": 14,
   "id": "b11e573e-30c4-4ee7-b433-96e84f80a91b",
   "metadata": {},
   "outputs": [],
   "source": [
    "files$V10 <- path_split$V10\n",
    "files$V11 <- path_split$V11"
   ]
  },
  {
   "cell_type": "code",
   "execution_count": 15,
   "id": "000579cf-8c65-44bf-9d56-aae5f2665f82",
   "metadata": {},
   "outputs": [],
   "source": [
    "files$Chr <- gsub(\"chr\", \"\", files$Chr)\n",
    "files$Chr <- as.numeric(files$Chr)\n",
    "files$chunk_start <- as.numeric(files$chunk_start)\n",
    "files$chunk_end <- as.numeric(files$chunk_end)"
   ]
  },
  {
   "cell_type": "code",
   "execution_count": 16,
   "id": "44b06582-fb4f-458c-8660-00091e859a30",
   "metadata": {},
   "outputs": [],
   "source": [
    "merged <- merge(df, files, all = TRUE)"
   ]
  },
  {
   "cell_type": "code",
   "execution_count": 17,
   "id": "6fbd4fa5-ab4a-47bb-b599-019aa12e3bb6",
   "metadata": {},
   "outputs": [
    {
     "data": {
      "text/html": [
       "<style>\n",
       ".list-inline {list-style: none; margin:0; padding: 0}\n",
       ".list-inline>li {display: inline-block}\n",
       ".list-inline>li:not(:last-child)::after {content: \"\\00b7\"; padding: 0 .5ex}\n",
       "</style>\n",
       "<ol class=list-inline><li>0</li><li>16</li></ol>\n"
      ],
      "text/latex": [
       "\\begin{enumerate*}\n",
       "\\item 0\n",
       "\\item 16\n",
       "\\end{enumerate*}\n"
      ],
      "text/markdown": [
       "1. 0\n",
       "2. 16\n",
       "\n",
       "\n"
      ],
      "text/plain": [
       "[1]  0 16"
      ]
     },
     "metadata": {},
     "output_type": "display_data"
    }
   ],
   "source": [
    "dim(merged[is.na(merged$path), ])"
   ]
  },
  {
   "cell_type": "code",
   "execution_count": 18,
   "id": "74fb30f2-fa1f-45e7-8c08-7f49092a11c9",
   "metadata": {},
   "outputs": [
    {
     "data": {
      "text/html": [],
      "text/latex": [],
      "text/markdown": [],
      "text/plain": [
       "character(0)"
      ]
     },
     "metadata": {},
     "output_type": "display_data"
    }
   ],
   "source": [
    "needs_to_be_done <- merged[is.na(merged$path), ]\n",
    "levels(factor(needs_to_be_done$Chr))"
   ]
  },
  {
   "cell_type": "code",
   "execution_count": 19,
   "id": "c2467033-490e-482c-a81f-2dc523d31de8",
   "metadata": {},
   "outputs": [
    {
     "data": {
      "text/html": [
       "<style>\n",
       ".list-inline {list-style: none; margin:0; padding: 0}\n",
       ".list-inline>li {display: inline-block}\n",
       ".list-inline>li:not(:last-child)::after {content: \"\\00b7\"; padding: 0 .5ex}\n",
       "</style>\n",
       "<ol class=list-inline><li>16098</li><li>16</li></ol>\n"
      ],
      "text/latex": [
       "\\begin{enumerate*}\n",
       "\\item 16098\n",
       "\\item 16\n",
       "\\end{enumerate*}\n"
      ],
      "text/markdown": [
       "1. 16098\n",
       "2. 16\n",
       "\n",
       "\n"
      ],
      "text/plain": [
       "[1] 16098    16"
      ]
     },
     "metadata": {},
     "output_type": "display_data"
    }
   ],
   "source": [
    "dim(merged)"
   ]
  },
  {
   "cell_type": "code",
   "execution_count": 20,
   "id": "99dbb374-fc2e-46b3-b978-fea372254c44",
   "metadata": {},
   "outputs": [
    {
     "data": {
      "text/html": [
       "0.924238456838614"
      ],
      "text/latex": [
       "0.924238456838614"
      ],
      "text/markdown": [
       "0.924238456838614"
      ],
      "text/plain": [
       "[1] 0.9242385"
      ]
     },
     "metadata": {},
     "output_type": "display_data"
    }
   ],
   "source": [
    "(11457-868)/11457"
   ]
  },
  {
   "cell_type": "code",
   "execution_count": 21,
   "id": "de1976c3-2766-4a46-8d81-392b990cc866",
   "metadata": {},
   "outputs": [
    {
     "data": {
      "text/html": [
       "<table class=\"dataframe\">\n",
       "<caption>A data.table: 6 × 16</caption>\n",
       "<thead>\n",
       "\t<tr><th scope=col>Chr</th><th scope=col>population</th><th scope=col>region</th><th scope=col>chunk_start</th><th scope=col>chunk_end</th><th scope=col>SNP_data</th><th scope=col>methylation_data</th><th scope=col>last_meth_value_with_SNP_coverage</th><th scope=col>first_meth_value_with_SNP_coverage</th><th scope=col>last_meth_index_with_SNP_coverage</th><th scope=col>first_meth_index_with_SNP_coverage</th><th scope=col>cov_file</th><th scope=col>modified_methylation_data</th><th scope=col>path</th><th scope=col>V10</th><th scope=col>V11</th></tr>\n",
       "\t<tr><th scope=col>&lt;int&gt;</th><th scope=col>&lt;chr&gt;</th><th scope=col>&lt;chr&gt;</th><th scope=col>&lt;int&gt;</th><th scope=col>&lt;dbl&gt;</th><th scope=col>&lt;chr&gt;</th><th scope=col>&lt;chr&gt;</th><th scope=col>&lt;int&gt;</th><th scope=col>&lt;int&gt;</th><th scope=col>&lt;int&gt;</th><th scope=col>&lt;int&gt;</th><th scope=col>&lt;chr&gt;</th><th scope=col>&lt;chr&gt;</th><th scope=col>&lt;chr&gt;</th><th scope=col>&lt;chr&gt;</th><th scope=col>&lt;chr&gt;</th></tr>\n",
       "</thead>\n",
       "<tbody>\n",
       "\t<tr><td>1</td><td>AA</td><td>caud</td><td> 8982</td><td>28981</td><td>/dcs04/lieber/statsgen/shizhong/michael/mwas/gwas//libd_chr1.pgen</td><td>/dcs04/lieber/statsgen/shizhong/michael/mwas/pheno/caud/out/chr1_AA.rda</td><td>248918358</td><td>1069461</td><td>2202702</td><td>8982</td><td>/dcs04/lieber/statsgen/mnagle/mwas/full_covariates/AA_caud.csv</td><td>/dcs04/lieber/statsgen/mnagle/mwas/pheno/caud/out/chr1_AA_8982-28981.rds </td><td>..//output_EXPANSE_a2_caud/libd_chr1-chr1_AA-libd_chr1-chr1_AA-8982-28981-dynamic-1corestotal-allcorepera-20240415-104419.rds      </td><td>20240415</td><td>104419.rds         </td></tr>\n",
       "\t<tr><td>1</td><td>AA</td><td>caud</td><td> 8982</td><td>28981</td><td>/dcs04/lieber/statsgen/shizhong/michael/mwas/gwas//libd_chr1.pgen</td><td>/dcs04/lieber/statsgen/shizhong/michael/mwas/pheno/caud/out/chr1_AA.rda</td><td>248918358</td><td>1069461</td><td>2202702</td><td>8982</td><td>/dcs04/lieber/statsgen/mnagle/mwas/full_covariates/AA_caud.csv</td><td>/dcs04/lieber/statsgen/mnagle/mwas/pheno/caud/out/chr1_AA_8982-28981.rds </td><td>..//output_EXPANSE_a2_caud/libd_chr1-chr1_AA-libd_chr1-chr1_AA-8982-28981-dynamic-1corestotal-allcorepera-caud-20240510-121942.rds </td><td>caud    </td><td>20240510-121942.rds</td></tr>\n",
       "\t<tr><td>1</td><td>AA</td><td>caud</td><td>28982</td><td>48981</td><td>/dcs04/lieber/statsgen/shizhong/michael/mwas/gwas//libd_chr1.pgen</td><td>/dcs04/lieber/statsgen/shizhong/michael/mwas/pheno/caud/out/chr1_AA.rda</td><td>248918358</td><td>1069461</td><td>2202702</td><td>8982</td><td>/dcs04/lieber/statsgen/mnagle/mwas/full_covariates/AA_caud.csv</td><td>/dcs04/lieber/statsgen/mnagle/mwas/pheno/caud/out/chr1_AA_28982-48981.rds</td><td>..//output_EXPANSE_a2_caud/libd_chr1-chr1_AA-libd_chr1-chr1_AA-28982-48981-dynamic-1corestotal-allcorepera-20240415-104820.rds     </td><td>20240415</td><td>104820.rds         </td></tr>\n",
       "\t<tr><td>1</td><td>AA</td><td>caud</td><td>28982</td><td>48981</td><td>/dcs04/lieber/statsgen/shizhong/michael/mwas/gwas//libd_chr1.pgen</td><td>/dcs04/lieber/statsgen/shizhong/michael/mwas/pheno/caud/out/chr1_AA.rda</td><td>248918358</td><td>1069461</td><td>2202702</td><td>8982</td><td>/dcs04/lieber/statsgen/mnagle/mwas/full_covariates/AA_caud.csv</td><td>/dcs04/lieber/statsgen/mnagle/mwas/pheno/caud/out/chr1_AA_28982-48981.rds</td><td>..//output_EXPANSE_a2_caud/libd_chr1-chr1_AA-libd_chr1-chr1_AA-28982-48981-dynamic-1corestotal-allcorepera-caud-20240510-122045.rds</td><td>caud    </td><td>20240510-122045.rds</td></tr>\n",
       "\t<tr><td>1</td><td>AA</td><td>caud</td><td>48982</td><td>68981</td><td>/dcs04/lieber/statsgen/shizhong/michael/mwas/gwas//libd_chr1.pgen</td><td>/dcs04/lieber/statsgen/shizhong/michael/mwas/pheno/caud/out/chr1_AA.rda</td><td>248918358</td><td>1069461</td><td>2202702</td><td>8982</td><td>/dcs04/lieber/statsgen/mnagle/mwas/full_covariates/AA_caud.csv</td><td>/dcs04/lieber/statsgen/mnagle/mwas/pheno/caud/out/chr1_AA_48982-68981.rds</td><td>..//output_EXPANSE_a2_caud/libd_chr1-chr1_AA-libd_chr1-chr1_AA-48982-68981-dynamic-1corestotal-allcorepera-20240415-105220.rds     </td><td>20240415</td><td>105220.rds         </td></tr>\n",
       "\t<tr><td>1</td><td>AA</td><td>caud</td><td>48982</td><td>68981</td><td>/dcs04/lieber/statsgen/shizhong/michael/mwas/gwas//libd_chr1.pgen</td><td>/dcs04/lieber/statsgen/shizhong/michael/mwas/pheno/caud/out/chr1_AA.rda</td><td>248918358</td><td>1069461</td><td>2202702</td><td>8982</td><td>/dcs04/lieber/statsgen/mnagle/mwas/full_covariates/AA_caud.csv</td><td>/dcs04/lieber/statsgen/mnagle/mwas/pheno/caud/out/chr1_AA_48982-68981.rds</td><td>..//output_EXPANSE_a2_caud/libd_chr1-chr1_AA-libd_chr1-chr1_AA-48982-68981-dynamic-1corestotal-allcorepera-caud-20240510-122147.rds</td><td>caud    </td><td>20240510-122147.rds</td></tr>\n",
       "</tbody>\n",
       "</table>\n"
      ],
      "text/latex": [
       "A data.table: 6 × 16\n",
       "\\begin{tabular}{llllllllllllllll}\n",
       " Chr & population & region & chunk\\_start & chunk\\_end & SNP\\_data & methylation\\_data & last\\_meth\\_value\\_with\\_SNP\\_coverage & first\\_meth\\_value\\_with\\_SNP\\_coverage & last\\_meth\\_index\\_with\\_SNP\\_coverage & first\\_meth\\_index\\_with\\_SNP\\_coverage & cov\\_file & modified\\_methylation\\_data & path & V10 & V11\\\\\n",
       " <int> & <chr> & <chr> & <int> & <dbl> & <chr> & <chr> & <int> & <int> & <int> & <int> & <chr> & <chr> & <chr> & <chr> & <chr>\\\\\n",
       "\\hline\n",
       "\t 1 & AA & caud &  8982 & 28981 & /dcs04/lieber/statsgen/shizhong/michael/mwas/gwas//libd\\_chr1.pgen & /dcs04/lieber/statsgen/shizhong/michael/mwas/pheno/caud/out/chr1\\_AA.rda & 248918358 & 1069461 & 2202702 & 8982 & /dcs04/lieber/statsgen/mnagle/mwas/full\\_covariates/AA\\_caud.csv & /dcs04/lieber/statsgen/mnagle/mwas/pheno/caud/out/chr1\\_AA\\_8982-28981.rds  & ..//output\\_EXPANSE\\_a2\\_caud/libd\\_chr1-chr1\\_AA-libd\\_chr1-chr1\\_AA-8982-28981-dynamic-1corestotal-allcorepera-20240415-104419.rds       & 20240415 & 104419.rds         \\\\\n",
       "\t 1 & AA & caud &  8982 & 28981 & /dcs04/lieber/statsgen/shizhong/michael/mwas/gwas//libd\\_chr1.pgen & /dcs04/lieber/statsgen/shizhong/michael/mwas/pheno/caud/out/chr1\\_AA.rda & 248918358 & 1069461 & 2202702 & 8982 & /dcs04/lieber/statsgen/mnagle/mwas/full\\_covariates/AA\\_caud.csv & /dcs04/lieber/statsgen/mnagle/mwas/pheno/caud/out/chr1\\_AA\\_8982-28981.rds  & ..//output\\_EXPANSE\\_a2\\_caud/libd\\_chr1-chr1\\_AA-libd\\_chr1-chr1\\_AA-8982-28981-dynamic-1corestotal-allcorepera-caud-20240510-121942.rds  & caud     & 20240510-121942.rds\\\\\n",
       "\t 1 & AA & caud & 28982 & 48981 & /dcs04/lieber/statsgen/shizhong/michael/mwas/gwas//libd\\_chr1.pgen & /dcs04/lieber/statsgen/shizhong/michael/mwas/pheno/caud/out/chr1\\_AA.rda & 248918358 & 1069461 & 2202702 & 8982 & /dcs04/lieber/statsgen/mnagle/mwas/full\\_covariates/AA\\_caud.csv & /dcs04/lieber/statsgen/mnagle/mwas/pheno/caud/out/chr1\\_AA\\_28982-48981.rds & ..//output\\_EXPANSE\\_a2\\_caud/libd\\_chr1-chr1\\_AA-libd\\_chr1-chr1\\_AA-28982-48981-dynamic-1corestotal-allcorepera-20240415-104820.rds      & 20240415 & 104820.rds         \\\\\n",
       "\t 1 & AA & caud & 28982 & 48981 & /dcs04/lieber/statsgen/shizhong/michael/mwas/gwas//libd\\_chr1.pgen & /dcs04/lieber/statsgen/shizhong/michael/mwas/pheno/caud/out/chr1\\_AA.rda & 248918358 & 1069461 & 2202702 & 8982 & /dcs04/lieber/statsgen/mnagle/mwas/full\\_covariates/AA\\_caud.csv & /dcs04/lieber/statsgen/mnagle/mwas/pheno/caud/out/chr1\\_AA\\_28982-48981.rds & ..//output\\_EXPANSE\\_a2\\_caud/libd\\_chr1-chr1\\_AA-libd\\_chr1-chr1\\_AA-28982-48981-dynamic-1corestotal-allcorepera-caud-20240510-122045.rds & caud     & 20240510-122045.rds\\\\\n",
       "\t 1 & AA & caud & 48982 & 68981 & /dcs04/lieber/statsgen/shizhong/michael/mwas/gwas//libd\\_chr1.pgen & /dcs04/lieber/statsgen/shizhong/michael/mwas/pheno/caud/out/chr1\\_AA.rda & 248918358 & 1069461 & 2202702 & 8982 & /dcs04/lieber/statsgen/mnagle/mwas/full\\_covariates/AA\\_caud.csv & /dcs04/lieber/statsgen/mnagle/mwas/pheno/caud/out/chr1\\_AA\\_48982-68981.rds & ..//output\\_EXPANSE\\_a2\\_caud/libd\\_chr1-chr1\\_AA-libd\\_chr1-chr1\\_AA-48982-68981-dynamic-1corestotal-allcorepera-20240415-105220.rds      & 20240415 & 105220.rds         \\\\\n",
       "\t 1 & AA & caud & 48982 & 68981 & /dcs04/lieber/statsgen/shizhong/michael/mwas/gwas//libd\\_chr1.pgen & /dcs04/lieber/statsgen/shizhong/michael/mwas/pheno/caud/out/chr1\\_AA.rda & 248918358 & 1069461 & 2202702 & 8982 & /dcs04/lieber/statsgen/mnagle/mwas/full\\_covariates/AA\\_caud.csv & /dcs04/lieber/statsgen/mnagle/mwas/pheno/caud/out/chr1\\_AA\\_48982-68981.rds & ..//output\\_EXPANSE\\_a2\\_caud/libd\\_chr1-chr1\\_AA-libd\\_chr1-chr1\\_AA-48982-68981-dynamic-1corestotal-allcorepera-caud-20240510-122147.rds & caud     & 20240510-122147.rds\\\\\n",
       "\\end{tabular}\n"
      ],
      "text/markdown": [
       "\n",
       "A data.table: 6 × 16\n",
       "\n",
       "| Chr &lt;int&gt; | population &lt;chr&gt; | region &lt;chr&gt; | chunk_start &lt;int&gt; | chunk_end &lt;dbl&gt; | SNP_data &lt;chr&gt; | methylation_data &lt;chr&gt; | last_meth_value_with_SNP_coverage &lt;int&gt; | first_meth_value_with_SNP_coverage &lt;int&gt; | last_meth_index_with_SNP_coverage &lt;int&gt; | first_meth_index_with_SNP_coverage &lt;int&gt; | cov_file &lt;chr&gt; | modified_methylation_data &lt;chr&gt; | path &lt;chr&gt; | V10 &lt;chr&gt; | V11 &lt;chr&gt; |\n",
       "|---|---|---|---|---|---|---|---|---|---|---|---|---|---|---|---|\n",
       "| 1 | AA | caud |  8982 | 28981 | /dcs04/lieber/statsgen/shizhong/michael/mwas/gwas//libd_chr1.pgen | /dcs04/lieber/statsgen/shizhong/michael/mwas/pheno/caud/out/chr1_AA.rda | 248918358 | 1069461 | 2202702 | 8982 | /dcs04/lieber/statsgen/mnagle/mwas/full_covariates/AA_caud.csv | /dcs04/lieber/statsgen/mnagle/mwas/pheno/caud/out/chr1_AA_8982-28981.rds  | ..//output_EXPANSE_a2_caud/libd_chr1-chr1_AA-libd_chr1-chr1_AA-8982-28981-dynamic-1corestotal-allcorepera-20240415-104419.rds       | 20240415 | 104419.rds          |\n",
       "| 1 | AA | caud |  8982 | 28981 | /dcs04/lieber/statsgen/shizhong/michael/mwas/gwas//libd_chr1.pgen | /dcs04/lieber/statsgen/shizhong/michael/mwas/pheno/caud/out/chr1_AA.rda | 248918358 | 1069461 | 2202702 | 8982 | /dcs04/lieber/statsgen/mnagle/mwas/full_covariates/AA_caud.csv | /dcs04/lieber/statsgen/mnagle/mwas/pheno/caud/out/chr1_AA_8982-28981.rds  | ..//output_EXPANSE_a2_caud/libd_chr1-chr1_AA-libd_chr1-chr1_AA-8982-28981-dynamic-1corestotal-allcorepera-caud-20240510-121942.rds  | caud     | 20240510-121942.rds |\n",
       "| 1 | AA | caud | 28982 | 48981 | /dcs04/lieber/statsgen/shizhong/michael/mwas/gwas//libd_chr1.pgen | /dcs04/lieber/statsgen/shizhong/michael/mwas/pheno/caud/out/chr1_AA.rda | 248918358 | 1069461 | 2202702 | 8982 | /dcs04/lieber/statsgen/mnagle/mwas/full_covariates/AA_caud.csv | /dcs04/lieber/statsgen/mnagle/mwas/pheno/caud/out/chr1_AA_28982-48981.rds | ..//output_EXPANSE_a2_caud/libd_chr1-chr1_AA-libd_chr1-chr1_AA-28982-48981-dynamic-1corestotal-allcorepera-20240415-104820.rds      | 20240415 | 104820.rds          |\n",
       "| 1 | AA | caud | 28982 | 48981 | /dcs04/lieber/statsgen/shizhong/michael/mwas/gwas//libd_chr1.pgen | /dcs04/lieber/statsgen/shizhong/michael/mwas/pheno/caud/out/chr1_AA.rda | 248918358 | 1069461 | 2202702 | 8982 | /dcs04/lieber/statsgen/mnagle/mwas/full_covariates/AA_caud.csv | /dcs04/lieber/statsgen/mnagle/mwas/pheno/caud/out/chr1_AA_28982-48981.rds | ..//output_EXPANSE_a2_caud/libd_chr1-chr1_AA-libd_chr1-chr1_AA-28982-48981-dynamic-1corestotal-allcorepera-caud-20240510-122045.rds | caud     | 20240510-122045.rds |\n",
       "| 1 | AA | caud | 48982 | 68981 | /dcs04/lieber/statsgen/shizhong/michael/mwas/gwas//libd_chr1.pgen | /dcs04/lieber/statsgen/shizhong/michael/mwas/pheno/caud/out/chr1_AA.rda | 248918358 | 1069461 | 2202702 | 8982 | /dcs04/lieber/statsgen/mnagle/mwas/full_covariates/AA_caud.csv | /dcs04/lieber/statsgen/mnagle/mwas/pheno/caud/out/chr1_AA_48982-68981.rds | ..//output_EXPANSE_a2_caud/libd_chr1-chr1_AA-libd_chr1-chr1_AA-48982-68981-dynamic-1corestotal-allcorepera-20240415-105220.rds      | 20240415 | 105220.rds          |\n",
       "| 1 | AA | caud | 48982 | 68981 | /dcs04/lieber/statsgen/shizhong/michael/mwas/gwas//libd_chr1.pgen | /dcs04/lieber/statsgen/shizhong/michael/mwas/pheno/caud/out/chr1_AA.rda | 248918358 | 1069461 | 2202702 | 8982 | /dcs04/lieber/statsgen/mnagle/mwas/full_covariates/AA_caud.csv | /dcs04/lieber/statsgen/mnagle/mwas/pheno/caud/out/chr1_AA_48982-68981.rds | ..//output_EXPANSE_a2_caud/libd_chr1-chr1_AA-libd_chr1-chr1_AA-48982-68981-dynamic-1corestotal-allcorepera-caud-20240510-122147.rds | caud     | 20240510-122147.rds |\n",
       "\n"
      ],
      "text/plain": [
       "  Chr population region chunk_start chunk_end\n",
       "1 1   AA         caud    8982       28981    \n",
       "2 1   AA         caud    8982       28981    \n",
       "3 1   AA         caud   28982       48981    \n",
       "4 1   AA         caud   28982       48981    \n",
       "5 1   AA         caud   48982       68981    \n",
       "6 1   AA         caud   48982       68981    \n",
       "  SNP_data                                                         \n",
       "1 /dcs04/lieber/statsgen/shizhong/michael/mwas/gwas//libd_chr1.pgen\n",
       "2 /dcs04/lieber/statsgen/shizhong/michael/mwas/gwas//libd_chr1.pgen\n",
       "3 /dcs04/lieber/statsgen/shizhong/michael/mwas/gwas//libd_chr1.pgen\n",
       "4 /dcs04/lieber/statsgen/shizhong/michael/mwas/gwas//libd_chr1.pgen\n",
       "5 /dcs04/lieber/statsgen/shizhong/michael/mwas/gwas//libd_chr1.pgen\n",
       "6 /dcs04/lieber/statsgen/shizhong/michael/mwas/gwas//libd_chr1.pgen\n",
       "  methylation_data                                                       \n",
       "1 /dcs04/lieber/statsgen/shizhong/michael/mwas/pheno/caud/out/chr1_AA.rda\n",
       "2 /dcs04/lieber/statsgen/shizhong/michael/mwas/pheno/caud/out/chr1_AA.rda\n",
       "3 /dcs04/lieber/statsgen/shizhong/michael/mwas/pheno/caud/out/chr1_AA.rda\n",
       "4 /dcs04/lieber/statsgen/shizhong/michael/mwas/pheno/caud/out/chr1_AA.rda\n",
       "5 /dcs04/lieber/statsgen/shizhong/michael/mwas/pheno/caud/out/chr1_AA.rda\n",
       "6 /dcs04/lieber/statsgen/shizhong/michael/mwas/pheno/caud/out/chr1_AA.rda\n",
       "  last_meth_value_with_SNP_coverage first_meth_value_with_SNP_coverage\n",
       "1 248918358                         1069461                           \n",
       "2 248918358                         1069461                           \n",
       "3 248918358                         1069461                           \n",
       "4 248918358                         1069461                           \n",
       "5 248918358                         1069461                           \n",
       "6 248918358                         1069461                           \n",
       "  last_meth_index_with_SNP_coverage first_meth_index_with_SNP_coverage\n",
       "1 2202702                           8982                              \n",
       "2 2202702                           8982                              \n",
       "3 2202702                           8982                              \n",
       "4 2202702                           8982                              \n",
       "5 2202702                           8982                              \n",
       "6 2202702                           8982                              \n",
       "  cov_file                                                      \n",
       "1 /dcs04/lieber/statsgen/mnagle/mwas/full_covariates/AA_caud.csv\n",
       "2 /dcs04/lieber/statsgen/mnagle/mwas/full_covariates/AA_caud.csv\n",
       "3 /dcs04/lieber/statsgen/mnagle/mwas/full_covariates/AA_caud.csv\n",
       "4 /dcs04/lieber/statsgen/mnagle/mwas/full_covariates/AA_caud.csv\n",
       "5 /dcs04/lieber/statsgen/mnagle/mwas/full_covariates/AA_caud.csv\n",
       "6 /dcs04/lieber/statsgen/mnagle/mwas/full_covariates/AA_caud.csv\n",
       "  modified_methylation_data                                                \n",
       "1 /dcs04/lieber/statsgen/mnagle/mwas/pheno/caud/out/chr1_AA_8982-28981.rds \n",
       "2 /dcs04/lieber/statsgen/mnagle/mwas/pheno/caud/out/chr1_AA_8982-28981.rds \n",
       "3 /dcs04/lieber/statsgen/mnagle/mwas/pheno/caud/out/chr1_AA_28982-48981.rds\n",
       "4 /dcs04/lieber/statsgen/mnagle/mwas/pheno/caud/out/chr1_AA_28982-48981.rds\n",
       "5 /dcs04/lieber/statsgen/mnagle/mwas/pheno/caud/out/chr1_AA_48982-68981.rds\n",
       "6 /dcs04/lieber/statsgen/mnagle/mwas/pheno/caud/out/chr1_AA_48982-68981.rds\n",
       "  path                                                                                                                               \n",
       "1 ..//output_EXPANSE_a2_caud/libd_chr1-chr1_AA-libd_chr1-chr1_AA-8982-28981-dynamic-1corestotal-allcorepera-20240415-104419.rds      \n",
       "2 ..//output_EXPANSE_a2_caud/libd_chr1-chr1_AA-libd_chr1-chr1_AA-8982-28981-dynamic-1corestotal-allcorepera-caud-20240510-121942.rds \n",
       "3 ..//output_EXPANSE_a2_caud/libd_chr1-chr1_AA-libd_chr1-chr1_AA-28982-48981-dynamic-1corestotal-allcorepera-20240415-104820.rds     \n",
       "4 ..//output_EXPANSE_a2_caud/libd_chr1-chr1_AA-libd_chr1-chr1_AA-28982-48981-dynamic-1corestotal-allcorepera-caud-20240510-122045.rds\n",
       "5 ..//output_EXPANSE_a2_caud/libd_chr1-chr1_AA-libd_chr1-chr1_AA-48982-68981-dynamic-1corestotal-allcorepera-20240415-105220.rds     \n",
       "6 ..//output_EXPANSE_a2_caud/libd_chr1-chr1_AA-libd_chr1-chr1_AA-48982-68981-dynamic-1corestotal-allcorepera-caud-20240510-122147.rds\n",
       "  V10      V11                \n",
       "1 20240415 104419.rds         \n",
       "2 caud     20240510-121942.rds\n",
       "3 20240415 104820.rds         \n",
       "4 caud     20240510-122045.rds\n",
       "5 20240415 105220.rds         \n",
       "6 caud     20240510-122147.rds"
      ]
     },
     "metadata": {},
     "output_type": "display_data"
    }
   ],
   "source": [
    "head(merged)"
   ]
  },
  {
   "cell_type": "code",
   "execution_count": 25,
   "id": "1d350f11-a14d-4e5a-b8f8-f9766a3d0ada",
   "metadata": {},
   "outputs": [],
   "source": [
    "fwrite(merged, \"12-OUT_matched_SNP_meth_cov_outputs.csv\")"
   ]
  },
  {
   "cell_type": "code",
   "execution_count": 24,
   "id": "abd016dd-59be-40ef-bf4c-4a06d372e61c",
   "metadata": {},
   "outputs": [],
   "source": [
    "merged$V10 <- NULL\n",
    "merged$V11 <- NULL"
   ]
  },
  {
   "cell_type": "code",
   "execution_count": 23,
   "id": "305025c2-62c2-4749-862d-82f487a94e69",
   "metadata": {},
   "outputs": [
    {
     "data": {
      "text/html": [
       "<table class=\"dataframe\">\n",
       "<caption>A data.table: 6 × 16</caption>\n",
       "<thead>\n",
       "\t<tr><th scope=col>Chr</th><th scope=col>population</th><th scope=col>region</th><th scope=col>chunk_start</th><th scope=col>chunk_end</th><th scope=col>SNP_data</th><th scope=col>methylation_data</th><th scope=col>last_meth_value_with_SNP_coverage</th><th scope=col>first_meth_value_with_SNP_coverage</th><th scope=col>last_meth_index_with_SNP_coverage</th><th scope=col>first_meth_index_with_SNP_coverage</th><th scope=col>cov_file</th><th scope=col>modified_methylation_data</th><th scope=col>path</th><th scope=col>V10</th><th scope=col>V11</th></tr>\n",
       "\t<tr><th scope=col>&lt;int&gt;</th><th scope=col>&lt;chr&gt;</th><th scope=col>&lt;chr&gt;</th><th scope=col>&lt;int&gt;</th><th scope=col>&lt;dbl&gt;</th><th scope=col>&lt;chr&gt;</th><th scope=col>&lt;chr&gt;</th><th scope=col>&lt;int&gt;</th><th scope=col>&lt;int&gt;</th><th scope=col>&lt;int&gt;</th><th scope=col>&lt;int&gt;</th><th scope=col>&lt;chr&gt;</th><th scope=col>&lt;chr&gt;</th><th scope=col>&lt;chr&gt;</th><th scope=col>&lt;chr&gt;</th><th scope=col>&lt;chr&gt;</th></tr>\n",
       "</thead>\n",
       "<tbody>\n",
       "\t<tr><td>1</td><td>AA</td><td>caud</td><td> 8982</td><td>28981</td><td>/dcs04/lieber/statsgen/shizhong/michael/mwas/gwas//libd_chr1.pgen</td><td>/dcs04/lieber/statsgen/shizhong/michael/mwas/pheno/caud/out/chr1_AA.rda</td><td>248918358</td><td>1069461</td><td>2202702</td><td>8982</td><td>/dcs04/lieber/statsgen/mnagle/mwas/full_covariates/AA_caud.csv</td><td>/dcs04/lieber/statsgen/mnagle/mwas/pheno/caud/out/chr1_AA_8982-28981.rds </td><td>..//output_EXPANSE_a2_caud/libd_chr1-chr1_AA-libd_chr1-chr1_AA-8982-28981-dynamic-1corestotal-allcorepera-20240415-104419.rds      </td><td>20240415</td><td>104419.rds         </td></tr>\n",
       "\t<tr><td>1</td><td>AA</td><td>caud</td><td> 8982</td><td>28981</td><td>/dcs04/lieber/statsgen/shizhong/michael/mwas/gwas//libd_chr1.pgen</td><td>/dcs04/lieber/statsgen/shizhong/michael/mwas/pheno/caud/out/chr1_AA.rda</td><td>248918358</td><td>1069461</td><td>2202702</td><td>8982</td><td>/dcs04/lieber/statsgen/mnagle/mwas/full_covariates/AA_caud.csv</td><td>/dcs04/lieber/statsgen/mnagle/mwas/pheno/caud/out/chr1_AA_8982-28981.rds </td><td>..//output_EXPANSE_a2_caud/libd_chr1-chr1_AA-libd_chr1-chr1_AA-8982-28981-dynamic-1corestotal-allcorepera-caud-20240510-121942.rds </td><td>caud    </td><td>20240510-121942.rds</td></tr>\n",
       "\t<tr><td>1</td><td>AA</td><td>caud</td><td>28982</td><td>48981</td><td>/dcs04/lieber/statsgen/shizhong/michael/mwas/gwas//libd_chr1.pgen</td><td>/dcs04/lieber/statsgen/shizhong/michael/mwas/pheno/caud/out/chr1_AA.rda</td><td>248918358</td><td>1069461</td><td>2202702</td><td>8982</td><td>/dcs04/lieber/statsgen/mnagle/mwas/full_covariates/AA_caud.csv</td><td>/dcs04/lieber/statsgen/mnagle/mwas/pheno/caud/out/chr1_AA_28982-48981.rds</td><td>..//output_EXPANSE_a2_caud/libd_chr1-chr1_AA-libd_chr1-chr1_AA-28982-48981-dynamic-1corestotal-allcorepera-20240415-104820.rds     </td><td>20240415</td><td>104820.rds         </td></tr>\n",
       "\t<tr><td>1</td><td>AA</td><td>caud</td><td>28982</td><td>48981</td><td>/dcs04/lieber/statsgen/shizhong/michael/mwas/gwas//libd_chr1.pgen</td><td>/dcs04/lieber/statsgen/shizhong/michael/mwas/pheno/caud/out/chr1_AA.rda</td><td>248918358</td><td>1069461</td><td>2202702</td><td>8982</td><td>/dcs04/lieber/statsgen/mnagle/mwas/full_covariates/AA_caud.csv</td><td>/dcs04/lieber/statsgen/mnagle/mwas/pheno/caud/out/chr1_AA_28982-48981.rds</td><td>..//output_EXPANSE_a2_caud/libd_chr1-chr1_AA-libd_chr1-chr1_AA-28982-48981-dynamic-1corestotal-allcorepera-caud-20240510-122045.rds</td><td>caud    </td><td>20240510-122045.rds</td></tr>\n",
       "\t<tr><td>1</td><td>AA</td><td>caud</td><td>48982</td><td>68981</td><td>/dcs04/lieber/statsgen/shizhong/michael/mwas/gwas//libd_chr1.pgen</td><td>/dcs04/lieber/statsgen/shizhong/michael/mwas/pheno/caud/out/chr1_AA.rda</td><td>248918358</td><td>1069461</td><td>2202702</td><td>8982</td><td>/dcs04/lieber/statsgen/mnagle/mwas/full_covariates/AA_caud.csv</td><td>/dcs04/lieber/statsgen/mnagle/mwas/pheno/caud/out/chr1_AA_48982-68981.rds</td><td>..//output_EXPANSE_a2_caud/libd_chr1-chr1_AA-libd_chr1-chr1_AA-48982-68981-dynamic-1corestotal-allcorepera-20240415-105220.rds     </td><td>20240415</td><td>105220.rds         </td></tr>\n",
       "\t<tr><td>1</td><td>AA</td><td>caud</td><td>48982</td><td>68981</td><td>/dcs04/lieber/statsgen/shizhong/michael/mwas/gwas//libd_chr1.pgen</td><td>/dcs04/lieber/statsgen/shizhong/michael/mwas/pheno/caud/out/chr1_AA.rda</td><td>248918358</td><td>1069461</td><td>2202702</td><td>8982</td><td>/dcs04/lieber/statsgen/mnagle/mwas/full_covariates/AA_caud.csv</td><td>/dcs04/lieber/statsgen/mnagle/mwas/pheno/caud/out/chr1_AA_48982-68981.rds</td><td>..//output_EXPANSE_a2_caud/libd_chr1-chr1_AA-libd_chr1-chr1_AA-48982-68981-dynamic-1corestotal-allcorepera-caud-20240510-122147.rds</td><td>caud    </td><td>20240510-122147.rds</td></tr>\n",
       "</tbody>\n",
       "</table>\n"
      ],
      "text/latex": [
       "A data.table: 6 × 16\n",
       "\\begin{tabular}{llllllllllllllll}\n",
       " Chr & population & region & chunk\\_start & chunk\\_end & SNP\\_data & methylation\\_data & last\\_meth\\_value\\_with\\_SNP\\_coverage & first\\_meth\\_value\\_with\\_SNP\\_coverage & last\\_meth\\_index\\_with\\_SNP\\_coverage & first\\_meth\\_index\\_with\\_SNP\\_coverage & cov\\_file & modified\\_methylation\\_data & path & V10 & V11\\\\\n",
       " <int> & <chr> & <chr> & <int> & <dbl> & <chr> & <chr> & <int> & <int> & <int> & <int> & <chr> & <chr> & <chr> & <chr> & <chr>\\\\\n",
       "\\hline\n",
       "\t 1 & AA & caud &  8982 & 28981 & /dcs04/lieber/statsgen/shizhong/michael/mwas/gwas//libd\\_chr1.pgen & /dcs04/lieber/statsgen/shizhong/michael/mwas/pheno/caud/out/chr1\\_AA.rda & 248918358 & 1069461 & 2202702 & 8982 & /dcs04/lieber/statsgen/mnagle/mwas/full\\_covariates/AA\\_caud.csv & /dcs04/lieber/statsgen/mnagle/mwas/pheno/caud/out/chr1\\_AA\\_8982-28981.rds  & ..//output\\_EXPANSE\\_a2\\_caud/libd\\_chr1-chr1\\_AA-libd\\_chr1-chr1\\_AA-8982-28981-dynamic-1corestotal-allcorepera-20240415-104419.rds       & 20240415 & 104419.rds         \\\\\n",
       "\t 1 & AA & caud &  8982 & 28981 & /dcs04/lieber/statsgen/shizhong/michael/mwas/gwas//libd\\_chr1.pgen & /dcs04/lieber/statsgen/shizhong/michael/mwas/pheno/caud/out/chr1\\_AA.rda & 248918358 & 1069461 & 2202702 & 8982 & /dcs04/lieber/statsgen/mnagle/mwas/full\\_covariates/AA\\_caud.csv & /dcs04/lieber/statsgen/mnagle/mwas/pheno/caud/out/chr1\\_AA\\_8982-28981.rds  & ..//output\\_EXPANSE\\_a2\\_caud/libd\\_chr1-chr1\\_AA-libd\\_chr1-chr1\\_AA-8982-28981-dynamic-1corestotal-allcorepera-caud-20240510-121942.rds  & caud     & 20240510-121942.rds\\\\\n",
       "\t 1 & AA & caud & 28982 & 48981 & /dcs04/lieber/statsgen/shizhong/michael/mwas/gwas//libd\\_chr1.pgen & /dcs04/lieber/statsgen/shizhong/michael/mwas/pheno/caud/out/chr1\\_AA.rda & 248918358 & 1069461 & 2202702 & 8982 & /dcs04/lieber/statsgen/mnagle/mwas/full\\_covariates/AA\\_caud.csv & /dcs04/lieber/statsgen/mnagle/mwas/pheno/caud/out/chr1\\_AA\\_28982-48981.rds & ..//output\\_EXPANSE\\_a2\\_caud/libd\\_chr1-chr1\\_AA-libd\\_chr1-chr1\\_AA-28982-48981-dynamic-1corestotal-allcorepera-20240415-104820.rds      & 20240415 & 104820.rds         \\\\\n",
       "\t 1 & AA & caud & 28982 & 48981 & /dcs04/lieber/statsgen/shizhong/michael/mwas/gwas//libd\\_chr1.pgen & /dcs04/lieber/statsgen/shizhong/michael/mwas/pheno/caud/out/chr1\\_AA.rda & 248918358 & 1069461 & 2202702 & 8982 & /dcs04/lieber/statsgen/mnagle/mwas/full\\_covariates/AA\\_caud.csv & /dcs04/lieber/statsgen/mnagle/mwas/pheno/caud/out/chr1\\_AA\\_28982-48981.rds & ..//output\\_EXPANSE\\_a2\\_caud/libd\\_chr1-chr1\\_AA-libd\\_chr1-chr1\\_AA-28982-48981-dynamic-1corestotal-allcorepera-caud-20240510-122045.rds & caud     & 20240510-122045.rds\\\\\n",
       "\t 1 & AA & caud & 48982 & 68981 & /dcs04/lieber/statsgen/shizhong/michael/mwas/gwas//libd\\_chr1.pgen & /dcs04/lieber/statsgen/shizhong/michael/mwas/pheno/caud/out/chr1\\_AA.rda & 248918358 & 1069461 & 2202702 & 8982 & /dcs04/lieber/statsgen/mnagle/mwas/full\\_covariates/AA\\_caud.csv & /dcs04/lieber/statsgen/mnagle/mwas/pheno/caud/out/chr1\\_AA\\_48982-68981.rds & ..//output\\_EXPANSE\\_a2\\_caud/libd\\_chr1-chr1\\_AA-libd\\_chr1-chr1\\_AA-48982-68981-dynamic-1corestotal-allcorepera-20240415-105220.rds      & 20240415 & 105220.rds         \\\\\n",
       "\t 1 & AA & caud & 48982 & 68981 & /dcs04/lieber/statsgen/shizhong/michael/mwas/gwas//libd\\_chr1.pgen & /dcs04/lieber/statsgen/shizhong/michael/mwas/pheno/caud/out/chr1\\_AA.rda & 248918358 & 1069461 & 2202702 & 8982 & /dcs04/lieber/statsgen/mnagle/mwas/full\\_covariates/AA\\_caud.csv & /dcs04/lieber/statsgen/mnagle/mwas/pheno/caud/out/chr1\\_AA\\_48982-68981.rds & ..//output\\_EXPANSE\\_a2\\_caud/libd\\_chr1-chr1\\_AA-libd\\_chr1-chr1\\_AA-48982-68981-dynamic-1corestotal-allcorepera-caud-20240510-122147.rds & caud     & 20240510-122147.rds\\\\\n",
       "\\end{tabular}\n"
      ],
      "text/markdown": [
       "\n",
       "A data.table: 6 × 16\n",
       "\n",
       "| Chr &lt;int&gt; | population &lt;chr&gt; | region &lt;chr&gt; | chunk_start &lt;int&gt; | chunk_end &lt;dbl&gt; | SNP_data &lt;chr&gt; | methylation_data &lt;chr&gt; | last_meth_value_with_SNP_coverage &lt;int&gt; | first_meth_value_with_SNP_coverage &lt;int&gt; | last_meth_index_with_SNP_coverage &lt;int&gt; | first_meth_index_with_SNP_coverage &lt;int&gt; | cov_file &lt;chr&gt; | modified_methylation_data &lt;chr&gt; | path &lt;chr&gt; | V10 &lt;chr&gt; | V11 &lt;chr&gt; |\n",
       "|---|---|---|---|---|---|---|---|---|---|---|---|---|---|---|---|\n",
       "| 1 | AA | caud |  8982 | 28981 | /dcs04/lieber/statsgen/shizhong/michael/mwas/gwas//libd_chr1.pgen | /dcs04/lieber/statsgen/shizhong/michael/mwas/pheno/caud/out/chr1_AA.rda | 248918358 | 1069461 | 2202702 | 8982 | /dcs04/lieber/statsgen/mnagle/mwas/full_covariates/AA_caud.csv | /dcs04/lieber/statsgen/mnagle/mwas/pheno/caud/out/chr1_AA_8982-28981.rds  | ..//output_EXPANSE_a2_caud/libd_chr1-chr1_AA-libd_chr1-chr1_AA-8982-28981-dynamic-1corestotal-allcorepera-20240415-104419.rds       | 20240415 | 104419.rds          |\n",
       "| 1 | AA | caud |  8982 | 28981 | /dcs04/lieber/statsgen/shizhong/michael/mwas/gwas//libd_chr1.pgen | /dcs04/lieber/statsgen/shizhong/michael/mwas/pheno/caud/out/chr1_AA.rda | 248918358 | 1069461 | 2202702 | 8982 | /dcs04/lieber/statsgen/mnagle/mwas/full_covariates/AA_caud.csv | /dcs04/lieber/statsgen/mnagle/mwas/pheno/caud/out/chr1_AA_8982-28981.rds  | ..//output_EXPANSE_a2_caud/libd_chr1-chr1_AA-libd_chr1-chr1_AA-8982-28981-dynamic-1corestotal-allcorepera-caud-20240510-121942.rds  | caud     | 20240510-121942.rds |\n",
       "| 1 | AA | caud | 28982 | 48981 | /dcs04/lieber/statsgen/shizhong/michael/mwas/gwas//libd_chr1.pgen | /dcs04/lieber/statsgen/shizhong/michael/mwas/pheno/caud/out/chr1_AA.rda | 248918358 | 1069461 | 2202702 | 8982 | /dcs04/lieber/statsgen/mnagle/mwas/full_covariates/AA_caud.csv | /dcs04/lieber/statsgen/mnagle/mwas/pheno/caud/out/chr1_AA_28982-48981.rds | ..//output_EXPANSE_a2_caud/libd_chr1-chr1_AA-libd_chr1-chr1_AA-28982-48981-dynamic-1corestotal-allcorepera-20240415-104820.rds      | 20240415 | 104820.rds          |\n",
       "| 1 | AA | caud | 28982 | 48981 | /dcs04/lieber/statsgen/shizhong/michael/mwas/gwas//libd_chr1.pgen | /dcs04/lieber/statsgen/shizhong/michael/mwas/pheno/caud/out/chr1_AA.rda | 248918358 | 1069461 | 2202702 | 8982 | /dcs04/lieber/statsgen/mnagle/mwas/full_covariates/AA_caud.csv | /dcs04/lieber/statsgen/mnagle/mwas/pheno/caud/out/chr1_AA_28982-48981.rds | ..//output_EXPANSE_a2_caud/libd_chr1-chr1_AA-libd_chr1-chr1_AA-28982-48981-dynamic-1corestotal-allcorepera-caud-20240510-122045.rds | caud     | 20240510-122045.rds |\n",
       "| 1 | AA | caud | 48982 | 68981 | /dcs04/lieber/statsgen/shizhong/michael/mwas/gwas//libd_chr1.pgen | /dcs04/lieber/statsgen/shizhong/michael/mwas/pheno/caud/out/chr1_AA.rda | 248918358 | 1069461 | 2202702 | 8982 | /dcs04/lieber/statsgen/mnagle/mwas/full_covariates/AA_caud.csv | /dcs04/lieber/statsgen/mnagle/mwas/pheno/caud/out/chr1_AA_48982-68981.rds | ..//output_EXPANSE_a2_caud/libd_chr1-chr1_AA-libd_chr1-chr1_AA-48982-68981-dynamic-1corestotal-allcorepera-20240415-105220.rds      | 20240415 | 105220.rds          |\n",
       "| 1 | AA | caud | 48982 | 68981 | /dcs04/lieber/statsgen/shizhong/michael/mwas/gwas//libd_chr1.pgen | /dcs04/lieber/statsgen/shizhong/michael/mwas/pheno/caud/out/chr1_AA.rda | 248918358 | 1069461 | 2202702 | 8982 | /dcs04/lieber/statsgen/mnagle/mwas/full_covariates/AA_caud.csv | /dcs04/lieber/statsgen/mnagle/mwas/pheno/caud/out/chr1_AA_48982-68981.rds | ..//output_EXPANSE_a2_caud/libd_chr1-chr1_AA-libd_chr1-chr1_AA-48982-68981-dynamic-1corestotal-allcorepera-caud-20240510-122147.rds | caud     | 20240510-122147.rds |\n",
       "\n"
      ],
      "text/plain": [
       "  Chr population region chunk_start chunk_end\n",
       "1 1   AA         caud    8982       28981    \n",
       "2 1   AA         caud    8982       28981    \n",
       "3 1   AA         caud   28982       48981    \n",
       "4 1   AA         caud   28982       48981    \n",
       "5 1   AA         caud   48982       68981    \n",
       "6 1   AA         caud   48982       68981    \n",
       "  SNP_data                                                         \n",
       "1 /dcs04/lieber/statsgen/shizhong/michael/mwas/gwas//libd_chr1.pgen\n",
       "2 /dcs04/lieber/statsgen/shizhong/michael/mwas/gwas//libd_chr1.pgen\n",
       "3 /dcs04/lieber/statsgen/shizhong/michael/mwas/gwas//libd_chr1.pgen\n",
       "4 /dcs04/lieber/statsgen/shizhong/michael/mwas/gwas//libd_chr1.pgen\n",
       "5 /dcs04/lieber/statsgen/shizhong/michael/mwas/gwas//libd_chr1.pgen\n",
       "6 /dcs04/lieber/statsgen/shizhong/michael/mwas/gwas//libd_chr1.pgen\n",
       "  methylation_data                                                       \n",
       "1 /dcs04/lieber/statsgen/shizhong/michael/mwas/pheno/caud/out/chr1_AA.rda\n",
       "2 /dcs04/lieber/statsgen/shizhong/michael/mwas/pheno/caud/out/chr1_AA.rda\n",
       "3 /dcs04/lieber/statsgen/shizhong/michael/mwas/pheno/caud/out/chr1_AA.rda\n",
       "4 /dcs04/lieber/statsgen/shizhong/michael/mwas/pheno/caud/out/chr1_AA.rda\n",
       "5 /dcs04/lieber/statsgen/shizhong/michael/mwas/pheno/caud/out/chr1_AA.rda\n",
       "6 /dcs04/lieber/statsgen/shizhong/michael/mwas/pheno/caud/out/chr1_AA.rda\n",
       "  last_meth_value_with_SNP_coverage first_meth_value_with_SNP_coverage\n",
       "1 248918358                         1069461                           \n",
       "2 248918358                         1069461                           \n",
       "3 248918358                         1069461                           \n",
       "4 248918358                         1069461                           \n",
       "5 248918358                         1069461                           \n",
       "6 248918358                         1069461                           \n",
       "  last_meth_index_with_SNP_coverage first_meth_index_with_SNP_coverage\n",
       "1 2202702                           8982                              \n",
       "2 2202702                           8982                              \n",
       "3 2202702                           8982                              \n",
       "4 2202702                           8982                              \n",
       "5 2202702                           8982                              \n",
       "6 2202702                           8982                              \n",
       "  cov_file                                                      \n",
       "1 /dcs04/lieber/statsgen/mnagle/mwas/full_covariates/AA_caud.csv\n",
       "2 /dcs04/lieber/statsgen/mnagle/mwas/full_covariates/AA_caud.csv\n",
       "3 /dcs04/lieber/statsgen/mnagle/mwas/full_covariates/AA_caud.csv\n",
       "4 /dcs04/lieber/statsgen/mnagle/mwas/full_covariates/AA_caud.csv\n",
       "5 /dcs04/lieber/statsgen/mnagle/mwas/full_covariates/AA_caud.csv\n",
       "6 /dcs04/lieber/statsgen/mnagle/mwas/full_covariates/AA_caud.csv\n",
       "  modified_methylation_data                                                \n",
       "1 /dcs04/lieber/statsgen/mnagle/mwas/pheno/caud/out/chr1_AA_8982-28981.rds \n",
       "2 /dcs04/lieber/statsgen/mnagle/mwas/pheno/caud/out/chr1_AA_8982-28981.rds \n",
       "3 /dcs04/lieber/statsgen/mnagle/mwas/pheno/caud/out/chr1_AA_28982-48981.rds\n",
       "4 /dcs04/lieber/statsgen/mnagle/mwas/pheno/caud/out/chr1_AA_28982-48981.rds\n",
       "5 /dcs04/lieber/statsgen/mnagle/mwas/pheno/caud/out/chr1_AA_48982-68981.rds\n",
       "6 /dcs04/lieber/statsgen/mnagle/mwas/pheno/caud/out/chr1_AA_48982-68981.rds\n",
       "  path                                                                                                                               \n",
       "1 ..//output_EXPANSE_a2_caud/libd_chr1-chr1_AA-libd_chr1-chr1_AA-8982-28981-dynamic-1corestotal-allcorepera-20240415-104419.rds      \n",
       "2 ..//output_EXPANSE_a2_caud/libd_chr1-chr1_AA-libd_chr1-chr1_AA-8982-28981-dynamic-1corestotal-allcorepera-caud-20240510-121942.rds \n",
       "3 ..//output_EXPANSE_a2_caud/libd_chr1-chr1_AA-libd_chr1-chr1_AA-28982-48981-dynamic-1corestotal-allcorepera-20240415-104820.rds     \n",
       "4 ..//output_EXPANSE_a2_caud/libd_chr1-chr1_AA-libd_chr1-chr1_AA-28982-48981-dynamic-1corestotal-allcorepera-caud-20240510-122045.rds\n",
       "5 ..//output_EXPANSE_a2_caud/libd_chr1-chr1_AA-libd_chr1-chr1_AA-48982-68981-dynamic-1corestotal-allcorepera-20240415-105220.rds     \n",
       "6 ..//output_EXPANSE_a2_caud/libd_chr1-chr1_AA-libd_chr1-chr1_AA-48982-68981-dynamic-1corestotal-allcorepera-caud-20240510-122147.rds\n",
       "  V10      V11                \n",
       "1 20240415 104419.rds         \n",
       "2 caud     20240510-121942.rds\n",
       "3 20240415 104820.rds         \n",
       "4 caud     20240510-122045.rds\n",
       "5 20240415 105220.rds         \n",
       "6 caud     20240510-122147.rds"
      ]
     },
     "metadata": {},
     "output_type": "display_data"
    }
   ],
   "source": [
    "head(merged)"
   ]
  },
  {
   "cell_type": "code",
   "execution_count": null,
   "id": "3c5bed82-87dc-4932-814d-3669de04e52f",
   "metadata": {},
   "outputs": [],
   "source": []
  }
 ],
 "metadata": {
  "kernelspec": {
   "display_name": "R",
   "language": "R",
   "name": "ir"
  },
  "language_info": {
   "codemirror_mode": "r",
   "file_extension": ".r",
   "mimetype": "text/x-r-source",
   "name": "R",
   "pygments_lexer": "r",
   "version": "4.3.1"
  }
 },
 "nbformat": 4,
 "nbformat_minor": 5
}
