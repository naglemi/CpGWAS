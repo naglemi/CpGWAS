{
 "cells": [
  {
   "cell_type": "code",
   "execution_count": 1,
   "id": "c7a89907-52bf-4787-9437-907456cfe038",
   "metadata": {
    "tags": []
   },
   "outputs": [],
   "source": [
    "# Look at previous code for GCTA, run with our data, become familiar"
   ]
  },
  {
   "cell_type": "code",
   "execution_count": 2,
   "id": "d27829d8-41e9-4318-a149-5971a023502b",
   "metadata": {},
   "outputs": [],
   "source": [
    "library(data.table)"
   ]
  },
  {
   "cell_type": "code",
   "execution_count": 3,
   "id": "748df55d-026f-437c-964d-ec24f5df419b",
   "metadata": {},
   "outputs": [],
   "source": [
    "outdir <- \"gcta_output\"\n",
    "if(!dir.exists(outdir)) dir.create(outdir)"
   ]
  },
  {
   "cell_type": "code",
   "execution_count": 4,
   "id": "3da8c482-029b-46fc-9311-e1dfed1b250d",
   "metadata": {},
   "outputs": [],
   "source": [
    "chunk1 <- 1"
   ]
  },
  {
   "cell_type": "code",
   "execution_count": 5,
   "id": "84825c23-fb01-4ebd-b32d-c49769225a1b",
   "metadata": {},
   "outputs": [],
   "source": [
    "chunk2 <- 10"
   ]
  },
  {
   "cell_type": "code",
   "execution_count": 6,
   "id": "cdc49be0-6857-4429-93fa-c321557e0b4d",
   "metadata": {},
   "outputs": [],
   "source": [
    "df <- fread(\"09.5-OUT_matched_SNP_meth_cov_chunked_JHPCE.csv\")"
   ]
  },
  {
   "cell_type": "code",
   "execution_count": 7,
   "id": "0e667249-d023-4191-b590-3e3823d5ec6b",
   "metadata": {},
   "outputs": [
    {
     "data": {
      "text/html": [
       "<table class=\"dataframe\">\n",
       "<caption>A data.table: 6 × 13</caption>\n",
       "<thead>\n",
       "\t<tr><th scope=col>Chr</th><th scope=col>SNP_data</th><th scope=col>methylation_data</th><th scope=col>last_meth_value_with_SNP_coverage</th><th scope=col>first_meth_value_with_SNP_coverage</th><th scope=col>last_meth_index_with_SNP_coverage</th><th scope=col>first_meth_index_with_SNP_coverage</th><th scope=col>population</th><th scope=col>region</th><th scope=col>cov_file</th><th scope=col>chunk_start</th><th scope=col>chunk_end</th><th scope=col>modified_methylation_data</th></tr>\n",
       "\t<tr><th scope=col>&lt;int&gt;</th><th scope=col>&lt;chr&gt;</th><th scope=col>&lt;chr&gt;</th><th scope=col>&lt;int&gt;</th><th scope=col>&lt;int&gt;</th><th scope=col>&lt;int&gt;</th><th scope=col>&lt;int&gt;</th><th scope=col>&lt;chr&gt;</th><th scope=col>&lt;chr&gt;</th><th scope=col>&lt;chr&gt;</th><th scope=col>&lt;int&gt;</th><th scope=col>&lt;dbl&gt;</th><th scope=col>&lt;chr&gt;</th></tr>\n",
       "</thead>\n",
       "<tbody>\n",
       "\t<tr><td>1</td><td>/dcs04/lieber/statsgen/shizhong/michael/mwas/gwas//libd_chr1.pgen</td><td>/dcs04/lieber/statsgen/shizhong/michael/mwas/pheno/caud/out/chr1_AA.rda</td><td>248918358</td><td>1069461</td><td>2202702</td><td>8982</td><td>AA</td><td>caud</td><td>/dcs04/lieber/statsgen/mnagle/mwas/full_covariates/AA_caud.csv</td><td>  8982</td><td> 28981</td><td>/dcs04/lieber/statsgen/mnagle/mwas/pheno/caud/out/chr1_AA_8982-28981.rds   </td></tr>\n",
       "\t<tr><td>1</td><td>/dcs04/lieber/statsgen/shizhong/michael/mwas/gwas//libd_chr1.pgen</td><td>/dcs04/lieber/statsgen/shizhong/michael/mwas/pheno/caud/out/chr1_AA.rda</td><td>248918358</td><td>1069461</td><td>2202702</td><td>8982</td><td>AA</td><td>caud</td><td>/dcs04/lieber/statsgen/mnagle/mwas/full_covariates/AA_caud.csv</td><td> 28982</td><td> 48981</td><td>/dcs04/lieber/statsgen/mnagle/mwas/pheno/caud/out/chr1_AA_28982-48981.rds  </td></tr>\n",
       "\t<tr><td>1</td><td>/dcs04/lieber/statsgen/shizhong/michael/mwas/gwas//libd_chr1.pgen</td><td>/dcs04/lieber/statsgen/shizhong/michael/mwas/pheno/caud/out/chr1_AA.rda</td><td>248918358</td><td>1069461</td><td>2202702</td><td>8982</td><td>AA</td><td>caud</td><td>/dcs04/lieber/statsgen/mnagle/mwas/full_covariates/AA_caud.csv</td><td> 48982</td><td> 68981</td><td>/dcs04/lieber/statsgen/mnagle/mwas/pheno/caud/out/chr1_AA_48982-68981.rds  </td></tr>\n",
       "\t<tr><td>1</td><td>/dcs04/lieber/statsgen/shizhong/michael/mwas/gwas//libd_chr1.pgen</td><td>/dcs04/lieber/statsgen/shizhong/michael/mwas/pheno/caud/out/chr1_AA.rda</td><td>248918358</td><td>1069461</td><td>2202702</td><td>8982</td><td>AA</td><td>caud</td><td>/dcs04/lieber/statsgen/mnagle/mwas/full_covariates/AA_caud.csv</td><td> 68982</td><td> 88981</td><td>/dcs04/lieber/statsgen/mnagle/mwas/pheno/caud/out/chr1_AA_68982-88981.rds  </td></tr>\n",
       "\t<tr><td>1</td><td>/dcs04/lieber/statsgen/shizhong/michael/mwas/gwas//libd_chr1.pgen</td><td>/dcs04/lieber/statsgen/shizhong/michael/mwas/pheno/caud/out/chr1_AA.rda</td><td>248918358</td><td>1069461</td><td>2202702</td><td>8982</td><td>AA</td><td>caud</td><td>/dcs04/lieber/statsgen/mnagle/mwas/full_covariates/AA_caud.csv</td><td> 88982</td><td>108981</td><td>/dcs04/lieber/statsgen/mnagle/mwas/pheno/caud/out/chr1_AA_88982-108981.rds </td></tr>\n",
       "\t<tr><td>1</td><td>/dcs04/lieber/statsgen/shizhong/michael/mwas/gwas//libd_chr1.pgen</td><td>/dcs04/lieber/statsgen/shizhong/michael/mwas/pheno/caud/out/chr1_AA.rda</td><td>248918358</td><td>1069461</td><td>2202702</td><td>8982</td><td>AA</td><td>caud</td><td>/dcs04/lieber/statsgen/mnagle/mwas/full_covariates/AA_caud.csv</td><td>108982</td><td>128981</td><td>/dcs04/lieber/statsgen/mnagle/mwas/pheno/caud/out/chr1_AA_108982-128981.rds</td></tr>\n",
       "</tbody>\n",
       "</table>\n"
      ],
      "text/latex": [
       "A data.table: 6 × 13\n",
       "\\begin{tabular}{lllllllllllll}\n",
       " Chr & SNP\\_data & methylation\\_data & last\\_meth\\_value\\_with\\_SNP\\_coverage & first\\_meth\\_value\\_with\\_SNP\\_coverage & last\\_meth\\_index\\_with\\_SNP\\_coverage & first\\_meth\\_index\\_with\\_SNP\\_coverage & population & region & cov\\_file & chunk\\_start & chunk\\_end & modified\\_methylation\\_data\\\\\n",
       " <int> & <chr> & <chr> & <int> & <int> & <int> & <int> & <chr> & <chr> & <chr> & <int> & <dbl> & <chr>\\\\\n",
       "\\hline\n",
       "\t 1 & /dcs04/lieber/statsgen/shizhong/michael/mwas/gwas//libd\\_chr1.pgen & /dcs04/lieber/statsgen/shizhong/michael/mwas/pheno/caud/out/chr1\\_AA.rda & 248918358 & 1069461 & 2202702 & 8982 & AA & caud & /dcs04/lieber/statsgen/mnagle/mwas/full\\_covariates/AA\\_caud.csv &   8982 &  28981 & /dcs04/lieber/statsgen/mnagle/mwas/pheno/caud/out/chr1\\_AA\\_8982-28981.rds   \\\\\n",
       "\t 1 & /dcs04/lieber/statsgen/shizhong/michael/mwas/gwas//libd\\_chr1.pgen & /dcs04/lieber/statsgen/shizhong/michael/mwas/pheno/caud/out/chr1\\_AA.rda & 248918358 & 1069461 & 2202702 & 8982 & AA & caud & /dcs04/lieber/statsgen/mnagle/mwas/full\\_covariates/AA\\_caud.csv &  28982 &  48981 & /dcs04/lieber/statsgen/mnagle/mwas/pheno/caud/out/chr1\\_AA\\_28982-48981.rds  \\\\\n",
       "\t 1 & /dcs04/lieber/statsgen/shizhong/michael/mwas/gwas//libd\\_chr1.pgen & /dcs04/lieber/statsgen/shizhong/michael/mwas/pheno/caud/out/chr1\\_AA.rda & 248918358 & 1069461 & 2202702 & 8982 & AA & caud & /dcs04/lieber/statsgen/mnagle/mwas/full\\_covariates/AA\\_caud.csv &  48982 &  68981 & /dcs04/lieber/statsgen/mnagle/mwas/pheno/caud/out/chr1\\_AA\\_48982-68981.rds  \\\\\n",
       "\t 1 & /dcs04/lieber/statsgen/shizhong/michael/mwas/gwas//libd\\_chr1.pgen & /dcs04/lieber/statsgen/shizhong/michael/mwas/pheno/caud/out/chr1\\_AA.rda & 248918358 & 1069461 & 2202702 & 8982 & AA & caud & /dcs04/lieber/statsgen/mnagle/mwas/full\\_covariates/AA\\_caud.csv &  68982 &  88981 & /dcs04/lieber/statsgen/mnagle/mwas/pheno/caud/out/chr1\\_AA\\_68982-88981.rds  \\\\\n",
       "\t 1 & /dcs04/lieber/statsgen/shizhong/michael/mwas/gwas//libd\\_chr1.pgen & /dcs04/lieber/statsgen/shizhong/michael/mwas/pheno/caud/out/chr1\\_AA.rda & 248918358 & 1069461 & 2202702 & 8982 & AA & caud & /dcs04/lieber/statsgen/mnagle/mwas/full\\_covariates/AA\\_caud.csv &  88982 & 108981 & /dcs04/lieber/statsgen/mnagle/mwas/pheno/caud/out/chr1\\_AA\\_88982-108981.rds \\\\\n",
       "\t 1 & /dcs04/lieber/statsgen/shizhong/michael/mwas/gwas//libd\\_chr1.pgen & /dcs04/lieber/statsgen/shizhong/michael/mwas/pheno/caud/out/chr1\\_AA.rda & 248918358 & 1069461 & 2202702 & 8982 & AA & caud & /dcs04/lieber/statsgen/mnagle/mwas/full\\_covariates/AA\\_caud.csv & 108982 & 128981 & /dcs04/lieber/statsgen/mnagle/mwas/pheno/caud/out/chr1\\_AA\\_108982-128981.rds\\\\\n",
       "\\end{tabular}\n"
      ],
      "text/markdown": [
       "\n",
       "A data.table: 6 × 13\n",
       "\n",
       "| Chr &lt;int&gt; | SNP_data &lt;chr&gt; | methylation_data &lt;chr&gt; | last_meth_value_with_SNP_coverage &lt;int&gt; | first_meth_value_with_SNP_coverage &lt;int&gt; | last_meth_index_with_SNP_coverage &lt;int&gt; | first_meth_index_with_SNP_coverage &lt;int&gt; | population &lt;chr&gt; | region &lt;chr&gt; | cov_file &lt;chr&gt; | chunk_start &lt;int&gt; | chunk_end &lt;dbl&gt; | modified_methylation_data &lt;chr&gt; |\n",
       "|---|---|---|---|---|---|---|---|---|---|---|---|---|\n",
       "| 1 | /dcs04/lieber/statsgen/shizhong/michael/mwas/gwas//libd_chr1.pgen | /dcs04/lieber/statsgen/shizhong/michael/mwas/pheno/caud/out/chr1_AA.rda | 248918358 | 1069461 | 2202702 | 8982 | AA | caud | /dcs04/lieber/statsgen/mnagle/mwas/full_covariates/AA_caud.csv |   8982 |  28981 | /dcs04/lieber/statsgen/mnagle/mwas/pheno/caud/out/chr1_AA_8982-28981.rds    |\n",
       "| 1 | /dcs04/lieber/statsgen/shizhong/michael/mwas/gwas//libd_chr1.pgen | /dcs04/lieber/statsgen/shizhong/michael/mwas/pheno/caud/out/chr1_AA.rda | 248918358 | 1069461 | 2202702 | 8982 | AA | caud | /dcs04/lieber/statsgen/mnagle/mwas/full_covariates/AA_caud.csv |  28982 |  48981 | /dcs04/lieber/statsgen/mnagle/mwas/pheno/caud/out/chr1_AA_28982-48981.rds   |\n",
       "| 1 | /dcs04/lieber/statsgen/shizhong/michael/mwas/gwas//libd_chr1.pgen | /dcs04/lieber/statsgen/shizhong/michael/mwas/pheno/caud/out/chr1_AA.rda | 248918358 | 1069461 | 2202702 | 8982 | AA | caud | /dcs04/lieber/statsgen/mnagle/mwas/full_covariates/AA_caud.csv |  48982 |  68981 | /dcs04/lieber/statsgen/mnagle/mwas/pheno/caud/out/chr1_AA_48982-68981.rds   |\n",
       "| 1 | /dcs04/lieber/statsgen/shizhong/michael/mwas/gwas//libd_chr1.pgen | /dcs04/lieber/statsgen/shizhong/michael/mwas/pheno/caud/out/chr1_AA.rda | 248918358 | 1069461 | 2202702 | 8982 | AA | caud | /dcs04/lieber/statsgen/mnagle/mwas/full_covariates/AA_caud.csv |  68982 |  88981 | /dcs04/lieber/statsgen/mnagle/mwas/pheno/caud/out/chr1_AA_68982-88981.rds   |\n",
       "| 1 | /dcs04/lieber/statsgen/shizhong/michael/mwas/gwas//libd_chr1.pgen | /dcs04/lieber/statsgen/shizhong/michael/mwas/pheno/caud/out/chr1_AA.rda | 248918358 | 1069461 | 2202702 | 8982 | AA | caud | /dcs04/lieber/statsgen/mnagle/mwas/full_covariates/AA_caud.csv |  88982 | 108981 | /dcs04/lieber/statsgen/mnagle/mwas/pheno/caud/out/chr1_AA_88982-108981.rds  |\n",
       "| 1 | /dcs04/lieber/statsgen/shizhong/michael/mwas/gwas//libd_chr1.pgen | /dcs04/lieber/statsgen/shizhong/michael/mwas/pheno/caud/out/chr1_AA.rda | 248918358 | 1069461 | 2202702 | 8982 | AA | caud | /dcs04/lieber/statsgen/mnagle/mwas/full_covariates/AA_caud.csv | 108982 | 128981 | /dcs04/lieber/statsgen/mnagle/mwas/pheno/caud/out/chr1_AA_108982-128981.rds |\n",
       "\n"
      ],
      "text/plain": [
       "  Chr SNP_data                                                         \n",
       "1 1   /dcs04/lieber/statsgen/shizhong/michael/mwas/gwas//libd_chr1.pgen\n",
       "2 1   /dcs04/lieber/statsgen/shizhong/michael/mwas/gwas//libd_chr1.pgen\n",
       "3 1   /dcs04/lieber/statsgen/shizhong/michael/mwas/gwas//libd_chr1.pgen\n",
       "4 1   /dcs04/lieber/statsgen/shizhong/michael/mwas/gwas//libd_chr1.pgen\n",
       "5 1   /dcs04/lieber/statsgen/shizhong/michael/mwas/gwas//libd_chr1.pgen\n",
       "6 1   /dcs04/lieber/statsgen/shizhong/michael/mwas/gwas//libd_chr1.pgen\n",
       "  methylation_data                                                       \n",
       "1 /dcs04/lieber/statsgen/shizhong/michael/mwas/pheno/caud/out/chr1_AA.rda\n",
       "2 /dcs04/lieber/statsgen/shizhong/michael/mwas/pheno/caud/out/chr1_AA.rda\n",
       "3 /dcs04/lieber/statsgen/shizhong/michael/mwas/pheno/caud/out/chr1_AA.rda\n",
       "4 /dcs04/lieber/statsgen/shizhong/michael/mwas/pheno/caud/out/chr1_AA.rda\n",
       "5 /dcs04/lieber/statsgen/shizhong/michael/mwas/pheno/caud/out/chr1_AA.rda\n",
       "6 /dcs04/lieber/statsgen/shizhong/michael/mwas/pheno/caud/out/chr1_AA.rda\n",
       "  last_meth_value_with_SNP_coverage first_meth_value_with_SNP_coverage\n",
       "1 248918358                         1069461                           \n",
       "2 248918358                         1069461                           \n",
       "3 248918358                         1069461                           \n",
       "4 248918358                         1069461                           \n",
       "5 248918358                         1069461                           \n",
       "6 248918358                         1069461                           \n",
       "  last_meth_index_with_SNP_coverage first_meth_index_with_SNP_coverage\n",
       "1 2202702                           8982                              \n",
       "2 2202702                           8982                              \n",
       "3 2202702                           8982                              \n",
       "4 2202702                           8982                              \n",
       "5 2202702                           8982                              \n",
       "6 2202702                           8982                              \n",
       "  population region\n",
       "1 AA         caud  \n",
       "2 AA         caud  \n",
       "3 AA         caud  \n",
       "4 AA         caud  \n",
       "5 AA         caud  \n",
       "6 AA         caud  \n",
       "  cov_file                                                       chunk_start\n",
       "1 /dcs04/lieber/statsgen/mnagle/mwas/full_covariates/AA_caud.csv   8982     \n",
       "2 /dcs04/lieber/statsgen/mnagle/mwas/full_covariates/AA_caud.csv  28982     \n",
       "3 /dcs04/lieber/statsgen/mnagle/mwas/full_covariates/AA_caud.csv  48982     \n",
       "4 /dcs04/lieber/statsgen/mnagle/mwas/full_covariates/AA_caud.csv  68982     \n",
       "5 /dcs04/lieber/statsgen/mnagle/mwas/full_covariates/AA_caud.csv  88982     \n",
       "6 /dcs04/lieber/statsgen/mnagle/mwas/full_covariates/AA_caud.csv 108982     \n",
       "  chunk_end\n",
       "1  28981   \n",
       "2  48981   \n",
       "3  68981   \n",
       "4  88981   \n",
       "5 108981   \n",
       "6 128981   \n",
       "  modified_methylation_data                                                  \n",
       "1 /dcs04/lieber/statsgen/mnagle/mwas/pheno/caud/out/chr1_AA_8982-28981.rds   \n",
       "2 /dcs04/lieber/statsgen/mnagle/mwas/pheno/caud/out/chr1_AA_28982-48981.rds  \n",
       "3 /dcs04/lieber/statsgen/mnagle/mwas/pheno/caud/out/chr1_AA_48982-68981.rds  \n",
       "4 /dcs04/lieber/statsgen/mnagle/mwas/pheno/caud/out/chr1_AA_68982-88981.rds  \n",
       "5 /dcs04/lieber/statsgen/mnagle/mwas/pheno/caud/out/chr1_AA_88982-108981.rds \n",
       "6 /dcs04/lieber/statsgen/mnagle/mwas/pheno/caud/out/chr1_AA_108982-128981.rds"
      ]
     },
     "metadata": {},
     "output_type": "display_data"
    }
   ],
   "source": [
    "head(df)"
   ]
  },
  {
   "cell_type": "code",
   "execution_count": 8,
   "id": "cba0afc8-da0a-4a04-803c-f8ddb4ed4741",
   "metadata": {},
   "outputs": [],
   "source": [
    "df_row <- 1"
   ]
  },
  {
   "cell_type": "code",
   "execution_count": 9,
   "id": "0ae44a95-1179-493b-8864-131803d99b19",
   "metadata": {},
   "outputs": [],
   "source": [
    "#args = commandArgs(trailingOnly=TRUE)\n",
    "\n",
    "#outdir <- args[1]\n",
    "#chunk1 <- as.numeric(args[2])\n",
    "#chunk2 <- as.numeric(args[3])\n",
    "\n",
    "wind <- 10000\n",
    "\n",
    "#wind <- as.numeric(c(\"1000\",\"2000\",\"5000\",\"10000\",\"20000\",\"50000\",\"100000\",\"200000\",\"500000\"))\n",
    "\n",
    "# This directory contains vmr files, which are...\n",
    "indir <- \"/dcs04/lieber/statsgen/shizhong/AANRI/VMR2/99/caud/aa/\"\n",
    "\n",
    "# path to dir containing pgen, psam files for a given population/subpopulation\n",
    "gwas <- dirname(df$SNP_data[df_row])\n",
    "gcta <- \"/dcs04/lieber/statsgen/shizhong/software/gcta/gcta-1.94.1-linux-kernel-3-x86_64/gcta-1.94.1\"\n",
    "\n",
    "setwd(outdir)"
   ]
  },
  {
   "cell_type": "code",
   "execution_count": 10,
   "id": "d0a3c4ef-c2cc-4c5a-bad7-63fa2d9786af",
   "metadata": {},
   "outputs": [
    {
     "data": {
      "text/html": [
       "'/dcs04/lieber/statsgen/shizhong/michael/mwas/gwas'"
      ],
      "text/latex": [
       "'/dcs04/lieber/statsgen/shizhong/michael/mwas/gwas'"
      ],
      "text/markdown": [
       "'/dcs04/lieber/statsgen/shizhong/michael/mwas/gwas'"
      ],
      "text/plain": [
       "[1] \"/dcs04/lieber/statsgen/shizhong/michael/mwas/gwas\""
      ]
     },
     "metadata": {},
     "output_type": "display_data"
    }
   ],
   "source": [
    "gwas"
   ]
  },
  {
   "cell_type": "code",
   "execution_count": 13,
   "id": "341e5903-5207-4098-b6df-ee2987e49ee1",
   "metadata": {},
   "outputs": [
    {
     "data": {
      "text/html": [
       "<style>\n",
       ".list-inline {list-style: none; margin:0; padding: 0}\n",
       ".list-inline>li {display: inline-block}\n",
       ".list-inline>li:not(:last-child)::after {content: \"\\00b7\"; padding: 0 .5ex}\n",
       "</style>\n",
       "<ol class=list-inline><li>'trans'</li><li>'parameters'</li><li>'rowRanges'</li><li>'colData'</li><li>'assays'</li><li>'NAMES'</li><li>'elementMetadata'</li><li>'metadata'</li><li>'class'</li></ol>\n"
      ],
      "text/latex": [
       "\\begin{enumerate*}\n",
       "\\item 'trans'\n",
       "\\item 'parameters'\n",
       "\\item 'rowRanges'\n",
       "\\item 'colData'\n",
       "\\item 'assays'\n",
       "\\item 'NAMES'\n",
       "\\item 'elementMetadata'\n",
       "\\item 'metadata'\n",
       "\\item 'class'\n",
       "\\end{enumerate*}\n"
      ],
      "text/markdown": [
       "1. 'trans'\n",
       "2. 'parameters'\n",
       "3. 'rowRanges'\n",
       "4. 'colData'\n",
       "5. 'assays'\n",
       "6. 'NAMES'\n",
       "7. 'elementMetadata'\n",
       "8. 'metadata'\n",
       "9. 'class'\n",
       "\n",
       "\n"
      ],
      "text/plain": [
       "[1] \"trans\"           \"parameters\"      \"rowRanges\"       \"colData\"        \n",
       "[5] \"assays\"          \"NAMES\"           \"elementMetadata\" \"metadata\"       \n",
       "[9] \"class\"          "
      ]
     },
     "metadata": {},
     "output_type": "display_data"
    }
   ],
   "source": [
    "names(attributes(BSobj2))"
   ]
  },
  {
   "cell_type": "code",
   "execution_count": 16,
   "id": "30bdecce-c733-4a58-873f-90b0c2772413",
   "metadata": {
    "collapsed": true,
    "jupyter": {
     "outputs_hidden": true
    },
    "tags": []
   },
   "outputs": [
    {
     "name": "stderr",
     "output_type": "stream",
     "text": [
      "Loading required package: BiocGenerics\n",
      "\n",
      "\n",
      "Attaching package: ‘BiocGenerics’\n",
      "\n",
      "\n",
      "The following objects are masked from ‘package:stats’:\n",
      "\n",
      "    IQR, mad, sd, var, xtabs\n",
      "\n",
      "\n",
      "The following objects are masked from ‘package:base’:\n",
      "\n",
      "    anyDuplicated, aperm, append, as.data.frame, basename, cbind,\n",
      "    colnames, dirname, do.call, duplicated, eval, evalq, Filter, Find,\n",
      "    get, grep, grepl, intersect, is.unsorted, lapply, Map, mapply,\n",
      "    match, mget, order, paste, pmax, pmax.int, pmin, pmin.int,\n",
      "    Position, rank, rbind, Reduce, rownames, sapply, setdiff, sort,\n",
      "    table, tapply, union, unique, unsplit, which.max, which.min\n",
      "\n",
      "\n",
      "Loading required package: GenomicRanges\n",
      "\n",
      "Loading required package: stats4\n",
      "\n",
      "Loading required package: S4Vectors\n",
      "\n",
      "\n",
      "Attaching package: ‘S4Vectors’\n",
      "\n",
      "\n",
      "The following objects are masked from ‘package:data.table’:\n",
      "\n",
      "    first, second\n",
      "\n",
      "\n",
      "The following object is masked from ‘package:utils’:\n",
      "\n",
      "    findMatches\n",
      "\n",
      "\n",
      "The following objects are masked from ‘package:base’:\n",
      "\n",
      "    expand.grid, I, unname\n",
      "\n",
      "\n",
      "Loading required package: IRanges\n",
      "\n",
      "\n",
      "Attaching package: ‘IRanges’\n",
      "\n",
      "\n",
      "The following object is masked from ‘package:data.table’:\n",
      "\n",
      "    shift\n",
      "\n",
      "\n",
      "Loading required package: GenomeInfoDb\n",
      "\n",
      "Loading required package: SummarizedExperiment\n",
      "\n",
      "Loading required package: MatrixGenerics\n",
      "\n",
      "Loading required package: matrixStats\n",
      "\n",
      "\n",
      "Attaching package: ‘MatrixGenerics’\n",
      "\n",
      "\n",
      "The following objects are masked from ‘package:matrixStats’:\n",
      "\n",
      "    colAlls, colAnyNAs, colAnys, colAvgsPerRowSet, colCollapse,\n",
      "    colCounts, colCummaxs, colCummins, colCumprods, colCumsums,\n",
      "    colDiffs, colIQRDiffs, colIQRs, colLogSumExps, colMadDiffs,\n",
      "    colMads, colMaxs, colMeans2, colMedians, colMins, colOrderStats,\n",
      "    colProds, colQuantiles, colRanges, colRanks, colSdDiffs, colSds,\n",
      "    colSums2, colTabulates, colVarDiffs, colVars, colWeightedMads,\n",
      "    colWeightedMeans, colWeightedMedians, colWeightedSds,\n",
      "    colWeightedVars, rowAlls, rowAnyNAs, rowAnys, rowAvgsPerColSet,\n",
      "    rowCollapse, rowCounts, rowCummaxs, rowCummins, rowCumprods,\n",
      "    rowCumsums, rowDiffs, rowIQRDiffs, rowIQRs, rowLogSumExps,\n",
      "    rowMadDiffs, rowMads, rowMaxs, rowMeans2, rowMedians, rowMins,\n",
      "    rowOrderStats, rowProds, rowQuantiles, rowRanges, rowRanks,\n",
      "    rowSdDiffs, rowSds, rowSums2, rowTabulates, rowVarDiffs, rowVars,\n",
      "    rowWeightedMads, rowWeightedMeans, rowWeightedMedians,\n",
      "    rowWeightedSds, rowWeightedVars\n",
      "\n",
      "\n",
      "Loading required package: Biobase\n",
      "\n",
      "Welcome to Bioconductor\n",
      "\n",
      "    Vignettes contain introductory material; view with\n",
      "    'browseVignettes()'. To cite Bioconductor, see\n",
      "    'citation(\"Biobase\")', and for packages 'citation(\"pkgname\")'.\n",
      "\n",
      "\n",
      "\n",
      "Attaching package: ‘Biobase’\n",
      "\n",
      "\n",
      "The following object is masked from ‘package:MatrixGenerics’:\n",
      "\n",
      "    rowMedians\n",
      "\n",
      "\n",
      "The following objects are masked from ‘package:matrixStats’:\n",
      "\n",
      "    anyMissing, rowMedians\n",
      "\n",
      "\n"
     ]
    }
   ],
   "source": [
    "library(bsseq)"
   ]
  },
  {
   "cell_type": "code",
   "execution_count": 18,
   "id": "8f218498-1078-4a7e-9c2f-eff9358a86b4",
   "metadata": {},
   "outputs": [],
   "source": [
    "p <- t(as.matrix(getMeth(BSobj2, type = \"smooth\", what = \"perBase\")))"
   ]
  },
  {
   "cell_type": "code",
   "execution_count": 14,
   "id": "68248a37-d25a-4b4a-845f-d746635dbd3f",
   "metadata": {},
   "outputs": [
    {
     "data": {
      "text/plain": [
       "DataFrame with 10 rows and 10 columns\n",
       "                ID       brnum has_genotype   source  agedeath      sex\n",
       "       <character> <character>    <logical> <factor> <numeric> <factor>\n",
       "1  LIBD1565_190509      Br1122         TRUE    DC        48.61        M\n",
       "2  LIBD1568_190509      Br1464         TRUE    DC        55.69        F\n",
       "3  LIBD1572_190509      Br1503         TRUE    DC        71.12        F\n",
       "4  LIBD1574_190509      Br5323         TRUE    MD ME     34.57        M\n",
       "5  LIBD1575_190509      Br1297         TRUE    DC        62.74        M\n",
       "6  LIBD1576_190509      Br1588         TRUE    DC        50.57        M\n",
       "7  LIBD1577_190509      Br1722         TRUE    VA        48.59        M\n",
       "8  LIBD1579_190509      Br1371         TRUE    DC        65.32        M\n",
       "9  LIBD1583_190509      Br1030         TRUE    DC        49.65        F\n",
       "10 LIBD1584_190509      Br1067         TRUE    DC        75.57        M\n",
       "       race primarydx       pmi        ph\n",
       "   <factor>  <factor> <numeric> <numeric>\n",
       "1        AA   Control      23.0      6.67\n",
       "2        AA   Schizo       77.5      6.24\n",
       "3        AA   Schizo       30.0      5.67\n",
       "4        AA   Control      21.5      6.78\n",
       "5        AA   Control      37.0      6.79\n",
       "6        AA   Schizo       46.5      6.04\n",
       "7        AA   Control      33.5      6.16\n",
       "8        AA   Schizo       33.0      6.08\n",
       "9        AA   Schizo       14.5      6.41\n",
       "10       AA   Schizo       20.5      6.42"
      ]
     },
     "metadata": {},
     "output_type": "display_data"
    }
   ],
   "source": [
    "BSobj2@colData[1:10, 1:10]"
   ]
  },
  {
   "cell_type": "code",
   "execution_count": 12,
   "id": "b1489263-495e-4584-9f8e-fca37d0b966b",
   "metadata": {},
   "outputs": [
    {
     "ename": "ERROR",
     "evalue": "Error in eval(expr, envir, enclos): no slot of name \"methylations\" for this object of class \"BSseq\"\n",
     "output_type": "error",
     "traceback": [
      "Error in eval(expr, envir, enclos): no slot of name \"methylations\" for this object of class \"BSseq\"\nTraceback:\n"
     ]
    }
   ],
   "source": [
    "load(df$methylation_data[df_row])\n",
    "p <- BSobj2@methylations\n",
    "ind <- rownames(BSobj2@methylations)"
   ]
  },
  {
   "cell_type": "code",
   "execution_count": 12,
   "id": "3398e8b6-7511-4388-8d4e-649230e57afc",
   "metadata": {},
   "outputs": [
    {
     "data": {
      "text/html": [
       "'/dcs04/lieber/statsgen/mnagle/mwas/CpGWAS/scripts/gcta_output'"
      ],
      "text/latex": [
       "'/dcs04/lieber/statsgen/mnagle/mwas/CpGWAS/scripts/gcta\\_output'"
      ],
      "text/markdown": [
       "'/dcs04/lieber/statsgen/mnagle/mwas/CpGWAS/scripts/gcta_output'"
      ],
      "text/plain": [
       "[1] \"/dcs04/lieber/statsgen/mnagle/mwas/CpGWAS/scripts/gcta_output\""
      ]
     },
     "metadata": {},
     "output_type": "display_data"
    }
   ],
   "source": [
    "getwd()"
   ]
  },
  {
   "cell_type": "code",
   "execution_count": 13,
   "id": "cb1d6566-4ae0-4c30-9296-70e05e8b3bd4",
   "metadata": {},
   "outputs": [],
   "source": [
    "# wind <- as.numeric(c(\"1000\",\"2000\",\"5000\",\"10000\",\"20000\",\"50000\",\"100000\",\"200000\",\"500000\"))\n",
    "# indir <- \"/dcs04/lieber/statsgen/shizhong/AANRI/VMR2/99/caud/aa/\"\n",
    "# gwas <- \"/dcs04/lieber/statsgen/shizhong/database/libd/genotype/postmortem/topmed/merge_H650_1M_2.5M_5M/AA/all/plink/\"\n",
    "# gcta <- \"/dcs04/lieber/statsgen/shizhong/software/gcta/gcta-1.94.1-linux-kernel-3-x86_64/gcta-1.94.1\"\n",
    "\n",
    "# #setwd(paste0(\"out/\",outdir))\n",
    "\n",
    "# # load vmrs\n",
    "# load(paste0(indir,\"out/chr1_vmr.rda\"))\n",
    "# meth2 <- meth\n",
    "# vmrs2 <- vmrs\n",
    "# for(i in 2:22){\n",
    "#         load(paste0(indir,\"out/chr\",i,\"_vmr.rda\"))\n",
    "#         meth2 <- rbind(meth2,meth)\n",
    "#         vmrs2 <- rbind(vmrs2,vmrs)\n",
    "# }\n",
    "# p <- t(meth2)\n",
    "# ind <- rownames(p)\n",
    "\n",
    "# # covariates\n",
    "# f_demo <- \"/dcs04/lieber/statsgen/shizhong/database/libd/genotype/postmortem/phenotype/pheno_PC\"\n",
    "# f_pc <- paste0(indir,\"/out/sva.csv\")\n",
    "# f_ances <- \"/dcs04/lieber/statsgen/shizhong/AANRI/structure/structure_CEU_AFR/structure.out_ancestry_proportion_raceDemo_compare\"\n",
    "# demo  <- read.table(f_demo,header=T)\n",
    "# pc <- read.csv(f_pc)\n",
    "# ances <- read.table(f_ances,header=T)\n",
    "\n",
    "# # align samples\n",
    "# id <- intersect(intersect(demo$BrNum,ind),pc$ind)\n",
    "# demo <- demo[match(id,demo$BrNum),]\n",
    "# pc <- pc[match(id,pc$ind),]\n",
    "# p <- p[match(id,ind),]\n",
    "# ances <- ances[match(id,ances$id),]\n",
    "\n",
    "# # covariates\n",
    "# #covs <- as.data.frame(cbind(Age=demo$Age,Sex=demo$Sex,demo[,11:20],pc[,3:12]))\n",
    "# covs <- as.data.frame(cbind(Age=demo$Age,Sex=demo$Sex,Afr=ances$Afr,pc[,3:12]))\n",
    "# covs$Sex[covs$Sex==\"M\"] <- 0\n",
    "# covs$Sex[covs$Sex==\"F\"] <- 1\n"
   ]
  },
  {
   "cell_type": "code",
   "execution_count": null,
   "id": "17f2abd8-86d6-4c33-b0d0-9a0489207712",
   "metadata": {},
   "outputs": [],
   "source": []
  },
  {
   "cell_type": "code",
   "execution_count": 14,
   "id": "8b2dad26-d816-4bc1-97e0-239d6c0e3d62",
   "metadata": {},
   "outputs": [],
   "source": [
    "covs <- fread(df$cov_file[df_row])\n",
    "covs$Sex[covs$Sex==\"M\"] <- 0\n",
    "covs$Sex[covs$Sex==\"F\"] <- 1\n",
    "\n",
    "covs$Dx[covs$Dx==\"Control\"] <- 0\n",
    "covs$Dx[covs$Dx==\"SCZ\"] <- 1"
   ]
  },
  {
   "cell_type": "code",
   "execution_count": 15,
   "id": "3fe757e2-7b8e-4f77-a98a-2e360503f822",
   "metadata": {},
   "outputs": [],
   "source": [
    "id <- covs$ID"
   ]
  },
  {
   "cell_type": "code",
   "execution_count": 16,
   "id": "8c91e583-1093-458a-97f6-82e3596fbd50",
   "metadata": {},
   "outputs": [],
   "source": [
    "covs <- cbind(1, covs)\n",
    "colnames(covs)[1] <- \"intercept\""
   ]
  },
  {
   "cell_type": "code",
   "execution_count": 17,
   "id": "6785d8cc-b381-49ae-ba34-6fd8d3419937",
   "metadata": {},
   "outputs": [
    {
     "data": {
      "text/html": [
       "<table class=\"dataframe\">\n",
       "<caption>A data.table: 6 × 18</caption>\n",
       "<thead>\n",
       "\t<tr><th scope=col>intercept</th><th scope=col>ID</th><th scope=col>genoPC1</th><th scope=col>genoPC2</th><th scope=col>genoPC3</th><th scope=col>methPC1</th><th scope=col>methPC2</th><th scope=col>methPC3</th><th scope=col>methPC4</th><th scope=col>methPC5</th><th scope=col>methPC6</th><th scope=col>methPC7</th><th scope=col>methPC8</th><th scope=col>methPC9</th><th scope=col>methPC10</th><th scope=col>Dx</th><th scope=col>Age</th><th scope=col>Sex</th></tr>\n",
       "\t<tr><th scope=col>&lt;dbl&gt;</th><th scope=col>&lt;chr&gt;</th><th scope=col>&lt;dbl&gt;</th><th scope=col>&lt;dbl&gt;</th><th scope=col>&lt;dbl&gt;</th><th scope=col>&lt;dbl&gt;</th><th scope=col>&lt;dbl&gt;</th><th scope=col>&lt;dbl&gt;</th><th scope=col>&lt;dbl&gt;</th><th scope=col>&lt;dbl&gt;</th><th scope=col>&lt;dbl&gt;</th><th scope=col>&lt;dbl&gt;</th><th scope=col>&lt;dbl&gt;</th><th scope=col>&lt;dbl&gt;</th><th scope=col>&lt;dbl&gt;</th><th scope=col>&lt;chr&gt;</th><th scope=col>&lt;dbl&gt;</th><th scope=col>&lt;chr&gt;</th></tr>\n",
       "</thead>\n",
       "<tbody>\n",
       "\t<tr><td>1</td><td>Br1003</td><td>0.0591231</td><td>-0.03980770</td><td> 0.0205308</td><td>-157.0465</td><td>  22.431504</td><td>  -3.613153</td><td> 28.587802</td><td>-165.83079</td><td>  15.4914042</td><td>  27.34710</td><td>  68.14635</td><td>-83.14472</td><td> 74.405523</td><td>0</td><td>52.57</td><td>1</td></tr>\n",
       "\t<tr><td>1</td><td>Br1004</td><td>0.0507512</td><td> 0.01670030</td><td>-0.0235019</td><td>-207.9779</td><td>  14.563873</td><td> -48.109417</td><td>-48.368597</td><td>  65.47954</td><td>-174.4362052</td><td> -40.36349</td><td>-103.81338</td><td> 11.08724</td><td>-84.670514</td><td>0</td><td>21.01</td><td>0</td></tr>\n",
       "\t<tr><td>1</td><td>Br1007</td><td>0.0683202</td><td> 0.00502359</td><td>-0.0595899</td><td> 119.2934</td><td>-184.287037</td><td>-127.987516</td><td>  8.047659</td><td> 100.51821</td><td> 112.4048122</td><td> -44.07971</td><td> -13.33184</td><td>109.55059</td><td> 55.891996</td><td>0</td><td>57.10</td><td>0</td></tr>\n",
       "\t<tr><td>1</td><td>Br1017</td><td>0.0685061</td><td>-0.00844357</td><td>-0.0109324</td><td> 148.3514</td><td> -89.715577</td><td> -97.742602</td><td>  7.072870</td><td> -78.40472</td><td>  77.0296173</td><td> -33.33488</td><td> -34.94820</td><td> 73.88633</td><td> 65.622516</td><td>0</td><td>48.42</td><td>1</td></tr>\n",
       "\t<tr><td>1</td><td>Br1021</td><td>0.0596699</td><td> 0.00367841</td><td> 0.0479552</td><td> 453.4710</td><td>-132.387141</td><td>  35.349695</td><td> 80.759933</td><td> 123.87860</td><td> -39.4338123</td><td>-122.19182</td><td>  64.62712</td><td>-62.89107</td><td>-25.939892</td><td>1</td><td>63.18</td><td>0</td></tr>\n",
       "\t<tr><td>1</td><td>Br1030</td><td>0.0166234</td><td> 0.03713600</td><td>-0.1168380</td><td>-212.5056</td><td>  -3.017152</td><td> -46.171785</td><td>-91.779986</td><td> -28.95307</td><td>  -0.2483534</td><td>  63.46330</td><td>  10.94601</td><td> 62.95635</td><td>  4.060549</td><td>1</td><td>49.65</td><td>1</td></tr>\n",
       "</tbody>\n",
       "</table>\n"
      ],
      "text/latex": [
       "A data.table: 6 × 18\n",
       "\\begin{tabular}{llllllllllllllllll}\n",
       " intercept & ID & genoPC1 & genoPC2 & genoPC3 & methPC1 & methPC2 & methPC3 & methPC4 & methPC5 & methPC6 & methPC7 & methPC8 & methPC9 & methPC10 & Dx & Age & Sex\\\\\n",
       " <dbl> & <chr> & <dbl> & <dbl> & <dbl> & <dbl> & <dbl> & <dbl> & <dbl> & <dbl> & <dbl> & <dbl> & <dbl> & <dbl> & <dbl> & <chr> & <dbl> & <chr>\\\\\n",
       "\\hline\n",
       "\t 1 & Br1003 & 0.0591231 & -0.03980770 &  0.0205308 & -157.0465 &   22.431504 &   -3.613153 &  28.587802 & -165.83079 &   15.4914042 &   27.34710 &   68.14635 & -83.14472 &  74.405523 & 0 & 52.57 & 1\\\\\n",
       "\t 1 & Br1004 & 0.0507512 &  0.01670030 & -0.0235019 & -207.9779 &   14.563873 &  -48.109417 & -48.368597 &   65.47954 & -174.4362052 &  -40.36349 & -103.81338 &  11.08724 & -84.670514 & 0 & 21.01 & 0\\\\\n",
       "\t 1 & Br1007 & 0.0683202 &  0.00502359 & -0.0595899 &  119.2934 & -184.287037 & -127.987516 &   8.047659 &  100.51821 &  112.4048122 &  -44.07971 &  -13.33184 & 109.55059 &  55.891996 & 0 & 57.10 & 0\\\\\n",
       "\t 1 & Br1017 & 0.0685061 & -0.00844357 & -0.0109324 &  148.3514 &  -89.715577 &  -97.742602 &   7.072870 &  -78.40472 &   77.0296173 &  -33.33488 &  -34.94820 &  73.88633 &  65.622516 & 0 & 48.42 & 1\\\\\n",
       "\t 1 & Br1021 & 0.0596699 &  0.00367841 &  0.0479552 &  453.4710 & -132.387141 &   35.349695 &  80.759933 &  123.87860 &  -39.4338123 & -122.19182 &   64.62712 & -62.89107 & -25.939892 & 1 & 63.18 & 0\\\\\n",
       "\t 1 & Br1030 & 0.0166234 &  0.03713600 & -0.1168380 & -212.5056 &   -3.017152 &  -46.171785 & -91.779986 &  -28.95307 &   -0.2483534 &   63.46330 &   10.94601 &  62.95635 &   4.060549 & 1 & 49.65 & 1\\\\\n",
       "\\end{tabular}\n"
      ],
      "text/markdown": [
       "\n",
       "A data.table: 6 × 18\n",
       "\n",
       "| intercept &lt;dbl&gt; | ID &lt;chr&gt; | genoPC1 &lt;dbl&gt; | genoPC2 &lt;dbl&gt; | genoPC3 &lt;dbl&gt; | methPC1 &lt;dbl&gt; | methPC2 &lt;dbl&gt; | methPC3 &lt;dbl&gt; | methPC4 &lt;dbl&gt; | methPC5 &lt;dbl&gt; | methPC6 &lt;dbl&gt; | methPC7 &lt;dbl&gt; | methPC8 &lt;dbl&gt; | methPC9 &lt;dbl&gt; | methPC10 &lt;dbl&gt; | Dx &lt;chr&gt; | Age &lt;dbl&gt; | Sex &lt;chr&gt; |\n",
       "|---|---|---|---|---|---|---|---|---|---|---|---|---|---|---|---|---|---|\n",
       "| 1 | Br1003 | 0.0591231 | -0.03980770 |  0.0205308 | -157.0465 |   22.431504 |   -3.613153 |  28.587802 | -165.83079 |   15.4914042 |   27.34710 |   68.14635 | -83.14472 |  74.405523 | 0 | 52.57 | 1 |\n",
       "| 1 | Br1004 | 0.0507512 |  0.01670030 | -0.0235019 | -207.9779 |   14.563873 |  -48.109417 | -48.368597 |   65.47954 | -174.4362052 |  -40.36349 | -103.81338 |  11.08724 | -84.670514 | 0 | 21.01 | 0 |\n",
       "| 1 | Br1007 | 0.0683202 |  0.00502359 | -0.0595899 |  119.2934 | -184.287037 | -127.987516 |   8.047659 |  100.51821 |  112.4048122 |  -44.07971 |  -13.33184 | 109.55059 |  55.891996 | 0 | 57.10 | 0 |\n",
       "| 1 | Br1017 | 0.0685061 | -0.00844357 | -0.0109324 |  148.3514 |  -89.715577 |  -97.742602 |   7.072870 |  -78.40472 |   77.0296173 |  -33.33488 |  -34.94820 |  73.88633 |  65.622516 | 0 | 48.42 | 1 |\n",
       "| 1 | Br1021 | 0.0596699 |  0.00367841 |  0.0479552 |  453.4710 | -132.387141 |   35.349695 |  80.759933 |  123.87860 |  -39.4338123 | -122.19182 |   64.62712 | -62.89107 | -25.939892 | 1 | 63.18 | 0 |\n",
       "| 1 | Br1030 | 0.0166234 |  0.03713600 | -0.1168380 | -212.5056 |   -3.017152 |  -46.171785 | -91.779986 |  -28.95307 |   -0.2483534 |   63.46330 |   10.94601 |  62.95635 |   4.060549 | 1 | 49.65 | 1 |\n",
       "\n"
      ],
      "text/plain": [
       "  intercept ID     genoPC1   genoPC2     genoPC3    methPC1   methPC2    \n",
       "1 1         Br1003 0.0591231 -0.03980770  0.0205308 -157.0465   22.431504\n",
       "2 1         Br1004 0.0507512  0.01670030 -0.0235019 -207.9779   14.563873\n",
       "3 1         Br1007 0.0683202  0.00502359 -0.0595899  119.2934 -184.287037\n",
       "4 1         Br1017 0.0685061 -0.00844357 -0.0109324  148.3514  -89.715577\n",
       "5 1         Br1021 0.0596699  0.00367841  0.0479552  453.4710 -132.387141\n",
       "6 1         Br1030 0.0166234  0.03713600 -0.1168380 -212.5056   -3.017152\n",
       "  methPC3     methPC4    methPC5    methPC6      methPC7    methPC8   \n",
       "1   -3.613153  28.587802 -165.83079   15.4914042   27.34710   68.14635\n",
       "2  -48.109417 -48.368597   65.47954 -174.4362052  -40.36349 -103.81338\n",
       "3 -127.987516   8.047659  100.51821  112.4048122  -44.07971  -13.33184\n",
       "4  -97.742602   7.072870  -78.40472   77.0296173  -33.33488  -34.94820\n",
       "5   35.349695  80.759933  123.87860  -39.4338123 -122.19182   64.62712\n",
       "6  -46.171785 -91.779986  -28.95307   -0.2483534   63.46330   10.94601\n",
       "  methPC9   methPC10   Dx Age   Sex\n",
       "1 -83.14472  74.405523 0  52.57 1  \n",
       "2  11.08724 -84.670514 0  21.01 0  \n",
       "3 109.55059  55.891996 0  57.10 0  \n",
       "4  73.88633  65.622516 0  48.42 1  \n",
       "5 -62.89107 -25.939892 1  63.18 0  \n",
       "6  62.95635   4.060549 1  49.65 1  "
      ]
     },
     "metadata": {},
     "output_type": "display_data"
    }
   ],
   "source": [
    "head(covs)"
   ]
  },
  {
   "cell_type": "code",
   "execution_count": 18,
   "id": "e2320089-2be2-47e3-af03-865efadae132",
   "metadata": {},
   "outputs": [],
   "source": [
    "write.table(id,\"id\",col.names=F,row.names=F,quote=F,sep=\"\\t\")"
   ]
  },
  {
   "cell_type": "code",
   "execution_count": 19,
   "id": "d4b6b053-7113-49b7-8b04-e8a981b923eb",
   "metadata": {},
   "outputs": [],
   "source": [
    "write.table(covs,\"covs\",col.names=F,row.names=F,quote=F,sep=\"\\t\")"
   ]
  },
  {
   "cell_type": "markdown",
   "id": "ae248bfe-90b4-425b-9e82-fd2a92bc997e",
   "metadata": {},
   "source": [
    "## test out for one sample"
   ]
  },
  {
   "cell_type": "code",
   "execution_count": 20,
   "id": "f597da74-b4d7-4ee5-b6da-fcd4a4213114",
   "metadata": {},
   "outputs": [],
   "source": [
    "res <- c()"
   ]
  },
  {
   "cell_type": "code",
   "execution_count": 21,
   "id": "a61f391c-ab51-43ad-9569-bf54a55c411e",
   "metadata": {},
   "outputs": [],
   "source": [
    "i <- 10"
   ]
  },
  {
   "cell_type": "code",
   "execution_count": 22,
   "id": "6bc1bc33-064d-4642-a9eb-44b2ed562f0b",
   "metadata": {},
   "outputs": [],
   "source": [
    "chr <- df$Chr[i]"
   ]
  },
  {
   "cell_type": "code",
   "execution_count": 23,
   "id": "e1c06ac8-950e-4f46-b8c9-81e2aa35a125",
   "metadata": {},
   "outputs": [
    {
     "data": {
      "text/html": [
       "1"
      ],
      "text/latex": [
       "1"
      ],
      "text/markdown": [
       "1"
      ],
      "text/plain": [
       "[1] 1"
      ]
     },
     "metadata": {},
     "output_type": "display_data"
    }
   ],
   "source": [
    "chr"
   ]
  },
  {
   "cell_type": "code",
   "execution_count": 24,
   "id": "8dc06732-543a-4a66-a93a-1a0396d0ab6e",
   "metadata": {},
   "outputs": [],
   "source": [
    "w <- 1"
   ]
  },
  {
   "cell_type": "code",
   "execution_count": 25,
   "id": "f885cb18-6cd1-4d0d-be5b-a4a6dfa28a9a",
   "metadata": {},
   "outputs": [],
   "source": [
    "# # plink subset\n",
    "# p1 <- ifelse(vmrs2[i,2] - wind[w] > 0, vmrs2[i,2] - wind[w],0) # start position for VMR\n",
    "# p2 <- vmrs2[i,3] + wind[w] # stop position for VMR"
   ]
  },
  {
   "cell_type": "code",
   "execution_count": 26,
   "id": "6431366b-5996-43b0-9eaf-91ccab9faabb",
   "metadata": {},
   "outputs": [],
   "source": [
    "p1 <- df$chunk_start[i]\n",
    "p2 <- df$chunk_end[i]"
   ]
  },
  {
   "cell_type": "markdown",
   "id": "5ec0f004-ca32-4371-a9ee-a4456386a911",
   "metadata": {},
   "source": [
    "Big question: Do we want all SNPs in window or only the ones used for stage 1 MWAS model?"
   ]
  },
  {
   "cell_type": "code",
   "execution_count": 27,
   "id": "dd59c3f9-e98c-4715-ac59-0f660a56ab3c",
   "metadata": {},
   "outputs": [],
   "source": [
    "gwas_prefix <- tools::file_path_sans_ext(df$SNP_data[df_row])"
   ]
  },
  {
   "cell_type": "code",
   "execution_count": 28,
   "id": "f1ec82ea-c935-4df9-bcdd-ed8d9b077c77",
   "metadata": {},
   "outputs": [
    {
     "data": {
      "text/html": [
       "'/dcs04/lieber/statsgen/shizhong/michael/mwas/gwas//libd_chr1'"
      ],
      "text/latex": [
       "'/dcs04/lieber/statsgen/shizhong/michael/mwas/gwas//libd\\_chr1'"
      ],
      "text/markdown": [
       "'/dcs04/lieber/statsgen/shizhong/michael/mwas/gwas//libd_chr1'"
      ],
      "text/plain": [
       "[1] \"/dcs04/lieber/statsgen/shizhong/michael/mwas/gwas//libd_chr1\""
      ]
     },
     "metadata": {},
     "output_type": "display_data"
    }
   ],
   "source": [
    "gwas_prefix"
   ]
  },
  {
   "cell_type": "code",
   "execution_count": 29,
   "id": "b4671556-b85a-4ec4-8108-ebddc6b01fdb",
   "metadata": {},
   "outputs": [
    {
     "name": "stdout",
     "output_type": "stream",
     "text": [
      "/jhpce/shared/libd/core/plink/2.00a4.6/plink2 --pfile  /dcs04/lieber/statsgen/shizhong/michael/mwas/gwas//libd_chr1 --silent --keep id --chr  1 --from-bp 188982 --to-bp 208981 --snps-only 'just-acgt' --make-bed --out temp"
     ]
    }
   ],
   "source": [
    "command <- paste(\"/jhpce/shared/libd/core/plink/2.00a4.6/plink2 --pfile \", gwas_prefix, \"--silent --keep id\", \"--chr \",chr,\"--from-bp\",p1,\"--to-bp\",p2,\"--snps-only 'just-acgt' --make-bed --out temp\",sep=\" \")\n",
    "cat(command)\n",
    "system(command)\n",
    "if(!file.exists(\"temp.bim\")){\n",
    "        print(\"no temp.bim\")\n",
    "        next;\n",
    "}"
   ]
  },
  {
   "cell_type": "code",
   "execution_count": 31,
   "id": "0d08231d-05a3-49f1-9ecf-f7b6de6c3b1b",
   "metadata": {},
   "outputs": [],
   "source": [
    "j <- 1"
   ]
  },
  {
   "cell_type": "code",
   "execution_count": 32,
   "id": "1d86177d-c82a-42f4-a887-1085b5045140",
   "metadata": {},
   "outputs": [],
   "source": [
    "# phenotype file \n",
    "pheno <- cbind(0,id,p[,j]) # methylation levels for each sample are contained in 3rd column"
   ]
  },
  {
   "cell_type": "code",
   "execution_count": 34,
   "id": "e3dadb94-fcfa-439f-a95d-dec44042f6d2",
   "metadata": {},
   "outputs": [
    {
     "data": {
      "text/html": [
       "<table class=\"dataframe\">\n",
       "<caption>A matrix: 10 × 10 of type dbl</caption>\n",
       "<thead>\n",
       "\t<tr><th></th><th scope=col>pos_1069461</th><th scope=col>pos_1069467</th><th scope=col>pos_1069470</th><th scope=col>pos_1069477</th><th scope=col>pos_1069484</th><th scope=col>pos_1069498</th><th scope=col>pos_1069506</th><th scope=col>pos_1069516</th><th scope=col>pos_1069530</th><th scope=col>pos_1069533</th></tr>\n",
       "</thead>\n",
       "<tbody>\n",
       "\t<tr><th scope=row>Br1003</th><td>-0.0015320124</td><td>-0.001596522</td><td>-0.001633657</td><td>-0.001733716</td><td>-0.001853289</td><td>-0.0021573726</td><td>-0.0023796057</td><td>-0.0027165291</td><td>-3.305263e-03</td><td>-3.450643e-03</td></tr>\n",
       "\t<tr><th scope=row>Br1004</th><td> 0.0120859713</td><td> 0.012396555</td><td> 0.012553815</td><td> 0.012926034</td><td> 0.013304905</td><td> 0.0140790381</td><td> 0.0145337617</td><td> 0.0151128441</td><td> 1.592928e-02</td><td> 1.610372e-02</td></tr>\n",
       "\t<tr><th scope=row>Br1007</th><td> 0.0015122922</td><td> 0.001393063</td><td> 0.001325161</td><td> 0.001142192</td><td> 0.000947801</td><td> 0.0006052909</td><td> 0.0004363787</td><td> 0.0002526942</td><td> 5.480545e-05</td><td> 2.206373e-05</td></tr>\n",
       "\t<tr><th scope=row>Br1017</th><td>-0.0241901253</td><td>-0.024556734</td><td>-0.024740488</td><td>-0.025170285</td><td>-0.025600456</td><td>-0.0264555724</td><td>-0.0269410254</td><td>-0.0275411377</td><td>-2.835022e-02</td><td>-2.851682e-02</td></tr>\n",
       "\t<tr><th scope=row>Br1021</th><td> 0.0131832437</td><td> 0.014176118</td><td> 0.014690814</td><td> 0.015939103</td><td> 0.017255704</td><td> 0.0201030575</td><td> 0.0218631253</td><td> 0.0242061497</td><td> 2.776119e-02</td><td> 2.856539e-02</td></tr>\n",
       "\t<tr><th scope=row>Br1030</th><td>-0.0017288801</td><td>-0.001582622</td><td>-0.001508780</td><td>-0.001335222</td><td>-0.001160080</td><td>-0.0008111587</td><td>-0.0006167582</td><td>-0.0003810417</td><td>-7.625893e-05</td><td>-1.553532e-05</td></tr>\n",
       "\t<tr><th scope=row>Br1039</th><td>-0.0047147478</td><td>-0.004685547</td><td>-0.004665737</td><td>-0.004604830</td><td>-0.004521578</td><td>-0.0042817904</td><td>-0.0040996468</td><td>-0.0038220969</td><td>-3.332203e-03</td><td>-3.210150e-03</td></tr>\n",
       "\t<tr><th scope=row>Br1040</th><td>-0.0071645365</td><td>-0.007303702</td><td>-0.007372297</td><td>-0.007528471</td><td>-0.007679114</td><td>-0.0079657166</td><td>-0.0081165635</td><td>-0.0082917724</td><td>-8.516321e-03</td><td>-8.561026e-03</td></tr>\n",
       "\t<tr><th scope=row>Br1050</th><td>-0.0009381539</td><td>-0.001221685</td><td>-0.001371033</td><td>-0.001740572</td><td>-0.002142036</td><td>-0.0030550545</td><td>-0.0036489651</td><td>-0.0044751233</td><td>-5.802542e-03</td><td>-6.115535e-03</td></tr>\n",
       "\t<tr><th scope=row>Br1053</th><td> 0.0072963899</td><td> 0.007653184</td><td> 0.007835268</td><td> 0.008269010</td><td> 0.008714658</td><td> 0.0096373159</td><td> 0.0101778250</td><td> 0.0108613391</td><td> 1.182341e-02</td><td> 1.202885e-02</td></tr>\n",
       "</tbody>\n",
       "</table>\n"
      ],
      "text/latex": [
       "A matrix: 10 × 10 of type dbl\n",
       "\\begin{tabular}{r|llllllllll}\n",
       "  & pos\\_1069461 & pos\\_1069467 & pos\\_1069470 & pos\\_1069477 & pos\\_1069484 & pos\\_1069498 & pos\\_1069506 & pos\\_1069516 & pos\\_1069530 & pos\\_1069533\\\\\n",
       "\\hline\n",
       "\tBr1003 & -0.0015320124 & -0.001596522 & -0.001633657 & -0.001733716 & -0.001853289 & -0.0021573726 & -0.0023796057 & -0.0027165291 & -3.305263e-03 & -3.450643e-03\\\\\n",
       "\tBr1004 &  0.0120859713 &  0.012396555 &  0.012553815 &  0.012926034 &  0.013304905 &  0.0140790381 &  0.0145337617 &  0.0151128441 &  1.592928e-02 &  1.610372e-02\\\\\n",
       "\tBr1007 &  0.0015122922 &  0.001393063 &  0.001325161 &  0.001142192 &  0.000947801 &  0.0006052909 &  0.0004363787 &  0.0002526942 &  5.480545e-05 &  2.206373e-05\\\\\n",
       "\tBr1017 & -0.0241901253 & -0.024556734 & -0.024740488 & -0.025170285 & -0.025600456 & -0.0264555724 & -0.0269410254 & -0.0275411377 & -2.835022e-02 & -2.851682e-02\\\\\n",
       "\tBr1021 &  0.0131832437 &  0.014176118 &  0.014690814 &  0.015939103 &  0.017255704 &  0.0201030575 &  0.0218631253 &  0.0242061497 &  2.776119e-02 &  2.856539e-02\\\\\n",
       "\tBr1030 & -0.0017288801 & -0.001582622 & -0.001508780 & -0.001335222 & -0.001160080 & -0.0008111587 & -0.0006167582 & -0.0003810417 & -7.625893e-05 & -1.553532e-05\\\\\n",
       "\tBr1039 & -0.0047147478 & -0.004685547 & -0.004665737 & -0.004604830 & -0.004521578 & -0.0042817904 & -0.0040996468 & -0.0038220969 & -3.332203e-03 & -3.210150e-03\\\\\n",
       "\tBr1040 & -0.0071645365 & -0.007303702 & -0.007372297 & -0.007528471 & -0.007679114 & -0.0079657166 & -0.0081165635 & -0.0082917724 & -8.516321e-03 & -8.561026e-03\\\\\n",
       "\tBr1050 & -0.0009381539 & -0.001221685 & -0.001371033 & -0.001740572 & -0.002142036 & -0.0030550545 & -0.0036489651 & -0.0044751233 & -5.802542e-03 & -6.115535e-03\\\\\n",
       "\tBr1053 &  0.0072963899 &  0.007653184 &  0.007835268 &  0.008269010 &  0.008714658 &  0.0096373159 &  0.0101778250 &  0.0108613391 &  1.182341e-02 &  1.202885e-02\\\\\n",
       "\\end{tabular}\n"
      ],
      "text/markdown": [
       "\n",
       "A matrix: 10 × 10 of type dbl\n",
       "\n",
       "| <!--/--> | pos_1069461 | pos_1069467 | pos_1069470 | pos_1069477 | pos_1069484 | pos_1069498 | pos_1069506 | pos_1069516 | pos_1069530 | pos_1069533 |\n",
       "|---|---|---|---|---|---|---|---|---|---|---|\n",
       "| Br1003 | -0.0015320124 | -0.001596522 | -0.001633657 | -0.001733716 | -0.001853289 | -0.0021573726 | -0.0023796057 | -0.0027165291 | -3.305263e-03 | -3.450643e-03 |\n",
       "| Br1004 |  0.0120859713 |  0.012396555 |  0.012553815 |  0.012926034 |  0.013304905 |  0.0140790381 |  0.0145337617 |  0.0151128441 |  1.592928e-02 |  1.610372e-02 |\n",
       "| Br1007 |  0.0015122922 |  0.001393063 |  0.001325161 |  0.001142192 |  0.000947801 |  0.0006052909 |  0.0004363787 |  0.0002526942 |  5.480545e-05 |  2.206373e-05 |\n",
       "| Br1017 | -0.0241901253 | -0.024556734 | -0.024740488 | -0.025170285 | -0.025600456 | -0.0264555724 | -0.0269410254 | -0.0275411377 | -2.835022e-02 | -2.851682e-02 |\n",
       "| Br1021 |  0.0131832437 |  0.014176118 |  0.014690814 |  0.015939103 |  0.017255704 |  0.0201030575 |  0.0218631253 |  0.0242061497 |  2.776119e-02 |  2.856539e-02 |\n",
       "| Br1030 | -0.0017288801 | -0.001582622 | -0.001508780 | -0.001335222 | -0.001160080 | -0.0008111587 | -0.0006167582 | -0.0003810417 | -7.625893e-05 | -1.553532e-05 |\n",
       "| Br1039 | -0.0047147478 | -0.004685547 | -0.004665737 | -0.004604830 | -0.004521578 | -0.0042817904 | -0.0040996468 | -0.0038220969 | -3.332203e-03 | -3.210150e-03 |\n",
       "| Br1040 | -0.0071645365 | -0.007303702 | -0.007372297 | -0.007528471 | -0.007679114 | -0.0079657166 | -0.0081165635 | -0.0082917724 | -8.516321e-03 | -8.561026e-03 |\n",
       "| Br1050 | -0.0009381539 | -0.001221685 | -0.001371033 | -0.001740572 | -0.002142036 | -0.0030550545 | -0.0036489651 | -0.0044751233 | -5.802542e-03 | -6.115535e-03 |\n",
       "| Br1053 |  0.0072963899 |  0.007653184 |  0.007835268 |  0.008269010 |  0.008714658 |  0.0096373159 |  0.0101778250 |  0.0108613391 |  1.182341e-02 |  1.202885e-02 |\n",
       "\n"
      ],
      "text/plain": [
       "       pos_1069461   pos_1069467  pos_1069470  pos_1069477  pos_1069484 \n",
       "Br1003 -0.0015320124 -0.001596522 -0.001633657 -0.001733716 -0.001853289\n",
       "Br1004  0.0120859713  0.012396555  0.012553815  0.012926034  0.013304905\n",
       "Br1007  0.0015122922  0.001393063  0.001325161  0.001142192  0.000947801\n",
       "Br1017 -0.0241901253 -0.024556734 -0.024740488 -0.025170285 -0.025600456\n",
       "Br1021  0.0131832437  0.014176118  0.014690814  0.015939103  0.017255704\n",
       "Br1030 -0.0017288801 -0.001582622 -0.001508780 -0.001335222 -0.001160080\n",
       "Br1039 -0.0047147478 -0.004685547 -0.004665737 -0.004604830 -0.004521578\n",
       "Br1040 -0.0071645365 -0.007303702 -0.007372297 -0.007528471 -0.007679114\n",
       "Br1050 -0.0009381539 -0.001221685 -0.001371033 -0.001740572 -0.002142036\n",
       "Br1053  0.0072963899  0.007653184  0.007835268  0.008269010  0.008714658\n",
       "       pos_1069498   pos_1069506   pos_1069516   pos_1069530   pos_1069533  \n",
       "Br1003 -0.0021573726 -0.0023796057 -0.0027165291 -3.305263e-03 -3.450643e-03\n",
       "Br1004  0.0140790381  0.0145337617  0.0151128441  1.592928e-02  1.610372e-02\n",
       "Br1007  0.0006052909  0.0004363787  0.0002526942  5.480545e-05  2.206373e-05\n",
       "Br1017 -0.0264555724 -0.0269410254 -0.0275411377 -2.835022e-02 -2.851682e-02\n",
       "Br1021  0.0201030575  0.0218631253  0.0242061497  2.776119e-02  2.856539e-02\n",
       "Br1030 -0.0008111587 -0.0006167582 -0.0003810417 -7.625893e-05 -1.553532e-05\n",
       "Br1039 -0.0042817904 -0.0040996468 -0.0038220969 -3.332203e-03 -3.210150e-03\n",
       "Br1040 -0.0079657166 -0.0081165635 -0.0082917724 -8.516321e-03 -8.561026e-03\n",
       "Br1050 -0.0030550545 -0.0036489651 -0.0044751233 -5.802542e-03 -6.115535e-03\n",
       "Br1053  0.0096373159  0.0101778250  0.0108613391  1.182341e-02  1.202885e-02"
      ]
     },
     "metadata": {},
     "output_type": "display_data"
    }
   ],
   "source": [
    "p[1:10, 1:10]"
   ]
  },
  {
   "cell_type": "code",
   "execution_count": 33,
   "id": "b8e6de4c-3ae1-4cc5-a9dc-e1a05b7710c0",
   "metadata": {},
   "outputs": [
    {
     "data": {
      "text/html": [
       "<table class=\"dataframe\">\n",
       "<caption>A matrix: 164 × 3 of type chr</caption>\n",
       "<thead>\n",
       "\t<tr><th></th><th scope=col></th><th scope=col>id</th><th scope=col></th></tr>\n",
       "</thead>\n",
       "<tbody>\n",
       "\t<tr><th scope=row>Br1003</th><td>0</td><td>Br1003</td><td>-0.00153201242507581 </td></tr>\n",
       "\t<tr><th scope=row>Br1004</th><td>0</td><td>Br1004</td><td>0.0120859713492745   </td></tr>\n",
       "\t<tr><th scope=row>Br1007</th><td>0</td><td>Br1007</td><td>0.00151229221414746  </td></tr>\n",
       "\t<tr><th scope=row>Br1017</th><td>0</td><td>Br1017</td><td>-0.0241901253214436  </td></tr>\n",
       "\t<tr><th scope=row>Br1021</th><td>0</td><td>Br1021</td><td>0.0131832436804189   </td></tr>\n",
       "\t<tr><th scope=row>Br1030</th><td>0</td><td>Br1030</td><td>-0.00172888007948389 </td></tr>\n",
       "\t<tr><th scope=row>Br1039</th><td>0</td><td>Br1039</td><td>-0.00471474780714387 </td></tr>\n",
       "\t<tr><th scope=row>Br1040</th><td>0</td><td>Br1040</td><td>-0.00716453647843782 </td></tr>\n",
       "\t<tr><th scope=row>Br1050</th><td>0</td><td>Br1050</td><td>-0.000938153898329956</td></tr>\n",
       "\t<tr><th scope=row>Br1053</th><td>0</td><td>Br1053</td><td>0.00729638986531781  </td></tr>\n",
       "\t<tr><th scope=row>Br1054</th><td>0</td><td>Br1054</td><td>-0.00439565307940433 </td></tr>\n",
       "\t<tr><th scope=row>Br1056</th><td>0</td><td>Br1056</td><td>0.00066068169815256  </td></tr>\n",
       "\t<tr><th scope=row>Br1067</th><td>0</td><td>Br1067</td><td>-0.0258172259226818  </td></tr>\n",
       "\t<tr><th scope=row>Br1069</th><td>0</td><td>Br1069</td><td>0.0255041596945128   </td></tr>\n",
       "\t<tr><th scope=row>Br1081</th><td>0</td><td>Br1081</td><td>0.0211180139687414   </td></tr>\n",
       "\t<tr><th scope=row>Br1084</th><td>0</td><td>Br1084</td><td>-0.00830886651540376 </td></tr>\n",
       "\t<tr><th scope=row>Br1102</th><td>0</td><td>Br1102</td><td>0.00128553652649982  </td></tr>\n",
       "\t<tr><th scope=row>Br1122</th><td>0</td><td>Br1122</td><td>0.00587466163041392  </td></tr>\n",
       "\t<tr><th scope=row>Br1134</th><td>0</td><td>Br1134</td><td>-0.0046330354010935  </td></tr>\n",
       "\t<tr><th scope=row>Br1135</th><td>0</td><td>Br1135</td><td>0.0127700751985081   </td></tr>\n",
       "\t<tr><th scope=row>Br1137</th><td>0</td><td>Br1137</td><td>-0.0117736261561498  </td></tr>\n",
       "\t<tr><th scope=row>Br1148</th><td>0</td><td>Br1148</td><td>-0.0113642865038118  </td></tr>\n",
       "\t<tr><th scope=row>Br1156</th><td>0</td><td>Br1156</td><td>0.027501866002862    </td></tr>\n",
       "\t<tr><th scope=row>Br1157</th><td>0</td><td>Br1157</td><td>-0.0145200655295228  </td></tr>\n",
       "\t<tr><th scope=row>Br1160</th><td>0</td><td>Br1160</td><td>0.0033801374383902   </td></tr>\n",
       "\t<tr><th scope=row>Br1164</th><td>0</td><td>Br1164</td><td>0.0161224522252188   </td></tr>\n",
       "\t<tr><th scope=row>Br1167</th><td>0</td><td>Br1167</td><td>0.0135160309408357   </td></tr>\n",
       "\t<tr><th scope=row>Br1185</th><td>0</td><td>Br1185</td><td>0.000376889077938224 </td></tr>\n",
       "\t<tr><th scope=row>Br1187</th><td>0</td><td>Br1187</td><td>0.00371617328179472  </td></tr>\n",
       "\t<tr><th scope=row>Br1191</th><td>0</td><td>Br1191</td><td>-0.0169927964479289  </td></tr>\n",
       "\t<tr><th scope=row>⋮</th><td>⋮</td><td>⋮</td><td>⋮</td></tr>\n",
       "\t<tr><th scope=row>Br2377</th><td>0</td><td>Br2377</td><td>-0.0121428522154005 </td></tr>\n",
       "\t<tr><th scope=row>Br2481</th><td>0</td><td>Br2481</td><td>-0.00320695229880813</td></tr>\n",
       "\t<tr><th scope=row>Br2494</th><td>0</td><td>Br2494</td><td>-0.00999179075354765</td></tr>\n",
       "\t<tr><th scope=row>Br2509</th><td>0</td><td>Br2509</td><td>0.00634153521015091 </td></tr>\n",
       "\t<tr><th scope=row>Br2513</th><td>0</td><td>Br2513</td><td>-0.00498293822405331</td></tr>\n",
       "\t<tr><th scope=row>Br2539</th><td>0</td><td>Br2539</td><td>-0.00623791070954662</td></tr>\n",
       "\t<tr><th scope=row>Br2543</th><td>0</td><td>Br2543</td><td>-0.0030494822659947 </td></tr>\n",
       "\t<tr><th scope=row>Br2585</th><td>0</td><td>Br2585</td><td>-0.02164427039057   </td></tr>\n",
       "\t<tr><th scope=row>Br2587</th><td>0</td><td>Br2587</td><td>-0.0216787251994833 </td></tr>\n",
       "\t<tr><th scope=row>Br5073</th><td>0</td><td>Br5073</td><td>0.0119759237689225  </td></tr>\n",
       "\t<tr><th scope=row>Br5179</th><td>0</td><td>Br5179</td><td>-0.00597252896320963</td></tr>\n",
       "\t<tr><th scope=row>Br5259</th><td>0</td><td>Br5259</td><td>-0.0229488230081511 </td></tr>\n",
       "\t<tr><th scope=row>Br5264</th><td>0</td><td>Br5264</td><td>0.01120545904972    </td></tr>\n",
       "\t<tr><th scope=row>Br5295</th><td>0</td><td>Br5295</td><td>-0.0195409086789615 </td></tr>\n",
       "\t<tr><th scope=row>Br5323</th><td>0</td><td>Br5323</td><td>-0.00202199518731282</td></tr>\n",
       "\t<tr><th scope=row>Br5330</th><td>0</td><td>Br5330</td><td>-0.0073899273299292 </td></tr>\n",
       "\t<tr><th scope=row>Br5426</th><td>0</td><td>Br5426</td><td>-0.0133890956685301 </td></tr>\n",
       "\t<tr><th scope=row>Br5460</th><td>0</td><td>Br5460</td><td>0.0120793056084751  </td></tr>\n",
       "\t<tr><th scope=row>Br5467</th><td>0</td><td>Br5467</td><td>-0.00740409708085273</td></tr>\n",
       "\t<tr><th scope=row>Br5475</th><td>0</td><td>Br5475</td><td>-0.0234542994276765 </td></tr>\n",
       "\t<tr><th scope=row>Br836</th><td>0</td><td>Br836 </td><td>-0.00814467380382879</td></tr>\n",
       "\t<tr><th scope=row>Br845</th><td>0</td><td>Br845 </td><td>0.00902921562538906 </td></tr>\n",
       "\t<tr><th scope=row>Br848</th><td>0</td><td>Br848 </td><td>0.0208764632164206  </td></tr>\n",
       "\t<tr><th scope=row>Br863</th><td>0</td><td>Br863 </td><td>-0.013957396929024  </td></tr>\n",
       "\t<tr><th scope=row>Br914</th><td>0</td><td>Br914 </td><td>-0.0170167994378982 </td></tr>\n",
       "\t<tr><th scope=row>Br948</th><td>0</td><td>Br948 </td><td>-0.0187304373210967 </td></tr>\n",
       "\t<tr><th scope=row>Br949</th><td>0</td><td>Br949 </td><td>-0.00711440537689142</td></tr>\n",
       "\t<tr><th scope=row>Br963</th><td>0</td><td>Br963 </td><td>0.0116201858605473  </td></tr>\n",
       "\t<tr><th scope=row>Br991</th><td>0</td><td>Br991 </td><td>0.0205582933112181  </td></tr>\n",
       "\t<tr><th scope=row>Br993</th><td>0</td><td>Br993 </td><td>-0.0041470237859787 </td></tr>\n",
       "</tbody>\n",
       "</table>\n"
      ],
      "text/latex": [
       "A matrix: 164 × 3 of type chr\n",
       "\\begin{tabular}{r|lll}\n",
       "  &  & id & \\\\\n",
       "\\hline\n",
       "\tBr1003 & 0 & Br1003 & -0.00153201242507581 \\\\\n",
       "\tBr1004 & 0 & Br1004 & 0.0120859713492745   \\\\\n",
       "\tBr1007 & 0 & Br1007 & 0.00151229221414746  \\\\\n",
       "\tBr1017 & 0 & Br1017 & -0.0241901253214436  \\\\\n",
       "\tBr1021 & 0 & Br1021 & 0.0131832436804189   \\\\\n",
       "\tBr1030 & 0 & Br1030 & -0.00172888007948389 \\\\\n",
       "\tBr1039 & 0 & Br1039 & -0.00471474780714387 \\\\\n",
       "\tBr1040 & 0 & Br1040 & -0.00716453647843782 \\\\\n",
       "\tBr1050 & 0 & Br1050 & -0.000938153898329956\\\\\n",
       "\tBr1053 & 0 & Br1053 & 0.00729638986531781  \\\\\n",
       "\tBr1054 & 0 & Br1054 & -0.00439565307940433 \\\\\n",
       "\tBr1056 & 0 & Br1056 & 0.00066068169815256  \\\\\n",
       "\tBr1067 & 0 & Br1067 & -0.0258172259226818  \\\\\n",
       "\tBr1069 & 0 & Br1069 & 0.0255041596945128   \\\\\n",
       "\tBr1081 & 0 & Br1081 & 0.0211180139687414   \\\\\n",
       "\tBr1084 & 0 & Br1084 & -0.00830886651540376 \\\\\n",
       "\tBr1102 & 0 & Br1102 & 0.00128553652649982  \\\\\n",
       "\tBr1122 & 0 & Br1122 & 0.00587466163041392  \\\\\n",
       "\tBr1134 & 0 & Br1134 & -0.0046330354010935  \\\\\n",
       "\tBr1135 & 0 & Br1135 & 0.0127700751985081   \\\\\n",
       "\tBr1137 & 0 & Br1137 & -0.0117736261561498  \\\\\n",
       "\tBr1148 & 0 & Br1148 & -0.0113642865038118  \\\\\n",
       "\tBr1156 & 0 & Br1156 & 0.027501866002862    \\\\\n",
       "\tBr1157 & 0 & Br1157 & -0.0145200655295228  \\\\\n",
       "\tBr1160 & 0 & Br1160 & 0.0033801374383902   \\\\\n",
       "\tBr1164 & 0 & Br1164 & 0.0161224522252188   \\\\\n",
       "\tBr1167 & 0 & Br1167 & 0.0135160309408357   \\\\\n",
       "\tBr1185 & 0 & Br1185 & 0.000376889077938224 \\\\\n",
       "\tBr1187 & 0 & Br1187 & 0.00371617328179472  \\\\\n",
       "\tBr1191 & 0 & Br1191 & -0.0169927964479289  \\\\\n",
       "\t⋮ & ⋮ & ⋮ & ⋮\\\\\n",
       "\tBr2377 & 0 & Br2377 & -0.0121428522154005 \\\\\n",
       "\tBr2481 & 0 & Br2481 & -0.00320695229880813\\\\\n",
       "\tBr2494 & 0 & Br2494 & -0.00999179075354765\\\\\n",
       "\tBr2509 & 0 & Br2509 & 0.00634153521015091 \\\\\n",
       "\tBr2513 & 0 & Br2513 & -0.00498293822405331\\\\\n",
       "\tBr2539 & 0 & Br2539 & -0.00623791070954662\\\\\n",
       "\tBr2543 & 0 & Br2543 & -0.0030494822659947 \\\\\n",
       "\tBr2585 & 0 & Br2585 & -0.02164427039057   \\\\\n",
       "\tBr2587 & 0 & Br2587 & -0.0216787251994833 \\\\\n",
       "\tBr5073 & 0 & Br5073 & 0.0119759237689225  \\\\\n",
       "\tBr5179 & 0 & Br5179 & -0.00597252896320963\\\\\n",
       "\tBr5259 & 0 & Br5259 & -0.0229488230081511 \\\\\n",
       "\tBr5264 & 0 & Br5264 & 0.01120545904972    \\\\\n",
       "\tBr5295 & 0 & Br5295 & -0.0195409086789615 \\\\\n",
       "\tBr5323 & 0 & Br5323 & -0.00202199518731282\\\\\n",
       "\tBr5330 & 0 & Br5330 & -0.0073899273299292 \\\\\n",
       "\tBr5426 & 0 & Br5426 & -0.0133890956685301 \\\\\n",
       "\tBr5460 & 0 & Br5460 & 0.0120793056084751  \\\\\n",
       "\tBr5467 & 0 & Br5467 & -0.00740409708085273\\\\\n",
       "\tBr5475 & 0 & Br5475 & -0.0234542994276765 \\\\\n",
       "\tBr836 & 0 & Br836  & -0.00814467380382879\\\\\n",
       "\tBr845 & 0 & Br845  & 0.00902921562538906 \\\\\n",
       "\tBr848 & 0 & Br848  & 0.0208764632164206  \\\\\n",
       "\tBr863 & 0 & Br863  & -0.013957396929024  \\\\\n",
       "\tBr914 & 0 & Br914  & -0.0170167994378982 \\\\\n",
       "\tBr948 & 0 & Br948  & -0.0187304373210967 \\\\\n",
       "\tBr949 & 0 & Br949  & -0.00711440537689142\\\\\n",
       "\tBr963 & 0 & Br963  & 0.0116201858605473  \\\\\n",
       "\tBr991 & 0 & Br991  & 0.0205582933112181  \\\\\n",
       "\tBr993 & 0 & Br993  & -0.0041470237859787 \\\\\n",
       "\\end{tabular}\n"
      ],
      "text/markdown": [
       "\n",
       "A matrix: 164 × 3 of type chr\n",
       "\n",
       "| <!--/--> | <!----> | id | <!----> |\n",
       "|---|---|---|---|\n",
       "| Br1003 | 0 | Br1003 | -0.00153201242507581  |\n",
       "| Br1004 | 0 | Br1004 | 0.0120859713492745    |\n",
       "| Br1007 | 0 | Br1007 | 0.00151229221414746   |\n",
       "| Br1017 | 0 | Br1017 | -0.0241901253214436   |\n",
       "| Br1021 | 0 | Br1021 | 0.0131832436804189    |\n",
       "| Br1030 | 0 | Br1030 | -0.00172888007948389  |\n",
       "| Br1039 | 0 | Br1039 | -0.00471474780714387  |\n",
       "| Br1040 | 0 | Br1040 | -0.00716453647843782  |\n",
       "| Br1050 | 0 | Br1050 | -0.000938153898329956 |\n",
       "| Br1053 | 0 | Br1053 | 0.00729638986531781   |\n",
       "| Br1054 | 0 | Br1054 | -0.00439565307940433  |\n",
       "| Br1056 | 0 | Br1056 | 0.00066068169815256   |\n",
       "| Br1067 | 0 | Br1067 | -0.0258172259226818   |\n",
       "| Br1069 | 0 | Br1069 | 0.0255041596945128    |\n",
       "| Br1081 | 0 | Br1081 | 0.0211180139687414    |\n",
       "| Br1084 | 0 | Br1084 | -0.00830886651540376  |\n",
       "| Br1102 | 0 | Br1102 | 0.00128553652649982   |\n",
       "| Br1122 | 0 | Br1122 | 0.00587466163041392   |\n",
       "| Br1134 | 0 | Br1134 | -0.0046330354010935   |\n",
       "| Br1135 | 0 | Br1135 | 0.0127700751985081    |\n",
       "| Br1137 | 0 | Br1137 | -0.0117736261561498   |\n",
       "| Br1148 | 0 | Br1148 | -0.0113642865038118   |\n",
       "| Br1156 | 0 | Br1156 | 0.027501866002862     |\n",
       "| Br1157 | 0 | Br1157 | -0.0145200655295228   |\n",
       "| Br1160 | 0 | Br1160 | 0.0033801374383902    |\n",
       "| Br1164 | 0 | Br1164 | 0.0161224522252188    |\n",
       "| Br1167 | 0 | Br1167 | 0.0135160309408357    |\n",
       "| Br1185 | 0 | Br1185 | 0.000376889077938224  |\n",
       "| Br1187 | 0 | Br1187 | 0.00371617328179472   |\n",
       "| Br1191 | 0 | Br1191 | -0.0169927964479289   |\n",
       "| ⋮ | ⋮ | ⋮ | ⋮ |\n",
       "| Br2377 | 0 | Br2377 | -0.0121428522154005  |\n",
       "| Br2481 | 0 | Br2481 | -0.00320695229880813 |\n",
       "| Br2494 | 0 | Br2494 | -0.00999179075354765 |\n",
       "| Br2509 | 0 | Br2509 | 0.00634153521015091  |\n",
       "| Br2513 | 0 | Br2513 | -0.00498293822405331 |\n",
       "| Br2539 | 0 | Br2539 | -0.00623791070954662 |\n",
       "| Br2543 | 0 | Br2543 | -0.0030494822659947  |\n",
       "| Br2585 | 0 | Br2585 | -0.02164427039057    |\n",
       "| Br2587 | 0 | Br2587 | -0.0216787251994833  |\n",
       "| Br5073 | 0 | Br5073 | 0.0119759237689225   |\n",
       "| Br5179 | 0 | Br5179 | -0.00597252896320963 |\n",
       "| Br5259 | 0 | Br5259 | -0.0229488230081511  |\n",
       "| Br5264 | 0 | Br5264 | 0.01120545904972     |\n",
       "| Br5295 | 0 | Br5295 | -0.0195409086789615  |\n",
       "| Br5323 | 0 | Br5323 | -0.00202199518731282 |\n",
       "| Br5330 | 0 | Br5330 | -0.0073899273299292  |\n",
       "| Br5426 | 0 | Br5426 | -0.0133890956685301  |\n",
       "| Br5460 | 0 | Br5460 | 0.0120793056084751   |\n",
       "| Br5467 | 0 | Br5467 | -0.00740409708085273 |\n",
       "| Br5475 | 0 | Br5475 | -0.0234542994276765  |\n",
       "| Br836 | 0 | Br836  | -0.00814467380382879 |\n",
       "| Br845 | 0 | Br845  | 0.00902921562538906  |\n",
       "| Br848 | 0 | Br848  | 0.0208764632164206   |\n",
       "| Br863 | 0 | Br863  | -0.013957396929024   |\n",
       "| Br914 | 0 | Br914  | -0.0170167994378982  |\n",
       "| Br948 | 0 | Br948  | -0.0187304373210967  |\n",
       "| Br949 | 0 | Br949  | -0.00711440537689142 |\n",
       "| Br963 | 0 | Br963  | 0.0116201858605473   |\n",
       "| Br991 | 0 | Br991  | 0.0205582933112181   |\n",
       "| Br993 | 0 | Br993  | -0.0041470237859787  |\n",
       "\n"
      ],
      "text/plain": [
       "         id                          \n",
       "Br1003 0 Br1003 -0.00153201242507581 \n",
       "Br1004 0 Br1004 0.0120859713492745   \n",
       "Br1007 0 Br1007 0.00151229221414746  \n",
       "Br1017 0 Br1017 -0.0241901253214436  \n",
       "Br1021 0 Br1021 0.0131832436804189   \n",
       "Br1030 0 Br1030 -0.00172888007948389 \n",
       "Br1039 0 Br1039 -0.00471474780714387 \n",
       "Br1040 0 Br1040 -0.00716453647843782 \n",
       "Br1050 0 Br1050 -0.000938153898329956\n",
       "Br1053 0 Br1053 0.00729638986531781  \n",
       "Br1054 0 Br1054 -0.00439565307940433 \n",
       "Br1056 0 Br1056 0.00066068169815256  \n",
       "Br1067 0 Br1067 -0.0258172259226818  \n",
       "Br1069 0 Br1069 0.0255041596945128   \n",
       "Br1081 0 Br1081 0.0211180139687414   \n",
       "Br1084 0 Br1084 -0.00830886651540376 \n",
       "Br1102 0 Br1102 0.00128553652649982  \n",
       "Br1122 0 Br1122 0.00587466163041392  \n",
       "Br1134 0 Br1134 -0.0046330354010935  \n",
       "Br1135 0 Br1135 0.0127700751985081   \n",
       "Br1137 0 Br1137 -0.0117736261561498  \n",
       "Br1148 0 Br1148 -0.0113642865038118  \n",
       "Br1156 0 Br1156 0.027501866002862    \n",
       "Br1157 0 Br1157 -0.0145200655295228  \n",
       "Br1160 0 Br1160 0.0033801374383902   \n",
       "Br1164 0 Br1164 0.0161224522252188   \n",
       "Br1167 0 Br1167 0.0135160309408357   \n",
       "Br1185 0 Br1185 0.000376889077938224 \n",
       "Br1187 0 Br1187 0.00371617328179472  \n",
       "Br1191 0 Br1191 -0.0169927964479289  \n",
       "⋮      ⋮ ⋮      ⋮                    \n",
       "Br2377 0 Br2377 -0.0121428522154005  \n",
       "Br2481 0 Br2481 -0.00320695229880813 \n",
       "Br2494 0 Br2494 -0.00999179075354765 \n",
       "Br2509 0 Br2509 0.00634153521015091  \n",
       "Br2513 0 Br2513 -0.00498293822405331 \n",
       "Br2539 0 Br2539 -0.00623791070954662 \n",
       "Br2543 0 Br2543 -0.0030494822659947  \n",
       "Br2585 0 Br2585 -0.02164427039057    \n",
       "Br2587 0 Br2587 -0.0216787251994833  \n",
       "Br5073 0 Br5073 0.0119759237689225   \n",
       "Br5179 0 Br5179 -0.00597252896320963 \n",
       "Br5259 0 Br5259 -0.0229488230081511  \n",
       "Br5264 0 Br5264 0.01120545904972     \n",
       "Br5295 0 Br5295 -0.0195409086789615  \n",
       "Br5323 0 Br5323 -0.00202199518731282 \n",
       "Br5330 0 Br5330 -0.0073899273299292  \n",
       "Br5426 0 Br5426 -0.0133890956685301  \n",
       "Br5460 0 Br5460 0.0120793056084751   \n",
       "Br5467 0 Br5467 -0.00740409708085273 \n",
       "Br5475 0 Br5475 -0.0234542994276765  \n",
       "Br836  0 Br836  -0.00814467380382879 \n",
       "Br845  0 Br845  0.00902921562538906  \n",
       "Br848  0 Br848  0.0208764632164206   \n",
       "Br863  0 Br863  -0.013957396929024   \n",
       "Br914  0 Br914  -0.0170167994378982  \n",
       "Br948  0 Br948  -0.0187304373210967  \n",
       "Br949  0 Br949  -0.00711440537689142 \n",
       "Br963  0 Br963  0.0116201858605473   \n",
       "Br991  0 Br991  0.0205582933112181   \n",
       "Br993  0 Br993  -0.0041470237859787  "
      ]
     },
     "metadata": {},
     "output_type": "display_data"
    }
   ],
   "source": [
    "pheno"
   ]
  },
  {
   "cell_type": "code",
   "execution_count": 29,
   "id": "dd9d8ac9-7c31-47e9-9332-2e1b8888f267",
   "metadata": {},
   "outputs": [],
   "source": [
    "write.table(pheno,\"pheno\",col.names=F,row.names=F,quote=F,sep=\"\\t\")\n",
    "# grm\n",
    "command <- paste(gcta, \"--bfile temp --make-grm-bin --out temp\", sep=\" \")\n",
    "system(command)\n",
    "# h2 estimation\n",
    "command <- paste(gcta, \"--reml --grm-bin temp --pheno pheno --mpheno 1 --qcovar covs --out temp\", sep=\" \")\n",
    "system(command)\n",
    "# collect results\n",
    "if(!file.exists(\"temp.hsq\")){\n",
    "        print(\"no temp.hsq\")\n",
    "        next;\n",
    "}"
   ]
  },
  {
   "cell_type": "code",
   "execution_count": 30,
   "id": "2d209885-d412-46fa-959a-61867466b56d",
   "metadata": {},
   "outputs": [],
   "source": [
    "temp <- read.table(\"temp.hsq\",header=T, fill=TRUE)"
   ]
  },
  {
   "cell_type": "code",
   "execution_count": 31,
   "id": "b90e3d01-e674-4d60-9194-d8f34ed7445d",
   "metadata": {},
   "outputs": [
    {
     "data": {
      "text/html": [
       "<table class=\"dataframe\">\n",
       "<caption>A data.frame: 10 × 3</caption>\n",
       "<thead>\n",
       "\t<tr><th scope=col>Source</th><th scope=col>Variance</th><th scope=col>SE</th></tr>\n",
       "\t<tr><th scope=col>&lt;chr&gt;</th><th scope=col>&lt;dbl&gt;</th><th scope=col>&lt;dbl&gt;</th></tr>\n",
       "</thead>\n",
       "<tbody>\n",
       "\t<tr><td>V(G)   </td><td>2.11500e-03</td><td>0.000924</td></tr>\n",
       "\t<tr><td>V(e)   </td><td>2.10700e-03</td><td>0.000432</td></tr>\n",
       "\t<tr><td>Vp     </td><td>4.22200e-03</td><td>0.000911</td></tr>\n",
       "\t<tr><td>V(G)/Vp</td><td>5.01021e-01</td><td>0.132368</td></tr>\n",
       "\t<tr><td>logL   </td><td>1.22306e+02</td><td>      NA</td></tr>\n",
       "\t<tr><td>logL0  </td><td>1.05058e+02</td><td>      NA</td></tr>\n",
       "\t<tr><td>LRT    </td><td>3.44950e+01</td><td>      NA</td></tr>\n",
       "\t<tr><td>df     </td><td>1.00000e+00</td><td>      NA</td></tr>\n",
       "\t<tr><td>Pval   </td><td>2.13620e-09</td><td>      NA</td></tr>\n",
       "\t<tr><td>n      </td><td>8.90000e+01</td><td>      NA</td></tr>\n",
       "</tbody>\n",
       "</table>\n"
      ],
      "text/latex": [
       "A data.frame: 10 × 3\n",
       "\\begin{tabular}{lll}\n",
       " Source & Variance & SE\\\\\n",
       " <chr> & <dbl> & <dbl>\\\\\n",
       "\\hline\n",
       "\t V(G)    & 2.11500e-03 & 0.000924\\\\\n",
       "\t V(e)    & 2.10700e-03 & 0.000432\\\\\n",
       "\t Vp      & 4.22200e-03 & 0.000911\\\\\n",
       "\t V(G)/Vp & 5.01021e-01 & 0.132368\\\\\n",
       "\t logL    & 1.22306e+02 &       NA\\\\\n",
       "\t logL0   & 1.05058e+02 &       NA\\\\\n",
       "\t LRT     & 3.44950e+01 &       NA\\\\\n",
       "\t df      & 1.00000e+00 &       NA\\\\\n",
       "\t Pval    & 2.13620e-09 &       NA\\\\\n",
       "\t n       & 8.90000e+01 &       NA\\\\\n",
       "\\end{tabular}\n"
      ],
      "text/markdown": [
       "\n",
       "A data.frame: 10 × 3\n",
       "\n",
       "| Source &lt;chr&gt; | Variance &lt;dbl&gt; | SE &lt;dbl&gt; |\n",
       "|---|---|---|\n",
       "| V(G)    | 2.11500e-03 | 0.000924 |\n",
       "| V(e)    | 2.10700e-03 | 0.000432 |\n",
       "| Vp      | 4.22200e-03 | 0.000911 |\n",
       "| V(G)/Vp | 5.01021e-01 | 0.132368 |\n",
       "| logL    | 1.22306e+02 |       NA |\n",
       "| logL0   | 1.05058e+02 |       NA |\n",
       "| LRT     | 3.44950e+01 |       NA |\n",
       "| df      | 1.00000e+00 |       NA |\n",
       "| Pval    | 2.13620e-09 |       NA |\n",
       "| n       | 8.90000e+01 |       NA |\n",
       "\n"
      ],
      "text/plain": [
       "   Source  Variance    SE      \n",
       "1  V(G)    2.11500e-03 0.000924\n",
       "2  V(e)    2.10700e-03 0.000432\n",
       "3  Vp      4.22200e-03 0.000911\n",
       "4  V(G)/Vp 5.01021e-01 0.132368\n",
       "5  logL    1.22306e+02       NA\n",
       "6  logL0   1.05058e+02       NA\n",
       "7  LRT     3.44950e+01       NA\n",
       "8  df      1.00000e+00       NA\n",
       "9  Pval    2.13620e-09       NA\n",
       "10 n       8.90000e+01       NA"
      ]
     },
     "metadata": {},
     "output_type": "display_data"
    }
   ],
   "source": [
    "temp"
   ]
  },
  {
   "cell_type": "code",
   "execution_count": 32,
   "id": "6551f463-eff4-4556-b961-e4d36e8910c1",
   "metadata": {},
   "outputs": [],
   "source": [
    "vmr <- paste0(\"chr\",chr,\"_\",vmrs2[i,2],\"_\",vmrs2[i,3])"
   ]
  },
  {
   "cell_type": "code",
   "execution_count": 34,
   "id": "db64b266-7aac-48cc-8480-2f02647332bc",
   "metadata": {},
   "outputs": [
    {
     "data": {
      "text/html": [
       "'chr1_1244000_1244681'"
      ],
      "text/latex": [
       "'chr1\\_1244000\\_1244681'"
      ],
      "text/markdown": [
       "'chr1_1244000_1244681'"
      ],
      "text/plain": [
       "[1] \"chr1_1244000_1244681\""
      ]
     },
     "metadata": {},
     "output_type": "display_data"
    }
   ],
   "source": [
    "vmr"
   ]
  },
  {
   "cell_type": "code",
   "execution_count": 32,
   "id": "900269c4-72ba-40cf-b87a-7f0e9e0eac67",
   "metadata": {},
   "outputs": [],
   "source": [
    "temp$vmr <- vmr\n",
    "temp$wind <- wind[w]\n",
    "res <- rbind(res,temp)"
   ]
  },
  {
   "cell_type": "code",
   "execution_count": null,
   "id": "c3f72098-527c-4f56-ba37-48b883c944b5",
   "metadata": {},
   "outputs": [],
   "source": [
    "# remove temp files\n",
    "system(\"rm temp*\")\n",
    "}"
   ]
  },
  {
   "cell_type": "code",
   "execution_count": null,
   "id": "2a68fac8-cc65-47ea-a496-92c84b0464e8",
   "metadata": {},
   "outputs": [],
   "source": []
  },
  {
   "cell_type": "code",
   "execution_count": null,
   "id": "ecdf73e1-b07a-4b57-a1ad-0ecd6d07fc39",
   "metadata": {},
   "outputs": [],
   "source": []
  },
  {
   "cell_type": "code",
   "execution_count": 11,
   "id": "49f64b4c-26f1-473f-b064-1ec2b1ab0401",
   "metadata": {},
   "outputs": [
    {
     "name": "stdout",
     "output_type": "stream",
     "text": [
      "1 \n",
      "/jhpce/shared/libd/core/plink/2.00a4.6/plink2 --pfile  /dcs04/lieber/statsgen/shizhong/database/libd/genotype/postmortem/topmed/merge_H650_1M_2.5M_5M/AA/all/plink/AA_chr1 --silent --keep id --chr  1 --from-bp 988114 --to-bp 1008499 --snps-only 'just-acgt' --make-bed --out temp[1] \"no temp.bim\"\n",
      "2 \n",
      "/jhpce/shared/libd/core/plink/2.00a4.6/plink2 --pfile  /dcs04/lieber/statsgen/shizhong/database/libd/genotype/postmortem/topmed/merge_H650_1M_2.5M_5M/AA/all/plink/AA_chr1 --silent --keep id --chr  1 --from-bp 1003950 --to-bp 1024316 --snps-only 'just-acgt' --make-bed --out temp[1] \"no temp.bim\"\n",
      "3 \n",
      "/jhpce/shared/libd/core/plink/2.00a4.6/plink2 --pfile  /dcs04/lieber/statsgen/shizhong/database/libd/genotype/postmortem/topmed/merge_H650_1M_2.5M_5M/AA/all/plink/AA_chr1 --silent --keep id --chr  1 --from-bp 1013551 --to-bp 1035300 --snps-only 'just-acgt' --make-bed --out temp[1] \"no temp.bim\"\n",
      "4 \n",
      "/jhpce/shared/libd/core/plink/2.00a4.6/plink2 --pfile  /dcs04/lieber/statsgen/shizhong/database/libd/genotype/postmortem/topmed/merge_H650_1M_2.5M_5M/AA/all/plink/AA_chr1 --silent --keep id --chr  1 --from-bp 1024284 --to-bp 1044680 --snps-only 'just-acgt' --make-bed --out temp[1] \"no temp.bim\"\n",
      "5 \n",
      "/jhpce/shared/libd/core/plink/2.00a4.6/plink2 --pfile  /dcs04/lieber/statsgen/shizhong/database/libd/genotype/postmortem/topmed/merge_H650_1M_2.5M_5M/AA/all/plink/AA_chr1 --silent --keep id --chr  1 --from-bp 1029541 --to-bp 1050148 --snps-only 'just-acgt' --make-bed --out temp[1] \"no temp.bim\"\n",
      "6 \n",
      "/jhpce/shared/libd/core/plink/2.00a4.6/plink2 --pfile  /dcs04/lieber/statsgen/shizhong/database/libd/genotype/postmortem/topmed/merge_H650_1M_2.5M_5M/AA/all/plink/AA_chr1 --silent --keep id --chr  1 --from-bp 1130761 --to-bp 1151016 --snps-only 'just-acgt' --make-bed --out temp7 \n",
      "/jhpce/shared/libd/core/plink/2.00a4.6/plink2 --pfile  /dcs04/lieber/statsgen/shizhong/database/libd/genotype/postmortem/topmed/merge_H650_1M_2.5M_5M/AA/all/plink/AA_chr1 --silent --keep id --chr  1 --from-bp 1164193 --to-bp 1184621 --snps-only 'just-acgt' --make-bed --out temp8 \n",
      "/jhpce/shared/libd/core/plink/2.00a4.6/plink2 --pfile  /dcs04/lieber/statsgen/shizhong/database/libd/genotype/postmortem/topmed/merge_H650_1M_2.5M_5M/AA/all/plink/AA_chr1 --silent --keep id --chr  1 --from-bp 1175041 --to-bp 1195666 --snps-only 'just-acgt' --make-bed --out temp9 \n",
      "/jhpce/shared/libd/core/plink/2.00a4.6/plink2 --pfile  /dcs04/lieber/statsgen/shizhong/database/libd/genotype/postmortem/topmed/merge_H650_1M_2.5M_5M/AA/all/plink/AA_chr1 --silent --keep id --chr  1 --from-bp 1202849 --to-bp 1223033 --snps-only 'just-acgt' --make-bed --out temp10 \n",
      "/jhpce/shared/libd/core/plink/2.00a4.6/plink2 --pfile  /dcs04/lieber/statsgen/shizhong/database/libd/genotype/postmortem/topmed/merge_H650_1M_2.5M_5M/AA/all/plink/AA_chr1 --silent --keep id --chr  1 --from-bp 1234000 --to-bp 1254681 --snps-only 'just-acgt' --make-bed --out temp"
     ]
    }
   ],
   "source": [
    "# loop over vmr between two chunks\n",
    "res <- c()\n",
    "for(i in chunk1:chunk2){\n",
    "        cat(i,\"\\n\")\n",
    "        chr <- gsub(\"chr\",\"\",vmrs2[i,1])\n",
    "        # loop over each window size\n",
    "        for(w in 1:length(wind)){\n",
    "        # plink subset\n",
    "        p1 <- ifelse(vmrs2[i,2] - wind[w] > 0, vmrs2[i,2] - wind[w],0)\n",
    "        p2 <- vmrs2[i,3] + wind[w]\n",
    "        gwas_prefix <- paste0(gwas,\"AA_chr\",chr)\n",
    "        command <- paste(\"/jhpce/shared/libd/core/plink/2.00a4.6/plink2 --pfile \", gwas_prefix, \"--silent --keep id\", \"--chr \",chr,\"--from-bp\",p1,\"--to-bp\",p2,\"--snps-only 'just-acgt' --make-bed --out temp\",sep=\" \")\n",
    "        cat(command)\n",
    "        system(command)\n",
    "        if(!file.exists(\"temp.bim\")){\n",
    "                print(\"no temp.bim\")\n",
    "                next;\n",
    "        }\n",
    "        # phenotype file \n",
    "        pheno <- cbind(0,id,p[,i])\n",
    "        write.table(pheno,\"pheno\",col.names=F,row.names=F,quote=F,sep=\"\\t\")\n",
    "        # grm\n",
    "        command <- paste(gcta, \"--bfile temp --make-grm-bin --out temp\", sep=\" \")\n",
    "        system(command)\n",
    "        # h2 estimation\n",
    "        command <- paste(gcta, \"--reml --grm-bin temp --pheno pheno --mpheno 1 --qcovar covs --out temp\", sep=\" \")\n",
    "        system(command)\n",
    "        # collect results\n",
    "        if(!file.exists(\"temp.hsq\")){\n",
    "                print(\"no temp.hsq\")\n",
    "                next;\n",
    "        }\n",
    "        temp <- read.table(\"temp.hsq\",header=T, fill=TRUE)\n",
    "        vmr <- paste0(\"chr\",chr,\"_\",vmrs2[i,2],\"_\",vmrs2[i,3])\n",
    "        temp$vmr <- vmr\n",
    "        temp$wind <- wind[w]\n",
    "        res <- rbind(res,temp)\n",
    "        # remove temp files\n",
    "        system(\"rm temp*\")\n",
    "        }\n",
    "\n",
    "}\n",
    "write.table(res,\"res.txt\",col.names=T,row.names=F,quote=F,sep=\"\\t\")"
   ]
  },
  {
   "cell_type": "code",
   "execution_count": 12,
   "id": "c43a020a-e6c4-4a64-900a-e7715fee6d07",
   "metadata": {},
   "outputs": [
    {
     "data": {
      "text/html": [
       "<table class=\"dataframe\">\n",
       "<caption>A data.frame: 10 × 5</caption>\n",
       "<thead>\n",
       "\t<tr><th scope=col>Source</th><th scope=col>Variance</th><th scope=col>SE</th><th scope=col>vmr</th><th scope=col>wind</th></tr>\n",
       "\t<tr><th scope=col>&lt;chr&gt;</th><th scope=col>&lt;dbl&gt;</th><th scope=col>&lt;dbl&gt;</th><th scope=col>&lt;chr&gt;</th><th scope=col>&lt;dbl&gt;</th></tr>\n",
       "</thead>\n",
       "<tbody>\n",
       "\t<tr><td>V(G)   </td><td>2.11500e-03</td><td>0.000924</td><td>chr1_1244000_1244681</td><td>10000</td></tr>\n",
       "\t<tr><td>V(e)   </td><td>2.10700e-03</td><td>0.000432</td><td>chr1_1244000_1244681</td><td>10000</td></tr>\n",
       "\t<tr><td>Vp     </td><td>4.22200e-03</td><td>0.000911</td><td>chr1_1244000_1244681</td><td>10000</td></tr>\n",
       "\t<tr><td>V(G)/Vp</td><td>5.01021e-01</td><td>0.132368</td><td>chr1_1244000_1244681</td><td>10000</td></tr>\n",
       "\t<tr><td>logL   </td><td>1.22306e+02</td><td>      NA</td><td>chr1_1244000_1244681</td><td>10000</td></tr>\n",
       "\t<tr><td>logL0  </td><td>1.05058e+02</td><td>      NA</td><td>chr1_1244000_1244681</td><td>10000</td></tr>\n",
       "\t<tr><td>LRT    </td><td>3.44950e+01</td><td>      NA</td><td>chr1_1244000_1244681</td><td>10000</td></tr>\n",
       "\t<tr><td>df     </td><td>1.00000e+00</td><td>      NA</td><td>chr1_1244000_1244681</td><td>10000</td></tr>\n",
       "\t<tr><td>Pval   </td><td>2.13620e-09</td><td>      NA</td><td>chr1_1244000_1244681</td><td>10000</td></tr>\n",
       "\t<tr><td>n      </td><td>8.90000e+01</td><td>      NA</td><td>chr1_1244000_1244681</td><td>10000</td></tr>\n",
       "</tbody>\n",
       "</table>\n"
      ],
      "text/latex": [
       "A data.frame: 10 × 5\n",
       "\\begin{tabular}{lllll}\n",
       " Source & Variance & SE & vmr & wind\\\\\n",
       " <chr> & <dbl> & <dbl> & <chr> & <dbl>\\\\\n",
       "\\hline\n",
       "\t V(G)    & 2.11500e-03 & 0.000924 & chr1\\_1244000\\_1244681 & 10000\\\\\n",
       "\t V(e)    & 2.10700e-03 & 0.000432 & chr1\\_1244000\\_1244681 & 10000\\\\\n",
       "\t Vp      & 4.22200e-03 & 0.000911 & chr1\\_1244000\\_1244681 & 10000\\\\\n",
       "\t V(G)/Vp & 5.01021e-01 & 0.132368 & chr1\\_1244000\\_1244681 & 10000\\\\\n",
       "\t logL    & 1.22306e+02 &       NA & chr1\\_1244000\\_1244681 & 10000\\\\\n",
       "\t logL0   & 1.05058e+02 &       NA & chr1\\_1244000\\_1244681 & 10000\\\\\n",
       "\t LRT     & 3.44950e+01 &       NA & chr1\\_1244000\\_1244681 & 10000\\\\\n",
       "\t df      & 1.00000e+00 &       NA & chr1\\_1244000\\_1244681 & 10000\\\\\n",
       "\t Pval    & 2.13620e-09 &       NA & chr1\\_1244000\\_1244681 & 10000\\\\\n",
       "\t n       & 8.90000e+01 &       NA & chr1\\_1244000\\_1244681 & 10000\\\\\n",
       "\\end{tabular}\n"
      ],
      "text/markdown": [
       "\n",
       "A data.frame: 10 × 5\n",
       "\n",
       "| Source &lt;chr&gt; | Variance &lt;dbl&gt; | SE &lt;dbl&gt; | vmr &lt;chr&gt; | wind &lt;dbl&gt; |\n",
       "|---|---|---|---|---|\n",
       "| V(G)    | 2.11500e-03 | 0.000924 | chr1_1244000_1244681 | 10000 |\n",
       "| V(e)    | 2.10700e-03 | 0.000432 | chr1_1244000_1244681 | 10000 |\n",
       "| Vp      | 4.22200e-03 | 0.000911 | chr1_1244000_1244681 | 10000 |\n",
       "| V(G)/Vp | 5.01021e-01 | 0.132368 | chr1_1244000_1244681 | 10000 |\n",
       "| logL    | 1.22306e+02 |       NA | chr1_1244000_1244681 | 10000 |\n",
       "| logL0   | 1.05058e+02 |       NA | chr1_1244000_1244681 | 10000 |\n",
       "| LRT     | 3.44950e+01 |       NA | chr1_1244000_1244681 | 10000 |\n",
       "| df      | 1.00000e+00 |       NA | chr1_1244000_1244681 | 10000 |\n",
       "| Pval    | 2.13620e-09 |       NA | chr1_1244000_1244681 | 10000 |\n",
       "| n       | 8.90000e+01 |       NA | chr1_1244000_1244681 | 10000 |\n",
       "\n"
      ],
      "text/plain": [
       "   Source  Variance    SE       vmr                  wind \n",
       "1  V(G)    2.11500e-03 0.000924 chr1_1244000_1244681 10000\n",
       "2  V(e)    2.10700e-03 0.000432 chr1_1244000_1244681 10000\n",
       "3  Vp      4.22200e-03 0.000911 chr1_1244000_1244681 10000\n",
       "4  V(G)/Vp 5.01021e-01 0.132368 chr1_1244000_1244681 10000\n",
       "5  logL    1.22306e+02       NA chr1_1244000_1244681 10000\n",
       "6  logL0   1.05058e+02       NA chr1_1244000_1244681 10000\n",
       "7  LRT     3.44950e+01       NA chr1_1244000_1244681 10000\n",
       "8  df      1.00000e+00       NA chr1_1244000_1244681 10000\n",
       "9  Pval    2.13620e-09       NA chr1_1244000_1244681 10000\n",
       "10 n       8.90000e+01       NA chr1_1244000_1244681 10000"
      ]
     },
     "metadata": {},
     "output_type": "display_data"
    }
   ],
   "source": [
    "temp"
   ]
  },
  {
   "cell_type": "code",
   "execution_count": null,
   "id": "1bee04e8-1976-46ee-9483-a917371f844e",
   "metadata": {},
   "outputs": [],
   "source": []
  }
 ],
 "metadata": {
  "kernelspec": {
   "display_name": "R",
   "language": "R",
   "name": "ir"
  },
  "language_info": {
   "codemirror_mode": "r",
   "file_extension": ".r",
   "mimetype": "text/x-r-source",
   "name": "R",
   "pygments_lexer": "r",
   "version": "4.3.1"
  }
 },
 "nbformat": 4,
 "nbformat_minor": 5
}
