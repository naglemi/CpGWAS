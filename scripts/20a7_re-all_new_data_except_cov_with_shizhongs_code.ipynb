{
 "cells": [
  {
   "cell_type": "markdown",
   "id": "bf56f1cb-692a-4f54-b026-99e8075d50e8",
   "metadata": {},
   "source": [
    "# Compare MWAS methods for sanity tests and troubleshooting"
   ]
  },
  {
   "cell_type": "markdown",
   "id": "dc17d619-945e-4221-8ba7-c4c36fa56efe",
   "metadata": {},
   "source": [
    "In this version, we use the full new SNP set with a selected window"
   ]
  },
  {
   "cell_type": "markdown",
   "id": "ca2a80fb-d548-4157-b585-cd5cf6a471d2",
   "metadata": {},
   "source": [
    "# Pick the regions we will test"
   ]
  },
  {
   "cell_type": "code",
   "execution_count": 1,
   "id": "36f713c6-9673-42fe-b9d9-2010f414deda",
   "metadata": {},
   "outputs": [],
   "source": [
    "library(data.table)\n",
    "\n",
    "prev_hits <- fread(\"\n",
    "Chr     pos        old_z       old_p\n",
    "11   38247902        -27.1535308285104       2.30024742330298e-162\n",
    "2    47933357        18.3327793004811        4.53147699327216e-75\n",
    "7    1987910         10.1255085321387        4.25759742738181e-24\n",
    "7    1987896         10.1255085321387        4.25759742738189e-24\n",
    "7    1987797         10.0241523897721        1.19379483108027e-23\n",
    "7    1987778         10.0105851568856        1.36940148731912e-23\n",
    "12   2194742         -10.0072634920486       1.41615523554955e-23\n",
    "\")\n"
   ]
  },
  {
   "cell_type": "code",
   "execution_count": 2,
   "id": "ed1b7512-ee13-4f4e-9a6b-da40e521c346",
   "metadata": {},
   "outputs": [],
   "source": [
    "#df <- fread(\"09.5-OUT_matched_SNP_meth_cov_chunked_EXPANSE_a2.csv\")"
   ]
  },
  {
   "cell_type": "code",
   "execution_count": 3,
   "id": "c6034757-2d3c-43d3-aa16-70baa5169549",
   "metadata": {},
   "outputs": [],
   "source": [
    "df <- fread(\"09-OUT_matched_SNP_meth_cov_a2.csv\")"
   ]
  },
  {
   "cell_type": "markdown",
   "id": "d7711c4d-5f19-4fd0-9f7b-891133ac3311",
   "metadata": {},
   "source": [
    "## Try original code"
   ]
  },
  {
   "cell_type": "code",
   "execution_count": 4,
   "id": "be729eb2-c5b2-4d3e-b835-072d8f5ba2e6",
   "metadata": {},
   "outputs": [],
   "source": [
    "###### model: learn elastic net model on training data \n",
    "######---------Input: trainX, trainY\n",
    "######---------Return: selected features and coefficents\n",
    "\n",
    "# original\n",
    "elastic.net <- function(trainX,trainY){\n",
    "    if(nrow(trainX)!=length(trainY)){\n",
    "            stop(\"Number of observations is differerent\")\n",
    "    } \n",
    "\n",
    "    # optimize alpha---mixing parameter  \n",
    "    a <- 0.5\n",
    "    search <- foreach(ai = a, .combine = rbind) %dopar% {\n",
    "        cv.fit <- cv.glmnet(\n",
    "                        trainX,\n",
    "                        trainY,\n",
    "                        nfold = 5,\n",
    "                        type.measure = \"mse\",\n",
    "                        paralle = TRUE,\n",
    "                        alpha = ai\n",
    "                        )\n",
    "        data.frame(\n",
    "                        cvm = min(cv.fit$cvm),\n",
    "                        lambda = cv.fit$lambda.min,\n",
    "                        alpha = ai\n",
    "                        )\n",
    "        } \n",
    "    cv.opt <- search[search$cvm == min(search$cvm),] \n",
    "\n",
    "        # fit model by optimized alpha and lambda\n",
    "        yfit = glmnet(\n",
    "        trainX,\n",
    "        trainY,\n",
    "        lambda = cv.opt$lambda,\n",
    "        alpha = cv.opt$alpha\n",
    "                )       \n",
    "        idf <- coef(yfit)\n",
    "        idx <- which(idf != 0)\n",
    "        selectf <- data.frame(\n",
    "                features = idf@Dimnames[[1]][idx], \n",
    "                coefs = idf [idx]\n",
    "        )\n",
    "}\n",
    "\n",
    "# modified to use lambda 1se and appropriate cvm\n",
    "elastic.net <- function(trainX,trainY){\n",
    "    if(nrow(trainX)!=length(trainY)){\n",
    "            stop(\"Number of observations is differerent\")\n",
    "    } \n",
    "\n",
    "    # optimize alpha---mixing parameter  \n",
    "    a <- 0.5\n",
    "    search <- foreach(ai = a, .combine = rbind) %dopar% {\n",
    "        set.seed(42)\n",
    "        cv.fit <- cv.glmnet(\n",
    "                        trainX,\n",
    "                        trainY,\n",
    "                        nfold = 5,\n",
    "                        type.measure = \"mse\",\n",
    "                        paralle = TRUE,\n",
    "                        alpha = ai\n",
    "                        )\n",
    "        print(paste0(\"Dim of trainX: \", dim(trainX)))\n",
    "        print(paste0(\"Len of trainY: \", length(trainY)))\n",
    "        coef_matrix <- as.matrix(coef(cv.fit))\n",
    "\n",
    "        non_zero_coefs <- coef_matrix[coef_matrix != 0, , drop = FALSE]\n",
    "        print(\"Coefficients when fitting: \")\n",
    "        print(non_zero_coefs)\n",
    "\n",
    "        data.frame(\n",
    "                        cvm = cv.fit$cvm[cv.fit$lambda == cv.fit$lambda.1se],\n",
    "                        lambda = cv.fit$lambda.1se,\n",
    "                        alpha = ai\n",
    "                        )\n",
    "        } \n",
    "    cv.opt <- search[search$cvm == min(search$cvm),] \n",
    "\n",
    "        # fit model by optimized alpha and lambda\n",
    "    set.seed(42)\n",
    "    yfit <- glmnet(\n",
    "    trainX,\n",
    "    trainY,\n",
    "    lambda = cv.opt$lambda,\n",
    "    alpha = cv.opt$alpha)\n",
    "\n",
    "    coef_matrix <- as.matrix(coef(yfit))\n",
    "\n",
    "    non_zero_coefs <- coef_matrix[coef_matrix != 0, , drop = FALSE]\n",
    "    print(\"Coefficients when optimal: \")\n",
    "    print(non_zero_coefs)\n",
    "\n",
    "    idf <- coef(yfit)\n",
    "    idx <- which(idf != 0)\n",
    "    selectf <- data.frame(\n",
    "            features = idf@Dimnames[[1]][idx], \n",
    "            coefs = idf [idx]\n",
    "    )\n",
    "}\n",
    "\n",
    "MWAS <- function(gwas, weight, geno){\n",
    "        z <- gwas %*% weight\n",
    "        z.cor <- cor(geno)\n",
    "        se <- sqrt(weight %*%  z.cor %*%  weight)\n",
    "        z <- z/se\n",
    "        p=pnorm(abs(z),lower.tail=F)*2\n",
    "        return(c(z, p))\n",
    "}"
   ]
  },
  {
   "cell_type": "code",
   "execution_count": 5,
   "id": "9821a860-2a97-4a7b-bfca-6e8abd96bf8a",
   "metadata": {},
   "outputs": [],
   "source": [
    "df <- df[which(df$Chr == 7), ]"
   ]
  },
  {
   "cell_type": "code",
   "execution_count": 6,
   "id": "a023b2df-92e9-414d-a2e5-a8c6d3193954",
   "metadata": {},
   "outputs": [],
   "source": [
    "i <- 2"
   ]
  },
  {
   "cell_type": "code",
   "execution_count": 7,
   "id": "22de2603-481a-4995-8991-1f6f64989e3d",
   "metadata": {},
   "outputs": [
    {
     "name": "stderr",
     "output_type": "stream",
     "text": [
      "Loading required package: Matrix\n",
      "\n",
      "Loaded glmnet 4.1-8\n",
      "\n",
      "Loading required package: foreach\n",
      "\n",
      "Loading required package: iterators\n",
      "\n",
      "Loading required package: parallel\n",
      "\n"
     ]
    }
   ],
   "source": [
    "library(\"glmnet\")\n",
    "library(\"e1071\")\n",
    "library(\"doParallel\")\n",
    "\n",
    "set.seed(2018)\n",
    "wind <- c(5000,10000)\n",
    "# output directory\n",
    "#outd <- \"/dcl02/lieber/shan/shizhong/finemapping/GWAS/tags/scz3/mwas/chr22/1/\"\n",
    "outd <- \"20-OUT_original_mwas_sanity_test/\""
   ]
  },
  {
   "cell_type": "markdown",
   "id": "3a0ea432-3ac3-4077-ae61-c3a029004096",
   "metadata": {},
   "source": [
    "## Replace all old objects with new objects in same format (except covariates)"
   ]
  },
  {
   "cell_type": "code",
   "execution_count": 8,
   "id": "44f6b191-a277-4bb2-96ec-88025728ee70",
   "metadata": {},
   "outputs": [
    {
     "name": "stdout",
     "output_type": "stream",
     "text": [
      "Loading objects:\n",
      "  snp.gwas2\n",
      "  snp.1kg.eur2\n",
      "  map.1kg.eur2\n",
      "  snp2\n",
      "  map2\n",
      "  p\n",
      "  BSsample\n"
     ]
    }
   ],
   "source": [
    "load(\"p1.rda\", verbose = TRUE)"
   ]
  },
  {
   "cell_type": "markdown",
   "id": "8d8ae611-77d5-4c54-b82f-81be2e4472b4",
   "metadata": {},
   "source": [
    "### SNPs"
   ]
  },
  {
   "cell_type": "code",
   "execution_count": 9,
   "id": "fa539e6c-8df5-43e1-8378-dc52d75f0fd0",
   "metadata": {},
   "outputs": [
    {
     "data": {
      "text/html": [
       "<table class=\"dataframe\">\n",
       "<caption>A matrix: 10 × 10 of type dbl</caption>\n",
       "<tbody>\n",
       "\t<tr><th scope=row>1980077</th><td>0.9623693</td><td>0.9533113</td><td>0.9488137</td><td>0.9382598</td><td>0.9446401</td><td>0.9215182</td><td>0.9263652</td><td>0.9588217</td><td>0.9330597</td><td>0.9588301</td></tr>\n",
       "\t<tr><th scope=row>1980101</th><td>0.9623933</td><td>0.9536637</td><td>0.9487929</td><td>0.9372716</td><td>0.9453945</td><td>0.9216584</td><td>0.9256115</td><td>0.9593576</td><td>0.9326077</td><td>0.9595451</td></tr>\n",
       "\t<tr><th scope=row>1980129</th><td>0.9623260</td><td>0.9543107</td><td>0.9485887</td><td>0.9362757</td><td>0.9460740</td><td>0.9218622</td><td>0.9248481</td><td>0.9598699</td><td>0.9323198</td><td>0.9601973</td></tr>\n",
       "\t<tr><th scope=row>1980136</th><td>0.9622831</td><td>0.9545096</td><td>0.9484938</td><td>0.9360728</td><td>0.9462013</td><td>0.9219193</td><td>0.9247144</td><td>0.9599708</td><td>0.9323138</td><td>0.9603281</td></tr>\n",
       "\t<tr><th scope=row>1980145</th><td>0.9622125</td><td>0.9547853</td><td>0.9483458</td><td>0.9358404</td><td>0.9463407</td><td>0.9219962</td><td>0.9245785</td><td>0.9600847</td><td>0.9323456</td><td>0.9604767</td></tr>\n",
       "\t<tr><th scope=row>1980179</th><td>0.9617977</td><td>0.9560054</td><td>0.9475364</td><td>0.9352418</td><td>0.9466390</td><td>0.9223291</td><td>0.9244150</td><td>0.9603628</td><td>0.9328418</td><td>0.9608582</td></tr>\n",
       "\t<tr><th scope=row>1980183</th><td>0.9617343</td><td>0.9561653</td><td>0.9474163</td><td>0.9351995</td><td>0.9466520</td><td>0.9223756</td><td>0.9244306</td><td>0.9603806</td><td>0.9329368</td><td>0.9608897</td></tr>\n",
       "\t<tr><th scope=row>1980193</th><td>0.9615631</td><td>0.9565781</td><td>0.9470942</td><td>0.9351188</td><td>0.9466655</td><td>0.9224991</td><td>0.9244996</td><td>0.9604121</td><td>0.9332054</td><td>0.9609580</td></tr>\n",
       "\t<tr><th scope=row>1980205</th><td>0.9613345</td><td>0.9570958</td><td>0.9466676</td><td>0.9350679</td><td>0.9466476</td><td>0.9226612</td><td>0.9246379</td><td>0.9604260</td><td>0.9335838</td><td>0.9610206</td></tr>\n",
       "\t<tr><th scope=row>1980239</th><td>0.9605591</td><td>0.9586691</td><td>0.9452337</td><td>0.9351803</td><td>0.9464118</td><td>0.9231993</td><td>0.9253325</td><td>0.9603334</td><td>0.9349537</td><td>0.9610909</td></tr>\n",
       "</tbody>\n",
       "</table>\n"
      ],
      "text/latex": [
       "A matrix: 10 × 10 of type dbl\n",
       "\\begin{tabular}{r|llllllllll}\n",
       "\t1980077 & 0.9623693 & 0.9533113 & 0.9488137 & 0.9382598 & 0.9446401 & 0.9215182 & 0.9263652 & 0.9588217 & 0.9330597 & 0.9588301\\\\\n",
       "\t1980101 & 0.9623933 & 0.9536637 & 0.9487929 & 0.9372716 & 0.9453945 & 0.9216584 & 0.9256115 & 0.9593576 & 0.9326077 & 0.9595451\\\\\n",
       "\t1980129 & 0.9623260 & 0.9543107 & 0.9485887 & 0.9362757 & 0.9460740 & 0.9218622 & 0.9248481 & 0.9598699 & 0.9323198 & 0.9601973\\\\\n",
       "\t1980136 & 0.9622831 & 0.9545096 & 0.9484938 & 0.9360728 & 0.9462013 & 0.9219193 & 0.9247144 & 0.9599708 & 0.9323138 & 0.9603281\\\\\n",
       "\t1980145 & 0.9622125 & 0.9547853 & 0.9483458 & 0.9358404 & 0.9463407 & 0.9219962 & 0.9245785 & 0.9600847 & 0.9323456 & 0.9604767\\\\\n",
       "\t1980179 & 0.9617977 & 0.9560054 & 0.9475364 & 0.9352418 & 0.9466390 & 0.9223291 & 0.9244150 & 0.9603628 & 0.9328418 & 0.9608582\\\\\n",
       "\t1980183 & 0.9617343 & 0.9561653 & 0.9474163 & 0.9351995 & 0.9466520 & 0.9223756 & 0.9244306 & 0.9603806 & 0.9329368 & 0.9608897\\\\\n",
       "\t1980193 & 0.9615631 & 0.9565781 & 0.9470942 & 0.9351188 & 0.9466655 & 0.9224991 & 0.9244996 & 0.9604121 & 0.9332054 & 0.9609580\\\\\n",
       "\t1980205 & 0.9613345 & 0.9570958 & 0.9466676 & 0.9350679 & 0.9466476 & 0.9226612 & 0.9246379 & 0.9604260 & 0.9335838 & 0.9610206\\\\\n",
       "\t1980239 & 0.9605591 & 0.9586691 & 0.9452337 & 0.9351803 & 0.9464118 & 0.9231993 & 0.9253325 & 0.9603334 & 0.9349537 & 0.9610909\\\\\n",
       "\\end{tabular}\n"
      ],
      "text/markdown": [
       "\n",
       "A matrix: 10 × 10 of type dbl\n",
       "\n",
       "| 1980077 | 0.9623693 | 0.9533113 | 0.9488137 | 0.9382598 | 0.9446401 | 0.9215182 | 0.9263652 | 0.9588217 | 0.9330597 | 0.9588301 |\n",
       "| 1980101 | 0.9623933 | 0.9536637 | 0.9487929 | 0.9372716 | 0.9453945 | 0.9216584 | 0.9256115 | 0.9593576 | 0.9326077 | 0.9595451 |\n",
       "| 1980129 | 0.9623260 | 0.9543107 | 0.9485887 | 0.9362757 | 0.9460740 | 0.9218622 | 0.9248481 | 0.9598699 | 0.9323198 | 0.9601973 |\n",
       "| 1980136 | 0.9622831 | 0.9545096 | 0.9484938 | 0.9360728 | 0.9462013 | 0.9219193 | 0.9247144 | 0.9599708 | 0.9323138 | 0.9603281 |\n",
       "| 1980145 | 0.9622125 | 0.9547853 | 0.9483458 | 0.9358404 | 0.9463407 | 0.9219962 | 0.9245785 | 0.9600847 | 0.9323456 | 0.9604767 |\n",
       "| 1980179 | 0.9617977 | 0.9560054 | 0.9475364 | 0.9352418 | 0.9466390 | 0.9223291 | 0.9244150 | 0.9603628 | 0.9328418 | 0.9608582 |\n",
       "| 1980183 | 0.9617343 | 0.9561653 | 0.9474163 | 0.9351995 | 0.9466520 | 0.9223756 | 0.9244306 | 0.9603806 | 0.9329368 | 0.9608897 |\n",
       "| 1980193 | 0.9615631 | 0.9565781 | 0.9470942 | 0.9351188 | 0.9466655 | 0.9224991 | 0.9244996 | 0.9604121 | 0.9332054 | 0.9609580 |\n",
       "| 1980205 | 0.9613345 | 0.9570958 | 0.9466676 | 0.9350679 | 0.9466476 | 0.9226612 | 0.9246379 | 0.9604260 | 0.9335838 | 0.9610206 |\n",
       "| 1980239 | 0.9605591 | 0.9586691 | 0.9452337 | 0.9351803 | 0.9464118 | 0.9231993 | 0.9253325 | 0.9603334 | 0.9349537 | 0.9610909 |\n",
       "\n"
      ],
      "text/plain": [
       "        [,1]      [,2]      [,3]      [,4]      [,5]      [,6]      [,7]     \n",
       "1980077 0.9623693 0.9533113 0.9488137 0.9382598 0.9446401 0.9215182 0.9263652\n",
       "1980101 0.9623933 0.9536637 0.9487929 0.9372716 0.9453945 0.9216584 0.9256115\n",
       "1980129 0.9623260 0.9543107 0.9485887 0.9362757 0.9460740 0.9218622 0.9248481\n",
       "1980136 0.9622831 0.9545096 0.9484938 0.9360728 0.9462013 0.9219193 0.9247144\n",
       "1980145 0.9622125 0.9547853 0.9483458 0.9358404 0.9463407 0.9219962 0.9245785\n",
       "1980179 0.9617977 0.9560054 0.9475364 0.9352418 0.9466390 0.9223291 0.9244150\n",
       "1980183 0.9617343 0.9561653 0.9474163 0.9351995 0.9466520 0.9223756 0.9244306\n",
       "1980193 0.9615631 0.9565781 0.9470942 0.9351188 0.9466655 0.9224991 0.9244996\n",
       "1980205 0.9613345 0.9570958 0.9466676 0.9350679 0.9466476 0.9226612 0.9246379\n",
       "1980239 0.9605591 0.9586691 0.9452337 0.9351803 0.9464118 0.9231993 0.9253325\n",
       "        [,8]      [,9]      [,10]    \n",
       "1980077 0.9588217 0.9330597 0.9588301\n",
       "1980101 0.9593576 0.9326077 0.9595451\n",
       "1980129 0.9598699 0.9323198 0.9601973\n",
       "1980136 0.9599708 0.9323138 0.9603281\n",
       "1980145 0.9600847 0.9323456 0.9604767\n",
       "1980179 0.9603628 0.9328418 0.9608582\n",
       "1980183 0.9603806 0.9329368 0.9608897\n",
       "1980193 0.9604121 0.9332054 0.9609580\n",
       "1980205 0.9604260 0.9335838 0.9610206\n",
       "1980239 0.9603334 0.9349537 0.9610909"
      ]
     },
     "metadata": {},
     "output_type": "display_data"
    }
   ],
   "source": [
    "p[1:10, 1:10]"
   ]
  },
  {
   "cell_type": "markdown",
   "id": "18332543-6f7a-40d8-b894-9562a6ac7457",
   "metadata": {},
   "source": [
    "### Methylation data"
   ]
  },
  {
   "cell_type": "code",
   "execution_count": 10,
   "id": "f9b051aa-a1e5-421b-856d-718cf85c24a3",
   "metadata": {
    "scrolled": true
   },
   "outputs": [
    {
     "name": "stderr",
     "output_type": "stream",
     "text": [
      "Loading required package: BiocGenerics\n",
      "\n",
      "\n",
      "Attaching package: ‘BiocGenerics’\n",
      "\n",
      "\n",
      "The following objects are masked from ‘package:stats’:\n",
      "\n",
      "    IQR, mad, sd, var, xtabs\n",
      "\n",
      "\n",
      "The following objects are masked from ‘package:base’:\n",
      "\n",
      "    anyDuplicated, aperm, append, as.data.frame, basename, cbind,\n",
      "    colnames, dirname, do.call, duplicated, eval, evalq, Filter, Find,\n",
      "    get, grep, grepl, intersect, is.unsorted, lapply, Map, mapply,\n",
      "    match, mget, order, paste, pmax, pmax.int, pmin, pmin.int,\n",
      "    Position, rank, rbind, Reduce, rownames, sapply, setdiff, sort,\n",
      "    table, tapply, union, unique, unsplit, which.max, which.min\n",
      "\n",
      "\n",
      "Loading required package: GenomicRanges\n",
      "\n",
      "Loading required package: stats4\n",
      "\n",
      "Loading required package: S4Vectors\n",
      "\n",
      "\n",
      "Attaching package: ‘S4Vectors’\n",
      "\n",
      "\n",
      "The following objects are masked from ‘package:Matrix’:\n",
      "\n",
      "    expand, unname\n",
      "\n",
      "\n",
      "The following objects are masked from ‘package:data.table’:\n",
      "\n",
      "    first, second\n",
      "\n",
      "\n",
      "The following object is masked from ‘package:utils’:\n",
      "\n",
      "    findMatches\n",
      "\n",
      "\n",
      "The following objects are masked from ‘package:base’:\n",
      "\n",
      "    expand.grid, I, unname\n",
      "\n",
      "\n",
      "Loading required package: IRanges\n",
      "\n",
      "\n",
      "Attaching package: ‘IRanges’\n",
      "\n",
      "\n",
      "The following object is masked from ‘package:data.table’:\n",
      "\n",
      "    shift\n",
      "\n",
      "\n",
      "Loading required package: GenomeInfoDb\n",
      "\n",
      "Loading required package: SummarizedExperiment\n",
      "\n",
      "Loading required package: MatrixGenerics\n",
      "\n",
      "Loading required package: matrixStats\n",
      "\n",
      "\n",
      "Attaching package: ‘MatrixGenerics’\n",
      "\n",
      "\n",
      "The following objects are masked from ‘package:matrixStats’:\n",
      "\n",
      "    colAlls, colAnyNAs, colAnys, colAvgsPerRowSet, colCollapse,\n",
      "    colCounts, colCummaxs, colCummins, colCumprods, colCumsums,\n",
      "    colDiffs, colIQRDiffs, colIQRs, colLogSumExps, colMadDiffs,\n",
      "    colMads, colMaxs, colMeans2, colMedians, colMins, colOrderStats,\n",
      "    colProds, colQuantiles, colRanges, colRanks, colSdDiffs, colSds,\n",
      "    colSums2, colTabulates, colVarDiffs, colVars, colWeightedMads,\n",
      "    colWeightedMeans, colWeightedMedians, colWeightedSds,\n",
      "    colWeightedVars, rowAlls, rowAnyNAs, rowAnys, rowAvgsPerColSet,\n",
      "    rowCollapse, rowCounts, rowCummaxs, rowCummins, rowCumprods,\n",
      "    rowCumsums, rowDiffs, rowIQRDiffs, rowIQRs, rowLogSumExps,\n",
      "    rowMadDiffs, rowMads, rowMaxs, rowMeans2, rowMedians, rowMins,\n",
      "    rowOrderStats, rowProds, rowQuantiles, rowRanges, rowRanks,\n",
      "    rowSdDiffs, rowSds, rowSums2, rowTabulates, rowVarDiffs, rowVars,\n",
      "    rowWeightedMads, rowWeightedMeans, rowWeightedMedians,\n",
      "    rowWeightedSds, rowWeightedVars\n",
      "\n",
      "\n",
      "Loading required package: Biobase\n",
      "\n",
      "Welcome to Bioconductor\n",
      "\n",
      "    Vignettes contain introductory material; view with\n",
      "    'browseVignettes()'. To cite Bioconductor, see\n",
      "    'citation(\"Biobase\")', and for packages 'citation(\"pkgname\")'.\n",
      "\n",
      "\n",
      "\n",
      "Attaching package: ‘Biobase’\n",
      "\n",
      "\n",
      "The following object is masked from ‘package:MatrixGenerics’:\n",
      "\n",
      "    rowMedians\n",
      "\n",
      "\n",
      "The following objects are masked from ‘package:matrixStats’:\n",
      "\n",
      "    anyMissing, rowMedians\n",
      "\n",
      "\n"
     ]
    }
   ],
   "source": [
    "suppressWarnings(library(bsseq))"
   ]
  },
  {
   "cell_type": "code",
   "execution_count": 11,
   "id": "e90b99cd-2b98-40e1-bd61-7814f00d9aec",
   "metadata": {},
   "outputs": [],
   "source": [
    "# load data for mwas\n",
    "# load(\"./rda/caudate_mwas_data_chr22.rda\")\n",
    "load(df$methylation_data[i])\n",
    "\n",
    "p <- getMeth(BSobj2)\n",
    "\n",
    "\n",
    "rownames(p) <- start(BSobj2)\n",
    "\n",
    "sites_to_test <- which(start(BSobj2) >= (1987910 - 500) & start(BSobj2) <= (1987910 + 500))\n",
    "p <- p[sites_to_test, ]\n",
    "\n",
    "# candidate cg\n",
    "cg <- as.numeric(rownames(p))\n",
    "\n",
    "# regress out covariates\n",
    "#load(\"covs_for_meqtl.rda\")"
   ]
  },
  {
   "cell_type": "markdown",
   "id": "6063581e-a107-4977-93d7-836f1da57078",
   "metadata": {},
   "source": [
    "### covariates"
   ]
  },
  {
   "cell_type": "code",
   "execution_count": 12,
   "id": "b8a1d474-d623-4e7c-86c2-d7bb825bdc80",
   "metadata": {},
   "outputs": [],
   "source": [
    "load(\"covs_for_meqtl.rda\")\n",
    "BSobj2$brnum <- gsub(\"Br0\", \"Br\", BSobj2$brnum)\n",
    "rownames(covs) <- gsub(\"Br0\", \"Br\", rownames(covs))\n",
    "mat <- match(BSobj2$brnum,colnames(covs)) \n",
    "covs <- t(covs[,mat])"
   ]
  },
  {
   "cell_type": "code",
   "execution_count": 13,
   "id": "b97c4761-bcc3-4da7-8624-fbff5d554c02",
   "metadata": {},
   "outputs": [
    {
     "data": {
      "text/html": [
       "<table class=\"dataframe\">\n",
       "<caption>A matrix: 6 × 33 of type dbl</caption>\n",
       "<thead>\n",
       "\t<tr><th></th><th scope=col>mds$snpPC1</th><th scope=col>mds$snpPC2</th><th scope=col>mds$snpPC3</th><th scope=col>mds$snpPC4</th><th scope=col>mds$snpPC5</th><th scope=col>PC1</th><th scope=col>PC2</th><th scope=col>PC3</th><th scope=col>PC4</th><th scope=col>PC5</th><th scope=col>⋯</th><th scope=col>PC19</th><th scope=col>PC20</th><th scope=col>PC21</th><th scope=col>PC22</th><th scope=col>PC23</th><th scope=col>PC24</th><th scope=col>PC25</th><th scope=col>PC26</th><th scope=col>PC27</th><th scope=col>PC28</th></tr>\n",
       "</thead>\n",
       "<tbody>\n",
       "\t<tr><th scope=row>Br1122</th><td> 0.0533622</td><td>-0.00493535</td><td> 0.003242520</td><td>-0.002480450</td><td>-0.00156466</td><td>-28.662568</td><td> 14.197826</td><td> -1.374641</td><td> 31.370322</td><td> 10.599321</td><td>⋯</td><td> -6.188123</td><td>  5.066481</td><td>-7.593742</td><td>14.762618</td><td> -0.999303</td><td>  7.784856</td><td> -6.750361</td><td> 0.6819553</td><td>-4.067829</td><td> 6.0399797</td></tr>\n",
       "\t<tr><th scope=row>Br2285</th><td>-0.0615293</td><td>-0.00774836</td><td> 0.002632680</td><td>-0.000332221</td><td>-0.00443067</td><td>  7.868489</td><td>  6.519323</td><td> 25.379744</td><td>  3.596101</td><td> 12.190329</td><td>⋯</td><td>  3.897745</td><td>-11.184795</td><td> 4.910411</td><td>-5.737297</td><td> 13.716783</td><td>-11.824779</td><td>  6.780192</td><td> 3.2390141</td><td> 4.800311</td><td>-2.2493247</td></tr>\n",
       "\t<tr><th scope=row>Br1764</th><td>-0.0601464</td><td>-0.00559244</td><td> 0.000477782</td><td>-0.001155650</td><td>-0.00388136</td><td> -7.209888</td><td> 17.143397</td><td> 18.170361</td><td> -2.863536</td><td>  1.119479</td><td>⋯</td><td>-10.379832</td><td>  6.763648</td><td>-2.738643</td><td>-9.204381</td><td>  5.927248</td><td> 11.778903</td><td> 16.207966</td><td>-8.3733597</td><td> 2.676408</td><td>-4.9324159</td></tr>\n",
       "\t<tr><th scope=row>Br1464</th><td> 0.0555706</td><td>-0.00321112</td><td> 0.003123790</td><td> 0.000378073</td><td>-0.00153485</td><td>-15.887979</td><td>-27.271631</td><td>-11.113779</td><td>-15.752138</td><td>  6.550067</td><td>⋯</td><td>  7.977551</td><td> 13.249212</td><td>-7.630136</td><td>-9.933193</td><td>  1.287399</td><td> -3.231867</td><td>-28.763070</td><td>-6.1366292</td><td>23.160872</td><td> 6.3218393</td></tr>\n",
       "\t<tr><th scope=row>Br5062</th><td>-0.0625893</td><td> 0.02361260</td><td>-0.000735940</td><td>-0.001957980</td><td>-0.00334107</td><td> 21.936325</td><td> 11.650100</td><td>  8.137399</td><td>-13.960197</td><td>-10.980829</td><td>⋯</td><td>  5.584715</td><td> -5.241646</td><td>-6.839111</td><td> 2.968352</td><td>-13.821436</td><td>  9.723883</td><td>  5.313466</td><td>-3.6308581</td><td> 1.554839</td><td>-5.6608910</td></tr>\n",
       "\t<tr><th scope=row>Br1446</th><td>-0.0606799</td><td>-0.00542077</td><td>-0.000522544</td><td>-0.003833690</td><td> 0.00200260</td><td> 41.136001</td><td>  7.668123</td><td>  8.333769</td><td> -6.673114</td><td>  1.862816</td><td>⋯</td><td>-11.593362</td><td> -9.878328</td><td> 5.129886</td><td>-1.385505</td><td>  8.704721</td><td>  6.655870</td><td>  3.770619</td><td> 3.5519316</td><td> 1.804099</td><td>-0.4805721</td></tr>\n",
       "</tbody>\n",
       "</table>\n"
      ],
      "text/latex": [
       "A matrix: 6 × 33 of type dbl\n",
       "\\begin{tabular}{r|lllllllllllllllllllll}\n",
       "  & mds\\$snpPC1 & mds\\$snpPC2 & mds\\$snpPC3 & mds\\$snpPC4 & mds\\$snpPC5 & PC1 & PC2 & PC3 & PC4 & PC5 & ⋯ & PC19 & PC20 & PC21 & PC22 & PC23 & PC24 & PC25 & PC26 & PC27 & PC28\\\\\n",
       "\\hline\n",
       "\tBr1122 &  0.0533622 & -0.00493535 &  0.003242520 & -0.002480450 & -0.00156466 & -28.662568 &  14.197826 &  -1.374641 &  31.370322 &  10.599321 & ⋯ &  -6.188123 &   5.066481 & -7.593742 & 14.762618 &  -0.999303 &   7.784856 &  -6.750361 &  0.6819553 & -4.067829 &  6.0399797\\\\\n",
       "\tBr2285 & -0.0615293 & -0.00774836 &  0.002632680 & -0.000332221 & -0.00443067 &   7.868489 &   6.519323 &  25.379744 &   3.596101 &  12.190329 & ⋯ &   3.897745 & -11.184795 &  4.910411 & -5.737297 &  13.716783 & -11.824779 &   6.780192 &  3.2390141 &  4.800311 & -2.2493247\\\\\n",
       "\tBr1764 & -0.0601464 & -0.00559244 &  0.000477782 & -0.001155650 & -0.00388136 &  -7.209888 &  17.143397 &  18.170361 &  -2.863536 &   1.119479 & ⋯ & -10.379832 &   6.763648 & -2.738643 & -9.204381 &   5.927248 &  11.778903 &  16.207966 & -8.3733597 &  2.676408 & -4.9324159\\\\\n",
       "\tBr1464 &  0.0555706 & -0.00321112 &  0.003123790 &  0.000378073 & -0.00153485 & -15.887979 & -27.271631 & -11.113779 & -15.752138 &   6.550067 & ⋯ &   7.977551 &  13.249212 & -7.630136 & -9.933193 &   1.287399 &  -3.231867 & -28.763070 & -6.1366292 & 23.160872 &  6.3218393\\\\\n",
       "\tBr5062 & -0.0625893 &  0.02361260 & -0.000735940 & -0.001957980 & -0.00334107 &  21.936325 &  11.650100 &   8.137399 & -13.960197 & -10.980829 & ⋯ &   5.584715 &  -5.241646 & -6.839111 &  2.968352 & -13.821436 &   9.723883 &   5.313466 & -3.6308581 &  1.554839 & -5.6608910\\\\\n",
       "\tBr1446 & -0.0606799 & -0.00542077 & -0.000522544 & -0.003833690 &  0.00200260 &  41.136001 &   7.668123 &   8.333769 &  -6.673114 &   1.862816 & ⋯ & -11.593362 &  -9.878328 &  5.129886 & -1.385505 &   8.704721 &   6.655870 &   3.770619 &  3.5519316 &  1.804099 & -0.4805721\\\\\n",
       "\\end{tabular}\n"
      ],
      "text/markdown": [
       "\n",
       "A matrix: 6 × 33 of type dbl\n",
       "\n",
       "| <!--/--> | mds$snpPC1 | mds$snpPC2 | mds$snpPC3 | mds$snpPC4 | mds$snpPC5 | PC1 | PC2 | PC3 | PC4 | PC5 | ⋯ | PC19 | PC20 | PC21 | PC22 | PC23 | PC24 | PC25 | PC26 | PC27 | PC28 |\n",
       "|---|---|---|---|---|---|---|---|---|---|---|---|---|---|---|---|---|---|---|---|---|---|\n",
       "| Br1122 |  0.0533622 | -0.00493535 |  0.003242520 | -0.002480450 | -0.00156466 | -28.662568 |  14.197826 |  -1.374641 |  31.370322 |  10.599321 | ⋯ |  -6.188123 |   5.066481 | -7.593742 | 14.762618 |  -0.999303 |   7.784856 |  -6.750361 |  0.6819553 | -4.067829 |  6.0399797 |\n",
       "| Br2285 | -0.0615293 | -0.00774836 |  0.002632680 | -0.000332221 | -0.00443067 |   7.868489 |   6.519323 |  25.379744 |   3.596101 |  12.190329 | ⋯ |   3.897745 | -11.184795 |  4.910411 | -5.737297 |  13.716783 | -11.824779 |   6.780192 |  3.2390141 |  4.800311 | -2.2493247 |\n",
       "| Br1764 | -0.0601464 | -0.00559244 |  0.000477782 | -0.001155650 | -0.00388136 |  -7.209888 |  17.143397 |  18.170361 |  -2.863536 |   1.119479 | ⋯ | -10.379832 |   6.763648 | -2.738643 | -9.204381 |   5.927248 |  11.778903 |  16.207966 | -8.3733597 |  2.676408 | -4.9324159 |\n",
       "| Br1464 |  0.0555706 | -0.00321112 |  0.003123790 |  0.000378073 | -0.00153485 | -15.887979 | -27.271631 | -11.113779 | -15.752138 |   6.550067 | ⋯ |   7.977551 |  13.249212 | -7.630136 | -9.933193 |   1.287399 |  -3.231867 | -28.763070 | -6.1366292 | 23.160872 |  6.3218393 |\n",
       "| Br5062 | -0.0625893 |  0.02361260 | -0.000735940 | -0.001957980 | -0.00334107 |  21.936325 |  11.650100 |   8.137399 | -13.960197 | -10.980829 | ⋯ |   5.584715 |  -5.241646 | -6.839111 |  2.968352 | -13.821436 |   9.723883 |   5.313466 | -3.6308581 |  1.554839 | -5.6608910 |\n",
       "| Br1446 | -0.0606799 | -0.00542077 | -0.000522544 | -0.003833690 |  0.00200260 |  41.136001 |   7.668123 |   8.333769 |  -6.673114 |   1.862816 | ⋯ | -11.593362 |  -9.878328 |  5.129886 | -1.385505 |   8.704721 |   6.655870 |   3.770619 |  3.5519316 |  1.804099 | -0.4805721 |\n",
       "\n"
      ],
      "text/plain": [
       "       mds$snpPC1 mds$snpPC2  mds$snpPC3   mds$snpPC4   mds$snpPC5  PC1       \n",
       "Br1122  0.0533622 -0.00493535  0.003242520 -0.002480450 -0.00156466 -28.662568\n",
       "Br2285 -0.0615293 -0.00774836  0.002632680 -0.000332221 -0.00443067   7.868489\n",
       "Br1764 -0.0601464 -0.00559244  0.000477782 -0.001155650 -0.00388136  -7.209888\n",
       "Br1464  0.0555706 -0.00321112  0.003123790  0.000378073 -0.00153485 -15.887979\n",
       "Br5062 -0.0625893  0.02361260 -0.000735940 -0.001957980 -0.00334107  21.936325\n",
       "Br1446 -0.0606799 -0.00542077 -0.000522544 -0.003833690  0.00200260  41.136001\n",
       "       PC2        PC3        PC4        PC5        ⋯ PC19       PC20      \n",
       "Br1122  14.197826  -1.374641  31.370322  10.599321 ⋯  -6.188123   5.066481\n",
       "Br2285   6.519323  25.379744   3.596101  12.190329 ⋯   3.897745 -11.184795\n",
       "Br1764  17.143397  18.170361  -2.863536   1.119479 ⋯ -10.379832   6.763648\n",
       "Br1464 -27.271631 -11.113779 -15.752138   6.550067 ⋯   7.977551  13.249212\n",
       "Br5062  11.650100   8.137399 -13.960197 -10.980829 ⋯   5.584715  -5.241646\n",
       "Br1446   7.668123   8.333769  -6.673114   1.862816 ⋯ -11.593362  -9.878328\n",
       "       PC21      PC22      PC23       PC24       PC25       PC26      \n",
       "Br1122 -7.593742 14.762618  -0.999303   7.784856  -6.750361  0.6819553\n",
       "Br2285  4.910411 -5.737297  13.716783 -11.824779   6.780192  3.2390141\n",
       "Br1764 -2.738643 -9.204381   5.927248  11.778903  16.207966 -8.3733597\n",
       "Br1464 -7.630136 -9.933193   1.287399  -3.231867 -28.763070 -6.1366292\n",
       "Br5062 -6.839111  2.968352 -13.821436   9.723883   5.313466 -3.6308581\n",
       "Br1446  5.129886 -1.385505   8.704721   6.655870   3.770619  3.5519316\n",
       "       PC27      PC28      \n",
       "Br1122 -4.067829  6.0399797\n",
       "Br2285  4.800311 -2.2493247\n",
       "Br1764  2.676408 -4.9324159\n",
       "Br1464 23.160872  6.3218393\n",
       "Br5062  1.554839 -5.6608910\n",
       "Br1446  1.804099 -0.4805721"
      ]
     },
     "metadata": {},
     "output_type": "display_data"
    }
   ],
   "source": [
    "head(covs)"
   ]
  },
  {
   "cell_type": "code",
   "execution_count": 14,
   "id": "cc499656-ec9a-45cd-ad05-b17e957eaaa6",
   "metadata": {},
   "outputs": [],
   "source": [
    "#covs <- fread(df$cov_file[i])\n",
    "#covs <- t(covs)\n",
    "#colnames(covs) <- covs[1, ]\n",
    "#covs <- covs[2:nrow(covs), ]\n",
    "# transpose so we have same orientation as original code"
   ]
  },
  {
   "cell_type": "markdown",
   "id": "72219907-d534-4523-a369-853077888b38",
   "metadata": {},
   "source": [
    "### Regress methylation data over covariates"
   ]
  },
  {
   "cell_type": "code",
   "execution_count": 15,
   "id": "8899261b-73fb-430e-bcdb-143fc8f04670",
   "metadata": {},
   "outputs": [],
   "source": [
    "#mat <- match(BSobj2$brnum,colnames(covs)) \n",
    "#covs <- t(covs[,mat])\n",
    "p.residual=matrix(NA,dim(p)[1],dim(p)[2])"
   ]
  },
  {
   "cell_type": "code",
   "execution_count": 16,
   "id": "35031e54-4c54-4a37-9997-99b57efa86bf",
   "metadata": {},
   "outputs": [],
   "source": [
    "#rownames(covs)[is.na(covs[, 'genoPC1'])] <- BSobj2$brnum[is.na(covs[, 'genoPC1'])]"
   ]
  },
  {
   "cell_type": "code",
   "execution_count": 17,
   "id": "70bda030-7a89-4dff-8c61-f576badfd8bd",
   "metadata": {},
   "outputs": [],
   "source": [
    "#colnames(p.residual) <- BSobj2$brnum"
   ]
  },
  {
   "cell_type": "code",
   "execution_count": 18,
   "id": "78ee80f1-d9ea-46b0-b37a-dfeed3dbdf97",
   "metadata": {},
   "outputs": [],
   "source": [
    "# covs <- as.data.frame(covs)\n",
    "# # Convert all columns except Dx and Sex from character to numeric\n",
    "# cols_to_convert <- setdiff(names(covs), c(\"Dx\", \"Sex\"))\n",
    "\n",
    "# for (col in cols_to_convert) {\n",
    "#   covs[[col]] <- as.numeric(covs[[col]])\n",
    "# }\n",
    "\n",
    "# # Print the modified data frame to check the conversion\n",
    "# #print(dat)\n"
   ]
  },
  {
   "cell_type": "code",
   "execution_count": 19,
   "id": "db709d51-494c-431c-8327-9348dbf0419c",
   "metadata": {},
   "outputs": [],
   "source": [
    "for (i in 1:dim(p)[1]) { # For each methylation site\n",
    "    dat <- as.data.frame(cbind(y = p[i,], covs))\n",
    "    \n",
    "    # Check for rows with NAs (the ones for which we don't have covariate data)\n",
    "    valid_rows <- complete.cases(dat)\n",
    "    \n",
    "    if (sum(valid_rows) > 0) {\n",
    "        dat_valid <- dat[valid_rows,]\n",
    "        model.res <- lm(y ~ ., data = dat_valid)\n",
    "        \n",
    "        # Store residuals in the corresponding positions\n",
    "        p.residual[i, valid_rows] <- resid(model.res)\n",
    "    }\n",
    "}\n",
    "\n",
    "\n",
    "# for(i in 1:dim(p)[1]){ # foro each methylation site\n",
    "#         dat <- as.data.frame(cbind(p[i,],covs))\n",
    "#         colnames(dat) <- c(\"y\",paste0(\"x\",1:ncol(covs)))\n",
    "#         model.res <- lm(reformulate(paste0(\"x\",1:ncol(covs)), \"y\"),dat)\n",
    "#         p.residual[i,] = resid(model.res) \n",
    "# }"
   ]
  },
  {
   "cell_type": "code",
   "execution_count": null,
   "id": "4f866dd6-16c6-4803-9c21-c70e4b931e66",
   "metadata": {},
   "outputs": [],
   "source": []
  },
  {
   "cell_type": "code",
   "execution_count": 20,
   "id": "f4ad72db-fe27-4676-8da6-46222519a095",
   "metadata": {},
   "outputs": [],
   "source": [
    "snp.gwas2 <- NULL"
   ]
  },
  {
   "cell_type": "code",
   "execution_count": 21,
   "id": "744fc147-2638-4935-a805-68cb51852dd7",
   "metadata": {},
   "outputs": [],
   "source": [
    "# load(\"p1.rda\")"
   ]
  },
  {
   "cell_type": "code",
   "execution_count": 22,
   "id": "8a783da8-47b9-4d54-8b56-132e4e0df26b",
   "metadata": {},
   "outputs": [],
   "source": [
    "# min(snp.gwas2$pos_hg38)\n",
    "# max(snp.gwas2$pos_hg38)"
   ]
  },
  {
   "cell_type": "code",
   "execution_count": 23,
   "id": "c99fcf98-55e5-409f-a680-b53d79dc2bf6",
   "metadata": {},
   "outputs": [],
   "source": [
    "# load(\"p1.rda\")\n",
    "# pos_we_got <- snp.gwas2$pos_hg38\n",
    "# saveRDS(pos_we_got, \"20-intermediate_positions_in_old_set.csv\")"
   ]
  },
  {
   "cell_type": "code",
   "execution_count": 24,
   "id": "2f482f35-ef1c-4f68-8393-ccaada5c7025",
   "metadata": {},
   "outputs": [],
   "source": [
    "pos_we_got <- readRDS(\"20-intermediate_positions_in_old_set.csv\")"
   ]
  },
  {
   "cell_type": "code",
   "execution_count": 25,
   "id": "c6110a67-1605-4131-91fa-bdf839c014c8",
   "metadata": {},
   "outputs": [],
   "source": [
    "# head(snp.gwas2)"
   ]
  },
  {
   "cell_type": "markdown",
   "id": "6f1649fc-72c8-4bcf-9cbc-587463117579",
   "metadata": {},
   "source": [
    "### summary stats"
   ]
  },
  {
   "cell_type": "code",
   "execution_count": 26,
   "id": "19d2a3db-0ed4-481f-b7d6-78d0ddbbb80f",
   "metadata": {},
   "outputs": [],
   "source": [
    "library(data.table)\n",
    "library(CpGWAS)"
   ]
  },
  {
   "cell_type": "code",
   "execution_count": 27,
   "id": "a5270235-a5a6-42d2-a654-ea30cb891279",
   "metadata": {},
   "outputs": [],
   "source": [
    "ss_path <- \"/home/naglemi/mwas/gwas/gwas_stat_scz\""
   ]
  },
  {
   "cell_type": "code",
   "execution_count": 1,
   "id": "203b45ea-44b4-4679-8b74-621f634db7dc",
   "metadata": {},
   "outputs": [
    {
     "ename": "ERROR",
     "evalue": "Error in fread(ss_path, skip = 1, header = FALSE): could not find function \"fread\"\n",
     "output_type": "error",
     "traceback": [
      "Error in fread(ss_path, skip = 1, header = FALSE): could not find function \"fread\"\nTraceback:\n"
     ]
    }
   ],
   "source": [
    "snp.gwas2 <- fread(ss_path, skip = 1, header = FALSE)\n",
    "colnames(snp.gwas2) <- strsplit(readLines(ss_path, n = 1), \"\\t\")[[1]]"
   ]
  },
  {
   "cell_type": "code",
   "execution_count": 29,
   "id": "917f58c4-4ec5-47b8-bf3d-f0abcf86cf96",
   "metadata": {},
   "outputs": [],
   "source": [
    "snp.gwas2$z <- log(snp.gwas2$OR)/snp.gwas2$SE"
   ]
  },
  {
   "cell_type": "code",
   "execution_count": 30,
   "id": "6d87bed5-d32c-4264-b787-d738cd381454",
   "metadata": {},
   "outputs": [],
   "source": [
    "snp.gwas2 <- snp.gwas2[, c(2, 1, 3, 3, 8, 4, 5, 20, 11)]"
   ]
  },
  {
   "cell_type": "code",
   "execution_count": 31,
   "id": "3df5e4c7-01eb-475b-a931-1e088d109cdb",
   "metadata": {},
   "outputs": [
    {
     "data": {
      "text/html": [
       "<table class=\"dataframe\">\n",
       "<caption>A data.table: 1 × 9</caption>\n",
       "<thead>\n",
       "\t<tr><th scope=col>SNP</th><th scope=col>CHR</th><th scope=col>BP</th><th scope=col>BP</th><th scope=col>INFO</th><th scope=col>A1</th><th scope=col>A2</th><th scope=col>z</th><th scope=col>P</th></tr>\n",
       "\t<tr><th scope=col>&lt;chr&gt;</th><th scope=col>&lt;int&gt;</th><th scope=col>&lt;int&gt;</th><th scope=col>&lt;int&gt;</th><th scope=col>&lt;dbl&gt;</th><th scope=col>&lt;chr&gt;</th><th scope=col>&lt;chr&gt;</th><th scope=col>&lt;dbl&gt;</th><th scope=col>&lt;dbl&gt;</th></tr>\n",
       "</thead>\n",
       "<tbody>\n",
       "\t<tr><td>rs62513865</td><td>8</td><td>100579985</td><td>100579985</td><td>0.963</td><td>C</td><td>T</td><td>0.7016221</td><td>0.4847</td></tr>\n",
       "</tbody>\n",
       "</table>\n"
      ],
      "text/latex": [
       "A data.table: 1 × 9\n",
       "\\begin{tabular}{lllllllll}\n",
       " SNP & CHR & BP & BP & INFO & A1 & A2 & z & P\\\\\n",
       " <chr> & <int> & <int> & <int> & <dbl> & <chr> & <chr> & <dbl> & <dbl>\\\\\n",
       "\\hline\n",
       "\t rs62513865 & 8 & 100579985 & 100579985 & 0.963 & C & T & 0.7016221 & 0.4847\\\\\n",
       "\\end{tabular}\n"
      ],
      "text/markdown": [
       "\n",
       "A data.table: 1 × 9\n",
       "\n",
       "| SNP &lt;chr&gt; | CHR &lt;int&gt; | BP &lt;int&gt; | BP &lt;int&gt; | INFO &lt;dbl&gt; | A1 &lt;chr&gt; | A2 &lt;chr&gt; | z &lt;dbl&gt; | P &lt;dbl&gt; |\n",
       "|---|---|---|---|---|---|---|---|---|\n",
       "| rs62513865 | 8 | 100579985 | 100579985 | 0.963 | C | T | 0.7016221 | 0.4847 |\n",
       "\n"
      ],
      "text/plain": [
       "  SNP        CHR BP        BP        INFO  A1 A2 z         P     \n",
       "1 rs62513865 8   100579985 100579985 0.963 C  T  0.7016221 0.4847"
      ]
     },
     "metadata": {},
     "output_type": "display_data"
    }
   ],
   "source": [
    "head(snp.gwas2, n = 1)"
   ]
  },
  {
   "cell_type": "code",
   "execution_count": 32,
   "id": "a1b63fe0-6ff8-4982-92a5-7dd2a937b6f3",
   "metadata": {},
   "outputs": [],
   "source": [
    "colnames(snp.gwas2)[1:5] <- c(\"snp\", \"chr\", \"pos_hg38\", \"pos_hg38\", \"info\")"
   ]
  },
  {
   "cell_type": "code",
   "execution_count": 33,
   "id": "86716430-3d24-416b-922e-f7f8e007325d",
   "metadata": {},
   "outputs": [],
   "source": [
    "snp.gwas2 <- snp.gwas2[which(snp.gwas2$chr == 7 & snp.gwas2$pos_hg38 >= 1963098 & snp.gwas2$pos_hg38 <= 2009071), ]"
   ]
  },
  {
   "cell_type": "code",
   "execution_count": 34,
   "id": "cf9d755d-69bd-4411-96ff-6736c49236a6",
   "metadata": {},
   "outputs": [
    {
     "data": {
      "text/html": [
       "<style>\n",
       ".list-inline {list-style: none; margin:0; padding: 0}\n",
       ".list-inline>li {display: inline-block}\n",
       ".list-inline>li:not(:last-child)::after {content: \"\\00b7\"; padding: 0 .5ex}\n",
       "</style>\n",
       "<ol class=list-inline><li>98</li><li>9</li></ol>\n"
      ],
      "text/latex": [
       "\\begin{enumerate*}\n",
       "\\item 98\n",
       "\\item 9\n",
       "\\end{enumerate*}\n"
      ],
      "text/markdown": [
       "1. 98\n",
       "2. 9\n",
       "\n",
       "\n"
      ],
      "text/plain": [
       "[1] 98  9"
      ]
     },
     "metadata": {},
     "output_type": "display_data"
    }
   ],
   "source": [
    "dim(snp.gwas2)"
   ]
  },
  {
   "cell_type": "code",
   "execution_count": 35,
   "id": "6dfba3a8-0775-4f8c-92d2-3c9c32a36945",
   "metadata": {},
   "outputs": [],
   "source": [
    "snp.gwas2 <- snp.gwas2[order(snp.gwas2$pos_hg38), ]"
   ]
  },
  {
   "cell_type": "code",
   "execution_count": 36,
   "id": "5ec82f36-6328-4c9e-b4d1-23b339c5f487",
   "metadata": {},
   "outputs": [
    {
     "data": {
      "text/html": [
       "<table class=\"dataframe\">\n",
       "<caption>A data.table: 6 × 9</caption>\n",
       "<thead>\n",
       "\t<tr><th scope=col>snp</th><th scope=col>chr</th><th scope=col>pos_hg38</th><th scope=col>pos_hg38</th><th scope=col>info</th><th scope=col>A1</th><th scope=col>A2</th><th scope=col>z</th><th scope=col>P</th></tr>\n",
       "\t<tr><th scope=col>&lt;chr&gt;</th><th scope=col>&lt;int&gt;</th><th scope=col>&lt;int&gt;</th><th scope=col>&lt;int&gt;</th><th scope=col>&lt;dbl&gt;</th><th scope=col>&lt;chr&gt;</th><th scope=col>&lt;chr&gt;</th><th scope=col>&lt;dbl&gt;</th><th scope=col>&lt;dbl&gt;</th></tr>\n",
       "</thead>\n",
       "<tbody>\n",
       "\t<tr><td>rs11773627</td><td>7</td><td>1963098</td><td>1963098</td><td>0.987</td><td>T</td><td>C</td><td>-5.211806</td><td>1.955e-07</td></tr>\n",
       "\t<tr><td>rs6972374 </td><td>7</td><td>1963408</td><td>1963408</td><td>0.982</td><td>C</td><td>T</td><td>-5.288320</td><td>1.220e-07</td></tr>\n",
       "\t<tr><td>rs7795303 </td><td>7</td><td>1963697</td><td>1963697</td><td>0.995</td><td>T</td><td>C</td><td>-2.367885</td><td>1.805e-02</td></tr>\n",
       "\t<tr><td>rs6946691 </td><td>7</td><td>1964758</td><td>1964758</td><td>0.995</td><td>A</td><td>T</td><td>-2.339622</td><td>1.912e-02</td></tr>\n",
       "\t<tr><td>rs12666575</td><td>7</td><td>1964786</td><td>1964786</td><td>0.993</td><td>C</td><td>T</td><td> 8.855337</td><td>6.441e-19</td></tr>\n",
       "\t<tr><td>rs61467855</td><td>7</td><td>1964869</td><td>1964869</td><td>0.994</td><td>G</td><td>A</td><td> 2.490830</td><td>1.263e-02</td></tr>\n",
       "</tbody>\n",
       "</table>\n"
      ],
      "text/latex": [
       "A data.table: 6 × 9\n",
       "\\begin{tabular}{lllllllll}\n",
       " snp & chr & pos\\_hg38 & pos\\_hg38 & info & A1 & A2 & z & P\\\\\n",
       " <chr> & <int> & <int> & <int> & <dbl> & <chr> & <chr> & <dbl> & <dbl>\\\\\n",
       "\\hline\n",
       "\t rs11773627 & 7 & 1963098 & 1963098 & 0.987 & T & C & -5.211806 & 1.955e-07\\\\\n",
       "\t rs6972374  & 7 & 1963408 & 1963408 & 0.982 & C & T & -5.288320 & 1.220e-07\\\\\n",
       "\t rs7795303  & 7 & 1963697 & 1963697 & 0.995 & T & C & -2.367885 & 1.805e-02\\\\\n",
       "\t rs6946691  & 7 & 1964758 & 1964758 & 0.995 & A & T & -2.339622 & 1.912e-02\\\\\n",
       "\t rs12666575 & 7 & 1964786 & 1964786 & 0.993 & C & T &  8.855337 & 6.441e-19\\\\\n",
       "\t rs61467855 & 7 & 1964869 & 1964869 & 0.994 & G & A &  2.490830 & 1.263e-02\\\\\n",
       "\\end{tabular}\n"
      ],
      "text/markdown": [
       "\n",
       "A data.table: 6 × 9\n",
       "\n",
       "| snp &lt;chr&gt; | chr &lt;int&gt; | pos_hg38 &lt;int&gt; | pos_hg38 &lt;int&gt; | info &lt;dbl&gt; | A1 &lt;chr&gt; | A2 &lt;chr&gt; | z &lt;dbl&gt; | P &lt;dbl&gt; |\n",
       "|---|---|---|---|---|---|---|---|---|\n",
       "| rs11773627 | 7 | 1963098 | 1963098 | 0.987 | T | C | -5.211806 | 1.955e-07 |\n",
       "| rs6972374  | 7 | 1963408 | 1963408 | 0.982 | C | T | -5.288320 | 1.220e-07 |\n",
       "| rs7795303  | 7 | 1963697 | 1963697 | 0.995 | T | C | -2.367885 | 1.805e-02 |\n",
       "| rs6946691  | 7 | 1964758 | 1964758 | 0.995 | A | T | -2.339622 | 1.912e-02 |\n",
       "| rs12666575 | 7 | 1964786 | 1964786 | 0.993 | C | T |  8.855337 | 6.441e-19 |\n",
       "| rs61467855 | 7 | 1964869 | 1964869 | 0.994 | G | A |  2.490830 | 1.263e-02 |\n",
       "\n"
      ],
      "text/plain": [
       "  snp        chr pos_hg38 pos_hg38 info  A1 A2 z         P        \n",
       "1 rs11773627 7   1963098  1963098  0.987 T  C  -5.211806 1.955e-07\n",
       "2 rs6972374  7   1963408  1963408  0.982 C  T  -5.288320 1.220e-07\n",
       "3 rs7795303  7   1963697  1963697  0.995 T  C  -2.367885 1.805e-02\n",
       "4 rs6946691  7   1964758  1964758  0.995 A  T  -2.339622 1.912e-02\n",
       "5 rs12666575 7   1964786  1964786  0.993 C  T   8.855337 6.441e-19\n",
       "6 rs61467855 7   1964869  1964869  0.994 G  A   2.490830 1.263e-02"
      ]
     },
     "metadata": {},
     "output_type": "display_data"
    }
   ],
   "source": [
    "head(snp.gwas2)"
   ]
  },
  {
   "cell_type": "code",
   "execution_count": 37,
   "id": "ffb17b8b-4388-4903-9a9a-f52d25281601",
   "metadata": {},
   "outputs": [],
   "source": [
    "snp.gwas2 <- snp.gwas2[which(snp.gwas2$pos_hg38 %in% pos_we_got), ]"
   ]
  },
  {
   "cell_type": "code",
   "execution_count": 38,
   "id": "a6a6b3d7-ba37-4055-abcb-8141eba02d3f",
   "metadata": {},
   "outputs": [
    {
     "data": {
      "text/html": [
       "<style>\n",
       ".list-inline {list-style: none; margin:0; padding: 0}\n",
       ".list-inline>li {display: inline-block}\n",
       ".list-inline>li:not(:last-child)::after {content: \"\\00b7\"; padding: 0 .5ex}\n",
       "</style>\n",
       "<ol class=list-inline><li>56</li><li>9</li></ol>\n"
      ],
      "text/latex": [
       "\\begin{enumerate*}\n",
       "\\item 56\n",
       "\\item 9\n",
       "\\end{enumerate*}\n"
      ],
      "text/markdown": [
       "1. 56\n",
       "2. 9\n",
       "\n",
       "\n"
      ],
      "text/plain": [
       "[1] 56  9"
      ]
     },
     "metadata": {},
     "output_type": "display_data"
    }
   ],
   "source": [
    "dim(snp.gwas2)"
   ]
  },
  {
   "cell_type": "code",
   "execution_count": 39,
   "id": "4714a813-116f-4567-a6b1-41bb02df8227",
   "metadata": {},
   "outputs": [],
   "source": [
    "# built predition models\n",
    "idx.ea <- BSobj2$race == \"CAUC\""
   ]
  },
  {
   "cell_type": "code",
   "execution_count": 40,
   "id": "1a7eaf2f-767e-4c6b-b26f-e988ada66315",
   "metadata": {},
   "outputs": [
    {
     "data": {
      "text/html": [
       "<table class=\"dataframe\">\n",
       "<caption>A data.frame: 6 × 308</caption>\n",
       "<thead>\n",
       "\t<tr><th></th><th scope=col>Br0836</th><th scope=col>Br0845</th><th scope=col>Br0848</th><th scope=col>Br0863</th><th scope=col>Br0914</th><th scope=col>Br0948</th><th scope=col>Br0949</th><th scope=col>Br0963</th><th scope=col>Br0983</th><th scope=col>Br0991</th><th scope=col>⋯</th><th scope=col>Br5373</th><th scope=col>Br5398</th><th scope=col>Br5422</th><th scope=col>Br5426</th><th scope=col>Br5460</th><th scope=col>Br5467</th><th scope=col>Br5475</th><th scope=col>Br5488</th><th scope=col>Br5584</th><th scope=col>Br5590</th></tr>\n",
       "\t<tr><th></th><th scope=col>&lt;dbl&gt;</th><th scope=col>&lt;dbl&gt;</th><th scope=col>&lt;dbl&gt;</th><th scope=col>&lt;dbl&gt;</th><th scope=col>&lt;dbl&gt;</th><th scope=col>&lt;dbl&gt;</th><th scope=col>&lt;dbl&gt;</th><th scope=col>&lt;dbl&gt;</th><th scope=col>&lt;dbl&gt;</th><th scope=col>&lt;dbl&gt;</th><th scope=col>⋯</th><th scope=col>&lt;dbl&gt;</th><th scope=col>&lt;dbl&gt;</th><th scope=col>&lt;dbl&gt;</th><th scope=col>&lt;dbl&gt;</th><th scope=col>&lt;dbl&gt;</th><th scope=col>&lt;dbl&gt;</th><th scope=col>&lt;dbl&gt;</th><th scope=col>&lt;dbl&gt;</th><th scope=col>&lt;dbl&gt;</th><th scope=col>&lt;dbl&gt;</th></tr>\n",
       "</thead>\n",
       "<tbody>\n",
       "\t<tr><th scope=row>chr7:1963098:T:C</th><td>2.000</td><td>2</td><td>2.000</td><td>2</td><td>2.000</td><td>1.999</td><td>2.000</td><td>1.974</td><td>1.000</td><td>2</td><td>⋯</td><td>1.954</td><td>2</td><td>2</td><td>2</td><td>2</td><td>2</td><td>2</td><td>1</td><td>1</td><td>1</td></tr>\n",
       "\t<tr><th scope=row>chr7:1963408:C:T</th><td>0.001</td><td>2</td><td>1.991</td><td>0</td><td>1.969</td><td>0.006</td><td>0.004</td><td>0.140</td><td>2.000</td><td>0</td><td>⋯</td><td>2.000</td><td>0</td><td>1</td><td>2</td><td>2</td><td>1</td><td>1</td><td>2</td><td>2</td><td>2</td></tr>\n",
       "\t<tr><th scope=row>chr7:1964786:C:T</th><td>2.000</td><td>2</td><td>1.000</td><td>2</td><td>2.000</td><td>2.000</td><td>2.000</td><td>2.000</td><td>1.000</td><td>2</td><td>⋯</td><td>0.001</td><td>2</td><td>2</td><td>0</td><td>2</td><td>2</td><td>2</td><td>1</td><td>1</td><td>2</td></tr>\n",
       "\t<tr><th scope=row>chr7:1966112:T:C</th><td>2.000</td><td>2</td><td>1.001</td><td>2</td><td>2.000</td><td>2.000</td><td>2.000</td><td>2.000</td><td>1.002</td><td>2</td><td>⋯</td><td>0.015</td><td>2</td><td>2</td><td>0</td><td>2</td><td>2</td><td>2</td><td>1</td><td>1</td><td>2</td></tr>\n",
       "\t<tr><th scope=row>chr7:1973362:G:A</th><td>2.000</td><td>2</td><td>1.095</td><td>2</td><td>2.000</td><td>2.000</td><td>0.004</td><td>2.000</td><td>1.002</td><td>2</td><td>⋯</td><td>0.015</td><td>2</td><td>2</td><td>0</td><td>2</td><td>1</td><td>2</td><td>1</td><td>1</td><td>2</td></tr>\n",
       "\t<tr><th scope=row>chr7:1975412:T:G</th><td>2.000</td><td>2</td><td>2.000</td><td>2</td><td>2.000</td><td>2.000</td><td>2.000</td><td>2.000</td><td>1.000</td><td>2</td><td>⋯</td><td>2.000</td><td>2</td><td>2</td><td>2</td><td>2</td><td>2</td><td>2</td><td>1</td><td>1</td><td>1</td></tr>\n",
       "</tbody>\n",
       "</table>\n"
      ],
      "text/latex": [
       "A data.frame: 6 × 308\n",
       "\\begin{tabular}{r|lllllllllllllllllllll}\n",
       "  & Br0836 & Br0845 & Br0848 & Br0863 & Br0914 & Br0948 & Br0949 & Br0963 & Br0983 & Br0991 & ⋯ & Br5373 & Br5398 & Br5422 & Br5426 & Br5460 & Br5467 & Br5475 & Br5488 & Br5584 & Br5590\\\\\n",
       "  & <dbl> & <dbl> & <dbl> & <dbl> & <dbl> & <dbl> & <dbl> & <dbl> & <dbl> & <dbl> & ⋯ & <dbl> & <dbl> & <dbl> & <dbl> & <dbl> & <dbl> & <dbl> & <dbl> & <dbl> & <dbl>\\\\\n",
       "\\hline\n",
       "\tchr7:1963098:T:C & 2.000 & 2 & 2.000 & 2 & 2.000 & 1.999 & 2.000 & 1.974 & 1.000 & 2 & ⋯ & 1.954 & 2 & 2 & 2 & 2 & 2 & 2 & 1 & 1 & 1\\\\\n",
       "\tchr7:1963408:C:T & 0.001 & 2 & 1.991 & 0 & 1.969 & 0.006 & 0.004 & 0.140 & 2.000 & 0 & ⋯ & 2.000 & 0 & 1 & 2 & 2 & 1 & 1 & 2 & 2 & 2\\\\\n",
       "\tchr7:1964786:C:T & 2.000 & 2 & 1.000 & 2 & 2.000 & 2.000 & 2.000 & 2.000 & 1.000 & 2 & ⋯ & 0.001 & 2 & 2 & 0 & 2 & 2 & 2 & 1 & 1 & 2\\\\\n",
       "\tchr7:1966112:T:C & 2.000 & 2 & 1.001 & 2 & 2.000 & 2.000 & 2.000 & 2.000 & 1.002 & 2 & ⋯ & 0.015 & 2 & 2 & 0 & 2 & 2 & 2 & 1 & 1 & 2\\\\\n",
       "\tchr7:1973362:G:A & 2.000 & 2 & 1.095 & 2 & 2.000 & 2.000 & 0.004 & 2.000 & 1.002 & 2 & ⋯ & 0.015 & 2 & 2 & 0 & 2 & 1 & 2 & 1 & 1 & 2\\\\\n",
       "\tchr7:1975412:T:G & 2.000 & 2 & 2.000 & 2 & 2.000 & 2.000 & 2.000 & 2.000 & 1.000 & 2 & ⋯ & 2.000 & 2 & 2 & 2 & 2 & 2 & 2 & 1 & 1 & 1\\\\\n",
       "\\end{tabular}\n"
      ],
      "text/markdown": [
       "\n",
       "A data.frame: 6 × 308\n",
       "\n",
       "| <!--/--> | Br0836 &lt;dbl&gt; | Br0845 &lt;dbl&gt; | Br0848 &lt;dbl&gt; | Br0863 &lt;dbl&gt; | Br0914 &lt;dbl&gt; | Br0948 &lt;dbl&gt; | Br0949 &lt;dbl&gt; | Br0963 &lt;dbl&gt; | Br0983 &lt;dbl&gt; | Br0991 &lt;dbl&gt; | ⋯ ⋯ | Br5373 &lt;dbl&gt; | Br5398 &lt;dbl&gt; | Br5422 &lt;dbl&gt; | Br5426 &lt;dbl&gt; | Br5460 &lt;dbl&gt; | Br5467 &lt;dbl&gt; | Br5475 &lt;dbl&gt; | Br5488 &lt;dbl&gt; | Br5584 &lt;dbl&gt; | Br5590 &lt;dbl&gt; |\n",
       "|---|---|---|---|---|---|---|---|---|---|---|---|---|---|---|---|---|---|---|---|---|---|\n",
       "| chr7:1963098:T:C | 2.000 | 2 | 2.000 | 2 | 2.000 | 1.999 | 2.000 | 1.974 | 1.000 | 2 | ⋯ | 1.954 | 2 | 2 | 2 | 2 | 2 | 2 | 1 | 1 | 1 |\n",
       "| chr7:1963408:C:T | 0.001 | 2 | 1.991 | 0 | 1.969 | 0.006 | 0.004 | 0.140 | 2.000 | 0 | ⋯ | 2.000 | 0 | 1 | 2 | 2 | 1 | 1 | 2 | 2 | 2 |\n",
       "| chr7:1964786:C:T | 2.000 | 2 | 1.000 | 2 | 2.000 | 2.000 | 2.000 | 2.000 | 1.000 | 2 | ⋯ | 0.001 | 2 | 2 | 0 | 2 | 2 | 2 | 1 | 1 | 2 |\n",
       "| chr7:1966112:T:C | 2.000 | 2 | 1.001 | 2 | 2.000 | 2.000 | 2.000 | 2.000 | 1.002 | 2 | ⋯ | 0.015 | 2 | 2 | 0 | 2 | 2 | 2 | 1 | 1 | 2 |\n",
       "| chr7:1973362:G:A | 2.000 | 2 | 1.095 | 2 | 2.000 | 2.000 | 0.004 | 2.000 | 1.002 | 2 | ⋯ | 0.015 | 2 | 2 | 0 | 2 | 1 | 2 | 1 | 1 | 2 |\n",
       "| chr7:1975412:T:G | 2.000 | 2 | 2.000 | 2 | 2.000 | 2.000 | 2.000 | 2.000 | 1.000 | 2 | ⋯ | 2.000 | 2 | 2 | 2 | 2 | 2 | 2 | 1 | 1 | 1 |\n",
       "\n"
      ],
      "text/plain": [
       "                 Br0836 Br0845 Br0848 Br0863 Br0914 Br0948 Br0949 Br0963 Br0983\n",
       "chr7:1963098:T:C 2.000  2      2.000  2      2.000  1.999  2.000  1.974  1.000 \n",
       "chr7:1963408:C:T 0.001  2      1.991  0      1.969  0.006  0.004  0.140  2.000 \n",
       "chr7:1964786:C:T 2.000  2      1.000  2      2.000  2.000  2.000  2.000  1.000 \n",
       "chr7:1966112:T:C 2.000  2      1.001  2      2.000  2.000  2.000  2.000  1.002 \n",
       "chr7:1973362:G:A 2.000  2      1.095  2      2.000  2.000  0.004  2.000  1.002 \n",
       "chr7:1975412:T:G 2.000  2      2.000  2      2.000  2.000  2.000  2.000  1.000 \n",
       "                 Br0991 ⋯ Br5373 Br5398 Br5422 Br5426 Br5460 Br5467 Br5475\n",
       "chr7:1963098:T:C 2      ⋯ 1.954  2      2      2      2      2      2     \n",
       "chr7:1963408:C:T 0      ⋯ 2.000  0      1      2      2      1      1     \n",
       "chr7:1964786:C:T 2      ⋯ 0.001  2      2      0      2      2      2     \n",
       "chr7:1966112:T:C 2      ⋯ 0.015  2      2      0      2      2      2     \n",
       "chr7:1973362:G:A 2      ⋯ 0.015  2      2      0      2      1      2     \n",
       "chr7:1975412:T:G 2      ⋯ 2.000  2      2      2      2      2      2     \n",
       "                 Br5488 Br5584 Br5590\n",
       "chr7:1963098:T:C 1      1      1     \n",
       "chr7:1963408:C:T 2      2      2     \n",
       "chr7:1964786:C:T 1      1      2     \n",
       "chr7:1966112:T:C 1      1      2     \n",
       "chr7:1973362:G:A 1      1      2     \n",
       "chr7:1975412:T:G 1      1      1     "
      ]
     },
     "metadata": {},
     "output_type": "display_data"
    }
   ],
   "source": [
    "head(snp2)"
   ]
  },
  {
   "cell_type": "code",
   "execution_count": 41,
   "id": "c03876a6-b33a-4f42-af8d-25c93233dee2",
   "metadata": {},
   "outputs": [],
   "source": [
    "snp2_sorted <- snp2[, order(names(snp2))]"
   ]
  },
  {
   "cell_type": "code",
   "execution_count": 42,
   "id": "f24d0fef-0977-4f61-9c6d-a401efb46469",
   "metadata": {},
   "outputs": [],
   "source": [
    "colnames(snp2) <- gsub(\"Br0\", \"Br\", colnames(snp2))"
   ]
  },
  {
   "cell_type": "code",
   "execution_count": 43,
   "id": "d59dd1aa-5e61-4b73-9d77-9d4cb60ecda1",
   "metadata": {},
   "outputs": [
    {
     "data": {
      "text/html": [
       "<table class=\"dataframe\">\n",
       "<caption>A data.frame: 6 × 308</caption>\n",
       "<thead>\n",
       "\t<tr><th></th><th scope=col>Br836</th><th scope=col>Br845</th><th scope=col>Br848</th><th scope=col>Br863</th><th scope=col>Br914</th><th scope=col>Br948</th><th scope=col>Br949</th><th scope=col>Br963</th><th scope=col>Br983</th><th scope=col>Br991</th><th scope=col>⋯</th><th scope=col>Br5373</th><th scope=col>Br5398</th><th scope=col>Br5422</th><th scope=col>Br5426</th><th scope=col>Br5460</th><th scope=col>Br5467</th><th scope=col>Br5475</th><th scope=col>Br5488</th><th scope=col>Br5584</th><th scope=col>Br5590</th></tr>\n",
       "\t<tr><th></th><th scope=col>&lt;dbl&gt;</th><th scope=col>&lt;dbl&gt;</th><th scope=col>&lt;dbl&gt;</th><th scope=col>&lt;dbl&gt;</th><th scope=col>&lt;dbl&gt;</th><th scope=col>&lt;dbl&gt;</th><th scope=col>&lt;dbl&gt;</th><th scope=col>&lt;dbl&gt;</th><th scope=col>&lt;dbl&gt;</th><th scope=col>&lt;dbl&gt;</th><th scope=col>⋯</th><th scope=col>&lt;dbl&gt;</th><th scope=col>&lt;dbl&gt;</th><th scope=col>&lt;dbl&gt;</th><th scope=col>&lt;dbl&gt;</th><th scope=col>&lt;dbl&gt;</th><th scope=col>&lt;dbl&gt;</th><th scope=col>&lt;dbl&gt;</th><th scope=col>&lt;dbl&gt;</th><th scope=col>&lt;dbl&gt;</th><th scope=col>&lt;dbl&gt;</th></tr>\n",
       "</thead>\n",
       "<tbody>\n",
       "\t<tr><th scope=row>chr7:1963098:T:C</th><td>2.000</td><td>2</td><td>2.000</td><td>2</td><td>2.000</td><td>1.999</td><td>2.000</td><td>1.974</td><td>1.000</td><td>2</td><td>⋯</td><td>1.954</td><td>2</td><td>2</td><td>2</td><td>2</td><td>2</td><td>2</td><td>1</td><td>1</td><td>1</td></tr>\n",
       "\t<tr><th scope=row>chr7:1963408:C:T</th><td>0.001</td><td>2</td><td>1.991</td><td>0</td><td>1.969</td><td>0.006</td><td>0.004</td><td>0.140</td><td>2.000</td><td>0</td><td>⋯</td><td>2.000</td><td>0</td><td>1</td><td>2</td><td>2</td><td>1</td><td>1</td><td>2</td><td>2</td><td>2</td></tr>\n",
       "\t<tr><th scope=row>chr7:1964786:C:T</th><td>2.000</td><td>2</td><td>1.000</td><td>2</td><td>2.000</td><td>2.000</td><td>2.000</td><td>2.000</td><td>1.000</td><td>2</td><td>⋯</td><td>0.001</td><td>2</td><td>2</td><td>0</td><td>2</td><td>2</td><td>2</td><td>1</td><td>1</td><td>2</td></tr>\n",
       "\t<tr><th scope=row>chr7:1966112:T:C</th><td>2.000</td><td>2</td><td>1.001</td><td>2</td><td>2.000</td><td>2.000</td><td>2.000</td><td>2.000</td><td>1.002</td><td>2</td><td>⋯</td><td>0.015</td><td>2</td><td>2</td><td>0</td><td>2</td><td>2</td><td>2</td><td>1</td><td>1</td><td>2</td></tr>\n",
       "\t<tr><th scope=row>chr7:1973362:G:A</th><td>2.000</td><td>2</td><td>1.095</td><td>2</td><td>2.000</td><td>2.000</td><td>0.004</td><td>2.000</td><td>1.002</td><td>2</td><td>⋯</td><td>0.015</td><td>2</td><td>2</td><td>0</td><td>2</td><td>1</td><td>2</td><td>1</td><td>1</td><td>2</td></tr>\n",
       "\t<tr><th scope=row>chr7:1975412:T:G</th><td>2.000</td><td>2</td><td>2.000</td><td>2</td><td>2.000</td><td>2.000</td><td>2.000</td><td>2.000</td><td>1.000</td><td>2</td><td>⋯</td><td>2.000</td><td>2</td><td>2</td><td>2</td><td>2</td><td>2</td><td>2</td><td>1</td><td>1</td><td>1</td></tr>\n",
       "</tbody>\n",
       "</table>\n"
      ],
      "text/latex": [
       "A data.frame: 6 × 308\n",
       "\\begin{tabular}{r|lllllllllllllllllllll}\n",
       "  & Br836 & Br845 & Br848 & Br863 & Br914 & Br948 & Br949 & Br963 & Br983 & Br991 & ⋯ & Br5373 & Br5398 & Br5422 & Br5426 & Br5460 & Br5467 & Br5475 & Br5488 & Br5584 & Br5590\\\\\n",
       "  & <dbl> & <dbl> & <dbl> & <dbl> & <dbl> & <dbl> & <dbl> & <dbl> & <dbl> & <dbl> & ⋯ & <dbl> & <dbl> & <dbl> & <dbl> & <dbl> & <dbl> & <dbl> & <dbl> & <dbl> & <dbl>\\\\\n",
       "\\hline\n",
       "\tchr7:1963098:T:C & 2.000 & 2 & 2.000 & 2 & 2.000 & 1.999 & 2.000 & 1.974 & 1.000 & 2 & ⋯ & 1.954 & 2 & 2 & 2 & 2 & 2 & 2 & 1 & 1 & 1\\\\\n",
       "\tchr7:1963408:C:T & 0.001 & 2 & 1.991 & 0 & 1.969 & 0.006 & 0.004 & 0.140 & 2.000 & 0 & ⋯ & 2.000 & 0 & 1 & 2 & 2 & 1 & 1 & 2 & 2 & 2\\\\\n",
       "\tchr7:1964786:C:T & 2.000 & 2 & 1.000 & 2 & 2.000 & 2.000 & 2.000 & 2.000 & 1.000 & 2 & ⋯ & 0.001 & 2 & 2 & 0 & 2 & 2 & 2 & 1 & 1 & 2\\\\\n",
       "\tchr7:1966112:T:C & 2.000 & 2 & 1.001 & 2 & 2.000 & 2.000 & 2.000 & 2.000 & 1.002 & 2 & ⋯ & 0.015 & 2 & 2 & 0 & 2 & 2 & 2 & 1 & 1 & 2\\\\\n",
       "\tchr7:1973362:G:A & 2.000 & 2 & 1.095 & 2 & 2.000 & 2.000 & 0.004 & 2.000 & 1.002 & 2 & ⋯ & 0.015 & 2 & 2 & 0 & 2 & 1 & 2 & 1 & 1 & 2\\\\\n",
       "\tchr7:1975412:T:G & 2.000 & 2 & 2.000 & 2 & 2.000 & 2.000 & 2.000 & 2.000 & 1.000 & 2 & ⋯ & 2.000 & 2 & 2 & 2 & 2 & 2 & 2 & 1 & 1 & 1\\\\\n",
       "\\end{tabular}\n"
      ],
      "text/markdown": [
       "\n",
       "A data.frame: 6 × 308\n",
       "\n",
       "| <!--/--> | Br836 &lt;dbl&gt; | Br845 &lt;dbl&gt; | Br848 &lt;dbl&gt; | Br863 &lt;dbl&gt; | Br914 &lt;dbl&gt; | Br948 &lt;dbl&gt; | Br949 &lt;dbl&gt; | Br963 &lt;dbl&gt; | Br983 &lt;dbl&gt; | Br991 &lt;dbl&gt; | ⋯ ⋯ | Br5373 &lt;dbl&gt; | Br5398 &lt;dbl&gt; | Br5422 &lt;dbl&gt; | Br5426 &lt;dbl&gt; | Br5460 &lt;dbl&gt; | Br5467 &lt;dbl&gt; | Br5475 &lt;dbl&gt; | Br5488 &lt;dbl&gt; | Br5584 &lt;dbl&gt; | Br5590 &lt;dbl&gt; |\n",
       "|---|---|---|---|---|---|---|---|---|---|---|---|---|---|---|---|---|---|---|---|---|---|\n",
       "| chr7:1963098:T:C | 2.000 | 2 | 2.000 | 2 | 2.000 | 1.999 | 2.000 | 1.974 | 1.000 | 2 | ⋯ | 1.954 | 2 | 2 | 2 | 2 | 2 | 2 | 1 | 1 | 1 |\n",
       "| chr7:1963408:C:T | 0.001 | 2 | 1.991 | 0 | 1.969 | 0.006 | 0.004 | 0.140 | 2.000 | 0 | ⋯ | 2.000 | 0 | 1 | 2 | 2 | 1 | 1 | 2 | 2 | 2 |\n",
       "| chr7:1964786:C:T | 2.000 | 2 | 1.000 | 2 | 2.000 | 2.000 | 2.000 | 2.000 | 1.000 | 2 | ⋯ | 0.001 | 2 | 2 | 0 | 2 | 2 | 2 | 1 | 1 | 2 |\n",
       "| chr7:1966112:T:C | 2.000 | 2 | 1.001 | 2 | 2.000 | 2.000 | 2.000 | 2.000 | 1.002 | 2 | ⋯ | 0.015 | 2 | 2 | 0 | 2 | 2 | 2 | 1 | 1 | 2 |\n",
       "| chr7:1973362:G:A | 2.000 | 2 | 1.095 | 2 | 2.000 | 2.000 | 0.004 | 2.000 | 1.002 | 2 | ⋯ | 0.015 | 2 | 2 | 0 | 2 | 1 | 2 | 1 | 1 | 2 |\n",
       "| chr7:1975412:T:G | 2.000 | 2 | 2.000 | 2 | 2.000 | 2.000 | 2.000 | 2.000 | 1.000 | 2 | ⋯ | 2.000 | 2 | 2 | 2 | 2 | 2 | 2 | 1 | 1 | 1 |\n",
       "\n"
      ],
      "text/plain": [
       "                 Br836 Br845 Br848 Br863 Br914 Br948 Br949 Br963 Br983 Br991 ⋯\n",
       "chr7:1963098:T:C 2.000 2     2.000 2     2.000 1.999 2.000 1.974 1.000 2     ⋯\n",
       "chr7:1963408:C:T 0.001 2     1.991 0     1.969 0.006 0.004 0.140 2.000 0     ⋯\n",
       "chr7:1964786:C:T 2.000 2     1.000 2     2.000 2.000 2.000 2.000 1.000 2     ⋯\n",
       "chr7:1966112:T:C 2.000 2     1.001 2     2.000 2.000 2.000 2.000 1.002 2     ⋯\n",
       "chr7:1973362:G:A 2.000 2     1.095 2     2.000 2.000 0.004 2.000 1.002 2     ⋯\n",
       "chr7:1975412:T:G 2.000 2     2.000 2     2.000 2.000 2.000 2.000 1.000 2     ⋯\n",
       "                 Br5373 Br5398 Br5422 Br5426 Br5460 Br5467 Br5475 Br5488 Br5584\n",
       "chr7:1963098:T:C 1.954  2      2      2      2      2      2      1      1     \n",
       "chr7:1963408:C:T 2.000  0      1      2      2      1      1      2      2     \n",
       "chr7:1964786:C:T 0.001  2      2      0      2      2      2      1      1     \n",
       "chr7:1966112:T:C 0.015  2      2      0      2      2      2      1      1     \n",
       "chr7:1973362:G:A 0.015  2      2      0      2      1      2      1      1     \n",
       "chr7:1975412:T:G 2.000  2      2      2      2      2      2      1      1     \n",
       "                 Br5590\n",
       "chr7:1963098:T:C 1     \n",
       "chr7:1963408:C:T 2     \n",
       "chr7:1964786:C:T 2     \n",
       "chr7:1966112:T:C 2     \n",
       "chr7:1973362:G:A 2     \n",
       "chr7:1975412:T:G 1     "
      ]
     },
     "metadata": {},
     "output_type": "display_data"
    }
   ],
   "source": [
    "head(snp2)"
   ]
  },
  {
   "cell_type": "code",
   "execution_count": 44,
   "id": "5235ab02-1e02-4751-89f7-3f9c2d6c978b",
   "metadata": {},
   "outputs": [
    {
     "data": {
      "text/html": [
       "<style>\n",
       ".list-inline {list-style: none; margin:0; padding: 0}\n",
       ".list-inline>li {display: inline-block}\n",
       ".list-inline>li:not(:last-child)::after {content: \"\\00b7\"; padding: 0 .5ex}\n",
       "</style>\n",
       "<ol class=list-inline><li>56</li><li>308</li></ol>\n"
      ],
      "text/latex": [
       "\\begin{enumerate*}\n",
       "\\item 56\n",
       "\\item 308\n",
       "\\end{enumerate*}\n"
      ],
      "text/markdown": [
       "1. 56\n",
       "2. 308\n",
       "\n",
       "\n"
      ],
      "text/plain": [
       "[1]  56 308"
      ]
     },
     "metadata": {},
     "output_type": "display_data"
    }
   ],
   "source": [
    "dim(snp2)"
   ]
  },
  {
   "cell_type": "markdown",
   "id": "3a5badeb-a7f2-428f-8a88-e27f3a16204d",
   "metadata": {},
   "source": [
    "## I think a problem happens here"
   ]
  },
  {
   "cell_type": "code",
   "execution_count": 45,
   "id": "84f086ad-bf9a-4002-9fd0-822cef73679b",
   "metadata": {},
   "outputs": [],
   "source": [
    "snp2 <- snp2[, colnames(snp2) %in% colnames(p.residual)]"
   ]
  },
  {
   "cell_type": "code",
   "execution_count": null,
   "id": "a3e7cec7-c3cf-4c36-991d-36a1cec26d9e",
   "metadata": {},
   "outputs": [],
   "source": [
    "dim(snp2)"
   ]
  },
  {
   "cell_type": "code",
   "execution_count": null,
   "id": "03ac6e7d-c9df-4759-b53b-a1025dcb2db2",
   "metadata": {},
   "outputs": [],
   "source": [
    "head(snp2)"
   ]
  },
  {
   "cell_type": "code",
   "execution_count": null,
   "id": "87fd1318-bcea-4a94-9b53-2361257d86bb",
   "metadata": {},
   "outputs": [],
   "source": [
    "snp2_positions <- stringr::str_split_fixed(rownames(snp2), \":\", 3)[, 2]"
   ]
  },
  {
   "cell_type": "code",
   "execution_count": 1,
   "id": "fd0a605f-dd78-49b7-aca9-7871ba12624c",
   "metadata": {},
   "outputs": [],
   "source": [
    "library(CpGWAS)"
   ]
  },
  {
   "cell_type": "code",
   "execution_count": null,
   "id": "8acb1ff1-bc0c-48e8-b114-3839777a9ac0",
   "metadata": {},
   "outputs": [],
   "source": [
    "snp3 <- readRDS(\"20-IN_check_SNP_window_pos1987413_win50000.rds\")"
   ]
  },
  {
   "cell_type": "code",
   "execution_count": null,
   "id": "d4c92138-173b-45c7-9abf-39ff20ff9a31",
   "metadata": {},
   "outputs": [],
   "source": [
    "dim(snp3)"
   ]
  },
  {
   "cell_type": "code",
   "execution_count": null,
   "id": "c63a6491-162e-4bc7-b95b-2bd23e2048c5",
   "metadata": {},
   "outputs": [],
   "source": [
    "length(rownames(snp3))"
   ]
  },
  {
   "cell_type": "code",
   "execution_count": null,
   "id": "7a35ed6c-92ba-44b3-840e-ffc621828872",
   "metadata": {},
   "outputs": [],
   "source": [
    "map3 <- data.frame(POS = stringr::str_split_fixed(colnames(snp3), \":\", 3)[, 2])"
   ]
  },
  {
   "cell_type": "code",
   "execution_count": null,
   "id": "ca549289-47f4-444b-b3e8-7d8a39c2e33f",
   "metadata": {},
   "outputs": [],
   "source": [
    "snp3 <- t(snp3)"
   ]
  },
  {
   "cell_type": "code",
   "execution_count": null,
   "id": "8ca4e294-8803-4ea9-bb38-d9c9530dd442",
   "metadata": {},
   "outputs": [],
   "source": [
    "snp3 <- snp3[which(map3$POS %in% pos_we_got), ]"
   ]
  },
  {
   "cell_type": "code",
   "execution_count": null,
   "id": "191b05e4-0107-4059-887e-bd3f2cafde0f",
   "metadata": {},
   "outputs": [],
   "source": [
    "map3 <- data.frame(POS = stringr::str_split_fixed(rownames(snp3), \":\", 3)[, 2])"
   ]
  },
  {
   "cell_type": "code",
   "execution_count": null,
   "id": "4e17a504-e98e-4d5e-bc59-3fd09faf3de8",
   "metadata": {},
   "outputs": [],
   "source": [
    "dim(map3)"
   ]
  },
  {
   "cell_type": "markdown",
   "id": "25cdfaab-daa5-4aec-ac91-3f835543eae9",
   "metadata": {},
   "source": [
    "Once we filter down to same SNPs, are data structures same? Must reorder old one too to make sure"
   ]
  },
  {
   "cell_type": "code",
   "execution_count": null,
   "id": "1785936c-8180-48d3-90fa-fef312d7a130",
   "metadata": {},
   "outputs": [],
   "source": [
    "colnames(snp2) <- gsub(\"Br0\", \"Br\", colnames(snp2))"
   ]
  },
  {
   "cell_type": "code",
   "execution_count": null,
   "id": "7fc0e9b6-7f46-4836-9e92-a39519035539",
   "metadata": {},
   "outputs": [],
   "source": [
    "head(snp2)"
   ]
  },
  {
   "cell_type": "code",
   "execution_count": null,
   "id": "d873d5a2-1b65-4d42-b779-b2d1c96f74f2",
   "metadata": {},
   "outputs": [],
   "source": [
    "snp2 <- snp2[, order(colnames(snp2))]"
   ]
  },
  {
   "cell_type": "code",
   "execution_count": null,
   "id": "184a5e6b-978d-4a58-9b9b-b0cd9fbe46ca",
   "metadata": {},
   "outputs": [],
   "source": []
  },
  {
   "cell_type": "code",
   "execution_count": null,
   "id": "08f5d7e9-58db-4c6c-a9c0-70830d6eb687",
   "metadata": {
    "scrolled": true
   },
   "outputs": [],
   "source": [
    "head(snp3)"
   ]
  },
  {
   "cell_type": "code",
   "execution_count": null,
   "id": "20652beb-4d44-4d3b-b8cc-aad9c824f511",
   "metadata": {},
   "outputs": [],
   "source": [
    "head(snp2)"
   ]
  },
  {
   "cell_type": "markdown",
   "id": "f4907de0-d7e7-4a4f-b610-246a6186a8f3",
   "metadata": {},
   "source": [
    "We also must flip the new one, round to 3 decimals, and convert to df"
   ]
  },
  {
   "cell_type": "code",
   "execution_count": null,
   "id": "f273fd51-4056-4e47-bc4d-ff32cd8997b5",
   "metadata": {},
   "outputs": [],
   "source": [
    "snp3 <- 2-snp3\n",
    "snp3 <- as.data.frame(snp3)\n",
    "snp3[] <- lapply(snp3, function(x) if(is.numeric(x)) round(x, 3) else x)"
   ]
  },
  {
   "cell_type": "code",
   "execution_count": null,
   "id": "113291c0-3754-4801-8936-d2d2686c643c",
   "metadata": {},
   "outputs": [],
   "source": [
    "head(snp3)"
   ]
  },
  {
   "cell_type": "code",
   "execution_count": null,
   "id": "46a9caa2-44f9-46bb-b131-9d01811ba400",
   "metadata": {},
   "outputs": [],
   "source": [
    "# compare_data_frames <- function(df1, df2) {\n",
    "#   # Initialize lists to store differences\n",
    "#   differences <- list()\n",
    "  \n",
    "#   # Check if column names are identical\n",
    "#   if (!identical(colnames(df1), colnames(df2))) {\n",
    "#     differing_cols <- setdiff(union(colnames(df1), colnames(df2)), intersect(colnames(df1), colnames(df2)))\n",
    "#     differences$column_names <- differing_cols\n",
    "#   }\n",
    "  \n",
    "#   # Check if row names are identical\n",
    "#   if (!identical(rownames(df1), rownames(df2))) {\n",
    "#     differing_rows <- setdiff(union(rownames(df1), rownames(df2)), intersect(rownames(df1), rownames(df2)))\n",
    "#     differences$row_names <- differing_rows\n",
    "#   }\n",
    "  \n",
    "#   # Check for differing values\n",
    "#   for (i in seq_len(nrow(df1))) {\n",
    "#     for (j in seq_len(ncol(df1))) {\n",
    "#       if (df1[i, j] != df2[i, j]) {\n",
    "#         differences$values <- rbind(\n",
    "#           differences$values, \n",
    "#           data.frame(\n",
    "#             row = i, \n",
    "#             column = j, \n",
    "#             df1_value = df1[i, j], \n",
    "#             df2_value = df2[i, j]\n",
    "#           )\n",
    "#         )\n",
    "#       }\n",
    "#     }\n",
    "#   }\n",
    "  \n",
    "#   return(differences)\n",
    "# }\n",
    "\n",
    "# # Example usage:\n",
    "# # Assuming snp2 and snp3 are your data frames\n",
    "# result <- compare_data_frames(snp2, snp3)\n",
    "\n",
    "# # Print results\n",
    "# if (!is.null(result$column_names)) {\n",
    "#   cat(\"Differing column names:\\n\")\n",
    "#   print(result$column_names)\n",
    "# }\n",
    "\n",
    "# if (!is.null(result$row_names)) {\n",
    "#   cat(\"Differing row names:\\n\")\n",
    "#   print(result$row_names)\n",
    "# }\n",
    "\n",
    "# if (!is.null(result$values)) {\n",
    "#   cat(\"Differing values:\\n\")\n",
    "#   print(result$values)\n",
    "# } else {\n",
    "#   cat(\"No differing values found.\\n\")\n",
    "# }\n"
   ]
  },
  {
   "cell_type": "markdown",
   "id": "caaa9abc-0016-42e3-8493-1cc528aea61f",
   "metadata": {},
   "source": [
    "Not quite the same but very close. Let's proceed with snp2 (old version) for now."
   ]
  },
  {
   "cell_type": "code",
   "execution_count": null,
   "id": "7277ae54-d038-4d31-b922-ed8ab1f654dc",
   "metadata": {},
   "outputs": [],
   "source": [
    "identical(snp2, snp3)"
   ]
  },
  {
   "cell_type": "code",
   "execution_count": null,
   "id": "7526bc32-5a25-4d33-b97d-9197c1415e0b",
   "metadata": {},
   "outputs": [],
   "source": [
    "snp3 <- snp2"
   ]
  },
  {
   "cell_type": "code",
   "execution_count": null,
   "id": "b04b5f77-9eb8-45ec-b50f-4ccf118411da",
   "metadata": {},
   "outputs": [],
   "source": [
    "dim(snp3)"
   ]
  },
  {
   "cell_type": "code",
   "execution_count": null,
   "id": "3bb46723-a264-412c-910c-f823605b7cee",
   "metadata": {},
   "outputs": [],
   "source": [
    "head(snp3)"
   ]
  },
  {
   "cell_type": "code",
   "execution_count": null,
   "id": "10726e84-a48e-4c31-8005-cc29a8faf847",
   "metadata": {},
   "outputs": [],
   "source": [
    "dim(map3)"
   ]
  },
  {
   "cell_type": "markdown",
   "id": "882a7c0a-0ec2-4aa2-be3c-a2f152126bd8",
   "metadata": {},
   "source": [
    "### Set window size and any other parameters"
   ]
  },
  {
   "cell_type": "code",
   "execution_count": null,
   "id": "461263e5-8c47-40ae-b3e4-03dbea4820e8",
   "metadata": {},
   "outputs": [],
   "source": [
    "wind <- 10000"
   ]
  },
  {
   "cell_type": "markdown",
   "id": "0849e5e3-af47-480f-82ca-97b07d1dd943",
   "metadata": {},
   "source": [
    "Is 1se vs min for lambda the problem?"
   ]
  },
  {
   "cell_type": "markdown",
   "id": "cfc14c0f-1e12-4108-97fc-ab66a6467640",
   "metadata": {},
   "source": [
    "## Run for all"
   ]
  },
  {
   "cell_type": "code",
   "execution_count": null,
   "id": "c25b764a-bcce-4b86-b0d7-a627f9e8cb8a",
   "metadata": {},
   "outputs": [],
   "source": [
    "head(map3)"
   ]
  },
  {
   "cell_type": "code",
   "execution_count": null,
   "id": "db60d8d3-3d88-45a4-b447-76e20c9e3b2f",
   "metadata": {},
   "outputs": [],
   "source": [
    "dim(map3)"
   ]
  },
  {
   "cell_type": "code",
   "execution_count": null,
   "id": "2920d862-b399-4578-b48c-149fda93111f",
   "metadata": {},
   "outputs": [],
   "source": [
    "dim(snp3)"
   ]
  },
  {
   "cell_type": "code",
   "execution_count": null,
   "id": "f41f9c4d-1489-45a4-ad25-d446a05980bf",
   "metadata": {},
   "outputs": [],
   "source": [
    "p.residual <- p.residual[, order(colnames(p.residual))]"
   ]
  },
  {
   "cell_type": "code",
   "execution_count": null,
   "id": "305409c3-5abb-49c2-9914-6fd958064abf",
   "metadata": {},
   "outputs": [],
   "source": [
    "for(k in 1:length(wind)){\n",
    "    models.ea <- c()\n",
    "    models.all <- c()\n",
    "    for(i in 1:length(cg)){\n",
    "    #for(i in 1){\n",
    "            cat(i,\"\\n\")\n",
    "            print(paste0(\"This cg is: \", cg[i]))\n",
    "            range1 <- ifelse(cg[i] - wind[k] > 0,cg[i] - wind[k],0)\n",
    "            range2 <- cg[i] + wind[k]\n",
    "            idx <- map3$POS > range1 & map3$POS < range2\n",
    "            # go to next cg if no snps within window\n",
    "            if(sum(idx) <= 1){\n",
    "                    next\n",
    "            }\n",
    "            geno <- snp3[idx,] # changed snp2 to snp3\n",
    "            rownames(geno) <- map3$POS[idx]\n",
    "            trainX <- t(geno)\n",
    "            trainY <- p.residual[i,]\n",
    "            fit <- elastic.net(trainX,trainY)\n",
    "            fit <- tryCatch(\n",
    "                    elastic.net(trainX,trainY),\n",
    "                    error = function(e) {return (\"err\")})\n",
    "            if(!is.data.frame(fit)){\n",
    "                if(fit == \"err\"){\n",
    "                    next\n",
    "                }\n",
    "            }\n",
    "            if(nrow(fit) == 0) next\n",
    "\n",
    "            fit$cg <- cg[i]\n",
    "            models.all <- rbind(models.all,fit)\n",
    "            # EA only\n",
    "            trainX <- trainX[idx.ea,]\n",
    "            if(sum(apply(trainX,2,var)!=0) <= 1){\n",
    "                    next\n",
    "            }\n",
    "            trainY <- trainY[idx.ea]\n",
    "            fit <- tryCatch(\n",
    "                    elastic.net(trainX,trainY),\n",
    "                    error = function(e) {return (\"err\")})\n",
    "            if(!is.data.frame(fit)){\n",
    "                if(fit == \"err\"){\n",
    "                    next\n",
    "                }\n",
    "            }\n",
    "            if(nrow(fit) == 0) next\n",
    "            fit$cg <- cg[i]\n",
    "            models.ea <- rbind(models.ea,fit)\n",
    "    }\n",
    "}"
   ]
  },
  {
   "cell_type": "code",
   "execution_count": null,
   "id": "3d109e75-bf26-43f5-8a0d-d6bb2f9cbe6b",
   "metadata": {},
   "outputs": [],
   "source": [
    "models.ea <- models.ea[models.ea[,1] != \"(Intercept)\",]\n",
    "models.all <- models.all[models.all[,1] != \"(Intercept)\",]"
   ]
  },
  {
   "cell_type": "code",
   "execution_count": null,
   "id": "ad0d6d07-06f6-403d-8496-5dd34d8ba4b1",
   "metadata": {},
   "outputs": [],
   "source": [
    "if(!dir.exists(outd)) dir.create(outd)"
   ]
  },
  {
   "cell_type": "code",
   "execution_count": null,
   "id": "31fcde6d-935f-4342-b0ab-53f4fd02bb19",
   "metadata": {},
   "outputs": [],
   "source": [
    "head(models.all)"
   ]
  },
  {
   "cell_type": "code",
   "execution_count": null,
   "id": "cbd16f07-e859-4a62-9b7a-d55e0d3dba8b",
   "metadata": {},
   "outputs": [],
   "source": [
    "dim(models.all)"
   ]
  },
  {
   "cell_type": "code",
   "execution_count": null,
   "id": "882b49b4-c020-49d1-9689-b9aedae0083c",
   "metadata": {},
   "outputs": [],
   "source": [
    "# mwas by models of all samples\n",
    "cg2 <- unique(models.all$cg)\n",
    "mwas.all <- matrix(0,nrow=length(cg2),ncol=2)\n",
    "for(i in 1:length(cg2)){\n",
    "        pos <- models.all[models.all$cg == cg2[i],1]\n",
    "        gwas <- snp.gwas2$z[is.element(snp.gwas2$pos_hg38, pos)]\n",
    "        weight <- models.all[models.all$cg == cg2[i],2]\n",
    "        geno <- snp.1kg.eur2[match(pos,map.1kg.eur2$POS),]\n",
    "        mwas.all[i,] <- MWAS(gwas, weight, t(geno))\n",
    "}\n",
    "rownames(mwas.all) <- cg2\n",
    "colnames(mwas.all) <- c(\"z\",\"p\")\n",
    "\n",
    "# mwas by models of EA samples\n",
    "cg2 <- unique(models.ea$cg)\n",
    "mwas.ea <- matrix(0,nrow=length(cg2),ncol=2)\n",
    "for(i in 1:length(cg2)){\n",
    "        pos <- models.ea[models.ea$cg == cg2[i],1]\n",
    "        gwas <- snp.gwas2$z[is.element(snp.gwas2$pos_hg38, pos)]\n",
    "        weight <- models.ea[models.ea$cg == cg2[i],2]\n",
    "        geno <- snp.1kg.eur2[match(pos,map.1kg.eur2$POS),]\n",
    "        mwas.ea[i,] <- MWAS(gwas, weight, t(geno))\n",
    "}\n",
    "rownames(mwas.ea) <- cg2\n",
    "colnames(mwas.ea) <- c(\"z\",\"p\")\n",
    "\n",
    "# output models and mwas results\n",
    "outf <- paste0(outd,\"/models-a7-covnew.all.wind.\",wind[k])\n",
    "write.csv(models.all,outf)\n",
    "outf <- paste0(outd,\"/models-a7-covnew.ea.wind.\",wind[k])\n",
    "write.csv(models.ea,outf)\n",
    "outf <- paste0(outd,\"/mwas-a7-covnew.all.wind.\",wind[k])\n",
    "write.csv(mwas.all,outf)\n",
    "outf <- paste0(outd,\"/mwas-a7-covnew.ea.wind.\",wind[k])\n",
    "write.csv(mwas.ea,outf)"
   ]
  },
  {
   "cell_type": "code",
   "execution_count": null,
   "id": "04992281-b1cb-48dd-8b7a-4c4db9200427",
   "metadata": {},
   "outputs": [],
   "source": [
    "mwas.all"
   ]
  },
  {
   "cell_type": "markdown",
   "id": "71093f94-d9a8-499a-aa7c-9b7671f158e3",
   "metadata": {},
   "source": [
    "We get the same results with old SNPs,"
   ]
  },
  {
   "cell_type": "markdown",
   "id": "ce845b8d-f0f2-4987-9f1f-6ef5b14bc41e",
   "metadata": {},
   "source": [
    "## Compare with results from CpGWAS"
   ]
  },
  {
   "cell_type": "code",
   "execution_count": null,
   "id": "808804e1-b3d9-40d6-8199-79c13df224c3",
   "metadata": {},
   "outputs": [],
   "source": [
    "# results <- fread(\"16a9par-OUT_stage2_MWAS_scz.csv\")\n",
    "\n",
    "# results <- results[which(results$chr == 7 & results$pos >= 1987413 & results$pos <= 1988332), ]\n",
    "\n",
    "# results <- results[which(results$population == \"EA\" & results$region == \"caud\"), ]\n",
    "\n",
    "# head(results)"
   ]
  },
  {
   "cell_type": "code",
   "execution_count": null,
   "id": "2edb066e-b6fb-441b-b179-050937915dc1",
   "metadata": {},
   "outputs": [],
   "source": []
  }
 ],
 "metadata": {
  "kernelspec": {
   "display_name": "R",
   "language": "R",
   "name": "ir"
  },
  "language_info": {
   "codemirror_mode": "r",
   "file_extension": ".r",
   "mimetype": "text/x-r-source",
   "name": "R",
   "pygments_lexer": "r",
   "version": "4.3.1"
  }
 },
 "nbformat": 4,
 "nbformat_minor": 5
}
