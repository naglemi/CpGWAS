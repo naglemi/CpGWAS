{
 "cells": [
  {
   "cell_type": "markdown",
   "id": "f02d8dcb-ce43-410f-a9f5-cd2fdb8d5f8a",
   "metadata": {},
   "source": [
    "# Match up SNP, methylation and covariate files to be analyzed together"
   ]
  },
  {
   "cell_type": "markdown",
   "id": "890c92dc-0bf6-4a7c-978c-2237c91bcdb5",
   "metadata": {},
   "source": [
    "As part of this, we will determine which methylation sites have coverage in the SNP data and should be analyzed."
   ]
  },
  {
   "cell_type": "markdown",
   "id": "11ab38a4-cbb6-4843-8d2a-23761d2af9d3",
   "metadata": {},
   "source": [
    "## Match SNP and methylation files"
   ]
  },
  {
   "cell_type": "code",
   "execution_count": 1,
   "id": "a43638a7-5919-4575-a93b-1892081d386a",
   "metadata": {},
   "outputs": [],
   "source": [
    "library(stringr)"
   ]
  },
  {
   "cell_type": "code",
   "execution_count": 2,
   "id": "02110f3e-3256-4fa6-8433-ea4874857cc6",
   "metadata": {},
   "outputs": [],
   "source": [
    "SNP_files <- list.files(#\"/expanse/lustre/projects/jhu152/naglemi/mwas/gwas/\",\n",
    "                        \"/dcs04/lieber/statsgen/shizhong/michael/mwas/gwas\",\n",
    "                        pattern = \"pgen\", full.names = TRUE)\n",
    "SNP_files <- SNP_files[ordered(SNP_files)]\n",
    "\n",
    "SNP_files_libd <- data.frame(SNPs_libd = SNP_files[grepl(\"libd\", SNP_files)])\n",
    "SNP_files_ref_EUR <- data.frame(SNPs_ref_EUR = SNP_files[grepl(\"ref_EUR\", SNP_files)])\n",
    "\n",
    "SNP_files_libd$Chr <- as.numeric(stringr::str_extract(SNP_files_libd$SNPs_libd, \"(?<=chr)\\\\d+\"))\n",
    "SNP_files_ref_EUR$Chr <- as.numeric(stringr::str_extract(SNP_files_ref_EUR$SNPs_ref_EUR, \"(?<=chr)\\\\d+\"))\n",
    "\n",
    "SNP_files <- merge(SNP_files_libd, SNP_files_ref_EUR)"
   ]
  },
  {
   "cell_type": "code",
   "execution_count": 3,
   "id": "6a111d49-fe5f-4cca-a6aa-eaf87f18d66f",
   "metadata": {
    "scrolled": true
   },
   "outputs": [],
   "source": [
    "meth_files <- list.files(\"/dcs04/lieber/statsgen/shizhong/michael/mwas/pheno\", recursive = TRUE, pattern = \"rda\", full.names = TRUE)"
   ]
  },
  {
   "cell_type": "markdown",
   "id": "48d044b2-2146-4221-b670-56351ddc26c0",
   "metadata": {},
   "source": [
    "We will bring in original dlpfc and hippo methylation files, and the caudate files that were reprocessed to store everything in given files (where previously those ones had h5 pointers)"
   ]
  },
  {
   "cell_type": "code",
   "execution_count": 4,
   "id": "597fc11a-9af9-45e5-85bd-332ce7c21fb1",
   "metadata": {},
   "outputs": [],
   "source": [
    "#meth_caud <- data.frame(meth_caud = meth_files[grepl(\"caud\", meth_files)])\n",
    "meth_dlpfc <- data.frame(meth_dlpfc = meth_files[grepl(\"dlpfc\", meth_files)])\n",
    "meth_hippo <- data.frame(meth_hippo = meth_files[grepl(\"hippo\", meth_files)])"
   ]
  },
  {
   "cell_type": "code",
   "execution_count": 5,
   "id": "af6d76ed-a58f-48e6-b528-6eec20184763",
   "metadata": {},
   "outputs": [],
   "source": [
    "meth_caud_files <- list.files(\"/dcs04/lieber/statsgen/mnagle/mwas/pheno/caud\",\n",
    "                              recursive = TRUE, pattern = \"rda\", full.names = TRUE)\n",
    "meth_caud <- data.frame(meth_caud = meth_caud_files[grepl(\"caud\", meth_caud_files)])"
   ]
  },
  {
   "cell_type": "code",
   "execution_count": 6,
   "id": "91ef29dd-8f93-4cdb-a023-aba560aee00f",
   "metadata": {},
   "outputs": [
    {
     "data": {
      "text/html": [
       "<table class=\"dataframe\">\n",
       "<caption>A data.frame: 6 × 1</caption>\n",
       "<thead>\n",
       "\t<tr><th></th><th scope=col>meth_dlpfc</th></tr>\n",
       "\t<tr><th></th><th scope=col>&lt;chr&gt;</th></tr>\n",
       "</thead>\n",
       "<tbody>\n",
       "\t<tr><th scope=row>1</th><td>/dcs04/lieber/statsgen/shizhong/michael/mwas/pheno/dlpfc/out/chr1_AA.rda  </td></tr>\n",
       "\t<tr><th scope=row>2</th><td>/dcs04/lieber/statsgen/shizhong/michael/mwas/pheno/dlpfc/out/chr1_all.rda </td></tr>\n",
       "\t<tr><th scope=row>3</th><td>/dcs04/lieber/statsgen/shizhong/michael/mwas/pheno/dlpfc/out/chr1_EA.rda  </td></tr>\n",
       "\t<tr><th scope=row>4</th><td>/dcs04/lieber/statsgen/shizhong/michael/mwas/pheno/dlpfc/out/chr10_AA.rda </td></tr>\n",
       "\t<tr><th scope=row>5</th><td>/dcs04/lieber/statsgen/shizhong/michael/mwas/pheno/dlpfc/out/chr10_all.rda</td></tr>\n",
       "\t<tr><th scope=row>6</th><td>/dcs04/lieber/statsgen/shizhong/michael/mwas/pheno/dlpfc/out/chr10_EA.rda </td></tr>\n",
       "</tbody>\n",
       "</table>\n"
      ],
      "text/latex": [
       "A data.frame: 6 × 1\n",
       "\\begin{tabular}{r|l}\n",
       "  & meth\\_dlpfc\\\\\n",
       "  & <chr>\\\\\n",
       "\\hline\n",
       "\t1 & /dcs04/lieber/statsgen/shizhong/michael/mwas/pheno/dlpfc/out/chr1\\_AA.rda  \\\\\n",
       "\t2 & /dcs04/lieber/statsgen/shizhong/michael/mwas/pheno/dlpfc/out/chr1\\_all.rda \\\\\n",
       "\t3 & /dcs04/lieber/statsgen/shizhong/michael/mwas/pheno/dlpfc/out/chr1\\_EA.rda  \\\\\n",
       "\t4 & /dcs04/lieber/statsgen/shizhong/michael/mwas/pheno/dlpfc/out/chr10\\_AA.rda \\\\\n",
       "\t5 & /dcs04/lieber/statsgen/shizhong/michael/mwas/pheno/dlpfc/out/chr10\\_all.rda\\\\\n",
       "\t6 & /dcs04/lieber/statsgen/shizhong/michael/mwas/pheno/dlpfc/out/chr10\\_EA.rda \\\\\n",
       "\\end{tabular}\n"
      ],
      "text/markdown": [
       "\n",
       "A data.frame: 6 × 1\n",
       "\n",
       "| <!--/--> | meth_dlpfc &lt;chr&gt; |\n",
       "|---|---|\n",
       "| 1 | /dcs04/lieber/statsgen/shizhong/michael/mwas/pheno/dlpfc/out/chr1_AA.rda   |\n",
       "| 2 | /dcs04/lieber/statsgen/shizhong/michael/mwas/pheno/dlpfc/out/chr1_all.rda  |\n",
       "| 3 | /dcs04/lieber/statsgen/shizhong/michael/mwas/pheno/dlpfc/out/chr1_EA.rda   |\n",
       "| 4 | /dcs04/lieber/statsgen/shizhong/michael/mwas/pheno/dlpfc/out/chr10_AA.rda  |\n",
       "| 5 | /dcs04/lieber/statsgen/shizhong/michael/mwas/pheno/dlpfc/out/chr10_all.rda |\n",
       "| 6 | /dcs04/lieber/statsgen/shizhong/michael/mwas/pheno/dlpfc/out/chr10_EA.rda  |\n",
       "\n"
      ],
      "text/plain": [
       "  meth_dlpfc                                                                \n",
       "1 /dcs04/lieber/statsgen/shizhong/michael/mwas/pheno/dlpfc/out/chr1_AA.rda  \n",
       "2 /dcs04/lieber/statsgen/shizhong/michael/mwas/pheno/dlpfc/out/chr1_all.rda \n",
       "3 /dcs04/lieber/statsgen/shizhong/michael/mwas/pheno/dlpfc/out/chr1_EA.rda  \n",
       "4 /dcs04/lieber/statsgen/shizhong/michael/mwas/pheno/dlpfc/out/chr10_AA.rda \n",
       "5 /dcs04/lieber/statsgen/shizhong/michael/mwas/pheno/dlpfc/out/chr10_all.rda\n",
       "6 /dcs04/lieber/statsgen/shizhong/michael/mwas/pheno/dlpfc/out/chr10_EA.rda "
      ]
     },
     "metadata": {},
     "output_type": "display_data"
    }
   ],
   "source": [
    "head(meth_dlpfc)"
   ]
  },
  {
   "cell_type": "code",
   "execution_count": 7,
   "id": "5d964444-1d4d-4ada-a8aa-2ffc8ce688e1",
   "metadata": {},
   "outputs": [
    {
     "data": {
      "text/html": [
       "<table class=\"dataframe\">\n",
       "<caption>A data.frame: 6 × 1</caption>\n",
       "<thead>\n",
       "\t<tr><th></th><th scope=col>meth_caud</th></tr>\n",
       "\t<tr><th></th><th scope=col>&lt;chr&gt;</th></tr>\n",
       "</thead>\n",
       "<tbody>\n",
       "\t<tr><th scope=row>1</th><td>/dcs04/lieber/statsgen/mnagle/mwas/pheno/caud/out/chr1_AA.rda  </td></tr>\n",
       "\t<tr><th scope=row>2</th><td>/dcs04/lieber/statsgen/mnagle/mwas/pheno/caud/out/chr1_all.rda </td></tr>\n",
       "\t<tr><th scope=row>3</th><td>/dcs04/lieber/statsgen/mnagle/mwas/pheno/caud/out/chr1_EA.rda  </td></tr>\n",
       "\t<tr><th scope=row>4</th><td>/dcs04/lieber/statsgen/mnagle/mwas/pheno/caud/out/chr10_AA.rda </td></tr>\n",
       "\t<tr><th scope=row>5</th><td>/dcs04/lieber/statsgen/mnagle/mwas/pheno/caud/out/chr10_all.rda</td></tr>\n",
       "\t<tr><th scope=row>6</th><td>/dcs04/lieber/statsgen/mnagle/mwas/pheno/caud/out/chr10_EA.rda </td></tr>\n",
       "</tbody>\n",
       "</table>\n"
      ],
      "text/latex": [
       "A data.frame: 6 × 1\n",
       "\\begin{tabular}{r|l}\n",
       "  & meth\\_caud\\\\\n",
       "  & <chr>\\\\\n",
       "\\hline\n",
       "\t1 & /dcs04/lieber/statsgen/mnagle/mwas/pheno/caud/out/chr1\\_AA.rda  \\\\\n",
       "\t2 & /dcs04/lieber/statsgen/mnagle/mwas/pheno/caud/out/chr1\\_all.rda \\\\\n",
       "\t3 & /dcs04/lieber/statsgen/mnagle/mwas/pheno/caud/out/chr1\\_EA.rda  \\\\\n",
       "\t4 & /dcs04/lieber/statsgen/mnagle/mwas/pheno/caud/out/chr10\\_AA.rda \\\\\n",
       "\t5 & /dcs04/lieber/statsgen/mnagle/mwas/pheno/caud/out/chr10\\_all.rda\\\\\n",
       "\t6 & /dcs04/lieber/statsgen/mnagle/mwas/pheno/caud/out/chr10\\_EA.rda \\\\\n",
       "\\end{tabular}\n"
      ],
      "text/markdown": [
       "\n",
       "A data.frame: 6 × 1\n",
       "\n",
       "| <!--/--> | meth_caud &lt;chr&gt; |\n",
       "|---|---|\n",
       "| 1 | /dcs04/lieber/statsgen/mnagle/mwas/pheno/caud/out/chr1_AA.rda   |\n",
       "| 2 | /dcs04/lieber/statsgen/mnagle/mwas/pheno/caud/out/chr1_all.rda  |\n",
       "| 3 | /dcs04/lieber/statsgen/mnagle/mwas/pheno/caud/out/chr1_EA.rda   |\n",
       "| 4 | /dcs04/lieber/statsgen/mnagle/mwas/pheno/caud/out/chr10_AA.rda  |\n",
       "| 5 | /dcs04/lieber/statsgen/mnagle/mwas/pheno/caud/out/chr10_all.rda |\n",
       "| 6 | /dcs04/lieber/statsgen/mnagle/mwas/pheno/caud/out/chr10_EA.rda  |\n",
       "\n"
      ],
      "text/plain": [
       "  meth_caud                                                      \n",
       "1 /dcs04/lieber/statsgen/mnagle/mwas/pheno/caud/out/chr1_AA.rda  \n",
       "2 /dcs04/lieber/statsgen/mnagle/mwas/pheno/caud/out/chr1_all.rda \n",
       "3 /dcs04/lieber/statsgen/mnagle/mwas/pheno/caud/out/chr1_EA.rda  \n",
       "4 /dcs04/lieber/statsgen/mnagle/mwas/pheno/caud/out/chr10_AA.rda \n",
       "5 /dcs04/lieber/statsgen/mnagle/mwas/pheno/caud/out/chr10_all.rda\n",
       "6 /dcs04/lieber/statsgen/mnagle/mwas/pheno/caud/out/chr10_EA.rda "
      ]
     },
     "metadata": {},
     "output_type": "display_data"
    }
   ],
   "source": [
    "head(meth_caud)"
   ]
  },
  {
   "cell_type": "code",
   "execution_count": 8,
   "id": "7ea3c702-d849-499c-b861-db7a57743e55",
   "metadata": {},
   "outputs": [],
   "source": [
    "meth_caud$Chr <- as.numeric(str_extract(meth_caud$meth_caud, \"(?<=chr)\\\\d+(?=_)\"))\n",
    "meth_dlpfc$Chr <- as.numeric(str_extract(meth_dlpfc$meth_dlpfc, \"(?<=chr)\\\\d+(?=_)\"))\n",
    "meth_hippo$Chr <- as.numeric(str_extract(meth_hippo$meth_hippo, \"(?<=chr)\\\\d+(?=_)\"))"
   ]
  },
  {
   "cell_type": "code",
   "execution_count": 9,
   "id": "ff859ff9-1233-4931-86ef-d4f33c3feb19",
   "metadata": {},
   "outputs": [],
   "source": [
    "reshape_and_rename_corrected <- function(data, region) {\n",
    "  # Extracting the type (AA, EA, all) based on the filename pattern\n",
    "  data$Type <- gsub(paste0(\".*\", region, \"/out/chr\\\\d+_(AA|EA|all)\\\\.rda\"), \"\\\\1\", data[[1]])\n",
    "  \n",
    "  # Creating a wide dataframe with separate columns for AA, EA, and all\n",
    "  wide_data <- reshape(data, idvar = \"Chr\", timevar = \"Type\", direction = \"wide\")\n",
    "  \n",
    "  # Correcting column names to include only the region and type without redundant parts\n",
    "  colnames(wide_data)[-1] <- sapply(colnames(wide_data)[-1], function(x) {\n",
    "    paste(region, gsub(\".*\\\\.(AA|EA|all)$\", \"\\\\1\", x), sep = \"_\")\n",
    "  })\n",
    "  \n",
    "  return(wide_data)\n",
    "}\n",
    "\n",
    "# Applying the corrected function to each dataset\n",
    "meth_caud_wide <- reshape_and_rename_corrected(meth_caud, \"caud\")\n",
    "meth_dlpfc_wide <- reshape_and_rename_corrected(meth_dlpfc, \"dlpfc\")\n",
    "meth_hippo_wide <- reshape_and_rename_corrected(meth_hippo, \"hippo\")\n",
    "\n",
    "merged_data <- Reduce(function(x, y) merge(x, y, by = \"Chr\", all = TRUE), list(meth_caud_wide, meth_dlpfc_wide, meth_hippo_wide))\n"
   ]
  },
  {
   "cell_type": "code",
   "execution_count": 10,
   "id": "d4eeee20-fa45-4c7f-af37-0d2a8edc1bc8",
   "metadata": {},
   "outputs": [
    {
     "data": {
      "text/html": [
       "<table class=\"dataframe\">\n",
       "<caption>A data.frame: 6 × 10</caption>\n",
       "<thead>\n",
       "\t<tr><th></th><th scope=col>Chr</th><th scope=col>caud_AA</th><th scope=col>caud_all</th><th scope=col>caud_EA</th><th scope=col>dlpfc_AA</th><th scope=col>dlpfc_all</th><th scope=col>dlpfc_EA</th><th scope=col>hippo_AA</th><th scope=col>hippo_all</th><th scope=col>hippo_EA</th></tr>\n",
       "\t<tr><th></th><th scope=col>&lt;dbl&gt;</th><th scope=col>&lt;chr&gt;</th><th scope=col>&lt;chr&gt;</th><th scope=col>&lt;chr&gt;</th><th scope=col>&lt;chr&gt;</th><th scope=col>&lt;chr&gt;</th><th scope=col>&lt;chr&gt;</th><th scope=col>&lt;chr&gt;</th><th scope=col>&lt;chr&gt;</th><th scope=col>&lt;chr&gt;</th></tr>\n",
       "</thead>\n",
       "<tbody>\n",
       "\t<tr><th scope=row>1</th><td>1</td><td>/dcs04/lieber/statsgen/mnagle/mwas/pheno/caud/out/chr1_AA.rda</td><td>/dcs04/lieber/statsgen/mnagle/mwas/pheno/caud/out/chr1_all.rda</td><td>/dcs04/lieber/statsgen/mnagle/mwas/pheno/caud/out/chr1_EA.rda</td><td>/dcs04/lieber/statsgen/shizhong/michael/mwas/pheno/dlpfc/out/chr1_AA.rda</td><td>/dcs04/lieber/statsgen/shizhong/michael/mwas/pheno/dlpfc/out/chr1_all.rda</td><td>/dcs04/lieber/statsgen/shizhong/michael/mwas/pheno/dlpfc/out/chr1_EA.rda</td><td>/dcs04/lieber/statsgen/shizhong/michael/mwas/pheno/hippo/out/chr1_AA.rda</td><td>/dcs04/lieber/statsgen/shizhong/michael/mwas/pheno/hippo/out/chr1_all.rda</td><td>/dcs04/lieber/statsgen/shizhong/michael/mwas/pheno/hippo/out/chr1_EA.rda</td></tr>\n",
       "\t<tr><th scope=row>2</th><td>2</td><td>/dcs04/lieber/statsgen/mnagle/mwas/pheno/caud/out/chr2_AA.rda</td><td>/dcs04/lieber/statsgen/mnagle/mwas/pheno/caud/out/chr2_all.rda</td><td>/dcs04/lieber/statsgen/mnagle/mwas/pheno/caud/out/chr2_EA.rda</td><td>/dcs04/lieber/statsgen/shizhong/michael/mwas/pheno/dlpfc/out/chr2_AA.rda</td><td>/dcs04/lieber/statsgen/shizhong/michael/mwas/pheno/dlpfc/out/chr2_all.rda</td><td>/dcs04/lieber/statsgen/shizhong/michael/mwas/pheno/dlpfc/out/chr2_EA.rda</td><td>/dcs04/lieber/statsgen/shizhong/michael/mwas/pheno/hippo/out/chr2_AA.rda</td><td>/dcs04/lieber/statsgen/shizhong/michael/mwas/pheno/hippo/out/chr2_all.rda</td><td>/dcs04/lieber/statsgen/shizhong/michael/mwas/pheno/hippo/out/chr2_EA.rda</td></tr>\n",
       "\t<tr><th scope=row>3</th><td>3</td><td>/dcs04/lieber/statsgen/mnagle/mwas/pheno/caud/out/chr3_AA.rda</td><td>/dcs04/lieber/statsgen/mnagle/mwas/pheno/caud/out/chr3_all.rda</td><td>/dcs04/lieber/statsgen/mnagle/mwas/pheno/caud/out/chr3_EA.rda</td><td>/dcs04/lieber/statsgen/shizhong/michael/mwas/pheno/dlpfc/out/chr3_AA.rda</td><td>/dcs04/lieber/statsgen/shizhong/michael/mwas/pheno/dlpfc/out/chr3_all.rda</td><td>/dcs04/lieber/statsgen/shizhong/michael/mwas/pheno/dlpfc/out/chr3_EA.rda</td><td>/dcs04/lieber/statsgen/shizhong/michael/mwas/pheno/hippo/out/chr3_AA.rda</td><td>/dcs04/lieber/statsgen/shizhong/michael/mwas/pheno/hippo/out/chr3_all.rda</td><td>/dcs04/lieber/statsgen/shizhong/michael/mwas/pheno/hippo/out/chr3_EA.rda</td></tr>\n",
       "\t<tr><th scope=row>4</th><td>4</td><td>/dcs04/lieber/statsgen/mnagle/mwas/pheno/caud/out/chr4_AA.rda</td><td>/dcs04/lieber/statsgen/mnagle/mwas/pheno/caud/out/chr4_all.rda</td><td>/dcs04/lieber/statsgen/mnagle/mwas/pheno/caud/out/chr4_EA.rda</td><td>/dcs04/lieber/statsgen/shizhong/michael/mwas/pheno/dlpfc/out/chr4_AA.rda</td><td>/dcs04/lieber/statsgen/shizhong/michael/mwas/pheno/dlpfc/out/chr4_all.rda</td><td>/dcs04/lieber/statsgen/shizhong/michael/mwas/pheno/dlpfc/out/chr4_EA.rda</td><td>/dcs04/lieber/statsgen/shizhong/michael/mwas/pheno/hippo/out/chr4_AA.rda</td><td>/dcs04/lieber/statsgen/shizhong/michael/mwas/pheno/hippo/out/chr4_all.rda</td><td>/dcs04/lieber/statsgen/shizhong/michael/mwas/pheno/hippo/out/chr4_EA.rda</td></tr>\n",
       "\t<tr><th scope=row>5</th><td>5</td><td>/dcs04/lieber/statsgen/mnagle/mwas/pheno/caud/out/chr5_AA.rda</td><td>/dcs04/lieber/statsgen/mnagle/mwas/pheno/caud/out/chr5_all.rda</td><td>/dcs04/lieber/statsgen/mnagle/mwas/pheno/caud/out/chr5_EA.rda</td><td>/dcs04/lieber/statsgen/shizhong/michael/mwas/pheno/dlpfc/out/chr5_AA.rda</td><td>/dcs04/lieber/statsgen/shizhong/michael/mwas/pheno/dlpfc/out/chr5_all.rda</td><td>/dcs04/lieber/statsgen/shizhong/michael/mwas/pheno/dlpfc/out/chr5_EA.rda</td><td>/dcs04/lieber/statsgen/shizhong/michael/mwas/pheno/hippo/out/chr5_AA.rda</td><td>/dcs04/lieber/statsgen/shizhong/michael/mwas/pheno/hippo/out/chr5_all.rda</td><td>/dcs04/lieber/statsgen/shizhong/michael/mwas/pheno/hippo/out/chr5_EA.rda</td></tr>\n",
       "\t<tr><th scope=row>6</th><td>6</td><td>/dcs04/lieber/statsgen/mnagle/mwas/pheno/caud/out/chr6_AA.rda</td><td>/dcs04/lieber/statsgen/mnagle/mwas/pheno/caud/out/chr6_all.rda</td><td>/dcs04/lieber/statsgen/mnagle/mwas/pheno/caud/out/chr6_EA.rda</td><td>/dcs04/lieber/statsgen/shizhong/michael/mwas/pheno/dlpfc/out/chr6_AA.rda</td><td>/dcs04/lieber/statsgen/shizhong/michael/mwas/pheno/dlpfc/out/chr6_all.rda</td><td>/dcs04/lieber/statsgen/shizhong/michael/mwas/pheno/dlpfc/out/chr6_EA.rda</td><td>/dcs04/lieber/statsgen/shizhong/michael/mwas/pheno/hippo/out/chr6_AA.rda</td><td>/dcs04/lieber/statsgen/shizhong/michael/mwas/pheno/hippo/out/chr6_all.rda</td><td>/dcs04/lieber/statsgen/shizhong/michael/mwas/pheno/hippo/out/chr6_EA.rda</td></tr>\n",
       "</tbody>\n",
       "</table>\n"
      ],
      "text/latex": [
       "A data.frame: 6 × 10\n",
       "\\begin{tabular}{r|llllllllll}\n",
       "  & Chr & caud\\_AA & caud\\_all & caud\\_EA & dlpfc\\_AA & dlpfc\\_all & dlpfc\\_EA & hippo\\_AA & hippo\\_all & hippo\\_EA\\\\\n",
       "  & <dbl> & <chr> & <chr> & <chr> & <chr> & <chr> & <chr> & <chr> & <chr> & <chr>\\\\\n",
       "\\hline\n",
       "\t1 & 1 & /dcs04/lieber/statsgen/mnagle/mwas/pheno/caud/out/chr1\\_AA.rda & /dcs04/lieber/statsgen/mnagle/mwas/pheno/caud/out/chr1\\_all.rda & /dcs04/lieber/statsgen/mnagle/mwas/pheno/caud/out/chr1\\_EA.rda & /dcs04/lieber/statsgen/shizhong/michael/mwas/pheno/dlpfc/out/chr1\\_AA.rda & /dcs04/lieber/statsgen/shizhong/michael/mwas/pheno/dlpfc/out/chr1\\_all.rda & /dcs04/lieber/statsgen/shizhong/michael/mwas/pheno/dlpfc/out/chr1\\_EA.rda & /dcs04/lieber/statsgen/shizhong/michael/mwas/pheno/hippo/out/chr1\\_AA.rda & /dcs04/lieber/statsgen/shizhong/michael/mwas/pheno/hippo/out/chr1\\_all.rda & /dcs04/lieber/statsgen/shizhong/michael/mwas/pheno/hippo/out/chr1\\_EA.rda\\\\\n",
       "\t2 & 2 & /dcs04/lieber/statsgen/mnagle/mwas/pheno/caud/out/chr2\\_AA.rda & /dcs04/lieber/statsgen/mnagle/mwas/pheno/caud/out/chr2\\_all.rda & /dcs04/lieber/statsgen/mnagle/mwas/pheno/caud/out/chr2\\_EA.rda & /dcs04/lieber/statsgen/shizhong/michael/mwas/pheno/dlpfc/out/chr2\\_AA.rda & /dcs04/lieber/statsgen/shizhong/michael/mwas/pheno/dlpfc/out/chr2\\_all.rda & /dcs04/lieber/statsgen/shizhong/michael/mwas/pheno/dlpfc/out/chr2\\_EA.rda & /dcs04/lieber/statsgen/shizhong/michael/mwas/pheno/hippo/out/chr2\\_AA.rda & /dcs04/lieber/statsgen/shizhong/michael/mwas/pheno/hippo/out/chr2\\_all.rda & /dcs04/lieber/statsgen/shizhong/michael/mwas/pheno/hippo/out/chr2\\_EA.rda\\\\\n",
       "\t3 & 3 & /dcs04/lieber/statsgen/mnagle/mwas/pheno/caud/out/chr3\\_AA.rda & /dcs04/lieber/statsgen/mnagle/mwas/pheno/caud/out/chr3\\_all.rda & /dcs04/lieber/statsgen/mnagle/mwas/pheno/caud/out/chr3\\_EA.rda & /dcs04/lieber/statsgen/shizhong/michael/mwas/pheno/dlpfc/out/chr3\\_AA.rda & /dcs04/lieber/statsgen/shizhong/michael/mwas/pheno/dlpfc/out/chr3\\_all.rda & /dcs04/lieber/statsgen/shizhong/michael/mwas/pheno/dlpfc/out/chr3\\_EA.rda & /dcs04/lieber/statsgen/shizhong/michael/mwas/pheno/hippo/out/chr3\\_AA.rda & /dcs04/lieber/statsgen/shizhong/michael/mwas/pheno/hippo/out/chr3\\_all.rda & /dcs04/lieber/statsgen/shizhong/michael/mwas/pheno/hippo/out/chr3\\_EA.rda\\\\\n",
       "\t4 & 4 & /dcs04/lieber/statsgen/mnagle/mwas/pheno/caud/out/chr4\\_AA.rda & /dcs04/lieber/statsgen/mnagle/mwas/pheno/caud/out/chr4\\_all.rda & /dcs04/lieber/statsgen/mnagle/mwas/pheno/caud/out/chr4\\_EA.rda & /dcs04/lieber/statsgen/shizhong/michael/mwas/pheno/dlpfc/out/chr4\\_AA.rda & /dcs04/lieber/statsgen/shizhong/michael/mwas/pheno/dlpfc/out/chr4\\_all.rda & /dcs04/lieber/statsgen/shizhong/michael/mwas/pheno/dlpfc/out/chr4\\_EA.rda & /dcs04/lieber/statsgen/shizhong/michael/mwas/pheno/hippo/out/chr4\\_AA.rda & /dcs04/lieber/statsgen/shizhong/michael/mwas/pheno/hippo/out/chr4\\_all.rda & /dcs04/lieber/statsgen/shizhong/michael/mwas/pheno/hippo/out/chr4\\_EA.rda\\\\\n",
       "\t5 & 5 & /dcs04/lieber/statsgen/mnagle/mwas/pheno/caud/out/chr5\\_AA.rda & /dcs04/lieber/statsgen/mnagle/mwas/pheno/caud/out/chr5\\_all.rda & /dcs04/lieber/statsgen/mnagle/mwas/pheno/caud/out/chr5\\_EA.rda & /dcs04/lieber/statsgen/shizhong/michael/mwas/pheno/dlpfc/out/chr5\\_AA.rda & /dcs04/lieber/statsgen/shizhong/michael/mwas/pheno/dlpfc/out/chr5\\_all.rda & /dcs04/lieber/statsgen/shizhong/michael/mwas/pheno/dlpfc/out/chr5\\_EA.rda & /dcs04/lieber/statsgen/shizhong/michael/mwas/pheno/hippo/out/chr5\\_AA.rda & /dcs04/lieber/statsgen/shizhong/michael/mwas/pheno/hippo/out/chr5\\_all.rda & /dcs04/lieber/statsgen/shizhong/michael/mwas/pheno/hippo/out/chr5\\_EA.rda\\\\\n",
       "\t6 & 6 & /dcs04/lieber/statsgen/mnagle/mwas/pheno/caud/out/chr6\\_AA.rda & /dcs04/lieber/statsgen/mnagle/mwas/pheno/caud/out/chr6\\_all.rda & /dcs04/lieber/statsgen/mnagle/mwas/pheno/caud/out/chr6\\_EA.rda & /dcs04/lieber/statsgen/shizhong/michael/mwas/pheno/dlpfc/out/chr6\\_AA.rda & /dcs04/lieber/statsgen/shizhong/michael/mwas/pheno/dlpfc/out/chr6\\_all.rda & /dcs04/lieber/statsgen/shizhong/michael/mwas/pheno/dlpfc/out/chr6\\_EA.rda & /dcs04/lieber/statsgen/shizhong/michael/mwas/pheno/hippo/out/chr6\\_AA.rda & /dcs04/lieber/statsgen/shizhong/michael/mwas/pheno/hippo/out/chr6\\_all.rda & /dcs04/lieber/statsgen/shizhong/michael/mwas/pheno/hippo/out/chr6\\_EA.rda\\\\\n",
       "\\end{tabular}\n"
      ],
      "text/markdown": [
       "\n",
       "A data.frame: 6 × 10\n",
       "\n",
       "| <!--/--> | Chr &lt;dbl&gt; | caud_AA &lt;chr&gt; | caud_all &lt;chr&gt; | caud_EA &lt;chr&gt; | dlpfc_AA &lt;chr&gt; | dlpfc_all &lt;chr&gt; | dlpfc_EA &lt;chr&gt; | hippo_AA &lt;chr&gt; | hippo_all &lt;chr&gt; | hippo_EA &lt;chr&gt; |\n",
       "|---|---|---|---|---|---|---|---|---|---|---|\n",
       "| 1 | 1 | /dcs04/lieber/statsgen/mnagle/mwas/pheno/caud/out/chr1_AA.rda | /dcs04/lieber/statsgen/mnagle/mwas/pheno/caud/out/chr1_all.rda | /dcs04/lieber/statsgen/mnagle/mwas/pheno/caud/out/chr1_EA.rda | /dcs04/lieber/statsgen/shizhong/michael/mwas/pheno/dlpfc/out/chr1_AA.rda | /dcs04/lieber/statsgen/shizhong/michael/mwas/pheno/dlpfc/out/chr1_all.rda | /dcs04/lieber/statsgen/shizhong/michael/mwas/pheno/dlpfc/out/chr1_EA.rda | /dcs04/lieber/statsgen/shizhong/michael/mwas/pheno/hippo/out/chr1_AA.rda | /dcs04/lieber/statsgen/shizhong/michael/mwas/pheno/hippo/out/chr1_all.rda | /dcs04/lieber/statsgen/shizhong/michael/mwas/pheno/hippo/out/chr1_EA.rda |\n",
       "| 2 | 2 | /dcs04/lieber/statsgen/mnagle/mwas/pheno/caud/out/chr2_AA.rda | /dcs04/lieber/statsgen/mnagle/mwas/pheno/caud/out/chr2_all.rda | /dcs04/lieber/statsgen/mnagle/mwas/pheno/caud/out/chr2_EA.rda | /dcs04/lieber/statsgen/shizhong/michael/mwas/pheno/dlpfc/out/chr2_AA.rda | /dcs04/lieber/statsgen/shizhong/michael/mwas/pheno/dlpfc/out/chr2_all.rda | /dcs04/lieber/statsgen/shizhong/michael/mwas/pheno/dlpfc/out/chr2_EA.rda | /dcs04/lieber/statsgen/shizhong/michael/mwas/pheno/hippo/out/chr2_AA.rda | /dcs04/lieber/statsgen/shizhong/michael/mwas/pheno/hippo/out/chr2_all.rda | /dcs04/lieber/statsgen/shizhong/michael/mwas/pheno/hippo/out/chr2_EA.rda |\n",
       "| 3 | 3 | /dcs04/lieber/statsgen/mnagle/mwas/pheno/caud/out/chr3_AA.rda | /dcs04/lieber/statsgen/mnagle/mwas/pheno/caud/out/chr3_all.rda | /dcs04/lieber/statsgen/mnagle/mwas/pheno/caud/out/chr3_EA.rda | /dcs04/lieber/statsgen/shizhong/michael/mwas/pheno/dlpfc/out/chr3_AA.rda | /dcs04/lieber/statsgen/shizhong/michael/mwas/pheno/dlpfc/out/chr3_all.rda | /dcs04/lieber/statsgen/shizhong/michael/mwas/pheno/dlpfc/out/chr3_EA.rda | /dcs04/lieber/statsgen/shizhong/michael/mwas/pheno/hippo/out/chr3_AA.rda | /dcs04/lieber/statsgen/shizhong/michael/mwas/pheno/hippo/out/chr3_all.rda | /dcs04/lieber/statsgen/shizhong/michael/mwas/pheno/hippo/out/chr3_EA.rda |\n",
       "| 4 | 4 | /dcs04/lieber/statsgen/mnagle/mwas/pheno/caud/out/chr4_AA.rda | /dcs04/lieber/statsgen/mnagle/mwas/pheno/caud/out/chr4_all.rda | /dcs04/lieber/statsgen/mnagle/mwas/pheno/caud/out/chr4_EA.rda | /dcs04/lieber/statsgen/shizhong/michael/mwas/pheno/dlpfc/out/chr4_AA.rda | /dcs04/lieber/statsgen/shizhong/michael/mwas/pheno/dlpfc/out/chr4_all.rda | /dcs04/lieber/statsgen/shizhong/michael/mwas/pheno/dlpfc/out/chr4_EA.rda | /dcs04/lieber/statsgen/shizhong/michael/mwas/pheno/hippo/out/chr4_AA.rda | /dcs04/lieber/statsgen/shizhong/michael/mwas/pheno/hippo/out/chr4_all.rda | /dcs04/lieber/statsgen/shizhong/michael/mwas/pheno/hippo/out/chr4_EA.rda |\n",
       "| 5 | 5 | /dcs04/lieber/statsgen/mnagle/mwas/pheno/caud/out/chr5_AA.rda | /dcs04/lieber/statsgen/mnagle/mwas/pheno/caud/out/chr5_all.rda | /dcs04/lieber/statsgen/mnagle/mwas/pheno/caud/out/chr5_EA.rda | /dcs04/lieber/statsgen/shizhong/michael/mwas/pheno/dlpfc/out/chr5_AA.rda | /dcs04/lieber/statsgen/shizhong/michael/mwas/pheno/dlpfc/out/chr5_all.rda | /dcs04/lieber/statsgen/shizhong/michael/mwas/pheno/dlpfc/out/chr5_EA.rda | /dcs04/lieber/statsgen/shizhong/michael/mwas/pheno/hippo/out/chr5_AA.rda | /dcs04/lieber/statsgen/shizhong/michael/mwas/pheno/hippo/out/chr5_all.rda | /dcs04/lieber/statsgen/shizhong/michael/mwas/pheno/hippo/out/chr5_EA.rda |\n",
       "| 6 | 6 | /dcs04/lieber/statsgen/mnagle/mwas/pheno/caud/out/chr6_AA.rda | /dcs04/lieber/statsgen/mnagle/mwas/pheno/caud/out/chr6_all.rda | /dcs04/lieber/statsgen/mnagle/mwas/pheno/caud/out/chr6_EA.rda | /dcs04/lieber/statsgen/shizhong/michael/mwas/pheno/dlpfc/out/chr6_AA.rda | /dcs04/lieber/statsgen/shizhong/michael/mwas/pheno/dlpfc/out/chr6_all.rda | /dcs04/lieber/statsgen/shizhong/michael/mwas/pheno/dlpfc/out/chr6_EA.rda | /dcs04/lieber/statsgen/shizhong/michael/mwas/pheno/hippo/out/chr6_AA.rda | /dcs04/lieber/statsgen/shizhong/michael/mwas/pheno/hippo/out/chr6_all.rda | /dcs04/lieber/statsgen/shizhong/michael/mwas/pheno/hippo/out/chr6_EA.rda |\n",
       "\n"
      ],
      "text/plain": [
       "  Chr caud_AA                                                      \n",
       "1 1   /dcs04/lieber/statsgen/mnagle/mwas/pheno/caud/out/chr1_AA.rda\n",
       "2 2   /dcs04/lieber/statsgen/mnagle/mwas/pheno/caud/out/chr2_AA.rda\n",
       "3 3   /dcs04/lieber/statsgen/mnagle/mwas/pheno/caud/out/chr3_AA.rda\n",
       "4 4   /dcs04/lieber/statsgen/mnagle/mwas/pheno/caud/out/chr4_AA.rda\n",
       "5 5   /dcs04/lieber/statsgen/mnagle/mwas/pheno/caud/out/chr5_AA.rda\n",
       "6 6   /dcs04/lieber/statsgen/mnagle/mwas/pheno/caud/out/chr6_AA.rda\n",
       "  caud_all                                                      \n",
       "1 /dcs04/lieber/statsgen/mnagle/mwas/pheno/caud/out/chr1_all.rda\n",
       "2 /dcs04/lieber/statsgen/mnagle/mwas/pheno/caud/out/chr2_all.rda\n",
       "3 /dcs04/lieber/statsgen/mnagle/mwas/pheno/caud/out/chr3_all.rda\n",
       "4 /dcs04/lieber/statsgen/mnagle/mwas/pheno/caud/out/chr4_all.rda\n",
       "5 /dcs04/lieber/statsgen/mnagle/mwas/pheno/caud/out/chr5_all.rda\n",
       "6 /dcs04/lieber/statsgen/mnagle/mwas/pheno/caud/out/chr6_all.rda\n",
       "  caud_EA                                                      \n",
       "1 /dcs04/lieber/statsgen/mnagle/mwas/pheno/caud/out/chr1_EA.rda\n",
       "2 /dcs04/lieber/statsgen/mnagle/mwas/pheno/caud/out/chr2_EA.rda\n",
       "3 /dcs04/lieber/statsgen/mnagle/mwas/pheno/caud/out/chr3_EA.rda\n",
       "4 /dcs04/lieber/statsgen/mnagle/mwas/pheno/caud/out/chr4_EA.rda\n",
       "5 /dcs04/lieber/statsgen/mnagle/mwas/pheno/caud/out/chr5_EA.rda\n",
       "6 /dcs04/lieber/statsgen/mnagle/mwas/pheno/caud/out/chr6_EA.rda\n",
       "  dlpfc_AA                                                                \n",
       "1 /dcs04/lieber/statsgen/shizhong/michael/mwas/pheno/dlpfc/out/chr1_AA.rda\n",
       "2 /dcs04/lieber/statsgen/shizhong/michael/mwas/pheno/dlpfc/out/chr2_AA.rda\n",
       "3 /dcs04/lieber/statsgen/shizhong/michael/mwas/pheno/dlpfc/out/chr3_AA.rda\n",
       "4 /dcs04/lieber/statsgen/shizhong/michael/mwas/pheno/dlpfc/out/chr4_AA.rda\n",
       "5 /dcs04/lieber/statsgen/shizhong/michael/mwas/pheno/dlpfc/out/chr5_AA.rda\n",
       "6 /dcs04/lieber/statsgen/shizhong/michael/mwas/pheno/dlpfc/out/chr6_AA.rda\n",
       "  dlpfc_all                                                                \n",
       "1 /dcs04/lieber/statsgen/shizhong/michael/mwas/pheno/dlpfc/out/chr1_all.rda\n",
       "2 /dcs04/lieber/statsgen/shizhong/michael/mwas/pheno/dlpfc/out/chr2_all.rda\n",
       "3 /dcs04/lieber/statsgen/shizhong/michael/mwas/pheno/dlpfc/out/chr3_all.rda\n",
       "4 /dcs04/lieber/statsgen/shizhong/michael/mwas/pheno/dlpfc/out/chr4_all.rda\n",
       "5 /dcs04/lieber/statsgen/shizhong/michael/mwas/pheno/dlpfc/out/chr5_all.rda\n",
       "6 /dcs04/lieber/statsgen/shizhong/michael/mwas/pheno/dlpfc/out/chr6_all.rda\n",
       "  dlpfc_EA                                                                \n",
       "1 /dcs04/lieber/statsgen/shizhong/michael/mwas/pheno/dlpfc/out/chr1_EA.rda\n",
       "2 /dcs04/lieber/statsgen/shizhong/michael/mwas/pheno/dlpfc/out/chr2_EA.rda\n",
       "3 /dcs04/lieber/statsgen/shizhong/michael/mwas/pheno/dlpfc/out/chr3_EA.rda\n",
       "4 /dcs04/lieber/statsgen/shizhong/michael/mwas/pheno/dlpfc/out/chr4_EA.rda\n",
       "5 /dcs04/lieber/statsgen/shizhong/michael/mwas/pheno/dlpfc/out/chr5_EA.rda\n",
       "6 /dcs04/lieber/statsgen/shizhong/michael/mwas/pheno/dlpfc/out/chr6_EA.rda\n",
       "  hippo_AA                                                                \n",
       "1 /dcs04/lieber/statsgen/shizhong/michael/mwas/pheno/hippo/out/chr1_AA.rda\n",
       "2 /dcs04/lieber/statsgen/shizhong/michael/mwas/pheno/hippo/out/chr2_AA.rda\n",
       "3 /dcs04/lieber/statsgen/shizhong/michael/mwas/pheno/hippo/out/chr3_AA.rda\n",
       "4 /dcs04/lieber/statsgen/shizhong/michael/mwas/pheno/hippo/out/chr4_AA.rda\n",
       "5 /dcs04/lieber/statsgen/shizhong/michael/mwas/pheno/hippo/out/chr5_AA.rda\n",
       "6 /dcs04/lieber/statsgen/shizhong/michael/mwas/pheno/hippo/out/chr6_AA.rda\n",
       "  hippo_all                                                                \n",
       "1 /dcs04/lieber/statsgen/shizhong/michael/mwas/pheno/hippo/out/chr1_all.rda\n",
       "2 /dcs04/lieber/statsgen/shizhong/michael/mwas/pheno/hippo/out/chr2_all.rda\n",
       "3 /dcs04/lieber/statsgen/shizhong/michael/mwas/pheno/hippo/out/chr3_all.rda\n",
       "4 /dcs04/lieber/statsgen/shizhong/michael/mwas/pheno/hippo/out/chr4_all.rda\n",
       "5 /dcs04/lieber/statsgen/shizhong/michael/mwas/pheno/hippo/out/chr5_all.rda\n",
       "6 /dcs04/lieber/statsgen/shizhong/michael/mwas/pheno/hippo/out/chr6_all.rda\n",
       "  hippo_EA                                                                \n",
       "1 /dcs04/lieber/statsgen/shizhong/michael/mwas/pheno/hippo/out/chr1_EA.rda\n",
       "2 /dcs04/lieber/statsgen/shizhong/michael/mwas/pheno/hippo/out/chr2_EA.rda\n",
       "3 /dcs04/lieber/statsgen/shizhong/michael/mwas/pheno/hippo/out/chr3_EA.rda\n",
       "4 /dcs04/lieber/statsgen/shizhong/michael/mwas/pheno/hippo/out/chr4_EA.rda\n",
       "5 /dcs04/lieber/statsgen/shizhong/michael/mwas/pheno/hippo/out/chr5_EA.rda\n",
       "6 /dcs04/lieber/statsgen/shizhong/michael/mwas/pheno/hippo/out/chr6_EA.rda"
      ]
     },
     "metadata": {},
     "output_type": "display_data"
    }
   ],
   "source": [
    "head(merged_data)"
   ]
  },
  {
   "cell_type": "code",
   "execution_count": 11,
   "id": "628695cb-e1e9-4682-817a-a4eb74891085",
   "metadata": {},
   "outputs": [
    {
     "data": {
      "text/html": [
       "<table class=\"dataframe\">\n",
       "<caption>A data.frame: 6 × 3</caption>\n",
       "<thead>\n",
       "\t<tr><th></th><th scope=col>Chr</th><th scope=col>SNPs_libd</th><th scope=col>SNPs_ref_EUR</th></tr>\n",
       "\t<tr><th></th><th scope=col>&lt;dbl&gt;</th><th scope=col>&lt;chr&gt;</th><th scope=col>&lt;chr&gt;</th></tr>\n",
       "</thead>\n",
       "<tbody>\n",
       "\t<tr><th scope=row>1</th><td>1</td><td>/dcs04/lieber/statsgen/shizhong/michael/mwas/gwas/libd_chr1.pgen</td><td>/dcs04/lieber/statsgen/shizhong/michael/mwas/gwas/ref_EUR_chr1.pgen</td></tr>\n",
       "\t<tr><th scope=row>2</th><td>2</td><td>/dcs04/lieber/statsgen/shizhong/michael/mwas/gwas/libd_chr2.pgen</td><td>/dcs04/lieber/statsgen/shizhong/michael/mwas/gwas/ref_EUR_chr2.pgen</td></tr>\n",
       "\t<tr><th scope=row>3</th><td>3</td><td>/dcs04/lieber/statsgen/shizhong/michael/mwas/gwas/libd_chr3.pgen</td><td>/dcs04/lieber/statsgen/shizhong/michael/mwas/gwas/ref_EUR_chr3.pgen</td></tr>\n",
       "\t<tr><th scope=row>4</th><td>4</td><td>/dcs04/lieber/statsgen/shizhong/michael/mwas/gwas/libd_chr4.pgen</td><td>/dcs04/lieber/statsgen/shizhong/michael/mwas/gwas/ref_EUR_chr4.pgen</td></tr>\n",
       "\t<tr><th scope=row>5</th><td>5</td><td>/dcs04/lieber/statsgen/shizhong/michael/mwas/gwas/libd_chr5.pgen</td><td>/dcs04/lieber/statsgen/shizhong/michael/mwas/gwas/ref_EUR_chr5.pgen</td></tr>\n",
       "\t<tr><th scope=row>6</th><td>6</td><td>/dcs04/lieber/statsgen/shizhong/michael/mwas/gwas/libd_chr6.pgen</td><td>/dcs04/lieber/statsgen/shizhong/michael/mwas/gwas/ref_EUR_chr6.pgen</td></tr>\n",
       "</tbody>\n",
       "</table>\n"
      ],
      "text/latex": [
       "A data.frame: 6 × 3\n",
       "\\begin{tabular}{r|lll}\n",
       "  & Chr & SNPs\\_libd & SNPs\\_ref\\_EUR\\\\\n",
       "  & <dbl> & <chr> & <chr>\\\\\n",
       "\\hline\n",
       "\t1 & 1 & /dcs04/lieber/statsgen/shizhong/michael/mwas/gwas/libd\\_chr1.pgen & /dcs04/lieber/statsgen/shizhong/michael/mwas/gwas/ref\\_EUR\\_chr1.pgen\\\\\n",
       "\t2 & 2 & /dcs04/lieber/statsgen/shizhong/michael/mwas/gwas/libd\\_chr2.pgen & /dcs04/lieber/statsgen/shizhong/michael/mwas/gwas/ref\\_EUR\\_chr2.pgen\\\\\n",
       "\t3 & 3 & /dcs04/lieber/statsgen/shizhong/michael/mwas/gwas/libd\\_chr3.pgen & /dcs04/lieber/statsgen/shizhong/michael/mwas/gwas/ref\\_EUR\\_chr3.pgen\\\\\n",
       "\t4 & 4 & /dcs04/lieber/statsgen/shizhong/michael/mwas/gwas/libd\\_chr4.pgen & /dcs04/lieber/statsgen/shizhong/michael/mwas/gwas/ref\\_EUR\\_chr4.pgen\\\\\n",
       "\t5 & 5 & /dcs04/lieber/statsgen/shizhong/michael/mwas/gwas/libd\\_chr5.pgen & /dcs04/lieber/statsgen/shizhong/michael/mwas/gwas/ref\\_EUR\\_chr5.pgen\\\\\n",
       "\t6 & 6 & /dcs04/lieber/statsgen/shizhong/michael/mwas/gwas/libd\\_chr6.pgen & /dcs04/lieber/statsgen/shizhong/michael/mwas/gwas/ref\\_EUR\\_chr6.pgen\\\\\n",
       "\\end{tabular}\n"
      ],
      "text/markdown": [
       "\n",
       "A data.frame: 6 × 3\n",
       "\n",
       "| <!--/--> | Chr &lt;dbl&gt; | SNPs_libd &lt;chr&gt; | SNPs_ref_EUR &lt;chr&gt; |\n",
       "|---|---|---|---|\n",
       "| 1 | 1 | /dcs04/lieber/statsgen/shizhong/michael/mwas/gwas/libd_chr1.pgen | /dcs04/lieber/statsgen/shizhong/michael/mwas/gwas/ref_EUR_chr1.pgen |\n",
       "| 2 | 2 | /dcs04/lieber/statsgen/shizhong/michael/mwas/gwas/libd_chr2.pgen | /dcs04/lieber/statsgen/shizhong/michael/mwas/gwas/ref_EUR_chr2.pgen |\n",
       "| 3 | 3 | /dcs04/lieber/statsgen/shizhong/michael/mwas/gwas/libd_chr3.pgen | /dcs04/lieber/statsgen/shizhong/michael/mwas/gwas/ref_EUR_chr3.pgen |\n",
       "| 4 | 4 | /dcs04/lieber/statsgen/shizhong/michael/mwas/gwas/libd_chr4.pgen | /dcs04/lieber/statsgen/shizhong/michael/mwas/gwas/ref_EUR_chr4.pgen |\n",
       "| 5 | 5 | /dcs04/lieber/statsgen/shizhong/michael/mwas/gwas/libd_chr5.pgen | /dcs04/lieber/statsgen/shizhong/michael/mwas/gwas/ref_EUR_chr5.pgen |\n",
       "| 6 | 6 | /dcs04/lieber/statsgen/shizhong/michael/mwas/gwas/libd_chr6.pgen | /dcs04/lieber/statsgen/shizhong/michael/mwas/gwas/ref_EUR_chr6.pgen |\n",
       "\n"
      ],
      "text/plain": [
       "  Chr SNPs_libd                                                       \n",
       "1 1   /dcs04/lieber/statsgen/shizhong/michael/mwas/gwas/libd_chr1.pgen\n",
       "2 2   /dcs04/lieber/statsgen/shizhong/michael/mwas/gwas/libd_chr2.pgen\n",
       "3 3   /dcs04/lieber/statsgen/shizhong/michael/mwas/gwas/libd_chr3.pgen\n",
       "4 4   /dcs04/lieber/statsgen/shizhong/michael/mwas/gwas/libd_chr4.pgen\n",
       "5 5   /dcs04/lieber/statsgen/shizhong/michael/mwas/gwas/libd_chr5.pgen\n",
       "6 6   /dcs04/lieber/statsgen/shizhong/michael/mwas/gwas/libd_chr6.pgen\n",
       "  SNPs_ref_EUR                                                       \n",
       "1 /dcs04/lieber/statsgen/shizhong/michael/mwas/gwas/ref_EUR_chr1.pgen\n",
       "2 /dcs04/lieber/statsgen/shizhong/michael/mwas/gwas/ref_EUR_chr2.pgen\n",
       "3 /dcs04/lieber/statsgen/shizhong/michael/mwas/gwas/ref_EUR_chr3.pgen\n",
       "4 /dcs04/lieber/statsgen/shizhong/michael/mwas/gwas/ref_EUR_chr4.pgen\n",
       "5 /dcs04/lieber/statsgen/shizhong/michael/mwas/gwas/ref_EUR_chr5.pgen\n",
       "6 /dcs04/lieber/statsgen/shizhong/michael/mwas/gwas/ref_EUR_chr6.pgen"
      ]
     },
     "metadata": {},
     "output_type": "display_data"
    }
   ],
   "source": [
    "head(SNP_files)"
   ]
  },
  {
   "cell_type": "code",
   "execution_count": 12,
   "id": "81dda542-2bdd-47b9-b8e7-b68693713941",
   "metadata": {},
   "outputs": [],
   "source": [
    "merged <- merge(SNP_files, merged_data)"
   ]
  },
  {
   "cell_type": "code",
   "execution_count": 13,
   "id": "f3f7cfe2-8f6d-4614-b8e8-522e4bc00527",
   "metadata": {},
   "outputs": [],
   "source": [
    "data.table::fwrite(merged, \"09-OUT_matched_SNP_meth_files.csv\")"
   ]
  },
  {
   "cell_type": "markdown",
   "id": "7adcd524-536f-444c-8ed2-92bdce8ca0c6",
   "metadata": {},
   "source": [
    "## Determine first, last position for each SNP, methylation file pair"
   ]
  },
  {
   "cell_type": "code",
   "execution_count": 14,
   "id": "565e2e57-710b-4b00-99b7-4ec322ed3098",
   "metadata": {},
   "outputs": [],
   "source": [
    "merged$SNPs_ref_EUR <- NULL"
   ]
  },
  {
   "cell_type": "code",
   "execution_count": 15,
   "id": "68518ba4-c5b5-4532-a9d6-41255e0858ff",
   "metadata": {},
   "outputs": [
    {
     "data": {
      "text/html": [
       "<table class=\"dataframe\">\n",
       "<caption>A data.frame: 6 × 11</caption>\n",
       "<thead>\n",
       "\t<tr><th></th><th scope=col>Chr</th><th scope=col>SNPs_libd</th><th scope=col>caud_AA</th><th scope=col>caud_all</th><th scope=col>caud_EA</th><th scope=col>dlpfc_AA</th><th scope=col>dlpfc_all</th><th scope=col>dlpfc_EA</th><th scope=col>hippo_AA</th><th scope=col>hippo_all</th><th scope=col>hippo_EA</th></tr>\n",
       "\t<tr><th></th><th scope=col>&lt;dbl&gt;</th><th scope=col>&lt;chr&gt;</th><th scope=col>&lt;chr&gt;</th><th scope=col>&lt;chr&gt;</th><th scope=col>&lt;chr&gt;</th><th scope=col>&lt;chr&gt;</th><th scope=col>&lt;chr&gt;</th><th scope=col>&lt;chr&gt;</th><th scope=col>&lt;chr&gt;</th><th scope=col>&lt;chr&gt;</th><th scope=col>&lt;chr&gt;</th></tr>\n",
       "</thead>\n",
       "<tbody>\n",
       "\t<tr><th scope=row>1</th><td>1</td><td>/dcs04/lieber/statsgen/shizhong/michael/mwas/gwas/libd_chr1.pgen</td><td>/dcs04/lieber/statsgen/mnagle/mwas/pheno/caud/out/chr1_AA.rda</td><td>/dcs04/lieber/statsgen/mnagle/mwas/pheno/caud/out/chr1_all.rda</td><td>/dcs04/lieber/statsgen/mnagle/mwas/pheno/caud/out/chr1_EA.rda</td><td>/dcs04/lieber/statsgen/shizhong/michael/mwas/pheno/dlpfc/out/chr1_AA.rda</td><td>/dcs04/lieber/statsgen/shizhong/michael/mwas/pheno/dlpfc/out/chr1_all.rda</td><td>/dcs04/lieber/statsgen/shizhong/michael/mwas/pheno/dlpfc/out/chr1_EA.rda</td><td>/dcs04/lieber/statsgen/shizhong/michael/mwas/pheno/hippo/out/chr1_AA.rda</td><td>/dcs04/lieber/statsgen/shizhong/michael/mwas/pheno/hippo/out/chr1_all.rda</td><td>/dcs04/lieber/statsgen/shizhong/michael/mwas/pheno/hippo/out/chr1_EA.rda</td></tr>\n",
       "\t<tr><th scope=row>2</th><td>2</td><td>/dcs04/lieber/statsgen/shizhong/michael/mwas/gwas/libd_chr2.pgen</td><td>/dcs04/lieber/statsgen/mnagle/mwas/pheno/caud/out/chr2_AA.rda</td><td>/dcs04/lieber/statsgen/mnagle/mwas/pheno/caud/out/chr2_all.rda</td><td>/dcs04/lieber/statsgen/mnagle/mwas/pheno/caud/out/chr2_EA.rda</td><td>/dcs04/lieber/statsgen/shizhong/michael/mwas/pheno/dlpfc/out/chr2_AA.rda</td><td>/dcs04/lieber/statsgen/shizhong/michael/mwas/pheno/dlpfc/out/chr2_all.rda</td><td>/dcs04/lieber/statsgen/shizhong/michael/mwas/pheno/dlpfc/out/chr2_EA.rda</td><td>/dcs04/lieber/statsgen/shizhong/michael/mwas/pheno/hippo/out/chr2_AA.rda</td><td>/dcs04/lieber/statsgen/shizhong/michael/mwas/pheno/hippo/out/chr2_all.rda</td><td>/dcs04/lieber/statsgen/shizhong/michael/mwas/pheno/hippo/out/chr2_EA.rda</td></tr>\n",
       "\t<tr><th scope=row>3</th><td>3</td><td>/dcs04/lieber/statsgen/shizhong/michael/mwas/gwas/libd_chr3.pgen</td><td>/dcs04/lieber/statsgen/mnagle/mwas/pheno/caud/out/chr3_AA.rda</td><td>/dcs04/lieber/statsgen/mnagle/mwas/pheno/caud/out/chr3_all.rda</td><td>/dcs04/lieber/statsgen/mnagle/mwas/pheno/caud/out/chr3_EA.rda</td><td>/dcs04/lieber/statsgen/shizhong/michael/mwas/pheno/dlpfc/out/chr3_AA.rda</td><td>/dcs04/lieber/statsgen/shizhong/michael/mwas/pheno/dlpfc/out/chr3_all.rda</td><td>/dcs04/lieber/statsgen/shizhong/michael/mwas/pheno/dlpfc/out/chr3_EA.rda</td><td>/dcs04/lieber/statsgen/shizhong/michael/mwas/pheno/hippo/out/chr3_AA.rda</td><td>/dcs04/lieber/statsgen/shizhong/michael/mwas/pheno/hippo/out/chr3_all.rda</td><td>/dcs04/lieber/statsgen/shizhong/michael/mwas/pheno/hippo/out/chr3_EA.rda</td></tr>\n",
       "\t<tr><th scope=row>4</th><td>4</td><td>/dcs04/lieber/statsgen/shizhong/michael/mwas/gwas/libd_chr4.pgen</td><td>/dcs04/lieber/statsgen/mnagle/mwas/pheno/caud/out/chr4_AA.rda</td><td>/dcs04/lieber/statsgen/mnagle/mwas/pheno/caud/out/chr4_all.rda</td><td>/dcs04/lieber/statsgen/mnagle/mwas/pheno/caud/out/chr4_EA.rda</td><td>/dcs04/lieber/statsgen/shizhong/michael/mwas/pheno/dlpfc/out/chr4_AA.rda</td><td>/dcs04/lieber/statsgen/shizhong/michael/mwas/pheno/dlpfc/out/chr4_all.rda</td><td>/dcs04/lieber/statsgen/shizhong/michael/mwas/pheno/dlpfc/out/chr4_EA.rda</td><td>/dcs04/lieber/statsgen/shizhong/michael/mwas/pheno/hippo/out/chr4_AA.rda</td><td>/dcs04/lieber/statsgen/shizhong/michael/mwas/pheno/hippo/out/chr4_all.rda</td><td>/dcs04/lieber/statsgen/shizhong/michael/mwas/pheno/hippo/out/chr4_EA.rda</td></tr>\n",
       "\t<tr><th scope=row>5</th><td>5</td><td>/dcs04/lieber/statsgen/shizhong/michael/mwas/gwas/libd_chr5.pgen</td><td>/dcs04/lieber/statsgen/mnagle/mwas/pheno/caud/out/chr5_AA.rda</td><td>/dcs04/lieber/statsgen/mnagle/mwas/pheno/caud/out/chr5_all.rda</td><td>/dcs04/lieber/statsgen/mnagle/mwas/pheno/caud/out/chr5_EA.rda</td><td>/dcs04/lieber/statsgen/shizhong/michael/mwas/pheno/dlpfc/out/chr5_AA.rda</td><td>/dcs04/lieber/statsgen/shizhong/michael/mwas/pheno/dlpfc/out/chr5_all.rda</td><td>/dcs04/lieber/statsgen/shizhong/michael/mwas/pheno/dlpfc/out/chr5_EA.rda</td><td>/dcs04/lieber/statsgen/shizhong/michael/mwas/pheno/hippo/out/chr5_AA.rda</td><td>/dcs04/lieber/statsgen/shizhong/michael/mwas/pheno/hippo/out/chr5_all.rda</td><td>/dcs04/lieber/statsgen/shizhong/michael/mwas/pheno/hippo/out/chr5_EA.rda</td></tr>\n",
       "\t<tr><th scope=row>6</th><td>6</td><td>/dcs04/lieber/statsgen/shizhong/michael/mwas/gwas/libd_chr6.pgen</td><td>/dcs04/lieber/statsgen/mnagle/mwas/pheno/caud/out/chr6_AA.rda</td><td>/dcs04/lieber/statsgen/mnagle/mwas/pheno/caud/out/chr6_all.rda</td><td>/dcs04/lieber/statsgen/mnagle/mwas/pheno/caud/out/chr6_EA.rda</td><td>/dcs04/lieber/statsgen/shizhong/michael/mwas/pheno/dlpfc/out/chr6_AA.rda</td><td>/dcs04/lieber/statsgen/shizhong/michael/mwas/pheno/dlpfc/out/chr6_all.rda</td><td>/dcs04/lieber/statsgen/shizhong/michael/mwas/pheno/dlpfc/out/chr6_EA.rda</td><td>/dcs04/lieber/statsgen/shizhong/michael/mwas/pheno/hippo/out/chr6_AA.rda</td><td>/dcs04/lieber/statsgen/shizhong/michael/mwas/pheno/hippo/out/chr6_all.rda</td><td>/dcs04/lieber/statsgen/shizhong/michael/mwas/pheno/hippo/out/chr6_EA.rda</td></tr>\n",
       "</tbody>\n",
       "</table>\n"
      ],
      "text/latex": [
       "A data.frame: 6 × 11\n",
       "\\begin{tabular}{r|lllllllllll}\n",
       "  & Chr & SNPs\\_libd & caud\\_AA & caud\\_all & caud\\_EA & dlpfc\\_AA & dlpfc\\_all & dlpfc\\_EA & hippo\\_AA & hippo\\_all & hippo\\_EA\\\\\n",
       "  & <dbl> & <chr> & <chr> & <chr> & <chr> & <chr> & <chr> & <chr> & <chr> & <chr> & <chr>\\\\\n",
       "\\hline\n",
       "\t1 & 1 & /dcs04/lieber/statsgen/shizhong/michael/mwas/gwas/libd\\_chr1.pgen & /dcs04/lieber/statsgen/mnagle/mwas/pheno/caud/out/chr1\\_AA.rda & /dcs04/lieber/statsgen/mnagle/mwas/pheno/caud/out/chr1\\_all.rda & /dcs04/lieber/statsgen/mnagle/mwas/pheno/caud/out/chr1\\_EA.rda & /dcs04/lieber/statsgen/shizhong/michael/mwas/pheno/dlpfc/out/chr1\\_AA.rda & /dcs04/lieber/statsgen/shizhong/michael/mwas/pheno/dlpfc/out/chr1\\_all.rda & /dcs04/lieber/statsgen/shizhong/michael/mwas/pheno/dlpfc/out/chr1\\_EA.rda & /dcs04/lieber/statsgen/shizhong/michael/mwas/pheno/hippo/out/chr1\\_AA.rda & /dcs04/lieber/statsgen/shizhong/michael/mwas/pheno/hippo/out/chr1\\_all.rda & /dcs04/lieber/statsgen/shizhong/michael/mwas/pheno/hippo/out/chr1\\_EA.rda\\\\\n",
       "\t2 & 2 & /dcs04/lieber/statsgen/shizhong/michael/mwas/gwas/libd\\_chr2.pgen & /dcs04/lieber/statsgen/mnagle/mwas/pheno/caud/out/chr2\\_AA.rda & /dcs04/lieber/statsgen/mnagle/mwas/pheno/caud/out/chr2\\_all.rda & /dcs04/lieber/statsgen/mnagle/mwas/pheno/caud/out/chr2\\_EA.rda & /dcs04/lieber/statsgen/shizhong/michael/mwas/pheno/dlpfc/out/chr2\\_AA.rda & /dcs04/lieber/statsgen/shizhong/michael/mwas/pheno/dlpfc/out/chr2\\_all.rda & /dcs04/lieber/statsgen/shizhong/michael/mwas/pheno/dlpfc/out/chr2\\_EA.rda & /dcs04/lieber/statsgen/shizhong/michael/mwas/pheno/hippo/out/chr2\\_AA.rda & /dcs04/lieber/statsgen/shizhong/michael/mwas/pheno/hippo/out/chr2\\_all.rda & /dcs04/lieber/statsgen/shizhong/michael/mwas/pheno/hippo/out/chr2\\_EA.rda\\\\\n",
       "\t3 & 3 & /dcs04/lieber/statsgen/shizhong/michael/mwas/gwas/libd\\_chr3.pgen & /dcs04/lieber/statsgen/mnagle/mwas/pheno/caud/out/chr3\\_AA.rda & /dcs04/lieber/statsgen/mnagle/mwas/pheno/caud/out/chr3\\_all.rda & /dcs04/lieber/statsgen/mnagle/mwas/pheno/caud/out/chr3\\_EA.rda & /dcs04/lieber/statsgen/shizhong/michael/mwas/pheno/dlpfc/out/chr3\\_AA.rda & /dcs04/lieber/statsgen/shizhong/michael/mwas/pheno/dlpfc/out/chr3\\_all.rda & /dcs04/lieber/statsgen/shizhong/michael/mwas/pheno/dlpfc/out/chr3\\_EA.rda & /dcs04/lieber/statsgen/shizhong/michael/mwas/pheno/hippo/out/chr3\\_AA.rda & /dcs04/lieber/statsgen/shizhong/michael/mwas/pheno/hippo/out/chr3\\_all.rda & /dcs04/lieber/statsgen/shizhong/michael/mwas/pheno/hippo/out/chr3\\_EA.rda\\\\\n",
       "\t4 & 4 & /dcs04/lieber/statsgen/shizhong/michael/mwas/gwas/libd\\_chr4.pgen & /dcs04/lieber/statsgen/mnagle/mwas/pheno/caud/out/chr4\\_AA.rda & /dcs04/lieber/statsgen/mnagle/mwas/pheno/caud/out/chr4\\_all.rda & /dcs04/lieber/statsgen/mnagle/mwas/pheno/caud/out/chr4\\_EA.rda & /dcs04/lieber/statsgen/shizhong/michael/mwas/pheno/dlpfc/out/chr4\\_AA.rda & /dcs04/lieber/statsgen/shizhong/michael/mwas/pheno/dlpfc/out/chr4\\_all.rda & /dcs04/lieber/statsgen/shizhong/michael/mwas/pheno/dlpfc/out/chr4\\_EA.rda & /dcs04/lieber/statsgen/shizhong/michael/mwas/pheno/hippo/out/chr4\\_AA.rda & /dcs04/lieber/statsgen/shizhong/michael/mwas/pheno/hippo/out/chr4\\_all.rda & /dcs04/lieber/statsgen/shizhong/michael/mwas/pheno/hippo/out/chr4\\_EA.rda\\\\\n",
       "\t5 & 5 & /dcs04/lieber/statsgen/shizhong/michael/mwas/gwas/libd\\_chr5.pgen & /dcs04/lieber/statsgen/mnagle/mwas/pheno/caud/out/chr5\\_AA.rda & /dcs04/lieber/statsgen/mnagle/mwas/pheno/caud/out/chr5\\_all.rda & /dcs04/lieber/statsgen/mnagle/mwas/pheno/caud/out/chr5\\_EA.rda & /dcs04/lieber/statsgen/shizhong/michael/mwas/pheno/dlpfc/out/chr5\\_AA.rda & /dcs04/lieber/statsgen/shizhong/michael/mwas/pheno/dlpfc/out/chr5\\_all.rda & /dcs04/lieber/statsgen/shizhong/michael/mwas/pheno/dlpfc/out/chr5\\_EA.rda & /dcs04/lieber/statsgen/shizhong/michael/mwas/pheno/hippo/out/chr5\\_AA.rda & /dcs04/lieber/statsgen/shizhong/michael/mwas/pheno/hippo/out/chr5\\_all.rda & /dcs04/lieber/statsgen/shizhong/michael/mwas/pheno/hippo/out/chr5\\_EA.rda\\\\\n",
       "\t6 & 6 & /dcs04/lieber/statsgen/shizhong/michael/mwas/gwas/libd\\_chr6.pgen & /dcs04/lieber/statsgen/mnagle/mwas/pheno/caud/out/chr6\\_AA.rda & /dcs04/lieber/statsgen/mnagle/mwas/pheno/caud/out/chr6\\_all.rda & /dcs04/lieber/statsgen/mnagle/mwas/pheno/caud/out/chr6\\_EA.rda & /dcs04/lieber/statsgen/shizhong/michael/mwas/pheno/dlpfc/out/chr6\\_AA.rda & /dcs04/lieber/statsgen/shizhong/michael/mwas/pheno/dlpfc/out/chr6\\_all.rda & /dcs04/lieber/statsgen/shizhong/michael/mwas/pheno/dlpfc/out/chr6\\_EA.rda & /dcs04/lieber/statsgen/shizhong/michael/mwas/pheno/hippo/out/chr6\\_AA.rda & /dcs04/lieber/statsgen/shizhong/michael/mwas/pheno/hippo/out/chr6\\_all.rda & /dcs04/lieber/statsgen/shizhong/michael/mwas/pheno/hippo/out/chr6\\_EA.rda\\\\\n",
       "\\end{tabular}\n"
      ],
      "text/markdown": [
       "\n",
       "A data.frame: 6 × 11\n",
       "\n",
       "| <!--/--> | Chr &lt;dbl&gt; | SNPs_libd &lt;chr&gt; | caud_AA &lt;chr&gt; | caud_all &lt;chr&gt; | caud_EA &lt;chr&gt; | dlpfc_AA &lt;chr&gt; | dlpfc_all &lt;chr&gt; | dlpfc_EA &lt;chr&gt; | hippo_AA &lt;chr&gt; | hippo_all &lt;chr&gt; | hippo_EA &lt;chr&gt; |\n",
       "|---|---|---|---|---|---|---|---|---|---|---|---|\n",
       "| 1 | 1 | /dcs04/lieber/statsgen/shizhong/michael/mwas/gwas/libd_chr1.pgen | /dcs04/lieber/statsgen/mnagle/mwas/pheno/caud/out/chr1_AA.rda | /dcs04/lieber/statsgen/mnagle/mwas/pheno/caud/out/chr1_all.rda | /dcs04/lieber/statsgen/mnagle/mwas/pheno/caud/out/chr1_EA.rda | /dcs04/lieber/statsgen/shizhong/michael/mwas/pheno/dlpfc/out/chr1_AA.rda | /dcs04/lieber/statsgen/shizhong/michael/mwas/pheno/dlpfc/out/chr1_all.rda | /dcs04/lieber/statsgen/shizhong/michael/mwas/pheno/dlpfc/out/chr1_EA.rda | /dcs04/lieber/statsgen/shizhong/michael/mwas/pheno/hippo/out/chr1_AA.rda | /dcs04/lieber/statsgen/shizhong/michael/mwas/pheno/hippo/out/chr1_all.rda | /dcs04/lieber/statsgen/shizhong/michael/mwas/pheno/hippo/out/chr1_EA.rda |\n",
       "| 2 | 2 | /dcs04/lieber/statsgen/shizhong/michael/mwas/gwas/libd_chr2.pgen | /dcs04/lieber/statsgen/mnagle/mwas/pheno/caud/out/chr2_AA.rda | /dcs04/lieber/statsgen/mnagle/mwas/pheno/caud/out/chr2_all.rda | /dcs04/lieber/statsgen/mnagle/mwas/pheno/caud/out/chr2_EA.rda | /dcs04/lieber/statsgen/shizhong/michael/mwas/pheno/dlpfc/out/chr2_AA.rda | /dcs04/lieber/statsgen/shizhong/michael/mwas/pheno/dlpfc/out/chr2_all.rda | /dcs04/lieber/statsgen/shizhong/michael/mwas/pheno/dlpfc/out/chr2_EA.rda | /dcs04/lieber/statsgen/shizhong/michael/mwas/pheno/hippo/out/chr2_AA.rda | /dcs04/lieber/statsgen/shizhong/michael/mwas/pheno/hippo/out/chr2_all.rda | /dcs04/lieber/statsgen/shizhong/michael/mwas/pheno/hippo/out/chr2_EA.rda |\n",
       "| 3 | 3 | /dcs04/lieber/statsgen/shizhong/michael/mwas/gwas/libd_chr3.pgen | /dcs04/lieber/statsgen/mnagle/mwas/pheno/caud/out/chr3_AA.rda | /dcs04/lieber/statsgen/mnagle/mwas/pheno/caud/out/chr3_all.rda | /dcs04/lieber/statsgen/mnagle/mwas/pheno/caud/out/chr3_EA.rda | /dcs04/lieber/statsgen/shizhong/michael/mwas/pheno/dlpfc/out/chr3_AA.rda | /dcs04/lieber/statsgen/shizhong/michael/mwas/pheno/dlpfc/out/chr3_all.rda | /dcs04/lieber/statsgen/shizhong/michael/mwas/pheno/dlpfc/out/chr3_EA.rda | /dcs04/lieber/statsgen/shizhong/michael/mwas/pheno/hippo/out/chr3_AA.rda | /dcs04/lieber/statsgen/shizhong/michael/mwas/pheno/hippo/out/chr3_all.rda | /dcs04/lieber/statsgen/shizhong/michael/mwas/pheno/hippo/out/chr3_EA.rda |\n",
       "| 4 | 4 | /dcs04/lieber/statsgen/shizhong/michael/mwas/gwas/libd_chr4.pgen | /dcs04/lieber/statsgen/mnagle/mwas/pheno/caud/out/chr4_AA.rda | /dcs04/lieber/statsgen/mnagle/mwas/pheno/caud/out/chr4_all.rda | /dcs04/lieber/statsgen/mnagle/mwas/pheno/caud/out/chr4_EA.rda | /dcs04/lieber/statsgen/shizhong/michael/mwas/pheno/dlpfc/out/chr4_AA.rda | /dcs04/lieber/statsgen/shizhong/michael/mwas/pheno/dlpfc/out/chr4_all.rda | /dcs04/lieber/statsgen/shizhong/michael/mwas/pheno/dlpfc/out/chr4_EA.rda | /dcs04/lieber/statsgen/shizhong/michael/mwas/pheno/hippo/out/chr4_AA.rda | /dcs04/lieber/statsgen/shizhong/michael/mwas/pheno/hippo/out/chr4_all.rda | /dcs04/lieber/statsgen/shizhong/michael/mwas/pheno/hippo/out/chr4_EA.rda |\n",
       "| 5 | 5 | /dcs04/lieber/statsgen/shizhong/michael/mwas/gwas/libd_chr5.pgen | /dcs04/lieber/statsgen/mnagle/mwas/pheno/caud/out/chr5_AA.rda | /dcs04/lieber/statsgen/mnagle/mwas/pheno/caud/out/chr5_all.rda | /dcs04/lieber/statsgen/mnagle/mwas/pheno/caud/out/chr5_EA.rda | /dcs04/lieber/statsgen/shizhong/michael/mwas/pheno/dlpfc/out/chr5_AA.rda | /dcs04/lieber/statsgen/shizhong/michael/mwas/pheno/dlpfc/out/chr5_all.rda | /dcs04/lieber/statsgen/shizhong/michael/mwas/pheno/dlpfc/out/chr5_EA.rda | /dcs04/lieber/statsgen/shizhong/michael/mwas/pheno/hippo/out/chr5_AA.rda | /dcs04/lieber/statsgen/shizhong/michael/mwas/pheno/hippo/out/chr5_all.rda | /dcs04/lieber/statsgen/shizhong/michael/mwas/pheno/hippo/out/chr5_EA.rda |\n",
       "| 6 | 6 | /dcs04/lieber/statsgen/shizhong/michael/mwas/gwas/libd_chr6.pgen | /dcs04/lieber/statsgen/mnagle/mwas/pheno/caud/out/chr6_AA.rda | /dcs04/lieber/statsgen/mnagle/mwas/pheno/caud/out/chr6_all.rda | /dcs04/lieber/statsgen/mnagle/mwas/pheno/caud/out/chr6_EA.rda | /dcs04/lieber/statsgen/shizhong/michael/mwas/pheno/dlpfc/out/chr6_AA.rda | /dcs04/lieber/statsgen/shizhong/michael/mwas/pheno/dlpfc/out/chr6_all.rda | /dcs04/lieber/statsgen/shizhong/michael/mwas/pheno/dlpfc/out/chr6_EA.rda | /dcs04/lieber/statsgen/shizhong/michael/mwas/pheno/hippo/out/chr6_AA.rda | /dcs04/lieber/statsgen/shizhong/michael/mwas/pheno/hippo/out/chr6_all.rda | /dcs04/lieber/statsgen/shizhong/michael/mwas/pheno/hippo/out/chr6_EA.rda |\n",
       "\n"
      ],
      "text/plain": [
       "  Chr SNPs_libd                                                       \n",
       "1 1   /dcs04/lieber/statsgen/shizhong/michael/mwas/gwas/libd_chr1.pgen\n",
       "2 2   /dcs04/lieber/statsgen/shizhong/michael/mwas/gwas/libd_chr2.pgen\n",
       "3 3   /dcs04/lieber/statsgen/shizhong/michael/mwas/gwas/libd_chr3.pgen\n",
       "4 4   /dcs04/lieber/statsgen/shizhong/michael/mwas/gwas/libd_chr4.pgen\n",
       "5 5   /dcs04/lieber/statsgen/shizhong/michael/mwas/gwas/libd_chr5.pgen\n",
       "6 6   /dcs04/lieber/statsgen/shizhong/michael/mwas/gwas/libd_chr6.pgen\n",
       "  caud_AA                                                      \n",
       "1 /dcs04/lieber/statsgen/mnagle/mwas/pheno/caud/out/chr1_AA.rda\n",
       "2 /dcs04/lieber/statsgen/mnagle/mwas/pheno/caud/out/chr2_AA.rda\n",
       "3 /dcs04/lieber/statsgen/mnagle/mwas/pheno/caud/out/chr3_AA.rda\n",
       "4 /dcs04/lieber/statsgen/mnagle/mwas/pheno/caud/out/chr4_AA.rda\n",
       "5 /dcs04/lieber/statsgen/mnagle/mwas/pheno/caud/out/chr5_AA.rda\n",
       "6 /dcs04/lieber/statsgen/mnagle/mwas/pheno/caud/out/chr6_AA.rda\n",
       "  caud_all                                                      \n",
       "1 /dcs04/lieber/statsgen/mnagle/mwas/pheno/caud/out/chr1_all.rda\n",
       "2 /dcs04/lieber/statsgen/mnagle/mwas/pheno/caud/out/chr2_all.rda\n",
       "3 /dcs04/lieber/statsgen/mnagle/mwas/pheno/caud/out/chr3_all.rda\n",
       "4 /dcs04/lieber/statsgen/mnagle/mwas/pheno/caud/out/chr4_all.rda\n",
       "5 /dcs04/lieber/statsgen/mnagle/mwas/pheno/caud/out/chr5_all.rda\n",
       "6 /dcs04/lieber/statsgen/mnagle/mwas/pheno/caud/out/chr6_all.rda\n",
       "  caud_EA                                                      \n",
       "1 /dcs04/lieber/statsgen/mnagle/mwas/pheno/caud/out/chr1_EA.rda\n",
       "2 /dcs04/lieber/statsgen/mnagle/mwas/pheno/caud/out/chr2_EA.rda\n",
       "3 /dcs04/lieber/statsgen/mnagle/mwas/pheno/caud/out/chr3_EA.rda\n",
       "4 /dcs04/lieber/statsgen/mnagle/mwas/pheno/caud/out/chr4_EA.rda\n",
       "5 /dcs04/lieber/statsgen/mnagle/mwas/pheno/caud/out/chr5_EA.rda\n",
       "6 /dcs04/lieber/statsgen/mnagle/mwas/pheno/caud/out/chr6_EA.rda\n",
       "  dlpfc_AA                                                                \n",
       "1 /dcs04/lieber/statsgen/shizhong/michael/mwas/pheno/dlpfc/out/chr1_AA.rda\n",
       "2 /dcs04/lieber/statsgen/shizhong/michael/mwas/pheno/dlpfc/out/chr2_AA.rda\n",
       "3 /dcs04/lieber/statsgen/shizhong/michael/mwas/pheno/dlpfc/out/chr3_AA.rda\n",
       "4 /dcs04/lieber/statsgen/shizhong/michael/mwas/pheno/dlpfc/out/chr4_AA.rda\n",
       "5 /dcs04/lieber/statsgen/shizhong/michael/mwas/pheno/dlpfc/out/chr5_AA.rda\n",
       "6 /dcs04/lieber/statsgen/shizhong/michael/mwas/pheno/dlpfc/out/chr6_AA.rda\n",
       "  dlpfc_all                                                                \n",
       "1 /dcs04/lieber/statsgen/shizhong/michael/mwas/pheno/dlpfc/out/chr1_all.rda\n",
       "2 /dcs04/lieber/statsgen/shizhong/michael/mwas/pheno/dlpfc/out/chr2_all.rda\n",
       "3 /dcs04/lieber/statsgen/shizhong/michael/mwas/pheno/dlpfc/out/chr3_all.rda\n",
       "4 /dcs04/lieber/statsgen/shizhong/michael/mwas/pheno/dlpfc/out/chr4_all.rda\n",
       "5 /dcs04/lieber/statsgen/shizhong/michael/mwas/pheno/dlpfc/out/chr5_all.rda\n",
       "6 /dcs04/lieber/statsgen/shizhong/michael/mwas/pheno/dlpfc/out/chr6_all.rda\n",
       "  dlpfc_EA                                                                \n",
       "1 /dcs04/lieber/statsgen/shizhong/michael/mwas/pheno/dlpfc/out/chr1_EA.rda\n",
       "2 /dcs04/lieber/statsgen/shizhong/michael/mwas/pheno/dlpfc/out/chr2_EA.rda\n",
       "3 /dcs04/lieber/statsgen/shizhong/michael/mwas/pheno/dlpfc/out/chr3_EA.rda\n",
       "4 /dcs04/lieber/statsgen/shizhong/michael/mwas/pheno/dlpfc/out/chr4_EA.rda\n",
       "5 /dcs04/lieber/statsgen/shizhong/michael/mwas/pheno/dlpfc/out/chr5_EA.rda\n",
       "6 /dcs04/lieber/statsgen/shizhong/michael/mwas/pheno/dlpfc/out/chr6_EA.rda\n",
       "  hippo_AA                                                                \n",
       "1 /dcs04/lieber/statsgen/shizhong/michael/mwas/pheno/hippo/out/chr1_AA.rda\n",
       "2 /dcs04/lieber/statsgen/shizhong/michael/mwas/pheno/hippo/out/chr2_AA.rda\n",
       "3 /dcs04/lieber/statsgen/shizhong/michael/mwas/pheno/hippo/out/chr3_AA.rda\n",
       "4 /dcs04/lieber/statsgen/shizhong/michael/mwas/pheno/hippo/out/chr4_AA.rda\n",
       "5 /dcs04/lieber/statsgen/shizhong/michael/mwas/pheno/hippo/out/chr5_AA.rda\n",
       "6 /dcs04/lieber/statsgen/shizhong/michael/mwas/pheno/hippo/out/chr6_AA.rda\n",
       "  hippo_all                                                                \n",
       "1 /dcs04/lieber/statsgen/shizhong/michael/mwas/pheno/hippo/out/chr1_all.rda\n",
       "2 /dcs04/lieber/statsgen/shizhong/michael/mwas/pheno/hippo/out/chr2_all.rda\n",
       "3 /dcs04/lieber/statsgen/shizhong/michael/mwas/pheno/hippo/out/chr3_all.rda\n",
       "4 /dcs04/lieber/statsgen/shizhong/michael/mwas/pheno/hippo/out/chr4_all.rda\n",
       "5 /dcs04/lieber/statsgen/shizhong/michael/mwas/pheno/hippo/out/chr5_all.rda\n",
       "6 /dcs04/lieber/statsgen/shizhong/michael/mwas/pheno/hippo/out/chr6_all.rda\n",
       "  hippo_EA                                                                \n",
       "1 /dcs04/lieber/statsgen/shizhong/michael/mwas/pheno/hippo/out/chr1_EA.rda\n",
       "2 /dcs04/lieber/statsgen/shizhong/michael/mwas/pheno/hippo/out/chr2_EA.rda\n",
       "3 /dcs04/lieber/statsgen/shizhong/michael/mwas/pheno/hippo/out/chr3_EA.rda\n",
       "4 /dcs04/lieber/statsgen/shizhong/michael/mwas/pheno/hippo/out/chr4_EA.rda\n",
       "5 /dcs04/lieber/statsgen/shizhong/michael/mwas/pheno/hippo/out/chr5_EA.rda\n",
       "6 /dcs04/lieber/statsgen/shizhong/michael/mwas/pheno/hippo/out/chr6_EA.rda"
      ]
     },
     "metadata": {},
     "output_type": "display_data"
    }
   ],
   "source": [
    "head(merged)"
   ]
  },
  {
   "cell_type": "code",
   "execution_count": 16,
   "id": "82e0be2d-c9df-42cf-868a-5eab22408dfa",
   "metadata": {},
   "outputs": [
    {
     "data": {
      "text/html": [
       "<table class=\"dataframe\">\n",
       "<caption>A data.table: 6 × 4</caption>\n",
       "<thead>\n",
       "\t<tr><th scope=col>Chr</th><th scope=col>type</th><th scope=col>SNP_data</th><th scope=col>methylation_data</th></tr>\n",
       "\t<tr><th scope=col>&lt;dbl&gt;</th><th scope=col>&lt;chr&gt;</th><th scope=col>&lt;chr&gt;</th><th scope=col>&lt;chr&gt;</th></tr>\n",
       "</thead>\n",
       "<tbody>\n",
       "\t<tr><td>1</td><td>rda</td><td>/dcs04/lieber/statsgen/shizhong/michael/mwas/gwas/libd_chr1.pgen</td><td>/dcs04/lieber/statsgen/mnagle/mwas/pheno/caud/out/chr1_AA.rda</td></tr>\n",
       "\t<tr><td>2</td><td>rda</td><td>/dcs04/lieber/statsgen/shizhong/michael/mwas/gwas/libd_chr2.pgen</td><td>/dcs04/lieber/statsgen/mnagle/mwas/pheno/caud/out/chr2_AA.rda</td></tr>\n",
       "\t<tr><td>3</td><td>rda</td><td>/dcs04/lieber/statsgen/shizhong/michael/mwas/gwas/libd_chr3.pgen</td><td>/dcs04/lieber/statsgen/mnagle/mwas/pheno/caud/out/chr3_AA.rda</td></tr>\n",
       "\t<tr><td>4</td><td>rda</td><td>/dcs04/lieber/statsgen/shizhong/michael/mwas/gwas/libd_chr4.pgen</td><td>/dcs04/lieber/statsgen/mnagle/mwas/pheno/caud/out/chr4_AA.rda</td></tr>\n",
       "\t<tr><td>5</td><td>rda</td><td>/dcs04/lieber/statsgen/shizhong/michael/mwas/gwas/libd_chr5.pgen</td><td>/dcs04/lieber/statsgen/mnagle/mwas/pheno/caud/out/chr5_AA.rda</td></tr>\n",
       "\t<tr><td>6</td><td>rda</td><td>/dcs04/lieber/statsgen/shizhong/michael/mwas/gwas/libd_chr6.pgen</td><td>/dcs04/lieber/statsgen/mnagle/mwas/pheno/caud/out/chr6_AA.rda</td></tr>\n",
       "</tbody>\n",
       "</table>\n"
      ],
      "text/latex": [
       "A data.table: 6 × 4\n",
       "\\begin{tabular}{llll}\n",
       " Chr & type & SNP\\_data & methylation\\_data\\\\\n",
       " <dbl> & <chr> & <chr> & <chr>\\\\\n",
       "\\hline\n",
       "\t 1 & rda & /dcs04/lieber/statsgen/shizhong/michael/mwas/gwas/libd\\_chr1.pgen & /dcs04/lieber/statsgen/mnagle/mwas/pheno/caud/out/chr1\\_AA.rda\\\\\n",
       "\t 2 & rda & /dcs04/lieber/statsgen/shizhong/michael/mwas/gwas/libd\\_chr2.pgen & /dcs04/lieber/statsgen/mnagle/mwas/pheno/caud/out/chr2\\_AA.rda\\\\\n",
       "\t 3 & rda & /dcs04/lieber/statsgen/shizhong/michael/mwas/gwas/libd\\_chr3.pgen & /dcs04/lieber/statsgen/mnagle/mwas/pheno/caud/out/chr3\\_AA.rda\\\\\n",
       "\t 4 & rda & /dcs04/lieber/statsgen/shizhong/michael/mwas/gwas/libd\\_chr4.pgen & /dcs04/lieber/statsgen/mnagle/mwas/pheno/caud/out/chr4\\_AA.rda\\\\\n",
       "\t 5 & rda & /dcs04/lieber/statsgen/shizhong/michael/mwas/gwas/libd\\_chr5.pgen & /dcs04/lieber/statsgen/mnagle/mwas/pheno/caud/out/chr5\\_AA.rda\\\\\n",
       "\t 6 & rda & /dcs04/lieber/statsgen/shizhong/michael/mwas/gwas/libd\\_chr6.pgen & /dcs04/lieber/statsgen/mnagle/mwas/pheno/caud/out/chr6\\_AA.rda\\\\\n",
       "\\end{tabular}\n"
      ],
      "text/markdown": [
       "\n",
       "A data.table: 6 × 4\n",
       "\n",
       "| Chr &lt;dbl&gt; | type &lt;chr&gt; | SNP_data &lt;chr&gt; | methylation_data &lt;chr&gt; |\n",
       "|---|---|---|---|\n",
       "| 1 | rda | /dcs04/lieber/statsgen/shizhong/michael/mwas/gwas/libd_chr1.pgen | /dcs04/lieber/statsgen/mnagle/mwas/pheno/caud/out/chr1_AA.rda |\n",
       "| 2 | rda | /dcs04/lieber/statsgen/shizhong/michael/mwas/gwas/libd_chr2.pgen | /dcs04/lieber/statsgen/mnagle/mwas/pheno/caud/out/chr2_AA.rda |\n",
       "| 3 | rda | /dcs04/lieber/statsgen/shizhong/michael/mwas/gwas/libd_chr3.pgen | /dcs04/lieber/statsgen/mnagle/mwas/pheno/caud/out/chr3_AA.rda |\n",
       "| 4 | rda | /dcs04/lieber/statsgen/shizhong/michael/mwas/gwas/libd_chr4.pgen | /dcs04/lieber/statsgen/mnagle/mwas/pheno/caud/out/chr4_AA.rda |\n",
       "| 5 | rda | /dcs04/lieber/statsgen/shizhong/michael/mwas/gwas/libd_chr5.pgen | /dcs04/lieber/statsgen/mnagle/mwas/pheno/caud/out/chr5_AA.rda |\n",
       "| 6 | rda | /dcs04/lieber/statsgen/shizhong/michael/mwas/gwas/libd_chr6.pgen | /dcs04/lieber/statsgen/mnagle/mwas/pheno/caud/out/chr6_AA.rda |\n",
       "\n"
      ],
      "text/plain": [
       "  Chr type SNP_data                                                        \n",
       "1 1   rda  /dcs04/lieber/statsgen/shizhong/michael/mwas/gwas/libd_chr1.pgen\n",
       "2 2   rda  /dcs04/lieber/statsgen/shizhong/michael/mwas/gwas/libd_chr2.pgen\n",
       "3 3   rda  /dcs04/lieber/statsgen/shizhong/michael/mwas/gwas/libd_chr3.pgen\n",
       "4 4   rda  /dcs04/lieber/statsgen/shizhong/michael/mwas/gwas/libd_chr4.pgen\n",
       "5 5   rda  /dcs04/lieber/statsgen/shizhong/michael/mwas/gwas/libd_chr5.pgen\n",
       "6 6   rda  /dcs04/lieber/statsgen/shizhong/michael/mwas/gwas/libd_chr6.pgen\n",
       "  methylation_data                                             \n",
       "1 /dcs04/lieber/statsgen/mnagle/mwas/pheno/caud/out/chr1_AA.rda\n",
       "2 /dcs04/lieber/statsgen/mnagle/mwas/pheno/caud/out/chr2_AA.rda\n",
       "3 /dcs04/lieber/statsgen/mnagle/mwas/pheno/caud/out/chr3_AA.rda\n",
       "4 /dcs04/lieber/statsgen/mnagle/mwas/pheno/caud/out/chr4_AA.rda\n",
       "5 /dcs04/lieber/statsgen/mnagle/mwas/pheno/caud/out/chr5_AA.rda\n",
       "6 /dcs04/lieber/statsgen/mnagle/mwas/pheno/caud/out/chr6_AA.rda"
      ]
     },
     "metadata": {},
     "output_type": "display_data"
    }
   ],
   "source": [
    "# Load data.table\n",
    "library(data.table)\n",
    "\n",
    "# Assuming 'merged' is your data.table with the wide format\n",
    "# Set it as a data.table if it's not already\n",
    "setDT(merged)\n",
    "\n",
    "# Melt the data.table from wide to long format\n",
    "# id.vars = \"Chr\" to keep the chromosome column as identifier\n",
    "# measure.vars patterns to match SNP data and methylation data columns\n",
    "long_format <- melt(\n",
    "  merged,\n",
    "  id.vars = \"Chr\",\n",
    "  measure.vars = patterns(\"^SNPs_libd\", \"caud_.*|dlpfc_.*|hippo_.*\"),\n",
    "  value.name = c(\"SNP_data\", \"methylation_data\"),\n",
    "  variable.name = \"type\"\n",
    ")\n",
    "\n",
    "# Adjust 'type' to distinguish between SNP and methylation data if needed\n",
    "long_format[, type := ifelse(grepl(\"SNPs_libd\", type), \"pgen\", \"rda\")]\n",
    "\n",
    "# View the head of the long format table\n",
    "head(long_format)"
   ]
  },
  {
   "cell_type": "code",
   "execution_count": 17,
   "id": "918c4c3a-417b-4005-a8ad-6273adc9957f",
   "metadata": {},
   "outputs": [
    {
     "data": {
      "text/html": [
       "<table class=\"dataframe\">\n",
       "<caption>A data.table: 6 × 3</caption>\n",
       "<thead>\n",
       "\t<tr><th scope=col>Chr</th><th scope=col>SNP_data</th><th scope=col>methylation_data</th></tr>\n",
       "\t<tr><th scope=col>&lt;dbl&gt;</th><th scope=col>&lt;chr&gt;</th><th scope=col>&lt;chr&gt;</th></tr>\n",
       "</thead>\n",
       "<tbody>\n",
       "\t<tr><td>1</td><td>/dcs04/lieber/statsgen/shizhong/michael/mwas/gwas/libd_chr1.pgen</td><td>/dcs04/lieber/statsgen/mnagle/mwas/pheno/caud/out/chr1_AA.rda</td></tr>\n",
       "\t<tr><td>2</td><td>/dcs04/lieber/statsgen/shizhong/michael/mwas/gwas/libd_chr2.pgen</td><td>/dcs04/lieber/statsgen/mnagle/mwas/pheno/caud/out/chr2_AA.rda</td></tr>\n",
       "\t<tr><td>3</td><td>/dcs04/lieber/statsgen/shizhong/michael/mwas/gwas/libd_chr3.pgen</td><td>/dcs04/lieber/statsgen/mnagle/mwas/pheno/caud/out/chr3_AA.rda</td></tr>\n",
       "\t<tr><td>4</td><td>/dcs04/lieber/statsgen/shizhong/michael/mwas/gwas/libd_chr4.pgen</td><td>/dcs04/lieber/statsgen/mnagle/mwas/pheno/caud/out/chr4_AA.rda</td></tr>\n",
       "\t<tr><td>5</td><td>/dcs04/lieber/statsgen/shizhong/michael/mwas/gwas/libd_chr5.pgen</td><td>/dcs04/lieber/statsgen/mnagle/mwas/pheno/caud/out/chr5_AA.rda</td></tr>\n",
       "\t<tr><td>6</td><td>/dcs04/lieber/statsgen/shizhong/michael/mwas/gwas/libd_chr6.pgen</td><td>/dcs04/lieber/statsgen/mnagle/mwas/pheno/caud/out/chr6_AA.rda</td></tr>\n",
       "</tbody>\n",
       "</table>\n"
      ],
      "text/latex": [
       "A data.table: 6 × 3\n",
       "\\begin{tabular}{lll}\n",
       " Chr & SNP\\_data & methylation\\_data\\\\\n",
       " <dbl> & <chr> & <chr>\\\\\n",
       "\\hline\n",
       "\t 1 & /dcs04/lieber/statsgen/shizhong/michael/mwas/gwas/libd\\_chr1.pgen & /dcs04/lieber/statsgen/mnagle/mwas/pheno/caud/out/chr1\\_AA.rda\\\\\n",
       "\t 2 & /dcs04/lieber/statsgen/shizhong/michael/mwas/gwas/libd\\_chr2.pgen & /dcs04/lieber/statsgen/mnagle/mwas/pheno/caud/out/chr2\\_AA.rda\\\\\n",
       "\t 3 & /dcs04/lieber/statsgen/shizhong/michael/mwas/gwas/libd\\_chr3.pgen & /dcs04/lieber/statsgen/mnagle/mwas/pheno/caud/out/chr3\\_AA.rda\\\\\n",
       "\t 4 & /dcs04/lieber/statsgen/shizhong/michael/mwas/gwas/libd\\_chr4.pgen & /dcs04/lieber/statsgen/mnagle/mwas/pheno/caud/out/chr4\\_AA.rda\\\\\n",
       "\t 5 & /dcs04/lieber/statsgen/shizhong/michael/mwas/gwas/libd\\_chr5.pgen & /dcs04/lieber/statsgen/mnagle/mwas/pheno/caud/out/chr5\\_AA.rda\\\\\n",
       "\t 6 & /dcs04/lieber/statsgen/shizhong/michael/mwas/gwas/libd\\_chr6.pgen & /dcs04/lieber/statsgen/mnagle/mwas/pheno/caud/out/chr6\\_AA.rda\\\\\n",
       "\\end{tabular}\n"
      ],
      "text/markdown": [
       "\n",
       "A data.table: 6 × 3\n",
       "\n",
       "| Chr &lt;dbl&gt; | SNP_data &lt;chr&gt; | methylation_data &lt;chr&gt; |\n",
       "|---|---|---|\n",
       "| 1 | /dcs04/lieber/statsgen/shizhong/michael/mwas/gwas/libd_chr1.pgen | /dcs04/lieber/statsgen/mnagle/mwas/pheno/caud/out/chr1_AA.rda |\n",
       "| 2 | /dcs04/lieber/statsgen/shizhong/michael/mwas/gwas/libd_chr2.pgen | /dcs04/lieber/statsgen/mnagle/mwas/pheno/caud/out/chr2_AA.rda |\n",
       "| 3 | /dcs04/lieber/statsgen/shizhong/michael/mwas/gwas/libd_chr3.pgen | /dcs04/lieber/statsgen/mnagle/mwas/pheno/caud/out/chr3_AA.rda |\n",
       "| 4 | /dcs04/lieber/statsgen/shizhong/michael/mwas/gwas/libd_chr4.pgen | /dcs04/lieber/statsgen/mnagle/mwas/pheno/caud/out/chr4_AA.rda |\n",
       "| 5 | /dcs04/lieber/statsgen/shizhong/michael/mwas/gwas/libd_chr5.pgen | /dcs04/lieber/statsgen/mnagle/mwas/pheno/caud/out/chr5_AA.rda |\n",
       "| 6 | /dcs04/lieber/statsgen/shizhong/michael/mwas/gwas/libd_chr6.pgen | /dcs04/lieber/statsgen/mnagle/mwas/pheno/caud/out/chr6_AA.rda |\n",
       "\n"
      ],
      "text/plain": [
       "  Chr SNP_data                                                        \n",
       "1 1   /dcs04/lieber/statsgen/shizhong/michael/mwas/gwas/libd_chr1.pgen\n",
       "2 2   /dcs04/lieber/statsgen/shizhong/michael/mwas/gwas/libd_chr2.pgen\n",
       "3 3   /dcs04/lieber/statsgen/shizhong/michael/mwas/gwas/libd_chr3.pgen\n",
       "4 4   /dcs04/lieber/statsgen/shizhong/michael/mwas/gwas/libd_chr4.pgen\n",
       "5 5   /dcs04/lieber/statsgen/shizhong/michael/mwas/gwas/libd_chr5.pgen\n",
       "6 6   /dcs04/lieber/statsgen/shizhong/michael/mwas/gwas/libd_chr6.pgen\n",
       "  methylation_data                                             \n",
       "1 /dcs04/lieber/statsgen/mnagle/mwas/pheno/caud/out/chr1_AA.rda\n",
       "2 /dcs04/lieber/statsgen/mnagle/mwas/pheno/caud/out/chr2_AA.rda\n",
       "3 /dcs04/lieber/statsgen/mnagle/mwas/pheno/caud/out/chr3_AA.rda\n",
       "4 /dcs04/lieber/statsgen/mnagle/mwas/pheno/caud/out/chr4_AA.rda\n",
       "5 /dcs04/lieber/statsgen/mnagle/mwas/pheno/caud/out/chr5_AA.rda\n",
       "6 /dcs04/lieber/statsgen/mnagle/mwas/pheno/caud/out/chr6_AA.rda"
      ]
     },
     "metadata": {},
     "output_type": "display_data"
    }
   ],
   "source": [
    "# Load the data.table library\n",
    "library(data.table)\n",
    "\n",
    "# Assuming 'merged' is already a data.table\n",
    "# If it's not, convert it using setDT(merged)\n",
    "\n",
    "# Select SNP column and reshape methylation columns into long format\n",
    "# Extract column names for methylation data\n",
    "methylation_columns <- grep(\"caud_|dlpfc_|hippo_\", names(merged), value = TRUE)\n",
    "\n",
    "# Create a long format table\n",
    "long_format <- melt(merged, id.vars = \"Chr\", measure.vars = methylation_columns, variable.name = \"Methylation_Type\", value.name = \"methylation_data\")\n",
    "\n",
    "# Add SNP data to the long format data.table\n",
    "long_format[, SNP_data := merged[.SD, on = \"Chr\", SNPs_libd]]\n",
    "\n",
    "# Remove Methylation_Type column and arrange columns as specified\n",
    "long_format[, `Methylation_Type` := NULL]\n",
    "setcolorder(long_format, c(\"Chr\", \"SNP_data\", \"methylation_data\"))\n",
    "\n",
    "# Result\n",
    "head(long_format)\n"
   ]
  },
  {
   "cell_type": "code",
   "execution_count": 18,
   "id": "81140524-1678-4fee-b24e-9d3feec39f32",
   "metadata": {},
   "outputs": [
    {
     "name": "stderr",
     "output_type": "stream",
     "text": [
      "Loading required package: BiocGenerics\n",
      "\n",
      "\n",
      "Attaching package: ‘BiocGenerics’\n",
      "\n",
      "\n",
      "The following objects are masked from ‘package:stats’:\n",
      "\n",
      "    IQR, mad, sd, var, xtabs\n",
      "\n",
      "\n",
      "The following objects are masked from ‘package:base’:\n",
      "\n",
      "    anyDuplicated, aperm, append, as.data.frame, basename, cbind,\n",
      "    colnames, dirname, do.call, duplicated, eval, evalq, Filter, Find,\n",
      "    get, grep, grepl, intersect, is.unsorted, lapply, Map, mapply,\n",
      "    match, mget, order, paste, pmax, pmax.int, pmin, pmin.int,\n",
      "    Position, rank, rbind, Reduce, rownames, sapply, setdiff, sort,\n",
      "    table, tapply, union, unique, unsplit, which.max, which.min\n",
      "\n",
      "\n",
      "Loading required package: GenomicRanges\n",
      "\n",
      "Loading required package: stats4\n",
      "\n",
      "Loading required package: S4Vectors\n",
      "\n",
      "\n",
      "Attaching package: ‘S4Vectors’\n",
      "\n",
      "\n",
      "The following objects are masked from ‘package:data.table’:\n",
      "\n",
      "    first, second\n",
      "\n",
      "\n",
      "The following object is masked from ‘package:utils’:\n",
      "\n",
      "    findMatches\n",
      "\n",
      "\n",
      "The following objects are masked from ‘package:base’:\n",
      "\n",
      "    expand.grid, I, unname\n",
      "\n",
      "\n",
      "Loading required package: IRanges\n",
      "\n",
      "\n",
      "Attaching package: ‘IRanges’\n",
      "\n",
      "\n",
      "The following object is masked from ‘package:data.table’:\n",
      "\n",
      "    shift\n",
      "\n",
      "\n",
      "Loading required package: GenomeInfoDb\n",
      "\n",
      "Loading required package: SummarizedExperiment\n",
      "\n",
      "Loading required package: MatrixGenerics\n",
      "\n",
      "Loading required package: matrixStats\n",
      "\n",
      "\n",
      "Attaching package: ‘MatrixGenerics’\n",
      "\n",
      "\n",
      "The following objects are masked from ‘package:matrixStats’:\n",
      "\n",
      "    colAlls, colAnyNAs, colAnys, colAvgsPerRowSet, colCollapse,\n",
      "    colCounts, colCummaxs, colCummins, colCumprods, colCumsums,\n",
      "    colDiffs, colIQRDiffs, colIQRs, colLogSumExps, colMadDiffs,\n",
      "    colMads, colMaxs, colMeans2, colMedians, colMins, colOrderStats,\n",
      "    colProds, colQuantiles, colRanges, colRanks, colSdDiffs, colSds,\n",
      "    colSums2, colTabulates, colVarDiffs, colVars, colWeightedMads,\n",
      "    colWeightedMeans, colWeightedMedians, colWeightedSds,\n",
      "    colWeightedVars, rowAlls, rowAnyNAs, rowAnys, rowAvgsPerColSet,\n",
      "    rowCollapse, rowCounts, rowCummaxs, rowCummins, rowCumprods,\n",
      "    rowCumsums, rowDiffs, rowIQRDiffs, rowIQRs, rowLogSumExps,\n",
      "    rowMadDiffs, rowMads, rowMaxs, rowMeans2, rowMedians, rowMins,\n",
      "    rowOrderStats, rowProds, rowQuantiles, rowRanges, rowRanks,\n",
      "    rowSdDiffs, rowSds, rowSums2, rowTabulates, rowVarDiffs, rowVars,\n",
      "    rowWeightedMads, rowWeightedMeans, rowWeightedMedians,\n",
      "    rowWeightedSds, rowWeightedVars\n",
      "\n",
      "\n",
      "Loading required package: Biobase\n",
      "\n",
      "Welcome to Bioconductor\n",
      "\n",
      "    Vignettes contain introductory material; view with\n",
      "    'browseVignettes()'. To cite Bioconductor, see\n",
      "    'citation(\"Biobase\")', and for packages 'citation(\"pkgname\")'.\n",
      "\n",
      "\n",
      "\n",
      "Attaching package: ‘Biobase’\n",
      "\n",
      "\n",
      "The following object is masked from ‘package:MatrixGenerics’:\n",
      "\n",
      "    rowMedians\n",
      "\n",
      "\n",
      "The following objects are masked from ‘package:matrixStats’:\n",
      "\n",
      "    anyMissing, rowMedians\n",
      "\n",
      "\n"
     ]
    }
   ],
   "source": [
    "library(bsseq)"
   ]
  },
  {
   "cell_type": "markdown",
   "id": "aa0f94b6-4948-43e5-8d9b-20f13058594d",
   "metadata": {},
   "source": [
    "### Test on first row"
   ]
  },
  {
   "cell_type": "code",
   "execution_count": 19,
   "id": "3844cf92-a5ce-441b-adad-ec80046cdbc3",
   "metadata": {},
   "outputs": [
    {
     "data": {
      "text/html": [
       "<style>\n",
       ".list-inline {list-style: none; margin:0; padding: 0}\n",
       ".list-inline>li {display: inline-block}\n",
       ".list-inline>li:not(:last-child)::after {content: \"\\00b7\"; padding: 0 .5ex}\n",
       "</style>\n",
       "<ol class=list-inline><li>198</li><li>3</li></ol>\n"
      ],
      "text/latex": [
       "\\begin{enumerate*}\n",
       "\\item 198\n",
       "\\item 3\n",
       "\\end{enumerate*}\n"
      ],
      "text/markdown": [
       "1. 198\n",
       "2. 3\n",
       "\n",
       "\n"
      ],
      "text/plain": [
       "[1] 198   3"
      ]
     },
     "metadata": {},
     "output_type": "display_data"
    },
    {
     "data": {
      "text/html": [
       "<table class=\"dataframe\">\n",
       "<caption>A data.table: 6 × 3</caption>\n",
       "<thead>\n",
       "\t<tr><th scope=col>Chr</th><th scope=col>SNP_data</th><th scope=col>methylation_data</th></tr>\n",
       "\t<tr><th scope=col>&lt;dbl&gt;</th><th scope=col>&lt;chr&gt;</th><th scope=col>&lt;chr&gt;</th></tr>\n",
       "</thead>\n",
       "<tbody>\n",
       "\t<tr><td>1</td><td>/dcs04/lieber/statsgen/shizhong/michael/mwas/gwas/libd_chr1.pgen</td><td>/dcs04/lieber/statsgen/mnagle/mwas/pheno/caud/out/chr1_AA.rda</td></tr>\n",
       "\t<tr><td>2</td><td>/dcs04/lieber/statsgen/shizhong/michael/mwas/gwas/libd_chr2.pgen</td><td>/dcs04/lieber/statsgen/mnagle/mwas/pheno/caud/out/chr2_AA.rda</td></tr>\n",
       "\t<tr><td>3</td><td>/dcs04/lieber/statsgen/shizhong/michael/mwas/gwas/libd_chr3.pgen</td><td>/dcs04/lieber/statsgen/mnagle/mwas/pheno/caud/out/chr3_AA.rda</td></tr>\n",
       "\t<tr><td>4</td><td>/dcs04/lieber/statsgen/shizhong/michael/mwas/gwas/libd_chr4.pgen</td><td>/dcs04/lieber/statsgen/mnagle/mwas/pheno/caud/out/chr4_AA.rda</td></tr>\n",
       "\t<tr><td>5</td><td>/dcs04/lieber/statsgen/shizhong/michael/mwas/gwas/libd_chr5.pgen</td><td>/dcs04/lieber/statsgen/mnagle/mwas/pheno/caud/out/chr5_AA.rda</td></tr>\n",
       "\t<tr><td>6</td><td>/dcs04/lieber/statsgen/shizhong/michael/mwas/gwas/libd_chr6.pgen</td><td>/dcs04/lieber/statsgen/mnagle/mwas/pheno/caud/out/chr6_AA.rda</td></tr>\n",
       "</tbody>\n",
       "</table>\n"
      ],
      "text/latex": [
       "A data.table: 6 × 3\n",
       "\\begin{tabular}{lll}\n",
       " Chr & SNP\\_data & methylation\\_data\\\\\n",
       " <dbl> & <chr> & <chr>\\\\\n",
       "\\hline\n",
       "\t 1 & /dcs04/lieber/statsgen/shizhong/michael/mwas/gwas/libd\\_chr1.pgen & /dcs04/lieber/statsgen/mnagle/mwas/pheno/caud/out/chr1\\_AA.rda\\\\\n",
       "\t 2 & /dcs04/lieber/statsgen/shizhong/michael/mwas/gwas/libd\\_chr2.pgen & /dcs04/lieber/statsgen/mnagle/mwas/pheno/caud/out/chr2\\_AA.rda\\\\\n",
       "\t 3 & /dcs04/lieber/statsgen/shizhong/michael/mwas/gwas/libd\\_chr3.pgen & /dcs04/lieber/statsgen/mnagle/mwas/pheno/caud/out/chr3\\_AA.rda\\\\\n",
       "\t 4 & /dcs04/lieber/statsgen/shizhong/michael/mwas/gwas/libd\\_chr4.pgen & /dcs04/lieber/statsgen/mnagle/mwas/pheno/caud/out/chr4\\_AA.rda\\\\\n",
       "\t 5 & /dcs04/lieber/statsgen/shizhong/michael/mwas/gwas/libd\\_chr5.pgen & /dcs04/lieber/statsgen/mnagle/mwas/pheno/caud/out/chr5\\_AA.rda\\\\\n",
       "\t 6 & /dcs04/lieber/statsgen/shizhong/michael/mwas/gwas/libd\\_chr6.pgen & /dcs04/lieber/statsgen/mnagle/mwas/pheno/caud/out/chr6\\_AA.rda\\\\\n",
       "\\end{tabular}\n"
      ],
      "text/markdown": [
       "\n",
       "A data.table: 6 × 3\n",
       "\n",
       "| Chr &lt;dbl&gt; | SNP_data &lt;chr&gt; | methylation_data &lt;chr&gt; |\n",
       "|---|---|---|\n",
       "| 1 | /dcs04/lieber/statsgen/shizhong/michael/mwas/gwas/libd_chr1.pgen | /dcs04/lieber/statsgen/mnagle/mwas/pheno/caud/out/chr1_AA.rda |\n",
       "| 2 | /dcs04/lieber/statsgen/shizhong/michael/mwas/gwas/libd_chr2.pgen | /dcs04/lieber/statsgen/mnagle/mwas/pheno/caud/out/chr2_AA.rda |\n",
       "| 3 | /dcs04/lieber/statsgen/shizhong/michael/mwas/gwas/libd_chr3.pgen | /dcs04/lieber/statsgen/mnagle/mwas/pheno/caud/out/chr3_AA.rda |\n",
       "| 4 | /dcs04/lieber/statsgen/shizhong/michael/mwas/gwas/libd_chr4.pgen | /dcs04/lieber/statsgen/mnagle/mwas/pheno/caud/out/chr4_AA.rda |\n",
       "| 5 | /dcs04/lieber/statsgen/shizhong/michael/mwas/gwas/libd_chr5.pgen | /dcs04/lieber/statsgen/mnagle/mwas/pheno/caud/out/chr5_AA.rda |\n",
       "| 6 | /dcs04/lieber/statsgen/shizhong/michael/mwas/gwas/libd_chr6.pgen | /dcs04/lieber/statsgen/mnagle/mwas/pheno/caud/out/chr6_AA.rda |\n",
       "\n"
      ],
      "text/plain": [
       "  Chr SNP_data                                                        \n",
       "1 1   /dcs04/lieber/statsgen/shizhong/michael/mwas/gwas/libd_chr1.pgen\n",
       "2 2   /dcs04/lieber/statsgen/shizhong/michael/mwas/gwas/libd_chr2.pgen\n",
       "3 3   /dcs04/lieber/statsgen/shizhong/michael/mwas/gwas/libd_chr3.pgen\n",
       "4 4   /dcs04/lieber/statsgen/shizhong/michael/mwas/gwas/libd_chr4.pgen\n",
       "5 5   /dcs04/lieber/statsgen/shizhong/michael/mwas/gwas/libd_chr5.pgen\n",
       "6 6   /dcs04/lieber/statsgen/shizhong/michael/mwas/gwas/libd_chr6.pgen\n",
       "  methylation_data                                             \n",
       "1 /dcs04/lieber/statsgen/mnagle/mwas/pheno/caud/out/chr1_AA.rda\n",
       "2 /dcs04/lieber/statsgen/mnagle/mwas/pheno/caud/out/chr2_AA.rda\n",
       "3 /dcs04/lieber/statsgen/mnagle/mwas/pheno/caud/out/chr3_AA.rda\n",
       "4 /dcs04/lieber/statsgen/mnagle/mwas/pheno/caud/out/chr4_AA.rda\n",
       "5 /dcs04/lieber/statsgen/mnagle/mwas/pheno/caud/out/chr5_AA.rda\n",
       "6 /dcs04/lieber/statsgen/mnagle/mwas/pheno/caud/out/chr6_AA.rda"
      ]
     },
     "metadata": {},
     "output_type": "display_data"
    },
    {
     "data": {
      "text/plain": [
       "[1] \"2024-03-06 14:15:54 EST\""
      ]
     },
     "metadata": {},
     "output_type": "display_data"
    }
   ],
   "source": [
    "dim(long_format)\n",
    "head(long_format)\n",
    "Sys.time()"
   ]
  },
  {
   "cell_type": "code",
   "execution_count": 20,
   "id": "f329fd1c-aaca-45c2-b08c-8d9488bb9502",
   "metadata": {},
   "outputs": [],
   "source": [
    "i <- 1"
   ]
  },
  {
   "cell_type": "code",
   "execution_count": 21,
   "id": "9fb2002d-e44d-45ed-9d9c-3287c565b8f5",
   "metadata": {},
   "outputs": [],
   "source": [
    "pvar <- fread(gsub(\"pgen\", \"pvar\", long_format$SNP_data[i]))[, 1:3]\n",
    "load(long_format$methylation_data[i])\n",
    "first_SNP_position <- min(pvar$POS)\n",
    "last_SNP_position <- max(pvar$POS)\n",
    "first_meth_position <- min(start(BSobj2))\n",
    "last_meth_position <- max(start(BSobj2))\n",
    "window_size <- 10000\n",
    "# Find first methylation index with SNP coverage\n",
    "first_meth_index_with_SNP_coverage <- which(start(BSobj2) >= (first_SNP_position - window_size) & \n",
    "                                             start(BSobj2) <= (last_SNP_position + window_size))[1]\n",
    "# Correcting the approach to find the last methylation index with SNP coverage\n",
    "last_meth_index_with_SNP_coverage <- which(start(BSobj2) >= (first_SNP_position - window_size) & \n",
    "                                            start(BSobj2) <= (last_SNP_position + window_size))\n",
    "if(length(last_meth_index_with_SNP_coverage) > 0) {\n",
    "  last_meth_index_with_SNP_coverage <- last_meth_index_with_SNP_coverage[length(last_meth_index_with_SNP_coverage)]\n",
    "} else {\n",
    "  last_meth_index_with_SNP_coverage <- NA # In case no indices are found\n",
    "}\n",
    "\n",
    "# Values for the first and last methylation sites with SNP coverage\n",
    "if(!is.na(first_meth_index_with_SNP_coverage)) {\n",
    "  first_meth_value_with_SNP_coverage <- start(BSobj2)[first_meth_index_with_SNP_coverage]\n",
    "} else {\n",
    "  first_meth_value_with_SNP_coverage <- NA # In case no first index is found\n",
    "}\n",
    "\n",
    "if(!is.na(last_meth_index_with_SNP_coverage)) {\n",
    "  last_meth_value_with_SNP_coverage <- start(BSobj2)[last_meth_index_with_SNP_coverage]\n",
    "} else {\n",
    "  last_meth_value_with_SNP_coverage <- NA # In case no last index is found\n",
    "}\n",
    "\n",
    "if(!identical(start(BSobj2), sort(start(BSobj2)))) {\n",
    "  stop(\"start positions in BSobj2 are not ordered\")\n",
    "}\n",
    "\n",
    "BSobj2 <- NULL\n"
   ]
  },
  {
   "cell_type": "code",
   "execution_count": 22,
   "id": "76194ec3-f4f5-4129-93b5-86dad0dacd3d",
   "metadata": {},
   "outputs": [
    {
     "data": {
      "text/plain": [
       "[1] \"2024-03-06 14:16:55 EST\""
      ]
     },
     "metadata": {},
     "output_type": "display_data"
    }
   ],
   "source": [
    "Sys.time()"
   ]
  },
  {
   "cell_type": "markdown",
   "id": "acf2c578-b996-4afc-aac4-66254ccbe8d8",
   "metadata": {},
   "source": [
    "### Sanity checks"
   ]
  },
  {
   "cell_type": "code",
   "execution_count": 23,
   "id": "303055c1-6c10-4a50-9e3f-9aa398b43270",
   "metadata": {},
   "outputs": [
    {
     "data": {
      "text/html": [
       "1069461"
      ],
      "text/latex": [
       "1069461"
      ],
      "text/markdown": [
       "1069461"
      ],
      "text/plain": [
       "[1] 1069461"
      ]
     },
     "metadata": {},
     "output_type": "display_data"
    }
   ],
   "source": [
    "first_meth_value_with_SNP_coverage"
   ]
  },
  {
   "cell_type": "code",
   "execution_count": 24,
   "id": "af109676-cb39-4210-acfa-db564a592074",
   "metadata": {},
   "outputs": [
    {
     "data": {
      "text/html": [
       "248918358"
      ],
      "text/latex": [
       "248918358"
      ],
      "text/markdown": [
       "248918358"
      ],
      "text/plain": [
       "[1] 248918358"
      ]
     },
     "metadata": {},
     "output_type": "display_data"
    }
   ],
   "source": [
    "last_meth_value_with_SNP_coverage"
   ]
  },
  {
   "cell_type": "code",
   "execution_count": 25,
   "id": "e6266bac-06a3-4d4d-9508-258e46c8915c",
   "metadata": {},
   "outputs": [
    {
     "data": {
      "text/html": [
       "8982"
      ],
      "text/latex": [
       "8982"
      ],
      "text/markdown": [
       "8982"
      ],
      "text/plain": [
       "[1] 8982"
      ]
     },
     "metadata": {},
     "output_type": "display_data"
    }
   ],
   "source": [
    "first_meth_index_with_SNP_coverage"
   ]
  },
  {
   "cell_type": "code",
   "execution_count": 26,
   "id": "c18aa399-e950-4276-90cb-d1df93f536b5",
   "metadata": {},
   "outputs": [
    {
     "data": {
      "text/html": [
       "2202702"
      ],
      "text/latex": [
       "2202702"
      ],
      "text/markdown": [
       "2202702"
      ],
      "text/plain": [
       "[1] 2202702"
      ]
     },
     "metadata": {},
     "output_type": "display_data"
    }
   ],
   "source": [
    "last_meth_index_with_SNP_coverage"
   ]
  },
  {
   "cell_type": "markdown",
   "id": "f18e3dc3-90c1-4308-8c0f-9aacf87b1a6b",
   "metadata": {},
   "source": [
    "### Deploy"
   ]
  },
  {
   "cell_type": "code",
   "execution_count": 27,
   "id": "bb91286f-813d-4057-abdd-c8cda78e6bd9",
   "metadata": {},
   "outputs": [
    {
     "name": "stdout",
     "output_type": "stream",
     "text": [
      "[1] 1\n",
      "[1] \"Ran 1 of 198 so far. Estimated time remaining: 181.79 minutes\\n\"\n",
      "[1] 2\n",
      "[1] \"Ran 2 of 198 so far. Estimated time remaining: 2.97 minutes\\n\"\n",
      "[1] 3\n",
      "[1] \"Ran 3 of 198 so far. Estimated time remaining: 2.71 minutes\\n\"\n",
      "[1] 4\n",
      "[1] \"Ran 4 of 198 so far. Estimated time remaining: 2.6 minutes\\n\"\n",
      "[1] 5\n",
      "[1] \"Ran 5 of 198 so far. Estimated time remaining: 2.55 minutes\\n\"\n",
      "[1] 6\n",
      "[1] \"Ran 6 of 198 so far. Estimated time remaining: 2.53 minutes\\n\"\n",
      "[1] 7\n",
      "[1] \"Ran 7 of 198 so far. Estimated time remaining: 2.51 minutes\\n\"\n",
      "[1] 8\n",
      "[1] \"Ran 8 of 198 so far. Estimated time remaining: 2.44 minutes\\n\"\n",
      "[1] 9\n",
      "[1] \"Ran 9 of 198 so far. Estimated time remaining: 2.35 minutes\\n\"\n",
      "[1] 10\n",
      "[1] \"Ran 10 of 198 so far. Estimated time remaining: 2.32 minutes\\n\"\n",
      "[1] 11\n",
      "[1] \"Ran 11 of 198 so far. Estimated time remaining: 2.29 minutes\\n\"\n",
      "[1] 12\n",
      "[1] \"Ran 12 of 198 so far. Estimated time remaining: 2.26 minutes\\n\"\n",
      "[1] 13\n",
      "[1] \"Ran 13 of 198 so far. Estimated time remaining: 2.18 minutes\\n\"\n",
      "[1] 14\n",
      "[1] \"Ran 14 of 198 so far. Estimated time remaining: 2.1 minutes\\n\"\n",
      "[1] 15\n",
      "[1] \"Ran 15 of 198 so far. Estimated time remaining: 2.03 minutes\\n\"\n",
      "[1] 16\n",
      "[1] \"Ran 16 of 198 so far. Estimated time remaining: 2.01 minutes\\n\"\n",
      "[1] 17\n",
      "[1] \"Ran 17 of 198 so far. Estimated time remaining: 1.99 minutes\\n\"\n",
      "[1] 18\n",
      "[1] \"Ran 18 of 198 so far. Estimated time remaining: 1.93 minutes\\n\"\n",
      "[1] 19\n",
      "[1] \"Ran 19 of 198 so far. Estimated time remaining: 1.9 minutes\\n\"\n",
      "[1] 20\n",
      "[1] \"Ran 20 of 198 so far. Estimated time remaining: 1.85 minutes\\n\"\n",
      "[1] 21\n",
      "[1] \"Ran 21 of 198 so far. Estimated time remaining: 1.78 minutes\\n\"\n",
      "[1] 22\n",
      "[1] \"Ran 22 of 198 so far. Estimated time remaining: 1.73 minutes\\n\"\n",
      "[1] 23\n",
      "[1] \"Ran 23 of 198 so far. Estimated time remaining: 1.92 minutes\\n\"\n",
      "[1] 24\n",
      "[1] \"Ran 24 of 198 so far. Estimated time remaining: 2.04 minutes\\n\"\n",
      "[1] 25\n",
      "[1] \"Ran 25 of 198 so far. Estimated time remaining: 2.12 minutes\\n\"\n",
      "[1] 26\n",
      "[1] \"Ran 26 of 198 so far. Estimated time remaining: 2.17 minutes\\n\"\n",
      "[1] 27\n",
      "[1] \"Ran 27 of 198 so far. Estimated time remaining: 2.23 minutes\\n\"\n",
      "[1] 28\n",
      "[1] \"Ran 28 of 198 so far. Estimated time remaining: 2.27 minutes\\n\"\n",
      "[1] 29\n",
      "[1] \"Ran 29 of 198 so far. Estimated time remaining: 2.32 minutes\\n\"\n",
      "[1] 30\n",
      "[1] \"Ran 30 of 198 so far. Estimated time remaining: 2.34 minutes\\n\"\n",
      "[1] 31\n",
      "[1] \"Ran 31 of 198 so far. Estimated time remaining: 2.34 minutes\\n\"\n",
      "[1] 32\n",
      "[1] \"Ran 32 of 198 so far. Estimated time remaining: 2.37 minutes\\n\"\n",
      "[1] 33\n",
      "[1] \"Ran 33 of 198 so far. Estimated time remaining: 2.4 minutes\\n\"\n",
      "[1] 34\n",
      "[1] \"Ran 34 of 198 so far. Estimated time remaining: 2.41 minutes\\n\"\n",
      "[1] 35\n",
      "[1] \"Ran 35 of 198 so far. Estimated time remaining: 2.38 minutes\\n\"\n",
      "[1] 36\n",
      "[1] \"Ran 36 of 198 so far. Estimated time remaining: 2.36 minutes\\n\"\n",
      "[1] 37\n",
      "[1] \"Ran 37 of 198 so far. Estimated time remaining: 2.35 minutes\\n\"\n",
      "[1] 38\n",
      "[1] \"Ran 38 of 198 so far. Estimated time remaining: 2.35 minutes\\n\"\n",
      "[1] 39\n",
      "[1] \"Ran 39 of 198 so far. Estimated time remaining: 2.35 minutes\\n\"\n",
      "[1] 40\n",
      "[1] \"Ran 40 of 198 so far. Estimated time remaining: 2.32 minutes\\n\"\n",
      "[1] 41\n",
      "[1] \"Ran 41 of 198 so far. Estimated time remaining: 2.31 minutes\\n\"\n",
      "[1] 42\n",
      "[1] \"Ran 42 of 198 so far. Estimated time remaining: 2.28 minutes\\n\"\n",
      "[1] 43\n",
      "[1] \"Ran 43 of 198 so far. Estimated time remaining: 2.24 minutes\\n\"\n",
      "[1] 44\n",
      "[1] \"Ran 44 of 198 so far. Estimated time remaining: 2.2 minutes\\n\"\n",
      "[1] 45\n",
      "[1] \"Ran 45 of 198 so far. Estimated time remaining: 2.2 minutes\\n\"\n",
      "[1] 46\n",
      "[1] \"Ran 46 of 198 so far. Estimated time remaining: 2.18 minutes\\n\"\n",
      "[1] 47\n",
      "[1] \"Ran 47 of 198 so far. Estimated time remaining: 2.16 minutes\\n\"\n",
      "[1] 48\n",
      "[1] \"Ran 48 of 198 so far. Estimated time remaining: 2.14 minutes\\n\"\n",
      "[1] 49\n",
      "[1] \"Ran 49 of 198 so far. Estimated time remaining: 2.11 minutes\\n\"\n",
      "[1] 50\n",
      "[1] \"Ran 50 of 198 so far. Estimated time remaining: 2.09 minutes\\n\"\n",
      "[1] 51\n",
      "[1] \"Ran 51 of 198 so far. Estimated time remaining: 2.07 minutes\\n\"\n",
      "[1] 52\n",
      "[1] \"Ran 52 of 198 so far. Estimated time remaining: 2.04 minutes\\n\"\n",
      "[1] 53\n",
      "[1] \"Ran 53 of 198 so far. Estimated time remaining: 2.01 minutes\\n\"\n",
      "[1] 54\n",
      "[1] \"Ran 54 of 198 so far. Estimated time remaining: 1.98 minutes\\n\"\n",
      "[1] 55\n",
      "[1] \"Ran 55 of 198 so far. Estimated time remaining: 1.96 minutes\\n\"\n",
      "[1] 56\n",
      "[1] \"Ran 56 of 198 so far. Estimated time remaining: 1.93 minutes\\n\"\n",
      "[1] 57\n",
      "[1] \"Ran 57 of 198 so far. Estimated time remaining: 1.9 minutes\\n\"\n",
      "[1] 58\n",
      "[1] \"Ran 58 of 198 so far. Estimated time remaining: 1.87 minutes\\n\"\n",
      "[1] 59\n",
      "[1] \"Ran 59 of 198 so far. Estimated time remaining: 1.84 minutes\\n\"\n",
      "[1] 60\n",
      "[1] \"Ran 60 of 198 so far. Estimated time remaining: 1.82 minutes\\n\"\n",
      "[1] 61\n",
      "[1] \"Ran 61 of 198 so far. Estimated time remaining: 1.79 minutes\\n\"\n",
      "[1] 62\n",
      "[1] \"Ran 62 of 198 so far. Estimated time remaining: 1.76 minutes\\n\"\n",
      "[1] 63\n",
      "[1] \"Ran 63 of 198 so far. Estimated time remaining: 1.74 minutes\\n\"\n",
      "[1] 64\n",
      "[1] \"Ran 64 of 198 so far. Estimated time remaining: 1.71 minutes\\n\"\n",
      "[1] 65\n",
      "[1] \"Ran 65 of 198 so far. Estimated time remaining: 1.68 minutes\\n\"\n",
      "[1] 66\n",
      "[1] \"Ran 66 of 198 so far. Estimated time remaining: 1.65 minutes\\n\"\n",
      "[1] 67\n",
      "[1] \"Ran 67 of 198 so far. Estimated time remaining: 1.64 minutes\\n\"\n",
      "[1] 68\n",
      "[1] \"Ran 68 of 198 so far. Estimated time remaining: 1.63 minutes\\n\"\n",
      "[1] 69\n",
      "[1] \"Ran 69 of 198 so far. Estimated time remaining: 1.61 minutes\\n\"\n",
      "[1] 70\n",
      "[1] \"Ran 70 of 198 so far. Estimated time remaining: 1.59 minutes\\n\"\n",
      "[1] 71\n",
      "[1] \"Ran 71 of 198 so far. Estimated time remaining: 1.57 minutes\\n\"\n",
      "[1] 72\n",
      "[1] \"Ran 72 of 198 so far. Estimated time remaining: 1.55 minutes\\n\"\n",
      "[1] 73\n",
      "[1] \"Ran 73 of 198 so far. Estimated time remaining: 1.53 minutes\\n\"\n",
      "[1] 74\n",
      "[1] \"Ran 74 of 198 so far. Estimated time remaining: 1.51 minutes\\n\"\n",
      "[1] 75\n",
      "[1] \"Ran 75 of 198 so far. Estimated time remaining: 1.49 minutes\\n\"\n",
      "[1] 76\n",
      "[1] \"Ran 76 of 198 so far. Estimated time remaining: 1.47 minutes\\n\"\n",
      "[1] 77\n",
      "[1] \"Ran 77 of 198 so far. Estimated time remaining: 1.45 minutes\\n\"\n",
      "[1] 78\n",
      "[1] \"Ran 78 of 198 so far. Estimated time remaining: 1.43 minutes\\n\"\n",
      "[1] 79\n",
      "[1] \"Ran 79 of 198 so far. Estimated time remaining: 1.41 minutes\\n\"\n",
      "[1] 80\n",
      "[1] \"Ran 80 of 198 so far. Estimated time remaining: 1.38 minutes\\n\"\n",
      "[1] 81\n",
      "[1] \"Ran 81 of 198 so far. Estimated time remaining: 1.36 minutes\\n\"\n",
      "[1] 82\n",
      "[1] \"Ran 82 of 198 so far. Estimated time remaining: 1.34 minutes\\n\"\n",
      "[1] 83\n",
      "[1] \"Ran 83 of 198 so far. Estimated time remaining: 1.32 minutes\\n\"\n",
      "[1] 84\n",
      "[1] \"Ran 84 of 198 so far. Estimated time remaining: 1.3 minutes\\n\"\n",
      "[1] 85\n",
      "[1] \"Ran 85 of 198 so far. Estimated time remaining: 1.28 minutes\\n\"\n",
      "[1] 86\n",
      "[1] \"Ran 86 of 198 so far. Estimated time remaining: 1.26 minutes\\n\"\n",
      "[1] 87\n",
      "[1] \"Ran 87 of 198 so far. Estimated time remaining: 1.24 minutes\\n\"\n",
      "[1] 88\n",
      "[1] \"Ran 88 of 198 so far. Estimated time remaining: 1.22 minutes\\n\"\n",
      "[1] 89\n",
      "[1] \"Ran 89 of 198 so far. Estimated time remaining: 1.21 minutes\\n\"\n",
      "[1] 90\n",
      "[1] \"Ran 90 of 198 so far. Estimated time remaining: 0.02 minutes\\n\"\n",
      "[1] 91\n",
      "[1] \"Ran 91 of 198 so far. Estimated time remaining: 0.02 minutes\\n\"\n",
      "[1] 92\n",
      "[1] \"Ran 92 of 198 so far. Estimated time remaining: 0.02 minutes\\n\"\n",
      "[1] 93\n",
      "[1] \"Ran 93 of 198 so far. Estimated time remaining: 0.02 minutes\\n\"\n",
      "[1] 94\n",
      "[1] \"Ran 94 of 198 so far. Estimated time remaining: 0.02 minutes\\n\"\n",
      "[1] 95\n",
      "[1] \"Ran 95 of 198 so far. Estimated time remaining: 0.02 minutes\\n\"\n",
      "[1] 96\n",
      "[1] \"Ran 96 of 198 so far. Estimated time remaining: 0.02 minutes\\n\"\n",
      "[1] 97\n",
      "[1] \"Ran 97 of 198 so far. Estimated time remaining: 0.02 minutes\\n\"\n",
      "[1] 98\n",
      "[1] \"Ran 98 of 198 so far. Estimated time remaining: 0.02 minutes\\n\"\n",
      "[1] 99\n",
      "[1] \"Ran 99 of 198 so far. Estimated time remaining: 0.02 minutes\\n\"\n",
      "[1] 100\n",
      "[1] \"Ran 100 of 198 so far. Estimated time remaining: 0.02 minutes\\n\"\n",
      "[1] 101\n",
      "[1] \"Ran 101 of 198 so far. Estimated time remaining: 0.02 minutes\\n\"\n",
      "[1] 102\n",
      "[1] \"Ran 102 of 198 so far. Estimated time remaining: 0.02 minutes\\n\"\n",
      "[1] 103\n",
      "[1] \"Ran 103 of 198 so far. Estimated time remaining: 0.02 minutes\\n\"\n",
      "[1] 104\n",
      "[1] \"Ran 104 of 198 so far. Estimated time remaining: 0.02 minutes\\n\"\n",
      "[1] 105\n",
      "[1] \"Ran 105 of 198 so far. Estimated time remaining: 0.02 minutes\\n\"\n",
      "[1] 106\n",
      "[1] \"Ran 106 of 198 so far. Estimated time remaining: 0.02 minutes\\n\"\n",
      "[1] 107\n",
      "[1] \"Ran 107 of 198 so far. Estimated time remaining: 0.02 minutes\\n\"\n",
      "[1] 108\n",
      "[1] \"Ran 108 of 198 so far. Estimated time remaining: 0.02 minutes\\n\"\n",
      "[1] 109\n",
      "[1] \"Ran 109 of 198 so far. Estimated time remaining: 0.02 minutes\\n\"\n",
      "[1] 110\n",
      "[1] \"Ran 110 of 198 so far. Estimated time remaining: 0.02 minutes\\n\"\n",
      "[1] 111\n",
      "[1] \"Ran 111 of 198 so far. Estimated time remaining: 0.02 minutes\\n\"\n",
      "[1] 112\n",
      "[1] \"Ran 112 of 198 so far. Estimated time remaining: 0.02 minutes\\n\"\n",
      "[1] 113\n",
      "[1] \"Ran 113 of 198 so far. Estimated time remaining: 0.01 minutes\\n\"\n",
      "[1] 114\n",
      "[1] \"Ran 114 of 198 so far. Estimated time remaining: 0.01 minutes\\n\"\n",
      "[1] 115\n",
      "[1] \"Ran 115 of 198 so far. Estimated time remaining: 0.01 minutes\\n\"\n",
      "[1] 116\n",
      "[1] \"Ran 116 of 198 so far. Estimated time remaining: 0.01 minutes\\n\"\n",
      "[1] 117\n",
      "[1] \"Ran 117 of 198 so far. Estimated time remaining: 0.01 minutes\\n\"\n",
      "[1] 118\n",
      "[1] \"Ran 118 of 198 so far. Estimated time remaining: 0.01 minutes\\n\"\n",
      "[1] 119\n",
      "[1] \"Ran 119 of 198 so far. Estimated time remaining: 0.01 minutes\\n\"\n",
      "[1] 120\n",
      "[1] \"Ran 120 of 198 so far. Estimated time remaining: 0.01 minutes\\n\"\n",
      "[1] 121\n",
      "[1] \"Ran 121 of 198 so far. Estimated time remaining: 0.01 minutes\\n\"\n",
      "[1] 122\n",
      "[1] \"Ran 122 of 198 so far. Estimated time remaining: 0.01 minutes\\n\"\n",
      "[1] 123\n",
      "[1] \"Ran 123 of 198 so far. Estimated time remaining: 0.01 minutes\\n\"\n",
      "[1] 124\n",
      "[1] \"Ran 124 of 198 so far. Estimated time remaining: 0.01 minutes\\n\"\n",
      "[1] 125\n",
      "[1] \"Ran 125 of 198 so far. Estimated time remaining: 0.01 minutes\\n\"\n",
      "[1] 126\n",
      "[1] \"Ran 126 of 198 so far. Estimated time remaining: 0.01 minutes\\n\"\n",
      "[1] 127\n",
      "[1] \"Ran 127 of 198 so far. Estimated time remaining: 0.01 minutes\\n\"\n",
      "[1] 128\n",
      "[1] \"Ran 128 of 198 so far. Estimated time remaining: 0.01 minutes\\n\"\n",
      "[1] 129\n",
      "[1] \"Ran 129 of 198 so far. Estimated time remaining: 0.01 minutes\\n\"\n",
      "[1] 130\n",
      "[1] \"Ran 130 of 198 so far. Estimated time remaining: 0.01 minutes\\n\"\n",
      "[1] 131\n",
      "[1] \"Ran 131 of 198 so far. Estimated time remaining: 0.01 minutes\\n\"\n",
      "[1] 132\n",
      "[1] \"Ran 132 of 198 so far. Estimated time remaining: 0.01 minutes\\n\"\n",
      "[1] 133\n",
      "[1] \"Ran 133 of 198 so far. Estimated time remaining: 0.01 minutes\\n\"\n",
      "[1] 134\n",
      "[1] \"Ran 134 of 198 so far. Estimated time remaining: 0.01 minutes\\n\"\n",
      "[1] 135\n",
      "[1] \"Ran 135 of 198 so far. Estimated time remaining: 0.01 minutes\\n\"\n",
      "[1] 136\n",
      "[1] \"Ran 136 of 198 so far. Estimated time remaining: 0.01 minutes\\n\"\n",
      "[1] 137\n",
      "[1] \"Ran 137 of 198 so far. Estimated time remaining: 0.01 minutes\\n\"\n",
      "[1] 138\n",
      "[1] \"Ran 138 of 198 so far. Estimated time remaining: 0.01 minutes\\n\"\n",
      "[1] 139\n",
      "[1] \"Ran 139 of 198 so far. Estimated time remaining: 0.01 minutes\\n\"\n",
      "[1] 140\n",
      "[1] \"Ran 140 of 198 so far. Estimated time remaining: 0.01 minutes\\n\"\n",
      "[1] 141\n",
      "[1] \"Ran 141 of 198 so far. Estimated time remaining: 0.01 minutes\\n\"\n",
      "[1] 142\n",
      "[1] \"Ran 142 of 198 so far. Estimated time remaining: 0.01 minutes\\n\"\n",
      "[1] 143\n",
      "[1] \"Ran 143 of 198 so far. Estimated time remaining: 0.01 minutes\\n\"\n",
      "[1] 144\n",
      "[1] \"Ran 144 of 198 so far. Estimated time remaining: 0.01 minutes\\n\"\n",
      "[1] 145\n",
      "[1] \"Ran 145 of 198 so far. Estimated time remaining: 0.01 minutes\\n\"\n",
      "[1] 146\n",
      "[1] \"Ran 146 of 198 so far. Estimated time remaining: 0.01 minutes\\n\"\n",
      "[1] 147\n",
      "[1] \"Ran 147 of 198 so far. Estimated time remaining: 0.01 minutes\\n\"\n",
      "[1] 148\n",
      "[1] \"Ran 148 of 198 so far. Estimated time remaining: 0.01 minutes\\n\"\n",
      "[1] 149\n",
      "[1] \"Ran 149 of 198 so far. Estimated time remaining: 0.01 minutes\\n\"\n",
      "[1] 150\n",
      "[1] \"Ran 150 of 198 so far. Estimated time remaining: 0.01 minutes\\n\"\n",
      "[1] 151\n",
      "[1] \"Ran 151 of 198 so far. Estimated time remaining: 0.01 minutes\\n\"\n",
      "[1] 152\n",
      "[1] \"Ran 152 of 198 so far. Estimated time remaining: 0.01 minutes\\n\"\n",
      "[1] 153\n",
      "[1] \"Ran 153 of 198 so far. Estimated time remaining: 0.01 minutes\\n\"\n",
      "[1] 154\n",
      "[1] \"Ran 154 of 198 so far. Estimated time remaining: 0.01 minutes\\n\"\n",
      "[1] 155\n",
      "[1] \"Ran 155 of 198 so far. Estimated time remaining: 0.01 minutes\\n\"\n",
      "[1] 156\n",
      "[1] \"Ran 156 of 198 so far. Estimated time remaining: 0.01 minutes\\n\"\n",
      "[1] 157\n",
      "[1] \"Ran 157 of 198 so far. Estimated time remaining: 0.01 minutes\\n\"\n",
      "[1] 158\n",
      "[1] \"Ran 158 of 198 so far. Estimated time remaining: 0.01 minutes\\n\"\n",
      "[1] 159\n",
      "[1] \"Ran 159 of 198 so far. Estimated time remaining: 0.01 minutes\\n\"\n",
      "[1] 160\n",
      "[1] \"Ran 160 of 198 so far. Estimated time remaining: 0.01 minutes\\n\"\n",
      "[1] 161\n",
      "[1] \"Ran 161 of 198 so far. Estimated time remaining: 0.01 minutes\\n\"\n",
      "[1] 162\n",
      "[1] \"Ran 162 of 198 so far. Estimated time remaining: 0.01 minutes\\n\"\n",
      "[1] 163\n",
      "[1] \"Ran 163 of 198 so far. Estimated time remaining: 0.01 minutes\\n\"\n",
      "[1] 164\n",
      "[1] \"Ran 164 of 198 so far. Estimated time remaining: 0.01 minutes\\n\"\n",
      "[1] 165\n",
      "[1] \"Ran 165 of 198 so far. Estimated time remaining: 0.01 minutes\\n\"\n",
      "[1] 166\n",
      "[1] \"Ran 166 of 198 so far. Estimated time remaining: 0 minutes\\n\"\n",
      "[1] 167\n",
      "[1] \"Ran 167 of 198 so far. Estimated time remaining: 0 minutes\\n\"\n",
      "[1] 168\n",
      "[1] \"Ran 168 of 198 so far. Estimated time remaining: 0 minutes\\n\"\n",
      "[1] 169\n",
      "[1] \"Ran 169 of 198 so far. Estimated time remaining: 0 minutes\\n\"\n",
      "[1] 170\n",
      "[1] \"Ran 170 of 198 so far. Estimated time remaining: 0 minutes\\n\"\n",
      "[1] 171\n",
      "[1] \"Ran 171 of 198 so far. Estimated time remaining: 0 minutes\\n\"\n",
      "[1] 172\n",
      "[1] \"Ran 172 of 198 so far. Estimated time remaining: 0 minutes\\n\"\n",
      "[1] 173\n",
      "[1] \"Ran 173 of 198 so far. Estimated time remaining: 0 minutes\\n\"\n",
      "[1] 174\n",
      "[1] \"Ran 174 of 198 so far. Estimated time remaining: 0 minutes\\n\"\n",
      "[1] 175\n",
      "[1] \"Ran 175 of 198 so far. Estimated time remaining: 0 minutes\\n\"\n",
      "[1] 176\n",
      "[1] \"Ran 176 of 198 so far. Estimated time remaining: 0 minutes\\n\"\n",
      "[1] 177\n",
      "[1] \"Ran 177 of 198 so far. Estimated time remaining: 0 minutes\\n\"\n",
      "[1] 178\n",
      "[1] \"Ran 178 of 198 so far. Estimated time remaining: 0 minutes\\n\"\n",
      "[1] 179\n",
      "[1] \"Ran 179 of 198 so far. Estimated time remaining: 0 minutes\\n\"\n",
      "[1] 180\n",
      "[1] \"Ran 180 of 198 so far. Estimated time remaining: 0 minutes\\n\"\n",
      "[1] 181\n",
      "[1] \"Ran 181 of 198 so far. Estimated time remaining: 0 minutes\\n\"\n",
      "[1] 182\n",
      "[1] \"Ran 182 of 198 so far. Estimated time remaining: 0 minutes\\n\"\n",
      "[1] 183\n",
      "[1] \"Ran 183 of 198 so far. Estimated time remaining: 0 minutes\\n\"\n",
      "[1] 184\n",
      "[1] \"Ran 184 of 198 so far. Estimated time remaining: 0 minutes\\n\"\n",
      "[1] 185\n",
      "[1] \"Ran 185 of 198 so far. Estimated time remaining: 0 minutes\\n\"\n",
      "[1] 186\n",
      "[1] \"Ran 186 of 198 so far. Estimated time remaining: 0 minutes\\n\"\n",
      "[1] 187\n",
      "[1] \"Ran 187 of 198 so far. Estimated time remaining: 0 minutes\\n\"\n",
      "[1] 188\n",
      "[1] \"Ran 188 of 198 so far. Estimated time remaining: 0 minutes\\n\"\n",
      "[1] 189\n",
      "[1] \"Ran 189 of 198 so far. Estimated time remaining: 0 minutes\\n\"\n",
      "[1] 190\n",
      "[1] \"Ran 190 of 198 so far. Estimated time remaining: 0 minutes\\n\"\n",
      "[1] 191\n",
      "[1] \"Ran 191 of 198 so far. Estimated time remaining: 0 minutes\\n\"\n",
      "[1] 192\n",
      "[1] \"Ran 192 of 198 so far. Estimated time remaining: 0 minutes\\n\"\n",
      "[1] 193\n",
      "[1] \"Ran 193 of 198 so far. Estimated time remaining: 0 minutes\\n\"\n",
      "[1] 194\n",
      "[1] \"Ran 194 of 198 so far. Estimated time remaining: 0 minutes\\n\"\n",
      "[1] 195\n",
      "[1] \"Ran 195 of 198 so far. Estimated time remaining: 0 minutes\\n\"\n",
      "[1] 196\n",
      "[1] \"Ran 196 of 198 so far. Estimated time remaining: 0 minutes\\n\"\n",
      "[1] 197\n",
      "[1] \"Ran 197 of 198 so far. Estimated time remaining: 0 minutes\\n\"\n",
      "[1] 198\n",
      "[1] \"Ran 198 of 198 so far. Estimated time remaining: 0 minutes\\n\"\n"
     ]
    }
   ],
   "source": [
    "long_format$first_meth_index_with_SNP_coverage <-\n",
    "long_format$last_meth_index_with_SNP_coverage <- \n",
    "long_format$first_meth_value_with_SNP_coverage <-\n",
    "long_format$last_meth_value_with_SNP_coverage <- \n",
    "NA\n",
    "\n",
    "start_time <- Sys.time()\n",
    "\n",
    "for(i in 1:nrow(long_format)){\n",
    "    print(i)\n",
    "    iter_start_time <- Sys.time()\n",
    "    \n",
    "    pvar <- fread(gsub(\"pgen\", \"pvar\", long_format$SNP_data[i]))[, 1:3]\n",
    "    load(long_format$methylation_data[i])\n",
    "\n",
    "    if(!identical(start(BSobj2), sort(start(BSobj2)))) {\n",
    "      stop(\"start positions in BSobj2 are not ordered\")\n",
    "    }\n",
    "    \n",
    "    first_SNP_position <- min(pvar$POS)\n",
    "    last_SNP_position <- max(pvar$POS)\n",
    "    first_meth_position <- min(start(BSobj2))\n",
    "    last_meth_position <- max(start(BSobj2))\n",
    "    window_size <- 10000\n",
    "    # Find first methylation index with SNP coverage\n",
    "    first_meth_index_with_SNP_coverage <- which(start(BSobj2) >= (first_SNP_position - window_size) & \n",
    "                                                 start(BSobj2) <= (last_SNP_position + window_size))[1]\n",
    "    # Correcting the approach to find the last methylation index with SNP coverage\n",
    "    last_meth_index_with_SNP_coverage <- which(start(BSobj2) >= (first_SNP_position - window_size) & \n",
    "                                                start(BSobj2) <= (last_SNP_position + window_size))\n",
    "    if(length(last_meth_index_with_SNP_coverage) > 0) {\n",
    "      last_meth_index_with_SNP_coverage <- last_meth_index_with_SNP_coverage[length(last_meth_index_with_SNP_coverage)]\n",
    "    } else {\n",
    "      last_meth_index_with_SNP_coverage <- NA # In case no indices are found\n",
    "    }\n",
    "    \n",
    "    # Values for the first and last methylation sites with SNP coverage\n",
    "    if(!is.na(first_meth_index_with_SNP_coverage)) {\n",
    "      first_meth_value_with_SNP_coverage <- start(BSobj2)[first_meth_index_with_SNP_coverage]\n",
    "    } else {\n",
    "      first_meth_value_with_SNP_coverage <- NA # In case no first index is found\n",
    "    }\n",
    "    \n",
    "    if(!is.na(last_meth_index_with_SNP_coverage)) {\n",
    "      last_meth_value_with_SNP_coverage <- start(BSobj2)[last_meth_index_with_SNP_coverage]\n",
    "    } else {\n",
    "      last_meth_value_with_SNP_coverage <- NA # In case no last index is found\n",
    "    }\n",
    "    \n",
    "\n",
    "    \n",
    "    BSobj2 <- NULL\n",
    "    \n",
    "    long_format$first_meth_index_with_SNP_coverage[i] <- first_meth_index_with_SNP_coverage\n",
    "    long_format$last_meth_index_with_SNP_coverage[i] <- last_meth_index_with_SNP_coverage\n",
    "    long_format$first_meth_value_with_SNP_coverage[i] <- first_meth_value_with_SNP_coverage\n",
    "    long_format$last_meth_value_with_SNP_coverage[i] <- last_meth_value_with_SNP_coverage\n",
    "    \n",
    "    iter_end_time <- Sys.time()\n",
    "    elapsed_time_per_iter <- iter_end_time - iter_start_time\n",
    "    total_elapsed_time <- Sys.time() - start_time\n",
    "    average_time_per_iter <- total_elapsed_time / i\n",
    "    estimated_total_time <- average_time_per_iter * nrow(long_format)\n",
    "    estimated_time_remaining <- estimated_total_time - total_elapsed_time\n",
    "\n",
    "    print(sprintf(\"Ran %d of %d so far. Estimated time remaining: %s minutes\\n\", \n",
    "                i, nrow(long_format), round(as.numeric(estimated_time_remaining) / 60, 2)))\n",
    "\n",
    "}"
   ]
  },
  {
   "cell_type": "code",
   "execution_count": 29,
   "id": "bd0ef4bf-141a-4852-baae-0f5090276302",
   "metadata": {},
   "outputs": [],
   "source": [
    "fwrite(long_format, \"09-OUT_matched_files_and_indices_to_test.csv\")"
   ]
  },
  {
   "cell_type": "markdown",
   "id": "44f8909b-4518-4d47-a124-f9b8764c647e",
   "metadata": {},
   "source": [
    "Started around 2pm"
   ]
  },
  {
   "cell_type": "markdown",
   "id": "0f01e623-7e5d-4e5b-a5e5-21325c033602",
   "metadata": {},
   "source": [
    "## Bring in all covariate files"
   ]
  },
  {
   "cell_type": "markdown",
   "id": "8e06cac7-a8a6-4289-8632-a5fcaa8cd641",
   "metadata": {},
   "source": [
    "### Get paths"
   ]
  },
  {
   "cell_type": "code",
   "execution_count": 30,
   "id": "55f5e288-36bb-4a5b-9180-125f3f903487",
   "metadata": {},
   "outputs": [],
   "source": [
    "genotype_pc <- list.files(\"/dcs04/lieber/statsgen/shizhong/database/libd/genotype/postmortem/topmed/merge_H650_1M_2.5M_5M/EA_AA/all/pca_wgbs\",\n",
    "                          recursive = TRUE,\n",
    "                          full.names = TRUE,\n",
    "                          pattern = \"pca.eigenvec\")"
   ]
  },
  {
   "cell_type": "code",
   "execution_count": 35,
   "id": "d821a422-a8b3-4e63-8cb7-ec0f79edaf1d",
   "metadata": {},
   "outputs": [],
   "source": [
    "genotype_pc <- data.frame(genotype_pc_path = genotype_pc, brain_region = c(\"caud\", \"dlpfc\", \"hippo\"))"
   ]
  },
  {
   "cell_type": "code",
   "execution_count": 48,
   "id": "7c2a1257-50d9-48a8-a928-82a8dbf765ec",
   "metadata": {},
   "outputs": [],
   "source": [
    "genotype_pc <- rbind(genotype_pc, genotype_pc, genotype_pc)"
   ]
  },
  {
   "cell_type": "code",
   "execution_count": 50,
   "id": "edcadf23-d4b5-40a1-9990-5256b5b40f6f",
   "metadata": {},
   "outputs": [],
   "source": [
    "genotype_pc$subpopulation <- c(\"EA\", \"EA\", \"EA\", \"AA\", \"AA\", \"AA\", \"all\", \"all\", \"all\")"
   ]
  },
  {
   "cell_type": "code",
   "execution_count": 51,
   "id": "a8ac03e3-8878-40ec-8925-41f2dd29d23b",
   "metadata": {},
   "outputs": [
    {
     "data": {
      "text/html": [
       "<table class=\"dataframe\">\n",
       "<caption>A data.frame: 9 × 3</caption>\n",
       "<thead>\n",
       "\t<tr><th scope=col>genotype_pc_path</th><th scope=col>brain_region</th><th scope=col>subpopulation</th></tr>\n",
       "\t<tr><th scope=col>&lt;chr&gt;</th><th scope=col>&lt;chr&gt;</th><th scope=col>&lt;chr&gt;</th></tr>\n",
       "</thead>\n",
       "<tbody>\n",
       "\t<tr><td>/dcs04/lieber/statsgen/shizhong/database/libd/genotype/postmortem/topmed/merge_H650_1M_2.5M_5M/EA_AA/all/pca_wgbs/caudate/pca.eigenvec</td><td>caud </td><td>EA </td></tr>\n",
       "\t<tr><td>/dcs04/lieber/statsgen/shizhong/database/libd/genotype/postmortem/topmed/merge_H650_1M_2.5M_5M/EA_AA/all/pca_wgbs/dlpfc/pca.eigenvec  </td><td>dlpfc</td><td>EA </td></tr>\n",
       "\t<tr><td>/dcs04/lieber/statsgen/shizhong/database/libd/genotype/postmortem/topmed/merge_H650_1M_2.5M_5M/EA_AA/all/pca_wgbs/hippo/pca.eigenvec  </td><td>hippo</td><td>EA </td></tr>\n",
       "\t<tr><td>/dcs04/lieber/statsgen/shizhong/database/libd/genotype/postmortem/topmed/merge_H650_1M_2.5M_5M/EA_AA/all/pca_wgbs/caudate/pca.eigenvec</td><td>caud </td><td>AA </td></tr>\n",
       "\t<tr><td>/dcs04/lieber/statsgen/shizhong/database/libd/genotype/postmortem/topmed/merge_H650_1M_2.5M_5M/EA_AA/all/pca_wgbs/dlpfc/pca.eigenvec  </td><td>dlpfc</td><td>AA </td></tr>\n",
       "\t<tr><td>/dcs04/lieber/statsgen/shizhong/database/libd/genotype/postmortem/topmed/merge_H650_1M_2.5M_5M/EA_AA/all/pca_wgbs/hippo/pca.eigenvec  </td><td>hippo</td><td>AA </td></tr>\n",
       "\t<tr><td>/dcs04/lieber/statsgen/shizhong/database/libd/genotype/postmortem/topmed/merge_H650_1M_2.5M_5M/EA_AA/all/pca_wgbs/caudate/pca.eigenvec</td><td>caud </td><td>all</td></tr>\n",
       "\t<tr><td>/dcs04/lieber/statsgen/shizhong/database/libd/genotype/postmortem/topmed/merge_H650_1M_2.5M_5M/EA_AA/all/pca_wgbs/dlpfc/pca.eigenvec  </td><td>dlpfc</td><td>all</td></tr>\n",
       "\t<tr><td>/dcs04/lieber/statsgen/shizhong/database/libd/genotype/postmortem/topmed/merge_H650_1M_2.5M_5M/EA_AA/all/pca_wgbs/hippo/pca.eigenvec  </td><td>hippo</td><td>all</td></tr>\n",
       "</tbody>\n",
       "</table>\n"
      ],
      "text/latex": [
       "A data.frame: 9 × 3\n",
       "\\begin{tabular}{lll}\n",
       " genotype\\_pc\\_path & brain\\_region & subpopulation\\\\\n",
       " <chr> & <chr> & <chr>\\\\\n",
       "\\hline\n",
       "\t /dcs04/lieber/statsgen/shizhong/database/libd/genotype/postmortem/topmed/merge\\_H650\\_1M\\_2.5M\\_5M/EA\\_AA/all/pca\\_wgbs/caudate/pca.eigenvec & caud  & EA \\\\\n",
       "\t /dcs04/lieber/statsgen/shizhong/database/libd/genotype/postmortem/topmed/merge\\_H650\\_1M\\_2.5M\\_5M/EA\\_AA/all/pca\\_wgbs/dlpfc/pca.eigenvec   & dlpfc & EA \\\\\n",
       "\t /dcs04/lieber/statsgen/shizhong/database/libd/genotype/postmortem/topmed/merge\\_H650\\_1M\\_2.5M\\_5M/EA\\_AA/all/pca\\_wgbs/hippo/pca.eigenvec   & hippo & EA \\\\\n",
       "\t /dcs04/lieber/statsgen/shizhong/database/libd/genotype/postmortem/topmed/merge\\_H650\\_1M\\_2.5M\\_5M/EA\\_AA/all/pca\\_wgbs/caudate/pca.eigenvec & caud  & AA \\\\\n",
       "\t /dcs04/lieber/statsgen/shizhong/database/libd/genotype/postmortem/topmed/merge\\_H650\\_1M\\_2.5M\\_5M/EA\\_AA/all/pca\\_wgbs/dlpfc/pca.eigenvec   & dlpfc & AA \\\\\n",
       "\t /dcs04/lieber/statsgen/shizhong/database/libd/genotype/postmortem/topmed/merge\\_H650\\_1M\\_2.5M\\_5M/EA\\_AA/all/pca\\_wgbs/hippo/pca.eigenvec   & hippo & AA \\\\\n",
       "\t /dcs04/lieber/statsgen/shizhong/database/libd/genotype/postmortem/topmed/merge\\_H650\\_1M\\_2.5M\\_5M/EA\\_AA/all/pca\\_wgbs/caudate/pca.eigenvec & caud  & all\\\\\n",
       "\t /dcs04/lieber/statsgen/shizhong/database/libd/genotype/postmortem/topmed/merge\\_H650\\_1M\\_2.5M\\_5M/EA\\_AA/all/pca\\_wgbs/dlpfc/pca.eigenvec   & dlpfc & all\\\\\n",
       "\t /dcs04/lieber/statsgen/shizhong/database/libd/genotype/postmortem/topmed/merge\\_H650\\_1M\\_2.5M\\_5M/EA\\_AA/all/pca\\_wgbs/hippo/pca.eigenvec   & hippo & all\\\\\n",
       "\\end{tabular}\n"
      ],
      "text/markdown": [
       "\n",
       "A data.frame: 9 × 3\n",
       "\n",
       "| genotype_pc_path &lt;chr&gt; | brain_region &lt;chr&gt; | subpopulation &lt;chr&gt; |\n",
       "|---|---|---|\n",
       "| /dcs04/lieber/statsgen/shizhong/database/libd/genotype/postmortem/topmed/merge_H650_1M_2.5M_5M/EA_AA/all/pca_wgbs/caudate/pca.eigenvec | caud  | EA  |\n",
       "| /dcs04/lieber/statsgen/shizhong/database/libd/genotype/postmortem/topmed/merge_H650_1M_2.5M_5M/EA_AA/all/pca_wgbs/dlpfc/pca.eigenvec   | dlpfc | EA  |\n",
       "| /dcs04/lieber/statsgen/shizhong/database/libd/genotype/postmortem/topmed/merge_H650_1M_2.5M_5M/EA_AA/all/pca_wgbs/hippo/pca.eigenvec   | hippo | EA  |\n",
       "| /dcs04/lieber/statsgen/shizhong/database/libd/genotype/postmortem/topmed/merge_H650_1M_2.5M_5M/EA_AA/all/pca_wgbs/caudate/pca.eigenvec | caud  | AA  |\n",
       "| /dcs04/lieber/statsgen/shizhong/database/libd/genotype/postmortem/topmed/merge_H650_1M_2.5M_5M/EA_AA/all/pca_wgbs/dlpfc/pca.eigenvec   | dlpfc | AA  |\n",
       "| /dcs04/lieber/statsgen/shizhong/database/libd/genotype/postmortem/topmed/merge_H650_1M_2.5M_5M/EA_AA/all/pca_wgbs/hippo/pca.eigenvec   | hippo | AA  |\n",
       "| /dcs04/lieber/statsgen/shizhong/database/libd/genotype/postmortem/topmed/merge_H650_1M_2.5M_5M/EA_AA/all/pca_wgbs/caudate/pca.eigenvec | caud  | all |\n",
       "| /dcs04/lieber/statsgen/shizhong/database/libd/genotype/postmortem/topmed/merge_H650_1M_2.5M_5M/EA_AA/all/pca_wgbs/dlpfc/pca.eigenvec   | dlpfc | all |\n",
       "| /dcs04/lieber/statsgen/shizhong/database/libd/genotype/postmortem/topmed/merge_H650_1M_2.5M_5M/EA_AA/all/pca_wgbs/hippo/pca.eigenvec   | hippo | all |\n",
       "\n"
      ],
      "text/plain": [
       "  genotype_pc_path                                                                                                                      \n",
       "1 /dcs04/lieber/statsgen/shizhong/database/libd/genotype/postmortem/topmed/merge_H650_1M_2.5M_5M/EA_AA/all/pca_wgbs/caudate/pca.eigenvec\n",
       "2 /dcs04/lieber/statsgen/shizhong/database/libd/genotype/postmortem/topmed/merge_H650_1M_2.5M_5M/EA_AA/all/pca_wgbs/dlpfc/pca.eigenvec  \n",
       "3 /dcs04/lieber/statsgen/shizhong/database/libd/genotype/postmortem/topmed/merge_H650_1M_2.5M_5M/EA_AA/all/pca_wgbs/hippo/pca.eigenvec  \n",
       "4 /dcs04/lieber/statsgen/shizhong/database/libd/genotype/postmortem/topmed/merge_H650_1M_2.5M_5M/EA_AA/all/pca_wgbs/caudate/pca.eigenvec\n",
       "5 /dcs04/lieber/statsgen/shizhong/database/libd/genotype/postmortem/topmed/merge_H650_1M_2.5M_5M/EA_AA/all/pca_wgbs/dlpfc/pca.eigenvec  \n",
       "6 /dcs04/lieber/statsgen/shizhong/database/libd/genotype/postmortem/topmed/merge_H650_1M_2.5M_5M/EA_AA/all/pca_wgbs/hippo/pca.eigenvec  \n",
       "7 /dcs04/lieber/statsgen/shizhong/database/libd/genotype/postmortem/topmed/merge_H650_1M_2.5M_5M/EA_AA/all/pca_wgbs/caudate/pca.eigenvec\n",
       "8 /dcs04/lieber/statsgen/shizhong/database/libd/genotype/postmortem/topmed/merge_H650_1M_2.5M_5M/EA_AA/all/pca_wgbs/dlpfc/pca.eigenvec  \n",
       "9 /dcs04/lieber/statsgen/shizhong/database/libd/genotype/postmortem/topmed/merge_H650_1M_2.5M_5M/EA_AA/all/pca_wgbs/hippo/pca.eigenvec  \n",
       "  brain_region subpopulation\n",
       "1 caud         EA           \n",
       "2 dlpfc        EA           \n",
       "3 hippo        EA           \n",
       "4 caud         AA           \n",
       "5 dlpfc        AA           \n",
       "6 hippo        AA           \n",
       "7 caud         all          \n",
       "8 dlpfc        all          \n",
       "9 hippo        all          "
      ]
     },
     "metadata": {},
     "output_type": "display_data"
    }
   ],
   "source": [
    "genotype_pc"
   ]
  },
  {
   "cell_type": "code",
   "execution_count": 52,
   "id": "f3bb10da-0c34-4c37-811d-998cbc33ead3",
   "metadata": {},
   "outputs": [],
   "source": [
    "meth_pc <- list.files(\"/dcs04/lieber/statsgen/shizhong/michael/mwas/pheno/\",\n",
    "                      recursive = TRUE,\n",
    "                      full.names = TRUE,\n",
    "                      pattern = \"pc_\")"
   ]
  },
  {
   "cell_type": "code",
   "execution_count": 53,
   "id": "ead7ce45-00fa-4809-8e00-ede0a79b8ab1",
   "metadata": {},
   "outputs": [],
   "source": [
    "meth_pc <- data.table(meth_pc_path = meth_pc)"
   ]
  },
  {
   "cell_type": "code",
   "execution_count": 54,
   "id": "7317063f-f6b7-4059-ae37-656bbcdd657a",
   "metadata": {},
   "outputs": [],
   "source": [
    "meth_pc[, subpopulation := sub(\".*pc_(.*)\\\\.csv\", \"\\\\1\", meth_pc_path)]\n",
    "meth_pc[, brain_region := sub(\".*/pheno//(.*)/out/.*\", \"\\\\1\", meth_pc_path)]"
   ]
  },
  {
   "cell_type": "code",
   "execution_count": 55,
   "id": "d0442783-74c6-470d-b3c1-75921fdf76aa",
   "metadata": {},
   "outputs": [
    {
     "data": {
      "text/html": [
       "<table class=\"dataframe\">\n",
       "<caption>A data.table: 9 × 3</caption>\n",
       "<thead>\n",
       "\t<tr><th scope=col>meth_pc_path</th><th scope=col>subpopulation</th><th scope=col>brain_region</th></tr>\n",
       "\t<tr><th scope=col>&lt;chr&gt;</th><th scope=col>&lt;chr&gt;</th><th scope=col>&lt;chr&gt;</th></tr>\n",
       "</thead>\n",
       "<tbody>\n",
       "\t<tr><td>/dcs04/lieber/statsgen/shizhong/michael/mwas/pheno//caud/out/pc_AA.csv  </td><td>AA </td><td>caud </td></tr>\n",
       "\t<tr><td>/dcs04/lieber/statsgen/shizhong/michael/mwas/pheno//caud/out/pc_all.csv </td><td>all</td><td>caud </td></tr>\n",
       "\t<tr><td>/dcs04/lieber/statsgen/shizhong/michael/mwas/pheno//caud/out/pc_EA.csv  </td><td>EA </td><td>caud </td></tr>\n",
       "\t<tr><td>/dcs04/lieber/statsgen/shizhong/michael/mwas/pheno//dlpfc/out/pc_AA.csv </td><td>AA </td><td>dlpfc</td></tr>\n",
       "\t<tr><td>/dcs04/lieber/statsgen/shizhong/michael/mwas/pheno//dlpfc/out/pc_all.csv</td><td>all</td><td>dlpfc</td></tr>\n",
       "\t<tr><td>/dcs04/lieber/statsgen/shizhong/michael/mwas/pheno//dlpfc/out/pc_EA.csv </td><td>EA </td><td>dlpfc</td></tr>\n",
       "\t<tr><td>/dcs04/lieber/statsgen/shizhong/michael/mwas/pheno//hippo/out/pc_AA.csv </td><td>AA </td><td>hippo</td></tr>\n",
       "\t<tr><td>/dcs04/lieber/statsgen/shizhong/michael/mwas/pheno//hippo/out/pc_all.csv</td><td>all</td><td>hippo</td></tr>\n",
       "\t<tr><td>/dcs04/lieber/statsgen/shizhong/michael/mwas/pheno//hippo/out/pc_EA.csv </td><td>EA </td><td>hippo</td></tr>\n",
       "</tbody>\n",
       "</table>\n"
      ],
      "text/latex": [
       "A data.table: 9 × 3\n",
       "\\begin{tabular}{lll}\n",
       " meth\\_pc\\_path & subpopulation & brain\\_region\\\\\n",
       " <chr> & <chr> & <chr>\\\\\n",
       "\\hline\n",
       "\t /dcs04/lieber/statsgen/shizhong/michael/mwas/pheno//caud/out/pc\\_AA.csv   & AA  & caud \\\\\n",
       "\t /dcs04/lieber/statsgen/shizhong/michael/mwas/pheno//caud/out/pc\\_all.csv  & all & caud \\\\\n",
       "\t /dcs04/lieber/statsgen/shizhong/michael/mwas/pheno//caud/out/pc\\_EA.csv   & EA  & caud \\\\\n",
       "\t /dcs04/lieber/statsgen/shizhong/michael/mwas/pheno//dlpfc/out/pc\\_AA.csv  & AA  & dlpfc\\\\\n",
       "\t /dcs04/lieber/statsgen/shizhong/michael/mwas/pheno//dlpfc/out/pc\\_all.csv & all & dlpfc\\\\\n",
       "\t /dcs04/lieber/statsgen/shizhong/michael/mwas/pheno//dlpfc/out/pc\\_EA.csv  & EA  & dlpfc\\\\\n",
       "\t /dcs04/lieber/statsgen/shizhong/michael/mwas/pheno//hippo/out/pc\\_AA.csv  & AA  & hippo\\\\\n",
       "\t /dcs04/lieber/statsgen/shizhong/michael/mwas/pheno//hippo/out/pc\\_all.csv & all & hippo\\\\\n",
       "\t /dcs04/lieber/statsgen/shizhong/michael/mwas/pheno//hippo/out/pc\\_EA.csv  & EA  & hippo\\\\\n",
       "\\end{tabular}\n"
      ],
      "text/markdown": [
       "\n",
       "A data.table: 9 × 3\n",
       "\n",
       "| meth_pc_path &lt;chr&gt; | subpopulation &lt;chr&gt; | brain_region &lt;chr&gt; |\n",
       "|---|---|---|\n",
       "| /dcs04/lieber/statsgen/shizhong/michael/mwas/pheno//caud/out/pc_AA.csv   | AA  | caud  |\n",
       "| /dcs04/lieber/statsgen/shizhong/michael/mwas/pheno//caud/out/pc_all.csv  | all | caud  |\n",
       "| /dcs04/lieber/statsgen/shizhong/michael/mwas/pheno//caud/out/pc_EA.csv   | EA  | caud  |\n",
       "| /dcs04/lieber/statsgen/shizhong/michael/mwas/pheno//dlpfc/out/pc_AA.csv  | AA  | dlpfc |\n",
       "| /dcs04/lieber/statsgen/shizhong/michael/mwas/pheno//dlpfc/out/pc_all.csv | all | dlpfc |\n",
       "| /dcs04/lieber/statsgen/shizhong/michael/mwas/pheno//dlpfc/out/pc_EA.csv  | EA  | dlpfc |\n",
       "| /dcs04/lieber/statsgen/shizhong/michael/mwas/pheno//hippo/out/pc_AA.csv  | AA  | hippo |\n",
       "| /dcs04/lieber/statsgen/shizhong/michael/mwas/pheno//hippo/out/pc_all.csv | all | hippo |\n",
       "| /dcs04/lieber/statsgen/shizhong/michael/mwas/pheno//hippo/out/pc_EA.csv  | EA  | hippo |\n",
       "\n"
      ],
      "text/plain": [
       "  meth_pc_path                                                            \n",
       "1 /dcs04/lieber/statsgen/shizhong/michael/mwas/pheno//caud/out/pc_AA.csv  \n",
       "2 /dcs04/lieber/statsgen/shizhong/michael/mwas/pheno//caud/out/pc_all.csv \n",
       "3 /dcs04/lieber/statsgen/shizhong/michael/mwas/pheno//caud/out/pc_EA.csv  \n",
       "4 /dcs04/lieber/statsgen/shizhong/michael/mwas/pheno//dlpfc/out/pc_AA.csv \n",
       "5 /dcs04/lieber/statsgen/shizhong/michael/mwas/pheno//dlpfc/out/pc_all.csv\n",
       "6 /dcs04/lieber/statsgen/shizhong/michael/mwas/pheno//dlpfc/out/pc_EA.csv \n",
       "7 /dcs04/lieber/statsgen/shizhong/michael/mwas/pheno//hippo/out/pc_AA.csv \n",
       "8 /dcs04/lieber/statsgen/shizhong/michael/mwas/pheno//hippo/out/pc_all.csv\n",
       "9 /dcs04/lieber/statsgen/shizhong/michael/mwas/pheno//hippo/out/pc_EA.csv \n",
       "  subpopulation brain_region\n",
       "1 AA            caud        \n",
       "2 all           caud        \n",
       "3 EA            caud        \n",
       "4 AA            dlpfc       \n",
       "5 all           dlpfc       \n",
       "6 EA            dlpfc       \n",
       "7 AA            hippo       \n",
       "8 all           hippo       \n",
       "9 EA            hippo       "
      ]
     },
     "metadata": {},
     "output_type": "display_data"
    }
   ],
   "source": [
    "meth_pc"
   ]
  },
  {
   "cell_type": "code",
   "execution_count": 56,
   "id": "d2b275d4-af31-4893-989f-22ba04ae9ba9",
   "metadata": {},
   "outputs": [],
   "source": [
    "cov3 <- \"/dcs04/lieber/statsgen/shizhong/database/libd/genotype/postmortem/phenotype/pheno_PC\""
   ]
  },
  {
   "cell_type": "markdown",
   "id": "a4803857-0d71-408b-a38e-ef4cff575b77",
   "metadata": {},
   "source": [
    "### Format, merge with data frame"
   ]
  },
  {
   "cell_type": "code",
   "execution_count": 57,
   "id": "5b8f317e-ae31-43e5-9805-e9c97f984a9c",
   "metadata": {},
   "outputs": [],
   "source": [
    "long_format[, subpopulation := sub(\".*_(.*)\\\\.rda\", \"\\\\1\", methylation_data)]\n",
    "long_format[, brain_region := sub(\".*/pheno/(.*)/out/.*\", \"\\\\1\", methylation_data)]"
   ]
  },
  {
   "cell_type": "code",
   "execution_count": 58,
   "id": "07b63dc3-c630-49d4-89f7-df38cd5ee3f3",
   "metadata": {},
   "outputs": [],
   "source": [
    "merged <- merge(long_format, genotype_pc)"
   ]
  },
  {
   "cell_type": "code",
   "execution_count": 59,
   "id": "703d73b8-69a6-458d-b380-b3accd63860c",
   "metadata": {},
   "outputs": [],
   "source": [
    "merged <- merge(merged, meth_pc)"
   ]
  },
  {
   "cell_type": "code",
   "execution_count": 60,
   "id": "230e176d-80f3-4b45-b3dc-d7722fd52b53",
   "metadata": {},
   "outputs": [],
   "source": [
    "merged$pheno_pc <- cov3"
   ]
  },
  {
   "cell_type": "code",
   "execution_count": 61,
   "id": "b047acf1-46d0-4c91-bc6e-c4dd7d554ec6",
   "metadata": {},
   "outputs": [
    {
     "data": {
      "text/html": [
       "<table class=\"dataframe\">\n",
       "<caption>A data.table: 6 × 12</caption>\n",
       "<thead>\n",
       "\t<tr><th scope=col>subpopulation</th><th scope=col>brain_region</th><th scope=col>Chr</th><th scope=col>SNP_data</th><th scope=col>methylation_data</th><th scope=col>last_meth_value_with_SNP_coverage</th><th scope=col>first_meth_value_with_SNP_coverage</th><th scope=col>last_meth_index_with_SNP_coverage</th><th scope=col>first_meth_index_with_SNP_coverage</th><th scope=col>genotype_pc_path</th><th scope=col>meth_pc_path</th><th scope=col>pheno_pc</th></tr>\n",
       "\t<tr><th scope=col>&lt;chr&gt;</th><th scope=col>&lt;chr&gt;</th><th scope=col>&lt;dbl&gt;</th><th scope=col>&lt;chr&gt;</th><th scope=col>&lt;chr&gt;</th><th scope=col>&lt;int&gt;</th><th scope=col>&lt;int&gt;</th><th scope=col>&lt;int&gt;</th><th scope=col>&lt;int&gt;</th><th scope=col>&lt;chr&gt;</th><th scope=col>&lt;chr&gt;</th><th scope=col>&lt;chr&gt;</th></tr>\n",
       "</thead>\n",
       "<tbody>\n",
       "\t<tr><td>AA</td><td>caud</td><td>1</td><td>/dcs04/lieber/statsgen/shizhong/michael/mwas/gwas/libd_chr1.pgen</td><td>/dcs04/lieber/statsgen/mnagle/mwas/pheno/caud/out/chr1_AA.rda</td><td>248918358</td><td>1069461</td><td>2202702</td><td>8982</td><td>/dcs04/lieber/statsgen/shizhong/database/libd/genotype/postmortem/topmed/merge_H650_1M_2.5M_5M/EA_AA/all/pca_wgbs/caudate/pca.eigenvec</td><td>/dcs04/lieber/statsgen/shizhong/michael/mwas/pheno//caud/out/pc_AA.csv</td><td>/dcs04/lieber/statsgen/shizhong/database/libd/genotype/postmortem/phenotype/pheno_PC</td></tr>\n",
       "\t<tr><td>AA</td><td>caud</td><td>2</td><td>/dcs04/lieber/statsgen/shizhong/michael/mwas/gwas/libd_chr2.pgen</td><td>/dcs04/lieber/statsgen/mnagle/mwas/pheno/caud/out/chr2_AA.rda</td><td>241863783</td><td>  10001</td><td>2019984</td><td>   1</td><td>/dcs04/lieber/statsgen/shizhong/database/libd/genotype/postmortem/topmed/merge_H650_1M_2.5M_5M/EA_AA/all/pca_wgbs/caudate/pca.eigenvec</td><td>/dcs04/lieber/statsgen/shizhong/michael/mwas/pheno//caud/out/pc_AA.csv</td><td>/dcs04/lieber/statsgen/shizhong/database/libd/genotype/postmortem/phenotype/pheno_PC</td></tr>\n",
       "\t<tr><td>AA</td><td>caud</td><td>3</td><td>/dcs04/lieber/statsgen/shizhong/michael/mwas/gwas/libd_chr3.pgen</td><td>/dcs04/lieber/statsgen/mnagle/mwas/pheno/caud/out/chr3_AA.rda</td><td>198099789</td><td>  11602</td><td>1538467</td><td>   1</td><td>/dcs04/lieber/statsgen/shizhong/database/libd/genotype/postmortem/topmed/merge_H650_1M_2.5M_5M/EA_AA/all/pca_wgbs/caudate/pca.eigenvec</td><td>/dcs04/lieber/statsgen/shizhong/michael/mwas/pheno//caud/out/pc_AA.csv</td><td>/dcs04/lieber/statsgen/shizhong/database/libd/genotype/postmortem/phenotype/pheno_PC</td></tr>\n",
       "\t<tr><td>AA</td><td>caud</td><td>4</td><td>/dcs04/lieber/statsgen/shizhong/michael/mwas/gwas/libd_chr4.pgen</td><td>/dcs04/lieber/statsgen/mnagle/mwas/pheno/caud/out/chr4_AA.rda</td><td>189877411</td><td>  69399</td><td>1387731</td><td>   1</td><td>/dcs04/lieber/statsgen/shizhong/database/libd/genotype/postmortem/topmed/merge_H650_1M_2.5M_5M/EA_AA/all/pca_wgbs/caudate/pca.eigenvec</td><td>/dcs04/lieber/statsgen/shizhong/michael/mwas/pheno//caud/out/pc_AA.csv</td><td>/dcs04/lieber/statsgen/shizhong/database/libd/genotype/postmortem/phenotype/pheno_PC</td></tr>\n",
       "\t<tr><td>AA</td><td>caud</td><td>5</td><td>/dcs04/lieber/statsgen/shizhong/michael/mwas/gwas/libd_chr5.pgen</td><td>/dcs04/lieber/statsgen/mnagle/mwas/pheno/caud/out/chr5_AA.rda</td><td>181172584</td><td>  44104</td><td>1409038</td><td>   1</td><td>/dcs04/lieber/statsgen/shizhong/database/libd/genotype/postmortem/topmed/merge_H650_1M_2.5M_5M/EA_AA/all/pca_wgbs/caudate/pca.eigenvec</td><td>/dcs04/lieber/statsgen/shizhong/michael/mwas/pheno//caud/out/pc_AA.csv</td><td>/dcs04/lieber/statsgen/shizhong/database/libd/genotype/postmortem/phenotype/pheno_PC</td></tr>\n",
       "\t<tr><td>AA</td><td>caud</td><td>6</td><td>/dcs04/lieber/statsgen/shizhong/michael/mwas/gwas/libd_chr6.pgen</td><td>/dcs04/lieber/statsgen/mnagle/mwas/pheno/caud/out/chr6_AA.rda</td><td>170619093</td><td> 192453</td><td>1412543</td><td>1138</td><td>/dcs04/lieber/statsgen/shizhong/database/libd/genotype/postmortem/topmed/merge_H650_1M_2.5M_5M/EA_AA/all/pca_wgbs/caudate/pca.eigenvec</td><td>/dcs04/lieber/statsgen/shizhong/michael/mwas/pheno//caud/out/pc_AA.csv</td><td>/dcs04/lieber/statsgen/shizhong/database/libd/genotype/postmortem/phenotype/pheno_PC</td></tr>\n",
       "</tbody>\n",
       "</table>\n"
      ],
      "text/latex": [
       "A data.table: 6 × 12\n",
       "\\begin{tabular}{llllllllllll}\n",
       " subpopulation & brain\\_region & Chr & SNP\\_data & methylation\\_data & last\\_meth\\_value\\_with\\_SNP\\_coverage & first\\_meth\\_value\\_with\\_SNP\\_coverage & last\\_meth\\_index\\_with\\_SNP\\_coverage & first\\_meth\\_index\\_with\\_SNP\\_coverage & genotype\\_pc\\_path & meth\\_pc\\_path & pheno\\_pc\\\\\n",
       " <chr> & <chr> & <dbl> & <chr> & <chr> & <int> & <int> & <int> & <int> & <chr> & <chr> & <chr>\\\\\n",
       "\\hline\n",
       "\t AA & caud & 1 & /dcs04/lieber/statsgen/shizhong/michael/mwas/gwas/libd\\_chr1.pgen & /dcs04/lieber/statsgen/mnagle/mwas/pheno/caud/out/chr1\\_AA.rda & 248918358 & 1069461 & 2202702 & 8982 & /dcs04/lieber/statsgen/shizhong/database/libd/genotype/postmortem/topmed/merge\\_H650\\_1M\\_2.5M\\_5M/EA\\_AA/all/pca\\_wgbs/caudate/pca.eigenvec & /dcs04/lieber/statsgen/shizhong/michael/mwas/pheno//caud/out/pc\\_AA.csv & /dcs04/lieber/statsgen/shizhong/database/libd/genotype/postmortem/phenotype/pheno\\_PC\\\\\n",
       "\t AA & caud & 2 & /dcs04/lieber/statsgen/shizhong/michael/mwas/gwas/libd\\_chr2.pgen & /dcs04/lieber/statsgen/mnagle/mwas/pheno/caud/out/chr2\\_AA.rda & 241863783 &   10001 & 2019984 &    1 & /dcs04/lieber/statsgen/shizhong/database/libd/genotype/postmortem/topmed/merge\\_H650\\_1M\\_2.5M\\_5M/EA\\_AA/all/pca\\_wgbs/caudate/pca.eigenvec & /dcs04/lieber/statsgen/shizhong/michael/mwas/pheno//caud/out/pc\\_AA.csv & /dcs04/lieber/statsgen/shizhong/database/libd/genotype/postmortem/phenotype/pheno\\_PC\\\\\n",
       "\t AA & caud & 3 & /dcs04/lieber/statsgen/shizhong/michael/mwas/gwas/libd\\_chr3.pgen & /dcs04/lieber/statsgen/mnagle/mwas/pheno/caud/out/chr3\\_AA.rda & 198099789 &   11602 & 1538467 &    1 & /dcs04/lieber/statsgen/shizhong/database/libd/genotype/postmortem/topmed/merge\\_H650\\_1M\\_2.5M\\_5M/EA\\_AA/all/pca\\_wgbs/caudate/pca.eigenvec & /dcs04/lieber/statsgen/shizhong/michael/mwas/pheno//caud/out/pc\\_AA.csv & /dcs04/lieber/statsgen/shizhong/database/libd/genotype/postmortem/phenotype/pheno\\_PC\\\\\n",
       "\t AA & caud & 4 & /dcs04/lieber/statsgen/shizhong/michael/mwas/gwas/libd\\_chr4.pgen & /dcs04/lieber/statsgen/mnagle/mwas/pheno/caud/out/chr4\\_AA.rda & 189877411 &   69399 & 1387731 &    1 & /dcs04/lieber/statsgen/shizhong/database/libd/genotype/postmortem/topmed/merge\\_H650\\_1M\\_2.5M\\_5M/EA\\_AA/all/pca\\_wgbs/caudate/pca.eigenvec & /dcs04/lieber/statsgen/shizhong/michael/mwas/pheno//caud/out/pc\\_AA.csv & /dcs04/lieber/statsgen/shizhong/database/libd/genotype/postmortem/phenotype/pheno\\_PC\\\\\n",
       "\t AA & caud & 5 & /dcs04/lieber/statsgen/shizhong/michael/mwas/gwas/libd\\_chr5.pgen & /dcs04/lieber/statsgen/mnagle/mwas/pheno/caud/out/chr5\\_AA.rda & 181172584 &   44104 & 1409038 &    1 & /dcs04/lieber/statsgen/shizhong/database/libd/genotype/postmortem/topmed/merge\\_H650\\_1M\\_2.5M\\_5M/EA\\_AA/all/pca\\_wgbs/caudate/pca.eigenvec & /dcs04/lieber/statsgen/shizhong/michael/mwas/pheno//caud/out/pc\\_AA.csv & /dcs04/lieber/statsgen/shizhong/database/libd/genotype/postmortem/phenotype/pheno\\_PC\\\\\n",
       "\t AA & caud & 6 & /dcs04/lieber/statsgen/shizhong/michael/mwas/gwas/libd\\_chr6.pgen & /dcs04/lieber/statsgen/mnagle/mwas/pheno/caud/out/chr6\\_AA.rda & 170619093 &  192453 & 1412543 & 1138 & /dcs04/lieber/statsgen/shizhong/database/libd/genotype/postmortem/topmed/merge\\_H650\\_1M\\_2.5M\\_5M/EA\\_AA/all/pca\\_wgbs/caudate/pca.eigenvec & /dcs04/lieber/statsgen/shizhong/michael/mwas/pheno//caud/out/pc\\_AA.csv & /dcs04/lieber/statsgen/shizhong/database/libd/genotype/postmortem/phenotype/pheno\\_PC\\\\\n",
       "\\end{tabular}\n"
      ],
      "text/markdown": [
       "\n",
       "A data.table: 6 × 12\n",
       "\n",
       "| subpopulation &lt;chr&gt; | brain_region &lt;chr&gt; | Chr &lt;dbl&gt; | SNP_data &lt;chr&gt; | methylation_data &lt;chr&gt; | last_meth_value_with_SNP_coverage &lt;int&gt; | first_meth_value_with_SNP_coverage &lt;int&gt; | last_meth_index_with_SNP_coverage &lt;int&gt; | first_meth_index_with_SNP_coverage &lt;int&gt; | genotype_pc_path &lt;chr&gt; | meth_pc_path &lt;chr&gt; | pheno_pc &lt;chr&gt; |\n",
       "|---|---|---|---|---|---|---|---|---|---|---|---|\n",
       "| AA | caud | 1 | /dcs04/lieber/statsgen/shizhong/michael/mwas/gwas/libd_chr1.pgen | /dcs04/lieber/statsgen/mnagle/mwas/pheno/caud/out/chr1_AA.rda | 248918358 | 1069461 | 2202702 | 8982 | /dcs04/lieber/statsgen/shizhong/database/libd/genotype/postmortem/topmed/merge_H650_1M_2.5M_5M/EA_AA/all/pca_wgbs/caudate/pca.eigenvec | /dcs04/lieber/statsgen/shizhong/michael/mwas/pheno//caud/out/pc_AA.csv | /dcs04/lieber/statsgen/shizhong/database/libd/genotype/postmortem/phenotype/pheno_PC |\n",
       "| AA | caud | 2 | /dcs04/lieber/statsgen/shizhong/michael/mwas/gwas/libd_chr2.pgen | /dcs04/lieber/statsgen/mnagle/mwas/pheno/caud/out/chr2_AA.rda | 241863783 |   10001 | 2019984 |    1 | /dcs04/lieber/statsgen/shizhong/database/libd/genotype/postmortem/topmed/merge_H650_1M_2.5M_5M/EA_AA/all/pca_wgbs/caudate/pca.eigenvec | /dcs04/lieber/statsgen/shizhong/michael/mwas/pheno//caud/out/pc_AA.csv | /dcs04/lieber/statsgen/shizhong/database/libd/genotype/postmortem/phenotype/pheno_PC |\n",
       "| AA | caud | 3 | /dcs04/lieber/statsgen/shizhong/michael/mwas/gwas/libd_chr3.pgen | /dcs04/lieber/statsgen/mnagle/mwas/pheno/caud/out/chr3_AA.rda | 198099789 |   11602 | 1538467 |    1 | /dcs04/lieber/statsgen/shizhong/database/libd/genotype/postmortem/topmed/merge_H650_1M_2.5M_5M/EA_AA/all/pca_wgbs/caudate/pca.eigenvec | /dcs04/lieber/statsgen/shizhong/michael/mwas/pheno//caud/out/pc_AA.csv | /dcs04/lieber/statsgen/shizhong/database/libd/genotype/postmortem/phenotype/pheno_PC |\n",
       "| AA | caud | 4 | /dcs04/lieber/statsgen/shizhong/michael/mwas/gwas/libd_chr4.pgen | /dcs04/lieber/statsgen/mnagle/mwas/pheno/caud/out/chr4_AA.rda | 189877411 |   69399 | 1387731 |    1 | /dcs04/lieber/statsgen/shizhong/database/libd/genotype/postmortem/topmed/merge_H650_1M_2.5M_5M/EA_AA/all/pca_wgbs/caudate/pca.eigenvec | /dcs04/lieber/statsgen/shizhong/michael/mwas/pheno//caud/out/pc_AA.csv | /dcs04/lieber/statsgen/shizhong/database/libd/genotype/postmortem/phenotype/pheno_PC |\n",
       "| AA | caud | 5 | /dcs04/lieber/statsgen/shizhong/michael/mwas/gwas/libd_chr5.pgen | /dcs04/lieber/statsgen/mnagle/mwas/pheno/caud/out/chr5_AA.rda | 181172584 |   44104 | 1409038 |    1 | /dcs04/lieber/statsgen/shizhong/database/libd/genotype/postmortem/topmed/merge_H650_1M_2.5M_5M/EA_AA/all/pca_wgbs/caudate/pca.eigenvec | /dcs04/lieber/statsgen/shizhong/michael/mwas/pheno//caud/out/pc_AA.csv | /dcs04/lieber/statsgen/shizhong/database/libd/genotype/postmortem/phenotype/pheno_PC |\n",
       "| AA | caud | 6 | /dcs04/lieber/statsgen/shizhong/michael/mwas/gwas/libd_chr6.pgen | /dcs04/lieber/statsgen/mnagle/mwas/pheno/caud/out/chr6_AA.rda | 170619093 |  192453 | 1412543 | 1138 | /dcs04/lieber/statsgen/shizhong/database/libd/genotype/postmortem/topmed/merge_H650_1M_2.5M_5M/EA_AA/all/pca_wgbs/caudate/pca.eigenvec | /dcs04/lieber/statsgen/shizhong/michael/mwas/pheno//caud/out/pc_AA.csv | /dcs04/lieber/statsgen/shizhong/database/libd/genotype/postmortem/phenotype/pheno_PC |\n",
       "\n"
      ],
      "text/plain": [
       "  subpopulation brain_region Chr\n",
       "1 AA            caud         1  \n",
       "2 AA            caud         2  \n",
       "3 AA            caud         3  \n",
       "4 AA            caud         4  \n",
       "5 AA            caud         5  \n",
       "6 AA            caud         6  \n",
       "  SNP_data                                                        \n",
       "1 /dcs04/lieber/statsgen/shizhong/michael/mwas/gwas/libd_chr1.pgen\n",
       "2 /dcs04/lieber/statsgen/shizhong/michael/mwas/gwas/libd_chr2.pgen\n",
       "3 /dcs04/lieber/statsgen/shizhong/michael/mwas/gwas/libd_chr3.pgen\n",
       "4 /dcs04/lieber/statsgen/shizhong/michael/mwas/gwas/libd_chr4.pgen\n",
       "5 /dcs04/lieber/statsgen/shizhong/michael/mwas/gwas/libd_chr5.pgen\n",
       "6 /dcs04/lieber/statsgen/shizhong/michael/mwas/gwas/libd_chr6.pgen\n",
       "  methylation_data                                             \n",
       "1 /dcs04/lieber/statsgen/mnagle/mwas/pheno/caud/out/chr1_AA.rda\n",
       "2 /dcs04/lieber/statsgen/mnagle/mwas/pheno/caud/out/chr2_AA.rda\n",
       "3 /dcs04/lieber/statsgen/mnagle/mwas/pheno/caud/out/chr3_AA.rda\n",
       "4 /dcs04/lieber/statsgen/mnagle/mwas/pheno/caud/out/chr4_AA.rda\n",
       "5 /dcs04/lieber/statsgen/mnagle/mwas/pheno/caud/out/chr5_AA.rda\n",
       "6 /dcs04/lieber/statsgen/mnagle/mwas/pheno/caud/out/chr6_AA.rda\n",
       "  last_meth_value_with_SNP_coverage first_meth_value_with_SNP_coverage\n",
       "1 248918358                         1069461                           \n",
       "2 241863783                           10001                           \n",
       "3 198099789                           11602                           \n",
       "4 189877411                           69399                           \n",
       "5 181172584                           44104                           \n",
       "6 170619093                          192453                           \n",
       "  last_meth_index_with_SNP_coverage first_meth_index_with_SNP_coverage\n",
       "1 2202702                           8982                              \n",
       "2 2019984                              1                              \n",
       "3 1538467                              1                              \n",
       "4 1387731                              1                              \n",
       "5 1409038                              1                              \n",
       "6 1412543                           1138                              \n",
       "  genotype_pc_path                                                                                                                      \n",
       "1 /dcs04/lieber/statsgen/shizhong/database/libd/genotype/postmortem/topmed/merge_H650_1M_2.5M_5M/EA_AA/all/pca_wgbs/caudate/pca.eigenvec\n",
       "2 /dcs04/lieber/statsgen/shizhong/database/libd/genotype/postmortem/topmed/merge_H650_1M_2.5M_5M/EA_AA/all/pca_wgbs/caudate/pca.eigenvec\n",
       "3 /dcs04/lieber/statsgen/shizhong/database/libd/genotype/postmortem/topmed/merge_H650_1M_2.5M_5M/EA_AA/all/pca_wgbs/caudate/pca.eigenvec\n",
       "4 /dcs04/lieber/statsgen/shizhong/database/libd/genotype/postmortem/topmed/merge_H650_1M_2.5M_5M/EA_AA/all/pca_wgbs/caudate/pca.eigenvec\n",
       "5 /dcs04/lieber/statsgen/shizhong/database/libd/genotype/postmortem/topmed/merge_H650_1M_2.5M_5M/EA_AA/all/pca_wgbs/caudate/pca.eigenvec\n",
       "6 /dcs04/lieber/statsgen/shizhong/database/libd/genotype/postmortem/topmed/merge_H650_1M_2.5M_5M/EA_AA/all/pca_wgbs/caudate/pca.eigenvec\n",
       "  meth_pc_path                                                          \n",
       "1 /dcs04/lieber/statsgen/shizhong/michael/mwas/pheno//caud/out/pc_AA.csv\n",
       "2 /dcs04/lieber/statsgen/shizhong/michael/mwas/pheno//caud/out/pc_AA.csv\n",
       "3 /dcs04/lieber/statsgen/shizhong/michael/mwas/pheno//caud/out/pc_AA.csv\n",
       "4 /dcs04/lieber/statsgen/shizhong/michael/mwas/pheno//caud/out/pc_AA.csv\n",
       "5 /dcs04/lieber/statsgen/shizhong/michael/mwas/pheno//caud/out/pc_AA.csv\n",
       "6 /dcs04/lieber/statsgen/shizhong/michael/mwas/pheno//caud/out/pc_AA.csv\n",
       "  pheno_pc                                                                            \n",
       "1 /dcs04/lieber/statsgen/shizhong/database/libd/genotype/postmortem/phenotype/pheno_PC\n",
       "2 /dcs04/lieber/statsgen/shizhong/database/libd/genotype/postmortem/phenotype/pheno_PC\n",
       "3 /dcs04/lieber/statsgen/shizhong/database/libd/genotype/postmortem/phenotype/pheno_PC\n",
       "4 /dcs04/lieber/statsgen/shizhong/database/libd/genotype/postmortem/phenotype/pheno_PC\n",
       "5 /dcs04/lieber/statsgen/shizhong/database/libd/genotype/postmortem/phenotype/pheno_PC\n",
       "6 /dcs04/lieber/statsgen/shizhong/database/libd/genotype/postmortem/phenotype/pheno_PC"
      ]
     },
     "metadata": {},
     "output_type": "display_data"
    }
   ],
   "source": [
    "head(merged)"
   ]
  },
  {
   "cell_type": "markdown",
   "id": "982f7b87-da03-4f0e-93e3-53588e368388",
   "metadata": {},
   "source": [
    "## Unite covariate files for each row into a single file"
   ]
  },
  {
   "cell_type": "code",
   "execution_count": 111,
   "id": "5c870563-6a76-417e-be7f-1683c29cc012",
   "metadata": {},
   "outputs": [],
   "source": [
    "outdir <- \"/dcs04/lieber/statsgen/mnagle/mwas/full_covariates/\"\n",
    "#dir.create(outdir)"
   ]
  },
  {
   "cell_type": "markdown",
   "id": "4c22cd0f-c0ec-4d20-ad60-447bf0ce2eba",
   "metadata": {},
   "source": [
    "### test for first row"
   ]
  },
  {
   "cell_type": "code",
   "execution_count": 102,
   "id": "ad3d1fb7-a798-408c-af02-dc8c92426ada",
   "metadata": {},
   "outputs": [
    {
     "data": {
      "text/html": [
       "<style>\n",
       ".list-inline {list-style: none; margin:0; padding: 0}\n",
       ".list-inline>li {display: inline-block}\n",
       ".list-inline>li:not(:last-child)::after {content: \"\\00b7\"; padding: 0 .5ex}\n",
       "</style>\n",
       "<ol class=list-inline><li>'subpopulation'</li><li>'brain_region'</li><li>'Chr'</li><li>'SNP_data'</li><li>'methylation_data'</li><li>'last_meth_value_with_SNP_coverage'</li><li>'first_meth_value_with_SNP_coverage'</li><li>'last_meth_index_with_SNP_coverage'</li><li>'first_meth_index_with_SNP_coverage'</li><li>'genotype_pc_path'</li><li>'meth_pc_path'</li><li>'pheno_pc'</li></ol>\n"
      ],
      "text/latex": [
       "\\begin{enumerate*}\n",
       "\\item 'subpopulation'\n",
       "\\item 'brain\\_region'\n",
       "\\item 'Chr'\n",
       "\\item 'SNP\\_data'\n",
       "\\item 'methylation\\_data'\n",
       "\\item 'last\\_meth\\_value\\_with\\_SNP\\_coverage'\n",
       "\\item 'first\\_meth\\_value\\_with\\_SNP\\_coverage'\n",
       "\\item 'last\\_meth\\_index\\_with\\_SNP\\_coverage'\n",
       "\\item 'first\\_meth\\_index\\_with\\_SNP\\_coverage'\n",
       "\\item 'genotype\\_pc\\_path'\n",
       "\\item 'meth\\_pc\\_path'\n",
       "\\item 'pheno\\_pc'\n",
       "\\end{enumerate*}\n"
      ],
      "text/markdown": [
       "1. 'subpopulation'\n",
       "2. 'brain_region'\n",
       "3. 'Chr'\n",
       "4. 'SNP_data'\n",
       "5. 'methylation_data'\n",
       "6. 'last_meth_value_with_SNP_coverage'\n",
       "7. 'first_meth_value_with_SNP_coverage'\n",
       "8. 'last_meth_index_with_SNP_coverage'\n",
       "9. 'first_meth_index_with_SNP_coverage'\n",
       "10. 'genotype_pc_path'\n",
       "11. 'meth_pc_path'\n",
       "12. 'pheno_pc'\n",
       "\n",
       "\n"
      ],
      "text/plain": [
       " [1] \"subpopulation\"                      \"brain_region\"                      \n",
       " [3] \"Chr\"                                \"SNP_data\"                          \n",
       " [5] \"methylation_data\"                   \"last_meth_value_with_SNP_coverage\" \n",
       " [7] \"first_meth_value_with_SNP_coverage\" \"last_meth_index_with_SNP_coverage\" \n",
       " [9] \"first_meth_index_with_SNP_coverage\" \"genotype_pc_path\"                  \n",
       "[11] \"meth_pc_path\"                       \"pheno_pc\"                          "
      ]
     },
     "metadata": {},
     "output_type": "display_data"
    }
   ],
   "source": [
    "colnames(merged)"
   ]
  },
  {
   "cell_type": "code",
   "execution_count": 103,
   "id": "b61af0fa-82b1-4a98-be20-480bd52765eb",
   "metadata": {},
   "outputs": [
    {
     "data": {
      "text/html": [
       "<style>\n",
       ".list-inline {list-style: none; margin:0; padding: 0}\n",
       ".list-inline>li {display: inline-block}\n",
       ".list-inline>li:not(:last-child)::after {content: \"\\00b7\"; padding: 0 .5ex}\n",
       "</style>\n",
       "<ol class=list-inline><li>198</li><li>12</li></ol>\n"
      ],
      "text/latex": [
       "\\begin{enumerate*}\n",
       "\\item 198\n",
       "\\item 12\n",
       "\\end{enumerate*}\n"
      ],
      "text/markdown": [
       "1. 198\n",
       "2. 12\n",
       "\n",
       "\n"
      ],
      "text/plain": [
       "[1] 198  12"
      ]
     },
     "metadata": {},
     "output_type": "display_data"
    }
   ],
   "source": [
    "dim(merged)"
   ]
  },
  {
   "cell_type": "code",
   "execution_count": null,
   "id": "f37f15d2-6f05-4312-8ec2-0d34135e79e0",
   "metadata": {},
   "outputs": [],
   "source": []
  },
  {
   "cell_type": "code",
   "execution_count": 107,
   "id": "3253b04d-fca9-4bfa-941d-aabc149e94ac",
   "metadata": {},
   "outputs": [],
   "source": [
    "merged_pc_only <- unique(merged[, c(1, 2, 10:12)])"
   ]
  },
  {
   "cell_type": "code",
   "execution_count": 108,
   "id": "1ef2bcf2-f112-4f67-8cab-10899f5a454f",
   "metadata": {
    "tags": []
   },
   "outputs": [
    {
     "data": {
      "text/html": [
       "<table class=\"dataframe\">\n",
       "<caption>A data.table: 9 × 5</caption>\n",
       "<thead>\n",
       "\t<tr><th scope=col>subpopulation</th><th scope=col>brain_region</th><th scope=col>genotype_pc_path</th><th scope=col>meth_pc_path</th><th scope=col>pheno_pc</th></tr>\n",
       "\t<tr><th scope=col>&lt;chr&gt;</th><th scope=col>&lt;chr&gt;</th><th scope=col>&lt;chr&gt;</th><th scope=col>&lt;chr&gt;</th><th scope=col>&lt;chr&gt;</th></tr>\n",
       "</thead>\n",
       "<tbody>\n",
       "\t<tr><td>AA </td><td>caud </td><td>/dcs04/lieber/statsgen/shizhong/database/libd/genotype/postmortem/topmed/merge_H650_1M_2.5M_5M/EA_AA/all/pca_wgbs/caudate/pca.eigenvec</td><td>/dcs04/lieber/statsgen/shizhong/michael/mwas/pheno//caud/out/pc_AA.csv  </td><td>/dcs04/lieber/statsgen/shizhong/database/libd/genotype/postmortem/phenotype/pheno_PC</td></tr>\n",
       "\t<tr><td>AA </td><td>dlpfc</td><td>/dcs04/lieber/statsgen/shizhong/database/libd/genotype/postmortem/topmed/merge_H650_1M_2.5M_5M/EA_AA/all/pca_wgbs/dlpfc/pca.eigenvec  </td><td>/dcs04/lieber/statsgen/shizhong/michael/mwas/pheno//dlpfc/out/pc_AA.csv </td><td>/dcs04/lieber/statsgen/shizhong/database/libd/genotype/postmortem/phenotype/pheno_PC</td></tr>\n",
       "\t<tr><td>AA </td><td>hippo</td><td>/dcs04/lieber/statsgen/shizhong/database/libd/genotype/postmortem/topmed/merge_H650_1M_2.5M_5M/EA_AA/all/pca_wgbs/hippo/pca.eigenvec  </td><td>/dcs04/lieber/statsgen/shizhong/michael/mwas/pheno//hippo/out/pc_AA.csv </td><td>/dcs04/lieber/statsgen/shizhong/database/libd/genotype/postmortem/phenotype/pheno_PC</td></tr>\n",
       "\t<tr><td>EA </td><td>caud </td><td>/dcs04/lieber/statsgen/shizhong/database/libd/genotype/postmortem/topmed/merge_H650_1M_2.5M_5M/EA_AA/all/pca_wgbs/caudate/pca.eigenvec</td><td>/dcs04/lieber/statsgen/shizhong/michael/mwas/pheno//caud/out/pc_EA.csv  </td><td>/dcs04/lieber/statsgen/shizhong/database/libd/genotype/postmortem/phenotype/pheno_PC</td></tr>\n",
       "\t<tr><td>EA </td><td>dlpfc</td><td>/dcs04/lieber/statsgen/shizhong/database/libd/genotype/postmortem/topmed/merge_H650_1M_2.5M_5M/EA_AA/all/pca_wgbs/dlpfc/pca.eigenvec  </td><td>/dcs04/lieber/statsgen/shizhong/michael/mwas/pheno//dlpfc/out/pc_EA.csv </td><td>/dcs04/lieber/statsgen/shizhong/database/libd/genotype/postmortem/phenotype/pheno_PC</td></tr>\n",
       "\t<tr><td>EA </td><td>hippo</td><td>/dcs04/lieber/statsgen/shizhong/database/libd/genotype/postmortem/topmed/merge_H650_1M_2.5M_5M/EA_AA/all/pca_wgbs/hippo/pca.eigenvec  </td><td>/dcs04/lieber/statsgen/shizhong/michael/mwas/pheno//hippo/out/pc_EA.csv </td><td>/dcs04/lieber/statsgen/shizhong/database/libd/genotype/postmortem/phenotype/pheno_PC</td></tr>\n",
       "\t<tr><td>all</td><td>caud </td><td>/dcs04/lieber/statsgen/shizhong/database/libd/genotype/postmortem/topmed/merge_H650_1M_2.5M_5M/EA_AA/all/pca_wgbs/caudate/pca.eigenvec</td><td>/dcs04/lieber/statsgen/shizhong/michael/mwas/pheno//caud/out/pc_all.csv </td><td>/dcs04/lieber/statsgen/shizhong/database/libd/genotype/postmortem/phenotype/pheno_PC</td></tr>\n",
       "\t<tr><td>all</td><td>dlpfc</td><td>/dcs04/lieber/statsgen/shizhong/database/libd/genotype/postmortem/topmed/merge_H650_1M_2.5M_5M/EA_AA/all/pca_wgbs/dlpfc/pca.eigenvec  </td><td>/dcs04/lieber/statsgen/shizhong/michael/mwas/pheno//dlpfc/out/pc_all.csv</td><td>/dcs04/lieber/statsgen/shizhong/database/libd/genotype/postmortem/phenotype/pheno_PC</td></tr>\n",
       "\t<tr><td>all</td><td>hippo</td><td>/dcs04/lieber/statsgen/shizhong/database/libd/genotype/postmortem/topmed/merge_H650_1M_2.5M_5M/EA_AA/all/pca_wgbs/hippo/pca.eigenvec  </td><td>/dcs04/lieber/statsgen/shizhong/michael/mwas/pheno//hippo/out/pc_all.csv</td><td>/dcs04/lieber/statsgen/shizhong/database/libd/genotype/postmortem/phenotype/pheno_PC</td></tr>\n",
       "</tbody>\n",
       "</table>\n"
      ],
      "text/latex": [
       "A data.table: 9 × 5\n",
       "\\begin{tabular}{lllll}\n",
       " subpopulation & brain\\_region & genotype\\_pc\\_path & meth\\_pc\\_path & pheno\\_pc\\\\\n",
       " <chr> & <chr> & <chr> & <chr> & <chr>\\\\\n",
       "\\hline\n",
       "\t AA  & caud  & /dcs04/lieber/statsgen/shizhong/database/libd/genotype/postmortem/topmed/merge\\_H650\\_1M\\_2.5M\\_5M/EA\\_AA/all/pca\\_wgbs/caudate/pca.eigenvec & /dcs04/lieber/statsgen/shizhong/michael/mwas/pheno//caud/out/pc\\_AA.csv   & /dcs04/lieber/statsgen/shizhong/database/libd/genotype/postmortem/phenotype/pheno\\_PC\\\\\n",
       "\t AA  & dlpfc & /dcs04/lieber/statsgen/shizhong/database/libd/genotype/postmortem/topmed/merge\\_H650\\_1M\\_2.5M\\_5M/EA\\_AA/all/pca\\_wgbs/dlpfc/pca.eigenvec   & /dcs04/lieber/statsgen/shizhong/michael/mwas/pheno//dlpfc/out/pc\\_AA.csv  & /dcs04/lieber/statsgen/shizhong/database/libd/genotype/postmortem/phenotype/pheno\\_PC\\\\\n",
       "\t AA  & hippo & /dcs04/lieber/statsgen/shizhong/database/libd/genotype/postmortem/topmed/merge\\_H650\\_1M\\_2.5M\\_5M/EA\\_AA/all/pca\\_wgbs/hippo/pca.eigenvec   & /dcs04/lieber/statsgen/shizhong/michael/mwas/pheno//hippo/out/pc\\_AA.csv  & /dcs04/lieber/statsgen/shizhong/database/libd/genotype/postmortem/phenotype/pheno\\_PC\\\\\n",
       "\t EA  & caud  & /dcs04/lieber/statsgen/shizhong/database/libd/genotype/postmortem/topmed/merge\\_H650\\_1M\\_2.5M\\_5M/EA\\_AA/all/pca\\_wgbs/caudate/pca.eigenvec & /dcs04/lieber/statsgen/shizhong/michael/mwas/pheno//caud/out/pc\\_EA.csv   & /dcs04/lieber/statsgen/shizhong/database/libd/genotype/postmortem/phenotype/pheno\\_PC\\\\\n",
       "\t EA  & dlpfc & /dcs04/lieber/statsgen/shizhong/database/libd/genotype/postmortem/topmed/merge\\_H650\\_1M\\_2.5M\\_5M/EA\\_AA/all/pca\\_wgbs/dlpfc/pca.eigenvec   & /dcs04/lieber/statsgen/shizhong/michael/mwas/pheno//dlpfc/out/pc\\_EA.csv  & /dcs04/lieber/statsgen/shizhong/database/libd/genotype/postmortem/phenotype/pheno\\_PC\\\\\n",
       "\t EA  & hippo & /dcs04/lieber/statsgen/shizhong/database/libd/genotype/postmortem/topmed/merge\\_H650\\_1M\\_2.5M\\_5M/EA\\_AA/all/pca\\_wgbs/hippo/pca.eigenvec   & /dcs04/lieber/statsgen/shizhong/michael/mwas/pheno//hippo/out/pc\\_EA.csv  & /dcs04/lieber/statsgen/shizhong/database/libd/genotype/postmortem/phenotype/pheno\\_PC\\\\\n",
       "\t all & caud  & /dcs04/lieber/statsgen/shizhong/database/libd/genotype/postmortem/topmed/merge\\_H650\\_1M\\_2.5M\\_5M/EA\\_AA/all/pca\\_wgbs/caudate/pca.eigenvec & /dcs04/lieber/statsgen/shizhong/michael/mwas/pheno//caud/out/pc\\_all.csv  & /dcs04/lieber/statsgen/shizhong/database/libd/genotype/postmortem/phenotype/pheno\\_PC\\\\\n",
       "\t all & dlpfc & /dcs04/lieber/statsgen/shizhong/database/libd/genotype/postmortem/topmed/merge\\_H650\\_1M\\_2.5M\\_5M/EA\\_AA/all/pca\\_wgbs/dlpfc/pca.eigenvec   & /dcs04/lieber/statsgen/shizhong/michael/mwas/pheno//dlpfc/out/pc\\_all.csv & /dcs04/lieber/statsgen/shizhong/database/libd/genotype/postmortem/phenotype/pheno\\_PC\\\\\n",
       "\t all & hippo & /dcs04/lieber/statsgen/shizhong/database/libd/genotype/postmortem/topmed/merge\\_H650\\_1M\\_2.5M\\_5M/EA\\_AA/all/pca\\_wgbs/hippo/pca.eigenvec   & /dcs04/lieber/statsgen/shizhong/michael/mwas/pheno//hippo/out/pc\\_all.csv & /dcs04/lieber/statsgen/shizhong/database/libd/genotype/postmortem/phenotype/pheno\\_PC\\\\\n",
       "\\end{tabular}\n"
      ],
      "text/markdown": [
       "\n",
       "A data.table: 9 × 5\n",
       "\n",
       "| subpopulation &lt;chr&gt; | brain_region &lt;chr&gt; | genotype_pc_path &lt;chr&gt; | meth_pc_path &lt;chr&gt; | pheno_pc &lt;chr&gt; |\n",
       "|---|---|---|---|---|\n",
       "| AA  | caud  | /dcs04/lieber/statsgen/shizhong/database/libd/genotype/postmortem/topmed/merge_H650_1M_2.5M_5M/EA_AA/all/pca_wgbs/caudate/pca.eigenvec | /dcs04/lieber/statsgen/shizhong/michael/mwas/pheno//caud/out/pc_AA.csv   | /dcs04/lieber/statsgen/shizhong/database/libd/genotype/postmortem/phenotype/pheno_PC |\n",
       "| AA  | dlpfc | /dcs04/lieber/statsgen/shizhong/database/libd/genotype/postmortem/topmed/merge_H650_1M_2.5M_5M/EA_AA/all/pca_wgbs/dlpfc/pca.eigenvec   | /dcs04/lieber/statsgen/shizhong/michael/mwas/pheno//dlpfc/out/pc_AA.csv  | /dcs04/lieber/statsgen/shizhong/database/libd/genotype/postmortem/phenotype/pheno_PC |\n",
       "| AA  | hippo | /dcs04/lieber/statsgen/shizhong/database/libd/genotype/postmortem/topmed/merge_H650_1M_2.5M_5M/EA_AA/all/pca_wgbs/hippo/pca.eigenvec   | /dcs04/lieber/statsgen/shizhong/michael/mwas/pheno//hippo/out/pc_AA.csv  | /dcs04/lieber/statsgen/shizhong/database/libd/genotype/postmortem/phenotype/pheno_PC |\n",
       "| EA  | caud  | /dcs04/lieber/statsgen/shizhong/database/libd/genotype/postmortem/topmed/merge_H650_1M_2.5M_5M/EA_AA/all/pca_wgbs/caudate/pca.eigenvec | /dcs04/lieber/statsgen/shizhong/michael/mwas/pheno//caud/out/pc_EA.csv   | /dcs04/lieber/statsgen/shizhong/database/libd/genotype/postmortem/phenotype/pheno_PC |\n",
       "| EA  | dlpfc | /dcs04/lieber/statsgen/shizhong/database/libd/genotype/postmortem/topmed/merge_H650_1M_2.5M_5M/EA_AA/all/pca_wgbs/dlpfc/pca.eigenvec   | /dcs04/lieber/statsgen/shizhong/michael/mwas/pheno//dlpfc/out/pc_EA.csv  | /dcs04/lieber/statsgen/shizhong/database/libd/genotype/postmortem/phenotype/pheno_PC |\n",
       "| EA  | hippo | /dcs04/lieber/statsgen/shizhong/database/libd/genotype/postmortem/topmed/merge_H650_1M_2.5M_5M/EA_AA/all/pca_wgbs/hippo/pca.eigenvec   | /dcs04/lieber/statsgen/shizhong/michael/mwas/pheno//hippo/out/pc_EA.csv  | /dcs04/lieber/statsgen/shizhong/database/libd/genotype/postmortem/phenotype/pheno_PC |\n",
       "| all | caud  | /dcs04/lieber/statsgen/shizhong/database/libd/genotype/postmortem/topmed/merge_H650_1M_2.5M_5M/EA_AA/all/pca_wgbs/caudate/pca.eigenvec | /dcs04/lieber/statsgen/shizhong/michael/mwas/pheno//caud/out/pc_all.csv  | /dcs04/lieber/statsgen/shizhong/database/libd/genotype/postmortem/phenotype/pheno_PC |\n",
       "| all | dlpfc | /dcs04/lieber/statsgen/shizhong/database/libd/genotype/postmortem/topmed/merge_H650_1M_2.5M_5M/EA_AA/all/pca_wgbs/dlpfc/pca.eigenvec   | /dcs04/lieber/statsgen/shizhong/michael/mwas/pheno//dlpfc/out/pc_all.csv | /dcs04/lieber/statsgen/shizhong/database/libd/genotype/postmortem/phenotype/pheno_PC |\n",
       "| all | hippo | /dcs04/lieber/statsgen/shizhong/database/libd/genotype/postmortem/topmed/merge_H650_1M_2.5M_5M/EA_AA/all/pca_wgbs/hippo/pca.eigenvec   | /dcs04/lieber/statsgen/shizhong/michael/mwas/pheno//hippo/out/pc_all.csv | /dcs04/lieber/statsgen/shizhong/database/libd/genotype/postmortem/phenotype/pheno_PC |\n",
       "\n"
      ],
      "text/plain": [
       "  subpopulation brain_region\n",
       "1 AA            caud        \n",
       "2 AA            dlpfc       \n",
       "3 AA            hippo       \n",
       "4 EA            caud        \n",
       "5 EA            dlpfc       \n",
       "6 EA            hippo       \n",
       "7 all           caud        \n",
       "8 all           dlpfc       \n",
       "9 all           hippo       \n",
       "  genotype_pc_path                                                                                                                      \n",
       "1 /dcs04/lieber/statsgen/shizhong/database/libd/genotype/postmortem/topmed/merge_H650_1M_2.5M_5M/EA_AA/all/pca_wgbs/caudate/pca.eigenvec\n",
       "2 /dcs04/lieber/statsgen/shizhong/database/libd/genotype/postmortem/topmed/merge_H650_1M_2.5M_5M/EA_AA/all/pca_wgbs/dlpfc/pca.eigenvec  \n",
       "3 /dcs04/lieber/statsgen/shizhong/database/libd/genotype/postmortem/topmed/merge_H650_1M_2.5M_5M/EA_AA/all/pca_wgbs/hippo/pca.eigenvec  \n",
       "4 /dcs04/lieber/statsgen/shizhong/database/libd/genotype/postmortem/topmed/merge_H650_1M_2.5M_5M/EA_AA/all/pca_wgbs/caudate/pca.eigenvec\n",
       "5 /dcs04/lieber/statsgen/shizhong/database/libd/genotype/postmortem/topmed/merge_H650_1M_2.5M_5M/EA_AA/all/pca_wgbs/dlpfc/pca.eigenvec  \n",
       "6 /dcs04/lieber/statsgen/shizhong/database/libd/genotype/postmortem/topmed/merge_H650_1M_2.5M_5M/EA_AA/all/pca_wgbs/hippo/pca.eigenvec  \n",
       "7 /dcs04/lieber/statsgen/shizhong/database/libd/genotype/postmortem/topmed/merge_H650_1M_2.5M_5M/EA_AA/all/pca_wgbs/caudate/pca.eigenvec\n",
       "8 /dcs04/lieber/statsgen/shizhong/database/libd/genotype/postmortem/topmed/merge_H650_1M_2.5M_5M/EA_AA/all/pca_wgbs/dlpfc/pca.eigenvec  \n",
       "9 /dcs04/lieber/statsgen/shizhong/database/libd/genotype/postmortem/topmed/merge_H650_1M_2.5M_5M/EA_AA/all/pca_wgbs/hippo/pca.eigenvec  \n",
       "  meth_pc_path                                                            \n",
       "1 /dcs04/lieber/statsgen/shizhong/michael/mwas/pheno//caud/out/pc_AA.csv  \n",
       "2 /dcs04/lieber/statsgen/shizhong/michael/mwas/pheno//dlpfc/out/pc_AA.csv \n",
       "3 /dcs04/lieber/statsgen/shizhong/michael/mwas/pheno//hippo/out/pc_AA.csv \n",
       "4 /dcs04/lieber/statsgen/shizhong/michael/mwas/pheno//caud/out/pc_EA.csv  \n",
       "5 /dcs04/lieber/statsgen/shizhong/michael/mwas/pheno//dlpfc/out/pc_EA.csv \n",
       "6 /dcs04/lieber/statsgen/shizhong/michael/mwas/pheno//hippo/out/pc_EA.csv \n",
       "7 /dcs04/lieber/statsgen/shizhong/michael/mwas/pheno//caud/out/pc_all.csv \n",
       "8 /dcs04/lieber/statsgen/shizhong/michael/mwas/pheno//dlpfc/out/pc_all.csv\n",
       "9 /dcs04/lieber/statsgen/shizhong/michael/mwas/pheno//hippo/out/pc_all.csv\n",
       "  pheno_pc                                                                            \n",
       "1 /dcs04/lieber/statsgen/shizhong/database/libd/genotype/postmortem/phenotype/pheno_PC\n",
       "2 /dcs04/lieber/statsgen/shizhong/database/libd/genotype/postmortem/phenotype/pheno_PC\n",
       "3 /dcs04/lieber/statsgen/shizhong/database/libd/genotype/postmortem/phenotype/pheno_PC\n",
       "4 /dcs04/lieber/statsgen/shizhong/database/libd/genotype/postmortem/phenotype/pheno_PC\n",
       "5 /dcs04/lieber/statsgen/shizhong/database/libd/genotype/postmortem/phenotype/pheno_PC\n",
       "6 /dcs04/lieber/statsgen/shizhong/database/libd/genotype/postmortem/phenotype/pheno_PC\n",
       "7 /dcs04/lieber/statsgen/shizhong/database/libd/genotype/postmortem/phenotype/pheno_PC\n",
       "8 /dcs04/lieber/statsgen/shizhong/database/libd/genotype/postmortem/phenotype/pheno_PC\n",
       "9 /dcs04/lieber/statsgen/shizhong/database/libd/genotype/postmortem/phenotype/pheno_PC"
      ]
     },
     "metadata": {},
     "output_type": "display_data"
    }
   ],
   "source": [
    "merged_pc_only"
   ]
  },
  {
   "cell_type": "code",
   "execution_count": 63,
   "id": "665f0a1a-99f2-41a0-b981-3c7850db0512",
   "metadata": {},
   "outputs": [],
   "source": [
    "i <- 1"
   ]
  },
  {
   "cell_type": "code",
   "execution_count": 99,
   "id": "25b6ccb5-a31c-4347-93e0-305951b066d6",
   "metadata": {},
   "outputs": [],
   "source": [
    "geno_pc <- fread(merged$genotype_pc_path[i])\n",
    "meth_pc <- fread(merged$meth_pc_path[i])\n",
    "pheno_pc <- fread(merged$pheno_pc[i])\n",
    "\n",
    "meth_pc <- meth_pc[, 1:11]\n",
    "\n",
    "geno_pc <- geno_pc[, 1:4]\n",
    "\n",
    "pheno_pc <- pheno_pc[, c(2, 6, 7, 8)]\n",
    "\n",
    "colnames(meth_pc)[1] <- colnames(pheno_pc)[1] <- colnames(geno_pc)[1] <- \"ID\"\n",
    "\n",
    "colnames(meth_pc)[2:11] <- paste0(\"methPC\", 1:10)\n",
    "\n",
    "colnames(geno_pc)[2:4] <- paste0(\"genoPC\", 1:3)\n",
    "\n",
    "geno_pc$ID <- gsub(\"Br0\", \"Br\", geno_pc$ID)\n",
    "pheno_pc$ID <- gsub(\"Br0\", \"Br\", pheno_pc$ID)\n",
    "meth_pc$ID <- gsub(\"Br0\", \"Br\", meth_pc$ID)\n",
    "\n",
    "#dim(meth_pc)\n",
    "#dim(geno_pc)\n",
    "#dim(pheno_pc)\n",
    "\n",
    "unified_pc <- merge(geno_pc, pheno_pc)\n",
    "#dim(unified_pc)\n",
    "unified_pc <- merge(unified_pc, meth_pc)\n",
    "#dim(unified_pc)\n",
    "\n",
    "if(nrow(unified_pc) != nrow(meth_pc)){\n",
    "    stop(paste0(\"We have a mismatch for row \", i))\n",
    "    }"
   ]
  },
  {
   "cell_type": "code",
   "execution_count": 112,
   "id": "a792c870-b737-41ea-be83-32e74abd6658",
   "metadata": {},
   "outputs": [],
   "source": [
    "outname <- paste0(outdir, merged$subpopulation[i], \"_\", merged$brain_region[i], \".csv\")\n",
    "fwrite(merged_pc_only, outname)"
   ]
  },
  {
   "cell_type": "code",
   "execution_count": null,
   "id": "b5ee0d05-db58-4d3b-a259-73300938104a",
   "metadata": {},
   "outputs": [],
   "source": []
  },
  {
   "cell_type": "code",
   "execution_count": 63,
   "id": "7d63de3c-5560-478d-91ff-a83691fcf4a1",
   "metadata": {},
   "outputs": [],
   "source": []
  },
  {
   "cell_type": "code",
   "execution_count": 128,
   "id": "291a44ba-0710-48c9-be7f-9f37ad846801",
   "metadata": {},
   "outputs": [
    {
     "name": "stdout",
     "output_type": "stream",
     "text": [
      "[1] \"Br2267\"\n"
     ]
    },
    {
     "name": "stderr",
     "output_type": "stream",
     "text": [
      "Warning message in eval(expr, envir, enclos):\n",
      "“We have a mismatch for row 2”\n"
     ]
    },
    {
     "name": "stdout",
     "output_type": "stream",
     "text": [
      "   subpopulation brain_region\n",
      "1:            AA        dlpfc\n",
      "                                                                                                                       genotype_pc_path\n",
      "1: /dcs04/lieber/statsgen/shizhong/database/libd/genotype/postmortem/topmed/merge_H650_1M_2.5M_5M/EA_AA/all/pca_wgbs/dlpfc/pca.eigenvec\n",
      "                                                              meth_pc_path\n",
      "1: /dcs04/lieber/statsgen/shizhong/michael/mwas/pheno//dlpfc/out/pc_AA.csv\n",
      "                                                                               pheno_pc\n",
      "1: /dcs04/lieber/statsgen/shizhong/database/libd/genotype/postmortem/phenotype/pheno_PC\n",
      "[1] \"Br2267\"\n"
     ]
    },
    {
     "name": "stderr",
     "output_type": "stream",
     "text": [
      "Warning message in eval(expr, envir, enclos):\n",
      "“We have a mismatch for row 3”\n"
     ]
    },
    {
     "name": "stdout",
     "output_type": "stream",
     "text": [
      "   subpopulation brain_region\n",
      "1:            AA        hippo\n",
      "                                                                                                                       genotype_pc_path\n",
      "1: /dcs04/lieber/statsgen/shizhong/database/libd/genotype/postmortem/topmed/merge_H650_1M_2.5M_5M/EA_AA/all/pca_wgbs/hippo/pca.eigenvec\n",
      "                                                              meth_pc_path\n",
      "1: /dcs04/lieber/statsgen/shizhong/michael/mwas/pheno//hippo/out/pc_AA.csv\n",
      "                                                                               pheno_pc\n",
      "1: /dcs04/lieber/statsgen/shizhong/database/libd/genotype/postmortem/phenotype/pheno_PC\n",
      "[1] \"Br2267\"\n"
     ]
    },
    {
     "name": "stderr",
     "output_type": "stream",
     "text": [
      "Warning message in eval(expr, envir, enclos):\n",
      "“We have a mismatch for row 8”\n"
     ]
    },
    {
     "name": "stdout",
     "output_type": "stream",
     "text": [
      "   subpopulation brain_region\n",
      "1:           all        dlpfc\n",
      "                                                                                                                       genotype_pc_path\n",
      "1: /dcs04/lieber/statsgen/shizhong/database/libd/genotype/postmortem/topmed/merge_H650_1M_2.5M_5M/EA_AA/all/pca_wgbs/dlpfc/pca.eigenvec\n",
      "                                                               meth_pc_path\n",
      "1: /dcs04/lieber/statsgen/shizhong/michael/mwas/pheno//dlpfc/out/pc_all.csv\n",
      "                                                                               pheno_pc\n",
      "1: /dcs04/lieber/statsgen/shizhong/database/libd/genotype/postmortem/phenotype/pheno_PC\n",
      "[1] \"Br2267\"\n"
     ]
    },
    {
     "name": "stderr",
     "output_type": "stream",
     "text": [
      "Warning message in eval(expr, envir, enclos):\n",
      "“We have a mismatch for row 9”\n"
     ]
    },
    {
     "name": "stdout",
     "output_type": "stream",
     "text": [
      "   subpopulation brain_region\n",
      "1:           all        hippo\n",
      "                                                                                                                       genotype_pc_path\n",
      "1: /dcs04/lieber/statsgen/shizhong/database/libd/genotype/postmortem/topmed/merge_H650_1M_2.5M_5M/EA_AA/all/pca_wgbs/hippo/pca.eigenvec\n",
      "                                                               meth_pc_path\n",
      "1: /dcs04/lieber/statsgen/shizhong/michael/mwas/pheno//hippo/out/pc_all.csv\n",
      "                                                                               pheno_pc\n",
      "1: /dcs04/lieber/statsgen/shizhong/database/libd/genotype/postmortem/phenotype/pheno_PC\n"
     ]
    }
   ],
   "source": [
    "for(i in 1:nrow(merged_pc_only)){\n",
    "    geno_pc <- fread(merged_pc_only$genotype_pc_path[i])\n",
    "    meth_pc <- fread(merged_pc_only$meth_pc_path[i])\n",
    "    pheno_pc <- fread(merged_pc_only$pheno_pc[i])\n",
    "\n",
    "    meth_pc <- meth_pc[, 1:11]\n",
    "\n",
    "    geno_pc <- geno_pc[, 1:4]\n",
    "\n",
    "    pheno_pc <- pheno_pc[, c(2, 6, 7, 8)]\n",
    "\n",
    "    colnames(meth_pc)[1] <- colnames(pheno_pc)[1] <- colnames(geno_pc)[1] <- \"ID\"\n",
    "\n",
    "    colnames(meth_pc)[2:11] <- paste0(\"methPC\", 1:10)\n",
    "\n",
    "    colnames(geno_pc)[2:4] <- paste0(\"genoPC\", 1:3)\n",
    "\n",
    "    geno_pc$ID <- gsub(\"Br0\", \"Br\", geno_pc$ID)\n",
    "    pheno_pc$ID <- gsub(\"Br0\", \"Br\", pheno_pc$ID)\n",
    "    pheno_pc$Dx <- gsub(\"chizo\", \"CZ\", pheno_pc$Dx)\n",
    "    meth_pc$ID <- gsub(\"Br0\", \"Br\", meth_pc$ID)\n",
    "\n",
    "    #dim(meth_pc)\n",
    "    #dim(geno_pc)\n",
    "    #dim(pheno_pc)\n",
    "\n",
    "    unified_pc <- merge(geno_pc, meth_pc)\n",
    "    #dim(unified_pc)\n",
    "    unified_pc <- merge(unified_pc, pheno_pc)\n",
    "    #dim(unified_pc)\n",
    "\n",
    "    if(nrow(unified_pc) != nrow(meth_pc)){\n",
    "        print(setdiff(meth_pc$ID, unified_pc$ID))\n",
    "        warning(paste0(\"We have a mismatch for row \", i))\n",
    "        print(merged_pc_only[i, ])\n",
    "        }\n",
    "    outname <- paste0(outdir, merged_pc_only$subpopulation[i], \"_\", merged_pc_only$brain_region[i], \".csv\")\n",
    "    fwrite(unified_pc, outname)\n",
    "    \n",
    "    }\n"
   ]
  },
  {
   "cell_type": "code",
   "execution_count": 129,
   "id": "e2451618-5d15-4733-81ab-9e2b8c21c581",
   "metadata": {},
   "outputs": [
    {
     "data": {
      "text/html": [
       "'/dcs04/lieber/statsgen/mnagle/mwas/full_covariates/all_hippo.csv'"
      ],
      "text/latex": [
       "'/dcs04/lieber/statsgen/mnagle/mwas/full\\_covariates/all\\_hippo.csv'"
      ],
      "text/markdown": [
       "'/dcs04/lieber/statsgen/mnagle/mwas/full_covariates/all_hippo.csv'"
      ],
      "text/plain": [
       "[1] \"/dcs04/lieber/statsgen/mnagle/mwas/full_covariates/all_hippo.csv\""
      ]
     },
     "metadata": {},
     "output_type": "display_data"
    }
   ],
   "source": [
    "outname"
   ]
  },
  {
   "cell_type": "code",
   "execution_count": 130,
   "id": "ea0e1604-bb16-4d37-8704-f7fe80ee1ec5",
   "metadata": {},
   "outputs": [],
   "source": [
    "merged$full_covariate_path <-\n",
    "paste0(outdir, merged$subpopulation, \"_\", merged$brain_region, \".csv\")"
   ]
  },
  {
   "cell_type": "code",
   "execution_count": 131,
   "id": "e1b95f8f-1c5b-4c21-bd4f-4447bec76638",
   "metadata": {
    "collapsed": true,
    "jupyter": {
     "outputs_hidden": true
    },
    "tags": []
   },
   "outputs": [
    {
     "data": {
      "text/html": [
       "<table class=\"dataframe\">\n",
       "<caption>A data.table: 164 × 17</caption>\n",
       "<thead>\n",
       "\t<tr><th scope=col>ID</th><th scope=col>genoPC1</th><th scope=col>genoPC2</th><th scope=col>genoPC3</th><th scope=col>methPC1</th><th scope=col>methPC2</th><th scope=col>methPC3</th><th scope=col>methPC4</th><th scope=col>methPC5</th><th scope=col>methPC6</th><th scope=col>methPC7</th><th scope=col>methPC8</th><th scope=col>methPC9</th><th scope=col>methPC10</th><th scope=col>Dx</th><th scope=col>Age</th><th scope=col>Sex</th></tr>\n",
       "\t<tr><th scope=col>&lt;chr&gt;</th><th scope=col>&lt;dbl&gt;</th><th scope=col>&lt;dbl&gt;</th><th scope=col>&lt;dbl&gt;</th><th scope=col>&lt;dbl&gt;</th><th scope=col>&lt;dbl&gt;</th><th scope=col>&lt;dbl&gt;</th><th scope=col>&lt;dbl&gt;</th><th scope=col>&lt;dbl&gt;</th><th scope=col>&lt;dbl&gt;</th><th scope=col>&lt;dbl&gt;</th><th scope=col>&lt;dbl&gt;</th><th scope=col>&lt;dbl&gt;</th><th scope=col>&lt;dbl&gt;</th><th scope=col>&lt;chr&gt;</th><th scope=col>&lt;dbl&gt;</th><th scope=col>&lt;chr&gt;</th></tr>\n",
       "</thead>\n",
       "<tbody>\n",
       "\t<tr><td>Br1003</td><td>0.0591231</td><td>-0.039807700</td><td> 0.02053080</td><td>-157.04647</td><td>  22.431504</td><td>  -3.613153</td><td>  28.587802</td><td>-165.830789</td><td>  15.4914042</td><td>  27.347098</td><td>  68.1463463</td><td> -83.144721</td><td>  74.405523</td><td>Control</td><td>52.57</td><td>F</td></tr>\n",
       "\t<tr><td>Br1004</td><td>0.0507512</td><td> 0.016700300</td><td>-0.02350190</td><td>-207.97793</td><td>  14.563873</td><td> -48.109417</td><td> -48.368597</td><td>  65.479538</td><td>-174.4362052</td><td> -40.363495</td><td>-103.8133780</td><td>  11.087242</td><td> -84.670514</td><td>Control</td><td>21.01</td><td>M</td></tr>\n",
       "\t<tr><td>Br1007</td><td>0.0683202</td><td> 0.005023590</td><td>-0.05958990</td><td> 119.29338</td><td>-184.287037</td><td>-127.987516</td><td>   8.047659</td><td> 100.518214</td><td> 112.4048122</td><td> -44.079714</td><td> -13.3318373</td><td> 109.550591</td><td>  55.891996</td><td>Control</td><td>57.10</td><td>M</td></tr>\n",
       "\t<tr><td>Br1017</td><td>0.0685061</td><td>-0.008443570</td><td>-0.01093240</td><td> 148.35140</td><td> -89.715577</td><td> -97.742602</td><td>   7.072870</td><td> -78.404717</td><td>  77.0296173</td><td> -33.334885</td><td> -34.9482041</td><td>  73.886328</td><td>  65.622516</td><td>Control</td><td>48.42</td><td>F</td></tr>\n",
       "\t<tr><td>Br1021</td><td>0.0596699</td><td> 0.003678410</td><td> 0.04795520</td><td> 453.47100</td><td>-132.387141</td><td>  35.349695</td><td>  80.759933</td><td> 123.878599</td><td> -39.4338123</td><td>-122.191818</td><td>  64.6271242</td><td> -62.891067</td><td> -25.939892</td><td>SCZ    </td><td>63.18</td><td>M</td></tr>\n",
       "\t<tr><td>Br1030</td><td>0.0166234</td><td> 0.037136000</td><td>-0.11683800</td><td>-212.50562</td><td>  -3.017152</td><td> -46.171785</td><td> -91.779986</td><td> -28.953074</td><td>  -0.2483534</td><td>  63.463302</td><td>  10.9460093</td><td>  62.956351</td><td>   4.060549</td><td>SCZ    </td><td>49.65</td><td>F</td></tr>\n",
       "\t<tr><td>Br1039</td><td>0.0372755</td><td> 0.000920873</td><td> 0.04261920</td><td>-103.04318</td><td> -97.394092</td><td>   6.394317</td><td>   9.246365</td><td>-153.099368</td><td> -57.4199032</td><td> -21.466761</td><td>  61.2001242</td><td>   4.913690</td><td>  18.458765</td><td>Control</td><td>51.45</td><td>F</td></tr>\n",
       "\t<tr><td>Br1040</td><td>0.0418527</td><td>-0.041008900</td><td>-0.00594927</td><td>-651.74144</td><td> 243.329728</td><td>-234.910289</td><td> -21.365701</td><td> 137.855050</td><td>-107.1335278</td><td>  -9.355704</td><td> -32.7974052</td><td>  51.679802</td><td> -82.487019</td><td>Control</td><td>20.93</td><td>M</td></tr>\n",
       "\t<tr><td>Br1050</td><td>0.0667423</td><td>-0.029448500</td><td>-0.06359590</td><td>-346.35535</td><td> 148.209663</td><td>-322.522824</td><td> -64.676761</td><td> 121.759943</td><td> -70.2543686</td><td>   2.514280</td><td>  30.8563428</td><td> -19.582689</td><td> -27.813140</td><td>SCZ    </td><td>41.25</td><td>M</td></tr>\n",
       "\t<tr><td>Br1053</td><td>0.0545700</td><td> 0.010893500</td><td>-0.00503420</td><td>  14.25498</td><td>-218.737504</td><td>-116.037699</td><td> -46.148580</td><td> -61.733453</td><td> -40.1747788</td><td> -36.466078</td><td> -77.0255876</td><td>  22.668648</td><td>  28.637638</td><td>Control</td><td>40.18</td><td>F</td></tr>\n",
       "\t<tr><td>Br1054</td><td>0.0332241</td><td> 0.017995200</td><td>-0.04943730</td><td> 774.63116</td><td> 242.469130</td><td>-104.806579</td><td> 112.814288</td><td>  12.699447</td><td> 136.6050191</td><td>  46.175255</td><td> -21.3814211</td><td> -48.937389</td><td> -22.004186</td><td>Control</td><td>58.48</td><td>M</td></tr>\n",
       "\t<tr><td>Br1056</td><td>0.0618984</td><td>-0.023353300</td><td> 0.04164780</td><td> 203.15099</td><td>-160.030786</td><td>  -9.528087</td><td>  57.690104</td><td> 100.357240</td><td> 153.6498301</td><td>  17.411171</td><td>  59.8056951</td><td>  65.862125</td><td> -22.696183</td><td>Control</td><td>48.66</td><td>M</td></tr>\n",
       "\t<tr><td>Br1067</td><td>0.0143833</td><td> 0.038102000</td><td>-0.01583960</td><td>-221.40899</td><td>-112.953999</td><td> -58.332883</td><td> -12.299914</td><td>  60.242272</td><td> -81.4366823</td><td>  22.421371</td><td> -17.5407090</td><td>  11.036222</td><td>-104.406567</td><td>SCZ    </td><td>75.57</td><td>M</td></tr>\n",
       "\t<tr><td>Br1069</td><td>0.0684744</td><td> 0.008516790</td><td>-0.05033340</td><td>  58.63272</td><td>-207.058051</td><td> 229.767251</td><td> 121.798472</td><td>-156.910068</td><td> -63.3180131</td><td> -39.249847</td><td>  52.7269230</td><td> -13.666163</td><td>  39.776181</td><td>Control</td><td>59.58</td><td>F</td></tr>\n",
       "\t<tr><td>Br1081</td><td>0.0389105</td><td> 0.011763800</td><td>-0.01286800</td><td>-175.57313</td><td>-184.149242</td><td> -29.558267</td><td> 126.310124</td><td>  31.466216</td><td> 115.3960460</td><td> -94.021767</td><td>   4.2601717</td><td> -42.418487</td><td>  67.555466</td><td>SCZ    </td><td>58.09</td><td>M</td></tr>\n",
       "\t<tr><td>Br1084</td><td>0.0674246</td><td> 0.016551200</td><td>-0.01582100</td><td> 116.19473</td><td> -30.816511</td><td> 328.516578</td><td>-151.729366</td><td>  89.175238</td><td> -41.5699130</td><td> -43.722753</td><td>-148.8412092</td><td> 165.907343</td><td>  18.474209</td><td>SCZ    </td><td>48.93</td><td>F</td></tr>\n",
       "\t<tr><td>Br1102</td><td>0.0689186</td><td>-0.009428380</td><td> 0.00359921</td><td>-169.56123</td><td> -11.235778</td><td> -50.164651</td><td>  33.826086</td><td>  53.102836</td><td>  16.7075391</td><td> -84.067065</td><td> 137.9719334</td><td> -36.027093</td><td>  35.036245</td><td>SCZ    </td><td>46.47</td><td>M</td></tr>\n",
       "\t<tr><td>Br1122</td><td>0.0532758</td><td> 0.006862260</td><td> 0.08881960</td><td> 388.38408</td><td>  11.157270</td><td>-352.975866</td><td>-244.452555</td><td>  98.239509</td><td> -89.0380241</td><td>   6.257570</td><td> 188.6164745</td><td> -19.054937</td><td> -39.290505</td><td>Control</td><td>48.61</td><td>M</td></tr>\n",
       "\t<tr><td>Br1134</td><td>0.0312242</td><td> 0.016365300</td><td> 0.05139930</td><td> 461.68479</td><td> 236.252001</td><td>-244.564206</td><td> -49.439873</td><td> -48.102597</td><td>  29.7295860</td><td> -33.884269</td><td>-117.6843231</td><td>  79.101556</td><td>  85.537008</td><td>Control</td><td>36.48</td><td>F</td></tr>\n",
       "\t<tr><td>Br1135</td><td>0.0443159</td><td>-0.004031030</td><td> 0.03944810</td><td> 187.34590</td><td> -66.730027</td><td> -45.973772</td><td> -19.362323</td><td> 163.963305</td><td> -48.4467355</td><td> -18.505958</td><td>-122.7640427</td><td>  -8.194399</td><td> -27.061954</td><td>Control</td><td>60.35</td><td>M</td></tr>\n",
       "\t<tr><td>Br1137</td><td>0.0512178</td><td>-0.008132730</td><td> 0.00414662</td><td>-235.60834</td><td> -97.241925</td><td> -67.142546</td><td> -30.347265</td><td>-129.897060</td><td>  37.0909392</td><td>   7.558666</td><td> 174.2390575</td><td>   8.593552</td><td> -39.000885</td><td>Control</td><td>68.54</td><td>M</td></tr>\n",
       "\t<tr><td>Br1148</td><td>0.0657928</td><td> 0.015143700</td><td>-0.08391730</td><td>-353.16683</td><td>  79.304101</td><td>-197.351043</td><td> -19.101227</td><td> -38.671370</td><td> -39.2370851</td><td>  13.205034</td><td>  40.9461178</td><td> -12.939777</td><td> -46.063974</td><td>Control</td><td>29.97</td><td>M</td></tr>\n",
       "\t<tr><td>Br1156</td><td>0.0551191</td><td> 0.002750920</td><td> 0.01901670</td><td>-435.51760</td><td> 154.698532</td><td> 109.571056</td><td>  34.996561</td><td> -56.036963</td><td>  78.5901674</td><td>  79.653026</td><td>  43.8381790</td><td>   2.017984</td><td>   3.433720</td><td>Control</td><td>53.86</td><td>F</td></tr>\n",
       "\t<tr><td>Br1157</td><td>0.0687824</td><td>-0.016698600</td><td> 0.01878520</td><td>  62.48916</td><td>  99.370928</td><td>-114.584049</td><td>  30.640967</td><td> -69.959796</td><td>  70.2113358</td><td>  94.575184</td><td>  61.4775604</td><td> -34.592651</td><td> -63.669566</td><td>Control</td><td>60.70</td><td>M</td></tr>\n",
       "\t<tr><td>Br1160</td><td>0.0463301</td><td> 0.040159500</td><td>-0.05176610</td><td>  16.68765</td><td> -37.636483</td><td> 162.292774</td><td>  31.330967</td><td> -74.862236</td><td> -74.0879304</td><td> 101.410070</td><td> -24.3863793</td><td>-100.607302</td><td> -58.379287</td><td>Control</td><td>73.23</td><td>M</td></tr>\n",
       "\t<tr><td>Br1164</td><td>0.0578878</td><td>-0.022999400</td><td>-0.05662810</td><td> 171.51858</td><td>-189.519274</td><td> 179.963318</td><td>-121.535089</td><td>  40.634218</td><td>  65.5828286</td><td>  84.582765</td><td>-223.2700548</td><td>  35.242893</td><td>  20.682786</td><td>Control</td><td>48.10</td><td>F</td></tr>\n",
       "\t<tr><td>Br1167</td><td>0.0352138</td><td>-0.100051000</td><td> 0.11720000</td><td> 439.12042</td><td> 150.633039</td><td>-127.493286</td><td>  13.929089</td><td>  15.352493</td><td> -37.2411043</td><td>  47.448766</td><td>  65.5329304</td><td>  14.757962</td><td> -83.259221</td><td>Control</td><td>45.86</td><td>M</td></tr>\n",
       "\t<tr><td>Br1185</td><td>0.0553348</td><td>-0.003555220</td><td>-0.02148240</td><td> -67.86175</td><td> -50.281986</td><td> -11.565901</td><td>  62.340768</td><td> -56.298584</td><td> -74.8984018</td><td> -53.536016</td><td>   0.6982585</td><td> -38.995814</td><td>   6.087742</td><td>Control</td><td>54.48</td><td>F</td></tr>\n",
       "\t<tr><td>Br1187</td><td>0.0448704</td><td>-0.010094300</td><td> 0.08367170</td><td>-118.26207</td><td> 135.396577</td><td>  99.485657</td><td>  75.549284</td><td> -79.777910</td><td>-137.5115170</td><td> -13.735688</td><td>-148.5961914</td><td>  58.892746</td><td>-134.104676</td><td>Control</td><td>21.53</td><td>F</td></tr>\n",
       "\t<tr><td>Br1191</td><td>0.0388960</td><td>-0.003718460</td><td>-0.10430300</td><td> -86.63887</td><td>   2.274322</td><td> -57.012139</td><td> -85.902124</td><td>  -7.327336</td><td>-135.3069140</td><td> -23.040790</td><td>-115.0485452</td><td> -30.632212</td><td>  41.233688</td><td>Control</td><td>36.54</td><td>M</td></tr>\n",
       "\t<tr><td>⋮</td><td>⋮</td><td>⋮</td><td>⋮</td><td>⋮</td><td>⋮</td><td>⋮</td><td>⋮</td><td>⋮</td><td>⋮</td><td>⋮</td><td>⋮</td><td>⋮</td><td>⋮</td><td>⋮</td><td>⋮</td><td>⋮</td></tr>\n",
       "\t<tr><td>Br2377</td><td> 0.0399693</td><td>-0.002461130</td><td>-0.16181700</td><td> 568.2436927</td><td> 151.98160</td><td>  24.224698</td><td> 146.205567</td><td>-175.293756</td><td>  -4.106002</td><td> -74.4541810</td><td>-103.1465459</td><td>  70.923480</td><td>  13.427413</td><td>Control</td><td>56.60</td><td>F</td></tr>\n",
       "\t<tr><td>Br2481</td><td> 0.0666949</td><td>-0.015233600</td><td>-0.01405960</td><td> 181.0631628</td><td> -85.45608</td><td>-197.950169</td><td> -13.066476</td><td>  97.368546</td><td> 169.261572</td><td>  27.5894949</td><td> -11.0176105</td><td>  13.441787</td><td>  51.904510</td><td>SCZ    </td><td>53.95</td><td>M</td></tr>\n",
       "\t<tr><td>Br2494</td><td> 0.0572750</td><td> 0.003513130</td><td> 0.10894000</td><td>-115.0278460</td><td>-183.06844</td><td>  84.062748</td><td>  90.703448</td><td>  51.859864</td><td> -18.532131</td><td>  46.8250672</td><td> -52.3299361</td><td> -44.076332</td><td> -60.008764</td><td>SCZ    </td><td>57.38</td><td>M</td></tr>\n",
       "\t<tr><td>Br2509</td><td> 0.0480592</td><td> 0.008936070</td><td>-0.12922200</td><td>  -0.5203813</td><td>-118.04892</td><td>  40.881010</td><td>   7.651413</td><td>   8.351208</td><td>-129.163007</td><td>  15.8137252</td><td>  28.1569492</td><td>  14.967828</td><td>-110.038352</td><td>SCZ    </td><td>53.74</td><td>M</td></tr>\n",
       "\t<tr><td>Br2513</td><td> 0.0738631</td><td>-0.041546700</td><td>-0.00953264</td><td> -34.8071862</td><td>  38.01244</td><td> -60.877082</td><td>  30.562927</td><td>   0.771042</td><td> 160.847432</td><td>  50.7248844</td><td> -22.9818521</td><td>  -8.179409</td><td>  30.432238</td><td>Control</td><td>54.49</td><td>M</td></tr>\n",
       "\t<tr><td>Br2539</td><td> 0.0347875</td><td> 0.013910500</td><td> 0.12272600</td><td>  84.0481802</td><td>-128.45721</td><td>  -2.346579</td><td> 109.286934</td><td>  61.800659</td><td> 195.060022</td><td>   9.2368263</td><td>  94.5235356</td><td>  19.710779</td><td> -18.153138</td><td>Control</td><td>84.16</td><td>M</td></tr>\n",
       "\t<tr><td>Br2543</td><td> 0.0385986</td><td>-0.001759020</td><td>-0.12306600</td><td>-471.0305178</td><td> -61.17528</td><td> -86.878409</td><td> 140.973163</td><td>  24.404581</td><td> 164.365667</td><td> -10.0192763</td><td>   0.2805619</td><td>  12.044442</td><td>  47.869962</td><td>Control</td><td>50.47</td><td>M</td></tr>\n",
       "\t<tr><td>Br2585</td><td> 0.0643787</td><td> 0.020544000</td><td> 0.08945370</td><td> -73.6288124</td><td>-134.66022</td><td> -99.319464</td><td> -41.063818</td><td> -63.067969</td><td> -84.074281</td><td> -30.6329068</td><td>-147.2013213</td><td>  74.267748</td><td>  87.753996</td><td>SCZ    </td><td>33.35</td><td>F</td></tr>\n",
       "\t<tr><td>Br2587</td><td> 0.0566490</td><td> 0.009988680</td><td>-0.05260240</td><td>  50.5442559</td><td>-200.02331</td><td>  52.833989</td><td> 142.555258</td><td> 109.612235</td><td>  64.066404</td><td>  -2.4940065</td><td> -65.1774865</td><td> -31.712050</td><td> -23.498532</td><td>Control</td><td>50.55</td><td>M</td></tr>\n",
       "\t<tr><td>Br5073</td><td> 0.0270246</td><td> 0.040663600</td><td>-0.13523200</td><td>   3.1539200</td><td> -96.02476</td><td> -64.520561</td><td> 122.874316</td><td> 148.485395</td><td>  69.722156</td><td> -57.8378681</td><td>  27.2572053</td><td>   4.362553</td><td> -10.994444</td><td>SCZ    </td><td>62.61</td><td>M</td></tr>\n",
       "\t<tr><td>Br5179</td><td> 0.0365237</td><td>-0.006246130</td><td> 0.07617580</td><td> 398.7690215</td><td> -54.39231</td><td>  47.395556</td><td> 109.589004</td><td>  53.497125</td><td>  96.727713</td><td>-114.4952708</td><td>  98.8874787</td><td> 103.005007</td><td> -97.849057</td><td>SCZ    </td><td>53.04</td><td>M</td></tr>\n",
       "\t<tr><td>Br5259</td><td>-0.0071979</td><td> 0.037430500</td><td> 0.23405900</td><td> -51.4376082</td><td> 115.97746</td><td> 246.982020</td><td>  13.489526</td><td>  42.835790</td><td>  25.931177</td><td>  96.5436133</td><td> -42.4372213</td><td> -85.724704</td><td>  78.864930</td><td>Control</td><td>71.40</td><td>M</td></tr>\n",
       "\t<tr><td>Br5264</td><td> 0.0516258</td><td> 0.004709680</td><td>-0.09627520</td><td>-128.3294224</td><td>  73.30960</td><td>  37.383104</td><td> -11.615566</td><td> -82.369275</td><td>-182.644695</td><td> -15.5965121</td><td>-131.9237798</td><td>  22.865252</td><td> -92.278270</td><td>Control</td><td>21.69</td><td>F</td></tr>\n",
       "\t<tr><td>Br5295</td><td> 0.0534656</td><td> 0.013412000</td><td>-0.16616300</td><td> -84.5140281</td><td>-144.98740</td><td>  67.348963</td><td>  89.741345</td><td> -85.876630</td><td>  -0.307187</td><td>   1.1898360</td><td>  79.8268440</td><td> -91.966042</td><td> -11.853111</td><td>SCZ    </td><td>57.66</td><td>M</td></tr>\n",
       "\t<tr><td>Br5323</td><td> 0.0526506</td><td>-0.007224270</td><td> 0.13353900</td><td>  81.6235546</td><td> 139.97039</td><td>   9.566690</td><td>   8.325548</td><td> -37.516312</td><td> -20.088896</td><td> 104.4917830</td><td> -25.4263624</td><td> -37.659950</td><td> -31.724383</td><td>Control</td><td>34.57</td><td>M</td></tr>\n",
       "\t<tr><td>Br5330</td><td> 0.0461558</td><td> 0.028894000</td><td>-0.05992230</td><td>  24.6384004</td><td>-124.94884</td><td> 221.225984</td><td>  60.068455</td><td>  45.634528</td><td>  28.070166</td><td>  44.2495335</td><td> -34.1917151</td><td> -83.019138</td><td> -63.052639</td><td>Control</td><td>50.48</td><td>M</td></tr>\n",
       "\t<tr><td>Br5426</td><td> 0.0591279</td><td>-0.063085500</td><td>-0.11086300</td><td>   8.9909466</td><td> -15.09584</td><td> -41.236128</td><td>  34.979730</td><td>-267.437827</td><td> 233.251430</td><td>  62.4667145</td><td>  17.5107316</td><td>  78.235354</td><td>  70.700634</td><td>Control</td><td>48.75</td><td>F</td></tr>\n",
       "\t<tr><td>Br5460</td><td> 0.0567584</td><td>-0.000833689</td><td> 0.02434270</td><td> -12.6027842</td><td>-142.24915</td><td> -32.220323</td><td> -53.541838</td><td>-100.086875</td><td> -85.517584</td><td>  96.4453843</td><td> 179.8139252</td><td> -81.474238</td><td> -27.564712</td><td>Control</td><td>61.34</td><td>M</td></tr>\n",
       "\t<tr><td>Br5467</td><td> 0.0641493</td><td>-0.017884600</td><td> 0.09272560</td><td> -38.3934951</td><td>  20.11693</td><td>  24.494429</td><td> -77.458042</td><td> 226.048865</td><td>  11.953847</td><td> -54.0819663</td><td> -19.0590714</td><td>  30.563953</td><td>  -9.119516</td><td>SCZ    </td><td>47.52</td><td>M</td></tr>\n",
       "\t<tr><td>Br5475</td><td> 0.0547371</td><td> 0.043625900</td><td> 0.00407256</td><td> -55.6145522</td><td>-158.68819</td><td>-112.437049</td><td>-149.608647</td><td>  30.192305</td><td> -83.539166</td><td>   0.5563019</td><td> 200.9503042</td><td>  26.165385</td><td>-101.950876</td><td>SCZ    </td><td>60.64</td><td>M</td></tr>\n",
       "\t<tr><td>Br836 </td><td> 0.0602846</td><td> 0.026523300</td><td> 0.07498270</td><td>-241.8576942</td><td> 248.31645</td><td> 140.320737</td><td>-160.917515</td><td> 156.428331</td><td>-110.796163</td><td> -60.9012965</td><td> 183.7616975</td><td>-408.140889</td><td> 361.821534</td><td>Control</td><td>20.77</td><td>M</td></tr>\n",
       "\t<tr><td>Br845 </td><td> 0.0537185</td><td>-0.007675130</td><td> 0.08783630</td><td> -41.4112667</td><td> -64.86172</td><td>-117.108968</td><td> -83.724040</td><td> 137.504573</td><td> -25.415709</td><td>  23.2715340</td><td> -63.7362723</td><td>  18.571721</td><td> -64.095814</td><td>Control</td><td>24.79</td><td>M</td></tr>\n",
       "\t<tr><td>Br848 </td><td> 0.0681916</td><td> 0.004767710</td><td>-0.00207638</td><td>  39.3437077</td><td>  56.88340</td><td>   7.310866</td><td>  79.076122</td><td>  10.244427</td><td>-195.761741</td><td>-185.2188072</td><td> -57.8484560</td><td>  17.463961</td><td> -53.333885</td><td>Control</td><td>22.71</td><td>M</td></tr>\n",
       "\t<tr><td>Br863 </td><td> 0.0720192</td><td>-0.015803800</td><td>-0.01050100</td><td>   6.6755878</td><td>-230.09471</td><td> 108.663256</td><td>-107.048237</td><td> -23.159694</td><td> -40.083402</td><td> 160.9488009</td><td> -95.1625560</td><td>-151.535355</td><td> -21.737335</td><td>Control</td><td>43.85</td><td>M</td></tr>\n",
       "\t<tr><td>Br914 </td><td> 0.0550490</td><td> 0.000796254</td><td>-0.10311400</td><td>  34.8048517</td><td> 281.67150</td><td>   3.382999</td><td>  72.752227</td><td>   2.032968</td><td> -45.256259</td><td> -19.5338381</td><td>-142.0072767</td><td>  49.564513</td><td> -38.105417</td><td>Control</td><td>19.69</td><td>F</td></tr>\n",
       "\t<tr><td>Br948 </td><td> 0.0639954</td><td> 0.006954050</td><td>-0.01009030</td><td> 413.5858328</td><td>-263.70724</td><td>   4.226894</td><td>  89.551899</td><td>  99.992375</td><td>  49.852902</td><td> -83.6377294</td><td> -21.6177514</td><td>  60.497544</td><td> -77.511435</td><td>Control</td><td>45.91</td><td>M</td></tr>\n",
       "\t<tr><td>Br949 </td><td> 0.0712634</td><td>-0.027163600</td><td> 0.05720700</td><td>-200.9323240</td><td> 265.80379</td><td>  56.822449</td><td>  55.415802</td><td>  85.218312</td><td>  30.102630</td><td> -35.3541011</td><td>   8.8357769</td><td>  68.861625</td><td>-100.628741</td><td>Control</td><td>18.05</td><td>M</td></tr>\n",
       "\t<tr><td>Br963 </td><td> 0.0120633</td><td> 0.019051000</td><td>-0.08942830</td><td> -27.9224098</td><td>-144.83283</td><td> -66.482063</td><td>  -1.418709</td><td>-178.635914</td><td>  22.689742</td><td>  12.9027445</td><td>  43.0211946</td><td>  18.937604</td><td>  25.764371</td><td>SCZ    </td><td>62.63</td><td>F</td></tr>\n",
       "\t<tr><td>Br991 </td><td> 0.0436291</td><td> 0.010222700</td><td>-0.00784810</td><td> -42.0615635</td><td>-116.78523</td><td>-130.518346</td><td>-121.402176</td><td> 142.898647</td><td>-116.952419</td><td>  42.1390840</td><td> -77.1854613</td><td> -27.198678</td><td> -91.461009</td><td>Control</td><td>35.24</td><td>M</td></tr>\n",
       "\t<tr><td>Br993 </td><td> 0.0646887</td><td> 0.019784400</td><td>-0.05139970</td><td> -19.5100090</td><td>-109.27932</td><td> -76.972489</td><td> -29.740514</td><td> -91.028314</td><td>  -3.745881</td><td>  -8.2459140</td><td> -86.4329502</td><td>  20.175785</td><td>  54.411467</td><td>Control</td><td>30.48</td><td>F</td></tr>\n",
       "</tbody>\n",
       "</table>\n"
      ],
      "text/latex": [
       "A data.table: 164 × 17\n",
       "\\begin{tabular}{lllllllllllllllll}\n",
       " ID & genoPC1 & genoPC2 & genoPC3 & methPC1 & methPC2 & methPC3 & methPC4 & methPC5 & methPC6 & methPC7 & methPC8 & methPC9 & methPC10 & Dx & Age & Sex\\\\\n",
       " <chr> & <dbl> & <dbl> & <dbl> & <dbl> & <dbl> & <dbl> & <dbl> & <dbl> & <dbl> & <dbl> & <dbl> & <dbl> & <dbl> & <chr> & <dbl> & <chr>\\\\\n",
       "\\hline\n",
       "\t Br1003 & 0.0591231 & -0.039807700 &  0.02053080 & -157.04647 &   22.431504 &   -3.613153 &   28.587802 & -165.830789 &   15.4914042 &   27.347098 &   68.1463463 &  -83.144721 &   74.405523 & Control & 52.57 & F\\\\\n",
       "\t Br1004 & 0.0507512 &  0.016700300 & -0.02350190 & -207.97793 &   14.563873 &  -48.109417 &  -48.368597 &   65.479538 & -174.4362052 &  -40.363495 & -103.8133780 &   11.087242 &  -84.670514 & Control & 21.01 & M\\\\\n",
       "\t Br1007 & 0.0683202 &  0.005023590 & -0.05958990 &  119.29338 & -184.287037 & -127.987516 &    8.047659 &  100.518214 &  112.4048122 &  -44.079714 &  -13.3318373 &  109.550591 &   55.891996 & Control & 57.10 & M\\\\\n",
       "\t Br1017 & 0.0685061 & -0.008443570 & -0.01093240 &  148.35140 &  -89.715577 &  -97.742602 &    7.072870 &  -78.404717 &   77.0296173 &  -33.334885 &  -34.9482041 &   73.886328 &   65.622516 & Control & 48.42 & F\\\\\n",
       "\t Br1021 & 0.0596699 &  0.003678410 &  0.04795520 &  453.47100 & -132.387141 &   35.349695 &   80.759933 &  123.878599 &  -39.4338123 & -122.191818 &   64.6271242 &  -62.891067 &  -25.939892 & SCZ     & 63.18 & M\\\\\n",
       "\t Br1030 & 0.0166234 &  0.037136000 & -0.11683800 & -212.50562 &   -3.017152 &  -46.171785 &  -91.779986 &  -28.953074 &   -0.2483534 &   63.463302 &   10.9460093 &   62.956351 &    4.060549 & SCZ     & 49.65 & F\\\\\n",
       "\t Br1039 & 0.0372755 &  0.000920873 &  0.04261920 & -103.04318 &  -97.394092 &    6.394317 &    9.246365 & -153.099368 &  -57.4199032 &  -21.466761 &   61.2001242 &    4.913690 &   18.458765 & Control & 51.45 & F\\\\\n",
       "\t Br1040 & 0.0418527 & -0.041008900 & -0.00594927 & -651.74144 &  243.329728 & -234.910289 &  -21.365701 &  137.855050 & -107.1335278 &   -9.355704 &  -32.7974052 &   51.679802 &  -82.487019 & Control & 20.93 & M\\\\\n",
       "\t Br1050 & 0.0667423 & -0.029448500 & -0.06359590 & -346.35535 &  148.209663 & -322.522824 &  -64.676761 &  121.759943 &  -70.2543686 &    2.514280 &   30.8563428 &  -19.582689 &  -27.813140 & SCZ     & 41.25 & M\\\\\n",
       "\t Br1053 & 0.0545700 &  0.010893500 & -0.00503420 &   14.25498 & -218.737504 & -116.037699 &  -46.148580 &  -61.733453 &  -40.1747788 &  -36.466078 &  -77.0255876 &   22.668648 &   28.637638 & Control & 40.18 & F\\\\\n",
       "\t Br1054 & 0.0332241 &  0.017995200 & -0.04943730 &  774.63116 &  242.469130 & -104.806579 &  112.814288 &   12.699447 &  136.6050191 &   46.175255 &  -21.3814211 &  -48.937389 &  -22.004186 & Control & 58.48 & M\\\\\n",
       "\t Br1056 & 0.0618984 & -0.023353300 &  0.04164780 &  203.15099 & -160.030786 &   -9.528087 &   57.690104 &  100.357240 &  153.6498301 &   17.411171 &   59.8056951 &   65.862125 &  -22.696183 & Control & 48.66 & M\\\\\n",
       "\t Br1067 & 0.0143833 &  0.038102000 & -0.01583960 & -221.40899 & -112.953999 &  -58.332883 &  -12.299914 &   60.242272 &  -81.4366823 &   22.421371 &  -17.5407090 &   11.036222 & -104.406567 & SCZ     & 75.57 & M\\\\\n",
       "\t Br1069 & 0.0684744 &  0.008516790 & -0.05033340 &   58.63272 & -207.058051 &  229.767251 &  121.798472 & -156.910068 &  -63.3180131 &  -39.249847 &   52.7269230 &  -13.666163 &   39.776181 & Control & 59.58 & F\\\\\n",
       "\t Br1081 & 0.0389105 &  0.011763800 & -0.01286800 & -175.57313 & -184.149242 &  -29.558267 &  126.310124 &   31.466216 &  115.3960460 &  -94.021767 &    4.2601717 &  -42.418487 &   67.555466 & SCZ     & 58.09 & M\\\\\n",
       "\t Br1084 & 0.0674246 &  0.016551200 & -0.01582100 &  116.19473 &  -30.816511 &  328.516578 & -151.729366 &   89.175238 &  -41.5699130 &  -43.722753 & -148.8412092 &  165.907343 &   18.474209 & SCZ     & 48.93 & F\\\\\n",
       "\t Br1102 & 0.0689186 & -0.009428380 &  0.00359921 & -169.56123 &  -11.235778 &  -50.164651 &   33.826086 &   53.102836 &   16.7075391 &  -84.067065 &  137.9719334 &  -36.027093 &   35.036245 & SCZ     & 46.47 & M\\\\\n",
       "\t Br1122 & 0.0532758 &  0.006862260 &  0.08881960 &  388.38408 &   11.157270 & -352.975866 & -244.452555 &   98.239509 &  -89.0380241 &    6.257570 &  188.6164745 &  -19.054937 &  -39.290505 & Control & 48.61 & M\\\\\n",
       "\t Br1134 & 0.0312242 &  0.016365300 &  0.05139930 &  461.68479 &  236.252001 & -244.564206 &  -49.439873 &  -48.102597 &   29.7295860 &  -33.884269 & -117.6843231 &   79.101556 &   85.537008 & Control & 36.48 & F\\\\\n",
       "\t Br1135 & 0.0443159 & -0.004031030 &  0.03944810 &  187.34590 &  -66.730027 &  -45.973772 &  -19.362323 &  163.963305 &  -48.4467355 &  -18.505958 & -122.7640427 &   -8.194399 &  -27.061954 & Control & 60.35 & M\\\\\n",
       "\t Br1137 & 0.0512178 & -0.008132730 &  0.00414662 & -235.60834 &  -97.241925 &  -67.142546 &  -30.347265 & -129.897060 &   37.0909392 &    7.558666 &  174.2390575 &    8.593552 &  -39.000885 & Control & 68.54 & M\\\\\n",
       "\t Br1148 & 0.0657928 &  0.015143700 & -0.08391730 & -353.16683 &   79.304101 & -197.351043 &  -19.101227 &  -38.671370 &  -39.2370851 &   13.205034 &   40.9461178 &  -12.939777 &  -46.063974 & Control & 29.97 & M\\\\\n",
       "\t Br1156 & 0.0551191 &  0.002750920 &  0.01901670 & -435.51760 &  154.698532 &  109.571056 &   34.996561 &  -56.036963 &   78.5901674 &   79.653026 &   43.8381790 &    2.017984 &    3.433720 & Control & 53.86 & F\\\\\n",
       "\t Br1157 & 0.0687824 & -0.016698600 &  0.01878520 &   62.48916 &   99.370928 & -114.584049 &   30.640967 &  -69.959796 &   70.2113358 &   94.575184 &   61.4775604 &  -34.592651 &  -63.669566 & Control & 60.70 & M\\\\\n",
       "\t Br1160 & 0.0463301 &  0.040159500 & -0.05176610 &   16.68765 &  -37.636483 &  162.292774 &   31.330967 &  -74.862236 &  -74.0879304 &  101.410070 &  -24.3863793 & -100.607302 &  -58.379287 & Control & 73.23 & M\\\\\n",
       "\t Br1164 & 0.0578878 & -0.022999400 & -0.05662810 &  171.51858 & -189.519274 &  179.963318 & -121.535089 &   40.634218 &   65.5828286 &   84.582765 & -223.2700548 &   35.242893 &   20.682786 & Control & 48.10 & F\\\\\n",
       "\t Br1167 & 0.0352138 & -0.100051000 &  0.11720000 &  439.12042 &  150.633039 & -127.493286 &   13.929089 &   15.352493 &  -37.2411043 &   47.448766 &   65.5329304 &   14.757962 &  -83.259221 & Control & 45.86 & M\\\\\n",
       "\t Br1185 & 0.0553348 & -0.003555220 & -0.02148240 &  -67.86175 &  -50.281986 &  -11.565901 &   62.340768 &  -56.298584 &  -74.8984018 &  -53.536016 &    0.6982585 &  -38.995814 &    6.087742 & Control & 54.48 & F\\\\\n",
       "\t Br1187 & 0.0448704 & -0.010094300 &  0.08367170 & -118.26207 &  135.396577 &   99.485657 &   75.549284 &  -79.777910 & -137.5115170 &  -13.735688 & -148.5961914 &   58.892746 & -134.104676 & Control & 21.53 & F\\\\\n",
       "\t Br1191 & 0.0388960 & -0.003718460 & -0.10430300 &  -86.63887 &    2.274322 &  -57.012139 &  -85.902124 &   -7.327336 & -135.3069140 &  -23.040790 & -115.0485452 &  -30.632212 &   41.233688 & Control & 36.54 & M\\\\\n",
       "\t ⋮ & ⋮ & ⋮ & ⋮ & ⋮ & ⋮ & ⋮ & ⋮ & ⋮ & ⋮ & ⋮ & ⋮ & ⋮ & ⋮ & ⋮ & ⋮ & ⋮\\\\\n",
       "\t Br2377 &  0.0399693 & -0.002461130 & -0.16181700 &  568.2436927 &  151.98160 &   24.224698 &  146.205567 & -175.293756 &   -4.106002 &  -74.4541810 & -103.1465459 &   70.923480 &   13.427413 & Control & 56.60 & F\\\\\n",
       "\t Br2481 &  0.0666949 & -0.015233600 & -0.01405960 &  181.0631628 &  -85.45608 & -197.950169 &  -13.066476 &   97.368546 &  169.261572 &   27.5894949 &  -11.0176105 &   13.441787 &   51.904510 & SCZ     & 53.95 & M\\\\\n",
       "\t Br2494 &  0.0572750 &  0.003513130 &  0.10894000 & -115.0278460 & -183.06844 &   84.062748 &   90.703448 &   51.859864 &  -18.532131 &   46.8250672 &  -52.3299361 &  -44.076332 &  -60.008764 & SCZ     & 57.38 & M\\\\\n",
       "\t Br2509 &  0.0480592 &  0.008936070 & -0.12922200 &   -0.5203813 & -118.04892 &   40.881010 &    7.651413 &    8.351208 & -129.163007 &   15.8137252 &   28.1569492 &   14.967828 & -110.038352 & SCZ     & 53.74 & M\\\\\n",
       "\t Br2513 &  0.0738631 & -0.041546700 & -0.00953264 &  -34.8071862 &   38.01244 &  -60.877082 &   30.562927 &    0.771042 &  160.847432 &   50.7248844 &  -22.9818521 &   -8.179409 &   30.432238 & Control & 54.49 & M\\\\\n",
       "\t Br2539 &  0.0347875 &  0.013910500 &  0.12272600 &   84.0481802 & -128.45721 &   -2.346579 &  109.286934 &   61.800659 &  195.060022 &    9.2368263 &   94.5235356 &   19.710779 &  -18.153138 & Control & 84.16 & M\\\\\n",
       "\t Br2543 &  0.0385986 & -0.001759020 & -0.12306600 & -471.0305178 &  -61.17528 &  -86.878409 &  140.973163 &   24.404581 &  164.365667 &  -10.0192763 &    0.2805619 &   12.044442 &   47.869962 & Control & 50.47 & M\\\\\n",
       "\t Br2585 &  0.0643787 &  0.020544000 &  0.08945370 &  -73.6288124 & -134.66022 &  -99.319464 &  -41.063818 &  -63.067969 &  -84.074281 &  -30.6329068 & -147.2013213 &   74.267748 &   87.753996 & SCZ     & 33.35 & F\\\\\n",
       "\t Br2587 &  0.0566490 &  0.009988680 & -0.05260240 &   50.5442559 & -200.02331 &   52.833989 &  142.555258 &  109.612235 &   64.066404 &   -2.4940065 &  -65.1774865 &  -31.712050 &  -23.498532 & Control & 50.55 & M\\\\\n",
       "\t Br5073 &  0.0270246 &  0.040663600 & -0.13523200 &    3.1539200 &  -96.02476 &  -64.520561 &  122.874316 &  148.485395 &   69.722156 &  -57.8378681 &   27.2572053 &    4.362553 &  -10.994444 & SCZ     & 62.61 & M\\\\\n",
       "\t Br5179 &  0.0365237 & -0.006246130 &  0.07617580 &  398.7690215 &  -54.39231 &   47.395556 &  109.589004 &   53.497125 &   96.727713 & -114.4952708 &   98.8874787 &  103.005007 &  -97.849057 & SCZ     & 53.04 & M\\\\\n",
       "\t Br5259 & -0.0071979 &  0.037430500 &  0.23405900 &  -51.4376082 &  115.97746 &  246.982020 &   13.489526 &   42.835790 &   25.931177 &   96.5436133 &  -42.4372213 &  -85.724704 &   78.864930 & Control & 71.40 & M\\\\\n",
       "\t Br5264 &  0.0516258 &  0.004709680 & -0.09627520 & -128.3294224 &   73.30960 &   37.383104 &  -11.615566 &  -82.369275 & -182.644695 &  -15.5965121 & -131.9237798 &   22.865252 &  -92.278270 & Control & 21.69 & F\\\\\n",
       "\t Br5295 &  0.0534656 &  0.013412000 & -0.16616300 &  -84.5140281 & -144.98740 &   67.348963 &   89.741345 &  -85.876630 &   -0.307187 &    1.1898360 &   79.8268440 &  -91.966042 &  -11.853111 & SCZ     & 57.66 & M\\\\\n",
       "\t Br5323 &  0.0526506 & -0.007224270 &  0.13353900 &   81.6235546 &  139.97039 &    9.566690 &    8.325548 &  -37.516312 &  -20.088896 &  104.4917830 &  -25.4263624 &  -37.659950 &  -31.724383 & Control & 34.57 & M\\\\\n",
       "\t Br5330 &  0.0461558 &  0.028894000 & -0.05992230 &   24.6384004 & -124.94884 &  221.225984 &   60.068455 &   45.634528 &   28.070166 &   44.2495335 &  -34.1917151 &  -83.019138 &  -63.052639 & Control & 50.48 & M\\\\\n",
       "\t Br5426 &  0.0591279 & -0.063085500 & -0.11086300 &    8.9909466 &  -15.09584 &  -41.236128 &   34.979730 & -267.437827 &  233.251430 &   62.4667145 &   17.5107316 &   78.235354 &   70.700634 & Control & 48.75 & F\\\\\n",
       "\t Br5460 &  0.0567584 & -0.000833689 &  0.02434270 &  -12.6027842 & -142.24915 &  -32.220323 &  -53.541838 & -100.086875 &  -85.517584 &   96.4453843 &  179.8139252 &  -81.474238 &  -27.564712 & Control & 61.34 & M\\\\\n",
       "\t Br5467 &  0.0641493 & -0.017884600 &  0.09272560 &  -38.3934951 &   20.11693 &   24.494429 &  -77.458042 &  226.048865 &   11.953847 &  -54.0819663 &  -19.0590714 &   30.563953 &   -9.119516 & SCZ     & 47.52 & M\\\\\n",
       "\t Br5475 &  0.0547371 &  0.043625900 &  0.00407256 &  -55.6145522 & -158.68819 & -112.437049 & -149.608647 &   30.192305 &  -83.539166 &    0.5563019 &  200.9503042 &   26.165385 & -101.950876 & SCZ     & 60.64 & M\\\\\n",
       "\t Br836  &  0.0602846 &  0.026523300 &  0.07498270 & -241.8576942 &  248.31645 &  140.320737 & -160.917515 &  156.428331 & -110.796163 &  -60.9012965 &  183.7616975 & -408.140889 &  361.821534 & Control & 20.77 & M\\\\\n",
       "\t Br845  &  0.0537185 & -0.007675130 &  0.08783630 &  -41.4112667 &  -64.86172 & -117.108968 &  -83.724040 &  137.504573 &  -25.415709 &   23.2715340 &  -63.7362723 &   18.571721 &  -64.095814 & Control & 24.79 & M\\\\\n",
       "\t Br848  &  0.0681916 &  0.004767710 & -0.00207638 &   39.3437077 &   56.88340 &    7.310866 &   79.076122 &   10.244427 & -195.761741 & -185.2188072 &  -57.8484560 &   17.463961 &  -53.333885 & Control & 22.71 & M\\\\\n",
       "\t Br863  &  0.0720192 & -0.015803800 & -0.01050100 &    6.6755878 & -230.09471 &  108.663256 & -107.048237 &  -23.159694 &  -40.083402 &  160.9488009 &  -95.1625560 & -151.535355 &  -21.737335 & Control & 43.85 & M\\\\\n",
       "\t Br914  &  0.0550490 &  0.000796254 & -0.10311400 &   34.8048517 &  281.67150 &    3.382999 &   72.752227 &    2.032968 &  -45.256259 &  -19.5338381 & -142.0072767 &   49.564513 &  -38.105417 & Control & 19.69 & F\\\\\n",
       "\t Br948  &  0.0639954 &  0.006954050 & -0.01009030 &  413.5858328 & -263.70724 &    4.226894 &   89.551899 &   99.992375 &   49.852902 &  -83.6377294 &  -21.6177514 &   60.497544 &  -77.511435 & Control & 45.91 & M\\\\\n",
       "\t Br949  &  0.0712634 & -0.027163600 &  0.05720700 & -200.9323240 &  265.80379 &   56.822449 &   55.415802 &   85.218312 &   30.102630 &  -35.3541011 &    8.8357769 &   68.861625 & -100.628741 & Control & 18.05 & M\\\\\n",
       "\t Br963  &  0.0120633 &  0.019051000 & -0.08942830 &  -27.9224098 & -144.83283 &  -66.482063 &   -1.418709 & -178.635914 &   22.689742 &   12.9027445 &   43.0211946 &   18.937604 &   25.764371 & SCZ     & 62.63 & F\\\\\n",
       "\t Br991  &  0.0436291 &  0.010222700 & -0.00784810 &  -42.0615635 & -116.78523 & -130.518346 & -121.402176 &  142.898647 & -116.952419 &   42.1390840 &  -77.1854613 &  -27.198678 &  -91.461009 & Control & 35.24 & M\\\\\n",
       "\t Br993  &  0.0646887 &  0.019784400 & -0.05139970 &  -19.5100090 & -109.27932 &  -76.972489 &  -29.740514 &  -91.028314 &   -3.745881 &   -8.2459140 &  -86.4329502 &   20.175785 &   54.411467 & Control & 30.48 & F\\\\\n",
       "\\end{tabular}\n"
      ],
      "text/markdown": [
       "\n",
       "A data.table: 164 × 17\n",
       "\n",
       "| ID &lt;chr&gt; | genoPC1 &lt;dbl&gt; | genoPC2 &lt;dbl&gt; | genoPC3 &lt;dbl&gt; | methPC1 &lt;dbl&gt; | methPC2 &lt;dbl&gt; | methPC3 &lt;dbl&gt; | methPC4 &lt;dbl&gt; | methPC5 &lt;dbl&gt; | methPC6 &lt;dbl&gt; | methPC7 &lt;dbl&gt; | methPC8 &lt;dbl&gt; | methPC9 &lt;dbl&gt; | methPC10 &lt;dbl&gt; | Dx &lt;chr&gt; | Age &lt;dbl&gt; | Sex &lt;chr&gt; |\n",
       "|---|---|---|---|---|---|---|---|---|---|---|---|---|---|---|---|---|\n",
       "| Br1003 | 0.0591231 | -0.039807700 |  0.02053080 | -157.04647 |   22.431504 |   -3.613153 |   28.587802 | -165.830789 |   15.4914042 |   27.347098 |   68.1463463 |  -83.144721 |   74.405523 | Control | 52.57 | F |\n",
       "| Br1004 | 0.0507512 |  0.016700300 | -0.02350190 | -207.97793 |   14.563873 |  -48.109417 |  -48.368597 |   65.479538 | -174.4362052 |  -40.363495 | -103.8133780 |   11.087242 |  -84.670514 | Control | 21.01 | M |\n",
       "| Br1007 | 0.0683202 |  0.005023590 | -0.05958990 |  119.29338 | -184.287037 | -127.987516 |    8.047659 |  100.518214 |  112.4048122 |  -44.079714 |  -13.3318373 |  109.550591 |   55.891996 | Control | 57.10 | M |\n",
       "| Br1017 | 0.0685061 | -0.008443570 | -0.01093240 |  148.35140 |  -89.715577 |  -97.742602 |    7.072870 |  -78.404717 |   77.0296173 |  -33.334885 |  -34.9482041 |   73.886328 |   65.622516 | Control | 48.42 | F |\n",
       "| Br1021 | 0.0596699 |  0.003678410 |  0.04795520 |  453.47100 | -132.387141 |   35.349695 |   80.759933 |  123.878599 |  -39.4338123 | -122.191818 |   64.6271242 |  -62.891067 |  -25.939892 | SCZ     | 63.18 | M |\n",
       "| Br1030 | 0.0166234 |  0.037136000 | -0.11683800 | -212.50562 |   -3.017152 |  -46.171785 |  -91.779986 |  -28.953074 |   -0.2483534 |   63.463302 |   10.9460093 |   62.956351 |    4.060549 | SCZ     | 49.65 | F |\n",
       "| Br1039 | 0.0372755 |  0.000920873 |  0.04261920 | -103.04318 |  -97.394092 |    6.394317 |    9.246365 | -153.099368 |  -57.4199032 |  -21.466761 |   61.2001242 |    4.913690 |   18.458765 | Control | 51.45 | F |\n",
       "| Br1040 | 0.0418527 | -0.041008900 | -0.00594927 | -651.74144 |  243.329728 | -234.910289 |  -21.365701 |  137.855050 | -107.1335278 |   -9.355704 |  -32.7974052 |   51.679802 |  -82.487019 | Control | 20.93 | M |\n",
       "| Br1050 | 0.0667423 | -0.029448500 | -0.06359590 | -346.35535 |  148.209663 | -322.522824 |  -64.676761 |  121.759943 |  -70.2543686 |    2.514280 |   30.8563428 |  -19.582689 |  -27.813140 | SCZ     | 41.25 | M |\n",
       "| Br1053 | 0.0545700 |  0.010893500 | -0.00503420 |   14.25498 | -218.737504 | -116.037699 |  -46.148580 |  -61.733453 |  -40.1747788 |  -36.466078 |  -77.0255876 |   22.668648 |   28.637638 | Control | 40.18 | F |\n",
       "| Br1054 | 0.0332241 |  0.017995200 | -0.04943730 |  774.63116 |  242.469130 | -104.806579 |  112.814288 |   12.699447 |  136.6050191 |   46.175255 |  -21.3814211 |  -48.937389 |  -22.004186 | Control | 58.48 | M |\n",
       "| Br1056 | 0.0618984 | -0.023353300 |  0.04164780 |  203.15099 | -160.030786 |   -9.528087 |   57.690104 |  100.357240 |  153.6498301 |   17.411171 |   59.8056951 |   65.862125 |  -22.696183 | Control | 48.66 | M |\n",
       "| Br1067 | 0.0143833 |  0.038102000 | -0.01583960 | -221.40899 | -112.953999 |  -58.332883 |  -12.299914 |   60.242272 |  -81.4366823 |   22.421371 |  -17.5407090 |   11.036222 | -104.406567 | SCZ     | 75.57 | M |\n",
       "| Br1069 | 0.0684744 |  0.008516790 | -0.05033340 |   58.63272 | -207.058051 |  229.767251 |  121.798472 | -156.910068 |  -63.3180131 |  -39.249847 |   52.7269230 |  -13.666163 |   39.776181 | Control | 59.58 | F |\n",
       "| Br1081 | 0.0389105 |  0.011763800 | -0.01286800 | -175.57313 | -184.149242 |  -29.558267 |  126.310124 |   31.466216 |  115.3960460 |  -94.021767 |    4.2601717 |  -42.418487 |   67.555466 | SCZ     | 58.09 | M |\n",
       "| Br1084 | 0.0674246 |  0.016551200 | -0.01582100 |  116.19473 |  -30.816511 |  328.516578 | -151.729366 |   89.175238 |  -41.5699130 |  -43.722753 | -148.8412092 |  165.907343 |   18.474209 | SCZ     | 48.93 | F |\n",
       "| Br1102 | 0.0689186 | -0.009428380 |  0.00359921 | -169.56123 |  -11.235778 |  -50.164651 |   33.826086 |   53.102836 |   16.7075391 |  -84.067065 |  137.9719334 |  -36.027093 |   35.036245 | SCZ     | 46.47 | M |\n",
       "| Br1122 | 0.0532758 |  0.006862260 |  0.08881960 |  388.38408 |   11.157270 | -352.975866 | -244.452555 |   98.239509 |  -89.0380241 |    6.257570 |  188.6164745 |  -19.054937 |  -39.290505 | Control | 48.61 | M |\n",
       "| Br1134 | 0.0312242 |  0.016365300 |  0.05139930 |  461.68479 |  236.252001 | -244.564206 |  -49.439873 |  -48.102597 |   29.7295860 |  -33.884269 | -117.6843231 |   79.101556 |   85.537008 | Control | 36.48 | F |\n",
       "| Br1135 | 0.0443159 | -0.004031030 |  0.03944810 |  187.34590 |  -66.730027 |  -45.973772 |  -19.362323 |  163.963305 |  -48.4467355 |  -18.505958 | -122.7640427 |   -8.194399 |  -27.061954 | Control | 60.35 | M |\n",
       "| Br1137 | 0.0512178 | -0.008132730 |  0.00414662 | -235.60834 |  -97.241925 |  -67.142546 |  -30.347265 | -129.897060 |   37.0909392 |    7.558666 |  174.2390575 |    8.593552 |  -39.000885 | Control | 68.54 | M |\n",
       "| Br1148 | 0.0657928 |  0.015143700 | -0.08391730 | -353.16683 |   79.304101 | -197.351043 |  -19.101227 |  -38.671370 |  -39.2370851 |   13.205034 |   40.9461178 |  -12.939777 |  -46.063974 | Control | 29.97 | M |\n",
       "| Br1156 | 0.0551191 |  0.002750920 |  0.01901670 | -435.51760 |  154.698532 |  109.571056 |   34.996561 |  -56.036963 |   78.5901674 |   79.653026 |   43.8381790 |    2.017984 |    3.433720 | Control | 53.86 | F |\n",
       "| Br1157 | 0.0687824 | -0.016698600 |  0.01878520 |   62.48916 |   99.370928 | -114.584049 |   30.640967 |  -69.959796 |   70.2113358 |   94.575184 |   61.4775604 |  -34.592651 |  -63.669566 | Control | 60.70 | M |\n",
       "| Br1160 | 0.0463301 |  0.040159500 | -0.05176610 |   16.68765 |  -37.636483 |  162.292774 |   31.330967 |  -74.862236 |  -74.0879304 |  101.410070 |  -24.3863793 | -100.607302 |  -58.379287 | Control | 73.23 | M |\n",
       "| Br1164 | 0.0578878 | -0.022999400 | -0.05662810 |  171.51858 | -189.519274 |  179.963318 | -121.535089 |   40.634218 |   65.5828286 |   84.582765 | -223.2700548 |   35.242893 |   20.682786 | Control | 48.10 | F |\n",
       "| Br1167 | 0.0352138 | -0.100051000 |  0.11720000 |  439.12042 |  150.633039 | -127.493286 |   13.929089 |   15.352493 |  -37.2411043 |   47.448766 |   65.5329304 |   14.757962 |  -83.259221 | Control | 45.86 | M |\n",
       "| Br1185 | 0.0553348 | -0.003555220 | -0.02148240 |  -67.86175 |  -50.281986 |  -11.565901 |   62.340768 |  -56.298584 |  -74.8984018 |  -53.536016 |    0.6982585 |  -38.995814 |    6.087742 | Control | 54.48 | F |\n",
       "| Br1187 | 0.0448704 | -0.010094300 |  0.08367170 | -118.26207 |  135.396577 |   99.485657 |   75.549284 |  -79.777910 | -137.5115170 |  -13.735688 | -148.5961914 |   58.892746 | -134.104676 | Control | 21.53 | F |\n",
       "| Br1191 | 0.0388960 | -0.003718460 | -0.10430300 |  -86.63887 |    2.274322 |  -57.012139 |  -85.902124 |   -7.327336 | -135.3069140 |  -23.040790 | -115.0485452 |  -30.632212 |   41.233688 | Control | 36.54 | M |\n",
       "| ⋮ | ⋮ | ⋮ | ⋮ | ⋮ | ⋮ | ⋮ | ⋮ | ⋮ | ⋮ | ⋮ | ⋮ | ⋮ | ⋮ | ⋮ | ⋮ | ⋮ |\n",
       "| Br2377 |  0.0399693 | -0.002461130 | -0.16181700 |  568.2436927 |  151.98160 |   24.224698 |  146.205567 | -175.293756 |   -4.106002 |  -74.4541810 | -103.1465459 |   70.923480 |   13.427413 | Control | 56.60 | F |\n",
       "| Br2481 |  0.0666949 | -0.015233600 | -0.01405960 |  181.0631628 |  -85.45608 | -197.950169 |  -13.066476 |   97.368546 |  169.261572 |   27.5894949 |  -11.0176105 |   13.441787 |   51.904510 | SCZ     | 53.95 | M |\n",
       "| Br2494 |  0.0572750 |  0.003513130 |  0.10894000 | -115.0278460 | -183.06844 |   84.062748 |   90.703448 |   51.859864 |  -18.532131 |   46.8250672 |  -52.3299361 |  -44.076332 |  -60.008764 | SCZ     | 57.38 | M |\n",
       "| Br2509 |  0.0480592 |  0.008936070 | -0.12922200 |   -0.5203813 | -118.04892 |   40.881010 |    7.651413 |    8.351208 | -129.163007 |   15.8137252 |   28.1569492 |   14.967828 | -110.038352 | SCZ     | 53.74 | M |\n",
       "| Br2513 |  0.0738631 | -0.041546700 | -0.00953264 |  -34.8071862 |   38.01244 |  -60.877082 |   30.562927 |    0.771042 |  160.847432 |   50.7248844 |  -22.9818521 |   -8.179409 |   30.432238 | Control | 54.49 | M |\n",
       "| Br2539 |  0.0347875 |  0.013910500 |  0.12272600 |   84.0481802 | -128.45721 |   -2.346579 |  109.286934 |   61.800659 |  195.060022 |    9.2368263 |   94.5235356 |   19.710779 |  -18.153138 | Control | 84.16 | M |\n",
       "| Br2543 |  0.0385986 | -0.001759020 | -0.12306600 | -471.0305178 |  -61.17528 |  -86.878409 |  140.973163 |   24.404581 |  164.365667 |  -10.0192763 |    0.2805619 |   12.044442 |   47.869962 | Control | 50.47 | M |\n",
       "| Br2585 |  0.0643787 |  0.020544000 |  0.08945370 |  -73.6288124 | -134.66022 |  -99.319464 |  -41.063818 |  -63.067969 |  -84.074281 |  -30.6329068 | -147.2013213 |   74.267748 |   87.753996 | SCZ     | 33.35 | F |\n",
       "| Br2587 |  0.0566490 |  0.009988680 | -0.05260240 |   50.5442559 | -200.02331 |   52.833989 |  142.555258 |  109.612235 |   64.066404 |   -2.4940065 |  -65.1774865 |  -31.712050 |  -23.498532 | Control | 50.55 | M |\n",
       "| Br5073 |  0.0270246 |  0.040663600 | -0.13523200 |    3.1539200 |  -96.02476 |  -64.520561 |  122.874316 |  148.485395 |   69.722156 |  -57.8378681 |   27.2572053 |    4.362553 |  -10.994444 | SCZ     | 62.61 | M |\n",
       "| Br5179 |  0.0365237 | -0.006246130 |  0.07617580 |  398.7690215 |  -54.39231 |   47.395556 |  109.589004 |   53.497125 |   96.727713 | -114.4952708 |   98.8874787 |  103.005007 |  -97.849057 | SCZ     | 53.04 | M |\n",
       "| Br5259 | -0.0071979 |  0.037430500 |  0.23405900 |  -51.4376082 |  115.97746 |  246.982020 |   13.489526 |   42.835790 |   25.931177 |   96.5436133 |  -42.4372213 |  -85.724704 |   78.864930 | Control | 71.40 | M |\n",
       "| Br5264 |  0.0516258 |  0.004709680 | -0.09627520 | -128.3294224 |   73.30960 |   37.383104 |  -11.615566 |  -82.369275 | -182.644695 |  -15.5965121 | -131.9237798 |   22.865252 |  -92.278270 | Control | 21.69 | F |\n",
       "| Br5295 |  0.0534656 |  0.013412000 | -0.16616300 |  -84.5140281 | -144.98740 |   67.348963 |   89.741345 |  -85.876630 |   -0.307187 |    1.1898360 |   79.8268440 |  -91.966042 |  -11.853111 | SCZ     | 57.66 | M |\n",
       "| Br5323 |  0.0526506 | -0.007224270 |  0.13353900 |   81.6235546 |  139.97039 |    9.566690 |    8.325548 |  -37.516312 |  -20.088896 |  104.4917830 |  -25.4263624 |  -37.659950 |  -31.724383 | Control | 34.57 | M |\n",
       "| Br5330 |  0.0461558 |  0.028894000 | -0.05992230 |   24.6384004 | -124.94884 |  221.225984 |   60.068455 |   45.634528 |   28.070166 |   44.2495335 |  -34.1917151 |  -83.019138 |  -63.052639 | Control | 50.48 | M |\n",
       "| Br5426 |  0.0591279 | -0.063085500 | -0.11086300 |    8.9909466 |  -15.09584 |  -41.236128 |   34.979730 | -267.437827 |  233.251430 |   62.4667145 |   17.5107316 |   78.235354 |   70.700634 | Control | 48.75 | F |\n",
       "| Br5460 |  0.0567584 | -0.000833689 |  0.02434270 |  -12.6027842 | -142.24915 |  -32.220323 |  -53.541838 | -100.086875 |  -85.517584 |   96.4453843 |  179.8139252 |  -81.474238 |  -27.564712 | Control | 61.34 | M |\n",
       "| Br5467 |  0.0641493 | -0.017884600 |  0.09272560 |  -38.3934951 |   20.11693 |   24.494429 |  -77.458042 |  226.048865 |   11.953847 |  -54.0819663 |  -19.0590714 |   30.563953 |   -9.119516 | SCZ     | 47.52 | M |\n",
       "| Br5475 |  0.0547371 |  0.043625900 |  0.00407256 |  -55.6145522 | -158.68819 | -112.437049 | -149.608647 |   30.192305 |  -83.539166 |    0.5563019 |  200.9503042 |   26.165385 | -101.950876 | SCZ     | 60.64 | M |\n",
       "| Br836  |  0.0602846 |  0.026523300 |  0.07498270 | -241.8576942 |  248.31645 |  140.320737 | -160.917515 |  156.428331 | -110.796163 |  -60.9012965 |  183.7616975 | -408.140889 |  361.821534 | Control | 20.77 | M |\n",
       "| Br845  |  0.0537185 | -0.007675130 |  0.08783630 |  -41.4112667 |  -64.86172 | -117.108968 |  -83.724040 |  137.504573 |  -25.415709 |   23.2715340 |  -63.7362723 |   18.571721 |  -64.095814 | Control | 24.79 | M |\n",
       "| Br848  |  0.0681916 |  0.004767710 | -0.00207638 |   39.3437077 |   56.88340 |    7.310866 |   79.076122 |   10.244427 | -195.761741 | -185.2188072 |  -57.8484560 |   17.463961 |  -53.333885 | Control | 22.71 | M |\n",
       "| Br863  |  0.0720192 | -0.015803800 | -0.01050100 |    6.6755878 | -230.09471 |  108.663256 | -107.048237 |  -23.159694 |  -40.083402 |  160.9488009 |  -95.1625560 | -151.535355 |  -21.737335 | Control | 43.85 | M |\n",
       "| Br914  |  0.0550490 |  0.000796254 | -0.10311400 |   34.8048517 |  281.67150 |    3.382999 |   72.752227 |    2.032968 |  -45.256259 |  -19.5338381 | -142.0072767 |   49.564513 |  -38.105417 | Control | 19.69 | F |\n",
       "| Br948  |  0.0639954 |  0.006954050 | -0.01009030 |  413.5858328 | -263.70724 |    4.226894 |   89.551899 |   99.992375 |   49.852902 |  -83.6377294 |  -21.6177514 |   60.497544 |  -77.511435 | Control | 45.91 | M |\n",
       "| Br949  |  0.0712634 | -0.027163600 |  0.05720700 | -200.9323240 |  265.80379 |   56.822449 |   55.415802 |   85.218312 |   30.102630 |  -35.3541011 |    8.8357769 |   68.861625 | -100.628741 | Control | 18.05 | M |\n",
       "| Br963  |  0.0120633 |  0.019051000 | -0.08942830 |  -27.9224098 | -144.83283 |  -66.482063 |   -1.418709 | -178.635914 |   22.689742 |   12.9027445 |   43.0211946 |   18.937604 |   25.764371 | SCZ     | 62.63 | F |\n",
       "| Br991  |  0.0436291 |  0.010222700 | -0.00784810 |  -42.0615635 | -116.78523 | -130.518346 | -121.402176 |  142.898647 | -116.952419 |   42.1390840 |  -77.1854613 |  -27.198678 |  -91.461009 | Control | 35.24 | M |\n",
       "| Br993  |  0.0646887 |  0.019784400 | -0.05139970 |  -19.5100090 | -109.27932 |  -76.972489 |  -29.740514 |  -91.028314 |   -3.745881 |   -8.2459140 |  -86.4329502 |   20.175785 |   54.411467 | Control | 30.48 | F |\n",
       "\n"
      ],
      "text/plain": [
       "    ID     genoPC1    genoPC2      genoPC3     methPC1      methPC2    \n",
       "1   Br1003 0.0591231  -0.039807700  0.02053080 -157.04647     22.431504\n",
       "2   Br1004 0.0507512   0.016700300 -0.02350190 -207.97793     14.563873\n",
       "3   Br1007 0.0683202   0.005023590 -0.05958990  119.29338   -184.287037\n",
       "4   Br1017 0.0685061  -0.008443570 -0.01093240  148.35140    -89.715577\n",
       "5   Br1021 0.0596699   0.003678410  0.04795520  453.47100   -132.387141\n",
       "6   Br1030 0.0166234   0.037136000 -0.11683800 -212.50562     -3.017152\n",
       "7   Br1039 0.0372755   0.000920873  0.04261920 -103.04318    -97.394092\n",
       "8   Br1040 0.0418527  -0.041008900 -0.00594927 -651.74144    243.329728\n",
       "9   Br1050 0.0667423  -0.029448500 -0.06359590 -346.35535    148.209663\n",
       "10  Br1053 0.0545700   0.010893500 -0.00503420   14.25498   -218.737504\n",
       "11  Br1054 0.0332241   0.017995200 -0.04943730  774.63116    242.469130\n",
       "12  Br1056 0.0618984  -0.023353300  0.04164780  203.15099   -160.030786\n",
       "13  Br1067 0.0143833   0.038102000 -0.01583960 -221.40899   -112.953999\n",
       "14  Br1069 0.0684744   0.008516790 -0.05033340   58.63272   -207.058051\n",
       "15  Br1081 0.0389105   0.011763800 -0.01286800 -175.57313   -184.149242\n",
       "16  Br1084 0.0674246   0.016551200 -0.01582100  116.19473    -30.816511\n",
       "17  Br1102 0.0689186  -0.009428380  0.00359921 -169.56123    -11.235778\n",
       "18  Br1122 0.0532758   0.006862260  0.08881960  388.38408     11.157270\n",
       "19  Br1134 0.0312242   0.016365300  0.05139930  461.68479    236.252001\n",
       "20  Br1135 0.0443159  -0.004031030  0.03944810  187.34590    -66.730027\n",
       "21  Br1137 0.0512178  -0.008132730  0.00414662 -235.60834    -97.241925\n",
       "22  Br1148 0.0657928   0.015143700 -0.08391730 -353.16683     79.304101\n",
       "23  Br1156 0.0551191   0.002750920  0.01901670 -435.51760    154.698532\n",
       "24  Br1157 0.0687824  -0.016698600  0.01878520   62.48916     99.370928\n",
       "25  Br1160 0.0463301   0.040159500 -0.05176610   16.68765    -37.636483\n",
       "26  Br1164 0.0578878  -0.022999400 -0.05662810  171.51858   -189.519274\n",
       "27  Br1167 0.0352138  -0.100051000  0.11720000  439.12042    150.633039\n",
       "28  Br1185 0.0553348  -0.003555220 -0.02148240  -67.86175    -50.281986\n",
       "29  Br1187 0.0448704  -0.010094300  0.08367170 -118.26207    135.396577\n",
       "30  Br1191 0.0388960  -0.003718460 -0.10430300  -86.63887      2.274322\n",
       "⋮   ⋮      ⋮          ⋮            ⋮           ⋮            ⋮          \n",
       "135 Br2377  0.0399693 -0.002461130 -0.16181700  568.2436927  151.98160 \n",
       "136 Br2481  0.0666949 -0.015233600 -0.01405960  181.0631628  -85.45608 \n",
       "137 Br2494  0.0572750  0.003513130  0.10894000 -115.0278460 -183.06844 \n",
       "138 Br2509  0.0480592  0.008936070 -0.12922200   -0.5203813 -118.04892 \n",
       "139 Br2513  0.0738631 -0.041546700 -0.00953264  -34.8071862   38.01244 \n",
       "140 Br2539  0.0347875  0.013910500  0.12272600   84.0481802 -128.45721 \n",
       "141 Br2543  0.0385986 -0.001759020 -0.12306600 -471.0305178  -61.17528 \n",
       "142 Br2585  0.0643787  0.020544000  0.08945370  -73.6288124 -134.66022 \n",
       "143 Br2587  0.0566490  0.009988680 -0.05260240   50.5442559 -200.02331 \n",
       "144 Br5073  0.0270246  0.040663600 -0.13523200    3.1539200  -96.02476 \n",
       "145 Br5179  0.0365237 -0.006246130  0.07617580  398.7690215  -54.39231 \n",
       "146 Br5259 -0.0071979  0.037430500  0.23405900  -51.4376082  115.97746 \n",
       "147 Br5264  0.0516258  0.004709680 -0.09627520 -128.3294224   73.30960 \n",
       "148 Br5295  0.0534656  0.013412000 -0.16616300  -84.5140281 -144.98740 \n",
       "149 Br5323  0.0526506 -0.007224270  0.13353900   81.6235546  139.97039 \n",
       "150 Br5330  0.0461558  0.028894000 -0.05992230   24.6384004 -124.94884 \n",
       "151 Br5426  0.0591279 -0.063085500 -0.11086300    8.9909466  -15.09584 \n",
       "152 Br5460  0.0567584 -0.000833689  0.02434270  -12.6027842 -142.24915 \n",
       "153 Br5467  0.0641493 -0.017884600  0.09272560  -38.3934951   20.11693 \n",
       "154 Br5475  0.0547371  0.043625900  0.00407256  -55.6145522 -158.68819 \n",
       "155 Br836   0.0602846  0.026523300  0.07498270 -241.8576942  248.31645 \n",
       "156 Br845   0.0537185 -0.007675130  0.08783630  -41.4112667  -64.86172 \n",
       "157 Br848   0.0681916  0.004767710 -0.00207638   39.3437077   56.88340 \n",
       "158 Br863   0.0720192 -0.015803800 -0.01050100    6.6755878 -230.09471 \n",
       "159 Br914   0.0550490  0.000796254 -0.10311400   34.8048517  281.67150 \n",
       "160 Br948   0.0639954  0.006954050 -0.01009030  413.5858328 -263.70724 \n",
       "161 Br949   0.0712634 -0.027163600  0.05720700 -200.9323240  265.80379 \n",
       "162 Br963   0.0120633  0.019051000 -0.08942830  -27.9224098 -144.83283 \n",
       "163 Br991   0.0436291  0.010222700 -0.00784810  -42.0615635 -116.78523 \n",
       "164 Br993   0.0646887  0.019784400 -0.05139970  -19.5100090 -109.27932 \n",
       "    methPC3     methPC4     methPC5     methPC6      methPC7      methPC8     \n",
       "1     -3.613153   28.587802 -165.830789   15.4914042   27.347098    68.1463463\n",
       "2    -48.109417  -48.368597   65.479538 -174.4362052  -40.363495  -103.8133780\n",
       "3   -127.987516    8.047659  100.518214  112.4048122  -44.079714   -13.3318373\n",
       "4    -97.742602    7.072870  -78.404717   77.0296173  -33.334885   -34.9482041\n",
       "5     35.349695   80.759933  123.878599  -39.4338123 -122.191818    64.6271242\n",
       "6    -46.171785  -91.779986  -28.953074   -0.2483534   63.463302    10.9460093\n",
       "7      6.394317    9.246365 -153.099368  -57.4199032  -21.466761    61.2001242\n",
       "8   -234.910289  -21.365701  137.855050 -107.1335278   -9.355704   -32.7974052\n",
       "9   -322.522824  -64.676761  121.759943  -70.2543686    2.514280    30.8563428\n",
       "10  -116.037699  -46.148580  -61.733453  -40.1747788  -36.466078   -77.0255876\n",
       "11  -104.806579  112.814288   12.699447  136.6050191   46.175255   -21.3814211\n",
       "12    -9.528087   57.690104  100.357240  153.6498301   17.411171    59.8056951\n",
       "13   -58.332883  -12.299914   60.242272  -81.4366823   22.421371   -17.5407090\n",
       "14   229.767251  121.798472 -156.910068  -63.3180131  -39.249847    52.7269230\n",
       "15   -29.558267  126.310124   31.466216  115.3960460  -94.021767     4.2601717\n",
       "16   328.516578 -151.729366   89.175238  -41.5699130  -43.722753  -148.8412092\n",
       "17   -50.164651   33.826086   53.102836   16.7075391  -84.067065   137.9719334\n",
       "18  -352.975866 -244.452555   98.239509  -89.0380241    6.257570   188.6164745\n",
       "19  -244.564206  -49.439873  -48.102597   29.7295860  -33.884269  -117.6843231\n",
       "20   -45.973772  -19.362323  163.963305  -48.4467355  -18.505958  -122.7640427\n",
       "21   -67.142546  -30.347265 -129.897060   37.0909392    7.558666   174.2390575\n",
       "22  -197.351043  -19.101227  -38.671370  -39.2370851   13.205034    40.9461178\n",
       "23   109.571056   34.996561  -56.036963   78.5901674   79.653026    43.8381790\n",
       "24  -114.584049   30.640967  -69.959796   70.2113358   94.575184    61.4775604\n",
       "25   162.292774   31.330967  -74.862236  -74.0879304  101.410070   -24.3863793\n",
       "26   179.963318 -121.535089   40.634218   65.5828286   84.582765  -223.2700548\n",
       "27  -127.493286   13.929089   15.352493  -37.2411043   47.448766    65.5329304\n",
       "28   -11.565901   62.340768  -56.298584  -74.8984018  -53.536016     0.6982585\n",
       "29    99.485657   75.549284  -79.777910 -137.5115170  -13.735688  -148.5961914\n",
       "30   -57.012139  -85.902124   -7.327336 -135.3069140  -23.040790  -115.0485452\n",
       "⋮   ⋮           ⋮           ⋮           ⋮            ⋮            ⋮           \n",
       "135   24.224698  146.205567 -175.293756   -4.106002   -74.4541810 -103.1465459\n",
       "136 -197.950169  -13.066476   97.368546  169.261572    27.5894949  -11.0176105\n",
       "137   84.062748   90.703448   51.859864  -18.532131    46.8250672  -52.3299361\n",
       "138   40.881010    7.651413    8.351208 -129.163007    15.8137252   28.1569492\n",
       "139  -60.877082   30.562927    0.771042  160.847432    50.7248844  -22.9818521\n",
       "140   -2.346579  109.286934   61.800659  195.060022     9.2368263   94.5235356\n",
       "141  -86.878409  140.973163   24.404581  164.365667   -10.0192763    0.2805619\n",
       "142  -99.319464  -41.063818  -63.067969  -84.074281   -30.6329068 -147.2013213\n",
       "143   52.833989  142.555258  109.612235   64.066404    -2.4940065  -65.1774865\n",
       "144  -64.520561  122.874316  148.485395   69.722156   -57.8378681   27.2572053\n",
       "145   47.395556  109.589004   53.497125   96.727713  -114.4952708   98.8874787\n",
       "146  246.982020   13.489526   42.835790   25.931177    96.5436133  -42.4372213\n",
       "147   37.383104  -11.615566  -82.369275 -182.644695   -15.5965121 -131.9237798\n",
       "148   67.348963   89.741345  -85.876630   -0.307187     1.1898360   79.8268440\n",
       "149    9.566690    8.325548  -37.516312  -20.088896   104.4917830  -25.4263624\n",
       "150  221.225984   60.068455   45.634528   28.070166    44.2495335  -34.1917151\n",
       "151  -41.236128   34.979730 -267.437827  233.251430    62.4667145   17.5107316\n",
       "152  -32.220323  -53.541838 -100.086875  -85.517584    96.4453843  179.8139252\n",
       "153   24.494429  -77.458042  226.048865   11.953847   -54.0819663  -19.0590714\n",
       "154 -112.437049 -149.608647   30.192305  -83.539166     0.5563019  200.9503042\n",
       "155  140.320737 -160.917515  156.428331 -110.796163   -60.9012965  183.7616975\n",
       "156 -117.108968  -83.724040  137.504573  -25.415709    23.2715340  -63.7362723\n",
       "157    7.310866   79.076122   10.244427 -195.761741  -185.2188072  -57.8484560\n",
       "158  108.663256 -107.048237  -23.159694  -40.083402   160.9488009  -95.1625560\n",
       "159    3.382999   72.752227    2.032968  -45.256259   -19.5338381 -142.0072767\n",
       "160    4.226894   89.551899   99.992375   49.852902   -83.6377294  -21.6177514\n",
       "161   56.822449   55.415802   85.218312   30.102630   -35.3541011    8.8357769\n",
       "162  -66.482063   -1.418709 -178.635914   22.689742    12.9027445   43.0211946\n",
       "163 -130.518346 -121.402176  142.898647 -116.952419    42.1390840  -77.1854613\n",
       "164  -76.972489  -29.740514  -91.028314   -3.745881    -8.2459140  -86.4329502\n",
       "    methPC9     methPC10    Dx      Age   Sex\n",
       "1    -83.144721   74.405523 Control 52.57 F  \n",
       "2     11.087242  -84.670514 Control 21.01 M  \n",
       "3    109.550591   55.891996 Control 57.10 M  \n",
       "4     73.886328   65.622516 Control 48.42 F  \n",
       "5    -62.891067  -25.939892 SCZ     63.18 M  \n",
       "6     62.956351    4.060549 SCZ     49.65 F  \n",
       "7      4.913690   18.458765 Control 51.45 F  \n",
       "8     51.679802  -82.487019 Control 20.93 M  \n",
       "9    -19.582689  -27.813140 SCZ     41.25 M  \n",
       "10    22.668648   28.637638 Control 40.18 F  \n",
       "11   -48.937389  -22.004186 Control 58.48 M  \n",
       "12    65.862125  -22.696183 Control 48.66 M  \n",
       "13    11.036222 -104.406567 SCZ     75.57 M  \n",
       "14   -13.666163   39.776181 Control 59.58 F  \n",
       "15   -42.418487   67.555466 SCZ     58.09 M  \n",
       "16   165.907343   18.474209 SCZ     48.93 F  \n",
       "17   -36.027093   35.036245 SCZ     46.47 M  \n",
       "18   -19.054937  -39.290505 Control 48.61 M  \n",
       "19    79.101556   85.537008 Control 36.48 F  \n",
       "20    -8.194399  -27.061954 Control 60.35 M  \n",
       "21     8.593552  -39.000885 Control 68.54 M  \n",
       "22   -12.939777  -46.063974 Control 29.97 M  \n",
       "23     2.017984    3.433720 Control 53.86 F  \n",
       "24   -34.592651  -63.669566 Control 60.70 M  \n",
       "25  -100.607302  -58.379287 Control 73.23 M  \n",
       "26    35.242893   20.682786 Control 48.10 F  \n",
       "27    14.757962  -83.259221 Control 45.86 M  \n",
       "28   -38.995814    6.087742 Control 54.48 F  \n",
       "29    58.892746 -134.104676 Control 21.53 F  \n",
       "30   -30.632212   41.233688 Control 36.54 M  \n",
       "⋮   ⋮           ⋮           ⋮       ⋮     ⋮  \n",
       "135   70.923480   13.427413 Control 56.60 F  \n",
       "136   13.441787   51.904510 SCZ     53.95 M  \n",
       "137  -44.076332  -60.008764 SCZ     57.38 M  \n",
       "138   14.967828 -110.038352 SCZ     53.74 M  \n",
       "139   -8.179409   30.432238 Control 54.49 M  \n",
       "140   19.710779  -18.153138 Control 84.16 M  \n",
       "141   12.044442   47.869962 Control 50.47 M  \n",
       "142   74.267748   87.753996 SCZ     33.35 F  \n",
       "143  -31.712050  -23.498532 Control 50.55 M  \n",
       "144    4.362553  -10.994444 SCZ     62.61 M  \n",
       "145  103.005007  -97.849057 SCZ     53.04 M  \n",
       "146  -85.724704   78.864930 Control 71.40 M  \n",
       "147   22.865252  -92.278270 Control 21.69 F  \n",
       "148  -91.966042  -11.853111 SCZ     57.66 M  \n",
       "149  -37.659950  -31.724383 Control 34.57 M  \n",
       "150  -83.019138  -63.052639 Control 50.48 M  \n",
       "151   78.235354   70.700634 Control 48.75 F  \n",
       "152  -81.474238  -27.564712 Control 61.34 M  \n",
       "153   30.563953   -9.119516 SCZ     47.52 M  \n",
       "154   26.165385 -101.950876 SCZ     60.64 M  \n",
       "155 -408.140889  361.821534 Control 20.77 M  \n",
       "156   18.571721  -64.095814 Control 24.79 M  \n",
       "157   17.463961  -53.333885 Control 22.71 M  \n",
       "158 -151.535355  -21.737335 Control 43.85 M  \n",
       "159   49.564513  -38.105417 Control 19.69 F  \n",
       "160   60.497544  -77.511435 Control 45.91 M  \n",
       "161   68.861625 -100.628741 Control 18.05 M  \n",
       "162   18.937604   25.764371 SCZ     62.63 F  \n",
       "163  -27.198678  -91.461009 Control 35.24 M  \n",
       "164   20.175785   54.411467 Control 30.48 F  "
      ]
     },
     "metadata": {},
     "output_type": "display_data"
    }
   ],
   "source": [
    "fread(\"/dcs04/lieber/statsgen/mnagle/mwas/full_covariates/AA_caud.csv\")"
   ]
  }
 ],
 "metadata": {
  "kernelspec": {
   "display_name": "R",
   "language": "R",
   "name": "ir"
  },
  "language_info": {
   "codemirror_mode": "r",
   "file_extension": ".r",
   "mimetype": "text/x-r-source",
   "name": "R",
   "pygments_lexer": "r",
   "version": "4.3.1"
  }
 },
 "nbformat": 4,
 "nbformat_minor": 5
}
