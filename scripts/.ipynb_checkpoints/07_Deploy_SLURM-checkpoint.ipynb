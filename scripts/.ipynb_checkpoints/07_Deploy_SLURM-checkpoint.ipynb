{
 "cells": [
  {
   "cell_type": "markdown",
   "id": "0cb72484-0e2e-4d13-bda9-58fe13e8ae34",
   "metadata": {},
   "source": [
    "# Prep SLURM commands"
   ]
  },
  {
   "cell_type": "code",
   "execution_count": 1,
   "id": "16eddb68-67bf-48d8-9343-a7e48c69b312",
   "metadata": {},
   "outputs": [
    {
     "data": {
      "text/html": [
       "'/expanse/lustre/projects/jhu152/naglemi/mwas/CpGWAS/scripts'"
      ],
      "text/latex": [
       "'/expanse/lustre/projects/jhu152/naglemi/mwas/CpGWAS/scripts'"
      ],
      "text/markdown": [
       "'/expanse/lustre/projects/jhu152/naglemi/mwas/CpGWAS/scripts'"
      ],
      "text/plain": [
       "[1] \"/expanse/lustre/projects/jhu152/naglemi/mwas/CpGWAS/scripts\""
      ]
     },
     "metadata": {},
     "output_type": "display_data"
    }
   ],
   "source": [
    "getwd()"
   ]
  },
  {
   "cell_type": "code",
   "execution_count": 2,
   "id": "82f55bee-2e04-4858-a040-64869a761882",
   "metadata": {},
   "outputs": [],
   "source": [
    "setwd(\"../\")"
   ]
  },
  {
   "cell_type": "code",
   "execution_count": 3,
   "id": "750b3ac4-4232-4549-b317-faa48852db41",
   "metadata": {},
   "outputs": [
    {
     "name": "stdout",
     "output_type": "stream",
     "text": [
      "        [,1]    [,2]\n",
      "[1,] 1001000 1001501\n",
      "[2,] 1001500 1002000\n"
     ]
    }
   ],
   "source": [
    "# Function to generate chunk ranges\n",
    "generate_chunk_ranges <- function(start, end, num_chunks) {\n",
    "  chunk_size <- ceiling((end - start + 1) / num_chunks)\n",
    "  chunk_ranges <- sapply(1:num_chunks, function(i) {\n",
    "    chunk_start <- start + (i - 1) * chunk_size\n",
    "    chunk_end <- min(chunk_start + chunk_size - 1, end)\n",
    "    c(chunk_start, chunk_end)\n",
    "  })\n",
    "  return(chunk_ranges)\n",
    "}\n",
    "\n",
    "# Example usage\n",
    "chunk_ranges <- generate_chunk_ranges(1001000, 1002000, 2)\n",
    "print(chunk_ranges)"
   ]
  },
  {
   "cell_type": "code",
   "execution_count": 4,
   "id": "83773ff0-6c58-4904-ab20-6a281d9395b3",
   "metadata": {},
   "outputs": [
    {
     "data": {
      "text/html": [],
      "text/latex": [],
      "text/markdown": [],
      "text/plain": [
       "character(0)"
      ]
     },
     "metadata": {},
     "output_type": "display_data"
    }
   ],
   "source": [
    "list.files(\"/dcs04/lieber/statsgen/mnagle/mwas/\")"
   ]
  },
  {
   "cell_type": "code",
   "execution_count": 5,
   "id": "46161149-ca11-4a3b-9278-a5f04f567274",
   "metadata": {},
   "outputs": [],
   "source": [
    "# Cluster-specific parameters\n",
    "cluster_specific_parameters <- TRUE # Example condition\n",
    "acct <- \"jhu152\"\n",
    "time <- \"10:00:00\"\n",
    "partition <- \"shared\"\n",
    "\n",
    "module_load_conda <- FALSE\n",
    "\n",
    "nodes <- 1\n",
    "ntasks_per_node <- 1"
   ]
  },
  {
   "cell_type": "code",
   "execution_count": 6,
   "id": "bb1308f1-f068-4f2c-8097-cca4fdc14c2b",
   "metadata": {
    "tags": []
   },
   "outputs": [
    {
     "name": "stdout",
     "output_type": "stream",
     "text": [
      "#!/bin/bash\n",
      "#SBATCH --partition=shared\n",
      "#SBATCH -A jhu152\n",
      "#SBATCH --time=10:00:00\n",
      "#SBATCH --nodes=1\n",
      "#SBATCH --ntasks-per-node=1\n",
      "#SBATCH --cpus-per-task=1\n",
      "#SBATCH --mem-per-cpu=16G\n",
      "#SBATCH --output=slurm_output_libd_chr1-chr1_AA-1001000-1001500-dynamic-1corestotal-1corepera-20240226-084114.out\n",
      "#SBATCH --job-name=libd_chr1-chr1_AA-1001000-1001500-dynamic-1corestotal-1corepera-20240226-084114\n",
      "conda activate mwas\n",
      "echo 'Executing Rscript with arguments: Rscript scripts/CLI.R --outdir=./output/ --snp_data_path=/expanse/lustre/projects/jhu152/naglemi/mwas/gwas/libd_chr1.pgen --methylation_data_path=/expanse/lustre/projects/jhu152/naglemi/mwas/pheno/dlpfc/out/chr1_AA.rda --verbose=FALSE --lambda_choice=1se --alphas=0.5 --allow_inefficient_parallelization=FALSE --n_fold=5 --window_sizes=10000 --save_evaluation_results_each_fold=FALSE --save_glmnet_object=FALSE --omit_folds_with_na_r=TRUE --chunk1=1001000 --chunk2=1001500 --cv_eval_mode=dynamic --num_cores=1 --cores_per_alpha=1 --tag=libd_chr1-chr1_AA-1001000-1001500-dynamic-1corestotal-1corepera-20240226-084114'\n",
      "Rscript scripts/CLI.R --outdir=./output/ --snp_data_path=/expanse/lustre/projects/jhu152/naglemi/mwas/gwas/libd_chr1.pgen --methylation_data_path=/expanse/lustre/projects/jhu152/naglemi/mwas/pheno/dlpfc/out/chr1_AA.rda --verbose=FALSE --lambda_choice=1se --alphas=0.5 --allow_inefficient_parallelization=FALSE --n_fold=5 --window_sizes=10000 --save_evaluation_results_each_fold=FALSE --save_glmnet_object=FALSE --omit_folds_with_na_r=TRUE --chunk1=1001000 --chunk2=1001500 --cv_eval_mode=dynamic --num_cores=1 --cores_per_alpha=1 --tag=libd_chr1-chr1_AA-1001000-1001500-dynamic-1corestotal-1corepera-20240226-084114\n"
     ]
    },
    {
     "name": "stderr",
     "output_type": "stream",
     "text": [
      "Sleeping for 1 seconds\n",
      "\n"
     ]
    },
    {
     "name": "stdout",
     "output_type": "stream",
     "text": [
      "#!/bin/bash\n",
      "#SBATCH --partition=shared\n",
      "#SBATCH -A jhu152\n",
      "#SBATCH --time=10:00:00\n",
      "#SBATCH --nodes=1\n",
      "#SBATCH --ntasks-per-node=1\n",
      "#SBATCH --cpus-per-task=1\n",
      "#SBATCH --mem-per-cpu=16G\n",
      "#SBATCH --output=slurm_output_libd_chr1-chr1_AA-1001501-1002000-dynamic-1corestotal-1corepera-20240226-084115.out\n",
      "#SBATCH --job-name=libd_chr1-chr1_AA-1001501-1002000-dynamic-1corestotal-1corepera-20240226-084115\n",
      "conda activate mwas\n",
      "echo 'Executing Rscript with arguments: Rscript scripts/CLI.R --outdir=./output/ --snp_data_path=/expanse/lustre/projects/jhu152/naglemi/mwas/gwas/libd_chr1.pgen --methylation_data_path=/expanse/lustre/projects/jhu152/naglemi/mwas/pheno/dlpfc/out/chr1_AA.rda --verbose=FALSE --lambda_choice=1se --alphas=0.5 --allow_inefficient_parallelization=FALSE --n_fold=5 --window_sizes=10000 --save_evaluation_results_each_fold=FALSE --save_glmnet_object=FALSE --omit_folds_with_na_r=TRUE --chunk1=1001501 --chunk2=1002000 --cv_eval_mode=dynamic --num_cores=1 --cores_per_alpha=1 --tag=libd_chr1-chr1_AA-1001501-1002000-dynamic-1corestotal-1corepera-20240226-084115'\n",
      "Rscript scripts/CLI.R --outdir=./output/ --snp_data_path=/expanse/lustre/projects/jhu152/naglemi/mwas/gwas/libd_chr1.pgen --methylation_data_path=/expanse/lustre/projects/jhu152/naglemi/mwas/pheno/dlpfc/out/chr1_AA.rda --verbose=FALSE --lambda_choice=1se --alphas=0.5 --allow_inefficient_parallelization=FALSE --n_fold=5 --window_sizes=10000 --save_evaluation_results_each_fold=FALSE --save_glmnet_object=FALSE --omit_folds_with_na_r=TRUE --chunk1=1001501 --chunk2=1002000 --cv_eval_mode=dynamic --num_cores=1 --cores_per_alpha=1 --tag=libd_chr1-chr1_AA-1001501-1002000-dynamic-1corestotal-1corepera-20240226-084115\n"
     ]
    },
    {
     "name": "stderr",
     "output_type": "stream",
     "text": [
      "Sleeping for 1 seconds\n",
      "\n"
     ]
    }
   ],
   "source": [
    "# Constant Arguments Setup\n",
    "constant_args_df <- data.frame(\n",
    "  outdir = \"./output/\",\n",
    "  snp_data_path = \"/expanse/lustre/projects/jhu152/naglemi/mwas/gwas/libd_chr1.pgen\",\n",
    "  methylation_data_path = \"/expanse/lustre/projects/jhu152/naglemi/mwas/pheno/dlpfc/out/chr1_AA.rda\",\n",
    "  verbose = FALSE,\n",
    "  lambda_choice = \"1se\",\n",
    "  alphas = \"0.5\",\n",
    "  allow_inefficient_parallelization = FALSE,\n",
    "  n_fold = 5,\n",
    "  window_sizes = \"10000\",\n",
    "  #window_sizes = \"500000\",\n",
    "  save_evaluation_results_each_fold = FALSE,\n",
    "  save_glmnet_object = FALSE,\n",
    "  omit_folds_with_na_r = TRUE#,\n",
    "  #methInput_rds_path = \"/dcs04/lieber/statsgen/mnagle/mwas/chr1_AA_methylation_10k_samples.rds\"\n",
    ")\n",
    "\n",
    "# Varying parameters\n",
    "cv_eval_modes <- c(\"dynamic\")\n",
    "cores_per_alphas <- c(\"1\") #NA)  # Include NA to signify the default value should be used\n",
    "num_cores_options <- c(1)\n",
    "\n",
    "generate_slurm_script <- function(args, tag_pt1, tag_pt2, mem_per_cpu = \"16G\") {\n",
    "  cpus_per_task <- if (is.null(args$num_cores) || args$num_cores == \"all\") {\n",
    "    \"#SBATCH --exclusive\\n\"\n",
    "  } else {\n",
    "    paste0(\"#SBATCH --cpus-per-task=\", args$num_cores, \"\\n\")\n",
    "  }\n",
    "\n",
    "  # Always set mem_per_cpu flag, even in exclusive mode\n",
    "  mem_allocation <- paste0(\"#SBATCH --mem-per-cpu=\", mem_per_cpu, \"\\n\")\n",
    "\n",
    "  args_string <- paste(\"--\", names(args), \"=\", args, sep = \"\", collapse = \" \")\n",
    "  args_string <- paste(args_string, \" --tag=\", tag_pt1, \"-\", tag_pt2, sep = \"\")\n",
    "\n",
    "  slurm_script <- paste0(\n",
    "    \"#!/bin/bash\\n\",\n",
    "    if (cluster_specific_parameters) paste0(\n",
    "      \"#SBATCH --partition=\", partition, \"\\n\",\n",
    "      \"#SBATCH -A \", acct, \"\\n\",\n",
    "      \"#SBATCH --time=\", time, \"\\n\"\n",
    "    ),\n",
    "    if (!is.null(nodes) && !is.null(ntasks_per_node)) paste0(\n",
    "      \"#SBATCH --nodes=\", nodes, \"\\n\",\n",
    "      \"#SBATCH --ntasks-per-node=\", ntasks_per_node, \"\\n\"\n",
    "    ),\n",
    "    cpus_per_task,\n",
    "    mem_allocation,\n",
    "    \"#SBATCH --output=slurm_output_\", tag_pt1, \"-\", tag_pt2, \".out\\n\",\n",
    "    \"#SBATCH --job-name=\", tag_pt1, \"-\", tag_pt2, \"\\n\",\n",
    "    if (module_load_conda) \"module load conda\\n\",\n",
    "    \"conda activate mwas\\n\",\n",
    "    \"echo 'Executing Rscript with arguments: Rscript scripts/CLI.R \", args_string, \"'\\n\",\n",
    "    \"Rscript scripts/CLI.R \", args_string, \"\\n\"\n",
    "  )\n",
    "\n",
    "  return(list(script = slurm_script, path = paste0(\"slurm_scripts/\", tag_pt1, \"-\", tag_pt2, \".sh\")))\n",
    "}\n",
    "\n",
    "# Overwrite flag (set by user)\n",
    "overwrite <- FALSE\n",
    "\n",
    "for (chunk_range in 1:ncol(chunk_ranges)) {\n",
    "  constant_args_df$chunk1 <- chunk_ranges[1, chunk_range]\n",
    "  constant_args_df$chunk2 <- chunk_ranges[2, chunk_range]\n",
    "    # Loop through each combination\n",
    "    for (cv_eval_mode in cv_eval_modes) {\n",
    "      for (cores_per_alpha in cores_per_alphas) {\n",
    "        for (num_cores in num_cores_options) {\n",
    "          # Update constant_args_df for the current combination\n",
    "          constant_args_df$cv_eval_mode <- cv_eval_mode\n",
    "          constant_args_df$num_cores <- num_cores\n",
    "          if (!is.na(cores_per_alpha)) {\n",
    "            constant_args_df$cores_per_alpha <- cores_per_alpha\n",
    "          } else {\n",
    "            constant_args_df$cores_per_alpha <- NULL\n",
    "          }\n",
    "\n",
    "          # Generate tags\n",
    "          snp_base <- tools::file_path_sans_ext(basename(constant_args_df$snp_data_path))\n",
    "          meth_base <- tools::file_path_sans_ext(basename(constant_args_df$methylation_data_path))\n",
    "          datetime_str <- format(Sys.time(), \"%Y%m%d-%H%M%S\")\n",
    "          tag_pt1 <- paste(snp_base, meth_base, format(constant_args_df$chunk1, scientific = FALSE), format(constant_args_df$chunk2, scientific = FALSE), cv_eval_mode, paste0(num_cores, \"corestotal\"), ifelse(is.na(cores_per_alpha), \"defaultcore\", paste0(cores_per_alpha, \"corepera\")), sep = \"-\")\n",
    "          tag_pt2 <- datetime_str\n",
    "\n",
    "          # Check for existing file\n",
    "          existing_files <- list.files(path = constant_args_df$outdir, pattern = paste0(\"^\", tag_pt1, \".*\\\\.rds$\"), full.names = TRUE)\n",
    "          if (!overwrite && length(existing_files) > 0) {\n",
    "            message(\"File with tag \", tag_pt1, \" already exists. Skipping...\")\n",
    "            next\n",
    "          }\n",
    "\n",
    "          # Generate and print SLURM script\n",
    "          script_info <- generate_slurm_script(constant_args_df, tag_pt1, tag_pt2,\n",
    "                                               mem_per_cpu = \"16G\")\n",
    "\n",
    "          cat(script_info$script)\n",
    "\n",
    "          writeLines(script_info$script, script_info$path)\n",
    "\n",
    "          # Submit the SLURM job using the sbatch command\n",
    "          system(paste(\"sbatch\", script_info$path))\n",
    "\n",
    "          # Implement job submission limits and intervals if necessary\n",
    "          sleeptime <- 1\n",
    "          Sys.sleep(sleeptime)\n",
    "          message(paste0(\"Sleeping for \", sleeptime, \" seconds\"))\n",
    "        }\n",
    "      }\n",
    "    }\n",
    "}\n"
   ]
  },
  {
   "cell_type": "code",
   "execution_count": 7,
   "id": "414d591f-acd3-4102-a7d1-7a98ec4b29df",
   "metadata": {},
   "outputs": [
    {
     "data": {
      "text/html": [
       "'slurm_scripts/libd_chr1-chr1_AA-1001501-1002000-dynamic-1corestotal-1corepera-20240226-084115.sh'"
      ],
      "text/latex": [
       "'slurm\\_scripts/libd\\_chr1-chr1\\_AA-1001501-1002000-dynamic-1corestotal-1corepera-20240226-084115.sh'"
      ],
      "text/markdown": [
       "'slurm_scripts/libd_chr1-chr1_AA-1001501-1002000-dynamic-1corestotal-1corepera-20240226-084115.sh'"
      ],
      "text/plain": [
       "[1] \"slurm_scripts/libd_chr1-chr1_AA-1001501-1002000-dynamic-1corestotal-1corepera-20240226-084115.sh\""
      ]
     },
     "metadata": {},
     "output_type": "display_data"
    }
   ],
   "source": [
    "script_info$path"
   ]
  },
  {
   "cell_type": "code",
   "execution_count": 8,
   "id": "6e12ac75-bd0f-40c9-ab75-a24ba56637c2",
   "metadata": {},
   "outputs": [
    {
     "data": {
      "text/html": [
       "'libd_chr1-chr1_AA-1001501-1002000-dynamic-1corestotal-1corepera'"
      ],
      "text/latex": [
       "'libd\\_chr1-chr1\\_AA-1001501-1002000-dynamic-1corestotal-1corepera'"
      ],
      "text/markdown": [
       "'libd_chr1-chr1_AA-1001501-1002000-dynamic-1corestotal-1corepera'"
      ],
      "text/plain": [
       "[1] \"libd_chr1-chr1_AA-1001501-1002000-dynamic-1corestotal-1corepera\""
      ]
     },
     "metadata": {},
     "output_type": "display_data"
    }
   ],
   "source": [
    "tag_pt1"
   ]
  },
  {
   "cell_type": "markdown",
   "id": "c9a9aa25-1415-456b-b5b0-3ab6703941c7",
   "metadata": {
    "tags": []
   },
   "source": [
    "## Define parameters"
   ]
  },
  {
   "cell_type": "code",
   "execution_count": 9,
   "id": "d1924a3d-0a35-4f4d-8dc6-3a18ecd1f543",
   "metadata": {
    "tags": []
   },
   "outputs": [],
   "source": [
    "# # Constant Arguments Setup\n",
    "# constant_args_df <- data.frame(\n",
    "#   outdir = \"./output/\",\n",
    "#   chunk1 = 1000000,\n",
    "#   chunk2 = 1001000,\n",
    "#   snp_data_path = \"/dcs04/lieber/statsgen/mnagle/mwas/gwas/libd_chr1.pgen\",\n",
    "#   methylation_data_path = \"/dcs04/lieber/statsgen/mnagle/mwas/pheno/dlpfc/out/chr1_AA.rda\",\n",
    "#   #snp_data_path = \"/Users/michaelnagle/code/mwas/gwas/libd_chr1.pgen\",\n",
    "#   #methylation_data_path = \"/Users/michaelnagle/code/mwas/pheno/dlpfc/out/chr1_AA.rda\",  \n",
    "#   verbose = FALSE,\n",
    "#   lambda_choice = \"1se\",\n",
    "#   alphas = \"0.25,0.5,0.75,1\",\n",
    "#   #num_cores = \"all\",\n",
    "#   allow_inefficient_parallelization = FALSE,\n",
    "#   n_fold = 5,\n",
    "#   window_sizes = \"1000,2000,5000,10000,20000,50000,100000,500000\",\n",
    "#   #tag = format(Sys.time(), \"%Y%m%d-%H%M%S\"),\n",
    "#   save_evaluation_results_each_fold = FALSE,\n",
    "#   save_glmnet_object = FALSE,\n",
    "#   cv_eval_mode = \"dynamic\"\n",
    "# )\n",
    "\n",
    "# # Convert alphas to a comma-separated string\n",
    "# #constant_args_df$alphas <- sapply(constant_args_df$alphas, function(x) paste(x, collapse = \",\"))\n",
    "\n",
    "\n",
    "# # Varying parameters\n",
    "# cv_eval_modes <- c(\"static\", \"dynamic\")\n",
    "# cores_per_alphas <- c(\"all\", \"1\")"
   ]
  },
  {
   "cell_type": "markdown",
   "id": "e58c74ca-a71b-43b0-967b-185802ec8cb1",
   "metadata": {},
   "source": [
    "## Generate and deploy SLURM calls"
   ]
  },
  {
   "cell_type": "code",
   "execution_count": 10,
   "id": "27def26a-2583-4b17-947b-b40cacd9e562",
   "metadata": {
    "tags": []
   },
   "outputs": [],
   "source": [
    "# generate_slurm_script <- function(args, tag) {\n",
    "#   # Check if cores_per_alpha is set and not NULL\n",
    "#   if (!is.null(args$cores_per_alpha) && args$cores_per_alpha == \"all\") {\n",
    "#     mem_allocation <- \"0\"\n",
    "#     cpus_per_task <- \"#SBATCH --exclusive\\n\"\n",
    "#   } else {\n",
    "#     mem_allocation <- \"16G\"\n",
    "#     cpus_per_task <- \"#SBATCH --cpus-per-task=1\\n\"\n",
    "#   }\n",
    "\n",
    "#   args_string <- paste(\"--\", names(args), \"=\", args, sep = \"\", collapse = \" \")\n",
    "#   args_string <- paste(args_string, \" --tag=\", tag, sep = \"\")\n",
    "\n",
    "#   slurm_script <- paste(\n",
    "#     \"#!/bin/bash\\n\",\n",
    "#     cpus_per_task,\n",
    "#     \"#SBATCH --mem=\", mem_allocation, \"\\n\",\n",
    "#     \"#SBATCH --output=slurm_output_\", tag, \".out\\n\",\n",
    "#     \"#SBATCH --job-name=\", tag, \"\\n\",\n",
    "#     \"Rscript scripts/CLI.R \", args_string, \"\\n\",\n",
    "#     sep = \"\"\n",
    "#   )\n",
    "\n",
    "#   return(slurm_script)\n",
    "# }\n",
    "\n",
    "# # Varying parameters\n",
    "# cv_eval_modes <- c(\"static\", \"dynamic\")\n",
    "# cores_per_alphas <- c(\"1\", NA)  # Include NA to signify the default value should be used\n",
    "\n",
    "# # Loop through each combination\n",
    "# for (cv_eval_mode in cv_eval_modes) {\n",
    "#   for (cores_per_alpha in cores_per_alphas) {\n",
    "#     # Update constant_args_df for the current combination\n",
    "#     constant_args_df$cv_eval_mode <- cv_eval_mode\n",
    "#     # Use an if-statement to decide whether to assign the value or leave it to default\n",
    "#     if (!is.na(cores_per_alpha)) {\n",
    "#       constant_args_df$cores_per_alpha <- cores_per_alpha\n",
    "#     } else {\n",
    "#       constant_args_df$cores_per_alpha <- NULL  # Setting it to NULL to use the function's default\n",
    "#     }\n",
    "\n",
    "#     # Generate tag with consideration for NA\n",
    "#     snp_base <- tools::file_path_sans_ext(basename(constant_args_df$snp_data_path))\n",
    "#     meth_base <- tools::file_path_sans_ext(basename(constant_args_df$methylation_data_path))\n",
    "#     datetime_str <- format(Sys.time(), \"%Y%m%d-%H%M%S\")\n",
    "#     cores_tag <- ifelse(is.na(cores_per_alpha), \"defaultcore\", paste0(cores_per_alpha, \"core\"))\n",
    "#     tag <- paste(snp_base, meth_base, cv_eval_mode, cores_tag, datetime_str, sep = \"-\")\n",
    "\n",
    "#     # Generate and print SLURM script\n",
    "#     slurm_script <- generate_slurm_script(constant_args_df, tag)\n",
    "#     cat(slurm_script, \"\\n\\n\")\n",
    "\n",
    "#     slurm_script_path <- paste0(\"slurm_scripts/\", tag, \".sh\")  # Define path to save SLURM script\n",
    "\n",
    "      \n",
    "#     # Save SLURM script to a file\n",
    "#     writeLines(slurm_script, slurm_script_path)\n",
    "\n",
    "#     # Submit the SLURM job using the sbatch command\n",
    "#     system(paste(\"sbatch\", slurm_script_path))\n",
    "\n",
    "#     # Implement job submission limits and intervals if necessary\n",
    "#     # For example, to wait for 1 second between submissions:\n",
    "#     Sys.sleep(42)\n",
    "#     message(\"ZZZZzzzz....\")\n",
    "#   }\n",
    "# }\n"
   ]
  },
  {
   "cell_type": "code",
   "execution_count": null,
   "id": "5371a450-78e9-4625-bc65-67fc22693584",
   "metadata": {},
   "outputs": [],
   "source": []
  },
  {
   "cell_type": "code",
   "execution_count": null,
   "id": "d42889af-e0fb-43b7-9ea0-f84c90aacbbb",
   "metadata": {},
   "outputs": [],
   "source": []
  }
 ],
 "metadata": {
  "kernelspec": {
   "display_name": "R",
   "language": "R",
   "name": "ir"
  },
  "language_info": {
   "codemirror_mode": "r",
   "file_extension": ".r",
   "mimetype": "text/x-r-source",
   "name": "R",
   "pygments_lexer": "r",
   "version": "4.3.1"
  }
 },
 "nbformat": 4,
 "nbformat_minor": 5
}
