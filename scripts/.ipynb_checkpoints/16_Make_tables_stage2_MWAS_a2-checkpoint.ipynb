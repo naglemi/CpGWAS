{
 "cells": [
  {
   "cell_type": "markdown",
   "id": "277e1525-35f5-498d-bab4-6521e9995e0b",
   "metadata": {},
   "source": [
    "# Produce tables of stage 2 MWAS results"
   ]
  },
  {
   "cell_type": "code",
   "execution_count": 1,
   "id": "3f01d9f6-9527-4bb7-a413-391aadf7a686",
   "metadata": {},
   "outputs": [
    {
     "name": "stderr",
     "output_type": "stream",
     "text": [
      "Loading required package: iterators\n",
      "\n",
      "Loading required package: parallel\n",
      "\n"
     ]
    }
   ],
   "source": [
    "library(data.table)\n",
    "library(foreach)\n",
    "library(doParallel)"
   ]
  },
  {
   "cell_type": "code",
   "execution_count": 2,
   "id": "8f45b9ea-1487-422f-ab80-ebee02588ea3",
   "metadata": {},
   "outputs": [
    {
     "data": {
      "text/html": [
       "'/expanse/lustre/projects/jhu152/naglemi/mwas/CpGWAS/scripts'"
      ],
      "text/latex": [
       "'/expanse/lustre/projects/jhu152/naglemi/mwas/CpGWAS/scripts'"
      ],
      "text/markdown": [
       "'/expanse/lustre/projects/jhu152/naglemi/mwas/CpGWAS/scripts'"
      ],
      "text/plain": [
       "[1] \"/expanse/lustre/projects/jhu152/naglemi/mwas/CpGWAS/scripts\""
      ]
     },
     "metadata": {},
     "output_type": "display_data"
    }
   ],
   "source": [
    "getwd()"
   ]
  },
  {
   "cell_type": "code",
   "execution_count": 3,
   "id": "1e58dbe5-8cd4-4378-9c17-686fbf5390d5",
   "metadata": {},
   "outputs": [],
   "source": [
    "df <- fread(\"12-OUT_matched_SNP_meth_cov_outputs.csv\")"
   ]
  },
  {
   "cell_type": "code",
   "execution_count": 4,
   "id": "9332eebc-7694-4f88-bff9-71e5c9b189db",
   "metadata": {},
   "outputs": [
    {
     "name": "stdout",
     "output_type": "stream",
     "text": [
      "[1] 16098\n"
     ]
    }
   ],
   "source": [
    "print(nrow(df))"
   ]
  },
  {
   "cell_type": "code",
   "execution_count": 5,
   "id": "26ac1e21-f4cc-4977-89fa-a3473a01c2e4",
   "metadata": {},
   "outputs": [],
   "source": [
    "library(data.table)\n",
    "library(ggplot2)"
   ]
  },
  {
   "cell_type": "code",
   "execution_count": 6,
   "id": "465af960-34fe-440a-983a-47ced068970f",
   "metadata": {},
   "outputs": [],
   "source": [
    "# Initialize logging\n",
    "log_file <- file(\"processing_log.txt\", open = \"wt\")\n",
    "sink(log_file, type = \"message\")\n",
    "sink(log_file, type = \"output\", append = TRUE)"
   ]
  },
  {
   "cell_type": "code",
   "execution_count": 7,
   "id": "853d7eac-928b-400e-ae8f-4b983dad7267",
   "metadata": {},
   "outputs": [],
   "source": [
    "traits <- c(\"bp\", \"mdd\", \"scz\")\n",
    "df$stage2_paths <- gsub(\".rds\", \"_gwas_stat_\", df$path)\n",
    "df$final_paths <- vector(\"list\", length(df$stage2_paths))"
   ]
  },
  {
   "cell_type": "code",
   "execution_count": 8,
   "id": "076166ee-c9e2-49ae-922c-fec91dcf13d3",
   "metadata": {},
   "outputs": [
    {
     "name": "stderr",
     "output_type": "stream",
     "text": [
      "Processing trait: bp\n",
      "\n",
      "Processing trait: mdd\n",
      "\n",
      "Processing trait: scz\n",
      "\n"
     ]
    }
   ],
   "source": [
    "for (trait in traits) {\n",
    "  message(\"Processing trait: \", trait)\n",
    "  df$final_paths <- paste0(df$stage2_paths, trait, \"_results.rds\")\n",
    "}"
   ]
  },
  {
   "cell_type": "code",
   "execution_count": null,
   "id": "a003a41d-aedd-4855-ba64-70fd7c5450b3",
   "metadata": {},
   "outputs": [],
   "source": [
    "for (trait in traits) {\n",
    "  message(\"Processing trait: \", trait)\n",
    "  df$final_paths <- paste0(df$stage2_paths, trait, \"_results.rds\")\n",
    "  output_file <- paste0(\"16a6-OUT_stage2_MWAS_\", trait, \".csv\")\n",
    "  header_written <- FALSE\n",
    "\n",
    "  for (i in seq_along(df$final_paths)) {\n",
    "    if (grepl(\"empty\", df$final_paths[i])) next\n",
    "    \n",
    "    # Only print a message for every 20th file\n",
    "    if (i %% 20 == 0) {\n",
    "      message(\"Processing file \", i, \" of \", length(df$final_paths))\n",
    "    }\n",
    "\n",
    "    stage2_in <- readRDS(df$final_paths[i])\n",
    "    stage1_in <- readRDS(df$path[i])\n",
    "    \n",
    "    if (length(stage1_in@models) != length(stage2_in@MWASmodels)) {\n",
    "      stop(\"Files don't match\")\n",
    "    }\n",
    "\n",
    "    data_list <- vector(\"list\", length(stage1_in@models))\n",
    "    for (j in seq_along(stage1_in@models)) {\n",
    "      model1 <- stage1_in@models[[j]]\n",
    "      model2 <- stage2_in@MWASmodels[[j]]\n",
    "\n",
    "      data_list[[j]] <- data.table(\n",
    "        z = model2[\"z\"],\n",
    "        p = model2[\"p\"],\n",
    "        n = model2[\"n\"],\n",
    "        pos = model1@methylationPosition,\n",
    "        stats = stage2_in@summary_stats_path,\n",
    "        scaff = stage1_in@scaffoldIdentifier\n",
    "      )\n",
    "    }\n",
    "\n",
    "    combined_data <- rbindlist(data_list, use.names = TRUE, fill = TRUE)\n",
    "\n",
    "    # Write data incrementally\n",
    "    if (!header_written) {\n",
    "      fwrite(combined_data, output_file)\n",
    "      header_written <- TRUE\n",
    "    } else {\n",
    "      fwrite(combined_data, output_file, append = TRUE)\n",
    "    }\n",
    "  }\n",
    "}\n",
    "\n",
    "# Close the log file\n",
    "sink(type = \"message\")\n",
    "sink(type = \"output\")\n",
    "close(log_file)"
   ]
  },
  {
   "cell_type": "markdown",
   "id": "9b7639cf-d573-454a-8b12-ae05b10e3050",
   "metadata": {},
   "source": [
    "## Trust but verify"
   ]
  },
  {
   "cell_type": "code",
   "execution_count": 9,
   "id": "3b5ee9ec-c572-41d3-aef1-de657b591c61",
   "metadata": {},
   "outputs": [
    {
     "data": {
      "text/html": [],
      "text/latex": [],
      "text/markdown": [],
      "text/plain": [
       "integer(0)"
      ]
     },
     "metadata": {},
     "output_type": "display_data"
    }
   ],
   "source": [
    "which(df$final_paths == \"..//output_EXPANSE_a2_hippo/libd_chr2-chr2_all-libd_chr2-chr2_all-1520001-1540000-dynamic-1corestotal-allcorepera-20240505-001208_gwas_stat_bp_results.rds\")"
   ]
  },
  {
   "cell_type": "markdown",
   "id": "f4b88d4f-a9d1-46f7-be13-2b5ceafbddbb",
   "metadata": {},
   "source": [
    "## Investigate the files that didn't finish and repeat if needed"
   ]
  },
  {
   "cell_type": "code",
   "execution_count": 10,
   "id": "7018e8d2-7b1f-47c0-8523-e3ae93d1cf10",
   "metadata": {},
   "outputs": [
    {
     "data": {
      "text/html": [
       "'..//output_EXPANSE_a2_hippo/libd_chr2-chr2_all-libd_chr2-chr2_all-1520001-1540000-dynamic-1corestotal-allcorepera-20240505-001208_gwas_stat_scz_results.rds'"
      ],
      "text/latex": [
       "'..//output\\_EXPANSE\\_a2\\_hippo/libd\\_chr2-chr2\\_all-libd\\_chr2-chr2\\_all-1520001-1540000-dynamic-1corestotal-allcorepera-20240505-001208\\_gwas\\_stat\\_scz\\_results.rds'"
      ],
      "text/markdown": [
       "'..//output_EXPANSE_a2_hippo/libd_chr2-chr2_all-libd_chr2-chr2_all-1520001-1540000-dynamic-1corestotal-allcorepera-20240505-001208_gwas_stat_scz_results.rds'"
      ],
      "text/plain": [
       "[1] \"..//output_EXPANSE_a2_hippo/libd_chr2-chr2_all-libd_chr2-chr2_all-1520001-1540000-dynamic-1corestotal-allcorepera-20240505-001208_gwas_stat_scz_results.rds\""
      ]
     },
     "metadata": {},
     "output_type": "display_data"
    }
   ],
   "source": [
    "df$final_paths[4294]"
   ]
  },
  {
   "cell_type": "code",
   "execution_count": 11,
   "id": "314b21cb-6cd5-45fb-bc84-69fe51310175",
   "metadata": {},
   "outputs": [
    {
     "data": {
      "text/html": [
       "FALSE"
      ],
      "text/latex": [
       "FALSE"
      ],
      "text/markdown": [
       "FALSE"
      ],
      "text/plain": [
       "[1] FALSE"
      ]
     },
     "metadata": {},
     "output_type": "display_data"
    }
   ],
   "source": [
    "file.exists(df$final_paths[4294])"
   ]
  },
  {
   "cell_type": "code",
   "execution_count": 12,
   "id": "5d6f2f8c-25fd-46b2-a09d-6c438a4df1f6",
   "metadata": {},
   "outputs": [
    {
     "data": {
      "text/html": [
       "TRUE"
      ],
      "text/latex": [
       "TRUE"
      ],
      "text/markdown": [
       "TRUE"
      ],
      "text/plain": [
       "[1] TRUE"
      ]
     },
     "metadata": {},
     "output_type": "display_data"
    }
   ],
   "source": [
    "file.exists(df$final_paths[4293])"
   ]
  },
  {
   "cell_type": "code",
   "execution_count": 13,
   "id": "8b4ddca5-2ab1-42d9-8a72-834f6b6f96f9",
   "metadata": {},
   "outputs": [
    {
     "data": {
      "text/html": [
       "FALSE"
      ],
      "text/latex": [
       "FALSE"
      ],
      "text/markdown": [
       "FALSE"
      ],
      "text/plain": [
       "[1] FALSE"
      ]
     },
     "metadata": {},
     "output_type": "display_data"
    }
   ],
   "source": [
    "file.exists(df$final_paths[4299])"
   ]
  },
  {
   "cell_type": "code",
   "execution_count": null,
   "id": "435b25ca-54ed-4811-8f7e-0e6e85259eea",
   "metadata": {},
   "outputs": [],
   "source": [
    "df$exists <- file.exists(df$final_paths)"
   ]
  },
  {
   "cell_type": "code",
   "execution_count": null,
   "id": "62a19238-7128-4157-b738-cde731bcc17b",
   "metadata": {},
   "outputs": [],
   "source": [
    "levels(factor(df$exists))"
   ]
  },
  {
   "cell_type": "code",
   "execution_count": null,
   "id": "9d4944de-cf53-42c2-879d-8c0255beda28",
   "metadata": {},
   "outputs": [],
   "source": [
    "table(df$exists)"
   ]
  },
  {
   "cell_type": "code",
   "execution_count": 5,
   "id": "9df17a95-e19e-4c61-9b89-1581c66d590b",
   "metadata": {},
   "outputs": [
    {
     "data": {
      "text/html": [
       "'/expanse/lustre/projects/jhu152/naglemi/mwas/CpGWAS/scripts'"
      ],
      "text/latex": [
       "'/expanse/lustre/projects/jhu152/naglemi/mwas/CpGWAS/scripts'"
      ],
      "text/markdown": [
       "'/expanse/lustre/projects/jhu152/naglemi/mwas/CpGWAS/scripts'"
      ],
      "text/plain": [
       "[1] \"/expanse/lustre/projects/jhu152/naglemi/mwas/CpGWAS/scripts\""
      ]
     },
     "metadata": {},
     "output_type": "display_data"
    }
   ],
   "source": [
    "getwd()"
   ]
  },
  {
   "cell_type": "markdown",
   "id": "58fe4a6a-936f-428b-b8cd-798c1ed798cd",
   "metadata": {},
   "source": [
    "## Checking logs etc"
   ]
  },
  {
   "cell_type": "code",
   "execution_count": 1,
   "id": "325d0a0c-afdd-4283-9543-fa69358fa531",
   "metadata": {},
   "outputs": [
    {
     "name": "stdout",
     "output_type": "stream",
     "text": [
      "No errors found in log.\n"
     ]
    }
   ],
   "source": [
    "# Function to check for errors in the log file\n",
    "check_log_for_errors <- function(log_path) {\n",
    "  log_contents <- readLines(log_path)\n",
    "  errors <- grep(\"error|stop|interrupted\", tolower(log_contents), value = TRUE)\n",
    "  if (length(errors) > 0) {\n",
    "    return(list(success = FALSE, messages = errors))\n",
    "  }\n",
    "  return(list(success = TRUE))\n",
    "}\n",
    "\n",
    "# Usage\n",
    "log_result <- check_log_for_errors(\"processing_log.txt\")\n",
    "if (log_result$success) {\n",
    "  cat(\"No errors found in log.\\n\")\n",
    "} else {\n",
    "  cat(\"Errors found in log:\\n\", paste(log_result$messages, collapse = \"\\n\"))\n",
    "}\n"
   ]
  },
  {
   "cell_type": "code",
   "execution_count": 1,
   "id": "35b74823-0607-4deb-9d6b-977e87751f3c",
   "metadata": {},
   "outputs": [],
   "source": [
    "library(data.table)"
   ]
  },
  {
   "cell_type": "code",
   "execution_count": 4,
   "id": "07a68f04-c0d0-4b5c-b187-763e6e9160a5",
   "metadata": {},
   "outputs": [],
   "source": [
    "# SLOW Function to validate output files\n",
    "validate_output_files <- function(trait_names, output_path_template) {\n",
    "  for (trait in trait_names) {\n",
    "    file_path <- sprintf(output_path_template, trait)\n",
    "    if (!file.exists(file_path)) {\n",
    "      cat(sprintf(\"Output file for %s does not exist.\\n\", trait))\n",
    "      next\n",
    "    }\n",
    "    dt <- fread(file_path)\n",
    "    if (nrow(dt) == 0) {\n",
    "      cat(sprintf(\"Output file for %s is empty.\\n\", trait))\n",
    "    } else {\n",
    "      cat(sprintf(\"Output file for %s has %d rows.\\n\", trait, nrow(dt)))\n",
    "    }\n",
    "  }\n",
    "}\n",
    "\n",
    "# Usage\n",
    "#validate_output_files(c(\"bp\", \"mdd\", \"scz\"), \"16a5-OUT_stage2_MWAS_%s.csv\")\n"
   ]
  },
  {
   "cell_type": "code",
   "execution_count": 2,
   "id": "8ebc803c-488f-48d7-b2c2-19b70eef5121",
   "metadata": {},
   "outputs": [
    {
     "ename": "ERROR",
     "evalue": "Error in sprintf(\"Output file for %s is valid with size %d bytes.\", trait, : invalid format '%d'; use format %f, %e, %g or %a for numeric objects\n",
     "output_type": "error",
     "traceback": [
      "Error in sprintf(\"Output file for %s is valid with size %d bytes.\", trait, : invalid format '%d'; use format %f, %e, %g or %a for numeric objects\nTraceback:\n",
      "1. check_output_files_existence_and_size(c(\"bp\", \"mdd\", \"scz\"), \n .     \"16a5-OUT_stage2_MWAS_%s.csv\")",
      "2. sprintf(\"Output file for %s is valid with size %d bytes.\", trait, \n .     file_size)   # at line 11 of file <text>"
     ]
    }
   ],
   "source": [
    "# Function to check if output files exist and are not empty\n",
    "check_output_files_existence_and_size <- function(trait_names, output_path_template) {\n",
    "  results <- list()\n",
    "  for (trait in trait_names) {\n",
    "    file_path <- sprintf(output_path_template, trait)\n",
    "    if (!file.exists(file_path)) {\n",
    "      results[[trait]] <- sprintf(\"Output file for %s does not exist.\", trait)\n",
    "    } else {\n",
    "      file_size <- file.info(file_path)$size\n",
    "      if (file_size > 0) {\n",
    "        results[[trait]] <- sprintf(\"Output file for %s is valid with size %d bytes.\", trait, file_size)\n",
    "      } else {\n",
    "        results[[trait]] <- sprintf(\"Output file for %s exists but is empty.\", trait)\n",
    "      }\n",
    "    }\n",
    "  }\n",
    "  return(results)\n",
    "}\n",
    "\n",
    "# Usage\n",
    "file_check_results <- check_output_files_existence_and_size(c(\"bp\", \"mdd\", \"scz\"), \"16a5-OUT_stage2_MWAS_%s.csv\")\n",
    "for (result in file_check_results) {\n",
    "  cat(result, \"\\n\")\n",
    "}\n"
   ]
  },
  {
   "cell_type": "code",
   "execution_count": 3,
   "id": "446e759d-5e1e-46aa-a5c2-3f48966e6b4c",
   "metadata": {},
   "outputs": [
    {
     "name": "stderr",
     "output_type": "stream",
     "text": [
      "Warning message in check_output_files_existence_and_size(c(\"bp\", \"mdd\", \"scz\"), :\n",
      "“NAs introduced by coercion to integer range”\n"
     ]
    },
    {
     "ename": "ERROR",
     "evalue": "Error in if (file_size > 0) {: missing value where TRUE/FALSE needed\n",
     "output_type": "error",
     "traceback": [
      "Error in if (file_size > 0) {: missing value where TRUE/FALSE needed\nTraceback:\n",
      "1. check_output_files_existence_and_size(c(\"bp\", \"mdd\", \"scz\"), \n .     \"16a5-OUT_stage2_MWAS_%s.csv\")"
     ]
    }
   ],
   "source": [
    "# Function to check if output files exist and are not empty\n",
    "check_output_files_existence_and_size <- function(trait_names, output_path_template) {\n",
    "  results <- list()\n",
    "  for (trait in trait_names) {\n",
    "    file_path <- sprintf(output_path_template, trait)\n",
    "    if (!file.exists(file_path)) {\n",
    "      results[[trait]] <- sprintf(\"Output file for %s does not exist.\", trait)\n",
    "    } else {\n",
    "      file_size <- as.integer(file.info(file_path)$size)  # Ensure integer format\n",
    "      if (file_size > 0) {\n",
    "        results[[trait]] <- sprintf(\"Output file for %s is valid with size %d bytes.\", trait, file_size)\n",
    "      } else {\n",
    "        results[[trait]] <- sprintf(\"Output file for %s exists but is empty.\", trait)\n",
    "      }\n",
    "    }\n",
    "  }\n",
    "  return(results)\n",
    "}\n",
    "\n",
    "# Usage\n",
    "file_check_results <- check_output_files_existence_and_size(c(\"bp\", \"mdd\", \"scz\"), \"16a5-OUT_stage2_MWAS_%s.csv\")\n",
    "for (result in file_check_results) {\n",
    "  cat(result, \"\\n\")\n",
    "}\n"
   ]
  },
  {
   "cell_type": "code",
   "execution_count": 4,
   "id": "40515f64-1636-45fa-9f95-dda3dfcb93a5",
   "metadata": {},
   "outputs": [
    {
     "name": "stdout",
     "output_type": "stream",
     "text": [
      "Output file for bp is valid with size 16912150884.000000 bytes. \n",
      "Output file for mdd does not exist. \n",
      "Output file for scz does not exist. \n"
     ]
    }
   ],
   "source": [
    "# Function to check if output files exist and are not empty\n",
    "check_output_files_existence_and_size <- function(trait_names, output_path_template) {\n",
    "  results <- list()\n",
    "  for (trait in trait_names) {\n",
    "    file_path <- sprintf(output_path_template, trait)\n",
    "    if (!file.exists(file_path)) {\n",
    "      results[[trait]] <- sprintf(\"Output file for %s does not exist.\", trait)\n",
    "    } else {\n",
    "      file_size <- file.info(file_path)$size  # Get the file size without casting\n",
    "      if (!is.na(file_size) && file_size > 0) {\n",
    "        results[[trait]] <- sprintf(\"Output file for %s is valid with size %f bytes.\", trait, file_size)\n",
    "      } else if (is.na(file_size)) {\n",
    "        results[[trait]] <- sprintf(\"Error retrieving file size for %s.\", trait)\n",
    "      } else {\n",
    "        results[[trait]] <- sprintf(\"Output file for %s exists but is empty.\", trait)\n",
    "      }\n",
    "    }\n",
    "  }\n",
    "  return(results)\n",
    "}\n",
    "\n",
    "# Usage\n",
    "file_check_results <- check_output_files_existence_and_size(c(\"bp\", \"mdd\", \"scz\"), \"16a5-OUT_stage2_MWAS_%s.csv\")\n",
    "for (result in file_check_results) {\n",
    "  cat(result, \"\\n\")\n",
    "}\n"
   ]
  },
  {
   "cell_type": "markdown",
   "id": "9d309cab-a98f-4326-a05e-9c3bc7fe7908",
   "metadata": {},
   "source": [
    "## Second attempt"
   ]
  },
  {
   "cell_type": "code",
   "execution_count": 6,
   "id": "aeb5dbac-af4e-47b4-8fde-9aae9675f501",
   "metadata": {},
   "outputs": [
    {
     "name": "stderr",
     "output_type": "stream",
     "text": [
      "An error occurred: object of type 'closure' is not subsettable\n",
      "\n"
     ]
    },
    {
     "ename": "ERROR",
     "evalue": "Error in close.connection(log_file): cannot close 'message' sink connection\n",
     "output_type": "error",
     "traceback": [
      "Error in close.connection(log_file): cannot close 'message' sink connection\nTraceback:\n",
      "1. tryCatch({\n .     traits <- c(\"bp\", \"mdd\", \"scz\")\n .     df$stage2_paths <- gsub(\".rds\", \"_gwas_stat_\", df$path)\n .     df$final_paths <- vector(\"list\", length(df$stage2_paths))\n .     for (trait in traits) {\n .         message(\"Processing trait: \", trait)\n .         df$final_paths <- paste0(df$stage2_paths, trait, \"_results.rds\")\n .         output_file <- paste0(\"16a6-OUT_stage2_MWAS_\", trait, \n .             \".csv\")\n .         header_written <- FALSE\n .         for (i in seq_along(df$final_paths)) {\n .             if (grepl(\"empty\", df$final_paths[i])) \n .                 next\n .             message(\"Processing file \", i, \" of \", length(df$final_paths))\n .             stage2_in <- readRDS(df$final_paths[i])\n .             stage1_in <- readRDS(df$path[i])\n .             if (length(stage1_in@models) != length(stage2_in@MWASmodels)) {\n .                 stop(\"Files don't match\")\n .             }\n .             data_list <- vector(\"list\", length(stage1_in@models))\n .             for (j in seq_along(stage1_in@models)) {\n .                 model1 <- stage1_in@models[[j]]\n .                 model2 <- stage2_in@MWASmodels[[j]]\n .                 data_list[[j]] <- data.table(z = model2[\"z\"], \n .                   p = model2[\"p\"], n = model2[\"n\"], pos = model1@methylationPosition, \n .                   stats = stage2_in@summary_stats_path, scaff = stage1_in@scaffoldIdentifier)\n .             }\n .             combined_data <- rbindlist(data_list, use.names = TRUE, \n .                 fill = TRUE)\n .             if (!header_written) {\n .                 fwrite(combined_data, output_file)\n .                 header_written <- TRUE\n .             }\n .             else {\n .                 fwrite(combined_data, output_file, append = TRUE)\n .             }\n .         }\n .     }\n . }, error = function(e) {\n .     message(\"An error occurred: \", e$message)\n . }, finally = {\n .     sink(NULL)\n .     close(log_file)\n .     message(\"Logging ended.\")\n . })",
      "2. close(log_file)   # at line 61 of file <text>",
      "3. close.connection(log_file)"
     ]
    }
   ],
   "source": [
    "library(data.table)\n",
    "library(ggplot2)\n",
    "\n",
    "# Initialize logging\n",
    "log_file <- file(\"processing_log.txt\", open = \"wt\")\n",
    "sink(log_file, type = \"message\")\n",
    "sink(log_file, type = \"output\", append = TRUE)\n",
    "\n",
    "tryCatch({\n",
    "    traits <- c(\"bp\", \"mdd\", \"scz\")\n",
    "    df$stage2_paths <- gsub(\".rds\", \"_gwas_stat_\", df$path)\n",
    "    df$final_paths <- vector(\"list\", length(df$stage2_paths))\n",
    "\n",
    "    for (trait in traits) {\n",
    "        message(\"Processing trait: \", trait)\n",
    "        df$final_paths <- paste0(df$stage2_paths, trait, \"_results.rds\")\n",
    "        output_file <- paste0(\"16a6-OUT_stage2_MWAS_\", trait, \".csv\")\n",
    "        header_written <- FALSE\n",
    "\n",
    "        for (i in seq_along(df$final_paths)) {\n",
    "            if (grepl(\"empty\", df$final_paths[i])) next\n",
    "            \n",
    "            message(\"Processing file \", i, \" of \", length(df$final_paths))\n",
    "            stage2_in <- readRDS(df$final_paths[i])\n",
    "            stage1_in <- readRDS(df$path[i])\n",
    "            \n",
    "            if (length(stage1_in@models) != length(stage2_in@MWASmodels)) {\n",
    "                stop(\"Files don't match\")\n",
    "            }\n",
    "\n",
    "            data_list <- vector(\"list\", length(stage1_in@models))\n",
    "            for (j in seq_along(stage1_in@models)) {\n",
    "                model1 <- stage1_in@models[[j]]\n",
    "                model2 <- stage2_in@MWASmodels[[j]]\n",
    "\n",
    "                data_list[[j]] <- data.table(\n",
    "                    z = model2[\"z\"],\n",
    "                    p = model2[\"p\"],\n",
    "                    n = model2[\"n\"],\n",
    "                    pos = model1@methylationPosition,\n",
    "                    stats = stage2_in@summary_stats_path,\n",
    "                    scaff = stage1_in@scaffoldIdentifier\n",
    "                )\n",
    "            }\n",
    "\n",
    "            combined_data <- rbindlist(data_list, use.names = TRUE, fill = TRUE)\n",
    "\n",
    "            # Write data incrementally\n",
    "            if (!header_written) {\n",
    "                fwrite(combined_data, output_file)\n",
    "                header_written <- TRUE\n",
    "            } else {\n",
    "                fwrite(combined_data, output_file, append = TRUE)\n",
    "            }\n",
    "        }\n",
    "    }\n",
    "}, error = function(e) {\n",
    "    message(\"An error occurred: \", e$message)\n",
    "}, finally = {\n",
    "    sink(NULL)  # Turn off logging\n",
    "    close(log_file)\n",
    "    message(\"Logging ended.\")\n",
    "})\n",
    "\n"
   ]
  },
  {
   "cell_type": "code",
   "execution_count": null,
   "id": "762a3cc6-c4be-42ee-ac13-9313999af855",
   "metadata": {},
   "outputs": [],
   "source": []
  }
 ],
 "metadata": {
  "kernelspec": {
   "display_name": "R",
   "language": "R",
   "name": "ir"
  },
  "language_info": {
   "codemirror_mode": "r",
   "file_extension": ".r",
   "mimetype": "text/x-r-source",
   "name": "R",
   "pygments_lexer": "r",
   "version": "4.3.1"
  }
 },
 "nbformat": 4,
 "nbformat_minor": 5
}
