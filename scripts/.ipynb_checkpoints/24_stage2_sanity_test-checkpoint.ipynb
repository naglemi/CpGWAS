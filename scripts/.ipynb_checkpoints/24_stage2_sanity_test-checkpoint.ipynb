{
 "cells": [
  {
   "cell_type": "markdown",
   "id": "c1fbc823-9681-486f-9163-c185c7dcd8f4",
   "metadata": {},
   "source": [
    "# Sanity testing stage 2 batch processing code"
   ]
  },
  {
   "cell_type": "code",
   "execution_count": 1,
   "id": "986542ab-085d-40e2-9ab4-b12a3fffa01f",
   "metadata": {},
   "outputs": [],
   "source": [
    "library(CpGWAS)\n",
    "library(data.table)\n",
    "library(stringr)\n",
    "library(optparse)\n",
    "\n",
    "# Command line options\n",
    "# option_list <- list(\n",
    "#   make_option(c(\"-g\", \"--genome_file_index\"), type = \"integer\", default = 1,\n",
    "#               help = \"Index of genome file to process\"),\n",
    "#   make_option(c(\"-d\", \"--data_file\"), type = \"character\", default = \"/expanse/lustre/projects/jhu152/naglemi/mwas/CpGWAS/scripts/12-OUT_matched_SNP_meth_cov_outputs.csv\",\n",
    "#               help = \"Path to data file\")\n",
    "# )\n",
    "\n",
    "#opt <- parse_args(OptionParser(option_list = option_list))\n",
    "\n",
    "opt <- list()\n",
    "opt$data_file <- \"/expanse/lustre/projects/jhu152/naglemi/mwas/CpGWAS/scripts/12-OUT_matched_SNP_meth_cov_outputs.csv\"\n",
    "opt$genome_file_index <- 1"
   ]
  },
  {
   "cell_type": "code",
   "execution_count": 3,
   "id": "a54af79e-33ec-44f0-880c-0e9fefd32278",
   "metadata": {},
   "outputs": [
    {
     "name": "stdout",
     "output_type": "stream",
     "text": [
      "[1] \"Starting genome file processing\"\n",
      "[1] \"Processing genome file index: 1\"\n",
      "[1] \"Loaded SNP data\"\n",
      "[1] \"Files for this Chr:\"\n",
      "[1] 1965\n"
     ]
    }
   ],
   "source": [
    "# Load genome files\n",
    "genome_files <- list.files(\"/expanse/lustre/projects/jhu152/naglemi/mwas/gwas\",\n",
    "                           pattern = \"EUR\", full.names = TRUE)\n",
    "genome_files <- genome_files[grepl(\"pvar\", genome_files)]\n",
    "\n",
    "genome_files <- data.table(path = genome_files, Chr = NA)\n",
    "\n",
    "genome_files$Chr <- str_split_fixed(genome_files$path, \"chr\", 2)[, 2]\n",
    "genome_files$Chr <- gsub(\".pvar\", \"\", genome_files$Chr)\n",
    "\n",
    "genome_files$Chr <- as.integer(genome_files$Chr)\n",
    "genome_files <- genome_files[order(genome_files$Chr), ]\n",
    "\n",
    "df <- fread(opt$data_file)\n",
    "\n",
    "summary_stats_list <- list.files(\"/expanse/lustre/projects/jhu152/naglemi/mwas/gwas\", pattern = \"stat\", full.names = TRUE)\n",
    "\n",
    "# Pre-load all summary stats files into a list and clean/standardize column names\n",
    "summary_stats_data <- lapply(summary_stats_list, function(path) {\n",
    "  stats <- suppressWarnings(data.table::fread(path))\n",
    "  colnames(stats) <- gsub(\"#CHROM\", \"CHR\", colnames(stats))\n",
    "  clean_and_standardize_colnames(stats)\n",
    "})\n",
    "\n",
    "print(\"Starting genome file processing\")\n",
    "# Process the specified genome file\n",
    "g <- opt$genome_file_index\n",
    "print(paste(\"Processing genome file index:\", g))\n",
    "\n",
    "paths <- list(\n",
    "  pvar_path = genome_files[g]$path,\n",
    "  pgen_path = gsub(\"pvar\", \"pgen\", genome_files[g]$path),\n",
    "  psam_path = gsub(\"pvar\", \"psam\", genome_files[g]$path)\n",
    ")\n",
    "\n",
    "my_SNPs <- CpGWAS::loadSNPData(paths$pvar_path, paths$pgen_path, paths$psam_path)\n",
    "setkey(my_SNPs$pvar_dt, `#CHROM`, POS)\n",
    "df_this_chr <- df[which(df$Chr == genome_files[g]$Chr), ]\n",
    "\n",
    "summary_stats_data <- lapply(summary_stats_data, function(stats) stats[`CHR` == genome_files[g]$Chr])\n",
    "\n",
    "print(\"Loaded SNP data\")\n",
    "print(\"Files for this Chr:\")\n",
    "print(nrow(df_this_chr))"
   ]
  },
  {
   "cell_type": "markdown",
   "id": "89cd8e4d-40f9-4aef-a225-c5e6aaab34f2",
   "metadata": {},
   "source": [
    "Let's skip ahead to a row for which we are very highly interested...."
   ]
  },
  {
   "cell_type": "code",
   "execution_count": 7,
   "id": "df53c754-4575-402c-9a32-b78df169681e",
   "metadata": {},
   "outputs": [],
   "source": [
    "df_this_chr <- df_this_chr[grepl(\"chr1_all-libd_chr1-chr1_all-908982-928981-dynamic-1corestotal-allcorepera-caud-20240510-145818.rds\", df_this_chr$path), ]"
   ]
  },
  {
   "cell_type": "code",
   "execution_count": 8,
   "id": "0f6448b6-b92f-445d-be0e-373a8b469db9",
   "metadata": {},
   "outputs": [
    {
     "data": {
      "text/html": [
       "<table class=\"dataframe\">\n",
       "<caption>A data.table: 1 × 14</caption>\n",
       "<thead>\n",
       "\t<tr><th scope=col>Chr</th><th scope=col>population</th><th scope=col>region</th><th scope=col>chunk_start</th><th scope=col>chunk_end</th><th scope=col>SNP_data</th><th scope=col>methylation_data</th><th scope=col>last_meth_value_with_SNP_coverage</th><th scope=col>first_meth_value_with_SNP_coverage</th><th scope=col>last_meth_index_with_SNP_coverage</th><th scope=col>first_meth_index_with_SNP_coverage</th><th scope=col>cov_file</th><th scope=col>modified_methylation_data</th><th scope=col>path</th></tr>\n",
       "\t<tr><th scope=col>&lt;int&gt;</th><th scope=col>&lt;chr&gt;</th><th scope=col>&lt;chr&gt;</th><th scope=col>&lt;int&gt;</th><th scope=col>&lt;dbl&gt;</th><th scope=col>&lt;chr&gt;</th><th scope=col>&lt;chr&gt;</th><th scope=col>&lt;int&gt;</th><th scope=col>&lt;int&gt;</th><th scope=col>&lt;int&gt;</th><th scope=col>&lt;int&gt;</th><th scope=col>&lt;chr&gt;</th><th scope=col>&lt;chr&gt;</th><th scope=col>&lt;chr&gt;</th></tr>\n",
       "</thead>\n",
       "<tbody>\n",
       "\t<tr><td>1</td><td>all</td><td>caud</td><td>908982</td><td>928981</td><td>/dcs04/lieber/statsgen/shizhong/michael/mwas/gwas//libd_chr1.pgen</td><td>/dcs04/lieber/statsgen/shizhong/michael/mwas/pheno/caud/out/chr1_all.rda</td><td>248918358</td><td>1069461</td><td>2202702</td><td>8982</td><td>/dcs04/lieber/statsgen/mnagle/mwas/full_covariates/all_caud.csv</td><td>/dcs04/lieber/statsgen/mnagle/mwas/pheno/caud/out/chr1_all_908982-928981.rds</td><td>..//output_EXPANSE_a2_caud/libd_chr1-chr1_all-libd_chr1-chr1_all-908982-928981-dynamic-1corestotal-allcorepera-caud-20240510-145818.rds</td></tr>\n",
       "</tbody>\n",
       "</table>\n"
      ],
      "text/latex": [
       "A data.table: 1 × 14\n",
       "\\begin{tabular}{llllllllllllll}\n",
       " Chr & population & region & chunk\\_start & chunk\\_end & SNP\\_data & methylation\\_data & last\\_meth\\_value\\_with\\_SNP\\_coverage & first\\_meth\\_value\\_with\\_SNP\\_coverage & last\\_meth\\_index\\_with\\_SNP\\_coverage & first\\_meth\\_index\\_with\\_SNP\\_coverage & cov\\_file & modified\\_methylation\\_data & path\\\\\n",
       " <int> & <chr> & <chr> & <int> & <dbl> & <chr> & <chr> & <int> & <int> & <int> & <int> & <chr> & <chr> & <chr>\\\\\n",
       "\\hline\n",
       "\t 1 & all & caud & 908982 & 928981 & /dcs04/lieber/statsgen/shizhong/michael/mwas/gwas//libd\\_chr1.pgen & /dcs04/lieber/statsgen/shizhong/michael/mwas/pheno/caud/out/chr1\\_all.rda & 248918358 & 1069461 & 2202702 & 8982 & /dcs04/lieber/statsgen/mnagle/mwas/full\\_covariates/all\\_caud.csv & /dcs04/lieber/statsgen/mnagle/mwas/pheno/caud/out/chr1\\_all\\_908982-928981.rds & ..//output\\_EXPANSE\\_a2\\_caud/libd\\_chr1-chr1\\_all-libd\\_chr1-chr1\\_all-908982-928981-dynamic-1corestotal-allcorepera-caud-20240510-145818.rds\\\\\n",
       "\\end{tabular}\n"
      ],
      "text/markdown": [
       "\n",
       "A data.table: 1 × 14\n",
       "\n",
       "| Chr &lt;int&gt; | population &lt;chr&gt; | region &lt;chr&gt; | chunk_start &lt;int&gt; | chunk_end &lt;dbl&gt; | SNP_data &lt;chr&gt; | methylation_data &lt;chr&gt; | last_meth_value_with_SNP_coverage &lt;int&gt; | first_meth_value_with_SNP_coverage &lt;int&gt; | last_meth_index_with_SNP_coverage &lt;int&gt; | first_meth_index_with_SNP_coverage &lt;int&gt; | cov_file &lt;chr&gt; | modified_methylation_data &lt;chr&gt; | path &lt;chr&gt; |\n",
       "|---|---|---|---|---|---|---|---|---|---|---|---|---|---|\n",
       "| 1 | all | caud | 908982 | 928981 | /dcs04/lieber/statsgen/shizhong/michael/mwas/gwas//libd_chr1.pgen | /dcs04/lieber/statsgen/shizhong/michael/mwas/pheno/caud/out/chr1_all.rda | 248918358 | 1069461 | 2202702 | 8982 | /dcs04/lieber/statsgen/mnagle/mwas/full_covariates/all_caud.csv | /dcs04/lieber/statsgen/mnagle/mwas/pheno/caud/out/chr1_all_908982-928981.rds | ..//output_EXPANSE_a2_caud/libd_chr1-chr1_all-libd_chr1-chr1_all-908982-928981-dynamic-1corestotal-allcorepera-caud-20240510-145818.rds |\n",
       "\n"
      ],
      "text/plain": [
       "  Chr population region chunk_start chunk_end\n",
       "1 1   all        caud   908982      928981   \n",
       "  SNP_data                                                         \n",
       "1 /dcs04/lieber/statsgen/shizhong/michael/mwas/gwas//libd_chr1.pgen\n",
       "  methylation_data                                                        \n",
       "1 /dcs04/lieber/statsgen/shizhong/michael/mwas/pheno/caud/out/chr1_all.rda\n",
       "  last_meth_value_with_SNP_coverage first_meth_value_with_SNP_coverage\n",
       "1 248918358                         1069461                           \n",
       "  last_meth_index_with_SNP_coverage first_meth_index_with_SNP_coverage\n",
       "1 2202702                           8982                              \n",
       "  cov_file                                                       \n",
       "1 /dcs04/lieber/statsgen/mnagle/mwas/full_covariates/all_caud.csv\n",
       "  modified_methylation_data                                                   \n",
       "1 /dcs04/lieber/statsgen/mnagle/mwas/pheno/caud/out/chr1_all_908982-928981.rds\n",
       "  path                                                                                                                                   \n",
       "1 ..//output_EXPANSE_a2_caud/libd_chr1-chr1_all-libd_chr1-chr1_all-908982-928981-dynamic-1corestotal-allcorepera-caud-20240510-145818.rds"
      ]
     },
     "metadata": {},
     "output_type": "display_data"
    }
   ],
   "source": [
    "df_this_chr"
   ]
  },
  {
   "cell_type": "code",
   "execution_count": 2,
   "id": "35b8d8de-2773-4585-be4d-f8ba38f5373c",
   "metadata": {},
   "outputs": [],
   "source": [
    "# Expected result\n",
    "\n",
    "# cg  z\tp\n",
    "# 73418062\t-12.52445\t5.487211e-36\n",
    "# 73418161\t-15.61757\t5.526944e-55\n",
    "# 73418186\t-15.64082\t3.837365e-55\n",
    "# 73418205\t-21.06016\t1.845558e-98\n",
    "# 73418313\t-19.28061\t7.814446e-83"
   ]
  },
  {
   "cell_type": "code",
   "execution_count": 9,
   "id": "b09e7068-0d3a-4dff-a53d-a9ee432749ba",
   "metadata": {},
   "outputs": [],
   "source": []
  },
  {
   "cell_type": "code",
   "execution_count": 10,
   "id": "9256a7ab-3cdf-4060-85ce-1a605af8e8ba",
   "metadata": {},
   "outputs": [
    {
     "name": "stdout",
     "output_type": "stream",
     "text": [
      "[1] \"File number: 1\"\n",
      "[1] \"Loaded RDS file: ..//output_EXPANSE_a2_caud/libd_chr1-chr1_all-libd_chr1-chr1_all-908982-928981-dynamic-1corestotal-allcorepera-caud-20240510-145818.rds\"\n"
     ]
    }
   ],
   "source": [
    "                         \n",
    "#for(j in 1:nrow(df_this_chr)){\n",
    "print(paste0(\"File number: \", j))\n",
    "if (grepl(\"empty\", df_this_chr$path[j])) {\n",
    "    message(paste0(\"no model for \", df_this_chr$path[j]))\n",
    "    next\n",
    "}\n",
    "\n",
    "all_files_exist <- TRUE\n",
    "outnames <- vector(\"character\", length(summary_stats_list))\n",
    "\n",
    "for (k in 1:length(summary_stats_list)) {\n",
    "    outnames[k] <- gsub(\"\\\\.rds$\", paste0(\"_\", basename(tools::file_path_sans_ext(summary_stats_list[[k]])), \"_results.rds\"), df_this_chr$path[j])\n",
    "    if (!file.exists(outnames[k])) {\n",
    "        all_files_exist <- FALSE\n",
    "        break  # Exit the loop early if any file does not exist\n",
    "    }\n",
    "}\n",
    "\n",
    "if (all_files_exist) {\n",
    "    print(paste(\"All output files already exist for\", df_this_chr$path[j], \"- Skipping\"))\n",
    "    next  # Skip to the next file if all outputs already exist\n",
    "}\n",
    "#\n",
    "my_rds <- tryCatch({\n",
    "    readRDS(df_this_chr$path[j])\n",
    "}, error = function(e) {\n",
    "# Print an error message and skip this iteration\n",
    "    message(\"ALERT!!! Error reading RDS file: \", e$message)\n",
    "    return(NULL)  # Return NULL to signal failure\n",
    "})\n",
    "\n",
    "# Check if the readRDS call returned NULL (which indicates an error)\n",
    "if (is.null(my_rds)) {\n",
    "    next  # Skip the rest of this loop iteration\n",
    "}\n",
    "\n",
    "print(paste(\"Loaded RDS file:\", df_this_chr$path[j]))"
   ]
  },
  {
   "cell_type": "markdown",
   "id": "fb74a28a-619d-41d8-b033-384c7bdc9f8f",
   "metadata": {},
   "source": [
    "Only want to run the scz summary stats for this sanity test here"
   ]
  },
  {
   "cell_type": "code",
   "execution_count": 11,
   "id": "ec98f3d8-d558-432a-b8de-3f8dd57ff2d4",
   "metadata": {},
   "outputs": [
    {
     "data": {
      "text/html": [
       "<style>\n",
       ".list-inline {list-style: none; margin:0; padding: 0}\n",
       ".list-inline>li {display: inline-block}\n",
       ".list-inline>li:not(:last-child)::after {content: \"\\00b7\"; padding: 0 .5ex}\n",
       "</style>\n",
       "<ol class=list-inline><li>'/expanse/lustre/projects/jhu152/naglemi/mwas/gwas/gwas_stat_bp'</li><li>'/expanse/lustre/projects/jhu152/naglemi/mwas/gwas/gwas_stat_mdd'</li><li>'/expanse/lustre/projects/jhu152/naglemi/mwas/gwas/gwas_stat_scz'</li></ol>\n"
      ],
      "text/latex": [
       "\\begin{enumerate*}\n",
       "\\item '/expanse/lustre/projects/jhu152/naglemi/mwas/gwas/gwas\\_stat\\_bp'\n",
       "\\item '/expanse/lustre/projects/jhu152/naglemi/mwas/gwas/gwas\\_stat\\_mdd'\n",
       "\\item '/expanse/lustre/projects/jhu152/naglemi/mwas/gwas/gwas\\_stat\\_scz'\n",
       "\\end{enumerate*}\n"
      ],
      "text/markdown": [
       "1. '/expanse/lustre/projects/jhu152/naglemi/mwas/gwas/gwas_stat_bp'\n",
       "2. '/expanse/lustre/projects/jhu152/naglemi/mwas/gwas/gwas_stat_mdd'\n",
       "3. '/expanse/lustre/projects/jhu152/naglemi/mwas/gwas/gwas_stat_scz'\n",
       "\n",
       "\n"
      ],
      "text/plain": [
       "[1] \"/expanse/lustre/projects/jhu152/naglemi/mwas/gwas/gwas_stat_bp\" \n",
       "[2] \"/expanse/lustre/projects/jhu152/naglemi/mwas/gwas/gwas_stat_mdd\"\n",
       "[3] \"/expanse/lustre/projects/jhu152/naglemi/mwas/gwas/gwas_stat_scz\""
      ]
     },
     "metadata": {},
     "output_type": "display_data"
    }
   ],
   "source": [
    "summary_stats_list"
   ]
  },
  {
   "cell_type": "code",
   "execution_count": 13,
   "id": "9bfc2a2b-76af-4f46-a234-4120b47fa972",
   "metadata": {},
   "outputs": [],
   "source": [
    "  #for (k in 1:length(summary_stats_list)) {\n",
    "k <- 3"
   ]
  },
  {
   "cell_type": "code",
   "execution_count": 14,
   "id": "6996cdc2-de0d-4002-9ca3-54a33ed59b61",
   "metadata": {},
   "outputs": [],
   "source": [
    "outname <- gsub(\"\\\\.rds$\", paste0(\"_\", basename(tools::file_path_sans_ext(summary_stats_list[[k]])), \"_results.rds\"), df_this_chr$path[j])\n",
    "if(file.exists(outname)) next\n",
    "summary_stats <- summary_stats_data[[k]]\n",
    "\n",
    "MWASmodels <- vector(\"list\", length(my_rds@models))\n",
    "if (is.null(summary_stats)) {\n",
    "  summary_stats <- suppressWarnings(fread(summary_stats_list[[k]]))\n",
    "  summary_stats <- clean_and_standardize_colnames(summary_stats)\n",
    "}"
   ]
  },
  {
   "cell_type": "code",
   "execution_count": 16,
   "id": "1b33e2ad-b5aa-4e47-94c6-e321a9b1a90c",
   "metadata": {},
   "outputs": [
    {
     "data": {
      "text/plain": [
       "[[1]]\n",
       "An object of class \"MethylationBase\"\n",
       "Slot \"methylationPosition\":\n",
       "[1] 73418313\n",
       "\n",
       "Slot \"windowSize\":\n",
       "[1] 10000\n",
       "\n",
       "Slot \"n_SNPs\":\n",
       "[1] 42\n",
       "\n",
       "Slot \"glmnetModel\":\n",
       "NULL\n",
       "\n",
       "Slot \"snpWeights\":\n",
       "chr1:73409670:T:G chr1:73411882:A:G chr1:73412206:C:T chr1:73414606:G:C \n",
       "    -0.0002346703      0.0015688527     -0.0003398210     -0.0004525323 \n",
       "chr1:73416795:A:G chr1:73417197:A:G chr1:73418139:T:G chr1:73419155:C:T \n",
       "    -0.0078607045     -0.0019676466      0.0011079731     -0.0078656450 \n",
       "chr1:73422680:A:G chr1:73423542:G:A chr1:73423762:T:C chr1:73424910:G:A \n",
       "    -0.0004059075     -0.0003679525     -0.0003150577     -0.0022276979 \n",
       "chr1:73426069:G:A chr1:73426204:G:A chr1:73426737:G:T chr1:73426896:A:G \n",
       "    -0.0002387222     -0.0017936772     -0.0017341619     -0.0017662490 \n",
       "chr1:73426930:A:C chr1:73427141:C:A \n",
       "    -0.0018663216     -0.0017452064 \n",
       "\n",
       "Slot \"intercept\":\n",
       "        s0 \n",
       "0.03110752 \n",
       "\n",
       "Slot \"alpha\":\n",
       "[1] 0.5\n",
       "\n",
       "Slot \"lambda\":\n",
       "[1] 0.004389116\n",
       "\n",
       "Slot \"evaluation_results\":\n",
       "         cor          mse \n",
       "0.7818550732 0.0002806323 \n",
       "\n",
       "Slot \"cv_eval_mode\":\n",
       "[1] \"dynamic\"\n",
       "\n",
       "Slot \"full_model_metrics\":\n",
       "           r          mse \n",
       "0.7980946070 0.0002642102 \n",
       "\n"
      ]
     },
     "metadata": {},
     "output_type": "display_data"
    }
   ],
   "source": [
    "my_rds@models[1089]"
   ]
  },
  {
   "cell_type": "code",
   "execution_count": 18,
   "id": "0200b078-fad1-44d4-bfce-81a042f0db76",
   "metadata": {},
   "outputs": [],
   "source": [
    "i <- 1089"
   ]
  },
  {
   "cell_type": "code",
   "execution_count": 20,
   "id": "bb575201-9700-4ae6-be0e-46eaa740fcdb",
   "metadata": {},
   "outputs": [],
   "source": [
    "#for (i in seq_along(my_rds@models)) {\n",
    "\n",
    "this_MethylationBase <- my_rds@models[[i]]\n",
    "SNP_split <- stringr::str_split_fixed(names(this_MethylationBase@snpWeights), \":\", 4)\n",
    "SNP_split[, 1] <- gsub(\"chr\", \"\", SNP_split[, 1])\n",
    "SNP_split_dt <- data.table::as.data.table(SNP_split)\n",
    "data.table::setnames(SNP_split_dt, c(\"chr\", \"post\", \"ref\", \"alt\"))\n",
    "SNP_split_dt[, `:=`(chr = as.integer(chr), post = as.integer(post))]\n",
    "data.table::setkey(SNP_split_dt, chr, post)\n",
    "\n",
    "relevant_SNP_indices <- my_SNPs$pvar_dt[SNP_split_dt, on = .(`#CHROM` = chr, POS = post), which = TRUE, nomatch = 0]\n",
    "relevant_ids <- my_SNPs$pvar_dt$ID[relevant_SNP_indices]\n",
    "summary_stats_sub <- summary_stats[relevant_ids, nomatch = 0]"
   ]
  },
  {
   "cell_type": "code",
   "execution_count": 21,
   "id": "62bad68b-6b04-4062-9bd8-46ff9b0d4119",
   "metadata": {},
   "outputs": [],
   "source": [
    "if (!identical(summary_stats_sub$BP, SNP_split_dt$post)) {\n",
    "    summary_stats_sub <- summary_stats_sub[order(summary_stats_sub$BP), ]\n",
    "    if (!identical(summary_stats_sub$BP, SNP_split_dt$post)) {\n",
    "        unmatched_positions <- !SNP_split_dt$post %in% summary_stats_sub$BP\n",
    "        if (any(unmatched_positions)) {\n",
    "            SNP_split_dt <- SNP_split_dt[!unmatched_positions, ]\n",
    "            this_MethylationBase@snpWeights <- this_MethylationBase@snpWeights[!unmatched_positions]\n",
    "            relevant_SNP_indices <- my_SNPs$pvar_dt[SNP_split_dt, on = .(`#CHROM` = chr, POS = post), which = TRUE, nomatch = 0]\n",
    "            if (!identical(summary_stats_sub$BP, SNP_split_dt$post)) {\n",
    "                stop(\"SNP order does not match even after removing unmatched positions. This should not happen. Code is broken.\")\n",
    "            }\n",
    "        }\n",
    "    }\n",
    "}\n",
    "\n",
    "if (!identical(SNP_split_dt$alt, summary_stats_sub$A2) | !identical(SNP_split_dt$ref, summary_stats_sub$A1)) {\n",
    "    not_matching <- which(SNP_split_dt$alt != summary_stats_sub$A2)\n",
    "    summary_stats_ref_flipped <- SNP_split_dt$ref[not_matching]\n",
    "    summary_stats_alt_flipped <- SNP_split_dt$alt[not_matching]\n",
    "    SNP_split_dt[not_matching, `:=`(ref = summary_stats_alt_flipped, alt = summary_stats_ref_flipped)]\n",
    "    this_MethylationBase@snpWeights[not_matching] <- this_MethylationBase@snpWeights[not_matching] * -1\n",
    "}\n",
    "\n",
    "G <- pgenlibr::ReadList(my_SNPs$pgen, variant_subset = relevant_SNP_indices)\n",
    "#print(paste(\"Performing MWAS for model index:\", i))"
   ]
  },
  {
   "cell_type": "code",
   "execution_count": 22,
   "id": "747440fd-fcd3-4092-87ab-08b15dfe25ad",
   "metadata": {},
   "outputs": [
    {
     "data": {
      "text/html": [
       "<style>\n",
       ".dl-inline {width: auto; margin:0; padding: 0}\n",
       ".dl-inline>dt, .dl-inline>dd {float: none; width: auto; display: inline-block}\n",
       ".dl-inline>dt::after {content: \":\\0020\"; padding-right: .5ex}\n",
       ".dl-inline>dt:not(:first-of-type) {padding-left: .5ex}\n",
       "</style><dl class=dl-inline><dt>z</dt><dd>-18.3701890200565</dd><dt>p</dt><dd>2.27617744030907e-75</dd><dt>n</dt><dd>18</dd></dl>\n"
      ],
      "text/latex": [
       "\\begin{description*}\n",
       "\\item[z] -18.3701890200565\n",
       "\\item[p] 2.27617744030907e-75\n",
       "\\item[n] 18\n",
       "\\end{description*}\n"
      ],
      "text/markdown": [
       "z\n",
       ":   -18.3701890200565p\n",
       ":   2.27617744030907e-75n\n",
       ":   18\n",
       "\n"
      ],
      "text/plain": [
       "            z             p             n \n",
       "-1.837019e+01  2.276177e-75  1.800000e+01 "
      ]
     },
     "metadata": {},
     "output_type": "display_data"
    }
   ],
   "source": [
    "mwas(z = summary_stats_sub$BETA, w = this_MethylationBase@snpWeights, G = G)"
   ]
  },
  {
   "cell_type": "code",
   "execution_count": null,
   "id": "b803266c-1f62-442a-b6b9-cb03ea6ce8f0",
   "metadata": {},
   "outputs": [],
   "source": [
    "mwas_out <- mwas(z = summary_stats_sub$BETA, w = this_MethylationBase@snpWeights, G = G)\n",
    "\n",
    "MWASmodels[[i]] <- mwas_out\n",
    "}\n",
    "\n",
    "results <- MWASresults(MWASmodels, paths$pvar_path, paths$pgen_path, paths$psam_path, summary_stats_list[[k]], df_this_chr$path[j])\n",
    "saveRDS(results, outname)\n",
    "print(paste(\"Saved results to:\", outname))\n",
    "}\n",
    "#}"
   ]
  },
  {
   "cell_type": "markdown",
   "id": "8ea61b9f-2f6c-478d-9d7b-b6dedf5fc53b",
   "metadata": {},
   "source": [
    "## Try for all summary stats"
   ]
  },
  {
   "cell_type": "code",
   "execution_count": 27,
   "id": "7cbe1ea4-c834-4780-ba30-3526057845b3",
   "metadata": {},
   "outputs": [
    {
     "name": "stdout",
     "output_type": "stream",
     "text": [
      "[1] \"Saved results to: ..//output_EXPANSE_a2_caud/libd_chr1-chr1_all-libd_chr1-chr1_all-908982-928981-dynamic-1corestotal-allcorepera-caud-20240510-145818_gwas_stat_bp_results.rds\"\n",
      "[1] \"Saved results to: ..//output_EXPANSE_a2_caud/libd_chr1-chr1_all-libd_chr1-chr1_all-908982-928981-dynamic-1corestotal-allcorepera-caud-20240510-145818_gwas_stat_mdd_results.rds\"\n",
      "[1] \"Saved results to: ..//output_EXPANSE_a2_caud/libd_chr1-chr1_all-libd_chr1-chr1_all-908982-928981-dynamic-1corestotal-allcorepera-caud-20240510-145818_gwas_stat_scz_results.rds\"\n"
     ]
    }
   ],
   "source": [
    "for (k in 1:length(summary_stats_list)) {\n",
    "    #k <- 3\n",
    "    \n",
    "    outname <- gsub(\"\\\\.rds$\", paste0(\"_\", basename(tools::file_path_sans_ext(summary_stats_list[[k]])), \"_results.rds\"), df_this_chr$path[j])\n",
    "    #if(file.exists(outname)) next\n",
    "    summary_stats <- summary_stats_data[[k]]\n",
    "    \n",
    "    MWASmodels <- vector(\"list\", length(my_rds@models))\n",
    "    if (is.null(summary_stats)) {\n",
    "      summary_stats <- suppressWarnings(fread(summary_stats_list[[k]]))\n",
    "      summary_stats <- clean_and_standardize_colnames(summary_stats)\n",
    "    }\n",
    "    \n",
    "    i <- 1089\n",
    "    \n",
    "    #for (i in seq_along(my_rds@models)) {\n",
    "    \n",
    "    this_MethylationBase <- my_rds@models[[i]]\n",
    "    SNP_split <- stringr::str_split_fixed(names(this_MethylationBase@snpWeights), \":\", 4)\n",
    "    SNP_split[, 1] <- gsub(\"chr\", \"\", SNP_split[, 1])\n",
    "    SNP_split_dt <- data.table::as.data.table(SNP_split)\n",
    "    data.table::setnames(SNP_split_dt, c(\"chr\", \"post\", \"ref\", \"alt\"))\n",
    "    SNP_split_dt[, `:=`(chr = as.integer(chr), post = as.integer(post))]\n",
    "    data.table::setkey(SNP_split_dt, chr, post)\n",
    "    \n",
    "    relevant_SNP_indices <- my_SNPs$pvar_dt[SNP_split_dt, on = .(`#CHROM` = chr, POS = post), which = TRUE, nomatch = 0]\n",
    "    relevant_ids <- my_SNPs$pvar_dt$ID[relevant_SNP_indices]\n",
    "    summary_stats_sub <- summary_stats[relevant_ids, nomatch = 0]\n",
    "    \n",
    "    if (!identical(summary_stats_sub$BP, SNP_split_dt$post)) {\n",
    "        summary_stats_sub <- summary_stats_sub[order(summary_stats_sub$BP), ]\n",
    "        if (!identical(summary_stats_sub$BP, SNP_split_dt$post)) {\n",
    "            unmatched_positions <- !SNP_split_dt$post %in% summary_stats_sub$BP\n",
    "            if (any(unmatched_positions)) {\n",
    "                SNP_split_dt <- SNP_split_dt[!unmatched_positions, ]\n",
    "                this_MethylationBase@snpWeights <- this_MethylationBase@snpWeights[!unmatched_positions]\n",
    "                relevant_SNP_indices <- my_SNPs$pvar_dt[SNP_split_dt, on = .(`#CHROM` = chr, POS = post), which = TRUE, nomatch = 0]\n",
    "                if (!identical(summary_stats_sub$BP, SNP_split_dt$post)) {\n",
    "                    stop(\"SNP order does not match even after removing unmatched positions. This should not happen. Code is broken.\")\n",
    "                }\n",
    "            }\n",
    "        }\n",
    "    }\n",
    "    \n",
    "    if (!identical(SNP_split_dt$alt, summary_stats_sub$A2) | !identical(SNP_split_dt$ref, summary_stats_sub$A1)) {\n",
    "        not_matching <- which(SNP_split_dt$alt != summary_stats_sub$A2)\n",
    "        summary_stats_ref_flipped <- SNP_split_dt$ref[not_matching]\n",
    "        summary_stats_alt_flipped <- SNP_split_dt$alt[not_matching]\n",
    "        SNP_split_dt[not_matching, `:=`(ref = summary_stats_alt_flipped, alt = summary_stats_ref_flipped)]\n",
    "        this_MethylationBase@snpWeights[not_matching] <- this_MethylationBase@snpWeights[not_matching] * -1\n",
    "    }\n",
    "    \n",
    "    G <- pgenlibr::ReadList(my_SNPs$pgen, variant_subset = relevant_SNP_indices)\n",
    "    #print(paste(\"Performing MWAS for model index:\", i))\n",
    "    \n",
    "    mwas(z = summary_stats_sub$BETA, w = this_MethylationBase@snpWeights, G = G)\n",
    "    \n",
    "    mwas_out <- mwas(z = summary_stats_sub$BETA, w = this_MethylationBase@snpWeights, G = G)\n",
    "    \n",
    "    MWASmodels[[i]] <- mwas_out\n",
    "    \n",
    "    results <- MWASresults(MWASmodels, paths$pvar_path, paths$pgen_path, paths$psam_path, summary_stats_list[[k]], df_this_chr$path[j])\n",
    "    #print(results)\n",
    "    saveRDS(results, outname)\n",
    "    print(paste(\"Saved results to:\", outname))\n",
    "    \n",
    "}"
   ]
  },
  {
   "cell_type": "code",
   "execution_count": 38,
   "id": "40f16fc9-579e-4e65-8f2d-ccb383c3a226",
   "metadata": {},
   "outputs": [],
   "source": [
    "rds1 <- readRDS(\"..//output_EXPANSE_a2_caud/libd_chr1-chr1_all-libd_chr1-chr1_all-908982-928981-dynamic-1corestotal-allcorepera-caud-20240510-145818_gwas_stat_bp_results.rds\")\n",
    "rds2 <- readRDS(\"..//output_EXPANSE_a2_caud/libd_chr1-chr1_all-libd_chr1-chr1_all-908982-928981-dynamic-1corestotal-allcorepera-caud-20240510-145818_gwas_stat_mdd_results.rds\")\n",
    "rds3 <- readRDS(\"..//output_EXPANSE_a2_caud/libd_chr1-chr1_all-libd_chr1-chr1_all-908982-928981-dynamic-1corestotal-allcorepera-caud-20240510-145818_gwas_stat_scz_results.rds\")"
   ]
  },
  {
   "cell_type": "code",
   "execution_count": 30,
   "id": "9e3c50ba-53e2-4fe7-9ec9-eace97e183b8",
   "metadata": {},
   "outputs": [
    {
     "data": {
      "text/html": [
       "<style>\n",
       ".list-inline {list-style: none; margin:0; padding: 0}\n",
       ".list-inline>li {display: inline-block}\n",
       ".list-inline>li:not(:last-child)::after {content: \"\\00b7\"; padding: 0 .5ex}\n",
       "</style>\n",
       "<ol class=list-inline><li>'MWASmodels'</li><li>'pvar_path'</li><li>'pgen_path'</li><li>'psam_path'</li><li>'summary_stats_path'</li><li>'rds_path'</li></ol>\n"
      ],
      "text/latex": [
       "\\begin{enumerate*}\n",
       "\\item 'MWASmodels'\n",
       "\\item 'pvar\\_path'\n",
       "\\item 'pgen\\_path'\n",
       "\\item 'psam\\_path'\n",
       "\\item 'summary\\_stats\\_path'\n",
       "\\item 'rds\\_path'\n",
       "\\end{enumerate*}\n"
      ],
      "text/markdown": [
       "1. 'MWASmodels'\n",
       "2. 'pvar_path'\n",
       "3. 'pgen_path'\n",
       "4. 'psam_path'\n",
       "5. 'summary_stats_path'\n",
       "6. 'rds_path'\n",
       "\n",
       "\n"
      ],
      "text/plain": [
       "[1] \"MWASmodels\"         \"pvar_path\"          \"pgen_path\"         \n",
       "[4] \"psam_path\"          \"summary_stats_path\" \"rds_path\"          "
      ]
     },
     "metadata": {},
     "output_type": "display_data"
    }
   ],
   "source": [
    "head(names(attributes(rds1)))"
   ]
  },
  {
   "cell_type": "code",
   "execution_count": 36,
   "id": "fc2a8ea9-d82a-49d3-bc1c-bb1d93732c00",
   "metadata": {},
   "outputs": [
    {
     "data": {
      "text/html": [
       "<ol>\n",
       "\t<li>NULL</li>\n",
       "\t<li>NULL</li>\n",
       "\t<li>NULL</li>\n",
       "\t<li>NULL</li>\n",
       "\t<li>NULL</li>\n",
       "\t<li>NULL</li>\n",
       "</ol>\n"
      ],
      "text/latex": [
       "\\begin{enumerate}\n",
       "\\item NULL\n",
       "\\item NULL\n",
       "\\item NULL\n",
       "\\item NULL\n",
       "\\item NULL\n",
       "\\item NULL\n",
       "\\end{enumerate}\n"
      ],
      "text/markdown": [
       "1. NULL\n",
       "2. NULL\n",
       "3. NULL\n",
       "4. NULL\n",
       "5. NULL\n",
       "6. NULL\n",
       "\n",
       "\n"
      ],
      "text/plain": [
       "[[1]]\n",
       "NULL\n",
       "\n",
       "[[2]]\n",
       "NULL\n",
       "\n",
       "[[3]]\n",
       "NULL\n",
       "\n",
       "[[4]]\n",
       "NULL\n",
       "\n",
       "[[5]]\n",
       "NULL\n",
       "\n",
       "[[6]]\n",
       "NULL\n"
      ]
     },
     "metadata": {},
     "output_type": "display_data"
    }
   ],
   "source": [
    "head(rds1@MWASmodels)"
   ]
  },
  {
   "cell_type": "code",
   "execution_count": 41,
   "id": "358a0393-8c14-4dfd-94ec-118749fe23ce",
   "metadata": {},
   "outputs": [
    {
     "data": {
      "text/html": [
       "<ol>\n",
       "\t<li>NULL</li>\n",
       "\t<li>NULL</li>\n",
       "\t<li>NULL</li>\n",
       "\t<li>NULL</li>\n",
       "\t<li><style>\n",
       ".dl-inline {width: auto; margin:0; padding: 0}\n",
       ".dl-inline>dt, .dl-inline>dd {float: none; width: auto; display: inline-block}\n",
       ".dl-inline>dt::after {content: \":\\0020\"; padding-right: .5ex}\n",
       ".dl-inline>dt:not(:first-of-type) {padding-left: .5ex}\n",
       "</style><dl class=dl-inline><dt>z</dt><dd>-0.0935225229979013</dd><dt>p</dt><dd>0.925488457343432</dd><dt>n</dt><dd>18</dd></dl>\n",
       "</li>\n",
       "</ol>\n"
      ],
      "text/latex": [
       "\\begin{enumerate}\n",
       "\\item NULL\n",
       "\\item NULL\n",
       "\\item NULL\n",
       "\\item NULL\n",
       "\\item \\begin{description*}\n",
       "\\item[z] -0.0935225229979013\n",
       "\\item[p] 0.925488457343432\n",
       "\\item[n] 18\n",
       "\\end{description*}\n",
       "\n",
       "\\end{enumerate}\n"
      ],
      "text/markdown": [
       "1. NULL\n",
       "2. NULL\n",
       "3. NULL\n",
       "4. NULL\n",
       "5. z\n",
       ":   -0.0935225229979013p\n",
       ":   0.925488457343432n\n",
       ":   18\n",
       "\n",
       "\n",
       "\n",
       "\n"
      ],
      "text/plain": [
       "[[1]]\n",
       "NULL\n",
       "\n",
       "[[2]]\n",
       "NULL\n",
       "\n",
       "[[3]]\n",
       "NULL\n",
       "\n",
       "[[4]]\n",
       "NULL\n",
       "\n",
       "[[5]]\n",
       "          z           p           n \n",
       "-0.09352252  0.92548846 18.00000000 \n"
      ]
     },
     "metadata": {},
     "output_type": "display_data"
    }
   ],
   "source": [
    "rds1@MWASmodels[1085:1089]"
   ]
  },
  {
   "cell_type": "code",
   "execution_count": 37,
   "id": "83704d29-3b42-4e64-b8e6-e9939f192c83",
   "metadata": {},
   "outputs": [
    {
     "data": {
      "text/html": [
       "<ol>\n",
       "\t<li><style>\n",
       ".dl-inline {width: auto; margin:0; padding: 0}\n",
       ".dl-inline>dt, .dl-inline>dd {float: none; width: auto; display: inline-block}\n",
       ".dl-inline>dt::after {content: \":\\0020\"; padding-right: .5ex}\n",
       ".dl-inline>dt:not(:first-of-type) {padding-left: .5ex}\n",
       "</style><dl class=dl-inline><dt>z</dt><dd>-0.0935225229979013</dd><dt>p</dt><dd>0.925488457343432</dd><dt>n</dt><dd>18</dd></dl>\n",
       "</li>\n",
       "</ol>\n"
      ],
      "text/latex": [
       "\\begin{enumerate}\n",
       "\\item \\begin{description*}\n",
       "\\item[z] -0.0935225229979013\n",
       "\\item[p] 0.925488457343432\n",
       "\\item[n] 18\n",
       "\\end{description*}\n",
       "\n",
       "\\end{enumerate}\n"
      ],
      "text/markdown": [
       "1. z\n",
       ":   -0.0935225229979013p\n",
       ":   0.925488457343432n\n",
       ":   18\n",
       "\n",
       "\n",
       "\n",
       "\n"
      ],
      "text/plain": [
       "[[1]]\n",
       "          z           p           n \n",
       "-0.09352252  0.92548846 18.00000000 \n"
      ]
     },
     "metadata": {},
     "output_type": "display_data"
    }
   ],
   "source": [
    "rds1@MWASmodels[1089]"
   ]
  },
  {
   "cell_type": "code",
   "execution_count": 39,
   "id": "98c60259-1615-4d23-823c-660d79563f6d",
   "metadata": {},
   "outputs": [
    {
     "data": {
      "text/html": [
       "<ol>\n",
       "\t<li><style>\n",
       ".dl-inline {width: auto; margin:0; padding: 0}\n",
       ".dl-inline>dt, .dl-inline>dd {float: none; width: auto; display: inline-block}\n",
       ".dl-inline>dt::after {content: \":\\0020\"; padding-right: .5ex}\n",
       ".dl-inline>dt:not(:first-of-type) {padding-left: .5ex}\n",
       "</style><dl class=dl-inline><dt>z</dt><dd>-32.2825979655727</dd><dt>p</dt><dd>1.22759696970248e-228</dd><dt>n</dt><dd>18</dd></dl>\n",
       "</li>\n",
       "</ol>\n"
      ],
      "text/latex": [
       "\\begin{enumerate}\n",
       "\\item \\begin{description*}\n",
       "\\item[z] -32.2825979655727\n",
       "\\item[p] 1.22759696970248e-228\n",
       "\\item[n] 18\n",
       "\\end{description*}\n",
       "\n",
       "\\end{enumerate}\n"
      ],
      "text/markdown": [
       "1. z\n",
       ":   -32.2825979655727p\n",
       ":   1.22759696970248e-228n\n",
       ":   18\n",
       "\n",
       "\n",
       "\n",
       "\n"
      ],
      "text/plain": [
       "[[1]]\n",
       "             z              p              n \n",
       " -3.228260e+01  1.227597e-228   1.800000e+01 \n"
      ]
     },
     "metadata": {},
     "output_type": "display_data"
    }
   ],
   "source": [
    "rds2@MWASmodels[1089]"
   ]
  },
  {
   "cell_type": "code",
   "execution_count": 40,
   "id": "f9ce6268-63e6-4104-8c71-d824ab6cd97b",
   "metadata": {},
   "outputs": [
    {
     "data": {
      "text/html": [
       "<ol>\n",
       "\t<li><style>\n",
       ".dl-inline {width: auto; margin:0; padding: 0}\n",
       ".dl-inline>dt, .dl-inline>dd {float: none; width: auto; display: inline-block}\n",
       ".dl-inline>dt::after {content: \":\\0020\"; padding-right: .5ex}\n",
       ".dl-inline>dt:not(:first-of-type) {padding-left: .5ex}\n",
       "</style><dl class=dl-inline><dt>z</dt><dd>-18.3701890200565</dd><dt>p</dt><dd>2.27617744030907e-75</dd><dt>n</dt><dd>18</dd></dl>\n",
       "</li>\n",
       "</ol>\n"
      ],
      "text/latex": [
       "\\begin{enumerate}\n",
       "\\item \\begin{description*}\n",
       "\\item[z] -18.3701890200565\n",
       "\\item[p] 2.27617744030907e-75\n",
       "\\item[n] 18\n",
       "\\end{description*}\n",
       "\n",
       "\\end{enumerate}\n"
      ],
      "text/markdown": [
       "1. z\n",
       ":   -18.3701890200565p\n",
       ":   2.27617744030907e-75n\n",
       ":   18\n",
       "\n",
       "\n",
       "\n",
       "\n"
      ],
      "text/plain": [
       "[[1]]\n",
       "            z             p             n \n",
       "-1.837019e+01  2.276177e-75  1.800000e+01 \n"
      ]
     },
     "metadata": {},
     "output_type": "display_data"
    }
   ],
   "source": [
    "rds3@MWASmodels[1089]"
   ]
  },
  {
   "cell_type": "code",
   "execution_count": 35,
   "id": "cafa2821-6f94-4b3a-96b7-e42ddbb8d00d",
   "metadata": {},
   "outputs": [],
   "source": [
    "rds1@MWASmodels"
   ]
  },
  {
   "cell_type": "code",
   "execution_count": 32,
   "id": "cbc19c15-86ee-4377-b92f-3bf8a7f05d5c",
   "metadata": {},
   "outputs": [],
   "source": [
    "rds1@MWASmodels"
   ]
  },
  {
   "cell_type": "code",
   "execution_count": null,
   "id": "7a1918ba-4972-4490-9132-3392908773d6",
   "metadata": {},
   "outputs": [],
   "source": []
  }
 ],
 "metadata": {
  "kernelspec": {
   "display_name": "R",
   "language": "R",
   "name": "ir"
  },
  "language_info": {
   "codemirror_mode": "r",
   "file_extension": ".r",
   "mimetype": "text/x-r-source",
   "name": "R",
   "pygments_lexer": "r",
   "version": "4.3.1"
  }
 },
 "nbformat": 4,
 "nbformat_minor": 5
}
