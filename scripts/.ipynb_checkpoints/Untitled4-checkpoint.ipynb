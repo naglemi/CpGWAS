{
 "cells": [
  {
   "cell_type": "markdown",
   "id": "188aa11c-a8c1-462d-bbf3-e443a275f309",
   "metadata": {},
   "source": [
    "# Use GWAS summary stats for SNP->CpG->trait MWAS"
   ]
  },
  {
   "cell_type": "code",
   "execution_count": 1,
   "id": "6107f4a5-346c-42db-bd94-106c78eea369",
   "metadata": {},
   "outputs": [],
   "source": [
    "library(CpGWAS)\n",
    "library(data.table)\n",
    "library(stringr)"
   ]
  },
  {
   "cell_type": "code",
   "execution_count": 2,
   "id": "aba4efd0-23fd-4157-b07b-38243d3ce1da",
   "metadata": {},
   "outputs": [],
   "source": [
    "genome_files <- list.files(\"/expanse/lustre/projects/jhu152/naglemi/mwas/gwas\",\n",
    "                           pattern = \"EUR\", full.names = TRUE)\n",
    "genome_files <- genome_files[grepl(\"pvar\", genome_files)]"
   ]
  },
  {
   "cell_type": "code",
   "execution_count": 3,
   "id": "fe5b05ef-fbc4-4bb0-882b-c2e753ac2497",
   "metadata": {},
   "outputs": [],
   "source": [
    "genome_files <- data.table(path = genome_files,\n",
    "                           Chr = NA)"
   ]
  },
  {
   "cell_type": "code",
   "execution_count": 4,
   "id": "b5c0370d-b8be-449a-811d-ee5360ce1c04",
   "metadata": {},
   "outputs": [],
   "source": [
    "genome_files$Chr <- str_split_fixed(genome_files$path,\n",
    "                                    \"chr\",\n",
    "                                    2)[,2]\n",
    "genome_files$Chr <- gsub(\".pvar\", \"\", genome_files$Chr)"
   ]
  },
  {
   "cell_type": "code",
   "execution_count": 5,
   "id": "0d05982b-a160-4e31-a57b-0f3947e30f7c",
   "metadata": {},
   "outputs": [],
   "source": [
    "genome_files$Chr <- as.integer(genome_files$Chr)\n",
    "genome_files <- genome_files[order(genome_files$Chr), ]"
   ]
  },
  {
   "cell_type": "code",
   "execution_count": 6,
   "id": "a2d2af79-bc6a-44a5-8587-82d3069fcbb8",
   "metadata": {},
   "outputs": [],
   "source": [
    "df <- fread(\"12-OUT_matched_SNP_meth_cov_outputs.csv\")"
   ]
  },
  {
   "cell_type": "code",
   "execution_count": 7,
   "id": "e03885ec-d259-4903-bb6e-028eeae1218f",
   "metadata": {},
   "outputs": [],
   "source": [
    "summary_stats_list <-  list.files(\"/expanse/lustre/projects/jhu152/naglemi/mwas/gwas\",\n",
    "                                  pattern = \"stat\", full.names = TRUE)"
   ]
  },
  {
   "cell_type": "code",
   "execution_count": 8,
   "id": "d5cd1025-05b7-4ac7-b9ea-af9aa15c10fb",
   "metadata": {},
   "outputs": [],
   "source": [
    "#   FOR THIS TO BE EFFICIENT WE MUST LOAD IN SUMMARY STATS FIRST INSTEAD OF PASSING PATH"
   ]
  },
  {
   "cell_type": "code",
   "execution_count": 9,
   "id": "ea8ce11b-23f8-4f72-baeb-15d66600cf5c",
   "metadata": {},
   "outputs": [],
   "source": [
    "# Pre-load all summary stats files into a list and clean/standardize column names\n",
    "summary_stats_data <- lapply(summary_stats_list, function(path) {\n",
    "  stats <- suppressWarnings(data.table::fread(path))\n",
    "  clean_and_standardize_colnames(stats)\n",
    "})"
   ]
  },
  {
   "cell_type": "code",
   "execution_count": null,
   "id": "9bdb4cbd-0ee3-4735-b253-488d8c643740",
   "metadata": {},
   "outputs": [
    {
     "name": "stdout",
     "output_type": "stream",
     "text": [
      "                                                                  path   Chr\n",
      "                                                                <char> <int>\n",
      "1: /expanse/lustre/projects/jhu152/naglemi/mwas/gwas/ref_EUR_chr1.pvar     1\n",
      "[1] \"..//output_EXPANSE_a2_caud/libd_chr1-chr1_AA-libd_chr1-chr1_AA-8982-28981-dynamic-1corestotal-allcorepera-20240415-104419.rds\"\n",
      "[1] \"/expanse/lustre/projects/jhu152/naglemi/mwas/gwas/gwas_stat_bp\"\n"
     ]
    },
    {
     "name": "stderr",
     "output_type": "stream",
     "text": [
      "saving to ..//output_EXPANSE_a2_caud/libd_chr1-chr1_AA-libd_chr1-chr1_AA-8982-28981-dynamic-1corestotal-allcorepera-20240415-104419_gwas_stat_bp_results.rds\n",
      "\n"
     ]
    },
    {
     "name": "stdout",
     "output_type": "stream",
     "text": [
      "[1] \"/expanse/lustre/projects/jhu152/naglemi/mwas/gwas/gwas_stat_mdd\"\n"
     ]
    },
    {
     "name": "stderr",
     "output_type": "stream",
     "text": [
      "saving to ..//output_EXPANSE_a2_caud/libd_chr1-chr1_AA-libd_chr1-chr1_AA-8982-28981-dynamic-1corestotal-allcorepera-20240415-104419_gwas_stat_mdd_results.rds\n",
      "\n"
     ]
    }
   ],
   "source": [
    "# Loop over the loaded objects instead of paths\n",
    "for(i in 1:nrow(genome_files)){\n",
    "    print(genome_files[i])\n",
    "    paths <- list(pvar_path = genome_files[i]$path,\n",
    "                  pgen_path = gsub(\"pvar\", \"pgen\", genome_files[i]$path),\n",
    "                  psam_path = gsub(\"pvar\", \"psam\", genome_files[i]$path))\n",
    "\n",
    "    my_SNPs <- CpGWAS::loadSNPData(paths$pvar_path, paths$pgen_path, paths$psam_path)\n",
    "    df_this_chr <- df[which(df$Chr == genome_files[i]$Chr), ]\n",
    "\n",
    "    for(j in 1:nrow(df_this_chr)){\n",
    "        print(df_this_chr$path[j])\n",
    "        if(grepl(\"empty\", df_this_chr$path[j])){\n",
    "            message(paste0(\"no model for \", df_this_chr$path[j]))\n",
    "            next\n",
    "        }\n",
    "\n",
    "        my_rds <- readRDS(df_this_chr$path[j])\n",
    "\n",
    "        for(k in 1:length(summary_stats_list)){\n",
    "            print(summary_stats_list[[k]])\n",
    "            summary_stats <- summary_stats_data[[k]]  # Use pre-loaded and cleaned summary stats\n",
    "\n",
    "            results <- process_MWAS_models(my_rds = my_rds, my_SNPs = my_SNPs, paths = paths,\n",
    "                                           summary_stats_path = summary_stats_list[[k]],  # Use the path string\n",
    "                                           rds_path = df_this_chr$path[j],\n",
    "                                           summary_stats = summary_stats)\n",
    "\n",
    "            outname <- gsub(\"\\\\.rds$\", \n",
    "                            paste0(\"_\", \n",
    "                                   basename(tools::file_path_sans_ext(results@summary_stats_path)), \n",
    "                                   \"_results.rds\"), \n",
    "                            results@rds_path)\n",
    "            \n",
    "            message(paste0(\"saving to \", outname))\n",
    "            # saveRDS(results, outname)\n",
    "        }\n",
    "    }\n",
    "}"
   ]
  },
  {
   "cell_type": "markdown",
   "id": "a394c241-e232-4178-96f1-a902596c8440",
   "metadata": {},
   "source": [
    "Why so slow? Are we still reloading summary_stats every time?"
   ]
  },
  {
   "cell_type": "code",
   "execution_count": null,
   "id": "d5075967-5b0f-4024-8a03-31ed1ff29651",
   "metadata": {},
   "outputs": [],
   "source": [
    "# Loop over chromosome genome files (pvar/pgen/psam)\n",
    "#  make list of chromosome files\n",
    "#. levels factor\n",
    "#. select and load first set of files\n",
    "#  # subset big file-matching df to those for the chromosome of interest\n",
    "#. loop over those, and for each....\n",
    "##Loop over summary stat files\n",
    "### Loop over RDS files containing our MethylationBase objects with SNP->CpG models"
   ]
  },
  {
   "cell_type": "code",
   "execution_count": null,
   "id": "5e4528fa-72cb-481b-a9b6-e04d058cfa2b",
   "metadata": {},
   "outputs": [],
   "source": []
  }
 ],
 "metadata": {
  "kernelspec": {
   "display_name": "R",
   "language": "R",
   "name": "ir"
  },
  "language_info": {
   "codemirror_mode": "r",
   "file_extension": ".r",
   "mimetype": "text/x-r-source",
   "name": "R",
   "pygments_lexer": "r",
   "version": "4.3.1"
  }
 },
 "nbformat": 4,
 "nbformat_minor": 5
}
