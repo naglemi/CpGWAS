{
 "cells": [
  {
   "cell_type": "markdown",
   "id": "bf56f1cb-692a-4f54-b026-99e8075d50e8",
   "metadata": {},
   "source": [
    "# Compare MWAS methods for sanity tests and troubleshooting"
   ]
  },
  {
   "cell_type": "markdown",
   "id": "dc17d619-945e-4221-8ba7-c4c36fa56efe",
   "metadata": {},
   "source": [
    "In version e, we unify the elastic.net functions and make sure 1se and 1min produce different results.\n",
    "\n",
    "In version f, we try old covariates with all new data for everything else\n",
    "\n",
    "In version g, we do another quick sanity test with \"all\" sample methylation data instead of AA.\n",
    "\n",
    "In version h, we try old covariates, new BSseq data, new everything else. Since we're using old BSseq data, we must change back to Chr 7 for the selected peak for which we have sample data. We got normal results!\n",
    "\n",
    "In version i, change back to Chr 1 and see if we still get normal results.... We did not!\n",
    "\n",
    "Ok, now let's try other chromosomes/regions with random sites (version l)\n",
    "\n",
    "version m: add manhattan plots and MAF filter\n",
    "\n",
    "version n: go back to region in Shizhong's `BSsample.rda` file\n",
    "\n",
    "Down the road (o), let's change covariates back to ours\n",
    "\n",
    "Also in o, we found that Shizhong's old results still don't quite match up with ours.\n",
    "\n",
    "So now in p, we will use original BSsample and see if they finally do... In p, we still get different results.\n",
    "\n",
    "Now in q, we use old covar in addition to old BSsample.\n",
    "\n",
    "In r, we also use old SNPs. Ding ding ding, now we get approximately same results (although slightly different I guess due to stochasticity)\n",
    "\n",
    "In s, we use new SNPs for reference population in stage 2, but old SNPs for LIBD in stage 1. We get different result again.\n",
    "\n",
    "In t, we switch back to old reference population SNPs for stage 2\n",
    "\n",
    "In u, we closely inspect Shizhong's snp.1kg.eur2 and compare it to ours. We discovered alleles are flipped differently for 10 SNPs and not the other 56.\n",
    "\n",
    "In v, we do another sanity check where we use our re-created snp.1kg.eur2 made from PLINK files, but use the exact same 56 SNPs as in Shizhong's version. Of note, 10 of these don't match, only the other 46."
   ]
  },
  {
   "cell_type": "code",
   "execution_count": 1,
   "id": "27763970-c612-403d-a55c-8149145a7e29",
   "metadata": {},
   "outputs": [
    {
     "data": {
      "text/plain": [
       "[1] \"2024-08-06 13:08:28 PDT\""
      ]
     },
     "metadata": {},
     "output_type": "display_data"
    }
   ],
   "source": [
    "Sys.time()"
   ]
  },
  {
   "cell_type": "code",
   "execution_count": 2,
   "id": "ba280997-149a-4123-bdec-00547ad791e6",
   "metadata": {},
   "outputs": [],
   "source": [
    "chr <- 7 # code set up for old bsseq chr 7, or anything with new bsseq\n",
    "maf <- 0.05\n",
    "\n",
    "min_site_to_test_pos <- 1980077\n",
    "max_site_to_test_pos <- 1989957"
   ]
  },
  {
   "cell_type": "code",
   "execution_count": 3,
   "id": "484d3ff2-9116-4477-8976-f1c828f354fa",
   "metadata": {},
   "outputs": [],
   "source": [
    "sites_to_test_pos <- \"range\"\n",
    "#n_samples <- 500"
   ]
  },
  {
   "cell_type": "code",
   "execution_count": 4,
   "id": "be49eb64-a0d8-4e1f-a85a-983fe490bd2c",
   "metadata": {},
   "outputs": [],
   "source": [
    "# # Chr 1 sites\n",
    "# sites_to_test_pos <- c(73274305, 73274312, 73292330, 73307769, 73308571, 73419188, 73419830, 73420076)"
   ]
  },
  {
   "cell_type": "code",
   "execution_count": 5,
   "id": "b6595216-f957-4571-a12e-7027b278774d",
   "metadata": {},
   "outputs": [],
   "source": [
    "filter_snps <- FALSE # speed things up by pre-filtering whole chromosomes to desired regions"
   ]
  },
  {
   "cell_type": "markdown",
   "id": "ca2a80fb-d548-4157-b585-cd5cf6a471d2",
   "metadata": {},
   "source": [
    "## Be ready with matched up SNP and covariate files"
   ]
  },
  {
   "cell_type": "code",
   "execution_count": 6,
   "id": "1d0d53e3-618f-4b04-b2b6-ae27a7e4ef5c",
   "metadata": {},
   "outputs": [
    {
     "name": "stderr",
     "output_type": "stream",
     "text": [
      "Loading required package: Matrix\n",
      "\n",
      "Loaded glmnet 4.1-8\n",
      "\n",
      "Loading required package: foreach\n",
      "\n",
      "Loading required package: iterators\n",
      "\n",
      "Loading required package: parallel\n",
      "\n"
     ]
    }
   ],
   "source": [
    "library(\"glmnet\")\n",
    "library(\"e1071\")\n",
    "library(\"doParallel\")\n",
    "library(\"data.table\")"
   ]
  },
  {
   "cell_type": "code",
   "execution_count": 7,
   "id": "c6034757-2d3c-43d3-aa16-70baa5169549",
   "metadata": {},
   "outputs": [],
   "source": [
    "df <- fread(\"09-OUT_matched_SNP_meth_cov_a2.csv\")"
   ]
  },
  {
   "cell_type": "code",
   "execution_count": 8,
   "id": "9821a860-2a97-4a7b-bfca-6e8abd96bf8a",
   "metadata": {},
   "outputs": [],
   "source": [
    "df <- df[which(df$Chr == chr), ]"
   ]
  },
  {
   "cell_type": "code",
   "execution_count": 9,
   "id": "ea91a79d-67a6-40df-b0ad-3b2c7db9be85",
   "metadata": {},
   "outputs": [],
   "source": [
    "df <- df[which(df$population == \"all\"), ]\n",
    "df <- df[which(df$brain_region == \"caud\"), ]"
   ]
  },
  {
   "cell_type": "code",
   "execution_count": 10,
   "id": "465c4237-66ee-4512-971b-1a70e550c36e",
   "metadata": {},
   "outputs": [
    {
     "data": {
      "text/html": [
       "<table class=\"dataframe\">\n",
       "<caption>A data.table: 1 × 15</caption>\n",
       "<thead>\n",
       "\t<tr><th scope=col>Chr</th><th scope=col>SNP_data</th><th scope=col>methylation_data</th><th scope=col>last_meth_value_with_SNP_coverage</th><th scope=col>first_meth_value_with_SNP_coverage</th><th scope=col>last_meth_index_with_SNP_coverage</th><th scope=col>first_meth_index_with_SNP_coverage</th><th scope=col>subpopulation</th><th scope=col>brain_region</th><th scope=col>population</th><th scope=col>region</th><th scope=col>cov_file</th><th scope=col>cov_file2</th><th scope=col>cov_file3</th><th scope=col>cov_file4</th></tr>\n",
       "\t<tr><th scope=col>&lt;int&gt;</th><th scope=col>&lt;chr&gt;</th><th scope=col>&lt;chr&gt;</th><th scope=col>&lt;int&gt;</th><th scope=col>&lt;int&gt;</th><th scope=col>&lt;int&gt;</th><th scope=col>&lt;int&gt;</th><th scope=col>&lt;chr&gt;</th><th scope=col>&lt;chr&gt;</th><th scope=col>&lt;chr&gt;</th><th scope=col>&lt;chr&gt;</th><th scope=col>&lt;chr&gt;</th><th scope=col>&lt;chr&gt;</th><th scope=col>&lt;chr&gt;</th><th scope=col>&lt;chr&gt;</th></tr>\n",
       "</thead>\n",
       "<tbody>\n",
       "\t<tr><td>7</td><td>/expanse/lustre/projects/jhu152/naglemi/mwas/gwas//libd_chr7.pgen</td><td>/expanse/lustre/projects/jhu152/naglemi/mwas/pheno/caud/out/chr7_all.rda</td><td>159334659</td><td>49742</td><td>1490198</td><td>1</td><td>all</td><td>caud</td><td>all</td><td>caud</td><td>/expanse/lustre/projects/jhu152/naglemi/mwas/full_covariates_a2/all_caud.csv</td><td>/expanse/lustre/projects/jhu152/naglemi/mwas/full_covariates_a2/all_caud-no-meth.csv</td><td>/expanse/lustre/projects/jhu152/naglemi/mwas/full_covariates_a2/all_caud-no-meth-no-dx.csv</td><td>/expanse/lustre/projects/jhu152/naglemi/mwas/full_covariates_a2/all_caud-no-dx.csv</td></tr>\n",
       "</tbody>\n",
       "</table>\n"
      ],
      "text/latex": [
       "A data.table: 1 × 15\n",
       "\\begin{tabular}{lllllllllllllll}\n",
       " Chr & SNP\\_data & methylation\\_data & last\\_meth\\_value\\_with\\_SNP\\_coverage & first\\_meth\\_value\\_with\\_SNP\\_coverage & last\\_meth\\_index\\_with\\_SNP\\_coverage & first\\_meth\\_index\\_with\\_SNP\\_coverage & subpopulation & brain\\_region & population & region & cov\\_file & cov\\_file2 & cov\\_file3 & cov\\_file4\\\\\n",
       " <int> & <chr> & <chr> & <int> & <int> & <int> & <int> & <chr> & <chr> & <chr> & <chr> & <chr> & <chr> & <chr> & <chr>\\\\\n",
       "\\hline\n",
       "\t 7 & /expanse/lustre/projects/jhu152/naglemi/mwas/gwas//libd\\_chr7.pgen & /expanse/lustre/projects/jhu152/naglemi/mwas/pheno/caud/out/chr7\\_all.rda & 159334659 & 49742 & 1490198 & 1 & all & caud & all & caud & /expanse/lustre/projects/jhu152/naglemi/mwas/full\\_covariates\\_a2/all\\_caud.csv & /expanse/lustre/projects/jhu152/naglemi/mwas/full\\_covariates\\_a2/all\\_caud-no-meth.csv & /expanse/lustre/projects/jhu152/naglemi/mwas/full\\_covariates\\_a2/all\\_caud-no-meth-no-dx.csv & /expanse/lustre/projects/jhu152/naglemi/mwas/full\\_covariates\\_a2/all\\_caud-no-dx.csv\\\\\n",
       "\\end{tabular}\n"
      ],
      "text/markdown": [
       "\n",
       "A data.table: 1 × 15\n",
       "\n",
       "| Chr &lt;int&gt; | SNP_data &lt;chr&gt; | methylation_data &lt;chr&gt; | last_meth_value_with_SNP_coverage &lt;int&gt; | first_meth_value_with_SNP_coverage &lt;int&gt; | last_meth_index_with_SNP_coverage &lt;int&gt; | first_meth_index_with_SNP_coverage &lt;int&gt; | subpopulation &lt;chr&gt; | brain_region &lt;chr&gt; | population &lt;chr&gt; | region &lt;chr&gt; | cov_file &lt;chr&gt; | cov_file2 &lt;chr&gt; | cov_file3 &lt;chr&gt; | cov_file4 &lt;chr&gt; |\n",
       "|---|---|---|---|---|---|---|---|---|---|---|---|---|---|---|\n",
       "| 7 | /expanse/lustre/projects/jhu152/naglemi/mwas/gwas//libd_chr7.pgen | /expanse/lustre/projects/jhu152/naglemi/mwas/pheno/caud/out/chr7_all.rda | 159334659 | 49742 | 1490198 | 1 | all | caud | all | caud | /expanse/lustre/projects/jhu152/naglemi/mwas/full_covariates_a2/all_caud.csv | /expanse/lustre/projects/jhu152/naglemi/mwas/full_covariates_a2/all_caud-no-meth.csv | /expanse/lustre/projects/jhu152/naglemi/mwas/full_covariates_a2/all_caud-no-meth-no-dx.csv | /expanse/lustre/projects/jhu152/naglemi/mwas/full_covariates_a2/all_caud-no-dx.csv |\n",
       "\n"
      ],
      "text/plain": [
       "  Chr SNP_data                                                         \n",
       "1 7   /expanse/lustre/projects/jhu152/naglemi/mwas/gwas//libd_chr7.pgen\n",
       "  methylation_data                                                        \n",
       "1 /expanse/lustre/projects/jhu152/naglemi/mwas/pheno/caud/out/chr7_all.rda\n",
       "  last_meth_value_with_SNP_coverage first_meth_value_with_SNP_coverage\n",
       "1 159334659                         49742                             \n",
       "  last_meth_index_with_SNP_coverage first_meth_index_with_SNP_coverage\n",
       "1 1490198                           1                                 \n",
       "  subpopulation brain_region population region\n",
       "1 all           caud         all        caud  \n",
       "  cov_file                                                                    \n",
       "1 /expanse/lustre/projects/jhu152/naglemi/mwas/full_covariates_a2/all_caud.csv\n",
       "  cov_file2                                                                           \n",
       "1 /expanse/lustre/projects/jhu152/naglemi/mwas/full_covariates_a2/all_caud-no-meth.csv\n",
       "  cov_file3                                                                                 \n",
       "1 /expanse/lustre/projects/jhu152/naglemi/mwas/full_covariates_a2/all_caud-no-meth-no-dx.csv\n",
       "  cov_file4                                                                         \n",
       "1 /expanse/lustre/projects/jhu152/naglemi/mwas/full_covariates_a2/all_caud-no-dx.csv"
      ]
     },
     "metadata": {},
     "output_type": "display_data"
    }
   ],
   "source": [
    "df"
   ]
  },
  {
   "cell_type": "code",
   "execution_count": 11,
   "id": "e3010894-c5e0-4875-a695-302ed787be90",
   "metadata": {},
   "outputs": [],
   "source": [
    "i <- 1"
   ]
  },
  {
   "cell_type": "code",
   "execution_count": 12,
   "id": "522b7988-f517-454d-90d5-4e6a51f49380",
   "metadata": {},
   "outputs": [
    {
     "data": {
      "text/html": [
       "<table class=\"dataframe\">\n",
       "<caption>A data.table: 1 × 15</caption>\n",
       "<thead>\n",
       "\t<tr><th scope=col>Chr</th><th scope=col>SNP_data</th><th scope=col>methylation_data</th><th scope=col>last_meth_value_with_SNP_coverage</th><th scope=col>first_meth_value_with_SNP_coverage</th><th scope=col>last_meth_index_with_SNP_coverage</th><th scope=col>first_meth_index_with_SNP_coverage</th><th scope=col>subpopulation</th><th scope=col>brain_region</th><th scope=col>population</th><th scope=col>region</th><th scope=col>cov_file</th><th scope=col>cov_file2</th><th scope=col>cov_file3</th><th scope=col>cov_file4</th></tr>\n",
       "\t<tr><th scope=col>&lt;int&gt;</th><th scope=col>&lt;chr&gt;</th><th scope=col>&lt;chr&gt;</th><th scope=col>&lt;int&gt;</th><th scope=col>&lt;int&gt;</th><th scope=col>&lt;int&gt;</th><th scope=col>&lt;int&gt;</th><th scope=col>&lt;chr&gt;</th><th scope=col>&lt;chr&gt;</th><th scope=col>&lt;chr&gt;</th><th scope=col>&lt;chr&gt;</th><th scope=col>&lt;chr&gt;</th><th scope=col>&lt;chr&gt;</th><th scope=col>&lt;chr&gt;</th><th scope=col>&lt;chr&gt;</th></tr>\n",
       "</thead>\n",
       "<tbody>\n",
       "\t<tr><td>7</td><td>/expanse/lustre/projects/jhu152/naglemi/mwas/gwas//libd_chr7.pgen</td><td>/expanse/lustre/projects/jhu152/naglemi/mwas/pheno/caud/out/chr7_all.rda</td><td>159334659</td><td>49742</td><td>1490198</td><td>1</td><td>all</td><td>caud</td><td>all</td><td>caud</td><td>/expanse/lustre/projects/jhu152/naglemi/mwas/full_covariates_a2/all_caud.csv</td><td>/expanse/lustre/projects/jhu152/naglemi/mwas/full_covariates_a2/all_caud-no-meth.csv</td><td>/expanse/lustre/projects/jhu152/naglemi/mwas/full_covariates_a2/all_caud-no-meth-no-dx.csv</td><td>/expanse/lustre/projects/jhu152/naglemi/mwas/full_covariates_a2/all_caud-no-dx.csv</td></tr>\n",
       "</tbody>\n",
       "</table>\n"
      ],
      "text/latex": [
       "A data.table: 1 × 15\n",
       "\\begin{tabular}{lllllllllllllll}\n",
       " Chr & SNP\\_data & methylation\\_data & last\\_meth\\_value\\_with\\_SNP\\_coverage & first\\_meth\\_value\\_with\\_SNP\\_coverage & last\\_meth\\_index\\_with\\_SNP\\_coverage & first\\_meth\\_index\\_with\\_SNP\\_coverage & subpopulation & brain\\_region & population & region & cov\\_file & cov\\_file2 & cov\\_file3 & cov\\_file4\\\\\n",
       " <int> & <chr> & <chr> & <int> & <int> & <int> & <int> & <chr> & <chr> & <chr> & <chr> & <chr> & <chr> & <chr> & <chr>\\\\\n",
       "\\hline\n",
       "\t 7 & /expanse/lustre/projects/jhu152/naglemi/mwas/gwas//libd\\_chr7.pgen & /expanse/lustre/projects/jhu152/naglemi/mwas/pheno/caud/out/chr7\\_all.rda & 159334659 & 49742 & 1490198 & 1 & all & caud & all & caud & /expanse/lustre/projects/jhu152/naglemi/mwas/full\\_covariates\\_a2/all\\_caud.csv & /expanse/lustre/projects/jhu152/naglemi/mwas/full\\_covariates\\_a2/all\\_caud-no-meth.csv & /expanse/lustre/projects/jhu152/naglemi/mwas/full\\_covariates\\_a2/all\\_caud-no-meth-no-dx.csv & /expanse/lustre/projects/jhu152/naglemi/mwas/full\\_covariates\\_a2/all\\_caud-no-dx.csv\\\\\n",
       "\\end{tabular}\n"
      ],
      "text/markdown": [
       "\n",
       "A data.table: 1 × 15\n",
       "\n",
       "| Chr &lt;int&gt; | SNP_data &lt;chr&gt; | methylation_data &lt;chr&gt; | last_meth_value_with_SNP_coverage &lt;int&gt; | first_meth_value_with_SNP_coverage &lt;int&gt; | last_meth_index_with_SNP_coverage &lt;int&gt; | first_meth_index_with_SNP_coverage &lt;int&gt; | subpopulation &lt;chr&gt; | brain_region &lt;chr&gt; | population &lt;chr&gt; | region &lt;chr&gt; | cov_file &lt;chr&gt; | cov_file2 &lt;chr&gt; | cov_file3 &lt;chr&gt; | cov_file4 &lt;chr&gt; |\n",
       "|---|---|---|---|---|---|---|---|---|---|---|---|---|---|---|\n",
       "| 7 | /expanse/lustre/projects/jhu152/naglemi/mwas/gwas//libd_chr7.pgen | /expanse/lustre/projects/jhu152/naglemi/mwas/pheno/caud/out/chr7_all.rda | 159334659 | 49742 | 1490198 | 1 | all | caud | all | caud | /expanse/lustre/projects/jhu152/naglemi/mwas/full_covariates_a2/all_caud.csv | /expanse/lustre/projects/jhu152/naglemi/mwas/full_covariates_a2/all_caud-no-meth.csv | /expanse/lustre/projects/jhu152/naglemi/mwas/full_covariates_a2/all_caud-no-meth-no-dx.csv | /expanse/lustre/projects/jhu152/naglemi/mwas/full_covariates_a2/all_caud-no-dx.csv |\n",
       "\n"
      ],
      "text/plain": [
       "  Chr SNP_data                                                         \n",
       "1 7   /expanse/lustre/projects/jhu152/naglemi/mwas/gwas//libd_chr7.pgen\n",
       "  methylation_data                                                        \n",
       "1 /expanse/lustre/projects/jhu152/naglemi/mwas/pheno/caud/out/chr7_all.rda\n",
       "  last_meth_value_with_SNP_coverage first_meth_value_with_SNP_coverage\n",
       "1 159334659                         49742                             \n",
       "  last_meth_index_with_SNP_coverage first_meth_index_with_SNP_coverage\n",
       "1 1490198                           1                                 \n",
       "  subpopulation brain_region population region\n",
       "1 all           caud         all        caud  \n",
       "  cov_file                                                                    \n",
       "1 /expanse/lustre/projects/jhu152/naglemi/mwas/full_covariates_a2/all_caud.csv\n",
       "  cov_file2                                                                           \n",
       "1 /expanse/lustre/projects/jhu152/naglemi/mwas/full_covariates_a2/all_caud-no-meth.csv\n",
       "  cov_file3                                                                                 \n",
       "1 /expanse/lustre/projects/jhu152/naglemi/mwas/full_covariates_a2/all_caud-no-meth-no-dx.csv\n",
       "  cov_file4                                                                         \n",
       "1 /expanse/lustre/projects/jhu152/naglemi/mwas/full_covariates_a2/all_caud-no-dx.csv"
      ]
     },
     "metadata": {},
     "output_type": "display_data"
    }
   ],
   "source": [
    "df[1, ]"
   ]
  },
  {
   "cell_type": "code",
   "execution_count": 13,
   "id": "22de2603-481a-4995-8991-1f6f64989e3d",
   "metadata": {},
   "outputs": [],
   "source": [
    "set.seed(2018)\n",
    "wind <- c(10000)\n",
    "# output directory\n",
    "#outd <- \"/dcl02/lieber/shan/shizhong/finemapping/GWAS/tags/scz3/mwas/chr22/1/\"\n",
    "outd <- \"20-OUT_original_mwas_sanity_test/\""
   ]
  },
  {
   "cell_type": "markdown",
   "id": "d7711c4d-5f19-4fd0-9f7b-891133ac3311",
   "metadata": {},
   "source": [
    "## Functions"
   ]
  },
  {
   "cell_type": "markdown",
   "id": "655b95b9-bbcb-4ae8-8914-cf36149e10e1",
   "metadata": {},
   "source": [
    "### Shizhong's original"
   ]
  },
  {
   "cell_type": "code",
   "execution_count": 14,
   "id": "be729eb2-c5b2-4d3e-b835-072d8f5ba2e6",
   "metadata": {},
   "outputs": [],
   "source": [
    "###### model: learn elastic net model on training data \n",
    "######---------Input: trainX, trainY\n",
    "######---------Return: selected features and coefficents\n",
    "\n",
    "# original\n",
    "# elastic.net <- function(trainX,trainY){\n",
    "#     if(nrow(trainX)!=length(trainY)){\n",
    "#             stop(\"Number of observations is differerent\")\n",
    "#     } \n",
    "\n",
    "#     # optimize alpha---mixing parameter  \n",
    "#     a <- 0.5\n",
    "#     search <- foreach(ai = a, .combine = rbind) %dopar% {\n",
    "#         cv.fit <- cv.glmnet(\n",
    "#                         trainX,\n",
    "#                         trainY,\n",
    "#                         nfold = 5,\n",
    "#                         type.measure = \"mse\",\n",
    "#                         paralle = TRUE,\n",
    "#                         alpha = ai\n",
    "#                         )\n",
    "#         data.frame(\n",
    "#                         cvm = min(cv.fit$cvm),\n",
    "#                         lambda = cv.fit$lambda.min,\n",
    "#                         alpha = ai\n",
    "#                         )\n",
    "#         } \n",
    "#     cv.opt <- search[search$cvm == min(search$cvm),] \n",
    "\n",
    "#         # fit model by optimized alpha and lambda\n",
    "#         yfit = glmnet(\n",
    "#         trainX,\n",
    "#         trainY,\n",
    "#         lambda = cv.opt$lambda,\n",
    "#         alpha = cv.opt$alpha\n",
    "#                 )       \n",
    "#         idf <- coef(yfit)\n",
    "#         idx <- which(idf != 0)\n",
    "#         selectf <- data.frame(\n",
    "#                 features = idf@Dimnames[[1]][idx], \n",
    "#                 coefs = idf [idx]\n",
    "#         )\n",
    "# }\n",
    "\n",
    "MWAS <- function(gwas, weight, geno){\n",
    "        z <- gwas %*% weight\n",
    "        z.cor <- cor(geno)\n",
    "        se <- sqrt(weight %*%  z.cor %*%  weight)\n",
    "        z <- z/se\n",
    "        p=pnorm(abs(z),lower.tail=F)*2\n",
    "        return(c(z, p))\n",
    "}"
   ]
  },
  {
   "cell_type": "markdown",
   "id": "52a2753a-ebee-4587-9fa2-1d33f878f68f",
   "metadata": {},
   "source": [
    "#### Modified `elastic.net` to use `lambda.1se`"
   ]
  },
  {
   "cell_type": "code",
   "execution_count": 15,
   "id": "e2a06b13-9a13-4caa-8436-9a05a0f53035",
   "metadata": {},
   "outputs": [],
   "source": [
    "# modified to use lambda 1se and appropriate cvm\n",
    "elastic.net <- function(trainX,trainY, lambda.choice = \"1se\"){\n",
    "    if(nrow(trainX)!=length(trainY)){\n",
    "            stop(\"Number of observations is differerent\")\n",
    "    } \n",
    "\n",
    "    # optimize alpha---mixing parameter  \n",
    "    a <- 0.5\n",
    "    search <- foreach(ai = a, .combine = rbind) %dopar% {\n",
    "        #set.seed(42)\n",
    "        cv.fit <- cv.glmnet(\n",
    "                        trainX,\n",
    "                        trainY,\n",
    "                        nfold = 5,\n",
    "                        type.measure = \"mse\",\n",
    "                        parallel = TRUE,\n",
    "                        alpha = ai\n",
    "                        )\n",
    "        #print(paste0(\"Dim of trainX: \", dim(trainX)))\n",
    "        #print(paste0(\"Len of trainY: \", length(trainY)))\n",
    "        coef_matrix <- as.matrix(coef(cv.fit))\n",
    "\n",
    "        if(lambda.choice == \"1se\"){\n",
    "            chosen_lambda <- cv.fit$lambda.1se\n",
    "            chosen_cvm <- cv.fit$cvm[cv.fit$lambda == cv.fit$lambda.1se]\n",
    "        }\n",
    "        if(lambda.choice == \"min\"){\n",
    "            chosen_lambda <- cv.fit$lambda.min\n",
    "            chosen_cvm <- min(cv.fit$cvm)\n",
    "        }\n",
    "\n",
    "\n",
    "        data.frame(\n",
    "                        cvm = chosen_cvm,\n",
    "                        lambda = chosen_lambda,\n",
    "                        alpha = ai\n",
    "                        )\n",
    "        } \n",
    "    cv.opt <- search[search$cvm == min(search$cvm),] \n",
    "\n",
    "        # fit model by optimized alpha and lambda\n",
    "    #set.seed(42)\n",
    "    yfit <- glmnet(\n",
    "    trainX,\n",
    "    trainY,\n",
    "    lambda = cv.opt$lambda,\n",
    "    alpha = cv.opt$alpha)\n",
    "\n",
    "    idf <- coef(yfit)\n",
    "    idx <- which(idf != 0)\n",
    "    selectf <- data.frame(\n",
    "            features = idf@Dimnames[[1]][idx], \n",
    "            coefs = idf [idx]\n",
    "    )\n",
    "}"
   ]
  },
  {
   "cell_type": "code",
   "execution_count": 16,
   "id": "c61851b6-5956-4c88-beff-413929873770",
   "metadata": {},
   "outputs": [],
   "source": [
    "# version using for loop for easier debugging\n",
    "\n",
    "elastic.net <- function(trainX, trainY, lambda.choice = \"1se\") {\n",
    "    if (nrow(trainX) != length(trainY)) {\n",
    "        stop(\"Number of observations is different\")\n",
    "    }\n",
    "\n",
    "    a <- 0.5\n",
    "    search <- NULL\n",
    "\n",
    "    for (ai in a) {\n",
    "        cv.fit <- cv.glmnet(\n",
    "            trainX,\n",
    "            trainY,\n",
    "            nfold = 5,\n",
    "            type.measure = \"mse\",\n",
    "            parallel = FALSE,\n",
    "            alpha = ai\n",
    "        )\n",
    "        coef_matrix <- as.matrix(coef(cv.fit))\n",
    "\n",
    "        if (lambda.choice == \"1se\") {\n",
    "            chosen_lambda <- cv.fit$lambda.1se\n",
    "            chosen_cvm <- cv.fit$cvm[cv.fit$lambda == cv.fit$lambda.1se]\n",
    "        }\n",
    "        if (lambda.choice == \"min\") {\n",
    "            chosen_lambda <- cv.fit$lambda.min\n",
    "            chosen_cvm <- min(cv.fit$cvm)\n",
    "        }\n",
    "\n",
    "        search <- rbind(\n",
    "            search,\n",
    "            data.frame(\n",
    "                cvm = chosen_cvm,\n",
    "                lambda = chosen_lambda,\n",
    "                alpha = ai\n",
    "            )\n",
    "        )\n",
    "    }\n",
    "\n",
    "    cv.opt <- search[search$cvm == min(search$cvm),]\n",
    "\n",
    "    yfit <- glmnet(\n",
    "        trainX,\n",
    "        trainY,\n",
    "        lambda = cv.opt$lambda,\n",
    "        alpha = cv.opt$alpha\n",
    "    )\n",
    "\n",
    "    idf <- coef(yfit)\n",
    "    idx <- which(idf != 0)\n",
    "    selectf <- data.frame(\n",
    "        features = idf@Dimnames[[1]][idx],\n",
    "        coefs = idf[idx]\n",
    "    )\n",
    "}\n"
   ]
  },
  {
   "cell_type": "markdown",
   "id": "3a0ea432-3ac3-4077-ae61-c3a029004096",
   "metadata": {},
   "source": [
    "## Replace all old objects with new objects in same format"
   ]
  },
  {
   "cell_type": "markdown",
   "id": "18332543-6f7a-40d8-b894-9562a6ac7457",
   "metadata": {},
   "source": [
    "### Methylation data"
   ]
  },
  {
   "cell_type": "code",
   "execution_count": 17,
   "id": "f9b051aa-a1e5-421b-856d-718cf85c24a3",
   "metadata": {
    "scrolled": true
   },
   "outputs": [
    {
     "name": "stderr",
     "output_type": "stream",
     "text": [
      "Loading required package: BiocGenerics\n",
      "\n",
      "\n",
      "Attaching package: ‘BiocGenerics’\n",
      "\n",
      "\n",
      "The following objects are masked from ‘package:stats’:\n",
      "\n",
      "    IQR, mad, sd, var, xtabs\n",
      "\n",
      "\n",
      "The following objects are masked from ‘package:base’:\n",
      "\n",
      "    anyDuplicated, aperm, append, as.data.frame, basename, cbind,\n",
      "    colnames, dirname, do.call, duplicated, eval, evalq, Filter, Find,\n",
      "    get, grep, grepl, intersect, is.unsorted, lapply, Map, mapply,\n",
      "    match, mget, order, paste, pmax, pmax.int, pmin, pmin.int,\n",
      "    Position, rank, rbind, Reduce, rownames, sapply, setdiff, sort,\n",
      "    table, tapply, union, unique, unsplit, which.max, which.min\n",
      "\n",
      "\n",
      "Loading required package: GenomicRanges\n",
      "\n",
      "Loading required package: stats4\n",
      "\n",
      "Loading required package: S4Vectors\n",
      "\n",
      "\n",
      "Attaching package: ‘S4Vectors’\n",
      "\n",
      "\n",
      "The following objects are masked from ‘package:data.table’:\n",
      "\n",
      "    first, second\n",
      "\n",
      "\n",
      "The following objects are masked from ‘package:Matrix’:\n",
      "\n",
      "    expand, unname\n",
      "\n",
      "\n",
      "The following object is masked from ‘package:utils’:\n",
      "\n",
      "    findMatches\n",
      "\n",
      "\n",
      "The following objects are masked from ‘package:base’:\n",
      "\n",
      "    expand.grid, I, unname\n",
      "\n",
      "\n",
      "Loading required package: IRanges\n",
      "\n",
      "\n",
      "Attaching package: ‘IRanges’\n",
      "\n",
      "\n",
      "The following object is masked from ‘package:data.table’:\n",
      "\n",
      "    shift\n",
      "\n",
      "\n",
      "Loading required package: GenomeInfoDb\n",
      "\n",
      "Loading required package: SummarizedExperiment\n",
      "\n",
      "Loading required package: MatrixGenerics\n",
      "\n",
      "Loading required package: matrixStats\n",
      "\n",
      "\n",
      "Attaching package: ‘MatrixGenerics’\n",
      "\n",
      "\n",
      "The following objects are masked from ‘package:matrixStats’:\n",
      "\n",
      "    colAlls, colAnyNAs, colAnys, colAvgsPerRowSet, colCollapse,\n",
      "    colCounts, colCummaxs, colCummins, colCumprods, colCumsums,\n",
      "    colDiffs, colIQRDiffs, colIQRs, colLogSumExps, colMadDiffs,\n",
      "    colMads, colMaxs, colMeans2, colMedians, colMins, colOrderStats,\n",
      "    colProds, colQuantiles, colRanges, colRanks, colSdDiffs, colSds,\n",
      "    colSums2, colTabulates, colVarDiffs, colVars, colWeightedMads,\n",
      "    colWeightedMeans, colWeightedMedians, colWeightedSds,\n",
      "    colWeightedVars, rowAlls, rowAnyNAs, rowAnys, rowAvgsPerColSet,\n",
      "    rowCollapse, rowCounts, rowCummaxs, rowCummins, rowCumprods,\n",
      "    rowCumsums, rowDiffs, rowIQRDiffs, rowIQRs, rowLogSumExps,\n",
      "    rowMadDiffs, rowMads, rowMaxs, rowMeans2, rowMedians, rowMins,\n",
      "    rowOrderStats, rowProds, rowQuantiles, rowRanges, rowRanks,\n",
      "    rowSdDiffs, rowSds, rowSums2, rowTabulates, rowVarDiffs, rowVars,\n",
      "    rowWeightedMads, rowWeightedMeans, rowWeightedMedians,\n",
      "    rowWeightedSds, rowWeightedVars\n",
      "\n",
      "\n",
      "Loading required package: Biobase\n",
      "\n",
      "Welcome to Bioconductor\n",
      "\n",
      "    Vignettes contain introductory material; view with\n",
      "    'browseVignettes()'. To cite Bioconductor, see\n",
      "    'citation(\"Biobase\")', and for packages 'citation(\"pkgname\")'.\n",
      "\n",
      "\n",
      "\n",
      "Attaching package: ‘Biobase’\n",
      "\n",
      "\n",
      "The following object is masked from ‘package:MatrixGenerics’:\n",
      "\n",
      "    rowMedians\n",
      "\n",
      "\n",
      "The following objects are masked from ‘package:matrixStats’:\n",
      "\n",
      "    anyMissing, rowMedians\n",
      "\n",
      "\n"
     ]
    }
   ],
   "source": [
    "suppressWarnings(library(bsseq))"
   ]
  },
  {
   "cell_type": "code",
   "execution_count": 18,
   "id": "8a871cb8-d71d-4f62-8d5e-70b79bb1c1c8",
   "metadata": {},
   "outputs": [],
   "source": [
    "# # # The code in this block is for NEW methylation data, which can be for any chromosome or portion\n",
    "\n",
    "# # # load data for mwas\n",
    "# # # load(\"./rda/caudate_mwas_data_chr22.rda\")\n",
    "# load(df$methylation_data[i])\n",
    "\n",
    "# p <- getMeth(BSobj2)\n",
    "\n",
    "\n",
    "# rownames(p) <- start(BSobj2)\n",
    "\n",
    "# if(sites_to_test_pos[1] == \"random\"){\n",
    "#     sites_to_test_pos <- sample(start(BSobj2), n_samples)\n",
    "# } else {\n",
    "#     sites_to_test_pos <- start(BSobj2)[which(start(BSobj2) >= min_site_to_test_pos & start(BSobj2) <= max_site_to_test_pos)]\n",
    "# }\n",
    "\n",
    "# sites_to_test <- which(start(BSobj2) %in% sites_to_test_pos)\n",
    "# p <- p[sites_to_test, ]\n",
    "# cg <- as.numeric(rownames(p))"
   ]
  },
  {
   "cell_type": "code",
   "execution_count": 19,
   "id": "d690f701-eb0b-4aaa-8533-9f792f37d785",
   "metadata": {},
   "outputs": [],
   "source": [
    "# length(sites_to_test_pos)"
   ]
  },
  {
   "cell_type": "code",
   "execution_count": 20,
   "id": "de6de2b3-60bb-4611-8632-d930efce4fe3",
   "metadata": {},
   "outputs": [],
   "source": [
    "# head(sites_to_test_pos)"
   ]
  },
  {
   "cell_type": "markdown",
   "id": "892e5592-48be-4854-b932-5d43a9d27791",
   "metadata": {},
   "source": [
    "Subset our p object to the same sites as the old one, compare values"
   ]
  },
  {
   "cell_type": "code",
   "execution_count": 21,
   "id": "067bd47b-6d87-4707-be4f-2f48e4382517",
   "metadata": {},
   "outputs": [
    {
     "name": "stdout",
     "output_type": "stream",
     "text": [
      "Loading objects:\n",
      "  BSsample\n",
      "Loading objects:\n",
      "  snp.gwas2\n",
      "  snp.1kg.eur2\n",
      "  map.1kg.eur2\n",
      "  snp2\n",
      "  map2\n",
      "  p\n",
      "  BSsample\n"
     ]
    }
   ],
   "source": [
    "# Old dataset\n",
    "load(\"BSsample.rda\", verbose = TRUE) # we get the @colData attribute as a data.frame here\n",
    "load(\"p1.rda\", verbose = TRUE) # and the p matrix from getMeth() here\n",
    "\n",
    "BSobj2 <- BSsample\n",
    "cg <- as.numeric(rownames(p)) # This line same whether we use old or new version\n",
    "sites_to_test_pos <- cg"
   ]
  },
  {
   "cell_type": "markdown",
   "id": "6063581e-a107-4977-93d7-836f1da57078",
   "metadata": {},
   "source": [
    "### covariates"
   ]
  },
  {
   "cell_type": "code",
   "execution_count": 22,
   "id": "cc499656-ec9a-45cd-ad05-b17e957eaaa6",
   "metadata": {},
   "outputs": [],
   "source": [
    "# #The code in this block is for NEW covariate data\n",
    "\n",
    "# covs <- fread(df$cov_file[i])\n",
    "# covs <- t(covs)\n",
    "# colnames(covs) <- covs[1, ]\n",
    "# covs <- covs[2:nrow(covs), ]\n",
    "# # transpose so we have same orientation as original code"
   ]
  },
  {
   "cell_type": "code",
   "execution_count": 23,
   "id": "b73eadb7-0f96-4f46-bafc-1e9ad864613d",
   "metadata": {},
   "outputs": [],
   "source": [
    "# This is the OLD covariate data\n",
    "\n",
    "load(\"covs_for_meqtl.rda\")"
   ]
  },
  {
   "cell_type": "markdown",
   "id": "72219907-d534-4523-a369-853077888b38",
   "metadata": {},
   "source": [
    "### Regress methylation data over covariates"
   ]
  },
  {
   "cell_type": "code",
   "execution_count": 24,
   "id": "85527835-9e3f-4ba9-a645-5330564e0b7c",
   "metadata": {},
   "outputs": [],
   "source": [
    "BSobj2$brnum <- gsub(\"Br0\", \"Br\", BSobj2$brnum)\n",
    "colnames(covs) <- gsub(\"Br0\", \"Br\", colnames(covs))"
   ]
  },
  {
   "cell_type": "code",
   "execution_count": 25,
   "id": "8899261b-73fb-430e-bcdb-143fc8f04670",
   "metadata": {},
   "outputs": [],
   "source": [
    "mat <- match(BSobj2$brnum,colnames(covs)) \n",
    "covs <- t(covs[,mat])\n",
    "p.residual=matrix(NA,dim(p)[1],dim(p)[2])"
   ]
  },
  {
   "cell_type": "code",
   "execution_count": 26,
   "id": "35031e54-4c54-4a37-9997-99b57efa86bf",
   "metadata": {},
   "outputs": [],
   "source": [
    "# This is something we only need to do for new covariates\n",
    "if(\"genoPC1\" %in% colnames(covs)){\n",
    "    rownames(covs)[is.na(covs[, 'genoPC1'])] <- BSobj2$brnum[is.na(covs[, 'genoPC1'])]\n",
    "}"
   ]
  },
  {
   "cell_type": "code",
   "execution_count": 27,
   "id": "70bda030-7a89-4dff-8c61-f576badfd8bd",
   "metadata": {},
   "outputs": [],
   "source": [
    "colnames(p.residual) <- BSobj2$brnum"
   ]
  },
  {
   "cell_type": "code",
   "execution_count": 28,
   "id": "78ee80f1-d9ea-46b0-b37a-dfeed3dbdf97",
   "metadata": {},
   "outputs": [],
   "source": [
    "covs <- as.data.frame(covs)\n",
    "# Convert all columns except Dx and Sex from character to numeric\n",
    "cols_to_convert <- setdiff(names(covs), c(\"Dx\", \"Sex\"))\n",
    "\n",
    "for (col in cols_to_convert) {\n",
    "  covs[[col]] <- as.numeric(covs[[col]])\n",
    "}\n",
    "\n",
    "# Print the modified data frame to check the conversion\n",
    "#print(dat)\n"
   ]
  },
  {
   "cell_type": "code",
   "execution_count": 29,
   "id": "db709d51-494c-431c-8327-9348dbf0419c",
   "metadata": {},
   "outputs": [],
   "source": [
    "for (i in 1:dim(p)[1]) { # For each methylation site\n",
    "    dat <- as.data.frame(cbind(y = p[i,], covs))\n",
    "    \n",
    "    # Check for rows with NAs (the ones for which we don't have covariate data)\n",
    "    valid_rows <- complete.cases(dat)\n",
    "    \n",
    "    if (sum(valid_rows) > 0) {\n",
    "        dat_valid <- dat[valid_rows,]\n",
    "        model.res <- lm(y ~ ., data = dat_valid)\n",
    "        \n",
    "        # Store residuals in the corresponding positions\n",
    "        p.residual[i, valid_rows] <- resid(model.res)\n",
    "    }\n",
    "}\n",
    "\n",
    "\n",
    "# for(i in 1:dim(p)[1]){ # foro each methylation site\n",
    "#         dat <- as.data.frame(cbind(p[i,],covs))\n",
    "#         colnames(dat) <- c(\"y\",paste0(\"x\",1:ncol(covs)))\n",
    "#         model.res <- lm(reformulate(paste0(\"x\",1:ncol(covs)), \"y\"),dat)\n",
    "#         p.residual[i,] = resid(model.res) \n",
    "# }"
   ]
  },
  {
   "cell_type": "code",
   "execution_count": 30,
   "id": "dee072f8-010e-4618-806c-b5e66018bc81",
   "metadata": {},
   "outputs": [
    {
     "data": {
      "text/html": [
       "<style>\n",
       ".list-inline {list-style: none; margin:0; padding: 0}\n",
       ".list-inline>li {display: inline-block}\n",
       ".list-inline>li:not(:last-child)::after {content: \"\\00b7\"; padding: 0 .5ex}\n",
       "</style>\n",
       "<ol class=list-inline><li>330</li><li>308</li></ol>\n"
      ],
      "text/latex": [
       "\\begin{enumerate*}\n",
       "\\item 330\n",
       "\\item 308\n",
       "\\end{enumerate*}\n"
      ],
      "text/markdown": [
       "1. 330\n",
       "2. 308\n",
       "\n",
       "\n"
      ],
      "text/plain": [
       "[1] 330 308"
      ]
     },
     "metadata": {},
     "output_type": "display_data"
    }
   ],
   "source": [
    "dim(p.residual)"
   ]
  },
  {
   "cell_type": "code",
   "execution_count": 31,
   "id": "4f866dd6-16c6-4803-9c21-c70e4b931e66",
   "metadata": {},
   "outputs": [
    {
     "data": {
      "text/html": [
       "<table class=\"dataframe\">\n",
       "<caption>A matrix: 8 × 8 of type dbl</caption>\n",
       "<thead>\n",
       "\t<tr><th scope=col>Br836</th><th scope=col>Br845</th><th scope=col>Br848</th><th scope=col>Br863</th><th scope=col>Br914</th><th scope=col>Br948</th><th scope=col>Br949</th><th scope=col>Br963</th></tr>\n",
       "</thead>\n",
       "<tbody>\n",
       "\t<tr><td>0.01273526</td><td>0.003955796</td><td>-0.006492196</td><td>-0.003937108</td><td>-0.003108317</td><td>-0.02635100</td><td>-0.01780211</td><td>0.02198214</td></tr>\n",
       "\t<tr><td>0.01244238</td><td>0.004791327</td><td>-0.006684356</td><td>-0.004304248</td><td>-0.002787528</td><td>-0.02590003</td><td>-0.01859511</td><td>0.02199029</td></tr>\n",
       "\t<tr><td>0.01199289</td><td>0.005968815</td><td>-0.006910408</td><td>-0.004612377</td><td>-0.002502153</td><td>-0.02531498</td><td>-0.01932406</td><td>0.02187912</td></tr>\n",
       "\t<tr><td>0.01185321</td><td>0.006292368</td><td>-0.006985009</td><td>-0.004655232</td><td>-0.002462299</td><td>-0.02516852</td><td>-0.01943433</td><td>0.02181896</td></tr>\n",
       "\t<tr><td>0.01165765</td><td>0.006722936</td><td>-0.007091745</td><td>-0.004689633</td><td>-0.002431018</td><td>-0.02498177</td><td>-0.01953200</td><td>0.02172186</td></tr>\n",
       "\t<tr><td>0.01077923</td><td>0.008466136</td><td>-0.007601638</td><td>-0.004627312</td><td>-0.002500745</td><td>-0.02429218</td><td>-0.01948105</td><td>0.02116477</td></tr>\n",
       "\t<tr><td>0.01066253</td><td>0.008680782</td><td>-0.007672761</td><td>-0.004601013</td><td>-0.002526803</td><td>-0.02421065</td><td>-0.01943371</td><td>0.02108082</td></tr>\n",
       "\t<tr><td>0.01035960</td><td>0.009223814</td><td>-0.007860604</td><td>-0.004518253</td><td>-0.002606966</td><td>-0.02400573</td><td>-0.01927932</td><td>0.02085531</td></tr>\n",
       "</tbody>\n",
       "</table>\n"
      ],
      "text/latex": [
       "A matrix: 8 × 8 of type dbl\n",
       "\\begin{tabular}{llllllll}\n",
       " Br836 & Br845 & Br848 & Br863 & Br914 & Br948 & Br949 & Br963\\\\\n",
       "\\hline\n",
       "\t 0.01273526 & 0.003955796 & -0.006492196 & -0.003937108 & -0.003108317 & -0.02635100 & -0.01780211 & 0.02198214\\\\\n",
       "\t 0.01244238 & 0.004791327 & -0.006684356 & -0.004304248 & -0.002787528 & -0.02590003 & -0.01859511 & 0.02199029\\\\\n",
       "\t 0.01199289 & 0.005968815 & -0.006910408 & -0.004612377 & -0.002502153 & -0.02531498 & -0.01932406 & 0.02187912\\\\\n",
       "\t 0.01185321 & 0.006292368 & -0.006985009 & -0.004655232 & -0.002462299 & -0.02516852 & -0.01943433 & 0.02181896\\\\\n",
       "\t 0.01165765 & 0.006722936 & -0.007091745 & -0.004689633 & -0.002431018 & -0.02498177 & -0.01953200 & 0.02172186\\\\\n",
       "\t 0.01077923 & 0.008466136 & -0.007601638 & -0.004627312 & -0.002500745 & -0.02429218 & -0.01948105 & 0.02116477\\\\\n",
       "\t 0.01066253 & 0.008680782 & -0.007672761 & -0.004601013 & -0.002526803 & -0.02421065 & -0.01943371 & 0.02108082\\\\\n",
       "\t 0.01035960 & 0.009223814 & -0.007860604 & -0.004518253 & -0.002606966 & -0.02400573 & -0.01927932 & 0.02085531\\\\\n",
       "\\end{tabular}\n"
      ],
      "text/markdown": [
       "\n",
       "A matrix: 8 × 8 of type dbl\n",
       "\n",
       "| Br836 | Br845 | Br848 | Br863 | Br914 | Br948 | Br949 | Br963 |\n",
       "|---|---|---|---|---|---|---|---|\n",
       "| 0.01273526 | 0.003955796 | -0.006492196 | -0.003937108 | -0.003108317 | -0.02635100 | -0.01780211 | 0.02198214 |\n",
       "| 0.01244238 | 0.004791327 | -0.006684356 | -0.004304248 | -0.002787528 | -0.02590003 | -0.01859511 | 0.02199029 |\n",
       "| 0.01199289 | 0.005968815 | -0.006910408 | -0.004612377 | -0.002502153 | -0.02531498 | -0.01932406 | 0.02187912 |\n",
       "| 0.01185321 | 0.006292368 | -0.006985009 | -0.004655232 | -0.002462299 | -0.02516852 | -0.01943433 | 0.02181896 |\n",
       "| 0.01165765 | 0.006722936 | -0.007091745 | -0.004689633 | -0.002431018 | -0.02498177 | -0.01953200 | 0.02172186 |\n",
       "| 0.01077923 | 0.008466136 | -0.007601638 | -0.004627312 | -0.002500745 | -0.02429218 | -0.01948105 | 0.02116477 |\n",
       "| 0.01066253 | 0.008680782 | -0.007672761 | -0.004601013 | -0.002526803 | -0.02421065 | -0.01943371 | 0.02108082 |\n",
       "| 0.01035960 | 0.009223814 | -0.007860604 | -0.004518253 | -0.002606966 | -0.02400573 | -0.01927932 | 0.02085531 |\n",
       "\n"
      ],
      "text/plain": [
       "     Br836      Br845       Br848        Br863        Br914        Br948      \n",
       "[1,] 0.01273526 0.003955796 -0.006492196 -0.003937108 -0.003108317 -0.02635100\n",
       "[2,] 0.01244238 0.004791327 -0.006684356 -0.004304248 -0.002787528 -0.02590003\n",
       "[3,] 0.01199289 0.005968815 -0.006910408 -0.004612377 -0.002502153 -0.02531498\n",
       "[4,] 0.01185321 0.006292368 -0.006985009 -0.004655232 -0.002462299 -0.02516852\n",
       "[5,] 0.01165765 0.006722936 -0.007091745 -0.004689633 -0.002431018 -0.02498177\n",
       "[6,] 0.01077923 0.008466136 -0.007601638 -0.004627312 -0.002500745 -0.02429218\n",
       "[7,] 0.01066253 0.008680782 -0.007672761 -0.004601013 -0.002526803 -0.02421065\n",
       "[8,] 0.01035960 0.009223814 -0.007860604 -0.004518253 -0.002606966 -0.02400573\n",
       "     Br949       Br963     \n",
       "[1,] -0.01780211 0.02198214\n",
       "[2,] -0.01859511 0.02199029\n",
       "[3,] -0.01932406 0.02187912\n",
       "[4,] -0.01943433 0.02181896\n",
       "[5,] -0.01953200 0.02172186\n",
       "[6,] -0.01948105 0.02116477\n",
       "[7,] -0.01943371 0.02108082\n",
       "[8,] -0.01927932 0.02085531"
      ]
     },
     "metadata": {},
     "output_type": "display_data"
    }
   ],
   "source": [
    "p.residual[1:8, 1:8]"
   ]
  },
  {
   "cell_type": "code",
   "execution_count": 32,
   "id": "10a4df3c-1f1a-40fe-a581-87152b140f03",
   "metadata": {},
   "outputs": [
    {
     "data": {
      "text/html": [
       "0"
      ],
      "text/latex": [
       "0"
      ],
      "text/markdown": [
       "0"
      ],
      "text/plain": [
       "[1] 0"
      ]
     },
     "metadata": {},
     "output_type": "display_data"
    }
   ],
   "source": [
    "sum(is.na(p.residual))"
   ]
  },
  {
   "cell_type": "code",
   "execution_count": 33,
   "id": "991b6c83-60a6-4d2f-9f5e-1d278535aa84",
   "metadata": {},
   "outputs": [
    {
     "data": {
      "text/html": [
       "0"
      ],
      "text/latex": [
       "0"
      ],
      "text/markdown": [
       "0"
      ],
      "text/plain": [
       "[1] 0"
      ]
     },
     "metadata": {},
     "output_type": "display_data"
    },
    {
     "data": {
      "text/html": [
       "0"
      ],
      "text/latex": [
       "0"
      ],
      "text/markdown": [
       "0"
      ],
      "text/plain": [
       "[1] 0"
      ]
     },
     "metadata": {},
     "output_type": "display_data"
    }
   ],
   "source": [
    "sum(rowSums(is.na(p.residual)) == ncol(p.residual))\n",
    "sum(colSums(is.na(p.residual)) == nrow(p.residual))"
   ]
  },
  {
   "cell_type": "code",
   "execution_count": 34,
   "id": "094f14a2-d65d-4c77-8484-12cb5b7e88e2",
   "metadata": {},
   "outputs": [],
   "source": [
    "# p.residual <- p.residual[, colSums(is.na(p.residual)) != nrow(p.residual)]"
   ]
  },
  {
   "cell_type": "code",
   "execution_count": 35,
   "id": "0060e7ba-8818-4986-b23d-03ae8dbb1cda",
   "metadata": {},
   "outputs": [
    {
     "data": {
      "text/html": [
       "0"
      ],
      "text/latex": [
       "0"
      ],
      "text/markdown": [
       "0"
      ],
      "text/plain": [
       "[1] 0"
      ]
     },
     "metadata": {},
     "output_type": "display_data"
    }
   ],
   "source": [
    "sum(is.na(p.residual))"
   ]
  },
  {
   "cell_type": "code",
   "execution_count": 36,
   "id": "f4ad72db-fe27-4676-8da6-46222519a095",
   "metadata": {},
   "outputs": [],
   "source": [
    "snp.gwas2 <- NULL"
   ]
  },
  {
   "cell_type": "code",
   "execution_count": 37,
   "id": "744fc147-2638-4935-a805-68cb51852dd7",
   "metadata": {},
   "outputs": [],
   "source": [
    "#load(\"p1.rda\", verbose = TRUE)"
   ]
  },
  {
   "cell_type": "markdown",
   "id": "6f1649fc-72c8-4bcf-9cbc-587463117579",
   "metadata": {},
   "source": [
    "### summary stats"
   ]
  },
  {
   "cell_type": "code",
   "execution_count": 38,
   "id": "19d2a3db-0ed4-481f-b7d6-78d0ddbbb80f",
   "metadata": {},
   "outputs": [],
   "source": [
    "library(data.table)\n",
    "library(CpGWAS)"
   ]
  },
  {
   "cell_type": "code",
   "execution_count": 39,
   "id": "a5270235-a5a6-42d2-a654-ea30cb891279",
   "metadata": {},
   "outputs": [],
   "source": [
    "ss_path <- \"/home/naglemi/mwas/gwas/gwas_stat_scz\""
   ]
  },
  {
   "cell_type": "code",
   "execution_count": 40,
   "id": "203b45ea-44b4-4679-8b74-621f634db7dc",
   "metadata": {},
   "outputs": [],
   "source": [
    "snp.gwas2 <- fread(ss_path, skip = 1, header = FALSE)\n",
    "colnames(snp.gwas2) <- strsplit(readLines(ss_path, n = 1), \"\\t\")[[1]]"
   ]
  },
  {
   "cell_type": "code",
   "execution_count": 41,
   "id": "917f58c4-4ec5-47b8-bf3d-f0abcf86cf96",
   "metadata": {},
   "outputs": [],
   "source": [
    "snp.gwas2$z <- log(snp.gwas2$OR)/snp.gwas2$SE"
   ]
  },
  {
   "cell_type": "code",
   "execution_count": 42,
   "id": "6d87bed5-d32c-4264-b787-d738cd381454",
   "metadata": {},
   "outputs": [],
   "source": [
    "snp.gwas2 <- snp.gwas2[, c(2, 1, 3, 3, 8, 4, 5, 20, 11)]"
   ]
  },
  {
   "cell_type": "code",
   "execution_count": 43,
   "id": "3df5e4c7-01eb-475b-a931-1e088d109cdb",
   "metadata": {},
   "outputs": [
    {
     "data": {
      "text/html": [
       "<table class=\"dataframe\">\n",
       "<caption>A data.table: 1 × 9</caption>\n",
       "<thead>\n",
       "\t<tr><th scope=col>SNP</th><th scope=col>CHR</th><th scope=col>BP</th><th scope=col>BP</th><th scope=col>INFO</th><th scope=col>A1</th><th scope=col>A2</th><th scope=col>z</th><th scope=col>P</th></tr>\n",
       "\t<tr><th scope=col>&lt;chr&gt;</th><th scope=col>&lt;int&gt;</th><th scope=col>&lt;int&gt;</th><th scope=col>&lt;int&gt;</th><th scope=col>&lt;dbl&gt;</th><th scope=col>&lt;chr&gt;</th><th scope=col>&lt;chr&gt;</th><th scope=col>&lt;dbl&gt;</th><th scope=col>&lt;dbl&gt;</th></tr>\n",
       "</thead>\n",
       "<tbody>\n",
       "\t<tr><td>rs62513865</td><td>8</td><td>100579985</td><td>100579985</td><td>0.963</td><td>C</td><td>T</td><td>0.7016221</td><td>0.4847</td></tr>\n",
       "</tbody>\n",
       "</table>\n"
      ],
      "text/latex": [
       "A data.table: 1 × 9\n",
       "\\begin{tabular}{lllllllll}\n",
       " SNP & CHR & BP & BP & INFO & A1 & A2 & z & P\\\\\n",
       " <chr> & <int> & <int> & <int> & <dbl> & <chr> & <chr> & <dbl> & <dbl>\\\\\n",
       "\\hline\n",
       "\t rs62513865 & 8 & 100579985 & 100579985 & 0.963 & C & T & 0.7016221 & 0.4847\\\\\n",
       "\\end{tabular}\n"
      ],
      "text/markdown": [
       "\n",
       "A data.table: 1 × 9\n",
       "\n",
       "| SNP &lt;chr&gt; | CHR &lt;int&gt; | BP &lt;int&gt; | BP &lt;int&gt; | INFO &lt;dbl&gt; | A1 &lt;chr&gt; | A2 &lt;chr&gt; | z &lt;dbl&gt; | P &lt;dbl&gt; |\n",
       "|---|---|---|---|---|---|---|---|---|\n",
       "| rs62513865 | 8 | 100579985 | 100579985 | 0.963 | C | T | 0.7016221 | 0.4847 |\n",
       "\n"
      ],
      "text/plain": [
       "  SNP        CHR BP        BP        INFO  A1 A2 z         P     \n",
       "1 rs62513865 8   100579985 100579985 0.963 C  T  0.7016221 0.4847"
      ]
     },
     "metadata": {},
     "output_type": "display_data"
    }
   ],
   "source": [
    "head(snp.gwas2, n = 1)"
   ]
  },
  {
   "cell_type": "code",
   "execution_count": 44,
   "id": "a1b63fe0-6ff8-4982-92a5-7dd2a937b6f3",
   "metadata": {},
   "outputs": [],
   "source": [
    "colnames(snp.gwas2)[1:5] <- c(\"snp\", \"chr\", \"pos_hg38\", \"pos_hg38\", \"info\")"
   ]
  },
  {
   "cell_type": "code",
   "execution_count": 45,
   "id": "bda48de1-8191-4b45-8f16-41cce0a957af",
   "metadata": {},
   "outputs": [],
   "source": [
    "CHR <- chr # to avoid R df local env mixing variables of columns name and subset variable"
   ]
  },
  {
   "cell_type": "code",
   "execution_count": 46,
   "id": "196dca2f-edd0-4ff7-83d0-73049310205f",
   "metadata": {},
   "outputs": [],
   "source": [
    "snp.gwas2 <- snp.gwas2[which(snp.gwas2$chr == CHR), ]"
   ]
  },
  {
   "cell_type": "code",
   "execution_count": 47,
   "id": "86716430-3d24-416b-922e-f7f8e007325d",
   "metadata": {},
   "outputs": [],
   "source": [
    "if(filter_snps == TRUE){\n",
    "    snp.gwas2 <- snp.gwas2[which(snp.gwas2$pos_hg38 >= (min(sites_to_test_pos)-10000) & snp.gwas2$pos_hg38 <= (max(sites_to_test_pos) + 10000)), ]\n",
    "}"
   ]
  },
  {
   "cell_type": "code",
   "execution_count": 48,
   "id": "6dfba3a8-0775-4f8c-92d2-3c9c32a36945",
   "metadata": {},
   "outputs": [],
   "source": [
    "snp.gwas2 <- snp.gwas2[order(snp.gwas2$pos_hg38), ]"
   ]
  },
  {
   "cell_type": "code",
   "execution_count": 49,
   "id": "e094af46-5937-4e19-aaef-a6e6d8fdb692",
   "metadata": {},
   "outputs": [
    {
     "data": {
      "text/plain": [
       "DataFrame with 6 rows and 10 columns\n",
       "               ID       brnum has_genotype   source  agedeath      sex     race\n",
       "      <character> <character>    <logical> <factor> <numeric> <factor> <factor>\n",
       "1 LIBD1633_190509       Br836         TRUE       DC     20.77        M       AA\n",
       "2 LIBD1654_190509       Br845         TRUE       DC     24.79        M       AA\n",
       "3 LIBD1508_190509       Br848         TRUE       DC     22.71        M       AA\n",
       "4 LIBD1655_190509       Br863         TRUE       DC     43.85        M       AA\n",
       "5 LIBD1604_190509       Br914         TRUE       DC     19.69        F       AA\n",
       "6 LIBD1389_190509       Br948         TRUE       DC     45.91        M       AA\n",
       "  primarydx       pmi        ph\n",
       "   <factor> <numeric> <numeric>\n",
       "1   Control      25.5      6.46\n",
       "2   Control      43.5      6.94\n",
       "3   Control      38.5      6.57\n",
       "4   Control      24.5      6.57\n",
       "5   Control      19.0      6.98\n",
       "6   Control      38.5      6.66"
      ]
     },
     "metadata": {},
     "output_type": "display_data"
    }
   ],
   "source": [
    "head(BSobj2)"
   ]
  },
  {
   "cell_type": "code",
   "execution_count": 50,
   "id": "a7e65537-90ab-49df-b17e-0c526f8bce94",
   "metadata": {},
   "outputs": [
    {
     "data": {
      "text/html": [
       "<style>\n",
       ".list-inline {list-style: none; margin:0; padding: 0}\n",
       ".list-inline>li {display: inline-block}\n",
       ".list-inline>li:not(:last-child)::after {content: \"\\00b7\"; padding: 0 .5ex}\n",
       "</style>\n",
       "<ol class=list-inline><li>308</li><li>10</li></ol>\n"
      ],
      "text/latex": [
       "\\begin{enumerate*}\n",
       "\\item 308\n",
       "\\item 10\n",
       "\\end{enumerate*}\n"
      ],
      "text/markdown": [
       "1. 308\n",
       "2. 10\n",
       "\n",
       "\n"
      ],
      "text/plain": [
       "[1] 308  10"
      ]
     },
     "metadata": {},
     "output_type": "display_data"
    }
   ],
   "source": [
    "dim(BSobj2)"
   ]
  },
  {
   "cell_type": "code",
   "execution_count": 51,
   "id": "694a73ac-0c1e-43a2-8a0e-51666fe047e3",
   "metadata": {},
   "outputs": [],
   "source": [
    "BSobj2 <- BSobj2[which(BSobj2$brnum %in% colnames(p.residual)), ]"
   ]
  },
  {
   "cell_type": "code",
   "execution_count": 52,
   "id": "7faa87a9-46ae-44b0-9ab8-436cb9537c4d",
   "metadata": {},
   "outputs": [
    {
     "data": {
      "text/html": [
       "<style>\n",
       ".list-inline {list-style: none; margin:0; padding: 0}\n",
       ".list-inline>li {display: inline-block}\n",
       ".list-inline>li:not(:last-child)::after {content: \"\\00b7\"; padding: 0 .5ex}\n",
       "</style>\n",
       "<ol class=list-inline><li>308</li><li>10</li></ol>\n"
      ],
      "text/latex": [
       "\\begin{enumerate*}\n",
       "\\item 308\n",
       "\\item 10\n",
       "\\end{enumerate*}\n"
      ],
      "text/markdown": [
       "1. 308\n",
       "2. 10\n",
       "\n",
       "\n"
      ],
      "text/plain": [
       "[1] 308  10"
      ]
     },
     "metadata": {},
     "output_type": "display_data"
    }
   ],
   "source": [
    "dim(BSobj2)"
   ]
  },
  {
   "cell_type": "code",
   "execution_count": 53,
   "id": "4714a813-116f-4567-a6b1-41bb02df8227",
   "metadata": {},
   "outputs": [],
   "source": [
    "# built predition models\n",
    "idx.ea <- BSobj2$race == \"CAUC\""
   ]
  },
  {
   "cell_type": "code",
   "execution_count": 54,
   "id": "8bce368a-5bbc-4ed4-9906-5d8ab09e21a8",
   "metadata": {},
   "outputs": [
    {
     "data": {
      "text/html": [
       "'7'"
      ],
      "text/latex": [
       "'7'"
      ],
      "text/markdown": [
       "'7'"
      ],
      "text/plain": [
       "[1] \"7\""
      ]
     },
     "metadata": {},
     "output_type": "display_data"
    }
   ],
   "source": [
    "levels(factor(snp.gwas2$chr))"
   ]
  },
  {
   "cell_type": "markdown",
   "id": "9700ca92-911f-4aa6-a557-789f202994b1",
   "metadata": {},
   "source": [
    "### SNPs in LIBD population"
   ]
  },
  {
   "cell_type": "markdown",
   "id": "4f57b245-ca89-42ac-986a-c47623a31e59",
   "metadata": {},
   "source": [
    "#### Old dataset"
   ]
  },
  {
   "cell_type": "code",
   "execution_count": null,
   "id": "03097259-e5c1-43c7-9b09-e67ed2080067",
   "metadata": {},
   "outputs": [],
   "source": []
  },
  {
   "cell_type": "code",
   "execution_count": null,
   "id": "0c89ee08-626a-42b6-8091-791bd5d63239",
   "metadata": {},
   "outputs": [],
   "source": []
  },
  {
   "cell_type": "code",
   "execution_count": null,
   "id": "e68fddaf-f50a-41ac-bdb3-56f9bd93ff4b",
   "metadata": {},
   "outputs": [],
   "source": []
  },
  {
   "cell_type": "markdown",
   "id": "6c305c43-74d5-42df-8039-b20adbbed9cd",
   "metadata": {},
   "source": [
    "#### New dataset prep: For reference, first load Shizhong's formatted SNPs on Chr7"
   ]
  },
  {
   "cell_type": "code",
   "execution_count": 55,
   "id": "17bbe86f-b1ff-4af1-8297-56ed0e3051e6",
   "metadata": {},
   "outputs": [
    {
     "name": "stdout",
     "output_type": "stream",
     "text": [
      "Loading objects:\n",
      "  snp.gwas2\n",
      "  snp.1kg.eur2\n",
      "  map.1kg.eur2\n",
      "  snp2\n",
      "  map2\n",
      "  p\n",
      "  BSsample\n"
     ]
    }
   ],
   "source": [
    "load(\"p1.rda\", verbose = TRUE)\n",
    "\n",
    "snp2_sorted <- snp2[, order(names(snp2))]\n",
    "\n",
    "colnames(snp2) <- gsub(\"Br0\", \"Br\", colnames(snp2))\n",
    "\n",
    "snp2 <- snp2[, colnames(snp2) %in% colnames(p.residual)]\n",
    "\n",
    "snp2_positions <- stringr::str_split_fixed(rownames(snp2), \":\", 3)[, 2]\n",
    "\n",
    "snp3 <- snp2\n",
    "map3 <- map2"
   ]
  },
  {
   "cell_type": "markdown",
   "id": "64e0f588-fc43-4f4a-aba6-911d037e9ead",
   "metadata": {},
   "source": [
    "#### New dataset: Now let's load ours on Chr1"
   ]
  },
  {
   "cell_type": "code",
   "execution_count": 56,
   "id": "04b0b495-749b-42fa-a4ce-2d7f14f0a053",
   "metadata": {},
   "outputs": [],
   "source": [
    "# paths <- list(\n",
    "#   pvar_path = paste0(\"/expanse/lustre/projects/jhu152/naglemi/mwas/gwas/libd_chr\", chr, \".pvar\"),\n",
    "#   pgen_path = paste0(\"/expanse/lustre/projects/jhu152/naglemi/mwas/gwas/libd_chr\", chr, \".pgen\"),\n",
    "#   psam_path = paste0(\"/expanse/lustre/projects/jhu152/naglemi/mwas/gwas/libd_chr\", chr, \".psam\")\n",
    "# )\n",
    "\n",
    "# my_SNPs <- loadSNPData(paths$pvar_path, paths$pgen_path, paths$psam_path)"
   ]
  },
  {
   "cell_type": "code",
   "execution_count": 57,
   "id": "6c82ac91-681b-483c-818f-3a2ec958bca7",
   "metadata": {},
   "outputs": [],
   "source": [
    "# filter_snps <- TRUE"
   ]
  },
  {
   "cell_type": "code",
   "execution_count": 58,
   "id": "1dd4ef47-2a68-4f01-a0e5-03efd6732c4a",
   "metadata": {},
   "outputs": [],
   "source": [
    "# if(filter_snps == TRUE){\n",
    "#     snp_indices_of_interest <- which(my_SNPs$pvar_dt$POS >= min(sites_to_test_pos)-100000 & my_SNPs$pvar_dt$POS <= max(sites_to_test_pos) + 100000)\n",
    "# }"
   ]
  },
  {
   "cell_type": "code",
   "execution_count": 59,
   "id": "24e9b8e2-bbbc-4421-98e2-97a6ae33ef68",
   "metadata": {},
   "outputs": [],
   "source": [
    "# if(filter_snps == TRUE){\n",
    "#     snp3 <- pgenlibr::ReadList(my_SNPs$pgen,\n",
    "#                                variant_subset = snp_indices_of_interest)\n",
    "#     colnames(snp3) <- my_SNPs$pvar_dt$ID[snp_indices_of_interest]\n",
    "# } else {\n",
    "#     snp3 <- pgenlibr::ReadList(my_SNPs$pgen)\n",
    "#     colnames(snp3) <- my_SNPs$pvar_dt$ID\n",
    "# }"
   ]
  },
  {
   "cell_type": "code",
   "execution_count": 60,
   "id": "cec6d1f4-f37a-4788-a6c8-04fb1d6a6fcf",
   "metadata": {},
   "outputs": [],
   "source": [
    "# snp3[1:10, 1:10]"
   ]
  },
  {
   "cell_type": "code",
   "execution_count": 61,
   "id": "41fbfa27-83df-4758-87c6-0cff2de9a160",
   "metadata": {},
   "outputs": [],
   "source": [
    "# rownames(snp3) <- my_SNPs$psam$`#IID`"
   ]
  },
  {
   "cell_type": "markdown",
   "id": "2bedf35f-af22-4395-9768-748ad69c8137",
   "metadata": {},
   "source": [
    "filter by `maf`"
   ]
  },
  {
   "cell_type": "code",
   "execution_count": 62,
   "id": "4292e859-185f-4268-9eee-1f477be83d81",
   "metadata": {},
   "outputs": [],
   "source": [
    "# dim(snp3)"
   ]
  },
  {
   "cell_type": "code",
   "execution_count": 63,
   "id": "6cfdeb6b-37cb-49d7-9af7-384edf349c8b",
   "metadata": {},
   "outputs": [],
   "source": [
    "# verbose <- FALSE\n",
    "# if (maf > 0){\n",
    "#     mafs <- colMeans(snp3, na.rm = TRUE) / 2\n",
    "#     mafs_below_threshold <- mafs < maf\n",
    "#     if (any(mafs_below_threshold)) {\n",
    "#       if (verbose) {\n",
    "#         message(paste0(\"removing \", sum(mafs_below_threshold), \" SNP(s) with MAF < \",\n",
    "#                        maf, \" for position \", meth_site_pos,\n",
    "#                       \" with window size \", window_size, \".\\n\\n\"))\n",
    "#       }\n",
    "#       snp3 <- snp3[, !mafs_below_threshold, drop = FALSE] \n",
    "#     }\n",
    "# }"
   ]
  },
  {
   "cell_type": "code",
   "execution_count": 64,
   "id": "446bb612-0118-4ea0-9d48-e9e7d603a51a",
   "metadata": {},
   "outputs": [],
   "source": [
    "# dim(snp3)"
   ]
  },
  {
   "cell_type": "code",
   "execution_count": 65,
   "id": "7a35ed6c-92ba-44b3-840e-ffc621828872",
   "metadata": {},
   "outputs": [],
   "source": [
    "# map3 <- data.frame(POS = stringr::str_split_fixed(colnames(snp3), \":\", 3)[, 2])"
   ]
  },
  {
   "cell_type": "code",
   "execution_count": 66,
   "id": "ca549289-47f4-444b-b3e8-7d8a39c2e33f",
   "metadata": {},
   "outputs": [],
   "source": [
    "# snp3 <- t(snp3)"
   ]
  },
  {
   "cell_type": "code",
   "execution_count": 67,
   "id": "191b05e4-0107-4059-887e-bd3f2cafde0f",
   "metadata": {},
   "outputs": [],
   "source": [
    "# map3 <- data.frame(POS = stringr::str_split_fixed(rownames(snp3), \":\", 3)[, 2])"
   ]
  },
  {
   "cell_type": "code",
   "execution_count": 68,
   "id": "4e17a504-e98e-4d5e-bc59-3fd09faf3de8",
   "metadata": {},
   "outputs": [],
   "source": [
    "# dim(map3)"
   ]
  },
  {
   "cell_type": "markdown",
   "id": "268b409b-4571-4f32-8a6d-0104927e2d8a",
   "metadata": {},
   "source": []
  },
  {
   "cell_type": "markdown",
   "id": "d0fb3ea3-0f60-4a62-b787-66185fc8e792",
   "metadata": {},
   "source": [
    "### SNPs in reference population"
   ]
  },
  {
   "cell_type": "code",
   "execution_count": 122,
   "id": "59bfeedc-461b-4680-b269-f0dfd03f001d",
   "metadata": {},
   "outputs": [
    {
     "data": {
      "text/html": [
       "FALSE"
      ],
      "text/latex": [
       "FALSE"
      ],
      "text/markdown": [
       "FALSE"
      ],
      "text/plain": [
       "[1] FALSE"
      ]
     },
     "metadata": {},
     "output_type": "display_data"
    },
    {
     "data": {
      "text/html": [
       "<style>\n",
       ".list-inline {list-style: none; margin:0; padding: 0}\n",
       ".list-inline>li {display: inline-block}\n",
       ".list-inline>li:not(:last-child)::after {content: \"\\00b7\"; padding: 0 .5ex}\n",
       "</style>\n",
       "<ol class=list-inline><li>98</li><li>3</li></ol>\n"
      ],
      "text/latex": [
       "\\begin{enumerate*}\n",
       "\\item 98\n",
       "\\item 3\n",
       "\\end{enumerate*}\n"
      ],
      "text/markdown": [
       "1. 98\n",
       "2. 3\n",
       "\n",
       "\n"
      ],
      "text/plain": [
       "[1] 98  3"
      ]
     },
     "metadata": {},
     "output_type": "display_data"
    },
    {
     "data": {
      "text/html": [
       "<style>\n",
       ".list-inline {list-style: none; margin:0; padding: 0}\n",
       ".list-inline>li {display: inline-block}\n",
       ".list-inline>li:not(:last-child)::after {content: \"\\00b7\"; padding: 0 .5ex}\n",
       "</style>\n",
       "<ol class=list-inline><li>98</li><li>489</li></ol>\n"
      ],
      "text/latex": [
       "\\begin{enumerate*}\n",
       "\\item 98\n",
       "\\item 489\n",
       "\\end{enumerate*}\n"
      ],
      "text/markdown": [
       "1. 98\n",
       "2. 489\n",
       "\n",
       "\n"
      ],
      "text/plain": [
       "[1]  98 489"
      ]
     },
     "metadata": {},
     "output_type": "display_data"
    }
   ],
   "source": [
    "paths <- list(\n",
    "  pvar_path = paste0(\"/expanse/lustre/projects/jhu152/naglemi/mwas/gwas/ref_EUR_chr\", chr, \".pvar\"),\n",
    "  pgen_path = paste0(\"/expanse/lustre/projects/jhu152/naglemi/mwas/gwas/ref_EUR_chr\", chr, \".pgen\"),\n",
    "  psam_path = paste0(\"/expanse/lustre/projects/jhu152/naglemi/mwas/gwas/ref_EUR_chr\", chr, \".psam\")\n",
    ")\n",
    "\n",
    "my_SNPs <- loadSNPData(paths$pvar_path, paths$pgen_path, paths$psam_path)\n",
    "\n",
    "filter_snps\n",
    "\n",
    "#if(filter_snps == TRUE){\n",
    "    #snp_indices_of_interest <- which(my_SNPs$pvar_dt$POS >= min(sites_to_test_pos)-10000 & my_SNPs$pvar_dt$POS <= max(sites_to_test_pos) + 10000)\n",
    "#}\n",
    "\n",
    "snp_indices_of_interest <- which(my_SNPs$pvar_dt$POS >= 1963098 & my_SNPs$pvar_dt$POS <= 2009071)\n",
    "\n",
    "snp.1kg.eur3 <- pgenlibr::ReadList(my_SNPs$pgen,\n",
    "                        variant_subset = snp_indices_of_interest)\n",
    "colnames(snp.1kg.eur3) <- my_SNPs$pvar_dt$ID[snp_indices_of_interest]\n",
    "rownames(snp.1kg.eur3) <- my_SNPs$psam$`IID`\n",
    "\n",
    "map.1kg.eur3 <- my_SNPs$pvar_dt\n",
    "\n",
    "map.1kg.eur3 <- map.1kg.eur3[snp_indices_of_interest, ]\n",
    "\n",
    "snp.1kg.eur3 <- t(snp.1kg.eur3)\n",
    "\n",
    "dim(map.1kg.eur3)\n",
    "\n",
    "dim(snp.1kg.eur3)"
   ]
  },
  {
   "cell_type": "markdown",
   "id": "08ad6909-89c5-4aa3-a187-00f5a8f41997",
   "metadata": {},
   "source": [
    "### Compare reference population SNPs between Shizhong's old object and my new one"
   ]
  },
  {
   "cell_type": "code",
   "execution_count": null,
   "id": "9fe4a3a2-0fc0-49a4-b06e-e9597f16a5b3",
   "metadata": {},
   "outputs": [],
   "source": []
  },
  {
   "cell_type": "code",
   "execution_count": 123,
   "id": "a64a7aff-f9b1-4d94-8ca8-a26e02ac8842",
   "metadata": {},
   "outputs": [
    {
     "data": {
      "text/html": [
       "<table class=\"dataframe\">\n",
       "<caption>A data.frame: 10 × 10</caption>\n",
       "<thead>\n",
       "\t<tr><th></th><th scope=col>HG00096_HG00096</th><th scope=col>HG00097_HG00097</th><th scope=col>HG00099_HG00099</th><th scope=col>HG00101_HG00101</th><th scope=col>HG00102_HG00102</th><th scope=col>HG00103_HG00103</th><th scope=col>HG00105_HG00105</th><th scope=col>HG00107_HG00107</th><th scope=col>HG00108_HG00108</th><th scope=col>HG00109_HG00109</th></tr>\n",
       "\t<tr><th></th><th scope=col>&lt;dbl&gt;</th><th scope=col>&lt;dbl&gt;</th><th scope=col>&lt;dbl&gt;</th><th scope=col>&lt;dbl&gt;</th><th scope=col>&lt;dbl&gt;</th><th scope=col>&lt;dbl&gt;</th><th scope=col>&lt;dbl&gt;</th><th scope=col>&lt;dbl&gt;</th><th scope=col>&lt;dbl&gt;</th><th scope=col>&lt;dbl&gt;</th></tr>\n",
       "</thead>\n",
       "<tbody>\n",
       "\t<tr><th scope=row>rs11773627</th><td>2</td><td>1</td><td>2</td><td>1</td><td>1</td><td>2</td><td>2</td><td>2</td><td>2</td><td>2</td></tr>\n",
       "\t<tr><th scope=row>rs6972374</th><td>2</td><td>2</td><td>1</td><td>2</td><td>1</td><td>1</td><td>1</td><td>2</td><td>0</td><td>1</td></tr>\n",
       "\t<tr><th scope=row>rs12666575</th><td>0</td><td>1</td><td>1</td><td>1</td><td>2</td><td>1</td><td>1</td><td>0</td><td>2</td><td>1</td></tr>\n",
       "\t<tr><th scope=row>rs11766575</th><td>0</td><td>1</td><td>1</td><td>1</td><td>2</td><td>1</td><td>1</td><td>0</td><td>2</td><td>1</td></tr>\n",
       "\t<tr><th scope=row>rs4721264</th><td>0</td><td>1</td><td>1</td><td>1</td><td>1</td><td>1</td><td>1</td><td>0</td><td>2</td><td>1</td></tr>\n",
       "\t<tr><th scope=row>rs62442944</th><td>2</td><td>1</td><td>2</td><td>1</td><td>1</td><td>2</td><td>2</td><td>2</td><td>2</td><td>2</td></tr>\n",
       "\t<tr><th scope=row>rs12699547</th><td>2</td><td>2</td><td>1</td><td>2</td><td>2</td><td>1</td><td>1</td><td>2</td><td>0</td><td>1</td></tr>\n",
       "\t<tr><th scope=row>rs6461049</th><td>2</td><td>1</td><td>1</td><td>1</td><td>1</td><td>1</td><td>1</td><td>2</td><td>0</td><td>1</td></tr>\n",
       "\t<tr><th scope=row>rs6969587</th><td>2</td><td>2</td><td>1</td><td>2</td><td>2</td><td>1</td><td>1</td><td>2</td><td>0</td><td>1</td></tr>\n",
       "\t<tr><th scope=row>rs12699561</th><td>2</td><td>2</td><td>1</td><td>2</td><td>2</td><td>1</td><td>1</td><td>2</td><td>0</td><td>1</td></tr>\n",
       "</tbody>\n",
       "</table>\n"
      ],
      "text/latex": [
       "A data.frame: 10 × 10\n",
       "\\begin{tabular}{r|llllllllll}\n",
       "  & HG00096\\_HG00096 & HG00097\\_HG00097 & HG00099\\_HG00099 & HG00101\\_HG00101 & HG00102\\_HG00102 & HG00103\\_HG00103 & HG00105\\_HG00105 & HG00107\\_HG00107 & HG00108\\_HG00108 & HG00109\\_HG00109\\\\\n",
       "  & <dbl> & <dbl> & <dbl> & <dbl> & <dbl> & <dbl> & <dbl> & <dbl> & <dbl> & <dbl>\\\\\n",
       "\\hline\n",
       "\trs11773627 & 2 & 1 & 2 & 1 & 1 & 2 & 2 & 2 & 2 & 2\\\\\n",
       "\trs6972374 & 2 & 2 & 1 & 2 & 1 & 1 & 1 & 2 & 0 & 1\\\\\n",
       "\trs12666575 & 0 & 1 & 1 & 1 & 2 & 1 & 1 & 0 & 2 & 1\\\\\n",
       "\trs11766575 & 0 & 1 & 1 & 1 & 2 & 1 & 1 & 0 & 2 & 1\\\\\n",
       "\trs4721264 & 0 & 1 & 1 & 1 & 1 & 1 & 1 & 0 & 2 & 1\\\\\n",
       "\trs62442944 & 2 & 1 & 2 & 1 & 1 & 2 & 2 & 2 & 2 & 2\\\\\n",
       "\trs12699547 & 2 & 2 & 1 & 2 & 2 & 1 & 1 & 2 & 0 & 1\\\\\n",
       "\trs6461049 & 2 & 1 & 1 & 1 & 1 & 1 & 1 & 2 & 0 & 1\\\\\n",
       "\trs6969587 & 2 & 2 & 1 & 2 & 2 & 1 & 1 & 2 & 0 & 1\\\\\n",
       "\trs12699561 & 2 & 2 & 1 & 2 & 2 & 1 & 1 & 2 & 0 & 1\\\\\n",
       "\\end{tabular}\n"
      ],
      "text/markdown": [
       "\n",
       "A data.frame: 10 × 10\n",
       "\n",
       "| <!--/--> | HG00096_HG00096 &lt;dbl&gt; | HG00097_HG00097 &lt;dbl&gt; | HG00099_HG00099 &lt;dbl&gt; | HG00101_HG00101 &lt;dbl&gt; | HG00102_HG00102 &lt;dbl&gt; | HG00103_HG00103 &lt;dbl&gt; | HG00105_HG00105 &lt;dbl&gt; | HG00107_HG00107 &lt;dbl&gt; | HG00108_HG00108 &lt;dbl&gt; | HG00109_HG00109 &lt;dbl&gt; |\n",
       "|---|---|---|---|---|---|---|---|---|---|---|\n",
       "| rs11773627 | 2 | 1 | 2 | 1 | 1 | 2 | 2 | 2 | 2 | 2 |\n",
       "| rs6972374 | 2 | 2 | 1 | 2 | 1 | 1 | 1 | 2 | 0 | 1 |\n",
       "| rs12666575 | 0 | 1 | 1 | 1 | 2 | 1 | 1 | 0 | 2 | 1 |\n",
       "| rs11766575 | 0 | 1 | 1 | 1 | 2 | 1 | 1 | 0 | 2 | 1 |\n",
       "| rs4721264 | 0 | 1 | 1 | 1 | 1 | 1 | 1 | 0 | 2 | 1 |\n",
       "| rs62442944 | 2 | 1 | 2 | 1 | 1 | 2 | 2 | 2 | 2 | 2 |\n",
       "| rs12699547 | 2 | 2 | 1 | 2 | 2 | 1 | 1 | 2 | 0 | 1 |\n",
       "| rs6461049 | 2 | 1 | 1 | 1 | 1 | 1 | 1 | 2 | 0 | 1 |\n",
       "| rs6969587 | 2 | 2 | 1 | 2 | 2 | 1 | 1 | 2 | 0 | 1 |\n",
       "| rs12699561 | 2 | 2 | 1 | 2 | 2 | 1 | 1 | 2 | 0 | 1 |\n",
       "\n"
      ],
      "text/plain": [
       "           HG00096_HG00096 HG00097_HG00097 HG00099_HG00099 HG00101_HG00101\n",
       "rs11773627 2               1               2               1              \n",
       "rs6972374  2               2               1               2              \n",
       "rs12666575 0               1               1               1              \n",
       "rs11766575 0               1               1               1              \n",
       "rs4721264  0               1               1               1              \n",
       "rs62442944 2               1               2               1              \n",
       "rs12699547 2               2               1               2              \n",
       "rs6461049  2               1               1               1              \n",
       "rs6969587  2               2               1               2              \n",
       "rs12699561 2               2               1               2              \n",
       "           HG00102_HG00102 HG00103_HG00103 HG00105_HG00105 HG00107_HG00107\n",
       "rs11773627 1               2               2               2              \n",
       "rs6972374  1               1               1               2              \n",
       "rs12666575 2               1               1               0              \n",
       "rs11766575 2               1               1               0              \n",
       "rs4721264  1               1               1               0              \n",
       "rs62442944 1               2               2               2              \n",
       "rs12699547 2               1               1               2              \n",
       "rs6461049  1               1               1               2              \n",
       "rs6969587  2               1               1               2              \n",
       "rs12699561 2               1               1               2              \n",
       "           HG00108_HG00108 HG00109_HG00109\n",
       "rs11773627 2               2              \n",
       "rs6972374  0               1              \n",
       "rs12666575 2               1              \n",
       "rs11766575 2               1              \n",
       "rs4721264  2               1              \n",
       "rs62442944 2               2              \n",
       "rs12699547 0               1              \n",
       "rs6461049  0               1              \n",
       "rs6969587  0               1              \n",
       "rs12699561 0               1              "
      ]
     },
     "metadata": {},
     "output_type": "display_data"
    }
   ],
   "source": [
    "snp.1kg.eur2[1:10, 1:10]"
   ]
  },
  {
   "cell_type": "code",
   "execution_count": 124,
   "id": "7c6d5611-c90e-41b5-91aa-cddd1d09044d",
   "metadata": {},
   "outputs": [
    {
     "data": {
      "text/html": [
       "<style>\n",
       ".list-inline {list-style: none; margin:0; padding: 0}\n",
       ".list-inline>li {display: inline-block}\n",
       ".list-inline>li:not(:last-child)::after {content: \"\\00b7\"; padding: 0 .5ex}\n",
       "</style>\n",
       "<ol class=list-inline><li>56</li><li>489</li></ol>\n"
      ],
      "text/latex": [
       "\\begin{enumerate*}\n",
       "\\item 56\n",
       "\\item 489\n",
       "\\end{enumerate*}\n"
      ],
      "text/markdown": [
       "1. 56\n",
       "2. 489\n",
       "\n",
       "\n"
      ],
      "text/plain": [
       "[1]  56 489"
      ]
     },
     "metadata": {},
     "output_type": "display_data"
    }
   ],
   "source": [
    "dim(snp.1kg.eur2)"
   ]
  },
  {
   "cell_type": "code",
   "execution_count": 125,
   "id": "dfd0e144-f259-4601-bd4f-bd2effa0837f",
   "metadata": {
    "scrolled": true
   },
   "outputs": [
    {
     "data": {
      "text/html": [
       "<style>\n",
       ".list-inline {list-style: none; margin:0; padding: 0}\n",
       ".list-inline>li {display: inline-block}\n",
       ".list-inline>li:not(:last-child)::after {content: \"\\00b7\"; padding: 0 .5ex}\n",
       "</style>\n",
       "<ol class=list-inline><li>98</li><li>489</li></ol>\n"
      ],
      "text/latex": [
       "\\begin{enumerate*}\n",
       "\\item 98\n",
       "\\item 489\n",
       "\\end{enumerate*}\n"
      ],
      "text/markdown": [
       "1. 98\n",
       "2. 489\n",
       "\n",
       "\n"
      ],
      "text/plain": [
       "[1]  98 489"
      ]
     },
     "metadata": {},
     "output_type": "display_data"
    }
   ],
   "source": [
    "dim(snp.1kg.eur3)"
   ]
  },
  {
   "cell_type": "code",
   "execution_count": 126,
   "id": "1ad8a4db-9a45-463a-87ac-49f0ca0ce404",
   "metadata": {},
   "outputs": [
    {
     "data": {
      "text/html": [
       "<table class=\"dataframe\">\n",
       "<caption>A data.table: 6 × 3</caption>\n",
       "<thead>\n",
       "\t<tr><th scope=col>#CHROM</th><th scope=col>POS</th><th scope=col>ID</th></tr>\n",
       "\t<tr><th scope=col>&lt;int&gt;</th><th scope=col>&lt;int&gt;</th><th scope=col>&lt;chr&gt;</th></tr>\n",
       "</thead>\n",
       "<tbody>\n",
       "\t<tr><td>7</td><td>1963098</td><td>rs11773627</td></tr>\n",
       "\t<tr><td>7</td><td>1963408</td><td>rs6972374 </td></tr>\n",
       "\t<tr><td>7</td><td>1963697</td><td>rs7795303 </td></tr>\n",
       "\t<tr><td>7</td><td>1964758</td><td>rs6946691 </td></tr>\n",
       "\t<tr><td>7</td><td>1964786</td><td>rs12666575</td></tr>\n",
       "\t<tr><td>7</td><td>1964869</td><td>rs61467855</td></tr>\n",
       "</tbody>\n",
       "</table>\n"
      ],
      "text/latex": [
       "A data.table: 6 × 3\n",
       "\\begin{tabular}{lll}\n",
       " \\#CHROM & POS & ID\\\\\n",
       " <int> & <int> & <chr>\\\\\n",
       "\\hline\n",
       "\t 7 & 1963098 & rs11773627\\\\\n",
       "\t 7 & 1963408 & rs6972374 \\\\\n",
       "\t 7 & 1963697 & rs7795303 \\\\\n",
       "\t 7 & 1964758 & rs6946691 \\\\\n",
       "\t 7 & 1964786 & rs12666575\\\\\n",
       "\t 7 & 1964869 & rs61467855\\\\\n",
       "\\end{tabular}\n"
      ],
      "text/markdown": [
       "\n",
       "A data.table: 6 × 3\n",
       "\n",
       "| #CHROM &lt;int&gt; | POS &lt;int&gt; | ID &lt;chr&gt; |\n",
       "|---|---|---|\n",
       "| 7 | 1963098 | rs11773627 |\n",
       "| 7 | 1963408 | rs6972374  |\n",
       "| 7 | 1963697 | rs7795303  |\n",
       "| 7 | 1964758 | rs6946691  |\n",
       "| 7 | 1964786 | rs12666575 |\n",
       "| 7 | 1964869 | rs61467855 |\n",
       "\n"
      ],
      "text/plain": [
       "  #CHROM POS     ID        \n",
       "1 7      1963098 rs11773627\n",
       "2 7      1963408 rs6972374 \n",
       "3 7      1963697 rs7795303 \n",
       "4 7      1964758 rs6946691 \n",
       "5 7      1964786 rs12666575\n",
       "6 7      1964869 rs61467855"
      ]
     },
     "metadata": {},
     "output_type": "display_data"
    }
   ],
   "source": [
    "head(map.1kg.eur3)"
   ]
  },
  {
   "cell_type": "code",
   "execution_count": 127,
   "id": "1cfefb46-875e-477b-bcb3-aa5adcb6d22a",
   "metadata": {},
   "outputs": [
    {
     "data": {
      "text/html": [
       "1963098"
      ],
      "text/latex": [
       "1963098"
      ],
      "text/markdown": [
       "1963098"
      ],
      "text/plain": [
       "[1] 1963098"
      ]
     },
     "metadata": {},
     "output_type": "display_data"
    },
    {
     "data": {
      "text/html": [
       "2009071"
      ],
      "text/latex": [
       "2009071"
      ],
      "text/markdown": [
       "2009071"
      ],
      "text/plain": [
       "[1] 2009071"
      ]
     },
     "metadata": {},
     "output_type": "display_data"
    }
   ],
   "source": [
    "min(map.1kg.eur2$POS)\n",
    "max(map.1kg.eur2$POS)"
   ]
  },
  {
   "cell_type": "code",
   "execution_count": 128,
   "id": "9dfadb8e-4d57-4718-a218-53fe910bf0e5",
   "metadata": {},
   "outputs": [
    {
     "data": {
      "text/html": [
       "1963098"
      ],
      "text/latex": [
       "1963098"
      ],
      "text/markdown": [
       "1963098"
      ],
      "text/plain": [
       "[1] 1963098"
      ]
     },
     "metadata": {},
     "output_type": "display_data"
    },
    {
     "data": {
      "text/html": [
       "2009071"
      ],
      "text/latex": [
       "2009071"
      ],
      "text/markdown": [
       "2009071"
      ],
      "text/plain": [
       "[1] 2009071"
      ]
     },
     "metadata": {},
     "output_type": "display_data"
    }
   ],
   "source": [
    "min(map.1kg.eur3$POS)\n",
    "max(map.1kg.eur3$POS)"
   ]
  },
  {
   "cell_type": "markdown",
   "id": "c5e33723-aa27-4e14-9e01-a6b5e3fef739",
   "metadata": {},
   "source": [
    "Is it possible that order is the only problem? What happens if we change order to match?"
   ]
  },
  {
   "cell_type": "code",
   "execution_count": 129,
   "id": "98242ad4-bd69-4a07-ac71-22528f9b3101",
   "metadata": {},
   "outputs": [],
   "source": [
    "colnames(snp.1kg.eur3) <- paste0(colnames(snp.1kg.eur3), \"_\", colnames(snp.1kg.eur3))"
   ]
  },
  {
   "cell_type": "code",
   "execution_count": 130,
   "id": "6866a2a5-7b41-41bd-aa2e-5cb0731f4830",
   "metadata": {},
   "outputs": [
    {
     "data": {
      "text/html": [
       "TRUE"
      ],
      "text/latex": [
       "TRUE"
      ],
      "text/markdown": [
       "TRUE"
      ],
      "text/plain": [
       "[1] TRUE"
      ]
     },
     "metadata": {},
     "output_type": "display_data"
    }
   ],
   "source": [
    "all(colnames(snp.1kg.eur3) == colnames(snp.1kg.eur2))"
   ]
  },
  {
   "cell_type": "markdown",
   "id": "2571acd9-0a6e-4ca0-b821-612cb719ba62",
   "metadata": {},
   "source": [
    "I also want to compute MAF for all the SNPs.\n",
    "\n",
    "I want to know the MAF of all SNPs (rows) that appear in snp.1kg.eur3 but not snp.1kg.eur2"
   ]
  },
  {
   "cell_type": "code",
   "execution_count": 131,
   "id": "89df2802-b50f-46c0-b921-27f857e79f9f",
   "metadata": {},
   "outputs": [
    {
     "data": {
      "text/html": [
       "<style>\n",
       ".dl-inline {width: auto; margin:0; padding: 0}\n",
       ".dl-inline>dt, .dl-inline>dd {float: none; width: auto; display: inline-block}\n",
       ".dl-inline>dt::after {content: \":\\0020\"; padding-right: .5ex}\n",
       ".dl-inline>dt:not(:first-of-type) {padding-left: .5ex}\n",
       "</style><dl class=dl-inline><dt>rs7795303</dt><dd>0.0408997955010225</dd><dt>rs6946691</dt><dd>0.0408997955010225</dd><dt>rs61467855</dt><dd>0.0398773006134969</dd><dt>rs12669018</dt><dd>0.0296523517382413</dd><dt>rs1105641</dt><dd>0.0398773006134969</dd><dt>rs55669070</dt><dd>0.032719836400818</dd><dt>rs1105639</dt><dd>0.0408997955010225</dd><dt>rs10256644</dt><dd>0.0419222903885481</dd><dt>rs67059662</dt><dd>0.032719836400818</dd><dt>rs67271841</dt><dd>0.032719836400818</dd><dt>rs117106123</dt><dd>0.0296523517382413</dd><dt>rs55790414</dt><dd>0.032719836400818</dd><dt>rs1533828</dt><dd>0.0408997955010225</dd><dt>rs73047989</dt><dd>0.032719836400818</dd><dt>rs73047990</dt><dd>0.032719836400818</dd><dt>rs4721267</dt><dd>0.0408997955010225</dd><dt>rs56297951</dt><dd>0.0316973415132924</dd><dt>rs112351220</dt><dd>0.0316973415132924</dd><dt>rs145078370</dt><dd>0.0347648261758691</dd><dt>rs6964314</dt><dd>0.0398773006134969</dd><dt>rs73047997</dt><dd>0.0316973415132924</dd><dt>rs73047999</dt><dd>&lt;NA&gt;</dd><dt>rs113794170</dt><dd>0.0316973415132924</dd><dt>rs66979794</dt><dd>0.0388548057259714</dd><dt>rs73049803</dt><dd>0.0316973415132924</dd><dt>rs55790766</dt><dd>0.216768916155419</dd><dt>rs112054057</dt><dd>0.0316973415132924</dd><dt>rs73041780</dt><dd>0.0316973415132924</dd><dt>rs146040447</dt><dd>0.0316973415132924</dd><dt>rs56362140</dt><dd>0.0316973415132924</dd><dt>rs6953187</dt><dd>0.0337423312883436</dd><dt>rs55692801</dt><dd>0.0777096114519427</dd><dt>rs73043506</dt><dd>0.0398773006134969</dd><dt>rs73043509</dt><dd>0.0398773006134969</dd><dt>rs79206451</dt><dd>0.0296523517382413</dd><dt>rs73043511</dt><dd>0.0398773006134969</dd><dt>rs73043514</dt><dd>0.0398773006134969</dd><dt>rs139562583</dt><dd>0.0173824130879346</dd><dt>rs73043526</dt><dd>0.0316973415132924</dd><dt>rs55828714</dt><dd>0.0316973415132924</dd><dt>rs113724348</dt><dd>0.0347648261758691</dd><dt>rs117302256</dt><dd>0.0173824130879346</dd></dl>\n"
      ],
      "text/latex": [
       "\\begin{description*}\n",
       "\\item[rs7795303] 0.0408997955010225\n",
       "\\item[rs6946691] 0.0408997955010225\n",
       "\\item[rs61467855] 0.0398773006134969\n",
       "\\item[rs12669018] 0.0296523517382413\n",
       "\\item[rs1105641] 0.0398773006134969\n",
       "\\item[rs55669070] 0.032719836400818\n",
       "\\item[rs1105639] 0.0408997955010225\n",
       "\\item[rs10256644] 0.0419222903885481\n",
       "\\item[rs67059662] 0.032719836400818\n",
       "\\item[rs67271841] 0.032719836400818\n",
       "\\item[rs117106123] 0.0296523517382413\n",
       "\\item[rs55790414] 0.032719836400818\n",
       "\\item[rs1533828] 0.0408997955010225\n",
       "\\item[rs73047989] 0.032719836400818\n",
       "\\item[rs73047990] 0.032719836400818\n",
       "\\item[rs4721267] 0.0408997955010225\n",
       "\\item[rs56297951] 0.0316973415132924\n",
       "\\item[rs112351220] 0.0316973415132924\n",
       "\\item[rs145078370] 0.0347648261758691\n",
       "\\item[rs6964314] 0.0398773006134969\n",
       "\\item[rs73047997] 0.0316973415132924\n",
       "\\item[rs73047999] <NA>\n",
       "\\item[rs113794170] 0.0316973415132924\n",
       "\\item[rs66979794] 0.0388548057259714\n",
       "\\item[rs73049803] 0.0316973415132924\n",
       "\\item[rs55790766] 0.216768916155419\n",
       "\\item[rs112054057] 0.0316973415132924\n",
       "\\item[rs73041780] 0.0316973415132924\n",
       "\\item[rs146040447] 0.0316973415132924\n",
       "\\item[rs56362140] 0.0316973415132924\n",
       "\\item[rs6953187] 0.0337423312883436\n",
       "\\item[rs55692801] 0.0777096114519427\n",
       "\\item[rs73043506] 0.0398773006134969\n",
       "\\item[rs73043509] 0.0398773006134969\n",
       "\\item[rs79206451] 0.0296523517382413\n",
       "\\item[rs73043511] 0.0398773006134969\n",
       "\\item[rs73043514] 0.0398773006134969\n",
       "\\item[rs139562583] 0.0173824130879346\n",
       "\\item[rs73043526] 0.0316973415132924\n",
       "\\item[rs55828714] 0.0316973415132924\n",
       "\\item[rs113724348] 0.0347648261758691\n",
       "\\item[rs117302256] 0.0173824130879346\n",
       "\\end{description*}\n"
      ],
      "text/markdown": [
       "rs7795303\n",
       ":   0.0408997955010225rs6946691\n",
       ":   0.0408997955010225rs61467855\n",
       ":   0.0398773006134969rs12669018\n",
       ":   0.0296523517382413rs1105641\n",
       ":   0.0398773006134969rs55669070\n",
       ":   0.032719836400818rs1105639\n",
       ":   0.0408997955010225rs10256644\n",
       ":   0.0419222903885481rs67059662\n",
       ":   0.032719836400818rs67271841\n",
       ":   0.032719836400818rs117106123\n",
       ":   0.0296523517382413rs55790414\n",
       ":   0.032719836400818rs1533828\n",
       ":   0.0408997955010225rs73047989\n",
       ":   0.032719836400818rs73047990\n",
       ":   0.032719836400818rs4721267\n",
       ":   0.0408997955010225rs56297951\n",
       ":   0.0316973415132924rs112351220\n",
       ":   0.0316973415132924rs145078370\n",
       ":   0.0347648261758691rs6964314\n",
       ":   0.0398773006134969rs73047997\n",
       ":   0.0316973415132924rs73047999\n",
       ":   &lt;NA&gt;rs113794170\n",
       ":   0.0316973415132924rs66979794\n",
       ":   0.0388548057259714rs73049803\n",
       ":   0.0316973415132924rs55790766\n",
       ":   0.216768916155419rs112054057\n",
       ":   0.0316973415132924rs73041780\n",
       ":   0.0316973415132924rs146040447\n",
       ":   0.0316973415132924rs56362140\n",
       ":   0.0316973415132924rs6953187\n",
       ":   0.0337423312883436rs55692801\n",
       ":   0.0777096114519427rs73043506\n",
       ":   0.0398773006134969rs73043509\n",
       ":   0.0398773006134969rs79206451\n",
       ":   0.0296523517382413rs73043511\n",
       ":   0.0398773006134969rs73043514\n",
       ":   0.0398773006134969rs139562583\n",
       ":   0.0173824130879346rs73043526\n",
       ":   0.0316973415132924rs55828714\n",
       ":   0.0316973415132924rs113724348\n",
       ":   0.0347648261758691rs117302256\n",
       ":   0.0173824130879346\n",
       "\n"
      ],
      "text/plain": [
       "  rs7795303   rs6946691  rs61467855  rs12669018   rs1105641  rs55669070 \n",
       " 0.04089980  0.04089980  0.03987730  0.02965235  0.03987730  0.03271984 \n",
       "  rs1105639  rs10256644  rs67059662  rs67271841 rs117106123  rs55790414 \n",
       " 0.04089980  0.04192229  0.03271984  0.03271984  0.02965235  0.03271984 \n",
       "  rs1533828  rs73047989  rs73047990   rs4721267  rs56297951 rs112351220 \n",
       " 0.04089980  0.03271984  0.03271984  0.04089980  0.03169734  0.03169734 \n",
       "rs145078370   rs6964314  rs73047997  rs73047999 rs113794170  rs66979794 \n",
       " 0.03476483  0.03987730  0.03169734          NA  0.03169734  0.03885481 \n",
       " rs73049803  rs55790766 rs112054057  rs73041780 rs146040447  rs56362140 \n",
       " 0.03169734  0.21676892  0.03169734  0.03169734  0.03169734  0.03169734 \n",
       "  rs6953187  rs55692801  rs73043506  rs73043509  rs79206451  rs73043511 \n",
       " 0.03374233  0.07770961  0.03987730  0.03987730  0.02965235  0.03987730 \n",
       " rs73043514 rs139562583  rs73043526  rs55828714 rs113724348 rs117302256 \n",
       " 0.03987730  0.01738241  0.03169734  0.03169734  0.03476483  0.01738241 "
      ]
     },
     "metadata": {},
     "output_type": "display_data"
    }
   ],
   "source": [
    "# Compute MAF for all SNPs\n",
    "maf <- rowMeans(snp.1kg.eur3) / 2\n",
    "\n",
    "# Find SNPs in snp.1kg.eur3 but not in snp.1kg.eur2\n",
    "snp_diff <- setdiff(rownames(snp.1kg.eur3), rownames(snp.1kg.eur2))\n",
    "\n",
    "# MAF of SNPs that appear in snp.1kg.eur3 but not snp.1kg.eur2\n",
    "maf_diff <- maf[snp_diff]\n",
    "\n",
    "maf_diff"
   ]
  },
  {
   "cell_type": "markdown",
   "id": "189c7fa4-718f-4615-9458-d66e04b1079b",
   "metadata": {},
   "source": [
    "What's the minimum maf for snp.1kg.eur2"
   ]
  },
  {
   "cell_type": "code",
   "execution_count": 132,
   "id": "34bf4b5b-e1ac-4f6a-adf3-7e12a1878951",
   "metadata": {},
   "outputs": [
    {
     "data": {
      "text/html": [
       "0.39161554192229"
      ],
      "text/latex": [
       "0.39161554192229"
      ],
      "text/markdown": [
       "0.39161554192229"
      ],
      "text/plain": [
       "[1] 0.3916155"
      ]
     },
     "metadata": {},
     "output_type": "display_data"
    }
   ],
   "source": [
    "# Compute MAF for all SNPs in snp.1kg.eur2\n",
    "maf_eur2 <- rowMeans(snp.1kg.eur2) / 2\n",
    "\n",
    "# Find the minimum MAF for snp.1kg.eur2\n",
    "min_maf_eur2 <- min(maf_eur2)\n",
    "\n",
    "min_maf_eur2"
   ]
  },
  {
   "cell_type": "code",
   "execution_count": 133,
   "id": "c61e1d61-907d-4bd1-aaa5-c3c5bba48e4c",
   "metadata": {},
   "outputs": [],
   "source": [
    "# Subset snp.1kg.eur3 to include SNPs found in snp.1kg.eur2\n",
    "snp.1kg.eur3 <- snp.1kg.eur3[rownames(snp.1kg.eur3) %in% rownames(snp.1kg.eur2), ]"
   ]
  },
  {
   "cell_type": "code",
   "execution_count": 134,
   "id": "ac4bee91-df06-49e6-a7b6-9fc42824c1a1",
   "metadata": {},
   "outputs": [
    {
     "data": {
      "text/html": [
       "<style>\n",
       ".list-inline {list-style: none; margin:0; padding: 0}\n",
       ".list-inline>li {display: inline-block}\n",
       ".list-inline>li:not(:last-child)::after {content: \"\\00b7\"; padding: 0 .5ex}\n",
       "</style>\n",
       "<ol class=list-inline><li>56</li><li>489</li></ol>\n"
      ],
      "text/latex": [
       "\\begin{enumerate*}\n",
       "\\item 56\n",
       "\\item 489\n",
       "\\end{enumerate*}\n"
      ],
      "text/markdown": [
       "1. 56\n",
       "2. 489\n",
       "\n",
       "\n"
      ],
      "text/plain": [
       "[1]  56 489"
      ]
     },
     "metadata": {},
     "output_type": "display_data"
    }
   ],
   "source": [
    "dim(snp.1kg.eur3)"
   ]
  },
  {
   "cell_type": "code",
   "execution_count": 135,
   "id": "000aba08-f70b-4316-80dc-c9373db50892",
   "metadata": {},
   "outputs": [
    {
     "data": {
      "text/html": [
       "<style>\n",
       ".list-inline {list-style: none; margin:0; padding: 0}\n",
       ".list-inline>li {display: inline-block}\n",
       ".list-inline>li:not(:last-child)::after {content: \"\\00b7\"; padding: 0 .5ex}\n",
       "</style>\n",
       "<ol class=list-inline><li>56</li><li>489</li></ol>\n"
      ],
      "text/latex": [
       "\\begin{enumerate*}\n",
       "\\item 56\n",
       "\\item 489\n",
       "\\end{enumerate*}\n"
      ],
      "text/markdown": [
       "1. 56\n",
       "2. 489\n",
       "\n",
       "\n"
      ],
      "text/plain": [
       "[1]  56 489"
      ]
     },
     "metadata": {},
     "output_type": "display_data"
    }
   ],
   "source": [
    "dim(snp.1kg.eur2)"
   ]
  },
  {
   "cell_type": "code",
   "execution_count": 136,
   "id": "297efe3e-9e51-486e-b912-13d6ffa08ab6",
   "metadata": {},
   "outputs": [],
   "source": [
    "# Reorder rows of snp.1kg.eur3 to match snp.1kg.eur2\n",
    "snp.1kg.eur3 <- snp.1kg.eur3[rownames(snp.1kg.eur2), ]"
   ]
  },
  {
   "cell_type": "code",
   "execution_count": 137,
   "id": "9e28147b-91c0-4abd-9c77-57884ecaa817",
   "metadata": {},
   "outputs": [
    {
     "data": {
      "text/html": [
       "<table class=\"dataframe\">\n",
       "<caption>A matrix: 10 × 10 of type dbl</caption>\n",
       "<thead>\n",
       "\t<tr><th></th><th scope=col>HG00096_HG00096</th><th scope=col>HG00097_HG00097</th><th scope=col>HG00099_HG00099</th><th scope=col>HG00101_HG00101</th><th scope=col>HG00102_HG00102</th><th scope=col>HG00103_HG00103</th><th scope=col>HG00105_HG00105</th><th scope=col>HG00107_HG00107</th><th scope=col>HG00108_HG00108</th><th scope=col>HG00109_HG00109</th></tr>\n",
       "</thead>\n",
       "<tbody>\n",
       "\t<tr><th scope=row>rs11773627</th><td>0</td><td>1</td><td>0</td><td>1</td><td>1</td><td>0</td><td>0</td><td>0</td><td>0</td><td>0</td></tr>\n",
       "\t<tr><th scope=row>rs6972374</th><td>0</td><td>0</td><td>1</td><td>0</td><td>1</td><td>1</td><td>1</td><td>0</td><td>2</td><td>1</td></tr>\n",
       "\t<tr><th scope=row>rs12666575</th><td>2</td><td>1</td><td>1</td><td>1</td><td>0</td><td>1</td><td>1</td><td>2</td><td>0</td><td>1</td></tr>\n",
       "\t<tr><th scope=row>rs11766575</th><td>2</td><td>1</td><td>1</td><td>1</td><td>0</td><td>1</td><td>1</td><td>2</td><td>0</td><td>1</td></tr>\n",
       "\t<tr><th scope=row>rs4721264</th><td>2</td><td>1</td><td>1</td><td>1</td><td>1</td><td>1</td><td>1</td><td>2</td><td>0</td><td>1</td></tr>\n",
       "\t<tr><th scope=row>rs62442944</th><td>0</td><td>1</td><td>0</td><td>1</td><td>1</td><td>0</td><td>0</td><td>0</td><td>0</td><td>0</td></tr>\n",
       "\t<tr><th scope=row>rs12699547</th><td>0</td><td>0</td><td>1</td><td>0</td><td>0</td><td>1</td><td>1</td><td>0</td><td>2</td><td>1</td></tr>\n",
       "\t<tr><th scope=row>rs6461049</th><td>2</td><td>1</td><td>1</td><td>1</td><td>1</td><td>1</td><td>1</td><td>2</td><td>0</td><td>1</td></tr>\n",
       "\t<tr><th scope=row>rs6969587</th><td>0</td><td>0</td><td>1</td><td>0</td><td>0</td><td>1</td><td>1</td><td>0</td><td>2</td><td>1</td></tr>\n",
       "\t<tr><th scope=row>rs12699561</th><td>0</td><td>0</td><td>1</td><td>0</td><td>0</td><td>1</td><td>1</td><td>0</td><td>2</td><td>1</td></tr>\n",
       "</tbody>\n",
       "</table>\n"
      ],
      "text/latex": [
       "A matrix: 10 × 10 of type dbl\n",
       "\\begin{tabular}{r|llllllllll}\n",
       "  & HG00096\\_HG00096 & HG00097\\_HG00097 & HG00099\\_HG00099 & HG00101\\_HG00101 & HG00102\\_HG00102 & HG00103\\_HG00103 & HG00105\\_HG00105 & HG00107\\_HG00107 & HG00108\\_HG00108 & HG00109\\_HG00109\\\\\n",
       "\\hline\n",
       "\trs11773627 & 0 & 1 & 0 & 1 & 1 & 0 & 0 & 0 & 0 & 0\\\\\n",
       "\trs6972374 & 0 & 0 & 1 & 0 & 1 & 1 & 1 & 0 & 2 & 1\\\\\n",
       "\trs12666575 & 2 & 1 & 1 & 1 & 0 & 1 & 1 & 2 & 0 & 1\\\\\n",
       "\trs11766575 & 2 & 1 & 1 & 1 & 0 & 1 & 1 & 2 & 0 & 1\\\\\n",
       "\trs4721264 & 2 & 1 & 1 & 1 & 1 & 1 & 1 & 2 & 0 & 1\\\\\n",
       "\trs62442944 & 0 & 1 & 0 & 1 & 1 & 0 & 0 & 0 & 0 & 0\\\\\n",
       "\trs12699547 & 0 & 0 & 1 & 0 & 0 & 1 & 1 & 0 & 2 & 1\\\\\n",
       "\trs6461049 & 2 & 1 & 1 & 1 & 1 & 1 & 1 & 2 & 0 & 1\\\\\n",
       "\trs6969587 & 0 & 0 & 1 & 0 & 0 & 1 & 1 & 0 & 2 & 1\\\\\n",
       "\trs12699561 & 0 & 0 & 1 & 0 & 0 & 1 & 1 & 0 & 2 & 1\\\\\n",
       "\\end{tabular}\n"
      ],
      "text/markdown": [
       "\n",
       "A matrix: 10 × 10 of type dbl\n",
       "\n",
       "| <!--/--> | HG00096_HG00096 | HG00097_HG00097 | HG00099_HG00099 | HG00101_HG00101 | HG00102_HG00102 | HG00103_HG00103 | HG00105_HG00105 | HG00107_HG00107 | HG00108_HG00108 | HG00109_HG00109 |\n",
       "|---|---|---|---|---|---|---|---|---|---|---|\n",
       "| rs11773627 | 0 | 1 | 0 | 1 | 1 | 0 | 0 | 0 | 0 | 0 |\n",
       "| rs6972374 | 0 | 0 | 1 | 0 | 1 | 1 | 1 | 0 | 2 | 1 |\n",
       "| rs12666575 | 2 | 1 | 1 | 1 | 0 | 1 | 1 | 2 | 0 | 1 |\n",
       "| rs11766575 | 2 | 1 | 1 | 1 | 0 | 1 | 1 | 2 | 0 | 1 |\n",
       "| rs4721264 | 2 | 1 | 1 | 1 | 1 | 1 | 1 | 2 | 0 | 1 |\n",
       "| rs62442944 | 0 | 1 | 0 | 1 | 1 | 0 | 0 | 0 | 0 | 0 |\n",
       "| rs12699547 | 0 | 0 | 1 | 0 | 0 | 1 | 1 | 0 | 2 | 1 |\n",
       "| rs6461049 | 2 | 1 | 1 | 1 | 1 | 1 | 1 | 2 | 0 | 1 |\n",
       "| rs6969587 | 0 | 0 | 1 | 0 | 0 | 1 | 1 | 0 | 2 | 1 |\n",
       "| rs12699561 | 0 | 0 | 1 | 0 | 0 | 1 | 1 | 0 | 2 | 1 |\n",
       "\n"
      ],
      "text/plain": [
       "           HG00096_HG00096 HG00097_HG00097 HG00099_HG00099 HG00101_HG00101\n",
       "rs11773627 0               1               0               1              \n",
       "rs6972374  0               0               1               0              \n",
       "rs12666575 2               1               1               1              \n",
       "rs11766575 2               1               1               1              \n",
       "rs4721264  2               1               1               1              \n",
       "rs62442944 0               1               0               1              \n",
       "rs12699547 0               0               1               0              \n",
       "rs6461049  2               1               1               1              \n",
       "rs6969587  0               0               1               0              \n",
       "rs12699561 0               0               1               0              \n",
       "           HG00102_HG00102 HG00103_HG00103 HG00105_HG00105 HG00107_HG00107\n",
       "rs11773627 1               0               0               0              \n",
       "rs6972374  1               1               1               0              \n",
       "rs12666575 0               1               1               2              \n",
       "rs11766575 0               1               1               2              \n",
       "rs4721264  1               1               1               2              \n",
       "rs62442944 1               0               0               0              \n",
       "rs12699547 0               1               1               0              \n",
       "rs6461049  1               1               1               2              \n",
       "rs6969587  0               1               1               0              \n",
       "rs12699561 0               1               1               0              \n",
       "           HG00108_HG00108 HG00109_HG00109\n",
       "rs11773627 0               0              \n",
       "rs6972374  2               1              \n",
       "rs12666575 0               1              \n",
       "rs11766575 0               1              \n",
       "rs4721264  0               1              \n",
       "rs62442944 0               0              \n",
       "rs12699547 2               1              \n",
       "rs6461049  0               1              \n",
       "rs6969587  2               1              \n",
       "rs12699561 2               1              "
      ]
     },
     "metadata": {},
     "output_type": "display_data"
    }
   ],
   "source": [
    "snp.1kg.eur3[1:10, 1:10]"
   ]
  },
  {
   "cell_type": "code",
   "execution_count": 138,
   "id": "88bcbfe1-1499-4995-a848-5e3d6f116539",
   "metadata": {},
   "outputs": [
    {
     "data": {
      "text/html": [
       "<table class=\"dataframe\">\n",
       "<caption>A data.frame: 10 × 10</caption>\n",
       "<thead>\n",
       "\t<tr><th></th><th scope=col>HG00096_HG00096</th><th scope=col>HG00097_HG00097</th><th scope=col>HG00099_HG00099</th><th scope=col>HG00101_HG00101</th><th scope=col>HG00102_HG00102</th><th scope=col>HG00103_HG00103</th><th scope=col>HG00105_HG00105</th><th scope=col>HG00107_HG00107</th><th scope=col>HG00108_HG00108</th><th scope=col>HG00109_HG00109</th></tr>\n",
       "\t<tr><th></th><th scope=col>&lt;dbl&gt;</th><th scope=col>&lt;dbl&gt;</th><th scope=col>&lt;dbl&gt;</th><th scope=col>&lt;dbl&gt;</th><th scope=col>&lt;dbl&gt;</th><th scope=col>&lt;dbl&gt;</th><th scope=col>&lt;dbl&gt;</th><th scope=col>&lt;dbl&gt;</th><th scope=col>&lt;dbl&gt;</th><th scope=col>&lt;dbl&gt;</th></tr>\n",
       "</thead>\n",
       "<tbody>\n",
       "\t<tr><th scope=row>rs11773627</th><td>2</td><td>1</td><td>2</td><td>1</td><td>1</td><td>2</td><td>2</td><td>2</td><td>2</td><td>2</td></tr>\n",
       "\t<tr><th scope=row>rs6972374</th><td>2</td><td>2</td><td>1</td><td>2</td><td>1</td><td>1</td><td>1</td><td>2</td><td>0</td><td>1</td></tr>\n",
       "\t<tr><th scope=row>rs12666575</th><td>0</td><td>1</td><td>1</td><td>1</td><td>2</td><td>1</td><td>1</td><td>0</td><td>2</td><td>1</td></tr>\n",
       "\t<tr><th scope=row>rs11766575</th><td>0</td><td>1</td><td>1</td><td>1</td><td>2</td><td>1</td><td>1</td><td>0</td><td>2</td><td>1</td></tr>\n",
       "\t<tr><th scope=row>rs4721264</th><td>0</td><td>1</td><td>1</td><td>1</td><td>1</td><td>1</td><td>1</td><td>0</td><td>2</td><td>1</td></tr>\n",
       "\t<tr><th scope=row>rs62442944</th><td>2</td><td>1</td><td>2</td><td>1</td><td>1</td><td>2</td><td>2</td><td>2</td><td>2</td><td>2</td></tr>\n",
       "\t<tr><th scope=row>rs12699547</th><td>2</td><td>2</td><td>1</td><td>2</td><td>2</td><td>1</td><td>1</td><td>2</td><td>0</td><td>1</td></tr>\n",
       "\t<tr><th scope=row>rs6461049</th><td>2</td><td>1</td><td>1</td><td>1</td><td>1</td><td>1</td><td>1</td><td>2</td><td>0</td><td>1</td></tr>\n",
       "\t<tr><th scope=row>rs6969587</th><td>2</td><td>2</td><td>1</td><td>2</td><td>2</td><td>1</td><td>1</td><td>2</td><td>0</td><td>1</td></tr>\n",
       "\t<tr><th scope=row>rs12699561</th><td>2</td><td>2</td><td>1</td><td>2</td><td>2</td><td>1</td><td>1</td><td>2</td><td>0</td><td>1</td></tr>\n",
       "</tbody>\n",
       "</table>\n"
      ],
      "text/latex": [
       "A data.frame: 10 × 10\n",
       "\\begin{tabular}{r|llllllllll}\n",
       "  & HG00096\\_HG00096 & HG00097\\_HG00097 & HG00099\\_HG00099 & HG00101\\_HG00101 & HG00102\\_HG00102 & HG00103\\_HG00103 & HG00105\\_HG00105 & HG00107\\_HG00107 & HG00108\\_HG00108 & HG00109\\_HG00109\\\\\n",
       "  & <dbl> & <dbl> & <dbl> & <dbl> & <dbl> & <dbl> & <dbl> & <dbl> & <dbl> & <dbl>\\\\\n",
       "\\hline\n",
       "\trs11773627 & 2 & 1 & 2 & 1 & 1 & 2 & 2 & 2 & 2 & 2\\\\\n",
       "\trs6972374 & 2 & 2 & 1 & 2 & 1 & 1 & 1 & 2 & 0 & 1\\\\\n",
       "\trs12666575 & 0 & 1 & 1 & 1 & 2 & 1 & 1 & 0 & 2 & 1\\\\\n",
       "\trs11766575 & 0 & 1 & 1 & 1 & 2 & 1 & 1 & 0 & 2 & 1\\\\\n",
       "\trs4721264 & 0 & 1 & 1 & 1 & 1 & 1 & 1 & 0 & 2 & 1\\\\\n",
       "\trs62442944 & 2 & 1 & 2 & 1 & 1 & 2 & 2 & 2 & 2 & 2\\\\\n",
       "\trs12699547 & 2 & 2 & 1 & 2 & 2 & 1 & 1 & 2 & 0 & 1\\\\\n",
       "\trs6461049 & 2 & 1 & 1 & 1 & 1 & 1 & 1 & 2 & 0 & 1\\\\\n",
       "\trs6969587 & 2 & 2 & 1 & 2 & 2 & 1 & 1 & 2 & 0 & 1\\\\\n",
       "\trs12699561 & 2 & 2 & 1 & 2 & 2 & 1 & 1 & 2 & 0 & 1\\\\\n",
       "\\end{tabular}\n"
      ],
      "text/markdown": [
       "\n",
       "A data.frame: 10 × 10\n",
       "\n",
       "| <!--/--> | HG00096_HG00096 &lt;dbl&gt; | HG00097_HG00097 &lt;dbl&gt; | HG00099_HG00099 &lt;dbl&gt; | HG00101_HG00101 &lt;dbl&gt; | HG00102_HG00102 &lt;dbl&gt; | HG00103_HG00103 &lt;dbl&gt; | HG00105_HG00105 &lt;dbl&gt; | HG00107_HG00107 &lt;dbl&gt; | HG00108_HG00108 &lt;dbl&gt; | HG00109_HG00109 &lt;dbl&gt; |\n",
       "|---|---|---|---|---|---|---|---|---|---|---|\n",
       "| rs11773627 | 2 | 1 | 2 | 1 | 1 | 2 | 2 | 2 | 2 | 2 |\n",
       "| rs6972374 | 2 | 2 | 1 | 2 | 1 | 1 | 1 | 2 | 0 | 1 |\n",
       "| rs12666575 | 0 | 1 | 1 | 1 | 2 | 1 | 1 | 0 | 2 | 1 |\n",
       "| rs11766575 | 0 | 1 | 1 | 1 | 2 | 1 | 1 | 0 | 2 | 1 |\n",
       "| rs4721264 | 0 | 1 | 1 | 1 | 1 | 1 | 1 | 0 | 2 | 1 |\n",
       "| rs62442944 | 2 | 1 | 2 | 1 | 1 | 2 | 2 | 2 | 2 | 2 |\n",
       "| rs12699547 | 2 | 2 | 1 | 2 | 2 | 1 | 1 | 2 | 0 | 1 |\n",
       "| rs6461049 | 2 | 1 | 1 | 1 | 1 | 1 | 1 | 2 | 0 | 1 |\n",
       "| rs6969587 | 2 | 2 | 1 | 2 | 2 | 1 | 1 | 2 | 0 | 1 |\n",
       "| rs12699561 | 2 | 2 | 1 | 2 | 2 | 1 | 1 | 2 | 0 | 1 |\n",
       "\n"
      ],
      "text/plain": [
       "           HG00096_HG00096 HG00097_HG00097 HG00099_HG00099 HG00101_HG00101\n",
       "rs11773627 2               1               2               1              \n",
       "rs6972374  2               2               1               2              \n",
       "rs12666575 0               1               1               1              \n",
       "rs11766575 0               1               1               1              \n",
       "rs4721264  0               1               1               1              \n",
       "rs62442944 2               1               2               1              \n",
       "rs12699547 2               2               1               2              \n",
       "rs6461049  2               1               1               1              \n",
       "rs6969587  2               2               1               2              \n",
       "rs12699561 2               2               1               2              \n",
       "           HG00102_HG00102 HG00103_HG00103 HG00105_HG00105 HG00107_HG00107\n",
       "rs11773627 1               2               2               2              \n",
       "rs6972374  1               1               1               2              \n",
       "rs12666575 2               1               1               0              \n",
       "rs11766575 2               1               1               0              \n",
       "rs4721264  1               1               1               0              \n",
       "rs62442944 1               2               2               2              \n",
       "rs12699547 2               1               1               2              \n",
       "rs6461049  1               1               1               2              \n",
       "rs6969587  2               1               1               2              \n",
       "rs12699561 2               1               1               2              \n",
       "           HG00108_HG00108 HG00109_HG00109\n",
       "rs11773627 2               2              \n",
       "rs6972374  0               1              \n",
       "rs12666575 2               1              \n",
       "rs11766575 2               1              \n",
       "rs4721264  2               1              \n",
       "rs62442944 2               2              \n",
       "rs12699547 0               1              \n",
       "rs6461049  0               1              \n",
       "rs6969587  0               1              \n",
       "rs12699561 0               1              "
      ]
     },
     "metadata": {},
     "output_type": "display_data"
    }
   ],
   "source": [
    "snp.1kg.eur2[1:10, 1:10]"
   ]
  },
  {
   "cell_type": "code",
   "execution_count": 139,
   "id": "1cae3c92-66fc-40f1-bbdf-18ffb3a8598e",
   "metadata": {},
   "outputs": [
    {
     "data": {
      "text/html": [
       "<style>\n",
       ".list-inline {list-style: none; margin:0; padding: 0}\n",
       ".list-inline>li {display: inline-block}\n",
       ".list-inline>li:not(:last-child)::after {content: \"\\00b7\"; padding: 0 .5ex}\n",
       "</style>\n",
       "<ol class=list-inline><li>56</li><li>489</li></ol>\n"
      ],
      "text/latex": [
       "\\begin{enumerate*}\n",
       "\\item 56\n",
       "\\item 489\n",
       "\\end{enumerate*}\n"
      ],
      "text/markdown": [
       "1. 56\n",
       "2. 489\n",
       "\n",
       "\n"
      ],
      "text/plain": [
       "[1]  56 489"
      ]
     },
     "metadata": {},
     "output_type": "display_data"
    }
   ],
   "source": [
    "dim(snp.1kg.eur2)"
   ]
  },
  {
   "cell_type": "code",
   "execution_count": 140,
   "id": "169d37fb-6f2f-4cb5-bd03-13d29ba1fade",
   "metadata": {},
   "outputs": [
    {
     "data": {
      "text/html": [
       "<style>\n",
       ".list-inline {list-style: none; margin:0; padding: 0}\n",
       ".list-inline>li {display: inline-block}\n",
       ".list-inline>li:not(:last-child)::after {content: \"\\00b7\"; padding: 0 .5ex}\n",
       "</style>\n",
       "<ol class=list-inline><li>56</li><li>489</li></ol>\n"
      ],
      "text/latex": [
       "\\begin{enumerate*}\n",
       "\\item 56\n",
       "\\item 489\n",
       "\\end{enumerate*}\n"
      ],
      "text/markdown": [
       "1. 56\n",
       "2. 489\n",
       "\n",
       "\n"
      ],
      "text/plain": [
       "[1]  56 489"
      ]
     },
     "metadata": {},
     "output_type": "display_data"
    }
   ],
   "source": [
    "dim(snp.1kg.eur3)"
   ]
  },
  {
   "cell_type": "code",
   "execution_count": 141,
   "id": "d6b280bf-5954-49b0-98de-82ab6f4e9460",
   "metadata": {},
   "outputs": [],
   "source": [
    "snp.1kg.eur3 <- 2 - snp.1kg.eur3"
   ]
  },
  {
   "cell_type": "code",
   "execution_count": 144,
   "id": "cb06acae-f910-4d9f-8dbc-8e83156ac290",
   "metadata": {},
   "outputs": [],
   "source": [
    "diff <- snp.1kg.eur3 - snp.1kg.eur2"
   ]
  },
  {
   "cell_type": "code",
   "execution_count": 146,
   "id": "aca58481-ea05-4e7e-a320-8f1381c925e2",
   "metadata": {},
   "outputs": [
    {
     "data": {
      "text/html": [
       "<table class=\"dataframe\">\n",
       "<caption>A data.frame: 10 × 10</caption>\n",
       "<thead>\n",
       "\t<tr><th></th><th scope=col>HG00096_HG00096</th><th scope=col>HG00097_HG00097</th><th scope=col>HG00099_HG00099</th><th scope=col>HG00101_HG00101</th><th scope=col>HG00102_HG00102</th><th scope=col>HG00103_HG00103</th><th scope=col>HG00105_HG00105</th><th scope=col>HG00107_HG00107</th><th scope=col>HG00108_HG00108</th><th scope=col>HG00109_HG00109</th></tr>\n",
       "\t<tr><th></th><th scope=col>&lt;dbl&gt;</th><th scope=col>&lt;dbl&gt;</th><th scope=col>&lt;dbl&gt;</th><th scope=col>&lt;dbl&gt;</th><th scope=col>&lt;dbl&gt;</th><th scope=col>&lt;dbl&gt;</th><th scope=col>&lt;dbl&gt;</th><th scope=col>&lt;dbl&gt;</th><th scope=col>&lt;dbl&gt;</th><th scope=col>&lt;dbl&gt;</th></tr>\n",
       "</thead>\n",
       "<tbody>\n",
       "\t<tr><th scope=row>rs11773627</th><td>2</td><td>1</td><td>2</td><td>1</td><td>1</td><td>2</td><td>2</td><td>2</td><td>2</td><td>2</td></tr>\n",
       "\t<tr><th scope=row>rs6972374</th><td>2</td><td>2</td><td>1</td><td>2</td><td>1</td><td>1</td><td>1</td><td>2</td><td>0</td><td>1</td></tr>\n",
       "\t<tr><th scope=row>rs12666575</th><td>0</td><td>1</td><td>1</td><td>1</td><td>2</td><td>1</td><td>1</td><td>0</td><td>2</td><td>1</td></tr>\n",
       "\t<tr><th scope=row>rs11766575</th><td>0</td><td>1</td><td>1</td><td>1</td><td>2</td><td>1</td><td>1</td><td>0</td><td>2</td><td>1</td></tr>\n",
       "\t<tr><th scope=row>rs4721264</th><td>0</td><td>1</td><td>1</td><td>1</td><td>1</td><td>1</td><td>1</td><td>0</td><td>2</td><td>1</td></tr>\n",
       "\t<tr><th scope=row>rs62442944</th><td>2</td><td>1</td><td>2</td><td>1</td><td>1</td><td>2</td><td>2</td><td>2</td><td>2</td><td>2</td></tr>\n",
       "\t<tr><th scope=row>rs12699547</th><td>2</td><td>2</td><td>1</td><td>2</td><td>2</td><td>1</td><td>1</td><td>2</td><td>0</td><td>1</td></tr>\n",
       "\t<tr><th scope=row>rs6461049</th><td>2</td><td>1</td><td>1</td><td>1</td><td>1</td><td>1</td><td>1</td><td>2</td><td>0</td><td>1</td></tr>\n",
       "\t<tr><th scope=row>rs6969587</th><td>2</td><td>2</td><td>1</td><td>2</td><td>2</td><td>1</td><td>1</td><td>2</td><td>0</td><td>1</td></tr>\n",
       "\t<tr><th scope=row>rs12699561</th><td>2</td><td>2</td><td>1</td><td>2</td><td>2</td><td>1</td><td>1</td><td>2</td><td>0</td><td>1</td></tr>\n",
       "</tbody>\n",
       "</table>\n"
      ],
      "text/latex": [
       "A data.frame: 10 × 10\n",
       "\\begin{tabular}{r|llllllllll}\n",
       "  & HG00096\\_HG00096 & HG00097\\_HG00097 & HG00099\\_HG00099 & HG00101\\_HG00101 & HG00102\\_HG00102 & HG00103\\_HG00103 & HG00105\\_HG00105 & HG00107\\_HG00107 & HG00108\\_HG00108 & HG00109\\_HG00109\\\\\n",
       "  & <dbl> & <dbl> & <dbl> & <dbl> & <dbl> & <dbl> & <dbl> & <dbl> & <dbl> & <dbl>\\\\\n",
       "\\hline\n",
       "\trs11773627 & 2 & 1 & 2 & 1 & 1 & 2 & 2 & 2 & 2 & 2\\\\\n",
       "\trs6972374 & 2 & 2 & 1 & 2 & 1 & 1 & 1 & 2 & 0 & 1\\\\\n",
       "\trs12666575 & 0 & 1 & 1 & 1 & 2 & 1 & 1 & 0 & 2 & 1\\\\\n",
       "\trs11766575 & 0 & 1 & 1 & 1 & 2 & 1 & 1 & 0 & 2 & 1\\\\\n",
       "\trs4721264 & 0 & 1 & 1 & 1 & 1 & 1 & 1 & 0 & 2 & 1\\\\\n",
       "\trs62442944 & 2 & 1 & 2 & 1 & 1 & 2 & 2 & 2 & 2 & 2\\\\\n",
       "\trs12699547 & 2 & 2 & 1 & 2 & 2 & 1 & 1 & 2 & 0 & 1\\\\\n",
       "\trs6461049 & 2 & 1 & 1 & 1 & 1 & 1 & 1 & 2 & 0 & 1\\\\\n",
       "\trs6969587 & 2 & 2 & 1 & 2 & 2 & 1 & 1 & 2 & 0 & 1\\\\\n",
       "\trs12699561 & 2 & 2 & 1 & 2 & 2 & 1 & 1 & 2 & 0 & 1\\\\\n",
       "\\end{tabular}\n"
      ],
      "text/markdown": [
       "\n",
       "A data.frame: 10 × 10\n",
       "\n",
       "| <!--/--> | HG00096_HG00096 &lt;dbl&gt; | HG00097_HG00097 &lt;dbl&gt; | HG00099_HG00099 &lt;dbl&gt; | HG00101_HG00101 &lt;dbl&gt; | HG00102_HG00102 &lt;dbl&gt; | HG00103_HG00103 &lt;dbl&gt; | HG00105_HG00105 &lt;dbl&gt; | HG00107_HG00107 &lt;dbl&gt; | HG00108_HG00108 &lt;dbl&gt; | HG00109_HG00109 &lt;dbl&gt; |\n",
       "|---|---|---|---|---|---|---|---|---|---|---|\n",
       "| rs11773627 | 2 | 1 | 2 | 1 | 1 | 2 | 2 | 2 | 2 | 2 |\n",
       "| rs6972374 | 2 | 2 | 1 | 2 | 1 | 1 | 1 | 2 | 0 | 1 |\n",
       "| rs12666575 | 0 | 1 | 1 | 1 | 2 | 1 | 1 | 0 | 2 | 1 |\n",
       "| rs11766575 | 0 | 1 | 1 | 1 | 2 | 1 | 1 | 0 | 2 | 1 |\n",
       "| rs4721264 | 0 | 1 | 1 | 1 | 1 | 1 | 1 | 0 | 2 | 1 |\n",
       "| rs62442944 | 2 | 1 | 2 | 1 | 1 | 2 | 2 | 2 | 2 | 2 |\n",
       "| rs12699547 | 2 | 2 | 1 | 2 | 2 | 1 | 1 | 2 | 0 | 1 |\n",
       "| rs6461049 | 2 | 1 | 1 | 1 | 1 | 1 | 1 | 2 | 0 | 1 |\n",
       "| rs6969587 | 2 | 2 | 1 | 2 | 2 | 1 | 1 | 2 | 0 | 1 |\n",
       "| rs12699561 | 2 | 2 | 1 | 2 | 2 | 1 | 1 | 2 | 0 | 1 |\n",
       "\n"
      ],
      "text/plain": [
       "           HG00096_HG00096 HG00097_HG00097 HG00099_HG00099 HG00101_HG00101\n",
       "rs11773627 2               1               2               1              \n",
       "rs6972374  2               2               1               2              \n",
       "rs12666575 0               1               1               1              \n",
       "rs11766575 0               1               1               1              \n",
       "rs4721264  0               1               1               1              \n",
       "rs62442944 2               1               2               1              \n",
       "rs12699547 2               2               1               2              \n",
       "rs6461049  2               1               1               1              \n",
       "rs6969587  2               2               1               2              \n",
       "rs12699561 2               2               1               2              \n",
       "           HG00102_HG00102 HG00103_HG00103 HG00105_HG00105 HG00107_HG00107\n",
       "rs11773627 1               2               2               2              \n",
       "rs6972374  1               1               1               2              \n",
       "rs12666575 2               1               1               0              \n",
       "rs11766575 2               1               1               0              \n",
       "rs4721264  1               1               1               0              \n",
       "rs62442944 1               2               2               2              \n",
       "rs12699547 2               1               1               2              \n",
       "rs6461049  1               1               1               2              \n",
       "rs6969587  2               1               1               2              \n",
       "rs12699561 2               1               1               2              \n",
       "           HG00108_HG00108 HG00109_HG00109\n",
       "rs11773627 2               2              \n",
       "rs6972374  0               1              \n",
       "rs12666575 2               1              \n",
       "rs11766575 2               1              \n",
       "rs4721264  2               1              \n",
       "rs62442944 2               2              \n",
       "rs12699547 0               1              \n",
       "rs6461049  0               1              \n",
       "rs6969587  0               1              \n",
       "rs12699561 0               1              "
      ]
     },
     "metadata": {},
     "output_type": "display_data"
    }
   ],
   "source": [
    "snp.1kg.eur2[1:10, 1:10]"
   ]
  },
  {
   "cell_type": "code",
   "execution_count": 147,
   "id": "e3a44bb8-70ed-453c-830d-e7973f9ba817",
   "metadata": {},
   "outputs": [
    {
     "data": {
      "text/html": [
       "<table class=\"dataframe\">\n",
       "<caption>A matrix: 10 × 10 of type dbl</caption>\n",
       "<thead>\n",
       "\t<tr><th></th><th scope=col>HG00096_HG00096</th><th scope=col>HG00097_HG00097</th><th scope=col>HG00099_HG00099</th><th scope=col>HG00101_HG00101</th><th scope=col>HG00102_HG00102</th><th scope=col>HG00103_HG00103</th><th scope=col>HG00105_HG00105</th><th scope=col>HG00107_HG00107</th><th scope=col>HG00108_HG00108</th><th scope=col>HG00109_HG00109</th></tr>\n",
       "</thead>\n",
       "<tbody>\n",
       "\t<tr><th scope=row>rs11773627</th><td>2</td><td>1</td><td>2</td><td>1</td><td>1</td><td>2</td><td>2</td><td>2</td><td>2</td><td>2</td></tr>\n",
       "\t<tr><th scope=row>rs6972374</th><td>2</td><td>2</td><td>1</td><td>2</td><td>1</td><td>1</td><td>1</td><td>2</td><td>0</td><td>1</td></tr>\n",
       "\t<tr><th scope=row>rs12666575</th><td>0</td><td>1</td><td>1</td><td>1</td><td>2</td><td>1</td><td>1</td><td>0</td><td>2</td><td>1</td></tr>\n",
       "\t<tr><th scope=row>rs11766575</th><td>0</td><td>1</td><td>1</td><td>1</td><td>2</td><td>1</td><td>1</td><td>0</td><td>2</td><td>1</td></tr>\n",
       "\t<tr><th scope=row>rs4721264</th><td>0</td><td>1</td><td>1</td><td>1</td><td>1</td><td>1</td><td>1</td><td>0</td><td>2</td><td>1</td></tr>\n",
       "\t<tr><th scope=row>rs62442944</th><td>2</td><td>1</td><td>2</td><td>1</td><td>1</td><td>2</td><td>2</td><td>2</td><td>2</td><td>2</td></tr>\n",
       "\t<tr><th scope=row>rs12699547</th><td>2</td><td>2</td><td>1</td><td>2</td><td>2</td><td>1</td><td>1</td><td>2</td><td>0</td><td>1</td></tr>\n",
       "\t<tr><th scope=row>rs6461049</th><td>0</td><td>1</td><td>1</td><td>1</td><td>1</td><td>1</td><td>1</td><td>0</td><td>2</td><td>1</td></tr>\n",
       "\t<tr><th scope=row>rs6969587</th><td>2</td><td>2</td><td>1</td><td>2</td><td>2</td><td>1</td><td>1</td><td>2</td><td>0</td><td>1</td></tr>\n",
       "\t<tr><th scope=row>rs12699561</th><td>2</td><td>2</td><td>1</td><td>2</td><td>2</td><td>1</td><td>1</td><td>2</td><td>0</td><td>1</td></tr>\n",
       "</tbody>\n",
       "</table>\n"
      ],
      "text/latex": [
       "A matrix: 10 × 10 of type dbl\n",
       "\\begin{tabular}{r|llllllllll}\n",
       "  & HG00096\\_HG00096 & HG00097\\_HG00097 & HG00099\\_HG00099 & HG00101\\_HG00101 & HG00102\\_HG00102 & HG00103\\_HG00103 & HG00105\\_HG00105 & HG00107\\_HG00107 & HG00108\\_HG00108 & HG00109\\_HG00109\\\\\n",
       "\\hline\n",
       "\trs11773627 & 2 & 1 & 2 & 1 & 1 & 2 & 2 & 2 & 2 & 2\\\\\n",
       "\trs6972374 & 2 & 2 & 1 & 2 & 1 & 1 & 1 & 2 & 0 & 1\\\\\n",
       "\trs12666575 & 0 & 1 & 1 & 1 & 2 & 1 & 1 & 0 & 2 & 1\\\\\n",
       "\trs11766575 & 0 & 1 & 1 & 1 & 2 & 1 & 1 & 0 & 2 & 1\\\\\n",
       "\trs4721264 & 0 & 1 & 1 & 1 & 1 & 1 & 1 & 0 & 2 & 1\\\\\n",
       "\trs62442944 & 2 & 1 & 2 & 1 & 1 & 2 & 2 & 2 & 2 & 2\\\\\n",
       "\trs12699547 & 2 & 2 & 1 & 2 & 2 & 1 & 1 & 2 & 0 & 1\\\\\n",
       "\trs6461049 & 0 & 1 & 1 & 1 & 1 & 1 & 1 & 0 & 2 & 1\\\\\n",
       "\trs6969587 & 2 & 2 & 1 & 2 & 2 & 1 & 1 & 2 & 0 & 1\\\\\n",
       "\trs12699561 & 2 & 2 & 1 & 2 & 2 & 1 & 1 & 2 & 0 & 1\\\\\n",
       "\\end{tabular}\n"
      ],
      "text/markdown": [
       "\n",
       "A matrix: 10 × 10 of type dbl\n",
       "\n",
       "| <!--/--> | HG00096_HG00096 | HG00097_HG00097 | HG00099_HG00099 | HG00101_HG00101 | HG00102_HG00102 | HG00103_HG00103 | HG00105_HG00105 | HG00107_HG00107 | HG00108_HG00108 | HG00109_HG00109 |\n",
       "|---|---|---|---|---|---|---|---|---|---|---|\n",
       "| rs11773627 | 2 | 1 | 2 | 1 | 1 | 2 | 2 | 2 | 2 | 2 |\n",
       "| rs6972374 | 2 | 2 | 1 | 2 | 1 | 1 | 1 | 2 | 0 | 1 |\n",
       "| rs12666575 | 0 | 1 | 1 | 1 | 2 | 1 | 1 | 0 | 2 | 1 |\n",
       "| rs11766575 | 0 | 1 | 1 | 1 | 2 | 1 | 1 | 0 | 2 | 1 |\n",
       "| rs4721264 | 0 | 1 | 1 | 1 | 1 | 1 | 1 | 0 | 2 | 1 |\n",
       "| rs62442944 | 2 | 1 | 2 | 1 | 1 | 2 | 2 | 2 | 2 | 2 |\n",
       "| rs12699547 | 2 | 2 | 1 | 2 | 2 | 1 | 1 | 2 | 0 | 1 |\n",
       "| rs6461049 | 0 | 1 | 1 | 1 | 1 | 1 | 1 | 0 | 2 | 1 |\n",
       "| rs6969587 | 2 | 2 | 1 | 2 | 2 | 1 | 1 | 2 | 0 | 1 |\n",
       "| rs12699561 | 2 | 2 | 1 | 2 | 2 | 1 | 1 | 2 | 0 | 1 |\n",
       "\n"
      ],
      "text/plain": [
       "           HG00096_HG00096 HG00097_HG00097 HG00099_HG00099 HG00101_HG00101\n",
       "rs11773627 2               1               2               1              \n",
       "rs6972374  2               2               1               2              \n",
       "rs12666575 0               1               1               1              \n",
       "rs11766575 0               1               1               1              \n",
       "rs4721264  0               1               1               1              \n",
       "rs62442944 2               1               2               1              \n",
       "rs12699547 2               2               1               2              \n",
       "rs6461049  0               1               1               1              \n",
       "rs6969587  2               2               1               2              \n",
       "rs12699561 2               2               1               2              \n",
       "           HG00102_HG00102 HG00103_HG00103 HG00105_HG00105 HG00107_HG00107\n",
       "rs11773627 1               2               2               2              \n",
       "rs6972374  1               1               1               2              \n",
       "rs12666575 2               1               1               0              \n",
       "rs11766575 2               1               1               0              \n",
       "rs4721264  1               1               1               0              \n",
       "rs62442944 1               2               2               2              \n",
       "rs12699547 2               1               1               2              \n",
       "rs6461049  1               1               1               0              \n",
       "rs6969587  2               1               1               2              \n",
       "rs12699561 2               1               1               2              \n",
       "           HG00108_HG00108 HG00109_HG00109\n",
       "rs11773627 2               2              \n",
       "rs6972374  0               1              \n",
       "rs12666575 2               1              \n",
       "rs11766575 2               1              \n",
       "rs4721264  2               1              \n",
       "rs62442944 2               2              \n",
       "rs12699547 0               1              \n",
       "rs6461049  2               1              \n",
       "rs6969587  0               1              \n",
       "rs12699561 0               1              "
      ]
     },
     "metadata": {},
     "output_type": "display_data"
    }
   ],
   "source": [
    "snp.1kg.eur3[1:10, 1:10]"
   ]
  },
  {
   "cell_type": "markdown",
   "id": "ef82d72b-8753-4757-bfdd-86cd41264dbe",
   "metadata": {},
   "source": [
    "I want to create two new dfs, titled snp.1kg.eur2.diff and snp.1kg.eur3.diff, which only show rows that aren't perfect matches between snp.1kg.eur2 and snp.1kg.eur3. This is AFTER we flip alleles so that they match (or at least, so *most* of them match...)"
   ]
  },
  {
   "cell_type": "code",
   "execution_count": 148,
   "id": "e159700c-e207-4863-bd12-8fe1f35f235b",
   "metadata": {},
   "outputs": [
    {
     "data": {
      "text/html": [
       "<table class=\"dataframe\">\n",
       "<caption>A data.frame: 10 × 489</caption>\n",
       "<thead>\n",
       "\t<tr><th></th><th scope=col>HG00096_HG00096</th><th scope=col>HG00097_HG00097</th><th scope=col>HG00099_HG00099</th><th scope=col>HG00101_HG00101</th><th scope=col>HG00102_HG00102</th><th scope=col>HG00103_HG00103</th><th scope=col>HG00105_HG00105</th><th scope=col>HG00107_HG00107</th><th scope=col>HG00108_HG00108</th><th scope=col>HG00109_HG00109</th><th scope=col>⋯</th><th scope=col>NA20814_NA20814</th><th scope=col>NA20815_NA20815</th><th scope=col>NA20818_NA20818</th><th scope=col>NA20819_NA20819</th><th scope=col>NA20821_NA20821</th><th scope=col>NA20822_NA20822</th><th scope=col>NA20826_NA20826</th><th scope=col>NA20827_NA20827</th><th scope=col>NA20828_NA20828</th><th scope=col>NA20832_NA20832</th></tr>\n",
       "\t<tr><th></th><th scope=col>&lt;dbl&gt;</th><th scope=col>&lt;dbl&gt;</th><th scope=col>&lt;dbl&gt;</th><th scope=col>&lt;dbl&gt;</th><th scope=col>&lt;dbl&gt;</th><th scope=col>&lt;dbl&gt;</th><th scope=col>&lt;dbl&gt;</th><th scope=col>&lt;dbl&gt;</th><th scope=col>&lt;dbl&gt;</th><th scope=col>&lt;dbl&gt;</th><th scope=col>⋯</th><th scope=col>&lt;dbl&gt;</th><th scope=col>&lt;dbl&gt;</th><th scope=col>&lt;dbl&gt;</th><th scope=col>&lt;dbl&gt;</th><th scope=col>&lt;dbl&gt;</th><th scope=col>&lt;dbl&gt;</th><th scope=col>&lt;dbl&gt;</th><th scope=col>&lt;dbl&gt;</th><th scope=col>&lt;dbl&gt;</th><th scope=col>&lt;dbl&gt;</th></tr>\n",
       "</thead>\n",
       "<tbody>\n",
       "\t<tr><th scope=row>rs6461049</th><td>2</td><td>1</td><td>1</td><td>1</td><td>1</td><td>1</td><td>1</td><td>2</td><td>0</td><td>1</td><td>⋯</td><td>0</td><td>2</td><td>1</td><td>1</td><td>0</td><td>0</td><td>1</td><td>2</td><td>0</td><td>1</td></tr>\n",
       "\t<tr><th scope=row>rs3996330</th><td>0</td><td>0</td><td>1</td><td>0</td><td>1</td><td>1</td><td>1</td><td>0</td><td>2</td><td>1</td><td>⋯</td><td>2</td><td>1</td><td>1</td><td>1</td><td>1</td><td>1</td><td>1</td><td>0</td><td>0</td><td>0</td></tr>\n",
       "\t<tr><th scope=row>rs11763870</th><td>1</td><td>1</td><td>1</td><td>1</td><td>1</td><td>1</td><td>1</td><td>2</td><td>0</td><td>1</td><td>⋯</td><td>0</td><td>1</td><td>1</td><td>1</td><td>0</td><td>0</td><td>1</td><td>2</td><td>0</td><td>0</td></tr>\n",
       "\t<tr><th scope=row>rs1403174</th><td>0</td><td>0</td><td>1</td><td>0</td><td>0</td><td>1</td><td>1</td><td>0</td><td>2</td><td>1</td><td>⋯</td><td>2</td><td>0</td><td>1</td><td>1</td><td>1</td><td>1</td><td>0</td><td>0</td><td>0</td><td>1</td></tr>\n",
       "\t<tr><th scope=row>rs3857706</th><td>0</td><td>0</td><td>1</td><td>0</td><td>0</td><td>1</td><td>1</td><td>0</td><td>2</td><td>1</td><td>⋯</td><td>2</td><td>0</td><td>1</td><td>1</td><td>1</td><td>1</td><td>0</td><td>0</td><td>0</td><td>1</td></tr>\n",
       "\t<tr><th scope=row>rs872464</th><td>0</td><td>0</td><td>1</td><td>0</td><td>0</td><td>1</td><td>1</td><td>0</td><td>2</td><td>1</td><td>⋯</td><td>2</td><td>0</td><td>1</td><td>1</td><td>1</td><td>1</td><td>0</td><td>0</td><td>0</td><td>1</td></tr>\n",
       "\t<tr><th scope=row>rs10950503</th><td>0</td><td>0</td><td>1</td><td>0</td><td>1</td><td>1</td><td>1</td><td>0</td><td>2</td><td>1</td><td>⋯</td><td>2</td><td>0</td><td>1</td><td>1</td><td>1</td><td>1</td><td>0</td><td>0</td><td>1</td><td>1</td></tr>\n",
       "\t<tr><th scope=row>rs10479762</th><td>2</td><td>1</td><td>1</td><td>1</td><td>1</td><td>1</td><td>1</td><td>2</td><td>0</td><td>1</td><td>⋯</td><td>0</td><td>1</td><td>1</td><td>1</td><td>0</td><td>0</td><td>1</td><td>2</td><td>0</td><td>0</td></tr>\n",
       "\t<tr><th scope=row>rs871925</th><td>2</td><td>1</td><td>1</td><td>1</td><td>1</td><td>1</td><td>1</td><td>2</td><td>0</td><td>1</td><td>⋯</td><td>0</td><td>1</td><td>1</td><td>1</td><td>0</td><td>0</td><td>1</td><td>2</td><td>0</td><td>0</td></tr>\n",
       "\t<tr><th scope=row>rs13227554</th><td>2</td><td>1</td><td>1</td><td>1</td><td>1</td><td>1</td><td>1</td><td>2</td><td>0</td><td>1</td><td>⋯</td><td>0</td><td>1</td><td>1</td><td>1</td><td>0</td><td>0</td><td>1</td><td>2</td><td>0</td><td>0</td></tr>\n",
       "</tbody>\n",
       "</table>\n"
      ],
      "text/latex": [
       "A data.frame: 10 × 489\n",
       "\\begin{tabular}{r|lllllllllllllllllllll}\n",
       "  & HG00096\\_HG00096 & HG00097\\_HG00097 & HG00099\\_HG00099 & HG00101\\_HG00101 & HG00102\\_HG00102 & HG00103\\_HG00103 & HG00105\\_HG00105 & HG00107\\_HG00107 & HG00108\\_HG00108 & HG00109\\_HG00109 & ⋯ & NA20814\\_NA20814 & NA20815\\_NA20815 & NA20818\\_NA20818 & NA20819\\_NA20819 & NA20821\\_NA20821 & NA20822\\_NA20822 & NA20826\\_NA20826 & NA20827\\_NA20827 & NA20828\\_NA20828 & NA20832\\_NA20832\\\\\n",
       "  & <dbl> & <dbl> & <dbl> & <dbl> & <dbl> & <dbl> & <dbl> & <dbl> & <dbl> & <dbl> & ⋯ & <dbl> & <dbl> & <dbl> & <dbl> & <dbl> & <dbl> & <dbl> & <dbl> & <dbl> & <dbl>\\\\\n",
       "\\hline\n",
       "\trs6461049 & 2 & 1 & 1 & 1 & 1 & 1 & 1 & 2 & 0 & 1 & ⋯ & 0 & 2 & 1 & 1 & 0 & 0 & 1 & 2 & 0 & 1\\\\\n",
       "\trs3996330 & 0 & 0 & 1 & 0 & 1 & 1 & 1 & 0 & 2 & 1 & ⋯ & 2 & 1 & 1 & 1 & 1 & 1 & 1 & 0 & 0 & 0\\\\\n",
       "\trs11763870 & 1 & 1 & 1 & 1 & 1 & 1 & 1 & 2 & 0 & 1 & ⋯ & 0 & 1 & 1 & 1 & 0 & 0 & 1 & 2 & 0 & 0\\\\\n",
       "\trs1403174 & 0 & 0 & 1 & 0 & 0 & 1 & 1 & 0 & 2 & 1 & ⋯ & 2 & 0 & 1 & 1 & 1 & 1 & 0 & 0 & 0 & 1\\\\\n",
       "\trs3857706 & 0 & 0 & 1 & 0 & 0 & 1 & 1 & 0 & 2 & 1 & ⋯ & 2 & 0 & 1 & 1 & 1 & 1 & 0 & 0 & 0 & 1\\\\\n",
       "\trs872464 & 0 & 0 & 1 & 0 & 0 & 1 & 1 & 0 & 2 & 1 & ⋯ & 2 & 0 & 1 & 1 & 1 & 1 & 0 & 0 & 0 & 1\\\\\n",
       "\trs10950503 & 0 & 0 & 1 & 0 & 1 & 1 & 1 & 0 & 2 & 1 & ⋯ & 2 & 0 & 1 & 1 & 1 & 1 & 0 & 0 & 1 & 1\\\\\n",
       "\trs10479762 & 2 & 1 & 1 & 1 & 1 & 1 & 1 & 2 & 0 & 1 & ⋯ & 0 & 1 & 1 & 1 & 0 & 0 & 1 & 2 & 0 & 0\\\\\n",
       "\trs871925 & 2 & 1 & 1 & 1 & 1 & 1 & 1 & 2 & 0 & 1 & ⋯ & 0 & 1 & 1 & 1 & 0 & 0 & 1 & 2 & 0 & 0\\\\\n",
       "\trs13227554 & 2 & 1 & 1 & 1 & 1 & 1 & 1 & 2 & 0 & 1 & ⋯ & 0 & 1 & 1 & 1 & 0 & 0 & 1 & 2 & 0 & 0\\\\\n",
       "\\end{tabular}\n"
      ],
      "text/markdown": [
       "\n",
       "A data.frame: 10 × 489\n",
       "\n",
       "| <!--/--> | HG00096_HG00096 &lt;dbl&gt; | HG00097_HG00097 &lt;dbl&gt; | HG00099_HG00099 &lt;dbl&gt; | HG00101_HG00101 &lt;dbl&gt; | HG00102_HG00102 &lt;dbl&gt; | HG00103_HG00103 &lt;dbl&gt; | HG00105_HG00105 &lt;dbl&gt; | HG00107_HG00107 &lt;dbl&gt; | HG00108_HG00108 &lt;dbl&gt; | HG00109_HG00109 &lt;dbl&gt; | ⋯ ⋯ | NA20814_NA20814 &lt;dbl&gt; | NA20815_NA20815 &lt;dbl&gt; | NA20818_NA20818 &lt;dbl&gt; | NA20819_NA20819 &lt;dbl&gt; | NA20821_NA20821 &lt;dbl&gt; | NA20822_NA20822 &lt;dbl&gt; | NA20826_NA20826 &lt;dbl&gt; | NA20827_NA20827 &lt;dbl&gt; | NA20828_NA20828 &lt;dbl&gt; | NA20832_NA20832 &lt;dbl&gt; |\n",
       "|---|---|---|---|---|---|---|---|---|---|---|---|---|---|---|---|---|---|---|---|---|---|\n",
       "| rs6461049 | 2 | 1 | 1 | 1 | 1 | 1 | 1 | 2 | 0 | 1 | ⋯ | 0 | 2 | 1 | 1 | 0 | 0 | 1 | 2 | 0 | 1 |\n",
       "| rs3996330 | 0 | 0 | 1 | 0 | 1 | 1 | 1 | 0 | 2 | 1 | ⋯ | 2 | 1 | 1 | 1 | 1 | 1 | 1 | 0 | 0 | 0 |\n",
       "| rs11763870 | 1 | 1 | 1 | 1 | 1 | 1 | 1 | 2 | 0 | 1 | ⋯ | 0 | 1 | 1 | 1 | 0 | 0 | 1 | 2 | 0 | 0 |\n",
       "| rs1403174 | 0 | 0 | 1 | 0 | 0 | 1 | 1 | 0 | 2 | 1 | ⋯ | 2 | 0 | 1 | 1 | 1 | 1 | 0 | 0 | 0 | 1 |\n",
       "| rs3857706 | 0 | 0 | 1 | 0 | 0 | 1 | 1 | 0 | 2 | 1 | ⋯ | 2 | 0 | 1 | 1 | 1 | 1 | 0 | 0 | 0 | 1 |\n",
       "| rs872464 | 0 | 0 | 1 | 0 | 0 | 1 | 1 | 0 | 2 | 1 | ⋯ | 2 | 0 | 1 | 1 | 1 | 1 | 0 | 0 | 0 | 1 |\n",
       "| rs10950503 | 0 | 0 | 1 | 0 | 1 | 1 | 1 | 0 | 2 | 1 | ⋯ | 2 | 0 | 1 | 1 | 1 | 1 | 0 | 0 | 1 | 1 |\n",
       "| rs10479762 | 2 | 1 | 1 | 1 | 1 | 1 | 1 | 2 | 0 | 1 | ⋯ | 0 | 1 | 1 | 1 | 0 | 0 | 1 | 2 | 0 | 0 |\n",
       "| rs871925 | 2 | 1 | 1 | 1 | 1 | 1 | 1 | 2 | 0 | 1 | ⋯ | 0 | 1 | 1 | 1 | 0 | 0 | 1 | 2 | 0 | 0 |\n",
       "| rs13227554 | 2 | 1 | 1 | 1 | 1 | 1 | 1 | 2 | 0 | 1 | ⋯ | 0 | 1 | 1 | 1 | 0 | 0 | 1 | 2 | 0 | 0 |\n",
       "\n"
      ],
      "text/plain": [
       "           HG00096_HG00096 HG00097_HG00097 HG00099_HG00099 HG00101_HG00101\n",
       "rs6461049  2               1               1               1              \n",
       "rs3996330  0               0               1               0              \n",
       "rs11763870 1               1               1               1              \n",
       "rs1403174  0               0               1               0              \n",
       "rs3857706  0               0               1               0              \n",
       "rs872464   0               0               1               0              \n",
       "rs10950503 0               0               1               0              \n",
       "rs10479762 2               1               1               1              \n",
       "rs871925   2               1               1               1              \n",
       "rs13227554 2               1               1               1              \n",
       "           HG00102_HG00102 HG00103_HG00103 HG00105_HG00105 HG00107_HG00107\n",
       "rs6461049  1               1               1               2              \n",
       "rs3996330  1               1               1               0              \n",
       "rs11763870 1               1               1               2              \n",
       "rs1403174  0               1               1               0              \n",
       "rs3857706  0               1               1               0              \n",
       "rs872464   0               1               1               0              \n",
       "rs10950503 1               1               1               0              \n",
       "rs10479762 1               1               1               2              \n",
       "rs871925   1               1               1               2              \n",
       "rs13227554 1               1               1               2              \n",
       "           HG00108_HG00108 HG00109_HG00109 ⋯ NA20814_NA20814 NA20815_NA20815\n",
       "rs6461049  0               1               ⋯ 0               2              \n",
       "rs3996330  2               1               ⋯ 2               1              \n",
       "rs11763870 0               1               ⋯ 0               1              \n",
       "rs1403174  2               1               ⋯ 2               0              \n",
       "rs3857706  2               1               ⋯ 2               0              \n",
       "rs872464   2               1               ⋯ 2               0              \n",
       "rs10950503 2               1               ⋯ 2               0              \n",
       "rs10479762 0               1               ⋯ 0               1              \n",
       "rs871925   0               1               ⋯ 0               1              \n",
       "rs13227554 0               1               ⋯ 0               1              \n",
       "           NA20818_NA20818 NA20819_NA20819 NA20821_NA20821 NA20822_NA20822\n",
       "rs6461049  1               1               0               0              \n",
       "rs3996330  1               1               1               1              \n",
       "rs11763870 1               1               0               0              \n",
       "rs1403174  1               1               1               1              \n",
       "rs3857706  1               1               1               1              \n",
       "rs872464   1               1               1               1              \n",
       "rs10950503 1               1               1               1              \n",
       "rs10479762 1               1               0               0              \n",
       "rs871925   1               1               0               0              \n",
       "rs13227554 1               1               0               0              \n",
       "           NA20826_NA20826 NA20827_NA20827 NA20828_NA20828 NA20832_NA20832\n",
       "rs6461049  1               2               0               1              \n",
       "rs3996330  1               0               0               0              \n",
       "rs11763870 1               2               0               0              \n",
       "rs1403174  0               0               0               1              \n",
       "rs3857706  0               0               0               1              \n",
       "rs872464   0               0               0               1              \n",
       "rs10950503 0               0               1               1              \n",
       "rs10479762 1               2               0               0              \n",
       "rs871925   1               2               0               0              \n",
       "rs13227554 1               2               0               0              "
      ]
     },
     "metadata": {},
     "output_type": "display_data"
    },
    {
     "data": {
      "text/html": [
       "<table class=\"dataframe\">\n",
       "<caption>A matrix: 10 × 489 of type dbl</caption>\n",
       "<thead>\n",
       "\t<tr><th></th><th scope=col>HG00096_HG00096</th><th scope=col>HG00097_HG00097</th><th scope=col>HG00099_HG00099</th><th scope=col>HG00101_HG00101</th><th scope=col>HG00102_HG00102</th><th scope=col>HG00103_HG00103</th><th scope=col>HG00105_HG00105</th><th scope=col>HG00107_HG00107</th><th scope=col>HG00108_HG00108</th><th scope=col>HG00109_HG00109</th><th scope=col>⋯</th><th scope=col>NA20814_NA20814</th><th scope=col>NA20815_NA20815</th><th scope=col>NA20818_NA20818</th><th scope=col>NA20819_NA20819</th><th scope=col>NA20821_NA20821</th><th scope=col>NA20822_NA20822</th><th scope=col>NA20826_NA20826</th><th scope=col>NA20827_NA20827</th><th scope=col>NA20828_NA20828</th><th scope=col>NA20832_NA20832</th></tr>\n",
       "</thead>\n",
       "<tbody>\n",
       "\t<tr><th scope=row>rs6461049</th><td>0</td><td>1</td><td>1</td><td>1</td><td>1</td><td>1</td><td>1</td><td>0</td><td>2</td><td>1</td><td>⋯</td><td>2</td><td>0</td><td>1</td><td>1</td><td>2</td><td>2</td><td>1</td><td>0</td><td>2</td><td>1</td></tr>\n",
       "\t<tr><th scope=row>rs3996330</th><td>2</td><td>2</td><td>1</td><td>2</td><td>1</td><td>1</td><td>1</td><td>2</td><td>0</td><td>1</td><td>⋯</td><td>0</td><td>1</td><td>1</td><td>1</td><td>1</td><td>1</td><td>1</td><td>2</td><td>2</td><td>2</td></tr>\n",
       "\t<tr><th scope=row>rs11763870</th><td>1</td><td>1</td><td>1</td><td>1</td><td>1</td><td>1</td><td>1</td><td>0</td><td>2</td><td>1</td><td>⋯</td><td>2</td><td>1</td><td>1</td><td>1</td><td>2</td><td>2</td><td>1</td><td>0</td><td>2</td><td>2</td></tr>\n",
       "\t<tr><th scope=row>rs1403174</th><td>2</td><td>2</td><td>1</td><td>2</td><td>2</td><td>1</td><td>1</td><td>2</td><td>0</td><td>1</td><td>⋯</td><td>0</td><td>2</td><td>1</td><td>1</td><td>1</td><td>1</td><td>2</td><td>2</td><td>2</td><td>1</td></tr>\n",
       "\t<tr><th scope=row>rs3857706</th><td>2</td><td>2</td><td>1</td><td>2</td><td>2</td><td>1</td><td>1</td><td>2</td><td>0</td><td>1</td><td>⋯</td><td>0</td><td>2</td><td>1</td><td>1</td><td>1</td><td>1</td><td>2</td><td>2</td><td>2</td><td>1</td></tr>\n",
       "\t<tr><th scope=row>rs872464</th><td>2</td><td>2</td><td>1</td><td>2</td><td>2</td><td>1</td><td>1</td><td>2</td><td>0</td><td>1</td><td>⋯</td><td>0</td><td>2</td><td>1</td><td>1</td><td>1</td><td>1</td><td>2</td><td>2</td><td>2</td><td>1</td></tr>\n",
       "\t<tr><th scope=row>rs10950503</th><td>2</td><td>2</td><td>1</td><td>2</td><td>1</td><td>1</td><td>1</td><td>2</td><td>0</td><td>1</td><td>⋯</td><td>0</td><td>2</td><td>1</td><td>1</td><td>1</td><td>1</td><td>2</td><td>2</td><td>1</td><td>1</td></tr>\n",
       "\t<tr><th scope=row>rs10479762</th><td>0</td><td>1</td><td>1</td><td>1</td><td>1</td><td>1</td><td>1</td><td>0</td><td>2</td><td>1</td><td>⋯</td><td>2</td><td>1</td><td>1</td><td>1</td><td>2</td><td>2</td><td>1</td><td>0</td><td>2</td><td>2</td></tr>\n",
       "\t<tr><th scope=row>rs871925</th><td>0</td><td>1</td><td>1</td><td>1</td><td>1</td><td>1</td><td>1</td><td>0</td><td>2</td><td>1</td><td>⋯</td><td>2</td><td>1</td><td>1</td><td>1</td><td>2</td><td>2</td><td>1</td><td>0</td><td>2</td><td>2</td></tr>\n",
       "\t<tr><th scope=row>rs13227554</th><td>0</td><td>1</td><td>1</td><td>1</td><td>1</td><td>1</td><td>1</td><td>0</td><td>2</td><td>1</td><td>⋯</td><td>2</td><td>1</td><td>1</td><td>1</td><td>2</td><td>2</td><td>1</td><td>0</td><td>2</td><td>2</td></tr>\n",
       "</tbody>\n",
       "</table>\n"
      ],
      "text/latex": [
       "A matrix: 10 × 489 of type dbl\n",
       "\\begin{tabular}{r|lllllllllllllllllllll}\n",
       "  & HG00096\\_HG00096 & HG00097\\_HG00097 & HG00099\\_HG00099 & HG00101\\_HG00101 & HG00102\\_HG00102 & HG00103\\_HG00103 & HG00105\\_HG00105 & HG00107\\_HG00107 & HG00108\\_HG00108 & HG00109\\_HG00109 & ⋯ & NA20814\\_NA20814 & NA20815\\_NA20815 & NA20818\\_NA20818 & NA20819\\_NA20819 & NA20821\\_NA20821 & NA20822\\_NA20822 & NA20826\\_NA20826 & NA20827\\_NA20827 & NA20828\\_NA20828 & NA20832\\_NA20832\\\\\n",
       "\\hline\n",
       "\trs6461049 & 0 & 1 & 1 & 1 & 1 & 1 & 1 & 0 & 2 & 1 & ⋯ & 2 & 0 & 1 & 1 & 2 & 2 & 1 & 0 & 2 & 1\\\\\n",
       "\trs3996330 & 2 & 2 & 1 & 2 & 1 & 1 & 1 & 2 & 0 & 1 & ⋯ & 0 & 1 & 1 & 1 & 1 & 1 & 1 & 2 & 2 & 2\\\\\n",
       "\trs11763870 & 1 & 1 & 1 & 1 & 1 & 1 & 1 & 0 & 2 & 1 & ⋯ & 2 & 1 & 1 & 1 & 2 & 2 & 1 & 0 & 2 & 2\\\\\n",
       "\trs1403174 & 2 & 2 & 1 & 2 & 2 & 1 & 1 & 2 & 0 & 1 & ⋯ & 0 & 2 & 1 & 1 & 1 & 1 & 2 & 2 & 2 & 1\\\\\n",
       "\trs3857706 & 2 & 2 & 1 & 2 & 2 & 1 & 1 & 2 & 0 & 1 & ⋯ & 0 & 2 & 1 & 1 & 1 & 1 & 2 & 2 & 2 & 1\\\\\n",
       "\trs872464 & 2 & 2 & 1 & 2 & 2 & 1 & 1 & 2 & 0 & 1 & ⋯ & 0 & 2 & 1 & 1 & 1 & 1 & 2 & 2 & 2 & 1\\\\\n",
       "\trs10950503 & 2 & 2 & 1 & 2 & 1 & 1 & 1 & 2 & 0 & 1 & ⋯ & 0 & 2 & 1 & 1 & 1 & 1 & 2 & 2 & 1 & 1\\\\\n",
       "\trs10479762 & 0 & 1 & 1 & 1 & 1 & 1 & 1 & 0 & 2 & 1 & ⋯ & 2 & 1 & 1 & 1 & 2 & 2 & 1 & 0 & 2 & 2\\\\\n",
       "\trs871925 & 0 & 1 & 1 & 1 & 1 & 1 & 1 & 0 & 2 & 1 & ⋯ & 2 & 1 & 1 & 1 & 2 & 2 & 1 & 0 & 2 & 2\\\\\n",
       "\trs13227554 & 0 & 1 & 1 & 1 & 1 & 1 & 1 & 0 & 2 & 1 & ⋯ & 2 & 1 & 1 & 1 & 2 & 2 & 1 & 0 & 2 & 2\\\\\n",
       "\\end{tabular}\n"
      ],
      "text/markdown": [
       "\n",
       "A matrix: 10 × 489 of type dbl\n",
       "\n",
       "| <!--/--> | HG00096_HG00096 | HG00097_HG00097 | HG00099_HG00099 | HG00101_HG00101 | HG00102_HG00102 | HG00103_HG00103 | HG00105_HG00105 | HG00107_HG00107 | HG00108_HG00108 | HG00109_HG00109 | ⋯ | NA20814_NA20814 | NA20815_NA20815 | NA20818_NA20818 | NA20819_NA20819 | NA20821_NA20821 | NA20822_NA20822 | NA20826_NA20826 | NA20827_NA20827 | NA20828_NA20828 | NA20832_NA20832 |\n",
       "|---|---|---|---|---|---|---|---|---|---|---|---|---|---|---|---|---|---|---|---|---|---|\n",
       "| rs6461049 | 0 | 1 | 1 | 1 | 1 | 1 | 1 | 0 | 2 | 1 | ⋯ | 2 | 0 | 1 | 1 | 2 | 2 | 1 | 0 | 2 | 1 |\n",
       "| rs3996330 | 2 | 2 | 1 | 2 | 1 | 1 | 1 | 2 | 0 | 1 | ⋯ | 0 | 1 | 1 | 1 | 1 | 1 | 1 | 2 | 2 | 2 |\n",
       "| rs11763870 | 1 | 1 | 1 | 1 | 1 | 1 | 1 | 0 | 2 | 1 | ⋯ | 2 | 1 | 1 | 1 | 2 | 2 | 1 | 0 | 2 | 2 |\n",
       "| rs1403174 | 2 | 2 | 1 | 2 | 2 | 1 | 1 | 2 | 0 | 1 | ⋯ | 0 | 2 | 1 | 1 | 1 | 1 | 2 | 2 | 2 | 1 |\n",
       "| rs3857706 | 2 | 2 | 1 | 2 | 2 | 1 | 1 | 2 | 0 | 1 | ⋯ | 0 | 2 | 1 | 1 | 1 | 1 | 2 | 2 | 2 | 1 |\n",
       "| rs872464 | 2 | 2 | 1 | 2 | 2 | 1 | 1 | 2 | 0 | 1 | ⋯ | 0 | 2 | 1 | 1 | 1 | 1 | 2 | 2 | 2 | 1 |\n",
       "| rs10950503 | 2 | 2 | 1 | 2 | 1 | 1 | 1 | 2 | 0 | 1 | ⋯ | 0 | 2 | 1 | 1 | 1 | 1 | 2 | 2 | 1 | 1 |\n",
       "| rs10479762 | 0 | 1 | 1 | 1 | 1 | 1 | 1 | 0 | 2 | 1 | ⋯ | 2 | 1 | 1 | 1 | 2 | 2 | 1 | 0 | 2 | 2 |\n",
       "| rs871925 | 0 | 1 | 1 | 1 | 1 | 1 | 1 | 0 | 2 | 1 | ⋯ | 2 | 1 | 1 | 1 | 2 | 2 | 1 | 0 | 2 | 2 |\n",
       "| rs13227554 | 0 | 1 | 1 | 1 | 1 | 1 | 1 | 0 | 2 | 1 | ⋯ | 2 | 1 | 1 | 1 | 2 | 2 | 1 | 0 | 2 | 2 |\n",
       "\n"
      ],
      "text/plain": [
       "           HG00096_HG00096 HG00097_HG00097 HG00099_HG00099 HG00101_HG00101\n",
       "rs6461049  0               1               1               1              \n",
       "rs3996330  2               2               1               2              \n",
       "rs11763870 1               1               1               1              \n",
       "rs1403174  2               2               1               2              \n",
       "rs3857706  2               2               1               2              \n",
       "rs872464   2               2               1               2              \n",
       "rs10950503 2               2               1               2              \n",
       "rs10479762 0               1               1               1              \n",
       "rs871925   0               1               1               1              \n",
       "rs13227554 0               1               1               1              \n",
       "           HG00102_HG00102 HG00103_HG00103 HG00105_HG00105 HG00107_HG00107\n",
       "rs6461049  1               1               1               0              \n",
       "rs3996330  1               1               1               2              \n",
       "rs11763870 1               1               1               0              \n",
       "rs1403174  2               1               1               2              \n",
       "rs3857706  2               1               1               2              \n",
       "rs872464   2               1               1               2              \n",
       "rs10950503 1               1               1               2              \n",
       "rs10479762 1               1               1               0              \n",
       "rs871925   1               1               1               0              \n",
       "rs13227554 1               1               1               0              \n",
       "           HG00108_HG00108 HG00109_HG00109 ⋯ NA20814_NA20814 NA20815_NA20815\n",
       "rs6461049  2               1               ⋯ 2               0              \n",
       "rs3996330  0               1               ⋯ 0               1              \n",
       "rs11763870 2               1               ⋯ 2               1              \n",
       "rs1403174  0               1               ⋯ 0               2              \n",
       "rs3857706  0               1               ⋯ 0               2              \n",
       "rs872464   0               1               ⋯ 0               2              \n",
       "rs10950503 0               1               ⋯ 0               2              \n",
       "rs10479762 2               1               ⋯ 2               1              \n",
       "rs871925   2               1               ⋯ 2               1              \n",
       "rs13227554 2               1               ⋯ 2               1              \n",
       "           NA20818_NA20818 NA20819_NA20819 NA20821_NA20821 NA20822_NA20822\n",
       "rs6461049  1               1               2               2              \n",
       "rs3996330  1               1               1               1              \n",
       "rs11763870 1               1               2               2              \n",
       "rs1403174  1               1               1               1              \n",
       "rs3857706  1               1               1               1              \n",
       "rs872464   1               1               1               1              \n",
       "rs10950503 1               1               1               1              \n",
       "rs10479762 1               1               2               2              \n",
       "rs871925   1               1               2               2              \n",
       "rs13227554 1               1               2               2              \n",
       "           NA20826_NA20826 NA20827_NA20827 NA20828_NA20828 NA20832_NA20832\n",
       "rs6461049  1               0               2               1              \n",
       "rs3996330  1               2               2               2              \n",
       "rs11763870 1               0               2               2              \n",
       "rs1403174  2               2               2               1              \n",
       "rs3857706  2               2               2               1              \n",
       "rs872464   2               2               2               1              \n",
       "rs10950503 2               2               1               1              \n",
       "rs10479762 1               0               2               2              \n",
       "rs871925   1               0               2               2              \n",
       "rs13227554 1               0               2               2              "
      ]
     },
     "metadata": {},
     "output_type": "display_data"
    }
   ],
   "source": [
    "# Find rows that aren't perfect matches between snp.1kg.eur2 and snp.1kg.eur3\n",
    "mismatch_indices <- which(!apply(snp.1kg.eur2 == snp.1kg.eur3, 1, all))\n",
    "\n",
    "# Create new dataframes showing rows that aren't perfect matches\n",
    "snp.1kg.eur2.diff <- snp.1kg.eur2[mismatch_indices, ]\n",
    "snp.1kg.eur3.diff <- snp.1kg.eur3[mismatch_indices, ]\n",
    "\n",
    "# Display the new dataframes\n",
    "snp.1kg.eur2.diff\n",
    "snp.1kg.eur3.diff\n"
   ]
  },
  {
   "cell_type": "markdown",
   "id": "263402d7-ab9f-4467-b5cf-fa12067fdd1b",
   "metadata": {},
   "source": [
    "Now let's show the rows that ARE perfect matches."
   ]
  },
  {
   "cell_type": "code",
   "execution_count": 150,
   "id": "e591d756-2c39-4f58-b728-d442af32a384",
   "metadata": {},
   "outputs": [
    {
     "data": {
      "text/html": [
       "<style>\n",
       ".list-inline {list-style: none; margin:0; padding: 0}\n",
       ".list-inline>li {display: inline-block}\n",
       ".list-inline>li:not(:last-child)::after {content: \"\\00b7\"; padding: 0 .5ex}\n",
       "</style>\n",
       "<ol class=list-inline><li>46</li><li>489</li></ol>\n"
      ],
      "text/latex": [
       "\\begin{enumerate*}\n",
       "\\item 46\n",
       "\\item 489\n",
       "\\end{enumerate*}\n"
      ],
      "text/markdown": [
       "1. 46\n",
       "2. 489\n",
       "\n",
       "\n"
      ],
      "text/plain": [
       "[1]  46 489"
      ]
     },
     "metadata": {},
     "output_type": "display_data"
    },
    {
     "data": {
      "text/html": [
       "<style>\n",
       ".list-inline {list-style: none; margin:0; padding: 0}\n",
       ".list-inline>li {display: inline-block}\n",
       ".list-inline>li:not(:last-child)::after {content: \"\\00b7\"; padding: 0 .5ex}\n",
       "</style>\n",
       "<ol class=list-inline><li>46</li><li>489</li></ol>\n"
      ],
      "text/latex": [
       "\\begin{enumerate*}\n",
       "\\item 46\n",
       "\\item 489\n",
       "\\end{enumerate*}\n"
      ],
      "text/markdown": [
       "1. 46\n",
       "2. 489\n",
       "\n",
       "\n"
      ],
      "text/plain": [
       "[1]  46 489"
      ]
     },
     "metadata": {},
     "output_type": "display_data"
    },
    {
     "data": {
      "text/html": [
       "<table class=\"dataframe\">\n",
       "<caption>A data.frame: 6 × 489</caption>\n",
       "<thead>\n",
       "\t<tr><th></th><th scope=col>HG00096_HG00096</th><th scope=col>HG00097_HG00097</th><th scope=col>HG00099_HG00099</th><th scope=col>HG00101_HG00101</th><th scope=col>HG00102_HG00102</th><th scope=col>HG00103_HG00103</th><th scope=col>HG00105_HG00105</th><th scope=col>HG00107_HG00107</th><th scope=col>HG00108_HG00108</th><th scope=col>HG00109_HG00109</th><th scope=col>⋯</th><th scope=col>NA20814_NA20814</th><th scope=col>NA20815_NA20815</th><th scope=col>NA20818_NA20818</th><th scope=col>NA20819_NA20819</th><th scope=col>NA20821_NA20821</th><th scope=col>NA20822_NA20822</th><th scope=col>NA20826_NA20826</th><th scope=col>NA20827_NA20827</th><th scope=col>NA20828_NA20828</th><th scope=col>NA20832_NA20832</th></tr>\n",
       "\t<tr><th></th><th scope=col>&lt;dbl&gt;</th><th scope=col>&lt;dbl&gt;</th><th scope=col>&lt;dbl&gt;</th><th scope=col>&lt;dbl&gt;</th><th scope=col>&lt;dbl&gt;</th><th scope=col>&lt;dbl&gt;</th><th scope=col>&lt;dbl&gt;</th><th scope=col>&lt;dbl&gt;</th><th scope=col>&lt;dbl&gt;</th><th scope=col>&lt;dbl&gt;</th><th scope=col>⋯</th><th scope=col>&lt;dbl&gt;</th><th scope=col>&lt;dbl&gt;</th><th scope=col>&lt;dbl&gt;</th><th scope=col>&lt;dbl&gt;</th><th scope=col>&lt;dbl&gt;</th><th scope=col>&lt;dbl&gt;</th><th scope=col>&lt;dbl&gt;</th><th scope=col>&lt;dbl&gt;</th><th scope=col>&lt;dbl&gt;</th><th scope=col>&lt;dbl&gt;</th></tr>\n",
       "</thead>\n",
       "<tbody>\n",
       "\t<tr><th scope=row>rs11773627</th><td>2</td><td>1</td><td>2</td><td>1</td><td>1</td><td>2</td><td>2</td><td>2</td><td>2</td><td>2</td><td>⋯</td><td>2</td><td>2</td><td>2</td><td>2</td><td>1</td><td>1</td><td>1</td><td>2</td><td>0</td><td>1</td></tr>\n",
       "\t<tr><th scope=row>rs6972374</th><td>2</td><td>2</td><td>1</td><td>2</td><td>1</td><td>1</td><td>1</td><td>2</td><td>0</td><td>1</td><td>⋯</td><td>0</td><td>2</td><td>1</td><td>1</td><td>1</td><td>1</td><td>2</td><td>2</td><td>2</td><td>1</td></tr>\n",
       "\t<tr><th scope=row>rs12666575</th><td>0</td><td>1</td><td>1</td><td>1</td><td>2</td><td>1</td><td>1</td><td>0</td><td>2</td><td>1</td><td>⋯</td><td>2</td><td>0</td><td>1</td><td>1</td><td>2</td><td>2</td><td>1</td><td>0</td><td>2</td><td>2</td></tr>\n",
       "\t<tr><th scope=row>rs11766575</th><td>0</td><td>1</td><td>1</td><td>1</td><td>2</td><td>1</td><td>1</td><td>0</td><td>2</td><td>1</td><td>⋯</td><td>2</td><td>0</td><td>1</td><td>1</td><td>2</td><td>2</td><td>1</td><td>0</td><td>2</td><td>2</td></tr>\n",
       "\t<tr><th scope=row>rs4721264</th><td>0</td><td>1</td><td>1</td><td>1</td><td>1</td><td>1</td><td>1</td><td>0</td><td>2</td><td>1</td><td>⋯</td><td>2</td><td>0</td><td>1</td><td>0</td><td>2</td><td>2</td><td>1</td><td>0</td><td>2</td><td>2</td></tr>\n",
       "\t<tr><th scope=row>rs62442944</th><td>2</td><td>1</td><td>2</td><td>1</td><td>1</td><td>2</td><td>2</td><td>2</td><td>2</td><td>2</td><td>⋯</td><td>2</td><td>2</td><td>2</td><td>2</td><td>1</td><td>1</td><td>1</td><td>2</td><td>0</td><td>1</td></tr>\n",
       "</tbody>\n",
       "</table>\n"
      ],
      "text/latex": [
       "A data.frame: 6 × 489\n",
       "\\begin{tabular}{r|lllllllllllllllllllll}\n",
       "  & HG00096\\_HG00096 & HG00097\\_HG00097 & HG00099\\_HG00099 & HG00101\\_HG00101 & HG00102\\_HG00102 & HG00103\\_HG00103 & HG00105\\_HG00105 & HG00107\\_HG00107 & HG00108\\_HG00108 & HG00109\\_HG00109 & ⋯ & NA20814\\_NA20814 & NA20815\\_NA20815 & NA20818\\_NA20818 & NA20819\\_NA20819 & NA20821\\_NA20821 & NA20822\\_NA20822 & NA20826\\_NA20826 & NA20827\\_NA20827 & NA20828\\_NA20828 & NA20832\\_NA20832\\\\\n",
       "  & <dbl> & <dbl> & <dbl> & <dbl> & <dbl> & <dbl> & <dbl> & <dbl> & <dbl> & <dbl> & ⋯ & <dbl> & <dbl> & <dbl> & <dbl> & <dbl> & <dbl> & <dbl> & <dbl> & <dbl> & <dbl>\\\\\n",
       "\\hline\n",
       "\trs11773627 & 2 & 1 & 2 & 1 & 1 & 2 & 2 & 2 & 2 & 2 & ⋯ & 2 & 2 & 2 & 2 & 1 & 1 & 1 & 2 & 0 & 1\\\\\n",
       "\trs6972374 & 2 & 2 & 1 & 2 & 1 & 1 & 1 & 2 & 0 & 1 & ⋯ & 0 & 2 & 1 & 1 & 1 & 1 & 2 & 2 & 2 & 1\\\\\n",
       "\trs12666575 & 0 & 1 & 1 & 1 & 2 & 1 & 1 & 0 & 2 & 1 & ⋯ & 2 & 0 & 1 & 1 & 2 & 2 & 1 & 0 & 2 & 2\\\\\n",
       "\trs11766575 & 0 & 1 & 1 & 1 & 2 & 1 & 1 & 0 & 2 & 1 & ⋯ & 2 & 0 & 1 & 1 & 2 & 2 & 1 & 0 & 2 & 2\\\\\n",
       "\trs4721264 & 0 & 1 & 1 & 1 & 1 & 1 & 1 & 0 & 2 & 1 & ⋯ & 2 & 0 & 1 & 0 & 2 & 2 & 1 & 0 & 2 & 2\\\\\n",
       "\trs62442944 & 2 & 1 & 2 & 1 & 1 & 2 & 2 & 2 & 2 & 2 & ⋯ & 2 & 2 & 2 & 2 & 1 & 1 & 1 & 2 & 0 & 1\\\\\n",
       "\\end{tabular}\n"
      ],
      "text/markdown": [
       "\n",
       "A data.frame: 6 × 489\n",
       "\n",
       "| <!--/--> | HG00096_HG00096 &lt;dbl&gt; | HG00097_HG00097 &lt;dbl&gt; | HG00099_HG00099 &lt;dbl&gt; | HG00101_HG00101 &lt;dbl&gt; | HG00102_HG00102 &lt;dbl&gt; | HG00103_HG00103 &lt;dbl&gt; | HG00105_HG00105 &lt;dbl&gt; | HG00107_HG00107 &lt;dbl&gt; | HG00108_HG00108 &lt;dbl&gt; | HG00109_HG00109 &lt;dbl&gt; | ⋯ ⋯ | NA20814_NA20814 &lt;dbl&gt; | NA20815_NA20815 &lt;dbl&gt; | NA20818_NA20818 &lt;dbl&gt; | NA20819_NA20819 &lt;dbl&gt; | NA20821_NA20821 &lt;dbl&gt; | NA20822_NA20822 &lt;dbl&gt; | NA20826_NA20826 &lt;dbl&gt; | NA20827_NA20827 &lt;dbl&gt; | NA20828_NA20828 &lt;dbl&gt; | NA20832_NA20832 &lt;dbl&gt; |\n",
       "|---|---|---|---|---|---|---|---|---|---|---|---|---|---|---|---|---|---|---|---|---|---|\n",
       "| rs11773627 | 2 | 1 | 2 | 1 | 1 | 2 | 2 | 2 | 2 | 2 | ⋯ | 2 | 2 | 2 | 2 | 1 | 1 | 1 | 2 | 0 | 1 |\n",
       "| rs6972374 | 2 | 2 | 1 | 2 | 1 | 1 | 1 | 2 | 0 | 1 | ⋯ | 0 | 2 | 1 | 1 | 1 | 1 | 2 | 2 | 2 | 1 |\n",
       "| rs12666575 | 0 | 1 | 1 | 1 | 2 | 1 | 1 | 0 | 2 | 1 | ⋯ | 2 | 0 | 1 | 1 | 2 | 2 | 1 | 0 | 2 | 2 |\n",
       "| rs11766575 | 0 | 1 | 1 | 1 | 2 | 1 | 1 | 0 | 2 | 1 | ⋯ | 2 | 0 | 1 | 1 | 2 | 2 | 1 | 0 | 2 | 2 |\n",
       "| rs4721264 | 0 | 1 | 1 | 1 | 1 | 1 | 1 | 0 | 2 | 1 | ⋯ | 2 | 0 | 1 | 0 | 2 | 2 | 1 | 0 | 2 | 2 |\n",
       "| rs62442944 | 2 | 1 | 2 | 1 | 1 | 2 | 2 | 2 | 2 | 2 | ⋯ | 2 | 2 | 2 | 2 | 1 | 1 | 1 | 2 | 0 | 1 |\n",
       "\n"
      ],
      "text/plain": [
       "           HG00096_HG00096 HG00097_HG00097 HG00099_HG00099 HG00101_HG00101\n",
       "rs11773627 2               1               2               1              \n",
       "rs6972374  2               2               1               2              \n",
       "rs12666575 0               1               1               1              \n",
       "rs11766575 0               1               1               1              \n",
       "rs4721264  0               1               1               1              \n",
       "rs62442944 2               1               2               1              \n",
       "           HG00102_HG00102 HG00103_HG00103 HG00105_HG00105 HG00107_HG00107\n",
       "rs11773627 1               2               2               2              \n",
       "rs6972374  1               1               1               2              \n",
       "rs12666575 2               1               1               0              \n",
       "rs11766575 2               1               1               0              \n",
       "rs4721264  1               1               1               0              \n",
       "rs62442944 1               2               2               2              \n",
       "           HG00108_HG00108 HG00109_HG00109 ⋯ NA20814_NA20814 NA20815_NA20815\n",
       "rs11773627 2               2               ⋯ 2               2              \n",
       "rs6972374  0               1               ⋯ 0               2              \n",
       "rs12666575 2               1               ⋯ 2               0              \n",
       "rs11766575 2               1               ⋯ 2               0              \n",
       "rs4721264  2               1               ⋯ 2               0              \n",
       "rs62442944 2               2               ⋯ 2               2              \n",
       "           NA20818_NA20818 NA20819_NA20819 NA20821_NA20821 NA20822_NA20822\n",
       "rs11773627 2               2               1               1              \n",
       "rs6972374  1               1               1               1              \n",
       "rs12666575 1               1               2               2              \n",
       "rs11766575 1               1               2               2              \n",
       "rs4721264  1               0               2               2              \n",
       "rs62442944 2               2               1               1              \n",
       "           NA20826_NA20826 NA20827_NA20827 NA20828_NA20828 NA20832_NA20832\n",
       "rs11773627 1               2               0               1              \n",
       "rs6972374  2               2               2               1              \n",
       "rs12666575 1               0               2               2              \n",
       "rs11766575 1               0               2               2              \n",
       "rs4721264  1               0               2               2              \n",
       "rs62442944 1               2               0               1              "
      ]
     },
     "metadata": {},
     "output_type": "display_data"
    },
    {
     "data": {
      "text/html": [
       "<table class=\"dataframe\">\n",
       "<caption>A matrix: 6 × 489 of type dbl</caption>\n",
       "<thead>\n",
       "\t<tr><th></th><th scope=col>HG00096_HG00096</th><th scope=col>HG00097_HG00097</th><th scope=col>HG00099_HG00099</th><th scope=col>HG00101_HG00101</th><th scope=col>HG00102_HG00102</th><th scope=col>HG00103_HG00103</th><th scope=col>HG00105_HG00105</th><th scope=col>HG00107_HG00107</th><th scope=col>HG00108_HG00108</th><th scope=col>HG00109_HG00109</th><th scope=col>⋯</th><th scope=col>NA20814_NA20814</th><th scope=col>NA20815_NA20815</th><th scope=col>NA20818_NA20818</th><th scope=col>NA20819_NA20819</th><th scope=col>NA20821_NA20821</th><th scope=col>NA20822_NA20822</th><th scope=col>NA20826_NA20826</th><th scope=col>NA20827_NA20827</th><th scope=col>NA20828_NA20828</th><th scope=col>NA20832_NA20832</th></tr>\n",
       "</thead>\n",
       "<tbody>\n",
       "\t<tr><th scope=row>rs11773627</th><td>2</td><td>1</td><td>2</td><td>1</td><td>1</td><td>2</td><td>2</td><td>2</td><td>2</td><td>2</td><td>⋯</td><td>2</td><td>2</td><td>2</td><td>2</td><td>1</td><td>1</td><td>1</td><td>2</td><td>0</td><td>1</td></tr>\n",
       "\t<tr><th scope=row>rs6972374</th><td>2</td><td>2</td><td>1</td><td>2</td><td>1</td><td>1</td><td>1</td><td>2</td><td>0</td><td>1</td><td>⋯</td><td>0</td><td>2</td><td>1</td><td>1</td><td>1</td><td>1</td><td>2</td><td>2</td><td>2</td><td>1</td></tr>\n",
       "\t<tr><th scope=row>rs12666575</th><td>0</td><td>1</td><td>1</td><td>1</td><td>2</td><td>1</td><td>1</td><td>0</td><td>2</td><td>1</td><td>⋯</td><td>2</td><td>0</td><td>1</td><td>1</td><td>2</td><td>2</td><td>1</td><td>0</td><td>2</td><td>2</td></tr>\n",
       "\t<tr><th scope=row>rs11766575</th><td>0</td><td>1</td><td>1</td><td>1</td><td>2</td><td>1</td><td>1</td><td>0</td><td>2</td><td>1</td><td>⋯</td><td>2</td><td>0</td><td>1</td><td>1</td><td>2</td><td>2</td><td>1</td><td>0</td><td>2</td><td>2</td></tr>\n",
       "\t<tr><th scope=row>rs4721264</th><td>0</td><td>1</td><td>1</td><td>1</td><td>1</td><td>1</td><td>1</td><td>0</td><td>2</td><td>1</td><td>⋯</td><td>2</td><td>0</td><td>1</td><td>0</td><td>2</td><td>2</td><td>1</td><td>0</td><td>2</td><td>2</td></tr>\n",
       "\t<tr><th scope=row>rs62442944</th><td>2</td><td>1</td><td>2</td><td>1</td><td>1</td><td>2</td><td>2</td><td>2</td><td>2</td><td>2</td><td>⋯</td><td>2</td><td>2</td><td>2</td><td>2</td><td>1</td><td>1</td><td>1</td><td>2</td><td>0</td><td>1</td></tr>\n",
       "</tbody>\n",
       "</table>\n"
      ],
      "text/latex": [
       "A matrix: 6 × 489 of type dbl\n",
       "\\begin{tabular}{r|lllllllllllllllllllll}\n",
       "  & HG00096\\_HG00096 & HG00097\\_HG00097 & HG00099\\_HG00099 & HG00101\\_HG00101 & HG00102\\_HG00102 & HG00103\\_HG00103 & HG00105\\_HG00105 & HG00107\\_HG00107 & HG00108\\_HG00108 & HG00109\\_HG00109 & ⋯ & NA20814\\_NA20814 & NA20815\\_NA20815 & NA20818\\_NA20818 & NA20819\\_NA20819 & NA20821\\_NA20821 & NA20822\\_NA20822 & NA20826\\_NA20826 & NA20827\\_NA20827 & NA20828\\_NA20828 & NA20832\\_NA20832\\\\\n",
       "\\hline\n",
       "\trs11773627 & 2 & 1 & 2 & 1 & 1 & 2 & 2 & 2 & 2 & 2 & ⋯ & 2 & 2 & 2 & 2 & 1 & 1 & 1 & 2 & 0 & 1\\\\\n",
       "\trs6972374 & 2 & 2 & 1 & 2 & 1 & 1 & 1 & 2 & 0 & 1 & ⋯ & 0 & 2 & 1 & 1 & 1 & 1 & 2 & 2 & 2 & 1\\\\\n",
       "\trs12666575 & 0 & 1 & 1 & 1 & 2 & 1 & 1 & 0 & 2 & 1 & ⋯ & 2 & 0 & 1 & 1 & 2 & 2 & 1 & 0 & 2 & 2\\\\\n",
       "\trs11766575 & 0 & 1 & 1 & 1 & 2 & 1 & 1 & 0 & 2 & 1 & ⋯ & 2 & 0 & 1 & 1 & 2 & 2 & 1 & 0 & 2 & 2\\\\\n",
       "\trs4721264 & 0 & 1 & 1 & 1 & 1 & 1 & 1 & 0 & 2 & 1 & ⋯ & 2 & 0 & 1 & 0 & 2 & 2 & 1 & 0 & 2 & 2\\\\\n",
       "\trs62442944 & 2 & 1 & 2 & 1 & 1 & 2 & 2 & 2 & 2 & 2 & ⋯ & 2 & 2 & 2 & 2 & 1 & 1 & 1 & 2 & 0 & 1\\\\\n",
       "\\end{tabular}\n"
      ],
      "text/markdown": [
       "\n",
       "A matrix: 6 × 489 of type dbl\n",
       "\n",
       "| <!--/--> | HG00096_HG00096 | HG00097_HG00097 | HG00099_HG00099 | HG00101_HG00101 | HG00102_HG00102 | HG00103_HG00103 | HG00105_HG00105 | HG00107_HG00107 | HG00108_HG00108 | HG00109_HG00109 | ⋯ | NA20814_NA20814 | NA20815_NA20815 | NA20818_NA20818 | NA20819_NA20819 | NA20821_NA20821 | NA20822_NA20822 | NA20826_NA20826 | NA20827_NA20827 | NA20828_NA20828 | NA20832_NA20832 |\n",
       "|---|---|---|---|---|---|---|---|---|---|---|---|---|---|---|---|---|---|---|---|---|---|\n",
       "| rs11773627 | 2 | 1 | 2 | 1 | 1 | 2 | 2 | 2 | 2 | 2 | ⋯ | 2 | 2 | 2 | 2 | 1 | 1 | 1 | 2 | 0 | 1 |\n",
       "| rs6972374 | 2 | 2 | 1 | 2 | 1 | 1 | 1 | 2 | 0 | 1 | ⋯ | 0 | 2 | 1 | 1 | 1 | 1 | 2 | 2 | 2 | 1 |\n",
       "| rs12666575 | 0 | 1 | 1 | 1 | 2 | 1 | 1 | 0 | 2 | 1 | ⋯ | 2 | 0 | 1 | 1 | 2 | 2 | 1 | 0 | 2 | 2 |\n",
       "| rs11766575 | 0 | 1 | 1 | 1 | 2 | 1 | 1 | 0 | 2 | 1 | ⋯ | 2 | 0 | 1 | 1 | 2 | 2 | 1 | 0 | 2 | 2 |\n",
       "| rs4721264 | 0 | 1 | 1 | 1 | 1 | 1 | 1 | 0 | 2 | 1 | ⋯ | 2 | 0 | 1 | 0 | 2 | 2 | 1 | 0 | 2 | 2 |\n",
       "| rs62442944 | 2 | 1 | 2 | 1 | 1 | 2 | 2 | 2 | 2 | 2 | ⋯ | 2 | 2 | 2 | 2 | 1 | 1 | 1 | 2 | 0 | 1 |\n",
       "\n"
      ],
      "text/plain": [
       "           HG00096_HG00096 HG00097_HG00097 HG00099_HG00099 HG00101_HG00101\n",
       "rs11773627 2               1               2               1              \n",
       "rs6972374  2               2               1               2              \n",
       "rs12666575 0               1               1               1              \n",
       "rs11766575 0               1               1               1              \n",
       "rs4721264  0               1               1               1              \n",
       "rs62442944 2               1               2               1              \n",
       "           HG00102_HG00102 HG00103_HG00103 HG00105_HG00105 HG00107_HG00107\n",
       "rs11773627 1               2               2               2              \n",
       "rs6972374  1               1               1               2              \n",
       "rs12666575 2               1               1               0              \n",
       "rs11766575 2               1               1               0              \n",
       "rs4721264  1               1               1               0              \n",
       "rs62442944 1               2               2               2              \n",
       "           HG00108_HG00108 HG00109_HG00109 ⋯ NA20814_NA20814 NA20815_NA20815\n",
       "rs11773627 2               2               ⋯ 2               2              \n",
       "rs6972374  0               1               ⋯ 0               2              \n",
       "rs12666575 2               1               ⋯ 2               0              \n",
       "rs11766575 2               1               ⋯ 2               0              \n",
       "rs4721264  2               1               ⋯ 2               0              \n",
       "rs62442944 2               2               ⋯ 2               2              \n",
       "           NA20818_NA20818 NA20819_NA20819 NA20821_NA20821 NA20822_NA20822\n",
       "rs11773627 2               2               1               1              \n",
       "rs6972374  1               1               1               1              \n",
       "rs12666575 1               1               2               2              \n",
       "rs11766575 1               1               2               2              \n",
       "rs4721264  1               0               2               2              \n",
       "rs62442944 2               2               1               1              \n",
       "           NA20826_NA20826 NA20827_NA20827 NA20828_NA20828 NA20832_NA20832\n",
       "rs11773627 1               2               0               1              \n",
       "rs6972374  2               2               2               1              \n",
       "rs12666575 1               0               2               2              \n",
       "rs11766575 1               0               2               2              \n",
       "rs4721264  1               0               2               2              \n",
       "rs62442944 1               2               0               1              "
      ]
     },
     "metadata": {},
     "output_type": "display_data"
    }
   ],
   "source": [
    "# Find rows that are perfect matches between snp.1kg.eur2 and snp.1kg.eur3\n",
    "match_indices <- which(apply(snp.1kg.eur2 == snp.1kg.eur3, 1, all))\n",
    "\n",
    "# Create new dataframes showing rows that are perfect matches\n",
    "snp.1kg.eur2.match <- snp.1kg.eur2[match_indices, ]\n",
    "snp.1kg.eur3.match <- snp.1kg.eur3[match_indices, ]\n",
    "\n",
    "dim(snp.1kg.eur2.match)\n",
    "dim(snp.1kg.eur3.match)\n",
    "\n",
    "# Display the new dataframes\n",
    "head(snp.1kg.eur2.match)\n",
    "head(snp.1kg.eur3.match)\n"
   ]
  },
  {
   "cell_type": "markdown",
   "id": "796ee601-b1e3-408f-8f5f-bd55e7963973",
   "metadata": {},
   "source": [
    "As another sanity check, let's now rerun with our new, but subsetted to kinda match, snp.1kg.eur2 files."
   ]
  },
  {
   "cell_type": "code",
   "execution_count": null,
   "id": "d49cca78-0793-4208-b18c-51324adcf6e8",
   "metadata": {},
   "outputs": [],
   "source": [
    "snp.1kg.eur2 <- snp.1kg.eur3\n",
    "map.1kg.eur2 <- map.1kg.eur3"
   ]
  },
  {
   "cell_type": "markdown",
   "id": "705451fc-b1eb-4802-aef2-0d0f294a8d0d",
   "metadata": {},
   "source": [
    "Also remember to look at Manhattan plots and compare them"
   ]
  },
  {
   "cell_type": "code",
   "execution_count": null,
   "id": "b5856bef-381c-457b-8c6e-c4b9024121b3",
   "metadata": {},
   "outputs": [],
   "source": []
  },
  {
   "cell_type": "markdown",
   "id": "882a7c0a-0ec2-4aa2-be3c-a2f152126bd8",
   "metadata": {},
   "source": [
    "### Set window size and any other parameters"
   ]
  },
  {
   "cell_type": "code",
   "execution_count": null,
   "id": "461263e5-8c47-40ae-b3e4-03dbea4820e8",
   "metadata": {},
   "outputs": [],
   "source": [
    "wind <- 10000"
   ]
  },
  {
   "cell_type": "markdown",
   "id": "0849e5e3-af47-480f-82ca-97b07d1dd943",
   "metadata": {},
   "source": [
    "Is 1se vs min for lambda the problem?"
   ]
  },
  {
   "cell_type": "markdown",
   "id": "b0244eba-060a-4ac3-966c-cb68deb41cb0",
   "metadata": {},
   "source": [
    "#### Final formatting steps to prepare for MWAS - sort samples"
   ]
  },
  {
   "cell_type": "code",
   "execution_count": null,
   "id": "f41f9c4d-1489-45a4-ad25-d446a05980bf",
   "metadata": {},
   "outputs": [],
   "source": [
    "p.residual <- p.residual[, order(colnames(p.residual))]"
   ]
  },
  {
   "cell_type": "code",
   "execution_count": null,
   "id": "65857cda-1517-4854-a1e1-5af6459cbdca",
   "metadata": {},
   "outputs": [],
   "source": [
    "snp3 <- snp3[, colnames(snp3) %in% colnames(p.residual)]"
   ]
  },
  {
   "cell_type": "code",
   "execution_count": null,
   "id": "7ab51668-a9da-4913-a8ee-41aa0d49550e",
   "metadata": {},
   "outputs": [],
   "source": [
    "snp3 <- snp3[, order(colnames(snp3))]"
   ]
  },
  {
   "cell_type": "markdown",
   "id": "768cf092-82d8-46e6-b322-efd6e09bbb73",
   "metadata": {},
   "source": [
    "## MWAS"
   ]
  },
  {
   "cell_type": "markdown",
   "id": "c3720675-e92d-46ee-b5a6-66d71d367dc4",
   "metadata": {},
   "source": [
    "### With `lambda.1se`"
   ]
  },
  {
   "cell_type": "markdown",
   "id": "cfc14c0f-1e12-4108-97fc-ab66a6467640",
   "metadata": {},
   "source": [
    "#### Stage 1"
   ]
  },
  {
   "cell_type": "markdown",
   "id": "7cde5d54-d8c6-4f26-b992-cd06803bafc3",
   "metadata": {},
   "source": [
    "Quick debug: A version to see why we end up with empty `models.aa` and `models.ea`"
   ]
  },
  {
   "cell_type": "code",
   "execution_count": null,
   "id": "5d91fd24-41c3-4bed-a2d8-9baebad17d83",
   "metadata": {},
   "outputs": [],
   "source": []
  },
  {
   "cell_type": "code",
   "execution_count": null,
   "id": "f1394b5f-aa91-46d0-8dce-2893edd40e2c",
   "metadata": {},
   "outputs": [],
   "source": [
    "head(map3)"
   ]
  },
  {
   "cell_type": "code",
   "execution_count": null,
   "id": "9e6f43e4-4b69-4c73-9155-0b22a9eb5c69",
   "metadata": {},
   "outputs": [],
   "source": [
    "head(cg)"
   ]
  },
  {
   "cell_type": "code",
   "execution_count": null,
   "id": "77341afb-cba2-45dc-9101-9663192c7290",
   "metadata": {},
   "outputs": [],
   "source": [
    "head(wind)"
   ]
  },
  {
   "cell_type": "code",
   "execution_count": null,
   "id": "9b2f9469-7609-4675-b94e-4d449db46529",
   "metadata": {},
   "outputs": [],
   "source": []
  },
  {
   "cell_type": "code",
   "execution_count": null,
   "id": "305409c3-5abb-49c2-9914-6fd958064abf",
   "metadata": {},
   "outputs": [],
   "source": [
    "set.seed(42)\n",
    "for(k in 1:length(wind)){\n",
    "    models.ea <- c()\n",
    "    models.all <- c()\n",
    "    for(i in 1:length(cg)){\n",
    "    print(i)\n",
    "    #for(i in 1){\n",
    "            #cat(i,\"\\n\")\n",
    "            #print(paste0(\"This cg is: \", cg[i]))\n",
    "            range1 <- ifelse(cg[i] - wind[k] > 0,cg[i] - wind[k],0)\n",
    "            range2 <- cg[i] + wind[k]\n",
    "            idx <- map3$POS > range1 & map3$POS < range2\n",
    "            # go to next cg if no snps within window\n",
    "            if(sum(idx) <= 1){\n",
    "                    next\n",
    "            }\n",
    "            geno <- snp3[idx,] # changed snp2 to snp3\n",
    "            rownames(geno) <- map3$POS[idx]\n",
    "            trainX <- t(geno)\n",
    "            trainY <- p.residual[i,]\n",
    "            fit <- elastic.net(trainX,trainY, \"1se\")\n",
    "            fit <- tryCatch(\n",
    "                    elastic.net(trainX,trainY, \"1se\"),\n",
    "                    error = function(e) {return (\"err\")})\n",
    "            if(!is.data.frame(fit)){\n",
    "                if(fit == \"err\"){\n",
    "                    next\n",
    "                }\n",
    "            }\n",
    "            if(nrow(fit) == 0) next\n",
    "\n",
    "            fit$cg <- cg[i]\n",
    "            models.all <- rbind(models.all,fit)\n",
    "            # EA only\n",
    "            trainX <- trainX[idx.ea,]\n",
    "            if(sum(apply(trainX,2,var)!=0) <= 1){\n",
    "                    next\n",
    "            }\n",
    "            trainY <- trainY[idx.ea]\n",
    "            fit <- tryCatch(\n",
    "                    elastic.net(trainX,trainY, \"1se\"),\n",
    "                    error = function(e) {return (\"err\")})\n",
    "            if(!is.data.frame(fit)){\n",
    "                if(fit == \"err\"){\n",
    "                    next\n",
    "                }\n",
    "            }\n",
    "            if(nrow(fit) == 0) next\n",
    "            fit$cg <- cg[i]\n",
    "            models.ea <- rbind(models.ea,fit)\n",
    "    }\n",
    "}"
   ]
  },
  {
   "cell_type": "code",
   "execution_count": null,
   "id": "3d109e75-bf26-43f5-8a0d-d6bb2f9cbe6b",
   "metadata": {},
   "outputs": [],
   "source": [
    "models.ea <- models.ea[models.ea[,1] != \"(Intercept)\",]\n",
    "models.all <- models.all[models.all[,1] != \"(Intercept)\",]"
   ]
  },
  {
   "cell_type": "markdown",
   "id": "9f851085-6f8e-4b8e-91fb-5696125a32be",
   "metadata": {},
   "source": [
    "#### Stage 2"
   ]
  },
  {
   "cell_type": "code",
   "execution_count": null,
   "id": "ad0d6d07-06f6-403d-8496-5dd34d8ba4b1",
   "metadata": {},
   "outputs": [],
   "source": [
    "if(!dir.exists(outd)) dir.create(outd)"
   ]
  },
  {
   "cell_type": "code",
   "execution_count": null,
   "id": "96693eaa-eb61-415a-b5d8-6034f0a4d150",
   "metadata": {},
   "outputs": [],
   "source": [
    "set.seed(42)\n",
    "# mwas by models of all samples\n",
    "cg2 <- unique(models.all$cg)\n",
    "mwas.all <- matrix(0,nrow=length(cg2),ncol=2)\n",
    "\n",
    "for(i in 1:length(cg2)){\n",
    "    pos <- models.all[models.all$cg == cg2[i],1]\n",
    "    gwas <- snp.gwas2$z[is.element(snp.gwas2$pos_hg38, pos)]\n",
    "    weight <- models.all[models.all$cg == cg2[i],2]\n",
    "    #geno <- snp.1kg.eur2[match(pos,map.1kg.eur2$POS),]\n",
    "\n",
    "    match_indices <- match(pos, map.1kg.eur2$POS)\n",
    "\n",
    "    tryCatch({\n",
    "        geno <- snp.1kg.eur2[match_indices, , drop = FALSE]\n",
    "    }, error = function(e) {\n",
    "        cat(\"Error accessing genotype data at iteration:\", i, \"\\n\")\n",
    "        cat(\"Error message:\", e$message, \"\\n\")\n",
    "        stop(\"Stopping execution due to error.\")\n",
    "    })\n",
    "\n",
    "    tryCatch({\n",
    "        mwas.all[i,] <- MWAS(gwas, weight, t(geno))\n",
    "    }, error = function(e) {\n",
    "        cat(\"Error at iteration:\", i, \"\\n\")\n",
    "        cat(\"cg2[i]:\", cg2[i], \"\\n\")\n",
    "        cat(\"gwas:\\n\")\n",
    "        print(gwas)\n",
    "        cat(\"weight:\\n\")\n",
    "        print(weight)\n",
    "        stop(e)\n",
    "    })\n",
    "}\n",
    "\n",
    "rownames(mwas.all) <- cg2\n",
    "colnames(mwas.all) <- c(\"z\",\"p\")"
   ]
  },
  {
   "cell_type": "code",
   "execution_count": null,
   "id": "a473f0ba-f50b-45ad-81b4-7428db19f4b9",
   "metadata": {},
   "outputs": [],
   "source": [
    "gwas"
   ]
  },
  {
   "cell_type": "code",
   "execution_count": null,
   "id": "6efcb1d4-8d6e-4043-9f2f-671b3f739d95",
   "metadata": {},
   "outputs": [],
   "source": [
    "weight"
   ]
  },
  {
   "cell_type": "code",
   "execution_count": null,
   "id": "fff88e9a-ba5e-4ef7-bd31-f8474f93c2a1",
   "metadata": {},
   "outputs": [],
   "source": []
  },
  {
   "cell_type": "code",
   "execution_count": null,
   "id": "65066b5d-bbae-4afa-b648-d635971cd251",
   "metadata": {},
   "outputs": [],
   "source": []
  },
  {
   "cell_type": "code",
   "execution_count": null,
   "id": "a4314a84-5d2e-4c56-83d4-692912ee5f79",
   "metadata": {},
   "outputs": [],
   "source": [
    "i"
   ]
  },
  {
   "cell_type": "code",
   "execution_count": null,
   "id": "170e9bd7-6652-423a-b58b-3dd771d4cc0d",
   "metadata": {},
   "outputs": [],
   "source": [
    "pos"
   ]
  },
  {
   "cell_type": "code",
   "execution_count": null,
   "id": "b493791d-c9a3-42bb-af38-5fc978f5aa8e",
   "metadata": {},
   "outputs": [],
   "source": [
    "gwas"
   ]
  },
  {
   "cell_type": "code",
   "execution_count": null,
   "id": "ede13b23-ec79-4861-a0f4-4f2bd2bb07f0",
   "metadata": {},
   "outputs": [],
   "source": [
    "length(pos)"
   ]
  },
  {
   "cell_type": "code",
   "execution_count": null,
   "id": "5cd8089c-2616-4eda-8b67-d102a50cfd79",
   "metadata": {},
   "outputs": [],
   "source": [
    "length(gwas)"
   ]
  },
  {
   "cell_type": "code",
   "execution_count": null,
   "id": "8e13c25a-1b93-4186-b614-ea68f07dba7d",
   "metadata": {},
   "outputs": [],
   "source": [
    "models.all[models.all$cg == cg2[i], ]"
   ]
  },
  {
   "cell_type": "code",
   "execution_count": null,
   "id": "0f3ea4dd-de72-40df-91d6-4deee103e85c",
   "metadata": {},
   "outputs": [],
   "source": [
    "snp.gwas2[is.element(snp.gwas2$pos_hg38, pos), ]"
   ]
  },
  {
   "cell_type": "code",
   "execution_count": null,
   "id": "6c26320f-8327-4798-a4a8-688da8a232cd",
   "metadata": {},
   "outputs": [],
   "source": []
  },
  {
   "cell_type": "code",
   "execution_count": null,
   "id": "a3409bbc-aad9-4e4e-a96e-8a2708013cea",
   "metadata": {},
   "outputs": [],
   "source": []
  },
  {
   "cell_type": "code",
   "execution_count": null,
   "id": "0c31ad3e-4c74-4b93-bed1-c628df41a756",
   "metadata": {},
   "outputs": [],
   "source": [
    "# Why do we get non-conformable arguments for iteration 57?"
   ]
  },
  {
   "cell_type": "code",
   "execution_count": null,
   "id": "af58f5cb-4dac-40e0-976c-8fef56a53ad9",
   "metadata": {},
   "outputs": [],
   "source": []
  },
  {
   "cell_type": "code",
   "execution_count": null,
   "id": "c4a157bc-a24d-4bf8-bb5c-e5359747c5df",
   "metadata": {},
   "outputs": [],
   "source": []
  },
  {
   "cell_type": "code",
   "execution_count": null,
   "id": "900dd643-8906-41aa-9658-7fbfd394ee3d",
   "metadata": {},
   "outputs": [],
   "source": []
  },
  {
   "cell_type": "code",
   "execution_count": null,
   "id": "dccc0ad7-c8ec-47b9-8fd1-204576e6482e",
   "metadata": {},
   "outputs": [],
   "source": [
    "weight"
   ]
  },
  {
   "cell_type": "code",
   "execution_count": null,
   "id": "55bb7b60-c52c-4462-9a53-8d103db474a7",
   "metadata": {},
   "outputs": [],
   "source": [
    "length(weight)"
   ]
  },
  {
   "cell_type": "code",
   "execution_count": null,
   "id": "6804d2d5-c798-48ba-bdef-e073d0e61788",
   "metadata": {},
   "outputs": [],
   "source": [
    "gwas"
   ]
  },
  {
   "cell_type": "code",
   "execution_count": null,
   "id": "f1f81f5a-dd46-4180-86fc-2dcd9ae390c5",
   "metadata": {},
   "outputs": [],
   "source": [
    "length(gwas)"
   ]
  },
  {
   "cell_type": "code",
   "execution_count": null,
   "id": "b78985e2-cb5d-4c1d-adf4-d22a1f5dae0b",
   "metadata": {},
   "outputs": [],
   "source": [
    "head(gwas)"
   ]
  },
  {
   "cell_type": "code",
   "execution_count": null,
   "id": "a7639e85-621f-44e4-bae1-93f2f9e800f2",
   "metadata": {},
   "outputs": [],
   "source": [
    "head(map3)"
   ]
  },
  {
   "cell_type": "code",
   "execution_count": null,
   "id": "387129e1-c89e-40b2-9f02-0ee18c3272fd",
   "metadata": {},
   "outputs": [],
   "source": [
    "head(geno)"
   ]
  },
  {
   "cell_type": "code",
   "execution_count": null,
   "id": "c5fbba20-e398-4e3d-8c18-c99857820da5",
   "metadata": {},
   "outputs": [],
   "source": [
    "# mwas by models of EA samples\n",
    "cg2 <- unique(models.ea$cg)\n",
    "mwas.ea <- matrix(0,nrow=length(cg2),ncol=2)\n",
    "for(i in 1:length(cg2)){\n",
    "        pos <- models.ea[models.ea$cg == cg2[i],1]\n",
    "        gwas <- snp.gwas2$z[is.element(snp.gwas2$pos_hg38, pos)]\n",
    "        weight <- models.ea[models.ea$cg == cg2[i],2]\n",
    "        #geno <- snp.1kg.eur2[match(pos,map.1kg.eur2$POS),]\n",
    "\n",
    "        match_indices <- match(pos, map.1kg.eur2$POS)\n",
    "\n",
    "        tryCatch({\n",
    "            geno <- snp.1kg.eur2[match_indices, , drop = FALSE]\n",
    "        }, error = function(e) {\n",
    "            cat(\"Error accessing genotype data at iteration:\", i, \"\\n\")\n",
    "            cat(\"Error message:\", e$message, \"\\n\")\n",
    "            stop(\"Stopping execution due to error.\")\n",
    "        })    \n",
    "    \n",
    "        mwas.ea[i,] <- MWAS(gwas, weight, t(geno))\n",
    "}\n",
    "rownames(mwas.ea) <- cg2\n",
    "colnames(mwas.ea) <- c(\"z\",\"p\")"
   ]
  },
  {
   "cell_type": "code",
   "execution_count": null,
   "id": "207bf56e-0680-4f1b-a54d-f5e4b68cf77d",
   "metadata": {},
   "outputs": [],
   "source": [
    "head(mwas.all)"
   ]
  },
  {
   "cell_type": "code",
   "execution_count": null,
   "id": "4b88eb34-6d44-4fe7-ad8a-c49dc1a71a81",
   "metadata": {},
   "outputs": [],
   "source": [
    "mwas.all.1se <- mwas.all"
   ]
  },
  {
   "cell_type": "markdown",
   "id": "0765a889-36b0-4d87-bd66-4f33dbea0de5",
   "metadata": {},
   "source": [
    "### With `lambda.min`"
   ]
  },
  {
   "cell_type": "markdown",
   "id": "047c1cca-57f3-494d-9f25-08d7959713d9",
   "metadata": {},
   "source": [
    "#### Stage 1"
   ]
  },
  {
   "cell_type": "code",
   "execution_count": null,
   "id": "61a5f950-2c27-40b1-aa96-809004183249",
   "metadata": {},
   "outputs": [],
   "source": [
    "set.seed(42)\n",
    "for(k in 1:length(wind)){\n",
    "    models.ea <- c()\n",
    "    models.all <- c()\n",
    "    for(i in 1:length(cg)){\n",
    "    #for(i in 1){\n",
    "        #cat(i,\"\\n\")\n",
    "        #print(paste0(\"This cg is: \", cg[i]))\n",
    "        range1 <- ifelse(cg[i] - wind[k] > 0,cg[i] - wind[k],0)\n",
    "        range2 <- cg[i] + wind[k]\n",
    "        idx <- map3$POS > range1 & map3$POS < range2\n",
    "        # go to next cg if no snps within window\n",
    "        if(sum(idx) <= 1){\n",
    "                next\n",
    "        }\n",
    "        geno <- snp3[idx,] # changed snp2 to snp3\n",
    "        rownames(geno) <- map3$POS[idx]\n",
    "        trainX <- t(geno)\n",
    "        trainY <- p.residual[i,]\n",
    "        fit <- elastic.net(trainX,trainY)\n",
    "        fit <- tryCatch(\n",
    "                elastic.net(trainX,trainY, \"min\"),\n",
    "                error = function(e) {return (\"err\")})\n",
    "        if(!is.data.frame(fit)){\n",
    "            if(fit == \"err\"){\n",
    "                next\n",
    "            }\n",
    "        }\n",
    "        if(nrow(fit) == 0) next\n",
    "\n",
    "        fit$cg <- cg[i]\n",
    "        models.all <- rbind(models.all,fit)\n",
    "        # EA only\n",
    "        trainX <- trainX[idx.ea,]\n",
    "        if(sum(apply(trainX,2,var)!=0) <= 1){\n",
    "                next\n",
    "        }\n",
    "        trainY <- trainY[idx.ea]\n",
    "        fit <- tryCatch(\n",
    "                elastic.net(trainX,trainY, \"min\"),\n",
    "                error = function(e) {return (\"err\")})\n",
    "        if(!is.data.frame(fit)){\n",
    "            if(fit == \"err\"){\n",
    "                next\n",
    "            }\n",
    "        }\n",
    "        if(nrow(fit) == 0) next\n",
    "        fit$cg <- cg[i]\n",
    "        models.ea <- rbind(models.ea,fit)\n",
    "    }\n",
    "}"
   ]
  },
  {
   "cell_type": "code",
   "execution_count": null,
   "id": "edde27e7-2435-474e-8fee-5870af257547",
   "metadata": {},
   "outputs": [],
   "source": [
    "models.ea <- models.ea[models.ea[,1] != \"(Intercept)\",]\n",
    "models.all <- models.all[models.all[,1] != \"(Intercept)\",]"
   ]
  },
  {
   "cell_type": "markdown",
   "id": "e1a14145-108e-4f1c-9abb-fd4744ba5105",
   "metadata": {},
   "source": [
    "#### Stage 2"
   ]
  },
  {
   "cell_type": "code",
   "execution_count": null,
   "id": "582b72bb-156b-4d61-9a28-b6e07b2feee6",
   "metadata": {},
   "outputs": [],
   "source": [
    "if(!dir.exists(outd)) dir.create(outd)"
   ]
  },
  {
   "cell_type": "code",
   "execution_count": null,
   "id": "0dc61fc5-dcd5-41ca-b76d-61e379df41fc",
   "metadata": {},
   "outputs": [],
   "source": [
    "set.seed(42)\n",
    "# mwas by models of all samples\n",
    "cg2 <- unique(models.all$cg)\n",
    "mwas.all <- matrix(0,nrow=length(cg2),ncol=2)\n",
    "for(i in 1:length(cg2)){\n",
    "    pos <- models.all[models.all$cg == cg2[i],1]\n",
    "    gwas <- snp.gwas2$z[is.element(snp.gwas2$pos_hg38, pos)]\n",
    "    weight <- models.all[models.all$cg == cg2[i],2]\n",
    "    #geno <- snp.1kg.eur2[match(pos,map.1kg.eur2$POS),]\n",
    "\n",
    "    match_indices <- match(pos, map.1kg.eur2$POS)\n",
    "\n",
    "    tryCatch({\n",
    "        geno <- snp.1kg.eur2[match_indices, , drop = FALSE]\n",
    "    }, error = function(e) {\n",
    "        cat(\"Error accessing genotype data at iteration:\", i, \"\\n\")\n",
    "        cat(\"Error message:\", e$message, \"\\n\")\n",
    "        stop(\"Stopping execution due to error.\")\n",
    "    })\n",
    "\n",
    "    mwas.all[i,] <- MWAS(gwas, weight, t(geno))\n",
    "}\n",
    "rownames(mwas.all) <- cg2\n",
    "colnames(mwas.all) <- c(\"z\",\"p\")"
   ]
  },
  {
   "cell_type": "code",
   "execution_count": null,
   "id": "4002b896-fbac-46f7-aae3-671083aa49d7",
   "metadata": {},
   "outputs": [],
   "source": [
    "# mwas by models of EA samples\n",
    "cg2 <- unique(models.ea$cg)\n",
    "mwas.ea <- matrix(0,nrow=length(cg2),ncol=2)\n",
    "for(i in 1:length(cg2)){\n",
    "    pos <- models.ea[models.ea$cg == cg2[i],1]\n",
    "    gwas <- snp.gwas2$z[is.element(snp.gwas2$pos_hg38, pos)]\n",
    "    weight <- models.ea[models.ea$cg == cg2[i],2]\n",
    "    #geno <- snp.1kg.eur2[match(pos,map.1kg.eur2$POS),]\n",
    "\n",
    "    match_indices <- match(pos, map.1kg.eur2$POS)\n",
    "\n",
    "    tryCatch({\n",
    "        geno <- snp.1kg.eur2[match_indices, , drop = FALSE]\n",
    "    }, error = function(e) {\n",
    "        cat(\"Error accessing genotype data at iteration:\", i, \"\\n\")\n",
    "        cat(\"Error message:\", e$message, \"\\n\")\n",
    "        stop(\"Stopping execution due to error.\")\n",
    "    })    \n",
    "\n",
    "    mwas.ea[i,] <- MWAS(gwas, weight, t(geno))\n",
    "}\n",
    "rownames(mwas.ea) <- cg2\n",
    "colnames(mwas.ea) <- c(\"z\",\"p\")"
   ]
  },
  {
   "cell_type": "code",
   "execution_count": null,
   "id": "4131a37d-d770-49e0-b06e-f7731eda00d6",
   "metadata": {
    "scrolled": true
   },
   "outputs": [],
   "source": [
    "head(mwas.all)"
   ]
  },
  {
   "cell_type": "code",
   "execution_count": null,
   "id": "b30cbbe2-8dc6-4d04-b454-30c6216b87ee",
   "metadata": {},
   "outputs": [],
   "source": [
    "mwas.all.min <- mwas.all"
   ]
  },
  {
   "cell_type": "markdown",
   "id": "87456298-fa83-4288-9607-7d4d4457a01a",
   "metadata": {},
   "source": [
    "## Compare"
   ]
  },
  {
   "cell_type": "code",
   "execution_count": null,
   "id": "d8b4153c-b4a2-4add-b174-8a9945da6962",
   "metadata": {},
   "outputs": [],
   "source": [
    "mwas.all.1se"
   ]
  },
  {
   "cell_type": "code",
   "execution_count": null,
   "id": "41f09f92-953b-44f8-a682-db1cc9baf86a",
   "metadata": {},
   "outputs": [],
   "source": [
    "mwas.all.min"
   ]
  },
  {
   "cell_type": "code",
   "execution_count": null,
   "id": "da310ebe-3fe8-45f4-b3e0-3482f4487c9a",
   "metadata": {},
   "outputs": [],
   "source": [
    "library(ggplot2)"
   ]
  },
  {
   "cell_type": "code",
   "execution_count": null,
   "id": "721c36b4-2130-4e3b-9d33-d9f6ef27c7c4",
   "metadata": {},
   "outputs": [],
   "source": [
    "mwas.all.1se <- as.data.frame(mwas.all.1se)\n",
    "mwas.all.min <- as.data.frame(mwas.all.min)\n",
    "\n",
    "mwas.all.1se$pos <- rownames(mwas.all.1se)\n",
    "mwas.all.min$pos <- rownames(mwas.all.min)\n",
    "\n",
    "rownames(mwas.all.1se) <- rownames(mwas.all.min) <- NULL\n",
    "\n",
    "colnames(mwas.all.1se)[2] <- \"pval.lambda.1se\"\n",
    "colnames(mwas.all.min)[2] <- \"pval.lambda.min\"\n",
    "\n",
    "df <- merge(mwas.all.1se, mwas.all.min, by = \"pos\")\n",
    "\n",
    "ggplot(df, aes(x = -log(pval.lambda.1se, base = 10), y = -log(pval.lambda.min, base = 10))) +\n",
    "  geom_point(alpha = 0.6) +\n",
    "  labs(x = \"-log_10 of p-values (lambda.1se)\",\n",
    "       y = \"-log_10 of p-values (lambda.min)\",\n",
    "       title = \"Scattergram of MWAS p-values\",\n",
    "       subtitle = \"Comparing lambda.1se and lambda.min\") +\n",
    "  theme_minimal()"
   ]
  },
  {
   "cell_type": "code",
   "execution_count": null,
   "id": "ba334163-d310-4e59-88a1-7fd2b529151d",
   "metadata": {},
   "outputs": [],
   "source": [
    "min(df$pval.lambda.1se)"
   ]
  },
  {
   "cell_type": "code",
   "execution_count": null,
   "id": "10d87bfa-e446-4e95-85a8-a73d5d6aea58",
   "metadata": {},
   "outputs": [],
   "source": [
    "min(df$pval.lambda.1se)"
   ]
  },
  {
   "cell_type": "code",
   "execution_count": null,
   "id": "1481f858-1c1e-4ed1-b70d-397311678f33",
   "metadata": {},
   "outputs": [],
   "source": [
    "head(df)"
   ]
  },
  {
   "cell_type": "code",
   "execution_count": null,
   "id": "0db2d0ed-003d-40fb-8301-ed4adffed964",
   "metadata": {},
   "outputs": [],
   "source": [
    "df$pos <- as.numeric(df$pos)"
   ]
  },
  {
   "cell_type": "code",
   "execution_count": null,
   "id": "bd08c5ec-daae-49c9-9be3-d51875d378a3",
   "metadata": {},
   "outputs": [],
   "source": [
    "min(df$pval.lambda.1se)"
   ]
  },
  {
   "cell_type": "code",
   "execution_count": null,
   "id": "f45fed7a-aca1-4b3e-9cd9-03f3c1de7cd4",
   "metadata": {},
   "outputs": [],
   "source": [
    "min(df$pval.lambda.min)"
   ]
  },
  {
   "cell_type": "code",
   "execution_count": null,
   "id": "6913b682-43b6-46a1-a62b-e0ba15d80768",
   "metadata": {},
   "outputs": [],
   "source": [
    "library(ggplot2)\n",
    "library(scales)  # For comma formatting"
   ]
  },
  {
   "cell_type": "code",
   "execution_count": null,
   "id": "50204879-9f49-4c8f-a6db-38fa215114b0",
   "metadata": {},
   "outputs": [],
   "source": [
    "# Convert numbers to comma-separated format\n",
    "formatted_min_pos <- comma(min_site_to_test_pos)\n",
    "formatted_max_pos <- comma(max_site_to_test_pos)\n",
    "\n",
    "# Converting the data to long format if not already done\n",
    "df_long <- tidyr::pivot_longer(df, \n",
    "                               cols = c(\"pval.lambda.1se\", \"pval.lambda.min\"), \n",
    "                               names_to = \"variable\", \n",
    "                               values_to = \"pval\")\n",
    "\n",
    "# Plot with detailed title\n",
    "ggplot(df_long, aes(x = pos, y = -log(pval, base = 10), color = variable)) +\n",
    "  geom_point(alpha = 0.6) +\n",
    "  labs(x = \"Genomic Position\",\n",
    "       y = \"Log of p-values\",\n",
    "       title = paste(\"Scattergrams of MWAS p-values by Genomic Position\\nchr:\", chr,\n",
    "                     \"MAF:\", maf, \n",
    "                     \"Positions:\", formatted_min_pos, \"to\", formatted_max_pos),\n",
    "       subtitle = \"Faceted by lambda type\") +\n",
    "  scale_color_manual(values = c(\"lambda.1se\" = \"blue\", \"lambda.min\" = \"red\")) +\n",
    "  facet_wrap(~ variable, scales = \"free_y\") +\n",
    "  theme_minimal()"
   ]
  },
  {
   "cell_type": "markdown",
   "id": "9df6eb9f-4d04-4c50-b69d-d3f641157303",
   "metadata": {},
   "source": [
    "### Plot Shizhong's old results to compare"
   ]
  },
  {
   "cell_type": "code",
   "execution_count": null,
   "id": "63d195e1-e0d0-41e7-ba92-90313d9b9989",
   "metadata": {},
   "outputs": [],
   "source": [
    "library(data.table)\n",
    "library(qqman)"
   ]
  },
  {
   "cell_type": "code",
   "execution_count": null,
   "id": "30c503ca-8701-4b1f-86a5-d9d5a5571912",
   "metadata": {},
   "outputs": [],
   "source": [
    "old <- fread(\"mwas.all.wind.10000\")"
   ]
  },
  {
   "cell_type": "code",
   "execution_count": null,
   "id": "95f6c7c6-2c8d-4382-b043-cc3e32582b19",
   "metadata": {},
   "outputs": [],
   "source": [
    "head(old)"
   ]
  },
  {
   "cell_type": "code",
   "execution_count": null,
   "id": "18922aa9-0ba3-4bb3-8b69-9db5bf654230",
   "metadata": {},
   "outputs": [],
   "source": [
    "colnames(old) <- c(\"CHR\", \"BP\", \"Z\", \"P\")"
   ]
  },
  {
   "cell_type": "code",
   "execution_count": null,
   "id": "33fa8404-6bbd-4fd9-aa02-8a10480df395",
   "metadata": {},
   "outputs": [],
   "source": [
    "old$CHR <- gsub(\"chr\", \"\", old$CHR)\n",
    "old$CHR <- as.numeric(old$CHR)"
   ]
  },
  {
   "cell_type": "code",
   "execution_count": null,
   "id": "24c6dac6-4573-472b-98e0-a722c69b38ec",
   "metadata": {},
   "outputs": [],
   "source": [
    "old$SNP <- paste0(\"Chr\", old$CHR, \":\", old$BP)"
   ]
  },
  {
   "cell_type": "code",
   "execution_count": null,
   "id": "b0bdacbb-5a50-4288-8e21-fa917043e77e",
   "metadata": {},
   "outputs": [],
   "source": [
    "manhattan(old)"
   ]
  },
  {
   "cell_type": "markdown",
   "id": "a31e7b75-58f9-4ea4-9d01-ca34f31fe5eb",
   "metadata": {},
   "source": [
    "### Merging/overlap of Shizhong's results, ours."
   ]
  },
  {
   "cell_type": "code",
   "execution_count": null,
   "id": "3adff280-3287-4fa7-9f8e-530298383fcc",
   "metadata": {},
   "outputs": [],
   "source": [
    "head(old)"
   ]
  },
  {
   "cell_type": "code",
   "execution_count": null,
   "id": "8254843a-a87f-4691-a030-b2e15fe1eb60",
   "metadata": {
    "scrolled": true
   },
   "outputs": [],
   "source": [
    "head(models.all)"
   ]
  },
  {
   "cell_type": "code",
   "execution_count": null,
   "id": "12d92e3e-9ea9-4ec3-a2a9-70e6d7099b37",
   "metadata": {},
   "outputs": [],
   "source": [
    "head(df)"
   ]
  },
  {
   "cell_type": "code",
   "execution_count": null,
   "id": "a2ecaab0-f3ca-4565-a025-e6b589d2f086",
   "metadata": {},
   "outputs": [],
   "source": [
    "df$CHR <- 7"
   ]
  },
  {
   "cell_type": "code",
   "execution_count": null,
   "id": "5290da01-bf63-4544-9b7d-5971c72907ee",
   "metadata": {},
   "outputs": [],
   "source": [
    "colnames(df)"
   ]
  },
  {
   "cell_type": "code",
   "execution_count": null,
   "id": "372df21e-d255-4be8-8e1d-ac8290812557",
   "metadata": {},
   "outputs": [],
   "source": [
    "colnames(df)[1] <- \"BP\""
   ]
  },
  {
   "cell_type": "markdown",
   "id": "cd919381-193c-425a-a552-fedc24f2da94",
   "metadata": {},
   "source": [
    "### What % of CpG sites in our results are also found in Shizhongs?"
   ]
  },
  {
   "cell_type": "code",
   "execution_count": null,
   "id": "1994df44-9c3c-4137-b1cb-f47e07c07d2f",
   "metadata": {},
   "outputs": [],
   "source": [
    "head(df)"
   ]
  },
  {
   "cell_type": "code",
   "execution_count": null,
   "id": "34d767a6-542c-4f45-8161-e23fd24b1aab",
   "metadata": {},
   "outputs": [],
   "source": [
    "colnames(df)[2] <- \"Z_lambda.1se\"\n",
    "colnames(df)[4] <- \"Z_lambda.min\""
   ]
  },
  {
   "cell_type": "code",
   "execution_count": null,
   "id": "b9281343-f871-46ae-bb7c-400deedf2f1b",
   "metadata": {},
   "outputs": [],
   "source": [
    "colnames(old)[3:4] <- c(\"Z_Shizhongs_old\", \"pval.shizhongs_old\")"
   ]
  },
  {
   "cell_type": "code",
   "execution_count": null,
   "id": "cac828c1-1d9d-403d-b2c7-0711db7da571",
   "metadata": {},
   "outputs": [],
   "source": [
    "head(old)"
   ]
  },
  {
   "cell_type": "code",
   "execution_count": null,
   "id": "77ec8fc9-fc3e-4340-bd36-281fefb243db",
   "metadata": {},
   "outputs": [],
   "source": [
    "merged <- merge(old, df)"
   ]
  },
  {
   "cell_type": "code",
   "execution_count": null,
   "id": "c75e1d33-b683-4a0d-ac0f-8d8c7b2886d8",
   "metadata": {},
   "outputs": [],
   "source": [
    "head(merged)"
   ]
  },
  {
   "cell_type": "code",
   "execution_count": null,
   "id": "c93b212c-1cb3-4d26-8e20-ec727da333bc",
   "metadata": {},
   "outputs": [],
   "source": [
    "dim(old)"
   ]
  },
  {
   "cell_type": "code",
   "execution_count": null,
   "id": "20ee9fa2-afda-4171-a655-4d9dc2aa6e04",
   "metadata": {},
   "outputs": [],
   "source": [
    "dim(df)"
   ]
  },
  {
   "cell_type": "code",
   "execution_count": null,
   "id": "d97bec16-7d14-47f2-a44b-c29090290eed",
   "metadata": {},
   "outputs": [],
   "source": [
    "dim(merged)"
   ]
  },
  {
   "cell_type": "code",
   "execution_count": null,
   "id": "c6ec26ce-f679-4dc1-ad92-f0fe41dcac02",
   "metadata": {},
   "outputs": [],
   "source": [
    "length(setdiff(old$BP, df$BP))\n",
    "#setdiff(old$BP, df$BP)"
   ]
  },
  {
   "cell_type": "code",
   "execution_count": null,
   "id": "fcae7930-ba65-418f-a3de-94c9e919a719",
   "metadata": {},
   "outputs": [],
   "source": [
    "length(setdiff(df$BP, old$BP))\n",
    "setdiff(df$BP, old$BP)"
   ]
  },
  {
   "cell_type": "code",
   "execution_count": null,
   "id": "39e8961d-d06c-4651-b980-4833d2c79050",
   "metadata": {},
   "outputs": [],
   "source": [
    "length(intersect(old$BP, df$BP))\n",
    "intersect(old$BP, df$BP)"
   ]
  },
  {
   "cell_type": "markdown",
   "id": "749f978e-cb18-4480-a0ba-3f43e3777ea4",
   "metadata": {},
   "source": [
    "### Among those found in both, what is agreement?"
   ]
  },
  {
   "cell_type": "code",
   "execution_count": null,
   "id": "7740b6f0-ed57-4811-9021-e3cc5f600676",
   "metadata": {},
   "outputs": [],
   "source": [
    "head(merged)"
   ]
  },
  {
   "cell_type": "code",
   "execution_count": null,
   "id": "017e8b8d-66ee-4eb4-8297-b8abe1cb5432",
   "metadata": {},
   "outputs": [],
   "source": [
    "library(dplyr)\n",
    "library(tidyr)\n",
    "library(ggplot2)\n",
    "\n",
    "# Assuming 'merged' is your dataframe\n",
    "# You may have already set the column names as shown in your previous message\n",
    "\n",
    "# Convert BP to numeric if not already\n",
    "merged$BP <- as.numeric(merged$BP)\n",
    "\n",
    "# Convert p-values to their -log10 for visualization\n",
    "merged$log_pval_shizhong <- -log10(merged$pval.shizhongs_old)\n",
    "merged$log_pval_lambda_1se <- -log10(merged$pval.lambda.1se)\n",
    "merged$log_pval_lambda_min <- -log10(merged$pval.lambda.min)\n"
   ]
  },
  {
   "cell_type": "code",
   "execution_count": null,
   "id": "f2843374-55cc-4921-ba5a-6fe975242fae",
   "metadata": {},
   "outputs": [],
   "source": [
    "# Create the ggplot visualizations\n",
    "plot <- ggplot(merged, aes(x = BP)) +\n",
    "  geom_point(aes(y = log_pval_shizhong, color = \"Shizhong's Old\"), alpha = 0.6) +\n",
    "  geom_point(aes(y = log_pval_lambda_1se, color = \"Lambda 1se\"), alpha = 0.6) +\n",
    "  geom_point(aes(y = log_pval_lambda_min, color = \"Lambda Min\"), alpha = 0.6) +\n",
    "  scale_color_manual(values = c(\"Shizhong's Old\" = \"green\", \"Lambda 1se\" = \"blue\", \"Lambda Min\" = \"red\")) +\n",
    "  labs(x = \"Genomic Position (BP)\",\n",
    "       y = \"-log10 of p-values\",\n",
    "       title = \"Comparative Scattergram of MWAS p-values by Genomic Position\",\n",
    "       subtitle = \"Green: Shizhong's Old, Blue: Lambda.1se, Red: Lambda.min\") +\n",
    "  theme_minimal() +\n",
    "  facet_wrap(~ CHR, scales = \"free_y\")  # Facet by chromosome\n",
    "\n",
    "# Print the plot\n",
    "print(plot)\n"
   ]
  },
  {
   "cell_type": "code",
   "execution_count": null,
   "id": "fd8f6da7-e165-472c-ae86-32e629019e74",
   "metadata": {},
   "outputs": [],
   "source": [
    "library(ggplot2)\n",
    "library(tidyr)\n",
    "library(scales)  # for comma formatting\n",
    "\n",
    "# Define your positions\n",
    "min_site_to_test_pos <- 73274305\n",
    "max_site_to_test_pos <- 73420076\n",
    "\n",
    "# Convert numbers to comma-separated format\n",
    "formatted_min_pos <- scales::comma(min_site_to_test_pos)\n",
    "formatted_max_pos <- scales::comma(max_site_to_test_pos)\n"
   ]
  },
  {
   "cell_type": "code",
   "execution_count": null,
   "id": "6d18bd7f-c8b9-4146-879c-c0d1d4cde1f6",
   "metadata": {},
   "outputs": [],
   "source": [
    "# Ensure your dataframe 'df' is already properly formatted and 'pos' is correct\n",
    "df_long <- tidyr::pivot_longer(df, \n",
    "                               cols = c(\"pval.lambda.1se\", \"pval.lambda.min\"), \n",
    "                               names_to = \"variable\", \n",
    "                               values_to = \"pval\")\n"
   ]
  },
  {
   "cell_type": "code",
   "execution_count": null,
   "id": "88af396d-f475-4887-8a13-0cfe2b87500f",
   "metadata": {},
   "outputs": [],
   "source": [
    "head(df_long)"
   ]
  },
  {
   "cell_type": "code",
   "execution_count": null,
   "id": "438494f6-a4b4-4de3-9dcc-4636accc2cd6",
   "metadata": {},
   "outputs": [],
   "source": []
  },
  {
   "cell_type": "code",
   "execution_count": null,
   "id": "46b13534-a8f8-4572-a701-926c756d169b",
   "metadata": {},
   "outputs": [],
   "source": [
    "library(tidyr)\n",
    "library(ggplot2)\n",
    "library(scales)  # for comma formatting\n",
    "\n",
    "# Convert numbers to comma-separated format\n",
    "formatted_min_pos <- comma(min_site_to_test_pos)\n",
    "formatted_max_pos <- comma(max_site_to_test_pos)\n",
    "\n",
    "# Convert the dataframe to long format including the new Shizhong's p-values\n",
    "df_long <- pivot_longer(merged, \n",
    "                        cols = c(\"pval.lambda.1se\", \"pval.lambda.min\", \"pval.shizhongs_old\"),\n",
    "                        names_to = \"variable\",\n",
    "                        values_to = \"pval\")\n"
   ]
  },
  {
   "cell_type": "code",
   "execution_count": null,
   "id": "4ae7290c-6102-4b92-a8ac-b94d83212720",
   "metadata": {},
   "outputs": [],
   "source": [
    "library(data.table)\n",
    "library(ggplot2)\n",
    "library(scales)\n",
    "library(tidyr)\n",
    "\n",
    "# Convert 'BP' to numeric\n",
    "merged$BP <- as.numeric(merged$BP)\n",
    "\n",
    "# Minimum p-values\n",
    "min_pval_lambda.1se <- min(merged$pval.lambda.1se)\n",
    "min_pval_lambda.min <- min(merged$pval.lambda.min)\n",
    "min_pval_shizhongs_old <- min(merged$pval.shizhongs_old)\n",
    "\n",
    "# Convert numbers to comma-separated format\n",
    "formatted_min_pos <- comma(min(merged$BP))\n",
    "formatted_max_pos <- comma(max(merged$BP))\n",
    "\n",
    "# Convert data to long format\n",
    "df_long <- pivot_longer(merged, cols = c(\"pval.lambda.1se\", \"pval.lambda.min\", \"pval.shizhongs_old\"), \n",
    "                        names_to = \"variable\", values_to = \"pval\")\n",
    "\n",
    "# Plot with detailed title\n",
    "ggplot(df_long, aes(x = BP, y = -log10(pval), color = variable)) +\n",
    "  geom_point(alpha = 0.6) +\n",
    "  labs(x = \"Genomic Position\",\n",
    "       y = \"Log of p-values\",\n",
    "       title = paste(\"Scattergrams of MWAS p-values by Genomic Position\\nCHR:\", unique(merged$CHR),\n",
    "                     \"Positions:\", formatted_min_pos, \"to\", formatted_max_pos),\n",
    "       subtitle = \"Faceted by lambda type\") +\n",
    "  scale_color_manual(values = c(\"pval.lambda.1se\" = \"blue\", \"pval.lambda.min\" = \"red\", \"pval.shizhongs_old\" = \"green\")) +\n",
    "  facet_wrap(~ variable, scales = \"free_y\") +\n",
    "  theme_minimal()\n"
   ]
  },
  {
   "cell_type": "code",
   "execution_count": null,
   "id": "8896045c-cadf-4df4-ae93-31637de111fd",
   "metadata": {},
   "outputs": [],
   "source": [
    "Sys.time()"
   ]
  },
  {
   "cell_type": "code",
   "execution_count": null,
   "id": "a04714ab-7316-42ce-80e6-e37bfd4ab89b",
   "metadata": {},
   "outputs": [],
   "source": [
    "min(sites_to_test_pos)"
   ]
  },
  {
   "cell_type": "code",
   "execution_count": null,
   "id": "75f0ce1c-f351-4cbf-b190-e28b967c5d19",
   "metadata": {},
   "outputs": [],
   "source": [
    "max(sites_to_test_pos)"
   ]
  },
  {
   "cell_type": "markdown",
   "id": "2c4c7882-2ab0-4750-8ee1-5851a30874cf",
   "metadata": {},
   "source": [
    "## Check these sites on chr 7"
   ]
  },
  {
   "cell_type": "code",
   "execution_count": null,
   "id": "49f720de-f893-4186-9a6c-f1ff973e135c",
   "metadata": {},
   "outputs": [],
   "source": [
    "# Shizhong's original result\n",
    "\n",
    "# chr7    1987910 10.1255085321387        4.25759742738181e-24\n",
    "# chr7    1987896 10.1255085321387        4.25759742738189e-24\n",
    "# chr7    1987797 10.0241523897721        1.19379483108027e-23\n",
    "# chr7    1987778 10.0105851568856        1.36940148731912e-23"
   ]
  },
  {
   "cell_type": "code",
   "execution_count": null,
   "id": "8e73dd6d-8bc5-40bd-9769-68c6ae0fc62a",
   "metadata": {},
   "outputs": [],
   "source": [
    "selected_pos <- c(1987910, 1987896, 1987797, 1987778)"
   ]
  },
  {
   "cell_type": "code",
   "execution_count": null,
   "id": "77f6bf37-5e2d-49ee-b871-f473e8e64788",
   "metadata": {},
   "outputs": [],
   "source": [
    "head(merged)"
   ]
  },
  {
   "cell_type": "code",
   "execution_count": null,
   "id": "3d97b2c2-28b4-412d-bc67-124c002e2d4f",
   "metadata": {},
   "outputs": [],
   "source": [
    "merged[which(merged$BP %in% selected_pos), ]"
   ]
  },
  {
   "cell_type": "code",
   "execution_count": null,
   "id": "76539955-78ed-4bb9-b203-5e14a921afe6",
   "metadata": {},
   "outputs": [],
   "source": []
  },
  {
   "cell_type": "code",
   "execution_count": null,
   "id": "eafb421a-aa0c-4ef8-9da8-eaf119226685",
   "metadata": {},
   "outputs": [],
   "source": []
  },
  {
   "cell_type": "code",
   "execution_count": null,
   "id": "c951209c-fc57-4736-be96-d7739bcd1ab3",
   "metadata": {},
   "outputs": [],
   "source": []
  },
  {
   "cell_type": "code",
   "execution_count": null,
   "id": "99de28dc-7b5b-4e50-a222-d7d3db3b7dd9",
   "metadata": {},
   "outputs": [],
   "source": []
  },
  {
   "cell_type": "code",
   "execution_count": null,
   "id": "e98ae471-5079-4a79-bbd5-87cc79199f5d",
   "metadata": {},
   "outputs": [],
   "source": []
  },
  {
   "cell_type": "code",
   "execution_count": null,
   "id": "a34eae81-df5d-443f-aec7-51140b1dca86",
   "metadata": {},
   "outputs": [],
   "source": []
  },
  {
   "cell_type": "code",
   "execution_count": null,
   "id": "7d5ed585-5d85-44d0-8d30-4e869b805ef6",
   "metadata": {},
   "outputs": [],
   "source": []
  },
  {
   "cell_type": "code",
   "execution_count": null,
   "id": "4d3add94-ea26-40dc-8665-155182991851",
   "metadata": {},
   "outputs": [],
   "source": []
  },
  {
   "cell_type": "code",
   "execution_count": null,
   "id": "4ffd9fa7-3acf-4c05-ad6b-fb1d4cfce3ef",
   "metadata": {},
   "outputs": [],
   "source": []
  },
  {
   "cell_type": "code",
   "execution_count": null,
   "id": "f3d8bd53-acdc-418f-ab4c-5234a2e366c8",
   "metadata": {},
   "outputs": [],
   "source": []
  },
  {
   "cell_type": "code",
   "execution_count": null,
   "id": "d85363d1-644f-4a56-ae5c-14ab85e3593c",
   "metadata": {},
   "outputs": [],
   "source": []
  },
  {
   "cell_type": "code",
   "execution_count": null,
   "id": "6c507ca0-ac74-4198-afe2-3a1499a23d31",
   "metadata": {},
   "outputs": [],
   "source": []
  },
  {
   "cell_type": "code",
   "execution_count": null,
   "id": "704d7236-397c-4d01-8705-baaa64c3dcb4",
   "metadata": {},
   "outputs": [],
   "source": []
  },
  {
   "cell_type": "code",
   "execution_count": null,
   "id": "ab006a27-a5a3-47bf-89d3-d754e7a22d32",
   "metadata": {},
   "outputs": [],
   "source": []
  },
  {
   "cell_type": "code",
   "execution_count": null,
   "id": "6613e2b1-b72b-4011-9754-93790530b6c2",
   "metadata": {},
   "outputs": [],
   "source": []
  },
  {
   "cell_type": "code",
   "execution_count": null,
   "id": "673bd63c-0e20-4e0d-a414-ac645f76f5f6",
   "metadata": {},
   "outputs": [],
   "source": []
  },
  {
   "cell_type": "code",
   "execution_count": null,
   "id": "3c418d76-d110-4c9e-837b-f2687b77f47f",
   "metadata": {},
   "outputs": [],
   "source": []
  },
  {
   "cell_type": "code",
   "execution_count": null,
   "id": "10a76b46-b35d-4673-ac49-02cfb2b47eab",
   "metadata": {},
   "outputs": [],
   "source": []
  },
  {
   "cell_type": "code",
   "execution_count": null,
   "id": "43f2d55f-a83b-4dd0-adab-c9833051ae4d",
   "metadata": {},
   "outputs": [],
   "source": []
  },
  {
   "cell_type": "code",
   "execution_count": null,
   "id": "d3abb9bb-0a1a-46c5-9666-f2ba9269cdf0",
   "metadata": {},
   "outputs": [],
   "source": []
  },
  {
   "cell_type": "code",
   "execution_count": null,
   "id": "c7b7e42b-3df0-4a1d-a4da-925439e100ce",
   "metadata": {},
   "outputs": [],
   "source": []
  },
  {
   "cell_type": "code",
   "execution_count": null,
   "id": "af5b9058-2dc1-4ced-a01d-a3b6c5707791",
   "metadata": {},
   "outputs": [],
   "source": []
  },
  {
   "cell_type": "code",
   "execution_count": null,
   "id": "49682a27-311f-48eb-9706-6ba4702081e6",
   "metadata": {},
   "outputs": [],
   "source": []
  },
  {
   "cell_type": "code",
   "execution_count": null,
   "id": "b0ce3769-6823-4d63-8aa4-bc5b2d2969d3",
   "metadata": {},
   "outputs": [],
   "source": []
  },
  {
   "cell_type": "code",
   "execution_count": null,
   "id": "48a45403-7621-462e-a2f7-7fde2f55d4c1",
   "metadata": {},
   "outputs": [],
   "source": []
  },
  {
   "cell_type": "code",
   "execution_count": null,
   "id": "e77a397b-ac8c-4143-988b-f607bfc534cc",
   "metadata": {},
   "outputs": [],
   "source": []
  }
 ],
 "metadata": {
  "kernelspec": {
   "display_name": "R",
   "language": "R",
   "name": "ir"
  },
  "language_info": {
   "codemirror_mode": "r",
   "file_extension": ".r",
   "mimetype": "text/x-r-source",
   "name": "R",
   "pygments_lexer": "r",
   "version": "4.3.1"
  }
 },
 "nbformat": 4,
 "nbformat_minor": 5
}
