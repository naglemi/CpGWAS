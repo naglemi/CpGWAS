{
 "cells": [
  {
   "cell_type": "markdown",
   "id": "0cb72484-0e2e-4d13-bda9-58fe13e8ae34",
   "metadata": {},
   "source": [
    "# Prep SLURM commands"
   ]
  },
  {
   "cell_type": "code",
   "execution_count": 1,
   "id": "16eddb68-67bf-48d8-9343-a7e48c69b312",
   "metadata": {},
   "outputs": [
    {
     "data": {
      "text/html": [
       "'/dcs04/lieber/statsgen/mnagle/mwas/CpGWAS/scripts'"
      ],
      "text/latex": [
       "'/dcs04/lieber/statsgen/mnagle/mwas/CpGWAS/scripts'"
      ],
      "text/markdown": [
       "'/dcs04/lieber/statsgen/mnagle/mwas/CpGWAS/scripts'"
      ],
      "text/plain": [
       "[1] \"/dcs04/lieber/statsgen/mnagle/mwas/CpGWAS/scripts\""
      ]
     },
     "metadata": {},
     "output_type": "display_data"
    }
   ],
   "source": [
    "getwd()"
   ]
  },
  {
   "cell_type": "code",
   "execution_count": 2,
   "id": "82f55bee-2e04-4858-a040-64869a761882",
   "metadata": {},
   "outputs": [],
   "source": [
    "setwd(\"../\")"
   ]
  },
  {
   "cell_type": "code",
   "execution_count": 3,
   "id": "750b3ac4-4232-4549-b317-faa48852db41",
   "metadata": {},
   "outputs": [
    {
     "name": "stdout",
     "output_type": "stream",
     "text": [
      "     [,1] [,2] [,3] [,4] [,5] [,6] [,7] [,8] [,9] [,10] [,11] [,12] [,13] [,14]\n",
      "[1,]    1  501 1001 1501 2001 2501 3001 3501 4001  4501  5001  5501  6001  6501\n",
      "[2,]  500 1000 1500 2000 2500 3000 3500 4000 4500  5000  5500  6000  6500  7000\n",
      "     [,15] [,16] [,17] [,18] [,19] [,20]\n",
      "[1,]  7001  7501  8001  8501  9001  9501\n",
      "[2,]  7500  8000  8500  9000  9500 10000\n"
     ]
    }
   ],
   "source": [
    "# Function to generate chunk ranges\n",
    "generate_chunk_ranges <- function(start, end, num_chunks) {\n",
    "  chunk_size <- ceiling((end - start + 1) / num_chunks)\n",
    "  chunk_ranges <- sapply(1:num_chunks, function(i) {\n",
    "    chunk_start <- start + (i - 1) * chunk_size\n",
    "    chunk_end <- min(chunk_start + chunk_size - 1, end)\n",
    "    c(chunk_start, chunk_end)\n",
    "  })\n",
    "  return(chunk_ranges)\n",
    "}\n",
    "\n",
    "# Example usage\n",
    "chunk_ranges <- generate_chunk_ranges(1, 10000, 20)\n",
    "print(chunk_ranges)"
   ]
  },
  {
   "cell_type": "code",
   "execution_count": 4,
   "id": "83773ff0-6c58-4904-ab20-6a281d9395b3",
   "metadata": {},
   "outputs": [
    {
     "data": {
      "text/html": [
       "<style>\n",
       ".list-inline {list-style: none; margin:0; padding: 0}\n",
       ".list-inline>li {display: inline-block}\n",
       ".list-inline>li:not(:last-child)::after {content: \"\\00b7\"; padding: 0 .5ex}\n",
       "</style>\n",
       "<ol class=list-inline><li>'chr1_AA_methylation_10k_samples.rds'</li><li>'CpGWAS'</li><li>'gwas'</li><li>'model'</li><li>'mwas'</li><li>'pheno'</li></ol>\n"
      ],
      "text/latex": [
       "\\begin{enumerate*}\n",
       "\\item 'chr1\\_AA\\_methylation\\_10k\\_samples.rds'\n",
       "\\item 'CpGWAS'\n",
       "\\item 'gwas'\n",
       "\\item 'model'\n",
       "\\item 'mwas'\n",
       "\\item 'pheno'\n",
       "\\end{enumerate*}\n"
      ],
      "text/markdown": [
       "1. 'chr1_AA_methylation_10k_samples.rds'\n",
       "2. 'CpGWAS'\n",
       "3. 'gwas'\n",
       "4. 'model'\n",
       "5. 'mwas'\n",
       "6. 'pheno'\n",
       "\n",
       "\n"
      ],
      "text/plain": [
       "[1] \"chr1_AA_methylation_10k_samples.rds\" \"CpGWAS\"                             \n",
       "[3] \"gwas\"                                \"model\"                              \n",
       "[5] \"mwas\"                                \"pheno\"                              "
      ]
     },
     "metadata": {},
     "output_type": "display_data"
    }
   ],
   "source": [
    "list.files(\"/dcs04/lieber/statsgen/mnagle/mwas/\")"
   ]
  },
  {
   "cell_type": "code",
   "execution_count": 5,
   "id": "bb1308f1-f068-4f2c-8097-cca4fdc14c2b",
   "metadata": {
    "tags": []
   },
   "outputs": [
    {
     "name": "stdout",
     "output_type": "stream",
     "text": [
      "#!/bin/bash\n",
      "#SBATCH --cpus-per-task=1\n",
      "#SBATCH --mem-per-cpu=16G\n",
      "#SBATCH --output=slurm_output_libd_chr1-chr1_AA-1-500-dynamic-1corestotal-1corepera-20240215-110100.out\n",
      "#SBATCH --job-name=libd_chr1-chr1_AA-1-500-dynamic-1corestotal-1corepera-20240215-110100\n",
      "module load conda\n",
      "conda activate mwas\n",
      "echo 'Executing Rscript with arguments: Rscript scripts/CLI.R --outdir=./output/ --snp_data_path=/dcs04/lieber/statsgen/mnagle/mwas/gwas/libd_chr1.pgen --methylation_data_path=/dcs04/lieber/statsgen/mnagle/mwas/pheno/dlpfc/out/chr1_AA.rda --verbose=FALSE --lambda_choice=1se --alphas=0.5 --allow_inefficient_parallelization=FALSE --n_fold=5 --window_sizes=10000,20000,40000,60000,80000,100000,150000,200000,250000,300000,350000,400000,450000,500000 --save_evaluation_results_each_fold=FALSE --save_glmnet_object=FALSE --omit_folds_with_na_r=TRUE --methInput_rds_path=/dcs04/lieber/statsgen/mnagle/mwas/chr1_AA_methylation_10k_samples.rds --chunk1=1 --chunk2=500 --cv_eval_mode=dynamic --num_cores=1 --cores_per_alpha=1 --tag=libd_chr1-chr1_AA-1-500-dynamic-1corestotal-1corepera-20240215-110100'\n",
      "Rscript scripts/CLI.R --outdir=./output/ --snp_data_path=/dcs04/lieber/statsgen/mnagle/mwas/gwas/libd_chr1.pgen --methylation_data_path=/dcs04/lieber/statsgen/mnagle/mwas/pheno/dlpfc/out/chr1_AA.rda --verbose=FALSE --lambda_choice=1se --alphas=0.5 --allow_inefficient_parallelization=FALSE --n_fold=5 --window_sizes=10000,20000,40000,60000,80000,100000,150000,200000,250000,300000,350000,400000,450000,500000 --save_evaluation_results_each_fold=FALSE --save_glmnet_object=FALSE --omit_folds_with_na_r=TRUE --methInput_rds_path=/dcs04/lieber/statsgen/mnagle/mwas/chr1_AA_methylation_10k_samples.rds --chunk1=1 --chunk2=500 --cv_eval_mode=dynamic --num_cores=1 --cores_per_alpha=1 --tag=libd_chr1-chr1_AA-1-500-dynamic-1corestotal-1corepera-20240215-110100\n"
     ]
    },
    {
     "name": "stderr",
     "output_type": "stream",
     "text": [
      "ZZZZzzzz....\n",
      "\n"
     ]
    },
    {
     "name": "stdout",
     "output_type": "stream",
     "text": [
      "#!/bin/bash\n",
      "#SBATCH --cpus-per-task=1\n",
      "#SBATCH --mem-per-cpu=16G\n",
      "#SBATCH --output=slurm_output_libd_chr1-chr1_AA-501-1000-dynamic-1corestotal-1corepera-20240215-110101.out\n",
      "#SBATCH --job-name=libd_chr1-chr1_AA-501-1000-dynamic-1corestotal-1corepera-20240215-110101\n",
      "module load conda\n",
      "conda activate mwas\n",
      "echo 'Executing Rscript with arguments: Rscript scripts/CLI.R --outdir=./output/ --snp_data_path=/dcs04/lieber/statsgen/mnagle/mwas/gwas/libd_chr1.pgen --methylation_data_path=/dcs04/lieber/statsgen/mnagle/mwas/pheno/dlpfc/out/chr1_AA.rda --verbose=FALSE --lambda_choice=1se --alphas=0.5 --allow_inefficient_parallelization=FALSE --n_fold=5 --window_sizes=10000,20000,40000,60000,80000,100000,150000,200000,250000,300000,350000,400000,450000,500000 --save_evaluation_results_each_fold=FALSE --save_glmnet_object=FALSE --omit_folds_with_na_r=TRUE --methInput_rds_path=/dcs04/lieber/statsgen/mnagle/mwas/chr1_AA_methylation_10k_samples.rds --chunk1=501 --chunk2=1000 --cv_eval_mode=dynamic --num_cores=1 --cores_per_alpha=1 --tag=libd_chr1-chr1_AA-501-1000-dynamic-1corestotal-1corepera-20240215-110101'\n",
      "Rscript scripts/CLI.R --outdir=./output/ --snp_data_path=/dcs04/lieber/statsgen/mnagle/mwas/gwas/libd_chr1.pgen --methylation_data_path=/dcs04/lieber/statsgen/mnagle/mwas/pheno/dlpfc/out/chr1_AA.rda --verbose=FALSE --lambda_choice=1se --alphas=0.5 --allow_inefficient_parallelization=FALSE --n_fold=5 --window_sizes=10000,20000,40000,60000,80000,100000,150000,200000,250000,300000,350000,400000,450000,500000 --save_evaluation_results_each_fold=FALSE --save_glmnet_object=FALSE --omit_folds_with_na_r=TRUE --methInput_rds_path=/dcs04/lieber/statsgen/mnagle/mwas/chr1_AA_methylation_10k_samples.rds --chunk1=501 --chunk2=1000 --cv_eval_mode=dynamic --num_cores=1 --cores_per_alpha=1 --tag=libd_chr1-chr1_AA-501-1000-dynamic-1corestotal-1corepera-20240215-110101\n"
     ]
    },
    {
     "name": "stderr",
     "output_type": "stream",
     "text": [
      "ZZZZzzzz....\n",
      "\n"
     ]
    },
    {
     "name": "stdout",
     "output_type": "stream",
     "text": [
      "#!/bin/bash\n",
      "#SBATCH --cpus-per-task=1\n",
      "#SBATCH --mem-per-cpu=16G\n",
      "#SBATCH --output=slurm_output_libd_chr1-chr1_AA-1001-1500-dynamic-1corestotal-1corepera-20240215-110102.out\n",
      "#SBATCH --job-name=libd_chr1-chr1_AA-1001-1500-dynamic-1corestotal-1corepera-20240215-110102\n",
      "module load conda\n",
      "conda activate mwas\n",
      "echo 'Executing Rscript with arguments: Rscript scripts/CLI.R --outdir=./output/ --snp_data_path=/dcs04/lieber/statsgen/mnagle/mwas/gwas/libd_chr1.pgen --methylation_data_path=/dcs04/lieber/statsgen/mnagle/mwas/pheno/dlpfc/out/chr1_AA.rda --verbose=FALSE --lambda_choice=1se --alphas=0.5 --allow_inefficient_parallelization=FALSE --n_fold=5 --window_sizes=10000,20000,40000,60000,80000,100000,150000,200000,250000,300000,350000,400000,450000,500000 --save_evaluation_results_each_fold=FALSE --save_glmnet_object=FALSE --omit_folds_with_na_r=TRUE --methInput_rds_path=/dcs04/lieber/statsgen/mnagle/mwas/chr1_AA_methylation_10k_samples.rds --chunk1=1001 --chunk2=1500 --cv_eval_mode=dynamic --num_cores=1 --cores_per_alpha=1 --tag=libd_chr1-chr1_AA-1001-1500-dynamic-1corestotal-1corepera-20240215-110102'\n",
      "Rscript scripts/CLI.R --outdir=./output/ --snp_data_path=/dcs04/lieber/statsgen/mnagle/mwas/gwas/libd_chr1.pgen --methylation_data_path=/dcs04/lieber/statsgen/mnagle/mwas/pheno/dlpfc/out/chr1_AA.rda --verbose=FALSE --lambda_choice=1se --alphas=0.5 --allow_inefficient_parallelization=FALSE --n_fold=5 --window_sizes=10000,20000,40000,60000,80000,100000,150000,200000,250000,300000,350000,400000,450000,500000 --save_evaluation_results_each_fold=FALSE --save_glmnet_object=FALSE --omit_folds_with_na_r=TRUE --methInput_rds_path=/dcs04/lieber/statsgen/mnagle/mwas/chr1_AA_methylation_10k_samples.rds --chunk1=1001 --chunk2=1500 --cv_eval_mode=dynamic --num_cores=1 --cores_per_alpha=1 --tag=libd_chr1-chr1_AA-1001-1500-dynamic-1corestotal-1corepera-20240215-110102\n"
     ]
    },
    {
     "name": "stderr",
     "output_type": "stream",
     "text": [
      "ZZZZzzzz....\n",
      "\n"
     ]
    },
    {
     "name": "stdout",
     "output_type": "stream",
     "text": [
      "#!/bin/bash\n",
      "#SBATCH --cpus-per-task=1\n",
      "#SBATCH --mem-per-cpu=16G\n",
      "#SBATCH --output=slurm_output_libd_chr1-chr1_AA-1501-2000-dynamic-1corestotal-1corepera-20240215-110103.out\n",
      "#SBATCH --job-name=libd_chr1-chr1_AA-1501-2000-dynamic-1corestotal-1corepera-20240215-110103\n",
      "module load conda\n",
      "conda activate mwas\n",
      "echo 'Executing Rscript with arguments: Rscript scripts/CLI.R --outdir=./output/ --snp_data_path=/dcs04/lieber/statsgen/mnagle/mwas/gwas/libd_chr1.pgen --methylation_data_path=/dcs04/lieber/statsgen/mnagle/mwas/pheno/dlpfc/out/chr1_AA.rda --verbose=FALSE --lambda_choice=1se --alphas=0.5 --allow_inefficient_parallelization=FALSE --n_fold=5 --window_sizes=10000,20000,40000,60000,80000,100000,150000,200000,250000,300000,350000,400000,450000,500000 --save_evaluation_results_each_fold=FALSE --save_glmnet_object=FALSE --omit_folds_with_na_r=TRUE --methInput_rds_path=/dcs04/lieber/statsgen/mnagle/mwas/chr1_AA_methylation_10k_samples.rds --chunk1=1501 --chunk2=2000 --cv_eval_mode=dynamic --num_cores=1 --cores_per_alpha=1 --tag=libd_chr1-chr1_AA-1501-2000-dynamic-1corestotal-1corepera-20240215-110103'\n",
      "Rscript scripts/CLI.R --outdir=./output/ --snp_data_path=/dcs04/lieber/statsgen/mnagle/mwas/gwas/libd_chr1.pgen --methylation_data_path=/dcs04/lieber/statsgen/mnagle/mwas/pheno/dlpfc/out/chr1_AA.rda --verbose=FALSE --lambda_choice=1se --alphas=0.5 --allow_inefficient_parallelization=FALSE --n_fold=5 --window_sizes=10000,20000,40000,60000,80000,100000,150000,200000,250000,300000,350000,400000,450000,500000 --save_evaluation_results_each_fold=FALSE --save_glmnet_object=FALSE --omit_folds_with_na_r=TRUE --methInput_rds_path=/dcs04/lieber/statsgen/mnagle/mwas/chr1_AA_methylation_10k_samples.rds --chunk1=1501 --chunk2=2000 --cv_eval_mode=dynamic --num_cores=1 --cores_per_alpha=1 --tag=libd_chr1-chr1_AA-1501-2000-dynamic-1corestotal-1corepera-20240215-110103\n"
     ]
    },
    {
     "name": "stderr",
     "output_type": "stream",
     "text": [
      "ZZZZzzzz....\n",
      "\n"
     ]
    },
    {
     "name": "stdout",
     "output_type": "stream",
     "text": [
      "#!/bin/bash\n",
      "#SBATCH --cpus-per-task=1\n",
      "#SBATCH --mem-per-cpu=16G\n",
      "#SBATCH --output=slurm_output_libd_chr1-chr1_AA-2001-2500-dynamic-1corestotal-1corepera-20240215-110104.out\n",
      "#SBATCH --job-name=libd_chr1-chr1_AA-2001-2500-dynamic-1corestotal-1corepera-20240215-110104\n",
      "module load conda\n",
      "conda activate mwas\n",
      "echo 'Executing Rscript with arguments: Rscript scripts/CLI.R --outdir=./output/ --snp_data_path=/dcs04/lieber/statsgen/mnagle/mwas/gwas/libd_chr1.pgen --methylation_data_path=/dcs04/lieber/statsgen/mnagle/mwas/pheno/dlpfc/out/chr1_AA.rda --verbose=FALSE --lambda_choice=1se --alphas=0.5 --allow_inefficient_parallelization=FALSE --n_fold=5 --window_sizes=10000,20000,40000,60000,80000,100000,150000,200000,250000,300000,350000,400000,450000,500000 --save_evaluation_results_each_fold=FALSE --save_glmnet_object=FALSE --omit_folds_with_na_r=TRUE --methInput_rds_path=/dcs04/lieber/statsgen/mnagle/mwas/chr1_AA_methylation_10k_samples.rds --chunk1=2001 --chunk2=2500 --cv_eval_mode=dynamic --num_cores=1 --cores_per_alpha=1 --tag=libd_chr1-chr1_AA-2001-2500-dynamic-1corestotal-1corepera-20240215-110104'\n",
      "Rscript scripts/CLI.R --outdir=./output/ --snp_data_path=/dcs04/lieber/statsgen/mnagle/mwas/gwas/libd_chr1.pgen --methylation_data_path=/dcs04/lieber/statsgen/mnagle/mwas/pheno/dlpfc/out/chr1_AA.rda --verbose=FALSE --lambda_choice=1se --alphas=0.5 --allow_inefficient_parallelization=FALSE --n_fold=5 --window_sizes=10000,20000,40000,60000,80000,100000,150000,200000,250000,300000,350000,400000,450000,500000 --save_evaluation_results_each_fold=FALSE --save_glmnet_object=FALSE --omit_folds_with_na_r=TRUE --methInput_rds_path=/dcs04/lieber/statsgen/mnagle/mwas/chr1_AA_methylation_10k_samples.rds --chunk1=2001 --chunk2=2500 --cv_eval_mode=dynamic --num_cores=1 --cores_per_alpha=1 --tag=libd_chr1-chr1_AA-2001-2500-dynamic-1corestotal-1corepera-20240215-110104\n"
     ]
    },
    {
     "name": "stderr",
     "output_type": "stream",
     "text": [
      "ZZZZzzzz....\n",
      "\n"
     ]
    },
    {
     "name": "stdout",
     "output_type": "stream",
     "text": [
      "#!/bin/bash\n",
      "#SBATCH --cpus-per-task=1\n",
      "#SBATCH --mem-per-cpu=16G\n",
      "#SBATCH --output=slurm_output_libd_chr1-chr1_AA-2501-3000-dynamic-1corestotal-1corepera-20240215-110105.out\n",
      "#SBATCH --job-name=libd_chr1-chr1_AA-2501-3000-dynamic-1corestotal-1corepera-20240215-110105\n",
      "module load conda\n",
      "conda activate mwas\n",
      "echo 'Executing Rscript with arguments: Rscript scripts/CLI.R --outdir=./output/ --snp_data_path=/dcs04/lieber/statsgen/mnagle/mwas/gwas/libd_chr1.pgen --methylation_data_path=/dcs04/lieber/statsgen/mnagle/mwas/pheno/dlpfc/out/chr1_AA.rda --verbose=FALSE --lambda_choice=1se --alphas=0.5 --allow_inefficient_parallelization=FALSE --n_fold=5 --window_sizes=10000,20000,40000,60000,80000,100000,150000,200000,250000,300000,350000,400000,450000,500000 --save_evaluation_results_each_fold=FALSE --save_glmnet_object=FALSE --omit_folds_with_na_r=TRUE --methInput_rds_path=/dcs04/lieber/statsgen/mnagle/mwas/chr1_AA_methylation_10k_samples.rds --chunk1=2501 --chunk2=3000 --cv_eval_mode=dynamic --num_cores=1 --cores_per_alpha=1 --tag=libd_chr1-chr1_AA-2501-3000-dynamic-1corestotal-1corepera-20240215-110105'\n",
      "Rscript scripts/CLI.R --outdir=./output/ --snp_data_path=/dcs04/lieber/statsgen/mnagle/mwas/gwas/libd_chr1.pgen --methylation_data_path=/dcs04/lieber/statsgen/mnagle/mwas/pheno/dlpfc/out/chr1_AA.rda --verbose=FALSE --lambda_choice=1se --alphas=0.5 --allow_inefficient_parallelization=FALSE --n_fold=5 --window_sizes=10000,20000,40000,60000,80000,100000,150000,200000,250000,300000,350000,400000,450000,500000 --save_evaluation_results_each_fold=FALSE --save_glmnet_object=FALSE --omit_folds_with_na_r=TRUE --methInput_rds_path=/dcs04/lieber/statsgen/mnagle/mwas/chr1_AA_methylation_10k_samples.rds --chunk1=2501 --chunk2=3000 --cv_eval_mode=dynamic --num_cores=1 --cores_per_alpha=1 --tag=libd_chr1-chr1_AA-2501-3000-dynamic-1corestotal-1corepera-20240215-110105\n"
     ]
    },
    {
     "name": "stderr",
     "output_type": "stream",
     "text": [
      "ZZZZzzzz....\n",
      "\n"
     ]
    },
    {
     "name": "stdout",
     "output_type": "stream",
     "text": [
      "#!/bin/bash\n",
      "#SBATCH --cpus-per-task=1\n",
      "#SBATCH --mem-per-cpu=16G\n",
      "#SBATCH --output=slurm_output_libd_chr1-chr1_AA-3001-3500-dynamic-1corestotal-1corepera-20240215-110106.out\n",
      "#SBATCH --job-name=libd_chr1-chr1_AA-3001-3500-dynamic-1corestotal-1corepera-20240215-110106\n",
      "module load conda\n",
      "conda activate mwas\n",
      "echo 'Executing Rscript with arguments: Rscript scripts/CLI.R --outdir=./output/ --snp_data_path=/dcs04/lieber/statsgen/mnagle/mwas/gwas/libd_chr1.pgen --methylation_data_path=/dcs04/lieber/statsgen/mnagle/mwas/pheno/dlpfc/out/chr1_AA.rda --verbose=FALSE --lambda_choice=1se --alphas=0.5 --allow_inefficient_parallelization=FALSE --n_fold=5 --window_sizes=10000,20000,40000,60000,80000,100000,150000,200000,250000,300000,350000,400000,450000,500000 --save_evaluation_results_each_fold=FALSE --save_glmnet_object=FALSE --omit_folds_with_na_r=TRUE --methInput_rds_path=/dcs04/lieber/statsgen/mnagle/mwas/chr1_AA_methylation_10k_samples.rds --chunk1=3001 --chunk2=3500 --cv_eval_mode=dynamic --num_cores=1 --cores_per_alpha=1 --tag=libd_chr1-chr1_AA-3001-3500-dynamic-1corestotal-1corepera-20240215-110106'\n",
      "Rscript scripts/CLI.R --outdir=./output/ --snp_data_path=/dcs04/lieber/statsgen/mnagle/mwas/gwas/libd_chr1.pgen --methylation_data_path=/dcs04/lieber/statsgen/mnagle/mwas/pheno/dlpfc/out/chr1_AA.rda --verbose=FALSE --lambda_choice=1se --alphas=0.5 --allow_inefficient_parallelization=FALSE --n_fold=5 --window_sizes=10000,20000,40000,60000,80000,100000,150000,200000,250000,300000,350000,400000,450000,500000 --save_evaluation_results_each_fold=FALSE --save_glmnet_object=FALSE --omit_folds_with_na_r=TRUE --methInput_rds_path=/dcs04/lieber/statsgen/mnagle/mwas/chr1_AA_methylation_10k_samples.rds --chunk1=3001 --chunk2=3500 --cv_eval_mode=dynamic --num_cores=1 --cores_per_alpha=1 --tag=libd_chr1-chr1_AA-3001-3500-dynamic-1corestotal-1corepera-20240215-110106\n"
     ]
    },
    {
     "name": "stderr",
     "output_type": "stream",
     "text": [
      "ZZZZzzzz....\n",
      "\n"
     ]
    },
    {
     "name": "stdout",
     "output_type": "stream",
     "text": [
      "#!/bin/bash\n",
      "#SBATCH --cpus-per-task=1\n",
      "#SBATCH --mem-per-cpu=16G\n",
      "#SBATCH --output=slurm_output_libd_chr1-chr1_AA-3501-4000-dynamic-1corestotal-1corepera-20240215-110107.out\n",
      "#SBATCH --job-name=libd_chr1-chr1_AA-3501-4000-dynamic-1corestotal-1corepera-20240215-110107\n",
      "module load conda\n",
      "conda activate mwas\n",
      "echo 'Executing Rscript with arguments: Rscript scripts/CLI.R --outdir=./output/ --snp_data_path=/dcs04/lieber/statsgen/mnagle/mwas/gwas/libd_chr1.pgen --methylation_data_path=/dcs04/lieber/statsgen/mnagle/mwas/pheno/dlpfc/out/chr1_AA.rda --verbose=FALSE --lambda_choice=1se --alphas=0.5 --allow_inefficient_parallelization=FALSE --n_fold=5 --window_sizes=10000,20000,40000,60000,80000,100000,150000,200000,250000,300000,350000,400000,450000,500000 --save_evaluation_results_each_fold=FALSE --save_glmnet_object=FALSE --omit_folds_with_na_r=TRUE --methInput_rds_path=/dcs04/lieber/statsgen/mnagle/mwas/chr1_AA_methylation_10k_samples.rds --chunk1=3501 --chunk2=4000 --cv_eval_mode=dynamic --num_cores=1 --cores_per_alpha=1 --tag=libd_chr1-chr1_AA-3501-4000-dynamic-1corestotal-1corepera-20240215-110107'\n",
      "Rscript scripts/CLI.R --outdir=./output/ --snp_data_path=/dcs04/lieber/statsgen/mnagle/mwas/gwas/libd_chr1.pgen --methylation_data_path=/dcs04/lieber/statsgen/mnagle/mwas/pheno/dlpfc/out/chr1_AA.rda --verbose=FALSE --lambda_choice=1se --alphas=0.5 --allow_inefficient_parallelization=FALSE --n_fold=5 --window_sizes=10000,20000,40000,60000,80000,100000,150000,200000,250000,300000,350000,400000,450000,500000 --save_evaluation_results_each_fold=FALSE --save_glmnet_object=FALSE --omit_folds_with_na_r=TRUE --methInput_rds_path=/dcs04/lieber/statsgen/mnagle/mwas/chr1_AA_methylation_10k_samples.rds --chunk1=3501 --chunk2=4000 --cv_eval_mode=dynamic --num_cores=1 --cores_per_alpha=1 --tag=libd_chr1-chr1_AA-3501-4000-dynamic-1corestotal-1corepera-20240215-110107\n"
     ]
    },
    {
     "name": "stderr",
     "output_type": "stream",
     "text": [
      "ZZZZzzzz....\n",
      "\n"
     ]
    },
    {
     "name": "stdout",
     "output_type": "stream",
     "text": [
      "#!/bin/bash\n",
      "#SBATCH --cpus-per-task=1\n",
      "#SBATCH --mem-per-cpu=16G\n",
      "#SBATCH --output=slurm_output_libd_chr1-chr1_AA-4001-4500-dynamic-1corestotal-1corepera-20240215-110108.out\n",
      "#SBATCH --job-name=libd_chr1-chr1_AA-4001-4500-dynamic-1corestotal-1corepera-20240215-110108\n",
      "module load conda\n",
      "conda activate mwas\n",
      "echo 'Executing Rscript with arguments: Rscript scripts/CLI.R --outdir=./output/ --snp_data_path=/dcs04/lieber/statsgen/mnagle/mwas/gwas/libd_chr1.pgen --methylation_data_path=/dcs04/lieber/statsgen/mnagle/mwas/pheno/dlpfc/out/chr1_AA.rda --verbose=FALSE --lambda_choice=1se --alphas=0.5 --allow_inefficient_parallelization=FALSE --n_fold=5 --window_sizes=10000,20000,40000,60000,80000,100000,150000,200000,250000,300000,350000,400000,450000,500000 --save_evaluation_results_each_fold=FALSE --save_glmnet_object=FALSE --omit_folds_with_na_r=TRUE --methInput_rds_path=/dcs04/lieber/statsgen/mnagle/mwas/chr1_AA_methylation_10k_samples.rds --chunk1=4001 --chunk2=4500 --cv_eval_mode=dynamic --num_cores=1 --cores_per_alpha=1 --tag=libd_chr1-chr1_AA-4001-4500-dynamic-1corestotal-1corepera-20240215-110108'\n",
      "Rscript scripts/CLI.R --outdir=./output/ --snp_data_path=/dcs04/lieber/statsgen/mnagle/mwas/gwas/libd_chr1.pgen --methylation_data_path=/dcs04/lieber/statsgen/mnagle/mwas/pheno/dlpfc/out/chr1_AA.rda --verbose=FALSE --lambda_choice=1se --alphas=0.5 --allow_inefficient_parallelization=FALSE --n_fold=5 --window_sizes=10000,20000,40000,60000,80000,100000,150000,200000,250000,300000,350000,400000,450000,500000 --save_evaluation_results_each_fold=FALSE --save_glmnet_object=FALSE --omit_folds_with_na_r=TRUE --methInput_rds_path=/dcs04/lieber/statsgen/mnagle/mwas/chr1_AA_methylation_10k_samples.rds --chunk1=4001 --chunk2=4500 --cv_eval_mode=dynamic --num_cores=1 --cores_per_alpha=1 --tag=libd_chr1-chr1_AA-4001-4500-dynamic-1corestotal-1corepera-20240215-110108\n"
     ]
    },
    {
     "name": "stderr",
     "output_type": "stream",
     "text": [
      "ZZZZzzzz....\n",
      "\n"
     ]
    },
    {
     "name": "stdout",
     "output_type": "stream",
     "text": [
      "#!/bin/bash\n",
      "#SBATCH --cpus-per-task=1\n",
      "#SBATCH --mem-per-cpu=16G\n",
      "#SBATCH --output=slurm_output_libd_chr1-chr1_AA-4501-5000-dynamic-1corestotal-1corepera-20240215-110109.out\n",
      "#SBATCH --job-name=libd_chr1-chr1_AA-4501-5000-dynamic-1corestotal-1corepera-20240215-110109\n",
      "module load conda\n",
      "conda activate mwas\n",
      "echo 'Executing Rscript with arguments: Rscript scripts/CLI.R --outdir=./output/ --snp_data_path=/dcs04/lieber/statsgen/mnagle/mwas/gwas/libd_chr1.pgen --methylation_data_path=/dcs04/lieber/statsgen/mnagle/mwas/pheno/dlpfc/out/chr1_AA.rda --verbose=FALSE --lambda_choice=1se --alphas=0.5 --allow_inefficient_parallelization=FALSE --n_fold=5 --window_sizes=10000,20000,40000,60000,80000,100000,150000,200000,250000,300000,350000,400000,450000,500000 --save_evaluation_results_each_fold=FALSE --save_glmnet_object=FALSE --omit_folds_with_na_r=TRUE --methInput_rds_path=/dcs04/lieber/statsgen/mnagle/mwas/chr1_AA_methylation_10k_samples.rds --chunk1=4501 --chunk2=5000 --cv_eval_mode=dynamic --num_cores=1 --cores_per_alpha=1 --tag=libd_chr1-chr1_AA-4501-5000-dynamic-1corestotal-1corepera-20240215-110109'\n",
      "Rscript scripts/CLI.R --outdir=./output/ --snp_data_path=/dcs04/lieber/statsgen/mnagle/mwas/gwas/libd_chr1.pgen --methylation_data_path=/dcs04/lieber/statsgen/mnagle/mwas/pheno/dlpfc/out/chr1_AA.rda --verbose=FALSE --lambda_choice=1se --alphas=0.5 --allow_inefficient_parallelization=FALSE --n_fold=5 --window_sizes=10000,20000,40000,60000,80000,100000,150000,200000,250000,300000,350000,400000,450000,500000 --save_evaluation_results_each_fold=FALSE --save_glmnet_object=FALSE --omit_folds_with_na_r=TRUE --methInput_rds_path=/dcs04/lieber/statsgen/mnagle/mwas/chr1_AA_methylation_10k_samples.rds --chunk1=4501 --chunk2=5000 --cv_eval_mode=dynamic --num_cores=1 --cores_per_alpha=1 --tag=libd_chr1-chr1_AA-4501-5000-dynamic-1corestotal-1corepera-20240215-110109\n"
     ]
    },
    {
     "name": "stderr",
     "output_type": "stream",
     "text": [
      "ZZZZzzzz....\n",
      "\n"
     ]
    },
    {
     "name": "stdout",
     "output_type": "stream",
     "text": [
      "#!/bin/bash\n",
      "#SBATCH --cpus-per-task=1\n",
      "#SBATCH --mem-per-cpu=16G\n",
      "#SBATCH --output=slurm_output_libd_chr1-chr1_AA-5001-5500-dynamic-1corestotal-1corepera-20240215-110110.out\n",
      "#SBATCH --job-name=libd_chr1-chr1_AA-5001-5500-dynamic-1corestotal-1corepera-20240215-110110\n",
      "module load conda\n",
      "conda activate mwas\n",
      "echo 'Executing Rscript with arguments: Rscript scripts/CLI.R --outdir=./output/ --snp_data_path=/dcs04/lieber/statsgen/mnagle/mwas/gwas/libd_chr1.pgen --methylation_data_path=/dcs04/lieber/statsgen/mnagle/mwas/pheno/dlpfc/out/chr1_AA.rda --verbose=FALSE --lambda_choice=1se --alphas=0.5 --allow_inefficient_parallelization=FALSE --n_fold=5 --window_sizes=10000,20000,40000,60000,80000,100000,150000,200000,250000,300000,350000,400000,450000,500000 --save_evaluation_results_each_fold=FALSE --save_glmnet_object=FALSE --omit_folds_with_na_r=TRUE --methInput_rds_path=/dcs04/lieber/statsgen/mnagle/mwas/chr1_AA_methylation_10k_samples.rds --chunk1=5001 --chunk2=5500 --cv_eval_mode=dynamic --num_cores=1 --cores_per_alpha=1 --tag=libd_chr1-chr1_AA-5001-5500-dynamic-1corestotal-1corepera-20240215-110110'\n",
      "Rscript scripts/CLI.R --outdir=./output/ --snp_data_path=/dcs04/lieber/statsgen/mnagle/mwas/gwas/libd_chr1.pgen --methylation_data_path=/dcs04/lieber/statsgen/mnagle/mwas/pheno/dlpfc/out/chr1_AA.rda --verbose=FALSE --lambda_choice=1se --alphas=0.5 --allow_inefficient_parallelization=FALSE --n_fold=5 --window_sizes=10000,20000,40000,60000,80000,100000,150000,200000,250000,300000,350000,400000,450000,500000 --save_evaluation_results_each_fold=FALSE --save_glmnet_object=FALSE --omit_folds_with_na_r=TRUE --methInput_rds_path=/dcs04/lieber/statsgen/mnagle/mwas/chr1_AA_methylation_10k_samples.rds --chunk1=5001 --chunk2=5500 --cv_eval_mode=dynamic --num_cores=1 --cores_per_alpha=1 --tag=libd_chr1-chr1_AA-5001-5500-dynamic-1corestotal-1corepera-20240215-110110\n"
     ]
    },
    {
     "name": "stderr",
     "output_type": "stream",
     "text": [
      "ZZZZzzzz....\n",
      "\n"
     ]
    },
    {
     "name": "stdout",
     "output_type": "stream",
     "text": [
      "#!/bin/bash\n",
      "#SBATCH --cpus-per-task=1\n",
      "#SBATCH --mem-per-cpu=16G\n",
      "#SBATCH --output=slurm_output_libd_chr1-chr1_AA-5501-6000-dynamic-1corestotal-1corepera-20240215-110111.out\n",
      "#SBATCH --job-name=libd_chr1-chr1_AA-5501-6000-dynamic-1corestotal-1corepera-20240215-110111\n",
      "module load conda\n",
      "conda activate mwas\n",
      "echo 'Executing Rscript with arguments: Rscript scripts/CLI.R --outdir=./output/ --snp_data_path=/dcs04/lieber/statsgen/mnagle/mwas/gwas/libd_chr1.pgen --methylation_data_path=/dcs04/lieber/statsgen/mnagle/mwas/pheno/dlpfc/out/chr1_AA.rda --verbose=FALSE --lambda_choice=1se --alphas=0.5 --allow_inefficient_parallelization=FALSE --n_fold=5 --window_sizes=10000,20000,40000,60000,80000,100000,150000,200000,250000,300000,350000,400000,450000,500000 --save_evaluation_results_each_fold=FALSE --save_glmnet_object=FALSE --omit_folds_with_na_r=TRUE --methInput_rds_path=/dcs04/lieber/statsgen/mnagle/mwas/chr1_AA_methylation_10k_samples.rds --chunk1=5501 --chunk2=6000 --cv_eval_mode=dynamic --num_cores=1 --cores_per_alpha=1 --tag=libd_chr1-chr1_AA-5501-6000-dynamic-1corestotal-1corepera-20240215-110111'\n",
      "Rscript scripts/CLI.R --outdir=./output/ --snp_data_path=/dcs04/lieber/statsgen/mnagle/mwas/gwas/libd_chr1.pgen --methylation_data_path=/dcs04/lieber/statsgen/mnagle/mwas/pheno/dlpfc/out/chr1_AA.rda --verbose=FALSE --lambda_choice=1se --alphas=0.5 --allow_inefficient_parallelization=FALSE --n_fold=5 --window_sizes=10000,20000,40000,60000,80000,100000,150000,200000,250000,300000,350000,400000,450000,500000 --save_evaluation_results_each_fold=FALSE --save_glmnet_object=FALSE --omit_folds_with_na_r=TRUE --methInput_rds_path=/dcs04/lieber/statsgen/mnagle/mwas/chr1_AA_methylation_10k_samples.rds --chunk1=5501 --chunk2=6000 --cv_eval_mode=dynamic --num_cores=1 --cores_per_alpha=1 --tag=libd_chr1-chr1_AA-5501-6000-dynamic-1corestotal-1corepera-20240215-110111\n"
     ]
    },
    {
     "name": "stderr",
     "output_type": "stream",
     "text": [
      "ZZZZzzzz....\n",
      "\n"
     ]
    },
    {
     "name": "stdout",
     "output_type": "stream",
     "text": [
      "#!/bin/bash\n",
      "#SBATCH --cpus-per-task=1\n",
      "#SBATCH --mem-per-cpu=16G\n",
      "#SBATCH --output=slurm_output_libd_chr1-chr1_AA-6001-6500-dynamic-1corestotal-1corepera-20240215-110112.out\n",
      "#SBATCH --job-name=libd_chr1-chr1_AA-6001-6500-dynamic-1corestotal-1corepera-20240215-110112\n",
      "module load conda\n",
      "conda activate mwas\n",
      "echo 'Executing Rscript with arguments: Rscript scripts/CLI.R --outdir=./output/ --snp_data_path=/dcs04/lieber/statsgen/mnagle/mwas/gwas/libd_chr1.pgen --methylation_data_path=/dcs04/lieber/statsgen/mnagle/mwas/pheno/dlpfc/out/chr1_AA.rda --verbose=FALSE --lambda_choice=1se --alphas=0.5 --allow_inefficient_parallelization=FALSE --n_fold=5 --window_sizes=10000,20000,40000,60000,80000,100000,150000,200000,250000,300000,350000,400000,450000,500000 --save_evaluation_results_each_fold=FALSE --save_glmnet_object=FALSE --omit_folds_with_na_r=TRUE --methInput_rds_path=/dcs04/lieber/statsgen/mnagle/mwas/chr1_AA_methylation_10k_samples.rds --chunk1=6001 --chunk2=6500 --cv_eval_mode=dynamic --num_cores=1 --cores_per_alpha=1 --tag=libd_chr1-chr1_AA-6001-6500-dynamic-1corestotal-1corepera-20240215-110112'\n",
      "Rscript scripts/CLI.R --outdir=./output/ --snp_data_path=/dcs04/lieber/statsgen/mnagle/mwas/gwas/libd_chr1.pgen --methylation_data_path=/dcs04/lieber/statsgen/mnagle/mwas/pheno/dlpfc/out/chr1_AA.rda --verbose=FALSE --lambda_choice=1se --alphas=0.5 --allow_inefficient_parallelization=FALSE --n_fold=5 --window_sizes=10000,20000,40000,60000,80000,100000,150000,200000,250000,300000,350000,400000,450000,500000 --save_evaluation_results_each_fold=FALSE --save_glmnet_object=FALSE --omit_folds_with_na_r=TRUE --methInput_rds_path=/dcs04/lieber/statsgen/mnagle/mwas/chr1_AA_methylation_10k_samples.rds --chunk1=6001 --chunk2=6500 --cv_eval_mode=dynamic --num_cores=1 --cores_per_alpha=1 --tag=libd_chr1-chr1_AA-6001-6500-dynamic-1corestotal-1corepera-20240215-110112\n"
     ]
    },
    {
     "name": "stderr",
     "output_type": "stream",
     "text": [
      "ZZZZzzzz....\n",
      "\n"
     ]
    },
    {
     "name": "stdout",
     "output_type": "stream",
     "text": [
      "#!/bin/bash\n",
      "#SBATCH --cpus-per-task=1\n",
      "#SBATCH --mem-per-cpu=16G\n",
      "#SBATCH --output=slurm_output_libd_chr1-chr1_AA-6501-7000-dynamic-1corestotal-1corepera-20240215-110113.out\n",
      "#SBATCH --job-name=libd_chr1-chr1_AA-6501-7000-dynamic-1corestotal-1corepera-20240215-110113\n",
      "module load conda\n",
      "conda activate mwas\n",
      "echo 'Executing Rscript with arguments: Rscript scripts/CLI.R --outdir=./output/ --snp_data_path=/dcs04/lieber/statsgen/mnagle/mwas/gwas/libd_chr1.pgen --methylation_data_path=/dcs04/lieber/statsgen/mnagle/mwas/pheno/dlpfc/out/chr1_AA.rda --verbose=FALSE --lambda_choice=1se --alphas=0.5 --allow_inefficient_parallelization=FALSE --n_fold=5 --window_sizes=10000,20000,40000,60000,80000,100000,150000,200000,250000,300000,350000,400000,450000,500000 --save_evaluation_results_each_fold=FALSE --save_glmnet_object=FALSE --omit_folds_with_na_r=TRUE --methInput_rds_path=/dcs04/lieber/statsgen/mnagle/mwas/chr1_AA_methylation_10k_samples.rds --chunk1=6501 --chunk2=7000 --cv_eval_mode=dynamic --num_cores=1 --cores_per_alpha=1 --tag=libd_chr1-chr1_AA-6501-7000-dynamic-1corestotal-1corepera-20240215-110113'\n",
      "Rscript scripts/CLI.R --outdir=./output/ --snp_data_path=/dcs04/lieber/statsgen/mnagle/mwas/gwas/libd_chr1.pgen --methylation_data_path=/dcs04/lieber/statsgen/mnagle/mwas/pheno/dlpfc/out/chr1_AA.rda --verbose=FALSE --lambda_choice=1se --alphas=0.5 --allow_inefficient_parallelization=FALSE --n_fold=5 --window_sizes=10000,20000,40000,60000,80000,100000,150000,200000,250000,300000,350000,400000,450000,500000 --save_evaluation_results_each_fold=FALSE --save_glmnet_object=FALSE --omit_folds_with_na_r=TRUE --methInput_rds_path=/dcs04/lieber/statsgen/mnagle/mwas/chr1_AA_methylation_10k_samples.rds --chunk1=6501 --chunk2=7000 --cv_eval_mode=dynamic --num_cores=1 --cores_per_alpha=1 --tag=libd_chr1-chr1_AA-6501-7000-dynamic-1corestotal-1corepera-20240215-110113\n"
     ]
    },
    {
     "name": "stderr",
     "output_type": "stream",
     "text": [
      "ZZZZzzzz....\n",
      "\n"
     ]
    },
    {
     "name": "stdout",
     "output_type": "stream",
     "text": [
      "#!/bin/bash\n",
      "#SBATCH --cpus-per-task=1\n",
      "#SBATCH --mem-per-cpu=16G\n",
      "#SBATCH --output=slurm_output_libd_chr1-chr1_AA-7001-7500-dynamic-1corestotal-1corepera-20240215-110114.out\n",
      "#SBATCH --job-name=libd_chr1-chr1_AA-7001-7500-dynamic-1corestotal-1corepera-20240215-110114\n",
      "module load conda\n",
      "conda activate mwas\n",
      "echo 'Executing Rscript with arguments: Rscript scripts/CLI.R --outdir=./output/ --snp_data_path=/dcs04/lieber/statsgen/mnagle/mwas/gwas/libd_chr1.pgen --methylation_data_path=/dcs04/lieber/statsgen/mnagle/mwas/pheno/dlpfc/out/chr1_AA.rda --verbose=FALSE --lambda_choice=1se --alphas=0.5 --allow_inefficient_parallelization=FALSE --n_fold=5 --window_sizes=10000,20000,40000,60000,80000,100000,150000,200000,250000,300000,350000,400000,450000,500000 --save_evaluation_results_each_fold=FALSE --save_glmnet_object=FALSE --omit_folds_with_na_r=TRUE --methInput_rds_path=/dcs04/lieber/statsgen/mnagle/mwas/chr1_AA_methylation_10k_samples.rds --chunk1=7001 --chunk2=7500 --cv_eval_mode=dynamic --num_cores=1 --cores_per_alpha=1 --tag=libd_chr1-chr1_AA-7001-7500-dynamic-1corestotal-1corepera-20240215-110114'\n",
      "Rscript scripts/CLI.R --outdir=./output/ --snp_data_path=/dcs04/lieber/statsgen/mnagle/mwas/gwas/libd_chr1.pgen --methylation_data_path=/dcs04/lieber/statsgen/mnagle/mwas/pheno/dlpfc/out/chr1_AA.rda --verbose=FALSE --lambda_choice=1se --alphas=0.5 --allow_inefficient_parallelization=FALSE --n_fold=5 --window_sizes=10000,20000,40000,60000,80000,100000,150000,200000,250000,300000,350000,400000,450000,500000 --save_evaluation_results_each_fold=FALSE --save_glmnet_object=FALSE --omit_folds_with_na_r=TRUE --methInput_rds_path=/dcs04/lieber/statsgen/mnagle/mwas/chr1_AA_methylation_10k_samples.rds --chunk1=7001 --chunk2=7500 --cv_eval_mode=dynamic --num_cores=1 --cores_per_alpha=1 --tag=libd_chr1-chr1_AA-7001-7500-dynamic-1corestotal-1corepera-20240215-110114\n"
     ]
    },
    {
     "name": "stderr",
     "output_type": "stream",
     "text": [
      "ZZZZzzzz....\n",
      "\n"
     ]
    },
    {
     "name": "stdout",
     "output_type": "stream",
     "text": [
      "#!/bin/bash\n",
      "#SBATCH --cpus-per-task=1\n",
      "#SBATCH --mem-per-cpu=16G\n",
      "#SBATCH --output=slurm_output_libd_chr1-chr1_AA-7501-8000-dynamic-1corestotal-1corepera-20240215-110115.out\n",
      "#SBATCH --job-name=libd_chr1-chr1_AA-7501-8000-dynamic-1corestotal-1corepera-20240215-110115\n",
      "module load conda\n",
      "conda activate mwas\n",
      "echo 'Executing Rscript with arguments: Rscript scripts/CLI.R --outdir=./output/ --snp_data_path=/dcs04/lieber/statsgen/mnagle/mwas/gwas/libd_chr1.pgen --methylation_data_path=/dcs04/lieber/statsgen/mnagle/mwas/pheno/dlpfc/out/chr1_AA.rda --verbose=FALSE --lambda_choice=1se --alphas=0.5 --allow_inefficient_parallelization=FALSE --n_fold=5 --window_sizes=10000,20000,40000,60000,80000,100000,150000,200000,250000,300000,350000,400000,450000,500000 --save_evaluation_results_each_fold=FALSE --save_glmnet_object=FALSE --omit_folds_with_na_r=TRUE --methInput_rds_path=/dcs04/lieber/statsgen/mnagle/mwas/chr1_AA_methylation_10k_samples.rds --chunk1=7501 --chunk2=8000 --cv_eval_mode=dynamic --num_cores=1 --cores_per_alpha=1 --tag=libd_chr1-chr1_AA-7501-8000-dynamic-1corestotal-1corepera-20240215-110115'\n",
      "Rscript scripts/CLI.R --outdir=./output/ --snp_data_path=/dcs04/lieber/statsgen/mnagle/mwas/gwas/libd_chr1.pgen --methylation_data_path=/dcs04/lieber/statsgen/mnagle/mwas/pheno/dlpfc/out/chr1_AA.rda --verbose=FALSE --lambda_choice=1se --alphas=0.5 --allow_inefficient_parallelization=FALSE --n_fold=5 --window_sizes=10000,20000,40000,60000,80000,100000,150000,200000,250000,300000,350000,400000,450000,500000 --save_evaluation_results_each_fold=FALSE --save_glmnet_object=FALSE --omit_folds_with_na_r=TRUE --methInput_rds_path=/dcs04/lieber/statsgen/mnagle/mwas/chr1_AA_methylation_10k_samples.rds --chunk1=7501 --chunk2=8000 --cv_eval_mode=dynamic --num_cores=1 --cores_per_alpha=1 --tag=libd_chr1-chr1_AA-7501-8000-dynamic-1corestotal-1corepera-20240215-110115\n"
     ]
    },
    {
     "name": "stderr",
     "output_type": "stream",
     "text": [
      "ZZZZzzzz....\n",
      "\n"
     ]
    },
    {
     "name": "stdout",
     "output_type": "stream",
     "text": [
      "#!/bin/bash\n",
      "#SBATCH --cpus-per-task=1\n",
      "#SBATCH --mem-per-cpu=16G\n",
      "#SBATCH --output=slurm_output_libd_chr1-chr1_AA-8001-8500-dynamic-1corestotal-1corepera-20240215-110116.out\n",
      "#SBATCH --job-name=libd_chr1-chr1_AA-8001-8500-dynamic-1corestotal-1corepera-20240215-110116\n",
      "module load conda\n",
      "conda activate mwas\n",
      "echo 'Executing Rscript with arguments: Rscript scripts/CLI.R --outdir=./output/ --snp_data_path=/dcs04/lieber/statsgen/mnagle/mwas/gwas/libd_chr1.pgen --methylation_data_path=/dcs04/lieber/statsgen/mnagle/mwas/pheno/dlpfc/out/chr1_AA.rda --verbose=FALSE --lambda_choice=1se --alphas=0.5 --allow_inefficient_parallelization=FALSE --n_fold=5 --window_sizes=10000,20000,40000,60000,80000,100000,150000,200000,250000,300000,350000,400000,450000,500000 --save_evaluation_results_each_fold=FALSE --save_glmnet_object=FALSE --omit_folds_with_na_r=TRUE --methInput_rds_path=/dcs04/lieber/statsgen/mnagle/mwas/chr1_AA_methylation_10k_samples.rds --chunk1=8001 --chunk2=8500 --cv_eval_mode=dynamic --num_cores=1 --cores_per_alpha=1 --tag=libd_chr1-chr1_AA-8001-8500-dynamic-1corestotal-1corepera-20240215-110116'\n",
      "Rscript scripts/CLI.R --outdir=./output/ --snp_data_path=/dcs04/lieber/statsgen/mnagle/mwas/gwas/libd_chr1.pgen --methylation_data_path=/dcs04/lieber/statsgen/mnagle/mwas/pheno/dlpfc/out/chr1_AA.rda --verbose=FALSE --lambda_choice=1se --alphas=0.5 --allow_inefficient_parallelization=FALSE --n_fold=5 --window_sizes=10000,20000,40000,60000,80000,100000,150000,200000,250000,300000,350000,400000,450000,500000 --save_evaluation_results_each_fold=FALSE --save_glmnet_object=FALSE --omit_folds_with_na_r=TRUE --methInput_rds_path=/dcs04/lieber/statsgen/mnagle/mwas/chr1_AA_methylation_10k_samples.rds --chunk1=8001 --chunk2=8500 --cv_eval_mode=dynamic --num_cores=1 --cores_per_alpha=1 --tag=libd_chr1-chr1_AA-8001-8500-dynamic-1corestotal-1corepera-20240215-110116\n"
     ]
    },
    {
     "name": "stderr",
     "output_type": "stream",
     "text": [
      "ZZZZzzzz....\n",
      "\n"
     ]
    },
    {
     "name": "stdout",
     "output_type": "stream",
     "text": [
      "#!/bin/bash\n",
      "#SBATCH --cpus-per-task=1\n",
      "#SBATCH --mem-per-cpu=16G\n",
      "#SBATCH --output=slurm_output_libd_chr1-chr1_AA-8501-9000-dynamic-1corestotal-1corepera-20240215-110117.out\n",
      "#SBATCH --job-name=libd_chr1-chr1_AA-8501-9000-dynamic-1corestotal-1corepera-20240215-110117\n",
      "module load conda\n",
      "conda activate mwas\n",
      "echo 'Executing Rscript with arguments: Rscript scripts/CLI.R --outdir=./output/ --snp_data_path=/dcs04/lieber/statsgen/mnagle/mwas/gwas/libd_chr1.pgen --methylation_data_path=/dcs04/lieber/statsgen/mnagle/mwas/pheno/dlpfc/out/chr1_AA.rda --verbose=FALSE --lambda_choice=1se --alphas=0.5 --allow_inefficient_parallelization=FALSE --n_fold=5 --window_sizes=10000,20000,40000,60000,80000,100000,150000,200000,250000,300000,350000,400000,450000,500000 --save_evaluation_results_each_fold=FALSE --save_glmnet_object=FALSE --omit_folds_with_na_r=TRUE --methInput_rds_path=/dcs04/lieber/statsgen/mnagle/mwas/chr1_AA_methylation_10k_samples.rds --chunk1=8501 --chunk2=9000 --cv_eval_mode=dynamic --num_cores=1 --cores_per_alpha=1 --tag=libd_chr1-chr1_AA-8501-9000-dynamic-1corestotal-1corepera-20240215-110117'\n",
      "Rscript scripts/CLI.R --outdir=./output/ --snp_data_path=/dcs04/lieber/statsgen/mnagle/mwas/gwas/libd_chr1.pgen --methylation_data_path=/dcs04/lieber/statsgen/mnagle/mwas/pheno/dlpfc/out/chr1_AA.rda --verbose=FALSE --lambda_choice=1se --alphas=0.5 --allow_inefficient_parallelization=FALSE --n_fold=5 --window_sizes=10000,20000,40000,60000,80000,100000,150000,200000,250000,300000,350000,400000,450000,500000 --save_evaluation_results_each_fold=FALSE --save_glmnet_object=FALSE --omit_folds_with_na_r=TRUE --methInput_rds_path=/dcs04/lieber/statsgen/mnagle/mwas/chr1_AA_methylation_10k_samples.rds --chunk1=8501 --chunk2=9000 --cv_eval_mode=dynamic --num_cores=1 --cores_per_alpha=1 --tag=libd_chr1-chr1_AA-8501-9000-dynamic-1corestotal-1corepera-20240215-110117\n"
     ]
    },
    {
     "name": "stderr",
     "output_type": "stream",
     "text": [
      "ZZZZzzzz....\n",
      "\n"
     ]
    },
    {
     "name": "stdout",
     "output_type": "stream",
     "text": [
      "#!/bin/bash\n",
      "#SBATCH --cpus-per-task=1\n",
      "#SBATCH --mem-per-cpu=16G\n",
      "#SBATCH --output=slurm_output_libd_chr1-chr1_AA-9001-9500-dynamic-1corestotal-1corepera-20240215-110118.out\n",
      "#SBATCH --job-name=libd_chr1-chr1_AA-9001-9500-dynamic-1corestotal-1corepera-20240215-110118\n",
      "module load conda\n",
      "conda activate mwas\n",
      "echo 'Executing Rscript with arguments: Rscript scripts/CLI.R --outdir=./output/ --snp_data_path=/dcs04/lieber/statsgen/mnagle/mwas/gwas/libd_chr1.pgen --methylation_data_path=/dcs04/lieber/statsgen/mnagle/mwas/pheno/dlpfc/out/chr1_AA.rda --verbose=FALSE --lambda_choice=1se --alphas=0.5 --allow_inefficient_parallelization=FALSE --n_fold=5 --window_sizes=10000,20000,40000,60000,80000,100000,150000,200000,250000,300000,350000,400000,450000,500000 --save_evaluation_results_each_fold=FALSE --save_glmnet_object=FALSE --omit_folds_with_na_r=TRUE --methInput_rds_path=/dcs04/lieber/statsgen/mnagle/mwas/chr1_AA_methylation_10k_samples.rds --chunk1=9001 --chunk2=9500 --cv_eval_mode=dynamic --num_cores=1 --cores_per_alpha=1 --tag=libd_chr1-chr1_AA-9001-9500-dynamic-1corestotal-1corepera-20240215-110118'\n",
      "Rscript scripts/CLI.R --outdir=./output/ --snp_data_path=/dcs04/lieber/statsgen/mnagle/mwas/gwas/libd_chr1.pgen --methylation_data_path=/dcs04/lieber/statsgen/mnagle/mwas/pheno/dlpfc/out/chr1_AA.rda --verbose=FALSE --lambda_choice=1se --alphas=0.5 --allow_inefficient_parallelization=FALSE --n_fold=5 --window_sizes=10000,20000,40000,60000,80000,100000,150000,200000,250000,300000,350000,400000,450000,500000 --save_evaluation_results_each_fold=FALSE --save_glmnet_object=FALSE --omit_folds_with_na_r=TRUE --methInput_rds_path=/dcs04/lieber/statsgen/mnagle/mwas/chr1_AA_methylation_10k_samples.rds --chunk1=9001 --chunk2=9500 --cv_eval_mode=dynamic --num_cores=1 --cores_per_alpha=1 --tag=libd_chr1-chr1_AA-9001-9500-dynamic-1corestotal-1corepera-20240215-110118\n"
     ]
    },
    {
     "name": "stderr",
     "output_type": "stream",
     "text": [
      "ZZZZzzzz....\n",
      "\n"
     ]
    },
    {
     "name": "stdout",
     "output_type": "stream",
     "text": [
      "#!/bin/bash\n",
      "#SBATCH --cpus-per-task=1\n",
      "#SBATCH --mem-per-cpu=16G\n",
      "#SBATCH --output=slurm_output_libd_chr1-chr1_AA-9501-10000-dynamic-1corestotal-1corepera-20240215-110120.out\n",
      "#SBATCH --job-name=libd_chr1-chr1_AA-9501-10000-dynamic-1corestotal-1corepera-20240215-110120\n",
      "module load conda\n",
      "conda activate mwas\n",
      "echo 'Executing Rscript with arguments: Rscript scripts/CLI.R --outdir=./output/ --snp_data_path=/dcs04/lieber/statsgen/mnagle/mwas/gwas/libd_chr1.pgen --methylation_data_path=/dcs04/lieber/statsgen/mnagle/mwas/pheno/dlpfc/out/chr1_AA.rda --verbose=FALSE --lambda_choice=1se --alphas=0.5 --allow_inefficient_parallelization=FALSE --n_fold=5 --window_sizes=10000,20000,40000,60000,80000,100000,150000,200000,250000,300000,350000,400000,450000,500000 --save_evaluation_results_each_fold=FALSE --save_glmnet_object=FALSE --omit_folds_with_na_r=TRUE --methInput_rds_path=/dcs04/lieber/statsgen/mnagle/mwas/chr1_AA_methylation_10k_samples.rds --chunk1=9501 --chunk2=10000 --cv_eval_mode=dynamic --num_cores=1 --cores_per_alpha=1 --tag=libd_chr1-chr1_AA-9501-10000-dynamic-1corestotal-1corepera-20240215-110120'\n",
      "Rscript scripts/CLI.R --outdir=./output/ --snp_data_path=/dcs04/lieber/statsgen/mnagle/mwas/gwas/libd_chr1.pgen --methylation_data_path=/dcs04/lieber/statsgen/mnagle/mwas/pheno/dlpfc/out/chr1_AA.rda --verbose=FALSE --lambda_choice=1se --alphas=0.5 --allow_inefficient_parallelization=FALSE --n_fold=5 --window_sizes=10000,20000,40000,60000,80000,100000,150000,200000,250000,300000,350000,400000,450000,500000 --save_evaluation_results_each_fold=FALSE --save_glmnet_object=FALSE --omit_folds_with_na_r=TRUE --methInput_rds_path=/dcs04/lieber/statsgen/mnagle/mwas/chr1_AA_methylation_10k_samples.rds --chunk1=9501 --chunk2=10000 --cv_eval_mode=dynamic --num_cores=1 --cores_per_alpha=1 --tag=libd_chr1-chr1_AA-9501-10000-dynamic-1corestotal-1corepera-20240215-110120\n"
     ]
    },
    {
     "name": "stderr",
     "output_type": "stream",
     "text": [
      "ZZZZzzzz....\n",
      "\n"
     ]
    }
   ],
   "source": [
    "# Constant Arguments Setup\n",
    "constant_args_df <- data.frame(\n",
    "  outdir = \"./output/\",\n",
    "  snp_data_path = \"/dcs04/lieber/statsgen/mnagle/mwas/gwas/libd_chr1.pgen\",\n",
    "  methylation_data_path = \"/dcs04/lieber/statsgen/mnagle/mwas/pheno/dlpfc/out/chr1_all.rda\",\n",
    "  cov = \"/dcs04/lieber/statsgen/mnagle/mwas/full_covariates/all_dlpfc.csv\",\n",
    "  verbose = FALSE,\n",
    "  lambda_choice = \"1se\",\n",
    "  alphas = 0.5,\n",
    "  allow_inefficient_parallelization = FALSE,\n",
    "  n_fold = 5,\n",
    "  window_sizes = \"10000\",\n",
    "  #window_sizes = \"500000\",\n",
    "  save_evaluation_results_each_fold = FALSE,\n",
    "  save_glmnet_object = FALSE,\n",
    "  omit_folds_with_na_r = TRUE,\n",
    "  methInput_rds_path = \"/dcs04/lieber/statsgen/mnagle/mwas/chr1_dfplc_all_methylation_10k_samples_a3.rds\"\n",
    ")\n",
    "\n",
    "# Varying parameters\n",
    "cv_eval_modes <- c(\"dynamic\")\n",
    "cores_per_alphas <- c(\"1\") #NA)  # Include NA to signify the default value should be used\n",
    "num_cores_options <- c(1, 12)\n",
    "\n",
    "generate_slurm_script <- function(args, tag_pt1, tag_pt2, mem_per_cpu = \"16G\") {\n",
    "  cpus_per_task <- if (is.null(args$num_cores) || args$num_cores == \"all\") {\n",
    "    \"#SBATCH --exclusive\\n\"\n",
    "  } else {\n",
    "    paste0(\"#SBATCH --cpus-per-task=\", args$num_cores, \"\\n\")\n",
    "  }\n",
    "\n",
    "  # Always set mem_per_cpu flag, even in exclusive mode\n",
    "  mem_allocation <- paste0(\"#SBATCH --mem-per-cpu=\", mem_per_cpu, \"\\n\")\n",
    "\n",
    "  args_string <- paste(\"--\", names(args), \"=\", args, sep = \"\", collapse = \" \")\n",
    "  args_string <- paste(args_string, \" --tag=\", tag_pt1, \"-\", tag_pt2, sep = \"\")\n",
    "\n",
    "slurm_script <- paste(\n",
    "  \"#!/bin/bash\\n\",\n",
    "  cpus_per_task,\n",
    "  mem_allocation,\n",
    "  \"#SBATCH --output=slurm_output_\", tag_pt1, \"-\", tag_pt2, \".out\\n\",\n",
    "  \"#SBATCH --job-name=\", tag_pt1, \"-\", tag_pt2, \"\\n\",\n",
    "  \"module load conda\\n\",\n",
    "  \"conda activate mwas\\n\",\n",
    "  \"echo 'Executing Rscript with arguments: Rscript scripts/CLI.R \", args_string, \"'\\n\",\n",
    "  \"Rscript scripts/CLI.R \", args_string, \"\\n\",\n",
    "  sep = \"\"\n",
    ")\n",
    "\n",
    "  return(list(script = slurm_script, path = paste0(\"slurm_scripts/\", tag_pt1, \"-\", tag_pt2, \".sh\")))\n",
    "}\n",
    "\n",
    "# Overwrite flag (set by user)\n",
    "overwrite <- FALSE\n",
    "\n",
    "for (chunk_range in 1:ncol(chunk_ranges)) {\n",
    "  constant_args_df$chunk1 <- chunk_ranges[1, chunk_range]\n",
    "  constant_args_df$chunk2 <- chunk_ranges[2, chunk_range]\n",
    "    # Loop through each combination\n",
    "    for (cv_eval_mode in cv_eval_modes) {\n",
    "      for (cores_per_alpha in cores_per_alphas) {\n",
    "        for (num_cores in num_cores_options) {\n",
    "          # Update constant_args_df for the current combination\n",
    "          constant_args_df$cv_eval_mode <- cv_eval_mode\n",
    "          constant_args_df$num_cores <- num_cores\n",
    "          if (!is.na(cores_per_alpha)) {\n",
    "            constant_args_df$cores_per_alpha <- cores_per_alpha\n",
    "          } else {\n",
    "            constant_args_df$cores_per_alpha <- NULL\n",
    "          }\n",
    "\n",
    "          # Generate tags\n",
    "          snp_base <- tools::file_path_sans_ext(basename(constant_args_df$snp_data_path))\n",
    "          meth_base <- tools::file_path_sans_ext(basename(constant_args_df$methylation_data_path))\n",
    "          datetime_str <- format(Sys.time(), \"%Y%m%d-%H%M%S\")\n",
    "          tag_pt1 <- paste(snp_base, meth_base, format(constant_args_df$chunk1, scientific = FALSE), format(constant_args_df$chunk2, scientific = FALSE), cv_eval_mode, paste0(num_cores, \"corestotal\"), ifelse(is.na(cores_per_alpha), \"defaultcore\", paste0(cores_per_alpha, \"corepera\")), sep = \"-\")\n",
    "          tag_pt2 <- datetime_str\n",
    "\n",
    "          # Check for existing file\n",
    "          existing_files <- list.files(path = constant_args_df$outdir, pattern = paste0(\"^\", tag_pt1, \".*\\\\.rds$\"), full.names = TRUE)\n",
    "          if (!overwrite && length(existing_files) > 0) {\n",
    "            message(\"File with tag \", tag_pt1, \" already exists. Skipping...\")\n",
    "            next\n",
    "          }\n",
    "\n",
    "          # Generate and print SLURM script\n",
    "          script_info <- generate_slurm_script(constant_args_df, tag_pt1, tag_pt2,\n",
    "                                               mem_per_cpu = \"16G\")\n",
    "\n",
    "          cat(script_info$script)\n",
    "\n",
    "          writeLines(script_info$script, script_info$path)\n",
    "\n",
    "          # Submit the SLURM job using the sbatch command\n",
    "          system(paste(\"sbatch\", script_info$path))\n",
    "\n",
    "          # Implement job submission limits and intervals if necessary\n",
    "          #Sys.sleep(1)\n",
    "          message(\"ZZZZzzzz....\")\n",
    "        }\n",
    "      }\n",
    "    }\n",
    "}\n"
   ]
  },
  {
   "cell_type": "code",
   "execution_count": 6,
   "id": "6e12ac75-bd0f-40c9-ab75-a24ba56637c2",
   "metadata": {},
   "outputs": [
    {
     "data": {
      "text/html": [
       "'libd_chr1-chr1_AA-9501-10000-dynamic-1corestotal-1corepera'"
      ],
      "text/latex": [
       "'libd\\_chr1-chr1\\_AA-9501-10000-dynamic-1corestotal-1corepera'"
      ],
      "text/markdown": [
       "'libd_chr1-chr1_AA-9501-10000-dynamic-1corestotal-1corepera'"
      ],
      "text/plain": [
       "[1] \"libd_chr1-chr1_AA-9501-10000-dynamic-1corestotal-1corepera\""
      ]
     },
     "metadata": {},
     "output_type": "display_data"
    }
   ],
   "source": [
    "tag_pt1"
   ]
  },
  {
   "cell_type": "markdown",
   "id": "c9a9aa25-1415-456b-b5b0-3ab6703941c7",
   "metadata": {
    "tags": []
   },
   "source": [
    "## Define parameters"
   ]
  },
  {
   "cell_type": "code",
   "execution_count": 7,
   "id": "d1924a3d-0a35-4f4d-8dc6-3a18ecd1f543",
   "metadata": {
    "tags": []
   },
   "outputs": [],
   "source": [
    "# # Constant Arguments Setup\n",
    "# constant_args_df <- data.frame(\n",
    "#   outdir = \"./output/\",\n",
    "#   chunk1 = 1000000,\n",
    "#   chunk2 = 1001000,\n",
    "#   snp_data_path = \"/dcs04/lieber/statsgen/mnagle/mwas/gwas/libd_chr1.pgen\",\n",
    "#   methylation_data_path = \"/dcs04/lieber/statsgen/mnagle/mwas/pheno/dlpfc/out/chr1_AA.rda\",\n",
    "#   #snp_data_path = \"/Users/michaelnagle/code/mwas/gwas/libd_chr1.pgen\",\n",
    "#   #methylation_data_path = \"/Users/michaelnagle/code/mwas/pheno/dlpfc/out/chr1_AA.rda\",  \n",
    "#   verbose = FALSE,\n",
    "#   lambda_choice = \"1se\",\n",
    "#   alphas = \"0.25,0.5,0.75,1\",\n",
    "#   #num_cores = \"all\",\n",
    "#   allow_inefficient_parallelization = FALSE,\n",
    "#   n_fold = 5,\n",
    "#   window_sizes = \"1000,2000,5000,10000,20000,50000,100000,500000\",\n",
    "#   #tag = format(Sys.time(), \"%Y%m%d-%H%M%S\"),\n",
    "#   save_evaluation_results_each_fold = FALSE,\n",
    "#   save_glmnet_object = FALSE,\n",
    "#   cv_eval_mode = \"dynamic\"\n",
    "# )\n",
    "\n",
    "# # Convert alphas to a comma-separated string\n",
    "# #constant_args_df$alphas <- sapply(constant_args_df$alphas, function(x) paste(x, collapse = \",\"))\n",
    "\n",
    "\n",
    "# # Varying parameters\n",
    "# cv_eval_modes <- c(\"static\", \"dynamic\")\n",
    "# cores_per_alphas <- c(\"all\", \"1\")"
   ]
  },
  {
   "cell_type": "markdown",
   "id": "e58c74ca-a71b-43b0-967b-185802ec8cb1",
   "metadata": {},
   "source": [
    "## Generate and deploy SLURM calls"
   ]
  },
  {
   "cell_type": "code",
   "execution_count": 8,
   "id": "27def26a-2583-4b17-947b-b40cacd9e562",
   "metadata": {
    "tags": []
   },
   "outputs": [],
   "source": [
    "# generate_slurm_script <- function(args, tag) {\n",
    "#   # Check if cores_per_alpha is set and not NULL\n",
    "#   if (!is.null(args$cores_per_alpha) && args$cores_per_alpha == \"all\") {\n",
    "#     mem_allocation <- \"0\"\n",
    "#     cpus_per_task <- \"#SBATCH --exclusive\\n\"\n",
    "#   } else {\n",
    "#     mem_allocation <- \"16G\"\n",
    "#     cpus_per_task <- \"#SBATCH --cpus-per-task=1\\n\"\n",
    "#   }\n",
    "\n",
    "#   args_string <- paste(\"--\", names(args), \"=\", args, sep = \"\", collapse = \" \")\n",
    "#   args_string <- paste(args_string, \" --tag=\", tag, sep = \"\")\n",
    "\n",
    "#   slurm_script <- paste(\n",
    "#     \"#!/bin/bash\\n\",\n",
    "#     cpus_per_task,\n",
    "#     \"#SBATCH --mem=\", mem_allocation, \"\\n\",\n",
    "#     \"#SBATCH --output=slurm_output_\", tag, \".out\\n\",\n",
    "#     \"#SBATCH --job-name=\", tag, \"\\n\",\n",
    "#     \"Rscript scripts/CLI.R \", args_string, \"\\n\",\n",
    "#     sep = \"\"\n",
    "#   )\n",
    "\n",
    "#   return(slurm_script)\n",
    "# }\n",
    "\n",
    "# # Varying parameters\n",
    "# cv_eval_modes <- c(\"static\", \"dynamic\")\n",
    "# cores_per_alphas <- c(\"1\", NA)  # Include NA to signify the default value should be used\n",
    "\n",
    "# # Loop through each combination\n",
    "# for (cv_eval_mode in cv_eval_modes) {\n",
    "#   for (cores_per_alpha in cores_per_alphas) {\n",
    "#     # Update constant_args_df for the current combination\n",
    "#     constant_args_df$cv_eval_mode <- cv_eval_mode\n",
    "#     # Use an if-statement to decide whether to assign the value or leave it to default\n",
    "#     if (!is.na(cores_per_alpha)) {\n",
    "#       constant_args_df$cores_per_alpha <- cores_per_alpha\n",
    "#     } else {\n",
    "#       constant_args_df$cores_per_alpha <- NULL  # Setting it to NULL to use the function's default\n",
    "#     }\n",
    "\n",
    "#     # Generate tag with consideration for NA\n",
    "#     snp_base <- tools::file_path_sans_ext(basename(constant_args_df$snp_data_path))\n",
    "#     meth_base <- tools::file_path_sans_ext(basename(constant_args_df$methylation_data_path))\n",
    "#     datetime_str <- format(Sys.time(), \"%Y%m%d-%H%M%S\")\n",
    "#     cores_tag <- ifelse(is.na(cores_per_alpha), \"defaultcore\", paste0(cores_per_alpha, \"core\"))\n",
    "#     tag <- paste(snp_base, meth_base, cv_eval_mode, cores_tag, datetime_str, sep = \"-\")\n",
    "\n",
    "#     # Generate and print SLURM script\n",
    "#     slurm_script <- generate_slurm_script(constant_args_df, tag)\n",
    "#     cat(slurm_script, \"\\n\\n\")\n",
    "\n",
    "#     slurm_script_path <- paste0(\"slurm_scripts/\", tag, \".sh\")  # Define path to save SLURM script\n",
    "\n",
    "      \n",
    "#     # Save SLURM script to a file\n",
    "#     writeLines(slurm_script, slurm_script_path)\n",
    "\n",
    "#     # Submit the SLURM job using the sbatch command\n",
    "#     system(paste(\"sbatch\", slurm_script_path))\n",
    "\n",
    "#     # Implement job submission limits and intervals if necessary\n",
    "#     # For example, to wait for 1 second between submissions:\n",
    "#     Sys.sleep(42)\n",
    "#     message(\"ZZZZzzzz....\")\n",
    "#   }\n",
    "# }\n"
   ]
  },
  {
   "cell_type": "code",
   "execution_count": null,
   "id": "5371a450-78e9-4625-bc65-67fc22693584",
   "metadata": {},
   "outputs": [],
   "source": []
  },
  {
   "cell_type": "code",
   "execution_count": null,
   "id": "d42889af-e0fb-43b7-9ea0-f84c90aacbbb",
   "metadata": {},
   "outputs": [],
   "source": []
  }
 ],
 "metadata": {
  "kernelspec": {
   "display_name": "R",
   "language": "R",
   "name": "ir"
  },
  "language_info": {
   "codemirror_mode": "r",
   "file_extension": ".r",
   "mimetype": "text/x-r-source",
   "name": "R",
   "pygments_lexer": "r",
   "version": "4.3.1"
  }
 },
 "nbformat": 4,
 "nbformat_minor": 5
}
