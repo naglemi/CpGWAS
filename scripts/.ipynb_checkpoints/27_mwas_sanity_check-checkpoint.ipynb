{
 "cells": [
  {
   "cell_type": "markdown",
   "id": "9a1c0d9e-c5f3-4ff4-bfb8-b34ef1181e10",
   "metadata": {},
   "source": [
    "# Shizhong's original code without modifications"
   ]
  },
  {
   "cell_type": "code",
   "execution_count": 9,
   "id": "17f07760-445e-4c49-9ab0-d2ffb9d98341",
   "metadata": {},
   "outputs": [],
   "source": [
    "#new lines\n",
    "load(\"p1.rda\")"
   ]
  },
  {
   "cell_type": "code",
   "execution_count": 10,
   "id": "dcf1cf23-9e98-49c7-b398-f9397c7c00b1",
   "metadata": {},
   "outputs": [],
   "source": [
    "library(\"glmnet\")\n",
    "library(\"e1071\")\n",
    "library(\"doParallel\")\n",
    "source(\"model.R\")\n",
    "\n",
    "args = commandArgs(trailingOnly=TRUE)\n",
    "\n",
    "set.seed(2018)\n",
    "wind <- c(5000,10000)\n",
    "# output directory\n",
    "#outd <- \"/dcl02/lieber/shan/shizhong/finemapping/GWAS/tags/scz3/mwas/chr22/1/\"\n",
    "outd <- \"27-OUT/\"\n",
    "\n",
    "# load data for mwas\n",
    "# load(\"./rda/caudate_mwas_data_chr22.rda\")\n",
    "#load(as.character(args[2]))\n",
    "load(\"BSsample.rda\")\n",
    "\n",
    "# candidate cg\n",
    "cg <- as.numeric(rownames(p))"
   ]
  },
  {
   "cell_type": "code",
   "execution_count": 11,
   "id": "24dd48a8-9930-4cfc-a609-c16a58c56fc2",
   "metadata": {},
   "outputs": [],
   "source": [
    "# regress out covariates\n",
    "load(\"covs_for_meqtl.rda\")\n",
    "mat <- match(BSsample$brnum,colnames(covs)) \n",
    "covs <- t(covs[,mat])\n",
    "p.residual=matrix(0,dim(p)[1],dim(p)[2])\n",
    "for(i in 1:dim(p)[1]){\n",
    "\tdat <- as.data.frame(cbind(p[i,],covs))\n",
    "\tcolnames(dat) <- c(\"y\",paste0(\"x\",1:33))\n",
    "\tmodel.res <- lm(reformulate(paste0(\"x\",1:33), \"y\"),dat)\n",
    "\tp.residual[i,] = resid(model.res) \n",
    "}"
   ]
  },
  {
   "cell_type": "code",
   "execution_count": 15,
   "id": "2c51d359-a407-43ea-8870-37b5757d44a3",
   "metadata": {},
   "outputs": [
    {
     "name": "stdout",
     "output_type": "stream",
     "text": [
      "1 \n",
      "2 \n",
      "3 \n",
      "4 \n",
      "5 \n",
      "6 \n",
      "7 \n",
      "8 \n",
      "9 \n",
      "10 \n",
      "11 \n",
      "12 \n",
      "13 \n",
      "14 \n",
      "15 \n",
      "16 \n",
      "17 \n",
      "18 \n",
      "19 \n",
      "20 \n",
      "21 \n",
      "22 \n",
      "23 \n"
     ]
    },
    {
     "name": "stderr",
     "output_type": "stream",
     "text": [
      "Warning message:\n",
      "“from glmnet C++ code (error code -99); Convergence for 99th lambda value not reached after maxit=100000 iterations; solutions for larger lambdas returned”\n"
     ]
    },
    {
     "name": "stdout",
     "output_type": "stream",
     "text": [
      "24 \n",
      "25 \n"
     ]
    },
    {
     "name": "stderr",
     "output_type": "stream",
     "text": [
      "Warning message:\n",
      "“from glmnet C++ code (error code -98); Convergence for 98th lambda value not reached after maxit=100000 iterations; solutions for larger lambdas returned”\n"
     ]
    },
    {
     "name": "stdout",
     "output_type": "stream",
     "text": [
      "26 \n",
      "27 \n",
      "28 \n",
      "29 \n",
      "30 \n",
      "31 \n",
      "32 \n",
      "33 \n",
      "34 \n",
      "35 \n",
      "36 \n",
      "37 \n",
      "38 \n",
      "39 \n",
      "40 \n",
      "41 \n",
      "42 \n",
      "43 \n",
      "44 \n",
      "45 \n",
      "46 \n",
      "47 \n",
      "48 \n",
      "49 \n",
      "50 \n",
      "51 \n",
      "52 \n",
      "53 \n",
      "54 \n",
      "55 \n",
      "56 \n",
      "57 \n",
      "58 \n",
      "59 \n",
      "60 \n",
      "61 \n",
      "62 \n",
      "63 \n",
      "64 \n",
      "65 \n",
      "66 \n",
      "67 \n",
      "68 \n",
      "69 \n",
      "70 \n",
      "71 \n",
      "72 \n",
      "73 \n",
      "74 \n",
      "75 \n",
      "76 \n",
      "77 \n",
      "78 \n",
      "79 \n",
      "80 \n",
      "81 \n",
      "82 \n",
      "83 \n",
      "84 \n",
      "85 \n",
      "86 \n",
      "87 \n",
      "88 \n",
      "89 \n",
      "90 \n",
      "91 \n",
      "92 \n",
      "93 \n",
      "94 \n",
      "95 \n",
      "96 \n",
      "97 \n",
      "98 \n",
      "99 \n",
      "100 \n",
      "101 \n",
      "102 \n",
      "103 \n",
      "104 \n",
      "105 \n",
      "106 \n",
      "107 \n",
      "108 \n",
      "109 \n",
      "110 \n",
      "111 \n",
      "112 \n"
     ]
    },
    {
     "name": "stderr",
     "output_type": "stream",
     "text": [
      "Warning message:\n",
      "“from glmnet C++ code (error code -98); Convergence for 98th lambda value not reached after maxit=100000 iterations; solutions for larger lambdas returned”\n"
     ]
    },
    {
     "name": "stdout",
     "output_type": "stream",
     "text": [
      "113 \n"
     ]
    },
    {
     "name": "stderr",
     "output_type": "stream",
     "text": [
      "Warning message:\n",
      "“from glmnet C++ code (error code -100); Convergence for 100th lambda value not reached after maxit=100000 iterations; solutions for larger lambdas returned”\n",
      "Warning message:\n",
      "“from glmnet C++ code (error code -96); Convergence for 96th lambda value not reached after maxit=100000 iterations; solutions for larger lambdas returned”\n",
      "Warning message:\n",
      "“from glmnet C++ code (error code -94); Convergence for 94th lambda value not reached after maxit=100000 iterations; solutions for larger lambdas returned”\n"
     ]
    },
    {
     "name": "stdout",
     "output_type": "stream",
     "text": [
      "114 \n"
     ]
    },
    {
     "name": "stderr",
     "output_type": "stream",
     "text": [
      "Warning message:\n",
      "“from glmnet C++ code (error code -97); Convergence for 97th lambda value not reached after maxit=100000 iterations; solutions for larger lambdas returned”\n",
      "Warning message:\n",
      "“from glmnet C++ code (error code -91); Convergence for 91th lambda value not reached after maxit=100000 iterations; solutions for larger lambdas returned”\n",
      "Warning message:\n",
      "“from glmnet C++ code (error code -99); Convergence for 99th lambda value not reached after maxit=100000 iterations; solutions for larger lambdas returned”\n",
      "Warning message:\n",
      "“from glmnet C++ code (error code -75); Convergence for 75th lambda value not reached after maxit=100000 iterations; solutions for larger lambdas returned”\n"
     ]
    },
    {
     "name": "stdout",
     "output_type": "stream",
     "text": [
      "115 \n"
     ]
    },
    {
     "name": "stderr",
     "output_type": "stream",
     "text": [
      "Warning message:\n",
      "“from glmnet C++ code (error code -92); Convergence for 92th lambda value not reached after maxit=100000 iterations; solutions for larger lambdas returned”\n",
      "Warning message:\n",
      "“from glmnet C++ code (error code -97); Convergence for 97th lambda value not reached after maxit=100000 iterations; solutions for larger lambdas returned”\n",
      "Warning message:\n",
      "“from glmnet C++ code (error code -97); Convergence for 97th lambda value not reached after maxit=100000 iterations; solutions for larger lambdas returned”\n",
      "Warning message:\n",
      "“from glmnet C++ code (error code -95); Convergence for 95th lambda value not reached after maxit=100000 iterations; solutions for larger lambdas returned”\n",
      "Warning message:\n",
      "“from glmnet C++ code (error code -89); Convergence for 89th lambda value not reached after maxit=100000 iterations; solutions for larger lambdas returned”\n",
      "Warning message:\n",
      "“from glmnet C++ code (error code -88); Convergence for 88th lambda value not reached after maxit=100000 iterations; solutions for larger lambdas returned”\n",
      "Warning message:\n",
      "“from glmnet C++ code (error code -90); Convergence for 90th lambda value not reached after maxit=100000 iterations; solutions for larger lambdas returned”\n",
      "Warning message:\n",
      "“from glmnet C++ code (error code -73); Convergence for 73th lambda value not reached after maxit=100000 iterations; solutions for larger lambdas returned”\n"
     ]
    },
    {
     "name": "stdout",
     "output_type": "stream",
     "text": [
      "116 \n"
     ]
    },
    {
     "name": "stderr",
     "output_type": "stream",
     "text": [
      "Warning message:\n",
      "“from glmnet C++ code (error code -98); Convergence for 98th lambda value not reached after maxit=100000 iterations; solutions for larger lambdas returned”\n",
      "Warning message:\n",
      "“from glmnet C++ code (error code -100); Convergence for 100th lambda value not reached after maxit=100000 iterations; solutions for larger lambdas returned”\n",
      "Warning message:\n",
      "“from glmnet C++ code (error code -97); Convergence for 97th lambda value not reached after maxit=100000 iterations; solutions for larger lambdas returned”\n",
      "Warning message:\n",
      "“from glmnet C++ code (error code -98); Convergence for 98th lambda value not reached after maxit=100000 iterations; solutions for larger lambdas returned”\n",
      "Warning message:\n",
      "“from glmnet C++ code (error code -97); Convergence for 97th lambda value not reached after maxit=100000 iterations; solutions for larger lambdas returned”\n",
      "Warning message:\n",
      "“from glmnet C++ code (error code -83); Convergence for 83th lambda value not reached after maxit=100000 iterations; solutions for larger lambdas returned”\n",
      "Warning message:\n",
      "“from glmnet C++ code (error code -97); Convergence for 97th lambda value not reached after maxit=100000 iterations; solutions for larger lambdas returned”\n",
      "Warning message:\n",
      "“from glmnet C++ code (error code -83); Convergence for 83th lambda value not reached after maxit=100000 iterations; solutions for larger lambdas returned”\n",
      "Warning message:\n",
      "“from glmnet C++ code (error code -79); Convergence for 79th lambda value not reached after maxit=100000 iterations; solutions for larger lambdas returned”\n",
      "Warning message:\n",
      "“from glmnet C++ code (error code -75); Convergence for 75th lambda value not reached after maxit=100000 iterations; solutions for larger lambdas returned”\n"
     ]
    },
    {
     "name": "stdout",
     "output_type": "stream",
     "text": [
      "117 \n"
     ]
    },
    {
     "name": "stderr",
     "output_type": "stream",
     "text": [
      "Warning message:\n",
      "“from glmnet C++ code (error code -90); Convergence for 90th lambda value not reached after maxit=100000 iterations; solutions for larger lambdas returned”\n",
      "Warning message:\n",
      "“from glmnet C++ code (error code -90); Convergence for 90th lambda value not reached after maxit=100000 iterations; solutions for larger lambdas returned”\n",
      "Warning message:\n",
      "“from glmnet C++ code (error code -100); Convergence for 100th lambda value not reached after maxit=100000 iterations; solutions for larger lambdas returned”\n",
      "Warning message:\n",
      "“from glmnet C++ code (error code -95); Convergence for 95th lambda value not reached after maxit=100000 iterations; solutions for larger lambdas returned”\n",
      "Warning message:\n",
      "“from glmnet C++ code (error code -88); Convergence for 88th lambda value not reached after maxit=100000 iterations; solutions for larger lambdas returned”\n",
      "Warning message:\n",
      "“from glmnet C++ code (error code -87); Convergence for 87th lambda value not reached after maxit=100000 iterations; solutions for larger lambdas returned”\n",
      "Warning message:\n",
      "“from glmnet C++ code (error code -76); Convergence for 76th lambda value not reached after maxit=100000 iterations; solutions for larger lambdas returned”\n"
     ]
    },
    {
     "name": "stdout",
     "output_type": "stream",
     "text": [
      "118 \n"
     ]
    },
    {
     "name": "stderr",
     "output_type": "stream",
     "text": [
      "Warning message:\n",
      "“from glmnet C++ code (error code -98); Convergence for 98th lambda value not reached after maxit=100000 iterations; solutions for larger lambdas returned”\n",
      "Warning message:\n",
      "“from glmnet C++ code (error code -94); Convergence for 94th lambda value not reached after maxit=100000 iterations; solutions for larger lambdas returned”\n",
      "Warning message:\n",
      "“from glmnet C++ code (error code -86); Convergence for 86th lambda value not reached after maxit=100000 iterations; solutions for larger lambdas returned”\n",
      "Warning message:\n",
      "“from glmnet C++ code (error code -66); Convergence for 66th lambda value not reached after maxit=100000 iterations; solutions for larger lambdas returned”\n",
      "Warning message:\n",
      "“from glmnet C++ code (error code -86); Convergence for 86th lambda value not reached after maxit=100000 iterations; solutions for larger lambdas returned”\n",
      "Warning message:\n",
      "“from glmnet C++ code (error code -80); Convergence for 80th lambda value not reached after maxit=100000 iterations; solutions for larger lambdas returned”\n"
     ]
    },
    {
     "name": "stdout",
     "output_type": "stream",
     "text": [
      "119 \n",
      "120 \n",
      "121 \n",
      "122 \n",
      "123 \n",
      "124 \n",
      "125 \n",
      "126 \n",
      "127 \n",
      "128 \n",
      "129 \n"
     ]
    },
    {
     "name": "stderr",
     "output_type": "stream",
     "text": [
      "Warning message:\n",
      "“from glmnet C++ code (error code -94); Convergence for 94th lambda value not reached after maxit=100000 iterations; solutions for larger lambdas returned”\n"
     ]
    },
    {
     "name": "stdout",
     "output_type": "stream",
     "text": [
      "130 \n",
      "131 \n"
     ]
    },
    {
     "name": "stderr",
     "output_type": "stream",
     "text": [
      "Warning message:\n",
      "“from glmnet C++ code (error code -96); Convergence for 96th lambda value not reached after maxit=100000 iterations; solutions for larger lambdas returned”\n"
     ]
    },
    {
     "name": "stdout",
     "output_type": "stream",
     "text": [
      "132 \n",
      "133 \n",
      "134 \n",
      "135 \n",
      "136 \n",
      "137 \n",
      "138 \n",
      "139 \n",
      "140 \n",
      "141 \n",
      "142 \n",
      "143 \n",
      "144 \n",
      "145 \n",
      "146 \n",
      "147 \n",
      "148 \n",
      "149 \n",
      "150 \n",
      "151 \n",
      "152 \n",
      "153 \n",
      "154 \n",
      "155 \n",
      "156 \n",
      "157 \n"
     ]
    },
    {
     "name": "stderr",
     "output_type": "stream",
     "text": [
      "Warning message:\n",
      "“from glmnet C++ code (error code -89); Convergence for 89th lambda value not reached after maxit=100000 iterations; solutions for larger lambdas returned”\n",
      "Warning message:\n",
      "“from glmnet C++ code (error code -94); Convergence for 94th lambda value not reached after maxit=100000 iterations; solutions for larger lambdas returned”\n"
     ]
    },
    {
     "name": "stdout",
     "output_type": "stream",
     "text": [
      "158 \n"
     ]
    },
    {
     "name": "stderr",
     "output_type": "stream",
     "text": [
      "Warning message:\n",
      "“from glmnet C++ code (error code -98); Convergence for 98th lambda value not reached after maxit=100000 iterations; solutions for larger lambdas returned”\n",
      "Warning message:\n",
      "“from glmnet C++ code (error code -99); Convergence for 99th lambda value not reached after maxit=100000 iterations; solutions for larger lambdas returned”\n",
      "Warning message:\n",
      "“from glmnet C++ code (error code -87); Convergence for 87th lambda value not reached after maxit=100000 iterations; solutions for larger lambdas returned”\n",
      "Warning message:\n",
      "“from glmnet C++ code (error code -86); Convergence for 86th lambda value not reached after maxit=100000 iterations; solutions for larger lambdas returned”\n",
      "Warning message:\n",
      "“from glmnet C++ code (error code -93); Convergence for 93th lambda value not reached after maxit=100000 iterations; solutions for larger lambdas returned”\n",
      "Warning message:\n",
      "“from glmnet C++ code (error code -89); Convergence for 89th lambda value not reached after maxit=100000 iterations; solutions for larger lambdas returned”\n",
      "Warning message:\n",
      "“from glmnet C++ code (error code -93); Convergence for 93th lambda value not reached after maxit=100000 iterations; solutions for larger lambdas returned”\n",
      "Warning message:\n",
      "“from glmnet C++ code (error code -88); Convergence for 88th lambda value not reached after maxit=100000 iterations; solutions for larger lambdas returned”\n"
     ]
    },
    {
     "name": "stdout",
     "output_type": "stream",
     "text": [
      "159 \n"
     ]
    },
    {
     "name": "stderr",
     "output_type": "stream",
     "text": [
      "Warning message:\n",
      "“from glmnet C++ code (error code -95); Convergence for 95th lambda value not reached after maxit=100000 iterations; solutions for larger lambdas returned”\n",
      "Warning message:\n",
      "“from glmnet C++ code (error code -100); Convergence for 100th lambda value not reached after maxit=100000 iterations; solutions for larger lambdas returned”\n",
      "Warning message:\n",
      "“from glmnet C++ code (error code -89); Convergence for 89th lambda value not reached after maxit=100000 iterations; solutions for larger lambdas returned”\n",
      "Warning message:\n",
      "“from glmnet C++ code (error code -91); Convergence for 91th lambda value not reached after maxit=100000 iterations; solutions for larger lambdas returned”\n",
      "Warning message:\n",
      "“from glmnet C++ code (error code -89); Convergence for 89th lambda value not reached after maxit=100000 iterations; solutions for larger lambdas returned”\n",
      "Warning message:\n",
      "“from glmnet C++ code (error code -100); Convergence for 100th lambda value not reached after maxit=100000 iterations; solutions for larger lambdas returned”\n",
      "Warning message:\n",
      "“from glmnet C++ code (error code -69); Convergence for 69th lambda value not reached after maxit=100000 iterations; solutions for larger lambdas returned”\n",
      "Warning message:\n",
      "“from glmnet C++ code (error code -91); Convergence for 91th lambda value not reached after maxit=100000 iterations; solutions for larger lambdas returned”\n",
      "Warning message:\n",
      "“from glmnet C++ code (error code -89); Convergence for 89th lambda value not reached after maxit=100000 iterations; solutions for larger lambdas returned”\n"
     ]
    },
    {
     "name": "stdout",
     "output_type": "stream",
     "text": [
      "160 \n"
     ]
    },
    {
     "name": "stderr",
     "output_type": "stream",
     "text": [
      "Warning message:\n",
      "“from glmnet C++ code (error code -96); Convergence for 96th lambda value not reached after maxit=100000 iterations; solutions for larger lambdas returned”\n",
      "Warning message:\n",
      "“from glmnet C++ code (error code -86); Convergence for 86th lambda value not reached after maxit=100000 iterations; solutions for larger lambdas returned”\n",
      "Warning message:\n",
      "“from glmnet C++ code (error code -97); Convergence for 97th lambda value not reached after maxit=100000 iterations; solutions for larger lambdas returned”\n",
      "Warning message:\n",
      "“from glmnet C++ code (error code -95); Convergence for 95th lambda value not reached after maxit=100000 iterations; solutions for larger lambdas returned”\n",
      "Warning message:\n",
      "“from glmnet C++ code (error code -96); Convergence for 96th lambda value not reached after maxit=100000 iterations; solutions for larger lambdas returned”\n",
      "Warning message:\n",
      "“from glmnet C++ code (error code -85); Convergence for 85th lambda value not reached after maxit=100000 iterations; solutions for larger lambdas returned”\n",
      "Warning message:\n",
      "“from glmnet C++ code (error code -85); Convergence for 85th lambda value not reached after maxit=100000 iterations; solutions for larger lambdas returned”\n",
      "Warning message:\n",
      "“from glmnet C++ code (error code -96); Convergence for 96th lambda value not reached after maxit=100000 iterations; solutions for larger lambdas returned”\n",
      "Warning message:\n",
      "“from glmnet C++ code (error code -86); Convergence for 86th lambda value not reached after maxit=100000 iterations; solutions for larger lambdas returned”\n",
      "Warning message:\n",
      "“from glmnet C++ code (error code -84); Convergence for 84th lambda value not reached after maxit=100000 iterations; solutions for larger lambdas returned”\n",
      "Warning message:\n",
      "“from glmnet C++ code (error code -90); Convergence for 90th lambda value not reached after maxit=100000 iterations; solutions for larger lambdas returned”\n",
      "Warning message:\n",
      "“from glmnet C++ code (error code -83); Convergence for 83th lambda value not reached after maxit=100000 iterations; solutions for larger lambdas returned”\n",
      "Warning message:\n",
      "“from glmnet C++ code (error code -76); Convergence for 76th lambda value not reached after maxit=100000 iterations; solutions for larger lambdas returned”\n",
      "Warning message:\n",
      "“from glmnet C++ code (error code -95); Convergence for 95th lambda value not reached after maxit=100000 iterations; solutions for larger lambdas returned”\n",
      "Warning message:\n",
      "“from glmnet C++ code (error code -86); Convergence for 86th lambda value not reached after maxit=100000 iterations; solutions for larger lambdas returned”\n"
     ]
    },
    {
     "name": "stdout",
     "output_type": "stream",
     "text": [
      "161 \n"
     ]
    },
    {
     "name": "stderr",
     "output_type": "stream",
     "text": [
      "Warning message:\n",
      "“from glmnet C++ code (error code -100); Convergence for 100th lambda value not reached after maxit=100000 iterations; solutions for larger lambdas returned”\n",
      "Warning message:\n",
      "“from glmnet C++ code (error code -89); Convergence for 89th lambda value not reached after maxit=100000 iterations; solutions for larger lambdas returned”\n",
      "Warning message:\n",
      "“from glmnet C++ code (error code -97); Convergence for 97th lambda value not reached after maxit=100000 iterations; solutions for larger lambdas returned”\n",
      "Warning message:\n",
      "“from glmnet C++ code (error code -94); Convergence for 94th lambda value not reached after maxit=100000 iterations; solutions for larger lambdas returned”\n",
      "Warning message:\n",
      "“from glmnet C++ code (error code -80); Convergence for 80th lambda value not reached after maxit=100000 iterations; solutions for larger lambdas returned”\n",
      "Warning message:\n",
      "“from glmnet C++ code (error code -84); Convergence for 84th lambda value not reached after maxit=100000 iterations; solutions for larger lambdas returned”\n",
      "Warning message:\n",
      "“from glmnet C++ code (error code -88); Convergence for 88th lambda value not reached after maxit=100000 iterations; solutions for larger lambdas returned”\n",
      "Warning message:\n",
      "“from glmnet C++ code (error code -89); Convergence for 89th lambda value not reached after maxit=100000 iterations; solutions for larger lambdas returned”\n",
      "Warning message:\n",
      "“from glmnet C++ code (error code -94); Convergence for 94th lambda value not reached after maxit=100000 iterations; solutions for larger lambdas returned”\n",
      "Warning message:\n",
      "“from glmnet C++ code (error code -89); Convergence for 89th lambda value not reached after maxit=100000 iterations; solutions for larger lambdas returned”\n",
      "Warning message:\n",
      "“from glmnet C++ code (error code -96); Convergence for 96th lambda value not reached after maxit=100000 iterations; solutions for larger lambdas returned”\n",
      "Warning message:\n",
      "“from glmnet C++ code (error code -88); Convergence for 88th lambda value not reached after maxit=100000 iterations; solutions for larger lambdas returned”\n",
      "Warning message:\n",
      "“from glmnet C++ code (error code -89); Convergence for 89th lambda value not reached after maxit=100000 iterations; solutions for larger lambdas returned”\n",
      "Warning message:\n",
      "“from glmnet C++ code (error code -87); Convergence for 87th lambda value not reached after maxit=100000 iterations; solutions for larger lambdas returned”\n"
     ]
    },
    {
     "name": "stdout",
     "output_type": "stream",
     "text": [
      "162 \n"
     ]
    },
    {
     "name": "stderr",
     "output_type": "stream",
     "text": [
      "Warning message:\n",
      "“from glmnet C++ code (error code -94); Convergence for 94th lambda value not reached after maxit=100000 iterations; solutions for larger lambdas returned”\n",
      "Warning message:\n",
      "“from glmnet C++ code (error code -100); Convergence for 100th lambda value not reached after maxit=100000 iterations; solutions for larger lambdas returned”\n",
      "Warning message:\n",
      "“from glmnet C++ code (error code -98); Convergence for 98th lambda value not reached after maxit=100000 iterations; solutions for larger lambdas returned”\n",
      "Warning message:\n",
      "“from glmnet C++ code (error code -86); Convergence for 86th lambda value not reached after maxit=100000 iterations; solutions for larger lambdas returned”\n",
      "Warning message:\n",
      "“from glmnet C++ code (error code -88); Convergence for 88th lambda value not reached after maxit=100000 iterations; solutions for larger lambdas returned”\n",
      "Warning message:\n",
      "“from glmnet C++ code (error code -83); Convergence for 83th lambda value not reached after maxit=100000 iterations; solutions for larger lambdas returned”\n",
      "Warning message:\n",
      "“from glmnet C++ code (error code -83); Convergence for 83th lambda value not reached after maxit=100000 iterations; solutions for larger lambdas returned”\n",
      "Warning message:\n",
      "“from glmnet C++ code (error code -89); Convergence for 89th lambda value not reached after maxit=100000 iterations; solutions for larger lambdas returned”\n",
      "Warning message:\n",
      "“from glmnet C++ code (error code -87); Convergence for 87th lambda value not reached after maxit=100000 iterations; solutions for larger lambdas returned”\n",
      "Warning message:\n",
      "“from glmnet C++ code (error code -81); Convergence for 81th lambda value not reached after maxit=100000 iterations; solutions for larger lambdas returned”\n",
      "Warning message:\n",
      "“from glmnet C++ code (error code -78); Convergence for 78th lambda value not reached after maxit=100000 iterations; solutions for larger lambdas returned”\n"
     ]
    },
    {
     "name": "stdout",
     "output_type": "stream",
     "text": [
      "163 \n"
     ]
    },
    {
     "name": "stderr",
     "output_type": "stream",
     "text": [
      "Warning message:\n",
      "“from glmnet C++ code (error code -94); Convergence for 94th lambda value not reached after maxit=100000 iterations; solutions for larger lambdas returned”\n",
      "Warning message:\n",
      "“from glmnet C++ code (error code -95); Convergence for 95th lambda value not reached after maxit=100000 iterations; solutions for larger lambdas returned”\n",
      "Warning message:\n",
      "“from glmnet C++ code (error code -93); Convergence for 93th lambda value not reached after maxit=100000 iterations; solutions for larger lambdas returned”\n",
      "Warning message:\n",
      "“from glmnet C++ code (error code -99); Convergence for 99th lambda value not reached after maxit=100000 iterations; solutions for larger lambdas returned”\n",
      "Warning message:\n",
      "“from glmnet C++ code (error code -100); Convergence for 100th lambda value not reached after maxit=100000 iterations; solutions for larger lambdas returned”\n",
      "Warning message:\n",
      "“from glmnet C++ code (error code -96); Convergence for 96th lambda value not reached after maxit=100000 iterations; solutions for larger lambdas returned”\n",
      "Warning message:\n",
      "“from glmnet C++ code (error code -89); Convergence for 89th lambda value not reached after maxit=100000 iterations; solutions for larger lambdas returned”\n",
      "Warning message:\n",
      "“from glmnet C++ code (error code -98); Convergence for 98th lambda value not reached after maxit=100000 iterations; solutions for larger lambdas returned”\n",
      "Warning message:\n",
      "“from glmnet C++ code (error code -96); Convergence for 96th lambda value not reached after maxit=100000 iterations; solutions for larger lambdas returned”\n",
      "Warning message:\n",
      "“from glmnet C++ code (error code -91); Convergence for 91th lambda value not reached after maxit=100000 iterations; solutions for larger lambdas returned”\n",
      "Warning message:\n",
      "“from glmnet C++ code (error code -90); Convergence for 90th lambda value not reached after maxit=100000 iterations; solutions for larger lambdas returned”\n",
      "Warning message:\n",
      "“from glmnet C++ code (error code -89); Convergence for 89th lambda value not reached after maxit=100000 iterations; solutions for larger lambdas returned”\n",
      "Warning message:\n",
      "“from glmnet C++ code (error code -78); Convergence for 78th lambda value not reached after maxit=100000 iterations; solutions for larger lambdas returned”\n",
      "Warning message:\n",
      "“from glmnet C++ code (error code -88); Convergence for 88th lambda value not reached after maxit=100000 iterations; solutions for larger lambdas returned”\n",
      "Warning message:\n",
      "“from glmnet C++ code (error code -76); Convergence for 76th lambda value not reached after maxit=100000 iterations; solutions for larger lambdas returned”\n",
      "Warning message:\n",
      "“from glmnet C++ code (error code -89); Convergence for 89th lambda value not reached after maxit=100000 iterations; solutions for larger lambdas returned”\n",
      "Warning message:\n",
      "“from glmnet C++ code (error code -91); Convergence for 91th lambda value not reached after maxit=100000 iterations; solutions for larger lambdas returned”\n",
      "Warning message:\n",
      "“from glmnet C++ code (error code -86); Convergence for 86th lambda value not reached after maxit=100000 iterations; solutions for larger lambdas returned”\n",
      "Warning message:\n",
      "“from glmnet C++ code (error code -90); Convergence for 90th lambda value not reached after maxit=100000 iterations; solutions for larger lambdas returned”\n",
      "Warning message:\n",
      "“from glmnet C++ code (error code -76); Convergence for 76th lambda value not reached after maxit=100000 iterations; solutions for larger lambdas returned”\n"
     ]
    },
    {
     "name": "stdout",
     "output_type": "stream",
     "text": [
      "164 \n"
     ]
    },
    {
     "name": "stderr",
     "output_type": "stream",
     "text": [
      "Warning message:\n",
      "“from glmnet C++ code (error code -93); Convergence for 93th lambda value not reached after maxit=100000 iterations; solutions for larger lambdas returned”\n",
      "Warning message:\n",
      "“from glmnet C++ code (error code -99); Convergence for 99th lambda value not reached after maxit=100000 iterations; solutions for larger lambdas returned”\n",
      "Warning message:\n",
      "“from glmnet C++ code (error code -97); Convergence for 97th lambda value not reached after maxit=100000 iterations; solutions for larger lambdas returned”\n",
      "Warning message:\n",
      "“from glmnet C++ code (error code -80); Convergence for 80th lambda value not reached after maxit=100000 iterations; solutions for larger lambdas returned”\n",
      "Warning message:\n",
      "“from glmnet C++ code (error code -93); Convergence for 93th lambda value not reached after maxit=100000 iterations; solutions for larger lambdas returned”\n",
      "Warning message:\n",
      "“from glmnet C++ code (error code -87); Convergence for 87th lambda value not reached after maxit=100000 iterations; solutions for larger lambdas returned”\n",
      "Warning message:\n",
      "“from glmnet C++ code (error code -93); Convergence for 93th lambda value not reached after maxit=100000 iterations; solutions for larger lambdas returned”\n",
      "Warning message:\n",
      "“from glmnet C++ code (error code -91); Convergence for 91th lambda value not reached after maxit=100000 iterations; solutions for larger lambdas returned”\n",
      "Warning message:\n",
      "“from glmnet C++ code (error code -90); Convergence for 90th lambda value not reached after maxit=100000 iterations; solutions for larger lambdas returned”\n",
      "Warning message:\n",
      "“from glmnet C++ code (error code -80); Convergence for 80th lambda value not reached after maxit=100000 iterations; solutions for larger lambdas returned”\n",
      "Warning message:\n",
      "“from glmnet C++ code (error code -88); Convergence for 88th lambda value not reached after maxit=100000 iterations; solutions for larger lambdas returned”\n",
      "Warning message:\n",
      "“from glmnet C++ code (error code -94); Convergence for 94th lambda value not reached after maxit=100000 iterations; solutions for larger lambdas returned”\n",
      "Warning message:\n",
      "“from glmnet C++ code (error code -85); Convergence for 85th lambda value not reached after maxit=100000 iterations; solutions for larger lambdas returned”\n",
      "Warning message:\n",
      "“from glmnet C++ code (error code -77); Convergence for 77th lambda value not reached after maxit=100000 iterations; solutions for larger lambdas returned”\n",
      "Warning message:\n",
      "“from glmnet C++ code (error code -79); Convergence for 79th lambda value not reached after maxit=100000 iterations; solutions for larger lambdas returned”\n",
      "Warning message:\n",
      "“from glmnet C++ code (error code -73); Convergence for 73th lambda value not reached after maxit=100000 iterations; solutions for larger lambdas returned”\n",
      "Warning message:\n",
      "“from glmnet C++ code (error code -100); Convergence for 100th lambda value not reached after maxit=100000 iterations; solutions for larger lambdas returned”\n"
     ]
    },
    {
     "name": "stdout",
     "output_type": "stream",
     "text": [
      "165 \n"
     ]
    },
    {
     "name": "stderr",
     "output_type": "stream",
     "text": [
      "Warning message:\n",
      "“from glmnet C++ code (error code -98); Convergence for 98th lambda value not reached after maxit=100000 iterations; solutions for larger lambdas returned”\n",
      "Warning message:\n",
      "“from glmnet C++ code (error code -93); Convergence for 93th lambda value not reached after maxit=100000 iterations; solutions for larger lambdas returned”\n",
      "Warning message:\n",
      "“from glmnet C++ code (error code -93); Convergence for 93th lambda value not reached after maxit=100000 iterations; solutions for larger lambdas returned”\n",
      "Warning message:\n",
      "“from glmnet C++ code (error code -88); Convergence for 88th lambda value not reached after maxit=100000 iterations; solutions for larger lambdas returned”\n",
      "Warning message:\n",
      "“from glmnet C++ code (error code -100); Convergence for 100th lambda value not reached after maxit=100000 iterations; solutions for larger lambdas returned”\n",
      "Warning message:\n",
      "“from glmnet C++ code (error code -96); Convergence for 96th lambda value not reached after maxit=100000 iterations; solutions for larger lambdas returned”\n",
      "Warning message:\n",
      "“from glmnet C++ code (error code -93); Convergence for 93th lambda value not reached after maxit=100000 iterations; solutions for larger lambdas returned”\n",
      "Warning message:\n",
      "“from glmnet C++ code (error code -88); Convergence for 88th lambda value not reached after maxit=100000 iterations; solutions for larger lambdas returned”\n",
      "Warning message:\n",
      "“from glmnet C++ code (error code -91); Convergence for 91th lambda value not reached after maxit=100000 iterations; solutions for larger lambdas returned”\n",
      "Warning message:\n",
      "“from glmnet C++ code (error code -88); Convergence for 88th lambda value not reached after maxit=100000 iterations; solutions for larger lambdas returned”\n",
      "Warning message:\n",
      "“from glmnet C++ code (error code -79); Convergence for 79th lambda value not reached after maxit=100000 iterations; solutions for larger lambdas returned”\n",
      "Warning message:\n",
      "“from glmnet C++ code (error code -86); Convergence for 86th lambda value not reached after maxit=100000 iterations; solutions for larger lambdas returned”\n",
      "Warning message:\n",
      "“from glmnet C++ code (error code -72); Convergence for 72th lambda value not reached after maxit=100000 iterations; solutions for larger lambdas returned”\n",
      "Warning message:\n",
      "“from glmnet C++ code (error code -89); Convergence for 89th lambda value not reached after maxit=100000 iterations; solutions for larger lambdas returned”\n",
      "Warning message:\n",
      "“from glmnet C++ code (error code -73); Convergence for 73th lambda value not reached after maxit=100000 iterations; solutions for larger lambdas returned”\n",
      "Warning message:\n",
      "“from glmnet C++ code (error code -82); Convergence for 82th lambda value not reached after maxit=100000 iterations; solutions for larger lambdas returned”\n",
      "Warning message:\n",
      "“from glmnet C++ code (error code -77); Convergence for 77th lambda value not reached after maxit=100000 iterations; solutions for larger lambdas returned”\n",
      "Warning message:\n",
      "“from glmnet C++ code (error code -73); Convergence for 73th lambda value not reached after maxit=100000 iterations; solutions for larger lambdas returned”\n",
      "Warning message:\n",
      "“from glmnet C++ code (error code -87); Convergence for 87th lambda value not reached after maxit=100000 iterations; solutions for larger lambdas returned”\n"
     ]
    },
    {
     "name": "stdout",
     "output_type": "stream",
     "text": [
      "166 \n"
     ]
    },
    {
     "name": "stderr",
     "output_type": "stream",
     "text": [
      "Warning message:\n",
      "“from glmnet C++ code (error code -99); Convergence for 99th lambda value not reached after maxit=100000 iterations; solutions for larger lambdas returned”\n",
      "Warning message:\n",
      "“from glmnet C++ code (error code -100); Convergence for 100th lambda value not reached after maxit=100000 iterations; solutions for larger lambdas returned”\n",
      "Warning message:\n",
      "“from glmnet C++ code (error code -95); Convergence for 95th lambda value not reached after maxit=100000 iterations; solutions for larger lambdas returned”\n",
      "Warning message:\n",
      "“from glmnet C++ code (error code -96); Convergence for 96th lambda value not reached after maxit=100000 iterations; solutions for larger lambdas returned”\n",
      "Warning message:\n",
      "“from glmnet C++ code (error code -96); Convergence for 96th lambda value not reached after maxit=100000 iterations; solutions for larger lambdas returned”\n",
      "Warning message:\n",
      "“from glmnet C++ code (error code -95); Convergence for 95th lambda value not reached after maxit=100000 iterations; solutions for larger lambdas returned”\n",
      "Warning message:\n",
      "“from glmnet C++ code (error code -96); Convergence for 96th lambda value not reached after maxit=100000 iterations; solutions for larger lambdas returned”\n",
      "Warning message:\n",
      "“from glmnet C++ code (error code -92); Convergence for 92th lambda value not reached after maxit=100000 iterations; solutions for larger lambdas returned”\n",
      "Warning message:\n",
      "“from glmnet C++ code (error code -92); Convergence for 92th lambda value not reached after maxit=100000 iterations; solutions for larger lambdas returned”\n",
      "Warning message:\n",
      "“from glmnet C++ code (error code -96); Convergence for 96th lambda value not reached after maxit=100000 iterations; solutions for larger lambdas returned”\n",
      "Warning message:\n",
      "“from glmnet C++ code (error code -95); Convergence for 95th lambda value not reached after maxit=100000 iterations; solutions for larger lambdas returned”\n",
      "Warning message:\n",
      "“from glmnet C++ code (error code -99); Convergence for 99th lambda value not reached after maxit=100000 iterations; solutions for larger lambdas returned”\n",
      "Warning message:\n",
      "“from glmnet C++ code (error code -91); Convergence for 91th lambda value not reached after maxit=100000 iterations; solutions for larger lambdas returned”\n",
      "Warning message:\n",
      "“from glmnet C++ code (error code -95); Convergence for 95th lambda value not reached after maxit=100000 iterations; solutions for larger lambdas returned”\n",
      "Warning message:\n",
      "“from glmnet C++ code (error code -86); Convergence for 86th lambda value not reached after maxit=100000 iterations; solutions for larger lambdas returned”\n",
      "Warning message:\n",
      "“from glmnet C++ code (error code -88); Convergence for 88th lambda value not reached after maxit=100000 iterations; solutions for larger lambdas returned”\n",
      "Warning message:\n",
      "“from glmnet C++ code (error code -94); Convergence for 94th lambda value not reached after maxit=100000 iterations; solutions for larger lambdas returned”\n"
     ]
    },
    {
     "name": "stdout",
     "output_type": "stream",
     "text": [
      "167 \n"
     ]
    },
    {
     "name": "stderr",
     "output_type": "stream",
     "text": [
      "Warning message:\n",
      "“from glmnet C++ code (error code -98); Convergence for 98th lambda value not reached after maxit=100000 iterations; solutions for larger lambdas returned”\n",
      "Warning message:\n",
      "“from glmnet C++ code (error code -100); Convergence for 100th lambda value not reached after maxit=100000 iterations; solutions for larger lambdas returned”\n",
      "Warning message:\n",
      "“from glmnet C++ code (error code -98); Convergence for 98th lambda value not reached after maxit=100000 iterations; solutions for larger lambdas returned”\n",
      "Warning message:\n",
      "“from glmnet C++ code (error code -98); Convergence for 98th lambda value not reached after maxit=100000 iterations; solutions for larger lambdas returned”\n",
      "Warning message:\n",
      "“from glmnet C++ code (error code -97); Convergence for 97th lambda value not reached after maxit=100000 iterations; solutions for larger lambdas returned”\n",
      "Warning message:\n",
      "“from glmnet C++ code (error code -92); Convergence for 92th lambda value not reached after maxit=100000 iterations; solutions for larger lambdas returned”\n",
      "Warning message:\n",
      "“from glmnet C++ code (error code -93); Convergence for 93th lambda value not reached after maxit=100000 iterations; solutions for larger lambdas returned”\n",
      "Warning message:\n",
      "“from glmnet C++ code (error code -97); Convergence for 97th lambda value not reached after maxit=100000 iterations; solutions for larger lambdas returned”\n",
      "Warning message:\n",
      "“from glmnet C++ code (error code -100); Convergence for 100th lambda value not reached after maxit=100000 iterations; solutions for larger lambdas returned”\n",
      "Warning message:\n",
      "“from glmnet C++ code (error code -97); Convergence for 97th lambda value not reached after maxit=100000 iterations; solutions for larger lambdas returned”\n",
      "Warning message:\n",
      "“from glmnet C++ code (error code -96); Convergence for 96th lambda value not reached after maxit=100000 iterations; solutions for larger lambdas returned”\n",
      "Warning message:\n",
      "“from glmnet C++ code (error code -78); Convergence for 78th lambda value not reached after maxit=100000 iterations; solutions for larger lambdas returned”\n",
      "Warning message:\n",
      "“from glmnet C++ code (error code -93); Convergence for 93th lambda value not reached after maxit=100000 iterations; solutions for larger lambdas returned”\n",
      "Warning message:\n",
      "“from glmnet C++ code (error code -92); Convergence for 92th lambda value not reached after maxit=100000 iterations; solutions for larger lambdas returned”\n",
      "Warning message:\n",
      "“from glmnet C++ code (error code -97); Convergence for 97th lambda value not reached after maxit=100000 iterations; solutions for larger lambdas returned”\n"
     ]
    },
    {
     "name": "stdout",
     "output_type": "stream",
     "text": [
      "168 \n"
     ]
    },
    {
     "name": "stderr",
     "output_type": "stream",
     "text": [
      "Warning message:\n",
      "“from glmnet C++ code (error code -89); Convergence for 89th lambda value not reached after maxit=100000 iterations; solutions for larger lambdas returned”\n",
      "Warning message:\n",
      "“from glmnet C++ code (error code -94); Convergence for 94th lambda value not reached after maxit=100000 iterations; solutions for larger lambdas returned”\n",
      "Warning message:\n",
      "“from glmnet C++ code (error code -97); Convergence for 97th lambda value not reached after maxit=100000 iterations; solutions for larger lambdas returned”\n",
      "Warning message:\n",
      "“from glmnet C++ code (error code -100); Convergence for 100th lambda value not reached after maxit=100000 iterations; solutions for larger lambdas returned”\n",
      "Warning message:\n",
      "“from glmnet C++ code (error code -100); Convergence for 100th lambda value not reached after maxit=100000 iterations; solutions for larger lambdas returned”\n"
     ]
    },
    {
     "name": "stdout",
     "output_type": "stream",
     "text": [
      "169 \n"
     ]
    },
    {
     "name": "stderr",
     "output_type": "stream",
     "text": [
      "Warning message:\n",
      "“from glmnet C++ code (error code -97); Convergence for 97th lambda value not reached after maxit=100000 iterations; solutions for larger lambdas returned”\n",
      "Warning message:\n",
      "“from glmnet C++ code (error code -99); Convergence for 99th lambda value not reached after maxit=100000 iterations; solutions for larger lambdas returned”\n",
      "Warning message:\n",
      "“from glmnet C++ code (error code -97); Convergence for 97th lambda value not reached after maxit=100000 iterations; solutions for larger lambdas returned”\n",
      "Warning message:\n",
      "“from glmnet C++ code (error code -96); Convergence for 96th lambda value not reached after maxit=100000 iterations; solutions for larger lambdas returned”\n",
      "Warning message:\n",
      "“from glmnet C++ code (error code -100); Convergence for 100th lambda value not reached after maxit=100000 iterations; solutions for larger lambdas returned”\n"
     ]
    },
    {
     "name": "stdout",
     "output_type": "stream",
     "text": [
      "170 \n"
     ]
    },
    {
     "name": "stderr",
     "output_type": "stream",
     "text": [
      "Warning message:\n",
      "“from glmnet C++ code (error code -89); Convergence for 89th lambda value not reached after maxit=100000 iterations; solutions for larger lambdas returned”\n",
      "Warning message:\n",
      "“from glmnet C++ code (error code -88); Convergence for 88th lambda value not reached after maxit=100000 iterations; solutions for larger lambdas returned”\n"
     ]
    },
    {
     "name": "stdout",
     "output_type": "stream",
     "text": [
      "171 \n"
     ]
    },
    {
     "name": "stderr",
     "output_type": "stream",
     "text": [
      "Warning message:\n",
      "“from glmnet C++ code (error code -90); Convergence for 90th lambda value not reached after maxit=100000 iterations; solutions for larger lambdas returned”\n"
     ]
    },
    {
     "name": "stdout",
     "output_type": "stream",
     "text": [
      "172 \n"
     ]
    },
    {
     "name": "stderr",
     "output_type": "stream",
     "text": [
      "Warning message:\n",
      "“from glmnet C++ code (error code -100); Convergence for 100th lambda value not reached after maxit=100000 iterations; solutions for larger lambdas returned”\n",
      "Warning message:\n",
      "“from glmnet C++ code (error code -98); Convergence for 98th lambda value not reached after maxit=100000 iterations; solutions for larger lambdas returned”\n",
      "Warning message:\n",
      "“from glmnet C++ code (error code -86); Convergence for 86th lambda value not reached after maxit=100000 iterations; solutions for larger lambdas returned”\n",
      "Warning message:\n",
      "“from glmnet C++ code (error code -68); Convergence for 68th lambda value not reached after maxit=100000 iterations; solutions for larger lambdas returned”\n"
     ]
    },
    {
     "name": "stdout",
     "output_type": "stream",
     "text": [
      "173 \n"
     ]
    },
    {
     "name": "stderr",
     "output_type": "stream",
     "text": [
      "Warning message:\n",
      "“from glmnet C++ code (error code -96); Convergence for 96th lambda value not reached after maxit=100000 iterations; solutions for larger lambdas returned”\n"
     ]
    },
    {
     "name": "stdout",
     "output_type": "stream",
     "text": [
      "174 \n"
     ]
    },
    {
     "name": "stderr",
     "output_type": "stream",
     "text": [
      "Warning message:\n",
      "“from glmnet C++ code (error code -96); Convergence for 96th lambda value not reached after maxit=100000 iterations; solutions for larger lambdas returned”\n"
     ]
    },
    {
     "name": "stdout",
     "output_type": "stream",
     "text": [
      "175 \n",
      "176 \n",
      "177 \n",
      "178 \n",
      "179 \n",
      "180 \n",
      "181 \n",
      "182 \n",
      "183 \n",
      "184 \n",
      "185 \n",
      "186 \n",
      "187 \n",
      "188 \n",
      "189 \n",
      "190 \n",
      "191 \n",
      "192 \n",
      "193 \n",
      "194 \n",
      "195 \n",
      "196 \n",
      "197 \n",
      "198 \n",
      "199 \n",
      "200 \n",
      "201 \n",
      "202 \n",
      "203 \n",
      "204 \n",
      "205 \n",
      "206 \n",
      "207 \n",
      "208 \n",
      "209 \n",
      "210 \n",
      "211 \n",
      "212 \n",
      "213 \n",
      "214 \n",
      "215 \n",
      "216 \n",
      "217 \n",
      "218 \n",
      "219 \n",
      "220 \n",
      "221 \n",
      "222 \n",
      "223 \n",
      "224 \n",
      "225 \n",
      "226 \n",
      "227 \n",
      "228 \n",
      "229 \n",
      "230 \n",
      "231 \n",
      "232 \n",
      "233 \n",
      "234 \n",
      "235 \n",
      "236 \n",
      "237 \n",
      "238 \n",
      "239 \n",
      "240 \n",
      "241 \n",
      "242 \n",
      "243 \n",
      "244 \n",
      "245 \n",
      "246 \n",
      "247 \n",
      "248 \n",
      "249 \n",
      "250 \n",
      "251 \n",
      "252 \n",
      "253 \n",
      "254 \n",
      "255 \n",
      "256 \n",
      "257 \n",
      "258 \n",
      "259 \n",
      "260 \n",
      "261 \n",
      "262 \n",
      "263 \n",
      "264 \n",
      "265 \n",
      "266 \n",
      "267 \n",
      "268 \n",
      "269 \n",
      "270 \n",
      "271 \n",
      "272 \n",
      "273 \n",
      "274 \n",
      "275 \n",
      "276 \n",
      "277 \n",
      "278 \n",
      "279 \n",
      "280 \n",
      "281 \n",
      "282 \n",
      "283 \n",
      "284 \n",
      "285 \n",
      "286 \n",
      "287 \n",
      "288 \n",
      "289 \n",
      "290 \n",
      "291 \n",
      "292 \n",
      "293 \n",
      "294 \n",
      "295 \n",
      "296 \n",
      "297 \n",
      "298 \n",
      "299 \n",
      "300 \n",
      "301 \n",
      "302 \n",
      "303 \n",
      "304 \n",
      "305 \n",
      "306 \n",
      "307 \n",
      "308 \n",
      "309 \n",
      "310 \n",
      "311 \n",
      "312 \n",
      "313 \n",
      "314 \n",
      "315 \n",
      "316 \n",
      "317 \n",
      "318 \n"
     ]
    },
    {
     "name": "stderr",
     "output_type": "stream",
     "text": [
      "Warning message:\n",
      "“from glmnet C++ code (error code -87); Convergence for 87th lambda value not reached after maxit=100000 iterations; solutions for larger lambdas returned”\n"
     ]
    },
    {
     "name": "stdout",
     "output_type": "stream",
     "text": [
      "319 \n"
     ]
    },
    {
     "name": "stderr",
     "output_type": "stream",
     "text": [
      "Warning message:\n",
      "“from glmnet C++ code (error code -90); Convergence for 90th lambda value not reached after maxit=100000 iterations; solutions for larger lambdas returned”\n"
     ]
    },
    {
     "name": "stdout",
     "output_type": "stream",
     "text": [
      "320 \n"
     ]
    },
    {
     "name": "stderr",
     "output_type": "stream",
     "text": [
      "Warning message:\n",
      "“from glmnet C++ code (error code -86); Convergence for 86th lambda value not reached after maxit=100000 iterations; solutions for larger lambdas returned”\n"
     ]
    },
    {
     "name": "stdout",
     "output_type": "stream",
     "text": [
      "321 \n"
     ]
    },
    {
     "name": "stderr",
     "output_type": "stream",
     "text": [
      "Warning message:\n",
      "“from glmnet C++ code (error code -92); Convergence for 92th lambda value not reached after maxit=100000 iterations; solutions for larger lambdas returned”\n",
      "Warning message:\n",
      "“from glmnet C++ code (error code -92); Convergence for 92th lambda value not reached after maxit=100000 iterations; solutions for larger lambdas returned”\n"
     ]
    },
    {
     "name": "stdout",
     "output_type": "stream",
     "text": [
      "322 \n"
     ]
    },
    {
     "name": "stderr",
     "output_type": "stream",
     "text": [
      "Warning message:\n",
      "“from glmnet C++ code (error code -87); Convergence for 87th lambda value not reached after maxit=100000 iterations; solutions for larger lambdas returned”\n",
      "Warning message:\n",
      "“from glmnet C++ code (error code -95); Convergence for 95th lambda value not reached after maxit=100000 iterations; solutions for larger lambdas returned”\n"
     ]
    },
    {
     "name": "stdout",
     "output_type": "stream",
     "text": [
      "323 \n"
     ]
    },
    {
     "name": "stderr",
     "output_type": "stream",
     "text": [
      "Warning message:\n",
      "“from glmnet C++ code (error code -90); Convergence for 90th lambda value not reached after maxit=100000 iterations; solutions for larger lambdas returned”\n",
      "Warning message:\n",
      "“from glmnet C++ code (error code -85); Convergence for 85th lambda value not reached after maxit=100000 iterations; solutions for larger lambdas returned”\n"
     ]
    },
    {
     "name": "stdout",
     "output_type": "stream",
     "text": [
      "324 \n"
     ]
    },
    {
     "name": "stderr",
     "output_type": "stream",
     "text": [
      "Warning message:\n",
      "“from glmnet C++ code (error code -83); Convergence for 83th lambda value not reached after maxit=100000 iterations; solutions for larger lambdas returned”\n",
      "Warning message:\n",
      "“from glmnet C++ code (error code -94); Convergence for 94th lambda value not reached after maxit=100000 iterations; solutions for larger lambdas returned”\n",
      "Warning message:\n",
      "“from glmnet C++ code (error code -85); Convergence for 85th lambda value not reached after maxit=100000 iterations; solutions for larger lambdas returned”\n",
      "Warning message:\n",
      "“from glmnet C++ code (error code -80); Convergence for 80th lambda value not reached after maxit=100000 iterations; solutions for larger lambdas returned”\n",
      "Warning message:\n",
      "“from glmnet C++ code (error code -85); Convergence for 85th lambda value not reached after maxit=100000 iterations; solutions for larger lambdas returned”\n"
     ]
    },
    {
     "name": "stdout",
     "output_type": "stream",
     "text": [
      "325 \n"
     ]
    },
    {
     "name": "stderr",
     "output_type": "stream",
     "text": [
      "Warning message:\n",
      "“from glmnet C++ code (error code -100); Convergence for 100th lambda value not reached after maxit=100000 iterations; solutions for larger lambdas returned”\n",
      "Warning message:\n",
      "“from glmnet C++ code (error code -99); Convergence for 99th lambda value not reached after maxit=100000 iterations; solutions for larger lambdas returned”\n",
      "Warning message:\n",
      "“from glmnet C++ code (error code -71); Convergence for 71th lambda value not reached after maxit=100000 iterations; solutions for larger lambdas returned”\n",
      "Warning message:\n",
      "“from glmnet C++ code (error code -75); Convergence for 75th lambda value not reached after maxit=100000 iterations; solutions for larger lambdas returned”\n",
      "Warning message:\n",
      "“from glmnet C++ code (error code -85); Convergence for 85th lambda value not reached after maxit=100000 iterations; solutions for larger lambdas returned”\n",
      "Warning message:\n",
      "“from glmnet C++ code (error code -97); Convergence for 97th lambda value not reached after maxit=100000 iterations; solutions for larger lambdas returned”\n",
      "Warning message:\n",
      "“from glmnet C++ code (error code -83); Convergence for 83th lambda value not reached after maxit=100000 iterations; solutions for larger lambdas returned”\n"
     ]
    },
    {
     "name": "stdout",
     "output_type": "stream",
     "text": [
      "326 \n"
     ]
    },
    {
     "name": "stderr",
     "output_type": "stream",
     "text": [
      "Warning message:\n",
      "“from glmnet C++ code (error code -98); Convergence for 98th lambda value not reached after maxit=100000 iterations; solutions for larger lambdas returned”\n",
      "Warning message:\n",
      "“from glmnet C++ code (error code -96); Convergence for 96th lambda value not reached after maxit=100000 iterations; solutions for larger lambdas returned”\n",
      "Warning message:\n",
      "“from glmnet C++ code (error code -97); Convergence for 97th lambda value not reached after maxit=100000 iterations; solutions for larger lambdas returned”\n",
      "Warning message:\n",
      "“from glmnet C++ code (error code -97); Convergence for 97th lambda value not reached after maxit=100000 iterations; solutions for larger lambdas returned”\n",
      "Warning message:\n",
      "“from glmnet C++ code (error code -70); Convergence for 70th lambda value not reached after maxit=100000 iterations; solutions for larger lambdas returned”\n",
      "Warning message:\n",
      "“from glmnet C++ code (error code -95); Convergence for 95th lambda value not reached after maxit=100000 iterations; solutions for larger lambdas returned”\n",
      "Warning message:\n",
      "“from glmnet C++ code (error code -79); Convergence for 79th lambda value not reached after maxit=100000 iterations; solutions for larger lambdas returned”\n",
      "Warning message:\n",
      "“from glmnet C++ code (error code -81); Convergence for 81th lambda value not reached after maxit=100000 iterations; solutions for larger lambdas returned”\n",
      "Warning message:\n",
      "“from glmnet C++ code (error code -88); Convergence for 88th lambda value not reached after maxit=100000 iterations; solutions for larger lambdas returned”\n"
     ]
    },
    {
     "name": "stdout",
     "output_type": "stream",
     "text": [
      "327 \n"
     ]
    },
    {
     "name": "stderr",
     "output_type": "stream",
     "text": [
      "Warning message:\n",
      "“from glmnet C++ code (error code -92); Convergence for 92th lambda value not reached after maxit=100000 iterations; solutions for larger lambdas returned”\n",
      "Warning message:\n",
      "“from glmnet C++ code (error code -99); Convergence for 99th lambda value not reached after maxit=100000 iterations; solutions for larger lambdas returned”\n",
      "Warning message:\n",
      "“from glmnet C++ code (error code -90); Convergence for 90th lambda value not reached after maxit=100000 iterations; solutions for larger lambdas returned”\n",
      "Warning message:\n",
      "“from glmnet C++ code (error code -78); Convergence for 78th lambda value not reached after maxit=100000 iterations; solutions for larger lambdas returned”\n",
      "Warning message:\n",
      "“from glmnet C++ code (error code -87); Convergence for 87th lambda value not reached after maxit=100000 iterations; solutions for larger lambdas returned”\n",
      "Warning message:\n",
      "“from glmnet C++ code (error code -73); Convergence for 73th lambda value not reached after maxit=100000 iterations; solutions for larger lambdas returned”\n",
      "Warning message:\n",
      "“from glmnet C++ code (error code -80); Convergence for 80th lambda value not reached after maxit=100000 iterations; solutions for larger lambdas returned”\n"
     ]
    },
    {
     "name": "stdout",
     "output_type": "stream",
     "text": [
      "328 \n"
     ]
    },
    {
     "name": "stderr",
     "output_type": "stream",
     "text": [
      "Warning message:\n",
      "“from glmnet C++ code (error code -97); Convergence for 97th lambda value not reached after maxit=100000 iterations; solutions for larger lambdas returned”\n",
      "Warning message:\n",
      "“from glmnet C++ code (error code -100); Convergence for 100th lambda value not reached after maxit=100000 iterations; solutions for larger lambdas returned”\n",
      "Warning message:\n",
      "“from glmnet C++ code (error code -100); Convergence for 100th lambda value not reached after maxit=100000 iterations; solutions for larger lambdas returned”\n",
      "Warning message:\n",
      "“from glmnet C++ code (error code -92); Convergence for 92th lambda value not reached after maxit=100000 iterations; solutions for larger lambdas returned”\n",
      "Warning message:\n",
      "“from glmnet C++ code (error code -94); Convergence for 94th lambda value not reached after maxit=100000 iterations; solutions for larger lambdas returned”\n",
      "Warning message:\n",
      "“from glmnet C++ code (error code -77); Convergence for 77th lambda value not reached after maxit=100000 iterations; solutions for larger lambdas returned”\n",
      "Warning message:\n",
      "“from glmnet C++ code (error code -77); Convergence for 77th lambda value not reached after maxit=100000 iterations; solutions for larger lambdas returned”\n",
      "Warning message:\n",
      "“from glmnet C++ code (error code -71); Convergence for 71th lambda value not reached after maxit=100000 iterations; solutions for larger lambdas returned”\n"
     ]
    },
    {
     "name": "stdout",
     "output_type": "stream",
     "text": [
      "329 \n"
     ]
    },
    {
     "name": "stderr",
     "output_type": "stream",
     "text": [
      "Warning message:\n",
      "“from glmnet C++ code (error code -95); Convergence for 95th lambda value not reached after maxit=100000 iterations; solutions for larger lambdas returned”\n",
      "Warning message:\n",
      "“from glmnet C++ code (error code -99); Convergence for 99th lambda value not reached after maxit=100000 iterations; solutions for larger lambdas returned”\n",
      "Warning message:\n",
      "“from glmnet C++ code (error code -87); Convergence for 87th lambda value not reached after maxit=100000 iterations; solutions for larger lambdas returned”\n",
      "Warning message:\n",
      "“from glmnet C++ code (error code -91); Convergence for 91th lambda value not reached after maxit=100000 iterations; solutions for larger lambdas returned”\n",
      "Warning message:\n",
      "“from glmnet C++ code (error code -83); Convergence for 83th lambda value not reached after maxit=100000 iterations; solutions for larger lambdas returned”\n",
      "Warning message:\n",
      "“from glmnet C++ code (error code -93); Convergence for 93th lambda value not reached after maxit=100000 iterations; solutions for larger lambdas returned”\n",
      "Warning message:\n",
      "“from glmnet C++ code (error code -92); Convergence for 92th lambda value not reached after maxit=100000 iterations; solutions for larger lambdas returned”\n",
      "Warning message:\n",
      "“from glmnet C++ code (error code -90); Convergence for 90th lambda value not reached after maxit=100000 iterations; solutions for larger lambdas returned”\n",
      "Warning message:\n",
      "“from glmnet C++ code (error code -95); Convergence for 95th lambda value not reached after maxit=100000 iterations; solutions for larger lambdas returned”\n",
      "Warning message:\n",
      "“from glmnet C++ code (error code -89); Convergence for 89th lambda value not reached after maxit=100000 iterations; solutions for larger lambdas returned”\n",
      "Warning message:\n",
      "“from glmnet C++ code (error code -79); Convergence for 79th lambda value not reached after maxit=100000 iterations; solutions for larger lambdas returned”\n",
      "Warning message:\n",
      "“from glmnet C++ code (error code -92); Convergence for 92th lambda value not reached after maxit=100000 iterations; solutions for larger lambdas returned”\n",
      "Warning message:\n",
      "“from glmnet C++ code (error code -92); Convergence for 92th lambda value not reached after maxit=100000 iterations; solutions for larger lambdas returned”\n",
      "Warning message:\n",
      "“from glmnet C++ code (error code -89); Convergence for 89th lambda value not reached after maxit=100000 iterations; solutions for larger lambdas returned”\n",
      "Warning message:\n",
      "“from glmnet C++ code (error code -92); Convergence for 92th lambda value not reached after maxit=100000 iterations; solutions for larger lambdas returned”\n",
      "Warning message:\n",
      "“from glmnet C++ code (error code -86); Convergence for 86th lambda value not reached after maxit=100000 iterations; solutions for larger lambdas returned”\n",
      "Warning message:\n",
      "“from glmnet C++ code (error code -65); Convergence for 65th lambda value not reached after maxit=100000 iterations; solutions for larger lambdas returned”\n",
      "Warning message:\n",
      "“from glmnet C++ code (error code -65); Convergence for 65th lambda value not reached after maxit=100000 iterations; solutions for larger lambdas returned”\n",
      "Warning message:\n",
      "“from glmnet C++ code (error code -62); Convergence for 62th lambda value not reached after maxit=100000 iterations; solutions for larger lambdas returned”\n",
      "Warning message:\n",
      "“from glmnet C++ code (error code -67); Convergence for 67th lambda value not reached after maxit=100000 iterations; solutions for larger lambdas returned”\n",
      "Warning message:\n",
      "“from glmnet C++ code (error code -63); Convergence for 63th lambda value not reached after maxit=100000 iterations; solutions for larger lambdas returned”\n",
      "Warning message:\n",
      "“from glmnet C++ code (error code -64); Convergence for 64th lambda value not reached after maxit=100000 iterations; solutions for larger lambdas returned”\n",
      "Warning message:\n",
      "“from glmnet C++ code (error code -75); Convergence for 75th lambda value not reached after maxit=100000 iterations; solutions for larger lambdas returned”\n",
      "Warning message:\n",
      "“from glmnet C++ code (error code -71); Convergence for 71th lambda value not reached after maxit=100000 iterations; solutions for larger lambdas returned”\n",
      "Warning message:\n",
      "“from glmnet C++ code (error code -68); Convergence for 68th lambda value not reached after maxit=100000 iterations; solutions for larger lambdas returned”\n",
      "Warning message:\n",
      "“from glmnet C++ code (error code -56); Convergence for 56th lambda value not reached after maxit=100000 iterations; solutions for larger lambdas returned”\n"
     ]
    },
    {
     "name": "stdout",
     "output_type": "stream",
     "text": [
      "330 \n"
     ]
    },
    {
     "name": "stderr",
     "output_type": "stream",
     "text": [
      "Warning message:\n",
      "“from glmnet C++ code (error code -95); Convergence for 95th lambda value not reached after maxit=100000 iterations; solutions for larger lambdas returned”\n",
      "Warning message:\n",
      "“from glmnet C++ code (error code -91); Convergence for 91th lambda value not reached after maxit=100000 iterations; solutions for larger lambdas returned”\n",
      "Warning message:\n",
      "“from glmnet C++ code (error code -90); Convergence for 90th lambda value not reached after maxit=100000 iterations; solutions for larger lambdas returned”\n",
      "Warning message:\n",
      "“from glmnet C++ code (error code -98); Convergence for 98th lambda value not reached after maxit=100000 iterations; solutions for larger lambdas returned”\n",
      "Warning message:\n",
      "“from glmnet C++ code (error code -100); Convergence for 100th lambda value not reached after maxit=100000 iterations; solutions for larger lambdas returned”\n",
      "Warning message:\n",
      "“from glmnet C++ code (error code -100); Convergence for 100th lambda value not reached after maxit=100000 iterations; solutions for larger lambdas returned”\n",
      "Warning message:\n",
      "“from glmnet C++ code (error code -90); Convergence for 90th lambda value not reached after maxit=100000 iterations; solutions for larger lambdas returned”\n",
      "Warning message:\n",
      "“from glmnet C++ code (error code -92); Convergence for 92th lambda value not reached after maxit=100000 iterations; solutions for larger lambdas returned”\n",
      "Warning message:\n",
      "“from glmnet C++ code (error code -97); Convergence for 97th lambda value not reached after maxit=100000 iterations; solutions for larger lambdas returned”\n",
      "Warning message:\n",
      "“from glmnet C++ code (error code -97); Convergence for 97th lambda value not reached after maxit=100000 iterations; solutions for larger lambdas returned”\n",
      "Warning message:\n",
      "“from glmnet C++ code (error code -97); Convergence for 97th lambda value not reached after maxit=100000 iterations; solutions for larger lambdas returned”\n",
      "Warning message:\n",
      "“from glmnet C++ code (error code -96); Convergence for 96th lambda value not reached after maxit=100000 iterations; solutions for larger lambdas returned”\n",
      "Warning message:\n",
      "“from glmnet C++ code (error code -88); Convergence for 88th lambda value not reached after maxit=100000 iterations; solutions for larger lambdas returned”\n",
      "Warning message:\n",
      "“from glmnet C++ code (error code -92); Convergence for 92th lambda value not reached after maxit=100000 iterations; solutions for larger lambdas returned”\n",
      "Warning message:\n",
      "“from glmnet C++ code (error code -88); Convergence for 88th lambda value not reached after maxit=100000 iterations; solutions for larger lambdas returned”\n",
      "Warning message:\n",
      "“from glmnet C++ code (error code -89); Convergence for 89th lambda value not reached after maxit=100000 iterations; solutions for larger lambdas returned”\n",
      "Warning message:\n",
      "“from glmnet C++ code (error code -93); Convergence for 93th lambda value not reached after maxit=100000 iterations; solutions for larger lambdas returned”\n",
      "Warning message:\n",
      "“from glmnet C++ code (error code -85); Convergence for 85th lambda value not reached after maxit=100000 iterations; solutions for larger lambdas returned”\n",
      "Warning message:\n",
      "“from glmnet C++ code (error code -77); Convergence for 77th lambda value not reached after maxit=100000 iterations; solutions for larger lambdas returned”\n",
      "Warning message:\n",
      "“from glmnet C++ code (error code -75); Convergence for 75th lambda value not reached after maxit=100000 iterations; solutions for larger lambdas returned”\n",
      "Warning message:\n",
      "“from glmnet C++ code (error code -79); Convergence for 79th lambda value not reached after maxit=100000 iterations; solutions for larger lambdas returned”\n",
      "Warning message:\n",
      "“from glmnet C++ code (error code -84); Convergence for 84th lambda value not reached after maxit=100000 iterations; solutions for larger lambdas returned”\n",
      "Warning message:\n",
      "“from glmnet C++ code (error code -87); Convergence for 87th lambda value not reached after maxit=100000 iterations; solutions for larger lambdas returned”\n",
      "Warning message:\n",
      "“from glmnet C++ code (error code -88); Convergence for 88th lambda value not reached after maxit=100000 iterations; solutions for larger lambdas returned”\n",
      "Warning message:\n",
      "“from glmnet C++ code (error code -78); Convergence for 78th lambda value not reached after maxit=100000 iterations; solutions for larger lambdas returned”\n",
      "Warning message:\n",
      "“from glmnet C++ code (error code -60); Convergence for 60th lambda value not reached after maxit=100000 iterations; solutions for larger lambdas returned”\n",
      "Warning message:\n",
      "“from glmnet C++ code (error code -65); Convergence for 65th lambda value not reached after maxit=100000 iterations; solutions for larger lambdas returned”\n",
      "Warning message:\n",
      "“from glmnet C++ code (error code -82); Convergence for 82th lambda value not reached after maxit=100000 iterations; solutions for larger lambdas returned”\n",
      "Warning message:\n",
      "“from glmnet C++ code (error code -64); Convergence for 64th lambda value not reached after maxit=100000 iterations; solutions for larger lambdas returned”\n",
      "Warning message:\n",
      "“from glmnet C++ code (error code -67); Convergence for 67th lambda value not reached after maxit=100000 iterations; solutions for larger lambdas returned”\n",
      "Warning message:\n",
      "“from glmnet C++ code (error code -61); Convergence for 61th lambda value not reached after maxit=100000 iterations; solutions for larger lambdas returned”\n",
      "Warning message:\n",
      "“from glmnet C++ code (error code -41); Convergence for 41th lambda value not reached after maxit=100000 iterations; solutions for larger lambdas returned”\n",
      "Warning message:\n",
      "“from glmnet C++ code (error code -63); Convergence for 63th lambda value not reached after maxit=100000 iterations; solutions for larger lambdas returned”\n",
      "Warning message:\n",
      "“from glmnet C++ code (error code -51); Convergence for 51th lambda value not reached after maxit=100000 iterations; solutions for larger lambdas returned”\n",
      "Warning message:\n",
      "“from glmnet C++ code (error code -68); Convergence for 68th lambda value not reached after maxit=100000 iterations; solutions for larger lambdas returned”\n",
      "Warning message in file(file, ifelse(append, \"a\", \"w\")):\n",
      "“cannot open file '27-OUT//models.all.wind.a27.5000': No such file or directory”\n"
     ]
    },
    {
     "ename": "ERROR",
     "evalue": "Error in file(file, ifelse(append, \"a\", \"w\")): cannot open the connection\n",
     "output_type": "error",
     "traceback": [
      "Error in file(file, ifelse(append, \"a\", \"w\")): cannot open the connection\nTraceback:\n",
      "1. write.csv(models.all, outf)",
      "2. eval.parent(Call)",
      "3. eval(expr, p)",
      "4. eval(expr, p)",
      "5. utils::write.table(models.all, outf, col.names = NA, sep = \",\", \n .     dec = \".\", qmethod = \"double\")",
      "6. file(file, ifelse(append, \"a\", \"w\"))"
     ]
    }
   ],
   "source": [
    "# built predition models\n",
    "idx.ea <- BSsample$race == \"CAUC\"\n",
    "for(k in 1:length(wind)){\n",
    "models.ea <- c()\n",
    "models.all <- c()\n",
    "for(i in 1:length(cg)){\n",
    "\tcat(i,\"\\n\")\n",
    "\trange1 <- ifelse(cg[i] - wind[k] > 0,cg[i] - wind[k],0)\n",
    "\trange2 <- cg[i] + wind[k]\n",
    "\tidx <- map2$POS > range1 & map2$POS < range2\n",
    "\t# go to next cg if no snps within window\n",
    "\tif(sum(idx) <= 1){\n",
    "\t\tnext\n",
    "\t}\n",
    "\tgeno <- snp2[idx,]\n",
    "\trownames(geno) <- map2$POS[idx]\n",
    "\ttrainX <- t(geno)\n",
    "\ttrainY <- p.residual[i,]\n",
    "\tfit <- tryCatch(\n",
    "\t\telastic.net(trainX,trainY),\n",
    "\t\terror = function(e) {return (\"err\")})\n",
    "    if(!is.data.frame(fit)){\n",
    "        if(fit == \"err\"){\n",
    "            next\n",
    "        }\n",
    "    }\n",
    "\tfit$cg <- cg[i]\t\n",
    "\tmodels.all <- rbind(models.all,fit)\n",
    "\t# EA only\n",
    "\ttrainX <- trainX[idx.ea,]\n",
    "\tif(sum(apply(trainX,2,var)!=0) <= 1){\n",
    "\t\tnext\n",
    "\t}\n",
    "\ttrainY <- trainY[idx.ea]\t\n",
    "\tfit <- tryCatch(\n",
    "\t\telastic.net(trainX,trainY),\n",
    "\t\terror = function(e) {return (\"err\")})\n",
    "    if(!is.data.frame(fit)){\n",
    "        if(fit == \"err\"){\n",
    "            next\n",
    "        }\n",
    "    }\t\t\n",
    "\tfit$cg <- cg[i]\n",
    "\tmodels.ea <- rbind(models.ea,fit)\n",
    "}\n",
    "models.ea <- models.ea[models.ea[,1] != \"(Intercept)\",]\n",
    "models.all <- models.all[models.all[,1] != \"(Intercept)\",]\n",
    "\n",
    "# mwas by models of all samples\n",
    "cg2 <- unique(models.all$cg)\n",
    "mwas.all <- matrix(0,nrow=length(cg2),ncol=2)\n",
    "for(i in 1:length(cg2)){\n",
    "\tpos <- models.all[models.all$cg == cg2[i],1]\n",
    "\tgwas <- snp.gwas2$z[is.element(snp.gwas2$pos_hg38, pos)]\n",
    "\tweight <- models.all[models.all$cg == cg2[i],2]\n",
    "\tgeno <- snp.1kg.eur2[match(pos,map.1kg.eur2$POS),]\n",
    "\tmwas.all[i,] <- MWAS(gwas, weight, t(geno))\n",
    "}\n",
    "rownames(mwas.all) <- cg2\n",
    "colnames(mwas.all) <- c(\"z\",\"p\")\n",
    "\n",
    "# mwas by models of EA samples\n",
    "cg2 <- unique(models.ea$cg)\n",
    "mwas.ea <- matrix(0,nrow=length(cg2),ncol=2)\n",
    "for(i in 1:length(cg2)){\n",
    "\tpos <- models.ea[models.ea$cg == cg2[i],1]\n",
    "\tgwas <- snp.gwas2$z[is.element(snp.gwas2$pos_hg38, pos)]\n",
    "\tweight <- models.ea[models.ea$cg == cg2[i],2]\n",
    "\tgeno <- snp.1kg.eur2[match(pos,map.1kg.eur2$POS),]\n",
    "\tmwas.ea[i,] <- MWAS(gwas, weight, t(geno))\n",
    "}\n",
    "rownames(mwas.ea) <- cg2\n",
    "colnames(mwas.ea) <- c(\"z\",\"p\")\n",
    "\n",
    "# output models and mwas results\n",
    "outf <- paste0(outd,\"/models.all.wind.a27.\",wind[k])\n",
    "write.csv(models.all,outf)\n",
    "outf <- paste0(outd,\"/models.ea.wind.a27.\",wind[k])\n",
    "write.csv(models.ea,outf)\n",
    "outf <- paste0(outd,\"/mwas.all.wind.a27.\",wind[k])\n",
    "write.csv(mwas.all,outf)\n",
    "outf <- paste0(outd,\"/mwas.ea.wind.a27.\",wind[k])\n",
    "write.csv(mwas.ea,outf)\n",
    "}\n",
    "\t"
   ]
  },
  {
   "cell_type": "code",
   "execution_count": null,
   "id": "8aa7597c-b8ac-4129-a45b-f0a98fd9e112",
   "metadata": {},
   "outputs": [],
   "source": []
  },
  {
   "cell_type": "code",
   "execution_count": null,
   "id": "1ae249ea-b36a-4ba0-86f1-c707af31b740",
   "metadata": {},
   "outputs": [],
   "source": []
  }
 ],
 "metadata": {
  "kernelspec": {
   "display_name": "R",
   "language": "R",
   "name": "ir"
  },
  "language_info": {
   "codemirror_mode": "r",
   "file_extension": ".r",
   "mimetype": "text/x-r-source",
   "name": "R",
   "pygments_lexer": "r",
   "version": "4.3.1"
  }
 },
 "nbformat": 4,
 "nbformat_minor": 5
}
