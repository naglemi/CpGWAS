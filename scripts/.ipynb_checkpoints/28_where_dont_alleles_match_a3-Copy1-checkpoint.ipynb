{
 "cells": [
  {
   "cell_type": "markdown",
   "id": "a73e5ea8-56cc-43a0-b461-7f6a7f8d4761",
   "metadata": {},
   "source": [
    "# Compare alleles across LIBD population, ref population, summary stats"
   ]
  },
  {
   "cell_type": "markdown",
   "id": "413eb57b-3010-4edf-bc0a-3602b17afc39",
   "metadata": {},
   "source": [
    "## Define paths"
   ]
  },
  {
   "cell_type": "code",
   "execution_count": 1,
   "id": "da708f88-d9e6-4c9a-8605-879250d987b1",
   "metadata": {},
   "outputs": [],
   "source": [
    "library(data.table)"
   ]
  },
  {
   "cell_type": "code",
   "execution_count": 2,
   "id": "ef595a4d-5c68-4733-9851-8f4573c478b0",
   "metadata": {},
   "outputs": [],
   "source": [
    "library(CpGWAS)"
   ]
  },
  {
   "cell_type": "code",
   "execution_count": 3,
   "id": "70d0c8f8-54aa-4edf-9a27-7050cba07e64",
   "metadata": {},
   "outputs": [],
   "source": [
    "chr <- 7"
   ]
  },
  {
   "cell_type": "code",
   "execution_count": 4,
   "id": "e431d027-1323-4951-b2ac-1e6a7cbf6803",
   "metadata": {},
   "outputs": [],
   "source": [
    "paths_ref <- list(\n",
    "  pvar_path = paste0(\"/expanse/lustre/projects/jhu152/naglemi/mwas/gwas_flipped/ref_EUR_allele-match-a2-libd_chr\", chr, \".pvar\"),\n",
    "  pgen_path = paste0(\"/expanse/lustre/projects/jhu152/naglemi/mwas/gwas_flipped/ref_EUR_allele-match-a2-libd_chr\", chr, \".pgen\"),\n",
    "  psam_path = paste0(\"/expanse/lustre/projects/jhu152/naglemi/mwas/gwas_flipped/ref_EUR_allele-match-a2-libd_chr\", chr, \".psam\")\n",
    ")"
   ]
  },
  {
   "cell_type": "code",
   "execution_count": 5,
   "id": "18b6902d-2065-4be3-83c8-ecf471c9758c",
   "metadata": {},
   "outputs": [],
   "source": [
    "paths_libd <- list(\n",
    "  pvar_path = paste0(\"/expanse/lustre/projects/jhu152/naglemi/mwas/gwas_flipped/libd_chr\", chr, \".pvar\"),\n",
    "  pgen_path = paste0(\"/expanse/lustre/projects/jhu152/naglemi/mwas/gwas_flipped/libd_chr\", chr, \".pgen\"),\n",
    "  psam_path = paste0(\"/expanse/lustre/projects/jhu152/naglemi/mwas/gwas_flipped/libd_chr\", chr, \".psam\")\n",
    ")"
   ]
  },
  {
   "cell_type": "code",
   "execution_count": null,
   "id": "3486651b-74a9-4240-8ba1-6a1ef9189e08",
   "metadata": {},
   "outputs": [],
   "source": []
  },
  {
   "cell_type": "code",
   "execution_count": 6,
   "id": "bbedb75c-2598-4848-af52-780acf0e7527",
   "metadata": {},
   "outputs": [],
   "source": [
    "summary_stats_paths <- list.files(\"/expanse/lustre/projects/jhu152/naglemi/mwas/gwas/\",\n",
    "                                  pattern = \"stat\",\n",
    "                                  full.names = TRUE)"
   ]
  },
  {
   "cell_type": "code",
   "execution_count": 7,
   "id": "c8085e79-93bf-47a2-be87-0d8757f75491",
   "metadata": {},
   "outputs": [],
   "source": [
    "k <- 1"
   ]
  },
  {
   "cell_type": "code",
   "execution_count": 8,
   "id": "cf577304-4131-4d68-a120-f253eee9a5f4",
   "metadata": {},
   "outputs": [],
   "source": [
    "summary_stats_path <- summary_stats_paths[k]"
   ]
  },
  {
   "cell_type": "code",
   "execution_count": 9,
   "id": "033f4db1-cea5-40d5-b94c-bb7045d6d2d0",
   "metadata": {},
   "outputs": [
    {
     "name": "stdout",
     "output_type": "stream",
     "text": [
      "[1] \"Setting Z\"\n"
     ]
    }
   ],
   "source": [
    "summary_stats <- suppressWarnings(fread(summary_stats_path))\n",
    "summary_stats <- clean_and_standardize_colnames(summary_stats)"
   ]
  },
  {
   "cell_type": "code",
   "execution_count": 10,
   "id": "45569597-72ad-44b0-9e81-c3a6886d1134",
   "metadata": {},
   "outputs": [
    {
     "data": {
      "text/html": [
       "<table class=\"dataframe\">\n",
       "<caption>A data.table: 6 × 17</caption>\n",
       "<thead>\n",
       "\t<tr><th scope=col>CHR</th><th scope=col>BP</th><th scope=col>SNP</th><th scope=col>A1</th><th scope=col>A2</th><th scope=col>logOR</th><th scope=col>SE</th><th scope=col>PVAL</th><th scope=col>NGT</th><th scope=col>FCAS</th><th scope=col>FCON</th><th scope=col>IMPINFO</th><th scope=col>NEFFDIV2</th><th scope=col>NCAS</th><th scope=col>NCON</th><th scope=col>DIRE</th><th scope=col>Z</th></tr>\n",
       "\t<tr><th scope=col>&lt;int&gt;</th><th scope=col>&lt;int&gt;</th><th scope=col>&lt;chr&gt;</th><th scope=col>&lt;chr&gt;</th><th scope=col>&lt;chr&gt;</th><th scope=col>&lt;dbl&gt;</th><th scope=col>&lt;dbl&gt;</th><th scope=col>&lt;dbl&gt;</th><th scope=col>&lt;int&gt;</th><th scope=col>&lt;dbl&gt;</th><th scope=col>&lt;dbl&gt;</th><th scope=col>&lt;dbl&gt;</th><th scope=col>&lt;dbl&gt;</th><th scope=col>&lt;int&gt;</th><th scope=col>&lt;int&gt;</th><th scope=col>&lt;chr&gt;</th><th scope=col>&lt;dbl&gt;</th></tr>\n",
       "</thead>\n",
       "<tbody>\n",
       "\t<tr><td>10</td><td>98322628</td><td>10:100082385_C_A</td><td>C</td><td>A</td><td> 0.004001981</td><td>0.0201</td><td>0.8422</td><td> 0</td><td>0.934</td><td>0.941</td><td>0.971</td><td>43354.73</td><td>37940</td><td>103559</td><td>+++-+--++-+-++---+--++++-++--++++++--+++-+-----??-?+--+?-</td><td> 0.1991036</td></tr>\n",
       "\t<tr><td>10</td><td>98429811</td><td>10:100189568_C_A</td><td>C</td><td>A</td><td> 0.010098835</td><td>0.0200</td><td>0.6135</td><td>25</td><td>0.925</td><td>0.925</td><td>0.890</td><td>42290.42</td><td>36834</td><td>102499</td><td>-++--++++--+-++++++-?---++--+--+-+---+-+----+++??-?+?+-?+</td><td> 0.5049417</td></tr>\n",
       "\t<tr><td>10</td><td>98624242</td><td>10:100383999_C_G</td><td>C</td><td>G</td><td>-0.007397293</td><td>0.0122</td><td>0.5428</td><td> 0</td><td>0.799</td><td>0.797</td><td>1.000</td><td>43445.24</td><td>38084</td><td>103625</td><td>--++++-+++-++-++-+--++-++-+-+---+++-+----+--++-??-?---+-+</td><td>-0.6063355</td></tr>\n",
       "\t<tr><td>10</td><td>99046608</td><td>10:100806365_A_C</td><td>A</td><td>C</td><td>-0.002703652</td><td>0.0152</td><td>0.8603</td><td>26</td><td>0.119</td><td>0.126</td><td>0.993</td><td>43445.24</td><td>38084</td><td>103625</td><td>++--++++-+-++---+++-+---+++-+--+---+--++---++++??+?---++-</td><td>-0.1778718</td></tr>\n",
       "\t<tr><td>10</td><td>99053963</td><td>10:100813720_C_T</td><td>C</td><td>T</td><td>-0.003596460</td><td>0.0152</td><td>0.8123</td><td> 0</td><td>0.118</td><td>0.126</td><td>0.990</td><td>43445.24</td><td>38084</td><td>103625</td><td>--++----+-+--+++---+-+++---+-++-+++-++--+++-+--??-?+++--+</td><td>-0.2366092</td></tr>\n",
       "\t<tr><td>10</td><td>99497901</td><td>10:101257658_T_G</td><td>T</td><td>G</td><td> 0.005096988</td><td>0.0112</td><td>0.6474</td><td> 0</td><td>0.259</td><td>0.259</td><td>0.997</td><td>43445.24</td><td>38084</td><td>103625</td><td>-+--+++----+-+--++++---+---++-++---+--++--+-+++??+?--+--+</td><td> 0.4550882</td></tr>\n",
       "</tbody>\n",
       "</table>\n"
      ],
      "text/latex": [
       "A data.table: 6 × 17\n",
       "\\begin{tabular}{lllllllllllllllll}\n",
       " CHR & BP & SNP & A1 & A2 & logOR & SE & PVAL & NGT & FCAS & FCON & IMPINFO & NEFFDIV2 & NCAS & NCON & DIRE & Z\\\\\n",
       " <int> & <int> & <chr> & <chr> & <chr> & <dbl> & <dbl> & <dbl> & <int> & <dbl> & <dbl> & <dbl> & <dbl> & <int> & <int> & <chr> & <dbl>\\\\\n",
       "\\hline\n",
       "\t 10 & 98322628 & 10:100082385\\_C\\_A & C & A &  0.004001981 & 0.0201 & 0.8422 &  0 & 0.934 & 0.941 & 0.971 & 43354.73 & 37940 & 103559 & +++-+--++-+-++---+--++++-++--++++++--+++-+-----??-?+--+?- &  0.1991036\\\\\n",
       "\t 10 & 98429811 & 10:100189568\\_C\\_A & C & A &  0.010098835 & 0.0200 & 0.6135 & 25 & 0.925 & 0.925 & 0.890 & 42290.42 & 36834 & 102499 & -++--++++--+-++++++-?---++--+--+-+---+-+----+++??-?+?+-?+ &  0.5049417\\\\\n",
       "\t 10 & 98624242 & 10:100383999\\_C\\_G & C & G & -0.007397293 & 0.0122 & 0.5428 &  0 & 0.799 & 0.797 & 1.000 & 43445.24 & 38084 & 103625 & --++++-+++-++-++-+--++-++-+-+---+++-+----+--++-??-?---+-+ & -0.6063355\\\\\n",
       "\t 10 & 99046608 & 10:100806365\\_A\\_C & A & C & -0.002703652 & 0.0152 & 0.8603 & 26 & 0.119 & 0.126 & 0.993 & 43445.24 & 38084 & 103625 & ++--++++-+-++---+++-+---+++-+--+---+--++---++++??+?---++- & -0.1778718\\\\\n",
       "\t 10 & 99053963 & 10:100813720\\_C\\_T & C & T & -0.003596460 & 0.0152 & 0.8123 &  0 & 0.118 & 0.126 & 0.990 & 43445.24 & 38084 & 103625 & --++----+-+--+++---+-+++---+-++-+++-++--+++-+--??-?+++--+ & -0.2366092\\\\\n",
       "\t 10 & 99497901 & 10:101257658\\_T\\_G & T & G &  0.005096988 & 0.0112 & 0.6474 &  0 & 0.259 & 0.259 & 0.997 & 43445.24 & 38084 & 103625 & -+--+++----+-+--++++---+---++-++---+--++--+-+++??+?--+--+ &  0.4550882\\\\\n",
       "\\end{tabular}\n"
      ],
      "text/markdown": [
       "\n",
       "A data.table: 6 × 17\n",
       "\n",
       "| CHR &lt;int&gt; | BP &lt;int&gt; | SNP &lt;chr&gt; | A1 &lt;chr&gt; | A2 &lt;chr&gt; | logOR &lt;dbl&gt; | SE &lt;dbl&gt; | PVAL &lt;dbl&gt; | NGT &lt;int&gt; | FCAS &lt;dbl&gt; | FCON &lt;dbl&gt; | IMPINFO &lt;dbl&gt; | NEFFDIV2 &lt;dbl&gt; | NCAS &lt;int&gt; | NCON &lt;int&gt; | DIRE &lt;chr&gt; | Z &lt;dbl&gt; |\n",
       "|---|---|---|---|---|---|---|---|---|---|---|---|---|---|---|---|---|\n",
       "| 10 | 98322628 | 10:100082385_C_A | C | A |  0.004001981 | 0.0201 | 0.8422 |  0 | 0.934 | 0.941 | 0.971 | 43354.73 | 37940 | 103559 | +++-+--++-+-++---+--++++-++--++++++--+++-+-----??-?+--+?- |  0.1991036 |\n",
       "| 10 | 98429811 | 10:100189568_C_A | C | A |  0.010098835 | 0.0200 | 0.6135 | 25 | 0.925 | 0.925 | 0.890 | 42290.42 | 36834 | 102499 | -++--++++--+-++++++-?---++--+--+-+---+-+----+++??-?+?+-?+ |  0.5049417 |\n",
       "| 10 | 98624242 | 10:100383999_C_G | C | G | -0.007397293 | 0.0122 | 0.5428 |  0 | 0.799 | 0.797 | 1.000 | 43445.24 | 38084 | 103625 | --++++-+++-++-++-+--++-++-+-+---+++-+----+--++-??-?---+-+ | -0.6063355 |\n",
       "| 10 | 99046608 | 10:100806365_A_C | A | C | -0.002703652 | 0.0152 | 0.8603 | 26 | 0.119 | 0.126 | 0.993 | 43445.24 | 38084 | 103625 | ++--++++-+-++---+++-+---+++-+--+---+--++---++++??+?---++- | -0.1778718 |\n",
       "| 10 | 99053963 | 10:100813720_C_T | C | T | -0.003596460 | 0.0152 | 0.8123 |  0 | 0.118 | 0.126 | 0.990 | 43445.24 | 38084 | 103625 | --++----+-+--+++---+-+++---+-++-+++-++--+++-+--??-?+++--+ | -0.2366092 |\n",
       "| 10 | 99497901 | 10:101257658_T_G | T | G |  0.005096988 | 0.0112 | 0.6474 |  0 | 0.259 | 0.259 | 0.997 | 43445.24 | 38084 | 103625 | -+--+++----+-+--++++---+---++-++---+--++--+-+++??+?--+--+ |  0.4550882 |\n",
       "\n"
      ],
      "text/plain": [
       "  CHR BP       SNP              A1 A2 logOR        SE     PVAL   NGT FCAS \n",
       "1 10  98322628 10:100082385_C_A C  A   0.004001981 0.0201 0.8422  0  0.934\n",
       "2 10  98429811 10:100189568_C_A C  A   0.010098835 0.0200 0.6135 25  0.925\n",
       "3 10  98624242 10:100383999_C_G C  G  -0.007397293 0.0122 0.5428  0  0.799\n",
       "4 10  99046608 10:100806365_A_C A  C  -0.002703652 0.0152 0.8603 26  0.119\n",
       "5 10  99053963 10:100813720_C_T C  T  -0.003596460 0.0152 0.8123  0  0.118\n",
       "6 10  99497901 10:101257658_T_G T  G   0.005096988 0.0112 0.6474  0  0.259\n",
       "  FCON  IMPINFO NEFFDIV2 NCAS  NCON  \n",
       "1 0.941 0.971   43354.73 37940 103559\n",
       "2 0.925 0.890   42290.42 36834 102499\n",
       "3 0.797 1.000   43445.24 38084 103625\n",
       "4 0.126 0.993   43445.24 38084 103625\n",
       "5 0.126 0.990   43445.24 38084 103625\n",
       "6 0.259 0.997   43445.24 38084 103625\n",
       "  DIRE                                                      Z         \n",
       "1 +++-+--++-+-++---+--++++-++--++++++--+++-+-----??-?+--+?-  0.1991036\n",
       "2 -++--++++--+-++++++-?---++--+--+-+---+-+----+++??-?+?+-?+  0.5049417\n",
       "3 --++++-+++-++-++-+--++-++-+-+---+++-+----+--++-??-?---+-+ -0.6063355\n",
       "4 ++--++++-+-++---+++-+---+++-+--+---+--++---++++??+?---++- -0.1778718\n",
       "5 --++----+-+--+++---+-+++---+-++-+++-++--+++-+--??-?+++--+ -0.2366092\n",
       "6 -+--+++----+-+--++++---+---++-++---+--++--+-+++??+?--+--+  0.4550882"
      ]
     },
     "metadata": {},
     "output_type": "display_data"
    }
   ],
   "source": [
    "head(summary_stats)"
   ]
  },
  {
   "cell_type": "code",
   "execution_count": 11,
   "id": "c5eedcbc-53ac-4e9e-8521-2ccd2d9a19ba",
   "metadata": {},
   "outputs": [],
   "source": [
    "ref <- fread(paths_ref$pvar_path)"
   ]
  },
  {
   "cell_type": "code",
   "execution_count": 12,
   "id": "12fcf9d2-3742-43f1-aff3-415d9bc6d03a",
   "metadata": {},
   "outputs": [
    {
     "data": {
      "text/html": [
       "<table class=\"dataframe\">\n",
       "<caption>A data.table: 6 × 5</caption>\n",
       "<thead>\n",
       "\t<tr><th scope=col>#CHROM</th><th scope=col>POS</th><th scope=col>ID</th><th scope=col>REF</th><th scope=col>ALT</th></tr>\n",
       "\t<tr><th scope=col>&lt;int&gt;</th><th scope=col>&lt;int&gt;</th><th scope=col>&lt;chr&gt;</th><th scope=col>&lt;chr&gt;</th><th scope=col>&lt;chr&gt;</th></tr>\n",
       "</thead>\n",
       "<tbody>\n",
       "\t<tr><td>7</td><td>53998</td><td>rs7806592 </td><td>C</td><td>T</td></tr>\n",
       "\t<tr><td>7</td><td>60728</td><td>rs4916941 </td><td>G</td><td>A</td></tr>\n",
       "\t<tr><td>7</td><td>63494</td><td>rs6964622 </td><td>A</td><td>G</td></tr>\n",
       "\t<tr><td>7</td><td>71938</td><td>rs13437666</td><td>A</td><td>C</td></tr>\n",
       "\t<tr><td>7</td><td>80500</td><td>rs12533719</td><td>T</td><td>C</td></tr>\n",
       "\t<tr><td>7</td><td>82240</td><td>rs13236314</td><td>C</td><td>T</td></tr>\n",
       "</tbody>\n",
       "</table>\n"
      ],
      "text/latex": [
       "A data.table: 6 × 5\n",
       "\\begin{tabular}{lllll}\n",
       " \\#CHROM & POS & ID & REF & ALT\\\\\n",
       " <int> & <int> & <chr> & <chr> & <chr>\\\\\n",
       "\\hline\n",
       "\t 7 & 53998 & rs7806592  & C & T\\\\\n",
       "\t 7 & 60728 & rs4916941  & G & A\\\\\n",
       "\t 7 & 63494 & rs6964622  & A & G\\\\\n",
       "\t 7 & 71938 & rs13437666 & A & C\\\\\n",
       "\t 7 & 80500 & rs12533719 & T & C\\\\\n",
       "\t 7 & 82240 & rs13236314 & C & T\\\\\n",
       "\\end{tabular}\n"
      ],
      "text/markdown": [
       "\n",
       "A data.table: 6 × 5\n",
       "\n",
       "| #CHROM &lt;int&gt; | POS &lt;int&gt; | ID &lt;chr&gt; | REF &lt;chr&gt; | ALT &lt;chr&gt; |\n",
       "|---|---|---|---|---|\n",
       "| 7 | 53998 | rs7806592  | C | T |\n",
       "| 7 | 60728 | rs4916941  | G | A |\n",
       "| 7 | 63494 | rs6964622  | A | G |\n",
       "| 7 | 71938 | rs13437666 | A | C |\n",
       "| 7 | 80500 | rs12533719 | T | C |\n",
       "| 7 | 82240 | rs13236314 | C | T |\n",
       "\n"
      ],
      "text/plain": [
       "  #CHROM POS   ID         REF ALT\n",
       "1 7      53998 rs7806592  C   T  \n",
       "2 7      60728 rs4916941  G   A  \n",
       "3 7      63494 rs6964622  A   G  \n",
       "4 7      71938 rs13437666 A   C  \n",
       "5 7      80500 rs12533719 T   C  \n",
       "6 7      82240 rs13236314 C   T  "
      ]
     },
     "metadata": {},
     "output_type": "display_data"
    }
   ],
   "source": [
    "head(ref)"
   ]
  },
  {
   "cell_type": "code",
   "execution_count": 13,
   "id": "c96d8816-c7da-4ad4-b037-160b862b79b3",
   "metadata": {},
   "outputs": [],
   "source": [
    "libd <- fread(paths_libd$pvar_path)"
   ]
  },
  {
   "cell_type": "code",
   "execution_count": 14,
   "id": "953098e2-ad2a-4c51-8aa3-b1646f8ed332",
   "metadata": {},
   "outputs": [
    {
     "data": {
      "text/html": [
       "<table class=\"dataframe\">\n",
       "<caption>A data.table: 6 × 7</caption>\n",
       "<thead>\n",
       "\t<tr><th scope=col>#CHROM</th><th scope=col>POS</th><th scope=col>ID</th><th scope=col>REF</th><th scope=col>ALT</th><th scope=col>FILTER</th><th scope=col>INFO</th></tr>\n",
       "\t<tr><th scope=col>&lt;int&gt;</th><th scope=col>&lt;int&gt;</th><th scope=col>&lt;chr&gt;</th><th scope=col>&lt;chr&gt;</th><th scope=col>&lt;chr&gt;</th><th scope=col>&lt;chr&gt;</th><th scope=col>&lt;chr&gt;</th></tr>\n",
       "</thead>\n",
       "<tbody>\n",
       "\t<tr><td>7</td><td>53998</td><td>chr7:53998:C:T</td><td>C</td><td>T</td><td>PASS</td><td>AF=0.75734;MAF=0.24266;R2=0.99694;ER2=0.93645;TYPED;IMPUTED;AN=4378;AC=3335</td></tr>\n",
       "\t<tr><td>7</td><td>60728</td><td>chr7:60728:G:A</td><td>G</td><td>A</td><td>PASS</td><td>AF=0.05541;MAF=0.05541;R2=0.9985;ER2=0.97501;TYPED;AN=4378;AC=211          </td></tr>\n",
       "\t<tr><td>7</td><td>63494</td><td>chr7:63494:A:G</td><td>A</td><td>G</td><td>PASS</td><td>AF=0.80326;MAF=0.19674;R2=0.99723;ER2=0.97569;TYPED;AN=4378;AC=3510        </td></tr>\n",
       "\t<tr><td>7</td><td>71938</td><td>chr7:71938:A:C</td><td>A</td><td>C</td><td>PASS</td><td>AF=0.05024;MAF=0.05024;R2=0.9094;IMPUTED;AN=4378;AC=200                    </td></tr>\n",
       "\t<tr><td>7</td><td>80500</td><td>chr7:80500:T:C</td><td>T</td><td>C</td><td>PASS</td><td>AF=0.29849;MAF=0.29849;R2=0.94111;IMPUTED;ER2=0.99967;TYPED;AN=4378;AC=1226</td></tr>\n",
       "\t<tr><td>7</td><td>82240</td><td>chr7:82240:C:T</td><td>C</td><td>T</td><td>PASS</td><td>AF=0.12001;MAF=0.12001;R2=0.95688;IMPUTED;AN=4378;AC=644                   </td></tr>\n",
       "</tbody>\n",
       "</table>\n"
      ],
      "text/latex": [
       "A data.table: 6 × 7\n",
       "\\begin{tabular}{lllllll}\n",
       " \\#CHROM & POS & ID & REF & ALT & FILTER & INFO\\\\\n",
       " <int> & <int> & <chr> & <chr> & <chr> & <chr> & <chr>\\\\\n",
       "\\hline\n",
       "\t 7 & 53998 & chr7:53998:C:T & C & T & PASS & AF=0.75734;MAF=0.24266;R2=0.99694;ER2=0.93645;TYPED;IMPUTED;AN=4378;AC=3335\\\\\n",
       "\t 7 & 60728 & chr7:60728:G:A & G & A & PASS & AF=0.05541;MAF=0.05541;R2=0.9985;ER2=0.97501;TYPED;AN=4378;AC=211          \\\\\n",
       "\t 7 & 63494 & chr7:63494:A:G & A & G & PASS & AF=0.80326;MAF=0.19674;R2=0.99723;ER2=0.97569;TYPED;AN=4378;AC=3510        \\\\\n",
       "\t 7 & 71938 & chr7:71938:A:C & A & C & PASS & AF=0.05024;MAF=0.05024;R2=0.9094;IMPUTED;AN=4378;AC=200                    \\\\\n",
       "\t 7 & 80500 & chr7:80500:T:C & T & C & PASS & AF=0.29849;MAF=0.29849;R2=0.94111;IMPUTED;ER2=0.99967;TYPED;AN=4378;AC=1226\\\\\n",
       "\t 7 & 82240 & chr7:82240:C:T & C & T & PASS & AF=0.12001;MAF=0.12001;R2=0.95688;IMPUTED;AN=4378;AC=644                   \\\\\n",
       "\\end{tabular}\n"
      ],
      "text/markdown": [
       "\n",
       "A data.table: 6 × 7\n",
       "\n",
       "| #CHROM &lt;int&gt; | POS &lt;int&gt; | ID &lt;chr&gt; | REF &lt;chr&gt; | ALT &lt;chr&gt; | FILTER &lt;chr&gt; | INFO &lt;chr&gt; |\n",
       "|---|---|---|---|---|---|---|\n",
       "| 7 | 53998 | chr7:53998:C:T | C | T | PASS | AF=0.75734;MAF=0.24266;R2=0.99694;ER2=0.93645;TYPED;IMPUTED;AN=4378;AC=3335 |\n",
       "| 7 | 60728 | chr7:60728:G:A | G | A | PASS | AF=0.05541;MAF=0.05541;R2=0.9985;ER2=0.97501;TYPED;AN=4378;AC=211           |\n",
       "| 7 | 63494 | chr7:63494:A:G | A | G | PASS | AF=0.80326;MAF=0.19674;R2=0.99723;ER2=0.97569;TYPED;AN=4378;AC=3510         |\n",
       "| 7 | 71938 | chr7:71938:A:C | A | C | PASS | AF=0.05024;MAF=0.05024;R2=0.9094;IMPUTED;AN=4378;AC=200                     |\n",
       "| 7 | 80500 | chr7:80500:T:C | T | C | PASS | AF=0.29849;MAF=0.29849;R2=0.94111;IMPUTED;ER2=0.99967;TYPED;AN=4378;AC=1226 |\n",
       "| 7 | 82240 | chr7:82240:C:T | C | T | PASS | AF=0.12001;MAF=0.12001;R2=0.95688;IMPUTED;AN=4378;AC=644                    |\n",
       "\n"
      ],
      "text/plain": [
       "  #CHROM POS   ID             REF ALT FILTER\n",
       "1 7      53998 chr7:53998:C:T C   T   PASS  \n",
       "2 7      60728 chr7:60728:G:A G   A   PASS  \n",
       "3 7      63494 chr7:63494:A:G A   G   PASS  \n",
       "4 7      71938 chr7:71938:A:C A   C   PASS  \n",
       "5 7      80500 chr7:80500:T:C T   C   PASS  \n",
       "6 7      82240 chr7:82240:C:T C   T   PASS  \n",
       "  INFO                                                                       \n",
       "1 AF=0.75734;MAF=0.24266;R2=0.99694;ER2=0.93645;TYPED;IMPUTED;AN=4378;AC=3335\n",
       "2 AF=0.05541;MAF=0.05541;R2=0.9985;ER2=0.97501;TYPED;AN=4378;AC=211          \n",
       "3 AF=0.80326;MAF=0.19674;R2=0.99723;ER2=0.97569;TYPED;AN=4378;AC=3510        \n",
       "4 AF=0.05024;MAF=0.05024;R2=0.9094;IMPUTED;AN=4378;AC=200                    \n",
       "5 AF=0.29849;MAF=0.29849;R2=0.94111;IMPUTED;ER2=0.99967;TYPED;AN=4378;AC=1226\n",
       "6 AF=0.12001;MAF=0.12001;R2=0.95688;IMPUTED;AN=4378;AC=644                   "
      ]
     },
     "metadata": {},
     "output_type": "display_data"
    }
   ],
   "source": [
    "head(libd)"
   ]
  },
  {
   "cell_type": "code",
   "execution_count": 16,
   "id": "e65d59b2-8f3e-4c61-9aee-bf70effb2004",
   "metadata": {},
   "outputs": [],
   "source": [
    "library(data.table)\n",
    "\n",
    "summary_stats_paths <- list.files(\"/expanse/lustre/projects/jhu152/naglemi/mwas/gwas/\", pattern = \"stat\", full.names = TRUE)"
   ]
  },
  {
   "cell_type": "code",
   "execution_count": 17,
   "id": "9d2d61bc-59cf-484c-9798-da596f881d36",
   "metadata": {},
   "outputs": [
    {
     "data": {
      "text/html": [
       "<style>\n",
       ".list-inline {list-style: none; margin:0; padding: 0}\n",
       ".list-inline>li {display: inline-block}\n",
       ".list-inline>li:not(:last-child)::after {content: \"\\00b7\"; padding: 0 .5ex}\n",
       "</style>\n",
       "<ol class=list-inline><li>'/expanse/lustre/projects/jhu152/naglemi/mwas/gwas//gwas_stat_bp'</li><li>'/expanse/lustre/projects/jhu152/naglemi/mwas/gwas//gwas_stat_bp_alleleprocessed.txt'</li><li>'/expanse/lustre/projects/jhu152/naglemi/mwas/gwas//gwas_stat_mdd'</li><li>'/expanse/lustre/projects/jhu152/naglemi/mwas/gwas//gwas_stat_mdd_alleleprocessed_alleleprocessed.txt'</li><li>'/expanse/lustre/projects/jhu152/naglemi/mwas/gwas//gwas_stat_mdd_alleleprocessed.txt'</li><li>'/expanse/lustre/projects/jhu152/naglemi/mwas/gwas//gwas_stat_scz'</li><li>'/expanse/lustre/projects/jhu152/naglemi/mwas/gwas//gwas_stat_scz_alleleprocessed_alleleprocessed.txt'</li><li>'/expanse/lustre/projects/jhu152/naglemi/mwas/gwas//gwas_stat_scz_alleleprocessed.txt'</li></ol>\n"
      ],
      "text/latex": [
       "\\begin{enumerate*}\n",
       "\\item '/expanse/lustre/projects/jhu152/naglemi/mwas/gwas//gwas\\_stat\\_bp'\n",
       "\\item '/expanse/lustre/projects/jhu152/naglemi/mwas/gwas//gwas\\_stat\\_bp\\_alleleprocessed.txt'\n",
       "\\item '/expanse/lustre/projects/jhu152/naglemi/mwas/gwas//gwas\\_stat\\_mdd'\n",
       "\\item '/expanse/lustre/projects/jhu152/naglemi/mwas/gwas//gwas\\_stat\\_mdd\\_alleleprocessed\\_alleleprocessed.txt'\n",
       "\\item '/expanse/lustre/projects/jhu152/naglemi/mwas/gwas//gwas\\_stat\\_mdd\\_alleleprocessed.txt'\n",
       "\\item '/expanse/lustre/projects/jhu152/naglemi/mwas/gwas//gwas\\_stat\\_scz'\n",
       "\\item '/expanse/lustre/projects/jhu152/naglemi/mwas/gwas//gwas\\_stat\\_scz\\_alleleprocessed\\_alleleprocessed.txt'\n",
       "\\item '/expanse/lustre/projects/jhu152/naglemi/mwas/gwas//gwas\\_stat\\_scz\\_alleleprocessed.txt'\n",
       "\\end{enumerate*}\n"
      ],
      "text/markdown": [
       "1. '/expanse/lustre/projects/jhu152/naglemi/mwas/gwas//gwas_stat_bp'\n",
       "2. '/expanse/lustre/projects/jhu152/naglemi/mwas/gwas//gwas_stat_bp_alleleprocessed.txt'\n",
       "3. '/expanse/lustre/projects/jhu152/naglemi/mwas/gwas//gwas_stat_mdd'\n",
       "4. '/expanse/lustre/projects/jhu152/naglemi/mwas/gwas//gwas_stat_mdd_alleleprocessed_alleleprocessed.txt'\n",
       "5. '/expanse/lustre/projects/jhu152/naglemi/mwas/gwas//gwas_stat_mdd_alleleprocessed.txt'\n",
       "6. '/expanse/lustre/projects/jhu152/naglemi/mwas/gwas//gwas_stat_scz'\n",
       "7. '/expanse/lustre/projects/jhu152/naglemi/mwas/gwas//gwas_stat_scz_alleleprocessed_alleleprocessed.txt'\n",
       "8. '/expanse/lustre/projects/jhu152/naglemi/mwas/gwas//gwas_stat_scz_alleleprocessed.txt'\n",
       "\n",
       "\n"
      ],
      "text/plain": [
       "[1] \"/expanse/lustre/projects/jhu152/naglemi/mwas/gwas//gwas_stat_bp\"                                     \n",
       "[2] \"/expanse/lustre/projects/jhu152/naglemi/mwas/gwas//gwas_stat_bp_alleleprocessed.txt\"                 \n",
       "[3] \"/expanse/lustre/projects/jhu152/naglemi/mwas/gwas//gwas_stat_mdd\"                                    \n",
       "[4] \"/expanse/lustre/projects/jhu152/naglemi/mwas/gwas//gwas_stat_mdd_alleleprocessed_alleleprocessed.txt\"\n",
       "[5] \"/expanse/lustre/projects/jhu152/naglemi/mwas/gwas//gwas_stat_mdd_alleleprocessed.txt\"                \n",
       "[6] \"/expanse/lustre/projects/jhu152/naglemi/mwas/gwas//gwas_stat_scz\"                                    \n",
       "[7] \"/expanse/lustre/projects/jhu152/naglemi/mwas/gwas//gwas_stat_scz_alleleprocessed_alleleprocessed.txt\"\n",
       "[8] \"/expanse/lustre/projects/jhu152/naglemi/mwas/gwas//gwas_stat_scz_alleleprocessed.txt\"                "
      ]
     },
     "metadata": {},
     "output_type": "display_data"
    }
   ],
   "source": [
    "summary_stats_paths"
   ]
  },
  {
   "cell_type": "code",
   "execution_count": 15,
   "id": "3df30367-20f7-4754-a71a-2bd6cfa9a427",
   "metadata": {},
   "outputs": [],
   "source": [
    "summary_stats_paths <- summary_stats_paths[!grepl(\"allele\", summary_stats_paths)]"
   ]
  },
  {
   "cell_type": "code",
   "execution_count": 16,
   "id": "6eff9117-611c-4bce-a7bf-638d51c41dd3",
   "metadata": {},
   "outputs": [
    {
     "data": {
      "text/html": [
       "<style>\n",
       ".list-inline {list-style: none; margin:0; padding: 0}\n",
       ".list-inline>li {display: inline-block}\n",
       ".list-inline>li:not(:last-child)::after {content: \"\\00b7\"; padding: 0 .5ex}\n",
       "</style>\n",
       "<ol class=list-inline><li>'/expanse/lustre/projects/jhu152/naglemi/mwas/gwas//gwas_stat_bp'</li><li>'/expanse/lustre/projects/jhu152/naglemi/mwas/gwas//gwas_stat_mdd'</li><li>'/expanse/lustre/projects/jhu152/naglemi/mwas/gwas//gwas_stat_scz'</li></ol>\n"
      ],
      "text/latex": [
       "\\begin{enumerate*}\n",
       "\\item '/expanse/lustre/projects/jhu152/naglemi/mwas/gwas//gwas\\_stat\\_bp'\n",
       "\\item '/expanse/lustre/projects/jhu152/naglemi/mwas/gwas//gwas\\_stat\\_mdd'\n",
       "\\item '/expanse/lustre/projects/jhu152/naglemi/mwas/gwas//gwas\\_stat\\_scz'\n",
       "\\end{enumerate*}\n"
      ],
      "text/markdown": [
       "1. '/expanse/lustre/projects/jhu152/naglemi/mwas/gwas//gwas_stat_bp'\n",
       "2. '/expanse/lustre/projects/jhu152/naglemi/mwas/gwas//gwas_stat_mdd'\n",
       "3. '/expanse/lustre/projects/jhu152/naglemi/mwas/gwas//gwas_stat_scz'\n",
       "\n",
       "\n"
      ],
      "text/plain": [
       "[1] \"/expanse/lustre/projects/jhu152/naglemi/mwas/gwas//gwas_stat_bp\" \n",
       "[2] \"/expanse/lustre/projects/jhu152/naglemi/mwas/gwas//gwas_stat_mdd\"\n",
       "[3] \"/expanse/lustre/projects/jhu152/naglemi/mwas/gwas//gwas_stat_scz\""
      ]
     },
     "metadata": {},
     "output_type": "display_data"
    }
   ],
   "source": [
    "summary_stats_paths"
   ]
  },
  {
   "cell_type": "markdown",
   "id": "a12028ca-39b1-411b-90ff-a576952a5426",
   "metadata": {},
   "source": [
    "## Try for one chr (7)"
   ]
  },
  {
   "cell_type": "code",
   "execution_count": 18,
   "id": "b9faf690-514a-44bb-a231-6f4425c065d7",
   "metadata": {},
   "outputs": [],
   "source": [
    "summary_stats_path <- summary_stats_paths[1]"
   ]
  },
  {
   "cell_type": "code",
   "execution_count": 19,
   "id": "a933281e-75ce-462e-b99c-dc55d1d0b13d",
   "metadata": {},
   "outputs": [],
   "source": [
    "output_path <- sub(\".txt\", \"_alleleprocessed_a2.txt\", summary_stats_path)\n",
    "\n",
    "if (!grepl(\"\\\\.\", basename(output_path))) {\n",
    "    output_path <- paste0(output_path, \"_alleleprocessed_a2.txt\")\n",
    "}"
   ]
  },
  {
   "cell_type": "code",
   "execution_count": 20,
   "id": "1af6df69-73af-4f61-aefc-99cf4885d2af",
   "metadata": {},
   "outputs": [],
   "source": [
    "if (file.exists(output_path)) {\n",
    "    stop(paste(\"File already exists:\", output_path))\n",
    "}"
   ]
  },
  {
   "cell_type": "code",
   "execution_count": 21,
   "id": "f473e43d-5218-40cb-b4d8-ad57d14a95fb",
   "metadata": {},
   "outputs": [
    {
     "name": "stderr",
     "output_type": "stream",
     "text": [
      "Warning message in fread(summary_stats_path):\n",
      "“Detected 1 column names but the data has 16 columns (i.e. invalid file). Added 15 extra default column names at the end.”\n"
     ]
    },
    {
     "name": "stdout",
     "output_type": "stream",
     "text": [
      "[1] \"Setting Z\"\n"
     ]
    }
   ],
   "source": [
    "summary_stats <- fread(summary_stats_path)\n",
    "summary_stats <- clean_and_standardize_colnames(summary_stats)"
   ]
  },
  {
   "cell_type": "code",
   "execution_count": 22,
   "id": "355083ba-a61b-493f-a2a9-a4d56f832c6b",
   "metadata": {},
   "outputs": [],
   "source": [
    "chr <- 7"
   ]
  },
  {
   "cell_type": "code",
   "execution_count": 23,
   "id": "b18b7c2b-ff55-48dc-a0be-52a011b9b992",
   "metadata": {},
   "outputs": [],
   "source": [
    "ref <- fread(paste0(\"/expanse/lustre/projects/jhu152/naglemi/mwas/gwas_flipped/ref_EUR_allele-match-libd_chr\", chr, \".pvar\"),\n",
    "             select = c(\"#CHROM\", \"POS\", \"REF\", \"ALT\"),\n",
    "             col.names = c(\"CHR\", \"BP\", \"REF_EUR\", \"ALT_EUR\"))\n",
    "\n",
    "libd <- fread(paste0(\"/expanse/lustre/projects/jhu152/naglemi/mwas/gwas_flipped/libd_chr\", chr, \".pvar\"),\n",
    "              select = c(\"#CHROM\", \"POS\", \"REF\", \"ALT\"),\n",
    "              col.names = c(\"CHR\", \"BP\", \"REF_libd\", \"ALT_libd\"))\n",
    "#colnames(ref)[3:4] <- c(\"REF_EUR\", \"ALT_EUR\")\n",
    "# Merge with reference and LIBD data by CHR and BP\n",
    "merged_ref <- merge(summary_stats, ref, by = c(\"CHR\", \"BP\"), suffixes = c(\"\", \"_ref\"))\n",
    "merged_libd <- merge(merged_ref, libd, by = c(\"CHR\", \"BP\"), suffixes = c(\"\", \"_libd\"))"
   ]
  },
  {
   "cell_type": "code",
   "execution_count": 24,
   "id": "86b0715b-e236-4efa-8ee9-c308966b4a3d",
   "metadata": {},
   "outputs": [],
   "source": [
    "# Get indices where A1 doesn't match REF_EUR or A2 doesn't match ALT_EUR\n",
    "ref_mismatch_indices <- which(merged_ref$A1 != merged_ref$REF_EUR | merged_ref$A2 != merged_ref$ALT_EUR)\n",
    "\n",
    "# Similarly for libd\n",
    "libd_mismatch_indices <- which(merged_libd$A1 != merged_libd$REF_libd | merged_libd$A2 != merged_libd$ALT_libd)"
   ]
  },
  {
   "cell_type": "code",
   "execution_count": 25,
   "id": "62be0ebc-031e-4a4d-9499-46fe4da34517",
   "metadata": {},
   "outputs": [],
   "source": [
    "# Get indices where A1 doesn't match REF_EUR or A2 doesn't match ALT_EUR\n",
    "ref_mismatch_indices <- which(merged_ref$A1 != merged_ref$REF_EUR | merged_ref$A2 != merged_ref$ALT_EUR)\n",
    "\n",
    "# Similarly for libd\n",
    "libd_mismatch_indices <- which(merged_libd$A1 != merged_libd$REF_libd | merged_libd$A2 != merged_libd$ALT_libd)\n"
   ]
  },
  {
   "cell_type": "code",
   "execution_count": 26,
   "id": "37e15312-2c5b-4de6-9e0a-4e8b67e59fb0",
   "metadata": {},
   "outputs": [
    {
     "data": {
      "text/html": [
       "<style>\n",
       ".list-inline {list-style: none; margin:0; padding: 0}\n",
       ".list-inline>li {display: inline-block}\n",
       ".list-inline>li:not(:last-child)::after {content: \"\\00b7\"; padding: 0 .5ex}\n",
       "</style>\n",
       "<ol class=list-inline><li>345874</li><li>21</li></ol>\n"
      ],
      "text/latex": [
       "\\begin{enumerate*}\n",
       "\\item 345874\n",
       "\\item 21\n",
       "\\end{enumerate*}\n"
      ],
      "text/markdown": [
       "1. 345874\n",
       "2. 21\n",
       "\n",
       "\n"
      ],
      "text/plain": [
       "[1] 345874     21"
      ]
     },
     "metadata": {},
     "output_type": "display_data"
    }
   ],
   "source": [
    "dim(merged_libd)"
   ]
  },
  {
   "cell_type": "code",
   "execution_count": 27,
   "id": "a21742f2-a835-44c8-b1f3-144c2024ac85",
   "metadata": {},
   "outputs": [
    {
     "data": {
      "text/html": [
       "<table class=\"dataframe\">\n",
       "<caption>A data.table: 6 × 4</caption>\n",
       "<thead>\n",
       "\t<tr><th scope=col>CHR</th><th scope=col>BP</th><th scope=col>REF_EUR</th><th scope=col>ALT_EUR</th></tr>\n",
       "\t<tr><th scope=col>&lt;int&gt;</th><th scope=col>&lt;int&gt;</th><th scope=col>&lt;chr&gt;</th><th scope=col>&lt;chr&gt;</th></tr>\n",
       "</thead>\n",
       "<tbody>\n",
       "\t<tr><td>7</td><td>53998</td><td>C</td><td>T</td></tr>\n",
       "\t<tr><td>7</td><td>60728</td><td>G</td><td>A</td></tr>\n",
       "\t<tr><td>7</td><td>63494</td><td>A</td><td>G</td></tr>\n",
       "\t<tr><td>7</td><td>71938</td><td>A</td><td>C</td></tr>\n",
       "\t<tr><td>7</td><td>80500</td><td>T</td><td>C</td></tr>\n",
       "\t<tr><td>7</td><td>82240</td><td>C</td><td>T</td></tr>\n",
       "</tbody>\n",
       "</table>\n"
      ],
      "text/latex": [
       "A data.table: 6 × 4\n",
       "\\begin{tabular}{llll}\n",
       " CHR & BP & REF\\_EUR & ALT\\_EUR\\\\\n",
       " <int> & <int> & <chr> & <chr>\\\\\n",
       "\\hline\n",
       "\t 7 & 53998 & C & T\\\\\n",
       "\t 7 & 60728 & G & A\\\\\n",
       "\t 7 & 63494 & A & G\\\\\n",
       "\t 7 & 71938 & A & C\\\\\n",
       "\t 7 & 80500 & T & C\\\\\n",
       "\t 7 & 82240 & C & T\\\\\n",
       "\\end{tabular}\n"
      ],
      "text/markdown": [
       "\n",
       "A data.table: 6 × 4\n",
       "\n",
       "| CHR &lt;int&gt; | BP &lt;int&gt; | REF_EUR &lt;chr&gt; | ALT_EUR &lt;chr&gt; |\n",
       "|---|---|---|---|\n",
       "| 7 | 53998 | C | T |\n",
       "| 7 | 60728 | G | A |\n",
       "| 7 | 63494 | A | G |\n",
       "| 7 | 71938 | A | C |\n",
       "| 7 | 80500 | T | C |\n",
       "| 7 | 82240 | C | T |\n",
       "\n"
      ],
      "text/plain": [
       "  CHR BP    REF_EUR ALT_EUR\n",
       "1 7   53998 C       T      \n",
       "2 7   60728 G       A      \n",
       "3 7   63494 A       G      \n",
       "4 7   71938 A       C      \n",
       "5 7   80500 T       C      \n",
       "6 7   82240 C       T      "
      ]
     },
     "metadata": {},
     "output_type": "display_data"
    }
   ],
   "source": [
    "head(ref) # forward strand"
   ]
  },
  {
   "cell_type": "code",
   "execution_count": 28,
   "id": "85f163f7-a17a-476e-b8a1-e4f7e7d4dae2",
   "metadata": {},
   "outputs": [
    {
     "data": {
      "text/html": [
       "<table class=\"dataframe\">\n",
       "<caption>A data.table: 6 × 4</caption>\n",
       "<thead>\n",
       "\t<tr><th scope=col>CHR</th><th scope=col>BP</th><th scope=col>REF_libd</th><th scope=col>ALT_libd</th></tr>\n",
       "\t<tr><th scope=col>&lt;int&gt;</th><th scope=col>&lt;int&gt;</th><th scope=col>&lt;chr&gt;</th><th scope=col>&lt;chr&gt;</th></tr>\n",
       "</thead>\n",
       "<tbody>\n",
       "\t<tr><td>7</td><td>53998</td><td>C</td><td>T</td></tr>\n",
       "\t<tr><td>7</td><td>60728</td><td>G</td><td>A</td></tr>\n",
       "\t<tr><td>7</td><td>63494</td><td>A</td><td>G</td></tr>\n",
       "\t<tr><td>7</td><td>71938</td><td>A</td><td>C</td></tr>\n",
       "\t<tr><td>7</td><td>80500</td><td>T</td><td>C</td></tr>\n",
       "\t<tr><td>7</td><td>82240</td><td>C</td><td>T</td></tr>\n",
       "</tbody>\n",
       "</table>\n"
      ],
      "text/latex": [
       "A data.table: 6 × 4\n",
       "\\begin{tabular}{llll}\n",
       " CHR & BP & REF\\_libd & ALT\\_libd\\\\\n",
       " <int> & <int> & <chr> & <chr>\\\\\n",
       "\\hline\n",
       "\t 7 & 53998 & C & T\\\\\n",
       "\t 7 & 60728 & G & A\\\\\n",
       "\t 7 & 63494 & A & G\\\\\n",
       "\t 7 & 71938 & A & C\\\\\n",
       "\t 7 & 80500 & T & C\\\\\n",
       "\t 7 & 82240 & C & T\\\\\n",
       "\\end{tabular}\n"
      ],
      "text/markdown": [
       "\n",
       "A data.table: 6 × 4\n",
       "\n",
       "| CHR &lt;int&gt; | BP &lt;int&gt; | REF_libd &lt;chr&gt; | ALT_libd &lt;chr&gt; |\n",
       "|---|---|---|---|\n",
       "| 7 | 53998 | C | T |\n",
       "| 7 | 60728 | G | A |\n",
       "| 7 | 63494 | A | G |\n",
       "| 7 | 71938 | A | C |\n",
       "| 7 | 80500 | T | C |\n",
       "| 7 | 82240 | C | T |\n",
       "\n"
      ],
      "text/plain": [
       "  CHR BP    REF_libd ALT_libd\n",
       "1 7   53998 C        T       \n",
       "2 7   60728 G        A       \n",
       "3 7   63494 A        G       \n",
       "4 7   71938 A        C       \n",
       "5 7   80500 T        C       \n",
       "6 7   82240 C        T       "
      ]
     },
     "metadata": {},
     "output_type": "display_data"
    }
   ],
   "source": [
    "head(libd)"
   ]
  },
  {
   "cell_type": "code",
   "execution_count": 29,
   "id": "6cf699c4-0731-4d04-961f-9b6597e5f071",
   "metadata": {},
   "outputs": [
    {
     "data": {
      "text/html": [
       "<table class=\"dataframe\">\n",
       "<caption>A data.table: 1 × 4</caption>\n",
       "<thead>\n",
       "\t<tr><th scope=col>CHR</th><th scope=col>BP</th><th scope=col>REF_EUR</th><th scope=col>ALT_EUR</th></tr>\n",
       "\t<tr><th scope=col>&lt;int&gt;</th><th scope=col>&lt;int&gt;</th><th scope=col>&lt;chr&gt;</th><th scope=col>&lt;chr&gt;</th></tr>\n",
       "</thead>\n",
       "<tbody>\n",
       "\t<tr><td>7</td><td>1910701</td><td>G</td><td>A</td></tr>\n",
       "</tbody>\n",
       "</table>\n"
      ],
      "text/latex": [
       "A data.table: 1 × 4\n",
       "\\begin{tabular}{llll}\n",
       " CHR & BP & REF\\_EUR & ALT\\_EUR\\\\\n",
       " <int> & <int> & <chr> & <chr>\\\\\n",
       "\\hline\n",
       "\t 7 & 1910701 & G & A\\\\\n",
       "\\end{tabular}\n"
      ],
      "text/markdown": [
       "\n",
       "A data.table: 1 × 4\n",
       "\n",
       "| CHR &lt;int&gt; | BP &lt;int&gt; | REF_EUR &lt;chr&gt; | ALT_EUR &lt;chr&gt; |\n",
       "|---|---|---|---|\n",
       "| 7 | 1910701 | G | A |\n",
       "\n"
      ],
      "text/plain": [
       "  CHR BP      REF_EUR ALT_EUR\n",
       "1 7   1910701 G       A      "
      ]
     },
     "metadata": {},
     "output_type": "display_data"
    }
   ],
   "source": [
    "ref[which(ref$BP == 1910701), ]"
   ]
  },
  {
   "cell_type": "code",
   "execution_count": 30,
   "id": "7f99863c-f6dd-44e1-9821-028b182b1cf6",
   "metadata": {},
   "outputs": [
    {
     "data": {
      "text/html": [
       "<table class=\"dataframe\">\n",
       "<caption>A data.table: 1 × 4</caption>\n",
       "<thead>\n",
       "\t<tr><th scope=col>CHR</th><th scope=col>BP</th><th scope=col>REF_libd</th><th scope=col>ALT_libd</th></tr>\n",
       "\t<tr><th scope=col>&lt;int&gt;</th><th scope=col>&lt;int&gt;</th><th scope=col>&lt;chr&gt;</th><th scope=col>&lt;chr&gt;</th></tr>\n",
       "</thead>\n",
       "<tbody>\n",
       "\t<tr><td>7</td><td>1910701</td><td>G</td><td>A</td></tr>\n",
       "</tbody>\n",
       "</table>\n"
      ],
      "text/latex": [
       "A data.table: 1 × 4\n",
       "\\begin{tabular}{llll}\n",
       " CHR & BP & REF\\_libd & ALT\\_libd\\\\\n",
       " <int> & <int> & <chr> & <chr>\\\\\n",
       "\\hline\n",
       "\t 7 & 1910701 & G & A\\\\\n",
       "\\end{tabular}\n"
      ],
      "text/markdown": [
       "\n",
       "A data.table: 1 × 4\n",
       "\n",
       "| CHR &lt;int&gt; | BP &lt;int&gt; | REF_libd &lt;chr&gt; | ALT_libd &lt;chr&gt; |\n",
       "|---|---|---|---|\n",
       "| 7 | 1910701 | G | A |\n",
       "\n"
      ],
      "text/plain": [
       "  CHR BP      REF_libd ALT_libd\n",
       "1 7   1910701 G        A       "
      ]
     },
     "metadata": {},
     "output_type": "display_data"
    }
   ],
   "source": [
    "libd[which(libd$BP == 1910701), ]"
   ]
  },
  {
   "cell_type": "markdown",
   "id": "d0dfdd0e-a5f5-4671-b5d8-f8ccd1e2d818",
   "metadata": {},
   "source": [
    "For how many loci is there a mismatch between summary stats and ref_libd?\n",
    "\"I would suggest you change the sign of GWAS summary results to match alleles in the LIBD dataset\""
   ]
  },
  {
   "cell_type": "code",
   "execution_count": 31,
   "id": "f46a1027-1ba0-41f1-a895-ffd35d4fe4d0",
   "metadata": {},
   "outputs": [
    {
     "data": {
      "text/html": [
       "774"
      ],
      "text/latex": [
       "774"
      ],
      "text/markdown": [
       "774"
      ],
      "text/plain": [
       "[1] 774"
      ]
     },
     "metadata": {},
     "output_type": "display_data"
    }
   ],
   "source": [
    "length(libd_mismatch_indices)"
   ]
  },
  {
   "cell_type": "markdown",
   "id": "a7fe703e-aa86-4a28-8075-55a88999114a",
   "metadata": {},
   "source": [
    "For how many alleles is there a mismatch between summary stats and ref_EUR?"
   ]
  },
  {
   "cell_type": "code",
   "execution_count": 32,
   "id": "d41ee051-b04a-4c5d-bab3-11b476b82c91",
   "metadata": {},
   "outputs": [
    {
     "data": {
      "text/html": [
       "774"
      ],
      "text/latex": [
       "774"
      ],
      "text/markdown": [
       "774"
      ],
      "text/plain": [
       "[1] 774"
      ]
     },
     "metadata": {},
     "output_type": "display_data"
    }
   ],
   "source": [
    "length(ref_mismatch_indices)"
   ]
  },
  {
   "cell_type": "markdown",
   "id": "d8332118-cacc-4e90-b868-cdc3c82343ab",
   "metadata": {},
   "source": [
    "An issue we have is that if we only change sign of GWAS summary statistics with respect to alleles in LIBD dataset, we still have cases where both mismatch with ref_EUR, and flipped alleles in ref_EUR will change the z.cor used to compute p-values."
   ]
  },
  {
   "cell_type": "markdown",
   "id": "405b3345-e2ba-4a04-9904-c593386290e7",
   "metadata": {},
   "source": [
    "For how many loci do we have ref_libd and ref_EUR both disagree with summary stats?"
   ]
  },
  {
   "cell_type": "code",
   "execution_count": 33,
   "id": "f7f3cbe9-463f-417c-8464-6b8f884737a7",
   "metadata": {},
   "outputs": [],
   "source": [
    "ss_mismatch_both <- intersect(ref_mismatch_indices, libd_mismatch_indices)"
   ]
  },
  {
   "cell_type": "code",
   "execution_count": 34,
   "id": "9fec9f2d-6cc5-476e-ba7f-932a31340725",
   "metadata": {},
   "outputs": [
    {
     "data": {
      "text/html": [
       "774"
      ],
      "text/latex": [
       "774"
      ],
      "text/markdown": [
       "774"
      ],
      "text/plain": [
       "[1] 774"
      ]
     },
     "metadata": {},
     "output_type": "display_data"
    }
   ],
   "source": [
    "length(ss_mismatch_both)"
   ]
  },
  {
   "cell_type": "code",
   "execution_count": 35,
   "id": "436b718b-546a-4a08-ab4f-1836b17c3739",
   "metadata": {},
   "outputs": [],
   "source": [
    "library(data.table)\n",
    "\n",
    "# Assuming you have already loaded summary_stats, ref, and libd\n",
    "\n",
    "# Merge summary stats with ref by CHR and BP\n",
    "merged_data <- merge(summary_stats, ref, by = c(\"CHR\", \"BP\"), suffixes = c(\"\", \"_ref\"))\n",
    "\n",
    "# Merge the result with libd by CHR and BP\n",
    "merged_data <- merge(merged_data, libd, by = c(\"CHR\", \"BP\"), suffixes = c(\"\", \"_libd\"))\n",
    "\n",
    "# Now merged_data contains summary stats, ref, and libd alleles in one data.table\n"
   ]
  },
  {
   "cell_type": "code",
   "execution_count": 36,
   "id": "cec0607f-453c-43a6-893d-a326ec1e3ad3",
   "metadata": {},
   "outputs": [],
   "source": [
    "ref_mismatch_between_ref_libd <- which(merged_data$REF_EUR != merged_data$REF_libd)"
   ]
  },
  {
   "cell_type": "code",
   "execution_count": 37,
   "id": "53e51261-a896-4a85-af50-c17958004bfc",
   "metadata": {},
   "outputs": [
    {
     "data": {
      "text/html": [
       "0"
      ],
      "text/latex": [
       "0"
      ],
      "text/markdown": [
       "0"
      ],
      "text/plain": [
       "[1] 0"
      ]
     },
     "metadata": {},
     "output_type": "display_data"
    }
   ],
   "source": [
    "length(ref_mismatch_between_ref_libd)"
   ]
  },
  {
   "cell_type": "code",
   "execution_count": 38,
   "id": "bb50142c-bcab-41eb-8ade-74d7252d724f",
   "metadata": {},
   "outputs": [
    {
     "data": {
      "text/html": [
       "0"
      ],
      "text/latex": [
       "0"
      ],
      "text/markdown": [
       "0"
      ],
      "text/plain": [
       "[1] 0"
      ]
     },
     "metadata": {},
     "output_type": "display_data"
    }
   ],
   "source": [
    "length(intersect(ref_mismatch_between_ref_libd, ss_mismatch_both))"
   ]
  },
  {
   "cell_type": "code",
   "execution_count": 39,
   "id": "06bb6d3e-9a54-45e4-a436-f401b5ad2ecd",
   "metadata": {},
   "outputs": [
    {
     "data": {
      "text/html": [
       "<style>\n",
       ".list-inline {list-style: none; margin:0; padding: 0}\n",
       ".list-inline>li {display: inline-block}\n",
       ".list-inline>li:not(:last-child)::after {content: \"\\00b7\"; padding: 0 .5ex}\n",
       "</style>\n",
       "<ol class=list-inline><li>345874</li><li>21</li></ol>\n"
      ],
      "text/latex": [
       "\\begin{enumerate*}\n",
       "\\item 345874\n",
       "\\item 21\n",
       "\\end{enumerate*}\n"
      ],
      "text/markdown": [
       "1. 345874\n",
       "2. 21\n",
       "\n",
       "\n"
      ],
      "text/plain": [
       "[1] 345874     21"
      ]
     },
     "metadata": {},
     "output_type": "display_data"
    }
   ],
   "source": [
    "dim(merged_data)"
   ]
  },
  {
   "cell_type": "code",
   "execution_count": 40,
   "id": "197c2f5c-d9c8-4989-91e2-b77d63283b5b",
   "metadata": {},
   "outputs": [
    {
     "data": {
      "text/html": [
       "<table class=\"dataframe\">\n",
       "<caption>A data.table: 6 × 21</caption>\n",
       "<thead>\n",
       "\t<tr><th scope=col>CHR</th><th scope=col>BP</th><th scope=col>SNP</th><th scope=col>A1</th><th scope=col>A2</th><th scope=col>logOR</th><th scope=col>SE</th><th scope=col>PVAL</th><th scope=col>NGT</th><th scope=col>FCAS</th><th scope=col>⋯</th><th scope=col>IMPINFO</th><th scope=col>NEFFDIV2</th><th scope=col>NCAS</th><th scope=col>NCON</th><th scope=col>DIRE</th><th scope=col>Z</th><th scope=col>REF_EUR</th><th scope=col>ALT_EUR</th><th scope=col>REF_libd</th><th scope=col>ALT_libd</th></tr>\n",
       "\t<tr><th scope=col>&lt;int&gt;</th><th scope=col>&lt;int&gt;</th><th scope=col>&lt;chr&gt;</th><th scope=col>&lt;chr&gt;</th><th scope=col>&lt;chr&gt;</th><th scope=col>&lt;dbl&gt;</th><th scope=col>&lt;dbl&gt;</th><th scope=col>&lt;dbl&gt;</th><th scope=col>&lt;int&gt;</th><th scope=col>&lt;dbl&gt;</th><th scope=col>⋯</th><th scope=col>&lt;dbl&gt;</th><th scope=col>&lt;dbl&gt;</th><th scope=col>&lt;int&gt;</th><th scope=col>&lt;int&gt;</th><th scope=col>&lt;chr&gt;</th><th scope=col>&lt;dbl&gt;</th><th scope=col>&lt;chr&gt;</th><th scope=col>&lt;chr&gt;</th><th scope=col>&lt;chr&gt;</th><th scope=col>&lt;chr&gt;</th></tr>\n",
       "</thead>\n",
       "<tbody>\n",
       "\t<tr><td>7</td><td>53998</td><td>rs7806592 </td><td>C</td><td>T</td><td> 0.01920441</td><td>0.0124</td><td>0.12170</td><td>24</td><td>0.202</td><td>⋯</td><td>0.885</td><td>50981.48</td><td>41917</td><td>371549</td><td>----+-----+--++-+--+--++++--++-++++--++--+-++---+--+-+--+</td><td> 1.5487427</td><td>C</td><td>T</td><td>C</td><td>T</td></tr>\n",
       "\t<tr><td>7</td><td>60728</td><td>rs4916941 </td><td>G</td><td>A</td><td>-0.04609630</td><td>0.0304</td><td>0.13010</td><td>19</td><td>0.970</td><td>⋯</td><td>0.857</td><td>49458.29</td><td>40581</td><td>368564</td><td>+?-++-?-++-+++--+++-----+----++?+-+-+-?+-++-+++--+-+??+??</td><td>-1.5163255</td><td>G</td><td>A</td><td>G</td><td>A</td></tr>\n",
       "\t<tr><td>7</td><td>63494</td><td>rs6964622 </td><td>A</td><td>G</td><td> 0.01240277</td><td>0.0136</td><td>0.36360</td><td>38</td><td>0.181</td><td>⋯</td><td>0.871</td><td>43445.24</td><td>38084</td><td>103625</td><td>++++-+++++-++--+-++-++---+++--+----++-+++-+--++??+?-+-+++</td><td> 0.9119681</td><td>A</td><td>G</td><td>A</td><td>G</td></tr>\n",
       "\t<tr><td>7</td><td>71938</td><td>rs13437666</td><td>A</td><td>C</td><td>-0.04880166</td><td>0.0304</td><td>0.10830</td><td> 1</td><td>0.969</td><td>⋯</td><td>0.845</td><td>49458.29</td><td>40581</td><td>368564</td><td>-?---+?+--+---++---+++++--+++--?-+-+-+?-++-+---++-+-??-??</td><td>-1.6053179</td><td>A</td><td>C</td><td>A</td><td>C</td></tr>\n",
       "\t<tr><td>7</td><td>80500</td><td>rs12533719</td><td>T</td><td>C</td><td>-0.01620052</td><td>0.0111</td><td>0.14330</td><td> 1</td><td>0.743</td><td>⋯</td><td>0.938</td><td>50981.48</td><td>41917</td><td>371549</td><td>+----+-++--+---+---+-+-+--+++-++----+++-++-+-+-++--+-++--</td><td>-1.4595065</td><td>T</td><td>C</td><td>T</td><td>C</td></tr>\n",
       "\t<tr><td>7</td><td>82240</td><td>rs13236314</td><td>C</td><td>T</td><td> 0.03040311</td><td>0.0126</td><td>0.01623</td><td> 1</td><td>0.822</td><td>⋯</td><td>0.927</td><td>50981.48</td><td>41917</td><td>371549</td><td>--------+-------+--++----++++-+------+-++++-----+----+++-</td><td> 2.4129449</td><td>C</td><td>T</td><td>C</td><td>T</td></tr>\n",
       "</tbody>\n",
       "</table>\n"
      ],
      "text/latex": [
       "A data.table: 6 × 21\n",
       "\\begin{tabular}{lllllllllllllllllllll}\n",
       " CHR & BP & SNP & A1 & A2 & logOR & SE & PVAL & NGT & FCAS & ⋯ & IMPINFO & NEFFDIV2 & NCAS & NCON & DIRE & Z & REF\\_EUR & ALT\\_EUR & REF\\_libd & ALT\\_libd\\\\\n",
       " <int> & <int> & <chr> & <chr> & <chr> & <dbl> & <dbl> & <dbl> & <int> & <dbl> & ⋯ & <dbl> & <dbl> & <int> & <int> & <chr> & <dbl> & <chr> & <chr> & <chr> & <chr>\\\\\n",
       "\\hline\n",
       "\t 7 & 53998 & rs7806592  & C & T &  0.01920441 & 0.0124 & 0.12170 & 24 & 0.202 & ⋯ & 0.885 & 50981.48 & 41917 & 371549 & ----+-----+--++-+--+--++++--++-++++--++--+-++---+--+-+--+ &  1.5487427 & C & T & C & T\\\\\n",
       "\t 7 & 60728 & rs4916941  & G & A & -0.04609630 & 0.0304 & 0.13010 & 19 & 0.970 & ⋯ & 0.857 & 49458.29 & 40581 & 368564 & +?-++-?-++-+++--+++-----+----++?+-+-+-?+-++-+++--+-+??+?? & -1.5163255 & G & A & G & A\\\\\n",
       "\t 7 & 63494 & rs6964622  & A & G &  0.01240277 & 0.0136 & 0.36360 & 38 & 0.181 & ⋯ & 0.871 & 43445.24 & 38084 & 103625 & ++++-+++++-++--+-++-++---+++--+----++-+++-+--++??+?-+-+++ &  0.9119681 & A & G & A & G\\\\\n",
       "\t 7 & 71938 & rs13437666 & A & C & -0.04880166 & 0.0304 & 0.10830 &  1 & 0.969 & ⋯ & 0.845 & 49458.29 & 40581 & 368564 & -?---+?+--+---++---+++++--+++--?-+-+-+?-++-+---++-+-??-?? & -1.6053179 & A & C & A & C\\\\\n",
       "\t 7 & 80500 & rs12533719 & T & C & -0.01620052 & 0.0111 & 0.14330 &  1 & 0.743 & ⋯ & 0.938 & 50981.48 & 41917 & 371549 & +----+-++--+---+---+-+-+--+++-++----+++-++-+-+-++--+-++-- & -1.4595065 & T & C & T & C\\\\\n",
       "\t 7 & 82240 & rs13236314 & C & T &  0.03040311 & 0.0126 & 0.01623 &  1 & 0.822 & ⋯ & 0.927 & 50981.48 & 41917 & 371549 & --------+-------+--++----++++-+------+-++++-----+----+++- &  2.4129449 & C & T & C & T\\\\\n",
       "\\end{tabular}\n"
      ],
      "text/markdown": [
       "\n",
       "A data.table: 6 × 21\n",
       "\n",
       "| CHR &lt;int&gt; | BP &lt;int&gt; | SNP &lt;chr&gt; | A1 &lt;chr&gt; | A2 &lt;chr&gt; | logOR &lt;dbl&gt; | SE &lt;dbl&gt; | PVAL &lt;dbl&gt; | NGT &lt;int&gt; | FCAS &lt;dbl&gt; | ⋯ ⋯ | IMPINFO &lt;dbl&gt; | NEFFDIV2 &lt;dbl&gt; | NCAS &lt;int&gt; | NCON &lt;int&gt; | DIRE &lt;chr&gt; | Z &lt;dbl&gt; | REF_EUR &lt;chr&gt; | ALT_EUR &lt;chr&gt; | REF_libd &lt;chr&gt; | ALT_libd &lt;chr&gt; |\n",
       "|---|---|---|---|---|---|---|---|---|---|---|---|---|---|---|---|---|---|---|---|---|\n",
       "| 7 | 53998 | rs7806592  | C | T |  0.01920441 | 0.0124 | 0.12170 | 24 | 0.202 | ⋯ | 0.885 | 50981.48 | 41917 | 371549 | ----+-----+--++-+--+--++++--++-++++--++--+-++---+--+-+--+ |  1.5487427 | C | T | C | T |\n",
       "| 7 | 60728 | rs4916941  | G | A | -0.04609630 | 0.0304 | 0.13010 | 19 | 0.970 | ⋯ | 0.857 | 49458.29 | 40581 | 368564 | +?-++-?-++-+++--+++-----+----++?+-+-+-?+-++-+++--+-+??+?? | -1.5163255 | G | A | G | A |\n",
       "| 7 | 63494 | rs6964622  | A | G |  0.01240277 | 0.0136 | 0.36360 | 38 | 0.181 | ⋯ | 0.871 | 43445.24 | 38084 | 103625 | ++++-+++++-++--+-++-++---+++--+----++-+++-+--++??+?-+-+++ |  0.9119681 | A | G | A | G |\n",
       "| 7 | 71938 | rs13437666 | A | C | -0.04880166 | 0.0304 | 0.10830 |  1 | 0.969 | ⋯ | 0.845 | 49458.29 | 40581 | 368564 | -?---+?+--+---++---+++++--+++--?-+-+-+?-++-+---++-+-??-?? | -1.6053179 | A | C | A | C |\n",
       "| 7 | 80500 | rs12533719 | T | C | -0.01620052 | 0.0111 | 0.14330 |  1 | 0.743 | ⋯ | 0.938 | 50981.48 | 41917 | 371549 | +----+-++--+---+---+-+-+--+++-++----+++-++-+-+-++--+-++-- | -1.4595065 | T | C | T | C |\n",
       "| 7 | 82240 | rs13236314 | C | T |  0.03040311 | 0.0126 | 0.01623 |  1 | 0.822 | ⋯ | 0.927 | 50981.48 | 41917 | 371549 | --------+-------+--++----++++-+------+-++++-----+----+++- |  2.4129449 | C | T | C | T |\n",
       "\n"
      ],
      "text/plain": [
       "  CHR BP    SNP        A1 A2 logOR       SE     PVAL    NGT FCAS  ⋯ IMPINFO\n",
       "1 7   53998 rs7806592  C  T   0.01920441 0.0124 0.12170 24  0.202 ⋯ 0.885  \n",
       "2 7   60728 rs4916941  G  A  -0.04609630 0.0304 0.13010 19  0.970 ⋯ 0.857  \n",
       "3 7   63494 rs6964622  A  G   0.01240277 0.0136 0.36360 38  0.181 ⋯ 0.871  \n",
       "4 7   71938 rs13437666 A  C  -0.04880166 0.0304 0.10830  1  0.969 ⋯ 0.845  \n",
       "5 7   80500 rs12533719 T  C  -0.01620052 0.0111 0.14330  1  0.743 ⋯ 0.938  \n",
       "6 7   82240 rs13236314 C  T   0.03040311 0.0126 0.01623  1  0.822 ⋯ 0.927  \n",
       "  NEFFDIV2 NCAS  NCON  \n",
       "1 50981.48 41917 371549\n",
       "2 49458.29 40581 368564\n",
       "3 43445.24 38084 103625\n",
       "4 49458.29 40581 368564\n",
       "5 50981.48 41917 371549\n",
       "6 50981.48 41917 371549\n",
       "  DIRE                                                      Z          REF_EUR\n",
       "1 ----+-----+--++-+--+--++++--++-++++--++--+-++---+--+-+--+  1.5487427 C      \n",
       "2 +?-++-?-++-+++--+++-----+----++?+-+-+-?+-++-+++--+-+??+?? -1.5163255 G      \n",
       "3 ++++-+++++-++--+-++-++---+++--+----++-+++-+--++??+?-+-+++  0.9119681 A      \n",
       "4 -?---+?+--+---++---+++++--+++--?-+-+-+?-++-+---++-+-??-?? -1.6053179 A      \n",
       "5 +----+-++--+---+---+-+-+--+++-++----+++-++-+-+-++--+-++-- -1.4595065 T      \n",
       "6 --------+-------+--++----++++-+------+-++++-----+----+++-  2.4129449 C      \n",
       "  ALT_EUR REF_libd ALT_libd\n",
       "1 T       C        T       \n",
       "2 A       G        A       \n",
       "3 G       A        G       \n",
       "4 C       A        C       \n",
       "5 C       T        C       \n",
       "6 T       C        T       "
      ]
     },
     "metadata": {},
     "output_type": "display_data"
    }
   ],
   "source": [
    "# Logical condition where alleles match with both ref and libd\n",
    "match_both <- (merged_data$A1 == merged_data$REF_EUR & merged_data$A2 == merged_data$ALT_EUR) &\n",
    "              (merged_data$A1 == merged_data$REF_libd & merged_data$A2 == merged_data$ALT_libd)\n",
    "\n",
    "# View rows where none mismatch\n",
    "head(merged_data[match_both, ])\n"
   ]
  },
  {
   "cell_type": "code",
   "execution_count": 41,
   "id": "fcc66185-9a26-4ac7-8071-56698b8979f6",
   "metadata": {},
   "outputs": [
    {
     "data": {
      "text/html": [
       "<table class=\"dataframe\">\n",
       "<caption>A data.table: 6 × 21</caption>\n",
       "<thead>\n",
       "\t<tr><th scope=col>CHR</th><th scope=col>BP</th><th scope=col>SNP</th><th scope=col>A1</th><th scope=col>A2</th><th scope=col>logOR</th><th scope=col>SE</th><th scope=col>PVAL</th><th scope=col>NGT</th><th scope=col>FCAS</th><th scope=col>⋯</th><th scope=col>IMPINFO</th><th scope=col>NEFFDIV2</th><th scope=col>NCAS</th><th scope=col>NCON</th><th scope=col>DIRE</th><th scope=col>Z</th><th scope=col>REF_EUR</th><th scope=col>ALT_EUR</th><th scope=col>REF_libd</th><th scope=col>ALT_libd</th></tr>\n",
       "\t<tr><th scope=col>&lt;int&gt;</th><th scope=col>&lt;int&gt;</th><th scope=col>&lt;chr&gt;</th><th scope=col>&lt;chr&gt;</th><th scope=col>&lt;chr&gt;</th><th scope=col>&lt;dbl&gt;</th><th scope=col>&lt;dbl&gt;</th><th scope=col>&lt;dbl&gt;</th><th scope=col>&lt;int&gt;</th><th scope=col>&lt;dbl&gt;</th><th scope=col>⋯</th><th scope=col>&lt;dbl&gt;</th><th scope=col>&lt;dbl&gt;</th><th scope=col>&lt;int&gt;</th><th scope=col>&lt;int&gt;</th><th scope=col>&lt;chr&gt;</th><th scope=col>&lt;dbl&gt;</th><th scope=col>&lt;chr&gt;</th><th scope=col>&lt;chr&gt;</th><th scope=col>&lt;chr&gt;</th><th scope=col>&lt;chr&gt;</th></tr>\n",
       "</thead>\n",
       "<tbody>\n",
       "\t<tr><td>7</td><td>53998</td><td>rs7806592 </td><td>C</td><td>T</td><td> 0.01920441</td><td>0.0124</td><td>0.12170</td><td>24</td><td>0.202</td><td>⋯</td><td>0.885</td><td>50981.48</td><td>41917</td><td>371549</td><td>----+-----+--++-+--+--++++--++-++++--++--+-++---+--+-+--+</td><td> 1.5487427</td><td>C</td><td>T</td><td>C</td><td>T</td></tr>\n",
       "\t<tr><td>7</td><td>60728</td><td>rs4916941 </td><td>G</td><td>A</td><td>-0.04609630</td><td>0.0304</td><td>0.13010</td><td>19</td><td>0.970</td><td>⋯</td><td>0.857</td><td>49458.29</td><td>40581</td><td>368564</td><td>+?-++-?-++-+++--+++-----+----++?+-+-+-?+-++-+++--+-+??+??</td><td>-1.5163255</td><td>G</td><td>A</td><td>G</td><td>A</td></tr>\n",
       "\t<tr><td>7</td><td>63494</td><td>rs6964622 </td><td>A</td><td>G</td><td> 0.01240277</td><td>0.0136</td><td>0.36360</td><td>38</td><td>0.181</td><td>⋯</td><td>0.871</td><td>43445.24</td><td>38084</td><td>103625</td><td>++++-+++++-++--+-++-++---+++--+----++-+++-+--++??+?-+-+++</td><td> 0.9119681</td><td>A</td><td>G</td><td>A</td><td>G</td></tr>\n",
       "\t<tr><td>7</td><td>71938</td><td>rs13437666</td><td>A</td><td>C</td><td>-0.04880166</td><td>0.0304</td><td>0.10830</td><td> 1</td><td>0.969</td><td>⋯</td><td>0.845</td><td>49458.29</td><td>40581</td><td>368564</td><td>-?---+?+--+---++---+++++--+++--?-+-+-+?-++-+---++-+-??-??</td><td>-1.6053179</td><td>A</td><td>C</td><td>A</td><td>C</td></tr>\n",
       "\t<tr><td>7</td><td>80500</td><td>rs12533719</td><td>T</td><td>C</td><td>-0.01620052</td><td>0.0111</td><td>0.14330</td><td> 1</td><td>0.743</td><td>⋯</td><td>0.938</td><td>50981.48</td><td>41917</td><td>371549</td><td>+----+-++--+---+---+-+-+--+++-++----+++-++-+-+-++--+-++--</td><td>-1.4595065</td><td>T</td><td>C</td><td>T</td><td>C</td></tr>\n",
       "\t<tr><td>7</td><td>82240</td><td>rs13236314</td><td>C</td><td>T</td><td> 0.03040311</td><td>0.0126</td><td>0.01623</td><td> 1</td><td>0.822</td><td>⋯</td><td>0.927</td><td>50981.48</td><td>41917</td><td>371549</td><td>--------+-------+--++----++++-+------+-++++-----+----+++-</td><td> 2.4129449</td><td>C</td><td>T</td><td>C</td><td>T</td></tr>\n",
       "</tbody>\n",
       "</table>\n"
      ],
      "text/latex": [
       "A data.table: 6 × 21\n",
       "\\begin{tabular}{lllllllllllllllllllll}\n",
       " CHR & BP & SNP & A1 & A2 & logOR & SE & PVAL & NGT & FCAS & ⋯ & IMPINFO & NEFFDIV2 & NCAS & NCON & DIRE & Z & REF\\_EUR & ALT\\_EUR & REF\\_libd & ALT\\_libd\\\\\n",
       " <int> & <int> & <chr> & <chr> & <chr> & <dbl> & <dbl> & <dbl> & <int> & <dbl> & ⋯ & <dbl> & <dbl> & <int> & <int> & <chr> & <dbl> & <chr> & <chr> & <chr> & <chr>\\\\\n",
       "\\hline\n",
       "\t 7 & 53998 & rs7806592  & C & T &  0.01920441 & 0.0124 & 0.12170 & 24 & 0.202 & ⋯ & 0.885 & 50981.48 & 41917 & 371549 & ----+-----+--++-+--+--++++--++-++++--++--+-++---+--+-+--+ &  1.5487427 & C & T & C & T\\\\\n",
       "\t 7 & 60728 & rs4916941  & G & A & -0.04609630 & 0.0304 & 0.13010 & 19 & 0.970 & ⋯ & 0.857 & 49458.29 & 40581 & 368564 & +?-++-?-++-+++--+++-----+----++?+-+-+-?+-++-+++--+-+??+?? & -1.5163255 & G & A & G & A\\\\\n",
       "\t 7 & 63494 & rs6964622  & A & G &  0.01240277 & 0.0136 & 0.36360 & 38 & 0.181 & ⋯ & 0.871 & 43445.24 & 38084 & 103625 & ++++-+++++-++--+-++-++---+++--+----++-+++-+--++??+?-+-+++ &  0.9119681 & A & G & A & G\\\\\n",
       "\t 7 & 71938 & rs13437666 & A & C & -0.04880166 & 0.0304 & 0.10830 &  1 & 0.969 & ⋯ & 0.845 & 49458.29 & 40581 & 368564 & -?---+?+--+---++---+++++--+++--?-+-+-+?-++-+---++-+-??-?? & -1.6053179 & A & C & A & C\\\\\n",
       "\t 7 & 80500 & rs12533719 & T & C & -0.01620052 & 0.0111 & 0.14330 &  1 & 0.743 & ⋯ & 0.938 & 50981.48 & 41917 & 371549 & +----+-++--+---+---+-+-+--+++-++----+++-++-+-+-++--+-++-- & -1.4595065 & T & C & T & C\\\\\n",
       "\t 7 & 82240 & rs13236314 & C & T &  0.03040311 & 0.0126 & 0.01623 &  1 & 0.822 & ⋯ & 0.927 & 50981.48 & 41917 & 371549 & --------+-------+--++----++++-+------+-++++-----+----+++- &  2.4129449 & C & T & C & T\\\\\n",
       "\\end{tabular}\n"
      ],
      "text/markdown": [
       "\n",
       "A data.table: 6 × 21\n",
       "\n",
       "| CHR &lt;int&gt; | BP &lt;int&gt; | SNP &lt;chr&gt; | A1 &lt;chr&gt; | A2 &lt;chr&gt; | logOR &lt;dbl&gt; | SE &lt;dbl&gt; | PVAL &lt;dbl&gt; | NGT &lt;int&gt; | FCAS &lt;dbl&gt; | ⋯ ⋯ | IMPINFO &lt;dbl&gt; | NEFFDIV2 &lt;dbl&gt; | NCAS &lt;int&gt; | NCON &lt;int&gt; | DIRE &lt;chr&gt; | Z &lt;dbl&gt; | REF_EUR &lt;chr&gt; | ALT_EUR &lt;chr&gt; | REF_libd &lt;chr&gt; | ALT_libd &lt;chr&gt; |\n",
       "|---|---|---|---|---|---|---|---|---|---|---|---|---|---|---|---|---|---|---|---|---|\n",
       "| 7 | 53998 | rs7806592  | C | T |  0.01920441 | 0.0124 | 0.12170 | 24 | 0.202 | ⋯ | 0.885 | 50981.48 | 41917 | 371549 | ----+-----+--++-+--+--++++--++-++++--++--+-++---+--+-+--+ |  1.5487427 | C | T | C | T |\n",
       "| 7 | 60728 | rs4916941  | G | A | -0.04609630 | 0.0304 | 0.13010 | 19 | 0.970 | ⋯ | 0.857 | 49458.29 | 40581 | 368564 | +?-++-?-++-+++--+++-----+----++?+-+-+-?+-++-+++--+-+??+?? | -1.5163255 | G | A | G | A |\n",
       "| 7 | 63494 | rs6964622  | A | G |  0.01240277 | 0.0136 | 0.36360 | 38 | 0.181 | ⋯ | 0.871 | 43445.24 | 38084 | 103625 | ++++-+++++-++--+-++-++---+++--+----++-+++-+--++??+?-+-+++ |  0.9119681 | A | G | A | G |\n",
       "| 7 | 71938 | rs13437666 | A | C | -0.04880166 | 0.0304 | 0.10830 |  1 | 0.969 | ⋯ | 0.845 | 49458.29 | 40581 | 368564 | -?---+?+--+---++---+++++--+++--?-+-+-+?-++-+---++-+-??-?? | -1.6053179 | A | C | A | C |\n",
       "| 7 | 80500 | rs12533719 | T | C | -0.01620052 | 0.0111 | 0.14330 |  1 | 0.743 | ⋯ | 0.938 | 50981.48 | 41917 | 371549 | +----+-++--+---+---+-+-+--+++-++----+++-++-+-+-++--+-++-- | -1.4595065 | T | C | T | C |\n",
       "| 7 | 82240 | rs13236314 | C | T |  0.03040311 | 0.0126 | 0.01623 |  1 | 0.822 | ⋯ | 0.927 | 50981.48 | 41917 | 371549 | --------+-------+--++----++++-+------+-++++-----+----+++- |  2.4129449 | C | T | C | T |\n",
       "\n"
      ],
      "text/plain": [
       "  CHR BP    SNP        A1 A2 logOR       SE     PVAL    NGT FCAS  ⋯ IMPINFO\n",
       "1 7   53998 rs7806592  C  T   0.01920441 0.0124 0.12170 24  0.202 ⋯ 0.885  \n",
       "2 7   60728 rs4916941  G  A  -0.04609630 0.0304 0.13010 19  0.970 ⋯ 0.857  \n",
       "3 7   63494 rs6964622  A  G   0.01240277 0.0136 0.36360 38  0.181 ⋯ 0.871  \n",
       "4 7   71938 rs13437666 A  C  -0.04880166 0.0304 0.10830  1  0.969 ⋯ 0.845  \n",
       "5 7   80500 rs12533719 T  C  -0.01620052 0.0111 0.14330  1  0.743 ⋯ 0.938  \n",
       "6 7   82240 rs13236314 C  T   0.03040311 0.0126 0.01623  1  0.822 ⋯ 0.927  \n",
       "  NEFFDIV2 NCAS  NCON  \n",
       "1 50981.48 41917 371549\n",
       "2 49458.29 40581 368564\n",
       "3 43445.24 38084 103625\n",
       "4 49458.29 40581 368564\n",
       "5 50981.48 41917 371549\n",
       "6 50981.48 41917 371549\n",
       "  DIRE                                                      Z          REF_EUR\n",
       "1 ----+-----+--++-+--+--++++--++-++++--++--+-++---+--+-+--+  1.5487427 C      \n",
       "2 +?-++-?-++-+++--+++-----+----++?+-+-+-?+-++-+++--+-+??+?? -1.5163255 G      \n",
       "3 ++++-+++++-++--+-++-++---+++--+----++-+++-+--++??+?-+-+++  0.9119681 A      \n",
       "4 -?---+?+--+---++---+++++--+++--?-+-+-+?-++-+---++-+-??-?? -1.6053179 A      \n",
       "5 +----+-++--+---+---+-+-+--+++-++----+++-++-+-+-++--+-++-- -1.4595065 T      \n",
       "6 --------+-------+--++----++++-+------+-++++-----+----+++-  2.4129449 C      \n",
       "  ALT_EUR REF_libd ALT_libd\n",
       "1 T       C        T       \n",
       "2 A       G        A       \n",
       "3 G       A        G       \n",
       "4 C       A        C       \n",
       "5 C       T        C       \n",
       "6 T       C        T       "
      ]
     },
     "metadata": {},
     "output_type": "display_data"
    }
   ],
   "source": [
    "# Logical condition where alleles match with both ref and libd\n",
    "match_both <- (merged_data$A1 == merged_data$REF_EUR & merged_data$A2 == merged_data$ALT_EUR) &\n",
    "              (merged_data$A1 == merged_data$REF_libd & merged_data$A2 == merged_data$ALT_libd)\n",
    "\n",
    "# View rows where none mismatch\n",
    "head(merged_data[match_both, ])\n"
   ]
  },
  {
   "cell_type": "code",
   "execution_count": 42,
   "id": "4f0d6e7a-7fd1-4135-9a10-ea210d54cb51",
   "metadata": {},
   "outputs": [
    {
     "name": "stderr",
     "output_type": "stream",
     "text": [
      "Warning message in cbind(parts$left, chars$ellip_h, parts$right, deparse.level = 0L):\n",
      "“number of rows of result is not a multiple of vector length (arg 2)”\n",
      "Warning message in cbind(parts$left, chars$ellip_h, parts$right, deparse.level = 0L):\n",
      "“number of rows of result is not a multiple of vector length (arg 2)”\n",
      "Warning message in cbind(parts$left, chars$ellip_h, parts$right, deparse.level = 0L):\n",
      "“number of rows of result is not a multiple of vector length (arg 2)”\n",
      "Warning message in cbind(parts$left, chars$ellip_h, parts$right, deparse.level = 0L):\n",
      "“number of rows of result is not a multiple of vector length (arg 2)”\n"
     ]
    },
    {
     "data": {
      "text/html": [
       "<table class=\"dataframe\">\n",
       "<caption>A data.table: 0 × 21</caption>\n",
       "<thead>\n",
       "\t<tr><th scope=col>CHR</th><th scope=col>BP</th><th scope=col>SNP</th><th scope=col>A1</th><th scope=col>A2</th><th scope=col>logOR</th><th scope=col>SE</th><th scope=col>PVAL</th><th scope=col>NGT</th><th scope=col>FCAS</th><th scope=col>⋯</th><th scope=col>IMPINFO</th><th scope=col>NEFFDIV2</th><th scope=col>NCAS</th><th scope=col>NCON</th><th scope=col>DIRE</th><th scope=col>Z</th><th scope=col>REF_EUR</th><th scope=col>ALT_EUR</th><th scope=col>REF_libd</th><th scope=col>ALT_libd</th></tr>\n",
       "\t<tr><th scope=col>&lt;int&gt;</th><th scope=col>&lt;int&gt;</th><th scope=col>&lt;chr&gt;</th><th scope=col>&lt;chr&gt;</th><th scope=col>&lt;chr&gt;</th><th scope=col>&lt;dbl&gt;</th><th scope=col>&lt;dbl&gt;</th><th scope=col>&lt;dbl&gt;</th><th scope=col>&lt;int&gt;</th><th scope=col>&lt;dbl&gt;</th><th scope=col>⋯</th><th scope=col>&lt;dbl&gt;</th><th scope=col>&lt;dbl&gt;</th><th scope=col>&lt;int&gt;</th><th scope=col>&lt;int&gt;</th><th scope=col>&lt;chr&gt;</th><th scope=col>&lt;dbl&gt;</th><th scope=col>&lt;chr&gt;</th><th scope=col>&lt;chr&gt;</th><th scope=col>&lt;chr&gt;</th><th scope=col>&lt;chr&gt;</th></tr>\n",
       "</thead>\n",
       "<tbody>\n",
       "</tbody>\n",
       "</table>\n"
      ],
      "text/latex": [
       "A data.table: 0 × 21\n",
       "\\begin{tabular}{lllllllllllllllllllll}\n",
       " CHR & BP & SNP & A1 & A2 & logOR & SE & PVAL & NGT & FCAS & ⋯ & IMPINFO & NEFFDIV2 & NCAS & NCON & DIRE & Z & REF\\_EUR & ALT\\_EUR & REF\\_libd & ALT\\_libd\\\\\n",
       " <int> & <int> & <chr> & <chr> & <chr> & <dbl> & <dbl> & <dbl> & <int> & <dbl> & ⋯ & <dbl> & <dbl> & <int> & <int> & <chr> & <dbl> & <chr> & <chr> & <chr> & <chr>\\\\\n",
       "\\hline\n",
       "\\end{tabular}\n"
      ],
      "text/markdown": [
       "\n",
       "A data.table: 0 × 21\n",
       "\n",
       "| CHR &lt;int&gt; | BP &lt;int&gt; | SNP &lt;chr&gt; | A1 &lt;chr&gt; | A2 &lt;chr&gt; | logOR &lt;dbl&gt; | SE &lt;dbl&gt; | PVAL &lt;dbl&gt; | NGT &lt;int&gt; | FCAS &lt;dbl&gt; | ⋯ ⋯ | IMPINFO &lt;dbl&gt; | NEFFDIV2 &lt;dbl&gt; | NCAS &lt;int&gt; | NCON &lt;int&gt; | DIRE &lt;chr&gt; | Z &lt;dbl&gt; | REF_EUR &lt;chr&gt; | ALT_EUR &lt;chr&gt; | REF_libd &lt;chr&gt; | ALT_libd &lt;chr&gt; |\n",
       "|---|---|---|---|---|---|---|---|---|---|---|---|---|---|---|---|---|---|---|---|---|\n",
       "\n"
      ],
      "text/plain": [
       "     CHR BP SNP A1 A2 logOR SE PVAL NGT FCAS ⋯ IMPINFO NEFFDIV2 NCAS NCON DIRE\n",
       "     Z REF_EUR ALT_EUR REF_libd ALT_libd"
      ]
     },
     "metadata": {},
     "output_type": "display_data"
    }
   ],
   "source": [
    "# Logical condition where ss mismatches with libd but matches with ref\n",
    "mismatch_libd_only <- (merged_data$A1 != merged_data$REF_libd | merged_data$A2 != merged_data$ALT_libd) &\n",
    "                      (merged_data$A1 == merged_data$REF_EUR & merged_data$A2 == merged_data$ALT_EUR)\n",
    "\n",
    "# View rows where ss mismatches with libd\n",
    "head(merged_data[mismatch_libd_only, ])\n"
   ]
  },
  {
   "cell_type": "code",
   "execution_count": 43,
   "id": "dde5f81b-3d20-4903-b5c2-732572fda410",
   "metadata": {},
   "outputs": [
    {
     "data": {
      "text/html": [
       "<table class=\"dataframe\">\n",
       "<caption>A data.table: 6 × 21</caption>\n",
       "<thead>\n",
       "\t<tr><th scope=col>CHR</th><th scope=col>BP</th><th scope=col>SNP</th><th scope=col>A1</th><th scope=col>A2</th><th scope=col>logOR</th><th scope=col>SE</th><th scope=col>PVAL</th><th scope=col>NGT</th><th scope=col>FCAS</th><th scope=col>⋯</th><th scope=col>IMPINFO</th><th scope=col>NEFFDIV2</th><th scope=col>NCAS</th><th scope=col>NCON</th><th scope=col>DIRE</th><th scope=col>Z</th><th scope=col>REF_EUR</th><th scope=col>ALT_EUR</th><th scope=col>REF_libd</th><th scope=col>ALT_libd</th></tr>\n",
       "\t<tr><th scope=col>&lt;int&gt;</th><th scope=col>&lt;int&gt;</th><th scope=col>&lt;chr&gt;</th><th scope=col>&lt;chr&gt;</th><th scope=col>&lt;chr&gt;</th><th scope=col>&lt;dbl&gt;</th><th scope=col>&lt;dbl&gt;</th><th scope=col>&lt;dbl&gt;</th><th scope=col>&lt;int&gt;</th><th scope=col>&lt;dbl&gt;</th><th scope=col>⋯</th><th scope=col>&lt;dbl&gt;</th><th scope=col>&lt;dbl&gt;</th><th scope=col>&lt;int&gt;</th><th scope=col>&lt;int&gt;</th><th scope=col>&lt;chr&gt;</th><th scope=col>&lt;dbl&gt;</th><th scope=col>&lt;chr&gt;</th><th scope=col>&lt;chr&gt;</th><th scope=col>&lt;chr&gt;</th><th scope=col>&lt;chr&gt;</th></tr>\n",
       "</thead>\n",
       "<tbody>\n",
       "\t<tr><td>7</td><td>9918740</td><td>rs4520074 </td><td>C</td><td>A</td><td> 0.002297359</td><td>0.0157</td><td>0.8832</td><td>1</td><td>0.901</td><td>⋯</td><td>0.988</td><td>50981.48</td><td>41917</td><td>371549</td><td>-+++-+----+-+--++--+----++++--+++---+-+++++--++---++-+-++</td><td> 0.1463286</td><td>A</td><td>C</td><td>A</td><td>C</td></tr>\n",
       "\t<tr><td>7</td><td>9918792</td><td>rs4472429 </td><td>G</td><td>A</td><td> 0.002197584</td><td>0.0154</td><td>0.8876</td><td>5</td><td>0.895</td><td>⋯</td><td>0.986</td><td>50981.48</td><td>41917</td><td>371549</td><td>-+++-+----+-+--+---+----++++--+-+---+-++++++-++---++-+-++</td><td> 0.1427002</td><td>A</td><td>G</td><td>A</td><td>G</td></tr>\n",
       "\t<tr><td>7</td><td>9919273</td><td>rs9640129 </td><td>G</td><td>A</td><td>-0.005304042</td><td>0.0218</td><td>0.8070</td><td>1</td><td>0.951</td><td>⋯</td><td>0.987</td><td>50772.41</td><td>41587</td><td>371396</td><td>++-+-+--+---+--+++++-+---+++---+++--+-+++++-+-+-+-+-?+-?-</td><td>-0.2433047</td><td>A</td><td>G</td><td>A</td><td>G</td></tr>\n",
       "\t<tr><td>7</td><td>9919610</td><td>rs2971070 </td><td>G</td><td>C</td><td>-0.008203557</td><td>0.0098</td><td>0.4040</td><td>1</td><td>0.338</td><td>⋯</td><td>0.998</td><td>50981.48</td><td>41917</td><td>371549</td><td>++++-+-+----+++---+--+--++-++++---+-++++-+-+--++-+--+++++</td><td>-0.8370977</td><td>C</td><td>G</td><td>C</td><td>G</td></tr>\n",
       "\t<tr><td>7</td><td>9919889</td><td>rs12702956</td><td>T</td><td>G</td><td>-0.009202211</td><td>0.0164</td><td>0.5724</td><td>0</td><td>0.900</td><td>⋯</td><td>0.985</td><td>46282.26</td><td>39538</td><td>161738</td><td>+---+-++++-+-++--++-++++----++-+-+++-+------+--??+--+-+--</td><td>-0.5611104</td><td>G</td><td>T</td><td>G</td><td>T</td></tr>\n",
       "\t<tr><td>7</td><td>9920155</td><td>rs1029553 </td><td>A</td><td>T</td><td>-0.008596847</td><td>0.0098</td><td>0.3813</td><td>1</td><td>0.338</td><td>⋯</td><td>0.997</td><td>50981.48</td><td>41917</td><td>371549</td><td>----+-+-++++---+++-++-++--+----+++-+----+-+-++--+-++-+---</td><td>-0.8772293</td><td>T</td><td>A</td><td>T</td><td>A</td></tr>\n",
       "</tbody>\n",
       "</table>\n"
      ],
      "text/latex": [
       "A data.table: 6 × 21\n",
       "\\begin{tabular}{lllllllllllllllllllll}\n",
       " CHR & BP & SNP & A1 & A2 & logOR & SE & PVAL & NGT & FCAS & ⋯ & IMPINFO & NEFFDIV2 & NCAS & NCON & DIRE & Z & REF\\_EUR & ALT\\_EUR & REF\\_libd & ALT\\_libd\\\\\n",
       " <int> & <int> & <chr> & <chr> & <chr> & <dbl> & <dbl> & <dbl> & <int> & <dbl> & ⋯ & <dbl> & <dbl> & <int> & <int> & <chr> & <dbl> & <chr> & <chr> & <chr> & <chr>\\\\\n",
       "\\hline\n",
       "\t 7 & 9918740 & rs4520074  & C & A &  0.002297359 & 0.0157 & 0.8832 & 1 & 0.901 & ⋯ & 0.988 & 50981.48 & 41917 & 371549 & -+++-+----+-+--++--+----++++--+++---+-+++++--++---++-+-++ &  0.1463286 & A & C & A & C\\\\\n",
       "\t 7 & 9918792 & rs4472429  & G & A &  0.002197584 & 0.0154 & 0.8876 & 5 & 0.895 & ⋯ & 0.986 & 50981.48 & 41917 & 371549 & -+++-+----+-+--+---+----++++--+-+---+-++++++-++---++-+-++ &  0.1427002 & A & G & A & G\\\\\n",
       "\t 7 & 9919273 & rs9640129  & G & A & -0.005304042 & 0.0218 & 0.8070 & 1 & 0.951 & ⋯ & 0.987 & 50772.41 & 41587 & 371396 & ++-+-+--+---+--+++++-+---+++---+++--+-+++++-+-+-+-+-?+-?- & -0.2433047 & A & G & A & G\\\\\n",
       "\t 7 & 9919610 & rs2971070  & G & C & -0.008203557 & 0.0098 & 0.4040 & 1 & 0.338 & ⋯ & 0.998 & 50981.48 & 41917 & 371549 & ++++-+-+----+++---+--+--++-++++---+-++++-+-+--++-+--+++++ & -0.8370977 & C & G & C & G\\\\\n",
       "\t 7 & 9919889 & rs12702956 & T & G & -0.009202211 & 0.0164 & 0.5724 & 0 & 0.900 & ⋯ & 0.985 & 46282.26 & 39538 & 161738 & +---+-++++-+-++--++-++++----++-+-+++-+------+--??+--+-+-- & -0.5611104 & G & T & G & T\\\\\n",
       "\t 7 & 9920155 & rs1029553  & A & T & -0.008596847 & 0.0098 & 0.3813 & 1 & 0.338 & ⋯ & 0.997 & 50981.48 & 41917 & 371549 & ----+-+-++++---+++-++-++--+----+++-+----+-+-++--+-++-+--- & -0.8772293 & T & A & T & A\\\\\n",
       "\\end{tabular}\n"
      ],
      "text/markdown": [
       "\n",
       "A data.table: 6 × 21\n",
       "\n",
       "| CHR &lt;int&gt; | BP &lt;int&gt; | SNP &lt;chr&gt; | A1 &lt;chr&gt; | A2 &lt;chr&gt; | logOR &lt;dbl&gt; | SE &lt;dbl&gt; | PVAL &lt;dbl&gt; | NGT &lt;int&gt; | FCAS &lt;dbl&gt; | ⋯ ⋯ | IMPINFO &lt;dbl&gt; | NEFFDIV2 &lt;dbl&gt; | NCAS &lt;int&gt; | NCON &lt;int&gt; | DIRE &lt;chr&gt; | Z &lt;dbl&gt; | REF_EUR &lt;chr&gt; | ALT_EUR &lt;chr&gt; | REF_libd &lt;chr&gt; | ALT_libd &lt;chr&gt; |\n",
       "|---|---|---|---|---|---|---|---|---|---|---|---|---|---|---|---|---|---|---|---|---|\n",
       "| 7 | 9918740 | rs4520074  | C | A |  0.002297359 | 0.0157 | 0.8832 | 1 | 0.901 | ⋯ | 0.988 | 50981.48 | 41917 | 371549 | -+++-+----+-+--++--+----++++--+++---+-+++++--++---++-+-++ |  0.1463286 | A | C | A | C |\n",
       "| 7 | 9918792 | rs4472429  | G | A |  0.002197584 | 0.0154 | 0.8876 | 5 | 0.895 | ⋯ | 0.986 | 50981.48 | 41917 | 371549 | -+++-+----+-+--+---+----++++--+-+---+-++++++-++---++-+-++ |  0.1427002 | A | G | A | G |\n",
       "| 7 | 9919273 | rs9640129  | G | A | -0.005304042 | 0.0218 | 0.8070 | 1 | 0.951 | ⋯ | 0.987 | 50772.41 | 41587 | 371396 | ++-+-+--+---+--+++++-+---+++---+++--+-+++++-+-+-+-+-?+-?- | -0.2433047 | A | G | A | G |\n",
       "| 7 | 9919610 | rs2971070  | G | C | -0.008203557 | 0.0098 | 0.4040 | 1 | 0.338 | ⋯ | 0.998 | 50981.48 | 41917 | 371549 | ++++-+-+----+++---+--+--++-++++---+-++++-+-+--++-+--+++++ | -0.8370977 | C | G | C | G |\n",
       "| 7 | 9919889 | rs12702956 | T | G | -0.009202211 | 0.0164 | 0.5724 | 0 | 0.900 | ⋯ | 0.985 | 46282.26 | 39538 | 161738 | +---+-++++-+-++--++-++++----++-+-+++-+------+--??+--+-+-- | -0.5611104 | G | T | G | T |\n",
       "| 7 | 9920155 | rs1029553  | A | T | -0.008596847 | 0.0098 | 0.3813 | 1 | 0.338 | ⋯ | 0.997 | 50981.48 | 41917 | 371549 | ----+-+-++++---+++-++-++--+----+++-+----+-+-++--+-++-+--- | -0.8772293 | T | A | T | A |\n",
       "\n"
      ],
      "text/plain": [
       "  CHR BP      SNP        A1 A2 logOR        SE     PVAL   NGT FCAS  ⋯ IMPINFO\n",
       "1 7   9918740 rs4520074  C  A   0.002297359 0.0157 0.8832 1   0.901 ⋯ 0.988  \n",
       "2 7   9918792 rs4472429  G  A   0.002197584 0.0154 0.8876 5   0.895 ⋯ 0.986  \n",
       "3 7   9919273 rs9640129  G  A  -0.005304042 0.0218 0.8070 1   0.951 ⋯ 0.987  \n",
       "4 7   9919610 rs2971070  G  C  -0.008203557 0.0098 0.4040 1   0.338 ⋯ 0.998  \n",
       "5 7   9919889 rs12702956 T  G  -0.009202211 0.0164 0.5724 0   0.900 ⋯ 0.985  \n",
       "6 7   9920155 rs1029553  A  T  -0.008596847 0.0098 0.3813 1   0.338 ⋯ 0.997  \n",
       "  NEFFDIV2 NCAS  NCON  \n",
       "1 50981.48 41917 371549\n",
       "2 50981.48 41917 371549\n",
       "3 50772.41 41587 371396\n",
       "4 50981.48 41917 371549\n",
       "5 46282.26 39538 161738\n",
       "6 50981.48 41917 371549\n",
       "  DIRE                                                      Z          REF_EUR\n",
       "1 -+++-+----+-+--++--+----++++--+++---+-+++++--++---++-+-++  0.1463286 A      \n",
       "2 -+++-+----+-+--+---+----++++--+-+---+-++++++-++---++-+-++  0.1427002 A      \n",
       "3 ++-+-+--+---+--+++++-+---+++---+++--+-+++++-+-+-+-+-?+-?- -0.2433047 A      \n",
       "4 ++++-+-+----+++---+--+--++-++++---+-++++-+-+--++-+--+++++ -0.8370977 C      \n",
       "5 +---+-++++-+-++--++-++++----++-+-+++-+------+--??+--+-+-- -0.5611104 G      \n",
       "6 ----+-+-++++---+++-++-++--+----+++-+----+-+-++--+-++-+--- -0.8772293 T      \n",
       "  ALT_EUR REF_libd ALT_libd\n",
       "1 C       A        C       \n",
       "2 G       A        G       \n",
       "3 G       A        G       \n",
       "4 G       C        G       \n",
       "5 T       G        T       \n",
       "6 A       T        A       "
      ]
     },
     "metadata": {},
     "output_type": "display_data"
    }
   ],
   "source": [
    "# Logical condition where ss mismatches with both ref and libd\n",
    "mismatch_both <- (merged_data$A1 != merged_data$REF_EUR | merged_data$A2 != merged_data$ALT_EUR) &\n",
    "                 (merged_data$A1 != merged_data$REF_libd | merged_data$A2 != merged_data$ALT_libd)\n",
    "\n",
    "# View rows where ss mismatches with both ref and libd\n",
    "head(merged_data[mismatch_both, ])\n"
   ]
  },
  {
   "cell_type": "markdown",
   "id": "359868bb-fe05-4602-ba8c-d793a71fe3b4",
   "metadata": {},
   "source": [
    "Should be 262"
   ]
  },
  {
   "cell_type": "code",
   "execution_count": 44,
   "id": "10cadec7-dc34-46df-9cae-c3c232f1337d",
   "metadata": {},
   "outputs": [
    {
     "data": {
      "text/html": [
       "774"
      ],
      "text/latex": [
       "774"
      ],
      "text/markdown": [
       "774"
      ],
      "text/plain": [
       "[1] 774"
      ]
     },
     "metadata": {},
     "output_type": "display_data"
    }
   ],
   "source": [
    "# Check for mismatches with ref\n",
    "mismatch_ref <- merged_data$A1 != merged_data$REF_EUR | merged_data$A2 != merged_data$ALT_EUR\n",
    "\n",
    "# Verify the number of mismatches\n",
    "length(which(mismatch_ref))\n"
   ]
  },
  {
   "cell_type": "code",
   "execution_count": null,
   "id": "97b808be-2c9d-4da7-b309-f03a3699241a",
   "metadata": {},
   "outputs": [],
   "source": []
  },
  {
   "cell_type": "code",
   "execution_count": 45,
   "id": "bbcbb220-08a7-43a4-8c9d-aebc984696eb",
   "metadata": {},
   "outputs": [],
   "source": [
    "# Identify rows where alleles don't match for ref\n",
    "ref_mismatches <- merged_ref[which(A1 != REF_EUR | A2 != ALT_EUR)]"
   ]
  },
  {
   "cell_type": "code",
   "execution_count": 51,
   "id": "ff4d8f3d-fb91-4309-bb3c-4ce59d4e5a70",
   "metadata": {},
   "outputs": [],
   "source": [
    "# Identify rows where alleles don't match for libd\n",
    "libd_mismatches <- merged_libd[\n",
    "    !((A1 == REF_libd & A2 == ALT_libd) | (A1 == ALT_libd & A2 == REF_libd))\n",
    "]"
   ]
  },
  {
   "cell_type": "markdown",
   "id": "72693bf4-1057-425e-beb0-4636837bea1b",
   "metadata": {},
   "source": [
    "Everything in reference genome dataset is also found in summary stats, but not everything in summary stats is found in this reference genome...?"
   ]
  },
  {
   "cell_type": "code",
   "execution_count": 106,
   "id": "0d670a49-356c-4d58-9243-fb7823c03867",
   "metadata": {},
   "outputs": [
    {
     "name": "stderr",
     "output_type": "stream",
     "text": [
      "Warning message in fread(summary_stats_path):\n",
      "“Detected 1 column names but the data has 19 columns (i.e. invalid file). Added 18 extra default column names at the end.”\n"
     ]
    },
    {
     "name": "stdout",
     "output_type": "stream",
     "text": [
      "[1] \"Setting Z\"\n"
     ]
    }
   ],
   "source": [
    "output_path <- sub(\".txt\", \"_alleleprocessed_a2.txt\", summary_stats_path)\n",
    "\n",
    "if (!grepl(\"\\\\.\", basename(output_path))) {\n",
    "    output_path <- paste0(output_path, \"_alleleprocessed_a2.txt\")\n",
    "}\n",
    "\n",
    "#if (file.exists(output_path)) {\n",
    "#    stop(paste(\"File already exists:\", output_path))\n",
    "#}\n",
    "\n",
    "summary_stats <- fread(summary_stats_path)\n",
    "summary_stats <- clean_and_standardize_colnames(summary_stats)\n",
    "summary_stats_backup <- summary_stats\n",
    "\n",
    "# !!!!!!!!!!!!!!!!!!!!!\n",
    "#!!!!!!!!!!"
   ]
  },
  {
   "cell_type": "code",
   "execution_count": null,
   "id": "ecdff0cf-7985-4027-9e52-697d973e89a9",
   "metadata": {},
   "outputs": [],
   "source": []
  },
  {
   "cell_type": "code",
   "execution_count": 107,
   "id": "d26a03ed-7b6c-4685-a045-6386fe7b7aa3",
   "metadata": {},
   "outputs": [],
   "source": [
    "ref <- fread(paste0(\"/expanse/lustre/projects/jhu152/naglemi/mwas/gwas_flipped/ref_EUR_allele-match-a2-libd_chr\", chr, \".pvar\"),\n",
    "         select = c(\"#CHROM\", \"POS\", \"REF\", \"ALT\"),\n",
    "         col.names = c(\"CHR\", \"BP\", \"REF\", \"ALT\"))\n",
    "\n",
    "libd <- fread(paste0(\"/expanse/lustre/projects/jhu152/naglemi/mwas/gwas/libd_chr\", chr, \".pvar\"),\n",
    "          select = c(\"#CHROM\", \"POS\", \"REF\", \"ALT\"),\n",
    "          col.names = c(\"CHR\", \"BP\", \"REF_libd\", \"ALT_libd\"))\n",
    "\n",
    "# Merge with reference and LIBD data by CHR and BP\n",
    "merged_ref <- merge(summary_stats, ref, by = c(\"CHR\", \"BP\"), suffixes = c(\"\", \"_ref\"))\n",
    "merged_data <- merge(merged_ref, libd, by = c(\"CHR\", \"BP\"), suffixes = c(\"\", \"_libd\"))\n",
    "\n",
    "if (any(merged_data$REF != merged_data$REF_libd | merged_data$ALT != merged_data$ALT_libd)) {\n",
    "stop(\"Sanity check failed: REF and ALT do not match between reference and LIBD data.\")\n",
    "}"
   ]
  },
  {
   "cell_type": "code",
   "execution_count": 108,
   "id": "3a0c098e-7be5-49ff-901c-c3115013b28c",
   "metadata": {
    "collapsed": true,
    "jupyter": {
     "outputs_hidden": true
    }
   },
   "outputs": [
    {
     "data": {
      "text/html": [
       "<table class=\"dataframe\">\n",
       "<caption>A data.table: 6 × 21</caption>\n",
       "<thead>\n",
       "\t<tr><th scope=col>CHR</th><th scope=col>SNP</th><th scope=col>BP</th><th scope=col>A1</th><th scope=col>A2</th><th scope=col>FRQ_A_53386</th><th scope=col>FRQ_U_77258</th><th scope=col>INFO</th><th scope=col>OR</th><th scope=col>SE</th><th scope=col>⋯</th><th scope=col>ngt</th><th scope=col>Direction</th><th scope=col>HetISqt</th><th scope=col>HetDf</th><th scope=col>HetPVa</th><th scope=col>Nca</th><th scope=col>Nco</th><th scope=col>Neff</th><th scope=col>logOR</th><th scope=col>Z</th></tr>\n",
       "\t<tr><th scope=col>&lt;int&gt;</th><th scope=col>&lt;chr&gt;</th><th scope=col>&lt;int&gt;</th><th scope=col>&lt;chr&gt;</th><th scope=col>&lt;chr&gt;</th><th scope=col>&lt;dbl&gt;</th><th scope=col>&lt;dbl&gt;</th><th scope=col>&lt;dbl&gt;</th><th scope=col>&lt;dbl&gt;</th><th scope=col>&lt;dbl&gt;</th><th scope=col>⋯</th><th scope=col>&lt;int&gt;</th><th scope=col>&lt;chr&gt;</th><th scope=col>&lt;dbl&gt;</th><th scope=col>&lt;int&gt;</th><th scope=col>&lt;dbl&gt;</th><th scope=col>&lt;int&gt;</th><th scope=col>&lt;int&gt;</th><th scope=col>&lt;dbl&gt;</th><th scope=col>&lt;dbl&gt;</th><th scope=col>&lt;dbl&gt;</th></tr>\n",
       "</thead>\n",
       "<tbody>\n",
       "\t<tr><td>10</td><td>10:100082385_C_A</td><td>98322628</td><td>C</td><td>A</td><td>0.932</td><td>0.932</td><td>0.978</td><td>1.02501</td><td>0.0172</td><td>⋯</td><td> 0</td><td>--+-+------+-+-+-++-+-++++---+++++-----+-+--+--++-+--++-+--+++++-+++--+-----</td><td> 0.0</td><td>75</td><td>0.64320</td><td>53386</td><td>77258</td><td>58749.13</td><td> 0.024702369</td><td> 1.4361842</td></tr>\n",
       "\t<tr><td>10</td><td>10:100189568_C_A</td><td>98429811</td><td>C</td><td>A</td><td>0.927</td><td>0.925</td><td>0.913</td><td>1.01857</td><td>0.0172</td><td>⋯</td><td>33</td><td>+++-+----++++-+-+---+--++-+++-+++-----+---+++++--+-----+--+---+-+-++-+--++-+</td><td>11.7</td><td>75</td><td>0.20360</td><td>53386</td><td>77258</td><td>58749.13</td><td> 0.018399683</td><td> 1.0697490</td></tr>\n",
       "\t<tr><td>10</td><td>10:100383999_C_G</td><td>98624242</td><td>C</td><td>G</td><td>0.799</td><td>0.800</td><td>0.992</td><td>0.99144</td><td>0.0108</td><td>⋯</td><td> 0</td><td>++----+++-+--+++-++++++-++--++-+---+-++---+-+-+-+-+--+++-++--+++------+++++-</td><td> 2.4</td><td>75</td><td>0.41880</td><td>53386</td><td>77258</td><td>58749.13</td><td>-0.008596847</td><td>-0.7960044</td></tr>\n",
       "\t<tr><td>10</td><td>10:100806365_A_C</td><td>99046608</td><td>A</td><td>C</td><td>0.118</td><td>0.118</td><td>1.000</td><td>0.98432</td><td>0.0134</td><td>⋯</td><td>30</td><td>+0-++-++----+++++-++-+----+-++-+-++--+++----------++-----+---+++----+---+++-</td><td>19.5</td><td>75</td><td>0.07654</td><td>53386</td><td>77258</td><td>58749.13</td><td>-0.015804232</td><td>-1.1794203</td></tr>\n",
       "\t<tr><td>10</td><td>10:100813720_C_T</td><td>99053963</td><td>C</td><td>T</td><td>0.117</td><td>0.118</td><td>0.999</td><td>0.98285</td><td>0.0134</td><td>⋯</td><td> 0</td><td>-++--+--++++-----+--+-++++-+--+-+--++---++++++++++--+++++-+++---++++-+++---+</td><td>17.7</td><td>75</td><td>0.09876</td><td>53386</td><td>77258</td><td>58749.13</td><td>-0.017298765</td><td>-1.2909526</td></tr>\n",
       "\t<tr><td>10</td><td>10:101257658_T_G</td><td>99497901</td><td>T</td><td>G</td><td>0.257</td><td>0.258</td><td>1.000</td><td>1.00451</td><td>0.0098</td><td>⋯</td><td> 0</td><td>-+++-------+++-+--+++++--+--++++-+--+-++---+++++++-----+++--+--+-+--++++++-+</td><td>17.3</td><td>75</td><td>0.10460</td><td>53386</td><td>77258</td><td>58749.13</td><td> 0.004499860</td><td> 0.4591694</td></tr>\n",
       "</tbody>\n",
       "</table>\n"
      ],
      "text/latex": [
       "A data.table: 6 × 21\n",
       "\\begin{tabular}{lllllllllllllllllllll}\n",
       " CHR & SNP & BP & A1 & A2 & FRQ\\_A\\_53386 & FRQ\\_U\\_77258 & INFO & OR & SE & ⋯ & ngt & Direction & HetISqt & HetDf & HetPVa & Nca & Nco & Neff & logOR & Z\\\\\n",
       " <int> & <chr> & <int> & <chr> & <chr> & <dbl> & <dbl> & <dbl> & <dbl> & <dbl> & ⋯ & <int> & <chr> & <dbl> & <int> & <dbl> & <int> & <int> & <dbl> & <dbl> & <dbl>\\\\\n",
       "\\hline\n",
       "\t 10 & 10:100082385\\_C\\_A & 98322628 & C & A & 0.932 & 0.932 & 0.978 & 1.02501 & 0.0172 & ⋯ &  0 & --+-+------+-+-+-++-+-++++---+++++-----+-+--+--++-+--++-+--+++++-+++--+----- &  0.0 & 75 & 0.64320 & 53386 & 77258 & 58749.13 &  0.024702369 &  1.4361842\\\\\n",
       "\t 10 & 10:100189568\\_C\\_A & 98429811 & C & A & 0.927 & 0.925 & 0.913 & 1.01857 & 0.0172 & ⋯ & 33 & +++-+----++++-+-+---+--++-+++-+++-----+---+++++--+-----+--+---+-+-++-+--++-+ & 11.7 & 75 & 0.20360 & 53386 & 77258 & 58749.13 &  0.018399683 &  1.0697490\\\\\n",
       "\t 10 & 10:100383999\\_C\\_G & 98624242 & C & G & 0.799 & 0.800 & 0.992 & 0.99144 & 0.0108 & ⋯ &  0 & ++----+++-+--+++-++++++-++--++-+---+-++---+-+-+-+-+--+++-++--+++------+++++- &  2.4 & 75 & 0.41880 & 53386 & 77258 & 58749.13 & -0.008596847 & -0.7960044\\\\\n",
       "\t 10 & 10:100806365\\_A\\_C & 99046608 & A & C & 0.118 & 0.118 & 1.000 & 0.98432 & 0.0134 & ⋯ & 30 & +0-++-++----+++++-++-+----+-++-+-++--+++----------++-----+---+++----+---+++- & 19.5 & 75 & 0.07654 & 53386 & 77258 & 58749.13 & -0.015804232 & -1.1794203\\\\\n",
       "\t 10 & 10:100813720\\_C\\_T & 99053963 & C & T & 0.117 & 0.118 & 0.999 & 0.98285 & 0.0134 & ⋯ &  0 & -++--+--++++-----+--+-++++-+--+-+--++---++++++++++--+++++-+++---++++-+++---+ & 17.7 & 75 & 0.09876 & 53386 & 77258 & 58749.13 & -0.017298765 & -1.2909526\\\\\n",
       "\t 10 & 10:101257658\\_T\\_G & 99497901 & T & G & 0.257 & 0.258 & 1.000 & 1.00451 & 0.0098 & ⋯ &  0 & -+++-------+++-+--+++++--+--++++-+--+-++---+++++++-----+++--+--+-+--++++++-+ & 17.3 & 75 & 0.10460 & 53386 & 77258 & 58749.13 &  0.004499860 &  0.4591694\\\\\n",
       "\\end{tabular}\n"
      ],
      "text/markdown": [
       "\n",
       "A data.table: 6 × 21\n",
       "\n",
       "| CHR &lt;int&gt; | SNP &lt;chr&gt; | BP &lt;int&gt; | A1 &lt;chr&gt; | A2 &lt;chr&gt; | FRQ_A_53386 &lt;dbl&gt; | FRQ_U_77258 &lt;dbl&gt; | INFO &lt;dbl&gt; | OR &lt;dbl&gt; | SE &lt;dbl&gt; | ⋯ ⋯ | ngt &lt;int&gt; | Direction &lt;chr&gt; | HetISqt &lt;dbl&gt; | HetDf &lt;int&gt; | HetPVa &lt;dbl&gt; | Nca &lt;int&gt; | Nco &lt;int&gt; | Neff &lt;dbl&gt; | logOR &lt;dbl&gt; | Z &lt;dbl&gt; |\n",
       "|---|---|---|---|---|---|---|---|---|---|---|---|---|---|---|---|---|---|---|---|---|\n",
       "| 10 | 10:100082385_C_A | 98322628 | C | A | 0.932 | 0.932 | 0.978 | 1.02501 | 0.0172 | ⋯ |  0 | --+-+------+-+-+-++-+-++++---+++++-----+-+--+--++-+--++-+--+++++-+++--+----- |  0.0 | 75 | 0.64320 | 53386 | 77258 | 58749.13 |  0.024702369 |  1.4361842 |\n",
       "| 10 | 10:100189568_C_A | 98429811 | C | A | 0.927 | 0.925 | 0.913 | 1.01857 | 0.0172 | ⋯ | 33 | +++-+----++++-+-+---+--++-+++-+++-----+---+++++--+-----+--+---+-+-++-+--++-+ | 11.7 | 75 | 0.20360 | 53386 | 77258 | 58749.13 |  0.018399683 |  1.0697490 |\n",
       "| 10 | 10:100383999_C_G | 98624242 | C | G | 0.799 | 0.800 | 0.992 | 0.99144 | 0.0108 | ⋯ |  0 | ++----+++-+--+++-++++++-++--++-+---+-++---+-+-+-+-+--+++-++--+++------+++++- |  2.4 | 75 | 0.41880 | 53386 | 77258 | 58749.13 | -0.008596847 | -0.7960044 |\n",
       "| 10 | 10:100806365_A_C | 99046608 | A | C | 0.118 | 0.118 | 1.000 | 0.98432 | 0.0134 | ⋯ | 30 | +0-++-++----+++++-++-+----+-++-+-++--+++----------++-----+---+++----+---+++- | 19.5 | 75 | 0.07654 | 53386 | 77258 | 58749.13 | -0.015804232 | -1.1794203 |\n",
       "| 10 | 10:100813720_C_T | 99053963 | C | T | 0.117 | 0.118 | 0.999 | 0.98285 | 0.0134 | ⋯ |  0 | -++--+--++++-----+--+-++++-+--+-+--++---++++++++++--+++++-+++---++++-+++---+ | 17.7 | 75 | 0.09876 | 53386 | 77258 | 58749.13 | -0.017298765 | -1.2909526 |\n",
       "| 10 | 10:101257658_T_G | 99497901 | T | G | 0.257 | 0.258 | 1.000 | 1.00451 | 0.0098 | ⋯ |  0 | -+++-------+++-+--+++++--+--++++-+--+-++---+++++++-----+++--+--+-+--++++++-+ | 17.3 | 75 | 0.10460 | 53386 | 77258 | 58749.13 |  0.004499860 |  0.4591694 |\n",
       "\n"
      ],
      "text/plain": [
       "  CHR SNP              BP       A1 A2 FRQ_A_53386 FRQ_U_77258 INFO  OR     \n",
       "1 10  10:100082385_C_A 98322628 C  A  0.932       0.932       0.978 1.02501\n",
       "2 10  10:100189568_C_A 98429811 C  A  0.927       0.925       0.913 1.01857\n",
       "3 10  10:100383999_C_G 98624242 C  G  0.799       0.800       0.992 0.99144\n",
       "4 10  10:100806365_A_C 99046608 A  C  0.118       0.118       1.000 0.98432\n",
       "5 10  10:100813720_C_T 99053963 C  T  0.117       0.118       0.999 0.98285\n",
       "6 10  10:101257658_T_G 99497901 T  G  0.257       0.258       1.000 1.00451\n",
       "  SE     ⋯ ngt\n",
       "1 0.0172 ⋯  0 \n",
       "2 0.0172 ⋯ 33 \n",
       "3 0.0108 ⋯  0 \n",
       "4 0.0134 ⋯ 30 \n",
       "5 0.0134 ⋯  0 \n",
       "6 0.0098 ⋯  0 \n",
       "  Direction                                                                   \n",
       "1 --+-+------+-+-+-++-+-++++---+++++-----+-+--+--++-+--++-+--+++++-+++--+-----\n",
       "2 +++-+----++++-+-+---+--++-+++-+++-----+---+++++--+-----+--+---+-+-++-+--++-+\n",
       "3 ++----+++-+--+++-++++++-++--++-+---+-++---+-+-+-+-+--+++-++--+++------+++++-\n",
       "4 +0-++-++----+++++-++-+----+-++-+-++--+++----------++-----+---+++----+---+++-\n",
       "5 -++--+--++++-----+--+-++++-+--+-+--++---++++++++++--+++++-+++---++++-+++---+\n",
       "6 -+++-------+++-+--+++++--+--++++-+--+-++---+++++++-----+++--+--+-+--++++++-+\n",
       "  HetISqt HetDf HetPVa  Nca   Nco   Neff     logOR        Z         \n",
       "1  0.0    75    0.64320 53386 77258 58749.13  0.024702369  1.4361842\n",
       "2 11.7    75    0.20360 53386 77258 58749.13  0.018399683  1.0697490\n",
       "3  2.4    75    0.41880 53386 77258 58749.13 -0.008596847 -0.7960044\n",
       "4 19.5    75    0.07654 53386 77258 58749.13 -0.015804232 -1.1794203\n",
       "5 17.7    75    0.09876 53386 77258 58749.13 -0.017298765 -1.2909526\n",
       "6 17.3    75    0.10460 53386 77258 58749.13  0.004499860  0.4591694"
      ]
     },
     "metadata": {},
     "output_type": "display_data"
    }
   ],
   "source": [
    "head(summary_stats)"
   ]
  },
  {
   "cell_type": "code",
   "execution_count": null,
   "id": "1d01648b-b41d-4d3e-b3d8-f94bea27731d",
   "metadata": {},
   "outputs": [],
   "source": []
  },
  {
   "cell_type": "code",
   "execution_count": 109,
   "id": "5e89fbab-0c37-4c9e-861d-588626d5aa76",
   "metadata": {},
   "outputs": [],
   "source": [
    "# Identify and flip alleles where necessary\n",
    "# Identify and flip alleles where necessary\n",
    "flip_index <- merged_data[\n",
    "!((A1 == REF & A2 == ALT) | (A1 == ALT & A2 == REF)),  # Mismatch with REF/ALT\n",
    ".I\n",
    "]\n",
    "\n",
    "\n",
    "# Flip alleles and BETA where necessary\n",
    "if (length(flip_index) > 0) {\n",
    "merged_data[flip_index, `:=`(A1 = A2, A2 = A1, Z = -Z)]\n",
    "}\n",
    "\n",
    "# Final sanity check: Ensure A1/A2, REF/ALT, and REF_libd/ALT_libd are in matching order\n",
    "final_check <- merged_data[\n",
    "!(\n",
    "    ((A1 == REF & A2 == ALT) | (A1 == ALT & A2 == REF)) &\n",
    "    ((A1 == REF_libd & A2 == ALT_libd) | (A1 == ALT_libd & A2 == REF_libd))\n",
    ")\n",
    "]\n",
    "\n",
    "if (nrow(final_check) > 0) {\n",
    "stop(\"Final sanity check failed: A1/A2, REF/ALT, and REF_libd/ALT_libd do not match in some rows.\")\n",
    "}\n",
    "\n",
    "# Define the columns that need to be retained, ensuring flexibility\n",
    "retain_cols <- intersect(c(\"CHR\", \"BP\", \"SNP\", \"A1\", \"A2\", \"Z\", \"SE\", \"P\", \"PVAL\", \"Freq\", \n",
    "                       \"NGT\", \"FCAS\", \"FCON\", \"IMPINFO\", \"NEFFDIV2\", \"NCAS\", \"NCON\", \"DIRE\"), \n",
    "                     names(merged_data))\n",
    "\n",
    "summary_stats <- merged_data[, ..retain_cols]"
   ]
  },
  {
   "cell_type": "code",
   "execution_count": 110,
   "id": "940606c7-2f0b-4094-9214-60b590097cc7",
   "metadata": {},
   "outputs": [
    {
     "data": {
      "text/html": [
       "<table class=\"dataframe\">\n",
       "<caption>A data.table: 6 × 8</caption>\n",
       "<thead>\n",
       "\t<tr><th scope=col>CHR</th><th scope=col>BP</th><th scope=col>SNP</th><th scope=col>A1</th><th scope=col>A2</th><th scope=col>Z</th><th scope=col>SE</th><th scope=col>P</th></tr>\n",
       "\t<tr><th scope=col>&lt;int&gt;</th><th scope=col>&lt;int&gt;</th><th scope=col>&lt;chr&gt;</th><th scope=col>&lt;chr&gt;</th><th scope=col>&lt;chr&gt;</th><th scope=col>&lt;dbl&gt;</th><th scope=col>&lt;dbl&gt;</th><th scope=col>&lt;dbl&gt;</th></tr>\n",
       "</thead>\n",
       "<tbody>\n",
       "\t<tr><td>22</td><td>16613859</td><td>rs2096537 </td><td>A</td><td>C</td><td>-0.3358522</td><td>0.0131</td><td>0.7380</td></tr>\n",
       "\t<tr><td>22</td><td>16615974</td><td>rs16984366</td><td>T</td><td>C</td><td>-0.8527172</td><td>0.0102</td><td>0.3976</td></tr>\n",
       "\t<tr><td>22</td><td>16618572</td><td>rs8141034 </td><td>C</td><td>G</td><td>-0.8329401</td><td>0.0102</td><td>0.4050</td></tr>\n",
       "\t<tr><td>22</td><td>16623479</td><td>rs9606012 </td><td>T</td><td>C</td><td>-0.6465090</td><td>0.0099</td><td>0.5174</td></tr>\n",
       "\t<tr><td>22</td><td>16624111</td><td>rs8137722 </td><td>T</td><td>G</td><td>-0.6363437</td><td>0.0099</td><td>0.5238</td></tr>\n",
       "\t<tr><td>22</td><td>16624607</td><td>rs11703045</td><td>C</td><td>T</td><td>-0.8428282</td><td>0.0102</td><td>0.3998</td></tr>\n",
       "</tbody>\n",
       "</table>\n"
      ],
      "text/latex": [
       "A data.table: 6 × 8\n",
       "\\begin{tabular}{llllllll}\n",
       " CHR & BP & SNP & A1 & A2 & Z & SE & P\\\\\n",
       " <int> & <int> & <chr> & <chr> & <chr> & <dbl> & <dbl> & <dbl>\\\\\n",
       "\\hline\n",
       "\t 22 & 16613859 & rs2096537  & A & C & -0.3358522 & 0.0131 & 0.7380\\\\\n",
       "\t 22 & 16615974 & rs16984366 & T & C & -0.8527172 & 0.0102 & 0.3976\\\\\n",
       "\t 22 & 16618572 & rs8141034  & C & G & -0.8329401 & 0.0102 & 0.4050\\\\\n",
       "\t 22 & 16623479 & rs9606012  & T & C & -0.6465090 & 0.0099 & 0.5174\\\\\n",
       "\t 22 & 16624111 & rs8137722  & T & G & -0.6363437 & 0.0099 & 0.5238\\\\\n",
       "\t 22 & 16624607 & rs11703045 & C & T & -0.8428282 & 0.0102 & 0.3998\\\\\n",
       "\\end{tabular}\n"
      ],
      "text/markdown": [
       "\n",
       "A data.table: 6 × 8\n",
       "\n",
       "| CHR &lt;int&gt; | BP &lt;int&gt; | SNP &lt;chr&gt; | A1 &lt;chr&gt; | A2 &lt;chr&gt; | Z &lt;dbl&gt; | SE &lt;dbl&gt; | P &lt;dbl&gt; |\n",
       "|---|---|---|---|---|---|---|---|\n",
       "| 22 | 16613859 | rs2096537  | A | C | -0.3358522 | 0.0131 | 0.7380 |\n",
       "| 22 | 16615974 | rs16984366 | T | C | -0.8527172 | 0.0102 | 0.3976 |\n",
       "| 22 | 16618572 | rs8141034  | C | G | -0.8329401 | 0.0102 | 0.4050 |\n",
       "| 22 | 16623479 | rs9606012  | T | C | -0.6465090 | 0.0099 | 0.5174 |\n",
       "| 22 | 16624111 | rs8137722  | T | G | -0.6363437 | 0.0099 | 0.5238 |\n",
       "| 22 | 16624607 | rs11703045 | C | T | -0.8428282 | 0.0102 | 0.3998 |\n",
       "\n"
      ],
      "text/plain": [
       "  CHR BP       SNP        A1 A2 Z          SE     P     \n",
       "1 22  16613859 rs2096537  A  C  -0.3358522 0.0131 0.7380\n",
       "2 22  16615974 rs16984366 T  C  -0.8527172 0.0102 0.3976\n",
       "3 22  16618572 rs8141034  C  G  -0.8329401 0.0102 0.4050\n",
       "4 22  16623479 rs9606012  T  C  -0.6465090 0.0099 0.5174\n",
       "5 22  16624111 rs8137722  T  G  -0.6363437 0.0099 0.5238\n",
       "6 22  16624607 rs11703045 C  T  -0.8428282 0.0102 0.3998"
      ]
     },
     "metadata": {},
     "output_type": "display_data"
    }
   ],
   "source": [
    "head(summary_stats)"
   ]
  },
  {
   "cell_type": "code",
   "execution_count": 65,
   "id": "71220642-015b-4fe8-92f4-b76580bfebd2",
   "metadata": {},
   "outputs": [],
   "source": [
    "merged_data[, matches_ref := (A1 == REF_EUR & A2 == ALT_EUR) | (A1 == ALT_EUR & A2 == REF_EUR)]"
   ]
  },
  {
   "cell_type": "markdown",
   "id": "e3639e45-d3b1-470c-bcf1-acc060571efb",
   "metadata": {},
   "source": [
    "## Try for all chr"
   ]
  },
  {
   "cell_type": "code",
   "execution_count": 118,
   "id": "83d109cf-85bd-4643-bc3e-64cf31fa419f",
   "metadata": {},
   "outputs": [
    {
     "name": "stderr",
     "output_type": "stream",
     "text": [
      "Warning message in fread(summary_stats_path):\n",
      "“Detected 1 column names but the data has 16 columns (i.e. invalid file). Added 15 extra default column names at the end.”\n"
     ]
    },
    {
     "name": "stdout",
     "output_type": "stream",
     "text": [
      "[1] \"Setting Z\"\n",
      "Rows after first merge with ref: 448580 \n",
      "Rows after second merge with libd: 448580 \n",
      "Rows after first merge with ref: 502799 \n",
      "Rows after second merge with libd: 502799 \n",
      "Rows after first merge with ref: 429002 \n",
      "Rows after second merge with libd: 429002 \n",
      "Rows after first merge with ref: 435606 \n",
      "Rows after second merge with libd: 435606 \n",
      "Rows after first merge with ref: 380611 \n",
      "Rows after second merge with libd: 380611 \n",
      "Rows after first merge with ref: 373969 \n",
      "Rows after second merge with libd: 373969 \n",
      "Rows after first merge with ref: 345873 \n",
      "Rows after second merge with libd: 345873 \n",
      "Rows after first merge with ref: 336685 \n",
      "Rows after second merge with libd: 336685 \n",
      "Rows after first merge with ref: 253858 \n",
      "Rows after second merge with libd: 253858 \n",
      "Rows after first merge with ref: 305527 \n",
      "Rows after second merge with libd: 305527 \n",
      "Rows after first merge with ref: 293498 \n",
      "Rows after second merge with libd: 293498 \n",
      "Rows after first merge with ref: 278630 \n",
      "Rows after second merge with libd: 278630 \n",
      "Rows after first merge with ref: 225271 \n",
      "Rows after second merge with libd: 225271 \n",
      "Rows after first merge with ref: 192568 \n",
      "Rows after second merge with libd: 192568 \n",
      "Rows after first merge with ref: 165315 \n",
      "Rows after second merge with libd: 165315 \n",
      "Rows after first merge with ref: 179545 \n",
      "Rows after second merge with libd: 179545 \n",
      "Rows after first merge with ref: 149786 \n",
      "Rows after second merge with libd: 149786 \n",
      "Rows after first merge with ref: 171245 \n",
      "Rows after second merge with libd: 171245 \n",
      "Rows after first merge with ref: 118848 \n",
      "Rows after second merge with libd: 118848 \n",
      "Rows after first merge with ref: 133790 \n",
      "Rows after second merge with libd: 133790 \n",
      "Rows after first merge with ref: 82864 \n",
      "Rows after second merge with libd: 82864 \n",
      "Rows after first merge with ref: 75839 \n",
      "Rows after second merge with libd: 75839 \n",
      "Total rows in all_processed before saving: 5879709 \n",
      "[1] \"Setting Z\"\n",
      "Rows after first merge with ref: 448580 \n",
      "Rows after second merge with libd: 448580 \n",
      "Rows after first merge with ref: 502799 \n",
      "Rows after second merge with libd: 502799 \n",
      "Rows after first merge with ref: 429002 \n",
      "Rows after second merge with libd: 429002 \n",
      "Rows after first merge with ref: 435606 \n",
      "Rows after second merge with libd: 435606 \n",
      "Rows after first merge with ref: 380611 \n",
      "Rows after second merge with libd: 380611 \n",
      "Rows after first merge with ref: 373969 \n",
      "Rows after second merge with libd: 373969 \n",
      "Rows after first merge with ref: 345873 \n",
      "Rows after second merge with libd: 345873 \n",
      "Rows after first merge with ref: 336685 \n",
      "Rows after second merge with libd: 336685 \n",
      "Rows after first merge with ref: 253858 \n",
      "Rows after second merge with libd: 253858 \n",
      "Rows after first merge with ref: 305527 \n",
      "Rows after second merge with libd: 305527 \n",
      "Rows after first merge with ref: 293498 \n",
      "Rows after second merge with libd: 293498 \n",
      "Rows after first merge with ref: 278630 \n",
      "Rows after second merge with libd: 278630 \n",
      "Rows after first merge with ref: 225271 \n",
      "Rows after second merge with libd: 225271 \n",
      "Rows after first merge with ref: 192568 \n",
      "Rows after second merge with libd: 192568 \n",
      "Rows after first merge with ref: 165315 \n",
      "Rows after second merge with libd: 165315 \n",
      "Rows after first merge with ref: 179545 \n",
      "Rows after second merge with libd: 179545 \n",
      "Rows after first merge with ref: 149786 \n",
      "Rows after second merge with libd: 149786 \n",
      "Rows after first merge with ref: 171245 \n",
      "Rows after second merge with libd: 171245 \n",
      "Rows after first merge with ref: 118848 \n",
      "Rows after second merge with libd: 118848 \n",
      "Rows after first merge with ref: 133790 \n",
      "Rows after second merge with libd: 133790 \n",
      "Rows after first merge with ref: 82864 \n",
      "Rows after second merge with libd: 82864 \n",
      "Rows after first merge with ref: 75839 \n",
      "Rows after second merge with libd: 75839 \n",
      "Total rows in all_processed before saving: 5879709 \n"
     ]
    },
    {
     "name": "stderr",
     "output_type": "stream",
     "text": [
      "Warning message in fread(summary_stats_path):\n",
      "“Detected 1 column names but the data has 19 columns (i.e. invalid file). Added 18 extra default column names at the end.”\n"
     ]
    },
    {
     "name": "stdout",
     "output_type": "stream",
     "text": [
      "[1] \"Setting Z\"\n",
      "Rows after first merge with ref: 448580 \n",
      "Rows after second merge with libd: 448580 \n",
      "Rows after first merge with ref: 502799 \n",
      "Rows after second merge with libd: 502799 \n",
      "Rows after first merge with ref: 429002 \n",
      "Rows after second merge with libd: 429002 \n",
      "Rows after first merge with ref: 435606 \n",
      "Rows after second merge with libd: 435606 \n",
      "Rows after first merge with ref: 380611 \n",
      "Rows after second merge with libd: 380611 \n",
      "Rows after first merge with ref: 373969 \n",
      "Rows after second merge with libd: 373969 \n",
      "Rows after first merge with ref: 345873 \n",
      "Rows after second merge with libd: 345873 \n",
      "Rows after first merge with ref: 336685 \n",
      "Rows after second merge with libd: 336685 \n",
      "Rows after first merge with ref: 253858 \n",
      "Rows after second merge with libd: 253858 \n",
      "Rows after first merge with ref: 305527 \n",
      "Rows after second merge with libd: 305527 \n",
      "Rows after first merge with ref: 293498 \n",
      "Rows after second merge with libd: 293498 \n",
      "Rows after first merge with ref: 278630 \n",
      "Rows after second merge with libd: 278630 \n",
      "Rows after first merge with ref: 225271 \n",
      "Rows after second merge with libd: 225271 \n",
      "Rows after first merge with ref: 192568 \n",
      "Rows after second merge with libd: 192568 \n",
      "Rows after first merge with ref: 165315 \n",
      "Rows after second merge with libd: 165315 \n",
      "Rows after first merge with ref: 179545 \n",
      "Rows after second merge with libd: 179545 \n",
      "Rows after first merge with ref: 149786 \n",
      "Rows after second merge with libd: 149786 \n",
      "Rows after first merge with ref: 171245 \n",
      "Rows after second merge with libd: 171245 \n",
      "Rows after first merge with ref: 118848 \n",
      "Rows after second merge with libd: 118848 \n",
      "Rows after first merge with ref: 133790 \n",
      "Rows after second merge with libd: 133790 \n",
      "Rows after first merge with ref: 82864 \n",
      "Rows after second merge with libd: 82864 \n",
      "Rows after first merge with ref: 75839 \n",
      "Rows after second merge with libd: 75839 \n",
      "Total rows in all_processed before saving: 5879709 \n"
     ]
    }
   ],
   "source": [
    "library(data.table)\n",
    "\n",
    "# List all summary statistics files\n",
    "# summary_stats_paths <- list.files(\"\", pattern = \"alleleprocessed.txt\", full.names = TRUE)\n",
    "\n",
    "for (summary_stats_path in summary_stats_paths) {\n",
    "    \n",
    "    output_path <- sub(\".txt\", \"_alleleprocessed_a2.txt\", summary_stats_path)\n",
    "    \n",
    "    if (!grepl(\"\\\\.\", basename(output_path))) {\n",
    "        output_path <- paste0(output_path, \"_alleleprocessed_a2.txt\")\n",
    "    }\n",
    "\n",
    "    summary_stats <- fread(summary_stats_path)\n",
    "    summary_stats <- clean_and_standardize_colnames(summary_stats)\n",
    "\n",
    "    # Loop through each chromosome\n",
    "    all_processed <- data.table()  # Initialize an empty data.table to collect processed data\n",
    "\n",
    "    for (chr in 1:22) {\n",
    "        # Filter the data for the current chromosome\n",
    "        chr_stats <- summary_stats[CHR == chr]\n",
    "\n",
    "        # Load reference and LIBD data\n",
    "        ref <- fread(paste0(\"/expanse/lustre/projects/jhu152/naglemi/mwas/gwas_flipped/ref_EUR_allele-match-a2-libd_chr\", chr, \".pvar\"),\n",
    "                     select = c(\"#CHROM\", \"POS\", \"REF\", \"ALT\"),\n",
    "                     col.names = c(\"CHR\", \"BP\", \"REF\", \"ALT\"))\n",
    "\n",
    "        libd <- fread(paste0(\"/expanse/lustre/projects/jhu152/naglemi/mwas/gwas/libd_chr\", chr, \".pvar\"),\n",
    "                      select = c(\"#CHROM\", \"POS\", \"REF\", \"ALT\"),\n",
    "                      col.names = c(\"CHR\", \"BP\", \"REF_libd\", \"ALT_libd\"))\n",
    "\n",
    "        # Merge with reference and LIBD data by CHR and BP\n",
    "        merged_ref <- merge(chr_stats, ref, by = c(\"CHR\", \"BP\"), suffixes = c(\"\", \"_ref\"))\n",
    "        cat(\"Rows after first merge with ref:\", nrow(merged_ref), \"\\n\")\n",
    "        if (nrow(merged_ref) == 0) stop(\"No rows left after first merge with ref. Check merge keys and data.\")\n",
    "\n",
    "        merged_data <- merge(merged_ref, libd, by = c(\"CHR\", \"BP\"), suffixes = c(\"\", \"_libd\"))\n",
    "        cat(\"Rows after second merge with libd:\", nrow(merged_data), \"\\n\")\n",
    "        if (nrow(merged_data) == 0) stop(\"No rows left after second merge with libd. Check merge keys and data.\")\n",
    "\n",
    "        # Sanity check: Ensure REF == REF_libd and ALT == ALT_libd\n",
    "        if (any(merged_data$REF != merged_data$REF_libd | merged_data$ALT != merged_data$ALT_libd)) {\n",
    "            stop(\"Sanity check failed: REF and ALT do not match between reference and LIBD data.\")\n",
    "        }\n",
    "\n",
    "        # Identify and flip alleles where necessary\n",
    "        flip_index <- merged_data[\n",
    "            !((A1 == REF & A2 == ALT) | (A1 == ALT & A2 == REF)),  # Mismatch with REF/ALT\n",
    "            .I\n",
    "        ]\n",
    "\n",
    "        # Flip alleles and Z where necessary\n",
    "        if (length(flip_index) > 0) {\n",
    "            merged_data[flip_index, `:=`(A1 = A2, A2 = A1, Z = -Z)]\n",
    "        }\n",
    "\n",
    "        # Final sanity check: Ensure A1/A2, REF/ALT, and REF_libd/ALT_libd are in matching order\n",
    "        final_check <- merged_data[\n",
    "            !(\n",
    "                ((A1 == REF & A2 == ALT) | (A1 == ALT & A2 == REF)) &\n",
    "                ((A1 == REF_libd & A2 == ALT_libd) | (A1 == ALT_libd & A2 == REF_libd))\n",
    "            )\n",
    "        ]\n",
    "        \n",
    "        if (nrow(final_check) > 0) {\n",
    "            cat(\"Rows failing final sanity check:\\n\")\n",
    "            print(final_check[, .(CHR, BP, A1, A2, REF, ALT, REF_libd, ALT_libd)])\n",
    "            stop(\"Final sanity check failed: A1/A2, REF/ALT, and REF_libd/ALT_libd do not match in some rows.\")\n",
    "        }\n",
    "\n",
    "        # Define the columns that need to be retained, ensuring flexibility\n",
    "        retain_cols <- intersect(c(\"CHR\", \"BP\", \"SNP\", \"A1\", \"A2\", \"Z\", \"SE\", \"P\", \"PVAL\", \"Freq\", \n",
    "                                   \"NGT\", \"FCAS\", \"FCON\", \"IMPINFO\", \"NEFFDIV2\", \"NCAS\", \"NCON\", \"DIRE\"), \n",
    "                                 names(merged_data))\n",
    "        \n",
    "        processed_chr <- merged_data[, ..retain_cols]\n",
    "\n",
    "        # Collect processed data for the current chromosome\n",
    "        all_processed <- rbind(all_processed, processed_chr)\n",
    "    }\n",
    "\n",
    "    # Write the updated summary statistics back to the file\n",
    "    cat(\"Total rows in all_processed before saving:\", nrow(all_processed), \"\\n\")\n",
    "    fwrite(all_processed, output_path)\n",
    "}"
   ]
  },
  {
   "cell_type": "code",
   "execution_count": 119,
   "id": "ee766f33-4fbe-4b3a-9652-012cefd26a2d",
   "metadata": {},
   "outputs": [
    {
     "data": {
      "text/html": [
       "5879740"
      ],
      "text/latex": [
       "5879740"
      ],
      "text/markdown": [
       "5879740"
      ],
      "text/plain": [
       "[1] 5879740"
      ]
     },
     "metadata": {},
     "output_type": "display_data"
    }
   ],
   "source": [
    "nrow(summary_stats)"
   ]
  },
  {
   "cell_type": "code",
   "execution_count": 120,
   "id": "37793e64-6e9f-4568-90b2-8960f46ef77b",
   "metadata": {},
   "outputs": [
    {
     "data": {
      "text/html": [
       "75839"
      ],
      "text/latex": [
       "75839"
      ],
      "text/markdown": [
       "75839"
      ],
      "text/plain": [
       "[1] 75839"
      ]
     },
     "metadata": {},
     "output_type": "display_data"
    }
   ],
   "source": [
    "nrow(ref)"
   ]
  },
  {
   "cell_type": "code",
   "execution_count": null,
   "id": "da928497-63b3-4464-a6ad-9a7790e580b7",
   "metadata": {},
   "outputs": [],
   "source": []
  },
  {
   "cell_type": "code",
   "execution_count": 99,
   "id": "9aba3084-4898-4d64-87c9-23bc43a4e96d",
   "metadata": {},
   "outputs": [
    {
     "data": {
      "text/html": [
       "<table class=\"dataframe\">\n",
       "<caption>A data.table: 6 × 21</caption>\n",
       "<thead>\n",
       "\t<tr><th scope=col>CHR</th><th scope=col>SNP</th><th scope=col>BP</th><th scope=col>A1</th><th scope=col>A2</th><th scope=col>FRQ_A_53386</th><th scope=col>FRQ_U_77258</th><th scope=col>INFO</th><th scope=col>OR</th><th scope=col>SE</th><th scope=col>⋯</th><th scope=col>ngt</th><th scope=col>Direction</th><th scope=col>HetISqt</th><th scope=col>HetDf</th><th scope=col>HetPVa</th><th scope=col>Nca</th><th scope=col>Nco</th><th scope=col>Neff</th><th scope=col>logOR</th><th scope=col>Z</th></tr>\n",
       "\t<tr><th scope=col>&lt;int&gt;</th><th scope=col>&lt;chr&gt;</th><th scope=col>&lt;int&gt;</th><th scope=col>&lt;chr&gt;</th><th scope=col>&lt;chr&gt;</th><th scope=col>&lt;dbl&gt;</th><th scope=col>&lt;dbl&gt;</th><th scope=col>&lt;dbl&gt;</th><th scope=col>&lt;dbl&gt;</th><th scope=col>&lt;dbl&gt;</th><th scope=col>⋯</th><th scope=col>&lt;int&gt;</th><th scope=col>&lt;chr&gt;</th><th scope=col>&lt;dbl&gt;</th><th scope=col>&lt;int&gt;</th><th scope=col>&lt;dbl&gt;</th><th scope=col>&lt;int&gt;</th><th scope=col>&lt;int&gt;</th><th scope=col>&lt;dbl&gt;</th><th scope=col>&lt;dbl&gt;</th><th scope=col>&lt;dbl&gt;</th></tr>\n",
       "</thead>\n",
       "<tbody>\n",
       "\t<tr><td>10</td><td>10:100082385_C_A</td><td>98322628</td><td>C</td><td>A</td><td>0.932</td><td>0.932</td><td>0.978</td><td>1.02501</td><td>0.0172</td><td>⋯</td><td> 0</td><td>--+-+------+-+-+-++-+-++++---+++++-----+-+--+--++-+--++-+--+++++-+++--+-----</td><td> 0.0</td><td>75</td><td>0.64320</td><td>53386</td><td>77258</td><td>58749.13</td><td> 0.024702369</td><td> 1.4361842</td></tr>\n",
       "\t<tr><td>10</td><td>10:100189568_C_A</td><td>98429811</td><td>C</td><td>A</td><td>0.927</td><td>0.925</td><td>0.913</td><td>1.01857</td><td>0.0172</td><td>⋯</td><td>33</td><td>+++-+----++++-+-+---+--++-+++-+++-----+---+++++--+-----+--+---+-+-++-+--++-+</td><td>11.7</td><td>75</td><td>0.20360</td><td>53386</td><td>77258</td><td>58749.13</td><td> 0.018399683</td><td> 1.0697490</td></tr>\n",
       "\t<tr><td>10</td><td>10:100383999_C_G</td><td>98624242</td><td>C</td><td>G</td><td>0.799</td><td>0.800</td><td>0.992</td><td>0.99144</td><td>0.0108</td><td>⋯</td><td> 0</td><td>++----+++-+--+++-++++++-++--++-+---+-++---+-+-+-+-+--+++-++--+++------+++++-</td><td> 2.4</td><td>75</td><td>0.41880</td><td>53386</td><td>77258</td><td>58749.13</td><td>-0.008596847</td><td>-0.7960044</td></tr>\n",
       "\t<tr><td>10</td><td>10:100806365_A_C</td><td>99046608</td><td>A</td><td>C</td><td>0.118</td><td>0.118</td><td>1.000</td><td>0.98432</td><td>0.0134</td><td>⋯</td><td>30</td><td>+0-++-++----+++++-++-+----+-++-+-++--+++----------++-----+---+++----+---+++-</td><td>19.5</td><td>75</td><td>0.07654</td><td>53386</td><td>77258</td><td>58749.13</td><td>-0.015804232</td><td>-1.1794203</td></tr>\n",
       "\t<tr><td>10</td><td>10:100813720_C_T</td><td>99053963</td><td>C</td><td>T</td><td>0.117</td><td>0.118</td><td>0.999</td><td>0.98285</td><td>0.0134</td><td>⋯</td><td> 0</td><td>-++--+--++++-----+--+-++++-+--+-+--++---++++++++++--+++++-+++---++++-+++---+</td><td>17.7</td><td>75</td><td>0.09876</td><td>53386</td><td>77258</td><td>58749.13</td><td>-0.017298765</td><td>-1.2909526</td></tr>\n",
       "\t<tr><td>10</td><td>10:101257658_T_G</td><td>99497901</td><td>T</td><td>G</td><td>0.257</td><td>0.258</td><td>1.000</td><td>1.00451</td><td>0.0098</td><td>⋯</td><td> 0</td><td>-+++-------+++-+--+++++--+--++++-+--+-++---+++++++-----+++--+--+-+--++++++-+</td><td>17.3</td><td>75</td><td>0.10460</td><td>53386</td><td>77258</td><td>58749.13</td><td> 0.004499860</td><td> 0.4591694</td></tr>\n",
       "</tbody>\n",
       "</table>\n"
      ],
      "text/latex": [
       "A data.table: 6 × 21\n",
       "\\begin{tabular}{lllllllllllllllllllll}\n",
       " CHR & SNP & BP & A1 & A2 & FRQ\\_A\\_53386 & FRQ\\_U\\_77258 & INFO & OR & SE & ⋯ & ngt & Direction & HetISqt & HetDf & HetPVa & Nca & Nco & Neff & logOR & Z\\\\\n",
       " <int> & <chr> & <int> & <chr> & <chr> & <dbl> & <dbl> & <dbl> & <dbl> & <dbl> & ⋯ & <int> & <chr> & <dbl> & <int> & <dbl> & <int> & <int> & <dbl> & <dbl> & <dbl>\\\\\n",
       "\\hline\n",
       "\t 10 & 10:100082385\\_C\\_A & 98322628 & C & A & 0.932 & 0.932 & 0.978 & 1.02501 & 0.0172 & ⋯ &  0 & --+-+------+-+-+-++-+-++++---+++++-----+-+--+--++-+--++-+--+++++-+++--+----- &  0.0 & 75 & 0.64320 & 53386 & 77258 & 58749.13 &  0.024702369 &  1.4361842\\\\\n",
       "\t 10 & 10:100189568\\_C\\_A & 98429811 & C & A & 0.927 & 0.925 & 0.913 & 1.01857 & 0.0172 & ⋯ & 33 & +++-+----++++-+-+---+--++-+++-+++-----+---+++++--+-----+--+---+-+-++-+--++-+ & 11.7 & 75 & 0.20360 & 53386 & 77258 & 58749.13 &  0.018399683 &  1.0697490\\\\\n",
       "\t 10 & 10:100383999\\_C\\_G & 98624242 & C & G & 0.799 & 0.800 & 0.992 & 0.99144 & 0.0108 & ⋯ &  0 & ++----+++-+--+++-++++++-++--++-+---+-++---+-+-+-+-+--+++-++--+++------+++++- &  2.4 & 75 & 0.41880 & 53386 & 77258 & 58749.13 & -0.008596847 & -0.7960044\\\\\n",
       "\t 10 & 10:100806365\\_A\\_C & 99046608 & A & C & 0.118 & 0.118 & 1.000 & 0.98432 & 0.0134 & ⋯ & 30 & +0-++-++----+++++-++-+----+-++-+-++--+++----------++-----+---+++----+---+++- & 19.5 & 75 & 0.07654 & 53386 & 77258 & 58749.13 & -0.015804232 & -1.1794203\\\\\n",
       "\t 10 & 10:100813720\\_C\\_T & 99053963 & C & T & 0.117 & 0.118 & 0.999 & 0.98285 & 0.0134 & ⋯ &  0 & -++--+--++++-----+--+-++++-+--+-+--++---++++++++++--+++++-+++---++++-+++---+ & 17.7 & 75 & 0.09876 & 53386 & 77258 & 58749.13 & -0.017298765 & -1.2909526\\\\\n",
       "\t 10 & 10:101257658\\_T\\_G & 99497901 & T & G & 0.257 & 0.258 & 1.000 & 1.00451 & 0.0098 & ⋯ &  0 & -+++-------+++-+--+++++--+--++++-+--+-++---+++++++-----+++--+--+-+--++++++-+ & 17.3 & 75 & 0.10460 & 53386 & 77258 & 58749.13 &  0.004499860 &  0.4591694\\\\\n",
       "\\end{tabular}\n"
      ],
      "text/markdown": [
       "\n",
       "A data.table: 6 × 21\n",
       "\n",
       "| CHR &lt;int&gt; | SNP &lt;chr&gt; | BP &lt;int&gt; | A1 &lt;chr&gt; | A2 &lt;chr&gt; | FRQ_A_53386 &lt;dbl&gt; | FRQ_U_77258 &lt;dbl&gt; | INFO &lt;dbl&gt; | OR &lt;dbl&gt; | SE &lt;dbl&gt; | ⋯ ⋯ | ngt &lt;int&gt; | Direction &lt;chr&gt; | HetISqt &lt;dbl&gt; | HetDf &lt;int&gt; | HetPVa &lt;dbl&gt; | Nca &lt;int&gt; | Nco &lt;int&gt; | Neff &lt;dbl&gt; | logOR &lt;dbl&gt; | Z &lt;dbl&gt; |\n",
       "|---|---|---|---|---|---|---|---|---|---|---|---|---|---|---|---|---|---|---|---|---|\n",
       "| 10 | 10:100082385_C_A | 98322628 | C | A | 0.932 | 0.932 | 0.978 | 1.02501 | 0.0172 | ⋯ |  0 | --+-+------+-+-+-++-+-++++---+++++-----+-+--+--++-+--++-+--+++++-+++--+----- |  0.0 | 75 | 0.64320 | 53386 | 77258 | 58749.13 |  0.024702369 |  1.4361842 |\n",
       "| 10 | 10:100189568_C_A | 98429811 | C | A | 0.927 | 0.925 | 0.913 | 1.01857 | 0.0172 | ⋯ | 33 | +++-+----++++-+-+---+--++-+++-+++-----+---+++++--+-----+--+---+-+-++-+--++-+ | 11.7 | 75 | 0.20360 | 53386 | 77258 | 58749.13 |  0.018399683 |  1.0697490 |\n",
       "| 10 | 10:100383999_C_G | 98624242 | C | G | 0.799 | 0.800 | 0.992 | 0.99144 | 0.0108 | ⋯ |  0 | ++----+++-+--+++-++++++-++--++-+---+-++---+-+-+-+-+--+++-++--+++------+++++- |  2.4 | 75 | 0.41880 | 53386 | 77258 | 58749.13 | -0.008596847 | -0.7960044 |\n",
       "| 10 | 10:100806365_A_C | 99046608 | A | C | 0.118 | 0.118 | 1.000 | 0.98432 | 0.0134 | ⋯ | 30 | +0-++-++----+++++-++-+----+-++-+-++--+++----------++-----+---+++----+---+++- | 19.5 | 75 | 0.07654 | 53386 | 77258 | 58749.13 | -0.015804232 | -1.1794203 |\n",
       "| 10 | 10:100813720_C_T | 99053963 | C | T | 0.117 | 0.118 | 0.999 | 0.98285 | 0.0134 | ⋯ |  0 | -++--+--++++-----+--+-++++-+--+-+--++---++++++++++--+++++-+++---++++-+++---+ | 17.7 | 75 | 0.09876 | 53386 | 77258 | 58749.13 | -0.017298765 | -1.2909526 |\n",
       "| 10 | 10:101257658_T_G | 99497901 | T | G | 0.257 | 0.258 | 1.000 | 1.00451 | 0.0098 | ⋯ |  0 | -+++-------+++-+--+++++--+--++++-+--+-++---+++++++-----+++--+--+-+--++++++-+ | 17.3 | 75 | 0.10460 | 53386 | 77258 | 58749.13 |  0.004499860 |  0.4591694 |\n",
       "\n"
      ],
      "text/plain": [
       "  CHR SNP              BP       A1 A2 FRQ_A_53386 FRQ_U_77258 INFO  OR     \n",
       "1 10  10:100082385_C_A 98322628 C  A  0.932       0.932       0.978 1.02501\n",
       "2 10  10:100189568_C_A 98429811 C  A  0.927       0.925       0.913 1.01857\n",
       "3 10  10:100383999_C_G 98624242 C  G  0.799       0.800       0.992 0.99144\n",
       "4 10  10:100806365_A_C 99046608 A  C  0.118       0.118       1.000 0.98432\n",
       "5 10  10:100813720_C_T 99053963 C  T  0.117       0.118       0.999 0.98285\n",
       "6 10  10:101257658_T_G 99497901 T  G  0.257       0.258       1.000 1.00451\n",
       "  SE     ⋯ ngt\n",
       "1 0.0172 ⋯  0 \n",
       "2 0.0172 ⋯ 33 \n",
       "3 0.0108 ⋯  0 \n",
       "4 0.0134 ⋯ 30 \n",
       "5 0.0134 ⋯  0 \n",
       "6 0.0098 ⋯  0 \n",
       "  Direction                                                                   \n",
       "1 --+-+------+-+-+-++-+-++++---+++++-----+-+--+--++-+--++-+--+++++-+++--+-----\n",
       "2 +++-+----++++-+-+---+--++-+++-+++-----+---+++++--+-----+--+---+-+-++-+--++-+\n",
       "3 ++----+++-+--+++-++++++-++--++-+---+-++---+-+-+-+-+--+++-++--+++------+++++-\n",
       "4 +0-++-++----+++++-++-+----+-++-+-++--+++----------++-----+---+++----+---+++-\n",
       "5 -++--+--++++-----+--+-++++-+--+-+--++---++++++++++--+++++-+++---++++-+++---+\n",
       "6 -+++-------+++-+--+++++--+--++++-+--+-++---+++++++-----+++--+--+-+--++++++-+\n",
       "  HetISqt HetDf HetPVa  Nca   Nco   Neff     logOR        Z         \n",
       "1  0.0    75    0.64320 53386 77258 58749.13  0.024702369  1.4361842\n",
       "2 11.7    75    0.20360 53386 77258 58749.13  0.018399683  1.0697490\n",
       "3  2.4    75    0.41880 53386 77258 58749.13 -0.008596847 -0.7960044\n",
       "4 19.5    75    0.07654 53386 77258 58749.13 -0.015804232 -1.1794203\n",
       "5 17.7    75    0.09876 53386 77258 58749.13 -0.017298765 -1.2909526\n",
       "6 17.3    75    0.10460 53386 77258 58749.13  0.004499860  0.4591694"
      ]
     },
     "metadata": {},
     "output_type": "display_data"
    }
   ],
   "source": [
    "head(summary_stats_backup)"
   ]
  },
  {
   "cell_type": "markdown",
   "id": "ab6f9544-912e-4a12-96f7-e65601fcf8bd",
   "metadata": {},
   "source": [
    "Now finally, download the updated summary stats and re-run locally, then push update process_model_csv and pull onto EXPANSE, update deploy_stage_2_batch, and launch the slurm batch submission script."
   ]
  },
  {
   "cell_type": "code",
   "execution_count": 91,
   "id": "281e1ec5-36c0-48de-9648-40d0a7f4dc30",
   "metadata": {},
   "outputs": [],
   "source": [
    "# Load reference and LIBD data\n",
    "ref <- fread(paste0(\"/expanse/lustre/projects/jhu152/naglemi/mwas/gwas_flipped/ref_EUR_allele-match-a2-libd_chr\", chr, \".pvar\"),\n",
    "             select = c(\"#CHROM\", \"POS\", \"REF\", \"ALT\"),\n",
    "             col.names = c(\"CHR\", \"BP\", \"REF\", \"ALT\"))\n",
    "\n",
    "libd <- fread(paste0(\"/expanse/lustre/projects/jhu152/naglemi/mwas/gwas/libd_chr\", chr, \".pvar\"),\n",
    "              select = c(\"#CHROM\", \"POS\", \"REF\", \"ALT\"),\n",
    "              col.names = c(\"CHR\", \"BP\", \"REF_libd\", \"ALT_libd\"))\n",
    "\n",
    "# Merge with reference and LIBD data by CHR and BP\n",
    "merged_ref <- merge(summary_stats, ref, by = c(\"CHR\", \"BP\"), suffixes = c(\"\", \"_ref\"))\n",
    "merged_data <- merge(merged_ref, libd, by = c(\"CHR\", \"BP\"), suffixes = c(\"\", \"_libd\"))"
   ]
  },
  {
   "cell_type": "code",
   "execution_count": 92,
   "id": "a4634c5f-ac96-457a-99b7-24da228cea9b",
   "metadata": {},
   "outputs": [
    {
     "data": {
      "text/html": [
       "<table class=\"dataframe\">\n",
       "<caption>A data.table: 1 × 12</caption>\n",
       "<thead>\n",
       "\t<tr><th scope=col>CHR</th><th scope=col>BP</th><th scope=col>SNP</th><th scope=col>A1</th><th scope=col>A2</th><th scope=col>Z</th><th scope=col>SE</th><th scope=col>P</th><th scope=col>REF</th><th scope=col>ALT</th><th scope=col>REF_libd</th><th scope=col>ALT_libd</th></tr>\n",
       "\t<tr><th scope=col>&lt;int&gt;</th><th scope=col>&lt;int&gt;</th><th scope=col>&lt;chr&gt;</th><th scope=col>&lt;chr&gt;</th><th scope=col>&lt;chr&gt;</th><th scope=col>&lt;dbl&gt;</th><th scope=col>&lt;dbl&gt;</th><th scope=col>&lt;dbl&gt;</th><th scope=col>&lt;chr&gt;</th><th scope=col>&lt;chr&gt;</th><th scope=col>&lt;chr&gt;</th><th scope=col>&lt;chr&gt;</th></tr>\n",
       "</thead>\n",
       "<tbody>\n",
       "\t<tr><td>7</td><td>1910701</td><td>7:1950337_G_A</td><td>G</td><td>A</td><td>-4.925961</td><td>0.0108</td><td>8.399e-07</td><td>G</td><td>A</td><td>G</td><td>A</td></tr>\n",
       "</tbody>\n",
       "</table>\n"
      ],
      "text/latex": [
       "A data.table: 1 × 12\n",
       "\\begin{tabular}{llllllllllll}\n",
       " CHR & BP & SNP & A1 & A2 & Z & SE & P & REF & ALT & REF\\_libd & ALT\\_libd\\\\\n",
       " <int> & <int> & <chr> & <chr> & <chr> & <dbl> & <dbl> & <dbl> & <chr> & <chr> & <chr> & <chr>\\\\\n",
       "\\hline\n",
       "\t 7 & 1910701 & 7:1950337\\_G\\_A & G & A & -4.925961 & 0.0108 & 8.399e-07 & G & A & G & A\\\\\n",
       "\\end{tabular}\n"
      ],
      "text/markdown": [
       "\n",
       "A data.table: 1 × 12\n",
       "\n",
       "| CHR &lt;int&gt; | BP &lt;int&gt; | SNP &lt;chr&gt; | A1 &lt;chr&gt; | A2 &lt;chr&gt; | Z &lt;dbl&gt; | SE &lt;dbl&gt; | P &lt;dbl&gt; | REF &lt;chr&gt; | ALT &lt;chr&gt; | REF_libd &lt;chr&gt; | ALT_libd &lt;chr&gt; |\n",
       "|---|---|---|---|---|---|---|---|---|---|---|---|\n",
       "| 7 | 1910701 | 7:1950337_G_A | G | A | -4.925961 | 0.0108 | 8.399e-07 | G | A | G | A |\n",
       "\n"
      ],
      "text/plain": [
       "  CHR BP      SNP           A1 A2 Z         SE     P         REF ALT REF_libd\n",
       "1 7   1910701 7:1950337_G_A G  A  -4.925961 0.0108 8.399e-07 G   A   G       \n",
       "  ALT_libd\n",
       "1 A       "
      ]
     },
     "metadata": {},
     "output_type": "display_data"
    }
   ],
   "source": [
    "merged_data[which(merged_data$BP == 1910701), ]"
   ]
  },
  {
   "cell_type": "code",
   "execution_count": 93,
   "id": "650b7221-9908-4e2d-a76d-9d5405df0e07",
   "metadata": {},
   "outputs": [
    {
     "ename": "ERROR",
     "evalue": "Error in eval(expr, envir, enclos): object 'merged' not found\n",
     "output_type": "error",
     "traceback": [
      "Error in eval(expr, envir, enclos): object 'merged' not found\nTraceback:\n"
     ]
    }
   ],
   "source": [
    "merged"
   ]
  },
  {
   "cell_type": "code",
   "execution_count": 94,
   "id": "1f4e0f19-085d-46e9-bb18-dafd01e83601",
   "metadata": {},
   "outputs": [],
   "source": [
    "# Identify and flip alleles where necessary\n",
    "flip_index <- merged_data[\n",
    "    ((A1 == REF & A2 == ALT) | (A1 == ALT & A2 == REF)) &\n",
    "    ((A1 == REF_libd & A2 == ALT_libd) | (A1 == ALT_libd & A2 == REF_libd)),\n",
    "    .I\n",
    "]"
   ]
  },
  {
   "cell_type": "code",
   "execution_count": 95,
   "id": "0d222e79-a32f-4ca4-8883-db7859418a83",
   "metadata": {},
   "outputs": [
    {
     "data": {
      "text/html": [
       "<table class=\"dataframe\">\n",
       "<caption>A data.table: 345873 × 12</caption>\n",
       "<thead>\n",
       "\t<tr><th scope=col>CHR</th><th scope=col>BP</th><th scope=col>SNP</th><th scope=col>A1</th><th scope=col>A2</th><th scope=col>Z</th><th scope=col>SE</th><th scope=col>P</th><th scope=col>REF</th><th scope=col>ALT</th><th scope=col>REF_libd</th><th scope=col>ALT_libd</th></tr>\n",
       "\t<tr><th scope=col>&lt;int&gt;</th><th scope=col>&lt;int&gt;</th><th scope=col>&lt;chr&gt;</th><th scope=col>&lt;chr&gt;</th><th scope=col>&lt;chr&gt;</th><th scope=col>&lt;dbl&gt;</th><th scope=col>&lt;dbl&gt;</th><th scope=col>&lt;dbl&gt;</th><th scope=col>&lt;chr&gt;</th><th scope=col>&lt;chr&gt;</th><th scope=col>&lt;chr&gt;</th><th scope=col>&lt;chr&gt;</th></tr>\n",
       "</thead>\n",
       "<tbody>\n",
       "\t<tr><td>7</td><td>53998</td><td>rs7806592 </td><td>C</td><td>T</td><td> 0.8018266</td><td>0.0111</td><td>0.423800</td><td>C</td><td>T</td><td>C</td><td>T</td></tr>\n",
       "\t<tr><td>7</td><td>60728</td><td>rs4916941 </td><td>G</td><td>A</td><td>-0.4963431</td><td>0.0262</td><td>0.620500</td><td>G</td><td>A</td><td>G</td><td>A</td></tr>\n",
       "\t<tr><td>7</td><td>63494</td><td>rs6964622 </td><td>A</td><td>G</td><td> 1.1823599</td><td>0.0115</td><td>0.238400</td><td>A</td><td>G</td><td>A</td><td>G</td></tr>\n",
       "\t<tr><td>7</td><td>71938</td><td>rs13437666</td><td>A</td><td>C</td><td>-0.4243377</td><td>0.0264</td><td>0.671900</td><td>A</td><td>C</td><td>A</td><td>C</td></tr>\n",
       "\t<tr><td>7</td><td>80500</td><td>rs12533719</td><td>T</td><td>C</td><td> 0.5450317</td><td>0.0101</td><td>0.589400</td><td>T</td><td>C</td><td>T</td><td>C</td></tr>\n",
       "\t<tr><td>7</td><td>82240</td><td>rs13236314</td><td>C</td><td>T</td><td> 1.9830502</td><td>0.0116</td><td>0.047370</td><td>C</td><td>T</td><td>C</td><td>T</td></tr>\n",
       "\t<tr><td>7</td><td>82405</td><td>rs10229024</td><td>G</td><td>C</td><td> 1.4221336</td><td>0.0128</td><td>0.154300</td><td>G</td><td>C</td><td>G</td><td>C</td></tr>\n",
       "\t<tr><td>7</td><td>83185</td><td>rs4076161 </td><td>T</td><td>C</td><td>-0.7407283</td><td>0.0135</td><td>0.457300</td><td>T</td><td>C</td><td>T</td><td>C</td></tr>\n",
       "\t<tr><td>7</td><td>84356</td><td>rs59889022</td><td>C</td><td>T</td><td>-0.6293325</td><td>0.0135</td><td>0.527900</td><td>C</td><td>T</td><td>C</td><td>T</td></tr>\n",
       "\t<tr><td>7</td><td>84510</td><td>rs13244173</td><td>C</td><td>G</td><td> 1.7909939</td><td>0.0115</td><td>0.073200</td><td>C</td><td>G</td><td>C</td><td>G</td></tr>\n",
       "\t<tr><td>7</td><td>84523</td><td>rs73669530</td><td>G</td><td>C</td><td> 1.5198821</td><td>0.0127</td><td>0.127900</td><td>G</td><td>C</td><td>G</td><td>C</td></tr>\n",
       "\t<tr><td>7</td><td>85111</td><td>rs11764261</td><td>G</td><td>A</td><td> 1.8088807</td><td>0.0115</td><td>0.069940</td><td>G</td><td>A</td><td>G</td><td>A</td></tr>\n",
       "\t<tr><td>7</td><td>85261</td><td>rs10253011</td><td>C</td><td>T</td><td> 1.9742811</td><td>0.0118</td><td>0.047230</td><td>C</td><td>T</td><td>C</td><td>T</td></tr>\n",
       "\t<tr><td>7</td><td>85553</td><td>rs28429968</td><td>G</td><td>A</td><td>-0.7040763</td><td>0.0135</td><td>0.483400</td><td>G</td><td>A</td><td>G</td><td>A</td></tr>\n",
       "\t<tr><td>7</td><td>85667</td><td>rs77694351</td><td>G</td><td>A</td><td> 0.9888455</td><td>0.0271</td><td>0.323100</td><td>G</td><td>A</td><td>G</td><td>A</td></tr>\n",
       "\t<tr><td>7</td><td>85882</td><td>rs34540512</td><td>T</td><td>C</td><td> 1.7909939</td><td>0.0115</td><td>0.072640</td><td>T</td><td>C</td><td>T</td><td>C</td></tr>\n",
       "\t<tr><td>7</td><td>86014</td><td>rs12534287</td><td>G</td><td>A</td><td>-0.7108069</td><td>0.0135</td><td>0.478200</td><td>G</td><td>A</td><td>G</td><td>A</td></tr>\n",
       "\t<tr><td>7</td><td>86193</td><td>rs35457587</td><td>C</td><td>T</td><td> 3.2550104</td><td>0.0094</td><td>0.001059</td><td>C</td><td>T</td><td>C</td><td>T</td></tr>\n",
       "\t<tr><td>7</td><td>86925</td><td>rs60627273</td><td>A</td><td>G</td><td> 1.4525001</td><td>0.0126</td><td>0.146000</td><td>A</td><td>G</td><td>A</td><td>G</td></tr>\n",
       "\t<tr><td>7</td><td>87035</td><td>rs35256056</td><td>G</td><td>C</td><td> 3.2930863</td><td>0.0092</td><td>0.001008</td><td>G</td><td>C</td><td>G</td><td>C</td></tr>\n",
       "\t<tr><td>7</td><td>87382</td><td>rs10085724</td><td>C</td><td>T</td><td> 3.1305689</td><td>0.0092</td><td>0.001780</td><td>C</td><td>T</td><td>C</td><td>T</td></tr>\n",
       "\t<tr><td>7</td><td>87973</td><td>rs9642261 </td><td>G</td><td>C</td><td> 3.1516888</td><td>0.0092</td><td>0.001659</td><td>G</td><td>C</td><td>G</td><td>C</td></tr>\n",
       "\t<tr><td>7</td><td>88337</td><td>rs28645278</td><td>C</td><td>T</td><td>-1.3622550</td><td>0.0091</td><td>0.174500</td><td>C</td><td>T</td><td>C</td><td>T</td></tr>\n",
       "\t<tr><td>7</td><td>88552</td><td>rs11772211</td><td>T</td><td>C</td><td> 3.1411294</td><td>0.0092</td><td>0.001716</td><td>T</td><td>C</td><td>T</td><td>C</td></tr>\n",
       "\t<tr><td>7</td><td>88622</td><td>rs11771377</td><td>A</td><td>G</td><td> 3.1516888</td><td>0.0092</td><td>0.001630</td><td>A</td><td>G</td><td>A</td><td>G</td></tr>\n",
       "\t<tr><td>7</td><td>88722</td><td>rs11769996</td><td>C</td><td>T</td><td> 3.1083886</td><td>0.0092</td><td>0.001816</td><td>C</td><td>T</td><td>C</td><td>T</td></tr>\n",
       "\t<tr><td>7</td><td>88730</td><td>rs11771409</td><td>A</td><td>G</td><td> 3.1200074</td><td>0.0092</td><td>0.001850</td><td>A</td><td>G</td><td>A</td><td>G</td></tr>\n",
       "\t<tr><td>7</td><td>89165</td><td>rs73262656</td><td>G</td><td>T</td><td>-0.5883772</td><td>0.0136</td><td>0.555000</td><td>G</td><td>T</td><td>G</td><td>T</td></tr>\n",
       "\t<tr><td>7</td><td>89223</td><td>rs11763007</td><td>G</td><td>A</td><td> 1.8088807</td><td>0.0115</td><td>0.069220</td><td>G</td><td>A</td><td>G</td><td>A</td></tr>\n",
       "\t<tr><td>7</td><td>89274</td><td>rs11765733</td><td>C</td><td>T</td><td> 1.8161563</td><td>0.0114</td><td>0.070800</td><td>C</td><td>T</td><td>C</td><td>T</td></tr>\n",
       "\t<tr><td>⋮</td><td>⋮</td><td>⋮</td><td>⋮</td><td>⋮</td><td>⋮</td><td>⋮</td><td>⋮</td><td>⋮</td><td>⋮</td><td>⋮</td><td>⋮</td></tr>\n",
       "\t<tr><td>7</td><td>159259719</td><td>rs3976697  </td><td>G</td><td>A</td><td> 0.1611695</td><td>0.0093</td><td>0.87050</td><td>G</td><td>A</td><td>G</td><td>A</td></tr>\n",
       "\t<tr><td>7</td><td>159259876</td><td>rs3976696  </td><td>C</td><td>A</td><td> 0.1719055</td><td>0.0093</td><td>0.86270</td><td>C</td><td>A</td><td>C</td><td>A</td></tr>\n",
       "\t<tr><td>7</td><td>159260101</td><td>rs2142051  </td><td>A</td><td>G</td><td> 0.1611695</td><td>0.0093</td><td>0.87150</td><td>A</td><td>G</td><td>A</td><td>G</td></tr>\n",
       "\t<tr><td>7</td><td>159260132</td><td>rs2142052  </td><td>T</td><td>C</td><td> 0.1719055</td><td>0.0093</td><td>0.86300</td><td>T</td><td>C</td><td>T</td><td>C</td></tr>\n",
       "\t<tr><td>7</td><td>159260389</td><td>rs2142053  </td><td>A</td><td>G</td><td> 0.1719055</td><td>0.0093</td><td>0.86460</td><td>A</td><td>G</td><td>A</td><td>G</td></tr>\n",
       "\t<tr><td>7</td><td>159260422</td><td>rs2142054  </td><td>C</td><td>T</td><td> 0.1611695</td><td>0.0093</td><td>0.86860</td><td>C</td><td>T</td><td>C</td><td>T</td></tr>\n",
       "\t<tr><td>7</td><td>159260500</td><td>rs3976695  </td><td>A</td><td>T</td><td> 0.1719055</td><td>0.0093</td><td>0.86760</td><td>A</td><td>T</td><td>A</td><td>T</td></tr>\n",
       "\t<tr><td>7</td><td>159260652</td><td>rs3976694  </td><td>T</td><td>C</td><td> 0.1719055</td><td>0.0093</td><td>0.86200</td><td>T</td><td>C</td><td>T</td><td>C</td></tr>\n",
       "\t<tr><td>7</td><td>159260734</td><td>rs73530021 </td><td>T</td><td>C</td><td>-1.4418643</td><td>0.0154</td><td>0.14990</td><td>T</td><td>C</td><td>T</td><td>C</td></tr>\n",
       "\t<tr><td>7</td><td>159260906</td><td>rs3976693  </td><td>T</td><td>C</td><td> 0.1719055</td><td>0.0093</td><td>0.86120</td><td>T</td><td>C</td><td>T</td><td>C</td></tr>\n",
       "\t<tr><td>7</td><td>159261872</td><td>rs10226505 </td><td>A</td><td>G</td><td> 0.2041072</td><td>0.0093</td><td>0.84180</td><td>A</td><td>G</td><td>A</td><td>G</td></tr>\n",
       "\t<tr><td>7</td><td>159262480</td><td>rs1126338  </td><td>T</td><td>G</td><td>-0.2152691</td><td>0.0093</td><td>0.83090</td><td>T</td><td>G</td><td>T</td><td>G</td></tr>\n",
       "\t<tr><td>7</td><td>159262948</td><td>rs10452696 </td><td>G</td><td>A</td><td> 0.3186712</td><td>0.0094</td><td>0.74480</td><td>G</td><td>A</td><td>G</td><td>A</td></tr>\n",
       "\t<tr><td>7</td><td>159263012</td><td>rs6955507  </td><td>T</td><td>C</td><td> 0.3080642</td><td>0.0094</td><td>0.75740</td><td>T</td><td>C</td><td>T</td><td>C</td></tr>\n",
       "\t<tr><td>7</td><td>159267260</td><td>rs4909120  </td><td>T</td><td>C</td><td> 0.2684817</td><td>0.0093</td><td>0.78740</td><td>T</td><td>C</td><td>T</td><td>C</td></tr>\n",
       "\t<tr><td>7</td><td>159278280</td><td>rs6947160  </td><td>T</td><td>C</td><td>-0.6541431</td><td>0.0104</td><td>0.51240</td><td>T</td><td>C</td><td>T</td><td>C</td></tr>\n",
       "\t<tr><td>7</td><td>159279836</td><td>rs3961265  </td><td>A</td><td>C</td><td>-0.1937228</td><td>0.0093</td><td>0.84600</td><td>A</td><td>C</td><td>A</td><td>C</td></tr>\n",
       "\t<tr><td>7</td><td>159282783</td><td>rs77493655 </td><td>T</td><td>C</td><td>-1.6821101</td><td>0.0151</td><td>0.09158</td><td>T</td><td>C</td><td>T</td><td>C</td></tr>\n",
       "\t<tr><td>7</td><td>159283718</td><td>rs12698315 </td><td>C</td><td>A</td><td>-0.3089588</td><td>0.0094</td><td>0.75890</td><td>C</td><td>A</td><td>C</td><td>A</td></tr>\n",
       "\t<tr><td>7</td><td>159285223</td><td>rs113875378</td><td>C</td><td>T</td><td>-1.6889033</td><td>0.0151</td><td>0.09054</td><td>C</td><td>T</td><td>C</td><td>T</td></tr>\n",
       "\t<tr><td>7</td><td>159293642</td><td>rs79021196 </td><td>G</td><td>A</td><td> 0.7361027</td><td>0.0110</td><td>0.46390</td><td>G</td><td>A</td><td>G</td><td>A</td></tr>\n",
       "\t<tr><td>7</td><td>159294378</td><td>rs55658009 </td><td>A</td><td>C</td><td> 0.7361027</td><td>0.0110</td><td>0.45980</td><td>A</td><td>C</td><td>A</td><td>C</td></tr>\n",
       "\t<tr><td>7</td><td>159299298</td><td>rs55748415 </td><td>G</td><td>T</td><td> 0.7180657</td><td>0.0110</td><td>0.47250</td><td>G</td><td>T</td><td>G</td><td>T</td></tr>\n",
       "\t<tr><td>7</td><td>159313081</td><td>rs75088170 </td><td>A</td><td>C</td><td> 0.7839664</td><td>0.0111</td><td>0.43340</td><td>A</td><td>C</td><td>A</td><td>C</td></tr>\n",
       "\t<tr><td>7</td><td>159323644</td><td>rs77783338 </td><td>A</td><td>T</td><td> 0.7769667</td><td>0.0112</td><td>0.43770</td><td>A</td><td>T</td><td>A</td><td>T</td></tr>\n",
       "\t<tr><td>7</td><td>159325753</td><td>rs7790666  </td><td>G</td><td>A</td><td> 0.1052106</td><td>0.0095</td><td>0.91450</td><td>G</td><td>A</td><td>G</td><td>A</td></tr>\n",
       "\t<tr><td>7</td><td>159326796</td><td>rs1124425  </td><td>C</td><td>T</td><td> 0.8741239</td><td>0.0111</td><td>0.38070</td><td>C</td><td>T</td><td>C</td><td>T</td></tr>\n",
       "\t<tr><td>7</td><td>159328218</td><td>rs75680237 </td><td>T</td><td>C</td><td> 0.9820157</td><td>0.0111</td><td>0.32760</td><td>T</td><td>C</td><td>T</td><td>C</td></tr>\n",
       "\t<tr><td>7</td><td>159328540</td><td>rs76924940 </td><td>G</td><td>A</td><td> 0.6963843</td><td>0.0112</td><td>0.48480</td><td>G</td><td>A</td><td>G</td><td>A</td></tr>\n",
       "\t<tr><td>7</td><td>159329992</td><td>rs77163270 </td><td>A</td><td>T</td><td> 0.9119102</td><td>0.0114</td><td>0.36050</td><td>A</td><td>T</td><td>A</td><td>T</td></tr>\n",
       "</tbody>\n",
       "</table>\n"
      ],
      "text/latex": [
       "A data.table: 345873 × 12\n",
       "\\begin{tabular}{llllllllllll}\n",
       " CHR & BP & SNP & A1 & A2 & Z & SE & P & REF & ALT & REF\\_libd & ALT\\_libd\\\\\n",
       " <int> & <int> & <chr> & <chr> & <chr> & <dbl> & <dbl> & <dbl> & <chr> & <chr> & <chr> & <chr>\\\\\n",
       "\\hline\n",
       "\t 7 & 53998 & rs7806592  & C & T &  0.8018266 & 0.0111 & 0.423800 & C & T & C & T\\\\\n",
       "\t 7 & 60728 & rs4916941  & G & A & -0.4963431 & 0.0262 & 0.620500 & G & A & G & A\\\\\n",
       "\t 7 & 63494 & rs6964622  & A & G &  1.1823599 & 0.0115 & 0.238400 & A & G & A & G\\\\\n",
       "\t 7 & 71938 & rs13437666 & A & C & -0.4243377 & 0.0264 & 0.671900 & A & C & A & C\\\\\n",
       "\t 7 & 80500 & rs12533719 & T & C &  0.5450317 & 0.0101 & 0.589400 & T & C & T & C\\\\\n",
       "\t 7 & 82240 & rs13236314 & C & T &  1.9830502 & 0.0116 & 0.047370 & C & T & C & T\\\\\n",
       "\t 7 & 82405 & rs10229024 & G & C &  1.4221336 & 0.0128 & 0.154300 & G & C & G & C\\\\\n",
       "\t 7 & 83185 & rs4076161  & T & C & -0.7407283 & 0.0135 & 0.457300 & T & C & T & C\\\\\n",
       "\t 7 & 84356 & rs59889022 & C & T & -0.6293325 & 0.0135 & 0.527900 & C & T & C & T\\\\\n",
       "\t 7 & 84510 & rs13244173 & C & G &  1.7909939 & 0.0115 & 0.073200 & C & G & C & G\\\\\n",
       "\t 7 & 84523 & rs73669530 & G & C &  1.5198821 & 0.0127 & 0.127900 & G & C & G & C\\\\\n",
       "\t 7 & 85111 & rs11764261 & G & A &  1.8088807 & 0.0115 & 0.069940 & G & A & G & A\\\\\n",
       "\t 7 & 85261 & rs10253011 & C & T &  1.9742811 & 0.0118 & 0.047230 & C & T & C & T\\\\\n",
       "\t 7 & 85553 & rs28429968 & G & A & -0.7040763 & 0.0135 & 0.483400 & G & A & G & A\\\\\n",
       "\t 7 & 85667 & rs77694351 & G & A &  0.9888455 & 0.0271 & 0.323100 & G & A & G & A\\\\\n",
       "\t 7 & 85882 & rs34540512 & T & C &  1.7909939 & 0.0115 & 0.072640 & T & C & T & C\\\\\n",
       "\t 7 & 86014 & rs12534287 & G & A & -0.7108069 & 0.0135 & 0.478200 & G & A & G & A\\\\\n",
       "\t 7 & 86193 & rs35457587 & C & T &  3.2550104 & 0.0094 & 0.001059 & C & T & C & T\\\\\n",
       "\t 7 & 86925 & rs60627273 & A & G &  1.4525001 & 0.0126 & 0.146000 & A & G & A & G\\\\\n",
       "\t 7 & 87035 & rs35256056 & G & C &  3.2930863 & 0.0092 & 0.001008 & G & C & G & C\\\\\n",
       "\t 7 & 87382 & rs10085724 & C & T &  3.1305689 & 0.0092 & 0.001780 & C & T & C & T\\\\\n",
       "\t 7 & 87973 & rs9642261  & G & C &  3.1516888 & 0.0092 & 0.001659 & G & C & G & C\\\\\n",
       "\t 7 & 88337 & rs28645278 & C & T & -1.3622550 & 0.0091 & 0.174500 & C & T & C & T\\\\\n",
       "\t 7 & 88552 & rs11772211 & T & C &  3.1411294 & 0.0092 & 0.001716 & T & C & T & C\\\\\n",
       "\t 7 & 88622 & rs11771377 & A & G &  3.1516888 & 0.0092 & 0.001630 & A & G & A & G\\\\\n",
       "\t 7 & 88722 & rs11769996 & C & T &  3.1083886 & 0.0092 & 0.001816 & C & T & C & T\\\\\n",
       "\t 7 & 88730 & rs11771409 & A & G &  3.1200074 & 0.0092 & 0.001850 & A & G & A & G\\\\\n",
       "\t 7 & 89165 & rs73262656 & G & T & -0.5883772 & 0.0136 & 0.555000 & G & T & G & T\\\\\n",
       "\t 7 & 89223 & rs11763007 & G & A &  1.8088807 & 0.0115 & 0.069220 & G & A & G & A\\\\\n",
       "\t 7 & 89274 & rs11765733 & C & T &  1.8161563 & 0.0114 & 0.070800 & C & T & C & T\\\\\n",
       "\t ⋮ & ⋮ & ⋮ & ⋮ & ⋮ & ⋮ & ⋮ & ⋮ & ⋮ & ⋮ & ⋮ & ⋮\\\\\n",
       "\t 7 & 159259719 & rs3976697   & G & A &  0.1611695 & 0.0093 & 0.87050 & G & A & G & A\\\\\n",
       "\t 7 & 159259876 & rs3976696   & C & A &  0.1719055 & 0.0093 & 0.86270 & C & A & C & A\\\\\n",
       "\t 7 & 159260101 & rs2142051   & A & G &  0.1611695 & 0.0093 & 0.87150 & A & G & A & G\\\\\n",
       "\t 7 & 159260132 & rs2142052   & T & C &  0.1719055 & 0.0093 & 0.86300 & T & C & T & C\\\\\n",
       "\t 7 & 159260389 & rs2142053   & A & G &  0.1719055 & 0.0093 & 0.86460 & A & G & A & G\\\\\n",
       "\t 7 & 159260422 & rs2142054   & C & T &  0.1611695 & 0.0093 & 0.86860 & C & T & C & T\\\\\n",
       "\t 7 & 159260500 & rs3976695   & A & T &  0.1719055 & 0.0093 & 0.86760 & A & T & A & T\\\\\n",
       "\t 7 & 159260652 & rs3976694   & T & C &  0.1719055 & 0.0093 & 0.86200 & T & C & T & C\\\\\n",
       "\t 7 & 159260734 & rs73530021  & T & C & -1.4418643 & 0.0154 & 0.14990 & T & C & T & C\\\\\n",
       "\t 7 & 159260906 & rs3976693   & T & C &  0.1719055 & 0.0093 & 0.86120 & T & C & T & C\\\\\n",
       "\t 7 & 159261872 & rs10226505  & A & G &  0.2041072 & 0.0093 & 0.84180 & A & G & A & G\\\\\n",
       "\t 7 & 159262480 & rs1126338   & T & G & -0.2152691 & 0.0093 & 0.83090 & T & G & T & G\\\\\n",
       "\t 7 & 159262948 & rs10452696  & G & A &  0.3186712 & 0.0094 & 0.74480 & G & A & G & A\\\\\n",
       "\t 7 & 159263012 & rs6955507   & T & C &  0.3080642 & 0.0094 & 0.75740 & T & C & T & C\\\\\n",
       "\t 7 & 159267260 & rs4909120   & T & C &  0.2684817 & 0.0093 & 0.78740 & T & C & T & C\\\\\n",
       "\t 7 & 159278280 & rs6947160   & T & C & -0.6541431 & 0.0104 & 0.51240 & T & C & T & C\\\\\n",
       "\t 7 & 159279836 & rs3961265   & A & C & -0.1937228 & 0.0093 & 0.84600 & A & C & A & C\\\\\n",
       "\t 7 & 159282783 & rs77493655  & T & C & -1.6821101 & 0.0151 & 0.09158 & T & C & T & C\\\\\n",
       "\t 7 & 159283718 & rs12698315  & C & A & -0.3089588 & 0.0094 & 0.75890 & C & A & C & A\\\\\n",
       "\t 7 & 159285223 & rs113875378 & C & T & -1.6889033 & 0.0151 & 0.09054 & C & T & C & T\\\\\n",
       "\t 7 & 159293642 & rs79021196  & G & A &  0.7361027 & 0.0110 & 0.46390 & G & A & G & A\\\\\n",
       "\t 7 & 159294378 & rs55658009  & A & C &  0.7361027 & 0.0110 & 0.45980 & A & C & A & C\\\\\n",
       "\t 7 & 159299298 & rs55748415  & G & T &  0.7180657 & 0.0110 & 0.47250 & G & T & G & T\\\\\n",
       "\t 7 & 159313081 & rs75088170  & A & C &  0.7839664 & 0.0111 & 0.43340 & A & C & A & C\\\\\n",
       "\t 7 & 159323644 & rs77783338  & A & T &  0.7769667 & 0.0112 & 0.43770 & A & T & A & T\\\\\n",
       "\t 7 & 159325753 & rs7790666   & G & A &  0.1052106 & 0.0095 & 0.91450 & G & A & G & A\\\\\n",
       "\t 7 & 159326796 & rs1124425   & C & T &  0.8741239 & 0.0111 & 0.38070 & C & T & C & T\\\\\n",
       "\t 7 & 159328218 & rs75680237  & T & C &  0.9820157 & 0.0111 & 0.32760 & T & C & T & C\\\\\n",
       "\t 7 & 159328540 & rs76924940  & G & A &  0.6963843 & 0.0112 & 0.48480 & G & A & G & A\\\\\n",
       "\t 7 & 159329992 & rs77163270  & A & T &  0.9119102 & 0.0114 & 0.36050 & A & T & A & T\\\\\n",
       "\\end{tabular}\n"
      ],
      "text/markdown": [
       "\n",
       "A data.table: 345873 × 12\n",
       "\n",
       "| CHR &lt;int&gt; | BP &lt;int&gt; | SNP &lt;chr&gt; | A1 &lt;chr&gt; | A2 &lt;chr&gt; | Z &lt;dbl&gt; | SE &lt;dbl&gt; | P &lt;dbl&gt; | REF &lt;chr&gt; | ALT &lt;chr&gt; | REF_libd &lt;chr&gt; | ALT_libd &lt;chr&gt; |\n",
       "|---|---|---|---|---|---|---|---|---|---|---|---|\n",
       "| 7 | 53998 | rs7806592  | C | T |  0.8018266 | 0.0111 | 0.423800 | C | T | C | T |\n",
       "| 7 | 60728 | rs4916941  | G | A | -0.4963431 | 0.0262 | 0.620500 | G | A | G | A |\n",
       "| 7 | 63494 | rs6964622  | A | G |  1.1823599 | 0.0115 | 0.238400 | A | G | A | G |\n",
       "| 7 | 71938 | rs13437666 | A | C | -0.4243377 | 0.0264 | 0.671900 | A | C | A | C |\n",
       "| 7 | 80500 | rs12533719 | T | C |  0.5450317 | 0.0101 | 0.589400 | T | C | T | C |\n",
       "| 7 | 82240 | rs13236314 | C | T |  1.9830502 | 0.0116 | 0.047370 | C | T | C | T |\n",
       "| 7 | 82405 | rs10229024 | G | C |  1.4221336 | 0.0128 | 0.154300 | G | C | G | C |\n",
       "| 7 | 83185 | rs4076161  | T | C | -0.7407283 | 0.0135 | 0.457300 | T | C | T | C |\n",
       "| 7 | 84356 | rs59889022 | C | T | -0.6293325 | 0.0135 | 0.527900 | C | T | C | T |\n",
       "| 7 | 84510 | rs13244173 | C | G |  1.7909939 | 0.0115 | 0.073200 | C | G | C | G |\n",
       "| 7 | 84523 | rs73669530 | G | C |  1.5198821 | 0.0127 | 0.127900 | G | C | G | C |\n",
       "| 7 | 85111 | rs11764261 | G | A |  1.8088807 | 0.0115 | 0.069940 | G | A | G | A |\n",
       "| 7 | 85261 | rs10253011 | C | T |  1.9742811 | 0.0118 | 0.047230 | C | T | C | T |\n",
       "| 7 | 85553 | rs28429968 | G | A | -0.7040763 | 0.0135 | 0.483400 | G | A | G | A |\n",
       "| 7 | 85667 | rs77694351 | G | A |  0.9888455 | 0.0271 | 0.323100 | G | A | G | A |\n",
       "| 7 | 85882 | rs34540512 | T | C |  1.7909939 | 0.0115 | 0.072640 | T | C | T | C |\n",
       "| 7 | 86014 | rs12534287 | G | A | -0.7108069 | 0.0135 | 0.478200 | G | A | G | A |\n",
       "| 7 | 86193 | rs35457587 | C | T |  3.2550104 | 0.0094 | 0.001059 | C | T | C | T |\n",
       "| 7 | 86925 | rs60627273 | A | G |  1.4525001 | 0.0126 | 0.146000 | A | G | A | G |\n",
       "| 7 | 87035 | rs35256056 | G | C |  3.2930863 | 0.0092 | 0.001008 | G | C | G | C |\n",
       "| 7 | 87382 | rs10085724 | C | T |  3.1305689 | 0.0092 | 0.001780 | C | T | C | T |\n",
       "| 7 | 87973 | rs9642261  | G | C |  3.1516888 | 0.0092 | 0.001659 | G | C | G | C |\n",
       "| 7 | 88337 | rs28645278 | C | T | -1.3622550 | 0.0091 | 0.174500 | C | T | C | T |\n",
       "| 7 | 88552 | rs11772211 | T | C |  3.1411294 | 0.0092 | 0.001716 | T | C | T | C |\n",
       "| 7 | 88622 | rs11771377 | A | G |  3.1516888 | 0.0092 | 0.001630 | A | G | A | G |\n",
       "| 7 | 88722 | rs11769996 | C | T |  3.1083886 | 0.0092 | 0.001816 | C | T | C | T |\n",
       "| 7 | 88730 | rs11771409 | A | G |  3.1200074 | 0.0092 | 0.001850 | A | G | A | G |\n",
       "| 7 | 89165 | rs73262656 | G | T | -0.5883772 | 0.0136 | 0.555000 | G | T | G | T |\n",
       "| 7 | 89223 | rs11763007 | G | A |  1.8088807 | 0.0115 | 0.069220 | G | A | G | A |\n",
       "| 7 | 89274 | rs11765733 | C | T |  1.8161563 | 0.0114 | 0.070800 | C | T | C | T |\n",
       "| ⋮ | ⋮ | ⋮ | ⋮ | ⋮ | ⋮ | ⋮ | ⋮ | ⋮ | ⋮ | ⋮ | ⋮ |\n",
       "| 7 | 159259719 | rs3976697   | G | A |  0.1611695 | 0.0093 | 0.87050 | G | A | G | A |\n",
       "| 7 | 159259876 | rs3976696   | C | A |  0.1719055 | 0.0093 | 0.86270 | C | A | C | A |\n",
       "| 7 | 159260101 | rs2142051   | A | G |  0.1611695 | 0.0093 | 0.87150 | A | G | A | G |\n",
       "| 7 | 159260132 | rs2142052   | T | C |  0.1719055 | 0.0093 | 0.86300 | T | C | T | C |\n",
       "| 7 | 159260389 | rs2142053   | A | G |  0.1719055 | 0.0093 | 0.86460 | A | G | A | G |\n",
       "| 7 | 159260422 | rs2142054   | C | T |  0.1611695 | 0.0093 | 0.86860 | C | T | C | T |\n",
       "| 7 | 159260500 | rs3976695   | A | T |  0.1719055 | 0.0093 | 0.86760 | A | T | A | T |\n",
       "| 7 | 159260652 | rs3976694   | T | C |  0.1719055 | 0.0093 | 0.86200 | T | C | T | C |\n",
       "| 7 | 159260734 | rs73530021  | T | C | -1.4418643 | 0.0154 | 0.14990 | T | C | T | C |\n",
       "| 7 | 159260906 | rs3976693   | T | C |  0.1719055 | 0.0093 | 0.86120 | T | C | T | C |\n",
       "| 7 | 159261872 | rs10226505  | A | G |  0.2041072 | 0.0093 | 0.84180 | A | G | A | G |\n",
       "| 7 | 159262480 | rs1126338   | T | G | -0.2152691 | 0.0093 | 0.83090 | T | G | T | G |\n",
       "| 7 | 159262948 | rs10452696  | G | A |  0.3186712 | 0.0094 | 0.74480 | G | A | G | A |\n",
       "| 7 | 159263012 | rs6955507   | T | C |  0.3080642 | 0.0094 | 0.75740 | T | C | T | C |\n",
       "| 7 | 159267260 | rs4909120   | T | C |  0.2684817 | 0.0093 | 0.78740 | T | C | T | C |\n",
       "| 7 | 159278280 | rs6947160   | T | C | -0.6541431 | 0.0104 | 0.51240 | T | C | T | C |\n",
       "| 7 | 159279836 | rs3961265   | A | C | -0.1937228 | 0.0093 | 0.84600 | A | C | A | C |\n",
       "| 7 | 159282783 | rs77493655  | T | C | -1.6821101 | 0.0151 | 0.09158 | T | C | T | C |\n",
       "| 7 | 159283718 | rs12698315  | C | A | -0.3089588 | 0.0094 | 0.75890 | C | A | C | A |\n",
       "| 7 | 159285223 | rs113875378 | C | T | -1.6889033 | 0.0151 | 0.09054 | C | T | C | T |\n",
       "| 7 | 159293642 | rs79021196  | G | A |  0.7361027 | 0.0110 | 0.46390 | G | A | G | A |\n",
       "| 7 | 159294378 | rs55658009  | A | C |  0.7361027 | 0.0110 | 0.45980 | A | C | A | C |\n",
       "| 7 | 159299298 | rs55748415  | G | T |  0.7180657 | 0.0110 | 0.47250 | G | T | G | T |\n",
       "| 7 | 159313081 | rs75088170  | A | C |  0.7839664 | 0.0111 | 0.43340 | A | C | A | C |\n",
       "| 7 | 159323644 | rs77783338  | A | T |  0.7769667 | 0.0112 | 0.43770 | A | T | A | T |\n",
       "| 7 | 159325753 | rs7790666   | G | A |  0.1052106 | 0.0095 | 0.91450 | G | A | G | A |\n",
       "| 7 | 159326796 | rs1124425   | C | T |  0.8741239 | 0.0111 | 0.38070 | C | T | C | T |\n",
       "| 7 | 159328218 | rs75680237  | T | C |  0.9820157 | 0.0111 | 0.32760 | T | C | T | C |\n",
       "| 7 | 159328540 | rs76924940  | G | A |  0.6963843 | 0.0112 | 0.48480 | G | A | G | A |\n",
       "| 7 | 159329992 | rs77163270  | A | T |  0.9119102 | 0.0114 | 0.36050 | A | T | A | T |\n",
       "\n"
      ],
      "text/plain": [
       "       CHR BP        SNP         A1 A2 Z          SE     P        REF ALT\n",
       "1      7   53998     rs7806592   C  T   0.8018266 0.0111 0.423800 C   T  \n",
       "2      7   60728     rs4916941   G  A  -0.4963431 0.0262 0.620500 G   A  \n",
       "3      7   63494     rs6964622   A  G   1.1823599 0.0115 0.238400 A   G  \n",
       "4      7   71938     rs13437666  A  C  -0.4243377 0.0264 0.671900 A   C  \n",
       "5      7   80500     rs12533719  T  C   0.5450317 0.0101 0.589400 T   C  \n",
       "6      7   82240     rs13236314  C  T   1.9830502 0.0116 0.047370 C   T  \n",
       "7      7   82405     rs10229024  G  C   1.4221336 0.0128 0.154300 G   C  \n",
       "8      7   83185     rs4076161   T  C  -0.7407283 0.0135 0.457300 T   C  \n",
       "9      7   84356     rs59889022  C  T  -0.6293325 0.0135 0.527900 C   T  \n",
       "10     7   84510     rs13244173  C  G   1.7909939 0.0115 0.073200 C   G  \n",
       "11     7   84523     rs73669530  G  C   1.5198821 0.0127 0.127900 G   C  \n",
       "12     7   85111     rs11764261  G  A   1.8088807 0.0115 0.069940 G   A  \n",
       "13     7   85261     rs10253011  C  T   1.9742811 0.0118 0.047230 C   T  \n",
       "14     7   85553     rs28429968  G  A  -0.7040763 0.0135 0.483400 G   A  \n",
       "15     7   85667     rs77694351  G  A   0.9888455 0.0271 0.323100 G   A  \n",
       "16     7   85882     rs34540512  T  C   1.7909939 0.0115 0.072640 T   C  \n",
       "17     7   86014     rs12534287  G  A  -0.7108069 0.0135 0.478200 G   A  \n",
       "18     7   86193     rs35457587  C  T   3.2550104 0.0094 0.001059 C   T  \n",
       "19     7   86925     rs60627273  A  G   1.4525001 0.0126 0.146000 A   G  \n",
       "20     7   87035     rs35256056  G  C   3.2930863 0.0092 0.001008 G   C  \n",
       "21     7   87382     rs10085724  C  T   3.1305689 0.0092 0.001780 C   T  \n",
       "22     7   87973     rs9642261   G  C   3.1516888 0.0092 0.001659 G   C  \n",
       "23     7   88337     rs28645278  C  T  -1.3622550 0.0091 0.174500 C   T  \n",
       "24     7   88552     rs11772211  T  C   3.1411294 0.0092 0.001716 T   C  \n",
       "25     7   88622     rs11771377  A  G   3.1516888 0.0092 0.001630 A   G  \n",
       "26     7   88722     rs11769996  C  T   3.1083886 0.0092 0.001816 C   T  \n",
       "27     7   88730     rs11771409  A  G   3.1200074 0.0092 0.001850 A   G  \n",
       "28     7   89165     rs73262656  G  T  -0.5883772 0.0136 0.555000 G   T  \n",
       "29     7   89223     rs11763007  G  A   1.8088807 0.0115 0.069220 G   A  \n",
       "30     7   89274     rs11765733  C  T   1.8161563 0.0114 0.070800 C   T  \n",
       "⋮      ⋮   ⋮         ⋮           ⋮  ⋮  ⋮          ⋮      ⋮        ⋮   ⋮  \n",
       "345844 7   159259719 rs3976697   G  A   0.1611695 0.0093 0.87050  G   A  \n",
       "345845 7   159259876 rs3976696   C  A   0.1719055 0.0093 0.86270  C   A  \n",
       "345846 7   159260101 rs2142051   A  G   0.1611695 0.0093 0.87150  A   G  \n",
       "345847 7   159260132 rs2142052   T  C   0.1719055 0.0093 0.86300  T   C  \n",
       "345848 7   159260389 rs2142053   A  G   0.1719055 0.0093 0.86460  A   G  \n",
       "345849 7   159260422 rs2142054   C  T   0.1611695 0.0093 0.86860  C   T  \n",
       "345850 7   159260500 rs3976695   A  T   0.1719055 0.0093 0.86760  A   T  \n",
       "345851 7   159260652 rs3976694   T  C   0.1719055 0.0093 0.86200  T   C  \n",
       "345852 7   159260734 rs73530021  T  C  -1.4418643 0.0154 0.14990  T   C  \n",
       "345853 7   159260906 rs3976693   T  C   0.1719055 0.0093 0.86120  T   C  \n",
       "345854 7   159261872 rs10226505  A  G   0.2041072 0.0093 0.84180  A   G  \n",
       "345855 7   159262480 rs1126338   T  G  -0.2152691 0.0093 0.83090  T   G  \n",
       "345856 7   159262948 rs10452696  G  A   0.3186712 0.0094 0.74480  G   A  \n",
       "345857 7   159263012 rs6955507   T  C   0.3080642 0.0094 0.75740  T   C  \n",
       "345858 7   159267260 rs4909120   T  C   0.2684817 0.0093 0.78740  T   C  \n",
       "345859 7   159278280 rs6947160   T  C  -0.6541431 0.0104 0.51240  T   C  \n",
       "345860 7   159279836 rs3961265   A  C  -0.1937228 0.0093 0.84600  A   C  \n",
       "345861 7   159282783 rs77493655  T  C  -1.6821101 0.0151 0.09158  T   C  \n",
       "345862 7   159283718 rs12698315  C  A  -0.3089588 0.0094 0.75890  C   A  \n",
       "345863 7   159285223 rs113875378 C  T  -1.6889033 0.0151 0.09054  C   T  \n",
       "345864 7   159293642 rs79021196  G  A   0.7361027 0.0110 0.46390  G   A  \n",
       "345865 7   159294378 rs55658009  A  C   0.7361027 0.0110 0.45980  A   C  \n",
       "345866 7   159299298 rs55748415  G  T   0.7180657 0.0110 0.47250  G   T  \n",
       "345867 7   159313081 rs75088170  A  C   0.7839664 0.0111 0.43340  A   C  \n",
       "345868 7   159323644 rs77783338  A  T   0.7769667 0.0112 0.43770  A   T  \n",
       "345869 7   159325753 rs7790666   G  A   0.1052106 0.0095 0.91450  G   A  \n",
       "345870 7   159326796 rs1124425   C  T   0.8741239 0.0111 0.38070  C   T  \n",
       "345871 7   159328218 rs75680237  T  C   0.9820157 0.0111 0.32760  T   C  \n",
       "345872 7   159328540 rs76924940  G  A   0.6963843 0.0112 0.48480  G   A  \n",
       "345873 7   159329992 rs77163270  A  T   0.9119102 0.0114 0.36050  A   T  \n",
       "       REF_libd ALT_libd\n",
       "1      C        T       \n",
       "2      G        A       \n",
       "3      A        G       \n",
       "4      A        C       \n",
       "5      T        C       \n",
       "6      C        T       \n",
       "7      G        C       \n",
       "8      T        C       \n",
       "9      C        T       \n",
       "10     C        G       \n",
       "11     G        C       \n",
       "12     G        A       \n",
       "13     C        T       \n",
       "14     G        A       \n",
       "15     G        A       \n",
       "16     T        C       \n",
       "17     G        A       \n",
       "18     C        T       \n",
       "19     A        G       \n",
       "20     G        C       \n",
       "21     C        T       \n",
       "22     G        C       \n",
       "23     C        T       \n",
       "24     T        C       \n",
       "25     A        G       \n",
       "26     C        T       \n",
       "27     A        G       \n",
       "28     G        T       \n",
       "29     G        A       \n",
       "30     C        T       \n",
       "⋮      ⋮        ⋮       \n",
       "345844 G        A       \n",
       "345845 C        A       \n",
       "345846 A        G       \n",
       "345847 T        C       \n",
       "345848 A        G       \n",
       "345849 C        T       \n",
       "345850 A        T       \n",
       "345851 T        C       \n",
       "345852 T        C       \n",
       "345853 T        C       \n",
       "345854 A        G       \n",
       "345855 T        G       \n",
       "345856 G        A       \n",
       "345857 T        C       \n",
       "345858 T        C       \n",
       "345859 T        C       \n",
       "345860 A        C       \n",
       "345861 T        C       \n",
       "345862 C        A       \n",
       "345863 C        T       \n",
       "345864 G        A       \n",
       "345865 A        C       \n",
       "345866 G        T       \n",
       "345867 A        C       \n",
       "345868 A        T       \n",
       "345869 G        A       \n",
       "345870 C        T       \n",
       "345871 T        C       \n",
       "345872 G        A       \n",
       "345873 A        T       "
      ]
     },
     "metadata": {},
     "output_type": "display_data"
    }
   ],
   "source": [
    "merged_data[flip_index]"
   ]
  },
  {
   "cell_type": "code",
   "execution_count": null,
   "id": "9613fa95-3e61-45ec-9c89-9d306c3f26da",
   "metadata": {},
   "outputs": [],
   "source": [
    "# Flip alleles and BETA where necessary\n",
    "if (length(flip_index) > 0) {\n",
    "    merged_data[flip_index, `:=`(A1 = A2, A2 = A1, Z = -Z)]\n",
    "}\n",
    "\n",
    "# Define the columns that need to be retained, ensuring flexibility\n",
    "retain_cols <- intersect(c(\"CHR\", \"BP\", \"SNP\", \"A1\", \"A2\", \"Z\", \"SE\", \"P\", \"PVAL\", \"Freq\", \n",
    "                           \"NGT\", \"FCAS\", \"FCON\", \"IMPINFO\", \"NEFFDIV2\", \"NCAS\", \"NCON\", \"DIRE\"), \n",
    "                         names(merged_data))\n",
    "\n",
    "summary_stats <- merged_data[, ..retain_cols]"
   ]
  },
  {
   "cell_type": "code",
   "execution_count": null,
   "id": "6336a018-4361-42bd-b57e-b02bd06b0647",
   "metadata": {},
   "outputs": [],
   "source": []
  },
  {
   "cell_type": "code",
   "execution_count": null,
   "id": "cd444885-1f24-42ed-8b5d-05b6ccfb41b4",
   "metadata": {},
   "outputs": [],
   "source": []
  },
  {
   "cell_type": "code",
   "execution_count": 83,
   "id": "c2c423d8-d008-4974-977a-196a5565bb57",
   "metadata": {},
   "outputs": [],
   "source": [
    "i <- 7"
   ]
  },
  {
   "cell_type": "code",
   "execution_count": 82,
   "id": "956ebfe4-c529-4907-9aba-96180777363c",
   "metadata": {},
   "outputs": [
    {
     "data": {
      "text/html": [
       "<table class=\"dataframe\">\n",
       "<caption>A data.table: 1 × 25</caption>\n",
       "<thead>\n",
       "\t<tr><th scope=col>CHR</th><th scope=col>BP</th><th scope=col>SNP</th><th scope=col>A1</th><th scope=col>A2</th><th scope=col>FRQ_A_53386</th><th scope=col>FRQ_U_77258</th><th scope=col>INFO</th><th scope=col>OR</th><th scope=col>SE</th><th scope=col>⋯</th><th scope=col>HetPVa</th><th scope=col>Nca</th><th scope=col>Nco</th><th scope=col>Neff</th><th scope=col>logOR</th><th scope=col>Z</th><th scope=col>REF</th><th scope=col>ALT</th><th scope=col>REF_libd</th><th scope=col>ALT_libd</th></tr>\n",
       "\t<tr><th scope=col>&lt;int&gt;</th><th scope=col>&lt;int&gt;</th><th scope=col>&lt;chr&gt;</th><th scope=col>&lt;chr&gt;</th><th scope=col>&lt;chr&gt;</th><th scope=col>&lt;dbl&gt;</th><th scope=col>&lt;dbl&gt;</th><th scope=col>&lt;dbl&gt;</th><th scope=col>&lt;dbl&gt;</th><th scope=col>&lt;dbl&gt;</th><th scope=col>⋯</th><th scope=col>&lt;dbl&gt;</th><th scope=col>&lt;int&gt;</th><th scope=col>&lt;int&gt;</th><th scope=col>&lt;dbl&gt;</th><th scope=col>&lt;dbl&gt;</th><th scope=col>&lt;dbl&gt;</th><th scope=col>&lt;chr&gt;</th><th scope=col>&lt;chr&gt;</th><th scope=col>&lt;chr&gt;</th><th scope=col>&lt;chr&gt;</th></tr>\n",
       "</thead>\n",
       "<tbody>\n",
       "\t<tr><td>7</td><td>1910701</td><td>7:1950337_G_A</td><td>A</td><td>G</td><td>0.795</td><td>0.803</td><td>0.991</td><td>0.94819</td><td>0.0108</td><td>⋯</td><td>0.1167</td><td>53386</td><td>77258</td><td>58749.13</td><td>-0.05320037</td><td>4.925961</td><td>G</td><td>A</td><td>G</td><td>A</td></tr>\n",
       "</tbody>\n",
       "</table>\n"
      ],
      "text/latex": [
       "A data.table: 1 × 25\n",
       "\\begin{tabular}{lllllllllllllllllllll}\n",
       " CHR & BP & SNP & A1 & A2 & FRQ\\_A\\_53386 & FRQ\\_U\\_77258 & INFO & OR & SE & ⋯ & HetPVa & Nca & Nco & Neff & logOR & Z & REF & ALT & REF\\_libd & ALT\\_libd\\\\\n",
       " <int> & <int> & <chr> & <chr> & <chr> & <dbl> & <dbl> & <dbl> & <dbl> & <dbl> & ⋯ & <dbl> & <int> & <int> & <dbl> & <dbl> & <dbl> & <chr> & <chr> & <chr> & <chr>\\\\\n",
       "\\hline\n",
       "\t 7 & 1910701 & 7:1950337\\_G\\_A & A & G & 0.795 & 0.803 & 0.991 & 0.94819 & 0.0108 & ⋯ & 0.1167 & 53386 & 77258 & 58749.13 & -0.05320037 & 4.925961 & G & A & G & A\\\\\n",
       "\\end{tabular}\n"
      ],
      "text/markdown": [
       "\n",
       "A data.table: 1 × 25\n",
       "\n",
       "| CHR &lt;int&gt; | BP &lt;int&gt; | SNP &lt;chr&gt; | A1 &lt;chr&gt; | A2 &lt;chr&gt; | FRQ_A_53386 &lt;dbl&gt; | FRQ_U_77258 &lt;dbl&gt; | INFO &lt;dbl&gt; | OR &lt;dbl&gt; | SE &lt;dbl&gt; | ⋯ ⋯ | HetPVa &lt;dbl&gt; | Nca &lt;int&gt; | Nco &lt;int&gt; | Neff &lt;dbl&gt; | logOR &lt;dbl&gt; | Z &lt;dbl&gt; | REF &lt;chr&gt; | ALT &lt;chr&gt; | REF_libd &lt;chr&gt; | ALT_libd &lt;chr&gt; |\n",
       "|---|---|---|---|---|---|---|---|---|---|---|---|---|---|---|---|---|---|---|---|---|\n",
       "| 7 | 1910701 | 7:1950337_G_A | A | G | 0.795 | 0.803 | 0.991 | 0.94819 | 0.0108 | ⋯ | 0.1167 | 53386 | 77258 | 58749.13 | -0.05320037 | 4.925961 | G | A | G | A |\n",
       "\n"
      ],
      "text/plain": [
       "  CHR BP      SNP           A1 A2 FRQ_A_53386 FRQ_U_77258 INFO  OR      SE    \n",
       "1 7   1910701 7:1950337_G_A A  G  0.795       0.803       0.991 0.94819 0.0108\n",
       "  ⋯ HetPVa Nca   Nco   Neff     logOR       Z        REF ALT REF_libd ALT_libd\n",
       "1 ⋯ 0.1167 53386 77258 58749.13 -0.05320037 4.925961 G   A   G        A       "
      ]
     },
     "metadata": {},
     "output_type": "display_data"
    }
   ],
   "source": [
    "merged_data[which(merged_data$BP == 1910701), ]"
   ]
  },
  {
   "cell_type": "code",
   "execution_count": 81,
   "id": "b4ffddfa-1234-4066-9d5e-439094687bf9",
   "metadata": {},
   "outputs": [
    {
     "data": {
      "text/html": [
       "<table class=\"dataframe\">\n",
       "<caption>A data.table: 1 × 21</caption>\n",
       "<thead>\n",
       "\t<tr><th scope=col>CHR</th><th scope=col>SNP</th><th scope=col>BP</th><th scope=col>A1</th><th scope=col>A2</th><th scope=col>FRQ_A_53386</th><th scope=col>FRQ_U_77258</th><th scope=col>INFO</th><th scope=col>OR</th><th scope=col>SE</th><th scope=col>⋯</th><th scope=col>ngt</th><th scope=col>Direction</th><th scope=col>HetISqt</th><th scope=col>HetDf</th><th scope=col>HetPVa</th><th scope=col>Nca</th><th scope=col>Nco</th><th scope=col>Neff</th><th scope=col>logOR</th><th scope=col>Z</th></tr>\n",
       "\t<tr><th scope=col>&lt;int&gt;</th><th scope=col>&lt;chr&gt;</th><th scope=col>&lt;int&gt;</th><th scope=col>&lt;chr&gt;</th><th scope=col>&lt;chr&gt;</th><th scope=col>&lt;dbl&gt;</th><th scope=col>&lt;dbl&gt;</th><th scope=col>&lt;dbl&gt;</th><th scope=col>&lt;dbl&gt;</th><th scope=col>&lt;dbl&gt;</th><th scope=col>⋯</th><th scope=col>&lt;int&gt;</th><th scope=col>&lt;chr&gt;</th><th scope=col>&lt;dbl&gt;</th><th scope=col>&lt;int&gt;</th><th scope=col>&lt;dbl&gt;</th><th scope=col>&lt;int&gt;</th><th scope=col>&lt;int&gt;</th><th scope=col>&lt;dbl&gt;</th><th scope=col>&lt;dbl&gt;</th><th scope=col>&lt;dbl&gt;</th></tr>\n",
       "</thead>\n",
       "<tbody>\n",
       "\t<tr><td>7</td><td>7:1950337_G_A</td><td>1910701</td><td>G</td><td>A</td><td>0.795</td><td>0.803</td><td>0.991</td><td>0.94819</td><td>0.0108</td><td>⋯</td><td>7</td><td>-+++++++-+-++-++++++--+-++++-++-+--+++--++-+---+-+-+-+++++--+-+-++-++++-+++-</td><td>16.5</td><td>75</td><td>0.1167</td><td>53386</td><td>77258</td><td>58749.13</td><td>-0.05320037</td><td>-4.925961</td></tr>\n",
       "</tbody>\n",
       "</table>\n"
      ],
      "text/latex": [
       "A data.table: 1 × 21\n",
       "\\begin{tabular}{lllllllllllllllllllll}\n",
       " CHR & SNP & BP & A1 & A2 & FRQ\\_A\\_53386 & FRQ\\_U\\_77258 & INFO & OR & SE & ⋯ & ngt & Direction & HetISqt & HetDf & HetPVa & Nca & Nco & Neff & logOR & Z\\\\\n",
       " <int> & <chr> & <int> & <chr> & <chr> & <dbl> & <dbl> & <dbl> & <dbl> & <dbl> & ⋯ & <int> & <chr> & <dbl> & <int> & <dbl> & <int> & <int> & <dbl> & <dbl> & <dbl>\\\\\n",
       "\\hline\n",
       "\t 7 & 7:1950337\\_G\\_A & 1910701 & G & A & 0.795 & 0.803 & 0.991 & 0.94819 & 0.0108 & ⋯ & 7 & -+++++++-+-++-++++++--+-++++-++-+--+++--++-+---+-+-+-+++++--+-+-++-++++-+++- & 16.5 & 75 & 0.1167 & 53386 & 77258 & 58749.13 & -0.05320037 & -4.925961\\\\\n",
       "\\end{tabular}\n"
      ],
      "text/markdown": [
       "\n",
       "A data.table: 1 × 21\n",
       "\n",
       "| CHR &lt;int&gt; | SNP &lt;chr&gt; | BP &lt;int&gt; | A1 &lt;chr&gt; | A2 &lt;chr&gt; | FRQ_A_53386 &lt;dbl&gt; | FRQ_U_77258 &lt;dbl&gt; | INFO &lt;dbl&gt; | OR &lt;dbl&gt; | SE &lt;dbl&gt; | ⋯ ⋯ | ngt &lt;int&gt; | Direction &lt;chr&gt; | HetISqt &lt;dbl&gt; | HetDf &lt;int&gt; | HetPVa &lt;dbl&gt; | Nca &lt;int&gt; | Nco &lt;int&gt; | Neff &lt;dbl&gt; | logOR &lt;dbl&gt; | Z &lt;dbl&gt; |\n",
       "|---|---|---|---|---|---|---|---|---|---|---|---|---|---|---|---|---|---|---|---|---|\n",
       "| 7 | 7:1950337_G_A | 1910701 | G | A | 0.795 | 0.803 | 0.991 | 0.94819 | 0.0108 | ⋯ | 7 | -+++++++-+-++-++++++--+-++++-++-+--+++--++-+---+-+-+-+++++--+-+-++-++++-+++- | 16.5 | 75 | 0.1167 | 53386 | 77258 | 58749.13 | -0.05320037 | -4.925961 |\n",
       "\n"
      ],
      "text/plain": [
       "  CHR SNP           BP      A1 A2 FRQ_A_53386 FRQ_U_77258 INFO  OR      SE    \n",
       "1 7   7:1950337_G_A 1910701 G  A  0.795       0.803       0.991 0.94819 0.0108\n",
       "  ⋯ ngt\n",
       "1 ⋯ 7  \n",
       "  Direction                                                                   \n",
       "1 -+++++++-+-++-++++++--+-++++-++-+--+++--++-+---+-+-+-+++++--+-+-++-++++-+++-\n",
       "  HetISqt HetDf HetPVa Nca   Nco   Neff     logOR       Z        \n",
       "1 16.5    75    0.1167 53386 77258 58749.13 -0.05320037 -4.925961"
      ]
     },
     "metadata": {},
     "output_type": "display_data"
    }
   ],
   "source": [
    "summary_stats_backup[which(summary_stats_backup$BP == 1910701), ]"
   ]
  },
  {
   "cell_type": "code",
   "execution_count": 80,
   "id": "5091ce83-d799-49b5-ad11-ebb3098390dd",
   "metadata": {},
   "outputs": [
    {
     "data": {
      "text/html": [
       "<table class=\"dataframe\">\n",
       "<caption>A data.table: 1 × 8</caption>\n",
       "<thead>\n",
       "\t<tr><th scope=col>CHR</th><th scope=col>BP</th><th scope=col>SNP</th><th scope=col>A1</th><th scope=col>A2</th><th scope=col>Z</th><th scope=col>SE</th><th scope=col>P</th></tr>\n",
       "\t<tr><th scope=col>&lt;int&gt;</th><th scope=col>&lt;int&gt;</th><th scope=col>&lt;chr&gt;</th><th scope=col>&lt;chr&gt;</th><th scope=col>&lt;chr&gt;</th><th scope=col>&lt;dbl&gt;</th><th scope=col>&lt;dbl&gt;</th><th scope=col>&lt;dbl&gt;</th></tr>\n",
       "</thead>\n",
       "<tbody>\n",
       "\t<tr><td>7</td><td>1910701</td><td>7:1950337_G_A</td><td>A</td><td>G</td><td>4.925961</td><td>0.0108</td><td>8.399e-07</td></tr>\n",
       "</tbody>\n",
       "</table>\n"
      ],
      "text/latex": [
       "A data.table: 1 × 8\n",
       "\\begin{tabular}{llllllll}\n",
       " CHR & BP & SNP & A1 & A2 & Z & SE & P\\\\\n",
       " <int> & <int> & <chr> & <chr> & <chr> & <dbl> & <dbl> & <dbl>\\\\\n",
       "\\hline\n",
       "\t 7 & 1910701 & 7:1950337\\_G\\_A & A & G & 4.925961 & 0.0108 & 8.399e-07\\\\\n",
       "\\end{tabular}\n"
      ],
      "text/markdown": [
       "\n",
       "A data.table: 1 × 8\n",
       "\n",
       "| CHR &lt;int&gt; | BP &lt;int&gt; | SNP &lt;chr&gt; | A1 &lt;chr&gt; | A2 &lt;chr&gt; | Z &lt;dbl&gt; | SE &lt;dbl&gt; | P &lt;dbl&gt; |\n",
       "|---|---|---|---|---|---|---|---|\n",
       "| 7 | 1910701 | 7:1950337_G_A | A | G | 4.925961 | 0.0108 | 8.399e-07 |\n",
       "\n"
      ],
      "text/plain": [
       "  CHR BP      SNP           A1 A2 Z        SE     P        \n",
       "1 7   1910701 7:1950337_G_A A  G  4.925961 0.0108 8.399e-07"
      ]
     },
     "metadata": {},
     "output_type": "display_data"
    }
   ],
   "source": [
    "summary_stats[which(summary_stats$BP == 1910701), ]"
   ]
  },
  {
   "cell_type": "code",
   "execution_count": 74,
   "id": "03bf6caf-aaca-40da-a197-aedb00975da9",
   "metadata": {},
   "outputs": [
    {
     "data": {
      "text/html": [
       "<style>\n",
       ".list-inline {list-style: none; margin:0; padding: 0}\n",
       ".list-inline>li {display: inline-block}\n",
       ".list-inline>li:not(:last-child)::after {content: \"\\00b7\"; padding: 0 .5ex}\n",
       "</style>\n",
       "<ol class=list-inline><li>'ref_EUR_allele-match-a2-libd_chr1.log'</li><li>'ref_EUR_allele-match-a2-libd_chr1.pgen'</li><li>'ref_EUR_allele-match-a2-libd_chr1.psam'</li><li>'ref_EUR_allele-match-a2-libd_chr1.pvar'</li><li>'ref_EUR_allele-match-a2-libd_chr10.log'</li><li>'ref_EUR_allele-match-a2-libd_chr10.pgen'</li><li>'ref_EUR_allele-match-a2-libd_chr10.psam'</li><li>'ref_EUR_allele-match-a2-libd_chr10.pvar'</li><li>'ref_EUR_allele-match-a2-libd_chr11.log'</li><li>'ref_EUR_allele-match-a2-libd_chr11.pgen'</li><li>'ref_EUR_allele-match-a2-libd_chr11.psam'</li><li>'ref_EUR_allele-match-a2-libd_chr11.pvar'</li><li>'ref_EUR_allele-match-a2-libd_chr12.log'</li><li>'ref_EUR_allele-match-a2-libd_chr12.pgen'</li><li>'ref_EUR_allele-match-a2-libd_chr12.psam'</li><li>'ref_EUR_allele-match-a2-libd_chr12.pvar'</li><li>'ref_EUR_allele-match-a2-libd_chr13.log'</li><li>'ref_EUR_allele-match-a2-libd_chr13.pgen'</li><li>'ref_EUR_allele-match-a2-libd_chr13.psam'</li><li>'ref_EUR_allele-match-a2-libd_chr13.pvar'</li><li>'ref_EUR_allele-match-a2-libd_chr14.log'</li><li>'ref_EUR_allele-match-a2-libd_chr14.pgen'</li><li>'ref_EUR_allele-match-a2-libd_chr14.psam'</li><li>'ref_EUR_allele-match-a2-libd_chr14.pvar'</li><li>'ref_EUR_allele-match-a2-libd_chr15.log'</li><li>'ref_EUR_allele-match-a2-libd_chr15.pgen'</li><li>'ref_EUR_allele-match-a2-libd_chr15.psam'</li><li>'ref_EUR_allele-match-a2-libd_chr15.pvar'</li><li>'ref_EUR_allele-match-a2-libd_chr16.log'</li><li>'ref_EUR_allele-match-a2-libd_chr16.pgen'</li><li>'ref_EUR_allele-match-a2-libd_chr16.psam'</li><li>'ref_EUR_allele-match-a2-libd_chr16.pvar'</li><li>'ref_EUR_allele-match-a2-libd_chr17.log'</li><li>'ref_EUR_allele-match-a2-libd_chr17.pgen'</li><li>'ref_EUR_allele-match-a2-libd_chr17.psam'</li><li>'ref_EUR_allele-match-a2-libd_chr17.pvar'</li><li>'ref_EUR_allele-match-a2-libd_chr18.log'</li><li>'ref_EUR_allele-match-a2-libd_chr18.pgen'</li><li>'ref_EUR_allele-match-a2-libd_chr18.psam'</li><li>'ref_EUR_allele-match-a2-libd_chr18.pvar'</li><li>'ref_EUR_allele-match-a2-libd_chr19.log'</li><li>'ref_EUR_allele-match-a2-libd_chr19.pgen'</li><li>'ref_EUR_allele-match-a2-libd_chr19.psam'</li><li>'ref_EUR_allele-match-a2-libd_chr19.pvar'</li><li>'ref_EUR_allele-match-a2-libd_chr2.log'</li><li>'ref_EUR_allele-match-a2-libd_chr2.pgen'</li><li>'ref_EUR_allele-match-a2-libd_chr2.psam'</li><li>'ref_EUR_allele-match-a2-libd_chr2.pvar'</li><li>'ref_EUR_allele-match-a2-libd_chr20.log'</li><li>'ref_EUR_allele-match-a2-libd_chr20.pgen'</li><li>'ref_EUR_allele-match-a2-libd_chr20.psam'</li><li>'ref_EUR_allele-match-a2-libd_chr20.pvar'</li><li>'ref_EUR_allele-match-a2-libd_chr21.log'</li><li>'ref_EUR_allele-match-a2-libd_chr21.pgen'</li><li>'ref_EUR_allele-match-a2-libd_chr21.psam'</li><li>'ref_EUR_allele-match-a2-libd_chr21.pvar'</li><li>'ref_EUR_allele-match-a2-libd_chr22.log'</li><li>'ref_EUR_allele-match-a2-libd_chr22.pgen'</li><li>'ref_EUR_allele-match-a2-libd_chr22.psam'</li><li>'ref_EUR_allele-match-a2-libd_chr22.pvar'</li><li>'ref_EUR_allele-match-a2-libd_chr3.log'</li><li>'ref_EUR_allele-match-a2-libd_chr3.pgen'</li><li>'ref_EUR_allele-match-a2-libd_chr3.psam'</li><li>'ref_EUR_allele-match-a2-libd_chr3.pvar'</li><li>'ref_EUR_allele-match-a2-libd_chr4.log'</li><li>'ref_EUR_allele-match-a2-libd_chr4.pgen'</li><li>'ref_EUR_allele-match-a2-libd_chr4.psam'</li><li>'ref_EUR_allele-match-a2-libd_chr4.pvar'</li><li>'ref_EUR_allele-match-a2-libd_chr5.log'</li><li>'ref_EUR_allele-match-a2-libd_chr5.pgen'</li><li>'ref_EUR_allele-match-a2-libd_chr5.psam'</li><li>'ref_EUR_allele-match-a2-libd_chr5.pvar'</li><li>'ref_EUR_allele-match-a2-libd_chr6.log'</li><li>'ref_EUR_allele-match-a2-libd_chr6.pgen'</li><li>'ref_EUR_allele-match-a2-libd_chr6.psam'</li><li>'ref_EUR_allele-match-a2-libd_chr6.pvar'</li><li>'ref_EUR_allele-match-a2-libd_chr7.log'</li><li>'ref_EUR_allele-match-a2-libd_chr7.pgen'</li><li>'ref_EUR_allele-match-a2-libd_chr7.psam'</li><li>'ref_EUR_allele-match-a2-libd_chr7.pvar'</li><li>'ref_EUR_allele-match-a2-libd_chr8.log'</li><li>'ref_EUR_allele-match-a2-libd_chr8.pgen'</li><li>'ref_EUR_allele-match-a2-libd_chr8.psam'</li><li>'ref_EUR_allele-match-a2-libd_chr8.pvar'</li><li>'ref_EUR_allele-match-a2-libd_chr9.log'</li><li>'ref_EUR_allele-match-a2-libd_chr9.pgen'</li><li>'ref_EUR_allele-match-a2-libd_chr9.psam'</li><li>'ref_EUR_allele-match-a2-libd_chr9.pvar'</li></ol>\n"
      ],
      "text/latex": [
       "\\begin{enumerate*}\n",
       "\\item 'ref\\_EUR\\_allele-match-a2-libd\\_chr1.log'\n",
       "\\item 'ref\\_EUR\\_allele-match-a2-libd\\_chr1.pgen'\n",
       "\\item 'ref\\_EUR\\_allele-match-a2-libd\\_chr1.psam'\n",
       "\\item 'ref\\_EUR\\_allele-match-a2-libd\\_chr1.pvar'\n",
       "\\item 'ref\\_EUR\\_allele-match-a2-libd\\_chr10.log'\n",
       "\\item 'ref\\_EUR\\_allele-match-a2-libd\\_chr10.pgen'\n",
       "\\item 'ref\\_EUR\\_allele-match-a2-libd\\_chr10.psam'\n",
       "\\item 'ref\\_EUR\\_allele-match-a2-libd\\_chr10.pvar'\n",
       "\\item 'ref\\_EUR\\_allele-match-a2-libd\\_chr11.log'\n",
       "\\item 'ref\\_EUR\\_allele-match-a2-libd\\_chr11.pgen'\n",
       "\\item 'ref\\_EUR\\_allele-match-a2-libd\\_chr11.psam'\n",
       "\\item 'ref\\_EUR\\_allele-match-a2-libd\\_chr11.pvar'\n",
       "\\item 'ref\\_EUR\\_allele-match-a2-libd\\_chr12.log'\n",
       "\\item 'ref\\_EUR\\_allele-match-a2-libd\\_chr12.pgen'\n",
       "\\item 'ref\\_EUR\\_allele-match-a2-libd\\_chr12.psam'\n",
       "\\item 'ref\\_EUR\\_allele-match-a2-libd\\_chr12.pvar'\n",
       "\\item 'ref\\_EUR\\_allele-match-a2-libd\\_chr13.log'\n",
       "\\item 'ref\\_EUR\\_allele-match-a2-libd\\_chr13.pgen'\n",
       "\\item 'ref\\_EUR\\_allele-match-a2-libd\\_chr13.psam'\n",
       "\\item 'ref\\_EUR\\_allele-match-a2-libd\\_chr13.pvar'\n",
       "\\item 'ref\\_EUR\\_allele-match-a2-libd\\_chr14.log'\n",
       "\\item 'ref\\_EUR\\_allele-match-a2-libd\\_chr14.pgen'\n",
       "\\item 'ref\\_EUR\\_allele-match-a2-libd\\_chr14.psam'\n",
       "\\item 'ref\\_EUR\\_allele-match-a2-libd\\_chr14.pvar'\n",
       "\\item 'ref\\_EUR\\_allele-match-a2-libd\\_chr15.log'\n",
       "\\item 'ref\\_EUR\\_allele-match-a2-libd\\_chr15.pgen'\n",
       "\\item 'ref\\_EUR\\_allele-match-a2-libd\\_chr15.psam'\n",
       "\\item 'ref\\_EUR\\_allele-match-a2-libd\\_chr15.pvar'\n",
       "\\item 'ref\\_EUR\\_allele-match-a2-libd\\_chr16.log'\n",
       "\\item 'ref\\_EUR\\_allele-match-a2-libd\\_chr16.pgen'\n",
       "\\item 'ref\\_EUR\\_allele-match-a2-libd\\_chr16.psam'\n",
       "\\item 'ref\\_EUR\\_allele-match-a2-libd\\_chr16.pvar'\n",
       "\\item 'ref\\_EUR\\_allele-match-a2-libd\\_chr17.log'\n",
       "\\item 'ref\\_EUR\\_allele-match-a2-libd\\_chr17.pgen'\n",
       "\\item 'ref\\_EUR\\_allele-match-a2-libd\\_chr17.psam'\n",
       "\\item 'ref\\_EUR\\_allele-match-a2-libd\\_chr17.pvar'\n",
       "\\item 'ref\\_EUR\\_allele-match-a2-libd\\_chr18.log'\n",
       "\\item 'ref\\_EUR\\_allele-match-a2-libd\\_chr18.pgen'\n",
       "\\item 'ref\\_EUR\\_allele-match-a2-libd\\_chr18.psam'\n",
       "\\item 'ref\\_EUR\\_allele-match-a2-libd\\_chr18.pvar'\n",
       "\\item 'ref\\_EUR\\_allele-match-a2-libd\\_chr19.log'\n",
       "\\item 'ref\\_EUR\\_allele-match-a2-libd\\_chr19.pgen'\n",
       "\\item 'ref\\_EUR\\_allele-match-a2-libd\\_chr19.psam'\n",
       "\\item 'ref\\_EUR\\_allele-match-a2-libd\\_chr19.pvar'\n",
       "\\item 'ref\\_EUR\\_allele-match-a2-libd\\_chr2.log'\n",
       "\\item 'ref\\_EUR\\_allele-match-a2-libd\\_chr2.pgen'\n",
       "\\item 'ref\\_EUR\\_allele-match-a2-libd\\_chr2.psam'\n",
       "\\item 'ref\\_EUR\\_allele-match-a2-libd\\_chr2.pvar'\n",
       "\\item 'ref\\_EUR\\_allele-match-a2-libd\\_chr20.log'\n",
       "\\item 'ref\\_EUR\\_allele-match-a2-libd\\_chr20.pgen'\n",
       "\\item 'ref\\_EUR\\_allele-match-a2-libd\\_chr20.psam'\n",
       "\\item 'ref\\_EUR\\_allele-match-a2-libd\\_chr20.pvar'\n",
       "\\item 'ref\\_EUR\\_allele-match-a2-libd\\_chr21.log'\n",
       "\\item 'ref\\_EUR\\_allele-match-a2-libd\\_chr21.pgen'\n",
       "\\item 'ref\\_EUR\\_allele-match-a2-libd\\_chr21.psam'\n",
       "\\item 'ref\\_EUR\\_allele-match-a2-libd\\_chr21.pvar'\n",
       "\\item 'ref\\_EUR\\_allele-match-a2-libd\\_chr22.log'\n",
       "\\item 'ref\\_EUR\\_allele-match-a2-libd\\_chr22.pgen'\n",
       "\\item 'ref\\_EUR\\_allele-match-a2-libd\\_chr22.psam'\n",
       "\\item 'ref\\_EUR\\_allele-match-a2-libd\\_chr22.pvar'\n",
       "\\item 'ref\\_EUR\\_allele-match-a2-libd\\_chr3.log'\n",
       "\\item 'ref\\_EUR\\_allele-match-a2-libd\\_chr3.pgen'\n",
       "\\item 'ref\\_EUR\\_allele-match-a2-libd\\_chr3.psam'\n",
       "\\item 'ref\\_EUR\\_allele-match-a2-libd\\_chr3.pvar'\n",
       "\\item 'ref\\_EUR\\_allele-match-a2-libd\\_chr4.log'\n",
       "\\item 'ref\\_EUR\\_allele-match-a2-libd\\_chr4.pgen'\n",
       "\\item 'ref\\_EUR\\_allele-match-a2-libd\\_chr4.psam'\n",
       "\\item 'ref\\_EUR\\_allele-match-a2-libd\\_chr4.pvar'\n",
       "\\item 'ref\\_EUR\\_allele-match-a2-libd\\_chr5.log'\n",
       "\\item 'ref\\_EUR\\_allele-match-a2-libd\\_chr5.pgen'\n",
       "\\item 'ref\\_EUR\\_allele-match-a2-libd\\_chr5.psam'\n",
       "\\item 'ref\\_EUR\\_allele-match-a2-libd\\_chr5.pvar'\n",
       "\\item 'ref\\_EUR\\_allele-match-a2-libd\\_chr6.log'\n",
       "\\item 'ref\\_EUR\\_allele-match-a2-libd\\_chr6.pgen'\n",
       "\\item 'ref\\_EUR\\_allele-match-a2-libd\\_chr6.psam'\n",
       "\\item 'ref\\_EUR\\_allele-match-a2-libd\\_chr6.pvar'\n",
       "\\item 'ref\\_EUR\\_allele-match-a2-libd\\_chr7.log'\n",
       "\\item 'ref\\_EUR\\_allele-match-a2-libd\\_chr7.pgen'\n",
       "\\item 'ref\\_EUR\\_allele-match-a2-libd\\_chr7.psam'\n",
       "\\item 'ref\\_EUR\\_allele-match-a2-libd\\_chr7.pvar'\n",
       "\\item 'ref\\_EUR\\_allele-match-a2-libd\\_chr8.log'\n",
       "\\item 'ref\\_EUR\\_allele-match-a2-libd\\_chr8.pgen'\n",
       "\\item 'ref\\_EUR\\_allele-match-a2-libd\\_chr8.psam'\n",
       "\\item 'ref\\_EUR\\_allele-match-a2-libd\\_chr8.pvar'\n",
       "\\item 'ref\\_EUR\\_allele-match-a2-libd\\_chr9.log'\n",
       "\\item 'ref\\_EUR\\_allele-match-a2-libd\\_chr9.pgen'\n",
       "\\item 'ref\\_EUR\\_allele-match-a2-libd\\_chr9.psam'\n",
       "\\item 'ref\\_EUR\\_allele-match-a2-libd\\_chr9.pvar'\n",
       "\\end{enumerate*}\n"
      ],
      "text/markdown": [
       "1. 'ref_EUR_allele-match-a2-libd_chr1.log'\n",
       "2. 'ref_EUR_allele-match-a2-libd_chr1.pgen'\n",
       "3. 'ref_EUR_allele-match-a2-libd_chr1.psam'\n",
       "4. 'ref_EUR_allele-match-a2-libd_chr1.pvar'\n",
       "5. 'ref_EUR_allele-match-a2-libd_chr10.log'\n",
       "6. 'ref_EUR_allele-match-a2-libd_chr10.pgen'\n",
       "7. 'ref_EUR_allele-match-a2-libd_chr10.psam'\n",
       "8. 'ref_EUR_allele-match-a2-libd_chr10.pvar'\n",
       "9. 'ref_EUR_allele-match-a2-libd_chr11.log'\n",
       "10. 'ref_EUR_allele-match-a2-libd_chr11.pgen'\n",
       "11. 'ref_EUR_allele-match-a2-libd_chr11.psam'\n",
       "12. 'ref_EUR_allele-match-a2-libd_chr11.pvar'\n",
       "13. 'ref_EUR_allele-match-a2-libd_chr12.log'\n",
       "14. 'ref_EUR_allele-match-a2-libd_chr12.pgen'\n",
       "15. 'ref_EUR_allele-match-a2-libd_chr12.psam'\n",
       "16. 'ref_EUR_allele-match-a2-libd_chr12.pvar'\n",
       "17. 'ref_EUR_allele-match-a2-libd_chr13.log'\n",
       "18. 'ref_EUR_allele-match-a2-libd_chr13.pgen'\n",
       "19. 'ref_EUR_allele-match-a2-libd_chr13.psam'\n",
       "20. 'ref_EUR_allele-match-a2-libd_chr13.pvar'\n",
       "21. 'ref_EUR_allele-match-a2-libd_chr14.log'\n",
       "22. 'ref_EUR_allele-match-a2-libd_chr14.pgen'\n",
       "23. 'ref_EUR_allele-match-a2-libd_chr14.psam'\n",
       "24. 'ref_EUR_allele-match-a2-libd_chr14.pvar'\n",
       "25. 'ref_EUR_allele-match-a2-libd_chr15.log'\n",
       "26. 'ref_EUR_allele-match-a2-libd_chr15.pgen'\n",
       "27. 'ref_EUR_allele-match-a2-libd_chr15.psam'\n",
       "28. 'ref_EUR_allele-match-a2-libd_chr15.pvar'\n",
       "29. 'ref_EUR_allele-match-a2-libd_chr16.log'\n",
       "30. 'ref_EUR_allele-match-a2-libd_chr16.pgen'\n",
       "31. 'ref_EUR_allele-match-a2-libd_chr16.psam'\n",
       "32. 'ref_EUR_allele-match-a2-libd_chr16.pvar'\n",
       "33. 'ref_EUR_allele-match-a2-libd_chr17.log'\n",
       "34. 'ref_EUR_allele-match-a2-libd_chr17.pgen'\n",
       "35. 'ref_EUR_allele-match-a2-libd_chr17.psam'\n",
       "36. 'ref_EUR_allele-match-a2-libd_chr17.pvar'\n",
       "37. 'ref_EUR_allele-match-a2-libd_chr18.log'\n",
       "38. 'ref_EUR_allele-match-a2-libd_chr18.pgen'\n",
       "39. 'ref_EUR_allele-match-a2-libd_chr18.psam'\n",
       "40. 'ref_EUR_allele-match-a2-libd_chr18.pvar'\n",
       "41. 'ref_EUR_allele-match-a2-libd_chr19.log'\n",
       "42. 'ref_EUR_allele-match-a2-libd_chr19.pgen'\n",
       "43. 'ref_EUR_allele-match-a2-libd_chr19.psam'\n",
       "44. 'ref_EUR_allele-match-a2-libd_chr19.pvar'\n",
       "45. 'ref_EUR_allele-match-a2-libd_chr2.log'\n",
       "46. 'ref_EUR_allele-match-a2-libd_chr2.pgen'\n",
       "47. 'ref_EUR_allele-match-a2-libd_chr2.psam'\n",
       "48. 'ref_EUR_allele-match-a2-libd_chr2.pvar'\n",
       "49. 'ref_EUR_allele-match-a2-libd_chr20.log'\n",
       "50. 'ref_EUR_allele-match-a2-libd_chr20.pgen'\n",
       "51. 'ref_EUR_allele-match-a2-libd_chr20.psam'\n",
       "52. 'ref_EUR_allele-match-a2-libd_chr20.pvar'\n",
       "53. 'ref_EUR_allele-match-a2-libd_chr21.log'\n",
       "54. 'ref_EUR_allele-match-a2-libd_chr21.pgen'\n",
       "55. 'ref_EUR_allele-match-a2-libd_chr21.psam'\n",
       "56. 'ref_EUR_allele-match-a2-libd_chr21.pvar'\n",
       "57. 'ref_EUR_allele-match-a2-libd_chr22.log'\n",
       "58. 'ref_EUR_allele-match-a2-libd_chr22.pgen'\n",
       "59. 'ref_EUR_allele-match-a2-libd_chr22.psam'\n",
       "60. 'ref_EUR_allele-match-a2-libd_chr22.pvar'\n",
       "61. 'ref_EUR_allele-match-a2-libd_chr3.log'\n",
       "62. 'ref_EUR_allele-match-a2-libd_chr3.pgen'\n",
       "63. 'ref_EUR_allele-match-a2-libd_chr3.psam'\n",
       "64. 'ref_EUR_allele-match-a2-libd_chr3.pvar'\n",
       "65. 'ref_EUR_allele-match-a2-libd_chr4.log'\n",
       "66. 'ref_EUR_allele-match-a2-libd_chr4.pgen'\n",
       "67. 'ref_EUR_allele-match-a2-libd_chr4.psam'\n",
       "68. 'ref_EUR_allele-match-a2-libd_chr4.pvar'\n",
       "69. 'ref_EUR_allele-match-a2-libd_chr5.log'\n",
       "70. 'ref_EUR_allele-match-a2-libd_chr5.pgen'\n",
       "71. 'ref_EUR_allele-match-a2-libd_chr5.psam'\n",
       "72. 'ref_EUR_allele-match-a2-libd_chr5.pvar'\n",
       "73. 'ref_EUR_allele-match-a2-libd_chr6.log'\n",
       "74. 'ref_EUR_allele-match-a2-libd_chr6.pgen'\n",
       "75. 'ref_EUR_allele-match-a2-libd_chr6.psam'\n",
       "76. 'ref_EUR_allele-match-a2-libd_chr6.pvar'\n",
       "77. 'ref_EUR_allele-match-a2-libd_chr7.log'\n",
       "78. 'ref_EUR_allele-match-a2-libd_chr7.pgen'\n",
       "79. 'ref_EUR_allele-match-a2-libd_chr7.psam'\n",
       "80. 'ref_EUR_allele-match-a2-libd_chr7.pvar'\n",
       "81. 'ref_EUR_allele-match-a2-libd_chr8.log'\n",
       "82. 'ref_EUR_allele-match-a2-libd_chr8.pgen'\n",
       "83. 'ref_EUR_allele-match-a2-libd_chr8.psam'\n",
       "84. 'ref_EUR_allele-match-a2-libd_chr8.pvar'\n",
       "85. 'ref_EUR_allele-match-a2-libd_chr9.log'\n",
       "86. 'ref_EUR_allele-match-a2-libd_chr9.pgen'\n",
       "87. 'ref_EUR_allele-match-a2-libd_chr9.psam'\n",
       "88. 'ref_EUR_allele-match-a2-libd_chr9.pvar'\n",
       "\n",
       "\n"
      ],
      "text/plain": [
       " [1] \"ref_EUR_allele-match-a2-libd_chr1.log\"  \n",
       " [2] \"ref_EUR_allele-match-a2-libd_chr1.pgen\" \n",
       " [3] \"ref_EUR_allele-match-a2-libd_chr1.psam\" \n",
       " [4] \"ref_EUR_allele-match-a2-libd_chr1.pvar\" \n",
       " [5] \"ref_EUR_allele-match-a2-libd_chr10.log\" \n",
       " [6] \"ref_EUR_allele-match-a2-libd_chr10.pgen\"\n",
       " [7] \"ref_EUR_allele-match-a2-libd_chr10.psam\"\n",
       " [8] \"ref_EUR_allele-match-a2-libd_chr10.pvar\"\n",
       " [9] \"ref_EUR_allele-match-a2-libd_chr11.log\" \n",
       "[10] \"ref_EUR_allele-match-a2-libd_chr11.pgen\"\n",
       "[11] \"ref_EUR_allele-match-a2-libd_chr11.psam\"\n",
       "[12] \"ref_EUR_allele-match-a2-libd_chr11.pvar\"\n",
       "[13] \"ref_EUR_allele-match-a2-libd_chr12.log\" \n",
       "[14] \"ref_EUR_allele-match-a2-libd_chr12.pgen\"\n",
       "[15] \"ref_EUR_allele-match-a2-libd_chr12.psam\"\n",
       "[16] \"ref_EUR_allele-match-a2-libd_chr12.pvar\"\n",
       "[17] \"ref_EUR_allele-match-a2-libd_chr13.log\" \n",
       "[18] \"ref_EUR_allele-match-a2-libd_chr13.pgen\"\n",
       "[19] \"ref_EUR_allele-match-a2-libd_chr13.psam\"\n",
       "[20] \"ref_EUR_allele-match-a2-libd_chr13.pvar\"\n",
       "[21] \"ref_EUR_allele-match-a2-libd_chr14.log\" \n",
       "[22] \"ref_EUR_allele-match-a2-libd_chr14.pgen\"\n",
       "[23] \"ref_EUR_allele-match-a2-libd_chr14.psam\"\n",
       "[24] \"ref_EUR_allele-match-a2-libd_chr14.pvar\"\n",
       "[25] \"ref_EUR_allele-match-a2-libd_chr15.log\" \n",
       "[26] \"ref_EUR_allele-match-a2-libd_chr15.pgen\"\n",
       "[27] \"ref_EUR_allele-match-a2-libd_chr15.psam\"\n",
       "[28] \"ref_EUR_allele-match-a2-libd_chr15.pvar\"\n",
       "[29] \"ref_EUR_allele-match-a2-libd_chr16.log\" \n",
       "[30] \"ref_EUR_allele-match-a2-libd_chr16.pgen\"\n",
       "[31] \"ref_EUR_allele-match-a2-libd_chr16.psam\"\n",
       "[32] \"ref_EUR_allele-match-a2-libd_chr16.pvar\"\n",
       "[33] \"ref_EUR_allele-match-a2-libd_chr17.log\" \n",
       "[34] \"ref_EUR_allele-match-a2-libd_chr17.pgen\"\n",
       "[35] \"ref_EUR_allele-match-a2-libd_chr17.psam\"\n",
       "[36] \"ref_EUR_allele-match-a2-libd_chr17.pvar\"\n",
       "[37] \"ref_EUR_allele-match-a2-libd_chr18.log\" \n",
       "[38] \"ref_EUR_allele-match-a2-libd_chr18.pgen\"\n",
       "[39] \"ref_EUR_allele-match-a2-libd_chr18.psam\"\n",
       "[40] \"ref_EUR_allele-match-a2-libd_chr18.pvar\"\n",
       "[41] \"ref_EUR_allele-match-a2-libd_chr19.log\" \n",
       "[42] \"ref_EUR_allele-match-a2-libd_chr19.pgen\"\n",
       "[43] \"ref_EUR_allele-match-a2-libd_chr19.psam\"\n",
       "[44] \"ref_EUR_allele-match-a2-libd_chr19.pvar\"\n",
       "[45] \"ref_EUR_allele-match-a2-libd_chr2.log\"  \n",
       "[46] \"ref_EUR_allele-match-a2-libd_chr2.pgen\" \n",
       "[47] \"ref_EUR_allele-match-a2-libd_chr2.psam\" \n",
       "[48] \"ref_EUR_allele-match-a2-libd_chr2.pvar\" \n",
       "[49] \"ref_EUR_allele-match-a2-libd_chr20.log\" \n",
       "[50] \"ref_EUR_allele-match-a2-libd_chr20.pgen\"\n",
       "[51] \"ref_EUR_allele-match-a2-libd_chr20.psam\"\n",
       "[52] \"ref_EUR_allele-match-a2-libd_chr20.pvar\"\n",
       "[53] \"ref_EUR_allele-match-a2-libd_chr21.log\" \n",
       "[54] \"ref_EUR_allele-match-a2-libd_chr21.pgen\"\n",
       "[55] \"ref_EUR_allele-match-a2-libd_chr21.psam\"\n",
       "[56] \"ref_EUR_allele-match-a2-libd_chr21.pvar\"\n",
       "[57] \"ref_EUR_allele-match-a2-libd_chr22.log\" \n",
       "[58] \"ref_EUR_allele-match-a2-libd_chr22.pgen\"\n",
       "[59] \"ref_EUR_allele-match-a2-libd_chr22.psam\"\n",
       "[60] \"ref_EUR_allele-match-a2-libd_chr22.pvar\"\n",
       "[61] \"ref_EUR_allele-match-a2-libd_chr3.log\"  \n",
       "[62] \"ref_EUR_allele-match-a2-libd_chr3.pgen\" \n",
       "[63] \"ref_EUR_allele-match-a2-libd_chr3.psam\" \n",
       "[64] \"ref_EUR_allele-match-a2-libd_chr3.pvar\" \n",
       "[65] \"ref_EUR_allele-match-a2-libd_chr4.log\"  \n",
       "[66] \"ref_EUR_allele-match-a2-libd_chr4.pgen\" \n",
       "[67] \"ref_EUR_allele-match-a2-libd_chr4.psam\" \n",
       "[68] \"ref_EUR_allele-match-a2-libd_chr4.pvar\" \n",
       "[69] \"ref_EUR_allele-match-a2-libd_chr5.log\"  \n",
       "[70] \"ref_EUR_allele-match-a2-libd_chr5.pgen\" \n",
       "[71] \"ref_EUR_allele-match-a2-libd_chr5.psam\" \n",
       "[72] \"ref_EUR_allele-match-a2-libd_chr5.pvar\" \n",
       "[73] \"ref_EUR_allele-match-a2-libd_chr6.log\"  \n",
       "[74] \"ref_EUR_allele-match-a2-libd_chr6.pgen\" \n",
       "[75] \"ref_EUR_allele-match-a2-libd_chr6.psam\" \n",
       "[76] \"ref_EUR_allele-match-a2-libd_chr6.pvar\" \n",
       "[77] \"ref_EUR_allele-match-a2-libd_chr7.log\"  \n",
       "[78] \"ref_EUR_allele-match-a2-libd_chr7.pgen\" \n",
       "[79] \"ref_EUR_allele-match-a2-libd_chr7.psam\" \n",
       "[80] \"ref_EUR_allele-match-a2-libd_chr7.pvar\" \n",
       "[81] \"ref_EUR_allele-match-a2-libd_chr8.log\"  \n",
       "[82] \"ref_EUR_allele-match-a2-libd_chr8.pgen\" \n",
       "[83] \"ref_EUR_allele-match-a2-libd_chr8.psam\" \n",
       "[84] \"ref_EUR_allele-match-a2-libd_chr8.pvar\" \n",
       "[85] \"ref_EUR_allele-match-a2-libd_chr9.log\"  \n",
       "[86] \"ref_EUR_allele-match-a2-libd_chr9.pgen\" \n",
       "[87] \"ref_EUR_allele-match-a2-libd_chr9.psam\" \n",
       "[88] \"ref_EUR_allele-match-a2-libd_chr9.pvar\" "
      ]
     },
     "metadata": {},
     "output_type": "display_data"
    }
   ],
   "source": [
    "list.files(\"/expanse/lustre/projects/jhu152/naglemi/mwas/gwas_flipped/\", pattern = \"a2\")"
   ]
  },
  {
   "cell_type": "code",
   "execution_count": null,
   "id": "1f71818e-d73b-4058-a8c5-f824ebed5426",
   "metadata": {},
   "outputs": [],
   "source": []
  },
  {
   "cell_type": "code",
   "execution_count": null,
   "id": "79a36f69-2217-432d-bcfb-f21f2f86aff1",
   "metadata": {},
   "outputs": [],
   "source": []
  },
  {
   "cell_type": "code",
   "execution_count": null,
   "id": "379a8f0d-3877-4645-8ef0-5a683c334c8b",
   "metadata": {},
   "outputs": [],
   "source": []
  },
  {
   "cell_type": "code",
   "execution_count": 107,
   "id": "0d2fdb29-f759-4fc6-8178-b60dfc09e9db",
   "metadata": {},
   "outputs": [],
   "source": [
    "library(data.table)\n",
    "\n",
    "summary_stats_paths <- list.files(\"/expanse/lustre/projects/jhu152/naglemi/mwas/gwas/\", pattern = \"alleleprocessed.txt\", full.names = TRUE)"
   ]
  },
  {
   "cell_type": "code",
   "execution_count": 108,
   "id": "b677f0bd-3b8e-49a9-b8f1-3242b40b939e",
   "metadata": {},
   "outputs": [
    {
     "data": {
      "text/html": [
       "<style>\n",
       ".list-inline {list-style: none; margin:0; padding: 0}\n",
       ".list-inline>li {display: inline-block}\n",
       ".list-inline>li:not(:last-child)::after {content: \"\\00b7\"; padding: 0 .5ex}\n",
       "</style>\n",
       "<ol class=list-inline><li>'/expanse/lustre/projects/jhu152/naglemi/mwas/gwas//gwas_stat_bp_alleleprocessed.txt'</li><li>'/expanse/lustre/projects/jhu152/naglemi/mwas/gwas//gwas_stat_mdd_alleleprocessed.txt'</li><li>'/expanse/lustre/projects/jhu152/naglemi/mwas/gwas//gwas_stat_scz_alleleprocessed.txt'</li></ol>\n"
      ],
      "text/latex": [
       "\\begin{enumerate*}\n",
       "\\item '/expanse/lustre/projects/jhu152/naglemi/mwas/gwas//gwas\\_stat\\_bp\\_alleleprocessed.txt'\n",
       "\\item '/expanse/lustre/projects/jhu152/naglemi/mwas/gwas//gwas\\_stat\\_mdd\\_alleleprocessed.txt'\n",
       "\\item '/expanse/lustre/projects/jhu152/naglemi/mwas/gwas//gwas\\_stat\\_scz\\_alleleprocessed.txt'\n",
       "\\end{enumerate*}\n"
      ],
      "text/markdown": [
       "1. '/expanse/lustre/projects/jhu152/naglemi/mwas/gwas//gwas_stat_bp_alleleprocessed.txt'\n",
       "2. '/expanse/lustre/projects/jhu152/naglemi/mwas/gwas//gwas_stat_mdd_alleleprocessed.txt'\n",
       "3. '/expanse/lustre/projects/jhu152/naglemi/mwas/gwas//gwas_stat_scz_alleleprocessed.txt'\n",
       "\n",
       "\n"
      ],
      "text/plain": [
       "[1] \"/expanse/lustre/projects/jhu152/naglemi/mwas/gwas//gwas_stat_bp_alleleprocessed.txt\" \n",
       "[2] \"/expanse/lustre/projects/jhu152/naglemi/mwas/gwas//gwas_stat_mdd_alleleprocessed.txt\"\n",
       "[3] \"/expanse/lustre/projects/jhu152/naglemi/mwas/gwas//gwas_stat_scz_alleleprocessed.txt\""
      ]
     },
     "metadata": {},
     "output_type": "display_data"
    }
   ],
   "source": [
    "summary_stats_paths"
   ]
  },
  {
   "cell_type": "code",
   "execution_count": 109,
   "id": "5b870466-a046-4e99-9de4-246819bdb6ab",
   "metadata": {},
   "outputs": [
    {
     "name": "stdout",
     "output_type": "stream",
     "text": [
      "File: /expanse/lustre/projects/jhu152/naglemi/mwas/gwas//gwas_stat_bp_alleleprocessed.txt - Total mismatches: 0 \n",
      "File: /expanse/lustre/projects/jhu152/naglemi/mwas/gwas//gwas_stat_mdd_alleleprocessed.txt - Total mismatches: 0 \n",
      "File: /expanse/lustre/projects/jhu152/naglemi/mwas/gwas//gwas_stat_scz_alleleprocessed.txt - Total mismatches: 0 \n"
     ]
    }
   ],
   "source": [
    "library(data.table)\n",
    "\n",
    "\n",
    "for (summary_stats_path in summary_stats_paths) {\n",
    "    \n",
    "    summary_stats <- fread(summary_stats_path)\n",
    "    summary_stats <- clean_and_standardize_colnames(summary_stats)\n",
    "\n",
    "    total_mismatches <- 0  # Initialize counter for mismatches\n",
    "\n",
    "    for (chr in 1:22) {\n",
    "        # Load reference and LIBD data\n",
    "        ref <- fread(paste0(\"/expanse/lustre/projects/jhu152/naglemi/mwas/gwas/ref_EUR_chr\", chr, \".pvar\"),\n",
    "                     select = c(\"#CHROM\", \"POS\", \"REF\", \"ALT\"),\n",
    "                     col.names = c(\"CHR\", \"BP\", \"REF\", \"ALT\"))\n",
    "\n",
    "        libd <- fread(paste0(\"/expanse/lustre/projects/jhu152/naglemi/mwas/gwas/libd_chr\", chr, \".pvar\"),\n",
    "                      select = c(\"#CHROM\", \"POS\", \"REF\", \"ALT\"),\n",
    "                      col.names = c(\"CHR\", \"BP\", \"REF_libd\", \"ALT_libd\"))\n",
    "\n",
    "        # Merge with reference and LIBD data by CHR and BP\n",
    "        merged_ref <- merge(summary_stats, ref, by = c(\"CHR\", \"BP\"), suffixes = c(\"\", \"_ref\"))\n",
    "        merged_data <- merge(merged_ref, libd, by = c(\"CHR\", \"BP\"), suffixes = c(\"\", \"_libd\"))\n",
    "\n",
    "        # Count mismatches in allele orders\n",
    "        mismatch_count <- merged_data[\n",
    "            !(((A1 == REF & A2 == ALT) | (A1 == ALT & A2 == REF)) &\n",
    "              ((A1 == REF_libd & A2 == ALT_libd) | (A1 == ALT_libd & A2 == REF_libd))),\n",
    "            .N\n",
    "        ]\n",
    "\n",
    "        # Accumulate total mismatches\n",
    "        total_mismatches <- total_mismatches + mismatch_count\n",
    "    }\n",
    "\n",
    "    # Print a message with the total count of mismatches\n",
    "    cat(\"File:\", summary_stats_path, \"- Total mismatches:\", total_mismatches, \"\\n\")\n",
    "}\n"
   ]
  },
  {
   "cell_type": "code",
   "execution_count": 110,
   "id": "94ae875a-f2ff-492a-af33-7270fd8289c9",
   "metadata": {},
   "outputs": [],
   "source": [
    "library(data.table)\n",
    "\n",
    "summary_stats_paths <- list.files(\"/expanse/lustre/projects/jhu152/naglemi/mwas/gwas/\", pattern = \"stat\", full.names = TRUE)"
   ]
  },
  {
   "cell_type": "code",
   "execution_count": 111,
   "id": "ce0dee46-9dcf-4cab-95ab-2a90f14973ef",
   "metadata": {
    "collapsed": true,
    "jupyter": {
     "outputs_hidden": true
    }
   },
   "outputs": [
    {
     "name": "stdout",
     "output_type": "stream",
     "text": [
      "[1] \"/expanse/lustre/projects/jhu152/naglemi/mwas/gwas//gwas_stat_bp\"\n"
     ]
    },
    {
     "name": "stderr",
     "output_type": "stream",
     "text": [
      "Warning message in fread(summary_stats_path):\n",
      "“Detected 1 column names but the data has 16 columns (i.e. invalid file). Added 15 extra default column names at the end.”\n"
     ]
    },
    {
     "name": "stdout",
     "output_type": "stream",
     "text": [
      "File: /expanse/lustre/projects/jhu152/naglemi/mwas/gwas//gwas_stat_bp - Total mismatches: 22 \n",
      "[1] \"/expanse/lustre/projects/jhu152/naglemi/mwas/gwas//gwas_stat_bp_alleleprocessed.txt\"\n",
      "File: /expanse/lustre/projects/jhu152/naglemi/mwas/gwas//gwas_stat_bp_alleleprocessed.txt - Total mismatches: 0 \n",
      "[1] \"/expanse/lustre/projects/jhu152/naglemi/mwas/gwas//gwas_stat_mdd\"\n",
      "File: /expanse/lustre/projects/jhu152/naglemi/mwas/gwas//gwas_stat_mdd - Total mismatches: 30 \n",
      "[1] \"/expanse/lustre/projects/jhu152/naglemi/mwas/gwas//gwas_stat_mdd_alleleprocessed.txt\"\n",
      "File: /expanse/lustre/projects/jhu152/naglemi/mwas/gwas//gwas_stat_mdd_alleleprocessed.txt - Total mismatches: 0 \n",
      "[1] \"/expanse/lustre/projects/jhu152/naglemi/mwas/gwas//gwas_stat_scz\"\n"
     ]
    },
    {
     "name": "stderr",
     "output_type": "stream",
     "text": [
      "Warning message in fread(summary_stats_path):\n",
      "“Detected 1 column names but the data has 19 columns (i.e. invalid file). Added 18 extra default column names at the end.”\n"
     ]
    },
    {
     "name": "stdout",
     "output_type": "stream",
     "text": [
      "File: /expanse/lustre/projects/jhu152/naglemi/mwas/gwas//gwas_stat_scz - Total mismatches: 21 \n",
      "[1] \"/expanse/lustre/projects/jhu152/naglemi/mwas/gwas//gwas_stat_scz_alleleprocessed.txt\"\n",
      "File: /expanse/lustre/projects/jhu152/naglemi/mwas/gwas//gwas_stat_scz_alleleprocessed.txt - Total mismatches: 0 \n"
     ]
    }
   ],
   "source": [
    "for (summary_stats_path in summary_stats_paths) {\n",
    "    print(summary_stats_path)\n",
    "    summary_stats <- fread(summary_stats_path)\n",
    "    summary_stats <- clean_and_standardize_colnames(summary_stats)\n",
    "\n",
    "    total_mismatches <- 0  # Initialize counter for mismatches\n",
    "\n",
    "    for (chr in 1:22) {\n",
    "        # Load reference and LIBD data\n",
    "        ref <- fread(paste0(\"/expanse/lustre/projects/jhu152/naglemi/mwas/gwas/ref_EUR_chr\", chr, \".pvar\"),\n",
    "                     select = c(\"#CHROM\", \"POS\", \"REF\", \"ALT\"),\n",
    "                     col.names = c(\"CHR\", \"BP\", \"REF\", \"ALT\"))\n",
    "\n",
    "        libd <- fread(paste0(\"/expanse/lustre/projects/jhu152/naglemi/mwas/gwas/libd_chr\", chr, \".pvar\"),\n",
    "                      select = c(\"#CHROM\", \"POS\", \"REF\", \"ALT\"),\n",
    "                      col.names = c(\"CHR\", \"BP\", \"REF_libd\", \"ALT_libd\"))\n",
    "\n",
    "        # Merge with reference and LIBD data by CHR and BP\n",
    "        merged_ref <- merge(summary_stats, ref, by = c(\"CHR\", \"BP\"), suffixes = c(\"\", \"_ref\"))\n",
    "        merged_data <- merge(merged_ref, libd, by = c(\"CHR\", \"BP\"), suffixes = c(\"\", \"_libd\"))\n",
    "\n",
    "        # Count mismatches in allele orders\n",
    "        mismatch_count <- merged_data[\n",
    "            !(((A1 == REF & A2 == ALT) | (A1 == ALT & A2 == REF)) &\n",
    "              ((A1 == REF_libd & A2 == ALT_libd) | (A1 == ALT_libd & A2 == REF_libd))),\n",
    "            .N\n",
    "        ]\n",
    "\n",
    "        # Accumulate total mismatches\n",
    "        total_mismatches <- total_mismatches + mismatch_count\n",
    "    }\n",
    "\n",
    "    # Print a message with the total count of mismatches\n",
    "    cat(\"File:\", summary_stats_path, \"- Total mismatches:\", total_mismatches, \"\\n\")\n",
    "}\n"
   ]
  },
  {
   "cell_type": "code",
   "execution_count": 113,
   "id": "754390d2-a7ee-4345-a73b-7b72f575f55f",
   "metadata": {},
   "outputs": [
    {
     "name": "stderr",
     "output_type": "stream",
     "text": [
      "Warning message in fread(summary_stats_path):\n",
      "“Detected 1 column names but the data has 16 columns (i.e. invalid file). Added 15 extra default column names at the end.”\n"
     ]
    },
    {
     "name": "stdout",
     "output_type": "stream",
     "text": [
      "Processing file: /expanse/lustre/projects/jhu152/naglemi/mwas/gwas//gwas_stat_bp \n",
      "\n",
      "Chromosome: 1 - ref mismatches: 1 \n",
      "Chromosome: 2 - ref mismatches: 0 \n",
      "Chromosome: 3 - ref mismatches: 0 \n",
      "Chromosome: 4 - ref mismatches: 0 \n",
      "Chromosome: 5 - ref mismatches: 1 \n",
      "Chromosome: 6 - ref mismatches: 0 \n",
      "Chromosome: 7 - ref mismatches: 0 \n",
      "Chromosome: 8 - ref mismatches: 0 \n",
      "Chromosome: 9 - ref mismatches: 0 \n",
      "Chromosome: 10 - ref mismatches: 1 \n",
      "Chromosome: 11 - ref mismatches: 1 \n",
      "Chromosome: 12 - ref mismatches: 1 \n",
      "Chromosome: 13 - ref mismatches: 2 \n",
      "Chromosome: 14 - ref mismatches: 0 \n",
      "Chromosome: 15 - ref mismatches: 0 \n",
      "Chromosome: 16 - ref mismatches: 0 \n",
      "Chromosome: 17 - ref mismatches: 0 \n",
      "Chromosome: 18 - ref mismatches: 1 \n",
      "Chromosome: 19 - ref mismatches: 0 \n",
      "Chromosome: 20 - ref mismatches: 0 \n",
      "Chromosome: 21 - ref mismatches: 0 \n",
      "Chromosome: 22 - ref mismatches: 0 \n",
      "\n",
      "Chromosome: 1 - libd mismatches: 1 \n",
      "Chromosome: 2 - libd mismatches: 1 \n",
      "Chromosome: 3 - libd mismatches: 0 \n",
      "Chromosome: 4 - libd mismatches: 0 \n",
      "Chromosome: 5 - libd mismatches: 0 \n",
      "Chromosome: 6 - libd mismatches: 10 \n",
      "Chromosome: 7 - libd mismatches: 0 \n",
      "Chromosome: 8 - libd mismatches: 0 \n",
      "Chromosome: 9 - libd mismatches: 0 \n",
      "Chromosome: 10 - libd mismatches: 0 \n",
      "Chromosome: 11 - libd mismatches: 1 \n",
      "Chromosome: 12 - libd mismatches: 0 \n",
      "Chromosome: 13 - libd mismatches: 0 \n",
      "Chromosome: 14 - libd mismatches: 0 \n",
      "Chromosome: 15 - libd mismatches: 1 \n",
      "Chromosome: 16 - libd mismatches: 0 \n",
      "Chromosome: 17 - libd mismatches: 0 \n",
      "Chromosome: 18 - libd mismatches: 0 \n",
      "Chromosome: 19 - libd mismatches: 0 \n",
      "Chromosome: 20 - libd mismatches: 0 \n",
      "Chromosome: 21 - libd mismatches: 0 \n",
      "Chromosome: 22 - libd mismatches: 1 \n",
      "\n",
      "File: /expanse/lustre/projects/jhu152/naglemi/mwas/gwas//gwas_stat_bp - Total ref mismatches: 8 \n",
      "File: /expanse/lustre/projects/jhu152/naglemi/mwas/gwas//gwas_stat_bp - Total libd mismatches: 15 \n",
      "\n",
      "Processing file: /expanse/lustre/projects/jhu152/naglemi/mwas/gwas//gwas_stat_bp_alleleprocessed.txt \n",
      "\n",
      "Chromosome: 1 - ref mismatches: 0 \n",
      "Chromosome: 2 - ref mismatches: 0 \n",
      "Chromosome: 3 - ref mismatches: 0 \n",
      "Chromosome: 4 - ref mismatches: 0 \n",
      "Chromosome: 5 - ref mismatches: 0 \n",
      "Chromosome: 6 - ref mismatches: 0 \n",
      "Chromosome: 7 - ref mismatches: 0 \n",
      "Chromosome: 8 - ref mismatches: 0 \n",
      "Chromosome: 9 - ref mismatches: 0 \n",
      "Chromosome: 10 - ref mismatches: 0 \n",
      "Chromosome: 11 - ref mismatches: 0 \n",
      "Chromosome: 12 - ref mismatches: 0 \n",
      "Chromosome: 13 - ref mismatches: 0 \n",
      "Chromosome: 14 - ref mismatches: 0 \n",
      "Chromosome: 15 - ref mismatches: 0 \n",
      "Chromosome: 16 - ref mismatches: 0 \n",
      "Chromosome: 17 - ref mismatches: 0 \n",
      "Chromosome: 18 - ref mismatches: 0 \n",
      "Chromosome: 19 - ref mismatches: 0 \n",
      "Chromosome: 20 - ref mismatches: 0 \n",
      "Chromosome: 21 - ref mismatches: 0 \n",
      "Chromosome: 22 - ref mismatches: 0 \n",
      "\n",
      "Chromosome: 1 - libd mismatches: 0 \n",
      "Chromosome: 2 - libd mismatches: 0 \n",
      "Chromosome: 3 - libd mismatches: 0 \n",
      "Chromosome: 4 - libd mismatches: 0 \n",
      "Chromosome: 5 - libd mismatches: 0 \n",
      "Chromosome: 6 - libd mismatches: 0 \n",
      "Chromosome: 7 - libd mismatches: 0 \n",
      "Chromosome: 8 - libd mismatches: 0 \n",
      "Chromosome: 9 - libd mismatches: 0 \n",
      "Chromosome: 10 - libd mismatches: 0 \n",
      "Chromosome: 11 - libd mismatches: 0 \n",
      "Chromosome: 12 - libd mismatches: 0 \n",
      "Chromosome: 13 - libd mismatches: 0 \n",
      "Chromosome: 14 - libd mismatches: 0 \n",
      "Chromosome: 15 - libd mismatches: 0 \n",
      "Chromosome: 16 - libd mismatches: 0 \n",
      "Chromosome: 17 - libd mismatches: 0 \n",
      "Chromosome: 18 - libd mismatches: 0 \n",
      "Chromosome: 19 - libd mismatches: 0 \n",
      "Chromosome: 20 - libd mismatches: 0 \n",
      "Chromosome: 21 - libd mismatches: 0 \n",
      "Chromosome: 22 - libd mismatches: 0 \n",
      "\n",
      "File: /expanse/lustre/projects/jhu152/naglemi/mwas/gwas//gwas_stat_bp_alleleprocessed.txt - Total ref mismatches: 0 \n",
      "File: /expanse/lustre/projects/jhu152/naglemi/mwas/gwas//gwas_stat_bp_alleleprocessed.txt - Total libd mismatches: 0 \n",
      "\n",
      "Processing file: /expanse/lustre/projects/jhu152/naglemi/mwas/gwas//gwas_stat_mdd \n",
      "\n",
      "Chromosome: 1 - ref mismatches: 3 \n",
      "Chromosome: 2 - ref mismatches: 0 \n",
      "Chromosome: 3 - ref mismatches: 0 \n",
      "Chromosome: 4 - ref mismatches: 0 \n",
      "Chromosome: 5 - ref mismatches: 2 \n",
      "Chromosome: 6 - ref mismatches: 0 \n",
      "Chromosome: 7 - ref mismatches: 1 \n",
      "Chromosome: 8 - ref mismatches: 1 \n",
      "Chromosome: 9 - ref mismatches: 2 \n",
      "Chromosome: 10 - ref mismatches: 1 \n",
      "Chromosome: 11 - ref mismatches: 0 \n",
      "Chromosome: 12 - ref mismatches: 1 \n",
      "Chromosome: 13 - ref mismatches: 2 \n",
      "Chromosome: 14 - ref mismatches: 1 \n",
      "Chromosome: 15 - ref mismatches: 0 \n",
      "Chromosome: 16 - ref mismatches: 0 \n",
      "Chromosome: 17 - ref mismatches: 0 \n",
      "Chromosome: 18 - ref mismatches: 1 \n",
      "Chromosome: 19 - ref mismatches: 0 \n",
      "Chromosome: 20 - ref mismatches: 1 \n",
      "Chromosome: 21 - ref mismatches: 0 \n",
      "Chromosome: 22 - ref mismatches: 0 \n",
      "\n",
      "Chromosome: 1 - libd mismatches: 3 \n",
      "Chromosome: 2 - libd mismatches: 1 \n",
      "Chromosome: 3 - libd mismatches: 0 \n",
      "Chromosome: 4 - libd mismatches: 0 \n",
      "Chromosome: 5 - libd mismatches: 1 \n",
      "Chromosome: 6 - libd mismatches: 10 \n",
      "Chromosome: 7 - libd mismatches: 1 \n",
      "Chromosome: 8 - libd mismatches: 1 \n",
      "Chromosome: 9 - libd mismatches: 2 \n",
      "Chromosome: 10 - libd mismatches: 0 \n",
      "Chromosome: 11 - libd mismatches: 0 \n",
      "Chromosome: 12 - libd mismatches: 0 \n",
      "Chromosome: 13 - libd mismatches: 0 \n",
      "Chromosome: 14 - libd mismatches: 1 \n",
      "Chromosome: 15 - libd mismatches: 1 \n",
      "Chromosome: 16 - libd mismatches: 0 \n",
      "Chromosome: 17 - libd mismatches: 0 \n",
      "Chromosome: 18 - libd mismatches: 0 \n",
      "Chromosome: 19 - libd mismatches: 0 \n",
      "Chromosome: 20 - libd mismatches: 1 \n",
      "Chromosome: 21 - libd mismatches: 0 \n",
      "Chromosome: 22 - libd mismatches: 1 \n",
      "\n",
      "File: /expanse/lustre/projects/jhu152/naglemi/mwas/gwas//gwas_stat_mdd - Total ref mismatches: 16 \n",
      "File: /expanse/lustre/projects/jhu152/naglemi/mwas/gwas//gwas_stat_mdd - Total libd mismatches: 23 \n",
      "\n",
      "Processing file: /expanse/lustre/projects/jhu152/naglemi/mwas/gwas//gwas_stat_mdd_alleleprocessed.txt \n",
      "\n",
      "Chromosome: 1 - ref mismatches: 0 \n",
      "Chromosome: 2 - ref mismatches: 0 \n",
      "Chromosome: 3 - ref mismatches: 0 \n",
      "Chromosome: 4 - ref mismatches: 0 \n",
      "Chromosome: 5 - ref mismatches: 0 \n",
      "Chromosome: 6 - ref mismatches: 0 \n",
      "Chromosome: 7 - ref mismatches: 0 \n",
      "Chromosome: 8 - ref mismatches: 0 \n",
      "Chromosome: 9 - ref mismatches: 0 \n",
      "Chromosome: 10 - ref mismatches: 0 \n",
      "Chromosome: 11 - ref mismatches: 0 \n",
      "Chromosome: 12 - ref mismatches: 0 \n",
      "Chromosome: 13 - ref mismatches: 0 \n",
      "Chromosome: 14 - ref mismatches: 0 \n",
      "Chromosome: 15 - ref mismatches: 0 \n",
      "Chromosome: 16 - ref mismatches: 0 \n",
      "Chromosome: 17 - ref mismatches: 0 \n",
      "Chromosome: 18 - ref mismatches: 0 \n",
      "Chromosome: 19 - ref mismatches: 0 \n",
      "Chromosome: 20 - ref mismatches: 0 \n",
      "Chromosome: 21 - ref mismatches: 0 \n",
      "Chromosome: 22 - ref mismatches: 0 \n",
      "\n",
      "Chromosome: 1 - libd mismatches: 0 \n",
      "Chromosome: 2 - libd mismatches: 0 \n",
      "Chromosome: 3 - libd mismatches: 0 \n",
      "Chromosome: 4 - libd mismatches: 0 \n",
      "Chromosome: 5 - libd mismatches: 0 \n",
      "Chromosome: 6 - libd mismatches: 0 \n",
      "Chromosome: 7 - libd mismatches: 0 \n",
      "Chromosome: 8 - libd mismatches: 0 \n",
      "Chromosome: 9 - libd mismatches: 0 \n",
      "Chromosome: 10 - libd mismatches: 0 \n",
      "Chromosome: 11 - libd mismatches: 0 \n",
      "Chromosome: 12 - libd mismatches: 0 \n",
      "Chromosome: 13 - libd mismatches: 0 \n",
      "Chromosome: 14 - libd mismatches: 0 \n",
      "Chromosome: 15 - libd mismatches: 0 \n",
      "Chromosome: 16 - libd mismatches: 0 \n",
      "Chromosome: 17 - libd mismatches: 0 \n",
      "Chromosome: 18 - libd mismatches: 0 \n",
      "Chromosome: 19 - libd mismatches: 0 \n",
      "Chromosome: 20 - libd mismatches: 0 \n",
      "Chromosome: 21 - libd mismatches: 0 \n",
      "Chromosome: 22 - libd mismatches: 0 \n",
      "\n",
      "File: /expanse/lustre/projects/jhu152/naglemi/mwas/gwas//gwas_stat_mdd_alleleprocessed.txt - Total ref mismatches: 0 \n",
      "File: /expanse/lustre/projects/jhu152/naglemi/mwas/gwas//gwas_stat_mdd_alleleprocessed.txt - Total libd mismatches: 0 \n",
      "\n"
     ]
    },
    {
     "name": "stderr",
     "output_type": "stream",
     "text": [
      "Warning message in fread(summary_stats_path):\n",
      "“Detected 1 column names but the data has 19 columns (i.e. invalid file). Added 18 extra default column names at the end.”\n"
     ]
    },
    {
     "name": "stdout",
     "output_type": "stream",
     "text": [
      "Processing file: /expanse/lustre/projects/jhu152/naglemi/mwas/gwas//gwas_stat_scz \n",
      "\n",
      "Chromosome: 1 - ref mismatches: 1 \n",
      "Chromosome: 2 - ref mismatches: 0 \n",
      "Chromosome: 3 - ref mismatches: 0 \n",
      "Chromosome: 4 - ref mismatches: 0 \n",
      "Chromosome: 5 - ref mismatches: 1 \n",
      "Chromosome: 6 - ref mismatches: 0 \n",
      "Chromosome: 7 - ref mismatches: 0 \n",
      "Chromosome: 8 - ref mismatches: 0 \n",
      "Chromosome: 9 - ref mismatches: 0 \n",
      "Chromosome: 10 - ref mismatches: 1 \n",
      "Chromosome: 11 - ref mismatches: 0 \n",
      "Chromosome: 12 - ref mismatches: 1 \n",
      "Chromosome: 13 - ref mismatches: 2 \n",
      "Chromosome: 14 - ref mismatches: 0 \n",
      "Chromosome: 15 - ref mismatches: 0 \n",
      "Chromosome: 16 - ref mismatches: 0 \n",
      "Chromosome: 17 - ref mismatches: 0 \n",
      "Chromosome: 18 - ref mismatches: 1 \n",
      "Chromosome: 19 - ref mismatches: 0 \n",
      "Chromosome: 20 - ref mismatches: 0 \n",
      "Chromosome: 21 - ref mismatches: 0 \n",
      "Chromosome: 22 - ref mismatches: 0 \n",
      "\n",
      "Chromosome: 1 - libd mismatches: 1 \n",
      "Chromosome: 2 - libd mismatches: 1 \n",
      "Chromosome: 3 - libd mismatches: 0 \n",
      "Chromosome: 4 - libd mismatches: 0 \n",
      "Chromosome: 5 - libd mismatches: 0 \n",
      "Chromosome: 6 - libd mismatches: 10 \n",
      "Chromosome: 7 - libd mismatches: 0 \n",
      "Chromosome: 8 - libd mismatches: 0 \n",
      "Chromosome: 9 - libd mismatches: 0 \n",
      "Chromosome: 10 - libd mismatches: 0 \n",
      "Chromosome: 11 - libd mismatches: 0 \n",
      "Chromosome: 12 - libd mismatches: 0 \n",
      "Chromosome: 13 - libd mismatches: 0 \n",
      "Chromosome: 14 - libd mismatches: 0 \n",
      "Chromosome: 15 - libd mismatches: 1 \n",
      "Chromosome: 16 - libd mismatches: 0 \n",
      "Chromosome: 17 - libd mismatches: 0 \n",
      "Chromosome: 18 - libd mismatches: 0 \n",
      "Chromosome: 19 - libd mismatches: 0 \n",
      "Chromosome: 20 - libd mismatches: 0 \n",
      "Chromosome: 21 - libd mismatches: 0 \n",
      "Chromosome: 22 - libd mismatches: 1 \n",
      "\n",
      "File: /expanse/lustre/projects/jhu152/naglemi/mwas/gwas//gwas_stat_scz - Total ref mismatches: 7 \n",
      "File: /expanse/lustre/projects/jhu152/naglemi/mwas/gwas//gwas_stat_scz - Total libd mismatches: 14 \n",
      "\n",
      "Processing file: /expanse/lustre/projects/jhu152/naglemi/mwas/gwas//gwas_stat_scz_alleleprocessed.txt \n",
      "\n",
      "Chromosome: 1 - ref mismatches: 0 \n",
      "Chromosome: 2 - ref mismatches: 0 \n",
      "Chromosome: 3 - ref mismatches: 0 \n",
      "Chromosome: 4 - ref mismatches: 0 \n",
      "Chromosome: 5 - ref mismatches: 0 \n",
      "Chromosome: 6 - ref mismatches: 0 \n",
      "Chromosome: 7 - ref mismatches: 0 \n",
      "Chromosome: 8 - ref mismatches: 0 \n",
      "Chromosome: 9 - ref mismatches: 0 \n",
      "Chromosome: 10 - ref mismatches: 0 \n",
      "Chromosome: 11 - ref mismatches: 0 \n",
      "Chromosome: 12 - ref mismatches: 0 \n",
      "Chromosome: 13 - ref mismatches: 0 \n",
      "Chromosome: 14 - ref mismatches: 0 \n",
      "Chromosome: 15 - ref mismatches: 0 \n",
      "Chromosome: 16 - ref mismatches: 0 \n",
      "Chromosome: 17 - ref mismatches: 0 \n",
      "Chromosome: 18 - ref mismatches: 0 \n",
      "Chromosome: 19 - ref mismatches: 0 \n",
      "Chromosome: 20 - ref mismatches: 0 \n",
      "Chromosome: 21 - ref mismatches: 0 \n",
      "Chromosome: 22 - ref mismatches: 0 \n",
      "\n",
      "Chromosome: 1 - libd mismatches: 0 \n",
      "Chromosome: 2 - libd mismatches: 0 \n",
      "Chromosome: 3 - libd mismatches: 0 \n",
      "Chromosome: 4 - libd mismatches: 0 \n",
      "Chromosome: 5 - libd mismatches: 0 \n",
      "Chromosome: 6 - libd mismatches: 0 \n",
      "Chromosome: 7 - libd mismatches: 0 \n",
      "Chromosome: 8 - libd mismatches: 0 \n",
      "Chromosome: 9 - libd mismatches: 0 \n",
      "Chromosome: 10 - libd mismatches: 0 \n",
      "Chromosome: 11 - libd mismatches: 0 \n",
      "Chromosome: 12 - libd mismatches: 0 \n",
      "Chromosome: 13 - libd mismatches: 0 \n",
      "Chromosome: 14 - libd mismatches: 0 \n",
      "Chromosome: 15 - libd mismatches: 0 \n",
      "Chromosome: 16 - libd mismatches: 0 \n",
      "Chromosome: 17 - libd mismatches: 0 \n",
      "Chromosome: 18 - libd mismatches: 0 \n",
      "Chromosome: 19 - libd mismatches: 0 \n",
      "Chromosome: 20 - libd mismatches: 0 \n",
      "Chromosome: 21 - libd mismatches: 0 \n",
      "Chromosome: 22 - libd mismatches: 0 \n",
      "\n",
      "File: /expanse/lustre/projects/jhu152/naglemi/mwas/gwas//gwas_stat_scz_alleleprocessed.txt - Total ref mismatches: 0 \n",
      "File: /expanse/lustre/projects/jhu152/naglemi/mwas/gwas//gwas_stat_scz_alleleprocessed.txt - Total libd mismatches: 0 \n",
      "\n"
     ]
    }
   ],
   "source": [
    "for (summary_stats_path in summary_stats_paths) {\n",
    "    \n",
    "    summary_stats <- fread(summary_stats_path)\n",
    "    summary_stats <- clean_and_standardize_colnames(summary_stats)\n",
    "\n",
    "    total_mismatches_ref <- 0  # Initialize counter for ref mismatches\n",
    "    total_mismatches_libd <- 0  # Initialize counter for libd mismatches\n",
    "\n",
    "    cat(\"Processing file:\", summary_stats_path, \"\\n\\n\")  # Print the file being processed\n",
    "\n",
    "    for (chr in 1:22) {\n",
    "        # Load reference data\n",
    "        ref <- fread(paste0(\"/expanse/lustre/projects/jhu152/naglemi/mwas/gwas/ref_EUR_chr\", chr, \".pvar\"),\n",
    "                     select = c(\"#CHROM\", \"POS\", \"REF\", \"ALT\"),\n",
    "                     col.names = c(\"CHR\", \"BP\", \"REF\", \"ALT\"))\n",
    "\n",
    "        # Merge with reference data by CHR and BP\n",
    "        merged_ref <- merge(summary_stats, ref, by = c(\"CHR\", \"BP\"), suffixes = c(\"\", \"_ref\"))\n",
    "\n",
    "        # Count mismatches in allele orders for ref\n",
    "        mismatch_count_ref <- merged_ref[\n",
    "            !((A1 == REF & A2 == ALT) | (A1 == ALT & A2 == REF)),\n",
    "            .N\n",
    "        ]\n",
    "\n",
    "        # Accumulate total ref mismatches\n",
    "        total_mismatches_ref <- total_mismatches_ref + mismatch_count_ref\n",
    "\n",
    "        # Print mismatches per chromosome for ref\n",
    "        cat(\"Chromosome:\", chr, \"- ref mismatches:\", mismatch_count_ref, \"\\n\")\n",
    "    }\n",
    "\n",
    "    cat(\"\\n\")  # Line break between ref and libd processing\n",
    "\n",
    "    for (chr in 1:22) {\n",
    "        # Load LIBD data\n",
    "        libd <- fread(paste0(\"/expanse/lustre/projects/jhu152/naglemi/mwas/gwas/libd_chr\", chr, \".pvar\"),\n",
    "                      select = c(\"#CHROM\", \"POS\", \"REF\", \"ALT\"),\n",
    "                      col.names = c(\"CHR\", \"BP\", \"REF_libd\", \"ALT_libd\"))\n",
    "\n",
    "        # Merge with LIBD data by CHR and BP\n",
    "        merged_libd <- merge(summary_stats, libd, by = c(\"CHR\", \"BP\"), suffixes = c(\"\", \"_libd\"))\n",
    "\n",
    "        # Count mismatches in allele orders for libd\n",
    "        mismatch_count_libd <- merged_libd[\n",
    "            !((A1 == REF_libd & A2 == ALT_libd) | (A1 == ALT_libd & A2 == REF_libd)),\n",
    "            .N\n",
    "        ]\n",
    "\n",
    "        # Accumulate total libd mismatches\n",
    "        total_mismatches_libd <- total_mismatches_libd + mismatch_count_libd\n",
    "\n",
    "        # Print mismatches per chromosome for libd\n",
    "        cat(\"Chromosome:\", chr, \"- libd mismatches:\", mismatch_count_libd, \"\\n\")\n",
    "    }\n",
    "\n",
    "    # Print summary of total mismatches for the file\n",
    "    cat(\"\\nFile:\", summary_stats_path, \"- Total ref mismatches:\", total_mismatches_ref, \"\\n\")\n",
    "    cat(\"File:\", summary_stats_path, \"- Total libd mismatches:\", total_mismatches_libd, \"\\n\\n\")\n",
    "}"
   ]
  },
  {
   "cell_type": "code",
   "execution_count": null,
   "id": "b6a226ed-3974-466e-ab12-11c11b866982",
   "metadata": {},
   "outputs": [],
   "source": []
  },
  {
   "cell_type": "code",
   "execution_count": 94,
   "id": "dfb3780a-ab52-425f-a545-3719e4cd4c7c",
   "metadata": {},
   "outputs": [
    {
     "name": "stderr",
     "output_type": "stream",
     "text": [
      "Warning message in file.remove(\"/expanse/lustre/projects/jhu152/naglemi/mwas/gwas//gwas_stat_bp_alleleprocessed_alleleprocessed.txt\"):\n",
      "“cannot remove file '/expanse/lustre/projects/jhu152/naglemi/mwas/gwas//gwas_stat_bp_alleleprocessed_alleleprocessed.txt', reason 'No such file or directory'”\n"
     ]
    },
    {
     "data": {
      "text/html": [
       "FALSE"
      ],
      "text/latex": [
       "FALSE"
      ],
      "text/markdown": [
       "FALSE"
      ],
      "text/plain": [
       "[1] FALSE"
      ]
     },
     "metadata": {},
     "output_type": "display_data"
    }
   ],
   "source": [
    "file.remove(\"/expanse/lustre/projects/jhu152/naglemi/mwas/gwas//gwas_stat_bp_alleleprocessed_alleleprocessed.txt\")"
   ]
  },
  {
   "cell_type": "code",
   "execution_count": 95,
   "id": "9538da8a-5f3c-4342-ba1d-2c71e454419d",
   "metadata": {},
   "outputs": [
    {
     "name": "stderr",
     "output_type": "stream",
     "text": [
      "Warning message in file.remove(\"/expanse/lustre/projects/jhu152/naglemi/mwas/gwas//gwas_stat_bp_alleleprocessed.txt\"):\n",
      "“cannot remove file '/expanse/lustre/projects/jhu152/naglemi/mwas/gwas//gwas_stat_bp_alleleprocessed.txt', reason 'No such file or directory'”\n"
     ]
    },
    {
     "data": {
      "text/html": [
       "FALSE"
      ],
      "text/latex": [
       "FALSE"
      ],
      "text/markdown": [
       "FALSE"
      ],
      "text/plain": [
       "[1] FALSE"
      ]
     },
     "metadata": {},
     "output_type": "display_data"
    }
   ],
   "source": [
    "file.remove(\"/expanse/lustre/projects/jhu152/naglemi/mwas/gwas//gwas_stat_bp_alleleprocessed.txt\")"
   ]
  },
  {
   "cell_type": "code",
   "execution_count": 87,
   "id": "25d69f4f-f4c9-4bf5-b295-9adb158509a1",
   "metadata": {},
   "outputs": [
    {
     "data": {
      "text/html": [
       "<table class=\"dataframe\">\n",
       "<caption>A data.table: 6 × 10</caption>\n",
       "<thead>\n",
       "\t<tr><th scope=col>SNP</th><th scope=col>CHR</th><th scope=col>BP</th><th scope=col>A1</th><th scope=col>A2</th><th scope=col>Freq</th><th scope=col>logOR</th><th scope=col>SE</th><th scope=col>P</th><th scope=col>BETA</th></tr>\n",
       "\t<tr><th scope=col>&lt;chr&gt;</th><th scope=col>&lt;int&gt;</th><th scope=col>&lt;int&gt;</th><th scope=col>&lt;chr&gt;</th><th scope=col>&lt;chr&gt;</th><th scope=col>&lt;dbl&gt;</th><th scope=col>&lt;dbl&gt;</th><th scope=col>&lt;dbl&gt;</th><th scope=col>&lt;dbl&gt;</th><th scope=col>&lt;dbl&gt;</th></tr>\n",
       "</thead>\n",
       "<tbody>\n",
       "\t<tr><td>rs1000000 </td><td>12</td><td>126406434</td><td>A</td><td>G</td><td>0.2242</td><td> 0.0016</td><td>0.0051</td><td>0.7600</td><td> 0.3137255</td></tr>\n",
       "\t<tr><td>rs10000003</td><td> 4</td><td> 56695481</td><td>A</td><td>G</td><td>0.2999</td><td>-0.0041</td><td>0.0047</td><td>0.3865</td><td>-0.8723404</td></tr>\n",
       "\t<tr><td>rs10000005</td><td> 4</td><td> 84240405</td><td>A</td><td>G</td><td>0.5348</td><td>-0.0023</td><td>0.0043</td><td>0.5864</td><td>-0.5348837</td></tr>\n",
       "\t<tr><td>rs10000006</td><td> 4</td><td>107905227</td><td>T</td><td>C</td><td>0.9605</td><td> 0.0060</td><td>0.0113</td><td>0.5931</td><td> 0.5309735</td></tr>\n",
       "\t<tr><td>rs10000008</td><td> 4</td><td>171855053</td><td>T</td><td>C</td><td>0.0138</td><td>-0.0185</td><td>0.0192</td><td>0.3353</td><td>-0.9635417</td></tr>\n",
       "\t<tr><td>rs10000010</td><td> 4</td><td> 21617051</td><td>T</td><td>C</td><td>0.5136</td><td>-0.0016</td><td>0.0043</td><td>0.7041</td><td>-0.3720930</td></tr>\n",
       "</tbody>\n",
       "</table>\n"
      ],
      "text/latex": [
       "A data.table: 6 × 10\n",
       "\\begin{tabular}{llllllllll}\n",
       " SNP & CHR & BP & A1 & A2 & Freq & logOR & SE & P & BETA\\\\\n",
       " <chr> & <int> & <int> & <chr> & <chr> & <dbl> & <dbl> & <dbl> & <dbl> & <dbl>\\\\\n",
       "\\hline\n",
       "\t rs1000000  & 12 & 126406434 & A & G & 0.2242 &  0.0016 & 0.0051 & 0.7600 &  0.3137255\\\\\n",
       "\t rs10000003 &  4 &  56695481 & A & G & 0.2999 & -0.0041 & 0.0047 & 0.3865 & -0.8723404\\\\\n",
       "\t rs10000005 &  4 &  84240405 & A & G & 0.5348 & -0.0023 & 0.0043 & 0.5864 & -0.5348837\\\\\n",
       "\t rs10000006 &  4 & 107905227 & T & C & 0.9605 &  0.0060 & 0.0113 & 0.5931 &  0.5309735\\\\\n",
       "\t rs10000008 &  4 & 171855053 & T & C & 0.0138 & -0.0185 & 0.0192 & 0.3353 & -0.9635417\\\\\n",
       "\t rs10000010 &  4 &  21617051 & T & C & 0.5136 & -0.0016 & 0.0043 & 0.7041 & -0.3720930\\\\\n",
       "\\end{tabular}\n"
      ],
      "text/markdown": [
       "\n",
       "A data.table: 6 × 10\n",
       "\n",
       "| SNP &lt;chr&gt; | CHR &lt;int&gt; | BP &lt;int&gt; | A1 &lt;chr&gt; | A2 &lt;chr&gt; | Freq &lt;dbl&gt; | logOR &lt;dbl&gt; | SE &lt;dbl&gt; | P &lt;dbl&gt; | BETA &lt;dbl&gt; |\n",
       "|---|---|---|---|---|---|---|---|---|---|\n",
       "| rs1000000  | 12 | 126406434 | A | G | 0.2242 |  0.0016 | 0.0051 | 0.7600 |  0.3137255 |\n",
       "| rs10000003 |  4 |  56695481 | A | G | 0.2999 | -0.0041 | 0.0047 | 0.3865 | -0.8723404 |\n",
       "| rs10000005 |  4 |  84240405 | A | G | 0.5348 | -0.0023 | 0.0043 | 0.5864 | -0.5348837 |\n",
       "| rs10000006 |  4 | 107905227 | T | C | 0.9605 |  0.0060 | 0.0113 | 0.5931 |  0.5309735 |\n",
       "| rs10000008 |  4 | 171855053 | T | C | 0.0138 | -0.0185 | 0.0192 | 0.3353 | -0.9635417 |\n",
       "| rs10000010 |  4 |  21617051 | T | C | 0.5136 | -0.0016 | 0.0043 | 0.7041 | -0.3720930 |\n",
       "\n"
      ],
      "text/plain": [
       "  SNP        CHR BP        A1 A2 Freq   logOR   SE     P      BETA      \n",
       "1 rs1000000  12  126406434 A  G  0.2242  0.0016 0.0051 0.7600  0.3137255\n",
       "2 rs10000003  4   56695481 A  G  0.2999 -0.0041 0.0047 0.3865 -0.8723404\n",
       "3 rs10000005  4   84240405 A  G  0.5348 -0.0023 0.0043 0.5864 -0.5348837\n",
       "4 rs10000006  4  107905227 T  C  0.9605  0.0060 0.0113 0.5931  0.5309735\n",
       "5 rs10000008  4  171855053 T  C  0.0138 -0.0185 0.0192 0.3353 -0.9635417\n",
       "6 rs10000010  4   21617051 T  C  0.5136 -0.0016 0.0043 0.7041 -0.3720930"
      ]
     },
     "metadata": {},
     "output_type": "display_data"
    }
   ],
   "source": [
    "head(summary_stats)"
   ]
  },
  {
   "cell_type": "code",
   "execution_count": null,
   "id": "1dfc472f-041d-4b69-96bc-051d13a31db9",
   "metadata": {},
   "outputs": [],
   "source": []
  },
  {
   "cell_type": "code",
   "execution_count": null,
   "id": "d531d312-d889-4986-a14c-f252246626cd",
   "metadata": {},
   "outputs": [],
   "source": []
  }
 ],
 "metadata": {
  "kernelspec": {
   "display_name": "R",
   "language": "R",
   "name": "ir"
  },
  "language_info": {
   "codemirror_mode": "r",
   "file_extension": ".r",
   "mimetype": "text/x-r-source",
   "name": "R",
   "pygments_lexer": "r",
   "version": "4.3.1"
  }
 },
 "nbformat": 4,
 "nbformat_minor": 5
}
