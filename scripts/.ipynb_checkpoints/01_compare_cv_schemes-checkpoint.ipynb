{
 "cells": [
  {
   "cell_type": "markdown",
   "id": "0d495431-29b2-4030-8f9d-351c673b747d",
   "metadata": {},
   "source": [
    "# Compare speed and similarity in results for two cross-validation schemes"
   ]
  },
  {
   "cell_type": "markdown",
   "id": "fc8c8af2-30bd-4af1-9186-0ce135142a83",
   "metadata": {},
   "source": [
    "Cross-validation is important for 1) tuning to determine alpha and lambda parameters in elastic net models, and 2) evaluating performance of optimized models while parameters are fixed.\n",
    "\n",
    "We wish to perform cross-validation in a manner that will give us the best cost/benefit ratio with respect to computational expense and model quality."
   ]
  },
  {
   "cell_type": "markdown",
   "id": "5aa27ff1-81de-478f-ab1e-2bf7e0779b51",
   "metadata": {},
   "source": [
    "## Prepare inputs"
   ]
  },
  {
   "cell_type": "code",
   "execution_count": 1,
   "id": "c2328408-d295-4387-afab-34c511b18b93",
   "metadata": {},
   "outputs": [],
   "source": [
    "library(CpGWAS)"
   ]
  },
  {
   "cell_type": "markdown",
   "id": "ff5b504e-9698-4a7d-a7d5-87bc89ac916d",
   "metadata": {},
   "source": [
    "Let's run these tests over a very small chunk on one chromosome."
   ]
  },
  {
   "cell_type": "code",
   "execution_count": null,
   "id": "c0d0abbe-22ea-46d4-ae1f-245de3f2e55e",
   "metadata": {},
   "outputs": [],
   "source": [
    "args <- list(\n",
    "    outdir = \"../output/\",\n",
    "    chunk1 = 10^6,\n",
    "    chunk2 = 10^6 + 100,\n",
    "    snp_data_path = \"../../mwas/gwas/libd_chr1.pgen\",\n",
    "    methylation_data_path = \"../../mwas/pheno/dlpfc/out/chr1_AA.rda\")"
   ]
  },
  {
   "cell_type": "markdown",
   "id": "6aa64a39-88cb-4498-9711-55760d3a1adb",
   "metadata": {},
   "source": [
    "Load our `BSseq` object containing bisulfite sequencing data and covariates"
   ]
  },
  {
   "cell_type": "code",
   "execution_count": null,
   "id": "ecbe46a8-10ae-43c7-bbea-1f1d55464b29",
   "metadata": {},
   "outputs": [],
   "source": [
    "load(args$methylation_data_path)"
   ]
  },
  {
   "cell_type": "markdown",
   "id": "a2ab1fe5-7e86-41fd-ac60-d3e73b50b0e4",
   "metadata": {},
   "source": [
    "Organize inputs into an object of our class `MethylationInput`"
   ]
  },
  {
   "cell_type": "code",
   "execution_count": null,
   "id": "24166609-049c-462a-aca4-9e4e479ee5f1",
   "metadata": {},
   "outputs": [],
   "source": [
    "methInput <- new(\"MethylationInput\",\n",
    "                 BSseq_obj = BSobj2,\n",
    "                 snp_data_path = args$snp_data_path,\n",
    "                 args = args)"
   ]
  },
  {
   "cell_type": "markdown",
   "id": "df4fa228-76ea-4bb2-8f30-d358e654a68c",
   "metadata": {},
   "source": [
    "Define window sizes for SNPs to be extracted surrounding each methylation site"
   ]
  },
  {
   "cell_type": "code",
   "execution_count": null,
   "id": "153cf041-33cb-4dba-b629-25cf878c8a01",
   "metadata": {},
   "outputs": [],
   "source": [
    "window_sizes <- c(1000, 2000, 5000, 10000, 20000, 50000, 100000, 200000, 500000)"
   ]
  },
  {
   "cell_type": "code",
   "execution_count": null,
   "id": "2e84052d-457b-4d56-939f-491497da393e",
   "metadata": {},
   "outputs": [],
   "source": [
    "scaffoldIdentifier_prefix <- paste0(tools::file_path_sans_ext(basename(args$snp_data_path)),\n",
    "                                    \"-\",\n",
    "                                    tools::file_path_sans_ext(basename(args$methylation_data_path)))"
   ]
  },
  {
   "cell_type": "markdown",
   "id": "68cc93c6-1cc1-4927-9f07-f9fdeed9bbc7",
   "metadata": {},
   "source": [
    "## Try triple-nested CV scheme"
   ]
  },
  {
   "cell_type": "code",
   "execution_count": null,
   "id": "3bb7e296-e639-43d0-81eb-d25c275c0b36",
   "metadata": {},
   "outputs": [],
   "source": [
    "start_time <- Sys.time() "
   ]
  },
  {
   "cell_type": "code",
   "execution_count": null,
   "id": "758dd5c4-973b-4c44-8b7a-9ed5a3e1496c",
   "metadata": {},
   "outputs": [],
   "source": [
    "scaffoldIdentifier_1 <- paste0(scaffoldIdentifier_prefix, \"_scheme1\")"
   ]
  },
  {
   "cell_type": "code",
   "execution_count": null,
   "id": "c83ca1d1-21c3-48f8-8f98-a0f4a3ecdd0a",
   "metadata": {},
   "outputs": [],
   "source": [
    "scaffold_models_1 <- build_prediction_model(\n",
    "  BSobj = BSobj2,\n",
    "  methInput = methInput,\n",
    "  window_sizes = c(1000, 2000),\n",
    "  chunk1 = 10^6,\n",
    "  chunk2 = 10^6 + 100,\n",
    "  n_fold = 5,\n",
    "  cv_nesting = \"double\",\n",
    "  scaffoldIdentifier = scaffoldIdentifier_1,\n",
    "  outdir = \"output/\",\n",
    "  record_runtime = TRUE\n",
    ")\n",
    "\n",
    "df_1 <- as.data.frame(scaffold_models_1)"
   ]
  },
  {
   "cell_type": "code",
   "execution_count": null,
   "id": "fe554153-68df-4ba9-a8c4-785efb172f5f",
   "metadata": {},
   "outputs": [],
   "source": [
    "end_time <- Sys.time()  # End time capture\n",
    "total_runtime <- end_time - start_time\n",
    "total_runtime_seconds <- as.numeric(total_runtime, units = \"secs\")\n",
    "hours <- total_runtime_seconds %/% 3600\n",
    "minutes <- (total_runtime_seconds %% 3600) %/% 60\n",
    "seconds <- total_runtime_seconds %% 60\n",
    "\n",
    "# Report the runtime\n",
    "cat(sprintf(\"Processed chunks %d through %d in %d hours, %d minutes and %d seconds.\\n\",\n",
    "            args$chunk1, args$chunk2, as.integer(hours), as.integer(minutes), as.integer(seconds)))"
   ]
  },
  {
   "cell_type": "markdown",
   "id": "6979d0bd-a04c-4c6b-a26f-7635d7a05e19",
   "metadata": {},
   "source": [
    "## Try double-nested, two-step CV scheme"
   ]
  },
  {
   "cell_type": "code",
   "execution_count": null,
   "id": "a55c3674-db3e-451a-b9d9-cf64ef21268b",
   "metadata": {},
   "outputs": [],
   "source": [
    "scaffoldIdentifier_2 <- paste0(scaffoldIdentifier_prefix, \"_scheme2\")"
   ]
  },
  {
   "cell_type": "code",
   "execution_count": null,
   "id": "affb031f-acea-4c81-abe1-c5289292d93f",
   "metadata": {},
   "outputs": [],
   "source": [
    "scaffold_models_2 <- build_prediction_model(\n",
    "  BSobj = BSobj2,\n",
    "  methInput = methInput,\n",
    "  window_sizes = c(1000, 2000),\n",
    "  chunk1 = 10^6,\n",
    "  chunk2 = 10^6 + 100,\n",
    "  n_fold = 5,\n",
    "  cv_nesting = \"double\",\n",
    "  scaffoldIdentifier = scaffoldIdentifier_2,\n",
    "  outdir = \"output/\",\n",
    "  record_runtime = TRUE\n",
    ")\n",
    "\n",
    "df_2 <- as.data.frame(scaffold_models_2)"
   ]
  },
  {
   "cell_type": "code",
   "execution_count": null,
   "id": "092bb725-241d-47d1-b693-32dce6ad7c07",
   "metadata": {},
   "outputs": [],
   "source": [
    "end_time <- Sys.time()  # End time capture\n",
    "total_runtime <- end_time - start_time\n",
    "total_runtime_seconds <- as.numeric(total_runtime, units = \"secs\")\n",
    "hours <- total_runtime_seconds %/% 3600\n",
    "minutes <- (total_runtime_seconds %% 3600) %/% 60\n",
    "seconds <- total_runtime_seconds %% 60\n",
    "\n",
    "# Report the runtime\n",
    "cat(sprintf(\"Processed chunks %d through %d in %d hours, %d minutes and %d seconds.\\n\",\n",
    "            args$chunk1, args$chunk2, as.integer(hours), as.integer(minutes), as.integer(seconds)))"
   ]
  },
  {
   "cell_type": "markdown",
   "id": "db32367d-e07d-4581-bd05-292b118f3b23",
   "metadata": {},
   "source": [
    "## Compare results across two scheme"
   ]
  },
  {
   "cell_type": "code",
   "execution_count": null,
   "id": "386e4a24-0a87-4bb3-88f1-541d87fb98fb",
   "metadata": {},
   "outputs": [],
   "source": []
  }
 ],
 "metadata": {
  "kernelspec": {
   "display_name": "R",
   "language": "R",
   "name": "ir"
  },
  "language_info": {
   "codemirror_mode": "r",
   "file_extension": ".r",
   "mimetype": "text/x-r-source",
   "name": "R",
   "pygments_lexer": "r",
   "version": "4.3.2"
  }
 },
 "nbformat": 4,
 "nbformat_minor": 5
}
