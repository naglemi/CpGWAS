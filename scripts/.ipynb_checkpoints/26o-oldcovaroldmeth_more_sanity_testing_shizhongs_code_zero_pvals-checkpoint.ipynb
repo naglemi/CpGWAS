{
 "cells": [
  {
   "cell_type": "markdown",
   "id": "bf56f1cb-692a-4f54-b026-99e8075d50e8",
   "metadata": {},
   "source": [
    "# Compare MWAS methods for sanity tests and troubleshooting"
   ]
  },
  {
   "cell_type": "markdown",
   "id": "dc17d619-945e-4221-8ba7-c4c36fa56efe",
   "metadata": {},
   "source": [
    "In version e, we unify the elastic.net functions and make sure 1se and 1min produce different results.\n",
    "\n",
    "In version f, we try old covariates with all new data for everything else\n",
    "\n",
    "In version g, we do another quick sanity test with \"all\" sample methylation data instead of AA.\n",
    "\n",
    "In version h, we try old covariates, new BSseq data, new everything else. Since we're using old BSseq data, we must change back to Chr 7 for the selected peak for which we have sample data. We got normal results!\n",
    "\n",
    "In version i, change back to Chr 1 and see if we still get normal results.... We did not!\n",
    "\n",
    "Ok, now let's try other chromosomes/regions with random sites (version l)\n",
    "\n",
    "version m: add manhattan plots and MAF filter\n",
    "\n",
    "version n: go back to region in Shizhong's `BSsample.rda` file\n",
    "\n",
    "Down the road (o), let's change covariates back to ours\n",
    "\n",
    "Also in o, we found that Shizhong's old results still don't quite match up with ours.\n",
    "\n",
    "So now in p, we will use original BSsample and see if they finally do..."
   ]
  },
  {
   "cell_type": "code",
   "execution_count": 1,
   "id": "ba280997-149a-4123-bdec-00547ad791e6",
   "metadata": {},
   "outputs": [],
   "source": [
    "chr <- 7 # code set up for old bsseq chr 7, or anything with new bsseq\n",
    "maf <- 0.05\n",
    "\n",
    "min_site_to_test_pos <- 1980077\n",
    "max_site_to_test_pos <- 1989957"
   ]
  },
  {
   "cell_type": "code",
   "execution_count": 2,
   "id": "484d3ff2-9116-4477-8976-f1c828f354fa",
   "metadata": {},
   "outputs": [],
   "source": [
    "sites_to_test_pos <- \"range\"\n",
    "#n_samples <- 500"
   ]
  },
  {
   "cell_type": "code",
   "execution_count": 3,
   "id": "be49eb64-a0d8-4e1f-a85a-983fe490bd2c",
   "metadata": {},
   "outputs": [],
   "source": [
    "# # Chr 1 sites\n",
    "# sites_to_test_pos <- c(73274305, 73274312, 73292330, 73307769, 73308571, 73419188, 73419830, 73420076)"
   ]
  },
  {
   "cell_type": "code",
   "execution_count": 4,
   "id": "b6595216-f957-4571-a12e-7027b278774d",
   "metadata": {},
   "outputs": [],
   "source": [
    "filter_snps <- FALSE # speed things up by pre-filtering whole chromosomes to desired regions"
   ]
  },
  {
   "cell_type": "markdown",
   "id": "ca2a80fb-d548-4157-b585-cd5cf6a471d2",
   "metadata": {},
   "source": [
    "## Be ready with matched up SNP and covariate files"
   ]
  },
  {
   "cell_type": "code",
   "execution_count": 5,
   "id": "1d0d53e3-618f-4b04-b2b6-ae27a7e4ef5c",
   "metadata": {},
   "outputs": [
    {
     "name": "stderr",
     "output_type": "stream",
     "text": [
      "Loading required package: Matrix\n",
      "\n",
      "Loaded glmnet 4.1-8\n",
      "\n",
      "Loading required package: foreach\n",
      "\n",
      "Loading required package: iterators\n",
      "\n",
      "Loading required package: parallel\n",
      "\n"
     ]
    }
   ],
   "source": [
    "library(\"glmnet\")\n",
    "library(\"e1071\")\n",
    "library(\"doParallel\")\n",
    "library(\"data.table\")"
   ]
  },
  {
   "cell_type": "code",
   "execution_count": 6,
   "id": "c6034757-2d3c-43d3-aa16-70baa5169549",
   "metadata": {},
   "outputs": [],
   "source": [
    "df <- fread(\"09-OUT_matched_SNP_meth_cov_a2.csv\")"
   ]
  },
  {
   "cell_type": "code",
   "execution_count": 7,
   "id": "9821a860-2a97-4a7b-bfca-6e8abd96bf8a",
   "metadata": {},
   "outputs": [],
   "source": [
    "df <- df[which(df$Chr == chr), ]"
   ]
  },
  {
   "cell_type": "code",
   "execution_count": 8,
   "id": "ea91a79d-67a6-40df-b0ad-3b2c7db9be85",
   "metadata": {},
   "outputs": [],
   "source": [
    "df <- df[which(df$population == \"all\"), ]\n",
    "df <- df[which(df$brain_region == \"caud\"), ]"
   ]
  },
  {
   "cell_type": "code",
   "execution_count": 9,
   "id": "465c4237-66ee-4512-971b-1a70e550c36e",
   "metadata": {},
   "outputs": [
    {
     "data": {
      "text/html": [
       "<table class=\"dataframe\">\n",
       "<caption>A data.table: 1 × 15</caption>\n",
       "<thead>\n",
       "\t<tr><th scope=col>Chr</th><th scope=col>SNP_data</th><th scope=col>methylation_data</th><th scope=col>last_meth_value_with_SNP_coverage</th><th scope=col>first_meth_value_with_SNP_coverage</th><th scope=col>last_meth_index_with_SNP_coverage</th><th scope=col>first_meth_index_with_SNP_coverage</th><th scope=col>subpopulation</th><th scope=col>brain_region</th><th scope=col>population</th><th scope=col>region</th><th scope=col>cov_file</th><th scope=col>cov_file2</th><th scope=col>cov_file3</th><th scope=col>cov_file4</th></tr>\n",
       "\t<tr><th scope=col>&lt;int&gt;</th><th scope=col>&lt;chr&gt;</th><th scope=col>&lt;chr&gt;</th><th scope=col>&lt;int&gt;</th><th scope=col>&lt;int&gt;</th><th scope=col>&lt;int&gt;</th><th scope=col>&lt;int&gt;</th><th scope=col>&lt;chr&gt;</th><th scope=col>&lt;chr&gt;</th><th scope=col>&lt;chr&gt;</th><th scope=col>&lt;chr&gt;</th><th scope=col>&lt;chr&gt;</th><th scope=col>&lt;chr&gt;</th><th scope=col>&lt;chr&gt;</th><th scope=col>&lt;chr&gt;</th></tr>\n",
       "</thead>\n",
       "<tbody>\n",
       "\t<tr><td>7</td><td>/expanse/lustre/projects/jhu152/naglemi/mwas/gwas//libd_chr7.pgen</td><td>/expanse/lustre/projects/jhu152/naglemi/mwas/pheno/caud/out/chr7_all.rda</td><td>159334659</td><td>49742</td><td>1490198</td><td>1</td><td>all</td><td>caud</td><td>all</td><td>caud</td><td>/expanse/lustre/projects/jhu152/naglemi/mwas/full_covariates_a2/all_caud.csv</td><td>/expanse/lustre/projects/jhu152/naglemi/mwas/full_covariates_a2/all_caud-no-meth.csv</td><td>/expanse/lustre/projects/jhu152/naglemi/mwas/full_covariates_a2/all_caud-no-meth-no-dx.csv</td><td>/expanse/lustre/projects/jhu152/naglemi/mwas/full_covariates_a2/all_caud-no-dx.csv</td></tr>\n",
       "</tbody>\n",
       "</table>\n"
      ],
      "text/latex": [
       "A data.table: 1 × 15\n",
       "\\begin{tabular}{lllllllllllllll}\n",
       " Chr & SNP\\_data & methylation\\_data & last\\_meth\\_value\\_with\\_SNP\\_coverage & first\\_meth\\_value\\_with\\_SNP\\_coverage & last\\_meth\\_index\\_with\\_SNP\\_coverage & first\\_meth\\_index\\_with\\_SNP\\_coverage & subpopulation & brain\\_region & population & region & cov\\_file & cov\\_file2 & cov\\_file3 & cov\\_file4\\\\\n",
       " <int> & <chr> & <chr> & <int> & <int> & <int> & <int> & <chr> & <chr> & <chr> & <chr> & <chr> & <chr> & <chr> & <chr>\\\\\n",
       "\\hline\n",
       "\t 7 & /expanse/lustre/projects/jhu152/naglemi/mwas/gwas//libd\\_chr7.pgen & /expanse/lustre/projects/jhu152/naglemi/mwas/pheno/caud/out/chr7\\_all.rda & 159334659 & 49742 & 1490198 & 1 & all & caud & all & caud & /expanse/lustre/projects/jhu152/naglemi/mwas/full\\_covariates\\_a2/all\\_caud.csv & /expanse/lustre/projects/jhu152/naglemi/mwas/full\\_covariates\\_a2/all\\_caud-no-meth.csv & /expanse/lustre/projects/jhu152/naglemi/mwas/full\\_covariates\\_a2/all\\_caud-no-meth-no-dx.csv & /expanse/lustre/projects/jhu152/naglemi/mwas/full\\_covariates\\_a2/all\\_caud-no-dx.csv\\\\\n",
       "\\end{tabular}\n"
      ],
      "text/markdown": [
       "\n",
       "A data.table: 1 × 15\n",
       "\n",
       "| Chr &lt;int&gt; | SNP_data &lt;chr&gt; | methylation_data &lt;chr&gt; | last_meth_value_with_SNP_coverage &lt;int&gt; | first_meth_value_with_SNP_coverage &lt;int&gt; | last_meth_index_with_SNP_coverage &lt;int&gt; | first_meth_index_with_SNP_coverage &lt;int&gt; | subpopulation &lt;chr&gt; | brain_region &lt;chr&gt; | population &lt;chr&gt; | region &lt;chr&gt; | cov_file &lt;chr&gt; | cov_file2 &lt;chr&gt; | cov_file3 &lt;chr&gt; | cov_file4 &lt;chr&gt; |\n",
       "|---|---|---|---|---|---|---|---|---|---|---|---|---|---|---|\n",
       "| 7 | /expanse/lustre/projects/jhu152/naglemi/mwas/gwas//libd_chr7.pgen | /expanse/lustre/projects/jhu152/naglemi/mwas/pheno/caud/out/chr7_all.rda | 159334659 | 49742 | 1490198 | 1 | all | caud | all | caud | /expanse/lustre/projects/jhu152/naglemi/mwas/full_covariates_a2/all_caud.csv | /expanse/lustre/projects/jhu152/naglemi/mwas/full_covariates_a2/all_caud-no-meth.csv | /expanse/lustre/projects/jhu152/naglemi/mwas/full_covariates_a2/all_caud-no-meth-no-dx.csv | /expanse/lustre/projects/jhu152/naglemi/mwas/full_covariates_a2/all_caud-no-dx.csv |\n",
       "\n"
      ],
      "text/plain": [
       "  Chr SNP_data                                                         \n",
       "1 7   /expanse/lustre/projects/jhu152/naglemi/mwas/gwas//libd_chr7.pgen\n",
       "  methylation_data                                                        \n",
       "1 /expanse/lustre/projects/jhu152/naglemi/mwas/pheno/caud/out/chr7_all.rda\n",
       "  last_meth_value_with_SNP_coverage first_meth_value_with_SNP_coverage\n",
       "1 159334659                         49742                             \n",
       "  last_meth_index_with_SNP_coverage first_meth_index_with_SNP_coverage\n",
       "1 1490198                           1                                 \n",
       "  subpopulation brain_region population region\n",
       "1 all           caud         all        caud  \n",
       "  cov_file                                                                    \n",
       "1 /expanse/lustre/projects/jhu152/naglemi/mwas/full_covariates_a2/all_caud.csv\n",
       "  cov_file2                                                                           \n",
       "1 /expanse/lustre/projects/jhu152/naglemi/mwas/full_covariates_a2/all_caud-no-meth.csv\n",
       "  cov_file3                                                                                 \n",
       "1 /expanse/lustre/projects/jhu152/naglemi/mwas/full_covariates_a2/all_caud-no-meth-no-dx.csv\n",
       "  cov_file4                                                                         \n",
       "1 /expanse/lustre/projects/jhu152/naglemi/mwas/full_covariates_a2/all_caud-no-dx.csv"
      ]
     },
     "metadata": {},
     "output_type": "display_data"
    }
   ],
   "source": [
    "df"
   ]
  },
  {
   "cell_type": "code",
   "execution_count": 10,
   "id": "e3010894-c5e0-4875-a695-302ed787be90",
   "metadata": {},
   "outputs": [],
   "source": [
    "i <- 1"
   ]
  },
  {
   "cell_type": "code",
   "execution_count": 11,
   "id": "522b7988-f517-454d-90d5-4e6a51f49380",
   "metadata": {},
   "outputs": [
    {
     "data": {
      "text/html": [
       "<table class=\"dataframe\">\n",
       "<caption>A data.table: 1 × 15</caption>\n",
       "<thead>\n",
       "\t<tr><th scope=col>Chr</th><th scope=col>SNP_data</th><th scope=col>methylation_data</th><th scope=col>last_meth_value_with_SNP_coverage</th><th scope=col>first_meth_value_with_SNP_coverage</th><th scope=col>last_meth_index_with_SNP_coverage</th><th scope=col>first_meth_index_with_SNP_coverage</th><th scope=col>subpopulation</th><th scope=col>brain_region</th><th scope=col>population</th><th scope=col>region</th><th scope=col>cov_file</th><th scope=col>cov_file2</th><th scope=col>cov_file3</th><th scope=col>cov_file4</th></tr>\n",
       "\t<tr><th scope=col>&lt;int&gt;</th><th scope=col>&lt;chr&gt;</th><th scope=col>&lt;chr&gt;</th><th scope=col>&lt;int&gt;</th><th scope=col>&lt;int&gt;</th><th scope=col>&lt;int&gt;</th><th scope=col>&lt;int&gt;</th><th scope=col>&lt;chr&gt;</th><th scope=col>&lt;chr&gt;</th><th scope=col>&lt;chr&gt;</th><th scope=col>&lt;chr&gt;</th><th scope=col>&lt;chr&gt;</th><th scope=col>&lt;chr&gt;</th><th scope=col>&lt;chr&gt;</th><th scope=col>&lt;chr&gt;</th></tr>\n",
       "</thead>\n",
       "<tbody>\n",
       "\t<tr><td>7</td><td>/expanse/lustre/projects/jhu152/naglemi/mwas/gwas//libd_chr7.pgen</td><td>/expanse/lustre/projects/jhu152/naglemi/mwas/pheno/caud/out/chr7_all.rda</td><td>159334659</td><td>49742</td><td>1490198</td><td>1</td><td>all</td><td>caud</td><td>all</td><td>caud</td><td>/expanse/lustre/projects/jhu152/naglemi/mwas/full_covariates_a2/all_caud.csv</td><td>/expanse/lustre/projects/jhu152/naglemi/mwas/full_covariates_a2/all_caud-no-meth.csv</td><td>/expanse/lustre/projects/jhu152/naglemi/mwas/full_covariates_a2/all_caud-no-meth-no-dx.csv</td><td>/expanse/lustre/projects/jhu152/naglemi/mwas/full_covariates_a2/all_caud-no-dx.csv</td></tr>\n",
       "</tbody>\n",
       "</table>\n"
      ],
      "text/latex": [
       "A data.table: 1 × 15\n",
       "\\begin{tabular}{lllllllllllllll}\n",
       " Chr & SNP\\_data & methylation\\_data & last\\_meth\\_value\\_with\\_SNP\\_coverage & first\\_meth\\_value\\_with\\_SNP\\_coverage & last\\_meth\\_index\\_with\\_SNP\\_coverage & first\\_meth\\_index\\_with\\_SNP\\_coverage & subpopulation & brain\\_region & population & region & cov\\_file & cov\\_file2 & cov\\_file3 & cov\\_file4\\\\\n",
       " <int> & <chr> & <chr> & <int> & <int> & <int> & <int> & <chr> & <chr> & <chr> & <chr> & <chr> & <chr> & <chr> & <chr>\\\\\n",
       "\\hline\n",
       "\t 7 & /expanse/lustre/projects/jhu152/naglemi/mwas/gwas//libd\\_chr7.pgen & /expanse/lustre/projects/jhu152/naglemi/mwas/pheno/caud/out/chr7\\_all.rda & 159334659 & 49742 & 1490198 & 1 & all & caud & all & caud & /expanse/lustre/projects/jhu152/naglemi/mwas/full\\_covariates\\_a2/all\\_caud.csv & /expanse/lustre/projects/jhu152/naglemi/mwas/full\\_covariates\\_a2/all\\_caud-no-meth.csv & /expanse/lustre/projects/jhu152/naglemi/mwas/full\\_covariates\\_a2/all\\_caud-no-meth-no-dx.csv & /expanse/lustre/projects/jhu152/naglemi/mwas/full\\_covariates\\_a2/all\\_caud-no-dx.csv\\\\\n",
       "\\end{tabular}\n"
      ],
      "text/markdown": [
       "\n",
       "A data.table: 1 × 15\n",
       "\n",
       "| Chr &lt;int&gt; | SNP_data &lt;chr&gt; | methylation_data &lt;chr&gt; | last_meth_value_with_SNP_coverage &lt;int&gt; | first_meth_value_with_SNP_coverage &lt;int&gt; | last_meth_index_with_SNP_coverage &lt;int&gt; | first_meth_index_with_SNP_coverage &lt;int&gt; | subpopulation &lt;chr&gt; | brain_region &lt;chr&gt; | population &lt;chr&gt; | region &lt;chr&gt; | cov_file &lt;chr&gt; | cov_file2 &lt;chr&gt; | cov_file3 &lt;chr&gt; | cov_file4 &lt;chr&gt; |\n",
       "|---|---|---|---|---|---|---|---|---|---|---|---|---|---|---|\n",
       "| 7 | /expanse/lustre/projects/jhu152/naglemi/mwas/gwas//libd_chr7.pgen | /expanse/lustre/projects/jhu152/naglemi/mwas/pheno/caud/out/chr7_all.rda | 159334659 | 49742 | 1490198 | 1 | all | caud | all | caud | /expanse/lustre/projects/jhu152/naglemi/mwas/full_covariates_a2/all_caud.csv | /expanse/lustre/projects/jhu152/naglemi/mwas/full_covariates_a2/all_caud-no-meth.csv | /expanse/lustre/projects/jhu152/naglemi/mwas/full_covariates_a2/all_caud-no-meth-no-dx.csv | /expanse/lustre/projects/jhu152/naglemi/mwas/full_covariates_a2/all_caud-no-dx.csv |\n",
       "\n"
      ],
      "text/plain": [
       "  Chr SNP_data                                                         \n",
       "1 7   /expanse/lustre/projects/jhu152/naglemi/mwas/gwas//libd_chr7.pgen\n",
       "  methylation_data                                                        \n",
       "1 /expanse/lustre/projects/jhu152/naglemi/mwas/pheno/caud/out/chr7_all.rda\n",
       "  last_meth_value_with_SNP_coverage first_meth_value_with_SNP_coverage\n",
       "1 159334659                         49742                             \n",
       "  last_meth_index_with_SNP_coverage first_meth_index_with_SNP_coverage\n",
       "1 1490198                           1                                 \n",
       "  subpopulation brain_region population region\n",
       "1 all           caud         all        caud  \n",
       "  cov_file                                                                    \n",
       "1 /expanse/lustre/projects/jhu152/naglemi/mwas/full_covariates_a2/all_caud.csv\n",
       "  cov_file2                                                                           \n",
       "1 /expanse/lustre/projects/jhu152/naglemi/mwas/full_covariates_a2/all_caud-no-meth.csv\n",
       "  cov_file3                                                                                 \n",
       "1 /expanse/lustre/projects/jhu152/naglemi/mwas/full_covariates_a2/all_caud-no-meth-no-dx.csv\n",
       "  cov_file4                                                                         \n",
       "1 /expanse/lustre/projects/jhu152/naglemi/mwas/full_covariates_a2/all_caud-no-dx.csv"
      ]
     },
     "metadata": {},
     "output_type": "display_data"
    }
   ],
   "source": [
    "df[1, ]"
   ]
  },
  {
   "cell_type": "code",
   "execution_count": 12,
   "id": "22de2603-481a-4995-8991-1f6f64989e3d",
   "metadata": {},
   "outputs": [],
   "source": [
    "set.seed(2018)\n",
    "wind <- c(10000)\n",
    "# output directory\n",
    "#outd <- \"/dcl02/lieber/shan/shizhong/finemapping/GWAS/tags/scz3/mwas/chr22/1/\"\n",
    "outd <- \"20-OUT_original_mwas_sanity_test/\""
   ]
  },
  {
   "cell_type": "markdown",
   "id": "d7711c4d-5f19-4fd0-9f7b-891133ac3311",
   "metadata": {},
   "source": [
    "## Functions"
   ]
  },
  {
   "cell_type": "markdown",
   "id": "655b95b9-bbcb-4ae8-8914-cf36149e10e1",
   "metadata": {},
   "source": [
    "### Shizhong's original"
   ]
  },
  {
   "cell_type": "code",
   "execution_count": 13,
   "id": "be729eb2-c5b2-4d3e-b835-072d8f5ba2e6",
   "metadata": {},
   "outputs": [],
   "source": [
    "###### model: learn elastic net model on training data \n",
    "######---------Input: trainX, trainY\n",
    "######---------Return: selected features and coefficents\n",
    "\n",
    "# original\n",
    "# elastic.net <- function(trainX,trainY){\n",
    "#     if(nrow(trainX)!=length(trainY)){\n",
    "#             stop(\"Number of observations is differerent\")\n",
    "#     } \n",
    "\n",
    "#     # optimize alpha---mixing parameter  \n",
    "#     a <- 0.5\n",
    "#     search <- foreach(ai = a, .combine = rbind) %dopar% {\n",
    "#         cv.fit <- cv.glmnet(\n",
    "#                         trainX,\n",
    "#                         trainY,\n",
    "#                         nfold = 5,\n",
    "#                         type.measure = \"mse\",\n",
    "#                         paralle = TRUE,\n",
    "#                         alpha = ai\n",
    "#                         )\n",
    "#         data.frame(\n",
    "#                         cvm = min(cv.fit$cvm),\n",
    "#                         lambda = cv.fit$lambda.min,\n",
    "#                         alpha = ai\n",
    "#                         )\n",
    "#         } \n",
    "#     cv.opt <- search[search$cvm == min(search$cvm),] \n",
    "\n",
    "#         # fit model by optimized alpha and lambda\n",
    "#         yfit = glmnet(\n",
    "#         trainX,\n",
    "#         trainY,\n",
    "#         lambda = cv.opt$lambda,\n",
    "#         alpha = cv.opt$alpha\n",
    "#                 )       \n",
    "#         idf <- coef(yfit)\n",
    "#         idx <- which(idf != 0)\n",
    "#         selectf <- data.frame(\n",
    "#                 features = idf@Dimnames[[1]][idx], \n",
    "#                 coefs = idf [idx]\n",
    "#         )\n",
    "# }\n",
    "\n",
    "MWAS <- function(gwas, weight, geno){\n",
    "        z <- gwas %*% weight\n",
    "        z.cor <- cor(geno)\n",
    "        se <- sqrt(weight %*%  z.cor %*%  weight)\n",
    "        z <- z/se\n",
    "        p=pnorm(abs(z),lower.tail=F)*2\n",
    "        return(c(z, p))\n",
    "}"
   ]
  },
  {
   "cell_type": "markdown",
   "id": "52a2753a-ebee-4587-9fa2-1d33f878f68f",
   "metadata": {},
   "source": [
    "#### Modified `elastic.net` to use `lambda.1se`"
   ]
  },
  {
   "cell_type": "code",
   "execution_count": 14,
   "id": "e2a06b13-9a13-4caa-8436-9a05a0f53035",
   "metadata": {},
   "outputs": [],
   "source": [
    "# modified to use lambda 1se and appropriate cvm\n",
    "elastic.net <- function(trainX,trainY, lambda.choice = \"1se\"){\n",
    "    if(nrow(trainX)!=length(trainY)){\n",
    "            stop(\"Number of observations is differerent\")\n",
    "    } \n",
    "\n",
    "    # optimize alpha---mixing parameter  \n",
    "    a <- 0.5\n",
    "    search <- foreach(ai = a, .combine = rbind) %dopar% {\n",
    "        #set.seed(42)\n",
    "        cv.fit <- cv.glmnet(\n",
    "                        trainX,\n",
    "                        trainY,\n",
    "                        nfold = 5,\n",
    "                        type.measure = \"mse\",\n",
    "                        parallel = TRUE,\n",
    "                        alpha = ai\n",
    "                        )\n",
    "        #print(paste0(\"Dim of trainX: \", dim(trainX)))\n",
    "        #print(paste0(\"Len of trainY: \", length(trainY)))\n",
    "        coef_matrix <- as.matrix(coef(cv.fit))\n",
    "\n",
    "        if(lambda.choice == \"1se\"){\n",
    "            chosen_lambda <- cv.fit$lambda.1se\n",
    "            chosen_cvm <- cv.fit$cvm[cv.fit$lambda == cv.fit$lambda.1se]\n",
    "        }\n",
    "        if(lambda.choice == \"min\"){\n",
    "            chosen_lambda <- cv.fit$lambda.min\n",
    "            chosen_cvm <- min(cv.fit$cvm)\n",
    "        }\n",
    "\n",
    "\n",
    "        data.frame(\n",
    "                        cvm = chosen_cvm,\n",
    "                        lambda = chosen_lambda,\n",
    "                        alpha = ai\n",
    "                        )\n",
    "        } \n",
    "    cv.opt <- search[search$cvm == min(search$cvm),] \n",
    "\n",
    "        # fit model by optimized alpha and lambda\n",
    "    #set.seed(42)\n",
    "    yfit <- glmnet(\n",
    "    trainX,\n",
    "    trainY,\n",
    "    lambda = cv.opt$lambda,\n",
    "    alpha = cv.opt$alpha)\n",
    "\n",
    "    idf <- coef(yfit)\n",
    "    idx <- which(idf != 0)\n",
    "    selectf <- data.frame(\n",
    "            features = idf@Dimnames[[1]][idx], \n",
    "            coefs = idf [idx]\n",
    "    )\n",
    "}"
   ]
  },
  {
   "cell_type": "markdown",
   "id": "3a0ea432-3ac3-4077-ae61-c3a029004096",
   "metadata": {},
   "source": [
    "## Replace all old objects with new objects in same format"
   ]
  },
  {
   "cell_type": "markdown",
   "id": "18332543-6f7a-40d8-b894-9562a6ac7457",
   "metadata": {},
   "source": [
    "### Methylation data"
   ]
  },
  {
   "cell_type": "code",
   "execution_count": 15,
   "id": "f9b051aa-a1e5-421b-856d-718cf85c24a3",
   "metadata": {
    "scrolled": true
   },
   "outputs": [
    {
     "name": "stderr",
     "output_type": "stream",
     "text": [
      "Loading required package: BiocGenerics\n",
      "\n",
      "\n",
      "Attaching package: ‘BiocGenerics’\n",
      "\n",
      "\n",
      "The following objects are masked from ‘package:stats’:\n",
      "\n",
      "    IQR, mad, sd, var, xtabs\n",
      "\n",
      "\n",
      "The following objects are masked from ‘package:base’:\n",
      "\n",
      "    anyDuplicated, aperm, append, as.data.frame, basename, cbind,\n",
      "    colnames, dirname, do.call, duplicated, eval, evalq, Filter, Find,\n",
      "    get, grep, grepl, intersect, is.unsorted, lapply, Map, mapply,\n",
      "    match, mget, order, paste, pmax, pmax.int, pmin, pmin.int,\n",
      "    Position, rank, rbind, Reduce, rownames, sapply, setdiff, sort,\n",
      "    table, tapply, union, unique, unsplit, which.max, which.min\n",
      "\n",
      "\n",
      "Loading required package: GenomicRanges\n",
      "\n",
      "Loading required package: stats4\n",
      "\n",
      "Loading required package: S4Vectors\n",
      "\n",
      "\n",
      "Attaching package: ‘S4Vectors’\n",
      "\n",
      "\n",
      "The following objects are masked from ‘package:data.table’:\n",
      "\n",
      "    first, second\n",
      "\n",
      "\n",
      "The following objects are masked from ‘package:Matrix’:\n",
      "\n",
      "    expand, unname\n",
      "\n",
      "\n",
      "The following object is masked from ‘package:utils’:\n",
      "\n",
      "    findMatches\n",
      "\n",
      "\n",
      "The following objects are masked from ‘package:base’:\n",
      "\n",
      "    expand.grid, I, unname\n",
      "\n",
      "\n",
      "Loading required package: IRanges\n",
      "\n",
      "\n",
      "Attaching package: ‘IRanges’\n",
      "\n",
      "\n",
      "The following object is masked from ‘package:data.table’:\n",
      "\n",
      "    shift\n",
      "\n",
      "\n",
      "Loading required package: GenomeInfoDb\n",
      "\n",
      "Loading required package: SummarizedExperiment\n",
      "\n",
      "Loading required package: MatrixGenerics\n",
      "\n",
      "Loading required package: matrixStats\n",
      "\n",
      "\n",
      "Attaching package: ‘MatrixGenerics’\n",
      "\n",
      "\n",
      "The following objects are masked from ‘package:matrixStats’:\n",
      "\n",
      "    colAlls, colAnyNAs, colAnys, colAvgsPerRowSet, colCollapse,\n",
      "    colCounts, colCummaxs, colCummins, colCumprods, colCumsums,\n",
      "    colDiffs, colIQRDiffs, colIQRs, colLogSumExps, colMadDiffs,\n",
      "    colMads, colMaxs, colMeans2, colMedians, colMins, colOrderStats,\n",
      "    colProds, colQuantiles, colRanges, colRanks, colSdDiffs, colSds,\n",
      "    colSums2, colTabulates, colVarDiffs, colVars, colWeightedMads,\n",
      "    colWeightedMeans, colWeightedMedians, colWeightedSds,\n",
      "    colWeightedVars, rowAlls, rowAnyNAs, rowAnys, rowAvgsPerColSet,\n",
      "    rowCollapse, rowCounts, rowCummaxs, rowCummins, rowCumprods,\n",
      "    rowCumsums, rowDiffs, rowIQRDiffs, rowIQRs, rowLogSumExps,\n",
      "    rowMadDiffs, rowMads, rowMaxs, rowMeans2, rowMedians, rowMins,\n",
      "    rowOrderStats, rowProds, rowQuantiles, rowRanges, rowRanks,\n",
      "    rowSdDiffs, rowSds, rowSums2, rowTabulates, rowVarDiffs, rowVars,\n",
      "    rowWeightedMads, rowWeightedMeans, rowWeightedMedians,\n",
      "    rowWeightedSds, rowWeightedVars\n",
      "\n",
      "\n",
      "Loading required package: Biobase\n",
      "\n",
      "Welcome to Bioconductor\n",
      "\n",
      "    Vignettes contain introductory material; view with\n",
      "    'browseVignettes()'. To cite Bioconductor, see\n",
      "    'citation(\"Biobase\")', and for packages 'citation(\"pkgname\")'.\n",
      "\n",
      "\n",
      "\n",
      "Attaching package: ‘Biobase’\n",
      "\n",
      "\n",
      "The following object is masked from ‘package:MatrixGenerics’:\n",
      "\n",
      "    rowMedians\n",
      "\n",
      "\n",
      "The following objects are masked from ‘package:matrixStats’:\n",
      "\n",
      "    anyMissing, rowMedians\n",
      "\n",
      "\n"
     ]
    }
   ],
   "source": [
    "suppressWarnings(library(bsseq))"
   ]
  },
  {
   "cell_type": "code",
   "execution_count": 16,
   "id": "8a871cb8-d71d-4f62-8d5e-70b79bb1c1c8",
   "metadata": {},
   "outputs": [],
   "source": [
    "# # The code in this block is for NEW methylation data, which can be for any chromosome or portion\n",
    "\n",
    "# # load data for mwas\n",
    "# # load(\"./rda/caudate_mwas_data_chr22.rda\")\n",
    "load(df$methylation_data[i])\n",
    "\n",
    "p <- getMeth(BSobj2)\n",
    "\n",
    "\n",
    "rownames(p) <- start(BSobj2)\n",
    "\n",
    "if(sites_to_test_pos[1] == \"random\"){\n",
    "    sites_to_test_pos <- sample(start(BSobj2), n_samples)\n",
    "} else {\n",
    "    sites_to_test_pos <- start(BSobj2)[which(start(BSobj2) >= min_site_to_test_pos & start(BSobj2) <= max_site_to_test_pos)]\n",
    "}\n",
    "\n",
    "sites_to_test <- which(start(BSobj2) %in% sites_to_test_pos)\n",
    "p <- p[sites_to_test, ]\n",
    "cg <- as.numeric(rownames(p))"
   ]
  },
  {
   "cell_type": "code",
   "execution_count": 17,
   "id": "d690f701-eb0b-4aaa-8533-9f792f37d785",
   "metadata": {},
   "outputs": [
    {
     "data": {
      "text/html": [
       "321"
      ],
      "text/latex": [
       "321"
      ],
      "text/markdown": [
       "321"
      ],
      "text/plain": [
       "[1] 321"
      ]
     },
     "metadata": {},
     "output_type": "display_data"
    }
   ],
   "source": [
    "length(sites_to_test_pos)"
   ]
  },
  {
   "cell_type": "code",
   "execution_count": 18,
   "id": "de6de2b3-60bb-4611-8632-d930efce4fe3",
   "metadata": {},
   "outputs": [
    {
     "data": {
      "text/html": [
       "<style>\n",
       ".list-inline {list-style: none; margin:0; padding: 0}\n",
       ".list-inline>li {display: inline-block}\n",
       ".list-inline>li:not(:last-child)::after {content: \"\\00b7\"; padding: 0 .5ex}\n",
       "</style>\n",
       "<ol class=list-inline><li>1980077</li><li>1980101</li><li>1980129</li><li>1980136</li><li>1980145</li><li>1980179</li></ol>\n"
      ],
      "text/latex": [
       "\\begin{enumerate*}\n",
       "\\item 1980077\n",
       "\\item 1980101\n",
       "\\item 1980129\n",
       "\\item 1980136\n",
       "\\item 1980145\n",
       "\\item 1980179\n",
       "\\end{enumerate*}\n"
      ],
      "text/markdown": [
       "1. 1980077\n",
       "2. 1980101\n",
       "3. 1980129\n",
       "4. 1980136\n",
       "5. 1980145\n",
       "6. 1980179\n",
       "\n",
       "\n"
      ],
      "text/plain": [
       "[1] 1980077 1980101 1980129 1980136 1980145 1980179"
      ]
     },
     "metadata": {},
     "output_type": "display_data"
    }
   ],
   "source": [
    "head(sites_to_test_pos)"
   ]
  },
  {
   "cell_type": "markdown",
   "id": "892e5592-48be-4854-b932-5d43a9d27791",
   "metadata": {},
   "source": [
    "Subset our p object to the same sites as the old one, compare values"
   ]
  },
  {
   "cell_type": "code",
   "execution_count": 19,
   "id": "067bd47b-6d87-4707-be4f-2f48e4382517",
   "metadata": {},
   "outputs": [],
   "source": [
    "# # Old dataset\n",
    "# load(\"BSsample.rda\", verbose = TRUE) # we get the @colData attribute as a data.frame here\n",
    "# load(\"p1.rda\", verbose = TRUE) # and the p matrix from getMeth() here\n",
    "\n",
    "# BSobj2 <- BSsample\n",
    "# cg <- as.numeric(rownames(p)) # This line same whether we use old or new version\n",
    "# sites_to_test_pos <- cg"
   ]
  },
  {
   "cell_type": "markdown",
   "id": "6063581e-a107-4977-93d7-836f1da57078",
   "metadata": {},
   "source": [
    "### covariates"
   ]
  },
  {
   "cell_type": "code",
   "execution_count": 20,
   "id": "cc499656-ec9a-45cd-ad05-b17e957eaaa6",
   "metadata": {},
   "outputs": [],
   "source": [
    "#The code in this block is for NEW covariate data\n",
    "\n",
    "covs <- fread(df$cov_file[i])\n",
    "covs <- t(covs)\n",
    "colnames(covs) <- covs[1, ]\n",
    "covs <- covs[2:nrow(covs), ]\n",
    "# transpose so we have same orientation as original code"
   ]
  },
  {
   "cell_type": "code",
   "execution_count": 21,
   "id": "b73eadb7-0f96-4f46-bafc-1e9ad864613d",
   "metadata": {},
   "outputs": [],
   "source": [
    "# # This is the OLD covariate data\n",
    "\n",
    "# load(\"covs_for_meqtl.rda\")"
   ]
  },
  {
   "cell_type": "markdown",
   "id": "72219907-d534-4523-a369-853077888b38",
   "metadata": {},
   "source": [
    "### Regress methylation data over covariates"
   ]
  },
  {
   "cell_type": "code",
   "execution_count": 22,
   "id": "85527835-9e3f-4ba9-a645-5330564e0b7c",
   "metadata": {},
   "outputs": [],
   "source": [
    "BSobj2$brnum <- gsub(\"Br0\", \"Br\", BSobj2$brnum)\n",
    "colnames(covs) <- gsub(\"Br0\", \"Br\", colnames(covs))"
   ]
  },
  {
   "cell_type": "code",
   "execution_count": 23,
   "id": "8899261b-73fb-430e-bcdb-143fc8f04670",
   "metadata": {},
   "outputs": [],
   "source": [
    "mat <- match(BSobj2$brnum,colnames(covs)) \n",
    "covs <- t(covs[,mat])\n",
    "p.residual=matrix(NA,dim(p)[1],dim(p)[2])"
   ]
  },
  {
   "cell_type": "code",
   "execution_count": 24,
   "id": "35031e54-4c54-4a37-9997-99b57efa86bf",
   "metadata": {},
   "outputs": [],
   "source": [
    "# This is something we only need to do for new covariates\n",
    "if(\"genoPC1\" %in% colnames(covs)){\n",
    "    rownames(covs)[is.na(covs[, 'genoPC1'])] <- BSobj2$brnum[is.na(covs[, 'genoPC1'])]\n",
    "}"
   ]
  },
  {
   "cell_type": "code",
   "execution_count": 25,
   "id": "70bda030-7a89-4dff-8c61-f576badfd8bd",
   "metadata": {},
   "outputs": [],
   "source": [
    "colnames(p.residual) <- BSobj2$brnum"
   ]
  },
  {
   "cell_type": "code",
   "execution_count": 26,
   "id": "78ee80f1-d9ea-46b0-b37a-dfeed3dbdf97",
   "metadata": {},
   "outputs": [],
   "source": [
    "covs <- as.data.frame(covs)\n",
    "# Convert all columns except Dx and Sex from character to numeric\n",
    "cols_to_convert <- setdiff(names(covs), c(\"Dx\", \"Sex\"))\n",
    "\n",
    "for (col in cols_to_convert) {\n",
    "  covs[[col]] <- as.numeric(covs[[col]])\n",
    "}\n",
    "\n",
    "# Print the modified data frame to check the conversion\n",
    "#print(dat)\n"
   ]
  },
  {
   "cell_type": "code",
   "execution_count": 27,
   "id": "db709d51-494c-431c-8327-9348dbf0419c",
   "metadata": {},
   "outputs": [],
   "source": [
    "for (i in 1:dim(p)[1]) { # For each methylation site\n",
    "    dat <- as.data.frame(cbind(y = p[i,], covs))\n",
    "    \n",
    "    # Check for rows with NAs (the ones for which we don't have covariate data)\n",
    "    valid_rows <- complete.cases(dat)\n",
    "    \n",
    "    if (sum(valid_rows) > 0) {\n",
    "        dat_valid <- dat[valid_rows,]\n",
    "        model.res <- lm(y ~ ., data = dat_valid)\n",
    "        \n",
    "        # Store residuals in the corresponding positions\n",
    "        p.residual[i, valid_rows] <- resid(model.res)\n",
    "    }\n",
    "}\n",
    "\n",
    "\n",
    "# for(i in 1:dim(p)[1]){ # foro each methylation site\n",
    "#         dat <- as.data.frame(cbind(p[i,],covs))\n",
    "#         colnames(dat) <- c(\"y\",paste0(\"x\",1:ncol(covs)))\n",
    "#         model.res <- lm(reformulate(paste0(\"x\",1:ncol(covs)), \"y\"),dat)\n",
    "#         p.residual[i,] = resid(model.res) \n",
    "# }"
   ]
  },
  {
   "cell_type": "code",
   "execution_count": 28,
   "id": "dee072f8-010e-4618-806c-b5e66018bc81",
   "metadata": {},
   "outputs": [
    {
     "data": {
      "text/html": [
       "<style>\n",
       ".list-inline {list-style: none; margin:0; padding: 0}\n",
       ".list-inline>li {display: inline-block}\n",
       ".list-inline>li:not(:last-child)::after {content: \"\\00b7\"; padding: 0 .5ex}\n",
       "</style>\n",
       "<ol class=list-inline><li>321</li><li>297</li></ol>\n"
      ],
      "text/latex": [
       "\\begin{enumerate*}\n",
       "\\item 321\n",
       "\\item 297\n",
       "\\end{enumerate*}\n"
      ],
      "text/markdown": [
       "1. 321\n",
       "2. 297\n",
       "\n",
       "\n"
      ],
      "text/plain": [
       "[1] 321 297"
      ]
     },
     "metadata": {},
     "output_type": "display_data"
    }
   ],
   "source": [
    "dim(p.residual)"
   ]
  },
  {
   "cell_type": "code",
   "execution_count": 29,
   "id": "4f866dd6-16c6-4803-9c21-c70e4b931e66",
   "metadata": {},
   "outputs": [
    {
     "data": {
      "text/html": [
       "<table class=\"dataframe\">\n",
       "<caption>A matrix: 8 × 8 of type dbl</caption>\n",
       "<thead>\n",
       "\t<tr><th scope=col>Br1122</th><th scope=col>Br2285</th><th scope=col>Br1764</th><th scope=col>Br1464</th><th scope=col>Br5062</th><th scope=col>Br1446</th><th scope=col>Br1503</th><th scope=col>Br1946</th></tr>\n",
       "</thead>\n",
       "<tbody>\n",
       "\t<tr><td> 2.608214e-03</td><td>-0.008387300</td><td>-0.01299411</td><td>-0.05086358</td><td>-0.0003513610</td><td>0.007963649</td><td>-0.01547018</td><td>0.03300400</td></tr>\n",
       "\t<tr><td> 2.182975e-03</td><td>-0.009246165</td><td>-0.01435549</td><td>-0.05017583</td><td> 0.0007031439</td><td>0.007273257</td><td>-0.01496718</td><td>0.03388277</td></tr>\n",
       "\t<tr><td> 1.625316e-03</td><td>-0.010033546</td><td>-0.01575156</td><td>-0.04919569</td><td> 0.0018448949</td><td>0.006480569</td><td>-0.01450545</td><td>0.03489354</td></tr>\n",
       "\t<tr><td> 1.469794e-03</td><td>-0.010198135</td><td>-0.01608967</td><td>-0.04889346</td><td> 0.0021313906</td><td>0.006284836</td><td>-0.01439872</td><td>0.03513601</td></tr>\n",
       "\t<tr><td> 1.260400e-03</td><td>-0.010390151</td><td>-0.01652067</td><td>-0.04847119</td><td> 0.0025003446</td><td>0.006040824</td><td>-0.01426449</td><td>0.03544044</td></tr>\n",
       "\t<tr><td> 3.837617e-04</td><td>-0.010898134</td><td>-0.01811651</td><td>-0.04656259</td><td> 0.0038880335</td><td>0.005196396</td><td>-0.01376951</td><td>0.03650886</td></tr>\n",
       "\t<tr><td> 2.723531e-04</td><td>-0.010933203</td><td>-0.01830117</td><td>-0.04630835</td><td> 0.0040498776</td><td>0.005105284</td><td>-0.01371119</td><td>0.03662531</td></tr>\n",
       "\t<tr><td>-1.323371e-05</td><td>-0.010995914</td><td>-0.01875988</td><td>-0.04564794</td><td> 0.0044524317</td><td>0.004885458</td><td>-0.01356445</td><td>0.03690742</td></tr>\n",
       "</tbody>\n",
       "</table>\n"
      ],
      "text/latex": [
       "A matrix: 8 × 8 of type dbl\n",
       "\\begin{tabular}{llllllll}\n",
       " Br1122 & Br2285 & Br1764 & Br1464 & Br5062 & Br1446 & Br1503 & Br1946\\\\\n",
       "\\hline\n",
       "\t  2.608214e-03 & -0.008387300 & -0.01299411 & -0.05086358 & -0.0003513610 & 0.007963649 & -0.01547018 & 0.03300400\\\\\n",
       "\t  2.182975e-03 & -0.009246165 & -0.01435549 & -0.05017583 &  0.0007031439 & 0.007273257 & -0.01496718 & 0.03388277\\\\\n",
       "\t  1.625316e-03 & -0.010033546 & -0.01575156 & -0.04919569 &  0.0018448949 & 0.006480569 & -0.01450545 & 0.03489354\\\\\n",
       "\t  1.469794e-03 & -0.010198135 & -0.01608967 & -0.04889346 &  0.0021313906 & 0.006284836 & -0.01439872 & 0.03513601\\\\\n",
       "\t  1.260400e-03 & -0.010390151 & -0.01652067 & -0.04847119 &  0.0025003446 & 0.006040824 & -0.01426449 & 0.03544044\\\\\n",
       "\t  3.837617e-04 & -0.010898134 & -0.01811651 & -0.04656259 &  0.0038880335 & 0.005196396 & -0.01376951 & 0.03650886\\\\\n",
       "\t  2.723531e-04 & -0.010933203 & -0.01830117 & -0.04630835 &  0.0040498776 & 0.005105284 & -0.01371119 & 0.03662531\\\\\n",
       "\t -1.323371e-05 & -0.010995914 & -0.01875988 & -0.04564794 &  0.0044524317 & 0.004885458 & -0.01356445 & 0.03690742\\\\\n",
       "\\end{tabular}\n"
      ],
      "text/markdown": [
       "\n",
       "A matrix: 8 × 8 of type dbl\n",
       "\n",
       "| Br1122 | Br2285 | Br1764 | Br1464 | Br5062 | Br1446 | Br1503 | Br1946 |\n",
       "|---|---|---|---|---|---|---|---|\n",
       "|  2.608214e-03 | -0.008387300 | -0.01299411 | -0.05086358 | -0.0003513610 | 0.007963649 | -0.01547018 | 0.03300400 |\n",
       "|  2.182975e-03 | -0.009246165 | -0.01435549 | -0.05017583 |  0.0007031439 | 0.007273257 | -0.01496718 | 0.03388277 |\n",
       "|  1.625316e-03 | -0.010033546 | -0.01575156 | -0.04919569 |  0.0018448949 | 0.006480569 | -0.01450545 | 0.03489354 |\n",
       "|  1.469794e-03 | -0.010198135 | -0.01608967 | -0.04889346 |  0.0021313906 | 0.006284836 | -0.01439872 | 0.03513601 |\n",
       "|  1.260400e-03 | -0.010390151 | -0.01652067 | -0.04847119 |  0.0025003446 | 0.006040824 | -0.01426449 | 0.03544044 |\n",
       "|  3.837617e-04 | -0.010898134 | -0.01811651 | -0.04656259 |  0.0038880335 | 0.005196396 | -0.01376951 | 0.03650886 |\n",
       "|  2.723531e-04 | -0.010933203 | -0.01830117 | -0.04630835 |  0.0040498776 | 0.005105284 | -0.01371119 | 0.03662531 |\n",
       "| -1.323371e-05 | -0.010995914 | -0.01875988 | -0.04564794 |  0.0044524317 | 0.004885458 | -0.01356445 | 0.03690742 |\n",
       "\n"
      ],
      "text/plain": [
       "     Br1122        Br2285       Br1764      Br1464      Br5062       \n",
       "[1,]  2.608214e-03 -0.008387300 -0.01299411 -0.05086358 -0.0003513610\n",
       "[2,]  2.182975e-03 -0.009246165 -0.01435549 -0.05017583  0.0007031439\n",
       "[3,]  1.625316e-03 -0.010033546 -0.01575156 -0.04919569  0.0018448949\n",
       "[4,]  1.469794e-03 -0.010198135 -0.01608967 -0.04889346  0.0021313906\n",
       "[5,]  1.260400e-03 -0.010390151 -0.01652067 -0.04847119  0.0025003446\n",
       "[6,]  3.837617e-04 -0.010898134 -0.01811651 -0.04656259  0.0038880335\n",
       "[7,]  2.723531e-04 -0.010933203 -0.01830117 -0.04630835  0.0040498776\n",
       "[8,] -1.323371e-05 -0.010995914 -0.01875988 -0.04564794  0.0044524317\n",
       "     Br1446      Br1503      Br1946    \n",
       "[1,] 0.007963649 -0.01547018 0.03300400\n",
       "[2,] 0.007273257 -0.01496718 0.03388277\n",
       "[3,] 0.006480569 -0.01450545 0.03489354\n",
       "[4,] 0.006284836 -0.01439872 0.03513601\n",
       "[5,] 0.006040824 -0.01426449 0.03544044\n",
       "[6,] 0.005196396 -0.01376951 0.03650886\n",
       "[7,] 0.005105284 -0.01371119 0.03662531\n",
       "[8,] 0.004885458 -0.01356445 0.03690742"
      ]
     },
     "metadata": {},
     "output_type": "display_data"
    }
   ],
   "source": [
    "p.residual[1:8, 1:8]"
   ]
  },
  {
   "cell_type": "code",
   "execution_count": 30,
   "id": "f4ad72db-fe27-4676-8da6-46222519a095",
   "metadata": {},
   "outputs": [],
   "source": [
    "snp.gwas2 <- NULL"
   ]
  },
  {
   "cell_type": "code",
   "execution_count": 31,
   "id": "744fc147-2638-4935-a805-68cb51852dd7",
   "metadata": {},
   "outputs": [],
   "source": [
    "#load(\"p1.rda\", verbose = TRUE)"
   ]
  },
  {
   "cell_type": "markdown",
   "id": "6f1649fc-72c8-4bcf-9cbc-587463117579",
   "metadata": {},
   "source": [
    "### summary stats"
   ]
  },
  {
   "cell_type": "code",
   "execution_count": 32,
   "id": "19d2a3db-0ed4-481f-b7d6-78d0ddbbb80f",
   "metadata": {},
   "outputs": [],
   "source": [
    "library(data.table)\n",
    "library(CpGWAS)"
   ]
  },
  {
   "cell_type": "code",
   "execution_count": 33,
   "id": "a5270235-a5a6-42d2-a654-ea30cb891279",
   "metadata": {},
   "outputs": [],
   "source": [
    "ss_path <- \"/home/naglemi/mwas/gwas/gwas_stat_scz\""
   ]
  },
  {
   "cell_type": "code",
   "execution_count": 34,
   "id": "203b45ea-44b4-4679-8b74-621f634db7dc",
   "metadata": {},
   "outputs": [],
   "source": [
    "snp.gwas2 <- fread(ss_path, skip = 1, header = FALSE)\n",
    "colnames(snp.gwas2) <- strsplit(readLines(ss_path, n = 1), \"\\t\")[[1]]"
   ]
  },
  {
   "cell_type": "code",
   "execution_count": 35,
   "id": "917f58c4-4ec5-47b8-bf3d-f0abcf86cf96",
   "metadata": {},
   "outputs": [],
   "source": [
    "snp.gwas2$z <- log(snp.gwas2$OR)/snp.gwas2$SE"
   ]
  },
  {
   "cell_type": "code",
   "execution_count": 36,
   "id": "6d87bed5-d32c-4264-b787-d738cd381454",
   "metadata": {},
   "outputs": [],
   "source": [
    "snp.gwas2 <- snp.gwas2[, c(2, 1, 3, 3, 8, 4, 5, 20, 11)]"
   ]
  },
  {
   "cell_type": "code",
   "execution_count": 37,
   "id": "3df5e4c7-01eb-475b-a931-1e088d109cdb",
   "metadata": {},
   "outputs": [
    {
     "data": {
      "text/html": [
       "<table class=\"dataframe\">\n",
       "<caption>A data.table: 1 × 9</caption>\n",
       "<thead>\n",
       "\t<tr><th scope=col>SNP</th><th scope=col>CHR</th><th scope=col>BP</th><th scope=col>BP</th><th scope=col>INFO</th><th scope=col>A1</th><th scope=col>A2</th><th scope=col>z</th><th scope=col>P</th></tr>\n",
       "\t<tr><th scope=col>&lt;chr&gt;</th><th scope=col>&lt;int&gt;</th><th scope=col>&lt;int&gt;</th><th scope=col>&lt;int&gt;</th><th scope=col>&lt;dbl&gt;</th><th scope=col>&lt;chr&gt;</th><th scope=col>&lt;chr&gt;</th><th scope=col>&lt;dbl&gt;</th><th scope=col>&lt;dbl&gt;</th></tr>\n",
       "</thead>\n",
       "<tbody>\n",
       "\t<tr><td>rs62513865</td><td>8</td><td>100579985</td><td>100579985</td><td>0.963</td><td>C</td><td>T</td><td>0.7016221</td><td>0.4847</td></tr>\n",
       "</tbody>\n",
       "</table>\n"
      ],
      "text/latex": [
       "A data.table: 1 × 9\n",
       "\\begin{tabular}{lllllllll}\n",
       " SNP & CHR & BP & BP & INFO & A1 & A2 & z & P\\\\\n",
       " <chr> & <int> & <int> & <int> & <dbl> & <chr> & <chr> & <dbl> & <dbl>\\\\\n",
       "\\hline\n",
       "\t rs62513865 & 8 & 100579985 & 100579985 & 0.963 & C & T & 0.7016221 & 0.4847\\\\\n",
       "\\end{tabular}\n"
      ],
      "text/markdown": [
       "\n",
       "A data.table: 1 × 9\n",
       "\n",
       "| SNP &lt;chr&gt; | CHR &lt;int&gt; | BP &lt;int&gt; | BP &lt;int&gt; | INFO &lt;dbl&gt; | A1 &lt;chr&gt; | A2 &lt;chr&gt; | z &lt;dbl&gt; | P &lt;dbl&gt; |\n",
       "|---|---|---|---|---|---|---|---|---|\n",
       "| rs62513865 | 8 | 100579985 | 100579985 | 0.963 | C | T | 0.7016221 | 0.4847 |\n",
       "\n"
      ],
      "text/plain": [
       "  SNP        CHR BP        BP        INFO  A1 A2 z         P     \n",
       "1 rs62513865 8   100579985 100579985 0.963 C  T  0.7016221 0.4847"
      ]
     },
     "metadata": {},
     "output_type": "display_data"
    }
   ],
   "source": [
    "head(snp.gwas2, n = 1)"
   ]
  },
  {
   "cell_type": "code",
   "execution_count": 38,
   "id": "a1b63fe0-6ff8-4982-92a5-7dd2a937b6f3",
   "metadata": {},
   "outputs": [],
   "source": [
    "colnames(snp.gwas2)[1:5] <- c(\"snp\", \"chr\", \"pos_hg38\", \"pos_hg38\", \"info\")"
   ]
  },
  {
   "cell_type": "code",
   "execution_count": 39,
   "id": "bda48de1-8191-4b45-8f16-41cce0a957af",
   "metadata": {},
   "outputs": [],
   "source": [
    "CHR <- chr # to avoid R df local env mixing variables of columns name and subset variable"
   ]
  },
  {
   "cell_type": "code",
   "execution_count": 40,
   "id": "196dca2f-edd0-4ff7-83d0-73049310205f",
   "metadata": {},
   "outputs": [],
   "source": [
    "snp.gwas2 <- snp.gwas2[which(snp.gwas2$chr == CHR), ]"
   ]
  },
  {
   "cell_type": "code",
   "execution_count": 41,
   "id": "86716430-3d24-416b-922e-f7f8e007325d",
   "metadata": {},
   "outputs": [],
   "source": [
    "if(filter_snps == TRUE){\n",
    "    snp.gwas2 <- snp.gwas2[which(snp.gwas2$pos_hg38 >= (min(sites_to_test_pos)-10000) & snp.gwas2$pos_hg38 <= (max(sites_to_test_pos) + 10000)), ]\n",
    "}"
   ]
  },
  {
   "cell_type": "code",
   "execution_count": 42,
   "id": "6dfba3a8-0775-4f8c-92d2-3c9c32a36945",
   "metadata": {},
   "outputs": [],
   "source": [
    "snp.gwas2 <- snp.gwas2[order(snp.gwas2$pos_hg38), ]"
   ]
  },
  {
   "cell_type": "code",
   "execution_count": 43,
   "id": "4714a813-116f-4567-a6b1-41bb02df8227",
   "metadata": {},
   "outputs": [],
   "source": [
    "# built predition models\n",
    "idx.ea <- BSobj2$race == \"CAUC\""
   ]
  },
  {
   "cell_type": "code",
   "execution_count": 44,
   "id": "8bce368a-5bbc-4ed4-9906-5d8ab09e21a8",
   "metadata": {},
   "outputs": [
    {
     "data": {
      "text/html": [
       "'7'"
      ],
      "text/latex": [
       "'7'"
      ],
      "text/markdown": [
       "'7'"
      ],
      "text/plain": [
       "[1] \"7\""
      ]
     },
     "metadata": {},
     "output_type": "display_data"
    }
   ],
   "source": [
    "levels(factor(snp.gwas2$chr))"
   ]
  },
  {
   "cell_type": "markdown",
   "id": "9700ca92-911f-4aa6-a557-789f202994b1",
   "metadata": {},
   "source": [
    "### SNPs in LIBD population"
   ]
  },
  {
   "cell_type": "markdown",
   "id": "4f57b245-ca89-42ac-986a-c47623a31e59",
   "metadata": {},
   "source": [
    "#### Old dataset"
   ]
  },
  {
   "cell_type": "code",
   "execution_count": null,
   "id": "03097259-e5c1-43c7-9b09-e67ed2080067",
   "metadata": {},
   "outputs": [],
   "source": []
  },
  {
   "cell_type": "code",
   "execution_count": null,
   "id": "0c89ee08-626a-42b6-8091-791bd5d63239",
   "metadata": {},
   "outputs": [],
   "source": []
  },
  {
   "cell_type": "code",
   "execution_count": null,
   "id": "e68fddaf-f50a-41ac-bdb3-56f9bd93ff4b",
   "metadata": {},
   "outputs": [],
   "source": []
  },
  {
   "cell_type": "markdown",
   "id": "6c305c43-74d5-42df-8039-b20adbbed9cd",
   "metadata": {},
   "source": [
    "#### New dataset prep: For reference, first load Shizhong's formatted SNPs on Chr7"
   ]
  },
  {
   "cell_type": "code",
   "execution_count": 45,
   "id": "17bbe86f-b1ff-4af1-8297-56ed0e3051e6",
   "metadata": {},
   "outputs": [],
   "source": [
    "# load(\"p1.rda\", verbose = TRUE)\n",
    "\n",
    "# snp2_sorted <- snp2[, order(names(snp2))]\n",
    "\n",
    "# colnames(snp2) <- gsub(\"Br0\", \"Br\", colnames(snp2))\n",
    "\n",
    "# snp2 <- snp2[, colnames(snp2) %in% colnames(p.residual)]\n",
    "\n",
    "# snp2_positions <- stringr::str_split_fixed(rownames(snp2), \":\", 3)[, 2]"
   ]
  },
  {
   "cell_type": "markdown",
   "id": "64e0f588-fc43-4f4a-aba6-911d037e9ead",
   "metadata": {},
   "source": [
    "#### New dataset: Now let's load ours on Chr1"
   ]
  },
  {
   "cell_type": "code",
   "execution_count": 46,
   "id": "04b0b495-749b-42fa-a4ce-2d7f14f0a053",
   "metadata": {},
   "outputs": [],
   "source": [
    "paths <- list(\n",
    "  pvar_path = paste0(\"/expanse/lustre/projects/jhu152/naglemi/mwas/gwas/libd_chr\", chr, \".pvar\"),\n",
    "  pgen_path = paste0(\"/expanse/lustre/projects/jhu152/naglemi/mwas/gwas/libd_chr\", chr, \".pgen\"),\n",
    "  psam_path = paste0(\"/expanse/lustre/projects/jhu152/naglemi/mwas/gwas/libd_chr\", chr, \".psam\")\n",
    ")\n",
    "\n",
    "my_SNPs <- loadSNPData(paths$pvar_path, paths$pgen_path, paths$psam_path)"
   ]
  },
  {
   "cell_type": "code",
   "execution_count": 47,
   "id": "6c82ac91-681b-483c-818f-3a2ec958bca7",
   "metadata": {},
   "outputs": [],
   "source": [
    "filter_snps <- TRUE"
   ]
  },
  {
   "cell_type": "code",
   "execution_count": 48,
   "id": "1dd4ef47-2a68-4f01-a0e5-03efd6732c4a",
   "metadata": {},
   "outputs": [],
   "source": [
    "if(filter_snps == TRUE){\n",
    "    snp_indices_of_interest <- which(my_SNPs$pvar_dt$POS >= min(sites_to_test_pos)-100000 & my_SNPs$pvar_dt$POS <= max(sites_to_test_pos) + 100000)\n",
    "}"
   ]
  },
  {
   "cell_type": "code",
   "execution_count": 49,
   "id": "24e9b8e2-bbbc-4421-98e2-97a6ae33ef68",
   "metadata": {},
   "outputs": [],
   "source": [
    "if(filter_snps == TRUE){\n",
    "    snp3 <- pgenlibr::ReadList(my_SNPs$pgen,\n",
    "                               variant_subset = snp_indices_of_interest)\n",
    "    colnames(snp3) <- my_SNPs$pvar_dt$ID[snp_indices_of_interest]\n",
    "} else {\n",
    "    snp3 <- pgenlibr::ReadList(my_SNPs$pgen)\n",
    "    colnames(snp3) <- my_SNPs$pvar_dt$ID\n",
    "}"
   ]
  },
  {
   "cell_type": "code",
   "execution_count": 50,
   "id": "cec6d1f4-f37a-4788-a6c8-04fb1d6a6fcf",
   "metadata": {},
   "outputs": [
    {
     "data": {
      "text/html": [
       "<table class=\"dataframe\">\n",
       "<caption>A matrix: 10 × 10 of type dbl</caption>\n",
       "<thead>\n",
       "\t<tr><th scope=col>chr7:1880535:G:A</th><th scope=col>chr7:1880720:G:A</th><th scope=col>chr7:1881190:C:T</th><th scope=col>chr7:1881432:G:A</th><th scope=col>chr7:1881726:C:T</th><th scope=col>chr7:1881793:G:C</th><th scope=col>chr7:1883749:T:C</th><th scope=col>chr7:1884059:C:T</th><th scope=col>chr7:1884597:C:T</th><th scope=col>chr7:1885530:C:G</th></tr>\n",
       "</thead>\n",
       "<tbody>\n",
       "\t<tr><td>0.9849854</td><td>0.000000000</td><td>1.000000</td><td>0.9860229</td><td>0</td><td>0.9860229</td><td>1.000000</td><td>0.9840088</td><td>0</td><td>0.9929810</td></tr>\n",
       "\t<tr><td>0.0000000</td><td>2.000000000</td><td>0.000000</td><td>0.0000000</td><td>2</td><td>0.0000000</td><td>2.000000</td><td>0.0000000</td><td>0</td><td>2.0000000</td></tr>\n",
       "\t<tr><td>1.0000000</td><td>0.000000000</td><td>1.000000</td><td>1.0000000</td><td>0</td><td>1.0000000</td><td>1.000000</td><td>1.0000000</td><td>0</td><td>1.0000000</td></tr>\n",
       "\t<tr><td>0.0000000</td><td>0.997985840</td><td>0.000000</td><td>0.0000000</td><td>1</td><td>0.0000000</td><td>1.000000</td><td>0.0000000</td><td>0</td><td>0.9979858</td></tr>\n",
       "\t<tr><td>1.0000000</td><td>0.000000000</td><td>1.000000</td><td>1.0000000</td><td>0</td><td>1.0000000</td><td>1.000000</td><td>1.0000000</td><td>0</td><td>1.0000000</td></tr>\n",
       "\t<tr><td>0.0000000</td><td>0.999023438</td><td>0.000000</td><td>0.0000000</td><td>1</td><td>0.0000000</td><td>1.000000</td><td>0.0000000</td><td>0</td><td>0.9990234</td></tr>\n",
       "\t<tr><td>0.0000000</td><td>0.000000000</td><td>0.000000</td><td>0.0000000</td><td>0</td><td>0.0000000</td><td>0.000000</td><td>0.0000000</td><td>0</td><td>0.0000000</td></tr>\n",
       "\t<tr><td>1.9160156</td><td>0.000000000</td><td>1.929993</td><td>1.9160156</td><td>0</td><td>1.9149780</td><td>1.999023</td><td>1.9550171</td><td>0</td><td>1.9680176</td></tr>\n",
       "\t<tr><td>1.9949951</td><td>0.002990723</td><td>2.000000</td><td>1.9949951</td><td>0</td><td>1.9949951</td><td>2.000000</td><td>1.9940186</td><td>0</td><td>1.9949951</td></tr>\n",
       "\t<tr><td>1.0000000</td><td>0.000000000</td><td>1.000000</td><td>1.0000000</td><td>0</td><td>1.0000000</td><td>1.000000</td><td>1.0000000</td><td>0</td><td>1.0000000</td></tr>\n",
       "</tbody>\n",
       "</table>\n"
      ],
      "text/latex": [
       "A matrix: 10 × 10 of type dbl\n",
       "\\begin{tabular}{llllllllll}\n",
       " chr7:1880535:G:A & chr7:1880720:G:A & chr7:1881190:C:T & chr7:1881432:G:A & chr7:1881726:C:T & chr7:1881793:G:C & chr7:1883749:T:C & chr7:1884059:C:T & chr7:1884597:C:T & chr7:1885530:C:G\\\\\n",
       "\\hline\n",
       "\t 0.9849854 & 0.000000000 & 1.000000 & 0.9860229 & 0 & 0.9860229 & 1.000000 & 0.9840088 & 0 & 0.9929810\\\\\n",
       "\t 0.0000000 & 2.000000000 & 0.000000 & 0.0000000 & 2 & 0.0000000 & 2.000000 & 0.0000000 & 0 & 2.0000000\\\\\n",
       "\t 1.0000000 & 0.000000000 & 1.000000 & 1.0000000 & 0 & 1.0000000 & 1.000000 & 1.0000000 & 0 & 1.0000000\\\\\n",
       "\t 0.0000000 & 0.997985840 & 0.000000 & 0.0000000 & 1 & 0.0000000 & 1.000000 & 0.0000000 & 0 & 0.9979858\\\\\n",
       "\t 1.0000000 & 0.000000000 & 1.000000 & 1.0000000 & 0 & 1.0000000 & 1.000000 & 1.0000000 & 0 & 1.0000000\\\\\n",
       "\t 0.0000000 & 0.999023438 & 0.000000 & 0.0000000 & 1 & 0.0000000 & 1.000000 & 0.0000000 & 0 & 0.9990234\\\\\n",
       "\t 0.0000000 & 0.000000000 & 0.000000 & 0.0000000 & 0 & 0.0000000 & 0.000000 & 0.0000000 & 0 & 0.0000000\\\\\n",
       "\t 1.9160156 & 0.000000000 & 1.929993 & 1.9160156 & 0 & 1.9149780 & 1.999023 & 1.9550171 & 0 & 1.9680176\\\\\n",
       "\t 1.9949951 & 0.002990723 & 2.000000 & 1.9949951 & 0 & 1.9949951 & 2.000000 & 1.9940186 & 0 & 1.9949951\\\\\n",
       "\t 1.0000000 & 0.000000000 & 1.000000 & 1.0000000 & 0 & 1.0000000 & 1.000000 & 1.0000000 & 0 & 1.0000000\\\\\n",
       "\\end{tabular}\n"
      ],
      "text/markdown": [
       "\n",
       "A matrix: 10 × 10 of type dbl\n",
       "\n",
       "| chr7:1880535:G:A | chr7:1880720:G:A | chr7:1881190:C:T | chr7:1881432:G:A | chr7:1881726:C:T | chr7:1881793:G:C | chr7:1883749:T:C | chr7:1884059:C:T | chr7:1884597:C:T | chr7:1885530:C:G |\n",
       "|---|---|---|---|---|---|---|---|---|---|\n",
       "| 0.9849854 | 0.000000000 | 1.000000 | 0.9860229 | 0 | 0.9860229 | 1.000000 | 0.9840088 | 0 | 0.9929810 |\n",
       "| 0.0000000 | 2.000000000 | 0.000000 | 0.0000000 | 2 | 0.0000000 | 2.000000 | 0.0000000 | 0 | 2.0000000 |\n",
       "| 1.0000000 | 0.000000000 | 1.000000 | 1.0000000 | 0 | 1.0000000 | 1.000000 | 1.0000000 | 0 | 1.0000000 |\n",
       "| 0.0000000 | 0.997985840 | 0.000000 | 0.0000000 | 1 | 0.0000000 | 1.000000 | 0.0000000 | 0 | 0.9979858 |\n",
       "| 1.0000000 | 0.000000000 | 1.000000 | 1.0000000 | 0 | 1.0000000 | 1.000000 | 1.0000000 | 0 | 1.0000000 |\n",
       "| 0.0000000 | 0.999023438 | 0.000000 | 0.0000000 | 1 | 0.0000000 | 1.000000 | 0.0000000 | 0 | 0.9990234 |\n",
       "| 0.0000000 | 0.000000000 | 0.000000 | 0.0000000 | 0 | 0.0000000 | 0.000000 | 0.0000000 | 0 | 0.0000000 |\n",
       "| 1.9160156 | 0.000000000 | 1.929993 | 1.9160156 | 0 | 1.9149780 | 1.999023 | 1.9550171 | 0 | 1.9680176 |\n",
       "| 1.9949951 | 0.002990723 | 2.000000 | 1.9949951 | 0 | 1.9949951 | 2.000000 | 1.9940186 | 0 | 1.9949951 |\n",
       "| 1.0000000 | 0.000000000 | 1.000000 | 1.0000000 | 0 | 1.0000000 | 1.000000 | 1.0000000 | 0 | 1.0000000 |\n",
       "\n"
      ],
      "text/plain": [
       "      chr7:1880535:G:A chr7:1880720:G:A chr7:1881190:C:T chr7:1881432:G:A\n",
       " [1,] 0.9849854        0.000000000      1.000000         0.9860229       \n",
       " [2,] 0.0000000        2.000000000      0.000000         0.0000000       \n",
       " [3,] 1.0000000        0.000000000      1.000000         1.0000000       \n",
       " [4,] 0.0000000        0.997985840      0.000000         0.0000000       \n",
       " [5,] 1.0000000        0.000000000      1.000000         1.0000000       \n",
       " [6,] 0.0000000        0.999023438      0.000000         0.0000000       \n",
       " [7,] 0.0000000        0.000000000      0.000000         0.0000000       \n",
       " [8,] 1.9160156        0.000000000      1.929993         1.9160156       \n",
       " [9,] 1.9949951        0.002990723      2.000000         1.9949951       \n",
       "[10,] 1.0000000        0.000000000      1.000000         1.0000000       \n",
       "      chr7:1881726:C:T chr7:1881793:G:C chr7:1883749:T:C chr7:1884059:C:T\n",
       " [1,] 0                0.9860229        1.000000         0.9840088       \n",
       " [2,] 2                0.0000000        2.000000         0.0000000       \n",
       " [3,] 0                1.0000000        1.000000         1.0000000       \n",
       " [4,] 1                0.0000000        1.000000         0.0000000       \n",
       " [5,] 0                1.0000000        1.000000         1.0000000       \n",
       " [6,] 1                0.0000000        1.000000         0.0000000       \n",
       " [7,] 0                0.0000000        0.000000         0.0000000       \n",
       " [8,] 0                1.9149780        1.999023         1.9550171       \n",
       " [9,] 0                1.9949951        2.000000         1.9940186       \n",
       "[10,] 0                1.0000000        1.000000         1.0000000       \n",
       "      chr7:1884597:C:T chr7:1885530:C:G\n",
       " [1,] 0                0.9929810       \n",
       " [2,] 0                2.0000000       \n",
       " [3,] 0                1.0000000       \n",
       " [4,] 0                0.9979858       \n",
       " [5,] 0                1.0000000       \n",
       " [6,] 0                0.9990234       \n",
       " [7,] 0                0.0000000       \n",
       " [8,] 0                1.9680176       \n",
       " [9,] 0                1.9949951       \n",
       "[10,] 0                1.0000000       "
      ]
     },
     "metadata": {},
     "output_type": "display_data"
    }
   ],
   "source": [
    "snp3[1:10, 1:10]"
   ]
  },
  {
   "cell_type": "code",
   "execution_count": 51,
   "id": "41fbfa27-83df-4758-87c6-0cff2de9a160",
   "metadata": {},
   "outputs": [],
   "source": [
    "rownames(snp3) <- my_SNPs$psam$`#IID`"
   ]
  },
  {
   "cell_type": "markdown",
   "id": "2bedf35f-af22-4395-9768-748ad69c8137",
   "metadata": {},
   "source": [
    "filter by `maf`"
   ]
  },
  {
   "cell_type": "code",
   "execution_count": 52,
   "id": "4292e859-185f-4268-9eee-1f477be83d81",
   "metadata": {},
   "outputs": [
    {
     "data": {
      "text/html": [
       "<style>\n",
       ".list-inline {list-style: none; margin:0; padding: 0}\n",
       ".list-inline>li {display: inline-block}\n",
       ".list-inline>li:not(:last-child)::after {content: \"\\00b7\"; padding: 0 .5ex}\n",
       "</style>\n",
       "<ol class=list-inline><li>2189</li><li>636</li></ol>\n"
      ],
      "text/latex": [
       "\\begin{enumerate*}\n",
       "\\item 2189\n",
       "\\item 636\n",
       "\\end{enumerate*}\n"
      ],
      "text/markdown": [
       "1. 2189\n",
       "2. 636\n",
       "\n",
       "\n"
      ],
      "text/plain": [
       "[1] 2189  636"
      ]
     },
     "metadata": {},
     "output_type": "display_data"
    }
   ],
   "source": [
    "dim(snp3)"
   ]
  },
  {
   "cell_type": "code",
   "execution_count": 53,
   "id": "6cfdeb6b-37cb-49d7-9af7-384edf349c8b",
   "metadata": {},
   "outputs": [],
   "source": [
    "verbose <- FALSE\n",
    "if (maf > 0){\n",
    "    mafs <- colMeans(snp3, na.rm = TRUE) / 2\n",
    "    mafs_below_threshold <- mafs < maf\n",
    "    if (any(mafs_below_threshold)) {\n",
    "      if (verbose) {\n",
    "        message(paste0(\"removing \", sum(mafs_below_threshold), \" SNP(s) with MAF < \",\n",
    "                       maf, \" for position \", meth_site_pos,\n",
    "                      \" with window size \", window_size, \".\\n\\n\"))\n",
    "      }\n",
    "      snp3 <- snp3[, !mafs_below_threshold, drop = FALSE] \n",
    "    }\n",
    "}"
   ]
  },
  {
   "cell_type": "code",
   "execution_count": 54,
   "id": "446bb612-0118-4ea0-9d48-e9e7d603a51a",
   "metadata": {},
   "outputs": [
    {
     "data": {
      "text/html": [
       "<style>\n",
       ".list-inline {list-style: none; margin:0; padding: 0}\n",
       ".list-inline>li {display: inline-block}\n",
       ".list-inline>li:not(:last-child)::after {content: \"\\00b7\"; padding: 0 .5ex}\n",
       "</style>\n",
       "<ol class=list-inline><li>2189</li><li>466</li></ol>\n"
      ],
      "text/latex": [
       "\\begin{enumerate*}\n",
       "\\item 2189\n",
       "\\item 466\n",
       "\\end{enumerate*}\n"
      ],
      "text/markdown": [
       "1. 2189\n",
       "2. 466\n",
       "\n",
       "\n"
      ],
      "text/plain": [
       "[1] 2189  466"
      ]
     },
     "metadata": {},
     "output_type": "display_data"
    }
   ],
   "source": [
    "dim(snp3)"
   ]
  },
  {
   "cell_type": "code",
   "execution_count": 55,
   "id": "7a35ed6c-92ba-44b3-840e-ffc621828872",
   "metadata": {},
   "outputs": [],
   "source": [
    "map3 <- data.frame(POS = stringr::str_split_fixed(colnames(snp3), \":\", 3)[, 2])"
   ]
  },
  {
   "cell_type": "code",
   "execution_count": 56,
   "id": "ca549289-47f4-444b-b3e8-7d8a39c2e33f",
   "metadata": {},
   "outputs": [],
   "source": [
    "snp3 <- t(snp3)"
   ]
  },
  {
   "cell_type": "code",
   "execution_count": 57,
   "id": "191b05e4-0107-4059-887e-bd3f2cafde0f",
   "metadata": {},
   "outputs": [],
   "source": [
    "map3 <- data.frame(POS = stringr::str_split_fixed(rownames(snp3), \":\", 3)[, 2])"
   ]
  },
  {
   "cell_type": "code",
   "execution_count": 58,
   "id": "4e17a504-e98e-4d5e-bc59-3fd09faf3de8",
   "metadata": {},
   "outputs": [
    {
     "data": {
      "text/html": [
       "<style>\n",
       ".list-inline {list-style: none; margin:0; padding: 0}\n",
       ".list-inline>li {display: inline-block}\n",
       ".list-inline>li:not(:last-child)::after {content: \"\\00b7\"; padding: 0 .5ex}\n",
       "</style>\n",
       "<ol class=list-inline><li>466</li><li>1</li></ol>\n"
      ],
      "text/latex": [
       "\\begin{enumerate*}\n",
       "\\item 466\n",
       "\\item 1\n",
       "\\end{enumerate*}\n"
      ],
      "text/markdown": [
       "1. 466\n",
       "2. 1\n",
       "\n",
       "\n"
      ],
      "text/plain": [
       "[1] 466   1"
      ]
     },
     "metadata": {},
     "output_type": "display_data"
    }
   ],
   "source": [
    "dim(map3)"
   ]
  },
  {
   "cell_type": "markdown",
   "id": "268b409b-4571-4f32-8a6d-0104927e2d8a",
   "metadata": {},
   "source": []
  },
  {
   "cell_type": "markdown",
   "id": "d0fb3ea3-0f60-4a62-b787-66185fc8e792",
   "metadata": {},
   "source": [
    "### SNPs in reference population"
   ]
  },
  {
   "cell_type": "code",
   "execution_count": 59,
   "id": "00b33368-a3ec-4788-8b82-519e1fbd5e95",
   "metadata": {},
   "outputs": [],
   "source": [
    "#snp.1kg.eur2"
   ]
  },
  {
   "cell_type": "code",
   "execution_count": 60,
   "id": "99022f2f-c9b9-47db-a5af-b2d7ba0ded99",
   "metadata": {},
   "outputs": [],
   "source": [
    "paths <- list(\n",
    "  pvar_path = paste0(\"/expanse/lustre/projects/jhu152/naglemi/mwas/gwas/ref_EUR_chr\", chr, \".pvar\"),\n",
    "  pgen_path = paste0(\"/expanse/lustre/projects/jhu152/naglemi/mwas/gwas/ref_EUR_chr\", chr, \".pgen\"),\n",
    "  psam_path = paste0(\"/expanse/lustre/projects/jhu152/naglemi/mwas/gwas/ref_EUR_chr\", chr, \".psam\")\n",
    ")\n",
    "\n",
    "my_SNPs <- loadSNPData(paths$pvar_path, paths$pgen_path, paths$psam_path)"
   ]
  },
  {
   "cell_type": "code",
   "execution_count": 61,
   "id": "90b30176-0532-45a1-bf5e-17e207bb61d5",
   "metadata": {},
   "outputs": [],
   "source": [
    "if(filter_snps == TRUE){\n",
    "    snp_indices_of_interest <- which(my_SNPs$pvar_dt$POS >= min(sites_to_test_pos)-10000 & my_SNPs$pvar_dt$POS <= max(sites_to_test_pos) + 10000)\n",
    "}"
   ]
  },
  {
   "cell_type": "code",
   "execution_count": 62,
   "id": "85f427f7-e4d3-4ba6-ad1a-a2691f68346e",
   "metadata": {},
   "outputs": [],
   "source": [
    "snp.1kg.eur2 <- pgenlibr::ReadList(my_SNPs$pgen,\n",
    "                        variant_subset = snp_indices_of_interest)\n",
    "colnames(snp.1kg.eur2) <- my_SNPs$pvar_dt$ID[snp_indices_of_interest]\n",
    "rownames(snp.1kg.eur2) <- my_SNPs$psam$`IID`"
   ]
  },
  {
   "cell_type": "code",
   "execution_count": 63,
   "id": "38d80ac5-91d5-4766-8953-fe93f6de6a34",
   "metadata": {},
   "outputs": [],
   "source": [
    "map.1kg.eur2 <- my_SNPs$pvar_dt"
   ]
  },
  {
   "cell_type": "code",
   "execution_count": 64,
   "id": "a9650fe9-2483-4bf0-95d3-0102b90465f2",
   "metadata": {},
   "outputs": [],
   "source": [
    "map.1kg.eur2 <- map.1kg.eur2[snp_indices_of_interest, ]"
   ]
  },
  {
   "cell_type": "code",
   "execution_count": 65,
   "id": "f6f5d1f5-0681-4825-bfa7-79d3ace6f004",
   "metadata": {},
   "outputs": [],
   "source": [
    "snp.1kg.eur2 <- t(snp.1kg.eur2)"
   ]
  },
  {
   "cell_type": "markdown",
   "id": "882a7c0a-0ec2-4aa2-be3c-a2f152126bd8",
   "metadata": {},
   "source": [
    "### Set window size and any other parameters"
   ]
  },
  {
   "cell_type": "code",
   "execution_count": 66,
   "id": "461263e5-8c47-40ae-b3e4-03dbea4820e8",
   "metadata": {},
   "outputs": [],
   "source": [
    "wind <- 10000"
   ]
  },
  {
   "cell_type": "markdown",
   "id": "0849e5e3-af47-480f-82ca-97b07d1dd943",
   "metadata": {},
   "source": [
    "Is 1se vs min for lambda the problem?"
   ]
  },
  {
   "cell_type": "markdown",
   "id": "b0244eba-060a-4ac3-966c-cb68deb41cb0",
   "metadata": {},
   "source": [
    "#### Final formatting steps to prepare for MWAS - sort samples"
   ]
  },
  {
   "cell_type": "code",
   "execution_count": 67,
   "id": "f41f9c4d-1489-45a4-ad25-d446a05980bf",
   "metadata": {},
   "outputs": [],
   "source": [
    "p.residual <- p.residual[, order(colnames(p.residual))]"
   ]
  },
  {
   "cell_type": "code",
   "execution_count": 68,
   "id": "65857cda-1517-4854-a1e1-5af6459cbdca",
   "metadata": {},
   "outputs": [],
   "source": [
    "snp3 <- snp3[, colnames(snp3) %in% colnames(p.residual)]"
   ]
  },
  {
   "cell_type": "code",
   "execution_count": 69,
   "id": "7ab51668-a9da-4913-a8ee-41aa0d49550e",
   "metadata": {},
   "outputs": [],
   "source": [
    "snp3 <- snp3[, order(colnames(snp3))]"
   ]
  },
  {
   "cell_type": "markdown",
   "id": "768cf092-82d8-46e6-b322-efd6e09bbb73",
   "metadata": {},
   "source": [
    "## MWAS"
   ]
  },
  {
   "cell_type": "markdown",
   "id": "c3720675-e92d-46ee-b5a6-66d71d367dc4",
   "metadata": {},
   "source": [
    "### With `lambda.1se`"
   ]
  },
  {
   "cell_type": "markdown",
   "id": "cfc14c0f-1e12-4108-97fc-ab66a6467640",
   "metadata": {},
   "source": [
    "#### Stage 1"
   ]
  },
  {
   "cell_type": "markdown",
   "id": "7cde5d54-d8c6-4f26-b992-cd06803bafc3",
   "metadata": {},
   "source": [
    "Quick debug: A version to see why we end up with empty `models.aa` and `models.ea`"
   ]
  },
  {
   "cell_type": "code",
   "execution_count": 70,
   "id": "305409c3-5abb-49c2-9914-6fd958064abf",
   "metadata": {},
   "outputs": [
    {
     "name": "stderr",
     "output_type": "stream",
     "text": [
      "Warning message:\n",
      "“executing %dopar% sequentially: no parallel backend registered”\n"
     ]
    }
   ],
   "source": [
    "set.seed(42)\n",
    "for(k in 1:length(wind)){\n",
    "    models.ea <- c()\n",
    "    models.all <- c()\n",
    "    for(i in 1:length(cg)){\n",
    "    #for(i in 1){\n",
    "            #cat(i,\"\\n\")\n",
    "            #print(paste0(\"This cg is: \", cg[i]))\n",
    "            range1 <- ifelse(cg[i] - wind[k] > 0,cg[i] - wind[k],0)\n",
    "            range2 <- cg[i] + wind[k]\n",
    "            idx <- map3$POS > range1 & map3$POS < range2\n",
    "            # go to next cg if no snps within window\n",
    "            if(sum(idx) <= 1){\n",
    "                    next\n",
    "            }\n",
    "            geno <- snp3[idx,] # changed snp2 to snp3\n",
    "            rownames(geno) <- map3$POS[idx]\n",
    "            trainX <- t(geno)\n",
    "            trainY <- p.residual[i,]\n",
    "            #fit <- elastic.net(trainX,trainY, \"1se\")\n",
    "            fit <- tryCatch(\n",
    "                    elastic.net(trainX,trainY, \"1se\"),\n",
    "                    error = function(e) {return (\"err\")})\n",
    "            if(!is.data.frame(fit)){\n",
    "                if(fit == \"err\"){\n",
    "                    next\n",
    "                }\n",
    "            }\n",
    "            if(nrow(fit) == 0) next\n",
    "\n",
    "            fit$cg <- cg[i]\n",
    "            models.all <- rbind(models.all,fit)\n",
    "            # EA only\n",
    "            trainX <- trainX[idx.ea,]\n",
    "            if(sum(apply(trainX,2,var)!=0) <= 1){\n",
    "                    next\n",
    "            }\n",
    "            trainY <- trainY[idx.ea]\n",
    "            fit <- tryCatch(\n",
    "                    elastic.net(trainX,trainY, \"1se\"),\n",
    "                    error = function(e) {return (\"err\")})\n",
    "            if(!is.data.frame(fit)){\n",
    "                if(fit == \"err\"){\n",
    "                    next\n",
    "                }\n",
    "            }\n",
    "            if(nrow(fit) == 0) next\n",
    "            fit$cg <- cg[i]\n",
    "            models.ea <- rbind(models.ea,fit)\n",
    "    }\n",
    "}"
   ]
  },
  {
   "cell_type": "code",
   "execution_count": 71,
   "id": "3d109e75-bf26-43f5-8a0d-d6bb2f9cbe6b",
   "metadata": {},
   "outputs": [],
   "source": [
    "models.ea <- models.ea[models.ea[,1] != \"(Intercept)\",]\n",
    "models.all <- models.all[models.all[,1] != \"(Intercept)\",]"
   ]
  },
  {
   "cell_type": "markdown",
   "id": "9f851085-6f8e-4b8e-91fb-5696125a32be",
   "metadata": {},
   "source": [
    "#### Stage 2"
   ]
  },
  {
   "cell_type": "code",
   "execution_count": 72,
   "id": "ad0d6d07-06f6-403d-8496-5dd34d8ba4b1",
   "metadata": {},
   "outputs": [],
   "source": [
    "if(!dir.exists(outd)) dir.create(outd)"
   ]
  },
  {
   "cell_type": "code",
   "execution_count": 73,
   "id": "96693eaa-eb61-415a-b5d8-6034f0a4d150",
   "metadata": {},
   "outputs": [],
   "source": [
    "set.seed(42)\n",
    "# mwas by models of all samples\n",
    "cg2 <- unique(models.all$cg)\n",
    "mwas.all <- matrix(0,nrow=length(cg2),ncol=2)\n",
    "\n",
    "for(i in 1:length(cg2)){\n",
    "    pos <- models.all[models.all$cg == cg2[i],1]\n",
    "    gwas <- snp.gwas2$z[is.element(snp.gwas2$pos_hg38, pos)]\n",
    "    weight <- models.all[models.all$cg == cg2[i],2]\n",
    "    #geno <- snp.1kg.eur2[match(pos,map.1kg.eur2$POS),]\n",
    "\n",
    "    match_indices <- match(pos, map.1kg.eur2$POS)\n",
    "\n",
    "    tryCatch({\n",
    "        geno <- snp.1kg.eur2[match_indices, , drop = FALSE]\n",
    "    }, error = function(e) {\n",
    "        cat(\"Error accessing genotype data at iteration:\", i, \"\\n\")\n",
    "        cat(\"Error message:\", e$message, \"\\n\")\n",
    "        stop(\"Stopping execution due to error.\")\n",
    "    })\n",
    "\n",
    "    tryCatch({\n",
    "        mwas.all[i,] <- MWAS(gwas, weight, t(geno))\n",
    "    }, error = function(e) {\n",
    "        cat(\"Error at iteration:\", i, \"\\n\")\n",
    "        cat(\"cg2[i]:\", cg2[i], \"\\n\")\n",
    "        cat(\"gwas:\\n\")\n",
    "        print(gwas)\n",
    "        cat(\"weight:\\n\")\n",
    "        print(weight)\n",
    "        stop(e)\n",
    "    })\n",
    "}\n",
    "\n",
    "rownames(mwas.all) <- cg2\n",
    "colnames(mwas.all) <- c(\"z\",\"p\")"
   ]
  },
  {
   "cell_type": "code",
   "execution_count": 74,
   "id": "a4314a84-5d2e-4c56-83d4-692912ee5f79",
   "metadata": {},
   "outputs": [
    {
     "data": {
      "text/html": [
       "259"
      ],
      "text/latex": [
       "259"
      ],
      "text/markdown": [
       "259"
      ],
      "text/plain": [
       "[1] 259"
      ]
     },
     "metadata": {},
     "output_type": "display_data"
    }
   ],
   "source": [
    "i"
   ]
  },
  {
   "cell_type": "code",
   "execution_count": 75,
   "id": "170e9bd7-6652-423a-b58b-3dd771d4cc0d",
   "metadata": {},
   "outputs": [
    {
     "data": {
      "text/html": [
       "'1996464'"
      ],
      "text/latex": [
       "'1996464'"
      ],
      "text/markdown": [
       "'1996464'"
      ],
      "text/plain": [
       "[1] \"1996464\""
      ]
     },
     "metadata": {},
     "output_type": "display_data"
    }
   ],
   "source": [
    "pos"
   ]
  },
  {
   "cell_type": "code",
   "execution_count": 76,
   "id": "b493791d-c9a3-42bb-af38-5fc978f5aa8e",
   "metadata": {},
   "outputs": [
    {
     "data": {
      "text/html": [
       "-1.77936294711921"
      ],
      "text/latex": [
       "-1.77936294711921"
      ],
      "text/markdown": [
       "-1.77936294711921"
      ],
      "text/plain": [
       "[1] -1.779363"
      ]
     },
     "metadata": {},
     "output_type": "display_data"
    }
   ],
   "source": [
    "gwas"
   ]
  },
  {
   "cell_type": "code",
   "execution_count": 77,
   "id": "ede13b23-ec79-4861-a0f4-4f2bd2bb07f0",
   "metadata": {},
   "outputs": [
    {
     "data": {
      "text/html": [
       "1"
      ],
      "text/latex": [
       "1"
      ],
      "text/markdown": [
       "1"
      ],
      "text/plain": [
       "[1] 1"
      ]
     },
     "metadata": {},
     "output_type": "display_data"
    }
   ],
   "source": [
    "length(pos)"
   ]
  },
  {
   "cell_type": "code",
   "execution_count": 78,
   "id": "5cd8089c-2616-4eda-8b67-d102a50cfd79",
   "metadata": {},
   "outputs": [
    {
     "data": {
      "text/html": [
       "1"
      ],
      "text/latex": [
       "1"
      ],
      "text/markdown": [
       "1"
      ],
      "text/plain": [
       "[1] 1"
      ]
     },
     "metadata": {},
     "output_type": "display_data"
    }
   ],
   "source": [
    "length(gwas)"
   ]
  },
  {
   "cell_type": "code",
   "execution_count": 79,
   "id": "8e13c25a-1b93-4186-b614-ea68f07dba7d",
   "metadata": {},
   "outputs": [
    {
     "data": {
      "text/html": [
       "<table class=\"dataframe\">\n",
       "<caption>A data.frame: 1 × 3</caption>\n",
       "<thead>\n",
       "\t<tr><th></th><th scope=col>features</th><th scope=col>coefs</th><th scope=col>cg</th></tr>\n",
       "\t<tr><th></th><th scope=col>&lt;chr&gt;</th><th scope=col>&lt;dbl&gt;</th><th scope=col>&lt;dbl&gt;</th></tr>\n",
       "</thead>\n",
       "<tbody>\n",
       "\t<tr><th scope=row>1611</th><td>1996464</td><td>6.944515e-18</td><td>1989924</td></tr>\n",
       "</tbody>\n",
       "</table>\n"
      ],
      "text/latex": [
       "A data.frame: 1 × 3\n",
       "\\begin{tabular}{r|lll}\n",
       "  & features & coefs & cg\\\\\n",
       "  & <chr> & <dbl> & <dbl>\\\\\n",
       "\\hline\n",
       "\t1611 & 1996464 & 6.944515e-18 & 1989924\\\\\n",
       "\\end{tabular}\n"
      ],
      "text/markdown": [
       "\n",
       "A data.frame: 1 × 3\n",
       "\n",
       "| <!--/--> | features &lt;chr&gt; | coefs &lt;dbl&gt; | cg &lt;dbl&gt; |\n",
       "|---|---|---|---|\n",
       "| 1611 | 1996464 | 6.944515e-18 | 1989924 |\n",
       "\n"
      ],
      "text/plain": [
       "     features coefs        cg     \n",
       "1611 1996464  6.944515e-18 1989924"
      ]
     },
     "metadata": {},
     "output_type": "display_data"
    }
   ],
   "source": [
    "models.all[models.all$cg == cg2[i], ]"
   ]
  },
  {
   "cell_type": "code",
   "execution_count": 80,
   "id": "0f3ea4dd-de72-40df-91d6-4deee103e85c",
   "metadata": {},
   "outputs": [
    {
     "data": {
      "text/html": [
       "<table class=\"dataframe\">\n",
       "<caption>A data.table: 1 × 9</caption>\n",
       "<thead>\n",
       "\t<tr><th scope=col>snp</th><th scope=col>chr</th><th scope=col>pos_hg38</th><th scope=col>pos_hg38</th><th scope=col>info</th><th scope=col>A1</th><th scope=col>A2</th><th scope=col>z</th><th scope=col>P</th></tr>\n",
       "\t<tr><th scope=col>&lt;chr&gt;</th><th scope=col>&lt;int&gt;</th><th scope=col>&lt;int&gt;</th><th scope=col>&lt;int&gt;</th><th scope=col>&lt;dbl&gt;</th><th scope=col>&lt;chr&gt;</th><th scope=col>&lt;chr&gt;</th><th scope=col>&lt;dbl&gt;</th><th scope=col>&lt;dbl&gt;</th></tr>\n",
       "</thead>\n",
       "<tbody>\n",
       "\t<tr><td>rs6953187</td><td>7</td><td>1996464</td><td>1996464</td><td>0.995</td><td>A</td><td>G</td><td>-1.779363</td><td>0.07505</td></tr>\n",
       "</tbody>\n",
       "</table>\n"
      ],
      "text/latex": [
       "A data.table: 1 × 9\n",
       "\\begin{tabular}{lllllllll}\n",
       " snp & chr & pos\\_hg38 & pos\\_hg38 & info & A1 & A2 & z & P\\\\\n",
       " <chr> & <int> & <int> & <int> & <dbl> & <chr> & <chr> & <dbl> & <dbl>\\\\\n",
       "\\hline\n",
       "\t rs6953187 & 7 & 1996464 & 1996464 & 0.995 & A & G & -1.779363 & 0.07505\\\\\n",
       "\\end{tabular}\n"
      ],
      "text/markdown": [
       "\n",
       "A data.table: 1 × 9\n",
       "\n",
       "| snp &lt;chr&gt; | chr &lt;int&gt; | pos_hg38 &lt;int&gt; | pos_hg38 &lt;int&gt; | info &lt;dbl&gt; | A1 &lt;chr&gt; | A2 &lt;chr&gt; | z &lt;dbl&gt; | P &lt;dbl&gt; |\n",
       "|---|---|---|---|---|---|---|---|---|\n",
       "| rs6953187 | 7 | 1996464 | 1996464 | 0.995 | A | G | -1.779363 | 0.07505 |\n",
       "\n"
      ],
      "text/plain": [
       "  snp       chr pos_hg38 pos_hg38 info  A1 A2 z         P      \n",
       "1 rs6953187 7   1996464  1996464  0.995 A  G  -1.779363 0.07505"
      ]
     },
     "metadata": {},
     "output_type": "display_data"
    }
   ],
   "source": [
    "snp.gwas2[is.element(snp.gwas2$pos_hg38, pos), ]"
   ]
  },
  {
   "cell_type": "code",
   "execution_count": null,
   "id": "6c26320f-8327-4798-a4a8-688da8a232cd",
   "metadata": {},
   "outputs": [],
   "source": []
  },
  {
   "cell_type": "code",
   "execution_count": null,
   "id": "a3409bbc-aad9-4e4e-a96e-8a2708013cea",
   "metadata": {},
   "outputs": [],
   "source": []
  },
  {
   "cell_type": "code",
   "execution_count": 81,
   "id": "0c31ad3e-4c74-4b93-bed1-c628df41a756",
   "metadata": {},
   "outputs": [],
   "source": [
    "# Why do we get non-conformable arguments for iteration 57?"
   ]
  },
  {
   "cell_type": "code",
   "execution_count": null,
   "id": "af58f5cb-4dac-40e0-976c-8fef56a53ad9",
   "metadata": {},
   "outputs": [],
   "source": []
  },
  {
   "cell_type": "code",
   "execution_count": null,
   "id": "c4a157bc-a24d-4bf8-bb5c-e5359747c5df",
   "metadata": {},
   "outputs": [],
   "source": []
  },
  {
   "cell_type": "code",
   "execution_count": null,
   "id": "900dd643-8906-41aa-9658-7fbfd394ee3d",
   "metadata": {},
   "outputs": [],
   "source": []
  },
  {
   "cell_type": "code",
   "execution_count": 82,
   "id": "dccc0ad7-c8ec-47b9-8fd1-204576e6482e",
   "metadata": {},
   "outputs": [
    {
     "data": {
      "text/html": [
       "6.9445151939485e-18"
      ],
      "text/latex": [
       "6.9445151939485e-18"
      ],
      "text/markdown": [
       "6.9445151939485e-18"
      ],
      "text/plain": [
       "[1] 6.944515e-18"
      ]
     },
     "metadata": {},
     "output_type": "display_data"
    }
   ],
   "source": [
    "weight"
   ]
  },
  {
   "cell_type": "code",
   "execution_count": 83,
   "id": "55bb7b60-c52c-4462-9a53-8d103db474a7",
   "metadata": {},
   "outputs": [
    {
     "data": {
      "text/html": [
       "1"
      ],
      "text/latex": [
       "1"
      ],
      "text/markdown": [
       "1"
      ],
      "text/plain": [
       "[1] 1"
      ]
     },
     "metadata": {},
     "output_type": "display_data"
    }
   ],
   "source": [
    "length(weight)"
   ]
  },
  {
   "cell_type": "code",
   "execution_count": 84,
   "id": "6804d2d5-c798-48ba-bdef-e073d0e61788",
   "metadata": {},
   "outputs": [
    {
     "data": {
      "text/html": [
       "-1.77936294711921"
      ],
      "text/latex": [
       "-1.77936294711921"
      ],
      "text/markdown": [
       "-1.77936294711921"
      ],
      "text/plain": [
       "[1] -1.779363"
      ]
     },
     "metadata": {},
     "output_type": "display_data"
    }
   ],
   "source": [
    "gwas"
   ]
  },
  {
   "cell_type": "code",
   "execution_count": 85,
   "id": "f1f81f5a-dd46-4180-86fc-2dcd9ae390c5",
   "metadata": {},
   "outputs": [
    {
     "data": {
      "text/html": [
       "1"
      ],
      "text/latex": [
       "1"
      ],
      "text/markdown": [
       "1"
      ],
      "text/plain": [
       "[1] 1"
      ]
     },
     "metadata": {},
     "output_type": "display_data"
    }
   ],
   "source": [
    "length(gwas)"
   ]
  },
  {
   "cell_type": "code",
   "execution_count": 86,
   "id": "b78985e2-cb5d-4c1d-adf4-d22a1f5dae0b",
   "metadata": {},
   "outputs": [
    {
     "data": {
      "text/html": [
       "-1.77936294711921"
      ],
      "text/latex": [
       "-1.77936294711921"
      ],
      "text/markdown": [
       "-1.77936294711921"
      ],
      "text/plain": [
       "[1] -1.779363"
      ]
     },
     "metadata": {},
     "output_type": "display_data"
    }
   ],
   "source": [
    "head(gwas)"
   ]
  },
  {
   "cell_type": "code",
   "execution_count": 87,
   "id": "a7639e85-621f-44e4-bae1-93f2f9e800f2",
   "metadata": {},
   "outputs": [
    {
     "data": {
      "text/html": [
       "<table class=\"dataframe\">\n",
       "<caption>A data.frame: 6 × 1</caption>\n",
       "<thead>\n",
       "\t<tr><th></th><th scope=col>POS</th></tr>\n",
       "\t<tr><th></th><th scope=col>&lt;chr&gt;</th></tr>\n",
       "</thead>\n",
       "<tbody>\n",
       "\t<tr><th scope=row>1</th><td>1880535</td></tr>\n",
       "\t<tr><th scope=row>2</th><td>1880720</td></tr>\n",
       "\t<tr><th scope=row>3</th><td>1881190</td></tr>\n",
       "\t<tr><th scope=row>4</th><td>1881432</td></tr>\n",
       "\t<tr><th scope=row>5</th><td>1881726</td></tr>\n",
       "\t<tr><th scope=row>6</th><td>1881793</td></tr>\n",
       "</tbody>\n",
       "</table>\n"
      ],
      "text/latex": [
       "A data.frame: 6 × 1\n",
       "\\begin{tabular}{r|l}\n",
       "  & POS\\\\\n",
       "  & <chr>\\\\\n",
       "\\hline\n",
       "\t1 & 1880535\\\\\n",
       "\t2 & 1880720\\\\\n",
       "\t3 & 1881190\\\\\n",
       "\t4 & 1881432\\\\\n",
       "\t5 & 1881726\\\\\n",
       "\t6 & 1881793\\\\\n",
       "\\end{tabular}\n"
      ],
      "text/markdown": [
       "\n",
       "A data.frame: 6 × 1\n",
       "\n",
       "| <!--/--> | POS &lt;chr&gt; |\n",
       "|---|---|\n",
       "| 1 | 1880535 |\n",
       "| 2 | 1880720 |\n",
       "| 3 | 1881190 |\n",
       "| 4 | 1881432 |\n",
       "| 5 | 1881726 |\n",
       "| 6 | 1881793 |\n",
       "\n"
      ],
      "text/plain": [
       "  POS    \n",
       "1 1880535\n",
       "2 1880720\n",
       "3 1881190\n",
       "4 1881432\n",
       "5 1881726\n",
       "6 1881793"
      ]
     },
     "metadata": {},
     "output_type": "display_data"
    }
   ],
   "source": [
    "head(map3)"
   ]
  },
  {
   "cell_type": "code",
   "execution_count": 88,
   "id": "387129e1-c89e-40b2-9f02-0ee18c3272fd",
   "metadata": {},
   "outputs": [
    {
     "data": {
      "text/html": [
       "<table class=\"dataframe\">\n",
       "<caption>A matrix: 1 × 489 of type dbl</caption>\n",
       "<thead>\n",
       "\t<tr><th></th><th scope=col>HG00096</th><th scope=col>HG00097</th><th scope=col>HG00099</th><th scope=col>HG00101</th><th scope=col>HG00102</th><th scope=col>HG00103</th><th scope=col>HG00105</th><th scope=col>HG00107</th><th scope=col>HG00108</th><th scope=col>HG00109</th><th scope=col>⋯</th><th scope=col>NA20814</th><th scope=col>NA20815</th><th scope=col>NA20818</th><th scope=col>NA20819</th><th scope=col>NA20821</th><th scope=col>NA20822</th><th scope=col>NA20826</th><th scope=col>NA20827</th><th scope=col>NA20828</th><th scope=col>NA20832</th></tr>\n",
       "</thead>\n",
       "<tbody>\n",
       "\t<tr><th scope=row>rs6953187</th><td>0</td><td>0</td><td>0</td><td>0</td><td>0</td><td>0</td><td>0</td><td>0</td><td>0</td><td>0</td><td>⋯</td><td>0</td><td>0</td><td>0</td><td>0</td><td>0</td><td>0</td><td>0</td><td>0</td><td>0</td><td>0</td></tr>\n",
       "</tbody>\n",
       "</table>\n"
      ],
      "text/latex": [
       "A matrix: 1 × 489 of type dbl\n",
       "\\begin{tabular}{r|lllllllllllllllllllll}\n",
       "  & HG00096 & HG00097 & HG00099 & HG00101 & HG00102 & HG00103 & HG00105 & HG00107 & HG00108 & HG00109 & ⋯ & NA20814 & NA20815 & NA20818 & NA20819 & NA20821 & NA20822 & NA20826 & NA20827 & NA20828 & NA20832\\\\\n",
       "\\hline\n",
       "\trs6953187 & 0 & 0 & 0 & 0 & 0 & 0 & 0 & 0 & 0 & 0 & ⋯ & 0 & 0 & 0 & 0 & 0 & 0 & 0 & 0 & 0 & 0\\\\\n",
       "\\end{tabular}\n"
      ],
      "text/markdown": [
       "\n",
       "A matrix: 1 × 489 of type dbl\n",
       "\n",
       "| <!--/--> | HG00096 | HG00097 | HG00099 | HG00101 | HG00102 | HG00103 | HG00105 | HG00107 | HG00108 | HG00109 | ⋯ | NA20814 | NA20815 | NA20818 | NA20819 | NA20821 | NA20822 | NA20826 | NA20827 | NA20828 | NA20832 |\n",
       "|---|---|---|---|---|---|---|---|---|---|---|---|---|---|---|---|---|---|---|---|---|---|\n",
       "| rs6953187 | 0 | 0 | 0 | 0 | 0 | 0 | 0 | 0 | 0 | 0 | ⋯ | 0 | 0 | 0 | 0 | 0 | 0 | 0 | 0 | 0 | 0 |\n",
       "\n"
      ],
      "text/plain": [
       "          HG00096 HG00097 HG00099 HG00101 HG00102 HG00103 HG00105 HG00107\n",
       "rs6953187 0       0       0       0       0       0       0       0      \n",
       "          HG00108 HG00109 ⋯ NA20814 NA20815 NA20818 NA20819 NA20821 NA20822\n",
       "rs6953187 0       0       ⋯ 0       0       0       0       0       0      \n",
       "          NA20826 NA20827 NA20828 NA20832\n",
       "rs6953187 0       0       0       0      "
      ]
     },
     "metadata": {},
     "output_type": "display_data"
    }
   ],
   "source": [
    "head(geno)"
   ]
  },
  {
   "cell_type": "code",
   "execution_count": 89,
   "id": "c5fbba20-e398-4e3d-8c18-c99857820da5",
   "metadata": {},
   "outputs": [],
   "source": [
    "# mwas by models of EA samples\n",
    "cg2 <- unique(models.ea$cg)\n",
    "mwas.ea <- matrix(0,nrow=length(cg2),ncol=2)\n",
    "for(i in 1:length(cg2)){\n",
    "        pos <- models.ea[models.ea$cg == cg2[i],1]\n",
    "        gwas <- snp.gwas2$z[is.element(snp.gwas2$pos_hg38, pos)]\n",
    "        weight <- models.ea[models.ea$cg == cg2[i],2]\n",
    "        #geno <- snp.1kg.eur2[match(pos,map.1kg.eur2$POS),]\n",
    "\n",
    "        match_indices <- match(pos, map.1kg.eur2$POS)\n",
    "\n",
    "        tryCatch({\n",
    "            geno <- snp.1kg.eur2[match_indices, , drop = FALSE]\n",
    "        }, error = function(e) {\n",
    "            cat(\"Error accessing genotype data at iteration:\", i, \"\\n\")\n",
    "            cat(\"Error message:\", e$message, \"\\n\")\n",
    "            stop(\"Stopping execution due to error.\")\n",
    "        })    \n",
    "    \n",
    "        mwas.ea[i,] <- MWAS(gwas, weight, t(geno))\n",
    "}\n",
    "rownames(mwas.ea) <- cg2\n",
    "colnames(mwas.ea) <- c(\"z\",\"p\")"
   ]
  },
  {
   "cell_type": "code",
   "execution_count": 90,
   "id": "207bf56e-0680-4f1b-a54d-f5e4b68cf77d",
   "metadata": {},
   "outputs": [
    {
     "data": {
      "text/html": [
       "<table class=\"dataframe\">\n",
       "<caption>A matrix: 6 × 2 of type dbl</caption>\n",
       "<thead>\n",
       "\t<tr><th></th><th scope=col>z</th><th scope=col>p</th></tr>\n",
       "</thead>\n",
       "<tbody>\n",
       "\t<tr><th scope=row>1980077</th><td>-9.840905</td><td>7.503298e-23</td></tr>\n",
       "\t<tr><th scope=row>1980101</th><td>-9.754207</td><td>1.769790e-22</td></tr>\n",
       "\t<tr><th scope=row>1980129</th><td>-9.898247</td><td>4.236347e-23</td></tr>\n",
       "\t<tr><th scope=row>1980136</th><td>-9.865062</td><td>5.899797e-23</td></tr>\n",
       "\t<tr><th scope=row>1980145</th><td>-9.883575</td><td>4.905094e-23</td></tr>\n",
       "\t<tr><th scope=row>1980179</th><td>-9.902221</td><td>4.071305e-23</td></tr>\n",
       "</tbody>\n",
       "</table>\n"
      ],
      "text/latex": [
       "A matrix: 6 × 2 of type dbl\n",
       "\\begin{tabular}{r|ll}\n",
       "  & z & p\\\\\n",
       "\\hline\n",
       "\t1980077 & -9.840905 & 7.503298e-23\\\\\n",
       "\t1980101 & -9.754207 & 1.769790e-22\\\\\n",
       "\t1980129 & -9.898247 & 4.236347e-23\\\\\n",
       "\t1980136 & -9.865062 & 5.899797e-23\\\\\n",
       "\t1980145 & -9.883575 & 4.905094e-23\\\\\n",
       "\t1980179 & -9.902221 & 4.071305e-23\\\\\n",
       "\\end{tabular}\n"
      ],
      "text/markdown": [
       "\n",
       "A matrix: 6 × 2 of type dbl\n",
       "\n",
       "| <!--/--> | z | p |\n",
       "|---|---|---|\n",
       "| 1980077 | -9.840905 | 7.503298e-23 |\n",
       "| 1980101 | -9.754207 | 1.769790e-22 |\n",
       "| 1980129 | -9.898247 | 4.236347e-23 |\n",
       "| 1980136 | -9.865062 | 5.899797e-23 |\n",
       "| 1980145 | -9.883575 | 4.905094e-23 |\n",
       "| 1980179 | -9.902221 | 4.071305e-23 |\n",
       "\n"
      ],
      "text/plain": [
       "        z         p           \n",
       "1980077 -9.840905 7.503298e-23\n",
       "1980101 -9.754207 1.769790e-22\n",
       "1980129 -9.898247 4.236347e-23\n",
       "1980136 -9.865062 5.899797e-23\n",
       "1980145 -9.883575 4.905094e-23\n",
       "1980179 -9.902221 4.071305e-23"
      ]
     },
     "metadata": {},
     "output_type": "display_data"
    }
   ],
   "source": [
    "head(mwas.all)"
   ]
  },
  {
   "cell_type": "code",
   "execution_count": 91,
   "id": "4b88eb34-6d44-4fe7-ad8a-c49dc1a71a81",
   "metadata": {},
   "outputs": [],
   "source": [
    "mwas.all.1se <- mwas.all"
   ]
  },
  {
   "cell_type": "markdown",
   "id": "0765a889-36b0-4d87-bd66-4f33dbea0de5",
   "metadata": {},
   "source": [
    "### With `lambda.min`"
   ]
  },
  {
   "cell_type": "markdown",
   "id": "047c1cca-57f3-494d-9f25-08d7959713d9",
   "metadata": {},
   "source": [
    "#### Stage 1"
   ]
  },
  {
   "cell_type": "code",
   "execution_count": 92,
   "id": "61a5f950-2c27-40b1-aa96-809004183249",
   "metadata": {},
   "outputs": [
    {
     "name": "stderr",
     "output_type": "stream",
     "text": [
      "Warning message:\n",
      "“from glmnet C++ code (error code -95); Convergence for 95th lambda value not reached after maxit=100000 iterations; solutions for larger lambdas returned”\n"
     ]
    }
   ],
   "source": [
    "set.seed(42)\n",
    "for(k in 1:length(wind)){\n",
    "    models.ea <- c()\n",
    "    models.all <- c()\n",
    "    for(i in 1:length(cg)){\n",
    "    #for(i in 1){\n",
    "        #cat(i,\"\\n\")\n",
    "        #print(paste0(\"This cg is: \", cg[i]))\n",
    "        range1 <- ifelse(cg[i] - wind[k] > 0,cg[i] - wind[k],0)\n",
    "        range2 <- cg[i] + wind[k]\n",
    "        idx <- map3$POS > range1 & map3$POS < range2\n",
    "        # go to next cg if no snps within window\n",
    "        if(sum(idx) <= 1){\n",
    "                next\n",
    "        }\n",
    "        geno <- snp3[idx,] # changed snp2 to snp3\n",
    "        rownames(geno) <- map3$POS[idx]\n",
    "        trainX <- t(geno)\n",
    "        trainY <- p.residual[i,]\n",
    "        fit <- elastic.net(trainX,trainY)\n",
    "        fit <- tryCatch(\n",
    "                elastic.net(trainX,trainY, \"min\"),\n",
    "                error = function(e) {return (\"err\")})\n",
    "        if(!is.data.frame(fit)){\n",
    "            if(fit == \"err\"){\n",
    "                next\n",
    "            }\n",
    "        }\n",
    "        if(nrow(fit) == 0) next\n",
    "\n",
    "        fit$cg <- cg[i]\n",
    "        models.all <- rbind(models.all,fit)\n",
    "        # EA only\n",
    "        trainX <- trainX[idx.ea,]\n",
    "        if(sum(apply(trainX,2,var)!=0) <= 1){\n",
    "                next\n",
    "        }\n",
    "        trainY <- trainY[idx.ea]\n",
    "        fit <- tryCatch(\n",
    "                elastic.net(trainX,trainY, \"min\"),\n",
    "                error = function(e) {return (\"err\")})\n",
    "        if(!is.data.frame(fit)){\n",
    "            if(fit == \"err\"){\n",
    "                next\n",
    "            }\n",
    "        }\n",
    "        if(nrow(fit) == 0) next\n",
    "        fit$cg <- cg[i]\n",
    "        models.ea <- rbind(models.ea,fit)\n",
    "    }\n",
    "}"
   ]
  },
  {
   "cell_type": "code",
   "execution_count": 93,
   "id": "edde27e7-2435-474e-8fee-5870af257547",
   "metadata": {},
   "outputs": [],
   "source": [
    "models.ea <- models.ea[models.ea[,1] != \"(Intercept)\",]\n",
    "models.all <- models.all[models.all[,1] != \"(Intercept)\",]"
   ]
  },
  {
   "cell_type": "markdown",
   "id": "e1a14145-108e-4f1c-9abb-fd4744ba5105",
   "metadata": {},
   "source": [
    "#### Stage 2"
   ]
  },
  {
   "cell_type": "code",
   "execution_count": 94,
   "id": "582b72bb-156b-4d61-9a28-b6e07b2feee6",
   "metadata": {},
   "outputs": [],
   "source": [
    "if(!dir.exists(outd)) dir.create(outd)"
   ]
  },
  {
   "cell_type": "code",
   "execution_count": 95,
   "id": "0dc61fc5-dcd5-41ca-b76d-61e379df41fc",
   "metadata": {},
   "outputs": [],
   "source": [
    "set.seed(42)\n",
    "# mwas by models of all samples\n",
    "cg2 <- unique(models.all$cg)\n",
    "mwas.all <- matrix(0,nrow=length(cg2),ncol=2)\n",
    "for(i in 1:length(cg2)){\n",
    "    pos <- models.all[models.all$cg == cg2[i],1]\n",
    "    gwas <- snp.gwas2$z[is.element(snp.gwas2$pos_hg38, pos)]\n",
    "    weight <- models.all[models.all$cg == cg2[i],2]\n",
    "    #geno <- snp.1kg.eur2[match(pos,map.1kg.eur2$POS),]\n",
    "\n",
    "    match_indices <- match(pos, map.1kg.eur2$POS)\n",
    "\n",
    "    tryCatch({\n",
    "        geno <- snp.1kg.eur2[match_indices, , drop = FALSE]\n",
    "    }, error = function(e) {\n",
    "        cat(\"Error accessing genotype data at iteration:\", i, \"\\n\")\n",
    "        cat(\"Error message:\", e$message, \"\\n\")\n",
    "        stop(\"Stopping execution due to error.\")\n",
    "    })\n",
    "\n",
    "    mwas.all[i,] <- MWAS(gwas, weight, t(geno))\n",
    "}\n",
    "rownames(mwas.all) <- cg2\n",
    "colnames(mwas.all) <- c(\"z\",\"p\")"
   ]
  },
  {
   "cell_type": "code",
   "execution_count": 96,
   "id": "4002b896-fbac-46f7-aae3-671083aa49d7",
   "metadata": {},
   "outputs": [],
   "source": [
    "# mwas by models of EA samples\n",
    "cg2 <- unique(models.ea$cg)\n",
    "mwas.ea <- matrix(0,nrow=length(cg2),ncol=2)\n",
    "for(i in 1:length(cg2)){\n",
    "    pos <- models.ea[models.ea$cg == cg2[i],1]\n",
    "    gwas <- snp.gwas2$z[is.element(snp.gwas2$pos_hg38, pos)]\n",
    "    weight <- models.ea[models.ea$cg == cg2[i],2]\n",
    "    #geno <- snp.1kg.eur2[match(pos,map.1kg.eur2$POS),]\n",
    "\n",
    "    match_indices <- match(pos, map.1kg.eur2$POS)\n",
    "\n",
    "    tryCatch({\n",
    "        geno <- snp.1kg.eur2[match_indices, , drop = FALSE]\n",
    "    }, error = function(e) {\n",
    "        cat(\"Error accessing genotype data at iteration:\", i, \"\\n\")\n",
    "        cat(\"Error message:\", e$message, \"\\n\")\n",
    "        stop(\"Stopping execution due to error.\")\n",
    "    })    \n",
    "\n",
    "    mwas.ea[i,] <- MWAS(gwas, weight, t(geno))\n",
    "}\n",
    "rownames(mwas.ea) <- cg2\n",
    "colnames(mwas.ea) <- c(\"z\",\"p\")"
   ]
  },
  {
   "cell_type": "code",
   "execution_count": 97,
   "id": "4131a37d-d770-49e0-b06e-f7731eda00d6",
   "metadata": {
    "scrolled": true
   },
   "outputs": [
    {
     "data": {
      "text/html": [
       "<table class=\"dataframe\">\n",
       "<caption>A matrix: 6 × 2 of type dbl</caption>\n",
       "<thead>\n",
       "\t<tr><th></th><th scope=col>z</th><th scope=col>p</th></tr>\n",
       "</thead>\n",
       "<tbody>\n",
       "\t<tr><th scope=row>1980077</th><td> -9.958809</td><td>2.308109e-23</td></tr>\n",
       "\t<tr><th scope=row>1980101</th><td> -9.932166</td><td>3.016301e-23</td></tr>\n",
       "\t<tr><th scope=row>1980129</th><td>-10.044057</td><td>9.757662e-24</td></tr>\n",
       "\t<tr><th scope=row>1980136</th><td> -9.942014</td><td>2.732450e-23</td></tr>\n",
       "\t<tr><th scope=row>1980145</th><td> -9.956433</td><td>2.363918e-23</td></tr>\n",
       "\t<tr><th scope=row>1980179</th><td>-10.112251</td><td>4.875095e-24</td></tr>\n",
       "</tbody>\n",
       "</table>\n"
      ],
      "text/latex": [
       "A matrix: 6 × 2 of type dbl\n",
       "\\begin{tabular}{r|ll}\n",
       "  & z & p\\\\\n",
       "\\hline\n",
       "\t1980077 &  -9.958809 & 2.308109e-23\\\\\n",
       "\t1980101 &  -9.932166 & 3.016301e-23\\\\\n",
       "\t1980129 & -10.044057 & 9.757662e-24\\\\\n",
       "\t1980136 &  -9.942014 & 2.732450e-23\\\\\n",
       "\t1980145 &  -9.956433 & 2.363918e-23\\\\\n",
       "\t1980179 & -10.112251 & 4.875095e-24\\\\\n",
       "\\end{tabular}\n"
      ],
      "text/markdown": [
       "\n",
       "A matrix: 6 × 2 of type dbl\n",
       "\n",
       "| <!--/--> | z | p |\n",
       "|---|---|---|\n",
       "| 1980077 |  -9.958809 | 2.308109e-23 |\n",
       "| 1980101 |  -9.932166 | 3.016301e-23 |\n",
       "| 1980129 | -10.044057 | 9.757662e-24 |\n",
       "| 1980136 |  -9.942014 | 2.732450e-23 |\n",
       "| 1980145 |  -9.956433 | 2.363918e-23 |\n",
       "| 1980179 | -10.112251 | 4.875095e-24 |\n",
       "\n"
      ],
      "text/plain": [
       "        z          p           \n",
       "1980077  -9.958809 2.308109e-23\n",
       "1980101  -9.932166 3.016301e-23\n",
       "1980129 -10.044057 9.757662e-24\n",
       "1980136  -9.942014 2.732450e-23\n",
       "1980145  -9.956433 2.363918e-23\n",
       "1980179 -10.112251 4.875095e-24"
      ]
     },
     "metadata": {},
     "output_type": "display_data"
    }
   ],
   "source": [
    "head(mwas.all)"
   ]
  },
  {
   "cell_type": "code",
   "execution_count": 98,
   "id": "b30cbbe2-8dc6-4d04-b454-30c6216b87ee",
   "metadata": {},
   "outputs": [],
   "source": [
    "mwas.all.min <- mwas.all"
   ]
  },
  {
   "cell_type": "markdown",
   "id": "87456298-fa83-4288-9607-7d4d4457a01a",
   "metadata": {},
   "source": [
    "## Compare"
   ]
  },
  {
   "cell_type": "code",
   "execution_count": 99,
   "id": "d8b4153c-b4a2-4add-b174-8a9945da6962",
   "metadata": {},
   "outputs": [
    {
     "data": {
      "text/html": [
       "<table class=\"dataframe\">\n",
       "<caption>A matrix: 259 × 2 of type dbl</caption>\n",
       "<thead>\n",
       "\t<tr><th></th><th scope=col>z</th><th scope=col>p</th></tr>\n",
       "</thead>\n",
       "<tbody>\n",
       "\t<tr><th scope=row>1980077</th><td> -9.840905</td><td>7.503298e-23</td></tr>\n",
       "\t<tr><th scope=row>1980101</th><td> -9.754207</td><td>1.769790e-22</td></tr>\n",
       "\t<tr><th scope=row>1980129</th><td> -9.898247</td><td>4.236347e-23</td></tr>\n",
       "\t<tr><th scope=row>1980136</th><td> -9.865062</td><td>5.899797e-23</td></tr>\n",
       "\t<tr><th scope=row>1980145</th><td> -9.883575</td><td>4.905094e-23</td></tr>\n",
       "\t<tr><th scope=row>1980179</th><td> -9.902221</td><td>4.071305e-23</td></tr>\n",
       "\t<tr><th scope=row>1980183</th><td> -9.913675</td><td>3.630402e-23</td></tr>\n",
       "\t<tr><th scope=row>1980193</th><td> -9.927699</td><td>3.154523e-23</td></tr>\n",
       "\t<tr><th scope=row>1980205</th><td> -9.938467</td><td>2.831513e-23</td></tr>\n",
       "\t<tr><th scope=row>1980239</th><td>-10.017033</td><td>1.282965e-23</td></tr>\n",
       "\t<tr><th scope=row>1980247</th><td>-10.020440</td><td>1.239504e-23</td></tr>\n",
       "\t<tr><th scope=row>1980287</th><td>-10.132945</td><td>3.945824e-24</td></tr>\n",
       "\t<tr><th scope=row>1980291</th><td>-10.129624</td><td>4.082160e-24</td></tr>\n",
       "\t<tr><th scope=row>1980303</th><td>-10.115266</td><td>4.727299e-24</td></tr>\n",
       "\t<tr><th scope=row>1980320</th><td>-10.175230</td><td>2.557951e-24</td></tr>\n",
       "\t<tr><th scope=row>1980326</th><td>-10.179348</td><td>2.451985e-24</td></tr>\n",
       "\t<tr><th scope=row>1980355</th><td>-10.176183</td><td>2.533038e-24</td></tr>\n",
       "\t<tr><th scope=row>1980373</th><td>-10.170573</td><td>2.683249e-24</td></tr>\n",
       "\t<tr><th scope=row>1980390</th><td>-10.175189</td><td>2.559029e-24</td></tr>\n",
       "\t<tr><th scope=row>1980396</th><td>-10.177230</td><td>2.505926e-24</td></tr>\n",
       "\t<tr><th scope=row>1980448</th><td>-10.147870</td><td>3.386754e-24</td></tr>\n",
       "\t<tr><th scope=row>1980458</th><td>-10.147870</td><td>3.386754e-24</td></tr>\n",
       "\t<tr><th scope=row>1980464</th><td>-10.147870</td><td>3.386754e-24</td></tr>\n",
       "\t<tr><th scope=row>1980496</th><td>-10.147870</td><td>3.386754e-24</td></tr>\n",
       "\t<tr><th scope=row>1980577</th><td>-10.147870</td><td>3.386754e-24</td></tr>\n",
       "\t<tr><th scope=row>1980581</th><td>-10.147870</td><td>3.386754e-24</td></tr>\n",
       "\t<tr><th scope=row>1980787</th><td> -2.262888</td><td>2.364260e-02</td></tr>\n",
       "\t<tr><th scope=row>1980833</th><td> -2.262888</td><td>2.364260e-02</td></tr>\n",
       "\t<tr><th scope=row>1980852</th><td> -2.262888</td><td>2.364260e-02</td></tr>\n",
       "\t<tr><th scope=row>1980866</th><td>-10.147870</td><td>3.386754e-24</td></tr>\n",
       "\t<tr><th scope=row>⋮</th><td>⋮</td><td>⋮</td></tr>\n",
       "\t<tr><th scope=row>1988785</th><td>-1.779363</td><td>7.518028e-02</td></tr>\n",
       "\t<tr><th scope=row>1988874</th><td>-1.779363</td><td>7.518028e-02</td></tr>\n",
       "\t<tr><th scope=row>1989169</th><td> 5.250139</td><td>1.519846e-07</td></tr>\n",
       "\t<tr><th scope=row>1989183</th><td> 5.250020</td><td>1.520823e-07</td></tr>\n",
       "\t<tr><th scope=row>1989201</th><td> 5.250206</td><td>1.519292e-07</td></tr>\n",
       "\t<tr><th scope=row>1989209</th><td> 5.254997</td><td>1.480266e-07</td></tr>\n",
       "\t<tr><th scope=row>1989218</th><td> 5.251305</td><td>1.510251e-07</td></tr>\n",
       "\t<tr><th scope=row>1989223</th><td> 5.250085</td><td>1.520288e-07</td></tr>\n",
       "\t<tr><th scope=row>1989241</th><td> 5.251320</td><td>1.510130e-07</td></tr>\n",
       "\t<tr><th scope=row>1989249</th><td> 5.250482</td><td>1.517015e-07</td></tr>\n",
       "\t<tr><th scope=row>1989263</th><td> 5.250007</td><td>1.520932e-07</td></tr>\n",
       "\t<tr><th scope=row>1989275</th><td> 5.250105</td><td>1.520127e-07</td></tr>\n",
       "\t<tr><th scope=row>1989298</th><td> 5.250408</td><td>1.517624e-07</td></tr>\n",
       "\t<tr><th scope=row>1989308</th><td> 5.249949</td><td>1.521411e-07</td></tr>\n",
       "\t<tr><th scope=row>1989332</th><td> 5.249650</td><td>1.523888e-07</td></tr>\n",
       "\t<tr><th scope=row>1989394</th><td> 5.237607</td><td>1.626720e-07</td></tr>\n",
       "\t<tr><th scope=row>1989442</th><td> 5.244993</td><td>1.562884e-07</td></tr>\n",
       "\t<tr><th scope=row>1989451</th><td> 5.246342</td><td>1.551485e-07</td></tr>\n",
       "\t<tr><th scope=row>1989482</th><td> 5.242387</td><td>1.585124e-07</td></tr>\n",
       "\t<tr><th scope=row>1989500</th><td> 5.241122</td><td>1.596032e-07</td></tr>\n",
       "\t<tr><th scope=row>1989503</th><td> 5.237825</td><td>1.624797e-07</td></tr>\n",
       "\t<tr><th scope=row>1989510</th><td> 5.006226</td><td>5.550758e-07</td></tr>\n",
       "\t<tr><th scope=row>1989527</th><td> 5.247670</td><td>1.540351e-07</td></tr>\n",
       "\t<tr><th scope=row>1989534</th><td> 5.237269</td><td>1.629698e-07</td></tr>\n",
       "\t<tr><th scope=row>1989605</th><td> 5.200384</td><td>1.988772e-07</td></tr>\n",
       "\t<tr><th scope=row>1989642</th><td> 5.200384</td><td>1.988772e-07</td></tr>\n",
       "\t<tr><th scope=row>1989674</th><td>-1.779363</td><td>7.518028e-02</td></tr>\n",
       "\t<tr><th scope=row>1989767</th><td>-1.779363</td><td>7.518028e-02</td></tr>\n",
       "\t<tr><th scope=row>1989793</th><td>-1.779363</td><td>7.518028e-02</td></tr>\n",
       "\t<tr><th scope=row>1989924</th><td>-1.779363</td><td>7.518028e-02</td></tr>\n",
       "</tbody>\n",
       "</table>\n"
      ],
      "text/latex": [
       "A matrix: 259 × 2 of type dbl\n",
       "\\begin{tabular}{r|ll}\n",
       "  & z & p\\\\\n",
       "\\hline\n",
       "\t1980077 &  -9.840905 & 7.503298e-23\\\\\n",
       "\t1980101 &  -9.754207 & 1.769790e-22\\\\\n",
       "\t1980129 &  -9.898247 & 4.236347e-23\\\\\n",
       "\t1980136 &  -9.865062 & 5.899797e-23\\\\\n",
       "\t1980145 &  -9.883575 & 4.905094e-23\\\\\n",
       "\t1980179 &  -9.902221 & 4.071305e-23\\\\\n",
       "\t1980183 &  -9.913675 & 3.630402e-23\\\\\n",
       "\t1980193 &  -9.927699 & 3.154523e-23\\\\\n",
       "\t1980205 &  -9.938467 & 2.831513e-23\\\\\n",
       "\t1980239 & -10.017033 & 1.282965e-23\\\\\n",
       "\t1980247 & -10.020440 & 1.239504e-23\\\\\n",
       "\t1980287 & -10.132945 & 3.945824e-24\\\\\n",
       "\t1980291 & -10.129624 & 4.082160e-24\\\\\n",
       "\t1980303 & -10.115266 & 4.727299e-24\\\\\n",
       "\t1980320 & -10.175230 & 2.557951e-24\\\\\n",
       "\t1980326 & -10.179348 & 2.451985e-24\\\\\n",
       "\t1980355 & -10.176183 & 2.533038e-24\\\\\n",
       "\t1980373 & -10.170573 & 2.683249e-24\\\\\n",
       "\t1980390 & -10.175189 & 2.559029e-24\\\\\n",
       "\t1980396 & -10.177230 & 2.505926e-24\\\\\n",
       "\t1980448 & -10.147870 & 3.386754e-24\\\\\n",
       "\t1980458 & -10.147870 & 3.386754e-24\\\\\n",
       "\t1980464 & -10.147870 & 3.386754e-24\\\\\n",
       "\t1980496 & -10.147870 & 3.386754e-24\\\\\n",
       "\t1980577 & -10.147870 & 3.386754e-24\\\\\n",
       "\t1980581 & -10.147870 & 3.386754e-24\\\\\n",
       "\t1980787 &  -2.262888 & 2.364260e-02\\\\\n",
       "\t1980833 &  -2.262888 & 2.364260e-02\\\\\n",
       "\t1980852 &  -2.262888 & 2.364260e-02\\\\\n",
       "\t1980866 & -10.147870 & 3.386754e-24\\\\\n",
       "\t⋮ & ⋮ & ⋮\\\\\n",
       "\t1988785 & -1.779363 & 7.518028e-02\\\\\n",
       "\t1988874 & -1.779363 & 7.518028e-02\\\\\n",
       "\t1989169 &  5.250139 & 1.519846e-07\\\\\n",
       "\t1989183 &  5.250020 & 1.520823e-07\\\\\n",
       "\t1989201 &  5.250206 & 1.519292e-07\\\\\n",
       "\t1989209 &  5.254997 & 1.480266e-07\\\\\n",
       "\t1989218 &  5.251305 & 1.510251e-07\\\\\n",
       "\t1989223 &  5.250085 & 1.520288e-07\\\\\n",
       "\t1989241 &  5.251320 & 1.510130e-07\\\\\n",
       "\t1989249 &  5.250482 & 1.517015e-07\\\\\n",
       "\t1989263 &  5.250007 & 1.520932e-07\\\\\n",
       "\t1989275 &  5.250105 & 1.520127e-07\\\\\n",
       "\t1989298 &  5.250408 & 1.517624e-07\\\\\n",
       "\t1989308 &  5.249949 & 1.521411e-07\\\\\n",
       "\t1989332 &  5.249650 & 1.523888e-07\\\\\n",
       "\t1989394 &  5.237607 & 1.626720e-07\\\\\n",
       "\t1989442 &  5.244993 & 1.562884e-07\\\\\n",
       "\t1989451 &  5.246342 & 1.551485e-07\\\\\n",
       "\t1989482 &  5.242387 & 1.585124e-07\\\\\n",
       "\t1989500 &  5.241122 & 1.596032e-07\\\\\n",
       "\t1989503 &  5.237825 & 1.624797e-07\\\\\n",
       "\t1989510 &  5.006226 & 5.550758e-07\\\\\n",
       "\t1989527 &  5.247670 & 1.540351e-07\\\\\n",
       "\t1989534 &  5.237269 & 1.629698e-07\\\\\n",
       "\t1989605 &  5.200384 & 1.988772e-07\\\\\n",
       "\t1989642 &  5.200384 & 1.988772e-07\\\\\n",
       "\t1989674 & -1.779363 & 7.518028e-02\\\\\n",
       "\t1989767 & -1.779363 & 7.518028e-02\\\\\n",
       "\t1989793 & -1.779363 & 7.518028e-02\\\\\n",
       "\t1989924 & -1.779363 & 7.518028e-02\\\\\n",
       "\\end{tabular}\n"
      ],
      "text/markdown": [
       "\n",
       "A matrix: 259 × 2 of type dbl\n",
       "\n",
       "| <!--/--> | z | p |\n",
       "|---|---|---|\n",
       "| 1980077 |  -9.840905 | 7.503298e-23 |\n",
       "| 1980101 |  -9.754207 | 1.769790e-22 |\n",
       "| 1980129 |  -9.898247 | 4.236347e-23 |\n",
       "| 1980136 |  -9.865062 | 5.899797e-23 |\n",
       "| 1980145 |  -9.883575 | 4.905094e-23 |\n",
       "| 1980179 |  -9.902221 | 4.071305e-23 |\n",
       "| 1980183 |  -9.913675 | 3.630402e-23 |\n",
       "| 1980193 |  -9.927699 | 3.154523e-23 |\n",
       "| 1980205 |  -9.938467 | 2.831513e-23 |\n",
       "| 1980239 | -10.017033 | 1.282965e-23 |\n",
       "| 1980247 | -10.020440 | 1.239504e-23 |\n",
       "| 1980287 | -10.132945 | 3.945824e-24 |\n",
       "| 1980291 | -10.129624 | 4.082160e-24 |\n",
       "| 1980303 | -10.115266 | 4.727299e-24 |\n",
       "| 1980320 | -10.175230 | 2.557951e-24 |\n",
       "| 1980326 | -10.179348 | 2.451985e-24 |\n",
       "| 1980355 | -10.176183 | 2.533038e-24 |\n",
       "| 1980373 | -10.170573 | 2.683249e-24 |\n",
       "| 1980390 | -10.175189 | 2.559029e-24 |\n",
       "| 1980396 | -10.177230 | 2.505926e-24 |\n",
       "| 1980448 | -10.147870 | 3.386754e-24 |\n",
       "| 1980458 | -10.147870 | 3.386754e-24 |\n",
       "| 1980464 | -10.147870 | 3.386754e-24 |\n",
       "| 1980496 | -10.147870 | 3.386754e-24 |\n",
       "| 1980577 | -10.147870 | 3.386754e-24 |\n",
       "| 1980581 | -10.147870 | 3.386754e-24 |\n",
       "| 1980787 |  -2.262888 | 2.364260e-02 |\n",
       "| 1980833 |  -2.262888 | 2.364260e-02 |\n",
       "| 1980852 |  -2.262888 | 2.364260e-02 |\n",
       "| 1980866 | -10.147870 | 3.386754e-24 |\n",
       "| ⋮ | ⋮ | ⋮ |\n",
       "| 1988785 | -1.779363 | 7.518028e-02 |\n",
       "| 1988874 | -1.779363 | 7.518028e-02 |\n",
       "| 1989169 |  5.250139 | 1.519846e-07 |\n",
       "| 1989183 |  5.250020 | 1.520823e-07 |\n",
       "| 1989201 |  5.250206 | 1.519292e-07 |\n",
       "| 1989209 |  5.254997 | 1.480266e-07 |\n",
       "| 1989218 |  5.251305 | 1.510251e-07 |\n",
       "| 1989223 |  5.250085 | 1.520288e-07 |\n",
       "| 1989241 |  5.251320 | 1.510130e-07 |\n",
       "| 1989249 |  5.250482 | 1.517015e-07 |\n",
       "| 1989263 |  5.250007 | 1.520932e-07 |\n",
       "| 1989275 |  5.250105 | 1.520127e-07 |\n",
       "| 1989298 |  5.250408 | 1.517624e-07 |\n",
       "| 1989308 |  5.249949 | 1.521411e-07 |\n",
       "| 1989332 |  5.249650 | 1.523888e-07 |\n",
       "| 1989394 |  5.237607 | 1.626720e-07 |\n",
       "| 1989442 |  5.244993 | 1.562884e-07 |\n",
       "| 1989451 |  5.246342 | 1.551485e-07 |\n",
       "| 1989482 |  5.242387 | 1.585124e-07 |\n",
       "| 1989500 |  5.241122 | 1.596032e-07 |\n",
       "| 1989503 |  5.237825 | 1.624797e-07 |\n",
       "| 1989510 |  5.006226 | 5.550758e-07 |\n",
       "| 1989527 |  5.247670 | 1.540351e-07 |\n",
       "| 1989534 |  5.237269 | 1.629698e-07 |\n",
       "| 1989605 |  5.200384 | 1.988772e-07 |\n",
       "| 1989642 |  5.200384 | 1.988772e-07 |\n",
       "| 1989674 | -1.779363 | 7.518028e-02 |\n",
       "| 1989767 | -1.779363 | 7.518028e-02 |\n",
       "| 1989793 | -1.779363 | 7.518028e-02 |\n",
       "| 1989924 | -1.779363 | 7.518028e-02 |\n",
       "\n"
      ],
      "text/plain": [
       "        z          p           \n",
       "1980077  -9.840905 7.503298e-23\n",
       "1980101  -9.754207 1.769790e-22\n",
       "1980129  -9.898247 4.236347e-23\n",
       "1980136  -9.865062 5.899797e-23\n",
       "1980145  -9.883575 4.905094e-23\n",
       "1980179  -9.902221 4.071305e-23\n",
       "1980183  -9.913675 3.630402e-23\n",
       "1980193  -9.927699 3.154523e-23\n",
       "1980205  -9.938467 2.831513e-23\n",
       "1980239 -10.017033 1.282965e-23\n",
       "1980247 -10.020440 1.239504e-23\n",
       "1980287 -10.132945 3.945824e-24\n",
       "1980291 -10.129624 4.082160e-24\n",
       "1980303 -10.115266 4.727299e-24\n",
       "1980320 -10.175230 2.557951e-24\n",
       "1980326 -10.179348 2.451985e-24\n",
       "1980355 -10.176183 2.533038e-24\n",
       "1980373 -10.170573 2.683249e-24\n",
       "1980390 -10.175189 2.559029e-24\n",
       "1980396 -10.177230 2.505926e-24\n",
       "1980448 -10.147870 3.386754e-24\n",
       "1980458 -10.147870 3.386754e-24\n",
       "1980464 -10.147870 3.386754e-24\n",
       "1980496 -10.147870 3.386754e-24\n",
       "1980577 -10.147870 3.386754e-24\n",
       "1980581 -10.147870 3.386754e-24\n",
       "1980787  -2.262888 2.364260e-02\n",
       "1980833  -2.262888 2.364260e-02\n",
       "1980852  -2.262888 2.364260e-02\n",
       "1980866 -10.147870 3.386754e-24\n",
       "⋮       ⋮          ⋮           \n",
       "1988785 -1.779363  7.518028e-02\n",
       "1988874 -1.779363  7.518028e-02\n",
       "1989169  5.250139  1.519846e-07\n",
       "1989183  5.250020  1.520823e-07\n",
       "1989201  5.250206  1.519292e-07\n",
       "1989209  5.254997  1.480266e-07\n",
       "1989218  5.251305  1.510251e-07\n",
       "1989223  5.250085  1.520288e-07\n",
       "1989241  5.251320  1.510130e-07\n",
       "1989249  5.250482  1.517015e-07\n",
       "1989263  5.250007  1.520932e-07\n",
       "1989275  5.250105  1.520127e-07\n",
       "1989298  5.250408  1.517624e-07\n",
       "1989308  5.249949  1.521411e-07\n",
       "1989332  5.249650  1.523888e-07\n",
       "1989394  5.237607  1.626720e-07\n",
       "1989442  5.244993  1.562884e-07\n",
       "1989451  5.246342  1.551485e-07\n",
       "1989482  5.242387  1.585124e-07\n",
       "1989500  5.241122  1.596032e-07\n",
       "1989503  5.237825  1.624797e-07\n",
       "1989510  5.006226  5.550758e-07\n",
       "1989527  5.247670  1.540351e-07\n",
       "1989534  5.237269  1.629698e-07\n",
       "1989605  5.200384  1.988772e-07\n",
       "1989642  5.200384  1.988772e-07\n",
       "1989674 -1.779363  7.518028e-02\n",
       "1989767 -1.779363  7.518028e-02\n",
       "1989793 -1.779363  7.518028e-02\n",
       "1989924 -1.779363  7.518028e-02"
      ]
     },
     "metadata": {},
     "output_type": "display_data"
    }
   ],
   "source": [
    "mwas.all.1se"
   ]
  },
  {
   "cell_type": "code",
   "execution_count": 100,
   "id": "41f09f92-953b-44f8-a682-db1cc9baf86a",
   "metadata": {},
   "outputs": [
    {
     "data": {
      "text/html": [
       "<table class=\"dataframe\">\n",
       "<caption>A matrix: 321 × 2 of type dbl</caption>\n",
       "<thead>\n",
       "\t<tr><th></th><th scope=col>z</th><th scope=col>p</th></tr>\n",
       "</thead>\n",
       "<tbody>\n",
       "\t<tr><th scope=row>1980077</th><td> -9.958809</td><td>2.308109e-23</td></tr>\n",
       "\t<tr><th scope=row>1980101</th><td> -9.932166</td><td>3.016301e-23</td></tr>\n",
       "\t<tr><th scope=row>1980129</th><td>-10.044057</td><td>9.757662e-24</td></tr>\n",
       "\t<tr><th scope=row>1980136</th><td> -9.942014</td><td>2.732450e-23</td></tr>\n",
       "\t<tr><th scope=row>1980145</th><td> -9.956433</td><td>2.363918e-23</td></tr>\n",
       "\t<tr><th scope=row>1980179</th><td>-10.112251</td><td>4.875095e-24</td></tr>\n",
       "\t<tr><th scope=row>1980183</th><td>-10.076868</td><td>6.991928e-24</td></tr>\n",
       "\t<tr><th scope=row>1980193</th><td>-10.117671</td><td>4.612596e-24</td></tr>\n",
       "\t<tr><th scope=row>1980205</th><td> -9.979227</td><td>1.879248e-23</td></tr>\n",
       "\t<tr><th scope=row>1980239</th><td>-10.003132</td><td>1.476512e-23</td></tr>\n",
       "\t<tr><th scope=row>1980247</th><td>-10.013537</td><td>1.329143e-23</td></tr>\n",
       "\t<tr><th scope=row>1980287</th><td>-10.067555</td><td>7.686522e-24</td></tr>\n",
       "\t<tr><th scope=row>1980291</th><td>-11.315614</td><td>1.098309e-29</td></tr>\n",
       "\t<tr><th scope=row>1980303</th><td>-10.115038</td><td>4.738325e-24</td></tr>\n",
       "\t<tr><th scope=row>1980320</th><td>-10.116227</td><td>4.681135e-24</td></tr>\n",
       "\t<tr><th scope=row>1980326</th><td>-10.113784</td><td>4.799384e-24</td></tr>\n",
       "\t<tr><th scope=row>1980355</th><td>-10.124187</td><td>4.315491e-24</td></tr>\n",
       "\t<tr><th scope=row>1980373</th><td>-10.144475</td><td>3.506584e-24</td></tr>\n",
       "\t<tr><th scope=row>1980390</th><td>-10.171725</td><td>2.651693e-24</td></tr>\n",
       "\t<tr><th scope=row>1980396</th><td>-10.132891</td><td>3.948013e-24</td></tr>\n",
       "\t<tr><th scope=row>1980424</th><td>-10.094069</td><td>5.868502e-24</td></tr>\n",
       "\t<tr><th scope=row>1980430</th><td>-11.386179</td><td>4.900106e-30</td></tr>\n",
       "\t<tr><th scope=row>1980448</th><td>-10.187966</td><td>2.244100e-24</td></tr>\n",
       "\t<tr><th scope=row>1980458</th><td>-10.139841</td><td>3.676974e-24</td></tr>\n",
       "\t<tr><th scope=row>1980464</th><td>-10.179275</td><td>2.453835e-24</td></tr>\n",
       "\t<tr><th scope=row>1980496</th><td>-10.176403</td><td>2.527305e-24</td></tr>\n",
       "\t<tr><th scope=row>1980577</th><td>-10.147870</td><td>3.386754e-24</td></tr>\n",
       "\t<tr><th scope=row>1980581</th><td>-10.147870</td><td>3.386754e-24</td></tr>\n",
       "\t<tr><th scope=row>1980642</th><td> -2.873110</td><td>4.064522e-03</td></tr>\n",
       "\t<tr><th scope=row>1980661</th><td> -2.031839</td><td>4.216992e-02</td></tr>\n",
       "\t<tr><th scope=row>⋮</th><td>⋮</td><td>⋮</td></tr>\n",
       "\t<tr><th scope=row>1989275</th><td> 3.2230472</td><td>1.268346e-03</td></tr>\n",
       "\t<tr><th scope=row>1989298</th><td> 4.2358560</td><td>2.276827e-05</td></tr>\n",
       "\t<tr><th scope=row>1989308</th><td> 4.4029344</td><td>1.067965e-05</td></tr>\n",
       "\t<tr><th scope=row>1989332</th><td> 4.3899926</td><td>1.133545e-05</td></tr>\n",
       "\t<tr><th scope=row>1989394</th><td> 3.3990822</td><td>6.761240e-04</td></tr>\n",
       "\t<tr><th scope=row>1989442</th><td> 4.2230160</td><td>2.410547e-05</td></tr>\n",
       "\t<tr><th scope=row>1989451</th><td> 3.6434626</td><td>2.689948e-04</td></tr>\n",
       "\t<tr><th scope=row>1989482</th><td> 4.4728890</td><td>7.716984e-06</td></tr>\n",
       "\t<tr><th scope=row>1989497</th><td> 4.2573572</td><td>2.068577e-05</td></tr>\n",
       "\t<tr><th scope=row>1989500</th><td> 3.6476633</td><td>2.646361e-04</td></tr>\n",
       "\t<tr><th scope=row>1989503</th><td> 3.9962795</td><td>6.434577e-05</td></tr>\n",
       "\t<tr><th scope=row>1989510</th><td> 4.0211422</td><td>5.791662e-05</td></tr>\n",
       "\t<tr><th scope=row>1989527</th><td> 3.9853245</td><td>6.738798e-05</td></tr>\n",
       "\t<tr><th scope=row>1989534</th><td> 4.1254590</td><td>3.699962e-05</td></tr>\n",
       "\t<tr><th scope=row>1989550</th><td> 3.7854784</td><td>1.534132e-04</td></tr>\n",
       "\t<tr><th scope=row>1989605</th><td> 3.5582454</td><td>3.733404e-04</td></tr>\n",
       "\t<tr><th scope=row>1989607</th><td> 3.5432070</td><td>3.952922e-04</td></tr>\n",
       "\t<tr><th scope=row>1989617</th><td> 3.4847537</td><td>4.925902e-04</td></tr>\n",
       "\t<tr><th scope=row>1989622</th><td> 3.7715248</td><td>1.622530e-04</td></tr>\n",
       "\t<tr><th scope=row>1989628</th><td> 3.4268011</td><td>6.107362e-04</td></tr>\n",
       "\t<tr><th scope=row>1989642</th><td> 3.3219714</td><td>8.938384e-04</td></tr>\n",
       "\t<tr><th scope=row>1989658</th><td> 3.2623158</td><td>1.105059e-03</td></tr>\n",
       "\t<tr><th scope=row>1989674</th><td> 3.1501827</td><td>1.631684e-03</td></tr>\n",
       "\t<tr><th scope=row>1989690</th><td> 3.3141954</td><td>9.190725e-04</td></tr>\n",
       "\t<tr><th scope=row>1989754</th><td> 2.1778687</td><td>2.941582e-02</td></tr>\n",
       "\t<tr><th scope=row>1989761</th><td> 2.3837784</td><td>1.713592e-02</td></tr>\n",
       "\t<tr><th scope=row>1989767</th><td> 2.0071664</td><td>4.473195e-02</td></tr>\n",
       "\t<tr><th scope=row>1989793</th><td> 1.5126013</td><td>1.303810e-01</td></tr>\n",
       "\t<tr><th scope=row>1989924</th><td>-0.9374963</td><td>3.485033e-01</td></tr>\n",
       "\t<tr><th scope=row>1989957</th><td>-1.7793629</td><td>7.518028e-02</td></tr>\n",
       "</tbody>\n",
       "</table>\n"
      ],
      "text/latex": [
       "A matrix: 321 × 2 of type dbl\n",
       "\\begin{tabular}{r|ll}\n",
       "  & z & p\\\\\n",
       "\\hline\n",
       "\t1980077 &  -9.958809 & 2.308109e-23\\\\\n",
       "\t1980101 &  -9.932166 & 3.016301e-23\\\\\n",
       "\t1980129 & -10.044057 & 9.757662e-24\\\\\n",
       "\t1980136 &  -9.942014 & 2.732450e-23\\\\\n",
       "\t1980145 &  -9.956433 & 2.363918e-23\\\\\n",
       "\t1980179 & -10.112251 & 4.875095e-24\\\\\n",
       "\t1980183 & -10.076868 & 6.991928e-24\\\\\n",
       "\t1980193 & -10.117671 & 4.612596e-24\\\\\n",
       "\t1980205 &  -9.979227 & 1.879248e-23\\\\\n",
       "\t1980239 & -10.003132 & 1.476512e-23\\\\\n",
       "\t1980247 & -10.013537 & 1.329143e-23\\\\\n",
       "\t1980287 & -10.067555 & 7.686522e-24\\\\\n",
       "\t1980291 & -11.315614 & 1.098309e-29\\\\\n",
       "\t1980303 & -10.115038 & 4.738325e-24\\\\\n",
       "\t1980320 & -10.116227 & 4.681135e-24\\\\\n",
       "\t1980326 & -10.113784 & 4.799384e-24\\\\\n",
       "\t1980355 & -10.124187 & 4.315491e-24\\\\\n",
       "\t1980373 & -10.144475 & 3.506584e-24\\\\\n",
       "\t1980390 & -10.171725 & 2.651693e-24\\\\\n",
       "\t1980396 & -10.132891 & 3.948013e-24\\\\\n",
       "\t1980424 & -10.094069 & 5.868502e-24\\\\\n",
       "\t1980430 & -11.386179 & 4.900106e-30\\\\\n",
       "\t1980448 & -10.187966 & 2.244100e-24\\\\\n",
       "\t1980458 & -10.139841 & 3.676974e-24\\\\\n",
       "\t1980464 & -10.179275 & 2.453835e-24\\\\\n",
       "\t1980496 & -10.176403 & 2.527305e-24\\\\\n",
       "\t1980577 & -10.147870 & 3.386754e-24\\\\\n",
       "\t1980581 & -10.147870 & 3.386754e-24\\\\\n",
       "\t1980642 &  -2.873110 & 4.064522e-03\\\\\n",
       "\t1980661 &  -2.031839 & 4.216992e-02\\\\\n",
       "\t⋮ & ⋮ & ⋮\\\\\n",
       "\t1989275 &  3.2230472 & 1.268346e-03\\\\\n",
       "\t1989298 &  4.2358560 & 2.276827e-05\\\\\n",
       "\t1989308 &  4.4029344 & 1.067965e-05\\\\\n",
       "\t1989332 &  4.3899926 & 1.133545e-05\\\\\n",
       "\t1989394 &  3.3990822 & 6.761240e-04\\\\\n",
       "\t1989442 &  4.2230160 & 2.410547e-05\\\\\n",
       "\t1989451 &  3.6434626 & 2.689948e-04\\\\\n",
       "\t1989482 &  4.4728890 & 7.716984e-06\\\\\n",
       "\t1989497 &  4.2573572 & 2.068577e-05\\\\\n",
       "\t1989500 &  3.6476633 & 2.646361e-04\\\\\n",
       "\t1989503 &  3.9962795 & 6.434577e-05\\\\\n",
       "\t1989510 &  4.0211422 & 5.791662e-05\\\\\n",
       "\t1989527 &  3.9853245 & 6.738798e-05\\\\\n",
       "\t1989534 &  4.1254590 & 3.699962e-05\\\\\n",
       "\t1989550 &  3.7854784 & 1.534132e-04\\\\\n",
       "\t1989605 &  3.5582454 & 3.733404e-04\\\\\n",
       "\t1989607 &  3.5432070 & 3.952922e-04\\\\\n",
       "\t1989617 &  3.4847537 & 4.925902e-04\\\\\n",
       "\t1989622 &  3.7715248 & 1.622530e-04\\\\\n",
       "\t1989628 &  3.4268011 & 6.107362e-04\\\\\n",
       "\t1989642 &  3.3219714 & 8.938384e-04\\\\\n",
       "\t1989658 &  3.2623158 & 1.105059e-03\\\\\n",
       "\t1989674 &  3.1501827 & 1.631684e-03\\\\\n",
       "\t1989690 &  3.3141954 & 9.190725e-04\\\\\n",
       "\t1989754 &  2.1778687 & 2.941582e-02\\\\\n",
       "\t1989761 &  2.3837784 & 1.713592e-02\\\\\n",
       "\t1989767 &  2.0071664 & 4.473195e-02\\\\\n",
       "\t1989793 &  1.5126013 & 1.303810e-01\\\\\n",
       "\t1989924 & -0.9374963 & 3.485033e-01\\\\\n",
       "\t1989957 & -1.7793629 & 7.518028e-02\\\\\n",
       "\\end{tabular}\n"
      ],
      "text/markdown": [
       "\n",
       "A matrix: 321 × 2 of type dbl\n",
       "\n",
       "| <!--/--> | z | p |\n",
       "|---|---|---|\n",
       "| 1980077 |  -9.958809 | 2.308109e-23 |\n",
       "| 1980101 |  -9.932166 | 3.016301e-23 |\n",
       "| 1980129 | -10.044057 | 9.757662e-24 |\n",
       "| 1980136 |  -9.942014 | 2.732450e-23 |\n",
       "| 1980145 |  -9.956433 | 2.363918e-23 |\n",
       "| 1980179 | -10.112251 | 4.875095e-24 |\n",
       "| 1980183 | -10.076868 | 6.991928e-24 |\n",
       "| 1980193 | -10.117671 | 4.612596e-24 |\n",
       "| 1980205 |  -9.979227 | 1.879248e-23 |\n",
       "| 1980239 | -10.003132 | 1.476512e-23 |\n",
       "| 1980247 | -10.013537 | 1.329143e-23 |\n",
       "| 1980287 | -10.067555 | 7.686522e-24 |\n",
       "| 1980291 | -11.315614 | 1.098309e-29 |\n",
       "| 1980303 | -10.115038 | 4.738325e-24 |\n",
       "| 1980320 | -10.116227 | 4.681135e-24 |\n",
       "| 1980326 | -10.113784 | 4.799384e-24 |\n",
       "| 1980355 | -10.124187 | 4.315491e-24 |\n",
       "| 1980373 | -10.144475 | 3.506584e-24 |\n",
       "| 1980390 | -10.171725 | 2.651693e-24 |\n",
       "| 1980396 | -10.132891 | 3.948013e-24 |\n",
       "| 1980424 | -10.094069 | 5.868502e-24 |\n",
       "| 1980430 | -11.386179 | 4.900106e-30 |\n",
       "| 1980448 | -10.187966 | 2.244100e-24 |\n",
       "| 1980458 | -10.139841 | 3.676974e-24 |\n",
       "| 1980464 | -10.179275 | 2.453835e-24 |\n",
       "| 1980496 | -10.176403 | 2.527305e-24 |\n",
       "| 1980577 | -10.147870 | 3.386754e-24 |\n",
       "| 1980581 | -10.147870 | 3.386754e-24 |\n",
       "| 1980642 |  -2.873110 | 4.064522e-03 |\n",
       "| 1980661 |  -2.031839 | 4.216992e-02 |\n",
       "| ⋮ | ⋮ | ⋮ |\n",
       "| 1989275 |  3.2230472 | 1.268346e-03 |\n",
       "| 1989298 |  4.2358560 | 2.276827e-05 |\n",
       "| 1989308 |  4.4029344 | 1.067965e-05 |\n",
       "| 1989332 |  4.3899926 | 1.133545e-05 |\n",
       "| 1989394 |  3.3990822 | 6.761240e-04 |\n",
       "| 1989442 |  4.2230160 | 2.410547e-05 |\n",
       "| 1989451 |  3.6434626 | 2.689948e-04 |\n",
       "| 1989482 |  4.4728890 | 7.716984e-06 |\n",
       "| 1989497 |  4.2573572 | 2.068577e-05 |\n",
       "| 1989500 |  3.6476633 | 2.646361e-04 |\n",
       "| 1989503 |  3.9962795 | 6.434577e-05 |\n",
       "| 1989510 |  4.0211422 | 5.791662e-05 |\n",
       "| 1989527 |  3.9853245 | 6.738798e-05 |\n",
       "| 1989534 |  4.1254590 | 3.699962e-05 |\n",
       "| 1989550 |  3.7854784 | 1.534132e-04 |\n",
       "| 1989605 |  3.5582454 | 3.733404e-04 |\n",
       "| 1989607 |  3.5432070 | 3.952922e-04 |\n",
       "| 1989617 |  3.4847537 | 4.925902e-04 |\n",
       "| 1989622 |  3.7715248 | 1.622530e-04 |\n",
       "| 1989628 |  3.4268011 | 6.107362e-04 |\n",
       "| 1989642 |  3.3219714 | 8.938384e-04 |\n",
       "| 1989658 |  3.2623158 | 1.105059e-03 |\n",
       "| 1989674 |  3.1501827 | 1.631684e-03 |\n",
       "| 1989690 |  3.3141954 | 9.190725e-04 |\n",
       "| 1989754 |  2.1778687 | 2.941582e-02 |\n",
       "| 1989761 |  2.3837784 | 1.713592e-02 |\n",
       "| 1989767 |  2.0071664 | 4.473195e-02 |\n",
       "| 1989793 |  1.5126013 | 1.303810e-01 |\n",
       "| 1989924 | -0.9374963 | 3.485033e-01 |\n",
       "| 1989957 | -1.7793629 | 7.518028e-02 |\n",
       "\n"
      ],
      "text/plain": [
       "        z          p           \n",
       "1980077  -9.958809 2.308109e-23\n",
       "1980101  -9.932166 3.016301e-23\n",
       "1980129 -10.044057 9.757662e-24\n",
       "1980136  -9.942014 2.732450e-23\n",
       "1980145  -9.956433 2.363918e-23\n",
       "1980179 -10.112251 4.875095e-24\n",
       "1980183 -10.076868 6.991928e-24\n",
       "1980193 -10.117671 4.612596e-24\n",
       "1980205  -9.979227 1.879248e-23\n",
       "1980239 -10.003132 1.476512e-23\n",
       "1980247 -10.013537 1.329143e-23\n",
       "1980287 -10.067555 7.686522e-24\n",
       "1980291 -11.315614 1.098309e-29\n",
       "1980303 -10.115038 4.738325e-24\n",
       "1980320 -10.116227 4.681135e-24\n",
       "1980326 -10.113784 4.799384e-24\n",
       "1980355 -10.124187 4.315491e-24\n",
       "1980373 -10.144475 3.506584e-24\n",
       "1980390 -10.171725 2.651693e-24\n",
       "1980396 -10.132891 3.948013e-24\n",
       "1980424 -10.094069 5.868502e-24\n",
       "1980430 -11.386179 4.900106e-30\n",
       "1980448 -10.187966 2.244100e-24\n",
       "1980458 -10.139841 3.676974e-24\n",
       "1980464 -10.179275 2.453835e-24\n",
       "1980496 -10.176403 2.527305e-24\n",
       "1980577 -10.147870 3.386754e-24\n",
       "1980581 -10.147870 3.386754e-24\n",
       "1980642  -2.873110 4.064522e-03\n",
       "1980661  -2.031839 4.216992e-02\n",
       "⋮       ⋮          ⋮           \n",
       "1989275  3.2230472 1.268346e-03\n",
       "1989298  4.2358560 2.276827e-05\n",
       "1989308  4.4029344 1.067965e-05\n",
       "1989332  4.3899926 1.133545e-05\n",
       "1989394  3.3990822 6.761240e-04\n",
       "1989442  4.2230160 2.410547e-05\n",
       "1989451  3.6434626 2.689948e-04\n",
       "1989482  4.4728890 7.716984e-06\n",
       "1989497  4.2573572 2.068577e-05\n",
       "1989500  3.6476633 2.646361e-04\n",
       "1989503  3.9962795 6.434577e-05\n",
       "1989510  4.0211422 5.791662e-05\n",
       "1989527  3.9853245 6.738798e-05\n",
       "1989534  4.1254590 3.699962e-05\n",
       "1989550  3.7854784 1.534132e-04\n",
       "1989605  3.5582454 3.733404e-04\n",
       "1989607  3.5432070 3.952922e-04\n",
       "1989617  3.4847537 4.925902e-04\n",
       "1989622  3.7715248 1.622530e-04\n",
       "1989628  3.4268011 6.107362e-04\n",
       "1989642  3.3219714 8.938384e-04\n",
       "1989658  3.2623158 1.105059e-03\n",
       "1989674  3.1501827 1.631684e-03\n",
       "1989690  3.3141954 9.190725e-04\n",
       "1989754  2.1778687 2.941582e-02\n",
       "1989761  2.3837784 1.713592e-02\n",
       "1989767  2.0071664 4.473195e-02\n",
       "1989793  1.5126013 1.303810e-01\n",
       "1989924 -0.9374963 3.485033e-01\n",
       "1989957 -1.7793629 7.518028e-02"
      ]
     },
     "metadata": {},
     "output_type": "display_data"
    }
   ],
   "source": [
    "mwas.all.min"
   ]
  },
  {
   "cell_type": "code",
   "execution_count": 101,
   "id": "da310ebe-3fe8-45f4-b3e0-3482f4487c9a",
   "metadata": {},
   "outputs": [],
   "source": [
    "library(ggplot2)"
   ]
  },
  {
   "cell_type": "code",
   "execution_count": 102,
   "id": "721c36b4-2130-4e3b-9d33-d9f6ef27c7c4",
   "metadata": {},
   "outputs": [
    {
     "data": {
      "image/png": "[encoded data removed]",
      "text/plain": [
       "plot without title"
      ]
     },
     "metadata": {
      "image/png": {
       "height": 420,
       "width": 420
      }
     },
     "output_type": "display_data"
    }
   ],
   "source": [
    "mwas.all.1se <- as.data.frame(mwas.all.1se)\n",
    "mwas.all.min <- as.data.frame(mwas.all.min)\n",
    "\n",
    "mwas.all.1se$pos <- rownames(mwas.all.1se)\n",
    "mwas.all.min$pos <- rownames(mwas.all.min)\n",
    "\n",
    "rownames(mwas.all.1se) <- rownames(mwas.all.min) <- NULL\n",
    "\n",
    "colnames(mwas.all.1se)[2] <- \"pval.lambda.1se\"\n",
    "colnames(mwas.all.min)[2] <- \"pval.lambda.min\"\n",
    "\n",
    "df <- merge(mwas.all.1se, mwas.all.min, by = \"pos\")\n",
    "\n",
    "ggplot(df, aes(x = -log(pval.lambda.1se, base = 10), y = -log(pval.lambda.min, base = 10))) +\n",
    "  geom_point(alpha = 0.6) +\n",
    "  labs(x = \"-log_10 of p-values (lambda.1se)\",\n",
    "       y = \"-log_10 of p-values (lambda.min)\",\n",
    "       title = \"Scattergram of MWAS p-values\",\n",
    "       subtitle = \"Comparing lambda.1se and lambda.min\") +\n",
    "  theme_minimal()"
   ]
  },
  {
   "cell_type": "code",
   "execution_count": 103,
   "id": "ba334163-d310-4e59-88a1-7fd2b529151d",
   "metadata": {},
   "outputs": [
    {
     "data": {
      "text/html": [
       "0"
      ],
      "text/latex": [
       "0"
      ],
      "text/markdown": [
       "0"
      ],
      "text/plain": [
       "[1] 0"
      ]
     },
     "metadata": {},
     "output_type": "display_data"
    }
   ],
   "source": [
    "min(df$pval.lambda.1se)"
   ]
  },
  {
   "cell_type": "code",
   "execution_count": 104,
   "id": "10d87bfa-e446-4e95-85a8-a73d5d6aea58",
   "metadata": {},
   "outputs": [
    {
     "data": {
      "text/html": [
       "0"
      ],
      "text/latex": [
       "0"
      ],
      "text/markdown": [
       "0"
      ],
      "text/plain": [
       "[1] 0"
      ]
     },
     "metadata": {},
     "output_type": "display_data"
    }
   ],
   "source": [
    "min(df$pval.lambda.1se)"
   ]
  },
  {
   "cell_type": "code",
   "execution_count": 105,
   "id": "1481f858-1c1e-4ed1-b70d-397311678f33",
   "metadata": {},
   "outputs": [
    {
     "data": {
      "text/html": [
       "<table class=\"dataframe\">\n",
       "<caption>A data.frame: 6 × 5</caption>\n",
       "<thead>\n",
       "\t<tr><th></th><th scope=col>pos</th><th scope=col>z.x</th><th scope=col>pval.lambda.1se</th><th scope=col>z.y</th><th scope=col>pval.lambda.min</th></tr>\n",
       "\t<tr><th></th><th scope=col>&lt;chr&gt;</th><th scope=col>&lt;dbl&gt;</th><th scope=col>&lt;dbl&gt;</th><th scope=col>&lt;dbl&gt;</th><th scope=col>&lt;dbl&gt;</th></tr>\n",
       "</thead>\n",
       "<tbody>\n",
       "\t<tr><th scope=row>1</th><td>1980077</td><td>-9.840905</td><td>7.503298e-23</td><td> -9.958809</td><td>2.308109e-23</td></tr>\n",
       "\t<tr><th scope=row>2</th><td>1980101</td><td>-9.754207</td><td>1.769790e-22</td><td> -9.932166</td><td>3.016301e-23</td></tr>\n",
       "\t<tr><th scope=row>3</th><td>1980129</td><td>-9.898247</td><td>4.236347e-23</td><td>-10.044057</td><td>9.757662e-24</td></tr>\n",
       "\t<tr><th scope=row>4</th><td>1980136</td><td>-9.865062</td><td>5.899797e-23</td><td> -9.942014</td><td>2.732450e-23</td></tr>\n",
       "\t<tr><th scope=row>5</th><td>1980145</td><td>-9.883575</td><td>4.905094e-23</td><td> -9.956433</td><td>2.363918e-23</td></tr>\n",
       "\t<tr><th scope=row>6</th><td>1980179</td><td>-9.902221</td><td>4.071305e-23</td><td>-10.112251</td><td>4.875095e-24</td></tr>\n",
       "</tbody>\n",
       "</table>\n"
      ],
      "text/latex": [
       "A data.frame: 6 × 5\n",
       "\\begin{tabular}{r|lllll}\n",
       "  & pos & z.x & pval.lambda.1se & z.y & pval.lambda.min\\\\\n",
       "  & <chr> & <dbl> & <dbl> & <dbl> & <dbl>\\\\\n",
       "\\hline\n",
       "\t1 & 1980077 & -9.840905 & 7.503298e-23 &  -9.958809 & 2.308109e-23\\\\\n",
       "\t2 & 1980101 & -9.754207 & 1.769790e-22 &  -9.932166 & 3.016301e-23\\\\\n",
       "\t3 & 1980129 & -9.898247 & 4.236347e-23 & -10.044057 & 9.757662e-24\\\\\n",
       "\t4 & 1980136 & -9.865062 & 5.899797e-23 &  -9.942014 & 2.732450e-23\\\\\n",
       "\t5 & 1980145 & -9.883575 & 4.905094e-23 &  -9.956433 & 2.363918e-23\\\\\n",
       "\t6 & 1980179 & -9.902221 & 4.071305e-23 & -10.112251 & 4.875095e-24\\\\\n",
       "\\end{tabular}\n"
      ],
      "text/markdown": [
       "\n",
       "A data.frame: 6 × 5\n",
       "\n",
       "| <!--/--> | pos &lt;chr&gt; | z.x &lt;dbl&gt; | pval.lambda.1se &lt;dbl&gt; | z.y &lt;dbl&gt; | pval.lambda.min &lt;dbl&gt; |\n",
       "|---|---|---|---|---|---|\n",
       "| 1 | 1980077 | -9.840905 | 7.503298e-23 |  -9.958809 | 2.308109e-23 |\n",
       "| 2 | 1980101 | -9.754207 | 1.769790e-22 |  -9.932166 | 3.016301e-23 |\n",
       "| 3 | 1980129 | -9.898247 | 4.236347e-23 | -10.044057 | 9.757662e-24 |\n",
       "| 4 | 1980136 | -9.865062 | 5.899797e-23 |  -9.942014 | 2.732450e-23 |\n",
       "| 5 | 1980145 | -9.883575 | 4.905094e-23 |  -9.956433 | 2.363918e-23 |\n",
       "| 6 | 1980179 | -9.902221 | 4.071305e-23 | -10.112251 | 4.875095e-24 |\n",
       "\n"
      ],
      "text/plain": [
       "  pos     z.x       pval.lambda.1se z.y        pval.lambda.min\n",
       "1 1980077 -9.840905 7.503298e-23     -9.958809 2.308109e-23   \n",
       "2 1980101 -9.754207 1.769790e-22     -9.932166 3.016301e-23   \n",
       "3 1980129 -9.898247 4.236347e-23    -10.044057 9.757662e-24   \n",
       "4 1980136 -9.865062 5.899797e-23     -9.942014 2.732450e-23   \n",
       "5 1980145 -9.883575 4.905094e-23     -9.956433 2.363918e-23   \n",
       "6 1980179 -9.902221 4.071305e-23    -10.112251 4.875095e-24   "
      ]
     },
     "metadata": {},
     "output_type": "display_data"
    }
   ],
   "source": [
    "head(df)"
   ]
  },
  {
   "cell_type": "code",
   "execution_count": 106,
   "id": "0db2d0ed-003d-40fb-8301-ed4adffed964",
   "metadata": {},
   "outputs": [],
   "source": [
    "df$pos <- as.numeric(df$pos)"
   ]
  },
  {
   "cell_type": "code",
   "execution_count": 107,
   "id": "bd08c5ec-daae-49c9-9be3-d51875d378a3",
   "metadata": {},
   "outputs": [
    {
     "data": {
      "text/html": [
       "0"
      ],
      "text/latex": [
       "0"
      ],
      "text/markdown": [
       "0"
      ],
      "text/plain": [
       "[1] 0"
      ]
     },
     "metadata": {},
     "output_type": "display_data"
    }
   ],
   "source": [
    "min(df$pval.lambda.1se)"
   ]
  },
  {
   "cell_type": "code",
   "execution_count": 108,
   "id": "f45fed7a-aca1-4b3e-9cd9-03f3c1de7cd4",
   "metadata": {},
   "outputs": [
    {
     "data": {
      "text/html": [
       "5.72936393295521e-114"
      ],
      "text/latex": [
       "5.72936393295521e-114"
      ],
      "text/markdown": [
       "5.72936393295521e-114"
      ],
      "text/plain": [
       "[1] 5.729364e-114"
      ]
     },
     "metadata": {},
     "output_type": "display_data"
    }
   ],
   "source": [
    "min(df$pval.lambda.min)"
   ]
  },
  {
   "cell_type": "code",
   "execution_count": 109,
   "id": "6913b682-43b6-46a1-a62b-e0ba15d80768",
   "metadata": {},
   "outputs": [],
   "source": [
    "library(ggplot2)\n",
    "library(scales)  # For comma formatting"
   ]
  },
  {
   "cell_type": "code",
   "execution_count": 110,
   "id": "50204879-9f49-4c8f-a6db-38fa215114b0",
   "metadata": {},
   "outputs": [
    {
     "name": "stderr",
     "output_type": "stream",
     "text": [
      "Warning message:\n",
      "“\u001b[1m\u001b[22mNo shared levels found between `names(values)` of the manual scale and the\n",
      "data's \u001b[32mcolour\u001b[39m values.”\n",
      "Warning message:\n",
      "“\u001b[1m\u001b[22mNo shared levels found between `names(values)` of the manual scale and the\n",
      "data's \u001b[32mcolour\u001b[39m values.”\n"
     ]
    },
    {
     "data": {
      "image/png": "[encoded data removed]",
      "text/plain": [
       "plot without title"
      ]
     },
     "metadata": {
      "image/png": {
       "height": 420,
       "width": 420
      }
     },
     "output_type": "display_data"
    }
   ],
   "source": [
    "# Convert numbers to comma-separated format\n",
    "formatted_min_pos <- comma(min_site_to_test_pos)\n",
    "formatted_max_pos <- comma(max_site_to_test_pos)\n",
    "\n",
    "# Converting the data to long format if not already done\n",
    "df_long <- tidyr::pivot_longer(df, \n",
    "                               cols = c(\"pval.lambda.1se\", \"pval.lambda.min\"), \n",
    "                               names_to = \"variable\", \n",
    "                               values_to = \"pval\")\n",
    "\n",
    "# Plot with detailed title\n",
    "ggplot(df_long, aes(x = pos, y = -log(pval, base = 10), color = variable)) +\n",
    "  geom_point(alpha = 0.6) +\n",
    "  labs(x = \"Genomic Position\",\n",
    "       y = \"Log of p-values\",\n",
    "       title = paste(\"Scattergrams of MWAS p-values by Genomic Position\\nchr:\", chr,\n",
    "                     \"MAF:\", maf, \n",
    "                     \"Positions:\", formatted_min_pos, \"to\", formatted_max_pos),\n",
    "       subtitle = \"Faceted by lambda type\") +\n",
    "  scale_color_manual(values = c(\"lambda.1se\" = \"blue\", \"lambda.min\" = \"red\")) +\n",
    "  facet_wrap(~ variable, scales = \"free_y\") +\n",
    "  theme_minimal()"
   ]
  },
  {
   "cell_type": "markdown",
   "id": "9df6eb9f-4d04-4c50-b69d-d3f641157303",
   "metadata": {},
   "source": [
    "## Plot Shizhong's old results to compare"
   ]
  },
  {
   "cell_type": "code",
   "execution_count": 111,
   "id": "63d195e1-e0d0-41e7-ba92-90313d9b9989",
   "metadata": {},
   "outputs": [
    {
     "name": "stderr",
     "output_type": "stream",
     "text": [
      "\n",
      "\n",
      "For example usage please run: vignette('qqman')\n",
      "\n",
      "\n",
      "\n",
      "Citation appreciated but not required:\n",
      "\n",
      "Turner, (2018). qqman: an R package for visualizing GWAS results using Q-Q and manhattan plots. Journal of Open Source Software, 3(25), 731, https://doi.org/10.21105/joss.00731.\n",
      "\n",
      "\n",
      "\n"
     ]
    }
   ],
   "source": [
    "library(data.table)\n",
    "library(qqman)"
   ]
  },
  {
   "cell_type": "code",
   "execution_count": 112,
   "id": "30c503ca-8701-4b1f-86a5-d9d5a5571912",
   "metadata": {},
   "outputs": [],
   "source": [
    "old <- fread(\"mwas.all.wind.10000\")"
   ]
  },
  {
   "cell_type": "code",
   "execution_count": 113,
   "id": "95f6c7c6-2c8d-4382-b043-cc3e32582b19",
   "metadata": {},
   "outputs": [
    {
     "data": {
      "text/html": [
       "<table class=\"dataframe\">\n",
       "<caption>A data.table: 6 × 4</caption>\n",
       "<thead>\n",
       "\t<tr><th scope=col>chr</th><th scope=col>pos_hg38</th><th scope=col>z</th><th scope=col>p</th></tr>\n",
       "\t<tr><th scope=col>&lt;chr&gt;</th><th scope=col>&lt;dbl&gt;</th><th scope=col>&lt;dbl&gt;</th><th scope=col>&lt;dbl&gt;</th></tr>\n",
       "</thead>\n",
       "<tbody>\n",
       "\t<tr><td>chr1</td><td>1104982</td><td>0.8199803</td><td>0.4122274</td></tr>\n",
       "\t<tr><td>chr1</td><td>1104984</td><td>0.8363752</td><td>0.4029439</td></tr>\n",
       "\t<tr><td>chr1</td><td>1105038</td><td>0.7885519</td><td>0.4303740</td></tr>\n",
       "\t<tr><td>chr1</td><td>1105092</td><td>0.7844246</td><td>0.4327910</td></tr>\n",
       "\t<tr><td>chr1</td><td>1105200</td><td>0.8570140</td><td>0.3914372</td></tr>\n",
       "\t<tr><td>chr1</td><td>1105299</td><td>0.7617538</td><td>0.4462070</td></tr>\n",
       "</tbody>\n",
       "</table>\n"
      ],
      "text/latex": [
       "A data.table: 6 × 4\n",
       "\\begin{tabular}{llll}\n",
       " chr & pos\\_hg38 & z & p\\\\\n",
       " <chr> & <dbl> & <dbl> & <dbl>\\\\\n",
       "\\hline\n",
       "\t chr1 & 1104982 & 0.8199803 & 0.4122274\\\\\n",
       "\t chr1 & 1104984 & 0.8363752 & 0.4029439\\\\\n",
       "\t chr1 & 1105038 & 0.7885519 & 0.4303740\\\\\n",
       "\t chr1 & 1105092 & 0.7844246 & 0.4327910\\\\\n",
       "\t chr1 & 1105200 & 0.8570140 & 0.3914372\\\\\n",
       "\t chr1 & 1105299 & 0.7617538 & 0.4462070\\\\\n",
       "\\end{tabular}\n"
      ],
      "text/markdown": [
       "\n",
       "A data.table: 6 × 4\n",
       "\n",
       "| chr &lt;chr&gt; | pos_hg38 &lt;dbl&gt; | z &lt;dbl&gt; | p &lt;dbl&gt; |\n",
       "|---|---|---|---|\n",
       "| chr1 | 1104982 | 0.8199803 | 0.4122274 |\n",
       "| chr1 | 1104984 | 0.8363752 | 0.4029439 |\n",
       "| chr1 | 1105038 | 0.7885519 | 0.4303740 |\n",
       "| chr1 | 1105092 | 0.7844246 | 0.4327910 |\n",
       "| chr1 | 1105200 | 0.8570140 | 0.3914372 |\n",
       "| chr1 | 1105299 | 0.7617538 | 0.4462070 |\n",
       "\n"
      ],
      "text/plain": [
       "  chr  pos_hg38 z         p        \n",
       "1 chr1 1104982  0.8199803 0.4122274\n",
       "2 chr1 1104984  0.8363752 0.4029439\n",
       "3 chr1 1105038  0.7885519 0.4303740\n",
       "4 chr1 1105092  0.7844246 0.4327910\n",
       "5 chr1 1105200  0.8570140 0.3914372\n",
       "6 chr1 1105299  0.7617538 0.4462070"
      ]
     },
     "metadata": {},
     "output_type": "display_data"
    }
   ],
   "source": [
    "head(old)"
   ]
  },
  {
   "cell_type": "code",
   "execution_count": 114,
   "id": "18922aa9-0ba3-4bb3-8b69-9db5bf654230",
   "metadata": {},
   "outputs": [],
   "source": [
    "colnames(old) <- c(\"CHR\", \"BP\", \"Z\", \"P\")"
   ]
  },
  {
   "cell_type": "code",
   "execution_count": 115,
   "id": "33fa8404-6bbd-4fd9-aa02-8a10480df395",
   "metadata": {},
   "outputs": [],
   "source": [
    "old$CHR <- gsub(\"chr\", \"\", old$CHR)\n",
    "old$CHR <- as.numeric(old$CHR)"
   ]
  },
  {
   "cell_type": "code",
   "execution_count": 116,
   "id": "24c6dac6-4573-472b-98e0-a722c69b38ec",
   "metadata": {},
   "outputs": [],
   "source": [
    "old$SNP <- paste0(\"Chr\", old$CHR, \":\", old$BP)"
   ]
  },
  {
   "cell_type": "code",
   "execution_count": 117,
   "id": "b0bdacbb-5a50-4288-8e21-fa917043e77e",
   "metadata": {},
   "outputs": [
    {
     "data": {
      "image/png": "[encoded data removed]",
      "text/plain": [
       "plot without title"
      ]
     },
     "metadata": {
      "image/png": {
       "height": 420,
       "width": 420
      }
     },
     "output_type": "display_data"
    }
   ],
   "source": [
    "manhattan(old)"
   ]
  },
  {
   "cell_type": "code",
   "execution_count": 118,
   "id": "fc56c638-8d72-4ec0-9230-fcfb0cb02c25",
   "metadata": {},
   "outputs": [
    {
     "data": {
      "image/png": "[encoded data removed]",
      "text/plain": [
       "plot without title"
      ]
     },
     "metadata": {
      "image/png": {
       "height": 420,
       "width": 420
      }
     },
     "output_type": "display_data"
    }
   ],
   "source": [
    "manhattan(old)"
   ]
  },
  {
   "cell_type": "markdown",
   "id": "a31e7b75-58f9-4ea4-9d01-ca34f31fe5eb",
   "metadata": {},
   "source": [
    "## Merging/overlap of Shizhong's results, ours."
   ]
  },
  {
   "cell_type": "code",
   "execution_count": 119,
   "id": "3adff280-3287-4fa7-9f8e-530298383fcc",
   "metadata": {},
   "outputs": [
    {
     "data": {
      "text/html": [
       "<table class=\"dataframe\">\n",
       "<caption>A data.table: 6 × 5</caption>\n",
       "<thead>\n",
       "\t<tr><th scope=col>CHR</th><th scope=col>BP</th><th scope=col>Z</th><th scope=col>P</th><th scope=col>SNP</th></tr>\n",
       "\t<tr><th scope=col>&lt;dbl&gt;</th><th scope=col>&lt;dbl&gt;</th><th scope=col>&lt;dbl&gt;</th><th scope=col>&lt;dbl&gt;</th><th scope=col>&lt;chr&gt;</th></tr>\n",
       "</thead>\n",
       "<tbody>\n",
       "\t<tr><td>1</td><td>1104982</td><td>0.8199803</td><td>0.4122274</td><td>Chr1:1104982</td></tr>\n",
       "\t<tr><td>1</td><td>1104984</td><td>0.8363752</td><td>0.4029439</td><td>Chr1:1104984</td></tr>\n",
       "\t<tr><td>1</td><td>1105038</td><td>0.7885519</td><td>0.4303740</td><td>Chr1:1105038</td></tr>\n",
       "\t<tr><td>1</td><td>1105092</td><td>0.7844246</td><td>0.4327910</td><td>Chr1:1105092</td></tr>\n",
       "\t<tr><td>1</td><td>1105200</td><td>0.8570140</td><td>0.3914372</td><td>Chr1:1105200</td></tr>\n",
       "\t<tr><td>1</td><td>1105299</td><td>0.7617538</td><td>0.4462070</td><td>Chr1:1105299</td></tr>\n",
       "</tbody>\n",
       "</table>\n"
      ],
      "text/latex": [
       "A data.table: 6 × 5\n",
       "\\begin{tabular}{lllll}\n",
       " CHR & BP & Z & P & SNP\\\\\n",
       " <dbl> & <dbl> & <dbl> & <dbl> & <chr>\\\\\n",
       "\\hline\n",
       "\t 1 & 1104982 & 0.8199803 & 0.4122274 & Chr1:1104982\\\\\n",
       "\t 1 & 1104984 & 0.8363752 & 0.4029439 & Chr1:1104984\\\\\n",
       "\t 1 & 1105038 & 0.7885519 & 0.4303740 & Chr1:1105038\\\\\n",
       "\t 1 & 1105092 & 0.7844246 & 0.4327910 & Chr1:1105092\\\\\n",
       "\t 1 & 1105200 & 0.8570140 & 0.3914372 & Chr1:1105200\\\\\n",
       "\t 1 & 1105299 & 0.7617538 & 0.4462070 & Chr1:1105299\\\\\n",
       "\\end{tabular}\n"
      ],
      "text/markdown": [
       "\n",
       "A data.table: 6 × 5\n",
       "\n",
       "| CHR &lt;dbl&gt; | BP &lt;dbl&gt; | Z &lt;dbl&gt; | P &lt;dbl&gt; | SNP &lt;chr&gt; |\n",
       "|---|---|---|---|---|\n",
       "| 1 | 1104982 | 0.8199803 | 0.4122274 | Chr1:1104982 |\n",
       "| 1 | 1104984 | 0.8363752 | 0.4029439 | Chr1:1104984 |\n",
       "| 1 | 1105038 | 0.7885519 | 0.4303740 | Chr1:1105038 |\n",
       "| 1 | 1105092 | 0.7844246 | 0.4327910 | Chr1:1105092 |\n",
       "| 1 | 1105200 | 0.8570140 | 0.3914372 | Chr1:1105200 |\n",
       "| 1 | 1105299 | 0.7617538 | 0.4462070 | Chr1:1105299 |\n",
       "\n"
      ],
      "text/plain": [
       "  CHR BP      Z         P         SNP         \n",
       "1 1   1104982 0.8199803 0.4122274 Chr1:1104982\n",
       "2 1   1104984 0.8363752 0.4029439 Chr1:1104984\n",
       "3 1   1105038 0.7885519 0.4303740 Chr1:1105038\n",
       "4 1   1105092 0.7844246 0.4327910 Chr1:1105092\n",
       "5 1   1105200 0.8570140 0.3914372 Chr1:1105200\n",
       "6 1   1105299 0.7617538 0.4462070 Chr1:1105299"
      ]
     },
     "metadata": {},
     "output_type": "display_data"
    }
   ],
   "source": [
    "head(old)"
   ]
  },
  {
   "cell_type": "code",
   "execution_count": 120,
   "id": "8254843a-a87f-4691-a030-b2e15fe1eb60",
   "metadata": {
    "scrolled": true
   },
   "outputs": [
    {
     "data": {
      "text/html": [
       "<table class=\"dataframe\">\n",
       "<caption>A data.frame: 6 × 3</caption>\n",
       "<thead>\n",
       "\t<tr><th></th><th scope=col>features</th><th scope=col>coefs</th><th scope=col>cg</th></tr>\n",
       "\t<tr><th></th><th scope=col>&lt;chr&gt;</th><th scope=col>&lt;dbl&gt;</th><th scope=col>&lt;dbl&gt;</th></tr>\n",
       "</thead>\n",
       "<tbody>\n",
       "\t<tr><th scope=row>2</th><td>1975412</td><td> 4.715382e-04</td><td>1980077</td></tr>\n",
       "\t<tr><th scope=row>3</th><td>1979235</td><td> 7.746948e-05</td><td>1980077</td></tr>\n",
       "\t<tr><th scope=row>4</th><td>1980240</td><td>-1.912574e-03</td><td>1980077</td></tr>\n",
       "\t<tr><th scope=row>5</th><td>1981360</td><td>-3.966180e-03</td><td>1980077</td></tr>\n",
       "\t<tr><th scope=row>6</th><td>1989028</td><td>-2.913063e-03</td><td>1980077</td></tr>\n",
       "\t<tr><th scope=row>7</th><td>1989994</td><td>-2.367206e-03</td><td>1980077</td></tr>\n",
       "</tbody>\n",
       "</table>\n"
      ],
      "text/latex": [
       "A data.frame: 6 × 3\n",
       "\\begin{tabular}{r|lll}\n",
       "  & features & coefs & cg\\\\\n",
       "  & <chr> & <dbl> & <dbl>\\\\\n",
       "\\hline\n",
       "\t2 & 1975412 &  4.715382e-04 & 1980077\\\\\n",
       "\t3 & 1979235 &  7.746948e-05 & 1980077\\\\\n",
       "\t4 & 1980240 & -1.912574e-03 & 1980077\\\\\n",
       "\t5 & 1981360 & -3.966180e-03 & 1980077\\\\\n",
       "\t6 & 1989028 & -2.913063e-03 & 1980077\\\\\n",
       "\t7 & 1989994 & -2.367206e-03 & 1980077\\\\\n",
       "\\end{tabular}\n"
      ],
      "text/markdown": [
       "\n",
       "A data.frame: 6 × 3\n",
       "\n",
       "| <!--/--> | features &lt;chr&gt; | coefs &lt;dbl&gt; | cg &lt;dbl&gt; |\n",
       "|---|---|---|---|\n",
       "| 2 | 1975412 |  4.715382e-04 | 1980077 |\n",
       "| 3 | 1979235 |  7.746948e-05 | 1980077 |\n",
       "| 4 | 1980240 | -1.912574e-03 | 1980077 |\n",
       "| 5 | 1981360 | -3.966180e-03 | 1980077 |\n",
       "| 6 | 1989028 | -2.913063e-03 | 1980077 |\n",
       "| 7 | 1989994 | -2.367206e-03 | 1980077 |\n",
       "\n"
      ],
      "text/plain": [
       "  features coefs         cg     \n",
       "2 1975412   4.715382e-04 1980077\n",
       "3 1979235   7.746948e-05 1980077\n",
       "4 1980240  -1.912574e-03 1980077\n",
       "5 1981360  -3.966180e-03 1980077\n",
       "6 1989028  -2.913063e-03 1980077\n",
       "7 1989994  -2.367206e-03 1980077"
      ]
     },
     "metadata": {},
     "output_type": "display_data"
    }
   ],
   "source": [
    "head(models.all)"
   ]
  },
  {
   "cell_type": "code",
   "execution_count": 121,
   "id": "12d92e3e-9ea9-4ec3-a2a9-70e6d7099b37",
   "metadata": {},
   "outputs": [
    {
     "data": {
      "text/html": [
       "<table class=\"dataframe\">\n",
       "<caption>A data.frame: 6 × 5</caption>\n",
       "<thead>\n",
       "\t<tr><th></th><th scope=col>pos</th><th scope=col>z.x</th><th scope=col>pval.lambda.1se</th><th scope=col>z.y</th><th scope=col>pval.lambda.min</th></tr>\n",
       "\t<tr><th></th><th scope=col>&lt;dbl&gt;</th><th scope=col>&lt;dbl&gt;</th><th scope=col>&lt;dbl&gt;</th><th scope=col>&lt;dbl&gt;</th><th scope=col>&lt;dbl&gt;</th></tr>\n",
       "</thead>\n",
       "<tbody>\n",
       "\t<tr><th scope=row>1</th><td>1980077</td><td>-9.840905</td><td>7.503298e-23</td><td> -9.958809</td><td>2.308109e-23</td></tr>\n",
       "\t<tr><th scope=row>2</th><td>1980101</td><td>-9.754207</td><td>1.769790e-22</td><td> -9.932166</td><td>3.016301e-23</td></tr>\n",
       "\t<tr><th scope=row>3</th><td>1980129</td><td>-9.898247</td><td>4.236347e-23</td><td>-10.044057</td><td>9.757662e-24</td></tr>\n",
       "\t<tr><th scope=row>4</th><td>1980136</td><td>-9.865062</td><td>5.899797e-23</td><td> -9.942014</td><td>2.732450e-23</td></tr>\n",
       "\t<tr><th scope=row>5</th><td>1980145</td><td>-9.883575</td><td>4.905094e-23</td><td> -9.956433</td><td>2.363918e-23</td></tr>\n",
       "\t<tr><th scope=row>6</th><td>1980179</td><td>-9.902221</td><td>4.071305e-23</td><td>-10.112251</td><td>4.875095e-24</td></tr>\n",
       "</tbody>\n",
       "</table>\n"
      ],
      "text/latex": [
       "A data.frame: 6 × 5\n",
       "\\begin{tabular}{r|lllll}\n",
       "  & pos & z.x & pval.lambda.1se & z.y & pval.lambda.min\\\\\n",
       "  & <dbl> & <dbl> & <dbl> & <dbl> & <dbl>\\\\\n",
       "\\hline\n",
       "\t1 & 1980077 & -9.840905 & 7.503298e-23 &  -9.958809 & 2.308109e-23\\\\\n",
       "\t2 & 1980101 & -9.754207 & 1.769790e-22 &  -9.932166 & 3.016301e-23\\\\\n",
       "\t3 & 1980129 & -9.898247 & 4.236347e-23 & -10.044057 & 9.757662e-24\\\\\n",
       "\t4 & 1980136 & -9.865062 & 5.899797e-23 &  -9.942014 & 2.732450e-23\\\\\n",
       "\t5 & 1980145 & -9.883575 & 4.905094e-23 &  -9.956433 & 2.363918e-23\\\\\n",
       "\t6 & 1980179 & -9.902221 & 4.071305e-23 & -10.112251 & 4.875095e-24\\\\\n",
       "\\end{tabular}\n"
      ],
      "text/markdown": [
       "\n",
       "A data.frame: 6 × 5\n",
       "\n",
       "| <!--/--> | pos &lt;dbl&gt; | z.x &lt;dbl&gt; | pval.lambda.1se &lt;dbl&gt; | z.y &lt;dbl&gt; | pval.lambda.min &lt;dbl&gt; |\n",
       "|---|---|---|---|---|---|\n",
       "| 1 | 1980077 | -9.840905 | 7.503298e-23 |  -9.958809 | 2.308109e-23 |\n",
       "| 2 | 1980101 | -9.754207 | 1.769790e-22 |  -9.932166 | 3.016301e-23 |\n",
       "| 3 | 1980129 | -9.898247 | 4.236347e-23 | -10.044057 | 9.757662e-24 |\n",
       "| 4 | 1980136 | -9.865062 | 5.899797e-23 |  -9.942014 | 2.732450e-23 |\n",
       "| 5 | 1980145 | -9.883575 | 4.905094e-23 |  -9.956433 | 2.363918e-23 |\n",
       "| 6 | 1980179 | -9.902221 | 4.071305e-23 | -10.112251 | 4.875095e-24 |\n",
       "\n"
      ],
      "text/plain": [
       "  pos     z.x       pval.lambda.1se z.y        pval.lambda.min\n",
       "1 1980077 -9.840905 7.503298e-23     -9.958809 2.308109e-23   \n",
       "2 1980101 -9.754207 1.769790e-22     -9.932166 3.016301e-23   \n",
       "3 1980129 -9.898247 4.236347e-23    -10.044057 9.757662e-24   \n",
       "4 1980136 -9.865062 5.899797e-23     -9.942014 2.732450e-23   \n",
       "5 1980145 -9.883575 4.905094e-23     -9.956433 2.363918e-23   \n",
       "6 1980179 -9.902221 4.071305e-23    -10.112251 4.875095e-24   "
      ]
     },
     "metadata": {},
     "output_type": "display_data"
    }
   ],
   "source": [
    "head(df)"
   ]
  },
  {
   "cell_type": "code",
   "execution_count": 122,
   "id": "a2ecaab0-f3ca-4565-a025-e6b589d2f086",
   "metadata": {},
   "outputs": [],
   "source": [
    "df$CHR <- 7"
   ]
  },
  {
   "cell_type": "code",
   "execution_count": 123,
   "id": "5290da01-bf63-4544-9b7d-5971c72907ee",
   "metadata": {},
   "outputs": [
    {
     "data": {
      "text/html": [
       "<style>\n",
       ".list-inline {list-style: none; margin:0; padding: 0}\n",
       ".list-inline>li {display: inline-block}\n",
       ".list-inline>li:not(:last-child)::after {content: \"\\00b7\"; padding: 0 .5ex}\n",
       "</style>\n",
       "<ol class=list-inline><li>'pos'</li><li>'z.x'</li><li>'pval.lambda.1se'</li><li>'z.y'</li><li>'pval.lambda.min'</li><li>'CHR'</li></ol>\n"
      ],
      "text/latex": [
       "\\begin{enumerate*}\n",
       "\\item 'pos'\n",
       "\\item 'z.x'\n",
       "\\item 'pval.lambda.1se'\n",
       "\\item 'z.y'\n",
       "\\item 'pval.lambda.min'\n",
       "\\item 'CHR'\n",
       "\\end{enumerate*}\n"
      ],
      "text/markdown": [
       "1. 'pos'\n",
       "2. 'z.x'\n",
       "3. 'pval.lambda.1se'\n",
       "4. 'z.y'\n",
       "5. 'pval.lambda.min'\n",
       "6. 'CHR'\n",
       "\n",
       "\n"
      ],
      "text/plain": [
       "[1] \"pos\"             \"z.x\"             \"pval.lambda.1se\" \"z.y\"            \n",
       "[5] \"pval.lambda.min\" \"CHR\"            "
      ]
     },
     "metadata": {},
     "output_type": "display_data"
    }
   ],
   "source": [
    "colnames(df)"
   ]
  },
  {
   "cell_type": "code",
   "execution_count": 126,
   "id": "372df21e-d255-4be8-8e1d-ac8290812557",
   "metadata": {},
   "outputs": [],
   "source": [
    "colnames(df)[1] <- \"BP\""
   ]
  },
  {
   "cell_type": "markdown",
   "id": "cd919381-193c-425a-a552-fedc24f2da94",
   "metadata": {},
   "source": [
    "### What % of CpG sites in our results are also found in Shizhongs?"
   ]
  },
  {
   "cell_type": "code",
   "execution_count": 128,
   "id": "1994df44-9c3c-4137-b1cb-f47e07c07d2f",
   "metadata": {},
   "outputs": [
    {
     "data": {
      "text/html": [
       "<table class=\"dataframe\">\n",
       "<caption>A data.frame: 6 × 6</caption>\n",
       "<thead>\n",
       "\t<tr><th></th><th scope=col>BP</th><th scope=col>z.x</th><th scope=col>pval.lambda.1se</th><th scope=col>z.y</th><th scope=col>pval.lambda.min</th><th scope=col>CHR</th></tr>\n",
       "\t<tr><th></th><th scope=col>&lt;dbl&gt;</th><th scope=col>&lt;dbl&gt;</th><th scope=col>&lt;dbl&gt;</th><th scope=col>&lt;dbl&gt;</th><th scope=col>&lt;dbl&gt;</th><th scope=col>&lt;dbl&gt;</th></tr>\n",
       "</thead>\n",
       "<tbody>\n",
       "\t<tr><th scope=row>1</th><td>1980077</td><td>-9.840905</td><td>7.503298e-23</td><td> -9.958809</td><td>2.308109e-23</td><td>7</td></tr>\n",
       "\t<tr><th scope=row>2</th><td>1980101</td><td>-9.754207</td><td>1.769790e-22</td><td> -9.932166</td><td>3.016301e-23</td><td>7</td></tr>\n",
       "\t<tr><th scope=row>3</th><td>1980129</td><td>-9.898247</td><td>4.236347e-23</td><td>-10.044057</td><td>9.757662e-24</td><td>7</td></tr>\n",
       "\t<tr><th scope=row>4</th><td>1980136</td><td>-9.865062</td><td>5.899797e-23</td><td> -9.942014</td><td>2.732450e-23</td><td>7</td></tr>\n",
       "\t<tr><th scope=row>5</th><td>1980145</td><td>-9.883575</td><td>4.905094e-23</td><td> -9.956433</td><td>2.363918e-23</td><td>7</td></tr>\n",
       "\t<tr><th scope=row>6</th><td>1980179</td><td>-9.902221</td><td>4.071305e-23</td><td>-10.112251</td><td>4.875095e-24</td><td>7</td></tr>\n",
       "</tbody>\n",
       "</table>\n"
      ],
      "text/latex": [
       "A data.frame: 6 × 6\n",
       "\\begin{tabular}{r|llllll}\n",
       "  & BP & z.x & pval.lambda.1se & z.y & pval.lambda.min & CHR\\\\\n",
       "  & <dbl> & <dbl> & <dbl> & <dbl> & <dbl> & <dbl>\\\\\n",
       "\\hline\n",
       "\t1 & 1980077 & -9.840905 & 7.503298e-23 &  -9.958809 & 2.308109e-23 & 7\\\\\n",
       "\t2 & 1980101 & -9.754207 & 1.769790e-22 &  -9.932166 & 3.016301e-23 & 7\\\\\n",
       "\t3 & 1980129 & -9.898247 & 4.236347e-23 & -10.044057 & 9.757662e-24 & 7\\\\\n",
       "\t4 & 1980136 & -9.865062 & 5.899797e-23 &  -9.942014 & 2.732450e-23 & 7\\\\\n",
       "\t5 & 1980145 & -9.883575 & 4.905094e-23 &  -9.956433 & 2.363918e-23 & 7\\\\\n",
       "\t6 & 1980179 & -9.902221 & 4.071305e-23 & -10.112251 & 4.875095e-24 & 7\\\\\n",
       "\\end{tabular}\n"
      ],
      "text/markdown": [
       "\n",
       "A data.frame: 6 × 6\n",
       "\n",
       "| <!--/--> | BP &lt;dbl&gt; | z.x &lt;dbl&gt; | pval.lambda.1se &lt;dbl&gt; | z.y &lt;dbl&gt; | pval.lambda.min &lt;dbl&gt; | CHR &lt;dbl&gt; |\n",
       "|---|---|---|---|---|---|---|\n",
       "| 1 | 1980077 | -9.840905 | 7.503298e-23 |  -9.958809 | 2.308109e-23 | 7 |\n",
       "| 2 | 1980101 | -9.754207 | 1.769790e-22 |  -9.932166 | 3.016301e-23 | 7 |\n",
       "| 3 | 1980129 | -9.898247 | 4.236347e-23 | -10.044057 | 9.757662e-24 | 7 |\n",
       "| 4 | 1980136 | -9.865062 | 5.899797e-23 |  -9.942014 | 2.732450e-23 | 7 |\n",
       "| 5 | 1980145 | -9.883575 | 4.905094e-23 |  -9.956433 | 2.363918e-23 | 7 |\n",
       "| 6 | 1980179 | -9.902221 | 4.071305e-23 | -10.112251 | 4.875095e-24 | 7 |\n",
       "\n"
      ],
      "text/plain": [
       "  BP      z.x       pval.lambda.1se z.y        pval.lambda.min CHR\n",
       "1 1980077 -9.840905 7.503298e-23     -9.958809 2.308109e-23    7  \n",
       "2 1980101 -9.754207 1.769790e-22     -9.932166 3.016301e-23    7  \n",
       "3 1980129 -9.898247 4.236347e-23    -10.044057 9.757662e-24    7  \n",
       "4 1980136 -9.865062 5.899797e-23     -9.942014 2.732450e-23    7  \n",
       "5 1980145 -9.883575 4.905094e-23     -9.956433 2.363918e-23    7  \n",
       "6 1980179 -9.902221 4.071305e-23    -10.112251 4.875095e-24    7  "
      ]
     },
     "metadata": {},
     "output_type": "display_data"
    }
   ],
   "source": [
    "head(df)"
   ]
  },
  {
   "cell_type": "code",
   "execution_count": 130,
   "id": "34d767a6-542c-4f45-8161-e23fd24b1aab",
   "metadata": {},
   "outputs": [],
   "source": [
    "colnames(df)[2] <- \"Z_lambda.1se\"\n",
    "colnames(df)[4] <- \"Z_lambda.min\""
   ]
  },
  {
   "cell_type": "code",
   "execution_count": 131,
   "id": "b9281343-f871-46ae-bb7c-400deedf2f1b",
   "metadata": {},
   "outputs": [],
   "source": [
    "colnames(old)[3:4] <- c(\"Z_Shizhongs_old\", \"pval.shizhongs_old\")"
   ]
  },
  {
   "cell_type": "code",
   "execution_count": 132,
   "id": "cac828c1-1d9d-403d-b2c7-0711db7da571",
   "metadata": {},
   "outputs": [
    {
     "data": {
      "text/html": [
       "<table class=\"dataframe\">\n",
       "<caption>A data.table: 6 × 5</caption>\n",
       "<thead>\n",
       "\t<tr><th scope=col>CHR</th><th scope=col>BP</th><th scope=col>Z_Shizhongs_old</th><th scope=col>pval.shizhongs_old</th><th scope=col>SNP</th></tr>\n",
       "\t<tr><th scope=col>&lt;dbl&gt;</th><th scope=col>&lt;dbl&gt;</th><th scope=col>&lt;dbl&gt;</th><th scope=col>&lt;dbl&gt;</th><th scope=col>&lt;chr&gt;</th></tr>\n",
       "</thead>\n",
       "<tbody>\n",
       "\t<tr><td>1</td><td>1104982</td><td>0.8199803</td><td>0.4122274</td><td>Chr1:1104982</td></tr>\n",
       "\t<tr><td>1</td><td>1104984</td><td>0.8363752</td><td>0.4029439</td><td>Chr1:1104984</td></tr>\n",
       "\t<tr><td>1</td><td>1105038</td><td>0.7885519</td><td>0.4303740</td><td>Chr1:1105038</td></tr>\n",
       "\t<tr><td>1</td><td>1105092</td><td>0.7844246</td><td>0.4327910</td><td>Chr1:1105092</td></tr>\n",
       "\t<tr><td>1</td><td>1105200</td><td>0.8570140</td><td>0.3914372</td><td>Chr1:1105200</td></tr>\n",
       "\t<tr><td>1</td><td>1105299</td><td>0.7617538</td><td>0.4462070</td><td>Chr1:1105299</td></tr>\n",
       "</tbody>\n",
       "</table>\n"
      ],
      "text/latex": [
       "A data.table: 6 × 5\n",
       "\\begin{tabular}{lllll}\n",
       " CHR & BP & Z\\_Shizhongs\\_old & pval.shizhongs\\_old & SNP\\\\\n",
       " <dbl> & <dbl> & <dbl> & <dbl> & <chr>\\\\\n",
       "\\hline\n",
       "\t 1 & 1104982 & 0.8199803 & 0.4122274 & Chr1:1104982\\\\\n",
       "\t 1 & 1104984 & 0.8363752 & 0.4029439 & Chr1:1104984\\\\\n",
       "\t 1 & 1105038 & 0.7885519 & 0.4303740 & Chr1:1105038\\\\\n",
       "\t 1 & 1105092 & 0.7844246 & 0.4327910 & Chr1:1105092\\\\\n",
       "\t 1 & 1105200 & 0.8570140 & 0.3914372 & Chr1:1105200\\\\\n",
       "\t 1 & 1105299 & 0.7617538 & 0.4462070 & Chr1:1105299\\\\\n",
       "\\end{tabular}\n"
      ],
      "text/markdown": [
       "\n",
       "A data.table: 6 × 5\n",
       "\n",
       "| CHR &lt;dbl&gt; | BP &lt;dbl&gt; | Z_Shizhongs_old &lt;dbl&gt; | pval.shizhongs_old &lt;dbl&gt; | SNP &lt;chr&gt; |\n",
       "|---|---|---|---|---|\n",
       "| 1 | 1104982 | 0.8199803 | 0.4122274 | Chr1:1104982 |\n",
       "| 1 | 1104984 | 0.8363752 | 0.4029439 | Chr1:1104984 |\n",
       "| 1 | 1105038 | 0.7885519 | 0.4303740 | Chr1:1105038 |\n",
       "| 1 | 1105092 | 0.7844246 | 0.4327910 | Chr1:1105092 |\n",
       "| 1 | 1105200 | 0.8570140 | 0.3914372 | Chr1:1105200 |\n",
       "| 1 | 1105299 | 0.7617538 | 0.4462070 | Chr1:1105299 |\n",
       "\n"
      ],
      "text/plain": [
       "  CHR BP      Z_Shizhongs_old pval.shizhongs_old SNP         \n",
       "1 1   1104982 0.8199803       0.4122274          Chr1:1104982\n",
       "2 1   1104984 0.8363752       0.4029439          Chr1:1104984\n",
       "3 1   1105038 0.7885519       0.4303740          Chr1:1105038\n",
       "4 1   1105092 0.7844246       0.4327910          Chr1:1105092\n",
       "5 1   1105200 0.8570140       0.3914372          Chr1:1105200\n",
       "6 1   1105299 0.7617538       0.4462070          Chr1:1105299"
      ]
     },
     "metadata": {},
     "output_type": "display_data"
    }
   ],
   "source": [
    "head(old)"
   ]
  },
  {
   "cell_type": "code",
   "execution_count": 133,
   "id": "77ec8fc9-fc3e-4340-bd36-281fefb243db",
   "metadata": {},
   "outputs": [],
   "source": [
    "merged <- merge(old, df)"
   ]
  },
  {
   "cell_type": "code",
   "execution_count": 134,
   "id": "c75e1d33-b683-4a0d-ac0f-8d8c7b2886d8",
   "metadata": {},
   "outputs": [
    {
     "data": {
      "text/html": [
       "<table class=\"dataframe\">\n",
       "<caption>A data.table: 6 × 9</caption>\n",
       "<thead>\n",
       "\t<tr><th scope=col>CHR</th><th scope=col>BP</th><th scope=col>Z_Shizhongs_old</th><th scope=col>pval.shizhongs_old</th><th scope=col>SNP</th><th scope=col>Z_lambda.1se</th><th scope=col>pval.lambda.1se</th><th scope=col>Z_lambda.min</th><th scope=col>pval.lambda.min</th></tr>\n",
       "\t<tr><th scope=col>&lt;dbl&gt;</th><th scope=col>&lt;dbl&gt;</th><th scope=col>&lt;dbl&gt;</th><th scope=col>&lt;dbl&gt;</th><th scope=col>&lt;chr&gt;</th><th scope=col>&lt;dbl&gt;</th><th scope=col>&lt;dbl&gt;</th><th scope=col>&lt;dbl&gt;</th><th scope=col>&lt;dbl&gt;</th></tr>\n",
       "</thead>\n",
       "<tbody>\n",
       "\t<tr><td>7</td><td>1987511</td><td> 9.903333</td><td>4.026274e-23</td><td>Chr7:1987511</td><td>-24.40179</td><td>1.637124e-131</td><td>-14.55846</td><td> 5.160858e-48</td></tr>\n",
       "\t<tr><td>7</td><td>1987527</td><td> 9.918049</td><td>3.474819e-23</td><td>Chr7:1987527</td><td>-19.03879</td><td> 8.139056e-81</td><td>-12.60942</td><td> 1.873687e-36</td></tr>\n",
       "\t<tr><td>7</td><td>1987565</td><td>10.003180</td><td>1.475801e-23</td><td>Chr7:1987565</td><td>-19.50173</td><td> 1.061258e-84</td><td>-20.28577</td><td> 1.717365e-91</td></tr>\n",
       "\t<tr><td>7</td><td>1987604</td><td>10.120719</td><td>4.471204e-24</td><td>Chr7:1987604</td><td>-20.58420</td><td> 3.802681e-94</td><td>-21.41454</td><td>9.780587e-102</td></tr>\n",
       "\t<tr><td>7</td><td>1987616</td><td>10.157135</td><td>3.079935e-24</td><td>Chr7:1987616</td><td>-20.36900</td><td> 3.150233e-92</td><td>-19.10929</td><td> 2.113237e-81</td></tr>\n",
       "\t<tr><td>7</td><td>1987627</td><td>10.000170</td><td>1.521364e-23</td><td>Chr7:1987627</td><td>-21.09919</td><td> 8.090868e-99</td><td>-20.18206</td><td> 1.407549e-90</td></tr>\n",
       "</tbody>\n",
       "</table>\n"
      ],
      "text/latex": [
       "A data.table: 6 × 9\n",
       "\\begin{tabular}{lllllllll}\n",
       " CHR & BP & Z\\_Shizhongs\\_old & pval.shizhongs\\_old & SNP & Z\\_lambda.1se & pval.lambda.1se & Z\\_lambda.min & pval.lambda.min\\\\\n",
       " <dbl> & <dbl> & <dbl> & <dbl> & <chr> & <dbl> & <dbl> & <dbl> & <dbl>\\\\\n",
       "\\hline\n",
       "\t 7 & 1987511 &  9.903333 & 4.026274e-23 & Chr7:1987511 & -24.40179 & 1.637124e-131 & -14.55846 &  5.160858e-48\\\\\n",
       "\t 7 & 1987527 &  9.918049 & 3.474819e-23 & Chr7:1987527 & -19.03879 &  8.139056e-81 & -12.60942 &  1.873687e-36\\\\\n",
       "\t 7 & 1987565 & 10.003180 & 1.475801e-23 & Chr7:1987565 & -19.50173 &  1.061258e-84 & -20.28577 &  1.717365e-91\\\\\n",
       "\t 7 & 1987604 & 10.120719 & 4.471204e-24 & Chr7:1987604 & -20.58420 &  3.802681e-94 & -21.41454 & 9.780587e-102\\\\\n",
       "\t 7 & 1987616 & 10.157135 & 3.079935e-24 & Chr7:1987616 & -20.36900 &  3.150233e-92 & -19.10929 &  2.113237e-81\\\\\n",
       "\t 7 & 1987627 & 10.000170 & 1.521364e-23 & Chr7:1987627 & -21.09919 &  8.090868e-99 & -20.18206 &  1.407549e-90\\\\\n",
       "\\end{tabular}\n"
      ],
      "text/markdown": [
       "\n",
       "A data.table: 6 × 9\n",
       "\n",
       "| CHR &lt;dbl&gt; | BP &lt;dbl&gt; | Z_Shizhongs_old &lt;dbl&gt; | pval.shizhongs_old &lt;dbl&gt; | SNP &lt;chr&gt; | Z_lambda.1se &lt;dbl&gt; | pval.lambda.1se &lt;dbl&gt; | Z_lambda.min &lt;dbl&gt; | pval.lambda.min &lt;dbl&gt; |\n",
       "|---|---|---|---|---|---|---|---|---|\n",
       "| 7 | 1987511 |  9.903333 | 4.026274e-23 | Chr7:1987511 | -24.40179 | 1.637124e-131 | -14.55846 |  5.160858e-48 |\n",
       "| 7 | 1987527 |  9.918049 | 3.474819e-23 | Chr7:1987527 | -19.03879 |  8.139056e-81 | -12.60942 |  1.873687e-36 |\n",
       "| 7 | 1987565 | 10.003180 | 1.475801e-23 | Chr7:1987565 | -19.50173 |  1.061258e-84 | -20.28577 |  1.717365e-91 |\n",
       "| 7 | 1987604 | 10.120719 | 4.471204e-24 | Chr7:1987604 | -20.58420 |  3.802681e-94 | -21.41454 | 9.780587e-102 |\n",
       "| 7 | 1987616 | 10.157135 | 3.079935e-24 | Chr7:1987616 | -20.36900 |  3.150233e-92 | -19.10929 |  2.113237e-81 |\n",
       "| 7 | 1987627 | 10.000170 | 1.521364e-23 | Chr7:1987627 | -21.09919 |  8.090868e-99 | -20.18206 |  1.407549e-90 |\n",
       "\n"
      ],
      "text/plain": [
       "  CHR BP      Z_Shizhongs_old pval.shizhongs_old SNP          Z_lambda.1se\n",
       "1 7   1987511  9.903333       4.026274e-23       Chr7:1987511 -24.40179   \n",
       "2 7   1987527  9.918049       3.474819e-23       Chr7:1987527 -19.03879   \n",
       "3 7   1987565 10.003180       1.475801e-23       Chr7:1987565 -19.50173   \n",
       "4 7   1987604 10.120719       4.471204e-24       Chr7:1987604 -20.58420   \n",
       "5 7   1987616 10.157135       3.079935e-24       Chr7:1987616 -20.36900   \n",
       "6 7   1987627 10.000170       1.521364e-23       Chr7:1987627 -21.09919   \n",
       "  pval.lambda.1se Z_lambda.min pval.lambda.min\n",
       "1 1.637124e-131   -14.55846     5.160858e-48  \n",
       "2  8.139056e-81   -12.60942     1.873687e-36  \n",
       "3  1.061258e-84   -20.28577     1.717365e-91  \n",
       "4  3.802681e-94   -21.41454    9.780587e-102  \n",
       "5  3.150233e-92   -19.10929     2.113237e-81  \n",
       "6  8.090868e-99   -20.18206     1.407549e-90  "
      ]
     },
     "metadata": {},
     "output_type": "display_data"
    }
   ],
   "source": [
    "head(merged)"
   ]
  },
  {
   "cell_type": "markdown",
   "id": "749f978e-cb18-4480-a0ba-3f43e3777ea4",
   "metadata": {},
   "source": [
    "#### Among those found in both, what is agreement?"
   ]
  },
  {
   "cell_type": "code",
   "execution_count": 135,
   "id": "7740b6f0-ed57-4811-9021-e3cc5f600676",
   "metadata": {},
   "outputs": [
    {
     "data": {
      "text/html": [
       "<table class=\"dataframe\">\n",
       "<caption>A data.table: 6 × 9</caption>\n",
       "<thead>\n",
       "\t<tr><th scope=col>CHR</th><th scope=col>BP</th><th scope=col>Z_Shizhongs_old</th><th scope=col>pval.shizhongs_old</th><th scope=col>SNP</th><th scope=col>Z_lambda.1se</th><th scope=col>pval.lambda.1se</th><th scope=col>Z_lambda.min</th><th scope=col>pval.lambda.min</th></tr>\n",
       "\t<tr><th scope=col>&lt;dbl&gt;</th><th scope=col>&lt;dbl&gt;</th><th scope=col>&lt;dbl&gt;</th><th scope=col>&lt;dbl&gt;</th><th scope=col>&lt;chr&gt;</th><th scope=col>&lt;dbl&gt;</th><th scope=col>&lt;dbl&gt;</th><th scope=col>&lt;dbl&gt;</th><th scope=col>&lt;dbl&gt;</th></tr>\n",
       "</thead>\n",
       "<tbody>\n",
       "\t<tr><td>7</td><td>1987511</td><td> 9.903333</td><td>4.026274e-23</td><td>Chr7:1987511</td><td>-24.40179</td><td>1.637124e-131</td><td>-14.55846</td><td> 5.160858e-48</td></tr>\n",
       "\t<tr><td>7</td><td>1987527</td><td> 9.918049</td><td>3.474819e-23</td><td>Chr7:1987527</td><td>-19.03879</td><td> 8.139056e-81</td><td>-12.60942</td><td> 1.873687e-36</td></tr>\n",
       "\t<tr><td>7</td><td>1987565</td><td>10.003180</td><td>1.475801e-23</td><td>Chr7:1987565</td><td>-19.50173</td><td> 1.061258e-84</td><td>-20.28577</td><td> 1.717365e-91</td></tr>\n",
       "\t<tr><td>7</td><td>1987604</td><td>10.120719</td><td>4.471204e-24</td><td>Chr7:1987604</td><td>-20.58420</td><td> 3.802681e-94</td><td>-21.41454</td><td>9.780587e-102</td></tr>\n",
       "\t<tr><td>7</td><td>1987616</td><td>10.157135</td><td>3.079935e-24</td><td>Chr7:1987616</td><td>-20.36900</td><td> 3.150233e-92</td><td>-19.10929</td><td> 2.113237e-81</td></tr>\n",
       "\t<tr><td>7</td><td>1987627</td><td>10.000170</td><td>1.521364e-23</td><td>Chr7:1987627</td><td>-21.09919</td><td> 8.090868e-99</td><td>-20.18206</td><td> 1.407549e-90</td></tr>\n",
       "</tbody>\n",
       "</table>\n"
      ],
      "text/latex": [
       "A data.table: 6 × 9\n",
       "\\begin{tabular}{lllllllll}\n",
       " CHR & BP & Z\\_Shizhongs\\_old & pval.shizhongs\\_old & SNP & Z\\_lambda.1se & pval.lambda.1se & Z\\_lambda.min & pval.lambda.min\\\\\n",
       " <dbl> & <dbl> & <dbl> & <dbl> & <chr> & <dbl> & <dbl> & <dbl> & <dbl>\\\\\n",
       "\\hline\n",
       "\t 7 & 1987511 &  9.903333 & 4.026274e-23 & Chr7:1987511 & -24.40179 & 1.637124e-131 & -14.55846 &  5.160858e-48\\\\\n",
       "\t 7 & 1987527 &  9.918049 & 3.474819e-23 & Chr7:1987527 & -19.03879 &  8.139056e-81 & -12.60942 &  1.873687e-36\\\\\n",
       "\t 7 & 1987565 & 10.003180 & 1.475801e-23 & Chr7:1987565 & -19.50173 &  1.061258e-84 & -20.28577 &  1.717365e-91\\\\\n",
       "\t 7 & 1987604 & 10.120719 & 4.471204e-24 & Chr7:1987604 & -20.58420 &  3.802681e-94 & -21.41454 & 9.780587e-102\\\\\n",
       "\t 7 & 1987616 & 10.157135 & 3.079935e-24 & Chr7:1987616 & -20.36900 &  3.150233e-92 & -19.10929 &  2.113237e-81\\\\\n",
       "\t 7 & 1987627 & 10.000170 & 1.521364e-23 & Chr7:1987627 & -21.09919 &  8.090868e-99 & -20.18206 &  1.407549e-90\\\\\n",
       "\\end{tabular}\n"
      ],
      "text/markdown": [
       "\n",
       "A data.table: 6 × 9\n",
       "\n",
       "| CHR &lt;dbl&gt; | BP &lt;dbl&gt; | Z_Shizhongs_old &lt;dbl&gt; | pval.shizhongs_old &lt;dbl&gt; | SNP &lt;chr&gt; | Z_lambda.1se &lt;dbl&gt; | pval.lambda.1se &lt;dbl&gt; | Z_lambda.min &lt;dbl&gt; | pval.lambda.min &lt;dbl&gt; |\n",
       "|---|---|---|---|---|---|---|---|---|\n",
       "| 7 | 1987511 |  9.903333 | 4.026274e-23 | Chr7:1987511 | -24.40179 | 1.637124e-131 | -14.55846 |  5.160858e-48 |\n",
       "| 7 | 1987527 |  9.918049 | 3.474819e-23 | Chr7:1987527 | -19.03879 |  8.139056e-81 | -12.60942 |  1.873687e-36 |\n",
       "| 7 | 1987565 | 10.003180 | 1.475801e-23 | Chr7:1987565 | -19.50173 |  1.061258e-84 | -20.28577 |  1.717365e-91 |\n",
       "| 7 | 1987604 | 10.120719 | 4.471204e-24 | Chr7:1987604 | -20.58420 |  3.802681e-94 | -21.41454 | 9.780587e-102 |\n",
       "| 7 | 1987616 | 10.157135 | 3.079935e-24 | Chr7:1987616 | -20.36900 |  3.150233e-92 | -19.10929 |  2.113237e-81 |\n",
       "| 7 | 1987627 | 10.000170 | 1.521364e-23 | Chr7:1987627 | -21.09919 |  8.090868e-99 | -20.18206 |  1.407549e-90 |\n",
       "\n"
      ],
      "text/plain": [
       "  CHR BP      Z_Shizhongs_old pval.shizhongs_old SNP          Z_lambda.1se\n",
       "1 7   1987511  9.903333       4.026274e-23       Chr7:1987511 -24.40179   \n",
       "2 7   1987527  9.918049       3.474819e-23       Chr7:1987527 -19.03879   \n",
       "3 7   1987565 10.003180       1.475801e-23       Chr7:1987565 -19.50173   \n",
       "4 7   1987604 10.120719       4.471204e-24       Chr7:1987604 -20.58420   \n",
       "5 7   1987616 10.157135       3.079935e-24       Chr7:1987616 -20.36900   \n",
       "6 7   1987627 10.000170       1.521364e-23       Chr7:1987627 -21.09919   \n",
       "  pval.lambda.1se Z_lambda.min pval.lambda.min\n",
       "1 1.637124e-131   -14.55846     5.160858e-48  \n",
       "2  8.139056e-81   -12.60942     1.873687e-36  \n",
       "3  1.061258e-84   -20.28577     1.717365e-91  \n",
       "4  3.802681e-94   -21.41454    9.780587e-102  \n",
       "5  3.150233e-92   -19.10929     2.113237e-81  \n",
       "6  8.090868e-99   -20.18206     1.407549e-90  "
      ]
     },
     "metadata": {},
     "output_type": "display_data"
    }
   ],
   "source": [
    "head(merged)"
   ]
  },
  {
   "cell_type": "code",
   "execution_count": 137,
   "id": "017e8b8d-66ee-4eb4-8297-b8abe1cb5432",
   "metadata": {},
   "outputs": [
    {
     "name": "stderr",
     "output_type": "stream",
     "text": [
      "\n",
      "Attaching package: ‘dplyr’\n",
      "\n",
      "\n",
      "The following object is masked from ‘package:bsseq’:\n",
      "\n",
      "    combine\n",
      "\n",
      "\n",
      "The following object is masked from ‘package:Biobase’:\n",
      "\n",
      "    combine\n",
      "\n",
      "\n",
      "The following object is masked from ‘package:matrixStats’:\n",
      "\n",
      "    count\n",
      "\n",
      "\n",
      "The following objects are masked from ‘package:GenomicRanges’:\n",
      "\n",
      "    intersect, setdiff, union\n",
      "\n",
      "\n",
      "The following object is masked from ‘package:GenomeInfoDb’:\n",
      "\n",
      "    intersect\n",
      "\n",
      "\n",
      "The following objects are masked from ‘package:IRanges’:\n",
      "\n",
      "    collapse, desc, intersect, setdiff, slice, union\n",
      "\n",
      "\n",
      "The following objects are masked from ‘package:S4Vectors’:\n",
      "\n",
      "    first, intersect, rename, setdiff, setequal, union\n",
      "\n",
      "\n",
      "The following objects are masked from ‘package:BiocGenerics’:\n",
      "\n",
      "    combine, intersect, setdiff, union\n",
      "\n",
      "\n",
      "The following objects are masked from ‘package:data.table’:\n",
      "\n",
      "    between, first, last\n",
      "\n",
      "\n",
      "The following objects are masked from ‘package:stats’:\n",
      "\n",
      "    filter, lag\n",
      "\n",
      "\n",
      "The following objects are masked from ‘package:base’:\n",
      "\n",
      "    intersect, setdiff, setequal, union\n",
      "\n",
      "\n",
      "\n",
      "Attaching package: ‘tidyr’\n",
      "\n",
      "\n",
      "The following object is masked from ‘package:S4Vectors’:\n",
      "\n",
      "    expand\n",
      "\n",
      "\n",
      "The following objects are masked from ‘package:Matrix’:\n",
      "\n",
      "    expand, pack, unpack\n",
      "\n",
      "\n"
     ]
    }
   ],
   "source": [
    "library(dplyr)\n",
    "library(tidyr)\n",
    "library(ggplot2)\n",
    "\n",
    "# Assuming 'merged' is your dataframe\n",
    "# You may have already set the column names as shown in your previous message\n",
    "\n",
    "# Convert BP to numeric if not already\n",
    "merged$BP <- as.numeric(merged$BP)\n",
    "\n",
    "# Convert p-values to their -log10 for visualization\n",
    "merged$log_pval_shizhong <- -log10(merged$pval.shizhongs_old)\n",
    "merged$log_pval_lambda_1se <- -log10(merged$pval.lambda.1se)\n",
    "merged$log_pval_lambda_min <- -log10(merged$pval.lambda.min)\n"
   ]
  },
  {
   "cell_type": "code",
   "execution_count": 138,
   "id": "f2843374-55cc-4921-ba5a-6fe975242fae",
   "metadata": {},
   "outputs": [
    {
     "data": {
      "image/png": "[encoded data removed]",
      "text/plain": [
       "plot without title"
      ]
     },
     "metadata": {
      "image/png": {
       "height": 420,
       "width": 420
      }
     },
     "output_type": "display_data"
    }
   ],
   "source": [
    "# Create the ggplot visualizations\n",
    "plot <- ggplot(merged, aes(x = BP)) +\n",
    "  geom_point(aes(y = log_pval_shizhong, color = \"Shizhong's Old\"), alpha = 0.6) +\n",
    "  geom_point(aes(y = log_pval_lambda_1se, color = \"Lambda 1se\"), alpha = 0.6) +\n",
    "  geom_point(aes(y = log_pval_lambda_min, color = \"Lambda Min\"), alpha = 0.6) +\n",
    "  scale_color_manual(values = c(\"Shizhong's Old\" = \"green\", \"Lambda 1se\" = \"blue\", \"Lambda Min\" = \"red\")) +\n",
    "  labs(x = \"Genomic Position (BP)\",\n",
    "       y = \"-log10 of p-values\",\n",
    "       title = \"Comparative Scattergram of MWAS p-values by Genomic Position\",\n",
    "       subtitle = \"Green: Shizhong's Old, Blue: Lambda.1se, Red: Lambda.min\") +\n",
    "  theme_minimal() +\n",
    "  facet_wrap(~ CHR, scales = \"free_y\")  # Facet by chromosome\n",
    "\n",
    "# Print the plot\n",
    "print(plot)\n"
   ]
  },
  {
   "cell_type": "code",
   "execution_count": 140,
   "id": "fd8f6da7-e165-472c-ae86-32e629019e74",
   "metadata": {},
   "outputs": [],
   "source": [
    "library(ggplot2)\n",
    "library(tidyr)\n",
    "library(scales)  # for comma formatting\n",
    "\n",
    "# Define your positions\n",
    "min_site_to_test_pos <- 73274305\n",
    "max_site_to_test_pos <- 73420076\n",
    "\n",
    "# Convert numbers to comma-separated format\n",
    "formatted_min_pos <- scales::comma(min_site_to_test_pos)\n",
    "formatted_max_pos <- scales::comma(max_site_to_test_pos)\n"
   ]
  },
  {
   "cell_type": "code",
   "execution_count": 141,
   "id": "6d18bd7f-c8b9-4146-879c-c0d1d4cde1f6",
   "metadata": {},
   "outputs": [],
   "source": [
    "# Ensure your dataframe 'df' is already properly formatted and 'pos' is correct\n",
    "df_long <- tidyr::pivot_longer(df, \n",
    "                               cols = c(\"pval.lambda.1se\", \"pval.lambda.min\"), \n",
    "                               names_to = \"variable\", \n",
    "                               values_to = \"pval\")\n"
   ]
  },
  {
   "cell_type": "code",
   "execution_count": 143,
   "id": "88af396d-f475-4887-8a13-0cfe2b87500f",
   "metadata": {},
   "outputs": [
    {
     "data": {
      "text/html": [
       "<table class=\"dataframe\">\n",
       "<caption>A tibble: 6 × 6</caption>\n",
       "<thead>\n",
       "\t<tr><th scope=col>BP</th><th scope=col>Z_lambda.1se</th><th scope=col>Z_lambda.min</th><th scope=col>CHR</th><th scope=col>variable</th><th scope=col>pval</th></tr>\n",
       "\t<tr><th scope=col>&lt;dbl&gt;</th><th scope=col>&lt;dbl&gt;</th><th scope=col>&lt;dbl&gt;</th><th scope=col>&lt;dbl&gt;</th><th scope=col>&lt;chr&gt;</th><th scope=col>&lt;dbl&gt;</th></tr>\n",
       "</thead>\n",
       "<tbody>\n",
       "\t<tr><td>1980077</td><td>-9.840905</td><td> -9.958809</td><td>7</td><td>pval.lambda.1se</td><td>7.503298e-23</td></tr>\n",
       "\t<tr><td>1980077</td><td>-9.840905</td><td> -9.958809</td><td>7</td><td>pval.lambda.min</td><td>2.308109e-23</td></tr>\n",
       "\t<tr><td>1980101</td><td>-9.754207</td><td> -9.932166</td><td>7</td><td>pval.lambda.1se</td><td>1.769790e-22</td></tr>\n",
       "\t<tr><td>1980101</td><td>-9.754207</td><td> -9.932166</td><td>7</td><td>pval.lambda.min</td><td>3.016301e-23</td></tr>\n",
       "\t<tr><td>1980129</td><td>-9.898247</td><td>-10.044057</td><td>7</td><td>pval.lambda.1se</td><td>4.236347e-23</td></tr>\n",
       "\t<tr><td>1980129</td><td>-9.898247</td><td>-10.044057</td><td>7</td><td>pval.lambda.min</td><td>9.757662e-24</td></tr>\n",
       "</tbody>\n",
       "</table>\n"
      ],
      "text/latex": [
       "A tibble: 6 × 6\n",
       "\\begin{tabular}{llllll}\n",
       " BP & Z\\_lambda.1se & Z\\_lambda.min & CHR & variable & pval\\\\\n",
       " <dbl> & <dbl> & <dbl> & <dbl> & <chr> & <dbl>\\\\\n",
       "\\hline\n",
       "\t 1980077 & -9.840905 &  -9.958809 & 7 & pval.lambda.1se & 7.503298e-23\\\\\n",
       "\t 1980077 & -9.840905 &  -9.958809 & 7 & pval.lambda.min & 2.308109e-23\\\\\n",
       "\t 1980101 & -9.754207 &  -9.932166 & 7 & pval.lambda.1se & 1.769790e-22\\\\\n",
       "\t 1980101 & -9.754207 &  -9.932166 & 7 & pval.lambda.min & 3.016301e-23\\\\\n",
       "\t 1980129 & -9.898247 & -10.044057 & 7 & pval.lambda.1se & 4.236347e-23\\\\\n",
       "\t 1980129 & -9.898247 & -10.044057 & 7 & pval.lambda.min & 9.757662e-24\\\\\n",
       "\\end{tabular}\n"
      ],
      "text/markdown": [
       "\n",
       "A tibble: 6 × 6\n",
       "\n",
       "| BP &lt;dbl&gt; | Z_lambda.1se &lt;dbl&gt; | Z_lambda.min &lt;dbl&gt; | CHR &lt;dbl&gt; | variable &lt;chr&gt; | pval &lt;dbl&gt; |\n",
       "|---|---|---|---|---|---|\n",
       "| 1980077 | -9.840905 |  -9.958809 | 7 | pval.lambda.1se | 7.503298e-23 |\n",
       "| 1980077 | -9.840905 |  -9.958809 | 7 | pval.lambda.min | 2.308109e-23 |\n",
       "| 1980101 | -9.754207 |  -9.932166 | 7 | pval.lambda.1se | 1.769790e-22 |\n",
       "| 1980101 | -9.754207 |  -9.932166 | 7 | pval.lambda.min | 3.016301e-23 |\n",
       "| 1980129 | -9.898247 | -10.044057 | 7 | pval.lambda.1se | 4.236347e-23 |\n",
       "| 1980129 | -9.898247 | -10.044057 | 7 | pval.lambda.min | 9.757662e-24 |\n",
       "\n"
      ],
      "text/plain": [
       "  BP      Z_lambda.1se Z_lambda.min CHR variable        pval        \n",
       "1 1980077 -9.840905     -9.958809   7   pval.lambda.1se 7.503298e-23\n",
       "2 1980077 -9.840905     -9.958809   7   pval.lambda.min 2.308109e-23\n",
       "3 1980101 -9.754207     -9.932166   7   pval.lambda.1se 1.769790e-22\n",
       "4 1980101 -9.754207     -9.932166   7   pval.lambda.min 3.016301e-23\n",
       "5 1980129 -9.898247    -10.044057   7   pval.lambda.1se 4.236347e-23\n",
       "6 1980129 -9.898247    -10.044057   7   pval.lambda.min 9.757662e-24"
      ]
     },
     "metadata": {},
     "output_type": "display_data"
    }
   ],
   "source": [
    "head(df_long)"
   ]
  },
  {
   "cell_type": "code",
   "execution_count": 144,
   "id": "46b13534-a8f8-4572-a701-926c756d169b",
   "metadata": {},
   "outputs": [
    {
     "ename": "ERROR",
     "evalue": "\u001b[1m\u001b[33mError\u001b[39m in `pivot_longer()`:\u001b[22m\n\u001b[33m!\u001b[39m Can't subset columns that don't exist.\n\u001b[31m✖\u001b[39m Column `pval.shizhongs_old` doesn't exist.\n",
     "output_type": "error",
     "traceback": [
      "\u001b[1m\u001b[33mError\u001b[39m in `pivot_longer()`:\u001b[22m\n\u001b[33m!\u001b[39m Can't subset columns that don't exist.\n\u001b[31m✖\u001b[39m Column `pval.shizhongs_old` doesn't exist.\nTraceback:\n",
      "1. pivot_longer(df, cols = c(\"pval.lambda.1se\", \"pval.lambda.min\", \n .     \"pval.shizhongs_old\"), names_to = \"variable\", values_to = \"pval\")",
      "2. pivot_longer.data.frame(df, cols = c(\"pval.lambda.1se\", \"pval.lambda.min\", \n .     \"pval.shizhongs_old\"), names_to = \"variable\", values_to = \"pval\")",
      "3. build_longer_spec(data = data, cols = {\n .     {\n .         cols\n .     }\n . }, names_to = names_to, values_to = values_to, names_prefix = names_prefix, \n .     names_sep = names_sep, names_pattern = names_pattern, names_ptypes = names_ptypes, \n .     names_transform = names_transform, error_call = current_env())",
      "4. tidyselect::eval_select(expr = enquo(cols), data = data[unique(names(data))], \n .     allow_rename = FALSE, error_call = error_call)",
      "5. eval_select_impl(data, names(data), as_quosure(expr, env), include = include, \n .     exclude = exclude, strict = strict, name_spec = name_spec, \n .     allow_rename = allow_rename, allow_empty = allow_empty, allow_predicates = allow_predicates, \n .     error_call = error_call, )",
      "6. with_subscript_errors(out <- vars_select_eval(vars, expr, strict = strict, \n .     data = x, name_spec = name_spec, uniquely_named = uniquely_named, \n .     allow_rename = allow_rename, allow_empty = allow_empty, allow_predicates = allow_predicates, \n .     type = type, error_call = error_call), type = type)",
      "7. try_fetch(expr, vctrs_error_subscript = function(cnd) {\n .     cnd$subscript_action <- subscript_action(type)\n .     cnd$subscript_elt <- \"column\"\n .     cnd_signal(cnd)\n . })",
      "8. withCallingHandlers(expr, condition = function(cnd) {\n .     {\n .         .__handler_frame__. <- TRUE\n .         .__setup_frame__. <- frame\n .         if (inherits(cnd, \"message\")) {\n .             except <- c(\"warning\", \"error\")\n .         }\n .         else if (inherits(cnd, \"warning\")) {\n .             except <- \"error\"\n .         }\n .         else {\n .             except <- \"\"\n .         }\n .     }\n .     while (!is_null(cnd)) {\n .         if (inherits(cnd, \"vctrs_error_subscript\")) {\n .             out <- handlers[[1L]](cnd)\n .             if (!inherits(out, \"rlang_zap\")) \n .                 throw(out)\n .         }\n .         inherit <- .subset2(.subset2(cnd, \"rlang\"), \"inherit\")\n .         if (is_false(inherit)) {\n .             return()\n .         }\n .         cnd <- .subset2(cnd, \"parent\")\n .     }\n . })",
      "9. vars_select_eval(vars, expr, strict = strict, data = x, name_spec = name_spec, \n .     uniquely_named = uniquely_named, allow_rename = allow_rename, \n .     allow_empty = allow_empty, allow_predicates = allow_predicates, \n .     type = type, error_call = error_call)",
      "10. walk_data_tree(expr, data_mask, context_mask)",
      "11. eval_c(expr, data_mask, context_mask)",
      "12. reduce_sels(node, data_mask, context_mask, init = init)",
      "13. walk_data_tree(new, data_mask, context_mask)",
      "14. as_indices_sel_impl(out, vars = vars, strict = strict, data = data, \n  .     allow_predicates = allow_predicates, call = error_call, arg = as_label(expr))",
      "15. as_indices_impl(x, vars, call = call, arg = arg, strict = strict)",
      "16. chr_as_locations(x, vars, call = call, arg = arg)",
      "17. vctrs::vec_as_location(x, n = length(vars), names = vars, call = call, \n  .     arg = arg)",
      "18. (function () \n  . stop_subscript_oob(i = i, subscript_type = subscript_type, names = names, \n  .     subscript_action = subscript_action, subscript_arg = subscript_arg, \n  .     call = call))()",
      "19. stop_subscript_oob(i = i, subscript_type = subscript_type, names = names, \n  .     subscript_action = subscript_action, subscript_arg = subscript_arg, \n  .     call = call)",
      "20. stop_subscript(class = \"vctrs_error_subscript_oob\", i = i, subscript_type = subscript_type, \n  .     ..., call = call)",
      "21. abort(class = c(class, \"vctrs_error_subscript\"), i = i, ..., \n  .     call = call)",
      "22. signal_abort(cnd, .file)",
      "23. signalCondition(cnd)",
      "24. (function (cnd) \n  . {\n  .     {\n  .         .__handler_frame__. <- TRUE\n  .         .__setup_frame__. <- frame\n  .         if (inherits(cnd, \"message\")) {\n  .             except <- c(\"warning\", \"error\")\n  .         }\n  .         else if (inherits(cnd, \"warning\")) {\n  .             except <- \"error\"\n  .         }\n  .         else {\n  .             except <- \"\"\n  .         }\n  .     }\n  .     while (!is_null(cnd)) {\n  .         if (inherits(cnd, \"vctrs_error_subscript\")) {\n  .             out <- handlers[[1L]](cnd)\n  .             if (!inherits(out, \"rlang_zap\")) \n  .                 throw(out)\n  .         }\n  .         inherit <- .subset2(.subset2(cnd, \"rlang\"), \"inherit\")\n  .         if (is_false(inherit)) {\n  .             return()\n  .         }\n  .         cnd <- .subset2(cnd, \"parent\")\n  .     }\n  . })(structure(list(message = \"\", trace = structure(list(call = list(\n  .     IRkernel::main(), kernel$run(), handle_shell(), executor$execute(msg), \n  .     tryCatch(evaluate(request$content$code, envir = .GlobalEnv, \n  .         output_handler = oh, stop_on_error = 1L), interrupt = function(cond) {\n  .         log_debug(\"Interrupt during execution\")\n  .         interrupted <<- TRUE\n  .     }, error = .self$handle_error), tryCatchList(expr, classes, \n  .         parentenv, handlers), tryCatchOne(tryCatchList(expr, \n  .         names[-nh], parentenv, handlers[-nh]), names[nh], parentenv, \n  .         handlers[[nh]]), doTryCatch(return(expr), name, parentenv, \n  .         handler), tryCatchList(expr, names[-nh], parentenv, handlers[-nh]), \n  .     tryCatchOne(expr, names, parentenv, handlers[[1L]]), doTryCatch(return(expr), \n  .         name, parentenv, handler), evaluate(request$content$code, \n  .         envir = .GlobalEnv, output_handler = oh, stop_on_error = 1L), \n  .     evaluate_call(expr, parsed$src[[i]], envir = envir, enclos = enclos, \n  .         debug = debug, last = i == length(out), use_try = stop_on_error != \n  .             2L, keep_warning = keep_warning, keep_message = keep_message, \n  .         log_echo = log_echo, log_warning = log_warning, output_handler = output_handler, \n  .         include_timing = include_timing), timing_fn(handle(ev <- withCallingHandlers(withVisible(eval_with_user_handlers(expr, \n  .         envir, enclos, user_handlers)), warning = wHandler, error = eHandler, \n  .         message = mHandler))), handle(ev <- withCallingHandlers(withVisible(eval_with_user_handlers(expr, \n  .         envir, enclos, user_handlers)), warning = wHandler, error = eHandler, \n  .         message = mHandler)), try(f, silent = TRUE), tryCatch(expr, \n  .         error = function(e) {\n  .             call <- conditionCall(e)\n  .             if (!is.null(call)) {\n  .                 if (identical(call[[1L]], quote(doTryCatch))) \n  .                   call <- sys.call(-4L)\n  .                 dcall <- deparse(call, nlines = 1L)\n  .                 prefix <- paste(\"Error in\", dcall, \": \")\n  .                 LONG <- 75L\n  .                 sm <- strsplit(conditionMessage(e), \"\\n\")[[1L]]\n  .                 w <- 14L + nchar(dcall, type = \"w\") + nchar(sm[1L], \n  .                   type = \"w\")\n  .                 if (is.na(w)) \n  .                   w <- 14L + nchar(dcall, type = \"b\") + nchar(sm[1L], \n  .                     type = \"b\")\n  .                 if (w > LONG) \n  .                   prefix <- paste0(prefix, \"\\n  \")\n  .             }\n  .             else prefix <- \"Error : \"\n  .             msg <- paste0(prefix, conditionMessage(e), \"\\n\")\n  .             .Internal(seterrmessage(msg[1L]))\n  .             if (!silent && isTRUE(getOption(\"show.error.messages\"))) {\n  .                 cat(msg, file = outFile)\n  .                 .Internal(printDeferredWarnings())\n  .             }\n  .             invisible(structure(msg, class = \"try-error\", condition = e))\n  .         }), tryCatchList(expr, classes, parentenv, handlers), \n  .     tryCatchOne(expr, names, parentenv, handlers[[1L]]), doTryCatch(return(expr), \n  .         name, parentenv, handler), withCallingHandlers(withVisible(eval_with_user_handlers(expr, \n  .         envir, enclos, user_handlers)), warning = wHandler, error = eHandler, \n  .         message = mHandler), withVisible(eval_with_user_handlers(expr, \n  .         envir, enclos, user_handlers)), eval_with_user_handlers(expr, \n  .         envir, enclos, user_handlers), eval(expr, envir, enclos), \n  .     eval(expr, envir, enclos), pivot_longer(df, cols = c(\"pval.lambda.1se\", \n  .         \"pval.lambda.min\", \"pval.shizhongs_old\"), names_to = \"variable\", \n  .         values_to = \"pval\"), pivot_longer.data.frame(df, cols = c(\"pval.lambda.1se\", \n  .         \"pval.lambda.min\", \"pval.shizhongs_old\"), names_to = \"variable\", \n  .         values_to = \"pval\"), build_longer_spec(data = data, cols = {\n  .         {\n  .             cols\n  .         }\n  .     }, names_to = names_to, values_to = values_to, names_prefix = names_prefix, \n  .         names_sep = names_sep, names_pattern = names_pattern, \n  .         names_ptypes = names_ptypes, names_transform = names_transform, \n  .         error_call = current_env()), tidyselect::eval_select(expr = enquo(cols), \n  .         data = data[unique(names(data))], allow_rename = FALSE, \n  .         error_call = error_call), eval_select_impl(data, names(data), \n  .         as_quosure(expr, env), include = include, exclude = exclude, \n  .         strict = strict, name_spec = name_spec, allow_rename = allow_rename, \n  .         allow_empty = allow_empty, allow_predicates = allow_predicates, \n  .         error_call = error_call, ), with_subscript_errors(out <- vars_select_eval(vars, \n  .         expr, strict = strict, data = x, name_spec = name_spec, \n  .         uniquely_named = uniquely_named, allow_rename = allow_rename, \n  .         allow_empty = allow_empty, allow_predicates = allow_predicates, \n  .         type = type, error_call = error_call), type = type), \n  .     try_fetch(expr, vctrs_error_subscript = function(cnd) {\n  .         cnd$subscript_action <- subscript_action(type)\n  .         cnd$subscript_elt <- \"column\"\n  .         cnd_signal(cnd)\n  .     }), withCallingHandlers(expr, condition = function(cnd) {\n  .         {\n  .             .__handler_frame__. <- TRUE\n  .             .__setup_frame__. <- frame\n  .             if (inherits(cnd, \"message\")) {\n  .                 except <- c(\"warning\", \"error\")\n  .             }\n  .             else if (inherits(cnd, \"warning\")) {\n  .                 except <- \"error\"\n  .             }\n  .             else {\n  .                 except <- \"\"\n  .             }\n  .         }\n  .         while (!is_null(cnd)) {\n  .             if (inherits(cnd, \"vctrs_error_subscript\")) {\n  .                 out <- handlers[[1L]](cnd)\n  .                 if (!inherits(out, \"rlang_zap\")) \n  .                   throw(out)\n  .             }\n  .             inherit <- .subset2(.subset2(cnd, \"rlang\"), \"inherit\")\n  .             if (is_false(inherit)) {\n  .                 return()\n  .             }\n  .             cnd <- .subset2(cnd, \"parent\")\n  .         }\n  .     }), vars_select_eval(vars, expr, strict = strict, data = x, \n  .         name_spec = name_spec, uniquely_named = uniquely_named, \n  .         allow_rename = allow_rename, allow_empty = allow_empty, \n  .         allow_predicates = allow_predicates, type = type, error_call = error_call), \n  .     walk_data_tree(expr, data_mask, context_mask), eval_c(expr, \n  .         data_mask, context_mask), reduce_sels(node, data_mask, \n  .         context_mask, init = init), walk_data_tree(new, data_mask, \n  .         context_mask), as_indices_sel_impl(out, vars = vars, \n  .         strict = strict, data = data, allow_predicates = allow_predicates, \n  .         call = error_call, arg = as_label(expr)), as_indices_impl(x, \n  .         vars, call = call, arg = arg, strict = strict), chr_as_locations(x, \n  .         vars, call = call, arg = arg), vctrs::vec_as_location(x, \n  .         n = length(vars), names = vars, call = call, arg = arg), \n  .     `<fn>`(), stop_subscript_oob(i = i, subscript_type = subscript_type, \n  .         names = names, subscript_action = subscript_action, subscript_arg = subscript_arg, \n  .         call = call), stop_subscript(class = \"vctrs_error_subscript_oob\", \n  .         i = i, subscript_type = subscript_type, ..., call = call), \n  .     abort(class = c(class, \"vctrs_error_subscript\"), i = i, ..., \n  .         call = call)), parent = c(0L, 1L, 2L, 3L, 4L, 5L, 6L, \n  . 7L, 6L, 9L, 10L, 4L, 12L, 13L, 13L, 15L, 16L, 17L, 18L, 19L, \n  . 13L, 13L, 13L, 23L, 24L, 0L, 0L, 27L, 28L, 29L, 30L, 31L, 32L, \n  . 30L, 34L, 35L, 36L, 37L, 38L, 39L, 40L, 41L, 0L, 43L, 44L, 45L\n  . ), visible = c(TRUE, TRUE, TRUE, TRUE, TRUE, TRUE, TRUE, TRUE, \n  . TRUE, TRUE, TRUE, TRUE, TRUE, TRUE, TRUE, TRUE, TRUE, TRUE, TRUE, \n  . TRUE, TRUE, TRUE, TRUE, TRUE, TRUE, TRUE, TRUE, FALSE, FALSE, \n  . FALSE, FALSE, FALSE, FALSE, FALSE, FALSE, FALSE, FALSE, FALSE, \n  . FALSE, FALSE, FALSE, FALSE, FALSE, FALSE, FALSE, FALSE), namespace = c(\"IRkernel\", \n  . NA, \"IRkernel\", NA, \"base\", \"base\", \"base\", \"base\", \"base\", \"base\", \n  . \"base\", \"evaluate\", \"evaluate\", \"evaluate\", \"evaluate\", \"base\", \n  . \"base\", \"base\", \"base\", \"base\", \"base\", \"base\", \"evaluate\", \"base\", \n  . \"base\", \"tidyr\", \"tidyr\", \"tidyr\", \"tidyselect\", \"tidyselect\", \n  . \"tidyselect\", \"rlang\", \"base\", \"tidyselect\", \"tidyselect\", \"tidyselect\", \n  . \"tidyselect\", \"tidyselect\", \"tidyselect\", \"tidyselect\", \"tidyselect\", \n  . \"vctrs\", \"vctrs\", \"vctrs\", \"vctrs\", \"rlang\"), scope = c(\"::\", \n  . NA, \"local\", NA, \"::\", \"local\", \"local\", \"local\", \"local\", \"local\", \n  . \"local\", \"::\", \":::\", \"local\", \"local\", \"::\", \"::\", \"local\", \n  . \"local\", \"local\", \"::\", \"::\", \":::\", \"::\", \"::\", \"::\", \":::\", \n  . \"::\", \"::\", \":::\", \":::\", \"::\", \"::\", \":::\", \":::\", \":::\", \":::\", \n  . \":::\", \":::\", \":::\", \":::\", \"::\", \"local\", \":::\", \":::\", \"::\"\n  . ), error_frame = c(FALSE, FALSE, FALSE, FALSE, FALSE, FALSE, \n  . FALSE, FALSE, FALSE, FALSE, FALSE, FALSE, FALSE, FALSE, FALSE, \n  . FALSE, FALSE, FALSE, FALSE, FALSE, FALSE, FALSE, FALSE, FALSE, \n  . FALSE, FALSE, TRUE, FALSE, FALSE, FALSE, FALSE, FALSE, FALSE, \n  . FALSE, FALSE, FALSE, FALSE, FALSE, FALSE, FALSE, FALSE, FALSE, \n  . FALSE, FALSE, FALSE, FALSE)), row.names = c(NA, -46L), version = 2L, class = c(\"rlang_trace\", \n  . \"rlib_trace\", \"tbl\", \"data.frame\")), parent = NULL, i = \"pval.shizhongs_old\", \n  .     subscript_type = \"character\", names = c(\"BP\", \"Z_lambda.1se\", \n  .     \"pval.lambda.1se\", \"Z_lambda.min\", \"pval.lambda.min\", \"CHR\"\n  .     ), subscript_action = NULL, subscript_arg = \"\\\"pval.shizhongs_old\\\"\", \n  .     rlang = list(inherit = TRUE), call = pivot_longer(df, cols = c(\"pval.lambda.1se\", \n  .         \"pval.lambda.min\", \"pval.shizhongs_old\"), names_to = \"variable\", \n  .         values_to = \"pval\")), class = c(\"vctrs_error_subscript_oob\", \n  . \"vctrs_error_subscript\", \"rlang_error\", \"error\", \"condition\")))",
      "25. handlers[[1L]](cnd)",
      "26. cnd_signal(cnd)",
      "27. signal_abort(cnd)"
     ]
    }
   ],
   "source": [
    "library(tidyr)\n",
    "library(ggplot2)\n",
    "library(scales)  # for comma formatting\n",
    "\n",
    "# Convert numbers to comma-separated format\n",
    "formatted_min_pos <- comma(min_site_to_test_pos)\n",
    "formatted_max_pos <- comma(max_site_to_test_pos)\n",
    "\n",
    "# Convert the dataframe to long format including the new Shizhong's p-values\n",
    "df_long <- pivot_longer(df, \n",
    "                        cols = c(\"pval.lambda.1se\", \"pval.lambda.min\", \"pval.shizhongs_old\"),\n",
    "                        names_to = \"variable\",\n",
    "                        values_to = \"pval\")\n"
   ]
  },
  {
   "cell_type": "code",
   "execution_count": 145,
   "id": "4ae7290c-6102-4b92-a8ac-b94d83212720",
   "metadata": {},
   "outputs": [
    {
     "data": {
      "image/png": "[encoded data removed]",
      "text/plain": [
       "plot without title"
      ]
     },
     "metadata": {
      "image/png": {
       "height": 420,
       "width": 420
      }
     },
     "output_type": "display_data"
    }
   ],
   "source": [
    "library(data.table)\n",
    "library(ggplot2)\n",
    "library(scales)\n",
    "library(tidyr)\n",
    "\n",
    "# Convert 'BP' to numeric\n",
    "merged$BP <- as.numeric(merged$BP)\n",
    "\n",
    "# Minimum p-values\n",
    "min_pval_lambda.1se <- min(merged$pval.lambda.1se)\n",
    "min_pval_lambda.min <- min(merged$pval.lambda.min)\n",
    "min_pval_shizhongs_old <- min(merged$pval.shizhongs_old)\n",
    "\n",
    "# Convert numbers to comma-separated format\n",
    "formatted_min_pos <- comma(min(merged$BP))\n",
    "formatted_max_pos <- comma(max(merged$BP))\n",
    "\n",
    "# Convert data to long format\n",
    "df_long <- pivot_longer(merged, cols = c(\"pval.lambda.1se\", \"pval.lambda.min\", \"pval.shizhongs_old\"), \n",
    "                        names_to = \"variable\", values_to = \"pval\")\n",
    "\n",
    "# Plot with detailed title\n",
    "ggplot(df_long, aes(x = BP, y = -log10(pval), color = variable)) +\n",
    "  geom_point(alpha = 0.6) +\n",
    "  labs(x = \"Genomic Position\",\n",
    "       y = \"Log of p-values\",\n",
    "       title = paste(\"Scattergrams of MWAS p-values by Genomic Position\\nCHR:\", unique(merged$CHR),\n",
    "                     \"Positions:\", formatted_min_pos, \"to\", formatted_max_pos),\n",
    "       subtitle = \"Faceted by lambda type\") +\n",
    "  scale_color_manual(values = c(\"pval.lambda.1se\" = \"blue\", \"pval.lambda.min\" = \"red\", \"pval.shizhongs_old\" = \"green\")) +\n",
    "  facet_wrap(~ variable, scales = \"free_y\") +\n",
    "  theme_minimal()\n"
   ]
  },
  {
   "cell_type": "code",
   "execution_count": null,
   "id": "8896045c-cadf-4df4-ae93-31637de111fd",
   "metadata": {},
   "outputs": [],
   "source": []
  }
 ],
 "metadata": {
  "kernelspec": {
   "display_name": "R",
   "language": "R",
   "name": "ir"
  },
  "language_info": {
   "codemirror_mode": "r",
   "file_extension": ".r",
   "mimetype": "text/x-r-source",
   "name": "R",
   "pygments_lexer": "r",
   "version": "4.3.1"
  }
 },
 "nbformat": 4,
 "nbformat_minor": 5
}
