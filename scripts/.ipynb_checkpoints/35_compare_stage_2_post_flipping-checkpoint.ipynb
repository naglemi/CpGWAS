{
 "cells": [
  {
   "cell_type": "markdown",
   "id": "2025b551-fc8b-424b-8327-1828a145fe72",
   "metadata": {},
   "source": [
    "# 35. Compare our stage 2 results to Shizhong's (again)"
   ]
  },
  {
   "cell_type": "markdown",
   "id": "7a957f64-3f14-449e-a997-471133a58c7e",
   "metadata": {},
   "source": [
    "We're doing this again after latest effort to correct flipped allele issue."
   ]
  },
  {
   "cell_type": "code",
   "execution_count": 13,
   "id": "b1892a5a-f0cb-4803-9ae3-f12ea2216c00",
   "metadata": {},
   "outputs": [],
   "source": [
    "library(data.table)\n",
    "library(stringr)"
   ]
  },
  {
   "cell_type": "code",
   "execution_count": null,
   "id": "438e30dd-601c-4d62-bc74-1fcfb87ffc06",
   "metadata": {},
   "outputs": [],
   "source": [
    "files <- list.files(\"/expanse/lustre/projects/jhu152/naglemi/mwas/CpGWAS/output_EXPANSE_a2_caud\",\n",
    "                    pattern = \"csv\", full.names = TRUE)\n",
    "\n",
    "i <- 1\n",
    "\n",
    "file <- files[i]\n",
    "\n",
    "file_in <- fread(file)\n",
    "\n",
    "file_in$chr <- as.numeric(sub(\".*libd_chr([0-9]+)-.*\", \"\\\\1\", file))"
   ]
  },
  {
   "cell_type": "code",
   "execution_count": 18,
   "id": "2ee8a07e-d803-418a-835b-21156d1d1cae",
   "metadata": {},
   "outputs": [
    {
     "data": {
      "text/html": [
       "<table class=\"dataframe\">\n",
       "<caption>A data.table: 6 × 5</caption>\n",
       "<thead>\n",
       "\t<tr><th scope=col>z</th><th scope=col>p</th><th scope=col>n</th><th scope=col>bp</th><th scope=col>chr</th></tr>\n",
       "\t<tr><th scope=col>&lt;dbl&gt;</th><th scope=col>&lt;dbl&gt;</th><th scope=col>&lt;int&gt;</th><th scope=col>&lt;int&gt;</th><th scope=col>&lt;dbl&gt;</th></tr>\n",
       "</thead>\n",
       "<tbody>\n",
       "\t<tr><td>-0.4741791</td><td>0.6353722</td><td>7</td><td>89222649</td><td>1</td></tr>\n",
       "\t<tr><td>-0.4919653</td><td>0.6227439</td><td>8</td><td>89223098</td><td>1</td></tr>\n",
       "\t<tr><td>-0.4803907</td><td>0.6309496</td><td>8</td><td>89223126</td><td>1</td></tr>\n",
       "\t<tr><td>-0.4887827</td><td>0.6249956</td><td>8</td><td>89223181</td><td>1</td></tr>\n",
       "\t<tr><td>-0.5029845</td><td>0.6149752</td><td>9</td><td>89223534</td><td>1</td></tr>\n",
       "\t<tr><td>-0.5033291</td><td>0.6147329</td><td>9</td><td>89223545</td><td>1</td></tr>\n",
       "</tbody>\n",
       "</table>\n"
      ],
      "text/latex": [
       "A data.table: 6 × 5\n",
       "\\begin{tabular}{lllll}\n",
       " z & p & n & bp & chr\\\\\n",
       " <dbl> & <dbl> & <int> & <int> & <dbl>\\\\\n",
       "\\hline\n",
       "\t -0.4741791 & 0.6353722 & 7 & 89222649 & 1\\\\\n",
       "\t -0.4919653 & 0.6227439 & 8 & 89223098 & 1\\\\\n",
       "\t -0.4803907 & 0.6309496 & 8 & 89223126 & 1\\\\\n",
       "\t -0.4887827 & 0.6249956 & 8 & 89223181 & 1\\\\\n",
       "\t -0.5029845 & 0.6149752 & 9 & 89223534 & 1\\\\\n",
       "\t -0.5033291 & 0.6147329 & 9 & 89223545 & 1\\\\\n",
       "\\end{tabular}\n"
      ],
      "text/markdown": [
       "\n",
       "A data.table: 6 × 5\n",
       "\n",
       "| z &lt;dbl&gt; | p &lt;dbl&gt; | n &lt;int&gt; | bp &lt;int&gt; | chr &lt;dbl&gt; |\n",
       "|---|---|---|---|---|\n",
       "| -0.4741791 | 0.6353722 | 7 | 89222649 | 1 |\n",
       "| -0.4919653 | 0.6227439 | 8 | 89223098 | 1 |\n",
       "| -0.4803907 | 0.6309496 | 8 | 89223126 | 1 |\n",
       "| -0.4887827 | 0.6249956 | 8 | 89223181 | 1 |\n",
       "| -0.5029845 | 0.6149752 | 9 | 89223534 | 1 |\n",
       "| -0.5033291 | 0.6147329 | 9 | 89223545 | 1 |\n",
       "\n"
      ],
      "text/plain": [
       "  z          p         n bp       chr\n",
       "1 -0.4741791 0.6353722 7 89222649 1  \n",
       "2 -0.4919653 0.6227439 8 89223098 1  \n",
       "3 -0.4803907 0.6309496 8 89223126 1  \n",
       "4 -0.4887827 0.6249956 8 89223181 1  \n",
       "5 -0.5029845 0.6149752 9 89223534 1  \n",
       "6 -0.5033291 0.6147329 9 89223545 1  "
      ]
     },
     "metadata": {},
     "output_type": "display_data"
    }
   ],
   "source": [
    "head(file_in)"
   ]
  },
  {
   "cell_type": "code",
   "execution_count": null,
   "id": "44c9d5bf-3948-4079-91c6-8613d55eca91",
   "metadata": {},
   "outputs": [],
   "source": [
    "results <- rbindlist(lapply(files, function(file) {\n",
    "  file_in <- fread(file)\n",
    "  file_in[, chr := as.numeric(sub(\".*libd_chr([0-9]+)-.*\", \"\\\\1\", file))]\n",
    "  file_in\n",
    "}), use.names = TRUE, fill = TRUE)"
   ]
  },
  {
   "cell_type": "code",
   "execution_count": null,
   "id": "12d9324c-ebe9-4f70-9b1a-fe1ca87c9494",
   "metadata": {},
   "outputs": [],
   "source": []
  }
 ],
 "metadata": {
  "kernelspec": {
   "display_name": "R",
   "language": "R",
   "name": "ir"
  },
  "language_info": {
   "codemirror_mode": "r",
   "file_extension": ".r",
   "mimetype": "text/x-r-source",
   "name": "R",
   "pygments_lexer": "r",
   "version": "4.3.1"
  }
 },
 "nbformat": 4,
 "nbformat_minor": 5
}
