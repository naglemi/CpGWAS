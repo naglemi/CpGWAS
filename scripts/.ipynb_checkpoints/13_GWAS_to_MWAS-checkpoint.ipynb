{
 "cells": [
  {
   "cell_type": "markdown",
   "id": "188aa11c-a8c1-462d-bbf3-e443a275f309",
   "metadata": {},
   "source": [
    "# Use GWAS summary stats for SNP->CpG->trait MWAS"
   ]
  },
  {
   "cell_type": "code",
   "execution_count": 1,
   "id": "4f5923dd-d98b-4a52-889e-38bf2f84d257",
   "metadata": {},
   "outputs": [
    {
     "name": "stderr",
     "output_type": "stream",
     "text": [
      "Warning message:\n",
      "“undefined slot classes in definition of \"MWASmodel\": methylationBase(class \"MethylationBase\")”\n"
     ]
    }
   ],
   "source": [
    "#' MWAS function\n",
    "#'\n",
    "#' Performs methylation-wide association study analysis.\n",
    "#'\n",
    "#' @param z Z-scores for effect of SNPs on external phenotype.\n",
    "#' @param w Weights for effect of SNPs on methylation.\n",
    "#' @param G SNP genotype matrix.\n",
    "#' @return Named vector containing z-score, p-value, and the number of weights.\n",
    "#' @export\n",
    "mwas <- function(z, w, G){   \n",
    "  if(length(w) > 1){\n",
    "    # z-scores for effect of SNPs on external phenotype\n",
    "    #. are weighted according to weights for effect of SNPs on methylation\n",
    "    z <- z %*% w\n",
    "    # compute correlation matrix of SNP matrix, which captures LD structure\n",
    "    z.cor <- cor(G)\n",
    "    # add small value to diagonal to avoid singular matrix\n",
    "    #  which may otherwise happen if two SNPs in perfect LD\n",
    "    z.cor <- z.cor + diag(dim(z.cor)[1])*0.1 \n",
    "    # variance of correlated variables is weighted sum \n",
    "    # multiplying w by corr matrix once gives a vector representing\n",
    "    #. the variance of each individual SNP and the extent to which they are\n",
    "    #. influenced by other SNPs. Multiplying again by w sums up pairwise contributions\n",
    "    #. and reflects total variance of weighted sum.\n",
    "    #. the first w is automatically transposed by R so we don't have to write t(w)\n",
    "    se <- sqrt(w %*%  z.cor %*%  w)\n",
    "    z <- z/se\n",
    "    p <- pnorm(abs(z), lower.tail=F)*2\n",
    "    return(c(z=z, p=p, n=length(w)))\n",
    "  } else {\n",
    "    p <- pnorm(abs(z), lower.tail=F)*2\n",
    "    return(c(z=z, p=p, n=1))\n",
    "  }\n",
    "}\n",
    "\n",
    "#' MWASmodel class\n",
    "#' @export\n",
    "setClass(\n",
    "  \"MWASmodel\",\n",
    "  representation(\n",
    "    methylationBase = \"MethylationBase\",\n",
    "    #summary_stats = \"data.table\",\n",
    "    mwas_out = \"numeric\"\n",
    "  )\n",
    ")\n",
    "\n",
    "#' MWASmodel constructor\n",
    "#' @param methylationBase MethylationBase object\n",
    "#' @param summary_stats Data table of summary statistics\n",
    "#' @param mwas_out Numeric vector of MWAS output\n",
    "#' @return MWASmodel object\n",
    "#' @export\n",
    "MWASmodel <- function(methylationBase,\n",
    "                      #summary_stats,\n",
    "                      mwas_out) {\n",
    "  new(\"MWASmodel\",\n",
    "      methylationBase = methylationBase,\n",
    "      #summary_stats = summary_stats,\n",
    "      mwas_out = mwas_out)\n",
    "}\n",
    "\n",
    "#' Process a single MWAS model\n",
    "#'\n",
    "#' @param methylationBase MethylationBase object\n",
    "#' @param my_SNPs SNP data\n",
    "#' @param summary_stats Data table of summary statistics\n",
    "#' @return MWASmodel object\n",
    "#' @export\n",
    "#' @importFrom stringr str_split_fixed\n",
    "#' @importFrom data.table as.data.table setnames setkey\n",
    "#' @importFrom data.table `%chin%`\n",
    "#' @importFrom pgenlibr ReadList\n",
    "process_model <- function(methylationBase, my_SNPs, summary_stats) {\n",
    "  \n",
    "  SNP_split <- stringr::str_split_fixed(names(methylationBase@snpWeights), \":\", 4)\n",
    "  SNP_split[,1] <- gsub(\"chr\", \"\", SNP_split[,1])\n",
    "  # Convert SNP_split to data.table and set integer types\n",
    "  SNP_split_dt <- as.data.table(SNP_split)\n",
    "  setnames(SNP_split_dt, c(\"chr\", \"post\", \"ref\", \"alt\"))\n",
    "  SNP_split_dt[, `:=`(chr = as.integer(chr), post = as.integer(post))]\n",
    "  \n",
    "  setkey(SNP_split_dt, chr, post)\n",
    "  \n",
    "  # Use a join with the keys\n",
    "  relevant_SNP_indices <- my_SNPs$pvar_dt[SNP_split_dt, on = .(`#CHROM` = chr, POS = post), which = TRUE, nomatch = 0]\n",
    "  # We only want summary stats for the specific SNPs contributing to this\n",
    "  #. methylation site in our model\n",
    "  relevant_ids <- my_SNPs$pvar_dt$ID[relevant_SNP_indices]\n",
    "  \n",
    "  # Subset summary_stats in constant time using a keyed join\n",
    "  #recover()\n",
    "  summary_stats_sub <- summary_stats[relevant_ids, nomatch = 0]\n",
    "  \n",
    "  #summary_stats_sub <- summary_stats[SNP %chin% relevant_ids]\n",
    "  # # z is a vector of the SNP weights from GWAS summary statistics\n",
    "  # z <- summary_stats_sub$logOR\n",
    "  # \n",
    "  # # w is a vector of the SNP weights from the CpGWAS model\n",
    "  # w <- methylationBase@snpWeights[relevant_SNP_indices]\n",
    "  \n",
    "  # Ensuring the order matches and handling unmatched positions\n",
    "  if(!identical(summary_stats_sub$BP, as.integer(SNP_split[, 2]))){\n",
    "    summary_stats_sub <- summary_stats_sub[order(summary_stats_sub$BP), ]\n",
    "    if(!identical(summary_stats_sub$BP, as.integer(SNP_split[, 2]))){\n",
    "      # Identify positions in SNP_split not found in summary_stats_sub$BP\n",
    "      unmatched_positions <- !SNP_split[, 2] %in% summary_stats_sub$BP\n",
    "      if (any(unmatched_positions)) {\n",
    "        # Remove rows from SNP_split where positions do not match any in summary_stats_sub$BP\n",
    "        SNP_split <- SNP_split[!unmatched_positions, ]\n",
    "        # Assuming you would need to recompute the relevant SNP indices and stats\n",
    "        relevant_SNP_indices <- my_SNPs$pvar_dt[SNP_split, on = .(`#CHROM` = chr, POS = pos), which = TRUE, nomatch = 0]\n",
    "        relevant_ids <- my_SNPs$pvar_dt$ID[relevant_SNP_indices]\n",
    "        summary_stats_sub <- summary_stats[relevant_ids, nomatch = 0]\n",
    "      }\n",
    "      # Check again after removing unmatched positions\n",
    "      if(!identical(summary_stats_sub$BP, as.integer(SNP_split[, 2]))) {\n",
    "        stop(\"SNP order does not match even after removing unmatched positions. This should not happen. Code is broken.\")\n",
    "      }\n",
    "    }\n",
    "  }\n",
    "  \n",
    "  # need to make sure direction is right\n",
    "  if(!identical(SNP_split[, 4], summary_stats_sub$A2) |\n",
    "     !identical(SNP_split[, 3], summary_stats_sub$A1)){\n",
    "    not_matching <- which(SNP_split[, 4] != summary_stats_sub$A2)\n",
    "    # Flip our data to match the summary stats for these\n",
    "    summary_stats_ref_flipped <- SNP_split[, 3][not_matching]\n",
    "    summary_stats_alt_flipped <- SNP_split[, 4][not_matching]\n",
    "    SNP_split[, 3][not_matching] <- summary_stats_alt_flipped\n",
    "    SNP_split[, 4][not_matching] <- summary_stats_ref_flipped\n",
    "    methylationBase@snpWeights[not_matching] <-\n",
    "      methylationBase@snpWeights[not_matching] * -1\n",
    "  }\n",
    "  \n",
    "  # Subset the genotype data\n",
    "  G <- pgenlibr::ReadList(my_SNPs$pgen,\n",
    "                          variant_subset = relevant_SNP_indices)\n",
    "  \n",
    "  mwas_out <- mwas(z = summary_stats_sub$BETA,\n",
    "                   w = methylationBase@snpWeights,\n",
    "                   G = G)\n",
    "  \n",
    "  MWASmodel(methylationBase,\n",
    "            #summary_stats_sub,\n",
    "            mwas_out)\n",
    "}\n",
    "\n",
    "#' MWASresults class\n",
    "#' @export\n",
    "setClass(\n",
    "  \"MWASresults\",\n",
    "  representation(\n",
    "    MWASmodels = \"list\",\n",
    "    pvar_path = \"character\",\n",
    "    pgen_path = \"character\",\n",
    "    psam_path = \"character\",\n",
    "    summary_stats_path = \"character\",\n",
    "    rds_path = \"character\"\n",
    "  )\n",
    ")\n",
    "\n",
    "#' MWASresults constructor\n",
    "#' @param MWASmodels List of MWASmodel objects\n",
    "#' @param pvar_path Path to pvar file\n",
    "#' @param pgen_path Path to pgen file\n",
    "#' @param psam_path Path to psam file\n",
    "#' @param summary_stats_path Path to summary statistics file\n",
    "#' @param rds_path Path to RDS file\n",
    "#' @return MWASresults object\n",
    "#' @export\n",
    "MWASresults <- function(MWASmodels, pvar_path, pgen_path, psam_path, summary_stats_path, rds_path) {\n",
    "  new(\"MWASresults\",\n",
    "      MWASmodels = MWASmodels,\n",
    "      pvar_path = pvar_path,\n",
    "      pgen_path = pgen_path,\n",
    "      psam_path = psam_path,\n",
    "      summary_stats_path = summary_stats_path,\n",
    "      rds_path = rds_path)\n",
    "}\n",
    "\n",
    "#' Clean and standardize column names\n",
    "#'\n",
    "#' @param summary_stats Data table of summary statistics\n",
    "#' @return Data table with standardized column names\n",
    "#' @export\n",
    "#' @importFrom stringr str_split\n",
    "clean_and_standardize_colnames <- function(summary_stats) {\n",
    "  # Check if the header is tab-delimited while the rest is space-delimited\n",
    "  if (grepl(\"\\t\", colnames(summary_stats)[1])) {\n",
    "    real_colnames <- str_split(colnames(summary_stats)[1], \"\\t\")[[1]]\n",
    "    colnames(summary_stats) <- real_colnames\n",
    "  }\n",
    "  \n",
    "  # Standardize column names\n",
    "  colnames(summary_stats) <- gsub(\"chr\", \"CHR\", colnames(summary_stats))\n",
    "  colnames(summary_stats) <- gsub(\"pos\", \"BP\", colnames(summary_stats))\n",
    "  colnames(summary_stats) <- gsub(\"POS\", \"BP\", colnames(summary_stats))\n",
    "  colnames(summary_stats) <- gsub(\"MarkerName\", \"SNP\", colnames(summary_stats))\n",
    "  colnames(summary_stats) <- gsub(\"ID\", \"SNP\", colnames(summary_stats))\n",
    "  colnames(summary_stats) <- gsub(\"LogOR\", \"logOR\", colnames(summary_stats))\n",
    "  \n",
    "  # If there's no logOR columns, create one, which will be log of OR column\n",
    "  # but we only do this if there's already an OR column\n",
    "  if(!\"logOR\" %in% colnames(summary_stats)) {\n",
    "    if(\"OR\" %in% colnames(summary_stats)) {\n",
    "      summary_stats[, logOR := log(OR)]\n",
    "    }\n",
    "  }\n",
    "  \n",
    "  colnames(summary_stats) <- gsub(\"logOR\", \"BETA\", colnames(summary_stats))\n",
    "  # Convert summary_stats to a keyed data.table for fast lookups\n",
    "  setkey(summary_stats, SNP)\n",
    "  \n",
    "  return(summary_stats)\n",
    "}\n",
    "\n",
    "#' Process MWAS models\n",
    "#'\n",
    "#' @param my_rds An object containing models\n",
    "#' @param my_SNPs SNP data\n",
    "#' @param summary_stats Data table of summary statistics\n",
    "#' @param paths List of paths to data files\n",
    "#' @param summary_stats_path Path to summary statistics file\n",
    "#' @return MWASresults object\n",
    "#' @export\n",
    "#' @importFrom progress progress_bar\n",
    "#' @importFrom data.table setkey\n",
    "process_MWAS_models <- function(my_rds, my_SNPs, paths, summary_stats_path, rds_path, summary_stats = NULL) {\n",
    "  # pb <- progress_bar$new(\n",
    "  #   format = \"[:bar] :percent eta: :eta\",\n",
    "  #   total = length(my_rds@models), clear = FALSE, width = 60\n",
    "  # )\n",
    "  \n",
    "  MWASmodels <- vector(\"list\", length(my_rds@models))\n",
    "  \n",
    "  if(is.null(summary_stats)) {\n",
    "    summary_stats <- suppressWarnings(fread(summary_stats_path))\n",
    "    summary_stats <- clean_and_standardize_colnames(summary_stats)\n",
    "  }\n",
    "\n",
    "  for (i in seq_along(my_rds@models)) {\n",
    "    this_MethylationBase <- my_rds@models[[i]]\n",
    "    MWASmodels[[i]] <- process_model(this_MethylationBase, my_SNPs, summary_stats)\n",
    "    #pb$tick()\n",
    "  }\n",
    "  \n",
    "  # Ensure the lengths of my_rds@models and MWASmodels are the same\n",
    "  stopifnot(length(my_rds@models) == length(MWASmodels))\n",
    "  \n",
    "  results <- MWASresults(MWASmodels, paths$pvar_path, paths$pgen_path, paths$psam_path, summary_stats_path, rds_path)\n",
    "  \n",
    "  return(results)\n",
    "}"
   ]
  },
  {
   "cell_type": "code",
   "execution_count": 2,
   "id": "6107f4a5-346c-42db-bd94-106c78eea369",
   "metadata": {},
   "outputs": [
    {
     "name": "stderr",
     "output_type": "stream",
     "text": [
      "\n",
      "Attaching package: ‘CpGWAS’\n",
      "\n",
      "\n",
      "The following objects are masked _by_ ‘.GlobalEnv’:\n",
      "\n",
      "    clean_and_standardize_colnames, mwas, MWASmodel, MWASresults,\n",
      "    process_model, process_MWAS_models\n",
      "\n",
      "\n"
     ]
    }
   ],
   "source": [
    "library(CpGWAS)\n",
    "library(data.table)\n",
    "library(stringr)"
   ]
  },
  {
   "cell_type": "code",
   "execution_count": 3,
   "id": "aba4efd0-23fd-4157-b07b-38243d3ce1da",
   "metadata": {},
   "outputs": [],
   "source": [
    "genome_files <- list.files(\"/expanse/lustre/projects/jhu152/naglemi/mwas/gwas\",\n",
    "                           pattern = \"EUR\", full.names = TRUE)\n",
    "genome_files <- genome_files[grepl(\"pvar\", genome_files)]"
   ]
  },
  {
   "cell_type": "code",
   "execution_count": 4,
   "id": "fe5b05ef-fbc4-4bb0-882b-c2e753ac2497",
   "metadata": {},
   "outputs": [],
   "source": [
    "genome_files <- data.table(path = genome_files,\n",
    "                           Chr = NA)"
   ]
  },
  {
   "cell_type": "code",
   "execution_count": 5,
   "id": "b5c0370d-b8be-449a-811d-ee5360ce1c04",
   "metadata": {},
   "outputs": [],
   "source": [
    "genome_files$Chr <- str_split_fixed(genome_files$path,\n",
    "                                    \"chr\",\n",
    "                                    2)[,2]\n",
    "genome_files$Chr <- gsub(\".pvar\", \"\", genome_files$Chr)"
   ]
  },
  {
   "cell_type": "code",
   "execution_count": 6,
   "id": "0d05982b-a160-4e31-a57b-0f3947e30f7c",
   "metadata": {},
   "outputs": [],
   "source": [
    "genome_files$Chr <- as.integer(genome_files$Chr)\n",
    "genome_files <- genome_files[order(genome_files$Chr), ]"
   ]
  },
  {
   "cell_type": "code",
   "execution_count": 7,
   "id": "a2d2af79-bc6a-44a5-8587-82d3069fcbb8",
   "metadata": {},
   "outputs": [],
   "source": [
    "df <- fread(\"12-OUT_matched_SNP_meth_cov_outputs.csv\")"
   ]
  },
  {
   "cell_type": "code",
   "execution_count": 8,
   "id": "e03885ec-d259-4903-bb6e-028eeae1218f",
   "metadata": {},
   "outputs": [],
   "source": [
    "summary_stats_list <-  list.files(\"/expanse/lustre/projects/jhu152/naglemi/mwas/gwas\",\n",
    "                                  pattern = \"stat\", full.names = TRUE)"
   ]
  },
  {
   "cell_type": "code",
   "execution_count": 9,
   "id": "d5cd1025-05b7-4ac7-b9ea-af9aa15c10fb",
   "metadata": {},
   "outputs": [],
   "source": [
    "#   FOR THIS TO BE EFFICIENT WE MUST LOAD IN SUMMARY STATS FIRST INSTEAD OF PASSING PATH"
   ]
  },
  {
   "cell_type": "code",
   "execution_count": 10,
   "id": "ea8ce11b-23f8-4f72-baeb-15d66600cf5c",
   "metadata": {},
   "outputs": [],
   "source": [
    "# Pre-load all summary stats files into a list and clean/standardize column names\n",
    "summary_stats_data <- lapply(summary_stats_list, function(path) {\n",
    "  stats <- suppressWarnings(data.table::fread(path))\n",
    "  clean_and_standardize_colnames(stats)\n",
    "})"
   ]
  },
  {
   "cell_type": "code",
   "execution_count": 11,
   "id": "e9fcdedf-ef9c-4f05-9120-5f257b73f7fd",
   "metadata": {},
   "outputs": [
    {
     "data": {
      "text/plain": [
       "[1] \"2024-06-12 10:38:17 PDT\""
      ]
     },
     "metadata": {},
     "output_type": "display_data"
    }
   ],
   "source": [
    "Sys.time()"
   ]
  },
  {
   "cell_type": "code",
   "execution_count": 12,
   "id": "de2bc505-0370-4246-a45c-0f1700dc7972",
   "metadata": {},
   "outputs": [
    {
     "name": "stdout",
     "output_type": "stream",
     "text": [
      "                                                                  path   Chr\n",
      "                                                                <char> <int>\n",
      "1: /expanse/lustre/projects/jhu152/naglemi/mwas/gwas/ref_EUR_chr1.pvar     1\n"
     ]
    },
    {
     "ename": "ERROR",
     "evalue": "Error: i is invalid type (matrix). Perhaps in future a 2 column matrix could return a list of elements of DT (in the spirit of A[B] in FAQ 2.14). Please report to data.table issue tracker if you'd like this, or add your comments to FR #657.\n",
     "output_type": "error",
     "traceback": [
      "Error: i is invalid type (matrix). Perhaps in future a 2 column matrix could return a list of elements of DT (in the spirit of A[B] in FAQ 2.14). Please report to data.table issue tracker if you'd like this, or add your comments to FR #657.\nTraceback:\n",
      "1. my_SNPs$pvar_dt[SNP_split, on = .(`#CHROM` = chr, POS = pos), \n .     which = TRUE, nomatch = 0]",
      "2. `[.data.table`(my_SNPs$pvar_dt, SNP_split, on = .(`#CHROM` = chr, \n .     POS = pos), which = TRUE, nomatch = 0)",
      "3. stopf(\"i is invalid type (matrix). Perhaps in future a 2 column matrix could return a list of elements of DT (in the spirit of A[B] in FAQ 2.14). Please report to data.table issue tracker if you'd like this, or add your comments to FR #657.\")",
      "4. stop(gettextf(fmt, ..., domain = domain), domain = NA, call. = FALSE)"
     ]
    }
   ],
   "source": [
    "library(profvis)\n",
    "\n",
    "#profvis({\n",
    "\n",
    "# Loop over the loaded objects instead of paths\n",
    "for(i in 1:nrow(genome_files)){\n",
    "#for(i in 1){\n",
    "    print(genome_files[i])\n",
    "    paths <- list(pvar_path = genome_files[i]$path,\n",
    "                  pgen_path = gsub(\"pvar\", \"pgen\", genome_files[i]$path),\n",
    "                  psam_path = gsub(\"pvar\", \"psam\", genome_files[i]$path))\n",
    "\n",
    "    my_SNPs <- CpGWAS::loadSNPData(paths$pvar_path, paths$pgen_path, paths$psam_path)\n",
    "    setkey(my_SNPs$pvar_dt, `#CHROM`, POS)\n",
    "    df_this_chr <- df[which(df$Chr == genome_files[i]$Chr), ]\n",
    "\n",
    "#    for(j in 1){\n",
    "    for(j in 1:nrow(df_this_chr)){\n",
    "        #print(df_this_chr$path[j])\n",
    "        if(grepl(\"empty\", df_this_chr$path[j])){\n",
    "            message(paste0(\"no model for \", df_this_chr$path[j]))\n",
    "            next\n",
    "        }\n",
    "\n",
    "        my_rds <- readRDS(df_this_chr$path[j])\n",
    "\n",
    "#        for(k in 1){\n",
    "        for(k in 1:length(summary_stats_list)){\n",
    "            #print(summary_stats_list[[k]])\n",
    "            summary_stats <- summary_stats_data[[k]]  # Use pre-loaded and cleaned summary stats\n",
    "\n",
    "            # Unpacking process_MWAS_models here\n",
    "            MWASmodels <- vector(\"list\", length(my_rds@models))\n",
    "            if(is.null(summary_stats)) {\n",
    "                summary_stats <- suppressWarnings(fread(summary_stats_list[[k]]))\n",
    "                summary_stats <- clean_and_standardize_colnames(summary_stats)\n",
    "            }\n",
    "\n",
    "            for (i in seq_along(my_rds@models)) {\n",
    "                this_MethylationBase <- my_rds@models[[i]]\n",
    "                \n",
    "                # Unpacking process_model here\n",
    "                SNP_split <- stringr::str_split_fixed(names(this_MethylationBase@snpWeights), \":\", 4)\n",
    "                SNP_split[,1] <- gsub(\"chr\", \"\", SNP_split[,1])\n",
    "                SNP_split_dt <- data.table::as.data.table(SNP_split)\n",
    "                data.table::setnames(SNP_split_dt, c(\"chr\", \"post\", \"ref\", \"alt\"))\n",
    "                SNP_split_dt[, `:=`(chr = as.integer(chr), post = as.integer(post))]\n",
    "                data.table::setkey(SNP_split_dt, chr, post)\n",
    "\n",
    "                relevant_SNP_indices <- my_SNPs$pvar_dt[SNP_split_dt, on = .(`#CHROM` = chr, POS = post), which = TRUE, nomatch = 0]\n",
    "                relevant_ids <- my_SNPs$pvar_dt$ID[relevant_SNP_indices]\n",
    "                summary_stats_sub <- summary_stats[relevant_ids, nomatch = 0]\n",
    "\n",
    "                # Ensuring the order matches and handling unmatched positions\n",
    "                if(!identical(summary_stats_sub$BP, SNP_split_dt$post)){\n",
    "                    # Order summary_stats_sub by BP\n",
    "                    summary_stats_sub <- summary_stats_sub[order(summary_stats_sub$BP), ]\n",
    "                    if(!identical(summary_stats_sub$BP, SNP_split_dt$post)){\n",
    "                        # Identify positions in SNP_split not found in summary_stats_sub$BP\n",
    "                        unmatched_positions <- !SNP_split_dt$post %in% summary_stats_sub$BP\n",
    "                        if (any(unmatched_positions)) {\n",
    "                            # Remove rows from SNP_split where positions do not match any in summary_stats_sub$BP\n",
    "                            SNP_split_dt <- SNP_split_dt[!unmatched_positions, ]\n",
    "                            # Assuming you would need to recompute the relevant SNP indices and stats\n",
    "                            relevant_SNP_indices <- my_SNPs$pvar_dt[SNP_split_dt, on = .(`#CHROM` = chr, POS = post), which = TRUE, nomatch = 0]\n",
    "                            relevant_ids <- my_SNPs$pvar_dt$ID[relevant_SNP_indices]\n",
    "                            summary_stats_sub <- summary_stats[relevant_ids, nomatch = 0]\n",
    "                        }\n",
    "                        # Check again after removing unmatched positions\n",
    "                        if(!identical(summary_stats_sub$BP, SNP_split_dt$post)) {\n",
    "                            stop(\"SNP order does not match even after removing unmatched positions. This should not happen. Code is broken.\")\n",
    "                        }\n",
    "                    }\n",
    "                }\n",
    "\n",
    "\n",
    "                if(!identical(SNP_split[, 4], summary_stats_sub$A2) |\n",
    "                    !identical(SNP_split[, 3], summary_stats_sub$A1)){\n",
    "                    not_matching <- which(SNP_split[, 4] != summary_stats_sub$A2)\n",
    "                    summary_stats_ref_flipped <- SNP_split[, 3][not_matching]\n",
    "                    summary_stats_alt_flipped <- SNP_split[, 4][not_matching]\n",
    "                    SNP_split[, 3][not_matching] <- summary_stats_alt_flipped\n",
    "                    SNP_split[, 4][not_matching] <- summary_stats_ref_flipped\n",
    "                    this_MethylationBase@snpWeights[not_matching] <-\n",
    "                        this_MethylationBase@snpWeights[not_matching] * -1\n",
    "                }\n",
    "\n",
    "                G <- pgenlibr::ReadList(my_SNPs$pgen, variant_subset = relevant_SNP_indices)\n",
    "                mwas_out <- mwas(z = summary_stats_sub$BETA,\n",
    "                                 w = this_MethylationBase@snpWeights,\n",
    "                                 G = G)\n",
    "\n",
    "                MWASmodels[[i]] <- mwas_out  # Assuming MWASmodel is a simple function to wrap results\n",
    "                \n",
    "            }\n",
    "\n",
    "            results <- MWASresults(MWASmodels, paths$pvar_path, paths$pgen_path, paths$psam_path, summary_stats_list[[k]], df_this_chr$path[j])\n",
    "\n",
    "            # Saving results\n",
    "            outname <- gsub(\"\\\\.rds$\", \n",
    "                            paste0(\"_\", \n",
    "                                   basename(tools::file_path_sans_ext(summary_stats_list[[k]])), \n",
    "                                   \"_results.rds\"), \n",
    "                            df_this_chr$path[j])\n",
    "            \n",
    "            #message(paste0(\"saving to \", outname))\n",
    "            #message(Sys.time())\n",
    "            saveRDS(results, outname)\n",
    "        }\n",
    "    }\n",
    "}\n",
    "\n",
    "#    })"
   ]
  },
  {
   "cell_type": "code",
   "execution_count": 16,
   "id": "7a07c197-7363-4f9e-b0f8-5e6da3a76ef6",
   "metadata": {},
   "outputs": [
    {
     "data": {
      "text/html": [
       "<table class=\"dataframe\">\n",
       "<caption>A matrix: 11 × 4 of type chr</caption>\n",
       "<tbody>\n",
       "\t<tr><td>1</td><td>3944190</td><td>C</td><td>T</td></tr>\n",
       "\t<tr><td>1</td><td>3944339</td><td>C</td><td>G</td></tr>\n",
       "\t<tr><td>1</td><td>3945118</td><td>G</td><td>A</td></tr>\n",
       "\t<tr><td>1</td><td>3945487</td><td>C</td><td>T</td></tr>\n",
       "\t<tr><td>1</td><td>3945488</td><td>A</td><td>G</td></tr>\n",
       "\t<tr><td>1</td><td>3946000</td><td>T</td><td>C</td></tr>\n",
       "\t<tr><td>1</td><td>3946611</td><td>G</td><td>A</td></tr>\n",
       "\t<tr><td>1</td><td>3946728</td><td>C</td><td>T</td></tr>\n",
       "\t<tr><td>1</td><td>3946948</td><td>A</td><td>G</td></tr>\n",
       "\t<tr><td>1</td><td>3947050</td><td>A</td><td>G</td></tr>\n",
       "\t<tr><td>1</td><td>3947498</td><td>C</td><td>A</td></tr>\n",
       "</tbody>\n",
       "</table>\n"
      ],
      "text/latex": [
       "A matrix: 11 × 4 of type chr\n",
       "\\begin{tabular}{llll}\n",
       "\t 1 & 3944190 & C & T\\\\\n",
       "\t 1 & 3944339 & C & G\\\\\n",
       "\t 1 & 3945118 & G & A\\\\\n",
       "\t 1 & 3945487 & C & T\\\\\n",
       "\t 1 & 3945488 & A & G\\\\\n",
       "\t 1 & 3946000 & T & C\\\\\n",
       "\t 1 & 3946611 & G & A\\\\\n",
       "\t 1 & 3946728 & C & T\\\\\n",
       "\t 1 & 3946948 & A & G\\\\\n",
       "\t 1 & 3947050 & A & G\\\\\n",
       "\t 1 & 3947498 & C & A\\\\\n",
       "\\end{tabular}\n"
      ],
      "text/markdown": [
       "\n",
       "A matrix: 11 × 4 of type chr\n",
       "\n",
       "| 1 | 3944190 | C | T |\n",
       "| 1 | 3944339 | C | G |\n",
       "| 1 | 3945118 | G | A |\n",
       "| 1 | 3945487 | C | T |\n",
       "| 1 | 3945488 | A | G |\n",
       "| 1 | 3946000 | T | C |\n",
       "| 1 | 3946611 | G | A |\n",
       "| 1 | 3946728 | C | T |\n",
       "| 1 | 3946948 | A | G |\n",
       "| 1 | 3947050 | A | G |\n",
       "| 1 | 3947498 | C | A |\n",
       "\n"
      ],
      "text/plain": [
       "      [,1] [,2]    [,3] [,4]\n",
       " [1,] 1    3944190 C    T   \n",
       " [2,] 1    3944339 C    G   \n",
       " [3,] 1    3945118 G    A   \n",
       " [4,] 1    3945487 C    T   \n",
       " [5,] 1    3945488 A    G   \n",
       " [6,] 1    3946000 T    C   \n",
       " [7,] 1    3946611 G    A   \n",
       " [8,] 1    3946728 C    T   \n",
       " [9,] 1    3946948 A    G   \n",
       "[10,] 1    3947050 A    G   \n",
       "[11,] 1    3947498 C    A   "
      ]
     },
     "metadata": {},
     "output_type": "display_data"
    }
   ],
   "source": [
    "SNP_split"
   ]
  },
  {
   "cell_type": "code",
   "execution_count": 13,
   "id": "0d4eb2c8-dfaf-4e9d-8567-71ce58a7be4b",
   "metadata": {},
   "outputs": [
    {
     "data": {
      "text/html": [
       "9"
      ],
      "text/latex": [
       "9"
      ],
      "text/markdown": [
       "9"
      ],
      "text/plain": [
       "[1] 9"
      ]
     },
     "metadata": {},
     "output_type": "display_data"
    }
   ],
   "source": [
    "j"
   ]
  },
  {
   "cell_type": "code",
   "execution_count": 14,
   "id": "6c90647a-7883-46f2-ad09-3875d1cd3c63",
   "metadata": {},
   "outputs": [
    {
     "data": {
      "text/html": [
       "1"
      ],
      "text/latex": [
       "1"
      ],
      "text/markdown": [
       "1"
      ],
      "text/plain": [
       "[1] 1"
      ]
     },
     "metadata": {},
     "output_type": "display_data"
    }
   ],
   "source": [
    "k"
   ]
  },
  {
   "cell_type": "code",
   "execution_count": 15,
   "id": "be129bbd-22e3-4793-a1ac-808542bfd7f9",
   "metadata": {},
   "outputs": [
    {
     "data": {
      "text/html": [
       "7002"
      ],
      "text/latex": [
       "7002"
      ],
      "text/markdown": [
       "7002"
      ],
      "text/plain": [
       "[1] 7002"
      ]
     },
     "metadata": {},
     "output_type": "display_data"
    }
   ],
   "source": [
    "i"
   ]
  },
  {
   "cell_type": "code",
   "execution_count": 18,
   "id": "6ebab61b-c611-4e0c-b75b-6a7b535bbe57",
   "metadata": {},
   "outputs": [
    {
     "data": {
      "text/html": [
       "12"
      ],
      "text/latex": [
       "12"
      ],
      "text/markdown": [
       "12"
      ],
      "text/plain": [
       "[1] 12"
      ]
     },
     "metadata": {},
     "output_type": "display_data"
    }
   ],
   "source": [
    "length(as.integer(SNP_split[, 2]))"
   ]
  },
  {
   "cell_type": "markdown",
   "id": "7904033b-4591-4e4b-8ebf-bc6b06408c4f",
   "metadata": {},
   "source": [
    "We need to address edge case where WE have the SNP but summary stats don't"
   ]
  },
  {
   "cell_type": "code",
   "execution_count": 17,
   "id": "329b35a5-6cea-4f60-8163-70a33dca8f70",
   "metadata": {},
   "outputs": [
    {
     "data": {
      "text/html": [
       "<style>\n",
       ".list-inline {list-style: none; margin:0; padding: 0}\n",
       ".list-inline>li {display: inline-block}\n",
       ".list-inline>li:not(:last-child)::after {content: \"\\00b7\"; padding: 0 .5ex}\n",
       "</style>\n",
       "<ol class=list-inline><li>3944190</li><li>3944339</li><li>3945118</li><li>3945487</li><li>3945488</li><li>3946000</li><li>3946328</li><li>3946611</li><li>3946728</li><li>3946948</li><li>3947050</li><li>3947498</li></ol>\n"
      ],
      "text/latex": [
       "\\begin{enumerate*}\n",
       "\\item 3944190\n",
       "\\item 3944339\n",
       "\\item 3945118\n",
       "\\item 3945487\n",
       "\\item 3945488\n",
       "\\item 3946000\n",
       "\\item 3946328\n",
       "\\item 3946611\n",
       "\\item 3946728\n",
       "\\item 3946948\n",
       "\\item 3947050\n",
       "\\item 3947498\n",
       "\\end{enumerate*}\n"
      ],
      "text/markdown": [
       "1. 3944190\n",
       "2. 3944339\n",
       "3. 3945118\n",
       "4. 3945487\n",
       "5. 3945488\n",
       "6. 3946000\n",
       "7. 3946328\n",
       "8. 3946611\n",
       "9. 3946728\n",
       "10. 3946948\n",
       "11. 3947050\n",
       "12. 3947498\n",
       "\n",
       "\n"
      ],
      "text/plain": [
       " [1] 3944190 3944339 3945118 3945487 3945488 3946000 3946328 3946611 3946728\n",
       "[10] 3946948 3947050 3947498"
      ]
     },
     "metadata": {},
     "output_type": "display_data"
    }
   ],
   "source": [
    "as.integer(SNP_split[, 2])"
   ]
  },
  {
   "cell_type": "code",
   "execution_count": 16,
   "id": "431023c0-d769-4f24-8d82-e97c6c013eb0",
   "metadata": {},
   "outputs": [
    {
     "data": {
      "text/html": [
       "<table class=\"dataframe\">\n",
       "<caption>A data.table: 11 × 16</caption>\n",
       "<thead>\n",
       "\t<tr><th scope=col>#CHROM</th><th scope=col>BP</th><th scope=col>SNP</th><th scope=col>A1</th><th scope=col>A2</th><th scope=col>BETA</th><th scope=col>SE</th><th scope=col>PVAL</th><th scope=col>NGT</th><th scope=col>FCAS</th><th scope=col>FCON</th><th scope=col>IMPINFO</th><th scope=col>NEFFDIV2</th><th scope=col>NCAS</th><th scope=col>NCON</th><th scope=col>DIRE</th></tr>\n",
       "\t<tr><th scope=col>&lt;int&gt;</th><th scope=col>&lt;int&gt;</th><th scope=col>&lt;chr&gt;</th><th scope=col>&lt;chr&gt;</th><th scope=col>&lt;chr&gt;</th><th scope=col>&lt;dbl&gt;</th><th scope=col>&lt;dbl&gt;</th><th scope=col>&lt;dbl&gt;</th><th scope=col>&lt;int&gt;</th><th scope=col>&lt;dbl&gt;</th><th scope=col>&lt;dbl&gt;</th><th scope=col>&lt;dbl&gt;</th><th scope=col>&lt;dbl&gt;</th><th scope=col>&lt;int&gt;</th><th scope=col>&lt;int&gt;</th><th scope=col>&lt;chr&gt;</th></tr>\n",
       "</thead>\n",
       "<tbody>\n",
       "\t<tr><td>1</td><td>3944190</td><td>rs11583257</td><td>C</td><td>T</td><td> 0.004499860</td><td>0.0116</td><td>0.6978</td><td>28</td><td>0.775</td><td>0.783</td><td>0.940</td><td>50035.72</td><td>40997</td><td>370576</td><td>---+---++-+-+-+-+---?+---+++-++-+-+-+-+-+++--+-+++++-+-+-</td></tr>\n",
       "\t<tr><td>1</td><td>3944339</td><td>rs55651676</td><td>C</td><td>G</td><td>-0.005897355</td><td>0.0098</td><td>0.5441</td><td> 1</td><td>0.594</td><td>0.592</td><td>0.942</td><td>50981.48</td><td>41917</td><td>371549</td><td>+++++--++--++++++-+---+++---+--+++---+-++---+-+-----+-+-+</td></tr>\n",
       "\t<tr><td>1</td><td>3945118</td><td>rs72641002</td><td>G</td><td>A</td><td>-0.017899240</td><td>0.0130</td><td>0.1674</td><td> 1</td><td>0.821</td><td>0.810</td><td>0.892</td><td>50035.72</td><td>40997</td><td>370576</td><td>+-+-+++--++--+---+-+?-+++----++--+++++++-++++++++-++++--+</td></tr>\n",
       "\t<tr><td>1</td><td>3945487</td><td>rs77653823</td><td>C</td><td>T</td><td> 0.004201163</td><td>0.0122</td><td>0.7315</td><td> 1</td><td>0.803</td><td>0.813</td><td>0.927</td><td>50981.48</td><td>41917</td><td>371549</td><td>-----+-+---++-+-++--++---+++-++-+-+-+-+++++--+-+++-+-+++-</td></tr>\n",
       "\t<tr><td>1</td><td>3945488</td><td>rs57255582</td><td>A</td><td>G</td><td> 0.003902376</td><td>0.0116</td><td>0.7357</td><td> 1</td><td>0.776</td><td>0.785</td><td>0.948</td><td>50035.72</td><td>40997</td><td>370576</td><td>+++-+++--+-+-+-+-+++?-+++---+--+-+-+-+-+---++-+-----+-+-+</td></tr>\n",
       "\t<tr><td>1</td><td>3946000</td><td>rs7548668 </td><td>T</td><td>C</td><td>-0.007498040</td><td>0.0096</td><td>0.4349</td><td>34</td><td>0.596</td><td>0.594</td><td>0.968</td><td>50981.48</td><td>41917</td><td>371549</td><td>+++++---++-++++++-+---++++--+--++----+-++---+-+--+--+-+-+</td></tr>\n",
       "\t<tr><td>1</td><td>3946611</td><td>rs7526903 </td><td>G</td><td>A</td><td>-0.007296555</td><td>0.0097</td><td>0.4485</td><td> 1</td><td>0.596</td><td>0.594</td><td>0.964</td><td>50981.48</td><td>41917</td><td>371549</td><td>+----+++--+------+-+++----++-++---+++-+--+++-+-++-++-+-+-</td></tr>\n",
       "\t<tr><td>1</td><td>3946728</td><td>rs7551771 </td><td>C</td><td>T</td><td>-0.007598798</td><td>0.0097</td><td>0.4347</td><td> 1</td><td>0.596</td><td>0.593</td><td>0.964</td><td>50981.48</td><td>41917</td><td>371549</td><td>+----+++--+------+-+++---+++-++---+++-+--+++-+-++-++-+-+-</td></tr>\n",
       "\t<tr><td>1</td><td>3946948</td><td>rs7519349 </td><td>A</td><td>G</td><td>-0.008596847</td><td>0.0099</td><td>0.3841</td><td>24</td><td>0.624</td><td>0.623</td><td>0.946</td><td>50981.48</td><td>41917</td><td>371549</td><td>-++++---++-+++-++-+---+-++-++--+++---+--+-----+--+--+-+-+</td></tr>\n",
       "\t<tr><td>1</td><td>3947050</td><td>rs7519458 </td><td>A</td><td>G</td><td>-0.003104815</td><td>0.0097</td><td>0.7489</td><td>33</td><td>0.532</td><td>0.527</td><td>0.934</td><td>50981.48</td><td>41917</td><td>371549</td><td>-++-+--++--++++++-+----++++++--+++-----++-+++-+-----+-+++</td></tr>\n",
       "\t<tr><td>1</td><td>3947498</td><td>rs10737395</td><td>C</td><td>A</td><td>-0.007598798</td><td>0.0134</td><td>0.5690</td><td>31</td><td>0.845</td><td>0.844</td><td>0.926</td><td>50981.48</td><td>41917</td><td>371549</td><td>-----+-++-++----+-+-++-+-+++--+++-+-+-++-++-++-+++++-++++</td></tr>\n",
       "</tbody>\n",
       "</table>\n"
      ],
      "text/latex": [
       "A data.table: 11 × 16\n",
       "\\begin{tabular}{llllllllllllllll}\n",
       " \\#CHROM & BP & SNP & A1 & A2 & BETA & SE & PVAL & NGT & FCAS & FCON & IMPINFO & NEFFDIV2 & NCAS & NCON & DIRE\\\\\n",
       " <int> & <int> & <chr> & <chr> & <chr> & <dbl> & <dbl> & <dbl> & <int> & <dbl> & <dbl> & <dbl> & <dbl> & <int> & <int> & <chr>\\\\\n",
       "\\hline\n",
       "\t 1 & 3944190 & rs11583257 & C & T &  0.004499860 & 0.0116 & 0.6978 & 28 & 0.775 & 0.783 & 0.940 & 50035.72 & 40997 & 370576 & ---+---++-+-+-+-+---?+---+++-++-+-+-+-+-+++--+-+++++-+-+-\\\\\n",
       "\t 1 & 3944339 & rs55651676 & C & G & -0.005897355 & 0.0098 & 0.5441 &  1 & 0.594 & 0.592 & 0.942 & 50981.48 & 41917 & 371549 & +++++--++--++++++-+---+++---+--+++---+-++---+-+-----+-+-+\\\\\n",
       "\t 1 & 3945118 & rs72641002 & G & A & -0.017899240 & 0.0130 & 0.1674 &  1 & 0.821 & 0.810 & 0.892 & 50035.72 & 40997 & 370576 & +-+-+++--++--+---+-+?-+++----++--+++++++-++++++++-++++--+\\\\\n",
       "\t 1 & 3945487 & rs77653823 & C & T &  0.004201163 & 0.0122 & 0.7315 &  1 & 0.803 & 0.813 & 0.927 & 50981.48 & 41917 & 371549 & -----+-+---++-+-++--++---+++-++-+-+-+-+++++--+-+++-+-+++-\\\\\n",
       "\t 1 & 3945488 & rs57255582 & A & G &  0.003902376 & 0.0116 & 0.7357 &  1 & 0.776 & 0.785 & 0.948 & 50035.72 & 40997 & 370576 & +++-+++--+-+-+-+-+++?-+++---+--+-+-+-+-+---++-+-----+-+-+\\\\\n",
       "\t 1 & 3946000 & rs7548668  & T & C & -0.007498040 & 0.0096 & 0.4349 & 34 & 0.596 & 0.594 & 0.968 & 50981.48 & 41917 & 371549 & +++++---++-++++++-+---++++--+--++----+-++---+-+--+--+-+-+\\\\\n",
       "\t 1 & 3946611 & rs7526903  & G & A & -0.007296555 & 0.0097 & 0.4485 &  1 & 0.596 & 0.594 & 0.964 & 50981.48 & 41917 & 371549 & +----+++--+------+-+++----++-++---+++-+--+++-+-++-++-+-+-\\\\\n",
       "\t 1 & 3946728 & rs7551771  & C & T & -0.007598798 & 0.0097 & 0.4347 &  1 & 0.596 & 0.593 & 0.964 & 50981.48 & 41917 & 371549 & +----+++--+------+-+++---+++-++---+++-+--+++-+-++-++-+-+-\\\\\n",
       "\t 1 & 3946948 & rs7519349  & A & G & -0.008596847 & 0.0099 & 0.3841 & 24 & 0.624 & 0.623 & 0.946 & 50981.48 & 41917 & 371549 & -++++---++-+++-++-+---+-++-++--+++---+--+-----+--+--+-+-+\\\\\n",
       "\t 1 & 3947050 & rs7519458  & A & G & -0.003104815 & 0.0097 & 0.7489 & 33 & 0.532 & 0.527 & 0.934 & 50981.48 & 41917 & 371549 & -++-+--++--++++++-+----++++++--+++-----++-+++-+-----+-+++\\\\\n",
       "\t 1 & 3947498 & rs10737395 & C & A & -0.007598798 & 0.0134 & 0.5690 & 31 & 0.845 & 0.844 & 0.926 & 50981.48 & 41917 & 371549 & -----+-++-++----+-+-++-+-+++--+++-+-+-++-++-++-+++++-++++\\\\\n",
       "\\end{tabular}\n"
      ],
      "text/markdown": [
       "\n",
       "A data.table: 11 × 16\n",
       "\n",
       "| #CHROM &lt;int&gt; | BP &lt;int&gt; | SNP &lt;chr&gt; | A1 &lt;chr&gt; | A2 &lt;chr&gt; | BETA &lt;dbl&gt; | SE &lt;dbl&gt; | PVAL &lt;dbl&gt; | NGT &lt;int&gt; | FCAS &lt;dbl&gt; | FCON &lt;dbl&gt; | IMPINFO &lt;dbl&gt; | NEFFDIV2 &lt;dbl&gt; | NCAS &lt;int&gt; | NCON &lt;int&gt; | DIRE &lt;chr&gt; |\n",
       "|---|---|---|---|---|---|---|---|---|---|---|---|---|---|---|---|\n",
       "| 1 | 3944190 | rs11583257 | C | T |  0.004499860 | 0.0116 | 0.6978 | 28 | 0.775 | 0.783 | 0.940 | 50035.72 | 40997 | 370576 | ---+---++-+-+-+-+---?+---+++-++-+-+-+-+-+++--+-+++++-+-+- |\n",
       "| 1 | 3944339 | rs55651676 | C | G | -0.005897355 | 0.0098 | 0.5441 |  1 | 0.594 | 0.592 | 0.942 | 50981.48 | 41917 | 371549 | +++++--++--++++++-+---+++---+--+++---+-++---+-+-----+-+-+ |\n",
       "| 1 | 3945118 | rs72641002 | G | A | -0.017899240 | 0.0130 | 0.1674 |  1 | 0.821 | 0.810 | 0.892 | 50035.72 | 40997 | 370576 | +-+-+++--++--+---+-+?-+++----++--+++++++-++++++++-++++--+ |\n",
       "| 1 | 3945487 | rs77653823 | C | T |  0.004201163 | 0.0122 | 0.7315 |  1 | 0.803 | 0.813 | 0.927 | 50981.48 | 41917 | 371549 | -----+-+---++-+-++--++---+++-++-+-+-+-+++++--+-+++-+-+++- |\n",
       "| 1 | 3945488 | rs57255582 | A | G |  0.003902376 | 0.0116 | 0.7357 |  1 | 0.776 | 0.785 | 0.948 | 50035.72 | 40997 | 370576 | +++-+++--+-+-+-+-+++?-+++---+--+-+-+-+-+---++-+-----+-+-+ |\n",
       "| 1 | 3946000 | rs7548668  | T | C | -0.007498040 | 0.0096 | 0.4349 | 34 | 0.596 | 0.594 | 0.968 | 50981.48 | 41917 | 371549 | +++++---++-++++++-+---++++--+--++----+-++---+-+--+--+-+-+ |\n",
       "| 1 | 3946611 | rs7526903  | G | A | -0.007296555 | 0.0097 | 0.4485 |  1 | 0.596 | 0.594 | 0.964 | 50981.48 | 41917 | 371549 | +----+++--+------+-+++----++-++---+++-+--+++-+-++-++-+-+- |\n",
       "| 1 | 3946728 | rs7551771  | C | T | -0.007598798 | 0.0097 | 0.4347 |  1 | 0.596 | 0.593 | 0.964 | 50981.48 | 41917 | 371549 | +----+++--+------+-+++---+++-++---+++-+--+++-+-++-++-+-+- |\n",
       "| 1 | 3946948 | rs7519349  | A | G | -0.008596847 | 0.0099 | 0.3841 | 24 | 0.624 | 0.623 | 0.946 | 50981.48 | 41917 | 371549 | -++++---++-+++-++-+---+-++-++--+++---+--+-----+--+--+-+-+ |\n",
       "| 1 | 3947050 | rs7519458  | A | G | -0.003104815 | 0.0097 | 0.7489 | 33 | 0.532 | 0.527 | 0.934 | 50981.48 | 41917 | 371549 | -++-+--++--++++++-+----++++++--+++-----++-+++-+-----+-+++ |\n",
       "| 1 | 3947498 | rs10737395 | C | A | -0.007598798 | 0.0134 | 0.5690 | 31 | 0.845 | 0.844 | 0.926 | 50981.48 | 41917 | 371549 | -----+-++-++----+-+-++-+-+++--+++-+-+-++-++-++-+++++-++++ |\n",
       "\n"
      ],
      "text/plain": [
       "   #CHROM BP      SNP        A1 A2 BETA         SE     PVAL   NGT FCAS  FCON \n",
       "1  1      3944190 rs11583257 C  T   0.004499860 0.0116 0.6978 28  0.775 0.783\n",
       "2  1      3944339 rs55651676 C  G  -0.005897355 0.0098 0.5441  1  0.594 0.592\n",
       "3  1      3945118 rs72641002 G  A  -0.017899240 0.0130 0.1674  1  0.821 0.810\n",
       "4  1      3945487 rs77653823 C  T   0.004201163 0.0122 0.7315  1  0.803 0.813\n",
       "5  1      3945488 rs57255582 A  G   0.003902376 0.0116 0.7357  1  0.776 0.785\n",
       "6  1      3946000 rs7548668  T  C  -0.007498040 0.0096 0.4349 34  0.596 0.594\n",
       "7  1      3946611 rs7526903  G  A  -0.007296555 0.0097 0.4485  1  0.596 0.594\n",
       "8  1      3946728 rs7551771  C  T  -0.007598798 0.0097 0.4347  1  0.596 0.593\n",
       "9  1      3946948 rs7519349  A  G  -0.008596847 0.0099 0.3841 24  0.624 0.623\n",
       "10 1      3947050 rs7519458  A  G  -0.003104815 0.0097 0.7489 33  0.532 0.527\n",
       "11 1      3947498 rs10737395 C  A  -0.007598798 0.0134 0.5690 31  0.845 0.844\n",
       "   IMPINFO NEFFDIV2 NCAS  NCON  \n",
       "1  0.940   50035.72 40997 370576\n",
       "2  0.942   50981.48 41917 371549\n",
       "3  0.892   50035.72 40997 370576\n",
       "4  0.927   50981.48 41917 371549\n",
       "5  0.948   50035.72 40997 370576\n",
       "6  0.968   50981.48 41917 371549\n",
       "7  0.964   50981.48 41917 371549\n",
       "8  0.964   50981.48 41917 371549\n",
       "9  0.946   50981.48 41917 371549\n",
       "10 0.934   50981.48 41917 371549\n",
       "11 0.926   50981.48 41917 371549\n",
       "   DIRE                                                     \n",
       "1  ---+---++-+-+-+-+---?+---+++-++-+-+-+-+-+++--+-+++++-+-+-\n",
       "2  +++++--++--++++++-+---+++---+--+++---+-++---+-+-----+-+-+\n",
       "3  +-+-+++--++--+---+-+?-+++----++--+++++++-++++++++-++++--+\n",
       "4  -----+-+---++-+-++--++---+++-++-+-+-+-+++++--+-+++-+-+++-\n",
       "5  +++-+++--+-+-+-+-+++?-+++---+--+-+-+-+-+---++-+-----+-+-+\n",
       "6  +++++---++-++++++-+---++++--+--++----+-++---+-+--+--+-+-+\n",
       "7  +----+++--+------+-+++----++-++---+++-+--+++-+-++-++-+-+-\n",
       "8  +----+++--+------+-+++---+++-++---+++-+--+++-+-++-++-+-+-\n",
       "9  -++++---++-+++-++-+---+-++-++--+++---+--+-----+--+--+-+-+\n",
       "10 -++-+--++--++++++-+----++++++--+++-----++-+++-+-----+-+++\n",
       "11 -----+-++-++----+-+-++-+-+++--+++-+-+-++-++-++-+++++-++++"
      ]
     },
     "metadata": {},
     "output_type": "display_data"
    }
   ],
   "source": [
    "summary_stats_sub"
   ]
  },
  {
   "cell_type": "code",
   "execution_count": 12,
   "id": "e88079f6-ad0d-492e-beeb-006cc712354d",
   "metadata": {},
   "outputs": [
    {
     "name": "stdout",
     "output_type": "stream",
     "text": [
      "                                                                  path   Chr\n",
      "                                                                <char> <int>\n",
      "1: /expanse/lustre/projects/jhu152/naglemi/mwas/gwas/ref_EUR_chr1.pvar     1\n",
      "[1] \"..//output_EXPANSE_a2_caud/libd_chr1-chr1_AA-libd_chr1-chr1_AA-8982-28981-dynamic-1corestotal-allcorepera-20240415-104419.rds\"\n",
      "[1] \"/expanse/lustre/projects/jhu152/naglemi/mwas/gwas/gwas_stat_bp\"\n"
     ]
    },
    {
     "name": "stderr",
     "output_type": "stream",
     "text": [
      "saving to ..//output_EXPANSE_a2_caud/libd_chr1-chr1_AA-libd_chr1-chr1_AA-8982-28981-dynamic-1corestotal-allcorepera-20240415-104419_gwas_stat_bp_results.rds\n",
      "\n",
      "2024-06-12 09:00:35.147431\n",
      "\n"
     ]
    },
    {
     "name": "stdout",
     "output_type": "stream",
     "text": [
      "[1] \"/expanse/lustre/projects/jhu152/naglemi/mwas/gwas/gwas_stat_mdd\"\n"
     ]
    },
    {
     "name": "stderr",
     "output_type": "stream",
     "text": [
      "saving to ..//output_EXPANSE_a2_caud/libd_chr1-chr1_AA-libd_chr1-chr1_AA-8982-28981-dynamic-1corestotal-allcorepera-20240415-104419_gwas_stat_mdd_results.rds\n",
      "\n",
      "2024-06-12 09:02:15.600735\n",
      "\n"
     ]
    },
    {
     "name": "stdout",
     "output_type": "stream",
     "text": [
      "[1] \"/expanse/lustre/projects/jhu152/naglemi/mwas/gwas/gwas_stat_scz\"\n"
     ]
    },
    {
     "name": "stderr",
     "output_type": "stream",
     "text": [
      "saving to ..//output_EXPANSE_a2_caud/libd_chr1-chr1_AA-libd_chr1-chr1_AA-8982-28981-dynamic-1corestotal-allcorepera-20240415-104419_gwas_stat_scz_results.rds\n",
      "\n",
      "2024-06-12 09:04:01.477745\n",
      "\n"
     ]
    }
   ],
   "source": [
    "# Loop over the loaded objects instead of paths\n",
    "for(i in 1:nrow(genome_files)){\n",
    "    print(genome_files[i])\n",
    "    paths <- list(pvar_path = genome_files[i]$path,\n",
    "                  pgen_path = gsub(\"pvar\", \"pgen\", genome_files[i]$path),\n",
    "                  psam_path = gsub(\"pvar\", \"psam\", genome_files[i]$path))\n",
    "\n",
    "    my_SNPs <- CpGWAS::loadSNPData(paths$pvar_path, paths$pgen_path, paths$psam_path)\n",
    "    df_this_chr <- df[which(df$Chr == genome_files[i]$Chr), ]\n",
    "\n",
    "    for(j in 1:nrow(df_this_chr)){\n",
    "        print(df_this_chr$path[j])\n",
    "        if(grepl(\"empty\", df_this_chr$path[j])){\n",
    "            message(paste0(\"no model for \", df_this_chr$path[j]))\n",
    "            next\n",
    "        }\n",
    "\n",
    "        my_rds <- readRDS(df_this_chr$path[j])\n",
    "\n",
    "        for(k in 1:length(summary_stats_list)){\n",
    "            print(summary_stats_list[[k]])\n",
    "            summary_stats <- summary_stats_data[[k]]  # Use pre-loaded and cleaned summary stats\n",
    "\n",
    "            # Unpacking process_MWAS_models here\n",
    "            MWASmodels <- vector(\"list\", length(my_rds@models))\n",
    "            if(is.null(summary_stats)) {\n",
    "                summary_stats <- suppressWarnings(fread(summary_stats_list[[k]]))\n",
    "                summary_stats <- clean_and_standardize_colnames(summary_stats)\n",
    "            }\n",
    "\n",
    "            for (i in seq_along(my_rds@models)) {\n",
    "                this_MethylationBase <- my_rds@models[[i]]\n",
    "                MWASmodels[[i]] <- process_model(this_MethylationBase, my_SNPs, summary_stats)\n",
    "            }\n",
    "\n",
    "            # Ensure the lengths of my_rds@models and MWASmodels are the same\n",
    "            stopifnot(length(my_rds@models) == length(MWASmodels))\n",
    "\n",
    "            results <- MWASresults(MWASmodels, paths$pvar_path, paths$pgen_path, paths$psam_path, summary_stats_list[[k]], df_this_chr$path[j])\n",
    "\n",
    "            # Saving results\n",
    "            outname <- gsub(\"\\\\.rds$\", \n",
    "                            paste0(\"_\", \n",
    "                                   basename(tools::file_path_sans_ext(summary_stats_list[[k]])), \n",
    "                                   \"_results.rds\"), \n",
    "                            df_this_chr$path[j])\n",
    "            \n",
    "            message(paste0(\"saving to \", outname))\n",
    "            message(Sys.time())\n",
    "            saveRDS(results, outname)\n",
    "        }\n",
    "    }\n",
    "}\n"
   ]
  },
  {
   "cell_type": "code",
   "execution_count": null,
   "id": "9bdb4cbd-0ee3-4735-b253-488d8c643740",
   "metadata": {},
   "outputs": [],
   "source": [
    "# Loop over the loaded objects instead of paths\n",
    "for(i in 1:nrow(genome_files)){\n",
    "    print(genome_files[i])\n",
    "    paths <- list(pvar_path = genome_files[i]$path,\n",
    "                  pgen_path = gsub(\"pvar\", \"pgen\", genome_files[i]$path),\n",
    "                  psam_path = gsub(\"pvar\", \"psam\", genome_files[i]$path))\n",
    "\n",
    "    my_SNPs <- CpGWAS::loadSNPData(paths$pvar_path, paths$pgen_path, paths$psam_path)\n",
    "    df_this_chr <- df[which(df$Chr == genome_files[i]$Chr), ]\n",
    "\n",
    "    for(j in 1:nrow(df_this_chr)){\n",
    "        print(df_this_chr$path[j])\n",
    "        if(grepl(\"empty\", df_this_chr$path[j])){\n",
    "            message(paste0(\"no model for \", df_this_chr$path[j]))\n",
    "            next\n",
    "        }\n",
    "\n",
    "        my_rds <- readRDS(df_this_chr$path[j])\n",
    "\n",
    "        for(k in 1:length(summary_stats_list)){\n",
    "            print(summary_stats_list[[k]])\n",
    "            summary_stats <- summary_stats_data[[k]]  # Use pre-loaded and cleaned summary stats\n",
    "\n",
    "            results <- process_MWAS_models(my_rds = my_rds, my_SNPs = my_SNPs, paths = paths,\n",
    "                                           summary_stats_path = summary_stats_list[[k]],  # Use the path string\n",
    "                                           rds_path = df_this_chr$path[j],\n",
    "                                           summary_stats = summary_stats)\n",
    "\n",
    "            outname <- gsub(\"\\\\.rds$\", \n",
    "                            paste0(\"_\", \n",
    "                                   basename(tools::file_path_sans_ext(results@summary_stats_path)), \n",
    "                                   \"_results.rds\"), \n",
    "                            results@rds_path)\n",
    "            \n",
    "            message(paste0(\"saving to \", outname))\n",
    "            message(Sys.time())\n",
    "            # saveRDS(results, outname)\n",
    "        }\n",
    "    }\n",
    "}"
   ]
  },
  {
   "cell_type": "markdown",
   "id": "a394c241-e232-4178-96f1-a902596c8440",
   "metadata": {},
   "source": [
    "Why so slow? Are we still reloading summary_stats every time?"
   ]
  },
  {
   "cell_type": "code",
   "execution_count": 15,
   "id": "d5075967-5b0f-4024-8a03-31ed1ff29651",
   "metadata": {},
   "outputs": [],
   "source": [
    "# Loop over chromosome genome files (pvar/pgen/psam)\n",
    "#  make list of chromosome files\n",
    "#. levels factor\n",
    "#. select and load first set of files\n",
    "#  # subset big file-matching df to those for the chromosome of interest\n",
    "#. loop over those, and for each....\n",
    "##Loop over summary stat files\n",
    "### Loop over RDS files containing our MethylationBase objects with SNP->CpG models"
   ]
  },
  {
   "cell_type": "code",
   "execution_count": null,
   "id": "5e4528fa-72cb-481b-a9b6-e04d058cfa2b",
   "metadata": {},
   "outputs": [],
   "source": []
  }
 ],
 "metadata": {
  "kernelspec": {
   "display_name": "R",
   "language": "R",
   "name": "ir"
  },
  "language_info": {
   "codemirror_mode": "r",
   "file_extension": ".r",
   "mimetype": "text/x-r-source",
   "name": "R",
   "pygments_lexer": "r",
   "version": "4.3.1"
  }
 },
 "nbformat": 4,
 "nbformat_minor": 5
}
