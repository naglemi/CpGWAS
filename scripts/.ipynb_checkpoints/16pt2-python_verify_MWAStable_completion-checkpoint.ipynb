{
 "cells": [
  {
   "cell_type": "code",
   "execution_count": null,
   "id": "93f74d48-7c18-420f-84fc-d3c5381e0425",
   "metadata": {},
   "outputs": [],
   "source": []
  }
 ],
 "metadata": {
  "kernelspec": {
   "display_name": "",
   "name": ""
  },
  "language_info": {
   "name": ""
  }
 },
 "nbformat": 4,
 "nbformat_minor": 5
}
