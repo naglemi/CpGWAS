{
 "cells": [
  {
   "cell_type": "markdown",
   "id": "bf56f1cb-692a-4f54-b026-99e8075d50e8",
   "metadata": {},
   "source": [
    "# Compare MWAS methods for sanity tests and troubleshooting"
   ]
  },
  {
   "cell_type": "markdown",
   "id": "dc17d619-945e-4221-8ba7-c4c36fa56efe",
   "metadata": {},
   "source": [
    "In this version, we use the full new SNP set with a selected window"
   ]
  },
  {
   "cell_type": "markdown",
   "id": "ca2a80fb-d548-4157-b585-cd5cf6a471d2",
   "metadata": {},
   "source": [
    "## Be ready with matched up SNP and covariate files"
   ]
  },
  {
   "cell_type": "code",
   "execution_count": 1,
   "id": "1d0d53e3-618f-4b04-b2b6-ae27a7e4ef5c",
   "metadata": {},
   "outputs": [
    {
     "name": "stderr",
     "output_type": "stream",
     "text": [
      "Loading required package: Matrix\n",
      "\n",
      "Loaded glmnet 4.1-8\n",
      "\n",
      "Loading required package: foreach\n",
      "\n",
      "Loading required package: iterators\n",
      "\n",
      "Loading required package: parallel\n",
      "\n"
     ]
    }
   ],
   "source": [
    "library(\"glmnet\")\n",
    "library(\"e1071\")\n",
    "library(\"doParallel\")\n",
    "library(\"data.table\")"
   ]
  },
  {
   "cell_type": "code",
   "execution_count": 2,
   "id": "c6034757-2d3c-43d3-aa16-70baa5169549",
   "metadata": {},
   "outputs": [],
   "source": [
    "df <- fread(\"09-OUT_matched_SNP_meth_cov_a2.csv\")"
   ]
  },
  {
   "cell_type": "code",
   "execution_count": 3,
   "id": "9821a860-2a97-4a7b-bfca-6e8abd96bf8a",
   "metadata": {},
   "outputs": [],
   "source": [
    "df <- df[which(df$Chr == 1), ]"
   ]
  },
  {
   "cell_type": "code",
   "execution_count": 4,
   "id": "a023b2df-92e9-414d-a2e5-a8c6d3193954",
   "metadata": {},
   "outputs": [],
   "source": [
    "i <- 2"
   ]
  },
  {
   "cell_type": "code",
   "execution_count": 5,
   "id": "522b7988-f517-454d-90d5-4e6a51f49380",
   "metadata": {},
   "outputs": [
    {
     "data": {
      "text/html": [
       "<table class=\"dataframe\">\n",
       "<caption>A data.table: 1 × 15</caption>\n",
       "<thead>\n",
       "\t<tr><th scope=col>Chr</th><th scope=col>SNP_data</th><th scope=col>methylation_data</th><th scope=col>last_meth_value_with_SNP_coverage</th><th scope=col>first_meth_value_with_SNP_coverage</th><th scope=col>last_meth_index_with_SNP_coverage</th><th scope=col>first_meth_index_with_SNP_coverage</th><th scope=col>subpopulation</th><th scope=col>brain_region</th><th scope=col>population</th><th scope=col>region</th><th scope=col>cov_file</th><th scope=col>cov_file2</th><th scope=col>cov_file3</th><th scope=col>cov_file4</th></tr>\n",
       "\t<tr><th scope=col>&lt;int&gt;</th><th scope=col>&lt;chr&gt;</th><th scope=col>&lt;chr&gt;</th><th scope=col>&lt;int&gt;</th><th scope=col>&lt;int&gt;</th><th scope=col>&lt;int&gt;</th><th scope=col>&lt;int&gt;</th><th scope=col>&lt;chr&gt;</th><th scope=col>&lt;chr&gt;</th><th scope=col>&lt;chr&gt;</th><th scope=col>&lt;chr&gt;</th><th scope=col>&lt;chr&gt;</th><th scope=col>&lt;chr&gt;</th><th scope=col>&lt;chr&gt;</th><th scope=col>&lt;chr&gt;</th></tr>\n",
       "</thead>\n",
       "<tbody>\n",
       "\t<tr><td>1</td><td>/expanse/lustre/projects/jhu152/naglemi/mwas/gwas//libd_chr1.pgen</td><td>/expanse/lustre/projects/jhu152/naglemi/mwas/pheno/caud/out/chr1_AA.rda</td><td>248918358</td><td>1069461</td><td>2202702</td><td>8982</td><td>AA</td><td>caud</td><td>AA</td><td>caud</td><td>/expanse/lustre/projects/jhu152/naglemi/mwas/full_covariates_a2/AA_caud.csv</td><td>/expanse/lustre/projects/jhu152/naglemi/mwas/full_covariates_a2/AA_caud-no-meth.csv</td><td>/expanse/lustre/projects/jhu152/naglemi/mwas/full_covariates_a2/AA_caud-no-meth-no-dx.csv</td><td>/expanse/lustre/projects/jhu152/naglemi/mwas/full_covariates_a2/AA_caud-no-dx.csv</td></tr>\n",
       "</tbody>\n",
       "</table>\n"
      ],
      "text/latex": [
       "A data.table: 1 × 15\n",
       "\\begin{tabular}{lllllllllllllll}\n",
       " Chr & SNP\\_data & methylation\\_data & last\\_meth\\_value\\_with\\_SNP\\_coverage & first\\_meth\\_value\\_with\\_SNP\\_coverage & last\\_meth\\_index\\_with\\_SNP\\_coverage & first\\_meth\\_index\\_with\\_SNP\\_coverage & subpopulation & brain\\_region & population & region & cov\\_file & cov\\_file2 & cov\\_file3 & cov\\_file4\\\\\n",
       " <int> & <chr> & <chr> & <int> & <int> & <int> & <int> & <chr> & <chr> & <chr> & <chr> & <chr> & <chr> & <chr> & <chr>\\\\\n",
       "\\hline\n",
       "\t 1 & /expanse/lustre/projects/jhu152/naglemi/mwas/gwas//libd\\_chr1.pgen & /expanse/lustre/projects/jhu152/naglemi/mwas/pheno/caud/out/chr1\\_AA.rda & 248918358 & 1069461 & 2202702 & 8982 & AA & caud & AA & caud & /expanse/lustre/projects/jhu152/naglemi/mwas/full\\_covariates\\_a2/AA\\_caud.csv & /expanse/lustre/projects/jhu152/naglemi/mwas/full\\_covariates\\_a2/AA\\_caud-no-meth.csv & /expanse/lustre/projects/jhu152/naglemi/mwas/full\\_covariates\\_a2/AA\\_caud-no-meth-no-dx.csv & /expanse/lustre/projects/jhu152/naglemi/mwas/full\\_covariates\\_a2/AA\\_caud-no-dx.csv\\\\\n",
       "\\end{tabular}\n"
      ],
      "text/markdown": [
       "\n",
       "A data.table: 1 × 15\n",
       "\n",
       "| Chr &lt;int&gt; | SNP_data &lt;chr&gt; | methylation_data &lt;chr&gt; | last_meth_value_with_SNP_coverage &lt;int&gt; | first_meth_value_with_SNP_coverage &lt;int&gt; | last_meth_index_with_SNP_coverage &lt;int&gt; | first_meth_index_with_SNP_coverage &lt;int&gt; | subpopulation &lt;chr&gt; | brain_region &lt;chr&gt; | population &lt;chr&gt; | region &lt;chr&gt; | cov_file &lt;chr&gt; | cov_file2 &lt;chr&gt; | cov_file3 &lt;chr&gt; | cov_file4 &lt;chr&gt; |\n",
       "|---|---|---|---|---|---|---|---|---|---|---|---|---|---|---|\n",
       "| 1 | /expanse/lustre/projects/jhu152/naglemi/mwas/gwas//libd_chr1.pgen | /expanse/lustre/projects/jhu152/naglemi/mwas/pheno/caud/out/chr1_AA.rda | 248918358 | 1069461 | 2202702 | 8982 | AA | caud | AA | caud | /expanse/lustre/projects/jhu152/naglemi/mwas/full_covariates_a2/AA_caud.csv | /expanse/lustre/projects/jhu152/naglemi/mwas/full_covariates_a2/AA_caud-no-meth.csv | /expanse/lustre/projects/jhu152/naglemi/mwas/full_covariates_a2/AA_caud-no-meth-no-dx.csv | /expanse/lustre/projects/jhu152/naglemi/mwas/full_covariates_a2/AA_caud-no-dx.csv |\n",
       "\n"
      ],
      "text/plain": [
       "  Chr SNP_data                                                         \n",
       "1 1   /expanse/lustre/projects/jhu152/naglemi/mwas/gwas//libd_chr1.pgen\n",
       "  methylation_data                                                       \n",
       "1 /expanse/lustre/projects/jhu152/naglemi/mwas/pheno/caud/out/chr1_AA.rda\n",
       "  last_meth_value_with_SNP_coverage first_meth_value_with_SNP_coverage\n",
       "1 248918358                         1069461                           \n",
       "  last_meth_index_with_SNP_coverage first_meth_index_with_SNP_coverage\n",
       "1 2202702                           8982                              \n",
       "  subpopulation brain_region population region\n",
       "1 AA            caud         AA         caud  \n",
       "  cov_file                                                                   \n",
       "1 /expanse/lustre/projects/jhu152/naglemi/mwas/full_covariates_a2/AA_caud.csv\n",
       "  cov_file2                                                                          \n",
       "1 /expanse/lustre/projects/jhu152/naglemi/mwas/full_covariates_a2/AA_caud-no-meth.csv\n",
       "  cov_file3                                                                                \n",
       "1 /expanse/lustre/projects/jhu152/naglemi/mwas/full_covariates_a2/AA_caud-no-meth-no-dx.csv\n",
       "  cov_file4                                                                        \n",
       "1 /expanse/lustre/projects/jhu152/naglemi/mwas/full_covariates_a2/AA_caud-no-dx.csv"
      ]
     },
     "metadata": {},
     "output_type": "display_data"
    }
   ],
   "source": [
    "df[1, ]"
   ]
  },
  {
   "cell_type": "code",
   "execution_count": 6,
   "id": "22de2603-481a-4995-8991-1f6f64989e3d",
   "metadata": {},
   "outputs": [],
   "source": [
    "set.seed(2018)\n",
    "wind <- c(10000)\n",
    "# output directory\n",
    "#outd <- \"/dcl02/lieber/shan/shizhong/finemapping/GWAS/tags/scz3/mwas/chr22/1/\"\n",
    "outd <- \"20-OUT_original_mwas_sanity_test/\""
   ]
  },
  {
   "cell_type": "markdown",
   "id": "d7711c4d-5f19-4fd0-9f7b-891133ac3311",
   "metadata": {},
   "source": [
    "## Functions"
   ]
  },
  {
   "cell_type": "markdown",
   "id": "655b95b9-bbcb-4ae8-8914-cf36149e10e1",
   "metadata": {},
   "source": [
    "### Shizhong's original"
   ]
  },
  {
   "cell_type": "code",
   "execution_count": 7,
   "id": "be729eb2-c5b2-4d3e-b835-072d8f5ba2e6",
   "metadata": {},
   "outputs": [],
   "source": [
    "###### model: learn elastic net model on training data \n",
    "######---------Input: trainX, trainY\n",
    "######---------Return: selected features and coefficents\n",
    "\n",
    "# original\n",
    "# elastic.net <- function(trainX,trainY){\n",
    "#     if(nrow(trainX)!=length(trainY)){\n",
    "#             stop(\"Number of observations is differerent\")\n",
    "#     } \n",
    "\n",
    "#     # optimize alpha---mixing parameter  \n",
    "#     a <- 0.5\n",
    "#     search <- foreach(ai = a, .combine = rbind) %dopar% {\n",
    "#         cv.fit <- cv.glmnet(\n",
    "#                         trainX,\n",
    "#                         trainY,\n",
    "#                         nfold = 5,\n",
    "#                         type.measure = \"mse\",\n",
    "#                         paralle = TRUE,\n",
    "#                         alpha = ai\n",
    "#                         )\n",
    "#         data.frame(\n",
    "#                         cvm = min(cv.fit$cvm),\n",
    "#                         lambda = cv.fit$lambda.min,\n",
    "#                         alpha = ai\n",
    "#                         )\n",
    "#         } \n",
    "#     cv.opt <- search[search$cvm == min(search$cvm),] \n",
    "\n",
    "#         # fit model by optimized alpha and lambda\n",
    "#         yfit = glmnet(\n",
    "#         trainX,\n",
    "#         trainY,\n",
    "#         lambda = cv.opt$lambda,\n",
    "#         alpha = cv.opt$alpha\n",
    "#                 )       \n",
    "#         idf <- coef(yfit)\n",
    "#         idx <- which(idf != 0)\n",
    "#         selectf <- data.frame(\n",
    "#                 features = idf@Dimnames[[1]][idx], \n",
    "#                 coefs = idf [idx]\n",
    "#         )\n",
    "# }\n",
    "\n",
    "MWAS <- function(gwas, weight, geno){\n",
    "        z <- gwas %*% weight\n",
    "        z.cor <- cor(geno)\n",
    "        se <- sqrt(weight %*%  z.cor %*%  weight)\n",
    "        z <- z/se\n",
    "        p=pnorm(abs(z),lower.tail=F)*2\n",
    "        return(c(z, p))\n",
    "}"
   ]
  },
  {
   "cell_type": "markdown",
   "id": "52a2753a-ebee-4587-9fa2-1d33f878f68f",
   "metadata": {},
   "source": [
    "#### Modified `elastic.net` to use `lambda.1se`"
   ]
  },
  {
   "cell_type": "code",
   "execution_count": 8,
   "id": "e2a06b13-9a13-4caa-8436-9a05a0f53035",
   "metadata": {},
   "outputs": [],
   "source": [
    "# modified to use lambda 1se and appropriate cvm\n",
    "elastic.net <- function(trainX,trainY){\n",
    "    if(nrow(trainX)!=length(trainY)){\n",
    "            stop(\"Number of observations is differerent\")\n",
    "    } \n",
    "\n",
    "    # optimize alpha---mixing parameter  \n",
    "    a <- 0.5\n",
    "    search <- foreach(ai = a, .combine = rbind) %dopar% {\n",
    "        set.seed(42)\n",
    "        cv.fit <- cv.glmnet(\n",
    "                        trainX,\n",
    "                        trainY,\n",
    "                        nfold = 5,\n",
    "                        type.measure = \"mse\",\n",
    "                        paralle = TRUE,\n",
    "                        alpha = ai\n",
    "                        )\n",
    "        #print(paste0(\"Dim of trainX: \", dim(trainX)))\n",
    "        #print(paste0(\"Len of trainY: \", length(trainY)))\n",
    "        coef_matrix <- as.matrix(coef(cv.fit))\n",
    "\n",
    "        non_zero_coefs <- coef_matrix[coef_matrix != 0, , drop = FALSE]\n",
    "        #print(\"Coefficients when fitting: \")\n",
    "        #print(non_zero_coefs)\n",
    "\n",
    "        data.frame(\n",
    "                        cvm = cv.fit$cvm[cv.fit$lambda == cv.fit$lambda.1se],\n",
    "                        lambda = cv.fit$lambda.1se,\n",
    "                        alpha = ai\n",
    "                        )\n",
    "        } \n",
    "    cv.opt <- search[search$cvm == min(search$cvm),] \n",
    "\n",
    "        # fit model by optimized alpha and lambda\n",
    "    set.seed(42)\n",
    "    yfit <- glmnet(\n",
    "    trainX,\n",
    "    trainY,\n",
    "    lambda = cv.opt$lambda,\n",
    "    alpha = cv.opt$alpha)\n",
    "\n",
    "    coef_matrix <- as.matrix(coef(yfit))\n",
    "\n",
    "    non_zero_coefs <- coef_matrix[coef_matrix != 0, , drop = FALSE]\n",
    "    #print(\"Coefficients when optimal: \")\n",
    "    #print(non_zero_coefs)\n",
    "\n",
    "    idf <- coef(yfit)\n",
    "    idx <- which(idf != 0)\n",
    "    selectf <- data.frame(\n",
    "            features = idf@Dimnames[[1]][idx], \n",
    "            coefs = idf [idx]\n",
    "    )\n",
    "}"
   ]
  },
  {
   "cell_type": "markdown",
   "id": "3a0ea432-3ac3-4077-ae61-c3a029004096",
   "metadata": {},
   "source": [
    "## Replace all old objects with new objects in same format"
   ]
  },
  {
   "cell_type": "markdown",
   "id": "18332543-6f7a-40d8-b894-9562a6ac7457",
   "metadata": {},
   "source": [
    "### Methylation data"
   ]
  },
  {
   "cell_type": "code",
   "execution_count": 9,
   "id": "f9b051aa-a1e5-421b-856d-718cf85c24a3",
   "metadata": {},
   "outputs": [
    {
     "name": "stderr",
     "output_type": "stream",
     "text": [
      "Loading required package: BiocGenerics\n",
      "\n",
      "\n",
      "Attaching package: ‘BiocGenerics’\n",
      "\n",
      "\n",
      "The following objects are masked from ‘package:stats’:\n",
      "\n",
      "    IQR, mad, sd, var, xtabs\n",
      "\n",
      "\n",
      "The following objects are masked from ‘package:base’:\n",
      "\n",
      "    anyDuplicated, aperm, append, as.data.frame, basename, cbind,\n",
      "    colnames, dirname, do.call, duplicated, eval, evalq, Filter, Find,\n",
      "    get, grep, grepl, intersect, is.unsorted, lapply, Map, mapply,\n",
      "    match, mget, order, paste, pmax, pmax.int, pmin, pmin.int,\n",
      "    Position, rank, rbind, Reduce, rownames, sapply, setdiff, sort,\n",
      "    table, tapply, union, unique, unsplit, which.max, which.min\n",
      "\n",
      "\n",
      "Loading required package: GenomicRanges\n",
      "\n",
      "Loading required package: stats4\n",
      "\n",
      "Loading required package: S4Vectors\n",
      "\n",
      "\n",
      "Attaching package: ‘S4Vectors’\n",
      "\n",
      "\n",
      "The following objects are masked from ‘package:data.table’:\n",
      "\n",
      "    first, second\n",
      "\n",
      "\n",
      "The following objects are masked from ‘package:Matrix’:\n",
      "\n",
      "    expand, unname\n",
      "\n",
      "\n",
      "The following object is masked from ‘package:utils’:\n",
      "\n",
      "    findMatches\n",
      "\n",
      "\n",
      "The following objects are masked from ‘package:base’:\n",
      "\n",
      "    expand.grid, I, unname\n",
      "\n",
      "\n",
      "Loading required package: IRanges\n",
      "\n",
      "\n",
      "Attaching package: ‘IRanges’\n",
      "\n",
      "\n",
      "The following object is masked from ‘package:data.table’:\n",
      "\n",
      "    shift\n",
      "\n",
      "\n",
      "Loading required package: GenomeInfoDb\n",
      "\n",
      "Loading required package: SummarizedExperiment\n",
      "\n",
      "Loading required package: MatrixGenerics\n",
      "\n",
      "Loading required package: matrixStats\n",
      "\n",
      "\n",
      "Attaching package: ‘MatrixGenerics’\n",
      "\n",
      "\n",
      "The following objects are masked from ‘package:matrixStats’:\n",
      "\n",
      "    colAlls, colAnyNAs, colAnys, colAvgsPerRowSet, colCollapse,\n",
      "    colCounts, colCummaxs, colCummins, colCumprods, colCumsums,\n",
      "    colDiffs, colIQRDiffs, colIQRs, colLogSumExps, colMadDiffs,\n",
      "    colMads, colMaxs, colMeans2, colMedians, colMins, colOrderStats,\n",
      "    colProds, colQuantiles, colRanges, colRanks, colSdDiffs, colSds,\n",
      "    colSums2, colTabulates, colVarDiffs, colVars, colWeightedMads,\n",
      "    colWeightedMeans, colWeightedMedians, colWeightedSds,\n",
      "    colWeightedVars, rowAlls, rowAnyNAs, rowAnys, rowAvgsPerColSet,\n",
      "    rowCollapse, rowCounts, rowCummaxs, rowCummins, rowCumprods,\n",
      "    rowCumsums, rowDiffs, rowIQRDiffs, rowIQRs, rowLogSumExps,\n",
      "    rowMadDiffs, rowMads, rowMaxs, rowMeans2, rowMedians, rowMins,\n",
      "    rowOrderStats, rowProds, rowQuantiles, rowRanges, rowRanks,\n",
      "    rowSdDiffs, rowSds, rowSums2, rowTabulates, rowVarDiffs, rowVars,\n",
      "    rowWeightedMads, rowWeightedMeans, rowWeightedMedians,\n",
      "    rowWeightedSds, rowWeightedVars\n",
      "\n",
      "\n",
      "Loading required package: Biobase\n",
      "\n",
      "Welcome to Bioconductor\n",
      "\n",
      "    Vignettes contain introductory material; view with\n",
      "    'browseVignettes()'. To cite Bioconductor, see\n",
      "    'citation(\"Biobase\")', and for packages 'citation(\"pkgname\")'.\n",
      "\n",
      "\n",
      "\n",
      "Attaching package: ‘Biobase’\n",
      "\n",
      "\n",
      "The following object is masked from ‘package:MatrixGenerics’:\n",
      "\n",
      "    rowMedians\n",
      "\n",
      "\n",
      "The following objects are masked from ‘package:matrixStats’:\n",
      "\n",
      "    anyMissing, rowMedians\n",
      "\n",
      "\n"
     ]
    }
   ],
   "source": [
    "suppressWarnings(library(bsseq))"
   ]
  },
  {
   "cell_type": "code",
   "execution_count": 10,
   "id": "8a871cb8-d71d-4f62-8d5e-70b79bb1c1c8",
   "metadata": {},
   "outputs": [],
   "source": [
    "# load data for mwas\n",
    "# load(\"./rda/caudate_mwas_data_chr22.rda\")\n",
    "load(df$methylation_data[i])\n",
    "\n",
    "p <- getMeth(BSobj2)\n",
    "\n",
    "\n",
    "rownames(p) <- start(BSobj2)\n",
    "\n",
    "sites_to_test_pos <- c(73274305, 73274312, 73292330, 73307769, 73308571, 73419188, 73419830, 73420076)\n",
    "sites_to_test <- which(start(BSobj2) %in% sites_to_test_pos)\n",
    "#sites_to_test <- c(73274305, 73274312, 73292330, 73307769, 73308571, 73419188, 73419830, 73420076)\n",
    "p <- p[sites_to_test, ]\n",
    "cg <- as.numeric(rownames(p))"
   ]
  },
  {
   "cell_type": "markdown",
   "id": "6063581e-a107-4977-93d7-836f1da57078",
   "metadata": {},
   "source": [
    "### covariates"
   ]
  },
  {
   "cell_type": "code",
   "execution_count": 11,
   "id": "cc499656-ec9a-45cd-ad05-b17e957eaaa6",
   "metadata": {},
   "outputs": [],
   "source": [
    "covs <- fread(df$cov_file[i])\n",
    "covs <- t(covs)\n",
    "colnames(covs) <- covs[1, ]\n",
    "covs <- covs[2:nrow(covs), ]\n",
    "# transpose so we have same orientation as original code"
   ]
  },
  {
   "cell_type": "markdown",
   "id": "72219907-d534-4523-a369-853077888b38",
   "metadata": {},
   "source": [
    "### Regress methylation data over covariates"
   ]
  },
  {
   "cell_type": "code",
   "execution_count": 12,
   "id": "85527835-9e3f-4ba9-a645-5330564e0b7c",
   "metadata": {},
   "outputs": [],
   "source": [
    "BSobj2$brnum <- gsub(\"Br0\", \"Br\", BSobj2$brnum)\n",
    "colnames(covs) <- gsub(\"Br0\", \"Br\", colnames(covs))"
   ]
  },
  {
   "cell_type": "code",
   "execution_count": 13,
   "id": "8899261b-73fb-430e-bcdb-143fc8f04670",
   "metadata": {},
   "outputs": [],
   "source": [
    "mat <- match(BSobj2$brnum,colnames(covs)) \n",
    "covs <- t(covs[,mat])\n",
    "p.residual=matrix(NA,dim(p)[1],dim(p)[2])"
   ]
  },
  {
   "cell_type": "code",
   "execution_count": 14,
   "id": "35031e54-4c54-4a37-9997-99b57efa86bf",
   "metadata": {},
   "outputs": [],
   "source": [
    "rownames(covs)[is.na(covs[, 'genoPC1'])] <- BSobj2$brnum[is.na(covs[, 'genoPC1'])]"
   ]
  },
  {
   "cell_type": "code",
   "execution_count": 15,
   "id": "70bda030-7a89-4dff-8c61-f576badfd8bd",
   "metadata": {},
   "outputs": [],
   "source": [
    "colnames(p.residual) <- BSobj2$brnum"
   ]
  },
  {
   "cell_type": "code",
   "execution_count": 16,
   "id": "78ee80f1-d9ea-46b0-b37a-dfeed3dbdf97",
   "metadata": {},
   "outputs": [],
   "source": [
    "covs <- as.data.frame(covs)\n",
    "# Convert all columns except Dx and Sex from character to numeric\n",
    "cols_to_convert <- setdiff(names(covs), c(\"Dx\", \"Sex\"))\n",
    "\n",
    "for (col in cols_to_convert) {\n",
    "  covs[[col]] <- as.numeric(covs[[col]])\n",
    "}\n",
    "\n",
    "# Print the modified data frame to check the conversion\n",
    "#print(dat)\n"
   ]
  },
  {
   "cell_type": "code",
   "execution_count": 17,
   "id": "db709d51-494c-431c-8327-9348dbf0419c",
   "metadata": {},
   "outputs": [],
   "source": [
    "for (i in 1:dim(p)[1]) { # For each methylation site\n",
    "    dat <- as.data.frame(cbind(y = p[i,], covs))\n",
    "    \n",
    "    # Check for rows with NAs (the ones for which we don't have covariate data)\n",
    "    valid_rows <- complete.cases(dat)\n",
    "    \n",
    "    if (sum(valid_rows) > 0) {\n",
    "        dat_valid <- dat[valid_rows,]\n",
    "        model.res <- lm(y ~ ., data = dat_valid)\n",
    "        \n",
    "        # Store residuals in the corresponding positions\n",
    "        p.residual[i, valid_rows] <- resid(model.res)\n",
    "    }\n",
    "}\n",
    "\n",
    "\n",
    "# for(i in 1:dim(p)[1]){ # foro each methylation site\n",
    "#         dat <- as.data.frame(cbind(p[i,],covs))\n",
    "#         colnames(dat) <- c(\"y\",paste0(\"x\",1:ncol(covs)))\n",
    "#         model.res <- lm(reformulate(paste0(\"x\",1:ncol(covs)), \"y\"),dat)\n",
    "#         p.residual[i,] = resid(model.res) \n",
    "# }"
   ]
  },
  {
   "cell_type": "code",
   "execution_count": null,
   "id": "4f866dd6-16c6-4803-9c21-c70e4b931e66",
   "metadata": {},
   "outputs": [],
   "source": []
  },
  {
   "cell_type": "code",
   "execution_count": 18,
   "id": "f4ad72db-fe27-4676-8da6-46222519a095",
   "metadata": {},
   "outputs": [],
   "source": [
    "snp.gwas2 <- NULL"
   ]
  },
  {
   "cell_type": "code",
   "execution_count": 19,
   "id": "744fc147-2638-4935-a805-68cb51852dd7",
   "metadata": {},
   "outputs": [],
   "source": [
    "load(\"p1.rda\")"
   ]
  },
  {
   "cell_type": "markdown",
   "id": "6f1649fc-72c8-4bcf-9cbc-587463117579",
   "metadata": {},
   "source": [
    "### summary stats"
   ]
  },
  {
   "cell_type": "code",
   "execution_count": 20,
   "id": "19d2a3db-0ed4-481f-b7d6-78d0ddbbb80f",
   "metadata": {},
   "outputs": [],
   "source": [
    "library(data.table)\n",
    "library(CpGWAS)"
   ]
  },
  {
   "cell_type": "code",
   "execution_count": 21,
   "id": "a5270235-a5a6-42d2-a654-ea30cb891279",
   "metadata": {},
   "outputs": [],
   "source": [
    "ss_path <- \"/home/naglemi/mwas/gwas/gwas_stat_scz\""
   ]
  },
  {
   "cell_type": "code",
   "execution_count": 22,
   "id": "203b45ea-44b4-4679-8b74-621f634db7dc",
   "metadata": {},
   "outputs": [],
   "source": [
    "snp.gwas2 <- fread(ss_path, skip = 1, header = FALSE)\n",
    "colnames(snp.gwas2) <- strsplit(readLines(ss_path, n = 1), \"\\t\")[[1]]"
   ]
  },
  {
   "cell_type": "code",
   "execution_count": 23,
   "id": "917f58c4-4ec5-47b8-bf3d-f0abcf86cf96",
   "metadata": {},
   "outputs": [],
   "source": [
    "snp.gwas2$z <- log(snp.gwas2$OR)/snp.gwas2$SE"
   ]
  },
  {
   "cell_type": "code",
   "execution_count": 24,
   "id": "6d87bed5-d32c-4264-b787-d738cd381454",
   "metadata": {},
   "outputs": [],
   "source": [
    "snp.gwas2 <- snp.gwas2[, c(2, 1, 3, 3, 8, 4, 5, 20, 11)]"
   ]
  },
  {
   "cell_type": "code",
   "execution_count": 25,
   "id": "3df5e4c7-01eb-475b-a931-1e088d109cdb",
   "metadata": {},
   "outputs": [
    {
     "data": {
      "text/html": [
       "<table class=\"dataframe\">\n",
       "<caption>A data.table: 1 × 9</caption>\n",
       "<thead>\n",
       "\t<tr><th scope=col>SNP</th><th scope=col>CHR</th><th scope=col>BP</th><th scope=col>BP</th><th scope=col>INFO</th><th scope=col>A1</th><th scope=col>A2</th><th scope=col>z</th><th scope=col>P</th></tr>\n",
       "\t<tr><th scope=col>&lt;chr&gt;</th><th scope=col>&lt;int&gt;</th><th scope=col>&lt;int&gt;</th><th scope=col>&lt;int&gt;</th><th scope=col>&lt;dbl&gt;</th><th scope=col>&lt;chr&gt;</th><th scope=col>&lt;chr&gt;</th><th scope=col>&lt;dbl&gt;</th><th scope=col>&lt;dbl&gt;</th></tr>\n",
       "</thead>\n",
       "<tbody>\n",
       "\t<tr><td>rs62513865</td><td>8</td><td>100579985</td><td>100579985</td><td>0.963</td><td>C</td><td>T</td><td>0.7016221</td><td>0.4847</td></tr>\n",
       "</tbody>\n",
       "</table>\n"
      ],
      "text/latex": [
       "A data.table: 1 × 9\n",
       "\\begin{tabular}{lllllllll}\n",
       " SNP & CHR & BP & BP & INFO & A1 & A2 & z & P\\\\\n",
       " <chr> & <int> & <int> & <int> & <dbl> & <chr> & <chr> & <dbl> & <dbl>\\\\\n",
       "\\hline\n",
       "\t rs62513865 & 8 & 100579985 & 100579985 & 0.963 & C & T & 0.7016221 & 0.4847\\\\\n",
       "\\end{tabular}\n"
      ],
      "text/markdown": [
       "\n",
       "A data.table: 1 × 9\n",
       "\n",
       "| SNP &lt;chr&gt; | CHR &lt;int&gt; | BP &lt;int&gt; | BP &lt;int&gt; | INFO &lt;dbl&gt; | A1 &lt;chr&gt; | A2 &lt;chr&gt; | z &lt;dbl&gt; | P &lt;dbl&gt; |\n",
       "|---|---|---|---|---|---|---|---|---|\n",
       "| rs62513865 | 8 | 100579985 | 100579985 | 0.963 | C | T | 0.7016221 | 0.4847 |\n",
       "\n"
      ],
      "text/plain": [
       "  SNP        CHR BP        BP        INFO  A1 A2 z         P     \n",
       "1 rs62513865 8   100579985 100579985 0.963 C  T  0.7016221 0.4847"
      ]
     },
     "metadata": {},
     "output_type": "display_data"
    }
   ],
   "source": [
    "head(snp.gwas2, n = 1)"
   ]
  },
  {
   "cell_type": "code",
   "execution_count": 26,
   "id": "a1b63fe0-6ff8-4982-92a5-7dd2a937b6f3",
   "metadata": {},
   "outputs": [],
   "source": [
    "colnames(snp.gwas2)[1:5] <- c(\"snp\", \"chr\", \"pos_hg38\", \"pos_hg38\", \"info\")"
   ]
  },
  {
   "cell_type": "code",
   "execution_count": 27,
   "id": "86716430-3d24-416b-922e-f7f8e007325d",
   "metadata": {},
   "outputs": [],
   "source": [
    "snp.gwas2 <- snp.gwas2[which(snp.gwas2$chr == 1 & snp.gwas2$pos_hg38 >= (73274305-10000) & snp.gwas2$pos_hg38 <= (73419830 + 10000)), ]"
   ]
  },
  {
   "cell_type": "code",
   "execution_count": 28,
   "id": "6dfba3a8-0775-4f8c-92d2-3c9c32a36945",
   "metadata": {},
   "outputs": [],
   "source": [
    "snp.gwas2 <- snp.gwas2[order(snp.gwas2$pos_hg38), ]"
   ]
  },
  {
   "cell_type": "code",
   "execution_count": 29,
   "id": "4714a813-116f-4567-a6b1-41bb02df8227",
   "metadata": {},
   "outputs": [],
   "source": [
    "# built predition models\n",
    "idx.ea <- BSobj2$race == \"CAUC\""
   ]
  },
  {
   "cell_type": "markdown",
   "id": "9700ca92-911f-4aa6-a557-789f202994b1",
   "metadata": {},
   "source": [
    "### SNPs in LIBD population"
   ]
  },
  {
   "cell_type": "markdown",
   "id": "6c305c43-74d5-42df-8039-b20adbbed9cd",
   "metadata": {},
   "source": [
    "#### For reference, first load Shizhong's formatted SNPs on Chr7"
   ]
  },
  {
   "cell_type": "code",
   "execution_count": 30,
   "id": "c03876a6-b33a-4f42-af8d-25c93233dee2",
   "metadata": {},
   "outputs": [],
   "source": [
    "snp2_sorted <- snp2[, order(names(snp2))]"
   ]
  },
  {
   "cell_type": "code",
   "execution_count": 31,
   "id": "f24d0fef-0977-4f61-9c6d-a401efb46469",
   "metadata": {},
   "outputs": [],
   "source": [
    "colnames(snp2) <- gsub(\"Br0\", \"Br\", colnames(snp2))"
   ]
  },
  {
   "cell_type": "code",
   "execution_count": 32,
   "id": "84f086ad-bf9a-4002-9fd0-822cef73679b",
   "metadata": {},
   "outputs": [],
   "source": [
    "snp2 <- snp2[, colnames(snp2) %in% colnames(p.residual)]"
   ]
  },
  {
   "cell_type": "code",
   "execution_count": 33,
   "id": "87fd1318-bcea-4a94-9b53-2361257d86bb",
   "metadata": {},
   "outputs": [],
   "source": [
    "snp2_positions <- stringr::str_split_fixed(rownames(snp2), \":\", 3)[, 2]"
   ]
  },
  {
   "cell_type": "markdown",
   "id": "64e0f588-fc43-4f4a-aba6-911d037e9ead",
   "metadata": {},
   "source": [
    "#### Now let's load ours on Chr1"
   ]
  },
  {
   "cell_type": "code",
   "execution_count": 34,
   "id": "04b0b495-749b-42fa-a4ce-2d7f14f0a053",
   "metadata": {},
   "outputs": [],
   "source": [
    "paths <- list(pvar_path = \"/expanse/lustre/projects/jhu152/naglemi/mwas/gwas/libd_chr1.pvar\",\n",
    "              pgen_path = \"/expanse/lustre/projects/jhu152/naglemi/mwas/gwas/libd_chr1.pgen\",\n",
    "              psam_path = \"/expanse/lustre/projects/jhu152/naglemi/mwas/gwas/libd_chr1.psam\")\n",
    "\n",
    "my_SNPs <- loadSNPData(paths$pvar_path, paths$pgen_path, paths$psam_path)"
   ]
  },
  {
   "cell_type": "code",
   "execution_count": 35,
   "id": "1dd4ef47-2a68-4f01-a0e5-03efd6732c4a",
   "metadata": {},
   "outputs": [],
   "source": [
    "snp_indices_of_interest <- which(my_SNPs$pvar_dt$POS >= 73274305-10000 & my_SNPs$pvar_dt$POS <= 73419830 + 10000)"
   ]
  },
  {
   "cell_type": "code",
   "execution_count": 36,
   "id": "67aa0c72-53e2-40ef-8d97-9621bdd799ea",
   "metadata": {},
   "outputs": [],
   "source": [
    "snp3 <- pgenlibr::ReadList(my_SNPs$pgen,\n",
    "                        variant_subset = snp_indices_of_interest)\n",
    "colnames(snp3) <- my_SNPs$pvar_dt$ID[snp_indices_of_interest]\n",
    "rownames(snp3) <- my_SNPs$psam$`#IID`"
   ]
  },
  {
   "cell_type": "code",
   "execution_count": 37,
   "id": "7a35ed6c-92ba-44b3-840e-ffc621828872",
   "metadata": {},
   "outputs": [],
   "source": [
    "map3 <- data.frame(POS = stringr::str_split_fixed(colnames(snp3), \":\", 3)[, 2])"
   ]
  },
  {
   "cell_type": "code",
   "execution_count": 38,
   "id": "ca549289-47f4-444b-b3e8-7d8a39c2e33f",
   "metadata": {},
   "outputs": [],
   "source": [
    "snp3 <- t(snp3)"
   ]
  },
  {
   "cell_type": "code",
   "execution_count": 39,
   "id": "191b05e4-0107-4059-887e-bd3f2cafde0f",
   "metadata": {},
   "outputs": [],
   "source": [
    "map3 <- data.frame(POS = stringr::str_split_fixed(rownames(snp3), \":\", 3)[, 2])"
   ]
  },
  {
   "cell_type": "code",
   "execution_count": 40,
   "id": "4e17a504-e98e-4d5e-bc59-3fd09faf3de8",
   "metadata": {},
   "outputs": [
    {
     "data": {
      "text/html": [
       "<style>\n",
       ".list-inline {list-style: none; margin:0; padding: 0}\n",
       ".list-inline>li {display: inline-block}\n",
       ".list-inline>li:not(:last-child)::after {content: \"\\00b7\"; padding: 0 .5ex}\n",
       "</style>\n",
       "<ol class=list-inline><li>321</li><li>1</li></ol>\n"
      ],
      "text/latex": [
       "\\begin{enumerate*}\n",
       "\\item 321\n",
       "\\item 1\n",
       "\\end{enumerate*}\n"
      ],
      "text/markdown": [
       "1. 321\n",
       "2. 1\n",
       "\n",
       "\n"
      ],
      "text/plain": [
       "[1] 321   1"
      ]
     },
     "metadata": {},
     "output_type": "display_data"
    }
   ],
   "source": [
    "dim(map3)"
   ]
  },
  {
   "cell_type": "markdown",
   "id": "d0fb3ea3-0f60-4a62-b787-66185fc8e792",
   "metadata": {},
   "source": [
    "### SNPs in reference population"
   ]
  },
  {
   "cell_type": "code",
   "execution_count": 41,
   "id": "00b33368-a3ec-4788-8b82-519e1fbd5e95",
   "metadata": {},
   "outputs": [],
   "source": [
    "#snp.1kg.eur2"
   ]
  },
  {
   "cell_type": "code",
   "execution_count": 42,
   "id": "99022f2f-c9b9-47db-a5af-b2d7ba0ded99",
   "metadata": {},
   "outputs": [],
   "source": [
    "paths <- list(pvar_path = \"/expanse/lustre/projects/jhu152/naglemi/mwas/gwas/ref_EUR_chr1.pvar\",\n",
    "              pgen_path = \"/expanse/lustre/projects/jhu152/naglemi/mwas/gwas/ref_EUR_chr1.pgen\",\n",
    "              psam_path = \"/expanse/lustre/projects/jhu152/naglemi/mwas/gwas/ref_EUR_chr1.psam\")\n",
    "\n",
    "my_SNPs <- loadSNPData(paths$pvar_path, paths$pgen_path, paths$psam_path)"
   ]
  },
  {
   "cell_type": "code",
   "execution_count": 43,
   "id": "90b30176-0532-45a1-bf5e-17e207bb61d5",
   "metadata": {},
   "outputs": [],
   "source": [
    "snp_indices_of_interest <- which(my_SNPs$pvar_dt$POS >= 73274305-10000 & my_SNPs$pvar_dt$POS <= 73419830 + 10000)"
   ]
  },
  {
   "cell_type": "code",
   "execution_count": 44,
   "id": "85f427f7-e4d3-4ba6-ad1a-a2691f68346e",
   "metadata": {},
   "outputs": [],
   "source": [
    "snp.1kg.eur2 <- pgenlibr::ReadList(my_SNPs$pgen,\n",
    "                        variant_subset = snp_indices_of_interest)\n",
    "colnames(snp.1kg.eur2) <- my_SNPs$pvar_dt$ID[snp_indices_of_interest]\n",
    "rownames(snp.1kg.eur2) <- my_SNPs$psam$`IID`"
   ]
  },
  {
   "cell_type": "code",
   "execution_count": 45,
   "id": "38d80ac5-91d5-4766-8953-fe93f6de6a34",
   "metadata": {},
   "outputs": [],
   "source": [
    "map.1kg.eur2 <- my_SNPs$pvar_dt"
   ]
  },
  {
   "cell_type": "code",
   "execution_count": 46,
   "id": "a9650fe9-2483-4bf0-95d3-0102b90465f2",
   "metadata": {},
   "outputs": [],
   "source": [
    "map.1kg.eur2 <- map.1kg.eur2[snp_indices_of_interest, ]"
   ]
  },
  {
   "cell_type": "code",
   "execution_count": 47,
   "id": "f6f5d1f5-0681-4825-bfa7-79d3ace6f004",
   "metadata": {},
   "outputs": [],
   "source": [
    "snp.1kg.eur2 <- t(snp.1kg.eur2)"
   ]
  },
  {
   "cell_type": "markdown",
   "id": "882a7c0a-0ec2-4aa2-be3c-a2f152126bd8",
   "metadata": {},
   "source": [
    "### Set window size and any other parameters"
   ]
  },
  {
   "cell_type": "code",
   "execution_count": 48,
   "id": "461263e5-8c47-40ae-b3e4-03dbea4820e8",
   "metadata": {},
   "outputs": [],
   "source": [
    "wind <- 10000"
   ]
  },
  {
   "cell_type": "markdown",
   "id": "0849e5e3-af47-480f-82ca-97b07d1dd943",
   "metadata": {},
   "source": [
    "Is 1se vs min for lambda the problem?"
   ]
  },
  {
   "cell_type": "markdown",
   "id": "b0244eba-060a-4ac3-966c-cb68deb41cb0",
   "metadata": {},
   "source": [
    "#### Final formatting steps to prepare for MWAS - sort samples"
   ]
  },
  {
   "cell_type": "code",
   "execution_count": 49,
   "id": "f41f9c4d-1489-45a4-ad25-d446a05980bf",
   "metadata": {},
   "outputs": [],
   "source": [
    "p.residual <- p.residual[, order(colnames(p.residual))]"
   ]
  },
  {
   "cell_type": "code",
   "execution_count": 50,
   "id": "65857cda-1517-4854-a1e1-5af6459cbdca",
   "metadata": {},
   "outputs": [],
   "source": [
    "snp3 <- snp3[, colnames(snp3) %in% colnames(p.residual)]"
   ]
  },
  {
   "cell_type": "code",
   "execution_count": 51,
   "id": "7ab51668-a9da-4913-a8ee-41aa0d49550e",
   "metadata": {},
   "outputs": [],
   "source": [
    "snp3 <- snp3[, order(colnames(snp3))]"
   ]
  },
  {
   "cell_type": "markdown",
   "id": "768cf092-82d8-46e6-b322-efd6e09bbb73",
   "metadata": {},
   "source": [
    "## MWAS"
   ]
  },
  {
   "cell_type": "markdown",
   "id": "c3720675-e92d-46ee-b5a6-66d71d367dc4",
   "metadata": {},
   "source": [
    "### With `lambda.1se`"
   ]
  },
  {
   "cell_type": "markdown",
   "id": "cfc14c0f-1e12-4108-97fc-ab66a6467640",
   "metadata": {},
   "source": [
    "#### Stage 1"
   ]
  },
  {
   "cell_type": "code",
   "execution_count": 52,
   "id": "305409c3-5abb-49c2-9914-6fd958064abf",
   "metadata": {},
   "outputs": [
    {
     "name": "stdout",
     "output_type": "stream",
     "text": [
      "1 \n",
      "[1] \"This cg is: 73274305\"\n"
     ]
    },
    {
     "name": "stderr",
     "output_type": "stream",
     "text": [
      "Warning message:\n",
      "“executing %dopar% sequentially: no parallel backend registered”\n"
     ]
    },
    {
     "name": "stdout",
     "output_type": "stream",
     "text": [
      "2 \n",
      "[1] \"This cg is: 73274312\"\n",
      "3 \n",
      "[1] \"This cg is: 73292330\"\n",
      "4 \n",
      "[1] \"This cg is: 73307769\"\n",
      "5 \n",
      "[1] \"This cg is: 73308571\"\n",
      "6 \n",
      "[1] \"This cg is: 73419188\"\n",
      "7 \n",
      "[1] \"This cg is: 73419830\"\n",
      "8 \n",
      "[1] \"This cg is: 73420076\"\n"
     ]
    }
   ],
   "source": [
    "for(k in 1:length(wind)){\n",
    "    models.ea <- c()\n",
    "    models.all <- c()\n",
    "    for(i in 1:length(cg)){\n",
    "    #for(i in 1){\n",
    "            cat(i,\"\\n\")\n",
    "            print(paste0(\"This cg is: \", cg[i]))\n",
    "            range1 <- ifelse(cg[i] - wind[k] > 0,cg[i] - wind[k],0)\n",
    "            range2 <- cg[i] + wind[k]\n",
    "            idx <- map3$POS > range1 & map3$POS < range2\n",
    "            # go to next cg if no snps within window\n",
    "            if(sum(idx) <= 1){\n",
    "                    next\n",
    "            }\n",
    "            geno <- snp3[idx,] # changed snp2 to snp3\n",
    "            rownames(geno) <- map3$POS[idx]\n",
    "            trainX <- t(geno)\n",
    "            trainY <- p.residual[i,]\n",
    "            fit <- elastic.net(trainX,trainY)\n",
    "            fit <- tryCatch(\n",
    "                    elastic.net(trainX,trainY),\n",
    "                    error = function(e) {return (\"err\")})\n",
    "            if(!is.data.frame(fit)){\n",
    "                if(fit == \"err\"){\n",
    "                    next\n",
    "                }\n",
    "            }\n",
    "            if(nrow(fit) == 0) next\n",
    "\n",
    "            fit$cg <- cg[i]\n",
    "            models.all <- rbind(models.all,fit)\n",
    "            # EA only\n",
    "            trainX <- trainX[idx.ea,]\n",
    "            if(sum(apply(trainX,2,var)!=0) <= 1){\n",
    "                    next\n",
    "            }\n",
    "            trainY <- trainY[idx.ea]\n",
    "            fit <- tryCatch(\n",
    "                    elastic.net(trainX,trainY),\n",
    "                    error = function(e) {return (\"err\")})\n",
    "            if(!is.data.frame(fit)){\n",
    "                if(fit == \"err\"){\n",
    "                    next\n",
    "                }\n",
    "            }\n",
    "            if(nrow(fit) == 0) next\n",
    "            fit$cg <- cg[i]\n",
    "            models.ea <- rbind(models.ea,fit)\n",
    "    }\n",
    "}"
   ]
  },
  {
   "cell_type": "code",
   "execution_count": 53,
   "id": "3d109e75-bf26-43f5-8a0d-d6bb2f9cbe6b",
   "metadata": {},
   "outputs": [],
   "source": [
    "models.ea <- models.ea[models.ea[,1] != \"(Intercept)\",]\n",
    "models.all <- models.all[models.all[,1] != \"(Intercept)\",]"
   ]
  },
  {
   "cell_type": "markdown",
   "id": "9f851085-6f8e-4b8e-91fb-5696125a32be",
   "metadata": {},
   "source": [
    "#### Stage 2"
   ]
  },
  {
   "cell_type": "code",
   "execution_count": 55,
   "id": "ad0d6d07-06f6-403d-8496-5dd34d8ba4b1",
   "metadata": {},
   "outputs": [],
   "source": [
    "if(!dir.exists(outd)) dir.create(outd)"
   ]
  },
  {
   "cell_type": "code",
   "execution_count": 56,
   "id": "96693eaa-eb61-415a-b5d8-6034f0a4d150",
   "metadata": {},
   "outputs": [],
   "source": [
    "# mwas by models of all samples\n",
    "cg2 <- unique(models.all$cg)\n",
    "mwas.all <- matrix(0,nrow=length(cg2),ncol=2)\n",
    "for(i in 1:length(cg2)){\n",
    "        pos <- models.all[models.all$cg == cg2[i],1]\n",
    "        gwas <- snp.gwas2$z[is.element(snp.gwas2$pos_hg38, pos)]\n",
    "        weight <- models.all[models.all$cg == cg2[i],2]\n",
    "        #geno <- snp.1kg.eur2[match(pos,map.1kg.eur2$POS),]\n",
    "\n",
    "        match_indices <- match(pos, map.1kg.eur2$POS)\n",
    "    \n",
    "        tryCatch({\n",
    "            geno <- snp.1kg.eur2[match_indices, , drop = FALSE]\n",
    "        }, error = function(e) {\n",
    "            cat(\"Error accessing genotype data at iteration:\", i, \"\\n\")\n",
    "            cat(\"Error message:\", e$message, \"\\n\")\n",
    "            stop(\"Stopping execution due to error.\")\n",
    "        })\n",
    "    \n",
    "        mwas.all[i,] <- MWAS(gwas, weight, t(geno))\n",
    "}\n",
    "rownames(mwas.all) <- cg2\n",
    "colnames(mwas.all) <- c(\"z\",\"p\")"
   ]
  },
  {
   "cell_type": "code",
   "execution_count": 57,
   "id": "c5fbba20-e398-4e3d-8c18-c99857820da5",
   "metadata": {},
   "outputs": [],
   "source": [
    "# mwas by models of EA samples\n",
    "cg2 <- unique(models.ea$cg)\n",
    "mwas.ea <- matrix(0,nrow=length(cg2),ncol=2)\n",
    "for(i in 1:length(cg2)){\n",
    "        pos <- models.ea[models.ea$cg == cg2[i],1]\n",
    "        gwas <- snp.gwas2$z[is.element(snp.gwas2$pos_hg38, pos)]\n",
    "        weight <- models.ea[models.ea$cg == cg2[i],2]\n",
    "        #geno <- snp.1kg.eur2[match(pos,map.1kg.eur2$POS),]\n",
    "\n",
    "        match_indices <- match(pos, map.1kg.eur2$POS)\n",
    "\n",
    "        tryCatch({\n",
    "            geno <- snp.1kg.eur2[match_indices, , drop = FALSE]\n",
    "        }, error = function(e) {\n",
    "            cat(\"Error accessing genotype data at iteration:\", i, \"\\n\")\n",
    "            cat(\"Error message:\", e$message, \"\\n\")\n",
    "            stop(\"Stopping execution due to error.\")\n",
    "        })    \n",
    "    \n",
    "        mwas.ea[i,] <- MWAS(gwas, weight, t(geno))\n",
    "}\n",
    "rownames(mwas.ea) <- cg2\n",
    "colnames(mwas.ea) <- c(\"z\",\"p\")"
   ]
  },
  {
   "cell_type": "code",
   "execution_count": 59,
   "id": "207bf56e-0680-4f1b-a54d-f5e4b68cf77d",
   "metadata": {},
   "outputs": [
    {
     "data": {
      "text/html": [
       "<table class=\"dataframe\">\n",
       "<caption>A matrix: 6 × 2 of type dbl</caption>\n",
       "<thead>\n",
       "\t<tr><th></th><th scope=col>z</th><th scope=col>p</th></tr>\n",
       "</thead>\n",
       "<tbody>\n",
       "\t<tr><th scope=row>73292330</th><td>  51.041396</td><td> 0.000000e+00</td></tr>\n",
       "\t<tr><th scope=row>73307769</th><td>  -8.488548</td><td> 2.092341e-17</td></tr>\n",
       "\t<tr><th scope=row>73308571</th><td>-127.517153</td><td> 0.000000e+00</td></tr>\n",
       "\t<tr><th scope=row>73419188</th><td> -67.208233</td><td> 0.000000e+00</td></tr>\n",
       "\t<tr><th scope=row>73419830</th><td> -22.933405</td><td>2.157726e-116</td></tr>\n",
       "\t<tr><th scope=row>73420076</th><td> -17.475666</td><td> 2.195658e-68</td></tr>\n",
       "</tbody>\n",
       "</table>\n"
      ],
      "text/latex": [
       "A matrix: 6 × 2 of type dbl\n",
       "\\begin{tabular}{r|ll}\n",
       "  & z & p\\\\\n",
       "\\hline\n",
       "\t73292330 &   51.041396 &  0.000000e+00\\\\\n",
       "\t73307769 &   -8.488548 &  2.092341e-17\\\\\n",
       "\t73308571 & -127.517153 &  0.000000e+00\\\\\n",
       "\t73419188 &  -67.208233 &  0.000000e+00\\\\\n",
       "\t73419830 &  -22.933405 & 2.157726e-116\\\\\n",
       "\t73420076 &  -17.475666 &  2.195658e-68\\\\\n",
       "\\end{tabular}\n"
      ],
      "text/markdown": [
       "\n",
       "A matrix: 6 × 2 of type dbl\n",
       "\n",
       "| <!--/--> | z | p |\n",
       "|---|---|---|\n",
       "| 73292330 |   51.041396 |  0.000000e+00 |\n",
       "| 73307769 |   -8.488548 |  2.092341e-17 |\n",
       "| 73308571 | -127.517153 |  0.000000e+00 |\n",
       "| 73419188 |  -67.208233 |  0.000000e+00 |\n",
       "| 73419830 |  -22.933405 | 2.157726e-116 |\n",
       "| 73420076 |  -17.475666 |  2.195658e-68 |\n",
       "\n"
      ],
      "text/plain": [
       "         z           p            \n",
       "73292330   51.041396  0.000000e+00\n",
       "73307769   -8.488548  2.092341e-17\n",
       "73308571 -127.517153  0.000000e+00\n",
       "73419188  -67.208233  0.000000e+00\n",
       "73419830  -22.933405 2.157726e-116\n",
       "73420076  -17.475666  2.195658e-68"
      ]
     },
     "metadata": {},
     "output_type": "display_data"
    }
   ],
   "source": [
    "mwas.all"
   ]
  },
  {
   "cell_type": "markdown",
   "id": "0765a889-36b0-4d87-bd66-4f33dbea0de5",
   "metadata": {},
   "source": [
    "### With `lambda.min`"
   ]
  },
  {
   "cell_type": "code",
   "execution_count": 62,
   "id": "ca1f98c7-3dea-46b4-b2d2-9ab69c57f472",
   "metadata": {},
   "outputs": [],
   "source": [
    "#original\n",
    "elastic.net <- function(trainX,trainY){\n",
    "    if(nrow(trainX)!=length(trainY)){\n",
    "            stop(\"Number of observations is differerent\")\n",
    "    } \n",
    "\n",
    "    # optimize alpha---mixing parameter  \n",
    "    a <- 0.5\n",
    "    search <- foreach(ai = a, .combine = rbind) %dopar% {\n",
    "        cv.fit <- cv.glmnet(\n",
    "                        trainX,\n",
    "                        trainY,\n",
    "                        nfold = 5,\n",
    "                        type.measure = \"mse\",\n",
    "                        paralle = TRUE,\n",
    "                        alpha = ai\n",
    "                        )\n",
    "        data.frame(\n",
    "                        cvm = min(cv.fit$cvm),\n",
    "                        lambda = cv.fit$lambda.min,\n",
    "                        alpha = ai\n",
    "                        )\n",
    "        } \n",
    "    cv.opt <- search[search$cvm == min(search$cvm),] \n",
    "\n",
    "        # fit model by optimized alpha and lambda\n",
    "        yfit = glmnet(\n",
    "        trainX,\n",
    "        trainY,\n",
    "        lambda = cv.opt$lambda,\n",
    "        alpha = cv.opt$alpha\n",
    "                )       \n",
    "        idf <- coef(yfit)\n",
    "        idx <- which(idf != 0)\n",
    "        selectf <- data.frame(\n",
    "                features = idf@Dimnames[[1]][idx], \n",
    "                coefs = idf [idx]\n",
    "        )\n",
    "}"
   ]
  },
  {
   "cell_type": "markdown",
   "id": "047c1cca-57f3-494d-9f25-08d7959713d9",
   "metadata": {},
   "source": [
    "#### Stage 1"
   ]
  },
  {
   "cell_type": "code",
   "execution_count": 63,
   "id": "61a5f950-2c27-40b1-aa96-809004183249",
   "metadata": {},
   "outputs": [
    {
     "name": "stdout",
     "output_type": "stream",
     "text": [
      "1 \n",
      "[1] \"This cg is: 73274305\"\n",
      "2 \n",
      "[1] \"This cg is: 73274312\"\n",
      "3 \n",
      "[1] \"This cg is: 73292330\"\n",
      "4 \n",
      "[1] \"This cg is: 73307769\"\n",
      "5 \n",
      "[1] \"This cg is: 73308571\"\n",
      "6 \n",
      "[1] \"This cg is: 73419188\"\n",
      "7 \n",
      "[1] \"This cg is: 73419830\"\n",
      "8 \n",
      "[1] \"This cg is: 73420076\"\n"
     ]
    }
   ],
   "source": [
    "for(k in 1:length(wind)){\n",
    "    models.ea <- c()\n",
    "    models.all <- c()\n",
    "    for(i in 1:length(cg)){\n",
    "    #for(i in 1){\n",
    "            cat(i,\"\\n\")\n",
    "            print(paste0(\"This cg is: \", cg[i]))\n",
    "            range1 <- ifelse(cg[i] - wind[k] > 0,cg[i] - wind[k],0)\n",
    "            range2 <- cg[i] + wind[k]\n",
    "            idx <- map3$POS > range1 & map3$POS < range2\n",
    "            # go to next cg if no snps within window\n",
    "            if(sum(idx) <= 1){\n",
    "                    next\n",
    "            }\n",
    "            geno <- snp3[idx,] # changed snp2 to snp3\n",
    "            rownames(geno) <- map3$POS[idx]\n",
    "            trainX <- t(geno)\n",
    "            trainY <- p.residual[i,]\n",
    "            fit <- elastic.net(trainX,trainY)\n",
    "            fit <- tryCatch(\n",
    "                    elastic.net(trainX,trainY),\n",
    "                    error = function(e) {return (\"err\")})\n",
    "            if(!is.data.frame(fit)){\n",
    "                if(fit == \"err\"){\n",
    "                    next\n",
    "                }\n",
    "            }\n",
    "            if(nrow(fit) == 0) next\n",
    "\n",
    "            fit$cg <- cg[i]\n",
    "            models.all <- rbind(models.all,fit)\n",
    "            # EA only\n",
    "            trainX <- trainX[idx.ea,]\n",
    "            if(sum(apply(trainX,2,var)!=0) <= 1){\n",
    "                    next\n",
    "            }\n",
    "            trainY <- trainY[idx.ea]\n",
    "            fit <- tryCatch(\n",
    "                    elastic.net(trainX,trainY),\n",
    "                    error = function(e) {return (\"err\")})\n",
    "            if(!is.data.frame(fit)){\n",
    "                if(fit == \"err\"){\n",
    "                    next\n",
    "                }\n",
    "            }\n",
    "            if(nrow(fit) == 0) next\n",
    "            fit$cg <- cg[i]\n",
    "            models.ea <- rbind(models.ea,fit)\n",
    "    }\n",
    "}"
   ]
  },
  {
   "cell_type": "code",
   "execution_count": 64,
   "id": "edde27e7-2435-474e-8fee-5870af257547",
   "metadata": {},
   "outputs": [],
   "source": [
    "models.ea <- models.ea[models.ea[,1] != \"(Intercept)\",]\n",
    "models.all <- models.all[models.all[,1] != \"(Intercept)\",]"
   ]
  },
  {
   "cell_type": "markdown",
   "id": "e1a14145-108e-4f1c-9abb-fd4744ba5105",
   "metadata": {},
   "source": [
    "#### Stage 2"
   ]
  },
  {
   "cell_type": "code",
   "execution_count": 65,
   "id": "582b72bb-156b-4d61-9a28-b6e07b2feee6",
   "metadata": {},
   "outputs": [],
   "source": [
    "if(!dir.exists(outd)) dir.create(outd)"
   ]
  },
  {
   "cell_type": "code",
   "execution_count": 66,
   "id": "0dc61fc5-dcd5-41ca-b76d-61e379df41fc",
   "metadata": {},
   "outputs": [],
   "source": [
    "# mwas by models of all samples\n",
    "cg2 <- unique(models.all$cg)\n",
    "mwas.all <- matrix(0,nrow=length(cg2),ncol=2)\n",
    "for(i in 1:length(cg2)){\n",
    "        pos <- models.all[models.all$cg == cg2[i],1]\n",
    "        gwas <- snp.gwas2$z[is.element(snp.gwas2$pos_hg38, pos)]\n",
    "        weight <- models.all[models.all$cg == cg2[i],2]\n",
    "        #geno <- snp.1kg.eur2[match(pos,map.1kg.eur2$POS),]\n",
    "\n",
    "        match_indices <- match(pos, map.1kg.eur2$POS)\n",
    "    \n",
    "        tryCatch({\n",
    "            geno <- snp.1kg.eur2[match_indices, , drop = FALSE]\n",
    "        }, error = function(e) {\n",
    "            cat(\"Error accessing genotype data at iteration:\", i, \"\\n\")\n",
    "            cat(\"Error message:\", e$message, \"\\n\")\n",
    "            stop(\"Stopping execution due to error.\")\n",
    "        })\n",
    "    \n",
    "        mwas.all[i,] <- MWAS(gwas, weight, t(geno))\n",
    "}\n",
    "rownames(mwas.all) <- cg2\n",
    "colnames(mwas.all) <- c(\"z\",\"p\")"
   ]
  },
  {
   "cell_type": "code",
   "execution_count": 67,
   "id": "4002b896-fbac-46f7-aae3-671083aa49d7",
   "metadata": {},
   "outputs": [],
   "source": [
    "# mwas by models of EA samples\n",
    "cg2 <- unique(models.ea$cg)\n",
    "mwas.ea <- matrix(0,nrow=length(cg2),ncol=2)\n",
    "for(i in 1:length(cg2)){\n",
    "        pos <- models.ea[models.ea$cg == cg2[i],1]\n",
    "        gwas <- snp.gwas2$z[is.element(snp.gwas2$pos_hg38, pos)]\n",
    "        weight <- models.ea[models.ea$cg == cg2[i],2]\n",
    "        #geno <- snp.1kg.eur2[match(pos,map.1kg.eur2$POS),]\n",
    "\n",
    "        match_indices <- match(pos, map.1kg.eur2$POS)\n",
    "\n",
    "        tryCatch({\n",
    "            geno <- snp.1kg.eur2[match_indices, , drop = FALSE]\n",
    "        }, error = function(e) {\n",
    "            cat(\"Error accessing genotype data at iteration:\", i, \"\\n\")\n",
    "            cat(\"Error message:\", e$message, \"\\n\")\n",
    "            stop(\"Stopping execution due to error.\")\n",
    "        })    \n",
    "    \n",
    "        mwas.ea[i,] <- MWAS(gwas, weight, t(geno))\n",
    "}\n",
    "rownames(mwas.ea) <- cg2\n",
    "colnames(mwas.ea) <- c(\"z\",\"p\")"
   ]
  },
  {
   "cell_type": "code",
   "execution_count": 69,
   "id": "4131a37d-d770-49e0-b06e-f7731eda00d6",
   "metadata": {},
   "outputs": [
    {
     "data": {
      "text/html": [
       "<table class=\"dataframe\">\n",
       "<caption>A matrix: 8 × 2 of type dbl</caption>\n",
       "<thead>\n",
       "\t<tr><th></th><th scope=col>z</th><th scope=col>p</th></tr>\n",
       "</thead>\n",
       "<tbody>\n",
       "\t<tr><th scope=row>73274305</th><td> 7.047203</td><td> 1.825500e-12</td></tr>\n",
       "\t<tr><th scope=row>73274312</th><td>14.382760</td><td> 6.639310e-47</td></tr>\n",
       "\t<tr><th scope=row>73292330</th><td>22.765761</td><td>1.001797e-114</td></tr>\n",
       "\t<tr><th scope=row>73307769</th><td>-6.752929</td><td> 1.448898e-11</td></tr>\n",
       "\t<tr><th scope=row>73308571</th><td>-2.556653</td><td> 1.056846e-02</td></tr>\n",
       "\t<tr><th scope=row>73419188</th><td>-6.367666</td><td> 1.919267e-10</td></tr>\n",
       "\t<tr><th scope=row>73419830</th><td>-8.755770</td><td> 2.027148e-18</td></tr>\n",
       "\t<tr><th scope=row>73420076</th><td>-8.682294</td><td> 3.878664e-18</td></tr>\n",
       "</tbody>\n",
       "</table>\n"
      ],
      "text/latex": [
       "A matrix: 8 × 2 of type dbl\n",
       "\\begin{tabular}{r|ll}\n",
       "  & z & p\\\\\n",
       "\\hline\n",
       "\t73274305 &  7.047203 &  1.825500e-12\\\\\n",
       "\t73274312 & 14.382760 &  6.639310e-47\\\\\n",
       "\t73292330 & 22.765761 & 1.001797e-114\\\\\n",
       "\t73307769 & -6.752929 &  1.448898e-11\\\\\n",
       "\t73308571 & -2.556653 &  1.056846e-02\\\\\n",
       "\t73419188 & -6.367666 &  1.919267e-10\\\\\n",
       "\t73419830 & -8.755770 &  2.027148e-18\\\\\n",
       "\t73420076 & -8.682294 &  3.878664e-18\\\\\n",
       "\\end{tabular}\n"
      ],
      "text/markdown": [
       "\n",
       "A matrix: 8 × 2 of type dbl\n",
       "\n",
       "| <!--/--> | z | p |\n",
       "|---|---|---|\n",
       "| 73274305 |  7.047203 |  1.825500e-12 |\n",
       "| 73274312 | 14.382760 |  6.639310e-47 |\n",
       "| 73292330 | 22.765761 | 1.001797e-114 |\n",
       "| 73307769 | -6.752929 |  1.448898e-11 |\n",
       "| 73308571 | -2.556653 |  1.056846e-02 |\n",
       "| 73419188 | -6.367666 |  1.919267e-10 |\n",
       "| 73419830 | -8.755770 |  2.027148e-18 |\n",
       "| 73420076 | -8.682294 |  3.878664e-18 |\n",
       "\n"
      ],
      "text/plain": [
       "         z         p            \n",
       "73274305  7.047203  1.825500e-12\n",
       "73274312 14.382760  6.639310e-47\n",
       "73292330 22.765761 1.001797e-114\n",
       "73307769 -6.752929  1.448898e-11\n",
       "73308571 -2.556653  1.056846e-02\n",
       "73419188 -6.367666  1.919267e-10\n",
       "73419830 -8.755770  2.027148e-18\n",
       "73420076 -8.682294  3.878664e-18"
      ]
     },
     "metadata": {},
     "output_type": "display_data"
    }
   ],
   "source": [
    "mwas.all"
   ]
  },
  {
   "cell_type": "code",
   "execution_count": null,
   "id": "b88de2b2-c56c-493c-8087-c56d2e695fbd",
   "metadata": {},
   "outputs": [],
   "source": []
  }
 ],
 "metadata": {
  "kernelspec": {
   "display_name": "R",
   "language": "R",
   "name": "ir"
  },
  "language_info": {
   "codemirror_mode": "r",
   "file_extension": ".r",
   "mimetype": "text/x-r-source",
   "name": "R",
   "pygments_lexer": "r",
   "version": "4.3.1"
  }
 },
 "nbformat": 4,
 "nbformat_minor": 5
}
