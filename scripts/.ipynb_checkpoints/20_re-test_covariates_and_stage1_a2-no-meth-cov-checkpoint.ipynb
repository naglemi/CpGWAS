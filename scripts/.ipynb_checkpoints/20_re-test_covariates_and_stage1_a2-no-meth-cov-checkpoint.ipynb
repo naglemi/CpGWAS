{
 "cells": [
  {
   "cell_type": "markdown",
   "id": "bf56f1cb-692a-4f54-b026-99e8075d50e8",
   "metadata": {},
   "source": [
    "# Try MWAS with covariates prepared in various ways"
   ]
  },
  {
   "cell_type": "markdown",
   "id": "ca2a80fb-d548-4157-b585-cd5cf6a471d2",
   "metadata": {},
   "source": [
    "# Pick the regions we will test"
   ]
  },
  {
   "cell_type": "code",
   "execution_count": 1,
   "id": "36f713c6-9673-42fe-b9d9-2010f414deda",
   "metadata": {},
   "outputs": [],
   "source": [
    "library(data.table)\n",
    "\n",
    "prev_hits <- fread(\"\n",
    "Chr     pos        old_z       old_p\n",
    "11   38247902        -27.1535308285104       2.30024742330298e-162\n",
    "2    47933357        18.3327793004811        4.53147699327216e-75\n",
    "7    1987910         10.1255085321387        4.25759742738181e-24\n",
    "7    1987896         10.1255085321387        4.25759742738189e-24\n",
    "7    1987797         10.0241523897721        1.19379483108027e-23\n",
    "7    1987778         10.0105851568856        1.36940148731912e-23\n",
    "12   2194742         -10.0072634920486       1.41615523554955e-23\n",
    "\")\n"
   ]
  },
  {
   "cell_type": "code",
   "execution_count": 2,
   "id": "ed1b7512-ee13-4f4e-9a6b-da40e521c346",
   "metadata": {},
   "outputs": [],
   "source": [
    "#df <- fread(\"09.5-OUT_matched_SNP_meth_cov_chunked_EXPANSE_a2.csv\")"
   ]
  },
  {
   "cell_type": "code",
   "execution_count": 3,
   "id": "c6034757-2d3c-43d3-aa16-70baa5169549",
   "metadata": {},
   "outputs": [],
   "source": [
    "df <- fread(\"09-OUT_matched_SNP_meth_cov_a2.csv\")"
   ]
  },
  {
   "cell_type": "markdown",
   "id": "d7711c4d-5f19-4fd0-9f7b-891133ac3311",
   "metadata": {},
   "source": [
    "## Try original code"
   ]
  },
  {
   "cell_type": "code",
   "execution_count": 4,
   "id": "be729eb2-c5b2-4d3e-b835-072d8f5ba2e6",
   "metadata": {},
   "outputs": [],
   "source": [
    "###### model: learn elastic net model on training data \n",
    "######---------Input: trainX, trainY\n",
    "######---------Return: selected features and coefficents\n",
    "\n",
    "elastic.net <- function(trainX,trainY){\n",
    "    if(nrow(trainX)!=length(trainY)){\n",
    "            stop(\"Number of observations is differerent\")\n",
    "    } \n",
    "\n",
    "    # optimize alpha---mixing parameter  \n",
    "    #a <- seq(0, 1, 0.1)\n",
    "    a <- 0.5\n",
    "\n",
    "    search <- foreach(ai = a, .combine = rbind) %dopar% {\n",
    "        cv.fit <- cv.glmnet(\n",
    "                        trainX,\n",
    "                        trainY,\n",
    "                        nfold = 5,\n",
    "                        type.measure = \"mse\",\n",
    "                        paralle = TRUE,\n",
    "                        alpha = ai\n",
    "                        )\n",
    "        data.frame(\n",
    "                        cvm = min(cv.fit$cvm),\n",
    "                        lambda = cv.fit$lambda.min,\n",
    "                        alpha = ai\n",
    "                        )\n",
    "        } \n",
    "    cv.opt <- search[search$cvm == min(search$cvm),] \n",
    "\n",
    "        # fit model by optimized alpha and lambda\n",
    "        yfit = glmnet(\n",
    "        trainX,\n",
    "        trainY,\n",
    "        lambda = cv.opt$lambda,\n",
    "        alpha = cv.opt$alpha\n",
    "                )       \n",
    "        idf <- coef(yfit)\n",
    "        idx <- which(idf != 0)\n",
    "        selectf <- data.frame(\n",
    "                features = idf@Dimnames[[1]][idx], \n",
    "                coefs = idf [idx]\n",
    "        )\n",
    "}\n",
    "\n",
    "MWAS <- function(gwas, weight, geno){\n",
    "        z <- gwas %*% weight\n",
    "        z.cor <- cor(geno)\n",
    "        se <- sqrt(weight %*%  z.cor %*%  weight)\n",
    "        z <- z/se\n",
    "        p=pnorm(abs(z),lower.tail=F)*2\n",
    "        return(c(z, p))\n",
    "}"
   ]
  },
  {
   "cell_type": "code",
   "execution_count": 5,
   "id": "9821a860-2a97-4a7b-bfca-6e8abd96bf8a",
   "metadata": {},
   "outputs": [],
   "source": [
    "df <- df[which(df$Chr == 7), ]"
   ]
  },
  {
   "cell_type": "code",
   "execution_count": 6,
   "id": "a023b2df-92e9-414d-a2e5-a8c6d3193954",
   "metadata": {},
   "outputs": [],
   "source": [
    "i <- 2"
   ]
  },
  {
   "cell_type": "code",
   "execution_count": 7,
   "id": "22de2603-481a-4995-8991-1f6f64989e3d",
   "metadata": {},
   "outputs": [
    {
     "name": "stderr",
     "output_type": "stream",
     "text": [
      "Loading required package: Matrix\n",
      "\n",
      "Loaded glmnet 4.1-8\n",
      "\n",
      "Loading required package: foreach\n",
      "\n",
      "Loading required package: iterators\n",
      "\n",
      "Loading required package: parallel\n",
      "\n"
     ]
    }
   ],
   "source": [
    "library(\"glmnet\")\n",
    "library(\"e1071\")\n",
    "library(\"doParallel\")\n",
    "\n",
    "set.seed(2018)\n",
    "wind <- c(5000,10000)\n",
    "# output directory\n",
    "#outd <- \"/dcl02/lieber/shan/shizhong/finemapping/GWAS/tags/scz3/mwas/chr22/1/\"\n",
    "outd <- \"20-OUT_original_mwas_sanity_test/\""
   ]
  },
  {
   "cell_type": "code",
   "execution_count": 8,
   "id": "f9b051aa-a1e5-421b-856d-718cf85c24a3",
   "metadata": {},
   "outputs": [
    {
     "name": "stderr",
     "output_type": "stream",
     "text": [
      "Loading required package: BiocGenerics\n",
      "\n",
      "\n",
      "Attaching package: ‘BiocGenerics’\n",
      "\n",
      "\n",
      "The following objects are masked from ‘package:stats’:\n",
      "\n",
      "    IQR, mad, sd, var, xtabs\n",
      "\n",
      "\n",
      "The following objects are masked from ‘package:base’:\n",
      "\n",
      "    anyDuplicated, aperm, append, as.data.frame, basename, cbind,\n",
      "    colnames, dirname, do.call, duplicated, eval, evalq, Filter, Find,\n",
      "    get, grep, grepl, intersect, is.unsorted, lapply, Map, mapply,\n",
      "    match, mget, order, paste, pmax, pmax.int, pmin, pmin.int,\n",
      "    Position, rank, rbind, Reduce, rownames, sapply, setdiff, sort,\n",
      "    table, tapply, union, unique, unsplit, which.max, which.min\n",
      "\n",
      "\n",
      "Loading required package: GenomicRanges\n",
      "\n",
      "Loading required package: stats4\n",
      "\n",
      "Loading required package: S4Vectors\n",
      "\n",
      "\n",
      "Attaching package: ‘S4Vectors’\n",
      "\n",
      "\n",
      "The following objects are masked from ‘package:Matrix’:\n",
      "\n",
      "    expand, unname\n",
      "\n",
      "\n",
      "The following objects are masked from ‘package:data.table’:\n",
      "\n",
      "    first, second\n",
      "\n",
      "\n",
      "The following object is masked from ‘package:utils’:\n",
      "\n",
      "    findMatches\n",
      "\n",
      "\n",
      "The following objects are masked from ‘package:base’:\n",
      "\n",
      "    expand.grid, I, unname\n",
      "\n",
      "\n",
      "Loading required package: IRanges\n",
      "\n",
      "\n",
      "Attaching package: ‘IRanges’\n",
      "\n",
      "\n",
      "The following object is masked from ‘package:data.table’:\n",
      "\n",
      "    shift\n",
      "\n",
      "\n",
      "Loading required package: GenomeInfoDb\n",
      "\n",
      "Loading required package: SummarizedExperiment\n",
      "\n",
      "Loading required package: MatrixGenerics\n",
      "\n",
      "Loading required package: matrixStats\n",
      "\n",
      "\n",
      "Attaching package: ‘MatrixGenerics’\n",
      "\n",
      "\n",
      "The following objects are masked from ‘package:matrixStats’:\n",
      "\n",
      "    colAlls, colAnyNAs, colAnys, colAvgsPerRowSet, colCollapse,\n",
      "    colCounts, colCummaxs, colCummins, colCumprods, colCumsums,\n",
      "    colDiffs, colIQRDiffs, colIQRs, colLogSumExps, colMadDiffs,\n",
      "    colMads, colMaxs, colMeans2, colMedians, colMins, colOrderStats,\n",
      "    colProds, colQuantiles, colRanges, colRanks, colSdDiffs, colSds,\n",
      "    colSums2, colTabulates, colVarDiffs, colVars, colWeightedMads,\n",
      "    colWeightedMeans, colWeightedMedians, colWeightedSds,\n",
      "    colWeightedVars, rowAlls, rowAnyNAs, rowAnys, rowAvgsPerColSet,\n",
      "    rowCollapse, rowCounts, rowCummaxs, rowCummins, rowCumprods,\n",
      "    rowCumsums, rowDiffs, rowIQRDiffs, rowIQRs, rowLogSumExps,\n",
      "    rowMadDiffs, rowMads, rowMaxs, rowMeans2, rowMedians, rowMins,\n",
      "    rowOrderStats, rowProds, rowQuantiles, rowRanges, rowRanks,\n",
      "    rowSdDiffs, rowSds, rowSums2, rowTabulates, rowVarDiffs, rowVars,\n",
      "    rowWeightedMads, rowWeightedMeans, rowWeightedMedians,\n",
      "    rowWeightedSds, rowWeightedVars\n",
      "\n",
      "\n",
      "Loading required package: Biobase\n",
      "\n",
      "Welcome to Bioconductor\n",
      "\n",
      "    Vignettes contain introductory material; view with\n",
      "    'browseVignettes()'. To cite Bioconductor, see\n",
      "    'citation(\"Biobase\")', and for packages 'citation(\"pkgname\")'.\n",
      "\n",
      "\n",
      "\n",
      "Attaching package: ‘Biobase’\n",
      "\n",
      "\n",
      "The following object is masked from ‘package:MatrixGenerics’:\n",
      "\n",
      "    rowMedians\n",
      "\n",
      "\n",
      "The following objects are masked from ‘package:matrixStats’:\n",
      "\n",
      "    anyMissing, rowMedians\n",
      "\n",
      "\n"
     ]
    }
   ],
   "source": [
    "suppressWarnings(library(bsseq))"
   ]
  },
  {
   "cell_type": "code",
   "execution_count": 9,
   "id": "e90b99cd-2b98-40e1-bd61-7814f00d9aec",
   "metadata": {},
   "outputs": [],
   "source": [
    "# load data for mwas\n",
    "# load(\"./rda/caudate_mwas_data_chr22.rda\")\n",
    "load(df$methylation_data[i])\n",
    "\n",
    "p <- getMeth(BSobj2)\n",
    "\n",
    "\n",
    "rownames(p) <- start(BSobj2)\n",
    "\n",
    "sites_to_test <- which(start(BSobj2) >= (1987910 - 500) & start(BSobj2) <= (1987910 + 500))\n",
    "p <- p[sites_to_test, ]\n",
    "\n",
    "# candidate cg\n",
    "cg <- as.numeric(rownames(p))\n",
    "\n",
    "# regress out covariates\n",
    "#load(\"covs_for_meqtl.rda\")"
   ]
  },
  {
   "cell_type": "code",
   "execution_count": 10,
   "id": "cc499656-ec9a-45cd-ad05-b17e957eaaa6",
   "metadata": {},
   "outputs": [],
   "source": [
    "covs <- fread(df$cov_file2[i])\n",
    "covs <- t(covs)\n",
    "colnames(covs) <- covs[1, ]\n",
    "covs <- covs[2:nrow(covs), ]\n",
    "# transpose so we have same orientation as original code"
   ]
  },
  {
   "cell_type": "code",
   "execution_count": 11,
   "id": "8899261b-73fb-430e-bcdb-143fc8f04670",
   "metadata": {},
   "outputs": [],
   "source": [
    "mat <- match(BSobj2$brnum,colnames(covs)) \n",
    "covs <- t(covs[,mat])\n",
    "p.residual=matrix(0,dim(p)[1],dim(p)[2])"
   ]
  },
  {
   "cell_type": "code",
   "execution_count": 12,
   "id": "35031e54-4c54-4a37-9997-99b57efa86bf",
   "metadata": {},
   "outputs": [],
   "source": [
    "rownames(covs)[is.na(covs[, 'genoPC1'])] <- BSobj2$brnum[is.na(covs[, 'genoPC1'])]"
   ]
  },
  {
   "cell_type": "code",
   "execution_count": 13,
   "id": "70bda030-7a89-4dff-8c61-f576badfd8bd",
   "metadata": {},
   "outputs": [],
   "source": [
    "colnames(p.residual) <- BSobj2$brnum"
   ]
  },
  {
   "cell_type": "code",
   "execution_count": 14,
   "id": "78ee80f1-d9ea-46b0-b37a-dfeed3dbdf97",
   "metadata": {},
   "outputs": [],
   "source": [
    "covs <- as.data.frame(covs)\n",
    "# Convert all columns except Dx and Sex from character to numeric\n",
    "cols_to_convert <- setdiff(names(covs), c(\"Dx\", \"Sex\"))\n",
    "\n",
    "for (col in cols_to_convert) {\n",
    "  covs[[col]] <- as.numeric(covs[[col]])\n",
    "}\n",
    "\n",
    "# Print the modified data frame to check the conversion\n",
    "#print(dat)\n"
   ]
  },
  {
   "cell_type": "code",
   "execution_count": 15,
   "id": "db709d51-494c-431c-8327-9348dbf0419c",
   "metadata": {},
   "outputs": [],
   "source": [
    "for (i in 1:dim(p)[1]) { # For each methylation site\n",
    "    dat <- as.data.frame(cbind(y = p[i,], covs))\n",
    "    \n",
    "    # Check for rows with NAs (the ones for which we don't have covariate data)\n",
    "    valid_rows <- complete.cases(dat)\n",
    "    \n",
    "    if (sum(valid_rows) > 0) {\n",
    "        dat_valid <- dat[valid_rows,]\n",
    "        model.res <- lm(y ~ ., data = dat_valid)\n",
    "        \n",
    "        # Store residuals in the corresponding positions\n",
    "        p.residual[i, valid_rows] <- resid(model.res)\n",
    "    }\n",
    "}\n",
    "\n",
    "\n",
    "# for(i in 1:dim(p)[1]){ # foro each methylation site\n",
    "#         dat <- as.data.frame(cbind(p[i,],covs))\n",
    "#         colnames(dat) <- c(\"y\",paste0(\"x\",1:ncol(covs)))\n",
    "#         model.res <- lm(reformulate(paste0(\"x\",1:ncol(covs)), \"y\"),dat)\n",
    "#         p.residual[i,] = resid(model.res) \n",
    "# }"
   ]
  },
  {
   "cell_type": "code",
   "execution_count": null,
   "id": "ce228c6f-b114-4e80-a613-1bd47d1391c9",
   "metadata": {},
   "outputs": [],
   "source": []
  },
  {
   "cell_type": "code",
   "execution_count": 16,
   "id": "44f6b191-a277-4bb2-96ec-88025728ee70",
   "metadata": {},
   "outputs": [],
   "source": [
    "load(\"p1.rda\")"
   ]
  },
  {
   "cell_type": "code",
   "execution_count": 17,
   "id": "461263e5-8c47-40ae-b3e4-03dbea4820e8",
   "metadata": {},
   "outputs": [],
   "source": [
    "wind <- 10000"
   ]
  },
  {
   "cell_type": "code",
   "execution_count": 18,
   "id": "4714a813-116f-4567-a6b1-41bb02df8227",
   "metadata": {},
   "outputs": [],
   "source": [
    "# built predition models\n",
    "idx.ea <- BSobj2$race == \"CAUC\""
   ]
  },
  {
   "cell_type": "code",
   "execution_count": 19,
   "id": "84f086ad-bf9a-4002-9fd0-822cef73679b",
   "metadata": {},
   "outputs": [],
   "source": [
    "snp2 <- snp2[, colnames(snp2) %in% colnames(p.residual)]"
   ]
  },
  {
   "cell_type": "code",
   "execution_count": 20,
   "id": "305409c3-5abb-49c2-9914-6fd958064abf",
   "metadata": {},
   "outputs": [
    {
     "name": "stdout",
     "output_type": "stream",
     "text": [
      "1 \n"
     ]
    },
    {
     "name": "stderr",
     "output_type": "stream",
     "text": [
      "Warning message:\n",
      "“executing %dopar% sequentially: no parallel backend registered”\n"
     ]
    },
    {
     "name": "stdout",
     "output_type": "stream",
     "text": [
      "2 \n",
      "3 \n",
      "4 \n",
      "5 \n",
      "6 \n",
      "7 \n",
      "8 \n",
      "9 \n",
      "10 \n",
      "11 \n",
      "12 \n",
      "13 \n",
      "14 \n",
      "15 \n",
      "16 \n",
      "17 \n",
      "18 \n",
      "19 \n",
      "20 \n",
      "21 \n",
      "22 \n",
      "23 \n",
      "24 \n",
      "25 \n",
      "26 \n",
      "27 \n",
      "28 \n",
      "29 \n",
      "30 \n",
      "31 \n",
      "32 \n",
      "33 \n",
      "34 \n",
      "35 \n",
      "36 \n",
      "37 \n",
      "38 \n",
      "39 \n"
     ]
    },
    {
     "name": "stderr",
     "output_type": "stream",
     "text": [
      "Warning message:\n",
      "“from glmnet C++ code (error code -99); Convergence for 99th lambda value not reached after maxit=100000 iterations; solutions for larger lambdas returned”\n"
     ]
    },
    {
     "name": "stdout",
     "output_type": "stream",
     "text": [
      "40 \n",
      "41 \n"
     ]
    },
    {
     "name": "stderr",
     "output_type": "stream",
     "text": [
      "Warning message:\n",
      "“from glmnet C++ code (error code -86); Convergence for 86th lambda value not reached after maxit=100000 iterations; solutions for larger lambdas returned”\n"
     ]
    },
    {
     "name": "stdout",
     "output_type": "stream",
     "text": [
      "42 \n"
     ]
    },
    {
     "name": "stderr",
     "output_type": "stream",
     "text": [
      "Warning message:\n",
      "“from glmnet C++ code (error code -87); Convergence for 87th lambda value not reached after maxit=100000 iterations; solutions for larger lambdas returned”\n"
     ]
    },
    {
     "name": "stdout",
     "output_type": "stream",
     "text": [
      "43 \n",
      "44 \n"
     ]
    },
    {
     "name": "stderr",
     "output_type": "stream",
     "text": [
      "Warning message:\n",
      "“from glmnet C++ code (error code -97); Convergence for 97th lambda value not reached after maxit=100000 iterations; solutions for larger lambdas returned”\n",
      "Warning message:\n",
      "“from glmnet C++ code (error code -76); Convergence for 76th lambda value not reached after maxit=100000 iterations; solutions for larger lambdas returned”\n"
     ]
    },
    {
     "name": "stdout",
     "output_type": "stream",
     "text": [
      "45 \n"
     ]
    },
    {
     "name": "stderr",
     "output_type": "stream",
     "text": [
      "Warning message:\n",
      "“from glmnet C++ code (error code -96); Convergence for 96th lambda value not reached after maxit=100000 iterations; solutions for larger lambdas returned”\n",
      "Warning message:\n",
      "“from glmnet C++ code (error code -76); Convergence for 76th lambda value not reached after maxit=100000 iterations; solutions for larger lambdas returned”\n"
     ]
    },
    {
     "name": "stdout",
     "output_type": "stream",
     "text": [
      "46 \n"
     ]
    },
    {
     "name": "stderr",
     "output_type": "stream",
     "text": [
      "Warning message:\n",
      "“from glmnet C++ code (error code -100); Convergence for 100th lambda value not reached after maxit=100000 iterations; solutions for larger lambdas returned”\n",
      "Warning message:\n",
      "“from glmnet C++ code (error code -94); Convergence for 94th lambda value not reached after maxit=100000 iterations; solutions for larger lambdas returned”\n",
      "Warning message:\n",
      "“from glmnet C++ code (error code -78); Convergence for 78th lambda value not reached after maxit=100000 iterations; solutions for larger lambdas returned”\n"
     ]
    },
    {
     "name": "stdout",
     "output_type": "stream",
     "text": [
      "47 \n"
     ]
    },
    {
     "name": "stderr",
     "output_type": "stream",
     "text": [
      "Warning message:\n",
      "“from glmnet C++ code (error code -73); Convergence for 73th lambda value not reached after maxit=100000 iterations; solutions for larger lambdas returned”\n"
     ]
    },
    {
     "name": "stdout",
     "output_type": "stream",
     "text": [
      "48 \n"
     ]
    },
    {
     "name": "stderr",
     "output_type": "stream",
     "text": [
      "Warning message:\n",
      "“from glmnet C++ code (error code -99); Convergence for 99th lambda value not reached after maxit=100000 iterations; solutions for larger lambdas returned”\n",
      "Warning message:\n",
      "“from glmnet C++ code (error code -78); Convergence for 78th lambda value not reached after maxit=100000 iterations; solutions for larger lambdas returned”\n"
     ]
    },
    {
     "name": "stdout",
     "output_type": "stream",
     "text": [
      "49 \n"
     ]
    },
    {
     "name": "stderr",
     "output_type": "stream",
     "text": [
      "Warning message:\n",
      "“from glmnet C++ code (error code -99); Convergence for 99th lambda value not reached after maxit=100000 iterations; solutions for larger lambdas returned”\n",
      "Warning message:\n",
      "“from glmnet C++ code (error code -93); Convergence for 93th lambda value not reached after maxit=100000 iterations; solutions for larger lambdas returned”\n",
      "Warning message:\n",
      "“from glmnet C++ code (error code -76); Convergence for 76th lambda value not reached after maxit=100000 iterations; solutions for larger lambdas returned”\n"
     ]
    }
   ],
   "source": [
    "for(k in 1:length(wind)){\n",
    "    models.ea <- c()\n",
    "    models.all <- c()\n",
    "    for(i in 1:length(cg)){\n",
    "            cat(i,\"\\n\")\n",
    "            range1 <- ifelse(cg[i] - wind[k] > 0,cg[i] - wind[k],0)\n",
    "            range2 <- cg[i] + wind[k]\n",
    "            idx <- map2$POS > range1 & map2$POS < range2\n",
    "            # go to next cg if no snps within window\n",
    "            if(sum(idx) <= 1){\n",
    "                    next\n",
    "            }\n",
    "            geno <- snp2[idx,]\n",
    "            rownames(geno) <- map2$POS[idx]\n",
    "            trainX <- t(geno)\n",
    "            trainY <- p.residual[i,]\n",
    "            fit <- tryCatch(\n",
    "                    elastic.net(trainX,trainY),\n",
    "                    error = function(e) {return (\"err\")})\n",
    "            if(!is.data.frame(fit)){\n",
    "                if(fit == \"err\"){\n",
    "                    next\n",
    "                }\n",
    "            }\n",
    "\n",
    "            fit$cg <- cg[i]\n",
    "            models.all <- rbind(models.all,fit)\n",
    "            # EA only\n",
    "            trainX <- trainX[idx.ea,]\n",
    "            if(sum(apply(trainX,2,var)!=0) <= 1){\n",
    "                    next\n",
    "            }\n",
    "            trainY <- trainY[idx.ea]\n",
    "            fit <- tryCatch(\n",
    "                    elastic.net(trainX,trainY),\n",
    "                    error = function(e) {return (\"err\")})\n",
    "            if(!is.data.frame(fit)){\n",
    "                if(fit == \"err\"){\n",
    "                    next\n",
    "                }\n",
    "            }\n",
    "            fit$cg <- cg[i]\n",
    "            models.ea <- rbind(models.ea,fit)\n",
    "    }\n",
    "}"
   ]
  },
  {
   "cell_type": "code",
   "execution_count": 21,
   "id": "3d109e75-bf26-43f5-8a0d-d6bb2f9cbe6b",
   "metadata": {},
   "outputs": [],
   "source": [
    "models.ea <- models.ea[models.ea[,1] != \"(Intercept)\",]\n",
    "models.all <- models.all[models.all[,1] != \"(Intercept)\",]"
   ]
  },
  {
   "cell_type": "code",
   "execution_count": 22,
   "id": "c1a31bdf-06c1-4131-bbe2-b52c463ba929",
   "metadata": {},
   "outputs": [],
   "source": [
    "if(!dir.exists(outd)) dir.create(outd)"
   ]
  },
  {
   "cell_type": "code",
   "execution_count": 23,
   "id": "882b49b4-c020-49d1-9689-b9aedae0083c",
   "metadata": {},
   "outputs": [],
   "source": [
    "# mwas by models of all samples\n",
    "cg2 <- unique(models.all$cg)\n",
    "mwas.all <- matrix(0,nrow=length(cg2),ncol=2)\n",
    "for(i in 1:length(cg2)){\n",
    "        pos <- models.all[models.all$cg == cg2[i],1]\n",
    "        gwas <- snp.gwas2$z[is.element(snp.gwas2$pos_hg38, pos)]\n",
    "        weight <- models.all[models.all$cg == cg2[i],2]\n",
    "        geno <- snp.1kg.eur2[match(pos,map.1kg.eur2$POS),]\n",
    "        mwas.all[i,] <- MWAS(gwas, weight, t(geno))\n",
    "}\n",
    "rownames(mwas.all) <- cg2\n",
    "colnames(mwas.all) <- c(\"z\",\"p\")\n",
    "\n",
    "# mwas by models of EA samples\n",
    "cg2 <- unique(models.ea$cg)\n",
    "mwas.ea <- matrix(0,nrow=length(cg2),ncol=2)\n",
    "for(i in 1:length(cg2)){\n",
    "        pos <- models.ea[models.ea$cg == cg2[i],1]\n",
    "        gwas <- snp.gwas2$z[is.element(snp.gwas2$pos_hg38, pos)]\n",
    "        weight <- models.ea[models.ea$cg == cg2[i],2]\n",
    "        geno <- snp.1kg.eur2[match(pos,map.1kg.eur2$POS),]\n",
    "        mwas.ea[i,] <- MWAS(gwas, weight, t(geno))\n",
    "}\n",
    "rownames(mwas.ea) <- cg2\n",
    "colnames(mwas.ea) <- c(\"z\",\"p\")\n",
    "\n",
    "# output models and mwas results\n",
    "outf <- paste0(outd,\"/models-cov2.all.wind.\",wind[k])\n",
    "write.csv(models.all,outf)\n",
    "outf <- paste0(outd,\"/models-cov2.ea.wind.\",wind[k])\n",
    "write.csv(models.ea,outf)\n",
    "outf <- paste0(outd,\"/mwas-cov2.all.wind.\",wind[k])\n",
    "write.csv(mwas.all,outf)\n",
    "outf <- paste0(outd,\"/mwas-cov2.ea.wind.\",wind[k])\n",
    "write.csv(mwas.ea,outf)"
   ]
  },
  {
   "cell_type": "code",
   "execution_count": null,
   "id": "1809c0a4-d19d-42c5-8deb-31ed0387d661",
   "metadata": {},
   "outputs": [],
   "source": []
  }
 ],
 "metadata": {
  "kernelspec": {
   "display_name": "R",
   "language": "R",
   "name": "ir"
  },
  "language_info": {
   "codemirror_mode": "r",
   "file_extension": ".r",
   "mimetype": "text/x-r-source",
   "name": "R",
   "pygments_lexer": "r",
   "version": "4.3.1"
  }
 },
 "nbformat": 4,
 "nbformat_minor": 5
}
