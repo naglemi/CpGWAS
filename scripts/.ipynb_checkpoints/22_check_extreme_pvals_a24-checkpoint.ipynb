{
 "cells": [
  {
   "cell_type": "markdown",
   "id": "1987fa63-14d9-405f-8e54-1e04373cef9c",
   "metadata": {},
   "source": [
    "# Take a close look at extreme p-values"
   ]
  },
  {
   "cell_type": "code",
   "execution_count": 1,
   "id": "d42e1183-dabc-4806-9fb1-534d52c1a5ac",
   "metadata": {},
   "outputs": [],
   "source": [
    "library(data.table)"
   ]
  },
  {
   "cell_type": "code",
   "execution_count": 2,
   "id": "e995aab7-c502-46d8-981d-c0cace095a7d",
   "metadata": {},
   "outputs": [],
   "source": [
    "# bigdata <- fread(\"16a9par-OUT_stage2_MWAS_scz.csv\")\n",
    "\n",
    "# smallerdata <- bigdata[which(bigdata$p < 10^-200), ]\n",
    "\n",
    "# dim(smallerdata)\n",
    "\n",
    "# fwrite(smallerdata, \"22_intermediate_extreme_stage2_MWAS_scz.csv\")"
   ]
  },
  {
   "cell_type": "code",
   "execution_count": 3,
   "id": "d0264954-9bf2-4a88-89d4-c9518fd25275",
   "metadata": {},
   "outputs": [],
   "source": [
    "smallerdata <- fread(\"22_intermediate_extreme_stage2_MWAS_scz.csv\")"
   ]
  },
  {
   "cell_type": "markdown",
   "id": "6c48e475-e332-416e-948c-8d404c8a8baa",
   "metadata": {},
   "source": [
    "### What are the stage 1 weights for SNPs contributing to this CpG site?"
   ]
  },
  {
   "cell_type": "code",
   "execution_count": 4,
   "id": "751e22ae-03fd-4eba-8c24-5cf87248d457",
   "metadata": {},
   "outputs": [],
   "source": [
    "weights <- readRDS(\"/expanse/lustre/projects/jhu152/naglemi/mwas/CpGWAS/output_EXPANSE_a2_caud/libd_chr1-chr1_AA-libd_chr1-chr1_AA-908982-928981-dynamic-1corestotal-allcorepera-20240415-134429.rds\")"
   ]
  },
  {
   "cell_type": "code",
   "execution_count": 5,
   "id": "c3b790f6-7df4-4e92-ae13-c1023965bde8",
   "metadata": {},
   "outputs": [],
   "source": [
    "smallerdata <- smallerdata[which(smallerdata$population == \"AA\" & smallerdata$region == \"caud\"), ]"
   ]
  },
  {
   "cell_type": "code",
   "execution_count": 6,
   "id": "82dfd94b-95f1-4db1-8251-4711d71fddc3",
   "metadata": {},
   "outputs": [],
   "source": [
    "library(data.table)\n",
    "\n",
    "#smallerdata_sorted <- smallerdata[order(smallerdata$pos), ]\n",
    "#duplicated_pos <- smallerdata_sorted$pos[duplicated(smallerdata_sorted$pos)]\n",
    "#smallerdata_sorted[smallerdata_sorted$pos %in% duplicated_pos, ]\n",
    "\n",
    "smallerdata[, timestamp := sub(\".*-(\\\\d{8}-\\\\d{6})$\", \"\\\\1\", scaff)]\n",
    "smallerdata <- smallerdata[order(pos, -timestamp)]\n",
    "\n",
    "smallerdata <- smallerdata[, .SD[1], by = pos]"
   ]
  },
  {
   "cell_type": "code",
   "execution_count": 7,
   "id": "711cfedd-b912-4049-aba6-3048fc5fd213",
   "metadata": {},
   "outputs": [],
   "source": [
    "methylation_positions <- vector(\"list\", length(weights@models))\n",
    "snp_weights_list_of_lists <- vector(\"list\", length(weights@models))\n",
    "desired_methylation_positions <- vector(\"list\", sum(smallerdata$pos %in% sapply(weights@models, function(x) x@methylationPosition)))\n",
    "desired_snp_weights_list_of_lists <- vector(\"list\", sum(smallerdata$pos %in% sapply(weights@models, function(x) x@methylationPosition)))\n",
    "desired_snp_pvals <- vector(\"list\", sum(smallerdata$pos %in% sapply(weights@models, function(x) x@methylationPosition)))"
   ]
  },
  {
   "cell_type": "code",
   "execution_count": 8,
   "id": "34b8b5b9-7522-4cc0-bc59-4c1f403fbc8a",
   "metadata": {},
   "outputs": [],
   "source": [
    "pos_index <- 1\n",
    "\n",
    "for(i in seq_along(weights@models)){\n",
    "    methylation_positions[[i]] <- weights@models[[i]]@methylationPosition\n",
    "    snp_weights_list_of_lists[[i]] <- weights@models[[i]]@snpWeights\n",
    "\n",
    "    if(weights@models[[i]]@methylationPosition %in% smallerdata$pos){\n",
    "        desired_methylation_positions[[pos_index]] <- weights@models[[i]]@methylationPosition\n",
    "        if(is.null(weights@models[[i]]@snpWeights)) stop(\"problem\")\n",
    "        desired_snp_weights_list_of_lists[[pos_index]] <- weights@models[[i]]@snpWeights\n",
    "        desired_snp_pvals[[pos_index]] <- smallerdata$p[which(smallerdata$pos == weights@models[[i]]@methylationPosition)]\n",
    "        pos_index <- pos_index + 1\n",
    "    }\n",
    "}\n",
    "\n",
    "#methylation_positions <- unlist(methylation_positions)\n",
    "#desired_methylation_positions <- unlist(desired_methylation_positions)\n",
    "#desired_snp_pvals <- unlist(desired_snp_pvals)"
   ]
  },
  {
   "cell_type": "code",
   "execution_count": null,
   "id": "bd121604-4e97-49ee-af35-7152120bd62e",
   "metadata": {},
   "outputs": [],
   "source": []
  },
  {
   "cell_type": "code",
   "execution_count": 9,
   "id": "c0bd396e-999b-4e91-9e81-ea5c436e2986",
   "metadata": {},
   "outputs": [
    {
     "data": {
      "text/html": [
       "<ol>\n",
       "\t<li>73274305</li>\n",
       "\t<li>73418161</li>\n",
       "\t<li>73418205</li>\n",
       "\t<li>73418313</li>\n",
       "\t<li>73419188</li>\n",
       "\t<li>73419830</li>\n",
       "</ol>\n"
      ],
      "text/latex": [
       "\\begin{enumerate}\n",
       "\\item 73274305\n",
       "\\item 73418161\n",
       "\\item 73418205\n",
       "\\item 73418313\n",
       "\\item 73419188\n",
       "\\item 73419830\n",
       "\\end{enumerate}\n"
      ],
      "text/markdown": [
       "1. 73274305\n",
       "2. 73418161\n",
       "3. 73418205\n",
       "4. 73418313\n",
       "5. 73419188\n",
       "6. 73419830\n",
       "\n",
       "\n"
      ],
      "text/plain": [
       "[[1]]\n",
       "[1] 73274305\n",
       "\n",
       "[[2]]\n",
       "[1] 73418161\n",
       "\n",
       "[[3]]\n",
       "[1] 73418205\n",
       "\n",
       "[[4]]\n",
       "[1] 73418313\n",
       "\n",
       "[[5]]\n",
       "[1] 73419188\n",
       "\n",
       "[[6]]\n",
       "[1] 73419830\n"
      ]
     },
     "metadata": {},
     "output_type": "display_data"
    }
   ],
   "source": [
    "desired_methylation_positions"
   ]
  },
  {
   "cell_type": "code",
   "execution_count": 10,
   "id": "89aaf12e-8c0f-4667-b909-0bd19db4ed88",
   "metadata": {},
   "outputs": [
    {
     "data": {
      "text/html": [
       "<ol>\n",
       "\t<li>0</li>\n",
       "\t<li>0</li>\n",
       "\t<li>0</li>\n",
       "\t<li>0</li>\n",
       "\t<li>0</li>\n",
       "\t<li>1.82245855956229e-227</li>\n",
       "</ol>\n"
      ],
      "text/latex": [
       "\\begin{enumerate}\n",
       "\\item 0\n",
       "\\item 0\n",
       "\\item 0\n",
       "\\item 0\n",
       "\\item 0\n",
       "\\item 1.82245855956229e-227\n",
       "\\end{enumerate}\n"
      ],
      "text/markdown": [
       "1. 0\n",
       "2. 0\n",
       "3. 0\n",
       "4. 0\n",
       "5. 0\n",
       "6. 1.82245855956229e-227\n",
       "\n",
       "\n"
      ],
      "text/plain": [
       "[[1]]\n",
       "[1] 0\n",
       "\n",
       "[[2]]\n",
       "[1] 0\n",
       "\n",
       "[[3]]\n",
       "[1] 0\n",
       "\n",
       "[[4]]\n",
       "[1] 0\n",
       "\n",
       "[[5]]\n",
       "[1] 0\n",
       "\n",
       "[[6]]\n",
       "[1] 1.822459e-227\n"
      ]
     },
     "metadata": {},
     "output_type": "display_data"
    }
   ],
   "source": [
    "desired_snp_pvals"
   ]
  },
  {
   "cell_type": "code",
   "execution_count": 11,
   "id": "279bda31-ea31-488d-851d-e9d5ab36cd95",
   "metadata": {},
   "outputs": [],
   "source": [
    "# Combine all elements into a single data.table\n",
    "df <- data.table(\n",
    "  methylation_position = rep(desired_methylation_positions, lengths(desired_snp_weights_list_of_lists)),\n",
    "  pval_mwas_stage2 = rep(desired_snp_pvals, lengths(desired_snp_weights_list_of_lists)),\n",
    "  contributing_snp_name = unlist(lapply(desired_snp_weights_list_of_lists, function(x) sapply(strsplit(names(x), \":\"), function(y) paste(y[1:4], collapse=\":\")))),\n",
    "  contributing_snp_weight_mwas_stage1_prediction = unlist(desired_snp_weights_list_of_lists)\n",
    ")\n"
   ]
  },
  {
   "cell_type": "code",
   "execution_count": 12,
   "id": "54bc5f06-0478-4baf-994e-80bac9a4e2c0",
   "metadata": {},
   "outputs": [],
   "source": [
    "library(stringr)"
   ]
  },
  {
   "cell_type": "code",
   "execution_count": 13,
   "id": "4db2ee61-144e-46ce-836f-2a35d8b59241",
   "metadata": {},
   "outputs": [],
   "source": [
    "df$contributing_snp_pos <- as.numeric(str_split_fixed(df$contributing_snp_name, \":\", 3)[, 2])"
   ]
  },
  {
   "cell_type": "code",
   "execution_count": 14,
   "id": "c4b5bc76-1a1a-484c-b1bc-d0947fc87990",
   "metadata": {},
   "outputs": [
    {
     "data": {
      "text/html": [
       "<table class=\"dataframe\">\n",
       "<caption>A data.table: 6 × 5</caption>\n",
       "<thead>\n",
       "\t<tr><th scope=col>methylation_position</th><th scope=col>pval_mwas_stage2</th><th scope=col>contributing_snp_name</th><th scope=col>contributing_snp_weight_mwas_stage1_prediction</th><th scope=col>contributing_snp_pos</th></tr>\n",
       "\t<tr><th scope=col>&lt;list&gt;</th><th scope=col>&lt;list&gt;</th><th scope=col>&lt;chr&gt;</th><th scope=col>&lt;dbl&gt;</th><th scope=col>&lt;dbl&gt;</th></tr>\n",
       "</thead>\n",
       "<tbody>\n",
       "\t<tr><td>73274305</td><td>0</td><td>chr1:73265462:C:T</td><td>-0.0003966410</td><td>73265462</td></tr>\n",
       "\t<tr><td>73274305</td><td>0</td><td>chr1:73269720:G:C</td><td> 0.0004947975</td><td>73269720</td></tr>\n",
       "\t<tr><td>73274305</td><td>0</td><td>chr1:73271206:C:T</td><td>-0.0004841998</td><td>73271206</td></tr>\n",
       "\t<tr><td>73274305</td><td>0</td><td>chr1:73276935:T:G</td><td>-0.0004460208</td><td>73276935</td></tr>\n",
       "\t<tr><td>73274305</td><td>0</td><td>chr1:73278190:A:G</td><td> 0.0004900160</td><td>73278190</td></tr>\n",
       "\t<tr><td>73274305</td><td>0</td><td>chr1:73281554:T:C</td><td>-0.0004224090</td><td>73281554</td></tr>\n",
       "</tbody>\n",
       "</table>\n"
      ],
      "text/latex": [
       "A data.table: 6 × 5\n",
       "\\begin{tabular}{lllll}\n",
       " methylation\\_position & pval\\_mwas\\_stage2 & contributing\\_snp\\_name & contributing\\_snp\\_weight\\_mwas\\_stage1\\_prediction & contributing\\_snp\\_pos\\\\\n",
       " <list> & <list> & <chr> & <dbl> & <dbl>\\\\\n",
       "\\hline\n",
       "\t 73274305 & 0 & chr1:73265462:C:T & -0.0003966410 & 73265462\\\\\n",
       "\t 73274305 & 0 & chr1:73269720:G:C &  0.0004947975 & 73269720\\\\\n",
       "\t 73274305 & 0 & chr1:73271206:C:T & -0.0004841998 & 73271206\\\\\n",
       "\t 73274305 & 0 & chr1:73276935:T:G & -0.0004460208 & 73276935\\\\\n",
       "\t 73274305 & 0 & chr1:73278190:A:G &  0.0004900160 & 73278190\\\\\n",
       "\t 73274305 & 0 & chr1:73281554:T:C & -0.0004224090 & 73281554\\\\\n",
       "\\end{tabular}\n"
      ],
      "text/markdown": [
       "\n",
       "A data.table: 6 × 5\n",
       "\n",
       "| methylation_position &lt;list&gt; | pval_mwas_stage2 &lt;list&gt; | contributing_snp_name &lt;chr&gt; | contributing_snp_weight_mwas_stage1_prediction &lt;dbl&gt; | contributing_snp_pos &lt;dbl&gt; |\n",
       "|---|---|---|---|---|\n",
       "| 73274305 | 0 | chr1:73265462:C:T | -0.0003966410 | 73265462 |\n",
       "| 73274305 | 0 | chr1:73269720:G:C |  0.0004947975 | 73269720 |\n",
       "| 73274305 | 0 | chr1:73271206:C:T | -0.0004841998 | 73271206 |\n",
       "| 73274305 | 0 | chr1:73276935:T:G | -0.0004460208 | 73276935 |\n",
       "| 73274305 | 0 | chr1:73278190:A:G |  0.0004900160 | 73278190 |\n",
       "| 73274305 | 0 | chr1:73281554:T:C | -0.0004224090 | 73281554 |\n",
       "\n"
      ],
      "text/plain": [
       "  methylation_position pval_mwas_stage2 contributing_snp_name\n",
       "1 73274305             0                chr1:73265462:C:T    \n",
       "2 73274305             0                chr1:73269720:G:C    \n",
       "3 73274305             0                chr1:73271206:C:T    \n",
       "4 73274305             0                chr1:73276935:T:G    \n",
       "5 73274305             0                chr1:73278190:A:G    \n",
       "6 73274305             0                chr1:73281554:T:C    \n",
       "  contributing_snp_weight_mwas_stage1_prediction contributing_snp_pos\n",
       "1 -0.0003966410                                  73265462            \n",
       "2  0.0004947975                                  73269720            \n",
       "3 -0.0004841998                                  73271206            \n",
       "4 -0.0004460208                                  73276935            \n",
       "5  0.0004900160                                  73278190            \n",
       "6 -0.0004224090                                  73281554            "
      ]
     },
     "metadata": {},
     "output_type": "display_data"
    }
   ],
   "source": [
    "head(df)"
   ]
  },
  {
   "cell_type": "markdown",
   "id": "e8570190-df56-413a-9978-48e6fb2d5c7b",
   "metadata": {},
   "source": [
    "### What are the summary stat weights and SE for the same SNPs?"
   ]
  },
  {
   "cell_type": "code",
   "execution_count": 15,
   "id": "4a2d135c-2249-4d5b-b379-8ef08a4c1497",
   "metadata": {},
   "outputs": [],
   "source": [
    "library(data.table)"
   ]
  },
  {
   "cell_type": "code",
   "execution_count": 16,
   "id": "2988e378-a11c-4e60-ae30-b4cd3f92e01a",
   "metadata": {},
   "outputs": [],
   "source": [
    "ss_path <- \"/home/naglemi/mwas/gwas/gwas_stat_scz\""
   ]
  },
  {
   "cell_type": "code",
   "execution_count": 17,
   "id": "8c39cbc2-4be8-4fc6-b2ab-b77743fce29c",
   "metadata": {},
   "outputs": [],
   "source": [
    "snp.gwas2 <- fread(ss_path, skip = 1, header = FALSE)\n",
    "colnames(snp.gwas2) <- strsplit(readLines(ss_path, n = 1), \"\\t\")[[1]]"
   ]
  },
  {
   "cell_type": "code",
   "execution_count": 18,
   "id": "99471fee-32cd-43d2-92f8-74a89a088198",
   "metadata": {},
   "outputs": [],
   "source": [
    "snp.gwas2 <- snp.gwas2[which(snp.gwas2$CHR == 1), ]"
   ]
  },
  {
   "cell_type": "code",
   "execution_count": 19,
   "id": "2a044b24-4122-41cc-a841-5ce1555565f8",
   "metadata": {},
   "outputs": [],
   "source": [
    "colnames(snp.gwas2) <- paste0(\"ss_\", colnames(snp.gwas2))"
   ]
  },
  {
   "cell_type": "code",
   "execution_count": 20,
   "id": "55152bc6-108b-4092-ad61-23055144bac7",
   "metadata": {},
   "outputs": [],
   "source": [
    "colnames(snp.gwas2)[which(colnames(snp.gwas2)  == \"ss_BP\")] <- \"contributing_snp_pos\""
   ]
  },
  {
   "cell_type": "code",
   "execution_count": 21,
   "id": "201ead01-9769-4663-8495-f08f7fb998af",
   "metadata": {},
   "outputs": [],
   "source": [
    "merged <- merge(df, snp.gwas2, by = \"contributing_snp_pos\")"
   ]
  },
  {
   "cell_type": "code",
   "execution_count": 22,
   "id": "db9a0dea-4738-4c93-9ce2-64516cd89b72",
   "metadata": {},
   "outputs": [
    {
     "data": {
      "text/html": [
       "TRUE"
      ],
      "text/latex": [
       "TRUE"
      ],
      "text/markdown": [
       "TRUE"
      ],
      "text/plain": [
       "[1] TRUE"
      ]
     },
     "metadata": {},
     "output_type": "display_data"
    }
   ],
   "source": [
    "# make sure we have same allele orientation in both. TRUE if so.\n",
    "merged$contributing_snp_name_verified <- paste0(\"chr1:\",\n",
    "                                                merged$contributing_snp_pos,\n",
    "                                                \":\",\n",
    "                                                merged$ss_A1,\n",
    "                                                \":\",\n",
    "                                                merged$ss_A2)\n",
    "\n",
    "all(merged$contributing_snp_name_verified == merged$contributing_snp_name)"
   ]
  },
  {
   "cell_type": "code",
   "execution_count": 23,
   "id": "33319823-1209-4b22-b017-9473ba4c73a5",
   "metadata": {},
   "outputs": [
    {
     "data": {
      "text/html": [
       "TRUE"
      ],
      "text/latex": [
       "TRUE"
      ],
      "text/markdown": [
       "TRUE"
      ],
      "text/plain": [
       "[1] TRUE"
      ]
     },
     "metadata": {},
     "output_type": "display_data"
    }
   ],
   "source": [
    "# should all be unique\n",
    "contributing_snp_pos_methylation_position_combo <- paste0(merged$contributing_snp_pos,\n",
    "                                                          \"_\",\n",
    "                                                          merged$methylation_position)\n",
    "length(contributing_snp_pos_methylation_position_combo) == length(unique(contributing_snp_pos_methylation_position_combo))"
   ]
  },
  {
   "cell_type": "code",
   "execution_count": 24,
   "id": "c060ac4f-6a93-4c6e-aa89-eb0551064a7c",
   "metadata": {},
   "outputs": [],
   "source": [
    "view_cols <- c(\"contributing_snp_pos\", \"contributing_snp_name\", \"contributing_snp_name_verified\", \"ss_CHR\", \"ss_SNP\", \"ss_A1\", \"ss_A2\")\n",
    "#merged[, ..view_cols]\n"
   ]
  },
  {
   "cell_type": "markdown",
   "id": "f25d57c3-7a5c-42e1-b44f-5b58452f7452",
   "metadata": {},
   "source": [
    "### Recompute the stage 2 result"
   ]
  },
  {
   "cell_type": "markdown",
   "id": "fbbc31d6-4885-4fac-9763-3a6aaf228fd0",
   "metadata": {},
   "source": [
    "### First we need the SNP data"
   ]
  },
  {
   "cell_type": "markdown",
   "id": "b2dbd210-6449-4077-9eac-71d785e4c976",
   "metadata": {},
   "source": [
    "#### Load all SNP data"
   ]
  },
  {
   "cell_type": "code",
   "execution_count": 25,
   "id": "2c346ae9-639a-4e9b-be83-fea42ad37091",
   "metadata": {},
   "outputs": [],
   "source": [
    "library(CpGWAS)"
   ]
  },
  {
   "cell_type": "code",
   "execution_count": null,
   "id": "708128d0-302c-4c8c-a74d-1fc2fab74748",
   "metadata": {},
   "outputs": [],
   "source": []
  },
  {
   "cell_type": "code",
   "execution_count": 26,
   "id": "c6cd51a4-e3b4-4c7c-96aa-5c8e4192209f",
   "metadata": {},
   "outputs": [],
   "source": [
    "paths <- list(pvar_path = \"/expanse/lustre/projects/jhu152/naglemi/mwas/gwas/ref_EUR_chr1.pvar\",\n",
    "              pgen_path = \"/expanse/lustre/projects/jhu152/naglemi/mwas/gwas/ref_EUR_chr1.pgen\",\n",
    "              psam_path = \"/expanse/lustre/projects/jhu152/naglemi/mwas/gwas/ref_EUR_chr1.psam\")\n",
    "\n",
    "my_SNPs <- loadSNPData(paths$pvar_path, paths$pgen_path, paths$psam_path)"
   ]
  },
  {
   "cell_type": "markdown",
   "id": "153f788d-e300-42d0-8dfd-7e4108362843",
   "metadata": {},
   "source": [
    "Now let's practice subsetting the SNP data to get the ones we want and need for a given methylation site"
   ]
  },
  {
   "cell_type": "markdown",
   "id": "fcfbd757-82ff-44cd-9f0c-a39b84a6ce7b",
   "metadata": {},
   "source": [
    "#### Get the SNP data for specific SNPs contributing to methylation site"
   ]
  },
  {
   "cell_type": "markdown",
   "id": "a916c58b-800e-495a-aa60-b7873da2e72a",
   "metadata": {},
   "source": [
    "##### What are those SNPs?"
   ]
  },
  {
   "cell_type": "code",
   "execution_count": 27,
   "id": "8b344fef-3ea2-4882-b2af-498645d1af8c",
   "metadata": {},
   "outputs": [],
   "source": [
    "library(pgenlibr)"
   ]
  },
  {
   "cell_type": "code",
   "execution_count": 28,
   "id": "35b614cc-de0f-4b61-8db6-f8a041ed0ac1",
   "metadata": {},
   "outputs": [],
   "source": [
    "i <- 1"
   ]
  },
  {
   "cell_type": "code",
   "execution_count": 29,
   "id": "f7eec167-49f8-47ea-aa5a-b87f1963a5fd",
   "metadata": {},
   "outputs": [],
   "source": [
    "this_desired_methylation_position <- unlist(desired_methylation_positions[i])"
   ]
  },
  {
   "cell_type": "code",
   "execution_count": 30,
   "id": "920a2e59-1210-4778-ba42-969052b21c0c",
   "metadata": {},
   "outputs": [
    {
     "data": {
      "text/html": [
       "73274305"
      ],
      "text/latex": [
       "73274305"
      ],
      "text/markdown": [
       "73274305"
      ],
      "text/plain": [
       "[1] 73274305"
      ]
     },
     "metadata": {},
     "output_type": "display_data"
    }
   ],
   "source": [
    "this_desired_methylation_position"
   ]
  },
  {
   "cell_type": "code",
   "execution_count": 31,
   "id": "6455e74d-df42-4fa1-a8ca-27028f5581f1",
   "metadata": {},
   "outputs": [
    {
     "data": {
      "text/html": [
       "'list'"
      ],
      "text/latex": [
       "'list'"
      ],
      "text/markdown": [
       "'list'"
      ],
      "text/plain": [
       "[1] \"list\""
      ]
     },
     "metadata": {},
     "output_type": "display_data"
    },
    {
     "data": {
      "text/html": [
       "'integer'"
      ],
      "text/latex": [
       "'integer'"
      ],
      "text/markdown": [
       "'integer'"
      ],
      "text/plain": [
       "[1] \"integer\""
      ]
     },
     "metadata": {},
     "output_type": "display_data"
    }
   ],
   "source": [
    "typeof(merged$methylation_position)\n",
    "typeof(this_desired_methylation_position)"
   ]
  },
  {
   "cell_type": "code",
   "execution_count": 32,
   "id": "ad734f6c-adea-4e7e-b78b-d39bd15e62cf",
   "metadata": {},
   "outputs": [],
   "source": [
    "merged_this_methylation_position <- merged[methylation_position == this_desired_methylation_position, ]"
   ]
  },
  {
   "cell_type": "code",
   "execution_count": 33,
   "id": "307958c7-d9d6-4578-9279-614f911eeaef",
   "metadata": {},
   "outputs": [],
   "source": [
    "snp_indices_of_interest <- which(my_SNPs$pvar_dt$POS %in% merged_this_methylation_position$contributing_snp_pos)"
   ]
  },
  {
   "cell_type": "markdown",
   "id": "c1fb1e40-dfd7-4b03-b1a0-b39ae0428fb3",
   "metadata": {},
   "source": [
    "##### Extract and format the SNPs"
   ]
  },
  {
   "cell_type": "code",
   "execution_count": 34,
   "id": "cbff419f-3235-4d4b-9c11-b2aef73a22c5",
   "metadata": {},
   "outputs": [],
   "source": [
    "G <- pgenlibr::ReadList(my_SNPs$pgen,\n",
    "                        variant_subset = snp_indices_of_interest)"
   ]
  },
  {
   "cell_type": "code",
   "execution_count": 35,
   "id": "d97bfd46-1207-4f1f-a83f-39cc0543c9b6",
   "metadata": {},
   "outputs": [
    {
     "data": {
      "text/html": [
       "<style>\n",
       ".list-inline {list-style: none; margin:0; padding: 0}\n",
       ".list-inline>li {display: inline-block}\n",
       ".list-inline>li:not(:last-child)::after {content: \"\\00b7\"; padding: 0 .5ex}\n",
       "</style>\n",
       "<ol class=list-inline><li>489</li><li>7</li></ol>\n"
      ],
      "text/latex": [
       "\\begin{enumerate*}\n",
       "\\item 489\n",
       "\\item 7\n",
       "\\end{enumerate*}\n"
      ],
      "text/markdown": [
       "1. 489\n",
       "2. 7\n",
       "\n",
       "\n"
      ],
      "text/plain": [
       "[1] 489   7"
      ]
     },
     "metadata": {},
     "output_type": "display_data"
    }
   ],
   "source": [
    "dim(G)"
   ]
  },
  {
   "cell_type": "code",
   "execution_count": null,
   "id": "86c69932-3900-4f49-a5d1-f68774e8c4a1",
   "metadata": {},
   "outputs": [],
   "source": []
  },
  {
   "cell_type": "code",
   "execution_count": 36,
   "id": "9c8263a3-00b3-446b-8646-e35034425c1f",
   "metadata": {},
   "outputs": [],
   "source": [
    "colnames(G) <- my_SNPs$pvar_dt$ID[snp_indices_of_interest]\n",
    "rownames(G) <- my_SNPs$psam$IID"
   ]
  },
  {
   "cell_type": "code",
   "execution_count": 37,
   "id": "bfa9969d-e114-4501-8fc2-c5450c5fa74a",
   "metadata": {},
   "outputs": [
    {
     "data": {
      "text/html": [
       "<style>\n",
       ".list-inline {list-style: none; margin:0; padding: 0}\n",
       ".list-inline>li {display: inline-block}\n",
       ".list-inline>li:not(:last-child)::after {content: \"\\00b7\"; padding: 0 .5ex}\n",
       "</style>\n",
       "<ol class=list-inline><li>489</li><li>7</li></ol>\n"
      ],
      "text/latex": [
       "\\begin{enumerate*}\n",
       "\\item 489\n",
       "\\item 7\n",
       "\\end{enumerate*}\n"
      ],
      "text/markdown": [
       "1. 489\n",
       "2. 7\n",
       "\n",
       "\n"
      ],
      "text/plain": [
       "[1] 489   7"
      ]
     },
     "metadata": {},
     "output_type": "display_data"
    }
   ],
   "source": [
    "dim(G)"
   ]
  },
  {
   "cell_type": "code",
   "execution_count": 38,
   "id": "e8661cc6-5c66-46e7-896d-5e609fa5b99e",
   "metadata": {},
   "outputs": [
    {
     "data": {
      "text/html": [
       "<table class=\"dataframe\">\n",
       "<caption>A matrix: 489 × 7 of type dbl</caption>\n",
       "<thead>\n",
       "\t<tr><th></th><th scope=col>rs6672818</th><th scope=col>rs61765637</th><th scope=col>rs12759031</th><th scope=col>rs11210191</th><th scope=col>rs11210193</th><th scope=col>rs7513593</th><th scope=col>rs11210195</th></tr>\n",
       "</thead>\n",
       "<tbody>\n",
       "\t<tr><th scope=row>HG00096</th><td>1</td><td>1</td><td>1</td><td>1</td><td>1</td><td>1</td><td>1</td></tr>\n",
       "\t<tr><th scope=row>HG00097</th><td>0</td><td>0</td><td>0</td><td>0</td><td>0</td><td>0</td><td>0</td></tr>\n",
       "\t<tr><th scope=row>HG00099</th><td>2</td><td>2</td><td>2</td><td>2</td><td>2</td><td>2</td><td>2</td></tr>\n",
       "\t<tr><th scope=row>HG00101</th><td>1</td><td>1</td><td>1</td><td>1</td><td>1</td><td>1</td><td>1</td></tr>\n",
       "\t<tr><th scope=row>HG00102</th><td>1</td><td>1</td><td>1</td><td>1</td><td>1</td><td>1</td><td>1</td></tr>\n",
       "\t<tr><th scope=row>HG00103</th><td>2</td><td>2</td><td>2</td><td>2</td><td>2</td><td>2</td><td>2</td></tr>\n",
       "\t<tr><th scope=row>HG00105</th><td>2</td><td>2</td><td>2</td><td>2</td><td>2</td><td>2</td><td>2</td></tr>\n",
       "\t<tr><th scope=row>HG00107</th><td>1</td><td>1</td><td>1</td><td>1</td><td>1</td><td>1</td><td>1</td></tr>\n",
       "\t<tr><th scope=row>HG00108</th><td>2</td><td>2</td><td>2</td><td>2</td><td>2</td><td>2</td><td>2</td></tr>\n",
       "\t<tr><th scope=row>HG00109</th><td>1</td><td>1</td><td>1</td><td>1</td><td>1</td><td>1</td><td>1</td></tr>\n",
       "\t<tr><th scope=row>HG00110</th><td>1</td><td>1</td><td>1</td><td>1</td><td>1</td><td>1</td><td>1</td></tr>\n",
       "\t<tr><th scope=row>HG00111</th><td>1</td><td>1</td><td>1</td><td>1</td><td>1</td><td>1</td><td>1</td></tr>\n",
       "\t<tr><th scope=row>HG00112</th><td>0</td><td>0</td><td>0</td><td>0</td><td>0</td><td>0</td><td>0</td></tr>\n",
       "\t<tr><th scope=row>HG00113</th><td>2</td><td>2</td><td>2</td><td>2</td><td>2</td><td>2</td><td>2</td></tr>\n",
       "\t<tr><th scope=row>HG00114</th><td>2</td><td>2</td><td>2</td><td>2</td><td>2</td><td>2</td><td>2</td></tr>\n",
       "\t<tr><th scope=row>HG00115</th><td>2</td><td>2</td><td>2</td><td>2</td><td>2</td><td>2</td><td>2</td></tr>\n",
       "\t<tr><th scope=row>HG00118</th><td>1</td><td>1</td><td>1</td><td>1</td><td>1</td><td>1</td><td>1</td></tr>\n",
       "\t<tr><th scope=row>HG00119</th><td>0</td><td>0</td><td>0</td><td>0</td><td>0</td><td>0</td><td>0</td></tr>\n",
       "\t<tr><th scope=row>HG00120</th><td>0</td><td>0</td><td>0</td><td>0</td><td>0</td><td>0</td><td>0</td></tr>\n",
       "\t<tr><th scope=row>HG00121</th><td>2</td><td>2</td><td>2</td><td>2</td><td>2</td><td>2</td><td>2</td></tr>\n",
       "\t<tr><th scope=row>HG00122</th><td>2</td><td>2</td><td>2</td><td>2</td><td>2</td><td>2</td><td>2</td></tr>\n",
       "\t<tr><th scope=row>HG00125</th><td>1</td><td>1</td><td>1</td><td>1</td><td>1</td><td>1</td><td>1</td></tr>\n",
       "\t<tr><th scope=row>HG00126</th><td>2</td><td>2</td><td>2</td><td>2</td><td>2</td><td>2</td><td>2</td></tr>\n",
       "\t<tr><th scope=row>HG00127</th><td>2</td><td>2</td><td>2</td><td>2</td><td>2</td><td>2</td><td>2</td></tr>\n",
       "\t<tr><th scope=row>HG00128</th><td>1</td><td>1</td><td>1</td><td>1</td><td>1</td><td>1</td><td>1</td></tr>\n",
       "\t<tr><th scope=row>HG00129</th><td>0</td><td>0</td><td>0</td><td>0</td><td>0</td><td>0</td><td>0</td></tr>\n",
       "\t<tr><th scope=row>HG00130</th><td>1</td><td>1</td><td>1</td><td>1</td><td>1</td><td>1</td><td>1</td></tr>\n",
       "\t<tr><th scope=row>HG00131</th><td>0</td><td>0</td><td>0</td><td>0</td><td>0</td><td>0</td><td>0</td></tr>\n",
       "\t<tr><th scope=row>HG00132</th><td>2</td><td>2</td><td>2</td><td>2</td><td>2</td><td>2</td><td>2</td></tr>\n",
       "\t<tr><th scope=row>HG00133</th><td>2</td><td>2</td><td>2</td><td>2</td><td>2</td><td>2</td><td>2</td></tr>\n",
       "\t<tr><th scope=row>⋮</th><td>⋮</td><td>⋮</td><td>⋮</td><td>⋮</td><td>⋮</td><td>⋮</td><td>⋮</td></tr>\n",
       "\t<tr><th scope=row>NA20792</th><td>0</td><td>0</td><td>0</td><td>0</td><td>0</td><td>0</td><td>0</td></tr>\n",
       "\t<tr><th scope=row>NA20795</th><td>1</td><td>1</td><td>1</td><td>1</td><td>1</td><td>1</td><td>1</td></tr>\n",
       "\t<tr><th scope=row>NA20796</th><td>2</td><td>2</td><td>2</td><td>2</td><td>2</td><td>2</td><td>2</td></tr>\n",
       "\t<tr><th scope=row>NA20797</th><td>1</td><td>1</td><td>1</td><td>1</td><td>1</td><td>1</td><td>1</td></tr>\n",
       "\t<tr><th scope=row>NA20798</th><td>1</td><td>1</td><td>1</td><td>1</td><td>1</td><td>1</td><td>1</td></tr>\n",
       "\t<tr><th scope=row>NA20799</th><td>1</td><td>1</td><td>1</td><td>1</td><td>1</td><td>1</td><td>1</td></tr>\n",
       "\t<tr><th scope=row>NA20800</th><td>1</td><td>1</td><td>1</td><td>1</td><td>1</td><td>1</td><td>1</td></tr>\n",
       "\t<tr><th scope=row>NA20801</th><td>2</td><td>2</td><td>2</td><td>2</td><td>2</td><td>2</td><td>2</td></tr>\n",
       "\t<tr><th scope=row>NA20802</th><td>1</td><td>1</td><td>1</td><td>1</td><td>1</td><td>1</td><td>1</td></tr>\n",
       "\t<tr><th scope=row>NA20803</th><td>1</td><td>1</td><td>1</td><td>1</td><td>1</td><td>1</td><td>1</td></tr>\n",
       "\t<tr><th scope=row>NA20804</th><td>0</td><td>0</td><td>0</td><td>0</td><td>0</td><td>0</td><td>0</td></tr>\n",
       "\t<tr><th scope=row>NA20805</th><td>1</td><td>1</td><td>1</td><td>1</td><td>1</td><td>1</td><td>1</td></tr>\n",
       "\t<tr><th scope=row>NA20806</th><td>1</td><td>1</td><td>1</td><td>1</td><td>1</td><td>1</td><td>1</td></tr>\n",
       "\t<tr><th scope=row>NA20807</th><td>1</td><td>1</td><td>1</td><td>1</td><td>1</td><td>1</td><td>1</td></tr>\n",
       "\t<tr><th scope=row>NA20808</th><td>0</td><td>0</td><td>0</td><td>0</td><td>0</td><td>0</td><td>0</td></tr>\n",
       "\t<tr><th scope=row>NA20809</th><td>1</td><td>1</td><td>1</td><td>1</td><td>1</td><td>1</td><td>1</td></tr>\n",
       "\t<tr><th scope=row>NA20810</th><td>0</td><td>0</td><td>0</td><td>0</td><td>0</td><td>0</td><td>0</td></tr>\n",
       "\t<tr><th scope=row>NA20811</th><td>0</td><td>0</td><td>0</td><td>0</td><td>0</td><td>0</td><td>0</td></tr>\n",
       "\t<tr><th scope=row>NA20812</th><td>0</td><td>0</td><td>0</td><td>0</td><td>0</td><td>0</td><td>0</td></tr>\n",
       "\t<tr><th scope=row>NA20813</th><td>2</td><td>2</td><td>2</td><td>2</td><td>2</td><td>2</td><td>2</td></tr>\n",
       "\t<tr><th scope=row>NA20814</th><td>0</td><td>0</td><td>0</td><td>0</td><td>0</td><td>0</td><td>0</td></tr>\n",
       "\t<tr><th scope=row>NA20815</th><td>0</td><td>0</td><td>0</td><td>0</td><td>0</td><td>0</td><td>0</td></tr>\n",
       "\t<tr><th scope=row>NA20818</th><td>1</td><td>1</td><td>1</td><td>1</td><td>1</td><td>1</td><td>1</td></tr>\n",
       "\t<tr><th scope=row>NA20819</th><td>0</td><td>0</td><td>0</td><td>0</td><td>0</td><td>0</td><td>0</td></tr>\n",
       "\t<tr><th scope=row>NA20821</th><td>0</td><td>0</td><td>0</td><td>0</td><td>0</td><td>0</td><td>0</td></tr>\n",
       "\t<tr><th scope=row>NA20822</th><td>0</td><td>0</td><td>0</td><td>0</td><td>0</td><td>0</td><td>0</td></tr>\n",
       "\t<tr><th scope=row>NA20826</th><td>1</td><td>1</td><td>1</td><td>1</td><td>1</td><td>1</td><td>1</td></tr>\n",
       "\t<tr><th scope=row>NA20827</th><td>1</td><td>1</td><td>1</td><td>1</td><td>1</td><td>1</td><td>1</td></tr>\n",
       "\t<tr><th scope=row>NA20828</th><td>0</td><td>0</td><td>0</td><td>0</td><td>0</td><td>0</td><td>0</td></tr>\n",
       "\t<tr><th scope=row>NA20832</th><td>1</td><td>1</td><td>1</td><td>1</td><td>1</td><td>1</td><td>1</td></tr>\n",
       "</tbody>\n",
       "</table>\n"
      ],
      "text/latex": [
       "A matrix: 489 × 7 of type dbl\n",
       "\\begin{tabular}{r|lllllll}\n",
       "  & rs6672818 & rs61765637 & rs12759031 & rs11210191 & rs11210193 & rs7513593 & rs11210195\\\\\n",
       "\\hline\n",
       "\tHG00096 & 1 & 1 & 1 & 1 & 1 & 1 & 1\\\\\n",
       "\tHG00097 & 0 & 0 & 0 & 0 & 0 & 0 & 0\\\\\n",
       "\tHG00099 & 2 & 2 & 2 & 2 & 2 & 2 & 2\\\\\n",
       "\tHG00101 & 1 & 1 & 1 & 1 & 1 & 1 & 1\\\\\n",
       "\tHG00102 & 1 & 1 & 1 & 1 & 1 & 1 & 1\\\\\n",
       "\tHG00103 & 2 & 2 & 2 & 2 & 2 & 2 & 2\\\\\n",
       "\tHG00105 & 2 & 2 & 2 & 2 & 2 & 2 & 2\\\\\n",
       "\tHG00107 & 1 & 1 & 1 & 1 & 1 & 1 & 1\\\\\n",
       "\tHG00108 & 2 & 2 & 2 & 2 & 2 & 2 & 2\\\\\n",
       "\tHG00109 & 1 & 1 & 1 & 1 & 1 & 1 & 1\\\\\n",
       "\tHG00110 & 1 & 1 & 1 & 1 & 1 & 1 & 1\\\\\n",
       "\tHG00111 & 1 & 1 & 1 & 1 & 1 & 1 & 1\\\\\n",
       "\tHG00112 & 0 & 0 & 0 & 0 & 0 & 0 & 0\\\\\n",
       "\tHG00113 & 2 & 2 & 2 & 2 & 2 & 2 & 2\\\\\n",
       "\tHG00114 & 2 & 2 & 2 & 2 & 2 & 2 & 2\\\\\n",
       "\tHG00115 & 2 & 2 & 2 & 2 & 2 & 2 & 2\\\\\n",
       "\tHG00118 & 1 & 1 & 1 & 1 & 1 & 1 & 1\\\\\n",
       "\tHG00119 & 0 & 0 & 0 & 0 & 0 & 0 & 0\\\\\n",
       "\tHG00120 & 0 & 0 & 0 & 0 & 0 & 0 & 0\\\\\n",
       "\tHG00121 & 2 & 2 & 2 & 2 & 2 & 2 & 2\\\\\n",
       "\tHG00122 & 2 & 2 & 2 & 2 & 2 & 2 & 2\\\\\n",
       "\tHG00125 & 1 & 1 & 1 & 1 & 1 & 1 & 1\\\\\n",
       "\tHG00126 & 2 & 2 & 2 & 2 & 2 & 2 & 2\\\\\n",
       "\tHG00127 & 2 & 2 & 2 & 2 & 2 & 2 & 2\\\\\n",
       "\tHG00128 & 1 & 1 & 1 & 1 & 1 & 1 & 1\\\\\n",
       "\tHG00129 & 0 & 0 & 0 & 0 & 0 & 0 & 0\\\\\n",
       "\tHG00130 & 1 & 1 & 1 & 1 & 1 & 1 & 1\\\\\n",
       "\tHG00131 & 0 & 0 & 0 & 0 & 0 & 0 & 0\\\\\n",
       "\tHG00132 & 2 & 2 & 2 & 2 & 2 & 2 & 2\\\\\n",
       "\tHG00133 & 2 & 2 & 2 & 2 & 2 & 2 & 2\\\\\n",
       "\t⋮ & ⋮ & ⋮ & ⋮ & ⋮ & ⋮ & ⋮ & ⋮\\\\\n",
       "\tNA20792 & 0 & 0 & 0 & 0 & 0 & 0 & 0\\\\\n",
       "\tNA20795 & 1 & 1 & 1 & 1 & 1 & 1 & 1\\\\\n",
       "\tNA20796 & 2 & 2 & 2 & 2 & 2 & 2 & 2\\\\\n",
       "\tNA20797 & 1 & 1 & 1 & 1 & 1 & 1 & 1\\\\\n",
       "\tNA20798 & 1 & 1 & 1 & 1 & 1 & 1 & 1\\\\\n",
       "\tNA20799 & 1 & 1 & 1 & 1 & 1 & 1 & 1\\\\\n",
       "\tNA20800 & 1 & 1 & 1 & 1 & 1 & 1 & 1\\\\\n",
       "\tNA20801 & 2 & 2 & 2 & 2 & 2 & 2 & 2\\\\\n",
       "\tNA20802 & 1 & 1 & 1 & 1 & 1 & 1 & 1\\\\\n",
       "\tNA20803 & 1 & 1 & 1 & 1 & 1 & 1 & 1\\\\\n",
       "\tNA20804 & 0 & 0 & 0 & 0 & 0 & 0 & 0\\\\\n",
       "\tNA20805 & 1 & 1 & 1 & 1 & 1 & 1 & 1\\\\\n",
       "\tNA20806 & 1 & 1 & 1 & 1 & 1 & 1 & 1\\\\\n",
       "\tNA20807 & 1 & 1 & 1 & 1 & 1 & 1 & 1\\\\\n",
       "\tNA20808 & 0 & 0 & 0 & 0 & 0 & 0 & 0\\\\\n",
       "\tNA20809 & 1 & 1 & 1 & 1 & 1 & 1 & 1\\\\\n",
       "\tNA20810 & 0 & 0 & 0 & 0 & 0 & 0 & 0\\\\\n",
       "\tNA20811 & 0 & 0 & 0 & 0 & 0 & 0 & 0\\\\\n",
       "\tNA20812 & 0 & 0 & 0 & 0 & 0 & 0 & 0\\\\\n",
       "\tNA20813 & 2 & 2 & 2 & 2 & 2 & 2 & 2\\\\\n",
       "\tNA20814 & 0 & 0 & 0 & 0 & 0 & 0 & 0\\\\\n",
       "\tNA20815 & 0 & 0 & 0 & 0 & 0 & 0 & 0\\\\\n",
       "\tNA20818 & 1 & 1 & 1 & 1 & 1 & 1 & 1\\\\\n",
       "\tNA20819 & 0 & 0 & 0 & 0 & 0 & 0 & 0\\\\\n",
       "\tNA20821 & 0 & 0 & 0 & 0 & 0 & 0 & 0\\\\\n",
       "\tNA20822 & 0 & 0 & 0 & 0 & 0 & 0 & 0\\\\\n",
       "\tNA20826 & 1 & 1 & 1 & 1 & 1 & 1 & 1\\\\\n",
       "\tNA20827 & 1 & 1 & 1 & 1 & 1 & 1 & 1\\\\\n",
       "\tNA20828 & 0 & 0 & 0 & 0 & 0 & 0 & 0\\\\\n",
       "\tNA20832 & 1 & 1 & 1 & 1 & 1 & 1 & 1\\\\\n",
       "\\end{tabular}\n"
      ],
      "text/markdown": [
       "\n",
       "A matrix: 489 × 7 of type dbl\n",
       "\n",
       "| <!--/--> | rs6672818 | rs61765637 | rs12759031 | rs11210191 | rs11210193 | rs7513593 | rs11210195 |\n",
       "|---|---|---|---|---|---|---|---|\n",
       "| HG00096 | 1 | 1 | 1 | 1 | 1 | 1 | 1 |\n",
       "| HG00097 | 0 | 0 | 0 | 0 | 0 | 0 | 0 |\n",
       "| HG00099 | 2 | 2 | 2 | 2 | 2 | 2 | 2 |\n",
       "| HG00101 | 1 | 1 | 1 | 1 | 1 | 1 | 1 |\n",
       "| HG00102 | 1 | 1 | 1 | 1 | 1 | 1 | 1 |\n",
       "| HG00103 | 2 | 2 | 2 | 2 | 2 | 2 | 2 |\n",
       "| HG00105 | 2 | 2 | 2 | 2 | 2 | 2 | 2 |\n",
       "| HG00107 | 1 | 1 | 1 | 1 | 1 | 1 | 1 |\n",
       "| HG00108 | 2 | 2 | 2 | 2 | 2 | 2 | 2 |\n",
       "| HG00109 | 1 | 1 | 1 | 1 | 1 | 1 | 1 |\n",
       "| HG00110 | 1 | 1 | 1 | 1 | 1 | 1 | 1 |\n",
       "| HG00111 | 1 | 1 | 1 | 1 | 1 | 1 | 1 |\n",
       "| HG00112 | 0 | 0 | 0 | 0 | 0 | 0 | 0 |\n",
       "| HG00113 | 2 | 2 | 2 | 2 | 2 | 2 | 2 |\n",
       "| HG00114 | 2 | 2 | 2 | 2 | 2 | 2 | 2 |\n",
       "| HG00115 | 2 | 2 | 2 | 2 | 2 | 2 | 2 |\n",
       "| HG00118 | 1 | 1 | 1 | 1 | 1 | 1 | 1 |\n",
       "| HG00119 | 0 | 0 | 0 | 0 | 0 | 0 | 0 |\n",
       "| HG00120 | 0 | 0 | 0 | 0 | 0 | 0 | 0 |\n",
       "| HG00121 | 2 | 2 | 2 | 2 | 2 | 2 | 2 |\n",
       "| HG00122 | 2 | 2 | 2 | 2 | 2 | 2 | 2 |\n",
       "| HG00125 | 1 | 1 | 1 | 1 | 1 | 1 | 1 |\n",
       "| HG00126 | 2 | 2 | 2 | 2 | 2 | 2 | 2 |\n",
       "| HG00127 | 2 | 2 | 2 | 2 | 2 | 2 | 2 |\n",
       "| HG00128 | 1 | 1 | 1 | 1 | 1 | 1 | 1 |\n",
       "| HG00129 | 0 | 0 | 0 | 0 | 0 | 0 | 0 |\n",
       "| HG00130 | 1 | 1 | 1 | 1 | 1 | 1 | 1 |\n",
       "| HG00131 | 0 | 0 | 0 | 0 | 0 | 0 | 0 |\n",
       "| HG00132 | 2 | 2 | 2 | 2 | 2 | 2 | 2 |\n",
       "| HG00133 | 2 | 2 | 2 | 2 | 2 | 2 | 2 |\n",
       "| ⋮ | ⋮ | ⋮ | ⋮ | ⋮ | ⋮ | ⋮ | ⋮ |\n",
       "| NA20792 | 0 | 0 | 0 | 0 | 0 | 0 | 0 |\n",
       "| NA20795 | 1 | 1 | 1 | 1 | 1 | 1 | 1 |\n",
       "| NA20796 | 2 | 2 | 2 | 2 | 2 | 2 | 2 |\n",
       "| NA20797 | 1 | 1 | 1 | 1 | 1 | 1 | 1 |\n",
       "| NA20798 | 1 | 1 | 1 | 1 | 1 | 1 | 1 |\n",
       "| NA20799 | 1 | 1 | 1 | 1 | 1 | 1 | 1 |\n",
       "| NA20800 | 1 | 1 | 1 | 1 | 1 | 1 | 1 |\n",
       "| NA20801 | 2 | 2 | 2 | 2 | 2 | 2 | 2 |\n",
       "| NA20802 | 1 | 1 | 1 | 1 | 1 | 1 | 1 |\n",
       "| NA20803 | 1 | 1 | 1 | 1 | 1 | 1 | 1 |\n",
       "| NA20804 | 0 | 0 | 0 | 0 | 0 | 0 | 0 |\n",
       "| NA20805 | 1 | 1 | 1 | 1 | 1 | 1 | 1 |\n",
       "| NA20806 | 1 | 1 | 1 | 1 | 1 | 1 | 1 |\n",
       "| NA20807 | 1 | 1 | 1 | 1 | 1 | 1 | 1 |\n",
       "| NA20808 | 0 | 0 | 0 | 0 | 0 | 0 | 0 |\n",
       "| NA20809 | 1 | 1 | 1 | 1 | 1 | 1 | 1 |\n",
       "| NA20810 | 0 | 0 | 0 | 0 | 0 | 0 | 0 |\n",
       "| NA20811 | 0 | 0 | 0 | 0 | 0 | 0 | 0 |\n",
       "| NA20812 | 0 | 0 | 0 | 0 | 0 | 0 | 0 |\n",
       "| NA20813 | 2 | 2 | 2 | 2 | 2 | 2 | 2 |\n",
       "| NA20814 | 0 | 0 | 0 | 0 | 0 | 0 | 0 |\n",
       "| NA20815 | 0 | 0 | 0 | 0 | 0 | 0 | 0 |\n",
       "| NA20818 | 1 | 1 | 1 | 1 | 1 | 1 | 1 |\n",
       "| NA20819 | 0 | 0 | 0 | 0 | 0 | 0 | 0 |\n",
       "| NA20821 | 0 | 0 | 0 | 0 | 0 | 0 | 0 |\n",
       "| NA20822 | 0 | 0 | 0 | 0 | 0 | 0 | 0 |\n",
       "| NA20826 | 1 | 1 | 1 | 1 | 1 | 1 | 1 |\n",
       "| NA20827 | 1 | 1 | 1 | 1 | 1 | 1 | 1 |\n",
       "| NA20828 | 0 | 0 | 0 | 0 | 0 | 0 | 0 |\n",
       "| NA20832 | 1 | 1 | 1 | 1 | 1 | 1 | 1 |\n",
       "\n"
      ],
      "text/plain": [
       "        rs6672818 rs61765637 rs12759031 rs11210191 rs11210193 rs7513593\n",
       "HG00096 1         1          1          1          1          1        \n",
       "HG00097 0         0          0          0          0          0        \n",
       "HG00099 2         2          2          2          2          2        \n",
       "HG00101 1         1          1          1          1          1        \n",
       "HG00102 1         1          1          1          1          1        \n",
       "HG00103 2         2          2          2          2          2        \n",
       "HG00105 2         2          2          2          2          2        \n",
       "HG00107 1         1          1          1          1          1        \n",
       "HG00108 2         2          2          2          2          2        \n",
       "HG00109 1         1          1          1          1          1        \n",
       "HG00110 1         1          1          1          1          1        \n",
       "HG00111 1         1          1          1          1          1        \n",
       "HG00112 0         0          0          0          0          0        \n",
       "HG00113 2         2          2          2          2          2        \n",
       "HG00114 2         2          2          2          2          2        \n",
       "HG00115 2         2          2          2          2          2        \n",
       "HG00118 1         1          1          1          1          1        \n",
       "HG00119 0         0          0          0          0          0        \n",
       "HG00120 0         0          0          0          0          0        \n",
       "HG00121 2         2          2          2          2          2        \n",
       "HG00122 2         2          2          2          2          2        \n",
       "HG00125 1         1          1          1          1          1        \n",
       "HG00126 2         2          2          2          2          2        \n",
       "HG00127 2         2          2          2          2          2        \n",
       "HG00128 1         1          1          1          1          1        \n",
       "HG00129 0         0          0          0          0          0        \n",
       "HG00130 1         1          1          1          1          1        \n",
       "HG00131 0         0          0          0          0          0        \n",
       "HG00132 2         2          2          2          2          2        \n",
       "HG00133 2         2          2          2          2          2        \n",
       "⋮       ⋮         ⋮          ⋮          ⋮          ⋮          ⋮        \n",
       "NA20792 0         0          0          0          0          0        \n",
       "NA20795 1         1          1          1          1          1        \n",
       "NA20796 2         2          2          2          2          2        \n",
       "NA20797 1         1          1          1          1          1        \n",
       "NA20798 1         1          1          1          1          1        \n",
       "NA20799 1         1          1          1          1          1        \n",
       "NA20800 1         1          1          1          1          1        \n",
       "NA20801 2         2          2          2          2          2        \n",
       "NA20802 1         1          1          1          1          1        \n",
       "NA20803 1         1          1          1          1          1        \n",
       "NA20804 0         0          0          0          0          0        \n",
       "NA20805 1         1          1          1          1          1        \n",
       "NA20806 1         1          1          1          1          1        \n",
       "NA20807 1         1          1          1          1          1        \n",
       "NA20808 0         0          0          0          0          0        \n",
       "NA20809 1         1          1          1          1          1        \n",
       "NA20810 0         0          0          0          0          0        \n",
       "NA20811 0         0          0          0          0          0        \n",
       "NA20812 0         0          0          0          0          0        \n",
       "NA20813 2         2          2          2          2          2        \n",
       "NA20814 0         0          0          0          0          0        \n",
       "NA20815 0         0          0          0          0          0        \n",
       "NA20818 1         1          1          1          1          1        \n",
       "NA20819 0         0          0          0          0          0        \n",
       "NA20821 0         0          0          0          0          0        \n",
       "NA20822 0         0          0          0          0          0        \n",
       "NA20826 1         1          1          1          1          1        \n",
       "NA20827 1         1          1          1          1          1        \n",
       "NA20828 0         0          0          0          0          0        \n",
       "NA20832 1         1          1          1          1          1        \n",
       "        rs11210195\n",
       "HG00096 1         \n",
       "HG00097 0         \n",
       "HG00099 2         \n",
       "HG00101 1         \n",
       "HG00102 1         \n",
       "HG00103 2         \n",
       "HG00105 2         \n",
       "HG00107 1         \n",
       "HG00108 2         \n",
       "HG00109 1         \n",
       "HG00110 1         \n",
       "HG00111 1         \n",
       "HG00112 0         \n",
       "HG00113 2         \n",
       "HG00114 2         \n",
       "HG00115 2         \n",
       "HG00118 1         \n",
       "HG00119 0         \n",
       "HG00120 0         \n",
       "HG00121 2         \n",
       "HG00122 2         \n",
       "HG00125 1         \n",
       "HG00126 2         \n",
       "HG00127 2         \n",
       "HG00128 1         \n",
       "HG00129 0         \n",
       "HG00130 1         \n",
       "HG00131 0         \n",
       "HG00132 2         \n",
       "HG00133 2         \n",
       "⋮       ⋮         \n",
       "NA20792 0         \n",
       "NA20795 1         \n",
       "NA20796 2         \n",
       "NA20797 1         \n",
       "NA20798 1         \n",
       "NA20799 1         \n",
       "NA20800 1         \n",
       "NA20801 2         \n",
       "NA20802 1         \n",
       "NA20803 1         \n",
       "NA20804 0         \n",
       "NA20805 1         \n",
       "NA20806 1         \n",
       "NA20807 1         \n",
       "NA20808 0         \n",
       "NA20809 1         \n",
       "NA20810 0         \n",
       "NA20811 0         \n",
       "NA20812 0         \n",
       "NA20813 2         \n",
       "NA20814 0         \n",
       "NA20815 0         \n",
       "NA20818 1         \n",
       "NA20819 0         \n",
       "NA20821 0         \n",
       "NA20822 0         \n",
       "NA20826 1         \n",
       "NA20827 1         \n",
       "NA20828 0         \n",
       "NA20832 1         "
      ]
     },
     "metadata": {},
     "output_type": "display_data"
    }
   ],
   "source": [
    "G"
   ]
  },
  {
   "cell_type": "markdown",
   "id": "0a5aab81-048f-4052-8f61-7a3f2c720a61",
   "metadata": {},
   "source": [
    "### stage 2 MWAS"
   ]
  },
  {
   "cell_type": "code",
   "execution_count": 39,
   "id": "dc3fdba9-3c84-4d62-8faf-b81d4fe37b73",
   "metadata": {},
   "outputs": [],
   "source": [
    "merged_this_methylation_position$logOR <- log(merged_this_methylation_position$ss_OR)\n",
    "# merged_this_methylation_position$SElogOR <- merged_this_methylation_position$ss_SE / merged_this_methylation_position$ss_OR\n",
    "\n",
    "# wrong way to compute it - no actually right\n",
    "merged_this_methylation_position$z <- merged_this_methylation_position$logOR / merged_this_methylation_position$ss_SE\n",
    "\n",
    "# The (right?) way to compute it? - no wrong\n",
    "# merged_this_methylation_position$z <- merged_this_methylation_position$logOR / merged_this_methylation_position$SElogOR"
   ]
  },
  {
   "cell_type": "code",
   "execution_count": null,
   "id": "5e917f98-db4f-4d1d-a16c-af82d7685f41",
   "metadata": {},
   "outputs": [],
   "source": []
  },
  {
   "cell_type": "code",
   "execution_count": 40,
   "id": "9f375504-953f-46ad-b6e3-fa150d7a61a7",
   "metadata": {},
   "outputs": [
    {
     "data": {
      "text/html": [
       "<style>\n",
       ".list-inline {list-style: none; margin:0; padding: 0}\n",
       ".list-inline>li {display: inline-block}\n",
       ".list-inline>li:not(:last-child)::after {content: \"\\00b7\"; padding: 0 .5ex}\n",
       "</style>\n",
       "<ol class=list-inline><li>0.0086</li><li>0.0086</li><li>0.0086</li><li>0.0086</li><li>0.0086</li><li>0.0086</li><li>0.0086</li></ol>\n"
      ],
      "text/latex": [
       "\\begin{enumerate*}\n",
       "\\item 0.0086\n",
       "\\item 0.0086\n",
       "\\item 0.0086\n",
       "\\item 0.0086\n",
       "\\item 0.0086\n",
       "\\item 0.0086\n",
       "\\item 0.0086\n",
       "\\end{enumerate*}\n"
      ],
      "text/markdown": [
       "1. 0.0086\n",
       "2. 0.0086\n",
       "3. 0.0086\n",
       "4. 0.0086\n",
       "5. 0.0086\n",
       "6. 0.0086\n",
       "7. 0.0086\n",
       "\n",
       "\n"
      ],
      "text/plain": [
       "[1] 0.0086 0.0086 0.0086 0.0086 0.0086 0.0086 0.0086"
      ]
     },
     "metadata": {},
     "output_type": "display_data"
    }
   ],
   "source": [
    "merged_this_methylation_position$ss_SE"
   ]
  },
  {
   "cell_type": "code",
   "execution_count": 41,
   "id": "4fc72ca9-0f18-4616-bcb3-e179cc5df3d5",
   "metadata": {},
   "outputs": [
    {
     "data": {
      "text/html": [
       "<table class=\"dataframe\">\n",
       "<caption>A data.table: 7 × 26</caption>\n",
       "<thead>\n",
       "\t<tr><th scope=col>contributing_snp_pos</th><th scope=col>methylation_position</th><th scope=col>pval_mwas_stage2</th><th scope=col>contributing_snp_name</th><th scope=col>contributing_snp_weight_mwas_stage1_prediction</th><th scope=col>ss_CHR</th><th scope=col>ss_SNP</th><th scope=col>ss_A1</th><th scope=col>ss_A2</th><th scope=col>ss_FRQ_A_53386</th><th scope=col>⋯</th><th scope=col>ss_Direction</th><th scope=col>ss_HetISqt</th><th scope=col>ss_HetDf</th><th scope=col>ss_HetPVa</th><th scope=col>ss_Nca</th><th scope=col>ss_Nco</th><th scope=col>ss_Neff</th><th scope=col>contributing_snp_name_verified</th><th scope=col>logOR</th><th scope=col>z</th></tr>\n",
       "\t<tr><th scope=col>&lt;int&gt;</th><th scope=col>&lt;list&gt;</th><th scope=col>&lt;list&gt;</th><th scope=col>&lt;chr&gt;</th><th scope=col>&lt;dbl&gt;</th><th scope=col>&lt;int&gt;</th><th scope=col>&lt;chr&gt;</th><th scope=col>&lt;chr&gt;</th><th scope=col>&lt;chr&gt;</th><th scope=col>&lt;dbl&gt;</th><th scope=col>⋯</th><th scope=col>&lt;chr&gt;</th><th scope=col>&lt;dbl&gt;</th><th scope=col>&lt;int&gt;</th><th scope=col>&lt;dbl&gt;</th><th scope=col>&lt;int&gt;</th><th scope=col>&lt;int&gt;</th><th scope=col>&lt;dbl&gt;</th><th scope=col>&lt;chr&gt;</th><th scope=col>&lt;dbl&gt;</th><th scope=col>&lt;dbl&gt;</th></tr>\n",
       "</thead>\n",
       "<tbody>\n",
       "\t<tr><td>73265462</td><td>73274305</td><td>0</td><td>chr1:73265462:C:T</td><td>-0.0003966410</td><td>1</td><td>rs6672818 </td><td>C</td><td>T</td><td>0.483</td><td>⋯</td><td>+-++-+-+-+-++-++-+-++++++-++++++-+-++-+-++++-++-+-++--+++-++++++-++++++++---</td><td>14.3</td><td>75</td><td>0.1531</td><td>53386</td><td>77258</td><td>58749.13</td><td>chr1:73265462:C:T</td><td>-0.06230103</td><td>-7.244305</td></tr>\n",
       "\t<tr><td>73269720</td><td>73274305</td><td>0</td><td>chr1:73269720:G:C</td><td> 0.0004947975</td><td>1</td><td>rs61765637</td><td>G</td><td>C</td><td>0.523</td><td>⋯</td><td>-+--+-+-+-++-++-+-+------+-+----+-+--+-+----+--+-+--++---+-----++--------+++</td><td>14.9</td><td>75</td><td>0.1418</td><td>53386</td><td>77258</td><td>58749.13</td><td>chr1:73269720:G:C</td><td> 0.06240187</td><td> 7.256031</td></tr>\n",
       "\t<tr><td>73271206</td><td>73274305</td><td>0</td><td>chr1:73271206:C:T</td><td>-0.0004841998</td><td>1</td><td>rs12759031</td><td>C</td><td>T</td><td>0.481</td><td>⋯</td><td>+-++-+-+-+--+-++-+-++++++-++++++-+-++-+-++++-++-+-++--+++-+++-++-++++++++---</td><td>13.9</td><td>75</td><td>0.1596</td><td>53386</td><td>77258</td><td>58749.13</td><td>chr1:73271206:C:T</td><td>-0.06209883</td><td>-7.220795</td></tr>\n",
       "\t<tr><td>73276935</td><td>73274305</td><td>0</td><td>chr1:73276935:T:G</td><td>-0.0004460208</td><td>1</td><td>rs11210191</td><td>T</td><td>G</td><td>0.483</td><td>⋯</td><td>-+--+-+-+-++-+--+-+------+------+-+--+-+----+--+-+--++---+------+--------+++</td><td>14.8</td><td>75</td><td>0.1440</td><td>53386</td><td>77258</td><td>58749.13</td><td>chr1:73276935:T:G</td><td>-0.06230103</td><td>-7.244305</td></tr>\n",
       "\t<tr><td>73278190</td><td>73274305</td><td>0</td><td>chr1:73278190:A:G</td><td> 0.0004900160</td><td>1</td><td>rs11210193</td><td>A</td><td>G</td><td>0.523</td><td>⋯</td><td>--++-+-+-+--+--+-+-++++++-+-++++---++-+-++++-++-+-++--+++-+++++--++++++++---</td><td>15.6</td><td>75</td><td>0.1304</td><td>53386</td><td>77258</td><td>58749.13</td><td>chr1:73278190:A:G</td><td> 0.06240187</td><td> 7.256031</td></tr>\n",
       "\t<tr><td>73281554</td><td>73274305</td><td>0</td><td>chr1:73281554:T:C</td><td>-0.0004224090</td><td>1</td><td>rs7513593 </td><td>T</td><td>C</td><td>0.483</td><td>⋯</td><td>-+--+-+-+-++-+--+-+------+------+-+--+-+----+--+-+--++---+------+--------+++</td><td>15.0</td><td>75</td><td>0.1408</td><td>53386</td><td>77258</td><td>58749.13</td><td>chr1:73281554:T:C</td><td>-0.06259907</td><td>-7.278962</td></tr>\n",
       "\t<tr><td>73283600</td><td>73274305</td><td>0</td><td>chr1:73283600:C:T</td><td> 0.0003856033</td><td>1</td><td>rs11210195</td><td>C</td><td>T</td><td>0.524</td><td>⋯</td><td>++--+-+-+-++-++-+-+------+-+----+++--+-+----+--+-+--++---+-----++--------+++</td><td>16.3</td><td>75</td><td>0.1191</td><td>53386</td><td>77258</td><td>58749.13</td><td>chr1:73283600:C:T</td><td> 0.06270246</td><td> 7.290984</td></tr>\n",
       "</tbody>\n",
       "</table>\n"
      ],
      "text/latex": [
       "A data.table: 7 × 26\n",
       "\\begin{tabular}{lllllllllllllllllllll}\n",
       " contributing\\_snp\\_pos & methylation\\_position & pval\\_mwas\\_stage2 & contributing\\_snp\\_name & contributing\\_snp\\_weight\\_mwas\\_stage1\\_prediction & ss\\_CHR & ss\\_SNP & ss\\_A1 & ss\\_A2 & ss\\_FRQ\\_A\\_53386 & ⋯ & ss\\_Direction & ss\\_HetISqt & ss\\_HetDf & ss\\_HetPVa & ss\\_Nca & ss\\_Nco & ss\\_Neff & contributing\\_snp\\_name\\_verified & logOR & z\\\\\n",
       " <int> & <list> & <list> & <chr> & <dbl> & <int> & <chr> & <chr> & <chr> & <dbl> & ⋯ & <chr> & <dbl> & <int> & <dbl> & <int> & <int> & <dbl> & <chr> & <dbl> & <dbl>\\\\\n",
       "\\hline\n",
       "\t 73265462 & 73274305 & 0 & chr1:73265462:C:T & -0.0003966410 & 1 & rs6672818  & C & T & 0.483 & ⋯ & +-++-+-+-+-++-++-+-++++++-++++++-+-++-+-++++-++-+-++--+++-++++++-++++++++--- & 14.3 & 75 & 0.1531 & 53386 & 77258 & 58749.13 & chr1:73265462:C:T & -0.06230103 & -7.244305\\\\\n",
       "\t 73269720 & 73274305 & 0 & chr1:73269720:G:C &  0.0004947975 & 1 & rs61765637 & G & C & 0.523 & ⋯ & -+--+-+-+-++-++-+-+------+-+----+-+--+-+----+--+-+--++---+-----++--------+++ & 14.9 & 75 & 0.1418 & 53386 & 77258 & 58749.13 & chr1:73269720:G:C &  0.06240187 &  7.256031\\\\\n",
       "\t 73271206 & 73274305 & 0 & chr1:73271206:C:T & -0.0004841998 & 1 & rs12759031 & C & T & 0.481 & ⋯ & +-++-+-+-+--+-++-+-++++++-++++++-+-++-+-++++-++-+-++--+++-+++-++-++++++++--- & 13.9 & 75 & 0.1596 & 53386 & 77258 & 58749.13 & chr1:73271206:C:T & -0.06209883 & -7.220795\\\\\n",
       "\t 73276935 & 73274305 & 0 & chr1:73276935:T:G & -0.0004460208 & 1 & rs11210191 & T & G & 0.483 & ⋯ & -+--+-+-+-++-+--+-+------+------+-+--+-+----+--+-+--++---+------+--------+++ & 14.8 & 75 & 0.1440 & 53386 & 77258 & 58749.13 & chr1:73276935:T:G & -0.06230103 & -7.244305\\\\\n",
       "\t 73278190 & 73274305 & 0 & chr1:73278190:A:G &  0.0004900160 & 1 & rs11210193 & A & G & 0.523 & ⋯ & --++-+-+-+--+--+-+-++++++-+-++++---++-+-++++-++-+-++--+++-+++++--++++++++--- & 15.6 & 75 & 0.1304 & 53386 & 77258 & 58749.13 & chr1:73278190:A:G &  0.06240187 &  7.256031\\\\\n",
       "\t 73281554 & 73274305 & 0 & chr1:73281554:T:C & -0.0004224090 & 1 & rs7513593  & T & C & 0.483 & ⋯ & -+--+-+-+-++-+--+-+------+------+-+--+-+----+--+-+--++---+------+--------+++ & 15.0 & 75 & 0.1408 & 53386 & 77258 & 58749.13 & chr1:73281554:T:C & -0.06259907 & -7.278962\\\\\n",
       "\t 73283600 & 73274305 & 0 & chr1:73283600:C:T &  0.0003856033 & 1 & rs11210195 & C & T & 0.524 & ⋯ & ++--+-+-+-++-++-+-+------+-+----+++--+-+----+--+-+--++---+-----++--------+++ & 16.3 & 75 & 0.1191 & 53386 & 77258 & 58749.13 & chr1:73283600:C:T &  0.06270246 &  7.290984\\\\\n",
       "\\end{tabular}\n"
      ],
      "text/markdown": [
       "\n",
       "A data.table: 7 × 26\n",
       "\n",
       "| contributing_snp_pos &lt;int&gt; | methylation_position &lt;list&gt; | pval_mwas_stage2 &lt;list&gt; | contributing_snp_name &lt;chr&gt; | contributing_snp_weight_mwas_stage1_prediction &lt;dbl&gt; | ss_CHR &lt;int&gt; | ss_SNP &lt;chr&gt; | ss_A1 &lt;chr&gt; | ss_A2 &lt;chr&gt; | ss_FRQ_A_53386 &lt;dbl&gt; | ⋯ ⋯ | ss_Direction &lt;chr&gt; | ss_HetISqt &lt;dbl&gt; | ss_HetDf &lt;int&gt; | ss_HetPVa &lt;dbl&gt; | ss_Nca &lt;int&gt; | ss_Nco &lt;int&gt; | ss_Neff &lt;dbl&gt; | contributing_snp_name_verified &lt;chr&gt; | logOR &lt;dbl&gt; | z &lt;dbl&gt; |\n",
       "|---|---|---|---|---|---|---|---|---|---|---|---|---|---|---|---|---|---|---|---|---|\n",
       "| 73265462 | 73274305 | 0 | chr1:73265462:C:T | -0.0003966410 | 1 | rs6672818  | C | T | 0.483 | ⋯ | +-++-+-+-+-++-++-+-++++++-++++++-+-++-+-++++-++-+-++--+++-++++++-++++++++--- | 14.3 | 75 | 0.1531 | 53386 | 77258 | 58749.13 | chr1:73265462:C:T | -0.06230103 | -7.244305 |\n",
       "| 73269720 | 73274305 | 0 | chr1:73269720:G:C |  0.0004947975 | 1 | rs61765637 | G | C | 0.523 | ⋯ | -+--+-+-+-++-++-+-+------+-+----+-+--+-+----+--+-+--++---+-----++--------+++ | 14.9 | 75 | 0.1418 | 53386 | 77258 | 58749.13 | chr1:73269720:G:C |  0.06240187 |  7.256031 |\n",
       "| 73271206 | 73274305 | 0 | chr1:73271206:C:T | -0.0004841998 | 1 | rs12759031 | C | T | 0.481 | ⋯ | +-++-+-+-+--+-++-+-++++++-++++++-+-++-+-++++-++-+-++--+++-+++-++-++++++++--- | 13.9 | 75 | 0.1596 | 53386 | 77258 | 58749.13 | chr1:73271206:C:T | -0.06209883 | -7.220795 |\n",
       "| 73276935 | 73274305 | 0 | chr1:73276935:T:G | -0.0004460208 | 1 | rs11210191 | T | G | 0.483 | ⋯ | -+--+-+-+-++-+--+-+------+------+-+--+-+----+--+-+--++---+------+--------+++ | 14.8 | 75 | 0.1440 | 53386 | 77258 | 58749.13 | chr1:73276935:T:G | -0.06230103 | -7.244305 |\n",
       "| 73278190 | 73274305 | 0 | chr1:73278190:A:G |  0.0004900160 | 1 | rs11210193 | A | G | 0.523 | ⋯ | --++-+-+-+--+--+-+-++++++-+-++++---++-+-++++-++-+-++--+++-+++++--++++++++--- | 15.6 | 75 | 0.1304 | 53386 | 77258 | 58749.13 | chr1:73278190:A:G |  0.06240187 |  7.256031 |\n",
       "| 73281554 | 73274305 | 0 | chr1:73281554:T:C | -0.0004224090 | 1 | rs7513593  | T | C | 0.483 | ⋯ | -+--+-+-+-++-+--+-+------+------+-+--+-+----+--+-+--++---+------+--------+++ | 15.0 | 75 | 0.1408 | 53386 | 77258 | 58749.13 | chr1:73281554:T:C | -0.06259907 | -7.278962 |\n",
       "| 73283600 | 73274305 | 0 | chr1:73283600:C:T |  0.0003856033 | 1 | rs11210195 | C | T | 0.524 | ⋯ | ++--+-+-+-++-++-+-+------+-+----+++--+-+----+--+-+--++---+-----++--------+++ | 16.3 | 75 | 0.1191 | 53386 | 77258 | 58749.13 | chr1:73283600:C:T |  0.06270246 |  7.290984 |\n",
       "\n"
      ],
      "text/plain": [
       "  contributing_snp_pos methylation_position pval_mwas_stage2\n",
       "1 73265462             73274305             0               \n",
       "2 73269720             73274305             0               \n",
       "3 73271206             73274305             0               \n",
       "4 73276935             73274305             0               \n",
       "5 73278190             73274305             0               \n",
       "6 73281554             73274305             0               \n",
       "7 73283600             73274305             0               \n",
       "  contributing_snp_name contributing_snp_weight_mwas_stage1_prediction ss_CHR\n",
       "1 chr1:73265462:C:T     -0.0003966410                                  1     \n",
       "2 chr1:73269720:G:C      0.0004947975                                  1     \n",
       "3 chr1:73271206:C:T     -0.0004841998                                  1     \n",
       "4 chr1:73276935:T:G     -0.0004460208                                  1     \n",
       "5 chr1:73278190:A:G      0.0004900160                                  1     \n",
       "6 chr1:73281554:T:C     -0.0004224090                                  1     \n",
       "7 chr1:73283600:C:T      0.0003856033                                  1     \n",
       "  ss_SNP     ss_A1 ss_A2 ss_FRQ_A_53386 ⋯\n",
       "1 rs6672818  C     T     0.483          ⋯\n",
       "2 rs61765637 G     C     0.523          ⋯\n",
       "3 rs12759031 C     T     0.481          ⋯\n",
       "4 rs11210191 T     G     0.483          ⋯\n",
       "5 rs11210193 A     G     0.523          ⋯\n",
       "6 rs7513593  T     C     0.483          ⋯\n",
       "7 rs11210195 C     T     0.524          ⋯\n",
       "  ss_Direction                                                                \n",
       "1 +-++-+-+-+-++-++-+-++++++-++++++-+-++-+-++++-++-+-++--+++-++++++-++++++++---\n",
       "2 -+--+-+-+-++-++-+-+------+-+----+-+--+-+----+--+-+--++---+-----++--------+++\n",
       "3 +-++-+-+-+--+-++-+-++++++-++++++-+-++-+-++++-++-+-++--+++-+++-++-++++++++---\n",
       "4 -+--+-+-+-++-+--+-+------+------+-+--+-+----+--+-+--++---+------+--------+++\n",
       "5 --++-+-+-+--+--+-+-++++++-+-++++---++-+-++++-++-+-++--+++-+++++--++++++++---\n",
       "6 -+--+-+-+-++-+--+-+------+------+-+--+-+----+--+-+--++---+------+--------+++\n",
       "7 ++--+-+-+-++-++-+-+------+-+----+++--+-+----+--+-+--++---+-----++--------+++\n",
       "  ss_HetISqt ss_HetDf ss_HetPVa ss_Nca ss_Nco ss_Neff \n",
       "1 14.3       75       0.1531    53386  77258  58749.13\n",
       "2 14.9       75       0.1418    53386  77258  58749.13\n",
       "3 13.9       75       0.1596    53386  77258  58749.13\n",
       "4 14.8       75       0.1440    53386  77258  58749.13\n",
       "5 15.6       75       0.1304    53386  77258  58749.13\n",
       "6 15.0       75       0.1408    53386  77258  58749.13\n",
       "7 16.3       75       0.1191    53386  77258  58749.13\n",
       "  contributing_snp_name_verified logOR       z        \n",
       "1 chr1:73265462:C:T              -0.06230103 -7.244305\n",
       "2 chr1:73269720:G:C               0.06240187  7.256031\n",
       "3 chr1:73271206:C:T              -0.06209883 -7.220795\n",
       "4 chr1:73276935:T:G              -0.06230103 -7.244305\n",
       "5 chr1:73278190:A:G               0.06240187  7.256031\n",
       "6 chr1:73281554:T:C              -0.06259907 -7.278962\n",
       "7 chr1:73283600:C:T               0.06270246  7.290984"
      ]
     },
     "metadata": {},
     "output_type": "display_data"
    }
   ],
   "source": [
    "merged_this_methylation_position"
   ]
  },
  {
   "cell_type": "code",
   "execution_count": 42,
   "id": "5c9dc669-fb1f-4b1a-9964-9d545b22b413",
   "metadata": {},
   "outputs": [
    {
     "data": {
      "text/html": [
       "<style>\n",
       ".list-inline {list-style: none; margin:0; padding: 0}\n",
       ".list-inline>li {display: inline-block}\n",
       ".list-inline>li:not(:last-child)::after {content: \"\\00b7\"; padding: 0 .5ex}\n",
       "</style>\n",
       "<ol class=list-inline><li>5.189e-13</li><li>4.623e-13</li><li>5.844e-13</li><li>4.661e-13</li><li>4.152e-13</li><li>3.448e-13</li><li>3.261e-13</li></ol>\n"
      ],
      "text/latex": [
       "\\begin{enumerate*}\n",
       "\\item 5.189e-13\n",
       "\\item 4.623e-13\n",
       "\\item 5.844e-13\n",
       "\\item 4.661e-13\n",
       "\\item 4.152e-13\n",
       "\\item 3.448e-13\n",
       "\\item 3.261e-13\n",
       "\\end{enumerate*}\n"
      ],
      "text/markdown": [
       "1. 5.189e-13\n",
       "2. 4.623e-13\n",
       "3. 5.844e-13\n",
       "4. 4.661e-13\n",
       "5. 4.152e-13\n",
       "6. 3.448e-13\n",
       "7. 3.261e-13\n",
       "\n",
       "\n"
      ],
      "text/plain": [
       "[1] 5.189e-13 4.623e-13 5.844e-13 4.661e-13 4.152e-13 3.448e-13 3.261e-13"
      ]
     },
     "metadata": {},
     "output_type": "display_data"
    }
   ],
   "source": [
    "merged_this_methylation_position$ss_P"
   ]
  },
  {
   "cell_type": "code",
   "execution_count": 43,
   "id": "c91cc0eb-e9ce-4272-bc9f-c3a0d2750db3",
   "metadata": {},
   "outputs": [],
   "source": [
    "mwas <- function(z, w, G){   \n",
    "  if(length(w) > 1){\n",
    "    #recover()\n",
    "    # z-scores for effect of SNPs on external phenotype\n",
    "    #. are weighted according to weights for effect of SNPs on methylation\n",
    "    z <- z %*% w\n",
    "    print(paste0(\"Weighted z-score is: \", z))\n",
    "    # compute correlation matrix of SNP matrix, which captures LD structure\n",
    "    print(\"We are looking at head of dosage data in genotype matrix G:\")\n",
    "    print(head(G))\n",
    "    z.cor <- cor(G)\n",
    "    print(paste0(\"z.cor is \", z.cor))\n",
    "    # add small value to diagonal to avoid singular matrix\n",
    "    #  which may otherwise happen if two SNPs in perfect LD\n",
    "    z.cor <- z.cor + diag(dim(z.cor)[1])*0.1 \n",
    "    # variance of correlated variables is weighted sum \n",
    "    # multiplying w by corr matrix once gives a vector representing\n",
    "    #. the variance of each individual SNP and the extent to which they are\n",
    "    #. influenced by other SNPs. Multiplying again by w sums up pairwise contributions\n",
    "    #. and reflects total variance of weighted sum.\n",
    "    #. the first w is automatically transposed by R so we don't have to write t(w)\n",
    "    se <- sqrt(w %*%  z.cor %*%  w)\n",
    "    print(paste0(\"Standard error is: \", se))\n",
    "    z <- z/se\n",
    "    p <- pnorm(abs(z), lower.tail=F)*2\n",
    "    return(c(z=z, p=p, n=length(w)))\n",
    "  } else {\n",
    "    p <- pnorm(abs(z), lower.tail=F)*2\n",
    "    return(c(z=z, p=p, n=1))\n",
    "  }\n",
    "}"
   ]
  },
  {
   "cell_type": "code",
   "execution_count": 44,
   "id": "5a8f60f8-a1cb-4c63-a93f-07e40327adda",
   "metadata": {},
   "outputs": [
    {
     "name": "stdout",
     "output_type": "stream",
     "text": [
      "[1] \"Weighted z-score is: 0.0226327701040369\"\n",
      "[1] \"We are looking at head of dosage data in genotype matrix G:\"\n",
      "        rs6672818 rs61765637 rs12759031 rs11210191 rs11210193 rs7513593\n",
      "HG00096         1          1          1          1          1         1\n",
      "HG00097         0          0          0          0          0         0\n",
      "HG00099         2          2          2          2          2         2\n",
      "HG00101         1          1          1          1          1         1\n",
      "HG00102         1          1          1          1          1         1\n",
      "HG00103         2          2          2          2          2         2\n",
      "        rs11210195\n",
      "HG00096          1\n",
      "HG00097          0\n",
      "HG00099          2\n",
      "HG00101          1\n",
      "HG00102          1\n",
      "HG00103          2\n",
      " [1] \"z.cor is 1\"                 \"z.cor is 0.993873271168855\"\n",
      " [3] \"z.cor is 1\"                 \"z.cor is 1\"                \n",
      " [5] \"z.cor is 0.993873271168855\" \"z.cor is 0.997944928976738\"\n",
      " [7] \"z.cor is 0.993873271168855\" \"z.cor is 0.993873271168855\"\n",
      " [9] \"z.cor is 1\"                 \"z.cor is 0.993873271168855\"\n",
      "[11] \"z.cor is 0.993873271168855\" \"z.cor is 1\"                \n",
      "[13] \"z.cor is 0.991836784147934\" \"z.cor is 1\"                \n",
      "[15] \"z.cor is 1\"                 \"z.cor is 0.993873271168855\"\n",
      "[17] \"z.cor is 1\"                 \"z.cor is 1\"                \n",
      "[19] \"z.cor is 0.993873271168855\" \"z.cor is 0.997944928976738\"\n",
      "[21] \"z.cor is 0.993873271168855\" \"z.cor is 1\"                \n",
      "[23] \"z.cor is 0.993873271168855\" \"z.cor is 1\"                \n",
      "[25] \"z.cor is 1\"                 \"z.cor is 0.993873271168855\"\n",
      "[27] \"z.cor is 0.997944928976738\" \"z.cor is 0.993873271168855\"\n",
      "[29] \"z.cor is 0.993873271168855\" \"z.cor is 1\"                \n",
      "[31] \"z.cor is 0.993873271168855\" \"z.cor is 0.993873271168855\"\n",
      "[33] \"z.cor is 1\"                 \"z.cor is 0.991836784147934\"\n",
      "[35] \"z.cor is 1\"                 \"z.cor is 0.997944928976738\"\n",
      "[37] \"z.cor is 0.991836784147934\" \"z.cor is 0.997944928976738\"\n",
      "[39] \"z.cor is 0.997944928976738\" \"z.cor is 0.991836784147934\"\n",
      "[41] \"z.cor is 1\"                 \"z.cor is 0.991836784147934\"\n",
      "[43] \"z.cor is 0.993873271168855\" \"z.cor is 1\"                \n",
      "[45] \"z.cor is 0.993873271168855\" \"z.cor is 0.993873271168855\"\n",
      "[47] \"z.cor is 1\"                 \"z.cor is 0.991836784147934\"\n",
      "[49] \"z.cor is 1\"                \n",
      "[1] \"Standard error is: 0.000559674411258408\"\n"
     ]
    },
    {
     "data": {
      "text/html": [
       "<style>\n",
       ".dl-inline {width: auto; margin:0; padding: 0}\n",
       ".dl-inline>dt, .dl-inline>dd {float: none; width: auto; display: inline-block}\n",
       ".dl-inline>dt::after {content: \":\\0020\"; padding-right: .5ex}\n",
       ".dl-inline>dt:not(:first-of-type) {padding-left: .5ex}\n",
       "</style><dl class=dl-inline><dt>z</dt><dd>40.439172577406</dd><dt>p</dt><dd>0</dd><dt>n</dt><dd>7</dd></dl>\n"
      ],
      "text/latex": [
       "\\begin{description*}\n",
       "\\item[z] 40.439172577406\n",
       "\\item[p] 0\n",
       "\\item[n] 7\n",
       "\\end{description*}\n"
      ],
      "text/markdown": [
       "z\n",
       ":   40.439172577406p\n",
       ":   0n\n",
       ":   7\n",
       "\n"
      ],
      "text/plain": [
       "       z        p        n \n",
       "40.43917  0.00000  7.00000 "
      ]
     },
     "metadata": {},
     "output_type": "display_data"
    }
   ],
   "source": [
    "mwas(z = merged_this_methylation_position$z,\n",
    "     w = merged_this_methylation_position$contributing_snp_weight_mwas_stage1_prediction,\n",
    "     G = G)"
   ]
  },
  {
   "cell_type": "code",
   "execution_count": 45,
   "id": "224df552-7317-4847-ba07-0fc4c50acb61",
   "metadata": {},
   "outputs": [
    {
     "name": "stdout",
     "output_type": "stream",
     "text": [
      "[1] \"Weighted z-score is: 0.0226327701040369\"\n",
      "[1] \"We are looking at head of dosage data in genotype matrix G:\"\n",
      "        rs6672818 rs61765637 rs12759031 rs11210191 rs11210193 rs7513593\n",
      "HG00096         1          1          1          1          1         1\n",
      "HG00097         0          0          0          0          0         0\n",
      "HG00099         2          2          2          2          2         2\n",
      "HG00101         1          1          1          1          1         1\n",
      "HG00102         1          1          1          1          1         1\n",
      "HG00103         2          2          2          2          2         2\n",
      "        rs11210195\n",
      "HG00096          1\n",
      "HG00097          0\n",
      "HG00099          2\n",
      "HG00101          1\n",
      "HG00102          1\n",
      "HG00103          2\n",
      " [1] \"z.cor is 1\"                 \"z.cor is 0.993873271168855\"\n",
      " [3] \"z.cor is 1\"                 \"z.cor is 1\"                \n",
      " [5] \"z.cor is 0.993873271168855\" \"z.cor is 0.997944928976738\"\n",
      " [7] \"z.cor is 0.993873271168855\" \"z.cor is 0.993873271168855\"\n",
      " [9] \"z.cor is 1\"                 \"z.cor is 0.993873271168855\"\n",
      "[11] \"z.cor is 0.993873271168855\" \"z.cor is 1\"                \n",
      "[13] \"z.cor is 0.991836784147934\" \"z.cor is 1\"                \n",
      "[15] \"z.cor is 1\"                 \"z.cor is 0.993873271168855\"\n",
      "[17] \"z.cor is 1\"                 \"z.cor is 1\"                \n",
      "[19] \"z.cor is 0.993873271168855\" \"z.cor is 0.997944928976738\"\n",
      "[21] \"z.cor is 0.993873271168855\" \"z.cor is 1\"                \n",
      "[23] \"z.cor is 0.993873271168855\" \"z.cor is 1\"                \n",
      "[25] \"z.cor is 1\"                 \"z.cor is 0.993873271168855\"\n",
      "[27] \"z.cor is 0.997944928976738\" \"z.cor is 0.993873271168855\"\n",
      "[29] \"z.cor is 0.993873271168855\" \"z.cor is 1\"                \n",
      "[31] \"z.cor is 0.993873271168855\" \"z.cor is 0.993873271168855\"\n",
      "[33] \"z.cor is 1\"                 \"z.cor is 0.991836784147934\"\n",
      "[35] \"z.cor is 1\"                 \"z.cor is 0.997944928976738\"\n",
      "[37] \"z.cor is 0.991836784147934\" \"z.cor is 0.997944928976738\"\n",
      "[39] \"z.cor is 0.997944928976738\" \"z.cor is 0.991836784147934\"\n",
      "[41] \"z.cor is 1\"                 \"z.cor is 0.991836784147934\"\n",
      "[43] \"z.cor is 0.993873271168855\" \"z.cor is 1\"                \n",
      "[45] \"z.cor is 0.993873271168855\" \"z.cor is 0.993873271168855\"\n",
      "[47] \"z.cor is 1\"                 \"z.cor is 0.991836784147934\"\n",
      "[49] \"z.cor is 1\"                \n",
      "[1] \"Standard error is: 0.000559674411258408\"\n"
     ]
    },
    {
     "data": {
      "text/html": [
       "<style>\n",
       ".dl-inline {width: auto; margin:0; padding: 0}\n",
       ".dl-inline>dt, .dl-inline>dd {float: none; width: auto; display: inline-block}\n",
       ".dl-inline>dt::after {content: \":\\0020\"; padding-right: .5ex}\n",
       ".dl-inline>dt:not(:first-of-type) {padding-left: .5ex}\n",
       "</style><dl class=dl-inline><dt>z</dt><dd>40.439172577406</dd><dt>p</dt><dd>0</dd><dt>n</dt><dd>7</dd></dl>\n"
      ],
      "text/latex": [
       "\\begin{description*}\n",
       "\\item[z] 40.439172577406\n",
       "\\item[p] 0\n",
       "\\item[n] 7\n",
       "\\end{description*}\n"
      ],
      "text/markdown": [
       "z\n",
       ":   40.439172577406p\n",
       ":   0n\n",
       ":   7\n",
       "\n"
      ],
      "text/plain": [
       "       z        p        n \n",
       "40.43917  0.00000  7.00000 "
      ]
     },
     "metadata": {},
     "output_type": "display_data"
    }
   ],
   "source": [
    "mwas(z = merged_this_methylation_position$z,\n",
    "     w = merged_this_methylation_position$contributing_snp_weight_mwas_stage1_prediction,\n",
    "     G = G)"
   ]
  },
  {
   "cell_type": "code",
   "execution_count": null,
   "id": "59a72fc1-5a62-46e4-ac6a-b7894145410d",
   "metadata": {},
   "outputs": [],
   "source": []
  },
  {
   "cell_type": "markdown",
   "id": "bd80d24f-f2b0-40ed-b85a-9051450931a7",
   "metadata": {},
   "source": [
    "##### An earlier attempt where we used ss instead of the merged df that contains it and other stuff too"
   ]
  },
  {
   "cell_type": "code",
   "execution_count": 46,
   "id": "50d6e557-c9e8-43d1-b054-d3d31820734c",
   "metadata": {},
   "outputs": [],
   "source": [
    "ss_snps_for_this_cpg <- snp.gwas2[which(snp.gwas2$contributing_snp_pos %in% merged_this_methylation_position$contributing_snp_pos), ]"
   ]
  },
  {
   "cell_type": "code",
   "execution_count": 47,
   "id": "82c2754d-32dc-4b72-ae9c-c82d581a49b1",
   "metadata": {},
   "outputs": [],
   "source": [
    "ss_snps_for_this_cpg <- ss_snps_for_this_cpg[order(ss_snps_for_this_cpg$contributing_snp_pos), ]"
   ]
  },
  {
   "cell_type": "code",
   "execution_count": 48,
   "id": "df7200c6-9e19-4dde-a791-23dba31b925b",
   "metadata": {},
   "outputs": [
    {
     "data": {
      "text/html": [
       "<table class=\"dataframe\">\n",
       "<caption>A data.table: 7 × 19</caption>\n",
       "<thead>\n",
       "\t<tr><th scope=col>ss_CHR</th><th scope=col>ss_SNP</th><th scope=col>contributing_snp_pos</th><th scope=col>ss_A1</th><th scope=col>ss_A2</th><th scope=col>ss_FRQ_A_53386</th><th scope=col>ss_FRQ_U_77258</th><th scope=col>ss_INFO</th><th scope=col>ss_OR</th><th scope=col>ss_SE</th><th scope=col>ss_P</th><th scope=col>ss_ngt</th><th scope=col>ss_Direction</th><th scope=col>ss_HetISqt</th><th scope=col>ss_HetDf</th><th scope=col>ss_HetPVa</th><th scope=col>ss_Nca</th><th scope=col>ss_Nco</th><th scope=col>ss_Neff</th></tr>\n",
       "\t<tr><th scope=col>&lt;int&gt;</th><th scope=col>&lt;chr&gt;</th><th scope=col>&lt;int&gt;</th><th scope=col>&lt;chr&gt;</th><th scope=col>&lt;chr&gt;</th><th scope=col>&lt;dbl&gt;</th><th scope=col>&lt;dbl&gt;</th><th scope=col>&lt;dbl&gt;</th><th scope=col>&lt;dbl&gt;</th><th scope=col>&lt;dbl&gt;</th><th scope=col>&lt;dbl&gt;</th><th scope=col>&lt;int&gt;</th><th scope=col>&lt;chr&gt;</th><th scope=col>&lt;dbl&gt;</th><th scope=col>&lt;int&gt;</th><th scope=col>&lt;dbl&gt;</th><th scope=col>&lt;int&gt;</th><th scope=col>&lt;int&gt;</th><th scope=col>&lt;dbl&gt;</th></tr>\n",
       "</thead>\n",
       "<tbody>\n",
       "\t<tr><td>1</td><td>rs6672818 </td><td>73265462</td><td>C</td><td>T</td><td>0.483</td><td>0.496</td><td>0.991</td><td>0.93960</td><td>0.0086</td><td>5.189e-13</td><td> 0</td><td>+-++-+-+-+-++-++-+-++++++-++++++-+-++-+-++++-++-+-++--+++-++++++-++++++++---</td><td>14.3</td><td>75</td><td>0.1531</td><td>53386</td><td>77258</td><td>58749.13</td></tr>\n",
       "\t<tr><td>1</td><td>rs61765637</td><td>73269720</td><td>G</td><td>C</td><td>0.523</td><td>0.510</td><td>0.993</td><td>1.06439</td><td>0.0086</td><td>4.623e-13</td><td> 0</td><td>-+--+-+-+-++-++-+-+------+-+----+-+--+-+----+--+-+--++---+-----++--------+++</td><td>14.9</td><td>75</td><td>0.1418</td><td>53386</td><td>77258</td><td>58749.13</td></tr>\n",
       "\t<tr><td>1</td><td>rs12759031</td><td>73271206</td><td>C</td><td>T</td><td>0.481</td><td>0.494</td><td>0.992</td><td>0.93979</td><td>0.0086</td><td>5.844e-13</td><td> 0</td><td>+-++-+-+-+--+-++-+-++++++-++++++-+-++-+-++++-++-+-++--+++-+++-++-++++++++---</td><td>13.9</td><td>75</td><td>0.1596</td><td>53386</td><td>77258</td><td>58749.13</td></tr>\n",
       "\t<tr><td>1</td><td>rs11210191</td><td>73276935</td><td>T</td><td>G</td><td>0.483</td><td>0.496</td><td>0.996</td><td>0.93960</td><td>0.0086</td><td>4.661e-13</td><td> 0</td><td>-+--+-+-+-++-+--+-+------+------+-+--+-+----+--+-+--++---+------+--------+++</td><td>14.8</td><td>75</td><td>0.1440</td><td>53386</td><td>77258</td><td>58749.13</td></tr>\n",
       "\t<tr><td>1</td><td>rs11210193</td><td>73278190</td><td>A</td><td>G</td><td>0.523</td><td>0.510</td><td>0.996</td><td>1.06439</td><td>0.0086</td><td>4.152e-13</td><td>17</td><td>--++-+-+-+--+--+-+-++++++-+-++++---++-+-++++-++-+-++--+++-+++++--++++++++---</td><td>15.6</td><td>75</td><td>0.1304</td><td>53386</td><td>77258</td><td>58749.13</td></tr>\n",
       "\t<tr><td>1</td><td>rs7513593 </td><td>73281554</td><td>T</td><td>C</td><td>0.483</td><td>0.496</td><td>0.996</td><td>0.93932</td><td>0.0086</td><td>3.448e-13</td><td> 1</td><td>-+--+-+-+-++-+--+-+------+------+-+--+-+----+--+-+--++---+------+--------+++</td><td>15.0</td><td>75</td><td>0.1408</td><td>53386</td><td>77258</td><td>58749.13</td></tr>\n",
       "\t<tr><td>1</td><td>rs11210195</td><td>73283600</td><td>C</td><td>T</td><td>0.524</td><td>0.510</td><td>0.996</td><td>1.06471</td><td>0.0086</td><td>3.261e-13</td><td> 6</td><td>++--+-+-+-++-++-+-+------+-+----+++--+-+----+--+-+--++---+-----++--------+++</td><td>16.3</td><td>75</td><td>0.1191</td><td>53386</td><td>77258</td><td>58749.13</td></tr>\n",
       "</tbody>\n",
       "</table>\n"
      ],
      "text/latex": [
       "A data.table: 7 × 19\n",
       "\\begin{tabular}{lllllllllllllllllll}\n",
       " ss\\_CHR & ss\\_SNP & contributing\\_snp\\_pos & ss\\_A1 & ss\\_A2 & ss\\_FRQ\\_A\\_53386 & ss\\_FRQ\\_U\\_77258 & ss\\_INFO & ss\\_OR & ss\\_SE & ss\\_P & ss\\_ngt & ss\\_Direction & ss\\_HetISqt & ss\\_HetDf & ss\\_HetPVa & ss\\_Nca & ss\\_Nco & ss\\_Neff\\\\\n",
       " <int> & <chr> & <int> & <chr> & <chr> & <dbl> & <dbl> & <dbl> & <dbl> & <dbl> & <dbl> & <int> & <chr> & <dbl> & <int> & <dbl> & <int> & <int> & <dbl>\\\\\n",
       "\\hline\n",
       "\t 1 & rs6672818  & 73265462 & C & T & 0.483 & 0.496 & 0.991 & 0.93960 & 0.0086 & 5.189e-13 &  0 & +-++-+-+-+-++-++-+-++++++-++++++-+-++-+-++++-++-+-++--+++-++++++-++++++++--- & 14.3 & 75 & 0.1531 & 53386 & 77258 & 58749.13\\\\\n",
       "\t 1 & rs61765637 & 73269720 & G & C & 0.523 & 0.510 & 0.993 & 1.06439 & 0.0086 & 4.623e-13 &  0 & -+--+-+-+-++-++-+-+------+-+----+-+--+-+----+--+-+--++---+-----++--------+++ & 14.9 & 75 & 0.1418 & 53386 & 77258 & 58749.13\\\\\n",
       "\t 1 & rs12759031 & 73271206 & C & T & 0.481 & 0.494 & 0.992 & 0.93979 & 0.0086 & 5.844e-13 &  0 & +-++-+-+-+--+-++-+-++++++-++++++-+-++-+-++++-++-+-++--+++-+++-++-++++++++--- & 13.9 & 75 & 0.1596 & 53386 & 77258 & 58749.13\\\\\n",
       "\t 1 & rs11210191 & 73276935 & T & G & 0.483 & 0.496 & 0.996 & 0.93960 & 0.0086 & 4.661e-13 &  0 & -+--+-+-+-++-+--+-+------+------+-+--+-+----+--+-+--++---+------+--------+++ & 14.8 & 75 & 0.1440 & 53386 & 77258 & 58749.13\\\\\n",
       "\t 1 & rs11210193 & 73278190 & A & G & 0.523 & 0.510 & 0.996 & 1.06439 & 0.0086 & 4.152e-13 & 17 & --++-+-+-+--+--+-+-++++++-+-++++---++-+-++++-++-+-++--+++-+++++--++++++++--- & 15.6 & 75 & 0.1304 & 53386 & 77258 & 58749.13\\\\\n",
       "\t 1 & rs7513593  & 73281554 & T & C & 0.483 & 0.496 & 0.996 & 0.93932 & 0.0086 & 3.448e-13 &  1 & -+--+-+-+-++-+--+-+------+------+-+--+-+----+--+-+--++---+------+--------+++ & 15.0 & 75 & 0.1408 & 53386 & 77258 & 58749.13\\\\\n",
       "\t 1 & rs11210195 & 73283600 & C & T & 0.524 & 0.510 & 0.996 & 1.06471 & 0.0086 & 3.261e-13 &  6 & ++--+-+-+-++-++-+-+------+-+----+++--+-+----+--+-+--++---+-----++--------+++ & 16.3 & 75 & 0.1191 & 53386 & 77258 & 58749.13\\\\\n",
       "\\end{tabular}\n"
      ],
      "text/markdown": [
       "\n",
       "A data.table: 7 × 19\n",
       "\n",
       "| ss_CHR &lt;int&gt; | ss_SNP &lt;chr&gt; | contributing_snp_pos &lt;int&gt; | ss_A1 &lt;chr&gt; | ss_A2 &lt;chr&gt; | ss_FRQ_A_53386 &lt;dbl&gt; | ss_FRQ_U_77258 &lt;dbl&gt; | ss_INFO &lt;dbl&gt; | ss_OR &lt;dbl&gt; | ss_SE &lt;dbl&gt; | ss_P &lt;dbl&gt; | ss_ngt &lt;int&gt; | ss_Direction &lt;chr&gt; | ss_HetISqt &lt;dbl&gt; | ss_HetDf &lt;int&gt; | ss_HetPVa &lt;dbl&gt; | ss_Nca &lt;int&gt; | ss_Nco &lt;int&gt; | ss_Neff &lt;dbl&gt; |\n",
       "|---|---|---|---|---|---|---|---|---|---|---|---|---|---|---|---|---|---|---|\n",
       "| 1 | rs6672818  | 73265462 | C | T | 0.483 | 0.496 | 0.991 | 0.93960 | 0.0086 | 5.189e-13 |  0 | +-++-+-+-+-++-++-+-++++++-++++++-+-++-+-++++-++-+-++--+++-++++++-++++++++--- | 14.3 | 75 | 0.1531 | 53386 | 77258 | 58749.13 |\n",
       "| 1 | rs61765637 | 73269720 | G | C | 0.523 | 0.510 | 0.993 | 1.06439 | 0.0086 | 4.623e-13 |  0 | -+--+-+-+-++-++-+-+------+-+----+-+--+-+----+--+-+--++---+-----++--------+++ | 14.9 | 75 | 0.1418 | 53386 | 77258 | 58749.13 |\n",
       "| 1 | rs12759031 | 73271206 | C | T | 0.481 | 0.494 | 0.992 | 0.93979 | 0.0086 | 5.844e-13 |  0 | +-++-+-+-+--+-++-+-++++++-++++++-+-++-+-++++-++-+-++--+++-+++-++-++++++++--- | 13.9 | 75 | 0.1596 | 53386 | 77258 | 58749.13 |\n",
       "| 1 | rs11210191 | 73276935 | T | G | 0.483 | 0.496 | 0.996 | 0.93960 | 0.0086 | 4.661e-13 |  0 | -+--+-+-+-++-+--+-+------+------+-+--+-+----+--+-+--++---+------+--------+++ | 14.8 | 75 | 0.1440 | 53386 | 77258 | 58749.13 |\n",
       "| 1 | rs11210193 | 73278190 | A | G | 0.523 | 0.510 | 0.996 | 1.06439 | 0.0086 | 4.152e-13 | 17 | --++-+-+-+--+--+-+-++++++-+-++++---++-+-++++-++-+-++--+++-+++++--++++++++--- | 15.6 | 75 | 0.1304 | 53386 | 77258 | 58749.13 |\n",
       "| 1 | rs7513593  | 73281554 | T | C | 0.483 | 0.496 | 0.996 | 0.93932 | 0.0086 | 3.448e-13 |  1 | -+--+-+-+-++-+--+-+------+------+-+--+-+----+--+-+--++---+------+--------+++ | 15.0 | 75 | 0.1408 | 53386 | 77258 | 58749.13 |\n",
       "| 1 | rs11210195 | 73283600 | C | T | 0.524 | 0.510 | 0.996 | 1.06471 | 0.0086 | 3.261e-13 |  6 | ++--+-+-+-++-++-+-+------+-+----+++--+-+----+--+-+--++---+-----++--------+++ | 16.3 | 75 | 0.1191 | 53386 | 77258 | 58749.13 |\n",
       "\n"
      ],
      "text/plain": [
       "  ss_CHR ss_SNP     contributing_snp_pos ss_A1 ss_A2 ss_FRQ_A_53386\n",
       "1 1      rs6672818  73265462             C     T     0.483         \n",
       "2 1      rs61765637 73269720             G     C     0.523         \n",
       "3 1      rs12759031 73271206             C     T     0.481         \n",
       "4 1      rs11210191 73276935             T     G     0.483         \n",
       "5 1      rs11210193 73278190             A     G     0.523         \n",
       "6 1      rs7513593  73281554             T     C     0.483         \n",
       "7 1      rs11210195 73283600             C     T     0.524         \n",
       "  ss_FRQ_U_77258 ss_INFO ss_OR   ss_SE  ss_P      ss_ngt\n",
       "1 0.496          0.991   0.93960 0.0086 5.189e-13  0    \n",
       "2 0.510          0.993   1.06439 0.0086 4.623e-13  0    \n",
       "3 0.494          0.992   0.93979 0.0086 5.844e-13  0    \n",
       "4 0.496          0.996   0.93960 0.0086 4.661e-13  0    \n",
       "5 0.510          0.996   1.06439 0.0086 4.152e-13 17    \n",
       "6 0.496          0.996   0.93932 0.0086 3.448e-13  1    \n",
       "7 0.510          0.996   1.06471 0.0086 3.261e-13  6    \n",
       "  ss_Direction                                                                \n",
       "1 +-++-+-+-+-++-++-+-++++++-++++++-+-++-+-++++-++-+-++--+++-++++++-++++++++---\n",
       "2 -+--+-+-+-++-++-+-+------+-+----+-+--+-+----+--+-+--++---+-----++--------+++\n",
       "3 +-++-+-+-+--+-++-+-++++++-++++++-+-++-+-++++-++-+-++--+++-+++-++-++++++++---\n",
       "4 -+--+-+-+-++-+--+-+------+------+-+--+-+----+--+-+--++---+------+--------+++\n",
       "5 --++-+-+-+--+--+-+-++++++-+-++++---++-+-++++-++-+-++--+++-+++++--++++++++---\n",
       "6 -+--+-+-+-++-+--+-+------+------+-+--+-+----+--+-+--++---+------+--------+++\n",
       "7 ++--+-+-+-++-++-+-+------+-+----+++--+-+----+--+-+--++---+-----++--------+++\n",
       "  ss_HetISqt ss_HetDf ss_HetPVa ss_Nca ss_Nco ss_Neff \n",
       "1 14.3       75       0.1531    53386  77258  58749.13\n",
       "2 14.9       75       0.1418    53386  77258  58749.13\n",
       "3 13.9       75       0.1596    53386  77258  58749.13\n",
       "4 14.8       75       0.1440    53386  77258  58749.13\n",
       "5 15.6       75       0.1304    53386  77258  58749.13\n",
       "6 15.0       75       0.1408    53386  77258  58749.13\n",
       "7 16.3       75       0.1191    53386  77258  58749.13"
      ]
     },
     "metadata": {},
     "output_type": "display_data"
    }
   ],
   "source": [
    "ss_snps_for_this_cpg"
   ]
  },
  {
   "cell_type": "code",
   "execution_count": 49,
   "id": "0fcca0fb-daad-4f04-85b3-eab53316a931",
   "metadata": {},
   "outputs": [],
   "source": [
    "ss_snps_for_this_cpg$logOR <- log(ss_snps_for_this_cpg$ss_OR)\n",
    "ss_snps_for_this_cpg$SElogOR <- ss_snps_for_this_cpg$ss_SE / ss_snps_for_this_cpg$ss_OR"
   ]
  },
  {
   "cell_type": "code",
   "execution_count": 50,
   "id": "80bc6c5a-9f97-4653-a789-17775047ca2a",
   "metadata": {},
   "outputs": [],
   "source": [
    "# The (right?) way to compute it?\n",
    "ss_snps_for_this_cpg$z <- ss_snps_for_this_cpg$logOR / ss_snps_for_this_cpg$SElogOR"
   ]
  },
  {
   "cell_type": "code",
   "execution_count": 51,
   "id": "67a5ab75-2379-4919-ab01-a467f16668c4",
   "metadata": {},
   "outputs": [
    {
     "data": {
      "text/html": [
       "<table class=\"dataframe\">\n",
       "<caption>A data.table: 7 × 22</caption>\n",
       "<thead>\n",
       "\t<tr><th scope=col>ss_CHR</th><th scope=col>ss_SNP</th><th scope=col>contributing_snp_pos</th><th scope=col>ss_A1</th><th scope=col>ss_A2</th><th scope=col>ss_FRQ_A_53386</th><th scope=col>ss_FRQ_U_77258</th><th scope=col>ss_INFO</th><th scope=col>ss_OR</th><th scope=col>ss_SE</th><th scope=col>⋯</th><th scope=col>ss_Direction</th><th scope=col>ss_HetISqt</th><th scope=col>ss_HetDf</th><th scope=col>ss_HetPVa</th><th scope=col>ss_Nca</th><th scope=col>ss_Nco</th><th scope=col>ss_Neff</th><th scope=col>logOR</th><th scope=col>SElogOR</th><th scope=col>z</th></tr>\n",
       "\t<tr><th scope=col>&lt;int&gt;</th><th scope=col>&lt;chr&gt;</th><th scope=col>&lt;int&gt;</th><th scope=col>&lt;chr&gt;</th><th scope=col>&lt;chr&gt;</th><th scope=col>&lt;dbl&gt;</th><th scope=col>&lt;dbl&gt;</th><th scope=col>&lt;dbl&gt;</th><th scope=col>&lt;dbl&gt;</th><th scope=col>&lt;dbl&gt;</th><th scope=col>⋯</th><th scope=col>&lt;chr&gt;</th><th scope=col>&lt;dbl&gt;</th><th scope=col>&lt;int&gt;</th><th scope=col>&lt;dbl&gt;</th><th scope=col>&lt;int&gt;</th><th scope=col>&lt;int&gt;</th><th scope=col>&lt;dbl&gt;</th><th scope=col>&lt;dbl&gt;</th><th scope=col>&lt;dbl&gt;</th><th scope=col>&lt;dbl&gt;</th></tr>\n",
       "</thead>\n",
       "<tbody>\n",
       "\t<tr><td>1</td><td>rs6672818 </td><td>73265462</td><td>C</td><td>T</td><td>0.483</td><td>0.496</td><td>0.991</td><td>0.93960</td><td>0.0086</td><td>⋯</td><td>+-++-+-+-+-++-++-+-++++++-++++++-+-++-+-++++-++-+-++--+++-++++++-++++++++---</td><td>14.3</td><td>75</td><td>0.1531</td><td>53386</td><td>77258</td><td>58749.13</td><td>-0.06230103</td><td>0.009152831</td><td>-6.806749</td></tr>\n",
       "\t<tr><td>1</td><td>rs61765637</td><td>73269720</td><td>G</td><td>C</td><td>0.523</td><td>0.510</td><td>0.993</td><td>1.06439</td><td>0.0086</td><td>⋯</td><td>-+--+-+-+-++-++-+-+------+-+----+-+--+-+----+--+-+--++---+-----++--------+++</td><td>14.9</td><td>75</td><td>0.1418</td><td>53386</td><td>77258</td><td>58749.13</td><td> 0.06240187</td><td>0.008079745</td><td> 7.723247</td></tr>\n",
       "\t<tr><td>1</td><td>rs12759031</td><td>73271206</td><td>C</td><td>T</td><td>0.481</td><td>0.494</td><td>0.992</td><td>0.93979</td><td>0.0086</td><td>⋯</td><td>+-++-+-+-+--+-++-+-++++++-++++++-+-++-+-++++-++-+-++--+++-+++-++-++++++++---</td><td>13.9</td><td>75</td><td>0.1596</td><td>53386</td><td>77258</td><td>58749.13</td><td>-0.06209883</td><td>0.009150981</td><td>-6.786030</td></tr>\n",
       "\t<tr><td>1</td><td>rs11210191</td><td>73276935</td><td>T</td><td>G</td><td>0.483</td><td>0.496</td><td>0.996</td><td>0.93960</td><td>0.0086</td><td>⋯</td><td>-+--+-+-+-++-+--+-+------+------+-+--+-+----+--+-+--++---+------+--------+++</td><td>14.8</td><td>75</td><td>0.1440</td><td>53386</td><td>77258</td><td>58749.13</td><td>-0.06230103</td><td>0.009152831</td><td>-6.806749</td></tr>\n",
       "\t<tr><td>1</td><td>rs11210193</td><td>73278190</td><td>A</td><td>G</td><td>0.523</td><td>0.510</td><td>0.996</td><td>1.06439</td><td>0.0086</td><td>⋯</td><td>--++-+-+-+--+--+-+-++++++-+-++++---++-+-++++-++-+-++--+++-+++++--++++++++---</td><td>15.6</td><td>75</td><td>0.1304</td><td>53386</td><td>77258</td><td>58749.13</td><td> 0.06240187</td><td>0.008079745</td><td> 7.723247</td></tr>\n",
       "\t<tr><td>1</td><td>rs7513593 </td><td>73281554</td><td>T</td><td>C</td><td>0.483</td><td>0.496</td><td>0.996</td><td>0.93932</td><td>0.0086</td><td>⋯</td><td>-+--+-+-+-++-+--+-+------+------+-+--+-+----+--+-+--++---+------+--------+++</td><td>15.0</td><td>75</td><td>0.1408</td><td>53386</td><td>77258</td><td>58749.13</td><td>-0.06259907</td><td>0.009155559</td><td>-6.837274</td></tr>\n",
       "\t<tr><td>1</td><td>rs11210195</td><td>73283600</td><td>C</td><td>T</td><td>0.524</td><td>0.510</td><td>0.996</td><td>1.06471</td><td>0.0086</td><td>⋯</td><td>++--+-+-+-++-++-+-+------+-+----+++--+-+----+--+-+--++---+-----++--------+++</td><td>16.3</td><td>75</td><td>0.1191</td><td>53386</td><td>77258</td><td>58749.13</td><td> 0.06270246</td><td>0.008077317</td><td> 7.762783</td></tr>\n",
       "</tbody>\n",
       "</table>\n"
      ],
      "text/latex": [
       "A data.table: 7 × 22\n",
       "\\begin{tabular}{lllllllllllllllllllll}\n",
       " ss\\_CHR & ss\\_SNP & contributing\\_snp\\_pos & ss\\_A1 & ss\\_A2 & ss\\_FRQ\\_A\\_53386 & ss\\_FRQ\\_U\\_77258 & ss\\_INFO & ss\\_OR & ss\\_SE & ⋯ & ss\\_Direction & ss\\_HetISqt & ss\\_HetDf & ss\\_HetPVa & ss\\_Nca & ss\\_Nco & ss\\_Neff & logOR & SElogOR & z\\\\\n",
       " <int> & <chr> & <int> & <chr> & <chr> & <dbl> & <dbl> & <dbl> & <dbl> & <dbl> & ⋯ & <chr> & <dbl> & <int> & <dbl> & <int> & <int> & <dbl> & <dbl> & <dbl> & <dbl>\\\\\n",
       "\\hline\n",
       "\t 1 & rs6672818  & 73265462 & C & T & 0.483 & 0.496 & 0.991 & 0.93960 & 0.0086 & ⋯ & +-++-+-+-+-++-++-+-++++++-++++++-+-++-+-++++-++-+-++--+++-++++++-++++++++--- & 14.3 & 75 & 0.1531 & 53386 & 77258 & 58749.13 & -0.06230103 & 0.009152831 & -6.806749\\\\\n",
       "\t 1 & rs61765637 & 73269720 & G & C & 0.523 & 0.510 & 0.993 & 1.06439 & 0.0086 & ⋯ & -+--+-+-+-++-++-+-+------+-+----+-+--+-+----+--+-+--++---+-----++--------+++ & 14.9 & 75 & 0.1418 & 53386 & 77258 & 58749.13 &  0.06240187 & 0.008079745 &  7.723247\\\\\n",
       "\t 1 & rs12759031 & 73271206 & C & T & 0.481 & 0.494 & 0.992 & 0.93979 & 0.0086 & ⋯ & +-++-+-+-+--+-++-+-++++++-++++++-+-++-+-++++-++-+-++--+++-+++-++-++++++++--- & 13.9 & 75 & 0.1596 & 53386 & 77258 & 58749.13 & -0.06209883 & 0.009150981 & -6.786030\\\\\n",
       "\t 1 & rs11210191 & 73276935 & T & G & 0.483 & 0.496 & 0.996 & 0.93960 & 0.0086 & ⋯ & -+--+-+-+-++-+--+-+------+------+-+--+-+----+--+-+--++---+------+--------+++ & 14.8 & 75 & 0.1440 & 53386 & 77258 & 58749.13 & -0.06230103 & 0.009152831 & -6.806749\\\\\n",
       "\t 1 & rs11210193 & 73278190 & A & G & 0.523 & 0.510 & 0.996 & 1.06439 & 0.0086 & ⋯ & --++-+-+-+--+--+-+-++++++-+-++++---++-+-++++-++-+-++--+++-+++++--++++++++--- & 15.6 & 75 & 0.1304 & 53386 & 77258 & 58749.13 &  0.06240187 & 0.008079745 &  7.723247\\\\\n",
       "\t 1 & rs7513593  & 73281554 & T & C & 0.483 & 0.496 & 0.996 & 0.93932 & 0.0086 & ⋯ & -+--+-+-+-++-+--+-+------+------+-+--+-+----+--+-+--++---+------+--------+++ & 15.0 & 75 & 0.1408 & 53386 & 77258 & 58749.13 & -0.06259907 & 0.009155559 & -6.837274\\\\\n",
       "\t 1 & rs11210195 & 73283600 & C & T & 0.524 & 0.510 & 0.996 & 1.06471 & 0.0086 & ⋯ & ++--+-+-+-++-++-+-+------+-+----+++--+-+----+--+-+--++---+-----++--------+++ & 16.3 & 75 & 0.1191 & 53386 & 77258 & 58749.13 &  0.06270246 & 0.008077317 &  7.762783\\\\\n",
       "\\end{tabular}\n"
      ],
      "text/markdown": [
       "\n",
       "A data.table: 7 × 22\n",
       "\n",
       "| ss_CHR &lt;int&gt; | ss_SNP &lt;chr&gt; | contributing_snp_pos &lt;int&gt; | ss_A1 &lt;chr&gt; | ss_A2 &lt;chr&gt; | ss_FRQ_A_53386 &lt;dbl&gt; | ss_FRQ_U_77258 &lt;dbl&gt; | ss_INFO &lt;dbl&gt; | ss_OR &lt;dbl&gt; | ss_SE &lt;dbl&gt; | ⋯ ⋯ | ss_Direction &lt;chr&gt; | ss_HetISqt &lt;dbl&gt; | ss_HetDf &lt;int&gt; | ss_HetPVa &lt;dbl&gt; | ss_Nca &lt;int&gt; | ss_Nco &lt;int&gt; | ss_Neff &lt;dbl&gt; | logOR &lt;dbl&gt; | SElogOR &lt;dbl&gt; | z &lt;dbl&gt; |\n",
       "|---|---|---|---|---|---|---|---|---|---|---|---|---|---|---|---|---|---|---|---|---|\n",
       "| 1 | rs6672818  | 73265462 | C | T | 0.483 | 0.496 | 0.991 | 0.93960 | 0.0086 | ⋯ | +-++-+-+-+-++-++-+-++++++-++++++-+-++-+-++++-++-+-++--+++-++++++-++++++++--- | 14.3 | 75 | 0.1531 | 53386 | 77258 | 58749.13 | -0.06230103 | 0.009152831 | -6.806749 |\n",
       "| 1 | rs61765637 | 73269720 | G | C | 0.523 | 0.510 | 0.993 | 1.06439 | 0.0086 | ⋯ | -+--+-+-+-++-++-+-+------+-+----+-+--+-+----+--+-+--++---+-----++--------+++ | 14.9 | 75 | 0.1418 | 53386 | 77258 | 58749.13 |  0.06240187 | 0.008079745 |  7.723247 |\n",
       "| 1 | rs12759031 | 73271206 | C | T | 0.481 | 0.494 | 0.992 | 0.93979 | 0.0086 | ⋯ | +-++-+-+-+--+-++-+-++++++-++++++-+-++-+-++++-++-+-++--+++-+++-++-++++++++--- | 13.9 | 75 | 0.1596 | 53386 | 77258 | 58749.13 | -0.06209883 | 0.009150981 | -6.786030 |\n",
       "| 1 | rs11210191 | 73276935 | T | G | 0.483 | 0.496 | 0.996 | 0.93960 | 0.0086 | ⋯ | -+--+-+-+-++-+--+-+------+------+-+--+-+----+--+-+--++---+------+--------+++ | 14.8 | 75 | 0.1440 | 53386 | 77258 | 58749.13 | -0.06230103 | 0.009152831 | -6.806749 |\n",
       "| 1 | rs11210193 | 73278190 | A | G | 0.523 | 0.510 | 0.996 | 1.06439 | 0.0086 | ⋯ | --++-+-+-+--+--+-+-++++++-+-++++---++-+-++++-++-+-++--+++-+++++--++++++++--- | 15.6 | 75 | 0.1304 | 53386 | 77258 | 58749.13 |  0.06240187 | 0.008079745 |  7.723247 |\n",
       "| 1 | rs7513593  | 73281554 | T | C | 0.483 | 0.496 | 0.996 | 0.93932 | 0.0086 | ⋯ | -+--+-+-+-++-+--+-+------+------+-+--+-+----+--+-+--++---+------+--------+++ | 15.0 | 75 | 0.1408 | 53386 | 77258 | 58749.13 | -0.06259907 | 0.009155559 | -6.837274 |\n",
       "| 1 | rs11210195 | 73283600 | C | T | 0.524 | 0.510 | 0.996 | 1.06471 | 0.0086 | ⋯ | ++--+-+-+-++-++-+-+------+-+----+++--+-+----+--+-+--++---+-----++--------+++ | 16.3 | 75 | 0.1191 | 53386 | 77258 | 58749.13 |  0.06270246 | 0.008077317 |  7.762783 |\n",
       "\n"
      ],
      "text/plain": [
       "  ss_CHR ss_SNP     contributing_snp_pos ss_A1 ss_A2 ss_FRQ_A_53386\n",
       "1 1      rs6672818  73265462             C     T     0.483         \n",
       "2 1      rs61765637 73269720             G     C     0.523         \n",
       "3 1      rs12759031 73271206             C     T     0.481         \n",
       "4 1      rs11210191 73276935             T     G     0.483         \n",
       "5 1      rs11210193 73278190             A     G     0.523         \n",
       "6 1      rs7513593  73281554             T     C     0.483         \n",
       "7 1      rs11210195 73283600             C     T     0.524         \n",
       "  ss_FRQ_U_77258 ss_INFO ss_OR   ss_SE  ⋯\n",
       "1 0.496          0.991   0.93960 0.0086 ⋯\n",
       "2 0.510          0.993   1.06439 0.0086 ⋯\n",
       "3 0.494          0.992   0.93979 0.0086 ⋯\n",
       "4 0.496          0.996   0.93960 0.0086 ⋯\n",
       "5 0.510          0.996   1.06439 0.0086 ⋯\n",
       "6 0.496          0.996   0.93932 0.0086 ⋯\n",
       "7 0.510          0.996   1.06471 0.0086 ⋯\n",
       "  ss_Direction                                                                \n",
       "1 +-++-+-+-+-++-++-+-++++++-++++++-+-++-+-++++-++-+-++--+++-++++++-++++++++---\n",
       "2 -+--+-+-+-++-++-+-+------+-+----+-+--+-+----+--+-+--++---+-----++--------+++\n",
       "3 +-++-+-+-+--+-++-+-++++++-++++++-+-++-+-++++-++-+-++--+++-+++-++-++++++++---\n",
       "4 -+--+-+-+-++-+--+-+------+------+-+--+-+----+--+-+--++---+------+--------+++\n",
       "5 --++-+-+-+--+--+-+-++++++-+-++++---++-+-++++-++-+-++--+++-+++++--++++++++---\n",
       "6 -+--+-+-+-++-+--+-+------+------+-+--+-+----+--+-+--++---+------+--------+++\n",
       "7 ++--+-+-+-++-++-+-+------+-+----+++--+-+----+--+-+--++---+-----++--------+++\n",
       "  ss_HetISqt ss_HetDf ss_HetPVa ss_Nca ss_Nco ss_Neff  logOR       SElogOR    \n",
       "1 14.3       75       0.1531    53386  77258  58749.13 -0.06230103 0.009152831\n",
       "2 14.9       75       0.1418    53386  77258  58749.13  0.06240187 0.008079745\n",
       "3 13.9       75       0.1596    53386  77258  58749.13 -0.06209883 0.009150981\n",
       "4 14.8       75       0.1440    53386  77258  58749.13 -0.06230103 0.009152831\n",
       "5 15.6       75       0.1304    53386  77258  58749.13  0.06240187 0.008079745\n",
       "6 15.0       75       0.1408    53386  77258  58749.13 -0.06259907 0.009155559\n",
       "7 16.3       75       0.1191    53386  77258  58749.13  0.06270246 0.008077317\n",
       "  z        \n",
       "1 -6.806749\n",
       "2  7.723247\n",
       "3 -6.786030\n",
       "4 -6.806749\n",
       "5  7.723247\n",
       "6 -6.837274\n",
       "7  7.762783"
      ]
     },
     "metadata": {},
     "output_type": "display_data"
    }
   ],
   "source": [
    "ss_snps_for_this_cpg"
   ]
  },
  {
   "cell_type": "code",
   "execution_count": 52,
   "id": "357868d7-e77f-4e13-be47-a8a0c7263c50",
   "metadata": {},
   "outputs": [
    {
     "data": {
      "text/html": [
       "<style>\n",
       ".list-inline {list-style: none; margin:0; padding: 0}\n",
       ".list-inline>li {display: inline-block}\n",
       ".list-inline>li:not(:last-child)::after {content: \"\\00b7\"; padding: 0 .5ex}\n",
       "</style>\n",
       "<ol class=list-inline><li>102</li><li>24</li></ol>\n"
      ],
      "text/latex": [
       "\\begin{enumerate*}\n",
       "\\item 102\n",
       "\\item 24\n",
       "\\end{enumerate*}\n"
      ],
      "text/markdown": [
       "1. 102\n",
       "2. 24\n",
       "\n",
       "\n"
      ],
      "text/plain": [
       "[1] 102  24"
      ]
     },
     "metadata": {},
     "output_type": "display_data"
    }
   ],
   "source": [
    "dim(merged)"
   ]
  },
  {
   "cell_type": "code",
   "execution_count": 53,
   "id": "3b01dca6-b30e-4127-8839-4b55c7c91490",
   "metadata": {},
   "outputs": [
    {
     "data": {
      "text/html": [
       "<style>\n",
       ".list-inline {list-style: none; margin:0; padding: 0}\n",
       ".list-inline>li {display: inline-block}\n",
       ".list-inline>li:not(:last-child)::after {content: \"\\00b7\"; padding: 0 .5ex}\n",
       "</style>\n",
       "<ol class=list-inline><li>'contributing_snp_pos'</li><li>'methylation_position'</li><li>'pval_mwas_stage2'</li><li>'contributing_snp_name'</li><li>'contributing_snp_weight_mwas_stage1_prediction'</li><li>'ss_CHR'</li><li>'ss_SNP'</li><li>'ss_A1'</li><li>'ss_A2'</li><li>'ss_FRQ_A_53386'</li><li>'ss_FRQ_U_77258'</li><li>'ss_INFO'</li><li>'ss_OR'</li><li>'ss_SE'</li><li>'ss_P'</li><li>'ss_ngt'</li><li>'ss_Direction'</li><li>'ss_HetISqt'</li><li>'ss_HetDf'</li><li>'ss_HetPVa'</li><li>'ss_Nca'</li><li>'ss_Nco'</li><li>'ss_Neff'</li><li>'contributing_snp_name_verified'</li></ol>\n"
      ],
      "text/latex": [
       "\\begin{enumerate*}\n",
       "\\item 'contributing\\_snp\\_pos'\n",
       "\\item 'methylation\\_position'\n",
       "\\item 'pval\\_mwas\\_stage2'\n",
       "\\item 'contributing\\_snp\\_name'\n",
       "\\item 'contributing\\_snp\\_weight\\_mwas\\_stage1\\_prediction'\n",
       "\\item 'ss\\_CHR'\n",
       "\\item 'ss\\_SNP'\n",
       "\\item 'ss\\_A1'\n",
       "\\item 'ss\\_A2'\n",
       "\\item 'ss\\_FRQ\\_A\\_53386'\n",
       "\\item 'ss\\_FRQ\\_U\\_77258'\n",
       "\\item 'ss\\_INFO'\n",
       "\\item 'ss\\_OR'\n",
       "\\item 'ss\\_SE'\n",
       "\\item 'ss\\_P'\n",
       "\\item 'ss\\_ngt'\n",
       "\\item 'ss\\_Direction'\n",
       "\\item 'ss\\_HetISqt'\n",
       "\\item 'ss\\_HetDf'\n",
       "\\item 'ss\\_HetPVa'\n",
       "\\item 'ss\\_Nca'\n",
       "\\item 'ss\\_Nco'\n",
       "\\item 'ss\\_Neff'\n",
       "\\item 'contributing\\_snp\\_name\\_verified'\n",
       "\\end{enumerate*}\n"
      ],
      "text/markdown": [
       "1. 'contributing_snp_pos'\n",
       "2. 'methylation_position'\n",
       "3. 'pval_mwas_stage2'\n",
       "4. 'contributing_snp_name'\n",
       "5. 'contributing_snp_weight_mwas_stage1_prediction'\n",
       "6. 'ss_CHR'\n",
       "7. 'ss_SNP'\n",
       "8. 'ss_A1'\n",
       "9. 'ss_A2'\n",
       "10. 'ss_FRQ_A_53386'\n",
       "11. 'ss_FRQ_U_77258'\n",
       "12. 'ss_INFO'\n",
       "13. 'ss_OR'\n",
       "14. 'ss_SE'\n",
       "15. 'ss_P'\n",
       "16. 'ss_ngt'\n",
       "17. 'ss_Direction'\n",
       "18. 'ss_HetISqt'\n",
       "19. 'ss_HetDf'\n",
       "20. 'ss_HetPVa'\n",
       "21. 'ss_Nca'\n",
       "22. 'ss_Nco'\n",
       "23. 'ss_Neff'\n",
       "24. 'contributing_snp_name_verified'\n",
       "\n",
       "\n"
      ],
      "text/plain": [
       " [1] \"contributing_snp_pos\"                          \n",
       " [2] \"methylation_position\"                          \n",
       " [3] \"pval_mwas_stage2\"                              \n",
       " [4] \"contributing_snp_name\"                         \n",
       " [5] \"contributing_snp_weight_mwas_stage1_prediction\"\n",
       " [6] \"ss_CHR\"                                        \n",
       " [7] \"ss_SNP\"                                        \n",
       " [8] \"ss_A1\"                                         \n",
       " [9] \"ss_A2\"                                         \n",
       "[10] \"ss_FRQ_A_53386\"                                \n",
       "[11] \"ss_FRQ_U_77258\"                                \n",
       "[12] \"ss_INFO\"                                       \n",
       "[13] \"ss_OR\"                                         \n",
       "[14] \"ss_SE\"                                         \n",
       "[15] \"ss_P\"                                          \n",
       "[16] \"ss_ngt\"                                        \n",
       "[17] \"ss_Direction\"                                  \n",
       "[18] \"ss_HetISqt\"                                    \n",
       "[19] \"ss_HetDf\"                                      \n",
       "[20] \"ss_HetPVa\"                                     \n",
       "[21] \"ss_Nca\"                                        \n",
       "[22] \"ss_Nco\"                                        \n",
       "[23] \"ss_Neff\"                                       \n",
       "[24] \"contributing_snp_name_verified\"                "
      ]
     },
     "metadata": {},
     "output_type": "display_data"
    }
   ],
   "source": [
    "colnames(merged)"
   ]
  },
  {
   "cell_type": "code",
   "execution_count": 54,
   "id": "aaed3c3f-6761-4ea5-8f09-a8cb57381d64",
   "metadata": {},
   "outputs": [
    {
     "data": {
      "text/html": [
       "<table class=\"dataframe\">\n",
       "<caption>A data.table: 6 × 24</caption>\n",
       "<thead>\n",
       "\t<tr><th scope=col>contributing_snp_pos</th><th scope=col>methylation_position</th><th scope=col>pval_mwas_stage2</th><th scope=col>contributing_snp_name</th><th scope=col>contributing_snp_weight_mwas_stage1_prediction</th><th scope=col>ss_CHR</th><th scope=col>ss_SNP</th><th scope=col>ss_A1</th><th scope=col>ss_A2</th><th scope=col>ss_FRQ_A_53386</th><th scope=col>⋯</th><th scope=col>ss_P</th><th scope=col>ss_ngt</th><th scope=col>ss_Direction</th><th scope=col>ss_HetISqt</th><th scope=col>ss_HetDf</th><th scope=col>ss_HetPVa</th><th scope=col>ss_Nca</th><th scope=col>ss_Nco</th><th scope=col>ss_Neff</th><th scope=col>contributing_snp_name_verified</th></tr>\n",
       "\t<tr><th scope=col>&lt;int&gt;</th><th scope=col>&lt;list&gt;</th><th scope=col>&lt;list&gt;</th><th scope=col>&lt;chr&gt;</th><th scope=col>&lt;dbl&gt;</th><th scope=col>&lt;int&gt;</th><th scope=col>&lt;chr&gt;</th><th scope=col>&lt;chr&gt;</th><th scope=col>&lt;chr&gt;</th><th scope=col>&lt;dbl&gt;</th><th scope=col>⋯</th><th scope=col>&lt;dbl&gt;</th><th scope=col>&lt;int&gt;</th><th scope=col>&lt;chr&gt;</th><th scope=col>&lt;dbl&gt;</th><th scope=col>&lt;int&gt;</th><th scope=col>&lt;dbl&gt;</th><th scope=col>&lt;int&gt;</th><th scope=col>&lt;int&gt;</th><th scope=col>&lt;dbl&gt;</th><th scope=col>&lt;chr&gt;</th></tr>\n",
       "</thead>\n",
       "<tbody>\n",
       "\t<tr><td>73265462</td><td>73274305</td><td>0</td><td>chr1:73265462:C:T</td><td>-0.0003966410</td><td>1</td><td>rs6672818 </td><td>C</td><td>T</td><td>0.483</td><td>⋯</td><td>5.189e-13</td><td> 0</td><td>+-++-+-+-+-++-++-+-++++++-++++++-+-++-+-++++-++-+-++--+++-++++++-++++++++---</td><td>14.3</td><td>75</td><td>0.1531</td><td>53386</td><td>77258</td><td>58749.13</td><td>chr1:73265462:C:T</td></tr>\n",
       "\t<tr><td>73269720</td><td>73274305</td><td>0</td><td>chr1:73269720:G:C</td><td> 0.0004947975</td><td>1</td><td>rs61765637</td><td>G</td><td>C</td><td>0.523</td><td>⋯</td><td>4.623e-13</td><td> 0</td><td>-+--+-+-+-++-++-+-+------+-+----+-+--+-+----+--+-+--++---+-----++--------+++</td><td>14.9</td><td>75</td><td>0.1418</td><td>53386</td><td>77258</td><td>58749.13</td><td>chr1:73269720:G:C</td></tr>\n",
       "\t<tr><td>73271206</td><td>73274305</td><td>0</td><td>chr1:73271206:C:T</td><td>-0.0004841998</td><td>1</td><td>rs12759031</td><td>C</td><td>T</td><td>0.481</td><td>⋯</td><td>5.844e-13</td><td> 0</td><td>+-++-+-+-+--+-++-+-++++++-++++++-+-++-+-++++-++-+-++--+++-+++-++-++++++++---</td><td>13.9</td><td>75</td><td>0.1596</td><td>53386</td><td>77258</td><td>58749.13</td><td>chr1:73271206:C:T</td></tr>\n",
       "\t<tr><td>73276935</td><td>73274305</td><td>0</td><td>chr1:73276935:T:G</td><td>-0.0004460208</td><td>1</td><td>rs11210191</td><td>T</td><td>G</td><td>0.483</td><td>⋯</td><td>4.661e-13</td><td> 0</td><td>-+--+-+-+-++-+--+-+------+------+-+--+-+----+--+-+--++---+------+--------+++</td><td>14.8</td><td>75</td><td>0.1440</td><td>53386</td><td>77258</td><td>58749.13</td><td>chr1:73276935:T:G</td></tr>\n",
       "\t<tr><td>73278190</td><td>73274305</td><td>0</td><td>chr1:73278190:A:G</td><td> 0.0004900160</td><td>1</td><td>rs11210193</td><td>A</td><td>G</td><td>0.523</td><td>⋯</td><td>4.152e-13</td><td>17</td><td>--++-+-+-+--+--+-+-++++++-+-++++---++-+-++++-++-+-++--+++-+++++--++++++++---</td><td>15.6</td><td>75</td><td>0.1304</td><td>53386</td><td>77258</td><td>58749.13</td><td>chr1:73278190:A:G</td></tr>\n",
       "\t<tr><td>73281554</td><td>73274305</td><td>0</td><td>chr1:73281554:T:C</td><td>-0.0004224090</td><td>1</td><td>rs7513593 </td><td>T</td><td>C</td><td>0.483</td><td>⋯</td><td>3.448e-13</td><td> 1</td><td>-+--+-+-+-++-+--+-+------+------+-+--+-+----+--+-+--++---+------+--------+++</td><td>15.0</td><td>75</td><td>0.1408</td><td>53386</td><td>77258</td><td>58749.13</td><td>chr1:73281554:T:C</td></tr>\n",
       "</tbody>\n",
       "</table>\n"
      ],
      "text/latex": [
       "A data.table: 6 × 24\n",
       "\\begin{tabular}{lllllllllllllllllllll}\n",
       " contributing\\_snp\\_pos & methylation\\_position & pval\\_mwas\\_stage2 & contributing\\_snp\\_name & contributing\\_snp\\_weight\\_mwas\\_stage1\\_prediction & ss\\_CHR & ss\\_SNP & ss\\_A1 & ss\\_A2 & ss\\_FRQ\\_A\\_53386 & ⋯ & ss\\_P & ss\\_ngt & ss\\_Direction & ss\\_HetISqt & ss\\_HetDf & ss\\_HetPVa & ss\\_Nca & ss\\_Nco & ss\\_Neff & contributing\\_snp\\_name\\_verified\\\\\n",
       " <int> & <list> & <list> & <chr> & <dbl> & <int> & <chr> & <chr> & <chr> & <dbl> & ⋯ & <dbl> & <int> & <chr> & <dbl> & <int> & <dbl> & <int> & <int> & <dbl> & <chr>\\\\\n",
       "\\hline\n",
       "\t 73265462 & 73274305 & 0 & chr1:73265462:C:T & -0.0003966410 & 1 & rs6672818  & C & T & 0.483 & ⋯ & 5.189e-13 &  0 & +-++-+-+-+-++-++-+-++++++-++++++-+-++-+-++++-++-+-++--+++-++++++-++++++++--- & 14.3 & 75 & 0.1531 & 53386 & 77258 & 58749.13 & chr1:73265462:C:T\\\\\n",
       "\t 73269720 & 73274305 & 0 & chr1:73269720:G:C &  0.0004947975 & 1 & rs61765637 & G & C & 0.523 & ⋯ & 4.623e-13 &  0 & -+--+-+-+-++-++-+-+------+-+----+-+--+-+----+--+-+--++---+-----++--------+++ & 14.9 & 75 & 0.1418 & 53386 & 77258 & 58749.13 & chr1:73269720:G:C\\\\\n",
       "\t 73271206 & 73274305 & 0 & chr1:73271206:C:T & -0.0004841998 & 1 & rs12759031 & C & T & 0.481 & ⋯ & 5.844e-13 &  0 & +-++-+-+-+--+-++-+-++++++-++++++-+-++-+-++++-++-+-++--+++-+++-++-++++++++--- & 13.9 & 75 & 0.1596 & 53386 & 77258 & 58749.13 & chr1:73271206:C:T\\\\\n",
       "\t 73276935 & 73274305 & 0 & chr1:73276935:T:G & -0.0004460208 & 1 & rs11210191 & T & G & 0.483 & ⋯ & 4.661e-13 &  0 & -+--+-+-+-++-+--+-+------+------+-+--+-+----+--+-+--++---+------+--------+++ & 14.8 & 75 & 0.1440 & 53386 & 77258 & 58749.13 & chr1:73276935:T:G\\\\\n",
       "\t 73278190 & 73274305 & 0 & chr1:73278190:A:G &  0.0004900160 & 1 & rs11210193 & A & G & 0.523 & ⋯ & 4.152e-13 & 17 & --++-+-+-+--+--+-+-++++++-+-++++---++-+-++++-++-+-++--+++-+++++--++++++++--- & 15.6 & 75 & 0.1304 & 53386 & 77258 & 58749.13 & chr1:73278190:A:G\\\\\n",
       "\t 73281554 & 73274305 & 0 & chr1:73281554:T:C & -0.0004224090 & 1 & rs7513593  & T & C & 0.483 & ⋯ & 3.448e-13 &  1 & -+--+-+-+-++-+--+-+------+------+-+--+-+----+--+-+--++---+------+--------+++ & 15.0 & 75 & 0.1408 & 53386 & 77258 & 58749.13 & chr1:73281554:T:C\\\\\n",
       "\\end{tabular}\n"
      ],
      "text/markdown": [
       "\n",
       "A data.table: 6 × 24\n",
       "\n",
       "| contributing_snp_pos &lt;int&gt; | methylation_position &lt;list&gt; | pval_mwas_stage2 &lt;list&gt; | contributing_snp_name &lt;chr&gt; | contributing_snp_weight_mwas_stage1_prediction &lt;dbl&gt; | ss_CHR &lt;int&gt; | ss_SNP &lt;chr&gt; | ss_A1 &lt;chr&gt; | ss_A2 &lt;chr&gt; | ss_FRQ_A_53386 &lt;dbl&gt; | ⋯ ⋯ | ss_P &lt;dbl&gt; | ss_ngt &lt;int&gt; | ss_Direction &lt;chr&gt; | ss_HetISqt &lt;dbl&gt; | ss_HetDf &lt;int&gt; | ss_HetPVa &lt;dbl&gt; | ss_Nca &lt;int&gt; | ss_Nco &lt;int&gt; | ss_Neff &lt;dbl&gt; | contributing_snp_name_verified &lt;chr&gt; |\n",
       "|---|---|---|---|---|---|---|---|---|---|---|---|---|---|---|---|---|---|---|---|---|\n",
       "| 73265462 | 73274305 | 0 | chr1:73265462:C:T | -0.0003966410 | 1 | rs6672818  | C | T | 0.483 | ⋯ | 5.189e-13 |  0 | +-++-+-+-+-++-++-+-++++++-++++++-+-++-+-++++-++-+-++--+++-++++++-++++++++--- | 14.3 | 75 | 0.1531 | 53386 | 77258 | 58749.13 | chr1:73265462:C:T |\n",
       "| 73269720 | 73274305 | 0 | chr1:73269720:G:C |  0.0004947975 | 1 | rs61765637 | G | C | 0.523 | ⋯ | 4.623e-13 |  0 | -+--+-+-+-++-++-+-+------+-+----+-+--+-+----+--+-+--++---+-----++--------+++ | 14.9 | 75 | 0.1418 | 53386 | 77258 | 58749.13 | chr1:73269720:G:C |\n",
       "| 73271206 | 73274305 | 0 | chr1:73271206:C:T | -0.0004841998 | 1 | rs12759031 | C | T | 0.481 | ⋯ | 5.844e-13 |  0 | +-++-+-+-+--+-++-+-++++++-++++++-+-++-+-++++-++-+-++--+++-+++-++-++++++++--- | 13.9 | 75 | 0.1596 | 53386 | 77258 | 58749.13 | chr1:73271206:C:T |\n",
       "| 73276935 | 73274305 | 0 | chr1:73276935:T:G | -0.0004460208 | 1 | rs11210191 | T | G | 0.483 | ⋯ | 4.661e-13 |  0 | -+--+-+-+-++-+--+-+------+------+-+--+-+----+--+-+--++---+------+--------+++ | 14.8 | 75 | 0.1440 | 53386 | 77258 | 58749.13 | chr1:73276935:T:G |\n",
       "| 73278190 | 73274305 | 0 | chr1:73278190:A:G |  0.0004900160 | 1 | rs11210193 | A | G | 0.523 | ⋯ | 4.152e-13 | 17 | --++-+-+-+--+--+-+-++++++-+-++++---++-+-++++-++-+-++--+++-+++++--++++++++--- | 15.6 | 75 | 0.1304 | 53386 | 77258 | 58749.13 | chr1:73278190:A:G |\n",
       "| 73281554 | 73274305 | 0 | chr1:73281554:T:C | -0.0004224090 | 1 | rs7513593  | T | C | 0.483 | ⋯ | 3.448e-13 |  1 | -+--+-+-+-++-+--+-+------+------+-+--+-+----+--+-+--++---+------+--------+++ | 15.0 | 75 | 0.1408 | 53386 | 77258 | 58749.13 | chr1:73281554:T:C |\n",
       "\n"
      ],
      "text/plain": [
       "  contributing_snp_pos methylation_position pval_mwas_stage2\n",
       "1 73265462             73274305             0               \n",
       "2 73269720             73274305             0               \n",
       "3 73271206             73274305             0               \n",
       "4 73276935             73274305             0               \n",
       "5 73278190             73274305             0               \n",
       "6 73281554             73274305             0               \n",
       "  contributing_snp_name contributing_snp_weight_mwas_stage1_prediction ss_CHR\n",
       "1 chr1:73265462:C:T     -0.0003966410                                  1     \n",
       "2 chr1:73269720:G:C      0.0004947975                                  1     \n",
       "3 chr1:73271206:C:T     -0.0004841998                                  1     \n",
       "4 chr1:73276935:T:G     -0.0004460208                                  1     \n",
       "5 chr1:73278190:A:G      0.0004900160                                  1     \n",
       "6 chr1:73281554:T:C     -0.0004224090                                  1     \n",
       "  ss_SNP     ss_A1 ss_A2 ss_FRQ_A_53386 ⋯ ss_P      ss_ngt\n",
       "1 rs6672818  C     T     0.483          ⋯ 5.189e-13  0    \n",
       "2 rs61765637 G     C     0.523          ⋯ 4.623e-13  0    \n",
       "3 rs12759031 C     T     0.481          ⋯ 5.844e-13  0    \n",
       "4 rs11210191 T     G     0.483          ⋯ 4.661e-13  0    \n",
       "5 rs11210193 A     G     0.523          ⋯ 4.152e-13 17    \n",
       "6 rs7513593  T     C     0.483          ⋯ 3.448e-13  1    \n",
       "  ss_Direction                                                                \n",
       "1 +-++-+-+-+-++-++-+-++++++-++++++-+-++-+-++++-++-+-++--+++-++++++-++++++++---\n",
       "2 -+--+-+-+-++-++-+-+------+-+----+-+--+-+----+--+-+--++---+-----++--------+++\n",
       "3 +-++-+-+-+--+-++-+-++++++-++++++-+-++-+-++++-++-+-++--+++-+++-++-++++++++---\n",
       "4 -+--+-+-+-++-+--+-+------+------+-+--+-+----+--+-+--++---+------+--------+++\n",
       "5 --++-+-+-+--+--+-+-++++++-+-++++---++-+-++++-++-+-++--+++-+++++--++++++++---\n",
       "6 -+--+-+-+-++-+--+-+------+------+-+--+-+----+--+-+--++---+------+--------+++\n",
       "  ss_HetISqt ss_HetDf ss_HetPVa ss_Nca ss_Nco ss_Neff \n",
       "1 14.3       75       0.1531    53386  77258  58749.13\n",
       "2 14.9       75       0.1418    53386  77258  58749.13\n",
       "3 13.9       75       0.1596    53386  77258  58749.13\n",
       "4 14.8       75       0.1440    53386  77258  58749.13\n",
       "5 15.6       75       0.1304    53386  77258  58749.13\n",
       "6 15.0       75       0.1408    53386  77258  58749.13\n",
       "  contributing_snp_name_verified\n",
       "1 chr1:73265462:C:T             \n",
       "2 chr1:73269720:G:C             \n",
       "3 chr1:73271206:C:T             \n",
       "4 chr1:73276935:T:G             \n",
       "5 chr1:73278190:A:G             \n",
       "6 chr1:73281554:T:C             "
      ]
     },
     "metadata": {},
     "output_type": "display_data"
    }
   ],
   "source": [
    "head(merged)"
   ]
  },
  {
   "cell_type": "code",
   "execution_count": null,
   "id": "617d7bcb-61f7-4610-84b5-584d1adca470",
   "metadata": {},
   "outputs": [],
   "source": [
    "mwas(z = ss_snps_for_this_cpg$z,\n",
    "     w = ss_snps_for_this_cpg$)"
   ]
  },
  {
   "cell_type": "code",
   "execution_count": null,
   "id": "4e1adc82-c5c5-459e-b6bb-ef1308ad6c96",
   "metadata": {},
   "outputs": [],
   "source": [
    "mwas <- function(z, w, G){   \n",
    "  if(length(w) > 1){\n",
    "    #recover()\n",
    "    # z-scores for effect of SNPs on external phenotype\n",
    "    #. are weighted according to weights for effect of SNPs on methylation\n",
    "    z <- z %*% w\n",
    "    # compute correlation matrix of SNP matrix, which captures LD structure\n",
    "    z.cor <- cor(G)\n",
    "    # add small value to diagonal to avoid singular matrix\n",
    "    #  which may otherwise happen if two SNPs in perfect LD\n",
    "    z.cor <- z.cor + diag(dim(z.cor)[1])*0.1 \n",
    "    # variance of correlated variables is weighted sum \n",
    "    # multiplying w by corr matrix once gives a vector representing\n",
    "    #. the variance of each individual SNP and the extent to which they are\n",
    "    #. influenced by other SNPs. Multiplying again by w sums up pairwise contributions\n",
    "    #. and reflects total variance of weighted sum.\n",
    "    #. the first w is automatically transposed by R so we don't have to write t(w)\n",
    "    se <- sqrt(w %*%  z.cor %*%  w)\n",
    "    z <- z/se\n",
    "    p <- pnorm(abs(z), lower.tail=F)*2\n",
    "    return(c(z=z, p=p, n=length(w)))\n",
    "  } else {\n",
    "    p <- pnorm(abs(z), lower.tail=F)*2\n",
    "    return(c(z=z, p=p, n=1))\n",
    "  }\n",
    "}"
   ]
  },
  {
   "cell_type": "code",
   "execution_count": null,
   "id": "84c6eccb-fd00-4a4c-a02f-99321b288680",
   "metadata": {},
   "outputs": [],
   "source": [
    "mwas()"
   ]
  },
  {
   "cell_type": "code",
   "execution_count": null,
   "id": "fc8a9c3b-7250-46fb-a262-a50361b503af",
   "metadata": {},
   "outputs": [],
   "source": []
  },
  {
   "cell_type": "code",
   "execution_count": null,
   "id": "b4e93395-ae38-4fe9-b280-aafdfbf4963c",
   "metadata": {},
   "outputs": [],
   "source": []
  },
  {
   "cell_type": "code",
   "execution_count": 57,
   "id": "45926c63-d36b-4d02-9d45-a458843169d5",
   "metadata": {},
   "outputs": [
    {
     "data": {
      "text/html": [
       "'/expanse/lustre/projects/jhu152/naglemi/mwas/CpGWAS/scripts'"
      ],
      "text/latex": [
       "'/expanse/lustre/projects/jhu152/naglemi/mwas/CpGWAS/scripts'"
      ],
      "text/markdown": [
       "'/expanse/lustre/projects/jhu152/naglemi/mwas/CpGWAS/scripts'"
      ],
      "text/plain": [
       "[1] \"/expanse/lustre/projects/jhu152/naglemi/mwas/CpGWAS/scripts\""
      ]
     },
     "metadata": {},
     "output_type": "display_data"
    }
   ],
   "source": [
    "getwd()"
   ]
  },
  {
   "cell_type": "code",
   "execution_count": 61,
   "id": "ddf220b3-1737-4635-9663-4c863fa5035d",
   "metadata": {},
   "outputs": [],
   "source": [
    "# List files recursively in the current working directory\n",
    "files <- list.files(path = \"/expanse/lustre/projects/jhu152/naglemi/mwas/CpGWAS/\", pattern = \"\", full.names = TRUE, recursive = TRUE)\n",
    "\n",
    "# Filter files containing both 'chr1-chr1' and '_results.rds'\n",
    "files_to_rename <- grep(\"chr1-chr1.*_results\\\\.rds\", files, value = TRUE)"
   ]
  },
  {
   "cell_type": "code",
   "execution_count": 62,
   "id": "0a843b4c-4e83-4610-b661-e3da83fd86ff",
   "metadata": {},
   "outputs": [],
   "source": [
    "# Rename files using a loop\n",
    "for (file in files_to_rename) {\n",
    "  new_name <- gsub(\"_results\\\\.rds\", \"_oldresults.rds\", file)\n",
    "  #print(file)\n",
    "  #print(new_name)\n",
    "  #print(\"next\")\n",
    "  file.rename(file, new_name)\n",
    "}"
   ]
  },
  {
   "cell_type": "code",
   "execution_count": null,
   "id": "d63b162f-e976-41e1-8b7a-37ae8c5da307",
   "metadata": {},
   "outputs": [],
   "source": []
  }
 ],
 "metadata": {
  "kernelspec": {
   "display_name": "R",
   "language": "R",
   "name": "ir"
  },
  "language_info": {
   "codemirror_mode": "r",
   "file_extension": ".r",
   "mimetype": "text/x-r-source",
   "name": "R",
   "pygments_lexer": "r",
   "version": "4.3.1"
  }
 },
 "nbformat": 4,
 "nbformat_minor": 5
}
