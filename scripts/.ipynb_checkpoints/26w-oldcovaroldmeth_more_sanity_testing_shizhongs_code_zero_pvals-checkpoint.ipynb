{
 "cells": [
  {
   "cell_type": "markdown",
   "id": "bf56f1cb-692a-4f54-b026-99e8075d50e8",
   "metadata": {},
   "source": [
    "# Compare MWAS methods for sanity tests and troubleshooting"
   ]
  },
  {
   "cell_type": "markdown",
   "id": "dc17d619-945e-4221-8ba7-c4c36fa56efe",
   "metadata": {},
   "source": [
    "In version e, we unify the elastic.net functions and make sure 1se and 1min produce different results.\n",
    "\n",
    "In version f, we try old covariates with all new data for everything else\n",
    "\n",
    "In version g, we do another quick sanity test with \"all\" sample methylation data instead of AA.\n",
    "\n",
    "In version h, we try old covariates, new BSseq data, new everything else. Since we're using old BSseq data, we must change back to Chr 7 for the selected peak for which we have sample data. We got normal results!\n",
    "\n",
    "In version i, change back to Chr 1 and see if we still get normal results.... We did not!\n",
    "\n",
    "Ok, now let's try other chromosomes/regions with random sites (version l)\n",
    "\n",
    "version m: add manhattan plots and MAF filter\n",
    "\n",
    "version n: go back to region in Shizhong's `BSsample.rda` file\n",
    "\n",
    "Down the road (o), let's change covariates back to ours\n",
    "\n",
    "Also in o, we found that Shizhong's old results still don't quite match up with ours.\n",
    "\n",
    "So now in p, we will use original BSsample and see if they finally do... In p, we still get different results.\n",
    "\n",
    "Now in q, we use old covar in addition to old BSsample.\n",
    "\n",
    "In r, we also use old SNPs. Ding ding ding, now we get approximately same results (although slightly different I guess due to stochasticity)\n",
    "\n",
    "In s, we use new SNPs for reference population in stage 2, but old SNPs for LIBD in stage 1. We get different result again.\n",
    "\n",
    "In t, we switch back to old reference population SNPs for stage 2\n",
    "\n",
    "In u, we closely inspect Shizhong's snp.1kg.eur2 and compare it to ours. We discovered alleles are flipped differently for 10 SNPs and not the other 56.\n",
    "\n",
    "In v, we do another sanity check where we use our re-created snp.1kg.eur2 made from PLINK files, but use the exact same 56 SNPs as in Shizhong's version. Of note, 10 of these don't match, only the other 46."
   ]
  },
  {
   "cell_type": "code",
   "execution_count": 1,
   "id": "27763970-c612-403d-a55c-8149145a7e29",
   "metadata": {},
   "outputs": [
    {
     "data": {
      "text/plain": [
       "[1] \"2024-08-06 13:42:15 PDT\""
      ]
     },
     "metadata": {},
     "output_type": "display_data"
    }
   ],
   "source": [
    "Sys.time()"
   ]
  },
  {
   "cell_type": "code",
   "execution_count": 2,
   "id": "ba280997-149a-4123-bdec-00547ad791e6",
   "metadata": {},
   "outputs": [],
   "source": [
    "chr <- 7 # code set up for old bsseq chr 7, or anything with new bsseq\n",
    "maf <- 0.05\n",
    "\n",
    "min_site_to_test_pos <- 1980077\n",
    "max_site_to_test_pos <- 1989957"
   ]
  },
  {
   "cell_type": "code",
   "execution_count": 3,
   "id": "484d3ff2-9116-4477-8976-f1c828f354fa",
   "metadata": {},
   "outputs": [],
   "source": [
    "sites_to_test_pos <- \"range\"\n",
    "#n_samples <- 500"
   ]
  },
  {
   "cell_type": "code",
   "execution_count": 4,
   "id": "be49eb64-a0d8-4e1f-a85a-983fe490bd2c",
   "metadata": {},
   "outputs": [],
   "source": [
    "# # Chr 1 sites\n",
    "# sites_to_test_pos <- c(73274305, 73274312, 73292330, 73307769, 73308571, 73419188, 73419830, 73420076)"
   ]
  },
  {
   "cell_type": "code",
   "execution_count": 5,
   "id": "b6595216-f957-4571-a12e-7027b278774d",
   "metadata": {},
   "outputs": [],
   "source": [
    "filter_snps <- FALSE # speed things up by pre-filtering whole chromosomes to desired regions"
   ]
  },
  {
   "cell_type": "markdown",
   "id": "ca2a80fb-d548-4157-b585-cd5cf6a471d2",
   "metadata": {},
   "source": [
    "## Be ready with matched up SNP and covariate files"
   ]
  },
  {
   "cell_type": "code",
   "execution_count": 6,
   "id": "1d0d53e3-618f-4b04-b2b6-ae27a7e4ef5c",
   "metadata": {},
   "outputs": [
    {
     "name": "stderr",
     "output_type": "stream",
     "text": [
      "Loading required package: Matrix\n",
      "\n",
      "Loaded glmnet 4.1-8\n",
      "\n",
      "Loading required package: foreach\n",
      "\n",
      "Loading required package: iterators\n",
      "\n",
      "Loading required package: parallel\n",
      "\n"
     ]
    }
   ],
   "source": [
    "library(\"glmnet\")\n",
    "library(\"e1071\")\n",
    "library(\"doParallel\")\n",
    "library(\"data.table\")"
   ]
  },
  {
   "cell_type": "code",
   "execution_count": 216,
   "id": "c6034757-2d3c-43d3-aa16-70baa5169549",
   "metadata": {},
   "outputs": [],
   "source": [
    "#df <- fread(\"09-OUT_matched_SNP_meth_cov_a2.csv\")\n",
    "df <- fread(\"12-OUT_matched_SNP_meth_cov_outputs.csv\")"
   ]
  },
  {
   "cell_type": "code",
   "execution_count": 217,
   "id": "9821a860-2a97-4a7b-bfca-6e8abd96bf8a",
   "metadata": {},
   "outputs": [],
   "source": [
    "df <- df[which(df$Chr == chr), ]"
   ]
  },
  {
   "cell_type": "code",
   "execution_count": 218,
   "id": "14058f81-86c3-4689-bb71-e23c9b7cdc74",
   "metadata": {
    "collapsed": true,
    "jupyter": {
     "outputs_hidden": true
    }
   },
   "outputs": [
    {
     "data": {
      "text/html": [
       "<table class=\"dataframe\">\n",
       "<caption>A data.table: 677 × 14</caption>\n",
       "<thead>\n",
       "\t<tr><th scope=col>Chr</th><th scope=col>population</th><th scope=col>region</th><th scope=col>chunk_start</th><th scope=col>chunk_end</th><th scope=col>SNP_data</th><th scope=col>methylation_data</th><th scope=col>last_meth_value_with_SNP_coverage</th><th scope=col>first_meth_value_with_SNP_coverage</th><th scope=col>last_meth_index_with_SNP_coverage</th><th scope=col>first_meth_index_with_SNP_coverage</th><th scope=col>cov_file</th><th scope=col>modified_methylation_data</th><th scope=col>path</th></tr>\n",
       "\t<tr><th scope=col>&lt;int&gt;</th><th scope=col>&lt;chr&gt;</th><th scope=col>&lt;chr&gt;</th><th scope=col>&lt;int&gt;</th><th scope=col>&lt;dbl&gt;</th><th scope=col>&lt;chr&gt;</th><th scope=col>&lt;chr&gt;</th><th scope=col>&lt;int&gt;</th><th scope=col>&lt;int&gt;</th><th scope=col>&lt;int&gt;</th><th scope=col>&lt;int&gt;</th><th scope=col>&lt;chr&gt;</th><th scope=col>&lt;chr&gt;</th><th scope=col>&lt;chr&gt;</th></tr>\n",
       "</thead>\n",
       "<tbody>\n",
       "\t<tr><td>7</td><td>AA</td><td>caud</td><td>     1</td><td> 20000</td><td>/dcs04/lieber/statsgen/shizhong/michael/mwas/gwas//libd_chr7.pgen</td><td>/dcs04/lieber/statsgen/shizhong/michael/mwas/pheno/caud/out/chr7_AA.rda</td><td>159334659</td><td>49742</td><td>1490198</td><td>1</td><td>/dcs04/lieber/statsgen/mnagle/mwas/full_covariates/AA_caud.csv</td><td>/dcs04/lieber/statsgen/mnagle/mwas/pheno/caud/out/chr7_AA_1-20000.rds      </td><td>..//output_EXPANSE_a2_caud/libd_chr7-chr7_AA-libd_chr7-chr7_AA-1-20000-dynamic-1corestotal-allcorepera-20240422-091021.rds      </td></tr>\n",
       "\t<tr><td>7</td><td>AA</td><td>caud</td><td> 20001</td><td> 40000</td><td>/dcs04/lieber/statsgen/shizhong/michael/mwas/gwas//libd_chr7.pgen</td><td>/dcs04/lieber/statsgen/shizhong/michael/mwas/pheno/caud/out/chr7_AA.rda</td><td>159334659</td><td>49742</td><td>1490198</td><td>1</td><td>/dcs04/lieber/statsgen/mnagle/mwas/full_covariates/AA_caud.csv</td><td>/dcs04/lieber/statsgen/mnagle/mwas/pheno/caud/out/chr7_AA_20001-40000.rds  </td><td>..//output_EXPANSE_a2_caud/libd_chr7-chr7_AA-libd_chr7-chr7_AA-20001-40000-dynamic-1corestotal-allcorepera-20240422-091322.rds  </td></tr>\n",
       "\t<tr><td>7</td><td>AA</td><td>caud</td><td> 40001</td><td> 60000</td><td>/dcs04/lieber/statsgen/shizhong/michael/mwas/gwas//libd_chr7.pgen</td><td>/dcs04/lieber/statsgen/shizhong/michael/mwas/pheno/caud/out/chr7_AA.rda</td><td>159334659</td><td>49742</td><td>1490198</td><td>1</td><td>/dcs04/lieber/statsgen/mnagle/mwas/full_covariates/AA_caud.csv</td><td>/dcs04/lieber/statsgen/mnagle/mwas/pheno/caud/out/chr7_AA_40001-60000.rds  </td><td>..//output_EXPANSE_a2_caud/libd_chr7-chr7_AA-libd_chr7-chr7_AA-40001-60000-dynamic-1corestotal-allcorepera-20240422-091624.rds  </td></tr>\n",
       "\t<tr><td>7</td><td>AA</td><td>caud</td><td> 60001</td><td> 80000</td><td>/dcs04/lieber/statsgen/shizhong/michael/mwas/gwas//libd_chr7.pgen</td><td>/dcs04/lieber/statsgen/shizhong/michael/mwas/pheno/caud/out/chr7_AA.rda</td><td>159334659</td><td>49742</td><td>1490198</td><td>1</td><td>/dcs04/lieber/statsgen/mnagle/mwas/full_covariates/AA_caud.csv</td><td>/dcs04/lieber/statsgen/mnagle/mwas/pheno/caud/out/chr7_AA_60001-80000.rds  </td><td>..//output_EXPANSE_a2_caud/libd_chr7-chr7_AA-libd_chr7-chr7_AA-60001-80000-dynamic-1corestotal-allcorepera-20240422-091925.rds  </td></tr>\n",
       "\t<tr><td>7</td><td>AA</td><td>caud</td><td> 80001</td><td>100000</td><td>/dcs04/lieber/statsgen/shizhong/michael/mwas/gwas//libd_chr7.pgen</td><td>/dcs04/lieber/statsgen/shizhong/michael/mwas/pheno/caud/out/chr7_AA.rda</td><td>159334659</td><td>49742</td><td>1490198</td><td>1</td><td>/dcs04/lieber/statsgen/mnagle/mwas/full_covariates/AA_caud.csv</td><td>/dcs04/lieber/statsgen/mnagle/mwas/pheno/caud/out/chr7_AA_80001-1e+05.rds  </td><td>..//output_EXPANSE_a2_caud/libd_chr7-chr7_AA-libd_chr7-chr7_AA-80001-100000-dynamic-1corestotal-allcorepera-20240422-092226.rds </td></tr>\n",
       "\t<tr><td>7</td><td>AA</td><td>caud</td><td>100001</td><td>120000</td><td>/dcs04/lieber/statsgen/shizhong/michael/mwas/gwas//libd_chr7.pgen</td><td>/dcs04/lieber/statsgen/shizhong/michael/mwas/pheno/caud/out/chr7_AA.rda</td><td>159334659</td><td>49742</td><td>1490198</td><td>1</td><td>/dcs04/lieber/statsgen/mnagle/mwas/full_covariates/AA_caud.csv</td><td>/dcs04/lieber/statsgen/mnagle/mwas/pheno/caud/out/chr7_AA_100001-120000.rds</td><td>..//output_EXPANSE_a2_caud/libd_chr7-chr7_AA-libd_chr7-chr7_AA-100001-120000-dynamic-1corestotal-allcorepera-20240508-071345.rds</td></tr>\n",
       "\t<tr><td>7</td><td>AA</td><td>caud</td><td>120001</td><td>140000</td><td>/dcs04/lieber/statsgen/shizhong/michael/mwas/gwas//libd_chr7.pgen</td><td>/dcs04/lieber/statsgen/shizhong/michael/mwas/pheno/caud/out/chr7_AA.rda</td><td>159334659</td><td>49742</td><td>1490198</td><td>1</td><td>/dcs04/lieber/statsgen/mnagle/mwas/full_covariates/AA_caud.csv</td><td>/dcs04/lieber/statsgen/mnagle/mwas/pheno/caud/out/chr7_AA_120001-140000.rds</td><td>..//output_EXPANSE_a2_caud/libd_chr7-chr7_AA-libd_chr7-chr7_AA-120001-140000-dynamic-1corestotal-allcorepera-20240422-092828.rds</td></tr>\n",
       "\t<tr><td>7</td><td>AA</td><td>caud</td><td>140001</td><td>160000</td><td>/dcs04/lieber/statsgen/shizhong/michael/mwas/gwas//libd_chr7.pgen</td><td>/dcs04/lieber/statsgen/shizhong/michael/mwas/pheno/caud/out/chr7_AA.rda</td><td>159334659</td><td>49742</td><td>1490198</td><td>1</td><td>/dcs04/lieber/statsgen/mnagle/mwas/full_covariates/AA_caud.csv</td><td>/dcs04/lieber/statsgen/mnagle/mwas/pheno/caud/out/chr7_AA_140001-160000.rds</td><td>..//output_EXPANSE_a2_caud/libd_chr7-chr7_AA-libd_chr7-chr7_AA-140001-160000-dynamic-1corestotal-allcorepera-20240422-093129.rds</td></tr>\n",
       "\t<tr><td>7</td><td>AA</td><td>caud</td><td>160001</td><td>180000</td><td>/dcs04/lieber/statsgen/shizhong/michael/mwas/gwas//libd_chr7.pgen</td><td>/dcs04/lieber/statsgen/shizhong/michael/mwas/pheno/caud/out/chr7_AA.rda</td><td>159334659</td><td>49742</td><td>1490198</td><td>1</td><td>/dcs04/lieber/statsgen/mnagle/mwas/full_covariates/AA_caud.csv</td><td>/dcs04/lieber/statsgen/mnagle/mwas/pheno/caud/out/chr7_AA_160001-180000.rds</td><td>..//output_EXPANSE_a2_caud/libd_chr7-chr7_AA-libd_chr7-chr7_AA-160001-180000-dynamic-1corestotal-allcorepera-20240422-093430.rds</td></tr>\n",
       "\t<tr><td>7</td><td>AA</td><td>caud</td><td>180001</td><td>200000</td><td>/dcs04/lieber/statsgen/shizhong/michael/mwas/gwas//libd_chr7.pgen</td><td>/dcs04/lieber/statsgen/shizhong/michael/mwas/pheno/caud/out/chr7_AA.rda</td><td>159334659</td><td>49742</td><td>1490198</td><td>1</td><td>/dcs04/lieber/statsgen/mnagle/mwas/full_covariates/AA_caud.csv</td><td>/dcs04/lieber/statsgen/mnagle/mwas/pheno/caud/out/chr7_AA_180001-2e+05.rds </td><td>..//output_EXPANSE_a2_caud/libd_chr7-chr7_AA-libd_chr7-chr7_AA-180001-200000-dynamic-1corestotal-allcorepera-20240422-093731.rds</td></tr>\n",
       "\t<tr><td>7</td><td>AA</td><td>caud</td><td>200001</td><td>220000</td><td>/dcs04/lieber/statsgen/shizhong/michael/mwas/gwas//libd_chr7.pgen</td><td>/dcs04/lieber/statsgen/shizhong/michael/mwas/pheno/caud/out/chr7_AA.rda</td><td>159334659</td><td>49742</td><td>1490198</td><td>1</td><td>/dcs04/lieber/statsgen/mnagle/mwas/full_covariates/AA_caud.csv</td><td>/dcs04/lieber/statsgen/mnagle/mwas/pheno/caud/out/chr7_AA_200001-220000.rds</td><td>..//output_EXPANSE_a2_caud/libd_chr7-chr7_AA-libd_chr7-chr7_AA-200001-220000-dynamic-1corestotal-allcorepera-20240422-094032.rds</td></tr>\n",
       "\t<tr><td>7</td><td>AA</td><td>caud</td><td>220001</td><td>240000</td><td>/dcs04/lieber/statsgen/shizhong/michael/mwas/gwas//libd_chr7.pgen</td><td>/dcs04/lieber/statsgen/shizhong/michael/mwas/pheno/caud/out/chr7_AA.rda</td><td>159334659</td><td>49742</td><td>1490198</td><td>1</td><td>/dcs04/lieber/statsgen/mnagle/mwas/full_covariates/AA_caud.csv</td><td>/dcs04/lieber/statsgen/mnagle/mwas/pheno/caud/out/chr7_AA_220001-240000.rds</td><td>..//output_EXPANSE_a2_caud/libd_chr7-chr7_AA-libd_chr7-chr7_AA-220001-240000-dynamic-1corestotal-allcorepera-20240422-094334.rds</td></tr>\n",
       "\t<tr><td>7</td><td>AA</td><td>caud</td><td>240001</td><td>260000</td><td>/dcs04/lieber/statsgen/shizhong/michael/mwas/gwas//libd_chr7.pgen</td><td>/dcs04/lieber/statsgen/shizhong/michael/mwas/pheno/caud/out/chr7_AA.rda</td><td>159334659</td><td>49742</td><td>1490198</td><td>1</td><td>/dcs04/lieber/statsgen/mnagle/mwas/full_covariates/AA_caud.csv</td><td>/dcs04/lieber/statsgen/mnagle/mwas/pheno/caud/out/chr7_AA_240001-260000.rds</td><td>..//output_EXPANSE_a2_caud/libd_chr7-chr7_AA-libd_chr7-chr7_AA-240001-260000-dynamic-1corestotal-allcorepera-20240422-094635.rds</td></tr>\n",
       "\t<tr><td>7</td><td>AA</td><td>caud</td><td>260001</td><td>280000</td><td>/dcs04/lieber/statsgen/shizhong/michael/mwas/gwas//libd_chr7.pgen</td><td>/dcs04/lieber/statsgen/shizhong/michael/mwas/pheno/caud/out/chr7_AA.rda</td><td>159334659</td><td>49742</td><td>1490198</td><td>1</td><td>/dcs04/lieber/statsgen/mnagle/mwas/full_covariates/AA_caud.csv</td><td>/dcs04/lieber/statsgen/mnagle/mwas/pheno/caud/out/chr7_AA_260001-280000.rds</td><td>..//output_EXPANSE_a2_caud/libd_chr7-chr7_AA-libd_chr7-chr7_AA-260001-280000-dynamic-1corestotal-allcorepera-20240422-094936.rds</td></tr>\n",
       "\t<tr><td>7</td><td>AA</td><td>caud</td><td>280001</td><td>300000</td><td>/dcs04/lieber/statsgen/shizhong/michael/mwas/gwas//libd_chr7.pgen</td><td>/dcs04/lieber/statsgen/shizhong/michael/mwas/pheno/caud/out/chr7_AA.rda</td><td>159334659</td><td>49742</td><td>1490198</td><td>1</td><td>/dcs04/lieber/statsgen/mnagle/mwas/full_covariates/AA_caud.csv</td><td>/dcs04/lieber/statsgen/mnagle/mwas/pheno/caud/out/chr7_AA_280001-3e+05.rds </td><td>..//output_EXPANSE_a2_caud/libd_chr7-chr7_AA-libd_chr7-chr7_AA-280001-300000-dynamic-1corestotal-allcorepera-20240422-095237.rds</td></tr>\n",
       "\t<tr><td>7</td><td>AA</td><td>caud</td><td>300001</td><td>320000</td><td>/dcs04/lieber/statsgen/shizhong/michael/mwas/gwas//libd_chr7.pgen</td><td>/dcs04/lieber/statsgen/shizhong/michael/mwas/pheno/caud/out/chr7_AA.rda</td><td>159334659</td><td>49742</td><td>1490198</td><td>1</td><td>/dcs04/lieber/statsgen/mnagle/mwas/full_covariates/AA_caud.csv</td><td>/dcs04/lieber/statsgen/mnagle/mwas/pheno/caud/out/chr7_AA_300001-320000.rds</td><td>..//output_EXPANSE_a2_caud/libd_chr7-chr7_AA-libd_chr7-chr7_AA-300001-320000-dynamic-1corestotal-allcorepera-20240422-095538.rds</td></tr>\n",
       "\t<tr><td>7</td><td>AA</td><td>caud</td><td>320001</td><td>340000</td><td>/dcs04/lieber/statsgen/shizhong/michael/mwas/gwas//libd_chr7.pgen</td><td>/dcs04/lieber/statsgen/shizhong/michael/mwas/pheno/caud/out/chr7_AA.rda</td><td>159334659</td><td>49742</td><td>1490198</td><td>1</td><td>/dcs04/lieber/statsgen/mnagle/mwas/full_covariates/AA_caud.csv</td><td>/dcs04/lieber/statsgen/mnagle/mwas/pheno/caud/out/chr7_AA_320001-340000.rds</td><td>..//output_EXPANSE_a2_caud/libd_chr7-chr7_AA-libd_chr7-chr7_AA-320001-340000-dynamic-1corestotal-allcorepera-20240422-095839.rds</td></tr>\n",
       "\t<tr><td>7</td><td>AA</td><td>caud</td><td>340001</td><td>360000</td><td>/dcs04/lieber/statsgen/shizhong/michael/mwas/gwas//libd_chr7.pgen</td><td>/dcs04/lieber/statsgen/shizhong/michael/mwas/pheno/caud/out/chr7_AA.rda</td><td>159334659</td><td>49742</td><td>1490198</td><td>1</td><td>/dcs04/lieber/statsgen/mnagle/mwas/full_covariates/AA_caud.csv</td><td>/dcs04/lieber/statsgen/mnagle/mwas/pheno/caud/out/chr7_AA_340001-360000.rds</td><td>..//output_EXPANSE_a2_caud/libd_chr7-chr7_AA-libd_chr7-chr7_AA-340001-360000-dynamic-1corestotal-allcorepera-20240422-100142.rds</td></tr>\n",
       "\t<tr><td>7</td><td>AA</td><td>caud</td><td>360001</td><td>380000</td><td>/dcs04/lieber/statsgen/shizhong/michael/mwas/gwas//libd_chr7.pgen</td><td>/dcs04/lieber/statsgen/shizhong/michael/mwas/pheno/caud/out/chr7_AA.rda</td><td>159334659</td><td>49742</td><td>1490198</td><td>1</td><td>/dcs04/lieber/statsgen/mnagle/mwas/full_covariates/AA_caud.csv</td><td>/dcs04/lieber/statsgen/mnagle/mwas/pheno/caud/out/chr7_AA_360001-380000.rds</td><td>..//output_EXPANSE_a2_caud/libd_chr7-chr7_AA-libd_chr7-chr7_AA-360001-380000-dynamic-1corestotal-allcorepera-20240422-100443.rds</td></tr>\n",
       "\t<tr><td>7</td><td>AA</td><td>caud</td><td>380001</td><td>400000</td><td>/dcs04/lieber/statsgen/shizhong/michael/mwas/gwas//libd_chr7.pgen</td><td>/dcs04/lieber/statsgen/shizhong/michael/mwas/pheno/caud/out/chr7_AA.rda</td><td>159334659</td><td>49742</td><td>1490198</td><td>1</td><td>/dcs04/lieber/statsgen/mnagle/mwas/full_covariates/AA_caud.csv</td><td>/dcs04/lieber/statsgen/mnagle/mwas/pheno/caud/out/chr7_AA_380001-4e+05.rds </td><td>..//output_EXPANSE_a2_caud/libd_chr7-chr7_AA-libd_chr7-chr7_AA-380001-400000-dynamic-1corestotal-allcorepera-20240422-100837.rds</td></tr>\n",
       "\t<tr><td>7</td><td>AA</td><td>caud</td><td>400001</td><td>420000</td><td>/dcs04/lieber/statsgen/shizhong/michael/mwas/gwas//libd_chr7.pgen</td><td>/dcs04/lieber/statsgen/shizhong/michael/mwas/pheno/caud/out/chr7_AA.rda</td><td>159334659</td><td>49742</td><td>1490198</td><td>1</td><td>/dcs04/lieber/statsgen/mnagle/mwas/full_covariates/AA_caud.csv</td><td>/dcs04/lieber/statsgen/mnagle/mwas/pheno/caud/out/chr7_AA_400001-420000.rds</td><td>..//output_EXPANSE_a2_caud/libd_chr7-chr7_AA-libd_chr7-chr7_AA-400001-420000-dynamic-1corestotal-allcorepera-20240422-101138.rds</td></tr>\n",
       "\t<tr><td>7</td><td>AA</td><td>caud</td><td>420001</td><td>440000</td><td>/dcs04/lieber/statsgen/shizhong/michael/mwas/gwas//libd_chr7.pgen</td><td>/dcs04/lieber/statsgen/shizhong/michael/mwas/pheno/caud/out/chr7_AA.rda</td><td>159334659</td><td>49742</td><td>1490198</td><td>1</td><td>/dcs04/lieber/statsgen/mnagle/mwas/full_covariates/AA_caud.csv</td><td>/dcs04/lieber/statsgen/mnagle/mwas/pheno/caud/out/chr7_AA_420001-440000.rds</td><td>..//output_EXPANSE_a2_caud/libd_chr7-chr7_AA-libd_chr7-chr7_AA-420001-440000-dynamic-1corestotal-allcorepera-20240422-101439.rds</td></tr>\n",
       "\t<tr><td>7</td><td>AA</td><td>caud</td><td>440001</td><td>460000</td><td>/dcs04/lieber/statsgen/shizhong/michael/mwas/gwas//libd_chr7.pgen</td><td>/dcs04/lieber/statsgen/shizhong/michael/mwas/pheno/caud/out/chr7_AA.rda</td><td>159334659</td><td>49742</td><td>1490198</td><td>1</td><td>/dcs04/lieber/statsgen/mnagle/mwas/full_covariates/AA_caud.csv</td><td>/dcs04/lieber/statsgen/mnagle/mwas/pheno/caud/out/chr7_AA_440001-460000.rds</td><td>..//output_EXPANSE_a2_caud/libd_chr7-chr7_AA-libd_chr7-chr7_AA-440001-460000-dynamic-1corestotal-allcorepera-20240422-101740.rds</td></tr>\n",
       "\t<tr><td>7</td><td>AA</td><td>caud</td><td>460001</td><td>480000</td><td>/dcs04/lieber/statsgen/shizhong/michael/mwas/gwas//libd_chr7.pgen</td><td>/dcs04/lieber/statsgen/shizhong/michael/mwas/pheno/caud/out/chr7_AA.rda</td><td>159334659</td><td>49742</td><td>1490198</td><td>1</td><td>/dcs04/lieber/statsgen/mnagle/mwas/full_covariates/AA_caud.csv</td><td>/dcs04/lieber/statsgen/mnagle/mwas/pheno/caud/out/chr7_AA_460001-480000.rds</td><td>..//output_EXPANSE_a2_caud/libd_chr7-chr7_AA-libd_chr7-chr7_AA-460001-480000-dynamic-1corestotal-allcorepera-20240422-102041.rds</td></tr>\n",
       "\t<tr><td>7</td><td>AA</td><td>caud</td><td>480001</td><td>500000</td><td>/dcs04/lieber/statsgen/shizhong/michael/mwas/gwas//libd_chr7.pgen</td><td>/dcs04/lieber/statsgen/shizhong/michael/mwas/pheno/caud/out/chr7_AA.rda</td><td>159334659</td><td>49742</td><td>1490198</td><td>1</td><td>/dcs04/lieber/statsgen/mnagle/mwas/full_covariates/AA_caud.csv</td><td>/dcs04/lieber/statsgen/mnagle/mwas/pheno/caud/out/chr7_AA_480001-5e+05.rds </td><td>..//output_EXPANSE_a2_caud/libd_chr7-chr7_AA-libd_chr7-chr7_AA-480001-500000-dynamic-1corestotal-allcorepera-20240422-102342.rds</td></tr>\n",
       "\t<tr><td>7</td><td>AA</td><td>caud</td><td>500001</td><td>520000</td><td>/dcs04/lieber/statsgen/shizhong/michael/mwas/gwas//libd_chr7.pgen</td><td>/dcs04/lieber/statsgen/shizhong/michael/mwas/pheno/caud/out/chr7_AA.rda</td><td>159334659</td><td>49742</td><td>1490198</td><td>1</td><td>/dcs04/lieber/statsgen/mnagle/mwas/full_covariates/AA_caud.csv</td><td>/dcs04/lieber/statsgen/mnagle/mwas/pheno/caud/out/chr7_AA_500001-520000.rds</td><td>..//output_EXPANSE_a2_caud/libd_chr7-chr7_AA-libd_chr7-chr7_AA-500001-520000-dynamic-1corestotal-allcorepera-20240422-102643.rds</td></tr>\n",
       "\t<tr><td>7</td><td>AA</td><td>caud</td><td>520001</td><td>540000</td><td>/dcs04/lieber/statsgen/shizhong/michael/mwas/gwas//libd_chr7.pgen</td><td>/dcs04/lieber/statsgen/shizhong/michael/mwas/pheno/caud/out/chr7_AA.rda</td><td>159334659</td><td>49742</td><td>1490198</td><td>1</td><td>/dcs04/lieber/statsgen/mnagle/mwas/full_covariates/AA_caud.csv</td><td>/dcs04/lieber/statsgen/mnagle/mwas/pheno/caud/out/chr7_AA_520001-540000.rds</td><td>..//output_EXPANSE_a2_caud/libd_chr7-chr7_AA-libd_chr7-chr7_AA-520001-540000-dynamic-1corestotal-allcorepera-20240422-102945.rds</td></tr>\n",
       "\t<tr><td>7</td><td>AA</td><td>caud</td><td>540001</td><td>560000</td><td>/dcs04/lieber/statsgen/shizhong/michael/mwas/gwas//libd_chr7.pgen</td><td>/dcs04/lieber/statsgen/shizhong/michael/mwas/pheno/caud/out/chr7_AA.rda</td><td>159334659</td><td>49742</td><td>1490198</td><td>1</td><td>/dcs04/lieber/statsgen/mnagle/mwas/full_covariates/AA_caud.csv</td><td>/dcs04/lieber/statsgen/mnagle/mwas/pheno/caud/out/chr7_AA_540001-560000.rds</td><td>..//output_EXPANSE_a2_caud/libd_chr7-chr7_AA-libd_chr7-chr7_AA-540001-560000-dynamic-1corestotal-allcorepera-20240422-103246.rds</td></tr>\n",
       "\t<tr><td>7</td><td>AA</td><td>caud</td><td>560001</td><td>580000</td><td>/dcs04/lieber/statsgen/shizhong/michael/mwas/gwas//libd_chr7.pgen</td><td>/dcs04/lieber/statsgen/shizhong/michael/mwas/pheno/caud/out/chr7_AA.rda</td><td>159334659</td><td>49742</td><td>1490198</td><td>1</td><td>/dcs04/lieber/statsgen/mnagle/mwas/full_covariates/AA_caud.csv</td><td>/dcs04/lieber/statsgen/mnagle/mwas/pheno/caud/out/chr7_AA_560001-580000.rds</td><td>..//output_EXPANSE_a2_caud/libd_chr7-chr7_AA-libd_chr7-chr7_AA-560001-580000-dynamic-1corestotal-allcorepera-20240422-103547.rds</td></tr>\n",
       "\t<tr><td>7</td><td>AA</td><td>caud</td><td>580001</td><td>600000</td><td>/dcs04/lieber/statsgen/shizhong/michael/mwas/gwas//libd_chr7.pgen</td><td>/dcs04/lieber/statsgen/shizhong/michael/mwas/pheno/caud/out/chr7_AA.rda</td><td>159334659</td><td>49742</td><td>1490198</td><td>1</td><td>/dcs04/lieber/statsgen/mnagle/mwas/full_covariates/AA_caud.csv</td><td>/dcs04/lieber/statsgen/mnagle/mwas/pheno/caud/out/chr7_AA_580001-6e+05.rds </td><td>..//output_EXPANSE_a2_caud/libd_chr7-chr7_AA-libd_chr7-chr7_AA-580001-600000-dynamic-1corestotal-allcorepera-20240422-103849.rds</td></tr>\n",
       "\t<tr><td>⋮</td><td>⋮</td><td>⋮</td><td>⋮</td><td>⋮</td><td>⋮</td><td>⋮</td><td>⋮</td><td>⋮</td><td>⋮</td><td>⋮</td><td>⋮</td><td>⋮</td><td>⋮</td></tr>\n",
       "\t<tr><td>7</td><td>all</td><td>hippo</td><td> 900001</td><td> 920000</td><td>/dcs04/lieber/statsgen/shizhong/michael/mwas/gwas//libd_chr7.pgen</td><td>/dcs04/lieber/statsgen/shizhong/michael/mwas/pheno/hippo/out/chr7_all.rda</td><td>159334659</td><td>49742</td><td>1490198</td><td>1</td><td>/dcs04/lieber/statsgen/mnagle/mwas/full_covariates/all_hippo.csv</td><td>/dcs04/lieber/statsgen/mnagle/mwas/pheno/hippo/out/chr7_all_900001-920000.rds  </td><td>..//output_EXPANSE_a2_hippo/libd_chr7-chr7_all-libd_chr7-chr7_all-900001-920000-dynamic-1corestotal-allcorepera-20240425-154300.rds  </td></tr>\n",
       "\t<tr><td>7</td><td>all</td><td>hippo</td><td> 920001</td><td> 940000</td><td>/dcs04/lieber/statsgen/shizhong/michael/mwas/gwas//libd_chr7.pgen</td><td>/dcs04/lieber/statsgen/shizhong/michael/mwas/pheno/hippo/out/chr7_all.rda</td><td>159334659</td><td>49742</td><td>1490198</td><td>1</td><td>/dcs04/lieber/statsgen/mnagle/mwas/full_covariates/all_hippo.csv</td><td>/dcs04/lieber/statsgen/mnagle/mwas/pheno/hippo/out/chr7_all_920001-940000.rds  </td><td>..//output_EXPANSE_a2_hippo/libd_chr7-chr7_all-libd_chr7-chr7_all-920001-940000-dynamic-1corestotal-allcorepera-20240425-154601.rds  </td></tr>\n",
       "\t<tr><td>7</td><td>all</td><td>hippo</td><td> 940001</td><td> 960000</td><td>/dcs04/lieber/statsgen/shizhong/michael/mwas/gwas//libd_chr7.pgen</td><td>/dcs04/lieber/statsgen/shizhong/michael/mwas/pheno/hippo/out/chr7_all.rda</td><td>159334659</td><td>49742</td><td>1490198</td><td>1</td><td>/dcs04/lieber/statsgen/mnagle/mwas/full_covariates/all_hippo.csv</td><td>/dcs04/lieber/statsgen/mnagle/mwas/pheno/hippo/out/chr7_all_940001-960000.rds  </td><td>..//output_EXPANSE_a2_hippo/libd_chr7-chr7_all-libd_chr7-chr7_all-940001-960000-dynamic-1corestotal-allcorepera-20240425-154904.rds  </td></tr>\n",
       "\t<tr><td>7</td><td>all</td><td>hippo</td><td> 960001</td><td> 980000</td><td>/dcs04/lieber/statsgen/shizhong/michael/mwas/gwas//libd_chr7.pgen</td><td>/dcs04/lieber/statsgen/shizhong/michael/mwas/pheno/hippo/out/chr7_all.rda</td><td>159334659</td><td>49742</td><td>1490198</td><td>1</td><td>/dcs04/lieber/statsgen/mnagle/mwas/full_covariates/all_hippo.csv</td><td>/dcs04/lieber/statsgen/mnagle/mwas/pheno/hippo/out/chr7_all_960001-980000.rds  </td><td>..//output_EXPANSE_a2_hippo/libd_chr7-chr7_all-libd_chr7-chr7_all-960001-980000-dynamic-1corestotal-allcorepera-20240425-155205.rds  </td></tr>\n",
       "\t<tr><td>7</td><td>all</td><td>hippo</td><td> 980001</td><td>1000000</td><td>/dcs04/lieber/statsgen/shizhong/michael/mwas/gwas//libd_chr7.pgen</td><td>/dcs04/lieber/statsgen/shizhong/michael/mwas/pheno/hippo/out/chr7_all.rda</td><td>159334659</td><td>49742</td><td>1490198</td><td>1</td><td>/dcs04/lieber/statsgen/mnagle/mwas/full_covariates/all_hippo.csv</td><td>/dcs04/lieber/statsgen/mnagle/mwas/pheno/hippo/out/chr7_all_980001-1e+06.rds   </td><td>..//output_EXPANSE_a2_hippo/libd_chr7-chr7_all-libd_chr7-chr7_all-980001-1000000-dynamic-1corestotal-allcorepera-20240425-155507.rds </td></tr>\n",
       "\t<tr><td>7</td><td>all</td><td>hippo</td><td>1000001</td><td>1020000</td><td>/dcs04/lieber/statsgen/shizhong/michael/mwas/gwas//libd_chr7.pgen</td><td>/dcs04/lieber/statsgen/shizhong/michael/mwas/pheno/hippo/out/chr7_all.rda</td><td>159334659</td><td>49742</td><td>1490198</td><td>1</td><td>/dcs04/lieber/statsgen/mnagle/mwas/full_covariates/all_hippo.csv</td><td>/dcs04/lieber/statsgen/mnagle/mwas/pheno/hippo/out/chr7_all_1000001-1020000.rds</td><td>..//output_EXPANSE_a2_hippo/libd_chr7-chr7_all-libd_chr7-chr7_all-1000001-1020000-dynamic-1corestotal-allcorepera-20240425-155808.rds</td></tr>\n",
       "\t<tr><td>7</td><td>all</td><td>hippo</td><td>1020001</td><td>1040000</td><td>/dcs04/lieber/statsgen/shizhong/michael/mwas/gwas//libd_chr7.pgen</td><td>/dcs04/lieber/statsgen/shizhong/michael/mwas/pheno/hippo/out/chr7_all.rda</td><td>159334659</td><td>49742</td><td>1490198</td><td>1</td><td>/dcs04/lieber/statsgen/mnagle/mwas/full_covariates/all_hippo.csv</td><td>/dcs04/lieber/statsgen/mnagle/mwas/pheno/hippo/out/chr7_all_1020001-1040000.rds</td><td>..//output_EXPANSE_a2_hippo/libd_chr7-chr7_all-libd_chr7-chr7_all-1020001-1040000-dynamic-1corestotal-allcorepera-20240425-160109.rds</td></tr>\n",
       "\t<tr><td>7</td><td>all</td><td>hippo</td><td>1040001</td><td>1060000</td><td>/dcs04/lieber/statsgen/shizhong/michael/mwas/gwas//libd_chr7.pgen</td><td>/dcs04/lieber/statsgen/shizhong/michael/mwas/pheno/hippo/out/chr7_all.rda</td><td>159334659</td><td>49742</td><td>1490198</td><td>1</td><td>/dcs04/lieber/statsgen/mnagle/mwas/full_covariates/all_hippo.csv</td><td>/dcs04/lieber/statsgen/mnagle/mwas/pheno/hippo/out/chr7_all_1040001-1060000.rds</td><td>..//output_EXPANSE_a2_hippo/libd_chr7-chr7_all-libd_chr7-chr7_all-1040001-1060000-dynamic-1corestotal-allcorepera-20240425-160410.rds</td></tr>\n",
       "\t<tr><td>7</td><td>all</td><td>hippo</td><td>1060001</td><td>1080000</td><td>/dcs04/lieber/statsgen/shizhong/michael/mwas/gwas//libd_chr7.pgen</td><td>/dcs04/lieber/statsgen/shizhong/michael/mwas/pheno/hippo/out/chr7_all.rda</td><td>159334659</td><td>49742</td><td>1490198</td><td>1</td><td>/dcs04/lieber/statsgen/mnagle/mwas/full_covariates/all_hippo.csv</td><td>/dcs04/lieber/statsgen/mnagle/mwas/pheno/hippo/out/chr7_all_1060001-1080000.rds</td><td>..//output_EXPANSE_a2_hippo/libd_chr7-chr7_all-libd_chr7-chr7_all-1060001-1080000-dynamic-1corestotal-allcorepera-20240425-160711.rds</td></tr>\n",
       "\t<tr><td>7</td><td>all</td><td>hippo</td><td>1080001</td><td>1100000</td><td>/dcs04/lieber/statsgen/shizhong/michael/mwas/gwas//libd_chr7.pgen</td><td>/dcs04/lieber/statsgen/shizhong/michael/mwas/pheno/hippo/out/chr7_all.rda</td><td>159334659</td><td>49742</td><td>1490198</td><td>1</td><td>/dcs04/lieber/statsgen/mnagle/mwas/full_covariates/all_hippo.csv</td><td>/dcs04/lieber/statsgen/mnagle/mwas/pheno/hippo/out/chr7_all_1080001-1100000.rds</td><td>..//output_EXPANSE_a2_hippo/libd_chr7-chr7_all-libd_chr7-chr7_all-1080001-1100000-dynamic-1corestotal-allcorepera-20240425-161012.rds</td></tr>\n",
       "\t<tr><td>7</td><td>all</td><td>hippo</td><td>1100001</td><td>1120000</td><td>/dcs04/lieber/statsgen/shizhong/michael/mwas/gwas//libd_chr7.pgen</td><td>/dcs04/lieber/statsgen/shizhong/michael/mwas/pheno/hippo/out/chr7_all.rda</td><td>159334659</td><td>49742</td><td>1490198</td><td>1</td><td>/dcs04/lieber/statsgen/mnagle/mwas/full_covariates/all_hippo.csv</td><td>/dcs04/lieber/statsgen/mnagle/mwas/pheno/hippo/out/chr7_all_1100001-1120000.rds</td><td>..//output_EXPANSE_a2_hippo/libd_chr7-chr7_all-libd_chr7-chr7_all-1100001-1120000-dynamic-1corestotal-allcorepera-20240425-161313.rds</td></tr>\n",
       "\t<tr><td>7</td><td>all</td><td>hippo</td><td>1120001</td><td>1140000</td><td>/dcs04/lieber/statsgen/shizhong/michael/mwas/gwas//libd_chr7.pgen</td><td>/dcs04/lieber/statsgen/shizhong/michael/mwas/pheno/hippo/out/chr7_all.rda</td><td>159334659</td><td>49742</td><td>1490198</td><td>1</td><td>/dcs04/lieber/statsgen/mnagle/mwas/full_covariates/all_hippo.csv</td><td>/dcs04/lieber/statsgen/mnagle/mwas/pheno/hippo/out/chr7_all_1120001-1140000.rds</td><td>..//output_EXPANSE_a2_hippo/libd_chr7-chr7_all-libd_chr7-chr7_all-1120001-1140000-dynamic-1corestotal-allcorepera-20240425-161615.rds</td></tr>\n",
       "\t<tr><td>7</td><td>all</td><td>hippo</td><td>1140001</td><td>1160000</td><td>/dcs04/lieber/statsgen/shizhong/michael/mwas/gwas//libd_chr7.pgen</td><td>/dcs04/lieber/statsgen/shizhong/michael/mwas/pheno/hippo/out/chr7_all.rda</td><td>159334659</td><td>49742</td><td>1490198</td><td>1</td><td>/dcs04/lieber/statsgen/mnagle/mwas/full_covariates/all_hippo.csv</td><td>/dcs04/lieber/statsgen/mnagle/mwas/pheno/hippo/out/chr7_all_1140001-1160000.rds</td><td>..//output_EXPANSE_a2_hippo/libd_chr7-chr7_all-libd_chr7-chr7_all-1140001-1160000-dynamic-1corestotal-allcorepera-20240425-161916.rds</td></tr>\n",
       "\t<tr><td>7</td><td>all</td><td>hippo</td><td>1160001</td><td>1180000</td><td>/dcs04/lieber/statsgen/shizhong/michael/mwas/gwas//libd_chr7.pgen</td><td>/dcs04/lieber/statsgen/shizhong/michael/mwas/pheno/hippo/out/chr7_all.rda</td><td>159334659</td><td>49742</td><td>1490198</td><td>1</td><td>/dcs04/lieber/statsgen/mnagle/mwas/full_covariates/all_hippo.csv</td><td>/dcs04/lieber/statsgen/mnagle/mwas/pheno/hippo/out/chr7_all_1160001-1180000.rds</td><td>..//output_EXPANSE_a2_hippo/libd_chr7-chr7_all-libd_chr7-chr7_all-1160001-1180000-dynamic-1corestotal-allcorepera-20240425-162217.rds</td></tr>\n",
       "\t<tr><td>7</td><td>all</td><td>hippo</td><td>1180001</td><td>1200000</td><td>/dcs04/lieber/statsgen/shizhong/michael/mwas/gwas//libd_chr7.pgen</td><td>/dcs04/lieber/statsgen/shizhong/michael/mwas/pheno/hippo/out/chr7_all.rda</td><td>159334659</td><td>49742</td><td>1490198</td><td>1</td><td>/dcs04/lieber/statsgen/mnagle/mwas/full_covariates/all_hippo.csv</td><td>/dcs04/lieber/statsgen/mnagle/mwas/pheno/hippo/out/chr7_all_1180001-1200000.rds</td><td>..//output_EXPANSE_a2_hippo/libd_chr7-chr7_all-libd_chr7-chr7_all-1180001-1200000-dynamic-1corestotal-allcorepera-20240425-162518.rds</td></tr>\n",
       "\t<tr><td>7</td><td>all</td><td>hippo</td><td>1200001</td><td>1220000</td><td>/dcs04/lieber/statsgen/shizhong/michael/mwas/gwas//libd_chr7.pgen</td><td>/dcs04/lieber/statsgen/shizhong/michael/mwas/pheno/hippo/out/chr7_all.rda</td><td>159334659</td><td>49742</td><td>1490198</td><td>1</td><td>/dcs04/lieber/statsgen/mnagle/mwas/full_covariates/all_hippo.csv</td><td>/dcs04/lieber/statsgen/mnagle/mwas/pheno/hippo/out/chr7_all_1200001-1220000.rds</td><td>..//output_EXPANSE_a2_hippo/libd_chr7-chr7_all-libd_chr7-chr7_all-1200001-1220000-dynamic-1corestotal-allcorepera-20240425-162819.rds</td></tr>\n",
       "\t<tr><td>7</td><td>all</td><td>hippo</td><td>1220001</td><td>1240000</td><td>/dcs04/lieber/statsgen/shizhong/michael/mwas/gwas//libd_chr7.pgen</td><td>/dcs04/lieber/statsgen/shizhong/michael/mwas/pheno/hippo/out/chr7_all.rda</td><td>159334659</td><td>49742</td><td>1490198</td><td>1</td><td>/dcs04/lieber/statsgen/mnagle/mwas/full_covariates/all_hippo.csv</td><td>/dcs04/lieber/statsgen/mnagle/mwas/pheno/hippo/out/chr7_all_1220001-1240000.rds</td><td>..//output_EXPANSE_a2_hippo/libd_chr7-chr7_all-libd_chr7-chr7_all-1220001-1240000-dynamic-1corestotal-allcorepera-20240425-163120.rds</td></tr>\n",
       "\t<tr><td>7</td><td>all</td><td>hippo</td><td>1240001</td><td>1260000</td><td>/dcs04/lieber/statsgen/shizhong/michael/mwas/gwas//libd_chr7.pgen</td><td>/dcs04/lieber/statsgen/shizhong/michael/mwas/pheno/hippo/out/chr7_all.rda</td><td>159334659</td><td>49742</td><td>1490198</td><td>1</td><td>/dcs04/lieber/statsgen/mnagle/mwas/full_covariates/all_hippo.csv</td><td>/dcs04/lieber/statsgen/mnagle/mwas/pheno/hippo/out/chr7_all_1240001-1260000.rds</td><td>..//output_EXPANSE_a2_hippo/libd_chr7-chr7_all-libd_chr7-chr7_all-1240001-1260000-dynamic-1corestotal-allcorepera-20240425-163421.rds</td></tr>\n",
       "\t<tr><td>7</td><td>all</td><td>hippo</td><td>1260001</td><td>1280000</td><td>/dcs04/lieber/statsgen/shizhong/michael/mwas/gwas//libd_chr7.pgen</td><td>/dcs04/lieber/statsgen/shizhong/michael/mwas/pheno/hippo/out/chr7_all.rda</td><td>159334659</td><td>49742</td><td>1490198</td><td>1</td><td>/dcs04/lieber/statsgen/mnagle/mwas/full_covariates/all_hippo.csv</td><td>/dcs04/lieber/statsgen/mnagle/mwas/pheno/hippo/out/chr7_all_1260001-1280000.rds</td><td>..//output_EXPANSE_a2_hippo/libd_chr7-chr7_all-libd_chr7-chr7_all-1260001-1280000-dynamic-1corestotal-allcorepera-20240425-163723.rds</td></tr>\n",
       "\t<tr><td>7</td><td>all</td><td>hippo</td><td>1280001</td><td>1300000</td><td>/dcs04/lieber/statsgen/shizhong/michael/mwas/gwas//libd_chr7.pgen</td><td>/dcs04/lieber/statsgen/shizhong/michael/mwas/pheno/hippo/out/chr7_all.rda</td><td>159334659</td><td>49742</td><td>1490198</td><td>1</td><td>/dcs04/lieber/statsgen/mnagle/mwas/full_covariates/all_hippo.csv</td><td>/dcs04/lieber/statsgen/mnagle/mwas/pheno/hippo/out/chr7_all_1280001-1300000.rds</td><td>..//output_EXPANSE_a2_hippo/libd_chr7-chr7_all-libd_chr7-chr7_all-1280001-1300000-dynamic-1corestotal-allcorepera-20240425-164024.rds</td></tr>\n",
       "\t<tr><td>7</td><td>all</td><td>hippo</td><td>1300001</td><td>1320000</td><td>/dcs04/lieber/statsgen/shizhong/michael/mwas/gwas//libd_chr7.pgen</td><td>/dcs04/lieber/statsgen/shizhong/michael/mwas/pheno/hippo/out/chr7_all.rda</td><td>159334659</td><td>49742</td><td>1490198</td><td>1</td><td>/dcs04/lieber/statsgen/mnagle/mwas/full_covariates/all_hippo.csv</td><td>/dcs04/lieber/statsgen/mnagle/mwas/pheno/hippo/out/chr7_all_1300001-1320000.rds</td><td>..//output_EXPANSE_a2_hippo/libd_chr7-chr7_all-libd_chr7-chr7_all-1300001-1320000-dynamic-1corestotal-allcorepera-20240425-164325.rds</td></tr>\n",
       "\t<tr><td>7</td><td>all</td><td>hippo</td><td>1320001</td><td>1340000</td><td>/dcs04/lieber/statsgen/shizhong/michael/mwas/gwas//libd_chr7.pgen</td><td>/dcs04/lieber/statsgen/shizhong/michael/mwas/pheno/hippo/out/chr7_all.rda</td><td>159334659</td><td>49742</td><td>1490198</td><td>1</td><td>/dcs04/lieber/statsgen/mnagle/mwas/full_covariates/all_hippo.csv</td><td>/dcs04/lieber/statsgen/mnagle/mwas/pheno/hippo/out/chr7_all_1320001-1340000.rds</td><td>..//output_EXPANSE_a2_hippo/libd_chr7-chr7_all-libd_chr7-chr7_all-1320001-1340000-dynamic-1corestotal-allcorepera-20240425-164626.rds</td></tr>\n",
       "\t<tr><td>7</td><td>all</td><td>hippo</td><td>1340001</td><td>1360000</td><td>/dcs04/lieber/statsgen/shizhong/michael/mwas/gwas//libd_chr7.pgen</td><td>/dcs04/lieber/statsgen/shizhong/michael/mwas/pheno/hippo/out/chr7_all.rda</td><td>159334659</td><td>49742</td><td>1490198</td><td>1</td><td>/dcs04/lieber/statsgen/mnagle/mwas/full_covariates/all_hippo.csv</td><td>/dcs04/lieber/statsgen/mnagle/mwas/pheno/hippo/out/chr7_all_1340001-1360000.rds</td><td>..//output_EXPANSE_a2_hippo/libd_chr7-chr7_all-libd_chr7-chr7_all-1340001-1360000-dynamic-1corestotal-allcorepera-20240425-164927.rds</td></tr>\n",
       "\t<tr><td>7</td><td>all</td><td>hippo</td><td>1360001</td><td>1380000</td><td>/dcs04/lieber/statsgen/shizhong/michael/mwas/gwas//libd_chr7.pgen</td><td>/dcs04/lieber/statsgen/shizhong/michael/mwas/pheno/hippo/out/chr7_all.rda</td><td>159334659</td><td>49742</td><td>1490198</td><td>1</td><td>/dcs04/lieber/statsgen/mnagle/mwas/full_covariates/all_hippo.csv</td><td>/dcs04/lieber/statsgen/mnagle/mwas/pheno/hippo/out/chr7_all_1360001-1380000.rds</td><td>..//output_EXPANSE_a2_hippo/libd_chr7-chr7_all-libd_chr7-chr7_all-1360001-1380000-dynamic-1corestotal-allcorepera-20240425-165228.rds</td></tr>\n",
       "\t<tr><td>7</td><td>all</td><td>hippo</td><td>1380001</td><td>1400000</td><td>/dcs04/lieber/statsgen/shizhong/michael/mwas/gwas//libd_chr7.pgen</td><td>/dcs04/lieber/statsgen/shizhong/michael/mwas/pheno/hippo/out/chr7_all.rda</td><td>159334659</td><td>49742</td><td>1490198</td><td>1</td><td>/dcs04/lieber/statsgen/mnagle/mwas/full_covariates/all_hippo.csv</td><td>/dcs04/lieber/statsgen/mnagle/mwas/pheno/hippo/out/chr7_all_1380001-1400000.rds</td><td>..//output_EXPANSE_a2_hippo/libd_chr7-chr7_all-libd_chr7-chr7_all-1380001-1400000-dynamic-1corestotal-allcorepera-20240425-165530.rds</td></tr>\n",
       "\t<tr><td>7</td><td>all</td><td>hippo</td><td>1400001</td><td>1420000</td><td>/dcs04/lieber/statsgen/shizhong/michael/mwas/gwas//libd_chr7.pgen</td><td>/dcs04/lieber/statsgen/shizhong/michael/mwas/pheno/hippo/out/chr7_all.rda</td><td>159334659</td><td>49742</td><td>1490198</td><td>1</td><td>/dcs04/lieber/statsgen/mnagle/mwas/full_covariates/all_hippo.csv</td><td>/dcs04/lieber/statsgen/mnagle/mwas/pheno/hippo/out/chr7_all_1400001-1420000.rds</td><td>..//output_EXPANSE_a2_hippo/libd_chr7-chr7_all-libd_chr7-chr7_all-1400001-1420000-dynamic-1corestotal-allcorepera-20240425-165831.rds</td></tr>\n",
       "\t<tr><td>7</td><td>all</td><td>hippo</td><td>1420001</td><td>1440000</td><td>/dcs04/lieber/statsgen/shizhong/michael/mwas/gwas//libd_chr7.pgen</td><td>/dcs04/lieber/statsgen/shizhong/michael/mwas/pheno/hippo/out/chr7_all.rda</td><td>159334659</td><td>49742</td><td>1490198</td><td>1</td><td>/dcs04/lieber/statsgen/mnagle/mwas/full_covariates/all_hippo.csv</td><td>/dcs04/lieber/statsgen/mnagle/mwas/pheno/hippo/out/chr7_all_1420001-1440000.rds</td><td>..//output_EXPANSE_a2_hippo/libd_chr7-chr7_all-libd_chr7-chr7_all-1420001-1440000-dynamic-1corestotal-allcorepera-20240425-170132.rds</td></tr>\n",
       "\t<tr><td>7</td><td>all</td><td>hippo</td><td>1440001</td><td>1460000</td><td>/dcs04/lieber/statsgen/shizhong/michael/mwas/gwas//libd_chr7.pgen</td><td>/dcs04/lieber/statsgen/shizhong/michael/mwas/pheno/hippo/out/chr7_all.rda</td><td>159334659</td><td>49742</td><td>1490198</td><td>1</td><td>/dcs04/lieber/statsgen/mnagle/mwas/full_covariates/all_hippo.csv</td><td>/dcs04/lieber/statsgen/mnagle/mwas/pheno/hippo/out/chr7_all_1440001-1460000.rds</td><td>..//output_EXPANSE_a2_hippo/libd_chr7-chr7_all-libd_chr7-chr7_all-1440001-1460000-dynamic-1corestotal-allcorepera-20240425-170433.rds</td></tr>\n",
       "\t<tr><td>7</td><td>all</td><td>hippo</td><td>1460001</td><td>1480000</td><td>/dcs04/lieber/statsgen/shizhong/michael/mwas/gwas//libd_chr7.pgen</td><td>/dcs04/lieber/statsgen/shizhong/michael/mwas/pheno/hippo/out/chr7_all.rda</td><td>159334659</td><td>49742</td><td>1490198</td><td>1</td><td>/dcs04/lieber/statsgen/mnagle/mwas/full_covariates/all_hippo.csv</td><td>/dcs04/lieber/statsgen/mnagle/mwas/pheno/hippo/out/chr7_all_1460001-1480000.rds</td><td>..//output_EXPANSE_a2_hippo/libd_chr7-chr7_all-libd_chr7-chr7_all-1460001-1480000-dynamic-1corestotal-allcorepera-20240425-170734.rds</td></tr>\n",
       "\t<tr><td>7</td><td>all</td><td>hippo</td><td>1480001</td><td>1490198</td><td>/dcs04/lieber/statsgen/shizhong/michael/mwas/gwas//libd_chr7.pgen</td><td>/dcs04/lieber/statsgen/shizhong/michael/mwas/pheno/hippo/out/chr7_all.rda</td><td>159334659</td><td>49742</td><td>1490198</td><td>1</td><td>/dcs04/lieber/statsgen/mnagle/mwas/full_covariates/all_hippo.csv</td><td>/dcs04/lieber/statsgen/mnagle/mwas/pheno/hippo/out/chr7_all_1480001-1490198.rds</td><td>..//output_EXPANSE_a2_hippo/libd_chr7-chr7_all-libd_chr7-chr7_all-1480001-1490198-dynamic-1corestotal-allcorepera-20240425-171035.rds</td></tr>\n",
       "</tbody>\n",
       "</table>\n"
      ],
      "text/latex": [
       "A data.table: 677 × 14\n",
       "\\begin{tabular}{llllllllllllll}\n",
       " Chr & population & region & chunk\\_start & chunk\\_end & SNP\\_data & methylation\\_data & last\\_meth\\_value\\_with\\_SNP\\_coverage & first\\_meth\\_value\\_with\\_SNP\\_coverage & last\\_meth\\_index\\_with\\_SNP\\_coverage & first\\_meth\\_index\\_with\\_SNP\\_coverage & cov\\_file & modified\\_methylation\\_data & path\\\\\n",
       " <int> & <chr> & <chr> & <int> & <dbl> & <chr> & <chr> & <int> & <int> & <int> & <int> & <chr> & <chr> & <chr>\\\\\n",
       "\\hline\n",
       "\t 7 & AA & caud &      1 &  20000 & /dcs04/lieber/statsgen/shizhong/michael/mwas/gwas//libd\\_chr7.pgen & /dcs04/lieber/statsgen/shizhong/michael/mwas/pheno/caud/out/chr7\\_AA.rda & 159334659 & 49742 & 1490198 & 1 & /dcs04/lieber/statsgen/mnagle/mwas/full\\_covariates/AA\\_caud.csv & /dcs04/lieber/statsgen/mnagle/mwas/pheno/caud/out/chr7\\_AA\\_1-20000.rds       & ..//output\\_EXPANSE\\_a2\\_caud/libd\\_chr7-chr7\\_AA-libd\\_chr7-chr7\\_AA-1-20000-dynamic-1corestotal-allcorepera-20240422-091021.rds      \\\\\n",
       "\t 7 & AA & caud &  20001 &  40000 & /dcs04/lieber/statsgen/shizhong/michael/mwas/gwas//libd\\_chr7.pgen & /dcs04/lieber/statsgen/shizhong/michael/mwas/pheno/caud/out/chr7\\_AA.rda & 159334659 & 49742 & 1490198 & 1 & /dcs04/lieber/statsgen/mnagle/mwas/full\\_covariates/AA\\_caud.csv & /dcs04/lieber/statsgen/mnagle/mwas/pheno/caud/out/chr7\\_AA\\_20001-40000.rds   & ..//output\\_EXPANSE\\_a2\\_caud/libd\\_chr7-chr7\\_AA-libd\\_chr7-chr7\\_AA-20001-40000-dynamic-1corestotal-allcorepera-20240422-091322.rds  \\\\\n",
       "\t 7 & AA & caud &  40001 &  60000 & /dcs04/lieber/statsgen/shizhong/michael/mwas/gwas//libd\\_chr7.pgen & /dcs04/lieber/statsgen/shizhong/michael/mwas/pheno/caud/out/chr7\\_AA.rda & 159334659 & 49742 & 1490198 & 1 & /dcs04/lieber/statsgen/mnagle/mwas/full\\_covariates/AA\\_caud.csv & /dcs04/lieber/statsgen/mnagle/mwas/pheno/caud/out/chr7\\_AA\\_40001-60000.rds   & ..//output\\_EXPANSE\\_a2\\_caud/libd\\_chr7-chr7\\_AA-libd\\_chr7-chr7\\_AA-40001-60000-dynamic-1corestotal-allcorepera-20240422-091624.rds  \\\\\n",
       "\t 7 & AA & caud &  60001 &  80000 & /dcs04/lieber/statsgen/shizhong/michael/mwas/gwas//libd\\_chr7.pgen & /dcs04/lieber/statsgen/shizhong/michael/mwas/pheno/caud/out/chr7\\_AA.rda & 159334659 & 49742 & 1490198 & 1 & /dcs04/lieber/statsgen/mnagle/mwas/full\\_covariates/AA\\_caud.csv & /dcs04/lieber/statsgen/mnagle/mwas/pheno/caud/out/chr7\\_AA\\_60001-80000.rds   & ..//output\\_EXPANSE\\_a2\\_caud/libd\\_chr7-chr7\\_AA-libd\\_chr7-chr7\\_AA-60001-80000-dynamic-1corestotal-allcorepera-20240422-091925.rds  \\\\\n",
       "\t 7 & AA & caud &  80001 & 100000 & /dcs04/lieber/statsgen/shizhong/michael/mwas/gwas//libd\\_chr7.pgen & /dcs04/lieber/statsgen/shizhong/michael/mwas/pheno/caud/out/chr7\\_AA.rda & 159334659 & 49742 & 1490198 & 1 & /dcs04/lieber/statsgen/mnagle/mwas/full\\_covariates/AA\\_caud.csv & /dcs04/lieber/statsgen/mnagle/mwas/pheno/caud/out/chr7\\_AA\\_80001-1e+05.rds   & ..//output\\_EXPANSE\\_a2\\_caud/libd\\_chr7-chr7\\_AA-libd\\_chr7-chr7\\_AA-80001-100000-dynamic-1corestotal-allcorepera-20240422-092226.rds \\\\\n",
       "\t 7 & AA & caud & 100001 & 120000 & /dcs04/lieber/statsgen/shizhong/michael/mwas/gwas//libd\\_chr7.pgen & /dcs04/lieber/statsgen/shizhong/michael/mwas/pheno/caud/out/chr7\\_AA.rda & 159334659 & 49742 & 1490198 & 1 & /dcs04/lieber/statsgen/mnagle/mwas/full\\_covariates/AA\\_caud.csv & /dcs04/lieber/statsgen/mnagle/mwas/pheno/caud/out/chr7\\_AA\\_100001-120000.rds & ..//output\\_EXPANSE\\_a2\\_caud/libd\\_chr7-chr7\\_AA-libd\\_chr7-chr7\\_AA-100001-120000-dynamic-1corestotal-allcorepera-20240508-071345.rds\\\\\n",
       "\t 7 & AA & caud & 120001 & 140000 & /dcs04/lieber/statsgen/shizhong/michael/mwas/gwas//libd\\_chr7.pgen & /dcs04/lieber/statsgen/shizhong/michael/mwas/pheno/caud/out/chr7\\_AA.rda & 159334659 & 49742 & 1490198 & 1 & /dcs04/lieber/statsgen/mnagle/mwas/full\\_covariates/AA\\_caud.csv & /dcs04/lieber/statsgen/mnagle/mwas/pheno/caud/out/chr7\\_AA\\_120001-140000.rds & ..//output\\_EXPANSE\\_a2\\_caud/libd\\_chr7-chr7\\_AA-libd\\_chr7-chr7\\_AA-120001-140000-dynamic-1corestotal-allcorepera-20240422-092828.rds\\\\\n",
       "\t 7 & AA & caud & 140001 & 160000 & /dcs04/lieber/statsgen/shizhong/michael/mwas/gwas//libd\\_chr7.pgen & /dcs04/lieber/statsgen/shizhong/michael/mwas/pheno/caud/out/chr7\\_AA.rda & 159334659 & 49742 & 1490198 & 1 & /dcs04/lieber/statsgen/mnagle/mwas/full\\_covariates/AA\\_caud.csv & /dcs04/lieber/statsgen/mnagle/mwas/pheno/caud/out/chr7\\_AA\\_140001-160000.rds & ..//output\\_EXPANSE\\_a2\\_caud/libd\\_chr7-chr7\\_AA-libd\\_chr7-chr7\\_AA-140001-160000-dynamic-1corestotal-allcorepera-20240422-093129.rds\\\\\n",
       "\t 7 & AA & caud & 160001 & 180000 & /dcs04/lieber/statsgen/shizhong/michael/mwas/gwas//libd\\_chr7.pgen & /dcs04/lieber/statsgen/shizhong/michael/mwas/pheno/caud/out/chr7\\_AA.rda & 159334659 & 49742 & 1490198 & 1 & /dcs04/lieber/statsgen/mnagle/mwas/full\\_covariates/AA\\_caud.csv & /dcs04/lieber/statsgen/mnagle/mwas/pheno/caud/out/chr7\\_AA\\_160001-180000.rds & ..//output\\_EXPANSE\\_a2\\_caud/libd\\_chr7-chr7\\_AA-libd\\_chr7-chr7\\_AA-160001-180000-dynamic-1corestotal-allcorepera-20240422-093430.rds\\\\\n",
       "\t 7 & AA & caud & 180001 & 200000 & /dcs04/lieber/statsgen/shizhong/michael/mwas/gwas//libd\\_chr7.pgen & /dcs04/lieber/statsgen/shizhong/michael/mwas/pheno/caud/out/chr7\\_AA.rda & 159334659 & 49742 & 1490198 & 1 & /dcs04/lieber/statsgen/mnagle/mwas/full\\_covariates/AA\\_caud.csv & /dcs04/lieber/statsgen/mnagle/mwas/pheno/caud/out/chr7\\_AA\\_180001-2e+05.rds  & ..//output\\_EXPANSE\\_a2\\_caud/libd\\_chr7-chr7\\_AA-libd\\_chr7-chr7\\_AA-180001-200000-dynamic-1corestotal-allcorepera-20240422-093731.rds\\\\\n",
       "\t 7 & AA & caud & 200001 & 220000 & /dcs04/lieber/statsgen/shizhong/michael/mwas/gwas//libd\\_chr7.pgen & /dcs04/lieber/statsgen/shizhong/michael/mwas/pheno/caud/out/chr7\\_AA.rda & 159334659 & 49742 & 1490198 & 1 & /dcs04/lieber/statsgen/mnagle/mwas/full\\_covariates/AA\\_caud.csv & /dcs04/lieber/statsgen/mnagle/mwas/pheno/caud/out/chr7\\_AA\\_200001-220000.rds & ..//output\\_EXPANSE\\_a2\\_caud/libd\\_chr7-chr7\\_AA-libd\\_chr7-chr7\\_AA-200001-220000-dynamic-1corestotal-allcorepera-20240422-094032.rds\\\\\n",
       "\t 7 & AA & caud & 220001 & 240000 & /dcs04/lieber/statsgen/shizhong/michael/mwas/gwas//libd\\_chr7.pgen & /dcs04/lieber/statsgen/shizhong/michael/mwas/pheno/caud/out/chr7\\_AA.rda & 159334659 & 49742 & 1490198 & 1 & /dcs04/lieber/statsgen/mnagle/mwas/full\\_covariates/AA\\_caud.csv & /dcs04/lieber/statsgen/mnagle/mwas/pheno/caud/out/chr7\\_AA\\_220001-240000.rds & ..//output\\_EXPANSE\\_a2\\_caud/libd\\_chr7-chr7\\_AA-libd\\_chr7-chr7\\_AA-220001-240000-dynamic-1corestotal-allcorepera-20240422-094334.rds\\\\\n",
       "\t 7 & AA & caud & 240001 & 260000 & /dcs04/lieber/statsgen/shizhong/michael/mwas/gwas//libd\\_chr7.pgen & /dcs04/lieber/statsgen/shizhong/michael/mwas/pheno/caud/out/chr7\\_AA.rda & 159334659 & 49742 & 1490198 & 1 & /dcs04/lieber/statsgen/mnagle/mwas/full\\_covariates/AA\\_caud.csv & /dcs04/lieber/statsgen/mnagle/mwas/pheno/caud/out/chr7\\_AA\\_240001-260000.rds & ..//output\\_EXPANSE\\_a2\\_caud/libd\\_chr7-chr7\\_AA-libd\\_chr7-chr7\\_AA-240001-260000-dynamic-1corestotal-allcorepera-20240422-094635.rds\\\\\n",
       "\t 7 & AA & caud & 260001 & 280000 & /dcs04/lieber/statsgen/shizhong/michael/mwas/gwas//libd\\_chr7.pgen & /dcs04/lieber/statsgen/shizhong/michael/mwas/pheno/caud/out/chr7\\_AA.rda & 159334659 & 49742 & 1490198 & 1 & /dcs04/lieber/statsgen/mnagle/mwas/full\\_covariates/AA\\_caud.csv & /dcs04/lieber/statsgen/mnagle/mwas/pheno/caud/out/chr7\\_AA\\_260001-280000.rds & ..//output\\_EXPANSE\\_a2\\_caud/libd\\_chr7-chr7\\_AA-libd\\_chr7-chr7\\_AA-260001-280000-dynamic-1corestotal-allcorepera-20240422-094936.rds\\\\\n",
       "\t 7 & AA & caud & 280001 & 300000 & /dcs04/lieber/statsgen/shizhong/michael/mwas/gwas//libd\\_chr7.pgen & /dcs04/lieber/statsgen/shizhong/michael/mwas/pheno/caud/out/chr7\\_AA.rda & 159334659 & 49742 & 1490198 & 1 & /dcs04/lieber/statsgen/mnagle/mwas/full\\_covariates/AA\\_caud.csv & /dcs04/lieber/statsgen/mnagle/mwas/pheno/caud/out/chr7\\_AA\\_280001-3e+05.rds  & ..//output\\_EXPANSE\\_a2\\_caud/libd\\_chr7-chr7\\_AA-libd\\_chr7-chr7\\_AA-280001-300000-dynamic-1corestotal-allcorepera-20240422-095237.rds\\\\\n",
       "\t 7 & AA & caud & 300001 & 320000 & /dcs04/lieber/statsgen/shizhong/michael/mwas/gwas//libd\\_chr7.pgen & /dcs04/lieber/statsgen/shizhong/michael/mwas/pheno/caud/out/chr7\\_AA.rda & 159334659 & 49742 & 1490198 & 1 & /dcs04/lieber/statsgen/mnagle/mwas/full\\_covariates/AA\\_caud.csv & /dcs04/lieber/statsgen/mnagle/mwas/pheno/caud/out/chr7\\_AA\\_300001-320000.rds & ..//output\\_EXPANSE\\_a2\\_caud/libd\\_chr7-chr7\\_AA-libd\\_chr7-chr7\\_AA-300001-320000-dynamic-1corestotal-allcorepera-20240422-095538.rds\\\\\n",
       "\t 7 & AA & caud & 320001 & 340000 & /dcs04/lieber/statsgen/shizhong/michael/mwas/gwas//libd\\_chr7.pgen & /dcs04/lieber/statsgen/shizhong/michael/mwas/pheno/caud/out/chr7\\_AA.rda & 159334659 & 49742 & 1490198 & 1 & /dcs04/lieber/statsgen/mnagle/mwas/full\\_covariates/AA\\_caud.csv & /dcs04/lieber/statsgen/mnagle/mwas/pheno/caud/out/chr7\\_AA\\_320001-340000.rds & ..//output\\_EXPANSE\\_a2\\_caud/libd\\_chr7-chr7\\_AA-libd\\_chr7-chr7\\_AA-320001-340000-dynamic-1corestotal-allcorepera-20240422-095839.rds\\\\\n",
       "\t 7 & AA & caud & 340001 & 360000 & /dcs04/lieber/statsgen/shizhong/michael/mwas/gwas//libd\\_chr7.pgen & /dcs04/lieber/statsgen/shizhong/michael/mwas/pheno/caud/out/chr7\\_AA.rda & 159334659 & 49742 & 1490198 & 1 & /dcs04/lieber/statsgen/mnagle/mwas/full\\_covariates/AA\\_caud.csv & /dcs04/lieber/statsgen/mnagle/mwas/pheno/caud/out/chr7\\_AA\\_340001-360000.rds & ..//output\\_EXPANSE\\_a2\\_caud/libd\\_chr7-chr7\\_AA-libd\\_chr7-chr7\\_AA-340001-360000-dynamic-1corestotal-allcorepera-20240422-100142.rds\\\\\n",
       "\t 7 & AA & caud & 360001 & 380000 & /dcs04/lieber/statsgen/shizhong/michael/mwas/gwas//libd\\_chr7.pgen & /dcs04/lieber/statsgen/shizhong/michael/mwas/pheno/caud/out/chr7\\_AA.rda & 159334659 & 49742 & 1490198 & 1 & /dcs04/lieber/statsgen/mnagle/mwas/full\\_covariates/AA\\_caud.csv & /dcs04/lieber/statsgen/mnagle/mwas/pheno/caud/out/chr7\\_AA\\_360001-380000.rds & ..//output\\_EXPANSE\\_a2\\_caud/libd\\_chr7-chr7\\_AA-libd\\_chr7-chr7\\_AA-360001-380000-dynamic-1corestotal-allcorepera-20240422-100443.rds\\\\\n",
       "\t 7 & AA & caud & 380001 & 400000 & /dcs04/lieber/statsgen/shizhong/michael/mwas/gwas//libd\\_chr7.pgen & /dcs04/lieber/statsgen/shizhong/michael/mwas/pheno/caud/out/chr7\\_AA.rda & 159334659 & 49742 & 1490198 & 1 & /dcs04/lieber/statsgen/mnagle/mwas/full\\_covariates/AA\\_caud.csv & /dcs04/lieber/statsgen/mnagle/mwas/pheno/caud/out/chr7\\_AA\\_380001-4e+05.rds  & ..//output\\_EXPANSE\\_a2\\_caud/libd\\_chr7-chr7\\_AA-libd\\_chr7-chr7\\_AA-380001-400000-dynamic-1corestotal-allcorepera-20240422-100837.rds\\\\\n",
       "\t 7 & AA & caud & 400001 & 420000 & /dcs04/lieber/statsgen/shizhong/michael/mwas/gwas//libd\\_chr7.pgen & /dcs04/lieber/statsgen/shizhong/michael/mwas/pheno/caud/out/chr7\\_AA.rda & 159334659 & 49742 & 1490198 & 1 & /dcs04/lieber/statsgen/mnagle/mwas/full\\_covariates/AA\\_caud.csv & /dcs04/lieber/statsgen/mnagle/mwas/pheno/caud/out/chr7\\_AA\\_400001-420000.rds & ..//output\\_EXPANSE\\_a2\\_caud/libd\\_chr7-chr7\\_AA-libd\\_chr7-chr7\\_AA-400001-420000-dynamic-1corestotal-allcorepera-20240422-101138.rds\\\\\n",
       "\t 7 & AA & caud & 420001 & 440000 & /dcs04/lieber/statsgen/shizhong/michael/mwas/gwas//libd\\_chr7.pgen & /dcs04/lieber/statsgen/shizhong/michael/mwas/pheno/caud/out/chr7\\_AA.rda & 159334659 & 49742 & 1490198 & 1 & /dcs04/lieber/statsgen/mnagle/mwas/full\\_covariates/AA\\_caud.csv & /dcs04/lieber/statsgen/mnagle/mwas/pheno/caud/out/chr7\\_AA\\_420001-440000.rds & ..//output\\_EXPANSE\\_a2\\_caud/libd\\_chr7-chr7\\_AA-libd\\_chr7-chr7\\_AA-420001-440000-dynamic-1corestotal-allcorepera-20240422-101439.rds\\\\\n",
       "\t 7 & AA & caud & 440001 & 460000 & /dcs04/lieber/statsgen/shizhong/michael/mwas/gwas//libd\\_chr7.pgen & /dcs04/lieber/statsgen/shizhong/michael/mwas/pheno/caud/out/chr7\\_AA.rda & 159334659 & 49742 & 1490198 & 1 & /dcs04/lieber/statsgen/mnagle/mwas/full\\_covariates/AA\\_caud.csv & /dcs04/lieber/statsgen/mnagle/mwas/pheno/caud/out/chr7\\_AA\\_440001-460000.rds & ..//output\\_EXPANSE\\_a2\\_caud/libd\\_chr7-chr7\\_AA-libd\\_chr7-chr7\\_AA-440001-460000-dynamic-1corestotal-allcorepera-20240422-101740.rds\\\\\n",
       "\t 7 & AA & caud & 460001 & 480000 & /dcs04/lieber/statsgen/shizhong/michael/mwas/gwas//libd\\_chr7.pgen & /dcs04/lieber/statsgen/shizhong/michael/mwas/pheno/caud/out/chr7\\_AA.rda & 159334659 & 49742 & 1490198 & 1 & /dcs04/lieber/statsgen/mnagle/mwas/full\\_covariates/AA\\_caud.csv & /dcs04/lieber/statsgen/mnagle/mwas/pheno/caud/out/chr7\\_AA\\_460001-480000.rds & ..//output\\_EXPANSE\\_a2\\_caud/libd\\_chr7-chr7\\_AA-libd\\_chr7-chr7\\_AA-460001-480000-dynamic-1corestotal-allcorepera-20240422-102041.rds\\\\\n",
       "\t 7 & AA & caud & 480001 & 500000 & /dcs04/lieber/statsgen/shizhong/michael/mwas/gwas//libd\\_chr7.pgen & /dcs04/lieber/statsgen/shizhong/michael/mwas/pheno/caud/out/chr7\\_AA.rda & 159334659 & 49742 & 1490198 & 1 & /dcs04/lieber/statsgen/mnagle/mwas/full\\_covariates/AA\\_caud.csv & /dcs04/lieber/statsgen/mnagle/mwas/pheno/caud/out/chr7\\_AA\\_480001-5e+05.rds  & ..//output\\_EXPANSE\\_a2\\_caud/libd\\_chr7-chr7\\_AA-libd\\_chr7-chr7\\_AA-480001-500000-dynamic-1corestotal-allcorepera-20240422-102342.rds\\\\\n",
       "\t 7 & AA & caud & 500001 & 520000 & /dcs04/lieber/statsgen/shizhong/michael/mwas/gwas//libd\\_chr7.pgen & /dcs04/lieber/statsgen/shizhong/michael/mwas/pheno/caud/out/chr7\\_AA.rda & 159334659 & 49742 & 1490198 & 1 & /dcs04/lieber/statsgen/mnagle/mwas/full\\_covariates/AA\\_caud.csv & /dcs04/lieber/statsgen/mnagle/mwas/pheno/caud/out/chr7\\_AA\\_500001-520000.rds & ..//output\\_EXPANSE\\_a2\\_caud/libd\\_chr7-chr7\\_AA-libd\\_chr7-chr7\\_AA-500001-520000-dynamic-1corestotal-allcorepera-20240422-102643.rds\\\\\n",
       "\t 7 & AA & caud & 520001 & 540000 & /dcs04/lieber/statsgen/shizhong/michael/mwas/gwas//libd\\_chr7.pgen & /dcs04/lieber/statsgen/shizhong/michael/mwas/pheno/caud/out/chr7\\_AA.rda & 159334659 & 49742 & 1490198 & 1 & /dcs04/lieber/statsgen/mnagle/mwas/full\\_covariates/AA\\_caud.csv & /dcs04/lieber/statsgen/mnagle/mwas/pheno/caud/out/chr7\\_AA\\_520001-540000.rds & ..//output\\_EXPANSE\\_a2\\_caud/libd\\_chr7-chr7\\_AA-libd\\_chr7-chr7\\_AA-520001-540000-dynamic-1corestotal-allcorepera-20240422-102945.rds\\\\\n",
       "\t 7 & AA & caud & 540001 & 560000 & /dcs04/lieber/statsgen/shizhong/michael/mwas/gwas//libd\\_chr7.pgen & /dcs04/lieber/statsgen/shizhong/michael/mwas/pheno/caud/out/chr7\\_AA.rda & 159334659 & 49742 & 1490198 & 1 & /dcs04/lieber/statsgen/mnagle/mwas/full\\_covariates/AA\\_caud.csv & /dcs04/lieber/statsgen/mnagle/mwas/pheno/caud/out/chr7\\_AA\\_540001-560000.rds & ..//output\\_EXPANSE\\_a2\\_caud/libd\\_chr7-chr7\\_AA-libd\\_chr7-chr7\\_AA-540001-560000-dynamic-1corestotal-allcorepera-20240422-103246.rds\\\\\n",
       "\t 7 & AA & caud & 560001 & 580000 & /dcs04/lieber/statsgen/shizhong/michael/mwas/gwas//libd\\_chr7.pgen & /dcs04/lieber/statsgen/shizhong/michael/mwas/pheno/caud/out/chr7\\_AA.rda & 159334659 & 49742 & 1490198 & 1 & /dcs04/lieber/statsgen/mnagle/mwas/full\\_covariates/AA\\_caud.csv & /dcs04/lieber/statsgen/mnagle/mwas/pheno/caud/out/chr7\\_AA\\_560001-580000.rds & ..//output\\_EXPANSE\\_a2\\_caud/libd\\_chr7-chr7\\_AA-libd\\_chr7-chr7\\_AA-560001-580000-dynamic-1corestotal-allcorepera-20240422-103547.rds\\\\\n",
       "\t 7 & AA & caud & 580001 & 600000 & /dcs04/lieber/statsgen/shizhong/michael/mwas/gwas//libd\\_chr7.pgen & /dcs04/lieber/statsgen/shizhong/michael/mwas/pheno/caud/out/chr7\\_AA.rda & 159334659 & 49742 & 1490198 & 1 & /dcs04/lieber/statsgen/mnagle/mwas/full\\_covariates/AA\\_caud.csv & /dcs04/lieber/statsgen/mnagle/mwas/pheno/caud/out/chr7\\_AA\\_580001-6e+05.rds  & ..//output\\_EXPANSE\\_a2\\_caud/libd\\_chr7-chr7\\_AA-libd\\_chr7-chr7\\_AA-580001-600000-dynamic-1corestotal-allcorepera-20240422-103849.rds\\\\\n",
       "\t ⋮ & ⋮ & ⋮ & ⋮ & ⋮ & ⋮ & ⋮ & ⋮ & ⋮ & ⋮ & ⋮ & ⋮ & ⋮ & ⋮\\\\\n",
       "\t 7 & all & hippo &  900001 &  920000 & /dcs04/lieber/statsgen/shizhong/michael/mwas/gwas//libd\\_chr7.pgen & /dcs04/lieber/statsgen/shizhong/michael/mwas/pheno/hippo/out/chr7\\_all.rda & 159334659 & 49742 & 1490198 & 1 & /dcs04/lieber/statsgen/mnagle/mwas/full\\_covariates/all\\_hippo.csv & /dcs04/lieber/statsgen/mnagle/mwas/pheno/hippo/out/chr7\\_all\\_900001-920000.rds   & ..//output\\_EXPANSE\\_a2\\_hippo/libd\\_chr7-chr7\\_all-libd\\_chr7-chr7\\_all-900001-920000-dynamic-1corestotal-allcorepera-20240425-154300.rds  \\\\\n",
       "\t 7 & all & hippo &  920001 &  940000 & /dcs04/lieber/statsgen/shizhong/michael/mwas/gwas//libd\\_chr7.pgen & /dcs04/lieber/statsgen/shizhong/michael/mwas/pheno/hippo/out/chr7\\_all.rda & 159334659 & 49742 & 1490198 & 1 & /dcs04/lieber/statsgen/mnagle/mwas/full\\_covariates/all\\_hippo.csv & /dcs04/lieber/statsgen/mnagle/mwas/pheno/hippo/out/chr7\\_all\\_920001-940000.rds   & ..//output\\_EXPANSE\\_a2\\_hippo/libd\\_chr7-chr7\\_all-libd\\_chr7-chr7\\_all-920001-940000-dynamic-1corestotal-allcorepera-20240425-154601.rds  \\\\\n",
       "\t 7 & all & hippo &  940001 &  960000 & /dcs04/lieber/statsgen/shizhong/michael/mwas/gwas//libd\\_chr7.pgen & /dcs04/lieber/statsgen/shizhong/michael/mwas/pheno/hippo/out/chr7\\_all.rda & 159334659 & 49742 & 1490198 & 1 & /dcs04/lieber/statsgen/mnagle/mwas/full\\_covariates/all\\_hippo.csv & /dcs04/lieber/statsgen/mnagle/mwas/pheno/hippo/out/chr7\\_all\\_940001-960000.rds   & ..//output\\_EXPANSE\\_a2\\_hippo/libd\\_chr7-chr7\\_all-libd\\_chr7-chr7\\_all-940001-960000-dynamic-1corestotal-allcorepera-20240425-154904.rds  \\\\\n",
       "\t 7 & all & hippo &  960001 &  980000 & /dcs04/lieber/statsgen/shizhong/michael/mwas/gwas//libd\\_chr7.pgen & /dcs04/lieber/statsgen/shizhong/michael/mwas/pheno/hippo/out/chr7\\_all.rda & 159334659 & 49742 & 1490198 & 1 & /dcs04/lieber/statsgen/mnagle/mwas/full\\_covariates/all\\_hippo.csv & /dcs04/lieber/statsgen/mnagle/mwas/pheno/hippo/out/chr7\\_all\\_960001-980000.rds   & ..//output\\_EXPANSE\\_a2\\_hippo/libd\\_chr7-chr7\\_all-libd\\_chr7-chr7\\_all-960001-980000-dynamic-1corestotal-allcorepera-20240425-155205.rds  \\\\\n",
       "\t 7 & all & hippo &  980001 & 1000000 & /dcs04/lieber/statsgen/shizhong/michael/mwas/gwas//libd\\_chr7.pgen & /dcs04/lieber/statsgen/shizhong/michael/mwas/pheno/hippo/out/chr7\\_all.rda & 159334659 & 49742 & 1490198 & 1 & /dcs04/lieber/statsgen/mnagle/mwas/full\\_covariates/all\\_hippo.csv & /dcs04/lieber/statsgen/mnagle/mwas/pheno/hippo/out/chr7\\_all\\_980001-1e+06.rds    & ..//output\\_EXPANSE\\_a2\\_hippo/libd\\_chr7-chr7\\_all-libd\\_chr7-chr7\\_all-980001-1000000-dynamic-1corestotal-allcorepera-20240425-155507.rds \\\\\n",
       "\t 7 & all & hippo & 1000001 & 1020000 & /dcs04/lieber/statsgen/shizhong/michael/mwas/gwas//libd\\_chr7.pgen & /dcs04/lieber/statsgen/shizhong/michael/mwas/pheno/hippo/out/chr7\\_all.rda & 159334659 & 49742 & 1490198 & 1 & /dcs04/lieber/statsgen/mnagle/mwas/full\\_covariates/all\\_hippo.csv & /dcs04/lieber/statsgen/mnagle/mwas/pheno/hippo/out/chr7\\_all\\_1000001-1020000.rds & ..//output\\_EXPANSE\\_a2\\_hippo/libd\\_chr7-chr7\\_all-libd\\_chr7-chr7\\_all-1000001-1020000-dynamic-1corestotal-allcorepera-20240425-155808.rds\\\\\n",
       "\t 7 & all & hippo & 1020001 & 1040000 & /dcs04/lieber/statsgen/shizhong/michael/mwas/gwas//libd\\_chr7.pgen & /dcs04/lieber/statsgen/shizhong/michael/mwas/pheno/hippo/out/chr7\\_all.rda & 159334659 & 49742 & 1490198 & 1 & /dcs04/lieber/statsgen/mnagle/mwas/full\\_covariates/all\\_hippo.csv & /dcs04/lieber/statsgen/mnagle/mwas/pheno/hippo/out/chr7\\_all\\_1020001-1040000.rds & ..//output\\_EXPANSE\\_a2\\_hippo/libd\\_chr7-chr7\\_all-libd\\_chr7-chr7\\_all-1020001-1040000-dynamic-1corestotal-allcorepera-20240425-160109.rds\\\\\n",
       "\t 7 & all & hippo & 1040001 & 1060000 & /dcs04/lieber/statsgen/shizhong/michael/mwas/gwas//libd\\_chr7.pgen & /dcs04/lieber/statsgen/shizhong/michael/mwas/pheno/hippo/out/chr7\\_all.rda & 159334659 & 49742 & 1490198 & 1 & /dcs04/lieber/statsgen/mnagle/mwas/full\\_covariates/all\\_hippo.csv & /dcs04/lieber/statsgen/mnagle/mwas/pheno/hippo/out/chr7\\_all\\_1040001-1060000.rds & ..//output\\_EXPANSE\\_a2\\_hippo/libd\\_chr7-chr7\\_all-libd\\_chr7-chr7\\_all-1040001-1060000-dynamic-1corestotal-allcorepera-20240425-160410.rds\\\\\n",
       "\t 7 & all & hippo & 1060001 & 1080000 & /dcs04/lieber/statsgen/shizhong/michael/mwas/gwas//libd\\_chr7.pgen & /dcs04/lieber/statsgen/shizhong/michael/mwas/pheno/hippo/out/chr7\\_all.rda & 159334659 & 49742 & 1490198 & 1 & /dcs04/lieber/statsgen/mnagle/mwas/full\\_covariates/all\\_hippo.csv & /dcs04/lieber/statsgen/mnagle/mwas/pheno/hippo/out/chr7\\_all\\_1060001-1080000.rds & ..//output\\_EXPANSE\\_a2\\_hippo/libd\\_chr7-chr7\\_all-libd\\_chr7-chr7\\_all-1060001-1080000-dynamic-1corestotal-allcorepera-20240425-160711.rds\\\\\n",
       "\t 7 & all & hippo & 1080001 & 1100000 & /dcs04/lieber/statsgen/shizhong/michael/mwas/gwas//libd\\_chr7.pgen & /dcs04/lieber/statsgen/shizhong/michael/mwas/pheno/hippo/out/chr7\\_all.rda & 159334659 & 49742 & 1490198 & 1 & /dcs04/lieber/statsgen/mnagle/mwas/full\\_covariates/all\\_hippo.csv & /dcs04/lieber/statsgen/mnagle/mwas/pheno/hippo/out/chr7\\_all\\_1080001-1100000.rds & ..//output\\_EXPANSE\\_a2\\_hippo/libd\\_chr7-chr7\\_all-libd\\_chr7-chr7\\_all-1080001-1100000-dynamic-1corestotal-allcorepera-20240425-161012.rds\\\\\n",
       "\t 7 & all & hippo & 1100001 & 1120000 & /dcs04/lieber/statsgen/shizhong/michael/mwas/gwas//libd\\_chr7.pgen & /dcs04/lieber/statsgen/shizhong/michael/mwas/pheno/hippo/out/chr7\\_all.rda & 159334659 & 49742 & 1490198 & 1 & /dcs04/lieber/statsgen/mnagle/mwas/full\\_covariates/all\\_hippo.csv & /dcs04/lieber/statsgen/mnagle/mwas/pheno/hippo/out/chr7\\_all\\_1100001-1120000.rds & ..//output\\_EXPANSE\\_a2\\_hippo/libd\\_chr7-chr7\\_all-libd\\_chr7-chr7\\_all-1100001-1120000-dynamic-1corestotal-allcorepera-20240425-161313.rds\\\\\n",
       "\t 7 & all & hippo & 1120001 & 1140000 & /dcs04/lieber/statsgen/shizhong/michael/mwas/gwas//libd\\_chr7.pgen & /dcs04/lieber/statsgen/shizhong/michael/mwas/pheno/hippo/out/chr7\\_all.rda & 159334659 & 49742 & 1490198 & 1 & /dcs04/lieber/statsgen/mnagle/mwas/full\\_covariates/all\\_hippo.csv & /dcs04/lieber/statsgen/mnagle/mwas/pheno/hippo/out/chr7\\_all\\_1120001-1140000.rds & ..//output\\_EXPANSE\\_a2\\_hippo/libd\\_chr7-chr7\\_all-libd\\_chr7-chr7\\_all-1120001-1140000-dynamic-1corestotal-allcorepera-20240425-161615.rds\\\\\n",
       "\t 7 & all & hippo & 1140001 & 1160000 & /dcs04/lieber/statsgen/shizhong/michael/mwas/gwas//libd\\_chr7.pgen & /dcs04/lieber/statsgen/shizhong/michael/mwas/pheno/hippo/out/chr7\\_all.rda & 159334659 & 49742 & 1490198 & 1 & /dcs04/lieber/statsgen/mnagle/mwas/full\\_covariates/all\\_hippo.csv & /dcs04/lieber/statsgen/mnagle/mwas/pheno/hippo/out/chr7\\_all\\_1140001-1160000.rds & ..//output\\_EXPANSE\\_a2\\_hippo/libd\\_chr7-chr7\\_all-libd\\_chr7-chr7\\_all-1140001-1160000-dynamic-1corestotal-allcorepera-20240425-161916.rds\\\\\n",
       "\t 7 & all & hippo & 1160001 & 1180000 & /dcs04/lieber/statsgen/shizhong/michael/mwas/gwas//libd\\_chr7.pgen & /dcs04/lieber/statsgen/shizhong/michael/mwas/pheno/hippo/out/chr7\\_all.rda & 159334659 & 49742 & 1490198 & 1 & /dcs04/lieber/statsgen/mnagle/mwas/full\\_covariates/all\\_hippo.csv & /dcs04/lieber/statsgen/mnagle/mwas/pheno/hippo/out/chr7\\_all\\_1160001-1180000.rds & ..//output\\_EXPANSE\\_a2\\_hippo/libd\\_chr7-chr7\\_all-libd\\_chr7-chr7\\_all-1160001-1180000-dynamic-1corestotal-allcorepera-20240425-162217.rds\\\\\n",
       "\t 7 & all & hippo & 1180001 & 1200000 & /dcs04/lieber/statsgen/shizhong/michael/mwas/gwas//libd\\_chr7.pgen & /dcs04/lieber/statsgen/shizhong/michael/mwas/pheno/hippo/out/chr7\\_all.rda & 159334659 & 49742 & 1490198 & 1 & /dcs04/lieber/statsgen/mnagle/mwas/full\\_covariates/all\\_hippo.csv & /dcs04/lieber/statsgen/mnagle/mwas/pheno/hippo/out/chr7\\_all\\_1180001-1200000.rds & ..//output\\_EXPANSE\\_a2\\_hippo/libd\\_chr7-chr7\\_all-libd\\_chr7-chr7\\_all-1180001-1200000-dynamic-1corestotal-allcorepera-20240425-162518.rds\\\\\n",
       "\t 7 & all & hippo & 1200001 & 1220000 & /dcs04/lieber/statsgen/shizhong/michael/mwas/gwas//libd\\_chr7.pgen & /dcs04/lieber/statsgen/shizhong/michael/mwas/pheno/hippo/out/chr7\\_all.rda & 159334659 & 49742 & 1490198 & 1 & /dcs04/lieber/statsgen/mnagle/mwas/full\\_covariates/all\\_hippo.csv & /dcs04/lieber/statsgen/mnagle/mwas/pheno/hippo/out/chr7\\_all\\_1200001-1220000.rds & ..//output\\_EXPANSE\\_a2\\_hippo/libd\\_chr7-chr7\\_all-libd\\_chr7-chr7\\_all-1200001-1220000-dynamic-1corestotal-allcorepera-20240425-162819.rds\\\\\n",
       "\t 7 & all & hippo & 1220001 & 1240000 & /dcs04/lieber/statsgen/shizhong/michael/mwas/gwas//libd\\_chr7.pgen & /dcs04/lieber/statsgen/shizhong/michael/mwas/pheno/hippo/out/chr7\\_all.rda & 159334659 & 49742 & 1490198 & 1 & /dcs04/lieber/statsgen/mnagle/mwas/full\\_covariates/all\\_hippo.csv & /dcs04/lieber/statsgen/mnagle/mwas/pheno/hippo/out/chr7\\_all\\_1220001-1240000.rds & ..//output\\_EXPANSE\\_a2\\_hippo/libd\\_chr7-chr7\\_all-libd\\_chr7-chr7\\_all-1220001-1240000-dynamic-1corestotal-allcorepera-20240425-163120.rds\\\\\n",
       "\t 7 & all & hippo & 1240001 & 1260000 & /dcs04/lieber/statsgen/shizhong/michael/mwas/gwas//libd\\_chr7.pgen & /dcs04/lieber/statsgen/shizhong/michael/mwas/pheno/hippo/out/chr7\\_all.rda & 159334659 & 49742 & 1490198 & 1 & /dcs04/lieber/statsgen/mnagle/mwas/full\\_covariates/all\\_hippo.csv & /dcs04/lieber/statsgen/mnagle/mwas/pheno/hippo/out/chr7\\_all\\_1240001-1260000.rds & ..//output\\_EXPANSE\\_a2\\_hippo/libd\\_chr7-chr7\\_all-libd\\_chr7-chr7\\_all-1240001-1260000-dynamic-1corestotal-allcorepera-20240425-163421.rds\\\\\n",
       "\t 7 & all & hippo & 1260001 & 1280000 & /dcs04/lieber/statsgen/shizhong/michael/mwas/gwas//libd\\_chr7.pgen & /dcs04/lieber/statsgen/shizhong/michael/mwas/pheno/hippo/out/chr7\\_all.rda & 159334659 & 49742 & 1490198 & 1 & /dcs04/lieber/statsgen/mnagle/mwas/full\\_covariates/all\\_hippo.csv & /dcs04/lieber/statsgen/mnagle/mwas/pheno/hippo/out/chr7\\_all\\_1260001-1280000.rds & ..//output\\_EXPANSE\\_a2\\_hippo/libd\\_chr7-chr7\\_all-libd\\_chr7-chr7\\_all-1260001-1280000-dynamic-1corestotal-allcorepera-20240425-163723.rds\\\\\n",
       "\t 7 & all & hippo & 1280001 & 1300000 & /dcs04/lieber/statsgen/shizhong/michael/mwas/gwas//libd\\_chr7.pgen & /dcs04/lieber/statsgen/shizhong/michael/mwas/pheno/hippo/out/chr7\\_all.rda & 159334659 & 49742 & 1490198 & 1 & /dcs04/lieber/statsgen/mnagle/mwas/full\\_covariates/all\\_hippo.csv & /dcs04/lieber/statsgen/mnagle/mwas/pheno/hippo/out/chr7\\_all\\_1280001-1300000.rds & ..//output\\_EXPANSE\\_a2\\_hippo/libd\\_chr7-chr7\\_all-libd\\_chr7-chr7\\_all-1280001-1300000-dynamic-1corestotal-allcorepera-20240425-164024.rds\\\\\n",
       "\t 7 & all & hippo & 1300001 & 1320000 & /dcs04/lieber/statsgen/shizhong/michael/mwas/gwas//libd\\_chr7.pgen & /dcs04/lieber/statsgen/shizhong/michael/mwas/pheno/hippo/out/chr7\\_all.rda & 159334659 & 49742 & 1490198 & 1 & /dcs04/lieber/statsgen/mnagle/mwas/full\\_covariates/all\\_hippo.csv & /dcs04/lieber/statsgen/mnagle/mwas/pheno/hippo/out/chr7\\_all\\_1300001-1320000.rds & ..//output\\_EXPANSE\\_a2\\_hippo/libd\\_chr7-chr7\\_all-libd\\_chr7-chr7\\_all-1300001-1320000-dynamic-1corestotal-allcorepera-20240425-164325.rds\\\\\n",
       "\t 7 & all & hippo & 1320001 & 1340000 & /dcs04/lieber/statsgen/shizhong/michael/mwas/gwas//libd\\_chr7.pgen & /dcs04/lieber/statsgen/shizhong/michael/mwas/pheno/hippo/out/chr7\\_all.rda & 159334659 & 49742 & 1490198 & 1 & /dcs04/lieber/statsgen/mnagle/mwas/full\\_covariates/all\\_hippo.csv & /dcs04/lieber/statsgen/mnagle/mwas/pheno/hippo/out/chr7\\_all\\_1320001-1340000.rds & ..//output\\_EXPANSE\\_a2\\_hippo/libd\\_chr7-chr7\\_all-libd\\_chr7-chr7\\_all-1320001-1340000-dynamic-1corestotal-allcorepera-20240425-164626.rds\\\\\n",
       "\t 7 & all & hippo & 1340001 & 1360000 & /dcs04/lieber/statsgen/shizhong/michael/mwas/gwas//libd\\_chr7.pgen & /dcs04/lieber/statsgen/shizhong/michael/mwas/pheno/hippo/out/chr7\\_all.rda & 159334659 & 49742 & 1490198 & 1 & /dcs04/lieber/statsgen/mnagle/mwas/full\\_covariates/all\\_hippo.csv & /dcs04/lieber/statsgen/mnagle/mwas/pheno/hippo/out/chr7\\_all\\_1340001-1360000.rds & ..//output\\_EXPANSE\\_a2\\_hippo/libd\\_chr7-chr7\\_all-libd\\_chr7-chr7\\_all-1340001-1360000-dynamic-1corestotal-allcorepera-20240425-164927.rds\\\\\n",
       "\t 7 & all & hippo & 1360001 & 1380000 & /dcs04/lieber/statsgen/shizhong/michael/mwas/gwas//libd\\_chr7.pgen & /dcs04/lieber/statsgen/shizhong/michael/mwas/pheno/hippo/out/chr7\\_all.rda & 159334659 & 49742 & 1490198 & 1 & /dcs04/lieber/statsgen/mnagle/mwas/full\\_covariates/all\\_hippo.csv & /dcs04/lieber/statsgen/mnagle/mwas/pheno/hippo/out/chr7\\_all\\_1360001-1380000.rds & ..//output\\_EXPANSE\\_a2\\_hippo/libd\\_chr7-chr7\\_all-libd\\_chr7-chr7\\_all-1360001-1380000-dynamic-1corestotal-allcorepera-20240425-165228.rds\\\\\n",
       "\t 7 & all & hippo & 1380001 & 1400000 & /dcs04/lieber/statsgen/shizhong/michael/mwas/gwas//libd\\_chr7.pgen & /dcs04/lieber/statsgen/shizhong/michael/mwas/pheno/hippo/out/chr7\\_all.rda & 159334659 & 49742 & 1490198 & 1 & /dcs04/lieber/statsgen/mnagle/mwas/full\\_covariates/all\\_hippo.csv & /dcs04/lieber/statsgen/mnagle/mwas/pheno/hippo/out/chr7\\_all\\_1380001-1400000.rds & ..//output\\_EXPANSE\\_a2\\_hippo/libd\\_chr7-chr7\\_all-libd\\_chr7-chr7\\_all-1380001-1400000-dynamic-1corestotal-allcorepera-20240425-165530.rds\\\\\n",
       "\t 7 & all & hippo & 1400001 & 1420000 & /dcs04/lieber/statsgen/shizhong/michael/mwas/gwas//libd\\_chr7.pgen & /dcs04/lieber/statsgen/shizhong/michael/mwas/pheno/hippo/out/chr7\\_all.rda & 159334659 & 49742 & 1490198 & 1 & /dcs04/lieber/statsgen/mnagle/mwas/full\\_covariates/all\\_hippo.csv & /dcs04/lieber/statsgen/mnagle/mwas/pheno/hippo/out/chr7\\_all\\_1400001-1420000.rds & ..//output\\_EXPANSE\\_a2\\_hippo/libd\\_chr7-chr7\\_all-libd\\_chr7-chr7\\_all-1400001-1420000-dynamic-1corestotal-allcorepera-20240425-165831.rds\\\\\n",
       "\t 7 & all & hippo & 1420001 & 1440000 & /dcs04/lieber/statsgen/shizhong/michael/mwas/gwas//libd\\_chr7.pgen & /dcs04/lieber/statsgen/shizhong/michael/mwas/pheno/hippo/out/chr7\\_all.rda & 159334659 & 49742 & 1490198 & 1 & /dcs04/lieber/statsgen/mnagle/mwas/full\\_covariates/all\\_hippo.csv & /dcs04/lieber/statsgen/mnagle/mwas/pheno/hippo/out/chr7\\_all\\_1420001-1440000.rds & ..//output\\_EXPANSE\\_a2\\_hippo/libd\\_chr7-chr7\\_all-libd\\_chr7-chr7\\_all-1420001-1440000-dynamic-1corestotal-allcorepera-20240425-170132.rds\\\\\n",
       "\t 7 & all & hippo & 1440001 & 1460000 & /dcs04/lieber/statsgen/shizhong/michael/mwas/gwas//libd\\_chr7.pgen & /dcs04/lieber/statsgen/shizhong/michael/mwas/pheno/hippo/out/chr7\\_all.rda & 159334659 & 49742 & 1490198 & 1 & /dcs04/lieber/statsgen/mnagle/mwas/full\\_covariates/all\\_hippo.csv & /dcs04/lieber/statsgen/mnagle/mwas/pheno/hippo/out/chr7\\_all\\_1440001-1460000.rds & ..//output\\_EXPANSE\\_a2\\_hippo/libd\\_chr7-chr7\\_all-libd\\_chr7-chr7\\_all-1440001-1460000-dynamic-1corestotal-allcorepera-20240425-170433.rds\\\\\n",
       "\t 7 & all & hippo & 1460001 & 1480000 & /dcs04/lieber/statsgen/shizhong/michael/mwas/gwas//libd\\_chr7.pgen & /dcs04/lieber/statsgen/shizhong/michael/mwas/pheno/hippo/out/chr7\\_all.rda & 159334659 & 49742 & 1490198 & 1 & /dcs04/lieber/statsgen/mnagle/mwas/full\\_covariates/all\\_hippo.csv & /dcs04/lieber/statsgen/mnagle/mwas/pheno/hippo/out/chr7\\_all\\_1460001-1480000.rds & ..//output\\_EXPANSE\\_a2\\_hippo/libd\\_chr7-chr7\\_all-libd\\_chr7-chr7\\_all-1460001-1480000-dynamic-1corestotal-allcorepera-20240425-170734.rds\\\\\n",
       "\t 7 & all & hippo & 1480001 & 1490198 & /dcs04/lieber/statsgen/shizhong/michael/mwas/gwas//libd\\_chr7.pgen & /dcs04/lieber/statsgen/shizhong/michael/mwas/pheno/hippo/out/chr7\\_all.rda & 159334659 & 49742 & 1490198 & 1 & /dcs04/lieber/statsgen/mnagle/mwas/full\\_covariates/all\\_hippo.csv & /dcs04/lieber/statsgen/mnagle/mwas/pheno/hippo/out/chr7\\_all\\_1480001-1490198.rds & ..//output\\_EXPANSE\\_a2\\_hippo/libd\\_chr7-chr7\\_all-libd\\_chr7-chr7\\_all-1480001-1490198-dynamic-1corestotal-allcorepera-20240425-171035.rds\\\\\n",
       "\\end{tabular}\n"
      ],
      "text/markdown": [
       "\n",
       "A data.table: 677 × 14\n",
       "\n",
       "| Chr &lt;int&gt; | population &lt;chr&gt; | region &lt;chr&gt; | chunk_start &lt;int&gt; | chunk_end &lt;dbl&gt; | SNP_data &lt;chr&gt; | methylation_data &lt;chr&gt; | last_meth_value_with_SNP_coverage &lt;int&gt; | first_meth_value_with_SNP_coverage &lt;int&gt; | last_meth_index_with_SNP_coverage &lt;int&gt; | first_meth_index_with_SNP_coverage &lt;int&gt; | cov_file &lt;chr&gt; | modified_methylation_data &lt;chr&gt; | path &lt;chr&gt; |\n",
       "|---|---|---|---|---|---|---|---|---|---|---|---|---|---|\n",
       "| 7 | AA | caud |      1 |  20000 | /dcs04/lieber/statsgen/shizhong/michael/mwas/gwas//libd_chr7.pgen | /dcs04/lieber/statsgen/shizhong/michael/mwas/pheno/caud/out/chr7_AA.rda | 159334659 | 49742 | 1490198 | 1 | /dcs04/lieber/statsgen/mnagle/mwas/full_covariates/AA_caud.csv | /dcs04/lieber/statsgen/mnagle/mwas/pheno/caud/out/chr7_AA_1-20000.rds       | ..//output_EXPANSE_a2_caud/libd_chr7-chr7_AA-libd_chr7-chr7_AA-1-20000-dynamic-1corestotal-allcorepera-20240422-091021.rds       |\n",
       "| 7 | AA | caud |  20001 |  40000 | /dcs04/lieber/statsgen/shizhong/michael/mwas/gwas//libd_chr7.pgen | /dcs04/lieber/statsgen/shizhong/michael/mwas/pheno/caud/out/chr7_AA.rda | 159334659 | 49742 | 1490198 | 1 | /dcs04/lieber/statsgen/mnagle/mwas/full_covariates/AA_caud.csv | /dcs04/lieber/statsgen/mnagle/mwas/pheno/caud/out/chr7_AA_20001-40000.rds   | ..//output_EXPANSE_a2_caud/libd_chr7-chr7_AA-libd_chr7-chr7_AA-20001-40000-dynamic-1corestotal-allcorepera-20240422-091322.rds   |\n",
       "| 7 | AA | caud |  40001 |  60000 | /dcs04/lieber/statsgen/shizhong/michael/mwas/gwas//libd_chr7.pgen | /dcs04/lieber/statsgen/shizhong/michael/mwas/pheno/caud/out/chr7_AA.rda | 159334659 | 49742 | 1490198 | 1 | /dcs04/lieber/statsgen/mnagle/mwas/full_covariates/AA_caud.csv | /dcs04/lieber/statsgen/mnagle/mwas/pheno/caud/out/chr7_AA_40001-60000.rds   | ..//output_EXPANSE_a2_caud/libd_chr7-chr7_AA-libd_chr7-chr7_AA-40001-60000-dynamic-1corestotal-allcorepera-20240422-091624.rds   |\n",
       "| 7 | AA | caud |  60001 |  80000 | /dcs04/lieber/statsgen/shizhong/michael/mwas/gwas//libd_chr7.pgen | /dcs04/lieber/statsgen/shizhong/michael/mwas/pheno/caud/out/chr7_AA.rda | 159334659 | 49742 | 1490198 | 1 | /dcs04/lieber/statsgen/mnagle/mwas/full_covariates/AA_caud.csv | /dcs04/lieber/statsgen/mnagle/mwas/pheno/caud/out/chr7_AA_60001-80000.rds   | ..//output_EXPANSE_a2_caud/libd_chr7-chr7_AA-libd_chr7-chr7_AA-60001-80000-dynamic-1corestotal-allcorepera-20240422-091925.rds   |\n",
       "| 7 | AA | caud |  80001 | 100000 | /dcs04/lieber/statsgen/shizhong/michael/mwas/gwas//libd_chr7.pgen | /dcs04/lieber/statsgen/shizhong/michael/mwas/pheno/caud/out/chr7_AA.rda | 159334659 | 49742 | 1490198 | 1 | /dcs04/lieber/statsgen/mnagle/mwas/full_covariates/AA_caud.csv | /dcs04/lieber/statsgen/mnagle/mwas/pheno/caud/out/chr7_AA_80001-1e+05.rds   | ..//output_EXPANSE_a2_caud/libd_chr7-chr7_AA-libd_chr7-chr7_AA-80001-100000-dynamic-1corestotal-allcorepera-20240422-092226.rds  |\n",
       "| 7 | AA | caud | 100001 | 120000 | /dcs04/lieber/statsgen/shizhong/michael/mwas/gwas//libd_chr7.pgen | /dcs04/lieber/statsgen/shizhong/michael/mwas/pheno/caud/out/chr7_AA.rda | 159334659 | 49742 | 1490198 | 1 | /dcs04/lieber/statsgen/mnagle/mwas/full_covariates/AA_caud.csv | /dcs04/lieber/statsgen/mnagle/mwas/pheno/caud/out/chr7_AA_100001-120000.rds | ..//output_EXPANSE_a2_caud/libd_chr7-chr7_AA-libd_chr7-chr7_AA-100001-120000-dynamic-1corestotal-allcorepera-20240508-071345.rds |\n",
       "| 7 | AA | caud | 120001 | 140000 | /dcs04/lieber/statsgen/shizhong/michael/mwas/gwas//libd_chr7.pgen | /dcs04/lieber/statsgen/shizhong/michael/mwas/pheno/caud/out/chr7_AA.rda | 159334659 | 49742 | 1490198 | 1 | /dcs04/lieber/statsgen/mnagle/mwas/full_covariates/AA_caud.csv | /dcs04/lieber/statsgen/mnagle/mwas/pheno/caud/out/chr7_AA_120001-140000.rds | ..//output_EXPANSE_a2_caud/libd_chr7-chr7_AA-libd_chr7-chr7_AA-120001-140000-dynamic-1corestotal-allcorepera-20240422-092828.rds |\n",
       "| 7 | AA | caud | 140001 | 160000 | /dcs04/lieber/statsgen/shizhong/michael/mwas/gwas//libd_chr7.pgen | /dcs04/lieber/statsgen/shizhong/michael/mwas/pheno/caud/out/chr7_AA.rda | 159334659 | 49742 | 1490198 | 1 | /dcs04/lieber/statsgen/mnagle/mwas/full_covariates/AA_caud.csv | /dcs04/lieber/statsgen/mnagle/mwas/pheno/caud/out/chr7_AA_140001-160000.rds | ..//output_EXPANSE_a2_caud/libd_chr7-chr7_AA-libd_chr7-chr7_AA-140001-160000-dynamic-1corestotal-allcorepera-20240422-093129.rds |\n",
       "| 7 | AA | caud | 160001 | 180000 | /dcs04/lieber/statsgen/shizhong/michael/mwas/gwas//libd_chr7.pgen | /dcs04/lieber/statsgen/shizhong/michael/mwas/pheno/caud/out/chr7_AA.rda | 159334659 | 49742 | 1490198 | 1 | /dcs04/lieber/statsgen/mnagle/mwas/full_covariates/AA_caud.csv | /dcs04/lieber/statsgen/mnagle/mwas/pheno/caud/out/chr7_AA_160001-180000.rds | ..//output_EXPANSE_a2_caud/libd_chr7-chr7_AA-libd_chr7-chr7_AA-160001-180000-dynamic-1corestotal-allcorepera-20240422-093430.rds |\n",
       "| 7 | AA | caud | 180001 | 200000 | /dcs04/lieber/statsgen/shizhong/michael/mwas/gwas//libd_chr7.pgen | /dcs04/lieber/statsgen/shizhong/michael/mwas/pheno/caud/out/chr7_AA.rda | 159334659 | 49742 | 1490198 | 1 | /dcs04/lieber/statsgen/mnagle/mwas/full_covariates/AA_caud.csv | /dcs04/lieber/statsgen/mnagle/mwas/pheno/caud/out/chr7_AA_180001-2e+05.rds  | ..//output_EXPANSE_a2_caud/libd_chr7-chr7_AA-libd_chr7-chr7_AA-180001-200000-dynamic-1corestotal-allcorepera-20240422-093731.rds |\n",
       "| 7 | AA | caud | 200001 | 220000 | /dcs04/lieber/statsgen/shizhong/michael/mwas/gwas//libd_chr7.pgen | /dcs04/lieber/statsgen/shizhong/michael/mwas/pheno/caud/out/chr7_AA.rda | 159334659 | 49742 | 1490198 | 1 | /dcs04/lieber/statsgen/mnagle/mwas/full_covariates/AA_caud.csv | /dcs04/lieber/statsgen/mnagle/mwas/pheno/caud/out/chr7_AA_200001-220000.rds | ..//output_EXPANSE_a2_caud/libd_chr7-chr7_AA-libd_chr7-chr7_AA-200001-220000-dynamic-1corestotal-allcorepera-20240422-094032.rds |\n",
       "| 7 | AA | caud | 220001 | 240000 | /dcs04/lieber/statsgen/shizhong/michael/mwas/gwas//libd_chr7.pgen | /dcs04/lieber/statsgen/shizhong/michael/mwas/pheno/caud/out/chr7_AA.rda | 159334659 | 49742 | 1490198 | 1 | /dcs04/lieber/statsgen/mnagle/mwas/full_covariates/AA_caud.csv | /dcs04/lieber/statsgen/mnagle/mwas/pheno/caud/out/chr7_AA_220001-240000.rds | ..//output_EXPANSE_a2_caud/libd_chr7-chr7_AA-libd_chr7-chr7_AA-220001-240000-dynamic-1corestotal-allcorepera-20240422-094334.rds |\n",
       "| 7 | AA | caud | 240001 | 260000 | /dcs04/lieber/statsgen/shizhong/michael/mwas/gwas//libd_chr7.pgen | /dcs04/lieber/statsgen/shizhong/michael/mwas/pheno/caud/out/chr7_AA.rda | 159334659 | 49742 | 1490198 | 1 | /dcs04/lieber/statsgen/mnagle/mwas/full_covariates/AA_caud.csv | /dcs04/lieber/statsgen/mnagle/mwas/pheno/caud/out/chr7_AA_240001-260000.rds | ..//output_EXPANSE_a2_caud/libd_chr7-chr7_AA-libd_chr7-chr7_AA-240001-260000-dynamic-1corestotal-allcorepera-20240422-094635.rds |\n",
       "| 7 | AA | caud | 260001 | 280000 | /dcs04/lieber/statsgen/shizhong/michael/mwas/gwas//libd_chr7.pgen | /dcs04/lieber/statsgen/shizhong/michael/mwas/pheno/caud/out/chr7_AA.rda | 159334659 | 49742 | 1490198 | 1 | /dcs04/lieber/statsgen/mnagle/mwas/full_covariates/AA_caud.csv | /dcs04/lieber/statsgen/mnagle/mwas/pheno/caud/out/chr7_AA_260001-280000.rds | ..//output_EXPANSE_a2_caud/libd_chr7-chr7_AA-libd_chr7-chr7_AA-260001-280000-dynamic-1corestotal-allcorepera-20240422-094936.rds |\n",
       "| 7 | AA | caud | 280001 | 300000 | /dcs04/lieber/statsgen/shizhong/michael/mwas/gwas//libd_chr7.pgen | /dcs04/lieber/statsgen/shizhong/michael/mwas/pheno/caud/out/chr7_AA.rda | 159334659 | 49742 | 1490198 | 1 | /dcs04/lieber/statsgen/mnagle/mwas/full_covariates/AA_caud.csv | /dcs04/lieber/statsgen/mnagle/mwas/pheno/caud/out/chr7_AA_280001-3e+05.rds  | ..//output_EXPANSE_a2_caud/libd_chr7-chr7_AA-libd_chr7-chr7_AA-280001-300000-dynamic-1corestotal-allcorepera-20240422-095237.rds |\n",
       "| 7 | AA | caud | 300001 | 320000 | /dcs04/lieber/statsgen/shizhong/michael/mwas/gwas//libd_chr7.pgen | /dcs04/lieber/statsgen/shizhong/michael/mwas/pheno/caud/out/chr7_AA.rda | 159334659 | 49742 | 1490198 | 1 | /dcs04/lieber/statsgen/mnagle/mwas/full_covariates/AA_caud.csv | /dcs04/lieber/statsgen/mnagle/mwas/pheno/caud/out/chr7_AA_300001-320000.rds | ..//output_EXPANSE_a2_caud/libd_chr7-chr7_AA-libd_chr7-chr7_AA-300001-320000-dynamic-1corestotal-allcorepera-20240422-095538.rds |\n",
       "| 7 | AA | caud | 320001 | 340000 | /dcs04/lieber/statsgen/shizhong/michael/mwas/gwas//libd_chr7.pgen | /dcs04/lieber/statsgen/shizhong/michael/mwas/pheno/caud/out/chr7_AA.rda | 159334659 | 49742 | 1490198 | 1 | /dcs04/lieber/statsgen/mnagle/mwas/full_covariates/AA_caud.csv | /dcs04/lieber/statsgen/mnagle/mwas/pheno/caud/out/chr7_AA_320001-340000.rds | ..//output_EXPANSE_a2_caud/libd_chr7-chr7_AA-libd_chr7-chr7_AA-320001-340000-dynamic-1corestotal-allcorepera-20240422-095839.rds |\n",
       "| 7 | AA | caud | 340001 | 360000 | /dcs04/lieber/statsgen/shizhong/michael/mwas/gwas//libd_chr7.pgen | /dcs04/lieber/statsgen/shizhong/michael/mwas/pheno/caud/out/chr7_AA.rda | 159334659 | 49742 | 1490198 | 1 | /dcs04/lieber/statsgen/mnagle/mwas/full_covariates/AA_caud.csv | /dcs04/lieber/statsgen/mnagle/mwas/pheno/caud/out/chr7_AA_340001-360000.rds | ..//output_EXPANSE_a2_caud/libd_chr7-chr7_AA-libd_chr7-chr7_AA-340001-360000-dynamic-1corestotal-allcorepera-20240422-100142.rds |\n",
       "| 7 | AA | caud | 360001 | 380000 | /dcs04/lieber/statsgen/shizhong/michael/mwas/gwas//libd_chr7.pgen | /dcs04/lieber/statsgen/shizhong/michael/mwas/pheno/caud/out/chr7_AA.rda | 159334659 | 49742 | 1490198 | 1 | /dcs04/lieber/statsgen/mnagle/mwas/full_covariates/AA_caud.csv | /dcs04/lieber/statsgen/mnagle/mwas/pheno/caud/out/chr7_AA_360001-380000.rds | ..//output_EXPANSE_a2_caud/libd_chr7-chr7_AA-libd_chr7-chr7_AA-360001-380000-dynamic-1corestotal-allcorepera-20240422-100443.rds |\n",
       "| 7 | AA | caud | 380001 | 400000 | /dcs04/lieber/statsgen/shizhong/michael/mwas/gwas//libd_chr7.pgen | /dcs04/lieber/statsgen/shizhong/michael/mwas/pheno/caud/out/chr7_AA.rda | 159334659 | 49742 | 1490198 | 1 | /dcs04/lieber/statsgen/mnagle/mwas/full_covariates/AA_caud.csv | /dcs04/lieber/statsgen/mnagle/mwas/pheno/caud/out/chr7_AA_380001-4e+05.rds  | ..//output_EXPANSE_a2_caud/libd_chr7-chr7_AA-libd_chr7-chr7_AA-380001-400000-dynamic-1corestotal-allcorepera-20240422-100837.rds |\n",
       "| 7 | AA | caud | 400001 | 420000 | /dcs04/lieber/statsgen/shizhong/michael/mwas/gwas//libd_chr7.pgen | /dcs04/lieber/statsgen/shizhong/michael/mwas/pheno/caud/out/chr7_AA.rda | 159334659 | 49742 | 1490198 | 1 | /dcs04/lieber/statsgen/mnagle/mwas/full_covariates/AA_caud.csv | /dcs04/lieber/statsgen/mnagle/mwas/pheno/caud/out/chr7_AA_400001-420000.rds | ..//output_EXPANSE_a2_caud/libd_chr7-chr7_AA-libd_chr7-chr7_AA-400001-420000-dynamic-1corestotal-allcorepera-20240422-101138.rds |\n",
       "| 7 | AA | caud | 420001 | 440000 | /dcs04/lieber/statsgen/shizhong/michael/mwas/gwas//libd_chr7.pgen | /dcs04/lieber/statsgen/shizhong/michael/mwas/pheno/caud/out/chr7_AA.rda | 159334659 | 49742 | 1490198 | 1 | /dcs04/lieber/statsgen/mnagle/mwas/full_covariates/AA_caud.csv | /dcs04/lieber/statsgen/mnagle/mwas/pheno/caud/out/chr7_AA_420001-440000.rds | ..//output_EXPANSE_a2_caud/libd_chr7-chr7_AA-libd_chr7-chr7_AA-420001-440000-dynamic-1corestotal-allcorepera-20240422-101439.rds |\n",
       "| 7 | AA | caud | 440001 | 460000 | /dcs04/lieber/statsgen/shizhong/michael/mwas/gwas//libd_chr7.pgen | /dcs04/lieber/statsgen/shizhong/michael/mwas/pheno/caud/out/chr7_AA.rda | 159334659 | 49742 | 1490198 | 1 | /dcs04/lieber/statsgen/mnagle/mwas/full_covariates/AA_caud.csv | /dcs04/lieber/statsgen/mnagle/mwas/pheno/caud/out/chr7_AA_440001-460000.rds | ..//output_EXPANSE_a2_caud/libd_chr7-chr7_AA-libd_chr7-chr7_AA-440001-460000-dynamic-1corestotal-allcorepera-20240422-101740.rds |\n",
       "| 7 | AA | caud | 460001 | 480000 | /dcs04/lieber/statsgen/shizhong/michael/mwas/gwas//libd_chr7.pgen | /dcs04/lieber/statsgen/shizhong/michael/mwas/pheno/caud/out/chr7_AA.rda | 159334659 | 49742 | 1490198 | 1 | /dcs04/lieber/statsgen/mnagle/mwas/full_covariates/AA_caud.csv | /dcs04/lieber/statsgen/mnagle/mwas/pheno/caud/out/chr7_AA_460001-480000.rds | ..//output_EXPANSE_a2_caud/libd_chr7-chr7_AA-libd_chr7-chr7_AA-460001-480000-dynamic-1corestotal-allcorepera-20240422-102041.rds |\n",
       "| 7 | AA | caud | 480001 | 500000 | /dcs04/lieber/statsgen/shizhong/michael/mwas/gwas//libd_chr7.pgen | /dcs04/lieber/statsgen/shizhong/michael/mwas/pheno/caud/out/chr7_AA.rda | 159334659 | 49742 | 1490198 | 1 | /dcs04/lieber/statsgen/mnagle/mwas/full_covariates/AA_caud.csv | /dcs04/lieber/statsgen/mnagle/mwas/pheno/caud/out/chr7_AA_480001-5e+05.rds  | ..//output_EXPANSE_a2_caud/libd_chr7-chr7_AA-libd_chr7-chr7_AA-480001-500000-dynamic-1corestotal-allcorepera-20240422-102342.rds |\n",
       "| 7 | AA | caud | 500001 | 520000 | /dcs04/lieber/statsgen/shizhong/michael/mwas/gwas//libd_chr7.pgen | /dcs04/lieber/statsgen/shizhong/michael/mwas/pheno/caud/out/chr7_AA.rda | 159334659 | 49742 | 1490198 | 1 | /dcs04/lieber/statsgen/mnagle/mwas/full_covariates/AA_caud.csv | /dcs04/lieber/statsgen/mnagle/mwas/pheno/caud/out/chr7_AA_500001-520000.rds | ..//output_EXPANSE_a2_caud/libd_chr7-chr7_AA-libd_chr7-chr7_AA-500001-520000-dynamic-1corestotal-allcorepera-20240422-102643.rds |\n",
       "| 7 | AA | caud | 520001 | 540000 | /dcs04/lieber/statsgen/shizhong/michael/mwas/gwas//libd_chr7.pgen | /dcs04/lieber/statsgen/shizhong/michael/mwas/pheno/caud/out/chr7_AA.rda | 159334659 | 49742 | 1490198 | 1 | /dcs04/lieber/statsgen/mnagle/mwas/full_covariates/AA_caud.csv | /dcs04/lieber/statsgen/mnagle/mwas/pheno/caud/out/chr7_AA_520001-540000.rds | ..//output_EXPANSE_a2_caud/libd_chr7-chr7_AA-libd_chr7-chr7_AA-520001-540000-dynamic-1corestotal-allcorepera-20240422-102945.rds |\n",
       "| 7 | AA | caud | 540001 | 560000 | /dcs04/lieber/statsgen/shizhong/michael/mwas/gwas//libd_chr7.pgen | /dcs04/lieber/statsgen/shizhong/michael/mwas/pheno/caud/out/chr7_AA.rda | 159334659 | 49742 | 1490198 | 1 | /dcs04/lieber/statsgen/mnagle/mwas/full_covariates/AA_caud.csv | /dcs04/lieber/statsgen/mnagle/mwas/pheno/caud/out/chr7_AA_540001-560000.rds | ..//output_EXPANSE_a2_caud/libd_chr7-chr7_AA-libd_chr7-chr7_AA-540001-560000-dynamic-1corestotal-allcorepera-20240422-103246.rds |\n",
       "| 7 | AA | caud | 560001 | 580000 | /dcs04/lieber/statsgen/shizhong/michael/mwas/gwas//libd_chr7.pgen | /dcs04/lieber/statsgen/shizhong/michael/mwas/pheno/caud/out/chr7_AA.rda | 159334659 | 49742 | 1490198 | 1 | /dcs04/lieber/statsgen/mnagle/mwas/full_covariates/AA_caud.csv | /dcs04/lieber/statsgen/mnagle/mwas/pheno/caud/out/chr7_AA_560001-580000.rds | ..//output_EXPANSE_a2_caud/libd_chr7-chr7_AA-libd_chr7-chr7_AA-560001-580000-dynamic-1corestotal-allcorepera-20240422-103547.rds |\n",
       "| 7 | AA | caud | 580001 | 600000 | /dcs04/lieber/statsgen/shizhong/michael/mwas/gwas//libd_chr7.pgen | /dcs04/lieber/statsgen/shizhong/michael/mwas/pheno/caud/out/chr7_AA.rda | 159334659 | 49742 | 1490198 | 1 | /dcs04/lieber/statsgen/mnagle/mwas/full_covariates/AA_caud.csv | /dcs04/lieber/statsgen/mnagle/mwas/pheno/caud/out/chr7_AA_580001-6e+05.rds  | ..//output_EXPANSE_a2_caud/libd_chr7-chr7_AA-libd_chr7-chr7_AA-580001-600000-dynamic-1corestotal-allcorepera-20240422-103849.rds |\n",
       "| ⋮ | ⋮ | ⋮ | ⋮ | ⋮ | ⋮ | ⋮ | ⋮ | ⋮ | ⋮ | ⋮ | ⋮ | ⋮ | ⋮ |\n",
       "| 7 | all | hippo |  900001 |  920000 | /dcs04/lieber/statsgen/shizhong/michael/mwas/gwas//libd_chr7.pgen | /dcs04/lieber/statsgen/shizhong/michael/mwas/pheno/hippo/out/chr7_all.rda | 159334659 | 49742 | 1490198 | 1 | /dcs04/lieber/statsgen/mnagle/mwas/full_covariates/all_hippo.csv | /dcs04/lieber/statsgen/mnagle/mwas/pheno/hippo/out/chr7_all_900001-920000.rds   | ..//output_EXPANSE_a2_hippo/libd_chr7-chr7_all-libd_chr7-chr7_all-900001-920000-dynamic-1corestotal-allcorepera-20240425-154300.rds   |\n",
       "| 7 | all | hippo |  920001 |  940000 | /dcs04/lieber/statsgen/shizhong/michael/mwas/gwas//libd_chr7.pgen | /dcs04/lieber/statsgen/shizhong/michael/mwas/pheno/hippo/out/chr7_all.rda | 159334659 | 49742 | 1490198 | 1 | /dcs04/lieber/statsgen/mnagle/mwas/full_covariates/all_hippo.csv | /dcs04/lieber/statsgen/mnagle/mwas/pheno/hippo/out/chr7_all_920001-940000.rds   | ..//output_EXPANSE_a2_hippo/libd_chr7-chr7_all-libd_chr7-chr7_all-920001-940000-dynamic-1corestotal-allcorepera-20240425-154601.rds   |\n",
       "| 7 | all | hippo |  940001 |  960000 | /dcs04/lieber/statsgen/shizhong/michael/mwas/gwas//libd_chr7.pgen | /dcs04/lieber/statsgen/shizhong/michael/mwas/pheno/hippo/out/chr7_all.rda | 159334659 | 49742 | 1490198 | 1 | /dcs04/lieber/statsgen/mnagle/mwas/full_covariates/all_hippo.csv | /dcs04/lieber/statsgen/mnagle/mwas/pheno/hippo/out/chr7_all_940001-960000.rds   | ..//output_EXPANSE_a2_hippo/libd_chr7-chr7_all-libd_chr7-chr7_all-940001-960000-dynamic-1corestotal-allcorepera-20240425-154904.rds   |\n",
       "| 7 | all | hippo |  960001 |  980000 | /dcs04/lieber/statsgen/shizhong/michael/mwas/gwas//libd_chr7.pgen | /dcs04/lieber/statsgen/shizhong/michael/mwas/pheno/hippo/out/chr7_all.rda | 159334659 | 49742 | 1490198 | 1 | /dcs04/lieber/statsgen/mnagle/mwas/full_covariates/all_hippo.csv | /dcs04/lieber/statsgen/mnagle/mwas/pheno/hippo/out/chr7_all_960001-980000.rds   | ..//output_EXPANSE_a2_hippo/libd_chr7-chr7_all-libd_chr7-chr7_all-960001-980000-dynamic-1corestotal-allcorepera-20240425-155205.rds   |\n",
       "| 7 | all | hippo |  980001 | 1000000 | /dcs04/lieber/statsgen/shizhong/michael/mwas/gwas//libd_chr7.pgen | /dcs04/lieber/statsgen/shizhong/michael/mwas/pheno/hippo/out/chr7_all.rda | 159334659 | 49742 | 1490198 | 1 | /dcs04/lieber/statsgen/mnagle/mwas/full_covariates/all_hippo.csv | /dcs04/lieber/statsgen/mnagle/mwas/pheno/hippo/out/chr7_all_980001-1e+06.rds    | ..//output_EXPANSE_a2_hippo/libd_chr7-chr7_all-libd_chr7-chr7_all-980001-1000000-dynamic-1corestotal-allcorepera-20240425-155507.rds  |\n",
       "| 7 | all | hippo | 1000001 | 1020000 | /dcs04/lieber/statsgen/shizhong/michael/mwas/gwas//libd_chr7.pgen | /dcs04/lieber/statsgen/shizhong/michael/mwas/pheno/hippo/out/chr7_all.rda | 159334659 | 49742 | 1490198 | 1 | /dcs04/lieber/statsgen/mnagle/mwas/full_covariates/all_hippo.csv | /dcs04/lieber/statsgen/mnagle/mwas/pheno/hippo/out/chr7_all_1000001-1020000.rds | ..//output_EXPANSE_a2_hippo/libd_chr7-chr7_all-libd_chr7-chr7_all-1000001-1020000-dynamic-1corestotal-allcorepera-20240425-155808.rds |\n",
       "| 7 | all | hippo | 1020001 | 1040000 | /dcs04/lieber/statsgen/shizhong/michael/mwas/gwas//libd_chr7.pgen | /dcs04/lieber/statsgen/shizhong/michael/mwas/pheno/hippo/out/chr7_all.rda | 159334659 | 49742 | 1490198 | 1 | /dcs04/lieber/statsgen/mnagle/mwas/full_covariates/all_hippo.csv | /dcs04/lieber/statsgen/mnagle/mwas/pheno/hippo/out/chr7_all_1020001-1040000.rds | ..//output_EXPANSE_a2_hippo/libd_chr7-chr7_all-libd_chr7-chr7_all-1020001-1040000-dynamic-1corestotal-allcorepera-20240425-160109.rds |\n",
       "| 7 | all | hippo | 1040001 | 1060000 | /dcs04/lieber/statsgen/shizhong/michael/mwas/gwas//libd_chr7.pgen | /dcs04/lieber/statsgen/shizhong/michael/mwas/pheno/hippo/out/chr7_all.rda | 159334659 | 49742 | 1490198 | 1 | /dcs04/lieber/statsgen/mnagle/mwas/full_covariates/all_hippo.csv | /dcs04/lieber/statsgen/mnagle/mwas/pheno/hippo/out/chr7_all_1040001-1060000.rds | ..//output_EXPANSE_a2_hippo/libd_chr7-chr7_all-libd_chr7-chr7_all-1040001-1060000-dynamic-1corestotal-allcorepera-20240425-160410.rds |\n",
       "| 7 | all | hippo | 1060001 | 1080000 | /dcs04/lieber/statsgen/shizhong/michael/mwas/gwas//libd_chr7.pgen | /dcs04/lieber/statsgen/shizhong/michael/mwas/pheno/hippo/out/chr7_all.rda | 159334659 | 49742 | 1490198 | 1 | /dcs04/lieber/statsgen/mnagle/mwas/full_covariates/all_hippo.csv | /dcs04/lieber/statsgen/mnagle/mwas/pheno/hippo/out/chr7_all_1060001-1080000.rds | ..//output_EXPANSE_a2_hippo/libd_chr7-chr7_all-libd_chr7-chr7_all-1060001-1080000-dynamic-1corestotal-allcorepera-20240425-160711.rds |\n",
       "| 7 | all | hippo | 1080001 | 1100000 | /dcs04/lieber/statsgen/shizhong/michael/mwas/gwas//libd_chr7.pgen | /dcs04/lieber/statsgen/shizhong/michael/mwas/pheno/hippo/out/chr7_all.rda | 159334659 | 49742 | 1490198 | 1 | /dcs04/lieber/statsgen/mnagle/mwas/full_covariates/all_hippo.csv | /dcs04/lieber/statsgen/mnagle/mwas/pheno/hippo/out/chr7_all_1080001-1100000.rds | ..//output_EXPANSE_a2_hippo/libd_chr7-chr7_all-libd_chr7-chr7_all-1080001-1100000-dynamic-1corestotal-allcorepera-20240425-161012.rds |\n",
       "| 7 | all | hippo | 1100001 | 1120000 | /dcs04/lieber/statsgen/shizhong/michael/mwas/gwas//libd_chr7.pgen | /dcs04/lieber/statsgen/shizhong/michael/mwas/pheno/hippo/out/chr7_all.rda | 159334659 | 49742 | 1490198 | 1 | /dcs04/lieber/statsgen/mnagle/mwas/full_covariates/all_hippo.csv | /dcs04/lieber/statsgen/mnagle/mwas/pheno/hippo/out/chr7_all_1100001-1120000.rds | ..//output_EXPANSE_a2_hippo/libd_chr7-chr7_all-libd_chr7-chr7_all-1100001-1120000-dynamic-1corestotal-allcorepera-20240425-161313.rds |\n",
       "| 7 | all | hippo | 1120001 | 1140000 | /dcs04/lieber/statsgen/shizhong/michael/mwas/gwas//libd_chr7.pgen | /dcs04/lieber/statsgen/shizhong/michael/mwas/pheno/hippo/out/chr7_all.rda | 159334659 | 49742 | 1490198 | 1 | /dcs04/lieber/statsgen/mnagle/mwas/full_covariates/all_hippo.csv | /dcs04/lieber/statsgen/mnagle/mwas/pheno/hippo/out/chr7_all_1120001-1140000.rds | ..//output_EXPANSE_a2_hippo/libd_chr7-chr7_all-libd_chr7-chr7_all-1120001-1140000-dynamic-1corestotal-allcorepera-20240425-161615.rds |\n",
       "| 7 | all | hippo | 1140001 | 1160000 | /dcs04/lieber/statsgen/shizhong/michael/mwas/gwas//libd_chr7.pgen | /dcs04/lieber/statsgen/shizhong/michael/mwas/pheno/hippo/out/chr7_all.rda | 159334659 | 49742 | 1490198 | 1 | /dcs04/lieber/statsgen/mnagle/mwas/full_covariates/all_hippo.csv | /dcs04/lieber/statsgen/mnagle/mwas/pheno/hippo/out/chr7_all_1140001-1160000.rds | ..//output_EXPANSE_a2_hippo/libd_chr7-chr7_all-libd_chr7-chr7_all-1140001-1160000-dynamic-1corestotal-allcorepera-20240425-161916.rds |\n",
       "| 7 | all | hippo | 1160001 | 1180000 | /dcs04/lieber/statsgen/shizhong/michael/mwas/gwas//libd_chr7.pgen | /dcs04/lieber/statsgen/shizhong/michael/mwas/pheno/hippo/out/chr7_all.rda | 159334659 | 49742 | 1490198 | 1 | /dcs04/lieber/statsgen/mnagle/mwas/full_covariates/all_hippo.csv | /dcs04/lieber/statsgen/mnagle/mwas/pheno/hippo/out/chr7_all_1160001-1180000.rds | ..//output_EXPANSE_a2_hippo/libd_chr7-chr7_all-libd_chr7-chr7_all-1160001-1180000-dynamic-1corestotal-allcorepera-20240425-162217.rds |\n",
       "| 7 | all | hippo | 1180001 | 1200000 | /dcs04/lieber/statsgen/shizhong/michael/mwas/gwas//libd_chr7.pgen | /dcs04/lieber/statsgen/shizhong/michael/mwas/pheno/hippo/out/chr7_all.rda | 159334659 | 49742 | 1490198 | 1 | /dcs04/lieber/statsgen/mnagle/mwas/full_covariates/all_hippo.csv | /dcs04/lieber/statsgen/mnagle/mwas/pheno/hippo/out/chr7_all_1180001-1200000.rds | ..//output_EXPANSE_a2_hippo/libd_chr7-chr7_all-libd_chr7-chr7_all-1180001-1200000-dynamic-1corestotal-allcorepera-20240425-162518.rds |\n",
       "| 7 | all | hippo | 1200001 | 1220000 | /dcs04/lieber/statsgen/shizhong/michael/mwas/gwas//libd_chr7.pgen | /dcs04/lieber/statsgen/shizhong/michael/mwas/pheno/hippo/out/chr7_all.rda | 159334659 | 49742 | 1490198 | 1 | /dcs04/lieber/statsgen/mnagle/mwas/full_covariates/all_hippo.csv | /dcs04/lieber/statsgen/mnagle/mwas/pheno/hippo/out/chr7_all_1200001-1220000.rds | ..//output_EXPANSE_a2_hippo/libd_chr7-chr7_all-libd_chr7-chr7_all-1200001-1220000-dynamic-1corestotal-allcorepera-20240425-162819.rds |\n",
       "| 7 | all | hippo | 1220001 | 1240000 | /dcs04/lieber/statsgen/shizhong/michael/mwas/gwas//libd_chr7.pgen | /dcs04/lieber/statsgen/shizhong/michael/mwas/pheno/hippo/out/chr7_all.rda | 159334659 | 49742 | 1490198 | 1 | /dcs04/lieber/statsgen/mnagle/mwas/full_covariates/all_hippo.csv | /dcs04/lieber/statsgen/mnagle/mwas/pheno/hippo/out/chr7_all_1220001-1240000.rds | ..//output_EXPANSE_a2_hippo/libd_chr7-chr7_all-libd_chr7-chr7_all-1220001-1240000-dynamic-1corestotal-allcorepera-20240425-163120.rds |\n",
       "| 7 | all | hippo | 1240001 | 1260000 | /dcs04/lieber/statsgen/shizhong/michael/mwas/gwas//libd_chr7.pgen | /dcs04/lieber/statsgen/shizhong/michael/mwas/pheno/hippo/out/chr7_all.rda | 159334659 | 49742 | 1490198 | 1 | /dcs04/lieber/statsgen/mnagle/mwas/full_covariates/all_hippo.csv | /dcs04/lieber/statsgen/mnagle/mwas/pheno/hippo/out/chr7_all_1240001-1260000.rds | ..//output_EXPANSE_a2_hippo/libd_chr7-chr7_all-libd_chr7-chr7_all-1240001-1260000-dynamic-1corestotal-allcorepera-20240425-163421.rds |\n",
       "| 7 | all | hippo | 1260001 | 1280000 | /dcs04/lieber/statsgen/shizhong/michael/mwas/gwas//libd_chr7.pgen | /dcs04/lieber/statsgen/shizhong/michael/mwas/pheno/hippo/out/chr7_all.rda | 159334659 | 49742 | 1490198 | 1 | /dcs04/lieber/statsgen/mnagle/mwas/full_covariates/all_hippo.csv | /dcs04/lieber/statsgen/mnagle/mwas/pheno/hippo/out/chr7_all_1260001-1280000.rds | ..//output_EXPANSE_a2_hippo/libd_chr7-chr7_all-libd_chr7-chr7_all-1260001-1280000-dynamic-1corestotal-allcorepera-20240425-163723.rds |\n",
       "| 7 | all | hippo | 1280001 | 1300000 | /dcs04/lieber/statsgen/shizhong/michael/mwas/gwas//libd_chr7.pgen | /dcs04/lieber/statsgen/shizhong/michael/mwas/pheno/hippo/out/chr7_all.rda | 159334659 | 49742 | 1490198 | 1 | /dcs04/lieber/statsgen/mnagle/mwas/full_covariates/all_hippo.csv | /dcs04/lieber/statsgen/mnagle/mwas/pheno/hippo/out/chr7_all_1280001-1300000.rds | ..//output_EXPANSE_a2_hippo/libd_chr7-chr7_all-libd_chr7-chr7_all-1280001-1300000-dynamic-1corestotal-allcorepera-20240425-164024.rds |\n",
       "| 7 | all | hippo | 1300001 | 1320000 | /dcs04/lieber/statsgen/shizhong/michael/mwas/gwas//libd_chr7.pgen | /dcs04/lieber/statsgen/shizhong/michael/mwas/pheno/hippo/out/chr7_all.rda | 159334659 | 49742 | 1490198 | 1 | /dcs04/lieber/statsgen/mnagle/mwas/full_covariates/all_hippo.csv | /dcs04/lieber/statsgen/mnagle/mwas/pheno/hippo/out/chr7_all_1300001-1320000.rds | ..//output_EXPANSE_a2_hippo/libd_chr7-chr7_all-libd_chr7-chr7_all-1300001-1320000-dynamic-1corestotal-allcorepera-20240425-164325.rds |\n",
       "| 7 | all | hippo | 1320001 | 1340000 | /dcs04/lieber/statsgen/shizhong/michael/mwas/gwas//libd_chr7.pgen | /dcs04/lieber/statsgen/shizhong/michael/mwas/pheno/hippo/out/chr7_all.rda | 159334659 | 49742 | 1490198 | 1 | /dcs04/lieber/statsgen/mnagle/mwas/full_covariates/all_hippo.csv | /dcs04/lieber/statsgen/mnagle/mwas/pheno/hippo/out/chr7_all_1320001-1340000.rds | ..//output_EXPANSE_a2_hippo/libd_chr7-chr7_all-libd_chr7-chr7_all-1320001-1340000-dynamic-1corestotal-allcorepera-20240425-164626.rds |\n",
       "| 7 | all | hippo | 1340001 | 1360000 | /dcs04/lieber/statsgen/shizhong/michael/mwas/gwas//libd_chr7.pgen | /dcs04/lieber/statsgen/shizhong/michael/mwas/pheno/hippo/out/chr7_all.rda | 159334659 | 49742 | 1490198 | 1 | /dcs04/lieber/statsgen/mnagle/mwas/full_covariates/all_hippo.csv | /dcs04/lieber/statsgen/mnagle/mwas/pheno/hippo/out/chr7_all_1340001-1360000.rds | ..//output_EXPANSE_a2_hippo/libd_chr7-chr7_all-libd_chr7-chr7_all-1340001-1360000-dynamic-1corestotal-allcorepera-20240425-164927.rds |\n",
       "| 7 | all | hippo | 1360001 | 1380000 | /dcs04/lieber/statsgen/shizhong/michael/mwas/gwas//libd_chr7.pgen | /dcs04/lieber/statsgen/shizhong/michael/mwas/pheno/hippo/out/chr7_all.rda | 159334659 | 49742 | 1490198 | 1 | /dcs04/lieber/statsgen/mnagle/mwas/full_covariates/all_hippo.csv | /dcs04/lieber/statsgen/mnagle/mwas/pheno/hippo/out/chr7_all_1360001-1380000.rds | ..//output_EXPANSE_a2_hippo/libd_chr7-chr7_all-libd_chr7-chr7_all-1360001-1380000-dynamic-1corestotal-allcorepera-20240425-165228.rds |\n",
       "| 7 | all | hippo | 1380001 | 1400000 | /dcs04/lieber/statsgen/shizhong/michael/mwas/gwas//libd_chr7.pgen | /dcs04/lieber/statsgen/shizhong/michael/mwas/pheno/hippo/out/chr7_all.rda | 159334659 | 49742 | 1490198 | 1 | /dcs04/lieber/statsgen/mnagle/mwas/full_covariates/all_hippo.csv | /dcs04/lieber/statsgen/mnagle/mwas/pheno/hippo/out/chr7_all_1380001-1400000.rds | ..//output_EXPANSE_a2_hippo/libd_chr7-chr7_all-libd_chr7-chr7_all-1380001-1400000-dynamic-1corestotal-allcorepera-20240425-165530.rds |\n",
       "| 7 | all | hippo | 1400001 | 1420000 | /dcs04/lieber/statsgen/shizhong/michael/mwas/gwas//libd_chr7.pgen | /dcs04/lieber/statsgen/shizhong/michael/mwas/pheno/hippo/out/chr7_all.rda | 159334659 | 49742 | 1490198 | 1 | /dcs04/lieber/statsgen/mnagle/mwas/full_covariates/all_hippo.csv | /dcs04/lieber/statsgen/mnagle/mwas/pheno/hippo/out/chr7_all_1400001-1420000.rds | ..//output_EXPANSE_a2_hippo/libd_chr7-chr7_all-libd_chr7-chr7_all-1400001-1420000-dynamic-1corestotal-allcorepera-20240425-165831.rds |\n",
       "| 7 | all | hippo | 1420001 | 1440000 | /dcs04/lieber/statsgen/shizhong/michael/mwas/gwas//libd_chr7.pgen | /dcs04/lieber/statsgen/shizhong/michael/mwas/pheno/hippo/out/chr7_all.rda | 159334659 | 49742 | 1490198 | 1 | /dcs04/lieber/statsgen/mnagle/mwas/full_covariates/all_hippo.csv | /dcs04/lieber/statsgen/mnagle/mwas/pheno/hippo/out/chr7_all_1420001-1440000.rds | ..//output_EXPANSE_a2_hippo/libd_chr7-chr7_all-libd_chr7-chr7_all-1420001-1440000-dynamic-1corestotal-allcorepera-20240425-170132.rds |\n",
       "| 7 | all | hippo | 1440001 | 1460000 | /dcs04/lieber/statsgen/shizhong/michael/mwas/gwas//libd_chr7.pgen | /dcs04/lieber/statsgen/shizhong/michael/mwas/pheno/hippo/out/chr7_all.rda | 159334659 | 49742 | 1490198 | 1 | /dcs04/lieber/statsgen/mnagle/mwas/full_covariates/all_hippo.csv | /dcs04/lieber/statsgen/mnagle/mwas/pheno/hippo/out/chr7_all_1440001-1460000.rds | ..//output_EXPANSE_a2_hippo/libd_chr7-chr7_all-libd_chr7-chr7_all-1440001-1460000-dynamic-1corestotal-allcorepera-20240425-170433.rds |\n",
       "| 7 | all | hippo | 1460001 | 1480000 | /dcs04/lieber/statsgen/shizhong/michael/mwas/gwas//libd_chr7.pgen | /dcs04/lieber/statsgen/shizhong/michael/mwas/pheno/hippo/out/chr7_all.rda | 159334659 | 49742 | 1490198 | 1 | /dcs04/lieber/statsgen/mnagle/mwas/full_covariates/all_hippo.csv | /dcs04/lieber/statsgen/mnagle/mwas/pheno/hippo/out/chr7_all_1460001-1480000.rds | ..//output_EXPANSE_a2_hippo/libd_chr7-chr7_all-libd_chr7-chr7_all-1460001-1480000-dynamic-1corestotal-allcorepera-20240425-170734.rds |\n",
       "| 7 | all | hippo | 1480001 | 1490198 | /dcs04/lieber/statsgen/shizhong/michael/mwas/gwas//libd_chr7.pgen | /dcs04/lieber/statsgen/shizhong/michael/mwas/pheno/hippo/out/chr7_all.rda | 159334659 | 49742 | 1490198 | 1 | /dcs04/lieber/statsgen/mnagle/mwas/full_covariates/all_hippo.csv | /dcs04/lieber/statsgen/mnagle/mwas/pheno/hippo/out/chr7_all_1480001-1490198.rds | ..//output_EXPANSE_a2_hippo/libd_chr7-chr7_all-libd_chr7-chr7_all-1480001-1490198-dynamic-1corestotal-allcorepera-20240425-171035.rds |\n",
       "\n"
      ],
      "text/plain": [
       "    Chr population region chunk_start chunk_end\n",
       "1   7   AA         caud        1       20000   \n",
       "2   7   AA         caud    20001       40000   \n",
       "3   7   AA         caud    40001       60000   \n",
       "4   7   AA         caud    60001       80000   \n",
       "5   7   AA         caud    80001      100000   \n",
       "6   7   AA         caud   100001      120000   \n",
       "7   7   AA         caud   120001      140000   \n",
       "8   7   AA         caud   140001      160000   \n",
       "9   7   AA         caud   160001      180000   \n",
       "10  7   AA         caud   180001      200000   \n",
       "11  7   AA         caud   200001      220000   \n",
       "12  7   AA         caud   220001      240000   \n",
       "13  7   AA         caud   240001      260000   \n",
       "14  7   AA         caud   260001      280000   \n",
       "15  7   AA         caud   280001      300000   \n",
       "16  7   AA         caud   300001      320000   \n",
       "17  7   AA         caud   320001      340000   \n",
       "18  7   AA         caud   340001      360000   \n",
       "19  7   AA         caud   360001      380000   \n",
       "20  7   AA         caud   380001      400000   \n",
       "21  7   AA         caud   400001      420000   \n",
       "22  7   AA         caud   420001      440000   \n",
       "23  7   AA         caud   440001      460000   \n",
       "24  7   AA         caud   460001      480000   \n",
       "25  7   AA         caud   480001      500000   \n",
       "26  7   AA         caud   500001      520000   \n",
       "27  7   AA         caud   520001      540000   \n",
       "28  7   AA         caud   540001      560000   \n",
       "29  7   AA         caud   560001      580000   \n",
       "30  7   AA         caud   580001      600000   \n",
       "⋮   ⋮   ⋮          ⋮      ⋮           ⋮        \n",
       "648 7   all        hippo   900001      920000  \n",
       "649 7   all        hippo   920001      940000  \n",
       "650 7   all        hippo   940001      960000  \n",
       "651 7   all        hippo   960001      980000  \n",
       "652 7   all        hippo   980001     1000000  \n",
       "653 7   all        hippo  1000001     1020000  \n",
       "654 7   all        hippo  1020001     1040000  \n",
       "655 7   all        hippo  1040001     1060000  \n",
       "656 7   all        hippo  1060001     1080000  \n",
       "657 7   all        hippo  1080001     1100000  \n",
       "658 7   all        hippo  1100001     1120000  \n",
       "659 7   all        hippo  1120001     1140000  \n",
       "660 7   all        hippo  1140001     1160000  \n",
       "661 7   all        hippo  1160001     1180000  \n",
       "662 7   all        hippo  1180001     1200000  \n",
       "663 7   all        hippo  1200001     1220000  \n",
       "664 7   all        hippo  1220001     1240000  \n",
       "665 7   all        hippo  1240001     1260000  \n",
       "666 7   all        hippo  1260001     1280000  \n",
       "667 7   all        hippo  1280001     1300000  \n",
       "668 7   all        hippo  1300001     1320000  \n",
       "669 7   all        hippo  1320001     1340000  \n",
       "670 7   all        hippo  1340001     1360000  \n",
       "671 7   all        hippo  1360001     1380000  \n",
       "672 7   all        hippo  1380001     1400000  \n",
       "673 7   all        hippo  1400001     1420000  \n",
       "674 7   all        hippo  1420001     1440000  \n",
       "675 7   all        hippo  1440001     1460000  \n",
       "676 7   all        hippo  1460001     1480000  \n",
       "677 7   all        hippo  1480001     1490198  \n",
       "    SNP_data                                                         \n",
       "1   /dcs04/lieber/statsgen/shizhong/michael/mwas/gwas//libd_chr7.pgen\n",
       "2   /dcs04/lieber/statsgen/shizhong/michael/mwas/gwas//libd_chr7.pgen\n",
       "3   /dcs04/lieber/statsgen/shizhong/michael/mwas/gwas//libd_chr7.pgen\n",
       "4   /dcs04/lieber/statsgen/shizhong/michael/mwas/gwas//libd_chr7.pgen\n",
       "5   /dcs04/lieber/statsgen/shizhong/michael/mwas/gwas//libd_chr7.pgen\n",
       "6   /dcs04/lieber/statsgen/shizhong/michael/mwas/gwas//libd_chr7.pgen\n",
       "7   /dcs04/lieber/statsgen/shizhong/michael/mwas/gwas//libd_chr7.pgen\n",
       "8   /dcs04/lieber/statsgen/shizhong/michael/mwas/gwas//libd_chr7.pgen\n",
       "9   /dcs04/lieber/statsgen/shizhong/michael/mwas/gwas//libd_chr7.pgen\n",
       "10  /dcs04/lieber/statsgen/shizhong/michael/mwas/gwas//libd_chr7.pgen\n",
       "11  /dcs04/lieber/statsgen/shizhong/michael/mwas/gwas//libd_chr7.pgen\n",
       "12  /dcs04/lieber/statsgen/shizhong/michael/mwas/gwas//libd_chr7.pgen\n",
       "13  /dcs04/lieber/statsgen/shizhong/michael/mwas/gwas//libd_chr7.pgen\n",
       "14  /dcs04/lieber/statsgen/shizhong/michael/mwas/gwas//libd_chr7.pgen\n",
       "15  /dcs04/lieber/statsgen/shizhong/michael/mwas/gwas//libd_chr7.pgen\n",
       "16  /dcs04/lieber/statsgen/shizhong/michael/mwas/gwas//libd_chr7.pgen\n",
       "17  /dcs04/lieber/statsgen/shizhong/michael/mwas/gwas//libd_chr7.pgen\n",
       "18  /dcs04/lieber/statsgen/shizhong/michael/mwas/gwas//libd_chr7.pgen\n",
       "19  /dcs04/lieber/statsgen/shizhong/michael/mwas/gwas//libd_chr7.pgen\n",
       "20  /dcs04/lieber/statsgen/shizhong/michael/mwas/gwas//libd_chr7.pgen\n",
       "21  /dcs04/lieber/statsgen/shizhong/michael/mwas/gwas//libd_chr7.pgen\n",
       "22  /dcs04/lieber/statsgen/shizhong/michael/mwas/gwas//libd_chr7.pgen\n",
       "23  /dcs04/lieber/statsgen/shizhong/michael/mwas/gwas//libd_chr7.pgen\n",
       "24  /dcs04/lieber/statsgen/shizhong/michael/mwas/gwas//libd_chr7.pgen\n",
       "25  /dcs04/lieber/statsgen/shizhong/michael/mwas/gwas//libd_chr7.pgen\n",
       "26  /dcs04/lieber/statsgen/shizhong/michael/mwas/gwas//libd_chr7.pgen\n",
       "27  /dcs04/lieber/statsgen/shizhong/michael/mwas/gwas//libd_chr7.pgen\n",
       "28  /dcs04/lieber/statsgen/shizhong/michael/mwas/gwas//libd_chr7.pgen\n",
       "29  /dcs04/lieber/statsgen/shizhong/michael/mwas/gwas//libd_chr7.pgen\n",
       "30  /dcs04/lieber/statsgen/shizhong/michael/mwas/gwas//libd_chr7.pgen\n",
       "⋮   ⋮                                                                \n",
       "648 /dcs04/lieber/statsgen/shizhong/michael/mwas/gwas//libd_chr7.pgen\n",
       "649 /dcs04/lieber/statsgen/shizhong/michael/mwas/gwas//libd_chr7.pgen\n",
       "650 /dcs04/lieber/statsgen/shizhong/michael/mwas/gwas//libd_chr7.pgen\n",
       "651 /dcs04/lieber/statsgen/shizhong/michael/mwas/gwas//libd_chr7.pgen\n",
       "652 /dcs04/lieber/statsgen/shizhong/michael/mwas/gwas//libd_chr7.pgen\n",
       "653 /dcs04/lieber/statsgen/shizhong/michael/mwas/gwas//libd_chr7.pgen\n",
       "654 /dcs04/lieber/statsgen/shizhong/michael/mwas/gwas//libd_chr7.pgen\n",
       "655 /dcs04/lieber/statsgen/shizhong/michael/mwas/gwas//libd_chr7.pgen\n",
       "656 /dcs04/lieber/statsgen/shizhong/michael/mwas/gwas//libd_chr7.pgen\n",
       "657 /dcs04/lieber/statsgen/shizhong/michael/mwas/gwas//libd_chr7.pgen\n",
       "658 /dcs04/lieber/statsgen/shizhong/michael/mwas/gwas//libd_chr7.pgen\n",
       "659 /dcs04/lieber/statsgen/shizhong/michael/mwas/gwas//libd_chr7.pgen\n",
       "660 /dcs04/lieber/statsgen/shizhong/michael/mwas/gwas//libd_chr7.pgen\n",
       "661 /dcs04/lieber/statsgen/shizhong/michael/mwas/gwas//libd_chr7.pgen\n",
       "662 /dcs04/lieber/statsgen/shizhong/michael/mwas/gwas//libd_chr7.pgen\n",
       "663 /dcs04/lieber/statsgen/shizhong/michael/mwas/gwas//libd_chr7.pgen\n",
       "664 /dcs04/lieber/statsgen/shizhong/michael/mwas/gwas//libd_chr7.pgen\n",
       "665 /dcs04/lieber/statsgen/shizhong/michael/mwas/gwas//libd_chr7.pgen\n",
       "666 /dcs04/lieber/statsgen/shizhong/michael/mwas/gwas//libd_chr7.pgen\n",
       "667 /dcs04/lieber/statsgen/shizhong/michael/mwas/gwas//libd_chr7.pgen\n",
       "668 /dcs04/lieber/statsgen/shizhong/michael/mwas/gwas//libd_chr7.pgen\n",
       "669 /dcs04/lieber/statsgen/shizhong/michael/mwas/gwas//libd_chr7.pgen\n",
       "670 /dcs04/lieber/statsgen/shizhong/michael/mwas/gwas//libd_chr7.pgen\n",
       "671 /dcs04/lieber/statsgen/shizhong/michael/mwas/gwas//libd_chr7.pgen\n",
       "672 /dcs04/lieber/statsgen/shizhong/michael/mwas/gwas//libd_chr7.pgen\n",
       "673 /dcs04/lieber/statsgen/shizhong/michael/mwas/gwas//libd_chr7.pgen\n",
       "674 /dcs04/lieber/statsgen/shizhong/michael/mwas/gwas//libd_chr7.pgen\n",
       "675 /dcs04/lieber/statsgen/shizhong/michael/mwas/gwas//libd_chr7.pgen\n",
       "676 /dcs04/lieber/statsgen/shizhong/michael/mwas/gwas//libd_chr7.pgen\n",
       "677 /dcs04/lieber/statsgen/shizhong/michael/mwas/gwas//libd_chr7.pgen\n",
       "    methylation_data                                                         \n",
       "1   /dcs04/lieber/statsgen/shizhong/michael/mwas/pheno/caud/out/chr7_AA.rda  \n",
       "2   /dcs04/lieber/statsgen/shizhong/michael/mwas/pheno/caud/out/chr7_AA.rda  \n",
       "3   /dcs04/lieber/statsgen/shizhong/michael/mwas/pheno/caud/out/chr7_AA.rda  \n",
       "4   /dcs04/lieber/statsgen/shizhong/michael/mwas/pheno/caud/out/chr7_AA.rda  \n",
       "5   /dcs04/lieber/statsgen/shizhong/michael/mwas/pheno/caud/out/chr7_AA.rda  \n",
       "6   /dcs04/lieber/statsgen/shizhong/michael/mwas/pheno/caud/out/chr7_AA.rda  \n",
       "7   /dcs04/lieber/statsgen/shizhong/michael/mwas/pheno/caud/out/chr7_AA.rda  \n",
       "8   /dcs04/lieber/statsgen/shizhong/michael/mwas/pheno/caud/out/chr7_AA.rda  \n",
       "9   /dcs04/lieber/statsgen/shizhong/michael/mwas/pheno/caud/out/chr7_AA.rda  \n",
       "10  /dcs04/lieber/statsgen/shizhong/michael/mwas/pheno/caud/out/chr7_AA.rda  \n",
       "11  /dcs04/lieber/statsgen/shizhong/michael/mwas/pheno/caud/out/chr7_AA.rda  \n",
       "12  /dcs04/lieber/statsgen/shizhong/michael/mwas/pheno/caud/out/chr7_AA.rda  \n",
       "13  /dcs04/lieber/statsgen/shizhong/michael/mwas/pheno/caud/out/chr7_AA.rda  \n",
       "14  /dcs04/lieber/statsgen/shizhong/michael/mwas/pheno/caud/out/chr7_AA.rda  \n",
       "15  /dcs04/lieber/statsgen/shizhong/michael/mwas/pheno/caud/out/chr7_AA.rda  \n",
       "16  /dcs04/lieber/statsgen/shizhong/michael/mwas/pheno/caud/out/chr7_AA.rda  \n",
       "17  /dcs04/lieber/statsgen/shizhong/michael/mwas/pheno/caud/out/chr7_AA.rda  \n",
       "18  /dcs04/lieber/statsgen/shizhong/michael/mwas/pheno/caud/out/chr7_AA.rda  \n",
       "19  /dcs04/lieber/statsgen/shizhong/michael/mwas/pheno/caud/out/chr7_AA.rda  \n",
       "20  /dcs04/lieber/statsgen/shizhong/michael/mwas/pheno/caud/out/chr7_AA.rda  \n",
       "21  /dcs04/lieber/statsgen/shizhong/michael/mwas/pheno/caud/out/chr7_AA.rda  \n",
       "22  /dcs04/lieber/statsgen/shizhong/michael/mwas/pheno/caud/out/chr7_AA.rda  \n",
       "23  /dcs04/lieber/statsgen/shizhong/michael/mwas/pheno/caud/out/chr7_AA.rda  \n",
       "24  /dcs04/lieber/statsgen/shizhong/michael/mwas/pheno/caud/out/chr7_AA.rda  \n",
       "25  /dcs04/lieber/statsgen/shizhong/michael/mwas/pheno/caud/out/chr7_AA.rda  \n",
       "26  /dcs04/lieber/statsgen/shizhong/michael/mwas/pheno/caud/out/chr7_AA.rda  \n",
       "27  /dcs04/lieber/statsgen/shizhong/michael/mwas/pheno/caud/out/chr7_AA.rda  \n",
       "28  /dcs04/lieber/statsgen/shizhong/michael/mwas/pheno/caud/out/chr7_AA.rda  \n",
       "29  /dcs04/lieber/statsgen/shizhong/michael/mwas/pheno/caud/out/chr7_AA.rda  \n",
       "30  /dcs04/lieber/statsgen/shizhong/michael/mwas/pheno/caud/out/chr7_AA.rda  \n",
       "⋮   ⋮                                                                        \n",
       "648 /dcs04/lieber/statsgen/shizhong/michael/mwas/pheno/hippo/out/chr7_all.rda\n",
       "649 /dcs04/lieber/statsgen/shizhong/michael/mwas/pheno/hippo/out/chr7_all.rda\n",
       "650 /dcs04/lieber/statsgen/shizhong/michael/mwas/pheno/hippo/out/chr7_all.rda\n",
       "651 /dcs04/lieber/statsgen/shizhong/michael/mwas/pheno/hippo/out/chr7_all.rda\n",
       "652 /dcs04/lieber/statsgen/shizhong/michael/mwas/pheno/hippo/out/chr7_all.rda\n",
       "653 /dcs04/lieber/statsgen/shizhong/michael/mwas/pheno/hippo/out/chr7_all.rda\n",
       "654 /dcs04/lieber/statsgen/shizhong/michael/mwas/pheno/hippo/out/chr7_all.rda\n",
       "655 /dcs04/lieber/statsgen/shizhong/michael/mwas/pheno/hippo/out/chr7_all.rda\n",
       "656 /dcs04/lieber/statsgen/shizhong/michael/mwas/pheno/hippo/out/chr7_all.rda\n",
       "657 /dcs04/lieber/statsgen/shizhong/michael/mwas/pheno/hippo/out/chr7_all.rda\n",
       "658 /dcs04/lieber/statsgen/shizhong/michael/mwas/pheno/hippo/out/chr7_all.rda\n",
       "659 /dcs04/lieber/statsgen/shizhong/michael/mwas/pheno/hippo/out/chr7_all.rda\n",
       "660 /dcs04/lieber/statsgen/shizhong/michael/mwas/pheno/hippo/out/chr7_all.rda\n",
       "661 /dcs04/lieber/statsgen/shizhong/michael/mwas/pheno/hippo/out/chr7_all.rda\n",
       "662 /dcs04/lieber/statsgen/shizhong/michael/mwas/pheno/hippo/out/chr7_all.rda\n",
       "663 /dcs04/lieber/statsgen/shizhong/michael/mwas/pheno/hippo/out/chr7_all.rda\n",
       "664 /dcs04/lieber/statsgen/shizhong/michael/mwas/pheno/hippo/out/chr7_all.rda\n",
       "665 /dcs04/lieber/statsgen/shizhong/michael/mwas/pheno/hippo/out/chr7_all.rda\n",
       "666 /dcs04/lieber/statsgen/shizhong/michael/mwas/pheno/hippo/out/chr7_all.rda\n",
       "667 /dcs04/lieber/statsgen/shizhong/michael/mwas/pheno/hippo/out/chr7_all.rda\n",
       "668 /dcs04/lieber/statsgen/shizhong/michael/mwas/pheno/hippo/out/chr7_all.rda\n",
       "669 /dcs04/lieber/statsgen/shizhong/michael/mwas/pheno/hippo/out/chr7_all.rda\n",
       "670 /dcs04/lieber/statsgen/shizhong/michael/mwas/pheno/hippo/out/chr7_all.rda\n",
       "671 /dcs04/lieber/statsgen/shizhong/michael/mwas/pheno/hippo/out/chr7_all.rda\n",
       "672 /dcs04/lieber/statsgen/shizhong/michael/mwas/pheno/hippo/out/chr7_all.rda\n",
       "673 /dcs04/lieber/statsgen/shizhong/michael/mwas/pheno/hippo/out/chr7_all.rda\n",
       "674 /dcs04/lieber/statsgen/shizhong/michael/mwas/pheno/hippo/out/chr7_all.rda\n",
       "675 /dcs04/lieber/statsgen/shizhong/michael/mwas/pheno/hippo/out/chr7_all.rda\n",
       "676 /dcs04/lieber/statsgen/shizhong/michael/mwas/pheno/hippo/out/chr7_all.rda\n",
       "677 /dcs04/lieber/statsgen/shizhong/michael/mwas/pheno/hippo/out/chr7_all.rda\n",
       "    last_meth_value_with_SNP_coverage first_meth_value_with_SNP_coverage\n",
       "1   159334659                         49742                             \n",
       "2   159334659                         49742                             \n",
       "3   159334659                         49742                             \n",
       "4   159334659                         49742                             \n",
       "5   159334659                         49742                             \n",
       "6   159334659                         49742                             \n",
       "7   159334659                         49742                             \n",
       "8   159334659                         49742                             \n",
       "9   159334659                         49742                             \n",
       "10  159334659                         49742                             \n",
       "11  159334659                         49742                             \n",
       "12  159334659                         49742                             \n",
       "13  159334659                         49742                             \n",
       "14  159334659                         49742                             \n",
       "15  159334659                         49742                             \n",
       "16  159334659                         49742                             \n",
       "17  159334659                         49742                             \n",
       "18  159334659                         49742                             \n",
       "19  159334659                         49742                             \n",
       "20  159334659                         49742                             \n",
       "21  159334659                         49742                             \n",
       "22  159334659                         49742                             \n",
       "23  159334659                         49742                             \n",
       "24  159334659                         49742                             \n",
       "25  159334659                         49742                             \n",
       "26  159334659                         49742                             \n",
       "27  159334659                         49742                             \n",
       "28  159334659                         49742                             \n",
       "29  159334659                         49742                             \n",
       "30  159334659                         49742                             \n",
       "⋮   ⋮                                 ⋮                                 \n",
       "648 159334659                         49742                             \n",
       "649 159334659                         49742                             \n",
       "650 159334659                         49742                             \n",
       "651 159334659                         49742                             \n",
       "652 159334659                         49742                             \n",
       "653 159334659                         49742                             \n",
       "654 159334659                         49742                             \n",
       "655 159334659                         49742                             \n",
       "656 159334659                         49742                             \n",
       "657 159334659                         49742                             \n",
       "658 159334659                         49742                             \n",
       "659 159334659                         49742                             \n",
       "660 159334659                         49742                             \n",
       "661 159334659                         49742                             \n",
       "662 159334659                         49742                             \n",
       "663 159334659                         49742                             \n",
       "664 159334659                         49742                             \n",
       "665 159334659                         49742                             \n",
       "666 159334659                         49742                             \n",
       "667 159334659                         49742                             \n",
       "668 159334659                         49742                             \n",
       "669 159334659                         49742                             \n",
       "670 159334659                         49742                             \n",
       "671 159334659                         49742                             \n",
       "672 159334659                         49742                             \n",
       "673 159334659                         49742                             \n",
       "674 159334659                         49742                             \n",
       "675 159334659                         49742                             \n",
       "676 159334659                         49742                             \n",
       "677 159334659                         49742                             \n",
       "    last_meth_index_with_SNP_coverage first_meth_index_with_SNP_coverage\n",
       "1   1490198                           1                                 \n",
       "2   1490198                           1                                 \n",
       "3   1490198                           1                                 \n",
       "4   1490198                           1                                 \n",
       "5   1490198                           1                                 \n",
       "6   1490198                           1                                 \n",
       "7   1490198                           1                                 \n",
       "8   1490198                           1                                 \n",
       "9   1490198                           1                                 \n",
       "10  1490198                           1                                 \n",
       "11  1490198                           1                                 \n",
       "12  1490198                           1                                 \n",
       "13  1490198                           1                                 \n",
       "14  1490198                           1                                 \n",
       "15  1490198                           1                                 \n",
       "16  1490198                           1                                 \n",
       "17  1490198                           1                                 \n",
       "18  1490198                           1                                 \n",
       "19  1490198                           1                                 \n",
       "20  1490198                           1                                 \n",
       "21  1490198                           1                                 \n",
       "22  1490198                           1                                 \n",
       "23  1490198                           1                                 \n",
       "24  1490198                           1                                 \n",
       "25  1490198                           1                                 \n",
       "26  1490198                           1                                 \n",
       "27  1490198                           1                                 \n",
       "28  1490198                           1                                 \n",
       "29  1490198                           1                                 \n",
       "30  1490198                           1                                 \n",
       "⋮   ⋮                                 ⋮                                 \n",
       "648 1490198                           1                                 \n",
       "649 1490198                           1                                 \n",
       "650 1490198                           1                                 \n",
       "651 1490198                           1                                 \n",
       "652 1490198                           1                                 \n",
       "653 1490198                           1                                 \n",
       "654 1490198                           1                                 \n",
       "655 1490198                           1                                 \n",
       "656 1490198                           1                                 \n",
       "657 1490198                           1                                 \n",
       "658 1490198                           1                                 \n",
       "659 1490198                           1                                 \n",
       "660 1490198                           1                                 \n",
       "661 1490198                           1                                 \n",
       "662 1490198                           1                                 \n",
       "663 1490198                           1                                 \n",
       "664 1490198                           1                                 \n",
       "665 1490198                           1                                 \n",
       "666 1490198                           1                                 \n",
       "667 1490198                           1                                 \n",
       "668 1490198                           1                                 \n",
       "669 1490198                           1                                 \n",
       "670 1490198                           1                                 \n",
       "671 1490198                           1                                 \n",
       "672 1490198                           1                                 \n",
       "673 1490198                           1                                 \n",
       "674 1490198                           1                                 \n",
       "675 1490198                           1                                 \n",
       "676 1490198                           1                                 \n",
       "677 1490198                           1                                 \n",
       "    cov_file                                                        \n",
       "1   /dcs04/lieber/statsgen/mnagle/mwas/full_covariates/AA_caud.csv  \n",
       "2   /dcs04/lieber/statsgen/mnagle/mwas/full_covariates/AA_caud.csv  \n",
       "3   /dcs04/lieber/statsgen/mnagle/mwas/full_covariates/AA_caud.csv  \n",
       "4   /dcs04/lieber/statsgen/mnagle/mwas/full_covariates/AA_caud.csv  \n",
       "5   /dcs04/lieber/statsgen/mnagle/mwas/full_covariates/AA_caud.csv  \n",
       "6   /dcs04/lieber/statsgen/mnagle/mwas/full_covariates/AA_caud.csv  \n",
       "7   /dcs04/lieber/statsgen/mnagle/mwas/full_covariates/AA_caud.csv  \n",
       "8   /dcs04/lieber/statsgen/mnagle/mwas/full_covariates/AA_caud.csv  \n",
       "9   /dcs04/lieber/statsgen/mnagle/mwas/full_covariates/AA_caud.csv  \n",
       "10  /dcs04/lieber/statsgen/mnagle/mwas/full_covariates/AA_caud.csv  \n",
       "11  /dcs04/lieber/statsgen/mnagle/mwas/full_covariates/AA_caud.csv  \n",
       "12  /dcs04/lieber/statsgen/mnagle/mwas/full_covariates/AA_caud.csv  \n",
       "13  /dcs04/lieber/statsgen/mnagle/mwas/full_covariates/AA_caud.csv  \n",
       "14  /dcs04/lieber/statsgen/mnagle/mwas/full_covariates/AA_caud.csv  \n",
       "15  /dcs04/lieber/statsgen/mnagle/mwas/full_covariates/AA_caud.csv  \n",
       "16  /dcs04/lieber/statsgen/mnagle/mwas/full_covariates/AA_caud.csv  \n",
       "17  /dcs04/lieber/statsgen/mnagle/mwas/full_covariates/AA_caud.csv  \n",
       "18  /dcs04/lieber/statsgen/mnagle/mwas/full_covariates/AA_caud.csv  \n",
       "19  /dcs04/lieber/statsgen/mnagle/mwas/full_covariates/AA_caud.csv  \n",
       "20  /dcs04/lieber/statsgen/mnagle/mwas/full_covariates/AA_caud.csv  \n",
       "21  /dcs04/lieber/statsgen/mnagle/mwas/full_covariates/AA_caud.csv  \n",
       "22  /dcs04/lieber/statsgen/mnagle/mwas/full_covariates/AA_caud.csv  \n",
       "23  /dcs04/lieber/statsgen/mnagle/mwas/full_covariates/AA_caud.csv  \n",
       "24  /dcs04/lieber/statsgen/mnagle/mwas/full_covariates/AA_caud.csv  \n",
       "25  /dcs04/lieber/statsgen/mnagle/mwas/full_covariates/AA_caud.csv  \n",
       "26  /dcs04/lieber/statsgen/mnagle/mwas/full_covariates/AA_caud.csv  \n",
       "27  /dcs04/lieber/statsgen/mnagle/mwas/full_covariates/AA_caud.csv  \n",
       "28  /dcs04/lieber/statsgen/mnagle/mwas/full_covariates/AA_caud.csv  \n",
       "29  /dcs04/lieber/statsgen/mnagle/mwas/full_covariates/AA_caud.csv  \n",
       "30  /dcs04/lieber/statsgen/mnagle/mwas/full_covariates/AA_caud.csv  \n",
       "⋮   ⋮                                                               \n",
       "648 /dcs04/lieber/statsgen/mnagle/mwas/full_covariates/all_hippo.csv\n",
       "649 /dcs04/lieber/statsgen/mnagle/mwas/full_covariates/all_hippo.csv\n",
       "650 /dcs04/lieber/statsgen/mnagle/mwas/full_covariates/all_hippo.csv\n",
       "651 /dcs04/lieber/statsgen/mnagle/mwas/full_covariates/all_hippo.csv\n",
       "652 /dcs04/lieber/statsgen/mnagle/mwas/full_covariates/all_hippo.csv\n",
       "653 /dcs04/lieber/statsgen/mnagle/mwas/full_covariates/all_hippo.csv\n",
       "654 /dcs04/lieber/statsgen/mnagle/mwas/full_covariates/all_hippo.csv\n",
       "655 /dcs04/lieber/statsgen/mnagle/mwas/full_covariates/all_hippo.csv\n",
       "656 /dcs04/lieber/statsgen/mnagle/mwas/full_covariates/all_hippo.csv\n",
       "657 /dcs04/lieber/statsgen/mnagle/mwas/full_covariates/all_hippo.csv\n",
       "658 /dcs04/lieber/statsgen/mnagle/mwas/full_covariates/all_hippo.csv\n",
       "659 /dcs04/lieber/statsgen/mnagle/mwas/full_covariates/all_hippo.csv\n",
       "660 /dcs04/lieber/statsgen/mnagle/mwas/full_covariates/all_hippo.csv\n",
       "661 /dcs04/lieber/statsgen/mnagle/mwas/full_covariates/all_hippo.csv\n",
       "662 /dcs04/lieber/statsgen/mnagle/mwas/full_covariates/all_hippo.csv\n",
       "663 /dcs04/lieber/statsgen/mnagle/mwas/full_covariates/all_hippo.csv\n",
       "664 /dcs04/lieber/statsgen/mnagle/mwas/full_covariates/all_hippo.csv\n",
       "665 /dcs04/lieber/statsgen/mnagle/mwas/full_covariates/all_hippo.csv\n",
       "666 /dcs04/lieber/statsgen/mnagle/mwas/full_covariates/all_hippo.csv\n",
       "667 /dcs04/lieber/statsgen/mnagle/mwas/full_covariates/all_hippo.csv\n",
       "668 /dcs04/lieber/statsgen/mnagle/mwas/full_covariates/all_hippo.csv\n",
       "669 /dcs04/lieber/statsgen/mnagle/mwas/full_covariates/all_hippo.csv\n",
       "670 /dcs04/lieber/statsgen/mnagle/mwas/full_covariates/all_hippo.csv\n",
       "671 /dcs04/lieber/statsgen/mnagle/mwas/full_covariates/all_hippo.csv\n",
       "672 /dcs04/lieber/statsgen/mnagle/mwas/full_covariates/all_hippo.csv\n",
       "673 /dcs04/lieber/statsgen/mnagle/mwas/full_covariates/all_hippo.csv\n",
       "674 /dcs04/lieber/statsgen/mnagle/mwas/full_covariates/all_hippo.csv\n",
       "675 /dcs04/lieber/statsgen/mnagle/mwas/full_covariates/all_hippo.csv\n",
       "676 /dcs04/lieber/statsgen/mnagle/mwas/full_covariates/all_hippo.csv\n",
       "677 /dcs04/lieber/statsgen/mnagle/mwas/full_covariates/all_hippo.csv\n",
       "    modified_methylation_data                                                      \n",
       "1   /dcs04/lieber/statsgen/mnagle/mwas/pheno/caud/out/chr7_AA_1-20000.rds          \n",
       "2   /dcs04/lieber/statsgen/mnagle/mwas/pheno/caud/out/chr7_AA_20001-40000.rds      \n",
       "3   /dcs04/lieber/statsgen/mnagle/mwas/pheno/caud/out/chr7_AA_40001-60000.rds      \n",
       "4   /dcs04/lieber/statsgen/mnagle/mwas/pheno/caud/out/chr7_AA_60001-80000.rds      \n",
       "5   /dcs04/lieber/statsgen/mnagle/mwas/pheno/caud/out/chr7_AA_80001-1e+05.rds      \n",
       "6   /dcs04/lieber/statsgen/mnagle/mwas/pheno/caud/out/chr7_AA_100001-120000.rds    \n",
       "7   /dcs04/lieber/statsgen/mnagle/mwas/pheno/caud/out/chr7_AA_120001-140000.rds    \n",
       "8   /dcs04/lieber/statsgen/mnagle/mwas/pheno/caud/out/chr7_AA_140001-160000.rds    \n",
       "9   /dcs04/lieber/statsgen/mnagle/mwas/pheno/caud/out/chr7_AA_160001-180000.rds    \n",
       "10  /dcs04/lieber/statsgen/mnagle/mwas/pheno/caud/out/chr7_AA_180001-2e+05.rds     \n",
       "11  /dcs04/lieber/statsgen/mnagle/mwas/pheno/caud/out/chr7_AA_200001-220000.rds    \n",
       "12  /dcs04/lieber/statsgen/mnagle/mwas/pheno/caud/out/chr7_AA_220001-240000.rds    \n",
       "13  /dcs04/lieber/statsgen/mnagle/mwas/pheno/caud/out/chr7_AA_240001-260000.rds    \n",
       "14  /dcs04/lieber/statsgen/mnagle/mwas/pheno/caud/out/chr7_AA_260001-280000.rds    \n",
       "15  /dcs04/lieber/statsgen/mnagle/mwas/pheno/caud/out/chr7_AA_280001-3e+05.rds     \n",
       "16  /dcs04/lieber/statsgen/mnagle/mwas/pheno/caud/out/chr7_AA_300001-320000.rds    \n",
       "17  /dcs04/lieber/statsgen/mnagle/mwas/pheno/caud/out/chr7_AA_320001-340000.rds    \n",
       "18  /dcs04/lieber/statsgen/mnagle/mwas/pheno/caud/out/chr7_AA_340001-360000.rds    \n",
       "19  /dcs04/lieber/statsgen/mnagle/mwas/pheno/caud/out/chr7_AA_360001-380000.rds    \n",
       "20  /dcs04/lieber/statsgen/mnagle/mwas/pheno/caud/out/chr7_AA_380001-4e+05.rds     \n",
       "21  /dcs04/lieber/statsgen/mnagle/mwas/pheno/caud/out/chr7_AA_400001-420000.rds    \n",
       "22  /dcs04/lieber/statsgen/mnagle/mwas/pheno/caud/out/chr7_AA_420001-440000.rds    \n",
       "23  /dcs04/lieber/statsgen/mnagle/mwas/pheno/caud/out/chr7_AA_440001-460000.rds    \n",
       "24  /dcs04/lieber/statsgen/mnagle/mwas/pheno/caud/out/chr7_AA_460001-480000.rds    \n",
       "25  /dcs04/lieber/statsgen/mnagle/mwas/pheno/caud/out/chr7_AA_480001-5e+05.rds     \n",
       "26  /dcs04/lieber/statsgen/mnagle/mwas/pheno/caud/out/chr7_AA_500001-520000.rds    \n",
       "27  /dcs04/lieber/statsgen/mnagle/mwas/pheno/caud/out/chr7_AA_520001-540000.rds    \n",
       "28  /dcs04/lieber/statsgen/mnagle/mwas/pheno/caud/out/chr7_AA_540001-560000.rds    \n",
       "29  /dcs04/lieber/statsgen/mnagle/mwas/pheno/caud/out/chr7_AA_560001-580000.rds    \n",
       "30  /dcs04/lieber/statsgen/mnagle/mwas/pheno/caud/out/chr7_AA_580001-6e+05.rds     \n",
       "⋮   ⋮                                                                              \n",
       "648 /dcs04/lieber/statsgen/mnagle/mwas/pheno/hippo/out/chr7_all_900001-920000.rds  \n",
       "649 /dcs04/lieber/statsgen/mnagle/mwas/pheno/hippo/out/chr7_all_920001-940000.rds  \n",
       "650 /dcs04/lieber/statsgen/mnagle/mwas/pheno/hippo/out/chr7_all_940001-960000.rds  \n",
       "651 /dcs04/lieber/statsgen/mnagle/mwas/pheno/hippo/out/chr7_all_960001-980000.rds  \n",
       "652 /dcs04/lieber/statsgen/mnagle/mwas/pheno/hippo/out/chr7_all_980001-1e+06.rds   \n",
       "653 /dcs04/lieber/statsgen/mnagle/mwas/pheno/hippo/out/chr7_all_1000001-1020000.rds\n",
       "654 /dcs04/lieber/statsgen/mnagle/mwas/pheno/hippo/out/chr7_all_1020001-1040000.rds\n",
       "655 /dcs04/lieber/statsgen/mnagle/mwas/pheno/hippo/out/chr7_all_1040001-1060000.rds\n",
       "656 /dcs04/lieber/statsgen/mnagle/mwas/pheno/hippo/out/chr7_all_1060001-1080000.rds\n",
       "657 /dcs04/lieber/statsgen/mnagle/mwas/pheno/hippo/out/chr7_all_1080001-1100000.rds\n",
       "658 /dcs04/lieber/statsgen/mnagle/mwas/pheno/hippo/out/chr7_all_1100001-1120000.rds\n",
       "659 /dcs04/lieber/statsgen/mnagle/mwas/pheno/hippo/out/chr7_all_1120001-1140000.rds\n",
       "660 /dcs04/lieber/statsgen/mnagle/mwas/pheno/hippo/out/chr7_all_1140001-1160000.rds\n",
       "661 /dcs04/lieber/statsgen/mnagle/mwas/pheno/hippo/out/chr7_all_1160001-1180000.rds\n",
       "662 /dcs04/lieber/statsgen/mnagle/mwas/pheno/hippo/out/chr7_all_1180001-1200000.rds\n",
       "663 /dcs04/lieber/statsgen/mnagle/mwas/pheno/hippo/out/chr7_all_1200001-1220000.rds\n",
       "664 /dcs04/lieber/statsgen/mnagle/mwas/pheno/hippo/out/chr7_all_1220001-1240000.rds\n",
       "665 /dcs04/lieber/statsgen/mnagle/mwas/pheno/hippo/out/chr7_all_1240001-1260000.rds\n",
       "666 /dcs04/lieber/statsgen/mnagle/mwas/pheno/hippo/out/chr7_all_1260001-1280000.rds\n",
       "667 /dcs04/lieber/statsgen/mnagle/mwas/pheno/hippo/out/chr7_all_1280001-1300000.rds\n",
       "668 /dcs04/lieber/statsgen/mnagle/mwas/pheno/hippo/out/chr7_all_1300001-1320000.rds\n",
       "669 /dcs04/lieber/statsgen/mnagle/mwas/pheno/hippo/out/chr7_all_1320001-1340000.rds\n",
       "670 /dcs04/lieber/statsgen/mnagle/mwas/pheno/hippo/out/chr7_all_1340001-1360000.rds\n",
       "671 /dcs04/lieber/statsgen/mnagle/mwas/pheno/hippo/out/chr7_all_1360001-1380000.rds\n",
       "672 /dcs04/lieber/statsgen/mnagle/mwas/pheno/hippo/out/chr7_all_1380001-1400000.rds\n",
       "673 /dcs04/lieber/statsgen/mnagle/mwas/pheno/hippo/out/chr7_all_1400001-1420000.rds\n",
       "674 /dcs04/lieber/statsgen/mnagle/mwas/pheno/hippo/out/chr7_all_1420001-1440000.rds\n",
       "675 /dcs04/lieber/statsgen/mnagle/mwas/pheno/hippo/out/chr7_all_1440001-1460000.rds\n",
       "676 /dcs04/lieber/statsgen/mnagle/mwas/pheno/hippo/out/chr7_all_1460001-1480000.rds\n",
       "677 /dcs04/lieber/statsgen/mnagle/mwas/pheno/hippo/out/chr7_all_1480001-1490198.rds\n",
       "    path                                                                                                                                 \n",
       "1   ..//output_EXPANSE_a2_caud/libd_chr7-chr7_AA-libd_chr7-chr7_AA-1-20000-dynamic-1corestotal-allcorepera-20240422-091021.rds           \n",
       "2   ..//output_EXPANSE_a2_caud/libd_chr7-chr7_AA-libd_chr7-chr7_AA-20001-40000-dynamic-1corestotal-allcorepera-20240422-091322.rds       \n",
       "3   ..//output_EXPANSE_a2_caud/libd_chr7-chr7_AA-libd_chr7-chr7_AA-40001-60000-dynamic-1corestotal-allcorepera-20240422-091624.rds       \n",
       "4   ..//output_EXPANSE_a2_caud/libd_chr7-chr7_AA-libd_chr7-chr7_AA-60001-80000-dynamic-1corestotal-allcorepera-20240422-091925.rds       \n",
       "5   ..//output_EXPANSE_a2_caud/libd_chr7-chr7_AA-libd_chr7-chr7_AA-80001-100000-dynamic-1corestotal-allcorepera-20240422-092226.rds      \n",
       "6   ..//output_EXPANSE_a2_caud/libd_chr7-chr7_AA-libd_chr7-chr7_AA-100001-120000-dynamic-1corestotal-allcorepera-20240508-071345.rds     \n",
       "7   ..//output_EXPANSE_a2_caud/libd_chr7-chr7_AA-libd_chr7-chr7_AA-120001-140000-dynamic-1corestotal-allcorepera-20240422-092828.rds     \n",
       "8   ..//output_EXPANSE_a2_caud/libd_chr7-chr7_AA-libd_chr7-chr7_AA-140001-160000-dynamic-1corestotal-allcorepera-20240422-093129.rds     \n",
       "9   ..//output_EXPANSE_a2_caud/libd_chr7-chr7_AA-libd_chr7-chr7_AA-160001-180000-dynamic-1corestotal-allcorepera-20240422-093430.rds     \n",
       "10  ..//output_EXPANSE_a2_caud/libd_chr7-chr7_AA-libd_chr7-chr7_AA-180001-200000-dynamic-1corestotal-allcorepera-20240422-093731.rds     \n",
       "11  ..//output_EXPANSE_a2_caud/libd_chr7-chr7_AA-libd_chr7-chr7_AA-200001-220000-dynamic-1corestotal-allcorepera-20240422-094032.rds     \n",
       "12  ..//output_EXPANSE_a2_caud/libd_chr7-chr7_AA-libd_chr7-chr7_AA-220001-240000-dynamic-1corestotal-allcorepera-20240422-094334.rds     \n",
       "13  ..//output_EXPANSE_a2_caud/libd_chr7-chr7_AA-libd_chr7-chr7_AA-240001-260000-dynamic-1corestotal-allcorepera-20240422-094635.rds     \n",
       "14  ..//output_EXPANSE_a2_caud/libd_chr7-chr7_AA-libd_chr7-chr7_AA-260001-280000-dynamic-1corestotal-allcorepera-20240422-094936.rds     \n",
       "15  ..//output_EXPANSE_a2_caud/libd_chr7-chr7_AA-libd_chr7-chr7_AA-280001-300000-dynamic-1corestotal-allcorepera-20240422-095237.rds     \n",
       "16  ..//output_EXPANSE_a2_caud/libd_chr7-chr7_AA-libd_chr7-chr7_AA-300001-320000-dynamic-1corestotal-allcorepera-20240422-095538.rds     \n",
       "17  ..//output_EXPANSE_a2_caud/libd_chr7-chr7_AA-libd_chr7-chr7_AA-320001-340000-dynamic-1corestotal-allcorepera-20240422-095839.rds     \n",
       "18  ..//output_EXPANSE_a2_caud/libd_chr7-chr7_AA-libd_chr7-chr7_AA-340001-360000-dynamic-1corestotal-allcorepera-20240422-100142.rds     \n",
       "19  ..//output_EXPANSE_a2_caud/libd_chr7-chr7_AA-libd_chr7-chr7_AA-360001-380000-dynamic-1corestotal-allcorepera-20240422-100443.rds     \n",
       "20  ..//output_EXPANSE_a2_caud/libd_chr7-chr7_AA-libd_chr7-chr7_AA-380001-400000-dynamic-1corestotal-allcorepera-20240422-100837.rds     \n",
       "21  ..//output_EXPANSE_a2_caud/libd_chr7-chr7_AA-libd_chr7-chr7_AA-400001-420000-dynamic-1corestotal-allcorepera-20240422-101138.rds     \n",
       "22  ..//output_EXPANSE_a2_caud/libd_chr7-chr7_AA-libd_chr7-chr7_AA-420001-440000-dynamic-1corestotal-allcorepera-20240422-101439.rds     \n",
       "23  ..//output_EXPANSE_a2_caud/libd_chr7-chr7_AA-libd_chr7-chr7_AA-440001-460000-dynamic-1corestotal-allcorepera-20240422-101740.rds     \n",
       "24  ..//output_EXPANSE_a2_caud/libd_chr7-chr7_AA-libd_chr7-chr7_AA-460001-480000-dynamic-1corestotal-allcorepera-20240422-102041.rds     \n",
       "25  ..//output_EXPANSE_a2_caud/libd_chr7-chr7_AA-libd_chr7-chr7_AA-480001-500000-dynamic-1corestotal-allcorepera-20240422-102342.rds     \n",
       "26  ..//output_EXPANSE_a2_caud/libd_chr7-chr7_AA-libd_chr7-chr7_AA-500001-520000-dynamic-1corestotal-allcorepera-20240422-102643.rds     \n",
       "27  ..//output_EXPANSE_a2_caud/libd_chr7-chr7_AA-libd_chr7-chr7_AA-520001-540000-dynamic-1corestotal-allcorepera-20240422-102945.rds     \n",
       "28  ..//output_EXPANSE_a2_caud/libd_chr7-chr7_AA-libd_chr7-chr7_AA-540001-560000-dynamic-1corestotal-allcorepera-20240422-103246.rds     \n",
       "29  ..//output_EXPANSE_a2_caud/libd_chr7-chr7_AA-libd_chr7-chr7_AA-560001-580000-dynamic-1corestotal-allcorepera-20240422-103547.rds     \n",
       "30  ..//output_EXPANSE_a2_caud/libd_chr7-chr7_AA-libd_chr7-chr7_AA-580001-600000-dynamic-1corestotal-allcorepera-20240422-103849.rds     \n",
       "⋮   ⋮                                                                                                                                    \n",
       "648 ..//output_EXPANSE_a2_hippo/libd_chr7-chr7_all-libd_chr7-chr7_all-900001-920000-dynamic-1corestotal-allcorepera-20240425-154300.rds  \n",
       "649 ..//output_EXPANSE_a2_hippo/libd_chr7-chr7_all-libd_chr7-chr7_all-920001-940000-dynamic-1corestotal-allcorepera-20240425-154601.rds  \n",
       "650 ..//output_EXPANSE_a2_hippo/libd_chr7-chr7_all-libd_chr7-chr7_all-940001-960000-dynamic-1corestotal-allcorepera-20240425-154904.rds  \n",
       "651 ..//output_EXPANSE_a2_hippo/libd_chr7-chr7_all-libd_chr7-chr7_all-960001-980000-dynamic-1corestotal-allcorepera-20240425-155205.rds  \n",
       "652 ..//output_EXPANSE_a2_hippo/libd_chr7-chr7_all-libd_chr7-chr7_all-980001-1000000-dynamic-1corestotal-allcorepera-20240425-155507.rds \n",
       "653 ..//output_EXPANSE_a2_hippo/libd_chr7-chr7_all-libd_chr7-chr7_all-1000001-1020000-dynamic-1corestotal-allcorepera-20240425-155808.rds\n",
       "654 ..//output_EXPANSE_a2_hippo/libd_chr7-chr7_all-libd_chr7-chr7_all-1020001-1040000-dynamic-1corestotal-allcorepera-20240425-160109.rds\n",
       "655 ..//output_EXPANSE_a2_hippo/libd_chr7-chr7_all-libd_chr7-chr7_all-1040001-1060000-dynamic-1corestotal-allcorepera-20240425-160410.rds\n",
       "656 ..//output_EXPANSE_a2_hippo/libd_chr7-chr7_all-libd_chr7-chr7_all-1060001-1080000-dynamic-1corestotal-allcorepera-20240425-160711.rds\n",
       "657 ..//output_EXPANSE_a2_hippo/libd_chr7-chr7_all-libd_chr7-chr7_all-1080001-1100000-dynamic-1corestotal-allcorepera-20240425-161012.rds\n",
       "658 ..//output_EXPANSE_a2_hippo/libd_chr7-chr7_all-libd_chr7-chr7_all-1100001-1120000-dynamic-1corestotal-allcorepera-20240425-161313.rds\n",
       "659 ..//output_EXPANSE_a2_hippo/libd_chr7-chr7_all-libd_chr7-chr7_all-1120001-1140000-dynamic-1corestotal-allcorepera-20240425-161615.rds\n",
       "660 ..//output_EXPANSE_a2_hippo/libd_chr7-chr7_all-libd_chr7-chr7_all-1140001-1160000-dynamic-1corestotal-allcorepera-20240425-161916.rds\n",
       "661 ..//output_EXPANSE_a2_hippo/libd_chr7-chr7_all-libd_chr7-chr7_all-1160001-1180000-dynamic-1corestotal-allcorepera-20240425-162217.rds\n",
       "662 ..//output_EXPANSE_a2_hippo/libd_chr7-chr7_all-libd_chr7-chr7_all-1180001-1200000-dynamic-1corestotal-allcorepera-20240425-162518.rds\n",
       "663 ..//output_EXPANSE_a2_hippo/libd_chr7-chr7_all-libd_chr7-chr7_all-1200001-1220000-dynamic-1corestotal-allcorepera-20240425-162819.rds\n",
       "664 ..//output_EXPANSE_a2_hippo/libd_chr7-chr7_all-libd_chr7-chr7_all-1220001-1240000-dynamic-1corestotal-allcorepera-20240425-163120.rds\n",
       "665 ..//output_EXPANSE_a2_hippo/libd_chr7-chr7_all-libd_chr7-chr7_all-1240001-1260000-dynamic-1corestotal-allcorepera-20240425-163421.rds\n",
       "666 ..//output_EXPANSE_a2_hippo/libd_chr7-chr7_all-libd_chr7-chr7_all-1260001-1280000-dynamic-1corestotal-allcorepera-20240425-163723.rds\n",
       "667 ..//output_EXPANSE_a2_hippo/libd_chr7-chr7_all-libd_chr7-chr7_all-1280001-1300000-dynamic-1corestotal-allcorepera-20240425-164024.rds\n",
       "668 ..//output_EXPANSE_a2_hippo/libd_chr7-chr7_all-libd_chr7-chr7_all-1300001-1320000-dynamic-1corestotal-allcorepera-20240425-164325.rds\n",
       "669 ..//output_EXPANSE_a2_hippo/libd_chr7-chr7_all-libd_chr7-chr7_all-1320001-1340000-dynamic-1corestotal-allcorepera-20240425-164626.rds\n",
       "670 ..//output_EXPANSE_a2_hippo/libd_chr7-chr7_all-libd_chr7-chr7_all-1340001-1360000-dynamic-1corestotal-allcorepera-20240425-164927.rds\n",
       "671 ..//output_EXPANSE_a2_hippo/libd_chr7-chr7_all-libd_chr7-chr7_all-1360001-1380000-dynamic-1corestotal-allcorepera-20240425-165228.rds\n",
       "672 ..//output_EXPANSE_a2_hippo/libd_chr7-chr7_all-libd_chr7-chr7_all-1380001-1400000-dynamic-1corestotal-allcorepera-20240425-165530.rds\n",
       "673 ..//output_EXPANSE_a2_hippo/libd_chr7-chr7_all-libd_chr7-chr7_all-1400001-1420000-dynamic-1corestotal-allcorepera-20240425-165831.rds\n",
       "674 ..//output_EXPANSE_a2_hippo/libd_chr7-chr7_all-libd_chr7-chr7_all-1420001-1440000-dynamic-1corestotal-allcorepera-20240425-170132.rds\n",
       "675 ..//output_EXPANSE_a2_hippo/libd_chr7-chr7_all-libd_chr7-chr7_all-1440001-1460000-dynamic-1corestotal-allcorepera-20240425-170433.rds\n",
       "676 ..//output_EXPANSE_a2_hippo/libd_chr7-chr7_all-libd_chr7-chr7_all-1460001-1480000-dynamic-1corestotal-allcorepera-20240425-170734.rds\n",
       "677 ..//output_EXPANSE_a2_hippo/libd_chr7-chr7_all-libd_chr7-chr7_all-1480001-1490198-dynamic-1corestotal-allcorepera-20240425-171035.rds"
      ]
     },
     "metadata": {},
     "output_type": "display_data"
    }
   ],
   "source": [
    "df"
   ]
  },
  {
   "cell_type": "code",
   "execution_count": 214,
   "id": "ea91a79d-67a6-40df-b0ad-3b2c7db9be85",
   "metadata": {},
   "outputs": [],
   "source": [
    "df <- df[which(df$population == \"all\"), ]\n",
    "df <- df[which(df$brain_region == \"caud\"), ]"
   ]
  },
  {
   "cell_type": "code",
   "execution_count": 215,
   "id": "465c4237-66ee-4512-971b-1a70e550c36e",
   "metadata": {},
   "outputs": [
    {
     "data": {
      "text/html": [
       "<table class=\"dataframe\">\n",
       "<caption>A data.table: 0 × 14</caption>\n",
       "<thead>\n",
       "\t<tr><th scope=col>Chr</th><th scope=col>population</th><th scope=col>region</th><th scope=col>chunk_start</th><th scope=col>chunk_end</th><th scope=col>SNP_data</th><th scope=col>methylation_data</th><th scope=col>last_meth_value_with_SNP_coverage</th><th scope=col>first_meth_value_with_SNP_coverage</th><th scope=col>last_meth_index_with_SNP_coverage</th><th scope=col>first_meth_index_with_SNP_coverage</th><th scope=col>cov_file</th><th scope=col>modified_methylation_data</th><th scope=col>path</th></tr>\n",
       "\t<tr><th scope=col>&lt;int&gt;</th><th scope=col>&lt;chr&gt;</th><th scope=col>&lt;chr&gt;</th><th scope=col>&lt;int&gt;</th><th scope=col>&lt;dbl&gt;</th><th scope=col>&lt;chr&gt;</th><th scope=col>&lt;chr&gt;</th><th scope=col>&lt;int&gt;</th><th scope=col>&lt;int&gt;</th><th scope=col>&lt;int&gt;</th><th scope=col>&lt;int&gt;</th><th scope=col>&lt;chr&gt;</th><th scope=col>&lt;chr&gt;</th><th scope=col>&lt;chr&gt;</th></tr>\n",
       "</thead>\n",
       "<tbody>\n",
       "</tbody>\n",
       "</table>\n"
      ],
      "text/latex": [
       "A data.table: 0 × 14\n",
       "\\begin{tabular}{llllllllllllll}\n",
       " Chr & population & region & chunk\\_start & chunk\\_end & SNP\\_data & methylation\\_data & last\\_meth\\_value\\_with\\_SNP\\_coverage & first\\_meth\\_value\\_with\\_SNP\\_coverage & last\\_meth\\_index\\_with\\_SNP\\_coverage & first\\_meth\\_index\\_with\\_SNP\\_coverage & cov\\_file & modified\\_methylation\\_data & path\\\\\n",
       " <int> & <chr> & <chr> & <int> & <dbl> & <chr> & <chr> & <int> & <int> & <int> & <int> & <chr> & <chr> & <chr>\\\\\n",
       "\\hline\n",
       "\\end{tabular}\n"
      ],
      "text/markdown": [
       "\n",
       "A data.table: 0 × 14\n",
       "\n",
       "| Chr &lt;int&gt; | population &lt;chr&gt; | region &lt;chr&gt; | chunk_start &lt;int&gt; | chunk_end &lt;dbl&gt; | SNP_data &lt;chr&gt; | methylation_data &lt;chr&gt; | last_meth_value_with_SNP_coverage &lt;int&gt; | first_meth_value_with_SNP_coverage &lt;int&gt; | last_meth_index_with_SNP_coverage &lt;int&gt; | first_meth_index_with_SNP_coverage &lt;int&gt; | cov_file &lt;chr&gt; | modified_methylation_data &lt;chr&gt; | path &lt;chr&gt; |\n",
       "|---|---|---|---|---|---|---|---|---|---|---|---|---|---|\n",
       "\n"
      ],
      "text/plain": [
       "     Chr population region chunk_start chunk_end SNP_data methylation_data\n",
       "     last_meth_value_with_SNP_coverage first_meth_value_with_SNP_coverage\n",
       "     last_meth_index_with_SNP_coverage first_meth_index_with_SNP_coverage\n",
       "     cov_file modified_methylation_data path"
      ]
     },
     "metadata": {},
     "output_type": "display_data"
    }
   ],
   "source": [
    "df"
   ]
  },
  {
   "cell_type": "code",
   "execution_count": 11,
   "id": "e3010894-c5e0-4875-a695-302ed787be90",
   "metadata": {},
   "outputs": [],
   "source": [
    "i <- 1"
   ]
  },
  {
   "cell_type": "code",
   "execution_count": 12,
   "id": "522b7988-f517-454d-90d5-4e6a51f49380",
   "metadata": {},
   "outputs": [
    {
     "data": {
      "text/html": [
       "<table class=\"dataframe\">\n",
       "<caption>A data.table: 1 × 15</caption>\n",
       "<thead>\n",
       "\t<tr><th scope=col>Chr</th><th scope=col>SNP_data</th><th scope=col>methylation_data</th><th scope=col>last_meth_value_with_SNP_coverage</th><th scope=col>first_meth_value_with_SNP_coverage</th><th scope=col>last_meth_index_with_SNP_coverage</th><th scope=col>first_meth_index_with_SNP_coverage</th><th scope=col>subpopulation</th><th scope=col>brain_region</th><th scope=col>population</th><th scope=col>region</th><th scope=col>cov_file</th><th scope=col>cov_file2</th><th scope=col>cov_file3</th><th scope=col>cov_file4</th></tr>\n",
       "\t<tr><th scope=col>&lt;int&gt;</th><th scope=col>&lt;chr&gt;</th><th scope=col>&lt;chr&gt;</th><th scope=col>&lt;int&gt;</th><th scope=col>&lt;int&gt;</th><th scope=col>&lt;int&gt;</th><th scope=col>&lt;int&gt;</th><th scope=col>&lt;chr&gt;</th><th scope=col>&lt;chr&gt;</th><th scope=col>&lt;chr&gt;</th><th scope=col>&lt;chr&gt;</th><th scope=col>&lt;chr&gt;</th><th scope=col>&lt;chr&gt;</th><th scope=col>&lt;chr&gt;</th><th scope=col>&lt;chr&gt;</th></tr>\n",
       "</thead>\n",
       "<tbody>\n",
       "\t<tr><td>7</td><td>/expanse/lustre/projects/jhu152/naglemi/mwas/gwas//libd_chr7.pgen</td><td>/expanse/lustre/projects/jhu152/naglemi/mwas/pheno/caud/out/chr7_all.rda</td><td>159334659</td><td>49742</td><td>1490198</td><td>1</td><td>all</td><td>caud</td><td>all</td><td>caud</td><td>/expanse/lustre/projects/jhu152/naglemi/mwas/full_covariates_a2/all_caud.csv</td><td>/expanse/lustre/projects/jhu152/naglemi/mwas/full_covariates_a2/all_caud-no-meth.csv</td><td>/expanse/lustre/projects/jhu152/naglemi/mwas/full_covariates_a2/all_caud-no-meth-no-dx.csv</td><td>/expanse/lustre/projects/jhu152/naglemi/mwas/full_covariates_a2/all_caud-no-dx.csv</td></tr>\n",
       "</tbody>\n",
       "</table>\n"
      ],
      "text/latex": [
       "A data.table: 1 × 15\n",
       "\\begin{tabular}{lllllllllllllll}\n",
       " Chr & SNP\\_data & methylation\\_data & last\\_meth\\_value\\_with\\_SNP\\_coverage & first\\_meth\\_value\\_with\\_SNP\\_coverage & last\\_meth\\_index\\_with\\_SNP\\_coverage & first\\_meth\\_index\\_with\\_SNP\\_coverage & subpopulation & brain\\_region & population & region & cov\\_file & cov\\_file2 & cov\\_file3 & cov\\_file4\\\\\n",
       " <int> & <chr> & <chr> & <int> & <int> & <int> & <int> & <chr> & <chr> & <chr> & <chr> & <chr> & <chr> & <chr> & <chr>\\\\\n",
       "\\hline\n",
       "\t 7 & /expanse/lustre/projects/jhu152/naglemi/mwas/gwas//libd\\_chr7.pgen & /expanse/lustre/projects/jhu152/naglemi/mwas/pheno/caud/out/chr7\\_all.rda & 159334659 & 49742 & 1490198 & 1 & all & caud & all & caud & /expanse/lustre/projects/jhu152/naglemi/mwas/full\\_covariates\\_a2/all\\_caud.csv & /expanse/lustre/projects/jhu152/naglemi/mwas/full\\_covariates\\_a2/all\\_caud-no-meth.csv & /expanse/lustre/projects/jhu152/naglemi/mwas/full\\_covariates\\_a2/all\\_caud-no-meth-no-dx.csv & /expanse/lustre/projects/jhu152/naglemi/mwas/full\\_covariates\\_a2/all\\_caud-no-dx.csv\\\\\n",
       "\\end{tabular}\n"
      ],
      "text/markdown": [
       "\n",
       "A data.table: 1 × 15\n",
       "\n",
       "| Chr &lt;int&gt; | SNP_data &lt;chr&gt; | methylation_data &lt;chr&gt; | last_meth_value_with_SNP_coverage &lt;int&gt; | first_meth_value_with_SNP_coverage &lt;int&gt; | last_meth_index_with_SNP_coverage &lt;int&gt; | first_meth_index_with_SNP_coverage &lt;int&gt; | subpopulation &lt;chr&gt; | brain_region &lt;chr&gt; | population &lt;chr&gt; | region &lt;chr&gt; | cov_file &lt;chr&gt; | cov_file2 &lt;chr&gt; | cov_file3 &lt;chr&gt; | cov_file4 &lt;chr&gt; |\n",
       "|---|---|---|---|---|---|---|---|---|---|---|---|---|---|---|\n",
       "| 7 | /expanse/lustre/projects/jhu152/naglemi/mwas/gwas//libd_chr7.pgen | /expanse/lustre/projects/jhu152/naglemi/mwas/pheno/caud/out/chr7_all.rda | 159334659 | 49742 | 1490198 | 1 | all | caud | all | caud | /expanse/lustre/projects/jhu152/naglemi/mwas/full_covariates_a2/all_caud.csv | /expanse/lustre/projects/jhu152/naglemi/mwas/full_covariates_a2/all_caud-no-meth.csv | /expanse/lustre/projects/jhu152/naglemi/mwas/full_covariates_a2/all_caud-no-meth-no-dx.csv | /expanse/lustre/projects/jhu152/naglemi/mwas/full_covariates_a2/all_caud-no-dx.csv |\n",
       "\n"
      ],
      "text/plain": [
       "  Chr SNP_data                                                         \n",
       "1 7   /expanse/lustre/projects/jhu152/naglemi/mwas/gwas//libd_chr7.pgen\n",
       "  methylation_data                                                        \n",
       "1 /expanse/lustre/projects/jhu152/naglemi/mwas/pheno/caud/out/chr7_all.rda\n",
       "  last_meth_value_with_SNP_coverage first_meth_value_with_SNP_coverage\n",
       "1 159334659                         49742                             \n",
       "  last_meth_index_with_SNP_coverage first_meth_index_with_SNP_coverage\n",
       "1 1490198                           1                                 \n",
       "  subpopulation brain_region population region\n",
       "1 all           caud         all        caud  \n",
       "  cov_file                                                                    \n",
       "1 /expanse/lustre/projects/jhu152/naglemi/mwas/full_covariates_a2/all_caud.csv\n",
       "  cov_file2                                                                           \n",
       "1 /expanse/lustre/projects/jhu152/naglemi/mwas/full_covariates_a2/all_caud-no-meth.csv\n",
       "  cov_file3                                                                                 \n",
       "1 /expanse/lustre/projects/jhu152/naglemi/mwas/full_covariates_a2/all_caud-no-meth-no-dx.csv\n",
       "  cov_file4                                                                         \n",
       "1 /expanse/lustre/projects/jhu152/naglemi/mwas/full_covariates_a2/all_caud-no-dx.csv"
      ]
     },
     "metadata": {},
     "output_type": "display_data"
    }
   ],
   "source": [
    "df[1, ]"
   ]
  },
  {
   "cell_type": "code",
   "execution_count": 13,
   "id": "22de2603-481a-4995-8991-1f6f64989e3d",
   "metadata": {},
   "outputs": [],
   "source": [
    "set.seed(2018)\n",
    "wind <- c(10000)\n",
    "# output directory\n",
    "#outd <- \"/dcl02/lieber/shan/shizhong/finemapping/GWAS/tags/scz3/mwas/chr22/1/\"\n",
    "outd <- \"20-OUT_original_mwas_sanity_test/\""
   ]
  },
  {
   "cell_type": "markdown",
   "id": "d7711c4d-5f19-4fd0-9f7b-891133ac3311",
   "metadata": {},
   "source": [
    "## Functions"
   ]
  },
  {
   "cell_type": "markdown",
   "id": "655b95b9-bbcb-4ae8-8914-cf36149e10e1",
   "metadata": {},
   "source": [
    "### Shizhong's original"
   ]
  },
  {
   "cell_type": "code",
   "execution_count": 14,
   "id": "be729eb2-c5b2-4d3e-b835-072d8f5ba2e6",
   "metadata": {},
   "outputs": [],
   "source": [
    "###### model: learn elastic net model on training data \n",
    "######---------Input: trainX, trainY\n",
    "######---------Return: selected features and coefficents\n",
    "\n",
    "# original\n",
    "# elastic.net <- function(trainX,trainY){\n",
    "#     if(nrow(trainX)!=length(trainY)){\n",
    "#             stop(\"Number of observations is differerent\")\n",
    "#     } \n",
    "\n",
    "#     # optimize alpha---mixing parameter  \n",
    "#     a <- 0.5\n",
    "#     search <- foreach(ai = a, .combine = rbind) %dopar% {\n",
    "#         cv.fit <- cv.glmnet(\n",
    "#                         trainX,\n",
    "#                         trainY,\n",
    "#                         nfold = 5,\n",
    "#                         type.measure = \"mse\",\n",
    "#                         paralle = TRUE,\n",
    "#                         alpha = ai\n",
    "#                         )\n",
    "#         data.frame(\n",
    "#                         cvm = min(cv.fit$cvm),\n",
    "#                         lambda = cv.fit$lambda.min,\n",
    "#                         alpha = ai\n",
    "#                         )\n",
    "#         } \n",
    "#     cv.opt <- search[search$cvm == min(search$cvm),] \n",
    "\n",
    "#         # fit model by optimized alpha and lambda\n",
    "#         yfit = glmnet(\n",
    "#         trainX,\n",
    "#         trainY,\n",
    "#         lambda = cv.opt$lambda,\n",
    "#         alpha = cv.opt$alpha\n",
    "#                 )       \n",
    "#         idf <- coef(yfit)\n",
    "#         idx <- which(idf != 0)\n",
    "#         selectf <- data.frame(\n",
    "#                 features = idf@Dimnames[[1]][idx], \n",
    "#                 coefs = idf [idx]\n",
    "#         )\n",
    "# }\n",
    "\n",
    "MWAS <- function(gwas, weight, geno){\n",
    "        z <- gwas %*% weight\n",
    "        z.cor <- cor(geno)\n",
    "        se <- sqrt(weight %*%  z.cor %*%  weight)\n",
    "        z <- z/se\n",
    "        p=pnorm(abs(z),lower.tail=F)*2\n",
    "        return(c(z, p))\n",
    "}"
   ]
  },
  {
   "cell_type": "markdown",
   "id": "52a2753a-ebee-4587-9fa2-1d33f878f68f",
   "metadata": {},
   "source": [
    "#### Modified `elastic.net` to use `lambda.1se`"
   ]
  },
  {
   "cell_type": "code",
   "execution_count": 15,
   "id": "e2a06b13-9a13-4caa-8436-9a05a0f53035",
   "metadata": {},
   "outputs": [],
   "source": [
    "# modified to use lambda 1se and appropriate cvm\n",
    "elastic.net <- function(trainX,trainY, lambda.choice = \"1se\"){\n",
    "    if(nrow(trainX)!=length(trainY)){\n",
    "            stop(\"Number of observations is differerent\")\n",
    "    } \n",
    "\n",
    "    # optimize alpha---mixing parameter  \n",
    "    a <- 0.5\n",
    "    search <- foreach(ai = a, .combine = rbind) %dopar% {\n",
    "        #set.seed(42)\n",
    "        cv.fit <- cv.glmnet(\n",
    "                        trainX,\n",
    "                        trainY,\n",
    "                        nfold = 5,\n",
    "                        type.measure = \"mse\",\n",
    "                        parallel = TRUE,\n",
    "                        alpha = ai\n",
    "                        )\n",
    "        #print(paste0(\"Dim of trainX: \", dim(trainX)))\n",
    "        #print(paste0(\"Len of trainY: \", length(trainY)))\n",
    "        coef_matrix <- as.matrix(coef(cv.fit))\n",
    "\n",
    "        if(lambda.choice == \"1se\"){\n",
    "            chosen_lambda <- cv.fit$lambda.1se\n",
    "            chosen_cvm <- cv.fit$cvm[cv.fit$lambda == cv.fit$lambda.1se]\n",
    "        }\n",
    "        if(lambda.choice == \"min\"){\n",
    "            chosen_lambda <- cv.fit$lambda.min\n",
    "            chosen_cvm <- min(cv.fit$cvm)\n",
    "        }\n",
    "\n",
    "\n",
    "        data.frame(\n",
    "                        cvm = chosen_cvm,\n",
    "                        lambda = chosen_lambda,\n",
    "                        alpha = ai\n",
    "                        )\n",
    "        } \n",
    "    cv.opt <- search[search$cvm == min(search$cvm),] \n",
    "\n",
    "        # fit model by optimized alpha and lambda\n",
    "    #set.seed(42)\n",
    "    yfit <- glmnet(\n",
    "    trainX,\n",
    "    trainY,\n",
    "    lambda = cv.opt$lambda,\n",
    "    alpha = cv.opt$alpha)\n",
    "\n",
    "    idf <- coef(yfit)\n",
    "    idx <- which(idf != 0)\n",
    "    selectf <- data.frame(\n",
    "            features = idf@Dimnames[[1]][idx], \n",
    "            coefs = idf [idx]\n",
    "    )\n",
    "}"
   ]
  },
  {
   "cell_type": "code",
   "execution_count": 16,
   "id": "c61851b6-5956-4c88-beff-413929873770",
   "metadata": {},
   "outputs": [],
   "source": [
    "# version using for loop for easier debugging\n",
    "\n",
    "elastic.net <- function(trainX, trainY, lambda.choice = \"1se\") {\n",
    "    if (nrow(trainX) != length(trainY)) {\n",
    "        stop(\"Number of observations is different\")\n",
    "    }\n",
    "\n",
    "    a <- 0.5\n",
    "    search <- NULL\n",
    "\n",
    "    for (ai in a) {\n",
    "        cv.fit <- cv.glmnet(\n",
    "            trainX,\n",
    "            trainY,\n",
    "            nfold = 5,\n",
    "            type.measure = \"mse\",\n",
    "            parallel = FALSE,\n",
    "            alpha = ai\n",
    "        )\n",
    "        coef_matrix <- as.matrix(coef(cv.fit))\n",
    "\n",
    "        if (lambda.choice == \"1se\") {\n",
    "            chosen_lambda <- cv.fit$lambda.1se\n",
    "            chosen_cvm <- cv.fit$cvm[cv.fit$lambda == cv.fit$lambda.1se]\n",
    "        }\n",
    "        if (lambda.choice == \"min\") {\n",
    "            chosen_lambda <- cv.fit$lambda.min\n",
    "            chosen_cvm <- min(cv.fit$cvm)\n",
    "        }\n",
    "\n",
    "        search <- rbind(\n",
    "            search,\n",
    "            data.frame(\n",
    "                cvm = chosen_cvm,\n",
    "                lambda = chosen_lambda,\n",
    "                alpha = ai\n",
    "            )\n",
    "        )\n",
    "    }\n",
    "\n",
    "    cv.opt <- search[search$cvm == min(search$cvm),]\n",
    "\n",
    "    yfit <- glmnet(\n",
    "        trainX,\n",
    "        trainY,\n",
    "        lambda = cv.opt$lambda,\n",
    "        alpha = cv.opt$alpha\n",
    "    )\n",
    "\n",
    "    idf <- coef(yfit)\n",
    "    idx <- which(idf != 0)\n",
    "    selectf <- data.frame(\n",
    "        features = idf@Dimnames[[1]][idx],\n",
    "        coefs = idf[idx]\n",
    "    )\n",
    "}\n"
   ]
  },
  {
   "cell_type": "markdown",
   "id": "3a0ea432-3ac3-4077-ae61-c3a029004096",
   "metadata": {},
   "source": [
    "## Replace all old objects with new objects in same format"
   ]
  },
  {
   "cell_type": "markdown",
   "id": "18332543-6f7a-40d8-b894-9562a6ac7457",
   "metadata": {},
   "source": [
    "### Methylation data"
   ]
  },
  {
   "cell_type": "code",
   "execution_count": 17,
   "id": "f9b051aa-a1e5-421b-856d-718cf85c24a3",
   "metadata": {
    "scrolled": true
   },
   "outputs": [
    {
     "name": "stderr",
     "output_type": "stream",
     "text": [
      "Loading required package: BiocGenerics\n",
      "\n",
      "\n",
      "Attaching package: ‘BiocGenerics’\n",
      "\n",
      "\n",
      "The following objects are masked from ‘package:stats’:\n",
      "\n",
      "    IQR, mad, sd, var, xtabs\n",
      "\n",
      "\n",
      "The following objects are masked from ‘package:base’:\n",
      "\n",
      "    anyDuplicated, aperm, append, as.data.frame, basename, cbind,\n",
      "    colnames, dirname, do.call, duplicated, eval, evalq, Filter, Find,\n",
      "    get, grep, grepl, intersect, is.unsorted, lapply, Map, mapply,\n",
      "    match, mget, order, paste, pmax, pmax.int, pmin, pmin.int,\n",
      "    Position, rank, rbind, Reduce, rownames, sapply, setdiff, sort,\n",
      "    table, tapply, union, unique, unsplit, which.max, which.min\n",
      "\n",
      "\n",
      "Loading required package: GenomicRanges\n",
      "\n",
      "Loading required package: stats4\n",
      "\n",
      "Loading required package: S4Vectors\n",
      "\n",
      "\n",
      "Attaching package: ‘S4Vectors’\n",
      "\n",
      "\n",
      "The following objects are masked from ‘package:data.table’:\n",
      "\n",
      "    first, second\n",
      "\n",
      "\n",
      "The following objects are masked from ‘package:Matrix’:\n",
      "\n",
      "    expand, unname\n",
      "\n",
      "\n",
      "The following object is masked from ‘package:utils’:\n",
      "\n",
      "    findMatches\n",
      "\n",
      "\n",
      "The following objects are masked from ‘package:base’:\n",
      "\n",
      "    expand.grid, I, unname\n",
      "\n",
      "\n",
      "Loading required package: IRanges\n",
      "\n",
      "\n",
      "Attaching package: ‘IRanges’\n",
      "\n",
      "\n",
      "The following object is masked from ‘package:data.table’:\n",
      "\n",
      "    shift\n",
      "\n",
      "\n",
      "Loading required package: GenomeInfoDb\n",
      "\n",
      "Loading required package: SummarizedExperiment\n",
      "\n",
      "Loading required package: MatrixGenerics\n",
      "\n",
      "Loading required package: matrixStats\n",
      "\n",
      "\n",
      "Attaching package: ‘MatrixGenerics’\n",
      "\n",
      "\n",
      "The following objects are masked from ‘package:matrixStats’:\n",
      "\n",
      "    colAlls, colAnyNAs, colAnys, colAvgsPerRowSet, colCollapse,\n",
      "    colCounts, colCummaxs, colCummins, colCumprods, colCumsums,\n",
      "    colDiffs, colIQRDiffs, colIQRs, colLogSumExps, colMadDiffs,\n",
      "    colMads, colMaxs, colMeans2, colMedians, colMins, colOrderStats,\n",
      "    colProds, colQuantiles, colRanges, colRanks, colSdDiffs, colSds,\n",
      "    colSums2, colTabulates, colVarDiffs, colVars, colWeightedMads,\n",
      "    colWeightedMeans, colWeightedMedians, colWeightedSds,\n",
      "    colWeightedVars, rowAlls, rowAnyNAs, rowAnys, rowAvgsPerColSet,\n",
      "    rowCollapse, rowCounts, rowCummaxs, rowCummins, rowCumprods,\n",
      "    rowCumsums, rowDiffs, rowIQRDiffs, rowIQRs, rowLogSumExps,\n",
      "    rowMadDiffs, rowMads, rowMaxs, rowMeans2, rowMedians, rowMins,\n",
      "    rowOrderStats, rowProds, rowQuantiles, rowRanges, rowRanks,\n",
      "    rowSdDiffs, rowSds, rowSums2, rowTabulates, rowVarDiffs, rowVars,\n",
      "    rowWeightedMads, rowWeightedMeans, rowWeightedMedians,\n",
      "    rowWeightedSds, rowWeightedVars\n",
      "\n",
      "\n",
      "Loading required package: Biobase\n",
      "\n",
      "Welcome to Bioconductor\n",
      "\n",
      "    Vignettes contain introductory material; view with\n",
      "    'browseVignettes()'. To cite Bioconductor, see\n",
      "    'citation(\"Biobase\")', and for packages 'citation(\"pkgname\")'.\n",
      "\n",
      "\n",
      "\n",
      "Attaching package: ‘Biobase’\n",
      "\n",
      "\n",
      "The following object is masked from ‘package:MatrixGenerics’:\n",
      "\n",
      "    rowMedians\n",
      "\n",
      "\n",
      "The following objects are masked from ‘package:matrixStats’:\n",
      "\n",
      "    anyMissing, rowMedians\n",
      "\n",
      "\n"
     ]
    }
   ],
   "source": [
    "suppressWarnings(library(bsseq))"
   ]
  },
  {
   "cell_type": "code",
   "execution_count": 18,
   "id": "8a871cb8-d71d-4f62-8d5e-70b79bb1c1c8",
   "metadata": {},
   "outputs": [],
   "source": [
    "# # # The code in this block is for NEW methylation data, which can be for any chromosome or portion\n",
    "\n",
    "# # # load data for mwas\n",
    "# # # load(\"./rda/caudate_mwas_data_chr22.rda\")\n",
    "# load(df$methylation_data[i])\n",
    "\n",
    "# p <- getMeth(BSobj2)\n",
    "\n",
    "\n",
    "# rownames(p) <- start(BSobj2)\n",
    "\n",
    "# if(sites_to_test_pos[1] == \"random\"){\n",
    "#     sites_to_test_pos <- sample(start(BSobj2), n_samples)\n",
    "# } else {\n",
    "#     sites_to_test_pos <- start(BSobj2)[which(start(BSobj2) >= min_site_to_test_pos & start(BSobj2) <= max_site_to_test_pos)]\n",
    "# }\n",
    "\n",
    "# sites_to_test <- which(start(BSobj2) %in% sites_to_test_pos)\n",
    "# p <- p[sites_to_test, ]\n",
    "# cg <- as.numeric(rownames(p))"
   ]
  },
  {
   "cell_type": "code",
   "execution_count": 19,
   "id": "d690f701-eb0b-4aaa-8533-9f792f37d785",
   "metadata": {},
   "outputs": [],
   "source": [
    "# length(sites_to_test_pos)"
   ]
  },
  {
   "cell_type": "code",
   "execution_count": 20,
   "id": "de6de2b3-60bb-4611-8632-d930efce4fe3",
   "metadata": {},
   "outputs": [],
   "source": [
    "# head(sites_to_test_pos)"
   ]
  },
  {
   "cell_type": "markdown",
   "id": "892e5592-48be-4854-b932-5d43a9d27791",
   "metadata": {},
   "source": [
    "Subset our p object to the same sites as the old one, compare values"
   ]
  },
  {
   "cell_type": "code",
   "execution_count": 21,
   "id": "067bd47b-6d87-4707-be4f-2f48e4382517",
   "metadata": {},
   "outputs": [
    {
     "name": "stdout",
     "output_type": "stream",
     "text": [
      "Loading objects:\n",
      "  BSsample\n",
      "Loading objects:\n",
      "  snp.gwas2\n",
      "  snp.1kg.eur2\n",
      "  map.1kg.eur2\n",
      "  snp2\n",
      "  map2\n",
      "  p\n",
      "  BSsample\n"
     ]
    }
   ],
   "source": [
    "# Old dataset\n",
    "load(\"BSsample.rda\", verbose = TRUE) # we get the @colData attribute as a data.frame here\n",
    "load(\"p1.rda\", verbose = TRUE) # and the p matrix from getMeth() here\n",
    "\n",
    "BSobj2 <- BSsample\n",
    "cg <- as.numeric(rownames(p)) # This line same whether we use old or new version\n",
    "sites_to_test_pos <- cg"
   ]
  },
  {
   "cell_type": "markdown",
   "id": "6063581e-a107-4977-93d7-836f1da57078",
   "metadata": {},
   "source": [
    "### covariates"
   ]
  },
  {
   "cell_type": "code",
   "execution_count": 22,
   "id": "cc499656-ec9a-45cd-ad05-b17e957eaaa6",
   "metadata": {},
   "outputs": [],
   "source": [
    "# #The code in this block is for NEW covariate data\n",
    "\n",
    "# covs <- fread(df$cov_file[i])\n",
    "# covs <- t(covs)\n",
    "# colnames(covs) <- covs[1, ]\n",
    "# covs <- covs[2:nrow(covs), ]\n",
    "# # transpose so we have same orientation as original code"
   ]
  },
  {
   "cell_type": "code",
   "execution_count": 23,
   "id": "b73eadb7-0f96-4f46-bafc-1e9ad864613d",
   "metadata": {},
   "outputs": [],
   "source": [
    "# This is the OLD covariate data\n",
    "\n",
    "load(\"covs_for_meqtl.rda\")"
   ]
  },
  {
   "cell_type": "markdown",
   "id": "72219907-d534-4523-a369-853077888b38",
   "metadata": {},
   "source": [
    "### Regress methylation data over covariates"
   ]
  },
  {
   "cell_type": "code",
   "execution_count": 24,
   "id": "85527835-9e3f-4ba9-a645-5330564e0b7c",
   "metadata": {},
   "outputs": [],
   "source": [
    "BSobj2$brnum <- gsub(\"Br0\", \"Br\", BSobj2$brnum)\n",
    "colnames(covs) <- gsub(\"Br0\", \"Br\", colnames(covs))"
   ]
  },
  {
   "cell_type": "code",
   "execution_count": 25,
   "id": "8899261b-73fb-430e-bcdb-143fc8f04670",
   "metadata": {},
   "outputs": [],
   "source": [
    "mat <- match(BSobj2$brnum,colnames(covs)) \n",
    "covs <- t(covs[,mat])\n",
    "p.residual=matrix(NA,dim(p)[1],dim(p)[2])"
   ]
  },
  {
   "cell_type": "code",
   "execution_count": 26,
   "id": "35031e54-4c54-4a37-9997-99b57efa86bf",
   "metadata": {},
   "outputs": [],
   "source": [
    "# This is something we only need to do for new covariates\n",
    "if(\"genoPC1\" %in% colnames(covs)){\n",
    "    rownames(covs)[is.na(covs[, 'genoPC1'])] <- BSobj2$brnum[is.na(covs[, 'genoPC1'])]\n",
    "}"
   ]
  },
  {
   "cell_type": "code",
   "execution_count": 27,
   "id": "70bda030-7a89-4dff-8c61-f576badfd8bd",
   "metadata": {},
   "outputs": [],
   "source": [
    "colnames(p.residual) <- BSobj2$brnum"
   ]
  },
  {
   "cell_type": "code",
   "execution_count": 28,
   "id": "78ee80f1-d9ea-46b0-b37a-dfeed3dbdf97",
   "metadata": {},
   "outputs": [],
   "source": [
    "covs <- as.data.frame(covs)\n",
    "# Convert all columns except Dx and Sex from character to numeric\n",
    "cols_to_convert <- setdiff(names(covs), c(\"Dx\", \"Sex\"))\n",
    "\n",
    "for (col in cols_to_convert) {\n",
    "  covs[[col]] <- as.numeric(covs[[col]])\n",
    "}\n",
    "\n",
    "# Print the modified data frame to check the conversion\n",
    "#print(dat)\n"
   ]
  },
  {
   "cell_type": "code",
   "execution_count": 29,
   "id": "db709d51-494c-431c-8327-9348dbf0419c",
   "metadata": {},
   "outputs": [],
   "source": [
    "for (i in 1:dim(p)[1]) { # For each methylation site\n",
    "    dat <- as.data.frame(cbind(y = p[i,], covs))\n",
    "    \n",
    "    # Check for rows with NAs (the ones for which we don't have covariate data)\n",
    "    valid_rows <- complete.cases(dat)\n",
    "    \n",
    "    if (sum(valid_rows) > 0) {\n",
    "        dat_valid <- dat[valid_rows,]\n",
    "        model.res <- lm(y ~ ., data = dat_valid)\n",
    "        \n",
    "        # Store residuals in the corresponding positions\n",
    "        p.residual[i, valid_rows] <- resid(model.res)\n",
    "    }\n",
    "}\n",
    "\n",
    "\n",
    "# for(i in 1:dim(p)[1]){ # foro each methylation site\n",
    "#         dat <- as.data.frame(cbind(p[i,],covs))\n",
    "#         colnames(dat) <- c(\"y\",paste0(\"x\",1:ncol(covs)))\n",
    "#         model.res <- lm(reformulate(paste0(\"x\",1:ncol(covs)), \"y\"),dat)\n",
    "#         p.residual[i,] = resid(model.res) \n",
    "# }"
   ]
  },
  {
   "cell_type": "code",
   "execution_count": 30,
   "id": "dee072f8-010e-4618-806c-b5e66018bc81",
   "metadata": {},
   "outputs": [
    {
     "data": {
      "text/html": [
       "<style>\n",
       ".list-inline {list-style: none; margin:0; padding: 0}\n",
       ".list-inline>li {display: inline-block}\n",
       ".list-inline>li:not(:last-child)::after {content: \"\\00b7\"; padding: 0 .5ex}\n",
       "</style>\n",
       "<ol class=list-inline><li>330</li><li>308</li></ol>\n"
      ],
      "text/latex": [
       "\\begin{enumerate*}\n",
       "\\item 330\n",
       "\\item 308\n",
       "\\end{enumerate*}\n"
      ],
      "text/markdown": [
       "1. 330\n",
       "2. 308\n",
       "\n",
       "\n"
      ],
      "text/plain": [
       "[1] 330 308"
      ]
     },
     "metadata": {},
     "output_type": "display_data"
    }
   ],
   "source": [
    "dim(p.residual)"
   ]
  },
  {
   "cell_type": "code",
   "execution_count": 31,
   "id": "4f866dd6-16c6-4803-9c21-c70e4b931e66",
   "metadata": {},
   "outputs": [
    {
     "data": {
      "text/html": [
       "<table class=\"dataframe\">\n",
       "<caption>A matrix: 8 × 8 of type dbl</caption>\n",
       "<thead>\n",
       "\t<tr><th scope=col>Br836</th><th scope=col>Br845</th><th scope=col>Br848</th><th scope=col>Br863</th><th scope=col>Br914</th><th scope=col>Br948</th><th scope=col>Br949</th><th scope=col>Br963</th></tr>\n",
       "</thead>\n",
       "<tbody>\n",
       "\t<tr><td>0.01273526</td><td>0.003955796</td><td>-0.006492196</td><td>-0.003937108</td><td>-0.003108317</td><td>-0.02635100</td><td>-0.01780211</td><td>0.02198214</td></tr>\n",
       "\t<tr><td>0.01244238</td><td>0.004791327</td><td>-0.006684356</td><td>-0.004304248</td><td>-0.002787528</td><td>-0.02590003</td><td>-0.01859511</td><td>0.02199029</td></tr>\n",
       "\t<tr><td>0.01199289</td><td>0.005968815</td><td>-0.006910408</td><td>-0.004612377</td><td>-0.002502153</td><td>-0.02531498</td><td>-0.01932406</td><td>0.02187912</td></tr>\n",
       "\t<tr><td>0.01185321</td><td>0.006292368</td><td>-0.006985009</td><td>-0.004655232</td><td>-0.002462299</td><td>-0.02516852</td><td>-0.01943433</td><td>0.02181896</td></tr>\n",
       "\t<tr><td>0.01165765</td><td>0.006722936</td><td>-0.007091745</td><td>-0.004689633</td><td>-0.002431018</td><td>-0.02498177</td><td>-0.01953200</td><td>0.02172186</td></tr>\n",
       "\t<tr><td>0.01077923</td><td>0.008466136</td><td>-0.007601638</td><td>-0.004627312</td><td>-0.002500745</td><td>-0.02429218</td><td>-0.01948105</td><td>0.02116477</td></tr>\n",
       "\t<tr><td>0.01066253</td><td>0.008680782</td><td>-0.007672761</td><td>-0.004601013</td><td>-0.002526803</td><td>-0.02421065</td><td>-0.01943371</td><td>0.02108082</td></tr>\n",
       "\t<tr><td>0.01035960</td><td>0.009223814</td><td>-0.007860604</td><td>-0.004518253</td><td>-0.002606966</td><td>-0.02400573</td><td>-0.01927932</td><td>0.02085531</td></tr>\n",
       "</tbody>\n",
       "</table>\n"
      ],
      "text/latex": [
       "A matrix: 8 × 8 of type dbl\n",
       "\\begin{tabular}{llllllll}\n",
       " Br836 & Br845 & Br848 & Br863 & Br914 & Br948 & Br949 & Br963\\\\\n",
       "\\hline\n",
       "\t 0.01273526 & 0.003955796 & -0.006492196 & -0.003937108 & -0.003108317 & -0.02635100 & -0.01780211 & 0.02198214\\\\\n",
       "\t 0.01244238 & 0.004791327 & -0.006684356 & -0.004304248 & -0.002787528 & -0.02590003 & -0.01859511 & 0.02199029\\\\\n",
       "\t 0.01199289 & 0.005968815 & -0.006910408 & -0.004612377 & -0.002502153 & -0.02531498 & -0.01932406 & 0.02187912\\\\\n",
       "\t 0.01185321 & 0.006292368 & -0.006985009 & -0.004655232 & -0.002462299 & -0.02516852 & -0.01943433 & 0.02181896\\\\\n",
       "\t 0.01165765 & 0.006722936 & -0.007091745 & -0.004689633 & -0.002431018 & -0.02498177 & -0.01953200 & 0.02172186\\\\\n",
       "\t 0.01077923 & 0.008466136 & -0.007601638 & -0.004627312 & -0.002500745 & -0.02429218 & -0.01948105 & 0.02116477\\\\\n",
       "\t 0.01066253 & 0.008680782 & -0.007672761 & -0.004601013 & -0.002526803 & -0.02421065 & -0.01943371 & 0.02108082\\\\\n",
       "\t 0.01035960 & 0.009223814 & -0.007860604 & -0.004518253 & -0.002606966 & -0.02400573 & -0.01927932 & 0.02085531\\\\\n",
       "\\end{tabular}\n"
      ],
      "text/markdown": [
       "\n",
       "A matrix: 8 × 8 of type dbl\n",
       "\n",
       "| Br836 | Br845 | Br848 | Br863 | Br914 | Br948 | Br949 | Br963 |\n",
       "|---|---|---|---|---|---|---|---|\n",
       "| 0.01273526 | 0.003955796 | -0.006492196 | -0.003937108 | -0.003108317 | -0.02635100 | -0.01780211 | 0.02198214 |\n",
       "| 0.01244238 | 0.004791327 | -0.006684356 | -0.004304248 | -0.002787528 | -0.02590003 | -0.01859511 | 0.02199029 |\n",
       "| 0.01199289 | 0.005968815 | -0.006910408 | -0.004612377 | -0.002502153 | -0.02531498 | -0.01932406 | 0.02187912 |\n",
       "| 0.01185321 | 0.006292368 | -0.006985009 | -0.004655232 | -0.002462299 | -0.02516852 | -0.01943433 | 0.02181896 |\n",
       "| 0.01165765 | 0.006722936 | -0.007091745 | -0.004689633 | -0.002431018 | -0.02498177 | -0.01953200 | 0.02172186 |\n",
       "| 0.01077923 | 0.008466136 | -0.007601638 | -0.004627312 | -0.002500745 | -0.02429218 | -0.01948105 | 0.02116477 |\n",
       "| 0.01066253 | 0.008680782 | -0.007672761 | -0.004601013 | -0.002526803 | -0.02421065 | -0.01943371 | 0.02108082 |\n",
       "| 0.01035960 | 0.009223814 | -0.007860604 | -0.004518253 | -0.002606966 | -0.02400573 | -0.01927932 | 0.02085531 |\n",
       "\n"
      ],
      "text/plain": [
       "     Br836      Br845       Br848        Br863        Br914        Br948      \n",
       "[1,] 0.01273526 0.003955796 -0.006492196 -0.003937108 -0.003108317 -0.02635100\n",
       "[2,] 0.01244238 0.004791327 -0.006684356 -0.004304248 -0.002787528 -0.02590003\n",
       "[3,] 0.01199289 0.005968815 -0.006910408 -0.004612377 -0.002502153 -0.02531498\n",
       "[4,] 0.01185321 0.006292368 -0.006985009 -0.004655232 -0.002462299 -0.02516852\n",
       "[5,] 0.01165765 0.006722936 -0.007091745 -0.004689633 -0.002431018 -0.02498177\n",
       "[6,] 0.01077923 0.008466136 -0.007601638 -0.004627312 -0.002500745 -0.02429218\n",
       "[7,] 0.01066253 0.008680782 -0.007672761 -0.004601013 -0.002526803 -0.02421065\n",
       "[8,] 0.01035960 0.009223814 -0.007860604 -0.004518253 -0.002606966 -0.02400573\n",
       "     Br949       Br963     \n",
       "[1,] -0.01780211 0.02198214\n",
       "[2,] -0.01859511 0.02199029\n",
       "[3,] -0.01932406 0.02187912\n",
       "[4,] -0.01943433 0.02181896\n",
       "[5,] -0.01953200 0.02172186\n",
       "[6,] -0.01948105 0.02116477\n",
       "[7,] -0.01943371 0.02108082\n",
       "[8,] -0.01927932 0.02085531"
      ]
     },
     "metadata": {},
     "output_type": "display_data"
    }
   ],
   "source": [
    "p.residual[1:8, 1:8]"
   ]
  },
  {
   "cell_type": "code",
   "execution_count": 32,
   "id": "10a4df3c-1f1a-40fe-a581-87152b140f03",
   "metadata": {},
   "outputs": [
    {
     "data": {
      "text/html": [
       "0"
      ],
      "text/latex": [
       "0"
      ],
      "text/markdown": [
       "0"
      ],
      "text/plain": [
       "[1] 0"
      ]
     },
     "metadata": {},
     "output_type": "display_data"
    }
   ],
   "source": [
    "sum(is.na(p.residual))"
   ]
  },
  {
   "cell_type": "code",
   "execution_count": 33,
   "id": "991b6c83-60a6-4d2f-9f5e-1d278535aa84",
   "metadata": {},
   "outputs": [
    {
     "data": {
      "text/html": [
       "0"
      ],
      "text/latex": [
       "0"
      ],
      "text/markdown": [
       "0"
      ],
      "text/plain": [
       "[1] 0"
      ]
     },
     "metadata": {},
     "output_type": "display_data"
    },
    {
     "data": {
      "text/html": [
       "0"
      ],
      "text/latex": [
       "0"
      ],
      "text/markdown": [
       "0"
      ],
      "text/plain": [
       "[1] 0"
      ]
     },
     "metadata": {},
     "output_type": "display_data"
    }
   ],
   "source": [
    "sum(rowSums(is.na(p.residual)) == ncol(p.residual))\n",
    "sum(colSums(is.na(p.residual)) == nrow(p.residual))"
   ]
  },
  {
   "cell_type": "code",
   "execution_count": 34,
   "id": "094f14a2-d65d-4c77-8484-12cb5b7e88e2",
   "metadata": {},
   "outputs": [],
   "source": [
    "# p.residual <- p.residual[, colSums(is.na(p.residual)) != nrow(p.residual)]"
   ]
  },
  {
   "cell_type": "code",
   "execution_count": 35,
   "id": "0060e7ba-8818-4986-b23d-03ae8dbb1cda",
   "metadata": {},
   "outputs": [
    {
     "data": {
      "text/html": [
       "0"
      ],
      "text/latex": [
       "0"
      ],
      "text/markdown": [
       "0"
      ],
      "text/plain": [
       "[1] 0"
      ]
     },
     "metadata": {},
     "output_type": "display_data"
    }
   ],
   "source": [
    "sum(is.na(p.residual))"
   ]
  },
  {
   "cell_type": "code",
   "execution_count": 36,
   "id": "f4ad72db-fe27-4676-8da6-46222519a095",
   "metadata": {},
   "outputs": [],
   "source": [
    "snp.gwas2 <- NULL"
   ]
  },
  {
   "cell_type": "code",
   "execution_count": 37,
   "id": "744fc147-2638-4935-a805-68cb51852dd7",
   "metadata": {},
   "outputs": [],
   "source": [
    "#load(\"p1.rda\", verbose = TRUE)"
   ]
  },
  {
   "cell_type": "markdown",
   "id": "6f1649fc-72c8-4bcf-9cbc-587463117579",
   "metadata": {},
   "source": [
    "### summary stats"
   ]
  },
  {
   "cell_type": "code",
   "execution_count": 38,
   "id": "19d2a3db-0ed4-481f-b7d6-78d0ddbbb80f",
   "metadata": {},
   "outputs": [],
   "source": [
    "library(data.table)\n",
    "library(CpGWAS)"
   ]
  },
  {
   "cell_type": "code",
   "execution_count": 39,
   "id": "a5270235-a5a6-42d2-a654-ea30cb891279",
   "metadata": {},
   "outputs": [],
   "source": [
    "ss_path <- \"/home/naglemi/mwas/gwas/gwas_stat_scz\""
   ]
  },
  {
   "cell_type": "code",
   "execution_count": 40,
   "id": "203b45ea-44b4-4679-8b74-621f634db7dc",
   "metadata": {},
   "outputs": [],
   "source": [
    "snp.gwas2 <- fread(ss_path, skip = 1, header = FALSE)\n",
    "colnames(snp.gwas2) <- strsplit(readLines(ss_path, n = 1), \"\\t\")[[1]]"
   ]
  },
  {
   "cell_type": "code",
   "execution_count": 41,
   "id": "917f58c4-4ec5-47b8-bf3d-f0abcf86cf96",
   "metadata": {},
   "outputs": [],
   "source": [
    "snp.gwas2$z <- log(snp.gwas2$OR)/snp.gwas2$SE"
   ]
  },
  {
   "cell_type": "code",
   "execution_count": 42,
   "id": "6d87bed5-d32c-4264-b787-d738cd381454",
   "metadata": {},
   "outputs": [],
   "source": [
    "snp.gwas2 <- snp.gwas2[, c(2, 1, 3, 3, 8, 4, 5, 20, 11)]"
   ]
  },
  {
   "cell_type": "code",
   "execution_count": 43,
   "id": "3df5e4c7-01eb-475b-a931-1e088d109cdb",
   "metadata": {},
   "outputs": [
    {
     "data": {
      "text/html": [
       "<table class=\"dataframe\">\n",
       "<caption>A data.table: 1 × 9</caption>\n",
       "<thead>\n",
       "\t<tr><th scope=col>SNP</th><th scope=col>CHR</th><th scope=col>BP</th><th scope=col>BP</th><th scope=col>INFO</th><th scope=col>A1</th><th scope=col>A2</th><th scope=col>z</th><th scope=col>P</th></tr>\n",
       "\t<tr><th scope=col>&lt;chr&gt;</th><th scope=col>&lt;int&gt;</th><th scope=col>&lt;int&gt;</th><th scope=col>&lt;int&gt;</th><th scope=col>&lt;dbl&gt;</th><th scope=col>&lt;chr&gt;</th><th scope=col>&lt;chr&gt;</th><th scope=col>&lt;dbl&gt;</th><th scope=col>&lt;dbl&gt;</th></tr>\n",
       "</thead>\n",
       "<tbody>\n",
       "\t<tr><td>rs62513865</td><td>8</td><td>100579985</td><td>100579985</td><td>0.963</td><td>C</td><td>T</td><td>0.7016221</td><td>0.4847</td></tr>\n",
       "</tbody>\n",
       "</table>\n"
      ],
      "text/latex": [
       "A data.table: 1 × 9\n",
       "\\begin{tabular}{lllllllll}\n",
       " SNP & CHR & BP & BP & INFO & A1 & A2 & z & P\\\\\n",
       " <chr> & <int> & <int> & <int> & <dbl> & <chr> & <chr> & <dbl> & <dbl>\\\\\n",
       "\\hline\n",
       "\t rs62513865 & 8 & 100579985 & 100579985 & 0.963 & C & T & 0.7016221 & 0.4847\\\\\n",
       "\\end{tabular}\n"
      ],
      "text/markdown": [
       "\n",
       "A data.table: 1 × 9\n",
       "\n",
       "| SNP &lt;chr&gt; | CHR &lt;int&gt; | BP &lt;int&gt; | BP &lt;int&gt; | INFO &lt;dbl&gt; | A1 &lt;chr&gt; | A2 &lt;chr&gt; | z &lt;dbl&gt; | P &lt;dbl&gt; |\n",
       "|---|---|---|---|---|---|---|---|---|\n",
       "| rs62513865 | 8 | 100579985 | 100579985 | 0.963 | C | T | 0.7016221 | 0.4847 |\n",
       "\n"
      ],
      "text/plain": [
       "  SNP        CHR BP        BP        INFO  A1 A2 z         P     \n",
       "1 rs62513865 8   100579985 100579985 0.963 C  T  0.7016221 0.4847"
      ]
     },
     "metadata": {},
     "output_type": "display_data"
    }
   ],
   "source": [
    "head(snp.gwas2, n = 1)"
   ]
  },
  {
   "cell_type": "code",
   "execution_count": 44,
   "id": "a1b63fe0-6ff8-4982-92a5-7dd2a937b6f3",
   "metadata": {},
   "outputs": [],
   "source": [
    "colnames(snp.gwas2)[1:5] <- c(\"snp\", \"chr\", \"pos_hg38\", \"pos_hg38\", \"info\")"
   ]
  },
  {
   "cell_type": "code",
   "execution_count": 45,
   "id": "bda48de1-8191-4b45-8f16-41cce0a957af",
   "metadata": {},
   "outputs": [],
   "source": [
    "CHR <- chr # to avoid R df local env mixing variables of columns name and subset variable"
   ]
  },
  {
   "cell_type": "code",
   "execution_count": 46,
   "id": "196dca2f-edd0-4ff7-83d0-73049310205f",
   "metadata": {},
   "outputs": [],
   "source": [
    "snp.gwas2 <- snp.gwas2[which(snp.gwas2$chr == CHR), ]"
   ]
  },
  {
   "cell_type": "code",
   "execution_count": 47,
   "id": "86716430-3d24-416b-922e-f7f8e007325d",
   "metadata": {},
   "outputs": [],
   "source": [
    "if(filter_snps == TRUE){\n",
    "    snp.gwas2 <- snp.gwas2[which(snp.gwas2$pos_hg38 >= (min(sites_to_test_pos)-10000) & snp.gwas2$pos_hg38 <= (max(sites_to_test_pos) + 10000)), ]\n",
    "}"
   ]
  },
  {
   "cell_type": "code",
   "execution_count": 48,
   "id": "6dfba3a8-0775-4f8c-92d2-3c9c32a36945",
   "metadata": {},
   "outputs": [],
   "source": [
    "snp.gwas2 <- snp.gwas2[order(snp.gwas2$pos_hg38), ]"
   ]
  },
  {
   "cell_type": "code",
   "execution_count": 49,
   "id": "e094af46-5937-4e19-aaef-a6e6d8fdb692",
   "metadata": {},
   "outputs": [
    {
     "data": {
      "text/plain": [
       "DataFrame with 6 rows and 10 columns\n",
       "               ID       brnum has_genotype   source  agedeath      sex     race\n",
       "      <character> <character>    <logical> <factor> <numeric> <factor> <factor>\n",
       "1 LIBD1633_190509       Br836         TRUE       DC     20.77        M       AA\n",
       "2 LIBD1654_190509       Br845         TRUE       DC     24.79        M       AA\n",
       "3 LIBD1508_190509       Br848         TRUE       DC     22.71        M       AA\n",
       "4 LIBD1655_190509       Br863         TRUE       DC     43.85        M       AA\n",
       "5 LIBD1604_190509       Br914         TRUE       DC     19.69        F       AA\n",
       "6 LIBD1389_190509       Br948         TRUE       DC     45.91        M       AA\n",
       "  primarydx       pmi        ph\n",
       "   <factor> <numeric> <numeric>\n",
       "1   Control      25.5      6.46\n",
       "2   Control      43.5      6.94\n",
       "3   Control      38.5      6.57\n",
       "4   Control      24.5      6.57\n",
       "5   Control      19.0      6.98\n",
       "6   Control      38.5      6.66"
      ]
     },
     "metadata": {},
     "output_type": "display_data"
    }
   ],
   "source": [
    "head(BSobj2)"
   ]
  },
  {
   "cell_type": "code",
   "execution_count": 50,
   "id": "a7e65537-90ab-49df-b17e-0c526f8bce94",
   "metadata": {},
   "outputs": [
    {
     "data": {
      "text/html": [
       "<style>\n",
       ".list-inline {list-style: none; margin:0; padding: 0}\n",
       ".list-inline>li {display: inline-block}\n",
       ".list-inline>li:not(:last-child)::after {content: \"\\00b7\"; padding: 0 .5ex}\n",
       "</style>\n",
       "<ol class=list-inline><li>308</li><li>10</li></ol>\n"
      ],
      "text/latex": [
       "\\begin{enumerate*}\n",
       "\\item 308\n",
       "\\item 10\n",
       "\\end{enumerate*}\n"
      ],
      "text/markdown": [
       "1. 308\n",
       "2. 10\n",
       "\n",
       "\n"
      ],
      "text/plain": [
       "[1] 308  10"
      ]
     },
     "metadata": {},
     "output_type": "display_data"
    }
   ],
   "source": [
    "dim(BSobj2)"
   ]
  },
  {
   "cell_type": "code",
   "execution_count": 51,
   "id": "694a73ac-0c1e-43a2-8a0e-51666fe047e3",
   "metadata": {},
   "outputs": [],
   "source": [
    "BSobj2 <- BSobj2[which(BSobj2$brnum %in% colnames(p.residual)), ]"
   ]
  },
  {
   "cell_type": "code",
   "execution_count": 52,
   "id": "7faa87a9-46ae-44b0-9ab8-436cb9537c4d",
   "metadata": {},
   "outputs": [
    {
     "data": {
      "text/html": [
       "<style>\n",
       ".list-inline {list-style: none; margin:0; padding: 0}\n",
       ".list-inline>li {display: inline-block}\n",
       ".list-inline>li:not(:last-child)::after {content: \"\\00b7\"; padding: 0 .5ex}\n",
       "</style>\n",
       "<ol class=list-inline><li>308</li><li>10</li></ol>\n"
      ],
      "text/latex": [
       "\\begin{enumerate*}\n",
       "\\item 308\n",
       "\\item 10\n",
       "\\end{enumerate*}\n"
      ],
      "text/markdown": [
       "1. 308\n",
       "2. 10\n",
       "\n",
       "\n"
      ],
      "text/plain": [
       "[1] 308  10"
      ]
     },
     "metadata": {},
     "output_type": "display_data"
    }
   ],
   "source": [
    "dim(BSobj2)"
   ]
  },
  {
   "cell_type": "code",
   "execution_count": 53,
   "id": "4714a813-116f-4567-a6b1-41bb02df8227",
   "metadata": {},
   "outputs": [],
   "source": [
    "# built predition models\n",
    "idx.ea <- BSobj2$race == \"CAUC\""
   ]
  },
  {
   "cell_type": "code",
   "execution_count": 54,
   "id": "8bce368a-5bbc-4ed4-9906-5d8ab09e21a8",
   "metadata": {},
   "outputs": [
    {
     "data": {
      "text/html": [
       "'7'"
      ],
      "text/latex": [
       "'7'"
      ],
      "text/markdown": [
       "'7'"
      ],
      "text/plain": [
       "[1] \"7\""
      ]
     },
     "metadata": {},
     "output_type": "display_data"
    }
   ],
   "source": [
    "levels(factor(snp.gwas2$chr))"
   ]
  },
  {
   "cell_type": "markdown",
   "id": "9700ca92-911f-4aa6-a557-789f202994b1",
   "metadata": {},
   "source": [
    "### SNPs in LIBD population"
   ]
  },
  {
   "cell_type": "markdown",
   "id": "4f57b245-ca89-42ac-986a-c47623a31e59",
   "metadata": {},
   "source": [
    "#### Old dataset"
   ]
  },
  {
   "cell_type": "code",
   "execution_count": null,
   "id": "03097259-e5c1-43c7-9b09-e67ed2080067",
   "metadata": {},
   "outputs": [],
   "source": []
  },
  {
   "cell_type": "code",
   "execution_count": null,
   "id": "0c89ee08-626a-42b6-8091-791bd5d63239",
   "metadata": {},
   "outputs": [],
   "source": []
  },
  {
   "cell_type": "code",
   "execution_count": null,
   "id": "e68fddaf-f50a-41ac-bdb3-56f9bd93ff4b",
   "metadata": {},
   "outputs": [],
   "source": []
  },
  {
   "cell_type": "markdown",
   "id": "6c305c43-74d5-42df-8039-b20adbbed9cd",
   "metadata": {},
   "source": [
    "#### New dataset prep: For reference, first load Shizhong's formatted SNPs on Chr7"
   ]
  },
  {
   "cell_type": "code",
   "execution_count": 55,
   "id": "17bbe86f-b1ff-4af1-8297-56ed0e3051e6",
   "metadata": {},
   "outputs": [
    {
     "name": "stdout",
     "output_type": "stream",
     "text": [
      "Loading objects:\n",
      "  snp.gwas2\n",
      "  snp.1kg.eur2\n",
      "  map.1kg.eur2\n",
      "  snp2\n",
      "  map2\n",
      "  p\n",
      "  BSsample\n"
     ]
    }
   ],
   "source": [
    "load(\"p1.rda\", verbose = TRUE)\n",
    "\n",
    "snp2_sorted <- snp2[, order(names(snp2))]\n",
    "\n",
    "colnames(snp2) <- gsub(\"Br0\", \"Br\", colnames(snp2))\n",
    "\n",
    "snp2 <- snp2[, colnames(snp2) %in% colnames(p.residual)]\n",
    "\n",
    "snp2_positions <- stringr::str_split_fixed(rownames(snp2), \":\", 3)[, 2]\n",
    "\n",
    "snp3 <- snp2\n",
    "map3 <- map2"
   ]
  },
  {
   "cell_type": "markdown",
   "id": "64e0f588-fc43-4f4a-aba6-911d037e9ead",
   "metadata": {},
   "source": [
    "#### New dataset: Now let's load ours on Chr1"
   ]
  },
  {
   "cell_type": "code",
   "execution_count": 56,
   "id": "04b0b495-749b-42fa-a4ce-2d7f14f0a053",
   "metadata": {},
   "outputs": [],
   "source": [
    "# paths <- list(\n",
    "#   pvar_path = paste0(\"/expanse/lustre/projects/jhu152/naglemi/mwas/gwas/libd_chr\", chr, \".pvar\"),\n",
    "#   pgen_path = paste0(\"/expanse/lustre/projects/jhu152/naglemi/mwas/gwas/libd_chr\", chr, \".pgen\"),\n",
    "#   psam_path = paste0(\"/expanse/lustre/projects/jhu152/naglemi/mwas/gwas/libd_chr\", chr, \".psam\")\n",
    "# )\n",
    "\n",
    "# my_SNPs <- loadSNPData(paths$pvar_path, paths$pgen_path, paths$psam_path)"
   ]
  },
  {
   "cell_type": "code",
   "execution_count": 57,
   "id": "6c82ac91-681b-483c-818f-3a2ec958bca7",
   "metadata": {},
   "outputs": [],
   "source": [
    "# filter_snps <- TRUE"
   ]
  },
  {
   "cell_type": "code",
   "execution_count": 58,
   "id": "1dd4ef47-2a68-4f01-a0e5-03efd6732c4a",
   "metadata": {},
   "outputs": [],
   "source": [
    "# if(filter_snps == TRUE){\n",
    "#     snp_indices_of_interest <- which(my_SNPs$pvar_dt$POS >= min(sites_to_test_pos)-100000 & my_SNPs$pvar_dt$POS <= max(sites_to_test_pos) + 100000)\n",
    "# }"
   ]
  },
  {
   "cell_type": "code",
   "execution_count": 59,
   "id": "24e9b8e2-bbbc-4421-98e2-97a6ae33ef68",
   "metadata": {},
   "outputs": [],
   "source": [
    "# if(filter_snps == TRUE){\n",
    "#     snp3 <- pgenlibr::ReadList(my_SNPs$pgen,\n",
    "#                                variant_subset = snp_indices_of_interest)\n",
    "#     colnames(snp3) <- my_SNPs$pvar_dt$ID[snp_indices_of_interest]\n",
    "# } else {\n",
    "#     snp3 <- pgenlibr::ReadList(my_SNPs$pgen)\n",
    "#     colnames(snp3) <- my_SNPs$pvar_dt$ID\n",
    "# }"
   ]
  },
  {
   "cell_type": "code",
   "execution_count": 60,
   "id": "cec6d1f4-f37a-4788-a6c8-04fb1d6a6fcf",
   "metadata": {},
   "outputs": [],
   "source": [
    "# snp3[1:10, 1:10]"
   ]
  },
  {
   "cell_type": "code",
   "execution_count": 61,
   "id": "41fbfa27-83df-4758-87c6-0cff2de9a160",
   "metadata": {},
   "outputs": [],
   "source": [
    "# rownames(snp3) <- my_SNPs$psam$`#IID`"
   ]
  },
  {
   "cell_type": "markdown",
   "id": "2bedf35f-af22-4395-9768-748ad69c8137",
   "metadata": {},
   "source": [
    "filter by `maf`"
   ]
  },
  {
   "cell_type": "code",
   "execution_count": 62,
   "id": "4292e859-185f-4268-9eee-1f477be83d81",
   "metadata": {},
   "outputs": [],
   "source": [
    "# dim(snp3)"
   ]
  },
  {
   "cell_type": "code",
   "execution_count": 63,
   "id": "6cfdeb6b-37cb-49d7-9af7-384edf349c8b",
   "metadata": {},
   "outputs": [],
   "source": [
    "# verbose <- FALSE\n",
    "# if (maf > 0){\n",
    "#     mafs <- colMeans(snp3, na.rm = TRUE) / 2\n",
    "#     mafs_below_threshold <- mafs < maf\n",
    "#     if (any(mafs_below_threshold)) {\n",
    "#       if (verbose) {\n",
    "#         message(paste0(\"removing \", sum(mafs_below_threshold), \" SNP(s) with MAF < \",\n",
    "#                        maf, \" for position \", meth_site_pos,\n",
    "#                       \" with window size \", window_size, \".\\n\\n\"))\n",
    "#       }\n",
    "#       snp3 <- snp3[, !mafs_below_threshold, drop = FALSE] \n",
    "#     }\n",
    "# }"
   ]
  },
  {
   "cell_type": "code",
   "execution_count": 64,
   "id": "446bb612-0118-4ea0-9d48-e9e7d603a51a",
   "metadata": {},
   "outputs": [],
   "source": [
    "# dim(snp3)"
   ]
  },
  {
   "cell_type": "code",
   "execution_count": 65,
   "id": "7a35ed6c-92ba-44b3-840e-ffc621828872",
   "metadata": {},
   "outputs": [],
   "source": [
    "# map3 <- data.frame(POS = stringr::str_split_fixed(colnames(snp3), \":\", 3)[, 2])"
   ]
  },
  {
   "cell_type": "code",
   "execution_count": 66,
   "id": "ca549289-47f4-444b-b3e8-7d8a39c2e33f",
   "metadata": {},
   "outputs": [],
   "source": [
    "# snp3 <- t(snp3)"
   ]
  },
  {
   "cell_type": "code",
   "execution_count": 67,
   "id": "191b05e4-0107-4059-887e-bd3f2cafde0f",
   "metadata": {},
   "outputs": [],
   "source": [
    "# map3 <- data.frame(POS = stringr::str_split_fixed(rownames(snp3), \":\", 3)[, 2])"
   ]
  },
  {
   "cell_type": "code",
   "execution_count": 68,
   "id": "4e17a504-e98e-4d5e-bc59-3fd09faf3de8",
   "metadata": {},
   "outputs": [],
   "source": [
    "# dim(map3)"
   ]
  },
  {
   "cell_type": "markdown",
   "id": "268b409b-4571-4f32-8a6d-0104927e2d8a",
   "metadata": {},
   "source": []
  },
  {
   "cell_type": "markdown",
   "id": "d0fb3ea3-0f60-4a62-b787-66185fc8e792",
   "metadata": {},
   "source": [
    "### SNPs in reference population"
   ]
  },
  {
   "cell_type": "code",
   "execution_count": 69,
   "id": "59bfeedc-461b-4680-b269-f0dfd03f001d",
   "metadata": {},
   "outputs": [
    {
     "data": {
      "text/html": [
       "FALSE"
      ],
      "text/latex": [
       "FALSE"
      ],
      "text/markdown": [
       "FALSE"
      ],
      "text/plain": [
       "[1] FALSE"
      ]
     },
     "metadata": {},
     "output_type": "display_data"
    },
    {
     "data": {
      "text/html": [
       "<style>\n",
       ".list-inline {list-style: none; margin:0; padding: 0}\n",
       ".list-inline>li {display: inline-block}\n",
       ".list-inline>li:not(:last-child)::after {content: \"\\00b7\"; padding: 0 .5ex}\n",
       "</style>\n",
       "<ol class=list-inline><li>98</li><li>3</li></ol>\n"
      ],
      "text/latex": [
       "\\begin{enumerate*}\n",
       "\\item 98\n",
       "\\item 3\n",
       "\\end{enumerate*}\n"
      ],
      "text/markdown": [
       "1. 98\n",
       "2. 3\n",
       "\n",
       "\n"
      ],
      "text/plain": [
       "[1] 98  3"
      ]
     },
     "metadata": {},
     "output_type": "display_data"
    },
    {
     "data": {
      "text/html": [
       "<style>\n",
       ".list-inline {list-style: none; margin:0; padding: 0}\n",
       ".list-inline>li {display: inline-block}\n",
       ".list-inline>li:not(:last-child)::after {content: \"\\00b7\"; padding: 0 .5ex}\n",
       "</style>\n",
       "<ol class=list-inline><li>98</li><li>489</li></ol>\n"
      ],
      "text/latex": [
       "\\begin{enumerate*}\n",
       "\\item 98\n",
       "\\item 489\n",
       "\\end{enumerate*}\n"
      ],
      "text/markdown": [
       "1. 98\n",
       "2. 489\n",
       "\n",
       "\n"
      ],
      "text/plain": [
       "[1]  98 489"
      ]
     },
     "metadata": {},
     "output_type": "display_data"
    }
   ],
   "source": [
    "paths <- list(\n",
    "  pvar_path = paste0(\"/expanse/lustre/projects/jhu152/naglemi/mwas/gwas/ref_EUR_chr\", chr, \".pvar\"),\n",
    "  pgen_path = paste0(\"/expanse/lustre/projects/jhu152/naglemi/mwas/gwas/ref_EUR_chr\", chr, \".pgen\"),\n",
    "  psam_path = paste0(\"/expanse/lustre/projects/jhu152/naglemi/mwas/gwas/ref_EUR_chr\", chr, \".psam\")\n",
    ")\n",
    "\n",
    "my_SNPs <- loadSNPData(paths$pvar_path, paths$pgen_path, paths$psam_path)\n",
    "\n",
    "filter_snps\n",
    "\n",
    "#if(filter_snps == TRUE){\n",
    "    #snp_indices_of_interest <- which(my_SNPs$pvar_dt$POS >= min(sites_to_test_pos)-10000 & my_SNPs$pvar_dt$POS <= max(sites_to_test_pos) + 10000)\n",
    "#}\n",
    "\n",
    "snp_indices_of_interest <- which(my_SNPs$pvar_dt$POS >= 1963098 & my_SNPs$pvar_dt$POS <= 2009071)\n",
    "\n",
    "snp.1kg.eur3 <- pgenlibr::ReadList(my_SNPs$pgen,\n",
    "                        variant_subset = snp_indices_of_interest)\n",
    "colnames(snp.1kg.eur3) <- my_SNPs$pvar_dt$ID[snp_indices_of_interest]\n",
    "rownames(snp.1kg.eur3) <- my_SNPs$psam$`IID`\n",
    "\n",
    "map.1kg.eur3 <- my_SNPs$pvar_dt\n",
    "\n",
    "map.1kg.eur3 <- map.1kg.eur3[snp_indices_of_interest, ]\n",
    "\n",
    "snp.1kg.eur3 <- t(snp.1kg.eur3)\n",
    "\n",
    "dim(map.1kg.eur3)\n",
    "\n",
    "dim(snp.1kg.eur3)"
   ]
  },
  {
   "cell_type": "markdown",
   "id": "08ad6909-89c5-4aa3-a187-00f5a8f41997",
   "metadata": {},
   "source": [
    "### Compare reference population SNPs between Shizhong's old object and my new one"
   ]
  },
  {
   "cell_type": "code",
   "execution_count": null,
   "id": "9fe4a3a2-0fc0-49a4-b06e-e9597f16a5b3",
   "metadata": {},
   "outputs": [],
   "source": []
  },
  {
   "cell_type": "code",
   "execution_count": 70,
   "id": "a64a7aff-f9b1-4d94-8ca8-a26e02ac8842",
   "metadata": {},
   "outputs": [
    {
     "data": {
      "text/html": [
       "<table class=\"dataframe\">\n",
       "<caption>A data.frame: 10 × 10</caption>\n",
       "<thead>\n",
       "\t<tr><th></th><th scope=col>HG00096_HG00096</th><th scope=col>HG00097_HG00097</th><th scope=col>HG00099_HG00099</th><th scope=col>HG00101_HG00101</th><th scope=col>HG00102_HG00102</th><th scope=col>HG00103_HG00103</th><th scope=col>HG00105_HG00105</th><th scope=col>HG00107_HG00107</th><th scope=col>HG00108_HG00108</th><th scope=col>HG00109_HG00109</th></tr>\n",
       "\t<tr><th></th><th scope=col>&lt;dbl&gt;</th><th scope=col>&lt;dbl&gt;</th><th scope=col>&lt;dbl&gt;</th><th scope=col>&lt;dbl&gt;</th><th scope=col>&lt;dbl&gt;</th><th scope=col>&lt;dbl&gt;</th><th scope=col>&lt;dbl&gt;</th><th scope=col>&lt;dbl&gt;</th><th scope=col>&lt;dbl&gt;</th><th scope=col>&lt;dbl&gt;</th></tr>\n",
       "</thead>\n",
       "<tbody>\n",
       "\t<tr><th scope=row>rs11773627</th><td>2</td><td>1</td><td>2</td><td>1</td><td>1</td><td>2</td><td>2</td><td>2</td><td>2</td><td>2</td></tr>\n",
       "\t<tr><th scope=row>rs6972374</th><td>2</td><td>2</td><td>1</td><td>2</td><td>1</td><td>1</td><td>1</td><td>2</td><td>0</td><td>1</td></tr>\n",
       "\t<tr><th scope=row>rs12666575</th><td>0</td><td>1</td><td>1</td><td>1</td><td>2</td><td>1</td><td>1</td><td>0</td><td>2</td><td>1</td></tr>\n",
       "\t<tr><th scope=row>rs11766575</th><td>0</td><td>1</td><td>1</td><td>1</td><td>2</td><td>1</td><td>1</td><td>0</td><td>2</td><td>1</td></tr>\n",
       "\t<tr><th scope=row>rs4721264</th><td>0</td><td>1</td><td>1</td><td>1</td><td>1</td><td>1</td><td>1</td><td>0</td><td>2</td><td>1</td></tr>\n",
       "\t<tr><th scope=row>rs62442944</th><td>2</td><td>1</td><td>2</td><td>1</td><td>1</td><td>2</td><td>2</td><td>2</td><td>2</td><td>2</td></tr>\n",
       "\t<tr><th scope=row>rs12699547</th><td>2</td><td>2</td><td>1</td><td>2</td><td>2</td><td>1</td><td>1</td><td>2</td><td>0</td><td>1</td></tr>\n",
       "\t<tr><th scope=row>rs6461049</th><td>2</td><td>1</td><td>1</td><td>1</td><td>1</td><td>1</td><td>1</td><td>2</td><td>0</td><td>1</td></tr>\n",
       "\t<tr><th scope=row>rs6969587</th><td>2</td><td>2</td><td>1</td><td>2</td><td>2</td><td>1</td><td>1</td><td>2</td><td>0</td><td>1</td></tr>\n",
       "\t<tr><th scope=row>rs12699561</th><td>2</td><td>2</td><td>1</td><td>2</td><td>2</td><td>1</td><td>1</td><td>2</td><td>0</td><td>1</td></tr>\n",
       "</tbody>\n",
       "</table>\n"
      ],
      "text/latex": [
       "A data.frame: 10 × 10\n",
       "\\begin{tabular}{r|llllllllll}\n",
       "  & HG00096\\_HG00096 & HG00097\\_HG00097 & HG00099\\_HG00099 & HG00101\\_HG00101 & HG00102\\_HG00102 & HG00103\\_HG00103 & HG00105\\_HG00105 & HG00107\\_HG00107 & HG00108\\_HG00108 & HG00109\\_HG00109\\\\\n",
       "  & <dbl> & <dbl> & <dbl> & <dbl> & <dbl> & <dbl> & <dbl> & <dbl> & <dbl> & <dbl>\\\\\n",
       "\\hline\n",
       "\trs11773627 & 2 & 1 & 2 & 1 & 1 & 2 & 2 & 2 & 2 & 2\\\\\n",
       "\trs6972374 & 2 & 2 & 1 & 2 & 1 & 1 & 1 & 2 & 0 & 1\\\\\n",
       "\trs12666575 & 0 & 1 & 1 & 1 & 2 & 1 & 1 & 0 & 2 & 1\\\\\n",
       "\trs11766575 & 0 & 1 & 1 & 1 & 2 & 1 & 1 & 0 & 2 & 1\\\\\n",
       "\trs4721264 & 0 & 1 & 1 & 1 & 1 & 1 & 1 & 0 & 2 & 1\\\\\n",
       "\trs62442944 & 2 & 1 & 2 & 1 & 1 & 2 & 2 & 2 & 2 & 2\\\\\n",
       "\trs12699547 & 2 & 2 & 1 & 2 & 2 & 1 & 1 & 2 & 0 & 1\\\\\n",
       "\trs6461049 & 2 & 1 & 1 & 1 & 1 & 1 & 1 & 2 & 0 & 1\\\\\n",
       "\trs6969587 & 2 & 2 & 1 & 2 & 2 & 1 & 1 & 2 & 0 & 1\\\\\n",
       "\trs12699561 & 2 & 2 & 1 & 2 & 2 & 1 & 1 & 2 & 0 & 1\\\\\n",
       "\\end{tabular}\n"
      ],
      "text/markdown": [
       "\n",
       "A data.frame: 10 × 10\n",
       "\n",
       "| <!--/--> | HG00096_HG00096 &lt;dbl&gt; | HG00097_HG00097 &lt;dbl&gt; | HG00099_HG00099 &lt;dbl&gt; | HG00101_HG00101 &lt;dbl&gt; | HG00102_HG00102 &lt;dbl&gt; | HG00103_HG00103 &lt;dbl&gt; | HG00105_HG00105 &lt;dbl&gt; | HG00107_HG00107 &lt;dbl&gt; | HG00108_HG00108 &lt;dbl&gt; | HG00109_HG00109 &lt;dbl&gt; |\n",
       "|---|---|---|---|---|---|---|---|---|---|---|\n",
       "| rs11773627 | 2 | 1 | 2 | 1 | 1 | 2 | 2 | 2 | 2 | 2 |\n",
       "| rs6972374 | 2 | 2 | 1 | 2 | 1 | 1 | 1 | 2 | 0 | 1 |\n",
       "| rs12666575 | 0 | 1 | 1 | 1 | 2 | 1 | 1 | 0 | 2 | 1 |\n",
       "| rs11766575 | 0 | 1 | 1 | 1 | 2 | 1 | 1 | 0 | 2 | 1 |\n",
       "| rs4721264 | 0 | 1 | 1 | 1 | 1 | 1 | 1 | 0 | 2 | 1 |\n",
       "| rs62442944 | 2 | 1 | 2 | 1 | 1 | 2 | 2 | 2 | 2 | 2 |\n",
       "| rs12699547 | 2 | 2 | 1 | 2 | 2 | 1 | 1 | 2 | 0 | 1 |\n",
       "| rs6461049 | 2 | 1 | 1 | 1 | 1 | 1 | 1 | 2 | 0 | 1 |\n",
       "| rs6969587 | 2 | 2 | 1 | 2 | 2 | 1 | 1 | 2 | 0 | 1 |\n",
       "| rs12699561 | 2 | 2 | 1 | 2 | 2 | 1 | 1 | 2 | 0 | 1 |\n",
       "\n"
      ],
      "text/plain": [
       "           HG00096_HG00096 HG00097_HG00097 HG00099_HG00099 HG00101_HG00101\n",
       "rs11773627 2               1               2               1              \n",
       "rs6972374  2               2               1               2              \n",
       "rs12666575 0               1               1               1              \n",
       "rs11766575 0               1               1               1              \n",
       "rs4721264  0               1               1               1              \n",
       "rs62442944 2               1               2               1              \n",
       "rs12699547 2               2               1               2              \n",
       "rs6461049  2               1               1               1              \n",
       "rs6969587  2               2               1               2              \n",
       "rs12699561 2               2               1               2              \n",
       "           HG00102_HG00102 HG00103_HG00103 HG00105_HG00105 HG00107_HG00107\n",
       "rs11773627 1               2               2               2              \n",
       "rs6972374  1               1               1               2              \n",
       "rs12666575 2               1               1               0              \n",
       "rs11766575 2               1               1               0              \n",
       "rs4721264  1               1               1               0              \n",
       "rs62442944 1               2               2               2              \n",
       "rs12699547 2               1               1               2              \n",
       "rs6461049  1               1               1               2              \n",
       "rs6969587  2               1               1               2              \n",
       "rs12699561 2               1               1               2              \n",
       "           HG00108_HG00108 HG00109_HG00109\n",
       "rs11773627 2               2              \n",
       "rs6972374  0               1              \n",
       "rs12666575 2               1              \n",
       "rs11766575 2               1              \n",
       "rs4721264  2               1              \n",
       "rs62442944 2               2              \n",
       "rs12699547 0               1              \n",
       "rs6461049  0               1              \n",
       "rs6969587  0               1              \n",
       "rs12699561 0               1              "
      ]
     },
     "metadata": {},
     "output_type": "display_data"
    }
   ],
   "source": [
    "snp.1kg.eur2[1:10, 1:10]"
   ]
  },
  {
   "cell_type": "code",
   "execution_count": 71,
   "id": "7c6d5611-c90e-41b5-91aa-cddd1d09044d",
   "metadata": {},
   "outputs": [
    {
     "data": {
      "text/html": [
       "<style>\n",
       ".list-inline {list-style: none; margin:0; padding: 0}\n",
       ".list-inline>li {display: inline-block}\n",
       ".list-inline>li:not(:last-child)::after {content: \"\\00b7\"; padding: 0 .5ex}\n",
       "</style>\n",
       "<ol class=list-inline><li>56</li><li>489</li></ol>\n"
      ],
      "text/latex": [
       "\\begin{enumerate*}\n",
       "\\item 56\n",
       "\\item 489\n",
       "\\end{enumerate*}\n"
      ],
      "text/markdown": [
       "1. 56\n",
       "2. 489\n",
       "\n",
       "\n"
      ],
      "text/plain": [
       "[1]  56 489"
      ]
     },
     "metadata": {},
     "output_type": "display_data"
    }
   ],
   "source": [
    "dim(snp.1kg.eur2)"
   ]
  },
  {
   "cell_type": "code",
   "execution_count": 72,
   "id": "dfd0e144-f259-4601-bd4f-bd2effa0837f",
   "metadata": {
    "scrolled": true
   },
   "outputs": [
    {
     "data": {
      "text/html": [
       "<style>\n",
       ".list-inline {list-style: none; margin:0; padding: 0}\n",
       ".list-inline>li {display: inline-block}\n",
       ".list-inline>li:not(:last-child)::after {content: \"\\00b7\"; padding: 0 .5ex}\n",
       "</style>\n",
       "<ol class=list-inline><li>98</li><li>489</li></ol>\n"
      ],
      "text/latex": [
       "\\begin{enumerate*}\n",
       "\\item 98\n",
       "\\item 489\n",
       "\\end{enumerate*}\n"
      ],
      "text/markdown": [
       "1. 98\n",
       "2. 489\n",
       "\n",
       "\n"
      ],
      "text/plain": [
       "[1]  98 489"
      ]
     },
     "metadata": {},
     "output_type": "display_data"
    }
   ],
   "source": [
    "dim(snp.1kg.eur3)"
   ]
  },
  {
   "cell_type": "code",
   "execution_count": 73,
   "id": "1ad8a4db-9a45-463a-87ac-49f0ca0ce404",
   "metadata": {},
   "outputs": [
    {
     "data": {
      "text/html": [
       "<table class=\"dataframe\">\n",
       "<caption>A data.table: 6 × 3</caption>\n",
       "<thead>\n",
       "\t<tr><th scope=col>#CHROM</th><th scope=col>POS</th><th scope=col>ID</th></tr>\n",
       "\t<tr><th scope=col>&lt;int&gt;</th><th scope=col>&lt;int&gt;</th><th scope=col>&lt;chr&gt;</th></tr>\n",
       "</thead>\n",
       "<tbody>\n",
       "\t<tr><td>7</td><td>1963098</td><td>rs11773627</td></tr>\n",
       "\t<tr><td>7</td><td>1963408</td><td>rs6972374 </td></tr>\n",
       "\t<tr><td>7</td><td>1963697</td><td>rs7795303 </td></tr>\n",
       "\t<tr><td>7</td><td>1964758</td><td>rs6946691 </td></tr>\n",
       "\t<tr><td>7</td><td>1964786</td><td>rs12666575</td></tr>\n",
       "\t<tr><td>7</td><td>1964869</td><td>rs61467855</td></tr>\n",
       "</tbody>\n",
       "</table>\n"
      ],
      "text/latex": [
       "A data.table: 6 × 3\n",
       "\\begin{tabular}{lll}\n",
       " \\#CHROM & POS & ID\\\\\n",
       " <int> & <int> & <chr>\\\\\n",
       "\\hline\n",
       "\t 7 & 1963098 & rs11773627\\\\\n",
       "\t 7 & 1963408 & rs6972374 \\\\\n",
       "\t 7 & 1963697 & rs7795303 \\\\\n",
       "\t 7 & 1964758 & rs6946691 \\\\\n",
       "\t 7 & 1964786 & rs12666575\\\\\n",
       "\t 7 & 1964869 & rs61467855\\\\\n",
       "\\end{tabular}\n"
      ],
      "text/markdown": [
       "\n",
       "A data.table: 6 × 3\n",
       "\n",
       "| #CHROM &lt;int&gt; | POS &lt;int&gt; | ID &lt;chr&gt; |\n",
       "|---|---|---|\n",
       "| 7 | 1963098 | rs11773627 |\n",
       "| 7 | 1963408 | rs6972374  |\n",
       "| 7 | 1963697 | rs7795303  |\n",
       "| 7 | 1964758 | rs6946691  |\n",
       "| 7 | 1964786 | rs12666575 |\n",
       "| 7 | 1964869 | rs61467855 |\n",
       "\n"
      ],
      "text/plain": [
       "  #CHROM POS     ID        \n",
       "1 7      1963098 rs11773627\n",
       "2 7      1963408 rs6972374 \n",
       "3 7      1963697 rs7795303 \n",
       "4 7      1964758 rs6946691 \n",
       "5 7      1964786 rs12666575\n",
       "6 7      1964869 rs61467855"
      ]
     },
     "metadata": {},
     "output_type": "display_data"
    }
   ],
   "source": [
    "head(map.1kg.eur3)"
   ]
  },
  {
   "cell_type": "code",
   "execution_count": 74,
   "id": "1cfefb46-875e-477b-bcb3-aa5adcb6d22a",
   "metadata": {},
   "outputs": [
    {
     "data": {
      "text/html": [
       "1963098"
      ],
      "text/latex": [
       "1963098"
      ],
      "text/markdown": [
       "1963098"
      ],
      "text/plain": [
       "[1] 1963098"
      ]
     },
     "metadata": {},
     "output_type": "display_data"
    },
    {
     "data": {
      "text/html": [
       "2009071"
      ],
      "text/latex": [
       "2009071"
      ],
      "text/markdown": [
       "2009071"
      ],
      "text/plain": [
       "[1] 2009071"
      ]
     },
     "metadata": {},
     "output_type": "display_data"
    }
   ],
   "source": [
    "min(map.1kg.eur2$POS)\n",
    "max(map.1kg.eur2$POS)"
   ]
  },
  {
   "cell_type": "code",
   "execution_count": 75,
   "id": "9dfadb8e-4d57-4718-a218-53fe910bf0e5",
   "metadata": {},
   "outputs": [
    {
     "data": {
      "text/html": [
       "1963098"
      ],
      "text/latex": [
       "1963098"
      ],
      "text/markdown": [
       "1963098"
      ],
      "text/plain": [
       "[1] 1963098"
      ]
     },
     "metadata": {},
     "output_type": "display_data"
    },
    {
     "data": {
      "text/html": [
       "2009071"
      ],
      "text/latex": [
       "2009071"
      ],
      "text/markdown": [
       "2009071"
      ],
      "text/plain": [
       "[1] 2009071"
      ]
     },
     "metadata": {},
     "output_type": "display_data"
    }
   ],
   "source": [
    "min(map.1kg.eur3$POS)\n",
    "max(map.1kg.eur3$POS)"
   ]
  },
  {
   "cell_type": "markdown",
   "id": "c5e33723-aa27-4e14-9e01-a6b5e3fef739",
   "metadata": {},
   "source": [
    "Is it possible that order is the only problem? What happens if we change order to match?"
   ]
  },
  {
   "cell_type": "code",
   "execution_count": 76,
   "id": "98242ad4-bd69-4a07-ac71-22528f9b3101",
   "metadata": {},
   "outputs": [],
   "source": [
    "colnames(snp.1kg.eur3) <- paste0(colnames(snp.1kg.eur3), \"_\", colnames(snp.1kg.eur3))"
   ]
  },
  {
   "cell_type": "code",
   "execution_count": 77,
   "id": "6866a2a5-7b41-41bd-aa2e-5cb0731f4830",
   "metadata": {},
   "outputs": [
    {
     "data": {
      "text/html": [
       "TRUE"
      ],
      "text/latex": [
       "TRUE"
      ],
      "text/markdown": [
       "TRUE"
      ],
      "text/plain": [
       "[1] TRUE"
      ]
     },
     "metadata": {},
     "output_type": "display_data"
    }
   ],
   "source": [
    "all(colnames(snp.1kg.eur3) == colnames(snp.1kg.eur2))"
   ]
  },
  {
   "cell_type": "markdown",
   "id": "2571acd9-0a6e-4ca0-b821-612cb719ba62",
   "metadata": {},
   "source": [
    "I also want to compute MAF for all the SNPs.\n",
    "\n",
    "I want to know the MAF of all SNPs (rows) that appear in snp.1kg.eur3 but not snp.1kg.eur2"
   ]
  },
  {
   "cell_type": "code",
   "execution_count": 78,
   "id": "89df2802-b50f-46c0-b921-27f857e79f9f",
   "metadata": {},
   "outputs": [
    {
     "data": {
      "text/html": [
       "<style>\n",
       ".dl-inline {width: auto; margin:0; padding: 0}\n",
       ".dl-inline>dt, .dl-inline>dd {float: none; width: auto; display: inline-block}\n",
       ".dl-inline>dt::after {content: \":\\0020\"; padding-right: .5ex}\n",
       ".dl-inline>dt:not(:first-of-type) {padding-left: .5ex}\n",
       "</style><dl class=dl-inline><dt>rs7795303</dt><dd>0.0408997955010225</dd><dt>rs6946691</dt><dd>0.0408997955010225</dd><dt>rs61467855</dt><dd>0.0398773006134969</dd><dt>rs12669018</dt><dd>0.0296523517382413</dd><dt>rs1105641</dt><dd>0.0398773006134969</dd><dt>rs55669070</dt><dd>0.032719836400818</dd><dt>rs1105639</dt><dd>0.0408997955010225</dd><dt>rs10256644</dt><dd>0.0419222903885481</dd><dt>rs67059662</dt><dd>0.032719836400818</dd><dt>rs67271841</dt><dd>0.032719836400818</dd><dt>rs117106123</dt><dd>0.0296523517382413</dd><dt>rs55790414</dt><dd>0.032719836400818</dd><dt>rs1533828</dt><dd>0.0408997955010225</dd><dt>rs73047989</dt><dd>0.032719836400818</dd><dt>rs73047990</dt><dd>0.032719836400818</dd><dt>rs4721267</dt><dd>0.0408997955010225</dd><dt>rs56297951</dt><dd>0.0316973415132924</dd><dt>rs112351220</dt><dd>0.0316973415132924</dd><dt>rs145078370</dt><dd>0.0347648261758691</dd><dt>rs6964314</dt><dd>0.0398773006134969</dd><dt>rs73047997</dt><dd>0.0316973415132924</dd><dt>rs73047999</dt><dd>&lt;NA&gt;</dd><dt>rs113794170</dt><dd>0.0316973415132924</dd><dt>rs66979794</dt><dd>0.0388548057259714</dd><dt>rs73049803</dt><dd>0.0316973415132924</dd><dt>rs55790766</dt><dd>0.216768916155419</dd><dt>rs112054057</dt><dd>0.0316973415132924</dd><dt>rs73041780</dt><dd>0.0316973415132924</dd><dt>rs146040447</dt><dd>0.0316973415132924</dd><dt>rs56362140</dt><dd>0.0316973415132924</dd><dt>rs6953187</dt><dd>0.0337423312883436</dd><dt>rs55692801</dt><dd>0.0777096114519427</dd><dt>rs73043506</dt><dd>0.0398773006134969</dd><dt>rs73043509</dt><dd>0.0398773006134969</dd><dt>rs79206451</dt><dd>0.0296523517382413</dd><dt>rs73043511</dt><dd>0.0398773006134969</dd><dt>rs73043514</dt><dd>0.0398773006134969</dd><dt>rs139562583</dt><dd>0.0173824130879346</dd><dt>rs73043526</dt><dd>0.0316973415132924</dd><dt>rs55828714</dt><dd>0.0316973415132924</dd><dt>rs113724348</dt><dd>0.0347648261758691</dd><dt>rs117302256</dt><dd>0.0173824130879346</dd></dl>\n"
      ],
      "text/latex": [
       "\\begin{description*}\n",
       "\\item[rs7795303] 0.0408997955010225\n",
       "\\item[rs6946691] 0.0408997955010225\n",
       "\\item[rs61467855] 0.0398773006134969\n",
       "\\item[rs12669018] 0.0296523517382413\n",
       "\\item[rs1105641] 0.0398773006134969\n",
       "\\item[rs55669070] 0.032719836400818\n",
       "\\item[rs1105639] 0.0408997955010225\n",
       "\\item[rs10256644] 0.0419222903885481\n",
       "\\item[rs67059662] 0.032719836400818\n",
       "\\item[rs67271841] 0.032719836400818\n",
       "\\item[rs117106123] 0.0296523517382413\n",
       "\\item[rs55790414] 0.032719836400818\n",
       "\\item[rs1533828] 0.0408997955010225\n",
       "\\item[rs73047989] 0.032719836400818\n",
       "\\item[rs73047990] 0.032719836400818\n",
       "\\item[rs4721267] 0.0408997955010225\n",
       "\\item[rs56297951] 0.0316973415132924\n",
       "\\item[rs112351220] 0.0316973415132924\n",
       "\\item[rs145078370] 0.0347648261758691\n",
       "\\item[rs6964314] 0.0398773006134969\n",
       "\\item[rs73047997] 0.0316973415132924\n",
       "\\item[rs73047999] <NA>\n",
       "\\item[rs113794170] 0.0316973415132924\n",
       "\\item[rs66979794] 0.0388548057259714\n",
       "\\item[rs73049803] 0.0316973415132924\n",
       "\\item[rs55790766] 0.216768916155419\n",
       "\\item[rs112054057] 0.0316973415132924\n",
       "\\item[rs73041780] 0.0316973415132924\n",
       "\\item[rs146040447] 0.0316973415132924\n",
       "\\item[rs56362140] 0.0316973415132924\n",
       "\\item[rs6953187] 0.0337423312883436\n",
       "\\item[rs55692801] 0.0777096114519427\n",
       "\\item[rs73043506] 0.0398773006134969\n",
       "\\item[rs73043509] 0.0398773006134969\n",
       "\\item[rs79206451] 0.0296523517382413\n",
       "\\item[rs73043511] 0.0398773006134969\n",
       "\\item[rs73043514] 0.0398773006134969\n",
       "\\item[rs139562583] 0.0173824130879346\n",
       "\\item[rs73043526] 0.0316973415132924\n",
       "\\item[rs55828714] 0.0316973415132924\n",
       "\\item[rs113724348] 0.0347648261758691\n",
       "\\item[rs117302256] 0.0173824130879346\n",
       "\\end{description*}\n"
      ],
      "text/markdown": [
       "rs7795303\n",
       ":   0.0408997955010225rs6946691\n",
       ":   0.0408997955010225rs61467855\n",
       ":   0.0398773006134969rs12669018\n",
       ":   0.0296523517382413rs1105641\n",
       ":   0.0398773006134969rs55669070\n",
       ":   0.032719836400818rs1105639\n",
       ":   0.0408997955010225rs10256644\n",
       ":   0.0419222903885481rs67059662\n",
       ":   0.032719836400818rs67271841\n",
       ":   0.032719836400818rs117106123\n",
       ":   0.0296523517382413rs55790414\n",
       ":   0.032719836400818rs1533828\n",
       ":   0.0408997955010225rs73047989\n",
       ":   0.032719836400818rs73047990\n",
       ":   0.032719836400818rs4721267\n",
       ":   0.0408997955010225rs56297951\n",
       ":   0.0316973415132924rs112351220\n",
       ":   0.0316973415132924rs145078370\n",
       ":   0.0347648261758691rs6964314\n",
       ":   0.0398773006134969rs73047997\n",
       ":   0.0316973415132924rs73047999\n",
       ":   &lt;NA&gt;rs113794170\n",
       ":   0.0316973415132924rs66979794\n",
       ":   0.0388548057259714rs73049803\n",
       ":   0.0316973415132924rs55790766\n",
       ":   0.216768916155419rs112054057\n",
       ":   0.0316973415132924rs73041780\n",
       ":   0.0316973415132924rs146040447\n",
       ":   0.0316973415132924rs56362140\n",
       ":   0.0316973415132924rs6953187\n",
       ":   0.0337423312883436rs55692801\n",
       ":   0.0777096114519427rs73043506\n",
       ":   0.0398773006134969rs73043509\n",
       ":   0.0398773006134969rs79206451\n",
       ":   0.0296523517382413rs73043511\n",
       ":   0.0398773006134969rs73043514\n",
       ":   0.0398773006134969rs139562583\n",
       ":   0.0173824130879346rs73043526\n",
       ":   0.0316973415132924rs55828714\n",
       ":   0.0316973415132924rs113724348\n",
       ":   0.0347648261758691rs117302256\n",
       ":   0.0173824130879346\n",
       "\n"
      ],
      "text/plain": [
       "  rs7795303   rs6946691  rs61467855  rs12669018   rs1105641  rs55669070 \n",
       " 0.04089980  0.04089980  0.03987730  0.02965235  0.03987730  0.03271984 \n",
       "  rs1105639  rs10256644  rs67059662  rs67271841 rs117106123  rs55790414 \n",
       " 0.04089980  0.04192229  0.03271984  0.03271984  0.02965235  0.03271984 \n",
       "  rs1533828  rs73047989  rs73047990   rs4721267  rs56297951 rs112351220 \n",
       " 0.04089980  0.03271984  0.03271984  0.04089980  0.03169734  0.03169734 \n",
       "rs145078370   rs6964314  rs73047997  rs73047999 rs113794170  rs66979794 \n",
       " 0.03476483  0.03987730  0.03169734          NA  0.03169734  0.03885481 \n",
       " rs73049803  rs55790766 rs112054057  rs73041780 rs146040447  rs56362140 \n",
       " 0.03169734  0.21676892  0.03169734  0.03169734  0.03169734  0.03169734 \n",
       "  rs6953187  rs55692801  rs73043506  rs73043509  rs79206451  rs73043511 \n",
       " 0.03374233  0.07770961  0.03987730  0.03987730  0.02965235  0.03987730 \n",
       " rs73043514 rs139562583  rs73043526  rs55828714 rs113724348 rs117302256 \n",
       " 0.03987730  0.01738241  0.03169734  0.03169734  0.03476483  0.01738241 "
      ]
     },
     "metadata": {},
     "output_type": "display_data"
    }
   ],
   "source": [
    "# Compute MAF for all SNPs\n",
    "maf <- rowMeans(snp.1kg.eur3) / 2\n",
    "\n",
    "# Find SNPs in snp.1kg.eur3 but not in snp.1kg.eur2\n",
    "snp_diff <- setdiff(rownames(snp.1kg.eur3), rownames(snp.1kg.eur2))\n",
    "\n",
    "# MAF of SNPs that appear in snp.1kg.eur3 but not snp.1kg.eur2\n",
    "maf_diff <- maf[snp_diff]\n",
    "\n",
    "maf_diff"
   ]
  },
  {
   "cell_type": "markdown",
   "id": "189c7fa4-718f-4615-9458-d66e04b1079b",
   "metadata": {},
   "source": [
    "What's the minimum maf for snp.1kg.eur2"
   ]
  },
  {
   "cell_type": "code",
   "execution_count": 79,
   "id": "34bf4b5b-e1ac-4f6a-adf3-7e12a1878951",
   "metadata": {},
   "outputs": [
    {
     "data": {
      "text/html": [
       "0.39161554192229"
      ],
      "text/latex": [
       "0.39161554192229"
      ],
      "text/markdown": [
       "0.39161554192229"
      ],
      "text/plain": [
       "[1] 0.3916155"
      ]
     },
     "metadata": {},
     "output_type": "display_data"
    }
   ],
   "source": [
    "# Compute MAF for all SNPs in snp.1kg.eur2\n",
    "maf_eur2 <- rowMeans(snp.1kg.eur2) / 2\n",
    "\n",
    "# Find the minimum MAF for snp.1kg.eur2\n",
    "min_maf_eur2 <- min(maf_eur2)\n",
    "\n",
    "min_maf_eur2"
   ]
  },
  {
   "cell_type": "code",
   "execution_count": 80,
   "id": "c61e1d61-907d-4bd1-aaa5-c3c5bba48e4c",
   "metadata": {},
   "outputs": [],
   "source": [
    "# Subset snp.1kg.eur3 to include SNPs found in snp.1kg.eur2\n",
    "snp.1kg.eur3 <- snp.1kg.eur3[rownames(snp.1kg.eur3) %in% rownames(snp.1kg.eur2), ]"
   ]
  },
  {
   "cell_type": "code",
   "execution_count": 81,
   "id": "ac4bee91-df06-49e6-a7b6-9fc42824c1a1",
   "metadata": {},
   "outputs": [
    {
     "data": {
      "text/html": [
       "<style>\n",
       ".list-inline {list-style: none; margin:0; padding: 0}\n",
       ".list-inline>li {display: inline-block}\n",
       ".list-inline>li:not(:last-child)::after {content: \"\\00b7\"; padding: 0 .5ex}\n",
       "</style>\n",
       "<ol class=list-inline><li>56</li><li>489</li></ol>\n"
      ],
      "text/latex": [
       "\\begin{enumerate*}\n",
       "\\item 56\n",
       "\\item 489\n",
       "\\end{enumerate*}\n"
      ],
      "text/markdown": [
       "1. 56\n",
       "2. 489\n",
       "\n",
       "\n"
      ],
      "text/plain": [
       "[1]  56 489"
      ]
     },
     "metadata": {},
     "output_type": "display_data"
    }
   ],
   "source": [
    "dim(snp.1kg.eur3)"
   ]
  },
  {
   "cell_type": "code",
   "execution_count": 82,
   "id": "000aba08-f70b-4316-80dc-c9373db50892",
   "metadata": {},
   "outputs": [
    {
     "data": {
      "text/html": [
       "<style>\n",
       ".list-inline {list-style: none; margin:0; padding: 0}\n",
       ".list-inline>li {display: inline-block}\n",
       ".list-inline>li:not(:last-child)::after {content: \"\\00b7\"; padding: 0 .5ex}\n",
       "</style>\n",
       "<ol class=list-inline><li>56</li><li>489</li></ol>\n"
      ],
      "text/latex": [
       "\\begin{enumerate*}\n",
       "\\item 56\n",
       "\\item 489\n",
       "\\end{enumerate*}\n"
      ],
      "text/markdown": [
       "1. 56\n",
       "2. 489\n",
       "\n",
       "\n"
      ],
      "text/plain": [
       "[1]  56 489"
      ]
     },
     "metadata": {},
     "output_type": "display_data"
    }
   ],
   "source": [
    "dim(snp.1kg.eur2)"
   ]
  },
  {
   "cell_type": "code",
   "execution_count": 83,
   "id": "297efe3e-9e51-486e-b912-13d6ffa08ab6",
   "metadata": {},
   "outputs": [],
   "source": [
    "# Reorder rows of snp.1kg.eur3 to match snp.1kg.eur2\n",
    "snp.1kg.eur3 <- snp.1kg.eur3[rownames(snp.1kg.eur2), ]"
   ]
  },
  {
   "cell_type": "code",
   "execution_count": 84,
   "id": "9e28147b-91c0-4abd-9c77-57884ecaa817",
   "metadata": {},
   "outputs": [
    {
     "data": {
      "text/html": [
       "<table class=\"dataframe\">\n",
       "<caption>A matrix: 10 × 10 of type dbl</caption>\n",
       "<thead>\n",
       "\t<tr><th></th><th scope=col>HG00096_HG00096</th><th scope=col>HG00097_HG00097</th><th scope=col>HG00099_HG00099</th><th scope=col>HG00101_HG00101</th><th scope=col>HG00102_HG00102</th><th scope=col>HG00103_HG00103</th><th scope=col>HG00105_HG00105</th><th scope=col>HG00107_HG00107</th><th scope=col>HG00108_HG00108</th><th scope=col>HG00109_HG00109</th></tr>\n",
       "</thead>\n",
       "<tbody>\n",
       "\t<tr><th scope=row>rs11773627</th><td>0</td><td>1</td><td>0</td><td>1</td><td>1</td><td>0</td><td>0</td><td>0</td><td>0</td><td>0</td></tr>\n",
       "\t<tr><th scope=row>rs6972374</th><td>0</td><td>0</td><td>1</td><td>0</td><td>1</td><td>1</td><td>1</td><td>0</td><td>2</td><td>1</td></tr>\n",
       "\t<tr><th scope=row>rs12666575</th><td>2</td><td>1</td><td>1</td><td>1</td><td>0</td><td>1</td><td>1</td><td>2</td><td>0</td><td>1</td></tr>\n",
       "\t<tr><th scope=row>rs11766575</th><td>2</td><td>1</td><td>1</td><td>1</td><td>0</td><td>1</td><td>1</td><td>2</td><td>0</td><td>1</td></tr>\n",
       "\t<tr><th scope=row>rs4721264</th><td>2</td><td>1</td><td>1</td><td>1</td><td>1</td><td>1</td><td>1</td><td>2</td><td>0</td><td>1</td></tr>\n",
       "\t<tr><th scope=row>rs62442944</th><td>0</td><td>1</td><td>0</td><td>1</td><td>1</td><td>0</td><td>0</td><td>0</td><td>0</td><td>0</td></tr>\n",
       "\t<tr><th scope=row>rs12699547</th><td>0</td><td>0</td><td>1</td><td>0</td><td>0</td><td>1</td><td>1</td><td>0</td><td>2</td><td>1</td></tr>\n",
       "\t<tr><th scope=row>rs6461049</th><td>2</td><td>1</td><td>1</td><td>1</td><td>1</td><td>1</td><td>1</td><td>2</td><td>0</td><td>1</td></tr>\n",
       "\t<tr><th scope=row>rs6969587</th><td>0</td><td>0</td><td>1</td><td>0</td><td>0</td><td>1</td><td>1</td><td>0</td><td>2</td><td>1</td></tr>\n",
       "\t<tr><th scope=row>rs12699561</th><td>0</td><td>0</td><td>1</td><td>0</td><td>0</td><td>1</td><td>1</td><td>0</td><td>2</td><td>1</td></tr>\n",
       "</tbody>\n",
       "</table>\n"
      ],
      "text/latex": [
       "A matrix: 10 × 10 of type dbl\n",
       "\\begin{tabular}{r|llllllllll}\n",
       "  & HG00096\\_HG00096 & HG00097\\_HG00097 & HG00099\\_HG00099 & HG00101\\_HG00101 & HG00102\\_HG00102 & HG00103\\_HG00103 & HG00105\\_HG00105 & HG00107\\_HG00107 & HG00108\\_HG00108 & HG00109\\_HG00109\\\\\n",
       "\\hline\n",
       "\trs11773627 & 0 & 1 & 0 & 1 & 1 & 0 & 0 & 0 & 0 & 0\\\\\n",
       "\trs6972374 & 0 & 0 & 1 & 0 & 1 & 1 & 1 & 0 & 2 & 1\\\\\n",
       "\trs12666575 & 2 & 1 & 1 & 1 & 0 & 1 & 1 & 2 & 0 & 1\\\\\n",
       "\trs11766575 & 2 & 1 & 1 & 1 & 0 & 1 & 1 & 2 & 0 & 1\\\\\n",
       "\trs4721264 & 2 & 1 & 1 & 1 & 1 & 1 & 1 & 2 & 0 & 1\\\\\n",
       "\trs62442944 & 0 & 1 & 0 & 1 & 1 & 0 & 0 & 0 & 0 & 0\\\\\n",
       "\trs12699547 & 0 & 0 & 1 & 0 & 0 & 1 & 1 & 0 & 2 & 1\\\\\n",
       "\trs6461049 & 2 & 1 & 1 & 1 & 1 & 1 & 1 & 2 & 0 & 1\\\\\n",
       "\trs6969587 & 0 & 0 & 1 & 0 & 0 & 1 & 1 & 0 & 2 & 1\\\\\n",
       "\trs12699561 & 0 & 0 & 1 & 0 & 0 & 1 & 1 & 0 & 2 & 1\\\\\n",
       "\\end{tabular}\n"
      ],
      "text/markdown": [
       "\n",
       "A matrix: 10 × 10 of type dbl\n",
       "\n",
       "| <!--/--> | HG00096_HG00096 | HG00097_HG00097 | HG00099_HG00099 | HG00101_HG00101 | HG00102_HG00102 | HG00103_HG00103 | HG00105_HG00105 | HG00107_HG00107 | HG00108_HG00108 | HG00109_HG00109 |\n",
       "|---|---|---|---|---|---|---|---|---|---|---|\n",
       "| rs11773627 | 0 | 1 | 0 | 1 | 1 | 0 | 0 | 0 | 0 | 0 |\n",
       "| rs6972374 | 0 | 0 | 1 | 0 | 1 | 1 | 1 | 0 | 2 | 1 |\n",
       "| rs12666575 | 2 | 1 | 1 | 1 | 0 | 1 | 1 | 2 | 0 | 1 |\n",
       "| rs11766575 | 2 | 1 | 1 | 1 | 0 | 1 | 1 | 2 | 0 | 1 |\n",
       "| rs4721264 | 2 | 1 | 1 | 1 | 1 | 1 | 1 | 2 | 0 | 1 |\n",
       "| rs62442944 | 0 | 1 | 0 | 1 | 1 | 0 | 0 | 0 | 0 | 0 |\n",
       "| rs12699547 | 0 | 0 | 1 | 0 | 0 | 1 | 1 | 0 | 2 | 1 |\n",
       "| rs6461049 | 2 | 1 | 1 | 1 | 1 | 1 | 1 | 2 | 0 | 1 |\n",
       "| rs6969587 | 0 | 0 | 1 | 0 | 0 | 1 | 1 | 0 | 2 | 1 |\n",
       "| rs12699561 | 0 | 0 | 1 | 0 | 0 | 1 | 1 | 0 | 2 | 1 |\n",
       "\n"
      ],
      "text/plain": [
       "           HG00096_HG00096 HG00097_HG00097 HG00099_HG00099 HG00101_HG00101\n",
       "rs11773627 0               1               0               1              \n",
       "rs6972374  0               0               1               0              \n",
       "rs12666575 2               1               1               1              \n",
       "rs11766575 2               1               1               1              \n",
       "rs4721264  2               1               1               1              \n",
       "rs62442944 0               1               0               1              \n",
       "rs12699547 0               0               1               0              \n",
       "rs6461049  2               1               1               1              \n",
       "rs6969587  0               0               1               0              \n",
       "rs12699561 0               0               1               0              \n",
       "           HG00102_HG00102 HG00103_HG00103 HG00105_HG00105 HG00107_HG00107\n",
       "rs11773627 1               0               0               0              \n",
       "rs6972374  1               1               1               0              \n",
       "rs12666575 0               1               1               2              \n",
       "rs11766575 0               1               1               2              \n",
       "rs4721264  1               1               1               2              \n",
       "rs62442944 1               0               0               0              \n",
       "rs12699547 0               1               1               0              \n",
       "rs6461049  1               1               1               2              \n",
       "rs6969587  0               1               1               0              \n",
       "rs12699561 0               1               1               0              \n",
       "           HG00108_HG00108 HG00109_HG00109\n",
       "rs11773627 0               0              \n",
       "rs6972374  2               1              \n",
       "rs12666575 0               1              \n",
       "rs11766575 0               1              \n",
       "rs4721264  0               1              \n",
       "rs62442944 0               0              \n",
       "rs12699547 2               1              \n",
       "rs6461049  0               1              \n",
       "rs6969587  2               1              \n",
       "rs12699561 2               1              "
      ]
     },
     "metadata": {},
     "output_type": "display_data"
    }
   ],
   "source": [
    "snp.1kg.eur3[1:10, 1:10]"
   ]
  },
  {
   "cell_type": "code",
   "execution_count": 85,
   "id": "88bcbfe1-1499-4995-a848-5e3d6f116539",
   "metadata": {},
   "outputs": [
    {
     "data": {
      "text/html": [
       "<table class=\"dataframe\">\n",
       "<caption>A data.frame: 10 × 10</caption>\n",
       "<thead>\n",
       "\t<tr><th></th><th scope=col>HG00096_HG00096</th><th scope=col>HG00097_HG00097</th><th scope=col>HG00099_HG00099</th><th scope=col>HG00101_HG00101</th><th scope=col>HG00102_HG00102</th><th scope=col>HG00103_HG00103</th><th scope=col>HG00105_HG00105</th><th scope=col>HG00107_HG00107</th><th scope=col>HG00108_HG00108</th><th scope=col>HG00109_HG00109</th></tr>\n",
       "\t<tr><th></th><th scope=col>&lt;dbl&gt;</th><th scope=col>&lt;dbl&gt;</th><th scope=col>&lt;dbl&gt;</th><th scope=col>&lt;dbl&gt;</th><th scope=col>&lt;dbl&gt;</th><th scope=col>&lt;dbl&gt;</th><th scope=col>&lt;dbl&gt;</th><th scope=col>&lt;dbl&gt;</th><th scope=col>&lt;dbl&gt;</th><th scope=col>&lt;dbl&gt;</th></tr>\n",
       "</thead>\n",
       "<tbody>\n",
       "\t<tr><th scope=row>rs11773627</th><td>2</td><td>1</td><td>2</td><td>1</td><td>1</td><td>2</td><td>2</td><td>2</td><td>2</td><td>2</td></tr>\n",
       "\t<tr><th scope=row>rs6972374</th><td>2</td><td>2</td><td>1</td><td>2</td><td>1</td><td>1</td><td>1</td><td>2</td><td>0</td><td>1</td></tr>\n",
       "\t<tr><th scope=row>rs12666575</th><td>0</td><td>1</td><td>1</td><td>1</td><td>2</td><td>1</td><td>1</td><td>0</td><td>2</td><td>1</td></tr>\n",
       "\t<tr><th scope=row>rs11766575</th><td>0</td><td>1</td><td>1</td><td>1</td><td>2</td><td>1</td><td>1</td><td>0</td><td>2</td><td>1</td></tr>\n",
       "\t<tr><th scope=row>rs4721264</th><td>0</td><td>1</td><td>1</td><td>1</td><td>1</td><td>1</td><td>1</td><td>0</td><td>2</td><td>1</td></tr>\n",
       "\t<tr><th scope=row>rs62442944</th><td>2</td><td>1</td><td>2</td><td>1</td><td>1</td><td>2</td><td>2</td><td>2</td><td>2</td><td>2</td></tr>\n",
       "\t<tr><th scope=row>rs12699547</th><td>2</td><td>2</td><td>1</td><td>2</td><td>2</td><td>1</td><td>1</td><td>2</td><td>0</td><td>1</td></tr>\n",
       "\t<tr><th scope=row>rs6461049</th><td>2</td><td>1</td><td>1</td><td>1</td><td>1</td><td>1</td><td>1</td><td>2</td><td>0</td><td>1</td></tr>\n",
       "\t<tr><th scope=row>rs6969587</th><td>2</td><td>2</td><td>1</td><td>2</td><td>2</td><td>1</td><td>1</td><td>2</td><td>0</td><td>1</td></tr>\n",
       "\t<tr><th scope=row>rs12699561</th><td>2</td><td>2</td><td>1</td><td>2</td><td>2</td><td>1</td><td>1</td><td>2</td><td>0</td><td>1</td></tr>\n",
       "</tbody>\n",
       "</table>\n"
      ],
      "text/latex": [
       "A data.frame: 10 × 10\n",
       "\\begin{tabular}{r|llllllllll}\n",
       "  & HG00096\\_HG00096 & HG00097\\_HG00097 & HG00099\\_HG00099 & HG00101\\_HG00101 & HG00102\\_HG00102 & HG00103\\_HG00103 & HG00105\\_HG00105 & HG00107\\_HG00107 & HG00108\\_HG00108 & HG00109\\_HG00109\\\\\n",
       "  & <dbl> & <dbl> & <dbl> & <dbl> & <dbl> & <dbl> & <dbl> & <dbl> & <dbl> & <dbl>\\\\\n",
       "\\hline\n",
       "\trs11773627 & 2 & 1 & 2 & 1 & 1 & 2 & 2 & 2 & 2 & 2\\\\\n",
       "\trs6972374 & 2 & 2 & 1 & 2 & 1 & 1 & 1 & 2 & 0 & 1\\\\\n",
       "\trs12666575 & 0 & 1 & 1 & 1 & 2 & 1 & 1 & 0 & 2 & 1\\\\\n",
       "\trs11766575 & 0 & 1 & 1 & 1 & 2 & 1 & 1 & 0 & 2 & 1\\\\\n",
       "\trs4721264 & 0 & 1 & 1 & 1 & 1 & 1 & 1 & 0 & 2 & 1\\\\\n",
       "\trs62442944 & 2 & 1 & 2 & 1 & 1 & 2 & 2 & 2 & 2 & 2\\\\\n",
       "\trs12699547 & 2 & 2 & 1 & 2 & 2 & 1 & 1 & 2 & 0 & 1\\\\\n",
       "\trs6461049 & 2 & 1 & 1 & 1 & 1 & 1 & 1 & 2 & 0 & 1\\\\\n",
       "\trs6969587 & 2 & 2 & 1 & 2 & 2 & 1 & 1 & 2 & 0 & 1\\\\\n",
       "\trs12699561 & 2 & 2 & 1 & 2 & 2 & 1 & 1 & 2 & 0 & 1\\\\\n",
       "\\end{tabular}\n"
      ],
      "text/markdown": [
       "\n",
       "A data.frame: 10 × 10\n",
       "\n",
       "| <!--/--> | HG00096_HG00096 &lt;dbl&gt; | HG00097_HG00097 &lt;dbl&gt; | HG00099_HG00099 &lt;dbl&gt; | HG00101_HG00101 &lt;dbl&gt; | HG00102_HG00102 &lt;dbl&gt; | HG00103_HG00103 &lt;dbl&gt; | HG00105_HG00105 &lt;dbl&gt; | HG00107_HG00107 &lt;dbl&gt; | HG00108_HG00108 &lt;dbl&gt; | HG00109_HG00109 &lt;dbl&gt; |\n",
       "|---|---|---|---|---|---|---|---|---|---|---|\n",
       "| rs11773627 | 2 | 1 | 2 | 1 | 1 | 2 | 2 | 2 | 2 | 2 |\n",
       "| rs6972374 | 2 | 2 | 1 | 2 | 1 | 1 | 1 | 2 | 0 | 1 |\n",
       "| rs12666575 | 0 | 1 | 1 | 1 | 2 | 1 | 1 | 0 | 2 | 1 |\n",
       "| rs11766575 | 0 | 1 | 1 | 1 | 2 | 1 | 1 | 0 | 2 | 1 |\n",
       "| rs4721264 | 0 | 1 | 1 | 1 | 1 | 1 | 1 | 0 | 2 | 1 |\n",
       "| rs62442944 | 2 | 1 | 2 | 1 | 1 | 2 | 2 | 2 | 2 | 2 |\n",
       "| rs12699547 | 2 | 2 | 1 | 2 | 2 | 1 | 1 | 2 | 0 | 1 |\n",
       "| rs6461049 | 2 | 1 | 1 | 1 | 1 | 1 | 1 | 2 | 0 | 1 |\n",
       "| rs6969587 | 2 | 2 | 1 | 2 | 2 | 1 | 1 | 2 | 0 | 1 |\n",
       "| rs12699561 | 2 | 2 | 1 | 2 | 2 | 1 | 1 | 2 | 0 | 1 |\n",
       "\n"
      ],
      "text/plain": [
       "           HG00096_HG00096 HG00097_HG00097 HG00099_HG00099 HG00101_HG00101\n",
       "rs11773627 2               1               2               1              \n",
       "rs6972374  2               2               1               2              \n",
       "rs12666575 0               1               1               1              \n",
       "rs11766575 0               1               1               1              \n",
       "rs4721264  0               1               1               1              \n",
       "rs62442944 2               1               2               1              \n",
       "rs12699547 2               2               1               2              \n",
       "rs6461049  2               1               1               1              \n",
       "rs6969587  2               2               1               2              \n",
       "rs12699561 2               2               1               2              \n",
       "           HG00102_HG00102 HG00103_HG00103 HG00105_HG00105 HG00107_HG00107\n",
       "rs11773627 1               2               2               2              \n",
       "rs6972374  1               1               1               2              \n",
       "rs12666575 2               1               1               0              \n",
       "rs11766575 2               1               1               0              \n",
       "rs4721264  1               1               1               0              \n",
       "rs62442944 1               2               2               2              \n",
       "rs12699547 2               1               1               2              \n",
       "rs6461049  1               1               1               2              \n",
       "rs6969587  2               1               1               2              \n",
       "rs12699561 2               1               1               2              \n",
       "           HG00108_HG00108 HG00109_HG00109\n",
       "rs11773627 2               2              \n",
       "rs6972374  0               1              \n",
       "rs12666575 2               1              \n",
       "rs11766575 2               1              \n",
       "rs4721264  2               1              \n",
       "rs62442944 2               2              \n",
       "rs12699547 0               1              \n",
       "rs6461049  0               1              \n",
       "rs6969587  0               1              \n",
       "rs12699561 0               1              "
      ]
     },
     "metadata": {},
     "output_type": "display_data"
    }
   ],
   "source": [
    "snp.1kg.eur2[1:10, 1:10]"
   ]
  },
  {
   "cell_type": "code",
   "execution_count": 86,
   "id": "1cae3c92-66fc-40f1-bbdf-18ffb3a8598e",
   "metadata": {},
   "outputs": [
    {
     "data": {
      "text/html": [
       "<style>\n",
       ".list-inline {list-style: none; margin:0; padding: 0}\n",
       ".list-inline>li {display: inline-block}\n",
       ".list-inline>li:not(:last-child)::after {content: \"\\00b7\"; padding: 0 .5ex}\n",
       "</style>\n",
       "<ol class=list-inline><li>56</li><li>489</li></ol>\n"
      ],
      "text/latex": [
       "\\begin{enumerate*}\n",
       "\\item 56\n",
       "\\item 489\n",
       "\\end{enumerate*}\n"
      ],
      "text/markdown": [
       "1. 56\n",
       "2. 489\n",
       "\n",
       "\n"
      ],
      "text/plain": [
       "[1]  56 489"
      ]
     },
     "metadata": {},
     "output_type": "display_data"
    }
   ],
   "source": [
    "dim(snp.1kg.eur2)"
   ]
  },
  {
   "cell_type": "code",
   "execution_count": 87,
   "id": "169d37fb-6f2f-4cb5-bd03-13d29ba1fade",
   "metadata": {},
   "outputs": [
    {
     "data": {
      "text/html": [
       "<style>\n",
       ".list-inline {list-style: none; margin:0; padding: 0}\n",
       ".list-inline>li {display: inline-block}\n",
       ".list-inline>li:not(:last-child)::after {content: \"\\00b7\"; padding: 0 .5ex}\n",
       "</style>\n",
       "<ol class=list-inline><li>56</li><li>489</li></ol>\n"
      ],
      "text/latex": [
       "\\begin{enumerate*}\n",
       "\\item 56\n",
       "\\item 489\n",
       "\\end{enumerate*}\n"
      ],
      "text/markdown": [
       "1. 56\n",
       "2. 489\n",
       "\n",
       "\n"
      ],
      "text/plain": [
       "[1]  56 489"
      ]
     },
     "metadata": {},
     "output_type": "display_data"
    }
   ],
   "source": [
    "dim(snp.1kg.eur3)"
   ]
  },
  {
   "cell_type": "code",
   "execution_count": 88,
   "id": "d6b280bf-5954-49b0-98de-82ab6f4e9460",
   "metadata": {},
   "outputs": [],
   "source": [
    "snp.1kg.eur3 <- 2 - snp.1kg.eur3"
   ]
  },
  {
   "cell_type": "code",
   "execution_count": 89,
   "id": "cb06acae-f910-4d9f-8dbc-8e83156ac290",
   "metadata": {},
   "outputs": [],
   "source": [
    "diff <- snp.1kg.eur3 - snp.1kg.eur2"
   ]
  },
  {
   "cell_type": "code",
   "execution_count": 90,
   "id": "aca58481-ea05-4e7e-a320-8f1381c925e2",
   "metadata": {},
   "outputs": [
    {
     "data": {
      "text/html": [
       "<table class=\"dataframe\">\n",
       "<caption>A data.frame: 10 × 10</caption>\n",
       "<thead>\n",
       "\t<tr><th></th><th scope=col>HG00096_HG00096</th><th scope=col>HG00097_HG00097</th><th scope=col>HG00099_HG00099</th><th scope=col>HG00101_HG00101</th><th scope=col>HG00102_HG00102</th><th scope=col>HG00103_HG00103</th><th scope=col>HG00105_HG00105</th><th scope=col>HG00107_HG00107</th><th scope=col>HG00108_HG00108</th><th scope=col>HG00109_HG00109</th></tr>\n",
       "\t<tr><th></th><th scope=col>&lt;dbl&gt;</th><th scope=col>&lt;dbl&gt;</th><th scope=col>&lt;dbl&gt;</th><th scope=col>&lt;dbl&gt;</th><th scope=col>&lt;dbl&gt;</th><th scope=col>&lt;dbl&gt;</th><th scope=col>&lt;dbl&gt;</th><th scope=col>&lt;dbl&gt;</th><th scope=col>&lt;dbl&gt;</th><th scope=col>&lt;dbl&gt;</th></tr>\n",
       "</thead>\n",
       "<tbody>\n",
       "\t<tr><th scope=row>rs11773627</th><td>2</td><td>1</td><td>2</td><td>1</td><td>1</td><td>2</td><td>2</td><td>2</td><td>2</td><td>2</td></tr>\n",
       "\t<tr><th scope=row>rs6972374</th><td>2</td><td>2</td><td>1</td><td>2</td><td>1</td><td>1</td><td>1</td><td>2</td><td>0</td><td>1</td></tr>\n",
       "\t<tr><th scope=row>rs12666575</th><td>0</td><td>1</td><td>1</td><td>1</td><td>2</td><td>1</td><td>1</td><td>0</td><td>2</td><td>1</td></tr>\n",
       "\t<tr><th scope=row>rs11766575</th><td>0</td><td>1</td><td>1</td><td>1</td><td>2</td><td>1</td><td>1</td><td>0</td><td>2</td><td>1</td></tr>\n",
       "\t<tr><th scope=row>rs4721264</th><td>0</td><td>1</td><td>1</td><td>1</td><td>1</td><td>1</td><td>1</td><td>0</td><td>2</td><td>1</td></tr>\n",
       "\t<tr><th scope=row>rs62442944</th><td>2</td><td>1</td><td>2</td><td>1</td><td>1</td><td>2</td><td>2</td><td>2</td><td>2</td><td>2</td></tr>\n",
       "\t<tr><th scope=row>rs12699547</th><td>2</td><td>2</td><td>1</td><td>2</td><td>2</td><td>1</td><td>1</td><td>2</td><td>0</td><td>1</td></tr>\n",
       "\t<tr><th scope=row>rs6461049</th><td>2</td><td>1</td><td>1</td><td>1</td><td>1</td><td>1</td><td>1</td><td>2</td><td>0</td><td>1</td></tr>\n",
       "\t<tr><th scope=row>rs6969587</th><td>2</td><td>2</td><td>1</td><td>2</td><td>2</td><td>1</td><td>1</td><td>2</td><td>0</td><td>1</td></tr>\n",
       "\t<tr><th scope=row>rs12699561</th><td>2</td><td>2</td><td>1</td><td>2</td><td>2</td><td>1</td><td>1</td><td>2</td><td>0</td><td>1</td></tr>\n",
       "</tbody>\n",
       "</table>\n"
      ],
      "text/latex": [
       "A data.frame: 10 × 10\n",
       "\\begin{tabular}{r|llllllllll}\n",
       "  & HG00096\\_HG00096 & HG00097\\_HG00097 & HG00099\\_HG00099 & HG00101\\_HG00101 & HG00102\\_HG00102 & HG00103\\_HG00103 & HG00105\\_HG00105 & HG00107\\_HG00107 & HG00108\\_HG00108 & HG00109\\_HG00109\\\\\n",
       "  & <dbl> & <dbl> & <dbl> & <dbl> & <dbl> & <dbl> & <dbl> & <dbl> & <dbl> & <dbl>\\\\\n",
       "\\hline\n",
       "\trs11773627 & 2 & 1 & 2 & 1 & 1 & 2 & 2 & 2 & 2 & 2\\\\\n",
       "\trs6972374 & 2 & 2 & 1 & 2 & 1 & 1 & 1 & 2 & 0 & 1\\\\\n",
       "\trs12666575 & 0 & 1 & 1 & 1 & 2 & 1 & 1 & 0 & 2 & 1\\\\\n",
       "\trs11766575 & 0 & 1 & 1 & 1 & 2 & 1 & 1 & 0 & 2 & 1\\\\\n",
       "\trs4721264 & 0 & 1 & 1 & 1 & 1 & 1 & 1 & 0 & 2 & 1\\\\\n",
       "\trs62442944 & 2 & 1 & 2 & 1 & 1 & 2 & 2 & 2 & 2 & 2\\\\\n",
       "\trs12699547 & 2 & 2 & 1 & 2 & 2 & 1 & 1 & 2 & 0 & 1\\\\\n",
       "\trs6461049 & 2 & 1 & 1 & 1 & 1 & 1 & 1 & 2 & 0 & 1\\\\\n",
       "\trs6969587 & 2 & 2 & 1 & 2 & 2 & 1 & 1 & 2 & 0 & 1\\\\\n",
       "\trs12699561 & 2 & 2 & 1 & 2 & 2 & 1 & 1 & 2 & 0 & 1\\\\\n",
       "\\end{tabular}\n"
      ],
      "text/markdown": [
       "\n",
       "A data.frame: 10 × 10\n",
       "\n",
       "| <!--/--> | HG00096_HG00096 &lt;dbl&gt; | HG00097_HG00097 &lt;dbl&gt; | HG00099_HG00099 &lt;dbl&gt; | HG00101_HG00101 &lt;dbl&gt; | HG00102_HG00102 &lt;dbl&gt; | HG00103_HG00103 &lt;dbl&gt; | HG00105_HG00105 &lt;dbl&gt; | HG00107_HG00107 &lt;dbl&gt; | HG00108_HG00108 &lt;dbl&gt; | HG00109_HG00109 &lt;dbl&gt; |\n",
       "|---|---|---|---|---|---|---|---|---|---|---|\n",
       "| rs11773627 | 2 | 1 | 2 | 1 | 1 | 2 | 2 | 2 | 2 | 2 |\n",
       "| rs6972374 | 2 | 2 | 1 | 2 | 1 | 1 | 1 | 2 | 0 | 1 |\n",
       "| rs12666575 | 0 | 1 | 1 | 1 | 2 | 1 | 1 | 0 | 2 | 1 |\n",
       "| rs11766575 | 0 | 1 | 1 | 1 | 2 | 1 | 1 | 0 | 2 | 1 |\n",
       "| rs4721264 | 0 | 1 | 1 | 1 | 1 | 1 | 1 | 0 | 2 | 1 |\n",
       "| rs62442944 | 2 | 1 | 2 | 1 | 1 | 2 | 2 | 2 | 2 | 2 |\n",
       "| rs12699547 | 2 | 2 | 1 | 2 | 2 | 1 | 1 | 2 | 0 | 1 |\n",
       "| rs6461049 | 2 | 1 | 1 | 1 | 1 | 1 | 1 | 2 | 0 | 1 |\n",
       "| rs6969587 | 2 | 2 | 1 | 2 | 2 | 1 | 1 | 2 | 0 | 1 |\n",
       "| rs12699561 | 2 | 2 | 1 | 2 | 2 | 1 | 1 | 2 | 0 | 1 |\n",
       "\n"
      ],
      "text/plain": [
       "           HG00096_HG00096 HG00097_HG00097 HG00099_HG00099 HG00101_HG00101\n",
       "rs11773627 2               1               2               1              \n",
       "rs6972374  2               2               1               2              \n",
       "rs12666575 0               1               1               1              \n",
       "rs11766575 0               1               1               1              \n",
       "rs4721264  0               1               1               1              \n",
       "rs62442944 2               1               2               1              \n",
       "rs12699547 2               2               1               2              \n",
       "rs6461049  2               1               1               1              \n",
       "rs6969587  2               2               1               2              \n",
       "rs12699561 2               2               1               2              \n",
       "           HG00102_HG00102 HG00103_HG00103 HG00105_HG00105 HG00107_HG00107\n",
       "rs11773627 1               2               2               2              \n",
       "rs6972374  1               1               1               2              \n",
       "rs12666575 2               1               1               0              \n",
       "rs11766575 2               1               1               0              \n",
       "rs4721264  1               1               1               0              \n",
       "rs62442944 1               2               2               2              \n",
       "rs12699547 2               1               1               2              \n",
       "rs6461049  1               1               1               2              \n",
       "rs6969587  2               1               1               2              \n",
       "rs12699561 2               1               1               2              \n",
       "           HG00108_HG00108 HG00109_HG00109\n",
       "rs11773627 2               2              \n",
       "rs6972374  0               1              \n",
       "rs12666575 2               1              \n",
       "rs11766575 2               1              \n",
       "rs4721264  2               1              \n",
       "rs62442944 2               2              \n",
       "rs12699547 0               1              \n",
       "rs6461049  0               1              \n",
       "rs6969587  0               1              \n",
       "rs12699561 0               1              "
      ]
     },
     "metadata": {},
     "output_type": "display_data"
    }
   ],
   "source": [
    "snp.1kg.eur2[1:10, 1:10]"
   ]
  },
  {
   "cell_type": "code",
   "execution_count": 91,
   "id": "e3a44bb8-70ed-453c-830d-e7973f9ba817",
   "metadata": {},
   "outputs": [
    {
     "data": {
      "text/html": [
       "<table class=\"dataframe\">\n",
       "<caption>A matrix: 10 × 10 of type dbl</caption>\n",
       "<thead>\n",
       "\t<tr><th></th><th scope=col>HG00096_HG00096</th><th scope=col>HG00097_HG00097</th><th scope=col>HG00099_HG00099</th><th scope=col>HG00101_HG00101</th><th scope=col>HG00102_HG00102</th><th scope=col>HG00103_HG00103</th><th scope=col>HG00105_HG00105</th><th scope=col>HG00107_HG00107</th><th scope=col>HG00108_HG00108</th><th scope=col>HG00109_HG00109</th></tr>\n",
       "</thead>\n",
       "<tbody>\n",
       "\t<tr><th scope=row>rs11773627</th><td>2</td><td>1</td><td>2</td><td>1</td><td>1</td><td>2</td><td>2</td><td>2</td><td>2</td><td>2</td></tr>\n",
       "\t<tr><th scope=row>rs6972374</th><td>2</td><td>2</td><td>1</td><td>2</td><td>1</td><td>1</td><td>1</td><td>2</td><td>0</td><td>1</td></tr>\n",
       "\t<tr><th scope=row>rs12666575</th><td>0</td><td>1</td><td>1</td><td>1</td><td>2</td><td>1</td><td>1</td><td>0</td><td>2</td><td>1</td></tr>\n",
       "\t<tr><th scope=row>rs11766575</th><td>0</td><td>1</td><td>1</td><td>1</td><td>2</td><td>1</td><td>1</td><td>0</td><td>2</td><td>1</td></tr>\n",
       "\t<tr><th scope=row>rs4721264</th><td>0</td><td>1</td><td>1</td><td>1</td><td>1</td><td>1</td><td>1</td><td>0</td><td>2</td><td>1</td></tr>\n",
       "\t<tr><th scope=row>rs62442944</th><td>2</td><td>1</td><td>2</td><td>1</td><td>1</td><td>2</td><td>2</td><td>2</td><td>2</td><td>2</td></tr>\n",
       "\t<tr><th scope=row>rs12699547</th><td>2</td><td>2</td><td>1</td><td>2</td><td>2</td><td>1</td><td>1</td><td>2</td><td>0</td><td>1</td></tr>\n",
       "\t<tr><th scope=row>rs6461049</th><td>0</td><td>1</td><td>1</td><td>1</td><td>1</td><td>1</td><td>1</td><td>0</td><td>2</td><td>1</td></tr>\n",
       "\t<tr><th scope=row>rs6969587</th><td>2</td><td>2</td><td>1</td><td>2</td><td>2</td><td>1</td><td>1</td><td>2</td><td>0</td><td>1</td></tr>\n",
       "\t<tr><th scope=row>rs12699561</th><td>2</td><td>2</td><td>1</td><td>2</td><td>2</td><td>1</td><td>1</td><td>2</td><td>0</td><td>1</td></tr>\n",
       "</tbody>\n",
       "</table>\n"
      ],
      "text/latex": [
       "A matrix: 10 × 10 of type dbl\n",
       "\\begin{tabular}{r|llllllllll}\n",
       "  & HG00096\\_HG00096 & HG00097\\_HG00097 & HG00099\\_HG00099 & HG00101\\_HG00101 & HG00102\\_HG00102 & HG00103\\_HG00103 & HG00105\\_HG00105 & HG00107\\_HG00107 & HG00108\\_HG00108 & HG00109\\_HG00109\\\\\n",
       "\\hline\n",
       "\trs11773627 & 2 & 1 & 2 & 1 & 1 & 2 & 2 & 2 & 2 & 2\\\\\n",
       "\trs6972374 & 2 & 2 & 1 & 2 & 1 & 1 & 1 & 2 & 0 & 1\\\\\n",
       "\trs12666575 & 0 & 1 & 1 & 1 & 2 & 1 & 1 & 0 & 2 & 1\\\\\n",
       "\trs11766575 & 0 & 1 & 1 & 1 & 2 & 1 & 1 & 0 & 2 & 1\\\\\n",
       "\trs4721264 & 0 & 1 & 1 & 1 & 1 & 1 & 1 & 0 & 2 & 1\\\\\n",
       "\trs62442944 & 2 & 1 & 2 & 1 & 1 & 2 & 2 & 2 & 2 & 2\\\\\n",
       "\trs12699547 & 2 & 2 & 1 & 2 & 2 & 1 & 1 & 2 & 0 & 1\\\\\n",
       "\trs6461049 & 0 & 1 & 1 & 1 & 1 & 1 & 1 & 0 & 2 & 1\\\\\n",
       "\trs6969587 & 2 & 2 & 1 & 2 & 2 & 1 & 1 & 2 & 0 & 1\\\\\n",
       "\trs12699561 & 2 & 2 & 1 & 2 & 2 & 1 & 1 & 2 & 0 & 1\\\\\n",
       "\\end{tabular}\n"
      ],
      "text/markdown": [
       "\n",
       "A matrix: 10 × 10 of type dbl\n",
       "\n",
       "| <!--/--> | HG00096_HG00096 | HG00097_HG00097 | HG00099_HG00099 | HG00101_HG00101 | HG00102_HG00102 | HG00103_HG00103 | HG00105_HG00105 | HG00107_HG00107 | HG00108_HG00108 | HG00109_HG00109 |\n",
       "|---|---|---|---|---|---|---|---|---|---|---|\n",
       "| rs11773627 | 2 | 1 | 2 | 1 | 1 | 2 | 2 | 2 | 2 | 2 |\n",
       "| rs6972374 | 2 | 2 | 1 | 2 | 1 | 1 | 1 | 2 | 0 | 1 |\n",
       "| rs12666575 | 0 | 1 | 1 | 1 | 2 | 1 | 1 | 0 | 2 | 1 |\n",
       "| rs11766575 | 0 | 1 | 1 | 1 | 2 | 1 | 1 | 0 | 2 | 1 |\n",
       "| rs4721264 | 0 | 1 | 1 | 1 | 1 | 1 | 1 | 0 | 2 | 1 |\n",
       "| rs62442944 | 2 | 1 | 2 | 1 | 1 | 2 | 2 | 2 | 2 | 2 |\n",
       "| rs12699547 | 2 | 2 | 1 | 2 | 2 | 1 | 1 | 2 | 0 | 1 |\n",
       "| rs6461049 | 0 | 1 | 1 | 1 | 1 | 1 | 1 | 0 | 2 | 1 |\n",
       "| rs6969587 | 2 | 2 | 1 | 2 | 2 | 1 | 1 | 2 | 0 | 1 |\n",
       "| rs12699561 | 2 | 2 | 1 | 2 | 2 | 1 | 1 | 2 | 0 | 1 |\n",
       "\n"
      ],
      "text/plain": [
       "           HG00096_HG00096 HG00097_HG00097 HG00099_HG00099 HG00101_HG00101\n",
       "rs11773627 2               1               2               1              \n",
       "rs6972374  2               2               1               2              \n",
       "rs12666575 0               1               1               1              \n",
       "rs11766575 0               1               1               1              \n",
       "rs4721264  0               1               1               1              \n",
       "rs62442944 2               1               2               1              \n",
       "rs12699547 2               2               1               2              \n",
       "rs6461049  0               1               1               1              \n",
       "rs6969587  2               2               1               2              \n",
       "rs12699561 2               2               1               2              \n",
       "           HG00102_HG00102 HG00103_HG00103 HG00105_HG00105 HG00107_HG00107\n",
       "rs11773627 1               2               2               2              \n",
       "rs6972374  1               1               1               2              \n",
       "rs12666575 2               1               1               0              \n",
       "rs11766575 2               1               1               0              \n",
       "rs4721264  1               1               1               0              \n",
       "rs62442944 1               2               2               2              \n",
       "rs12699547 2               1               1               2              \n",
       "rs6461049  1               1               1               0              \n",
       "rs6969587  2               1               1               2              \n",
       "rs12699561 2               1               1               2              \n",
       "           HG00108_HG00108 HG00109_HG00109\n",
       "rs11773627 2               2              \n",
       "rs6972374  0               1              \n",
       "rs12666575 2               1              \n",
       "rs11766575 2               1              \n",
       "rs4721264  2               1              \n",
       "rs62442944 2               2              \n",
       "rs12699547 0               1              \n",
       "rs6461049  2               1              \n",
       "rs6969587  0               1              \n",
       "rs12699561 0               1              "
      ]
     },
     "metadata": {},
     "output_type": "display_data"
    }
   ],
   "source": [
    "snp.1kg.eur3[1:10, 1:10]"
   ]
  },
  {
   "cell_type": "markdown",
   "id": "ef82d72b-8753-4757-bfdd-86cd41264dbe",
   "metadata": {},
   "source": [
    "I want to create two new dfs, titled snp.1kg.eur2.diff and snp.1kg.eur3.diff, which only show rows that aren't perfect matches between snp.1kg.eur2 and snp.1kg.eur3. This is AFTER we flip alleles so that they match (or at least, so *most* of them match...)"
   ]
  },
  {
   "cell_type": "code",
   "execution_count": 92,
   "id": "e159700c-e207-4863-bd12-8fe1f35f235b",
   "metadata": {},
   "outputs": [
    {
     "data": {
      "text/html": [
       "<table class=\"dataframe\">\n",
       "<caption>A data.frame: 10 × 489</caption>\n",
       "<thead>\n",
       "\t<tr><th></th><th scope=col>HG00096_HG00096</th><th scope=col>HG00097_HG00097</th><th scope=col>HG00099_HG00099</th><th scope=col>HG00101_HG00101</th><th scope=col>HG00102_HG00102</th><th scope=col>HG00103_HG00103</th><th scope=col>HG00105_HG00105</th><th scope=col>HG00107_HG00107</th><th scope=col>HG00108_HG00108</th><th scope=col>HG00109_HG00109</th><th scope=col>⋯</th><th scope=col>NA20814_NA20814</th><th scope=col>NA20815_NA20815</th><th scope=col>NA20818_NA20818</th><th scope=col>NA20819_NA20819</th><th scope=col>NA20821_NA20821</th><th scope=col>NA20822_NA20822</th><th scope=col>NA20826_NA20826</th><th scope=col>NA20827_NA20827</th><th scope=col>NA20828_NA20828</th><th scope=col>NA20832_NA20832</th></tr>\n",
       "\t<tr><th></th><th scope=col>&lt;dbl&gt;</th><th scope=col>&lt;dbl&gt;</th><th scope=col>&lt;dbl&gt;</th><th scope=col>&lt;dbl&gt;</th><th scope=col>&lt;dbl&gt;</th><th scope=col>&lt;dbl&gt;</th><th scope=col>&lt;dbl&gt;</th><th scope=col>&lt;dbl&gt;</th><th scope=col>&lt;dbl&gt;</th><th scope=col>&lt;dbl&gt;</th><th scope=col>⋯</th><th scope=col>&lt;dbl&gt;</th><th scope=col>&lt;dbl&gt;</th><th scope=col>&lt;dbl&gt;</th><th scope=col>&lt;dbl&gt;</th><th scope=col>&lt;dbl&gt;</th><th scope=col>&lt;dbl&gt;</th><th scope=col>&lt;dbl&gt;</th><th scope=col>&lt;dbl&gt;</th><th scope=col>&lt;dbl&gt;</th><th scope=col>&lt;dbl&gt;</th></tr>\n",
       "</thead>\n",
       "<tbody>\n",
       "\t<tr><th scope=row>rs6461049</th><td>2</td><td>1</td><td>1</td><td>1</td><td>1</td><td>1</td><td>1</td><td>2</td><td>0</td><td>1</td><td>⋯</td><td>0</td><td>2</td><td>1</td><td>1</td><td>0</td><td>0</td><td>1</td><td>2</td><td>0</td><td>1</td></tr>\n",
       "\t<tr><th scope=row>rs3996330</th><td>0</td><td>0</td><td>1</td><td>0</td><td>1</td><td>1</td><td>1</td><td>0</td><td>2</td><td>1</td><td>⋯</td><td>2</td><td>1</td><td>1</td><td>1</td><td>1</td><td>1</td><td>1</td><td>0</td><td>0</td><td>0</td></tr>\n",
       "\t<tr><th scope=row>rs11763870</th><td>1</td><td>1</td><td>1</td><td>1</td><td>1</td><td>1</td><td>1</td><td>2</td><td>0</td><td>1</td><td>⋯</td><td>0</td><td>1</td><td>1</td><td>1</td><td>0</td><td>0</td><td>1</td><td>2</td><td>0</td><td>0</td></tr>\n",
       "\t<tr><th scope=row>rs1403174</th><td>0</td><td>0</td><td>1</td><td>0</td><td>0</td><td>1</td><td>1</td><td>0</td><td>2</td><td>1</td><td>⋯</td><td>2</td><td>0</td><td>1</td><td>1</td><td>1</td><td>1</td><td>0</td><td>0</td><td>0</td><td>1</td></tr>\n",
       "\t<tr><th scope=row>rs3857706</th><td>0</td><td>0</td><td>1</td><td>0</td><td>0</td><td>1</td><td>1</td><td>0</td><td>2</td><td>1</td><td>⋯</td><td>2</td><td>0</td><td>1</td><td>1</td><td>1</td><td>1</td><td>0</td><td>0</td><td>0</td><td>1</td></tr>\n",
       "\t<tr><th scope=row>rs872464</th><td>0</td><td>0</td><td>1</td><td>0</td><td>0</td><td>1</td><td>1</td><td>0</td><td>2</td><td>1</td><td>⋯</td><td>2</td><td>0</td><td>1</td><td>1</td><td>1</td><td>1</td><td>0</td><td>0</td><td>0</td><td>1</td></tr>\n",
       "\t<tr><th scope=row>rs10950503</th><td>0</td><td>0</td><td>1</td><td>0</td><td>1</td><td>1</td><td>1</td><td>0</td><td>2</td><td>1</td><td>⋯</td><td>2</td><td>0</td><td>1</td><td>1</td><td>1</td><td>1</td><td>0</td><td>0</td><td>1</td><td>1</td></tr>\n",
       "\t<tr><th scope=row>rs10479762</th><td>2</td><td>1</td><td>1</td><td>1</td><td>1</td><td>1</td><td>1</td><td>2</td><td>0</td><td>1</td><td>⋯</td><td>0</td><td>1</td><td>1</td><td>1</td><td>0</td><td>0</td><td>1</td><td>2</td><td>0</td><td>0</td></tr>\n",
       "\t<tr><th scope=row>rs871925</th><td>2</td><td>1</td><td>1</td><td>1</td><td>1</td><td>1</td><td>1</td><td>2</td><td>0</td><td>1</td><td>⋯</td><td>0</td><td>1</td><td>1</td><td>1</td><td>0</td><td>0</td><td>1</td><td>2</td><td>0</td><td>0</td></tr>\n",
       "\t<tr><th scope=row>rs13227554</th><td>2</td><td>1</td><td>1</td><td>1</td><td>1</td><td>1</td><td>1</td><td>2</td><td>0</td><td>1</td><td>⋯</td><td>0</td><td>1</td><td>1</td><td>1</td><td>0</td><td>0</td><td>1</td><td>2</td><td>0</td><td>0</td></tr>\n",
       "</tbody>\n",
       "</table>\n"
      ],
      "text/latex": [
       "A data.frame: 10 × 489\n",
       "\\begin{tabular}{r|lllllllllllllllllllll}\n",
       "  & HG00096\\_HG00096 & HG00097\\_HG00097 & HG00099\\_HG00099 & HG00101\\_HG00101 & HG00102\\_HG00102 & HG00103\\_HG00103 & HG00105\\_HG00105 & HG00107\\_HG00107 & HG00108\\_HG00108 & HG00109\\_HG00109 & ⋯ & NA20814\\_NA20814 & NA20815\\_NA20815 & NA20818\\_NA20818 & NA20819\\_NA20819 & NA20821\\_NA20821 & NA20822\\_NA20822 & NA20826\\_NA20826 & NA20827\\_NA20827 & NA20828\\_NA20828 & NA20832\\_NA20832\\\\\n",
       "  & <dbl> & <dbl> & <dbl> & <dbl> & <dbl> & <dbl> & <dbl> & <dbl> & <dbl> & <dbl> & ⋯ & <dbl> & <dbl> & <dbl> & <dbl> & <dbl> & <dbl> & <dbl> & <dbl> & <dbl> & <dbl>\\\\\n",
       "\\hline\n",
       "\trs6461049 & 2 & 1 & 1 & 1 & 1 & 1 & 1 & 2 & 0 & 1 & ⋯ & 0 & 2 & 1 & 1 & 0 & 0 & 1 & 2 & 0 & 1\\\\\n",
       "\trs3996330 & 0 & 0 & 1 & 0 & 1 & 1 & 1 & 0 & 2 & 1 & ⋯ & 2 & 1 & 1 & 1 & 1 & 1 & 1 & 0 & 0 & 0\\\\\n",
       "\trs11763870 & 1 & 1 & 1 & 1 & 1 & 1 & 1 & 2 & 0 & 1 & ⋯ & 0 & 1 & 1 & 1 & 0 & 0 & 1 & 2 & 0 & 0\\\\\n",
       "\trs1403174 & 0 & 0 & 1 & 0 & 0 & 1 & 1 & 0 & 2 & 1 & ⋯ & 2 & 0 & 1 & 1 & 1 & 1 & 0 & 0 & 0 & 1\\\\\n",
       "\trs3857706 & 0 & 0 & 1 & 0 & 0 & 1 & 1 & 0 & 2 & 1 & ⋯ & 2 & 0 & 1 & 1 & 1 & 1 & 0 & 0 & 0 & 1\\\\\n",
       "\trs872464 & 0 & 0 & 1 & 0 & 0 & 1 & 1 & 0 & 2 & 1 & ⋯ & 2 & 0 & 1 & 1 & 1 & 1 & 0 & 0 & 0 & 1\\\\\n",
       "\trs10950503 & 0 & 0 & 1 & 0 & 1 & 1 & 1 & 0 & 2 & 1 & ⋯ & 2 & 0 & 1 & 1 & 1 & 1 & 0 & 0 & 1 & 1\\\\\n",
       "\trs10479762 & 2 & 1 & 1 & 1 & 1 & 1 & 1 & 2 & 0 & 1 & ⋯ & 0 & 1 & 1 & 1 & 0 & 0 & 1 & 2 & 0 & 0\\\\\n",
       "\trs871925 & 2 & 1 & 1 & 1 & 1 & 1 & 1 & 2 & 0 & 1 & ⋯ & 0 & 1 & 1 & 1 & 0 & 0 & 1 & 2 & 0 & 0\\\\\n",
       "\trs13227554 & 2 & 1 & 1 & 1 & 1 & 1 & 1 & 2 & 0 & 1 & ⋯ & 0 & 1 & 1 & 1 & 0 & 0 & 1 & 2 & 0 & 0\\\\\n",
       "\\end{tabular}\n"
      ],
      "text/markdown": [
       "\n",
       "A data.frame: 10 × 489\n",
       "\n",
       "| <!--/--> | HG00096_HG00096 &lt;dbl&gt; | HG00097_HG00097 &lt;dbl&gt; | HG00099_HG00099 &lt;dbl&gt; | HG00101_HG00101 &lt;dbl&gt; | HG00102_HG00102 &lt;dbl&gt; | HG00103_HG00103 &lt;dbl&gt; | HG00105_HG00105 &lt;dbl&gt; | HG00107_HG00107 &lt;dbl&gt; | HG00108_HG00108 &lt;dbl&gt; | HG00109_HG00109 &lt;dbl&gt; | ⋯ ⋯ | NA20814_NA20814 &lt;dbl&gt; | NA20815_NA20815 &lt;dbl&gt; | NA20818_NA20818 &lt;dbl&gt; | NA20819_NA20819 &lt;dbl&gt; | NA20821_NA20821 &lt;dbl&gt; | NA20822_NA20822 &lt;dbl&gt; | NA20826_NA20826 &lt;dbl&gt; | NA20827_NA20827 &lt;dbl&gt; | NA20828_NA20828 &lt;dbl&gt; | NA20832_NA20832 &lt;dbl&gt; |\n",
       "|---|---|---|---|---|---|---|---|---|---|---|---|---|---|---|---|---|---|---|---|---|---|\n",
       "| rs6461049 | 2 | 1 | 1 | 1 | 1 | 1 | 1 | 2 | 0 | 1 | ⋯ | 0 | 2 | 1 | 1 | 0 | 0 | 1 | 2 | 0 | 1 |\n",
       "| rs3996330 | 0 | 0 | 1 | 0 | 1 | 1 | 1 | 0 | 2 | 1 | ⋯ | 2 | 1 | 1 | 1 | 1 | 1 | 1 | 0 | 0 | 0 |\n",
       "| rs11763870 | 1 | 1 | 1 | 1 | 1 | 1 | 1 | 2 | 0 | 1 | ⋯ | 0 | 1 | 1 | 1 | 0 | 0 | 1 | 2 | 0 | 0 |\n",
       "| rs1403174 | 0 | 0 | 1 | 0 | 0 | 1 | 1 | 0 | 2 | 1 | ⋯ | 2 | 0 | 1 | 1 | 1 | 1 | 0 | 0 | 0 | 1 |\n",
       "| rs3857706 | 0 | 0 | 1 | 0 | 0 | 1 | 1 | 0 | 2 | 1 | ⋯ | 2 | 0 | 1 | 1 | 1 | 1 | 0 | 0 | 0 | 1 |\n",
       "| rs872464 | 0 | 0 | 1 | 0 | 0 | 1 | 1 | 0 | 2 | 1 | ⋯ | 2 | 0 | 1 | 1 | 1 | 1 | 0 | 0 | 0 | 1 |\n",
       "| rs10950503 | 0 | 0 | 1 | 0 | 1 | 1 | 1 | 0 | 2 | 1 | ⋯ | 2 | 0 | 1 | 1 | 1 | 1 | 0 | 0 | 1 | 1 |\n",
       "| rs10479762 | 2 | 1 | 1 | 1 | 1 | 1 | 1 | 2 | 0 | 1 | ⋯ | 0 | 1 | 1 | 1 | 0 | 0 | 1 | 2 | 0 | 0 |\n",
       "| rs871925 | 2 | 1 | 1 | 1 | 1 | 1 | 1 | 2 | 0 | 1 | ⋯ | 0 | 1 | 1 | 1 | 0 | 0 | 1 | 2 | 0 | 0 |\n",
       "| rs13227554 | 2 | 1 | 1 | 1 | 1 | 1 | 1 | 2 | 0 | 1 | ⋯ | 0 | 1 | 1 | 1 | 0 | 0 | 1 | 2 | 0 | 0 |\n",
       "\n"
      ],
      "text/plain": [
       "           HG00096_HG00096 HG00097_HG00097 HG00099_HG00099 HG00101_HG00101\n",
       "rs6461049  2               1               1               1              \n",
       "rs3996330  0               0               1               0              \n",
       "rs11763870 1               1               1               1              \n",
       "rs1403174  0               0               1               0              \n",
       "rs3857706  0               0               1               0              \n",
       "rs872464   0               0               1               0              \n",
       "rs10950503 0               0               1               0              \n",
       "rs10479762 2               1               1               1              \n",
       "rs871925   2               1               1               1              \n",
       "rs13227554 2               1               1               1              \n",
       "           HG00102_HG00102 HG00103_HG00103 HG00105_HG00105 HG00107_HG00107\n",
       "rs6461049  1               1               1               2              \n",
       "rs3996330  1               1               1               0              \n",
       "rs11763870 1               1               1               2              \n",
       "rs1403174  0               1               1               0              \n",
       "rs3857706  0               1               1               0              \n",
       "rs872464   0               1               1               0              \n",
       "rs10950503 1               1               1               0              \n",
       "rs10479762 1               1               1               2              \n",
       "rs871925   1               1               1               2              \n",
       "rs13227554 1               1               1               2              \n",
       "           HG00108_HG00108 HG00109_HG00109 ⋯ NA20814_NA20814 NA20815_NA20815\n",
       "rs6461049  0               1               ⋯ 0               2              \n",
       "rs3996330  2               1               ⋯ 2               1              \n",
       "rs11763870 0               1               ⋯ 0               1              \n",
       "rs1403174  2               1               ⋯ 2               0              \n",
       "rs3857706  2               1               ⋯ 2               0              \n",
       "rs872464   2               1               ⋯ 2               0              \n",
       "rs10950503 2               1               ⋯ 2               0              \n",
       "rs10479762 0               1               ⋯ 0               1              \n",
       "rs871925   0               1               ⋯ 0               1              \n",
       "rs13227554 0               1               ⋯ 0               1              \n",
       "           NA20818_NA20818 NA20819_NA20819 NA20821_NA20821 NA20822_NA20822\n",
       "rs6461049  1               1               0               0              \n",
       "rs3996330  1               1               1               1              \n",
       "rs11763870 1               1               0               0              \n",
       "rs1403174  1               1               1               1              \n",
       "rs3857706  1               1               1               1              \n",
       "rs872464   1               1               1               1              \n",
       "rs10950503 1               1               1               1              \n",
       "rs10479762 1               1               0               0              \n",
       "rs871925   1               1               0               0              \n",
       "rs13227554 1               1               0               0              \n",
       "           NA20826_NA20826 NA20827_NA20827 NA20828_NA20828 NA20832_NA20832\n",
       "rs6461049  1               2               0               1              \n",
       "rs3996330  1               0               0               0              \n",
       "rs11763870 1               2               0               0              \n",
       "rs1403174  0               0               0               1              \n",
       "rs3857706  0               0               0               1              \n",
       "rs872464   0               0               0               1              \n",
       "rs10950503 0               0               1               1              \n",
       "rs10479762 1               2               0               0              \n",
       "rs871925   1               2               0               0              \n",
       "rs13227554 1               2               0               0              "
      ]
     },
     "metadata": {},
     "output_type": "display_data"
    },
    {
     "data": {
      "text/html": [
       "<table class=\"dataframe\">\n",
       "<caption>A matrix: 10 × 489 of type dbl</caption>\n",
       "<thead>\n",
       "\t<tr><th></th><th scope=col>HG00096_HG00096</th><th scope=col>HG00097_HG00097</th><th scope=col>HG00099_HG00099</th><th scope=col>HG00101_HG00101</th><th scope=col>HG00102_HG00102</th><th scope=col>HG00103_HG00103</th><th scope=col>HG00105_HG00105</th><th scope=col>HG00107_HG00107</th><th scope=col>HG00108_HG00108</th><th scope=col>HG00109_HG00109</th><th scope=col>⋯</th><th scope=col>NA20814_NA20814</th><th scope=col>NA20815_NA20815</th><th scope=col>NA20818_NA20818</th><th scope=col>NA20819_NA20819</th><th scope=col>NA20821_NA20821</th><th scope=col>NA20822_NA20822</th><th scope=col>NA20826_NA20826</th><th scope=col>NA20827_NA20827</th><th scope=col>NA20828_NA20828</th><th scope=col>NA20832_NA20832</th></tr>\n",
       "</thead>\n",
       "<tbody>\n",
       "\t<tr><th scope=row>rs6461049</th><td>0</td><td>1</td><td>1</td><td>1</td><td>1</td><td>1</td><td>1</td><td>0</td><td>2</td><td>1</td><td>⋯</td><td>2</td><td>0</td><td>1</td><td>1</td><td>2</td><td>2</td><td>1</td><td>0</td><td>2</td><td>1</td></tr>\n",
       "\t<tr><th scope=row>rs3996330</th><td>2</td><td>2</td><td>1</td><td>2</td><td>1</td><td>1</td><td>1</td><td>2</td><td>0</td><td>1</td><td>⋯</td><td>0</td><td>1</td><td>1</td><td>1</td><td>1</td><td>1</td><td>1</td><td>2</td><td>2</td><td>2</td></tr>\n",
       "\t<tr><th scope=row>rs11763870</th><td>1</td><td>1</td><td>1</td><td>1</td><td>1</td><td>1</td><td>1</td><td>0</td><td>2</td><td>1</td><td>⋯</td><td>2</td><td>1</td><td>1</td><td>1</td><td>2</td><td>2</td><td>1</td><td>0</td><td>2</td><td>2</td></tr>\n",
       "\t<tr><th scope=row>rs1403174</th><td>2</td><td>2</td><td>1</td><td>2</td><td>2</td><td>1</td><td>1</td><td>2</td><td>0</td><td>1</td><td>⋯</td><td>0</td><td>2</td><td>1</td><td>1</td><td>1</td><td>1</td><td>2</td><td>2</td><td>2</td><td>1</td></tr>\n",
       "\t<tr><th scope=row>rs3857706</th><td>2</td><td>2</td><td>1</td><td>2</td><td>2</td><td>1</td><td>1</td><td>2</td><td>0</td><td>1</td><td>⋯</td><td>0</td><td>2</td><td>1</td><td>1</td><td>1</td><td>1</td><td>2</td><td>2</td><td>2</td><td>1</td></tr>\n",
       "\t<tr><th scope=row>rs872464</th><td>2</td><td>2</td><td>1</td><td>2</td><td>2</td><td>1</td><td>1</td><td>2</td><td>0</td><td>1</td><td>⋯</td><td>0</td><td>2</td><td>1</td><td>1</td><td>1</td><td>1</td><td>2</td><td>2</td><td>2</td><td>1</td></tr>\n",
       "\t<tr><th scope=row>rs10950503</th><td>2</td><td>2</td><td>1</td><td>2</td><td>1</td><td>1</td><td>1</td><td>2</td><td>0</td><td>1</td><td>⋯</td><td>0</td><td>2</td><td>1</td><td>1</td><td>1</td><td>1</td><td>2</td><td>2</td><td>1</td><td>1</td></tr>\n",
       "\t<tr><th scope=row>rs10479762</th><td>0</td><td>1</td><td>1</td><td>1</td><td>1</td><td>1</td><td>1</td><td>0</td><td>2</td><td>1</td><td>⋯</td><td>2</td><td>1</td><td>1</td><td>1</td><td>2</td><td>2</td><td>1</td><td>0</td><td>2</td><td>2</td></tr>\n",
       "\t<tr><th scope=row>rs871925</th><td>0</td><td>1</td><td>1</td><td>1</td><td>1</td><td>1</td><td>1</td><td>0</td><td>2</td><td>1</td><td>⋯</td><td>2</td><td>1</td><td>1</td><td>1</td><td>2</td><td>2</td><td>1</td><td>0</td><td>2</td><td>2</td></tr>\n",
       "\t<tr><th scope=row>rs13227554</th><td>0</td><td>1</td><td>1</td><td>1</td><td>1</td><td>1</td><td>1</td><td>0</td><td>2</td><td>1</td><td>⋯</td><td>2</td><td>1</td><td>1</td><td>1</td><td>2</td><td>2</td><td>1</td><td>0</td><td>2</td><td>2</td></tr>\n",
       "</tbody>\n",
       "</table>\n"
      ],
      "text/latex": [
       "A matrix: 10 × 489 of type dbl\n",
       "\\begin{tabular}{r|lllllllllllllllllllll}\n",
       "  & HG00096\\_HG00096 & HG00097\\_HG00097 & HG00099\\_HG00099 & HG00101\\_HG00101 & HG00102\\_HG00102 & HG00103\\_HG00103 & HG00105\\_HG00105 & HG00107\\_HG00107 & HG00108\\_HG00108 & HG00109\\_HG00109 & ⋯ & NA20814\\_NA20814 & NA20815\\_NA20815 & NA20818\\_NA20818 & NA20819\\_NA20819 & NA20821\\_NA20821 & NA20822\\_NA20822 & NA20826\\_NA20826 & NA20827\\_NA20827 & NA20828\\_NA20828 & NA20832\\_NA20832\\\\\n",
       "\\hline\n",
       "\trs6461049 & 0 & 1 & 1 & 1 & 1 & 1 & 1 & 0 & 2 & 1 & ⋯ & 2 & 0 & 1 & 1 & 2 & 2 & 1 & 0 & 2 & 1\\\\\n",
       "\trs3996330 & 2 & 2 & 1 & 2 & 1 & 1 & 1 & 2 & 0 & 1 & ⋯ & 0 & 1 & 1 & 1 & 1 & 1 & 1 & 2 & 2 & 2\\\\\n",
       "\trs11763870 & 1 & 1 & 1 & 1 & 1 & 1 & 1 & 0 & 2 & 1 & ⋯ & 2 & 1 & 1 & 1 & 2 & 2 & 1 & 0 & 2 & 2\\\\\n",
       "\trs1403174 & 2 & 2 & 1 & 2 & 2 & 1 & 1 & 2 & 0 & 1 & ⋯ & 0 & 2 & 1 & 1 & 1 & 1 & 2 & 2 & 2 & 1\\\\\n",
       "\trs3857706 & 2 & 2 & 1 & 2 & 2 & 1 & 1 & 2 & 0 & 1 & ⋯ & 0 & 2 & 1 & 1 & 1 & 1 & 2 & 2 & 2 & 1\\\\\n",
       "\trs872464 & 2 & 2 & 1 & 2 & 2 & 1 & 1 & 2 & 0 & 1 & ⋯ & 0 & 2 & 1 & 1 & 1 & 1 & 2 & 2 & 2 & 1\\\\\n",
       "\trs10950503 & 2 & 2 & 1 & 2 & 1 & 1 & 1 & 2 & 0 & 1 & ⋯ & 0 & 2 & 1 & 1 & 1 & 1 & 2 & 2 & 1 & 1\\\\\n",
       "\trs10479762 & 0 & 1 & 1 & 1 & 1 & 1 & 1 & 0 & 2 & 1 & ⋯ & 2 & 1 & 1 & 1 & 2 & 2 & 1 & 0 & 2 & 2\\\\\n",
       "\trs871925 & 0 & 1 & 1 & 1 & 1 & 1 & 1 & 0 & 2 & 1 & ⋯ & 2 & 1 & 1 & 1 & 2 & 2 & 1 & 0 & 2 & 2\\\\\n",
       "\trs13227554 & 0 & 1 & 1 & 1 & 1 & 1 & 1 & 0 & 2 & 1 & ⋯ & 2 & 1 & 1 & 1 & 2 & 2 & 1 & 0 & 2 & 2\\\\\n",
       "\\end{tabular}\n"
      ],
      "text/markdown": [
       "\n",
       "A matrix: 10 × 489 of type dbl\n",
       "\n",
       "| <!--/--> | HG00096_HG00096 | HG00097_HG00097 | HG00099_HG00099 | HG00101_HG00101 | HG00102_HG00102 | HG00103_HG00103 | HG00105_HG00105 | HG00107_HG00107 | HG00108_HG00108 | HG00109_HG00109 | ⋯ | NA20814_NA20814 | NA20815_NA20815 | NA20818_NA20818 | NA20819_NA20819 | NA20821_NA20821 | NA20822_NA20822 | NA20826_NA20826 | NA20827_NA20827 | NA20828_NA20828 | NA20832_NA20832 |\n",
       "|---|---|---|---|---|---|---|---|---|---|---|---|---|---|---|---|---|---|---|---|---|---|\n",
       "| rs6461049 | 0 | 1 | 1 | 1 | 1 | 1 | 1 | 0 | 2 | 1 | ⋯ | 2 | 0 | 1 | 1 | 2 | 2 | 1 | 0 | 2 | 1 |\n",
       "| rs3996330 | 2 | 2 | 1 | 2 | 1 | 1 | 1 | 2 | 0 | 1 | ⋯ | 0 | 1 | 1 | 1 | 1 | 1 | 1 | 2 | 2 | 2 |\n",
       "| rs11763870 | 1 | 1 | 1 | 1 | 1 | 1 | 1 | 0 | 2 | 1 | ⋯ | 2 | 1 | 1 | 1 | 2 | 2 | 1 | 0 | 2 | 2 |\n",
       "| rs1403174 | 2 | 2 | 1 | 2 | 2 | 1 | 1 | 2 | 0 | 1 | ⋯ | 0 | 2 | 1 | 1 | 1 | 1 | 2 | 2 | 2 | 1 |\n",
       "| rs3857706 | 2 | 2 | 1 | 2 | 2 | 1 | 1 | 2 | 0 | 1 | ⋯ | 0 | 2 | 1 | 1 | 1 | 1 | 2 | 2 | 2 | 1 |\n",
       "| rs872464 | 2 | 2 | 1 | 2 | 2 | 1 | 1 | 2 | 0 | 1 | ⋯ | 0 | 2 | 1 | 1 | 1 | 1 | 2 | 2 | 2 | 1 |\n",
       "| rs10950503 | 2 | 2 | 1 | 2 | 1 | 1 | 1 | 2 | 0 | 1 | ⋯ | 0 | 2 | 1 | 1 | 1 | 1 | 2 | 2 | 1 | 1 |\n",
       "| rs10479762 | 0 | 1 | 1 | 1 | 1 | 1 | 1 | 0 | 2 | 1 | ⋯ | 2 | 1 | 1 | 1 | 2 | 2 | 1 | 0 | 2 | 2 |\n",
       "| rs871925 | 0 | 1 | 1 | 1 | 1 | 1 | 1 | 0 | 2 | 1 | ⋯ | 2 | 1 | 1 | 1 | 2 | 2 | 1 | 0 | 2 | 2 |\n",
       "| rs13227554 | 0 | 1 | 1 | 1 | 1 | 1 | 1 | 0 | 2 | 1 | ⋯ | 2 | 1 | 1 | 1 | 2 | 2 | 1 | 0 | 2 | 2 |\n",
       "\n"
      ],
      "text/plain": [
       "           HG00096_HG00096 HG00097_HG00097 HG00099_HG00099 HG00101_HG00101\n",
       "rs6461049  0               1               1               1              \n",
       "rs3996330  2               2               1               2              \n",
       "rs11763870 1               1               1               1              \n",
       "rs1403174  2               2               1               2              \n",
       "rs3857706  2               2               1               2              \n",
       "rs872464   2               2               1               2              \n",
       "rs10950503 2               2               1               2              \n",
       "rs10479762 0               1               1               1              \n",
       "rs871925   0               1               1               1              \n",
       "rs13227554 0               1               1               1              \n",
       "           HG00102_HG00102 HG00103_HG00103 HG00105_HG00105 HG00107_HG00107\n",
       "rs6461049  1               1               1               0              \n",
       "rs3996330  1               1               1               2              \n",
       "rs11763870 1               1               1               0              \n",
       "rs1403174  2               1               1               2              \n",
       "rs3857706  2               1               1               2              \n",
       "rs872464   2               1               1               2              \n",
       "rs10950503 1               1               1               2              \n",
       "rs10479762 1               1               1               0              \n",
       "rs871925   1               1               1               0              \n",
       "rs13227554 1               1               1               0              \n",
       "           HG00108_HG00108 HG00109_HG00109 ⋯ NA20814_NA20814 NA20815_NA20815\n",
       "rs6461049  2               1               ⋯ 2               0              \n",
       "rs3996330  0               1               ⋯ 0               1              \n",
       "rs11763870 2               1               ⋯ 2               1              \n",
       "rs1403174  0               1               ⋯ 0               2              \n",
       "rs3857706  0               1               ⋯ 0               2              \n",
       "rs872464   0               1               ⋯ 0               2              \n",
       "rs10950503 0               1               ⋯ 0               2              \n",
       "rs10479762 2               1               ⋯ 2               1              \n",
       "rs871925   2               1               ⋯ 2               1              \n",
       "rs13227554 2               1               ⋯ 2               1              \n",
       "           NA20818_NA20818 NA20819_NA20819 NA20821_NA20821 NA20822_NA20822\n",
       "rs6461049  1               1               2               2              \n",
       "rs3996330  1               1               1               1              \n",
       "rs11763870 1               1               2               2              \n",
       "rs1403174  1               1               1               1              \n",
       "rs3857706  1               1               1               1              \n",
       "rs872464   1               1               1               1              \n",
       "rs10950503 1               1               1               1              \n",
       "rs10479762 1               1               2               2              \n",
       "rs871925   1               1               2               2              \n",
       "rs13227554 1               1               2               2              \n",
       "           NA20826_NA20826 NA20827_NA20827 NA20828_NA20828 NA20832_NA20832\n",
       "rs6461049  1               0               2               1              \n",
       "rs3996330  1               2               2               2              \n",
       "rs11763870 1               0               2               2              \n",
       "rs1403174  2               2               2               1              \n",
       "rs3857706  2               2               2               1              \n",
       "rs872464   2               2               2               1              \n",
       "rs10950503 2               2               1               1              \n",
       "rs10479762 1               0               2               2              \n",
       "rs871925   1               0               2               2              \n",
       "rs13227554 1               0               2               2              "
      ]
     },
     "metadata": {},
     "output_type": "display_data"
    }
   ],
   "source": [
    "# Find rows that aren't perfect matches between snp.1kg.eur2 and snp.1kg.eur3\n",
    "mismatch_indices <- which(!apply(snp.1kg.eur2 == snp.1kg.eur3, 1, all))\n",
    "\n",
    "# Create new dataframes showing rows that aren't perfect matches\n",
    "snp.1kg.eur2.diff <- snp.1kg.eur2[mismatch_indices, ]\n",
    "snp.1kg.eur3.diff <- snp.1kg.eur3[mismatch_indices, ]\n",
    "\n",
    "# Display the new dataframes\n",
    "snp.1kg.eur2.diff\n",
    "snp.1kg.eur3.diff\n"
   ]
  },
  {
   "cell_type": "markdown",
   "id": "263402d7-ab9f-4467-b5cf-fa12067fdd1b",
   "metadata": {},
   "source": [
    "Now let's show the rows that ARE perfect matches."
   ]
  },
  {
   "cell_type": "code",
   "execution_count": 93,
   "id": "e591d756-2c39-4f58-b728-d442af32a384",
   "metadata": {},
   "outputs": [
    {
     "data": {
      "text/html": [
       "<style>\n",
       ".list-inline {list-style: none; margin:0; padding: 0}\n",
       ".list-inline>li {display: inline-block}\n",
       ".list-inline>li:not(:last-child)::after {content: \"\\00b7\"; padding: 0 .5ex}\n",
       "</style>\n",
       "<ol class=list-inline><li>46</li><li>489</li></ol>\n"
      ],
      "text/latex": [
       "\\begin{enumerate*}\n",
       "\\item 46\n",
       "\\item 489\n",
       "\\end{enumerate*}\n"
      ],
      "text/markdown": [
       "1. 46\n",
       "2. 489\n",
       "\n",
       "\n"
      ],
      "text/plain": [
       "[1]  46 489"
      ]
     },
     "metadata": {},
     "output_type": "display_data"
    },
    {
     "data": {
      "text/html": [
       "<style>\n",
       ".list-inline {list-style: none; margin:0; padding: 0}\n",
       ".list-inline>li {display: inline-block}\n",
       ".list-inline>li:not(:last-child)::after {content: \"\\00b7\"; padding: 0 .5ex}\n",
       "</style>\n",
       "<ol class=list-inline><li>46</li><li>489</li></ol>\n"
      ],
      "text/latex": [
       "\\begin{enumerate*}\n",
       "\\item 46\n",
       "\\item 489\n",
       "\\end{enumerate*}\n"
      ],
      "text/markdown": [
       "1. 46\n",
       "2. 489\n",
       "\n",
       "\n"
      ],
      "text/plain": [
       "[1]  46 489"
      ]
     },
     "metadata": {},
     "output_type": "display_data"
    },
    {
     "data": {
      "text/html": [
       "<table class=\"dataframe\">\n",
       "<caption>A data.frame: 6 × 489</caption>\n",
       "<thead>\n",
       "\t<tr><th></th><th scope=col>HG00096_HG00096</th><th scope=col>HG00097_HG00097</th><th scope=col>HG00099_HG00099</th><th scope=col>HG00101_HG00101</th><th scope=col>HG00102_HG00102</th><th scope=col>HG00103_HG00103</th><th scope=col>HG00105_HG00105</th><th scope=col>HG00107_HG00107</th><th scope=col>HG00108_HG00108</th><th scope=col>HG00109_HG00109</th><th scope=col>⋯</th><th scope=col>NA20814_NA20814</th><th scope=col>NA20815_NA20815</th><th scope=col>NA20818_NA20818</th><th scope=col>NA20819_NA20819</th><th scope=col>NA20821_NA20821</th><th scope=col>NA20822_NA20822</th><th scope=col>NA20826_NA20826</th><th scope=col>NA20827_NA20827</th><th scope=col>NA20828_NA20828</th><th scope=col>NA20832_NA20832</th></tr>\n",
       "\t<tr><th></th><th scope=col>&lt;dbl&gt;</th><th scope=col>&lt;dbl&gt;</th><th scope=col>&lt;dbl&gt;</th><th scope=col>&lt;dbl&gt;</th><th scope=col>&lt;dbl&gt;</th><th scope=col>&lt;dbl&gt;</th><th scope=col>&lt;dbl&gt;</th><th scope=col>&lt;dbl&gt;</th><th scope=col>&lt;dbl&gt;</th><th scope=col>&lt;dbl&gt;</th><th scope=col>⋯</th><th scope=col>&lt;dbl&gt;</th><th scope=col>&lt;dbl&gt;</th><th scope=col>&lt;dbl&gt;</th><th scope=col>&lt;dbl&gt;</th><th scope=col>&lt;dbl&gt;</th><th scope=col>&lt;dbl&gt;</th><th scope=col>&lt;dbl&gt;</th><th scope=col>&lt;dbl&gt;</th><th scope=col>&lt;dbl&gt;</th><th scope=col>&lt;dbl&gt;</th></tr>\n",
       "</thead>\n",
       "<tbody>\n",
       "\t<tr><th scope=row>rs11773627</th><td>2</td><td>1</td><td>2</td><td>1</td><td>1</td><td>2</td><td>2</td><td>2</td><td>2</td><td>2</td><td>⋯</td><td>2</td><td>2</td><td>2</td><td>2</td><td>1</td><td>1</td><td>1</td><td>2</td><td>0</td><td>1</td></tr>\n",
       "\t<tr><th scope=row>rs6972374</th><td>2</td><td>2</td><td>1</td><td>2</td><td>1</td><td>1</td><td>1</td><td>2</td><td>0</td><td>1</td><td>⋯</td><td>0</td><td>2</td><td>1</td><td>1</td><td>1</td><td>1</td><td>2</td><td>2</td><td>2</td><td>1</td></tr>\n",
       "\t<tr><th scope=row>rs12666575</th><td>0</td><td>1</td><td>1</td><td>1</td><td>2</td><td>1</td><td>1</td><td>0</td><td>2</td><td>1</td><td>⋯</td><td>2</td><td>0</td><td>1</td><td>1</td><td>2</td><td>2</td><td>1</td><td>0</td><td>2</td><td>2</td></tr>\n",
       "\t<tr><th scope=row>rs11766575</th><td>0</td><td>1</td><td>1</td><td>1</td><td>2</td><td>1</td><td>1</td><td>0</td><td>2</td><td>1</td><td>⋯</td><td>2</td><td>0</td><td>1</td><td>1</td><td>2</td><td>2</td><td>1</td><td>0</td><td>2</td><td>2</td></tr>\n",
       "\t<tr><th scope=row>rs4721264</th><td>0</td><td>1</td><td>1</td><td>1</td><td>1</td><td>1</td><td>1</td><td>0</td><td>2</td><td>1</td><td>⋯</td><td>2</td><td>0</td><td>1</td><td>0</td><td>2</td><td>2</td><td>1</td><td>0</td><td>2</td><td>2</td></tr>\n",
       "\t<tr><th scope=row>rs62442944</th><td>2</td><td>1</td><td>2</td><td>1</td><td>1</td><td>2</td><td>2</td><td>2</td><td>2</td><td>2</td><td>⋯</td><td>2</td><td>2</td><td>2</td><td>2</td><td>1</td><td>1</td><td>1</td><td>2</td><td>0</td><td>1</td></tr>\n",
       "</tbody>\n",
       "</table>\n"
      ],
      "text/latex": [
       "A data.frame: 6 × 489\n",
       "\\begin{tabular}{r|lllllllllllllllllllll}\n",
       "  & HG00096\\_HG00096 & HG00097\\_HG00097 & HG00099\\_HG00099 & HG00101\\_HG00101 & HG00102\\_HG00102 & HG00103\\_HG00103 & HG00105\\_HG00105 & HG00107\\_HG00107 & HG00108\\_HG00108 & HG00109\\_HG00109 & ⋯ & NA20814\\_NA20814 & NA20815\\_NA20815 & NA20818\\_NA20818 & NA20819\\_NA20819 & NA20821\\_NA20821 & NA20822\\_NA20822 & NA20826\\_NA20826 & NA20827\\_NA20827 & NA20828\\_NA20828 & NA20832\\_NA20832\\\\\n",
       "  & <dbl> & <dbl> & <dbl> & <dbl> & <dbl> & <dbl> & <dbl> & <dbl> & <dbl> & <dbl> & ⋯ & <dbl> & <dbl> & <dbl> & <dbl> & <dbl> & <dbl> & <dbl> & <dbl> & <dbl> & <dbl>\\\\\n",
       "\\hline\n",
       "\trs11773627 & 2 & 1 & 2 & 1 & 1 & 2 & 2 & 2 & 2 & 2 & ⋯ & 2 & 2 & 2 & 2 & 1 & 1 & 1 & 2 & 0 & 1\\\\\n",
       "\trs6972374 & 2 & 2 & 1 & 2 & 1 & 1 & 1 & 2 & 0 & 1 & ⋯ & 0 & 2 & 1 & 1 & 1 & 1 & 2 & 2 & 2 & 1\\\\\n",
       "\trs12666575 & 0 & 1 & 1 & 1 & 2 & 1 & 1 & 0 & 2 & 1 & ⋯ & 2 & 0 & 1 & 1 & 2 & 2 & 1 & 0 & 2 & 2\\\\\n",
       "\trs11766575 & 0 & 1 & 1 & 1 & 2 & 1 & 1 & 0 & 2 & 1 & ⋯ & 2 & 0 & 1 & 1 & 2 & 2 & 1 & 0 & 2 & 2\\\\\n",
       "\trs4721264 & 0 & 1 & 1 & 1 & 1 & 1 & 1 & 0 & 2 & 1 & ⋯ & 2 & 0 & 1 & 0 & 2 & 2 & 1 & 0 & 2 & 2\\\\\n",
       "\trs62442944 & 2 & 1 & 2 & 1 & 1 & 2 & 2 & 2 & 2 & 2 & ⋯ & 2 & 2 & 2 & 2 & 1 & 1 & 1 & 2 & 0 & 1\\\\\n",
       "\\end{tabular}\n"
      ],
      "text/markdown": [
       "\n",
       "A data.frame: 6 × 489\n",
       "\n",
       "| <!--/--> | HG00096_HG00096 &lt;dbl&gt; | HG00097_HG00097 &lt;dbl&gt; | HG00099_HG00099 &lt;dbl&gt; | HG00101_HG00101 &lt;dbl&gt; | HG00102_HG00102 &lt;dbl&gt; | HG00103_HG00103 &lt;dbl&gt; | HG00105_HG00105 &lt;dbl&gt; | HG00107_HG00107 &lt;dbl&gt; | HG00108_HG00108 &lt;dbl&gt; | HG00109_HG00109 &lt;dbl&gt; | ⋯ ⋯ | NA20814_NA20814 &lt;dbl&gt; | NA20815_NA20815 &lt;dbl&gt; | NA20818_NA20818 &lt;dbl&gt; | NA20819_NA20819 &lt;dbl&gt; | NA20821_NA20821 &lt;dbl&gt; | NA20822_NA20822 &lt;dbl&gt; | NA20826_NA20826 &lt;dbl&gt; | NA20827_NA20827 &lt;dbl&gt; | NA20828_NA20828 &lt;dbl&gt; | NA20832_NA20832 &lt;dbl&gt; |\n",
       "|---|---|---|---|---|---|---|---|---|---|---|---|---|---|---|---|---|---|---|---|---|---|\n",
       "| rs11773627 | 2 | 1 | 2 | 1 | 1 | 2 | 2 | 2 | 2 | 2 | ⋯ | 2 | 2 | 2 | 2 | 1 | 1 | 1 | 2 | 0 | 1 |\n",
       "| rs6972374 | 2 | 2 | 1 | 2 | 1 | 1 | 1 | 2 | 0 | 1 | ⋯ | 0 | 2 | 1 | 1 | 1 | 1 | 2 | 2 | 2 | 1 |\n",
       "| rs12666575 | 0 | 1 | 1 | 1 | 2 | 1 | 1 | 0 | 2 | 1 | ⋯ | 2 | 0 | 1 | 1 | 2 | 2 | 1 | 0 | 2 | 2 |\n",
       "| rs11766575 | 0 | 1 | 1 | 1 | 2 | 1 | 1 | 0 | 2 | 1 | ⋯ | 2 | 0 | 1 | 1 | 2 | 2 | 1 | 0 | 2 | 2 |\n",
       "| rs4721264 | 0 | 1 | 1 | 1 | 1 | 1 | 1 | 0 | 2 | 1 | ⋯ | 2 | 0 | 1 | 0 | 2 | 2 | 1 | 0 | 2 | 2 |\n",
       "| rs62442944 | 2 | 1 | 2 | 1 | 1 | 2 | 2 | 2 | 2 | 2 | ⋯ | 2 | 2 | 2 | 2 | 1 | 1 | 1 | 2 | 0 | 1 |\n",
       "\n"
      ],
      "text/plain": [
       "           HG00096_HG00096 HG00097_HG00097 HG00099_HG00099 HG00101_HG00101\n",
       "rs11773627 2               1               2               1              \n",
       "rs6972374  2               2               1               2              \n",
       "rs12666575 0               1               1               1              \n",
       "rs11766575 0               1               1               1              \n",
       "rs4721264  0               1               1               1              \n",
       "rs62442944 2               1               2               1              \n",
       "           HG00102_HG00102 HG00103_HG00103 HG00105_HG00105 HG00107_HG00107\n",
       "rs11773627 1               2               2               2              \n",
       "rs6972374  1               1               1               2              \n",
       "rs12666575 2               1               1               0              \n",
       "rs11766575 2               1               1               0              \n",
       "rs4721264  1               1               1               0              \n",
       "rs62442944 1               2               2               2              \n",
       "           HG00108_HG00108 HG00109_HG00109 ⋯ NA20814_NA20814 NA20815_NA20815\n",
       "rs11773627 2               2               ⋯ 2               2              \n",
       "rs6972374  0               1               ⋯ 0               2              \n",
       "rs12666575 2               1               ⋯ 2               0              \n",
       "rs11766575 2               1               ⋯ 2               0              \n",
       "rs4721264  2               1               ⋯ 2               0              \n",
       "rs62442944 2               2               ⋯ 2               2              \n",
       "           NA20818_NA20818 NA20819_NA20819 NA20821_NA20821 NA20822_NA20822\n",
       "rs11773627 2               2               1               1              \n",
       "rs6972374  1               1               1               1              \n",
       "rs12666575 1               1               2               2              \n",
       "rs11766575 1               1               2               2              \n",
       "rs4721264  1               0               2               2              \n",
       "rs62442944 2               2               1               1              \n",
       "           NA20826_NA20826 NA20827_NA20827 NA20828_NA20828 NA20832_NA20832\n",
       "rs11773627 1               2               0               1              \n",
       "rs6972374  2               2               2               1              \n",
       "rs12666575 1               0               2               2              \n",
       "rs11766575 1               0               2               2              \n",
       "rs4721264  1               0               2               2              \n",
       "rs62442944 1               2               0               1              "
      ]
     },
     "metadata": {},
     "output_type": "display_data"
    },
    {
     "data": {
      "text/html": [
       "<table class=\"dataframe\">\n",
       "<caption>A matrix: 6 × 489 of type dbl</caption>\n",
       "<thead>\n",
       "\t<tr><th></th><th scope=col>HG00096_HG00096</th><th scope=col>HG00097_HG00097</th><th scope=col>HG00099_HG00099</th><th scope=col>HG00101_HG00101</th><th scope=col>HG00102_HG00102</th><th scope=col>HG00103_HG00103</th><th scope=col>HG00105_HG00105</th><th scope=col>HG00107_HG00107</th><th scope=col>HG00108_HG00108</th><th scope=col>HG00109_HG00109</th><th scope=col>⋯</th><th scope=col>NA20814_NA20814</th><th scope=col>NA20815_NA20815</th><th scope=col>NA20818_NA20818</th><th scope=col>NA20819_NA20819</th><th scope=col>NA20821_NA20821</th><th scope=col>NA20822_NA20822</th><th scope=col>NA20826_NA20826</th><th scope=col>NA20827_NA20827</th><th scope=col>NA20828_NA20828</th><th scope=col>NA20832_NA20832</th></tr>\n",
       "</thead>\n",
       "<tbody>\n",
       "\t<tr><th scope=row>rs11773627</th><td>2</td><td>1</td><td>2</td><td>1</td><td>1</td><td>2</td><td>2</td><td>2</td><td>2</td><td>2</td><td>⋯</td><td>2</td><td>2</td><td>2</td><td>2</td><td>1</td><td>1</td><td>1</td><td>2</td><td>0</td><td>1</td></tr>\n",
       "\t<tr><th scope=row>rs6972374</th><td>2</td><td>2</td><td>1</td><td>2</td><td>1</td><td>1</td><td>1</td><td>2</td><td>0</td><td>1</td><td>⋯</td><td>0</td><td>2</td><td>1</td><td>1</td><td>1</td><td>1</td><td>2</td><td>2</td><td>2</td><td>1</td></tr>\n",
       "\t<tr><th scope=row>rs12666575</th><td>0</td><td>1</td><td>1</td><td>1</td><td>2</td><td>1</td><td>1</td><td>0</td><td>2</td><td>1</td><td>⋯</td><td>2</td><td>0</td><td>1</td><td>1</td><td>2</td><td>2</td><td>1</td><td>0</td><td>2</td><td>2</td></tr>\n",
       "\t<tr><th scope=row>rs11766575</th><td>0</td><td>1</td><td>1</td><td>1</td><td>2</td><td>1</td><td>1</td><td>0</td><td>2</td><td>1</td><td>⋯</td><td>2</td><td>0</td><td>1</td><td>1</td><td>2</td><td>2</td><td>1</td><td>0</td><td>2</td><td>2</td></tr>\n",
       "\t<tr><th scope=row>rs4721264</th><td>0</td><td>1</td><td>1</td><td>1</td><td>1</td><td>1</td><td>1</td><td>0</td><td>2</td><td>1</td><td>⋯</td><td>2</td><td>0</td><td>1</td><td>0</td><td>2</td><td>2</td><td>1</td><td>0</td><td>2</td><td>2</td></tr>\n",
       "\t<tr><th scope=row>rs62442944</th><td>2</td><td>1</td><td>2</td><td>1</td><td>1</td><td>2</td><td>2</td><td>2</td><td>2</td><td>2</td><td>⋯</td><td>2</td><td>2</td><td>2</td><td>2</td><td>1</td><td>1</td><td>1</td><td>2</td><td>0</td><td>1</td></tr>\n",
       "</tbody>\n",
       "</table>\n"
      ],
      "text/latex": [
       "A matrix: 6 × 489 of type dbl\n",
       "\\begin{tabular}{r|lllllllllllllllllllll}\n",
       "  & HG00096\\_HG00096 & HG00097\\_HG00097 & HG00099\\_HG00099 & HG00101\\_HG00101 & HG00102\\_HG00102 & HG00103\\_HG00103 & HG00105\\_HG00105 & HG00107\\_HG00107 & HG00108\\_HG00108 & HG00109\\_HG00109 & ⋯ & NA20814\\_NA20814 & NA20815\\_NA20815 & NA20818\\_NA20818 & NA20819\\_NA20819 & NA20821\\_NA20821 & NA20822\\_NA20822 & NA20826\\_NA20826 & NA20827\\_NA20827 & NA20828\\_NA20828 & NA20832\\_NA20832\\\\\n",
       "\\hline\n",
       "\trs11773627 & 2 & 1 & 2 & 1 & 1 & 2 & 2 & 2 & 2 & 2 & ⋯ & 2 & 2 & 2 & 2 & 1 & 1 & 1 & 2 & 0 & 1\\\\\n",
       "\trs6972374 & 2 & 2 & 1 & 2 & 1 & 1 & 1 & 2 & 0 & 1 & ⋯ & 0 & 2 & 1 & 1 & 1 & 1 & 2 & 2 & 2 & 1\\\\\n",
       "\trs12666575 & 0 & 1 & 1 & 1 & 2 & 1 & 1 & 0 & 2 & 1 & ⋯ & 2 & 0 & 1 & 1 & 2 & 2 & 1 & 0 & 2 & 2\\\\\n",
       "\trs11766575 & 0 & 1 & 1 & 1 & 2 & 1 & 1 & 0 & 2 & 1 & ⋯ & 2 & 0 & 1 & 1 & 2 & 2 & 1 & 0 & 2 & 2\\\\\n",
       "\trs4721264 & 0 & 1 & 1 & 1 & 1 & 1 & 1 & 0 & 2 & 1 & ⋯ & 2 & 0 & 1 & 0 & 2 & 2 & 1 & 0 & 2 & 2\\\\\n",
       "\trs62442944 & 2 & 1 & 2 & 1 & 1 & 2 & 2 & 2 & 2 & 2 & ⋯ & 2 & 2 & 2 & 2 & 1 & 1 & 1 & 2 & 0 & 1\\\\\n",
       "\\end{tabular}\n"
      ],
      "text/markdown": [
       "\n",
       "A matrix: 6 × 489 of type dbl\n",
       "\n",
       "| <!--/--> | HG00096_HG00096 | HG00097_HG00097 | HG00099_HG00099 | HG00101_HG00101 | HG00102_HG00102 | HG00103_HG00103 | HG00105_HG00105 | HG00107_HG00107 | HG00108_HG00108 | HG00109_HG00109 | ⋯ | NA20814_NA20814 | NA20815_NA20815 | NA20818_NA20818 | NA20819_NA20819 | NA20821_NA20821 | NA20822_NA20822 | NA20826_NA20826 | NA20827_NA20827 | NA20828_NA20828 | NA20832_NA20832 |\n",
       "|---|---|---|---|---|---|---|---|---|---|---|---|---|---|---|---|---|---|---|---|---|---|\n",
       "| rs11773627 | 2 | 1 | 2 | 1 | 1 | 2 | 2 | 2 | 2 | 2 | ⋯ | 2 | 2 | 2 | 2 | 1 | 1 | 1 | 2 | 0 | 1 |\n",
       "| rs6972374 | 2 | 2 | 1 | 2 | 1 | 1 | 1 | 2 | 0 | 1 | ⋯ | 0 | 2 | 1 | 1 | 1 | 1 | 2 | 2 | 2 | 1 |\n",
       "| rs12666575 | 0 | 1 | 1 | 1 | 2 | 1 | 1 | 0 | 2 | 1 | ⋯ | 2 | 0 | 1 | 1 | 2 | 2 | 1 | 0 | 2 | 2 |\n",
       "| rs11766575 | 0 | 1 | 1 | 1 | 2 | 1 | 1 | 0 | 2 | 1 | ⋯ | 2 | 0 | 1 | 1 | 2 | 2 | 1 | 0 | 2 | 2 |\n",
       "| rs4721264 | 0 | 1 | 1 | 1 | 1 | 1 | 1 | 0 | 2 | 1 | ⋯ | 2 | 0 | 1 | 0 | 2 | 2 | 1 | 0 | 2 | 2 |\n",
       "| rs62442944 | 2 | 1 | 2 | 1 | 1 | 2 | 2 | 2 | 2 | 2 | ⋯ | 2 | 2 | 2 | 2 | 1 | 1 | 1 | 2 | 0 | 1 |\n",
       "\n"
      ],
      "text/plain": [
       "           HG00096_HG00096 HG00097_HG00097 HG00099_HG00099 HG00101_HG00101\n",
       "rs11773627 2               1               2               1              \n",
       "rs6972374  2               2               1               2              \n",
       "rs12666575 0               1               1               1              \n",
       "rs11766575 0               1               1               1              \n",
       "rs4721264  0               1               1               1              \n",
       "rs62442944 2               1               2               1              \n",
       "           HG00102_HG00102 HG00103_HG00103 HG00105_HG00105 HG00107_HG00107\n",
       "rs11773627 1               2               2               2              \n",
       "rs6972374  1               1               1               2              \n",
       "rs12666575 2               1               1               0              \n",
       "rs11766575 2               1               1               0              \n",
       "rs4721264  1               1               1               0              \n",
       "rs62442944 1               2               2               2              \n",
       "           HG00108_HG00108 HG00109_HG00109 ⋯ NA20814_NA20814 NA20815_NA20815\n",
       "rs11773627 2               2               ⋯ 2               2              \n",
       "rs6972374  0               1               ⋯ 0               2              \n",
       "rs12666575 2               1               ⋯ 2               0              \n",
       "rs11766575 2               1               ⋯ 2               0              \n",
       "rs4721264  2               1               ⋯ 2               0              \n",
       "rs62442944 2               2               ⋯ 2               2              \n",
       "           NA20818_NA20818 NA20819_NA20819 NA20821_NA20821 NA20822_NA20822\n",
       "rs11773627 2               2               1               1              \n",
       "rs6972374  1               1               1               1              \n",
       "rs12666575 1               1               2               2              \n",
       "rs11766575 1               1               2               2              \n",
       "rs4721264  1               0               2               2              \n",
       "rs62442944 2               2               1               1              \n",
       "           NA20826_NA20826 NA20827_NA20827 NA20828_NA20828 NA20832_NA20832\n",
       "rs11773627 1               2               0               1              \n",
       "rs6972374  2               2               2               1              \n",
       "rs12666575 1               0               2               2              \n",
       "rs11766575 1               0               2               2              \n",
       "rs4721264  1               0               2               2              \n",
       "rs62442944 1               2               0               1              "
      ]
     },
     "metadata": {},
     "output_type": "display_data"
    }
   ],
   "source": [
    "# Find rows that are perfect matches between snp.1kg.eur2 and snp.1kg.eur3\n",
    "match_indices <- which(apply(snp.1kg.eur2 == snp.1kg.eur3, 1, all))\n",
    "\n",
    "# Create new dataframes showing rows that are perfect matches\n",
    "snp.1kg.eur2.match <- snp.1kg.eur2[match_indices, ]\n",
    "snp.1kg.eur3.match <- snp.1kg.eur3[match_indices, ]\n",
    "\n",
    "dim(snp.1kg.eur2.match)\n",
    "dim(snp.1kg.eur3.match)\n",
    "\n",
    "# Display the new dataframes\n",
    "head(snp.1kg.eur2.match)\n",
    "head(snp.1kg.eur3.match)\n"
   ]
  },
  {
   "cell_type": "markdown",
   "id": "41240afc-2e03-4c69-bf79-d34357ae6dfd",
   "metadata": {},
   "source": [
    "Let's see if this disagreement is also reflected in our summary stat and reference files."
   ]
  },
  {
   "cell_type": "code",
   "execution_count": 191,
   "id": "10806a56-ff40-4e77-8da8-f70eca06a20e",
   "metadata": {},
   "outputs": [
    {
     "data": {
      "text/html": [
       "<table class=\"dataframe\">\n",
       "<caption>A data.frame: 6 × 9</caption>\n",
       "<thead>\n",
       "\t<tr><th></th><th scope=col>snp</th><th scope=col>chr</th><th scope=col>pos_hg38</th><th scope=col>pos_hg19</th><th scope=col>info</th><th scope=col>A1</th><th scope=col>A2</th><th scope=col>z</th><th scope=col>p</th></tr>\n",
       "\t<tr><th></th><th scope=col>&lt;fct&gt;</th><th scope=col>&lt;fct&gt;</th><th scope=col>&lt;int&gt;</th><th scope=col>&lt;int&gt;</th><th scope=col>&lt;dbl&gt;</th><th scope=col>&lt;chr&gt;</th><th scope=col>&lt;chr&gt;</th><th scope=col>&lt;dbl&gt;</th><th scope=col>&lt;dbl&gt;</th></tr>\n",
       "</thead>\n",
       "<tbody>\n",
       "\t<tr><th scope=row>1580243</th><td>rs11773627</td><td>chr7</td><td>1963098</td><td>2002733</td><td>0.987</td><td>T</td><td>C</td><td>-5.211806</td><td>1.955e-07</td></tr>\n",
       "\t<tr><th scope=row>1581305</th><td>rs6972374 </td><td>chr7</td><td>1963408</td><td>2003043</td><td>0.982</td><td>C</td><td>T</td><td>-5.288320</td><td>1.220e-07</td></tr>\n",
       "\t<tr><th scope=row>1585924</th><td>rs12666575</td><td>chr7</td><td>1964786</td><td>2004421</td><td>0.993</td><td>C</td><td>T</td><td> 8.855337</td><td>6.441e-19</td></tr>\n",
       "\t<tr><th scope=row>1608594</th><td>rs11766575</td><td>chr7</td><td>1966112</td><td>2005747</td><td>0.990</td><td>T</td><td>C</td><td> 8.833789</td><td>6.381e-19</td></tr>\n",
       "\t<tr><th scope=row>1605654</th><td>rs4721264 </td><td>chr7</td><td>1973362</td><td>2012997</td><td>0.985</td><td>G</td><td>A</td><td> 9.455969</td><td>3.503e-21</td></tr>\n",
       "\t<tr><th scope=row>1592364</th><td>rs62442944</td><td>chr7</td><td>1975412</td><td>2015047</td><td>0.991</td><td>T</td><td>G</td><td>-5.266792</td><td>1.591e-07</td></tr>\n",
       "</tbody>\n",
       "</table>\n"
      ],
      "text/latex": [
       "A data.frame: 6 × 9\n",
       "\\begin{tabular}{r|lllllllll}\n",
       "  & snp & chr & pos\\_hg38 & pos\\_hg19 & info & A1 & A2 & z & p\\\\\n",
       "  & <fct> & <fct> & <int> & <int> & <dbl> & <chr> & <chr> & <dbl> & <dbl>\\\\\n",
       "\\hline\n",
       "\t1580243 & rs11773627 & chr7 & 1963098 & 2002733 & 0.987 & T & C & -5.211806 & 1.955e-07\\\\\n",
       "\t1581305 & rs6972374  & chr7 & 1963408 & 2003043 & 0.982 & C & T & -5.288320 & 1.220e-07\\\\\n",
       "\t1585924 & rs12666575 & chr7 & 1964786 & 2004421 & 0.993 & C & T &  8.855337 & 6.441e-19\\\\\n",
       "\t1608594 & rs11766575 & chr7 & 1966112 & 2005747 & 0.990 & T & C &  8.833789 & 6.381e-19\\\\\n",
       "\t1605654 & rs4721264  & chr7 & 1973362 & 2012997 & 0.985 & G & A &  9.455969 & 3.503e-21\\\\\n",
       "\t1592364 & rs62442944 & chr7 & 1975412 & 2015047 & 0.991 & T & G & -5.266792 & 1.591e-07\\\\\n",
       "\\end{tabular}\n"
      ],
      "text/markdown": [
       "\n",
       "A data.frame: 6 × 9\n",
       "\n",
       "| <!--/--> | snp &lt;fct&gt; | chr &lt;fct&gt; | pos_hg38 &lt;int&gt; | pos_hg19 &lt;int&gt; | info &lt;dbl&gt; | A1 &lt;chr&gt; | A2 &lt;chr&gt; | z &lt;dbl&gt; | p &lt;dbl&gt; |\n",
       "|---|---|---|---|---|---|---|---|---|---|\n",
       "| 1580243 | rs11773627 | chr7 | 1963098 | 2002733 | 0.987 | T | C | -5.211806 | 1.955e-07 |\n",
       "| 1581305 | rs6972374  | chr7 | 1963408 | 2003043 | 0.982 | C | T | -5.288320 | 1.220e-07 |\n",
       "| 1585924 | rs12666575 | chr7 | 1964786 | 2004421 | 0.993 | C | T |  8.855337 | 6.441e-19 |\n",
       "| 1608594 | rs11766575 | chr7 | 1966112 | 2005747 | 0.990 | T | C |  8.833789 | 6.381e-19 |\n",
       "| 1605654 | rs4721264  | chr7 | 1973362 | 2012997 | 0.985 | G | A |  9.455969 | 3.503e-21 |\n",
       "| 1592364 | rs62442944 | chr7 | 1975412 | 2015047 | 0.991 | T | G | -5.266792 | 1.591e-07 |\n",
       "\n"
      ],
      "text/plain": [
       "        snp        chr  pos_hg38 pos_hg19 info  A1 A2 z         p        \n",
       "1580243 rs11773627 chr7 1963098  2002733  0.987 T  C  -5.211806 1.955e-07\n",
       "1581305 rs6972374  chr7 1963408  2003043  0.982 C  T  -5.288320 1.220e-07\n",
       "1585924 rs12666575 chr7 1964786  2004421  0.993 C  T   8.855337 6.441e-19\n",
       "1608594 rs11766575 chr7 1966112  2005747  0.990 T  C   8.833789 6.381e-19\n",
       "1605654 rs4721264  chr7 1973362  2012997  0.985 G  A   9.455969 3.503e-21\n",
       "1592364 rs62442944 chr7 1975412  2015047  0.991 T  G  -5.266792 1.591e-07"
      ]
     },
     "metadata": {},
     "output_type": "display_data"
    }
   ],
   "source": [
    "head(snp.gwas2)"
   ]
  },
  {
   "cell_type": "code",
   "execution_count": 192,
   "id": "f25249c1-10a0-4969-b2d1-884891e7be1f",
   "metadata": {},
   "outputs": [
    {
     "data": {
      "text/html": [
       "<style>\n",
       ".list-inline {list-style: none; margin:0; padding: 0}\n",
       ".list-inline>li {display: inline-block}\n",
       ".list-inline>li:not(:last-child)::after {content: \"\\00b7\"; padding: 0 .5ex}\n",
       "</style>\n",
       "<ol class=list-inline><li>56</li><li>9</li></ol>\n"
      ],
      "text/latex": [
       "\\begin{enumerate*}\n",
       "\\item 56\n",
       "\\item 9\n",
       "\\end{enumerate*}\n"
      ],
      "text/markdown": [
       "1. 56\n",
       "2. 9\n",
       "\n",
       "\n"
      ],
      "text/plain": [
       "[1] 56  9"
      ]
     },
     "metadata": {},
     "output_type": "display_data"
    }
   ],
   "source": [
    "dim(snp.gwas2)"
   ]
  },
  {
   "cell_type": "code",
   "execution_count": 199,
   "id": "4d69ebde-66bf-4cda-a52d-3924323557d4",
   "metadata": {},
   "outputs": [],
   "source": [
    "pvar <- fread(paste0(\"/expanse/lustre/projects/jhu152/naglemi/mwas/gwas/ref_EUR_chr\", chr, \".pvar\"))"
   ]
  },
  {
   "cell_type": "code",
   "execution_count": 200,
   "id": "2e416a29-0f2f-4df4-841f-74cd63f23fa4",
   "metadata": {},
   "outputs": [
    {
     "data": {
      "text/html": [
       "<table class=\"dataframe\">\n",
       "<caption>A data.table: 6 × 5</caption>\n",
       "<thead>\n",
       "\t<tr><th scope=col>#CHROM</th><th scope=col>POS</th><th scope=col>ID</th><th scope=col>REF</th><th scope=col>ALT</th></tr>\n",
       "\t<tr><th scope=col>&lt;int&gt;</th><th scope=col>&lt;int&gt;</th><th scope=col>&lt;chr&gt;</th><th scope=col>&lt;chr&gt;</th><th scope=col>&lt;chr&gt;</th></tr>\n",
       "</thead>\n",
       "<tbody>\n",
       "\t<tr><td>7</td><td>53998</td><td>rs7806592 </td><td>T</td><td>C</td></tr>\n",
       "\t<tr><td>7</td><td>60728</td><td>rs4916941 </td><td>G</td><td>A</td></tr>\n",
       "\t<tr><td>7</td><td>63494</td><td>rs6964622 </td><td>G</td><td>A</td></tr>\n",
       "\t<tr><td>7</td><td>71938</td><td>rs13437666</td><td>A</td><td>C</td></tr>\n",
       "\t<tr><td>7</td><td>80500</td><td>rs12533719</td><td>T</td><td>C</td></tr>\n",
       "\t<tr><td>7</td><td>82240</td><td>rs13236314</td><td>C</td><td>T</td></tr>\n",
       "</tbody>\n",
       "</table>\n"
      ],
      "text/latex": [
       "A data.table: 6 × 5\n",
       "\\begin{tabular}{lllll}\n",
       " \\#CHROM & POS & ID & REF & ALT\\\\\n",
       " <int> & <int> & <chr> & <chr> & <chr>\\\\\n",
       "\\hline\n",
       "\t 7 & 53998 & rs7806592  & T & C\\\\\n",
       "\t 7 & 60728 & rs4916941  & G & A\\\\\n",
       "\t 7 & 63494 & rs6964622  & G & A\\\\\n",
       "\t 7 & 71938 & rs13437666 & A & C\\\\\n",
       "\t 7 & 80500 & rs12533719 & T & C\\\\\n",
       "\t 7 & 82240 & rs13236314 & C & T\\\\\n",
       "\\end{tabular}\n"
      ],
      "text/markdown": [
       "\n",
       "A data.table: 6 × 5\n",
       "\n",
       "| #CHROM &lt;int&gt; | POS &lt;int&gt; | ID &lt;chr&gt; | REF &lt;chr&gt; | ALT &lt;chr&gt; |\n",
       "|---|---|---|---|---|\n",
       "| 7 | 53998 | rs7806592  | T | C |\n",
       "| 7 | 60728 | rs4916941  | G | A |\n",
       "| 7 | 63494 | rs6964622  | G | A |\n",
       "| 7 | 71938 | rs13437666 | A | C |\n",
       "| 7 | 80500 | rs12533719 | T | C |\n",
       "| 7 | 82240 | rs13236314 | C | T |\n",
       "\n"
      ],
      "text/plain": [
       "  #CHROM POS   ID         REF ALT\n",
       "1 7      53998 rs7806592  T   C  \n",
       "2 7      60728 rs4916941  G   A  \n",
       "3 7      63494 rs6964622  G   A  \n",
       "4 7      71938 rs13437666 A   C  \n",
       "5 7      80500 rs12533719 T   C  \n",
       "6 7      82240 rs13236314 C   T  "
      ]
     },
     "metadata": {},
     "output_type": "display_data"
    }
   ],
   "source": [
    "head(pvar)"
   ]
  },
  {
   "cell_type": "code",
   "execution_count": 201,
   "id": "f42ddbd0-1d49-45b0-995f-0fd69a5ee82e",
   "metadata": {},
   "outputs": [],
   "source": [
    "pvar <- pvar[which(pvar$POS %in% snp.gwas2$pos_hg38), ]"
   ]
  },
  {
   "cell_type": "code",
   "execution_count": 202,
   "id": "26076a2a-8eed-4aa0-8c19-203a2879833b",
   "metadata": {},
   "outputs": [
    {
     "data": {
      "text/html": [
       "<style>\n",
       ".list-inline {list-style: none; margin:0; padding: 0}\n",
       ".list-inline>li {display: inline-block}\n",
       ".list-inline>li:not(:last-child)::after {content: \"\\00b7\"; padding: 0 .5ex}\n",
       "</style>\n",
       "<ol class=list-inline><li>56</li><li>5</li></ol>\n"
      ],
      "text/latex": [
       "\\begin{enumerate*}\n",
       "\\item 56\n",
       "\\item 5\n",
       "\\end{enumerate*}\n"
      ],
      "text/markdown": [
       "1. 56\n",
       "2. 5\n",
       "\n",
       "\n"
      ],
      "text/plain": [
       "[1] 56  5"
      ]
     },
     "metadata": {},
     "output_type": "display_data"
    }
   ],
   "source": [
    "dim(pvar)"
   ]
  },
  {
   "cell_type": "code",
   "execution_count": 204,
   "id": "56da61c1-6673-48ba-a97c-7afbb24e4b70",
   "metadata": {},
   "outputs": [
    {
     "data": {
      "text/html": [
       "FALSE"
      ],
      "text/latex": [
       "FALSE"
      ],
      "text/markdown": [
       "FALSE"
      ],
      "text/plain": [
       "[1] FALSE"
      ]
     },
     "metadata": {},
     "output_type": "display_data"
    }
   ],
   "source": [
    "all(snp.gwas2$A1 == pvar$REF)"
   ]
  },
  {
   "cell_type": "code",
   "execution_count": 207,
   "id": "efe21f77-462b-4f06-b56c-979efcba21c8",
   "metadata": {},
   "outputs": [
    {
     "data": {
      "text/html": [
       "<style>\n",
       ".list-inline {list-style: none; margin:0; padding: 0}\n",
       ".list-inline>li {display: inline-block}\n",
       ".list-inline>li:not(:last-child)::after {content: \"\\00b7\"; padding: 0 .5ex}\n",
       "</style>\n",
       "<ol class=list-inline><li>1980077</li><li>1980101</li><li>1980129</li><li>1980136</li><li>1980145</li><li>1980179</li><li>1980183</li><li>1980193</li><li>1980205</li><li>1980239</li><li>1980247</li><li>1980287</li><li>1980291</li><li>1980303</li><li>1980320</li><li>1980326</li><li>1980355</li><li>1980373</li><li>1980390</li><li>1980396</li><li>1980424</li><li>1980430</li><li>1980448</li><li>1980458</li><li>1980464</li><li>1980496</li><li>1980577</li><li>1980581</li><li>1980642</li><li>1980661</li><li>1980787</li><li>1980833</li><li>1980852</li><li>1980860</li><li>1980866</li><li>1980869</li><li>1980893</li><li>1980896</li><li>1980905</li><li>1980933</li><li>1980948</li><li>1980952</li><li>1980997</li><li>1981035</li><li>1981057</li><li>1981111</li><li>1981113</li><li>1981123</li><li>1981186</li><li>1981200</li><li>1981213</li><li>1981219</li><li>1981246</li><li>1981253</li><li>1981262</li><li>1981286</li><li>1981328</li><li>1981352</li><li>1981359</li><li>1981386</li><li>1981410</li><li>1981427</li><li>1981449</li><li>1981479</li><li>1981518</li><li>1981608</li><li>1981613</li><li>1981675</li><li>1981682</li><li>1981958</li><li>1982004</li><li>1982017</li><li>1982035</li><li>1982064</li><li>1982079</li><li>1982246</li><li>1982264</li><li>1982311</li><li>1982357</li><li>1982397</li><li>1982428</li><li>1982488</li><li>1982495</li><li>1982498</li><li>1982500</li><li>1982541</li><li>1982564</li><li>1982583</li><li>1982587</li><li>1982648</li><li>1982740</li><li>1982933</li><li>1983048</li><li>1983077</li><li>1983083</li><li>1983085</li><li>1983105</li><li>1983115</li><li>1983133</li><li>1983135</li><li>1983137</li><li>1983139</li><li>1983141</li><li>1983143</li><li>1983145</li><li>1983147</li><li>1983149</li><li>1983151</li><li>1983153</li><li>1983296</li><li>1983405</li><li>1983484</li><li>1983612</li><li>1983632</li><li>1983694</li><li>1983703</li><li>1983733</li><li>1983747</li><li>1984150</li><li>1984336</li><li>1984422</li><li>1984473</li><li>1984518</li><li>1984556</li><li>1984603</li><li>1984623</li><li>1984705</li><li>1984833</li><li>1984895</li><li>1984908</li><li>1984972</li><li>1985070</li><li>1985172</li><li>1985187</li><li>1985193</li><li>1985231</li><li>1985257</li><li>1985261</li><li>1985292</li><li>1985304</li><li>1985311</li><li>1985342</li><li>1985365</li><li>1985419</li><li>1985445</li><li>1985468</li><li>1985486</li><li>1985521</li><li>1985572</li><li>1985585</li><li>1985591</li><li>1985721</li><li>1985744</li><li>1985751</li><li>1985759</li><li>1985767</li><li>1985825</li><li>1985848</li><li>1985857</li><li>1985872</li><li>1985878</li><li>1985883</li><li>1985906</li><li>1985911</li><li>1985971</li><li>1986087</li><li>1986093</li><li>1986164</li><li>1986194</li><li>1986214</li><li>1986256</li><li>1986268</li><li>1986331</li><li>1986354</li><li>1986377</li><li>1986395</li><li>1986407</li><li>1986410</li><li>1986417</li><li>1986424</li><li>1986443</li><li>1986450</li><li>1986462</li><li>1986465</li><li>1986484</li><li>1986486</li><li>1986495</li><li>1986497</li><li>1986500</li><li>1986519</li><li>1986521</li><li>1986530</li><li>1986532</li><li>1986535</li><li>1986554</li><li>1986556</li><li>1986583</li><li>1986603</li><li>1986624</li><li>1986652</li><li>1986733</li><li>1986784</li><li>1986909</li><li>1986957</li><li>1987071</li><li>1987106</li><li>1987187</li><li>1987226</li><li>1987253</li><li>1987269</li><li>1987319</li><li>1987330</li><li>1987338</li><li>1987363</li><li>1987365</li><li>1987388</li><li>1987395</li><li>1987403</li><li>1987407</li><li>1987413</li><li>1987418</li><li>1987434</li><li>1987449</li><li>1987458</li><li>1987468</li><li>1987492</li><li>1987511</li><li>1987527</li><li>1987565</li><li>1987604</li><li>1987616</li><li>1987627</li><li>1987648</li><li>1987656</li><li>1987659</li><li>1987665</li><li>1987669</li><li>1987680</li><li>1987684</li><li>1987688</li><li>1987697</li><li>1987705</li><li>1987719</li><li>1987725</li><li>1987732</li><li>1987778</li><li>1987797</li><li>1987808</li><li>1987853</li><li>1987858</li><li>1987861</li><li>1987896</li><li>1987910</li><li>1987930</li><li>1988010</li><li>1988039</li><li>1988059</li><li>1988066</li><li>1988078</li><li>1988129</li><li>1988133</li><li>1988141</li><li>1988171</li><li>1988201</li><li>1988216</li><li>1988292</li><li>1988307</li><li>1988321</li><li>1988325</li><li>1988332</li><li>1988401</li><li>1988423</li><li>1988546</li><li>1988580</li><li>1988612</li><li>1988630</li><li>1988634</li><li>1988636</li><li>1988655</li><li>1988662</li><li>1988680</li><li>1988708</li><li>1988718</li><li>1988745</li><li>1988748</li><li>1988776</li><li>1988785</li><li>1988847</li><li>1988874</li><li>1989119</li><li>1989169</li><li>1989183</li><li>1989201</li><li>1989209</li><li>1989218</li><li>1989223</li><li>1989241</li><li>1989249</li><li>1989258</li><li>1989263</li><li>1989275</li><li>1989298</li><li>1989308</li><li>1989332</li><li>1989394</li><li>1989442</li><li>1989451</li><li>1989482</li><li>1989497</li><li>1989500</li><li>1989503</li><li>1989510</li><li>1989527</li><li>1989534</li><li>1989550</li><li>1989605</li><li>1989607</li><li>1989617</li><li>1989622</li><li>1989628</li><li>1989642</li><li>1989658</li><li>1989674</li><li>1989690</li><li>1989754</li><li>1989761</li><li>1989767</li><li>1989793</li><li>1989924</li><li>1989957</li></ol>\n"
      ],
      "text/latex": [
       "\\begin{enumerate*}\n",
       "\\item 1980077\n",
       "\\item 1980101\n",
       "\\item 1980129\n",
       "\\item 1980136\n",
       "\\item 1980145\n",
       "\\item 1980179\n",
       "\\item 1980183\n",
       "\\item 1980193\n",
       "\\item 1980205\n",
       "\\item 1980239\n",
       "\\item 1980247\n",
       "\\item 1980287\n",
       "\\item 1980291\n",
       "\\item 1980303\n",
       "\\item 1980320\n",
       "\\item 1980326\n",
       "\\item 1980355\n",
       "\\item 1980373\n",
       "\\item 1980390\n",
       "\\item 1980396\n",
       "\\item 1980424\n",
       "\\item 1980430\n",
       "\\item 1980448\n",
       "\\item 1980458\n",
       "\\item 1980464\n",
       "\\item 1980496\n",
       "\\item 1980577\n",
       "\\item 1980581\n",
       "\\item 1980642\n",
       "\\item 1980661\n",
       "\\item 1980787\n",
       "\\item 1980833\n",
       "\\item 1980852\n",
       "\\item 1980860\n",
       "\\item 1980866\n",
       "\\item 1980869\n",
       "\\item 1980893\n",
       "\\item 1980896\n",
       "\\item 1980905\n",
       "\\item 1980933\n",
       "\\item 1980948\n",
       "\\item 1980952\n",
       "\\item 1980997\n",
       "\\item 1981035\n",
       "\\item 1981057\n",
       "\\item 1981111\n",
       "\\item 1981113\n",
       "\\item 1981123\n",
       "\\item 1981186\n",
       "\\item 1981200\n",
       "\\item 1981213\n",
       "\\item 1981219\n",
       "\\item 1981246\n",
       "\\item 1981253\n",
       "\\item 1981262\n",
       "\\item 1981286\n",
       "\\item 1981328\n",
       "\\item 1981352\n",
       "\\item 1981359\n",
       "\\item 1981386\n",
       "\\item 1981410\n",
       "\\item 1981427\n",
       "\\item 1981449\n",
       "\\item 1981479\n",
       "\\item 1981518\n",
       "\\item 1981608\n",
       "\\item 1981613\n",
       "\\item 1981675\n",
       "\\item 1981682\n",
       "\\item 1981958\n",
       "\\item 1982004\n",
       "\\item 1982017\n",
       "\\item 1982035\n",
       "\\item 1982064\n",
       "\\item 1982079\n",
       "\\item 1982246\n",
       "\\item 1982264\n",
       "\\item 1982311\n",
       "\\item 1982357\n",
       "\\item 1982397\n",
       "\\item 1982428\n",
       "\\item 1982488\n",
       "\\item 1982495\n",
       "\\item 1982498\n",
       "\\item 1982500\n",
       "\\item 1982541\n",
       "\\item 1982564\n",
       "\\item 1982583\n",
       "\\item 1982587\n",
       "\\item 1982648\n",
       "\\item 1982740\n",
       "\\item 1982933\n",
       "\\item 1983048\n",
       "\\item 1983077\n",
       "\\item 1983083\n",
       "\\item 1983085\n",
       "\\item 1983105\n",
       "\\item 1983115\n",
       "\\item 1983133\n",
       "\\item 1983135\n",
       "\\item 1983137\n",
       "\\item 1983139\n",
       "\\item 1983141\n",
       "\\item 1983143\n",
       "\\item 1983145\n",
       "\\item 1983147\n",
       "\\item 1983149\n",
       "\\item 1983151\n",
       "\\item 1983153\n",
       "\\item 1983296\n",
       "\\item 1983405\n",
       "\\item 1983484\n",
       "\\item 1983612\n",
       "\\item 1983632\n",
       "\\item 1983694\n",
       "\\item 1983703\n",
       "\\item 1983733\n",
       "\\item 1983747\n",
       "\\item 1984150\n",
       "\\item 1984336\n",
       "\\item 1984422\n",
       "\\item 1984473\n",
       "\\item 1984518\n",
       "\\item 1984556\n",
       "\\item 1984603\n",
       "\\item 1984623\n",
       "\\item 1984705\n",
       "\\item 1984833\n",
       "\\item 1984895\n",
       "\\item 1984908\n",
       "\\item 1984972\n",
       "\\item 1985070\n",
       "\\item 1985172\n",
       "\\item 1985187\n",
       "\\item 1985193\n",
       "\\item 1985231\n",
       "\\item 1985257\n",
       "\\item 1985261\n",
       "\\item 1985292\n",
       "\\item 1985304\n",
       "\\item 1985311\n",
       "\\item 1985342\n",
       "\\item 1985365\n",
       "\\item 1985419\n",
       "\\item 1985445\n",
       "\\item 1985468\n",
       "\\item 1985486\n",
       "\\item 1985521\n",
       "\\item 1985572\n",
       "\\item 1985585\n",
       "\\item 1985591\n",
       "\\item 1985721\n",
       "\\item 1985744\n",
       "\\item 1985751\n",
       "\\item 1985759\n",
       "\\item 1985767\n",
       "\\item 1985825\n",
       "\\item 1985848\n",
       "\\item 1985857\n",
       "\\item 1985872\n",
       "\\item 1985878\n",
       "\\item 1985883\n",
       "\\item 1985906\n",
       "\\item 1985911\n",
       "\\item 1985971\n",
       "\\item 1986087\n",
       "\\item 1986093\n",
       "\\item 1986164\n",
       "\\item 1986194\n",
       "\\item 1986214\n",
       "\\item 1986256\n",
       "\\item 1986268\n",
       "\\item 1986331\n",
       "\\item 1986354\n",
       "\\item 1986377\n",
       "\\item 1986395\n",
       "\\item 1986407\n",
       "\\item 1986410\n",
       "\\item 1986417\n",
       "\\item 1986424\n",
       "\\item 1986443\n",
       "\\item 1986450\n",
       "\\item 1986462\n",
       "\\item 1986465\n",
       "\\item 1986484\n",
       "\\item 1986486\n",
       "\\item 1986495\n",
       "\\item 1986497\n",
       "\\item 1986500\n",
       "\\item 1986519\n",
       "\\item 1986521\n",
       "\\item 1986530\n",
       "\\item 1986532\n",
       "\\item 1986535\n",
       "\\item 1986554\n",
       "\\item 1986556\n",
       "\\item 1986583\n",
       "\\item 1986603\n",
       "\\item 1986624\n",
       "\\item 1986652\n",
       "\\item 1986733\n",
       "\\item 1986784\n",
       "\\item 1986909\n",
       "\\item 1986957\n",
       "\\item 1987071\n",
       "\\item 1987106\n",
       "\\item 1987187\n",
       "\\item 1987226\n",
       "\\item 1987253\n",
       "\\item 1987269\n",
       "\\item 1987319\n",
       "\\item 1987330\n",
       "\\item 1987338\n",
       "\\item 1987363\n",
       "\\item 1987365\n",
       "\\item 1987388\n",
       "\\item 1987395\n",
       "\\item 1987403\n",
       "\\item 1987407\n",
       "\\item 1987413\n",
       "\\item 1987418\n",
       "\\item 1987434\n",
       "\\item 1987449\n",
       "\\item 1987458\n",
       "\\item 1987468\n",
       "\\item 1987492\n",
       "\\item 1987511\n",
       "\\item 1987527\n",
       "\\item 1987565\n",
       "\\item 1987604\n",
       "\\item 1987616\n",
       "\\item 1987627\n",
       "\\item 1987648\n",
       "\\item 1987656\n",
       "\\item 1987659\n",
       "\\item 1987665\n",
       "\\item 1987669\n",
       "\\item 1987680\n",
       "\\item 1987684\n",
       "\\item 1987688\n",
       "\\item 1987697\n",
       "\\item 1987705\n",
       "\\item 1987719\n",
       "\\item 1987725\n",
       "\\item 1987732\n",
       "\\item 1987778\n",
       "\\item 1987797\n",
       "\\item 1987808\n",
       "\\item 1987853\n",
       "\\item 1987858\n",
       "\\item 1987861\n",
       "\\item 1987896\n",
       "\\item 1987910\n",
       "\\item 1987930\n",
       "\\item 1988010\n",
       "\\item 1988039\n",
       "\\item 1988059\n",
       "\\item 1988066\n",
       "\\item 1988078\n",
       "\\item 1988129\n",
       "\\item 1988133\n",
       "\\item 1988141\n",
       "\\item 1988171\n",
       "\\item 1988201\n",
       "\\item 1988216\n",
       "\\item 1988292\n",
       "\\item 1988307\n",
       "\\item 1988321\n",
       "\\item 1988325\n",
       "\\item 1988332\n",
       "\\item 1988401\n",
       "\\item 1988423\n",
       "\\item 1988546\n",
       "\\item 1988580\n",
       "\\item 1988612\n",
       "\\item 1988630\n",
       "\\item 1988634\n",
       "\\item 1988636\n",
       "\\item 1988655\n",
       "\\item 1988662\n",
       "\\item 1988680\n",
       "\\item 1988708\n",
       "\\item 1988718\n",
       "\\item 1988745\n",
       "\\item 1988748\n",
       "\\item 1988776\n",
       "\\item 1988785\n",
       "\\item 1988847\n",
       "\\item 1988874\n",
       "\\item 1989119\n",
       "\\item 1989169\n",
       "\\item 1989183\n",
       "\\item 1989201\n",
       "\\item 1989209\n",
       "\\item 1989218\n",
       "\\item 1989223\n",
       "\\item 1989241\n",
       "\\item 1989249\n",
       "\\item 1989258\n",
       "\\item 1989263\n",
       "\\item 1989275\n",
       "\\item 1989298\n",
       "\\item 1989308\n",
       "\\item 1989332\n",
       "\\item 1989394\n",
       "\\item 1989442\n",
       "\\item 1989451\n",
       "\\item 1989482\n",
       "\\item 1989497\n",
       "\\item 1989500\n",
       "\\item 1989503\n",
       "\\item 1989510\n",
       "\\item 1989527\n",
       "\\item 1989534\n",
       "\\item 1989550\n",
       "\\item 1989605\n",
       "\\item 1989607\n",
       "\\item 1989617\n",
       "\\item 1989622\n",
       "\\item 1989628\n",
       "\\item 1989642\n",
       "\\item 1989658\n",
       "\\item 1989674\n",
       "\\item 1989690\n",
       "\\item 1989754\n",
       "\\item 1989761\n",
       "\\item 1989767\n",
       "\\item 1989793\n",
       "\\item 1989924\n",
       "\\item 1989957\n",
       "\\end{enumerate*}\n"
      ],
      "text/markdown": [
       "1. 1980077\n",
       "2. 1980101\n",
       "3. 1980129\n",
       "4. 1980136\n",
       "5. 1980145\n",
       "6. 1980179\n",
       "7. 1980183\n",
       "8. 1980193\n",
       "9. 1980205\n",
       "10. 1980239\n",
       "11. 1980247\n",
       "12. 1980287\n",
       "13. 1980291\n",
       "14. 1980303\n",
       "15. 1980320\n",
       "16. 1980326\n",
       "17. 1980355\n",
       "18. 1980373\n",
       "19. 1980390\n",
       "20. 1980396\n",
       "21. 1980424\n",
       "22. 1980430\n",
       "23. 1980448\n",
       "24. 1980458\n",
       "25. 1980464\n",
       "26. 1980496\n",
       "27. 1980577\n",
       "28. 1980581\n",
       "29. 1980642\n",
       "30. 1980661\n",
       "31. 1980787\n",
       "32. 1980833\n",
       "33. 1980852\n",
       "34. 1980860\n",
       "35. 1980866\n",
       "36. 1980869\n",
       "37. 1980893\n",
       "38. 1980896\n",
       "39. 1980905\n",
       "40. 1980933\n",
       "41. 1980948\n",
       "42. 1980952\n",
       "43. 1980997\n",
       "44. 1981035\n",
       "45. 1981057\n",
       "46. 1981111\n",
       "47. 1981113\n",
       "48. 1981123\n",
       "49. 1981186\n",
       "50. 1981200\n",
       "51. 1981213\n",
       "52. 1981219\n",
       "53. 1981246\n",
       "54. 1981253\n",
       "55. 1981262\n",
       "56. 1981286\n",
       "57. 1981328\n",
       "58. 1981352\n",
       "59. 1981359\n",
       "60. 1981386\n",
       "61. 1981410\n",
       "62. 1981427\n",
       "63. 1981449\n",
       "64. 1981479\n",
       "65. 1981518\n",
       "66. 1981608\n",
       "67. 1981613\n",
       "68. 1981675\n",
       "69. 1981682\n",
       "70. 1981958\n",
       "71. 1982004\n",
       "72. 1982017\n",
       "73. 1982035\n",
       "74. 1982064\n",
       "75. 1982079\n",
       "76. 1982246\n",
       "77. 1982264\n",
       "78. 1982311\n",
       "79. 1982357\n",
       "80. 1982397\n",
       "81. 1982428\n",
       "82. 1982488\n",
       "83. 1982495\n",
       "84. 1982498\n",
       "85. 1982500\n",
       "86. 1982541\n",
       "87. 1982564\n",
       "88. 1982583\n",
       "89. 1982587\n",
       "90. 1982648\n",
       "91. 1982740\n",
       "92. 1982933\n",
       "93. 1983048\n",
       "94. 1983077\n",
       "95. 1983083\n",
       "96. 1983085\n",
       "97. 1983105\n",
       "98. 1983115\n",
       "99. 1983133\n",
       "100. 1983135\n",
       "101. 1983137\n",
       "102. 1983139\n",
       "103. 1983141\n",
       "104. 1983143\n",
       "105. 1983145\n",
       "106. 1983147\n",
       "107. 1983149\n",
       "108. 1983151\n",
       "109. 1983153\n",
       "110. 1983296\n",
       "111. 1983405\n",
       "112. 1983484\n",
       "113. 1983612\n",
       "114. 1983632\n",
       "115. 1983694\n",
       "116. 1983703\n",
       "117. 1983733\n",
       "118. 1983747\n",
       "119. 1984150\n",
       "120. 1984336\n",
       "121. 1984422\n",
       "122. 1984473\n",
       "123. 1984518\n",
       "124. 1984556\n",
       "125. 1984603\n",
       "126. 1984623\n",
       "127. 1984705\n",
       "128. 1984833\n",
       "129. 1984895\n",
       "130. 1984908\n",
       "131. 1984972\n",
       "132. 1985070\n",
       "133. 1985172\n",
       "134. 1985187\n",
       "135. 1985193\n",
       "136. 1985231\n",
       "137. 1985257\n",
       "138. 1985261\n",
       "139. 1985292\n",
       "140. 1985304\n",
       "141. 1985311\n",
       "142. 1985342\n",
       "143. 1985365\n",
       "144. 1985419\n",
       "145. 1985445\n",
       "146. 1985468\n",
       "147. 1985486\n",
       "148. 1985521\n",
       "149. 1985572\n",
       "150. 1985585\n",
       "151. 1985591\n",
       "152. 1985721\n",
       "153. 1985744\n",
       "154. 1985751\n",
       "155. 1985759\n",
       "156. 1985767\n",
       "157. 1985825\n",
       "158. 1985848\n",
       "159. 1985857\n",
       "160. 1985872\n",
       "161. 1985878\n",
       "162. 1985883\n",
       "163. 1985906\n",
       "164. 1985911\n",
       "165. 1985971\n",
       "166. 1986087\n",
       "167. 1986093\n",
       "168. 1986164\n",
       "169. 1986194\n",
       "170. 1986214\n",
       "171. 1986256\n",
       "172. 1986268\n",
       "173. 1986331\n",
       "174. 1986354\n",
       "175. 1986377\n",
       "176. 1986395\n",
       "177. 1986407\n",
       "178. 1986410\n",
       "179. 1986417\n",
       "180. 1986424\n",
       "181. 1986443\n",
       "182. 1986450\n",
       "183. 1986462\n",
       "184. 1986465\n",
       "185. 1986484\n",
       "186. 1986486\n",
       "187. 1986495\n",
       "188. 1986497\n",
       "189. 1986500\n",
       "190. 1986519\n",
       "191. 1986521\n",
       "192. 1986530\n",
       "193. 1986532\n",
       "194. 1986535\n",
       "195. 1986554\n",
       "196. 1986556\n",
       "197. 1986583\n",
       "198. 1986603\n",
       "199. 1986624\n",
       "200. 1986652\n",
       "201. 1986733\n",
       "202. 1986784\n",
       "203. 1986909\n",
       "204. 1986957\n",
       "205. 1987071\n",
       "206. 1987106\n",
       "207. 1987187\n",
       "208. 1987226\n",
       "209. 1987253\n",
       "210. 1987269\n",
       "211. 1987319\n",
       "212. 1987330\n",
       "213. 1987338\n",
       "214. 1987363\n",
       "215. 1987365\n",
       "216. 1987388\n",
       "217. 1987395\n",
       "218. 1987403\n",
       "219. 1987407\n",
       "220. 1987413\n",
       "221. 1987418\n",
       "222. 1987434\n",
       "223. 1987449\n",
       "224. 1987458\n",
       "225. 1987468\n",
       "226. 1987492\n",
       "227. 1987511\n",
       "228. 1987527\n",
       "229. 1987565\n",
       "230. 1987604\n",
       "231. 1987616\n",
       "232. 1987627\n",
       "233. 1987648\n",
       "234. 1987656\n",
       "235. 1987659\n",
       "236. 1987665\n",
       "237. 1987669\n",
       "238. 1987680\n",
       "239. 1987684\n",
       "240. 1987688\n",
       "241. 1987697\n",
       "242. 1987705\n",
       "243. 1987719\n",
       "244. 1987725\n",
       "245. 1987732\n",
       "246. 1987778\n",
       "247. 1987797\n",
       "248. 1987808\n",
       "249. 1987853\n",
       "250. 1987858\n",
       "251. 1987861\n",
       "252. 1987896\n",
       "253. 1987910\n",
       "254. 1987930\n",
       "255. 1988010\n",
       "256. 1988039\n",
       "257. 1988059\n",
       "258. 1988066\n",
       "259. 1988078\n",
       "260. 1988129\n",
       "261. 1988133\n",
       "262. 1988141\n",
       "263. 1988171\n",
       "264. 1988201\n",
       "265. 1988216\n",
       "266. 1988292\n",
       "267. 1988307\n",
       "268. 1988321\n",
       "269. 1988325\n",
       "270. 1988332\n",
       "271. 1988401\n",
       "272. 1988423\n",
       "273. 1988546\n",
       "274. 1988580\n",
       "275. 1988612\n",
       "276. 1988630\n",
       "277. 1988634\n",
       "278. 1988636\n",
       "279. 1988655\n",
       "280. 1988662\n",
       "281. 1988680\n",
       "282. 1988708\n",
       "283. 1988718\n",
       "284. 1988745\n",
       "285. 1988748\n",
       "286. 1988776\n",
       "287. 1988785\n",
       "288. 1988847\n",
       "289. 1988874\n",
       "290. 1989119\n",
       "291. 1989169\n",
       "292. 1989183\n",
       "293. 1989201\n",
       "294. 1989209\n",
       "295. 1989218\n",
       "296. 1989223\n",
       "297. 1989241\n",
       "298. 1989249\n",
       "299. 1989258\n",
       "300. 1989263\n",
       "301. 1989275\n",
       "302. 1989298\n",
       "303. 1989308\n",
       "304. 1989332\n",
       "305. 1989394\n",
       "306. 1989442\n",
       "307. 1989451\n",
       "308. 1989482\n",
       "309. 1989497\n",
       "310. 1989500\n",
       "311. 1989503\n",
       "312. 1989510\n",
       "313. 1989527\n",
       "314. 1989534\n",
       "315. 1989550\n",
       "316. 1989605\n",
       "317. 1989607\n",
       "318. 1989617\n",
       "319. 1989622\n",
       "320. 1989628\n",
       "321. 1989642\n",
       "322. 1989658\n",
       "323. 1989674\n",
       "324. 1989690\n",
       "325. 1989754\n",
       "326. 1989761\n",
       "327. 1989767\n",
       "328. 1989793\n",
       "329. 1989924\n",
       "330. 1989957\n",
       "\n",
       "\n"
      ],
      "text/plain": [
       "  [1] 1980077 1980101 1980129 1980136 1980145 1980179 1980183 1980193 1980205\n",
       " [10] 1980239 1980247 1980287 1980291 1980303 1980320 1980326 1980355 1980373\n",
       " [19] 1980390 1980396 1980424 1980430 1980448 1980458 1980464 1980496 1980577\n",
       " [28] 1980581 1980642 1980661 1980787 1980833 1980852 1980860 1980866 1980869\n",
       " [37] 1980893 1980896 1980905 1980933 1980948 1980952 1980997 1981035 1981057\n",
       " [46] 1981111 1981113 1981123 1981186 1981200 1981213 1981219 1981246 1981253\n",
       " [55] 1981262 1981286 1981328 1981352 1981359 1981386 1981410 1981427 1981449\n",
       " [64] 1981479 1981518 1981608 1981613 1981675 1981682 1981958 1982004 1982017\n",
       " [73] 1982035 1982064 1982079 1982246 1982264 1982311 1982357 1982397 1982428\n",
       " [82] 1982488 1982495 1982498 1982500 1982541 1982564 1982583 1982587 1982648\n",
       " [91] 1982740 1982933 1983048 1983077 1983083 1983085 1983105 1983115 1983133\n",
       "[100] 1983135 1983137 1983139 1983141 1983143 1983145 1983147 1983149 1983151\n",
       "[109] 1983153 1983296 1983405 1983484 1983612 1983632 1983694 1983703 1983733\n",
       "[118] 1983747 1984150 1984336 1984422 1984473 1984518 1984556 1984603 1984623\n",
       "[127] 1984705 1984833 1984895 1984908 1984972 1985070 1985172 1985187 1985193\n",
       "[136] 1985231 1985257 1985261 1985292 1985304 1985311 1985342 1985365 1985419\n",
       "[145] 1985445 1985468 1985486 1985521 1985572 1985585 1985591 1985721 1985744\n",
       "[154] 1985751 1985759 1985767 1985825 1985848 1985857 1985872 1985878 1985883\n",
       "[163] 1985906 1985911 1985971 1986087 1986093 1986164 1986194 1986214 1986256\n",
       "[172] 1986268 1986331 1986354 1986377 1986395 1986407 1986410 1986417 1986424\n",
       "[181] 1986443 1986450 1986462 1986465 1986484 1986486 1986495 1986497 1986500\n",
       "[190] 1986519 1986521 1986530 1986532 1986535 1986554 1986556 1986583 1986603\n",
       "[199] 1986624 1986652 1986733 1986784 1986909 1986957 1987071 1987106 1987187\n",
       "[208] 1987226 1987253 1987269 1987319 1987330 1987338 1987363 1987365 1987388\n",
       "[217] 1987395 1987403 1987407 1987413 1987418 1987434 1987449 1987458 1987468\n",
       "[226] 1987492 1987511 1987527 1987565 1987604 1987616 1987627 1987648 1987656\n",
       "[235] 1987659 1987665 1987669 1987680 1987684 1987688 1987697 1987705 1987719\n",
       "[244] 1987725 1987732 1987778 1987797 1987808 1987853 1987858 1987861 1987896\n",
       "[253] 1987910 1987930 1988010 1988039 1988059 1988066 1988078 1988129 1988133\n",
       "[262] 1988141 1988171 1988201 1988216 1988292 1988307 1988321 1988325 1988332\n",
       "[271] 1988401 1988423 1988546 1988580 1988612 1988630 1988634 1988636 1988655\n",
       "[280] 1988662 1988680 1988708 1988718 1988745 1988748 1988776 1988785 1988847\n",
       "[289] 1988874 1989119 1989169 1989183 1989201 1989209 1989218 1989223 1989241\n",
       "[298] 1989249 1989258 1989263 1989275 1989298 1989308 1989332 1989394 1989442\n",
       "[307] 1989451 1989482 1989497 1989500 1989503 1989510 1989527 1989534 1989550\n",
       "[316] 1989605 1989607 1989617 1989622 1989628 1989642 1989658 1989674 1989690\n",
       "[325] 1989754 1989761 1989767 1989793 1989924 1989957"
      ]
     },
     "metadata": {},
     "output_type": "display_data"
    }
   ],
   "source": [
    "cg"
   ]
  },
  {
   "cell_type": "code",
   "execution_count": 209,
   "id": "77541f1b-557b-446a-a87b-46333694d0e7",
   "metadata": {},
   "outputs": [],
   "source": [
    "fwrite(as.data.table(cg), \"26-OUT_intermediate_cg_list_chr7.csv\")"
   ]
  },
  {
   "cell_type": "code",
   "execution_count": 205,
   "id": "b33971c6-23e6-4b89-be6f-1daaefa712bd",
   "metadata": {},
   "outputs": [
    {
     "data": {
      "text/html": [
       "<table class=\"dataframe\">\n",
       "<caption>A data.frame: 10 × 9</caption>\n",
       "<thead>\n",
       "\t<tr><th></th><th scope=col>snp</th><th scope=col>chr</th><th scope=col>pos_hg38</th><th scope=col>pos_hg19</th><th scope=col>info</th><th scope=col>A1</th><th scope=col>A2</th><th scope=col>z</th><th scope=col>p</th></tr>\n",
       "\t<tr><th></th><th scope=col>&lt;fct&gt;</th><th scope=col>&lt;fct&gt;</th><th scope=col>&lt;int&gt;</th><th scope=col>&lt;int&gt;</th><th scope=col>&lt;dbl&gt;</th><th scope=col>&lt;chr&gt;</th><th scope=col>&lt;chr&gt;</th><th scope=col>&lt;dbl&gt;</th><th scope=col>&lt;dbl&gt;</th></tr>\n",
       "</thead>\n",
       "<tbody>\n",
       "\t<tr><th scope=row>1603226</th><td>rs6461049 </td><td>chr7</td><td>1977810</td><td>2017445</td><td>0.992</td><td>C</td><td>T</td><td> -9.681645</td><td>2.250e-22</td></tr>\n",
       "\t<tr><th scope=row>1598322</th><td>rs3996330 </td><td>chr7</td><td>1979188</td><td>2018823</td><td>0.954</td><td>C</td><td>A</td><td>  5.483111</td><td>3.493e-08</td></tr>\n",
       "\t<tr><th scope=row>1612729</th><td>rs11763870</td><td>chr7</td><td>1987813</td><td>2027448</td><td>0.992</td><td>T</td><td>C</td><td>-10.125509</td><td>4.797e-24</td></tr>\n",
       "\t<tr><th scope=row>1613231</th><td>rs1403174 </td><td>chr7</td><td>1993230</td><td>2032865</td><td>0.994</td><td>A</td><td>T</td><td>  5.340691</td><td>8.391e-08</td></tr>\n",
       "\t<tr><th scope=row>1585851</th><td>rs3857706 </td><td>chr7</td><td>1994558</td><td>2034193</td><td>0.994</td><td>A</td><td>G</td><td>  5.443643</td><td>4.661e-08</td></tr>\n",
       "\t<tr><th scope=row>1603544</th><td>rs872464  </td><td>chr7</td><td>1994927</td><td>2034562</td><td>0.994</td><td>A</td><td>G</td><td>  5.420893</td><td>5.492e-08</td></tr>\n",
       "\t<tr><th scope=row>1606064</th><td>rs10950503</td><td>chr7</td><td>1999959</td><td>2039594</td><td>0.995</td><td>A</td><td>C</td><td>  5.317921</td><td>9.419e-08</td></tr>\n",
       "\t<tr><th scope=row>1584198</th><td>rs10479762</td><td>chr7</td><td>2005716</td><td>2045351</td><td>0.993</td><td>T</td><td>C</td><td> -9.852538</td><td>4.054e-23</td></tr>\n",
       "\t<tr><th scope=row>1587695</th><td>rs871925  </td><td>chr7</td><td>2008240</td><td>2047875</td><td>0.992</td><td>G</td><td>A</td><td> -9.806694</td><td>5.957e-23</td></tr>\n",
       "\t<tr><th scope=row>1595631</th><td>rs13227554</td><td>chr7</td><td>2008585</td><td>2048220</td><td>0.991</td><td>G</td><td>C</td><td> -9.806694</td><td>6.563e-23</td></tr>\n",
       "</tbody>\n",
       "</table>\n"
      ],
      "text/latex": [
       "A data.frame: 10 × 9\n",
       "\\begin{tabular}{r|lllllllll}\n",
       "  & snp & chr & pos\\_hg38 & pos\\_hg19 & info & A1 & A2 & z & p\\\\\n",
       "  & <fct> & <fct> & <int> & <int> & <dbl> & <chr> & <chr> & <dbl> & <dbl>\\\\\n",
       "\\hline\n",
       "\t1603226 & rs6461049  & chr7 & 1977810 & 2017445 & 0.992 & C & T &  -9.681645 & 2.250e-22\\\\\n",
       "\t1598322 & rs3996330  & chr7 & 1979188 & 2018823 & 0.954 & C & A &   5.483111 & 3.493e-08\\\\\n",
       "\t1612729 & rs11763870 & chr7 & 1987813 & 2027448 & 0.992 & T & C & -10.125509 & 4.797e-24\\\\\n",
       "\t1613231 & rs1403174  & chr7 & 1993230 & 2032865 & 0.994 & A & T &   5.340691 & 8.391e-08\\\\\n",
       "\t1585851 & rs3857706  & chr7 & 1994558 & 2034193 & 0.994 & A & G &   5.443643 & 4.661e-08\\\\\n",
       "\t1603544 & rs872464   & chr7 & 1994927 & 2034562 & 0.994 & A & G &   5.420893 & 5.492e-08\\\\\n",
       "\t1606064 & rs10950503 & chr7 & 1999959 & 2039594 & 0.995 & A & C &   5.317921 & 9.419e-08\\\\\n",
       "\t1584198 & rs10479762 & chr7 & 2005716 & 2045351 & 0.993 & T & C &  -9.852538 & 4.054e-23\\\\\n",
       "\t1587695 & rs871925   & chr7 & 2008240 & 2047875 & 0.992 & G & A &  -9.806694 & 5.957e-23\\\\\n",
       "\t1595631 & rs13227554 & chr7 & 2008585 & 2048220 & 0.991 & G & C &  -9.806694 & 6.563e-23\\\\\n",
       "\\end{tabular}\n"
      ],
      "text/markdown": [
       "\n",
       "A data.frame: 10 × 9\n",
       "\n",
       "| <!--/--> | snp &lt;fct&gt; | chr &lt;fct&gt; | pos_hg38 &lt;int&gt; | pos_hg19 &lt;int&gt; | info &lt;dbl&gt; | A1 &lt;chr&gt; | A2 &lt;chr&gt; | z &lt;dbl&gt; | p &lt;dbl&gt; |\n",
       "|---|---|---|---|---|---|---|---|---|---|\n",
       "| 1603226 | rs6461049  | chr7 | 1977810 | 2017445 | 0.992 | C | T |  -9.681645 | 2.250e-22 |\n",
       "| 1598322 | rs3996330  | chr7 | 1979188 | 2018823 | 0.954 | C | A |   5.483111 | 3.493e-08 |\n",
       "| 1612729 | rs11763870 | chr7 | 1987813 | 2027448 | 0.992 | T | C | -10.125509 | 4.797e-24 |\n",
       "| 1613231 | rs1403174  | chr7 | 1993230 | 2032865 | 0.994 | A | T |   5.340691 | 8.391e-08 |\n",
       "| 1585851 | rs3857706  | chr7 | 1994558 | 2034193 | 0.994 | A | G |   5.443643 | 4.661e-08 |\n",
       "| 1603544 | rs872464   | chr7 | 1994927 | 2034562 | 0.994 | A | G |   5.420893 | 5.492e-08 |\n",
       "| 1606064 | rs10950503 | chr7 | 1999959 | 2039594 | 0.995 | A | C |   5.317921 | 9.419e-08 |\n",
       "| 1584198 | rs10479762 | chr7 | 2005716 | 2045351 | 0.993 | T | C |  -9.852538 | 4.054e-23 |\n",
       "| 1587695 | rs871925   | chr7 | 2008240 | 2047875 | 0.992 | G | A |  -9.806694 | 5.957e-23 |\n",
       "| 1595631 | rs13227554 | chr7 | 2008585 | 2048220 | 0.991 | G | C |  -9.806694 | 6.563e-23 |\n",
       "\n"
      ],
      "text/plain": [
       "        snp        chr  pos_hg38 pos_hg19 info  A1 A2 z          p        \n",
       "1603226 rs6461049  chr7 1977810  2017445  0.992 C  T   -9.681645 2.250e-22\n",
       "1598322 rs3996330  chr7 1979188  2018823  0.954 C  A    5.483111 3.493e-08\n",
       "1612729 rs11763870 chr7 1987813  2027448  0.992 T  C  -10.125509 4.797e-24\n",
       "1613231 rs1403174  chr7 1993230  2032865  0.994 A  T    5.340691 8.391e-08\n",
       "1585851 rs3857706  chr7 1994558  2034193  0.994 A  G    5.443643 4.661e-08\n",
       "1603544 rs872464   chr7 1994927  2034562  0.994 A  G    5.420893 5.492e-08\n",
       "1606064 rs10950503 chr7 1999959  2039594  0.995 A  C    5.317921 9.419e-08\n",
       "1584198 rs10479762 chr7 2005716  2045351  0.993 T  C   -9.852538 4.054e-23\n",
       "1587695 rs871925   chr7 2008240  2047875  0.992 G  A   -9.806694 5.957e-23\n",
       "1595631 rs13227554 chr7 2008585  2048220  0.991 G  C   -9.806694 6.563e-23"
      ]
     },
     "metadata": {},
     "output_type": "display_data"
    }
   ],
   "source": [
    "snp.gwas2[which(snp.gwas2$A1 != pvar$REF), ]"
   ]
  },
  {
   "cell_type": "code",
   "execution_count": null,
   "id": "303329b3-46a2-4cf5-8d52-910a3c8ffbec",
   "metadata": {},
   "outputs": [],
   "source": []
  },
  {
   "cell_type": "markdown",
   "id": "796ee601-b1e3-408f-8f5f-bd55e7963973",
   "metadata": {},
   "source": [
    "As another sanity check, let's now rerun with our new, but subsetted to kinda match, snp.1kg.eur2 files."
   ]
  },
  {
   "cell_type": "code",
   "execution_count": 94,
   "id": "d49cca78-0793-4208-b18c-51324adcf6e8",
   "metadata": {},
   "outputs": [],
   "source": [
    "# snp.1kg.eur2 <- snp.1kg.eur3\n",
    "# map.1kg.eur2 <- map.1kg.eur3"
   ]
  },
  {
   "cell_type": "markdown",
   "id": "705451fc-b1eb-4802-aef2-0d0f294a8d0d",
   "metadata": {},
   "source": [
    "Also remember to look at Manhattan plots and compare them"
   ]
  },
  {
   "cell_type": "code",
   "execution_count": null,
   "id": "b5856bef-381c-457b-8c6e-c4b9024121b3",
   "metadata": {},
   "outputs": [],
   "source": []
  },
  {
   "cell_type": "markdown",
   "id": "882a7c0a-0ec2-4aa2-be3c-a2f152126bd8",
   "metadata": {},
   "source": [
    "### Set window size and any other parameters"
   ]
  },
  {
   "cell_type": "code",
   "execution_count": 95,
   "id": "461263e5-8c47-40ae-b3e4-03dbea4820e8",
   "metadata": {},
   "outputs": [],
   "source": [
    "wind <- 10000"
   ]
  },
  {
   "cell_type": "markdown",
   "id": "0849e5e3-af47-480f-82ca-97b07d1dd943",
   "metadata": {},
   "source": [
    "Is 1se vs min for lambda the problem?"
   ]
  },
  {
   "cell_type": "markdown",
   "id": "b0244eba-060a-4ac3-966c-cb68deb41cb0",
   "metadata": {},
   "source": [
    "#### Final formatting steps to prepare for MWAS - sort samples"
   ]
  },
  {
   "cell_type": "code",
   "execution_count": 96,
   "id": "f41f9c4d-1489-45a4-ad25-d446a05980bf",
   "metadata": {},
   "outputs": [],
   "source": [
    "p.residual <- p.residual[, order(colnames(p.residual))]"
   ]
  },
  {
   "cell_type": "code",
   "execution_count": 97,
   "id": "65857cda-1517-4854-a1e1-5af6459cbdca",
   "metadata": {},
   "outputs": [],
   "source": [
    "snp3 <- snp3[, colnames(snp3) %in% colnames(p.residual)]"
   ]
  },
  {
   "cell_type": "code",
   "execution_count": 98,
   "id": "7ab51668-a9da-4913-a8ee-41aa0d49550e",
   "metadata": {},
   "outputs": [],
   "source": [
    "snp3 <- snp3[, order(colnames(snp3))]"
   ]
  },
  {
   "cell_type": "markdown",
   "id": "768cf092-82d8-46e6-b322-efd6e09bbb73",
   "metadata": {},
   "source": [
    "## MWAS"
   ]
  },
  {
   "cell_type": "markdown",
   "id": "c3720675-e92d-46ee-b5a6-66d71d367dc4",
   "metadata": {},
   "source": [
    "### With `lambda.1se`"
   ]
  },
  {
   "cell_type": "markdown",
   "id": "cfc14c0f-1e12-4108-97fc-ab66a6467640",
   "metadata": {},
   "source": [
    "#### Stage 1"
   ]
  },
  {
   "cell_type": "markdown",
   "id": "7cde5d54-d8c6-4f26-b992-cd06803bafc3",
   "metadata": {},
   "source": [
    "Quick debug: A version to see why we end up with empty `models.aa` and `models.ea`"
   ]
  },
  {
   "cell_type": "code",
   "execution_count": null,
   "id": "5d91fd24-41c3-4bed-a2d8-9baebad17d83",
   "metadata": {},
   "outputs": [],
   "source": []
  },
  {
   "cell_type": "code",
   "execution_count": 99,
   "id": "f1394b5f-aa91-46d0-8dce-2893edd40e2c",
   "metadata": {},
   "outputs": [
    {
     "data": {
      "text/html": [
       "<table class=\"dataframe\">\n",
       "<caption>A data.frame: 6 × 10</caption>\n",
       "<thead>\n",
       "\t<tr><th></th><th scope=col>SNP</th><th scope=col>RS</th><th scope=col>CHR</th><th scope=col>POS</th><th scope=col>VCF_COUNTED</th><th scope=col>VCF_ALT</th><th scope=col>AF</th><th scope=col>HDS</th><th scope=col>COUNTED</th><th scope=col>ALT</th></tr>\n",
       "\t<tr><th></th><th scope=col>&lt;chr&gt;</th><th scope=col>&lt;chr&gt;</th><th scope=col>&lt;chr&gt;</th><th scope=col>&lt;int&gt;</th><th scope=col>&lt;chr&gt;</th><th scope=col>&lt;chr&gt;</th><th scope=col>&lt;dbl&gt;</th><th scope=col>&lt;dbl&gt;</th><th scope=col>&lt;chr&gt;</th><th scope=col>&lt;chr&gt;</th></tr>\n",
       "</thead>\n",
       "<tbody>\n",
       "\t<tr><th scope=row>chr7:1963098:T:C</th><td>chr7:1963098:T:C</td><td>rs11773627</td><td>chr7</td><td>1963098</td><td>T</td><td>C</td><td>0.17371</td><td>0.97471</td><td>T</td><td>C</td></tr>\n",
       "\t<tr><th scope=row>chr7:1963408:C:T</th><td>chr7:1963408:C:T</td><td>rs6972374 </td><td>chr7</td><td>1963408</td><td>C</td><td>T</td><td>0.37882</td><td>0.99781</td><td>C</td><td>T</td></tr>\n",
       "\t<tr><th scope=row>chr7:1964786:C:T</th><td>chr7:1964786:C:T</td><td>rs12666575</td><td>chr7</td><td>1964786</td><td>C</td><td>T</td><td>0.27908</td><td>1.05016</td><td>C</td><td>T</td></tr>\n",
       "\t<tr><th scope=row>chr7:1966112:T:C</th><td>chr7:1966112:T:C</td><td>rs11766575</td><td>chr7</td><td>1966112</td><td>T</td><td>C</td><td>0.27687</td><td>1.05159</td><td>T</td><td>C</td></tr>\n",
       "\t<tr><th scope=row>chr7:1973362:G:A</th><td>chr7:1973362:G:A</td><td>rs4721264 </td><td>chr7</td><td>1973362</td><td>G</td><td>A</td><td>0.30366</td><td>1.03061</td><td>G</td><td>A</td></tr>\n",
       "\t<tr><th scope=row>chr7:1975412:T:G</th><td>chr7:1975412:T:G</td><td>rs62442944</td><td>chr7</td><td>1975412</td><td>T</td><td>G</td><td>0.16749</td><td>0.96670</td><td>T</td><td>G</td></tr>\n",
       "</tbody>\n",
       "</table>\n"
      ],
      "text/latex": [
       "A data.frame: 6 × 10\n",
       "\\begin{tabular}{r|llllllllll}\n",
       "  & SNP & RS & CHR & POS & VCF\\_COUNTED & VCF\\_ALT & AF & HDS & COUNTED & ALT\\\\\n",
       "  & <chr> & <chr> & <chr> & <int> & <chr> & <chr> & <dbl> & <dbl> & <chr> & <chr>\\\\\n",
       "\\hline\n",
       "\tchr7:1963098:T:C & chr7:1963098:T:C & rs11773627 & chr7 & 1963098 & T & C & 0.17371 & 0.97471 & T & C\\\\\n",
       "\tchr7:1963408:C:T & chr7:1963408:C:T & rs6972374  & chr7 & 1963408 & C & T & 0.37882 & 0.99781 & C & T\\\\\n",
       "\tchr7:1964786:C:T & chr7:1964786:C:T & rs12666575 & chr7 & 1964786 & C & T & 0.27908 & 1.05016 & C & T\\\\\n",
       "\tchr7:1966112:T:C & chr7:1966112:T:C & rs11766575 & chr7 & 1966112 & T & C & 0.27687 & 1.05159 & T & C\\\\\n",
       "\tchr7:1973362:G:A & chr7:1973362:G:A & rs4721264  & chr7 & 1973362 & G & A & 0.30366 & 1.03061 & G & A\\\\\n",
       "\tchr7:1975412:T:G & chr7:1975412:T:G & rs62442944 & chr7 & 1975412 & T & G & 0.16749 & 0.96670 & T & G\\\\\n",
       "\\end{tabular}\n"
      ],
      "text/markdown": [
       "\n",
       "A data.frame: 6 × 10\n",
       "\n",
       "| <!--/--> | SNP &lt;chr&gt; | RS &lt;chr&gt; | CHR &lt;chr&gt; | POS &lt;int&gt; | VCF_COUNTED &lt;chr&gt; | VCF_ALT &lt;chr&gt; | AF &lt;dbl&gt; | HDS &lt;dbl&gt; | COUNTED &lt;chr&gt; | ALT &lt;chr&gt; |\n",
       "|---|---|---|---|---|---|---|---|---|---|---|\n",
       "| chr7:1963098:T:C | chr7:1963098:T:C | rs11773627 | chr7 | 1963098 | T | C | 0.17371 | 0.97471 | T | C |\n",
       "| chr7:1963408:C:T | chr7:1963408:C:T | rs6972374  | chr7 | 1963408 | C | T | 0.37882 | 0.99781 | C | T |\n",
       "| chr7:1964786:C:T | chr7:1964786:C:T | rs12666575 | chr7 | 1964786 | C | T | 0.27908 | 1.05016 | C | T |\n",
       "| chr7:1966112:T:C | chr7:1966112:T:C | rs11766575 | chr7 | 1966112 | T | C | 0.27687 | 1.05159 | T | C |\n",
       "| chr7:1973362:G:A | chr7:1973362:G:A | rs4721264  | chr7 | 1973362 | G | A | 0.30366 | 1.03061 | G | A |\n",
       "| chr7:1975412:T:G | chr7:1975412:T:G | rs62442944 | chr7 | 1975412 | T | G | 0.16749 | 0.96670 | T | G |\n",
       "\n"
      ],
      "text/plain": [
       "                 SNP              RS         CHR  POS     VCF_COUNTED VCF_ALT\n",
       "chr7:1963098:T:C chr7:1963098:T:C rs11773627 chr7 1963098 T           C      \n",
       "chr7:1963408:C:T chr7:1963408:C:T rs6972374  chr7 1963408 C           T      \n",
       "chr7:1964786:C:T chr7:1964786:C:T rs12666575 chr7 1964786 C           T      \n",
       "chr7:1966112:T:C chr7:1966112:T:C rs11766575 chr7 1966112 T           C      \n",
       "chr7:1973362:G:A chr7:1973362:G:A rs4721264  chr7 1973362 G           A      \n",
       "chr7:1975412:T:G chr7:1975412:T:G rs62442944 chr7 1975412 T           G      \n",
       "                 AF      HDS     COUNTED ALT\n",
       "chr7:1963098:T:C 0.17371 0.97471 T       C  \n",
       "chr7:1963408:C:T 0.37882 0.99781 C       T  \n",
       "chr7:1964786:C:T 0.27908 1.05016 C       T  \n",
       "chr7:1966112:T:C 0.27687 1.05159 T       C  \n",
       "chr7:1973362:G:A 0.30366 1.03061 G       A  \n",
       "chr7:1975412:T:G 0.16749 0.96670 T       G  "
      ]
     },
     "metadata": {},
     "output_type": "display_data"
    }
   ],
   "source": [
    "head(map3)"
   ]
  },
  {
   "cell_type": "code",
   "execution_count": 100,
   "id": "9e6f43e4-4b69-4c73-9155-0b22a9eb5c69",
   "metadata": {},
   "outputs": [
    {
     "data": {
      "text/html": [
       "<style>\n",
       ".list-inline {list-style: none; margin:0; padding: 0}\n",
       ".list-inline>li {display: inline-block}\n",
       ".list-inline>li:not(:last-child)::after {content: \"\\00b7\"; padding: 0 .5ex}\n",
       "</style>\n",
       "<ol class=list-inline><li>1980077</li><li>1980101</li><li>1980129</li><li>1980136</li><li>1980145</li><li>1980179</li></ol>\n"
      ],
      "text/latex": [
       "\\begin{enumerate*}\n",
       "\\item 1980077\n",
       "\\item 1980101\n",
       "\\item 1980129\n",
       "\\item 1980136\n",
       "\\item 1980145\n",
       "\\item 1980179\n",
       "\\end{enumerate*}\n"
      ],
      "text/markdown": [
       "1. 1980077\n",
       "2. 1980101\n",
       "3. 1980129\n",
       "4. 1980136\n",
       "5. 1980145\n",
       "6. 1980179\n",
       "\n",
       "\n"
      ],
      "text/plain": [
       "[1] 1980077 1980101 1980129 1980136 1980145 1980179"
      ]
     },
     "metadata": {},
     "output_type": "display_data"
    }
   ],
   "source": [
    "head(cg)"
   ]
  },
  {
   "cell_type": "code",
   "execution_count": 101,
   "id": "77341afb-cba2-45dc-9101-9663192c7290",
   "metadata": {},
   "outputs": [
    {
     "data": {
      "text/html": [
       "10000"
      ],
      "text/latex": [
       "10000"
      ],
      "text/markdown": [
       "10000"
      ],
      "text/plain": [
       "[1] 10000"
      ]
     },
     "metadata": {},
     "output_type": "display_data"
    }
   ],
   "source": [
    "head(wind)"
   ]
  },
  {
   "cell_type": "code",
   "execution_count": null,
   "id": "9b2f9469-7609-4675-b94e-4d449db46529",
   "metadata": {},
   "outputs": [],
   "source": []
  },
  {
   "cell_type": "code",
   "execution_count": 102,
   "id": "305409c3-5abb-49c2-9914-6fd958064abf",
   "metadata": {},
   "outputs": [
    {
     "name": "stdout",
     "output_type": "stream",
     "text": [
      "[1] 1\n",
      "[1] 2\n",
      "[1] 3\n",
      "[1] 4\n",
      "[1] 5\n",
      "[1] 6\n",
      "[1] 7\n",
      "[1] 8\n",
      "[1] 9\n",
      "[1] 10\n",
      "[1] 11\n",
      "[1] 12\n",
      "[1] 13\n",
      "[1] 14\n",
      "[1] 15\n",
      "[1] 16\n",
      "[1] 17\n",
      "[1] 18\n",
      "[1] 19\n",
      "[1] 20\n",
      "[1] 21\n",
      "[1] 22\n",
      "[1] 23\n",
      "[1] 24\n",
      "[1] 25\n",
      "[1] 26\n",
      "[1] 27\n",
      "[1] 28\n",
      "[1] 29\n",
      "[1] 30\n",
      "[1] 31\n",
      "[1] 32\n",
      "[1] 33\n",
      "[1] 34\n",
      "[1] 35\n",
      "[1] 36\n",
      "[1] 37\n",
      "[1] 38\n",
      "[1] 39\n",
      "[1] 40\n",
      "[1] 41\n",
      "[1] 42\n",
      "[1] 43\n",
      "[1] 44\n",
      "[1] 45\n",
      "[1] 46\n",
      "[1] 47\n",
      "[1] 48\n",
      "[1] 49\n",
      "[1] 50\n",
      "[1] 51\n",
      "[1] 52\n",
      "[1] 53\n",
      "[1] 54\n",
      "[1] 55\n",
      "[1] 56\n",
      "[1] 57\n",
      "[1] 58\n",
      "[1] 59\n",
      "[1] 60\n",
      "[1] 61\n",
      "[1] 62\n",
      "[1] 63\n",
      "[1] 64\n",
      "[1] 65\n",
      "[1] 66\n",
      "[1] 67\n",
      "[1] 68\n",
      "[1] 69\n",
      "[1] 70\n",
      "[1] 71\n",
      "[1] 72\n",
      "[1] 73\n",
      "[1] 74\n",
      "[1] 75\n",
      "[1] 76\n",
      "[1] 77\n",
      "[1] 78\n",
      "[1] 79\n",
      "[1] 80\n",
      "[1] 81\n",
      "[1] 82\n",
      "[1] 83\n",
      "[1] 84\n",
      "[1] 85\n",
      "[1] 86\n",
      "[1] 87\n",
      "[1] 88\n",
      "[1] 89\n",
      "[1] 90\n",
      "[1] 91\n",
      "[1] 92\n",
      "[1] 93\n",
      "[1] 94\n",
      "[1] 95\n",
      "[1] 96\n",
      "[1] 97\n",
      "[1] 98\n",
      "[1] 99\n",
      "[1] 100\n",
      "[1] 101\n",
      "[1] 102\n",
      "[1] 103\n",
      "[1] 104\n",
      "[1] 105\n",
      "[1] 106\n",
      "[1] 107\n",
      "[1] 108\n",
      "[1] 109\n",
      "[1] 110\n",
      "[1] 111\n",
      "[1] 112\n",
      "[1] 113\n",
      "[1] 114\n",
      "[1] 115\n",
      "[1] 116\n",
      "[1] 117\n",
      "[1] 118\n",
      "[1] 119\n",
      "[1] 120\n",
      "[1] 121\n",
      "[1] 122\n",
      "[1] 123\n",
      "[1] 124\n",
      "[1] 125\n",
      "[1] 126\n",
      "[1] 127\n",
      "[1] 128\n",
      "[1] 129\n",
      "[1] 130\n",
      "[1] 131\n",
      "[1] 132\n",
      "[1] 133\n",
      "[1] 134\n",
      "[1] 135\n",
      "[1] 136\n",
      "[1] 137\n",
      "[1] 138\n",
      "[1] 139\n",
      "[1] 140\n",
      "[1] 141\n",
      "[1] 142\n",
      "[1] 143\n",
      "[1] 144\n",
      "[1] 145\n",
      "[1] 146\n",
      "[1] 147\n",
      "[1] 148\n",
      "[1] 149\n",
      "[1] 150\n",
      "[1] 151\n",
      "[1] 152\n",
      "[1] 153\n",
      "[1] 154\n",
      "[1] 155\n",
      "[1] 156\n",
      "[1] 157\n",
      "[1] 158\n",
      "[1] 159\n",
      "[1] 160\n",
      "[1] 161\n",
      "[1] 162\n",
      "[1] 163\n",
      "[1] 164\n",
      "[1] 165\n",
      "[1] 166\n",
      "[1] 167\n",
      "[1] 168\n",
      "[1] 169\n",
      "[1] 170\n",
      "[1] 171\n",
      "[1] 172\n",
      "[1] 173\n",
      "[1] 174\n",
      "[1] 175\n",
      "[1] 176\n",
      "[1] 177\n",
      "[1] 178\n",
      "[1] 179\n",
      "[1] 180\n",
      "[1] 181\n",
      "[1] 182\n",
      "[1] 183\n",
      "[1] 184\n",
      "[1] 185\n",
      "[1] 186\n",
      "[1] 187\n",
      "[1] 188\n",
      "[1] 189\n",
      "[1] 190\n",
      "[1] 191\n",
      "[1] 192\n",
      "[1] 193\n",
      "[1] 194\n",
      "[1] 195\n",
      "[1] 196\n",
      "[1] 197\n",
      "[1] 198\n",
      "[1] 199\n",
      "[1] 200\n",
      "[1] 201\n",
      "[1] 202\n",
      "[1] 203\n",
      "[1] 204\n",
      "[1] 205\n",
      "[1] 206\n",
      "[1] 207\n",
      "[1] 208\n",
      "[1] 209\n",
      "[1] 210\n",
      "[1] 211\n",
      "[1] 212\n",
      "[1] 213\n",
      "[1] 214\n",
      "[1] 215\n",
      "[1] 216\n",
      "[1] 217\n",
      "[1] 218\n",
      "[1] 219\n",
      "[1] 220\n",
      "[1] 221\n",
      "[1] 222\n",
      "[1] 223\n",
      "[1] 224\n",
      "[1] 225\n",
      "[1] 226\n",
      "[1] 227\n",
      "[1] 228\n",
      "[1] 229\n",
      "[1] 230\n",
      "[1] 231\n",
      "[1] 232\n",
      "[1] 233\n",
      "[1] 234\n",
      "[1] 235\n",
      "[1] 236\n",
      "[1] 237\n",
      "[1] 238\n",
      "[1] 239\n",
      "[1] 240\n",
      "[1] 241\n",
      "[1] 242\n",
      "[1] 243\n",
      "[1] 244\n",
      "[1] 245\n",
      "[1] 246\n",
      "[1] 247\n",
      "[1] 248\n",
      "[1] 249\n",
      "[1] 250\n",
      "[1] 251\n",
      "[1] 252\n",
      "[1] 253\n",
      "[1] 254\n",
      "[1] 255\n",
      "[1] 256\n",
      "[1] 257\n",
      "[1] 258\n",
      "[1] 259\n",
      "[1] 260\n",
      "[1] 261\n",
      "[1] 262\n",
      "[1] 263\n",
      "[1] 264\n",
      "[1] 265\n",
      "[1] 266\n",
      "[1] 267\n",
      "[1] 268\n",
      "[1] 269\n",
      "[1] 270\n",
      "[1] 271\n",
      "[1] 272\n",
      "[1] 273\n",
      "[1] 274\n",
      "[1] 275\n",
      "[1] 276\n",
      "[1] 277\n",
      "[1] 278\n",
      "[1] 279\n",
      "[1] 280\n",
      "[1] 281\n",
      "[1] 282\n",
      "[1] 283\n",
      "[1] 284\n",
      "[1] 285\n",
      "[1] 286\n",
      "[1] 287\n",
      "[1] 288\n",
      "[1] 289\n",
      "[1] 290\n",
      "[1] 291\n",
      "[1] 292\n",
      "[1] 293\n",
      "[1] 294\n",
      "[1] 295\n",
      "[1] 296\n",
      "[1] 297\n",
      "[1] 298\n",
      "[1] 299\n",
      "[1] 300\n",
      "[1] 301\n",
      "[1] 302\n",
      "[1] 303\n",
      "[1] 304\n",
      "[1] 305\n",
      "[1] 306\n",
      "[1] 307\n",
      "[1] 308\n",
      "[1] 309\n",
      "[1] 310\n",
      "[1] 311\n",
      "[1] 312\n",
      "[1] 313\n",
      "[1] 314\n",
      "[1] 315\n",
      "[1] 316\n",
      "[1] 317\n",
      "[1] 318\n",
      "[1] 319\n",
      "[1] 320\n",
      "[1] 321\n",
      "[1] 322\n",
      "[1] 323\n",
      "[1] 324\n",
      "[1] 325\n",
      "[1] 326\n",
      "[1] 327\n",
      "[1] 328\n",
      "[1] 329\n",
      "[1] 330\n"
     ]
    }
   ],
   "source": [
    "set.seed(42)\n",
    "for(k in 1:length(wind)){\n",
    "    models.ea <- c()\n",
    "    models.all <- c()\n",
    "    for(i in 1:length(cg)){\n",
    "    print(i)\n",
    "    #for(i in 1){\n",
    "            #cat(i,\"\\n\")\n",
    "            #print(paste0(\"This cg is: \", cg[i]))\n",
    "            range1 <- ifelse(cg[i] - wind[k] > 0,cg[i] - wind[k],0)\n",
    "            range2 <- cg[i] + wind[k]\n",
    "            idx <- map3$POS > range1 & map3$POS < range2\n",
    "            # go to next cg if no snps within window\n",
    "            if(sum(idx) <= 1){\n",
    "                    next\n",
    "            }\n",
    "            geno <- snp3[idx,] # changed snp2 to snp3\n",
    "            rownames(geno) <- map3$POS[idx]\n",
    "            trainX <- t(geno)\n",
    "            trainY <- p.residual[i,]\n",
    "            fit <- elastic.net(trainX,trainY, \"1se\")\n",
    "            fit <- tryCatch(\n",
    "                    elastic.net(trainX,trainY, \"1se\"),\n",
    "                    error = function(e) {return (\"err\")})\n",
    "            if(!is.data.frame(fit)){\n",
    "                if(fit == \"err\"){\n",
    "                    next\n",
    "                }\n",
    "            }\n",
    "            if(nrow(fit) == 0) next\n",
    "\n",
    "            fit$cg <- cg[i]\n",
    "            models.all <- rbind(models.all,fit)\n",
    "            # EA only\n",
    "            trainX <- trainX[idx.ea,]\n",
    "            if(sum(apply(trainX,2,var)!=0) <= 1){\n",
    "                    next\n",
    "            }\n",
    "            trainY <- trainY[idx.ea]\n",
    "            fit <- tryCatch(\n",
    "                    elastic.net(trainX,trainY, \"1se\"),\n",
    "                    error = function(e) {return (\"err\")})\n",
    "            if(!is.data.frame(fit)){\n",
    "                if(fit == \"err\"){\n",
    "                    next\n",
    "                }\n",
    "            }\n",
    "            if(nrow(fit) == 0) next\n",
    "            fit$cg <- cg[i]\n",
    "            models.ea <- rbind(models.ea,fit)\n",
    "    }\n",
    "}"
   ]
  },
  {
   "cell_type": "code",
   "execution_count": 103,
   "id": "3d109e75-bf26-43f5-8a0d-d6bb2f9cbe6b",
   "metadata": {},
   "outputs": [],
   "source": [
    "models.ea <- models.ea[models.ea[,1] != \"(Intercept)\",]\n",
    "models.all <- models.all[models.all[,1] != \"(Intercept)\",]"
   ]
  },
  {
   "cell_type": "markdown",
   "id": "9f851085-6f8e-4b8e-91fb-5696125a32be",
   "metadata": {},
   "source": [
    "#### Stage 2"
   ]
  },
  {
   "cell_type": "code",
   "execution_count": 104,
   "id": "ad0d6d07-06f6-403d-8496-5dd34d8ba4b1",
   "metadata": {},
   "outputs": [],
   "source": [
    "if(!dir.exists(outd)) dir.create(outd)"
   ]
  },
  {
   "cell_type": "code",
   "execution_count": 106,
   "id": "b533f535-fdc0-40a4-a2b4-7309c93b5030",
   "metadata": {},
   "outputs": [
    {
     "data": {
      "text/html": [
       "269"
      ],
      "text/latex": [
       "269"
      ],
      "text/markdown": [
       "269"
      ],
      "text/plain": [
       "[1] 269"
      ]
     },
     "metadata": {},
     "output_type": "display_data"
    }
   ],
   "source": [
    "length(cg2)"
   ]
  },
  {
   "cell_type": "code",
   "execution_count": 105,
   "id": "96693eaa-eb61-415a-b5d8-6034f0a4d150",
   "metadata": {},
   "outputs": [
    {
     "name": "stdout",
     "output_type": "stream",
     "text": [
      "Error accessing genotype data at iteration: 15 \n",
      "Error message: subscript out of bounds \n"
     ]
    },
    {
     "ename": "ERROR",
     "evalue": "Error in value[[3L]](cond): Stopping execution due to error.\n",
     "output_type": "error",
     "traceback": [
      "Error in value[[3L]](cond): Stopping execution due to error.\nTraceback:\n",
      "1. tryCatch({\n .     geno <- snp.1kg.eur2[match_indices, , drop = FALSE]\n . }, error = function(e) {\n .     cat(\"Error accessing genotype data at iteration:\", i, \"\\n\")\n .     cat(\"Error message:\", e$message, \"\\n\")\n .     stop(\"Stopping execution due to error.\")\n . })",
      "2. tryCatchList(expr, classes, parentenv, handlers)",
      "3. tryCatchOne(expr, names, parentenv, handlers[[1L]])",
      "4. value[[3L]](cond)",
      "5. stop(\"Stopping execution due to error.\")"
     ]
    }
   ],
   "source": [
    "set.seed(42)\n",
    "# mwas by models of all samples\n",
    "cg2 <- unique(models.all$cg)\n",
    "mwas.all <- matrix(0,nrow=length(cg2),ncol=2)\n",
    "\n",
    "for(i in 1:length(cg2)){\n",
    "    pos <- models.all[models.all$cg == cg2[i],1]\n",
    "    gwas <- snp.gwas2$z[is.element(snp.gwas2$pos_hg38, pos)]\n",
    "    weight <- models.all[models.all$cg == cg2[i],2]\n",
    "    #geno <- snp.1kg.eur2[match(pos,map.1kg.eur2$POS),]\n",
    "\n",
    "    match_indices <- match(pos, map.1kg.eur2$POS)\n",
    "\n",
    "    tryCatch({\n",
    "        geno <- snp.1kg.eur2[match_indices, , drop = FALSE]\n",
    "    }, error = function(e) {\n",
    "        cat(\"Error accessing genotype data at iteration:\", i, \"\\n\")\n",
    "        cat(\"Error message:\", e$message, \"\\n\")\n",
    "        stop(\"Stopping execution due to error.\")\n",
    "    })\n",
    "\n",
    "    tryCatch({\n",
    "        mwas.all[i,] <- MWAS(gwas, weight, t(geno))\n",
    "    }, error = function(e) {\n",
    "        cat(\"Error at iteration:\", i, \"\\n\")\n",
    "        cat(\"cg2[i]:\", cg2[i], \"\\n\")\n",
    "        cat(\"gwas:\\n\")\n",
    "        print(gwas)\n",
    "        cat(\"weight:\\n\")\n",
    "        print(weight)\n",
    "        stop(e)\n",
    "    })\n",
    "}\n",
    "\n",
    "rownames(mwas.all) <- cg2\n",
    "colnames(mwas.all) <- c(\"z\",\"p\")"
   ]
  },
  {
   "cell_type": "code",
   "execution_count": null,
   "id": "a473f0ba-f50b-45ad-81b4-7428db19f4b9",
   "metadata": {},
   "outputs": [],
   "source": [
    "gwas"
   ]
  },
  {
   "cell_type": "code",
   "execution_count": null,
   "id": "6efcb1d4-8d6e-4043-9f2f-671b3f739d95",
   "metadata": {},
   "outputs": [],
   "source": [
    "weight"
   ]
  },
  {
   "cell_type": "code",
   "execution_count": null,
   "id": "fff88e9a-ba5e-4ef7-bd31-f8474f93c2a1",
   "metadata": {},
   "outputs": [],
   "source": []
  },
  {
   "cell_type": "code",
   "execution_count": null,
   "id": "65066b5d-bbae-4afa-b648-d635971cd251",
   "metadata": {},
   "outputs": [],
   "source": []
  },
  {
   "cell_type": "code",
   "execution_count": null,
   "id": "a4314a84-5d2e-4c56-83d4-692912ee5f79",
   "metadata": {},
   "outputs": [],
   "source": [
    "i"
   ]
  },
  {
   "cell_type": "code",
   "execution_count": null,
   "id": "170e9bd7-6652-423a-b58b-3dd771d4cc0d",
   "metadata": {},
   "outputs": [],
   "source": [
    "pos"
   ]
  },
  {
   "cell_type": "code",
   "execution_count": null,
   "id": "b493791d-c9a3-42bb-af38-5fc978f5aa8e",
   "metadata": {},
   "outputs": [],
   "source": [
    "gwas"
   ]
  },
  {
   "cell_type": "code",
   "execution_count": null,
   "id": "ede13b23-ec79-4861-a0f4-4f2bd2bb07f0",
   "metadata": {},
   "outputs": [],
   "source": [
    "length(pos)"
   ]
  },
  {
   "cell_type": "code",
   "execution_count": null,
   "id": "5cd8089c-2616-4eda-8b67-d102a50cfd79",
   "metadata": {},
   "outputs": [],
   "source": [
    "length(gwas)"
   ]
  },
  {
   "cell_type": "code",
   "execution_count": null,
   "id": "8e13c25a-1b93-4186-b614-ea68f07dba7d",
   "metadata": {},
   "outputs": [],
   "source": [
    "models.all[models.all$cg == cg2[i], ]"
   ]
  },
  {
   "cell_type": "code",
   "execution_count": null,
   "id": "0f3ea4dd-de72-40df-91d6-4deee103e85c",
   "metadata": {},
   "outputs": [],
   "source": [
    "snp.gwas2[is.element(snp.gwas2$pos_hg38, pos), ]"
   ]
  },
  {
   "cell_type": "code",
   "execution_count": null,
   "id": "6c26320f-8327-4798-a4a8-688da8a232cd",
   "metadata": {},
   "outputs": [],
   "source": []
  },
  {
   "cell_type": "code",
   "execution_count": null,
   "id": "a3409bbc-aad9-4e4e-a96e-8a2708013cea",
   "metadata": {},
   "outputs": [],
   "source": []
  },
  {
   "cell_type": "code",
   "execution_count": null,
   "id": "0c31ad3e-4c74-4b93-bed1-c628df41a756",
   "metadata": {},
   "outputs": [],
   "source": [
    "# Why do we get non-conformable arguments for iteration 57?"
   ]
  },
  {
   "cell_type": "code",
   "execution_count": null,
   "id": "af58f5cb-4dac-40e0-976c-8fef56a53ad9",
   "metadata": {},
   "outputs": [],
   "source": []
  },
  {
   "cell_type": "code",
   "execution_count": null,
   "id": "c4a157bc-a24d-4bf8-bb5c-e5359747c5df",
   "metadata": {},
   "outputs": [],
   "source": []
  },
  {
   "cell_type": "code",
   "execution_count": null,
   "id": "900dd643-8906-41aa-9658-7fbfd394ee3d",
   "metadata": {},
   "outputs": [],
   "source": []
  },
  {
   "cell_type": "code",
   "execution_count": null,
   "id": "dccc0ad7-c8ec-47b9-8fd1-204576e6482e",
   "metadata": {},
   "outputs": [],
   "source": [
    "weight"
   ]
  },
  {
   "cell_type": "code",
   "execution_count": null,
   "id": "55bb7b60-c52c-4462-9a53-8d103db474a7",
   "metadata": {},
   "outputs": [],
   "source": [
    "length(weight)"
   ]
  },
  {
   "cell_type": "code",
   "execution_count": null,
   "id": "6804d2d5-c798-48ba-bdef-e073d0e61788",
   "metadata": {},
   "outputs": [],
   "source": [
    "gwas"
   ]
  },
  {
   "cell_type": "code",
   "execution_count": null,
   "id": "f1f81f5a-dd46-4180-86fc-2dcd9ae390c5",
   "metadata": {},
   "outputs": [],
   "source": [
    "length(gwas)"
   ]
  },
  {
   "cell_type": "code",
   "execution_count": null,
   "id": "b78985e2-cb5d-4c1d-adf4-d22a1f5dae0b",
   "metadata": {},
   "outputs": [],
   "source": [
    "head(gwas)"
   ]
  },
  {
   "cell_type": "code",
   "execution_count": null,
   "id": "a7639e85-621f-44e4-bae1-93f2f9e800f2",
   "metadata": {},
   "outputs": [],
   "source": [
    "head(map3)"
   ]
  },
  {
   "cell_type": "code",
   "execution_count": null,
   "id": "387129e1-c89e-40b2-9f02-0ee18c3272fd",
   "metadata": {},
   "outputs": [],
   "source": [
    "head(geno)"
   ]
  },
  {
   "cell_type": "code",
   "execution_count": null,
   "id": "c5fbba20-e398-4e3d-8c18-c99857820da5",
   "metadata": {},
   "outputs": [],
   "source": [
    "# mwas by models of EA samples\n",
    "cg2 <- unique(models.ea$cg)\n",
    "mwas.ea <- matrix(0,nrow=length(cg2),ncol=2)\n",
    "for(i in 1:length(cg2)){\n",
    "        pos <- models.ea[models.ea$cg == cg2[i],1]\n",
    "        gwas <- snp.gwas2$z[is.element(snp.gwas2$pos_hg38, pos)]\n",
    "        weight <- models.ea[models.ea$cg == cg2[i],2]\n",
    "        #geno <- snp.1kg.eur2[match(pos,map.1kg.eur2$POS),]\n",
    "\n",
    "        match_indices <- match(pos, map.1kg.eur2$POS)\n",
    "\n",
    "        tryCatch({\n",
    "            geno <- snp.1kg.eur2[match_indices, , drop = FALSE]\n",
    "        }, error = function(e) {\n",
    "            cat(\"Error accessing genotype data at iteration:\", i, \"\\n\")\n",
    "            cat(\"Error message:\", e$message, \"\\n\")\n",
    "            stop(\"Stopping execution due to error.\")\n",
    "        })    \n",
    "    \n",
    "        mwas.ea[i,] <- MWAS(gwas, weight, t(geno))\n",
    "}\n",
    "rownames(mwas.ea) <- cg2\n",
    "colnames(mwas.ea) <- c(\"z\",\"p\")"
   ]
  },
  {
   "cell_type": "code",
   "execution_count": null,
   "id": "207bf56e-0680-4f1b-a54d-f5e4b68cf77d",
   "metadata": {},
   "outputs": [],
   "source": [
    "head(mwas.all)"
   ]
  },
  {
   "cell_type": "code",
   "execution_count": null,
   "id": "4b88eb34-6d44-4fe7-ad8a-c49dc1a71a81",
   "metadata": {},
   "outputs": [],
   "source": [
    "mwas.all.1se <- mwas.all"
   ]
  },
  {
   "cell_type": "markdown",
   "id": "0765a889-36b0-4d87-bd66-4f33dbea0de5",
   "metadata": {},
   "source": [
    "### With `lambda.min`"
   ]
  },
  {
   "cell_type": "markdown",
   "id": "047c1cca-57f3-494d-9f25-08d7959713d9",
   "metadata": {},
   "source": [
    "#### Stage 1"
   ]
  },
  {
   "cell_type": "code",
   "execution_count": null,
   "id": "61a5f950-2c27-40b1-aa96-809004183249",
   "metadata": {},
   "outputs": [],
   "source": [
    "set.seed(42)\n",
    "for(k in 1:length(wind)){\n",
    "    models.ea <- c()\n",
    "    models.all <- c()\n",
    "    for(i in 1:length(cg)){\n",
    "    #for(i in 1){\n",
    "        #cat(i,\"\\n\")\n",
    "        #print(paste0(\"This cg is: \", cg[i]))\n",
    "        range1 <- ifelse(cg[i] - wind[k] > 0,cg[i] - wind[k],0)\n",
    "        range2 <- cg[i] + wind[k]\n",
    "        idx <- map3$POS > range1 & map3$POS < range2\n",
    "        # go to next cg if no snps within window\n",
    "        if(sum(idx) <= 1){\n",
    "                next\n",
    "        }\n",
    "        geno <- snp3[idx,] # changed snp2 to snp3\n",
    "        rownames(geno) <- map3$POS[idx]\n",
    "        trainX <- t(geno)\n",
    "        trainY <- p.residual[i,]\n",
    "        fit <- elastic.net(trainX,trainY)\n",
    "        fit <- tryCatch(\n",
    "                elastic.net(trainX,trainY, \"min\"),\n",
    "                error = function(e) {return (\"err\")})\n",
    "        if(!is.data.frame(fit)){\n",
    "            if(fit == \"err\"){\n",
    "                next\n",
    "            }\n",
    "        }\n",
    "        if(nrow(fit) == 0) next\n",
    "\n",
    "        fit$cg <- cg[i]\n",
    "        models.all <- rbind(models.all,fit)\n",
    "        # EA only\n",
    "        trainX <- trainX[idx.ea,]\n",
    "        if(sum(apply(trainX,2,var)!=0) <= 1){\n",
    "                next\n",
    "        }\n",
    "        trainY <- trainY[idx.ea]\n",
    "        fit <- tryCatch(\n",
    "                elastic.net(trainX,trainY, \"min\"),\n",
    "                error = function(e) {return (\"err\")})\n",
    "        if(!is.data.frame(fit)){\n",
    "            if(fit == \"err\"){\n",
    "                next\n",
    "            }\n",
    "        }\n",
    "        if(nrow(fit) == 0) next\n",
    "        fit$cg <- cg[i]\n",
    "        models.ea <- rbind(models.ea,fit)\n",
    "    }\n",
    "}"
   ]
  },
  {
   "cell_type": "code",
   "execution_count": null,
   "id": "edde27e7-2435-474e-8fee-5870af257547",
   "metadata": {},
   "outputs": [],
   "source": [
    "models.ea <- models.ea[models.ea[,1] != \"(Intercept)\",]\n",
    "models.all <- models.all[models.all[,1] != \"(Intercept)\",]"
   ]
  },
  {
   "cell_type": "markdown",
   "id": "e1a14145-108e-4f1c-9abb-fd4744ba5105",
   "metadata": {},
   "source": [
    "#### Stage 2"
   ]
  },
  {
   "cell_type": "code",
   "execution_count": null,
   "id": "582b72bb-156b-4d61-9a28-b6e07b2feee6",
   "metadata": {},
   "outputs": [],
   "source": [
    "if(!dir.exists(outd)) dir.create(outd)"
   ]
  },
  {
   "cell_type": "code",
   "execution_count": null,
   "id": "0dc61fc5-dcd5-41ca-b76d-61e379df41fc",
   "metadata": {},
   "outputs": [],
   "source": [
    "set.seed(42)\n",
    "# mwas by models of all samples\n",
    "cg2 <- unique(models.all$cg)\n",
    "mwas.all <- matrix(0,nrow=length(cg2),ncol=2)\n",
    "for(i in 1:length(cg2)){\n",
    "    pos <- models.all[models.all$cg == cg2[i],1]\n",
    "    gwas <- snp.gwas2$z[is.element(snp.gwas2$pos_hg38, pos)]\n",
    "    weight <- models.all[models.all$cg == cg2[i],2]\n",
    "    #geno <- snp.1kg.eur2[match(pos,map.1kg.eur2$POS),]\n",
    "\n",
    "    match_indices <- match(pos, map.1kg.eur2$POS)\n",
    "\n",
    "    tryCatch({\n",
    "        geno <- snp.1kg.eur2[match_indices, , drop = FALSE]\n",
    "    }, error = function(e) {\n",
    "        cat(\"Error accessing genotype data at iteration:\", i, \"\\n\")\n",
    "        cat(\"Error message:\", e$message, \"\\n\")\n",
    "        stop(\"Stopping execution due to error.\")\n",
    "    })\n",
    "\n",
    "    mwas.all[i,] <- MWAS(gwas, weight, t(geno))\n",
    "}\n",
    "rownames(mwas.all) <- cg2\n",
    "colnames(mwas.all) <- c(\"z\",\"p\")"
   ]
  },
  {
   "cell_type": "code",
   "execution_count": null,
   "id": "4002b896-fbac-46f7-aae3-671083aa49d7",
   "metadata": {},
   "outputs": [],
   "source": [
    "# mwas by models of EA samples\n",
    "cg2 <- unique(models.ea$cg)\n",
    "mwas.ea <- matrix(0,nrow=length(cg2),ncol=2)\n",
    "for(i in 1:length(cg2)){\n",
    "    pos <- models.ea[models.ea$cg == cg2[i],1]\n",
    "    gwas <- snp.gwas2$z[is.element(snp.gwas2$pos_hg38, pos)]\n",
    "    weight <- models.ea[models.ea$cg == cg2[i],2]\n",
    "    #geno <- snp.1kg.eur2[match(pos,map.1kg.eur2$POS),]\n",
    "\n",
    "    match_indices <- match(pos, map.1kg.eur2$POS)\n",
    "\n",
    "    tryCatch({\n",
    "        geno <- snp.1kg.eur2[match_indices, , drop = FALSE]\n",
    "    }, error = function(e) {\n",
    "        cat(\"Error accessing genotype data at iteration:\", i, \"\\n\")\n",
    "        cat(\"Error message:\", e$message, \"\\n\")\n",
    "        stop(\"Stopping execution due to error.\")\n",
    "    })    \n",
    "\n",
    "    mwas.ea[i,] <- MWAS(gwas, weight, t(geno))\n",
    "}\n",
    "rownames(mwas.ea) <- cg2\n",
    "colnames(mwas.ea) <- c(\"z\",\"p\")"
   ]
  },
  {
   "cell_type": "code",
   "execution_count": null,
   "id": "4131a37d-d770-49e0-b06e-f7731eda00d6",
   "metadata": {
    "scrolled": true
   },
   "outputs": [],
   "source": [
    "head(mwas.all)"
   ]
  },
  {
   "cell_type": "code",
   "execution_count": null,
   "id": "b30cbbe2-8dc6-4d04-b454-30c6216b87ee",
   "metadata": {},
   "outputs": [],
   "source": [
    "mwas.all.min <- mwas.all"
   ]
  },
  {
   "cell_type": "markdown",
   "id": "87456298-fa83-4288-9607-7d4d4457a01a",
   "metadata": {},
   "source": [
    "## Compare"
   ]
  },
  {
   "cell_type": "code",
   "execution_count": null,
   "id": "d8b4153c-b4a2-4add-b174-8a9945da6962",
   "metadata": {},
   "outputs": [],
   "source": [
    "mwas.all.1se"
   ]
  },
  {
   "cell_type": "code",
   "execution_count": null,
   "id": "41f09f92-953b-44f8-a682-db1cc9baf86a",
   "metadata": {},
   "outputs": [],
   "source": [
    "mwas.all.min"
   ]
  },
  {
   "cell_type": "code",
   "execution_count": null,
   "id": "da310ebe-3fe8-45f4-b3e0-3482f4487c9a",
   "metadata": {},
   "outputs": [],
   "source": [
    "library(ggplot2)"
   ]
  },
  {
   "cell_type": "code",
   "execution_count": null,
   "id": "721c36b4-2130-4e3b-9d33-d9f6ef27c7c4",
   "metadata": {},
   "outputs": [],
   "source": [
    "mwas.all.1se <- as.data.frame(mwas.all.1se)\n",
    "mwas.all.min <- as.data.frame(mwas.all.min)\n",
    "\n",
    "mwas.all.1se$pos <- rownames(mwas.all.1se)\n",
    "mwas.all.min$pos <- rownames(mwas.all.min)\n",
    "\n",
    "rownames(mwas.all.1se) <- rownames(mwas.all.min) <- NULL\n",
    "\n",
    "colnames(mwas.all.1se)[2] <- \"pval.lambda.1se\"\n",
    "colnames(mwas.all.min)[2] <- \"pval.lambda.min\"\n",
    "\n",
    "df <- merge(mwas.all.1se, mwas.all.min, by = \"pos\")\n",
    "\n",
    "ggplot(df, aes(x = -log(pval.lambda.1se, base = 10), y = -log(pval.lambda.min, base = 10))) +\n",
    "  geom_point(alpha = 0.6) +\n",
    "  labs(x = \"-log_10 of p-values (lambda.1se)\",\n",
    "       y = \"-log_10 of p-values (lambda.min)\",\n",
    "       title = \"Scattergram of MWAS p-values\",\n",
    "       subtitle = \"Comparing lambda.1se and lambda.min\") +\n",
    "  theme_minimal()"
   ]
  },
  {
   "cell_type": "code",
   "execution_count": null,
   "id": "ba334163-d310-4e59-88a1-7fd2b529151d",
   "metadata": {},
   "outputs": [],
   "source": [
    "min(df$pval.lambda.1se)"
   ]
  },
  {
   "cell_type": "code",
   "execution_count": null,
   "id": "10d87bfa-e446-4e95-85a8-a73d5d6aea58",
   "metadata": {},
   "outputs": [],
   "source": [
    "min(df$pval.lambda.1se)"
   ]
  },
  {
   "cell_type": "code",
   "execution_count": null,
   "id": "1481f858-1c1e-4ed1-b70d-397311678f33",
   "metadata": {},
   "outputs": [],
   "source": [
    "head(df)"
   ]
  },
  {
   "cell_type": "code",
   "execution_count": null,
   "id": "0db2d0ed-003d-40fb-8301-ed4adffed964",
   "metadata": {},
   "outputs": [],
   "source": [
    "df$pos <- as.numeric(df$pos)"
   ]
  },
  {
   "cell_type": "code",
   "execution_count": null,
   "id": "bd08c5ec-daae-49c9-9be3-d51875d378a3",
   "metadata": {},
   "outputs": [],
   "source": [
    "min(df$pval.lambda.1se)"
   ]
  },
  {
   "cell_type": "code",
   "execution_count": null,
   "id": "f45fed7a-aca1-4b3e-9cd9-03f3c1de7cd4",
   "metadata": {},
   "outputs": [],
   "source": [
    "min(df$pval.lambda.min)"
   ]
  },
  {
   "cell_type": "code",
   "execution_count": null,
   "id": "6913b682-43b6-46a1-a62b-e0ba15d80768",
   "metadata": {},
   "outputs": [],
   "source": [
    "library(ggplot2)\n",
    "library(scales)  # For comma formatting"
   ]
  },
  {
   "cell_type": "code",
   "execution_count": null,
   "id": "50204879-9f49-4c8f-a6db-38fa215114b0",
   "metadata": {},
   "outputs": [],
   "source": [
    "# Convert numbers to comma-separated format\n",
    "formatted_min_pos <- comma(min_site_to_test_pos)\n",
    "formatted_max_pos <- comma(max_site_to_test_pos)\n",
    "\n",
    "# Converting the data to long format if not already done\n",
    "df_long <- tidyr::pivot_longer(df, \n",
    "                               cols = c(\"pval.lambda.1se\", \"pval.lambda.min\"), \n",
    "                               names_to = \"variable\", \n",
    "                               values_to = \"pval\")\n",
    "\n",
    "# Plot with detailed title\n",
    "ggplot(df_long, aes(x = pos, y = -log(pval, base = 10), color = variable)) +\n",
    "  geom_point(alpha = 0.6) +\n",
    "  labs(x = \"Genomic Position\",\n",
    "       y = \"Log of p-values\",\n",
    "       title = paste(\"Scattergrams of MWAS p-values by Genomic Position\\nchr:\", chr,\n",
    "                     \"MAF:\", maf, \n",
    "                     \"Positions:\", formatted_min_pos, \"to\", formatted_max_pos),\n",
    "       subtitle = \"Faceted by lambda type\") +\n",
    "  scale_color_manual(values = c(\"lambda.1se\" = \"blue\", \"lambda.min\" = \"red\")) +\n",
    "  facet_wrap(~ variable, scales = \"free_y\") +\n",
    "  theme_minimal()"
   ]
  },
  {
   "cell_type": "markdown",
   "id": "9df6eb9f-4d04-4c50-b69d-d3f641157303",
   "metadata": {},
   "source": [
    "### Plot Shizhong's old results to compare"
   ]
  },
  {
   "cell_type": "code",
   "execution_count": null,
   "id": "63d195e1-e0d0-41e7-ba92-90313d9b9989",
   "metadata": {},
   "outputs": [],
   "source": [
    "library(data.table)\n",
    "library(qqman)"
   ]
  },
  {
   "cell_type": "code",
   "execution_count": null,
   "id": "30c503ca-8701-4b1f-86a5-d9d5a5571912",
   "metadata": {},
   "outputs": [],
   "source": [
    "old <- fread(\"mwas.all.wind.10000\")"
   ]
  },
  {
   "cell_type": "code",
   "execution_count": null,
   "id": "95f6c7c6-2c8d-4382-b043-cc3e32582b19",
   "metadata": {},
   "outputs": [],
   "source": [
    "head(old)"
   ]
  },
  {
   "cell_type": "code",
   "execution_count": null,
   "id": "18922aa9-0ba3-4bb3-8b69-9db5bf654230",
   "metadata": {},
   "outputs": [],
   "source": [
    "colnames(old) <- c(\"CHR\", \"BP\", \"Z\", \"P\")"
   ]
  },
  {
   "cell_type": "code",
   "execution_count": null,
   "id": "33fa8404-6bbd-4fd9-aa02-8a10480df395",
   "metadata": {},
   "outputs": [],
   "source": [
    "old$CHR <- gsub(\"chr\", \"\", old$CHR)\n",
    "old$CHR <- as.numeric(old$CHR)"
   ]
  },
  {
   "cell_type": "code",
   "execution_count": null,
   "id": "24c6dac6-4573-472b-98e0-a722c69b38ec",
   "metadata": {},
   "outputs": [],
   "source": [
    "old$SNP <- paste0(\"Chr\", old$CHR, \":\", old$BP)"
   ]
  },
  {
   "cell_type": "code",
   "execution_count": null,
   "id": "b0bdacbb-5a50-4288-8e21-fa917043e77e",
   "metadata": {},
   "outputs": [],
   "source": [
    "manhattan(old)"
   ]
  },
  {
   "cell_type": "markdown",
   "id": "a31e7b75-58f9-4ea4-9d01-ca34f31fe5eb",
   "metadata": {},
   "source": [
    "### Merging/overlap of Shizhong's results, ours."
   ]
  },
  {
   "cell_type": "code",
   "execution_count": null,
   "id": "3adff280-3287-4fa7-9f8e-530298383fcc",
   "metadata": {},
   "outputs": [],
   "source": [
    "head(old)"
   ]
  },
  {
   "cell_type": "code",
   "execution_count": null,
   "id": "8254843a-a87f-4691-a030-b2e15fe1eb60",
   "metadata": {
    "scrolled": true
   },
   "outputs": [],
   "source": [
    "head(models.all)"
   ]
  },
  {
   "cell_type": "code",
   "execution_count": null,
   "id": "12d92e3e-9ea9-4ec3-a2a9-70e6d7099b37",
   "metadata": {},
   "outputs": [],
   "source": [
    "head(df)"
   ]
  },
  {
   "cell_type": "code",
   "execution_count": null,
   "id": "a2ecaab0-f3ca-4565-a025-e6b589d2f086",
   "metadata": {},
   "outputs": [],
   "source": [
    "df$CHR <- 7"
   ]
  },
  {
   "cell_type": "code",
   "execution_count": null,
   "id": "5290da01-bf63-4544-9b7d-5971c72907ee",
   "metadata": {},
   "outputs": [],
   "source": [
    "colnames(df)"
   ]
  },
  {
   "cell_type": "code",
   "execution_count": null,
   "id": "372df21e-d255-4be8-8e1d-ac8290812557",
   "metadata": {},
   "outputs": [],
   "source": [
    "colnames(df)[1] <- \"BP\""
   ]
  },
  {
   "cell_type": "markdown",
   "id": "cd919381-193c-425a-a552-fedc24f2da94",
   "metadata": {},
   "source": [
    "### What % of CpG sites in our results are also found in Shizhongs?"
   ]
  },
  {
   "cell_type": "code",
   "execution_count": null,
   "id": "1994df44-9c3c-4137-b1cb-f47e07c07d2f",
   "metadata": {},
   "outputs": [],
   "source": [
    "head(df)"
   ]
  },
  {
   "cell_type": "code",
   "execution_count": null,
   "id": "34d767a6-542c-4f45-8161-e23fd24b1aab",
   "metadata": {},
   "outputs": [],
   "source": [
    "colnames(df)[2] <- \"Z_lambda.1se\"\n",
    "colnames(df)[4] <- \"Z_lambda.min\""
   ]
  },
  {
   "cell_type": "code",
   "execution_count": null,
   "id": "b9281343-f871-46ae-bb7c-400deedf2f1b",
   "metadata": {},
   "outputs": [],
   "source": [
    "colnames(old)[3:4] <- c(\"Z_Shizhongs_old\", \"pval.shizhongs_old\")"
   ]
  },
  {
   "cell_type": "code",
   "execution_count": null,
   "id": "cac828c1-1d9d-403d-b2c7-0711db7da571",
   "metadata": {},
   "outputs": [],
   "source": [
    "head(old)"
   ]
  },
  {
   "cell_type": "code",
   "execution_count": null,
   "id": "77ec8fc9-fc3e-4340-bd36-281fefb243db",
   "metadata": {},
   "outputs": [],
   "source": [
    "merged <- merge(old, df)"
   ]
  },
  {
   "cell_type": "code",
   "execution_count": null,
   "id": "c75e1d33-b683-4a0d-ac0f-8d8c7b2886d8",
   "metadata": {},
   "outputs": [],
   "source": [
    "head(merged)"
   ]
  },
  {
   "cell_type": "code",
   "execution_count": null,
   "id": "c93b212c-1cb3-4d26-8e20-ec727da333bc",
   "metadata": {},
   "outputs": [],
   "source": [
    "dim(old)"
   ]
  },
  {
   "cell_type": "code",
   "execution_count": null,
   "id": "20ee9fa2-afda-4171-a655-4d9dc2aa6e04",
   "metadata": {},
   "outputs": [],
   "source": [
    "dim(df)"
   ]
  },
  {
   "cell_type": "code",
   "execution_count": null,
   "id": "d97bec16-7d14-47f2-a44b-c29090290eed",
   "metadata": {},
   "outputs": [],
   "source": [
    "dim(merged)"
   ]
  },
  {
   "cell_type": "code",
   "execution_count": null,
   "id": "c6ec26ce-f679-4dc1-ad92-f0fe41dcac02",
   "metadata": {},
   "outputs": [],
   "source": [
    "length(setdiff(old$BP, df$BP))\n",
    "#setdiff(old$BP, df$BP)"
   ]
  },
  {
   "cell_type": "code",
   "execution_count": null,
   "id": "fcae7930-ba65-418f-a3de-94c9e919a719",
   "metadata": {},
   "outputs": [],
   "source": [
    "length(setdiff(df$BP, old$BP))\n",
    "setdiff(df$BP, old$BP)"
   ]
  },
  {
   "cell_type": "code",
   "execution_count": null,
   "id": "39e8961d-d06c-4651-b980-4833d2c79050",
   "metadata": {},
   "outputs": [],
   "source": [
    "length(intersect(old$BP, df$BP))\n",
    "intersect(old$BP, df$BP)"
   ]
  },
  {
   "cell_type": "markdown",
   "id": "749f978e-cb18-4480-a0ba-3f43e3777ea4",
   "metadata": {},
   "source": [
    "### Among those found in both, what is agreement?"
   ]
  },
  {
   "cell_type": "code",
   "execution_count": null,
   "id": "7740b6f0-ed57-4811-9021-e3cc5f600676",
   "metadata": {},
   "outputs": [],
   "source": [
    "head(merged)"
   ]
  },
  {
   "cell_type": "code",
   "execution_count": null,
   "id": "017e8b8d-66ee-4eb4-8297-b8abe1cb5432",
   "metadata": {},
   "outputs": [],
   "source": [
    "library(dplyr)\n",
    "library(tidyr)\n",
    "library(ggplot2)\n",
    "\n",
    "# Assuming 'merged' is your dataframe\n",
    "# You may have already set the column names as shown in your previous message\n",
    "\n",
    "# Convert BP to numeric if not already\n",
    "merged$BP <- as.numeric(merged$BP)\n",
    "\n",
    "# Convert p-values to their -log10 for visualization\n",
    "merged$log_pval_shizhong <- -log10(merged$pval.shizhongs_old)\n",
    "merged$log_pval_lambda_1se <- -log10(merged$pval.lambda.1se)\n",
    "merged$log_pval_lambda_min <- -log10(merged$pval.lambda.min)\n"
   ]
  },
  {
   "cell_type": "code",
   "execution_count": null,
   "id": "f2843374-55cc-4921-ba5a-6fe975242fae",
   "metadata": {},
   "outputs": [],
   "source": [
    "# Create the ggplot visualizations\n",
    "plot <- ggplot(merged, aes(x = BP)) +\n",
    "  geom_point(aes(y = log_pval_shizhong, color = \"Shizhong's Old\"), alpha = 0.6) +\n",
    "  geom_point(aes(y = log_pval_lambda_1se, color = \"Lambda 1se\"), alpha = 0.6) +\n",
    "  geom_point(aes(y = log_pval_lambda_min, color = \"Lambda Min\"), alpha = 0.6) +\n",
    "  scale_color_manual(values = c(\"Shizhong's Old\" = \"green\", \"Lambda 1se\" = \"blue\", \"Lambda Min\" = \"red\")) +\n",
    "  labs(x = \"Genomic Position (BP)\",\n",
    "       y = \"-log10 of p-values\",\n",
    "       title = \"Comparative Scattergram of MWAS p-values by Genomic Position\",\n",
    "       subtitle = \"Green: Shizhong's Old, Blue: Lambda.1se, Red: Lambda.min\") +\n",
    "  theme_minimal() +\n",
    "  facet_wrap(~ CHR, scales = \"free_y\")  # Facet by chromosome\n",
    "\n",
    "# Print the plot\n",
    "print(plot)\n"
   ]
  },
  {
   "cell_type": "code",
   "execution_count": null,
   "id": "fd8f6da7-e165-472c-ae86-32e629019e74",
   "metadata": {},
   "outputs": [],
   "source": [
    "library(ggplot2)\n",
    "library(tidyr)\n",
    "library(scales)  # for comma formatting\n",
    "\n",
    "# Define your positions\n",
    "min_site_to_test_pos <- 73274305\n",
    "max_site_to_test_pos <- 73420076\n",
    "\n",
    "# Convert numbers to comma-separated format\n",
    "formatted_min_pos <- scales::comma(min_site_to_test_pos)\n",
    "formatted_max_pos <- scales::comma(max_site_to_test_pos)\n"
   ]
  },
  {
   "cell_type": "code",
   "execution_count": null,
   "id": "6d18bd7f-c8b9-4146-879c-c0d1d4cde1f6",
   "metadata": {},
   "outputs": [],
   "source": [
    "# Ensure your dataframe 'df' is already properly formatted and 'pos' is correct\n",
    "df_long <- tidyr::pivot_longer(df, \n",
    "                               cols = c(\"pval.lambda.1se\", \"pval.lambda.min\"), \n",
    "                               names_to = \"variable\", \n",
    "                               values_to = \"pval\")\n"
   ]
  },
  {
   "cell_type": "code",
   "execution_count": null,
   "id": "88af396d-f475-4887-8a13-0cfe2b87500f",
   "metadata": {},
   "outputs": [],
   "source": [
    "head(df_long)"
   ]
  },
  {
   "cell_type": "code",
   "execution_count": null,
   "id": "438494f6-a4b4-4de3-9dcc-4636accc2cd6",
   "metadata": {},
   "outputs": [],
   "source": []
  },
  {
   "cell_type": "code",
   "execution_count": null,
   "id": "46b13534-a8f8-4572-a701-926c756d169b",
   "metadata": {},
   "outputs": [],
   "source": [
    "library(tidyr)\n",
    "library(ggplot2)\n",
    "library(scales)  # for comma formatting\n",
    "\n",
    "# Convert numbers to comma-separated format\n",
    "formatted_min_pos <- comma(min_site_to_test_pos)\n",
    "formatted_max_pos <- comma(max_site_to_test_pos)\n",
    "\n",
    "# Convert the dataframe to long format including the new Shizhong's p-values\n",
    "df_long <- pivot_longer(merged, \n",
    "                        cols = c(\"pval.lambda.1se\", \"pval.lambda.min\", \"pval.shizhongs_old\"),\n",
    "                        names_to = \"variable\",\n",
    "                        values_to = \"pval\")\n"
   ]
  },
  {
   "cell_type": "code",
   "execution_count": null,
   "id": "4ae7290c-6102-4b92-a8ac-b94d83212720",
   "metadata": {},
   "outputs": [],
   "source": [
    "library(data.table)\n",
    "library(ggplot2)\n",
    "library(scales)\n",
    "library(tidyr)\n",
    "\n",
    "# Convert 'BP' to numeric\n",
    "merged$BP <- as.numeric(merged$BP)\n",
    "\n",
    "# Minimum p-values\n",
    "min_pval_lambda.1se <- min(merged$pval.lambda.1se)\n",
    "min_pval_lambda.min <- min(merged$pval.lambda.min)\n",
    "min_pval_shizhongs_old <- min(merged$pval.shizhongs_old)\n",
    "\n",
    "# Convert numbers to comma-separated format\n",
    "formatted_min_pos <- comma(min(merged$BP))\n",
    "formatted_max_pos <- comma(max(merged$BP))\n",
    "\n",
    "# Convert data to long format\n",
    "df_long <- pivot_longer(merged, cols = c(\"pval.lambda.1se\", \"pval.lambda.min\", \"pval.shizhongs_old\"), \n",
    "                        names_to = \"variable\", values_to = \"pval\")\n",
    "\n",
    "# Plot with detailed title\n",
    "ggplot(df_long, aes(x = BP, y = -log10(pval), color = variable)) +\n",
    "  geom_point(alpha = 0.6) +\n",
    "  labs(x = \"Genomic Position\",\n",
    "       y = \"Log of p-values\",\n",
    "       title = paste(\"Scattergrams of MWAS p-values by Genomic Position\\nCHR:\", unique(merged$CHR),\n",
    "                     \"Positions:\", formatted_min_pos, \"to\", formatted_max_pos),\n",
    "       subtitle = \"Faceted by lambda type\") +\n",
    "  scale_color_manual(values = c(\"pval.lambda.1se\" = \"blue\", \"pval.lambda.min\" = \"red\", \"pval.shizhongs_old\" = \"green\")) +\n",
    "  facet_wrap(~ variable, scales = \"free_y\") +\n",
    "  theme_minimal()\n"
   ]
  },
  {
   "cell_type": "code",
   "execution_count": null,
   "id": "8896045c-cadf-4df4-ae93-31637de111fd",
   "metadata": {},
   "outputs": [],
   "source": [
    "Sys.time()"
   ]
  },
  {
   "cell_type": "code",
   "execution_count": null,
   "id": "a04714ab-7316-42ce-80e6-e37bfd4ab89b",
   "metadata": {},
   "outputs": [],
   "source": [
    "min(sites_to_test_pos)"
   ]
  },
  {
   "cell_type": "code",
   "execution_count": null,
   "id": "75f0ce1c-f351-4cbf-b190-e28b967c5d19",
   "metadata": {},
   "outputs": [],
   "source": [
    "max(sites_to_test_pos)"
   ]
  },
  {
   "cell_type": "markdown",
   "id": "2c4c7882-2ab0-4750-8ee1-5851a30874cf",
   "metadata": {},
   "source": [
    "## Check these sites on chr 7"
   ]
  },
  {
   "cell_type": "code",
   "execution_count": null,
   "id": "49f720de-f893-4186-9a6c-f1ff973e135c",
   "metadata": {},
   "outputs": [],
   "source": [
    "# Shizhong's original result\n",
    "\n",
    "# chr7    1987910 10.1255085321387        4.25759742738181e-24\n",
    "# chr7    1987896 10.1255085321387        4.25759742738189e-24\n",
    "# chr7    1987797 10.0241523897721        1.19379483108027e-23\n",
    "# chr7    1987778 10.0105851568856        1.36940148731912e-23"
   ]
  },
  {
   "cell_type": "code",
   "execution_count": null,
   "id": "8e73dd6d-8bc5-40bd-9769-68c6ae0fc62a",
   "metadata": {},
   "outputs": [],
   "source": [
    "selected_pos <- c(1987910, 1987896, 1987797, 1987778)"
   ]
  },
  {
   "cell_type": "code",
   "execution_count": null,
   "id": "77f6bf37-5e2d-49ee-b871-f473e8e64788",
   "metadata": {},
   "outputs": [],
   "source": [
    "head(merged)"
   ]
  },
  {
   "cell_type": "code",
   "execution_count": null,
   "id": "3d97b2c2-28b4-412d-bc67-124c002e2d4f",
   "metadata": {},
   "outputs": [],
   "source": [
    "merged[which(merged$BP %in% selected_pos), ]"
   ]
  },
  {
   "cell_type": "code",
   "execution_count": null,
   "id": "76539955-78ed-4bb9-b203-5e14a921afe6",
   "metadata": {},
   "outputs": [],
   "source": []
  },
  {
   "cell_type": "code",
   "execution_count": null,
   "id": "eafb421a-aa0c-4ef8-9da8-eaf119226685",
   "metadata": {},
   "outputs": [],
   "source": []
  },
  {
   "cell_type": "code",
   "execution_count": null,
   "id": "c951209c-fc57-4736-be96-d7739bcd1ab3",
   "metadata": {},
   "outputs": [],
   "source": []
  },
  {
   "cell_type": "code",
   "execution_count": null,
   "id": "99de28dc-7b5b-4e50-a222-d7d3db3b7dd9",
   "metadata": {},
   "outputs": [],
   "source": []
  },
  {
   "cell_type": "code",
   "execution_count": null,
   "id": "e98ae471-5079-4a79-bbd5-87cc79199f5d",
   "metadata": {},
   "outputs": [],
   "source": []
  },
  {
   "cell_type": "code",
   "execution_count": null,
   "id": "a34eae81-df5d-443f-aec7-51140b1dca86",
   "metadata": {},
   "outputs": [],
   "source": []
  },
  {
   "cell_type": "code",
   "execution_count": null,
   "id": "7d5ed585-5d85-44d0-8d30-4e869b805ef6",
   "metadata": {},
   "outputs": [],
   "source": []
  },
  {
   "cell_type": "code",
   "execution_count": null,
   "id": "4d3add94-ea26-40dc-8665-155182991851",
   "metadata": {},
   "outputs": [],
   "source": []
  },
  {
   "cell_type": "code",
   "execution_count": null,
   "id": "4ffd9fa7-3acf-4c05-ad6b-fb1d4cfce3ef",
   "metadata": {},
   "outputs": [],
   "source": []
  },
  {
   "cell_type": "code",
   "execution_count": null,
   "id": "f3d8bd53-acdc-418f-ab4c-5234a2e366c8",
   "metadata": {},
   "outputs": [],
   "source": []
  },
  {
   "cell_type": "code",
   "execution_count": null,
   "id": "d85363d1-644f-4a56-ae5c-14ab85e3593c",
   "metadata": {},
   "outputs": [],
   "source": []
  },
  {
   "cell_type": "code",
   "execution_count": null,
   "id": "6c507ca0-ac74-4198-afe2-3a1499a23d31",
   "metadata": {},
   "outputs": [],
   "source": []
  },
  {
   "cell_type": "code",
   "execution_count": null,
   "id": "704d7236-397c-4d01-8705-baaa64c3dcb4",
   "metadata": {},
   "outputs": [],
   "source": []
  },
  {
   "cell_type": "code",
   "execution_count": null,
   "id": "ab006a27-a5a3-47bf-89d3-d754e7a22d32",
   "metadata": {},
   "outputs": [],
   "source": []
  },
  {
   "cell_type": "code",
   "execution_count": null,
   "id": "6613e2b1-b72b-4011-9754-93790530b6c2",
   "metadata": {},
   "outputs": [],
   "source": []
  },
  {
   "cell_type": "code",
   "execution_count": null,
   "id": "673bd63c-0e20-4e0d-a414-ac645f76f5f6",
   "metadata": {},
   "outputs": [],
   "source": []
  },
  {
   "cell_type": "code",
   "execution_count": null,
   "id": "3c418d76-d110-4c9e-837b-f2687b77f47f",
   "metadata": {},
   "outputs": [],
   "source": []
  },
  {
   "cell_type": "code",
   "execution_count": null,
   "id": "10a76b46-b35d-4673-ac49-02cfb2b47eab",
   "metadata": {},
   "outputs": [],
   "source": []
  },
  {
   "cell_type": "code",
   "execution_count": null,
   "id": "43f2d55f-a83b-4dd0-adab-c9833051ae4d",
   "metadata": {},
   "outputs": [],
   "source": []
  },
  {
   "cell_type": "code",
   "execution_count": null,
   "id": "d3abb9bb-0a1a-46c5-9666-f2ba9269cdf0",
   "metadata": {},
   "outputs": [],
   "source": []
  },
  {
   "cell_type": "code",
   "execution_count": null,
   "id": "c7b7e42b-3df0-4a1d-a4da-925439e100ce",
   "metadata": {},
   "outputs": [],
   "source": []
  },
  {
   "cell_type": "code",
   "execution_count": null,
   "id": "af5b9058-2dc1-4ced-a01d-a3b6c5707791",
   "metadata": {},
   "outputs": [],
   "source": []
  },
  {
   "cell_type": "code",
   "execution_count": null,
   "id": "49682a27-311f-48eb-9706-6ba4702081e6",
   "metadata": {},
   "outputs": [],
   "source": []
  },
  {
   "cell_type": "code",
   "execution_count": null,
   "id": "b0ce3769-6823-4d63-8aa4-bc5b2d2969d3",
   "metadata": {},
   "outputs": [],
   "source": []
  },
  {
   "cell_type": "code",
   "execution_count": null,
   "id": "48a45403-7621-462e-a2f7-7fde2f55d4c1",
   "metadata": {},
   "outputs": [],
   "source": []
  },
  {
   "cell_type": "code",
   "execution_count": null,
   "id": "e77a397b-ac8c-4143-988b-f607bfc534cc",
   "metadata": {},
   "outputs": [],
   "source": []
  }
 ],
 "metadata": {
  "kernelspec": {
   "display_name": "R",
   "language": "R",
   "name": "ir"
  },
  "language_info": {
   "codemirror_mode": "r",
   "file_extension": ".r",
   "mimetype": "text/x-r-source",
   "name": "R",
   "pygments_lexer": "r",
   "version": "4.3.1"
  }
 },
 "nbformat": 4,
 "nbformat_minor": 5
}
