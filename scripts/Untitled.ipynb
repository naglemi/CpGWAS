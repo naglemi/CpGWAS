{
 "cells": [
  {
   "cell_type": "markdown",
   "id": "371584cd-1b5b-457a-aea5-15b80e9cc081",
   "metadata": {},
   "source": [
    "# Inspect RDA files for caudate nucleus `bsseq` objects"
   ]
  },
  {
   "cell_type": "code",
   "execution_count": 5,
   "id": "a08c7f60-cdab-4e3d-9567-a5d941bae87e",
   "metadata": {},
   "outputs": [],
   "source": [
    "files <- list.files(\"/dcs04/lieber/statsgen/mnagle/mwas/pheno/caud/out\", full.names = TRUE)"
   ]
  },
  {
   "cell_type": "code",
   "execution_count": 6,
   "id": "bf9842ce-6756-4059-93b3-48b402cb6e04",
   "metadata": {},
   "outputs": [
    {
     "data": {
      "text/html": [
       "<style>\n",
       ".list-inline {list-style: none; margin:0; padding: 0}\n",
       ".list-inline>li {display: inline-block}\n",
       ".list-inline>li:not(:last-child)::after {content: \"\\00b7\"; padding: 0 .5ex}\n",
       "</style>\n",
       "<ol class=list-inline><li>'/dcs04/lieber/statsgen/mnagle/mwas/pheno/caud/out/chr1_AA.rda'</li><li>'/dcs04/lieber/statsgen/mnagle/mwas/pheno/caud/out/chr1_all.rda'</li><li>'/dcs04/lieber/statsgen/mnagle/mwas/pheno/caud/out/chr1_EA.rda'</li><li>'/dcs04/lieber/statsgen/mnagle/mwas/pheno/caud/out/chr10_AA.rda'</li><li>'/dcs04/lieber/statsgen/mnagle/mwas/pheno/caud/out/chr10_all.rda'</li><li>'/dcs04/lieber/statsgen/mnagle/mwas/pheno/caud/out/chr10_EA.rda'</li><li>'/dcs04/lieber/statsgen/mnagle/mwas/pheno/caud/out/chr11_AA.rda'</li><li>'/dcs04/lieber/statsgen/mnagle/mwas/pheno/caud/out/chr11_all.rda'</li><li>'/dcs04/lieber/statsgen/mnagle/mwas/pheno/caud/out/chr11_EA.rda'</li><li>'/dcs04/lieber/statsgen/mnagle/mwas/pheno/caud/out/chr12_AA.rda'</li><li>'/dcs04/lieber/statsgen/mnagle/mwas/pheno/caud/out/chr12_all.rda'</li><li>'/dcs04/lieber/statsgen/mnagle/mwas/pheno/caud/out/chr12_EA.rda'</li><li>'/dcs04/lieber/statsgen/mnagle/mwas/pheno/caud/out/chr13_AA.rda'</li><li>'/dcs04/lieber/statsgen/mnagle/mwas/pheno/caud/out/chr13_all.rda'</li><li>'/dcs04/lieber/statsgen/mnagle/mwas/pheno/caud/out/chr13_EA.rda'</li><li>'/dcs04/lieber/statsgen/mnagle/mwas/pheno/caud/out/chr14_AA.rda'</li><li>'/dcs04/lieber/statsgen/mnagle/mwas/pheno/caud/out/chr14_all.rda'</li><li>'/dcs04/lieber/statsgen/mnagle/mwas/pheno/caud/out/chr14_EA.rda'</li><li>'/dcs04/lieber/statsgen/mnagle/mwas/pheno/caud/out/chr15_AA.rda'</li><li>'/dcs04/lieber/statsgen/mnagle/mwas/pheno/caud/out/chr15_all.rda'</li><li>'/dcs04/lieber/statsgen/mnagle/mwas/pheno/caud/out/chr15_EA.rda'</li><li>'/dcs04/lieber/statsgen/mnagle/mwas/pheno/caud/out/chr16_AA.rda'</li><li>'/dcs04/lieber/statsgen/mnagle/mwas/pheno/caud/out/chr16_all.rda'</li><li>'/dcs04/lieber/statsgen/mnagle/mwas/pheno/caud/out/chr16_EA.rda'</li><li>'/dcs04/lieber/statsgen/mnagle/mwas/pheno/caud/out/chr17_AA.rda'</li><li>'/dcs04/lieber/statsgen/mnagle/mwas/pheno/caud/out/chr17_all.rda'</li><li>'/dcs04/lieber/statsgen/mnagle/mwas/pheno/caud/out/chr17_EA.rda'</li><li>'/dcs04/lieber/statsgen/mnagle/mwas/pheno/caud/out/chr18_AA.rda'</li><li>'/dcs04/lieber/statsgen/mnagle/mwas/pheno/caud/out/chr18_all.rda'</li><li>'/dcs04/lieber/statsgen/mnagle/mwas/pheno/caud/out/chr18_EA.rda'</li><li>'/dcs04/lieber/statsgen/mnagle/mwas/pheno/caud/out/chr19_AA.rda'</li><li>'/dcs04/lieber/statsgen/mnagle/mwas/pheno/caud/out/chr19_all.rda'</li><li>'/dcs04/lieber/statsgen/mnagle/mwas/pheno/caud/out/chr19_EA.rda'</li><li>'/dcs04/lieber/statsgen/mnagle/mwas/pheno/caud/out/chr2_AA.rda'</li><li>'/dcs04/lieber/statsgen/mnagle/mwas/pheno/caud/out/chr2_all.rda'</li><li>'/dcs04/lieber/statsgen/mnagle/mwas/pheno/caud/out/chr2_EA.rda'</li><li>'/dcs04/lieber/statsgen/mnagle/mwas/pheno/caud/out/chr20_AA.rda'</li><li>'/dcs04/lieber/statsgen/mnagle/mwas/pheno/caud/out/chr20_all.rda'</li><li>'/dcs04/lieber/statsgen/mnagle/mwas/pheno/caud/out/chr20_EA.rda'</li><li>'/dcs04/lieber/statsgen/mnagle/mwas/pheno/caud/out/chr21_AA.rda'</li><li>'/dcs04/lieber/statsgen/mnagle/mwas/pheno/caud/out/chr21_all.rda'</li><li>'/dcs04/lieber/statsgen/mnagle/mwas/pheno/caud/out/chr21_EA.rda'</li><li>'/dcs04/lieber/statsgen/mnagle/mwas/pheno/caud/out/chr22_AA.rda'</li><li>'/dcs04/lieber/statsgen/mnagle/mwas/pheno/caud/out/chr22_all.rda'</li><li>'/dcs04/lieber/statsgen/mnagle/mwas/pheno/caud/out/chr22_EA.rda'</li><li>'/dcs04/lieber/statsgen/mnagle/mwas/pheno/caud/out/chr3_AA.rda'</li><li>'/dcs04/lieber/statsgen/mnagle/mwas/pheno/caud/out/chr3_all.rda'</li><li>'/dcs04/lieber/statsgen/mnagle/mwas/pheno/caud/out/chr3_EA.rda'</li><li>'/dcs04/lieber/statsgen/mnagle/mwas/pheno/caud/out/chr4_AA.rda'</li><li>'/dcs04/lieber/statsgen/mnagle/mwas/pheno/caud/out/chr4_all.rda'</li><li>'/dcs04/lieber/statsgen/mnagle/mwas/pheno/caud/out/chr4_EA.rda'</li><li>'/dcs04/lieber/statsgen/mnagle/mwas/pheno/caud/out/chr5_AA.rda'</li><li>'/dcs04/lieber/statsgen/mnagle/mwas/pheno/caud/out/chr5_all.rda'</li><li>'/dcs04/lieber/statsgen/mnagle/mwas/pheno/caud/out/chr5_EA.rda'</li><li>'/dcs04/lieber/statsgen/mnagle/mwas/pheno/caud/out/chr6_AA.rda'</li><li>'/dcs04/lieber/statsgen/mnagle/mwas/pheno/caud/out/chr6_all.rda'</li><li>'/dcs04/lieber/statsgen/mnagle/mwas/pheno/caud/out/chr6_EA.rda'</li><li>'/dcs04/lieber/statsgen/mnagle/mwas/pheno/caud/out/chr7_AA.rda'</li><li>'/dcs04/lieber/statsgen/mnagle/mwas/pheno/caud/out/chr7_all.rda'</li><li>'/dcs04/lieber/statsgen/mnagle/mwas/pheno/caud/out/chr7_EA.rda'</li><li>'/dcs04/lieber/statsgen/mnagle/mwas/pheno/caud/out/chr8_AA.rda'</li><li>'/dcs04/lieber/statsgen/mnagle/mwas/pheno/caud/out/chr8_all.rda'</li><li>'/dcs04/lieber/statsgen/mnagle/mwas/pheno/caud/out/chr8_EA.rda'</li><li>'/dcs04/lieber/statsgen/mnagle/mwas/pheno/caud/out/chr9_AA.rda'</li><li>'/dcs04/lieber/statsgen/mnagle/mwas/pheno/caud/out/chr9_all.rda'</li><li>'/dcs04/lieber/statsgen/mnagle/mwas/pheno/caud/out/chr9_EA.rda'</li><li>'/dcs04/lieber/statsgen/mnagle/mwas/pheno/caud/out/pc_AA.csv'</li><li>'/dcs04/lieber/statsgen/mnagle/mwas/pheno/caud/out/pc_EA.csv'</li></ol>\n"
      ],
      "text/latex": [
       "\\begin{enumerate*}\n",
       "\\item '/dcs04/lieber/statsgen/mnagle/mwas/pheno/caud/out/chr1\\_AA.rda'\n",
       "\\item '/dcs04/lieber/statsgen/mnagle/mwas/pheno/caud/out/chr1\\_all.rda'\n",
       "\\item '/dcs04/lieber/statsgen/mnagle/mwas/pheno/caud/out/chr1\\_EA.rda'\n",
       "\\item '/dcs04/lieber/statsgen/mnagle/mwas/pheno/caud/out/chr10\\_AA.rda'\n",
       "\\item '/dcs04/lieber/statsgen/mnagle/mwas/pheno/caud/out/chr10\\_all.rda'\n",
       "\\item '/dcs04/lieber/statsgen/mnagle/mwas/pheno/caud/out/chr10\\_EA.rda'\n",
       "\\item '/dcs04/lieber/statsgen/mnagle/mwas/pheno/caud/out/chr11\\_AA.rda'\n",
       "\\item '/dcs04/lieber/statsgen/mnagle/mwas/pheno/caud/out/chr11\\_all.rda'\n",
       "\\item '/dcs04/lieber/statsgen/mnagle/mwas/pheno/caud/out/chr11\\_EA.rda'\n",
       "\\item '/dcs04/lieber/statsgen/mnagle/mwas/pheno/caud/out/chr12\\_AA.rda'\n",
       "\\item '/dcs04/lieber/statsgen/mnagle/mwas/pheno/caud/out/chr12\\_all.rda'\n",
       "\\item '/dcs04/lieber/statsgen/mnagle/mwas/pheno/caud/out/chr12\\_EA.rda'\n",
       "\\item '/dcs04/lieber/statsgen/mnagle/mwas/pheno/caud/out/chr13\\_AA.rda'\n",
       "\\item '/dcs04/lieber/statsgen/mnagle/mwas/pheno/caud/out/chr13\\_all.rda'\n",
       "\\item '/dcs04/lieber/statsgen/mnagle/mwas/pheno/caud/out/chr13\\_EA.rda'\n",
       "\\item '/dcs04/lieber/statsgen/mnagle/mwas/pheno/caud/out/chr14\\_AA.rda'\n",
       "\\item '/dcs04/lieber/statsgen/mnagle/mwas/pheno/caud/out/chr14\\_all.rda'\n",
       "\\item '/dcs04/lieber/statsgen/mnagle/mwas/pheno/caud/out/chr14\\_EA.rda'\n",
       "\\item '/dcs04/lieber/statsgen/mnagle/mwas/pheno/caud/out/chr15\\_AA.rda'\n",
       "\\item '/dcs04/lieber/statsgen/mnagle/mwas/pheno/caud/out/chr15\\_all.rda'\n",
       "\\item '/dcs04/lieber/statsgen/mnagle/mwas/pheno/caud/out/chr15\\_EA.rda'\n",
       "\\item '/dcs04/lieber/statsgen/mnagle/mwas/pheno/caud/out/chr16\\_AA.rda'\n",
       "\\item '/dcs04/lieber/statsgen/mnagle/mwas/pheno/caud/out/chr16\\_all.rda'\n",
       "\\item '/dcs04/lieber/statsgen/mnagle/mwas/pheno/caud/out/chr16\\_EA.rda'\n",
       "\\item '/dcs04/lieber/statsgen/mnagle/mwas/pheno/caud/out/chr17\\_AA.rda'\n",
       "\\item '/dcs04/lieber/statsgen/mnagle/mwas/pheno/caud/out/chr17\\_all.rda'\n",
       "\\item '/dcs04/lieber/statsgen/mnagle/mwas/pheno/caud/out/chr17\\_EA.rda'\n",
       "\\item '/dcs04/lieber/statsgen/mnagle/mwas/pheno/caud/out/chr18\\_AA.rda'\n",
       "\\item '/dcs04/lieber/statsgen/mnagle/mwas/pheno/caud/out/chr18\\_all.rda'\n",
       "\\item '/dcs04/lieber/statsgen/mnagle/mwas/pheno/caud/out/chr18\\_EA.rda'\n",
       "\\item '/dcs04/lieber/statsgen/mnagle/mwas/pheno/caud/out/chr19\\_AA.rda'\n",
       "\\item '/dcs04/lieber/statsgen/mnagle/mwas/pheno/caud/out/chr19\\_all.rda'\n",
       "\\item '/dcs04/lieber/statsgen/mnagle/mwas/pheno/caud/out/chr19\\_EA.rda'\n",
       "\\item '/dcs04/lieber/statsgen/mnagle/mwas/pheno/caud/out/chr2\\_AA.rda'\n",
       "\\item '/dcs04/lieber/statsgen/mnagle/mwas/pheno/caud/out/chr2\\_all.rda'\n",
       "\\item '/dcs04/lieber/statsgen/mnagle/mwas/pheno/caud/out/chr2\\_EA.rda'\n",
       "\\item '/dcs04/lieber/statsgen/mnagle/mwas/pheno/caud/out/chr20\\_AA.rda'\n",
       "\\item '/dcs04/lieber/statsgen/mnagle/mwas/pheno/caud/out/chr20\\_all.rda'\n",
       "\\item '/dcs04/lieber/statsgen/mnagle/mwas/pheno/caud/out/chr20\\_EA.rda'\n",
       "\\item '/dcs04/lieber/statsgen/mnagle/mwas/pheno/caud/out/chr21\\_AA.rda'\n",
       "\\item '/dcs04/lieber/statsgen/mnagle/mwas/pheno/caud/out/chr21\\_all.rda'\n",
       "\\item '/dcs04/lieber/statsgen/mnagle/mwas/pheno/caud/out/chr21\\_EA.rda'\n",
       "\\item '/dcs04/lieber/statsgen/mnagle/mwas/pheno/caud/out/chr22\\_AA.rda'\n",
       "\\item '/dcs04/lieber/statsgen/mnagle/mwas/pheno/caud/out/chr22\\_all.rda'\n",
       "\\item '/dcs04/lieber/statsgen/mnagle/mwas/pheno/caud/out/chr22\\_EA.rda'\n",
       "\\item '/dcs04/lieber/statsgen/mnagle/mwas/pheno/caud/out/chr3\\_AA.rda'\n",
       "\\item '/dcs04/lieber/statsgen/mnagle/mwas/pheno/caud/out/chr3\\_all.rda'\n",
       "\\item '/dcs04/lieber/statsgen/mnagle/mwas/pheno/caud/out/chr3\\_EA.rda'\n",
       "\\item '/dcs04/lieber/statsgen/mnagle/mwas/pheno/caud/out/chr4\\_AA.rda'\n",
       "\\item '/dcs04/lieber/statsgen/mnagle/mwas/pheno/caud/out/chr4\\_all.rda'\n",
       "\\item '/dcs04/lieber/statsgen/mnagle/mwas/pheno/caud/out/chr4\\_EA.rda'\n",
       "\\item '/dcs04/lieber/statsgen/mnagle/mwas/pheno/caud/out/chr5\\_AA.rda'\n",
       "\\item '/dcs04/lieber/statsgen/mnagle/mwas/pheno/caud/out/chr5\\_all.rda'\n",
       "\\item '/dcs04/lieber/statsgen/mnagle/mwas/pheno/caud/out/chr5\\_EA.rda'\n",
       "\\item '/dcs04/lieber/statsgen/mnagle/mwas/pheno/caud/out/chr6\\_AA.rda'\n",
       "\\item '/dcs04/lieber/statsgen/mnagle/mwas/pheno/caud/out/chr6\\_all.rda'\n",
       "\\item '/dcs04/lieber/statsgen/mnagle/mwas/pheno/caud/out/chr6\\_EA.rda'\n",
       "\\item '/dcs04/lieber/statsgen/mnagle/mwas/pheno/caud/out/chr7\\_AA.rda'\n",
       "\\item '/dcs04/lieber/statsgen/mnagle/mwas/pheno/caud/out/chr7\\_all.rda'\n",
       "\\item '/dcs04/lieber/statsgen/mnagle/mwas/pheno/caud/out/chr7\\_EA.rda'\n",
       "\\item '/dcs04/lieber/statsgen/mnagle/mwas/pheno/caud/out/chr8\\_AA.rda'\n",
       "\\item '/dcs04/lieber/statsgen/mnagle/mwas/pheno/caud/out/chr8\\_all.rda'\n",
       "\\item '/dcs04/lieber/statsgen/mnagle/mwas/pheno/caud/out/chr8\\_EA.rda'\n",
       "\\item '/dcs04/lieber/statsgen/mnagle/mwas/pheno/caud/out/chr9\\_AA.rda'\n",
       "\\item '/dcs04/lieber/statsgen/mnagle/mwas/pheno/caud/out/chr9\\_all.rda'\n",
       "\\item '/dcs04/lieber/statsgen/mnagle/mwas/pheno/caud/out/chr9\\_EA.rda'\n",
       "\\item '/dcs04/lieber/statsgen/mnagle/mwas/pheno/caud/out/pc\\_AA.csv'\n",
       "\\item '/dcs04/lieber/statsgen/mnagle/mwas/pheno/caud/out/pc\\_EA.csv'\n",
       "\\end{enumerate*}\n"
      ],
      "text/markdown": [
       "1. '/dcs04/lieber/statsgen/mnagle/mwas/pheno/caud/out/chr1_AA.rda'\n",
       "2. '/dcs04/lieber/statsgen/mnagle/mwas/pheno/caud/out/chr1_all.rda'\n",
       "3. '/dcs04/lieber/statsgen/mnagle/mwas/pheno/caud/out/chr1_EA.rda'\n",
       "4. '/dcs04/lieber/statsgen/mnagle/mwas/pheno/caud/out/chr10_AA.rda'\n",
       "5. '/dcs04/lieber/statsgen/mnagle/mwas/pheno/caud/out/chr10_all.rda'\n",
       "6. '/dcs04/lieber/statsgen/mnagle/mwas/pheno/caud/out/chr10_EA.rda'\n",
       "7. '/dcs04/lieber/statsgen/mnagle/mwas/pheno/caud/out/chr11_AA.rda'\n",
       "8. '/dcs04/lieber/statsgen/mnagle/mwas/pheno/caud/out/chr11_all.rda'\n",
       "9. '/dcs04/lieber/statsgen/mnagle/mwas/pheno/caud/out/chr11_EA.rda'\n",
       "10. '/dcs04/lieber/statsgen/mnagle/mwas/pheno/caud/out/chr12_AA.rda'\n",
       "11. '/dcs04/lieber/statsgen/mnagle/mwas/pheno/caud/out/chr12_all.rda'\n",
       "12. '/dcs04/lieber/statsgen/mnagle/mwas/pheno/caud/out/chr12_EA.rda'\n",
       "13. '/dcs04/lieber/statsgen/mnagle/mwas/pheno/caud/out/chr13_AA.rda'\n",
       "14. '/dcs04/lieber/statsgen/mnagle/mwas/pheno/caud/out/chr13_all.rda'\n",
       "15. '/dcs04/lieber/statsgen/mnagle/mwas/pheno/caud/out/chr13_EA.rda'\n",
       "16. '/dcs04/lieber/statsgen/mnagle/mwas/pheno/caud/out/chr14_AA.rda'\n",
       "17. '/dcs04/lieber/statsgen/mnagle/mwas/pheno/caud/out/chr14_all.rda'\n",
       "18. '/dcs04/lieber/statsgen/mnagle/mwas/pheno/caud/out/chr14_EA.rda'\n",
       "19. '/dcs04/lieber/statsgen/mnagle/mwas/pheno/caud/out/chr15_AA.rda'\n",
       "20. '/dcs04/lieber/statsgen/mnagle/mwas/pheno/caud/out/chr15_all.rda'\n",
       "21. '/dcs04/lieber/statsgen/mnagle/mwas/pheno/caud/out/chr15_EA.rda'\n",
       "22. '/dcs04/lieber/statsgen/mnagle/mwas/pheno/caud/out/chr16_AA.rda'\n",
       "23. '/dcs04/lieber/statsgen/mnagle/mwas/pheno/caud/out/chr16_all.rda'\n",
       "24. '/dcs04/lieber/statsgen/mnagle/mwas/pheno/caud/out/chr16_EA.rda'\n",
       "25. '/dcs04/lieber/statsgen/mnagle/mwas/pheno/caud/out/chr17_AA.rda'\n",
       "26. '/dcs04/lieber/statsgen/mnagle/mwas/pheno/caud/out/chr17_all.rda'\n",
       "27. '/dcs04/lieber/statsgen/mnagle/mwas/pheno/caud/out/chr17_EA.rda'\n",
       "28. '/dcs04/lieber/statsgen/mnagle/mwas/pheno/caud/out/chr18_AA.rda'\n",
       "29. '/dcs04/lieber/statsgen/mnagle/mwas/pheno/caud/out/chr18_all.rda'\n",
       "30. '/dcs04/lieber/statsgen/mnagle/mwas/pheno/caud/out/chr18_EA.rda'\n",
       "31. '/dcs04/lieber/statsgen/mnagle/mwas/pheno/caud/out/chr19_AA.rda'\n",
       "32. '/dcs04/lieber/statsgen/mnagle/mwas/pheno/caud/out/chr19_all.rda'\n",
       "33. '/dcs04/lieber/statsgen/mnagle/mwas/pheno/caud/out/chr19_EA.rda'\n",
       "34. '/dcs04/lieber/statsgen/mnagle/mwas/pheno/caud/out/chr2_AA.rda'\n",
       "35. '/dcs04/lieber/statsgen/mnagle/mwas/pheno/caud/out/chr2_all.rda'\n",
       "36. '/dcs04/lieber/statsgen/mnagle/mwas/pheno/caud/out/chr2_EA.rda'\n",
       "37. '/dcs04/lieber/statsgen/mnagle/mwas/pheno/caud/out/chr20_AA.rda'\n",
       "38. '/dcs04/lieber/statsgen/mnagle/mwas/pheno/caud/out/chr20_all.rda'\n",
       "39. '/dcs04/lieber/statsgen/mnagle/mwas/pheno/caud/out/chr20_EA.rda'\n",
       "40. '/dcs04/lieber/statsgen/mnagle/mwas/pheno/caud/out/chr21_AA.rda'\n",
       "41. '/dcs04/lieber/statsgen/mnagle/mwas/pheno/caud/out/chr21_all.rda'\n",
       "42. '/dcs04/lieber/statsgen/mnagle/mwas/pheno/caud/out/chr21_EA.rda'\n",
       "43. '/dcs04/lieber/statsgen/mnagle/mwas/pheno/caud/out/chr22_AA.rda'\n",
       "44. '/dcs04/lieber/statsgen/mnagle/mwas/pheno/caud/out/chr22_all.rda'\n",
       "45. '/dcs04/lieber/statsgen/mnagle/mwas/pheno/caud/out/chr22_EA.rda'\n",
       "46. '/dcs04/lieber/statsgen/mnagle/mwas/pheno/caud/out/chr3_AA.rda'\n",
       "47. '/dcs04/lieber/statsgen/mnagle/mwas/pheno/caud/out/chr3_all.rda'\n",
       "48. '/dcs04/lieber/statsgen/mnagle/mwas/pheno/caud/out/chr3_EA.rda'\n",
       "49. '/dcs04/lieber/statsgen/mnagle/mwas/pheno/caud/out/chr4_AA.rda'\n",
       "50. '/dcs04/lieber/statsgen/mnagle/mwas/pheno/caud/out/chr4_all.rda'\n",
       "51. '/dcs04/lieber/statsgen/mnagle/mwas/pheno/caud/out/chr4_EA.rda'\n",
       "52. '/dcs04/lieber/statsgen/mnagle/mwas/pheno/caud/out/chr5_AA.rda'\n",
       "53. '/dcs04/lieber/statsgen/mnagle/mwas/pheno/caud/out/chr5_all.rda'\n",
       "54. '/dcs04/lieber/statsgen/mnagle/mwas/pheno/caud/out/chr5_EA.rda'\n",
       "55. '/dcs04/lieber/statsgen/mnagle/mwas/pheno/caud/out/chr6_AA.rda'\n",
       "56. '/dcs04/lieber/statsgen/mnagle/mwas/pheno/caud/out/chr6_all.rda'\n",
       "57. '/dcs04/lieber/statsgen/mnagle/mwas/pheno/caud/out/chr6_EA.rda'\n",
       "58. '/dcs04/lieber/statsgen/mnagle/mwas/pheno/caud/out/chr7_AA.rda'\n",
       "59. '/dcs04/lieber/statsgen/mnagle/mwas/pheno/caud/out/chr7_all.rda'\n",
       "60. '/dcs04/lieber/statsgen/mnagle/mwas/pheno/caud/out/chr7_EA.rda'\n",
       "61. '/dcs04/lieber/statsgen/mnagle/mwas/pheno/caud/out/chr8_AA.rda'\n",
       "62. '/dcs04/lieber/statsgen/mnagle/mwas/pheno/caud/out/chr8_all.rda'\n",
       "63. '/dcs04/lieber/statsgen/mnagle/mwas/pheno/caud/out/chr8_EA.rda'\n",
       "64. '/dcs04/lieber/statsgen/mnagle/mwas/pheno/caud/out/chr9_AA.rda'\n",
       "65. '/dcs04/lieber/statsgen/mnagle/mwas/pheno/caud/out/chr9_all.rda'\n",
       "66. '/dcs04/lieber/statsgen/mnagle/mwas/pheno/caud/out/chr9_EA.rda'\n",
       "67. '/dcs04/lieber/statsgen/mnagle/mwas/pheno/caud/out/pc_AA.csv'\n",
       "68. '/dcs04/lieber/statsgen/mnagle/mwas/pheno/caud/out/pc_EA.csv'\n",
       "\n",
       "\n"
      ],
      "text/plain": [
       " [1] \"/dcs04/lieber/statsgen/mnagle/mwas/pheno/caud/out/chr1_AA.rda\"  \n",
       " [2] \"/dcs04/lieber/statsgen/mnagle/mwas/pheno/caud/out/chr1_all.rda\" \n",
       " [3] \"/dcs04/lieber/statsgen/mnagle/mwas/pheno/caud/out/chr1_EA.rda\"  \n",
       " [4] \"/dcs04/lieber/statsgen/mnagle/mwas/pheno/caud/out/chr10_AA.rda\" \n",
       " [5] \"/dcs04/lieber/statsgen/mnagle/mwas/pheno/caud/out/chr10_all.rda\"\n",
       " [6] \"/dcs04/lieber/statsgen/mnagle/mwas/pheno/caud/out/chr10_EA.rda\" \n",
       " [7] \"/dcs04/lieber/statsgen/mnagle/mwas/pheno/caud/out/chr11_AA.rda\" \n",
       " [8] \"/dcs04/lieber/statsgen/mnagle/mwas/pheno/caud/out/chr11_all.rda\"\n",
       " [9] \"/dcs04/lieber/statsgen/mnagle/mwas/pheno/caud/out/chr11_EA.rda\" \n",
       "[10] \"/dcs04/lieber/statsgen/mnagle/mwas/pheno/caud/out/chr12_AA.rda\" \n",
       "[11] \"/dcs04/lieber/statsgen/mnagle/mwas/pheno/caud/out/chr12_all.rda\"\n",
       "[12] \"/dcs04/lieber/statsgen/mnagle/mwas/pheno/caud/out/chr12_EA.rda\" \n",
       "[13] \"/dcs04/lieber/statsgen/mnagle/mwas/pheno/caud/out/chr13_AA.rda\" \n",
       "[14] \"/dcs04/lieber/statsgen/mnagle/mwas/pheno/caud/out/chr13_all.rda\"\n",
       "[15] \"/dcs04/lieber/statsgen/mnagle/mwas/pheno/caud/out/chr13_EA.rda\" \n",
       "[16] \"/dcs04/lieber/statsgen/mnagle/mwas/pheno/caud/out/chr14_AA.rda\" \n",
       "[17] \"/dcs04/lieber/statsgen/mnagle/mwas/pheno/caud/out/chr14_all.rda\"\n",
       "[18] \"/dcs04/lieber/statsgen/mnagle/mwas/pheno/caud/out/chr14_EA.rda\" \n",
       "[19] \"/dcs04/lieber/statsgen/mnagle/mwas/pheno/caud/out/chr15_AA.rda\" \n",
       "[20] \"/dcs04/lieber/statsgen/mnagle/mwas/pheno/caud/out/chr15_all.rda\"\n",
       "[21] \"/dcs04/lieber/statsgen/mnagle/mwas/pheno/caud/out/chr15_EA.rda\" \n",
       "[22] \"/dcs04/lieber/statsgen/mnagle/mwas/pheno/caud/out/chr16_AA.rda\" \n",
       "[23] \"/dcs04/lieber/statsgen/mnagle/mwas/pheno/caud/out/chr16_all.rda\"\n",
       "[24] \"/dcs04/lieber/statsgen/mnagle/mwas/pheno/caud/out/chr16_EA.rda\" \n",
       "[25] \"/dcs04/lieber/statsgen/mnagle/mwas/pheno/caud/out/chr17_AA.rda\" \n",
       "[26] \"/dcs04/lieber/statsgen/mnagle/mwas/pheno/caud/out/chr17_all.rda\"\n",
       "[27] \"/dcs04/lieber/statsgen/mnagle/mwas/pheno/caud/out/chr17_EA.rda\" \n",
       "[28] \"/dcs04/lieber/statsgen/mnagle/mwas/pheno/caud/out/chr18_AA.rda\" \n",
       "[29] \"/dcs04/lieber/statsgen/mnagle/mwas/pheno/caud/out/chr18_all.rda\"\n",
       "[30] \"/dcs04/lieber/statsgen/mnagle/mwas/pheno/caud/out/chr18_EA.rda\" \n",
       "[31] \"/dcs04/lieber/statsgen/mnagle/mwas/pheno/caud/out/chr19_AA.rda\" \n",
       "[32] \"/dcs04/lieber/statsgen/mnagle/mwas/pheno/caud/out/chr19_all.rda\"\n",
       "[33] \"/dcs04/lieber/statsgen/mnagle/mwas/pheno/caud/out/chr19_EA.rda\" \n",
       "[34] \"/dcs04/lieber/statsgen/mnagle/mwas/pheno/caud/out/chr2_AA.rda\"  \n",
       "[35] \"/dcs04/lieber/statsgen/mnagle/mwas/pheno/caud/out/chr2_all.rda\" \n",
       "[36] \"/dcs04/lieber/statsgen/mnagle/mwas/pheno/caud/out/chr2_EA.rda\"  \n",
       "[37] \"/dcs04/lieber/statsgen/mnagle/mwas/pheno/caud/out/chr20_AA.rda\" \n",
       "[38] \"/dcs04/lieber/statsgen/mnagle/mwas/pheno/caud/out/chr20_all.rda\"\n",
       "[39] \"/dcs04/lieber/statsgen/mnagle/mwas/pheno/caud/out/chr20_EA.rda\" \n",
       "[40] \"/dcs04/lieber/statsgen/mnagle/mwas/pheno/caud/out/chr21_AA.rda\" \n",
       "[41] \"/dcs04/lieber/statsgen/mnagle/mwas/pheno/caud/out/chr21_all.rda\"\n",
       "[42] \"/dcs04/lieber/statsgen/mnagle/mwas/pheno/caud/out/chr21_EA.rda\" \n",
       "[43] \"/dcs04/lieber/statsgen/mnagle/mwas/pheno/caud/out/chr22_AA.rda\" \n",
       "[44] \"/dcs04/lieber/statsgen/mnagle/mwas/pheno/caud/out/chr22_all.rda\"\n",
       "[45] \"/dcs04/lieber/statsgen/mnagle/mwas/pheno/caud/out/chr22_EA.rda\" \n",
       "[46] \"/dcs04/lieber/statsgen/mnagle/mwas/pheno/caud/out/chr3_AA.rda\"  \n",
       "[47] \"/dcs04/lieber/statsgen/mnagle/mwas/pheno/caud/out/chr3_all.rda\" \n",
       "[48] \"/dcs04/lieber/statsgen/mnagle/mwas/pheno/caud/out/chr3_EA.rda\"  \n",
       "[49] \"/dcs04/lieber/statsgen/mnagle/mwas/pheno/caud/out/chr4_AA.rda\"  \n",
       "[50] \"/dcs04/lieber/statsgen/mnagle/mwas/pheno/caud/out/chr4_all.rda\" \n",
       "[51] \"/dcs04/lieber/statsgen/mnagle/mwas/pheno/caud/out/chr4_EA.rda\"  \n",
       "[52] \"/dcs04/lieber/statsgen/mnagle/mwas/pheno/caud/out/chr5_AA.rda\"  \n",
       "[53] \"/dcs04/lieber/statsgen/mnagle/mwas/pheno/caud/out/chr5_all.rda\" \n",
       "[54] \"/dcs04/lieber/statsgen/mnagle/mwas/pheno/caud/out/chr5_EA.rda\"  \n",
       "[55] \"/dcs04/lieber/statsgen/mnagle/mwas/pheno/caud/out/chr6_AA.rda\"  \n",
       "[56] \"/dcs04/lieber/statsgen/mnagle/mwas/pheno/caud/out/chr6_all.rda\" \n",
       "[57] \"/dcs04/lieber/statsgen/mnagle/mwas/pheno/caud/out/chr6_EA.rda\"  \n",
       "[58] \"/dcs04/lieber/statsgen/mnagle/mwas/pheno/caud/out/chr7_AA.rda\"  \n",
       "[59] \"/dcs04/lieber/statsgen/mnagle/mwas/pheno/caud/out/chr7_all.rda\" \n",
       "[60] \"/dcs04/lieber/statsgen/mnagle/mwas/pheno/caud/out/chr7_EA.rda\"  \n",
       "[61] \"/dcs04/lieber/statsgen/mnagle/mwas/pheno/caud/out/chr8_AA.rda\"  \n",
       "[62] \"/dcs04/lieber/statsgen/mnagle/mwas/pheno/caud/out/chr8_all.rda\" \n",
       "[63] \"/dcs04/lieber/statsgen/mnagle/mwas/pheno/caud/out/chr8_EA.rda\"  \n",
       "[64] \"/dcs04/lieber/statsgen/mnagle/mwas/pheno/caud/out/chr9_AA.rda\"  \n",
       "[65] \"/dcs04/lieber/statsgen/mnagle/mwas/pheno/caud/out/chr9_all.rda\" \n",
       "[66] \"/dcs04/lieber/statsgen/mnagle/mwas/pheno/caud/out/chr9_EA.rda\"  \n",
       "[67] \"/dcs04/lieber/statsgen/mnagle/mwas/pheno/caud/out/pc_AA.csv\"    \n",
       "[68] \"/dcs04/lieber/statsgen/mnagle/mwas/pheno/caud/out/pc_EA.csv\"    "
      ]
     },
     "metadata": {},
     "output_type": "display_data"
    }
   ],
   "source": [
    "files"
   ]
  },
  {
   "cell_type": "code",
   "execution_count": 7,
   "id": "4a6d32a8-a3d2-4e37-8778-280b71bc3bb3",
   "metadata": {},
   "outputs": [
    {
     "data": {
      "text/html": [
       "'files'"
      ],
      "text/latex": [
       "'files'"
      ],
      "text/markdown": [
       "'files'"
      ],
      "text/plain": [
       "[1] \"files\""
      ]
     },
     "metadata": {},
     "output_type": "display_data"
    }
   ],
   "source": [
    "ls()"
   ]
  },
  {
   "cell_type": "code",
   "execution_count": 8,
   "id": "c07b486c-c185-4e4b-a9be-22dd7413bc77",
   "metadata": {},
   "outputs": [],
   "source": [
    "load(files[1])"
   ]
  },
  {
   "cell_type": "code",
   "execution_count": 9,
   "id": "570a1039-b3fb-4df1-a9c3-59059a076bb5",
   "metadata": {},
   "outputs": [
    {
     "data": {
      "text/html": [
       "<style>\n",
       ".list-inline {list-style: none; margin:0; padding: 0}\n",
       ".list-inline>li {display: inline-block}\n",
       ".list-inline>li:not(:last-child)::after {content: \"\\00b7\"; padding: 0 .5ex}\n",
       "</style>\n",
       "<ol class=list-inline><li>'BSobj2'</li><li>'files'</li><li>'means'</li><li>'sds'</li></ol>\n"
      ],
      "text/latex": [
       "\\begin{enumerate*}\n",
       "\\item 'BSobj2'\n",
       "\\item 'files'\n",
       "\\item 'means'\n",
       "\\item 'sds'\n",
       "\\end{enumerate*}\n"
      ],
      "text/markdown": [
       "1. 'BSobj2'\n",
       "2. 'files'\n",
       "3. 'means'\n",
       "4. 'sds'\n",
       "\n",
       "\n"
      ],
      "text/plain": [
       "[1] \"BSobj2\" \"files\"  \"means\"  \"sds\"   "
      ]
     },
     "metadata": {},
     "output_type": "display_data"
    }
   ],
   "source": [
    "ls()"
   ]
  },
  {
   "cell_type": "code",
   "execution_count": 10,
   "id": "e1b6ce73-fe09-4db3-a5fa-745b01ae9a97",
   "metadata": {
    "collapsed": true,
    "jupyter": {
     "outputs_hidden": true
    },
    "tags": []
   },
   "outputs": [
    {
     "name": "stderr",
     "output_type": "stream",
     "text": [
      "Loading required package: GenomicRanges\n",
      "\n",
      "Loading required package: stats4\n",
      "\n",
      "Loading required package: BiocGenerics\n",
      "\n",
      "\n",
      "Attaching package: ‘BiocGenerics’\n",
      "\n",
      "\n",
      "The following objects are masked from ‘package:stats’:\n",
      "\n",
      "    IQR, mad, sd, var, xtabs\n",
      "\n",
      "\n",
      "The following objects are masked from ‘package:base’:\n",
      "\n",
      "    anyDuplicated, aperm, append, as.data.frame, basename, cbind,\n",
      "    colnames, dirname, do.call, duplicated, eval, evalq, Filter, Find,\n",
      "    get, grep, grepl, intersect, is.unsorted, lapply, Map, mapply,\n",
      "    match, mget, order, paste, pmax, pmax.int, pmin, pmin.int,\n",
      "    Position, rank, rbind, Reduce, rownames, sapply, setdiff, sort,\n",
      "    table, tapply, union, unique, unsplit, which.max, which.min\n",
      "\n",
      "\n",
      "Loading required package: S4Vectors\n",
      "\n",
      "\n",
      "Attaching package: ‘S4Vectors’\n",
      "\n",
      "\n",
      "The following object is masked from ‘package:utils’:\n",
      "\n",
      "    findMatches\n",
      "\n",
      "\n",
      "The following objects are masked from ‘package:base’:\n",
      "\n",
      "    expand.grid, I, unname\n",
      "\n",
      "\n",
      "Loading required package: IRanges\n",
      "\n",
      "Loading required package: GenomeInfoDb\n",
      "\n",
      "Loading required package: SummarizedExperiment\n",
      "\n",
      "Loading required package: MatrixGenerics\n",
      "\n",
      "Loading required package: matrixStats\n",
      "\n",
      "\n",
      "Attaching package: ‘MatrixGenerics’\n",
      "\n",
      "\n",
      "The following objects are masked from ‘package:matrixStats’:\n",
      "\n",
      "    colAlls, colAnyNAs, colAnys, colAvgsPerRowSet, colCollapse,\n",
      "    colCounts, colCummaxs, colCummins, colCumprods, colCumsums,\n",
      "    colDiffs, colIQRDiffs, colIQRs, colLogSumExps, colMadDiffs,\n",
      "    colMads, colMaxs, colMeans2, colMedians, colMins, colOrderStats,\n",
      "    colProds, colQuantiles, colRanges, colRanks, colSdDiffs, colSds,\n",
      "    colSums2, colTabulates, colVarDiffs, colVars, colWeightedMads,\n",
      "    colWeightedMeans, colWeightedMedians, colWeightedSds,\n",
      "    colWeightedVars, rowAlls, rowAnyNAs, rowAnys, rowAvgsPerColSet,\n",
      "    rowCollapse, rowCounts, rowCummaxs, rowCummins, rowCumprods,\n",
      "    rowCumsums, rowDiffs, rowIQRDiffs, rowIQRs, rowLogSumExps,\n",
      "    rowMadDiffs, rowMads, rowMaxs, rowMeans2, rowMedians, rowMins,\n",
      "    rowOrderStats, rowProds, rowQuantiles, rowRanges, rowRanks,\n",
      "    rowSdDiffs, rowSds, rowSums2, rowTabulates, rowVarDiffs, rowVars,\n",
      "    rowWeightedMads, rowWeightedMeans, rowWeightedMedians,\n",
      "    rowWeightedSds, rowWeightedVars\n",
      "\n",
      "\n",
      "Loading required package: Biobase\n",
      "\n",
      "Welcome to Bioconductor\n",
      "\n",
      "    Vignettes contain introductory material; view with\n",
      "    'browseVignettes()'. To cite Bioconductor, see\n",
      "    'citation(\"Biobase\")', and for packages 'citation(\"pkgname\")'.\n",
      "\n",
      "\n",
      "\n",
      "Attaching package: ‘Biobase’\n",
      "\n",
      "\n",
      "The following object is masked from ‘package:MatrixGenerics’:\n",
      "\n",
      "    rowMedians\n",
      "\n",
      "\n",
      "The following objects are masked from ‘package:matrixStats’:\n",
      "\n",
      "    anyMissing, rowMedians\n",
      "\n",
      "\n"
     ]
    },
    {
     "data": {
      "text/plain": [
       "$trans\n",
       "standardGeneric for \"plogis\" defined from package \"stats\"\n",
       "\n",
       "function (q, location = 0, scale = 1, lower.tail = TRUE, log.p = FALSE) \n",
       "standardGeneric(\"plogis\")\n",
       "<environment: 0x74284d8>\n",
       "Methods may be defined for arguments: q, location, scale, lower.tail, log.p\n",
       "Use  showMethods(plogis)  for currently available ones.\n",
       "\n",
       "$parameters\n",
       "$parameters$smoothText\n",
       "[1] \"BSmooth (ns = 70, h = 1000, maxGap = 100000000)\"\n",
       "\n",
       "$parameters$ns\n",
       "[1] 70\n",
       "\n",
       "$parameters$h\n",
       "[1] 1000\n",
       "\n",
       "$parameters$maxGap\n",
       "[1] 1e+08\n",
       "\n",
       "\n",
       "$rowRanges\n",
       "GRanges object with 2202819 ranges and 0 metadata columns:\n",
       "            seqnames    ranges strand\n",
       "               <Rle> <IRanges>  <Rle>\n",
       "        [1]     chr1    792731      *\n",
       "        [2]     chr1    792910      *\n",
       "        [3]     chr1    792972      *\n",
       "        [4]     chr1    793022      *\n",
       "        [5]     chr1    793225      *\n",
       "        ...      ...       ...    ...\n",
       "  [2202815]     chr1 248932167      *\n",
       "  [2202816]     chr1 248932279      *\n",
       "  [2202817]     chr1 248932383      *\n",
       "  [2202818]     chr1 248932432      *\n",
       "  [2202819]     chr1 248932459      *\n",
       "  -------\n",
       "  seqinfo: 26 sequences from an unspecified genome; no seqlengths\n",
       "\n",
       "$colData\n",
       "DataFrame with 164 rows and 10 columns\n",
       "                 ID       brnum has_genotype   source  agedeath      sex\n",
       "        <character> <character>    <logical> <factor> <numeric> <factor>\n",
       "1   LIBD1633_190509      Br0836         TRUE       DC     20.77        M\n",
       "2   LIBD1654_190509      Br0845         TRUE       DC     24.79        M\n",
       "3   LIBD1508_190509      Br0848         TRUE       DC     22.71        M\n",
       "4   LIBD1655_190509      Br0863         TRUE       DC     43.85        M\n",
       "5   LIBD1604_190509      Br0914         TRUE       DC     19.69        F\n",
       "...             ...         ...          ...      ...       ...      ...\n",
       "160 LIBD1416_190509      Br5330         TRUE    MD ME     50.48        M\n",
       "161 LIBD1427_190509      Br5426         TRUE    MD ME     48.75        F\n",
       "162 LIBD1613_190509      Br5460        FALSE    MD ME     61.34        M\n",
       "163 LIBD1539_190509      Br5467         TRUE    MD ME     47.52        M\n",
       "164 LIBD1614_190509      Br5475        FALSE    MD ME     60.64        M\n",
       "        race primarydx       pmi        ph\n",
       "    <factor>  <factor> <numeric> <numeric>\n",
       "1         AA   Control      25.5      6.46\n",
       "2         AA   Control      43.5      6.94\n",
       "3         AA   Control      38.5      6.57\n",
       "4         AA   Control      24.5      6.57\n",
       "5         AA   Control      19.0      6.98\n",
       "...      ...       ...       ...       ...\n",
       "160       AA   Control      32.5      6.31\n",
       "161       AA   Control      26.0      6.43\n",
       "162       AA   Control      50.5        NA\n",
       "163       AA   Schizo       11.0      6.43\n",
       "164       AA   Schizo       28.0        NA\n",
       "\n",
       "$assays\n",
       "An object of class \"SimpleAssays\"\n",
       "Slot \"data\":\n",
       "List of length 3\n",
       "names(3): M Cov coef\n",
       "\n",
       "\n",
       "$NAMES\n",
       "`\\001NULL\\001`\n",
       "\n",
       "$elementMetadata\n",
       "DataFrame with 2202819 rows and 0 columns\n",
       "\n",
       "$metadata\n",
       "list()\n",
       "\n",
       "$class\n",
       "[1] \"BSseq\"\n",
       "attr(,\"package\")\n",
       "[1] \"bsseq\"\n"
      ]
     },
     "metadata": {},
     "output_type": "display_data"
    }
   ],
   "source": [
    "attributes(BSobj2)"
   ]
  },
  {
   "cell_type": "code",
   "execution_count": 11,
   "id": "2f655db7-c279-433d-bd43-4456da27ee5f",
   "metadata": {},
   "outputs": [
    {
     "data": {
      "text/html": [
       "<style>\n",
       ".list-inline {list-style: none; margin:0; padding: 0}\n",
       ".list-inline>li {display: inline-block}\n",
       ".list-inline>li:not(:last-child)::after {content: \"\\00b7\"; padding: 0 .5ex}\n",
       "</style>\n",
       "<ol class=list-inline><li>0.923409383894649</li><li>0.923890337829919</li><li>0.923631844771293</li><li>0.923228712819302</li><li>0.919711596120554</li><li>0.908392239457602</li></ol>\n"
      ],
      "text/latex": [
       "\\begin{enumerate*}\n",
       "\\item 0.923409383894649\n",
       "\\item 0.923890337829919\n",
       "\\item 0.923631844771293\n",
       "\\item 0.923228712819302\n",
       "\\item 0.919711596120554\n",
       "\\item 0.908392239457602\n",
       "\\end{enumerate*}\n"
      ],
      "text/markdown": [
       "1. 0.923409383894649\n",
       "2. 0.923890337829919\n",
       "3. 0.923631844771293\n",
       "4. 0.923228712819302\n",
       "5. 0.919711596120554\n",
       "6. 0.908392239457602\n",
       "\n",
       "\n"
      ],
      "text/plain": [
       "[1] 0.9234094 0.9238903 0.9236318 0.9232287 0.9197116 0.9083922"
      ]
     },
     "metadata": {},
     "output_type": "display_data"
    }
   ],
   "source": [
    "head(means)"
   ]
  },
  {
   "cell_type": "code",
   "execution_count": 12,
   "id": "4e214b35-371b-436d-80a6-36b56cd6d2b2",
   "metadata": {},
   "outputs": [
    {
     "data": {
      "text/html": [
       "<style>\n",
       ".list-inline {list-style: none; margin:0; padding: 0}\n",
       ".list-inline>li {display: inline-block}\n",
       ".list-inline>li:not(:last-child)::after {content: \"\\00b7\"; padding: 0 .5ex}\n",
       "</style>\n",
       "<ol class=list-inline><li>0.0212564851027664</li><li>0.0208750355857009</li><li>0.0209512391450074</li><li>0.021063430533494</li><li>0.0218500747895529</li><li>0.0244563572198891</li></ol>\n"
      ],
      "text/latex": [
       "\\begin{enumerate*}\n",
       "\\item 0.0212564851027664\n",
       "\\item 0.0208750355857009\n",
       "\\item 0.0209512391450074\n",
       "\\item 0.021063430533494\n",
       "\\item 0.0218500747895529\n",
       "\\item 0.0244563572198891\n",
       "\\end{enumerate*}\n"
      ],
      "text/markdown": [
       "1. 0.0212564851027664\n",
       "2. 0.0208750355857009\n",
       "3. 0.0209512391450074\n",
       "4. 0.021063430533494\n",
       "5. 0.0218500747895529\n",
       "6. 0.0244563572198891\n",
       "\n",
       "\n"
      ],
      "text/plain": [
       "[1] 0.02125649 0.02087504 0.02095124 0.02106343 0.02185007 0.02445636"
      ]
     },
     "metadata": {},
     "output_type": "display_data"
    }
   ],
   "source": [
    "head(sds)"
   ]
  },
  {
   "cell_type": "code",
   "execution_count": 13,
   "id": "df140d4b-98d0-4e6a-84de-d306596b1bc8",
   "metadata": {},
   "outputs": [
    {
     "name": "stderr",
     "output_type": "stream",
     "text": [
      "Loading required package: bsseq\n",
      "\n"
     ]
    }
   ],
   "source": [
    "head(BSobj2)"
   ]
  },
  {
   "cell_type": "raw",
   "id": "028d5aca-5e61-4a59-9624-15ec5b46516d",
   "metadata": {},
   "source": [
    "In jupyter console, I see this error:\n",
    "\n",
    "ERROR: Error in handle_error! Error in skip_repeated(calls): no slot of name \"as_sparse\" for this object of class \"HDF5ArraySeed\"\n",
    "\n",
    "ERROR: Caused when handling Error in .Call2(\"C_h5getdimscales\", filepath, name, scalename, PACKAGE = \"HDF5Array\"): file '/dcl02/lieber/WGBS/psychENCODE_szControl/Batch3/bs_objs/batch3_combined/CpGassays.h5' does not exist"
   ]
  },
  {
   "cell_type": "code",
   "execution_count": 15,
   "id": "b0ea97d0-2553-4604-b844-0f80f483a0ad",
   "metadata": {},
   "outputs": [
    {
     "name": "stderr",
     "output_type": "stream",
     "text": [
      "Loading required package: DelayedArray\n",
      "\n",
      "Loading required package: Matrix\n",
      "\n",
      "\n",
      "Attaching package: ‘Matrix’\n",
      "\n",
      "\n",
      "The following object is masked from ‘package:S4Vectors’:\n",
      "\n",
      "    expand\n",
      "\n",
      "\n",
      "Loading required package: S4Arrays\n",
      "\n",
      "Loading required package: abind\n",
      "\n",
      "\n",
      "Attaching package: ‘S4Arrays’\n",
      "\n",
      "\n",
      "The following object is masked from ‘package:abind’:\n",
      "\n",
      "    abind\n",
      "\n",
      "\n",
      "The following object is masked from ‘package:base’:\n",
      "\n",
      "    rowsum\n",
      "\n",
      "\n",
      "Loading required package: SparseArray\n",
      "\n",
      "\n",
      "Attaching package: ‘DelayedArray’\n",
      "\n",
      "\n",
      "The following objects are masked from ‘package:base’:\n",
      "\n",
      "    apply, scale, sweep\n",
      "\n",
      "\n",
      "Loading required package: rhdf5\n",
      "\n",
      "\n",
      "Attaching package: ‘HDF5Array’\n",
      "\n",
      "\n",
      "The following object is masked from ‘package:rhdf5’:\n",
      "\n",
      "    h5ls\n",
      "\n",
      "\n"
     ]
    }
   ],
   "source": [
    "library(HDF5Array)"
   ]
  },
  {
   "cell_type": "code",
   "execution_count": null,
   "id": "7a226760-d238-4517-9e94-14d107e5fbb8",
   "metadata": {},
   "outputs": [],
   "source": []
  }
 ],
 "metadata": {
  "kernelspec": {
   "display_name": "R",
   "language": "R",
   "name": "ir"
  },
  "language_info": {
   "codemirror_mode": "r",
   "file_extension": ".r",
   "mimetype": "text/x-r-source",
   "name": "R",
   "pygments_lexer": "r",
   "version": "4.3.1"
  }
 },
 "nbformat": 4,
 "nbformat_minor": 5
}
