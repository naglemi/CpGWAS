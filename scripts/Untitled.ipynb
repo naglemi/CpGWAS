{
 "cells": [
  {
   "cell_type": "markdown",
   "id": "ec803619-7ddc-467d-85f8-f4a936ed29a5",
   "metadata": {},
   "source": [
    "# Inspect and summarize SLURM benchmarks"
   ]
  },
  {
   "cell_type": "markdown",
   "id": "8a74823d-20cd-4f39-8af6-5f7a71512907",
   "metadata": {},
   "source": [
    "## Overview"
   ]
  },
  {
   "cell_type": "markdown",
   "id": "b83b4000-f5a3-4aa3-b4cd-d425040bf72b",
   "metadata": {},
   "source": [
    "## Load, merge and compare benchmark summary `csv`s"
   ]
  },
  {
   "cell_type": "markdown",
   "id": "822fa4a3-4549-4b81-86c5-32deb17b9f68",
   "metadata": {},
   "source": [
    "We need a function to compare our SLURM summary output files and highlight differences in a table."
   ]
  },
  {
   "cell_type": "code",
   "execution_count": 1,
   "id": "6a868b78-f112-4f01-a0e0-e27892e35fdb",
   "metadata": {},
   "outputs": [
    {
     "name": "stderr",
     "output_type": "stream",
     "text": [
      "\n",
      "Attaching package: ‘dplyr’\n",
      "\n",
      "\n",
      "The following objects are masked from ‘package:stats’:\n",
      "\n",
      "    filter, lag\n",
      "\n",
      "\n",
      "The following objects are masked from ‘package:base’:\n",
      "\n",
      "    intersect, setdiff, setequal, union\n",
      "\n",
      "\n"
     ]
    }
   ],
   "source": [
    "library(dplyr)\n",
    "library(tidyr)\n",
    "\n",
    "read_and_summarize_differences <- function(directory) {\n",
    "  # List all CSV files in the directory\n",
    "  files <- list.files(directory, pattern = \"\\\\.csv$\", full.names = TRUE)\n",
    "  \n",
    "  # Read each file and store in a list\n",
    "  data_list <- lapply(files, function(file) {\n",
    "    data <- read.csv(file)\n",
    "    # Add a column to identify the source file\n",
    "    data$Source <- basename(file)\n",
    "    return(data)\n",
    "  })\n",
    "  \n",
    "  # Combine all data frames into one\n",
    "  combined_data <- bind_rows(data_list)\n",
    "  \n",
    "  # Spread the data to wide format for comparison\n",
    "  wide_data <- spread(combined_data, key = Parameter, value = Value)\n",
    "  \n",
    "  # Identify rows with at least one difference in values\n",
    "  differing_rows <- wide_data %>%\n",
    "    summarise(across(-Source, ~n_distinct(.) > 1)) %>%\n",
    "    select(which(colSums(.) > 0)) %>%\n",
    "    names()\n",
    "  \n",
    "  # Filter the combined data to include only differing parameters\n",
    "  summary_data <- combined_data %>%\n",
    "    filter(Parameter %in% differing_rows) %>%\n",
    "    select(Parameter, Source, Value)\n",
    "  \n",
    "  # Pivot wider for a clearer summary table, if necessary\n",
    "  summary_table <- summary_data %>%\n",
    "    pivot_wider(names_from = Source, values_from = Value)\n",
    "  \n",
    "  return(summary_table)\n",
    "}"
   ]
  },
  {
   "cell_type": "code",
   "execution_count": 2,
   "id": "691fc1f5-c533-4895-a92e-c059d1709534",
   "metadata": {},
   "outputs": [
    {
     "data": {
      "text/html": [
       "<table class=\"dataframe\">\n",
       "<caption>A tibble: 12 × 7</caption>\n",
       "<thead>\n",
       "\t<tr><th scope=col>Parameter</th><th scope=col>libd_chr1-chr1_AA-libd_chr1-chr1_AA-1000000-1001000-dynamic-1corestotal-1corepera-20240131-122519-summary.csv</th><th scope=col>libd_chr1-chr1_AA-libd_chr1-chr1_AA-1000000-1001000-dynamic-1corestotal-allcorepera-20240131-122521-summary.csv</th><th scope=col>libd_chr1-chr1_AA-libd_chr1-chr1_AA-1000000-1001000-dynamic-8corestotal-allcorepera-20240131-122522-summary.csv</th><th scope=col>libd_chr1-chr1_AA-libd_chr1-chr1_AA-1000000-1001000-static-1corestotal-1corepera-20240131-122515-summary.csv</th><th scope=col>libd_chr1-chr1_AA-libd_chr1-chr1_AA-1000000-1001000-static-1corestotal-allcorepera-20240131-122517-summary.csv</th><th scope=col>libd_chr1-chr1_AA-libd_chr1-chr1_AA-1000000-1001000-static-8corestotal-allcorepera-20240131-122518-summary.csv</th></tr>\n",
       "\t<tr><th scope=col>&lt;chr&gt;</th><th scope=col>&lt;chr&gt;</th><th scope=col>&lt;chr&gt;</th><th scope=col>&lt;chr&gt;</th><th scope=col>&lt;chr&gt;</th><th scope=col>&lt;chr&gt;</th><th scope=col>&lt;chr&gt;</th></tr>\n",
       "</thead>\n",
       "<tbody>\n",
       "\t<tr><td>cores_per_alpha</td><td>1                                                                                                </td><td>all                                                                                                </td><td>all                                                                                                </td><td>1                                                                                               </td><td>all                                                                                               </td><td>all                                                                                               </td></tr>\n",
       "\t<tr><td>num_cores      </td><td>1                                                                                                </td><td>1                                                                                                  </td><td>8                                                                                                  </td><td>1                                                                                               </td><td>1                                                                                                 </td><td>8                                                                                                 </td></tr>\n",
       "\t<tr><td>tag            </td><td>libd_chr1-chr1_AA-1000000-1001000-dynamic-1corestotal-1corepera-20240131-122519                  </td><td>libd_chr1-chr1_AA-1000000-1001000-dynamic-1corestotal-allcorepera-20240131-122521                  </td><td>libd_chr1-chr1_AA-1000000-1001000-dynamic-8corestotal-allcorepera-20240131-122522                  </td><td>libd_chr1-chr1_AA-1000000-1001000-static-1corestotal-1corepera-20240131-122515                  </td><td>libd_chr1-chr1_AA-1000000-1001000-static-1corestotal-allcorepera-20240131-122517                  </td><td>libd_chr1-chr1_AA-1000000-1001000-static-8corestotal-allcorepera-20240131-122518                  </td></tr>\n",
       "\t<tr><td>cv_eval_mode   </td><td>dynamic                                                                                          </td><td>dynamic                                                                                            </td><td>dynamic                                                                                            </td><td>static                                                                                          </td><td>static                                                                                            </td><td>static                                                                                            </td></tr>\n",
       "\t<tr><td>time_started   </td><td>2024-01-31 12:25:34                                                                              </td><td>2024-01-31 12:25:34                                                                                </td><td>2024-01-31 13:00:31                                                                                </td><td>2024-01-31 12:25:20                                                                             </td><td>2024-01-31 12:25:34                                                                               </td><td>2024-01-31 12:42:26                                                                               </td></tr>\n",
       "\t<tr><td>time_finished  </td><td>2024-02-01 02:28:56                                                                              </td><td>2024-02-01 05:45:21                                                                                </td><td>2024-01-31 23:25:58                                                                                </td><td>2024-01-31 16:51:32                                                                             </td><td>2024-01-31 18:04:38                                                                               </td><td>2024-01-31 14:47:18                                                                               </td></tr>\n",
       "\t<tr><td>runtime        </td><td>14:03:22                                                                                         </td><td>17:19:46                                                                                           </td><td>10:25:26                                                                                           </td><td>04:26:11                                                                                        </td><td>05:39:04                                                                                          </td><td>02:04:51                                                                                          </td></tr>\n",
       "\t<tr><td>type_CPU       </td><td>                      Intel(R) Xeon(R) CPU E5-2650L v3 @ 1.80GHz                                 </td><td>                      Intel(R) Xeon(R) CPU E5-2650L v3 @ 1.80GHz                                   </td><td>                      AMD EPYC 7713 64-Core Processor                                              </td><td>                      Intel(R) Xeon(R) CPU E5-2650L v3 @ 1.80GHz                                </td><td>                      Intel(R) Xeon(R) CPU E5-2650L v3 @ 1.80GHz                                  </td><td>                      AMD EPYC 7713 64-Core Processor                                             </td></tr>\n",
       "\t<tr><td>amount_RAM     </td><td>0.122832637280226                                                                                </td><td>0.122735276818275                                                                                  </td><td>0.983715858310461                                                                                  </td><td>0.122832637280226                                                                               </td><td>0.122832637280226                                                                                 </td><td>0.983715858310461                                                                                 </td></tr>\n",
       "\t<tr><td>number_cores   </td><td>1                                                                                                </td><td>1                                                                                                  </td><td>8                                                                                                  </td><td>1                                                                                               </td><td>1                                                                                                 </td><td>8                                                                                                 </td></tr>\n",
       "\t<tr><td>physical_cores </td><td>24                                                                                               </td><td>24                                                                                                 </td><td>128                                                                                                </td><td>24                                                                                              </td><td>24                                                                                                </td><td>128                                                                                               </td></tr>\n",
       "\t<tr><td>scaffold_ID    </td><td>libd_chr1-chr1_AA-libd_chr1-chr1_AA-1000000-1001000-dynamic-1corestotal-1corepera-20240131-122519</td><td>libd_chr1-chr1_AA-libd_chr1-chr1_AA-1000000-1001000-dynamic-1corestotal-allcorepera-20240131-122521</td><td>libd_chr1-chr1_AA-libd_chr1-chr1_AA-1000000-1001000-dynamic-8corestotal-allcorepera-20240131-122522</td><td>libd_chr1-chr1_AA-libd_chr1-chr1_AA-1000000-1001000-static-1corestotal-1corepera-20240131-122515</td><td>libd_chr1-chr1_AA-libd_chr1-chr1_AA-1000000-1001000-static-1corestotal-allcorepera-20240131-122517</td><td>libd_chr1-chr1_AA-libd_chr1-chr1_AA-1000000-1001000-static-8corestotal-allcorepera-20240131-122518</td></tr>\n",
       "</tbody>\n",
       "</table>\n"
      ],
      "text/latex": [
       "A tibble: 12 × 7\n",
       "\\begin{tabular}{lllllll}\n",
       " Parameter & libd\\_chr1-chr1\\_AA-libd\\_chr1-chr1\\_AA-1000000-1001000-dynamic-1corestotal-1corepera-20240131-122519-summary.csv & libd\\_chr1-chr1\\_AA-libd\\_chr1-chr1\\_AA-1000000-1001000-dynamic-1corestotal-allcorepera-20240131-122521-summary.csv & libd\\_chr1-chr1\\_AA-libd\\_chr1-chr1\\_AA-1000000-1001000-dynamic-8corestotal-allcorepera-20240131-122522-summary.csv & libd\\_chr1-chr1\\_AA-libd\\_chr1-chr1\\_AA-1000000-1001000-static-1corestotal-1corepera-20240131-122515-summary.csv & libd\\_chr1-chr1\\_AA-libd\\_chr1-chr1\\_AA-1000000-1001000-static-1corestotal-allcorepera-20240131-122517-summary.csv & libd\\_chr1-chr1\\_AA-libd\\_chr1-chr1\\_AA-1000000-1001000-static-8corestotal-allcorepera-20240131-122518-summary.csv\\\\\n",
       " <chr> & <chr> & <chr> & <chr> & <chr> & <chr> & <chr>\\\\\n",
       "\\hline\n",
       "\t cores\\_per\\_alpha & 1                                                                                                 & all                                                                                                 & all                                                                                                 & 1                                                                                                & all                                                                                                & all                                                                                               \\\\\n",
       "\t num\\_cores       & 1                                                                                                 & 1                                                                                                   & 8                                                                                                   & 1                                                                                                & 1                                                                                                  & 8                                                                                                 \\\\\n",
       "\t tag             & libd\\_chr1-chr1\\_AA-1000000-1001000-dynamic-1corestotal-1corepera-20240131-122519                   & libd\\_chr1-chr1\\_AA-1000000-1001000-dynamic-1corestotal-allcorepera-20240131-122521                   & libd\\_chr1-chr1\\_AA-1000000-1001000-dynamic-8corestotal-allcorepera-20240131-122522                   & libd\\_chr1-chr1\\_AA-1000000-1001000-static-1corestotal-1corepera-20240131-122515                   & libd\\_chr1-chr1\\_AA-1000000-1001000-static-1corestotal-allcorepera-20240131-122517                   & libd\\_chr1-chr1\\_AA-1000000-1001000-static-8corestotal-allcorepera-20240131-122518                  \\\\\n",
       "\t cv\\_eval\\_mode    & dynamic                                                                                           & dynamic                                                                                             & dynamic                                                                                             & static                                                                                           & static                                                                                             & static                                                                                            \\\\\n",
       "\t time\\_started    & 2024-01-31 12:25:34                                                                               & 2024-01-31 12:25:34                                                                                 & 2024-01-31 13:00:31                                                                                 & 2024-01-31 12:25:20                                                                              & 2024-01-31 12:25:34                                                                                & 2024-01-31 12:42:26                                                                               \\\\\n",
       "\t time\\_finished   & 2024-02-01 02:28:56                                                                               & 2024-02-01 05:45:21                                                                                 & 2024-01-31 23:25:58                                                                                 & 2024-01-31 16:51:32                                                                              & 2024-01-31 18:04:38                                                                                & 2024-01-31 14:47:18                                                                               \\\\\n",
       "\t runtime         & 14:03:22                                                                                          & 17:19:46                                                                                            & 10:25:26                                                                                            & 04:26:11                                                                                         & 05:39:04                                                                                           & 02:04:51                                                                                          \\\\\n",
       "\t type\\_CPU        &                       Intel(R) Xeon(R) CPU E5-2650L v3 @ 1.80GHz                                  &                       Intel(R) Xeon(R) CPU E5-2650L v3 @ 1.80GHz                                    &                       AMD EPYC 7713 64-Core Processor                                               &                       Intel(R) Xeon(R) CPU E5-2650L v3 @ 1.80GHz                                 &                       Intel(R) Xeon(R) CPU E5-2650L v3 @ 1.80GHz                                   &                       AMD EPYC 7713 64-Core Processor                                             \\\\\n",
       "\t amount\\_RAM      & 0.122832637280226                                                                                 & 0.122735276818275                                                                                   & 0.983715858310461                                                                                   & 0.122832637280226                                                                                & 0.122832637280226                                                                                  & 0.983715858310461                                                                                 \\\\\n",
       "\t number\\_cores    & 1                                                                                                 & 1                                                                                                   & 8                                                                                                   & 1                                                                                                & 1                                                                                                  & 8                                                                                                 \\\\\n",
       "\t physical\\_cores  & 24                                                                                                & 24                                                                                                  & 128                                                                                                 & 24                                                                                               & 24                                                                                                 & 128                                                                                               \\\\\n",
       "\t scaffold\\_ID     & libd\\_chr1-chr1\\_AA-libd\\_chr1-chr1\\_AA-1000000-1001000-dynamic-1corestotal-1corepera-20240131-122519 & libd\\_chr1-chr1\\_AA-libd\\_chr1-chr1\\_AA-1000000-1001000-dynamic-1corestotal-allcorepera-20240131-122521 & libd\\_chr1-chr1\\_AA-libd\\_chr1-chr1\\_AA-1000000-1001000-dynamic-8corestotal-allcorepera-20240131-122522 & libd\\_chr1-chr1\\_AA-libd\\_chr1-chr1\\_AA-1000000-1001000-static-1corestotal-1corepera-20240131-122515 & libd\\_chr1-chr1\\_AA-libd\\_chr1-chr1\\_AA-1000000-1001000-static-1corestotal-allcorepera-20240131-122517 & libd\\_chr1-chr1\\_AA-libd\\_chr1-chr1\\_AA-1000000-1001000-static-8corestotal-allcorepera-20240131-122518\\\\\n",
       "\\end{tabular}\n"
      ],
      "text/markdown": [
       "\n",
       "A tibble: 12 × 7\n",
       "\n",
       "| Parameter &lt;chr&gt; | libd_chr1-chr1_AA-libd_chr1-chr1_AA-1000000-1001000-dynamic-1corestotal-1corepera-20240131-122519-summary.csv &lt;chr&gt; | libd_chr1-chr1_AA-libd_chr1-chr1_AA-1000000-1001000-dynamic-1corestotal-allcorepera-20240131-122521-summary.csv &lt;chr&gt; | libd_chr1-chr1_AA-libd_chr1-chr1_AA-1000000-1001000-dynamic-8corestotal-allcorepera-20240131-122522-summary.csv &lt;chr&gt; | libd_chr1-chr1_AA-libd_chr1-chr1_AA-1000000-1001000-static-1corestotal-1corepera-20240131-122515-summary.csv &lt;chr&gt; | libd_chr1-chr1_AA-libd_chr1-chr1_AA-1000000-1001000-static-1corestotal-allcorepera-20240131-122517-summary.csv &lt;chr&gt; | libd_chr1-chr1_AA-libd_chr1-chr1_AA-1000000-1001000-static-8corestotal-allcorepera-20240131-122518-summary.csv &lt;chr&gt; |\n",
       "|---|---|---|---|---|---|---|\n",
       "| cores_per_alpha | 1                                                                                                 | all                                                                                                 | all                                                                                                 | 1                                                                                                | all                                                                                                | all                                                                                                |\n",
       "| num_cores       | 1                                                                                                 | 1                                                                                                   | 8                                                                                                   | 1                                                                                                | 1                                                                                                  | 8                                                                                                  |\n",
       "| tag             | libd_chr1-chr1_AA-1000000-1001000-dynamic-1corestotal-1corepera-20240131-122519                   | libd_chr1-chr1_AA-1000000-1001000-dynamic-1corestotal-allcorepera-20240131-122521                   | libd_chr1-chr1_AA-1000000-1001000-dynamic-8corestotal-allcorepera-20240131-122522                   | libd_chr1-chr1_AA-1000000-1001000-static-1corestotal-1corepera-20240131-122515                   | libd_chr1-chr1_AA-1000000-1001000-static-1corestotal-allcorepera-20240131-122517                   | libd_chr1-chr1_AA-1000000-1001000-static-8corestotal-allcorepera-20240131-122518                   |\n",
       "| cv_eval_mode    | dynamic                                                                                           | dynamic                                                                                             | dynamic                                                                                             | static                                                                                           | static                                                                                             | static                                                                                             |\n",
       "| time_started    | 2024-01-31 12:25:34                                                                               | 2024-01-31 12:25:34                                                                                 | 2024-01-31 13:00:31                                                                                 | 2024-01-31 12:25:20                                                                              | 2024-01-31 12:25:34                                                                                | 2024-01-31 12:42:26                                                                                |\n",
       "| time_finished   | 2024-02-01 02:28:56                                                                               | 2024-02-01 05:45:21                                                                                 | 2024-01-31 23:25:58                                                                                 | 2024-01-31 16:51:32                                                                              | 2024-01-31 18:04:38                                                                                | 2024-01-31 14:47:18                                                                                |\n",
       "| runtime         | 14:03:22                                                                                          | 17:19:46                                                                                            | 10:25:26                                                                                            | 04:26:11                                                                                         | 05:39:04                                                                                           | 02:04:51                                                                                           |\n",
       "| type_CPU        |                       Intel(R) Xeon(R) CPU E5-2650L v3 @ 1.80GHz                                  |                       Intel(R) Xeon(R) CPU E5-2650L v3 @ 1.80GHz                                    |                       AMD EPYC 7713 64-Core Processor                                               |                       Intel(R) Xeon(R) CPU E5-2650L v3 @ 1.80GHz                                 |                       Intel(R) Xeon(R) CPU E5-2650L v3 @ 1.80GHz                                   |                       AMD EPYC 7713 64-Core Processor                                              |\n",
       "| amount_RAM      | 0.122832637280226                                                                                 | 0.122735276818275                                                                                   | 0.983715858310461                                                                                   | 0.122832637280226                                                                                | 0.122832637280226                                                                                  | 0.983715858310461                                                                                  |\n",
       "| number_cores    | 1                                                                                                 | 1                                                                                                   | 8                                                                                                   | 1                                                                                                | 1                                                                                                  | 8                                                                                                  |\n",
       "| physical_cores  | 24                                                                                                | 24                                                                                                  | 128                                                                                                 | 24                                                                                               | 24                                                                                                 | 128                                                                                                |\n",
       "| scaffold_ID     | libd_chr1-chr1_AA-libd_chr1-chr1_AA-1000000-1001000-dynamic-1corestotal-1corepera-20240131-122519 | libd_chr1-chr1_AA-libd_chr1-chr1_AA-1000000-1001000-dynamic-1corestotal-allcorepera-20240131-122521 | libd_chr1-chr1_AA-libd_chr1-chr1_AA-1000000-1001000-dynamic-8corestotal-allcorepera-20240131-122522 | libd_chr1-chr1_AA-libd_chr1-chr1_AA-1000000-1001000-static-1corestotal-1corepera-20240131-122515 | libd_chr1-chr1_AA-libd_chr1-chr1_AA-1000000-1001000-static-1corestotal-allcorepera-20240131-122517 | libd_chr1-chr1_AA-libd_chr1-chr1_AA-1000000-1001000-static-8corestotal-allcorepera-20240131-122518 |\n",
       "\n"
      ],
      "text/plain": [
       "   Parameter      \n",
       "1  cores_per_alpha\n",
       "2  num_cores      \n",
       "3  tag            \n",
       "4  cv_eval_mode   \n",
       "5  time_started   \n",
       "6  time_finished  \n",
       "7  runtime        \n",
       "8  type_CPU       \n",
       "9  amount_RAM     \n",
       "10 number_cores   \n",
       "11 physical_cores \n",
       "12 scaffold_ID    \n",
       "   libd_chr1-chr1_AA-libd_chr1-chr1_AA-1000000-1001000-dynamic-1corestotal-1corepera-20240131-122519-summary.csv\n",
       "1  1                                                                                                            \n",
       "2  1                                                                                                            \n",
       "3  libd_chr1-chr1_AA-1000000-1001000-dynamic-1corestotal-1corepera-20240131-122519                              \n",
       "4  dynamic                                                                                                      \n",
       "5  2024-01-31 12:25:34                                                                                          \n",
       "6  2024-02-01 02:28:56                                                                                          \n",
       "7  14:03:22                                                                                                     \n",
       "8                        Intel(R) Xeon(R) CPU E5-2650L v3 @ 1.80GHz                                             \n",
       "9  0.122832637280226                                                                                            \n",
       "10 1                                                                                                            \n",
       "11 24                                                                                                           \n",
       "12 libd_chr1-chr1_AA-libd_chr1-chr1_AA-1000000-1001000-dynamic-1corestotal-1corepera-20240131-122519            \n",
       "   libd_chr1-chr1_AA-libd_chr1-chr1_AA-1000000-1001000-dynamic-1corestotal-allcorepera-20240131-122521-summary.csv\n",
       "1  all                                                                                                            \n",
       "2  1                                                                                                              \n",
       "3  libd_chr1-chr1_AA-1000000-1001000-dynamic-1corestotal-allcorepera-20240131-122521                              \n",
       "4  dynamic                                                                                                        \n",
       "5  2024-01-31 12:25:34                                                                                            \n",
       "6  2024-02-01 05:45:21                                                                                            \n",
       "7  17:19:46                                                                                                       \n",
       "8                        Intel(R) Xeon(R) CPU E5-2650L v3 @ 1.80GHz                                               \n",
       "9  0.122735276818275                                                                                              \n",
       "10 1                                                                                                              \n",
       "11 24                                                                                                             \n",
       "12 libd_chr1-chr1_AA-libd_chr1-chr1_AA-1000000-1001000-dynamic-1corestotal-allcorepera-20240131-122521            \n",
       "   libd_chr1-chr1_AA-libd_chr1-chr1_AA-1000000-1001000-dynamic-8corestotal-allcorepera-20240131-122522-summary.csv\n",
       "1  all                                                                                                            \n",
       "2  8                                                                                                              \n",
       "3  libd_chr1-chr1_AA-1000000-1001000-dynamic-8corestotal-allcorepera-20240131-122522                              \n",
       "4  dynamic                                                                                                        \n",
       "5  2024-01-31 13:00:31                                                                                            \n",
       "6  2024-01-31 23:25:58                                                                                            \n",
       "7  10:25:26                                                                                                       \n",
       "8                        AMD EPYC 7713 64-Core Processor                                                          \n",
       "9  0.983715858310461                                                                                              \n",
       "10 8                                                                                                              \n",
       "11 128                                                                                                            \n",
       "12 libd_chr1-chr1_AA-libd_chr1-chr1_AA-1000000-1001000-dynamic-8corestotal-allcorepera-20240131-122522            \n",
       "   libd_chr1-chr1_AA-libd_chr1-chr1_AA-1000000-1001000-static-1corestotal-1corepera-20240131-122515-summary.csv\n",
       "1  1                                                                                                           \n",
       "2  1                                                                                                           \n",
       "3  libd_chr1-chr1_AA-1000000-1001000-static-1corestotal-1corepera-20240131-122515                              \n",
       "4  static                                                                                                      \n",
       "5  2024-01-31 12:25:20                                                                                         \n",
       "6  2024-01-31 16:51:32                                                                                         \n",
       "7  04:26:11                                                                                                    \n",
       "8                        Intel(R) Xeon(R) CPU E5-2650L v3 @ 1.80GHz                                            \n",
       "9  0.122832637280226                                                                                           \n",
       "10 1                                                                                                           \n",
       "11 24                                                                                                          \n",
       "12 libd_chr1-chr1_AA-libd_chr1-chr1_AA-1000000-1001000-static-1corestotal-1corepera-20240131-122515            \n",
       "   libd_chr1-chr1_AA-libd_chr1-chr1_AA-1000000-1001000-static-1corestotal-allcorepera-20240131-122517-summary.csv\n",
       "1  all                                                                                                           \n",
       "2  1                                                                                                             \n",
       "3  libd_chr1-chr1_AA-1000000-1001000-static-1corestotal-allcorepera-20240131-122517                              \n",
       "4  static                                                                                                        \n",
       "5  2024-01-31 12:25:34                                                                                           \n",
       "6  2024-01-31 18:04:38                                                                                           \n",
       "7  05:39:04                                                                                                      \n",
       "8                        Intel(R) Xeon(R) CPU E5-2650L v3 @ 1.80GHz                                              \n",
       "9  0.122832637280226                                                                                             \n",
       "10 1                                                                                                             \n",
       "11 24                                                                                                            \n",
       "12 libd_chr1-chr1_AA-libd_chr1-chr1_AA-1000000-1001000-static-1corestotal-allcorepera-20240131-122517            \n",
       "   libd_chr1-chr1_AA-libd_chr1-chr1_AA-1000000-1001000-static-8corestotal-allcorepera-20240131-122518-summary.csv\n",
       "1  all                                                                                                           \n",
       "2  8                                                                                                             \n",
       "3  libd_chr1-chr1_AA-1000000-1001000-static-8corestotal-allcorepera-20240131-122518                              \n",
       "4  static                                                                                                        \n",
       "5  2024-01-31 12:42:26                                                                                           \n",
       "6  2024-01-31 14:47:18                                                                                           \n",
       "7  02:04:51                                                                                                      \n",
       "8                        AMD EPYC 7713 64-Core Processor                                                         \n",
       "9  0.983715858310461                                                                                             \n",
       "10 8                                                                                                             \n",
       "11 128                                                                                                           \n",
       "12 libd_chr1-chr1_AA-libd_chr1-chr1_AA-1000000-1001000-static-8corestotal-allcorepera-20240131-122518            "
      ]
     },
     "metadata": {},
     "output_type": "display_data"
    }
   ],
   "source": [
    "directory <- \"/dcs04/lieber/statsgen/mnagle/mwas/CpGWAS/output\"\n",
    "summary_table <- read_and_summarize_differences(directory)\n",
    "summary_table"
   ]
  },
  {
   "cell_type": "markdown",
   "id": "3d9b6d61-07ee-4325-aa0e-b908cf24449e",
   "metadata": {},
   "source": [
    "## Compute core-hours per test"
   ]
  },
  {
   "cell_type": "code",
   "execution_count": 3,
   "id": "a231ce51-2bbc-4893-bca6-ec8a521ca029",
   "metadata": {},
   "outputs": [
    {
     "data": {
      "text/html": [
       "40040"
      ],
      "text/latex": [
       "40040"
      ],
      "text/markdown": [
       "40040"
      ],
      "text/plain": [
       "[1] 40040"
      ]
     },
     "metadata": {},
     "output_type": "display_data"
    }
   ],
   "source": [
    "windows <- c(1000,2000,5000,10000,20000,50000,100000,500000)\n",
    "n_windows <- length(windows)\n",
    "alphas <- seq(0, 1, .25)\n",
    "n_alphas <- length(alphas)\n",
    "chunks <- 1001\n",
    "n_tests <- n_windows * n_alphas * chunks\n",
    "n_tests"
   ]
  },
  {
   "cell_type": "code",
   "execution_count": 4,
   "id": "fc628bd0-2b8a-4d25-b0df-6e3836e0fa11",
   "metadata": {},
   "outputs": [
    {
     "data": {
      "text/html": [
       "<style>\n",
       ".list-inline {list-style: none; margin:0; padding: 0}\n",
       ".list-inline>li {display: inline-block}\n",
       ".list-inline>li:not(:last-child)::after {content: \"\\00b7\"; padding: 0 .5ex}\n",
       "</style>\n",
       "<ol class=list-inline><li>'Parameter'</li><li>'libd_chr1-chr1_AA-libd_chr1-chr1_AA-1000000-1001000-dynamic-1corestotal-1corepera-20240131-122519-summary.csv'</li><li>'libd_chr1-chr1_AA-libd_chr1-chr1_AA-1000000-1001000-dynamic-1corestotal-allcorepera-20240131-122521-summary.csv'</li><li>'libd_chr1-chr1_AA-libd_chr1-chr1_AA-1000000-1001000-dynamic-8corestotal-allcorepera-20240131-122522-summary.csv'</li><li>'libd_chr1-chr1_AA-libd_chr1-chr1_AA-1000000-1001000-static-1corestotal-1corepera-20240131-122515-summary.csv'</li><li>'libd_chr1-chr1_AA-libd_chr1-chr1_AA-1000000-1001000-static-1corestotal-allcorepera-20240131-122517-summary.csv'</li><li>'libd_chr1-chr1_AA-libd_chr1-chr1_AA-1000000-1001000-static-8corestotal-allcorepera-20240131-122518-summary.csv'</li></ol>\n"
      ],
      "text/latex": [
       "\\begin{enumerate*}\n",
       "\\item 'Parameter'\n",
       "\\item 'libd\\_chr1-chr1\\_AA-libd\\_chr1-chr1\\_AA-1000000-1001000-dynamic-1corestotal-1corepera-20240131-122519-summary.csv'\n",
       "\\item 'libd\\_chr1-chr1\\_AA-libd\\_chr1-chr1\\_AA-1000000-1001000-dynamic-1corestotal-allcorepera-20240131-122521-summary.csv'\n",
       "\\item 'libd\\_chr1-chr1\\_AA-libd\\_chr1-chr1\\_AA-1000000-1001000-dynamic-8corestotal-allcorepera-20240131-122522-summary.csv'\n",
       "\\item 'libd\\_chr1-chr1\\_AA-libd\\_chr1-chr1\\_AA-1000000-1001000-static-1corestotal-1corepera-20240131-122515-summary.csv'\n",
       "\\item 'libd\\_chr1-chr1\\_AA-libd\\_chr1-chr1\\_AA-1000000-1001000-static-1corestotal-allcorepera-20240131-122517-summary.csv'\n",
       "\\item 'libd\\_chr1-chr1\\_AA-libd\\_chr1-chr1\\_AA-1000000-1001000-static-8corestotal-allcorepera-20240131-122518-summary.csv'\n",
       "\\end{enumerate*}\n"
      ],
      "text/markdown": [
       "1. 'Parameter'\n",
       "2. 'libd_chr1-chr1_AA-libd_chr1-chr1_AA-1000000-1001000-dynamic-1corestotal-1corepera-20240131-122519-summary.csv'\n",
       "3. 'libd_chr1-chr1_AA-libd_chr1-chr1_AA-1000000-1001000-dynamic-1corestotal-allcorepera-20240131-122521-summary.csv'\n",
       "4. 'libd_chr1-chr1_AA-libd_chr1-chr1_AA-1000000-1001000-dynamic-8corestotal-allcorepera-20240131-122522-summary.csv'\n",
       "5. 'libd_chr1-chr1_AA-libd_chr1-chr1_AA-1000000-1001000-static-1corestotal-1corepera-20240131-122515-summary.csv'\n",
       "6. 'libd_chr1-chr1_AA-libd_chr1-chr1_AA-1000000-1001000-static-1corestotal-allcorepera-20240131-122517-summary.csv'\n",
       "7. 'libd_chr1-chr1_AA-libd_chr1-chr1_AA-1000000-1001000-static-8corestotal-allcorepera-20240131-122518-summary.csv'\n",
       "\n",
       "\n"
      ],
      "text/plain": [
       "[1] \"Parameter\"                                                                                                      \n",
       "[2] \"libd_chr1-chr1_AA-libd_chr1-chr1_AA-1000000-1001000-dynamic-1corestotal-1corepera-20240131-122519-summary.csv\"  \n",
       "[3] \"libd_chr1-chr1_AA-libd_chr1-chr1_AA-1000000-1001000-dynamic-1corestotal-allcorepera-20240131-122521-summary.csv\"\n",
       "[4] \"libd_chr1-chr1_AA-libd_chr1-chr1_AA-1000000-1001000-dynamic-8corestotal-allcorepera-20240131-122522-summary.csv\"\n",
       "[5] \"libd_chr1-chr1_AA-libd_chr1-chr1_AA-1000000-1001000-static-1corestotal-1corepera-20240131-122515-summary.csv\"   \n",
       "[6] \"libd_chr1-chr1_AA-libd_chr1-chr1_AA-1000000-1001000-static-1corestotal-allcorepera-20240131-122517-summary.csv\" \n",
       "[7] \"libd_chr1-chr1_AA-libd_chr1-chr1_AA-1000000-1001000-static-8corestotal-allcorepera-20240131-122518-summary.csv\" "
      ]
     },
     "metadata": {},
     "output_type": "display_data"
    }
   ],
   "source": [
    "colnames(summary_table)"
   ]
  },
  {
   "cell_type": "code",
   "execution_count": 5,
   "id": "31316e4d-dd97-43f5-98f8-1eef70fa37fb",
   "metadata": {},
   "outputs": [],
   "source": [
    "summary_table <- as.data.frame(t(summary_table))\n",
    "colnames(summary_table) <- summary_table[1, ]\n",
    "summary_table <- summary_table[-1, ]\n",
    "summary_table$number_cores <- as.numeric(summary_table$number_cores)"
   ]
  },
  {
   "cell_type": "code",
   "execution_count": 6,
   "id": "072acef6-5e8e-4a03-9647-c2b9eb2440b4",
   "metadata": {},
   "outputs": [],
   "source": [
    "summary_table$runtime_seconds <- sapply(summary_table$runtime, function(x) {\n",
    "  parts <- strsplit(x, \":\")[[1]]\n",
    "  as.numeric(parts[1]) * 3600 + as.numeric(parts[2]) * 60 + as.numeric(parts[3])\n",
    "})"
   ]
  },
  {
   "cell_type": "code",
   "execution_count": 7,
   "id": "643f9b4a-3d63-4d6c-a354-956fc42dc3f4",
   "metadata": {},
   "outputs": [],
   "source": [
    "summary_table$runtime_hours <- summary_table$runtime_seconds/3600"
   ]
  },
  {
   "cell_type": "code",
   "execution_count": 8,
   "id": "ca2f1caa-175f-407e-8a7e-166699164fad",
   "metadata": {},
   "outputs": [],
   "source": [
    "summary_table$runtime_core_hours <- summary_table$runtime_hours * summary_table$number_cores\n",
    "summary_table$runtime_core_seconds <- summary_table$runtime_seconds * summary_table$number_cores\n",
    "summary_table$core_hours_per_test <- summary_table$runtime_core_hours / n_tests\n",
    "summary_table$core_seconds_per_test <- summary_table$runtime_core_seconds / n_tests"
   ]
  },
  {
   "cell_type": "code",
   "execution_count": 9,
   "id": "fcf6d834-f970-460a-ba8b-9ef44917e6c9",
   "metadata": {},
   "outputs": [
    {
     "data": {
      "text/html": [
       "<table class=\"dataframe\">\n",
       "<caption>A data.frame: 1 × 18</caption>\n",
       "<thead>\n",
       "\t<tr><th></th><th scope=col>cores_per_alpha</th><th scope=col>num_cores</th><th scope=col>tag</th><th scope=col>cv_eval_mode</th><th scope=col>time_started</th><th scope=col>time_finished</th><th scope=col>runtime</th><th scope=col>type_CPU</th><th scope=col>amount_RAM</th><th scope=col>number_cores</th><th scope=col>physical_cores</th><th scope=col>scaffold_ID</th><th scope=col>runtime_seconds</th><th scope=col>runtime_hours</th><th scope=col>runtime_core_hours</th><th scope=col>runtime_core_seconds</th><th scope=col>core_hours_per_test</th><th scope=col>core_seconds_per_test</th></tr>\n",
       "\t<tr><th></th><th scope=col>&lt;chr&gt;</th><th scope=col>&lt;chr&gt;</th><th scope=col>&lt;chr&gt;</th><th scope=col>&lt;chr&gt;</th><th scope=col>&lt;chr&gt;</th><th scope=col>&lt;chr&gt;</th><th scope=col>&lt;chr&gt;</th><th scope=col>&lt;chr&gt;</th><th scope=col>&lt;chr&gt;</th><th scope=col>&lt;dbl&gt;</th><th scope=col>&lt;chr&gt;</th><th scope=col>&lt;chr&gt;</th><th scope=col>&lt;dbl&gt;</th><th scope=col>&lt;dbl&gt;</th><th scope=col>&lt;dbl&gt;</th><th scope=col>&lt;dbl&gt;</th><th scope=col>&lt;dbl&gt;</th><th scope=col>&lt;dbl&gt;</th></tr>\n",
       "</thead>\n",
       "<tbody>\n",
       "\t<tr><th scope=row>libd_chr1-chr1_AA-libd_chr1-chr1_AA-1000000-1001000-static-1corestotal-1corepera-20240131-122515-summary.csv</th><td>1</td><td>1</td><td>libd_chr1-chr1_AA-1000000-1001000-static-1corestotal-1corepera-20240131-122515</td><td>static</td><td>2024-01-31 12:25:20</td><td>2024-01-31 16:51:32</td><td>04:26:11</td><td>                      Intel(R) Xeon(R) CPU E5-2650L v3 @ 1.80GHz</td><td>0.122832637280226</td><td>1</td><td>24</td><td>libd_chr1-chr1_AA-libd_chr1-chr1_AA-1000000-1001000-static-1corestotal-1corepera-20240131-122515</td><td>15971</td><td>4.436389</td><td>4.436389</td><td>15971</td><td>0.0001107989</td><td>0.3988761</td></tr>\n",
       "</tbody>\n",
       "</table>\n"
      ],
      "text/latex": [
       "A data.frame: 1 × 18\n",
       "\\begin{tabular}{r|llllllllllllllllll}\n",
       "  & cores\\_per\\_alpha & num\\_cores & tag & cv\\_eval\\_mode & time\\_started & time\\_finished & runtime & type\\_CPU & amount\\_RAM & number\\_cores & physical\\_cores & scaffold\\_ID & runtime\\_seconds & runtime\\_hours & runtime\\_core\\_hours & runtime\\_core\\_seconds & core\\_hours\\_per\\_test & core\\_seconds\\_per\\_test\\\\\n",
       "  & <chr> & <chr> & <chr> & <chr> & <chr> & <chr> & <chr> & <chr> & <chr> & <dbl> & <chr> & <chr> & <dbl> & <dbl> & <dbl> & <dbl> & <dbl> & <dbl>\\\\\n",
       "\\hline\n",
       "\tlibd\\_chr1-chr1\\_AA-libd\\_chr1-chr1\\_AA-1000000-1001000-static-1corestotal-1corepera-20240131-122515-summary.csv & 1 & 1 & libd\\_chr1-chr1\\_AA-1000000-1001000-static-1corestotal-1corepera-20240131-122515 & static & 2024-01-31 12:25:20 & 2024-01-31 16:51:32 & 04:26:11 &                       Intel(R) Xeon(R) CPU E5-2650L v3 @ 1.80GHz & 0.122832637280226 & 1 & 24 & libd\\_chr1-chr1\\_AA-libd\\_chr1-chr1\\_AA-1000000-1001000-static-1corestotal-1corepera-20240131-122515 & 15971 & 4.436389 & 4.436389 & 15971 & 0.0001107989 & 0.3988761\\\\\n",
       "\\end{tabular}\n"
      ],
      "text/markdown": [
       "\n",
       "A data.frame: 1 × 18\n",
       "\n",
       "| <!--/--> | cores_per_alpha &lt;chr&gt; | num_cores &lt;chr&gt; | tag &lt;chr&gt; | cv_eval_mode &lt;chr&gt; | time_started &lt;chr&gt; | time_finished &lt;chr&gt; | runtime &lt;chr&gt; | type_CPU &lt;chr&gt; | amount_RAM &lt;chr&gt; | number_cores &lt;dbl&gt; | physical_cores &lt;chr&gt; | scaffold_ID &lt;chr&gt; | runtime_seconds &lt;dbl&gt; | runtime_hours &lt;dbl&gt; | runtime_core_hours &lt;dbl&gt; | runtime_core_seconds &lt;dbl&gt; | core_hours_per_test &lt;dbl&gt; | core_seconds_per_test &lt;dbl&gt; |\n",
       "|---|---|---|---|---|---|---|---|---|---|---|---|---|---|---|---|---|---|---|\n",
       "| libd_chr1-chr1_AA-libd_chr1-chr1_AA-1000000-1001000-static-1corestotal-1corepera-20240131-122515-summary.csv | 1 | 1 | libd_chr1-chr1_AA-1000000-1001000-static-1corestotal-1corepera-20240131-122515 | static | 2024-01-31 12:25:20 | 2024-01-31 16:51:32 | 04:26:11 |                       Intel(R) Xeon(R) CPU E5-2650L v3 @ 1.80GHz | 0.122832637280226 | 1 | 24 | libd_chr1-chr1_AA-libd_chr1-chr1_AA-1000000-1001000-static-1corestotal-1corepera-20240131-122515 | 15971 | 4.436389 | 4.436389 | 15971 | 0.0001107989 | 0.3988761 |\n",
       "\n"
      ],
      "text/plain": [
       "                                                                                                             cores_per_alpha\n",
       "libd_chr1-chr1_AA-libd_chr1-chr1_AA-1000000-1001000-static-1corestotal-1corepera-20240131-122515-summary.csv 1              \n",
       "                                                                                                             num_cores\n",
       "libd_chr1-chr1_AA-libd_chr1-chr1_AA-1000000-1001000-static-1corestotal-1corepera-20240131-122515-summary.csv 1        \n",
       "                                                                                                             tag                                                                           \n",
       "libd_chr1-chr1_AA-libd_chr1-chr1_AA-1000000-1001000-static-1corestotal-1corepera-20240131-122515-summary.csv libd_chr1-chr1_AA-1000000-1001000-static-1corestotal-1corepera-20240131-122515\n",
       "                                                                                                             cv_eval_mode\n",
       "libd_chr1-chr1_AA-libd_chr1-chr1_AA-1000000-1001000-static-1corestotal-1corepera-20240131-122515-summary.csv static      \n",
       "                                                                                                             time_started       \n",
       "libd_chr1-chr1_AA-libd_chr1-chr1_AA-1000000-1001000-static-1corestotal-1corepera-20240131-122515-summary.csv 2024-01-31 12:25:20\n",
       "                                                                                                             time_finished      \n",
       "libd_chr1-chr1_AA-libd_chr1-chr1_AA-1000000-1001000-static-1corestotal-1corepera-20240131-122515-summary.csv 2024-01-31 16:51:32\n",
       "                                                                                                             runtime \n",
       "libd_chr1-chr1_AA-libd_chr1-chr1_AA-1000000-1001000-static-1corestotal-1corepera-20240131-122515-summary.csv 04:26:11\n",
       "                                                                                                             type_CPU                                                        \n",
       "libd_chr1-chr1_AA-libd_chr1-chr1_AA-1000000-1001000-static-1corestotal-1corepera-20240131-122515-summary.csv                       Intel(R) Xeon(R) CPU E5-2650L v3 @ 1.80GHz\n",
       "                                                                                                             amount_RAM       \n",
       "libd_chr1-chr1_AA-libd_chr1-chr1_AA-1000000-1001000-static-1corestotal-1corepera-20240131-122515-summary.csv 0.122832637280226\n",
       "                                                                                                             number_cores\n",
       "libd_chr1-chr1_AA-libd_chr1-chr1_AA-1000000-1001000-static-1corestotal-1corepera-20240131-122515-summary.csv 1           \n",
       "                                                                                                             physical_cores\n",
       "libd_chr1-chr1_AA-libd_chr1-chr1_AA-1000000-1001000-static-1corestotal-1corepera-20240131-122515-summary.csv 24            \n",
       "                                                                                                             scaffold_ID                                                                                     \n",
       "libd_chr1-chr1_AA-libd_chr1-chr1_AA-1000000-1001000-static-1corestotal-1corepera-20240131-122515-summary.csv libd_chr1-chr1_AA-libd_chr1-chr1_AA-1000000-1001000-static-1corestotal-1corepera-20240131-122515\n",
       "                                                                                                             runtime_seconds\n",
       "libd_chr1-chr1_AA-libd_chr1-chr1_AA-1000000-1001000-static-1corestotal-1corepera-20240131-122515-summary.csv 15971          \n",
       "                                                                                                             runtime_hours\n",
       "libd_chr1-chr1_AA-libd_chr1-chr1_AA-1000000-1001000-static-1corestotal-1corepera-20240131-122515-summary.csv 4.436389     \n",
       "                                                                                                             runtime_core_hours\n",
       "libd_chr1-chr1_AA-libd_chr1-chr1_AA-1000000-1001000-static-1corestotal-1corepera-20240131-122515-summary.csv 4.436389          \n",
       "                                                                                                             runtime_core_seconds\n",
       "libd_chr1-chr1_AA-libd_chr1-chr1_AA-1000000-1001000-static-1corestotal-1corepera-20240131-122515-summary.csv 15971               \n",
       "                                                                                                             core_hours_per_test\n",
       "libd_chr1-chr1_AA-libd_chr1-chr1_AA-1000000-1001000-static-1corestotal-1corepera-20240131-122515-summary.csv 0.0001107989       \n",
       "                                                                                                             core_seconds_per_test\n",
       "libd_chr1-chr1_AA-libd_chr1-chr1_AA-1000000-1001000-static-1corestotal-1corepera-20240131-122515-summary.csv 0.3988761            "
      ]
     },
     "metadata": {},
     "output_type": "display_data"
    }
   ],
   "source": [
    "summary_table[which.min(summary_table$core_hours_per_test), ]"
   ]
  },
  {
   "cell_type": "code",
   "execution_count": 10,
   "id": "7f4deac8-60dd-4576-8c76-135d39fcb03b",
   "metadata": {},
   "outputs": [],
   "source": [
    "data.table::fwrite(summary_table, \"05-OUT_SLURM_benchmarks_a1.csv\")"
   ]
  },
  {
   "cell_type": "code",
   "execution_count": 11,
   "id": "454e6f67-a8d9-4199-89e6-46b7baa29676",
   "metadata": {},
   "outputs": [
    {
     "data": {
      "text/html": [
       "'/dcs04/lieber/statsgen/mnagle/mwas/CpGWAS/scripts'"
      ],
      "text/latex": [
       "'/dcs04/lieber/statsgen/mnagle/mwas/CpGWAS/scripts'"
      ],
      "text/markdown": [
       "'/dcs04/lieber/statsgen/mnagle/mwas/CpGWAS/scripts'"
      ],
      "text/plain": [
       "[1] \"/dcs04/lieber/statsgen/mnagle/mwas/CpGWAS/scripts\""
      ]
     },
     "metadata": {},
     "output_type": "display_data"
    }
   ],
   "source": [
    "getwd()"
   ]
  },
  {
   "cell_type": "markdown",
   "id": "793cb57e-aa18-4937-8611-570b1a5d30bb",
   "metadata": {},
   "source": [
    "## How long for whole dataset?"
   ]
  },
  {
   "cell_type": "code",
   "execution_count": 12,
   "id": "30850d1c-aeee-49e3-94f7-dccfa46414fb",
   "metadata": {},
   "outputs": [],
   "source": [
    "n_sites <- 26000000"
   ]
  },
  {
   "cell_type": "code",
   "execution_count": 13,
   "id": "3315e920-a3c2-499e-a6d5-36b51b134d25",
   "metadata": {},
   "outputs": [
    {
     "data": {
      "text/html": [
       "2880.7714"
      ],
      "text/latex": [
       "2880.7714"
      ],
      "text/markdown": [
       "2880.7714"
      ],
      "text/plain": [
       "[1] 2880.771"
      ]
     },
     "metadata": {},
     "output_type": "display_data"
    }
   ],
   "source": [
    "n_sites*0.0001107989"
   ]
  },
  {
   "cell_type": "code",
   "execution_count": null,
   "id": "7bcd6f96-7109-4fa3-8db2-076b0e5fe422",
   "metadata": {},
   "outputs": [],
   "source": []
  }
 ],
 "metadata": {
  "kernelspec": {
   "display_name": "R",
   "language": "R",
   "name": "ir"
  },
  "language_info": {
   "codemirror_mode": "r",
   "file_extension": ".r",
   "mimetype": "text/x-r-source",
   "name": "R",
   "pygments_lexer": "r",
   "version": "4.3.1"
  }
 },
 "nbformat": 4,
 "nbformat_minor": 5
}
