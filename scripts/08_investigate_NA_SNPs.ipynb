{
 "cells": [
  {
   "cell_type": "markdown",
   "id": "94a0f534-4986-4991-9c05-89f77e7778d7",
   "metadata": {},
   "source": [
    "# Investigate NA values in our genotype data"
   ]
  },
  {
   "cell_type": "code",
   "execution_count": 1,
   "id": "6381bf56-bb0e-43e3-a4f7-e827ae44f363",
   "metadata": {
    "tags": []
   },
   "outputs": [],
   "source": [
    "library(CpGWAS)\n",
    "library(data.table)"
   ]
  },
  {
   "cell_type": "markdown",
   "id": "1c37a8bd-7ff2-4678-8697-584cab028776",
   "metadata": {},
   "source": [
    "## Load complete SNP dataset from plink2 raw file"
   ]
  },
  {
   "cell_type": "markdown",
   "id": "171aa08d-32c3-4eec-9316-9ffe1d05b56d",
   "metadata": {},
   "source": [
    "This raw file we're loading was produced via `plink2 --pfile libd_chr1 --export A --out libd_chr1_test`"
   ]
  },
  {
   "cell_type": "code",
   "execution_count": 2,
   "id": "9f7ac738-800e-430a-9ec7-e3cb6c2460f9",
   "metadata": {
    "tags": []
   },
   "outputs": [],
   "source": [
    "file <- fread(\"~/data/libd_chr1_test.raw\")\n",
    "\n",
    "# Subset to columns with at least one NA\n",
    "na_columns <- cbind(file$IID, file[, .SD, .SDcols = colSums(is.na(file)) > 0])"
   ]
  },
  {
   "cell_type": "code",
   "execution_count": 3,
   "id": "8c96976a-ffb6-49cc-b261-70dca6855cd7",
   "metadata": {
    "tags": []
   },
   "outputs": [
    {
     "data": {
      "text/html": [
       "<style>\n",
       ".list-inline {list-style: none; margin:0; padding: 0}\n",
       ".list-inline>li {display: inline-block}\n",
       ".list-inline>li:not(:last-child)::after {content: \"\\00b7\"; padding: 0 .5ex}\n",
       "</style>\n",
       "<ol class=list-inline><li>2189</li><li>326019</li></ol>\n"
      ],
      "text/latex": [
       "\\begin{enumerate*}\n",
       "\\item 2189\n",
       "\\item 326019\n",
       "\\end{enumerate*}\n"
      ],
      "text/markdown": [
       "1. 2189\n",
       "2. 326019\n",
       "\n",
       "\n"
      ],
      "text/plain": [
       "[1]   2189 326019"
      ]
     },
     "metadata": {},
     "output_type": "display_data"
    }
   ],
   "source": [
    "dim(file)"
   ]
  },
  {
   "cell_type": "code",
   "execution_count": 4,
   "id": "293ec60c-2ff9-4a7f-8eb6-fbc9eb9717fc",
   "metadata": {
    "tags": []
   },
   "outputs": [
    {
     "data": {
      "text/html": [
       "<table class=\"dataframe\">\n",
       "<caption>A data.table: 2189 × 4</caption>\n",
       "<thead>\n",
       "\t<tr><th scope=col>V1</th><th scope=col>chr1:5215377:C:T_C</th><th scope=col>chr1:165457376:C:A_C</th><th scope=col>chr1:234308448:A:G_A</th></tr>\n",
       "\t<tr><th scope=col>&lt;chr&gt;</th><th scope=col>&lt;dbl&gt;</th><th scope=col>&lt;dbl&gt;</th><th scope=col>&lt;dbl&gt;</th></tr>\n",
       "</thead>\n",
       "<tbody>\n",
       "\t<tr><td>Br1602</td><td>2</td><td>1.009</td><td>2.000</td></tr>\n",
       "\t<tr><td>Br1203</td><td>2</td><td>2.000</td><td>2.000</td></tr>\n",
       "\t<tr><td>Br1214</td><td>2</td><td>2.000</td><td>2.000</td></tr>\n",
       "\t<tr><td>Br2149</td><td>2</td><td>2.000</td><td>1.000</td></tr>\n",
       "\t<tr><td>Br1016</td><td>2</td><td>2.000</td><td>2.000</td></tr>\n",
       "\t<tr><td>Br1580</td><td>2</td><td>2.000</td><td>2.000</td></tr>\n",
       "\t<tr><td>Br1646</td><td>2</td><td>2.000</td><td>2.000</td></tr>\n",
       "\t<tr><td>Br1823</td><td>2</td><td>2.000</td><td>1.002</td></tr>\n",
       "\t<tr><td>Br1696</td><td>2</td><td>2.000</td><td>2.000</td></tr>\n",
       "\t<tr><td>Br1513</td><td>2</td><td>2.000</td><td>2.000</td></tr>\n",
       "\t<tr><td>Br1930</td><td>2</td><td>2.000</td><td>2.000</td></tr>\n",
       "\t<tr><td>Br1316</td><td>2</td><td>1.000</td><td>1.933</td></tr>\n",
       "\t<tr><td>Br2035</td><td>2</td><td>2.000</td><td>2.000</td></tr>\n",
       "\t<tr><td>Br2042</td><td>2</td><td>2.000</td><td>2.000</td></tr>\n",
       "\t<tr><td>Br2129</td><td>2</td><td>2.000</td><td>1.000</td></tr>\n",
       "\t<tr><td>Br2114</td><td>2</td><td>2.000</td><td>2.000</td></tr>\n",
       "\t<tr><td>Br1683</td><td>2</td><td>2.000</td><td>2.000</td></tr>\n",
       "\t<tr><td>Br1686</td><td>2</td><td>2.000</td><td>1.001</td></tr>\n",
       "\t<tr><td>Br1436</td><td>2</td><td>2.000</td><td>2.000</td></tr>\n",
       "\t<tr><td>Br2175</td><td>2</td><td>2.000</td><td>1.990</td></tr>\n",
       "\t<tr><td>Br1682</td><td>2</td><td>2.000</td><td>2.000</td></tr>\n",
       "\t<tr><td>Br1753</td><td>2</td><td>2.000</td><td>2.000</td></tr>\n",
       "\t<tr><td>Br1761</td><td>2</td><td>2.000</td><td>2.000</td></tr>\n",
       "\t<tr><td>Br1373</td><td>2</td><td>1.989</td><td>2.000</td></tr>\n",
       "\t<tr><td>Br2236</td><td>2</td><td>1.000</td><td>2.000</td></tr>\n",
       "\t<tr><td>Br2133</td><td>2</td><td>2.000</td><td>2.000</td></tr>\n",
       "\t<tr><td>Br1980</td><td>2</td><td>2.000</td><td>2.000</td></tr>\n",
       "\t<tr><td>Br1920</td><td>2</td><td>1.999</td><td>2.000</td></tr>\n",
       "\t<tr><td>Br1724</td><td>2</td><td>2.000</td><td>2.000</td></tr>\n",
       "\t<tr><td>Br2197</td><td>2</td><td>2.000</td><td>2.000</td></tr>\n",
       "\t<tr><td>⋮</td><td>⋮</td><td>⋮</td><td>⋮</td></tr>\n",
       "\t<tr><td>Br847 </td><td>NA</td><td>NA</td><td>NA</td></tr>\n",
       "\t<tr><td>Br890 </td><td>NA</td><td>NA</td><td>NA</td></tr>\n",
       "\t<tr><td>Br1160</td><td>NA</td><td>NA</td><td>NA</td></tr>\n",
       "\t<tr><td>Br1297</td><td>NA</td><td>NA</td><td>NA</td></tr>\n",
       "\t<tr><td>Br1164</td><td>NA</td><td>NA</td><td>NA</td></tr>\n",
       "\t<tr><td>Br1285</td><td>NA</td><td>NA</td><td>NA</td></tr>\n",
       "\t<tr><td>Br845 </td><td>NA</td><td>NA</td><td>NA</td></tr>\n",
       "\t<tr><td>Br1556</td><td>NA</td><td>NA</td><td>NA</td></tr>\n",
       "\t<tr><td>Br1604</td><td>NA</td><td>NA</td><td>NA</td></tr>\n",
       "\t<tr><td>Br1407</td><td>NA</td><td>NA</td><td>NA</td></tr>\n",
       "\t<tr><td>Br1227</td><td>NA</td><td>NA</td><td>NA</td></tr>\n",
       "\t<tr><td>Br1006</td><td>NA</td><td>NA</td><td>NA</td></tr>\n",
       "\t<tr><td>Br863 </td><td>NA</td><td>NA</td><td>NA</td></tr>\n",
       "\t<tr><td>Br1964</td><td>NA</td><td>NA</td><td>NA</td></tr>\n",
       "\t<tr><td>Br926 </td><td>NA</td><td>NA</td><td>NA</td></tr>\n",
       "\t<tr><td>Br1786</td><td>NA</td><td>NA</td><td>NA</td></tr>\n",
       "\t<tr><td>Br848 </td><td>NA</td><td>NA</td><td>NA</td></tr>\n",
       "\t<tr><td>Br1342</td><td>NA</td><td>NA</td><td>NA</td></tr>\n",
       "\t<tr><td>Br1118</td><td>NA</td><td>NA</td><td>NA</td></tr>\n",
       "\t<tr><td>Br1069</td><td>NA</td><td>NA</td><td>NA</td></tr>\n",
       "\t<tr><td>Br1615</td><td>NA</td><td>NA</td><td>NA</td></tr>\n",
       "\t<tr><td>Br1348</td><td>NA</td><td>NA</td><td>NA</td></tr>\n",
       "\t<tr><td>Br1111</td><td>NA</td><td>NA</td><td>NA</td></tr>\n",
       "\t<tr><td>Br1157</td><td>NA</td><td>NA</td><td>NA</td></tr>\n",
       "\t<tr><td>Br905 </td><td>NA</td><td>NA</td><td>NA</td></tr>\n",
       "\t<tr><td>Br1547</td><td>NA</td><td>NA</td><td>NA</td></tr>\n",
       "\t<tr><td>Br982 </td><td>NA</td><td>NA</td><td>NA</td></tr>\n",
       "\t<tr><td>Br1193</td><td>NA</td><td>NA</td><td>NA</td></tr>\n",
       "\t<tr><td>Br957 </td><td>NA</td><td>NA</td><td>NA</td></tr>\n",
       "\t<tr><td>Br1185</td><td>NA</td><td>NA</td><td>NA</td></tr>\n",
       "</tbody>\n",
       "</table>\n"
      ],
      "text/latex": [
       "A data.table: 2189 × 4\n",
       "\\begin{tabular}{llll}\n",
       " V1 & chr1:5215377:C:T\\_C & chr1:165457376:C:A\\_C & chr1:234308448:A:G\\_A\\\\\n",
       " <chr> & <dbl> & <dbl> & <dbl>\\\\\n",
       "\\hline\n",
       "\t Br1602 & 2 & 1.009 & 2.000\\\\\n",
       "\t Br1203 & 2 & 2.000 & 2.000\\\\\n",
       "\t Br1214 & 2 & 2.000 & 2.000\\\\\n",
       "\t Br2149 & 2 & 2.000 & 1.000\\\\\n",
       "\t Br1016 & 2 & 2.000 & 2.000\\\\\n",
       "\t Br1580 & 2 & 2.000 & 2.000\\\\\n",
       "\t Br1646 & 2 & 2.000 & 2.000\\\\\n",
       "\t Br1823 & 2 & 2.000 & 1.002\\\\\n",
       "\t Br1696 & 2 & 2.000 & 2.000\\\\\n",
       "\t Br1513 & 2 & 2.000 & 2.000\\\\\n",
       "\t Br1930 & 2 & 2.000 & 2.000\\\\\n",
       "\t Br1316 & 2 & 1.000 & 1.933\\\\\n",
       "\t Br2035 & 2 & 2.000 & 2.000\\\\\n",
       "\t Br2042 & 2 & 2.000 & 2.000\\\\\n",
       "\t Br2129 & 2 & 2.000 & 1.000\\\\\n",
       "\t Br2114 & 2 & 2.000 & 2.000\\\\\n",
       "\t Br1683 & 2 & 2.000 & 2.000\\\\\n",
       "\t Br1686 & 2 & 2.000 & 1.001\\\\\n",
       "\t Br1436 & 2 & 2.000 & 2.000\\\\\n",
       "\t Br2175 & 2 & 2.000 & 1.990\\\\\n",
       "\t Br1682 & 2 & 2.000 & 2.000\\\\\n",
       "\t Br1753 & 2 & 2.000 & 2.000\\\\\n",
       "\t Br1761 & 2 & 2.000 & 2.000\\\\\n",
       "\t Br1373 & 2 & 1.989 & 2.000\\\\\n",
       "\t Br2236 & 2 & 1.000 & 2.000\\\\\n",
       "\t Br2133 & 2 & 2.000 & 2.000\\\\\n",
       "\t Br1980 & 2 & 2.000 & 2.000\\\\\n",
       "\t Br1920 & 2 & 1.999 & 2.000\\\\\n",
       "\t Br1724 & 2 & 2.000 & 2.000\\\\\n",
       "\t Br2197 & 2 & 2.000 & 2.000\\\\\n",
       "\t ⋮ & ⋮ & ⋮ & ⋮\\\\\n",
       "\t Br847  & NA & NA & NA\\\\\n",
       "\t Br890  & NA & NA & NA\\\\\n",
       "\t Br1160 & NA & NA & NA\\\\\n",
       "\t Br1297 & NA & NA & NA\\\\\n",
       "\t Br1164 & NA & NA & NA\\\\\n",
       "\t Br1285 & NA & NA & NA\\\\\n",
       "\t Br845  & NA & NA & NA\\\\\n",
       "\t Br1556 & NA & NA & NA\\\\\n",
       "\t Br1604 & NA & NA & NA\\\\\n",
       "\t Br1407 & NA & NA & NA\\\\\n",
       "\t Br1227 & NA & NA & NA\\\\\n",
       "\t Br1006 & NA & NA & NA\\\\\n",
       "\t Br863  & NA & NA & NA\\\\\n",
       "\t Br1964 & NA & NA & NA\\\\\n",
       "\t Br926  & NA & NA & NA\\\\\n",
       "\t Br1786 & NA & NA & NA\\\\\n",
       "\t Br848  & NA & NA & NA\\\\\n",
       "\t Br1342 & NA & NA & NA\\\\\n",
       "\t Br1118 & NA & NA & NA\\\\\n",
       "\t Br1069 & NA & NA & NA\\\\\n",
       "\t Br1615 & NA & NA & NA\\\\\n",
       "\t Br1348 & NA & NA & NA\\\\\n",
       "\t Br1111 & NA & NA & NA\\\\\n",
       "\t Br1157 & NA & NA & NA\\\\\n",
       "\t Br905  & NA & NA & NA\\\\\n",
       "\t Br1547 & NA & NA & NA\\\\\n",
       "\t Br982  & NA & NA & NA\\\\\n",
       "\t Br1193 & NA & NA & NA\\\\\n",
       "\t Br957  & NA & NA & NA\\\\\n",
       "\t Br1185 & NA & NA & NA\\\\\n",
       "\\end{tabular}\n"
      ],
      "text/markdown": [
       "\n",
       "A data.table: 2189 × 4\n",
       "\n",
       "| V1 &lt;chr&gt; | chr1:5215377:C:T_C &lt;dbl&gt; | chr1:165457376:C:A_C &lt;dbl&gt; | chr1:234308448:A:G_A &lt;dbl&gt; |\n",
       "|---|---|---|---|\n",
       "| Br1602 | 2 | 1.009 | 2.000 |\n",
       "| Br1203 | 2 | 2.000 | 2.000 |\n",
       "| Br1214 | 2 | 2.000 | 2.000 |\n",
       "| Br2149 | 2 | 2.000 | 1.000 |\n",
       "| Br1016 | 2 | 2.000 | 2.000 |\n",
       "| Br1580 | 2 | 2.000 | 2.000 |\n",
       "| Br1646 | 2 | 2.000 | 2.000 |\n",
       "| Br1823 | 2 | 2.000 | 1.002 |\n",
       "| Br1696 | 2 | 2.000 | 2.000 |\n",
       "| Br1513 | 2 | 2.000 | 2.000 |\n",
       "| Br1930 | 2 | 2.000 | 2.000 |\n",
       "| Br1316 | 2 | 1.000 | 1.933 |\n",
       "| Br2035 | 2 | 2.000 | 2.000 |\n",
       "| Br2042 | 2 | 2.000 | 2.000 |\n",
       "| Br2129 | 2 | 2.000 | 1.000 |\n",
       "| Br2114 | 2 | 2.000 | 2.000 |\n",
       "| Br1683 | 2 | 2.000 | 2.000 |\n",
       "| Br1686 | 2 | 2.000 | 1.001 |\n",
       "| Br1436 | 2 | 2.000 | 2.000 |\n",
       "| Br2175 | 2 | 2.000 | 1.990 |\n",
       "| Br1682 | 2 | 2.000 | 2.000 |\n",
       "| Br1753 | 2 | 2.000 | 2.000 |\n",
       "| Br1761 | 2 | 2.000 | 2.000 |\n",
       "| Br1373 | 2 | 1.989 | 2.000 |\n",
       "| Br2236 | 2 | 1.000 | 2.000 |\n",
       "| Br2133 | 2 | 2.000 | 2.000 |\n",
       "| Br1980 | 2 | 2.000 | 2.000 |\n",
       "| Br1920 | 2 | 1.999 | 2.000 |\n",
       "| Br1724 | 2 | 2.000 | 2.000 |\n",
       "| Br2197 | 2 | 2.000 | 2.000 |\n",
       "| ⋮ | ⋮ | ⋮ | ⋮ |\n",
       "| Br847  | NA | NA | NA |\n",
       "| Br890  | NA | NA | NA |\n",
       "| Br1160 | NA | NA | NA |\n",
       "| Br1297 | NA | NA | NA |\n",
       "| Br1164 | NA | NA | NA |\n",
       "| Br1285 | NA | NA | NA |\n",
       "| Br845  | NA | NA | NA |\n",
       "| Br1556 | NA | NA | NA |\n",
       "| Br1604 | NA | NA | NA |\n",
       "| Br1407 | NA | NA | NA |\n",
       "| Br1227 | NA | NA | NA |\n",
       "| Br1006 | NA | NA | NA |\n",
       "| Br863  | NA | NA | NA |\n",
       "| Br1964 | NA | NA | NA |\n",
       "| Br926  | NA | NA | NA |\n",
       "| Br1786 | NA | NA | NA |\n",
       "| Br848  | NA | NA | NA |\n",
       "| Br1342 | NA | NA | NA |\n",
       "| Br1118 | NA | NA | NA |\n",
       "| Br1069 | NA | NA | NA |\n",
       "| Br1615 | NA | NA | NA |\n",
       "| Br1348 | NA | NA | NA |\n",
       "| Br1111 | NA | NA | NA |\n",
       "| Br1157 | NA | NA | NA |\n",
       "| Br905  | NA | NA | NA |\n",
       "| Br1547 | NA | NA | NA |\n",
       "| Br982  | NA | NA | NA |\n",
       "| Br1193 | NA | NA | NA |\n",
       "| Br957  | NA | NA | NA |\n",
       "| Br1185 | NA | NA | NA |\n",
       "\n"
      ],
      "text/plain": [
       "     V1     chr1:5215377:C:T_C chr1:165457376:C:A_C chr1:234308448:A:G_A\n",
       "1    Br1602 2                  1.009                2.000               \n",
       "2    Br1203 2                  2.000                2.000               \n",
       "3    Br1214 2                  2.000                2.000               \n",
       "4    Br2149 2                  2.000                1.000               \n",
       "5    Br1016 2                  2.000                2.000               \n",
       "6    Br1580 2                  2.000                2.000               \n",
       "7    Br1646 2                  2.000                2.000               \n",
       "8    Br1823 2                  2.000                1.002               \n",
       "9    Br1696 2                  2.000                2.000               \n",
       "10   Br1513 2                  2.000                2.000               \n",
       "11   Br1930 2                  2.000                2.000               \n",
       "12   Br1316 2                  1.000                1.933               \n",
       "13   Br2035 2                  2.000                2.000               \n",
       "14   Br2042 2                  2.000                2.000               \n",
       "15   Br2129 2                  2.000                1.000               \n",
       "16   Br2114 2                  2.000                2.000               \n",
       "17   Br1683 2                  2.000                2.000               \n",
       "18   Br1686 2                  2.000                1.001               \n",
       "19   Br1436 2                  2.000                2.000               \n",
       "20   Br2175 2                  2.000                1.990               \n",
       "21   Br1682 2                  2.000                2.000               \n",
       "22   Br1753 2                  2.000                2.000               \n",
       "23   Br1761 2                  2.000                2.000               \n",
       "24   Br1373 2                  1.989                2.000               \n",
       "25   Br2236 2                  1.000                2.000               \n",
       "26   Br2133 2                  2.000                2.000               \n",
       "27   Br1980 2                  2.000                2.000               \n",
       "28   Br1920 2                  1.999                2.000               \n",
       "29   Br1724 2                  2.000                2.000               \n",
       "30   Br2197 2                  2.000                2.000               \n",
       "⋮    ⋮      ⋮                  ⋮                    ⋮                   \n",
       "2160 Br847  NA                 NA                   NA                  \n",
       "2161 Br890  NA                 NA                   NA                  \n",
       "2162 Br1160 NA                 NA                   NA                  \n",
       "2163 Br1297 NA                 NA                   NA                  \n",
       "2164 Br1164 NA                 NA                   NA                  \n",
       "2165 Br1285 NA                 NA                   NA                  \n",
       "2166 Br845  NA                 NA                   NA                  \n",
       "2167 Br1556 NA                 NA                   NA                  \n",
       "2168 Br1604 NA                 NA                   NA                  \n",
       "2169 Br1407 NA                 NA                   NA                  \n",
       "2170 Br1227 NA                 NA                   NA                  \n",
       "2171 Br1006 NA                 NA                   NA                  \n",
       "2172 Br863  NA                 NA                   NA                  \n",
       "2173 Br1964 NA                 NA                   NA                  \n",
       "2174 Br926  NA                 NA                   NA                  \n",
       "2175 Br1786 NA                 NA                   NA                  \n",
       "2176 Br848  NA                 NA                   NA                  \n",
       "2177 Br1342 NA                 NA                   NA                  \n",
       "2178 Br1118 NA                 NA                   NA                  \n",
       "2179 Br1069 NA                 NA                   NA                  \n",
       "2180 Br1615 NA                 NA                   NA                  \n",
       "2181 Br1348 NA                 NA                   NA                  \n",
       "2182 Br1111 NA                 NA                   NA                  \n",
       "2183 Br1157 NA                 NA                   NA                  \n",
       "2184 Br905  NA                 NA                   NA                  \n",
       "2185 Br1547 NA                 NA                   NA                  \n",
       "2186 Br982  NA                 NA                   NA                  \n",
       "2187 Br1193 NA                 NA                   NA                  \n",
       "2188 Br957  NA                 NA                   NA                  \n",
       "2189 Br1185 NA                 NA                   NA                  "
      ]
     },
     "metadata": {},
     "output_type": "display_data"
    }
   ],
   "source": [
    "na_columns"
   ]
  },
  {
   "cell_type": "markdown",
   "id": "b1101207-3ea2-4e63-a3ca-bb5189256135",
   "metadata": {},
   "source": [
    "Do these columns (SNPs) contain NA for the same exact samples?"
   ]
  },
  {
   "cell_type": "code",
   "execution_count": 5,
   "id": "6bece793-3eb4-45ae-be84-cbd9f3563ee9",
   "metadata": {
    "tags": []
   },
   "outputs": [
    {
     "data": {
      "text/html": [
       "TRUE"
      ],
      "text/latex": [
       "TRUE"
      ],
      "text/markdown": [
       "TRUE"
      ],
      "text/plain": [
       "[1] TRUE"
      ]
     },
     "metadata": {},
     "output_type": "display_data"
    }
   ],
   "source": [
    "all(rowSums(is.na(na_columns[, -1, with = FALSE])) %in% c(0, ncol(na_columns) - 1))"
   ]
  },
  {
   "cell_type": "markdown",
   "id": "6faeb6b9-9ad7-436e-a86b-9280e6fc4143",
   "metadata": {},
   "source": [
    "Which indices, and which samples?"
   ]
  },
  {
   "cell_type": "code",
   "execution_count": 6,
   "id": "48531ddd-fdec-4fb6-a416-210c037561af",
   "metadata": {
    "tags": []
   },
   "outputs": [
    {
     "data": {
      "text/html": [
       "531"
      ],
      "text/latex": [
       "531"
      ],
      "text/markdown": [
       "531"
      ],
      "text/plain": [
       "[1] 531"
      ]
     },
     "metadata": {},
     "output_type": "display_data"
    }
   ],
   "source": [
    "length(which(is.na(na_columns$`chr1:165457376:C:A_C`), arr.ind = TRUE))"
   ]
  },
  {
   "cell_type": "code",
   "execution_count": 7,
   "id": "ebcd73b9-3179-4c0a-b232-89511e04826b",
   "metadata": {
    "tags": []
   },
   "outputs": [
    {
     "data": {
      "text/html": [
       "531"
      ],
      "text/latex": [
       "531"
      ],
      "text/markdown": [
       "531"
      ],
      "text/plain": [
       "[1] 531"
      ]
     },
     "metadata": {},
     "output_type": "display_data"
    }
   ],
   "source": [
    "2189-1659+1"
   ]
  },
  {
   "cell_type": "markdown",
   "id": "0baf10aa-9880-4e22-97f0-bed9a9a7a032",
   "metadata": {},
   "source": [
    "<div class=\"alert alert-block alert-info\">The last 531 genotypes in the SNP set have NA for these 3 SNPs.</div>"
   ]
  },
  {
   "cell_type": "markdown",
   "id": "39e56255-006d-4b80-9c61-e0e7f52c7309",
   "metadata": {
    "tags": []
   },
   "source": [
    "## Load `methylationInput` object containing partial SNP data loaded into R, methylation data, and various metadata"
   ]
  },
  {
   "cell_type": "markdown",
   "id": "0b14bd2f-2507-4713-86fe-4833ffae99b7",
   "metadata": {},
   "source": [
    "This function exists to reload data after subsetting to random samples in another session, without breaking pointers to SNP data on hard drive."
   ]
  },
  {
   "cell_type": "code",
   "execution_count": 8,
   "id": "108025ad-1746-4ae2-a1fb-33cbe6867fcf",
   "metadata": {
    "tags": []
   },
   "outputs": [],
   "source": [
    "reinitializeMethylationInput <- function(rds_path, snp_data_path, no_cores = detectCores()) {\n",
    "  if (!file.exists(rds_path)) {\n",
    "    stop(\"RDS file does not exist: \", rds_path)\n",
    "  }\n",
    "  \n",
    "  # Load the MethylationInput object from RDS\n",
    "  loadedObject <- readRDS(rds_path)\n",
    "  if (!inherits(loadedObject, \"MethylationInput\")) {\n",
    "    stop(\"Loaded object is not a MethylationInput.\")\n",
    "  }\n",
    "  \n",
    "  # Reinitialize external pointers for SNP data\n",
    "  pgen_path <- gsub(snp_data_path, pattern = \"pvar\", replacement = \"pgen\")\n",
    "  pvar_path <- gsub(snp_data_path, pattern = \"pgen\", replacement = \"pvar\")\n",
    "  psam_path <- gsub(pvar_path, pattern = \"pvar\", replacement = \"psam\")\n",
    "  \n",
    "  if (!file.exists(pgen_path) || !file.exists(pvar_path) || !file.exists(psam_path)) {\n",
    "    stop(\"One or more SNP data files not found at the specified paths.\")\n",
    "  }\n",
    "  \n",
    "  loadedObject@pvar_pointer <- pgenlibr::NewPvar(pvar_path)\n",
    "  loadedObject@pvar_dt <- fread(pvar_path)[, 1:3]\n",
    "  loadedObject@pgen <- pgenlibr::NewPgen(pgen_path, pvar = loadedObject@pvar_pointer)\n",
    "  loadedObject@psam <- fread(psam_path)\n",
    "  \n",
    "  # Reinitialize genotype_IDs based on intersection with methylations\n",
    "  psam_in_wgbs <- loadedObject@psam[which(loadedObject@psam$`#IID` %in% rownames(loadedObject@methylations))]\n",
    "  genotype_IDs <- psam_in_wgbs$`#IID`\n",
    "  genotype_IDs <- intersect(rownames(loadedObject@methylations), genotype_IDs)\n",
    "  loadedObject@genotype_IDs <- genotype_IDs[order(genotype_IDs)]\n",
    "  \n",
    "  # Ensure methylations are filtered and ordered according to the new genotype_IDs, if necessary\n",
    "  loadedObject@methylations <- loadedObject@methylations[which(rownames(loadedObject@methylations) %in% genotype_IDs), ]\n",
    "  \n",
    "  return(loadedObject)\n",
    "}"
   ]
  },
  {
   "cell_type": "code",
   "execution_count": 9,
   "id": "d1ccbe51-cb47-4ffe-a821-1f8e85e28d80",
   "metadata": {
    "tags": []
   },
   "outputs": [],
   "source": [
    "setwd(\"~/data/\")"
   ]
  },
  {
   "cell_type": "code",
   "execution_count": 10,
   "id": "be787447-390a-40b7-ad24-582d411caeee",
   "metadata": {
    "tags": []
   },
   "outputs": [],
   "source": [
    "methInput <- reinitializeMethylationInput(rds_path = \"chr1_AA_methylation_10k_samples.rds\",\n",
    "                                          snp_data_path = \"libd_chr1.pgen\",\n",
    "                                          no_cores = 4)"
   ]
  },
  {
   "cell_type": "markdown",
   "id": "629f0b60-2f19-471f-9158-b746c2bf2605",
   "metadata": {},
   "source": [
    "Among samples for which we have methylation data, how many are in the the group of genotypes that has NA for the three mysterious Chr1 SNPs?"
   ]
  },
  {
   "cell_type": "code",
   "execution_count": 11,
   "id": "80376656-16ef-4a78-8421-24286c8c15d2",
   "metadata": {
    "tags": []
   },
   "outputs": [
    {
     "data": {
      "text/html": [
       "111"
      ],
      "text/latex": [
       "111"
      ],
      "text/markdown": [
       "111"
      ],
      "text/plain": [
       "[1] 111"
      ]
     },
     "metadata": {},
     "output_type": "display_data"
    }
   ],
   "source": [
    "length(intersect(methInput@genotype_IDs, na_columns$V1[1659:2189]))"
   ]
  },
  {
   "cell_type": "markdown",
   "id": "d102469d-a185-442b-9f06-a9038c12614e",
   "metadata": {
    "tags": []
   },
   "source": [
    "<div class=\"alert alert-block alert-info\">All 111 of the genotypes in our dataset are found in the last 531 rows of the SNP set, which contain NA for all values of these three SNPs.</div>"
   ]
  }
 ],
 "metadata": {
  "kernelspec": {
   "display_name": "R",
   "language": "R",
   "name": "ir"
  },
  "language_info": {
   "codemirror_mode": "r",
   "file_extension": ".r",
   "mimetype": "text/x-r-source",
   "name": "R",
   "pygments_lexer": "r",
   "version": "4.3.2"
  }
 },
 "nbformat": 4,
 "nbformat_minor": 5
}
