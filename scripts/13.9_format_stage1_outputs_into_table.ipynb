{
 "cells": [
  {
   "cell_type": "markdown",
   "id": "1e59a76f-522e-4d87-a14d-8f808ba3b0e2",
   "metadata": {},
   "source": [
    "# Distributions of DNA methylation levels"
   ]
  },
  {
   "cell_type": "markdown",
   "id": "4c3833ee-853a-4d60-8b70-cfdb5af845f0",
   "metadata": {},
   "source": [
    "## Get mean and variance for DNAm levels of all CpGs"
   ]
  },
  {
   "cell_type": "markdown",
   "id": "3ca8e548-2126-4380-9e27-3e5a4d5b3d27",
   "metadata": {},
   "source": [
    "Test out for one"
   ]
  },
  {
   "cell_type": "code",
   "execution_count": 1,
   "id": "38b8fca6-734e-495b-ad0d-2e57cd41df7a",
   "metadata": {},
   "outputs": [],
   "source": [
    "library(data.table)"
   ]
  },
  {
   "cell_type": "code",
   "execution_count": 2,
   "id": "42acd832-0157-4bf1-9851-5532b627f12d",
   "metadata": {
    "scrolled": true
   },
   "outputs": [
    {
     "name": "stderr",
     "output_type": "stream",
     "text": [
      "Loading required package: stats4\n",
      "\n",
      "Loading required package: BiocGenerics\n",
      "\n",
      "\n",
      "Attaching package: ‘BiocGenerics’\n",
      "\n",
      "\n",
      "The following objects are masked from ‘package:stats’:\n",
      "\n",
      "    IQR, mad, sd, var, xtabs\n",
      "\n",
      "\n",
      "The following objects are masked from ‘package:base’:\n",
      "\n",
      "    anyDuplicated, aperm, append, as.data.frame, basename, cbind,\n",
      "    colnames, dirname, do.call, duplicated, eval, evalq, Filter, Find,\n",
      "    get, grep, grepl, intersect, is.unsorted, lapply, Map, mapply,\n",
      "    match, mget, order, paste, pmax, pmax.int, pmin, pmin.int,\n",
      "    Position, rank, rbind, Reduce, rownames, sapply, setdiff, sort,\n",
      "    table, tapply, union, unique, unsplit, which.max, which.min\n",
      "\n",
      "\n",
      "Loading required package: S4Vectors\n",
      "\n",
      "\n",
      "Attaching package: ‘S4Vectors’\n",
      "\n",
      "\n",
      "The following objects are masked from ‘package:data.table’:\n",
      "\n",
      "    first, second\n",
      "\n",
      "\n",
      "The following object is masked from ‘package:utils’:\n",
      "\n",
      "    findMatches\n",
      "\n",
      "\n",
      "The following objects are masked from ‘package:base’:\n",
      "\n",
      "    expand.grid, I, unname\n",
      "\n",
      "\n",
      "Loading required package: IRanges\n",
      "\n",
      "\n",
      "Attaching package: ‘IRanges’\n",
      "\n",
      "\n",
      "The following object is masked from ‘package:data.table’:\n",
      "\n",
      "    shift\n",
      "\n",
      "\n",
      "Loading required package: GenomeInfoDb\n",
      "\n",
      "Loading required package: SummarizedExperiment\n",
      "\n",
      "Loading required package: MatrixGenerics\n",
      "\n",
      "Loading required package: matrixStats\n",
      "\n",
      "\n",
      "Attaching package: ‘MatrixGenerics’\n",
      "\n",
      "\n",
      "The following objects are masked from ‘package:matrixStats’:\n",
      "\n",
      "    colAlls, colAnyNAs, colAnys, colAvgsPerRowSet, colCollapse,\n",
      "    colCounts, colCummaxs, colCummins, colCumprods, colCumsums,\n",
      "    colDiffs, colIQRDiffs, colIQRs, colLogSumExps, colMadDiffs,\n",
      "    colMads, colMaxs, colMeans2, colMedians, colMins, colOrderStats,\n",
      "    colProds, colQuantiles, colRanges, colRanks, colSdDiffs, colSds,\n",
      "    colSums2, colTabulates, colVarDiffs, colVars, colWeightedMads,\n",
      "    colWeightedMeans, colWeightedMedians, colWeightedSds,\n",
      "    colWeightedVars, rowAlls, rowAnyNAs, rowAnys, rowAvgsPerColSet,\n",
      "    rowCollapse, rowCounts, rowCummaxs, rowCummins, rowCumprods,\n",
      "    rowCumsums, rowDiffs, rowIQRDiffs, rowIQRs, rowLogSumExps,\n",
      "    rowMadDiffs, rowMads, rowMaxs, rowMeans2, rowMedians, rowMins,\n",
      "    rowOrderStats, rowProds, rowQuantiles, rowRanges, rowRanks,\n",
      "    rowSdDiffs, rowSds, rowSums2, rowTabulates, rowVarDiffs, rowVars,\n",
      "    rowWeightedMads, rowWeightedMeans, rowWeightedMedians,\n",
      "    rowWeightedSds, rowWeightedVars\n",
      "\n",
      "\n",
      "Loading required package: Biobase\n",
      "\n",
      "Welcome to Bioconductor\n",
      "\n",
      "    Vignettes contain introductory material; view with\n",
      "    'browseVignettes()'. To cite Bioconductor, see\n",
      "    'citation(\"Biobase\")', and for packages 'citation(\"pkgname\")'.\n",
      "\n",
      "\n",
      "\n",
      "Attaching package: ‘Biobase’\n",
      "\n",
      "\n",
      "The following object is masked from ‘package:MatrixGenerics’:\n",
      "\n",
      "    rowMedians\n",
      "\n",
      "\n",
      "The following objects are masked from ‘package:matrixStats’:\n",
      "\n",
      "    anyMissing, rowMedians\n",
      "\n",
      "\n"
     ]
    }
   ],
   "source": [
    "library(CpGWAS)\n",
    "library(GenomicRanges)\n",
    "library(bsseq)"
   ]
  },
  {
   "cell_type": "code",
   "execution_count": 3,
   "id": "59ec4bdc-57d7-4f01-b439-08373fb57f4a",
   "metadata": {},
   "outputs": [],
   "source": [
    "df <- fread(\"12-OUT_matched_SNP_meth_cov_outputs.csv\")"
   ]
  },
  {
   "cell_type": "code",
   "execution_count": 4,
   "id": "c40c1216-91dc-49ce-b309-32ded8f88379",
   "metadata": {},
   "outputs": [
    {
     "data": {
      "text/html": [
       "<style>\n",
       ".list-inline {list-style: none; margin:0; padding: 0}\n",
       ".list-inline>li {display: inline-block}\n",
       ".list-inline>li:not(:last-child)::after {content: \"\\00b7\"; padding: 0 .5ex}\n",
       "</style>\n",
       "<ol class=list-inline><li>16098</li><li>14</li></ol>\n"
      ],
      "text/latex": [
       "\\begin{enumerate*}\n",
       "\\item 16098\n",
       "\\item 14\n",
       "\\end{enumerate*}\n"
      ],
      "text/markdown": [
       "1. 16098\n",
       "2. 14\n",
       "\n",
       "\n"
      ],
      "text/plain": [
       "[1] 16098    14"
      ]
     },
     "metadata": {},
     "output_type": "display_data"
    }
   ],
   "source": [
    "dim(df)"
   ]
  },
  {
   "cell_type": "code",
   "execution_count": 5,
   "id": "0bcc2ae9-7c7f-43de-a2bc-2c6d40e4dc3b",
   "metadata": {},
   "outputs": [],
   "source": [
    "df <- df[!grepl(\"libd_chr1-chr1_AA-libd_chr1-chr1_AA-2188982-2202702-dynamic-1corestotal-allcorepera-caud-20240510-141118.rds\", df$path), ]"
   ]
  },
  {
   "cell_type": "code",
   "execution_count": 6,
   "id": "aafa48cc-715e-4742-8444-1b7b72cbe70c",
   "metadata": {},
   "outputs": [],
   "source": [
    "i <- 1"
   ]
  },
  {
   "cell_type": "code",
   "execution_count": 7,
   "id": "7644d738-e350-4929-ab86-03ff02ac90ec",
   "metadata": {},
   "outputs": [
    {
     "data": {
      "text/html": [
       "<style>\n",
       ".list-inline {list-style: none; margin:0; padding: 0}\n",
       ".list-inline>li {display: inline-block}\n",
       ".list-inline>li:not(:last-child)::after {content: \"\\00b7\"; padding: 0 .5ex}\n",
       "</style>\n",
       "<ol class=list-inline><li>16097</li><li>14</li></ol>\n"
      ],
      "text/latex": [
       "\\begin{enumerate*}\n",
       "\\item 16097\n",
       "\\item 14\n",
       "\\end{enumerate*}\n"
      ],
      "text/markdown": [
       "1. 16097\n",
       "2. 14\n",
       "\n",
       "\n"
      ],
      "text/plain": [
       "[1] 16097    14"
      ]
     },
     "metadata": {},
     "output_type": "display_data"
    }
   ],
   "source": [
    "dim(df)"
   ]
  },
  {
   "cell_type": "code",
   "execution_count": 8,
   "id": "5f6f7a82-6eb9-4717-90af-286d239b4eb2",
   "metadata": {},
   "outputs": [],
   "source": [
    "library(data.table)\n",
    "\n",
    "# Assuming df is your data.table\n",
    "df[, timestamp := sub(\".*-(\\\\d{8}-\\\\d{6}).*\", \"\\\\1\", path)]"
   ]
  },
  {
   "cell_type": "code",
   "execution_count": 9,
   "id": "ff6c410b-b6cf-4edc-8489-d37359996023",
   "metadata": {
    "scrolled": true
   },
   "outputs": [
    {
     "data": {
      "text/html": [
       "<table class=\"dataframe\">\n",
       "<caption>A data.table: 6 × 15</caption>\n",
       "<thead>\n",
       "\t<tr><th scope=col>Chr</th><th scope=col>population</th><th scope=col>region</th><th scope=col>chunk_start</th><th scope=col>chunk_end</th><th scope=col>SNP_data</th><th scope=col>methylation_data</th><th scope=col>last_meth_value_with_SNP_coverage</th><th scope=col>first_meth_value_with_SNP_coverage</th><th scope=col>last_meth_index_with_SNP_coverage</th><th scope=col>first_meth_index_with_SNP_coverage</th><th scope=col>cov_file</th><th scope=col>modified_methylation_data</th><th scope=col>path</th><th scope=col>timestamp</th></tr>\n",
       "\t<tr><th scope=col>&lt;int&gt;</th><th scope=col>&lt;chr&gt;</th><th scope=col>&lt;chr&gt;</th><th scope=col>&lt;int&gt;</th><th scope=col>&lt;dbl&gt;</th><th scope=col>&lt;chr&gt;</th><th scope=col>&lt;chr&gt;</th><th scope=col>&lt;int&gt;</th><th scope=col>&lt;int&gt;</th><th scope=col>&lt;int&gt;</th><th scope=col>&lt;int&gt;</th><th scope=col>&lt;chr&gt;</th><th scope=col>&lt;chr&gt;</th><th scope=col>&lt;chr&gt;</th><th scope=col>&lt;chr&gt;</th></tr>\n",
       "</thead>\n",
       "<tbody>\n",
       "\t<tr><td>1</td><td>AA</td><td>caud</td><td> 8982</td><td>28981</td><td>/dcs04/lieber/statsgen/shizhong/michael/mwas/gwas//libd_chr1.pgen</td><td>/dcs04/lieber/statsgen/shizhong/michael/mwas/pheno/caud/out/chr1_AA.rda</td><td>248918358</td><td>1069461</td><td>2202702</td><td>8982</td><td>/dcs04/lieber/statsgen/mnagle/mwas/full_covariates/AA_caud.csv</td><td>/dcs04/lieber/statsgen/mnagle/mwas/pheno/caud/out/chr1_AA_8982-28981.rds </td><td>..//output_EXPANSE_a2_caud/libd_chr1-chr1_AA-libd_chr1-chr1_AA-8982-28981-dynamic-1corestotal-allcorepera-20240415-104419.rds      </td><td>20240415-104419</td></tr>\n",
       "\t<tr><td>1</td><td>AA</td><td>caud</td><td> 8982</td><td>28981</td><td>/dcs04/lieber/statsgen/shizhong/michael/mwas/gwas//libd_chr1.pgen</td><td>/dcs04/lieber/statsgen/shizhong/michael/mwas/pheno/caud/out/chr1_AA.rda</td><td>248918358</td><td>1069461</td><td>2202702</td><td>8982</td><td>/dcs04/lieber/statsgen/mnagle/mwas/full_covariates/AA_caud.csv</td><td>/dcs04/lieber/statsgen/mnagle/mwas/pheno/caud/out/chr1_AA_8982-28981.rds </td><td>..//output_EXPANSE_a2_caud/libd_chr1-chr1_AA-libd_chr1-chr1_AA-8982-28981-dynamic-1corestotal-allcorepera-caud-20240510-121942.rds </td><td>20240510-121942</td></tr>\n",
       "\t<tr><td>1</td><td>AA</td><td>caud</td><td>28982</td><td>48981</td><td>/dcs04/lieber/statsgen/shizhong/michael/mwas/gwas//libd_chr1.pgen</td><td>/dcs04/lieber/statsgen/shizhong/michael/mwas/pheno/caud/out/chr1_AA.rda</td><td>248918358</td><td>1069461</td><td>2202702</td><td>8982</td><td>/dcs04/lieber/statsgen/mnagle/mwas/full_covariates/AA_caud.csv</td><td>/dcs04/lieber/statsgen/mnagle/mwas/pheno/caud/out/chr1_AA_28982-48981.rds</td><td>..//output_EXPANSE_a2_caud/libd_chr1-chr1_AA-libd_chr1-chr1_AA-28982-48981-dynamic-1corestotal-allcorepera-20240415-104820.rds     </td><td>20240415-104820</td></tr>\n",
       "\t<tr><td>1</td><td>AA</td><td>caud</td><td>28982</td><td>48981</td><td>/dcs04/lieber/statsgen/shizhong/michael/mwas/gwas//libd_chr1.pgen</td><td>/dcs04/lieber/statsgen/shizhong/michael/mwas/pheno/caud/out/chr1_AA.rda</td><td>248918358</td><td>1069461</td><td>2202702</td><td>8982</td><td>/dcs04/lieber/statsgen/mnagle/mwas/full_covariates/AA_caud.csv</td><td>/dcs04/lieber/statsgen/mnagle/mwas/pheno/caud/out/chr1_AA_28982-48981.rds</td><td>..//output_EXPANSE_a2_caud/libd_chr1-chr1_AA-libd_chr1-chr1_AA-28982-48981-dynamic-1corestotal-allcorepera-caud-20240510-122045.rds</td><td>20240510-122045</td></tr>\n",
       "\t<tr><td>1</td><td>AA</td><td>caud</td><td>48982</td><td>68981</td><td>/dcs04/lieber/statsgen/shizhong/michael/mwas/gwas//libd_chr1.pgen</td><td>/dcs04/lieber/statsgen/shizhong/michael/mwas/pheno/caud/out/chr1_AA.rda</td><td>248918358</td><td>1069461</td><td>2202702</td><td>8982</td><td>/dcs04/lieber/statsgen/mnagle/mwas/full_covariates/AA_caud.csv</td><td>/dcs04/lieber/statsgen/mnagle/mwas/pheno/caud/out/chr1_AA_48982-68981.rds</td><td>..//output_EXPANSE_a2_caud/libd_chr1-chr1_AA-libd_chr1-chr1_AA-48982-68981-dynamic-1corestotal-allcorepera-20240415-105220.rds     </td><td>20240415-105220</td></tr>\n",
       "\t<tr><td>1</td><td>AA</td><td>caud</td><td>48982</td><td>68981</td><td>/dcs04/lieber/statsgen/shizhong/michael/mwas/gwas//libd_chr1.pgen</td><td>/dcs04/lieber/statsgen/shizhong/michael/mwas/pheno/caud/out/chr1_AA.rda</td><td>248918358</td><td>1069461</td><td>2202702</td><td>8982</td><td>/dcs04/lieber/statsgen/mnagle/mwas/full_covariates/AA_caud.csv</td><td>/dcs04/lieber/statsgen/mnagle/mwas/pheno/caud/out/chr1_AA_48982-68981.rds</td><td>..//output_EXPANSE_a2_caud/libd_chr1-chr1_AA-libd_chr1-chr1_AA-48982-68981-dynamic-1corestotal-allcorepera-caud-20240510-122147.rds</td><td>20240510-122147</td></tr>\n",
       "</tbody>\n",
       "</table>\n"
      ],
      "text/latex": [
       "A data.table: 6 × 15\n",
       "\\begin{tabular}{lllllllllllllll}\n",
       " Chr & population & region & chunk\\_start & chunk\\_end & SNP\\_data & methylation\\_data & last\\_meth\\_value\\_with\\_SNP\\_coverage & first\\_meth\\_value\\_with\\_SNP\\_coverage & last\\_meth\\_index\\_with\\_SNP\\_coverage & first\\_meth\\_index\\_with\\_SNP\\_coverage & cov\\_file & modified\\_methylation\\_data & path & timestamp\\\\\n",
       " <int> & <chr> & <chr> & <int> & <dbl> & <chr> & <chr> & <int> & <int> & <int> & <int> & <chr> & <chr> & <chr> & <chr>\\\\\n",
       "\\hline\n",
       "\t 1 & AA & caud &  8982 & 28981 & /dcs04/lieber/statsgen/shizhong/michael/mwas/gwas//libd\\_chr1.pgen & /dcs04/lieber/statsgen/shizhong/michael/mwas/pheno/caud/out/chr1\\_AA.rda & 248918358 & 1069461 & 2202702 & 8982 & /dcs04/lieber/statsgen/mnagle/mwas/full\\_covariates/AA\\_caud.csv & /dcs04/lieber/statsgen/mnagle/mwas/pheno/caud/out/chr1\\_AA\\_8982-28981.rds  & ..//output\\_EXPANSE\\_a2\\_caud/libd\\_chr1-chr1\\_AA-libd\\_chr1-chr1\\_AA-8982-28981-dynamic-1corestotal-allcorepera-20240415-104419.rds       & 20240415-104419\\\\\n",
       "\t 1 & AA & caud &  8982 & 28981 & /dcs04/lieber/statsgen/shizhong/michael/mwas/gwas//libd\\_chr1.pgen & /dcs04/lieber/statsgen/shizhong/michael/mwas/pheno/caud/out/chr1\\_AA.rda & 248918358 & 1069461 & 2202702 & 8982 & /dcs04/lieber/statsgen/mnagle/mwas/full\\_covariates/AA\\_caud.csv & /dcs04/lieber/statsgen/mnagle/mwas/pheno/caud/out/chr1\\_AA\\_8982-28981.rds  & ..//output\\_EXPANSE\\_a2\\_caud/libd\\_chr1-chr1\\_AA-libd\\_chr1-chr1\\_AA-8982-28981-dynamic-1corestotal-allcorepera-caud-20240510-121942.rds  & 20240510-121942\\\\\n",
       "\t 1 & AA & caud & 28982 & 48981 & /dcs04/lieber/statsgen/shizhong/michael/mwas/gwas//libd\\_chr1.pgen & /dcs04/lieber/statsgen/shizhong/michael/mwas/pheno/caud/out/chr1\\_AA.rda & 248918358 & 1069461 & 2202702 & 8982 & /dcs04/lieber/statsgen/mnagle/mwas/full\\_covariates/AA\\_caud.csv & /dcs04/lieber/statsgen/mnagle/mwas/pheno/caud/out/chr1\\_AA\\_28982-48981.rds & ..//output\\_EXPANSE\\_a2\\_caud/libd\\_chr1-chr1\\_AA-libd\\_chr1-chr1\\_AA-28982-48981-dynamic-1corestotal-allcorepera-20240415-104820.rds      & 20240415-104820\\\\\n",
       "\t 1 & AA & caud & 28982 & 48981 & /dcs04/lieber/statsgen/shizhong/michael/mwas/gwas//libd\\_chr1.pgen & /dcs04/lieber/statsgen/shizhong/michael/mwas/pheno/caud/out/chr1\\_AA.rda & 248918358 & 1069461 & 2202702 & 8982 & /dcs04/lieber/statsgen/mnagle/mwas/full\\_covariates/AA\\_caud.csv & /dcs04/lieber/statsgen/mnagle/mwas/pheno/caud/out/chr1\\_AA\\_28982-48981.rds & ..//output\\_EXPANSE\\_a2\\_caud/libd\\_chr1-chr1\\_AA-libd\\_chr1-chr1\\_AA-28982-48981-dynamic-1corestotal-allcorepera-caud-20240510-122045.rds & 20240510-122045\\\\\n",
       "\t 1 & AA & caud & 48982 & 68981 & /dcs04/lieber/statsgen/shizhong/michael/mwas/gwas//libd\\_chr1.pgen & /dcs04/lieber/statsgen/shizhong/michael/mwas/pheno/caud/out/chr1\\_AA.rda & 248918358 & 1069461 & 2202702 & 8982 & /dcs04/lieber/statsgen/mnagle/mwas/full\\_covariates/AA\\_caud.csv & /dcs04/lieber/statsgen/mnagle/mwas/pheno/caud/out/chr1\\_AA\\_48982-68981.rds & ..//output\\_EXPANSE\\_a2\\_caud/libd\\_chr1-chr1\\_AA-libd\\_chr1-chr1\\_AA-48982-68981-dynamic-1corestotal-allcorepera-20240415-105220.rds      & 20240415-105220\\\\\n",
       "\t 1 & AA & caud & 48982 & 68981 & /dcs04/lieber/statsgen/shizhong/michael/mwas/gwas//libd\\_chr1.pgen & /dcs04/lieber/statsgen/shizhong/michael/mwas/pheno/caud/out/chr1\\_AA.rda & 248918358 & 1069461 & 2202702 & 8982 & /dcs04/lieber/statsgen/mnagle/mwas/full\\_covariates/AA\\_caud.csv & /dcs04/lieber/statsgen/mnagle/mwas/pheno/caud/out/chr1\\_AA\\_48982-68981.rds & ..//output\\_EXPANSE\\_a2\\_caud/libd\\_chr1-chr1\\_AA-libd\\_chr1-chr1\\_AA-48982-68981-dynamic-1corestotal-allcorepera-caud-20240510-122147.rds & 20240510-122147\\\\\n",
       "\\end{tabular}\n"
      ],
      "text/markdown": [
       "\n",
       "A data.table: 6 × 15\n",
       "\n",
       "| Chr &lt;int&gt; | population &lt;chr&gt; | region &lt;chr&gt; | chunk_start &lt;int&gt; | chunk_end &lt;dbl&gt; | SNP_data &lt;chr&gt; | methylation_data &lt;chr&gt; | last_meth_value_with_SNP_coverage &lt;int&gt; | first_meth_value_with_SNP_coverage &lt;int&gt; | last_meth_index_with_SNP_coverage &lt;int&gt; | first_meth_index_with_SNP_coverage &lt;int&gt; | cov_file &lt;chr&gt; | modified_methylation_data &lt;chr&gt; | path &lt;chr&gt; | timestamp &lt;chr&gt; |\n",
       "|---|---|---|---|---|---|---|---|---|---|---|---|---|---|---|\n",
       "| 1 | AA | caud |  8982 | 28981 | /dcs04/lieber/statsgen/shizhong/michael/mwas/gwas//libd_chr1.pgen | /dcs04/lieber/statsgen/shizhong/michael/mwas/pheno/caud/out/chr1_AA.rda | 248918358 | 1069461 | 2202702 | 8982 | /dcs04/lieber/statsgen/mnagle/mwas/full_covariates/AA_caud.csv | /dcs04/lieber/statsgen/mnagle/mwas/pheno/caud/out/chr1_AA_8982-28981.rds  | ..//output_EXPANSE_a2_caud/libd_chr1-chr1_AA-libd_chr1-chr1_AA-8982-28981-dynamic-1corestotal-allcorepera-20240415-104419.rds       | 20240415-104419 |\n",
       "| 1 | AA | caud |  8982 | 28981 | /dcs04/lieber/statsgen/shizhong/michael/mwas/gwas//libd_chr1.pgen | /dcs04/lieber/statsgen/shizhong/michael/mwas/pheno/caud/out/chr1_AA.rda | 248918358 | 1069461 | 2202702 | 8982 | /dcs04/lieber/statsgen/mnagle/mwas/full_covariates/AA_caud.csv | /dcs04/lieber/statsgen/mnagle/mwas/pheno/caud/out/chr1_AA_8982-28981.rds  | ..//output_EXPANSE_a2_caud/libd_chr1-chr1_AA-libd_chr1-chr1_AA-8982-28981-dynamic-1corestotal-allcorepera-caud-20240510-121942.rds  | 20240510-121942 |\n",
       "| 1 | AA | caud | 28982 | 48981 | /dcs04/lieber/statsgen/shizhong/michael/mwas/gwas//libd_chr1.pgen | /dcs04/lieber/statsgen/shizhong/michael/mwas/pheno/caud/out/chr1_AA.rda | 248918358 | 1069461 | 2202702 | 8982 | /dcs04/lieber/statsgen/mnagle/mwas/full_covariates/AA_caud.csv | /dcs04/lieber/statsgen/mnagle/mwas/pheno/caud/out/chr1_AA_28982-48981.rds | ..//output_EXPANSE_a2_caud/libd_chr1-chr1_AA-libd_chr1-chr1_AA-28982-48981-dynamic-1corestotal-allcorepera-20240415-104820.rds      | 20240415-104820 |\n",
       "| 1 | AA | caud | 28982 | 48981 | /dcs04/lieber/statsgen/shizhong/michael/mwas/gwas//libd_chr1.pgen | /dcs04/lieber/statsgen/shizhong/michael/mwas/pheno/caud/out/chr1_AA.rda | 248918358 | 1069461 | 2202702 | 8982 | /dcs04/lieber/statsgen/mnagle/mwas/full_covariates/AA_caud.csv | /dcs04/lieber/statsgen/mnagle/mwas/pheno/caud/out/chr1_AA_28982-48981.rds | ..//output_EXPANSE_a2_caud/libd_chr1-chr1_AA-libd_chr1-chr1_AA-28982-48981-dynamic-1corestotal-allcorepera-caud-20240510-122045.rds | 20240510-122045 |\n",
       "| 1 | AA | caud | 48982 | 68981 | /dcs04/lieber/statsgen/shizhong/michael/mwas/gwas//libd_chr1.pgen | /dcs04/lieber/statsgen/shizhong/michael/mwas/pheno/caud/out/chr1_AA.rda | 248918358 | 1069461 | 2202702 | 8982 | /dcs04/lieber/statsgen/mnagle/mwas/full_covariates/AA_caud.csv | /dcs04/lieber/statsgen/mnagle/mwas/pheno/caud/out/chr1_AA_48982-68981.rds | ..//output_EXPANSE_a2_caud/libd_chr1-chr1_AA-libd_chr1-chr1_AA-48982-68981-dynamic-1corestotal-allcorepera-20240415-105220.rds      | 20240415-105220 |\n",
       "| 1 | AA | caud | 48982 | 68981 | /dcs04/lieber/statsgen/shizhong/michael/mwas/gwas//libd_chr1.pgen | /dcs04/lieber/statsgen/shizhong/michael/mwas/pheno/caud/out/chr1_AA.rda | 248918358 | 1069461 | 2202702 | 8982 | /dcs04/lieber/statsgen/mnagle/mwas/full_covariates/AA_caud.csv | /dcs04/lieber/statsgen/mnagle/mwas/pheno/caud/out/chr1_AA_48982-68981.rds | ..//output_EXPANSE_a2_caud/libd_chr1-chr1_AA-libd_chr1-chr1_AA-48982-68981-dynamic-1corestotal-allcorepera-caud-20240510-122147.rds | 20240510-122147 |\n",
       "\n"
      ],
      "text/plain": [
       "  Chr population region chunk_start chunk_end\n",
       "1 1   AA         caud    8982       28981    \n",
       "2 1   AA         caud    8982       28981    \n",
       "3 1   AA         caud   28982       48981    \n",
       "4 1   AA         caud   28982       48981    \n",
       "5 1   AA         caud   48982       68981    \n",
       "6 1   AA         caud   48982       68981    \n",
       "  SNP_data                                                         \n",
       "1 /dcs04/lieber/statsgen/shizhong/michael/mwas/gwas//libd_chr1.pgen\n",
       "2 /dcs04/lieber/statsgen/shizhong/michael/mwas/gwas//libd_chr1.pgen\n",
       "3 /dcs04/lieber/statsgen/shizhong/michael/mwas/gwas//libd_chr1.pgen\n",
       "4 /dcs04/lieber/statsgen/shizhong/michael/mwas/gwas//libd_chr1.pgen\n",
       "5 /dcs04/lieber/statsgen/shizhong/michael/mwas/gwas//libd_chr1.pgen\n",
       "6 /dcs04/lieber/statsgen/shizhong/michael/mwas/gwas//libd_chr1.pgen\n",
       "  methylation_data                                                       \n",
       "1 /dcs04/lieber/statsgen/shizhong/michael/mwas/pheno/caud/out/chr1_AA.rda\n",
       "2 /dcs04/lieber/statsgen/shizhong/michael/mwas/pheno/caud/out/chr1_AA.rda\n",
       "3 /dcs04/lieber/statsgen/shizhong/michael/mwas/pheno/caud/out/chr1_AA.rda\n",
       "4 /dcs04/lieber/statsgen/shizhong/michael/mwas/pheno/caud/out/chr1_AA.rda\n",
       "5 /dcs04/lieber/statsgen/shizhong/michael/mwas/pheno/caud/out/chr1_AA.rda\n",
       "6 /dcs04/lieber/statsgen/shizhong/michael/mwas/pheno/caud/out/chr1_AA.rda\n",
       "  last_meth_value_with_SNP_coverage first_meth_value_with_SNP_coverage\n",
       "1 248918358                         1069461                           \n",
       "2 248918358                         1069461                           \n",
       "3 248918358                         1069461                           \n",
       "4 248918358                         1069461                           \n",
       "5 248918358                         1069461                           \n",
       "6 248918358                         1069461                           \n",
       "  last_meth_index_with_SNP_coverage first_meth_index_with_SNP_coverage\n",
       "1 2202702                           8982                              \n",
       "2 2202702                           8982                              \n",
       "3 2202702                           8982                              \n",
       "4 2202702                           8982                              \n",
       "5 2202702                           8982                              \n",
       "6 2202702                           8982                              \n",
       "  cov_file                                                      \n",
       "1 /dcs04/lieber/statsgen/mnagle/mwas/full_covariates/AA_caud.csv\n",
       "2 /dcs04/lieber/statsgen/mnagle/mwas/full_covariates/AA_caud.csv\n",
       "3 /dcs04/lieber/statsgen/mnagle/mwas/full_covariates/AA_caud.csv\n",
       "4 /dcs04/lieber/statsgen/mnagle/mwas/full_covariates/AA_caud.csv\n",
       "5 /dcs04/lieber/statsgen/mnagle/mwas/full_covariates/AA_caud.csv\n",
       "6 /dcs04/lieber/statsgen/mnagle/mwas/full_covariates/AA_caud.csv\n",
       "  modified_methylation_data                                                \n",
       "1 /dcs04/lieber/statsgen/mnagle/mwas/pheno/caud/out/chr1_AA_8982-28981.rds \n",
       "2 /dcs04/lieber/statsgen/mnagle/mwas/pheno/caud/out/chr1_AA_8982-28981.rds \n",
       "3 /dcs04/lieber/statsgen/mnagle/mwas/pheno/caud/out/chr1_AA_28982-48981.rds\n",
       "4 /dcs04/lieber/statsgen/mnagle/mwas/pheno/caud/out/chr1_AA_28982-48981.rds\n",
       "5 /dcs04/lieber/statsgen/mnagle/mwas/pheno/caud/out/chr1_AA_48982-68981.rds\n",
       "6 /dcs04/lieber/statsgen/mnagle/mwas/pheno/caud/out/chr1_AA_48982-68981.rds\n",
       "  path                                                                                                                               \n",
       "1 ..//output_EXPANSE_a2_caud/libd_chr1-chr1_AA-libd_chr1-chr1_AA-8982-28981-dynamic-1corestotal-allcorepera-20240415-104419.rds      \n",
       "2 ..//output_EXPANSE_a2_caud/libd_chr1-chr1_AA-libd_chr1-chr1_AA-8982-28981-dynamic-1corestotal-allcorepera-caud-20240510-121942.rds \n",
       "3 ..//output_EXPANSE_a2_caud/libd_chr1-chr1_AA-libd_chr1-chr1_AA-28982-48981-dynamic-1corestotal-allcorepera-20240415-104820.rds     \n",
       "4 ..//output_EXPANSE_a2_caud/libd_chr1-chr1_AA-libd_chr1-chr1_AA-28982-48981-dynamic-1corestotal-allcorepera-caud-20240510-122045.rds\n",
       "5 ..//output_EXPANSE_a2_caud/libd_chr1-chr1_AA-libd_chr1-chr1_AA-48982-68981-dynamic-1corestotal-allcorepera-20240415-105220.rds     \n",
       "6 ..//output_EXPANSE_a2_caud/libd_chr1-chr1_AA-libd_chr1-chr1_AA-48982-68981-dynamic-1corestotal-allcorepera-caud-20240510-122147.rds\n",
       "  timestamp      \n",
       "1 20240415-104419\n",
       "2 20240510-121942\n",
       "3 20240415-104820\n",
       "4 20240510-122045\n",
       "5 20240415-105220\n",
       "6 20240510-122147"
      ]
     },
     "metadata": {},
     "output_type": "display_data"
    }
   ],
   "source": [
    "head(df)"
   ]
  },
  {
   "cell_type": "code",
   "execution_count": 10,
   "id": "68578b20-e255-4924-8301-6fde020c037e",
   "metadata": {},
   "outputs": [],
   "source": [
    "# Convert timestamp to an actual date-time object to ensure correct ordering\n",
    "df[, timestamp := as.POSIXct(timestamp, format = \"%Y%m%d-%H%M%S\")]\n",
    "\n",
    "# Order by modified_methylation_data and timestamp\n",
    "setorder(df, modified_methylation_data, -timestamp)\n",
    "\n",
    "# Remove duplicates, keeping only the latest timestamp entry for each modified_methylation_data\n",
    "df <- unique(df, by = \"modified_methylation_data\")\n"
   ]
  },
  {
   "cell_type": "code",
   "execution_count": 11,
   "id": "c93aa297-ab3a-4e47-b099-2d3f65c51968",
   "metadata": {},
   "outputs": [
    {
     "data": {
      "text/html": [
       "<table class=\"dataframe\">\n",
       "<caption>A data.table: 1 × 15</caption>\n",
       "<thead>\n",
       "\t<tr><th scope=col>Chr</th><th scope=col>population</th><th scope=col>region</th><th scope=col>chunk_start</th><th scope=col>chunk_end</th><th scope=col>SNP_data</th><th scope=col>methylation_data</th><th scope=col>last_meth_value_with_SNP_coverage</th><th scope=col>first_meth_value_with_SNP_coverage</th><th scope=col>last_meth_index_with_SNP_coverage</th><th scope=col>first_meth_index_with_SNP_coverage</th><th scope=col>cov_file</th><th scope=col>modified_methylation_data</th><th scope=col>path</th><th scope=col>timestamp</th></tr>\n",
       "\t<tr><th scope=col>&lt;int&gt;</th><th scope=col>&lt;chr&gt;</th><th scope=col>&lt;chr&gt;</th><th scope=col>&lt;int&gt;</th><th scope=col>&lt;dbl&gt;</th><th scope=col>&lt;chr&gt;</th><th scope=col>&lt;chr&gt;</th><th scope=col>&lt;int&gt;</th><th scope=col>&lt;int&gt;</th><th scope=col>&lt;int&gt;</th><th scope=col>&lt;int&gt;</th><th scope=col>&lt;chr&gt;</th><th scope=col>&lt;chr&gt;</th><th scope=col>&lt;chr&gt;</th><th scope=col>&lt;dttm&gt;</th></tr>\n",
       "</thead>\n",
       "<tbody>\n",
       "\t<tr><td>1</td><td>AA</td><td>caud</td><td>8982</td><td>28981</td><td>/dcs04/lieber/statsgen/shizhong/michael/mwas/gwas//libd_chr1.pgen</td><td>/dcs04/lieber/statsgen/shizhong/michael/mwas/pheno/caud/out/chr1_AA.rda</td><td>248918358</td><td>1069461</td><td>2202702</td><td>8982</td><td>/dcs04/lieber/statsgen/mnagle/mwas/full_covariates/AA_caud.csv</td><td>/dcs04/lieber/statsgen/mnagle/mwas/pheno/caud/out/chr1_AA_8982-28981.rds</td><td>..//output_EXPANSE_a2_caud/libd_chr1-chr1_AA-libd_chr1-chr1_AA-8982-28981-dynamic-1corestotal-allcorepera-caud-20240510-121942.rds</td><td>2024-05-10 12:19:42</td></tr>\n",
       "</tbody>\n",
       "</table>\n"
      ],
      "text/latex": [
       "A data.table: 1 × 15\n",
       "\\begin{tabular}{lllllllllllllll}\n",
       " Chr & population & region & chunk\\_start & chunk\\_end & SNP\\_data & methylation\\_data & last\\_meth\\_value\\_with\\_SNP\\_coverage & first\\_meth\\_value\\_with\\_SNP\\_coverage & last\\_meth\\_index\\_with\\_SNP\\_coverage & first\\_meth\\_index\\_with\\_SNP\\_coverage & cov\\_file & modified\\_methylation\\_data & path & timestamp\\\\\n",
       " <int> & <chr> & <chr> & <int> & <dbl> & <chr> & <chr> & <int> & <int> & <int> & <int> & <chr> & <chr> & <chr> & <dttm>\\\\\n",
       "\\hline\n",
       "\t 1 & AA & caud & 8982 & 28981 & /dcs04/lieber/statsgen/shizhong/michael/mwas/gwas//libd\\_chr1.pgen & /dcs04/lieber/statsgen/shizhong/michael/mwas/pheno/caud/out/chr1\\_AA.rda & 248918358 & 1069461 & 2202702 & 8982 & /dcs04/lieber/statsgen/mnagle/mwas/full\\_covariates/AA\\_caud.csv & /dcs04/lieber/statsgen/mnagle/mwas/pheno/caud/out/chr1\\_AA\\_8982-28981.rds & ..//output\\_EXPANSE\\_a2\\_caud/libd\\_chr1-chr1\\_AA-libd\\_chr1-chr1\\_AA-8982-28981-dynamic-1corestotal-allcorepera-caud-20240510-121942.rds & 2024-05-10 12:19:42\\\\\n",
       "\\end{tabular}\n"
      ],
      "text/markdown": [
       "\n",
       "A data.table: 1 × 15\n",
       "\n",
       "| Chr &lt;int&gt; | population &lt;chr&gt; | region &lt;chr&gt; | chunk_start &lt;int&gt; | chunk_end &lt;dbl&gt; | SNP_data &lt;chr&gt; | methylation_data &lt;chr&gt; | last_meth_value_with_SNP_coverage &lt;int&gt; | first_meth_value_with_SNP_coverage &lt;int&gt; | last_meth_index_with_SNP_coverage &lt;int&gt; | first_meth_index_with_SNP_coverage &lt;int&gt; | cov_file &lt;chr&gt; | modified_methylation_data &lt;chr&gt; | path &lt;chr&gt; | timestamp &lt;dttm&gt; |\n",
       "|---|---|---|---|---|---|---|---|---|---|---|---|---|---|---|\n",
       "| 1 | AA | caud | 8982 | 28981 | /dcs04/lieber/statsgen/shizhong/michael/mwas/gwas//libd_chr1.pgen | /dcs04/lieber/statsgen/shizhong/michael/mwas/pheno/caud/out/chr1_AA.rda | 248918358 | 1069461 | 2202702 | 8982 | /dcs04/lieber/statsgen/mnagle/mwas/full_covariates/AA_caud.csv | /dcs04/lieber/statsgen/mnagle/mwas/pheno/caud/out/chr1_AA_8982-28981.rds | ..//output_EXPANSE_a2_caud/libd_chr1-chr1_AA-libd_chr1-chr1_AA-8982-28981-dynamic-1corestotal-allcorepera-caud-20240510-121942.rds | 2024-05-10 12:19:42 |\n",
       "\n"
      ],
      "text/plain": [
       "  Chr population region chunk_start chunk_end\n",
       "1 1   AA         caud   8982        28981    \n",
       "  SNP_data                                                         \n",
       "1 /dcs04/lieber/statsgen/shizhong/michael/mwas/gwas//libd_chr1.pgen\n",
       "  methylation_data                                                       \n",
       "1 /dcs04/lieber/statsgen/shizhong/michael/mwas/pheno/caud/out/chr1_AA.rda\n",
       "  last_meth_value_with_SNP_coverage first_meth_value_with_SNP_coverage\n",
       "1 248918358                         1069461                           \n",
       "  last_meth_index_with_SNP_coverage first_meth_index_with_SNP_coverage\n",
       "1 2202702                           8982                              \n",
       "  cov_file                                                      \n",
       "1 /dcs04/lieber/statsgen/mnagle/mwas/full_covariates/AA_caud.csv\n",
       "  modified_methylation_data                                               \n",
       "1 /dcs04/lieber/statsgen/mnagle/mwas/pheno/caud/out/chr1_AA_8982-28981.rds\n",
       "  path                                                                                                                              \n",
       "1 ..//output_EXPANSE_a2_caud/libd_chr1-chr1_AA-libd_chr1-chr1_AA-8982-28981-dynamic-1corestotal-allcorepera-caud-20240510-121942.rds\n",
       "  timestamp          \n",
       "1 2024-05-10 12:19:42"
      ]
     },
     "metadata": {},
     "output_type": "display_data"
    }
   ],
   "source": [
    "df[which(df$modified_methylation_data == \"/dcs04/lieber/statsgen/mnagle/mwas/pheno/caud/out/chr1_AA_8982-28981.rds\"), ]"
   ]
  },
  {
   "cell_type": "code",
   "execution_count": null,
   "id": "d64b99b7-7bde-4d65-a60b-2e2b3e7d72ec",
   "metadata": {},
   "outputs": [],
   "source": []
  },
  {
   "cell_type": "code",
   "execution_count": 12,
   "id": "49feb156-490f-465d-b728-254d6a6e24b4",
   "metadata": {},
   "outputs": [
    {
     "data": {
      "text/html": [
       "<style>\n",
       ".list-inline {list-style: none; margin:0; padding: 0}\n",
       ".list-inline>li {display: inline-block}\n",
       ".list-inline>li:not(:last-child)::after {content: \"\\00b7\"; padding: 0 .5ex}\n",
       "</style>\n",
       "<ol class=list-inline><li>11457</li><li>15</li></ol>\n"
      ],
      "text/latex": [
       "\\begin{enumerate*}\n",
       "\\item 11457\n",
       "\\item 15\n",
       "\\end{enumerate*}\n"
      ],
      "text/markdown": [
       "1. 11457\n",
       "2. 15\n",
       "\n",
       "\n"
      ],
      "text/plain": [
       "[1] 11457    15"
      ]
     },
     "metadata": {},
     "output_type": "display_data"
    }
   ],
   "source": [
    "dim(df)"
   ]
  },
  {
   "cell_type": "code",
   "execution_count": 13,
   "id": "6b4071ff-b3c7-4083-9deb-b7b10ff76243",
   "metadata": {},
   "outputs": [],
   "source": [
    "df$methylation_data <- gsub(\"/dcs04/lieber/statsgen/mnagle/\", \"/expanse/lustre/projects/jhu152/naglemi/\", df$methylation_data)\n",
    "df$methylation_data <- gsub(\"/dcs04/lieber/statsgen/shizhong/michael/\", \"/expanse/lustre/projects/jhu152/naglemi/\", df$methylation_data)"
   ]
  },
  {
   "cell_type": "code",
   "execution_count": 14,
   "id": "b77a04b8-9bae-4c61-88f0-e95a413d1a1d",
   "metadata": {},
   "outputs": [
    {
     "data": {
      "text/html": [
       "<table class=\"dataframe\">\n",
       "<caption>A data.table: 6 × 15</caption>\n",
       "<thead>\n",
       "\t<tr><th scope=col>Chr</th><th scope=col>population</th><th scope=col>region</th><th scope=col>chunk_start</th><th scope=col>chunk_end</th><th scope=col>SNP_data</th><th scope=col>methylation_data</th><th scope=col>last_meth_value_with_SNP_coverage</th><th scope=col>first_meth_value_with_SNP_coverage</th><th scope=col>last_meth_index_with_SNP_coverage</th><th scope=col>first_meth_index_with_SNP_coverage</th><th scope=col>cov_file</th><th scope=col>modified_methylation_data</th><th scope=col>path</th><th scope=col>timestamp</th></tr>\n",
       "\t<tr><th scope=col>&lt;int&gt;</th><th scope=col>&lt;chr&gt;</th><th scope=col>&lt;chr&gt;</th><th scope=col>&lt;int&gt;</th><th scope=col>&lt;dbl&gt;</th><th scope=col>&lt;chr&gt;</th><th scope=col>&lt;chr&gt;</th><th scope=col>&lt;int&gt;</th><th scope=col>&lt;int&gt;</th><th scope=col>&lt;int&gt;</th><th scope=col>&lt;int&gt;</th><th scope=col>&lt;chr&gt;</th><th scope=col>&lt;chr&gt;</th><th scope=col>&lt;chr&gt;</th><th scope=col>&lt;dttm&gt;</th></tr>\n",
       "</thead>\n",
       "<tbody>\n",
       "\t<tr><td>10</td><td>AA</td><td>caud</td><td>      1</td><td>  20000</td><td>/dcs04/lieber/statsgen/shizhong/michael/mwas/gwas//libd_chr10.pgen</td><td>/expanse/lustre/projects/jhu152/naglemi/mwas/pheno/caud/out/chr10_AA.rda</td><td>133625493</td><td>45719</td><td>1288155</td><td>1</td><td>/dcs04/lieber/statsgen/mnagle/mwas/full_covariates/AA_caud.csv</td><td>/dcs04/lieber/statsgen/mnagle/mwas/pheno/caud/out/chr10_AA_1-20000.rds        </td><td>..//output_EXPANSE_a2_caud/libd_chr10-chr10_AA-libd_chr10-chr10_AA-1-20000-dynamic-1corestotal-allcorepera-20240429-060908.rds        </td><td>2024-04-29 06:09:08</td></tr>\n",
       "\t<tr><td>10</td><td>AA</td><td>caud</td><td>1000001</td><td>1020000</td><td>/dcs04/lieber/statsgen/shizhong/michael/mwas/gwas//libd_chr10.pgen</td><td>/expanse/lustre/projects/jhu152/naglemi/mwas/pheno/caud/out/chr10_AA.rda</td><td>133625493</td><td>45719</td><td>1288155</td><td>1</td><td>/dcs04/lieber/statsgen/mnagle/mwas/full_covariates/AA_caud.csv</td><td>/dcs04/lieber/statsgen/mnagle/mwas/pheno/caud/out/chr10_AA_1000001-1020000.rds</td><td>..//output_EXPANSE_a2_caud/libd_chr10-chr10_AA-libd_chr10-chr10_AA-1000001-1020000-dynamic-1corestotal-allcorepera-20240429-084013.rds</td><td>2024-04-29 08:40:13</td></tr>\n",
       "\t<tr><td>10</td><td>AA</td><td>caud</td><td> 100001</td><td> 120000</td><td>/dcs04/lieber/statsgen/shizhong/michael/mwas/gwas//libd_chr10.pgen</td><td>/expanse/lustre/projects/jhu152/naglemi/mwas/pheno/caud/out/chr10_AA.rda</td><td>133625493</td><td>45719</td><td>1288155</td><td>1</td><td>/dcs04/lieber/statsgen/mnagle/mwas/full_covariates/AA_caud.csv</td><td>/dcs04/lieber/statsgen/mnagle/mwas/pheno/caud/out/chr10_AA_100001-120000.rds  </td><td>..//output_EXPANSE_a2_caud/libd_chr10-chr10_AA-libd_chr10-chr10_AA-100001-120000-dynamic-1corestotal-allcorepera-20240429-062413.rds  </td><td>2024-04-29 06:24:13</td></tr>\n",
       "\t<tr><td>10</td><td>AA</td><td>caud</td><td>1020001</td><td>1040000</td><td>/dcs04/lieber/statsgen/shizhong/michael/mwas/gwas//libd_chr10.pgen</td><td>/expanse/lustre/projects/jhu152/naglemi/mwas/pheno/caud/out/chr10_AA.rda</td><td>133625493</td><td>45719</td><td>1288155</td><td>1</td><td>/dcs04/lieber/statsgen/mnagle/mwas/full_covariates/AA_caud.csv</td><td>/dcs04/lieber/statsgen/mnagle/mwas/pheno/caud/out/chr10_AA_1020001-1040000.rds</td><td>..//output_EXPANSE_a2_caud/libd_chr10-chr10_AA-libd_chr10-chr10_AA-1020001-1040000-dynamic-1corestotal-allcorepera-20240429-084314.rds</td><td>2024-04-29 08:43:14</td></tr>\n",
       "\t<tr><td>10</td><td>AA</td><td>caud</td><td>1040001</td><td>1060000</td><td>/dcs04/lieber/statsgen/shizhong/michael/mwas/gwas//libd_chr10.pgen</td><td>/expanse/lustre/projects/jhu152/naglemi/mwas/pheno/caud/out/chr10_AA.rda</td><td>133625493</td><td>45719</td><td>1288155</td><td>1</td><td>/dcs04/lieber/statsgen/mnagle/mwas/full_covariates/AA_caud.csv</td><td>/dcs04/lieber/statsgen/mnagle/mwas/pheno/caud/out/chr10_AA_1040001-1060000.rds</td><td>..//output_EXPANSE_a2_caud/libd_chr10-chr10_AA-libd_chr10-chr10_AA-1040001-1060000-dynamic-1corestotal-allcorepera-20240429-084615.rds</td><td>2024-04-29 08:46:15</td></tr>\n",
       "\t<tr><td>10</td><td>AA</td><td>caud</td><td>1060001</td><td>1080000</td><td>/dcs04/lieber/statsgen/shizhong/michael/mwas/gwas//libd_chr10.pgen</td><td>/expanse/lustre/projects/jhu152/naglemi/mwas/pheno/caud/out/chr10_AA.rda</td><td>133625493</td><td>45719</td><td>1288155</td><td>1</td><td>/dcs04/lieber/statsgen/mnagle/mwas/full_covariates/AA_caud.csv</td><td>/dcs04/lieber/statsgen/mnagle/mwas/pheno/caud/out/chr10_AA_1060001-1080000.rds</td><td>..//output_EXPANSE_a2_caud/libd_chr10-chr10_AA-libd_chr10-chr10_AA-1060001-1080000-dynamic-1corestotal-allcorepera-20240429-084916.rds</td><td>2024-04-29 08:49:16</td></tr>\n",
       "</tbody>\n",
       "</table>\n"
      ],
      "text/latex": [
       "A data.table: 6 × 15\n",
       "\\begin{tabular}{lllllllllllllll}\n",
       " Chr & population & region & chunk\\_start & chunk\\_end & SNP\\_data & methylation\\_data & last\\_meth\\_value\\_with\\_SNP\\_coverage & first\\_meth\\_value\\_with\\_SNP\\_coverage & last\\_meth\\_index\\_with\\_SNP\\_coverage & first\\_meth\\_index\\_with\\_SNP\\_coverage & cov\\_file & modified\\_methylation\\_data & path & timestamp\\\\\n",
       " <int> & <chr> & <chr> & <int> & <dbl> & <chr> & <chr> & <int> & <int> & <int> & <int> & <chr> & <chr> & <chr> & <dttm>\\\\\n",
       "\\hline\n",
       "\t 10 & AA & caud &       1 &   20000 & /dcs04/lieber/statsgen/shizhong/michael/mwas/gwas//libd\\_chr10.pgen & /expanse/lustre/projects/jhu152/naglemi/mwas/pheno/caud/out/chr10\\_AA.rda & 133625493 & 45719 & 1288155 & 1 & /dcs04/lieber/statsgen/mnagle/mwas/full\\_covariates/AA\\_caud.csv & /dcs04/lieber/statsgen/mnagle/mwas/pheno/caud/out/chr10\\_AA\\_1-20000.rds         & ..//output\\_EXPANSE\\_a2\\_caud/libd\\_chr10-chr10\\_AA-libd\\_chr10-chr10\\_AA-1-20000-dynamic-1corestotal-allcorepera-20240429-060908.rds         & 2024-04-29 06:09:08\\\\\n",
       "\t 10 & AA & caud & 1000001 & 1020000 & /dcs04/lieber/statsgen/shizhong/michael/mwas/gwas//libd\\_chr10.pgen & /expanse/lustre/projects/jhu152/naglemi/mwas/pheno/caud/out/chr10\\_AA.rda & 133625493 & 45719 & 1288155 & 1 & /dcs04/lieber/statsgen/mnagle/mwas/full\\_covariates/AA\\_caud.csv & /dcs04/lieber/statsgen/mnagle/mwas/pheno/caud/out/chr10\\_AA\\_1000001-1020000.rds & ..//output\\_EXPANSE\\_a2\\_caud/libd\\_chr10-chr10\\_AA-libd\\_chr10-chr10\\_AA-1000001-1020000-dynamic-1corestotal-allcorepera-20240429-084013.rds & 2024-04-29 08:40:13\\\\\n",
       "\t 10 & AA & caud &  100001 &  120000 & /dcs04/lieber/statsgen/shizhong/michael/mwas/gwas//libd\\_chr10.pgen & /expanse/lustre/projects/jhu152/naglemi/mwas/pheno/caud/out/chr10\\_AA.rda & 133625493 & 45719 & 1288155 & 1 & /dcs04/lieber/statsgen/mnagle/mwas/full\\_covariates/AA\\_caud.csv & /dcs04/lieber/statsgen/mnagle/mwas/pheno/caud/out/chr10\\_AA\\_100001-120000.rds   & ..//output\\_EXPANSE\\_a2\\_caud/libd\\_chr10-chr10\\_AA-libd\\_chr10-chr10\\_AA-100001-120000-dynamic-1corestotal-allcorepera-20240429-062413.rds   & 2024-04-29 06:24:13\\\\\n",
       "\t 10 & AA & caud & 1020001 & 1040000 & /dcs04/lieber/statsgen/shizhong/michael/mwas/gwas//libd\\_chr10.pgen & /expanse/lustre/projects/jhu152/naglemi/mwas/pheno/caud/out/chr10\\_AA.rda & 133625493 & 45719 & 1288155 & 1 & /dcs04/lieber/statsgen/mnagle/mwas/full\\_covariates/AA\\_caud.csv & /dcs04/lieber/statsgen/mnagle/mwas/pheno/caud/out/chr10\\_AA\\_1020001-1040000.rds & ..//output\\_EXPANSE\\_a2\\_caud/libd\\_chr10-chr10\\_AA-libd\\_chr10-chr10\\_AA-1020001-1040000-dynamic-1corestotal-allcorepera-20240429-084314.rds & 2024-04-29 08:43:14\\\\\n",
       "\t 10 & AA & caud & 1040001 & 1060000 & /dcs04/lieber/statsgen/shizhong/michael/mwas/gwas//libd\\_chr10.pgen & /expanse/lustre/projects/jhu152/naglemi/mwas/pheno/caud/out/chr10\\_AA.rda & 133625493 & 45719 & 1288155 & 1 & /dcs04/lieber/statsgen/mnagle/mwas/full\\_covariates/AA\\_caud.csv & /dcs04/lieber/statsgen/mnagle/mwas/pheno/caud/out/chr10\\_AA\\_1040001-1060000.rds & ..//output\\_EXPANSE\\_a2\\_caud/libd\\_chr10-chr10\\_AA-libd\\_chr10-chr10\\_AA-1040001-1060000-dynamic-1corestotal-allcorepera-20240429-084615.rds & 2024-04-29 08:46:15\\\\\n",
       "\t 10 & AA & caud & 1060001 & 1080000 & /dcs04/lieber/statsgen/shizhong/michael/mwas/gwas//libd\\_chr10.pgen & /expanse/lustre/projects/jhu152/naglemi/mwas/pheno/caud/out/chr10\\_AA.rda & 133625493 & 45719 & 1288155 & 1 & /dcs04/lieber/statsgen/mnagle/mwas/full\\_covariates/AA\\_caud.csv & /dcs04/lieber/statsgen/mnagle/mwas/pheno/caud/out/chr10\\_AA\\_1060001-1080000.rds & ..//output\\_EXPANSE\\_a2\\_caud/libd\\_chr10-chr10\\_AA-libd\\_chr10-chr10\\_AA-1060001-1080000-dynamic-1corestotal-allcorepera-20240429-084916.rds & 2024-04-29 08:49:16\\\\\n",
       "\\end{tabular}\n"
      ],
      "text/markdown": [
       "\n",
       "A data.table: 6 × 15\n",
       "\n",
       "| Chr &lt;int&gt; | population &lt;chr&gt; | region &lt;chr&gt; | chunk_start &lt;int&gt; | chunk_end &lt;dbl&gt; | SNP_data &lt;chr&gt; | methylation_data &lt;chr&gt; | last_meth_value_with_SNP_coverage &lt;int&gt; | first_meth_value_with_SNP_coverage &lt;int&gt; | last_meth_index_with_SNP_coverage &lt;int&gt; | first_meth_index_with_SNP_coverage &lt;int&gt; | cov_file &lt;chr&gt; | modified_methylation_data &lt;chr&gt; | path &lt;chr&gt; | timestamp &lt;dttm&gt; |\n",
       "|---|---|---|---|---|---|---|---|---|---|---|---|---|---|---|\n",
       "| 10 | AA | caud |       1 |   20000 | /dcs04/lieber/statsgen/shizhong/michael/mwas/gwas//libd_chr10.pgen | /expanse/lustre/projects/jhu152/naglemi/mwas/pheno/caud/out/chr10_AA.rda | 133625493 | 45719 | 1288155 | 1 | /dcs04/lieber/statsgen/mnagle/mwas/full_covariates/AA_caud.csv | /dcs04/lieber/statsgen/mnagle/mwas/pheno/caud/out/chr10_AA_1-20000.rds         | ..//output_EXPANSE_a2_caud/libd_chr10-chr10_AA-libd_chr10-chr10_AA-1-20000-dynamic-1corestotal-allcorepera-20240429-060908.rds         | 2024-04-29 06:09:08 |\n",
       "| 10 | AA | caud | 1000001 | 1020000 | /dcs04/lieber/statsgen/shizhong/michael/mwas/gwas//libd_chr10.pgen | /expanse/lustre/projects/jhu152/naglemi/mwas/pheno/caud/out/chr10_AA.rda | 133625493 | 45719 | 1288155 | 1 | /dcs04/lieber/statsgen/mnagle/mwas/full_covariates/AA_caud.csv | /dcs04/lieber/statsgen/mnagle/mwas/pheno/caud/out/chr10_AA_1000001-1020000.rds | ..//output_EXPANSE_a2_caud/libd_chr10-chr10_AA-libd_chr10-chr10_AA-1000001-1020000-dynamic-1corestotal-allcorepera-20240429-084013.rds | 2024-04-29 08:40:13 |\n",
       "| 10 | AA | caud |  100001 |  120000 | /dcs04/lieber/statsgen/shizhong/michael/mwas/gwas//libd_chr10.pgen | /expanse/lustre/projects/jhu152/naglemi/mwas/pheno/caud/out/chr10_AA.rda | 133625493 | 45719 | 1288155 | 1 | /dcs04/lieber/statsgen/mnagle/mwas/full_covariates/AA_caud.csv | /dcs04/lieber/statsgen/mnagle/mwas/pheno/caud/out/chr10_AA_100001-120000.rds   | ..//output_EXPANSE_a2_caud/libd_chr10-chr10_AA-libd_chr10-chr10_AA-100001-120000-dynamic-1corestotal-allcorepera-20240429-062413.rds   | 2024-04-29 06:24:13 |\n",
       "| 10 | AA | caud | 1020001 | 1040000 | /dcs04/lieber/statsgen/shizhong/michael/mwas/gwas//libd_chr10.pgen | /expanse/lustre/projects/jhu152/naglemi/mwas/pheno/caud/out/chr10_AA.rda | 133625493 | 45719 | 1288155 | 1 | /dcs04/lieber/statsgen/mnagle/mwas/full_covariates/AA_caud.csv | /dcs04/lieber/statsgen/mnagle/mwas/pheno/caud/out/chr10_AA_1020001-1040000.rds | ..//output_EXPANSE_a2_caud/libd_chr10-chr10_AA-libd_chr10-chr10_AA-1020001-1040000-dynamic-1corestotal-allcorepera-20240429-084314.rds | 2024-04-29 08:43:14 |\n",
       "| 10 | AA | caud | 1040001 | 1060000 | /dcs04/lieber/statsgen/shizhong/michael/mwas/gwas//libd_chr10.pgen | /expanse/lustre/projects/jhu152/naglemi/mwas/pheno/caud/out/chr10_AA.rda | 133625493 | 45719 | 1288155 | 1 | /dcs04/lieber/statsgen/mnagle/mwas/full_covariates/AA_caud.csv | /dcs04/lieber/statsgen/mnagle/mwas/pheno/caud/out/chr10_AA_1040001-1060000.rds | ..//output_EXPANSE_a2_caud/libd_chr10-chr10_AA-libd_chr10-chr10_AA-1040001-1060000-dynamic-1corestotal-allcorepera-20240429-084615.rds | 2024-04-29 08:46:15 |\n",
       "| 10 | AA | caud | 1060001 | 1080000 | /dcs04/lieber/statsgen/shizhong/michael/mwas/gwas//libd_chr10.pgen | /expanse/lustre/projects/jhu152/naglemi/mwas/pheno/caud/out/chr10_AA.rda | 133625493 | 45719 | 1288155 | 1 | /dcs04/lieber/statsgen/mnagle/mwas/full_covariates/AA_caud.csv | /dcs04/lieber/statsgen/mnagle/mwas/pheno/caud/out/chr10_AA_1060001-1080000.rds | ..//output_EXPANSE_a2_caud/libd_chr10-chr10_AA-libd_chr10-chr10_AA-1060001-1080000-dynamic-1corestotal-allcorepera-20240429-084916.rds | 2024-04-29 08:49:16 |\n",
       "\n"
      ],
      "text/plain": [
       "  Chr population region chunk_start chunk_end\n",
       "1 10  AA         caud         1       20000  \n",
       "2 10  AA         caud   1000001     1020000  \n",
       "3 10  AA         caud    100001      120000  \n",
       "4 10  AA         caud   1020001     1040000  \n",
       "5 10  AA         caud   1040001     1060000  \n",
       "6 10  AA         caud   1060001     1080000  \n",
       "  SNP_data                                                          \n",
       "1 /dcs04/lieber/statsgen/shizhong/michael/mwas/gwas//libd_chr10.pgen\n",
       "2 /dcs04/lieber/statsgen/shizhong/michael/mwas/gwas//libd_chr10.pgen\n",
       "3 /dcs04/lieber/statsgen/shizhong/michael/mwas/gwas//libd_chr10.pgen\n",
       "4 /dcs04/lieber/statsgen/shizhong/michael/mwas/gwas//libd_chr10.pgen\n",
       "5 /dcs04/lieber/statsgen/shizhong/michael/mwas/gwas//libd_chr10.pgen\n",
       "6 /dcs04/lieber/statsgen/shizhong/michael/mwas/gwas//libd_chr10.pgen\n",
       "  methylation_data                                                        \n",
       "1 /expanse/lustre/projects/jhu152/naglemi/mwas/pheno/caud/out/chr10_AA.rda\n",
       "2 /expanse/lustre/projects/jhu152/naglemi/mwas/pheno/caud/out/chr10_AA.rda\n",
       "3 /expanse/lustre/projects/jhu152/naglemi/mwas/pheno/caud/out/chr10_AA.rda\n",
       "4 /expanse/lustre/projects/jhu152/naglemi/mwas/pheno/caud/out/chr10_AA.rda\n",
       "5 /expanse/lustre/projects/jhu152/naglemi/mwas/pheno/caud/out/chr10_AA.rda\n",
       "6 /expanse/lustre/projects/jhu152/naglemi/mwas/pheno/caud/out/chr10_AA.rda\n",
       "  last_meth_value_with_SNP_coverage first_meth_value_with_SNP_coverage\n",
       "1 133625493                         45719                             \n",
       "2 133625493                         45719                             \n",
       "3 133625493                         45719                             \n",
       "4 133625493                         45719                             \n",
       "5 133625493                         45719                             \n",
       "6 133625493                         45719                             \n",
       "  last_meth_index_with_SNP_coverage first_meth_index_with_SNP_coverage\n",
       "1 1288155                           1                                 \n",
       "2 1288155                           1                                 \n",
       "3 1288155                           1                                 \n",
       "4 1288155                           1                                 \n",
       "5 1288155                           1                                 \n",
       "6 1288155                           1                                 \n",
       "  cov_file                                                      \n",
       "1 /dcs04/lieber/statsgen/mnagle/mwas/full_covariates/AA_caud.csv\n",
       "2 /dcs04/lieber/statsgen/mnagle/mwas/full_covariates/AA_caud.csv\n",
       "3 /dcs04/lieber/statsgen/mnagle/mwas/full_covariates/AA_caud.csv\n",
       "4 /dcs04/lieber/statsgen/mnagle/mwas/full_covariates/AA_caud.csv\n",
       "5 /dcs04/lieber/statsgen/mnagle/mwas/full_covariates/AA_caud.csv\n",
       "6 /dcs04/lieber/statsgen/mnagle/mwas/full_covariates/AA_caud.csv\n",
       "  modified_methylation_data                                                     \n",
       "1 /dcs04/lieber/statsgen/mnagle/mwas/pheno/caud/out/chr10_AA_1-20000.rds        \n",
       "2 /dcs04/lieber/statsgen/mnagle/mwas/pheno/caud/out/chr10_AA_1000001-1020000.rds\n",
       "3 /dcs04/lieber/statsgen/mnagle/mwas/pheno/caud/out/chr10_AA_100001-120000.rds  \n",
       "4 /dcs04/lieber/statsgen/mnagle/mwas/pheno/caud/out/chr10_AA_1020001-1040000.rds\n",
       "5 /dcs04/lieber/statsgen/mnagle/mwas/pheno/caud/out/chr10_AA_1040001-1060000.rds\n",
       "6 /dcs04/lieber/statsgen/mnagle/mwas/pheno/caud/out/chr10_AA_1060001-1080000.rds\n",
       "  path                                                                                                                                  \n",
       "1 ..//output_EXPANSE_a2_caud/libd_chr10-chr10_AA-libd_chr10-chr10_AA-1-20000-dynamic-1corestotal-allcorepera-20240429-060908.rds        \n",
       "2 ..//output_EXPANSE_a2_caud/libd_chr10-chr10_AA-libd_chr10-chr10_AA-1000001-1020000-dynamic-1corestotal-allcorepera-20240429-084013.rds\n",
       "3 ..//output_EXPANSE_a2_caud/libd_chr10-chr10_AA-libd_chr10-chr10_AA-100001-120000-dynamic-1corestotal-allcorepera-20240429-062413.rds  \n",
       "4 ..//output_EXPANSE_a2_caud/libd_chr10-chr10_AA-libd_chr10-chr10_AA-1020001-1040000-dynamic-1corestotal-allcorepera-20240429-084314.rds\n",
       "5 ..//output_EXPANSE_a2_caud/libd_chr10-chr10_AA-libd_chr10-chr10_AA-1040001-1060000-dynamic-1corestotal-allcorepera-20240429-084615.rds\n",
       "6 ..//output_EXPANSE_a2_caud/libd_chr10-chr10_AA-libd_chr10-chr10_AA-1060001-1080000-dynamic-1corestotal-allcorepera-20240429-084916.rds\n",
       "  timestamp          \n",
       "1 2024-04-29 06:09:08\n",
       "2 2024-04-29 08:40:13\n",
       "3 2024-04-29 06:24:13\n",
       "4 2024-04-29 08:43:14\n",
       "5 2024-04-29 08:46:15\n",
       "6 2024-04-29 08:49:16"
      ]
     },
     "metadata": {},
     "output_type": "display_data"
    }
   ],
   "source": [
    "head(df)"
   ]
  },
  {
   "cell_type": "code",
   "execution_count": 15,
   "id": "f4d8c8fe-5384-452a-a474-09191d9fe43c",
   "metadata": {},
   "outputs": [],
   "source": [
    "# Replace occurrences of \"../\" at the start of paths or after slashes in paths\n",
    "df$path <- gsub(\"(^|/)\\\\.\\\\./\", \"\\\\1/expanse/lustre/projects/jhu152/naglemi/mwas/CpGWAS/\", df$path)\n"
   ]
  },
  {
   "cell_type": "code",
   "execution_count": 16,
   "id": "7b46d62c-bdd8-4bd6-9417-68f4218b6d3d",
   "metadata": {},
   "outputs": [],
   "source": [
    "df$table_path <- gsub(\".rda\", \"-DNAm_stats.csv\", df$path)"
   ]
  },
  {
   "cell_type": "code",
   "execution_count": 17,
   "id": "c60dd602-4ba4-485f-bb20-73c6111b21de",
   "metadata": {},
   "outputs": [],
   "source": [
    "#df <- df[!duplicated(df[, c(\"methylation_data\")], fromLast = TRUE), ]"
   ]
  },
  {
   "cell_type": "code",
   "execution_count": 18,
   "id": "e9d35181-6cca-422c-b17d-de653c51af00",
   "metadata": {},
   "outputs": [],
   "source": [
    "# Convert timestamp to an actual date-time object to ensure correct ordering\n",
    "df[, timestamp := as.POSIXct(timestamp, format = \"%Y%m%d-%H%M%S\")]\n",
    "\n",
    "# Order by modified_methylation_data and timestamp\n",
    "setorder(df, modified_methylation_data, -timestamp)\n",
    "\n",
    "# Remove duplicates, keeping only the latest timestamp entry for each modified_methylation_data\n",
    "df <- unique(df, by = \"modified_methylation_data\")"
   ]
  },
  {
   "cell_type": "code",
   "execution_count": 19,
   "id": "2a05c138-0874-4a18-a0af-4c0c64d09eee",
   "metadata": {},
   "outputs": [],
   "source": [
    "df <- df[!grepl(\"empty\", df$path), ]"
   ]
  },
  {
   "cell_type": "code",
   "execution_count": 20,
   "id": "50634661-360a-44ef-bb37-2d4da4d721fb",
   "metadata": {},
   "outputs": [
    {
     "data": {
      "text/html": [
       "<style>\n",
       ".list-inline {list-style: none; margin:0; padding: 0}\n",
       ".list-inline>li {display: inline-block}\n",
       ".list-inline>li:not(:last-child)::after {content: \"\\00b7\"; padding: 0 .5ex}\n",
       "</style>\n",
       "<ol class=list-inline><li>11421</li><li>16</li></ol>\n"
      ],
      "text/latex": [
       "\\begin{enumerate*}\n",
       "\\item 11421\n",
       "\\item 16\n",
       "\\end{enumerate*}\n"
      ],
      "text/markdown": [
       "1. 11421\n",
       "2. 16\n",
       "\n",
       "\n"
      ],
      "text/plain": [
       "[1] 11421    16"
      ]
     },
     "metadata": {},
     "output_type": "display_data"
    }
   ],
   "source": [
    "dim(df)"
   ]
  },
  {
   "cell_type": "code",
   "execution_count": 21,
   "id": "3ddc7fb9-e028-4c20-9794-e083dc9c66ca",
   "metadata": {},
   "outputs": [],
   "source": [
    "test <- readRDS(df$path[1])"
   ]
  },
  {
   "cell_type": "code",
   "execution_count": 22,
   "id": "45fcd148-de5c-488c-92bf-91c2fc8bcdf6",
   "metadata": {},
   "outputs": [
    {
     "data": {
      "text/html": [
       "11421"
      ],
      "text/latex": [
       "11421"
      ],
      "text/markdown": [
       "11421"
      ],
      "text/plain": [
       "[1] 11421"
      ]
     },
     "metadata": {},
     "output_type": "display_data"
    }
   ],
   "source": [
    "length(levels(factor(df$path)))"
   ]
  },
  {
   "cell_type": "code",
   "execution_count": 23,
   "id": "d208f289-846d-4094-92ea-56531c20cd8a",
   "metadata": {},
   "outputs": [
    {
     "data": {
      "text/html": [],
      "text/latex": [],
      "text/markdown": [],
      "text/plain": [
       "integer(0)"
      ]
     },
     "metadata": {},
     "output_type": "display_data"
    }
   ],
   "source": [
    "which(df$path == \"/expanse/lustre/projects/jhu152/naglemi/mwas/CpGWAS//output_EXPANSE_a2_caud/libd_chr1-chr1_AA-libd_chr1-chr1_AA-2188982-2202702-dynamic-1corestotal-allcorepera-caud-20240510-141118.rds\")"
   ]
  },
  {
   "cell_type": "code",
   "execution_count": 24,
   "id": "85b07526-e232-4009-ac5a-2b3af088a85b",
   "metadata": {},
   "outputs": [],
   "source": [
    "library(data.table)\n",
    "library(parallel)\n",
    "\n",
    "# Assume df is already loaded and is a data.table\n",
    "\n",
    "# Function to process each row of df\n",
    "process_each_row <- function(row_index) {\n",
    "  # Local variable to hold the row data\n",
    "  row_data <- df[row_index]\n",
    "  \n",
    "  # Try to read the RDS file containing models from the path specified in the row\n",
    "  models_in <- tryCatch({\n",
    "    readRDS(row_data$path)\n",
    "  }, error = function(e) {\n",
    "    return(paste(\"Error reading RDS file from\", row_data$path, \":\", e$message))\n",
    "  })\n",
    "  \n",
    "  if (is.character(models_in)) {\n",
    "    return(models_in)\n",
    "  }\n",
    "\n",
    "  # Extract data for results.2\n",
    "  results_2 <- data.table(\n",
    "    Chr = row_data$Chr,\n",
    "    population = row_data$population,\n",
    "    region = row_data$region,\n",
    "    pos = sapply(models_in@models, function(x) x@methylationPosition),\n",
    "    cor = sapply(models_in@models, function(x) x@evaluation_results['cor']),\n",
    "    mse = sapply(models_in@models, function(x) x@evaluation_results['mse'])\n",
    "  )\n",
    "  \n",
    "  # Define the output filename based on the path file name\n",
    "  output_filename <- sub(\"\\\\.rds$\", \"_stat-summary.csv\", row_data$path)\n",
    "\n",
    "  if(grepl(\"rds\", output_filename)){\n",
    "      stop(\"Let's not overwrite data\")\n",
    "  }\n",
    "  \n",
    "  # Write to file without header\n",
    "  fwrite(results_2, output_filename, col.names = FALSE)\n",
    "\n",
    "  NULL\n",
    "}"
   ]
  },
  {
   "cell_type": "code",
   "execution_count": 25,
   "id": "44906542-b849-4dc7-90d2-d0d87217c2fd",
   "metadata": {},
   "outputs": [],
   "source": [
    "# Get the number of available cores\n",
    "no_cores <- 125\n",
    "\n",
    "# Use parallel processing to handle the rows\n",
    "row_indices <- seq_len(nrow(df))\n",
    "results_path <- mclapply(row_indices, process_each_row, mc.cores = no_cores)\n",
    "\n",
    "# Optionally print errors and messages\n",
    "errors_path <- unlist(results_path)\n",
    "if (length(errors_path) > 0) {\n",
    "  cat(\"Errors encountered during processing:\\n\")\n",
    "  cat(paste(errors_path, collapse = \"\\n\"), \"\\n\")\n",
    "}"
   ]
  },
  {
   "cell_type": "code",
   "execution_count": null,
   "id": "fc96faf2-35af-4f50-8514-1230f2e98014",
   "metadata": {},
   "outputs": [],
   "source": []
  }
 ],
 "metadata": {
  "kernelspec": {
   "display_name": "R",
   "language": "R",
   "name": "ir"
  },
  "language_info": {
   "codemirror_mode": "r",
   "file_extension": ".r",
   "mimetype": "text/x-r-source",
   "name": "R",
   "pygments_lexer": "r",
   "version": "4.3.1"
  }
 },
 "nbformat": 4,
 "nbformat_minor": 5
}
