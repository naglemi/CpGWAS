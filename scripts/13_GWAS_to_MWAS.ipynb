{
 "cells": [
  {
   "cell_type": "markdown",
   "id": "188aa11c-a8c1-462d-bbf3-e443a275f309",
   "metadata": {},
   "source": [
    "# Use GWAS summary stats for SNP->CpG->trait MWAS"
   ]
  },
  {
   "cell_type": "code",
   "execution_count": 1,
   "id": "4f5923dd-d98b-4a52-889e-38bf2f84d257",
   "metadata": {},
   "outputs": [
    {
     "name": "stderr",
     "output_type": "stream",
     "text": [
      "Warning message:\n",
      "“undefined slot classes in definition of \"MWASmodel\": methylationBase(class \"MethylationBase\")”\n"
     ]
    }
   ],
   "source": [
    "#' MWAS function\n",
    "#'\n",
    "#' Performs methylation-wide association study analysis.\n",
    "#'\n",
    "#' @param z Z-scores for effect of SNPs on external phenotype.\n",
    "#' @param w Weights for effect of SNPs on methylation.\n",
    "#' @param G SNP genotype matrix.\n",
    "#' @return Named vector containing z-score, p-value, and the number of weights.\n",
    "#' @export\n",
    "mwas <- function(z, w, G){   \n",
    "  if(length(w) > 1){\n",
    "    # z-scores for effect of SNPs on external phenotype\n",
    "    #. are weighted according to weights for effect of SNPs on methylation\n",
    "    z <- z %*% w\n",
    "    # compute correlation matrix of SNP matrix, which captures LD structure\n",
    "    z.cor <- cor(G)\n",
    "    # add small value to diagonal to avoid singular matrix\n",
    "    #  which may otherwise happen if two SNPs in perfect LD\n",
    "    z.cor <- z.cor + diag(dim(z.cor)[1])*0.1 \n",
    "    # variance of correlated variables is weighted sum \n",
    "    # multiplying w by corr matrix once gives a vector representing\n",
    "    #. the variance of each individual SNP and the extent to which they are\n",
    "    #. influenced by other SNPs. Multiplying again by w sums up pairwise contributions\n",
    "    #. and reflects total variance of weighted sum.\n",
    "    #. the first w is automatically transposed by R so we don't have to write t(w)\n",
    "    se <- sqrt(w %*%  z.cor %*%  w)\n",
    "    z <- z/se\n",
    "    p <- pnorm(abs(z), lower.tail=F)*2\n",
    "    return(c(z=z, p=p, n=length(w)))\n",
    "  } else {\n",
    "    p <- pnorm(abs(z), lower.tail=F)*2\n",
    "    return(c(z=z, p=p, n=1))\n",
    "  }\n",
    "}\n",
    "\n",
    "#' MWASmodel class\n",
    "#' @export\n",
    "setClass(\n",
    "  \"MWASmodel\",\n",
    "  representation(\n",
    "    methylationBase = \"MethylationBase\",\n",
    "    #summary_stats = \"data.table\",\n",
    "    mwas_out = \"numeric\"\n",
    "  )\n",
    ")\n",
    "\n",
    "#' MWASmodel constructor\n",
    "#' @param methylationBase MethylationBase object\n",
    "#' @param summary_stats Data table of summary statistics\n",
    "#' @param mwas_out Numeric vector of MWAS output\n",
    "#' @return MWASmodel object\n",
    "#' @export\n",
    "MWASmodel <- function(methylationBase,\n",
    "                      #summary_stats,\n",
    "                      mwas_out) {\n",
    "  new(\"MWASmodel\",\n",
    "      methylationBase = methylationBase,\n",
    "      #summary_stats = summary_stats,\n",
    "      mwas_out = mwas_out)\n",
    "}\n",
    "\n",
    "#' Process a single MWAS model\n",
    "#'\n",
    "#' @param methylationBase MethylationBase object\n",
    "#' @param my_SNPs SNP data\n",
    "#' @param summary_stats Data table of summary statistics\n",
    "#' @return MWASmodel object\n",
    "#' @export\n",
    "#' @importFrom stringr str_split_fixed\n",
    "#' @importFrom data.table as.data.table setnames setkey\n",
    "#' @importFrom data.table `%chin%`\n",
    "#' @importFrom pgenlibr ReadList\n",
    "process_model <- function(methylationBase, my_SNPs, summary_stats) {\n",
    "  \n",
    "  SNP_split <- stringr::str_split_fixed(names(methylationBase@snpWeights), \":\", 4)\n",
    "  SNP_split[,1] <- gsub(\"chr\", \"\", SNP_split[,1])\n",
    "  # Convert SNP_split to data.table and set integer types\n",
    "  SNP_split_dt <- as.data.table(SNP_split)\n",
    "  setnames(SNP_split_dt, c(\"chr\", \"post\", \"ref\", \"alt\"))\n",
    "  SNP_split_dt[, `:=`(chr = as.integer(chr), post = as.integer(post))]\n",
    "  \n",
    "  setkey(SNP_split_dt, chr, post)\n",
    "  \n",
    "  # Use a join with the keys\n",
    "  relevant_SNP_indices <- my_SNPs$pvar_dt[SNP_split_dt, on = .(`#CHROM` = chr, POS = post), which = TRUE, nomatch = 0]\n",
    "  # We only want summary stats for the specific SNPs contributing to this\n",
    "  #. methylation site in our model\n",
    "  relevant_ids <- my_SNPs$pvar_dt$ID[relevant_SNP_indices]\n",
    "  \n",
    "  # Subset summary_stats in constant time using a keyed join\n",
    "  #recover()\n",
    "  summary_stats_sub <- summary_stats[relevant_ids, nomatch = 0]\n",
    "  \n",
    "  #summary_stats_sub <- summary_stats[SNP %chin% relevant_ids]\n",
    "  # # z is a vector of the SNP weights from GWAS summary statistics\n",
    "  # z <- summary_stats_sub$logOR\n",
    "  # \n",
    "  # # w is a vector of the SNP weights from the CpGWAS model\n",
    "  # w <- methylationBase@snpWeights[relevant_SNP_indices]\n",
    "  \n",
    "  # Ensuring the order matches and handling unmatched positions\n",
    "  if(!identical(summary_stats_sub$BP, as.integer(SNP_split[, 2]))){\n",
    "    summary_stats_sub <- summary_stats_sub[order(summary_stats_sub$BP), ]\n",
    "    if(!identical(summary_stats_sub$BP, as.integer(SNP_split[, 2]))){\n",
    "      # Identify positions in SNP_split not found in summary_stats_sub$BP\n",
    "      unmatched_positions <- !SNP_split[, 2] %in% summary_stats_sub$BP\n",
    "      if (any(unmatched_positions)) {\n",
    "        # Remove rows from SNP_split where positions do not match any in summary_stats_sub$BP\n",
    "        SNP_split <- SNP_split[!unmatched_positions, ]\n",
    "        # Assuming you would need to recompute the relevant SNP indices and stats\n",
    "        relevant_SNP_indices <- my_SNPs$pvar_dt[SNP_split, on = .(`#CHROM` = chr, POS = pos), which = TRUE, nomatch = 0]\n",
    "        relevant_ids <- my_SNPs$pvar_dt$ID[relevant_SNP_indices]\n",
    "        summary_stats_sub <- summary_stats[relevant_ids, nomatch = 0]\n",
    "      }\n",
    "      # Check again after removing unmatched positions\n",
    "      if(!identical(summary_stats_sub$BP, as.integer(SNP_split[, 2]))) {\n",
    "        stop(\"SNP order does not match even after removing unmatched positions. This should not happen. Code is broken.\")\n",
    "      }\n",
    "    }\n",
    "  }\n",
    "  \n",
    "  # need to make sure direction is right\n",
    "  if(!identical(SNP_split[, 4], summary_stats_sub$A2) |\n",
    "     !identical(SNP_split[, 3], summary_stats_sub$A1)){\n",
    "    not_matching <- which(SNP_split[, 4] != summary_stats_sub$A2)\n",
    "    # Flip our data to match the summary stats for these\n",
    "    summary_stats_ref_flipped <- SNP_split[, 3][not_matching]\n",
    "    summary_stats_alt_flipped <- SNP_split[, 4][not_matching]\n",
    "    SNP_split[, 3][not_matching] <- summary_stats_alt_flipped\n",
    "    SNP_split[, 4][not_matching] <- summary_stats_ref_flipped\n",
    "    methylationBase@snpWeights[not_matching] <-\n",
    "      methylationBase@snpWeights[not_matching] * -1\n",
    "  }\n",
    "  \n",
    "  # Subset the genotype data\n",
    "  G <- pgenlibr::ReadList(my_SNPs$pgen,\n",
    "                          variant_subset = relevant_SNP_indices)\n",
    "  \n",
    "  mwas_out <- mwas(z = summary_stats_sub$BETA,\n",
    "                   w = methylationBase@snpWeights,\n",
    "                   G = G)\n",
    "  \n",
    "  MWASmodel(methylationBase,\n",
    "            #summary_stats_sub,\n",
    "            mwas_out)\n",
    "}\n",
    "\n",
    "#' MWASresults class\n",
    "#' @export\n",
    "setClass(\n",
    "  \"MWASresults\",\n",
    "  representation(\n",
    "    MWASmodels = \"list\",\n",
    "    pvar_path = \"character\",\n",
    "    pgen_path = \"character\",\n",
    "    psam_path = \"character\",\n",
    "    summary_stats_path = \"character\",\n",
    "    rds_path = \"character\"\n",
    "  )\n",
    ")\n",
    "\n",
    "#' MWASresults constructor\n",
    "#' @param MWASmodels List of MWASmodel objects\n",
    "#' @param pvar_path Path to pvar file\n",
    "#' @param pgen_path Path to pgen file\n",
    "#' @param psam_path Path to psam file\n",
    "#' @param summary_stats_path Path to summary statistics file\n",
    "#' @param rds_path Path to RDS file\n",
    "#' @return MWASresults object\n",
    "#' @export\n",
    "MWASresults <- function(MWASmodels, pvar_path, pgen_path, psam_path, summary_stats_path, rds_path) {\n",
    "  new(\"MWASresults\",\n",
    "      MWASmodels = MWASmodels,\n",
    "      pvar_path = pvar_path,\n",
    "      pgen_path = pgen_path,\n",
    "      psam_path = psam_path,\n",
    "      summary_stats_path = summary_stats_path,\n",
    "      rds_path = rds_path)\n",
    "}\n",
    "\n",
    "#' Clean and standardize column names\n",
    "#'\n",
    "#' @param summary_stats Data table of summary statistics\n",
    "#' @return Data table with standardized column names\n",
    "#' @export\n",
    "#' @importFrom stringr str_split\n",
    "clean_and_standardize_colnames <- function(summary_stats) {\n",
    "  # Check if the header is tab-delimited while the rest is space-delimited\n",
    "  if (grepl(\"\\t\", colnames(summary_stats)[1])) {\n",
    "    real_colnames <- str_split(colnames(summary_stats)[1], \"\\t\")[[1]]\n",
    "    colnames(summary_stats) <- real_colnames\n",
    "  }\n",
    "  \n",
    "  # Standardize column names\n",
    "  colnames(summary_stats) <- gsub(\"chr\", \"CHR\", colnames(summary_stats))\n",
    "  colnames(summary_stats) <- gsub(\"pos\", \"BP\", colnames(summary_stats))\n",
    "  colnames(summary_stats) <- gsub(\"POS\", \"BP\", colnames(summary_stats))\n",
    "  colnames(summary_stats) <- gsub(\"MarkerName\", \"SNP\", colnames(summary_stats))\n",
    "  colnames(summary_stats) <- gsub(\"ID\", \"SNP\", colnames(summary_stats))\n",
    "  colnames(summary_stats) <- gsub(\"LogOR\", \"logOR\", colnames(summary_stats))\n",
    "  \n",
    "  # If there's no logOR columns, create one, which will be log of OR column\n",
    "  # but we only do this if there's already an OR column\n",
    "  if(!\"logOR\" %in% colnames(summary_stats)) {\n",
    "    if(\"OR\" %in% colnames(summary_stats)) {\n",
    "      summary_stats[, logOR := log(OR)]\n",
    "    }\n",
    "  }\n",
    "  \n",
    "  colnames(summary_stats) <- gsub(\"logOR\", \"BETA\", colnames(summary_stats))\n",
    "  # Convert summary_stats to a keyed data.table for fast lookups\n",
    "  setkey(summary_stats, SNP)\n",
    "  \n",
    "  return(summary_stats)\n",
    "}\n",
    "\n",
    "#' Process MWAS models\n",
    "#'\n",
    "#' @param my_rds An object containing models\n",
    "#' @param my_SNPs SNP data\n",
    "#' @param summary_stats Data table of summary statistics\n",
    "#' @param paths List of paths to data files\n",
    "#' @param summary_stats_path Path to summary statistics file\n",
    "#' @return MWASresults object\n",
    "#' @export\n",
    "#' @importFrom progress progress_bar\n",
    "#' @importFrom data.table setkey\n",
    "process_MWAS_models <- function(my_rds, my_SNPs, paths, summary_stats_path, rds_path, summary_stats = NULL) {\n",
    "  # pb <- progress_bar$new(\n",
    "  #   format = \"[:bar] :percent eta: :eta\",\n",
    "  #   total = length(my_rds@models), clear = FALSE, width = 60\n",
    "  # )\n",
    "  \n",
    "  MWASmodels <- vector(\"list\", length(my_rds@models))\n",
    "  \n",
    "  if(is.null(summary_stats)) {\n",
    "    summary_stats <- suppressWarnings(fread(summary_stats_path))\n",
    "    summary_stats <- clean_and_standardize_colnames(summary_stats)\n",
    "  }\n",
    "\n",
    "  for (i in seq_along(my_rds@models)) {\n",
    "    this_MethylationBase <- my_rds@models[[i]]\n",
    "    MWASmodels[[i]] <- process_model(this_MethylationBase, my_SNPs, summary_stats)\n",
    "    #pb$tick()\n",
    "  }\n",
    "  \n",
    "  # Ensure the lengths of my_rds@models and MWASmodels are the same\n",
    "  stopifnot(length(my_rds@models) == length(MWASmodels))\n",
    "  \n",
    "  results <- MWASresults(MWASmodels, paths$pvar_path, paths$pgen_path, paths$psam_path, summary_stats_path, rds_path)\n",
    "  \n",
    "  return(results)\n",
    "}"
   ]
  },
  {
   "cell_type": "code",
   "execution_count": 2,
   "id": "6107f4a5-346c-42db-bd94-106c78eea369",
   "metadata": {},
   "outputs": [
    {
     "name": "stderr",
     "output_type": "stream",
     "text": [
      "\n",
      "Attaching package: ‘CpGWAS’\n",
      "\n",
      "\n",
      "The following objects are masked _by_ ‘.GlobalEnv’:\n",
      "\n",
      "    clean_and_standardize_colnames, mwas, MWASmodel, MWASresults,\n",
      "    process_model, process_MWAS_models\n",
      "\n",
      "\n"
     ]
    }
   ],
   "source": [
    "library(CpGWAS)\n",
    "library(data.table)\n",
    "library(stringr)"
   ]
  },
  {
   "cell_type": "code",
   "execution_count": 3,
   "id": "aba4efd0-23fd-4157-b07b-38243d3ce1da",
   "metadata": {},
   "outputs": [],
   "source": [
    "genome_files <- list.files(\"/expanse/lustre/projects/jhu152/naglemi/mwas/gwas\",\n",
    "                           pattern = \"EUR\", full.names = TRUE)\n",
    "genome_files <- genome_files[grepl(\"pvar\", genome_files)]"
   ]
  },
  {
   "cell_type": "code",
   "execution_count": 4,
   "id": "fe5b05ef-fbc4-4bb0-882b-c2e753ac2497",
   "metadata": {},
   "outputs": [],
   "source": [
    "genome_files <- data.table(path = genome_files,\n",
    "                           Chr = NA)"
   ]
  },
  {
   "cell_type": "code",
   "execution_count": 5,
   "id": "b5c0370d-b8be-449a-811d-ee5360ce1c04",
   "metadata": {},
   "outputs": [],
   "source": [
    "genome_files$Chr <- str_split_fixed(genome_files$path,\n",
    "                                    \"chr\",\n",
    "                                    2)[,2]\n",
    "genome_files$Chr <- gsub(\".pvar\", \"\", genome_files$Chr)"
   ]
  },
  {
   "cell_type": "code",
   "execution_count": 6,
   "id": "0d05982b-a160-4e31-a57b-0f3947e30f7c",
   "metadata": {},
   "outputs": [],
   "source": [
    "genome_files$Chr <- as.integer(genome_files$Chr)\n",
    "genome_files <- genome_files[order(genome_files$Chr), ]"
   ]
  },
  {
   "cell_type": "code",
   "execution_count": 7,
   "id": "a2d2af79-bc6a-44a5-8587-82d3069fcbb8",
   "metadata": {},
   "outputs": [],
   "source": [
    "df <- fread(\"12-OUT_matched_SNP_meth_cov_outputs.csv\")"
   ]
  },
  {
   "cell_type": "code",
   "execution_count": 8,
   "id": "e03885ec-d259-4903-bb6e-028eeae1218f",
   "metadata": {},
   "outputs": [],
   "source": [
    "summary_stats_list <-  list.files(\"/expanse/lustre/projects/jhu152/naglemi/mwas/gwas\",\n",
    "                                  pattern = \"stat\", full.names = TRUE)"
   ]
  },
  {
   "cell_type": "code",
   "execution_count": 9,
   "id": "514ea0fd-dcaf-47e5-964b-972700dfcc8a",
   "metadata": {},
   "outputs": [
    {
     "data": {
      "text/html": [
       "<style>\n",
       ".list-inline {list-style: none; margin:0; padding: 0}\n",
       ".list-inline>li {display: inline-block}\n",
       ".list-inline>li:not(:last-child)::after {content: \"\\00b7\"; padding: 0 .5ex}\n",
       "</style>\n",
       "<ol class=list-inline><li>'/expanse/lustre/projects/jhu152/naglemi/mwas/gwas/gwas_stat_bp'</li><li>'/expanse/lustre/projects/jhu152/naglemi/mwas/gwas/gwas_stat_mdd'</li><li>'/expanse/lustre/projects/jhu152/naglemi/mwas/gwas/gwas_stat_scz'</li></ol>\n"
      ],
      "text/latex": [
       "\\begin{enumerate*}\n",
       "\\item '/expanse/lustre/projects/jhu152/naglemi/mwas/gwas/gwas\\_stat\\_bp'\n",
       "\\item '/expanse/lustre/projects/jhu152/naglemi/mwas/gwas/gwas\\_stat\\_mdd'\n",
       "\\item '/expanse/lustre/projects/jhu152/naglemi/mwas/gwas/gwas\\_stat\\_scz'\n",
       "\\end{enumerate*}\n"
      ],
      "text/markdown": [
       "1. '/expanse/lustre/projects/jhu152/naglemi/mwas/gwas/gwas_stat_bp'\n",
       "2. '/expanse/lustre/projects/jhu152/naglemi/mwas/gwas/gwas_stat_mdd'\n",
       "3. '/expanse/lustre/projects/jhu152/naglemi/mwas/gwas/gwas_stat_scz'\n",
       "\n",
       "\n"
      ],
      "text/plain": [
       "[1] \"/expanse/lustre/projects/jhu152/naglemi/mwas/gwas/gwas_stat_bp\" \n",
       "[2] \"/expanse/lustre/projects/jhu152/naglemi/mwas/gwas/gwas_stat_mdd\"\n",
       "[3] \"/expanse/lustre/projects/jhu152/naglemi/mwas/gwas/gwas_stat_scz\""
      ]
     },
     "metadata": {},
     "output_type": "display_data"
    }
   ],
   "source": [
    "summary_stats_list"
   ]
  },
  {
   "cell_type": "code",
   "execution_count": 10,
   "id": "d5cd1025-05b7-4ac7-b9ea-af9aa15c10fb",
   "metadata": {},
   "outputs": [],
   "source": [
    "#   FOR THIS TO BE EFFICIENT WE MUST LOAD IN SUMMARY STATS FIRST INSTEAD OF PASSING PATH"
   ]
  },
  {
   "cell_type": "code",
   "execution_count": 11,
   "id": "ea8ce11b-23f8-4f72-baeb-15d66600cf5c",
   "metadata": {},
   "outputs": [],
   "source": [
    "# Pre-load all summary stats files into a list and clean/standardize column names\n",
    "summary_stats_data <- lapply(summary_stats_list, function(path) {\n",
    "  stats <- suppressWarnings(data.table::fread(path))\n",
    "  colnames(stats) <- gsub(\"#CHROM\", \"CHR\", colnames(stats))\n",
    "  clean_and_standardize_colnames(stats)\n",
    "})"
   ]
  },
  {
   "cell_type": "code",
   "execution_count": 12,
   "id": "b24737a8-b355-48b4-87d9-31c46fa6ca4d",
   "metadata": {},
   "outputs": [
    {
     "data": {
      "text/html": [
       "<table class=\"dataframe\">\n",
       "<caption>A data.table: 6 × 16</caption>\n",
       "<thead>\n",
       "\t<tr><th scope=col>CHR</th><th scope=col>BP</th><th scope=col>SNP</th><th scope=col>A1</th><th scope=col>A2</th><th scope=col>BETA</th><th scope=col>SE</th><th scope=col>PVAL</th><th scope=col>NGT</th><th scope=col>FCAS</th><th scope=col>FCON</th><th scope=col>IMPINFO</th><th scope=col>NEFFDIV2</th><th scope=col>NCAS</th><th scope=col>NCON</th><th scope=col>DIRE</th></tr>\n",
       "\t<tr><th scope=col>&lt;int&gt;</th><th scope=col>&lt;int&gt;</th><th scope=col>&lt;chr&gt;</th><th scope=col>&lt;chr&gt;</th><th scope=col>&lt;chr&gt;</th><th scope=col>&lt;dbl&gt;</th><th scope=col>&lt;dbl&gt;</th><th scope=col>&lt;dbl&gt;</th><th scope=col>&lt;int&gt;</th><th scope=col>&lt;dbl&gt;</th><th scope=col>&lt;dbl&gt;</th><th scope=col>&lt;dbl&gt;</th><th scope=col>&lt;dbl&gt;</th><th scope=col>&lt;int&gt;</th><th scope=col>&lt;int&gt;</th><th scope=col>&lt;chr&gt;</th></tr>\n",
       "</thead>\n",
       "<tbody>\n",
       "\t<tr><td>10</td><td>98322628</td><td>10:100082385_C_A</td><td>C</td><td>A</td><td> 0.004001981</td><td>0.0201</td><td>0.8422</td><td> 0</td><td>0.934</td><td>0.941</td><td>0.971</td><td>43354.73</td><td>37940</td><td>103559</td><td>+++-+--++-+-++---+--++++-++--++++++--+++-+-----??-?+--+?-</td></tr>\n",
       "\t<tr><td>10</td><td>98429811</td><td>10:100189568_C_A</td><td>C</td><td>A</td><td> 0.010098835</td><td>0.0200</td><td>0.6135</td><td>25</td><td>0.925</td><td>0.925</td><td>0.890</td><td>42290.42</td><td>36834</td><td>102499</td><td>-++--++++--+-++++++-?---++--+--+-+---+-+----+++??-?+?+-?+</td></tr>\n",
       "\t<tr><td>10</td><td>98624242</td><td>10:100383999_C_G</td><td>C</td><td>G</td><td>-0.007397293</td><td>0.0122</td><td>0.5428</td><td> 0</td><td>0.799</td><td>0.797</td><td>1.000</td><td>43445.24</td><td>38084</td><td>103625</td><td>--++++-+++-++-++-+--++-++-+-+---+++-+----+--++-??-?---+-+</td></tr>\n",
       "\t<tr><td>10</td><td>99046608</td><td>10:100806365_A_C</td><td>A</td><td>C</td><td>-0.002703652</td><td>0.0152</td><td>0.8603</td><td>26</td><td>0.119</td><td>0.126</td><td>0.993</td><td>43445.24</td><td>38084</td><td>103625</td><td>++--++++-+-++---+++-+---+++-+--+---+--++---++++??+?---++-</td></tr>\n",
       "\t<tr><td>10</td><td>99053963</td><td>10:100813720_C_T</td><td>C</td><td>T</td><td>-0.003596460</td><td>0.0152</td><td>0.8123</td><td> 0</td><td>0.118</td><td>0.126</td><td>0.990</td><td>43445.24</td><td>38084</td><td>103625</td><td>--++----+-+--+++---+-+++---+-++-+++-++--+++-+--??-?+++--+</td></tr>\n",
       "\t<tr><td>10</td><td>99497901</td><td>10:101257658_T_G</td><td>T</td><td>G</td><td> 0.005096988</td><td>0.0112</td><td>0.6474</td><td> 0</td><td>0.259</td><td>0.259</td><td>0.997</td><td>43445.24</td><td>38084</td><td>103625</td><td>-+--+++----+-+--++++---+---++-++---+--++--+-+++??+?--+--+</td></tr>\n",
       "</tbody>\n",
       "</table>\n"
      ],
      "text/latex": [
       "A data.table: 6 × 16\n",
       "\\begin{tabular}{llllllllllllllll}\n",
       " CHR & BP & SNP & A1 & A2 & BETA & SE & PVAL & NGT & FCAS & FCON & IMPINFO & NEFFDIV2 & NCAS & NCON & DIRE\\\\\n",
       " <int> & <int> & <chr> & <chr> & <chr> & <dbl> & <dbl> & <dbl> & <int> & <dbl> & <dbl> & <dbl> & <dbl> & <int> & <int> & <chr>\\\\\n",
       "\\hline\n",
       "\t 10 & 98322628 & 10:100082385\\_C\\_A & C & A &  0.004001981 & 0.0201 & 0.8422 &  0 & 0.934 & 0.941 & 0.971 & 43354.73 & 37940 & 103559 & +++-+--++-+-++---+--++++-++--++++++--+++-+-----??-?+--+?-\\\\\n",
       "\t 10 & 98429811 & 10:100189568\\_C\\_A & C & A &  0.010098835 & 0.0200 & 0.6135 & 25 & 0.925 & 0.925 & 0.890 & 42290.42 & 36834 & 102499 & -++--++++--+-++++++-?---++--+--+-+---+-+----+++??-?+?+-?+\\\\\n",
       "\t 10 & 98624242 & 10:100383999\\_C\\_G & C & G & -0.007397293 & 0.0122 & 0.5428 &  0 & 0.799 & 0.797 & 1.000 & 43445.24 & 38084 & 103625 & --++++-+++-++-++-+--++-++-+-+---+++-+----+--++-??-?---+-+\\\\\n",
       "\t 10 & 99046608 & 10:100806365\\_A\\_C & A & C & -0.002703652 & 0.0152 & 0.8603 & 26 & 0.119 & 0.126 & 0.993 & 43445.24 & 38084 & 103625 & ++--++++-+-++---+++-+---+++-+--+---+--++---++++??+?---++-\\\\\n",
       "\t 10 & 99053963 & 10:100813720\\_C\\_T & C & T & -0.003596460 & 0.0152 & 0.8123 &  0 & 0.118 & 0.126 & 0.990 & 43445.24 & 38084 & 103625 & --++----+-+--+++---+-+++---+-++-+++-++--+++-+--??-?+++--+\\\\\n",
       "\t 10 & 99497901 & 10:101257658\\_T\\_G & T & G &  0.005096988 & 0.0112 & 0.6474 &  0 & 0.259 & 0.259 & 0.997 & 43445.24 & 38084 & 103625 & -+--+++----+-+--++++---+---++-++---+--++--+-+++??+?--+--+\\\\\n",
       "\\end{tabular}\n"
      ],
      "text/markdown": [
       "\n",
       "A data.table: 6 × 16\n",
       "\n",
       "| CHR &lt;int&gt; | BP &lt;int&gt; | SNP &lt;chr&gt; | A1 &lt;chr&gt; | A2 &lt;chr&gt; | BETA &lt;dbl&gt; | SE &lt;dbl&gt; | PVAL &lt;dbl&gt; | NGT &lt;int&gt; | FCAS &lt;dbl&gt; | FCON &lt;dbl&gt; | IMPINFO &lt;dbl&gt; | NEFFDIV2 &lt;dbl&gt; | NCAS &lt;int&gt; | NCON &lt;int&gt; | DIRE &lt;chr&gt; |\n",
       "|---|---|---|---|---|---|---|---|---|---|---|---|---|---|---|---|\n",
       "| 10 | 98322628 | 10:100082385_C_A | C | A |  0.004001981 | 0.0201 | 0.8422 |  0 | 0.934 | 0.941 | 0.971 | 43354.73 | 37940 | 103559 | +++-+--++-+-++---+--++++-++--++++++--+++-+-----??-?+--+?- |\n",
       "| 10 | 98429811 | 10:100189568_C_A | C | A |  0.010098835 | 0.0200 | 0.6135 | 25 | 0.925 | 0.925 | 0.890 | 42290.42 | 36834 | 102499 | -++--++++--+-++++++-?---++--+--+-+---+-+----+++??-?+?+-?+ |\n",
       "| 10 | 98624242 | 10:100383999_C_G | C | G | -0.007397293 | 0.0122 | 0.5428 |  0 | 0.799 | 0.797 | 1.000 | 43445.24 | 38084 | 103625 | --++++-+++-++-++-+--++-++-+-+---+++-+----+--++-??-?---+-+ |\n",
       "| 10 | 99046608 | 10:100806365_A_C | A | C | -0.002703652 | 0.0152 | 0.8603 | 26 | 0.119 | 0.126 | 0.993 | 43445.24 | 38084 | 103625 | ++--++++-+-++---+++-+---+++-+--+---+--++---++++??+?---++- |\n",
       "| 10 | 99053963 | 10:100813720_C_T | C | T | -0.003596460 | 0.0152 | 0.8123 |  0 | 0.118 | 0.126 | 0.990 | 43445.24 | 38084 | 103625 | --++----+-+--+++---+-+++---+-++-+++-++--+++-+--??-?+++--+ |\n",
       "| 10 | 99497901 | 10:101257658_T_G | T | G |  0.005096988 | 0.0112 | 0.6474 |  0 | 0.259 | 0.259 | 0.997 | 43445.24 | 38084 | 103625 | -+--+++----+-+--++++---+---++-++---+--++--+-+++??+?--+--+ |\n",
       "\n"
      ],
      "text/plain": [
       "  CHR BP       SNP              A1 A2 BETA         SE     PVAL   NGT FCAS \n",
       "1 10  98322628 10:100082385_C_A C  A   0.004001981 0.0201 0.8422  0  0.934\n",
       "2 10  98429811 10:100189568_C_A C  A   0.010098835 0.0200 0.6135 25  0.925\n",
       "3 10  98624242 10:100383999_C_G C  G  -0.007397293 0.0122 0.5428  0  0.799\n",
       "4 10  99046608 10:100806365_A_C A  C  -0.002703652 0.0152 0.8603 26  0.119\n",
       "5 10  99053963 10:100813720_C_T C  T  -0.003596460 0.0152 0.8123  0  0.118\n",
       "6 10  99497901 10:101257658_T_G T  G   0.005096988 0.0112 0.6474  0  0.259\n",
       "  FCON  IMPINFO NEFFDIV2 NCAS  NCON  \n",
       "1 0.941 0.971   43354.73 37940 103559\n",
       "2 0.925 0.890   42290.42 36834 102499\n",
       "3 0.797 1.000   43445.24 38084 103625\n",
       "4 0.126 0.993   43445.24 38084 103625\n",
       "5 0.126 0.990   43445.24 38084 103625\n",
       "6 0.259 0.997   43445.24 38084 103625\n",
       "  DIRE                                                     \n",
       "1 +++-+--++-+-++---+--++++-++--++++++--+++-+-----??-?+--+?-\n",
       "2 -++--++++--+-++++++-?---++--+--+-+---+-+----+++??-?+?+-?+\n",
       "3 --++++-+++-++-++-+--++-++-+-+---+++-+----+--++-??-?---+-+\n",
       "4 ++--++++-+-++---+++-+---+++-+--+---+--++---++++??+?---++-\n",
       "5 --++----+-+--+++---+-+++---+-++-+++-++--+++-+--??-?+++--+\n",
       "6 -+--+++----+-+--++++---+---++-++---+--++--+-+++??+?--+--+"
      ]
     },
     "metadata": {},
     "output_type": "display_data"
    }
   ],
   "source": [
    "head(summary_stats_data[[1]])"
   ]
  },
  {
   "cell_type": "code",
   "execution_count": null,
   "id": "e9fcdedf-ef9c-4f05-9120-5f257b73f7fd",
   "metadata": {},
   "outputs": [],
   "source": [
    "Sys.time()"
   ]
  },
  {
   "cell_type": "code",
   "execution_count": null,
   "id": "de2bc505-0370-4246-a45c-0f1700dc7972",
   "metadata": {},
   "outputs": [],
   "source": [
    "library(profvis)\n",
    "\n",
    "profvis({\n",
    "\n",
    "# Loop over the loaded objects instead of paths\n",
    "#for(g in 1:nrow(genome_files)){\n",
    "for(g in 1){\n",
    "    \n",
    "    print(genome_files[g])\n",
    "    paths <- list(pvar_path = genome_files[g]$path,\n",
    "                  pgen_path = gsub(\"pvar\", \"pgen\", genome_files[g]$path),\n",
    "                  psam_path = gsub(\"pvar\", \"psam\", genome_files[g]$path))\n",
    "\n",
    "    my_SNPs <- CpGWAS::loadSNPData(paths$pvar_path, paths$pgen_path, paths$psam_path)\n",
    "    setkey(my_SNPs$pvar_dt, `#CHROM`, POS)\n",
    "    df_this_chr <- df[which(df$Chr == genome_files[g]$Chr), ]\n",
    "\n",
    "    for(j in 1:5){\n",
    "#    for(j in 1:nrow(df_this_chr)){\n",
    "        #print(df_this_chr$path[j])\n",
    "        if(grepl(\"empty\", df_this_chr$path[j])){\n",
    "            message(paste0(\"no model for \", df_this_chr$path[j]))\n",
    "            next\n",
    "        }\n",
    "\n",
    "        my_rds <- readRDS(df_this_chr$path[j])\n",
    "\n",
    "#        for(k in 1){\n",
    "        for(k in 1:length(summary_stats_list)){\n",
    "            # Saving results\n",
    "            outname <- gsub(\"\\\\.rds$\", \n",
    "                            paste0(\"_\", \n",
    "                                   basename(tools::file_path_sans_ext(summary_stats_list[[k]])), \n",
    "                                   \"_results.rds\"), \n",
    "                            df_this_chr$path[j])\n",
    "            if(file.exists(outname)){\n",
    "                if (j%%20 == 0)\n",
    "               message(paste0(\"We already have file \", outname))\n",
    "               next\n",
    "            }\n",
    "            print(summary_stats_list[[k]])\n",
    "            summary_stats <- summary_stats_data[[k]]  # Use pre-loaded and cleaned summary stats\n",
    "\n",
    "            # Unpacking process_MWAS_models here\n",
    "            MWASmodels <- vector(\"list\", length(my_rds@models))\n",
    "            if(is.null(summary_stats)) {\n",
    "                summary_stats <- suppressWarnings(fread(summary_stats_list[[k]]))\n",
    "                summary_stats <- clean_and_standardize_colnames(summary_stats)\n",
    "            }\n",
    "\n",
    "            for (i in seq_along(my_rds@models)) {\n",
    "                this_MethylationBase <- my_rds@models[[i]]\n",
    "                \n",
    "                # Unpacking process_model here\n",
    "                SNP_split <- stringr::str_split_fixed(names(this_MethylationBase@snpWeights), \":\", 4)\n",
    "                SNP_split[,1] <- gsub(\"chr\", \"\", SNP_split[,1])\n",
    "                SNP_split_dt <- data.table::as.data.table(SNP_split)\n",
    "                data.table::setnames(SNP_split_dt, c(\"chr\", \"post\", \"ref\", \"alt\"))\n",
    "                SNP_split_dt[, `:=`(chr = as.integer(chr), post = as.integer(post))]\n",
    "                data.table::setkey(SNP_split_dt, chr, post)\n",
    "\n",
    "                relevant_SNP_indices <- my_SNPs$pvar_dt[SNP_split_dt, on = .(`#CHROM` = chr, POS = post), which = TRUE, nomatch = 0]\n",
    "                relevant_ids <- my_SNPs$pvar_dt$ID[relevant_SNP_indices]\n",
    "                summary_stats_sub <- summary_stats[relevant_ids, nomatch = 0]\n",
    "\n",
    "                # Ensuring the order matches and handling unmatched positions\n",
    "                if(!identical(summary_stats_sub$BP, SNP_split_dt$post)){\n",
    "                    # Order summary_stats_sub by BP\n",
    "                    summary_stats_sub <- summary_stats_sub[order(summary_stats_sub$BP), ]\n",
    "                    if(!identical(summary_stats_sub$BP, SNP_split_dt$post)){\n",
    "                        # Identify positions in SNP_split not found in summary_stats_sub$BP\n",
    "                        unmatched_positions <- !SNP_split_dt$post %in% summary_stats_sub$BP\n",
    "                        if (any(unmatched_positions)) {\n",
    "                            # Remove rows from SNP_split_dt where positions do not match any in summary_stats_sub$BP\n",
    "                            SNP_split_dt <- SNP_split_dt[!unmatched_positions, ]\n",
    "                            \n",
    "                            # Remove corresponding entries from this_MethylationBase@snpWeights\n",
    "                            this_MethylationBase@snpWeights <- this_MethylationBase@snpWeights[!unmatched_positions]\n",
    "\n",
    "                            relevant_SNP_indices <- my_SNPs$pvar_dt[SNP_split_dt, on = .(`#CHROM` = chr, POS = post), which = TRUE, nomatch = 0]\n",
    "                \n",
    "                            # Check again after removing unmatched positions\n",
    "                            if(!identical(summary_stats_sub$BP, SNP_split_dt$post)) {\n",
    "                                stop(\"SNP order does not match even after removing unmatched positions. This should not happen. Code is broken.\")\n",
    "                            }\n",
    "                        }\n",
    "                    }\n",
    "                }\n",
    "\n",
    "\n",
    "                if(!identical(SNP_split_dt$alt, summary_stats_sub$A2) |\n",
    "                   !identical(SNP_split_dt$ref, summary_stats_sub$A1)){\n",
    "                    not_matching <- which(SNP_split_dt$alt != summary_stats_sub$A2)\n",
    "                    summary_stats_ref_flipped <- SNP_split_dt$ref[not_matching]\n",
    "                    summary_stats_alt_flipped <- SNP_split_dt$alt[not_matching]\n",
    "                    SNP_split_dt[not_matching, `:=`(ref = summary_stats_alt_flipped, alt = summary_stats_ref_flipped)]\n",
    "                    this_MethylationBase@snpWeights[not_matching] <-\n",
    "                        this_MethylationBase@snpWeights[not_matching] * -1\n",
    "                }\n",
    "\n",
    "\n",
    "                G <- pgenlibr::ReadList(my_SNPs$pgen, variant_subset = relevant_SNP_indices)\n",
    "                mwas_out <- mwas(z = summary_stats_sub$BETA,\n",
    "                                 w = this_MethylationBase@snpWeights,\n",
    "                                 G = G)\n",
    "\n",
    "                MWASmodels[[i]] <- mwas_out  # Assuming MWASmodel is a simple function to wrap results\n",
    "                \n",
    "            }\n",
    "\n",
    "            results <- MWASresults(MWASmodels, paths$pvar_path, paths$pgen_path, paths$psam_path, summary_stats_list[[k]], df_this_chr$path[j])\n",
    "            \n",
    "            #message(paste0(\"saving to \", outname))\n",
    "            #message(Sys.time())\n",
    "            saveRDS(results, outname)\n",
    "        }\n",
    "    }\n",
    "}\n",
    "\n",
    "    })"
   ]
  },
  {
   "cell_type": "code",
   "execution_count": null,
   "id": "6e48aecc-b01f-4f41-afe5-86764aff8c0c",
   "metadata": {},
   "outputs": [],
   "source": [
    "SNP_split"
   ]
  },
  {
   "cell_type": "code",
   "execution_count": null,
   "id": "c1c80628-3adc-44bf-b7bf-1a22d950b05e",
   "metadata": {},
   "outputs": [],
   "source": [
    "SNP_split_dt"
   ]
  },
  {
   "cell_type": "code",
   "execution_count": null,
   "id": "6edf0a19-488d-4fcf-a790-84970fe7cf3a",
   "metadata": {},
   "outputs": [],
   "source": [
    "this_MethylationBase@snpWeights"
   ]
  },
  {
   "cell_type": "code",
   "execution_count": null,
   "id": "add004dd-314a-414a-8e63-031fc3e278cf",
   "metadata": {},
   "outputs": [],
   "source": [
    "length(this_MethylationBase@snpWeights)"
   ]
  },
  {
   "cell_type": "code",
   "execution_count": null,
   "id": "56cb1fe5-b20c-41e8-b56c-f6ddd6eff989",
   "metadata": {},
   "outputs": [],
   "source": [
    "summary_stats_sub"
   ]
  },
  {
   "cell_type": "code",
   "execution_count": null,
   "id": "35a31d9d-891e-42a6-95e3-6d437dc0d5b5",
   "metadata": {},
   "outputs": [],
   "source": [
    "w"
   ]
  },
  {
   "cell_type": "code",
   "execution_count": null,
   "id": "746ed964-26b7-465e-9673-162f717c46f0",
   "metadata": {},
   "outputs": [],
   "source": [
    "i"
   ]
  },
  {
   "cell_type": "code",
   "execution_count": null,
   "id": "9a735280-e496-4335-9f76-fa55962a4732",
   "metadata": {},
   "outputs": [],
   "source": [
    "j"
   ]
  },
  {
   "cell_type": "code",
   "execution_count": null,
   "id": "fd3a2c54-7f19-4712-b27d-e28b239dc2c5",
   "metadata": {},
   "outputs": [],
   "source": [
    "k"
   ]
  },
  {
   "cell_type": "code",
   "execution_count": null,
   "id": "11bd8726-b2a0-4aab-95ce-b56729609909",
   "metadata": {},
   "outputs": [],
   "source": [
    "dim(G)"
   ]
  },
  {
   "cell_type": "code",
   "execution_count": null,
   "id": "03b7d57d-2e61-4cc0-899d-9b456422f5fe",
   "metadata": {},
   "outputs": [],
   "source": [
    "this_MethylationBase@snpWeights"
   ]
  },
  {
   "cell_type": "code",
   "execution_count": null,
   "id": "a2948d41-b61f-4f2c-89cd-1b0d4c2eeefe",
   "metadata": {},
   "outputs": [],
   "source": [
    "length(this_MethylationBase@snpWeights)"
   ]
  },
  {
   "cell_type": "code",
   "execution_count": null,
   "id": "c2eb196c-51ff-4b8a-b4f0-757eb25183e4",
   "metadata": {},
   "outputs": [],
   "source": [
    "summary_stats_sub"
   ]
  },
  {
   "cell_type": "code",
   "execution_count": null,
   "id": "7a07c197-7363-4f9e-b0f8-5e6da3a76ef6",
   "metadata": {},
   "outputs": [],
   "source": [
    "SNP_split"
   ]
  },
  {
   "cell_type": "code",
   "execution_count": null,
   "id": "0d4eb2c8-dfaf-4e9d-8567-71ce58a7be4b",
   "metadata": {},
   "outputs": [],
   "source": [
    "j"
   ]
  },
  {
   "cell_type": "code",
   "execution_count": null,
   "id": "6c90647a-7883-46f2-ad09-3875d1cd3c63",
   "metadata": {},
   "outputs": [],
   "source": [
    "k"
   ]
  },
  {
   "cell_type": "code",
   "execution_count": null,
   "id": "be129bbd-22e3-4793-a1ac-808542bfd7f9",
   "metadata": {},
   "outputs": [],
   "source": [
    "i"
   ]
  },
  {
   "cell_type": "code",
   "execution_count": null,
   "id": "6ebab61b-c611-4e0c-b75b-6a7b535bbe57",
   "metadata": {},
   "outputs": [],
   "source": [
    "length(as.integer(SNP_split[, 2]))"
   ]
  },
  {
   "cell_type": "markdown",
   "id": "7904033b-4591-4e4b-8ebf-bc6b06408c4f",
   "metadata": {},
   "source": [
    "We need to address edge case where WE have the SNP but summary stats don't"
   ]
  },
  {
   "cell_type": "code",
   "execution_count": null,
   "id": "329b35a5-6cea-4f60-8163-70a33dca8f70",
   "metadata": {},
   "outputs": [],
   "source": [
    "as.integer(SNP_split[, 2])"
   ]
  },
  {
   "cell_type": "code",
   "execution_count": null,
   "id": "431023c0-d769-4f24-8d82-e97c6c013eb0",
   "metadata": {},
   "outputs": [],
   "source": [
    "summary_stats_sub"
   ]
  },
  {
   "cell_type": "code",
   "execution_count": null,
   "id": "e88079f6-ad0d-492e-beeb-006cc712354d",
   "metadata": {},
   "outputs": [],
   "source": [
    "# Loop over the loaded objects instead of paths\n",
    "for(i in 1:nrow(genome_files)){\n",
    "    print(genome_files[i])\n",
    "    paths <- list(pvar_path = genome_files[i]$path,\n",
    "                  pgen_path = gsub(\"pvar\", \"pgen\", genome_files[i]$path),\n",
    "                  psam_path = gsub(\"pvar\", \"psam\", genome_files[i]$path))\n",
    "\n",
    "    my_SNPs <- CpGWAS::loadSNPData(paths$pvar_path, paths$pgen_path, paths$psam_path)\n",
    "    df_this_chr <- df[which(df$Chr == genome_files[i]$Chr), ]\n",
    "\n",
    "    for(j in 1:nrow(df_this_chr)){\n",
    "        print(df_this_chr$path[j])\n",
    "        if(grepl(\"empty\", df_this_chr$path[j])){\n",
    "            message(paste0(\"no model for \", df_this_chr$path[j]))\n",
    "            next\n",
    "        }\n",
    "\n",
    "        my_rds <- readRDS(df_this_chr$path[j])\n",
    "\n",
    "        for(k in 1:length(summary_stats_list)){\n",
    "            print(summary_stats_list[[k]])\n",
    "            summary_stats <- summary_stats_data[[k]]  # Use pre-loaded and cleaned summary stats\n",
    "\n",
    "            # Unpacking process_MWAS_models here\n",
    "            MWASmodels <- vector(\"list\", length(my_rds@models))\n",
    "            if(is.null(summary_stats)) {\n",
    "                summary_stats <- suppressWarnings(fread(summary_stats_list[[k]]))\n",
    "                summary_stats <- clean_and_standardize_colnames(summary_stats)\n",
    "            }\n",
    "\n",
    "            for (i in seq_along(my_rds@models)) {\n",
    "                this_MethylationBase <- my_rds@models[[i]]\n",
    "                MWASmodels[[i]] <- process_model(this_MethylationBase, my_SNPs, summary_stats)\n",
    "            }\n",
    "\n",
    "            # Ensure the lengths of my_rds@models and MWASmodels are the same\n",
    "            stopifnot(length(my_rds@models) == length(MWASmodels))\n",
    "\n",
    "            results <- MWASresults(MWASmodels, paths$pvar_path, paths$pgen_path, paths$psam_path, summary_stats_list[[k]], df_this_chr$path[j])\n",
    "\n",
    "            # Saving results\n",
    "            outname <- gsub(\"\\\\.rds$\", \n",
    "                            paste0(\"_\", \n",
    "                                   basename(tools::file_path_sans_ext(summary_stats_list[[k]])), \n",
    "                                   \"_results.rds\"), \n",
    "                            df_this_chr$path[j])\n",
    "            \n",
    "            message(paste0(\"saving to \", outname))\n",
    "            message(Sys.time())\n",
    "            saveRDS(results, outname)\n",
    "        }\n",
    "    }\n",
    "}\n"
   ]
  },
  {
   "cell_type": "code",
   "execution_count": null,
   "id": "9bdb4cbd-0ee3-4735-b253-488d8c643740",
   "metadata": {},
   "outputs": [],
   "source": [
    "# Loop over the loaded objects instead of paths\n",
    "for(i in 1:nrow(genome_files)){\n",
    "    print(genome_files[i])\n",
    "    paths <- list(pvar_path = genome_files[i]$path,\n",
    "                  pgen_path = gsub(\"pvar\", \"pgen\", genome_files[i]$path),\n",
    "                  psam_path = gsub(\"pvar\", \"psam\", genome_files[i]$path))\n",
    "\n",
    "    my_SNPs <- CpGWAS::loadSNPData(paths$pvar_path, paths$pgen_path, paths$psam_path)\n",
    "    df_this_chr <- df[which(df$Chr == genome_files[i]$Chr), ]\n",
    "\n",
    "    for(j in 1:nrow(df_this_chr)){\n",
    "        print(df_this_chr$path[j])\n",
    "        if(grepl(\"empty\", df_this_chr$path[j])){\n",
    "            message(paste0(\"no model for \", df_this_chr$path[j]))\n",
    "            next\n",
    "        }\n",
    "\n",
    "        my_rds <- readRDS(df_this_chr$path[j])\n",
    "\n",
    "        for(k in 1:length(summary_stats_list)){\n",
    "            print(summary_stats_list[[k]])\n",
    "            summary_stats <- summary_stats_data[[k]]  # Use pre-loaded and cleaned summary stats\n",
    "\n",
    "            results <- process_MWAS_models(my_rds = my_rds, my_SNPs = my_SNPs, paths = paths,\n",
    "                                           summary_stats_path = summary_stats_list[[k]],  # Use the path string\n",
    "                                           rds_path = df_this_chr$path[j],\n",
    "                                           summary_stats = summary_stats)\n",
    "\n",
    "            outname <- gsub(\"\\\\.rds$\", \n",
    "                            paste0(\"_\", \n",
    "                                   basename(tools::file_path_sans_ext(results@summary_stats_path)), \n",
    "                                   \"_results.rds\"), \n",
    "                            results@rds_path)\n",
    "            \n",
    "            message(paste0(\"saving to \", outname))\n",
    "            message(Sys.time())\n",
    "            # saveRDS(results, outname)\n",
    "        }\n",
    "    }\n",
    "}"
   ]
  },
  {
   "cell_type": "markdown",
   "id": "a394c241-e232-4178-96f1-a902596c8440",
   "metadata": {},
   "source": [
    "Why so slow? Are we still reloading summary_stats every time?"
   ]
  },
  {
   "cell_type": "code",
   "execution_count": null,
   "id": "d5075967-5b0f-4024-8a03-31ed1ff29651",
   "metadata": {},
   "outputs": [],
   "source": [
    "# Loop over chromosome genome files (pvar/pgen/psam)\n",
    "#  make list of chromosome files\n",
    "#. levels factor\n",
    "#. select and load first set of files\n",
    "#  # subset big file-matching df to those for the chromosome of interest\n",
    "#. loop over those, and for each....\n",
    "##Loop over summary stat files\n",
    "### Loop over RDS files containing our MethylationBase objects with SNP->CpG models"
   ]
  },
  {
   "cell_type": "code",
   "execution_count": null,
   "id": "5e4528fa-72cb-481b-a9b6-e04d058cfa2b",
   "metadata": {},
   "outputs": [],
   "source": []
  }
 ],
 "metadata": {
  "kernelspec": {
   "display_name": "R",
   "language": "R",
   "name": "ir"
  },
  "language_info": {
   "codemirror_mode": "r",
   "file_extension": ".r",
   "mimetype": "text/x-r-source",
   "name": "R",
   "pygments_lexer": "r",
   "version": "4.3.1"
  }
 },
 "nbformat": 4,
 "nbformat_minor": 5
}
