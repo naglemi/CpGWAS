{
 "cells": [
  {
   "cell_type": "markdown",
   "id": "56bc8b46-4738-4bed-a98f-fac6f44911e4",
   "metadata": {},
   "source": [
    "Check p-values that are hopefully no longer extreme after rerunning latest version of `CpGWAS` stage 2 on part of Chr1"
   ]
  },
  {
   "cell_type": "code",
   "execution_count": 1,
   "id": "3a86f5be-f2b3-4f95-85f1-f6d61cf79e00",
   "metadata": {},
   "outputs": [],
   "source": [
    "#stage2 <- \"/expanse/lustre/projects/jhu152/naglemi/mwas/CpGWAS/output_EXPANSE_a2_caud/libd_chr1-chr1_all-libd_chr1-chr1_all-908982-928981-dynamic-1corestotal-allcorepera-caud-20240510-145818_gwas_stat_scz_resultssanitytest.rds\""
   ]
  },
  {
   "cell_type": "code",
   "execution_count": 2,
   "id": "b460b038-d6b0-408e-994c-825ac0fda32f",
   "metadata": {},
   "outputs": [],
   "source": [
    "stage2 <- \"/expanse/lustre/projects/jhu152/naglemi/mwas/CpGWAS/output_EXPANSE_a2_caud/libd_chr1-chr1_all-libd_chr1-chr1_all-908982-928981-dynamic-1corestotal-allcorepera-caud-20240510-145818_gwas_stat_scz_results.rds\""
   ]
  },
  {
   "cell_type": "code",
   "execution_count": 3,
   "id": "f26c0307-0233-48d8-9077-bbff06c8649e",
   "metadata": {},
   "outputs": [],
   "source": [
    "stage2 <- \"/expanse/lustre/projects/jhu152/naglemi/mwas/CpGWAS/output_EXPANSE_a2_caud/libd_chr1-chr1_all-libd_chr1-chr1_all-908982-928981-dynamic-1corestotal-allcorepera-caud-20240510-145818_gwas_stat_scz_oldresults.rds\""
   ]
  },
  {
   "cell_type": "code",
   "execution_count": 4,
   "id": "dc783603-b02d-430b-9d15-b29b721eb0dd",
   "metadata": {},
   "outputs": [],
   "source": [
    "stage1 <- \"/expanse/lustre/projects/jhu152/naglemi/mwas/CpGWAS/output_EXPANSE_a2_caud/libd_chr1-chr1_AA-libd_chr1-chr1_AA-908982-928981-dynamic-1corestotal-allcorepera-caud-20240510-130545.rds\""
   ]
  },
  {
   "cell_type": "code",
   "execution_count": 5,
   "id": "f9151f31-553c-4323-84fb-9cf930c34957",
   "metadata": {},
   "outputs": [],
   "source": [
    "stage1_in <- readRDS(stage1)"
   ]
  },
  {
   "cell_type": "code",
   "execution_count": 6,
   "id": "5f94f14a-329d-4a22-9944-70651bbe1213",
   "metadata": {},
   "outputs": [],
   "source": [
    "stage2_in <- readRDS(stage2)"
   ]
  },
  {
   "cell_type": "code",
   "execution_count": 7,
   "id": "4a894004-3fca-4cb5-b68b-f32a2acb0984",
   "metadata": {},
   "outputs": [],
   "source": [
    "data_list <- vector(\"list\", length(stage1_in@models))"
   ]
  },
  {
   "cell_type": "code",
   "execution_count": 8,
   "id": "5bb8fd1a-c0d0-4835-bb91-aa45bcc19afd",
   "metadata": {},
   "outputs": [],
   "source": [
    "library(data.table)"
   ]
  },
  {
   "cell_type": "code",
   "execution_count": 9,
   "id": "ee05b75e-857c-4c8d-8c84-4d0c507ca336",
   "metadata": {},
   "outputs": [
    {
     "name": "stderr",
     "output_type": "stream",
     "text": [
      "Loading required package: CpGWAS\n",
      "\n"
     ]
    },
    {
     "data": {
      "text/plain": [
       "[[1]]\n",
       "An object of class \"MethylationBase\"\n",
       "Slot \"methylationPosition\":\n",
       "[1] 73419188\n",
       "\n",
       "Slot \"windowSize\":\n",
       "[1] 10000\n",
       "\n",
       "Slot \"n_SNPs\":\n",
       "[1] 48\n",
       "\n",
       "Slot \"glmnetModel\":\n",
       "NULL\n",
       "\n",
       "Slot \"snpWeights\":\n",
       "chr1:73409670:T:G chr1:73412206:C:T chr1:73414606:G:C chr1:73416795:A:G \n",
       "    -0.0015100519     -0.0014500987     -0.0013185098     -0.0056861837 \n",
       "chr1:73417197:A:G chr1:73419155:C:T chr1:73422680:A:G chr1:73423542:G:A \n",
       "    -0.0003729213     -0.0056631527     -0.0012307756     -0.0013512231 \n",
       "chr1:73423762:T:C chr1:73424910:G:A chr1:73426069:G:A chr1:73426204:G:A \n",
       "    -0.0014919614     -0.0014209200     -0.0013260380     -0.0022531919 \n",
       "chr1:73426737:G:T chr1:73426896:A:G chr1:73426930:A:C chr1:73427141:C:A \n",
       "    -0.0022575085     -0.0022541820     -0.0022516559     -0.0019119182 \n",
       "chr1:73428382:G:A chr1:73428467:T:C chr1:73428699:T:G chr1:73428776:C:T \n",
       "    -0.0022630890     -0.0022713192     -0.0012290350     -0.0022627024 \n",
       "chr1:73428961:C:T \n",
       "    -0.0014180735 \n",
       "\n",
       "Slot \"intercept\":\n",
       "        s0 \n",
       "0.03143018 \n",
       "\n",
       "Slot \"alpha\":\n",
       "[1] 0.5\n",
       "\n",
       "Slot \"lambda\":\n",
       "[1] 0.009221803\n",
       "\n",
       "Slot \"evaluation_results\":\n",
       "         cor          mse \n",
       "0.7710885240 0.0005124339 \n",
       "\n",
       "Slot \"cv_eval_mode\":\n",
       "[1] \"dynamic\"\n",
       "\n",
       "Slot \"full_model_metrics\":\n",
       "           r          mse \n",
       "0.7865959656 0.0004733126 \n",
       "\n"
      ]
     },
     "metadata": {},
     "output_type": "display_data"
    }
   ],
   "source": [
    "stage1_in@models[1090]"
   ]
  },
  {
   "cell_type": "code",
   "execution_count": 10,
   "id": "081dcbc2-607b-49f2-a6dd-b145c49f7b8b",
   "metadata": {},
   "outputs": [
    {
     "data": {
      "text/plain": [
       "[[1]]\n",
       "An object of class \"MethylationBase\"\n",
       "Slot \"methylationPosition\":\n",
       "[1] 73419188\n",
       "\n",
       "Slot \"windowSize\":\n",
       "[1] 10000\n",
       "\n",
       "Slot \"n_SNPs\":\n",
       "[1] 48\n",
       "\n",
       "Slot \"glmnetModel\":\n",
       "NULL\n",
       "\n",
       "Slot \"snpWeights\":\n",
       "chr1:73409670:T:G chr1:73412206:C:T chr1:73414606:G:C chr1:73416795:A:G \n",
       "    -0.0015100519     -0.0014500987     -0.0013185098     -0.0056861837 \n",
       "chr1:73417197:A:G chr1:73419155:C:T chr1:73422680:A:G chr1:73423542:G:A \n",
       "    -0.0003729213     -0.0056631527     -0.0012307756     -0.0013512231 \n",
       "chr1:73423762:T:C chr1:73424910:G:A chr1:73426069:G:A chr1:73426204:G:A \n",
       "    -0.0014919614     -0.0014209200     -0.0013260380     -0.0022531919 \n",
       "chr1:73426737:G:T chr1:73426896:A:G chr1:73426930:A:C chr1:73427141:C:A \n",
       "    -0.0022575085     -0.0022541820     -0.0022516559     -0.0019119182 \n",
       "chr1:73428382:G:A chr1:73428467:T:C chr1:73428699:T:G chr1:73428776:C:T \n",
       "    -0.0022630890     -0.0022713192     -0.0012290350     -0.0022627024 \n",
       "chr1:73428961:C:T \n",
       "    -0.0014180735 \n",
       "\n",
       "Slot \"intercept\":\n",
       "        s0 \n",
       "0.03143018 \n",
       "\n",
       "Slot \"alpha\":\n",
       "[1] 0.5\n",
       "\n",
       "Slot \"lambda\":\n",
       "[1] 0.009221803\n",
       "\n",
       "Slot \"evaluation_results\":\n",
       "         cor          mse \n",
       "0.7710885240 0.0005124339 \n",
       "\n",
       "Slot \"cv_eval_mode\":\n",
       "[1] \"dynamic\"\n",
       "\n",
       "Slot \"full_model_metrics\":\n",
       "           r          mse \n",
       "0.7865959656 0.0004733126 \n",
       "\n"
      ]
     },
     "metadata": {},
     "output_type": "display_data"
    }
   ],
   "source": [
    "stage1_in@models[1090]"
   ]
  },
  {
   "cell_type": "code",
   "execution_count": 11,
   "id": "3fdb08c2-c5d3-476d-a8a0-bbfb85ea481f",
   "metadata": {},
   "outputs": [
    {
     "data": {
      "text/html": [
       "<ol>\n",
       "\t<li><style>\n",
       ".dl-inline {width: auto; margin:0; padding: 0}\n",
       ".dl-inline>dt, .dl-inline>dd {float: none; width: auto; display: inline-block}\n",
       ".dl-inline>dt::after {content: \":\\0020\"; padding-right: .5ex}\n",
       ".dl-inline>dt:not(:first-of-type) {padding-left: .5ex}\n",
       "</style><dl class=dl-inline><dt>z</dt><dd>-36.4096953129113</dd><dt>p</dt><dd>2.99020280126401e-290</dd><dt>n</dt><dd>23</dd></dl>\n",
       "</li>\n",
       "</ol>\n"
      ],
      "text/latex": [
       "\\begin{enumerate}\n",
       "\\item \\begin{description*}\n",
       "\\item[z] -36.4096953129113\n",
       "\\item[p] 2.99020280126401e-290\n",
       "\\item[n] 23\n",
       "\\end{description*}\n",
       "\n",
       "\\end{enumerate}\n"
      ],
      "text/markdown": [
       "1. z\n",
       ":   -36.4096953129113p\n",
       ":   2.99020280126401e-290n\n",
       ":   23\n",
       "\n",
       "\n",
       "\n",
       "\n"
      ],
      "text/plain": [
       "[[1]]\n",
       "             z              p              n \n",
       " -3.640970e+01  2.990203e-290   2.300000e+01 \n"
      ]
     },
     "metadata": {},
     "output_type": "display_data"
    }
   ],
   "source": [
    "stage2_in@MWASmodels[1090]"
   ]
  },
  {
   "cell_type": "code",
   "execution_count": 12,
   "id": "5fe99457-db10-4130-b386-313131cfa0a2",
   "metadata": {},
   "outputs": [
    {
     "data": {
      "text/html": [
       "<ol>\n",
       "\t<li><style>\n",
       ".dl-inline {width: auto; margin:0; padding: 0}\n",
       ".dl-inline>dt, .dl-inline>dd {float: none; width: auto; display: inline-block}\n",
       ".dl-inline>dt::after {content: \":\\0020\"; padding-right: .5ex}\n",
       ".dl-inline>dt:not(:first-of-type) {padding-left: .5ex}\n",
       "</style><dl class=dl-inline><dt>z</dt><dd>-26.7104584364443</dd><dt>p</dt><dd>3.55843680834282e-157</dd><dt>n</dt><dd>22</dd></dl>\n",
       "</li>\n",
       "</ol>\n"
      ],
      "text/latex": [
       "\\begin{enumerate}\n",
       "\\item \\begin{description*}\n",
       "\\item[z] -26.7104584364443\n",
       "\\item[p] 3.55843680834282e-157\n",
       "\\item[n] 22\n",
       "\\end{description*}\n",
       "\n",
       "\\end{enumerate}\n"
      ],
      "text/markdown": [
       "1. z\n",
       ":   -26.7104584364443p\n",
       ":   3.55843680834282e-157n\n",
       ":   22\n",
       "\n",
       "\n",
       "\n",
       "\n"
      ],
      "text/plain": [
       "[[1]]\n",
       "             z              p              n \n",
       " -2.671046e+01  3.558437e-157   2.200000e+01 \n"
      ]
     },
     "metadata": {},
     "output_type": "display_data"
    }
   ],
   "source": [
    "stage2_in@MWASmodels[1091]"
   ]
  },
  {
   "cell_type": "code",
   "execution_count": 13,
   "id": "6eb65b7c-2d39-4207-9bb6-22a2d7f96b7f",
   "metadata": {},
   "outputs": [
    {
     "data": {
      "text/html": [
       "<ol>\n",
       "\t<li><style>\n",
       ".dl-inline {width: auto; margin:0; padding: 0}\n",
       ".dl-inline>dt, .dl-inline>dd {float: none; width: auto; display: inline-block}\n",
       ".dl-inline>dt::after {content: \":\\0020\"; padding-right: .5ex}\n",
       ".dl-inline>dt:not(:first-of-type) {padding-left: .5ex}\n",
       "</style><dl class=dl-inline><dt>z</dt><dd>-19.952678769296</dd><dt>p</dt><dd>1.42068918624582e-88</dd><dt>n</dt><dd>18</dd></dl>\n",
       "</li>\n",
       "</ol>\n"
      ],
      "text/latex": [
       "\\begin{enumerate}\n",
       "\\item \\begin{description*}\n",
       "\\item[z] -19.952678769296\n",
       "\\item[p] 1.42068918624582e-88\n",
       "\\item[n] 18\n",
       "\\end{description*}\n",
       "\n",
       "\\end{enumerate}\n"
      ],
      "text/markdown": [
       "1. z\n",
       ":   -19.952678769296p\n",
       ":   1.42068918624582e-88n\n",
       ":   18\n",
       "\n",
       "\n",
       "\n",
       "\n"
      ],
      "text/plain": [
       "[[1]]\n",
       "            z             p             n \n",
       "-1.995268e+01  1.420689e-88  1.800000e+01 \n"
      ]
     },
     "metadata": {},
     "output_type": "display_data"
    }
   ],
   "source": [
    "stage2_in@MWASmodels[1088]"
   ]
  },
  {
   "cell_type": "code",
   "execution_count": 14,
   "id": "99fdc90f-f4b9-4fc4-b5b2-37df48ea3548",
   "metadata": {},
   "outputs": [
    {
     "data": {
      "text/html": [
       "<ol>\n",
       "\t<li><style>\n",
       ".dl-inline {width: auto; margin:0; padding: 0}\n",
       ".dl-inline>dt, .dl-inline>dd {float: none; width: auto; display: inline-block}\n",
       ".dl-inline>dt::after {content: \":\\0020\"; padding-right: .5ex}\n",
       ".dl-inline>dt:not(:first-of-type) {padding-left: .5ex}\n",
       "</style><dl class=dl-inline><dt>z</dt><dd>-15.0151107705582</dd><dt>p</dt><dd>5.84641248460058e-51</dd><dt>n</dt><dd>9</dd></dl>\n",
       "</li>\n",
       "</ol>\n"
      ],
      "text/latex": [
       "\\begin{enumerate}\n",
       "\\item \\begin{description*}\n",
       "\\item[z] -15.0151107705582\n",
       "\\item[p] 5.84641248460058e-51\n",
       "\\item[n] 9\n",
       "\\end{description*}\n",
       "\n",
       "\\end{enumerate}\n"
      ],
      "text/markdown": [
       "1. z\n",
       ":   -15.0151107705582p\n",
       ":   5.84641248460058e-51n\n",
       ":   9\n",
       "\n",
       "\n",
       "\n",
       "\n"
      ],
      "text/plain": [
       "[[1]]\n",
       "            z             p             n \n",
       "-1.501511e+01  5.846412e-51  9.000000e+00 \n"
      ]
     },
     "metadata": {},
     "output_type": "display_data"
    }
   ],
   "source": [
    "stage2_in@MWASmodels[1087]"
   ]
  },
  {
   "cell_type": "code",
   "execution_count": 15,
   "id": "7b0d6e0d-7cdf-4ccd-869c-cf919c130859",
   "metadata": {},
   "outputs": [
    {
     "data": {
      "text/html": [
       "<ol>\n",
       "\t<li><style>\n",
       ".dl-inline {width: auto; margin:0; padding: 0}\n",
       ".dl-inline>dt, .dl-inline>dd {float: none; width: auto; display: inline-block}\n",
       ".dl-inline>dt::after {content: \":\\0020\"; padding-right: .5ex}\n",
       ".dl-inline>dt:not(:first-of-type) {padding-left: .5ex}\n",
       "</style><dl class=dl-inline><dt>z</dt><dd>-36.4096953129113</dd><dt>p</dt><dd>2.99020280126401e-290</dd><dt>n</dt><dd>23</dd></dl>\n",
       "</li>\n",
       "</ol>\n"
      ],
      "text/latex": [
       "\\begin{enumerate}\n",
       "\\item \\begin{description*}\n",
       "\\item[z] -36.4096953129113\n",
       "\\item[p] 2.99020280126401e-290\n",
       "\\item[n] 23\n",
       "\\end{description*}\n",
       "\n",
       "\\end{enumerate}\n"
      ],
      "text/markdown": [
       "1. z\n",
       ":   -36.4096953129113p\n",
       ":   2.99020280126401e-290n\n",
       ":   23\n",
       "\n",
       "\n",
       "\n",
       "\n"
      ],
      "text/plain": [
       "[[1]]\n",
       "             z              p              n \n",
       " -3.640970e+01  2.990203e-290   2.300000e+01 \n"
      ]
     },
     "metadata": {},
     "output_type": "display_data"
    }
   ],
   "source": [
    "stage2_in@MWASmodels[1090]"
   ]
  },
  {
   "cell_type": "code",
   "execution_count": 16,
   "id": "84534f6e-1e10-437b-8394-13c9fd8d7c3a",
   "metadata": {},
   "outputs": [
    {
     "data": {
      "text/html": [
       "<ol>\n",
       "\t<li><style>\n",
       ".dl-inline {width: auto; margin:0; padding: 0}\n",
       ".dl-inline>dt, .dl-inline>dd {float: none; width: auto; display: inline-block}\n",
       ".dl-inline>dt::after {content: \":\\0020\"; padding-right: .5ex}\n",
       ".dl-inline>dt:not(:first-of-type) {padding-left: .5ex}\n",
       "</style><dl class=dl-inline><dt>z</dt><dd>-26.7104584364443</dd><dt>p</dt><dd>3.55843680834282e-157</dd><dt>n</dt><dd>22</dd></dl>\n",
       "</li>\n",
       "</ol>\n"
      ],
      "text/latex": [
       "\\begin{enumerate}\n",
       "\\item \\begin{description*}\n",
       "\\item[z] -26.7104584364443\n",
       "\\item[p] 3.55843680834282e-157\n",
       "\\item[n] 22\n",
       "\\end{description*}\n",
       "\n",
       "\\end{enumerate}\n"
      ],
      "text/markdown": [
       "1. z\n",
       ":   -26.7104584364443p\n",
       ":   3.55843680834282e-157n\n",
       ":   22\n",
       "\n",
       "\n",
       "\n",
       "\n"
      ],
      "text/plain": [
       "[[1]]\n",
       "             z              p              n \n",
       " -2.671046e+01  3.558437e-157   2.200000e+01 \n"
      ]
     },
     "metadata": {},
     "output_type": "display_data"
    }
   ],
   "source": [
    "stage2_in@MWASmodels[1091]"
   ]
  },
  {
   "cell_type": "code",
   "execution_count": 17,
   "id": "9b1ced62-7d74-4d8b-bcd1-aa79a08a9176",
   "metadata": {},
   "outputs": [
    {
     "data": {
      "text/html": [
       "<ol>\n",
       "\t<li><style>\n",
       ".dl-inline {width: auto; margin:0; padding: 0}\n",
       ".dl-inline>dt, .dl-inline>dd {float: none; width: auto; display: inline-block}\n",
       ".dl-inline>dt::after {content: \":\\0020\"; padding-right: .5ex}\n",
       ".dl-inline>dt:not(:first-of-type) {padding-left: .5ex}\n",
       "</style><dl class=dl-inline><dt>z</dt><dd>-23.6309032128642</dd><dt>p</dt><dd>1.85529483326404e-123</dd><dt>n</dt><dd>21</dd></dl>\n",
       "</li>\n",
       "</ol>\n"
      ],
      "text/latex": [
       "\\begin{enumerate}\n",
       "\\item \\begin{description*}\n",
       "\\item[z] -23.6309032128642\n",
       "\\item[p] 1.85529483326404e-123\n",
       "\\item[n] 21\n",
       "\\end{description*}\n",
       "\n",
       "\\end{enumerate}\n"
      ],
      "text/markdown": [
       "1. z\n",
       ":   -23.6309032128642p\n",
       ":   1.85529483326404e-123n\n",
       ":   21\n",
       "\n",
       "\n",
       "\n",
       "\n"
      ],
      "text/plain": [
       "[[1]]\n",
       "             z              p              n \n",
       " -2.363090e+01  1.855295e-123   2.100000e+01 \n"
      ]
     },
     "metadata": {},
     "output_type": "display_data"
    }
   ],
   "source": [
    "stage2_in@MWASmodels[1092]"
   ]
  },
  {
   "cell_type": "code",
   "execution_count": 18,
   "id": "a3a98eb0-0671-49e7-9538-36dd4115be90",
   "metadata": {},
   "outputs": [],
   "source": [
    "for (j in seq_along(stage1_in@models)) {\n",
    "    model1 <- stage1_in@models[[j]]\n",
    "    model2 <- stage2_in@MWASmodels[[j]]\n",
    "\n",
    "    data_list[[j]] <- data.table(\n",
    "        z = model2[\"z\"],\n",
    "        p = model2[\"p\"],\n",
    "        n = model2[\"n\"],\n",
    "        pos = model1@methylationPosition,\n",
    "        stats = stage2_in@summary_stats_path,\n",
    "        scaff = stage1_in@scaffoldIdentifier\n",
    "    )\n",
    "}\n",
    "\n",
    "combined_data <- rbindlist(data_list, use.names = TRUE, fill = TRUE)"
   ]
  },
  {
   "cell_type": "code",
   "execution_count": 19,
   "id": "a78b145c-62f7-4cc1-8a61-7ca292887022",
   "metadata": {},
   "outputs": [
    {
     "data": {
      "text/html": [
       "<table class=\"dataframe\">\n",
       "<caption>A data.table: 6 × 6</caption>\n",
       "<thead>\n",
       "\t<tr><th scope=col>z</th><th scope=col>p</th><th scope=col>n</th><th scope=col>pos</th><th scope=col>stats</th><th scope=col>scaff</th></tr>\n",
       "\t<tr><th scope=col>&lt;dbl&gt;</th><th scope=col>&lt;dbl&gt;</th><th scope=col>&lt;dbl&gt;</th><th scope=col>&lt;int&gt;</th><th scope=col>&lt;chr&gt;</th><th scope=col>&lt;chr&gt;</th></tr>\n",
       "</thead>\n",
       "<tbody>\n",
       "\t<tr><td>9.020939</td><td>1.864838e-19</td><td>12</td><td>73190890</td><td>/expanse/lustre/projects/jhu152/naglemi/mwas/gwas/gwas_stat_scz</td><td>libd_chr1-chr1_AA-libd_chr1-chr1_AA-908982-928981-dynamic-1corestotal-allcorepera-caud-20240510-130545</td></tr>\n",
       "\t<tr><td>6.700288</td><td>2.080092e-11</td><td>10</td><td>73191091</td><td>/expanse/lustre/projects/jhu152/naglemi/mwas/gwas/gwas_stat_scz</td><td>libd_chr1-chr1_AA-libd_chr1-chr1_AA-908982-928981-dynamic-1corestotal-allcorepera-caud-20240510-130545</td></tr>\n",
       "\t<tr><td>6.700629</td><td>2.075250e-11</td><td>10</td><td>73191269</td><td>/expanse/lustre/projects/jhu152/naglemi/mwas/gwas/gwas_stat_scz</td><td>libd_chr1-chr1_AA-libd_chr1-chr1_AA-908982-928981-dynamic-1corestotal-allcorepera-caud-20240510-130545</td></tr>\n",
       "\t<tr><td>6.847667</td><td>7.506418e-12</td><td>12</td><td>73191826</td><td>/expanse/lustre/projects/jhu152/naglemi/mwas/gwas/gwas_stat_scz</td><td>libd_chr1-chr1_AA-libd_chr1-chr1_AA-908982-928981-dynamic-1corestotal-allcorepera-caud-20240510-130545</td></tr>\n",
       "\t<tr><td>6.707633</td><td>1.978063e-11</td><td>10</td><td>73191952</td><td>/expanse/lustre/projects/jhu152/naglemi/mwas/gwas/gwas_stat_scz</td><td>libd_chr1-chr1_AA-libd_chr1-chr1_AA-908982-928981-dynamic-1corestotal-allcorepera-caud-20240510-130545</td></tr>\n",
       "\t<tr><td>6.708264</td><td>1.969536e-11</td><td>10</td><td>73192036</td><td>/expanse/lustre/projects/jhu152/naglemi/mwas/gwas/gwas_stat_scz</td><td>libd_chr1-chr1_AA-libd_chr1-chr1_AA-908982-928981-dynamic-1corestotal-allcorepera-caud-20240510-130545</td></tr>\n",
       "</tbody>\n",
       "</table>\n"
      ],
      "text/latex": [
       "A data.table: 6 × 6\n",
       "\\begin{tabular}{llllll}\n",
       " z & p & n & pos & stats & scaff\\\\\n",
       " <dbl> & <dbl> & <dbl> & <int> & <chr> & <chr>\\\\\n",
       "\\hline\n",
       "\t 9.020939 & 1.864838e-19 & 12 & 73190890 & /expanse/lustre/projects/jhu152/naglemi/mwas/gwas/gwas\\_stat\\_scz & libd\\_chr1-chr1\\_AA-libd\\_chr1-chr1\\_AA-908982-928981-dynamic-1corestotal-allcorepera-caud-20240510-130545\\\\\n",
       "\t 6.700288 & 2.080092e-11 & 10 & 73191091 & /expanse/lustre/projects/jhu152/naglemi/mwas/gwas/gwas\\_stat\\_scz & libd\\_chr1-chr1\\_AA-libd\\_chr1-chr1\\_AA-908982-928981-dynamic-1corestotal-allcorepera-caud-20240510-130545\\\\\n",
       "\t 6.700629 & 2.075250e-11 & 10 & 73191269 & /expanse/lustre/projects/jhu152/naglemi/mwas/gwas/gwas\\_stat\\_scz & libd\\_chr1-chr1\\_AA-libd\\_chr1-chr1\\_AA-908982-928981-dynamic-1corestotal-allcorepera-caud-20240510-130545\\\\\n",
       "\t 6.847667 & 7.506418e-12 & 12 & 73191826 & /expanse/lustre/projects/jhu152/naglemi/mwas/gwas/gwas\\_stat\\_scz & libd\\_chr1-chr1\\_AA-libd\\_chr1-chr1\\_AA-908982-928981-dynamic-1corestotal-allcorepera-caud-20240510-130545\\\\\n",
       "\t 6.707633 & 1.978063e-11 & 10 & 73191952 & /expanse/lustre/projects/jhu152/naglemi/mwas/gwas/gwas\\_stat\\_scz & libd\\_chr1-chr1\\_AA-libd\\_chr1-chr1\\_AA-908982-928981-dynamic-1corestotal-allcorepera-caud-20240510-130545\\\\\n",
       "\t 6.708264 & 1.969536e-11 & 10 & 73192036 & /expanse/lustre/projects/jhu152/naglemi/mwas/gwas/gwas\\_stat\\_scz & libd\\_chr1-chr1\\_AA-libd\\_chr1-chr1\\_AA-908982-928981-dynamic-1corestotal-allcorepera-caud-20240510-130545\\\\\n",
       "\\end{tabular}\n"
      ],
      "text/markdown": [
       "\n",
       "A data.table: 6 × 6\n",
       "\n",
       "| z &lt;dbl&gt; | p &lt;dbl&gt; | n &lt;dbl&gt; | pos &lt;int&gt; | stats &lt;chr&gt; | scaff &lt;chr&gt; |\n",
       "|---|---|---|---|---|---|\n",
       "| 9.020939 | 1.864838e-19 | 12 | 73190890 | /expanse/lustre/projects/jhu152/naglemi/mwas/gwas/gwas_stat_scz | libd_chr1-chr1_AA-libd_chr1-chr1_AA-908982-928981-dynamic-1corestotal-allcorepera-caud-20240510-130545 |\n",
       "| 6.700288 | 2.080092e-11 | 10 | 73191091 | /expanse/lustre/projects/jhu152/naglemi/mwas/gwas/gwas_stat_scz | libd_chr1-chr1_AA-libd_chr1-chr1_AA-908982-928981-dynamic-1corestotal-allcorepera-caud-20240510-130545 |\n",
       "| 6.700629 | 2.075250e-11 | 10 | 73191269 | /expanse/lustre/projects/jhu152/naglemi/mwas/gwas/gwas_stat_scz | libd_chr1-chr1_AA-libd_chr1-chr1_AA-908982-928981-dynamic-1corestotal-allcorepera-caud-20240510-130545 |\n",
       "| 6.847667 | 7.506418e-12 | 12 | 73191826 | /expanse/lustre/projects/jhu152/naglemi/mwas/gwas/gwas_stat_scz | libd_chr1-chr1_AA-libd_chr1-chr1_AA-908982-928981-dynamic-1corestotal-allcorepera-caud-20240510-130545 |\n",
       "| 6.707633 | 1.978063e-11 | 10 | 73191952 | /expanse/lustre/projects/jhu152/naglemi/mwas/gwas/gwas_stat_scz | libd_chr1-chr1_AA-libd_chr1-chr1_AA-908982-928981-dynamic-1corestotal-allcorepera-caud-20240510-130545 |\n",
       "| 6.708264 | 1.969536e-11 | 10 | 73192036 | /expanse/lustre/projects/jhu152/naglemi/mwas/gwas/gwas_stat_scz | libd_chr1-chr1_AA-libd_chr1-chr1_AA-908982-928981-dynamic-1corestotal-allcorepera-caud-20240510-130545 |\n",
       "\n"
      ],
      "text/plain": [
       "  z        p            n  pos     \n",
       "1 9.020939 1.864838e-19 12 73190890\n",
       "2 6.700288 2.080092e-11 10 73191091\n",
       "3 6.700629 2.075250e-11 10 73191269\n",
       "4 6.847667 7.506418e-12 12 73191826\n",
       "5 6.707633 1.978063e-11 10 73191952\n",
       "6 6.708264 1.969536e-11 10 73192036\n",
       "  stats                                                          \n",
       "1 /expanse/lustre/projects/jhu152/naglemi/mwas/gwas/gwas_stat_scz\n",
       "2 /expanse/lustre/projects/jhu152/naglemi/mwas/gwas/gwas_stat_scz\n",
       "3 /expanse/lustre/projects/jhu152/naglemi/mwas/gwas/gwas_stat_scz\n",
       "4 /expanse/lustre/projects/jhu152/naglemi/mwas/gwas/gwas_stat_scz\n",
       "5 /expanse/lustre/projects/jhu152/naglemi/mwas/gwas/gwas_stat_scz\n",
       "6 /expanse/lustre/projects/jhu152/naglemi/mwas/gwas/gwas_stat_scz\n",
       "  scaff                                                                                                 \n",
       "1 libd_chr1-chr1_AA-libd_chr1-chr1_AA-908982-928981-dynamic-1corestotal-allcorepera-caud-20240510-130545\n",
       "2 libd_chr1-chr1_AA-libd_chr1-chr1_AA-908982-928981-dynamic-1corestotal-allcorepera-caud-20240510-130545\n",
       "3 libd_chr1-chr1_AA-libd_chr1-chr1_AA-908982-928981-dynamic-1corestotal-allcorepera-caud-20240510-130545\n",
       "4 libd_chr1-chr1_AA-libd_chr1-chr1_AA-908982-928981-dynamic-1corestotal-allcorepera-caud-20240510-130545\n",
       "5 libd_chr1-chr1_AA-libd_chr1-chr1_AA-908982-928981-dynamic-1corestotal-allcorepera-caud-20240510-130545\n",
       "6 libd_chr1-chr1_AA-libd_chr1-chr1_AA-908982-928981-dynamic-1corestotal-allcorepera-caud-20240510-130545"
      ]
     },
     "metadata": {},
     "output_type": "display_data"
    }
   ],
   "source": [
    "head(combined_data)"
   ]
  },
  {
   "cell_type": "code",
   "execution_count": 20,
   "id": "33719944-8e33-4ffb-bc4b-57b77719f364",
   "metadata": {},
   "outputs": [],
   "source": [
    "combined_data <- combined_data[order(combined_data$p), ]"
   ]
  },
  {
   "cell_type": "code",
   "execution_count": 21,
   "id": "ddc9dd39-09f1-41ad-a47d-a88ccfbfff22",
   "metadata": {},
   "outputs": [],
   "source": [
    "# Positions of interest:\n",
    "# 73418062\t-12.52445\t5.487211e-36\r",
    "# 73418161\t-15.61757\t5.526944e-55\r",
    "# 73418186\t-15.64082\t3.837365e-55\r",
    "# 73418205\t-21.06016\t1.845558e-98\r",
    "# 73418313\t-19.28061\t7.814446e-83"
   ]
  },
  {
   "cell_type": "code",
   "execution_count": 22,
   "id": "775eb1a5-17ee-4af1-bf1a-2c723eda5b68",
   "metadata": {},
   "outputs": [],
   "source": [
    "desired_sites <- c(73417215, 73417630, 73418062, 73418161, 73418186, 73418205, 73418313, 73419188)"
   ]
  },
  {
   "cell_type": "code",
   "execution_count": 23,
   "id": "9815b7d0-b47b-411f-b66a-e53b2b898229",
   "metadata": {},
   "outputs": [],
   "source": [
    "combined_data <- combined_data[which(combined_data$pos %in% desired_sites), ]"
   ]
  },
  {
   "cell_type": "code",
   "execution_count": 24,
   "id": "89d0184b-5a6e-42e1-9b3f-348b84966f98",
   "metadata": {},
   "outputs": [
    {
     "data": {
      "text/html": [
       "<table class=\"dataframe\">\n",
       "<caption>A data.table: 8 × 6</caption>\n",
       "<thead>\n",
       "\t<tr><th scope=col>z</th><th scope=col>p</th><th scope=col>n</th><th scope=col>pos</th><th scope=col>stats</th><th scope=col>scaff</th></tr>\n",
       "\t<tr><th scope=col>&lt;dbl&gt;</th><th scope=col>&lt;dbl&gt;</th><th scope=col>&lt;dbl&gt;</th><th scope=col>&lt;int&gt;</th><th scope=col>&lt;chr&gt;</th><th scope=col>&lt;chr&gt;</th></tr>\n",
       "</thead>\n",
       "<tbody>\n",
       "\t<tr><td>-36.40970</td><td>2.990203e-290</td><td>23</td><td>73419188</td><td>/expanse/lustre/projects/jhu152/naglemi/mwas/gwas/gwas_stat_scz</td><td>libd_chr1-chr1_AA-libd_chr1-chr1_AA-908982-928981-dynamic-1corestotal-allcorepera-caud-20240510-130545</td></tr>\n",
       "\t<tr><td>-21.16517</td><td> 2.000237e-99</td><td>26</td><td>73417215</td><td>/expanse/lustre/projects/jhu152/naglemi/mwas/gwas/gwas_stat_scz</td><td>libd_chr1-chr1_AA-libd_chr1-chr1_AA-908982-928981-dynamic-1corestotal-allcorepera-caud-20240510-130545</td></tr>\n",
       "\t<tr><td>-19.95268</td><td> 1.420689e-88</td><td>18</td><td>73418205</td><td>/expanse/lustre/projects/jhu152/naglemi/mwas/gwas/gwas_stat_scz</td><td>libd_chr1-chr1_AA-libd_chr1-chr1_AA-908982-928981-dynamic-1corestotal-allcorepera-caud-20240510-130545</td></tr>\n",
       "\t<tr><td>-18.37019</td><td> 2.276177e-75</td><td>18</td><td>73418313</td><td>/expanse/lustre/projects/jhu152/naglemi/mwas/gwas/gwas_stat_scz</td><td>libd_chr1-chr1_AA-libd_chr1-chr1_AA-908982-928981-dynamic-1corestotal-allcorepera-caud-20240510-130545</td></tr>\n",
       "\t<tr><td>-15.49364</td><td> 3.829537e-54</td><td> 8</td><td>73417630</td><td>/expanse/lustre/projects/jhu152/naglemi/mwas/gwas/gwas_stat_scz</td><td>libd_chr1-chr1_AA-libd_chr1-chr1_AA-908982-928981-dynamic-1corestotal-allcorepera-caud-20240510-130545</td></tr>\n",
       "\t<tr><td>-15.01511</td><td> 5.846412e-51</td><td> 9</td><td>73418186</td><td>/expanse/lustre/projects/jhu152/naglemi/mwas/gwas/gwas_stat_scz</td><td>libd_chr1-chr1_AA-libd_chr1-chr1_AA-908982-928981-dynamic-1corestotal-allcorepera-caud-20240510-130545</td></tr>\n",
       "\t<tr><td>-15.00357</td><td> 6.957044e-51</td><td> 9</td><td>73418161</td><td>/expanse/lustre/projects/jhu152/naglemi/mwas/gwas/gwas_stat_scz</td><td>libd_chr1-chr1_AA-libd_chr1-chr1_AA-908982-928981-dynamic-1corestotal-allcorepera-caud-20240510-130545</td></tr>\n",
       "\t<tr><td>-12.21219</td><td> 2.675782e-34</td><td>10</td><td>73418062</td><td>/expanse/lustre/projects/jhu152/naglemi/mwas/gwas/gwas_stat_scz</td><td>libd_chr1-chr1_AA-libd_chr1-chr1_AA-908982-928981-dynamic-1corestotal-allcorepera-caud-20240510-130545</td></tr>\n",
       "</tbody>\n",
       "</table>\n"
      ],
      "text/latex": [
       "A data.table: 8 × 6\n",
       "\\begin{tabular}{llllll}\n",
       " z & p & n & pos & stats & scaff\\\\\n",
       " <dbl> & <dbl> & <dbl> & <int> & <chr> & <chr>\\\\\n",
       "\\hline\n",
       "\t -36.40970 & 2.990203e-290 & 23 & 73419188 & /expanse/lustre/projects/jhu152/naglemi/mwas/gwas/gwas\\_stat\\_scz & libd\\_chr1-chr1\\_AA-libd\\_chr1-chr1\\_AA-908982-928981-dynamic-1corestotal-allcorepera-caud-20240510-130545\\\\\n",
       "\t -21.16517 &  2.000237e-99 & 26 & 73417215 & /expanse/lustre/projects/jhu152/naglemi/mwas/gwas/gwas\\_stat\\_scz & libd\\_chr1-chr1\\_AA-libd\\_chr1-chr1\\_AA-908982-928981-dynamic-1corestotal-allcorepera-caud-20240510-130545\\\\\n",
       "\t -19.95268 &  1.420689e-88 & 18 & 73418205 & /expanse/lustre/projects/jhu152/naglemi/mwas/gwas/gwas\\_stat\\_scz & libd\\_chr1-chr1\\_AA-libd\\_chr1-chr1\\_AA-908982-928981-dynamic-1corestotal-allcorepera-caud-20240510-130545\\\\\n",
       "\t -18.37019 &  2.276177e-75 & 18 & 73418313 & /expanse/lustre/projects/jhu152/naglemi/mwas/gwas/gwas\\_stat\\_scz & libd\\_chr1-chr1\\_AA-libd\\_chr1-chr1\\_AA-908982-928981-dynamic-1corestotal-allcorepera-caud-20240510-130545\\\\\n",
       "\t -15.49364 &  3.829537e-54 &  8 & 73417630 & /expanse/lustre/projects/jhu152/naglemi/mwas/gwas/gwas\\_stat\\_scz & libd\\_chr1-chr1\\_AA-libd\\_chr1-chr1\\_AA-908982-928981-dynamic-1corestotal-allcorepera-caud-20240510-130545\\\\\n",
       "\t -15.01511 &  5.846412e-51 &  9 & 73418186 & /expanse/lustre/projects/jhu152/naglemi/mwas/gwas/gwas\\_stat\\_scz & libd\\_chr1-chr1\\_AA-libd\\_chr1-chr1\\_AA-908982-928981-dynamic-1corestotal-allcorepera-caud-20240510-130545\\\\\n",
       "\t -15.00357 &  6.957044e-51 &  9 & 73418161 & /expanse/lustre/projects/jhu152/naglemi/mwas/gwas/gwas\\_stat\\_scz & libd\\_chr1-chr1\\_AA-libd\\_chr1-chr1\\_AA-908982-928981-dynamic-1corestotal-allcorepera-caud-20240510-130545\\\\\n",
       "\t -12.21219 &  2.675782e-34 & 10 & 73418062 & /expanse/lustre/projects/jhu152/naglemi/mwas/gwas/gwas\\_stat\\_scz & libd\\_chr1-chr1\\_AA-libd\\_chr1-chr1\\_AA-908982-928981-dynamic-1corestotal-allcorepera-caud-20240510-130545\\\\\n",
       "\\end{tabular}\n"
      ],
      "text/markdown": [
       "\n",
       "A data.table: 8 × 6\n",
       "\n",
       "| z &lt;dbl&gt; | p &lt;dbl&gt; | n &lt;dbl&gt; | pos &lt;int&gt; | stats &lt;chr&gt; | scaff &lt;chr&gt; |\n",
       "|---|---|---|---|---|---|\n",
       "| -36.40970 | 2.990203e-290 | 23 | 73419188 | /expanse/lustre/projects/jhu152/naglemi/mwas/gwas/gwas_stat_scz | libd_chr1-chr1_AA-libd_chr1-chr1_AA-908982-928981-dynamic-1corestotal-allcorepera-caud-20240510-130545 |\n",
       "| -21.16517 |  2.000237e-99 | 26 | 73417215 | /expanse/lustre/projects/jhu152/naglemi/mwas/gwas/gwas_stat_scz | libd_chr1-chr1_AA-libd_chr1-chr1_AA-908982-928981-dynamic-1corestotal-allcorepera-caud-20240510-130545 |\n",
       "| -19.95268 |  1.420689e-88 | 18 | 73418205 | /expanse/lustre/projects/jhu152/naglemi/mwas/gwas/gwas_stat_scz | libd_chr1-chr1_AA-libd_chr1-chr1_AA-908982-928981-dynamic-1corestotal-allcorepera-caud-20240510-130545 |\n",
       "| -18.37019 |  2.276177e-75 | 18 | 73418313 | /expanse/lustre/projects/jhu152/naglemi/mwas/gwas/gwas_stat_scz | libd_chr1-chr1_AA-libd_chr1-chr1_AA-908982-928981-dynamic-1corestotal-allcorepera-caud-20240510-130545 |\n",
       "| -15.49364 |  3.829537e-54 |  8 | 73417630 | /expanse/lustre/projects/jhu152/naglemi/mwas/gwas/gwas_stat_scz | libd_chr1-chr1_AA-libd_chr1-chr1_AA-908982-928981-dynamic-1corestotal-allcorepera-caud-20240510-130545 |\n",
       "| -15.01511 |  5.846412e-51 |  9 | 73418186 | /expanse/lustre/projects/jhu152/naglemi/mwas/gwas/gwas_stat_scz | libd_chr1-chr1_AA-libd_chr1-chr1_AA-908982-928981-dynamic-1corestotal-allcorepera-caud-20240510-130545 |\n",
       "| -15.00357 |  6.957044e-51 |  9 | 73418161 | /expanse/lustre/projects/jhu152/naglemi/mwas/gwas/gwas_stat_scz | libd_chr1-chr1_AA-libd_chr1-chr1_AA-908982-928981-dynamic-1corestotal-allcorepera-caud-20240510-130545 |\n",
       "| -12.21219 |  2.675782e-34 | 10 | 73418062 | /expanse/lustre/projects/jhu152/naglemi/mwas/gwas/gwas_stat_scz | libd_chr1-chr1_AA-libd_chr1-chr1_AA-908982-928981-dynamic-1corestotal-allcorepera-caud-20240510-130545 |\n",
       "\n"
      ],
      "text/plain": [
       "  z         p             n  pos     \n",
       "1 -36.40970 2.990203e-290 23 73419188\n",
       "2 -21.16517  2.000237e-99 26 73417215\n",
       "3 -19.95268  1.420689e-88 18 73418205\n",
       "4 -18.37019  2.276177e-75 18 73418313\n",
       "5 -15.49364  3.829537e-54  8 73417630\n",
       "6 -15.01511  5.846412e-51  9 73418186\n",
       "7 -15.00357  6.957044e-51  9 73418161\n",
       "8 -12.21219  2.675782e-34 10 73418062\n",
       "  stats                                                          \n",
       "1 /expanse/lustre/projects/jhu152/naglemi/mwas/gwas/gwas_stat_scz\n",
       "2 /expanse/lustre/projects/jhu152/naglemi/mwas/gwas/gwas_stat_scz\n",
       "3 /expanse/lustre/projects/jhu152/naglemi/mwas/gwas/gwas_stat_scz\n",
       "4 /expanse/lustre/projects/jhu152/naglemi/mwas/gwas/gwas_stat_scz\n",
       "5 /expanse/lustre/projects/jhu152/naglemi/mwas/gwas/gwas_stat_scz\n",
       "6 /expanse/lustre/projects/jhu152/naglemi/mwas/gwas/gwas_stat_scz\n",
       "7 /expanse/lustre/projects/jhu152/naglemi/mwas/gwas/gwas_stat_scz\n",
       "8 /expanse/lustre/projects/jhu152/naglemi/mwas/gwas/gwas_stat_scz\n",
       "  scaff                                                                                                 \n",
       "1 libd_chr1-chr1_AA-libd_chr1-chr1_AA-908982-928981-dynamic-1corestotal-allcorepera-caud-20240510-130545\n",
       "2 libd_chr1-chr1_AA-libd_chr1-chr1_AA-908982-928981-dynamic-1corestotal-allcorepera-caud-20240510-130545\n",
       "3 libd_chr1-chr1_AA-libd_chr1-chr1_AA-908982-928981-dynamic-1corestotal-allcorepera-caud-20240510-130545\n",
       "4 libd_chr1-chr1_AA-libd_chr1-chr1_AA-908982-928981-dynamic-1corestotal-allcorepera-caud-20240510-130545\n",
       "5 libd_chr1-chr1_AA-libd_chr1-chr1_AA-908982-928981-dynamic-1corestotal-allcorepera-caud-20240510-130545\n",
       "6 libd_chr1-chr1_AA-libd_chr1-chr1_AA-908982-928981-dynamic-1corestotal-allcorepera-caud-20240510-130545\n",
       "7 libd_chr1-chr1_AA-libd_chr1-chr1_AA-908982-928981-dynamic-1corestotal-allcorepera-caud-20240510-130545\n",
       "8 libd_chr1-chr1_AA-libd_chr1-chr1_AA-908982-928981-dynamic-1corestotal-allcorepera-caud-20240510-130545"
      ]
     },
     "metadata": {},
     "output_type": "display_data"
    }
   ],
   "source": [
    "combined_data"
   ]
  },
  {
   "cell_type": "code",
   "execution_count": 25,
   "id": "569ccb57-c7db-41b0-9c73-12044586f55a",
   "metadata": {},
   "outputs": [
    {
     "data": {
      "text/html": [
       "<table class=\"dataframe\">\n",
       "<caption>A data.table: 8 × 6</caption>\n",
       "<thead>\n",
       "\t<tr><th scope=col>z</th><th scope=col>p</th><th scope=col>n</th><th scope=col>pos</th><th scope=col>stats</th><th scope=col>scaff</th></tr>\n",
       "\t<tr><th scope=col>&lt;dbl&gt;</th><th scope=col>&lt;dbl&gt;</th><th scope=col>&lt;dbl&gt;</th><th scope=col>&lt;int&gt;</th><th scope=col>&lt;chr&gt;</th><th scope=col>&lt;chr&gt;</th></tr>\n",
       "</thead>\n",
       "<tbody>\n",
       "\t<tr><td>-36.40970</td><td>2.990203e-290</td><td>23</td><td>73419188</td><td>/expanse/lustre/projects/jhu152/naglemi/mwas/gwas/gwas_stat_scz</td><td>libd_chr1-chr1_AA-libd_chr1-chr1_AA-908982-928981-dynamic-1corestotal-allcorepera-caud-20240510-130545</td></tr>\n",
       "\t<tr><td>-21.16517</td><td> 2.000237e-99</td><td>26</td><td>73417215</td><td>/expanse/lustre/projects/jhu152/naglemi/mwas/gwas/gwas_stat_scz</td><td>libd_chr1-chr1_AA-libd_chr1-chr1_AA-908982-928981-dynamic-1corestotal-allcorepera-caud-20240510-130545</td></tr>\n",
       "\t<tr><td>-19.95268</td><td> 1.420689e-88</td><td>18</td><td>73418205</td><td>/expanse/lustre/projects/jhu152/naglemi/mwas/gwas/gwas_stat_scz</td><td>libd_chr1-chr1_AA-libd_chr1-chr1_AA-908982-928981-dynamic-1corestotal-allcorepera-caud-20240510-130545</td></tr>\n",
       "\t<tr><td>-18.37019</td><td> 2.276177e-75</td><td>18</td><td>73418313</td><td>/expanse/lustre/projects/jhu152/naglemi/mwas/gwas/gwas_stat_scz</td><td>libd_chr1-chr1_AA-libd_chr1-chr1_AA-908982-928981-dynamic-1corestotal-allcorepera-caud-20240510-130545</td></tr>\n",
       "\t<tr><td>-15.49364</td><td> 3.829537e-54</td><td> 8</td><td>73417630</td><td>/expanse/lustre/projects/jhu152/naglemi/mwas/gwas/gwas_stat_scz</td><td>libd_chr1-chr1_AA-libd_chr1-chr1_AA-908982-928981-dynamic-1corestotal-allcorepera-caud-20240510-130545</td></tr>\n",
       "\t<tr><td>-15.01511</td><td> 5.846412e-51</td><td> 9</td><td>73418186</td><td>/expanse/lustre/projects/jhu152/naglemi/mwas/gwas/gwas_stat_scz</td><td>libd_chr1-chr1_AA-libd_chr1-chr1_AA-908982-928981-dynamic-1corestotal-allcorepera-caud-20240510-130545</td></tr>\n",
       "\t<tr><td>-15.00357</td><td> 6.957044e-51</td><td> 9</td><td>73418161</td><td>/expanse/lustre/projects/jhu152/naglemi/mwas/gwas/gwas_stat_scz</td><td>libd_chr1-chr1_AA-libd_chr1-chr1_AA-908982-928981-dynamic-1corestotal-allcorepera-caud-20240510-130545</td></tr>\n",
       "\t<tr><td>-12.21219</td><td> 2.675782e-34</td><td>10</td><td>73418062</td><td>/expanse/lustre/projects/jhu152/naglemi/mwas/gwas/gwas_stat_scz</td><td>libd_chr1-chr1_AA-libd_chr1-chr1_AA-908982-928981-dynamic-1corestotal-allcorepera-caud-20240510-130545</td></tr>\n",
       "</tbody>\n",
       "</table>\n"
      ],
      "text/latex": [
       "A data.table: 8 × 6\n",
       "\\begin{tabular}{llllll}\n",
       " z & p & n & pos & stats & scaff\\\\\n",
       " <dbl> & <dbl> & <dbl> & <int> & <chr> & <chr>\\\\\n",
       "\\hline\n",
       "\t -36.40970 & 2.990203e-290 & 23 & 73419188 & /expanse/lustre/projects/jhu152/naglemi/mwas/gwas/gwas\\_stat\\_scz & libd\\_chr1-chr1\\_AA-libd\\_chr1-chr1\\_AA-908982-928981-dynamic-1corestotal-allcorepera-caud-20240510-130545\\\\\n",
       "\t -21.16517 &  2.000237e-99 & 26 & 73417215 & /expanse/lustre/projects/jhu152/naglemi/mwas/gwas/gwas\\_stat\\_scz & libd\\_chr1-chr1\\_AA-libd\\_chr1-chr1\\_AA-908982-928981-dynamic-1corestotal-allcorepera-caud-20240510-130545\\\\\n",
       "\t -19.95268 &  1.420689e-88 & 18 & 73418205 & /expanse/lustre/projects/jhu152/naglemi/mwas/gwas/gwas\\_stat\\_scz & libd\\_chr1-chr1\\_AA-libd\\_chr1-chr1\\_AA-908982-928981-dynamic-1corestotal-allcorepera-caud-20240510-130545\\\\\n",
       "\t -18.37019 &  2.276177e-75 & 18 & 73418313 & /expanse/lustre/projects/jhu152/naglemi/mwas/gwas/gwas\\_stat\\_scz & libd\\_chr1-chr1\\_AA-libd\\_chr1-chr1\\_AA-908982-928981-dynamic-1corestotal-allcorepera-caud-20240510-130545\\\\\n",
       "\t -15.49364 &  3.829537e-54 &  8 & 73417630 & /expanse/lustre/projects/jhu152/naglemi/mwas/gwas/gwas\\_stat\\_scz & libd\\_chr1-chr1\\_AA-libd\\_chr1-chr1\\_AA-908982-928981-dynamic-1corestotal-allcorepera-caud-20240510-130545\\\\\n",
       "\t -15.01511 &  5.846412e-51 &  9 & 73418186 & /expanse/lustre/projects/jhu152/naglemi/mwas/gwas/gwas\\_stat\\_scz & libd\\_chr1-chr1\\_AA-libd\\_chr1-chr1\\_AA-908982-928981-dynamic-1corestotal-allcorepera-caud-20240510-130545\\\\\n",
       "\t -15.00357 &  6.957044e-51 &  9 & 73418161 & /expanse/lustre/projects/jhu152/naglemi/mwas/gwas/gwas\\_stat\\_scz & libd\\_chr1-chr1\\_AA-libd\\_chr1-chr1\\_AA-908982-928981-dynamic-1corestotal-allcorepera-caud-20240510-130545\\\\\n",
       "\t -12.21219 &  2.675782e-34 & 10 & 73418062 & /expanse/lustre/projects/jhu152/naglemi/mwas/gwas/gwas\\_stat\\_scz & libd\\_chr1-chr1\\_AA-libd\\_chr1-chr1\\_AA-908982-928981-dynamic-1corestotal-allcorepera-caud-20240510-130545\\\\\n",
       "\\end{tabular}\n"
      ],
      "text/markdown": [
       "\n",
       "A data.table: 8 × 6\n",
       "\n",
       "| z &lt;dbl&gt; | p &lt;dbl&gt; | n &lt;dbl&gt; | pos &lt;int&gt; | stats &lt;chr&gt; | scaff &lt;chr&gt; |\n",
       "|---|---|---|---|---|---|\n",
       "| -36.40970 | 2.990203e-290 | 23 | 73419188 | /expanse/lustre/projects/jhu152/naglemi/mwas/gwas/gwas_stat_scz | libd_chr1-chr1_AA-libd_chr1-chr1_AA-908982-928981-dynamic-1corestotal-allcorepera-caud-20240510-130545 |\n",
       "| -21.16517 |  2.000237e-99 | 26 | 73417215 | /expanse/lustre/projects/jhu152/naglemi/mwas/gwas/gwas_stat_scz | libd_chr1-chr1_AA-libd_chr1-chr1_AA-908982-928981-dynamic-1corestotal-allcorepera-caud-20240510-130545 |\n",
       "| -19.95268 |  1.420689e-88 | 18 | 73418205 | /expanse/lustre/projects/jhu152/naglemi/mwas/gwas/gwas_stat_scz | libd_chr1-chr1_AA-libd_chr1-chr1_AA-908982-928981-dynamic-1corestotal-allcorepera-caud-20240510-130545 |\n",
       "| -18.37019 |  2.276177e-75 | 18 | 73418313 | /expanse/lustre/projects/jhu152/naglemi/mwas/gwas/gwas_stat_scz | libd_chr1-chr1_AA-libd_chr1-chr1_AA-908982-928981-dynamic-1corestotal-allcorepera-caud-20240510-130545 |\n",
       "| -15.49364 |  3.829537e-54 |  8 | 73417630 | /expanse/lustre/projects/jhu152/naglemi/mwas/gwas/gwas_stat_scz | libd_chr1-chr1_AA-libd_chr1-chr1_AA-908982-928981-dynamic-1corestotal-allcorepera-caud-20240510-130545 |\n",
       "| -15.01511 |  5.846412e-51 |  9 | 73418186 | /expanse/lustre/projects/jhu152/naglemi/mwas/gwas/gwas_stat_scz | libd_chr1-chr1_AA-libd_chr1-chr1_AA-908982-928981-dynamic-1corestotal-allcorepera-caud-20240510-130545 |\n",
       "| -15.00357 |  6.957044e-51 |  9 | 73418161 | /expanse/lustre/projects/jhu152/naglemi/mwas/gwas/gwas_stat_scz | libd_chr1-chr1_AA-libd_chr1-chr1_AA-908982-928981-dynamic-1corestotal-allcorepera-caud-20240510-130545 |\n",
       "| -12.21219 |  2.675782e-34 | 10 | 73418062 | /expanse/lustre/projects/jhu152/naglemi/mwas/gwas/gwas_stat_scz | libd_chr1-chr1_AA-libd_chr1-chr1_AA-908982-928981-dynamic-1corestotal-allcorepera-caud-20240510-130545 |\n",
       "\n"
      ],
      "text/plain": [
       "  z         p             n  pos     \n",
       "1 -36.40970 2.990203e-290 23 73419188\n",
       "2 -21.16517  2.000237e-99 26 73417215\n",
       "3 -19.95268  1.420689e-88 18 73418205\n",
       "4 -18.37019  2.276177e-75 18 73418313\n",
       "5 -15.49364  3.829537e-54  8 73417630\n",
       "6 -15.01511  5.846412e-51  9 73418186\n",
       "7 -15.00357  6.957044e-51  9 73418161\n",
       "8 -12.21219  2.675782e-34 10 73418062\n",
       "  stats                                                          \n",
       "1 /expanse/lustre/projects/jhu152/naglemi/mwas/gwas/gwas_stat_scz\n",
       "2 /expanse/lustre/projects/jhu152/naglemi/mwas/gwas/gwas_stat_scz\n",
       "3 /expanse/lustre/projects/jhu152/naglemi/mwas/gwas/gwas_stat_scz\n",
       "4 /expanse/lustre/projects/jhu152/naglemi/mwas/gwas/gwas_stat_scz\n",
       "5 /expanse/lustre/projects/jhu152/naglemi/mwas/gwas/gwas_stat_scz\n",
       "6 /expanse/lustre/projects/jhu152/naglemi/mwas/gwas/gwas_stat_scz\n",
       "7 /expanse/lustre/projects/jhu152/naglemi/mwas/gwas/gwas_stat_scz\n",
       "8 /expanse/lustre/projects/jhu152/naglemi/mwas/gwas/gwas_stat_scz\n",
       "  scaff                                                                                                 \n",
       "1 libd_chr1-chr1_AA-libd_chr1-chr1_AA-908982-928981-dynamic-1corestotal-allcorepera-caud-20240510-130545\n",
       "2 libd_chr1-chr1_AA-libd_chr1-chr1_AA-908982-928981-dynamic-1corestotal-allcorepera-caud-20240510-130545\n",
       "3 libd_chr1-chr1_AA-libd_chr1-chr1_AA-908982-928981-dynamic-1corestotal-allcorepera-caud-20240510-130545\n",
       "4 libd_chr1-chr1_AA-libd_chr1-chr1_AA-908982-928981-dynamic-1corestotal-allcorepera-caud-20240510-130545\n",
       "5 libd_chr1-chr1_AA-libd_chr1-chr1_AA-908982-928981-dynamic-1corestotal-allcorepera-caud-20240510-130545\n",
       "6 libd_chr1-chr1_AA-libd_chr1-chr1_AA-908982-928981-dynamic-1corestotal-allcorepera-caud-20240510-130545\n",
       "7 libd_chr1-chr1_AA-libd_chr1-chr1_AA-908982-928981-dynamic-1corestotal-allcorepera-caud-20240510-130545\n",
       "8 libd_chr1-chr1_AA-libd_chr1-chr1_AA-908982-928981-dynamic-1corestotal-allcorepera-caud-20240510-130545"
      ]
     },
     "metadata": {},
     "output_type": "display_data"
    }
   ],
   "source": [
    "head(combined_data, n = 20)"
   ]
  },
  {
   "cell_type": "code",
   "execution_count": null,
   "id": "6a0758fe-7f85-4a09-8fe0-31313156d3cc",
   "metadata": {},
   "outputs": [],
   "source": []
  }
 ],
 "metadata": {
  "kernelspec": {
   "display_name": "R",
   "language": "R",
   "name": "ir"
  },
  "language_info": {
   "codemirror_mode": "r",
   "file_extension": ".r",
   "mimetype": "text/x-r-source",
   "name": "R",
   "pygments_lexer": "r",
   "version": "4.3.1"
  }
 },
 "nbformat": 4,
 "nbformat_minor": 5
}
