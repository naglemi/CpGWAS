{
 "cells": [
  {
   "cell_type": "markdown",
   "id": "0cb72484-0e2e-4d13-bda9-58fe13e8ae34",
   "metadata": {},
   "source": [
    "# Prep SLURM commands"
   ]
  },
  {
   "cell_type": "code",
   "execution_count": 1,
   "id": "16eddb68-67bf-48d8-9343-a7e48c69b312",
   "metadata": {},
   "outputs": [
    {
     "data": {
      "text/html": [
       "'/dcs04/lieber/statsgen/mnagle/mwas/CpGWAS/scripts'"
      ],
      "text/latex": [
       "'/dcs04/lieber/statsgen/mnagle/mwas/CpGWAS/scripts'"
      ],
      "text/markdown": [
       "'/dcs04/lieber/statsgen/mnagle/mwas/CpGWAS/scripts'"
      ],
      "text/plain": [
       "[1] \"/dcs04/lieber/statsgen/mnagle/mwas/CpGWAS/scripts\""
      ]
     },
     "metadata": {},
     "output_type": "display_data"
    }
   ],
   "source": [
    "getwd()"
   ]
  },
  {
   "cell_type": "code",
   "execution_count": 2,
   "id": "82f55bee-2e04-4858-a040-64869a761882",
   "metadata": {},
   "outputs": [],
   "source": [
    "setwd(\"../\")"
   ]
  },
  {
   "cell_type": "code",
   "execution_count": 3,
   "id": "750b3ac4-4232-4549-b317-faa48852db41",
   "metadata": {},
   "outputs": [],
   "source": [
    "#' Generate Chunk Ranges with Fixed Number of Chunks\n",
    "#'\n",
    "#' This function divides a range into a specified number of chunks, with each chunk\n",
    "#' having approximately the same size.\n",
    "#'\n",
    "#' @param start The starting point of the range to be divided.\n",
    "#' @param end The ending point of the range to be divided.\n",
    "#' @param num_chunks The fixed number of chunks to divide the range into.\n",
    "#'\n",
    "#' @return A matrix where each row represents a chunk, with the first column being\n",
    "#'         the start of the chunk and the second column being the end of the chunk.\n",
    "#' @examples\n",
    "#' chunk_fixed_n(1, 100, 5)\n",
    "#' @export\n",
    "chunk_fixed_n <- function(start, end, num_chunks) {\n",
    "  chunk_size <- ceiling((end - start + 1) / num_chunks)\n",
    "  chunk_ranges <- sapply(1:num_chunks, function(i) {\n",
    "    chunk_start <- start + (i - 1) * chunk_size\n",
    "    chunk_end <- min(chunk_start + chunk_size - 1, end)\n",
    "    c(chunk_start, chunk_end)\n",
    "  })\n",
    "  return(chunk_ranges)\n",
    "}\n",
    "\n",
    "#' Generate Chunk Ranges with Fixed Chunk Size\n",
    "#'\n",
    "#' This function divides a range into chunks up to a given maximum size, dynamically\n",
    "#' determining the number of chunks based on the range and maximum chunk size.\n",
    "#'\n",
    "#' @param start The starting point of the range to be divided.\n",
    "#' @param end The ending point of the range to be divided.\n",
    "#' @param max_chunk_size The maximum size that each chunk can have.\n",
    "#'\n",
    "#' @return A matrix where each row represents a chunk, with the first column being\n",
    "#'         the start of the chunk and the second column being the end of the chunk.\n",
    "#'         The last chunk may be smaller than `max_chunk_size` to fit the range.\n",
    "#' @examples\n",
    "#' chunk_fixed_size(1, 100, 20)\n",
    "#' @export\n",
    "chunk_fixed_size <- function(start, end, max_chunk_size) {\n",
    "  if (length(start) > 1 || length(end) > 1) {\n",
    "    stop(\"start and end must be single values\")\n",
    "  }\n",
    "  if (start > end || max_chunk_size <= 0) {\n",
    "    stop(\"Invalid arguments: ensure start <= end and max_chunk_size > 0\")\n",
    "  }\n",
    "  \n",
    "  num_chunks <- ceiling((end - start + 1) / max_chunk_size)\n",
    "  chunk_ranges <- matrix(nrow = num_chunks, ncol = 2)\n",
    "  \n",
    "  for (i in 1:num_chunks) {\n",
    "    chunk_start <- start + (i - 1) * max_chunk_size\n",
    "    chunk_end <- min(chunk_start + max_chunk_size - 1, end)\n",
    "    chunk_ranges[i, ] <- c(chunk_start, chunk_end)\n",
    "  }\n",
    "  \n",
    "  return(t(chunk_ranges))\n",
    "}\n",
    "\n",
    "generate_slurm_script <- function(args, tag_pt1, tag_pt2, mem_per_cpu = \"16G\") {\n",
    "  cpus_per_task <- if (is.null(args$num_cores) || args$num_cores == \"all\") {\n",
    "    \"#SBATCH --exclusive\\n\"\n",
    "  } else {\n",
    "    paste0(\"#SBATCH --cpus-per-task=\", args$num_cores, \"\\n\")\n",
    "  }\n",
    "\n",
    "  # Always set mem_per_cpu flag, even in exclusive mode\n",
    "  mem_allocation <- paste0(\"#SBATCH --mem-per-cpu=\", mem_per_cpu, \"\\n\")\n",
    "\n",
    "  args_string <- paste(\"--\", names(args), \"=\", args, sep = \"\", collapse = \" \")\n",
    "  args_string <- paste(args_string, \" --tag=\", tag_pt1, \"-\", tag_pt2, sep = \"\")\n",
    "\n",
    "  slurm_script <- paste0(\n",
    "    \"#!/bin/bash\\n\",\n",
    "    if (cluster_specific_parameters) paste0(\n",
    "      \"#SBATCH --partition=\", partition, \"\\n\",\n",
    "      \"#SBATCH -A \", acct, \"\\n\",\n",
    "      \"#SBATCH --time=\", time, \"\\n\"\n",
    "    ),\n",
    "    if (!is.null(nodes) && !is.null(ntasks_per_node)) paste0(\n",
    "      \"#SBATCH --nodes=\", nodes, \"\\n\",\n",
    "      \"#SBATCH --ntasks-per-node=\", ntasks_per_node, \"\\n\"\n",
    "    ),\n",
    "    cpus_per_task,\n",
    "    mem_allocation,\n",
    "    \"#SBATCH --output=slurm_output_\", tag_pt1, \"-\", tag_pt2, \".out\\n\",\n",
    "    \"#SBATCH --job-name=\", tag_pt1, \"-\", tag_pt2, \"\\n\",\n",
    "    if (module_load_conda) \"module load conda\\n\",\n",
    "    \"conda activate mwas\\n\",\n",
    "    \"echo 'Executing Rscript with arguments: Rscript scripts/CLI.R \", args_string, \"'\\n\",\n",
    "    \"Rscript scripts/CLI.R \", args_string, \"\\n\"\n",
    "  )\n",
    "\n",
    "  return(list(script = slurm_script, path = paste0(\"slurm_scripts/\", tag_pt1, \"-\", tag_pt2, \".sh\")))\n",
    "}"
   ]
  },
  {
   "cell_type": "code",
   "execution_count": 4,
   "id": "e618d140-ad01-469b-9db1-93176c568260",
   "metadata": {},
   "outputs": [],
   "source": [
    "# Cluster-specific parameters\n",
    "cluster_specific_parameters <- FALSE # Example condition\n",
    "acct <- \"jhu152\"\n",
    "time <- \"48:00:00\"\n",
    "partition <- \"shared\"\n",
    "\n",
    "module_load_conda <- TRUE\n",
    "\n",
    "nodes <- 1\n",
    "ntasks_per_node <- 1\n",
    "\n",
    "# Overwrite flag (set by user)\n",
    "overwrite <- FALSE"
   ]
  },
  {
   "cell_type": "code",
   "execution_count": 5,
   "id": "8e415d48-449a-40da-8547-832968839644",
   "metadata": {},
   "outputs": [],
   "source": [
    "# chunk_ranges <- chunk_fixed_size(files$first_meth_index_with_SNP_coverage[i],\n",
    "#                                  files$last_meth_index_with_SNP_coverage[i],\n",
    "#                                  1000)\n",
    "                         \n",
    "\n",
    "# chunk_ranges <- chunk_ranges[1:2,1:2]\n",
    "\n",
    "#chunk_ranges <- chunk_fixed_n(1, 10000, 5)"
   ]
  },
  {
   "cell_type": "code",
   "execution_count": 6,
   "id": "9c7b2054-67b9-42e5-9f90-1bd0bdac846e",
   "metadata": {},
   "outputs": [],
   "source": [
    "library(data.table)"
   ]
  },
  {
   "cell_type": "code",
   "execution_count": 7,
   "id": "48c476be-91a2-4c79-8ad1-0e94a7fefd3d",
   "metadata": {},
   "outputs": [
    {
     "data": {
      "text/html": [
       "'/dcs04/lieber/statsgen/mnagle/mwas/CpGWAS'"
      ],
      "text/latex": [
       "'/dcs04/lieber/statsgen/mnagle/mwas/CpGWAS'"
      ],
      "text/markdown": [
       "'/dcs04/lieber/statsgen/mnagle/mwas/CpGWAS'"
      ],
      "text/plain": [
       "[1] \"/dcs04/lieber/statsgen/mnagle/mwas/CpGWAS\""
      ]
     },
     "metadata": {},
     "output_type": "display_data"
    }
   ],
   "source": [
    "getwd()"
   ]
  },
  {
   "cell_type": "code",
   "execution_count": 8,
   "id": "815ee1a2-cbf5-4d10-ab9e-74457df5b83b",
   "metadata": {},
   "outputs": [],
   "source": [
    "matched_df <- fread(\"../CpGWAS/scripts/09-OUT_matched_SNP_meth_cov.csv\")"
   ]
  },
  {
   "cell_type": "code",
   "execution_count": 9,
   "id": "194ef5b8-7f7a-4cb6-ae56-e308980fbc30",
   "metadata": {},
   "outputs": [],
   "source": [
    "matched_df <- matched_df[order(matched_df$SNP_data), ]"
   ]
  },
  {
   "cell_type": "code",
   "execution_count": 10,
   "id": "11a5681f-387c-4e8b-86ab-df62cacdcf05",
   "metadata": {},
   "outputs": [
    {
     "data": {
      "text/html": [
       "<table class=\"dataframe\">\n",
       "<caption>A data.table: 6 × 10</caption>\n",
       "<thead>\n",
       "\t<tr><th scope=col>Chr</th><th scope=col>SNP_data</th><th scope=col>methylation_data</th><th scope=col>last_meth_value_with_SNP_coverage</th><th scope=col>first_meth_value_with_SNP_coverage</th><th scope=col>last_meth_index_with_SNP_coverage</th><th scope=col>first_meth_index_with_SNP_coverage</th><th scope=col>population</th><th scope=col>region</th><th scope=col>cov_file</th></tr>\n",
       "\t<tr><th scope=col>&lt;int&gt;</th><th scope=col>&lt;chr&gt;</th><th scope=col>&lt;chr&gt;</th><th scope=col>&lt;int&gt;</th><th scope=col>&lt;int&gt;</th><th scope=col>&lt;int&gt;</th><th scope=col>&lt;int&gt;</th><th scope=col>&lt;chr&gt;</th><th scope=col>&lt;chr&gt;</th><th scope=col>&lt;chr&gt;</th></tr>\n",
       "</thead>\n",
       "<tbody>\n",
       "\t<tr><td>1</td><td>/expanse/lustre/projects/jhu152/naglemi/mwas/gwas//libd_chr1.pgen</td><td>/expanse/lustre/projects/jhu152/naglemi/mwas/pheno/caud/out/chr1_AA.rda  </td><td>248918358</td><td>1069461</td><td>2202702</td><td>8982</td><td>AA </td><td>caud </td><td>/expanse/lustre/projects/jhu152/naglemi/mwas/full_covariates/AA_caud.csv  </td></tr>\n",
       "\t<tr><td>1</td><td>/expanse/lustre/projects/jhu152/naglemi/mwas/gwas//libd_chr1.pgen</td><td>/expanse/lustre/projects/jhu152/naglemi/mwas/pheno/caud/out/chr1_all.rda </td><td>248918358</td><td>1069461</td><td>2202702</td><td>8982</td><td>all</td><td>caud </td><td>/expanse/lustre/projects/jhu152/naglemi/mwas/full_covariates/all_caud.csv </td></tr>\n",
       "\t<tr><td>1</td><td>/expanse/lustre/projects/jhu152/naglemi/mwas/gwas//libd_chr1.pgen</td><td>/expanse/lustre/projects/jhu152/naglemi/mwas/pheno/caud/out/chr1_EA.rda  </td><td>248918358</td><td>1069461</td><td>2202702</td><td>8982</td><td>EA </td><td>caud </td><td>/expanse/lustre/projects/jhu152/naglemi/mwas/full_covariates/EA_caud.csv  </td></tr>\n",
       "\t<tr><td>1</td><td>/expanse/lustre/projects/jhu152/naglemi/mwas/gwas//libd_chr1.pgen</td><td>/expanse/lustre/projects/jhu152/naglemi/mwas/pheno/dlpfc/out/chr1_AA.rda </td><td>248918358</td><td>1069461</td><td>2202702</td><td>8982</td><td>AA </td><td>dlpfc</td><td>/expanse/lustre/projects/jhu152/naglemi/mwas/full_covariates/AA_dlpfc.csv </td></tr>\n",
       "\t<tr><td>1</td><td>/expanse/lustre/projects/jhu152/naglemi/mwas/gwas//libd_chr1.pgen</td><td>/expanse/lustre/projects/jhu152/naglemi/mwas/pheno/dlpfc/out/chr1_all.rda</td><td>248918358</td><td>1069461</td><td>2202702</td><td>8982</td><td>all</td><td>dlpfc</td><td>/expanse/lustre/projects/jhu152/naglemi/mwas/full_covariates/all_dlpfc.csv</td></tr>\n",
       "\t<tr><td>1</td><td>/expanse/lustre/projects/jhu152/naglemi/mwas/gwas//libd_chr1.pgen</td><td>/expanse/lustre/projects/jhu152/naglemi/mwas/pheno/dlpfc/out/chr1_EA.rda </td><td>248918358</td><td>1069461</td><td>2202702</td><td>8982</td><td>EA </td><td>dlpfc</td><td>/expanse/lustre/projects/jhu152/naglemi/mwas/full_covariates/EA_dlpfc.csv </td></tr>\n",
       "</tbody>\n",
       "</table>\n"
      ],
      "text/latex": [
       "A data.table: 6 × 10\n",
       "\\begin{tabular}{llllllllll}\n",
       " Chr & SNP\\_data & methylation\\_data & last\\_meth\\_value\\_with\\_SNP\\_coverage & first\\_meth\\_value\\_with\\_SNP\\_coverage & last\\_meth\\_index\\_with\\_SNP\\_coverage & first\\_meth\\_index\\_with\\_SNP\\_coverage & population & region & cov\\_file\\\\\n",
       " <int> & <chr> & <chr> & <int> & <int> & <int> & <int> & <chr> & <chr> & <chr>\\\\\n",
       "\\hline\n",
       "\t 1 & /expanse/lustre/projects/jhu152/naglemi/mwas/gwas//libd\\_chr1.pgen & /expanse/lustre/projects/jhu152/naglemi/mwas/pheno/caud/out/chr1\\_AA.rda   & 248918358 & 1069461 & 2202702 & 8982 & AA  & caud  & /expanse/lustre/projects/jhu152/naglemi/mwas/full\\_covariates/AA\\_caud.csv  \\\\\n",
       "\t 1 & /expanse/lustre/projects/jhu152/naglemi/mwas/gwas//libd\\_chr1.pgen & /expanse/lustre/projects/jhu152/naglemi/mwas/pheno/caud/out/chr1\\_all.rda  & 248918358 & 1069461 & 2202702 & 8982 & all & caud  & /expanse/lustre/projects/jhu152/naglemi/mwas/full\\_covariates/all\\_caud.csv \\\\\n",
       "\t 1 & /expanse/lustre/projects/jhu152/naglemi/mwas/gwas//libd\\_chr1.pgen & /expanse/lustre/projects/jhu152/naglemi/mwas/pheno/caud/out/chr1\\_EA.rda   & 248918358 & 1069461 & 2202702 & 8982 & EA  & caud  & /expanse/lustre/projects/jhu152/naglemi/mwas/full\\_covariates/EA\\_caud.csv  \\\\\n",
       "\t 1 & /expanse/lustre/projects/jhu152/naglemi/mwas/gwas//libd\\_chr1.pgen & /expanse/lustre/projects/jhu152/naglemi/mwas/pheno/dlpfc/out/chr1\\_AA.rda  & 248918358 & 1069461 & 2202702 & 8982 & AA  & dlpfc & /expanse/lustre/projects/jhu152/naglemi/mwas/full\\_covariates/AA\\_dlpfc.csv \\\\\n",
       "\t 1 & /expanse/lustre/projects/jhu152/naglemi/mwas/gwas//libd\\_chr1.pgen & /expanse/lustre/projects/jhu152/naglemi/mwas/pheno/dlpfc/out/chr1\\_all.rda & 248918358 & 1069461 & 2202702 & 8982 & all & dlpfc & /expanse/lustre/projects/jhu152/naglemi/mwas/full\\_covariates/all\\_dlpfc.csv\\\\\n",
       "\t 1 & /expanse/lustre/projects/jhu152/naglemi/mwas/gwas//libd\\_chr1.pgen & /expanse/lustre/projects/jhu152/naglemi/mwas/pheno/dlpfc/out/chr1\\_EA.rda  & 248918358 & 1069461 & 2202702 & 8982 & EA  & dlpfc & /expanse/lustre/projects/jhu152/naglemi/mwas/full\\_covariates/EA\\_dlpfc.csv \\\\\n",
       "\\end{tabular}\n"
      ],
      "text/markdown": [
       "\n",
       "A data.table: 6 × 10\n",
       "\n",
       "| Chr &lt;int&gt; | SNP_data &lt;chr&gt; | methylation_data &lt;chr&gt; | last_meth_value_with_SNP_coverage &lt;int&gt; | first_meth_value_with_SNP_coverage &lt;int&gt; | last_meth_index_with_SNP_coverage &lt;int&gt; | first_meth_index_with_SNP_coverage &lt;int&gt; | population &lt;chr&gt; | region &lt;chr&gt; | cov_file &lt;chr&gt; |\n",
       "|---|---|---|---|---|---|---|---|---|---|\n",
       "| 1 | /expanse/lustre/projects/jhu152/naglemi/mwas/gwas//libd_chr1.pgen | /expanse/lustre/projects/jhu152/naglemi/mwas/pheno/caud/out/chr1_AA.rda   | 248918358 | 1069461 | 2202702 | 8982 | AA  | caud  | /expanse/lustre/projects/jhu152/naglemi/mwas/full_covariates/AA_caud.csv   |\n",
       "| 1 | /expanse/lustre/projects/jhu152/naglemi/mwas/gwas//libd_chr1.pgen | /expanse/lustre/projects/jhu152/naglemi/mwas/pheno/caud/out/chr1_all.rda  | 248918358 | 1069461 | 2202702 | 8982 | all | caud  | /expanse/lustre/projects/jhu152/naglemi/mwas/full_covariates/all_caud.csv  |\n",
       "| 1 | /expanse/lustre/projects/jhu152/naglemi/mwas/gwas//libd_chr1.pgen | /expanse/lustre/projects/jhu152/naglemi/mwas/pheno/caud/out/chr1_EA.rda   | 248918358 | 1069461 | 2202702 | 8982 | EA  | caud  | /expanse/lustre/projects/jhu152/naglemi/mwas/full_covariates/EA_caud.csv   |\n",
       "| 1 | /expanse/lustre/projects/jhu152/naglemi/mwas/gwas//libd_chr1.pgen | /expanse/lustre/projects/jhu152/naglemi/mwas/pheno/dlpfc/out/chr1_AA.rda  | 248918358 | 1069461 | 2202702 | 8982 | AA  | dlpfc | /expanse/lustre/projects/jhu152/naglemi/mwas/full_covariates/AA_dlpfc.csv  |\n",
       "| 1 | /expanse/lustre/projects/jhu152/naglemi/mwas/gwas//libd_chr1.pgen | /expanse/lustre/projects/jhu152/naglemi/mwas/pheno/dlpfc/out/chr1_all.rda | 248918358 | 1069461 | 2202702 | 8982 | all | dlpfc | /expanse/lustre/projects/jhu152/naglemi/mwas/full_covariates/all_dlpfc.csv |\n",
       "| 1 | /expanse/lustre/projects/jhu152/naglemi/mwas/gwas//libd_chr1.pgen | /expanse/lustre/projects/jhu152/naglemi/mwas/pheno/dlpfc/out/chr1_EA.rda  | 248918358 | 1069461 | 2202702 | 8982 | EA  | dlpfc | /expanse/lustre/projects/jhu152/naglemi/mwas/full_covariates/EA_dlpfc.csv  |\n",
       "\n"
      ],
      "text/plain": [
       "  Chr SNP_data                                                         \n",
       "1 1   /expanse/lustre/projects/jhu152/naglemi/mwas/gwas//libd_chr1.pgen\n",
       "2 1   /expanse/lustre/projects/jhu152/naglemi/mwas/gwas//libd_chr1.pgen\n",
       "3 1   /expanse/lustre/projects/jhu152/naglemi/mwas/gwas//libd_chr1.pgen\n",
       "4 1   /expanse/lustre/projects/jhu152/naglemi/mwas/gwas//libd_chr1.pgen\n",
       "5 1   /expanse/lustre/projects/jhu152/naglemi/mwas/gwas//libd_chr1.pgen\n",
       "6 1   /expanse/lustre/projects/jhu152/naglemi/mwas/gwas//libd_chr1.pgen\n",
       "  methylation_data                                                         \n",
       "1 /expanse/lustre/projects/jhu152/naglemi/mwas/pheno/caud/out/chr1_AA.rda  \n",
       "2 /expanse/lustre/projects/jhu152/naglemi/mwas/pheno/caud/out/chr1_all.rda \n",
       "3 /expanse/lustre/projects/jhu152/naglemi/mwas/pheno/caud/out/chr1_EA.rda  \n",
       "4 /expanse/lustre/projects/jhu152/naglemi/mwas/pheno/dlpfc/out/chr1_AA.rda \n",
       "5 /expanse/lustre/projects/jhu152/naglemi/mwas/pheno/dlpfc/out/chr1_all.rda\n",
       "6 /expanse/lustre/projects/jhu152/naglemi/mwas/pheno/dlpfc/out/chr1_EA.rda \n",
       "  last_meth_value_with_SNP_coverage first_meth_value_with_SNP_coverage\n",
       "1 248918358                         1069461                           \n",
       "2 248918358                         1069461                           \n",
       "3 248918358                         1069461                           \n",
       "4 248918358                         1069461                           \n",
       "5 248918358                         1069461                           \n",
       "6 248918358                         1069461                           \n",
       "  last_meth_index_with_SNP_coverage first_meth_index_with_SNP_coverage\n",
       "1 2202702                           8982                              \n",
       "2 2202702                           8982                              \n",
       "3 2202702                           8982                              \n",
       "4 2202702                           8982                              \n",
       "5 2202702                           8982                              \n",
       "6 2202702                           8982                              \n",
       "  population region\n",
       "1 AA         caud  \n",
       "2 all        caud  \n",
       "3 EA         caud  \n",
       "4 AA         dlpfc \n",
       "5 all        dlpfc \n",
       "6 EA         dlpfc \n",
       "  cov_file                                                                  \n",
       "1 /expanse/lustre/projects/jhu152/naglemi/mwas/full_covariates/AA_caud.csv  \n",
       "2 /expanse/lustre/projects/jhu152/naglemi/mwas/full_covariates/all_caud.csv \n",
       "3 /expanse/lustre/projects/jhu152/naglemi/mwas/full_covariates/EA_caud.csv  \n",
       "4 /expanse/lustre/projects/jhu152/naglemi/mwas/full_covariates/AA_dlpfc.csv \n",
       "5 /expanse/lustre/projects/jhu152/naglemi/mwas/full_covariates/all_dlpfc.csv\n",
       "6 /expanse/lustre/projects/jhu152/naglemi/mwas/full_covariates/EA_dlpfc.csv "
      ]
     },
     "metadata": {},
     "output_type": "display_data"
    }
   ],
   "source": [
    "head(matched_df)"
   ]
  },
  {
   "cell_type": "code",
   "execution_count": 11,
   "id": "9ba70c8a-b2ce-4b52-a948-40cc8e4583a9",
   "metadata": {},
   "outputs": [],
   "source": [
    "matched_df$SNP_data <- gsub(\"/expanse/lustre/projects/jhu152/naglemi/mwas/gwas/\", \"/dcs04/lieber/statsgen/shizhong/michael/mwas/gwas/\", matched_df$SNP_data)\n",
    "matched_df$methylation_data <- gsub(\"/expanse/lustre/projects/jhu152/naglemi/mwas/pheno/\", \"/dcs04/lieber/statsgen/shizhong/michael/mwas/pheno/\", matched_df$methylation_data)\n",
    "matched_df$cov_file <- gsub(\"/expanse/lustre/projects/jhu152/naglemi/mwas/full_covariates/\", \"/dcs04/lieber/statsgen/mnagle/mwas/full_covariates/\", matched_df$cov_file)"
   ]
  },
  {
   "cell_type": "code",
   "execution_count": 12,
   "id": "f71aeaa2-8c2e-40c0-8e7a-7fa04ce321da",
   "metadata": {},
   "outputs": [
    {
     "data": {
      "text/html": [
       "<table class=\"dataframe\">\n",
       "<caption>A data.table: 6 × 10</caption>\n",
       "<thead>\n",
       "\t<tr><th scope=col>Chr</th><th scope=col>SNP_data</th><th scope=col>methylation_data</th><th scope=col>last_meth_value_with_SNP_coverage</th><th scope=col>first_meth_value_with_SNP_coverage</th><th scope=col>last_meth_index_with_SNP_coverage</th><th scope=col>first_meth_index_with_SNP_coverage</th><th scope=col>population</th><th scope=col>region</th><th scope=col>cov_file</th></tr>\n",
       "\t<tr><th scope=col>&lt;int&gt;</th><th scope=col>&lt;chr&gt;</th><th scope=col>&lt;chr&gt;</th><th scope=col>&lt;int&gt;</th><th scope=col>&lt;int&gt;</th><th scope=col>&lt;int&gt;</th><th scope=col>&lt;int&gt;</th><th scope=col>&lt;chr&gt;</th><th scope=col>&lt;chr&gt;</th><th scope=col>&lt;chr&gt;</th></tr>\n",
       "</thead>\n",
       "<tbody>\n",
       "\t<tr><td>1</td><td>/dcs04/lieber/statsgen/shizhong/michael/mwas/gwas//libd_chr1.pgen</td><td>/dcs04/lieber/statsgen/shizhong/michael/mwas/pheno/caud/out/chr1_AA.rda  </td><td>248918358</td><td>1069461</td><td>2202702</td><td>8982</td><td>AA </td><td>caud </td><td>/dcs04/lieber/statsgen/mnagle/mwas/full_covariates/AA_caud.csv  </td></tr>\n",
       "\t<tr><td>1</td><td>/dcs04/lieber/statsgen/shizhong/michael/mwas/gwas//libd_chr1.pgen</td><td>/dcs04/lieber/statsgen/shizhong/michael/mwas/pheno/caud/out/chr1_all.rda </td><td>248918358</td><td>1069461</td><td>2202702</td><td>8982</td><td>all</td><td>caud </td><td>/dcs04/lieber/statsgen/mnagle/mwas/full_covariates/all_caud.csv </td></tr>\n",
       "\t<tr><td>1</td><td>/dcs04/lieber/statsgen/shizhong/michael/mwas/gwas//libd_chr1.pgen</td><td>/dcs04/lieber/statsgen/shizhong/michael/mwas/pheno/caud/out/chr1_EA.rda  </td><td>248918358</td><td>1069461</td><td>2202702</td><td>8982</td><td>EA </td><td>caud </td><td>/dcs04/lieber/statsgen/mnagle/mwas/full_covariates/EA_caud.csv  </td></tr>\n",
       "\t<tr><td>1</td><td>/dcs04/lieber/statsgen/shizhong/michael/mwas/gwas//libd_chr1.pgen</td><td>/dcs04/lieber/statsgen/shizhong/michael/mwas/pheno/dlpfc/out/chr1_AA.rda </td><td>248918358</td><td>1069461</td><td>2202702</td><td>8982</td><td>AA </td><td>dlpfc</td><td>/dcs04/lieber/statsgen/mnagle/mwas/full_covariates/AA_dlpfc.csv </td></tr>\n",
       "\t<tr><td>1</td><td>/dcs04/lieber/statsgen/shizhong/michael/mwas/gwas//libd_chr1.pgen</td><td>/dcs04/lieber/statsgen/shizhong/michael/mwas/pheno/dlpfc/out/chr1_all.rda</td><td>248918358</td><td>1069461</td><td>2202702</td><td>8982</td><td>all</td><td>dlpfc</td><td>/dcs04/lieber/statsgen/mnagle/mwas/full_covariates/all_dlpfc.csv</td></tr>\n",
       "\t<tr><td>1</td><td>/dcs04/lieber/statsgen/shizhong/michael/mwas/gwas//libd_chr1.pgen</td><td>/dcs04/lieber/statsgen/shizhong/michael/mwas/pheno/dlpfc/out/chr1_EA.rda </td><td>248918358</td><td>1069461</td><td>2202702</td><td>8982</td><td>EA </td><td>dlpfc</td><td>/dcs04/lieber/statsgen/mnagle/mwas/full_covariates/EA_dlpfc.csv </td></tr>\n",
       "</tbody>\n",
       "</table>\n"
      ],
      "text/latex": [
       "A data.table: 6 × 10\n",
       "\\begin{tabular}{llllllllll}\n",
       " Chr & SNP\\_data & methylation\\_data & last\\_meth\\_value\\_with\\_SNP\\_coverage & first\\_meth\\_value\\_with\\_SNP\\_coverage & last\\_meth\\_index\\_with\\_SNP\\_coverage & first\\_meth\\_index\\_with\\_SNP\\_coverage & population & region & cov\\_file\\\\\n",
       " <int> & <chr> & <chr> & <int> & <int> & <int> & <int> & <chr> & <chr> & <chr>\\\\\n",
       "\\hline\n",
       "\t 1 & /dcs04/lieber/statsgen/shizhong/michael/mwas/gwas//libd\\_chr1.pgen & /dcs04/lieber/statsgen/shizhong/michael/mwas/pheno/caud/out/chr1\\_AA.rda   & 248918358 & 1069461 & 2202702 & 8982 & AA  & caud  & /dcs04/lieber/statsgen/mnagle/mwas/full\\_covariates/AA\\_caud.csv  \\\\\n",
       "\t 1 & /dcs04/lieber/statsgen/shizhong/michael/mwas/gwas//libd\\_chr1.pgen & /dcs04/lieber/statsgen/shizhong/michael/mwas/pheno/caud/out/chr1\\_all.rda  & 248918358 & 1069461 & 2202702 & 8982 & all & caud  & /dcs04/lieber/statsgen/mnagle/mwas/full\\_covariates/all\\_caud.csv \\\\\n",
       "\t 1 & /dcs04/lieber/statsgen/shizhong/michael/mwas/gwas//libd\\_chr1.pgen & /dcs04/lieber/statsgen/shizhong/michael/mwas/pheno/caud/out/chr1\\_EA.rda   & 248918358 & 1069461 & 2202702 & 8982 & EA  & caud  & /dcs04/lieber/statsgen/mnagle/mwas/full\\_covariates/EA\\_caud.csv  \\\\\n",
       "\t 1 & /dcs04/lieber/statsgen/shizhong/michael/mwas/gwas//libd\\_chr1.pgen & /dcs04/lieber/statsgen/shizhong/michael/mwas/pheno/dlpfc/out/chr1\\_AA.rda  & 248918358 & 1069461 & 2202702 & 8982 & AA  & dlpfc & /dcs04/lieber/statsgen/mnagle/mwas/full\\_covariates/AA\\_dlpfc.csv \\\\\n",
       "\t 1 & /dcs04/lieber/statsgen/shizhong/michael/mwas/gwas//libd\\_chr1.pgen & /dcs04/lieber/statsgen/shizhong/michael/mwas/pheno/dlpfc/out/chr1\\_all.rda & 248918358 & 1069461 & 2202702 & 8982 & all & dlpfc & /dcs04/lieber/statsgen/mnagle/mwas/full\\_covariates/all\\_dlpfc.csv\\\\\n",
       "\t 1 & /dcs04/lieber/statsgen/shizhong/michael/mwas/gwas//libd\\_chr1.pgen & /dcs04/lieber/statsgen/shizhong/michael/mwas/pheno/dlpfc/out/chr1\\_EA.rda  & 248918358 & 1069461 & 2202702 & 8982 & EA  & dlpfc & /dcs04/lieber/statsgen/mnagle/mwas/full\\_covariates/EA\\_dlpfc.csv \\\\\n",
       "\\end{tabular}\n"
      ],
      "text/markdown": [
       "\n",
       "A data.table: 6 × 10\n",
       "\n",
       "| Chr &lt;int&gt; | SNP_data &lt;chr&gt; | methylation_data &lt;chr&gt; | last_meth_value_with_SNP_coverage &lt;int&gt; | first_meth_value_with_SNP_coverage &lt;int&gt; | last_meth_index_with_SNP_coverage &lt;int&gt; | first_meth_index_with_SNP_coverage &lt;int&gt; | population &lt;chr&gt; | region &lt;chr&gt; | cov_file &lt;chr&gt; |\n",
       "|---|---|---|---|---|---|---|---|---|---|\n",
       "| 1 | /dcs04/lieber/statsgen/shizhong/michael/mwas/gwas//libd_chr1.pgen | /dcs04/lieber/statsgen/shizhong/michael/mwas/pheno/caud/out/chr1_AA.rda   | 248918358 | 1069461 | 2202702 | 8982 | AA  | caud  | /dcs04/lieber/statsgen/mnagle/mwas/full_covariates/AA_caud.csv   |\n",
       "| 1 | /dcs04/lieber/statsgen/shizhong/michael/mwas/gwas//libd_chr1.pgen | /dcs04/lieber/statsgen/shizhong/michael/mwas/pheno/caud/out/chr1_all.rda  | 248918358 | 1069461 | 2202702 | 8982 | all | caud  | /dcs04/lieber/statsgen/mnagle/mwas/full_covariates/all_caud.csv  |\n",
       "| 1 | /dcs04/lieber/statsgen/shizhong/michael/mwas/gwas//libd_chr1.pgen | /dcs04/lieber/statsgen/shizhong/michael/mwas/pheno/caud/out/chr1_EA.rda   | 248918358 | 1069461 | 2202702 | 8982 | EA  | caud  | /dcs04/lieber/statsgen/mnagle/mwas/full_covariates/EA_caud.csv   |\n",
       "| 1 | /dcs04/lieber/statsgen/shizhong/michael/mwas/gwas//libd_chr1.pgen | /dcs04/lieber/statsgen/shizhong/michael/mwas/pheno/dlpfc/out/chr1_AA.rda  | 248918358 | 1069461 | 2202702 | 8982 | AA  | dlpfc | /dcs04/lieber/statsgen/mnagle/mwas/full_covariates/AA_dlpfc.csv  |\n",
       "| 1 | /dcs04/lieber/statsgen/shizhong/michael/mwas/gwas//libd_chr1.pgen | /dcs04/lieber/statsgen/shizhong/michael/mwas/pheno/dlpfc/out/chr1_all.rda | 248918358 | 1069461 | 2202702 | 8982 | all | dlpfc | /dcs04/lieber/statsgen/mnagle/mwas/full_covariates/all_dlpfc.csv |\n",
       "| 1 | /dcs04/lieber/statsgen/shizhong/michael/mwas/gwas//libd_chr1.pgen | /dcs04/lieber/statsgen/shizhong/michael/mwas/pheno/dlpfc/out/chr1_EA.rda  | 248918358 | 1069461 | 2202702 | 8982 | EA  | dlpfc | /dcs04/lieber/statsgen/mnagle/mwas/full_covariates/EA_dlpfc.csv  |\n",
       "\n"
      ],
      "text/plain": [
       "  Chr SNP_data                                                         \n",
       "1 1   /dcs04/lieber/statsgen/shizhong/michael/mwas/gwas//libd_chr1.pgen\n",
       "2 1   /dcs04/lieber/statsgen/shizhong/michael/mwas/gwas//libd_chr1.pgen\n",
       "3 1   /dcs04/lieber/statsgen/shizhong/michael/mwas/gwas//libd_chr1.pgen\n",
       "4 1   /dcs04/lieber/statsgen/shizhong/michael/mwas/gwas//libd_chr1.pgen\n",
       "5 1   /dcs04/lieber/statsgen/shizhong/michael/mwas/gwas//libd_chr1.pgen\n",
       "6 1   /dcs04/lieber/statsgen/shizhong/michael/mwas/gwas//libd_chr1.pgen\n",
       "  methylation_data                                                         \n",
       "1 /dcs04/lieber/statsgen/shizhong/michael/mwas/pheno/caud/out/chr1_AA.rda  \n",
       "2 /dcs04/lieber/statsgen/shizhong/michael/mwas/pheno/caud/out/chr1_all.rda \n",
       "3 /dcs04/lieber/statsgen/shizhong/michael/mwas/pheno/caud/out/chr1_EA.rda  \n",
       "4 /dcs04/lieber/statsgen/shizhong/michael/mwas/pheno/dlpfc/out/chr1_AA.rda \n",
       "5 /dcs04/lieber/statsgen/shizhong/michael/mwas/pheno/dlpfc/out/chr1_all.rda\n",
       "6 /dcs04/lieber/statsgen/shizhong/michael/mwas/pheno/dlpfc/out/chr1_EA.rda \n",
       "  last_meth_value_with_SNP_coverage first_meth_value_with_SNP_coverage\n",
       "1 248918358                         1069461                           \n",
       "2 248918358                         1069461                           \n",
       "3 248918358                         1069461                           \n",
       "4 248918358                         1069461                           \n",
       "5 248918358                         1069461                           \n",
       "6 248918358                         1069461                           \n",
       "  last_meth_index_with_SNP_coverage first_meth_index_with_SNP_coverage\n",
       "1 2202702                           8982                              \n",
       "2 2202702                           8982                              \n",
       "3 2202702                           8982                              \n",
       "4 2202702                           8982                              \n",
       "5 2202702                           8982                              \n",
       "6 2202702                           8982                              \n",
       "  population region\n",
       "1 AA         caud  \n",
       "2 all        caud  \n",
       "3 EA         caud  \n",
       "4 AA         dlpfc \n",
       "5 all        dlpfc \n",
       "6 EA         dlpfc \n",
       "  cov_file                                                        \n",
       "1 /dcs04/lieber/statsgen/mnagle/mwas/full_covariates/AA_caud.csv  \n",
       "2 /dcs04/lieber/statsgen/mnagle/mwas/full_covariates/all_caud.csv \n",
       "3 /dcs04/lieber/statsgen/mnagle/mwas/full_covariates/EA_caud.csv  \n",
       "4 /dcs04/lieber/statsgen/mnagle/mwas/full_covariates/AA_dlpfc.csv \n",
       "5 /dcs04/lieber/statsgen/mnagle/mwas/full_covariates/all_dlpfc.csv\n",
       "6 /dcs04/lieber/statsgen/mnagle/mwas/full_covariates/EA_dlpfc.csv "
      ]
     },
     "metadata": {},
     "output_type": "display_data"
    }
   ],
   "source": [
    "head(matched_df)"
   ]
  },
  {
   "cell_type": "code",
   "execution_count": 13,
   "id": "9b1b7650-5cef-448f-bcff-1d16184f0837",
   "metadata": {},
   "outputs": [
    {
     "data": {
      "text/html": [
       "TRUE"
      ],
      "text/latex": [
       "TRUE"
      ],
      "text/markdown": [
       "TRUE"
      ],
      "text/plain": [
       "[1] TRUE"
      ]
     },
     "metadata": {},
     "output_type": "display_data"
    },
    {
     "data": {
      "text/html": [
       "TRUE"
      ],
      "text/latex": [
       "TRUE"
      ],
      "text/markdown": [
       "TRUE"
      ],
      "text/plain": [
       "[1] TRUE"
      ]
     },
     "metadata": {},
     "output_type": "display_data"
    },
    {
     "data": {
      "text/html": [
       "TRUE"
      ],
      "text/latex": [
       "TRUE"
      ],
      "text/markdown": [
       "TRUE"
      ],
      "text/plain": [
       "[1] TRUE"
      ]
     },
     "metadata": {},
     "output_type": "display_data"
    }
   ],
   "source": [
    "file.exists(matched_df$SNP_data[1])\n",
    "file.exists(matched_df$methylation_data[1])\n",
    "file.exists(matched_df$cov_file[1])"
   ]
  },
  {
   "cell_type": "code",
   "execution_count": 14,
   "id": "d4a84342-5206-4ad4-99c4-e664ae51b691",
   "metadata": {},
   "outputs": [],
   "source": [
    "#dir.create(\"./output_chr1_a1/\")"
   ]
  },
  {
   "cell_type": "code",
   "execution_count": null,
   "id": "0edafd41-940c-4e4b-a42a-ef0bc0dbea4a",
   "metadata": {},
   "outputs": [],
   "source": []
  },
  {
   "cell_type": "code",
   "execution_count": 15,
   "id": "bb1308f1-f068-4f2c-8097-cca4fdc14c2b",
   "metadata": {
    "tags": []
   },
   "outputs": [
    {
     "name": "stdout",
     "output_type": "stream",
     "text": [
      "#!/bin/bash\n",
      "#SBATCH --nodes=1\n",
      "#SBATCH --ntasks-per-node=1\n",
      "#SBATCH --cpus-per-task=1\n",
      "#SBATCH --mem-per-cpu=24G\n",
      "#SBATCH --output=slurm_output_libd_chr1-chr1_AA-8982-28981-dynamic-1corestotal-allcorepera-20240410-225031.out\n",
      "#SBATCH --job-name=libd_chr1-chr1_AA-8982-28981-dynamic-1corestotal-allcorepera-20240410-225031\n",
      "module load conda\n",
      "conda activate mwas\n",
      "echo 'Executing Rscript with arguments: Rscript scripts/CLI.R --outdir=./output_chr1_a1/ --snp_data_path=/dcs04/lieber/statsgen/shizhong/michael/mwas/gwas//libd_chr1.pgen --methylation_data_path=/dcs04/lieber/statsgen/shizhong/michael/mwas/pheno/caud/out/chr1_AA.rda --cov=/dcs04/lieber/statsgen/mnagle/mwas/full_covariates/AA_caud.csv --verbose=FALSE --lambda_choice=1se --alphas=0.5 --allow_inefficient_parallelization=FALSE --n_fold=5 --window_sizes=10000 --save_evaluation_results_each_fold=FALSE --save_glmnet_object=FALSE --omit_folds_with_na_r=TRUE --chunk1=8982 --chunk2=28981 --cv_eval_mode=dynamic --num_cores=1 --cores_per_alpha=all --tag=libd_chr1-chr1_AA-8982-28981-dynamic-1corestotal-allcorepera-20240410-225031'\n",
      "Rscript scripts/CLI.R --outdir=./output_chr1_a1/ --snp_data_path=/dcs04/lieber/statsgen/shizhong/michael/mwas/gwas//libd_chr1.pgen --methylation_data_path=/dcs04/lieber/statsgen/shizhong/michael/mwas/pheno/caud/out/chr1_AA.rda --cov=/dcs04/lieber/statsgen/mnagle/mwas/full_covariates/AA_caud.csv --verbose=FALSE --lambda_choice=1se --alphas=0.5 --allow_inefficient_parallelization=FALSE --n_fold=5 --window_sizes=10000 --save_evaluation_results_each_fold=FALSE --save_glmnet_object=FALSE --omit_folds_with_na_r=TRUE --chunk1=8982 --chunk2=28981 --cv_eval_mode=dynamic --num_cores=1 --cores_per_alpha=all --tag=libd_chr1-chr1_AA-8982-28981-dynamic-1corestotal-allcorepera-20240410-225031\n"
     ]
    },
    {
     "name": "stderr",
     "output_type": "stream",
     "text": [
      "Sleeping for 240 seconds\n",
      "\n"
     ]
    },
    {
     "name": "stdout",
     "output_type": "stream",
     "text": [
      "#!/bin/bash\n",
      "#SBATCH --nodes=1\n",
      "#SBATCH --ntasks-per-node=1\n",
      "#SBATCH --cpus-per-task=1\n",
      "#SBATCH --mem-per-cpu=24G\n",
      "#SBATCH --output=slurm_output_libd_chr1-chr1_AA-28982-48981-dynamic-1corestotal-allcorepera-20240410-225432.out\n",
      "#SBATCH --job-name=libd_chr1-chr1_AA-28982-48981-dynamic-1corestotal-allcorepera-20240410-225432\n",
      "module load conda\n",
      "conda activate mwas\n",
      "echo 'Executing Rscript with arguments: Rscript scripts/CLI.R --outdir=./output_chr1_a1/ --snp_data_path=/dcs04/lieber/statsgen/shizhong/michael/mwas/gwas//libd_chr1.pgen --methylation_data_path=/dcs04/lieber/statsgen/shizhong/michael/mwas/pheno/caud/out/chr1_AA.rda --cov=/dcs04/lieber/statsgen/mnagle/mwas/full_covariates/AA_caud.csv --verbose=FALSE --lambda_choice=1se --alphas=0.5 --allow_inefficient_parallelization=FALSE --n_fold=5 --window_sizes=10000 --save_evaluation_results_each_fold=FALSE --save_glmnet_object=FALSE --omit_folds_with_na_r=TRUE --chunk1=28982 --chunk2=48981 --cv_eval_mode=dynamic --num_cores=1 --cores_per_alpha=all --tag=libd_chr1-chr1_AA-28982-48981-dynamic-1corestotal-allcorepera-20240410-225432'\n",
      "Rscript scripts/CLI.R --outdir=./output_chr1_a1/ --snp_data_path=/dcs04/lieber/statsgen/shizhong/michael/mwas/gwas//libd_chr1.pgen --methylation_data_path=/dcs04/lieber/statsgen/shizhong/michael/mwas/pheno/caud/out/chr1_AA.rda --cov=/dcs04/lieber/statsgen/mnagle/mwas/full_covariates/AA_caud.csv --verbose=FALSE --lambda_choice=1se --alphas=0.5 --allow_inefficient_parallelization=FALSE --n_fold=5 --window_sizes=10000 --save_evaluation_results_each_fold=FALSE --save_glmnet_object=FALSE --omit_folds_with_na_r=TRUE --chunk1=28982 --chunk2=48981 --cv_eval_mode=dynamic --num_cores=1 --cores_per_alpha=all --tag=libd_chr1-chr1_AA-28982-48981-dynamic-1corestotal-allcorepera-20240410-225432\n"
     ]
    },
    {
     "name": "stderr",
     "output_type": "stream",
     "text": [
      "Sleeping for 240 seconds\n",
      "\n"
     ]
    },
    {
     "name": "stdout",
     "output_type": "stream",
     "text": [
      "#!/bin/bash\n",
      "#SBATCH --nodes=1\n",
      "#SBATCH --ntasks-per-node=1\n",
      "#SBATCH --cpus-per-task=1\n",
      "#SBATCH --mem-per-cpu=24G\n",
      "#SBATCH --output=slurm_output_libd_chr1-chr1_AA-48982-68981-dynamic-1corestotal-allcorepera-20240410-225832.out\n",
      "#SBATCH --job-name=libd_chr1-chr1_AA-48982-68981-dynamic-1corestotal-allcorepera-20240410-225832\n",
      "module load conda\n",
      "conda activate mwas\n",
      "echo 'Executing Rscript with arguments: Rscript scripts/CLI.R --outdir=./output_chr1_a1/ --snp_data_path=/dcs04/lieber/statsgen/shizhong/michael/mwas/gwas//libd_chr1.pgen --methylation_data_path=/dcs04/lieber/statsgen/shizhong/michael/mwas/pheno/caud/out/chr1_AA.rda --cov=/dcs04/lieber/statsgen/mnagle/mwas/full_covariates/AA_caud.csv --verbose=FALSE --lambda_choice=1se --alphas=0.5 --allow_inefficient_parallelization=FALSE --n_fold=5 --window_sizes=10000 --save_evaluation_results_each_fold=FALSE --save_glmnet_object=FALSE --omit_folds_with_na_r=TRUE --chunk1=48982 --chunk2=68981 --cv_eval_mode=dynamic --num_cores=1 --cores_per_alpha=all --tag=libd_chr1-chr1_AA-48982-68981-dynamic-1corestotal-allcorepera-20240410-225832'\n",
      "Rscript scripts/CLI.R --outdir=./output_chr1_a1/ --snp_data_path=/dcs04/lieber/statsgen/shizhong/michael/mwas/gwas//libd_chr1.pgen --methylation_data_path=/dcs04/lieber/statsgen/shizhong/michael/mwas/pheno/caud/out/chr1_AA.rda --cov=/dcs04/lieber/statsgen/mnagle/mwas/full_covariates/AA_caud.csv --verbose=FALSE --lambda_choice=1se --alphas=0.5 --allow_inefficient_parallelization=FALSE --n_fold=5 --window_sizes=10000 --save_evaluation_results_each_fold=FALSE --save_glmnet_object=FALSE --omit_folds_with_na_r=TRUE --chunk1=48982 --chunk2=68981 --cv_eval_mode=dynamic --num_cores=1 --cores_per_alpha=all --tag=libd_chr1-chr1_AA-48982-68981-dynamic-1corestotal-allcorepera-20240410-225832\n"
     ]
    },
    {
     "name": "stderr",
     "output_type": "stream",
     "text": [
      "Sleeping for 240 seconds\n",
      "\n"
     ]
    },
    {
     "name": "stdout",
     "output_type": "stream",
     "text": [
      "#!/bin/bash\n",
      "#SBATCH --nodes=1\n",
      "#SBATCH --ntasks-per-node=1\n",
      "#SBATCH --cpus-per-task=1\n",
      "#SBATCH --mem-per-cpu=24G\n",
      "#SBATCH --output=slurm_output_libd_chr1-chr1_AA-68982-88981-dynamic-1corestotal-allcorepera-20240410-230232.out\n",
      "#SBATCH --job-name=libd_chr1-chr1_AA-68982-88981-dynamic-1corestotal-allcorepera-20240410-230232\n",
      "module load conda\n",
      "conda activate mwas\n",
      "echo 'Executing Rscript with arguments: Rscript scripts/CLI.R --outdir=./output_chr1_a1/ --snp_data_path=/dcs04/lieber/statsgen/shizhong/michael/mwas/gwas//libd_chr1.pgen --methylation_data_path=/dcs04/lieber/statsgen/shizhong/michael/mwas/pheno/caud/out/chr1_AA.rda --cov=/dcs04/lieber/statsgen/mnagle/mwas/full_covariates/AA_caud.csv --verbose=FALSE --lambda_choice=1se --alphas=0.5 --allow_inefficient_parallelization=FALSE --n_fold=5 --window_sizes=10000 --save_evaluation_results_each_fold=FALSE --save_glmnet_object=FALSE --omit_folds_with_na_r=TRUE --chunk1=68982 --chunk2=88981 --cv_eval_mode=dynamic --num_cores=1 --cores_per_alpha=all --tag=libd_chr1-chr1_AA-68982-88981-dynamic-1corestotal-allcorepera-20240410-230232'\n",
      "Rscript scripts/CLI.R --outdir=./output_chr1_a1/ --snp_data_path=/dcs04/lieber/statsgen/shizhong/michael/mwas/gwas//libd_chr1.pgen --methylation_data_path=/dcs04/lieber/statsgen/shizhong/michael/mwas/pheno/caud/out/chr1_AA.rda --cov=/dcs04/lieber/statsgen/mnagle/mwas/full_covariates/AA_caud.csv --verbose=FALSE --lambda_choice=1se --alphas=0.5 --allow_inefficient_parallelization=FALSE --n_fold=5 --window_sizes=10000 --save_evaluation_results_each_fold=FALSE --save_glmnet_object=FALSE --omit_folds_with_na_r=TRUE --chunk1=68982 --chunk2=88981 --cv_eval_mode=dynamic --num_cores=1 --cores_per_alpha=all --tag=libd_chr1-chr1_AA-68982-88981-dynamic-1corestotal-allcorepera-20240410-230232\n"
     ]
    },
    {
     "name": "stderr",
     "output_type": "stream",
     "text": [
      "Sleeping for 240 seconds\n",
      "\n"
     ]
    },
    {
     "name": "stdout",
     "output_type": "stream",
     "text": [
      "#!/bin/bash\n",
      "#SBATCH --nodes=1\n",
      "#SBATCH --ntasks-per-node=1\n",
      "#SBATCH --cpus-per-task=1\n",
      "#SBATCH --mem-per-cpu=24G\n",
      "#SBATCH --output=slurm_output_libd_chr1-chr1_AA-88982-108981-dynamic-1corestotal-allcorepera-20240410-230632.out\n",
      "#SBATCH --job-name=libd_chr1-chr1_AA-88982-108981-dynamic-1corestotal-allcorepera-20240410-230632\n",
      "module load conda\n",
      "conda activate mwas\n",
      "echo 'Executing Rscript with arguments: Rscript scripts/CLI.R --outdir=./output_chr1_a1/ --snp_data_path=/dcs04/lieber/statsgen/shizhong/michael/mwas/gwas//libd_chr1.pgen --methylation_data_path=/dcs04/lieber/statsgen/shizhong/michael/mwas/pheno/caud/out/chr1_AA.rda --cov=/dcs04/lieber/statsgen/mnagle/mwas/full_covariates/AA_caud.csv --verbose=FALSE --lambda_choice=1se --alphas=0.5 --allow_inefficient_parallelization=FALSE --n_fold=5 --window_sizes=10000 --save_evaluation_results_each_fold=FALSE --save_glmnet_object=FALSE --omit_folds_with_na_r=TRUE --chunk1=88982 --chunk2=108981 --cv_eval_mode=dynamic --num_cores=1 --cores_per_alpha=all --tag=libd_chr1-chr1_AA-88982-108981-dynamic-1corestotal-allcorepera-20240410-230632'\n",
      "Rscript scripts/CLI.R --outdir=./output_chr1_a1/ --snp_data_path=/dcs04/lieber/statsgen/shizhong/michael/mwas/gwas//libd_chr1.pgen --methylation_data_path=/dcs04/lieber/statsgen/shizhong/michael/mwas/pheno/caud/out/chr1_AA.rda --cov=/dcs04/lieber/statsgen/mnagle/mwas/full_covariates/AA_caud.csv --verbose=FALSE --lambda_choice=1se --alphas=0.5 --allow_inefficient_parallelization=FALSE --n_fold=5 --window_sizes=10000 --save_evaluation_results_each_fold=FALSE --save_glmnet_object=FALSE --omit_folds_with_na_r=TRUE --chunk1=88982 --chunk2=108981 --cv_eval_mode=dynamic --num_cores=1 --cores_per_alpha=all --tag=libd_chr1-chr1_AA-88982-108981-dynamic-1corestotal-allcorepera-20240410-230632\n"
     ]
    },
    {
     "name": "stderr",
     "output_type": "stream",
     "text": [
      "Sleeping for 240 seconds\n",
      "\n"
     ]
    },
    {
     "name": "stdout",
     "output_type": "stream",
     "text": [
      "#!/bin/bash\n",
      "#SBATCH --nodes=1\n",
      "#SBATCH --ntasks-per-node=1\n",
      "#SBATCH --cpus-per-task=1\n",
      "#SBATCH --mem-per-cpu=24G\n",
      "#SBATCH --output=slurm_output_libd_chr1-chr1_AA-108982-128981-dynamic-1corestotal-allcorepera-20240410-231033.out\n",
      "#SBATCH --job-name=libd_chr1-chr1_AA-108982-128981-dynamic-1corestotal-allcorepera-20240410-231033\n",
      "module load conda\n",
      "conda activate mwas\n",
      "echo 'Executing Rscript with arguments: Rscript scripts/CLI.R --outdir=./output_chr1_a1/ --snp_data_path=/dcs04/lieber/statsgen/shizhong/michael/mwas/gwas//libd_chr1.pgen --methylation_data_path=/dcs04/lieber/statsgen/shizhong/michael/mwas/pheno/caud/out/chr1_AA.rda --cov=/dcs04/lieber/statsgen/mnagle/mwas/full_covariates/AA_caud.csv --verbose=FALSE --lambda_choice=1se --alphas=0.5 --allow_inefficient_parallelization=FALSE --n_fold=5 --window_sizes=10000 --save_evaluation_results_each_fold=FALSE --save_glmnet_object=FALSE --omit_folds_with_na_r=TRUE --chunk1=108982 --chunk2=128981 --cv_eval_mode=dynamic --num_cores=1 --cores_per_alpha=all --tag=libd_chr1-chr1_AA-108982-128981-dynamic-1corestotal-allcorepera-20240410-231033'\n",
      "Rscript scripts/CLI.R --outdir=./output_chr1_a1/ --snp_data_path=/dcs04/lieber/statsgen/shizhong/michael/mwas/gwas//libd_chr1.pgen --methylation_data_path=/dcs04/lieber/statsgen/shizhong/michael/mwas/pheno/caud/out/chr1_AA.rda --cov=/dcs04/lieber/statsgen/mnagle/mwas/full_covariates/AA_caud.csv --verbose=FALSE --lambda_choice=1se --alphas=0.5 --allow_inefficient_parallelization=FALSE --n_fold=5 --window_sizes=10000 --save_evaluation_results_each_fold=FALSE --save_glmnet_object=FALSE --omit_folds_with_na_r=TRUE --chunk1=108982 --chunk2=128981 --cv_eval_mode=dynamic --num_cores=1 --cores_per_alpha=all --tag=libd_chr1-chr1_AA-108982-128981-dynamic-1corestotal-allcorepera-20240410-231033\n"
     ]
    },
    {
     "name": "stderr",
     "output_type": "stream",
     "text": [
      "Sleeping for 240 seconds\n",
      "\n"
     ]
    },
    {
     "name": "stdout",
     "output_type": "stream",
     "text": [
      "#!/bin/bash\n",
      "#SBATCH --nodes=1\n",
      "#SBATCH --ntasks-per-node=1\n",
      "#SBATCH --cpus-per-task=1\n",
      "#SBATCH --mem-per-cpu=24G\n",
      "#SBATCH --output=slurm_output_libd_chr1-chr1_AA-128982-148981-dynamic-1corestotal-allcorepera-20240410-231433.out\n",
      "#SBATCH --job-name=libd_chr1-chr1_AA-128982-148981-dynamic-1corestotal-allcorepera-20240410-231433\n",
      "module load conda\n",
      "conda activate mwas\n",
      "echo 'Executing Rscript with arguments: Rscript scripts/CLI.R --outdir=./output_chr1_a1/ --snp_data_path=/dcs04/lieber/statsgen/shizhong/michael/mwas/gwas//libd_chr1.pgen --methylation_data_path=/dcs04/lieber/statsgen/shizhong/michael/mwas/pheno/caud/out/chr1_AA.rda --cov=/dcs04/lieber/statsgen/mnagle/mwas/full_covariates/AA_caud.csv --verbose=FALSE --lambda_choice=1se --alphas=0.5 --allow_inefficient_parallelization=FALSE --n_fold=5 --window_sizes=10000 --save_evaluation_results_each_fold=FALSE --save_glmnet_object=FALSE --omit_folds_with_na_r=TRUE --chunk1=128982 --chunk2=148981 --cv_eval_mode=dynamic --num_cores=1 --cores_per_alpha=all --tag=libd_chr1-chr1_AA-128982-148981-dynamic-1corestotal-allcorepera-20240410-231433'\n",
      "Rscript scripts/CLI.R --outdir=./output_chr1_a1/ --snp_data_path=/dcs04/lieber/statsgen/shizhong/michael/mwas/gwas//libd_chr1.pgen --methylation_data_path=/dcs04/lieber/statsgen/shizhong/michael/mwas/pheno/caud/out/chr1_AA.rda --cov=/dcs04/lieber/statsgen/mnagle/mwas/full_covariates/AA_caud.csv --verbose=FALSE --lambda_choice=1se --alphas=0.5 --allow_inefficient_parallelization=FALSE --n_fold=5 --window_sizes=10000 --save_evaluation_results_each_fold=FALSE --save_glmnet_object=FALSE --omit_folds_with_na_r=TRUE --chunk1=128982 --chunk2=148981 --cv_eval_mode=dynamic --num_cores=1 --cores_per_alpha=all --tag=libd_chr1-chr1_AA-128982-148981-dynamic-1corestotal-allcorepera-20240410-231433\n"
     ]
    },
    {
     "name": "stderr",
     "output_type": "stream",
     "text": [
      "Sleeping for 240 seconds\n",
      "\n"
     ]
    },
    {
     "name": "stdout",
     "output_type": "stream",
     "text": [
      "#!/bin/bash\n",
      "#SBATCH --nodes=1\n",
      "#SBATCH --ntasks-per-node=1\n",
      "#SBATCH --cpus-per-task=1\n",
      "#SBATCH --mem-per-cpu=24G\n",
      "#SBATCH --output=slurm_output_libd_chr1-chr1_AA-148982-168981-dynamic-1corestotal-allcorepera-20240410-231833.out\n",
      "#SBATCH --job-name=libd_chr1-chr1_AA-148982-168981-dynamic-1corestotal-allcorepera-20240410-231833\n",
      "module load conda\n",
      "conda activate mwas\n",
      "echo 'Executing Rscript with arguments: Rscript scripts/CLI.R --outdir=./output_chr1_a1/ --snp_data_path=/dcs04/lieber/statsgen/shizhong/michael/mwas/gwas//libd_chr1.pgen --methylation_data_path=/dcs04/lieber/statsgen/shizhong/michael/mwas/pheno/caud/out/chr1_AA.rda --cov=/dcs04/lieber/statsgen/mnagle/mwas/full_covariates/AA_caud.csv --verbose=FALSE --lambda_choice=1se --alphas=0.5 --allow_inefficient_parallelization=FALSE --n_fold=5 --window_sizes=10000 --save_evaluation_results_each_fold=FALSE --save_glmnet_object=FALSE --omit_folds_with_na_r=TRUE --chunk1=148982 --chunk2=168981 --cv_eval_mode=dynamic --num_cores=1 --cores_per_alpha=all --tag=libd_chr1-chr1_AA-148982-168981-dynamic-1corestotal-allcorepera-20240410-231833'\n",
      "Rscript scripts/CLI.R --outdir=./output_chr1_a1/ --snp_data_path=/dcs04/lieber/statsgen/shizhong/michael/mwas/gwas//libd_chr1.pgen --methylation_data_path=/dcs04/lieber/statsgen/shizhong/michael/mwas/pheno/caud/out/chr1_AA.rda --cov=/dcs04/lieber/statsgen/mnagle/mwas/full_covariates/AA_caud.csv --verbose=FALSE --lambda_choice=1se --alphas=0.5 --allow_inefficient_parallelization=FALSE --n_fold=5 --window_sizes=10000 --save_evaluation_results_each_fold=FALSE --save_glmnet_object=FALSE --omit_folds_with_na_r=TRUE --chunk1=148982 --chunk2=168981 --cv_eval_mode=dynamic --num_cores=1 --cores_per_alpha=all --tag=libd_chr1-chr1_AA-148982-168981-dynamic-1corestotal-allcorepera-20240410-231833\n"
     ]
    },
    {
     "name": "stderr",
     "output_type": "stream",
     "text": [
      "Sleeping for 240 seconds\n",
      "\n"
     ]
    },
    {
     "name": "stdout",
     "output_type": "stream",
     "text": [
      "#!/bin/bash\n",
      "#SBATCH --nodes=1\n",
      "#SBATCH --ntasks-per-node=1\n",
      "#SBATCH --cpus-per-task=1\n",
      "#SBATCH --mem-per-cpu=24G\n",
      "#SBATCH --output=slurm_output_libd_chr1-chr1_AA-168982-188981-dynamic-1corestotal-allcorepera-20240410-232234.out\n",
      "#SBATCH --job-name=libd_chr1-chr1_AA-168982-188981-dynamic-1corestotal-allcorepera-20240410-232234\n",
      "module load conda\n",
      "conda activate mwas\n",
      "echo 'Executing Rscript with arguments: Rscript scripts/CLI.R --outdir=./output_chr1_a1/ --snp_data_path=/dcs04/lieber/statsgen/shizhong/michael/mwas/gwas//libd_chr1.pgen --methylation_data_path=/dcs04/lieber/statsgen/shizhong/michael/mwas/pheno/caud/out/chr1_AA.rda --cov=/dcs04/lieber/statsgen/mnagle/mwas/full_covariates/AA_caud.csv --verbose=FALSE --lambda_choice=1se --alphas=0.5 --allow_inefficient_parallelization=FALSE --n_fold=5 --window_sizes=10000 --save_evaluation_results_each_fold=FALSE --save_glmnet_object=FALSE --omit_folds_with_na_r=TRUE --chunk1=168982 --chunk2=188981 --cv_eval_mode=dynamic --num_cores=1 --cores_per_alpha=all --tag=libd_chr1-chr1_AA-168982-188981-dynamic-1corestotal-allcorepera-20240410-232234'\n",
      "Rscript scripts/CLI.R --outdir=./output_chr1_a1/ --snp_data_path=/dcs04/lieber/statsgen/shizhong/michael/mwas/gwas//libd_chr1.pgen --methylation_data_path=/dcs04/lieber/statsgen/shizhong/michael/mwas/pheno/caud/out/chr1_AA.rda --cov=/dcs04/lieber/statsgen/mnagle/mwas/full_covariates/AA_caud.csv --verbose=FALSE --lambda_choice=1se --alphas=0.5 --allow_inefficient_parallelization=FALSE --n_fold=5 --window_sizes=10000 --save_evaluation_results_each_fold=FALSE --save_glmnet_object=FALSE --omit_folds_with_na_r=TRUE --chunk1=168982 --chunk2=188981 --cv_eval_mode=dynamic --num_cores=1 --cores_per_alpha=all --tag=libd_chr1-chr1_AA-168982-188981-dynamic-1corestotal-allcorepera-20240410-232234\n"
     ]
    },
    {
     "name": "stderr",
     "output_type": "stream",
     "text": [
      "Sleeping for 240 seconds\n",
      "\n"
     ]
    },
    {
     "name": "stdout",
     "output_type": "stream",
     "text": [
      "#!/bin/bash\n",
      "#SBATCH --nodes=1\n",
      "#SBATCH --ntasks-per-node=1\n",
      "#SBATCH --cpus-per-task=1\n",
      "#SBATCH --mem-per-cpu=24G\n",
      "#SBATCH --output=slurm_output_libd_chr1-chr1_AA-188982-208981-dynamic-1corestotal-allcorepera-20240410-232634.out\n",
      "#SBATCH --job-name=libd_chr1-chr1_AA-188982-208981-dynamic-1corestotal-allcorepera-20240410-232634\n",
      "module load conda\n",
      "conda activate mwas\n",
      "echo 'Executing Rscript with arguments: Rscript scripts/CLI.R --outdir=./output_chr1_a1/ --snp_data_path=/dcs04/lieber/statsgen/shizhong/michael/mwas/gwas//libd_chr1.pgen --methylation_data_path=/dcs04/lieber/statsgen/shizhong/michael/mwas/pheno/caud/out/chr1_AA.rda --cov=/dcs04/lieber/statsgen/mnagle/mwas/full_covariates/AA_caud.csv --verbose=FALSE --lambda_choice=1se --alphas=0.5 --allow_inefficient_parallelization=FALSE --n_fold=5 --window_sizes=10000 --save_evaluation_results_each_fold=FALSE --save_glmnet_object=FALSE --omit_folds_with_na_r=TRUE --chunk1=188982 --chunk2=208981 --cv_eval_mode=dynamic --num_cores=1 --cores_per_alpha=all --tag=libd_chr1-chr1_AA-188982-208981-dynamic-1corestotal-allcorepera-20240410-232634'\n",
      "Rscript scripts/CLI.R --outdir=./output_chr1_a1/ --snp_data_path=/dcs04/lieber/statsgen/shizhong/michael/mwas/gwas//libd_chr1.pgen --methylation_data_path=/dcs04/lieber/statsgen/shizhong/michael/mwas/pheno/caud/out/chr1_AA.rda --cov=/dcs04/lieber/statsgen/mnagle/mwas/full_covariates/AA_caud.csv --verbose=FALSE --lambda_choice=1se --alphas=0.5 --allow_inefficient_parallelization=FALSE --n_fold=5 --window_sizes=10000 --save_evaluation_results_each_fold=FALSE --save_glmnet_object=FALSE --omit_folds_with_na_r=TRUE --chunk1=188982 --chunk2=208981 --cv_eval_mode=dynamic --num_cores=1 --cores_per_alpha=all --tag=libd_chr1-chr1_AA-188982-208981-dynamic-1corestotal-allcorepera-20240410-232634\n"
     ]
    },
    {
     "name": "stderr",
     "output_type": "stream",
     "text": [
      "Sleeping for 240 seconds\n",
      "\n"
     ]
    },
    {
     "name": "stdout",
     "output_type": "stream",
     "text": [
      "#!/bin/bash\n",
      "#SBATCH --nodes=1\n",
      "#SBATCH --ntasks-per-node=1\n",
      "#SBATCH --cpus-per-task=1\n",
      "#SBATCH --mem-per-cpu=24G\n",
      "#SBATCH --output=slurm_output_libd_chr1-chr1_AA-208982-228981-dynamic-1corestotal-allcorepera-20240410-233034.out\n",
      "#SBATCH --job-name=libd_chr1-chr1_AA-208982-228981-dynamic-1corestotal-allcorepera-20240410-233034\n",
      "module load conda\n",
      "conda activate mwas\n",
      "echo 'Executing Rscript with arguments: Rscript scripts/CLI.R --outdir=./output_chr1_a1/ --snp_data_path=/dcs04/lieber/statsgen/shizhong/michael/mwas/gwas//libd_chr1.pgen --methylation_data_path=/dcs04/lieber/statsgen/shizhong/michael/mwas/pheno/caud/out/chr1_AA.rda --cov=/dcs04/lieber/statsgen/mnagle/mwas/full_covariates/AA_caud.csv --verbose=FALSE --lambda_choice=1se --alphas=0.5 --allow_inefficient_parallelization=FALSE --n_fold=5 --window_sizes=10000 --save_evaluation_results_each_fold=FALSE --save_glmnet_object=FALSE --omit_folds_with_na_r=TRUE --chunk1=208982 --chunk2=228981 --cv_eval_mode=dynamic --num_cores=1 --cores_per_alpha=all --tag=libd_chr1-chr1_AA-208982-228981-dynamic-1corestotal-allcorepera-20240410-233034'\n",
      "Rscript scripts/CLI.R --outdir=./output_chr1_a1/ --snp_data_path=/dcs04/lieber/statsgen/shizhong/michael/mwas/gwas//libd_chr1.pgen --methylation_data_path=/dcs04/lieber/statsgen/shizhong/michael/mwas/pheno/caud/out/chr1_AA.rda --cov=/dcs04/lieber/statsgen/mnagle/mwas/full_covariates/AA_caud.csv --verbose=FALSE --lambda_choice=1se --alphas=0.5 --allow_inefficient_parallelization=FALSE --n_fold=5 --window_sizes=10000 --save_evaluation_results_each_fold=FALSE --save_glmnet_object=FALSE --omit_folds_with_na_r=TRUE --chunk1=208982 --chunk2=228981 --cv_eval_mode=dynamic --num_cores=1 --cores_per_alpha=all --tag=libd_chr1-chr1_AA-208982-228981-dynamic-1corestotal-allcorepera-20240410-233034\n"
     ]
    },
    {
     "name": "stderr",
     "output_type": "stream",
     "text": [
      "Sleeping for 240 seconds\n",
      "\n"
     ]
    },
    {
     "name": "stdout",
     "output_type": "stream",
     "text": [
      "#!/bin/bash\n",
      "#SBATCH --nodes=1\n",
      "#SBATCH --ntasks-per-node=1\n",
      "#SBATCH --cpus-per-task=1\n",
      "#SBATCH --mem-per-cpu=24G\n",
      "#SBATCH --output=slurm_output_libd_chr1-chr1_AA-228982-248981-dynamic-1corestotal-allcorepera-20240410-233434.out\n",
      "#SBATCH --job-name=libd_chr1-chr1_AA-228982-248981-dynamic-1corestotal-allcorepera-20240410-233434\n",
      "module load conda\n",
      "conda activate mwas\n",
      "echo 'Executing Rscript with arguments: Rscript scripts/CLI.R --outdir=./output_chr1_a1/ --snp_data_path=/dcs04/lieber/statsgen/shizhong/michael/mwas/gwas//libd_chr1.pgen --methylation_data_path=/dcs04/lieber/statsgen/shizhong/michael/mwas/pheno/caud/out/chr1_AA.rda --cov=/dcs04/lieber/statsgen/mnagle/mwas/full_covariates/AA_caud.csv --verbose=FALSE --lambda_choice=1se --alphas=0.5 --allow_inefficient_parallelization=FALSE --n_fold=5 --window_sizes=10000 --save_evaluation_results_each_fold=FALSE --save_glmnet_object=FALSE --omit_folds_with_na_r=TRUE --chunk1=228982 --chunk2=248981 --cv_eval_mode=dynamic --num_cores=1 --cores_per_alpha=all --tag=libd_chr1-chr1_AA-228982-248981-dynamic-1corestotal-allcorepera-20240410-233434'\n",
      "Rscript scripts/CLI.R --outdir=./output_chr1_a1/ --snp_data_path=/dcs04/lieber/statsgen/shizhong/michael/mwas/gwas//libd_chr1.pgen --methylation_data_path=/dcs04/lieber/statsgen/shizhong/michael/mwas/pheno/caud/out/chr1_AA.rda --cov=/dcs04/lieber/statsgen/mnagle/mwas/full_covariates/AA_caud.csv --verbose=FALSE --lambda_choice=1se --alphas=0.5 --allow_inefficient_parallelization=FALSE --n_fold=5 --window_sizes=10000 --save_evaluation_results_each_fold=FALSE --save_glmnet_object=FALSE --omit_folds_with_na_r=TRUE --chunk1=228982 --chunk2=248981 --cv_eval_mode=dynamic --num_cores=1 --cores_per_alpha=all --tag=libd_chr1-chr1_AA-228982-248981-dynamic-1corestotal-allcorepera-20240410-233434\n"
     ]
    },
    {
     "name": "stderr",
     "output_type": "stream",
     "text": [
      "Sleeping for 240 seconds\n",
      "\n"
     ]
    },
    {
     "name": "stdout",
     "output_type": "stream",
     "text": [
      "#!/bin/bash\n",
      "#SBATCH --nodes=1\n",
      "#SBATCH --ntasks-per-node=1\n",
      "#SBATCH --cpus-per-task=1\n",
      "#SBATCH --mem-per-cpu=24G\n",
      "#SBATCH --output=slurm_output_libd_chr1-chr1_AA-248982-268981-dynamic-1corestotal-allcorepera-20240410-233834.out\n",
      "#SBATCH --job-name=libd_chr1-chr1_AA-248982-268981-dynamic-1corestotal-allcorepera-20240410-233834\n",
      "module load conda\n",
      "conda activate mwas\n",
      "echo 'Executing Rscript with arguments: Rscript scripts/CLI.R --outdir=./output_chr1_a1/ --snp_data_path=/dcs04/lieber/statsgen/shizhong/michael/mwas/gwas//libd_chr1.pgen --methylation_data_path=/dcs04/lieber/statsgen/shizhong/michael/mwas/pheno/caud/out/chr1_AA.rda --cov=/dcs04/lieber/statsgen/mnagle/mwas/full_covariates/AA_caud.csv --verbose=FALSE --lambda_choice=1se --alphas=0.5 --allow_inefficient_parallelization=FALSE --n_fold=5 --window_sizes=10000 --save_evaluation_results_each_fold=FALSE --save_glmnet_object=FALSE --omit_folds_with_na_r=TRUE --chunk1=248982 --chunk2=268981 --cv_eval_mode=dynamic --num_cores=1 --cores_per_alpha=all --tag=libd_chr1-chr1_AA-248982-268981-dynamic-1corestotal-allcorepera-20240410-233834'\n",
      "Rscript scripts/CLI.R --outdir=./output_chr1_a1/ --snp_data_path=/dcs04/lieber/statsgen/shizhong/michael/mwas/gwas//libd_chr1.pgen --methylation_data_path=/dcs04/lieber/statsgen/shizhong/michael/mwas/pheno/caud/out/chr1_AA.rda --cov=/dcs04/lieber/statsgen/mnagle/mwas/full_covariates/AA_caud.csv --verbose=FALSE --lambda_choice=1se --alphas=0.5 --allow_inefficient_parallelization=FALSE --n_fold=5 --window_sizes=10000 --save_evaluation_results_each_fold=FALSE --save_glmnet_object=FALSE --omit_folds_with_na_r=TRUE --chunk1=248982 --chunk2=268981 --cv_eval_mode=dynamic --num_cores=1 --cores_per_alpha=all --tag=libd_chr1-chr1_AA-248982-268981-dynamic-1corestotal-allcorepera-20240410-233834\n"
     ]
    },
    {
     "name": "stderr",
     "output_type": "stream",
     "text": [
      "Sleeping for 240 seconds\n",
      "\n"
     ]
    },
    {
     "name": "stdout",
     "output_type": "stream",
     "text": [
      "#!/bin/bash\n",
      "#SBATCH --nodes=1\n",
      "#SBATCH --ntasks-per-node=1\n",
      "#SBATCH --cpus-per-task=1\n",
      "#SBATCH --mem-per-cpu=24G\n",
      "#SBATCH --output=slurm_output_libd_chr1-chr1_AA-268982-288981-dynamic-1corestotal-allcorepera-20240410-234234.out\n",
      "#SBATCH --job-name=libd_chr1-chr1_AA-268982-288981-dynamic-1corestotal-allcorepera-20240410-234234\n",
      "module load conda\n",
      "conda activate mwas\n",
      "echo 'Executing Rscript with arguments: Rscript scripts/CLI.R --outdir=./output_chr1_a1/ --snp_data_path=/dcs04/lieber/statsgen/shizhong/michael/mwas/gwas//libd_chr1.pgen --methylation_data_path=/dcs04/lieber/statsgen/shizhong/michael/mwas/pheno/caud/out/chr1_AA.rda --cov=/dcs04/lieber/statsgen/mnagle/mwas/full_covariates/AA_caud.csv --verbose=FALSE --lambda_choice=1se --alphas=0.5 --allow_inefficient_parallelization=FALSE --n_fold=5 --window_sizes=10000 --save_evaluation_results_each_fold=FALSE --save_glmnet_object=FALSE --omit_folds_with_na_r=TRUE --chunk1=268982 --chunk2=288981 --cv_eval_mode=dynamic --num_cores=1 --cores_per_alpha=all --tag=libd_chr1-chr1_AA-268982-288981-dynamic-1corestotal-allcorepera-20240410-234234'\n",
      "Rscript scripts/CLI.R --outdir=./output_chr1_a1/ --snp_data_path=/dcs04/lieber/statsgen/shizhong/michael/mwas/gwas//libd_chr1.pgen --methylation_data_path=/dcs04/lieber/statsgen/shizhong/michael/mwas/pheno/caud/out/chr1_AA.rda --cov=/dcs04/lieber/statsgen/mnagle/mwas/full_covariates/AA_caud.csv --verbose=FALSE --lambda_choice=1se --alphas=0.5 --allow_inefficient_parallelization=FALSE --n_fold=5 --window_sizes=10000 --save_evaluation_results_each_fold=FALSE --save_glmnet_object=FALSE --omit_folds_with_na_r=TRUE --chunk1=268982 --chunk2=288981 --cv_eval_mode=dynamic --num_cores=1 --cores_per_alpha=all --tag=libd_chr1-chr1_AA-268982-288981-dynamic-1corestotal-allcorepera-20240410-234234\n"
     ]
    },
    {
     "name": "stderr",
     "output_type": "stream",
     "text": [
      "Sleeping for 240 seconds\n",
      "\n"
     ]
    },
    {
     "name": "stdout",
     "output_type": "stream",
     "text": [
      "#!/bin/bash\n",
      "#SBATCH --nodes=1\n",
      "#SBATCH --ntasks-per-node=1\n",
      "#SBATCH --cpus-per-task=1\n",
      "#SBATCH --mem-per-cpu=24G\n",
      "#SBATCH --output=slurm_output_libd_chr1-chr1_AA-288982-308981-dynamic-1corestotal-allcorepera-20240410-234634.out\n",
      "#SBATCH --job-name=libd_chr1-chr1_AA-288982-308981-dynamic-1corestotal-allcorepera-20240410-234634\n",
      "module load conda\n",
      "conda activate mwas\n",
      "echo 'Executing Rscript with arguments: Rscript scripts/CLI.R --outdir=./output_chr1_a1/ --snp_data_path=/dcs04/lieber/statsgen/shizhong/michael/mwas/gwas//libd_chr1.pgen --methylation_data_path=/dcs04/lieber/statsgen/shizhong/michael/mwas/pheno/caud/out/chr1_AA.rda --cov=/dcs04/lieber/statsgen/mnagle/mwas/full_covariates/AA_caud.csv --verbose=FALSE --lambda_choice=1se --alphas=0.5 --allow_inefficient_parallelization=FALSE --n_fold=5 --window_sizes=10000 --save_evaluation_results_each_fold=FALSE --save_glmnet_object=FALSE --omit_folds_with_na_r=TRUE --chunk1=288982 --chunk2=308981 --cv_eval_mode=dynamic --num_cores=1 --cores_per_alpha=all --tag=libd_chr1-chr1_AA-288982-308981-dynamic-1corestotal-allcorepera-20240410-234634'\n",
      "Rscript scripts/CLI.R --outdir=./output_chr1_a1/ --snp_data_path=/dcs04/lieber/statsgen/shizhong/michael/mwas/gwas//libd_chr1.pgen --methylation_data_path=/dcs04/lieber/statsgen/shizhong/michael/mwas/pheno/caud/out/chr1_AA.rda --cov=/dcs04/lieber/statsgen/mnagle/mwas/full_covariates/AA_caud.csv --verbose=FALSE --lambda_choice=1se --alphas=0.5 --allow_inefficient_parallelization=FALSE --n_fold=5 --window_sizes=10000 --save_evaluation_results_each_fold=FALSE --save_glmnet_object=FALSE --omit_folds_with_na_r=TRUE --chunk1=288982 --chunk2=308981 --cv_eval_mode=dynamic --num_cores=1 --cores_per_alpha=all --tag=libd_chr1-chr1_AA-288982-308981-dynamic-1corestotal-allcorepera-20240410-234634\n"
     ]
    },
    {
     "name": "stderr",
     "output_type": "stream",
     "text": [
      "Sleeping for 240 seconds\n",
      "\n"
     ]
    },
    {
     "name": "stdout",
     "output_type": "stream",
     "text": [
      "#!/bin/bash\n",
      "#SBATCH --nodes=1\n",
      "#SBATCH --ntasks-per-node=1\n",
      "#SBATCH --cpus-per-task=1\n",
      "#SBATCH --mem-per-cpu=24G\n",
      "#SBATCH --output=slurm_output_libd_chr1-chr1_AA-308982-328981-dynamic-1corestotal-allcorepera-20240410-235035.out\n",
      "#SBATCH --job-name=libd_chr1-chr1_AA-308982-328981-dynamic-1corestotal-allcorepera-20240410-235035\n",
      "module load conda\n",
      "conda activate mwas\n",
      "echo 'Executing Rscript with arguments: Rscript scripts/CLI.R --outdir=./output_chr1_a1/ --snp_data_path=/dcs04/lieber/statsgen/shizhong/michael/mwas/gwas//libd_chr1.pgen --methylation_data_path=/dcs04/lieber/statsgen/shizhong/michael/mwas/pheno/caud/out/chr1_AA.rda --cov=/dcs04/lieber/statsgen/mnagle/mwas/full_covariates/AA_caud.csv --verbose=FALSE --lambda_choice=1se --alphas=0.5 --allow_inefficient_parallelization=FALSE --n_fold=5 --window_sizes=10000 --save_evaluation_results_each_fold=FALSE --save_glmnet_object=FALSE --omit_folds_with_na_r=TRUE --chunk1=308982 --chunk2=328981 --cv_eval_mode=dynamic --num_cores=1 --cores_per_alpha=all --tag=libd_chr1-chr1_AA-308982-328981-dynamic-1corestotal-allcorepera-20240410-235035'\n",
      "Rscript scripts/CLI.R --outdir=./output_chr1_a1/ --snp_data_path=/dcs04/lieber/statsgen/shizhong/michael/mwas/gwas//libd_chr1.pgen --methylation_data_path=/dcs04/lieber/statsgen/shizhong/michael/mwas/pheno/caud/out/chr1_AA.rda --cov=/dcs04/lieber/statsgen/mnagle/mwas/full_covariates/AA_caud.csv --verbose=FALSE --lambda_choice=1se --alphas=0.5 --allow_inefficient_parallelization=FALSE --n_fold=5 --window_sizes=10000 --save_evaluation_results_each_fold=FALSE --save_glmnet_object=FALSE --omit_folds_with_na_r=TRUE --chunk1=308982 --chunk2=328981 --cv_eval_mode=dynamic --num_cores=1 --cores_per_alpha=all --tag=libd_chr1-chr1_AA-308982-328981-dynamic-1corestotal-allcorepera-20240410-235035\n"
     ]
    },
    {
     "name": "stderr",
     "output_type": "stream",
     "text": [
      "Sleeping for 240 seconds\n",
      "\n"
     ]
    },
    {
     "name": "stdout",
     "output_type": "stream",
     "text": [
      "#!/bin/bash\n",
      "#SBATCH --nodes=1\n",
      "#SBATCH --ntasks-per-node=1\n",
      "#SBATCH --cpus-per-task=1\n",
      "#SBATCH --mem-per-cpu=24G\n",
      "#SBATCH --output=slurm_output_libd_chr1-chr1_AA-328982-348981-dynamic-1corestotal-allcorepera-20240410-235435.out\n",
      "#SBATCH --job-name=libd_chr1-chr1_AA-328982-348981-dynamic-1corestotal-allcorepera-20240410-235435\n",
      "module load conda\n",
      "conda activate mwas\n",
      "echo 'Executing Rscript with arguments: Rscript scripts/CLI.R --outdir=./output_chr1_a1/ --snp_data_path=/dcs04/lieber/statsgen/shizhong/michael/mwas/gwas//libd_chr1.pgen --methylation_data_path=/dcs04/lieber/statsgen/shizhong/michael/mwas/pheno/caud/out/chr1_AA.rda --cov=/dcs04/lieber/statsgen/mnagle/mwas/full_covariates/AA_caud.csv --verbose=FALSE --lambda_choice=1se --alphas=0.5 --allow_inefficient_parallelization=FALSE --n_fold=5 --window_sizes=10000 --save_evaluation_results_each_fold=FALSE --save_glmnet_object=FALSE --omit_folds_with_na_r=TRUE --chunk1=328982 --chunk2=348981 --cv_eval_mode=dynamic --num_cores=1 --cores_per_alpha=all --tag=libd_chr1-chr1_AA-328982-348981-dynamic-1corestotal-allcorepera-20240410-235435'\n",
      "Rscript scripts/CLI.R --outdir=./output_chr1_a1/ --snp_data_path=/dcs04/lieber/statsgen/shizhong/michael/mwas/gwas//libd_chr1.pgen --methylation_data_path=/dcs04/lieber/statsgen/shizhong/michael/mwas/pheno/caud/out/chr1_AA.rda --cov=/dcs04/lieber/statsgen/mnagle/mwas/full_covariates/AA_caud.csv --verbose=FALSE --lambda_choice=1se --alphas=0.5 --allow_inefficient_parallelization=FALSE --n_fold=5 --window_sizes=10000 --save_evaluation_results_each_fold=FALSE --save_glmnet_object=FALSE --omit_folds_with_na_r=TRUE --chunk1=328982 --chunk2=348981 --cv_eval_mode=dynamic --num_cores=1 --cores_per_alpha=all --tag=libd_chr1-chr1_AA-328982-348981-dynamic-1corestotal-allcorepera-20240410-235435\n"
     ]
    },
    {
     "name": "stderr",
     "output_type": "stream",
     "text": [
      "Sleeping for 240 seconds\n",
      "\n"
     ]
    },
    {
     "name": "stdout",
     "output_type": "stream",
     "text": [
      "#!/bin/bash\n",
      "#SBATCH --nodes=1\n",
      "#SBATCH --ntasks-per-node=1\n",
      "#SBATCH --cpus-per-task=1\n",
      "#SBATCH --mem-per-cpu=24G\n",
      "#SBATCH --output=slurm_output_libd_chr1-chr1_AA-348982-368981-dynamic-1corestotal-allcorepera-20240410-235835.out\n",
      "#SBATCH --job-name=libd_chr1-chr1_AA-348982-368981-dynamic-1corestotal-allcorepera-20240410-235835\n",
      "module load conda\n",
      "conda activate mwas\n",
      "echo 'Executing Rscript with arguments: Rscript scripts/CLI.R --outdir=./output_chr1_a1/ --snp_data_path=/dcs04/lieber/statsgen/shizhong/michael/mwas/gwas//libd_chr1.pgen --methylation_data_path=/dcs04/lieber/statsgen/shizhong/michael/mwas/pheno/caud/out/chr1_AA.rda --cov=/dcs04/lieber/statsgen/mnagle/mwas/full_covariates/AA_caud.csv --verbose=FALSE --lambda_choice=1se --alphas=0.5 --allow_inefficient_parallelization=FALSE --n_fold=5 --window_sizes=10000 --save_evaluation_results_each_fold=FALSE --save_glmnet_object=FALSE --omit_folds_with_na_r=TRUE --chunk1=348982 --chunk2=368981 --cv_eval_mode=dynamic --num_cores=1 --cores_per_alpha=all --tag=libd_chr1-chr1_AA-348982-368981-dynamic-1corestotal-allcorepera-20240410-235835'\n",
      "Rscript scripts/CLI.R --outdir=./output_chr1_a1/ --snp_data_path=/dcs04/lieber/statsgen/shizhong/michael/mwas/gwas//libd_chr1.pgen --methylation_data_path=/dcs04/lieber/statsgen/shizhong/michael/mwas/pheno/caud/out/chr1_AA.rda --cov=/dcs04/lieber/statsgen/mnagle/mwas/full_covariates/AA_caud.csv --verbose=FALSE --lambda_choice=1se --alphas=0.5 --allow_inefficient_parallelization=FALSE --n_fold=5 --window_sizes=10000 --save_evaluation_results_each_fold=FALSE --save_glmnet_object=FALSE --omit_folds_with_na_r=TRUE --chunk1=348982 --chunk2=368981 --cv_eval_mode=dynamic --num_cores=1 --cores_per_alpha=all --tag=libd_chr1-chr1_AA-348982-368981-dynamic-1corestotal-allcorepera-20240410-235835\n"
     ]
    },
    {
     "name": "stderr",
     "output_type": "stream",
     "text": [
      "Sleeping for 240 seconds\n",
      "\n"
     ]
    },
    {
     "name": "stdout",
     "output_type": "stream",
     "text": [
      "#!/bin/bash\n",
      "#SBATCH --nodes=1\n",
      "#SBATCH --ntasks-per-node=1\n",
      "#SBATCH --cpus-per-task=1\n",
      "#SBATCH --mem-per-cpu=24G\n",
      "#SBATCH --output=slurm_output_libd_chr1-chr1_AA-368982-388981-dynamic-1corestotal-allcorepera-20240411-000235.out\n",
      "#SBATCH --job-name=libd_chr1-chr1_AA-368982-388981-dynamic-1corestotal-allcorepera-20240411-000235\n",
      "module load conda\n",
      "conda activate mwas\n",
      "echo 'Executing Rscript with arguments: Rscript scripts/CLI.R --outdir=./output_chr1_a1/ --snp_data_path=/dcs04/lieber/statsgen/shizhong/michael/mwas/gwas//libd_chr1.pgen --methylation_data_path=/dcs04/lieber/statsgen/shizhong/michael/mwas/pheno/caud/out/chr1_AA.rda --cov=/dcs04/lieber/statsgen/mnagle/mwas/full_covariates/AA_caud.csv --verbose=FALSE --lambda_choice=1se --alphas=0.5 --allow_inefficient_parallelization=FALSE --n_fold=5 --window_sizes=10000 --save_evaluation_results_each_fold=FALSE --save_glmnet_object=FALSE --omit_folds_with_na_r=TRUE --chunk1=368982 --chunk2=388981 --cv_eval_mode=dynamic --num_cores=1 --cores_per_alpha=all --tag=libd_chr1-chr1_AA-368982-388981-dynamic-1corestotal-allcorepera-20240411-000235'\n",
      "Rscript scripts/CLI.R --outdir=./output_chr1_a1/ --snp_data_path=/dcs04/lieber/statsgen/shizhong/michael/mwas/gwas//libd_chr1.pgen --methylation_data_path=/dcs04/lieber/statsgen/shizhong/michael/mwas/pheno/caud/out/chr1_AA.rda --cov=/dcs04/lieber/statsgen/mnagle/mwas/full_covariates/AA_caud.csv --verbose=FALSE --lambda_choice=1se --alphas=0.5 --allow_inefficient_parallelization=FALSE --n_fold=5 --window_sizes=10000 --save_evaluation_results_each_fold=FALSE --save_glmnet_object=FALSE --omit_folds_with_na_r=TRUE --chunk1=368982 --chunk2=388981 --cv_eval_mode=dynamic --num_cores=1 --cores_per_alpha=all --tag=libd_chr1-chr1_AA-368982-388981-dynamic-1corestotal-allcorepera-20240411-000235\n"
     ]
    },
    {
     "name": "stderr",
     "output_type": "stream",
     "text": [
      "Sleeping for 240 seconds\n",
      "\n"
     ]
    },
    {
     "name": "stdout",
     "output_type": "stream",
     "text": [
      "#!/bin/bash\n",
      "#SBATCH --nodes=1\n",
      "#SBATCH --ntasks-per-node=1\n",
      "#SBATCH --cpus-per-task=1\n",
      "#SBATCH --mem-per-cpu=24G\n",
      "#SBATCH --output=slurm_output_libd_chr1-chr1_AA-388982-408981-dynamic-1corestotal-allcorepera-20240411-000635.out\n",
      "#SBATCH --job-name=libd_chr1-chr1_AA-388982-408981-dynamic-1corestotal-allcorepera-20240411-000635\n",
      "module load conda\n",
      "conda activate mwas\n",
      "echo 'Executing Rscript with arguments: Rscript scripts/CLI.R --outdir=./output_chr1_a1/ --snp_data_path=/dcs04/lieber/statsgen/shizhong/michael/mwas/gwas//libd_chr1.pgen --methylation_data_path=/dcs04/lieber/statsgen/shizhong/michael/mwas/pheno/caud/out/chr1_AA.rda --cov=/dcs04/lieber/statsgen/mnagle/mwas/full_covariates/AA_caud.csv --verbose=FALSE --lambda_choice=1se --alphas=0.5 --allow_inefficient_parallelization=FALSE --n_fold=5 --window_sizes=10000 --save_evaluation_results_each_fold=FALSE --save_glmnet_object=FALSE --omit_folds_with_na_r=TRUE --chunk1=388982 --chunk2=408981 --cv_eval_mode=dynamic --num_cores=1 --cores_per_alpha=all --tag=libd_chr1-chr1_AA-388982-408981-dynamic-1corestotal-allcorepera-20240411-000635'\n",
      "Rscript scripts/CLI.R --outdir=./output_chr1_a1/ --snp_data_path=/dcs04/lieber/statsgen/shizhong/michael/mwas/gwas//libd_chr1.pgen --methylation_data_path=/dcs04/lieber/statsgen/shizhong/michael/mwas/pheno/caud/out/chr1_AA.rda --cov=/dcs04/lieber/statsgen/mnagle/mwas/full_covariates/AA_caud.csv --verbose=FALSE --lambda_choice=1se --alphas=0.5 --allow_inefficient_parallelization=FALSE --n_fold=5 --window_sizes=10000 --save_evaluation_results_each_fold=FALSE --save_glmnet_object=FALSE --omit_folds_with_na_r=TRUE --chunk1=388982 --chunk2=408981 --cv_eval_mode=dynamic --num_cores=1 --cores_per_alpha=all --tag=libd_chr1-chr1_AA-388982-408981-dynamic-1corestotal-allcorepera-20240411-000635\n"
     ]
    },
    {
     "name": "stderr",
     "output_type": "stream",
     "text": [
      "Sleeping for 240 seconds\n",
      "\n"
     ]
    },
    {
     "name": "stdout",
     "output_type": "stream",
     "text": [
      "#!/bin/bash\n",
      "#SBATCH --nodes=1\n",
      "#SBATCH --ntasks-per-node=1\n",
      "#SBATCH --cpus-per-task=1\n",
      "#SBATCH --mem-per-cpu=24G\n",
      "#SBATCH --output=slurm_output_libd_chr1-chr1_AA-408982-428981-dynamic-1corestotal-allcorepera-20240411-001035.out\n",
      "#SBATCH --job-name=libd_chr1-chr1_AA-408982-428981-dynamic-1corestotal-allcorepera-20240411-001035\n",
      "module load conda\n",
      "conda activate mwas\n",
      "echo 'Executing Rscript with arguments: Rscript scripts/CLI.R --outdir=./output_chr1_a1/ --snp_data_path=/dcs04/lieber/statsgen/shizhong/michael/mwas/gwas//libd_chr1.pgen --methylation_data_path=/dcs04/lieber/statsgen/shizhong/michael/mwas/pheno/caud/out/chr1_AA.rda --cov=/dcs04/lieber/statsgen/mnagle/mwas/full_covariates/AA_caud.csv --verbose=FALSE --lambda_choice=1se --alphas=0.5 --allow_inefficient_parallelization=FALSE --n_fold=5 --window_sizes=10000 --save_evaluation_results_each_fold=FALSE --save_glmnet_object=FALSE --omit_folds_with_na_r=TRUE --chunk1=408982 --chunk2=428981 --cv_eval_mode=dynamic --num_cores=1 --cores_per_alpha=all --tag=libd_chr1-chr1_AA-408982-428981-dynamic-1corestotal-allcorepera-20240411-001035'\n",
      "Rscript scripts/CLI.R --outdir=./output_chr1_a1/ --snp_data_path=/dcs04/lieber/statsgen/shizhong/michael/mwas/gwas//libd_chr1.pgen --methylation_data_path=/dcs04/lieber/statsgen/shizhong/michael/mwas/pheno/caud/out/chr1_AA.rda --cov=/dcs04/lieber/statsgen/mnagle/mwas/full_covariates/AA_caud.csv --verbose=FALSE --lambda_choice=1se --alphas=0.5 --allow_inefficient_parallelization=FALSE --n_fold=5 --window_sizes=10000 --save_evaluation_results_each_fold=FALSE --save_glmnet_object=FALSE --omit_folds_with_na_r=TRUE --chunk1=408982 --chunk2=428981 --cv_eval_mode=dynamic --num_cores=1 --cores_per_alpha=all --tag=libd_chr1-chr1_AA-408982-428981-dynamic-1corestotal-allcorepera-20240411-001035\n"
     ]
    },
    {
     "name": "stderr",
     "output_type": "stream",
     "text": [
      "Sleeping for 240 seconds\n",
      "\n"
     ]
    },
    {
     "name": "stdout",
     "output_type": "stream",
     "text": [
      "#!/bin/bash\n",
      "#SBATCH --nodes=1\n",
      "#SBATCH --ntasks-per-node=1\n",
      "#SBATCH --cpus-per-task=1\n",
      "#SBATCH --mem-per-cpu=24G\n",
      "#SBATCH --output=slurm_output_libd_chr1-chr1_AA-428982-448981-dynamic-1corestotal-allcorepera-20240411-001435.out\n",
      "#SBATCH --job-name=libd_chr1-chr1_AA-428982-448981-dynamic-1corestotal-allcorepera-20240411-001435\n",
      "module load conda\n",
      "conda activate mwas\n",
      "echo 'Executing Rscript with arguments: Rscript scripts/CLI.R --outdir=./output_chr1_a1/ --snp_data_path=/dcs04/lieber/statsgen/shizhong/michael/mwas/gwas//libd_chr1.pgen --methylation_data_path=/dcs04/lieber/statsgen/shizhong/michael/mwas/pheno/caud/out/chr1_AA.rda --cov=/dcs04/lieber/statsgen/mnagle/mwas/full_covariates/AA_caud.csv --verbose=FALSE --lambda_choice=1se --alphas=0.5 --allow_inefficient_parallelization=FALSE --n_fold=5 --window_sizes=10000 --save_evaluation_results_each_fold=FALSE --save_glmnet_object=FALSE --omit_folds_with_na_r=TRUE --chunk1=428982 --chunk2=448981 --cv_eval_mode=dynamic --num_cores=1 --cores_per_alpha=all --tag=libd_chr1-chr1_AA-428982-448981-dynamic-1corestotal-allcorepera-20240411-001435'\n",
      "Rscript scripts/CLI.R --outdir=./output_chr1_a1/ --snp_data_path=/dcs04/lieber/statsgen/shizhong/michael/mwas/gwas//libd_chr1.pgen --methylation_data_path=/dcs04/lieber/statsgen/shizhong/michael/mwas/pheno/caud/out/chr1_AA.rda --cov=/dcs04/lieber/statsgen/mnagle/mwas/full_covariates/AA_caud.csv --verbose=FALSE --lambda_choice=1se --alphas=0.5 --allow_inefficient_parallelization=FALSE --n_fold=5 --window_sizes=10000 --save_evaluation_results_each_fold=FALSE --save_glmnet_object=FALSE --omit_folds_with_na_r=TRUE --chunk1=428982 --chunk2=448981 --cv_eval_mode=dynamic --num_cores=1 --cores_per_alpha=all --tag=libd_chr1-chr1_AA-428982-448981-dynamic-1corestotal-allcorepera-20240411-001435\n"
     ]
    },
    {
     "name": "stderr",
     "output_type": "stream",
     "text": [
      "Sleeping for 240 seconds\n",
      "\n"
     ]
    },
    {
     "name": "stdout",
     "output_type": "stream",
     "text": [
      "#!/bin/bash\n",
      "#SBATCH --nodes=1\n",
      "#SBATCH --ntasks-per-node=1\n",
      "#SBATCH --cpus-per-task=1\n",
      "#SBATCH --mem-per-cpu=24G\n",
      "#SBATCH --output=slurm_output_libd_chr1-chr1_AA-448982-468981-dynamic-1corestotal-allcorepera-20240411-001835.out\n",
      "#SBATCH --job-name=libd_chr1-chr1_AA-448982-468981-dynamic-1corestotal-allcorepera-20240411-001835\n",
      "module load conda\n",
      "conda activate mwas\n",
      "echo 'Executing Rscript with arguments: Rscript scripts/CLI.R --outdir=./output_chr1_a1/ --snp_data_path=/dcs04/lieber/statsgen/shizhong/michael/mwas/gwas//libd_chr1.pgen --methylation_data_path=/dcs04/lieber/statsgen/shizhong/michael/mwas/pheno/caud/out/chr1_AA.rda --cov=/dcs04/lieber/statsgen/mnagle/mwas/full_covariates/AA_caud.csv --verbose=FALSE --lambda_choice=1se --alphas=0.5 --allow_inefficient_parallelization=FALSE --n_fold=5 --window_sizes=10000 --save_evaluation_results_each_fold=FALSE --save_glmnet_object=FALSE --omit_folds_with_na_r=TRUE --chunk1=448982 --chunk2=468981 --cv_eval_mode=dynamic --num_cores=1 --cores_per_alpha=all --tag=libd_chr1-chr1_AA-448982-468981-dynamic-1corestotal-allcorepera-20240411-001835'\n",
      "Rscript scripts/CLI.R --outdir=./output_chr1_a1/ --snp_data_path=/dcs04/lieber/statsgen/shizhong/michael/mwas/gwas//libd_chr1.pgen --methylation_data_path=/dcs04/lieber/statsgen/shizhong/michael/mwas/pheno/caud/out/chr1_AA.rda --cov=/dcs04/lieber/statsgen/mnagle/mwas/full_covariates/AA_caud.csv --verbose=FALSE --lambda_choice=1se --alphas=0.5 --allow_inefficient_parallelization=FALSE --n_fold=5 --window_sizes=10000 --save_evaluation_results_each_fold=FALSE --save_glmnet_object=FALSE --omit_folds_with_na_r=TRUE --chunk1=448982 --chunk2=468981 --cv_eval_mode=dynamic --num_cores=1 --cores_per_alpha=all --tag=libd_chr1-chr1_AA-448982-468981-dynamic-1corestotal-allcorepera-20240411-001835\n"
     ]
    },
    {
     "name": "stderr",
     "output_type": "stream",
     "text": [
      "Sleeping for 240 seconds\n",
      "\n"
     ]
    },
    {
     "name": "stdout",
     "output_type": "stream",
     "text": [
      "#!/bin/bash\n",
      "#SBATCH --nodes=1\n",
      "#SBATCH --ntasks-per-node=1\n",
      "#SBATCH --cpus-per-task=1\n",
      "#SBATCH --mem-per-cpu=24G\n",
      "#SBATCH --output=slurm_output_libd_chr1-chr1_AA-468982-488981-dynamic-1corestotal-allcorepera-20240411-002236.out\n",
      "#SBATCH --job-name=libd_chr1-chr1_AA-468982-488981-dynamic-1corestotal-allcorepera-20240411-002236\n",
      "module load conda\n",
      "conda activate mwas\n",
      "echo 'Executing Rscript with arguments: Rscript scripts/CLI.R --outdir=./output_chr1_a1/ --snp_data_path=/dcs04/lieber/statsgen/shizhong/michael/mwas/gwas//libd_chr1.pgen --methylation_data_path=/dcs04/lieber/statsgen/shizhong/michael/mwas/pheno/caud/out/chr1_AA.rda --cov=/dcs04/lieber/statsgen/mnagle/mwas/full_covariates/AA_caud.csv --verbose=FALSE --lambda_choice=1se --alphas=0.5 --allow_inefficient_parallelization=FALSE --n_fold=5 --window_sizes=10000 --save_evaluation_results_each_fold=FALSE --save_glmnet_object=FALSE --omit_folds_with_na_r=TRUE --chunk1=468982 --chunk2=488981 --cv_eval_mode=dynamic --num_cores=1 --cores_per_alpha=all --tag=libd_chr1-chr1_AA-468982-488981-dynamic-1corestotal-allcorepera-20240411-002236'\n",
      "Rscript scripts/CLI.R --outdir=./output_chr1_a1/ --snp_data_path=/dcs04/lieber/statsgen/shizhong/michael/mwas/gwas//libd_chr1.pgen --methylation_data_path=/dcs04/lieber/statsgen/shizhong/michael/mwas/pheno/caud/out/chr1_AA.rda --cov=/dcs04/lieber/statsgen/mnagle/mwas/full_covariates/AA_caud.csv --verbose=FALSE --lambda_choice=1se --alphas=0.5 --allow_inefficient_parallelization=FALSE --n_fold=5 --window_sizes=10000 --save_evaluation_results_each_fold=FALSE --save_glmnet_object=FALSE --omit_folds_with_na_r=TRUE --chunk1=468982 --chunk2=488981 --cv_eval_mode=dynamic --num_cores=1 --cores_per_alpha=all --tag=libd_chr1-chr1_AA-468982-488981-dynamic-1corestotal-allcorepera-20240411-002236\n"
     ]
    },
    {
     "name": "stderr",
     "output_type": "stream",
     "text": [
      "Sleeping for 240 seconds\n",
      "\n"
     ]
    },
    {
     "name": "stdout",
     "output_type": "stream",
     "text": [
      "#!/bin/bash\n",
      "#SBATCH --nodes=1\n",
      "#SBATCH --ntasks-per-node=1\n",
      "#SBATCH --cpus-per-task=1\n",
      "#SBATCH --mem-per-cpu=24G\n",
      "#SBATCH --output=slurm_output_libd_chr1-chr1_AA-488982-508981-dynamic-1corestotal-allcorepera-20240411-002636.out\n",
      "#SBATCH --job-name=libd_chr1-chr1_AA-488982-508981-dynamic-1corestotal-allcorepera-20240411-002636\n",
      "module load conda\n",
      "conda activate mwas\n",
      "echo 'Executing Rscript with arguments: Rscript scripts/CLI.R --outdir=./output_chr1_a1/ --snp_data_path=/dcs04/lieber/statsgen/shizhong/michael/mwas/gwas//libd_chr1.pgen --methylation_data_path=/dcs04/lieber/statsgen/shizhong/michael/mwas/pheno/caud/out/chr1_AA.rda --cov=/dcs04/lieber/statsgen/mnagle/mwas/full_covariates/AA_caud.csv --verbose=FALSE --lambda_choice=1se --alphas=0.5 --allow_inefficient_parallelization=FALSE --n_fold=5 --window_sizes=10000 --save_evaluation_results_each_fold=FALSE --save_glmnet_object=FALSE --omit_folds_with_na_r=TRUE --chunk1=488982 --chunk2=508981 --cv_eval_mode=dynamic --num_cores=1 --cores_per_alpha=all --tag=libd_chr1-chr1_AA-488982-508981-dynamic-1corestotal-allcorepera-20240411-002636'\n",
      "Rscript scripts/CLI.R --outdir=./output_chr1_a1/ --snp_data_path=/dcs04/lieber/statsgen/shizhong/michael/mwas/gwas//libd_chr1.pgen --methylation_data_path=/dcs04/lieber/statsgen/shizhong/michael/mwas/pheno/caud/out/chr1_AA.rda --cov=/dcs04/lieber/statsgen/mnagle/mwas/full_covariates/AA_caud.csv --verbose=FALSE --lambda_choice=1se --alphas=0.5 --allow_inefficient_parallelization=FALSE --n_fold=5 --window_sizes=10000 --save_evaluation_results_each_fold=FALSE --save_glmnet_object=FALSE --omit_folds_with_na_r=TRUE --chunk1=488982 --chunk2=508981 --cv_eval_mode=dynamic --num_cores=1 --cores_per_alpha=all --tag=libd_chr1-chr1_AA-488982-508981-dynamic-1corestotal-allcorepera-20240411-002636\n"
     ]
    },
    {
     "name": "stderr",
     "output_type": "stream",
     "text": [
      "Sleeping for 240 seconds\n",
      "\n"
     ]
    },
    {
     "name": "stdout",
     "output_type": "stream",
     "text": [
      "#!/bin/bash\n",
      "#SBATCH --nodes=1\n",
      "#SBATCH --ntasks-per-node=1\n",
      "#SBATCH --cpus-per-task=1\n",
      "#SBATCH --mem-per-cpu=24G\n",
      "#SBATCH --output=slurm_output_libd_chr1-chr1_AA-508982-528981-dynamic-1corestotal-allcorepera-20240411-003036.out\n",
      "#SBATCH --job-name=libd_chr1-chr1_AA-508982-528981-dynamic-1corestotal-allcorepera-20240411-003036\n",
      "module load conda\n",
      "conda activate mwas\n",
      "echo 'Executing Rscript with arguments: Rscript scripts/CLI.R --outdir=./output_chr1_a1/ --snp_data_path=/dcs04/lieber/statsgen/shizhong/michael/mwas/gwas//libd_chr1.pgen --methylation_data_path=/dcs04/lieber/statsgen/shizhong/michael/mwas/pheno/caud/out/chr1_AA.rda --cov=/dcs04/lieber/statsgen/mnagle/mwas/full_covariates/AA_caud.csv --verbose=FALSE --lambda_choice=1se --alphas=0.5 --allow_inefficient_parallelization=FALSE --n_fold=5 --window_sizes=10000 --save_evaluation_results_each_fold=FALSE --save_glmnet_object=FALSE --omit_folds_with_na_r=TRUE --chunk1=508982 --chunk2=528981 --cv_eval_mode=dynamic --num_cores=1 --cores_per_alpha=all --tag=libd_chr1-chr1_AA-508982-528981-dynamic-1corestotal-allcorepera-20240411-003036'\n",
      "Rscript scripts/CLI.R --outdir=./output_chr1_a1/ --snp_data_path=/dcs04/lieber/statsgen/shizhong/michael/mwas/gwas//libd_chr1.pgen --methylation_data_path=/dcs04/lieber/statsgen/shizhong/michael/mwas/pheno/caud/out/chr1_AA.rda --cov=/dcs04/lieber/statsgen/mnagle/mwas/full_covariates/AA_caud.csv --verbose=FALSE --lambda_choice=1se --alphas=0.5 --allow_inefficient_parallelization=FALSE --n_fold=5 --window_sizes=10000 --save_evaluation_results_each_fold=FALSE --save_glmnet_object=FALSE --omit_folds_with_na_r=TRUE --chunk1=508982 --chunk2=528981 --cv_eval_mode=dynamic --num_cores=1 --cores_per_alpha=all --tag=libd_chr1-chr1_AA-508982-528981-dynamic-1corestotal-allcorepera-20240411-003036\n"
     ]
    },
    {
     "name": "stderr",
     "output_type": "stream",
     "text": [
      "Sleeping for 240 seconds\n",
      "\n"
     ]
    },
    {
     "name": "stdout",
     "output_type": "stream",
     "text": [
      "#!/bin/bash\n",
      "#SBATCH --nodes=1\n",
      "#SBATCH --ntasks-per-node=1\n",
      "#SBATCH --cpus-per-task=1\n",
      "#SBATCH --mem-per-cpu=24G\n",
      "#SBATCH --output=slurm_output_libd_chr1-chr1_AA-528982-548981-dynamic-1corestotal-allcorepera-20240411-003436.out\n",
      "#SBATCH --job-name=libd_chr1-chr1_AA-528982-548981-dynamic-1corestotal-allcorepera-20240411-003436\n",
      "module load conda\n",
      "conda activate mwas\n",
      "echo 'Executing Rscript with arguments: Rscript scripts/CLI.R --outdir=./output_chr1_a1/ --snp_data_path=/dcs04/lieber/statsgen/shizhong/michael/mwas/gwas//libd_chr1.pgen --methylation_data_path=/dcs04/lieber/statsgen/shizhong/michael/mwas/pheno/caud/out/chr1_AA.rda --cov=/dcs04/lieber/statsgen/mnagle/mwas/full_covariates/AA_caud.csv --verbose=FALSE --lambda_choice=1se --alphas=0.5 --allow_inefficient_parallelization=FALSE --n_fold=5 --window_sizes=10000 --save_evaluation_results_each_fold=FALSE --save_glmnet_object=FALSE --omit_folds_with_na_r=TRUE --chunk1=528982 --chunk2=548981 --cv_eval_mode=dynamic --num_cores=1 --cores_per_alpha=all --tag=libd_chr1-chr1_AA-528982-548981-dynamic-1corestotal-allcorepera-20240411-003436'\n",
      "Rscript scripts/CLI.R --outdir=./output_chr1_a1/ --snp_data_path=/dcs04/lieber/statsgen/shizhong/michael/mwas/gwas//libd_chr1.pgen --methylation_data_path=/dcs04/lieber/statsgen/shizhong/michael/mwas/pheno/caud/out/chr1_AA.rda --cov=/dcs04/lieber/statsgen/mnagle/mwas/full_covariates/AA_caud.csv --verbose=FALSE --lambda_choice=1se --alphas=0.5 --allow_inefficient_parallelization=FALSE --n_fold=5 --window_sizes=10000 --save_evaluation_results_each_fold=FALSE --save_glmnet_object=FALSE --omit_folds_with_na_r=TRUE --chunk1=528982 --chunk2=548981 --cv_eval_mode=dynamic --num_cores=1 --cores_per_alpha=all --tag=libd_chr1-chr1_AA-528982-548981-dynamic-1corestotal-allcorepera-20240411-003436\n"
     ]
    },
    {
     "name": "stderr",
     "output_type": "stream",
     "text": [
      "Sleeping for 240 seconds\n",
      "\n"
     ]
    },
    {
     "name": "stdout",
     "output_type": "stream",
     "text": [
      "#!/bin/bash\n",
      "#SBATCH --nodes=1\n",
      "#SBATCH --ntasks-per-node=1\n",
      "#SBATCH --cpus-per-task=1\n",
      "#SBATCH --mem-per-cpu=24G\n",
      "#SBATCH --output=slurm_output_libd_chr1-chr1_AA-548982-568981-dynamic-1corestotal-allcorepera-20240411-003836.out\n",
      "#SBATCH --job-name=libd_chr1-chr1_AA-548982-568981-dynamic-1corestotal-allcorepera-20240411-003836\n",
      "module load conda\n",
      "conda activate mwas\n",
      "echo 'Executing Rscript with arguments: Rscript scripts/CLI.R --outdir=./output_chr1_a1/ --snp_data_path=/dcs04/lieber/statsgen/shizhong/michael/mwas/gwas//libd_chr1.pgen --methylation_data_path=/dcs04/lieber/statsgen/shizhong/michael/mwas/pheno/caud/out/chr1_AA.rda --cov=/dcs04/lieber/statsgen/mnagle/mwas/full_covariates/AA_caud.csv --verbose=FALSE --lambda_choice=1se --alphas=0.5 --allow_inefficient_parallelization=FALSE --n_fold=5 --window_sizes=10000 --save_evaluation_results_each_fold=FALSE --save_glmnet_object=FALSE --omit_folds_with_na_r=TRUE --chunk1=548982 --chunk2=568981 --cv_eval_mode=dynamic --num_cores=1 --cores_per_alpha=all --tag=libd_chr1-chr1_AA-548982-568981-dynamic-1corestotal-allcorepera-20240411-003836'\n",
      "Rscript scripts/CLI.R --outdir=./output_chr1_a1/ --snp_data_path=/dcs04/lieber/statsgen/shizhong/michael/mwas/gwas//libd_chr1.pgen --methylation_data_path=/dcs04/lieber/statsgen/shizhong/michael/mwas/pheno/caud/out/chr1_AA.rda --cov=/dcs04/lieber/statsgen/mnagle/mwas/full_covariates/AA_caud.csv --verbose=FALSE --lambda_choice=1se --alphas=0.5 --allow_inefficient_parallelization=FALSE --n_fold=5 --window_sizes=10000 --save_evaluation_results_each_fold=FALSE --save_glmnet_object=FALSE --omit_folds_with_na_r=TRUE --chunk1=548982 --chunk2=568981 --cv_eval_mode=dynamic --num_cores=1 --cores_per_alpha=all --tag=libd_chr1-chr1_AA-548982-568981-dynamic-1corestotal-allcorepera-20240411-003836\n"
     ]
    },
    {
     "name": "stderr",
     "output_type": "stream",
     "text": [
      "Sleeping for 240 seconds\n",
      "\n"
     ]
    },
    {
     "name": "stdout",
     "output_type": "stream",
     "text": [
      "#!/bin/bash\n",
      "#SBATCH --nodes=1\n",
      "#SBATCH --ntasks-per-node=1\n",
      "#SBATCH --cpus-per-task=1\n",
      "#SBATCH --mem-per-cpu=24G\n",
      "#SBATCH --output=slurm_output_libd_chr1-chr1_AA-568982-588981-dynamic-1corestotal-allcorepera-20240411-004236.out\n",
      "#SBATCH --job-name=libd_chr1-chr1_AA-568982-588981-dynamic-1corestotal-allcorepera-20240411-004236\n",
      "module load conda\n",
      "conda activate mwas\n",
      "echo 'Executing Rscript with arguments: Rscript scripts/CLI.R --outdir=./output_chr1_a1/ --snp_data_path=/dcs04/lieber/statsgen/shizhong/michael/mwas/gwas//libd_chr1.pgen --methylation_data_path=/dcs04/lieber/statsgen/shizhong/michael/mwas/pheno/caud/out/chr1_AA.rda --cov=/dcs04/lieber/statsgen/mnagle/mwas/full_covariates/AA_caud.csv --verbose=FALSE --lambda_choice=1se --alphas=0.5 --allow_inefficient_parallelization=FALSE --n_fold=5 --window_sizes=10000 --save_evaluation_results_each_fold=FALSE --save_glmnet_object=FALSE --omit_folds_with_na_r=TRUE --chunk1=568982 --chunk2=588981 --cv_eval_mode=dynamic --num_cores=1 --cores_per_alpha=all --tag=libd_chr1-chr1_AA-568982-588981-dynamic-1corestotal-allcorepera-20240411-004236'\n",
      "Rscript scripts/CLI.R --outdir=./output_chr1_a1/ --snp_data_path=/dcs04/lieber/statsgen/shizhong/michael/mwas/gwas//libd_chr1.pgen --methylation_data_path=/dcs04/lieber/statsgen/shizhong/michael/mwas/pheno/caud/out/chr1_AA.rda --cov=/dcs04/lieber/statsgen/mnagle/mwas/full_covariates/AA_caud.csv --verbose=FALSE --lambda_choice=1se --alphas=0.5 --allow_inefficient_parallelization=FALSE --n_fold=5 --window_sizes=10000 --save_evaluation_results_each_fold=FALSE --save_glmnet_object=FALSE --omit_folds_with_na_r=TRUE --chunk1=568982 --chunk2=588981 --cv_eval_mode=dynamic --num_cores=1 --cores_per_alpha=all --tag=libd_chr1-chr1_AA-568982-588981-dynamic-1corestotal-allcorepera-20240411-004236\n"
     ]
    },
    {
     "name": "stderr",
     "output_type": "stream",
     "text": [
      "Sleeping for 240 seconds\n",
      "\n"
     ]
    },
    {
     "name": "stdout",
     "output_type": "stream",
     "text": [
      "#!/bin/bash\n",
      "#SBATCH --nodes=1\n",
      "#SBATCH --ntasks-per-node=1\n",
      "#SBATCH --cpus-per-task=1\n",
      "#SBATCH --mem-per-cpu=24G\n",
      "#SBATCH --output=slurm_output_libd_chr1-chr1_AA-588982-608981-dynamic-1corestotal-allcorepera-20240411-004637.out\n",
      "#SBATCH --job-name=libd_chr1-chr1_AA-588982-608981-dynamic-1corestotal-allcorepera-20240411-004637\n",
      "module load conda\n",
      "conda activate mwas\n",
      "echo 'Executing Rscript with arguments: Rscript scripts/CLI.R --outdir=./output_chr1_a1/ --snp_data_path=/dcs04/lieber/statsgen/shizhong/michael/mwas/gwas//libd_chr1.pgen --methylation_data_path=/dcs04/lieber/statsgen/shizhong/michael/mwas/pheno/caud/out/chr1_AA.rda --cov=/dcs04/lieber/statsgen/mnagle/mwas/full_covariates/AA_caud.csv --verbose=FALSE --lambda_choice=1se --alphas=0.5 --allow_inefficient_parallelization=FALSE --n_fold=5 --window_sizes=10000 --save_evaluation_results_each_fold=FALSE --save_glmnet_object=FALSE --omit_folds_with_na_r=TRUE --chunk1=588982 --chunk2=608981 --cv_eval_mode=dynamic --num_cores=1 --cores_per_alpha=all --tag=libd_chr1-chr1_AA-588982-608981-dynamic-1corestotal-allcorepera-20240411-004637'\n",
      "Rscript scripts/CLI.R --outdir=./output_chr1_a1/ --snp_data_path=/dcs04/lieber/statsgen/shizhong/michael/mwas/gwas//libd_chr1.pgen --methylation_data_path=/dcs04/lieber/statsgen/shizhong/michael/mwas/pheno/caud/out/chr1_AA.rda --cov=/dcs04/lieber/statsgen/mnagle/mwas/full_covariates/AA_caud.csv --verbose=FALSE --lambda_choice=1se --alphas=0.5 --allow_inefficient_parallelization=FALSE --n_fold=5 --window_sizes=10000 --save_evaluation_results_each_fold=FALSE --save_glmnet_object=FALSE --omit_folds_with_na_r=TRUE --chunk1=588982 --chunk2=608981 --cv_eval_mode=dynamic --num_cores=1 --cores_per_alpha=all --tag=libd_chr1-chr1_AA-588982-608981-dynamic-1corestotal-allcorepera-20240411-004637\n"
     ]
    },
    {
     "name": "stderr",
     "output_type": "stream",
     "text": [
      "Sleeping for 240 seconds\n",
      "\n"
     ]
    },
    {
     "name": "stdout",
     "output_type": "stream",
     "text": [
      "#!/bin/bash\n",
      "#SBATCH --nodes=1\n",
      "#SBATCH --ntasks-per-node=1\n",
      "#SBATCH --cpus-per-task=1\n",
      "#SBATCH --mem-per-cpu=24G\n",
      "#SBATCH --output=slurm_output_libd_chr1-chr1_AA-608982-628981-dynamic-1corestotal-allcorepera-20240411-005037.out\n",
      "#SBATCH --job-name=libd_chr1-chr1_AA-608982-628981-dynamic-1corestotal-allcorepera-20240411-005037\n",
      "module load conda\n",
      "conda activate mwas\n",
      "echo 'Executing Rscript with arguments: Rscript scripts/CLI.R --outdir=./output_chr1_a1/ --snp_data_path=/dcs04/lieber/statsgen/shizhong/michael/mwas/gwas//libd_chr1.pgen --methylation_data_path=/dcs04/lieber/statsgen/shizhong/michael/mwas/pheno/caud/out/chr1_AA.rda --cov=/dcs04/lieber/statsgen/mnagle/mwas/full_covariates/AA_caud.csv --verbose=FALSE --lambda_choice=1se --alphas=0.5 --allow_inefficient_parallelization=FALSE --n_fold=5 --window_sizes=10000 --save_evaluation_results_each_fold=FALSE --save_glmnet_object=FALSE --omit_folds_with_na_r=TRUE --chunk1=608982 --chunk2=628981 --cv_eval_mode=dynamic --num_cores=1 --cores_per_alpha=all --tag=libd_chr1-chr1_AA-608982-628981-dynamic-1corestotal-allcorepera-20240411-005037'\n",
      "Rscript scripts/CLI.R --outdir=./output_chr1_a1/ --snp_data_path=/dcs04/lieber/statsgen/shizhong/michael/mwas/gwas//libd_chr1.pgen --methylation_data_path=/dcs04/lieber/statsgen/shizhong/michael/mwas/pheno/caud/out/chr1_AA.rda --cov=/dcs04/lieber/statsgen/mnagle/mwas/full_covariates/AA_caud.csv --verbose=FALSE --lambda_choice=1se --alphas=0.5 --allow_inefficient_parallelization=FALSE --n_fold=5 --window_sizes=10000 --save_evaluation_results_each_fold=FALSE --save_glmnet_object=FALSE --omit_folds_with_na_r=TRUE --chunk1=608982 --chunk2=628981 --cv_eval_mode=dynamic --num_cores=1 --cores_per_alpha=all --tag=libd_chr1-chr1_AA-608982-628981-dynamic-1corestotal-allcorepera-20240411-005037\n"
     ]
    },
    {
     "name": "stderr",
     "output_type": "stream",
     "text": [
      "Sleeping for 240 seconds\n",
      "\n"
     ]
    },
    {
     "name": "stdout",
     "output_type": "stream",
     "text": [
      "#!/bin/bash\n",
      "#SBATCH --nodes=1\n",
      "#SBATCH --ntasks-per-node=1\n",
      "#SBATCH --cpus-per-task=1\n",
      "#SBATCH --mem-per-cpu=24G\n",
      "#SBATCH --output=slurm_output_libd_chr1-chr1_AA-628982-648981-dynamic-1corestotal-allcorepera-20240411-005437.out\n",
      "#SBATCH --job-name=libd_chr1-chr1_AA-628982-648981-dynamic-1corestotal-allcorepera-20240411-005437\n",
      "module load conda\n",
      "conda activate mwas\n",
      "echo 'Executing Rscript with arguments: Rscript scripts/CLI.R --outdir=./output_chr1_a1/ --snp_data_path=/dcs04/lieber/statsgen/shizhong/michael/mwas/gwas//libd_chr1.pgen --methylation_data_path=/dcs04/lieber/statsgen/shizhong/michael/mwas/pheno/caud/out/chr1_AA.rda --cov=/dcs04/lieber/statsgen/mnagle/mwas/full_covariates/AA_caud.csv --verbose=FALSE --lambda_choice=1se --alphas=0.5 --allow_inefficient_parallelization=FALSE --n_fold=5 --window_sizes=10000 --save_evaluation_results_each_fold=FALSE --save_glmnet_object=FALSE --omit_folds_with_na_r=TRUE --chunk1=628982 --chunk2=648981 --cv_eval_mode=dynamic --num_cores=1 --cores_per_alpha=all --tag=libd_chr1-chr1_AA-628982-648981-dynamic-1corestotal-allcorepera-20240411-005437'\n",
      "Rscript scripts/CLI.R --outdir=./output_chr1_a1/ --snp_data_path=/dcs04/lieber/statsgen/shizhong/michael/mwas/gwas//libd_chr1.pgen --methylation_data_path=/dcs04/lieber/statsgen/shizhong/michael/mwas/pheno/caud/out/chr1_AA.rda --cov=/dcs04/lieber/statsgen/mnagle/mwas/full_covariates/AA_caud.csv --verbose=FALSE --lambda_choice=1se --alphas=0.5 --allow_inefficient_parallelization=FALSE --n_fold=5 --window_sizes=10000 --save_evaluation_results_each_fold=FALSE --save_glmnet_object=FALSE --omit_folds_with_na_r=TRUE --chunk1=628982 --chunk2=648981 --cv_eval_mode=dynamic --num_cores=1 --cores_per_alpha=all --tag=libd_chr1-chr1_AA-628982-648981-dynamic-1corestotal-allcorepera-20240411-005437\n"
     ]
    },
    {
     "name": "stderr",
     "output_type": "stream",
     "text": [
      "Sleeping for 240 seconds\n",
      "\n"
     ]
    },
    {
     "name": "stdout",
     "output_type": "stream",
     "text": [
      "#!/bin/bash\n",
      "#SBATCH --nodes=1\n",
      "#SBATCH --ntasks-per-node=1\n",
      "#SBATCH --cpus-per-task=1\n",
      "#SBATCH --mem-per-cpu=24G\n",
      "#SBATCH --output=slurm_output_libd_chr1-chr1_AA-648982-668981-dynamic-1corestotal-allcorepera-20240411-005837.out\n",
      "#SBATCH --job-name=libd_chr1-chr1_AA-648982-668981-dynamic-1corestotal-allcorepera-20240411-005837\n",
      "module load conda\n",
      "conda activate mwas\n",
      "echo 'Executing Rscript with arguments: Rscript scripts/CLI.R --outdir=./output_chr1_a1/ --snp_data_path=/dcs04/lieber/statsgen/shizhong/michael/mwas/gwas//libd_chr1.pgen --methylation_data_path=/dcs04/lieber/statsgen/shizhong/michael/mwas/pheno/caud/out/chr1_AA.rda --cov=/dcs04/lieber/statsgen/mnagle/mwas/full_covariates/AA_caud.csv --verbose=FALSE --lambda_choice=1se --alphas=0.5 --allow_inefficient_parallelization=FALSE --n_fold=5 --window_sizes=10000 --save_evaluation_results_each_fold=FALSE --save_glmnet_object=FALSE --omit_folds_with_na_r=TRUE --chunk1=648982 --chunk2=668981 --cv_eval_mode=dynamic --num_cores=1 --cores_per_alpha=all --tag=libd_chr1-chr1_AA-648982-668981-dynamic-1corestotal-allcorepera-20240411-005837'\n",
      "Rscript scripts/CLI.R --outdir=./output_chr1_a1/ --snp_data_path=/dcs04/lieber/statsgen/shizhong/michael/mwas/gwas//libd_chr1.pgen --methylation_data_path=/dcs04/lieber/statsgen/shizhong/michael/mwas/pheno/caud/out/chr1_AA.rda --cov=/dcs04/lieber/statsgen/mnagle/mwas/full_covariates/AA_caud.csv --verbose=FALSE --lambda_choice=1se --alphas=0.5 --allow_inefficient_parallelization=FALSE --n_fold=5 --window_sizes=10000 --save_evaluation_results_each_fold=FALSE --save_glmnet_object=FALSE --omit_folds_with_na_r=TRUE --chunk1=648982 --chunk2=668981 --cv_eval_mode=dynamic --num_cores=1 --cores_per_alpha=all --tag=libd_chr1-chr1_AA-648982-668981-dynamic-1corestotal-allcorepera-20240411-005837\n"
     ]
    },
    {
     "name": "stderr",
     "output_type": "stream",
     "text": [
      "Sleeping for 240 seconds\n",
      "\n"
     ]
    },
    {
     "name": "stdout",
     "output_type": "stream",
     "text": [
      "#!/bin/bash\n",
      "#SBATCH --nodes=1\n",
      "#SBATCH --ntasks-per-node=1\n",
      "#SBATCH --cpus-per-task=1\n",
      "#SBATCH --mem-per-cpu=24G\n",
      "#SBATCH --output=slurm_output_libd_chr1-chr1_AA-668982-688981-dynamic-1corestotal-allcorepera-20240411-010237.out\n",
      "#SBATCH --job-name=libd_chr1-chr1_AA-668982-688981-dynamic-1corestotal-allcorepera-20240411-010237\n",
      "module load conda\n",
      "conda activate mwas\n",
      "echo 'Executing Rscript with arguments: Rscript scripts/CLI.R --outdir=./output_chr1_a1/ --snp_data_path=/dcs04/lieber/statsgen/shizhong/michael/mwas/gwas//libd_chr1.pgen --methylation_data_path=/dcs04/lieber/statsgen/shizhong/michael/mwas/pheno/caud/out/chr1_AA.rda --cov=/dcs04/lieber/statsgen/mnagle/mwas/full_covariates/AA_caud.csv --verbose=FALSE --lambda_choice=1se --alphas=0.5 --allow_inefficient_parallelization=FALSE --n_fold=5 --window_sizes=10000 --save_evaluation_results_each_fold=FALSE --save_glmnet_object=FALSE --omit_folds_with_na_r=TRUE --chunk1=668982 --chunk2=688981 --cv_eval_mode=dynamic --num_cores=1 --cores_per_alpha=all --tag=libd_chr1-chr1_AA-668982-688981-dynamic-1corestotal-allcorepera-20240411-010237'\n",
      "Rscript scripts/CLI.R --outdir=./output_chr1_a1/ --snp_data_path=/dcs04/lieber/statsgen/shizhong/michael/mwas/gwas//libd_chr1.pgen --methylation_data_path=/dcs04/lieber/statsgen/shizhong/michael/mwas/pheno/caud/out/chr1_AA.rda --cov=/dcs04/lieber/statsgen/mnagle/mwas/full_covariates/AA_caud.csv --verbose=FALSE --lambda_choice=1se --alphas=0.5 --allow_inefficient_parallelization=FALSE --n_fold=5 --window_sizes=10000 --save_evaluation_results_each_fold=FALSE --save_glmnet_object=FALSE --omit_folds_with_na_r=TRUE --chunk1=668982 --chunk2=688981 --cv_eval_mode=dynamic --num_cores=1 --cores_per_alpha=all --tag=libd_chr1-chr1_AA-668982-688981-dynamic-1corestotal-allcorepera-20240411-010237\n"
     ]
    },
    {
     "name": "stderr",
     "output_type": "stream",
     "text": [
      "Sleeping for 240 seconds\n",
      "\n"
     ]
    },
    {
     "name": "stdout",
     "output_type": "stream",
     "text": [
      "#!/bin/bash\n",
      "#SBATCH --nodes=1\n",
      "#SBATCH --ntasks-per-node=1\n",
      "#SBATCH --cpus-per-task=1\n",
      "#SBATCH --mem-per-cpu=24G\n",
      "#SBATCH --output=slurm_output_libd_chr1-chr1_AA-688982-708981-dynamic-1corestotal-allcorepera-20240411-010637.out\n",
      "#SBATCH --job-name=libd_chr1-chr1_AA-688982-708981-dynamic-1corestotal-allcorepera-20240411-010637\n",
      "module load conda\n",
      "conda activate mwas\n",
      "echo 'Executing Rscript with arguments: Rscript scripts/CLI.R --outdir=./output_chr1_a1/ --snp_data_path=/dcs04/lieber/statsgen/shizhong/michael/mwas/gwas//libd_chr1.pgen --methylation_data_path=/dcs04/lieber/statsgen/shizhong/michael/mwas/pheno/caud/out/chr1_AA.rda --cov=/dcs04/lieber/statsgen/mnagle/mwas/full_covariates/AA_caud.csv --verbose=FALSE --lambda_choice=1se --alphas=0.5 --allow_inefficient_parallelization=FALSE --n_fold=5 --window_sizes=10000 --save_evaluation_results_each_fold=FALSE --save_glmnet_object=FALSE --omit_folds_with_na_r=TRUE --chunk1=688982 --chunk2=708981 --cv_eval_mode=dynamic --num_cores=1 --cores_per_alpha=all --tag=libd_chr1-chr1_AA-688982-708981-dynamic-1corestotal-allcorepera-20240411-010637'\n",
      "Rscript scripts/CLI.R --outdir=./output_chr1_a1/ --snp_data_path=/dcs04/lieber/statsgen/shizhong/michael/mwas/gwas//libd_chr1.pgen --methylation_data_path=/dcs04/lieber/statsgen/shizhong/michael/mwas/pheno/caud/out/chr1_AA.rda --cov=/dcs04/lieber/statsgen/mnagle/mwas/full_covariates/AA_caud.csv --verbose=FALSE --lambda_choice=1se --alphas=0.5 --allow_inefficient_parallelization=FALSE --n_fold=5 --window_sizes=10000 --save_evaluation_results_each_fold=FALSE --save_glmnet_object=FALSE --omit_folds_with_na_r=TRUE --chunk1=688982 --chunk2=708981 --cv_eval_mode=dynamic --num_cores=1 --cores_per_alpha=all --tag=libd_chr1-chr1_AA-688982-708981-dynamic-1corestotal-allcorepera-20240411-010637\n"
     ]
    },
    {
     "name": "stderr",
     "output_type": "stream",
     "text": [
      "Sleeping for 240 seconds\n",
      "\n"
     ]
    },
    {
     "name": "stdout",
     "output_type": "stream",
     "text": [
      "#!/bin/bash\n",
      "#SBATCH --nodes=1\n",
      "#SBATCH --ntasks-per-node=1\n",
      "#SBATCH --cpus-per-task=1\n",
      "#SBATCH --mem-per-cpu=24G\n",
      "#SBATCH --output=slurm_output_libd_chr1-chr1_AA-708982-728981-dynamic-1corestotal-allcorepera-20240411-011037.out\n",
      "#SBATCH --job-name=libd_chr1-chr1_AA-708982-728981-dynamic-1corestotal-allcorepera-20240411-011037\n",
      "module load conda\n",
      "conda activate mwas\n",
      "echo 'Executing Rscript with arguments: Rscript scripts/CLI.R --outdir=./output_chr1_a1/ --snp_data_path=/dcs04/lieber/statsgen/shizhong/michael/mwas/gwas//libd_chr1.pgen --methylation_data_path=/dcs04/lieber/statsgen/shizhong/michael/mwas/pheno/caud/out/chr1_AA.rda --cov=/dcs04/lieber/statsgen/mnagle/mwas/full_covariates/AA_caud.csv --verbose=FALSE --lambda_choice=1se --alphas=0.5 --allow_inefficient_parallelization=FALSE --n_fold=5 --window_sizes=10000 --save_evaluation_results_each_fold=FALSE --save_glmnet_object=FALSE --omit_folds_with_na_r=TRUE --chunk1=708982 --chunk2=728981 --cv_eval_mode=dynamic --num_cores=1 --cores_per_alpha=all --tag=libd_chr1-chr1_AA-708982-728981-dynamic-1corestotal-allcorepera-20240411-011037'\n",
      "Rscript scripts/CLI.R --outdir=./output_chr1_a1/ --snp_data_path=/dcs04/lieber/statsgen/shizhong/michael/mwas/gwas//libd_chr1.pgen --methylation_data_path=/dcs04/lieber/statsgen/shizhong/michael/mwas/pheno/caud/out/chr1_AA.rda --cov=/dcs04/lieber/statsgen/mnagle/mwas/full_covariates/AA_caud.csv --verbose=FALSE --lambda_choice=1se --alphas=0.5 --allow_inefficient_parallelization=FALSE --n_fold=5 --window_sizes=10000 --save_evaluation_results_each_fold=FALSE --save_glmnet_object=FALSE --omit_folds_with_na_r=TRUE --chunk1=708982 --chunk2=728981 --cv_eval_mode=dynamic --num_cores=1 --cores_per_alpha=all --tag=libd_chr1-chr1_AA-708982-728981-dynamic-1corestotal-allcorepera-20240411-011037\n"
     ]
    },
    {
     "name": "stderr",
     "output_type": "stream",
     "text": [
      "Sleeping for 240 seconds\n",
      "\n"
     ]
    },
    {
     "name": "stdout",
     "output_type": "stream",
     "text": [
      "#!/bin/bash\n",
      "#SBATCH --nodes=1\n",
      "#SBATCH --ntasks-per-node=1\n",
      "#SBATCH --cpus-per-task=1\n",
      "#SBATCH --mem-per-cpu=24G\n",
      "#SBATCH --output=slurm_output_libd_chr1-chr1_AA-728982-748981-dynamic-1corestotal-allcorepera-20240411-011438.out\n",
      "#SBATCH --job-name=libd_chr1-chr1_AA-728982-748981-dynamic-1corestotal-allcorepera-20240411-011438\n",
      "module load conda\n",
      "conda activate mwas\n",
      "echo 'Executing Rscript with arguments: Rscript scripts/CLI.R --outdir=./output_chr1_a1/ --snp_data_path=/dcs04/lieber/statsgen/shizhong/michael/mwas/gwas//libd_chr1.pgen --methylation_data_path=/dcs04/lieber/statsgen/shizhong/michael/mwas/pheno/caud/out/chr1_AA.rda --cov=/dcs04/lieber/statsgen/mnagle/mwas/full_covariates/AA_caud.csv --verbose=FALSE --lambda_choice=1se --alphas=0.5 --allow_inefficient_parallelization=FALSE --n_fold=5 --window_sizes=10000 --save_evaluation_results_each_fold=FALSE --save_glmnet_object=FALSE --omit_folds_with_na_r=TRUE --chunk1=728982 --chunk2=748981 --cv_eval_mode=dynamic --num_cores=1 --cores_per_alpha=all --tag=libd_chr1-chr1_AA-728982-748981-dynamic-1corestotal-allcorepera-20240411-011438'\n",
      "Rscript scripts/CLI.R --outdir=./output_chr1_a1/ --snp_data_path=/dcs04/lieber/statsgen/shizhong/michael/mwas/gwas//libd_chr1.pgen --methylation_data_path=/dcs04/lieber/statsgen/shizhong/michael/mwas/pheno/caud/out/chr1_AA.rda --cov=/dcs04/lieber/statsgen/mnagle/mwas/full_covariates/AA_caud.csv --verbose=FALSE --lambda_choice=1se --alphas=0.5 --allow_inefficient_parallelization=FALSE --n_fold=5 --window_sizes=10000 --save_evaluation_results_each_fold=FALSE --save_glmnet_object=FALSE --omit_folds_with_na_r=TRUE --chunk1=728982 --chunk2=748981 --cv_eval_mode=dynamic --num_cores=1 --cores_per_alpha=all --tag=libd_chr1-chr1_AA-728982-748981-dynamic-1corestotal-allcorepera-20240411-011438\n"
     ]
    },
    {
     "name": "stderr",
     "output_type": "stream",
     "text": [
      "Sleeping for 240 seconds\n",
      "\n"
     ]
    },
    {
     "name": "stdout",
     "output_type": "stream",
     "text": [
      "#!/bin/bash\n",
      "#SBATCH --nodes=1\n",
      "#SBATCH --ntasks-per-node=1\n",
      "#SBATCH --cpus-per-task=1\n",
      "#SBATCH --mem-per-cpu=24G\n",
      "#SBATCH --output=slurm_output_libd_chr1-chr1_AA-748982-768981-dynamic-1corestotal-allcorepera-20240411-011838.out\n",
      "#SBATCH --job-name=libd_chr1-chr1_AA-748982-768981-dynamic-1corestotal-allcorepera-20240411-011838\n",
      "module load conda\n",
      "conda activate mwas\n",
      "echo 'Executing Rscript with arguments: Rscript scripts/CLI.R --outdir=./output_chr1_a1/ --snp_data_path=/dcs04/lieber/statsgen/shizhong/michael/mwas/gwas//libd_chr1.pgen --methylation_data_path=/dcs04/lieber/statsgen/shizhong/michael/mwas/pheno/caud/out/chr1_AA.rda --cov=/dcs04/lieber/statsgen/mnagle/mwas/full_covariates/AA_caud.csv --verbose=FALSE --lambda_choice=1se --alphas=0.5 --allow_inefficient_parallelization=FALSE --n_fold=5 --window_sizes=10000 --save_evaluation_results_each_fold=FALSE --save_glmnet_object=FALSE --omit_folds_with_na_r=TRUE --chunk1=748982 --chunk2=768981 --cv_eval_mode=dynamic --num_cores=1 --cores_per_alpha=all --tag=libd_chr1-chr1_AA-748982-768981-dynamic-1corestotal-allcorepera-20240411-011838'\n",
      "Rscript scripts/CLI.R --outdir=./output_chr1_a1/ --snp_data_path=/dcs04/lieber/statsgen/shizhong/michael/mwas/gwas//libd_chr1.pgen --methylation_data_path=/dcs04/lieber/statsgen/shizhong/michael/mwas/pheno/caud/out/chr1_AA.rda --cov=/dcs04/lieber/statsgen/mnagle/mwas/full_covariates/AA_caud.csv --verbose=FALSE --lambda_choice=1se --alphas=0.5 --allow_inefficient_parallelization=FALSE --n_fold=5 --window_sizes=10000 --save_evaluation_results_each_fold=FALSE --save_glmnet_object=FALSE --omit_folds_with_na_r=TRUE --chunk1=748982 --chunk2=768981 --cv_eval_mode=dynamic --num_cores=1 --cores_per_alpha=all --tag=libd_chr1-chr1_AA-748982-768981-dynamic-1corestotal-allcorepera-20240411-011838\n"
     ]
    },
    {
     "name": "stderr",
     "output_type": "stream",
     "text": [
      "Sleeping for 240 seconds\n",
      "\n"
     ]
    },
    {
     "name": "stdout",
     "output_type": "stream",
     "text": [
      "#!/bin/bash\n",
      "#SBATCH --nodes=1\n",
      "#SBATCH --ntasks-per-node=1\n",
      "#SBATCH --cpus-per-task=1\n",
      "#SBATCH --mem-per-cpu=24G\n",
      "#SBATCH --output=slurm_output_libd_chr1-chr1_AA-768982-788981-dynamic-1corestotal-allcorepera-20240411-012238.out\n",
      "#SBATCH --job-name=libd_chr1-chr1_AA-768982-788981-dynamic-1corestotal-allcorepera-20240411-012238\n",
      "module load conda\n",
      "conda activate mwas\n",
      "echo 'Executing Rscript with arguments: Rscript scripts/CLI.R --outdir=./output_chr1_a1/ --snp_data_path=/dcs04/lieber/statsgen/shizhong/michael/mwas/gwas//libd_chr1.pgen --methylation_data_path=/dcs04/lieber/statsgen/shizhong/michael/mwas/pheno/caud/out/chr1_AA.rda --cov=/dcs04/lieber/statsgen/mnagle/mwas/full_covariates/AA_caud.csv --verbose=FALSE --lambda_choice=1se --alphas=0.5 --allow_inefficient_parallelization=FALSE --n_fold=5 --window_sizes=10000 --save_evaluation_results_each_fold=FALSE --save_glmnet_object=FALSE --omit_folds_with_na_r=TRUE --chunk1=768982 --chunk2=788981 --cv_eval_mode=dynamic --num_cores=1 --cores_per_alpha=all --tag=libd_chr1-chr1_AA-768982-788981-dynamic-1corestotal-allcorepera-20240411-012238'\n",
      "Rscript scripts/CLI.R --outdir=./output_chr1_a1/ --snp_data_path=/dcs04/lieber/statsgen/shizhong/michael/mwas/gwas//libd_chr1.pgen --methylation_data_path=/dcs04/lieber/statsgen/shizhong/michael/mwas/pheno/caud/out/chr1_AA.rda --cov=/dcs04/lieber/statsgen/mnagle/mwas/full_covariates/AA_caud.csv --verbose=FALSE --lambda_choice=1se --alphas=0.5 --allow_inefficient_parallelization=FALSE --n_fold=5 --window_sizes=10000 --save_evaluation_results_each_fold=FALSE --save_glmnet_object=FALSE --omit_folds_with_na_r=TRUE --chunk1=768982 --chunk2=788981 --cv_eval_mode=dynamic --num_cores=1 --cores_per_alpha=all --tag=libd_chr1-chr1_AA-768982-788981-dynamic-1corestotal-allcorepera-20240411-012238\n"
     ]
    },
    {
     "name": "stderr",
     "output_type": "stream",
     "text": [
      "Sleeping for 240 seconds\n",
      "\n"
     ]
    },
    {
     "name": "stdout",
     "output_type": "stream",
     "text": [
      "#!/bin/bash\n",
      "#SBATCH --nodes=1\n",
      "#SBATCH --ntasks-per-node=1\n",
      "#SBATCH --cpus-per-task=1\n",
      "#SBATCH --mem-per-cpu=24G\n",
      "#SBATCH --output=slurm_output_libd_chr1-chr1_AA-788982-808981-dynamic-1corestotal-allcorepera-20240411-012638.out\n",
      "#SBATCH --job-name=libd_chr1-chr1_AA-788982-808981-dynamic-1corestotal-allcorepera-20240411-012638\n",
      "module load conda\n",
      "conda activate mwas\n",
      "echo 'Executing Rscript with arguments: Rscript scripts/CLI.R --outdir=./output_chr1_a1/ --snp_data_path=/dcs04/lieber/statsgen/shizhong/michael/mwas/gwas//libd_chr1.pgen --methylation_data_path=/dcs04/lieber/statsgen/shizhong/michael/mwas/pheno/caud/out/chr1_AA.rda --cov=/dcs04/lieber/statsgen/mnagle/mwas/full_covariates/AA_caud.csv --verbose=FALSE --lambda_choice=1se --alphas=0.5 --allow_inefficient_parallelization=FALSE --n_fold=5 --window_sizes=10000 --save_evaluation_results_each_fold=FALSE --save_glmnet_object=FALSE --omit_folds_with_na_r=TRUE --chunk1=788982 --chunk2=808981 --cv_eval_mode=dynamic --num_cores=1 --cores_per_alpha=all --tag=libd_chr1-chr1_AA-788982-808981-dynamic-1corestotal-allcorepera-20240411-012638'\n",
      "Rscript scripts/CLI.R --outdir=./output_chr1_a1/ --snp_data_path=/dcs04/lieber/statsgen/shizhong/michael/mwas/gwas//libd_chr1.pgen --methylation_data_path=/dcs04/lieber/statsgen/shizhong/michael/mwas/pheno/caud/out/chr1_AA.rda --cov=/dcs04/lieber/statsgen/mnagle/mwas/full_covariates/AA_caud.csv --verbose=FALSE --lambda_choice=1se --alphas=0.5 --allow_inefficient_parallelization=FALSE --n_fold=5 --window_sizes=10000 --save_evaluation_results_each_fold=FALSE --save_glmnet_object=FALSE --omit_folds_with_na_r=TRUE --chunk1=788982 --chunk2=808981 --cv_eval_mode=dynamic --num_cores=1 --cores_per_alpha=all --tag=libd_chr1-chr1_AA-788982-808981-dynamic-1corestotal-allcorepera-20240411-012638\n"
     ]
    },
    {
     "name": "stderr",
     "output_type": "stream",
     "text": [
      "Sleeping for 240 seconds\n",
      "\n"
     ]
    },
    {
     "name": "stdout",
     "output_type": "stream",
     "text": [
      "#!/bin/bash\n",
      "#SBATCH --nodes=1\n",
      "#SBATCH --ntasks-per-node=1\n",
      "#SBATCH --cpus-per-task=1\n",
      "#SBATCH --mem-per-cpu=24G\n",
      "#SBATCH --output=slurm_output_libd_chr1-chr1_AA-808982-828981-dynamic-1corestotal-allcorepera-20240411-013038.out\n",
      "#SBATCH --job-name=libd_chr1-chr1_AA-808982-828981-dynamic-1corestotal-allcorepera-20240411-013038\n",
      "module load conda\n",
      "conda activate mwas\n",
      "echo 'Executing Rscript with arguments: Rscript scripts/CLI.R --outdir=./output_chr1_a1/ --snp_data_path=/dcs04/lieber/statsgen/shizhong/michael/mwas/gwas//libd_chr1.pgen --methylation_data_path=/dcs04/lieber/statsgen/shizhong/michael/mwas/pheno/caud/out/chr1_AA.rda --cov=/dcs04/lieber/statsgen/mnagle/mwas/full_covariates/AA_caud.csv --verbose=FALSE --lambda_choice=1se --alphas=0.5 --allow_inefficient_parallelization=FALSE --n_fold=5 --window_sizes=10000 --save_evaluation_results_each_fold=FALSE --save_glmnet_object=FALSE --omit_folds_with_na_r=TRUE --chunk1=808982 --chunk2=828981 --cv_eval_mode=dynamic --num_cores=1 --cores_per_alpha=all --tag=libd_chr1-chr1_AA-808982-828981-dynamic-1corestotal-allcorepera-20240411-013038'\n",
      "Rscript scripts/CLI.R --outdir=./output_chr1_a1/ --snp_data_path=/dcs04/lieber/statsgen/shizhong/michael/mwas/gwas//libd_chr1.pgen --methylation_data_path=/dcs04/lieber/statsgen/shizhong/michael/mwas/pheno/caud/out/chr1_AA.rda --cov=/dcs04/lieber/statsgen/mnagle/mwas/full_covariates/AA_caud.csv --verbose=FALSE --lambda_choice=1se --alphas=0.5 --allow_inefficient_parallelization=FALSE --n_fold=5 --window_sizes=10000 --save_evaluation_results_each_fold=FALSE --save_glmnet_object=FALSE --omit_folds_with_na_r=TRUE --chunk1=808982 --chunk2=828981 --cv_eval_mode=dynamic --num_cores=1 --cores_per_alpha=all --tag=libd_chr1-chr1_AA-808982-828981-dynamic-1corestotal-allcorepera-20240411-013038\n"
     ]
    },
    {
     "name": "stderr",
     "output_type": "stream",
     "text": [
      "Sleeping for 240 seconds\n",
      "\n"
     ]
    },
    {
     "name": "stdout",
     "output_type": "stream",
     "text": [
      "#!/bin/bash\n",
      "#SBATCH --nodes=1\n",
      "#SBATCH --ntasks-per-node=1\n",
      "#SBATCH --cpus-per-task=1\n",
      "#SBATCH --mem-per-cpu=24G\n",
      "#SBATCH --output=slurm_output_libd_chr1-chr1_AA-828982-848981-dynamic-1corestotal-allcorepera-20240411-013438.out\n",
      "#SBATCH --job-name=libd_chr1-chr1_AA-828982-848981-dynamic-1corestotal-allcorepera-20240411-013438\n",
      "module load conda\n",
      "conda activate mwas\n",
      "echo 'Executing Rscript with arguments: Rscript scripts/CLI.R --outdir=./output_chr1_a1/ --snp_data_path=/dcs04/lieber/statsgen/shizhong/michael/mwas/gwas//libd_chr1.pgen --methylation_data_path=/dcs04/lieber/statsgen/shizhong/michael/mwas/pheno/caud/out/chr1_AA.rda --cov=/dcs04/lieber/statsgen/mnagle/mwas/full_covariates/AA_caud.csv --verbose=FALSE --lambda_choice=1se --alphas=0.5 --allow_inefficient_parallelization=FALSE --n_fold=5 --window_sizes=10000 --save_evaluation_results_each_fold=FALSE --save_glmnet_object=FALSE --omit_folds_with_na_r=TRUE --chunk1=828982 --chunk2=848981 --cv_eval_mode=dynamic --num_cores=1 --cores_per_alpha=all --tag=libd_chr1-chr1_AA-828982-848981-dynamic-1corestotal-allcorepera-20240411-013438'\n",
      "Rscript scripts/CLI.R --outdir=./output_chr1_a1/ --snp_data_path=/dcs04/lieber/statsgen/shizhong/michael/mwas/gwas//libd_chr1.pgen --methylation_data_path=/dcs04/lieber/statsgen/shizhong/michael/mwas/pheno/caud/out/chr1_AA.rda --cov=/dcs04/lieber/statsgen/mnagle/mwas/full_covariates/AA_caud.csv --verbose=FALSE --lambda_choice=1se --alphas=0.5 --allow_inefficient_parallelization=FALSE --n_fold=5 --window_sizes=10000 --save_evaluation_results_each_fold=FALSE --save_glmnet_object=FALSE --omit_folds_with_na_r=TRUE --chunk1=828982 --chunk2=848981 --cv_eval_mode=dynamic --num_cores=1 --cores_per_alpha=all --tag=libd_chr1-chr1_AA-828982-848981-dynamic-1corestotal-allcorepera-20240411-013438\n"
     ]
    },
    {
     "name": "stderr",
     "output_type": "stream",
     "text": [
      "Sleeping for 240 seconds\n",
      "\n"
     ]
    },
    {
     "name": "stdout",
     "output_type": "stream",
     "text": [
      "#!/bin/bash\n",
      "#SBATCH --nodes=1\n",
      "#SBATCH --ntasks-per-node=1\n",
      "#SBATCH --cpus-per-task=1\n",
      "#SBATCH --mem-per-cpu=24G\n",
      "#SBATCH --output=slurm_output_libd_chr1-chr1_AA-848982-868981-dynamic-1corestotal-allcorepera-20240411-013839.out\n",
      "#SBATCH --job-name=libd_chr1-chr1_AA-848982-868981-dynamic-1corestotal-allcorepera-20240411-013839\n",
      "module load conda\n",
      "conda activate mwas\n",
      "echo 'Executing Rscript with arguments: Rscript scripts/CLI.R --outdir=./output_chr1_a1/ --snp_data_path=/dcs04/lieber/statsgen/shizhong/michael/mwas/gwas//libd_chr1.pgen --methylation_data_path=/dcs04/lieber/statsgen/shizhong/michael/mwas/pheno/caud/out/chr1_AA.rda --cov=/dcs04/lieber/statsgen/mnagle/mwas/full_covariates/AA_caud.csv --verbose=FALSE --lambda_choice=1se --alphas=0.5 --allow_inefficient_parallelization=FALSE --n_fold=5 --window_sizes=10000 --save_evaluation_results_each_fold=FALSE --save_glmnet_object=FALSE --omit_folds_with_na_r=TRUE --chunk1=848982 --chunk2=868981 --cv_eval_mode=dynamic --num_cores=1 --cores_per_alpha=all --tag=libd_chr1-chr1_AA-848982-868981-dynamic-1corestotal-allcorepera-20240411-013839'\n",
      "Rscript scripts/CLI.R --outdir=./output_chr1_a1/ --snp_data_path=/dcs04/lieber/statsgen/shizhong/michael/mwas/gwas//libd_chr1.pgen --methylation_data_path=/dcs04/lieber/statsgen/shizhong/michael/mwas/pheno/caud/out/chr1_AA.rda --cov=/dcs04/lieber/statsgen/mnagle/mwas/full_covariates/AA_caud.csv --verbose=FALSE --lambda_choice=1se --alphas=0.5 --allow_inefficient_parallelization=FALSE --n_fold=5 --window_sizes=10000 --save_evaluation_results_each_fold=FALSE --save_glmnet_object=FALSE --omit_folds_with_na_r=TRUE --chunk1=848982 --chunk2=868981 --cv_eval_mode=dynamic --num_cores=1 --cores_per_alpha=all --tag=libd_chr1-chr1_AA-848982-868981-dynamic-1corestotal-allcorepera-20240411-013839\n"
     ]
    },
    {
     "name": "stderr",
     "output_type": "stream",
     "text": [
      "Sleeping for 240 seconds\n",
      "\n"
     ]
    },
    {
     "name": "stdout",
     "output_type": "stream",
     "text": [
      "#!/bin/bash\n",
      "#SBATCH --nodes=1\n",
      "#SBATCH --ntasks-per-node=1\n",
      "#SBATCH --cpus-per-task=1\n",
      "#SBATCH --mem-per-cpu=24G\n",
      "#SBATCH --output=slurm_output_libd_chr1-chr1_AA-868982-888981-dynamic-1corestotal-allcorepera-20240411-014239.out\n",
      "#SBATCH --job-name=libd_chr1-chr1_AA-868982-888981-dynamic-1corestotal-allcorepera-20240411-014239\n",
      "module load conda\n",
      "conda activate mwas\n",
      "echo 'Executing Rscript with arguments: Rscript scripts/CLI.R --outdir=./output_chr1_a1/ --snp_data_path=/dcs04/lieber/statsgen/shizhong/michael/mwas/gwas//libd_chr1.pgen --methylation_data_path=/dcs04/lieber/statsgen/shizhong/michael/mwas/pheno/caud/out/chr1_AA.rda --cov=/dcs04/lieber/statsgen/mnagle/mwas/full_covariates/AA_caud.csv --verbose=FALSE --lambda_choice=1se --alphas=0.5 --allow_inefficient_parallelization=FALSE --n_fold=5 --window_sizes=10000 --save_evaluation_results_each_fold=FALSE --save_glmnet_object=FALSE --omit_folds_with_na_r=TRUE --chunk1=868982 --chunk2=888981 --cv_eval_mode=dynamic --num_cores=1 --cores_per_alpha=all --tag=libd_chr1-chr1_AA-868982-888981-dynamic-1corestotal-allcorepera-20240411-014239'\n",
      "Rscript scripts/CLI.R --outdir=./output_chr1_a1/ --snp_data_path=/dcs04/lieber/statsgen/shizhong/michael/mwas/gwas//libd_chr1.pgen --methylation_data_path=/dcs04/lieber/statsgen/shizhong/michael/mwas/pheno/caud/out/chr1_AA.rda --cov=/dcs04/lieber/statsgen/mnagle/mwas/full_covariates/AA_caud.csv --verbose=FALSE --lambda_choice=1se --alphas=0.5 --allow_inefficient_parallelization=FALSE --n_fold=5 --window_sizes=10000 --save_evaluation_results_each_fold=FALSE --save_glmnet_object=FALSE --omit_folds_with_na_r=TRUE --chunk1=868982 --chunk2=888981 --cv_eval_mode=dynamic --num_cores=1 --cores_per_alpha=all --tag=libd_chr1-chr1_AA-868982-888981-dynamic-1corestotal-allcorepera-20240411-014239\n"
     ]
    },
    {
     "name": "stderr",
     "output_type": "stream",
     "text": [
      "Sleeping for 240 seconds\n",
      "\n"
     ]
    },
    {
     "name": "stdout",
     "output_type": "stream",
     "text": [
      "#!/bin/bash\n",
      "#SBATCH --nodes=1\n",
      "#SBATCH --ntasks-per-node=1\n",
      "#SBATCH --cpus-per-task=1\n",
      "#SBATCH --mem-per-cpu=24G\n",
      "#SBATCH --output=slurm_output_libd_chr1-chr1_AA-888982-908981-dynamic-1corestotal-allcorepera-20240411-014639.out\n",
      "#SBATCH --job-name=libd_chr1-chr1_AA-888982-908981-dynamic-1corestotal-allcorepera-20240411-014639\n",
      "module load conda\n",
      "conda activate mwas\n",
      "echo 'Executing Rscript with arguments: Rscript scripts/CLI.R --outdir=./output_chr1_a1/ --snp_data_path=/dcs04/lieber/statsgen/shizhong/michael/mwas/gwas//libd_chr1.pgen --methylation_data_path=/dcs04/lieber/statsgen/shizhong/michael/mwas/pheno/caud/out/chr1_AA.rda --cov=/dcs04/lieber/statsgen/mnagle/mwas/full_covariates/AA_caud.csv --verbose=FALSE --lambda_choice=1se --alphas=0.5 --allow_inefficient_parallelization=FALSE --n_fold=5 --window_sizes=10000 --save_evaluation_results_each_fold=FALSE --save_glmnet_object=FALSE --omit_folds_with_na_r=TRUE --chunk1=888982 --chunk2=908981 --cv_eval_mode=dynamic --num_cores=1 --cores_per_alpha=all --tag=libd_chr1-chr1_AA-888982-908981-dynamic-1corestotal-allcorepera-20240411-014639'\n",
      "Rscript scripts/CLI.R --outdir=./output_chr1_a1/ --snp_data_path=/dcs04/lieber/statsgen/shizhong/michael/mwas/gwas//libd_chr1.pgen --methylation_data_path=/dcs04/lieber/statsgen/shizhong/michael/mwas/pheno/caud/out/chr1_AA.rda --cov=/dcs04/lieber/statsgen/mnagle/mwas/full_covariates/AA_caud.csv --verbose=FALSE --lambda_choice=1se --alphas=0.5 --allow_inefficient_parallelization=FALSE --n_fold=5 --window_sizes=10000 --save_evaluation_results_each_fold=FALSE --save_glmnet_object=FALSE --omit_folds_with_na_r=TRUE --chunk1=888982 --chunk2=908981 --cv_eval_mode=dynamic --num_cores=1 --cores_per_alpha=all --tag=libd_chr1-chr1_AA-888982-908981-dynamic-1corestotal-allcorepera-20240411-014639\n"
     ]
    },
    {
     "name": "stderr",
     "output_type": "stream",
     "text": [
      "Sleeping for 240 seconds\n",
      "\n"
     ]
    },
    {
     "name": "stdout",
     "output_type": "stream",
     "text": [
      "#!/bin/bash\n",
      "#SBATCH --nodes=1\n",
      "#SBATCH --ntasks-per-node=1\n",
      "#SBATCH --cpus-per-task=1\n",
      "#SBATCH --mem-per-cpu=24G\n",
      "#SBATCH --output=slurm_output_libd_chr1-chr1_AA-908982-928981-dynamic-1corestotal-allcorepera-20240411-015039.out\n",
      "#SBATCH --job-name=libd_chr1-chr1_AA-908982-928981-dynamic-1corestotal-allcorepera-20240411-015039\n",
      "module load conda\n",
      "conda activate mwas\n",
      "echo 'Executing Rscript with arguments: Rscript scripts/CLI.R --outdir=./output_chr1_a1/ --snp_data_path=/dcs04/lieber/statsgen/shizhong/michael/mwas/gwas//libd_chr1.pgen --methylation_data_path=/dcs04/lieber/statsgen/shizhong/michael/mwas/pheno/caud/out/chr1_AA.rda --cov=/dcs04/lieber/statsgen/mnagle/mwas/full_covariates/AA_caud.csv --verbose=FALSE --lambda_choice=1se --alphas=0.5 --allow_inefficient_parallelization=FALSE --n_fold=5 --window_sizes=10000 --save_evaluation_results_each_fold=FALSE --save_glmnet_object=FALSE --omit_folds_with_na_r=TRUE --chunk1=908982 --chunk2=928981 --cv_eval_mode=dynamic --num_cores=1 --cores_per_alpha=all --tag=libd_chr1-chr1_AA-908982-928981-dynamic-1corestotal-allcorepera-20240411-015039'\n",
      "Rscript scripts/CLI.R --outdir=./output_chr1_a1/ --snp_data_path=/dcs04/lieber/statsgen/shizhong/michael/mwas/gwas//libd_chr1.pgen --methylation_data_path=/dcs04/lieber/statsgen/shizhong/michael/mwas/pheno/caud/out/chr1_AA.rda --cov=/dcs04/lieber/statsgen/mnagle/mwas/full_covariates/AA_caud.csv --verbose=FALSE --lambda_choice=1se --alphas=0.5 --allow_inefficient_parallelization=FALSE --n_fold=5 --window_sizes=10000 --save_evaluation_results_each_fold=FALSE --save_glmnet_object=FALSE --omit_folds_with_na_r=TRUE --chunk1=908982 --chunk2=928981 --cv_eval_mode=dynamic --num_cores=1 --cores_per_alpha=all --tag=libd_chr1-chr1_AA-908982-928981-dynamic-1corestotal-allcorepera-20240411-015039\n"
     ]
    },
    {
     "name": "stderr",
     "output_type": "stream",
     "text": [
      "Sleeping for 240 seconds\n",
      "\n"
     ]
    },
    {
     "name": "stdout",
     "output_type": "stream",
     "text": [
      "#!/bin/bash\n",
      "#SBATCH --nodes=1\n",
      "#SBATCH --ntasks-per-node=1\n",
      "#SBATCH --cpus-per-task=1\n",
      "#SBATCH --mem-per-cpu=24G\n",
      "#SBATCH --output=slurm_output_libd_chr1-chr1_AA-928982-948981-dynamic-1corestotal-allcorepera-20240411-015439.out\n",
      "#SBATCH --job-name=libd_chr1-chr1_AA-928982-948981-dynamic-1corestotal-allcorepera-20240411-015439\n",
      "module load conda\n",
      "conda activate mwas\n",
      "echo 'Executing Rscript with arguments: Rscript scripts/CLI.R --outdir=./output_chr1_a1/ --snp_data_path=/dcs04/lieber/statsgen/shizhong/michael/mwas/gwas//libd_chr1.pgen --methylation_data_path=/dcs04/lieber/statsgen/shizhong/michael/mwas/pheno/caud/out/chr1_AA.rda --cov=/dcs04/lieber/statsgen/mnagle/mwas/full_covariates/AA_caud.csv --verbose=FALSE --lambda_choice=1se --alphas=0.5 --allow_inefficient_parallelization=FALSE --n_fold=5 --window_sizes=10000 --save_evaluation_results_each_fold=FALSE --save_glmnet_object=FALSE --omit_folds_with_na_r=TRUE --chunk1=928982 --chunk2=948981 --cv_eval_mode=dynamic --num_cores=1 --cores_per_alpha=all --tag=libd_chr1-chr1_AA-928982-948981-dynamic-1corestotal-allcorepera-20240411-015439'\n",
      "Rscript scripts/CLI.R --outdir=./output_chr1_a1/ --snp_data_path=/dcs04/lieber/statsgen/shizhong/michael/mwas/gwas//libd_chr1.pgen --methylation_data_path=/dcs04/lieber/statsgen/shizhong/michael/mwas/pheno/caud/out/chr1_AA.rda --cov=/dcs04/lieber/statsgen/mnagle/mwas/full_covariates/AA_caud.csv --verbose=FALSE --lambda_choice=1se --alphas=0.5 --allow_inefficient_parallelization=FALSE --n_fold=5 --window_sizes=10000 --save_evaluation_results_each_fold=FALSE --save_glmnet_object=FALSE --omit_folds_with_na_r=TRUE --chunk1=928982 --chunk2=948981 --cv_eval_mode=dynamic --num_cores=1 --cores_per_alpha=all --tag=libd_chr1-chr1_AA-928982-948981-dynamic-1corestotal-allcorepera-20240411-015439\n"
     ]
    },
    {
     "name": "stderr",
     "output_type": "stream",
     "text": [
      "Sleeping for 240 seconds\n",
      "\n"
     ]
    },
    {
     "name": "stdout",
     "output_type": "stream",
     "text": [
      "#!/bin/bash\n",
      "#SBATCH --nodes=1\n",
      "#SBATCH --ntasks-per-node=1\n",
      "#SBATCH --cpus-per-task=1\n",
      "#SBATCH --mem-per-cpu=24G\n",
      "#SBATCH --output=slurm_output_libd_chr1-chr1_AA-948982-968981-dynamic-1corestotal-allcorepera-20240411-015839.out\n",
      "#SBATCH --job-name=libd_chr1-chr1_AA-948982-968981-dynamic-1corestotal-allcorepera-20240411-015839\n",
      "module load conda\n",
      "conda activate mwas\n",
      "echo 'Executing Rscript with arguments: Rscript scripts/CLI.R --outdir=./output_chr1_a1/ --snp_data_path=/dcs04/lieber/statsgen/shizhong/michael/mwas/gwas//libd_chr1.pgen --methylation_data_path=/dcs04/lieber/statsgen/shizhong/michael/mwas/pheno/caud/out/chr1_AA.rda --cov=/dcs04/lieber/statsgen/mnagle/mwas/full_covariates/AA_caud.csv --verbose=FALSE --lambda_choice=1se --alphas=0.5 --allow_inefficient_parallelization=FALSE --n_fold=5 --window_sizes=10000 --save_evaluation_results_each_fold=FALSE --save_glmnet_object=FALSE --omit_folds_with_na_r=TRUE --chunk1=948982 --chunk2=968981 --cv_eval_mode=dynamic --num_cores=1 --cores_per_alpha=all --tag=libd_chr1-chr1_AA-948982-968981-dynamic-1corestotal-allcorepera-20240411-015839'\n",
      "Rscript scripts/CLI.R --outdir=./output_chr1_a1/ --snp_data_path=/dcs04/lieber/statsgen/shizhong/michael/mwas/gwas//libd_chr1.pgen --methylation_data_path=/dcs04/lieber/statsgen/shizhong/michael/mwas/pheno/caud/out/chr1_AA.rda --cov=/dcs04/lieber/statsgen/mnagle/mwas/full_covariates/AA_caud.csv --verbose=FALSE --lambda_choice=1se --alphas=0.5 --allow_inefficient_parallelization=FALSE --n_fold=5 --window_sizes=10000 --save_evaluation_results_each_fold=FALSE --save_glmnet_object=FALSE --omit_folds_with_na_r=TRUE --chunk1=948982 --chunk2=968981 --cv_eval_mode=dynamic --num_cores=1 --cores_per_alpha=all --tag=libd_chr1-chr1_AA-948982-968981-dynamic-1corestotal-allcorepera-20240411-015839\n"
     ]
    },
    {
     "name": "stderr",
     "output_type": "stream",
     "text": [
      "Sleeping for 240 seconds\n",
      "\n"
     ]
    },
    {
     "name": "stdout",
     "output_type": "stream",
     "text": [
      "#!/bin/bash\n",
      "#SBATCH --nodes=1\n",
      "#SBATCH --ntasks-per-node=1\n",
      "#SBATCH --cpus-per-task=1\n",
      "#SBATCH --mem-per-cpu=24G\n",
      "#SBATCH --output=slurm_output_libd_chr1-chr1_AA-968982-988981-dynamic-1corestotal-allcorepera-20240411-020239.out\n",
      "#SBATCH --job-name=libd_chr1-chr1_AA-968982-988981-dynamic-1corestotal-allcorepera-20240411-020239\n",
      "module load conda\n",
      "conda activate mwas\n",
      "echo 'Executing Rscript with arguments: Rscript scripts/CLI.R --outdir=./output_chr1_a1/ --snp_data_path=/dcs04/lieber/statsgen/shizhong/michael/mwas/gwas//libd_chr1.pgen --methylation_data_path=/dcs04/lieber/statsgen/shizhong/michael/mwas/pheno/caud/out/chr1_AA.rda --cov=/dcs04/lieber/statsgen/mnagle/mwas/full_covariates/AA_caud.csv --verbose=FALSE --lambda_choice=1se --alphas=0.5 --allow_inefficient_parallelization=FALSE --n_fold=5 --window_sizes=10000 --save_evaluation_results_each_fold=FALSE --save_glmnet_object=FALSE --omit_folds_with_na_r=TRUE --chunk1=968982 --chunk2=988981 --cv_eval_mode=dynamic --num_cores=1 --cores_per_alpha=all --tag=libd_chr1-chr1_AA-968982-988981-dynamic-1corestotal-allcorepera-20240411-020239'\n",
      "Rscript scripts/CLI.R --outdir=./output_chr1_a1/ --snp_data_path=/dcs04/lieber/statsgen/shizhong/michael/mwas/gwas//libd_chr1.pgen --methylation_data_path=/dcs04/lieber/statsgen/shizhong/michael/mwas/pheno/caud/out/chr1_AA.rda --cov=/dcs04/lieber/statsgen/mnagle/mwas/full_covariates/AA_caud.csv --verbose=FALSE --lambda_choice=1se --alphas=0.5 --allow_inefficient_parallelization=FALSE --n_fold=5 --window_sizes=10000 --save_evaluation_results_each_fold=FALSE --save_glmnet_object=FALSE --omit_folds_with_na_r=TRUE --chunk1=968982 --chunk2=988981 --cv_eval_mode=dynamic --num_cores=1 --cores_per_alpha=all --tag=libd_chr1-chr1_AA-968982-988981-dynamic-1corestotal-allcorepera-20240411-020239\n"
     ]
    },
    {
     "name": "stderr",
     "output_type": "stream",
     "text": [
      "Sleeping for 240 seconds\n",
      "\n"
     ]
    },
    {
     "name": "stdout",
     "output_type": "stream",
     "text": [
      "#!/bin/bash\n",
      "#SBATCH --nodes=1\n",
      "#SBATCH --ntasks-per-node=1\n",
      "#SBATCH --cpus-per-task=1\n",
      "#SBATCH --mem-per-cpu=24G\n",
      "#SBATCH --output=slurm_output_libd_chr1-chr1_AA-988982-1008981-dynamic-1corestotal-allcorepera-20240411-020640.out\n",
      "#SBATCH --job-name=libd_chr1-chr1_AA-988982-1008981-dynamic-1corestotal-allcorepera-20240411-020640\n",
      "module load conda\n",
      "conda activate mwas\n",
      "echo 'Executing Rscript with arguments: Rscript scripts/CLI.R --outdir=./output_chr1_a1/ --snp_data_path=/dcs04/lieber/statsgen/shizhong/michael/mwas/gwas//libd_chr1.pgen --methylation_data_path=/dcs04/lieber/statsgen/shizhong/michael/mwas/pheno/caud/out/chr1_AA.rda --cov=/dcs04/lieber/statsgen/mnagle/mwas/full_covariates/AA_caud.csv --verbose=FALSE --lambda_choice=1se --alphas=0.5 --allow_inefficient_parallelization=FALSE --n_fold=5 --window_sizes=10000 --save_evaluation_results_each_fold=FALSE --save_glmnet_object=FALSE --omit_folds_with_na_r=TRUE --chunk1=988982 --chunk2=1008981 --cv_eval_mode=dynamic --num_cores=1 --cores_per_alpha=all --tag=libd_chr1-chr1_AA-988982-1008981-dynamic-1corestotal-allcorepera-20240411-020640'\n",
      "Rscript scripts/CLI.R --outdir=./output_chr1_a1/ --snp_data_path=/dcs04/lieber/statsgen/shizhong/michael/mwas/gwas//libd_chr1.pgen --methylation_data_path=/dcs04/lieber/statsgen/shizhong/michael/mwas/pheno/caud/out/chr1_AA.rda --cov=/dcs04/lieber/statsgen/mnagle/mwas/full_covariates/AA_caud.csv --verbose=FALSE --lambda_choice=1se --alphas=0.5 --allow_inefficient_parallelization=FALSE --n_fold=5 --window_sizes=10000 --save_evaluation_results_each_fold=FALSE --save_glmnet_object=FALSE --omit_folds_with_na_r=TRUE --chunk1=988982 --chunk2=1008981 --cv_eval_mode=dynamic --num_cores=1 --cores_per_alpha=all --tag=libd_chr1-chr1_AA-988982-1008981-dynamic-1corestotal-allcorepera-20240411-020640\n"
     ]
    },
    {
     "name": "stderr",
     "output_type": "stream",
     "text": [
      "Sleeping for 240 seconds\n",
      "\n"
     ]
    },
    {
     "name": "stdout",
     "output_type": "stream",
     "text": [
      "#!/bin/bash\n",
      "#SBATCH --nodes=1\n",
      "#SBATCH --ntasks-per-node=1\n",
      "#SBATCH --cpus-per-task=1\n",
      "#SBATCH --mem-per-cpu=24G\n",
      "#SBATCH --output=slurm_output_libd_chr1-chr1_AA-1008982-1028981-dynamic-1corestotal-allcorepera-20240411-021040.out\n",
      "#SBATCH --job-name=libd_chr1-chr1_AA-1008982-1028981-dynamic-1corestotal-allcorepera-20240411-021040\n",
      "module load conda\n",
      "conda activate mwas\n",
      "echo 'Executing Rscript with arguments: Rscript scripts/CLI.R --outdir=./output_chr1_a1/ --snp_data_path=/dcs04/lieber/statsgen/shizhong/michael/mwas/gwas//libd_chr1.pgen --methylation_data_path=/dcs04/lieber/statsgen/shizhong/michael/mwas/pheno/caud/out/chr1_AA.rda --cov=/dcs04/lieber/statsgen/mnagle/mwas/full_covariates/AA_caud.csv --verbose=FALSE --lambda_choice=1se --alphas=0.5 --allow_inefficient_parallelization=FALSE --n_fold=5 --window_sizes=10000 --save_evaluation_results_each_fold=FALSE --save_glmnet_object=FALSE --omit_folds_with_na_r=TRUE --chunk1=1008982 --chunk2=1028981 --cv_eval_mode=dynamic --num_cores=1 --cores_per_alpha=all --tag=libd_chr1-chr1_AA-1008982-1028981-dynamic-1corestotal-allcorepera-20240411-021040'\n",
      "Rscript scripts/CLI.R --outdir=./output_chr1_a1/ --snp_data_path=/dcs04/lieber/statsgen/shizhong/michael/mwas/gwas//libd_chr1.pgen --methylation_data_path=/dcs04/lieber/statsgen/shizhong/michael/mwas/pheno/caud/out/chr1_AA.rda --cov=/dcs04/lieber/statsgen/mnagle/mwas/full_covariates/AA_caud.csv --verbose=FALSE --lambda_choice=1se --alphas=0.5 --allow_inefficient_parallelization=FALSE --n_fold=5 --window_sizes=10000 --save_evaluation_results_each_fold=FALSE --save_glmnet_object=FALSE --omit_folds_with_na_r=TRUE --chunk1=1008982 --chunk2=1028981 --cv_eval_mode=dynamic --num_cores=1 --cores_per_alpha=all --tag=libd_chr1-chr1_AA-1008982-1028981-dynamic-1corestotal-allcorepera-20240411-021040\n"
     ]
    },
    {
     "name": "stderr",
     "output_type": "stream",
     "text": [
      "Sleeping for 240 seconds\n",
      "\n"
     ]
    },
    {
     "name": "stdout",
     "output_type": "stream",
     "text": [
      "#!/bin/bash\n",
      "#SBATCH --nodes=1\n",
      "#SBATCH --ntasks-per-node=1\n",
      "#SBATCH --cpus-per-task=1\n",
      "#SBATCH --mem-per-cpu=24G\n",
      "#SBATCH --output=slurm_output_libd_chr1-chr1_AA-1028982-1048981-dynamic-1corestotal-allcorepera-20240411-021440.out\n",
      "#SBATCH --job-name=libd_chr1-chr1_AA-1028982-1048981-dynamic-1corestotal-allcorepera-20240411-021440\n",
      "module load conda\n",
      "conda activate mwas\n",
      "echo 'Executing Rscript with arguments: Rscript scripts/CLI.R --outdir=./output_chr1_a1/ --snp_data_path=/dcs04/lieber/statsgen/shizhong/michael/mwas/gwas//libd_chr1.pgen --methylation_data_path=/dcs04/lieber/statsgen/shizhong/michael/mwas/pheno/caud/out/chr1_AA.rda --cov=/dcs04/lieber/statsgen/mnagle/mwas/full_covariates/AA_caud.csv --verbose=FALSE --lambda_choice=1se --alphas=0.5 --allow_inefficient_parallelization=FALSE --n_fold=5 --window_sizes=10000 --save_evaluation_results_each_fold=FALSE --save_glmnet_object=FALSE --omit_folds_with_na_r=TRUE --chunk1=1028982 --chunk2=1048981 --cv_eval_mode=dynamic --num_cores=1 --cores_per_alpha=all --tag=libd_chr1-chr1_AA-1028982-1048981-dynamic-1corestotal-allcorepera-20240411-021440'\n",
      "Rscript scripts/CLI.R --outdir=./output_chr1_a1/ --snp_data_path=/dcs04/lieber/statsgen/shizhong/michael/mwas/gwas//libd_chr1.pgen --methylation_data_path=/dcs04/lieber/statsgen/shizhong/michael/mwas/pheno/caud/out/chr1_AA.rda --cov=/dcs04/lieber/statsgen/mnagle/mwas/full_covariates/AA_caud.csv --verbose=FALSE --lambda_choice=1se --alphas=0.5 --allow_inefficient_parallelization=FALSE --n_fold=5 --window_sizes=10000 --save_evaluation_results_each_fold=FALSE --save_glmnet_object=FALSE --omit_folds_with_na_r=TRUE --chunk1=1028982 --chunk2=1048981 --cv_eval_mode=dynamic --num_cores=1 --cores_per_alpha=all --tag=libd_chr1-chr1_AA-1028982-1048981-dynamic-1corestotal-allcorepera-20240411-021440\n"
     ]
    },
    {
     "name": "stderr",
     "output_type": "stream",
     "text": [
      "Sleeping for 240 seconds\n",
      "\n"
     ]
    },
    {
     "name": "stdout",
     "output_type": "stream",
     "text": [
      "#!/bin/bash\n",
      "#SBATCH --nodes=1\n",
      "#SBATCH --ntasks-per-node=1\n",
      "#SBATCH --cpus-per-task=1\n",
      "#SBATCH --mem-per-cpu=24G\n",
      "#SBATCH --output=slurm_output_libd_chr1-chr1_AA-1048982-1068981-dynamic-1corestotal-allcorepera-20240411-021840.out\n",
      "#SBATCH --job-name=libd_chr1-chr1_AA-1048982-1068981-dynamic-1corestotal-allcorepera-20240411-021840\n",
      "module load conda\n",
      "conda activate mwas\n",
      "echo 'Executing Rscript with arguments: Rscript scripts/CLI.R --outdir=./output_chr1_a1/ --snp_data_path=/dcs04/lieber/statsgen/shizhong/michael/mwas/gwas//libd_chr1.pgen --methylation_data_path=/dcs04/lieber/statsgen/shizhong/michael/mwas/pheno/caud/out/chr1_AA.rda --cov=/dcs04/lieber/statsgen/mnagle/mwas/full_covariates/AA_caud.csv --verbose=FALSE --lambda_choice=1se --alphas=0.5 --allow_inefficient_parallelization=FALSE --n_fold=5 --window_sizes=10000 --save_evaluation_results_each_fold=FALSE --save_glmnet_object=FALSE --omit_folds_with_na_r=TRUE --chunk1=1048982 --chunk2=1068981 --cv_eval_mode=dynamic --num_cores=1 --cores_per_alpha=all --tag=libd_chr1-chr1_AA-1048982-1068981-dynamic-1corestotal-allcorepera-20240411-021840'\n",
      "Rscript scripts/CLI.R --outdir=./output_chr1_a1/ --snp_data_path=/dcs04/lieber/statsgen/shizhong/michael/mwas/gwas//libd_chr1.pgen --methylation_data_path=/dcs04/lieber/statsgen/shizhong/michael/mwas/pheno/caud/out/chr1_AA.rda --cov=/dcs04/lieber/statsgen/mnagle/mwas/full_covariates/AA_caud.csv --verbose=FALSE --lambda_choice=1se --alphas=0.5 --allow_inefficient_parallelization=FALSE --n_fold=5 --window_sizes=10000 --save_evaluation_results_each_fold=FALSE --save_glmnet_object=FALSE --omit_folds_with_na_r=TRUE --chunk1=1048982 --chunk2=1068981 --cv_eval_mode=dynamic --num_cores=1 --cores_per_alpha=all --tag=libd_chr1-chr1_AA-1048982-1068981-dynamic-1corestotal-allcorepera-20240411-021840\n"
     ]
    },
    {
     "name": "stderr",
     "output_type": "stream",
     "text": [
      "Sleeping for 240 seconds\n",
      "\n"
     ]
    },
    {
     "name": "stdout",
     "output_type": "stream",
     "text": [
      "#!/bin/bash\n",
      "#SBATCH --nodes=1\n",
      "#SBATCH --ntasks-per-node=1\n",
      "#SBATCH --cpus-per-task=1\n",
      "#SBATCH --mem-per-cpu=24G\n",
      "#SBATCH --output=slurm_output_libd_chr1-chr1_AA-1068982-1088981-dynamic-1corestotal-allcorepera-20240411-022240.out\n",
      "#SBATCH --job-name=libd_chr1-chr1_AA-1068982-1088981-dynamic-1corestotal-allcorepera-20240411-022240\n",
      "module load conda\n",
      "conda activate mwas\n",
      "echo 'Executing Rscript with arguments: Rscript scripts/CLI.R --outdir=./output_chr1_a1/ --snp_data_path=/dcs04/lieber/statsgen/shizhong/michael/mwas/gwas//libd_chr1.pgen --methylation_data_path=/dcs04/lieber/statsgen/shizhong/michael/mwas/pheno/caud/out/chr1_AA.rda --cov=/dcs04/lieber/statsgen/mnagle/mwas/full_covariates/AA_caud.csv --verbose=FALSE --lambda_choice=1se --alphas=0.5 --allow_inefficient_parallelization=FALSE --n_fold=5 --window_sizes=10000 --save_evaluation_results_each_fold=FALSE --save_glmnet_object=FALSE --omit_folds_with_na_r=TRUE --chunk1=1068982 --chunk2=1088981 --cv_eval_mode=dynamic --num_cores=1 --cores_per_alpha=all --tag=libd_chr1-chr1_AA-1068982-1088981-dynamic-1corestotal-allcorepera-20240411-022240'\n",
      "Rscript scripts/CLI.R --outdir=./output_chr1_a1/ --snp_data_path=/dcs04/lieber/statsgen/shizhong/michael/mwas/gwas//libd_chr1.pgen --methylation_data_path=/dcs04/lieber/statsgen/shizhong/michael/mwas/pheno/caud/out/chr1_AA.rda --cov=/dcs04/lieber/statsgen/mnagle/mwas/full_covariates/AA_caud.csv --verbose=FALSE --lambda_choice=1se --alphas=0.5 --allow_inefficient_parallelization=FALSE --n_fold=5 --window_sizes=10000 --save_evaluation_results_each_fold=FALSE --save_glmnet_object=FALSE --omit_folds_with_na_r=TRUE --chunk1=1068982 --chunk2=1088981 --cv_eval_mode=dynamic --num_cores=1 --cores_per_alpha=all --tag=libd_chr1-chr1_AA-1068982-1088981-dynamic-1corestotal-allcorepera-20240411-022240\n"
     ]
    },
    {
     "name": "stderr",
     "output_type": "stream",
     "text": [
      "Sleeping for 240 seconds\n",
      "\n"
     ]
    },
    {
     "name": "stdout",
     "output_type": "stream",
     "text": [
      "#!/bin/bash\n",
      "#SBATCH --nodes=1\n",
      "#SBATCH --ntasks-per-node=1\n",
      "#SBATCH --cpus-per-task=1\n",
      "#SBATCH --mem-per-cpu=24G\n",
      "#SBATCH --output=slurm_output_libd_chr1-chr1_AA-1088982-1108981-dynamic-1corestotal-allcorepera-20240411-022640.out\n",
      "#SBATCH --job-name=libd_chr1-chr1_AA-1088982-1108981-dynamic-1corestotal-allcorepera-20240411-022640\n",
      "module load conda\n",
      "conda activate mwas\n",
      "echo 'Executing Rscript with arguments: Rscript scripts/CLI.R --outdir=./output_chr1_a1/ --snp_data_path=/dcs04/lieber/statsgen/shizhong/michael/mwas/gwas//libd_chr1.pgen --methylation_data_path=/dcs04/lieber/statsgen/shizhong/michael/mwas/pheno/caud/out/chr1_AA.rda --cov=/dcs04/lieber/statsgen/mnagle/mwas/full_covariates/AA_caud.csv --verbose=FALSE --lambda_choice=1se --alphas=0.5 --allow_inefficient_parallelization=FALSE --n_fold=5 --window_sizes=10000 --save_evaluation_results_each_fold=FALSE --save_glmnet_object=FALSE --omit_folds_with_na_r=TRUE --chunk1=1088982 --chunk2=1108981 --cv_eval_mode=dynamic --num_cores=1 --cores_per_alpha=all --tag=libd_chr1-chr1_AA-1088982-1108981-dynamic-1corestotal-allcorepera-20240411-022640'\n",
      "Rscript scripts/CLI.R --outdir=./output_chr1_a1/ --snp_data_path=/dcs04/lieber/statsgen/shizhong/michael/mwas/gwas//libd_chr1.pgen --methylation_data_path=/dcs04/lieber/statsgen/shizhong/michael/mwas/pheno/caud/out/chr1_AA.rda --cov=/dcs04/lieber/statsgen/mnagle/mwas/full_covariates/AA_caud.csv --verbose=FALSE --lambda_choice=1se --alphas=0.5 --allow_inefficient_parallelization=FALSE --n_fold=5 --window_sizes=10000 --save_evaluation_results_each_fold=FALSE --save_glmnet_object=FALSE --omit_folds_with_na_r=TRUE --chunk1=1088982 --chunk2=1108981 --cv_eval_mode=dynamic --num_cores=1 --cores_per_alpha=all --tag=libd_chr1-chr1_AA-1088982-1108981-dynamic-1corestotal-allcorepera-20240411-022640\n"
     ]
    },
    {
     "name": "stderr",
     "output_type": "stream",
     "text": [
      "Sleeping for 240 seconds\n",
      "\n"
     ]
    },
    {
     "name": "stdout",
     "output_type": "stream",
     "text": [
      "#!/bin/bash\n",
      "#SBATCH --nodes=1\n",
      "#SBATCH --ntasks-per-node=1\n",
      "#SBATCH --cpus-per-task=1\n",
      "#SBATCH --mem-per-cpu=24G\n",
      "#SBATCH --output=slurm_output_libd_chr1-chr1_AA-1108982-1128981-dynamic-1corestotal-allcorepera-20240411-023040.out\n",
      "#SBATCH --job-name=libd_chr1-chr1_AA-1108982-1128981-dynamic-1corestotal-allcorepera-20240411-023040\n",
      "module load conda\n",
      "conda activate mwas\n",
      "echo 'Executing Rscript with arguments: Rscript scripts/CLI.R --outdir=./output_chr1_a1/ --snp_data_path=/dcs04/lieber/statsgen/shizhong/michael/mwas/gwas//libd_chr1.pgen --methylation_data_path=/dcs04/lieber/statsgen/shizhong/michael/mwas/pheno/caud/out/chr1_AA.rda --cov=/dcs04/lieber/statsgen/mnagle/mwas/full_covariates/AA_caud.csv --verbose=FALSE --lambda_choice=1se --alphas=0.5 --allow_inefficient_parallelization=FALSE --n_fold=5 --window_sizes=10000 --save_evaluation_results_each_fold=FALSE --save_glmnet_object=FALSE --omit_folds_with_na_r=TRUE --chunk1=1108982 --chunk2=1128981 --cv_eval_mode=dynamic --num_cores=1 --cores_per_alpha=all --tag=libd_chr1-chr1_AA-1108982-1128981-dynamic-1corestotal-allcorepera-20240411-023040'\n",
      "Rscript scripts/CLI.R --outdir=./output_chr1_a1/ --snp_data_path=/dcs04/lieber/statsgen/shizhong/michael/mwas/gwas//libd_chr1.pgen --methylation_data_path=/dcs04/lieber/statsgen/shizhong/michael/mwas/pheno/caud/out/chr1_AA.rda --cov=/dcs04/lieber/statsgen/mnagle/mwas/full_covariates/AA_caud.csv --verbose=FALSE --lambda_choice=1se --alphas=0.5 --allow_inefficient_parallelization=FALSE --n_fold=5 --window_sizes=10000 --save_evaluation_results_each_fold=FALSE --save_glmnet_object=FALSE --omit_folds_with_na_r=TRUE --chunk1=1108982 --chunk2=1128981 --cv_eval_mode=dynamic --num_cores=1 --cores_per_alpha=all --tag=libd_chr1-chr1_AA-1108982-1128981-dynamic-1corestotal-allcorepera-20240411-023040\n"
     ]
    },
    {
     "name": "stderr",
     "output_type": "stream",
     "text": [
      "Sleeping for 240 seconds\n",
      "\n"
     ]
    },
    {
     "name": "stdout",
     "output_type": "stream",
     "text": [
      "#!/bin/bash\n",
      "#SBATCH --nodes=1\n",
      "#SBATCH --ntasks-per-node=1\n",
      "#SBATCH --cpus-per-task=1\n",
      "#SBATCH --mem-per-cpu=24G\n",
      "#SBATCH --output=slurm_output_libd_chr1-chr1_AA-1128982-1148981-dynamic-1corestotal-allcorepera-20240411-023441.out\n",
      "#SBATCH --job-name=libd_chr1-chr1_AA-1128982-1148981-dynamic-1corestotal-allcorepera-20240411-023441\n",
      "module load conda\n",
      "conda activate mwas\n",
      "echo 'Executing Rscript with arguments: Rscript scripts/CLI.R --outdir=./output_chr1_a1/ --snp_data_path=/dcs04/lieber/statsgen/shizhong/michael/mwas/gwas//libd_chr1.pgen --methylation_data_path=/dcs04/lieber/statsgen/shizhong/michael/mwas/pheno/caud/out/chr1_AA.rda --cov=/dcs04/lieber/statsgen/mnagle/mwas/full_covariates/AA_caud.csv --verbose=FALSE --lambda_choice=1se --alphas=0.5 --allow_inefficient_parallelization=FALSE --n_fold=5 --window_sizes=10000 --save_evaluation_results_each_fold=FALSE --save_glmnet_object=FALSE --omit_folds_with_na_r=TRUE --chunk1=1128982 --chunk2=1148981 --cv_eval_mode=dynamic --num_cores=1 --cores_per_alpha=all --tag=libd_chr1-chr1_AA-1128982-1148981-dynamic-1corestotal-allcorepera-20240411-023441'\n",
      "Rscript scripts/CLI.R --outdir=./output_chr1_a1/ --snp_data_path=/dcs04/lieber/statsgen/shizhong/michael/mwas/gwas//libd_chr1.pgen --methylation_data_path=/dcs04/lieber/statsgen/shizhong/michael/mwas/pheno/caud/out/chr1_AA.rda --cov=/dcs04/lieber/statsgen/mnagle/mwas/full_covariates/AA_caud.csv --verbose=FALSE --lambda_choice=1se --alphas=0.5 --allow_inefficient_parallelization=FALSE --n_fold=5 --window_sizes=10000 --save_evaluation_results_each_fold=FALSE --save_glmnet_object=FALSE --omit_folds_with_na_r=TRUE --chunk1=1128982 --chunk2=1148981 --cv_eval_mode=dynamic --num_cores=1 --cores_per_alpha=all --tag=libd_chr1-chr1_AA-1128982-1148981-dynamic-1corestotal-allcorepera-20240411-023441\n"
     ]
    },
    {
     "name": "stderr",
     "output_type": "stream",
     "text": [
      "Sleeping for 240 seconds\n",
      "\n"
     ]
    },
    {
     "name": "stdout",
     "output_type": "stream",
     "text": [
      "#!/bin/bash\n",
      "#SBATCH --nodes=1\n",
      "#SBATCH --ntasks-per-node=1\n",
      "#SBATCH --cpus-per-task=1\n",
      "#SBATCH --mem-per-cpu=24G\n",
      "#SBATCH --output=slurm_output_libd_chr1-chr1_AA-1148982-1168981-dynamic-1corestotal-allcorepera-20240411-023841.out\n",
      "#SBATCH --job-name=libd_chr1-chr1_AA-1148982-1168981-dynamic-1corestotal-allcorepera-20240411-023841\n",
      "module load conda\n",
      "conda activate mwas\n",
      "echo 'Executing Rscript with arguments: Rscript scripts/CLI.R --outdir=./output_chr1_a1/ --snp_data_path=/dcs04/lieber/statsgen/shizhong/michael/mwas/gwas//libd_chr1.pgen --methylation_data_path=/dcs04/lieber/statsgen/shizhong/michael/mwas/pheno/caud/out/chr1_AA.rda --cov=/dcs04/lieber/statsgen/mnagle/mwas/full_covariates/AA_caud.csv --verbose=FALSE --lambda_choice=1se --alphas=0.5 --allow_inefficient_parallelization=FALSE --n_fold=5 --window_sizes=10000 --save_evaluation_results_each_fold=FALSE --save_glmnet_object=FALSE --omit_folds_with_na_r=TRUE --chunk1=1148982 --chunk2=1168981 --cv_eval_mode=dynamic --num_cores=1 --cores_per_alpha=all --tag=libd_chr1-chr1_AA-1148982-1168981-dynamic-1corestotal-allcorepera-20240411-023841'\n",
      "Rscript scripts/CLI.R --outdir=./output_chr1_a1/ --snp_data_path=/dcs04/lieber/statsgen/shizhong/michael/mwas/gwas//libd_chr1.pgen --methylation_data_path=/dcs04/lieber/statsgen/shizhong/michael/mwas/pheno/caud/out/chr1_AA.rda --cov=/dcs04/lieber/statsgen/mnagle/mwas/full_covariates/AA_caud.csv --verbose=FALSE --lambda_choice=1se --alphas=0.5 --allow_inefficient_parallelization=FALSE --n_fold=5 --window_sizes=10000 --save_evaluation_results_each_fold=FALSE --save_glmnet_object=FALSE --omit_folds_with_na_r=TRUE --chunk1=1148982 --chunk2=1168981 --cv_eval_mode=dynamic --num_cores=1 --cores_per_alpha=all --tag=libd_chr1-chr1_AA-1148982-1168981-dynamic-1corestotal-allcorepera-20240411-023841\n"
     ]
    },
    {
     "name": "stderr",
     "output_type": "stream",
     "text": [
      "Sleeping for 240 seconds\n",
      "\n"
     ]
    },
    {
     "name": "stdout",
     "output_type": "stream",
     "text": [
      "#!/bin/bash\n",
      "#SBATCH --nodes=1\n",
      "#SBATCH --ntasks-per-node=1\n",
      "#SBATCH --cpus-per-task=1\n",
      "#SBATCH --mem-per-cpu=24G\n",
      "#SBATCH --output=slurm_output_libd_chr1-chr1_AA-1168982-1188981-dynamic-1corestotal-allcorepera-20240411-024241.out\n",
      "#SBATCH --job-name=libd_chr1-chr1_AA-1168982-1188981-dynamic-1corestotal-allcorepera-20240411-024241\n",
      "module load conda\n",
      "conda activate mwas\n",
      "echo 'Executing Rscript with arguments: Rscript scripts/CLI.R --outdir=./output_chr1_a1/ --snp_data_path=/dcs04/lieber/statsgen/shizhong/michael/mwas/gwas//libd_chr1.pgen --methylation_data_path=/dcs04/lieber/statsgen/shizhong/michael/mwas/pheno/caud/out/chr1_AA.rda --cov=/dcs04/lieber/statsgen/mnagle/mwas/full_covariates/AA_caud.csv --verbose=FALSE --lambda_choice=1se --alphas=0.5 --allow_inefficient_parallelization=FALSE --n_fold=5 --window_sizes=10000 --save_evaluation_results_each_fold=FALSE --save_glmnet_object=FALSE --omit_folds_with_na_r=TRUE --chunk1=1168982 --chunk2=1188981 --cv_eval_mode=dynamic --num_cores=1 --cores_per_alpha=all --tag=libd_chr1-chr1_AA-1168982-1188981-dynamic-1corestotal-allcorepera-20240411-024241'\n",
      "Rscript scripts/CLI.R --outdir=./output_chr1_a1/ --snp_data_path=/dcs04/lieber/statsgen/shizhong/michael/mwas/gwas//libd_chr1.pgen --methylation_data_path=/dcs04/lieber/statsgen/shizhong/michael/mwas/pheno/caud/out/chr1_AA.rda --cov=/dcs04/lieber/statsgen/mnagle/mwas/full_covariates/AA_caud.csv --verbose=FALSE --lambda_choice=1se --alphas=0.5 --allow_inefficient_parallelization=FALSE --n_fold=5 --window_sizes=10000 --save_evaluation_results_each_fold=FALSE --save_glmnet_object=FALSE --omit_folds_with_na_r=TRUE --chunk1=1168982 --chunk2=1188981 --cv_eval_mode=dynamic --num_cores=1 --cores_per_alpha=all --tag=libd_chr1-chr1_AA-1168982-1188981-dynamic-1corestotal-allcorepera-20240411-024241\n"
     ]
    },
    {
     "name": "stderr",
     "output_type": "stream",
     "text": [
      "Sleeping for 240 seconds\n",
      "\n"
     ]
    },
    {
     "name": "stdout",
     "output_type": "stream",
     "text": [
      "#!/bin/bash\n",
      "#SBATCH --nodes=1\n",
      "#SBATCH --ntasks-per-node=1\n",
      "#SBATCH --cpus-per-task=1\n",
      "#SBATCH --mem-per-cpu=24G\n",
      "#SBATCH --output=slurm_output_libd_chr1-chr1_AA-1188982-1208981-dynamic-1corestotal-allcorepera-20240411-024641.out\n",
      "#SBATCH --job-name=libd_chr1-chr1_AA-1188982-1208981-dynamic-1corestotal-allcorepera-20240411-024641\n",
      "module load conda\n",
      "conda activate mwas\n",
      "echo 'Executing Rscript with arguments: Rscript scripts/CLI.R --outdir=./output_chr1_a1/ --snp_data_path=/dcs04/lieber/statsgen/shizhong/michael/mwas/gwas//libd_chr1.pgen --methylation_data_path=/dcs04/lieber/statsgen/shizhong/michael/mwas/pheno/caud/out/chr1_AA.rda --cov=/dcs04/lieber/statsgen/mnagle/mwas/full_covariates/AA_caud.csv --verbose=FALSE --lambda_choice=1se --alphas=0.5 --allow_inefficient_parallelization=FALSE --n_fold=5 --window_sizes=10000 --save_evaluation_results_each_fold=FALSE --save_glmnet_object=FALSE --omit_folds_with_na_r=TRUE --chunk1=1188982 --chunk2=1208981 --cv_eval_mode=dynamic --num_cores=1 --cores_per_alpha=all --tag=libd_chr1-chr1_AA-1188982-1208981-dynamic-1corestotal-allcorepera-20240411-024641'\n",
      "Rscript scripts/CLI.R --outdir=./output_chr1_a1/ --snp_data_path=/dcs04/lieber/statsgen/shizhong/michael/mwas/gwas//libd_chr1.pgen --methylation_data_path=/dcs04/lieber/statsgen/shizhong/michael/mwas/pheno/caud/out/chr1_AA.rda --cov=/dcs04/lieber/statsgen/mnagle/mwas/full_covariates/AA_caud.csv --verbose=FALSE --lambda_choice=1se --alphas=0.5 --allow_inefficient_parallelization=FALSE --n_fold=5 --window_sizes=10000 --save_evaluation_results_each_fold=FALSE --save_glmnet_object=FALSE --omit_folds_with_na_r=TRUE --chunk1=1188982 --chunk2=1208981 --cv_eval_mode=dynamic --num_cores=1 --cores_per_alpha=all --tag=libd_chr1-chr1_AA-1188982-1208981-dynamic-1corestotal-allcorepera-20240411-024641\n"
     ]
    },
    {
     "name": "stderr",
     "output_type": "stream",
     "text": [
      "Sleeping for 240 seconds\n",
      "\n"
     ]
    },
    {
     "name": "stdout",
     "output_type": "stream",
     "text": [
      "#!/bin/bash\n",
      "#SBATCH --nodes=1\n",
      "#SBATCH --ntasks-per-node=1\n",
      "#SBATCH --cpus-per-task=1\n",
      "#SBATCH --mem-per-cpu=24G\n",
      "#SBATCH --output=slurm_output_libd_chr1-chr1_AA-1208982-1228981-dynamic-1corestotal-allcorepera-20240411-025041.out\n",
      "#SBATCH --job-name=libd_chr1-chr1_AA-1208982-1228981-dynamic-1corestotal-allcorepera-20240411-025041\n",
      "module load conda\n",
      "conda activate mwas\n",
      "echo 'Executing Rscript with arguments: Rscript scripts/CLI.R --outdir=./output_chr1_a1/ --snp_data_path=/dcs04/lieber/statsgen/shizhong/michael/mwas/gwas//libd_chr1.pgen --methylation_data_path=/dcs04/lieber/statsgen/shizhong/michael/mwas/pheno/caud/out/chr1_AA.rda --cov=/dcs04/lieber/statsgen/mnagle/mwas/full_covariates/AA_caud.csv --verbose=FALSE --lambda_choice=1se --alphas=0.5 --allow_inefficient_parallelization=FALSE --n_fold=5 --window_sizes=10000 --save_evaluation_results_each_fold=FALSE --save_glmnet_object=FALSE --omit_folds_with_na_r=TRUE --chunk1=1208982 --chunk2=1228981 --cv_eval_mode=dynamic --num_cores=1 --cores_per_alpha=all --tag=libd_chr1-chr1_AA-1208982-1228981-dynamic-1corestotal-allcorepera-20240411-025041'\n",
      "Rscript scripts/CLI.R --outdir=./output_chr1_a1/ --snp_data_path=/dcs04/lieber/statsgen/shizhong/michael/mwas/gwas//libd_chr1.pgen --methylation_data_path=/dcs04/lieber/statsgen/shizhong/michael/mwas/pheno/caud/out/chr1_AA.rda --cov=/dcs04/lieber/statsgen/mnagle/mwas/full_covariates/AA_caud.csv --verbose=FALSE --lambda_choice=1se --alphas=0.5 --allow_inefficient_parallelization=FALSE --n_fold=5 --window_sizes=10000 --save_evaluation_results_each_fold=FALSE --save_glmnet_object=FALSE --omit_folds_with_na_r=TRUE --chunk1=1208982 --chunk2=1228981 --cv_eval_mode=dynamic --num_cores=1 --cores_per_alpha=all --tag=libd_chr1-chr1_AA-1208982-1228981-dynamic-1corestotal-allcorepera-20240411-025041\n"
     ]
    },
    {
     "name": "stderr",
     "output_type": "stream",
     "text": [
      "Sleeping for 240 seconds\n",
      "\n"
     ]
    },
    {
     "name": "stdout",
     "output_type": "stream",
     "text": [
      "#!/bin/bash\n",
      "#SBATCH --nodes=1\n",
      "#SBATCH --ntasks-per-node=1\n",
      "#SBATCH --cpus-per-task=1\n",
      "#SBATCH --mem-per-cpu=24G\n",
      "#SBATCH --output=slurm_output_libd_chr1-chr1_AA-1228982-1248981-dynamic-1corestotal-allcorepera-20240411-025441.out\n",
      "#SBATCH --job-name=libd_chr1-chr1_AA-1228982-1248981-dynamic-1corestotal-allcorepera-20240411-025441\n",
      "module load conda\n",
      "conda activate mwas\n",
      "echo 'Executing Rscript with arguments: Rscript scripts/CLI.R --outdir=./output_chr1_a1/ --snp_data_path=/dcs04/lieber/statsgen/shizhong/michael/mwas/gwas//libd_chr1.pgen --methylation_data_path=/dcs04/lieber/statsgen/shizhong/michael/mwas/pheno/caud/out/chr1_AA.rda --cov=/dcs04/lieber/statsgen/mnagle/mwas/full_covariates/AA_caud.csv --verbose=FALSE --lambda_choice=1se --alphas=0.5 --allow_inefficient_parallelization=FALSE --n_fold=5 --window_sizes=10000 --save_evaluation_results_each_fold=FALSE --save_glmnet_object=FALSE --omit_folds_with_na_r=TRUE --chunk1=1228982 --chunk2=1248981 --cv_eval_mode=dynamic --num_cores=1 --cores_per_alpha=all --tag=libd_chr1-chr1_AA-1228982-1248981-dynamic-1corestotal-allcorepera-20240411-025441'\n",
      "Rscript scripts/CLI.R --outdir=./output_chr1_a1/ --snp_data_path=/dcs04/lieber/statsgen/shizhong/michael/mwas/gwas//libd_chr1.pgen --methylation_data_path=/dcs04/lieber/statsgen/shizhong/michael/mwas/pheno/caud/out/chr1_AA.rda --cov=/dcs04/lieber/statsgen/mnagle/mwas/full_covariates/AA_caud.csv --verbose=FALSE --lambda_choice=1se --alphas=0.5 --allow_inefficient_parallelization=FALSE --n_fold=5 --window_sizes=10000 --save_evaluation_results_each_fold=FALSE --save_glmnet_object=FALSE --omit_folds_with_na_r=TRUE --chunk1=1228982 --chunk2=1248981 --cv_eval_mode=dynamic --num_cores=1 --cores_per_alpha=all --tag=libd_chr1-chr1_AA-1228982-1248981-dynamic-1corestotal-allcorepera-20240411-025441\n"
     ]
    },
    {
     "name": "stderr",
     "output_type": "stream",
     "text": [
      "Sleeping for 240 seconds\n",
      "\n"
     ]
    },
    {
     "name": "stdout",
     "output_type": "stream",
     "text": [
      "#!/bin/bash\n",
      "#SBATCH --nodes=1\n",
      "#SBATCH --ntasks-per-node=1\n",
      "#SBATCH --cpus-per-task=1\n",
      "#SBATCH --mem-per-cpu=24G\n",
      "#SBATCH --output=slurm_output_libd_chr1-chr1_AA-1248982-1268981-dynamic-1corestotal-allcorepera-20240411-025841.out\n",
      "#SBATCH --job-name=libd_chr1-chr1_AA-1248982-1268981-dynamic-1corestotal-allcorepera-20240411-025841\n",
      "module load conda\n",
      "conda activate mwas\n",
      "echo 'Executing Rscript with arguments: Rscript scripts/CLI.R --outdir=./output_chr1_a1/ --snp_data_path=/dcs04/lieber/statsgen/shizhong/michael/mwas/gwas//libd_chr1.pgen --methylation_data_path=/dcs04/lieber/statsgen/shizhong/michael/mwas/pheno/caud/out/chr1_AA.rda --cov=/dcs04/lieber/statsgen/mnagle/mwas/full_covariates/AA_caud.csv --verbose=FALSE --lambda_choice=1se --alphas=0.5 --allow_inefficient_parallelization=FALSE --n_fold=5 --window_sizes=10000 --save_evaluation_results_each_fold=FALSE --save_glmnet_object=FALSE --omit_folds_with_na_r=TRUE --chunk1=1248982 --chunk2=1268981 --cv_eval_mode=dynamic --num_cores=1 --cores_per_alpha=all --tag=libd_chr1-chr1_AA-1248982-1268981-dynamic-1corestotal-allcorepera-20240411-025841'\n",
      "Rscript scripts/CLI.R --outdir=./output_chr1_a1/ --snp_data_path=/dcs04/lieber/statsgen/shizhong/michael/mwas/gwas//libd_chr1.pgen --methylation_data_path=/dcs04/lieber/statsgen/shizhong/michael/mwas/pheno/caud/out/chr1_AA.rda --cov=/dcs04/lieber/statsgen/mnagle/mwas/full_covariates/AA_caud.csv --verbose=FALSE --lambda_choice=1se --alphas=0.5 --allow_inefficient_parallelization=FALSE --n_fold=5 --window_sizes=10000 --save_evaluation_results_each_fold=FALSE --save_glmnet_object=FALSE --omit_folds_with_na_r=TRUE --chunk1=1248982 --chunk2=1268981 --cv_eval_mode=dynamic --num_cores=1 --cores_per_alpha=all --tag=libd_chr1-chr1_AA-1248982-1268981-dynamic-1corestotal-allcorepera-20240411-025841\n"
     ]
    },
    {
     "name": "stderr",
     "output_type": "stream",
     "text": [
      "Sleeping for 240 seconds\n",
      "\n"
     ]
    },
    {
     "name": "stdout",
     "output_type": "stream",
     "text": [
      "#!/bin/bash\n",
      "#SBATCH --nodes=1\n",
      "#SBATCH --ntasks-per-node=1\n",
      "#SBATCH --cpus-per-task=1\n",
      "#SBATCH --mem-per-cpu=24G\n",
      "#SBATCH --output=slurm_output_libd_chr1-chr1_AA-1268982-1288981-dynamic-1corestotal-allcorepera-20240411-030242.out\n",
      "#SBATCH --job-name=libd_chr1-chr1_AA-1268982-1288981-dynamic-1corestotal-allcorepera-20240411-030242\n",
      "module load conda\n",
      "conda activate mwas\n",
      "echo 'Executing Rscript with arguments: Rscript scripts/CLI.R --outdir=./output_chr1_a1/ --snp_data_path=/dcs04/lieber/statsgen/shizhong/michael/mwas/gwas//libd_chr1.pgen --methylation_data_path=/dcs04/lieber/statsgen/shizhong/michael/mwas/pheno/caud/out/chr1_AA.rda --cov=/dcs04/lieber/statsgen/mnagle/mwas/full_covariates/AA_caud.csv --verbose=FALSE --lambda_choice=1se --alphas=0.5 --allow_inefficient_parallelization=FALSE --n_fold=5 --window_sizes=10000 --save_evaluation_results_each_fold=FALSE --save_glmnet_object=FALSE --omit_folds_with_na_r=TRUE --chunk1=1268982 --chunk2=1288981 --cv_eval_mode=dynamic --num_cores=1 --cores_per_alpha=all --tag=libd_chr1-chr1_AA-1268982-1288981-dynamic-1corestotal-allcorepera-20240411-030242'\n",
      "Rscript scripts/CLI.R --outdir=./output_chr1_a1/ --snp_data_path=/dcs04/lieber/statsgen/shizhong/michael/mwas/gwas//libd_chr1.pgen --methylation_data_path=/dcs04/lieber/statsgen/shizhong/michael/mwas/pheno/caud/out/chr1_AA.rda --cov=/dcs04/lieber/statsgen/mnagle/mwas/full_covariates/AA_caud.csv --verbose=FALSE --lambda_choice=1se --alphas=0.5 --allow_inefficient_parallelization=FALSE --n_fold=5 --window_sizes=10000 --save_evaluation_results_each_fold=FALSE --save_glmnet_object=FALSE --omit_folds_with_na_r=TRUE --chunk1=1268982 --chunk2=1288981 --cv_eval_mode=dynamic --num_cores=1 --cores_per_alpha=all --tag=libd_chr1-chr1_AA-1268982-1288981-dynamic-1corestotal-allcorepera-20240411-030242\n"
     ]
    },
    {
     "name": "stderr",
     "output_type": "stream",
     "text": [
      "Sleeping for 240 seconds\n",
      "\n"
     ]
    },
    {
     "name": "stdout",
     "output_type": "stream",
     "text": [
      "#!/bin/bash\n",
      "#SBATCH --nodes=1\n",
      "#SBATCH --ntasks-per-node=1\n",
      "#SBATCH --cpus-per-task=1\n",
      "#SBATCH --mem-per-cpu=24G\n",
      "#SBATCH --output=slurm_output_libd_chr1-chr1_AA-1288982-1308981-dynamic-1corestotal-allcorepera-20240411-030642.out\n",
      "#SBATCH --job-name=libd_chr1-chr1_AA-1288982-1308981-dynamic-1corestotal-allcorepera-20240411-030642\n",
      "module load conda\n",
      "conda activate mwas\n",
      "echo 'Executing Rscript with arguments: Rscript scripts/CLI.R --outdir=./output_chr1_a1/ --snp_data_path=/dcs04/lieber/statsgen/shizhong/michael/mwas/gwas//libd_chr1.pgen --methylation_data_path=/dcs04/lieber/statsgen/shizhong/michael/mwas/pheno/caud/out/chr1_AA.rda --cov=/dcs04/lieber/statsgen/mnagle/mwas/full_covariates/AA_caud.csv --verbose=FALSE --lambda_choice=1se --alphas=0.5 --allow_inefficient_parallelization=FALSE --n_fold=5 --window_sizes=10000 --save_evaluation_results_each_fold=FALSE --save_glmnet_object=FALSE --omit_folds_with_na_r=TRUE --chunk1=1288982 --chunk2=1308981 --cv_eval_mode=dynamic --num_cores=1 --cores_per_alpha=all --tag=libd_chr1-chr1_AA-1288982-1308981-dynamic-1corestotal-allcorepera-20240411-030642'\n",
      "Rscript scripts/CLI.R --outdir=./output_chr1_a1/ --snp_data_path=/dcs04/lieber/statsgen/shizhong/michael/mwas/gwas//libd_chr1.pgen --methylation_data_path=/dcs04/lieber/statsgen/shizhong/michael/mwas/pheno/caud/out/chr1_AA.rda --cov=/dcs04/lieber/statsgen/mnagle/mwas/full_covariates/AA_caud.csv --verbose=FALSE --lambda_choice=1se --alphas=0.5 --allow_inefficient_parallelization=FALSE --n_fold=5 --window_sizes=10000 --save_evaluation_results_each_fold=FALSE --save_glmnet_object=FALSE --omit_folds_with_na_r=TRUE --chunk1=1288982 --chunk2=1308981 --cv_eval_mode=dynamic --num_cores=1 --cores_per_alpha=all --tag=libd_chr1-chr1_AA-1288982-1308981-dynamic-1corestotal-allcorepera-20240411-030642\n"
     ]
    },
    {
     "name": "stderr",
     "output_type": "stream",
     "text": [
      "Sleeping for 240 seconds\n",
      "\n"
     ]
    },
    {
     "name": "stdout",
     "output_type": "stream",
     "text": [
      "#!/bin/bash\n",
      "#SBATCH --nodes=1\n",
      "#SBATCH --ntasks-per-node=1\n",
      "#SBATCH --cpus-per-task=1\n",
      "#SBATCH --mem-per-cpu=24G\n",
      "#SBATCH --output=slurm_output_libd_chr1-chr1_AA-1308982-1328981-dynamic-1corestotal-allcorepera-20240411-031042.out\n",
      "#SBATCH --job-name=libd_chr1-chr1_AA-1308982-1328981-dynamic-1corestotal-allcorepera-20240411-031042\n",
      "module load conda\n",
      "conda activate mwas\n",
      "echo 'Executing Rscript with arguments: Rscript scripts/CLI.R --outdir=./output_chr1_a1/ --snp_data_path=/dcs04/lieber/statsgen/shizhong/michael/mwas/gwas//libd_chr1.pgen --methylation_data_path=/dcs04/lieber/statsgen/shizhong/michael/mwas/pheno/caud/out/chr1_AA.rda --cov=/dcs04/lieber/statsgen/mnagle/mwas/full_covariates/AA_caud.csv --verbose=FALSE --lambda_choice=1se --alphas=0.5 --allow_inefficient_parallelization=FALSE --n_fold=5 --window_sizes=10000 --save_evaluation_results_each_fold=FALSE --save_glmnet_object=FALSE --omit_folds_with_na_r=TRUE --chunk1=1308982 --chunk2=1328981 --cv_eval_mode=dynamic --num_cores=1 --cores_per_alpha=all --tag=libd_chr1-chr1_AA-1308982-1328981-dynamic-1corestotal-allcorepera-20240411-031042'\n",
      "Rscript scripts/CLI.R --outdir=./output_chr1_a1/ --snp_data_path=/dcs04/lieber/statsgen/shizhong/michael/mwas/gwas//libd_chr1.pgen --methylation_data_path=/dcs04/lieber/statsgen/shizhong/michael/mwas/pheno/caud/out/chr1_AA.rda --cov=/dcs04/lieber/statsgen/mnagle/mwas/full_covariates/AA_caud.csv --verbose=FALSE --lambda_choice=1se --alphas=0.5 --allow_inefficient_parallelization=FALSE --n_fold=5 --window_sizes=10000 --save_evaluation_results_each_fold=FALSE --save_glmnet_object=FALSE --omit_folds_with_na_r=TRUE --chunk1=1308982 --chunk2=1328981 --cv_eval_mode=dynamic --num_cores=1 --cores_per_alpha=all --tag=libd_chr1-chr1_AA-1308982-1328981-dynamic-1corestotal-allcorepera-20240411-031042\n"
     ]
    },
    {
     "name": "stderr",
     "output_type": "stream",
     "text": [
      "Sleeping for 240 seconds\n",
      "\n"
     ]
    },
    {
     "name": "stdout",
     "output_type": "stream",
     "text": [
      "#!/bin/bash\n",
      "#SBATCH --nodes=1\n",
      "#SBATCH --ntasks-per-node=1\n",
      "#SBATCH --cpus-per-task=1\n",
      "#SBATCH --mem-per-cpu=24G\n",
      "#SBATCH --output=slurm_output_libd_chr1-chr1_AA-1328982-1348981-dynamic-1corestotal-allcorepera-20240411-031442.out\n",
      "#SBATCH --job-name=libd_chr1-chr1_AA-1328982-1348981-dynamic-1corestotal-allcorepera-20240411-031442\n",
      "module load conda\n",
      "conda activate mwas\n",
      "echo 'Executing Rscript with arguments: Rscript scripts/CLI.R --outdir=./output_chr1_a1/ --snp_data_path=/dcs04/lieber/statsgen/shizhong/michael/mwas/gwas//libd_chr1.pgen --methylation_data_path=/dcs04/lieber/statsgen/shizhong/michael/mwas/pheno/caud/out/chr1_AA.rda --cov=/dcs04/lieber/statsgen/mnagle/mwas/full_covariates/AA_caud.csv --verbose=FALSE --lambda_choice=1se --alphas=0.5 --allow_inefficient_parallelization=FALSE --n_fold=5 --window_sizes=10000 --save_evaluation_results_each_fold=FALSE --save_glmnet_object=FALSE --omit_folds_with_na_r=TRUE --chunk1=1328982 --chunk2=1348981 --cv_eval_mode=dynamic --num_cores=1 --cores_per_alpha=all --tag=libd_chr1-chr1_AA-1328982-1348981-dynamic-1corestotal-allcorepera-20240411-031442'\n",
      "Rscript scripts/CLI.R --outdir=./output_chr1_a1/ --snp_data_path=/dcs04/lieber/statsgen/shizhong/michael/mwas/gwas//libd_chr1.pgen --methylation_data_path=/dcs04/lieber/statsgen/shizhong/michael/mwas/pheno/caud/out/chr1_AA.rda --cov=/dcs04/lieber/statsgen/mnagle/mwas/full_covariates/AA_caud.csv --verbose=FALSE --lambda_choice=1se --alphas=0.5 --allow_inefficient_parallelization=FALSE --n_fold=5 --window_sizes=10000 --save_evaluation_results_each_fold=FALSE --save_glmnet_object=FALSE --omit_folds_with_na_r=TRUE --chunk1=1328982 --chunk2=1348981 --cv_eval_mode=dynamic --num_cores=1 --cores_per_alpha=all --tag=libd_chr1-chr1_AA-1328982-1348981-dynamic-1corestotal-allcorepera-20240411-031442\n"
     ]
    },
    {
     "name": "stderr",
     "output_type": "stream",
     "text": [
      "Sleeping for 240 seconds\n",
      "\n"
     ]
    },
    {
     "name": "stdout",
     "output_type": "stream",
     "text": [
      "#!/bin/bash\n",
      "#SBATCH --nodes=1\n",
      "#SBATCH --ntasks-per-node=1\n",
      "#SBATCH --cpus-per-task=1\n",
      "#SBATCH --mem-per-cpu=24G\n",
      "#SBATCH --output=slurm_output_libd_chr1-chr1_AA-1348982-1368981-dynamic-1corestotal-allcorepera-20240411-031842.out\n",
      "#SBATCH --job-name=libd_chr1-chr1_AA-1348982-1368981-dynamic-1corestotal-allcorepera-20240411-031842\n",
      "module load conda\n",
      "conda activate mwas\n",
      "echo 'Executing Rscript with arguments: Rscript scripts/CLI.R --outdir=./output_chr1_a1/ --snp_data_path=/dcs04/lieber/statsgen/shizhong/michael/mwas/gwas//libd_chr1.pgen --methylation_data_path=/dcs04/lieber/statsgen/shizhong/michael/mwas/pheno/caud/out/chr1_AA.rda --cov=/dcs04/lieber/statsgen/mnagle/mwas/full_covariates/AA_caud.csv --verbose=FALSE --lambda_choice=1se --alphas=0.5 --allow_inefficient_parallelization=FALSE --n_fold=5 --window_sizes=10000 --save_evaluation_results_each_fold=FALSE --save_glmnet_object=FALSE --omit_folds_with_na_r=TRUE --chunk1=1348982 --chunk2=1368981 --cv_eval_mode=dynamic --num_cores=1 --cores_per_alpha=all --tag=libd_chr1-chr1_AA-1348982-1368981-dynamic-1corestotal-allcorepera-20240411-031842'\n",
      "Rscript scripts/CLI.R --outdir=./output_chr1_a1/ --snp_data_path=/dcs04/lieber/statsgen/shizhong/michael/mwas/gwas//libd_chr1.pgen --methylation_data_path=/dcs04/lieber/statsgen/shizhong/michael/mwas/pheno/caud/out/chr1_AA.rda --cov=/dcs04/lieber/statsgen/mnagle/mwas/full_covariates/AA_caud.csv --verbose=FALSE --lambda_choice=1se --alphas=0.5 --allow_inefficient_parallelization=FALSE --n_fold=5 --window_sizes=10000 --save_evaluation_results_each_fold=FALSE --save_glmnet_object=FALSE --omit_folds_with_na_r=TRUE --chunk1=1348982 --chunk2=1368981 --cv_eval_mode=dynamic --num_cores=1 --cores_per_alpha=all --tag=libd_chr1-chr1_AA-1348982-1368981-dynamic-1corestotal-allcorepera-20240411-031842\n"
     ]
    },
    {
     "name": "stderr",
     "output_type": "stream",
     "text": [
      "Sleeping for 240 seconds\n",
      "\n"
     ]
    },
    {
     "name": "stdout",
     "output_type": "stream",
     "text": [
      "#!/bin/bash\n",
      "#SBATCH --nodes=1\n",
      "#SBATCH --ntasks-per-node=1\n",
      "#SBATCH --cpus-per-task=1\n",
      "#SBATCH --mem-per-cpu=24G\n",
      "#SBATCH --output=slurm_output_libd_chr1-chr1_AA-1368982-1388981-dynamic-1corestotal-allcorepera-20240411-032242.out\n",
      "#SBATCH --job-name=libd_chr1-chr1_AA-1368982-1388981-dynamic-1corestotal-allcorepera-20240411-032242\n",
      "module load conda\n",
      "conda activate mwas\n",
      "echo 'Executing Rscript with arguments: Rscript scripts/CLI.R --outdir=./output_chr1_a1/ --snp_data_path=/dcs04/lieber/statsgen/shizhong/michael/mwas/gwas//libd_chr1.pgen --methylation_data_path=/dcs04/lieber/statsgen/shizhong/michael/mwas/pheno/caud/out/chr1_AA.rda --cov=/dcs04/lieber/statsgen/mnagle/mwas/full_covariates/AA_caud.csv --verbose=FALSE --lambda_choice=1se --alphas=0.5 --allow_inefficient_parallelization=FALSE --n_fold=5 --window_sizes=10000 --save_evaluation_results_each_fold=FALSE --save_glmnet_object=FALSE --omit_folds_with_na_r=TRUE --chunk1=1368982 --chunk2=1388981 --cv_eval_mode=dynamic --num_cores=1 --cores_per_alpha=all --tag=libd_chr1-chr1_AA-1368982-1388981-dynamic-1corestotal-allcorepera-20240411-032242'\n",
      "Rscript scripts/CLI.R --outdir=./output_chr1_a1/ --snp_data_path=/dcs04/lieber/statsgen/shizhong/michael/mwas/gwas//libd_chr1.pgen --methylation_data_path=/dcs04/lieber/statsgen/shizhong/michael/mwas/pheno/caud/out/chr1_AA.rda --cov=/dcs04/lieber/statsgen/mnagle/mwas/full_covariates/AA_caud.csv --verbose=FALSE --lambda_choice=1se --alphas=0.5 --allow_inefficient_parallelization=FALSE --n_fold=5 --window_sizes=10000 --save_evaluation_results_each_fold=FALSE --save_glmnet_object=FALSE --omit_folds_with_na_r=TRUE --chunk1=1368982 --chunk2=1388981 --cv_eval_mode=dynamic --num_cores=1 --cores_per_alpha=all --tag=libd_chr1-chr1_AA-1368982-1388981-dynamic-1corestotal-allcorepera-20240411-032242\n"
     ]
    },
    {
     "name": "stderr",
     "output_type": "stream",
     "text": [
      "Sleeping for 240 seconds\n",
      "\n"
     ]
    },
    {
     "name": "stdout",
     "output_type": "stream",
     "text": [
      "#!/bin/bash\n",
      "#SBATCH --nodes=1\n",
      "#SBATCH --ntasks-per-node=1\n",
      "#SBATCH --cpus-per-task=1\n",
      "#SBATCH --mem-per-cpu=24G\n",
      "#SBATCH --output=slurm_output_libd_chr1-chr1_AA-1388982-1408981-dynamic-1corestotal-allcorepera-20240411-032643.out\n",
      "#SBATCH --job-name=libd_chr1-chr1_AA-1388982-1408981-dynamic-1corestotal-allcorepera-20240411-032643\n",
      "module load conda\n",
      "conda activate mwas\n",
      "echo 'Executing Rscript with arguments: Rscript scripts/CLI.R --outdir=./output_chr1_a1/ --snp_data_path=/dcs04/lieber/statsgen/shizhong/michael/mwas/gwas//libd_chr1.pgen --methylation_data_path=/dcs04/lieber/statsgen/shizhong/michael/mwas/pheno/caud/out/chr1_AA.rda --cov=/dcs04/lieber/statsgen/mnagle/mwas/full_covariates/AA_caud.csv --verbose=FALSE --lambda_choice=1se --alphas=0.5 --allow_inefficient_parallelization=FALSE --n_fold=5 --window_sizes=10000 --save_evaluation_results_each_fold=FALSE --save_glmnet_object=FALSE --omit_folds_with_na_r=TRUE --chunk1=1388982 --chunk2=1408981 --cv_eval_mode=dynamic --num_cores=1 --cores_per_alpha=all --tag=libd_chr1-chr1_AA-1388982-1408981-dynamic-1corestotal-allcorepera-20240411-032643'\n",
      "Rscript scripts/CLI.R --outdir=./output_chr1_a1/ --snp_data_path=/dcs04/lieber/statsgen/shizhong/michael/mwas/gwas//libd_chr1.pgen --methylation_data_path=/dcs04/lieber/statsgen/shizhong/michael/mwas/pheno/caud/out/chr1_AA.rda --cov=/dcs04/lieber/statsgen/mnagle/mwas/full_covariates/AA_caud.csv --verbose=FALSE --lambda_choice=1se --alphas=0.5 --allow_inefficient_parallelization=FALSE --n_fold=5 --window_sizes=10000 --save_evaluation_results_each_fold=FALSE --save_glmnet_object=FALSE --omit_folds_with_na_r=TRUE --chunk1=1388982 --chunk2=1408981 --cv_eval_mode=dynamic --num_cores=1 --cores_per_alpha=all --tag=libd_chr1-chr1_AA-1388982-1408981-dynamic-1corestotal-allcorepera-20240411-032643\n"
     ]
    },
    {
     "name": "stderr",
     "output_type": "stream",
     "text": [
      "Sleeping for 240 seconds\n",
      "\n"
     ]
    },
    {
     "name": "stdout",
     "output_type": "stream",
     "text": [
      "#!/bin/bash\n",
      "#SBATCH --nodes=1\n",
      "#SBATCH --ntasks-per-node=1\n",
      "#SBATCH --cpus-per-task=1\n",
      "#SBATCH --mem-per-cpu=24G\n",
      "#SBATCH --output=slurm_output_libd_chr1-chr1_AA-1408982-1428981-dynamic-1corestotal-allcorepera-20240411-033043.out\n",
      "#SBATCH --job-name=libd_chr1-chr1_AA-1408982-1428981-dynamic-1corestotal-allcorepera-20240411-033043\n",
      "module load conda\n",
      "conda activate mwas\n",
      "echo 'Executing Rscript with arguments: Rscript scripts/CLI.R --outdir=./output_chr1_a1/ --snp_data_path=/dcs04/lieber/statsgen/shizhong/michael/mwas/gwas//libd_chr1.pgen --methylation_data_path=/dcs04/lieber/statsgen/shizhong/michael/mwas/pheno/caud/out/chr1_AA.rda --cov=/dcs04/lieber/statsgen/mnagle/mwas/full_covariates/AA_caud.csv --verbose=FALSE --lambda_choice=1se --alphas=0.5 --allow_inefficient_parallelization=FALSE --n_fold=5 --window_sizes=10000 --save_evaluation_results_each_fold=FALSE --save_glmnet_object=FALSE --omit_folds_with_na_r=TRUE --chunk1=1408982 --chunk2=1428981 --cv_eval_mode=dynamic --num_cores=1 --cores_per_alpha=all --tag=libd_chr1-chr1_AA-1408982-1428981-dynamic-1corestotal-allcorepera-20240411-033043'\n",
      "Rscript scripts/CLI.R --outdir=./output_chr1_a1/ --snp_data_path=/dcs04/lieber/statsgen/shizhong/michael/mwas/gwas//libd_chr1.pgen --methylation_data_path=/dcs04/lieber/statsgen/shizhong/michael/mwas/pheno/caud/out/chr1_AA.rda --cov=/dcs04/lieber/statsgen/mnagle/mwas/full_covariates/AA_caud.csv --verbose=FALSE --lambda_choice=1se --alphas=0.5 --allow_inefficient_parallelization=FALSE --n_fold=5 --window_sizes=10000 --save_evaluation_results_each_fold=FALSE --save_glmnet_object=FALSE --omit_folds_with_na_r=TRUE --chunk1=1408982 --chunk2=1428981 --cv_eval_mode=dynamic --num_cores=1 --cores_per_alpha=all --tag=libd_chr1-chr1_AA-1408982-1428981-dynamic-1corestotal-allcorepera-20240411-033043\n"
     ]
    },
    {
     "name": "stderr",
     "output_type": "stream",
     "text": [
      "Sleeping for 240 seconds\n",
      "\n"
     ]
    },
    {
     "name": "stdout",
     "output_type": "stream",
     "text": [
      "#!/bin/bash\n",
      "#SBATCH --nodes=1\n",
      "#SBATCH --ntasks-per-node=1\n",
      "#SBATCH --cpus-per-task=1\n",
      "#SBATCH --mem-per-cpu=24G\n",
      "#SBATCH --output=slurm_output_libd_chr1-chr1_AA-1428982-1448981-dynamic-1corestotal-allcorepera-20240411-033443.out\n",
      "#SBATCH --job-name=libd_chr1-chr1_AA-1428982-1448981-dynamic-1corestotal-allcorepera-20240411-033443\n",
      "module load conda\n",
      "conda activate mwas\n",
      "echo 'Executing Rscript with arguments: Rscript scripts/CLI.R --outdir=./output_chr1_a1/ --snp_data_path=/dcs04/lieber/statsgen/shizhong/michael/mwas/gwas//libd_chr1.pgen --methylation_data_path=/dcs04/lieber/statsgen/shizhong/michael/mwas/pheno/caud/out/chr1_AA.rda --cov=/dcs04/lieber/statsgen/mnagle/mwas/full_covariates/AA_caud.csv --verbose=FALSE --lambda_choice=1se --alphas=0.5 --allow_inefficient_parallelization=FALSE --n_fold=5 --window_sizes=10000 --save_evaluation_results_each_fold=FALSE --save_glmnet_object=FALSE --omit_folds_with_na_r=TRUE --chunk1=1428982 --chunk2=1448981 --cv_eval_mode=dynamic --num_cores=1 --cores_per_alpha=all --tag=libd_chr1-chr1_AA-1428982-1448981-dynamic-1corestotal-allcorepera-20240411-033443'\n",
      "Rscript scripts/CLI.R --outdir=./output_chr1_a1/ --snp_data_path=/dcs04/lieber/statsgen/shizhong/michael/mwas/gwas//libd_chr1.pgen --methylation_data_path=/dcs04/lieber/statsgen/shizhong/michael/mwas/pheno/caud/out/chr1_AA.rda --cov=/dcs04/lieber/statsgen/mnagle/mwas/full_covariates/AA_caud.csv --verbose=FALSE --lambda_choice=1se --alphas=0.5 --allow_inefficient_parallelization=FALSE --n_fold=5 --window_sizes=10000 --save_evaluation_results_each_fold=FALSE --save_glmnet_object=FALSE --omit_folds_with_na_r=TRUE --chunk1=1428982 --chunk2=1448981 --cv_eval_mode=dynamic --num_cores=1 --cores_per_alpha=all --tag=libd_chr1-chr1_AA-1428982-1448981-dynamic-1corestotal-allcorepera-20240411-033443\n"
     ]
    },
    {
     "name": "stderr",
     "output_type": "stream",
     "text": [
      "Sleeping for 240 seconds\n",
      "\n"
     ]
    },
    {
     "name": "stdout",
     "output_type": "stream",
     "text": [
      "#!/bin/bash\n",
      "#SBATCH --nodes=1\n",
      "#SBATCH --ntasks-per-node=1\n",
      "#SBATCH --cpus-per-task=1\n",
      "#SBATCH --mem-per-cpu=24G\n",
      "#SBATCH --output=slurm_output_libd_chr1-chr1_AA-1448982-1468981-dynamic-1corestotal-allcorepera-20240411-033843.out\n",
      "#SBATCH --job-name=libd_chr1-chr1_AA-1448982-1468981-dynamic-1corestotal-allcorepera-20240411-033843\n",
      "module load conda\n",
      "conda activate mwas\n",
      "echo 'Executing Rscript with arguments: Rscript scripts/CLI.R --outdir=./output_chr1_a1/ --snp_data_path=/dcs04/lieber/statsgen/shizhong/michael/mwas/gwas//libd_chr1.pgen --methylation_data_path=/dcs04/lieber/statsgen/shizhong/michael/mwas/pheno/caud/out/chr1_AA.rda --cov=/dcs04/lieber/statsgen/mnagle/mwas/full_covariates/AA_caud.csv --verbose=FALSE --lambda_choice=1se --alphas=0.5 --allow_inefficient_parallelization=FALSE --n_fold=5 --window_sizes=10000 --save_evaluation_results_each_fold=FALSE --save_glmnet_object=FALSE --omit_folds_with_na_r=TRUE --chunk1=1448982 --chunk2=1468981 --cv_eval_mode=dynamic --num_cores=1 --cores_per_alpha=all --tag=libd_chr1-chr1_AA-1448982-1468981-dynamic-1corestotal-allcorepera-20240411-033843'\n",
      "Rscript scripts/CLI.R --outdir=./output_chr1_a1/ --snp_data_path=/dcs04/lieber/statsgen/shizhong/michael/mwas/gwas//libd_chr1.pgen --methylation_data_path=/dcs04/lieber/statsgen/shizhong/michael/mwas/pheno/caud/out/chr1_AA.rda --cov=/dcs04/lieber/statsgen/mnagle/mwas/full_covariates/AA_caud.csv --verbose=FALSE --lambda_choice=1se --alphas=0.5 --allow_inefficient_parallelization=FALSE --n_fold=5 --window_sizes=10000 --save_evaluation_results_each_fold=FALSE --save_glmnet_object=FALSE --omit_folds_with_na_r=TRUE --chunk1=1448982 --chunk2=1468981 --cv_eval_mode=dynamic --num_cores=1 --cores_per_alpha=all --tag=libd_chr1-chr1_AA-1448982-1468981-dynamic-1corestotal-allcorepera-20240411-033843\n"
     ]
    },
    {
     "name": "stderr",
     "output_type": "stream",
     "text": [
      "Sleeping for 240 seconds\n",
      "\n"
     ]
    },
    {
     "name": "stdout",
     "output_type": "stream",
     "text": [
      "#!/bin/bash\n",
      "#SBATCH --nodes=1\n",
      "#SBATCH --ntasks-per-node=1\n",
      "#SBATCH --cpus-per-task=1\n",
      "#SBATCH --mem-per-cpu=24G\n",
      "#SBATCH --output=slurm_output_libd_chr1-chr1_AA-1468982-1488981-dynamic-1corestotal-allcorepera-20240411-034244.out\n",
      "#SBATCH --job-name=libd_chr1-chr1_AA-1468982-1488981-dynamic-1corestotal-allcorepera-20240411-034244\n",
      "module load conda\n",
      "conda activate mwas\n",
      "echo 'Executing Rscript with arguments: Rscript scripts/CLI.R --outdir=./output_chr1_a1/ --snp_data_path=/dcs04/lieber/statsgen/shizhong/michael/mwas/gwas//libd_chr1.pgen --methylation_data_path=/dcs04/lieber/statsgen/shizhong/michael/mwas/pheno/caud/out/chr1_AA.rda --cov=/dcs04/lieber/statsgen/mnagle/mwas/full_covariates/AA_caud.csv --verbose=FALSE --lambda_choice=1se --alphas=0.5 --allow_inefficient_parallelization=FALSE --n_fold=5 --window_sizes=10000 --save_evaluation_results_each_fold=FALSE --save_glmnet_object=FALSE --omit_folds_with_na_r=TRUE --chunk1=1468982 --chunk2=1488981 --cv_eval_mode=dynamic --num_cores=1 --cores_per_alpha=all --tag=libd_chr1-chr1_AA-1468982-1488981-dynamic-1corestotal-allcorepera-20240411-034244'\n",
      "Rscript scripts/CLI.R --outdir=./output_chr1_a1/ --snp_data_path=/dcs04/lieber/statsgen/shizhong/michael/mwas/gwas//libd_chr1.pgen --methylation_data_path=/dcs04/lieber/statsgen/shizhong/michael/mwas/pheno/caud/out/chr1_AA.rda --cov=/dcs04/lieber/statsgen/mnagle/mwas/full_covariates/AA_caud.csv --verbose=FALSE --lambda_choice=1se --alphas=0.5 --allow_inefficient_parallelization=FALSE --n_fold=5 --window_sizes=10000 --save_evaluation_results_each_fold=FALSE --save_glmnet_object=FALSE --omit_folds_with_na_r=TRUE --chunk1=1468982 --chunk2=1488981 --cv_eval_mode=dynamic --num_cores=1 --cores_per_alpha=all --tag=libd_chr1-chr1_AA-1468982-1488981-dynamic-1corestotal-allcorepera-20240411-034244\n"
     ]
    },
    {
     "name": "stderr",
     "output_type": "stream",
     "text": [
      "Sleeping for 240 seconds\n",
      "\n"
     ]
    },
    {
     "name": "stdout",
     "output_type": "stream",
     "text": [
      "#!/bin/bash\n",
      "#SBATCH --nodes=1\n",
      "#SBATCH --ntasks-per-node=1\n",
      "#SBATCH --cpus-per-task=1\n",
      "#SBATCH --mem-per-cpu=24G\n",
      "#SBATCH --output=slurm_output_libd_chr1-chr1_AA-1488982-1508981-dynamic-1corestotal-allcorepera-20240411-034644.out\n",
      "#SBATCH --job-name=libd_chr1-chr1_AA-1488982-1508981-dynamic-1corestotal-allcorepera-20240411-034644\n",
      "module load conda\n",
      "conda activate mwas\n",
      "echo 'Executing Rscript with arguments: Rscript scripts/CLI.R --outdir=./output_chr1_a1/ --snp_data_path=/dcs04/lieber/statsgen/shizhong/michael/mwas/gwas//libd_chr1.pgen --methylation_data_path=/dcs04/lieber/statsgen/shizhong/michael/mwas/pheno/caud/out/chr1_AA.rda --cov=/dcs04/lieber/statsgen/mnagle/mwas/full_covariates/AA_caud.csv --verbose=FALSE --lambda_choice=1se --alphas=0.5 --allow_inefficient_parallelization=FALSE --n_fold=5 --window_sizes=10000 --save_evaluation_results_each_fold=FALSE --save_glmnet_object=FALSE --omit_folds_with_na_r=TRUE --chunk1=1488982 --chunk2=1508981 --cv_eval_mode=dynamic --num_cores=1 --cores_per_alpha=all --tag=libd_chr1-chr1_AA-1488982-1508981-dynamic-1corestotal-allcorepera-20240411-034644'\n",
      "Rscript scripts/CLI.R --outdir=./output_chr1_a1/ --snp_data_path=/dcs04/lieber/statsgen/shizhong/michael/mwas/gwas//libd_chr1.pgen --methylation_data_path=/dcs04/lieber/statsgen/shizhong/michael/mwas/pheno/caud/out/chr1_AA.rda --cov=/dcs04/lieber/statsgen/mnagle/mwas/full_covariates/AA_caud.csv --verbose=FALSE --lambda_choice=1se --alphas=0.5 --allow_inefficient_parallelization=FALSE --n_fold=5 --window_sizes=10000 --save_evaluation_results_each_fold=FALSE --save_glmnet_object=FALSE --omit_folds_with_na_r=TRUE --chunk1=1488982 --chunk2=1508981 --cv_eval_mode=dynamic --num_cores=1 --cores_per_alpha=all --tag=libd_chr1-chr1_AA-1488982-1508981-dynamic-1corestotal-allcorepera-20240411-034644\n"
     ]
    },
    {
     "name": "stderr",
     "output_type": "stream",
     "text": [
      "Sleeping for 240 seconds\n",
      "\n"
     ]
    },
    {
     "name": "stdout",
     "output_type": "stream",
     "text": [
      "#!/bin/bash\n",
      "#SBATCH --nodes=1\n",
      "#SBATCH --ntasks-per-node=1\n",
      "#SBATCH --cpus-per-task=1\n",
      "#SBATCH --mem-per-cpu=24G\n",
      "#SBATCH --output=slurm_output_libd_chr1-chr1_AA-1508982-1528981-dynamic-1corestotal-allcorepera-20240411-035045.out\n",
      "#SBATCH --job-name=libd_chr1-chr1_AA-1508982-1528981-dynamic-1corestotal-allcorepera-20240411-035045\n",
      "module load conda\n",
      "conda activate mwas\n",
      "echo 'Executing Rscript with arguments: Rscript scripts/CLI.R --outdir=./output_chr1_a1/ --snp_data_path=/dcs04/lieber/statsgen/shizhong/michael/mwas/gwas//libd_chr1.pgen --methylation_data_path=/dcs04/lieber/statsgen/shizhong/michael/mwas/pheno/caud/out/chr1_AA.rda --cov=/dcs04/lieber/statsgen/mnagle/mwas/full_covariates/AA_caud.csv --verbose=FALSE --lambda_choice=1se --alphas=0.5 --allow_inefficient_parallelization=FALSE --n_fold=5 --window_sizes=10000 --save_evaluation_results_each_fold=FALSE --save_glmnet_object=FALSE --omit_folds_with_na_r=TRUE --chunk1=1508982 --chunk2=1528981 --cv_eval_mode=dynamic --num_cores=1 --cores_per_alpha=all --tag=libd_chr1-chr1_AA-1508982-1528981-dynamic-1corestotal-allcorepera-20240411-035045'\n",
      "Rscript scripts/CLI.R --outdir=./output_chr1_a1/ --snp_data_path=/dcs04/lieber/statsgen/shizhong/michael/mwas/gwas//libd_chr1.pgen --methylation_data_path=/dcs04/lieber/statsgen/shizhong/michael/mwas/pheno/caud/out/chr1_AA.rda --cov=/dcs04/lieber/statsgen/mnagle/mwas/full_covariates/AA_caud.csv --verbose=FALSE --lambda_choice=1se --alphas=0.5 --allow_inefficient_parallelization=FALSE --n_fold=5 --window_sizes=10000 --save_evaluation_results_each_fold=FALSE --save_glmnet_object=FALSE --omit_folds_with_na_r=TRUE --chunk1=1508982 --chunk2=1528981 --cv_eval_mode=dynamic --num_cores=1 --cores_per_alpha=all --tag=libd_chr1-chr1_AA-1508982-1528981-dynamic-1corestotal-allcorepera-20240411-035045\n"
     ]
    },
    {
     "name": "stderr",
     "output_type": "stream",
     "text": [
      "Sleeping for 240 seconds\n",
      "\n"
     ]
    },
    {
     "name": "stdout",
     "output_type": "stream",
     "text": [
      "#!/bin/bash\n",
      "#SBATCH --nodes=1\n",
      "#SBATCH --ntasks-per-node=1\n",
      "#SBATCH --cpus-per-task=1\n",
      "#SBATCH --mem-per-cpu=24G\n",
      "#SBATCH --output=slurm_output_libd_chr1-chr1_AA-1528982-1548981-dynamic-1corestotal-allcorepera-20240411-035445.out\n",
      "#SBATCH --job-name=libd_chr1-chr1_AA-1528982-1548981-dynamic-1corestotal-allcorepera-20240411-035445\n",
      "module load conda\n",
      "conda activate mwas\n",
      "echo 'Executing Rscript with arguments: Rscript scripts/CLI.R --outdir=./output_chr1_a1/ --snp_data_path=/dcs04/lieber/statsgen/shizhong/michael/mwas/gwas//libd_chr1.pgen --methylation_data_path=/dcs04/lieber/statsgen/shizhong/michael/mwas/pheno/caud/out/chr1_AA.rda --cov=/dcs04/lieber/statsgen/mnagle/mwas/full_covariates/AA_caud.csv --verbose=FALSE --lambda_choice=1se --alphas=0.5 --allow_inefficient_parallelization=FALSE --n_fold=5 --window_sizes=10000 --save_evaluation_results_each_fold=FALSE --save_glmnet_object=FALSE --omit_folds_with_na_r=TRUE --chunk1=1528982 --chunk2=1548981 --cv_eval_mode=dynamic --num_cores=1 --cores_per_alpha=all --tag=libd_chr1-chr1_AA-1528982-1548981-dynamic-1corestotal-allcorepera-20240411-035445'\n",
      "Rscript scripts/CLI.R --outdir=./output_chr1_a1/ --snp_data_path=/dcs04/lieber/statsgen/shizhong/michael/mwas/gwas//libd_chr1.pgen --methylation_data_path=/dcs04/lieber/statsgen/shizhong/michael/mwas/pheno/caud/out/chr1_AA.rda --cov=/dcs04/lieber/statsgen/mnagle/mwas/full_covariates/AA_caud.csv --verbose=FALSE --lambda_choice=1se --alphas=0.5 --allow_inefficient_parallelization=FALSE --n_fold=5 --window_sizes=10000 --save_evaluation_results_each_fold=FALSE --save_glmnet_object=FALSE --omit_folds_with_na_r=TRUE --chunk1=1528982 --chunk2=1548981 --cv_eval_mode=dynamic --num_cores=1 --cores_per_alpha=all --tag=libd_chr1-chr1_AA-1528982-1548981-dynamic-1corestotal-allcorepera-20240411-035445\n"
     ]
    },
    {
     "name": "stderr",
     "output_type": "stream",
     "text": [
      "Sleeping for 240 seconds\n",
      "\n"
     ]
    },
    {
     "name": "stdout",
     "output_type": "stream",
     "text": [
      "#!/bin/bash\n",
      "#SBATCH --nodes=1\n",
      "#SBATCH --ntasks-per-node=1\n",
      "#SBATCH --cpus-per-task=1\n",
      "#SBATCH --mem-per-cpu=24G\n",
      "#SBATCH --output=slurm_output_libd_chr1-chr1_AA-1548982-1568981-dynamic-1corestotal-allcorepera-20240411-035845.out\n",
      "#SBATCH --job-name=libd_chr1-chr1_AA-1548982-1568981-dynamic-1corestotal-allcorepera-20240411-035845\n",
      "module load conda\n",
      "conda activate mwas\n",
      "echo 'Executing Rscript with arguments: Rscript scripts/CLI.R --outdir=./output_chr1_a1/ --snp_data_path=/dcs04/lieber/statsgen/shizhong/michael/mwas/gwas//libd_chr1.pgen --methylation_data_path=/dcs04/lieber/statsgen/shizhong/michael/mwas/pheno/caud/out/chr1_AA.rda --cov=/dcs04/lieber/statsgen/mnagle/mwas/full_covariates/AA_caud.csv --verbose=FALSE --lambda_choice=1se --alphas=0.5 --allow_inefficient_parallelization=FALSE --n_fold=5 --window_sizes=10000 --save_evaluation_results_each_fold=FALSE --save_glmnet_object=FALSE --omit_folds_with_na_r=TRUE --chunk1=1548982 --chunk2=1568981 --cv_eval_mode=dynamic --num_cores=1 --cores_per_alpha=all --tag=libd_chr1-chr1_AA-1548982-1568981-dynamic-1corestotal-allcorepera-20240411-035845'\n",
      "Rscript scripts/CLI.R --outdir=./output_chr1_a1/ --snp_data_path=/dcs04/lieber/statsgen/shizhong/michael/mwas/gwas//libd_chr1.pgen --methylation_data_path=/dcs04/lieber/statsgen/shizhong/michael/mwas/pheno/caud/out/chr1_AA.rda --cov=/dcs04/lieber/statsgen/mnagle/mwas/full_covariates/AA_caud.csv --verbose=FALSE --lambda_choice=1se --alphas=0.5 --allow_inefficient_parallelization=FALSE --n_fold=5 --window_sizes=10000 --save_evaluation_results_each_fold=FALSE --save_glmnet_object=FALSE --omit_folds_with_na_r=TRUE --chunk1=1548982 --chunk2=1568981 --cv_eval_mode=dynamic --num_cores=1 --cores_per_alpha=all --tag=libd_chr1-chr1_AA-1548982-1568981-dynamic-1corestotal-allcorepera-20240411-035845\n"
     ]
    },
    {
     "name": "stderr",
     "output_type": "stream",
     "text": [
      "Sleeping for 240 seconds\n",
      "\n"
     ]
    },
    {
     "name": "stdout",
     "output_type": "stream",
     "text": [
      "#!/bin/bash\n",
      "#SBATCH --nodes=1\n",
      "#SBATCH --ntasks-per-node=1\n",
      "#SBATCH --cpus-per-task=1\n",
      "#SBATCH --mem-per-cpu=24G\n",
      "#SBATCH --output=slurm_output_libd_chr1-chr1_AA-1568982-1588981-dynamic-1corestotal-allcorepera-20240411-040245.out\n",
      "#SBATCH --job-name=libd_chr1-chr1_AA-1568982-1588981-dynamic-1corestotal-allcorepera-20240411-040245\n",
      "module load conda\n",
      "conda activate mwas\n",
      "echo 'Executing Rscript with arguments: Rscript scripts/CLI.R --outdir=./output_chr1_a1/ --snp_data_path=/dcs04/lieber/statsgen/shizhong/michael/mwas/gwas//libd_chr1.pgen --methylation_data_path=/dcs04/lieber/statsgen/shizhong/michael/mwas/pheno/caud/out/chr1_AA.rda --cov=/dcs04/lieber/statsgen/mnagle/mwas/full_covariates/AA_caud.csv --verbose=FALSE --lambda_choice=1se --alphas=0.5 --allow_inefficient_parallelization=FALSE --n_fold=5 --window_sizes=10000 --save_evaluation_results_each_fold=FALSE --save_glmnet_object=FALSE --omit_folds_with_na_r=TRUE --chunk1=1568982 --chunk2=1588981 --cv_eval_mode=dynamic --num_cores=1 --cores_per_alpha=all --tag=libd_chr1-chr1_AA-1568982-1588981-dynamic-1corestotal-allcorepera-20240411-040245'\n",
      "Rscript scripts/CLI.R --outdir=./output_chr1_a1/ --snp_data_path=/dcs04/lieber/statsgen/shizhong/michael/mwas/gwas//libd_chr1.pgen --methylation_data_path=/dcs04/lieber/statsgen/shizhong/michael/mwas/pheno/caud/out/chr1_AA.rda --cov=/dcs04/lieber/statsgen/mnagle/mwas/full_covariates/AA_caud.csv --verbose=FALSE --lambda_choice=1se --alphas=0.5 --allow_inefficient_parallelization=FALSE --n_fold=5 --window_sizes=10000 --save_evaluation_results_each_fold=FALSE --save_glmnet_object=FALSE --omit_folds_with_na_r=TRUE --chunk1=1568982 --chunk2=1588981 --cv_eval_mode=dynamic --num_cores=1 --cores_per_alpha=all --tag=libd_chr1-chr1_AA-1568982-1588981-dynamic-1corestotal-allcorepera-20240411-040245\n"
     ]
    },
    {
     "name": "stderr",
     "output_type": "stream",
     "text": [
      "Sleeping for 240 seconds\n",
      "\n"
     ]
    },
    {
     "name": "stdout",
     "output_type": "stream",
     "text": [
      "#!/bin/bash\n",
      "#SBATCH --nodes=1\n",
      "#SBATCH --ntasks-per-node=1\n",
      "#SBATCH --cpus-per-task=1\n",
      "#SBATCH --mem-per-cpu=24G\n",
      "#SBATCH --output=slurm_output_libd_chr1-chr1_AA-1588982-1608981-dynamic-1corestotal-allcorepera-20240411-040645.out\n",
      "#SBATCH --job-name=libd_chr1-chr1_AA-1588982-1608981-dynamic-1corestotal-allcorepera-20240411-040645\n",
      "module load conda\n",
      "conda activate mwas\n",
      "echo 'Executing Rscript with arguments: Rscript scripts/CLI.R --outdir=./output_chr1_a1/ --snp_data_path=/dcs04/lieber/statsgen/shizhong/michael/mwas/gwas//libd_chr1.pgen --methylation_data_path=/dcs04/lieber/statsgen/shizhong/michael/mwas/pheno/caud/out/chr1_AA.rda --cov=/dcs04/lieber/statsgen/mnagle/mwas/full_covariates/AA_caud.csv --verbose=FALSE --lambda_choice=1se --alphas=0.5 --allow_inefficient_parallelization=FALSE --n_fold=5 --window_sizes=10000 --save_evaluation_results_each_fold=FALSE --save_glmnet_object=FALSE --omit_folds_with_na_r=TRUE --chunk1=1588982 --chunk2=1608981 --cv_eval_mode=dynamic --num_cores=1 --cores_per_alpha=all --tag=libd_chr1-chr1_AA-1588982-1608981-dynamic-1corestotal-allcorepera-20240411-040645'\n",
      "Rscript scripts/CLI.R --outdir=./output_chr1_a1/ --snp_data_path=/dcs04/lieber/statsgen/shizhong/michael/mwas/gwas//libd_chr1.pgen --methylation_data_path=/dcs04/lieber/statsgen/shizhong/michael/mwas/pheno/caud/out/chr1_AA.rda --cov=/dcs04/lieber/statsgen/mnagle/mwas/full_covariates/AA_caud.csv --verbose=FALSE --lambda_choice=1se --alphas=0.5 --allow_inefficient_parallelization=FALSE --n_fold=5 --window_sizes=10000 --save_evaluation_results_each_fold=FALSE --save_glmnet_object=FALSE --omit_folds_with_na_r=TRUE --chunk1=1588982 --chunk2=1608981 --cv_eval_mode=dynamic --num_cores=1 --cores_per_alpha=all --tag=libd_chr1-chr1_AA-1588982-1608981-dynamic-1corestotal-allcorepera-20240411-040645\n"
     ]
    },
    {
     "name": "stderr",
     "output_type": "stream",
     "text": [
      "Sleeping for 240 seconds\n",
      "\n"
     ]
    },
    {
     "name": "stdout",
     "output_type": "stream",
     "text": [
      "#!/bin/bash\n",
      "#SBATCH --nodes=1\n",
      "#SBATCH --ntasks-per-node=1\n",
      "#SBATCH --cpus-per-task=1\n",
      "#SBATCH --mem-per-cpu=24G\n",
      "#SBATCH --output=slurm_output_libd_chr1-chr1_AA-1608982-1628981-dynamic-1corestotal-allcorepera-20240411-041045.out\n",
      "#SBATCH --job-name=libd_chr1-chr1_AA-1608982-1628981-dynamic-1corestotal-allcorepera-20240411-041045\n",
      "module load conda\n",
      "conda activate mwas\n",
      "echo 'Executing Rscript with arguments: Rscript scripts/CLI.R --outdir=./output_chr1_a1/ --snp_data_path=/dcs04/lieber/statsgen/shizhong/michael/mwas/gwas//libd_chr1.pgen --methylation_data_path=/dcs04/lieber/statsgen/shizhong/michael/mwas/pheno/caud/out/chr1_AA.rda --cov=/dcs04/lieber/statsgen/mnagle/mwas/full_covariates/AA_caud.csv --verbose=FALSE --lambda_choice=1se --alphas=0.5 --allow_inefficient_parallelization=FALSE --n_fold=5 --window_sizes=10000 --save_evaluation_results_each_fold=FALSE --save_glmnet_object=FALSE --omit_folds_with_na_r=TRUE --chunk1=1608982 --chunk2=1628981 --cv_eval_mode=dynamic --num_cores=1 --cores_per_alpha=all --tag=libd_chr1-chr1_AA-1608982-1628981-dynamic-1corestotal-allcorepera-20240411-041045'\n",
      "Rscript scripts/CLI.R --outdir=./output_chr1_a1/ --snp_data_path=/dcs04/lieber/statsgen/shizhong/michael/mwas/gwas//libd_chr1.pgen --methylation_data_path=/dcs04/lieber/statsgen/shizhong/michael/mwas/pheno/caud/out/chr1_AA.rda --cov=/dcs04/lieber/statsgen/mnagle/mwas/full_covariates/AA_caud.csv --verbose=FALSE --lambda_choice=1se --alphas=0.5 --allow_inefficient_parallelization=FALSE --n_fold=5 --window_sizes=10000 --save_evaluation_results_each_fold=FALSE --save_glmnet_object=FALSE --omit_folds_with_na_r=TRUE --chunk1=1608982 --chunk2=1628981 --cv_eval_mode=dynamic --num_cores=1 --cores_per_alpha=all --tag=libd_chr1-chr1_AA-1608982-1628981-dynamic-1corestotal-allcorepera-20240411-041045\n"
     ]
    },
    {
     "name": "stderr",
     "output_type": "stream",
     "text": [
      "Sleeping for 240 seconds\n",
      "\n"
     ]
    },
    {
     "name": "stdout",
     "output_type": "stream",
     "text": [
      "#!/bin/bash\n",
      "#SBATCH --nodes=1\n",
      "#SBATCH --ntasks-per-node=1\n",
      "#SBATCH --cpus-per-task=1\n",
      "#SBATCH --mem-per-cpu=24G\n",
      "#SBATCH --output=slurm_output_libd_chr1-chr1_AA-1628982-1648981-dynamic-1corestotal-allcorepera-20240411-041445.out\n",
      "#SBATCH --job-name=libd_chr1-chr1_AA-1628982-1648981-dynamic-1corestotal-allcorepera-20240411-041445\n",
      "module load conda\n",
      "conda activate mwas\n",
      "echo 'Executing Rscript with arguments: Rscript scripts/CLI.R --outdir=./output_chr1_a1/ --snp_data_path=/dcs04/lieber/statsgen/shizhong/michael/mwas/gwas//libd_chr1.pgen --methylation_data_path=/dcs04/lieber/statsgen/shizhong/michael/mwas/pheno/caud/out/chr1_AA.rda --cov=/dcs04/lieber/statsgen/mnagle/mwas/full_covariates/AA_caud.csv --verbose=FALSE --lambda_choice=1se --alphas=0.5 --allow_inefficient_parallelization=FALSE --n_fold=5 --window_sizes=10000 --save_evaluation_results_each_fold=FALSE --save_glmnet_object=FALSE --omit_folds_with_na_r=TRUE --chunk1=1628982 --chunk2=1648981 --cv_eval_mode=dynamic --num_cores=1 --cores_per_alpha=all --tag=libd_chr1-chr1_AA-1628982-1648981-dynamic-1corestotal-allcorepera-20240411-041445'\n",
      "Rscript scripts/CLI.R --outdir=./output_chr1_a1/ --snp_data_path=/dcs04/lieber/statsgen/shizhong/michael/mwas/gwas//libd_chr1.pgen --methylation_data_path=/dcs04/lieber/statsgen/shizhong/michael/mwas/pheno/caud/out/chr1_AA.rda --cov=/dcs04/lieber/statsgen/mnagle/mwas/full_covariates/AA_caud.csv --verbose=FALSE --lambda_choice=1se --alphas=0.5 --allow_inefficient_parallelization=FALSE --n_fold=5 --window_sizes=10000 --save_evaluation_results_each_fold=FALSE --save_glmnet_object=FALSE --omit_folds_with_na_r=TRUE --chunk1=1628982 --chunk2=1648981 --cv_eval_mode=dynamic --num_cores=1 --cores_per_alpha=all --tag=libd_chr1-chr1_AA-1628982-1648981-dynamic-1corestotal-allcorepera-20240411-041445\n"
     ]
    },
    {
     "name": "stderr",
     "output_type": "stream",
     "text": [
      "Sleeping for 240 seconds\n",
      "\n"
     ]
    },
    {
     "name": "stdout",
     "output_type": "stream",
     "text": [
      "#!/bin/bash\n",
      "#SBATCH --nodes=1\n",
      "#SBATCH --ntasks-per-node=1\n",
      "#SBATCH --cpus-per-task=1\n",
      "#SBATCH --mem-per-cpu=24G\n",
      "#SBATCH --output=slurm_output_libd_chr1-chr1_AA-1648982-1668981-dynamic-1corestotal-allcorepera-20240411-041847.out\n",
      "#SBATCH --job-name=libd_chr1-chr1_AA-1648982-1668981-dynamic-1corestotal-allcorepera-20240411-041847\n",
      "module load conda\n",
      "conda activate mwas\n",
      "echo 'Executing Rscript with arguments: Rscript scripts/CLI.R --outdir=./output_chr1_a1/ --snp_data_path=/dcs04/lieber/statsgen/shizhong/michael/mwas/gwas//libd_chr1.pgen --methylation_data_path=/dcs04/lieber/statsgen/shizhong/michael/mwas/pheno/caud/out/chr1_AA.rda --cov=/dcs04/lieber/statsgen/mnagle/mwas/full_covariates/AA_caud.csv --verbose=FALSE --lambda_choice=1se --alphas=0.5 --allow_inefficient_parallelization=FALSE --n_fold=5 --window_sizes=10000 --save_evaluation_results_each_fold=FALSE --save_glmnet_object=FALSE --omit_folds_with_na_r=TRUE --chunk1=1648982 --chunk2=1668981 --cv_eval_mode=dynamic --num_cores=1 --cores_per_alpha=all --tag=libd_chr1-chr1_AA-1648982-1668981-dynamic-1corestotal-allcorepera-20240411-041847'\n",
      "Rscript scripts/CLI.R --outdir=./output_chr1_a1/ --snp_data_path=/dcs04/lieber/statsgen/shizhong/michael/mwas/gwas//libd_chr1.pgen --methylation_data_path=/dcs04/lieber/statsgen/shizhong/michael/mwas/pheno/caud/out/chr1_AA.rda --cov=/dcs04/lieber/statsgen/mnagle/mwas/full_covariates/AA_caud.csv --verbose=FALSE --lambda_choice=1se --alphas=0.5 --allow_inefficient_parallelization=FALSE --n_fold=5 --window_sizes=10000 --save_evaluation_results_each_fold=FALSE --save_glmnet_object=FALSE --omit_folds_with_na_r=TRUE --chunk1=1648982 --chunk2=1668981 --cv_eval_mode=dynamic --num_cores=1 --cores_per_alpha=all --tag=libd_chr1-chr1_AA-1648982-1668981-dynamic-1corestotal-allcorepera-20240411-041847\n"
     ]
    },
    {
     "name": "stderr",
     "output_type": "stream",
     "text": [
      "Sleeping for 240 seconds\n",
      "\n"
     ]
    },
    {
     "name": "stdout",
     "output_type": "stream",
     "text": [
      "#!/bin/bash\n",
      "#SBATCH --nodes=1\n",
      "#SBATCH --ntasks-per-node=1\n",
      "#SBATCH --cpus-per-task=1\n",
      "#SBATCH --mem-per-cpu=24G\n",
      "#SBATCH --output=slurm_output_libd_chr1-chr1_AA-1668982-1688981-dynamic-1corestotal-allcorepera-20240411-042247.out\n",
      "#SBATCH --job-name=libd_chr1-chr1_AA-1668982-1688981-dynamic-1corestotal-allcorepera-20240411-042247\n",
      "module load conda\n",
      "conda activate mwas\n",
      "echo 'Executing Rscript with arguments: Rscript scripts/CLI.R --outdir=./output_chr1_a1/ --snp_data_path=/dcs04/lieber/statsgen/shizhong/michael/mwas/gwas//libd_chr1.pgen --methylation_data_path=/dcs04/lieber/statsgen/shizhong/michael/mwas/pheno/caud/out/chr1_AA.rda --cov=/dcs04/lieber/statsgen/mnagle/mwas/full_covariates/AA_caud.csv --verbose=FALSE --lambda_choice=1se --alphas=0.5 --allow_inefficient_parallelization=FALSE --n_fold=5 --window_sizes=10000 --save_evaluation_results_each_fold=FALSE --save_glmnet_object=FALSE --omit_folds_with_na_r=TRUE --chunk1=1668982 --chunk2=1688981 --cv_eval_mode=dynamic --num_cores=1 --cores_per_alpha=all --tag=libd_chr1-chr1_AA-1668982-1688981-dynamic-1corestotal-allcorepera-20240411-042247'\n",
      "Rscript scripts/CLI.R --outdir=./output_chr1_a1/ --snp_data_path=/dcs04/lieber/statsgen/shizhong/michael/mwas/gwas//libd_chr1.pgen --methylation_data_path=/dcs04/lieber/statsgen/shizhong/michael/mwas/pheno/caud/out/chr1_AA.rda --cov=/dcs04/lieber/statsgen/mnagle/mwas/full_covariates/AA_caud.csv --verbose=FALSE --lambda_choice=1se --alphas=0.5 --allow_inefficient_parallelization=FALSE --n_fold=5 --window_sizes=10000 --save_evaluation_results_each_fold=FALSE --save_glmnet_object=FALSE --omit_folds_with_na_r=TRUE --chunk1=1668982 --chunk2=1688981 --cv_eval_mode=dynamic --num_cores=1 --cores_per_alpha=all --tag=libd_chr1-chr1_AA-1668982-1688981-dynamic-1corestotal-allcorepera-20240411-042247\n"
     ]
    },
    {
     "name": "stderr",
     "output_type": "stream",
     "text": [
      "Sleeping for 240 seconds\n",
      "\n"
     ]
    },
    {
     "name": "stdout",
     "output_type": "stream",
     "text": [
      "#!/bin/bash\n",
      "#SBATCH --nodes=1\n",
      "#SBATCH --ntasks-per-node=1\n",
      "#SBATCH --cpus-per-task=1\n",
      "#SBATCH --mem-per-cpu=24G\n",
      "#SBATCH --output=slurm_output_libd_chr1-chr1_AA-1688982-1708981-dynamic-1corestotal-allcorepera-20240411-042647.out\n",
      "#SBATCH --job-name=libd_chr1-chr1_AA-1688982-1708981-dynamic-1corestotal-allcorepera-20240411-042647\n",
      "module load conda\n",
      "conda activate mwas\n",
      "echo 'Executing Rscript with arguments: Rscript scripts/CLI.R --outdir=./output_chr1_a1/ --snp_data_path=/dcs04/lieber/statsgen/shizhong/michael/mwas/gwas//libd_chr1.pgen --methylation_data_path=/dcs04/lieber/statsgen/shizhong/michael/mwas/pheno/caud/out/chr1_AA.rda --cov=/dcs04/lieber/statsgen/mnagle/mwas/full_covariates/AA_caud.csv --verbose=FALSE --lambda_choice=1se --alphas=0.5 --allow_inefficient_parallelization=FALSE --n_fold=5 --window_sizes=10000 --save_evaluation_results_each_fold=FALSE --save_glmnet_object=FALSE --omit_folds_with_na_r=TRUE --chunk1=1688982 --chunk2=1708981 --cv_eval_mode=dynamic --num_cores=1 --cores_per_alpha=all --tag=libd_chr1-chr1_AA-1688982-1708981-dynamic-1corestotal-allcorepera-20240411-042647'\n",
      "Rscript scripts/CLI.R --outdir=./output_chr1_a1/ --snp_data_path=/dcs04/lieber/statsgen/shizhong/michael/mwas/gwas//libd_chr1.pgen --methylation_data_path=/dcs04/lieber/statsgen/shizhong/michael/mwas/pheno/caud/out/chr1_AA.rda --cov=/dcs04/lieber/statsgen/mnagle/mwas/full_covariates/AA_caud.csv --verbose=FALSE --lambda_choice=1se --alphas=0.5 --allow_inefficient_parallelization=FALSE --n_fold=5 --window_sizes=10000 --save_evaluation_results_each_fold=FALSE --save_glmnet_object=FALSE --omit_folds_with_na_r=TRUE --chunk1=1688982 --chunk2=1708981 --cv_eval_mode=dynamic --num_cores=1 --cores_per_alpha=all --tag=libd_chr1-chr1_AA-1688982-1708981-dynamic-1corestotal-allcorepera-20240411-042647\n"
     ]
    },
    {
     "name": "stderr",
     "output_type": "stream",
     "text": [
      "Sleeping for 240 seconds\n",
      "\n"
     ]
    },
    {
     "name": "stdout",
     "output_type": "stream",
     "text": [
      "#!/bin/bash\n",
      "#SBATCH --nodes=1\n",
      "#SBATCH --ntasks-per-node=1\n",
      "#SBATCH --cpus-per-task=1\n",
      "#SBATCH --mem-per-cpu=24G\n",
      "#SBATCH --output=slurm_output_libd_chr1-chr1_AA-1708982-1728981-dynamic-1corestotal-allcorepera-20240411-043047.out\n",
      "#SBATCH --job-name=libd_chr1-chr1_AA-1708982-1728981-dynamic-1corestotal-allcorepera-20240411-043047\n",
      "module load conda\n",
      "conda activate mwas\n",
      "echo 'Executing Rscript with arguments: Rscript scripts/CLI.R --outdir=./output_chr1_a1/ --snp_data_path=/dcs04/lieber/statsgen/shizhong/michael/mwas/gwas//libd_chr1.pgen --methylation_data_path=/dcs04/lieber/statsgen/shizhong/michael/mwas/pheno/caud/out/chr1_AA.rda --cov=/dcs04/lieber/statsgen/mnagle/mwas/full_covariates/AA_caud.csv --verbose=FALSE --lambda_choice=1se --alphas=0.5 --allow_inefficient_parallelization=FALSE --n_fold=5 --window_sizes=10000 --save_evaluation_results_each_fold=FALSE --save_glmnet_object=FALSE --omit_folds_with_na_r=TRUE --chunk1=1708982 --chunk2=1728981 --cv_eval_mode=dynamic --num_cores=1 --cores_per_alpha=all --tag=libd_chr1-chr1_AA-1708982-1728981-dynamic-1corestotal-allcorepera-20240411-043047'\n",
      "Rscript scripts/CLI.R --outdir=./output_chr1_a1/ --snp_data_path=/dcs04/lieber/statsgen/shizhong/michael/mwas/gwas//libd_chr1.pgen --methylation_data_path=/dcs04/lieber/statsgen/shizhong/michael/mwas/pheno/caud/out/chr1_AA.rda --cov=/dcs04/lieber/statsgen/mnagle/mwas/full_covariates/AA_caud.csv --verbose=FALSE --lambda_choice=1se --alphas=0.5 --allow_inefficient_parallelization=FALSE --n_fold=5 --window_sizes=10000 --save_evaluation_results_each_fold=FALSE --save_glmnet_object=FALSE --omit_folds_with_na_r=TRUE --chunk1=1708982 --chunk2=1728981 --cv_eval_mode=dynamic --num_cores=1 --cores_per_alpha=all --tag=libd_chr1-chr1_AA-1708982-1728981-dynamic-1corestotal-allcorepera-20240411-043047\n"
     ]
    },
    {
     "name": "stderr",
     "output_type": "stream",
     "text": [
      "Sleeping for 240 seconds\n",
      "\n"
     ]
    },
    {
     "name": "stdout",
     "output_type": "stream",
     "text": [
      "#!/bin/bash\n",
      "#SBATCH --nodes=1\n",
      "#SBATCH --ntasks-per-node=1\n",
      "#SBATCH --cpus-per-task=1\n",
      "#SBATCH --mem-per-cpu=24G\n",
      "#SBATCH --output=slurm_output_libd_chr1-chr1_AA-1728982-1748981-dynamic-1corestotal-allcorepera-20240411-043447.out\n",
      "#SBATCH --job-name=libd_chr1-chr1_AA-1728982-1748981-dynamic-1corestotal-allcorepera-20240411-043447\n",
      "module load conda\n",
      "conda activate mwas\n",
      "echo 'Executing Rscript with arguments: Rscript scripts/CLI.R --outdir=./output_chr1_a1/ --snp_data_path=/dcs04/lieber/statsgen/shizhong/michael/mwas/gwas//libd_chr1.pgen --methylation_data_path=/dcs04/lieber/statsgen/shizhong/michael/mwas/pheno/caud/out/chr1_AA.rda --cov=/dcs04/lieber/statsgen/mnagle/mwas/full_covariates/AA_caud.csv --verbose=FALSE --lambda_choice=1se --alphas=0.5 --allow_inefficient_parallelization=FALSE --n_fold=5 --window_sizes=10000 --save_evaluation_results_each_fold=FALSE --save_glmnet_object=FALSE --omit_folds_with_na_r=TRUE --chunk1=1728982 --chunk2=1748981 --cv_eval_mode=dynamic --num_cores=1 --cores_per_alpha=all --tag=libd_chr1-chr1_AA-1728982-1748981-dynamic-1corestotal-allcorepera-20240411-043447'\n",
      "Rscript scripts/CLI.R --outdir=./output_chr1_a1/ --snp_data_path=/dcs04/lieber/statsgen/shizhong/michael/mwas/gwas//libd_chr1.pgen --methylation_data_path=/dcs04/lieber/statsgen/shizhong/michael/mwas/pheno/caud/out/chr1_AA.rda --cov=/dcs04/lieber/statsgen/mnagle/mwas/full_covariates/AA_caud.csv --verbose=FALSE --lambda_choice=1se --alphas=0.5 --allow_inefficient_parallelization=FALSE --n_fold=5 --window_sizes=10000 --save_evaluation_results_each_fold=FALSE --save_glmnet_object=FALSE --omit_folds_with_na_r=TRUE --chunk1=1728982 --chunk2=1748981 --cv_eval_mode=dynamic --num_cores=1 --cores_per_alpha=all --tag=libd_chr1-chr1_AA-1728982-1748981-dynamic-1corestotal-allcorepera-20240411-043447\n"
     ]
    },
    {
     "name": "stderr",
     "output_type": "stream",
     "text": [
      "Sleeping for 240 seconds\n",
      "\n"
     ]
    },
    {
     "name": "stdout",
     "output_type": "stream",
     "text": [
      "#!/bin/bash\n",
      "#SBATCH --nodes=1\n",
      "#SBATCH --ntasks-per-node=1\n",
      "#SBATCH --cpus-per-task=1\n",
      "#SBATCH --mem-per-cpu=24G\n",
      "#SBATCH --output=slurm_output_libd_chr1-chr1_AA-1748982-1768981-dynamic-1corestotal-allcorepera-20240411-043847.out\n",
      "#SBATCH --job-name=libd_chr1-chr1_AA-1748982-1768981-dynamic-1corestotal-allcorepera-20240411-043847\n",
      "module load conda\n",
      "conda activate mwas\n",
      "echo 'Executing Rscript with arguments: Rscript scripts/CLI.R --outdir=./output_chr1_a1/ --snp_data_path=/dcs04/lieber/statsgen/shizhong/michael/mwas/gwas//libd_chr1.pgen --methylation_data_path=/dcs04/lieber/statsgen/shizhong/michael/mwas/pheno/caud/out/chr1_AA.rda --cov=/dcs04/lieber/statsgen/mnagle/mwas/full_covariates/AA_caud.csv --verbose=FALSE --lambda_choice=1se --alphas=0.5 --allow_inefficient_parallelization=FALSE --n_fold=5 --window_sizes=10000 --save_evaluation_results_each_fold=FALSE --save_glmnet_object=FALSE --omit_folds_with_na_r=TRUE --chunk1=1748982 --chunk2=1768981 --cv_eval_mode=dynamic --num_cores=1 --cores_per_alpha=all --tag=libd_chr1-chr1_AA-1748982-1768981-dynamic-1corestotal-allcorepera-20240411-043847'\n",
      "Rscript scripts/CLI.R --outdir=./output_chr1_a1/ --snp_data_path=/dcs04/lieber/statsgen/shizhong/michael/mwas/gwas//libd_chr1.pgen --methylation_data_path=/dcs04/lieber/statsgen/shizhong/michael/mwas/pheno/caud/out/chr1_AA.rda --cov=/dcs04/lieber/statsgen/mnagle/mwas/full_covariates/AA_caud.csv --verbose=FALSE --lambda_choice=1se --alphas=0.5 --allow_inefficient_parallelization=FALSE --n_fold=5 --window_sizes=10000 --save_evaluation_results_each_fold=FALSE --save_glmnet_object=FALSE --omit_folds_with_na_r=TRUE --chunk1=1748982 --chunk2=1768981 --cv_eval_mode=dynamic --num_cores=1 --cores_per_alpha=all --tag=libd_chr1-chr1_AA-1748982-1768981-dynamic-1corestotal-allcorepera-20240411-043847\n"
     ]
    },
    {
     "name": "stderr",
     "output_type": "stream",
     "text": [
      "Sleeping for 240 seconds\n",
      "\n"
     ]
    },
    {
     "name": "stdout",
     "output_type": "stream",
     "text": [
      "#!/bin/bash\n",
      "#SBATCH --nodes=1\n",
      "#SBATCH --ntasks-per-node=1\n",
      "#SBATCH --cpus-per-task=1\n",
      "#SBATCH --mem-per-cpu=24G\n",
      "#SBATCH --output=slurm_output_libd_chr1-chr1_AA-1768982-1788981-dynamic-1corestotal-allcorepera-20240411-044247.out\n",
      "#SBATCH --job-name=libd_chr1-chr1_AA-1768982-1788981-dynamic-1corestotal-allcorepera-20240411-044247\n",
      "module load conda\n",
      "conda activate mwas\n",
      "echo 'Executing Rscript with arguments: Rscript scripts/CLI.R --outdir=./output_chr1_a1/ --snp_data_path=/dcs04/lieber/statsgen/shizhong/michael/mwas/gwas//libd_chr1.pgen --methylation_data_path=/dcs04/lieber/statsgen/shizhong/michael/mwas/pheno/caud/out/chr1_AA.rda --cov=/dcs04/lieber/statsgen/mnagle/mwas/full_covariates/AA_caud.csv --verbose=FALSE --lambda_choice=1se --alphas=0.5 --allow_inefficient_parallelization=FALSE --n_fold=5 --window_sizes=10000 --save_evaluation_results_each_fold=FALSE --save_glmnet_object=FALSE --omit_folds_with_na_r=TRUE --chunk1=1768982 --chunk2=1788981 --cv_eval_mode=dynamic --num_cores=1 --cores_per_alpha=all --tag=libd_chr1-chr1_AA-1768982-1788981-dynamic-1corestotal-allcorepera-20240411-044247'\n",
      "Rscript scripts/CLI.R --outdir=./output_chr1_a1/ --snp_data_path=/dcs04/lieber/statsgen/shizhong/michael/mwas/gwas//libd_chr1.pgen --methylation_data_path=/dcs04/lieber/statsgen/shizhong/michael/mwas/pheno/caud/out/chr1_AA.rda --cov=/dcs04/lieber/statsgen/mnagle/mwas/full_covariates/AA_caud.csv --verbose=FALSE --lambda_choice=1se --alphas=0.5 --allow_inefficient_parallelization=FALSE --n_fold=5 --window_sizes=10000 --save_evaluation_results_each_fold=FALSE --save_glmnet_object=FALSE --omit_folds_with_na_r=TRUE --chunk1=1768982 --chunk2=1788981 --cv_eval_mode=dynamic --num_cores=1 --cores_per_alpha=all --tag=libd_chr1-chr1_AA-1768982-1788981-dynamic-1corestotal-allcorepera-20240411-044247\n"
     ]
    },
    {
     "name": "stderr",
     "output_type": "stream",
     "text": [
      "Sleeping for 240 seconds\n",
      "\n"
     ]
    },
    {
     "name": "stdout",
     "output_type": "stream",
     "text": [
      "#!/bin/bash\n",
      "#SBATCH --nodes=1\n",
      "#SBATCH --ntasks-per-node=1\n",
      "#SBATCH --cpus-per-task=1\n",
      "#SBATCH --mem-per-cpu=24G\n",
      "#SBATCH --output=slurm_output_libd_chr1-chr1_AA-1788982-1808981-dynamic-1corestotal-allcorepera-20240411-044648.out\n",
      "#SBATCH --job-name=libd_chr1-chr1_AA-1788982-1808981-dynamic-1corestotal-allcorepera-20240411-044648\n",
      "module load conda\n",
      "conda activate mwas\n",
      "echo 'Executing Rscript with arguments: Rscript scripts/CLI.R --outdir=./output_chr1_a1/ --snp_data_path=/dcs04/lieber/statsgen/shizhong/michael/mwas/gwas//libd_chr1.pgen --methylation_data_path=/dcs04/lieber/statsgen/shizhong/michael/mwas/pheno/caud/out/chr1_AA.rda --cov=/dcs04/lieber/statsgen/mnagle/mwas/full_covariates/AA_caud.csv --verbose=FALSE --lambda_choice=1se --alphas=0.5 --allow_inefficient_parallelization=FALSE --n_fold=5 --window_sizes=10000 --save_evaluation_results_each_fold=FALSE --save_glmnet_object=FALSE --omit_folds_with_na_r=TRUE --chunk1=1788982 --chunk2=1808981 --cv_eval_mode=dynamic --num_cores=1 --cores_per_alpha=all --tag=libd_chr1-chr1_AA-1788982-1808981-dynamic-1corestotal-allcorepera-20240411-044648'\n",
      "Rscript scripts/CLI.R --outdir=./output_chr1_a1/ --snp_data_path=/dcs04/lieber/statsgen/shizhong/michael/mwas/gwas//libd_chr1.pgen --methylation_data_path=/dcs04/lieber/statsgen/shizhong/michael/mwas/pheno/caud/out/chr1_AA.rda --cov=/dcs04/lieber/statsgen/mnagle/mwas/full_covariates/AA_caud.csv --verbose=FALSE --lambda_choice=1se --alphas=0.5 --allow_inefficient_parallelization=FALSE --n_fold=5 --window_sizes=10000 --save_evaluation_results_each_fold=FALSE --save_glmnet_object=FALSE --omit_folds_with_na_r=TRUE --chunk1=1788982 --chunk2=1808981 --cv_eval_mode=dynamic --num_cores=1 --cores_per_alpha=all --tag=libd_chr1-chr1_AA-1788982-1808981-dynamic-1corestotal-allcorepera-20240411-044648\n"
     ]
    },
    {
     "name": "stderr",
     "output_type": "stream",
     "text": [
      "Sleeping for 240 seconds\n",
      "\n"
     ]
    }
   ],
   "source": [
    "for(i in 1:nrow(matched_df)){\n",
    "\n",
    "    chunk_ranges <- chunk_fixed_size(matched_df$first_meth_index_with_SNP_coverage[i],\n",
    "                                     matched_df$last_meth_index_with_SNP_coverage[i],\n",
    "                                     20000)\n",
    "    \n",
    "    # Constant Arguments Setup\n",
    "    constant_args_df <- data.frame(\n",
    "      outdir = \"./output_chr1_a1/\",\n",
    "      snp_data_path = matched_df$SNP_data[i],\n",
    "      methylation_data_path = matched_df$methylation_data[i],\n",
    "      cov = matched_df$cov_file[i],\n",
    "      verbose = FALSE,\n",
    "      lambda_choice = \"1se\",\n",
    "      alphas = 0.5,\n",
    "      allow_inefficient_parallelization = FALSE,\n",
    "      n_fold = 5,\n",
    "      window_sizes = \"10000\",\n",
    "      #window_sizes = \"500000\",\n",
    "      save_evaluation_results_each_fold = FALSE,\n",
    "      save_glmnet_object = FALSE,\n",
    "      omit_folds_with_na_r = TRUE#,\n",
    "      #methInput_rds_path = \"/expanse/lustre/projects/jhu152/naglemi/mwas/chr1_dfplc_all_methylation_10k_samples_a3.rds\"\n",
    "    )\n",
    "    \n",
    "    # Varying parameters\n",
    "    cv_eval_modes <- c(\"dynamic\")\n",
    "    cores_per_alphas <- c(\"all\") #NA)  # Include NA to signify the default value should be used\n",
    "    num_cores_options <- c(1)\n",
    "    \n",
    "    for (chunk_range in 1:ncol(chunk_ranges)) {\n",
    "    #for (chunk_range in 2){\n",
    "      constant_args_df$chunk1 <- chunk_ranges[1, chunk_range]\n",
    "      constant_args_df$chunk2 <- chunk_ranges[2, chunk_range]\n",
    "        # Loop through each combination\n",
    "        for (cv_eval_mode in cv_eval_modes) {\n",
    "          for (cores_per_alpha in cores_per_alphas) {\n",
    "            for (num_cores in num_cores_options) {\n",
    "              # Update constant_args_df for the current combination\n",
    "              constant_args_df$cv_eval_mode <- cv_eval_mode\n",
    "              constant_args_df$num_cores <- num_cores\n",
    "              if (!is.na(cores_per_alpha)) {\n",
    "                constant_args_df$cores_per_alpha <- cores_per_alpha\n",
    "              } else {\n",
    "                constant_args_df$cores_per_alpha <- NULL\n",
    "              }\n",
    "    \n",
    "              # Generate tags\n",
    "              snp_base <- tools::file_path_sans_ext(basename(constant_args_df$snp_data_path))\n",
    "              meth_base <- tools::file_path_sans_ext(basename(constant_args_df$methylation_data_path))\n",
    "              datetime_str <- format(Sys.time(), \"%Y%m%d-%H%M%S\")\n",
    "              tag_pt1 <- paste(snp_base, meth_base, format(constant_args_df$chunk1, scientific = FALSE), format(constant_args_df$chunk2, scientific = FALSE), cv_eval_mode, paste0(num_cores, \"corestotal\"), ifelse(is.na(cores_per_alpha), \"defaultcore\", paste0(cores_per_alpha, \"corepera\")), sep = \"-\")\n",
    "              tag_pt2 <- datetime_str\n",
    "    \n",
    "              # Check for existing file\n",
    "              existing_files <- list.files(path = constant_args_df$outdir, pattern = paste0(\"^\", tag_pt1, \".*\\\\.rds$\"), full.names = TRUE)\n",
    "              if (!overwrite && length(existing_files) > 0) {\n",
    "                message(\"File with tag \", tag_pt1, \" already exists. Skipping...\")\n",
    "                next\n",
    "              }\n",
    "    \n",
    "              # Generate and print SLURM script\n",
    "              script_info <- generate_slurm_script(constant_args_df, tag_pt1, tag_pt2,\n",
    "                                                   mem_per_cpu = \"24G\")\n",
    "    \n",
    "              cat(script_info$script)\n",
    "    \n",
    "              writeLines(script_info$script, script_info$path)\n",
    "    \n",
    "              # Submit the SLURM job using the sbatch command\n",
    "              system(paste(\"sbatch\", script_info$path))\n",
    "    \n",
    "              # Implement job submission limits and intervals if necessary\n",
    "              sleeptime <- 240\n",
    "              Sys.sleep(sleeptime)\n",
    "              message(paste0(\"Sleeping for \", sleeptime, \" seconds\"))\n",
    "            }\n",
    "          }\n",
    "        }\n",
    "    }\n",
    "}"
   ]
  },
  {
   "cell_type": "code",
   "execution_count": null,
   "id": "5371a450-78e9-4625-bc65-67fc22693584",
   "metadata": {},
   "outputs": [],
   "source": []
  },
  {
   "cell_type": "code",
   "execution_count": null,
   "id": "d42889af-e0fb-43b7-9ea0-f84c90aacbbb",
   "metadata": {},
   "outputs": [],
   "source": []
  }
 ],
 "metadata": {
  "kernelspec": {
   "display_name": "R",
   "language": "R",
   "name": "ir"
  },
  "language_info": {
   "codemirror_mode": "r",
   "file_extension": ".r",
   "mimetype": "text/x-r-source",
   "name": "R",
   "pygments_lexer": "r",
   "version": "4.3.1"
  }
 },
 "nbformat": 4,
 "nbformat_minor": 5
}
