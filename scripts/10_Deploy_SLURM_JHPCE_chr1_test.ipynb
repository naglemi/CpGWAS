{
 "cells": [
  {
   "cell_type": "markdown",
   "id": "0cb72484-0e2e-4d13-bda9-58fe13e8ae34",
   "metadata": {},
   "source": [
    "# Prep SLURM commands"
   ]
  },
  {
   "cell_type": "code",
   "execution_count": 1,
   "id": "16eddb68-67bf-48d8-9343-a7e48c69b312",
   "metadata": {},
   "outputs": [
    {
     "data": {
      "text/html": [
       "'/dcs04/lieber/statsgen/mnagle/mwas/CpGWAS/scripts'"
      ],
      "text/latex": [
       "'/dcs04/lieber/statsgen/mnagle/mwas/CpGWAS/scripts'"
      ],
      "text/markdown": [
       "'/dcs04/lieber/statsgen/mnagle/mwas/CpGWAS/scripts'"
      ],
      "text/plain": [
       "[1] \"/dcs04/lieber/statsgen/mnagle/mwas/CpGWAS/scripts\""
      ]
     },
     "metadata": {},
     "output_type": "display_data"
    }
   ],
   "source": [
    "getwd()"
   ]
  },
  {
   "cell_type": "code",
   "execution_count": 2,
   "id": "82f55bee-2e04-4858-a040-64869a761882",
   "metadata": {},
   "outputs": [],
   "source": [
    "setwd(\"../\")"
   ]
  },
  {
   "cell_type": "code",
   "execution_count": 3,
   "id": "750b3ac4-4232-4549-b317-faa48852db41",
   "metadata": {},
   "outputs": [],
   "source": [
    "#' Generate Chunk Ranges with Fixed Number of Chunks\n",
    "#'\n",
    "#' This function divides a range into a specified number of chunks, with each chunk\n",
    "#' having approximately the same size.\n",
    "#'\n",
    "#' @param start The starting point of the range to be divided.\n",
    "#' @param end The ending point of the range to be divided.\n",
    "#' @param num_chunks The fixed number of chunks to divide the range into.\n",
    "#'\n",
    "#' @return A matrix where each row represents a chunk, with the first column being\n",
    "#'         the start of the chunk and the second column being the end of the chunk.\n",
    "#' @examples\n",
    "#' chunk_fixed_n(1, 100, 5)\n",
    "#' @export\n",
    "chunk_fixed_n <- function(start, end, num_chunks) {\n",
    "  chunk_size <- ceiling((end - start + 1) / num_chunks)\n",
    "  chunk_ranges <- sapply(1:num_chunks, function(i) {\n",
    "    chunk_start <- start + (i - 1) * chunk_size\n",
    "    chunk_end <- min(chunk_start + chunk_size - 1, end)\n",
    "    c(chunk_start, chunk_end)\n",
    "  })\n",
    "  return(chunk_ranges)\n",
    "}\n",
    "\n",
    "#' Generate Chunk Ranges with Fixed Chunk Size\n",
    "#'\n",
    "#' This function divides a range into chunks up to a given maximum size, dynamically\n",
    "#' determining the number of chunks based on the range and maximum chunk size.\n",
    "#'\n",
    "#' @param start The starting point of the range to be divided.\n",
    "#' @param end The ending point of the range to be divided.\n",
    "#' @param max_chunk_size The maximum size that each chunk can have.\n",
    "#'\n",
    "#' @return A matrix where each row represents a chunk, with the first column being\n",
    "#'         the start of the chunk and the second column being the end of the chunk.\n",
    "#'         The last chunk may be smaller than `max_chunk_size` to fit the range.\n",
    "#' @examples\n",
    "#' chunk_fixed_size(1, 100, 20)\n",
    "#' @export\n",
    "chunk_fixed_size <- function(start, end, max_chunk_size) {\n",
    "  if (length(start) > 1 || length(end) > 1) {\n",
    "    stop(\"start and end must be single values\")\n",
    "  }\n",
    "  if (start > end || max_chunk_size <= 0) {\n",
    "    stop(\"Invalid arguments: ensure start <= end and max_chunk_size > 0\")\n",
    "  }\n",
    "  \n",
    "  num_chunks <- ceiling((end - start + 1) / max_chunk_size)\n",
    "  chunk_ranges <- matrix(nrow = num_chunks, ncol = 2)\n",
    "  \n",
    "  for (i in 1:num_chunks) {\n",
    "    chunk_start <- start + (i - 1) * max_chunk_size\n",
    "    chunk_end <- min(chunk_start + max_chunk_size - 1, end)\n",
    "    chunk_ranges[i, ] <- c(chunk_start, chunk_end)\n",
    "  }\n",
    "  \n",
    "  return(t(chunk_ranges))\n",
    "}\n",
    "\n",
    "generate_slurm_script <- function(args, tag_pt1, tag_pt2, mem_per_cpu = \"16G\") {\n",
    "  cpus_per_task <- if (is.null(args$num_cores) || args$num_cores == \"all\") {\n",
    "    \"#SBATCH --exclusive\\n\"\n",
    "  } else {\n",
    "    paste0(\"#SBATCH --cpus-per-task=\", args$num_cores, \"\\n\")\n",
    "  }\n",
    "\n",
    "  # Always set mem_per_cpu flag, even in exclusive mode\n",
    "  mem_allocation <- paste0(\"#SBATCH --mem-per-cpu=\", mem_per_cpu, \"\\n\")\n",
    "\n",
    "  args_string <- paste(\"--\", names(args), \"=\", args, sep = \"\", collapse = \" \")\n",
    "  args_string <- paste(args_string, \" --tag=\", tag_pt1, \"-\", tag_pt2, sep = \"\")\n",
    "\n",
    "  slurm_script <- paste0(\n",
    "    \"#!/bin/bash\\n\",\n",
    "    if (cluster_specific_parameters) paste0(\n",
    "      \"#SBATCH --partition=\", partition, \"\\n\",\n",
    "      \"#SBATCH -A \", acct, \"\\n\",\n",
    "      \"#SBATCH --time=\", time, \"\\n\"\n",
    "    ),\n",
    "    if (!is.null(nodes) && !is.null(ntasks_per_node)) paste0(\n",
    "      \"#SBATCH --nodes=\", nodes, \"\\n\",\n",
    "      \"#SBATCH --ntasks-per-node=\", ntasks_per_node, \"\\n\"\n",
    "    ),\n",
    "    cpus_per_task,\n",
    "    mem_allocation,\n",
    "    \"#SBATCH --output=slurm_output_\", tag_pt1, \"-\", tag_pt2, \".out\\n\",\n",
    "    \"#SBATCH --job-name=\", tag_pt1, \"-\", tag_pt2, \"\\n\",\n",
    "    if (module_load_conda) \"module load conda\\n\",\n",
    "    \"conda activate mwas\\n\",\n",
    "    \"echo 'Executing Rscript with arguments: Rscript scripts/CLI.R \", args_string, \"'\\n\",\n",
    "    \"Rscript scripts/CLI.R \", args_string, \"\\n\"\n",
    "  )\n",
    "\n",
    "  return(list(script = slurm_script, path = paste0(\"slurm_scripts/\", tag_pt1, \"-\", tag_pt2, \".sh\")))\n",
    "}"
   ]
  },
  {
   "cell_type": "code",
   "execution_count": 4,
   "id": "e618d140-ad01-469b-9db1-93176c568260",
   "metadata": {},
   "outputs": [],
   "source": [
    "# Cluster-specific parameters\n",
    "cluster_specific_parameters <- FALSE # Example condition\n",
    "acct <- \"jhu152\"\n",
    "time <- \"48:00:00\"\n",
    "partition <- \"shared\"\n",
    "\n",
    "module_load_conda <- TRUE\n",
    "\n",
    "nodes <- 1\n",
    "ntasks_per_node <- 1\n",
    "\n",
    "# Overwrite flag (set by user)\n",
    "overwrite <- FALSE"
   ]
  },
  {
   "cell_type": "code",
   "execution_count": 5,
   "id": "8e415d48-449a-40da-8547-832968839644",
   "metadata": {},
   "outputs": [],
   "source": [
    "# chunk_ranges <- chunk_fixed_size(files$first_meth_index_with_SNP_coverage[i],\n",
    "#                                  files$last_meth_index_with_SNP_coverage[i],\n",
    "#                                  1000)\n",
    "                         \n",
    "\n",
    "# chunk_ranges <- chunk_ranges[1:2,1:2]\n",
    "\n",
    "#chunk_ranges <- chunk_fixed_n(1, 10000, 5)"
   ]
  },
  {
   "cell_type": "code",
   "execution_count": 6,
   "id": "9c7b2054-67b9-42e5-9f90-1bd0bdac846e",
   "metadata": {},
   "outputs": [],
   "source": [
    "library(data.table)"
   ]
  },
  {
   "cell_type": "code",
   "execution_count": 7,
   "id": "48c476be-91a2-4c79-8ad1-0e94a7fefd3d",
   "metadata": {},
   "outputs": [
    {
     "data": {
      "text/html": [
       "'/dcs04/lieber/statsgen/mnagle/mwas/CpGWAS'"
      ],
      "text/latex": [
       "'/dcs04/lieber/statsgen/mnagle/mwas/CpGWAS'"
      ],
      "text/markdown": [
       "'/dcs04/lieber/statsgen/mnagle/mwas/CpGWAS'"
      ],
      "text/plain": [
       "[1] \"/dcs04/lieber/statsgen/mnagle/mwas/CpGWAS\""
      ]
     },
     "metadata": {},
     "output_type": "display_data"
    }
   ],
   "source": [
    "getwd()"
   ]
  },
  {
   "cell_type": "code",
   "execution_count": null,
   "id": "815ee1a2-cbf5-4d10-ab9e-74457df5b83b",
   "metadata": {},
   "outputs": [],
   "source": [
    "matched_df <- fread(\"../CpGWAS/scripts/09.5-OUT_matched_SNP_meth_cov_chunked_JHPCE.csv\")"
   ]
  },
  {
   "cell_type": "code",
   "execution_count": null,
   "id": "194ef5b8-7f7a-4cb6-ae56-e308980fbc30",
   "metadata": {},
   "outputs": [],
   "source": [
    "matched_df <- matched_df[order(matched_df$SNP_data), ]"
   ]
  },
  {
   "cell_type": "code",
   "execution_count": null,
   "id": "11a5681f-387c-4e8b-86ab-df62cacdcf05",
   "metadata": {},
   "outputs": [],
   "source": [
    "head(matched_df)"
   ]
  },
  {
   "cell_type": "code",
   "execution_count": null,
   "id": "9ba70c8a-b2ce-4b52-a948-40cc8e4583a9",
   "metadata": {},
   "outputs": [],
   "source": [
    "matched_df$SNP_data <- gsub(\"/expanse/lustre/projects/jhu152/naglemi/mwas/gwas/\", \"/dcs04/lieber/statsgen/shizhong/michael/mwas/gwas/\", matched_df$SNP_data)\n",
    "matched_df$methylation_data <- gsub(\"/expanse/lustre/projects/jhu152/naglemi/mwas/pheno/\", \"/dcs04/lieber/statsgen/shizhong/michael/mwas/pheno/\", matched_df$methylation_data)\n",
    "matched_df$cov_file <- gsub(\"/expanse/lustre/projects/jhu152/naglemi/mwas/full_covariates/\", \"/dcs04/lieber/statsgen/mnagle/mwas/full_covariates/\", matched_df$cov_file)"
   ]
  },
  {
   "cell_type": "code",
   "execution_count": null,
   "id": "f71aeaa2-8c2e-40c0-8e7a-7fa04ce321da",
   "metadata": {},
   "outputs": [],
   "source": [
    "head(matched_df)"
   ]
  },
  {
   "cell_type": "code",
   "execution_count": null,
   "id": "9b1b7650-5cef-448f-bcff-1d16184f0837",
   "metadata": {},
   "outputs": [],
   "source": [
    "file.exists(matched_df$SNP_data[1])\n",
    "file.exists(matched_df$methylation_data[1])\n",
    "file.exists(matched_df$cov_file[1])"
   ]
  },
  {
   "cell_type": "code",
   "execution_count": null,
   "id": "d4a84342-5206-4ad4-99c4-e664ae51b691",
   "metadata": {},
   "outputs": [],
   "source": [
    "#dir.create(\"./output_chr1_a1/\")"
   ]
  },
  {
   "cell_type": "code",
   "execution_count": null,
   "id": "bb1308f1-f068-4f2c-8097-cca4fdc14c2b",
   "metadata": {
    "tags": []
   },
   "outputs": [],
   "source": [
    "for(i in 1:nrow(matched_df)){\n",
    "\n",
    "    chunk_ranges <- chunk_fixed_size(matched_df$first_meth_index_with_SNP_coverage[i],\n",
    "                                     matched_df$last_meth_index_with_SNP_coverage[i],\n",
    "                                     20000)\n",
    "    \n",
    "    # Constant Arguments Setup\n",
    "    constant_args_df <- data.frame(\n",
    "      outdir = \"./output_chr1_a1/\",\n",
    "      snp_data_path = matched_df$SNP_data[i],\n",
    "      methylation_data_path = matched_df$methylation_data[i],\n",
    "      cov = matched_df$cov_file[i],\n",
    "      verbose = FALSE,\n",
    "      lambda_choice = \"1se\",\n",
    "      alphas = 0.5,\n",
    "      allow_inefficient_parallelization = FALSE,\n",
    "      n_fold = 5,\n",
    "      window_sizes = \"10000\",\n",
    "      #window_sizes = \"500000\",\n",
    "      save_evaluation_results_each_fold = FALSE,\n",
    "      save_glmnet_object = FALSE,\n",
    "      omit_folds_with_na_r = TRUE#,\n",
    "      #methInput_rds_path = \"/expanse/lustre/projects/jhu152/naglemi/mwas/chr1_dfplc_all_methylation_10k_samples_a3.rds\"\n",
    "    )\n",
    "    \n",
    "    # Varying parameters\n",
    "    cv_eval_modes <- c(\"dynamic\")\n",
    "    cores_per_alphas <- c(\"all\") #NA)  # Include NA to signify the default value should be used\n",
    "    num_cores_options <- c(1)\n",
    "    \n",
    "    for (chunk_range in 1:ncol(chunk_ranges)) {\n",
    "    #for (chunk_range in 2){\n",
    "      constant_args_df$chunk1 <- chunk_ranges[1, chunk_range]\n",
    "      constant_args_df$chunk2 <- chunk_ranges[2, chunk_range]\n",
    "        # Loop through each combination\n",
    "        for (cv_eval_mode in cv_eval_modes) {\n",
    "          for (cores_per_alpha in cores_per_alphas) {\n",
    "            for (num_cores in num_cores_options) {\n",
    "              # Update constant_args_df for the current combination\n",
    "              constant_args_df$cv_eval_mode <- cv_eval_mode\n",
    "              constant_args_df$num_cores <- num_cores\n",
    "              if (!is.na(cores_per_alpha)) {\n",
    "                constant_args_df$cores_per_alpha <- cores_per_alpha\n",
    "              } else {\n",
    "                constant_args_df$cores_per_alpha <- NULL\n",
    "              }\n",
    "    \n",
    "              # Generate tags\n",
    "              snp_base <- tools::file_path_sans_ext(basename(constant_args_df$snp_data_path))\n",
    "              meth_base <- tools::file_path_sans_ext(basename(constant_args_df$methylation_data_path))\n",
    "              datetime_str <- format(Sys.time(), \"%Y%m%d-%H%M%S\")\n",
    "              tag_pt1 <- paste(snp_base, meth_base, format(constant_args_df$chunk1, scientific = FALSE), format(constant_args_df$chunk2, scientific = FALSE), cv_eval_mode, paste0(num_cores, \"corestotal\"), ifelse(is.na(cores_per_alpha), \"defaultcore\", paste0(cores_per_alpha, \"corepera\")), sep = \"-\")\n",
    "              tag_pt2 <- datetime_str\n",
    "    \n",
    "              # Check for existing file\n",
    "              existing_files <- list.files(path = constant_args_df$outdir, pattern = paste0(\"^\", tag_pt1, \".*\\\\.rds$\"), full.names = TRUE)\n",
    "              print(existing_files)\n",
    "              if (!overwrite && length(existing_files) > 0) {\n",
    "                message(\"File with tag \", tag_pt1, \" already exists. Skipping...\")\n",
    "                next\n",
    "              }\n",
    "    \n",
    "              # Generate and print SLURM script\n",
    "              script_info <- generate_slurm_script(constant_args_df, tag_pt1, tag_pt2,\n",
    "                                                   mem_per_cpu = \"24G\")\n",
    "    \n",
    "              cat(script_info$script)\n",
    "    \n",
    "              writeLines(script_info$script, script_info$path)\n",
    "    \n",
    "              # Submit the SLURM job using the sbatch command\n",
    "              #system(paste(\"sbatch\", script_info$path))\n",
    "    \n",
    "              # Implement job submission limits and intervals if necessary\n",
    "              sleeptime <- 240\n",
    "              Sys.sleep(sleeptime)\n",
    "              message(paste0(\"Sleeping for \", sleeptime, \" seconds\"))\n",
    "            }\n",
    "          }\n",
    "        }\n",
    "    }\n",
    "}"
   ]
  },
  {
   "cell_type": "code",
   "execution_count": null,
   "id": "5371a450-78e9-4625-bc65-67fc22693584",
   "metadata": {},
   "outputs": [],
   "source": []
  },
  {
   "cell_type": "code",
   "execution_count": null,
   "id": "d42889af-e0fb-43b7-9ea0-f84c90aacbbb",
   "metadata": {},
   "outputs": [],
   "source": []
  }
 ],
 "metadata": {
  "kernelspec": {
   "display_name": "R",
   "language": "R",
   "name": "ir"
  },
  "language_info": {
   "codemirror_mode": "r",
   "file_extension": ".r",
   "mimetype": "text/x-r-source",
   "name": "R",
   "pygments_lexer": "r",
   "version": "4.3.1"
  }
 },
 "nbformat": 4,
 "nbformat_minor": 5
}
