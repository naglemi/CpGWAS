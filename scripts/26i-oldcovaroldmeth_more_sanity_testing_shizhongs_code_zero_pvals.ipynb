{
 "cells": [
  {
   "cell_type": "markdown",
   "id": "bf56f1cb-692a-4f54-b026-99e8075d50e8",
   "metadata": {},
   "source": [
    "# Compare MWAS methods for sanity tests and troubleshooting"
   ]
  },
  {
   "cell_type": "markdown",
   "id": "dc17d619-945e-4221-8ba7-c4c36fa56efe",
   "metadata": {},
   "source": [
    "In version e, we unify the elastic.net functions and make sure 1se and 1min produce different results.\n",
    "\n",
    "In version f, we try old covariates with all new data for everything else\n",
    "\n",
    "In version g, we do another quick sanity test with \"all\" sample methylation data instead of AA.\n",
    "\n",
    "In version h, we try old covariates, new BSseq data, new everything else. Since we're using old BSseq data, we must change back to Chr 7 for the selected peak for which we have sample data. We got normal results!\n",
    "\n",
    "In version i, change back to Chr 1 and see if we still get normal results...."
   ]
  },
  {
   "cell_type": "code",
   "execution_count": 1,
   "id": "2054d1a8-1795-4575-863d-71ca74281822",
   "metadata": {},
   "outputs": [],
   "source": [
    "chr <- 1 # code set up for old bsseq chr 7, or anything with new bsseq"
   ]
  },
  {
   "cell_type": "code",
   "execution_count": 103,
   "id": "484d3ff2-9116-4477-8976-f1c828f354fa",
   "metadata": {},
   "outputs": [],
   "source": [
    "sites_to_test_pos <- \"random\""
   ]
  },
  {
   "cell_type": "code",
   "execution_count": 2,
   "id": "be49eb64-a0d8-4e1f-a85a-983fe490bd2c",
   "metadata": {},
   "outputs": [],
   "source": [
    "# Chr 1 sites\n",
    "sites_to_test_pos <- c(73274305, 73274312, 73292330, 73307769, 73308571, 73419188, 73419830, 73420076)"
   ]
  },
  {
   "cell_type": "code",
   "execution_count": 3,
   "id": "a8c47927-98b4-4c3b-bf1a-1ee20ebf16f5",
   "metadata": {},
   "outputs": [],
   "source": [
    "# # These are the same sites from our test BSsample object on chr 7, and we're extracting these sites from\n",
    "# # the new bsseq object for the whole chromosome.\n",
    "# sites_to_test_pos <-\n",
    "# c(1980077, 1980101, 1980129, 1980136, 1980145, 1980179, 1980183, 1980193, 1980205, 1980239, \n",
    "# 1980247, 1980287, 1980291, 1980303, 1980320, 1980326, 1980355, 1980373, 1980390, 1980396, \n",
    "# 1980424, 1980430, 1980448, 1980458, 1980464, 1980496, 1980577, 1980581, 1980642, 1980661, \n",
    "# 1980787, 1980833, 1980852, 1980860, 1980866, 1980869, 1980893, 1980896, 1980905, 1980933, \n",
    "# 1980948, 1980952, 1980997, 1981035, 1981057, 1981111, 1981113, 1981123, 1981186, 1981200, \n",
    "# 1981213, 1981219, 1981246, 1981253, 1981262, 1981286, 1981328, 1981352, 1981359, 1981386, \n",
    "# 1981410, 1981427, 1981449, 1981479, 1981518, 1981608, 1981613, 1981675, 1981682, 1981958, \n",
    "# 1982004, 1982017, 1982035, 1982064, 1982079, 1982246, 1982264, 1982311, 1982357, 1982397, \n",
    "# 1982428, 1982488, 1982495, 1982498, 1982500, 1982541, 1982564, 1982583, 1982587, 1982648, \n",
    "# 1982740, 1982933, 1983048, 1983077, 1983083, 1983085, 1983105, 1983115, 1983133, 1983135, \n",
    "# 1983137, 1983139, 1983141, 1983143, 1983145, 1983147, 1983149, 1983151, 1983153, 1983296, \n",
    "# 1983405, 1983484, 1983612, 1983632, 1983694, 1983703, 1983733, 1983747, 1984150, 1984336, \n",
    "# 1984422, 1984473, 1984518, 1984556, 1984603, 1984623, 1984705, 1984833, 1984895, 1984908, \n",
    "# 1984972, 1985070, 1985172, 1985187, 1985193, 1985231, 1985257, 1985261, 1985292, 1985304, \n",
    "# 1985311, 1985342, 1985365, 1985419, 1985445, 1985468, 1985486, 1985521, 1985572, 1985585, \n",
    "# 1985591, 1985721, 1985744, 1985751, 1985759, 1985767, 1985825, 1985848, 1985857, 1985872, \n",
    "# 1985878, 1985883, 1985906, 1985911, 1985971, 1986087, 1986093, 1986164, 1986194, 1986214, \n",
    "# 1986256, 1986268, 1986331, 1986354, 1986377, 1986395, 1986407, 1986410, 1986417, 1986424, \n",
    "# 1986443, 1986450, 1986462, 1986465, 1986484, 1986486, 1986495, 1986497, 1986500, 1986519, \n",
    "# 1986521, 1986530, 1986532, 1986535, 1986554, 1986556, 1986583, 1986603, 1986624, 1986652, \n",
    "# 1986733, 1986784, 1986909, 1986957, 1987071, 1987106, 1987187, 1987226, 1987253, 1987269, \n",
    "# 1987319, 1987330, 1987338, 1987363, 1987365, 1987388, 1987395, 1987403, 1987407, 1987413, \n",
    "# 1987418, 1987434, 1987449, 1987458, 1987468, 1987492, 1987511, 1987527, 1987565, 1987604, \n",
    "# 1987616, 1987627, 1987648, 1987656, 1987659, 1987665, 1987669, 1987680, 1987684, 1987688, \n",
    "# 1987697, 1987705, 1987719, 1987725, 1987732, 1987778, 1987797, 1987808, 1987853, 1987858, \n",
    "# 1987861, 1987896, 1987910, 1987930, 1988010, 1988039, 1988059, 1988066, 1988078, 1988129, \n",
    "# 1988133, 1988141, 1988171, 1988201, 1988216, 1988292, 1988307, 1988321, 1988325, 1988332, \n",
    "# 1988401, 1988423, 1988546, 1988580, 1988612, 1988630, 1988634, 1988636, 1988655, 1988662, \n",
    "# 1988680, 1988708, 1988718, 1988745, 1988748, 1988776, 1988785, 1988847, 1988874, 1989119, \n",
    "# 1989169, 1989183, 1989201, 1989209, 1989218, 1989223, 1989241, 1989249, 1989258, 1989263, \n",
    "# 1989275, 1989298, 1989308, 1989332, 1989394, 1989442, 1989451, 1989482, 1989497, 1989500, \n",
    "# 1989503, 1989510, 1989527, 1989534, 1989550, 1989605, 1989607, 1989617, 1989622, 1989628, \n",
    "# 1989642, 1989658, 1989674, 1989690, 1989754, 1989761, 1989767, 1989793, 1989924, 1989957)"
   ]
  },
  {
   "cell_type": "code",
   "execution_count": 4,
   "id": "b6595216-f957-4571-a12e-7027b278774d",
   "metadata": {},
   "outputs": [],
   "source": [
    "filter_snps <- FALSE # speed things up by pre-filtering whole chromosomes to desired regions"
   ]
  },
  {
   "cell_type": "markdown",
   "id": "ca2a80fb-d548-4157-b585-cd5cf6a471d2",
   "metadata": {},
   "source": [
    "## Be ready with matched up SNP and covariate files"
   ]
  },
  {
   "cell_type": "code",
   "execution_count": 5,
   "id": "1d0d53e3-618f-4b04-b2b6-ae27a7e4ef5c",
   "metadata": {},
   "outputs": [
    {
     "name": "stderr",
     "output_type": "stream",
     "text": [
      "Loading required package: Matrix\n",
      "\n",
      "Loaded glmnet 4.1-8\n",
      "\n",
      "Loading required package: foreach\n",
      "\n",
      "Loading required package: iterators\n",
      "\n",
      "Loading required package: parallel\n",
      "\n"
     ]
    }
   ],
   "source": [
    "library(\"glmnet\")\n",
    "library(\"e1071\")\n",
    "library(\"doParallel\")\n",
    "library(\"data.table\")"
   ]
  },
  {
   "cell_type": "code",
   "execution_count": 6,
   "id": "c6034757-2d3c-43d3-aa16-70baa5169549",
   "metadata": {},
   "outputs": [],
   "source": [
    "df <- fread(\"09-OUT_matched_SNP_meth_cov_a2.csv\")"
   ]
  },
  {
   "cell_type": "code",
   "execution_count": 7,
   "id": "9821a860-2a97-4a7b-bfca-6e8abd96bf8a",
   "metadata": {},
   "outputs": [],
   "source": [
    "df <- df[which(df$Chr == chr), ]"
   ]
  },
  {
   "cell_type": "code",
   "execution_count": 8,
   "id": "ea91a79d-67a6-40df-b0ad-3b2c7db9be85",
   "metadata": {},
   "outputs": [],
   "source": [
    "df <- df[which(df$population == \"all\"), ]\n",
    "df <- df[which(df$brain_region == \"caud\"), ]"
   ]
  },
  {
   "cell_type": "code",
   "execution_count": 9,
   "id": "465c4237-66ee-4512-971b-1a70e550c36e",
   "metadata": {},
   "outputs": [
    {
     "data": {
      "text/html": [
       "<table class=\"dataframe\">\n",
       "<caption>A data.table: 1 × 15</caption>\n",
       "<thead>\n",
       "\t<tr><th scope=col>Chr</th><th scope=col>SNP_data</th><th scope=col>methylation_data</th><th scope=col>last_meth_value_with_SNP_coverage</th><th scope=col>first_meth_value_with_SNP_coverage</th><th scope=col>last_meth_index_with_SNP_coverage</th><th scope=col>first_meth_index_with_SNP_coverage</th><th scope=col>subpopulation</th><th scope=col>brain_region</th><th scope=col>population</th><th scope=col>region</th><th scope=col>cov_file</th><th scope=col>cov_file2</th><th scope=col>cov_file3</th><th scope=col>cov_file4</th></tr>\n",
       "\t<tr><th scope=col>&lt;int&gt;</th><th scope=col>&lt;chr&gt;</th><th scope=col>&lt;chr&gt;</th><th scope=col>&lt;int&gt;</th><th scope=col>&lt;int&gt;</th><th scope=col>&lt;int&gt;</th><th scope=col>&lt;int&gt;</th><th scope=col>&lt;chr&gt;</th><th scope=col>&lt;chr&gt;</th><th scope=col>&lt;chr&gt;</th><th scope=col>&lt;chr&gt;</th><th scope=col>&lt;chr&gt;</th><th scope=col>&lt;chr&gt;</th><th scope=col>&lt;chr&gt;</th><th scope=col>&lt;chr&gt;</th></tr>\n",
       "</thead>\n",
       "<tbody>\n",
       "\t<tr><td>1</td><td>/expanse/lustre/projects/jhu152/naglemi/mwas/gwas//libd_chr1.pgen</td><td>/expanse/lustre/projects/jhu152/naglemi/mwas/pheno/caud/out/chr1_all.rda</td><td>248918358</td><td>1069461</td><td>2202702</td><td>8982</td><td>all</td><td>caud</td><td>all</td><td>caud</td><td>/expanse/lustre/projects/jhu152/naglemi/mwas/full_covariates_a2/all_caud.csv</td><td>/expanse/lustre/projects/jhu152/naglemi/mwas/full_covariates_a2/all_caud-no-meth.csv</td><td>/expanse/lustre/projects/jhu152/naglemi/mwas/full_covariates_a2/all_caud-no-meth-no-dx.csv</td><td>/expanse/lustre/projects/jhu152/naglemi/mwas/full_covariates_a2/all_caud-no-dx.csv</td></tr>\n",
       "</tbody>\n",
       "</table>\n"
      ],
      "text/latex": [
       "A data.table: 1 × 15\n",
       "\\begin{tabular}{lllllllllllllll}\n",
       " Chr & SNP\\_data & methylation\\_data & last\\_meth\\_value\\_with\\_SNP\\_coverage & first\\_meth\\_value\\_with\\_SNP\\_coverage & last\\_meth\\_index\\_with\\_SNP\\_coverage & first\\_meth\\_index\\_with\\_SNP\\_coverage & subpopulation & brain\\_region & population & region & cov\\_file & cov\\_file2 & cov\\_file3 & cov\\_file4\\\\\n",
       " <int> & <chr> & <chr> & <int> & <int> & <int> & <int> & <chr> & <chr> & <chr> & <chr> & <chr> & <chr> & <chr> & <chr>\\\\\n",
       "\\hline\n",
       "\t 1 & /expanse/lustre/projects/jhu152/naglemi/mwas/gwas//libd\\_chr1.pgen & /expanse/lustre/projects/jhu152/naglemi/mwas/pheno/caud/out/chr1\\_all.rda & 248918358 & 1069461 & 2202702 & 8982 & all & caud & all & caud & /expanse/lustre/projects/jhu152/naglemi/mwas/full\\_covariates\\_a2/all\\_caud.csv & /expanse/lustre/projects/jhu152/naglemi/mwas/full\\_covariates\\_a2/all\\_caud-no-meth.csv & /expanse/lustre/projects/jhu152/naglemi/mwas/full\\_covariates\\_a2/all\\_caud-no-meth-no-dx.csv & /expanse/lustre/projects/jhu152/naglemi/mwas/full\\_covariates\\_a2/all\\_caud-no-dx.csv\\\\\n",
       "\\end{tabular}\n"
      ],
      "text/markdown": [
       "\n",
       "A data.table: 1 × 15\n",
       "\n",
       "| Chr &lt;int&gt; | SNP_data &lt;chr&gt; | methylation_data &lt;chr&gt; | last_meth_value_with_SNP_coverage &lt;int&gt; | first_meth_value_with_SNP_coverage &lt;int&gt; | last_meth_index_with_SNP_coverage &lt;int&gt; | first_meth_index_with_SNP_coverage &lt;int&gt; | subpopulation &lt;chr&gt; | brain_region &lt;chr&gt; | population &lt;chr&gt; | region &lt;chr&gt; | cov_file &lt;chr&gt; | cov_file2 &lt;chr&gt; | cov_file3 &lt;chr&gt; | cov_file4 &lt;chr&gt; |\n",
       "|---|---|---|---|---|---|---|---|---|---|---|---|---|---|---|\n",
       "| 1 | /expanse/lustre/projects/jhu152/naglemi/mwas/gwas//libd_chr1.pgen | /expanse/lustre/projects/jhu152/naglemi/mwas/pheno/caud/out/chr1_all.rda | 248918358 | 1069461 | 2202702 | 8982 | all | caud | all | caud | /expanse/lustre/projects/jhu152/naglemi/mwas/full_covariates_a2/all_caud.csv | /expanse/lustre/projects/jhu152/naglemi/mwas/full_covariates_a2/all_caud-no-meth.csv | /expanse/lustre/projects/jhu152/naglemi/mwas/full_covariates_a2/all_caud-no-meth-no-dx.csv | /expanse/lustre/projects/jhu152/naglemi/mwas/full_covariates_a2/all_caud-no-dx.csv |\n",
       "\n"
      ],
      "text/plain": [
       "  Chr SNP_data                                                         \n",
       "1 1   /expanse/lustre/projects/jhu152/naglemi/mwas/gwas//libd_chr1.pgen\n",
       "  methylation_data                                                        \n",
       "1 /expanse/lustre/projects/jhu152/naglemi/mwas/pheno/caud/out/chr1_all.rda\n",
       "  last_meth_value_with_SNP_coverage first_meth_value_with_SNP_coverage\n",
       "1 248918358                         1069461                           \n",
       "  last_meth_index_with_SNP_coverage first_meth_index_with_SNP_coverage\n",
       "1 2202702                           8982                              \n",
       "  subpopulation brain_region population region\n",
       "1 all           caud         all        caud  \n",
       "  cov_file                                                                    \n",
       "1 /expanse/lustre/projects/jhu152/naglemi/mwas/full_covariates_a2/all_caud.csv\n",
       "  cov_file2                                                                           \n",
       "1 /expanse/lustre/projects/jhu152/naglemi/mwas/full_covariates_a2/all_caud-no-meth.csv\n",
       "  cov_file3                                                                                 \n",
       "1 /expanse/lustre/projects/jhu152/naglemi/mwas/full_covariates_a2/all_caud-no-meth-no-dx.csv\n",
       "  cov_file4                                                                         \n",
       "1 /expanse/lustre/projects/jhu152/naglemi/mwas/full_covariates_a2/all_caud-no-dx.csv"
      ]
     },
     "metadata": {},
     "output_type": "display_data"
    }
   ],
   "source": [
    "df"
   ]
  },
  {
   "cell_type": "code",
   "execution_count": 10,
   "id": "e3010894-c5e0-4875-a695-302ed787be90",
   "metadata": {},
   "outputs": [],
   "source": [
    "i <- 1"
   ]
  },
  {
   "cell_type": "code",
   "execution_count": 11,
   "id": "522b7988-f517-454d-90d5-4e6a51f49380",
   "metadata": {},
   "outputs": [
    {
     "data": {
      "text/html": [
       "<table class=\"dataframe\">\n",
       "<caption>A data.table: 1 × 15</caption>\n",
       "<thead>\n",
       "\t<tr><th scope=col>Chr</th><th scope=col>SNP_data</th><th scope=col>methylation_data</th><th scope=col>last_meth_value_with_SNP_coverage</th><th scope=col>first_meth_value_with_SNP_coverage</th><th scope=col>last_meth_index_with_SNP_coverage</th><th scope=col>first_meth_index_with_SNP_coverage</th><th scope=col>subpopulation</th><th scope=col>brain_region</th><th scope=col>population</th><th scope=col>region</th><th scope=col>cov_file</th><th scope=col>cov_file2</th><th scope=col>cov_file3</th><th scope=col>cov_file4</th></tr>\n",
       "\t<tr><th scope=col>&lt;int&gt;</th><th scope=col>&lt;chr&gt;</th><th scope=col>&lt;chr&gt;</th><th scope=col>&lt;int&gt;</th><th scope=col>&lt;int&gt;</th><th scope=col>&lt;int&gt;</th><th scope=col>&lt;int&gt;</th><th scope=col>&lt;chr&gt;</th><th scope=col>&lt;chr&gt;</th><th scope=col>&lt;chr&gt;</th><th scope=col>&lt;chr&gt;</th><th scope=col>&lt;chr&gt;</th><th scope=col>&lt;chr&gt;</th><th scope=col>&lt;chr&gt;</th><th scope=col>&lt;chr&gt;</th></tr>\n",
       "</thead>\n",
       "<tbody>\n",
       "\t<tr><td>1</td><td>/expanse/lustre/projects/jhu152/naglemi/mwas/gwas//libd_chr1.pgen</td><td>/expanse/lustre/projects/jhu152/naglemi/mwas/pheno/caud/out/chr1_all.rda</td><td>248918358</td><td>1069461</td><td>2202702</td><td>8982</td><td>all</td><td>caud</td><td>all</td><td>caud</td><td>/expanse/lustre/projects/jhu152/naglemi/mwas/full_covariates_a2/all_caud.csv</td><td>/expanse/lustre/projects/jhu152/naglemi/mwas/full_covariates_a2/all_caud-no-meth.csv</td><td>/expanse/lustre/projects/jhu152/naglemi/mwas/full_covariates_a2/all_caud-no-meth-no-dx.csv</td><td>/expanse/lustre/projects/jhu152/naglemi/mwas/full_covariates_a2/all_caud-no-dx.csv</td></tr>\n",
       "</tbody>\n",
       "</table>\n"
      ],
      "text/latex": [
       "A data.table: 1 × 15\n",
       "\\begin{tabular}{lllllllllllllll}\n",
       " Chr & SNP\\_data & methylation\\_data & last\\_meth\\_value\\_with\\_SNP\\_coverage & first\\_meth\\_value\\_with\\_SNP\\_coverage & last\\_meth\\_index\\_with\\_SNP\\_coverage & first\\_meth\\_index\\_with\\_SNP\\_coverage & subpopulation & brain\\_region & population & region & cov\\_file & cov\\_file2 & cov\\_file3 & cov\\_file4\\\\\n",
       " <int> & <chr> & <chr> & <int> & <int> & <int> & <int> & <chr> & <chr> & <chr> & <chr> & <chr> & <chr> & <chr> & <chr>\\\\\n",
       "\\hline\n",
       "\t 1 & /expanse/lustre/projects/jhu152/naglemi/mwas/gwas//libd\\_chr1.pgen & /expanse/lustre/projects/jhu152/naglemi/mwas/pheno/caud/out/chr1\\_all.rda & 248918358 & 1069461 & 2202702 & 8982 & all & caud & all & caud & /expanse/lustre/projects/jhu152/naglemi/mwas/full\\_covariates\\_a2/all\\_caud.csv & /expanse/lustre/projects/jhu152/naglemi/mwas/full\\_covariates\\_a2/all\\_caud-no-meth.csv & /expanse/lustre/projects/jhu152/naglemi/mwas/full\\_covariates\\_a2/all\\_caud-no-meth-no-dx.csv & /expanse/lustre/projects/jhu152/naglemi/mwas/full\\_covariates\\_a2/all\\_caud-no-dx.csv\\\\\n",
       "\\end{tabular}\n"
      ],
      "text/markdown": [
       "\n",
       "A data.table: 1 × 15\n",
       "\n",
       "| Chr &lt;int&gt; | SNP_data &lt;chr&gt; | methylation_data &lt;chr&gt; | last_meth_value_with_SNP_coverage &lt;int&gt; | first_meth_value_with_SNP_coverage &lt;int&gt; | last_meth_index_with_SNP_coverage &lt;int&gt; | first_meth_index_with_SNP_coverage &lt;int&gt; | subpopulation &lt;chr&gt; | brain_region &lt;chr&gt; | population &lt;chr&gt; | region &lt;chr&gt; | cov_file &lt;chr&gt; | cov_file2 &lt;chr&gt; | cov_file3 &lt;chr&gt; | cov_file4 &lt;chr&gt; |\n",
       "|---|---|---|---|---|---|---|---|---|---|---|---|---|---|---|\n",
       "| 1 | /expanse/lustre/projects/jhu152/naglemi/mwas/gwas//libd_chr1.pgen | /expanse/lustre/projects/jhu152/naglemi/mwas/pheno/caud/out/chr1_all.rda | 248918358 | 1069461 | 2202702 | 8982 | all | caud | all | caud | /expanse/lustre/projects/jhu152/naglemi/mwas/full_covariates_a2/all_caud.csv | /expanse/lustre/projects/jhu152/naglemi/mwas/full_covariates_a2/all_caud-no-meth.csv | /expanse/lustre/projects/jhu152/naglemi/mwas/full_covariates_a2/all_caud-no-meth-no-dx.csv | /expanse/lustre/projects/jhu152/naglemi/mwas/full_covariates_a2/all_caud-no-dx.csv |\n",
       "\n"
      ],
      "text/plain": [
       "  Chr SNP_data                                                         \n",
       "1 1   /expanse/lustre/projects/jhu152/naglemi/mwas/gwas//libd_chr1.pgen\n",
       "  methylation_data                                                        \n",
       "1 /expanse/lustre/projects/jhu152/naglemi/mwas/pheno/caud/out/chr1_all.rda\n",
       "  last_meth_value_with_SNP_coverage first_meth_value_with_SNP_coverage\n",
       "1 248918358                         1069461                           \n",
       "  last_meth_index_with_SNP_coverage first_meth_index_with_SNP_coverage\n",
       "1 2202702                           8982                              \n",
       "  subpopulation brain_region population region\n",
       "1 all           caud         all        caud  \n",
       "  cov_file                                                                    \n",
       "1 /expanse/lustre/projects/jhu152/naglemi/mwas/full_covariates_a2/all_caud.csv\n",
       "  cov_file2                                                                           \n",
       "1 /expanse/lustre/projects/jhu152/naglemi/mwas/full_covariates_a2/all_caud-no-meth.csv\n",
       "  cov_file3                                                                                 \n",
       "1 /expanse/lustre/projects/jhu152/naglemi/mwas/full_covariates_a2/all_caud-no-meth-no-dx.csv\n",
       "  cov_file4                                                                         \n",
       "1 /expanse/lustre/projects/jhu152/naglemi/mwas/full_covariates_a2/all_caud-no-dx.csv"
      ]
     },
     "metadata": {},
     "output_type": "display_data"
    }
   ],
   "source": [
    "df[1, ]"
   ]
  },
  {
   "cell_type": "code",
   "execution_count": 12,
   "id": "22de2603-481a-4995-8991-1f6f64989e3d",
   "metadata": {},
   "outputs": [],
   "source": [
    "set.seed(2018)\n",
    "wind <- c(10000)\n",
    "# output directory\n",
    "#outd <- \"/dcl02/lieber/shan/shizhong/finemapping/GWAS/tags/scz3/mwas/chr22/1/\"\n",
    "outd <- \"20-OUT_original_mwas_sanity_test/\""
   ]
  },
  {
   "cell_type": "markdown",
   "id": "d7711c4d-5f19-4fd0-9f7b-891133ac3311",
   "metadata": {},
   "source": [
    "## Functions"
   ]
  },
  {
   "cell_type": "markdown",
   "id": "655b95b9-bbcb-4ae8-8914-cf36149e10e1",
   "metadata": {},
   "source": [
    "### Shizhong's original"
   ]
  },
  {
   "cell_type": "code",
   "execution_count": 13,
   "id": "be729eb2-c5b2-4d3e-b835-072d8f5ba2e6",
   "metadata": {},
   "outputs": [],
   "source": [
    "###### model: learn elastic net model on training data \n",
    "######---------Input: trainX, trainY\n",
    "######---------Return: selected features and coefficents\n",
    "\n",
    "# original\n",
    "# elastic.net <- function(trainX,trainY){\n",
    "#     if(nrow(trainX)!=length(trainY)){\n",
    "#             stop(\"Number of observations is differerent\")\n",
    "#     } \n",
    "\n",
    "#     # optimize alpha---mixing parameter  \n",
    "#     a <- 0.5\n",
    "#     search <- foreach(ai = a, .combine = rbind) %dopar% {\n",
    "#         cv.fit <- cv.glmnet(\n",
    "#                         trainX,\n",
    "#                         trainY,\n",
    "#                         nfold = 5,\n",
    "#                         type.measure = \"mse\",\n",
    "#                         paralle = TRUE,\n",
    "#                         alpha = ai\n",
    "#                         )\n",
    "#         data.frame(\n",
    "#                         cvm = min(cv.fit$cvm),\n",
    "#                         lambda = cv.fit$lambda.min,\n",
    "#                         alpha = ai\n",
    "#                         )\n",
    "#         } \n",
    "#     cv.opt <- search[search$cvm == min(search$cvm),] \n",
    "\n",
    "#         # fit model by optimized alpha and lambda\n",
    "#         yfit = glmnet(\n",
    "#         trainX,\n",
    "#         trainY,\n",
    "#         lambda = cv.opt$lambda,\n",
    "#         alpha = cv.opt$alpha\n",
    "#                 )       \n",
    "#         idf <- coef(yfit)\n",
    "#         idx <- which(idf != 0)\n",
    "#         selectf <- data.frame(\n",
    "#                 features = idf@Dimnames[[1]][idx], \n",
    "#                 coefs = idf [idx]\n",
    "#         )\n",
    "# }\n",
    "\n",
    "MWAS <- function(gwas, weight, geno){\n",
    "        z <- gwas %*% weight\n",
    "        z.cor <- cor(geno)\n",
    "        se <- sqrt(weight %*%  z.cor %*%  weight)\n",
    "        z <- z/se\n",
    "        p=pnorm(abs(z),lower.tail=F)*2\n",
    "        return(c(z, p))\n",
    "}"
   ]
  },
  {
   "cell_type": "markdown",
   "id": "52a2753a-ebee-4587-9fa2-1d33f878f68f",
   "metadata": {},
   "source": [
    "#### Modified `elastic.net` to use `lambda.1se`"
   ]
  },
  {
   "cell_type": "code",
   "execution_count": 14,
   "id": "e2a06b13-9a13-4caa-8436-9a05a0f53035",
   "metadata": {},
   "outputs": [],
   "source": [
    "# modified to use lambda 1se and appropriate cvm\n",
    "elastic.net <- function(trainX,trainY, lambda.choice = \"1se\"){\n",
    "    if(nrow(trainX)!=length(trainY)){\n",
    "            stop(\"Number of observations is differerent\")\n",
    "    } \n",
    "\n",
    "    # optimize alpha---mixing parameter  \n",
    "    a <- 0.5\n",
    "    search <- foreach(ai = a, .combine = rbind) %dopar% {\n",
    "        #set.seed(42)\n",
    "        cv.fit <- cv.glmnet(\n",
    "                        trainX,\n",
    "                        trainY,\n",
    "                        nfold = 5,\n",
    "                        type.measure = \"mse\",\n",
    "                        parallel = TRUE,\n",
    "                        alpha = ai\n",
    "                        )\n",
    "        #print(paste0(\"Dim of trainX: \", dim(trainX)))\n",
    "        #print(paste0(\"Len of trainY: \", length(trainY)))\n",
    "        coef_matrix <- as.matrix(coef(cv.fit))\n",
    "\n",
    "        if(lambda.choice == \"1se\"){\n",
    "            chosen_lambda <- cv.fit$lambda.1se\n",
    "            chosen_cvm <- cv.fit$cvm[cv.fit$lambda == cv.fit$lambda.1se]\n",
    "        }\n",
    "        if(lambda.choice == \"min\"){\n",
    "            chosen_lambda <- cv.fit$lambda.min\n",
    "            chosen_cvm <- min(cv.fit$cvm)\n",
    "        }\n",
    "\n",
    "\n",
    "        data.frame(\n",
    "                        cvm = chosen_cvm,\n",
    "                        lambda = chosen_lambda,\n",
    "                        alpha = ai\n",
    "                        )\n",
    "        } \n",
    "    cv.opt <- search[search$cvm == min(search$cvm),] \n",
    "\n",
    "        # fit model by optimized alpha and lambda\n",
    "    #set.seed(42)\n",
    "    yfit <- glmnet(\n",
    "    trainX,\n",
    "    trainY,\n",
    "    lambda = cv.opt$lambda,\n",
    "    alpha = cv.opt$alpha)\n",
    "\n",
    "    idf <- coef(yfit)\n",
    "    idx <- which(idf != 0)\n",
    "    selectf <- data.frame(\n",
    "            features = idf@Dimnames[[1]][idx], \n",
    "            coefs = idf [idx]\n",
    "    )\n",
    "}"
   ]
  },
  {
   "cell_type": "markdown",
   "id": "3a0ea432-3ac3-4077-ae61-c3a029004096",
   "metadata": {},
   "source": [
    "## Replace all old objects with new objects in same format"
   ]
  },
  {
   "cell_type": "markdown",
   "id": "18332543-6f7a-40d8-b894-9562a6ac7457",
   "metadata": {},
   "source": [
    "### Methylation data"
   ]
  },
  {
   "cell_type": "code",
   "execution_count": 15,
   "id": "f9b051aa-a1e5-421b-856d-718cf85c24a3",
   "metadata": {
    "scrolled": true
   },
   "outputs": [
    {
     "name": "stderr",
     "output_type": "stream",
     "text": [
      "Loading required package: BiocGenerics\n",
      "\n",
      "\n",
      "Attaching package: ‘BiocGenerics’\n",
      "\n",
      "\n",
      "The following objects are masked from ‘package:stats’:\n",
      "\n",
      "    IQR, mad, sd, var, xtabs\n",
      "\n",
      "\n",
      "The following objects are masked from ‘package:base’:\n",
      "\n",
      "    anyDuplicated, aperm, append, as.data.frame, basename, cbind,\n",
      "    colnames, dirname, do.call, duplicated, eval, evalq, Filter, Find,\n",
      "    get, grep, grepl, intersect, is.unsorted, lapply, Map, mapply,\n",
      "    match, mget, order, paste, pmax, pmax.int, pmin, pmin.int,\n",
      "    Position, rank, rbind, Reduce, rownames, sapply, setdiff, sort,\n",
      "    table, tapply, union, unique, unsplit, which.max, which.min\n",
      "\n",
      "\n",
      "Loading required package: GenomicRanges\n",
      "\n",
      "Loading required package: stats4\n",
      "\n",
      "Loading required package: S4Vectors\n",
      "\n",
      "\n",
      "Attaching package: ‘S4Vectors’\n",
      "\n",
      "\n",
      "The following objects are masked from ‘package:data.table’:\n",
      "\n",
      "    first, second\n",
      "\n",
      "\n",
      "The following objects are masked from ‘package:Matrix’:\n",
      "\n",
      "    expand, unname\n",
      "\n",
      "\n",
      "The following object is masked from ‘package:utils’:\n",
      "\n",
      "    findMatches\n",
      "\n",
      "\n",
      "The following objects are masked from ‘package:base’:\n",
      "\n",
      "    expand.grid, I, unname\n",
      "\n",
      "\n",
      "Loading required package: IRanges\n",
      "\n",
      "\n",
      "Attaching package: ‘IRanges’\n",
      "\n",
      "\n",
      "The following object is masked from ‘package:data.table’:\n",
      "\n",
      "    shift\n",
      "\n",
      "\n",
      "Loading required package: GenomeInfoDb\n",
      "\n",
      "Loading required package: SummarizedExperiment\n",
      "\n",
      "Loading required package: MatrixGenerics\n",
      "\n",
      "Loading required package: matrixStats\n",
      "\n",
      "\n",
      "Attaching package: ‘MatrixGenerics’\n",
      "\n",
      "\n",
      "The following objects are masked from ‘package:matrixStats’:\n",
      "\n",
      "    colAlls, colAnyNAs, colAnys, colAvgsPerRowSet, colCollapse,\n",
      "    colCounts, colCummaxs, colCummins, colCumprods, colCumsums,\n",
      "    colDiffs, colIQRDiffs, colIQRs, colLogSumExps, colMadDiffs,\n",
      "    colMads, colMaxs, colMeans2, colMedians, colMins, colOrderStats,\n",
      "    colProds, colQuantiles, colRanges, colRanks, colSdDiffs, colSds,\n",
      "    colSums2, colTabulates, colVarDiffs, colVars, colWeightedMads,\n",
      "    colWeightedMeans, colWeightedMedians, colWeightedSds,\n",
      "    colWeightedVars, rowAlls, rowAnyNAs, rowAnys, rowAvgsPerColSet,\n",
      "    rowCollapse, rowCounts, rowCummaxs, rowCummins, rowCumprods,\n",
      "    rowCumsums, rowDiffs, rowIQRDiffs, rowIQRs, rowLogSumExps,\n",
      "    rowMadDiffs, rowMads, rowMaxs, rowMeans2, rowMedians, rowMins,\n",
      "    rowOrderStats, rowProds, rowQuantiles, rowRanges, rowRanks,\n",
      "    rowSdDiffs, rowSds, rowSums2, rowTabulates, rowVarDiffs, rowVars,\n",
      "    rowWeightedMads, rowWeightedMeans, rowWeightedMedians,\n",
      "    rowWeightedSds, rowWeightedVars\n",
      "\n",
      "\n",
      "Loading required package: Biobase\n",
      "\n",
      "Welcome to Bioconductor\n",
      "\n",
      "    Vignettes contain introductory material; view with\n",
      "    'browseVignettes()'. To cite Bioconductor, see\n",
      "    'citation(\"Biobase\")', and for packages 'citation(\"pkgname\")'.\n",
      "\n",
      "\n",
      "\n",
      "Attaching package: ‘Biobase’\n",
      "\n",
      "\n",
      "The following object is masked from ‘package:MatrixGenerics’:\n",
      "\n",
      "    rowMedians\n",
      "\n",
      "\n",
      "The following objects are masked from ‘package:matrixStats’:\n",
      "\n",
      "    anyMissing, rowMedians\n",
      "\n",
      "\n"
     ]
    }
   ],
   "source": [
    "suppressWarnings(library(bsseq))"
   ]
  },
  {
   "cell_type": "code",
   "execution_count": null,
   "id": "0974ca32-6b20-4f9e-a1f4-56aca60cabb3",
   "metadata": {},
   "outputs": [],
   "source": []
  },
  {
   "cell_type": "markdown",
   "id": "2f514a8f-34a6-4189-954d-949425007aa1",
   "metadata": {},
   "source": []
  },
  {
   "cell_type": "code",
   "execution_count": 16,
   "id": "8a871cb8-d71d-4f62-8d5e-70b79bb1c1c8",
   "metadata": {},
   "outputs": [],
   "source": [
    "# # The code in this block is for NEW methylation data, which can be for any chromosome or portion\n",
    "\n",
    "# # load data for mwas\n",
    "# # load(\"./rda/caudate_mwas_data_chr22.rda\")\n",
    "load(df$methylation_data[i])\n",
    "\n",
    "p <- getMeth(BSobj2)\n",
    "\n",
    "\n",
    "rownames(p) <- start(BSobj2)\n",
    "\n",
    "sites_to_test <- which(start(BSobj2) %in% sites_to_test_pos)\n",
    "p <- p[sites_to_test, ]\n",
    "cg <- as.numeric(rownames(p))"
   ]
  },
  {
   "cell_type": "markdown",
   "id": "892e5592-48be-4854-b932-5d43a9d27791",
   "metadata": {},
   "source": [
    "Subset our p object to the same sites as the old one, compare values"
   ]
  },
  {
   "cell_type": "code",
   "execution_count": 17,
   "id": "067bd47b-6d87-4707-be4f-2f48e4382517",
   "metadata": {},
   "outputs": [],
   "source": [
    "# # Old dataset\n",
    "# load(\"BSsample.rda\", verbose = TRUE) # we get the @colData attribute as a data.frame here\n",
    "# load(\"p1.rda\", verbose = TRUE) # and the p matrix from getMeth() here\n",
    "\n",
    "# BSobj2 <- BSsample\n",
    "# cg <- as.numeric(rownames(p)) # This line same whether we use old or new version\n",
    "# sites_to_test_pos <- cg"
   ]
  },
  {
   "cell_type": "markdown",
   "id": "6063581e-a107-4977-93d7-836f1da57078",
   "metadata": {},
   "source": [
    "### covariates"
   ]
  },
  {
   "cell_type": "code",
   "execution_count": 18,
   "id": "cc499656-ec9a-45cd-ad05-b17e957eaaa6",
   "metadata": {},
   "outputs": [],
   "source": [
    "# The code in this block is for NEW covariate data\n",
    "\n",
    "# covs <- fread(df$cov_file[i])\n",
    "# covs <- t(covs)\n",
    "# colnames(covs) <- covs[1, ]\n",
    "# covs <- covs[2:nrow(covs), ]\n",
    "# # transpose so we have same orientation as original code"
   ]
  },
  {
   "cell_type": "code",
   "execution_count": 19,
   "id": "b73eadb7-0f96-4f46-bafc-1e9ad864613d",
   "metadata": {},
   "outputs": [],
   "source": [
    "# This is the OLD covariate data\n",
    "\n",
    "load(\"covs_for_meqtl.rda\")"
   ]
  },
  {
   "cell_type": "markdown",
   "id": "72219907-d534-4523-a369-853077888b38",
   "metadata": {},
   "source": [
    "### Regress methylation data over covariates"
   ]
  },
  {
   "cell_type": "code",
   "execution_count": 20,
   "id": "85527835-9e3f-4ba9-a645-5330564e0b7c",
   "metadata": {},
   "outputs": [],
   "source": [
    "BSobj2$brnum <- gsub(\"Br0\", \"Br\", BSobj2$brnum)\n",
    "colnames(covs) <- gsub(\"Br0\", \"Br\", colnames(covs))"
   ]
  },
  {
   "cell_type": "code",
   "execution_count": 21,
   "id": "8899261b-73fb-430e-bcdb-143fc8f04670",
   "metadata": {},
   "outputs": [],
   "source": [
    "mat <- match(BSobj2$brnum,colnames(covs)) \n",
    "covs <- t(covs[,mat])\n",
    "p.residual=matrix(NA,dim(p)[1],dim(p)[2])"
   ]
  },
  {
   "cell_type": "code",
   "execution_count": 22,
   "id": "35031e54-4c54-4a37-9997-99b57efa86bf",
   "metadata": {},
   "outputs": [],
   "source": [
    "# This is something we only need to do for new covariates\n",
    "if(\"genoPC1\" %in% colnames(covs)){\n",
    "    rownames(covs)[is.na(covs[, 'genoPC1'])] <- BSobj2$brnum[is.na(covs[, 'genoPC1'])]\n",
    "}"
   ]
  },
  {
   "cell_type": "code",
   "execution_count": 23,
   "id": "70bda030-7a89-4dff-8c61-f576badfd8bd",
   "metadata": {},
   "outputs": [],
   "source": [
    "colnames(p.residual) <- BSobj2$brnum"
   ]
  },
  {
   "cell_type": "code",
   "execution_count": 24,
   "id": "78ee80f1-d9ea-46b0-b37a-dfeed3dbdf97",
   "metadata": {},
   "outputs": [],
   "source": [
    "covs <- as.data.frame(covs)\n",
    "# Convert all columns except Dx and Sex from character to numeric\n",
    "cols_to_convert <- setdiff(names(covs), c(\"Dx\", \"Sex\"))\n",
    "\n",
    "for (col in cols_to_convert) {\n",
    "  covs[[col]] <- as.numeric(covs[[col]])\n",
    "}\n",
    "\n",
    "# Print the modified data frame to check the conversion\n",
    "#print(dat)\n"
   ]
  },
  {
   "cell_type": "code",
   "execution_count": 25,
   "id": "db709d51-494c-431c-8327-9348dbf0419c",
   "metadata": {},
   "outputs": [],
   "source": [
    "for (i in 1:dim(p)[1]) { # For each methylation site\n",
    "    dat <- as.data.frame(cbind(y = p[i,], covs))\n",
    "    \n",
    "    # Check for rows with NAs (the ones for which we don't have covariate data)\n",
    "    valid_rows <- complete.cases(dat)\n",
    "    \n",
    "    if (sum(valid_rows) > 0) {\n",
    "        dat_valid <- dat[valid_rows,]\n",
    "        model.res <- lm(y ~ ., data = dat_valid)\n",
    "        \n",
    "        # Store residuals in the corresponding positions\n",
    "        p.residual[i, valid_rows] <- resid(model.res)\n",
    "    }\n",
    "}\n",
    "\n",
    "\n",
    "# for(i in 1:dim(p)[1]){ # foro each methylation site\n",
    "#         dat <- as.data.frame(cbind(p[i,],covs))\n",
    "#         colnames(dat) <- c(\"y\",paste0(\"x\",1:ncol(covs)))\n",
    "#         model.res <- lm(reformulate(paste0(\"x\",1:ncol(covs)), \"y\"),dat)\n",
    "#         p.residual[i,] = resid(model.res) \n",
    "# }"
   ]
  },
  {
   "cell_type": "code",
   "execution_count": 26,
   "id": "dee072f8-010e-4618-806c-b5e66018bc81",
   "metadata": {},
   "outputs": [
    {
     "data": {
      "text/html": [
       "<style>\n",
       ".list-inline {list-style: none; margin:0; padding: 0}\n",
       ".list-inline>li {display: inline-block}\n",
       ".list-inline>li:not(:last-child)::after {content: \"\\00b7\"; padding: 0 .5ex}\n",
       "</style>\n",
       "<ol class=list-inline><li>8</li><li>297</li></ol>\n"
      ],
      "text/latex": [
       "\\begin{enumerate*}\n",
       "\\item 8\n",
       "\\item 297\n",
       "\\end{enumerate*}\n"
      ],
      "text/markdown": [
       "1. 8\n",
       "2. 297\n",
       "\n",
       "\n"
      ],
      "text/plain": [
       "[1]   8 297"
      ]
     },
     "metadata": {},
     "output_type": "display_data"
    }
   ],
   "source": [
    "dim(p.residual)"
   ]
  },
  {
   "cell_type": "code",
   "execution_count": 27,
   "id": "4f866dd6-16c6-4803-9c21-c70e4b931e66",
   "metadata": {},
   "outputs": [
    {
     "data": {
      "text/html": [
       "<table class=\"dataframe\">\n",
       "<caption>A matrix: 8 × 8 of type dbl</caption>\n",
       "<thead>\n",
       "\t<tr><th scope=col>Br1122</th><th scope=col>Br2285</th><th scope=col>Br1764</th><th scope=col>Br1464</th><th scope=col>Br5062</th><th scope=col>Br1446</th><th scope=col>Br1503</th><th scope=col>Br1946</th></tr>\n",
       "</thead>\n",
       "<tbody>\n",
       "\t<tr><td>-0.021772765</td><td> 0.0171057118</td><td>-0.003104411</td><td>-0.022536233</td><td>-0.01133320</td><td>-0.002647317</td><td> 0.009877743</td><td>-0.008847398</td></tr>\n",
       "\t<tr><td>-0.021782828</td><td> 0.0170917413</td><td>-0.003157108</td><td>-0.022544563</td><td>-0.01132870</td><td>-0.002673469</td><td> 0.009870014</td><td>-0.008873323</td></tr>\n",
       "\t<tr><td>-0.043888182</td><td>-0.0118016465</td><td> 0.055577899</td><td> 0.029720928</td><td>-0.01200909</td><td>-0.019514686</td><td> 0.016255660</td><td> 0.015087855</td></tr>\n",
       "\t<tr><td> 0.003365118</td><td>-0.0003939154</td><td> 0.006590394</td><td>-0.011596652</td><td> 0.02840531</td><td> 0.007325307</td><td> 0.018569552</td><td> 0.007050156</td></tr>\n",
       "\t<tr><td>-0.008253897</td><td> 0.0039481671</td><td> 0.005694935</td><td>-0.011469094</td><td> 0.02967406</td><td> 0.007227775</td><td> 0.021167976</td><td> 0.005467642</td></tr>\n",
       "\t<tr><td> 0.027927438</td><td> 0.0146552415</td><td>-0.013098449</td><td>-0.012031208</td><td> 0.03458124</td><td> 0.012633224</td><td>-0.017013102</td><td> 0.013072120</td></tr>\n",
       "\t<tr><td> 0.032242055</td><td> 0.0173510674</td><td>-0.002920818</td><td>-0.010695096</td><td> 0.03184396</td><td> 0.017650227</td><td>-0.013039197</td><td> 0.007014169</td></tr>\n",
       "\t<tr><td> 0.032417897</td><td> 0.0181280067</td><td> 0.001116342</td><td>-0.008765389</td><td> 0.02980369</td><td> 0.018806673</td><td>-0.010985107</td><td> 0.004018753</td></tr>\n",
       "</tbody>\n",
       "</table>\n"
      ],
      "text/latex": [
       "A matrix: 8 × 8 of type dbl\n",
       "\\begin{tabular}{llllllll}\n",
       " Br1122 & Br2285 & Br1764 & Br1464 & Br5062 & Br1446 & Br1503 & Br1946\\\\\n",
       "\\hline\n",
       "\t -0.021772765 &  0.0171057118 & -0.003104411 & -0.022536233 & -0.01133320 & -0.002647317 &  0.009877743 & -0.008847398\\\\\n",
       "\t -0.021782828 &  0.0170917413 & -0.003157108 & -0.022544563 & -0.01132870 & -0.002673469 &  0.009870014 & -0.008873323\\\\\n",
       "\t -0.043888182 & -0.0118016465 &  0.055577899 &  0.029720928 & -0.01200909 & -0.019514686 &  0.016255660 &  0.015087855\\\\\n",
       "\t  0.003365118 & -0.0003939154 &  0.006590394 & -0.011596652 &  0.02840531 &  0.007325307 &  0.018569552 &  0.007050156\\\\\n",
       "\t -0.008253897 &  0.0039481671 &  0.005694935 & -0.011469094 &  0.02967406 &  0.007227775 &  0.021167976 &  0.005467642\\\\\n",
       "\t  0.027927438 &  0.0146552415 & -0.013098449 & -0.012031208 &  0.03458124 &  0.012633224 & -0.017013102 &  0.013072120\\\\\n",
       "\t  0.032242055 &  0.0173510674 & -0.002920818 & -0.010695096 &  0.03184396 &  0.017650227 & -0.013039197 &  0.007014169\\\\\n",
       "\t  0.032417897 &  0.0181280067 &  0.001116342 & -0.008765389 &  0.02980369 &  0.018806673 & -0.010985107 &  0.004018753\\\\\n",
       "\\end{tabular}\n"
      ],
      "text/markdown": [
       "\n",
       "A matrix: 8 × 8 of type dbl\n",
       "\n",
       "| Br1122 | Br2285 | Br1764 | Br1464 | Br5062 | Br1446 | Br1503 | Br1946 |\n",
       "|---|---|---|---|---|---|---|---|\n",
       "| -0.021772765 |  0.0171057118 | -0.003104411 | -0.022536233 | -0.01133320 | -0.002647317 |  0.009877743 | -0.008847398 |\n",
       "| -0.021782828 |  0.0170917413 | -0.003157108 | -0.022544563 | -0.01132870 | -0.002673469 |  0.009870014 | -0.008873323 |\n",
       "| -0.043888182 | -0.0118016465 |  0.055577899 |  0.029720928 | -0.01200909 | -0.019514686 |  0.016255660 |  0.015087855 |\n",
       "|  0.003365118 | -0.0003939154 |  0.006590394 | -0.011596652 |  0.02840531 |  0.007325307 |  0.018569552 |  0.007050156 |\n",
       "| -0.008253897 |  0.0039481671 |  0.005694935 | -0.011469094 |  0.02967406 |  0.007227775 |  0.021167976 |  0.005467642 |\n",
       "|  0.027927438 |  0.0146552415 | -0.013098449 | -0.012031208 |  0.03458124 |  0.012633224 | -0.017013102 |  0.013072120 |\n",
       "|  0.032242055 |  0.0173510674 | -0.002920818 | -0.010695096 |  0.03184396 |  0.017650227 | -0.013039197 |  0.007014169 |\n",
       "|  0.032417897 |  0.0181280067 |  0.001116342 | -0.008765389 |  0.02980369 |  0.018806673 | -0.010985107 |  0.004018753 |\n",
       "\n"
      ],
      "text/plain": [
       "     Br1122       Br2285        Br1764       Br1464       Br5062     \n",
       "[1,] -0.021772765  0.0171057118 -0.003104411 -0.022536233 -0.01133320\n",
       "[2,] -0.021782828  0.0170917413 -0.003157108 -0.022544563 -0.01132870\n",
       "[3,] -0.043888182 -0.0118016465  0.055577899  0.029720928 -0.01200909\n",
       "[4,]  0.003365118 -0.0003939154  0.006590394 -0.011596652  0.02840531\n",
       "[5,] -0.008253897  0.0039481671  0.005694935 -0.011469094  0.02967406\n",
       "[6,]  0.027927438  0.0146552415 -0.013098449 -0.012031208  0.03458124\n",
       "[7,]  0.032242055  0.0173510674 -0.002920818 -0.010695096  0.03184396\n",
       "[8,]  0.032417897  0.0181280067  0.001116342 -0.008765389  0.02980369\n",
       "     Br1446       Br1503       Br1946      \n",
       "[1,] -0.002647317  0.009877743 -0.008847398\n",
       "[2,] -0.002673469  0.009870014 -0.008873323\n",
       "[3,] -0.019514686  0.016255660  0.015087855\n",
       "[4,]  0.007325307  0.018569552  0.007050156\n",
       "[5,]  0.007227775  0.021167976  0.005467642\n",
       "[6,]  0.012633224 -0.017013102  0.013072120\n",
       "[7,]  0.017650227 -0.013039197  0.007014169\n",
       "[8,]  0.018806673 -0.010985107  0.004018753"
      ]
     },
     "metadata": {},
     "output_type": "display_data"
    }
   ],
   "source": [
    "p.residual[1:8, 1:8]"
   ]
  },
  {
   "cell_type": "code",
   "execution_count": 28,
   "id": "f4ad72db-fe27-4676-8da6-46222519a095",
   "metadata": {},
   "outputs": [],
   "source": [
    "snp.gwas2 <- NULL"
   ]
  },
  {
   "cell_type": "code",
   "execution_count": 29,
   "id": "744fc147-2638-4935-a805-68cb51852dd7",
   "metadata": {},
   "outputs": [],
   "source": [
    "#load(\"p1.rda\", verbose = TRUE)"
   ]
  },
  {
   "cell_type": "markdown",
   "id": "6f1649fc-72c8-4bcf-9cbc-587463117579",
   "metadata": {},
   "source": [
    "### summary stats"
   ]
  },
  {
   "cell_type": "code",
   "execution_count": 30,
   "id": "19d2a3db-0ed4-481f-b7d6-78d0ddbbb80f",
   "metadata": {},
   "outputs": [],
   "source": [
    "library(data.table)\n",
    "library(CpGWAS)"
   ]
  },
  {
   "cell_type": "code",
   "execution_count": 31,
   "id": "a5270235-a5a6-42d2-a654-ea30cb891279",
   "metadata": {},
   "outputs": [],
   "source": [
    "ss_path <- \"/home/naglemi/mwas/gwas/gwas_stat_scz\""
   ]
  },
  {
   "cell_type": "code",
   "execution_count": 32,
   "id": "203b45ea-44b4-4679-8b74-621f634db7dc",
   "metadata": {},
   "outputs": [],
   "source": [
    "snp.gwas2 <- fread(ss_path, skip = 1, header = FALSE)\n",
    "colnames(snp.gwas2) <- strsplit(readLines(ss_path, n = 1), \"\\t\")[[1]]"
   ]
  },
  {
   "cell_type": "code",
   "execution_count": 33,
   "id": "917f58c4-4ec5-47b8-bf3d-f0abcf86cf96",
   "metadata": {},
   "outputs": [],
   "source": [
    "snp.gwas2$z <- log(snp.gwas2$OR)/snp.gwas2$SE"
   ]
  },
  {
   "cell_type": "code",
   "execution_count": 34,
   "id": "6d87bed5-d32c-4264-b787-d738cd381454",
   "metadata": {},
   "outputs": [],
   "source": [
    "snp.gwas2 <- snp.gwas2[, c(2, 1, 3, 3, 8, 4, 5, 20, 11)]"
   ]
  },
  {
   "cell_type": "code",
   "execution_count": 35,
   "id": "3df5e4c7-01eb-475b-a931-1e088d109cdb",
   "metadata": {},
   "outputs": [
    {
     "data": {
      "text/html": [
       "<table class=\"dataframe\">\n",
       "<caption>A data.table: 1 × 9</caption>\n",
       "<thead>\n",
       "\t<tr><th scope=col>SNP</th><th scope=col>CHR</th><th scope=col>BP</th><th scope=col>BP</th><th scope=col>INFO</th><th scope=col>A1</th><th scope=col>A2</th><th scope=col>z</th><th scope=col>P</th></tr>\n",
       "\t<tr><th scope=col>&lt;chr&gt;</th><th scope=col>&lt;int&gt;</th><th scope=col>&lt;int&gt;</th><th scope=col>&lt;int&gt;</th><th scope=col>&lt;dbl&gt;</th><th scope=col>&lt;chr&gt;</th><th scope=col>&lt;chr&gt;</th><th scope=col>&lt;dbl&gt;</th><th scope=col>&lt;dbl&gt;</th></tr>\n",
       "</thead>\n",
       "<tbody>\n",
       "\t<tr><td>rs62513865</td><td>8</td><td>100579985</td><td>100579985</td><td>0.963</td><td>C</td><td>T</td><td>0.7016221</td><td>0.4847</td></tr>\n",
       "</tbody>\n",
       "</table>\n"
      ],
      "text/latex": [
       "A data.table: 1 × 9\n",
       "\\begin{tabular}{lllllllll}\n",
       " SNP & CHR & BP & BP & INFO & A1 & A2 & z & P\\\\\n",
       " <chr> & <int> & <int> & <int> & <dbl> & <chr> & <chr> & <dbl> & <dbl>\\\\\n",
       "\\hline\n",
       "\t rs62513865 & 8 & 100579985 & 100579985 & 0.963 & C & T & 0.7016221 & 0.4847\\\\\n",
       "\\end{tabular}\n"
      ],
      "text/markdown": [
       "\n",
       "A data.table: 1 × 9\n",
       "\n",
       "| SNP &lt;chr&gt; | CHR &lt;int&gt; | BP &lt;int&gt; | BP &lt;int&gt; | INFO &lt;dbl&gt; | A1 &lt;chr&gt; | A2 &lt;chr&gt; | z &lt;dbl&gt; | P &lt;dbl&gt; |\n",
       "|---|---|---|---|---|---|---|---|---|\n",
       "| rs62513865 | 8 | 100579985 | 100579985 | 0.963 | C | T | 0.7016221 | 0.4847 |\n",
       "\n"
      ],
      "text/plain": [
       "  SNP        CHR BP        BP        INFO  A1 A2 z         P     \n",
       "1 rs62513865 8   100579985 100579985 0.963 C  T  0.7016221 0.4847"
      ]
     },
     "metadata": {},
     "output_type": "display_data"
    }
   ],
   "source": [
    "head(snp.gwas2, n = 1)"
   ]
  },
  {
   "cell_type": "code",
   "execution_count": 36,
   "id": "a1b63fe0-6ff8-4982-92a5-7dd2a937b6f3",
   "metadata": {},
   "outputs": [],
   "source": [
    "colnames(snp.gwas2)[1:5] <- c(\"snp\", \"chr\", \"pos_hg38\", \"pos_hg38\", \"info\")"
   ]
  },
  {
   "cell_type": "code",
   "execution_count": 37,
   "id": "bda48de1-8191-4b45-8f16-41cce0a957af",
   "metadata": {},
   "outputs": [],
   "source": [
    "CHR <- chr # to avoid R df local env mixing variables of columns name and subset variable"
   ]
  },
  {
   "cell_type": "code",
   "execution_count": 38,
   "id": "196dca2f-edd0-4ff7-83d0-73049310205f",
   "metadata": {},
   "outputs": [],
   "source": [
    "snp.gwas2 <- snp.gwas2[which(snp.gwas2$chr == CHR), ]"
   ]
  },
  {
   "cell_type": "code",
   "execution_count": 39,
   "id": "86716430-3d24-416b-922e-f7f8e007325d",
   "metadata": {},
   "outputs": [],
   "source": [
    "if(filter_snps == TRUE){\n",
    "    snp.gwas2 <- snp.gwas2[which(snp.gwas2$pos_hg38 >= (min(sites_to_test_pos)-10000) & snp.gwas2$pos_hg38 <= (max(sites_to_test_pos) + 10000)), ]\n",
    "}"
   ]
  },
  {
   "cell_type": "code",
   "execution_count": 40,
   "id": "6dfba3a8-0775-4f8c-92d2-3c9c32a36945",
   "metadata": {},
   "outputs": [],
   "source": [
    "snp.gwas2 <- snp.gwas2[order(snp.gwas2$pos_hg38), ]"
   ]
  },
  {
   "cell_type": "code",
   "execution_count": 41,
   "id": "4714a813-116f-4567-a6b1-41bb02df8227",
   "metadata": {},
   "outputs": [],
   "source": [
    "# built predition models\n",
    "idx.ea <- BSobj2$race == \"CAUC\""
   ]
  },
  {
   "cell_type": "code",
   "execution_count": 42,
   "id": "8bce368a-5bbc-4ed4-9906-5d8ab09e21a8",
   "metadata": {},
   "outputs": [
    {
     "data": {
      "text/html": [
       "'1'"
      ],
      "text/latex": [
       "'1'"
      ],
      "text/markdown": [
       "'1'"
      ],
      "text/plain": [
       "[1] \"1\""
      ]
     },
     "metadata": {},
     "output_type": "display_data"
    }
   ],
   "source": [
    "levels(factor(snp.gwas2$chr))"
   ]
  },
  {
   "cell_type": "markdown",
   "id": "9700ca92-911f-4aa6-a557-789f202994b1",
   "metadata": {},
   "source": [
    "### SNPs in LIBD population"
   ]
  },
  {
   "cell_type": "markdown",
   "id": "4f57b245-ca89-42ac-986a-c47623a31e59",
   "metadata": {},
   "source": [
    "#### Old dataset"
   ]
  },
  {
   "cell_type": "code",
   "execution_count": null,
   "id": "03097259-e5c1-43c7-9b09-e67ed2080067",
   "metadata": {},
   "outputs": [],
   "source": []
  },
  {
   "cell_type": "code",
   "execution_count": null,
   "id": "0c89ee08-626a-42b6-8091-791bd5d63239",
   "metadata": {},
   "outputs": [],
   "source": []
  },
  {
   "cell_type": "code",
   "execution_count": null,
   "id": "e68fddaf-f50a-41ac-bdb3-56f9bd93ff4b",
   "metadata": {},
   "outputs": [],
   "source": []
  },
  {
   "cell_type": "markdown",
   "id": "6c305c43-74d5-42df-8039-b20adbbed9cd",
   "metadata": {},
   "source": [
    "#### New dataset prep: For reference, first load Shizhong's formatted SNPs on Chr7"
   ]
  },
  {
   "cell_type": "code",
   "execution_count": 43,
   "id": "17bbe86f-b1ff-4af1-8297-56ed0e3051e6",
   "metadata": {},
   "outputs": [],
   "source": [
    "# load(\"p1.rda\", verbose = TRUE)\n",
    "\n",
    "# snp2_sorted <- snp2[, order(names(snp2))]\n",
    "\n",
    "# colnames(snp2) <- gsub(\"Br0\", \"Br\", colnames(snp2))\n",
    "\n",
    "# snp2 <- snp2[, colnames(snp2) %in% colnames(p.residual)]\n",
    "\n",
    "# snp2_positions <- stringr::str_split_fixed(rownames(snp2), \":\", 3)[, 2]"
   ]
  },
  {
   "cell_type": "markdown",
   "id": "64e0f588-fc43-4f4a-aba6-911d037e9ead",
   "metadata": {},
   "source": [
    "#### New dataset: Now let's load ours on Chr1"
   ]
  },
  {
   "cell_type": "code",
   "execution_count": 44,
   "id": "04b0b495-749b-42fa-a4ce-2d7f14f0a053",
   "metadata": {},
   "outputs": [],
   "source": [
    "paths <- list(\n",
    "  pvar_path = paste0(\"/expanse/lustre/projects/jhu152/naglemi/mwas/gwas/libd_chr\", chr, \".pvar\"),\n",
    "  pgen_path = paste0(\"/expanse/lustre/projects/jhu152/naglemi/mwas/gwas/libd_chr\", chr, \".pgen\"),\n",
    "  psam_path = paste0(\"/expanse/lustre/projects/jhu152/naglemi/mwas/gwas/libd_chr\", chr, \".psam\")\n",
    ")\n",
    "\n",
    "my_SNPs <- loadSNPData(paths$pvar_path, paths$pgen_path, paths$psam_path)"
   ]
  },
  {
   "cell_type": "code",
   "execution_count": 45,
   "id": "6c82ac91-681b-483c-818f-3a2ec958bca7",
   "metadata": {},
   "outputs": [],
   "source": [
    "filter_snps <- TRUE"
   ]
  },
  {
   "cell_type": "code",
   "execution_count": 46,
   "id": "1dd4ef47-2a68-4f01-a0e5-03efd6732c4a",
   "metadata": {},
   "outputs": [],
   "source": [
    "if(filter_snps == TRUE){\n",
    "    snp_indices_of_interest <- which(my_SNPs$pvar_dt$POS >= min(sites_to_test_pos)-100000 & my_SNPs$pvar_dt$POS <= max(sites_to_test_pos) + 100000)\n",
    "}"
   ]
  },
  {
   "cell_type": "code",
   "execution_count": 47,
   "id": "24e9b8e2-bbbc-4421-98e2-97a6ae33ef68",
   "metadata": {},
   "outputs": [],
   "source": [
    "if(filter_snps == TRUE){\n",
    "    snp3 <- pgenlibr::ReadList(my_SNPs$pgen,\n",
    "                               variant_subset = snp_indices_of_interest)\n",
    "    colnames(snp3) <- my_SNPs$pvar_dt$ID[snp_indices_of_interest]\n",
    "} else {\n",
    "    snp3 <- pgenlibr::ReadList(my_SNPs$pgen)\n",
    "    colnames(snp3) <- my_SNPs$pvar_dt$ID\n",
    "}"
   ]
  },
  {
   "cell_type": "code",
   "execution_count": 48,
   "id": "cec6d1f4-f37a-4788-a6c8-04fb1d6a6fcf",
   "metadata": {},
   "outputs": [
    {
     "data": {
      "text/html": [
       "<table class=\"dataframe\">\n",
       "<caption>A matrix: 10 × 10 of type dbl</caption>\n",
       "<thead>\n",
       "\t<tr><th scope=col>chr1:73174446:A:G</th><th scope=col>chr1:73174844:A:G</th><th scope=col>chr1:73174997:A:G</th><th scope=col>chr1:73175231:A:T</th><th scope=col>chr1:73175257:A:T</th><th scope=col>chr1:73175318:C:T</th><th scope=col>chr1:73175341:T:A</th><th scope=col>chr1:73175376:A:T</th><th scope=col>chr1:73175403:G:A</th><th scope=col>chr1:73175846:C:A</th></tr>\n",
       "</thead>\n",
       "<tbody>\n",
       "\t<tr><td>0.9970093</td><td>0.0000000</td><td>0.0000000</td><td>0.0000000</td><td>0.0000000</td><td>0.0000000</td><td>0.0000000</td><td>0.0000000</td><td>1.9970093</td><td>1.9959717</td></tr>\n",
       "\t<tr><td>0.0000000</td><td>2.0000000</td><td>2.0000000</td><td>2.0000000</td><td>2.0000000</td><td>2.0000000</td><td>2.0000000</td><td>2.0000000</td><td>0.0000000</td><td>0.0000000</td></tr>\n",
       "\t<tr><td>0.0000000</td><td>2.0000000</td><td>2.0000000</td><td>2.0000000</td><td>2.0000000</td><td>2.0000000</td><td>2.0000000</td><td>2.0000000</td><td>0.0000000</td><td>0.0000000</td></tr>\n",
       "\t<tr><td>0.9970093</td><td>0.9970093</td><td>0.9970093</td><td>0.9970093</td><td>0.9970093</td><td>0.9970093</td><td>0.9970093</td><td>0.9970093</td><td>0.9970093</td><td>0.9970093</td></tr>\n",
       "\t<tr><td>1.9739990</td><td>0.0000000</td><td>0.0000000</td><td>0.0000000</td><td>0.0000000</td><td>0.0000000</td><td>0.0000000</td><td>0.0000000</td><td>1.9739990</td><td>1.9730225</td></tr>\n",
       "\t<tr><td>0.0000000</td><td>1.0000000</td><td>1.0000000</td><td>1.0000000</td><td>1.0000000</td><td>1.0000000</td><td>1.0000000</td><td>1.0000000</td><td>1.0000000</td><td>1.0000000</td></tr>\n",
       "\t<tr><td>0.0000000</td><td>2.0000000</td><td>2.0000000</td><td>2.0000000</td><td>2.0000000</td><td>2.0000000</td><td>2.0000000</td><td>2.0000000</td><td>0.0000000</td><td>0.0000000</td></tr>\n",
       "\t<tr><td>2.0000000</td><td>0.0000000</td><td>0.0000000</td><td>0.0000000</td><td>0.0000000</td><td>0.0000000</td><td>0.0000000</td><td>0.0000000</td><td>2.0000000</td><td>2.0000000</td></tr>\n",
       "\t<tr><td>0.0000000</td><td>2.0000000</td><td>2.0000000</td><td>2.0000000</td><td>2.0000000</td><td>2.0000000</td><td>2.0000000</td><td>2.0000000</td><td>0.0000000</td><td>0.0000000</td></tr>\n",
       "\t<tr><td>2.0000000</td><td>1.0000000</td><td>0.0000000</td><td>0.0000000</td><td>0.0000000</td><td>0.0000000</td><td>0.0000000</td><td>0.0000000</td><td>2.0000000</td><td>2.0000000</td></tr>\n",
       "</tbody>\n",
       "</table>\n"
      ],
      "text/latex": [
       "A matrix: 10 × 10 of type dbl\n",
       "\\begin{tabular}{llllllllll}\n",
       " chr1:73174446:A:G & chr1:73174844:A:G & chr1:73174997:A:G & chr1:73175231:A:T & chr1:73175257:A:T & chr1:73175318:C:T & chr1:73175341:T:A & chr1:73175376:A:T & chr1:73175403:G:A & chr1:73175846:C:A\\\\\n",
       "\\hline\n",
       "\t 0.9970093 & 0.0000000 & 0.0000000 & 0.0000000 & 0.0000000 & 0.0000000 & 0.0000000 & 0.0000000 & 1.9970093 & 1.9959717\\\\\n",
       "\t 0.0000000 & 2.0000000 & 2.0000000 & 2.0000000 & 2.0000000 & 2.0000000 & 2.0000000 & 2.0000000 & 0.0000000 & 0.0000000\\\\\n",
       "\t 0.0000000 & 2.0000000 & 2.0000000 & 2.0000000 & 2.0000000 & 2.0000000 & 2.0000000 & 2.0000000 & 0.0000000 & 0.0000000\\\\\n",
       "\t 0.9970093 & 0.9970093 & 0.9970093 & 0.9970093 & 0.9970093 & 0.9970093 & 0.9970093 & 0.9970093 & 0.9970093 & 0.9970093\\\\\n",
       "\t 1.9739990 & 0.0000000 & 0.0000000 & 0.0000000 & 0.0000000 & 0.0000000 & 0.0000000 & 0.0000000 & 1.9739990 & 1.9730225\\\\\n",
       "\t 0.0000000 & 1.0000000 & 1.0000000 & 1.0000000 & 1.0000000 & 1.0000000 & 1.0000000 & 1.0000000 & 1.0000000 & 1.0000000\\\\\n",
       "\t 0.0000000 & 2.0000000 & 2.0000000 & 2.0000000 & 2.0000000 & 2.0000000 & 2.0000000 & 2.0000000 & 0.0000000 & 0.0000000\\\\\n",
       "\t 2.0000000 & 0.0000000 & 0.0000000 & 0.0000000 & 0.0000000 & 0.0000000 & 0.0000000 & 0.0000000 & 2.0000000 & 2.0000000\\\\\n",
       "\t 0.0000000 & 2.0000000 & 2.0000000 & 2.0000000 & 2.0000000 & 2.0000000 & 2.0000000 & 2.0000000 & 0.0000000 & 0.0000000\\\\\n",
       "\t 2.0000000 & 1.0000000 & 0.0000000 & 0.0000000 & 0.0000000 & 0.0000000 & 0.0000000 & 0.0000000 & 2.0000000 & 2.0000000\\\\\n",
       "\\end{tabular}\n"
      ],
      "text/markdown": [
       "\n",
       "A matrix: 10 × 10 of type dbl\n",
       "\n",
       "| chr1:73174446:A:G | chr1:73174844:A:G | chr1:73174997:A:G | chr1:73175231:A:T | chr1:73175257:A:T | chr1:73175318:C:T | chr1:73175341:T:A | chr1:73175376:A:T | chr1:73175403:G:A | chr1:73175846:C:A |\n",
       "|---|---|---|---|---|---|---|---|---|---|\n",
       "| 0.9970093 | 0.0000000 | 0.0000000 | 0.0000000 | 0.0000000 | 0.0000000 | 0.0000000 | 0.0000000 | 1.9970093 | 1.9959717 |\n",
       "| 0.0000000 | 2.0000000 | 2.0000000 | 2.0000000 | 2.0000000 | 2.0000000 | 2.0000000 | 2.0000000 | 0.0000000 | 0.0000000 |\n",
       "| 0.0000000 | 2.0000000 | 2.0000000 | 2.0000000 | 2.0000000 | 2.0000000 | 2.0000000 | 2.0000000 | 0.0000000 | 0.0000000 |\n",
       "| 0.9970093 | 0.9970093 | 0.9970093 | 0.9970093 | 0.9970093 | 0.9970093 | 0.9970093 | 0.9970093 | 0.9970093 | 0.9970093 |\n",
       "| 1.9739990 | 0.0000000 | 0.0000000 | 0.0000000 | 0.0000000 | 0.0000000 | 0.0000000 | 0.0000000 | 1.9739990 | 1.9730225 |\n",
       "| 0.0000000 | 1.0000000 | 1.0000000 | 1.0000000 | 1.0000000 | 1.0000000 | 1.0000000 | 1.0000000 | 1.0000000 | 1.0000000 |\n",
       "| 0.0000000 | 2.0000000 | 2.0000000 | 2.0000000 | 2.0000000 | 2.0000000 | 2.0000000 | 2.0000000 | 0.0000000 | 0.0000000 |\n",
       "| 2.0000000 | 0.0000000 | 0.0000000 | 0.0000000 | 0.0000000 | 0.0000000 | 0.0000000 | 0.0000000 | 2.0000000 | 2.0000000 |\n",
       "| 0.0000000 | 2.0000000 | 2.0000000 | 2.0000000 | 2.0000000 | 2.0000000 | 2.0000000 | 2.0000000 | 0.0000000 | 0.0000000 |\n",
       "| 2.0000000 | 1.0000000 | 0.0000000 | 0.0000000 | 0.0000000 | 0.0000000 | 0.0000000 | 0.0000000 | 2.0000000 | 2.0000000 |\n",
       "\n"
      ],
      "text/plain": [
       "      chr1:73174446:A:G chr1:73174844:A:G chr1:73174997:A:G chr1:73175231:A:T\n",
       " [1,] 0.9970093         0.0000000         0.0000000         0.0000000        \n",
       " [2,] 0.0000000         2.0000000         2.0000000         2.0000000        \n",
       " [3,] 0.0000000         2.0000000         2.0000000         2.0000000        \n",
       " [4,] 0.9970093         0.9970093         0.9970093         0.9970093        \n",
       " [5,] 1.9739990         0.0000000         0.0000000         0.0000000        \n",
       " [6,] 0.0000000         1.0000000         1.0000000         1.0000000        \n",
       " [7,] 0.0000000         2.0000000         2.0000000         2.0000000        \n",
       " [8,] 2.0000000         0.0000000         0.0000000         0.0000000        \n",
       " [9,] 0.0000000         2.0000000         2.0000000         2.0000000        \n",
       "[10,] 2.0000000         1.0000000         0.0000000         0.0000000        \n",
       "      chr1:73175257:A:T chr1:73175318:C:T chr1:73175341:T:A chr1:73175376:A:T\n",
       " [1,] 0.0000000         0.0000000         0.0000000         0.0000000        \n",
       " [2,] 2.0000000         2.0000000         2.0000000         2.0000000        \n",
       " [3,] 2.0000000         2.0000000         2.0000000         2.0000000        \n",
       " [4,] 0.9970093         0.9970093         0.9970093         0.9970093        \n",
       " [5,] 0.0000000         0.0000000         0.0000000         0.0000000        \n",
       " [6,] 1.0000000         1.0000000         1.0000000         1.0000000        \n",
       " [7,] 2.0000000         2.0000000         2.0000000         2.0000000        \n",
       " [8,] 0.0000000         0.0000000         0.0000000         0.0000000        \n",
       " [9,] 2.0000000         2.0000000         2.0000000         2.0000000        \n",
       "[10,] 0.0000000         0.0000000         0.0000000         0.0000000        \n",
       "      chr1:73175403:G:A chr1:73175846:C:A\n",
       " [1,] 1.9970093         1.9959717        \n",
       " [2,] 0.0000000         0.0000000        \n",
       " [3,] 0.0000000         0.0000000        \n",
       " [4,] 0.9970093         0.9970093        \n",
       " [5,] 1.9739990         1.9730225        \n",
       " [6,] 1.0000000         1.0000000        \n",
       " [7,] 0.0000000         0.0000000        \n",
       " [8,] 2.0000000         2.0000000        \n",
       " [9,] 0.0000000         0.0000000        \n",
       "[10,] 2.0000000         2.0000000        "
      ]
     },
     "metadata": {},
     "output_type": "display_data"
    }
   ],
   "source": [
    "snp3[1:10, 1:10]"
   ]
  },
  {
   "cell_type": "code",
   "execution_count": 49,
   "id": "41fbfa27-83df-4758-87c6-0cff2de9a160",
   "metadata": {},
   "outputs": [],
   "source": [
    "rownames(snp3) <- my_SNPs$psam$`#IID`"
   ]
  },
  {
   "cell_type": "code",
   "execution_count": 50,
   "id": "7a35ed6c-92ba-44b3-840e-ffc621828872",
   "metadata": {},
   "outputs": [],
   "source": [
    "map3 <- data.frame(POS = stringr::str_split_fixed(colnames(snp3), \":\", 3)[, 2])"
   ]
  },
  {
   "cell_type": "code",
   "execution_count": 51,
   "id": "ca549289-47f4-444b-b3e8-7d8a39c2e33f",
   "metadata": {},
   "outputs": [],
   "source": [
    "snp3 <- t(snp3)"
   ]
  },
  {
   "cell_type": "code",
   "execution_count": 52,
   "id": "191b05e4-0107-4059-887e-bd3f2cafde0f",
   "metadata": {},
   "outputs": [],
   "source": [
    "map3 <- data.frame(POS = stringr::str_split_fixed(rownames(snp3), \":\", 3)[, 2])"
   ]
  },
  {
   "cell_type": "code",
   "execution_count": 53,
   "id": "4e17a504-e98e-4d5e-bc59-3fd09faf3de8",
   "metadata": {},
   "outputs": [
    {
     "data": {
      "text/html": [
       "<style>\n",
       ".list-inline {list-style: none; margin:0; padding: 0}\n",
       ".list-inline>li {display: inline-block}\n",
       ".list-inline>li:not(:last-child)::after {content: \"\\00b7\"; padding: 0 .5ex}\n",
       "</style>\n",
       "<ol class=list-inline><li>652</li><li>1</li></ol>\n"
      ],
      "text/latex": [
       "\\begin{enumerate*}\n",
       "\\item 652\n",
       "\\item 1\n",
       "\\end{enumerate*}\n"
      ],
      "text/markdown": [
       "1. 652\n",
       "2. 1\n",
       "\n",
       "\n"
      ],
      "text/plain": [
       "[1] 652   1"
      ]
     },
     "metadata": {},
     "output_type": "display_data"
    }
   ],
   "source": [
    "dim(map3)"
   ]
  },
  {
   "cell_type": "markdown",
   "id": "d0fb3ea3-0f60-4a62-b787-66185fc8e792",
   "metadata": {},
   "source": [
    "### SNPs in reference population"
   ]
  },
  {
   "cell_type": "code",
   "execution_count": 54,
   "id": "00b33368-a3ec-4788-8b82-519e1fbd5e95",
   "metadata": {},
   "outputs": [],
   "source": [
    "#snp.1kg.eur2"
   ]
  },
  {
   "cell_type": "code",
   "execution_count": 55,
   "id": "99022f2f-c9b9-47db-a5af-b2d7ba0ded99",
   "metadata": {},
   "outputs": [],
   "source": [
    "paths <- list(\n",
    "  pvar_path = paste0(\"/expanse/lustre/projects/jhu152/naglemi/mwas/gwas/ref_EUR_chr\", chr, \".pvar\"),\n",
    "  pgen_path = paste0(\"/expanse/lustre/projects/jhu152/naglemi/mwas/gwas/ref_EUR_chr\", chr, \".pgen\"),\n",
    "  psam_path = paste0(\"/expanse/lustre/projects/jhu152/naglemi/mwas/gwas/ref_EUR_chr\", chr, \".psam\")\n",
    ")\n",
    "\n",
    "my_SNPs <- loadSNPData(paths$pvar_path, paths$pgen_path, paths$psam_path)"
   ]
  },
  {
   "cell_type": "code",
   "execution_count": 56,
   "id": "90b30176-0532-45a1-bf5e-17e207bb61d5",
   "metadata": {},
   "outputs": [],
   "source": [
    "if(filter_snps == TRUE){\n",
    "    snp_indices_of_interest <- which(my_SNPs$pvar_dt$POS >= min(sites_to_test_pos)-10000 & my_SNPs$pvar_dt$POS <= max(sites_to_test_pos) + 10000)\n",
    "}"
   ]
  },
  {
   "cell_type": "code",
   "execution_count": 57,
   "id": "85f427f7-e4d3-4ba6-ad1a-a2691f68346e",
   "metadata": {},
   "outputs": [],
   "source": [
    "snp.1kg.eur2 <- pgenlibr::ReadList(my_SNPs$pgen,\n",
    "                        variant_subset = snp_indices_of_interest)\n",
    "colnames(snp.1kg.eur2) <- my_SNPs$pvar_dt$ID[snp_indices_of_interest]\n",
    "rownames(snp.1kg.eur2) <- my_SNPs$psam$`IID`"
   ]
  },
  {
   "cell_type": "code",
   "execution_count": 58,
   "id": "38d80ac5-91d5-4766-8953-fe93f6de6a34",
   "metadata": {},
   "outputs": [],
   "source": [
    "map.1kg.eur2 <- my_SNPs$pvar_dt"
   ]
  },
  {
   "cell_type": "code",
   "execution_count": 59,
   "id": "a9650fe9-2483-4bf0-95d3-0102b90465f2",
   "metadata": {},
   "outputs": [],
   "source": [
    "map.1kg.eur2 <- map.1kg.eur2[snp_indices_of_interest, ]"
   ]
  },
  {
   "cell_type": "code",
   "execution_count": 60,
   "id": "f6f5d1f5-0681-4825-bfa7-79d3ace6f004",
   "metadata": {},
   "outputs": [],
   "source": [
    "snp.1kg.eur2 <- t(snp.1kg.eur2)"
   ]
  },
  {
   "cell_type": "markdown",
   "id": "882a7c0a-0ec2-4aa2-be3c-a2f152126bd8",
   "metadata": {},
   "source": [
    "### Set window size and any other parameters"
   ]
  },
  {
   "cell_type": "code",
   "execution_count": 61,
   "id": "461263e5-8c47-40ae-b3e4-03dbea4820e8",
   "metadata": {},
   "outputs": [],
   "source": [
    "wind <- 10000"
   ]
  },
  {
   "cell_type": "markdown",
   "id": "0849e5e3-af47-480f-82ca-97b07d1dd943",
   "metadata": {},
   "source": [
    "Is 1se vs min for lambda the problem?"
   ]
  },
  {
   "cell_type": "markdown",
   "id": "b0244eba-060a-4ac3-966c-cb68deb41cb0",
   "metadata": {},
   "source": [
    "#### Final formatting steps to prepare for MWAS - sort samples"
   ]
  },
  {
   "cell_type": "code",
   "execution_count": 62,
   "id": "f41f9c4d-1489-45a4-ad25-d446a05980bf",
   "metadata": {},
   "outputs": [],
   "source": [
    "p.residual <- p.residual[, order(colnames(p.residual))]"
   ]
  },
  {
   "cell_type": "code",
   "execution_count": 63,
   "id": "65857cda-1517-4854-a1e1-5af6459cbdca",
   "metadata": {},
   "outputs": [],
   "source": [
    "snp3 <- snp3[, colnames(snp3) %in% colnames(p.residual)]"
   ]
  },
  {
   "cell_type": "code",
   "execution_count": 64,
   "id": "7ab51668-a9da-4913-a8ee-41aa0d49550e",
   "metadata": {},
   "outputs": [],
   "source": [
    "snp3 <- snp3[, order(colnames(snp3))]"
   ]
  },
  {
   "cell_type": "markdown",
   "id": "768cf092-82d8-46e6-b322-efd6e09bbb73",
   "metadata": {},
   "source": [
    "## MWAS"
   ]
  },
  {
   "cell_type": "markdown",
   "id": "c3720675-e92d-46ee-b5a6-66d71d367dc4",
   "metadata": {},
   "source": [
    "### With `lambda.1se`"
   ]
  },
  {
   "cell_type": "markdown",
   "id": "cfc14c0f-1e12-4108-97fc-ab66a6467640",
   "metadata": {},
   "source": [
    "#### Stage 1"
   ]
  },
  {
   "cell_type": "markdown",
   "id": "7cde5d54-d8c6-4f26-b992-cd06803bafc3",
   "metadata": {},
   "source": [
    "Quick debug: A version to see why we end up with empty `models.aa` and `models.ea`"
   ]
  },
  {
   "cell_type": "code",
   "execution_count": 65,
   "id": "305409c3-5abb-49c2-9914-6fd958064abf",
   "metadata": {},
   "outputs": [
    {
     "name": "stderr",
     "output_type": "stream",
     "text": [
      "Warning message:\n",
      "“executing %dopar% sequentially: no parallel backend registered”\n"
     ]
    }
   ],
   "source": [
    "set.seed(42)\n",
    "for(k in 1:length(wind)){\n",
    "    models.ea <- c()\n",
    "    models.all <- c()\n",
    "    for(i in 1:length(cg)){\n",
    "    #for(i in 1){\n",
    "            #cat(i,\"\\n\")\n",
    "            #print(paste0(\"This cg is: \", cg[i]))\n",
    "            range1 <- ifelse(cg[i] - wind[k] > 0,cg[i] - wind[k],0)\n",
    "            range2 <- cg[i] + wind[k]\n",
    "            idx <- map3$POS > range1 & map3$POS < range2\n",
    "            # go to next cg if no snps within window\n",
    "            if(sum(idx) <= 1){\n",
    "                    next\n",
    "            }\n",
    "            geno <- snp3[idx,] # changed snp2 to snp3\n",
    "            rownames(geno) <- map3$POS[idx]\n",
    "            trainX <- t(geno)\n",
    "            trainY <- p.residual[i,]\n",
    "            #fit <- elastic.net(trainX,trainY, \"1se\")\n",
    "            fit <- tryCatch(\n",
    "                    elastic.net(trainX,trainY, \"1se\"),\n",
    "                    error = function(e) {return (\"err\")})\n",
    "            if(!is.data.frame(fit)){\n",
    "                if(fit == \"err\"){\n",
    "                    next\n",
    "                }\n",
    "            }\n",
    "            if(nrow(fit) == 0) next\n",
    "\n",
    "            fit$cg <- cg[i]\n",
    "            models.all <- rbind(models.all,fit)\n",
    "            # EA only\n",
    "            trainX <- trainX[idx.ea,]\n",
    "            if(sum(apply(trainX,2,var)!=0) <= 1){\n",
    "                    next\n",
    "            }\n",
    "            trainY <- trainY[idx.ea]\n",
    "            fit <- tryCatch(\n",
    "                    elastic.net(trainX,trainY, \"1se\"),\n",
    "                    error = function(e) {return (\"err\")})\n",
    "            if(!is.data.frame(fit)){\n",
    "                if(fit == \"err\"){\n",
    "                    next\n",
    "                }\n",
    "            }\n",
    "            if(nrow(fit) == 0) next\n",
    "            fit$cg <- cg[i]\n",
    "            models.ea <- rbind(models.ea,fit)\n",
    "    }\n",
    "}"
   ]
  },
  {
   "cell_type": "code",
   "execution_count": 66,
   "id": "3d109e75-bf26-43f5-8a0d-d6bb2f9cbe6b",
   "metadata": {},
   "outputs": [],
   "source": [
    "models.ea <- models.ea[models.ea[,1] != \"(Intercept)\",]\n",
    "models.all <- models.all[models.all[,1] != \"(Intercept)\",]"
   ]
  },
  {
   "cell_type": "markdown",
   "id": "9f851085-6f8e-4b8e-91fb-5696125a32be",
   "metadata": {},
   "source": [
    "#### Stage 2"
   ]
  },
  {
   "cell_type": "code",
   "execution_count": 67,
   "id": "ad0d6d07-06f6-403d-8496-5dd34d8ba4b1",
   "metadata": {},
   "outputs": [],
   "source": [
    "if(!dir.exists(outd)) dir.create(outd)"
   ]
  },
  {
   "cell_type": "code",
   "execution_count": 68,
   "id": "96693eaa-eb61-415a-b5d8-6034f0a4d150",
   "metadata": {},
   "outputs": [],
   "source": [
    "set.seed(42)\n",
    "# mwas by models of all samples\n",
    "cg2 <- unique(models.all$cg)\n",
    "mwas.all <- matrix(0,nrow=length(cg2),ncol=2)\n",
    "\n",
    "for(i in 1:length(cg2)){\n",
    "    pos <- models.all[models.all$cg == cg2[i],1]\n",
    "    gwas <- snp.gwas2$z[is.element(snp.gwas2$pos_hg38, pos)]\n",
    "    weight <- models.all[models.all$cg == cg2[i],2]\n",
    "    #geno <- snp.1kg.eur2[match(pos,map.1kg.eur2$POS),]\n",
    "\n",
    "    match_indices <- match(pos, map.1kg.eur2$POS)\n",
    "\n",
    "    tryCatch({\n",
    "        geno <- snp.1kg.eur2[match_indices, , drop = FALSE]\n",
    "    }, error = function(e) {\n",
    "        cat(\"Error accessing genotype data at iteration:\", i, \"\\n\")\n",
    "        cat(\"Error message:\", e$message, \"\\n\")\n",
    "        stop(\"Stopping execution due to error.\")\n",
    "    })\n",
    "\n",
    "    tryCatch({\n",
    "        mwas.all[i,] <- MWAS(gwas, weight, t(geno))\n",
    "    }, error = function(e) {\n",
    "        cat(\"Error at iteration:\", i, \"\\n\")\n",
    "        cat(\"cg2[i]:\", cg2[i], \"\\n\")\n",
    "        cat(\"gwas:\\n\")\n",
    "        print(gwas)\n",
    "        cat(\"weight:\\n\")\n",
    "        print(weight)\n",
    "        stop(e)\n",
    "    })\n",
    "}\n",
    "\n",
    "rownames(mwas.all) <- cg2\n",
    "colnames(mwas.all) <- c(\"z\",\"p\")"
   ]
  },
  {
   "cell_type": "code",
   "execution_count": 69,
   "id": "a4314a84-5d2e-4c56-83d4-692912ee5f79",
   "metadata": {},
   "outputs": [
    {
     "data": {
      "text/html": [
       "7"
      ],
      "text/latex": [
       "7"
      ],
      "text/markdown": [
       "7"
      ],
      "text/plain": [
       "[1] 7"
      ]
     },
     "metadata": {},
     "output_type": "display_data"
    }
   ],
   "source": [
    "i"
   ]
  },
  {
   "cell_type": "code",
   "execution_count": 70,
   "id": "170e9bd7-6652-423a-b58b-3dd771d4cc0d",
   "metadata": {},
   "outputs": [
    {
     "data": {
      "text/html": [
       "<style>\n",
       ".list-inline {list-style: none; margin:0; padding: 0}\n",
       ".list-inline>li {display: inline-block}\n",
       ".list-inline>li:not(:last-child)::after {content: \"\\00b7\"; padding: 0 .5ex}\n",
       "</style>\n",
       "<ol class=list-inline><li>'73412206'</li><li>'73414606'</li><li>'73416795'</li><li>'73417197'</li><li>'73419155'</li><li>'73422680'</li><li>'73423542'</li><li>'73423762'</li><li>'73424910'</li><li>'73425398'</li><li>'73426069'</li><li>'73426204'</li><li>'73426737'</li><li>'73426896'</li><li>'73426930'</li><li>'73427141'</li><li>'73428382'</li><li>'73428467'</li><li>'73428699'</li><li>'73428776'</li><li>'73428961'</li></ol>\n"
      ],
      "text/latex": [
       "\\begin{enumerate*}\n",
       "\\item '73412206'\n",
       "\\item '73414606'\n",
       "\\item '73416795'\n",
       "\\item '73417197'\n",
       "\\item '73419155'\n",
       "\\item '73422680'\n",
       "\\item '73423542'\n",
       "\\item '73423762'\n",
       "\\item '73424910'\n",
       "\\item '73425398'\n",
       "\\item '73426069'\n",
       "\\item '73426204'\n",
       "\\item '73426737'\n",
       "\\item '73426896'\n",
       "\\item '73426930'\n",
       "\\item '73427141'\n",
       "\\item '73428382'\n",
       "\\item '73428467'\n",
       "\\item '73428699'\n",
       "\\item '73428776'\n",
       "\\item '73428961'\n",
       "\\end{enumerate*}\n"
      ],
      "text/markdown": [
       "1. '73412206'\n",
       "2. '73414606'\n",
       "3. '73416795'\n",
       "4. '73417197'\n",
       "5. '73419155'\n",
       "6. '73422680'\n",
       "7. '73423542'\n",
       "8. '73423762'\n",
       "9. '73424910'\n",
       "10. '73425398'\n",
       "11. '73426069'\n",
       "12. '73426204'\n",
       "13. '73426737'\n",
       "14. '73426896'\n",
       "15. '73426930'\n",
       "16. '73427141'\n",
       "17. '73428382'\n",
       "18. '73428467'\n",
       "19. '73428699'\n",
       "20. '73428776'\n",
       "21. '73428961'\n",
       "\n",
       "\n"
      ],
      "text/plain": [
       " [1] \"73412206\" \"73414606\" \"73416795\" \"73417197\" \"73419155\" \"73422680\"\n",
       " [7] \"73423542\" \"73423762\" \"73424910\" \"73425398\" \"73426069\" \"73426204\"\n",
       "[13] \"73426737\" \"73426896\" \"73426930\" \"73427141\" \"73428382\" \"73428467\"\n",
       "[19] \"73428699\" \"73428776\" \"73428961\""
      ]
     },
     "metadata": {},
     "output_type": "display_data"
    }
   ],
   "source": [
    "pos"
   ]
  },
  {
   "cell_type": "code",
   "execution_count": 71,
   "id": "b493791d-c9a3-42bb-af38-5fc978f5aa8e",
   "metadata": {},
   "outputs": [
    {
     "data": {
      "text/html": [
       "<style>\n",
       ".list-inline {list-style: none; margin:0; padding: 0}\n",
       ".list-inline>li {display: inline-block}\n",
       ".list-inline>li:not(:last-child)::after {content: \"\\00b7\"; padding: 0 .5ex}\n",
       "</style>\n",
       "<ol class=list-inline><li>1.62935539791823</li><li>1.6373258449575</li><li>8.34081245110997</li><li>6.7364878435345</li><li>8.31863548391091</li><li>1.64457096175456</li><li>1.64457096175456</li><li>1.65181536998274</li><li>6.7364878435345</li><li>1.40368780966495</li><li>1.65905906978062</li><li>7.11611333965217</li><li>7.10517519224251</li><li>7.11611333965217</li><li>7.11611333965217</li><li>7.11611333965217</li><li>7.10517519224251</li><li>7.11611333965217</li><li>1.65905906978062</li><li>7.10517519224251</li><li>1.65905906978062</li></ol>\n"
      ],
      "text/latex": [
       "\\begin{enumerate*}\n",
       "\\item 1.62935539791823\n",
       "\\item 1.6373258449575\n",
       "\\item 8.34081245110997\n",
       "\\item 6.7364878435345\n",
       "\\item 8.31863548391091\n",
       "\\item 1.64457096175456\n",
       "\\item 1.64457096175456\n",
       "\\item 1.65181536998274\n",
       "\\item 6.7364878435345\n",
       "\\item 1.40368780966495\n",
       "\\item 1.65905906978062\n",
       "\\item 7.11611333965217\n",
       "\\item 7.10517519224251\n",
       "\\item 7.11611333965217\n",
       "\\item 7.11611333965217\n",
       "\\item 7.11611333965217\n",
       "\\item 7.10517519224251\n",
       "\\item 7.11611333965217\n",
       "\\item 1.65905906978062\n",
       "\\item 7.10517519224251\n",
       "\\item 1.65905906978062\n",
       "\\end{enumerate*}\n"
      ],
      "text/markdown": [
       "1. 1.62935539791823\n",
       "2. 1.6373258449575\n",
       "3. 8.34081245110997\n",
       "4. 6.7364878435345\n",
       "5. 8.31863548391091\n",
       "6. 1.64457096175456\n",
       "7. 1.64457096175456\n",
       "8. 1.65181536998274\n",
       "9. 6.7364878435345\n",
       "10. 1.40368780966495\n",
       "11. 1.65905906978062\n",
       "12. 7.11611333965217\n",
       "13. 7.10517519224251\n",
       "14. 7.11611333965217\n",
       "15. 7.11611333965217\n",
       "16. 7.11611333965217\n",
       "17. 7.10517519224251\n",
       "18. 7.11611333965217\n",
       "19. 1.65905906978062\n",
       "20. 7.10517519224251\n",
       "21. 1.65905906978062\n",
       "\n",
       "\n"
      ],
      "text/plain": [
       " [1] 1.629355 1.637326 8.340812 6.736488 8.318635 1.644571 1.644571 1.651815\n",
       " [9] 6.736488 1.403688 1.659059 7.116113 7.105175 7.116113 7.116113 7.116113\n",
       "[17] 7.105175 7.116113 1.659059 7.105175 1.659059"
      ]
     },
     "metadata": {},
     "output_type": "display_data"
    }
   ],
   "source": [
    "gwas"
   ]
  },
  {
   "cell_type": "code",
   "execution_count": 72,
   "id": "ede13b23-ec79-4861-a0f4-4f2bd2bb07f0",
   "metadata": {},
   "outputs": [
    {
     "data": {
      "text/html": [
       "21"
      ],
      "text/latex": [
       "21"
      ],
      "text/markdown": [
       "21"
      ],
      "text/plain": [
       "[1] 21"
      ]
     },
     "metadata": {},
     "output_type": "display_data"
    }
   ],
   "source": [
    "length(pos)"
   ]
  },
  {
   "cell_type": "code",
   "execution_count": 73,
   "id": "5cd8089c-2616-4eda-8b67-d102a50cfd79",
   "metadata": {},
   "outputs": [
    {
     "data": {
      "text/html": [
       "21"
      ],
      "text/latex": [
       "21"
      ],
      "text/markdown": [
       "21"
      ],
      "text/plain": [
       "[1] 21"
      ]
     },
     "metadata": {},
     "output_type": "display_data"
    }
   ],
   "source": [
    "length(gwas)"
   ]
  },
  {
   "cell_type": "code",
   "execution_count": 74,
   "id": "8e13c25a-1b93-4186-b614-ea68f07dba7d",
   "metadata": {},
   "outputs": [
    {
     "data": {
      "text/html": [
       "<table class=\"dataframe\">\n",
       "<caption>A data.frame: 21 × 3</caption>\n",
       "<thead>\n",
       "\t<tr><th></th><th scope=col>features</th><th scope=col>coefs</th><th scope=col>cg</th></tr>\n",
       "\t<tr><th></th><th scope=col>&lt;chr&gt;</th><th scope=col>&lt;dbl&gt;</th><th scope=col>&lt;dbl&gt;</th></tr>\n",
       "</thead>\n",
       "<tbody>\n",
       "\t<tr><th scope=row>92</th><td>73412206</td><td>-0.002580545</td><td>73420076</td></tr>\n",
       "\t<tr><th scope=row>93</th><td>73414606</td><td>-0.002441482</td><td>73420076</td></tr>\n",
       "\t<tr><th scope=row>94</th><td>73416795</td><td>-0.003154431</td><td>73420076</td></tr>\n",
       "\t<tr><th scope=row>95</th><td>73417197</td><td>-0.001068469</td><td>73420076</td></tr>\n",
       "\t<tr><th scope=row>96</th><td>73419155</td><td>-0.003119043</td><td>73420076</td></tr>\n",
       "\t<tr><th scope=row>97</th><td>73422680</td><td>-0.002315353</td><td>73420076</td></tr>\n",
       "\t<tr><th scope=row>98</th><td>73423542</td><td>-0.002444605</td><td>73420076</td></tr>\n",
       "\t<tr><th scope=row>99</th><td>73423762</td><td>-0.002658546</td><td>73420076</td></tr>\n",
       "\t<tr><th scope=row>100</th><td>73424910</td><td>-0.002202422</td><td>73420076</td></tr>\n",
       "\t<tr><th scope=row>101</th><td>73425398</td><td>-0.001215870</td><td>73420076</td></tr>\n",
       "\t<tr><th scope=row>102</th><td>73426069</td><td>-0.002799286</td><td>73420076</td></tr>\n",
       "\t<tr><th scope=row>103</th><td>73426204</td><td>-0.002118333</td><td>73420076</td></tr>\n",
       "\t<tr><th scope=row>104</th><td>73426737</td><td>-0.002157530</td><td>73420076</td></tr>\n",
       "\t<tr><th scope=row>105</th><td>73426896</td><td>-0.002080705</td><td>73420076</td></tr>\n",
       "\t<tr><th scope=row>106</th><td>73426930</td><td>-0.001966957</td><td>73420076</td></tr>\n",
       "\t<tr><th scope=row>107</th><td>73427141</td><td>-0.001914716</td><td>73420076</td></tr>\n",
       "\t<tr><th scope=row>108</th><td>73428382</td><td>-0.001982475</td><td>73420076</td></tr>\n",
       "\t<tr><th scope=row>109</th><td>73428467</td><td>-0.001952044</td><td>73420076</td></tr>\n",
       "\t<tr><th scope=row>110</th><td>73428699</td><td>-0.002535315</td><td>73420076</td></tr>\n",
       "\t<tr><th scope=row>111</th><td>73428776</td><td>-0.001973801</td><td>73420076</td></tr>\n",
       "\t<tr><th scope=row>112</th><td>73428961</td><td>-0.002342355</td><td>73420076</td></tr>\n",
       "</tbody>\n",
       "</table>\n"
      ],
      "text/latex": [
       "A data.frame: 21 × 3\n",
       "\\begin{tabular}{r|lll}\n",
       "  & features & coefs & cg\\\\\n",
       "  & <chr> & <dbl> & <dbl>\\\\\n",
       "\\hline\n",
       "\t92 & 73412206 & -0.002580545 & 73420076\\\\\n",
       "\t93 & 73414606 & -0.002441482 & 73420076\\\\\n",
       "\t94 & 73416795 & -0.003154431 & 73420076\\\\\n",
       "\t95 & 73417197 & -0.001068469 & 73420076\\\\\n",
       "\t96 & 73419155 & -0.003119043 & 73420076\\\\\n",
       "\t97 & 73422680 & -0.002315353 & 73420076\\\\\n",
       "\t98 & 73423542 & -0.002444605 & 73420076\\\\\n",
       "\t99 & 73423762 & -0.002658546 & 73420076\\\\\n",
       "\t100 & 73424910 & -0.002202422 & 73420076\\\\\n",
       "\t101 & 73425398 & -0.001215870 & 73420076\\\\\n",
       "\t102 & 73426069 & -0.002799286 & 73420076\\\\\n",
       "\t103 & 73426204 & -0.002118333 & 73420076\\\\\n",
       "\t104 & 73426737 & -0.002157530 & 73420076\\\\\n",
       "\t105 & 73426896 & -0.002080705 & 73420076\\\\\n",
       "\t106 & 73426930 & -0.001966957 & 73420076\\\\\n",
       "\t107 & 73427141 & -0.001914716 & 73420076\\\\\n",
       "\t108 & 73428382 & -0.001982475 & 73420076\\\\\n",
       "\t109 & 73428467 & -0.001952044 & 73420076\\\\\n",
       "\t110 & 73428699 & -0.002535315 & 73420076\\\\\n",
       "\t111 & 73428776 & -0.001973801 & 73420076\\\\\n",
       "\t112 & 73428961 & -0.002342355 & 73420076\\\\\n",
       "\\end{tabular}\n"
      ],
      "text/markdown": [
       "\n",
       "A data.frame: 21 × 3\n",
       "\n",
       "| <!--/--> | features &lt;chr&gt; | coefs &lt;dbl&gt; | cg &lt;dbl&gt; |\n",
       "|---|---|---|---|\n",
       "| 92 | 73412206 | -0.002580545 | 73420076 |\n",
       "| 93 | 73414606 | -0.002441482 | 73420076 |\n",
       "| 94 | 73416795 | -0.003154431 | 73420076 |\n",
       "| 95 | 73417197 | -0.001068469 | 73420076 |\n",
       "| 96 | 73419155 | -0.003119043 | 73420076 |\n",
       "| 97 | 73422680 | -0.002315353 | 73420076 |\n",
       "| 98 | 73423542 | -0.002444605 | 73420076 |\n",
       "| 99 | 73423762 | -0.002658546 | 73420076 |\n",
       "| 100 | 73424910 | -0.002202422 | 73420076 |\n",
       "| 101 | 73425398 | -0.001215870 | 73420076 |\n",
       "| 102 | 73426069 | -0.002799286 | 73420076 |\n",
       "| 103 | 73426204 | -0.002118333 | 73420076 |\n",
       "| 104 | 73426737 | -0.002157530 | 73420076 |\n",
       "| 105 | 73426896 | -0.002080705 | 73420076 |\n",
       "| 106 | 73426930 | -0.001966957 | 73420076 |\n",
       "| 107 | 73427141 | -0.001914716 | 73420076 |\n",
       "| 108 | 73428382 | -0.001982475 | 73420076 |\n",
       "| 109 | 73428467 | -0.001952044 | 73420076 |\n",
       "| 110 | 73428699 | -0.002535315 | 73420076 |\n",
       "| 111 | 73428776 | -0.001973801 | 73420076 |\n",
       "| 112 | 73428961 | -0.002342355 | 73420076 |\n",
       "\n"
      ],
      "text/plain": [
       "    features coefs        cg      \n",
       "92  73412206 -0.002580545 73420076\n",
       "93  73414606 -0.002441482 73420076\n",
       "94  73416795 -0.003154431 73420076\n",
       "95  73417197 -0.001068469 73420076\n",
       "96  73419155 -0.003119043 73420076\n",
       "97  73422680 -0.002315353 73420076\n",
       "98  73423542 -0.002444605 73420076\n",
       "99  73423762 -0.002658546 73420076\n",
       "100 73424910 -0.002202422 73420076\n",
       "101 73425398 -0.001215870 73420076\n",
       "102 73426069 -0.002799286 73420076\n",
       "103 73426204 -0.002118333 73420076\n",
       "104 73426737 -0.002157530 73420076\n",
       "105 73426896 -0.002080705 73420076\n",
       "106 73426930 -0.001966957 73420076\n",
       "107 73427141 -0.001914716 73420076\n",
       "108 73428382 -0.001982475 73420076\n",
       "109 73428467 -0.001952044 73420076\n",
       "110 73428699 -0.002535315 73420076\n",
       "111 73428776 -0.001973801 73420076\n",
       "112 73428961 -0.002342355 73420076"
      ]
     },
     "metadata": {},
     "output_type": "display_data"
    }
   ],
   "source": [
    "models.all[models.all$cg == cg2[i], ]"
   ]
  },
  {
   "cell_type": "code",
   "execution_count": 75,
   "id": "0f3ea4dd-de72-40df-91d6-4deee103e85c",
   "metadata": {},
   "outputs": [
    {
     "data": {
      "text/html": [
       "<table class=\"dataframe\">\n",
       "<caption>A data.table: 21 × 9</caption>\n",
       "<thead>\n",
       "\t<tr><th scope=col>snp</th><th scope=col>chr</th><th scope=col>pos_hg38</th><th scope=col>pos_hg38</th><th scope=col>info</th><th scope=col>A1</th><th scope=col>A2</th><th scope=col>z</th><th scope=col>P</th></tr>\n",
       "\t<tr><th scope=col>&lt;chr&gt;</th><th scope=col>&lt;int&gt;</th><th scope=col>&lt;int&gt;</th><th scope=col>&lt;int&gt;</th><th scope=col>&lt;dbl&gt;</th><th scope=col>&lt;chr&gt;</th><th scope=col>&lt;chr&gt;</th><th scope=col>&lt;dbl&gt;</th><th scope=col>&lt;dbl&gt;</th></tr>\n",
       "</thead>\n",
       "<tbody>\n",
       "\t<tr><td>rs74091844 </td><td>1</td><td>73412206</td><td>73412206</td><td>1.000</td><td>C</td><td>T</td><td>1.629355</td><td>1.021e-01</td></tr>\n",
       "\t<tr><td>rs12136189 </td><td>1</td><td>73414606</td><td>73414606</td><td>1.000</td><td>G</td><td>C</td><td>1.637326</td><td>1.012e-01</td></tr>\n",
       "\t<tr><td>rs1475064  </td><td>1</td><td>73416795</td><td>73416795</td><td>0.999</td><td>A</td><td>G</td><td>8.340812</td><td>5.322e-17</td></tr>\n",
       "\t<tr><td>rs1475065  </td><td>1</td><td>73417197</td><td>73417197</td><td>0.997</td><td>A</td><td>G</td><td>6.736488</td><td>1.580e-11</td></tr>\n",
       "\t<tr><td>rs12731986 </td><td>1</td><td>73419155</td><td>73419155</td><td>0.998</td><td>C</td><td>T</td><td>8.318635</td><td>6.251e-17</td></tr>\n",
       "\t<tr><td>rs12116741 </td><td>1</td><td>73422680</td><td>73422680</td><td>1.000</td><td>A</td><td>G</td><td>1.644571</td><td>9.947e-02</td></tr>\n",
       "\t<tr><td>rs13376104 </td><td>1</td><td>73423542</td><td>73423542</td><td>1.000</td><td>G</td><td>A</td><td>1.644571</td><td>9.981e-02</td></tr>\n",
       "\t<tr><td>rs12144054 </td><td>1</td><td>73423762</td><td>73423762</td><td>1.000</td><td>T</td><td>C</td><td>1.651815</td><td>9.838e-02</td></tr>\n",
       "\t<tr><td>rs11210238 </td><td>1</td><td>73424910</td><td>73424910</td><td>0.997</td><td>G</td><td>A</td><td>6.736488</td><td>1.546e-11</td></tr>\n",
       "\t<tr><td>rs6678194  </td><td>1</td><td>73425398</td><td>73425398</td><td>0.955</td><td>G</td><td>T</td><td>1.403688</td><td>1.618e-01</td></tr>\n",
       "\t<tr><td>rs112028101</td><td>1</td><td>73426069</td><td>73426069</td><td>1.000</td><td>G</td><td>A</td><td>1.659059</td><td>9.748e-02</td></tr>\n",
       "\t<tr><td>rs4998957  </td><td>1</td><td>73426204</td><td>73426204</td><td>0.997</td><td>G</td><td>A</td><td>7.116113</td><td>1.258e-12</td></tr>\n",
       "\t<tr><td>rs4636406  </td><td>1</td><td>73426737</td><td>73426737</td><td>0.997</td><td>G</td><td>T</td><td>7.105175</td><td>1.349e-12</td></tr>\n",
       "\t<tr><td>rs1538375  </td><td>1</td><td>73426896</td><td>73426896</td><td>0.997</td><td>A</td><td>G</td><td>7.116113</td><td>1.263e-12</td></tr>\n",
       "\t<tr><td>rs1538376  </td><td>1</td><td>73426930</td><td>73426930</td><td>0.997</td><td>A</td><td>C</td><td>7.116113</td><td>1.266e-12</td></tr>\n",
       "\t<tr><td>rs1416266  </td><td>1</td><td>73427141</td><td>73427141</td><td>0.997</td><td>C</td><td>A</td><td>7.116113</td><td>1.268e-12</td></tr>\n",
       "\t<tr><td>rs12569115 </td><td>1</td><td>73428382</td><td>73428382</td><td>0.997</td><td>G</td><td>A</td><td>7.105175</td><td>1.281e-12</td></tr>\n",
       "\t<tr><td>rs12562533 </td><td>1</td><td>73428467</td><td>73428467</td><td>0.997</td><td>T</td><td>C</td><td>7.116113</td><td>1.250e-12</td></tr>\n",
       "\t<tr><td>rs12119572 </td><td>1</td><td>73428699</td><td>73428699</td><td>1.000</td><td>T</td><td>G</td><td>1.659059</td><td>9.639e-02</td></tr>\n",
       "\t<tr><td>rs12565386 </td><td>1</td><td>73428776</td><td>73428776</td><td>0.997</td><td>C</td><td>T</td><td>7.105175</td><td>1.367e-12</td></tr>\n",
       "\t<tr><td>rs12130644 </td><td>1</td><td>73428961</td><td>73428961</td><td>1.000</td><td>C</td><td>T</td><td>1.659059</td><td>9.754e-02</td></tr>\n",
       "</tbody>\n",
       "</table>\n"
      ],
      "text/latex": [
       "A data.table: 21 × 9\n",
       "\\begin{tabular}{lllllllll}\n",
       " snp & chr & pos\\_hg38 & pos\\_hg38 & info & A1 & A2 & z & P\\\\\n",
       " <chr> & <int> & <int> & <int> & <dbl> & <chr> & <chr> & <dbl> & <dbl>\\\\\n",
       "\\hline\n",
       "\t rs74091844  & 1 & 73412206 & 73412206 & 1.000 & C & T & 1.629355 & 1.021e-01\\\\\n",
       "\t rs12136189  & 1 & 73414606 & 73414606 & 1.000 & G & C & 1.637326 & 1.012e-01\\\\\n",
       "\t rs1475064   & 1 & 73416795 & 73416795 & 0.999 & A & G & 8.340812 & 5.322e-17\\\\\n",
       "\t rs1475065   & 1 & 73417197 & 73417197 & 0.997 & A & G & 6.736488 & 1.580e-11\\\\\n",
       "\t rs12731986  & 1 & 73419155 & 73419155 & 0.998 & C & T & 8.318635 & 6.251e-17\\\\\n",
       "\t rs12116741  & 1 & 73422680 & 73422680 & 1.000 & A & G & 1.644571 & 9.947e-02\\\\\n",
       "\t rs13376104  & 1 & 73423542 & 73423542 & 1.000 & G & A & 1.644571 & 9.981e-02\\\\\n",
       "\t rs12144054  & 1 & 73423762 & 73423762 & 1.000 & T & C & 1.651815 & 9.838e-02\\\\\n",
       "\t rs11210238  & 1 & 73424910 & 73424910 & 0.997 & G & A & 6.736488 & 1.546e-11\\\\\n",
       "\t rs6678194   & 1 & 73425398 & 73425398 & 0.955 & G & T & 1.403688 & 1.618e-01\\\\\n",
       "\t rs112028101 & 1 & 73426069 & 73426069 & 1.000 & G & A & 1.659059 & 9.748e-02\\\\\n",
       "\t rs4998957   & 1 & 73426204 & 73426204 & 0.997 & G & A & 7.116113 & 1.258e-12\\\\\n",
       "\t rs4636406   & 1 & 73426737 & 73426737 & 0.997 & G & T & 7.105175 & 1.349e-12\\\\\n",
       "\t rs1538375   & 1 & 73426896 & 73426896 & 0.997 & A & G & 7.116113 & 1.263e-12\\\\\n",
       "\t rs1538376   & 1 & 73426930 & 73426930 & 0.997 & A & C & 7.116113 & 1.266e-12\\\\\n",
       "\t rs1416266   & 1 & 73427141 & 73427141 & 0.997 & C & A & 7.116113 & 1.268e-12\\\\\n",
       "\t rs12569115  & 1 & 73428382 & 73428382 & 0.997 & G & A & 7.105175 & 1.281e-12\\\\\n",
       "\t rs12562533  & 1 & 73428467 & 73428467 & 0.997 & T & C & 7.116113 & 1.250e-12\\\\\n",
       "\t rs12119572  & 1 & 73428699 & 73428699 & 1.000 & T & G & 1.659059 & 9.639e-02\\\\\n",
       "\t rs12565386  & 1 & 73428776 & 73428776 & 0.997 & C & T & 7.105175 & 1.367e-12\\\\\n",
       "\t rs12130644  & 1 & 73428961 & 73428961 & 1.000 & C & T & 1.659059 & 9.754e-02\\\\\n",
       "\\end{tabular}\n"
      ],
      "text/markdown": [
       "\n",
       "A data.table: 21 × 9\n",
       "\n",
       "| snp &lt;chr&gt; | chr &lt;int&gt; | pos_hg38 &lt;int&gt; | pos_hg38 &lt;int&gt; | info &lt;dbl&gt; | A1 &lt;chr&gt; | A2 &lt;chr&gt; | z &lt;dbl&gt; | P &lt;dbl&gt; |\n",
       "|---|---|---|---|---|---|---|---|---|\n",
       "| rs74091844  | 1 | 73412206 | 73412206 | 1.000 | C | T | 1.629355 | 1.021e-01 |\n",
       "| rs12136189  | 1 | 73414606 | 73414606 | 1.000 | G | C | 1.637326 | 1.012e-01 |\n",
       "| rs1475064   | 1 | 73416795 | 73416795 | 0.999 | A | G | 8.340812 | 5.322e-17 |\n",
       "| rs1475065   | 1 | 73417197 | 73417197 | 0.997 | A | G | 6.736488 | 1.580e-11 |\n",
       "| rs12731986  | 1 | 73419155 | 73419155 | 0.998 | C | T | 8.318635 | 6.251e-17 |\n",
       "| rs12116741  | 1 | 73422680 | 73422680 | 1.000 | A | G | 1.644571 | 9.947e-02 |\n",
       "| rs13376104  | 1 | 73423542 | 73423542 | 1.000 | G | A | 1.644571 | 9.981e-02 |\n",
       "| rs12144054  | 1 | 73423762 | 73423762 | 1.000 | T | C | 1.651815 | 9.838e-02 |\n",
       "| rs11210238  | 1 | 73424910 | 73424910 | 0.997 | G | A | 6.736488 | 1.546e-11 |\n",
       "| rs6678194   | 1 | 73425398 | 73425398 | 0.955 | G | T | 1.403688 | 1.618e-01 |\n",
       "| rs112028101 | 1 | 73426069 | 73426069 | 1.000 | G | A | 1.659059 | 9.748e-02 |\n",
       "| rs4998957   | 1 | 73426204 | 73426204 | 0.997 | G | A | 7.116113 | 1.258e-12 |\n",
       "| rs4636406   | 1 | 73426737 | 73426737 | 0.997 | G | T | 7.105175 | 1.349e-12 |\n",
       "| rs1538375   | 1 | 73426896 | 73426896 | 0.997 | A | G | 7.116113 | 1.263e-12 |\n",
       "| rs1538376   | 1 | 73426930 | 73426930 | 0.997 | A | C | 7.116113 | 1.266e-12 |\n",
       "| rs1416266   | 1 | 73427141 | 73427141 | 0.997 | C | A | 7.116113 | 1.268e-12 |\n",
       "| rs12569115  | 1 | 73428382 | 73428382 | 0.997 | G | A | 7.105175 | 1.281e-12 |\n",
       "| rs12562533  | 1 | 73428467 | 73428467 | 0.997 | T | C | 7.116113 | 1.250e-12 |\n",
       "| rs12119572  | 1 | 73428699 | 73428699 | 1.000 | T | G | 1.659059 | 9.639e-02 |\n",
       "| rs12565386  | 1 | 73428776 | 73428776 | 0.997 | C | T | 7.105175 | 1.367e-12 |\n",
       "| rs12130644  | 1 | 73428961 | 73428961 | 1.000 | C | T | 1.659059 | 9.754e-02 |\n",
       "\n"
      ],
      "text/plain": [
       "   snp         chr pos_hg38 pos_hg38 info  A1 A2 z        P        \n",
       "1  rs74091844  1   73412206 73412206 1.000 C  T  1.629355 1.021e-01\n",
       "2  rs12136189  1   73414606 73414606 1.000 G  C  1.637326 1.012e-01\n",
       "3  rs1475064   1   73416795 73416795 0.999 A  G  8.340812 5.322e-17\n",
       "4  rs1475065   1   73417197 73417197 0.997 A  G  6.736488 1.580e-11\n",
       "5  rs12731986  1   73419155 73419155 0.998 C  T  8.318635 6.251e-17\n",
       "6  rs12116741  1   73422680 73422680 1.000 A  G  1.644571 9.947e-02\n",
       "7  rs13376104  1   73423542 73423542 1.000 G  A  1.644571 9.981e-02\n",
       "8  rs12144054  1   73423762 73423762 1.000 T  C  1.651815 9.838e-02\n",
       "9  rs11210238  1   73424910 73424910 0.997 G  A  6.736488 1.546e-11\n",
       "10 rs6678194   1   73425398 73425398 0.955 G  T  1.403688 1.618e-01\n",
       "11 rs112028101 1   73426069 73426069 1.000 G  A  1.659059 9.748e-02\n",
       "12 rs4998957   1   73426204 73426204 0.997 G  A  7.116113 1.258e-12\n",
       "13 rs4636406   1   73426737 73426737 0.997 G  T  7.105175 1.349e-12\n",
       "14 rs1538375   1   73426896 73426896 0.997 A  G  7.116113 1.263e-12\n",
       "15 rs1538376   1   73426930 73426930 0.997 A  C  7.116113 1.266e-12\n",
       "16 rs1416266   1   73427141 73427141 0.997 C  A  7.116113 1.268e-12\n",
       "17 rs12569115  1   73428382 73428382 0.997 G  A  7.105175 1.281e-12\n",
       "18 rs12562533  1   73428467 73428467 0.997 T  C  7.116113 1.250e-12\n",
       "19 rs12119572  1   73428699 73428699 1.000 T  G  1.659059 9.639e-02\n",
       "20 rs12565386  1   73428776 73428776 0.997 C  T  7.105175 1.367e-12\n",
       "21 rs12130644  1   73428961 73428961 1.000 C  T  1.659059 9.754e-02"
      ]
     },
     "metadata": {},
     "output_type": "display_data"
    }
   ],
   "source": [
    "snp.gwas2[is.element(snp.gwas2$pos_hg38, pos), ]"
   ]
  },
  {
   "cell_type": "code",
   "execution_count": null,
   "id": "6c26320f-8327-4798-a4a8-688da8a232cd",
   "metadata": {},
   "outputs": [],
   "source": []
  },
  {
   "cell_type": "code",
   "execution_count": null,
   "id": "a3409bbc-aad9-4e4e-a96e-8a2708013cea",
   "metadata": {},
   "outputs": [],
   "source": []
  },
  {
   "cell_type": "code",
   "execution_count": 76,
   "id": "0c31ad3e-4c74-4b93-bed1-c628df41a756",
   "metadata": {},
   "outputs": [],
   "source": [
    "# Why do we get non-conformable arguments for iteration 57?"
   ]
  },
  {
   "cell_type": "code",
   "execution_count": null,
   "id": "af58f5cb-4dac-40e0-976c-8fef56a53ad9",
   "metadata": {},
   "outputs": [],
   "source": []
  },
  {
   "cell_type": "code",
   "execution_count": null,
   "id": "c4a157bc-a24d-4bf8-bb5c-e5359747c5df",
   "metadata": {},
   "outputs": [],
   "source": []
  },
  {
   "cell_type": "code",
   "execution_count": null,
   "id": "900dd643-8906-41aa-9658-7fbfd394ee3d",
   "metadata": {},
   "outputs": [],
   "source": []
  },
  {
   "cell_type": "code",
   "execution_count": 77,
   "id": "dccc0ad7-c8ec-47b9-8fd1-204576e6482e",
   "metadata": {},
   "outputs": [
    {
     "data": {
      "text/html": [
       "<style>\n",
       ".list-inline {list-style: none; margin:0; padding: 0}\n",
       ".list-inline>li {display: inline-block}\n",
       ".list-inline>li:not(:last-child)::after {content: \"\\00b7\"; padding: 0 .5ex}\n",
       "</style>\n",
       "<ol class=list-inline><li>-0.00258054474534625</li><li>-0.00244148158740688</li><li>-0.00315443077987044</li><li>-0.00106846899787591</li><li>-0.00311904301405189</li><li>-0.00231535308758633</li><li>-0.00244460460821955</li><li>-0.00265854586411912</li><li>-0.00220242170753845</li><li>-0.00121587014762618</li><li>-0.0027992864594687</li><li>-0.00211833294538775</li><li>-0.00215753019910244</li><li>-0.0020807046116649</li><li>-0.00196695717730558</li><li>-0.00191471615018997</li><li>-0.00198247549958509</li><li>-0.00195204423037745</li><li>-0.00253531490068714</li><li>-0.00197380056408349</li><li>-0.00234235465674702</li></ol>\n"
      ],
      "text/latex": [
       "\\begin{enumerate*}\n",
       "\\item -0.00258054474534625\n",
       "\\item -0.00244148158740688\n",
       "\\item -0.00315443077987044\n",
       "\\item -0.00106846899787591\n",
       "\\item -0.00311904301405189\n",
       "\\item -0.00231535308758633\n",
       "\\item -0.00244460460821955\n",
       "\\item -0.00265854586411912\n",
       "\\item -0.00220242170753845\n",
       "\\item -0.00121587014762618\n",
       "\\item -0.0027992864594687\n",
       "\\item -0.00211833294538775\n",
       "\\item -0.00215753019910244\n",
       "\\item -0.0020807046116649\n",
       "\\item -0.00196695717730558\n",
       "\\item -0.00191471615018997\n",
       "\\item -0.00198247549958509\n",
       "\\item -0.00195204423037745\n",
       "\\item -0.00253531490068714\n",
       "\\item -0.00197380056408349\n",
       "\\item -0.00234235465674702\n",
       "\\end{enumerate*}\n"
      ],
      "text/markdown": [
       "1. -0.00258054474534625\n",
       "2. -0.00244148158740688\n",
       "3. -0.00315443077987044\n",
       "4. -0.00106846899787591\n",
       "5. -0.00311904301405189\n",
       "6. -0.00231535308758633\n",
       "7. -0.00244460460821955\n",
       "8. -0.00265854586411912\n",
       "9. -0.00220242170753845\n",
       "10. -0.00121587014762618\n",
       "11. -0.0027992864594687\n",
       "12. -0.00211833294538775\n",
       "13. -0.00215753019910244\n",
       "14. -0.0020807046116649\n",
       "15. -0.00196695717730558\n",
       "16. -0.00191471615018997\n",
       "17. -0.00198247549958509\n",
       "18. -0.00195204423037745\n",
       "19. -0.00253531490068714\n",
       "20. -0.00197380056408349\n",
       "21. -0.00234235465674702\n",
       "\n",
       "\n"
      ],
      "text/plain": [
       " [1] -0.002580545 -0.002441482 -0.003154431 -0.001068469 -0.003119043\n",
       " [6] -0.002315353 -0.002444605 -0.002658546 -0.002202422 -0.001215870\n",
       "[11] -0.002799286 -0.002118333 -0.002157530 -0.002080705 -0.001966957\n",
       "[16] -0.001914716 -0.001982475 -0.001952044 -0.002535315 -0.001973801\n",
       "[21] -0.002342355"
      ]
     },
     "metadata": {},
     "output_type": "display_data"
    }
   ],
   "source": [
    "weight"
   ]
  },
  {
   "cell_type": "code",
   "execution_count": 78,
   "id": "55bb7b60-c52c-4462-9a53-8d103db474a7",
   "metadata": {},
   "outputs": [
    {
     "data": {
      "text/html": [
       "21"
      ],
      "text/latex": [
       "21"
      ],
      "text/markdown": [
       "21"
      ],
      "text/plain": [
       "[1] 21"
      ]
     },
     "metadata": {},
     "output_type": "display_data"
    }
   ],
   "source": [
    "length(weight)"
   ]
  },
  {
   "cell_type": "code",
   "execution_count": 79,
   "id": "6804d2d5-c798-48ba-bdef-e073d0e61788",
   "metadata": {},
   "outputs": [
    {
     "data": {
      "text/html": [
       "<style>\n",
       ".list-inline {list-style: none; margin:0; padding: 0}\n",
       ".list-inline>li {display: inline-block}\n",
       ".list-inline>li:not(:last-child)::after {content: \"\\00b7\"; padding: 0 .5ex}\n",
       "</style>\n",
       "<ol class=list-inline><li>1.62935539791823</li><li>1.6373258449575</li><li>8.34081245110997</li><li>6.7364878435345</li><li>8.31863548391091</li><li>1.64457096175456</li><li>1.64457096175456</li><li>1.65181536998274</li><li>6.7364878435345</li><li>1.40368780966495</li><li>1.65905906978062</li><li>7.11611333965217</li><li>7.10517519224251</li><li>7.11611333965217</li><li>7.11611333965217</li><li>7.11611333965217</li><li>7.10517519224251</li><li>7.11611333965217</li><li>1.65905906978062</li><li>7.10517519224251</li><li>1.65905906978062</li></ol>\n"
      ],
      "text/latex": [
       "\\begin{enumerate*}\n",
       "\\item 1.62935539791823\n",
       "\\item 1.6373258449575\n",
       "\\item 8.34081245110997\n",
       "\\item 6.7364878435345\n",
       "\\item 8.31863548391091\n",
       "\\item 1.64457096175456\n",
       "\\item 1.64457096175456\n",
       "\\item 1.65181536998274\n",
       "\\item 6.7364878435345\n",
       "\\item 1.40368780966495\n",
       "\\item 1.65905906978062\n",
       "\\item 7.11611333965217\n",
       "\\item 7.10517519224251\n",
       "\\item 7.11611333965217\n",
       "\\item 7.11611333965217\n",
       "\\item 7.11611333965217\n",
       "\\item 7.10517519224251\n",
       "\\item 7.11611333965217\n",
       "\\item 1.65905906978062\n",
       "\\item 7.10517519224251\n",
       "\\item 1.65905906978062\n",
       "\\end{enumerate*}\n"
      ],
      "text/markdown": [
       "1. 1.62935539791823\n",
       "2. 1.6373258449575\n",
       "3. 8.34081245110997\n",
       "4. 6.7364878435345\n",
       "5. 8.31863548391091\n",
       "6. 1.64457096175456\n",
       "7. 1.64457096175456\n",
       "8. 1.65181536998274\n",
       "9. 6.7364878435345\n",
       "10. 1.40368780966495\n",
       "11. 1.65905906978062\n",
       "12. 7.11611333965217\n",
       "13. 7.10517519224251\n",
       "14. 7.11611333965217\n",
       "15. 7.11611333965217\n",
       "16. 7.11611333965217\n",
       "17. 7.10517519224251\n",
       "18. 7.11611333965217\n",
       "19. 1.65905906978062\n",
       "20. 7.10517519224251\n",
       "21. 1.65905906978062\n",
       "\n",
       "\n"
      ],
      "text/plain": [
       " [1] 1.629355 1.637326 8.340812 6.736488 8.318635 1.644571 1.644571 1.651815\n",
       " [9] 6.736488 1.403688 1.659059 7.116113 7.105175 7.116113 7.116113 7.116113\n",
       "[17] 7.105175 7.116113 1.659059 7.105175 1.659059"
      ]
     },
     "metadata": {},
     "output_type": "display_data"
    }
   ],
   "source": [
    "gwas"
   ]
  },
  {
   "cell_type": "code",
   "execution_count": 80,
   "id": "f1f81f5a-dd46-4180-86fc-2dcd9ae390c5",
   "metadata": {},
   "outputs": [
    {
     "data": {
      "text/html": [
       "21"
      ],
      "text/latex": [
       "21"
      ],
      "text/markdown": [
       "21"
      ],
      "text/plain": [
       "[1] 21"
      ]
     },
     "metadata": {},
     "output_type": "display_data"
    }
   ],
   "source": [
    "length(gwas)"
   ]
  },
  {
   "cell_type": "code",
   "execution_count": 81,
   "id": "b78985e2-cb5d-4c1d-adf4-d22a1f5dae0b",
   "metadata": {},
   "outputs": [
    {
     "data": {
      "text/html": [
       "<style>\n",
       ".list-inline {list-style: none; margin:0; padding: 0}\n",
       ".list-inline>li {display: inline-block}\n",
       ".list-inline>li:not(:last-child)::after {content: \"\\00b7\"; padding: 0 .5ex}\n",
       "</style>\n",
       "<ol class=list-inline><li>1.62935539791823</li><li>1.6373258449575</li><li>8.34081245110997</li><li>6.7364878435345</li><li>8.31863548391091</li><li>1.64457096175456</li></ol>\n"
      ],
      "text/latex": [
       "\\begin{enumerate*}\n",
       "\\item 1.62935539791823\n",
       "\\item 1.6373258449575\n",
       "\\item 8.34081245110997\n",
       "\\item 6.7364878435345\n",
       "\\item 8.31863548391091\n",
       "\\item 1.64457096175456\n",
       "\\end{enumerate*}\n"
      ],
      "text/markdown": [
       "1. 1.62935539791823\n",
       "2. 1.6373258449575\n",
       "3. 8.34081245110997\n",
       "4. 6.7364878435345\n",
       "5. 8.31863548391091\n",
       "6. 1.64457096175456\n",
       "\n",
       "\n"
      ],
      "text/plain": [
       "[1] 1.629355 1.637326 8.340812 6.736488 8.318635 1.644571"
      ]
     },
     "metadata": {},
     "output_type": "display_data"
    }
   ],
   "source": [
    "head(gwas)"
   ]
  },
  {
   "cell_type": "code",
   "execution_count": 82,
   "id": "a7639e85-621f-44e4-bae1-93f2f9e800f2",
   "metadata": {},
   "outputs": [
    {
     "data": {
      "text/html": [
       "<table class=\"dataframe\">\n",
       "<caption>A data.frame: 6 × 1</caption>\n",
       "<thead>\n",
       "\t<tr><th></th><th scope=col>POS</th></tr>\n",
       "\t<tr><th></th><th scope=col>&lt;chr&gt;</th></tr>\n",
       "</thead>\n",
       "<tbody>\n",
       "\t<tr><th scope=row>1</th><td>73174446</td></tr>\n",
       "\t<tr><th scope=row>2</th><td>73174844</td></tr>\n",
       "\t<tr><th scope=row>3</th><td>73174997</td></tr>\n",
       "\t<tr><th scope=row>4</th><td>73175231</td></tr>\n",
       "\t<tr><th scope=row>5</th><td>73175257</td></tr>\n",
       "\t<tr><th scope=row>6</th><td>73175318</td></tr>\n",
       "</tbody>\n",
       "</table>\n"
      ],
      "text/latex": [
       "A data.frame: 6 × 1\n",
       "\\begin{tabular}{r|l}\n",
       "  & POS\\\\\n",
       "  & <chr>\\\\\n",
       "\\hline\n",
       "\t1 & 73174446\\\\\n",
       "\t2 & 73174844\\\\\n",
       "\t3 & 73174997\\\\\n",
       "\t4 & 73175231\\\\\n",
       "\t5 & 73175257\\\\\n",
       "\t6 & 73175318\\\\\n",
       "\\end{tabular}\n"
      ],
      "text/markdown": [
       "\n",
       "A data.frame: 6 × 1\n",
       "\n",
       "| <!--/--> | POS &lt;chr&gt; |\n",
       "|---|---|\n",
       "| 1 | 73174446 |\n",
       "| 2 | 73174844 |\n",
       "| 3 | 73174997 |\n",
       "| 4 | 73175231 |\n",
       "| 5 | 73175257 |\n",
       "| 6 | 73175318 |\n",
       "\n"
      ],
      "text/plain": [
       "  POS     \n",
       "1 73174446\n",
       "2 73174844\n",
       "3 73174997\n",
       "4 73175231\n",
       "5 73175257\n",
       "6 73175318"
      ]
     },
     "metadata": {},
     "output_type": "display_data"
    }
   ],
   "source": [
    "head(map3)"
   ]
  },
  {
   "cell_type": "code",
   "execution_count": 83,
   "id": "387129e1-c89e-40b2-9f02-0ee18c3272fd",
   "metadata": {},
   "outputs": [
    {
     "data": {
      "text/html": [
       "<table class=\"dataframe\">\n",
       "<caption>A matrix: 6 × 489 of type dbl</caption>\n",
       "<thead>\n",
       "\t<tr><th></th><th scope=col>HG00096</th><th scope=col>HG00097</th><th scope=col>HG00099</th><th scope=col>HG00101</th><th scope=col>HG00102</th><th scope=col>HG00103</th><th scope=col>HG00105</th><th scope=col>HG00107</th><th scope=col>HG00108</th><th scope=col>HG00109</th><th scope=col>⋯</th><th scope=col>NA20814</th><th scope=col>NA20815</th><th scope=col>NA20818</th><th scope=col>NA20819</th><th scope=col>NA20821</th><th scope=col>NA20822</th><th scope=col>NA20826</th><th scope=col>NA20827</th><th scope=col>NA20828</th><th scope=col>NA20832</th></tr>\n",
       "</thead>\n",
       "<tbody>\n",
       "\t<tr><th scope=row>rs74091844</th><td>0</td><td>1</td><td>0</td><td>1</td><td>1</td><td>0</td><td>0</td><td>0</td><td>0</td><td>0</td><td>⋯</td><td>0</td><td>0</td><td>0</td><td>0</td><td>0</td><td>0</td><td>1</td><td>0</td><td>1</td><td>0</td></tr>\n",
       "\t<tr><th scope=row>rs12136189</th><td>0</td><td>1</td><td>0</td><td>1</td><td>1</td><td>0</td><td>0</td><td>0</td><td>0</td><td>0</td><td>⋯</td><td>0</td><td>0</td><td>0</td><td>0</td><td>0</td><td>0</td><td>1</td><td>0</td><td>1</td><td>0</td></tr>\n",
       "\t<tr><th scope=row>rs1475064</th><td>1</td><td>1</td><td>0</td><td>0</td><td>0</td><td>0</td><td>0</td><td>1</td><td>0</td><td>1</td><td>⋯</td><td>2</td><td>2</td><td>1</td><td>2</td><td>2</td><td>2</td><td>0</td><td>1</td><td>1</td><td>1</td></tr>\n",
       "\t<tr><th scope=row>rs1475065</th><td>1</td><td>1</td><td>0</td><td>0</td><td>0</td><td>0</td><td>0</td><td>1</td><td>0</td><td>1</td><td>⋯</td><td>1</td><td>2</td><td>1</td><td>1</td><td>1</td><td>1</td><td>0</td><td>1</td><td>1</td><td>1</td></tr>\n",
       "\t<tr><th scope=row>rs12731986</th><td>1</td><td>1</td><td>0</td><td>0</td><td>0</td><td>0</td><td>0</td><td>1</td><td>0</td><td>1</td><td>⋯</td><td>2</td><td>2</td><td>1</td><td>2</td><td>2</td><td>2</td><td>0</td><td>1</td><td>1</td><td>1</td></tr>\n",
       "\t<tr><th scope=row>rs12116741</th><td>0</td><td>1</td><td>0</td><td>1</td><td>1</td><td>0</td><td>0</td><td>0</td><td>0</td><td>0</td><td>⋯</td><td>0</td><td>0</td><td>0</td><td>0</td><td>0</td><td>0</td><td>1</td><td>0</td><td>1</td><td>0</td></tr>\n",
       "</tbody>\n",
       "</table>\n"
      ],
      "text/latex": [
       "A matrix: 6 × 489 of type dbl\n",
       "\\begin{tabular}{r|lllllllllllllllllllll}\n",
       "  & HG00096 & HG00097 & HG00099 & HG00101 & HG00102 & HG00103 & HG00105 & HG00107 & HG00108 & HG00109 & ⋯ & NA20814 & NA20815 & NA20818 & NA20819 & NA20821 & NA20822 & NA20826 & NA20827 & NA20828 & NA20832\\\\\n",
       "\\hline\n",
       "\trs74091844 & 0 & 1 & 0 & 1 & 1 & 0 & 0 & 0 & 0 & 0 & ⋯ & 0 & 0 & 0 & 0 & 0 & 0 & 1 & 0 & 1 & 0\\\\\n",
       "\trs12136189 & 0 & 1 & 0 & 1 & 1 & 0 & 0 & 0 & 0 & 0 & ⋯ & 0 & 0 & 0 & 0 & 0 & 0 & 1 & 0 & 1 & 0\\\\\n",
       "\trs1475064 & 1 & 1 & 0 & 0 & 0 & 0 & 0 & 1 & 0 & 1 & ⋯ & 2 & 2 & 1 & 2 & 2 & 2 & 0 & 1 & 1 & 1\\\\\n",
       "\trs1475065 & 1 & 1 & 0 & 0 & 0 & 0 & 0 & 1 & 0 & 1 & ⋯ & 1 & 2 & 1 & 1 & 1 & 1 & 0 & 1 & 1 & 1\\\\\n",
       "\trs12731986 & 1 & 1 & 0 & 0 & 0 & 0 & 0 & 1 & 0 & 1 & ⋯ & 2 & 2 & 1 & 2 & 2 & 2 & 0 & 1 & 1 & 1\\\\\n",
       "\trs12116741 & 0 & 1 & 0 & 1 & 1 & 0 & 0 & 0 & 0 & 0 & ⋯ & 0 & 0 & 0 & 0 & 0 & 0 & 1 & 0 & 1 & 0\\\\\n",
       "\\end{tabular}\n"
      ],
      "text/markdown": [
       "\n",
       "A matrix: 6 × 489 of type dbl\n",
       "\n",
       "| <!--/--> | HG00096 | HG00097 | HG00099 | HG00101 | HG00102 | HG00103 | HG00105 | HG00107 | HG00108 | HG00109 | ⋯ | NA20814 | NA20815 | NA20818 | NA20819 | NA20821 | NA20822 | NA20826 | NA20827 | NA20828 | NA20832 |\n",
       "|---|---|---|---|---|---|---|---|---|---|---|---|---|---|---|---|---|---|---|---|---|---|\n",
       "| rs74091844 | 0 | 1 | 0 | 1 | 1 | 0 | 0 | 0 | 0 | 0 | ⋯ | 0 | 0 | 0 | 0 | 0 | 0 | 1 | 0 | 1 | 0 |\n",
       "| rs12136189 | 0 | 1 | 0 | 1 | 1 | 0 | 0 | 0 | 0 | 0 | ⋯ | 0 | 0 | 0 | 0 | 0 | 0 | 1 | 0 | 1 | 0 |\n",
       "| rs1475064 | 1 | 1 | 0 | 0 | 0 | 0 | 0 | 1 | 0 | 1 | ⋯ | 2 | 2 | 1 | 2 | 2 | 2 | 0 | 1 | 1 | 1 |\n",
       "| rs1475065 | 1 | 1 | 0 | 0 | 0 | 0 | 0 | 1 | 0 | 1 | ⋯ | 1 | 2 | 1 | 1 | 1 | 1 | 0 | 1 | 1 | 1 |\n",
       "| rs12731986 | 1 | 1 | 0 | 0 | 0 | 0 | 0 | 1 | 0 | 1 | ⋯ | 2 | 2 | 1 | 2 | 2 | 2 | 0 | 1 | 1 | 1 |\n",
       "| rs12116741 | 0 | 1 | 0 | 1 | 1 | 0 | 0 | 0 | 0 | 0 | ⋯ | 0 | 0 | 0 | 0 | 0 | 0 | 1 | 0 | 1 | 0 |\n",
       "\n"
      ],
      "text/plain": [
       "           HG00096 HG00097 HG00099 HG00101 HG00102 HG00103 HG00105 HG00107\n",
       "rs74091844 0       1       0       1       1       0       0       0      \n",
       "rs12136189 0       1       0       1       1       0       0       0      \n",
       "rs1475064  1       1       0       0       0       0       0       1      \n",
       "rs1475065  1       1       0       0       0       0       0       1      \n",
       "rs12731986 1       1       0       0       0       0       0       1      \n",
       "rs12116741 0       1       0       1       1       0       0       0      \n",
       "           HG00108 HG00109 ⋯ NA20814 NA20815 NA20818 NA20819 NA20821 NA20822\n",
       "rs74091844 0       0       ⋯ 0       0       0       0       0       0      \n",
       "rs12136189 0       0       ⋯ 0       0       0       0       0       0      \n",
       "rs1475064  0       1       ⋯ 2       2       1       2       2       2      \n",
       "rs1475065  0       1       ⋯ 1       2       1       1       1       1      \n",
       "rs12731986 0       1       ⋯ 2       2       1       2       2       2      \n",
       "rs12116741 0       0       ⋯ 0       0       0       0       0       0      \n",
       "           NA20826 NA20827 NA20828 NA20832\n",
       "rs74091844 1       0       1       0      \n",
       "rs12136189 1       0       1       0      \n",
       "rs1475064  0       1       1       1      \n",
       "rs1475065  0       1       1       1      \n",
       "rs12731986 0       1       1       1      \n",
       "rs12116741 1       0       1       0      "
      ]
     },
     "metadata": {},
     "output_type": "display_data"
    }
   ],
   "source": [
    "head(geno)"
   ]
  },
  {
   "cell_type": "code",
   "execution_count": 84,
   "id": "c5fbba20-e398-4e3d-8c18-c99857820da5",
   "metadata": {},
   "outputs": [],
   "source": [
    "# mwas by models of EA samples\n",
    "cg2 <- unique(models.ea$cg)\n",
    "mwas.ea <- matrix(0,nrow=length(cg2),ncol=2)\n",
    "for(i in 1:length(cg2)){\n",
    "        pos <- models.ea[models.ea$cg == cg2[i],1]\n",
    "        gwas <- snp.gwas2$z[is.element(snp.gwas2$pos_hg38, pos)]\n",
    "        weight <- models.ea[models.ea$cg == cg2[i],2]\n",
    "        #geno <- snp.1kg.eur2[match(pos,map.1kg.eur2$POS),]\n",
    "\n",
    "        match_indices <- match(pos, map.1kg.eur2$POS)\n",
    "\n",
    "        tryCatch({\n",
    "            geno <- snp.1kg.eur2[match_indices, , drop = FALSE]\n",
    "        }, error = function(e) {\n",
    "            cat(\"Error accessing genotype data at iteration:\", i, \"\\n\")\n",
    "            cat(\"Error message:\", e$message, \"\\n\")\n",
    "            stop(\"Stopping execution due to error.\")\n",
    "        })    \n",
    "    \n",
    "        mwas.ea[i,] <- MWAS(gwas, weight, t(geno))\n",
    "}\n",
    "rownames(mwas.ea) <- cg2\n",
    "colnames(mwas.ea) <- c(\"z\",\"p\")"
   ]
  },
  {
   "cell_type": "code",
   "execution_count": 85,
   "id": "207bf56e-0680-4f1b-a54d-f5e4b68cf77d",
   "metadata": {},
   "outputs": [
    {
     "data": {
      "text/html": [
       "<table class=\"dataframe\">\n",
       "<caption>A matrix: 6 × 2 of type dbl</caption>\n",
       "<thead>\n",
       "\t<tr><th></th><th scope=col>z</th><th scope=col>p</th></tr>\n",
       "</thead>\n",
       "<tbody>\n",
       "\t<tr><th scope=row>73274312</th><td> 16.25882</td><td> 1.934153e-59</td></tr>\n",
       "\t<tr><th scope=row>73292330</th><td> 40.70283</td><td> 0.000000e+00</td></tr>\n",
       "\t<tr><th scope=row>73307769</th><td>-15.88332</td><td> 8.268615e-57</td></tr>\n",
       "\t<tr><th scope=row>73308571</th><td>-35.61695</td><td>7.658389e-278</td></tr>\n",
       "\t<tr><th scope=row>73419188</th><td>-46.19352</td><td> 0.000000e+00</td></tr>\n",
       "\t<tr><th scope=row>73419830</th><td>-37.67143</td><td> 0.000000e+00</td></tr>\n",
       "</tbody>\n",
       "</table>\n"
      ],
      "text/latex": [
       "A matrix: 6 × 2 of type dbl\n",
       "\\begin{tabular}{r|ll}\n",
       "  & z & p\\\\\n",
       "\\hline\n",
       "\t73274312 &  16.25882 &  1.934153e-59\\\\\n",
       "\t73292330 &  40.70283 &  0.000000e+00\\\\\n",
       "\t73307769 & -15.88332 &  8.268615e-57\\\\\n",
       "\t73308571 & -35.61695 & 7.658389e-278\\\\\n",
       "\t73419188 & -46.19352 &  0.000000e+00\\\\\n",
       "\t73419830 & -37.67143 &  0.000000e+00\\\\\n",
       "\\end{tabular}\n"
      ],
      "text/markdown": [
       "\n",
       "A matrix: 6 × 2 of type dbl\n",
       "\n",
       "| <!--/--> | z | p |\n",
       "|---|---|---|\n",
       "| 73274312 |  16.25882 |  1.934153e-59 |\n",
       "| 73292330 |  40.70283 |  0.000000e+00 |\n",
       "| 73307769 | -15.88332 |  8.268615e-57 |\n",
       "| 73308571 | -35.61695 | 7.658389e-278 |\n",
       "| 73419188 | -46.19352 |  0.000000e+00 |\n",
       "| 73419830 | -37.67143 |  0.000000e+00 |\n",
       "\n"
      ],
      "text/plain": [
       "         z         p            \n",
       "73274312  16.25882  1.934153e-59\n",
       "73292330  40.70283  0.000000e+00\n",
       "73307769 -15.88332  8.268615e-57\n",
       "73308571 -35.61695 7.658389e-278\n",
       "73419188 -46.19352  0.000000e+00\n",
       "73419830 -37.67143  0.000000e+00"
      ]
     },
     "metadata": {},
     "output_type": "display_data"
    }
   ],
   "source": [
    "head(mwas.all)"
   ]
  },
  {
   "cell_type": "code",
   "execution_count": 86,
   "id": "4b88eb34-6d44-4fe7-ad8a-c49dc1a71a81",
   "metadata": {},
   "outputs": [],
   "source": [
    "mwas.all.1se <- mwas.all"
   ]
  },
  {
   "cell_type": "markdown",
   "id": "0765a889-36b0-4d87-bd66-4f33dbea0de5",
   "metadata": {},
   "source": [
    "### With `lambda.min`"
   ]
  },
  {
   "cell_type": "markdown",
   "id": "047c1cca-57f3-494d-9f25-08d7959713d9",
   "metadata": {},
   "source": [
    "#### Stage 1"
   ]
  },
  {
   "cell_type": "code",
   "execution_count": 87,
   "id": "61a5f950-2c27-40b1-aa96-809004183249",
   "metadata": {},
   "outputs": [],
   "source": [
    "set.seed(42)\n",
    "for(k in 1:length(wind)){\n",
    "    models.ea <- c()\n",
    "    models.all <- c()\n",
    "    for(i in 1:length(cg)){\n",
    "    #for(i in 1){\n",
    "        #cat(i,\"\\n\")\n",
    "        #print(paste0(\"This cg is: \", cg[i]))\n",
    "        range1 <- ifelse(cg[i] - wind[k] > 0,cg[i] - wind[k],0)\n",
    "        range2 <- cg[i] + wind[k]\n",
    "        idx <- map3$POS > range1 & map3$POS < range2\n",
    "        # go to next cg if no snps within window\n",
    "        if(sum(idx) <= 1){\n",
    "                next\n",
    "        }\n",
    "        geno <- snp3[idx,] # changed snp2 to snp3\n",
    "        rownames(geno) <- map3$POS[idx]\n",
    "        trainX <- t(geno)\n",
    "        trainY <- p.residual[i,]\n",
    "        fit <- elastic.net(trainX,trainY)\n",
    "        fit <- tryCatch(\n",
    "                elastic.net(trainX,trainY, \"min\"),\n",
    "                error = function(e) {return (\"err\")})\n",
    "        if(!is.data.frame(fit)){\n",
    "            if(fit == \"err\"){\n",
    "                next\n",
    "            }\n",
    "        }\n",
    "        if(nrow(fit) == 0) next\n",
    "\n",
    "        fit$cg <- cg[i]\n",
    "        models.all <- rbind(models.all,fit)\n",
    "        # EA only\n",
    "        trainX <- trainX[idx.ea,]\n",
    "        if(sum(apply(trainX,2,var)!=0) <= 1){\n",
    "                next\n",
    "        }\n",
    "        trainY <- trainY[idx.ea]\n",
    "        fit <- tryCatch(\n",
    "                elastic.net(trainX,trainY, \"min\"),\n",
    "                error = function(e) {return (\"err\")})\n",
    "        if(!is.data.frame(fit)){\n",
    "            if(fit == \"err\"){\n",
    "                next\n",
    "            }\n",
    "        }\n",
    "        if(nrow(fit) == 0) next\n",
    "        fit$cg <- cg[i]\n",
    "        models.ea <- rbind(models.ea,fit)\n",
    "    }\n",
    "}"
   ]
  },
  {
   "cell_type": "code",
   "execution_count": 88,
   "id": "edde27e7-2435-474e-8fee-5870af257547",
   "metadata": {},
   "outputs": [],
   "source": [
    "models.ea <- models.ea[models.ea[,1] != \"(Intercept)\",]\n",
    "models.all <- models.all[models.all[,1] != \"(Intercept)\",]"
   ]
  },
  {
   "cell_type": "markdown",
   "id": "e1a14145-108e-4f1c-9abb-fd4744ba5105",
   "metadata": {},
   "source": [
    "#### Stage 2"
   ]
  },
  {
   "cell_type": "code",
   "execution_count": 89,
   "id": "582b72bb-156b-4d61-9a28-b6e07b2feee6",
   "metadata": {},
   "outputs": [],
   "source": [
    "if(!dir.exists(outd)) dir.create(outd)"
   ]
  },
  {
   "cell_type": "code",
   "execution_count": 90,
   "id": "0dc61fc5-dcd5-41ca-b76d-61e379df41fc",
   "metadata": {},
   "outputs": [],
   "source": [
    "set.seed(42)\n",
    "# mwas by models of all samples\n",
    "cg2 <- unique(models.all$cg)\n",
    "mwas.all <- matrix(0,nrow=length(cg2),ncol=2)\n",
    "for(i in 1:length(cg2)){\n",
    "    pos <- models.all[models.all$cg == cg2[i],1]\n",
    "    gwas <- snp.gwas2$z[is.element(snp.gwas2$pos_hg38, pos)]\n",
    "    weight <- models.all[models.all$cg == cg2[i],2]\n",
    "    #geno <- snp.1kg.eur2[match(pos,map.1kg.eur2$POS),]\n",
    "\n",
    "    match_indices <- match(pos, map.1kg.eur2$POS)\n",
    "\n",
    "    tryCatch({\n",
    "        geno <- snp.1kg.eur2[match_indices, , drop = FALSE]\n",
    "    }, error = function(e) {\n",
    "        cat(\"Error accessing genotype data at iteration:\", i, \"\\n\")\n",
    "        cat(\"Error message:\", e$message, \"\\n\")\n",
    "        stop(\"Stopping execution due to error.\")\n",
    "    })\n",
    "\n",
    "    mwas.all[i,] <- MWAS(gwas, weight, t(geno))\n",
    "}\n",
    "rownames(mwas.all) <- cg2\n",
    "colnames(mwas.all) <- c(\"z\",\"p\")"
   ]
  },
  {
   "cell_type": "code",
   "execution_count": 91,
   "id": "4002b896-fbac-46f7-aae3-671083aa49d7",
   "metadata": {},
   "outputs": [],
   "source": [
    "# mwas by models of EA samples\n",
    "cg2 <- unique(models.ea$cg)\n",
    "mwas.ea <- matrix(0,nrow=length(cg2),ncol=2)\n",
    "for(i in 1:length(cg2)){\n",
    "    pos <- models.ea[models.ea$cg == cg2[i],1]\n",
    "    gwas <- snp.gwas2$z[is.element(snp.gwas2$pos_hg38, pos)]\n",
    "    weight <- models.ea[models.ea$cg == cg2[i],2]\n",
    "    #geno <- snp.1kg.eur2[match(pos,map.1kg.eur2$POS),]\n",
    "\n",
    "    match_indices <- match(pos, map.1kg.eur2$POS)\n",
    "\n",
    "    tryCatch({\n",
    "        geno <- snp.1kg.eur2[match_indices, , drop = FALSE]\n",
    "    }, error = function(e) {\n",
    "        cat(\"Error accessing genotype data at iteration:\", i, \"\\n\")\n",
    "        cat(\"Error message:\", e$message, \"\\n\")\n",
    "        stop(\"Stopping execution due to error.\")\n",
    "    })    \n",
    "\n",
    "    mwas.ea[i,] <- MWAS(gwas, weight, t(geno))\n",
    "}\n",
    "rownames(mwas.ea) <- cg2\n",
    "colnames(mwas.ea) <- c(\"z\",\"p\")"
   ]
  },
  {
   "cell_type": "code",
   "execution_count": 92,
   "id": "4131a37d-d770-49e0-b06e-f7731eda00d6",
   "metadata": {
    "scrolled": true
   },
   "outputs": [
    {
     "data": {
      "text/html": [
       "<table class=\"dataframe\">\n",
       "<caption>A matrix: 6 × 2 of type dbl</caption>\n",
       "<thead>\n",
       "\t<tr><th></th><th scope=col>z</th><th scope=col>p</th></tr>\n",
       "</thead>\n",
       "<tbody>\n",
       "\t<tr><th scope=row>73274305</th><td> 22.346394</td><td>1.308967e-110</td></tr>\n",
       "\t<tr><th scope=row>73274312</th><td> 16.761606</td><td> 4.658712e-63</td></tr>\n",
       "\t<tr><th scope=row>73292330</th><td> 15.415700</td><td> 1.283731e-53</td></tr>\n",
       "\t<tr><th scope=row>73307769</th><td> -2.631868</td><td> 8.491683e-03</td></tr>\n",
       "\t<tr><th scope=row>73308571</th><td> -8.537692</td><td> 1.369291e-17</td></tr>\n",
       "\t<tr><th scope=row>73419188</th><td>-13.302909</td><td> 2.226337e-40</td></tr>\n",
       "</tbody>\n",
       "</table>\n"
      ],
      "text/latex": [
       "A matrix: 6 × 2 of type dbl\n",
       "\\begin{tabular}{r|ll}\n",
       "  & z & p\\\\\n",
       "\\hline\n",
       "\t73274305 &  22.346394 & 1.308967e-110\\\\\n",
       "\t73274312 &  16.761606 &  4.658712e-63\\\\\n",
       "\t73292330 &  15.415700 &  1.283731e-53\\\\\n",
       "\t73307769 &  -2.631868 &  8.491683e-03\\\\\n",
       "\t73308571 &  -8.537692 &  1.369291e-17\\\\\n",
       "\t73419188 & -13.302909 &  2.226337e-40\\\\\n",
       "\\end{tabular}\n"
      ],
      "text/markdown": [
       "\n",
       "A matrix: 6 × 2 of type dbl\n",
       "\n",
       "| <!--/--> | z | p |\n",
       "|---|---|---|\n",
       "| 73274305 |  22.346394 | 1.308967e-110 |\n",
       "| 73274312 |  16.761606 |  4.658712e-63 |\n",
       "| 73292330 |  15.415700 |  1.283731e-53 |\n",
       "| 73307769 |  -2.631868 |  8.491683e-03 |\n",
       "| 73308571 |  -8.537692 |  1.369291e-17 |\n",
       "| 73419188 | -13.302909 |  2.226337e-40 |\n",
       "\n"
      ],
      "text/plain": [
       "         z          p            \n",
       "73274305  22.346394 1.308967e-110\n",
       "73274312  16.761606  4.658712e-63\n",
       "73292330  15.415700  1.283731e-53\n",
       "73307769  -2.631868  8.491683e-03\n",
       "73308571  -8.537692  1.369291e-17\n",
       "73419188 -13.302909  2.226337e-40"
      ]
     },
     "metadata": {},
     "output_type": "display_data"
    }
   ],
   "source": [
    "head(mwas.all)"
   ]
  },
  {
   "cell_type": "code",
   "execution_count": 93,
   "id": "b30cbbe2-8dc6-4d04-b454-30c6216b87ee",
   "metadata": {},
   "outputs": [],
   "source": [
    "mwas.all.min <- mwas.all"
   ]
  },
  {
   "cell_type": "markdown",
   "id": "87456298-fa83-4288-9607-7d4d4457a01a",
   "metadata": {},
   "source": [
    "## Compare"
   ]
  },
  {
   "cell_type": "code",
   "execution_count": 99,
   "id": "d8b4153c-b4a2-4add-b174-8a9945da6962",
   "metadata": {},
   "outputs": [
    {
     "data": {
      "text/html": [
       "<table class=\"dataframe\">\n",
       "<caption>A data.frame: 7 × 3</caption>\n",
       "<thead>\n",
       "\t<tr><th scope=col>z</th><th scope=col>pval.lambda.1se</th><th scope=col>pos</th></tr>\n",
       "\t<tr><th scope=col>&lt;dbl&gt;</th><th scope=col>&lt;dbl&gt;</th><th scope=col>&lt;chr&gt;</th></tr>\n",
       "</thead>\n",
       "<tbody>\n",
       "\t<tr><td> 16.25882</td><td> 1.934153e-59</td><td>73274312</td></tr>\n",
       "\t<tr><td> 40.70283</td><td> 0.000000e+00</td><td>73292330</td></tr>\n",
       "\t<tr><td>-15.88332</td><td> 8.268615e-57</td><td>73307769</td></tr>\n",
       "\t<tr><td>-35.61695</td><td>7.658389e-278</td><td>73308571</td></tr>\n",
       "\t<tr><td>-46.19352</td><td> 0.000000e+00</td><td>73419188</td></tr>\n",
       "\t<tr><td>-37.67143</td><td> 0.000000e+00</td><td>73419830</td></tr>\n",
       "\t<tr><td>-16.73078</td><td> 7.820516e-63</td><td>73420076</td></tr>\n",
       "</tbody>\n",
       "</table>\n"
      ],
      "text/latex": [
       "A data.frame: 7 × 3\n",
       "\\begin{tabular}{lll}\n",
       " z & pval.lambda.1se & pos\\\\\n",
       " <dbl> & <dbl> & <chr>\\\\\n",
       "\\hline\n",
       "\t  16.25882 &  1.934153e-59 & 73274312\\\\\n",
       "\t  40.70283 &  0.000000e+00 & 73292330\\\\\n",
       "\t -15.88332 &  8.268615e-57 & 73307769\\\\\n",
       "\t -35.61695 & 7.658389e-278 & 73308571\\\\\n",
       "\t -46.19352 &  0.000000e+00 & 73419188\\\\\n",
       "\t -37.67143 &  0.000000e+00 & 73419830\\\\\n",
       "\t -16.73078 &  7.820516e-63 & 73420076\\\\\n",
       "\\end{tabular}\n"
      ],
      "text/markdown": [
       "\n",
       "A data.frame: 7 × 3\n",
       "\n",
       "| z &lt;dbl&gt; | pval.lambda.1se &lt;dbl&gt; | pos &lt;chr&gt; |\n",
       "|---|---|---|\n",
       "|  16.25882 |  1.934153e-59 | 73274312 |\n",
       "|  40.70283 |  0.000000e+00 | 73292330 |\n",
       "| -15.88332 |  8.268615e-57 | 73307769 |\n",
       "| -35.61695 | 7.658389e-278 | 73308571 |\n",
       "| -46.19352 |  0.000000e+00 | 73419188 |\n",
       "| -37.67143 |  0.000000e+00 | 73419830 |\n",
       "| -16.73078 |  7.820516e-63 | 73420076 |\n",
       "\n"
      ],
      "text/plain": [
       "  z         pval.lambda.1se pos     \n",
       "1  16.25882  1.934153e-59   73274312\n",
       "2  40.70283  0.000000e+00   73292330\n",
       "3 -15.88332  8.268615e-57   73307769\n",
       "4 -35.61695 7.658389e-278   73308571\n",
       "5 -46.19352  0.000000e+00   73419188\n",
       "6 -37.67143  0.000000e+00   73419830\n",
       "7 -16.73078  7.820516e-63   73420076"
      ]
     },
     "metadata": {},
     "output_type": "display_data"
    }
   ],
   "source": [
    "mwas.all.1se"
   ]
  },
  {
   "cell_type": "code",
   "execution_count": 100,
   "id": "41f09f92-953b-44f8-a682-db1cc9baf86a",
   "metadata": {},
   "outputs": [
    {
     "data": {
      "text/html": [
       "<table class=\"dataframe\">\n",
       "<caption>A data.frame: 8 × 3</caption>\n",
       "<thead>\n",
       "\t<tr><th scope=col>z</th><th scope=col>pval.lambda.min</th><th scope=col>pos</th></tr>\n",
       "\t<tr><th scope=col>&lt;dbl&gt;</th><th scope=col>&lt;dbl&gt;</th><th scope=col>&lt;chr&gt;</th></tr>\n",
       "</thead>\n",
       "<tbody>\n",
       "\t<tr><td> 22.346394</td><td>1.308967e-110</td><td>73274305</td></tr>\n",
       "\t<tr><td> 16.761606</td><td> 4.658712e-63</td><td>73274312</td></tr>\n",
       "\t<tr><td> 15.415700</td><td> 1.283731e-53</td><td>73292330</td></tr>\n",
       "\t<tr><td> -2.631868</td><td> 8.491683e-03</td><td>73307769</td></tr>\n",
       "\t<tr><td> -8.537692</td><td> 1.369291e-17</td><td>73308571</td></tr>\n",
       "\t<tr><td>-13.302909</td><td> 2.226337e-40</td><td>73419188</td></tr>\n",
       "\t<tr><td> -8.853347</td><td> 8.493343e-19</td><td>73419830</td></tr>\n",
       "\t<tr><td> -8.197806</td><td> 2.448140e-16</td><td>73420076</td></tr>\n",
       "</tbody>\n",
       "</table>\n"
      ],
      "text/latex": [
       "A data.frame: 8 × 3\n",
       "\\begin{tabular}{lll}\n",
       " z & pval.lambda.min & pos\\\\\n",
       " <dbl> & <dbl> & <chr>\\\\\n",
       "\\hline\n",
       "\t  22.346394 & 1.308967e-110 & 73274305\\\\\n",
       "\t  16.761606 &  4.658712e-63 & 73274312\\\\\n",
       "\t  15.415700 &  1.283731e-53 & 73292330\\\\\n",
       "\t  -2.631868 &  8.491683e-03 & 73307769\\\\\n",
       "\t  -8.537692 &  1.369291e-17 & 73308571\\\\\n",
       "\t -13.302909 &  2.226337e-40 & 73419188\\\\\n",
       "\t  -8.853347 &  8.493343e-19 & 73419830\\\\\n",
       "\t  -8.197806 &  2.448140e-16 & 73420076\\\\\n",
       "\\end{tabular}\n"
      ],
      "text/markdown": [
       "\n",
       "A data.frame: 8 × 3\n",
       "\n",
       "| z &lt;dbl&gt; | pval.lambda.min &lt;dbl&gt; | pos &lt;chr&gt; |\n",
       "|---|---|---|\n",
       "|  22.346394 | 1.308967e-110 | 73274305 |\n",
       "|  16.761606 |  4.658712e-63 | 73274312 |\n",
       "|  15.415700 |  1.283731e-53 | 73292330 |\n",
       "|  -2.631868 |  8.491683e-03 | 73307769 |\n",
       "|  -8.537692 |  1.369291e-17 | 73308571 |\n",
       "| -13.302909 |  2.226337e-40 | 73419188 |\n",
       "|  -8.853347 |  8.493343e-19 | 73419830 |\n",
       "|  -8.197806 |  2.448140e-16 | 73420076 |\n",
       "\n"
      ],
      "text/plain": [
       "  z          pval.lambda.min pos     \n",
       "1  22.346394 1.308967e-110   73274305\n",
       "2  16.761606  4.658712e-63   73274312\n",
       "3  15.415700  1.283731e-53   73292330\n",
       "4  -2.631868  8.491683e-03   73307769\n",
       "5  -8.537692  1.369291e-17   73308571\n",
       "6 -13.302909  2.226337e-40   73419188\n",
       "7  -8.853347  8.493343e-19   73419830\n",
       "8  -8.197806  2.448140e-16   73420076"
      ]
     },
     "metadata": {},
     "output_type": "display_data"
    }
   ],
   "source": [
    "mwas.all.min"
   ]
  },
  {
   "cell_type": "code",
   "execution_count": 94,
   "id": "da310ebe-3fe8-45f4-b3e0-3482f4487c9a",
   "metadata": {},
   "outputs": [],
   "source": [
    "library(ggplot2)"
   ]
  },
  {
   "cell_type": "code",
   "execution_count": 95,
   "id": "ab9a8734-0620-4f60-977b-b41caa27b326",
   "metadata": {},
   "outputs": [],
   "source": [
    "mwas.all.1se <- as.data.frame(mwas.all.1se)\n",
    "mwas.all.min <- as.data.frame(mwas.all.min)\n",
    "\n",
    "mwas.all.1se$pos <- rownames(mwas.all.1se)\n",
    "mwas.all.min$pos <- rownames(mwas.all.min)\n",
    "\n",
    "rownames(mwas.all.1se) <- rownames(mwas.all.min) <- NULL\n",
    "\n",
    "colnames(mwas.all.1se)[2] <- \"pval.lambda.1se\"\n",
    "colnames(mwas.all.min)[2] <- \"pval.lambda.min\""
   ]
  },
  {
   "cell_type": "code",
   "execution_count": 101,
   "id": "9cf676cd-5989-49a3-88c4-e1955ea3f148",
   "metadata": {},
   "outputs": [],
   "source": [
    "df <- merge(mwas.all.1se, mwas.all.min, by = \"pos\")"
   ]
  },
  {
   "cell_type": "code",
   "execution_count": 102,
   "id": "9cd66104-5bfc-4669-8968-a1680b99a908",
   "metadata": {},
   "outputs": [
    {
     "data": {
      "image/png": "[encoded data removed]",
      "text/plain": [
       "plot without title"
      ]
     },
     "metadata": {
      "image/png": {
       "height": 420,
       "width": 420
      }
     },
     "output_type": "display_data"
    }
   ],
   "source": [
    "ggplot(df, aes(x = log(pval.lambda.1se), y = log(pval.lambda.min))) +\n",
    "  geom_point(alpha = 0.6) +\n",
    "  labs(x = \"Log of p-values (lambda.1se)\",\n",
    "       y = \"Log of p-values (lambda.min)\",\n",
    "       title = \"Scattergram of MWAS p-values\",\n",
    "       subtitle = \"Comparing lambda.1se and lambda.min\") +\n",
    "  theme_minimal()"
   ]
  },
  {
   "cell_type": "code",
   "execution_count": null,
   "id": "dd869ed9-3f50-4206-853f-0c9a8e36c45a",
   "metadata": {},
   "outputs": [],
   "source": []
  }
 ],
 "metadata": {
  "kernelspec": {
   "display_name": "R",
   "language": "R",
   "name": "ir"
  },
  "language_info": {
   "codemirror_mode": "r",
   "file_extension": ".r",
   "mimetype": "text/x-r-source",
   "name": "R",
   "pygments_lexer": "r",
   "version": "4.3.1"
  }
 },
 "nbformat": 4,
 "nbformat_minor": 5
}
