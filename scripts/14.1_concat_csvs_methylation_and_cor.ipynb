{
 "cells": [
  {
   "cell_type": "markdown",
   "id": "69db1656-c165-41a9-bc42-d624fb90c1e8",
   "metadata": {},
   "source": [
    "# Read in and combine all csv files for raw methylation data and cor/mse values"
   ]
  },
  {
   "cell_type": "markdown",
   "id": "50b54210-5dce-4dca-92b7-a1c5a6ca0fcc",
   "metadata": {},
   "source": [
    "Actually used fast bash commands instead"
   ]
  },
  {
   "cell_type": "raw",
   "id": "d5703fdb-f3c2-487b-9ea8-ad99428e9717",
   "metadata": {},
   "source": [
    "# Change to the directory containing the CSV files, if necessary\n",
    "cd /path/to/your/csv/files\n",
    "\n",
    "# Concatenate files of results.1 type\n",
    "cat /expanse/lustre/projects/jhu152/naglemi/mwas/pheno/caud/out/*_raw-DNAm-only.csv \\\n",
    "    /expanse/lustre/projects/jhu152/naglemi/mwas/pheno/hippo/out/*_raw-DNAm-only.csv \\\n",
    "    /expanse/lustre/projects/jhu152/naglemi/mwas/pheno/dlpfc/out/*_raw-DNAm-only.csv \\\n",
    "    > /expanse/lustre/projects/jhu152/naglemi/mwas/pheno/14.1-OUT_combined_methylation_a2.csv\n",
    "\n",
    "# Concatenate files of results.2 type from multiple directories\n",
    "cat /expanse/lustre/projects/jhu152/naglemi/mwas/CpGWAS/output_EXPANSE_a2_caud/*_stat-summary.csv \\\n",
    "    /expanse/lustre/projects/jhu152/naglemi/mwas/CpGWAS/output_EXPANSE_a2_dlpfc/*_stat-summary.csv \\\n",
    "    /expanse/lustre/projects/jhu152/naglemi/mwas/CpGWAS/output_EXPANSE_a2_hippo/*_stat-summary.csv \\\n",
    "    > 14.1-OUT_combined_cor_stats.csv\n"
   ]
  },
  {
   "cell_type": "raw",
   "id": "b07783fe-2e58-43eb-a40b-c0fe749fbf0c",
   "metadata": {},
   "source": [
    "library(data.table)\n",
    "library(parallel)\n",
    "\n",
    "# Set the number of cores to use\n",
    "no_cores <- detectCores() - 1  # Leave one core free to avoid overloading your machine\n",
    "\n",
    "# Read and concatenate results.1 files in parallel\n",
    "results_1_list <- mclapply(files_results_1, fread, col.names = c(\"Chr\", \"pos\", \"population\", \"region\", \"mean_DNAm\", \"var_DNAm\"), mc.cores = no_cores)\n",
    "results_1 <- rbindlist(results_1_list)\n",
    "\n",
    "# Read and concatenate results.2 files in parallel\n",
    "results_2_list <- mclapply(files_results_2, fread, col.names = c(\"Chr\", \"population\", \"region\", \"pos\", \"cor\", \"mse\"), mc.cores = no_cores)\n",
    "results_2 <- rbindlist(results_2_list)\n"
   ]
  },
  {
   "cell_type": "code",
   "execution_count": null,
   "id": "1d8f67bf-b25f-4648-a2e5-15bf782dde31",
   "metadata": {},
   "outputs": [],
   "source": []
  },
  {
   "cell_type": "code",
   "execution_count": null,
   "id": "1c23a347-1340-4f06-8889-7998050f25a1",
   "metadata": {},
   "outputs": [],
   "source": [
    "# library(data.table)\n",
    "\n",
    "# # Set the working directory to where the CSV files are stored (if needed)\n",
    "# # setwd(\"/path/to/your/csv/files\")\n",
    "\n",
    "# # List files for each results type\n",
    "# files_results_1 <- list.files(\"/expanse/lustre/projects/jhu152/naglemi/mwas/pheno\", pattern = \"_raw-DNAm-only\\\\.csv$\", full.names = TRUE,\n",
    "#                               recursive = TRUE)\n",
    "# files_results_2.1 <- list.files(\"/expanse/lustre/projects/jhu152/naglemi/mwas/CpGWAS/output_EXPANSE_a2_caud\", pattern = \"_stat-summary\\\\.csv$\", full.names = TRUE)\n",
    "# files_results_2.2 <- list.files(\"/expanse/lustre/projects/jhu152/naglemi/mwas/CpGWAS/output_EXPANSE_a2_dlpfc\", pattern = \"_stat-summary\\\\.csv$\", full.names = TRUE)\n",
    "# files_results_2.3 <- list.files(\"/expanse/lustre/projects/jhu152/naglemi/mwas/CpGWAS/output_EXPANSE_a2_hippo\", pattern = \"_stat-summary\\\\.csv$\", full.names = TRUE)\n",
    "# files_results_2 <- c(files_results_2.1, files_results_2.2, files_results_2.3)\n",
    "\n",
    "# # # not parallel\n",
    "\n",
    "# # # Read and concatenate results.1 files\n",
    "# # results_1_list <- lapply(files_results_1, fread, col.names = c(\"Chr\", \"pos\", \"population\", \"region\", \"mean_DNAm\", \"var_DNAm\"))\n",
    "# # results_1 <- rbindlist(results_1_list)\n",
    "\n",
    "# # # Read and concatenate results.2 files\n",
    "# # results_2_list <- lapply(files_results_2, fread, col.names = c(\"Chr\", \"population\", \"region\", \"pos\", \"cor\", \"mse\"))\n",
    "# # results_2 <- rbindlist(results_2_list)\n",
    "\n",
    "# # parallel version\n",
    "\n",
    "# library(data.table)\n",
    "# library(parallel)\n",
    "\n",
    "# # Set the number of cores to use\n",
    "# #no_cores <- detectCores() - 1  # Leave one core free to avoid overloading your machine\n",
    "\n",
    "# no_cores <- 125\n",
    "\n",
    "# # Read and concatenate results.1 files in parallel\n",
    "# results_1_list <- mclapply(files_results_1, fread, col.names = c(\"Chr\", \"pos\", \"population\", \"region\", \"mean_DNAm\", \"var_DNAm\"), mc.cores = no_cores)\n",
    "# results_1 <- rbindlist(results_1_list)\n",
    "\n",
    "# # Write the concatenated results to new CSV files without headers\n",
    "# fwrite(results_1, \"14.1-OUT_combined_methylation.csv\", col.names = FALSE)\n",
    "\n",
    "# # Read and concatenate results.2 files in parallel\n",
    "# results_2_list <- mclapply(files_results_2, fread, col.names = c(\"Chr\", \"population\", \"region\", \"pos\", \"cor\", \"mse\"), mc.cores = no_cores)\n",
    "# results_2 <- rbindlist(results_2_list)\n",
    "\n",
    "# fwrite(results_2, \"14.1-OUT_combined_cor_stats.csv\", col.names = FALSE)"
   ]
  }
 ],
 "metadata": {
  "kernelspec": {
   "display_name": "R",
   "language": "R",
   "name": "ir"
  },
  "language_info": {
   "codemirror_mode": "r",
   "file_extension": ".r",
   "mimetype": "text/x-r-source",
   "name": "R",
   "pygments_lexer": "r",
   "version": "4.3.1"
  }
 },
 "nbformat": 4,
 "nbformat_minor": 5
}
