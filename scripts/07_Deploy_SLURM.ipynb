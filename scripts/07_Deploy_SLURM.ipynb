{
 "cells": [
  {
   "cell_type": "markdown",
   "id": "0cb72484-0e2e-4d13-bda9-58fe13e8ae34",
   "metadata": {},
   "source": [
    "# Prep SLURM commands"
   ]
  },
  {
   "cell_type": "code",
   "execution_count": 1,
   "id": "16eddb68-67bf-48d8-9343-a7e48c69b312",
   "metadata": {},
   "outputs": [
    {
     "data": {
      "text/html": [
       "'/dcs04/lieber/statsgen/mnagle/mwas/CpGWAS/scripts'"
      ],
      "text/latex": [
       "'/dcs04/lieber/statsgen/mnagle/mwas/CpGWAS/scripts'"
      ],
      "text/markdown": [
       "'/dcs04/lieber/statsgen/mnagle/mwas/CpGWAS/scripts'"
      ],
      "text/plain": [
       "[1] \"/dcs04/lieber/statsgen/mnagle/mwas/CpGWAS/scripts\""
      ]
     },
     "metadata": {},
     "output_type": "display_data"
    }
   ],
   "source": [
    "getwd()"
   ]
  },
  {
   "cell_type": "code",
   "execution_count": 2,
   "id": "82f55bee-2e04-4858-a040-64869a761882",
   "metadata": {},
   "outputs": [],
   "source": [
    "setwd(\"../\")"
   ]
  },
  {
   "cell_type": "code",
   "execution_count": 3,
   "id": "750b3ac4-4232-4549-b317-faa48852db41",
   "metadata": {},
   "outputs": [
    {
     "name": "stdout",
     "output_type": "stream",
     "text": [
      "     [,1] [,2] [,3] [,4]  [,5]\n",
      "[1,]    1 2001 4001 6001  8001\n",
      "[2,] 2000 4000 6000 8000 10000\n"
     ]
    }
   ],
   "source": [
    "# Function to generate chunk ranges\n",
    "generate_chunk_ranges <- function(start, end, num_chunks) {\n",
    "  chunk_size <- ceiling((end - start + 1) / num_chunks)\n",
    "  chunk_ranges <- sapply(1:num_chunks, function(i) {\n",
    "    chunk_start <- start + (i - 1) * chunk_size\n",
    "    chunk_end <- min(chunk_start + chunk_size - 1, end)\n",
    "    c(chunk_start, chunk_end)\n",
    "  })\n",
    "  return(chunk_ranges)\n",
    "}\n",
    "\n",
    "# Example usage\n",
    "chunk_ranges <- generate_chunk_ranges(1, 10000, 5)\n",
    "print(chunk_ranges)"
   ]
  },
  {
   "cell_type": "code",
   "execution_count": 4,
   "id": "83773ff0-6c58-4904-ab20-6a281d9395b3",
   "metadata": {},
   "outputs": [
    {
     "data": {
      "text/html": [
       "<style>\n",
       ".list-inline {list-style: none; margin:0; padding: 0}\n",
       ".list-inline>li {display: inline-block}\n",
       ".list-inline>li:not(:last-child)::after {content: \"\\00b7\"; padding: 0 .5ex}\n",
       "</style>\n",
       "<ol class=list-inline><li>'chr1_AA_methylation_10k_samples_a2.rds'</li><li>'chr1_AA_methylation_10k_samples_partial.rds'</li><li>'chr1_dfplc_all_methylation_10k_samples_a3.rds'</li><li>'CpGWAS'</li><li>'full_covariates'</li><li>'gwas'</li><li>'model'</li><li>'mwas'</li><li>'pheno'</li></ol>\n"
      ],
      "text/latex": [
       "\\begin{enumerate*}\n",
       "\\item 'chr1\\_AA\\_methylation\\_10k\\_samples\\_a2.rds'\n",
       "\\item 'chr1\\_AA\\_methylation\\_10k\\_samples\\_partial.rds'\n",
       "\\item 'chr1\\_dfplc\\_all\\_methylation\\_10k\\_samples\\_a3.rds'\n",
       "\\item 'CpGWAS'\n",
       "\\item 'full\\_covariates'\n",
       "\\item 'gwas'\n",
       "\\item 'model'\n",
       "\\item 'mwas'\n",
       "\\item 'pheno'\n",
       "\\end{enumerate*}\n"
      ],
      "text/markdown": [
       "1. 'chr1_AA_methylation_10k_samples_a2.rds'\n",
       "2. 'chr1_AA_methylation_10k_samples_partial.rds'\n",
       "3. 'chr1_dfplc_all_methylation_10k_samples_a3.rds'\n",
       "4. 'CpGWAS'\n",
       "5. 'full_covariates'\n",
       "6. 'gwas'\n",
       "7. 'model'\n",
       "8. 'mwas'\n",
       "9. 'pheno'\n",
       "\n",
       "\n"
      ],
      "text/plain": [
       "[1] \"chr1_AA_methylation_10k_samples_a2.rds\"       \n",
       "[2] \"chr1_AA_methylation_10k_samples_partial.rds\"  \n",
       "[3] \"chr1_dfplc_all_methylation_10k_samples_a3.rds\"\n",
       "[4] \"CpGWAS\"                                       \n",
       "[5] \"full_covariates\"                              \n",
       "[6] \"gwas\"                                         \n",
       "[7] \"model\"                                        \n",
       "[8] \"mwas\"                                         \n",
       "[9] \"pheno\"                                        "
      ]
     },
     "metadata": {},
     "output_type": "display_data"
    }
   ],
   "source": [
    "list.files(\"/dcs04/lieber/statsgen/mnagle/mwas/\")"
   ]
  },
  {
   "cell_type": "code",
   "execution_count": 5,
   "id": "bb1308f1-f068-4f2c-8097-cca4fdc14c2b",
   "metadata": {
    "tags": []
   },
   "outputs": [
    {
     "name": "stdout",
     "output_type": "stream",
     "text": [
      "#!/bin/bash\n",
      "#SBATCH --cpus-per-task=1\n",
      "#SBATCH --mem-per-cpu=16G\n",
      "#SBATCH --output=slurm_output_libd_chr1-chr1_all-1-2000-dynamic-1corestotal-allcorepera-20240403-124319.out\n",
      "#SBATCH --job-name=libd_chr1-chr1_all-1-2000-dynamic-1corestotal-allcorepera-20240403-124319\n",
      "module load conda\n",
      "conda activate mwas\n",
      "TMPDIR=/dcs04/lieber/statsgen/mnagle/mwas/CpGWAS/temp_temp\n",
      "echo 'Executing Rscript with arguments: Rscript scripts/CLI.R --outdir=./output/ --snp_data_path=/dcs04/lieber/statsgen/shizhong/michael/mwas/gwas/libd_chr1.pgen --methylation_data_path=/dcs04/lieber/statsgen/shizhong/michael/mwas/pheno/dlpfc/out/chr1_all.rda --cov=/dcs04/lieber/statsgen/mnagle/mwas/full_covariates/all_dlpfc.csv --verbose=FALSE --lambda_choice=1se --alphas=0.5 --allow_inefficient_parallelization=FALSE --n_fold=5 --window_sizes=10000 --save_evaluation_results_each_fold=FALSE --save_glmnet_object=FALSE --omit_folds_with_na_r=TRUE --methInput_rds_path=/dcs04/lieber/statsgen/mnagle/mwas/chr1_dfplc_all_methylation_10k_samples_a3.rds --chunk1=1 --chunk2=2000 --cv_eval_mode=dynamic --num_cores=1 --cores_per_alpha=all --tag=libd_chr1-chr1_all-1-2000-dynamic-1corestotal-allcorepera-20240403-124319'\n",
      "Rscript scripts/CLI.R --outdir=./output/ --snp_data_path=/dcs04/lieber/statsgen/shizhong/michael/mwas/gwas/libd_chr1.pgen --methylation_data_path=/dcs04/lieber/statsgen/shizhong/michael/mwas/pheno/dlpfc/out/chr1_all.rda --cov=/dcs04/lieber/statsgen/mnagle/mwas/full_covariates/all_dlpfc.csv --verbose=FALSE --lambda_choice=1se --alphas=0.5 --allow_inefficient_parallelization=FALSE --n_fold=5 --window_sizes=10000 --save_evaluation_results_each_fold=FALSE --save_glmnet_object=FALSE --omit_folds_with_na_r=TRUE --methInput_rds_path=/dcs04/lieber/statsgen/mnagle/mwas/chr1_dfplc_all_methylation_10k_samples_a3.rds --chunk1=1 --chunk2=2000 --cv_eval_mode=dynamic --num_cores=1 --cores_per_alpha=all --tag=libd_chr1-chr1_all-1-2000-dynamic-1corestotal-allcorepera-20240403-124319\n"
     ]
    },
    {
     "name": "stderr",
     "output_type": "stream",
     "text": [
      "ZZZZzzzz....\n",
      "\n"
     ]
    },
    {
     "name": "stdout",
     "output_type": "stream",
     "text": [
      "#!/bin/bash\n",
      "#SBATCH --cpus-per-task=1\n",
      "#SBATCH --mem-per-cpu=16G\n",
      "#SBATCH --output=slurm_output_libd_chr1-chr1_all-2001-4000-dynamic-1corestotal-allcorepera-20240403-124319.out\n",
      "#SBATCH --job-name=libd_chr1-chr1_all-2001-4000-dynamic-1corestotal-allcorepera-20240403-124319\n",
      "module load conda\n",
      "conda activate mwas\n",
      "TMPDIR=/dcs04/lieber/statsgen/mnagle/mwas/CpGWAS/temp_temp\n",
      "echo 'Executing Rscript with arguments: Rscript scripts/CLI.R --outdir=./output/ --snp_data_path=/dcs04/lieber/statsgen/shizhong/michael/mwas/gwas/libd_chr1.pgen --methylation_data_path=/dcs04/lieber/statsgen/shizhong/michael/mwas/pheno/dlpfc/out/chr1_all.rda --cov=/dcs04/lieber/statsgen/mnagle/mwas/full_covariates/all_dlpfc.csv --verbose=FALSE --lambda_choice=1se --alphas=0.5 --allow_inefficient_parallelization=FALSE --n_fold=5 --window_sizes=10000 --save_evaluation_results_each_fold=FALSE --save_glmnet_object=FALSE --omit_folds_with_na_r=TRUE --methInput_rds_path=/dcs04/lieber/statsgen/mnagle/mwas/chr1_dfplc_all_methylation_10k_samples_a3.rds --chunk1=2001 --chunk2=4000 --cv_eval_mode=dynamic --num_cores=1 --cores_per_alpha=all --tag=libd_chr1-chr1_all-2001-4000-dynamic-1corestotal-allcorepera-20240403-124319'\n",
      "Rscript scripts/CLI.R --outdir=./output/ --snp_data_path=/dcs04/lieber/statsgen/shizhong/michael/mwas/gwas/libd_chr1.pgen --methylation_data_path=/dcs04/lieber/statsgen/shizhong/michael/mwas/pheno/dlpfc/out/chr1_all.rda --cov=/dcs04/lieber/statsgen/mnagle/mwas/full_covariates/all_dlpfc.csv --verbose=FALSE --lambda_choice=1se --alphas=0.5 --allow_inefficient_parallelization=FALSE --n_fold=5 --window_sizes=10000 --save_evaluation_results_each_fold=FALSE --save_glmnet_object=FALSE --omit_folds_with_na_r=TRUE --methInput_rds_path=/dcs04/lieber/statsgen/mnagle/mwas/chr1_dfplc_all_methylation_10k_samples_a3.rds --chunk1=2001 --chunk2=4000 --cv_eval_mode=dynamic --num_cores=1 --cores_per_alpha=all --tag=libd_chr1-chr1_all-2001-4000-dynamic-1corestotal-allcorepera-20240403-124319\n"
     ]
    },
    {
     "name": "stderr",
     "output_type": "stream",
     "text": [
      "ZZZZzzzz....\n",
      "\n"
     ]
    },
    {
     "name": "stdout",
     "output_type": "stream",
     "text": [
      "#!/bin/bash\n",
      "#SBATCH --cpus-per-task=1\n",
      "#SBATCH --mem-per-cpu=16G\n",
      "#SBATCH --output=slurm_output_libd_chr1-chr1_all-4001-6000-dynamic-1corestotal-allcorepera-20240403-124319.out\n",
      "#SBATCH --job-name=libd_chr1-chr1_all-4001-6000-dynamic-1corestotal-allcorepera-20240403-124319\n",
      "module load conda\n",
      "conda activate mwas\n",
      "TMPDIR=/dcs04/lieber/statsgen/mnagle/mwas/CpGWAS/temp_temp\n",
      "echo 'Executing Rscript with arguments: Rscript scripts/CLI.R --outdir=./output/ --snp_data_path=/dcs04/lieber/statsgen/shizhong/michael/mwas/gwas/libd_chr1.pgen --methylation_data_path=/dcs04/lieber/statsgen/shizhong/michael/mwas/pheno/dlpfc/out/chr1_all.rda --cov=/dcs04/lieber/statsgen/mnagle/mwas/full_covariates/all_dlpfc.csv --verbose=FALSE --lambda_choice=1se --alphas=0.5 --allow_inefficient_parallelization=FALSE --n_fold=5 --window_sizes=10000 --save_evaluation_results_each_fold=FALSE --save_glmnet_object=FALSE --omit_folds_with_na_r=TRUE --methInput_rds_path=/dcs04/lieber/statsgen/mnagle/mwas/chr1_dfplc_all_methylation_10k_samples_a3.rds --chunk1=4001 --chunk2=6000 --cv_eval_mode=dynamic --num_cores=1 --cores_per_alpha=all --tag=libd_chr1-chr1_all-4001-6000-dynamic-1corestotal-allcorepera-20240403-124319'\n",
      "Rscript scripts/CLI.R --outdir=./output/ --snp_data_path=/dcs04/lieber/statsgen/shizhong/michael/mwas/gwas/libd_chr1.pgen --methylation_data_path=/dcs04/lieber/statsgen/shizhong/michael/mwas/pheno/dlpfc/out/chr1_all.rda --cov=/dcs04/lieber/statsgen/mnagle/mwas/full_covariates/all_dlpfc.csv --verbose=FALSE --lambda_choice=1se --alphas=0.5 --allow_inefficient_parallelization=FALSE --n_fold=5 --window_sizes=10000 --save_evaluation_results_each_fold=FALSE --save_glmnet_object=FALSE --omit_folds_with_na_r=TRUE --methInput_rds_path=/dcs04/lieber/statsgen/mnagle/mwas/chr1_dfplc_all_methylation_10k_samples_a3.rds --chunk1=4001 --chunk2=6000 --cv_eval_mode=dynamic --num_cores=1 --cores_per_alpha=all --tag=libd_chr1-chr1_all-4001-6000-dynamic-1corestotal-allcorepera-20240403-124319\n"
     ]
    },
    {
     "name": "stderr",
     "output_type": "stream",
     "text": [
      "ZZZZzzzz....\n",
      "\n"
     ]
    },
    {
     "name": "stdout",
     "output_type": "stream",
     "text": [
      "#!/bin/bash\n",
      "#SBATCH --cpus-per-task=1\n",
      "#SBATCH --mem-per-cpu=16G\n",
      "#SBATCH --output=slurm_output_libd_chr1-chr1_all-6001-8000-dynamic-1corestotal-allcorepera-20240403-124319.out\n",
      "#SBATCH --job-name=libd_chr1-chr1_all-6001-8000-dynamic-1corestotal-allcorepera-20240403-124319\n",
      "module load conda\n",
      "conda activate mwas\n",
      "TMPDIR=/dcs04/lieber/statsgen/mnagle/mwas/CpGWAS/temp_temp\n",
      "echo 'Executing Rscript with arguments: Rscript scripts/CLI.R --outdir=./output/ --snp_data_path=/dcs04/lieber/statsgen/shizhong/michael/mwas/gwas/libd_chr1.pgen --methylation_data_path=/dcs04/lieber/statsgen/shizhong/michael/mwas/pheno/dlpfc/out/chr1_all.rda --cov=/dcs04/lieber/statsgen/mnagle/mwas/full_covariates/all_dlpfc.csv --verbose=FALSE --lambda_choice=1se --alphas=0.5 --allow_inefficient_parallelization=FALSE --n_fold=5 --window_sizes=10000 --save_evaluation_results_each_fold=FALSE --save_glmnet_object=FALSE --omit_folds_with_na_r=TRUE --methInput_rds_path=/dcs04/lieber/statsgen/mnagle/mwas/chr1_dfplc_all_methylation_10k_samples_a3.rds --chunk1=6001 --chunk2=8000 --cv_eval_mode=dynamic --num_cores=1 --cores_per_alpha=all --tag=libd_chr1-chr1_all-6001-8000-dynamic-1corestotal-allcorepera-20240403-124319'\n",
      "Rscript scripts/CLI.R --outdir=./output/ --snp_data_path=/dcs04/lieber/statsgen/shizhong/michael/mwas/gwas/libd_chr1.pgen --methylation_data_path=/dcs04/lieber/statsgen/shizhong/michael/mwas/pheno/dlpfc/out/chr1_all.rda --cov=/dcs04/lieber/statsgen/mnagle/mwas/full_covariates/all_dlpfc.csv --verbose=FALSE --lambda_choice=1se --alphas=0.5 --allow_inefficient_parallelization=FALSE --n_fold=5 --window_sizes=10000 --save_evaluation_results_each_fold=FALSE --save_glmnet_object=FALSE --omit_folds_with_na_r=TRUE --methInput_rds_path=/dcs04/lieber/statsgen/mnagle/mwas/chr1_dfplc_all_methylation_10k_samples_a3.rds --chunk1=6001 --chunk2=8000 --cv_eval_mode=dynamic --num_cores=1 --cores_per_alpha=all --tag=libd_chr1-chr1_all-6001-8000-dynamic-1corestotal-allcorepera-20240403-124319\n"
     ]
    },
    {
     "name": "stderr",
     "output_type": "stream",
     "text": [
      "ZZZZzzzz....\n",
      "\n"
     ]
    },
    {
     "name": "stdout",
     "output_type": "stream",
     "text": [
      "#!/bin/bash\n",
      "#SBATCH --cpus-per-task=1\n",
      "#SBATCH --mem-per-cpu=16G\n",
      "#SBATCH --output=slurm_output_libd_chr1-chr1_all-8001-10000-dynamic-1corestotal-allcorepera-20240403-124320.out\n",
      "#SBATCH --job-name=libd_chr1-chr1_all-8001-10000-dynamic-1corestotal-allcorepera-20240403-124320\n",
      "module load conda\n",
      "conda activate mwas\n",
      "TMPDIR=/dcs04/lieber/statsgen/mnagle/mwas/CpGWAS/temp_temp\n",
      "echo 'Executing Rscript with arguments: Rscript scripts/CLI.R --outdir=./output/ --snp_data_path=/dcs04/lieber/statsgen/shizhong/michael/mwas/gwas/libd_chr1.pgen --methylation_data_path=/dcs04/lieber/statsgen/shizhong/michael/mwas/pheno/dlpfc/out/chr1_all.rda --cov=/dcs04/lieber/statsgen/mnagle/mwas/full_covariates/all_dlpfc.csv --verbose=FALSE --lambda_choice=1se --alphas=0.5 --allow_inefficient_parallelization=FALSE --n_fold=5 --window_sizes=10000 --save_evaluation_results_each_fold=FALSE --save_glmnet_object=FALSE --omit_folds_with_na_r=TRUE --methInput_rds_path=/dcs04/lieber/statsgen/mnagle/mwas/chr1_dfplc_all_methylation_10k_samples_a3.rds --chunk1=8001 --chunk2=10000 --cv_eval_mode=dynamic --num_cores=1 --cores_per_alpha=all --tag=libd_chr1-chr1_all-8001-10000-dynamic-1corestotal-allcorepera-20240403-124320'\n",
      "Rscript scripts/CLI.R --outdir=./output/ --snp_data_path=/dcs04/lieber/statsgen/shizhong/michael/mwas/gwas/libd_chr1.pgen --methylation_data_path=/dcs04/lieber/statsgen/shizhong/michael/mwas/pheno/dlpfc/out/chr1_all.rda --cov=/dcs04/lieber/statsgen/mnagle/mwas/full_covariates/all_dlpfc.csv --verbose=FALSE --lambda_choice=1se --alphas=0.5 --allow_inefficient_parallelization=FALSE --n_fold=5 --window_sizes=10000 --save_evaluation_results_each_fold=FALSE --save_glmnet_object=FALSE --omit_folds_with_na_r=TRUE --methInput_rds_path=/dcs04/lieber/statsgen/mnagle/mwas/chr1_dfplc_all_methylation_10k_samples_a3.rds --chunk1=8001 --chunk2=10000 --cv_eval_mode=dynamic --num_cores=1 --cores_per_alpha=all --tag=libd_chr1-chr1_all-8001-10000-dynamic-1corestotal-allcorepera-20240403-124320\n"
     ]
    },
    {
     "name": "stderr",
     "output_type": "stream",
     "text": [
      "ZZZZzzzz....\n",
      "\n"
     ]
    }
   ],
   "source": [
    "# Constant Arguments Setup\n",
    "constant_args_df <- data.frame(\n",
    "  outdir = \"./output/\",\n",
    "  snp_data_path = \"/dcs04/lieber/statsgen/shizhong/michael/mwas/gwas/libd_chr1.pgen\",\n",
    "  methylation_data_path = \"/dcs04/lieber/statsgen/shizhong/michael/mwas/pheno/dlpfc/out/chr1_all.rda\",\n",
    "  cov = \"/dcs04/lieber/statsgen/mnagle/mwas/full_covariates/all_dlpfc.csv\",\n",
    "  verbose = FALSE,\n",
    "  lambda_choice = \"1se\",\n",
    "  #alphas = \"0,0.25,0.5,0.75,1\",\n",
    "  alphas = 0.5,\n",
    "  allow_inefficient_parallelization = FALSE,\n",
    "  n_fold = 5,\n",
    "  window_sizes = \"10000\",\n",
    "  #window_sizes = \"500000\",\n",
    "  save_evaluation_results_each_fold = FALSE,\n",
    "  save_glmnet_object = FALSE,\n",
    "  omit_folds_with_na_r = TRUE,\n",
    "  methInput_rds_path = \"/dcs04/lieber/statsgen/mnagle/mwas/chr1_dfplc_all_methylation_10k_samples_a3.rds\"\n",
    ")\n",
    "\n",
    "# Varying parameters\n",
    "cv_eval_modes <- c(\"dynamic\")\n",
    "cores_per_alphas <- c(\"all\") #NA)  # Include NA to signify the default value should be used\n",
    "num_cores_options <- c(1)\n",
    "\n",
    "generate_slurm_script <- function(args, tag_pt1, tag_pt2, mem_per_cpu = \"13G\") {\n",
    "  cpus_per_task <- if (is.null(args$num_cores) || args$num_cores == \"all\") {\n",
    "    \"#SBATCH --exclusive\\n\"\n",
    "  } else {\n",
    "    paste0(\"#SBATCH --cpus-per-task=\", args$num_cores, \"\\n\")\n",
    "  }\n",
    "\n",
    "  # Always set mem_per_cpu flag, even in exclusive mode\n",
    "  mem_allocation <- paste0(\"#SBATCH --mem-per-cpu=\", mem_per_cpu, \"\\n\")\n",
    "\n",
    "  args_string <- paste(\"--\", names(args), \"=\", args, sep = \"\", collapse = \" \")\n",
    "  args_string <- paste(args_string, \" --tag=\", tag_pt1, \"-\", tag_pt2, sep = \"\")\n",
    "\n",
    "slurm_script <- paste(\n",
    "  \"#!/bin/bash\\n\",\n",
    "  cpus_per_task,\n",
    "  mem_allocation,\n",
    "  \"#SBATCH --output=slurm_output_\", tag_pt1, \"-\", tag_pt2, \".out\\n\",\n",
    "  \"#SBATCH --job-name=\", tag_pt1, \"-\", tag_pt2, \"\\n\",\n",
    "  \"module load conda\\n\",\n",
    "  \"conda activate mwas\\n\",\n",
    "  \"TMPDIR=/dcs04/lieber/statsgen/mnagle/mwas/CpGWAS/temp_temp\\n\",\n",
    "  \"echo 'Executing Rscript with arguments: Rscript scripts/CLI.R \", args_string, \"'\\n\",\n",
    "  \"Rscript scripts/CLI.R \", args_string, \"\\n\",\n",
    "  sep = \"\"\n",
    ")\n",
    "\n",
    "  return(list(script = slurm_script, path = paste0(\"slurm_scripts/\", tag_pt1, \"-\", tag_pt2, \".sh\")))\n",
    "}\n",
    "\n",
    "# Overwrite flag (set by user)\n",
    "overwrite <- FALSE\n",
    "\n",
    "for (chunk_range in 1:ncol(chunk_ranges)) {\n",
    "  constant_args_df$chunk1 <- chunk_ranges[1, chunk_range]\n",
    "  constant_args_df$chunk2 <- chunk_ranges[2, chunk_range]\n",
    "    # Loop through each combination\n",
    "    for (cv_eval_mode in cv_eval_modes) {\n",
    "      for (cores_per_alpha in cores_per_alphas) {\n",
    "        for (num_cores in num_cores_options) {\n",
    "          # Update constant_args_df for the current combination\n",
    "          constant_args_df$cv_eval_mode <- cv_eval_mode\n",
    "          constant_args_df$num_cores <- num_cores\n",
    "          if (!is.na(cores_per_alpha)) {\n",
    "            constant_args_df$cores_per_alpha <- cores_per_alpha\n",
    "          } else {\n",
    "            constant_args_df$cores_per_alpha <- NULL\n",
    "          }\n",
    "\n",
    "          # Generate tags\n",
    "          snp_base <- tools::file_path_sans_ext(basename(constant_args_df$snp_data_path))\n",
    "          meth_base <- tools::file_path_sans_ext(basename(constant_args_df$methylation_data_path))\n",
    "          datetime_str <- format(Sys.time(), \"%Y%m%d-%H%M%S\")\n",
    "          tag_pt1 <- paste(snp_base, meth_base, format(constant_args_df$chunk1, scientific = FALSE), format(constant_args_df$chunk2, scientific = FALSE), cv_eval_mode, paste0(num_cores, \"corestotal\"), ifelse(is.na(cores_per_alpha), \"defaultcore\", paste0(cores_per_alpha, \"corepera\")), sep = \"-\")\n",
    "          tag_pt2 <- datetime_str\n",
    "\n",
    "          # Check for existing file\n",
    "          existing_files <- list.files(path = constant_args_df$outdir, pattern = tag_pt1, full.names = TRUE)\n",
    "          existing_files <- existing_files[grepl(\"\\\\.rds\", existing_files)]\n",
    "          if (!overwrite && length(existing_files) > 0) {\n",
    "            message(\"File with tag \", tag_pt1, \" already exists. Skipping...\")\n",
    "            next\n",
    "          }\n",
    "\n",
    "          # Generate and print SLURM script\n",
    "          script_info <- generate_slurm_script(constant_args_df, tag_pt1, tag_pt2,\n",
    "                                               mem_per_cpu = \"16G\")\n",
    "\n",
    "          cat(script_info$script)\n",
    "\n",
    "          writeLines(script_info$script, script_info$path)\n",
    "\n",
    "          # Submit the SLURM job using the sbatch command\n",
    "          system(paste(\"sbatch\", script_info$path))\n",
    "\n",
    "          # Implement job submission limits and intervals if necessary\n",
    "          #Sys.sleep(sample(c(1:21), 1))\n",
    "          message(\"ZZZZzzzz....\")\n",
    "        }\n",
    "      }\n",
    "    }\n",
    "}\n"
   ]
  }
 ],
 "metadata": {
  "kernelspec": {
   "display_name": "R",
   "language": "R",
   "name": "ir"
  },
  "language_info": {
   "codemirror_mode": "r",
   "file_extension": ".r",
   "mimetype": "text/x-r-source",
   "name": "R",
   "pygments_lexer": "r",
   "version": "4.3.1"
  }
 },
 "nbformat": 4,
 "nbformat_minor": 5
}
