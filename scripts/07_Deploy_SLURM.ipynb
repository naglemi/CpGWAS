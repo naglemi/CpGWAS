{
 "cells": [
  {
   "cell_type": "markdown",
   "id": "0cb72484-0e2e-4d13-bda9-58fe13e8ae34",
   "metadata": {},
   "source": [
    "# Prep SLURM commands"
   ]
  },
  {
   "cell_type": "code",
   "execution_count": 1,
   "id": "16eddb68-67bf-48d8-9343-a7e48c69b312",
   "metadata": {},
   "outputs": [
    {
     "data": {
      "text/html": [
       "'/dcs04/lieber/statsgen/mnagle/mwas/CpGWAS/scripts'"
      ],
      "text/latex": [
       "'/dcs04/lieber/statsgen/mnagle/mwas/CpGWAS/scripts'"
      ],
      "text/markdown": [
       "'/dcs04/lieber/statsgen/mnagle/mwas/CpGWAS/scripts'"
      ],
      "text/plain": [
       "[1] \"/dcs04/lieber/statsgen/mnagle/mwas/CpGWAS/scripts\""
      ]
     },
     "metadata": {},
     "output_type": "display_data"
    }
   ],
   "source": [
    "getwd()"
   ]
  },
  {
   "cell_type": "code",
   "execution_count": 2,
   "id": "82f55bee-2e04-4858-a040-64869a761882",
   "metadata": {},
   "outputs": [],
   "source": [
    "setwd(\"../\")"
   ]
  },
  {
   "cell_type": "code",
   "execution_count": 3,
   "id": "750b3ac4-4232-4549-b317-faa48852db41",
   "metadata": {},
   "outputs": [
    {
     "name": "stdout",
     "output_type": "stream",
     "text": [
      "     [,1] [,2] [,3] [,4] [,5] [,6] [,7] [,8] [,9] [,10] [,11] [,12] [,13] [,14]\n",
      "[1,]    1  201  401  601  801 1001 1201 1401 1601  1801  2001  2201  2401  2601\n",
      "[2,]  200  400  600  800 1000 1200 1400 1600 1800  2000  2200  2400  2600  2800\n",
      "     [,15] [,16] [,17] [,18] [,19] [,20] [,21] [,22] [,23] [,24] [,25] [,26]\n",
      "[1,]  2801  3001  3201  3401  3601  3801  4001  4201  4401  4601  4801  5001\n",
      "[2,]  3000  3200  3400  3600  3800  4000  4200  4400  4600  4800  5000  5200\n",
      "     [,27] [,28] [,29] [,30] [,31] [,32] [,33] [,34] [,35] [,36] [,37] [,38]\n",
      "[1,]  5201  5401  5601  5801  6001  6201  6401  6601  6801  7001  7201  7401\n",
      "[2,]  5400  5600  5800  6000  6200  6400  6600  6800  7000  7200  7400  7600\n",
      "     [,39] [,40] [,41] [,42] [,43] [,44] [,45] [,46] [,47] [,48] [,49] [,50]\n",
      "[1,]  7601  7801  8001  8201  8401  8601  8801  9001  9201  9401  9601  9801\n",
      "[2,]  7800  8000  8200  8400  8600  8800  9000  9200  9400  9600  9800 10000\n"
     ]
    }
   ],
   "source": [
    "# Function to generate chunk ranges\n",
    "generate_chunk_ranges <- function(start, end, num_chunks) {\n",
    "  chunk_size <- ceiling((end - start + 1) / num_chunks)\n",
    "  chunk_ranges <- sapply(1:num_chunks, function(i) {\n",
    "    chunk_start <- start + (i - 1) * chunk_size\n",
    "    chunk_end <- min(chunk_start + chunk_size - 1, end)\n",
    "    c(chunk_start, chunk_end)\n",
    "  })\n",
    "  return(chunk_ranges)\n",
    "}\n",
    "\n",
    "# Example usage\n",
    "chunk_ranges <- generate_chunk_ranges(1, 10000, 50)\n",
    "print(chunk_ranges)"
   ]
  },
  {
   "cell_type": "code",
   "execution_count": 4,
   "id": "83773ff0-6c58-4904-ab20-6a281d9395b3",
   "metadata": {},
   "outputs": [
    {
     "data": {
      "text/html": [
       "<style>\n",
       ".list-inline {list-style: none; margin:0; padding: 0}\n",
       ".list-inline>li {display: inline-block}\n",
       ".list-inline>li:not(:last-child)::after {content: \"\\00b7\"; padding: 0 .5ex}\n",
       "</style>\n",
       "<ol class=list-inline><li>'chr1_AA_methylation_10k_samples_a2.rds'</li><li>'chr1_AA_methylation_10k_samples_partial.rds'</li><li>'chr1_dfplc_all_methylation_10k_samples_a3.rds'</li><li>'CpGWAS'</li><li>'full_covariates'</li><li>'gwas'</li><li>'model'</li><li>'mwas'</li><li>'pheno'</li></ol>\n"
      ],
      "text/latex": [
       "\\begin{enumerate*}\n",
       "\\item 'chr1\\_AA\\_methylation\\_10k\\_samples\\_a2.rds'\n",
       "\\item 'chr1\\_AA\\_methylation\\_10k\\_samples\\_partial.rds'\n",
       "\\item 'chr1\\_dfplc\\_all\\_methylation\\_10k\\_samples\\_a3.rds'\n",
       "\\item 'CpGWAS'\n",
       "\\item 'full\\_covariates'\n",
       "\\item 'gwas'\n",
       "\\item 'model'\n",
       "\\item 'mwas'\n",
       "\\item 'pheno'\n",
       "\\end{enumerate*}\n"
      ],
      "text/markdown": [
       "1. 'chr1_AA_methylation_10k_samples_a2.rds'\n",
       "2. 'chr1_AA_methylation_10k_samples_partial.rds'\n",
       "3. 'chr1_dfplc_all_methylation_10k_samples_a3.rds'\n",
       "4. 'CpGWAS'\n",
       "5. 'full_covariates'\n",
       "6. 'gwas'\n",
       "7. 'model'\n",
       "8. 'mwas'\n",
       "9. 'pheno'\n",
       "\n",
       "\n"
      ],
      "text/plain": [
       "[1] \"chr1_AA_methylation_10k_samples_a2.rds\"       \n",
       "[2] \"chr1_AA_methylation_10k_samples_partial.rds\"  \n",
       "[3] \"chr1_dfplc_all_methylation_10k_samples_a3.rds\"\n",
       "[4] \"CpGWAS\"                                       \n",
       "[5] \"full_covariates\"                              \n",
       "[6] \"gwas\"                                         \n",
       "[7] \"model\"                                        \n",
       "[8] \"mwas\"                                         \n",
       "[9] \"pheno\"                                        "
      ]
     },
     "metadata": {},
     "output_type": "display_data"
    }
   ],
   "source": [
    "list.files(\"/dcs04/lieber/statsgen/mnagle/mwas/\")"
   ]
  },
  {
   "cell_type": "code",
   "execution_count": 5,
   "id": "bb1308f1-f068-4f2c-8097-cca4fdc14c2b",
   "metadata": {
    "tags": []
   },
   "outputs": [
    {
     "name": "stdout",
     "output_type": "stream",
     "text": [
      "#!/bin/bash\n",
      "#SBATCH --cpus-per-task=1\n",
      "#SBATCH --mem-per-cpu=16G\n",
      "#SBATCH --output=slurm_output_libd_chr1-chr1_all-1-200-dynamic-1corestotal-1corepera-20240324-170418.out\n",
      "#SBATCH --job-name=libd_chr1-chr1_all-1-200-dynamic-1corestotal-1corepera-20240324-170418\n",
      "module load conda\n",
      "conda activate mwas\n",
      "TMPDIR=/dcs04/lieber/statsgen/mnagle/mwas/CpGWAS/temp_temp\n",
      "echo 'Executing Rscript with arguments: Rscript scripts/CLI.R --outdir=./output/ --snp_data_path=/dcs04/lieber/statsgen/shizhong/michael/mwas/gwas/libd_chr1.pgen --methylation_data_path=/dcs04/lieber/statsgen/shizhong/michael/mwas/pheno/dlpfc/out/chr1_all.rda --cov=/dcs04/lieber/statsgen/mnagle/mwas/full_covariates/all_dlpfc.csv --verbose=FALSE --lambda_choice=1se --alphas=1 --allow_inefficient_parallelization=FALSE --n_fold=5 --window_sizes=2000,4000,6000,8000,10000,20000,40000,50000,60000,80000,100000,150000,200000,300000,350000,400000,500000 --save_evaluation_results_each_fold=FALSE --save_glmnet_object=FALSE --omit_folds_with_na_r=TRUE --methInput_rds_path=/dcs04/lieber/statsgen/mnagle/mwas/chr1_dfplc_all_methylation_10k_samples_a3.rds --chunk1=1 --chunk2=200 --cv_eval_mode=dynamic --num_cores=1 --cores_per_alpha=1 --tag=libd_chr1-chr1_all-1-200-dynamic-1corestotal-1corepera-20240324-170418'\n",
      "Rscript scripts/CLI.R --outdir=./output/ --snp_data_path=/dcs04/lieber/statsgen/shizhong/michael/mwas/gwas/libd_chr1.pgen --methylation_data_path=/dcs04/lieber/statsgen/shizhong/michael/mwas/pheno/dlpfc/out/chr1_all.rda --cov=/dcs04/lieber/statsgen/mnagle/mwas/full_covariates/all_dlpfc.csv --verbose=FALSE --lambda_choice=1se --alphas=1 --allow_inefficient_parallelization=FALSE --n_fold=5 --window_sizes=2000,4000,6000,8000,10000,20000,40000,50000,60000,80000,100000,150000,200000,300000,350000,400000,500000 --save_evaluation_results_each_fold=FALSE --save_glmnet_object=FALSE --omit_folds_with_na_r=TRUE --methInput_rds_path=/dcs04/lieber/statsgen/mnagle/mwas/chr1_dfplc_all_methylation_10k_samples_a3.rds --chunk1=1 --chunk2=200 --cv_eval_mode=dynamic --num_cores=1 --cores_per_alpha=1 --tag=libd_chr1-chr1_all-1-200-dynamic-1corestotal-1corepera-20240324-170418\n"
     ]
    },
    {
     "name": "stderr",
     "output_type": "stream",
     "text": [
      "ZZZZzzzz....\n",
      "\n"
     ]
    },
    {
     "name": "stdout",
     "output_type": "stream",
     "text": [
      "#!/bin/bash\n",
      "#SBATCH --cpus-per-task=1\n",
      "#SBATCH --mem-per-cpu=16G\n",
      "#SBATCH --output=slurm_output_libd_chr1-chr1_all-201-400-dynamic-1corestotal-1corepera-20240324-170418.out\n",
      "#SBATCH --job-name=libd_chr1-chr1_all-201-400-dynamic-1corestotal-1corepera-20240324-170418\n",
      "module load conda\n",
      "conda activate mwas\n",
      "TMPDIR=/dcs04/lieber/statsgen/mnagle/mwas/CpGWAS/temp_temp\n",
      "echo 'Executing Rscript with arguments: Rscript scripts/CLI.R --outdir=./output/ --snp_data_path=/dcs04/lieber/statsgen/shizhong/michael/mwas/gwas/libd_chr1.pgen --methylation_data_path=/dcs04/lieber/statsgen/shizhong/michael/mwas/pheno/dlpfc/out/chr1_all.rda --cov=/dcs04/lieber/statsgen/mnagle/mwas/full_covariates/all_dlpfc.csv --verbose=FALSE --lambda_choice=1se --alphas=1 --allow_inefficient_parallelization=FALSE --n_fold=5 --window_sizes=2000,4000,6000,8000,10000,20000,40000,50000,60000,80000,100000,150000,200000,300000,350000,400000,500000 --save_evaluation_results_each_fold=FALSE --save_glmnet_object=FALSE --omit_folds_with_na_r=TRUE --methInput_rds_path=/dcs04/lieber/statsgen/mnagle/mwas/chr1_dfplc_all_methylation_10k_samples_a3.rds --chunk1=201 --chunk2=400 --cv_eval_mode=dynamic --num_cores=1 --cores_per_alpha=1 --tag=libd_chr1-chr1_all-201-400-dynamic-1corestotal-1corepera-20240324-170418'\n",
      "Rscript scripts/CLI.R --outdir=./output/ --snp_data_path=/dcs04/lieber/statsgen/shizhong/michael/mwas/gwas/libd_chr1.pgen --methylation_data_path=/dcs04/lieber/statsgen/shizhong/michael/mwas/pheno/dlpfc/out/chr1_all.rda --cov=/dcs04/lieber/statsgen/mnagle/mwas/full_covariates/all_dlpfc.csv --verbose=FALSE --lambda_choice=1se --alphas=1 --allow_inefficient_parallelization=FALSE --n_fold=5 --window_sizes=2000,4000,6000,8000,10000,20000,40000,50000,60000,80000,100000,150000,200000,300000,350000,400000,500000 --save_evaluation_results_each_fold=FALSE --save_glmnet_object=FALSE --omit_folds_with_na_r=TRUE --methInput_rds_path=/dcs04/lieber/statsgen/mnagle/mwas/chr1_dfplc_all_methylation_10k_samples_a3.rds --chunk1=201 --chunk2=400 --cv_eval_mode=dynamic --num_cores=1 --cores_per_alpha=1 --tag=libd_chr1-chr1_all-201-400-dynamic-1corestotal-1corepera-20240324-170418\n"
     ]
    },
    {
     "name": "stderr",
     "output_type": "stream",
     "text": [
      "ZZZZzzzz....\n",
      "\n"
     ]
    },
    {
     "name": "stdout",
     "output_type": "stream",
     "text": [
      "#!/bin/bash\n",
      "#SBATCH --cpus-per-task=1\n",
      "#SBATCH --mem-per-cpu=16G\n",
      "#SBATCH --output=slurm_output_libd_chr1-chr1_all-401-600-dynamic-1corestotal-1corepera-20240324-170418.out\n",
      "#SBATCH --job-name=libd_chr1-chr1_all-401-600-dynamic-1corestotal-1corepera-20240324-170418\n",
      "module load conda\n",
      "conda activate mwas\n",
      "TMPDIR=/dcs04/lieber/statsgen/mnagle/mwas/CpGWAS/temp_temp\n",
      "echo 'Executing Rscript with arguments: Rscript scripts/CLI.R --outdir=./output/ --snp_data_path=/dcs04/lieber/statsgen/shizhong/michael/mwas/gwas/libd_chr1.pgen --methylation_data_path=/dcs04/lieber/statsgen/shizhong/michael/mwas/pheno/dlpfc/out/chr1_all.rda --cov=/dcs04/lieber/statsgen/mnagle/mwas/full_covariates/all_dlpfc.csv --verbose=FALSE --lambda_choice=1se --alphas=1 --allow_inefficient_parallelization=FALSE --n_fold=5 --window_sizes=2000,4000,6000,8000,10000,20000,40000,50000,60000,80000,100000,150000,200000,300000,350000,400000,500000 --save_evaluation_results_each_fold=FALSE --save_glmnet_object=FALSE --omit_folds_with_na_r=TRUE --methInput_rds_path=/dcs04/lieber/statsgen/mnagle/mwas/chr1_dfplc_all_methylation_10k_samples_a3.rds --chunk1=401 --chunk2=600 --cv_eval_mode=dynamic --num_cores=1 --cores_per_alpha=1 --tag=libd_chr1-chr1_all-401-600-dynamic-1corestotal-1corepera-20240324-170418'\n",
      "Rscript scripts/CLI.R --outdir=./output/ --snp_data_path=/dcs04/lieber/statsgen/shizhong/michael/mwas/gwas/libd_chr1.pgen --methylation_data_path=/dcs04/lieber/statsgen/shizhong/michael/mwas/pheno/dlpfc/out/chr1_all.rda --cov=/dcs04/lieber/statsgen/mnagle/mwas/full_covariates/all_dlpfc.csv --verbose=FALSE --lambda_choice=1se --alphas=1 --allow_inefficient_parallelization=FALSE --n_fold=5 --window_sizes=2000,4000,6000,8000,10000,20000,40000,50000,60000,80000,100000,150000,200000,300000,350000,400000,500000 --save_evaluation_results_each_fold=FALSE --save_glmnet_object=FALSE --omit_folds_with_na_r=TRUE --methInput_rds_path=/dcs04/lieber/statsgen/mnagle/mwas/chr1_dfplc_all_methylation_10k_samples_a3.rds --chunk1=401 --chunk2=600 --cv_eval_mode=dynamic --num_cores=1 --cores_per_alpha=1 --tag=libd_chr1-chr1_all-401-600-dynamic-1corestotal-1corepera-20240324-170418\n"
     ]
    },
    {
     "name": "stderr",
     "output_type": "stream",
     "text": [
      "ZZZZzzzz....\n",
      "\n"
     ]
    },
    {
     "name": "stdout",
     "output_type": "stream",
     "text": [
      "#!/bin/bash\n",
      "#SBATCH --cpus-per-task=1\n",
      "#SBATCH --mem-per-cpu=16G\n",
      "#SBATCH --output=slurm_output_libd_chr1-chr1_all-601-800-dynamic-1corestotal-1corepera-20240324-170418.out\n",
      "#SBATCH --job-name=libd_chr1-chr1_all-601-800-dynamic-1corestotal-1corepera-20240324-170418\n",
      "module load conda\n",
      "conda activate mwas\n",
      "TMPDIR=/dcs04/lieber/statsgen/mnagle/mwas/CpGWAS/temp_temp\n",
      "echo 'Executing Rscript with arguments: Rscript scripts/CLI.R --outdir=./output/ --snp_data_path=/dcs04/lieber/statsgen/shizhong/michael/mwas/gwas/libd_chr1.pgen --methylation_data_path=/dcs04/lieber/statsgen/shizhong/michael/mwas/pheno/dlpfc/out/chr1_all.rda --cov=/dcs04/lieber/statsgen/mnagle/mwas/full_covariates/all_dlpfc.csv --verbose=FALSE --lambda_choice=1se --alphas=1 --allow_inefficient_parallelization=FALSE --n_fold=5 --window_sizes=2000,4000,6000,8000,10000,20000,40000,50000,60000,80000,100000,150000,200000,300000,350000,400000,500000 --save_evaluation_results_each_fold=FALSE --save_glmnet_object=FALSE --omit_folds_with_na_r=TRUE --methInput_rds_path=/dcs04/lieber/statsgen/mnagle/mwas/chr1_dfplc_all_methylation_10k_samples_a3.rds --chunk1=601 --chunk2=800 --cv_eval_mode=dynamic --num_cores=1 --cores_per_alpha=1 --tag=libd_chr1-chr1_all-601-800-dynamic-1corestotal-1corepera-20240324-170418'\n",
      "Rscript scripts/CLI.R --outdir=./output/ --snp_data_path=/dcs04/lieber/statsgen/shizhong/michael/mwas/gwas/libd_chr1.pgen --methylation_data_path=/dcs04/lieber/statsgen/shizhong/michael/mwas/pheno/dlpfc/out/chr1_all.rda --cov=/dcs04/lieber/statsgen/mnagle/mwas/full_covariates/all_dlpfc.csv --verbose=FALSE --lambda_choice=1se --alphas=1 --allow_inefficient_parallelization=FALSE --n_fold=5 --window_sizes=2000,4000,6000,8000,10000,20000,40000,50000,60000,80000,100000,150000,200000,300000,350000,400000,500000 --save_evaluation_results_each_fold=FALSE --save_glmnet_object=FALSE --omit_folds_with_na_r=TRUE --methInput_rds_path=/dcs04/lieber/statsgen/mnagle/mwas/chr1_dfplc_all_methylation_10k_samples_a3.rds --chunk1=601 --chunk2=800 --cv_eval_mode=dynamic --num_cores=1 --cores_per_alpha=1 --tag=libd_chr1-chr1_all-601-800-dynamic-1corestotal-1corepera-20240324-170418\n"
     ]
    },
    {
     "name": "stderr",
     "output_type": "stream",
     "text": [
      "ZZZZzzzz....\n",
      "\n"
     ]
    },
    {
     "name": "stdout",
     "output_type": "stream",
     "text": [
      "#!/bin/bash\n",
      "#SBATCH --cpus-per-task=1\n",
      "#SBATCH --mem-per-cpu=16G\n",
      "#SBATCH --output=slurm_output_libd_chr1-chr1_all-801-1000-dynamic-1corestotal-1corepera-20240324-170418.out\n",
      "#SBATCH --job-name=libd_chr1-chr1_all-801-1000-dynamic-1corestotal-1corepera-20240324-170418\n",
      "module load conda\n",
      "conda activate mwas\n",
      "TMPDIR=/dcs04/lieber/statsgen/mnagle/mwas/CpGWAS/temp_temp\n",
      "echo 'Executing Rscript with arguments: Rscript scripts/CLI.R --outdir=./output/ --snp_data_path=/dcs04/lieber/statsgen/shizhong/michael/mwas/gwas/libd_chr1.pgen --methylation_data_path=/dcs04/lieber/statsgen/shizhong/michael/mwas/pheno/dlpfc/out/chr1_all.rda --cov=/dcs04/lieber/statsgen/mnagle/mwas/full_covariates/all_dlpfc.csv --verbose=FALSE --lambda_choice=1se --alphas=1 --allow_inefficient_parallelization=FALSE --n_fold=5 --window_sizes=2000,4000,6000,8000,10000,20000,40000,50000,60000,80000,100000,150000,200000,300000,350000,400000,500000 --save_evaluation_results_each_fold=FALSE --save_glmnet_object=FALSE --omit_folds_with_na_r=TRUE --methInput_rds_path=/dcs04/lieber/statsgen/mnagle/mwas/chr1_dfplc_all_methylation_10k_samples_a3.rds --chunk1=801 --chunk2=1000 --cv_eval_mode=dynamic --num_cores=1 --cores_per_alpha=1 --tag=libd_chr1-chr1_all-801-1000-dynamic-1corestotal-1corepera-20240324-170418'\n",
      "Rscript scripts/CLI.R --outdir=./output/ --snp_data_path=/dcs04/lieber/statsgen/shizhong/michael/mwas/gwas/libd_chr1.pgen --methylation_data_path=/dcs04/lieber/statsgen/shizhong/michael/mwas/pheno/dlpfc/out/chr1_all.rda --cov=/dcs04/lieber/statsgen/mnagle/mwas/full_covariates/all_dlpfc.csv --verbose=FALSE --lambda_choice=1se --alphas=1 --allow_inefficient_parallelization=FALSE --n_fold=5 --window_sizes=2000,4000,6000,8000,10000,20000,40000,50000,60000,80000,100000,150000,200000,300000,350000,400000,500000 --save_evaluation_results_each_fold=FALSE --save_glmnet_object=FALSE --omit_folds_with_na_r=TRUE --methInput_rds_path=/dcs04/lieber/statsgen/mnagle/mwas/chr1_dfplc_all_methylation_10k_samples_a3.rds --chunk1=801 --chunk2=1000 --cv_eval_mode=dynamic --num_cores=1 --cores_per_alpha=1 --tag=libd_chr1-chr1_all-801-1000-dynamic-1corestotal-1corepera-20240324-170418\n"
     ]
    },
    {
     "name": "stderr",
     "output_type": "stream",
     "text": [
      "ZZZZzzzz....\n",
      "\n"
     ]
    },
    {
     "name": "stdout",
     "output_type": "stream",
     "text": [
      "#!/bin/bash\n",
      "#SBATCH --cpus-per-task=1\n",
      "#SBATCH --mem-per-cpu=16G\n",
      "#SBATCH --output=slurm_output_libd_chr1-chr1_all-1001-1200-dynamic-1corestotal-1corepera-20240324-170418.out\n",
      "#SBATCH --job-name=libd_chr1-chr1_all-1001-1200-dynamic-1corestotal-1corepera-20240324-170418\n",
      "module load conda\n",
      "conda activate mwas\n",
      "TMPDIR=/dcs04/lieber/statsgen/mnagle/mwas/CpGWAS/temp_temp\n",
      "echo 'Executing Rscript with arguments: Rscript scripts/CLI.R --outdir=./output/ --snp_data_path=/dcs04/lieber/statsgen/shizhong/michael/mwas/gwas/libd_chr1.pgen --methylation_data_path=/dcs04/lieber/statsgen/shizhong/michael/mwas/pheno/dlpfc/out/chr1_all.rda --cov=/dcs04/lieber/statsgen/mnagle/mwas/full_covariates/all_dlpfc.csv --verbose=FALSE --lambda_choice=1se --alphas=1 --allow_inefficient_parallelization=FALSE --n_fold=5 --window_sizes=2000,4000,6000,8000,10000,20000,40000,50000,60000,80000,100000,150000,200000,300000,350000,400000,500000 --save_evaluation_results_each_fold=FALSE --save_glmnet_object=FALSE --omit_folds_with_na_r=TRUE --methInput_rds_path=/dcs04/lieber/statsgen/mnagle/mwas/chr1_dfplc_all_methylation_10k_samples_a3.rds --chunk1=1001 --chunk2=1200 --cv_eval_mode=dynamic --num_cores=1 --cores_per_alpha=1 --tag=libd_chr1-chr1_all-1001-1200-dynamic-1corestotal-1corepera-20240324-170418'\n",
      "Rscript scripts/CLI.R --outdir=./output/ --snp_data_path=/dcs04/lieber/statsgen/shizhong/michael/mwas/gwas/libd_chr1.pgen --methylation_data_path=/dcs04/lieber/statsgen/shizhong/michael/mwas/pheno/dlpfc/out/chr1_all.rda --cov=/dcs04/lieber/statsgen/mnagle/mwas/full_covariates/all_dlpfc.csv --verbose=FALSE --lambda_choice=1se --alphas=1 --allow_inefficient_parallelization=FALSE --n_fold=5 --window_sizes=2000,4000,6000,8000,10000,20000,40000,50000,60000,80000,100000,150000,200000,300000,350000,400000,500000 --save_evaluation_results_each_fold=FALSE --save_glmnet_object=FALSE --omit_folds_with_na_r=TRUE --methInput_rds_path=/dcs04/lieber/statsgen/mnagle/mwas/chr1_dfplc_all_methylation_10k_samples_a3.rds --chunk1=1001 --chunk2=1200 --cv_eval_mode=dynamic --num_cores=1 --cores_per_alpha=1 --tag=libd_chr1-chr1_all-1001-1200-dynamic-1corestotal-1corepera-20240324-170418\n"
     ]
    },
    {
     "name": "stderr",
     "output_type": "stream",
     "text": [
      "ZZZZzzzz....\n",
      "\n"
     ]
    },
    {
     "name": "stdout",
     "output_type": "stream",
     "text": [
      "#!/bin/bash\n",
      "#SBATCH --cpus-per-task=1\n",
      "#SBATCH --mem-per-cpu=16G\n",
      "#SBATCH --output=slurm_output_libd_chr1-chr1_all-1201-1400-dynamic-1corestotal-1corepera-20240324-170418.out\n",
      "#SBATCH --job-name=libd_chr1-chr1_all-1201-1400-dynamic-1corestotal-1corepera-20240324-170418\n",
      "module load conda\n",
      "conda activate mwas\n",
      "TMPDIR=/dcs04/lieber/statsgen/mnagle/mwas/CpGWAS/temp_temp\n",
      "echo 'Executing Rscript with arguments: Rscript scripts/CLI.R --outdir=./output/ --snp_data_path=/dcs04/lieber/statsgen/shizhong/michael/mwas/gwas/libd_chr1.pgen --methylation_data_path=/dcs04/lieber/statsgen/shizhong/michael/mwas/pheno/dlpfc/out/chr1_all.rda --cov=/dcs04/lieber/statsgen/mnagle/mwas/full_covariates/all_dlpfc.csv --verbose=FALSE --lambda_choice=1se --alphas=1 --allow_inefficient_parallelization=FALSE --n_fold=5 --window_sizes=2000,4000,6000,8000,10000,20000,40000,50000,60000,80000,100000,150000,200000,300000,350000,400000,500000 --save_evaluation_results_each_fold=FALSE --save_glmnet_object=FALSE --omit_folds_with_na_r=TRUE --methInput_rds_path=/dcs04/lieber/statsgen/mnagle/mwas/chr1_dfplc_all_methylation_10k_samples_a3.rds --chunk1=1201 --chunk2=1400 --cv_eval_mode=dynamic --num_cores=1 --cores_per_alpha=1 --tag=libd_chr1-chr1_all-1201-1400-dynamic-1corestotal-1corepera-20240324-170418'\n",
      "Rscript scripts/CLI.R --outdir=./output/ --snp_data_path=/dcs04/lieber/statsgen/shizhong/michael/mwas/gwas/libd_chr1.pgen --methylation_data_path=/dcs04/lieber/statsgen/shizhong/michael/mwas/pheno/dlpfc/out/chr1_all.rda --cov=/dcs04/lieber/statsgen/mnagle/mwas/full_covariates/all_dlpfc.csv --verbose=FALSE --lambda_choice=1se --alphas=1 --allow_inefficient_parallelization=FALSE --n_fold=5 --window_sizes=2000,4000,6000,8000,10000,20000,40000,50000,60000,80000,100000,150000,200000,300000,350000,400000,500000 --save_evaluation_results_each_fold=FALSE --save_glmnet_object=FALSE --omit_folds_with_na_r=TRUE --methInput_rds_path=/dcs04/lieber/statsgen/mnagle/mwas/chr1_dfplc_all_methylation_10k_samples_a3.rds --chunk1=1201 --chunk2=1400 --cv_eval_mode=dynamic --num_cores=1 --cores_per_alpha=1 --tag=libd_chr1-chr1_all-1201-1400-dynamic-1corestotal-1corepera-20240324-170418\n"
     ]
    },
    {
     "name": "stderr",
     "output_type": "stream",
     "text": [
      "ZZZZzzzz....\n",
      "\n"
     ]
    },
    {
     "name": "stdout",
     "output_type": "stream",
     "text": [
      "#!/bin/bash\n",
      "#SBATCH --cpus-per-task=1\n",
      "#SBATCH --mem-per-cpu=16G\n",
      "#SBATCH --output=slurm_output_libd_chr1-chr1_all-1401-1600-dynamic-1corestotal-1corepera-20240324-170418.out\n",
      "#SBATCH --job-name=libd_chr1-chr1_all-1401-1600-dynamic-1corestotal-1corepera-20240324-170418\n",
      "module load conda\n",
      "conda activate mwas\n",
      "TMPDIR=/dcs04/lieber/statsgen/mnagle/mwas/CpGWAS/temp_temp\n",
      "echo 'Executing Rscript with arguments: Rscript scripts/CLI.R --outdir=./output/ --snp_data_path=/dcs04/lieber/statsgen/shizhong/michael/mwas/gwas/libd_chr1.pgen --methylation_data_path=/dcs04/lieber/statsgen/shizhong/michael/mwas/pheno/dlpfc/out/chr1_all.rda --cov=/dcs04/lieber/statsgen/mnagle/mwas/full_covariates/all_dlpfc.csv --verbose=FALSE --lambda_choice=1se --alphas=1 --allow_inefficient_parallelization=FALSE --n_fold=5 --window_sizes=2000,4000,6000,8000,10000,20000,40000,50000,60000,80000,100000,150000,200000,300000,350000,400000,500000 --save_evaluation_results_each_fold=FALSE --save_glmnet_object=FALSE --omit_folds_with_na_r=TRUE --methInput_rds_path=/dcs04/lieber/statsgen/mnagle/mwas/chr1_dfplc_all_methylation_10k_samples_a3.rds --chunk1=1401 --chunk2=1600 --cv_eval_mode=dynamic --num_cores=1 --cores_per_alpha=1 --tag=libd_chr1-chr1_all-1401-1600-dynamic-1corestotal-1corepera-20240324-170418'\n",
      "Rscript scripts/CLI.R --outdir=./output/ --snp_data_path=/dcs04/lieber/statsgen/shizhong/michael/mwas/gwas/libd_chr1.pgen --methylation_data_path=/dcs04/lieber/statsgen/shizhong/michael/mwas/pheno/dlpfc/out/chr1_all.rda --cov=/dcs04/lieber/statsgen/mnagle/mwas/full_covariates/all_dlpfc.csv --verbose=FALSE --lambda_choice=1se --alphas=1 --allow_inefficient_parallelization=FALSE --n_fold=5 --window_sizes=2000,4000,6000,8000,10000,20000,40000,50000,60000,80000,100000,150000,200000,300000,350000,400000,500000 --save_evaluation_results_each_fold=FALSE --save_glmnet_object=FALSE --omit_folds_with_na_r=TRUE --methInput_rds_path=/dcs04/lieber/statsgen/mnagle/mwas/chr1_dfplc_all_methylation_10k_samples_a3.rds --chunk1=1401 --chunk2=1600 --cv_eval_mode=dynamic --num_cores=1 --cores_per_alpha=1 --tag=libd_chr1-chr1_all-1401-1600-dynamic-1corestotal-1corepera-20240324-170418\n"
     ]
    },
    {
     "name": "stderr",
     "output_type": "stream",
     "text": [
      "ZZZZzzzz....\n",
      "\n"
     ]
    },
    {
     "name": "stdout",
     "output_type": "stream",
     "text": [
      "#!/bin/bash\n",
      "#SBATCH --cpus-per-task=1\n",
      "#SBATCH --mem-per-cpu=16G\n",
      "#SBATCH --output=slurm_output_libd_chr1-chr1_all-1601-1800-dynamic-1corestotal-1corepera-20240324-170418.out\n",
      "#SBATCH --job-name=libd_chr1-chr1_all-1601-1800-dynamic-1corestotal-1corepera-20240324-170418\n",
      "module load conda\n",
      "conda activate mwas\n",
      "TMPDIR=/dcs04/lieber/statsgen/mnagle/mwas/CpGWAS/temp_temp\n",
      "echo 'Executing Rscript with arguments: Rscript scripts/CLI.R --outdir=./output/ --snp_data_path=/dcs04/lieber/statsgen/shizhong/michael/mwas/gwas/libd_chr1.pgen --methylation_data_path=/dcs04/lieber/statsgen/shizhong/michael/mwas/pheno/dlpfc/out/chr1_all.rda --cov=/dcs04/lieber/statsgen/mnagle/mwas/full_covariates/all_dlpfc.csv --verbose=FALSE --lambda_choice=1se --alphas=1 --allow_inefficient_parallelization=FALSE --n_fold=5 --window_sizes=2000,4000,6000,8000,10000,20000,40000,50000,60000,80000,100000,150000,200000,300000,350000,400000,500000 --save_evaluation_results_each_fold=FALSE --save_glmnet_object=FALSE --omit_folds_with_na_r=TRUE --methInput_rds_path=/dcs04/lieber/statsgen/mnagle/mwas/chr1_dfplc_all_methylation_10k_samples_a3.rds --chunk1=1601 --chunk2=1800 --cv_eval_mode=dynamic --num_cores=1 --cores_per_alpha=1 --tag=libd_chr1-chr1_all-1601-1800-dynamic-1corestotal-1corepera-20240324-170418'\n",
      "Rscript scripts/CLI.R --outdir=./output/ --snp_data_path=/dcs04/lieber/statsgen/shizhong/michael/mwas/gwas/libd_chr1.pgen --methylation_data_path=/dcs04/lieber/statsgen/shizhong/michael/mwas/pheno/dlpfc/out/chr1_all.rda --cov=/dcs04/lieber/statsgen/mnagle/mwas/full_covariates/all_dlpfc.csv --verbose=FALSE --lambda_choice=1se --alphas=1 --allow_inefficient_parallelization=FALSE --n_fold=5 --window_sizes=2000,4000,6000,8000,10000,20000,40000,50000,60000,80000,100000,150000,200000,300000,350000,400000,500000 --save_evaluation_results_each_fold=FALSE --save_glmnet_object=FALSE --omit_folds_with_na_r=TRUE --methInput_rds_path=/dcs04/lieber/statsgen/mnagle/mwas/chr1_dfplc_all_methylation_10k_samples_a3.rds --chunk1=1601 --chunk2=1800 --cv_eval_mode=dynamic --num_cores=1 --cores_per_alpha=1 --tag=libd_chr1-chr1_all-1601-1800-dynamic-1corestotal-1corepera-20240324-170418\n"
     ]
    },
    {
     "name": "stderr",
     "output_type": "stream",
     "text": [
      "ZZZZzzzz....\n",
      "\n"
     ]
    },
    {
     "name": "stdout",
     "output_type": "stream",
     "text": [
      "#!/bin/bash\n",
      "#SBATCH --cpus-per-task=1\n",
      "#SBATCH --mem-per-cpu=16G\n",
      "#SBATCH --output=slurm_output_libd_chr1-chr1_all-1801-2000-dynamic-1corestotal-1corepera-20240324-170418.out\n",
      "#SBATCH --job-name=libd_chr1-chr1_all-1801-2000-dynamic-1corestotal-1corepera-20240324-170418\n",
      "module load conda\n",
      "conda activate mwas\n",
      "TMPDIR=/dcs04/lieber/statsgen/mnagle/mwas/CpGWAS/temp_temp\n",
      "echo 'Executing Rscript with arguments: Rscript scripts/CLI.R --outdir=./output/ --snp_data_path=/dcs04/lieber/statsgen/shizhong/michael/mwas/gwas/libd_chr1.pgen --methylation_data_path=/dcs04/lieber/statsgen/shizhong/michael/mwas/pheno/dlpfc/out/chr1_all.rda --cov=/dcs04/lieber/statsgen/mnagle/mwas/full_covariates/all_dlpfc.csv --verbose=FALSE --lambda_choice=1se --alphas=1 --allow_inefficient_parallelization=FALSE --n_fold=5 --window_sizes=2000,4000,6000,8000,10000,20000,40000,50000,60000,80000,100000,150000,200000,300000,350000,400000,500000 --save_evaluation_results_each_fold=FALSE --save_glmnet_object=FALSE --omit_folds_with_na_r=TRUE --methInput_rds_path=/dcs04/lieber/statsgen/mnagle/mwas/chr1_dfplc_all_methylation_10k_samples_a3.rds --chunk1=1801 --chunk2=2000 --cv_eval_mode=dynamic --num_cores=1 --cores_per_alpha=1 --tag=libd_chr1-chr1_all-1801-2000-dynamic-1corestotal-1corepera-20240324-170418'\n",
      "Rscript scripts/CLI.R --outdir=./output/ --snp_data_path=/dcs04/lieber/statsgen/shizhong/michael/mwas/gwas/libd_chr1.pgen --methylation_data_path=/dcs04/lieber/statsgen/shizhong/michael/mwas/pheno/dlpfc/out/chr1_all.rda --cov=/dcs04/lieber/statsgen/mnagle/mwas/full_covariates/all_dlpfc.csv --verbose=FALSE --lambda_choice=1se --alphas=1 --allow_inefficient_parallelization=FALSE --n_fold=5 --window_sizes=2000,4000,6000,8000,10000,20000,40000,50000,60000,80000,100000,150000,200000,300000,350000,400000,500000 --save_evaluation_results_each_fold=FALSE --save_glmnet_object=FALSE --omit_folds_with_na_r=TRUE --methInput_rds_path=/dcs04/lieber/statsgen/mnagle/mwas/chr1_dfplc_all_methylation_10k_samples_a3.rds --chunk1=1801 --chunk2=2000 --cv_eval_mode=dynamic --num_cores=1 --cores_per_alpha=1 --tag=libd_chr1-chr1_all-1801-2000-dynamic-1corestotal-1corepera-20240324-170418\n"
     ]
    },
    {
     "name": "stderr",
     "output_type": "stream",
     "text": [
      "ZZZZzzzz....\n",
      "\n"
     ]
    },
    {
     "name": "stdout",
     "output_type": "stream",
     "text": [
      "#!/bin/bash\n",
      "#SBATCH --cpus-per-task=1\n",
      "#SBATCH --mem-per-cpu=16G\n",
      "#SBATCH --output=slurm_output_libd_chr1-chr1_all-2001-2200-dynamic-1corestotal-1corepera-20240324-170418.out\n",
      "#SBATCH --job-name=libd_chr1-chr1_all-2001-2200-dynamic-1corestotal-1corepera-20240324-170418\n",
      "module load conda\n",
      "conda activate mwas\n",
      "TMPDIR=/dcs04/lieber/statsgen/mnagle/mwas/CpGWAS/temp_temp\n",
      "echo 'Executing Rscript with arguments: Rscript scripts/CLI.R --outdir=./output/ --snp_data_path=/dcs04/lieber/statsgen/shizhong/michael/mwas/gwas/libd_chr1.pgen --methylation_data_path=/dcs04/lieber/statsgen/shizhong/michael/mwas/pheno/dlpfc/out/chr1_all.rda --cov=/dcs04/lieber/statsgen/mnagle/mwas/full_covariates/all_dlpfc.csv --verbose=FALSE --lambda_choice=1se --alphas=1 --allow_inefficient_parallelization=FALSE --n_fold=5 --window_sizes=2000,4000,6000,8000,10000,20000,40000,50000,60000,80000,100000,150000,200000,300000,350000,400000,500000 --save_evaluation_results_each_fold=FALSE --save_glmnet_object=FALSE --omit_folds_with_na_r=TRUE --methInput_rds_path=/dcs04/lieber/statsgen/mnagle/mwas/chr1_dfplc_all_methylation_10k_samples_a3.rds --chunk1=2001 --chunk2=2200 --cv_eval_mode=dynamic --num_cores=1 --cores_per_alpha=1 --tag=libd_chr1-chr1_all-2001-2200-dynamic-1corestotal-1corepera-20240324-170418'\n",
      "Rscript scripts/CLI.R --outdir=./output/ --snp_data_path=/dcs04/lieber/statsgen/shizhong/michael/mwas/gwas/libd_chr1.pgen --methylation_data_path=/dcs04/lieber/statsgen/shizhong/michael/mwas/pheno/dlpfc/out/chr1_all.rda --cov=/dcs04/lieber/statsgen/mnagle/mwas/full_covariates/all_dlpfc.csv --verbose=FALSE --lambda_choice=1se --alphas=1 --allow_inefficient_parallelization=FALSE --n_fold=5 --window_sizes=2000,4000,6000,8000,10000,20000,40000,50000,60000,80000,100000,150000,200000,300000,350000,400000,500000 --save_evaluation_results_each_fold=FALSE --save_glmnet_object=FALSE --omit_folds_with_na_r=TRUE --methInput_rds_path=/dcs04/lieber/statsgen/mnagle/mwas/chr1_dfplc_all_methylation_10k_samples_a3.rds --chunk1=2001 --chunk2=2200 --cv_eval_mode=dynamic --num_cores=1 --cores_per_alpha=1 --tag=libd_chr1-chr1_all-2001-2200-dynamic-1corestotal-1corepera-20240324-170418\n"
     ]
    },
    {
     "name": "stderr",
     "output_type": "stream",
     "text": [
      "ZZZZzzzz....\n",
      "\n"
     ]
    },
    {
     "name": "stdout",
     "output_type": "stream",
     "text": [
      "#!/bin/bash\n",
      "#SBATCH --cpus-per-task=1\n",
      "#SBATCH --mem-per-cpu=16G\n",
      "#SBATCH --output=slurm_output_libd_chr1-chr1_all-2201-2400-dynamic-1corestotal-1corepera-20240324-170418.out\n",
      "#SBATCH --job-name=libd_chr1-chr1_all-2201-2400-dynamic-1corestotal-1corepera-20240324-170418\n",
      "module load conda\n",
      "conda activate mwas\n",
      "TMPDIR=/dcs04/lieber/statsgen/mnagle/mwas/CpGWAS/temp_temp\n",
      "echo 'Executing Rscript with arguments: Rscript scripts/CLI.R --outdir=./output/ --snp_data_path=/dcs04/lieber/statsgen/shizhong/michael/mwas/gwas/libd_chr1.pgen --methylation_data_path=/dcs04/lieber/statsgen/shizhong/michael/mwas/pheno/dlpfc/out/chr1_all.rda --cov=/dcs04/lieber/statsgen/mnagle/mwas/full_covariates/all_dlpfc.csv --verbose=FALSE --lambda_choice=1se --alphas=1 --allow_inefficient_parallelization=FALSE --n_fold=5 --window_sizes=2000,4000,6000,8000,10000,20000,40000,50000,60000,80000,100000,150000,200000,300000,350000,400000,500000 --save_evaluation_results_each_fold=FALSE --save_glmnet_object=FALSE --omit_folds_with_na_r=TRUE --methInput_rds_path=/dcs04/lieber/statsgen/mnagle/mwas/chr1_dfplc_all_methylation_10k_samples_a3.rds --chunk1=2201 --chunk2=2400 --cv_eval_mode=dynamic --num_cores=1 --cores_per_alpha=1 --tag=libd_chr1-chr1_all-2201-2400-dynamic-1corestotal-1corepera-20240324-170418'\n",
      "Rscript scripts/CLI.R --outdir=./output/ --snp_data_path=/dcs04/lieber/statsgen/shizhong/michael/mwas/gwas/libd_chr1.pgen --methylation_data_path=/dcs04/lieber/statsgen/shizhong/michael/mwas/pheno/dlpfc/out/chr1_all.rda --cov=/dcs04/lieber/statsgen/mnagle/mwas/full_covariates/all_dlpfc.csv --verbose=FALSE --lambda_choice=1se --alphas=1 --allow_inefficient_parallelization=FALSE --n_fold=5 --window_sizes=2000,4000,6000,8000,10000,20000,40000,50000,60000,80000,100000,150000,200000,300000,350000,400000,500000 --save_evaluation_results_each_fold=FALSE --save_glmnet_object=FALSE --omit_folds_with_na_r=TRUE --methInput_rds_path=/dcs04/lieber/statsgen/mnagle/mwas/chr1_dfplc_all_methylation_10k_samples_a3.rds --chunk1=2201 --chunk2=2400 --cv_eval_mode=dynamic --num_cores=1 --cores_per_alpha=1 --tag=libd_chr1-chr1_all-2201-2400-dynamic-1corestotal-1corepera-20240324-170418\n"
     ]
    },
    {
     "name": "stderr",
     "output_type": "stream",
     "text": [
      "ZZZZzzzz....\n",
      "\n"
     ]
    },
    {
     "name": "stdout",
     "output_type": "stream",
     "text": [
      "#!/bin/bash\n",
      "#SBATCH --cpus-per-task=1\n",
      "#SBATCH --mem-per-cpu=16G\n",
      "#SBATCH --output=slurm_output_libd_chr1-chr1_all-2401-2600-dynamic-1corestotal-1corepera-20240324-170418.out\n",
      "#SBATCH --job-name=libd_chr1-chr1_all-2401-2600-dynamic-1corestotal-1corepera-20240324-170418\n",
      "module load conda\n",
      "conda activate mwas\n",
      "TMPDIR=/dcs04/lieber/statsgen/mnagle/mwas/CpGWAS/temp_temp\n",
      "echo 'Executing Rscript with arguments: Rscript scripts/CLI.R --outdir=./output/ --snp_data_path=/dcs04/lieber/statsgen/shizhong/michael/mwas/gwas/libd_chr1.pgen --methylation_data_path=/dcs04/lieber/statsgen/shizhong/michael/mwas/pheno/dlpfc/out/chr1_all.rda --cov=/dcs04/lieber/statsgen/mnagle/mwas/full_covariates/all_dlpfc.csv --verbose=FALSE --lambda_choice=1se --alphas=1 --allow_inefficient_parallelization=FALSE --n_fold=5 --window_sizes=2000,4000,6000,8000,10000,20000,40000,50000,60000,80000,100000,150000,200000,300000,350000,400000,500000 --save_evaluation_results_each_fold=FALSE --save_glmnet_object=FALSE --omit_folds_with_na_r=TRUE --methInput_rds_path=/dcs04/lieber/statsgen/mnagle/mwas/chr1_dfplc_all_methylation_10k_samples_a3.rds --chunk1=2401 --chunk2=2600 --cv_eval_mode=dynamic --num_cores=1 --cores_per_alpha=1 --tag=libd_chr1-chr1_all-2401-2600-dynamic-1corestotal-1corepera-20240324-170418'\n",
      "Rscript scripts/CLI.R --outdir=./output/ --snp_data_path=/dcs04/lieber/statsgen/shizhong/michael/mwas/gwas/libd_chr1.pgen --methylation_data_path=/dcs04/lieber/statsgen/shizhong/michael/mwas/pheno/dlpfc/out/chr1_all.rda --cov=/dcs04/lieber/statsgen/mnagle/mwas/full_covariates/all_dlpfc.csv --verbose=FALSE --lambda_choice=1se --alphas=1 --allow_inefficient_parallelization=FALSE --n_fold=5 --window_sizes=2000,4000,6000,8000,10000,20000,40000,50000,60000,80000,100000,150000,200000,300000,350000,400000,500000 --save_evaluation_results_each_fold=FALSE --save_glmnet_object=FALSE --omit_folds_with_na_r=TRUE --methInput_rds_path=/dcs04/lieber/statsgen/mnagle/mwas/chr1_dfplc_all_methylation_10k_samples_a3.rds --chunk1=2401 --chunk2=2600 --cv_eval_mode=dynamic --num_cores=1 --cores_per_alpha=1 --tag=libd_chr1-chr1_all-2401-2600-dynamic-1corestotal-1corepera-20240324-170418\n"
     ]
    },
    {
     "name": "stderr",
     "output_type": "stream",
     "text": [
      "ZZZZzzzz....\n",
      "\n"
     ]
    },
    {
     "name": "stdout",
     "output_type": "stream",
     "text": [
      "#!/bin/bash\n",
      "#SBATCH --cpus-per-task=1\n",
      "#SBATCH --mem-per-cpu=16G\n",
      "#SBATCH --output=slurm_output_libd_chr1-chr1_all-2601-2800-dynamic-1corestotal-1corepera-20240324-170418.out\n",
      "#SBATCH --job-name=libd_chr1-chr1_all-2601-2800-dynamic-1corestotal-1corepera-20240324-170418\n",
      "module load conda\n",
      "conda activate mwas\n",
      "TMPDIR=/dcs04/lieber/statsgen/mnagle/mwas/CpGWAS/temp_temp\n",
      "echo 'Executing Rscript with arguments: Rscript scripts/CLI.R --outdir=./output/ --snp_data_path=/dcs04/lieber/statsgen/shizhong/michael/mwas/gwas/libd_chr1.pgen --methylation_data_path=/dcs04/lieber/statsgen/shizhong/michael/mwas/pheno/dlpfc/out/chr1_all.rda --cov=/dcs04/lieber/statsgen/mnagle/mwas/full_covariates/all_dlpfc.csv --verbose=FALSE --lambda_choice=1se --alphas=1 --allow_inefficient_parallelization=FALSE --n_fold=5 --window_sizes=2000,4000,6000,8000,10000,20000,40000,50000,60000,80000,100000,150000,200000,300000,350000,400000,500000 --save_evaluation_results_each_fold=FALSE --save_glmnet_object=FALSE --omit_folds_with_na_r=TRUE --methInput_rds_path=/dcs04/lieber/statsgen/mnagle/mwas/chr1_dfplc_all_methylation_10k_samples_a3.rds --chunk1=2601 --chunk2=2800 --cv_eval_mode=dynamic --num_cores=1 --cores_per_alpha=1 --tag=libd_chr1-chr1_all-2601-2800-dynamic-1corestotal-1corepera-20240324-170418'\n",
      "Rscript scripts/CLI.R --outdir=./output/ --snp_data_path=/dcs04/lieber/statsgen/shizhong/michael/mwas/gwas/libd_chr1.pgen --methylation_data_path=/dcs04/lieber/statsgen/shizhong/michael/mwas/pheno/dlpfc/out/chr1_all.rda --cov=/dcs04/lieber/statsgen/mnagle/mwas/full_covariates/all_dlpfc.csv --verbose=FALSE --lambda_choice=1se --alphas=1 --allow_inefficient_parallelization=FALSE --n_fold=5 --window_sizes=2000,4000,6000,8000,10000,20000,40000,50000,60000,80000,100000,150000,200000,300000,350000,400000,500000 --save_evaluation_results_each_fold=FALSE --save_glmnet_object=FALSE --omit_folds_with_na_r=TRUE --methInput_rds_path=/dcs04/lieber/statsgen/mnagle/mwas/chr1_dfplc_all_methylation_10k_samples_a3.rds --chunk1=2601 --chunk2=2800 --cv_eval_mode=dynamic --num_cores=1 --cores_per_alpha=1 --tag=libd_chr1-chr1_all-2601-2800-dynamic-1corestotal-1corepera-20240324-170418\n"
     ]
    },
    {
     "name": "stderr",
     "output_type": "stream",
     "text": [
      "ZZZZzzzz....\n",
      "\n"
     ]
    },
    {
     "name": "stdout",
     "output_type": "stream",
     "text": [
      "#!/bin/bash\n",
      "#SBATCH --cpus-per-task=1\n",
      "#SBATCH --mem-per-cpu=16G\n",
      "#SBATCH --output=slurm_output_libd_chr1-chr1_all-2801-3000-dynamic-1corestotal-1corepera-20240324-170418.out\n",
      "#SBATCH --job-name=libd_chr1-chr1_all-2801-3000-dynamic-1corestotal-1corepera-20240324-170418\n",
      "module load conda\n",
      "conda activate mwas\n",
      "TMPDIR=/dcs04/lieber/statsgen/mnagle/mwas/CpGWAS/temp_temp\n",
      "echo 'Executing Rscript with arguments: Rscript scripts/CLI.R --outdir=./output/ --snp_data_path=/dcs04/lieber/statsgen/shizhong/michael/mwas/gwas/libd_chr1.pgen --methylation_data_path=/dcs04/lieber/statsgen/shizhong/michael/mwas/pheno/dlpfc/out/chr1_all.rda --cov=/dcs04/lieber/statsgen/mnagle/mwas/full_covariates/all_dlpfc.csv --verbose=FALSE --lambda_choice=1se --alphas=1 --allow_inefficient_parallelization=FALSE --n_fold=5 --window_sizes=2000,4000,6000,8000,10000,20000,40000,50000,60000,80000,100000,150000,200000,300000,350000,400000,500000 --save_evaluation_results_each_fold=FALSE --save_glmnet_object=FALSE --omit_folds_with_na_r=TRUE --methInput_rds_path=/dcs04/lieber/statsgen/mnagle/mwas/chr1_dfplc_all_methylation_10k_samples_a3.rds --chunk1=2801 --chunk2=3000 --cv_eval_mode=dynamic --num_cores=1 --cores_per_alpha=1 --tag=libd_chr1-chr1_all-2801-3000-dynamic-1corestotal-1corepera-20240324-170418'\n",
      "Rscript scripts/CLI.R --outdir=./output/ --snp_data_path=/dcs04/lieber/statsgen/shizhong/michael/mwas/gwas/libd_chr1.pgen --methylation_data_path=/dcs04/lieber/statsgen/shizhong/michael/mwas/pheno/dlpfc/out/chr1_all.rda --cov=/dcs04/lieber/statsgen/mnagle/mwas/full_covariates/all_dlpfc.csv --verbose=FALSE --lambda_choice=1se --alphas=1 --allow_inefficient_parallelization=FALSE --n_fold=5 --window_sizes=2000,4000,6000,8000,10000,20000,40000,50000,60000,80000,100000,150000,200000,300000,350000,400000,500000 --save_evaluation_results_each_fold=FALSE --save_glmnet_object=FALSE --omit_folds_with_na_r=TRUE --methInput_rds_path=/dcs04/lieber/statsgen/mnagle/mwas/chr1_dfplc_all_methylation_10k_samples_a3.rds --chunk1=2801 --chunk2=3000 --cv_eval_mode=dynamic --num_cores=1 --cores_per_alpha=1 --tag=libd_chr1-chr1_all-2801-3000-dynamic-1corestotal-1corepera-20240324-170418\n"
     ]
    },
    {
     "name": "stderr",
     "output_type": "stream",
     "text": [
      "ZZZZzzzz....\n",
      "\n"
     ]
    },
    {
     "name": "stdout",
     "output_type": "stream",
     "text": [
      "#!/bin/bash\n",
      "#SBATCH --cpus-per-task=1\n",
      "#SBATCH --mem-per-cpu=16G\n",
      "#SBATCH --output=slurm_output_libd_chr1-chr1_all-3001-3200-dynamic-1corestotal-1corepera-20240324-170418.out\n",
      "#SBATCH --job-name=libd_chr1-chr1_all-3001-3200-dynamic-1corestotal-1corepera-20240324-170418\n",
      "module load conda\n",
      "conda activate mwas\n",
      "TMPDIR=/dcs04/lieber/statsgen/mnagle/mwas/CpGWAS/temp_temp\n",
      "echo 'Executing Rscript with arguments: Rscript scripts/CLI.R --outdir=./output/ --snp_data_path=/dcs04/lieber/statsgen/shizhong/michael/mwas/gwas/libd_chr1.pgen --methylation_data_path=/dcs04/lieber/statsgen/shizhong/michael/mwas/pheno/dlpfc/out/chr1_all.rda --cov=/dcs04/lieber/statsgen/mnagle/mwas/full_covariates/all_dlpfc.csv --verbose=FALSE --lambda_choice=1se --alphas=1 --allow_inefficient_parallelization=FALSE --n_fold=5 --window_sizes=2000,4000,6000,8000,10000,20000,40000,50000,60000,80000,100000,150000,200000,300000,350000,400000,500000 --save_evaluation_results_each_fold=FALSE --save_glmnet_object=FALSE --omit_folds_with_na_r=TRUE --methInput_rds_path=/dcs04/lieber/statsgen/mnagle/mwas/chr1_dfplc_all_methylation_10k_samples_a3.rds --chunk1=3001 --chunk2=3200 --cv_eval_mode=dynamic --num_cores=1 --cores_per_alpha=1 --tag=libd_chr1-chr1_all-3001-3200-dynamic-1corestotal-1corepera-20240324-170418'\n",
      "Rscript scripts/CLI.R --outdir=./output/ --snp_data_path=/dcs04/lieber/statsgen/shizhong/michael/mwas/gwas/libd_chr1.pgen --methylation_data_path=/dcs04/lieber/statsgen/shizhong/michael/mwas/pheno/dlpfc/out/chr1_all.rda --cov=/dcs04/lieber/statsgen/mnagle/mwas/full_covariates/all_dlpfc.csv --verbose=FALSE --lambda_choice=1se --alphas=1 --allow_inefficient_parallelization=FALSE --n_fold=5 --window_sizes=2000,4000,6000,8000,10000,20000,40000,50000,60000,80000,100000,150000,200000,300000,350000,400000,500000 --save_evaluation_results_each_fold=FALSE --save_glmnet_object=FALSE --omit_folds_with_na_r=TRUE --methInput_rds_path=/dcs04/lieber/statsgen/mnagle/mwas/chr1_dfplc_all_methylation_10k_samples_a3.rds --chunk1=3001 --chunk2=3200 --cv_eval_mode=dynamic --num_cores=1 --cores_per_alpha=1 --tag=libd_chr1-chr1_all-3001-3200-dynamic-1corestotal-1corepera-20240324-170418\n"
     ]
    },
    {
     "name": "stderr",
     "output_type": "stream",
     "text": [
      "ZZZZzzzz....\n",
      "\n"
     ]
    },
    {
     "name": "stdout",
     "output_type": "stream",
     "text": [
      "#!/bin/bash\n",
      "#SBATCH --cpus-per-task=1\n",
      "#SBATCH --mem-per-cpu=16G\n",
      "#SBATCH --output=slurm_output_libd_chr1-chr1_all-3201-3400-dynamic-1corestotal-1corepera-20240324-170419.out\n",
      "#SBATCH --job-name=libd_chr1-chr1_all-3201-3400-dynamic-1corestotal-1corepera-20240324-170419\n",
      "module load conda\n",
      "conda activate mwas\n",
      "TMPDIR=/dcs04/lieber/statsgen/mnagle/mwas/CpGWAS/temp_temp\n",
      "echo 'Executing Rscript with arguments: Rscript scripts/CLI.R --outdir=./output/ --snp_data_path=/dcs04/lieber/statsgen/shizhong/michael/mwas/gwas/libd_chr1.pgen --methylation_data_path=/dcs04/lieber/statsgen/shizhong/michael/mwas/pheno/dlpfc/out/chr1_all.rda --cov=/dcs04/lieber/statsgen/mnagle/mwas/full_covariates/all_dlpfc.csv --verbose=FALSE --lambda_choice=1se --alphas=1 --allow_inefficient_parallelization=FALSE --n_fold=5 --window_sizes=2000,4000,6000,8000,10000,20000,40000,50000,60000,80000,100000,150000,200000,300000,350000,400000,500000 --save_evaluation_results_each_fold=FALSE --save_glmnet_object=FALSE --omit_folds_with_na_r=TRUE --methInput_rds_path=/dcs04/lieber/statsgen/mnagle/mwas/chr1_dfplc_all_methylation_10k_samples_a3.rds --chunk1=3201 --chunk2=3400 --cv_eval_mode=dynamic --num_cores=1 --cores_per_alpha=1 --tag=libd_chr1-chr1_all-3201-3400-dynamic-1corestotal-1corepera-20240324-170419'\n",
      "Rscript scripts/CLI.R --outdir=./output/ --snp_data_path=/dcs04/lieber/statsgen/shizhong/michael/mwas/gwas/libd_chr1.pgen --methylation_data_path=/dcs04/lieber/statsgen/shizhong/michael/mwas/pheno/dlpfc/out/chr1_all.rda --cov=/dcs04/lieber/statsgen/mnagle/mwas/full_covariates/all_dlpfc.csv --verbose=FALSE --lambda_choice=1se --alphas=1 --allow_inefficient_parallelization=FALSE --n_fold=5 --window_sizes=2000,4000,6000,8000,10000,20000,40000,50000,60000,80000,100000,150000,200000,300000,350000,400000,500000 --save_evaluation_results_each_fold=FALSE --save_glmnet_object=FALSE --omit_folds_with_na_r=TRUE --methInput_rds_path=/dcs04/lieber/statsgen/mnagle/mwas/chr1_dfplc_all_methylation_10k_samples_a3.rds --chunk1=3201 --chunk2=3400 --cv_eval_mode=dynamic --num_cores=1 --cores_per_alpha=1 --tag=libd_chr1-chr1_all-3201-3400-dynamic-1corestotal-1corepera-20240324-170419\n"
     ]
    },
    {
     "name": "stderr",
     "output_type": "stream",
     "text": [
      "ZZZZzzzz....\n",
      "\n"
     ]
    },
    {
     "name": "stdout",
     "output_type": "stream",
     "text": [
      "#!/bin/bash\n",
      "#SBATCH --cpus-per-task=1\n",
      "#SBATCH --mem-per-cpu=16G\n",
      "#SBATCH --output=slurm_output_libd_chr1-chr1_all-3401-3600-dynamic-1corestotal-1corepera-20240324-170419.out\n",
      "#SBATCH --job-name=libd_chr1-chr1_all-3401-3600-dynamic-1corestotal-1corepera-20240324-170419\n",
      "module load conda\n",
      "conda activate mwas\n",
      "TMPDIR=/dcs04/lieber/statsgen/mnagle/mwas/CpGWAS/temp_temp\n",
      "echo 'Executing Rscript with arguments: Rscript scripts/CLI.R --outdir=./output/ --snp_data_path=/dcs04/lieber/statsgen/shizhong/michael/mwas/gwas/libd_chr1.pgen --methylation_data_path=/dcs04/lieber/statsgen/shizhong/michael/mwas/pheno/dlpfc/out/chr1_all.rda --cov=/dcs04/lieber/statsgen/mnagle/mwas/full_covariates/all_dlpfc.csv --verbose=FALSE --lambda_choice=1se --alphas=1 --allow_inefficient_parallelization=FALSE --n_fold=5 --window_sizes=2000,4000,6000,8000,10000,20000,40000,50000,60000,80000,100000,150000,200000,300000,350000,400000,500000 --save_evaluation_results_each_fold=FALSE --save_glmnet_object=FALSE --omit_folds_with_na_r=TRUE --methInput_rds_path=/dcs04/lieber/statsgen/mnagle/mwas/chr1_dfplc_all_methylation_10k_samples_a3.rds --chunk1=3401 --chunk2=3600 --cv_eval_mode=dynamic --num_cores=1 --cores_per_alpha=1 --tag=libd_chr1-chr1_all-3401-3600-dynamic-1corestotal-1corepera-20240324-170419'\n",
      "Rscript scripts/CLI.R --outdir=./output/ --snp_data_path=/dcs04/lieber/statsgen/shizhong/michael/mwas/gwas/libd_chr1.pgen --methylation_data_path=/dcs04/lieber/statsgen/shizhong/michael/mwas/pheno/dlpfc/out/chr1_all.rda --cov=/dcs04/lieber/statsgen/mnagle/mwas/full_covariates/all_dlpfc.csv --verbose=FALSE --lambda_choice=1se --alphas=1 --allow_inefficient_parallelization=FALSE --n_fold=5 --window_sizes=2000,4000,6000,8000,10000,20000,40000,50000,60000,80000,100000,150000,200000,300000,350000,400000,500000 --save_evaluation_results_each_fold=FALSE --save_glmnet_object=FALSE --omit_folds_with_na_r=TRUE --methInput_rds_path=/dcs04/lieber/statsgen/mnagle/mwas/chr1_dfplc_all_methylation_10k_samples_a3.rds --chunk1=3401 --chunk2=3600 --cv_eval_mode=dynamic --num_cores=1 --cores_per_alpha=1 --tag=libd_chr1-chr1_all-3401-3600-dynamic-1corestotal-1corepera-20240324-170419\n"
     ]
    },
    {
     "name": "stderr",
     "output_type": "stream",
     "text": [
      "ZZZZzzzz....\n",
      "\n"
     ]
    },
    {
     "name": "stdout",
     "output_type": "stream",
     "text": [
      "#!/bin/bash\n",
      "#SBATCH --cpus-per-task=1\n",
      "#SBATCH --mem-per-cpu=16G\n",
      "#SBATCH --output=slurm_output_libd_chr1-chr1_all-3601-3800-dynamic-1corestotal-1corepera-20240324-170419.out\n",
      "#SBATCH --job-name=libd_chr1-chr1_all-3601-3800-dynamic-1corestotal-1corepera-20240324-170419\n",
      "module load conda\n",
      "conda activate mwas\n",
      "TMPDIR=/dcs04/lieber/statsgen/mnagle/mwas/CpGWAS/temp_temp\n",
      "echo 'Executing Rscript with arguments: Rscript scripts/CLI.R --outdir=./output/ --snp_data_path=/dcs04/lieber/statsgen/shizhong/michael/mwas/gwas/libd_chr1.pgen --methylation_data_path=/dcs04/lieber/statsgen/shizhong/michael/mwas/pheno/dlpfc/out/chr1_all.rda --cov=/dcs04/lieber/statsgen/mnagle/mwas/full_covariates/all_dlpfc.csv --verbose=FALSE --lambda_choice=1se --alphas=1 --allow_inefficient_parallelization=FALSE --n_fold=5 --window_sizes=2000,4000,6000,8000,10000,20000,40000,50000,60000,80000,100000,150000,200000,300000,350000,400000,500000 --save_evaluation_results_each_fold=FALSE --save_glmnet_object=FALSE --omit_folds_with_na_r=TRUE --methInput_rds_path=/dcs04/lieber/statsgen/mnagle/mwas/chr1_dfplc_all_methylation_10k_samples_a3.rds --chunk1=3601 --chunk2=3800 --cv_eval_mode=dynamic --num_cores=1 --cores_per_alpha=1 --tag=libd_chr1-chr1_all-3601-3800-dynamic-1corestotal-1corepera-20240324-170419'\n",
      "Rscript scripts/CLI.R --outdir=./output/ --snp_data_path=/dcs04/lieber/statsgen/shizhong/michael/mwas/gwas/libd_chr1.pgen --methylation_data_path=/dcs04/lieber/statsgen/shizhong/michael/mwas/pheno/dlpfc/out/chr1_all.rda --cov=/dcs04/lieber/statsgen/mnagle/mwas/full_covariates/all_dlpfc.csv --verbose=FALSE --lambda_choice=1se --alphas=1 --allow_inefficient_parallelization=FALSE --n_fold=5 --window_sizes=2000,4000,6000,8000,10000,20000,40000,50000,60000,80000,100000,150000,200000,300000,350000,400000,500000 --save_evaluation_results_each_fold=FALSE --save_glmnet_object=FALSE --omit_folds_with_na_r=TRUE --methInput_rds_path=/dcs04/lieber/statsgen/mnagle/mwas/chr1_dfplc_all_methylation_10k_samples_a3.rds --chunk1=3601 --chunk2=3800 --cv_eval_mode=dynamic --num_cores=1 --cores_per_alpha=1 --tag=libd_chr1-chr1_all-3601-3800-dynamic-1corestotal-1corepera-20240324-170419\n"
     ]
    },
    {
     "name": "stderr",
     "output_type": "stream",
     "text": [
      "ZZZZzzzz....\n",
      "\n"
     ]
    },
    {
     "name": "stdout",
     "output_type": "stream",
     "text": [
      "#!/bin/bash\n",
      "#SBATCH --cpus-per-task=1\n",
      "#SBATCH --mem-per-cpu=16G\n",
      "#SBATCH --output=slurm_output_libd_chr1-chr1_all-3801-4000-dynamic-1corestotal-1corepera-20240324-170419.out\n",
      "#SBATCH --job-name=libd_chr1-chr1_all-3801-4000-dynamic-1corestotal-1corepera-20240324-170419\n",
      "module load conda\n",
      "conda activate mwas\n",
      "TMPDIR=/dcs04/lieber/statsgen/mnagle/mwas/CpGWAS/temp_temp\n",
      "echo 'Executing Rscript with arguments: Rscript scripts/CLI.R --outdir=./output/ --snp_data_path=/dcs04/lieber/statsgen/shizhong/michael/mwas/gwas/libd_chr1.pgen --methylation_data_path=/dcs04/lieber/statsgen/shizhong/michael/mwas/pheno/dlpfc/out/chr1_all.rda --cov=/dcs04/lieber/statsgen/mnagle/mwas/full_covariates/all_dlpfc.csv --verbose=FALSE --lambda_choice=1se --alphas=1 --allow_inefficient_parallelization=FALSE --n_fold=5 --window_sizes=2000,4000,6000,8000,10000,20000,40000,50000,60000,80000,100000,150000,200000,300000,350000,400000,500000 --save_evaluation_results_each_fold=FALSE --save_glmnet_object=FALSE --omit_folds_with_na_r=TRUE --methInput_rds_path=/dcs04/lieber/statsgen/mnagle/mwas/chr1_dfplc_all_methylation_10k_samples_a3.rds --chunk1=3801 --chunk2=4000 --cv_eval_mode=dynamic --num_cores=1 --cores_per_alpha=1 --tag=libd_chr1-chr1_all-3801-4000-dynamic-1corestotal-1corepera-20240324-170419'\n",
      "Rscript scripts/CLI.R --outdir=./output/ --snp_data_path=/dcs04/lieber/statsgen/shizhong/michael/mwas/gwas/libd_chr1.pgen --methylation_data_path=/dcs04/lieber/statsgen/shizhong/michael/mwas/pheno/dlpfc/out/chr1_all.rda --cov=/dcs04/lieber/statsgen/mnagle/mwas/full_covariates/all_dlpfc.csv --verbose=FALSE --lambda_choice=1se --alphas=1 --allow_inefficient_parallelization=FALSE --n_fold=5 --window_sizes=2000,4000,6000,8000,10000,20000,40000,50000,60000,80000,100000,150000,200000,300000,350000,400000,500000 --save_evaluation_results_each_fold=FALSE --save_glmnet_object=FALSE --omit_folds_with_na_r=TRUE --methInput_rds_path=/dcs04/lieber/statsgen/mnagle/mwas/chr1_dfplc_all_methylation_10k_samples_a3.rds --chunk1=3801 --chunk2=4000 --cv_eval_mode=dynamic --num_cores=1 --cores_per_alpha=1 --tag=libd_chr1-chr1_all-3801-4000-dynamic-1corestotal-1corepera-20240324-170419\n"
     ]
    },
    {
     "name": "stderr",
     "output_type": "stream",
     "text": [
      "ZZZZzzzz....\n",
      "\n"
     ]
    },
    {
     "name": "stdout",
     "output_type": "stream",
     "text": [
      "#!/bin/bash\n",
      "#SBATCH --cpus-per-task=1\n",
      "#SBATCH --mem-per-cpu=16G\n",
      "#SBATCH --output=slurm_output_libd_chr1-chr1_all-4001-4200-dynamic-1corestotal-1corepera-20240324-170419.out\n",
      "#SBATCH --job-name=libd_chr1-chr1_all-4001-4200-dynamic-1corestotal-1corepera-20240324-170419\n",
      "module load conda\n",
      "conda activate mwas\n",
      "TMPDIR=/dcs04/lieber/statsgen/mnagle/mwas/CpGWAS/temp_temp\n",
      "echo 'Executing Rscript with arguments: Rscript scripts/CLI.R --outdir=./output/ --snp_data_path=/dcs04/lieber/statsgen/shizhong/michael/mwas/gwas/libd_chr1.pgen --methylation_data_path=/dcs04/lieber/statsgen/shizhong/michael/mwas/pheno/dlpfc/out/chr1_all.rda --cov=/dcs04/lieber/statsgen/mnagle/mwas/full_covariates/all_dlpfc.csv --verbose=FALSE --lambda_choice=1se --alphas=1 --allow_inefficient_parallelization=FALSE --n_fold=5 --window_sizes=2000,4000,6000,8000,10000,20000,40000,50000,60000,80000,100000,150000,200000,300000,350000,400000,500000 --save_evaluation_results_each_fold=FALSE --save_glmnet_object=FALSE --omit_folds_with_na_r=TRUE --methInput_rds_path=/dcs04/lieber/statsgen/mnagle/mwas/chr1_dfplc_all_methylation_10k_samples_a3.rds --chunk1=4001 --chunk2=4200 --cv_eval_mode=dynamic --num_cores=1 --cores_per_alpha=1 --tag=libd_chr1-chr1_all-4001-4200-dynamic-1corestotal-1corepera-20240324-170419'\n",
      "Rscript scripts/CLI.R --outdir=./output/ --snp_data_path=/dcs04/lieber/statsgen/shizhong/michael/mwas/gwas/libd_chr1.pgen --methylation_data_path=/dcs04/lieber/statsgen/shizhong/michael/mwas/pheno/dlpfc/out/chr1_all.rda --cov=/dcs04/lieber/statsgen/mnagle/mwas/full_covariates/all_dlpfc.csv --verbose=FALSE --lambda_choice=1se --alphas=1 --allow_inefficient_parallelization=FALSE --n_fold=5 --window_sizes=2000,4000,6000,8000,10000,20000,40000,50000,60000,80000,100000,150000,200000,300000,350000,400000,500000 --save_evaluation_results_each_fold=FALSE --save_glmnet_object=FALSE --omit_folds_with_na_r=TRUE --methInput_rds_path=/dcs04/lieber/statsgen/mnagle/mwas/chr1_dfplc_all_methylation_10k_samples_a3.rds --chunk1=4001 --chunk2=4200 --cv_eval_mode=dynamic --num_cores=1 --cores_per_alpha=1 --tag=libd_chr1-chr1_all-4001-4200-dynamic-1corestotal-1corepera-20240324-170419\n"
     ]
    },
    {
     "name": "stderr",
     "output_type": "stream",
     "text": [
      "ZZZZzzzz....\n",
      "\n"
     ]
    },
    {
     "name": "stdout",
     "output_type": "stream",
     "text": [
      "#!/bin/bash\n",
      "#SBATCH --cpus-per-task=1\n",
      "#SBATCH --mem-per-cpu=16G\n",
      "#SBATCH --output=slurm_output_libd_chr1-chr1_all-4201-4400-dynamic-1corestotal-1corepera-20240324-170419.out\n",
      "#SBATCH --job-name=libd_chr1-chr1_all-4201-4400-dynamic-1corestotal-1corepera-20240324-170419\n",
      "module load conda\n",
      "conda activate mwas\n",
      "TMPDIR=/dcs04/lieber/statsgen/mnagle/mwas/CpGWAS/temp_temp\n",
      "echo 'Executing Rscript with arguments: Rscript scripts/CLI.R --outdir=./output/ --snp_data_path=/dcs04/lieber/statsgen/shizhong/michael/mwas/gwas/libd_chr1.pgen --methylation_data_path=/dcs04/lieber/statsgen/shizhong/michael/mwas/pheno/dlpfc/out/chr1_all.rda --cov=/dcs04/lieber/statsgen/mnagle/mwas/full_covariates/all_dlpfc.csv --verbose=FALSE --lambda_choice=1se --alphas=1 --allow_inefficient_parallelization=FALSE --n_fold=5 --window_sizes=2000,4000,6000,8000,10000,20000,40000,50000,60000,80000,100000,150000,200000,300000,350000,400000,500000 --save_evaluation_results_each_fold=FALSE --save_glmnet_object=FALSE --omit_folds_with_na_r=TRUE --methInput_rds_path=/dcs04/lieber/statsgen/mnagle/mwas/chr1_dfplc_all_methylation_10k_samples_a3.rds --chunk1=4201 --chunk2=4400 --cv_eval_mode=dynamic --num_cores=1 --cores_per_alpha=1 --tag=libd_chr1-chr1_all-4201-4400-dynamic-1corestotal-1corepera-20240324-170419'\n",
      "Rscript scripts/CLI.R --outdir=./output/ --snp_data_path=/dcs04/lieber/statsgen/shizhong/michael/mwas/gwas/libd_chr1.pgen --methylation_data_path=/dcs04/lieber/statsgen/shizhong/michael/mwas/pheno/dlpfc/out/chr1_all.rda --cov=/dcs04/lieber/statsgen/mnagle/mwas/full_covariates/all_dlpfc.csv --verbose=FALSE --lambda_choice=1se --alphas=1 --allow_inefficient_parallelization=FALSE --n_fold=5 --window_sizes=2000,4000,6000,8000,10000,20000,40000,50000,60000,80000,100000,150000,200000,300000,350000,400000,500000 --save_evaluation_results_each_fold=FALSE --save_glmnet_object=FALSE --omit_folds_with_na_r=TRUE --methInput_rds_path=/dcs04/lieber/statsgen/mnagle/mwas/chr1_dfplc_all_methylation_10k_samples_a3.rds --chunk1=4201 --chunk2=4400 --cv_eval_mode=dynamic --num_cores=1 --cores_per_alpha=1 --tag=libd_chr1-chr1_all-4201-4400-dynamic-1corestotal-1corepera-20240324-170419\n"
     ]
    },
    {
     "name": "stderr",
     "output_type": "stream",
     "text": [
      "ZZZZzzzz....\n",
      "\n"
     ]
    },
    {
     "name": "stdout",
     "output_type": "stream",
     "text": [
      "#!/bin/bash\n",
      "#SBATCH --cpus-per-task=1\n",
      "#SBATCH --mem-per-cpu=16G\n",
      "#SBATCH --output=slurm_output_libd_chr1-chr1_all-4401-4600-dynamic-1corestotal-1corepera-20240324-170419.out\n",
      "#SBATCH --job-name=libd_chr1-chr1_all-4401-4600-dynamic-1corestotal-1corepera-20240324-170419\n",
      "module load conda\n",
      "conda activate mwas\n",
      "TMPDIR=/dcs04/lieber/statsgen/mnagle/mwas/CpGWAS/temp_temp\n",
      "echo 'Executing Rscript with arguments: Rscript scripts/CLI.R --outdir=./output/ --snp_data_path=/dcs04/lieber/statsgen/shizhong/michael/mwas/gwas/libd_chr1.pgen --methylation_data_path=/dcs04/lieber/statsgen/shizhong/michael/mwas/pheno/dlpfc/out/chr1_all.rda --cov=/dcs04/lieber/statsgen/mnagle/mwas/full_covariates/all_dlpfc.csv --verbose=FALSE --lambda_choice=1se --alphas=1 --allow_inefficient_parallelization=FALSE --n_fold=5 --window_sizes=2000,4000,6000,8000,10000,20000,40000,50000,60000,80000,100000,150000,200000,300000,350000,400000,500000 --save_evaluation_results_each_fold=FALSE --save_glmnet_object=FALSE --omit_folds_with_na_r=TRUE --methInput_rds_path=/dcs04/lieber/statsgen/mnagle/mwas/chr1_dfplc_all_methylation_10k_samples_a3.rds --chunk1=4401 --chunk2=4600 --cv_eval_mode=dynamic --num_cores=1 --cores_per_alpha=1 --tag=libd_chr1-chr1_all-4401-4600-dynamic-1corestotal-1corepera-20240324-170419'\n",
      "Rscript scripts/CLI.R --outdir=./output/ --snp_data_path=/dcs04/lieber/statsgen/shizhong/michael/mwas/gwas/libd_chr1.pgen --methylation_data_path=/dcs04/lieber/statsgen/shizhong/michael/mwas/pheno/dlpfc/out/chr1_all.rda --cov=/dcs04/lieber/statsgen/mnagle/mwas/full_covariates/all_dlpfc.csv --verbose=FALSE --lambda_choice=1se --alphas=1 --allow_inefficient_parallelization=FALSE --n_fold=5 --window_sizes=2000,4000,6000,8000,10000,20000,40000,50000,60000,80000,100000,150000,200000,300000,350000,400000,500000 --save_evaluation_results_each_fold=FALSE --save_glmnet_object=FALSE --omit_folds_with_na_r=TRUE --methInput_rds_path=/dcs04/lieber/statsgen/mnagle/mwas/chr1_dfplc_all_methylation_10k_samples_a3.rds --chunk1=4401 --chunk2=4600 --cv_eval_mode=dynamic --num_cores=1 --cores_per_alpha=1 --tag=libd_chr1-chr1_all-4401-4600-dynamic-1corestotal-1corepera-20240324-170419\n"
     ]
    },
    {
     "name": "stderr",
     "output_type": "stream",
     "text": [
      "ZZZZzzzz....\n",
      "\n"
     ]
    },
    {
     "name": "stdout",
     "output_type": "stream",
     "text": [
      "#!/bin/bash\n",
      "#SBATCH --cpus-per-task=1\n",
      "#SBATCH --mem-per-cpu=16G\n",
      "#SBATCH --output=slurm_output_libd_chr1-chr1_all-4601-4800-dynamic-1corestotal-1corepera-20240324-170419.out\n",
      "#SBATCH --job-name=libd_chr1-chr1_all-4601-4800-dynamic-1corestotal-1corepera-20240324-170419\n",
      "module load conda\n",
      "conda activate mwas\n",
      "TMPDIR=/dcs04/lieber/statsgen/mnagle/mwas/CpGWAS/temp_temp\n",
      "echo 'Executing Rscript with arguments: Rscript scripts/CLI.R --outdir=./output/ --snp_data_path=/dcs04/lieber/statsgen/shizhong/michael/mwas/gwas/libd_chr1.pgen --methylation_data_path=/dcs04/lieber/statsgen/shizhong/michael/mwas/pheno/dlpfc/out/chr1_all.rda --cov=/dcs04/lieber/statsgen/mnagle/mwas/full_covariates/all_dlpfc.csv --verbose=FALSE --lambda_choice=1se --alphas=1 --allow_inefficient_parallelization=FALSE --n_fold=5 --window_sizes=2000,4000,6000,8000,10000,20000,40000,50000,60000,80000,100000,150000,200000,300000,350000,400000,500000 --save_evaluation_results_each_fold=FALSE --save_glmnet_object=FALSE --omit_folds_with_na_r=TRUE --methInput_rds_path=/dcs04/lieber/statsgen/mnagle/mwas/chr1_dfplc_all_methylation_10k_samples_a3.rds --chunk1=4601 --chunk2=4800 --cv_eval_mode=dynamic --num_cores=1 --cores_per_alpha=1 --tag=libd_chr1-chr1_all-4601-4800-dynamic-1corestotal-1corepera-20240324-170419'\n",
      "Rscript scripts/CLI.R --outdir=./output/ --snp_data_path=/dcs04/lieber/statsgen/shizhong/michael/mwas/gwas/libd_chr1.pgen --methylation_data_path=/dcs04/lieber/statsgen/shizhong/michael/mwas/pheno/dlpfc/out/chr1_all.rda --cov=/dcs04/lieber/statsgen/mnagle/mwas/full_covariates/all_dlpfc.csv --verbose=FALSE --lambda_choice=1se --alphas=1 --allow_inefficient_parallelization=FALSE --n_fold=5 --window_sizes=2000,4000,6000,8000,10000,20000,40000,50000,60000,80000,100000,150000,200000,300000,350000,400000,500000 --save_evaluation_results_each_fold=FALSE --save_glmnet_object=FALSE --omit_folds_with_na_r=TRUE --methInput_rds_path=/dcs04/lieber/statsgen/mnagle/mwas/chr1_dfplc_all_methylation_10k_samples_a3.rds --chunk1=4601 --chunk2=4800 --cv_eval_mode=dynamic --num_cores=1 --cores_per_alpha=1 --tag=libd_chr1-chr1_all-4601-4800-dynamic-1corestotal-1corepera-20240324-170419\n"
     ]
    },
    {
     "name": "stderr",
     "output_type": "stream",
     "text": [
      "ZZZZzzzz....\n",
      "\n"
     ]
    },
    {
     "name": "stdout",
     "output_type": "stream",
     "text": [
      "#!/bin/bash\n",
      "#SBATCH --cpus-per-task=1\n",
      "#SBATCH --mem-per-cpu=16G\n",
      "#SBATCH --output=slurm_output_libd_chr1-chr1_all-4801-5000-dynamic-1corestotal-1corepera-20240324-170419.out\n",
      "#SBATCH --job-name=libd_chr1-chr1_all-4801-5000-dynamic-1corestotal-1corepera-20240324-170419\n",
      "module load conda\n",
      "conda activate mwas\n",
      "TMPDIR=/dcs04/lieber/statsgen/mnagle/mwas/CpGWAS/temp_temp\n",
      "echo 'Executing Rscript with arguments: Rscript scripts/CLI.R --outdir=./output/ --snp_data_path=/dcs04/lieber/statsgen/shizhong/michael/mwas/gwas/libd_chr1.pgen --methylation_data_path=/dcs04/lieber/statsgen/shizhong/michael/mwas/pheno/dlpfc/out/chr1_all.rda --cov=/dcs04/lieber/statsgen/mnagle/mwas/full_covariates/all_dlpfc.csv --verbose=FALSE --lambda_choice=1se --alphas=1 --allow_inefficient_parallelization=FALSE --n_fold=5 --window_sizes=2000,4000,6000,8000,10000,20000,40000,50000,60000,80000,100000,150000,200000,300000,350000,400000,500000 --save_evaluation_results_each_fold=FALSE --save_glmnet_object=FALSE --omit_folds_with_na_r=TRUE --methInput_rds_path=/dcs04/lieber/statsgen/mnagle/mwas/chr1_dfplc_all_methylation_10k_samples_a3.rds --chunk1=4801 --chunk2=5000 --cv_eval_mode=dynamic --num_cores=1 --cores_per_alpha=1 --tag=libd_chr1-chr1_all-4801-5000-dynamic-1corestotal-1corepera-20240324-170419'\n",
      "Rscript scripts/CLI.R --outdir=./output/ --snp_data_path=/dcs04/lieber/statsgen/shizhong/michael/mwas/gwas/libd_chr1.pgen --methylation_data_path=/dcs04/lieber/statsgen/shizhong/michael/mwas/pheno/dlpfc/out/chr1_all.rda --cov=/dcs04/lieber/statsgen/mnagle/mwas/full_covariates/all_dlpfc.csv --verbose=FALSE --lambda_choice=1se --alphas=1 --allow_inefficient_parallelization=FALSE --n_fold=5 --window_sizes=2000,4000,6000,8000,10000,20000,40000,50000,60000,80000,100000,150000,200000,300000,350000,400000,500000 --save_evaluation_results_each_fold=FALSE --save_glmnet_object=FALSE --omit_folds_with_na_r=TRUE --methInput_rds_path=/dcs04/lieber/statsgen/mnagle/mwas/chr1_dfplc_all_methylation_10k_samples_a3.rds --chunk1=4801 --chunk2=5000 --cv_eval_mode=dynamic --num_cores=1 --cores_per_alpha=1 --tag=libd_chr1-chr1_all-4801-5000-dynamic-1corestotal-1corepera-20240324-170419\n"
     ]
    },
    {
     "name": "stderr",
     "output_type": "stream",
     "text": [
      "ZZZZzzzz....\n",
      "\n"
     ]
    },
    {
     "name": "stdout",
     "output_type": "stream",
     "text": [
      "#!/bin/bash\n",
      "#SBATCH --cpus-per-task=1\n",
      "#SBATCH --mem-per-cpu=16G\n",
      "#SBATCH --output=slurm_output_libd_chr1-chr1_all-5001-5200-dynamic-1corestotal-1corepera-20240324-170419.out\n",
      "#SBATCH --job-name=libd_chr1-chr1_all-5001-5200-dynamic-1corestotal-1corepera-20240324-170419\n",
      "module load conda\n",
      "conda activate mwas\n",
      "TMPDIR=/dcs04/lieber/statsgen/mnagle/mwas/CpGWAS/temp_temp\n",
      "echo 'Executing Rscript with arguments: Rscript scripts/CLI.R --outdir=./output/ --snp_data_path=/dcs04/lieber/statsgen/shizhong/michael/mwas/gwas/libd_chr1.pgen --methylation_data_path=/dcs04/lieber/statsgen/shizhong/michael/mwas/pheno/dlpfc/out/chr1_all.rda --cov=/dcs04/lieber/statsgen/mnagle/mwas/full_covariates/all_dlpfc.csv --verbose=FALSE --lambda_choice=1se --alphas=1 --allow_inefficient_parallelization=FALSE --n_fold=5 --window_sizes=2000,4000,6000,8000,10000,20000,40000,50000,60000,80000,100000,150000,200000,300000,350000,400000,500000 --save_evaluation_results_each_fold=FALSE --save_glmnet_object=FALSE --omit_folds_with_na_r=TRUE --methInput_rds_path=/dcs04/lieber/statsgen/mnagle/mwas/chr1_dfplc_all_methylation_10k_samples_a3.rds --chunk1=5001 --chunk2=5200 --cv_eval_mode=dynamic --num_cores=1 --cores_per_alpha=1 --tag=libd_chr1-chr1_all-5001-5200-dynamic-1corestotal-1corepera-20240324-170419'\n",
      "Rscript scripts/CLI.R --outdir=./output/ --snp_data_path=/dcs04/lieber/statsgen/shizhong/michael/mwas/gwas/libd_chr1.pgen --methylation_data_path=/dcs04/lieber/statsgen/shizhong/michael/mwas/pheno/dlpfc/out/chr1_all.rda --cov=/dcs04/lieber/statsgen/mnagle/mwas/full_covariates/all_dlpfc.csv --verbose=FALSE --lambda_choice=1se --alphas=1 --allow_inefficient_parallelization=FALSE --n_fold=5 --window_sizes=2000,4000,6000,8000,10000,20000,40000,50000,60000,80000,100000,150000,200000,300000,350000,400000,500000 --save_evaluation_results_each_fold=FALSE --save_glmnet_object=FALSE --omit_folds_with_na_r=TRUE --methInput_rds_path=/dcs04/lieber/statsgen/mnagle/mwas/chr1_dfplc_all_methylation_10k_samples_a3.rds --chunk1=5001 --chunk2=5200 --cv_eval_mode=dynamic --num_cores=1 --cores_per_alpha=1 --tag=libd_chr1-chr1_all-5001-5200-dynamic-1corestotal-1corepera-20240324-170419\n"
     ]
    },
    {
     "name": "stderr",
     "output_type": "stream",
     "text": [
      "ZZZZzzzz....\n",
      "\n"
     ]
    },
    {
     "name": "stdout",
     "output_type": "stream",
     "text": [
      "#!/bin/bash\n",
      "#SBATCH --cpus-per-task=1\n",
      "#SBATCH --mem-per-cpu=16G\n",
      "#SBATCH --output=slurm_output_libd_chr1-chr1_all-5201-5400-dynamic-1corestotal-1corepera-20240324-170419.out\n",
      "#SBATCH --job-name=libd_chr1-chr1_all-5201-5400-dynamic-1corestotal-1corepera-20240324-170419\n",
      "module load conda\n",
      "conda activate mwas\n",
      "TMPDIR=/dcs04/lieber/statsgen/mnagle/mwas/CpGWAS/temp_temp\n",
      "echo 'Executing Rscript with arguments: Rscript scripts/CLI.R --outdir=./output/ --snp_data_path=/dcs04/lieber/statsgen/shizhong/michael/mwas/gwas/libd_chr1.pgen --methylation_data_path=/dcs04/lieber/statsgen/shizhong/michael/mwas/pheno/dlpfc/out/chr1_all.rda --cov=/dcs04/lieber/statsgen/mnagle/mwas/full_covariates/all_dlpfc.csv --verbose=FALSE --lambda_choice=1se --alphas=1 --allow_inefficient_parallelization=FALSE --n_fold=5 --window_sizes=2000,4000,6000,8000,10000,20000,40000,50000,60000,80000,100000,150000,200000,300000,350000,400000,500000 --save_evaluation_results_each_fold=FALSE --save_glmnet_object=FALSE --omit_folds_with_na_r=TRUE --methInput_rds_path=/dcs04/lieber/statsgen/mnagle/mwas/chr1_dfplc_all_methylation_10k_samples_a3.rds --chunk1=5201 --chunk2=5400 --cv_eval_mode=dynamic --num_cores=1 --cores_per_alpha=1 --tag=libd_chr1-chr1_all-5201-5400-dynamic-1corestotal-1corepera-20240324-170419'\n",
      "Rscript scripts/CLI.R --outdir=./output/ --snp_data_path=/dcs04/lieber/statsgen/shizhong/michael/mwas/gwas/libd_chr1.pgen --methylation_data_path=/dcs04/lieber/statsgen/shizhong/michael/mwas/pheno/dlpfc/out/chr1_all.rda --cov=/dcs04/lieber/statsgen/mnagle/mwas/full_covariates/all_dlpfc.csv --verbose=FALSE --lambda_choice=1se --alphas=1 --allow_inefficient_parallelization=FALSE --n_fold=5 --window_sizes=2000,4000,6000,8000,10000,20000,40000,50000,60000,80000,100000,150000,200000,300000,350000,400000,500000 --save_evaluation_results_each_fold=FALSE --save_glmnet_object=FALSE --omit_folds_with_na_r=TRUE --methInput_rds_path=/dcs04/lieber/statsgen/mnagle/mwas/chr1_dfplc_all_methylation_10k_samples_a3.rds --chunk1=5201 --chunk2=5400 --cv_eval_mode=dynamic --num_cores=1 --cores_per_alpha=1 --tag=libd_chr1-chr1_all-5201-5400-dynamic-1corestotal-1corepera-20240324-170419\n"
     ]
    },
    {
     "name": "stderr",
     "output_type": "stream",
     "text": [
      "ZZZZzzzz....\n",
      "\n"
     ]
    },
    {
     "name": "stdout",
     "output_type": "stream",
     "text": [
      "#!/bin/bash\n",
      "#SBATCH --cpus-per-task=1\n",
      "#SBATCH --mem-per-cpu=16G\n",
      "#SBATCH --output=slurm_output_libd_chr1-chr1_all-5401-5600-dynamic-1corestotal-1corepera-20240324-170419.out\n",
      "#SBATCH --job-name=libd_chr1-chr1_all-5401-5600-dynamic-1corestotal-1corepera-20240324-170419\n",
      "module load conda\n",
      "conda activate mwas\n",
      "TMPDIR=/dcs04/lieber/statsgen/mnagle/mwas/CpGWAS/temp_temp\n",
      "echo 'Executing Rscript with arguments: Rscript scripts/CLI.R --outdir=./output/ --snp_data_path=/dcs04/lieber/statsgen/shizhong/michael/mwas/gwas/libd_chr1.pgen --methylation_data_path=/dcs04/lieber/statsgen/shizhong/michael/mwas/pheno/dlpfc/out/chr1_all.rda --cov=/dcs04/lieber/statsgen/mnagle/mwas/full_covariates/all_dlpfc.csv --verbose=FALSE --lambda_choice=1se --alphas=1 --allow_inefficient_parallelization=FALSE --n_fold=5 --window_sizes=2000,4000,6000,8000,10000,20000,40000,50000,60000,80000,100000,150000,200000,300000,350000,400000,500000 --save_evaluation_results_each_fold=FALSE --save_glmnet_object=FALSE --omit_folds_with_na_r=TRUE --methInput_rds_path=/dcs04/lieber/statsgen/mnagle/mwas/chr1_dfplc_all_methylation_10k_samples_a3.rds --chunk1=5401 --chunk2=5600 --cv_eval_mode=dynamic --num_cores=1 --cores_per_alpha=1 --tag=libd_chr1-chr1_all-5401-5600-dynamic-1corestotal-1corepera-20240324-170419'\n",
      "Rscript scripts/CLI.R --outdir=./output/ --snp_data_path=/dcs04/lieber/statsgen/shizhong/michael/mwas/gwas/libd_chr1.pgen --methylation_data_path=/dcs04/lieber/statsgen/shizhong/michael/mwas/pheno/dlpfc/out/chr1_all.rda --cov=/dcs04/lieber/statsgen/mnagle/mwas/full_covariates/all_dlpfc.csv --verbose=FALSE --lambda_choice=1se --alphas=1 --allow_inefficient_parallelization=FALSE --n_fold=5 --window_sizes=2000,4000,6000,8000,10000,20000,40000,50000,60000,80000,100000,150000,200000,300000,350000,400000,500000 --save_evaluation_results_each_fold=FALSE --save_glmnet_object=FALSE --omit_folds_with_na_r=TRUE --methInput_rds_path=/dcs04/lieber/statsgen/mnagle/mwas/chr1_dfplc_all_methylation_10k_samples_a3.rds --chunk1=5401 --chunk2=5600 --cv_eval_mode=dynamic --num_cores=1 --cores_per_alpha=1 --tag=libd_chr1-chr1_all-5401-5600-dynamic-1corestotal-1corepera-20240324-170419\n"
     ]
    },
    {
     "name": "stderr",
     "output_type": "stream",
     "text": [
      "ZZZZzzzz....\n",
      "\n"
     ]
    },
    {
     "name": "stdout",
     "output_type": "stream",
     "text": [
      "#!/bin/bash\n",
      "#SBATCH --cpus-per-task=1\n",
      "#SBATCH --mem-per-cpu=16G\n",
      "#SBATCH --output=slurm_output_libd_chr1-chr1_all-5601-5800-dynamic-1corestotal-1corepera-20240324-170419.out\n",
      "#SBATCH --job-name=libd_chr1-chr1_all-5601-5800-dynamic-1corestotal-1corepera-20240324-170419\n",
      "module load conda\n",
      "conda activate mwas\n",
      "TMPDIR=/dcs04/lieber/statsgen/mnagle/mwas/CpGWAS/temp_temp\n",
      "echo 'Executing Rscript with arguments: Rscript scripts/CLI.R --outdir=./output/ --snp_data_path=/dcs04/lieber/statsgen/shizhong/michael/mwas/gwas/libd_chr1.pgen --methylation_data_path=/dcs04/lieber/statsgen/shizhong/michael/mwas/pheno/dlpfc/out/chr1_all.rda --cov=/dcs04/lieber/statsgen/mnagle/mwas/full_covariates/all_dlpfc.csv --verbose=FALSE --lambda_choice=1se --alphas=1 --allow_inefficient_parallelization=FALSE --n_fold=5 --window_sizes=2000,4000,6000,8000,10000,20000,40000,50000,60000,80000,100000,150000,200000,300000,350000,400000,500000 --save_evaluation_results_each_fold=FALSE --save_glmnet_object=FALSE --omit_folds_with_na_r=TRUE --methInput_rds_path=/dcs04/lieber/statsgen/mnagle/mwas/chr1_dfplc_all_methylation_10k_samples_a3.rds --chunk1=5601 --chunk2=5800 --cv_eval_mode=dynamic --num_cores=1 --cores_per_alpha=1 --tag=libd_chr1-chr1_all-5601-5800-dynamic-1corestotal-1corepera-20240324-170419'\n",
      "Rscript scripts/CLI.R --outdir=./output/ --snp_data_path=/dcs04/lieber/statsgen/shizhong/michael/mwas/gwas/libd_chr1.pgen --methylation_data_path=/dcs04/lieber/statsgen/shizhong/michael/mwas/pheno/dlpfc/out/chr1_all.rda --cov=/dcs04/lieber/statsgen/mnagle/mwas/full_covariates/all_dlpfc.csv --verbose=FALSE --lambda_choice=1se --alphas=1 --allow_inefficient_parallelization=FALSE --n_fold=5 --window_sizes=2000,4000,6000,8000,10000,20000,40000,50000,60000,80000,100000,150000,200000,300000,350000,400000,500000 --save_evaluation_results_each_fold=FALSE --save_glmnet_object=FALSE --omit_folds_with_na_r=TRUE --methInput_rds_path=/dcs04/lieber/statsgen/mnagle/mwas/chr1_dfplc_all_methylation_10k_samples_a3.rds --chunk1=5601 --chunk2=5800 --cv_eval_mode=dynamic --num_cores=1 --cores_per_alpha=1 --tag=libd_chr1-chr1_all-5601-5800-dynamic-1corestotal-1corepera-20240324-170419\n"
     ]
    },
    {
     "name": "stderr",
     "output_type": "stream",
     "text": [
      "ZZZZzzzz....\n",
      "\n"
     ]
    },
    {
     "name": "stdout",
     "output_type": "stream",
     "text": [
      "#!/bin/bash\n",
      "#SBATCH --cpus-per-task=1\n",
      "#SBATCH --mem-per-cpu=16G\n",
      "#SBATCH --output=slurm_output_libd_chr1-chr1_all-5801-6000-dynamic-1corestotal-1corepera-20240324-170419.out\n",
      "#SBATCH --job-name=libd_chr1-chr1_all-5801-6000-dynamic-1corestotal-1corepera-20240324-170419\n",
      "module load conda\n",
      "conda activate mwas\n",
      "TMPDIR=/dcs04/lieber/statsgen/mnagle/mwas/CpGWAS/temp_temp\n",
      "echo 'Executing Rscript with arguments: Rscript scripts/CLI.R --outdir=./output/ --snp_data_path=/dcs04/lieber/statsgen/shizhong/michael/mwas/gwas/libd_chr1.pgen --methylation_data_path=/dcs04/lieber/statsgen/shizhong/michael/mwas/pheno/dlpfc/out/chr1_all.rda --cov=/dcs04/lieber/statsgen/mnagle/mwas/full_covariates/all_dlpfc.csv --verbose=FALSE --lambda_choice=1se --alphas=1 --allow_inefficient_parallelization=FALSE --n_fold=5 --window_sizes=2000,4000,6000,8000,10000,20000,40000,50000,60000,80000,100000,150000,200000,300000,350000,400000,500000 --save_evaluation_results_each_fold=FALSE --save_glmnet_object=FALSE --omit_folds_with_na_r=TRUE --methInput_rds_path=/dcs04/lieber/statsgen/mnagle/mwas/chr1_dfplc_all_methylation_10k_samples_a3.rds --chunk1=5801 --chunk2=6000 --cv_eval_mode=dynamic --num_cores=1 --cores_per_alpha=1 --tag=libd_chr1-chr1_all-5801-6000-dynamic-1corestotal-1corepera-20240324-170419'\n",
      "Rscript scripts/CLI.R --outdir=./output/ --snp_data_path=/dcs04/lieber/statsgen/shizhong/michael/mwas/gwas/libd_chr1.pgen --methylation_data_path=/dcs04/lieber/statsgen/shizhong/michael/mwas/pheno/dlpfc/out/chr1_all.rda --cov=/dcs04/lieber/statsgen/mnagle/mwas/full_covariates/all_dlpfc.csv --verbose=FALSE --lambda_choice=1se --alphas=1 --allow_inefficient_parallelization=FALSE --n_fold=5 --window_sizes=2000,4000,6000,8000,10000,20000,40000,50000,60000,80000,100000,150000,200000,300000,350000,400000,500000 --save_evaluation_results_each_fold=FALSE --save_glmnet_object=FALSE --omit_folds_with_na_r=TRUE --methInput_rds_path=/dcs04/lieber/statsgen/mnagle/mwas/chr1_dfplc_all_methylation_10k_samples_a3.rds --chunk1=5801 --chunk2=6000 --cv_eval_mode=dynamic --num_cores=1 --cores_per_alpha=1 --tag=libd_chr1-chr1_all-5801-6000-dynamic-1corestotal-1corepera-20240324-170419\n"
     ]
    },
    {
     "name": "stderr",
     "output_type": "stream",
     "text": [
      "ZZZZzzzz....\n",
      "\n"
     ]
    },
    {
     "name": "stdout",
     "output_type": "stream",
     "text": [
      "#!/bin/bash\n",
      "#SBATCH --cpus-per-task=1\n",
      "#SBATCH --mem-per-cpu=16G\n",
      "#SBATCH --output=slurm_output_libd_chr1-chr1_all-6001-6200-dynamic-1corestotal-1corepera-20240324-170419.out\n",
      "#SBATCH --job-name=libd_chr1-chr1_all-6001-6200-dynamic-1corestotal-1corepera-20240324-170419\n",
      "module load conda\n",
      "conda activate mwas\n",
      "TMPDIR=/dcs04/lieber/statsgen/mnagle/mwas/CpGWAS/temp_temp\n",
      "echo 'Executing Rscript with arguments: Rscript scripts/CLI.R --outdir=./output/ --snp_data_path=/dcs04/lieber/statsgen/shizhong/michael/mwas/gwas/libd_chr1.pgen --methylation_data_path=/dcs04/lieber/statsgen/shizhong/michael/mwas/pheno/dlpfc/out/chr1_all.rda --cov=/dcs04/lieber/statsgen/mnagle/mwas/full_covariates/all_dlpfc.csv --verbose=FALSE --lambda_choice=1se --alphas=1 --allow_inefficient_parallelization=FALSE --n_fold=5 --window_sizes=2000,4000,6000,8000,10000,20000,40000,50000,60000,80000,100000,150000,200000,300000,350000,400000,500000 --save_evaluation_results_each_fold=FALSE --save_glmnet_object=FALSE --omit_folds_with_na_r=TRUE --methInput_rds_path=/dcs04/lieber/statsgen/mnagle/mwas/chr1_dfplc_all_methylation_10k_samples_a3.rds --chunk1=6001 --chunk2=6200 --cv_eval_mode=dynamic --num_cores=1 --cores_per_alpha=1 --tag=libd_chr1-chr1_all-6001-6200-dynamic-1corestotal-1corepera-20240324-170419'\n",
      "Rscript scripts/CLI.R --outdir=./output/ --snp_data_path=/dcs04/lieber/statsgen/shizhong/michael/mwas/gwas/libd_chr1.pgen --methylation_data_path=/dcs04/lieber/statsgen/shizhong/michael/mwas/pheno/dlpfc/out/chr1_all.rda --cov=/dcs04/lieber/statsgen/mnagle/mwas/full_covariates/all_dlpfc.csv --verbose=FALSE --lambda_choice=1se --alphas=1 --allow_inefficient_parallelization=FALSE --n_fold=5 --window_sizes=2000,4000,6000,8000,10000,20000,40000,50000,60000,80000,100000,150000,200000,300000,350000,400000,500000 --save_evaluation_results_each_fold=FALSE --save_glmnet_object=FALSE --omit_folds_with_na_r=TRUE --methInput_rds_path=/dcs04/lieber/statsgen/mnagle/mwas/chr1_dfplc_all_methylation_10k_samples_a3.rds --chunk1=6001 --chunk2=6200 --cv_eval_mode=dynamic --num_cores=1 --cores_per_alpha=1 --tag=libd_chr1-chr1_all-6001-6200-dynamic-1corestotal-1corepera-20240324-170419\n"
     ]
    },
    {
     "name": "stderr",
     "output_type": "stream",
     "text": [
      "ZZZZzzzz....\n",
      "\n"
     ]
    },
    {
     "name": "stdout",
     "output_type": "stream",
     "text": [
      "#!/bin/bash\n",
      "#SBATCH --cpus-per-task=1\n",
      "#SBATCH --mem-per-cpu=16G\n",
      "#SBATCH --output=slurm_output_libd_chr1-chr1_all-6201-6400-dynamic-1corestotal-1corepera-20240324-170419.out\n",
      "#SBATCH --job-name=libd_chr1-chr1_all-6201-6400-dynamic-1corestotal-1corepera-20240324-170419\n",
      "module load conda\n",
      "conda activate mwas\n",
      "TMPDIR=/dcs04/lieber/statsgen/mnagle/mwas/CpGWAS/temp_temp\n",
      "echo 'Executing Rscript with arguments: Rscript scripts/CLI.R --outdir=./output/ --snp_data_path=/dcs04/lieber/statsgen/shizhong/michael/mwas/gwas/libd_chr1.pgen --methylation_data_path=/dcs04/lieber/statsgen/shizhong/michael/mwas/pheno/dlpfc/out/chr1_all.rda --cov=/dcs04/lieber/statsgen/mnagle/mwas/full_covariates/all_dlpfc.csv --verbose=FALSE --lambda_choice=1se --alphas=1 --allow_inefficient_parallelization=FALSE --n_fold=5 --window_sizes=2000,4000,6000,8000,10000,20000,40000,50000,60000,80000,100000,150000,200000,300000,350000,400000,500000 --save_evaluation_results_each_fold=FALSE --save_glmnet_object=FALSE --omit_folds_with_na_r=TRUE --methInput_rds_path=/dcs04/lieber/statsgen/mnagle/mwas/chr1_dfplc_all_methylation_10k_samples_a3.rds --chunk1=6201 --chunk2=6400 --cv_eval_mode=dynamic --num_cores=1 --cores_per_alpha=1 --tag=libd_chr1-chr1_all-6201-6400-dynamic-1corestotal-1corepera-20240324-170419'\n",
      "Rscript scripts/CLI.R --outdir=./output/ --snp_data_path=/dcs04/lieber/statsgen/shizhong/michael/mwas/gwas/libd_chr1.pgen --methylation_data_path=/dcs04/lieber/statsgen/shizhong/michael/mwas/pheno/dlpfc/out/chr1_all.rda --cov=/dcs04/lieber/statsgen/mnagle/mwas/full_covariates/all_dlpfc.csv --verbose=FALSE --lambda_choice=1se --alphas=1 --allow_inefficient_parallelization=FALSE --n_fold=5 --window_sizes=2000,4000,6000,8000,10000,20000,40000,50000,60000,80000,100000,150000,200000,300000,350000,400000,500000 --save_evaluation_results_each_fold=FALSE --save_glmnet_object=FALSE --omit_folds_with_na_r=TRUE --methInput_rds_path=/dcs04/lieber/statsgen/mnagle/mwas/chr1_dfplc_all_methylation_10k_samples_a3.rds --chunk1=6201 --chunk2=6400 --cv_eval_mode=dynamic --num_cores=1 --cores_per_alpha=1 --tag=libd_chr1-chr1_all-6201-6400-dynamic-1corestotal-1corepera-20240324-170419\n"
     ]
    },
    {
     "name": "stderr",
     "output_type": "stream",
     "text": [
      "ZZZZzzzz....\n",
      "\n"
     ]
    },
    {
     "name": "stdout",
     "output_type": "stream",
     "text": [
      "#!/bin/bash\n",
      "#SBATCH --cpus-per-task=1\n",
      "#SBATCH --mem-per-cpu=16G\n",
      "#SBATCH --output=slurm_output_libd_chr1-chr1_all-6401-6600-dynamic-1corestotal-1corepera-20240324-170419.out\n",
      "#SBATCH --job-name=libd_chr1-chr1_all-6401-6600-dynamic-1corestotal-1corepera-20240324-170419\n",
      "module load conda\n",
      "conda activate mwas\n",
      "TMPDIR=/dcs04/lieber/statsgen/mnagle/mwas/CpGWAS/temp_temp\n",
      "echo 'Executing Rscript with arguments: Rscript scripts/CLI.R --outdir=./output/ --snp_data_path=/dcs04/lieber/statsgen/shizhong/michael/mwas/gwas/libd_chr1.pgen --methylation_data_path=/dcs04/lieber/statsgen/shizhong/michael/mwas/pheno/dlpfc/out/chr1_all.rda --cov=/dcs04/lieber/statsgen/mnagle/mwas/full_covariates/all_dlpfc.csv --verbose=FALSE --lambda_choice=1se --alphas=1 --allow_inefficient_parallelization=FALSE --n_fold=5 --window_sizes=2000,4000,6000,8000,10000,20000,40000,50000,60000,80000,100000,150000,200000,300000,350000,400000,500000 --save_evaluation_results_each_fold=FALSE --save_glmnet_object=FALSE --omit_folds_with_na_r=TRUE --methInput_rds_path=/dcs04/lieber/statsgen/mnagle/mwas/chr1_dfplc_all_methylation_10k_samples_a3.rds --chunk1=6401 --chunk2=6600 --cv_eval_mode=dynamic --num_cores=1 --cores_per_alpha=1 --tag=libd_chr1-chr1_all-6401-6600-dynamic-1corestotal-1corepera-20240324-170419'\n",
      "Rscript scripts/CLI.R --outdir=./output/ --snp_data_path=/dcs04/lieber/statsgen/shizhong/michael/mwas/gwas/libd_chr1.pgen --methylation_data_path=/dcs04/lieber/statsgen/shizhong/michael/mwas/pheno/dlpfc/out/chr1_all.rda --cov=/dcs04/lieber/statsgen/mnagle/mwas/full_covariates/all_dlpfc.csv --verbose=FALSE --lambda_choice=1se --alphas=1 --allow_inefficient_parallelization=FALSE --n_fold=5 --window_sizes=2000,4000,6000,8000,10000,20000,40000,50000,60000,80000,100000,150000,200000,300000,350000,400000,500000 --save_evaluation_results_each_fold=FALSE --save_glmnet_object=FALSE --omit_folds_with_na_r=TRUE --methInput_rds_path=/dcs04/lieber/statsgen/mnagle/mwas/chr1_dfplc_all_methylation_10k_samples_a3.rds --chunk1=6401 --chunk2=6600 --cv_eval_mode=dynamic --num_cores=1 --cores_per_alpha=1 --tag=libd_chr1-chr1_all-6401-6600-dynamic-1corestotal-1corepera-20240324-170419\n"
     ]
    },
    {
     "name": "stderr",
     "output_type": "stream",
     "text": [
      "ZZZZzzzz....\n",
      "\n"
     ]
    },
    {
     "name": "stdout",
     "output_type": "stream",
     "text": [
      "#!/bin/bash\n",
      "#SBATCH --cpus-per-task=1\n",
      "#SBATCH --mem-per-cpu=16G\n",
      "#SBATCH --output=slurm_output_libd_chr1-chr1_all-6601-6800-dynamic-1corestotal-1corepera-20240324-170419.out\n",
      "#SBATCH --job-name=libd_chr1-chr1_all-6601-6800-dynamic-1corestotal-1corepera-20240324-170419\n",
      "module load conda\n",
      "conda activate mwas\n",
      "TMPDIR=/dcs04/lieber/statsgen/mnagle/mwas/CpGWAS/temp_temp\n",
      "echo 'Executing Rscript with arguments: Rscript scripts/CLI.R --outdir=./output/ --snp_data_path=/dcs04/lieber/statsgen/shizhong/michael/mwas/gwas/libd_chr1.pgen --methylation_data_path=/dcs04/lieber/statsgen/shizhong/michael/mwas/pheno/dlpfc/out/chr1_all.rda --cov=/dcs04/lieber/statsgen/mnagle/mwas/full_covariates/all_dlpfc.csv --verbose=FALSE --lambda_choice=1se --alphas=1 --allow_inefficient_parallelization=FALSE --n_fold=5 --window_sizes=2000,4000,6000,8000,10000,20000,40000,50000,60000,80000,100000,150000,200000,300000,350000,400000,500000 --save_evaluation_results_each_fold=FALSE --save_glmnet_object=FALSE --omit_folds_with_na_r=TRUE --methInput_rds_path=/dcs04/lieber/statsgen/mnagle/mwas/chr1_dfplc_all_methylation_10k_samples_a3.rds --chunk1=6601 --chunk2=6800 --cv_eval_mode=dynamic --num_cores=1 --cores_per_alpha=1 --tag=libd_chr1-chr1_all-6601-6800-dynamic-1corestotal-1corepera-20240324-170419'\n",
      "Rscript scripts/CLI.R --outdir=./output/ --snp_data_path=/dcs04/lieber/statsgen/shizhong/michael/mwas/gwas/libd_chr1.pgen --methylation_data_path=/dcs04/lieber/statsgen/shizhong/michael/mwas/pheno/dlpfc/out/chr1_all.rda --cov=/dcs04/lieber/statsgen/mnagle/mwas/full_covariates/all_dlpfc.csv --verbose=FALSE --lambda_choice=1se --alphas=1 --allow_inefficient_parallelization=FALSE --n_fold=5 --window_sizes=2000,4000,6000,8000,10000,20000,40000,50000,60000,80000,100000,150000,200000,300000,350000,400000,500000 --save_evaluation_results_each_fold=FALSE --save_glmnet_object=FALSE --omit_folds_with_na_r=TRUE --methInput_rds_path=/dcs04/lieber/statsgen/mnagle/mwas/chr1_dfplc_all_methylation_10k_samples_a3.rds --chunk1=6601 --chunk2=6800 --cv_eval_mode=dynamic --num_cores=1 --cores_per_alpha=1 --tag=libd_chr1-chr1_all-6601-6800-dynamic-1corestotal-1corepera-20240324-170419\n"
     ]
    },
    {
     "name": "stderr",
     "output_type": "stream",
     "text": [
      "ZZZZzzzz....\n",
      "\n"
     ]
    },
    {
     "name": "stdout",
     "output_type": "stream",
     "text": [
      "#!/bin/bash\n",
      "#SBATCH --cpus-per-task=1\n",
      "#SBATCH --mem-per-cpu=16G\n",
      "#SBATCH --output=slurm_output_libd_chr1-chr1_all-6801-7000-dynamic-1corestotal-1corepera-20240324-170419.out\n",
      "#SBATCH --job-name=libd_chr1-chr1_all-6801-7000-dynamic-1corestotal-1corepera-20240324-170419\n",
      "module load conda\n",
      "conda activate mwas\n",
      "TMPDIR=/dcs04/lieber/statsgen/mnagle/mwas/CpGWAS/temp_temp\n",
      "echo 'Executing Rscript with arguments: Rscript scripts/CLI.R --outdir=./output/ --snp_data_path=/dcs04/lieber/statsgen/shizhong/michael/mwas/gwas/libd_chr1.pgen --methylation_data_path=/dcs04/lieber/statsgen/shizhong/michael/mwas/pheno/dlpfc/out/chr1_all.rda --cov=/dcs04/lieber/statsgen/mnagle/mwas/full_covariates/all_dlpfc.csv --verbose=FALSE --lambda_choice=1se --alphas=1 --allow_inefficient_parallelization=FALSE --n_fold=5 --window_sizes=2000,4000,6000,8000,10000,20000,40000,50000,60000,80000,100000,150000,200000,300000,350000,400000,500000 --save_evaluation_results_each_fold=FALSE --save_glmnet_object=FALSE --omit_folds_with_na_r=TRUE --methInput_rds_path=/dcs04/lieber/statsgen/mnagle/mwas/chr1_dfplc_all_methylation_10k_samples_a3.rds --chunk1=6801 --chunk2=7000 --cv_eval_mode=dynamic --num_cores=1 --cores_per_alpha=1 --tag=libd_chr1-chr1_all-6801-7000-dynamic-1corestotal-1corepera-20240324-170419'\n",
      "Rscript scripts/CLI.R --outdir=./output/ --snp_data_path=/dcs04/lieber/statsgen/shizhong/michael/mwas/gwas/libd_chr1.pgen --methylation_data_path=/dcs04/lieber/statsgen/shizhong/michael/mwas/pheno/dlpfc/out/chr1_all.rda --cov=/dcs04/lieber/statsgen/mnagle/mwas/full_covariates/all_dlpfc.csv --verbose=FALSE --lambda_choice=1se --alphas=1 --allow_inefficient_parallelization=FALSE --n_fold=5 --window_sizes=2000,4000,6000,8000,10000,20000,40000,50000,60000,80000,100000,150000,200000,300000,350000,400000,500000 --save_evaluation_results_each_fold=FALSE --save_glmnet_object=FALSE --omit_folds_with_na_r=TRUE --methInput_rds_path=/dcs04/lieber/statsgen/mnagle/mwas/chr1_dfplc_all_methylation_10k_samples_a3.rds --chunk1=6801 --chunk2=7000 --cv_eval_mode=dynamic --num_cores=1 --cores_per_alpha=1 --tag=libd_chr1-chr1_all-6801-7000-dynamic-1corestotal-1corepera-20240324-170419\n"
     ]
    },
    {
     "name": "stderr",
     "output_type": "stream",
     "text": [
      "ZZZZzzzz....\n",
      "\n"
     ]
    },
    {
     "name": "stdout",
     "output_type": "stream",
     "text": [
      "#!/bin/bash\n",
      "#SBATCH --cpus-per-task=1\n",
      "#SBATCH --mem-per-cpu=16G\n",
      "#SBATCH --output=slurm_output_libd_chr1-chr1_all-7001-7200-dynamic-1corestotal-1corepera-20240324-170419.out\n",
      "#SBATCH --job-name=libd_chr1-chr1_all-7001-7200-dynamic-1corestotal-1corepera-20240324-170419\n",
      "module load conda\n",
      "conda activate mwas\n",
      "TMPDIR=/dcs04/lieber/statsgen/mnagle/mwas/CpGWAS/temp_temp\n",
      "echo 'Executing Rscript with arguments: Rscript scripts/CLI.R --outdir=./output/ --snp_data_path=/dcs04/lieber/statsgen/shizhong/michael/mwas/gwas/libd_chr1.pgen --methylation_data_path=/dcs04/lieber/statsgen/shizhong/michael/mwas/pheno/dlpfc/out/chr1_all.rda --cov=/dcs04/lieber/statsgen/mnagle/mwas/full_covariates/all_dlpfc.csv --verbose=FALSE --lambda_choice=1se --alphas=1 --allow_inefficient_parallelization=FALSE --n_fold=5 --window_sizes=2000,4000,6000,8000,10000,20000,40000,50000,60000,80000,100000,150000,200000,300000,350000,400000,500000 --save_evaluation_results_each_fold=FALSE --save_glmnet_object=FALSE --omit_folds_with_na_r=TRUE --methInput_rds_path=/dcs04/lieber/statsgen/mnagle/mwas/chr1_dfplc_all_methylation_10k_samples_a3.rds --chunk1=7001 --chunk2=7200 --cv_eval_mode=dynamic --num_cores=1 --cores_per_alpha=1 --tag=libd_chr1-chr1_all-7001-7200-dynamic-1corestotal-1corepera-20240324-170419'\n",
      "Rscript scripts/CLI.R --outdir=./output/ --snp_data_path=/dcs04/lieber/statsgen/shizhong/michael/mwas/gwas/libd_chr1.pgen --methylation_data_path=/dcs04/lieber/statsgen/shizhong/michael/mwas/pheno/dlpfc/out/chr1_all.rda --cov=/dcs04/lieber/statsgen/mnagle/mwas/full_covariates/all_dlpfc.csv --verbose=FALSE --lambda_choice=1se --alphas=1 --allow_inefficient_parallelization=FALSE --n_fold=5 --window_sizes=2000,4000,6000,8000,10000,20000,40000,50000,60000,80000,100000,150000,200000,300000,350000,400000,500000 --save_evaluation_results_each_fold=FALSE --save_glmnet_object=FALSE --omit_folds_with_na_r=TRUE --methInput_rds_path=/dcs04/lieber/statsgen/mnagle/mwas/chr1_dfplc_all_methylation_10k_samples_a3.rds --chunk1=7001 --chunk2=7200 --cv_eval_mode=dynamic --num_cores=1 --cores_per_alpha=1 --tag=libd_chr1-chr1_all-7001-7200-dynamic-1corestotal-1corepera-20240324-170419\n"
     ]
    },
    {
     "name": "stderr",
     "output_type": "stream",
     "text": [
      "ZZZZzzzz....\n",
      "\n"
     ]
    },
    {
     "name": "stdout",
     "output_type": "stream",
     "text": [
      "#!/bin/bash\n",
      "#SBATCH --cpus-per-task=1\n",
      "#SBATCH --mem-per-cpu=16G\n",
      "#SBATCH --output=slurm_output_libd_chr1-chr1_all-7201-7400-dynamic-1corestotal-1corepera-20240324-170419.out\n",
      "#SBATCH --job-name=libd_chr1-chr1_all-7201-7400-dynamic-1corestotal-1corepera-20240324-170419\n",
      "module load conda\n",
      "conda activate mwas\n",
      "TMPDIR=/dcs04/lieber/statsgen/mnagle/mwas/CpGWAS/temp_temp\n",
      "echo 'Executing Rscript with arguments: Rscript scripts/CLI.R --outdir=./output/ --snp_data_path=/dcs04/lieber/statsgen/shizhong/michael/mwas/gwas/libd_chr1.pgen --methylation_data_path=/dcs04/lieber/statsgen/shizhong/michael/mwas/pheno/dlpfc/out/chr1_all.rda --cov=/dcs04/lieber/statsgen/mnagle/mwas/full_covariates/all_dlpfc.csv --verbose=FALSE --lambda_choice=1se --alphas=1 --allow_inefficient_parallelization=FALSE --n_fold=5 --window_sizes=2000,4000,6000,8000,10000,20000,40000,50000,60000,80000,100000,150000,200000,300000,350000,400000,500000 --save_evaluation_results_each_fold=FALSE --save_glmnet_object=FALSE --omit_folds_with_na_r=TRUE --methInput_rds_path=/dcs04/lieber/statsgen/mnagle/mwas/chr1_dfplc_all_methylation_10k_samples_a3.rds --chunk1=7201 --chunk2=7400 --cv_eval_mode=dynamic --num_cores=1 --cores_per_alpha=1 --tag=libd_chr1-chr1_all-7201-7400-dynamic-1corestotal-1corepera-20240324-170419'\n",
      "Rscript scripts/CLI.R --outdir=./output/ --snp_data_path=/dcs04/lieber/statsgen/shizhong/michael/mwas/gwas/libd_chr1.pgen --methylation_data_path=/dcs04/lieber/statsgen/shizhong/michael/mwas/pheno/dlpfc/out/chr1_all.rda --cov=/dcs04/lieber/statsgen/mnagle/mwas/full_covariates/all_dlpfc.csv --verbose=FALSE --lambda_choice=1se --alphas=1 --allow_inefficient_parallelization=FALSE --n_fold=5 --window_sizes=2000,4000,6000,8000,10000,20000,40000,50000,60000,80000,100000,150000,200000,300000,350000,400000,500000 --save_evaluation_results_each_fold=FALSE --save_glmnet_object=FALSE --omit_folds_with_na_r=TRUE --methInput_rds_path=/dcs04/lieber/statsgen/mnagle/mwas/chr1_dfplc_all_methylation_10k_samples_a3.rds --chunk1=7201 --chunk2=7400 --cv_eval_mode=dynamic --num_cores=1 --cores_per_alpha=1 --tag=libd_chr1-chr1_all-7201-7400-dynamic-1corestotal-1corepera-20240324-170419\n"
     ]
    },
    {
     "name": "stderr",
     "output_type": "stream",
     "text": [
      "ZZZZzzzz....\n",
      "\n"
     ]
    },
    {
     "name": "stdout",
     "output_type": "stream",
     "text": [
      "#!/bin/bash\n",
      "#SBATCH --cpus-per-task=1\n",
      "#SBATCH --mem-per-cpu=16G\n",
      "#SBATCH --output=slurm_output_libd_chr1-chr1_all-7401-7600-dynamic-1corestotal-1corepera-20240324-170419.out\n",
      "#SBATCH --job-name=libd_chr1-chr1_all-7401-7600-dynamic-1corestotal-1corepera-20240324-170419\n",
      "module load conda\n",
      "conda activate mwas\n",
      "TMPDIR=/dcs04/lieber/statsgen/mnagle/mwas/CpGWAS/temp_temp\n",
      "echo 'Executing Rscript with arguments: Rscript scripts/CLI.R --outdir=./output/ --snp_data_path=/dcs04/lieber/statsgen/shizhong/michael/mwas/gwas/libd_chr1.pgen --methylation_data_path=/dcs04/lieber/statsgen/shizhong/michael/mwas/pheno/dlpfc/out/chr1_all.rda --cov=/dcs04/lieber/statsgen/mnagle/mwas/full_covariates/all_dlpfc.csv --verbose=FALSE --lambda_choice=1se --alphas=1 --allow_inefficient_parallelization=FALSE --n_fold=5 --window_sizes=2000,4000,6000,8000,10000,20000,40000,50000,60000,80000,100000,150000,200000,300000,350000,400000,500000 --save_evaluation_results_each_fold=FALSE --save_glmnet_object=FALSE --omit_folds_with_na_r=TRUE --methInput_rds_path=/dcs04/lieber/statsgen/mnagle/mwas/chr1_dfplc_all_methylation_10k_samples_a3.rds --chunk1=7401 --chunk2=7600 --cv_eval_mode=dynamic --num_cores=1 --cores_per_alpha=1 --tag=libd_chr1-chr1_all-7401-7600-dynamic-1corestotal-1corepera-20240324-170419'\n",
      "Rscript scripts/CLI.R --outdir=./output/ --snp_data_path=/dcs04/lieber/statsgen/shizhong/michael/mwas/gwas/libd_chr1.pgen --methylation_data_path=/dcs04/lieber/statsgen/shizhong/michael/mwas/pheno/dlpfc/out/chr1_all.rda --cov=/dcs04/lieber/statsgen/mnagle/mwas/full_covariates/all_dlpfc.csv --verbose=FALSE --lambda_choice=1se --alphas=1 --allow_inefficient_parallelization=FALSE --n_fold=5 --window_sizes=2000,4000,6000,8000,10000,20000,40000,50000,60000,80000,100000,150000,200000,300000,350000,400000,500000 --save_evaluation_results_each_fold=FALSE --save_glmnet_object=FALSE --omit_folds_with_na_r=TRUE --methInput_rds_path=/dcs04/lieber/statsgen/mnagle/mwas/chr1_dfplc_all_methylation_10k_samples_a3.rds --chunk1=7401 --chunk2=7600 --cv_eval_mode=dynamic --num_cores=1 --cores_per_alpha=1 --tag=libd_chr1-chr1_all-7401-7600-dynamic-1corestotal-1corepera-20240324-170419\n"
     ]
    },
    {
     "name": "stderr",
     "output_type": "stream",
     "text": [
      "ZZZZzzzz....\n",
      "\n"
     ]
    },
    {
     "name": "stdout",
     "output_type": "stream",
     "text": [
      "#!/bin/bash\n",
      "#SBATCH --cpus-per-task=1\n",
      "#SBATCH --mem-per-cpu=16G\n",
      "#SBATCH --output=slurm_output_libd_chr1-chr1_all-7601-7800-dynamic-1corestotal-1corepera-20240324-170419.out\n",
      "#SBATCH --job-name=libd_chr1-chr1_all-7601-7800-dynamic-1corestotal-1corepera-20240324-170419\n",
      "module load conda\n",
      "conda activate mwas\n",
      "TMPDIR=/dcs04/lieber/statsgen/mnagle/mwas/CpGWAS/temp_temp\n",
      "echo 'Executing Rscript with arguments: Rscript scripts/CLI.R --outdir=./output/ --snp_data_path=/dcs04/lieber/statsgen/shizhong/michael/mwas/gwas/libd_chr1.pgen --methylation_data_path=/dcs04/lieber/statsgen/shizhong/michael/mwas/pheno/dlpfc/out/chr1_all.rda --cov=/dcs04/lieber/statsgen/mnagle/mwas/full_covariates/all_dlpfc.csv --verbose=FALSE --lambda_choice=1se --alphas=1 --allow_inefficient_parallelization=FALSE --n_fold=5 --window_sizes=2000,4000,6000,8000,10000,20000,40000,50000,60000,80000,100000,150000,200000,300000,350000,400000,500000 --save_evaluation_results_each_fold=FALSE --save_glmnet_object=FALSE --omit_folds_with_na_r=TRUE --methInput_rds_path=/dcs04/lieber/statsgen/mnagle/mwas/chr1_dfplc_all_methylation_10k_samples_a3.rds --chunk1=7601 --chunk2=7800 --cv_eval_mode=dynamic --num_cores=1 --cores_per_alpha=1 --tag=libd_chr1-chr1_all-7601-7800-dynamic-1corestotal-1corepera-20240324-170419'\n",
      "Rscript scripts/CLI.R --outdir=./output/ --snp_data_path=/dcs04/lieber/statsgen/shizhong/michael/mwas/gwas/libd_chr1.pgen --methylation_data_path=/dcs04/lieber/statsgen/shizhong/michael/mwas/pheno/dlpfc/out/chr1_all.rda --cov=/dcs04/lieber/statsgen/mnagle/mwas/full_covariates/all_dlpfc.csv --verbose=FALSE --lambda_choice=1se --alphas=1 --allow_inefficient_parallelization=FALSE --n_fold=5 --window_sizes=2000,4000,6000,8000,10000,20000,40000,50000,60000,80000,100000,150000,200000,300000,350000,400000,500000 --save_evaluation_results_each_fold=FALSE --save_glmnet_object=FALSE --omit_folds_with_na_r=TRUE --methInput_rds_path=/dcs04/lieber/statsgen/mnagle/mwas/chr1_dfplc_all_methylation_10k_samples_a3.rds --chunk1=7601 --chunk2=7800 --cv_eval_mode=dynamic --num_cores=1 --cores_per_alpha=1 --tag=libd_chr1-chr1_all-7601-7800-dynamic-1corestotal-1corepera-20240324-170419\n"
     ]
    },
    {
     "name": "stderr",
     "output_type": "stream",
     "text": [
      "ZZZZzzzz....\n",
      "\n"
     ]
    },
    {
     "name": "stdout",
     "output_type": "stream",
     "text": [
      "#!/bin/bash\n",
      "#SBATCH --cpus-per-task=1\n",
      "#SBATCH --mem-per-cpu=16G\n",
      "#SBATCH --output=slurm_output_libd_chr1-chr1_all-7801-8000-dynamic-1corestotal-1corepera-20240324-170419.out\n",
      "#SBATCH --job-name=libd_chr1-chr1_all-7801-8000-dynamic-1corestotal-1corepera-20240324-170419\n",
      "module load conda\n",
      "conda activate mwas\n",
      "TMPDIR=/dcs04/lieber/statsgen/mnagle/mwas/CpGWAS/temp_temp\n",
      "echo 'Executing Rscript with arguments: Rscript scripts/CLI.R --outdir=./output/ --snp_data_path=/dcs04/lieber/statsgen/shizhong/michael/mwas/gwas/libd_chr1.pgen --methylation_data_path=/dcs04/lieber/statsgen/shizhong/michael/mwas/pheno/dlpfc/out/chr1_all.rda --cov=/dcs04/lieber/statsgen/mnagle/mwas/full_covariates/all_dlpfc.csv --verbose=FALSE --lambda_choice=1se --alphas=1 --allow_inefficient_parallelization=FALSE --n_fold=5 --window_sizes=2000,4000,6000,8000,10000,20000,40000,50000,60000,80000,100000,150000,200000,300000,350000,400000,500000 --save_evaluation_results_each_fold=FALSE --save_glmnet_object=FALSE --omit_folds_with_na_r=TRUE --methInput_rds_path=/dcs04/lieber/statsgen/mnagle/mwas/chr1_dfplc_all_methylation_10k_samples_a3.rds --chunk1=7801 --chunk2=8000 --cv_eval_mode=dynamic --num_cores=1 --cores_per_alpha=1 --tag=libd_chr1-chr1_all-7801-8000-dynamic-1corestotal-1corepera-20240324-170419'\n",
      "Rscript scripts/CLI.R --outdir=./output/ --snp_data_path=/dcs04/lieber/statsgen/shizhong/michael/mwas/gwas/libd_chr1.pgen --methylation_data_path=/dcs04/lieber/statsgen/shizhong/michael/mwas/pheno/dlpfc/out/chr1_all.rda --cov=/dcs04/lieber/statsgen/mnagle/mwas/full_covariates/all_dlpfc.csv --verbose=FALSE --lambda_choice=1se --alphas=1 --allow_inefficient_parallelization=FALSE --n_fold=5 --window_sizes=2000,4000,6000,8000,10000,20000,40000,50000,60000,80000,100000,150000,200000,300000,350000,400000,500000 --save_evaluation_results_each_fold=FALSE --save_glmnet_object=FALSE --omit_folds_with_na_r=TRUE --methInput_rds_path=/dcs04/lieber/statsgen/mnagle/mwas/chr1_dfplc_all_methylation_10k_samples_a3.rds --chunk1=7801 --chunk2=8000 --cv_eval_mode=dynamic --num_cores=1 --cores_per_alpha=1 --tag=libd_chr1-chr1_all-7801-8000-dynamic-1corestotal-1corepera-20240324-170419\n"
     ]
    },
    {
     "name": "stderr",
     "output_type": "stream",
     "text": [
      "ZZZZzzzz....\n",
      "\n"
     ]
    },
    {
     "name": "stdout",
     "output_type": "stream",
     "text": [
      "#!/bin/bash\n",
      "#SBATCH --cpus-per-task=1\n",
      "#SBATCH --mem-per-cpu=16G\n",
      "#SBATCH --output=slurm_output_libd_chr1-chr1_all-8001-8200-dynamic-1corestotal-1corepera-20240324-170419.out\n",
      "#SBATCH --job-name=libd_chr1-chr1_all-8001-8200-dynamic-1corestotal-1corepera-20240324-170419\n",
      "module load conda\n",
      "conda activate mwas\n",
      "TMPDIR=/dcs04/lieber/statsgen/mnagle/mwas/CpGWAS/temp_temp\n",
      "echo 'Executing Rscript with arguments: Rscript scripts/CLI.R --outdir=./output/ --snp_data_path=/dcs04/lieber/statsgen/shizhong/michael/mwas/gwas/libd_chr1.pgen --methylation_data_path=/dcs04/lieber/statsgen/shizhong/michael/mwas/pheno/dlpfc/out/chr1_all.rda --cov=/dcs04/lieber/statsgen/mnagle/mwas/full_covariates/all_dlpfc.csv --verbose=FALSE --lambda_choice=1se --alphas=1 --allow_inefficient_parallelization=FALSE --n_fold=5 --window_sizes=2000,4000,6000,8000,10000,20000,40000,50000,60000,80000,100000,150000,200000,300000,350000,400000,500000 --save_evaluation_results_each_fold=FALSE --save_glmnet_object=FALSE --omit_folds_with_na_r=TRUE --methInput_rds_path=/dcs04/lieber/statsgen/mnagle/mwas/chr1_dfplc_all_methylation_10k_samples_a3.rds --chunk1=8001 --chunk2=8200 --cv_eval_mode=dynamic --num_cores=1 --cores_per_alpha=1 --tag=libd_chr1-chr1_all-8001-8200-dynamic-1corestotal-1corepera-20240324-170419'\n",
      "Rscript scripts/CLI.R --outdir=./output/ --snp_data_path=/dcs04/lieber/statsgen/shizhong/michael/mwas/gwas/libd_chr1.pgen --methylation_data_path=/dcs04/lieber/statsgen/shizhong/michael/mwas/pheno/dlpfc/out/chr1_all.rda --cov=/dcs04/lieber/statsgen/mnagle/mwas/full_covariates/all_dlpfc.csv --verbose=FALSE --lambda_choice=1se --alphas=1 --allow_inefficient_parallelization=FALSE --n_fold=5 --window_sizes=2000,4000,6000,8000,10000,20000,40000,50000,60000,80000,100000,150000,200000,300000,350000,400000,500000 --save_evaluation_results_each_fold=FALSE --save_glmnet_object=FALSE --omit_folds_with_na_r=TRUE --methInput_rds_path=/dcs04/lieber/statsgen/mnagle/mwas/chr1_dfplc_all_methylation_10k_samples_a3.rds --chunk1=8001 --chunk2=8200 --cv_eval_mode=dynamic --num_cores=1 --cores_per_alpha=1 --tag=libd_chr1-chr1_all-8001-8200-dynamic-1corestotal-1corepera-20240324-170419\n"
     ]
    },
    {
     "name": "stderr",
     "output_type": "stream",
     "text": [
      "ZZZZzzzz....\n",
      "\n"
     ]
    },
    {
     "name": "stdout",
     "output_type": "stream",
     "text": [
      "#!/bin/bash\n",
      "#SBATCH --cpus-per-task=1\n",
      "#SBATCH --mem-per-cpu=16G\n",
      "#SBATCH --output=slurm_output_libd_chr1-chr1_all-8201-8400-dynamic-1corestotal-1corepera-20240324-170419.out\n",
      "#SBATCH --job-name=libd_chr1-chr1_all-8201-8400-dynamic-1corestotal-1corepera-20240324-170419\n",
      "module load conda\n",
      "conda activate mwas\n",
      "TMPDIR=/dcs04/lieber/statsgen/mnagle/mwas/CpGWAS/temp_temp\n",
      "echo 'Executing Rscript with arguments: Rscript scripts/CLI.R --outdir=./output/ --snp_data_path=/dcs04/lieber/statsgen/shizhong/michael/mwas/gwas/libd_chr1.pgen --methylation_data_path=/dcs04/lieber/statsgen/shizhong/michael/mwas/pheno/dlpfc/out/chr1_all.rda --cov=/dcs04/lieber/statsgen/mnagle/mwas/full_covariates/all_dlpfc.csv --verbose=FALSE --lambda_choice=1se --alphas=1 --allow_inefficient_parallelization=FALSE --n_fold=5 --window_sizes=2000,4000,6000,8000,10000,20000,40000,50000,60000,80000,100000,150000,200000,300000,350000,400000,500000 --save_evaluation_results_each_fold=FALSE --save_glmnet_object=FALSE --omit_folds_with_na_r=TRUE --methInput_rds_path=/dcs04/lieber/statsgen/mnagle/mwas/chr1_dfplc_all_methylation_10k_samples_a3.rds --chunk1=8201 --chunk2=8400 --cv_eval_mode=dynamic --num_cores=1 --cores_per_alpha=1 --tag=libd_chr1-chr1_all-8201-8400-dynamic-1corestotal-1corepera-20240324-170419'\n",
      "Rscript scripts/CLI.R --outdir=./output/ --snp_data_path=/dcs04/lieber/statsgen/shizhong/michael/mwas/gwas/libd_chr1.pgen --methylation_data_path=/dcs04/lieber/statsgen/shizhong/michael/mwas/pheno/dlpfc/out/chr1_all.rda --cov=/dcs04/lieber/statsgen/mnagle/mwas/full_covariates/all_dlpfc.csv --verbose=FALSE --lambda_choice=1se --alphas=1 --allow_inefficient_parallelization=FALSE --n_fold=5 --window_sizes=2000,4000,6000,8000,10000,20000,40000,50000,60000,80000,100000,150000,200000,300000,350000,400000,500000 --save_evaluation_results_each_fold=FALSE --save_glmnet_object=FALSE --omit_folds_with_na_r=TRUE --methInput_rds_path=/dcs04/lieber/statsgen/mnagle/mwas/chr1_dfplc_all_methylation_10k_samples_a3.rds --chunk1=8201 --chunk2=8400 --cv_eval_mode=dynamic --num_cores=1 --cores_per_alpha=1 --tag=libd_chr1-chr1_all-8201-8400-dynamic-1corestotal-1corepera-20240324-170419\n"
     ]
    },
    {
     "name": "stderr",
     "output_type": "stream",
     "text": [
      "ZZZZzzzz....\n",
      "\n"
     ]
    },
    {
     "name": "stdout",
     "output_type": "stream",
     "text": [
      "#!/bin/bash\n",
      "#SBATCH --cpus-per-task=1\n",
      "#SBATCH --mem-per-cpu=16G\n",
      "#SBATCH --output=slurm_output_libd_chr1-chr1_all-8401-8600-dynamic-1corestotal-1corepera-20240324-170419.out\n",
      "#SBATCH --job-name=libd_chr1-chr1_all-8401-8600-dynamic-1corestotal-1corepera-20240324-170419\n",
      "module load conda\n",
      "conda activate mwas\n",
      "TMPDIR=/dcs04/lieber/statsgen/mnagle/mwas/CpGWAS/temp_temp\n",
      "echo 'Executing Rscript with arguments: Rscript scripts/CLI.R --outdir=./output/ --snp_data_path=/dcs04/lieber/statsgen/shizhong/michael/mwas/gwas/libd_chr1.pgen --methylation_data_path=/dcs04/lieber/statsgen/shizhong/michael/mwas/pheno/dlpfc/out/chr1_all.rda --cov=/dcs04/lieber/statsgen/mnagle/mwas/full_covariates/all_dlpfc.csv --verbose=FALSE --lambda_choice=1se --alphas=1 --allow_inefficient_parallelization=FALSE --n_fold=5 --window_sizes=2000,4000,6000,8000,10000,20000,40000,50000,60000,80000,100000,150000,200000,300000,350000,400000,500000 --save_evaluation_results_each_fold=FALSE --save_glmnet_object=FALSE --omit_folds_with_na_r=TRUE --methInput_rds_path=/dcs04/lieber/statsgen/mnagle/mwas/chr1_dfplc_all_methylation_10k_samples_a3.rds --chunk1=8401 --chunk2=8600 --cv_eval_mode=dynamic --num_cores=1 --cores_per_alpha=1 --tag=libd_chr1-chr1_all-8401-8600-dynamic-1corestotal-1corepera-20240324-170419'\n",
      "Rscript scripts/CLI.R --outdir=./output/ --snp_data_path=/dcs04/lieber/statsgen/shizhong/michael/mwas/gwas/libd_chr1.pgen --methylation_data_path=/dcs04/lieber/statsgen/shizhong/michael/mwas/pheno/dlpfc/out/chr1_all.rda --cov=/dcs04/lieber/statsgen/mnagle/mwas/full_covariates/all_dlpfc.csv --verbose=FALSE --lambda_choice=1se --alphas=1 --allow_inefficient_parallelization=FALSE --n_fold=5 --window_sizes=2000,4000,6000,8000,10000,20000,40000,50000,60000,80000,100000,150000,200000,300000,350000,400000,500000 --save_evaluation_results_each_fold=FALSE --save_glmnet_object=FALSE --omit_folds_with_na_r=TRUE --methInput_rds_path=/dcs04/lieber/statsgen/mnagle/mwas/chr1_dfplc_all_methylation_10k_samples_a3.rds --chunk1=8401 --chunk2=8600 --cv_eval_mode=dynamic --num_cores=1 --cores_per_alpha=1 --tag=libd_chr1-chr1_all-8401-8600-dynamic-1corestotal-1corepera-20240324-170419\n"
     ]
    },
    {
     "name": "stderr",
     "output_type": "stream",
     "text": [
      "ZZZZzzzz....\n",
      "\n"
     ]
    },
    {
     "name": "stdout",
     "output_type": "stream",
     "text": [
      "#!/bin/bash\n",
      "#SBATCH --cpus-per-task=1\n",
      "#SBATCH --mem-per-cpu=16G\n",
      "#SBATCH --output=slurm_output_libd_chr1-chr1_all-8601-8800-dynamic-1corestotal-1corepera-20240324-170419.out\n",
      "#SBATCH --job-name=libd_chr1-chr1_all-8601-8800-dynamic-1corestotal-1corepera-20240324-170419\n",
      "module load conda\n",
      "conda activate mwas\n",
      "TMPDIR=/dcs04/lieber/statsgen/mnagle/mwas/CpGWAS/temp_temp\n",
      "echo 'Executing Rscript with arguments: Rscript scripts/CLI.R --outdir=./output/ --snp_data_path=/dcs04/lieber/statsgen/shizhong/michael/mwas/gwas/libd_chr1.pgen --methylation_data_path=/dcs04/lieber/statsgen/shizhong/michael/mwas/pheno/dlpfc/out/chr1_all.rda --cov=/dcs04/lieber/statsgen/mnagle/mwas/full_covariates/all_dlpfc.csv --verbose=FALSE --lambda_choice=1se --alphas=1 --allow_inefficient_parallelization=FALSE --n_fold=5 --window_sizes=2000,4000,6000,8000,10000,20000,40000,50000,60000,80000,100000,150000,200000,300000,350000,400000,500000 --save_evaluation_results_each_fold=FALSE --save_glmnet_object=FALSE --omit_folds_with_na_r=TRUE --methInput_rds_path=/dcs04/lieber/statsgen/mnagle/mwas/chr1_dfplc_all_methylation_10k_samples_a3.rds --chunk1=8601 --chunk2=8800 --cv_eval_mode=dynamic --num_cores=1 --cores_per_alpha=1 --tag=libd_chr1-chr1_all-8601-8800-dynamic-1corestotal-1corepera-20240324-170419'\n",
      "Rscript scripts/CLI.R --outdir=./output/ --snp_data_path=/dcs04/lieber/statsgen/shizhong/michael/mwas/gwas/libd_chr1.pgen --methylation_data_path=/dcs04/lieber/statsgen/shizhong/michael/mwas/pheno/dlpfc/out/chr1_all.rda --cov=/dcs04/lieber/statsgen/mnagle/mwas/full_covariates/all_dlpfc.csv --verbose=FALSE --lambda_choice=1se --alphas=1 --allow_inefficient_parallelization=FALSE --n_fold=5 --window_sizes=2000,4000,6000,8000,10000,20000,40000,50000,60000,80000,100000,150000,200000,300000,350000,400000,500000 --save_evaluation_results_each_fold=FALSE --save_glmnet_object=FALSE --omit_folds_with_na_r=TRUE --methInput_rds_path=/dcs04/lieber/statsgen/mnagle/mwas/chr1_dfplc_all_methylation_10k_samples_a3.rds --chunk1=8601 --chunk2=8800 --cv_eval_mode=dynamic --num_cores=1 --cores_per_alpha=1 --tag=libd_chr1-chr1_all-8601-8800-dynamic-1corestotal-1corepera-20240324-170419\n"
     ]
    },
    {
     "name": "stderr",
     "output_type": "stream",
     "text": [
      "ZZZZzzzz....\n",
      "\n"
     ]
    },
    {
     "name": "stdout",
     "output_type": "stream",
     "text": [
      "#!/bin/bash\n",
      "#SBATCH --cpus-per-task=1\n",
      "#SBATCH --mem-per-cpu=16G\n",
      "#SBATCH --output=slurm_output_libd_chr1-chr1_all-8801-9000-dynamic-1corestotal-1corepera-20240324-170419.out\n",
      "#SBATCH --job-name=libd_chr1-chr1_all-8801-9000-dynamic-1corestotal-1corepera-20240324-170419\n",
      "module load conda\n",
      "conda activate mwas\n",
      "TMPDIR=/dcs04/lieber/statsgen/mnagle/mwas/CpGWAS/temp_temp\n",
      "echo 'Executing Rscript with arguments: Rscript scripts/CLI.R --outdir=./output/ --snp_data_path=/dcs04/lieber/statsgen/shizhong/michael/mwas/gwas/libd_chr1.pgen --methylation_data_path=/dcs04/lieber/statsgen/shizhong/michael/mwas/pheno/dlpfc/out/chr1_all.rda --cov=/dcs04/lieber/statsgen/mnagle/mwas/full_covariates/all_dlpfc.csv --verbose=FALSE --lambda_choice=1se --alphas=1 --allow_inefficient_parallelization=FALSE --n_fold=5 --window_sizes=2000,4000,6000,8000,10000,20000,40000,50000,60000,80000,100000,150000,200000,300000,350000,400000,500000 --save_evaluation_results_each_fold=FALSE --save_glmnet_object=FALSE --omit_folds_with_na_r=TRUE --methInput_rds_path=/dcs04/lieber/statsgen/mnagle/mwas/chr1_dfplc_all_methylation_10k_samples_a3.rds --chunk1=8801 --chunk2=9000 --cv_eval_mode=dynamic --num_cores=1 --cores_per_alpha=1 --tag=libd_chr1-chr1_all-8801-9000-dynamic-1corestotal-1corepera-20240324-170419'\n",
      "Rscript scripts/CLI.R --outdir=./output/ --snp_data_path=/dcs04/lieber/statsgen/shizhong/michael/mwas/gwas/libd_chr1.pgen --methylation_data_path=/dcs04/lieber/statsgen/shizhong/michael/mwas/pheno/dlpfc/out/chr1_all.rda --cov=/dcs04/lieber/statsgen/mnagle/mwas/full_covariates/all_dlpfc.csv --verbose=FALSE --lambda_choice=1se --alphas=1 --allow_inefficient_parallelization=FALSE --n_fold=5 --window_sizes=2000,4000,6000,8000,10000,20000,40000,50000,60000,80000,100000,150000,200000,300000,350000,400000,500000 --save_evaluation_results_each_fold=FALSE --save_glmnet_object=FALSE --omit_folds_with_na_r=TRUE --methInput_rds_path=/dcs04/lieber/statsgen/mnagle/mwas/chr1_dfplc_all_methylation_10k_samples_a3.rds --chunk1=8801 --chunk2=9000 --cv_eval_mode=dynamic --num_cores=1 --cores_per_alpha=1 --tag=libd_chr1-chr1_all-8801-9000-dynamic-1corestotal-1corepera-20240324-170419\n"
     ]
    },
    {
     "name": "stderr",
     "output_type": "stream",
     "text": [
      "ZZZZzzzz....\n",
      "\n"
     ]
    },
    {
     "name": "stdout",
     "output_type": "stream",
     "text": [
      "#!/bin/bash\n",
      "#SBATCH --cpus-per-task=1\n",
      "#SBATCH --mem-per-cpu=16G\n",
      "#SBATCH --output=slurm_output_libd_chr1-chr1_all-9001-9200-dynamic-1corestotal-1corepera-20240324-170419.out\n",
      "#SBATCH --job-name=libd_chr1-chr1_all-9001-9200-dynamic-1corestotal-1corepera-20240324-170419\n",
      "module load conda\n",
      "conda activate mwas\n",
      "TMPDIR=/dcs04/lieber/statsgen/mnagle/mwas/CpGWAS/temp_temp\n",
      "echo 'Executing Rscript with arguments: Rscript scripts/CLI.R --outdir=./output/ --snp_data_path=/dcs04/lieber/statsgen/shizhong/michael/mwas/gwas/libd_chr1.pgen --methylation_data_path=/dcs04/lieber/statsgen/shizhong/michael/mwas/pheno/dlpfc/out/chr1_all.rda --cov=/dcs04/lieber/statsgen/mnagle/mwas/full_covariates/all_dlpfc.csv --verbose=FALSE --lambda_choice=1se --alphas=1 --allow_inefficient_parallelization=FALSE --n_fold=5 --window_sizes=2000,4000,6000,8000,10000,20000,40000,50000,60000,80000,100000,150000,200000,300000,350000,400000,500000 --save_evaluation_results_each_fold=FALSE --save_glmnet_object=FALSE --omit_folds_with_na_r=TRUE --methInput_rds_path=/dcs04/lieber/statsgen/mnagle/mwas/chr1_dfplc_all_methylation_10k_samples_a3.rds --chunk1=9001 --chunk2=9200 --cv_eval_mode=dynamic --num_cores=1 --cores_per_alpha=1 --tag=libd_chr1-chr1_all-9001-9200-dynamic-1corestotal-1corepera-20240324-170419'\n",
      "Rscript scripts/CLI.R --outdir=./output/ --snp_data_path=/dcs04/lieber/statsgen/shizhong/michael/mwas/gwas/libd_chr1.pgen --methylation_data_path=/dcs04/lieber/statsgen/shizhong/michael/mwas/pheno/dlpfc/out/chr1_all.rda --cov=/dcs04/lieber/statsgen/mnagle/mwas/full_covariates/all_dlpfc.csv --verbose=FALSE --lambda_choice=1se --alphas=1 --allow_inefficient_parallelization=FALSE --n_fold=5 --window_sizes=2000,4000,6000,8000,10000,20000,40000,50000,60000,80000,100000,150000,200000,300000,350000,400000,500000 --save_evaluation_results_each_fold=FALSE --save_glmnet_object=FALSE --omit_folds_with_na_r=TRUE --methInput_rds_path=/dcs04/lieber/statsgen/mnagle/mwas/chr1_dfplc_all_methylation_10k_samples_a3.rds --chunk1=9001 --chunk2=9200 --cv_eval_mode=dynamic --num_cores=1 --cores_per_alpha=1 --tag=libd_chr1-chr1_all-9001-9200-dynamic-1corestotal-1corepera-20240324-170419\n"
     ]
    },
    {
     "name": "stderr",
     "output_type": "stream",
     "text": [
      "ZZZZzzzz....\n",
      "\n"
     ]
    },
    {
     "name": "stdout",
     "output_type": "stream",
     "text": [
      "#!/bin/bash\n",
      "#SBATCH --cpus-per-task=1\n",
      "#SBATCH --mem-per-cpu=16G\n",
      "#SBATCH --output=slurm_output_libd_chr1-chr1_all-9201-9400-dynamic-1corestotal-1corepera-20240324-170419.out\n",
      "#SBATCH --job-name=libd_chr1-chr1_all-9201-9400-dynamic-1corestotal-1corepera-20240324-170419\n",
      "module load conda\n",
      "conda activate mwas\n",
      "TMPDIR=/dcs04/lieber/statsgen/mnagle/mwas/CpGWAS/temp_temp\n",
      "echo 'Executing Rscript with arguments: Rscript scripts/CLI.R --outdir=./output/ --snp_data_path=/dcs04/lieber/statsgen/shizhong/michael/mwas/gwas/libd_chr1.pgen --methylation_data_path=/dcs04/lieber/statsgen/shizhong/michael/mwas/pheno/dlpfc/out/chr1_all.rda --cov=/dcs04/lieber/statsgen/mnagle/mwas/full_covariates/all_dlpfc.csv --verbose=FALSE --lambda_choice=1se --alphas=1 --allow_inefficient_parallelization=FALSE --n_fold=5 --window_sizes=2000,4000,6000,8000,10000,20000,40000,50000,60000,80000,100000,150000,200000,300000,350000,400000,500000 --save_evaluation_results_each_fold=FALSE --save_glmnet_object=FALSE --omit_folds_with_na_r=TRUE --methInput_rds_path=/dcs04/lieber/statsgen/mnagle/mwas/chr1_dfplc_all_methylation_10k_samples_a3.rds --chunk1=9201 --chunk2=9400 --cv_eval_mode=dynamic --num_cores=1 --cores_per_alpha=1 --tag=libd_chr1-chr1_all-9201-9400-dynamic-1corestotal-1corepera-20240324-170419'\n",
      "Rscript scripts/CLI.R --outdir=./output/ --snp_data_path=/dcs04/lieber/statsgen/shizhong/michael/mwas/gwas/libd_chr1.pgen --methylation_data_path=/dcs04/lieber/statsgen/shizhong/michael/mwas/pheno/dlpfc/out/chr1_all.rda --cov=/dcs04/lieber/statsgen/mnagle/mwas/full_covariates/all_dlpfc.csv --verbose=FALSE --lambda_choice=1se --alphas=1 --allow_inefficient_parallelization=FALSE --n_fold=5 --window_sizes=2000,4000,6000,8000,10000,20000,40000,50000,60000,80000,100000,150000,200000,300000,350000,400000,500000 --save_evaluation_results_each_fold=FALSE --save_glmnet_object=FALSE --omit_folds_with_na_r=TRUE --methInput_rds_path=/dcs04/lieber/statsgen/mnagle/mwas/chr1_dfplc_all_methylation_10k_samples_a3.rds --chunk1=9201 --chunk2=9400 --cv_eval_mode=dynamic --num_cores=1 --cores_per_alpha=1 --tag=libd_chr1-chr1_all-9201-9400-dynamic-1corestotal-1corepera-20240324-170419\n"
     ]
    },
    {
     "name": "stderr",
     "output_type": "stream",
     "text": [
      "ZZZZzzzz....\n",
      "\n"
     ]
    },
    {
     "name": "stdout",
     "output_type": "stream",
     "text": [
      "#!/bin/bash\n",
      "#SBATCH --cpus-per-task=1\n",
      "#SBATCH --mem-per-cpu=16G\n",
      "#SBATCH --output=slurm_output_libd_chr1-chr1_all-9401-9600-dynamic-1corestotal-1corepera-20240324-170419.out\n",
      "#SBATCH --job-name=libd_chr1-chr1_all-9401-9600-dynamic-1corestotal-1corepera-20240324-170419\n",
      "module load conda\n",
      "conda activate mwas\n",
      "TMPDIR=/dcs04/lieber/statsgen/mnagle/mwas/CpGWAS/temp_temp\n",
      "echo 'Executing Rscript with arguments: Rscript scripts/CLI.R --outdir=./output/ --snp_data_path=/dcs04/lieber/statsgen/shizhong/michael/mwas/gwas/libd_chr1.pgen --methylation_data_path=/dcs04/lieber/statsgen/shizhong/michael/mwas/pheno/dlpfc/out/chr1_all.rda --cov=/dcs04/lieber/statsgen/mnagle/mwas/full_covariates/all_dlpfc.csv --verbose=FALSE --lambda_choice=1se --alphas=1 --allow_inefficient_parallelization=FALSE --n_fold=5 --window_sizes=2000,4000,6000,8000,10000,20000,40000,50000,60000,80000,100000,150000,200000,300000,350000,400000,500000 --save_evaluation_results_each_fold=FALSE --save_glmnet_object=FALSE --omit_folds_with_na_r=TRUE --methInput_rds_path=/dcs04/lieber/statsgen/mnagle/mwas/chr1_dfplc_all_methylation_10k_samples_a3.rds --chunk1=9401 --chunk2=9600 --cv_eval_mode=dynamic --num_cores=1 --cores_per_alpha=1 --tag=libd_chr1-chr1_all-9401-9600-dynamic-1corestotal-1corepera-20240324-170419'\n",
      "Rscript scripts/CLI.R --outdir=./output/ --snp_data_path=/dcs04/lieber/statsgen/shizhong/michael/mwas/gwas/libd_chr1.pgen --methylation_data_path=/dcs04/lieber/statsgen/shizhong/michael/mwas/pheno/dlpfc/out/chr1_all.rda --cov=/dcs04/lieber/statsgen/mnagle/mwas/full_covariates/all_dlpfc.csv --verbose=FALSE --lambda_choice=1se --alphas=1 --allow_inefficient_parallelization=FALSE --n_fold=5 --window_sizes=2000,4000,6000,8000,10000,20000,40000,50000,60000,80000,100000,150000,200000,300000,350000,400000,500000 --save_evaluation_results_each_fold=FALSE --save_glmnet_object=FALSE --omit_folds_with_na_r=TRUE --methInput_rds_path=/dcs04/lieber/statsgen/mnagle/mwas/chr1_dfplc_all_methylation_10k_samples_a3.rds --chunk1=9401 --chunk2=9600 --cv_eval_mode=dynamic --num_cores=1 --cores_per_alpha=1 --tag=libd_chr1-chr1_all-9401-9600-dynamic-1corestotal-1corepera-20240324-170419\n"
     ]
    },
    {
     "name": "stderr",
     "output_type": "stream",
     "text": [
      "ZZZZzzzz....\n",
      "\n"
     ]
    },
    {
     "name": "stdout",
     "output_type": "stream",
     "text": [
      "#!/bin/bash\n",
      "#SBATCH --cpus-per-task=1\n",
      "#SBATCH --mem-per-cpu=16G\n",
      "#SBATCH --output=slurm_output_libd_chr1-chr1_all-9601-9800-dynamic-1corestotal-1corepera-20240324-170420.out\n",
      "#SBATCH --job-name=libd_chr1-chr1_all-9601-9800-dynamic-1corestotal-1corepera-20240324-170420\n",
      "module load conda\n",
      "conda activate mwas\n",
      "TMPDIR=/dcs04/lieber/statsgen/mnagle/mwas/CpGWAS/temp_temp\n",
      "echo 'Executing Rscript with arguments: Rscript scripts/CLI.R --outdir=./output/ --snp_data_path=/dcs04/lieber/statsgen/shizhong/michael/mwas/gwas/libd_chr1.pgen --methylation_data_path=/dcs04/lieber/statsgen/shizhong/michael/mwas/pheno/dlpfc/out/chr1_all.rda --cov=/dcs04/lieber/statsgen/mnagle/mwas/full_covariates/all_dlpfc.csv --verbose=FALSE --lambda_choice=1se --alphas=1 --allow_inefficient_parallelization=FALSE --n_fold=5 --window_sizes=2000,4000,6000,8000,10000,20000,40000,50000,60000,80000,100000,150000,200000,300000,350000,400000,500000 --save_evaluation_results_each_fold=FALSE --save_glmnet_object=FALSE --omit_folds_with_na_r=TRUE --methInput_rds_path=/dcs04/lieber/statsgen/mnagle/mwas/chr1_dfplc_all_methylation_10k_samples_a3.rds --chunk1=9601 --chunk2=9800 --cv_eval_mode=dynamic --num_cores=1 --cores_per_alpha=1 --tag=libd_chr1-chr1_all-9601-9800-dynamic-1corestotal-1corepera-20240324-170420'\n",
      "Rscript scripts/CLI.R --outdir=./output/ --snp_data_path=/dcs04/lieber/statsgen/shizhong/michael/mwas/gwas/libd_chr1.pgen --methylation_data_path=/dcs04/lieber/statsgen/shizhong/michael/mwas/pheno/dlpfc/out/chr1_all.rda --cov=/dcs04/lieber/statsgen/mnagle/mwas/full_covariates/all_dlpfc.csv --verbose=FALSE --lambda_choice=1se --alphas=1 --allow_inefficient_parallelization=FALSE --n_fold=5 --window_sizes=2000,4000,6000,8000,10000,20000,40000,50000,60000,80000,100000,150000,200000,300000,350000,400000,500000 --save_evaluation_results_each_fold=FALSE --save_glmnet_object=FALSE --omit_folds_with_na_r=TRUE --methInput_rds_path=/dcs04/lieber/statsgen/mnagle/mwas/chr1_dfplc_all_methylation_10k_samples_a3.rds --chunk1=9601 --chunk2=9800 --cv_eval_mode=dynamic --num_cores=1 --cores_per_alpha=1 --tag=libd_chr1-chr1_all-9601-9800-dynamic-1corestotal-1corepera-20240324-170420\n"
     ]
    },
    {
     "name": "stderr",
     "output_type": "stream",
     "text": [
      "ZZZZzzzz....\n",
      "\n"
     ]
    },
    {
     "name": "stdout",
     "output_type": "stream",
     "text": [
      "#!/bin/bash\n",
      "#SBATCH --cpus-per-task=1\n",
      "#SBATCH --mem-per-cpu=16G\n",
      "#SBATCH --output=slurm_output_libd_chr1-chr1_all-9801-10000-dynamic-1corestotal-1corepera-20240324-170420.out\n",
      "#SBATCH --job-name=libd_chr1-chr1_all-9801-10000-dynamic-1corestotal-1corepera-20240324-170420\n",
      "module load conda\n",
      "conda activate mwas\n",
      "TMPDIR=/dcs04/lieber/statsgen/mnagle/mwas/CpGWAS/temp_temp\n",
      "echo 'Executing Rscript with arguments: Rscript scripts/CLI.R --outdir=./output/ --snp_data_path=/dcs04/lieber/statsgen/shizhong/michael/mwas/gwas/libd_chr1.pgen --methylation_data_path=/dcs04/lieber/statsgen/shizhong/michael/mwas/pheno/dlpfc/out/chr1_all.rda --cov=/dcs04/lieber/statsgen/mnagle/mwas/full_covariates/all_dlpfc.csv --verbose=FALSE --lambda_choice=1se --alphas=1 --allow_inefficient_parallelization=FALSE --n_fold=5 --window_sizes=2000,4000,6000,8000,10000,20000,40000,50000,60000,80000,100000,150000,200000,300000,350000,400000,500000 --save_evaluation_results_each_fold=FALSE --save_glmnet_object=FALSE --omit_folds_with_na_r=TRUE --methInput_rds_path=/dcs04/lieber/statsgen/mnagle/mwas/chr1_dfplc_all_methylation_10k_samples_a3.rds --chunk1=9801 --chunk2=10000 --cv_eval_mode=dynamic --num_cores=1 --cores_per_alpha=1 --tag=libd_chr1-chr1_all-9801-10000-dynamic-1corestotal-1corepera-20240324-170420'\n",
      "Rscript scripts/CLI.R --outdir=./output/ --snp_data_path=/dcs04/lieber/statsgen/shizhong/michael/mwas/gwas/libd_chr1.pgen --methylation_data_path=/dcs04/lieber/statsgen/shizhong/michael/mwas/pheno/dlpfc/out/chr1_all.rda --cov=/dcs04/lieber/statsgen/mnagle/mwas/full_covariates/all_dlpfc.csv --verbose=FALSE --lambda_choice=1se --alphas=1 --allow_inefficient_parallelization=FALSE --n_fold=5 --window_sizes=2000,4000,6000,8000,10000,20000,40000,50000,60000,80000,100000,150000,200000,300000,350000,400000,500000 --save_evaluation_results_each_fold=FALSE --save_glmnet_object=FALSE --omit_folds_with_na_r=TRUE --methInput_rds_path=/dcs04/lieber/statsgen/mnagle/mwas/chr1_dfplc_all_methylation_10k_samples_a3.rds --chunk1=9801 --chunk2=10000 --cv_eval_mode=dynamic --num_cores=1 --cores_per_alpha=1 --tag=libd_chr1-chr1_all-9801-10000-dynamic-1corestotal-1corepera-20240324-170420\n"
     ]
    },
    {
     "name": "stderr",
     "output_type": "stream",
     "text": [
      "ZZZZzzzz....\n",
      "\n"
     ]
    }
   ],
   "source": [
    "# Constant Arguments Setup\n",
    "constant_args_df <- data.frame(\n",
    "  outdir = \"./output/\",\n",
    "  snp_data_path = \"/dcs04/lieber/statsgen/shizhong/michael/mwas/gwas/libd_chr1.pgen\",\n",
    "  methylation_data_path = \"/dcs04/lieber/statsgen/shizhong/michael/mwas/pheno/dlpfc/out/chr1_all.rda\",\n",
    "  cov = \"/dcs04/lieber/statsgen/mnagle/mwas/full_covariates/all_dlpfc.csv\",\n",
    "  verbose = FALSE,\n",
    "  lambda_choice = \"1se\",\n",
    "  #alphas = \"0,0.25,0.5,0.75,1\",\n",
    "  alphas = 1,\n",
    "  allow_inefficient_parallelization = FALSE,\n",
    "  n_fold = 5,\n",
    "  window_sizes = \"2000,4000,6000,8000,10000,20000,40000,50000,60000,80000,100000,150000,200000,300000,350000,400000,500000\",\n",
    "  #window_sizes = \"500000\",\n",
    "  save_evaluation_results_each_fold = FALSE,\n",
    "  save_glmnet_object = FALSE,\n",
    "  omit_folds_with_na_r = TRUE,\n",
    "  methInput_rds_path = \"/dcs04/lieber/statsgen/mnagle/mwas/chr1_dfplc_all_methylation_10k_samples_a3.rds\"\n",
    ")\n",
    "\n",
    "# Varying parameters\n",
    "cv_eval_modes <- c(\"dynamic\")\n",
    "cores_per_alphas <- c(\"1\") #NA)  # Include NA to signify the default value should be used\n",
    "num_cores_options <- c(1)\n",
    "\n",
    "generate_slurm_script <- function(args, tag_pt1, tag_pt2, mem_per_cpu = \"13G\") {\n",
    "  cpus_per_task <- if (is.null(args$num_cores) || args$num_cores == \"all\") {\n",
    "    \"#SBATCH --exclusive\\n\"\n",
    "  } else {\n",
    "    paste0(\"#SBATCH --cpus-per-task=\", args$num_cores, \"\\n\")\n",
    "  }\n",
    "\n",
    "  # Always set mem_per_cpu flag, even in exclusive mode\n",
    "  mem_allocation <- paste0(\"#SBATCH --mem-per-cpu=\", mem_per_cpu, \"\\n\")\n",
    "\n",
    "  args_string <- paste(\"--\", names(args), \"=\", args, sep = \"\", collapse = \" \")\n",
    "  args_string <- paste(args_string, \" --tag=\", tag_pt1, \"-\", tag_pt2, sep = \"\")\n",
    "\n",
    "slurm_script <- paste(\n",
    "  \"#!/bin/bash\\n\",\n",
    "  cpus_per_task,\n",
    "  mem_allocation,\n",
    "  \"#SBATCH --output=slurm_output_\", tag_pt1, \"-\", tag_pt2, \".out\\n\",\n",
    "  \"#SBATCH --job-name=\", tag_pt1, \"-\", tag_pt2, \"\\n\",\n",
    "  \"module load conda\\n\",\n",
    "  \"conda activate mwas\\n\",\n",
    "  \"TMPDIR=/dcs04/lieber/statsgen/mnagle/mwas/CpGWAS/temp_temp\\n\",\n",
    "  \"echo 'Executing Rscript with arguments: Rscript scripts/CLI.R \", args_string, \"'\\n\",\n",
    "  \"Rscript scripts/CLI.R \", args_string, \"\\n\",\n",
    "  sep = \"\"\n",
    ")\n",
    "\n",
    "  return(list(script = slurm_script, path = paste0(\"slurm_scripts/\", tag_pt1, \"-\", tag_pt2, \".sh\")))\n",
    "}\n",
    "\n",
    "# Overwrite flag (set by user)\n",
    "overwrite <- FALSE\n",
    "\n",
    "for (chunk_range in 1:ncol(chunk_ranges)) {\n",
    "  constant_args_df$chunk1 <- chunk_ranges[1, chunk_range]\n",
    "  constant_args_df$chunk2 <- chunk_ranges[2, chunk_range]\n",
    "    # Loop through each combination\n",
    "    for (cv_eval_mode in cv_eval_modes) {\n",
    "      for (cores_per_alpha in cores_per_alphas) {\n",
    "        for (num_cores in num_cores_options) {\n",
    "          # Update constant_args_df for the current combination\n",
    "          constant_args_df$cv_eval_mode <- cv_eval_mode\n",
    "          constant_args_df$num_cores <- num_cores\n",
    "          if (!is.na(cores_per_alpha)) {\n",
    "            constant_args_df$cores_per_alpha <- cores_per_alpha\n",
    "          } else {\n",
    "            constant_args_df$cores_per_alpha <- NULL\n",
    "          }\n",
    "\n",
    "          # Generate tags\n",
    "          snp_base <- tools::file_path_sans_ext(basename(constant_args_df$snp_data_path))\n",
    "          meth_base <- tools::file_path_sans_ext(basename(constant_args_df$methylation_data_path))\n",
    "          datetime_str <- format(Sys.time(), \"%Y%m%d-%H%M%S\")\n",
    "          tag_pt1 <- paste(snp_base, meth_base, format(constant_args_df$chunk1, scientific = FALSE), format(constant_args_df$chunk2, scientific = FALSE), cv_eval_mode, paste0(num_cores, \"corestotal\"), ifelse(is.na(cores_per_alpha), \"defaultcore\", paste0(cores_per_alpha, \"corepera\")), sep = \"-\")\n",
    "          tag_pt2 <- datetime_str\n",
    "\n",
    "          # Check for existing file\n",
    "          existing_files <- list.files(path = constant_args_df$outdir, pattern = tag_pt1, full.names = TRUE)\n",
    "          existing_files <- existing_files[grepl(\"\\\\.rds\", existing_files)]\n",
    "          if (!overwrite && length(existing_files) > 0) {\n",
    "            message(\"File with tag \", tag_pt1, \" already exists. Skipping...\")\n",
    "            next\n",
    "          }\n",
    "\n",
    "          # Generate and print SLURM script\n",
    "          script_info <- generate_slurm_script(constant_args_df, tag_pt1, tag_pt2,\n",
    "                                               mem_per_cpu = \"16G\")\n",
    "\n",
    "          cat(script_info$script)\n",
    "\n",
    "          writeLines(script_info$script, script_info$path)\n",
    "\n",
    "          # Submit the SLURM job using the sbatch command\n",
    "          system(paste(\"sbatch\", script_info$path))\n",
    "\n",
    "          # Implement job submission limits and intervals if necessary\n",
    "          #Sys.sleep(sample(c(1:21), 1))\n",
    "          message(\"ZZZZzzzz....\")\n",
    "        }\n",
    "      }\n",
    "    }\n",
    "}\n"
   ]
  }
 ],
 "metadata": {
  "kernelspec": {
   "display_name": "R",
   "language": "R",
   "name": "ir"
  },
  "language_info": {
   "codemirror_mode": "r",
   "file_extension": ".r",
   "mimetype": "text/x-r-source",
   "name": "R",
   "pygments_lexer": "r",
   "version": "4.3.1"
  }
 },
 "nbformat": 4,
 "nbformat_minor": 5
}
