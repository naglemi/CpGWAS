{
 "cells": [
  {
   "cell_type": "markdown",
   "id": "3b21059b-37b8-4241-ba34-6e1fcce1e9bf",
   "metadata": {},
   "source": [
    "# Check sizes of files for each chunk"
   ]
  },
  {
   "cell_type": "code",
   "execution_count": 1,
   "id": "ea326a84-c027-4e5a-bda2-79fa41db1bad",
   "metadata": {},
   "outputs": [],
   "source": [
    "library(data.table)"
   ]
  },
  {
   "cell_type": "code",
   "execution_count": 2,
   "id": "f36ef3de-698b-42f0-a12f-db10b3448e64",
   "metadata": {},
   "outputs": [],
   "source": [
    "dt <- fread(\"09.5-OUT_matched_SNP_meth_cov_chunked_JHPCE.csv\")"
   ]
  },
  {
   "cell_type": "code",
   "execution_count": 3,
   "id": "54054135-02fd-4021-bdec-863a92312c44",
   "metadata": {},
   "outputs": [
    {
     "data": {
      "text/html": [
       "<table class=\"dataframe\">\n",
       "<caption>A data.table: 6 × 13</caption>\n",
       "<thead>\n",
       "\t<tr><th scope=col>Chr</th><th scope=col>SNP_data</th><th scope=col>methylation_data</th><th scope=col>last_meth_value_with_SNP_coverage</th><th scope=col>first_meth_value_with_SNP_coverage</th><th scope=col>last_meth_index_with_SNP_coverage</th><th scope=col>first_meth_index_with_SNP_coverage</th><th scope=col>population</th><th scope=col>region</th><th scope=col>cov_file</th><th scope=col>chunk_start</th><th scope=col>chunk_end</th><th scope=col>modified_methylation_data</th></tr>\n",
       "\t<tr><th scope=col>&lt;int&gt;</th><th scope=col>&lt;chr&gt;</th><th scope=col>&lt;chr&gt;</th><th scope=col>&lt;int&gt;</th><th scope=col>&lt;int&gt;</th><th scope=col>&lt;int&gt;</th><th scope=col>&lt;int&gt;</th><th scope=col>&lt;chr&gt;</th><th scope=col>&lt;chr&gt;</th><th scope=col>&lt;chr&gt;</th><th scope=col>&lt;int&gt;</th><th scope=col>&lt;dbl&gt;</th><th scope=col>&lt;chr&gt;</th></tr>\n",
       "</thead>\n",
       "<tbody>\n",
       "\t<tr><td>1</td><td>/dcs04/lieber/statsgen/shizhong/michael/mwas/gwas//libd_chr1.pgen</td><td>/dcs04/lieber/statsgen/shizhong/michael/mwas/pheno/caud/out/chr1_AA.rda</td><td>248918358</td><td>1069461</td><td>2202702</td><td>8982</td><td>AA</td><td>caud</td><td>/dcs04/lieber/statsgen/mnagle/mwas/full_covariates/AA_caud.csv</td><td>  8982</td><td> 28981</td><td>/dcs04/lieber/statsgen/mnagle/mwas/pheno/caud/out/chr1_AA_8982-28981.rds   </td></tr>\n",
       "\t<tr><td>1</td><td>/dcs04/lieber/statsgen/shizhong/michael/mwas/gwas//libd_chr1.pgen</td><td>/dcs04/lieber/statsgen/shizhong/michael/mwas/pheno/caud/out/chr1_AA.rda</td><td>248918358</td><td>1069461</td><td>2202702</td><td>8982</td><td>AA</td><td>caud</td><td>/dcs04/lieber/statsgen/mnagle/mwas/full_covariates/AA_caud.csv</td><td> 28982</td><td> 48981</td><td>/dcs04/lieber/statsgen/mnagle/mwas/pheno/caud/out/chr1_AA_28982-48981.rds  </td></tr>\n",
       "\t<tr><td>1</td><td>/dcs04/lieber/statsgen/shizhong/michael/mwas/gwas//libd_chr1.pgen</td><td>/dcs04/lieber/statsgen/shizhong/michael/mwas/pheno/caud/out/chr1_AA.rda</td><td>248918358</td><td>1069461</td><td>2202702</td><td>8982</td><td>AA</td><td>caud</td><td>/dcs04/lieber/statsgen/mnagle/mwas/full_covariates/AA_caud.csv</td><td> 48982</td><td> 68981</td><td>/dcs04/lieber/statsgen/mnagle/mwas/pheno/caud/out/chr1_AA_48982-68981.rds  </td></tr>\n",
       "\t<tr><td>1</td><td>/dcs04/lieber/statsgen/shizhong/michael/mwas/gwas//libd_chr1.pgen</td><td>/dcs04/lieber/statsgen/shizhong/michael/mwas/pheno/caud/out/chr1_AA.rda</td><td>248918358</td><td>1069461</td><td>2202702</td><td>8982</td><td>AA</td><td>caud</td><td>/dcs04/lieber/statsgen/mnagle/mwas/full_covariates/AA_caud.csv</td><td> 68982</td><td> 88981</td><td>/dcs04/lieber/statsgen/mnagle/mwas/pheno/caud/out/chr1_AA_68982-88981.rds  </td></tr>\n",
       "\t<tr><td>1</td><td>/dcs04/lieber/statsgen/shizhong/michael/mwas/gwas//libd_chr1.pgen</td><td>/dcs04/lieber/statsgen/shizhong/michael/mwas/pheno/caud/out/chr1_AA.rda</td><td>248918358</td><td>1069461</td><td>2202702</td><td>8982</td><td>AA</td><td>caud</td><td>/dcs04/lieber/statsgen/mnagle/mwas/full_covariates/AA_caud.csv</td><td> 88982</td><td>108981</td><td>/dcs04/lieber/statsgen/mnagle/mwas/pheno/caud/out/chr1_AA_88982-108981.rds </td></tr>\n",
       "\t<tr><td>1</td><td>/dcs04/lieber/statsgen/shizhong/michael/mwas/gwas//libd_chr1.pgen</td><td>/dcs04/lieber/statsgen/shizhong/michael/mwas/pheno/caud/out/chr1_AA.rda</td><td>248918358</td><td>1069461</td><td>2202702</td><td>8982</td><td>AA</td><td>caud</td><td>/dcs04/lieber/statsgen/mnagle/mwas/full_covariates/AA_caud.csv</td><td>108982</td><td>128981</td><td>/dcs04/lieber/statsgen/mnagle/mwas/pheno/caud/out/chr1_AA_108982-128981.rds</td></tr>\n",
       "</tbody>\n",
       "</table>\n"
      ],
      "text/latex": [
       "A data.table: 6 × 13\n",
       "\\begin{tabular}{lllllllllllll}\n",
       " Chr & SNP\\_data & methylation\\_data & last\\_meth\\_value\\_with\\_SNP\\_coverage & first\\_meth\\_value\\_with\\_SNP\\_coverage & last\\_meth\\_index\\_with\\_SNP\\_coverage & first\\_meth\\_index\\_with\\_SNP\\_coverage & population & region & cov\\_file & chunk\\_start & chunk\\_end & modified\\_methylation\\_data\\\\\n",
       " <int> & <chr> & <chr> & <int> & <int> & <int> & <int> & <chr> & <chr> & <chr> & <int> & <dbl> & <chr>\\\\\n",
       "\\hline\n",
       "\t 1 & /dcs04/lieber/statsgen/shizhong/michael/mwas/gwas//libd\\_chr1.pgen & /dcs04/lieber/statsgen/shizhong/michael/mwas/pheno/caud/out/chr1\\_AA.rda & 248918358 & 1069461 & 2202702 & 8982 & AA & caud & /dcs04/lieber/statsgen/mnagle/mwas/full\\_covariates/AA\\_caud.csv &   8982 &  28981 & /dcs04/lieber/statsgen/mnagle/mwas/pheno/caud/out/chr1\\_AA\\_8982-28981.rds   \\\\\n",
       "\t 1 & /dcs04/lieber/statsgen/shizhong/michael/mwas/gwas//libd\\_chr1.pgen & /dcs04/lieber/statsgen/shizhong/michael/mwas/pheno/caud/out/chr1\\_AA.rda & 248918358 & 1069461 & 2202702 & 8982 & AA & caud & /dcs04/lieber/statsgen/mnagle/mwas/full\\_covariates/AA\\_caud.csv &  28982 &  48981 & /dcs04/lieber/statsgen/mnagle/mwas/pheno/caud/out/chr1\\_AA\\_28982-48981.rds  \\\\\n",
       "\t 1 & /dcs04/lieber/statsgen/shizhong/michael/mwas/gwas//libd\\_chr1.pgen & /dcs04/lieber/statsgen/shizhong/michael/mwas/pheno/caud/out/chr1\\_AA.rda & 248918358 & 1069461 & 2202702 & 8982 & AA & caud & /dcs04/lieber/statsgen/mnagle/mwas/full\\_covariates/AA\\_caud.csv &  48982 &  68981 & /dcs04/lieber/statsgen/mnagle/mwas/pheno/caud/out/chr1\\_AA\\_48982-68981.rds  \\\\\n",
       "\t 1 & /dcs04/lieber/statsgen/shizhong/michael/mwas/gwas//libd\\_chr1.pgen & /dcs04/lieber/statsgen/shizhong/michael/mwas/pheno/caud/out/chr1\\_AA.rda & 248918358 & 1069461 & 2202702 & 8982 & AA & caud & /dcs04/lieber/statsgen/mnagle/mwas/full\\_covariates/AA\\_caud.csv &  68982 &  88981 & /dcs04/lieber/statsgen/mnagle/mwas/pheno/caud/out/chr1\\_AA\\_68982-88981.rds  \\\\\n",
       "\t 1 & /dcs04/lieber/statsgen/shizhong/michael/mwas/gwas//libd\\_chr1.pgen & /dcs04/lieber/statsgen/shizhong/michael/mwas/pheno/caud/out/chr1\\_AA.rda & 248918358 & 1069461 & 2202702 & 8982 & AA & caud & /dcs04/lieber/statsgen/mnagle/mwas/full\\_covariates/AA\\_caud.csv &  88982 & 108981 & /dcs04/lieber/statsgen/mnagle/mwas/pheno/caud/out/chr1\\_AA\\_88982-108981.rds \\\\\n",
       "\t 1 & /dcs04/lieber/statsgen/shizhong/michael/mwas/gwas//libd\\_chr1.pgen & /dcs04/lieber/statsgen/shizhong/michael/mwas/pheno/caud/out/chr1\\_AA.rda & 248918358 & 1069461 & 2202702 & 8982 & AA & caud & /dcs04/lieber/statsgen/mnagle/mwas/full\\_covariates/AA\\_caud.csv & 108982 & 128981 & /dcs04/lieber/statsgen/mnagle/mwas/pheno/caud/out/chr1\\_AA\\_108982-128981.rds\\\\\n",
       "\\end{tabular}\n"
      ],
      "text/markdown": [
       "\n",
       "A data.table: 6 × 13\n",
       "\n",
       "| Chr &lt;int&gt; | SNP_data &lt;chr&gt; | methylation_data &lt;chr&gt; | last_meth_value_with_SNP_coverage &lt;int&gt; | first_meth_value_with_SNP_coverage &lt;int&gt; | last_meth_index_with_SNP_coverage &lt;int&gt; | first_meth_index_with_SNP_coverage &lt;int&gt; | population &lt;chr&gt; | region &lt;chr&gt; | cov_file &lt;chr&gt; | chunk_start &lt;int&gt; | chunk_end &lt;dbl&gt; | modified_methylation_data &lt;chr&gt; |\n",
       "|---|---|---|---|---|---|---|---|---|---|---|---|---|\n",
       "| 1 | /dcs04/lieber/statsgen/shizhong/michael/mwas/gwas//libd_chr1.pgen | /dcs04/lieber/statsgen/shizhong/michael/mwas/pheno/caud/out/chr1_AA.rda | 248918358 | 1069461 | 2202702 | 8982 | AA | caud | /dcs04/lieber/statsgen/mnagle/mwas/full_covariates/AA_caud.csv |   8982 |  28981 | /dcs04/lieber/statsgen/mnagle/mwas/pheno/caud/out/chr1_AA_8982-28981.rds    |\n",
       "| 1 | /dcs04/lieber/statsgen/shizhong/michael/mwas/gwas//libd_chr1.pgen | /dcs04/lieber/statsgen/shizhong/michael/mwas/pheno/caud/out/chr1_AA.rda | 248918358 | 1069461 | 2202702 | 8982 | AA | caud | /dcs04/lieber/statsgen/mnagle/mwas/full_covariates/AA_caud.csv |  28982 |  48981 | /dcs04/lieber/statsgen/mnagle/mwas/pheno/caud/out/chr1_AA_28982-48981.rds   |\n",
       "| 1 | /dcs04/lieber/statsgen/shizhong/michael/mwas/gwas//libd_chr1.pgen | /dcs04/lieber/statsgen/shizhong/michael/mwas/pheno/caud/out/chr1_AA.rda | 248918358 | 1069461 | 2202702 | 8982 | AA | caud | /dcs04/lieber/statsgen/mnagle/mwas/full_covariates/AA_caud.csv |  48982 |  68981 | /dcs04/lieber/statsgen/mnagle/mwas/pheno/caud/out/chr1_AA_48982-68981.rds   |\n",
       "| 1 | /dcs04/lieber/statsgen/shizhong/michael/mwas/gwas//libd_chr1.pgen | /dcs04/lieber/statsgen/shizhong/michael/mwas/pheno/caud/out/chr1_AA.rda | 248918358 | 1069461 | 2202702 | 8982 | AA | caud | /dcs04/lieber/statsgen/mnagle/mwas/full_covariates/AA_caud.csv |  68982 |  88981 | /dcs04/lieber/statsgen/mnagle/mwas/pheno/caud/out/chr1_AA_68982-88981.rds   |\n",
       "| 1 | /dcs04/lieber/statsgen/shizhong/michael/mwas/gwas//libd_chr1.pgen | /dcs04/lieber/statsgen/shizhong/michael/mwas/pheno/caud/out/chr1_AA.rda | 248918358 | 1069461 | 2202702 | 8982 | AA | caud | /dcs04/lieber/statsgen/mnagle/mwas/full_covariates/AA_caud.csv |  88982 | 108981 | /dcs04/lieber/statsgen/mnagle/mwas/pheno/caud/out/chr1_AA_88982-108981.rds  |\n",
       "| 1 | /dcs04/lieber/statsgen/shizhong/michael/mwas/gwas//libd_chr1.pgen | /dcs04/lieber/statsgen/shizhong/michael/mwas/pheno/caud/out/chr1_AA.rda | 248918358 | 1069461 | 2202702 | 8982 | AA | caud | /dcs04/lieber/statsgen/mnagle/mwas/full_covariates/AA_caud.csv | 108982 | 128981 | /dcs04/lieber/statsgen/mnagle/mwas/pheno/caud/out/chr1_AA_108982-128981.rds |\n",
       "\n"
      ],
      "text/plain": [
       "  Chr SNP_data                                                         \n",
       "1 1   /dcs04/lieber/statsgen/shizhong/michael/mwas/gwas//libd_chr1.pgen\n",
       "2 1   /dcs04/lieber/statsgen/shizhong/michael/mwas/gwas//libd_chr1.pgen\n",
       "3 1   /dcs04/lieber/statsgen/shizhong/michael/mwas/gwas//libd_chr1.pgen\n",
       "4 1   /dcs04/lieber/statsgen/shizhong/michael/mwas/gwas//libd_chr1.pgen\n",
       "5 1   /dcs04/lieber/statsgen/shizhong/michael/mwas/gwas//libd_chr1.pgen\n",
       "6 1   /dcs04/lieber/statsgen/shizhong/michael/mwas/gwas//libd_chr1.pgen\n",
       "  methylation_data                                                       \n",
       "1 /dcs04/lieber/statsgen/shizhong/michael/mwas/pheno/caud/out/chr1_AA.rda\n",
       "2 /dcs04/lieber/statsgen/shizhong/michael/mwas/pheno/caud/out/chr1_AA.rda\n",
       "3 /dcs04/lieber/statsgen/shizhong/michael/mwas/pheno/caud/out/chr1_AA.rda\n",
       "4 /dcs04/lieber/statsgen/shizhong/michael/mwas/pheno/caud/out/chr1_AA.rda\n",
       "5 /dcs04/lieber/statsgen/shizhong/michael/mwas/pheno/caud/out/chr1_AA.rda\n",
       "6 /dcs04/lieber/statsgen/shizhong/michael/mwas/pheno/caud/out/chr1_AA.rda\n",
       "  last_meth_value_with_SNP_coverage first_meth_value_with_SNP_coverage\n",
       "1 248918358                         1069461                           \n",
       "2 248918358                         1069461                           \n",
       "3 248918358                         1069461                           \n",
       "4 248918358                         1069461                           \n",
       "5 248918358                         1069461                           \n",
       "6 248918358                         1069461                           \n",
       "  last_meth_index_with_SNP_coverage first_meth_index_with_SNP_coverage\n",
       "1 2202702                           8982                              \n",
       "2 2202702                           8982                              \n",
       "3 2202702                           8982                              \n",
       "4 2202702                           8982                              \n",
       "5 2202702                           8982                              \n",
       "6 2202702                           8982                              \n",
       "  population region\n",
       "1 AA         caud  \n",
       "2 AA         caud  \n",
       "3 AA         caud  \n",
       "4 AA         caud  \n",
       "5 AA         caud  \n",
       "6 AA         caud  \n",
       "  cov_file                                                       chunk_start\n",
       "1 /dcs04/lieber/statsgen/mnagle/mwas/full_covariates/AA_caud.csv   8982     \n",
       "2 /dcs04/lieber/statsgen/mnagle/mwas/full_covariates/AA_caud.csv  28982     \n",
       "3 /dcs04/lieber/statsgen/mnagle/mwas/full_covariates/AA_caud.csv  48982     \n",
       "4 /dcs04/lieber/statsgen/mnagle/mwas/full_covariates/AA_caud.csv  68982     \n",
       "5 /dcs04/lieber/statsgen/mnagle/mwas/full_covariates/AA_caud.csv  88982     \n",
       "6 /dcs04/lieber/statsgen/mnagle/mwas/full_covariates/AA_caud.csv 108982     \n",
       "  chunk_end\n",
       "1  28981   \n",
       "2  48981   \n",
       "3  68981   \n",
       "4  88981   \n",
       "5 108981   \n",
       "6 128981   \n",
       "  modified_methylation_data                                                  \n",
       "1 /dcs04/lieber/statsgen/mnagle/mwas/pheno/caud/out/chr1_AA_8982-28981.rds   \n",
       "2 /dcs04/lieber/statsgen/mnagle/mwas/pheno/caud/out/chr1_AA_28982-48981.rds  \n",
       "3 /dcs04/lieber/statsgen/mnagle/mwas/pheno/caud/out/chr1_AA_48982-68981.rds  \n",
       "4 /dcs04/lieber/statsgen/mnagle/mwas/pheno/caud/out/chr1_AA_68982-88981.rds  \n",
       "5 /dcs04/lieber/statsgen/mnagle/mwas/pheno/caud/out/chr1_AA_88982-108981.rds \n",
       "6 /dcs04/lieber/statsgen/mnagle/mwas/pheno/caud/out/chr1_AA_108982-128981.rds"
      ]
     },
     "metadata": {},
     "output_type": "display_data"
    }
   ],
   "source": [
    "head(dt)"
   ]
  },
  {
   "cell_type": "code",
   "execution_count": 4,
   "id": "fa04ad4f-059d-4071-948f-8d88c58459b7",
   "metadata": {},
   "outputs": [],
   "source": [
    "# Assuming your data.table is named dt\n",
    "library(data.table)\n",
    "\n",
    "# Add new columns for file sizes in MB\n",
    "dt[, c(\"size_SNP_data\", \"size_methylation_data\", \"size_modified_methylation_data\") := \n",
    "     .(file.info(SNP_data)$size / 1024^2,\n",
    "       file.info(methylation_data)$size / 1024^2,\n",
    "       file.info(modified_methylation_data)$size / 1024^2)]\n"
   ]
  },
  {
   "cell_type": "code",
   "execution_count": 5,
   "id": "9fae9b6b-785f-4e97-a746-9fda0dc6f004",
   "metadata": {},
   "outputs": [
    {
     "data": {
      "text/html": [
       "<table class=\"dataframe\">\n",
       "<caption>A data.table: 6 × 16</caption>\n",
       "<thead>\n",
       "\t<tr><th scope=col>Chr</th><th scope=col>SNP_data</th><th scope=col>methylation_data</th><th scope=col>last_meth_value_with_SNP_coverage</th><th scope=col>first_meth_value_with_SNP_coverage</th><th scope=col>last_meth_index_with_SNP_coverage</th><th scope=col>first_meth_index_with_SNP_coverage</th><th scope=col>population</th><th scope=col>region</th><th scope=col>cov_file</th><th scope=col>chunk_start</th><th scope=col>chunk_end</th><th scope=col>modified_methylation_data</th><th scope=col>size_SNP_data</th><th scope=col>size_methylation_data</th><th scope=col>size_modified_methylation_data</th></tr>\n",
       "\t<tr><th scope=col>&lt;int&gt;</th><th scope=col>&lt;chr&gt;</th><th scope=col>&lt;chr&gt;</th><th scope=col>&lt;int&gt;</th><th scope=col>&lt;int&gt;</th><th scope=col>&lt;int&gt;</th><th scope=col>&lt;int&gt;</th><th scope=col>&lt;chr&gt;</th><th scope=col>&lt;chr&gt;</th><th scope=col>&lt;chr&gt;</th><th scope=col>&lt;int&gt;</th><th scope=col>&lt;dbl&gt;</th><th scope=col>&lt;chr&gt;</th><th scope=col>&lt;dbl&gt;</th><th scope=col>&lt;dbl&gt;</th><th scope=col>&lt;dbl&gt;</th></tr>\n",
       "</thead>\n",
       "<tbody>\n",
       "\t<tr><td>1</td><td>/dcs04/lieber/statsgen/shizhong/michael/mwas/gwas//libd_chr1.pgen</td><td>/dcs04/lieber/statsgen/shizhong/michael/mwas/pheno/caud/out/chr1_AA.rda</td><td>248918358</td><td>1069461</td><td>2202702</td><td>8982</td><td>AA</td><td>caud</td><td>/dcs04/lieber/statsgen/mnagle/mwas/full_covariates/AA_caud.csv</td><td>  8982</td><td> 28981</td><td>/dcs04/lieber/statsgen/mnagle/mwas/pheno/caud/out/chr1_AA_8982-28981.rds   </td><td>769.887</td><td>50.21128</td><td>26.72484</td></tr>\n",
       "\t<tr><td>1</td><td>/dcs04/lieber/statsgen/shizhong/michael/mwas/gwas//libd_chr1.pgen</td><td>/dcs04/lieber/statsgen/shizhong/michael/mwas/pheno/caud/out/chr1_AA.rda</td><td>248918358</td><td>1069461</td><td>2202702</td><td>8982</td><td>AA</td><td>caud</td><td>/dcs04/lieber/statsgen/mnagle/mwas/full_covariates/AA_caud.csv</td><td> 28982</td><td> 48981</td><td>/dcs04/lieber/statsgen/mnagle/mwas/pheno/caud/out/chr1_AA_28982-48981.rds  </td><td>769.887</td><td>50.21128</td><td>23.55325</td></tr>\n",
       "\t<tr><td>1</td><td>/dcs04/lieber/statsgen/shizhong/michael/mwas/gwas//libd_chr1.pgen</td><td>/dcs04/lieber/statsgen/shizhong/michael/mwas/pheno/caud/out/chr1_AA.rda</td><td>248918358</td><td>1069461</td><td>2202702</td><td>8982</td><td>AA</td><td>caud</td><td>/dcs04/lieber/statsgen/mnagle/mwas/full_covariates/AA_caud.csv</td><td> 48982</td><td> 68981</td><td>/dcs04/lieber/statsgen/mnagle/mwas/pheno/caud/out/chr1_AA_48982-68981.rds  </td><td>769.887</td><td>50.21128</td><td>23.57473</td></tr>\n",
       "\t<tr><td>1</td><td>/dcs04/lieber/statsgen/shizhong/michael/mwas/gwas//libd_chr1.pgen</td><td>/dcs04/lieber/statsgen/shizhong/michael/mwas/pheno/caud/out/chr1_AA.rda</td><td>248918358</td><td>1069461</td><td>2202702</td><td>8982</td><td>AA</td><td>caud</td><td>/dcs04/lieber/statsgen/mnagle/mwas/full_covariates/AA_caud.csv</td><td> 68982</td><td> 88981</td><td>/dcs04/lieber/statsgen/mnagle/mwas/pheno/caud/out/chr1_AA_68982-88981.rds  </td><td>769.887</td><td>50.21128</td><td>23.51570</td></tr>\n",
       "\t<tr><td>1</td><td>/dcs04/lieber/statsgen/shizhong/michael/mwas/gwas//libd_chr1.pgen</td><td>/dcs04/lieber/statsgen/shizhong/michael/mwas/pheno/caud/out/chr1_AA.rda</td><td>248918358</td><td>1069461</td><td>2202702</td><td>8982</td><td>AA</td><td>caud</td><td>/dcs04/lieber/statsgen/mnagle/mwas/full_covariates/AA_caud.csv</td><td> 88982</td><td>108981</td><td>/dcs04/lieber/statsgen/mnagle/mwas/pheno/caud/out/chr1_AA_88982-108981.rds </td><td>769.887</td><td>50.21128</td><td>23.46579</td></tr>\n",
       "\t<tr><td>1</td><td>/dcs04/lieber/statsgen/shizhong/michael/mwas/gwas//libd_chr1.pgen</td><td>/dcs04/lieber/statsgen/shizhong/michael/mwas/pheno/caud/out/chr1_AA.rda</td><td>248918358</td><td>1069461</td><td>2202702</td><td>8982</td><td>AA</td><td>caud</td><td>/dcs04/lieber/statsgen/mnagle/mwas/full_covariates/AA_caud.csv</td><td>108982</td><td>128981</td><td>/dcs04/lieber/statsgen/mnagle/mwas/pheno/caud/out/chr1_AA_108982-128981.rds</td><td>769.887</td><td>50.21128</td><td>23.44298</td></tr>\n",
       "</tbody>\n",
       "</table>\n"
      ],
      "text/latex": [
       "A data.table: 6 × 16\n",
       "\\begin{tabular}{llllllllllllllll}\n",
       " Chr & SNP\\_data & methylation\\_data & last\\_meth\\_value\\_with\\_SNP\\_coverage & first\\_meth\\_value\\_with\\_SNP\\_coverage & last\\_meth\\_index\\_with\\_SNP\\_coverage & first\\_meth\\_index\\_with\\_SNP\\_coverage & population & region & cov\\_file & chunk\\_start & chunk\\_end & modified\\_methylation\\_data & size\\_SNP\\_data & size\\_methylation\\_data & size\\_modified\\_methylation\\_data\\\\\n",
       " <int> & <chr> & <chr> & <int> & <int> & <int> & <int> & <chr> & <chr> & <chr> & <int> & <dbl> & <chr> & <dbl> & <dbl> & <dbl>\\\\\n",
       "\\hline\n",
       "\t 1 & /dcs04/lieber/statsgen/shizhong/michael/mwas/gwas//libd\\_chr1.pgen & /dcs04/lieber/statsgen/shizhong/michael/mwas/pheno/caud/out/chr1\\_AA.rda & 248918358 & 1069461 & 2202702 & 8982 & AA & caud & /dcs04/lieber/statsgen/mnagle/mwas/full\\_covariates/AA\\_caud.csv &   8982 &  28981 & /dcs04/lieber/statsgen/mnagle/mwas/pheno/caud/out/chr1\\_AA\\_8982-28981.rds    & 769.887 & 50.21128 & 26.72484\\\\\n",
       "\t 1 & /dcs04/lieber/statsgen/shizhong/michael/mwas/gwas//libd\\_chr1.pgen & /dcs04/lieber/statsgen/shizhong/michael/mwas/pheno/caud/out/chr1\\_AA.rda & 248918358 & 1069461 & 2202702 & 8982 & AA & caud & /dcs04/lieber/statsgen/mnagle/mwas/full\\_covariates/AA\\_caud.csv &  28982 &  48981 & /dcs04/lieber/statsgen/mnagle/mwas/pheno/caud/out/chr1\\_AA\\_28982-48981.rds   & 769.887 & 50.21128 & 23.55325\\\\\n",
       "\t 1 & /dcs04/lieber/statsgen/shizhong/michael/mwas/gwas//libd\\_chr1.pgen & /dcs04/lieber/statsgen/shizhong/michael/mwas/pheno/caud/out/chr1\\_AA.rda & 248918358 & 1069461 & 2202702 & 8982 & AA & caud & /dcs04/lieber/statsgen/mnagle/mwas/full\\_covariates/AA\\_caud.csv &  48982 &  68981 & /dcs04/lieber/statsgen/mnagle/mwas/pheno/caud/out/chr1\\_AA\\_48982-68981.rds   & 769.887 & 50.21128 & 23.57473\\\\\n",
       "\t 1 & /dcs04/lieber/statsgen/shizhong/michael/mwas/gwas//libd\\_chr1.pgen & /dcs04/lieber/statsgen/shizhong/michael/mwas/pheno/caud/out/chr1\\_AA.rda & 248918358 & 1069461 & 2202702 & 8982 & AA & caud & /dcs04/lieber/statsgen/mnagle/mwas/full\\_covariates/AA\\_caud.csv &  68982 &  88981 & /dcs04/lieber/statsgen/mnagle/mwas/pheno/caud/out/chr1\\_AA\\_68982-88981.rds   & 769.887 & 50.21128 & 23.51570\\\\\n",
       "\t 1 & /dcs04/lieber/statsgen/shizhong/michael/mwas/gwas//libd\\_chr1.pgen & /dcs04/lieber/statsgen/shizhong/michael/mwas/pheno/caud/out/chr1\\_AA.rda & 248918358 & 1069461 & 2202702 & 8982 & AA & caud & /dcs04/lieber/statsgen/mnagle/mwas/full\\_covariates/AA\\_caud.csv &  88982 & 108981 & /dcs04/lieber/statsgen/mnagle/mwas/pheno/caud/out/chr1\\_AA\\_88982-108981.rds  & 769.887 & 50.21128 & 23.46579\\\\\n",
       "\t 1 & /dcs04/lieber/statsgen/shizhong/michael/mwas/gwas//libd\\_chr1.pgen & /dcs04/lieber/statsgen/shizhong/michael/mwas/pheno/caud/out/chr1\\_AA.rda & 248918358 & 1069461 & 2202702 & 8982 & AA & caud & /dcs04/lieber/statsgen/mnagle/mwas/full\\_covariates/AA\\_caud.csv & 108982 & 128981 & /dcs04/lieber/statsgen/mnagle/mwas/pheno/caud/out/chr1\\_AA\\_108982-128981.rds & 769.887 & 50.21128 & 23.44298\\\\\n",
       "\\end{tabular}\n"
      ],
      "text/markdown": [
       "\n",
       "A data.table: 6 × 16\n",
       "\n",
       "| Chr &lt;int&gt; | SNP_data &lt;chr&gt; | methylation_data &lt;chr&gt; | last_meth_value_with_SNP_coverage &lt;int&gt; | first_meth_value_with_SNP_coverage &lt;int&gt; | last_meth_index_with_SNP_coverage &lt;int&gt; | first_meth_index_with_SNP_coverage &lt;int&gt; | population &lt;chr&gt; | region &lt;chr&gt; | cov_file &lt;chr&gt; | chunk_start &lt;int&gt; | chunk_end &lt;dbl&gt; | modified_methylation_data &lt;chr&gt; | size_SNP_data &lt;dbl&gt; | size_methylation_data &lt;dbl&gt; | size_modified_methylation_data &lt;dbl&gt; |\n",
       "|---|---|---|---|---|---|---|---|---|---|---|---|---|---|---|---|\n",
       "| 1 | /dcs04/lieber/statsgen/shizhong/michael/mwas/gwas//libd_chr1.pgen | /dcs04/lieber/statsgen/shizhong/michael/mwas/pheno/caud/out/chr1_AA.rda | 248918358 | 1069461 | 2202702 | 8982 | AA | caud | /dcs04/lieber/statsgen/mnagle/mwas/full_covariates/AA_caud.csv |   8982 |  28981 | /dcs04/lieber/statsgen/mnagle/mwas/pheno/caud/out/chr1_AA_8982-28981.rds    | 769.887 | 50.21128 | 26.72484 |\n",
       "| 1 | /dcs04/lieber/statsgen/shizhong/michael/mwas/gwas//libd_chr1.pgen | /dcs04/lieber/statsgen/shizhong/michael/mwas/pheno/caud/out/chr1_AA.rda | 248918358 | 1069461 | 2202702 | 8982 | AA | caud | /dcs04/lieber/statsgen/mnagle/mwas/full_covariates/AA_caud.csv |  28982 |  48981 | /dcs04/lieber/statsgen/mnagle/mwas/pheno/caud/out/chr1_AA_28982-48981.rds   | 769.887 | 50.21128 | 23.55325 |\n",
       "| 1 | /dcs04/lieber/statsgen/shizhong/michael/mwas/gwas//libd_chr1.pgen | /dcs04/lieber/statsgen/shizhong/michael/mwas/pheno/caud/out/chr1_AA.rda | 248918358 | 1069461 | 2202702 | 8982 | AA | caud | /dcs04/lieber/statsgen/mnagle/mwas/full_covariates/AA_caud.csv |  48982 |  68981 | /dcs04/lieber/statsgen/mnagle/mwas/pheno/caud/out/chr1_AA_48982-68981.rds   | 769.887 | 50.21128 | 23.57473 |\n",
       "| 1 | /dcs04/lieber/statsgen/shizhong/michael/mwas/gwas//libd_chr1.pgen | /dcs04/lieber/statsgen/shizhong/michael/mwas/pheno/caud/out/chr1_AA.rda | 248918358 | 1069461 | 2202702 | 8982 | AA | caud | /dcs04/lieber/statsgen/mnagle/mwas/full_covariates/AA_caud.csv |  68982 |  88981 | /dcs04/lieber/statsgen/mnagle/mwas/pheno/caud/out/chr1_AA_68982-88981.rds   | 769.887 | 50.21128 | 23.51570 |\n",
       "| 1 | /dcs04/lieber/statsgen/shizhong/michael/mwas/gwas//libd_chr1.pgen | /dcs04/lieber/statsgen/shizhong/michael/mwas/pheno/caud/out/chr1_AA.rda | 248918358 | 1069461 | 2202702 | 8982 | AA | caud | /dcs04/lieber/statsgen/mnagle/mwas/full_covariates/AA_caud.csv |  88982 | 108981 | /dcs04/lieber/statsgen/mnagle/mwas/pheno/caud/out/chr1_AA_88982-108981.rds  | 769.887 | 50.21128 | 23.46579 |\n",
       "| 1 | /dcs04/lieber/statsgen/shizhong/michael/mwas/gwas//libd_chr1.pgen | /dcs04/lieber/statsgen/shizhong/michael/mwas/pheno/caud/out/chr1_AA.rda | 248918358 | 1069461 | 2202702 | 8982 | AA | caud | /dcs04/lieber/statsgen/mnagle/mwas/full_covariates/AA_caud.csv | 108982 | 128981 | /dcs04/lieber/statsgen/mnagle/mwas/pheno/caud/out/chr1_AA_108982-128981.rds | 769.887 | 50.21128 | 23.44298 |\n",
       "\n"
      ],
      "text/plain": [
       "  Chr SNP_data                                                         \n",
       "1 1   /dcs04/lieber/statsgen/shizhong/michael/mwas/gwas//libd_chr1.pgen\n",
       "2 1   /dcs04/lieber/statsgen/shizhong/michael/mwas/gwas//libd_chr1.pgen\n",
       "3 1   /dcs04/lieber/statsgen/shizhong/michael/mwas/gwas//libd_chr1.pgen\n",
       "4 1   /dcs04/lieber/statsgen/shizhong/michael/mwas/gwas//libd_chr1.pgen\n",
       "5 1   /dcs04/lieber/statsgen/shizhong/michael/mwas/gwas//libd_chr1.pgen\n",
       "6 1   /dcs04/lieber/statsgen/shizhong/michael/mwas/gwas//libd_chr1.pgen\n",
       "  methylation_data                                                       \n",
       "1 /dcs04/lieber/statsgen/shizhong/michael/mwas/pheno/caud/out/chr1_AA.rda\n",
       "2 /dcs04/lieber/statsgen/shizhong/michael/mwas/pheno/caud/out/chr1_AA.rda\n",
       "3 /dcs04/lieber/statsgen/shizhong/michael/mwas/pheno/caud/out/chr1_AA.rda\n",
       "4 /dcs04/lieber/statsgen/shizhong/michael/mwas/pheno/caud/out/chr1_AA.rda\n",
       "5 /dcs04/lieber/statsgen/shizhong/michael/mwas/pheno/caud/out/chr1_AA.rda\n",
       "6 /dcs04/lieber/statsgen/shizhong/michael/mwas/pheno/caud/out/chr1_AA.rda\n",
       "  last_meth_value_with_SNP_coverage first_meth_value_with_SNP_coverage\n",
       "1 248918358                         1069461                           \n",
       "2 248918358                         1069461                           \n",
       "3 248918358                         1069461                           \n",
       "4 248918358                         1069461                           \n",
       "5 248918358                         1069461                           \n",
       "6 248918358                         1069461                           \n",
       "  last_meth_index_with_SNP_coverage first_meth_index_with_SNP_coverage\n",
       "1 2202702                           8982                              \n",
       "2 2202702                           8982                              \n",
       "3 2202702                           8982                              \n",
       "4 2202702                           8982                              \n",
       "5 2202702                           8982                              \n",
       "6 2202702                           8982                              \n",
       "  population region\n",
       "1 AA         caud  \n",
       "2 AA         caud  \n",
       "3 AA         caud  \n",
       "4 AA         caud  \n",
       "5 AA         caud  \n",
       "6 AA         caud  \n",
       "  cov_file                                                       chunk_start\n",
       "1 /dcs04/lieber/statsgen/mnagle/mwas/full_covariates/AA_caud.csv   8982     \n",
       "2 /dcs04/lieber/statsgen/mnagle/mwas/full_covariates/AA_caud.csv  28982     \n",
       "3 /dcs04/lieber/statsgen/mnagle/mwas/full_covariates/AA_caud.csv  48982     \n",
       "4 /dcs04/lieber/statsgen/mnagle/mwas/full_covariates/AA_caud.csv  68982     \n",
       "5 /dcs04/lieber/statsgen/mnagle/mwas/full_covariates/AA_caud.csv  88982     \n",
       "6 /dcs04/lieber/statsgen/mnagle/mwas/full_covariates/AA_caud.csv 108982     \n",
       "  chunk_end\n",
       "1  28981   \n",
       "2  48981   \n",
       "3  68981   \n",
       "4  88981   \n",
       "5 108981   \n",
       "6 128981   \n",
       "  modified_methylation_data                                                  \n",
       "1 /dcs04/lieber/statsgen/mnagle/mwas/pheno/caud/out/chr1_AA_8982-28981.rds   \n",
       "2 /dcs04/lieber/statsgen/mnagle/mwas/pheno/caud/out/chr1_AA_28982-48981.rds  \n",
       "3 /dcs04/lieber/statsgen/mnagle/mwas/pheno/caud/out/chr1_AA_48982-68981.rds  \n",
       "4 /dcs04/lieber/statsgen/mnagle/mwas/pheno/caud/out/chr1_AA_68982-88981.rds  \n",
       "5 /dcs04/lieber/statsgen/mnagle/mwas/pheno/caud/out/chr1_AA_88982-108981.rds \n",
       "6 /dcs04/lieber/statsgen/mnagle/mwas/pheno/caud/out/chr1_AA_108982-128981.rds\n",
       "  size_SNP_data size_methylation_data size_modified_methylation_data\n",
       "1 769.887       50.21128              26.72484                      \n",
       "2 769.887       50.21128              23.55325                      \n",
       "3 769.887       50.21128              23.57473                      \n",
       "4 769.887       50.21128              23.51570                      \n",
       "5 769.887       50.21128              23.46579                      \n",
       "6 769.887       50.21128              23.44298                      "
      ]
     },
     "metadata": {},
     "output_type": "display_data"
    }
   ],
   "source": [
    "head(dt)"
   ]
  },
  {
   "cell_type": "code",
   "execution_count": 6,
   "id": "dce2978a-7fc7-42a8-845f-0fcce7df40e9",
   "metadata": {},
   "outputs": [],
   "source": [
    "fwrite(dt, \"13-OUT_check_file_sizes_chunks.csv\")"
   ]
  },
  {
   "cell_type": "code",
   "execution_count": null,
   "id": "d201e375-f939-4796-9cd3-f0c0a1c0b6b5",
   "metadata": {},
   "outputs": [],
   "source": []
  }
 ],
 "metadata": {
  "kernelspec": {
   "display_name": "R",
   "language": "R",
   "name": "ir"
  },
  "language_info": {
   "codemirror_mode": "r",
   "file_extension": ".r",
   "mimetype": "text/x-r-source",
   "name": "R",
   "pygments_lexer": "r",
   "version": "4.3.1"
  }
 },
 "nbformat": 4,
 "nbformat_minor": 5
}
