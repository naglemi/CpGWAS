{
 "cells": [
  {
   "cell_type": "markdown",
   "id": "a6876e66-ebbd-4128-b116-b6a63b387e85",
   "metadata": {},
   "source": [
    "# Make plots of DNAm vs prediction power"
   ]
  },
  {
   "cell_type": "code",
   "execution_count": 1,
   "id": "5e4fc3bb-54cb-49e8-a529-13aa6453dace",
   "metadata": {},
   "outputs": [
    {
     "data": {
      "text/html": [
       "'/expanse/lustre/projects/jhu152/naglemi/mwas/CpGWAS/scripts'"
      ],
      "text/latex": [
       "'/expanse/lustre/projects/jhu152/naglemi/mwas/CpGWAS/scripts'"
      ],
      "text/markdown": [
       "'/expanse/lustre/projects/jhu152/naglemi/mwas/CpGWAS/scripts'"
      ],
      "text/plain": [
       "[1] \"/expanse/lustre/projects/jhu152/naglemi/mwas/CpGWAS/scripts\""
      ]
     },
     "metadata": {},
     "output_type": "display_data"
    }
   ],
   "source": [
    "getwd()"
   ]
  },
  {
   "cell_type": "code",
   "execution_count": 2,
   "id": "746d2d79-e746-4fd4-9ac4-03851ab340e9",
   "metadata": {},
   "outputs": [],
   "source": [
    "setwd(\"../\")"
   ]
  },
  {
   "cell_type": "code",
   "execution_count": 3,
   "id": "0bf83403-5a0d-4088-b7e8-cd0a38ba1320",
   "metadata": {},
   "outputs": [],
   "source": [
    "library(data.table)\n",
    "library(ggplot2)\n",
    "\n",
    "# Read all CSV files and rbind them together\n",
    "file_list <- list.files(pattern = \"*-DNAm_stats.csv\", recursive = TRUE, full.names = TRUE)"
   ]
  },
  {
   "cell_type": "code",
   "execution_count": 4,
   "id": "bb505700-57fd-478f-9bd4-8972d0006d22",
   "metadata": {},
   "outputs": [],
   "source": [
    "combined_data <- data.table()"
   ]
  },
  {
   "cell_type": "code",
   "execution_count": null,
   "id": "71696ae8-fe65-4e47-9ade-4e5fd73ab2c5",
   "metadata": {},
   "outputs": [],
   "source": [
    "for (i in 1:length(file_list)) {\n",
    "  file <- file_list[i]\n",
    "  temp_data <- fread(file)\n",
    "  combined_data <- rbind(combined_data, temp_data, use.names = TRUE, fill = TRUE)\n",
    "}"
   ]
  },
  {
   "cell_type": "code",
   "execution_count": null,
   "id": "c86bf99c-79e8-46cb-89b3-2ff88381228a",
   "metadata": {},
   "outputs": [],
   "source": [
    "fwrite(combined_data, \"15-OUT_DNAm_vs_cor_intermediate.csv\")"
   ]
  },
  {
   "cell_type": "code",
   "execution_count": null,
   "id": "011a2dbf-3441-4366-bb1e-43963a9cd89a",
   "metadata": {},
   "outputs": [],
   "source": [
    "# Plot mean_DNAm and var_DNAm vs. cor\n",
    "ggplot(combined_data, aes(x = cor)) +\n",
    "  geom_point(aes(y = mean_DNAm), color = \"blue\", alpha = 0.5) +\n",
    "  geom_point(aes(y = var_DNAm), color = \"red\", alpha = 0.5) +\n",
    "  labs(title = \"Mean and Variance of DNAm vs. Correlation\",\n",
    "       x = \"Correlation\",\n",
    "       y = \"Value\") +\n",
    "  scale_y_continuous(sec.axis = sec_axis(~ ., name = \"Variance DNAm\")) +\n",
    "  theme_minimal()"
   ]
  },
  {
   "cell_type": "code",
   "execution_count": null,
   "id": "7e9be962-888f-4f6e-ac90-2b611451d10c",
   "metadata": {},
   "outputs": [],
   "source": []
  }
 ],
 "metadata": {
  "kernelspec": {
   "display_name": "R",
   "language": "R",
   "name": "ir"
  },
  "language_info": {
   "codemirror_mode": "r",
   "file_extension": ".r",
   "mimetype": "text/x-r-source",
   "name": "R",
   "pygments_lexer": "r",
   "version": "4.3.1"
  }
 },
 "nbformat": 4,
 "nbformat_minor": 5
}
