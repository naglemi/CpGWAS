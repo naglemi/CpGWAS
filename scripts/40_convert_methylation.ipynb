{
 "cells": [
  {
   "cell_type": "markdown",
   "id": "cf060b9e-76db-4a48-90a3-bd89effeee37",
   "metadata": {},
   "source": [
    "# 40. Convert methylation data files to a Python-friendly format"
   ]
  },
  {
   "cell_type": "code",
   "execution_count": 1,
   "id": "077bb0b7-a3c6-4895-adb7-74aad7fdc3af",
   "metadata": {},
   "outputs": [],
   "source": [
    "files <- list.files(\"/dcs04/lieber/statsgen/mnagle/mwas/pheno\",\n",
    "                    full.names = TRUE,\n",
    "                    recursive = TRUE,\n",
    "                    pattern = \"rds\")"
   ]
  },
  {
   "cell_type": "code",
   "execution_count": 2,
   "id": "0a38d522-cbd3-48ed-b87a-18222e0efde6",
   "metadata": {},
   "outputs": [
    {
     "name": "stdout",
     "output_type": "stream",
     "text": [
      "[1] 11457\n"
     ]
    }
   ],
   "source": [
    "print(length(files))"
   ]
  },
  {
   "cell_type": "code",
   "execution_count": 3,
   "id": "68fe70ee-c454-4ab6-bb4a-4829e04c38f3",
   "metadata": {},
   "outputs": [],
   "source": [
    "library(data.table)"
   ]
  },
  {
   "cell_type": "code",
   "execution_count": null,
   "id": "009d61b6-8132-45bc-9874-fd10d1b9ace4",
   "metadata": {
    "tags": []
   },
   "outputs": [
    {
     "name": "stderr",
     "output_type": "stream",
     "text": [
      "Loading required package: CpGWAS\n",
      "\n"
     ]
    }
   ],
   "source": [
    "for(i in 1:length(files)){\n",
    "    if(i%%15==0) print(i)\n",
    "    file_in <- readRDS(files[i])\n",
    "\n",
    "    new_name <- gsub(\"rds\", \"csv\", files[i])\n",
    "    if(grepl(\"rds\", new_name)) stop(\"oops\")\n",
    "    file_in@methylations <- cbind(rownames(file_in@methylations), file_in@methylations)\n",
    "    colnames(file_in@methylations)[1] <- \"sample_id\"\n",
    "    fwrite(as.data.table(file_in@methylations), new_name)\n",
    "}\n"
   ]
  },
  {
   "cell_type": "code",
   "execution_count": null,
   "id": "dd2cdc8f-e8b9-4581-ae0a-cc946d3ad962",
   "metadata": {},
   "outputs": [],
   "source": []
  }
 ],
 "metadata": {
  "kernelspec": {
   "display_name": "R",
   "language": "R",
   "name": "ir"
  },
  "language_info": {
   "codemirror_mode": "r",
   "file_extension": ".r",
   "mimetype": "text/x-r-source",
   "name": "R",
   "pygments_lexer": "r",
   "version": "4.3.1"
  }
 },
 "nbformat": 4,
 "nbformat_minor": 5
}
