{
 "cells": [
  {
   "cell_type": "code",
   "execution_count": 1,
   "id": "ec79536d-4f6d-4c80-8cce-fa6aef6f2498",
   "metadata": {},
   "outputs": [],
   "source": [
    "setwd(\"../\")"
   ]
  },
  {
   "cell_type": "code",
   "execution_count": 2,
   "id": "f1556ca6-1284-450c-a85f-839939b011bf",
   "metadata": {},
   "outputs": [],
   "source": [
    "# Script D: script_D.R\n",
    "library(data.table)\n",
    "library(stringr)\n",
    "\n",
    "# Load genome files\n",
    "genome_files <- list.files(\"/expanse/lustre/projects/jhu152/naglemi/mwas/gwas\",\n",
    "                           pattern = \"EUR\", full.names = TRUE)\n",
    "genome_files <- genome_files[grepl(\"pvar\", genome_files)]\n",
    "\n",
    "genome_files <- data.table(path = genome_files, Chr = NA)\n",
    "\n",
    "genome_files$Chr <- str_split_fixed(genome_files$path, \"chr\", 2)[, 2]\n",
    "genome_files$Chr <- gsub(\".pvar\", \"\", genome_files$Chr)\n",
    "\n",
    "genome_files$Chr <- as.integer(genome_files$Chr)\n",
    "genome_files <- genome_files[order(genome_files$Chr), ]\n",
    "\n",
    "# SLURM script generation function\n",
    "generate_slurm_script <- function(genome_file_index) {\n",
    "  script <- paste0(\n",
    "    \"#!/bin/bash\\n\",\n",
    "    \"#SBATCH --partition=shared\\n\",\n",
    "    \"#SBATCH -A jhu152\\n\",\n",
    "    \"#SBATCH --nodes=1\\n\",\n",
    "    \"#SBATCH --ntasks=1\\n\",\n",
    "    \"#SBATCH --cpus-per-task=1\\n\",\n",
    "    \"#SBATCH --mem-per-cpu=32G\\n\",\n",
    "    \"#SBATCH --output=slurm_output_\", genome_file_index, \".out\\n\",\n",
    "    \"#SBATCH --job-name=genome_\", genome_file_index, \"\\n\",\n",
    "    \"#SBATCH --time=24:00:00\\n\",\n",
    "    #\"module load conda\\n\",\n",
    "    \"conda activate mwas\\n\",\n",
    "    \"Rscript /expanse/lustre/projects/jhu152/naglemi/mwas/CpGWAS/scripts/deploy_gwas2mwas_batch.R --genome_file_index=\", genome_file_index, \"\\n\"\n",
    "  )\n",
    "  writeLines(script, paste0(\"/expanse/lustre/projects/jhu152/naglemi/mwas/CpGWAS/slurm_scripts/genome_\", genome_file_index, \".sh\"))\n",
    "}"
   ]
  },
  {
   "cell_type": "code",
   "execution_count": 3,
   "id": "a2c48458-b4f2-4ef7-b2cb-68dda66d077a",
   "metadata": {},
   "outputs": [
    {
     "data": {
      "text/html": [
       "TRUE"
      ],
      "text/latex": [
       "TRUE"
      ],
      "text/markdown": [
       "TRUE"
      ],
      "text/plain": [
       "[1] TRUE"
      ]
     },
     "metadata": {},
     "output_type": "display_data"
    }
   ],
   "source": [
    "file.exists(\"/expanse/lustre/projects/jhu152/naglemi/mwas/CpGWAS/scripts/deploy_gwas2mwas_batch.R\")"
   ]
  },
  {
   "cell_type": "code",
   "execution_count": 4,
   "id": "bb161f00-b16a-45c4-a188-b8b8af89521e",
   "metadata": {},
   "outputs": [],
   "source": [
    "# # Generate and submit SLURM scripts for each genome file\n",
    "# for (i in 1) {\n",
    "#   generate_slurm_script(i)\n",
    "#   system(paste(\"sbatch slurm_scripts/genome_\", i, \".sh\"))\n",
    "# }"
   ]
  },
  {
   "cell_type": "code",
   "execution_count": 5,
   "id": "5625ec6b-38d6-4977-a352-6e50d5efda47",
   "metadata": {},
   "outputs": [],
   "source": [
    "# Generate and submit SLURM scripts for each genome file\n",
    "#for (i in seq_len(nrow(genome_files))) {\n",
    "for(i in c(2, 17)){\n",
    "generate_slurm_script(i)\n",
    "  system(paste(\"sbatch slurm_scripts/genome_\", i, \".sh\"))\n",
    "}"
   ]
  },
  {
   "cell_type": "code",
   "execution_count": 6,
   "id": "e20b31ee-68e3-4062-bac4-438709ca58df",
   "metadata": {},
   "outputs": [
    {
     "data": {
      "text/html": [
       "'/expanse/lustre/projects/jhu152/naglemi/mwas/CpGWAS'"
      ],
      "text/latex": [
       "'/expanse/lustre/projects/jhu152/naglemi/mwas/CpGWAS'"
      ],
      "text/markdown": [
       "'/expanse/lustre/projects/jhu152/naglemi/mwas/CpGWAS'"
      ],
      "text/plain": [
       "[1] \"/expanse/lustre/projects/jhu152/naglemi/mwas/CpGWAS\""
      ]
     },
     "metadata": {},
     "output_type": "display_data"
    }
   ],
   "source": [
    "getwd()"
   ]
  },
  {
   "cell_type": "code",
   "execution_count": 7,
   "id": "733687f7-af5f-4d39-a392-358d2401b250",
   "metadata": {},
   "outputs": [
    {
     "data": {
      "text/html": [
       "22"
      ],
      "text/latex": [
       "22"
      ],
      "text/markdown": [
       "22"
      ],
      "text/plain": [
       "[1] 22"
      ]
     },
     "metadata": {},
     "output_type": "display_data"
    }
   ],
   "source": [
    "i"
   ]
  },
  {
   "cell_type": "code",
   "execution_count": 8,
   "id": "9cde9f48-d664-4d3e-beec-730f1dac83ae",
   "metadata": {},
   "outputs": [
    {
     "data": {
      "text/html": [
       "TRUE"
      ],
      "text/latex": [
       "TRUE"
      ],
      "text/markdown": [
       "TRUE"
      ],
      "text/plain": [
       "[1] TRUE"
      ]
     },
     "metadata": {},
     "output_type": "display_data"
    }
   ],
   "source": [
    "file.exists(\"slurm_scripts/genome_1.sh\")"
   ]
  },
  {
   "cell_type": "code",
   "execution_count": null,
   "id": "a46c45c6-b2a7-470e-b727-03831500e872",
   "metadata": {},
   "outputs": [],
   "source": []
  }
 ],
 "metadata": {
  "kernelspec": {
   "display_name": "R",
   "language": "R",
   "name": "ir"
  },
  "language_info": {
   "codemirror_mode": "r",
   "file_extension": ".r",
   "mimetype": "text/x-r-source",
   "name": "R",
   "pygments_lexer": "r",
   "version": "4.3.1"
  }
 },
 "nbformat": 4,
 "nbformat_minor": 5
}
