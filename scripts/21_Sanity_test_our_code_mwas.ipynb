{
 "cells": [
  {
   "cell_type": "markdown",
   "id": "64cb2c06-7283-4b05-865d-0ecac9578a60",
   "metadata": {},
   "source": [
    "# Work through new MWAS code to determine why result is different"
   ]
  },
  {
   "cell_type": "markdown",
   "id": "2aa07928-1cb6-4fd8-a374-e44b2000e734",
   "metadata": {},
   "source": [
    "## Stage 1"
   ]
  },
  {
   "cell_type": "code",
   "execution_count": null,
   "id": "b65a0fa1-0f6b-46ec-952b-c35b14456bcc",
   "metadata": {},
   "outputs": [],
   "source": []
  },
  {
   "cell_type": "code",
   "execution_count": 1,
   "id": "fafb2d61-881d-44af-88dd-9b0d5d12814c",
   "metadata": {},
   "outputs": [],
   "source": [
    "library(data.table)\n",
    "\n",
    "prev_hits <- fread(\"\n",
    "Chr     pos        old_z       old_p\n",
    "11   38247902        -27.1535308285104       2.30024742330298e-162\n",
    "2    47933357        18.3327793004811        4.53147699327216e-75\n",
    "7    1987910         10.1255085321387        4.25759742738181e-24\n",
    "7    1987896         10.1255085321387        4.25759742738189e-24\n",
    "7    1987797         10.0241523897721        1.19379483108027e-23\n",
    "7    1987778         10.0105851568856        1.36940148731912e-23\n",
    "12   2194742         -10.0072634920486       1.41615523554955e-23\n",
    "\")\n"
   ]
  },
  {
   "cell_type": "code",
   "execution_count": 2,
   "id": "d19bc6a9-df79-4275-8ef1-931e727c000d",
   "metadata": {},
   "outputs": [],
   "source": [
    "#df <- fread(\"09.5-OUT_matched_SNP_meth_cov_chunked_EXPANSE_a2.csv\")"
   ]
  },
  {
   "cell_type": "code",
   "execution_count": 3,
   "id": "22e6dc6a-029e-46f9-a74a-50b36f7fe21c",
   "metadata": {},
   "outputs": [],
   "source": [
    "df <- fread(\"09-OUT_matched_SNP_meth_cov_a2.csv\")"
   ]
  },
  {
   "cell_type": "code",
   "execution_count": 4,
   "id": "9cce27e8-906d-4c9d-82fe-9e3864ac0786",
   "metadata": {},
   "outputs": [],
   "source": [
    "df <- df[which(df$Chr == 7), ]"
   ]
  },
  {
   "cell_type": "code",
   "execution_count": 5,
   "id": "556c2c4e-1dab-46c8-8faa-9889fb8e8538",
   "metadata": {},
   "outputs": [],
   "source": [
    "i <- 2"
   ]
  },
  {
   "cell_type": "code",
   "execution_count": 6,
   "id": "1f26168d-cbc8-4154-b513-d341ff740302",
   "metadata": {},
   "outputs": [],
   "source": [
    "#!/usr/bin/env Rscript\n",
    "\n",
    "#options(error = recover)\n",
    "#options(error = traceback)\n",
    "\n",
    "start_time <- Sys.time()  # Start time capture\n",
    "\n",
    "library(CpGWAS)\n",
    "\n",
    "args <- list(\n",
    "outdir = \"./output/\",\n",
    "chunk1 = 1,#1248982,\n",
    "chunk2 = 20000,#1268981,\n",
    "#snp_data_path = \"/Users/michael.nagle/data/gwas/libd_chr1.pgen\",#/Users/michael.nagle/data/libd_chr1.pgen\",\n",
    "#methylation_data_path = \"/Users/michael.nagle/data/pheno/caud/out/chr1_AA.rda\", #/Users/michael.nagle/data/chr1_AA.rda\",\n",
    "#cov = \"/Users/michael.nagle/data/full_covariates/AA_caud.csv\", #\"/Users/michael.nagle/code/CpGWAS/inst/extdata/AA_cov_dlpfc.csv\",\n",
    "snp_data_path = df$SNP_data[i],\n",
    "methylation_data_path = df$methylation_data[i],\n",
    "#cov = \"/Users/michael.nagle/code/CpGWAS/inst/extdata/AA_cov_dlpfc.csv\",\n",
    "cov = df$cov_file[i],\n",
    "verbose = TRUE,\n",
    "lambda_choice = \"min\",\n",
    "alphas = c(0.5),#seq(0, 1, 0.25),\n",
    "cores_per_alpha = \"all\",\n",
    "num_cores = future::availableCores(),\n",
    "allow_inefficient_parallelization = FALSE,\n",
    "n_fold = 5,\n",
    "window_sizes = c(10000),\n",
    "tag = format(Sys.time(), \"%Y%m%d-%H%M%S\"),\n",
    "save_evaluation_results_each_fold = FALSE,\n",
    "save_glmnet_object = FALSE,\n",
    "cv_eval_mode = \"dynamic\",\n",
    "omit_folds_with_na_r = TRUE,\n",
    "#methInput_rds_path = \"~/data/chr4_EA_200001-220000.rds\",\n",
    "maf = 0.01,\n",
    "na.action = \"remove\"\n",
    ")\n",
    "\n",
    "#saveRDS(args, file = file.path(args$outdir, paste0(args$tag, \"-args.rds\")))\n",
    "#args <- readRDS(\"output/libd_chr1-chr1_AA-static-1core-20240129-123107-args.rds\")\n",
    "if(args$num_cores == \"all\"){\n",
    "  args$num_cores <- future::availableCores()\n",
    "}\n",
    "\n",
    "if(!dir.exists(args$outdir)) {\n",
    "  dir.create(args$outdir)\n",
    "}\n",
    "\n",
    "# Check required arguments\n",
    "if (is.null(args$snp_data_path) || is.null(args$methylation_data_path)) {\n",
    "  stop(\"Paths to both SNP and methylation data are required.\")\n",
    "}"
   ]
  },
  {
   "cell_type": "code",
   "execution_count": 7,
   "id": "0635363c-6505-44f7-aa7a-defa1366955a",
   "metadata": {},
   "outputs": [],
   "source": [
    "load(args$methylation_data_path)"
   ]
  },
  {
   "cell_type": "code",
   "execution_count": 8,
   "id": "5aae14fe-9ba8-4ccd-abd4-c248d8b430f8",
   "metadata": {},
   "outputs": [
    {
     "name": "stderr",
     "output_type": "stream",
     "text": [
      "Creating new MethylationInput object\n",
      "\n",
      "Warning message in processMethylationData(BSseq_obj, start_site, end_site):\n",
      "“Row names not found in methylation matrix of BSseq object. Retrieving from $colData$brnum.”\n"
     ]
    }
   ],
   "source": [
    "# Pt. 2: Initialize (or load) MethylationInput object -------------------------------\n",
    "\n",
    "if (!is.null(args$methInput_rds_path) && file.exists(args$methInput_rds_path)) {\n",
    "  if(args$verbose) {\n",
    "    message(\"Loading MethylationInput object from RDS file: \", args$methInput_rds_path)\n",
    "  }\n",
    "  methInput <- reinitializeMethylationInput(rds_path = args$methInput_rds_path,\n",
    "                                            snp_data_path = args$snp_data_path,\n",
    "                                            start_site = args$chunk1,\n",
    "                                            end_site = args$chunk2,\n",
    "                                            no_cores = args$num_cores)\n",
    "} else {\n",
    "  if(args$verbose) {\n",
    "    message(\"Creating new MethylationInput object\")\n",
    "  }\n",
    "  load(args$methylation_data_path)\n",
    "  methInput <- new(\"MethylationInput\",\n",
    "                   BSseq_obj = BSobj2,\n",
    "                   snp_data_path = args$snp_data_path,\n",
    "                   cov_path = args$cov,\n",
    "                   #start_site = args$chunk1,\n",
    "                   #end_site = args$chunk2,\n",
    "                   no_cores = args$num_cores)\n",
    "  BSobj2 <- means <- sds <- NULL\n",
    "  #methInput <- sampleMethylationSites(methInput, n = 10000, seed = 42)\n",
    "  #saveRDS(methInput, \"~/data/chr1_dfplc_all_methylation_10k_samples_a3.rds\")\n",
    "  \n",
    "  #BSobj_sample <- methInput\n",
    "  \n",
    "  #save(methInput, file = \"~/code/CpGWAS/inst/extdata/chr1_methylation_sample_subset.rda\")\n",
    "  \n",
    "}\n",
    "  \n",
    "#})\n",
    "\n",
    "validatePositionOverlap(methInput, max(args$window_sizes))\n",
    "\n",
    "# Pt. 3: Main loop to process SNP data for each methylation site ----------\n",
    "\n",
    "scaffoldIdentifier <- paste0(tools::file_path_sans_ext(basename(args$snp_data_path)),\n",
    "                             \"-\",\n",
    "                             tools::file_path_sans_ext(basename(args$methylation_data_path)),\n",
    "                             \"-\",\n",
    "                             args$tag)"
   ]
  },
  {
   "cell_type": "code",
   "execution_count": 9,
   "id": "4bb553c3-9f0b-4973-89bc-8e6eca760d35",
   "metadata": {},
   "outputs": [],
   "source": [
    "sites_to_test <- which(methInput@methylations_positions >= (1987910 - 500) & methInput@methylations_positions <= (1987910 + 500))"
   ]
  },
  {
   "cell_type": "code",
   "execution_count": 10,
   "id": "6d568d16-05e7-4bc7-bad1-f0628756c8ca",
   "metadata": {},
   "outputs": [
    {
     "data": {
      "text/html": [
       "49"
      ],
      "text/latex": [
       "49"
      ],
      "text/markdown": [
       "49"
      ],
      "text/plain": [
       "[1] 49"
      ]
     },
     "metadata": {},
     "output_type": "display_data"
    }
   ],
   "source": [
    "length(sites_to_test)"
   ]
  },
  {
   "cell_type": "code",
   "execution_count": 11,
   "id": "6fe4c795-80da-4bcb-9733-a07821cc3d92",
   "metadata": {},
   "outputs": [
    {
     "data": {
      "text/html": [
       "58792"
      ],
      "text/latex": [
       "58792"
      ],
      "text/markdown": [
       "58792"
      ],
      "text/plain": [
       "[1] 58792"
      ]
     },
     "metadata": {},
     "output_type": "display_data"
    }
   ],
   "source": [
    "min(sites_to_test)"
   ]
  },
  {
   "cell_type": "code",
   "execution_count": 12,
   "id": "7990aa2d-7f75-4430-9ee4-34653c104e74",
   "metadata": {},
   "outputs": [
    {
     "data": {
      "text/html": [
       "58840"
      ],
      "text/latex": [
       "58840"
      ],
      "text/markdown": [
       "58840"
      ],
      "text/plain": [
       "[1] 58840"
      ]
     },
     "metadata": {},
     "output_type": "display_data"
    }
   ],
   "source": [
    "max(sites_to_test)"
   ]
  },
  {
   "cell_type": "code",
   "execution_count": 13,
   "id": "41bb6740-5f1e-4bef-a698-595b12eb5f1b",
   "metadata": {},
   "outputs": [
    {
     "data": {
      "text/plain": [
       "[1] \"2024-07-01 11:23:26 PDT\""
      ]
     },
     "metadata": {},
     "output_type": "display_data"
    }
   ],
   "source": [
    "Sys.time()"
   ]
  },
  {
   "cell_type": "code",
   "execution_count": 14,
   "id": "7d695f93-f425-4226-9233-9c1d660a6266",
   "metadata": {
    "scrolled": true
   },
   "outputs": [
    {
     "name": "stdout",
     "output_type": "stream",
     "text": [
      "Running methylation site #58792 at position 1987413"
     ]
    },
    {
     "name": "stderr",
     "output_type": "stream",
     "text": [
      "Parallelization within cv.glmnet using all available cores (32).\n",
      "\n",
      "Parallelizing within cv.glmnet\n",
      "\n",
      "Loading required package: Matrix\n",
      "\n",
      "Loaded glmnet 4.1-8\n",
      "\n"
     ]
    },
    {
     "name": "stdout",
     "output_type": "stream",
     "text": [
      "Tuning results - Lambda: 0.01336686 Alpha: 0.5 \n"
     ]
    },
    {
     "name": "stderr",
     "output_type": "stream",
     "text": [
      "Parallelization within cv.glmnet using all available cores (32).\n",
      "\n",
      "Parallelizing within cv.glmnet\n",
      "\n"
     ]
    },
    {
     "name": "stdout",
     "output_type": "stream",
     "text": [
      "Tuning results - Lambda: 0.01490584 Alpha: 0.5 \n"
     ]
    },
    {
     "name": "stderr",
     "output_type": "stream",
     "text": [
      "Parallelization within cv.glmnet using all available cores (32).\n",
      "\n",
      "Parallelizing within cv.glmnet\n",
      "\n"
     ]
    },
    {
     "name": "stdout",
     "output_type": "stream",
     "text": [
      "Tuning results - Lambda: 0.01375791 Alpha: 0.5 \n"
     ]
    },
    {
     "name": "stderr",
     "output_type": "stream",
     "text": [
      "Parallelization within cv.glmnet using all available cores (32).\n",
      "\n",
      "Parallelizing within cv.glmnet\n",
      "\n"
     ]
    },
    {
     "name": "stdout",
     "output_type": "stream",
     "text": [
      "Tuning results - Lambda: 0.01229864 Alpha: 0.5 \n"
     ]
    },
    {
     "name": "stderr",
     "output_type": "stream",
     "text": [
      "Parallelization within cv.glmnet using all available cores (32).\n",
      "\n",
      "Parallelizing within cv.glmnet\n",
      "\n"
     ]
    },
    {
     "name": "stdout",
     "output_type": "stream",
     "text": [
      "Tuning results - Lambda: 0.01384822 Alpha: 0.5 \n"
     ]
    },
    {
     "name": "stderr",
     "output_type": "stream",
     "text": [
      "Parallelization within cv.glmnet using all available cores (32).\n",
      "\n",
      "Parallelizing within cv.glmnet\n",
      "\n"
     ]
    },
    {
     "name": "stdout",
     "output_type": "stream",
     "text": [
      "Tuning results - Lambda: 0.0144008 Alpha: 0.5 \n",
      "Running methylation site #58793 at position 1987418"
     ]
    },
    {
     "name": "stderr",
     "output_type": "stream",
     "text": [
      "Parallelization within cv.glmnet using all available cores (32).\n",
      "\n",
      "Parallelizing within cv.glmnet\n",
      "\n"
     ]
    },
    {
     "name": "stdout",
     "output_type": "stream",
     "text": [
      "Tuning results - Lambda: 0.007819719 Alpha: 0.5 \n"
     ]
    },
    {
     "name": "stderr",
     "output_type": "stream",
     "text": [
      "Parallelization within cv.glmnet using all available cores (32).\n",
      "\n",
      "Parallelizing within cv.glmnet\n",
      "\n"
     ]
    },
    {
     "name": "stdout",
     "output_type": "stream",
     "text": [
      "Tuning results - Lambda: 0.01102431 Alpha: 0.5 \n"
     ]
    },
    {
     "name": "stderr",
     "output_type": "stream",
     "text": [
      "Parallelization within cv.glmnet using all available cores (32).\n",
      "\n",
      "Parallelizing within cv.glmnet\n",
      "\n"
     ]
    },
    {
     "name": "stdout",
     "output_type": "stream",
     "text": [
      "Tuning results - Lambda: 0.01025593 Alpha: 0.5 \n"
     ]
    },
    {
     "name": "stderr",
     "output_type": "stream",
     "text": [
      "Parallelization within cv.glmnet using all available cores (32).\n",
      "\n",
      "Parallelizing within cv.glmnet\n",
      "\n"
     ]
    },
    {
     "name": "stdout",
     "output_type": "stream",
     "text": [
      "Tuning results - Lambda: 0.01111364 Alpha: 0.5 \n"
     ]
    },
    {
     "name": "stderr",
     "output_type": "stream",
     "text": [
      "Parallelization within cv.glmnet using all available cores (32).\n",
      "\n",
      "Parallelizing within cv.glmnet\n",
      "\n"
     ]
    },
    {
     "name": "stdout",
     "output_type": "stream",
     "text": [
      "Tuning results - Lambda: 0.007258644 Alpha: 0.5 \n"
     ]
    },
    {
     "name": "stderr",
     "output_type": "stream",
     "text": [
      "Parallelization within cv.glmnet using all available cores (32).\n",
      "\n",
      "Parallelizing within cv.glmnet\n",
      "\n"
     ]
    },
    {
     "name": "stdout",
     "output_type": "stream",
     "text": [
      "Tuning results - Lambda: 0.01157606 Alpha: 0.5 \n",
      "Running methylation site #58794 at position 1987434"
     ]
    },
    {
     "name": "stderr",
     "output_type": "stream",
     "text": [
      "Parallelization within cv.glmnet using all available cores (32).\n",
      "\n",
      "Parallelizing within cv.glmnet\n",
      "\n"
     ]
    },
    {
     "name": "stdout",
     "output_type": "stream",
     "text": [
      "Tuning results - Lambda: 0.01103723 Alpha: 0.5 \n"
     ]
    },
    {
     "name": "stderr",
     "output_type": "stream",
     "text": [
      "Parallelization within cv.glmnet using all available cores (32).\n",
      "\n",
      "Parallelizing within cv.glmnet\n",
      "\n"
     ]
    },
    {
     "name": "stdout",
     "output_type": "stream",
     "text": [
      "Tuning results - Lambda: 0.01084403 Alpha: 0.5 \n"
     ]
    },
    {
     "name": "stderr",
     "output_type": "stream",
     "text": [
      "Parallelization within cv.glmnet using all available cores (32).\n",
      "\n",
      "Parallelizing within cv.glmnet\n",
      "\n"
     ]
    },
    {
     "name": "stdout",
     "output_type": "stream",
     "text": [
      "Tuning results - Lambda: 0.00963578 Alpha: 0.5 \n"
     ]
    },
    {
     "name": "stderr",
     "output_type": "stream",
     "text": [
      "Parallelization within cv.glmnet using all available cores (32).\n",
      "\n",
      "Parallelizing within cv.glmnet\n",
      "\n"
     ]
    },
    {
     "name": "stdout",
     "output_type": "stream",
     "text": [
      "Tuning results - Lambda: 0.01225081 Alpha: 0.5 \n"
     ]
    },
    {
     "name": "stderr",
     "output_type": "stream",
     "text": [
      "Parallelization within cv.glmnet using all available cores (32).\n",
      "\n",
      "Parallelizing within cv.glmnet\n",
      "\n"
     ]
    },
    {
     "name": "stdout",
     "output_type": "stream",
     "text": [
      "Tuning results - Lambda: 0.01205259 Alpha: 0.5 \n"
     ]
    },
    {
     "name": "stderr",
     "output_type": "stream",
     "text": [
      "Parallelization within cv.glmnet using all available cores (32).\n",
      "\n",
      "Parallelizing within cv.glmnet\n",
      "\n"
     ]
    },
    {
     "name": "stdout",
     "output_type": "stream",
     "text": [
      "Tuning results - Lambda: 0.01080055 Alpha: 0.5 \n",
      "Running methylation site #58795 at position 1987449"
     ]
    },
    {
     "name": "stderr",
     "output_type": "stream",
     "text": [
      "Parallelization within cv.glmnet using all available cores (32).\n",
      "\n",
      "Parallelizing within cv.glmnet\n",
      "\n"
     ]
    },
    {
     "name": "stdout",
     "output_type": "stream",
     "text": [
      "Tuning results - Lambda: 0.01062546 Alpha: 0.5 \n"
     ]
    },
    {
     "name": "stderr",
     "output_type": "stream",
     "text": [
      "Parallelization within cv.glmnet using all available cores (32).\n",
      "\n",
      "Parallelizing within cv.glmnet\n",
      "\n"
     ]
    },
    {
     "name": "stdout",
     "output_type": "stream",
     "text": [
      "Tuning results - Lambda: 0.009789259 Alpha: 0.5 \n"
     ]
    },
    {
     "name": "stderr",
     "output_type": "stream",
     "text": [
      "Parallelization within cv.glmnet using all available cores (32).\n",
      "\n",
      "Parallelizing within cv.glmnet\n",
      "\n"
     ]
    },
    {
     "name": "stdout",
     "output_type": "stream",
     "text": [
      "Tuning results - Lambda: 0.009762452 Alpha: 0.5 \n"
     ]
    },
    {
     "name": "stderr",
     "output_type": "stream",
     "text": [
      "Parallelization within cv.glmnet using all available cores (32).\n",
      "\n",
      "Parallelizing within cv.glmnet\n",
      "\n"
     ]
    },
    {
     "name": "stdout",
     "output_type": "stream",
     "text": [
      "Tuning results - Lambda: 0.01013265 Alpha: 0.5 \n"
     ]
    },
    {
     "name": "stderr",
     "output_type": "stream",
     "text": [
      "Parallelization within cv.glmnet using all available cores (32).\n",
      "\n",
      "Parallelizing within cv.glmnet\n",
      "\n"
     ]
    },
    {
     "name": "stdout",
     "output_type": "stream",
     "text": [
      "Tuning results - Lambda: 0.01250079 Alpha: 0.5 \n"
     ]
    },
    {
     "name": "stderr",
     "output_type": "stream",
     "text": [
      "Parallelization within cv.glmnet using all available cores (32).\n",
      "\n",
      "Parallelizing within cv.glmnet\n",
      "\n"
     ]
    },
    {
     "name": "stdout",
     "output_type": "stream",
     "text": [
      "Tuning results - Lambda: 0.007856246 Alpha: 0.5 \n",
      "Running methylation site #58796 at position 1987458"
     ]
    },
    {
     "name": "stderr",
     "output_type": "stream",
     "text": [
      "Parallelization within cv.glmnet using all available cores (32).\n",
      "\n",
      "Parallelizing within cv.glmnet\n",
      "\n"
     ]
    },
    {
     "name": "stdout",
     "output_type": "stream",
     "text": [
      "Tuning results - Lambda: 0.007548849 Alpha: 0.5 \n"
     ]
    },
    {
     "name": "stderr",
     "output_type": "stream",
     "text": [
      "Parallelization within cv.glmnet using all available cores (32).\n",
      "\n",
      "Parallelizing within cv.glmnet\n",
      "\n"
     ]
    },
    {
     "name": "stdout",
     "output_type": "stream",
     "text": [
      "Tuning results - Lambda: 0.01033889 Alpha: 0.5 \n"
     ]
    },
    {
     "name": "stderr",
     "output_type": "stream",
     "text": [
      "Parallelization within cv.glmnet using all available cores (32).\n",
      "\n",
      "Parallelizing within cv.glmnet\n",
      "\n"
     ]
    },
    {
     "name": "stdout",
     "output_type": "stream",
     "text": [
      "Tuning results - Lambda: 0.008950471 Alpha: 0.5 \n"
     ]
    },
    {
     "name": "stderr",
     "output_type": "stream",
     "text": [
      "Parallelization within cv.glmnet using all available cores (32).\n",
      "\n",
      "Parallelizing within cv.glmnet\n",
      "\n"
     ]
    },
    {
     "name": "stdout",
     "output_type": "stream",
     "text": [
      "Tuning results - Lambda: 0.01060524 Alpha: 0.5 \n"
     ]
    },
    {
     "name": "stderr",
     "output_type": "stream",
     "text": [
      "Parallelization within cv.glmnet using all available cores (32).\n",
      "\n",
      "Parallelizing within cv.glmnet\n",
      "\n"
     ]
    },
    {
     "name": "stdout",
     "output_type": "stream",
     "text": [
      "Tuning results - Lambda: 0.009054847 Alpha: 0.5 \n"
     ]
    },
    {
     "name": "stderr",
     "output_type": "stream",
     "text": [
      "Parallelization within cv.glmnet using all available cores (32).\n",
      "\n",
      "Parallelizing within cv.glmnet\n",
      "\n"
     ]
    },
    {
     "name": "stdout",
     "output_type": "stream",
     "text": [
      "Tuning results - Lambda: 0.009597152 Alpha: 0.5 \n",
      "Running methylation site #58797 at position 1987468"
     ]
    },
    {
     "name": "stderr",
     "output_type": "stream",
     "text": [
      "Parallelization within cv.glmnet using all available cores (32).\n",
      "\n",
      "Parallelizing within cv.glmnet\n",
      "\n"
     ]
    },
    {
     "name": "stdout",
     "output_type": "stream",
     "text": [
      "Tuning results - Lambda: 0.01029747 Alpha: 0.5 \n"
     ]
    },
    {
     "name": "stderr",
     "output_type": "stream",
     "text": [
      "Parallelization within cv.glmnet using all available cores (32).\n",
      "\n",
      "Parallelizing within cv.glmnet\n",
      "\n"
     ]
    },
    {
     "name": "stdout",
     "output_type": "stream",
     "text": [
      "Tuning results - Lambda: 0.01065311 Alpha: 0.5 \n"
     ]
    },
    {
     "name": "stderr",
     "output_type": "stream",
     "text": [
      "Parallelization within cv.glmnet using all available cores (32).\n",
      "\n",
      "Parallelizing within cv.glmnet\n",
      "\n"
     ]
    },
    {
     "name": "stdout",
     "output_type": "stream",
     "text": [
      "Tuning results - Lambda: 0.01026499 Alpha: 0.5 \n"
     ]
    },
    {
     "name": "stderr",
     "output_type": "stream",
     "text": [
      "Parallelization within cv.glmnet using all available cores (32).\n",
      "\n",
      "Parallelizing within cv.glmnet\n",
      "\n"
     ]
    },
    {
     "name": "stdout",
     "output_type": "stream",
     "text": [
      "Tuning results - Lambda: 0.01083318 Alpha: 0.5 \n"
     ]
    },
    {
     "name": "stderr",
     "output_type": "stream",
     "text": [
      "Parallelization within cv.glmnet using all available cores (32).\n",
      "\n",
      "Parallelizing within cv.glmnet\n",
      "\n"
     ]
    },
    {
     "name": "stdout",
     "output_type": "stream",
     "text": [
      "Tuning results - Lambda: 0.01183898 Alpha: 0.5 \n"
     ]
    },
    {
     "name": "stderr",
     "output_type": "stream",
     "text": [
      "Parallelization within cv.glmnet using all available cores (32).\n",
      "\n",
      "Parallelizing within cv.glmnet\n",
      "\n"
     ]
    },
    {
     "name": "stdout",
     "output_type": "stream",
     "text": [
      "Tuning results - Lambda: 0.01218276 Alpha: 0.5 \n",
      "Running methylation site #58798 at position 1987492"
     ]
    },
    {
     "name": "stderr",
     "output_type": "stream",
     "text": [
      "Parallelization within cv.glmnet using all available cores (32).\n",
      "\n",
      "Parallelizing within cv.glmnet\n",
      "\n"
     ]
    },
    {
     "name": "stdout",
     "output_type": "stream",
     "text": [
      "Tuning results - Lambda: 0.009137397 Alpha: 0.5 \n"
     ]
    },
    {
     "name": "stderr",
     "output_type": "stream",
     "text": [
      "Parallelization within cv.glmnet using all available cores (32).\n",
      "\n",
      "Parallelizing within cv.glmnet\n",
      "\n"
     ]
    },
    {
     "name": "stdout",
     "output_type": "stream",
     "text": [
      "Tuning results - Lambda: 0.01095117 Alpha: 0.5 \n"
     ]
    },
    {
     "name": "stderr",
     "output_type": "stream",
     "text": [
      "Parallelization within cv.glmnet using all available cores (32).\n",
      "\n",
      "Parallelizing within cv.glmnet\n",
      "\n"
     ]
    },
    {
     "name": "stdout",
     "output_type": "stream",
     "text": [
      "Tuning results - Lambda: 0.00855731 Alpha: 0.5 \n"
     ]
    },
    {
     "name": "stderr",
     "output_type": "stream",
     "text": [
      "Parallelization within cv.glmnet using all available cores (32).\n",
      "\n",
      "Parallelizing within cv.glmnet\n",
      "\n"
     ]
    },
    {
     "name": "stdout",
     "output_type": "stream",
     "text": [
      "Tuning results - Lambda: 0.00960994 Alpha: 0.5 \n"
     ]
    },
    {
     "name": "stderr",
     "output_type": "stream",
     "text": [
      "Parallelization within cv.glmnet using all available cores (32).\n",
      "\n",
      "Parallelizing within cv.glmnet\n",
      "\n"
     ]
    },
    {
     "name": "stdout",
     "output_type": "stream",
     "text": [
      "Tuning results - Lambda: 0.01096014 Alpha: 0.5 \n"
     ]
    },
    {
     "name": "stderr",
     "output_type": "stream",
     "text": [
      "Parallelization within cv.glmnet using all available cores (32).\n",
      "\n",
      "Parallelizing within cv.glmnet\n",
      "\n"
     ]
    },
    {
     "name": "stdout",
     "output_type": "stream",
     "text": [
      "Tuning results - Lambda: 0.009553613 Alpha: 0.5 \n",
      "Running methylation site #58799 at position 1987511"
     ]
    },
    {
     "name": "stderr",
     "output_type": "stream",
     "text": [
      "Parallelization within cv.glmnet using all available cores (32).\n",
      "\n",
      "Parallelizing within cv.glmnet\n",
      "\n"
     ]
    },
    {
     "name": "stdout",
     "output_type": "stream",
     "text": [
      "Tuning results - Lambda: 0.01048676 Alpha: 0.5 \n"
     ]
    },
    {
     "name": "stderr",
     "output_type": "stream",
     "text": [
      "Parallelization within cv.glmnet using all available cores (32).\n",
      "\n",
      "Parallelizing within cv.glmnet\n",
      "\n"
     ]
    },
    {
     "name": "stdout",
     "output_type": "stream",
     "text": [
      "Tuning results - Lambda: 0.00686649 Alpha: 0.5 \n"
     ]
    },
    {
     "name": "stderr",
     "output_type": "stream",
     "text": [
      "Parallelization within cv.glmnet using all available cores (32).\n",
      "\n",
      "Parallelizing within cv.glmnet\n",
      "\n"
     ]
    },
    {
     "name": "stdout",
     "output_type": "stream",
     "text": [
      "Tuning results - Lambda: 0.008914431 Alpha: 0.5 \n"
     ]
    },
    {
     "name": "stderr",
     "output_type": "stream",
     "text": [
      "Parallelization within cv.glmnet using all available cores (32).\n",
      "\n",
      "Parallelizing within cv.glmnet\n",
      "\n"
     ]
    },
    {
     "name": "stdout",
     "output_type": "stream",
     "text": [
      "Tuning results - Lambda: 0.00973901 Alpha: 0.5 \n"
     ]
    },
    {
     "name": "stderr",
     "output_type": "stream",
     "text": [
      "Parallelization within cv.glmnet using all available cores (32).\n",
      "\n",
      "Parallelizing within cv.glmnet\n",
      "\n"
     ]
    },
    {
     "name": "stdout",
     "output_type": "stream",
     "text": [
      "Tuning results - Lambda: 0.008032608 Alpha: 0.5 \n"
     ]
    },
    {
     "name": "stderr",
     "output_type": "stream",
     "text": [
      "Parallelization within cv.glmnet using all available cores (32).\n",
      "\n",
      "Parallelizing within cv.glmnet\n",
      "\n"
     ]
    },
    {
     "name": "stdout",
     "output_type": "stream",
     "text": [
      "Tuning results - Lambda: 0.008609166 Alpha: 0.5 \n",
      "Running methylation site #58800 at position 1987527"
     ]
    },
    {
     "name": "stderr",
     "output_type": "stream",
     "text": [
      "Parallelization within cv.glmnet using all available cores (32).\n",
      "\n",
      "Parallelizing within cv.glmnet\n",
      "\n"
     ]
    },
    {
     "name": "stdout",
     "output_type": "stream",
     "text": [
      "Tuning results - Lambda: 0.006805052 Alpha: 0.5 \n"
     ]
    },
    {
     "name": "stderr",
     "output_type": "stream",
     "text": [
      "Parallelization within cv.glmnet using all available cores (32).\n",
      "\n",
      "Parallelizing within cv.glmnet\n",
      "\n"
     ]
    },
    {
     "name": "stdout",
     "output_type": "stream",
     "text": [
      "Tuning results - Lambda: 0.01056555 Alpha: 0.5 \n"
     ]
    },
    {
     "name": "stderr",
     "output_type": "stream",
     "text": [
      "Parallelization within cv.glmnet using all available cores (32).\n",
      "\n",
      "Parallelizing within cv.glmnet\n",
      "\n"
     ]
    },
    {
     "name": "stdout",
     "output_type": "stream",
     "text": [
      "Tuning results - Lambda: 0.006378063 Alpha: 0.5 \n"
     ]
    },
    {
     "name": "stderr",
     "output_type": "stream",
     "text": [
      "Parallelization within cv.glmnet using all available cores (32).\n",
      "\n",
      "Parallelizing within cv.glmnet\n",
      "\n"
     ]
    },
    {
     "name": "stdout",
     "output_type": "stream",
     "text": [
      "Tuning results - Lambda: 0.008528693 Alpha: 0.5 \n"
     ]
    },
    {
     "name": "stderr",
     "output_type": "stream",
     "text": [
      "Parallelization within cv.glmnet using all available cores (32).\n",
      "\n",
      "Parallelizing within cv.glmnet\n",
      "\n"
     ]
    },
    {
     "name": "stdout",
     "output_type": "stream",
     "text": [
      "Tuning results - Lambda: 0.008438691 Alpha: 0.5 \n"
     ]
    },
    {
     "name": "stderr",
     "output_type": "stream",
     "text": [
      "Parallelization within cv.glmnet using all available cores (32).\n",
      "\n",
      "Parallelizing within cv.glmnet\n",
      "\n"
     ]
    },
    {
     "name": "stdout",
     "output_type": "stream",
     "text": [
      "Tuning results - Lambda: 0.0077076 Alpha: 0.5 \n",
      "Running methylation site #58801 at position 1987565"
     ]
    },
    {
     "name": "stderr",
     "output_type": "stream",
     "text": [
      "Parallelization within cv.glmnet using all available cores (32).\n",
      "\n",
      "Parallelizing within cv.glmnet\n",
      "\n"
     ]
    },
    {
     "name": "stdout",
     "output_type": "stream",
     "text": [
      "Tuning results - Lambda: 0.00956622 Alpha: 0.5 \n"
     ]
    },
    {
     "name": "stderr",
     "output_type": "stream",
     "text": [
      "Parallelization within cv.glmnet using all available cores (32).\n",
      "\n",
      "Parallelizing within cv.glmnet\n",
      "\n"
     ]
    },
    {
     "name": "stdout",
     "output_type": "stream",
     "text": [
      "Tuning results - Lambda: 0.006077816 Alpha: 0.5 \n"
     ]
    },
    {
     "name": "stderr",
     "output_type": "stream",
     "text": [
      "Parallelization within cv.glmnet using all available cores (32).\n",
      "\n",
      "Parallelizing within cv.glmnet\n",
      "\n"
     ]
    },
    {
     "name": "stdout",
     "output_type": "stream",
     "text": [
      "Tuning results - Lambda: 0.008863282 Alpha: 0.5 \n"
     ]
    },
    {
     "name": "stderr",
     "output_type": "stream",
     "text": [
      "Parallelization within cv.glmnet using all available cores (32).\n",
      "\n",
      "Parallelizing within cv.glmnet\n",
      "\n"
     ]
    },
    {
     "name": "stdout",
     "output_type": "stream",
     "text": [
      "Tuning results - Lambda: 0.006921071 Alpha: 0.5 \n"
     ]
    },
    {
     "name": "stderr",
     "output_type": "stream",
     "text": [
      "Parallelization within cv.glmnet using all available cores (32).\n",
      "\n",
      "Parallelizing within cv.glmnet\n",
      "\n"
     ]
    },
    {
     "name": "stdout",
     "output_type": "stream",
     "text": [
      "Tuning results - Lambda: 0.006815531 Alpha: 0.5 \n"
     ]
    },
    {
     "name": "stderr",
     "output_type": "stream",
     "text": [
      "Parallelization within cv.glmnet using all available cores (32).\n",
      "\n",
      "Parallelizing within cv.glmnet\n",
      "\n"
     ]
    },
    {
     "name": "stdout",
     "output_type": "stream",
     "text": [
      "Tuning results - Lambda: 0.006518909 Alpha: 0.5 \n",
      "Running methylation site #58802 at position 1987604"
     ]
    },
    {
     "name": "stderr",
     "output_type": "stream",
     "text": [
      "Parallelization within cv.glmnet using all available cores (32).\n",
      "\n",
      "Parallelizing within cv.glmnet\n",
      "\n"
     ]
    },
    {
     "name": "stdout",
     "output_type": "stream",
     "text": [
      "Tuning results - Lambda: 0.006261587 Alpha: 0.5 \n"
     ]
    },
    {
     "name": "stderr",
     "output_type": "stream",
     "text": [
      "Parallelization within cv.glmnet using all available cores (32).\n",
      "\n",
      "Parallelizing within cv.glmnet\n",
      "\n"
     ]
    },
    {
     "name": "stdout",
     "output_type": "stream",
     "text": [
      "Tuning results - Lambda: 0.006893323 Alpha: 0.5 \n"
     ]
    },
    {
     "name": "stderr",
     "output_type": "stream",
     "text": [
      "Parallelization within cv.glmnet using all available cores (32).\n",
      "\n",
      "Parallelizing within cv.glmnet\n",
      "\n"
     ]
    },
    {
     "name": "stdout",
     "output_type": "stream",
     "text": [
      "Tuning results - Lambda: 0.008317843 Alpha: 0.5 \n"
     ]
    },
    {
     "name": "stderr",
     "output_type": "stream",
     "text": [
      "Parallelization within cv.glmnet using all available cores (32).\n",
      "\n",
      "Parallelizing within cv.glmnet\n",
      "\n"
     ]
    },
    {
     "name": "stdout",
     "output_type": "stream",
     "text": [
      "Tuning results - Lambda: 0.005828634 Alpha: 0.5 \n"
     ]
    },
    {
     "name": "stderr",
     "output_type": "stream",
     "text": [
      "Parallelization within cv.glmnet using all available cores (32).\n",
      "\n",
      "Parallelizing within cv.glmnet\n",
      "\n"
     ]
    },
    {
     "name": "stdout",
     "output_type": "stream",
     "text": [
      "Tuning results - Lambda: 0.006411 Alpha: 0.5 \n"
     ]
    },
    {
     "name": "stderr",
     "output_type": "stream",
     "text": [
      "Parallelization within cv.glmnet using all available cores (32).\n",
      "\n",
      "Parallelizing within cv.glmnet\n",
      "\n"
     ]
    },
    {
     "name": "stdout",
     "output_type": "stream",
     "text": [
      "Tuning results - Lambda: 0.008561411 Alpha: 0.5 \n",
      "Running methylation site #58803 at position 1987616"
     ]
    },
    {
     "name": "stderr",
     "output_type": "stream",
     "text": [
      "Parallelization within cv.glmnet using all available cores (32).\n",
      "\n",
      "Parallelizing within cv.glmnet\n",
      "\n"
     ]
    },
    {
     "name": "stdout",
     "output_type": "stream",
     "text": [
      "Tuning results - Lambda: 0.005242868 Alpha: 0.5 \n"
     ]
    },
    {
     "name": "stderr",
     "output_type": "stream",
     "text": [
      "Parallelization within cv.glmnet using all available cores (32).\n",
      "\n",
      "Parallelizing within cv.glmnet\n",
      "\n"
     ]
    },
    {
     "name": "stdout",
     "output_type": "stream",
     "text": [
      "Tuning results - Lambda: 0.005519989 Alpha: 0.5 \n"
     ]
    },
    {
     "name": "stderr",
     "output_type": "stream",
     "text": [
      "Parallelization within cv.glmnet using all available cores (32).\n",
      "\n",
      "Parallelizing within cv.glmnet\n",
      "\n"
     ]
    },
    {
     "name": "stdout",
     "output_type": "stream",
     "text": [
      "Tuning results - Lambda: 0.008962169 Alpha: 0.5 \n"
     ]
    },
    {
     "name": "stderr",
     "output_type": "stream",
     "text": [
      "Parallelization within cv.glmnet using all available cores (32).\n",
      "\n",
      "Parallelizing within cv.glmnet\n",
      "\n"
     ]
    },
    {
     "name": "stdout",
     "output_type": "stream",
     "text": [
      "Tuning results - Lambda: 0.006861368 Alpha: 0.5 \n"
     ]
    },
    {
     "name": "stderr",
     "output_type": "stream",
     "text": [
      "Parallelization within cv.glmnet using all available cores (32).\n",
      "\n",
      "Parallelizing within cv.glmnet\n",
      "\n"
     ]
    },
    {
     "name": "stdout",
     "output_type": "stream",
     "text": [
      "Tuning results - Lambda: 0.007864847 Alpha: 0.5 \n"
     ]
    },
    {
     "name": "stderr",
     "output_type": "stream",
     "text": [
      "Parallelization within cv.glmnet using all available cores (32).\n",
      "\n",
      "Parallelizing within cv.glmnet\n",
      "\n"
     ]
    },
    {
     "name": "stdout",
     "output_type": "stream",
     "text": [
      "Tuning results - Lambda: 0.007227251 Alpha: 0.5 \n",
      "Running methylation site #58804 at position 1987627"
     ]
    },
    {
     "name": "stderr",
     "output_type": "stream",
     "text": [
      "Parallelization within cv.glmnet using all available cores (32).\n",
      "\n",
      "Parallelizing within cv.glmnet\n",
      "\n"
     ]
    },
    {
     "name": "stdout",
     "output_type": "stream",
     "text": [
      "Tuning results - Lambda: 0.005275252 Alpha: 0.5 \n"
     ]
    },
    {
     "name": "stderr",
     "output_type": "stream",
     "text": [
      "Parallelization within cv.glmnet using all available cores (32).\n",
      "\n",
      "Parallelizing within cv.glmnet\n",
      "\n"
     ]
    },
    {
     "name": "stdout",
     "output_type": "stream",
     "text": [
      "Tuning results - Lambda: 0.007602858 Alpha: 0.5 \n"
     ]
    },
    {
     "name": "stderr",
     "output_type": "stream",
     "text": [
      "Parallelization within cv.glmnet using all available cores (32).\n",
      "\n",
      "Parallelizing within cv.glmnet\n",
      "\n"
     ]
    },
    {
     "name": "stdout",
     "output_type": "stream",
     "text": [
      "Tuning results - Lambda: 0.007994668 Alpha: 0.5 \n"
     ]
    },
    {
     "name": "stderr",
     "output_type": "stream",
     "text": [
      "Parallelization within cv.glmnet using all available cores (32).\n",
      "\n",
      "Parallelizing within cv.glmnet\n",
      "\n"
     ]
    },
    {
     "name": "stdout",
     "output_type": "stream",
     "text": [
      "Tuning results - Lambda: 0.005223375 Alpha: 0.5 \n"
     ]
    },
    {
     "name": "stderr",
     "output_type": "stream",
     "text": [
      "Parallelization within cv.glmnet using all available cores (32).\n",
      "\n",
      "Parallelizing within cv.glmnet\n",
      "\n"
     ]
    },
    {
     "name": "stdout",
     "output_type": "stream",
     "text": [
      "Tuning results - Lambda: 0.006840804 Alpha: 0.5 \n"
     ]
    },
    {
     "name": "stderr",
     "output_type": "stream",
     "text": [
      "Parallelization within cv.glmnet using all available cores (32).\n",
      "\n",
      "Parallelizing within cv.glmnet\n",
      "\n"
     ]
    },
    {
     "name": "stdout",
     "output_type": "stream",
     "text": [
      "Tuning results - Lambda: 0.006294176 Alpha: 0.5 \n",
      "Running methylation site #58805 at position 1987648"
     ]
    },
    {
     "name": "stderr",
     "output_type": "stream",
     "text": [
      "Parallelization within cv.glmnet using all available cores (32).\n",
      "\n",
      "Parallelizing within cv.glmnet\n",
      "\n"
     ]
    },
    {
     "name": "stdout",
     "output_type": "stream",
     "text": [
      "Tuning results - Lambda: 0.004843293 Alpha: 0.5 \n"
     ]
    },
    {
     "name": "stderr",
     "output_type": "stream",
     "text": [
      "Parallelization within cv.glmnet using all available cores (32).\n",
      "\n",
      "Parallelizing within cv.glmnet\n",
      "\n"
     ]
    },
    {
     "name": "stdout",
     "output_type": "stream",
     "text": [
      "Tuning results - Lambda: 0.006837628 Alpha: 0.5 \n"
     ]
    },
    {
     "name": "stderr",
     "output_type": "stream",
     "text": [
      "Parallelization within cv.glmnet using all available cores (32).\n",
      "\n",
      "Parallelizing within cv.glmnet\n",
      "\n"
     ]
    },
    {
     "name": "stdout",
     "output_type": "stream",
     "text": [
      "Tuning results - Lambda: 0.005342941 Alpha: 0.5 \n"
     ]
    },
    {
     "name": "stderr",
     "output_type": "stream",
     "text": [
      "Parallelization within cv.glmnet using all available cores (32).\n",
      "\n",
      "Parallelizing within cv.glmnet\n",
      "\n"
     ]
    },
    {
     "name": "stdout",
     "output_type": "stream",
     "text": [
      "Tuning results - Lambda: 0.005553649 Alpha: 0.5 \n"
     ]
    },
    {
     "name": "stderr",
     "output_type": "stream",
     "text": [
      "Parallelization within cv.glmnet using all available cores (32).\n",
      "\n",
      "Parallelizing within cv.glmnet\n",
      "\n"
     ]
    },
    {
     "name": "stdout",
     "output_type": "stream",
     "text": [
      "Tuning results - Lambda: 0.007573649 Alpha: 0.5 \n"
     ]
    },
    {
     "name": "stderr",
     "output_type": "stream",
     "text": [
      "Parallelization within cv.glmnet using all available cores (32).\n",
      "\n",
      "Parallelizing within cv.glmnet\n",
      "\n"
     ]
    },
    {
     "name": "stdout",
     "output_type": "stream",
     "text": [
      "Tuning results - Lambda: 0.006339062 Alpha: 0.5 \n",
      "Running methylation site #58806 at position 1987656"
     ]
    },
    {
     "name": "stderr",
     "output_type": "stream",
     "text": [
      "Parallelization within cv.glmnet using all available cores (32).\n",
      "\n",
      "Parallelizing within cv.glmnet\n",
      "\n"
     ]
    },
    {
     "name": "stdout",
     "output_type": "stream",
     "text": [
      "Tuning results - Lambda: 0.007037423 Alpha: 0.5 \n"
     ]
    },
    {
     "name": "stderr",
     "output_type": "stream",
     "text": [
      "Parallelization within cv.glmnet using all available cores (32).\n",
      "\n",
      "Parallelizing within cv.glmnet\n",
      "\n"
     ]
    },
    {
     "name": "stdout",
     "output_type": "stream",
     "text": [
      "Tuning results - Lambda: 0.005301526 Alpha: 0.5 \n"
     ]
    },
    {
     "name": "stderr",
     "output_type": "stream",
     "text": [
      "Parallelization within cv.glmnet using all available cores (32).\n",
      "\n",
      "Parallelizing within cv.glmnet\n",
      "\n"
     ]
    },
    {
     "name": "stdout",
     "output_type": "stream",
     "text": [
      "Tuning results - Lambda: 0.005084624 Alpha: 0.5 \n"
     ]
    },
    {
     "name": "stderr",
     "output_type": "stream",
     "text": [
      "Parallelization within cv.glmnet using all available cores (32).\n",
      "\n",
      "Parallelizing within cv.glmnet\n",
      "\n"
     ]
    },
    {
     "name": "stdout",
     "output_type": "stream",
     "text": [
      "Tuning results - Lambda: 0.007305694 Alpha: 0.5 \n"
     ]
    },
    {
     "name": "stderr",
     "output_type": "stream",
     "text": [
      "Parallelization within cv.glmnet using all available cores (32).\n",
      "\n",
      "Parallelizing within cv.glmnet\n",
      "\n"
     ]
    },
    {
     "name": "stdout",
     "output_type": "stream",
     "text": [
      "Tuning results - Lambda: 0.005195782 Alpha: 0.5 \n"
     ]
    },
    {
     "name": "stderr",
     "output_type": "stream",
     "text": [
      "Parallelization within cv.glmnet using all available cores (32).\n",
      "\n",
      "Parallelizing within cv.glmnet\n",
      "\n"
     ]
    },
    {
     "name": "stdout",
     "output_type": "stream",
     "text": [
      "Tuning results - Lambda: 0.005998723 Alpha: 0.5 \n",
      "Running methylation site #58807 at position 1987659"
     ]
    },
    {
     "name": "stderr",
     "output_type": "stream",
     "text": [
      "Parallelization within cv.glmnet using all available cores (32).\n",
      "\n",
      "Parallelizing within cv.glmnet\n",
      "\n"
     ]
    },
    {
     "name": "stdout",
     "output_type": "stream",
     "text": [
      "Tuning results - Lambda: 0.005325553 Alpha: 0.5 \n"
     ]
    },
    {
     "name": "stderr",
     "output_type": "stream",
     "text": [
      "Parallelization within cv.glmnet using all available cores (32).\n",
      "\n",
      "Parallelizing within cv.glmnet\n",
      "\n"
     ]
    },
    {
     "name": "stdout",
     "output_type": "stream",
     "text": [
      "Tuning results - Lambda: 0.005898419 Alpha: 0.5 \n"
     ]
    },
    {
     "name": "stderr",
     "output_type": "stream",
     "text": [
      "Parallelization within cv.glmnet using all available cores (32).\n",
      "\n",
      "Parallelizing within cv.glmnet\n",
      "\n"
     ]
    },
    {
     "name": "stdout",
     "output_type": "stream",
     "text": [
      "Tuning results - Lambda: 0.005687024 Alpha: 0.5 \n"
     ]
    },
    {
     "name": "stderr",
     "output_type": "stream",
     "text": [
      "Parallelization within cv.glmnet using all available cores (32).\n",
      "\n",
      "Parallelizing within cv.glmnet\n",
      "\n"
     ]
    },
    {
     "name": "stdout",
     "output_type": "stream",
     "text": [
      "Tuning results - Lambda: 0.005817117 Alpha: 0.5 \n"
     ]
    },
    {
     "name": "stderr",
     "output_type": "stream",
     "text": [
      "Parallelization within cv.glmnet using all available cores (32).\n",
      "\n",
      "Parallelizing within cv.glmnet\n",
      "\n"
     ]
    },
    {
     "name": "stdout",
     "output_type": "stream",
     "text": [
      "Tuning results - Lambda: 0.006943767 Alpha: 0.5 \n"
     ]
    },
    {
     "name": "stderr",
     "output_type": "stream",
     "text": [
      "Parallelization within cv.glmnet using all available cores (32).\n",
      "\n",
      "Parallelizing within cv.glmnet\n",
      "\n"
     ]
    },
    {
     "name": "stdout",
     "output_type": "stream",
     "text": [
      "Tuning results - Lambda: 0.005473866 Alpha: 0.5 \n",
      "Running methylation site #58808 at position 1987665"
     ]
    },
    {
     "name": "stderr",
     "output_type": "stream",
     "text": [
      "Parallelization within cv.glmnet using all available cores (32).\n",
      "\n",
      "Parallelizing within cv.glmnet\n",
      "\n"
     ]
    },
    {
     "name": "stdout",
     "output_type": "stream",
     "text": [
      "Tuning results - Lambda: 0.006417497 Alpha: 0.5 \n"
     ]
    },
    {
     "name": "stderr",
     "output_type": "stream",
     "text": [
      "Parallelization within cv.glmnet using all available cores (32).\n",
      "\n",
      "Parallelizing within cv.glmnet\n",
      "\n"
     ]
    },
    {
     "name": "stdout",
     "output_type": "stream",
     "text": [
      "Tuning results - Lambda: 0.008296772 Alpha: 0.5 \n"
     ]
    },
    {
     "name": "stderr",
     "output_type": "stream",
     "text": [
      "Parallelization within cv.glmnet using all available cores (32).\n",
      "\n",
      "Parallelizing within cv.glmnet\n",
      "\n"
     ]
    },
    {
     "name": "stdout",
     "output_type": "stream",
     "text": [
      "Tuning results - Lambda: 0.005849377 Alpha: 0.5 \n"
     ]
    },
    {
     "name": "stderr",
     "output_type": "stream",
     "text": [
      "Parallelization within cv.glmnet using all available cores (32).\n",
      "\n",
      "Parallelizing within cv.glmnet\n",
      "\n"
     ]
    },
    {
     "name": "stdout",
     "output_type": "stream",
     "text": [
      "Tuning results - Lambda: 0.005976271 Alpha: 0.5 \n"
     ]
    },
    {
     "name": "stderr",
     "output_type": "stream",
     "text": [
      "Parallelization within cv.glmnet using all available cores (32).\n",
      "\n",
      "Parallelizing within cv.glmnet\n",
      "\n"
     ]
    },
    {
     "name": "stdout",
     "output_type": "stream",
     "text": [
      "Tuning results - Lambda: 0.007206066 Alpha: 0.5 \n"
     ]
    },
    {
     "name": "stderr",
     "output_type": "stream",
     "text": [
      "Parallelization within cv.glmnet using all available cores (32).\n",
      "\n",
      "Parallelizing within cv.glmnet\n",
      "\n"
     ]
    },
    {
     "name": "stdout",
     "output_type": "stream",
     "text": [
      "Tuning results - Lambda: 0.003961544 Alpha: 0.5 \n",
      "Running methylation site #58809 at position 1987669"
     ]
    },
    {
     "name": "stderr",
     "output_type": "stream",
     "text": [
      "Parallelization within cv.glmnet using all available cores (32).\n",
      "\n",
      "Parallelizing within cv.glmnet\n",
      "\n"
     ]
    },
    {
     "name": "stdout",
     "output_type": "stream",
     "text": [
      "Tuning results - Lambda: 0.005847799 Alpha: 0.5 \n"
     ]
    },
    {
     "name": "stderr",
     "output_type": "stream",
     "text": [
      "Parallelization within cv.glmnet using all available cores (32).\n",
      "\n",
      "Parallelizing within cv.glmnet\n",
      "\n"
     ]
    },
    {
     "name": "stdout",
     "output_type": "stream",
     "text": [
      "Tuning results - Lambda: 0.005531633 Alpha: 0.5 \n"
     ]
    },
    {
     "name": "stderr",
     "output_type": "stream",
     "text": [
      "Parallelization within cv.glmnet using all available cores (32).\n",
      "\n",
      "Parallelizing within cv.glmnet\n",
      "\n"
     ]
    },
    {
     "name": "stdout",
     "output_type": "stream",
     "text": [
      "Tuning results - Lambda: 0.007874356 Alpha: 0.5 \n"
     ]
    },
    {
     "name": "stderr",
     "output_type": "stream",
     "text": [
      "Parallelization within cv.glmnet using all available cores (32).\n",
      "\n",
      "Parallelizing within cv.glmnet\n",
      "\n"
     ]
    },
    {
     "name": "stdout",
     "output_type": "stream",
     "text": [
      "Tuning results - Lambda: 0.004915147 Alpha: 0.5 \n"
     ]
    },
    {
     "name": "stderr",
     "output_type": "stream",
     "text": [
      "Parallelization within cv.glmnet using all available cores (32).\n",
      "\n",
      "Parallelizing within cv.glmnet\n",
      "\n"
     ]
    },
    {
     "name": "stdout",
     "output_type": "stream",
     "text": [
      "Tuning results - Lambda: 0.005886012 Alpha: 0.5 \n"
     ]
    },
    {
     "name": "stderr",
     "output_type": "stream",
     "text": [
      "Parallelization within cv.glmnet using all available cores (32).\n",
      "\n",
      "Parallelizing within cv.glmnet\n",
      "\n"
     ]
    },
    {
     "name": "stdout",
     "output_type": "stream",
     "text": [
      "Tuning results - Lambda: 0.007827616 Alpha: 0.5 \n",
      "Running methylation site #58810 at position 1987680"
     ]
    },
    {
     "name": "stderr",
     "output_type": "stream",
     "text": [
      "Parallelization within cv.glmnet using all available cores (32).\n",
      "\n",
      "Parallelizing within cv.glmnet\n",
      "\n"
     ]
    },
    {
     "name": "stdout",
     "output_type": "stream",
     "text": [
      "Tuning results - Lambda: 0.006413336 Alpha: 0.5 \n"
     ]
    },
    {
     "name": "stderr",
     "output_type": "stream",
     "text": [
      "Parallelization within cv.glmnet using all available cores (32).\n",
      "\n",
      "Parallelizing within cv.glmnet\n",
      "\n"
     ]
    },
    {
     "name": "stdout",
     "output_type": "stream",
     "text": [
      "Tuning results - Lambda: 0.005104275 Alpha: 0.5 \n"
     ]
    },
    {
     "name": "stderr",
     "output_type": "stream",
     "text": [
      "Parallelization within cv.glmnet using all available cores (32).\n",
      "\n",
      "Parallelizing within cv.glmnet\n",
      "\n"
     ]
    },
    {
     "name": "stdout",
     "output_type": "stream",
     "text": [
      "Tuning results - Lambda: 0.00713855 Alpha: 0.5 \n"
     ]
    },
    {
     "name": "stderr",
     "output_type": "stream",
     "text": [
      "Parallelization within cv.glmnet using all available cores (32).\n",
      "\n",
      "Parallelizing within cv.glmnet\n",
      "\n"
     ]
    },
    {
     "name": "stdout",
     "output_type": "stream",
     "text": [
      "Tuning results - Lambda: 0.005215596 Alpha: 0.5 \n"
     ]
    },
    {
     "name": "stderr",
     "output_type": "stream",
     "text": [
      "Parallelization within cv.glmnet using all available cores (32).\n",
      "\n",
      "Parallelizing within cv.glmnet\n",
      "\n"
     ]
    },
    {
     "name": "stdout",
     "output_type": "stream",
     "text": [
      "Tuning results - Lambda: 0.006334071 Alpha: 0.5 \n"
     ]
    },
    {
     "name": "stderr",
     "output_type": "stream",
     "text": [
      "Parallelization within cv.glmnet using all available cores (32).\n",
      "\n",
      "Parallelizing within cv.glmnet\n",
      "\n"
     ]
    },
    {
     "name": "stdout",
     "output_type": "stream",
     "text": [
      "Tuning results - Lambda: 0.006186156 Alpha: 0.5 \n",
      "Running methylation site #58811 at position 1987684"
     ]
    },
    {
     "name": "stderr",
     "output_type": "stream",
     "text": [
      "Parallelization within cv.glmnet using all available cores (32).\n",
      "\n",
      "Parallelizing within cv.glmnet\n",
      "\n"
     ]
    },
    {
     "name": "stdout",
     "output_type": "stream",
     "text": [
      "Tuning results - Lambda: 0.007720334 Alpha: 0.5 \n"
     ]
    },
    {
     "name": "stderr",
     "output_type": "stream",
     "text": [
      "Parallelization within cv.glmnet using all available cores (32).\n",
      "\n",
      "Parallelizing within cv.glmnet\n",
      "\n"
     ]
    },
    {
     "name": "stdout",
     "output_type": "stream",
     "text": [
      "Tuning results - Lambda: 0.007792994 Alpha: 0.5 \n"
     ]
    },
    {
     "name": "stderr",
     "output_type": "stream",
     "text": [
      "Parallelization within cv.glmnet using all available cores (32).\n",
      "\n",
      "Parallelizing within cv.glmnet\n",
      "\n"
     ]
    },
    {
     "name": "stdout",
     "output_type": "stream",
     "text": [
      "Tuning results - Lambda: 0.004417991 Alpha: 0.5 \n"
     ]
    },
    {
     "name": "stderr",
     "output_type": "stream",
     "text": [
      "Parallelization within cv.glmnet using all available cores (32).\n",
      "\n",
      "Parallelizing within cv.glmnet\n",
      "\n"
     ]
    },
    {
     "name": "stdout",
     "output_type": "stream",
     "text": [
      "Tuning results - Lambda: 0.005097066 Alpha: 0.5 \n"
     ]
    },
    {
     "name": "stderr",
     "output_type": "stream",
     "text": [
      "Parallelization within cv.glmnet using all available cores (32).\n",
      "\n",
      "Parallelizing within cv.glmnet\n",
      "\n"
     ]
    },
    {
     "name": "stdout",
     "output_type": "stream",
     "text": [
      "Tuning results - Lambda: 0.006233305 Alpha: 0.5 \n"
     ]
    },
    {
     "name": "stderr",
     "output_type": "stream",
     "text": [
      "Parallelization within cv.glmnet using all available cores (32).\n",
      "\n",
      "Parallelizing within cv.glmnet\n",
      "\n"
     ]
    },
    {
     "name": "stdout",
     "output_type": "stream",
     "text": [
      "Tuning results - Lambda: 0.005596408 Alpha: 0.5 \n",
      "Running methylation site #58812 at position 1987688"
     ]
    },
    {
     "name": "stderr",
     "output_type": "stream",
     "text": [
      "Parallelization within cv.glmnet using all available cores (32).\n",
      "\n",
      "Parallelizing within cv.glmnet\n",
      "\n"
     ]
    },
    {
     "name": "stdout",
     "output_type": "stream",
     "text": [
      "Tuning results - Lambda: 0.006404675 Alpha: 0.5 \n"
     ]
    },
    {
     "name": "stderr",
     "output_type": "stream",
     "text": [
      "Parallelization within cv.glmnet using all available cores (32).\n",
      "\n",
      "Parallelizing within cv.glmnet\n",
      "\n"
     ]
    },
    {
     "name": "stdout",
     "output_type": "stream",
     "text": [
      "Tuning results - Lambda: 0.004146472 Alpha: 0.5 \n"
     ]
    },
    {
     "name": "stderr",
     "output_type": "stream",
     "text": [
      "Parallelization within cv.glmnet using all available cores (32).\n",
      "\n",
      "Parallelizing within cv.glmnet\n",
      "\n"
     ]
    },
    {
     "name": "stdout",
     "output_type": "stream",
     "text": [
      "Tuning results - Lambda: 0.006952877 Alpha: 0.5 \n"
     ]
    },
    {
     "name": "stderr",
     "output_type": "stream",
     "text": [
      "Parallelization within cv.glmnet using all available cores (32).\n",
      "\n",
      "Parallelizing within cv.glmnet\n",
      "\n"
     ]
    },
    {
     "name": "stdout",
     "output_type": "stream",
     "text": [
      "Tuning results - Lambda: 0.006504499 Alpha: 0.5 \n"
     ]
    },
    {
     "name": "stderr",
     "output_type": "stream",
     "text": [
      "Parallelization within cv.glmnet using all available cores (32).\n",
      "\n",
      "Parallelizing within cv.glmnet\n",
      "\n"
     ]
    },
    {
     "name": "stdout",
     "output_type": "stream",
     "text": [
      "Tuning results - Lambda: 0.006455908 Alpha: 0.5 \n"
     ]
    },
    {
     "name": "stderr",
     "output_type": "stream",
     "text": [
      "Parallelization within cv.glmnet using all available cores (32).\n",
      "\n",
      "Parallelizing within cv.glmnet\n",
      "\n"
     ]
    },
    {
     "name": "stdout",
     "output_type": "stream",
     "text": [
      "Tuning results - Lambda: 0.006120298 Alpha: 0.5 \n",
      "Running methylation site #58813 at position 1987697"
     ]
    },
    {
     "name": "stderr",
     "output_type": "stream",
     "text": [
      "Parallelization within cv.glmnet using all available cores (32).\n",
      "\n",
      "Parallelizing within cv.glmnet\n",
      "\n"
     ]
    },
    {
     "name": "stdout",
     "output_type": "stream",
     "text": [
      "Tuning results - Lambda: 0.007696435 Alpha: 0.5 \n"
     ]
    },
    {
     "name": "stderr",
     "output_type": "stream",
     "text": [
      "Parallelization within cv.glmnet using all available cores (32).\n",
      "\n",
      "Parallelizing within cv.glmnet\n",
      "\n"
     ]
    },
    {
     "name": "stdout",
     "output_type": "stream",
     "text": [
      "Tuning results - Lambda: 0.004780831 Alpha: 0.5 \n"
     ]
    },
    {
     "name": "stderr",
     "output_type": "stream",
     "text": [
      "Parallelization within cv.glmnet using all available cores (32).\n",
      "\n",
      "Parallelizing within cv.glmnet\n",
      "\n"
     ]
    },
    {
     "name": "stdout",
     "output_type": "stream",
     "text": [
      "Tuning results - Lambda: 0.004346103 Alpha: 0.5 \n"
     ]
    },
    {
     "name": "stderr",
     "output_type": "stream",
     "text": [
      "Parallelization within cv.glmnet using all available cores (32).\n",
      "\n",
      "Parallelizing within cv.glmnet\n",
      "\n"
     ]
    },
    {
     "name": "stdout",
     "output_type": "stream",
     "text": [
      "Tuning results - Lambda: 0.006862287 Alpha: 0.5 \n"
     ]
    },
    {
     "name": "stderr",
     "output_type": "stream",
     "text": [
      "Parallelization within cv.glmnet using all available cores (32).\n",
      "\n",
      "Parallelizing within cv.glmnet\n",
      "\n"
     ]
    },
    {
     "name": "stdout",
     "output_type": "stream",
     "text": [
      "Tuning results - Lambda: 0.005326246 Alpha: 0.5 \n"
     ]
    },
    {
     "name": "stderr",
     "output_type": "stream",
     "text": [
      "Parallelization within cv.glmnet using all available cores (32).\n",
      "\n",
      "Parallelizing within cv.glmnet\n",
      "\n"
     ]
    },
    {
     "name": "stdout",
     "output_type": "stream",
     "text": [
      "Tuning results - Lambda: 0.006072659 Alpha: 0.5 \n",
      "Running methylation site #58814 at position 1987705"
     ]
    },
    {
     "name": "stderr",
     "output_type": "stream",
     "text": [
      "Parallelization within cv.glmnet using all available cores (32).\n",
      "\n",
      "Parallelizing within cv.glmnet\n",
      "\n"
     ]
    },
    {
     "name": "stdout",
     "output_type": "stream",
     "text": [
      "Tuning results - Lambda: 0.006371887 Alpha: 0.5 \n"
     ]
    },
    {
     "name": "stderr",
     "output_type": "stream",
     "text": [
      "Parallelization within cv.glmnet using all available cores (32).\n",
      "\n",
      "Parallelizing within cv.glmnet\n",
      "\n"
     ]
    },
    {
     "name": "stdout",
     "output_type": "stream",
     "text": [
      "Tuning results - Lambda: 0.005595103 Alpha: 0.5 \n"
     ]
    },
    {
     "name": "stderr",
     "output_type": "stream",
     "text": [
      "Parallelization within cv.glmnet using all available cores (32).\n",
      "\n",
      "Parallelizing within cv.glmnet\n",
      "\n"
     ]
    },
    {
     "name": "stdout",
     "output_type": "stream",
     "text": [
      "Tuning results - Lambda: 0.006780589 Alpha: 0.5 \n"
     ]
    },
    {
     "name": "stderr",
     "output_type": "stream",
     "text": [
      "Parallelization within cv.glmnet using all available cores (32).\n",
      "\n",
      "Parallelizing within cv.glmnet\n",
      "\n"
     ]
    },
    {
     "name": "stdout",
     "output_type": "stream",
     "text": [
      "Tuning results - Lambda: 0.006321939 Alpha: 0.5 \n"
     ]
    },
    {
     "name": "stderr",
     "output_type": "stream",
     "text": [
      "Parallelization within cv.glmnet using all available cores (32).\n",
      "\n",
      "Parallelizing within cv.glmnet\n",
      "\n"
     ]
    },
    {
     "name": "stdout",
     "output_type": "stream",
     "text": [
      "Tuning results - Lambda: 0.005277824 Alpha: 0.5 \n"
     ]
    },
    {
     "name": "stderr",
     "output_type": "stream",
     "text": [
      "Parallelization within cv.glmnet using all available cores (32).\n",
      "\n",
      "Parallelizing within cv.glmnet\n",
      "\n"
     ]
    },
    {
     "name": "stdout",
     "output_type": "stream",
     "text": [
      "Tuning results - Lambda: 0.007560272 Alpha: 0.5 \n",
      "Running methylation site #58815 at position 1987725"
     ]
    },
    {
     "name": "stderr",
     "output_type": "stream",
     "text": [
      "Parallelization within cv.glmnet using all available cores (32).\n",
      "\n",
      "Parallelizing within cv.glmnet\n",
      "\n"
     ]
    },
    {
     "name": "stdout",
     "output_type": "stream",
     "text": [
      "Tuning results - Lambda: 0.006924451 Alpha: 0.5 \n"
     ]
    },
    {
     "name": "stderr",
     "output_type": "stream",
     "text": [
      "Parallelization within cv.glmnet using all available cores (32).\n",
      "\n",
      "Parallelizing within cv.glmnet\n",
      "\n"
     ]
    },
    {
     "name": "stdout",
     "output_type": "stream",
     "text": [
      "Tuning results - Lambda: 0.009287482 Alpha: 0.5 \n"
     ]
    },
    {
     "name": "stderr",
     "output_type": "stream",
     "text": [
      "Parallelization within cv.glmnet using all available cores (32).\n",
      "\n",
      "Parallelizing within cv.glmnet\n",
      "\n"
     ]
    },
    {
     "name": "stdout",
     "output_type": "stream",
     "text": [
      "Tuning results - Lambda: 0.00785307 Alpha: 0.5 \n"
     ]
    },
    {
     "name": "stderr",
     "output_type": "stream",
     "text": [
      "Parallelization within cv.glmnet using all available cores (32).\n",
      "\n",
      "Parallelizing within cv.glmnet\n",
      "\n"
     ]
    },
    {
     "name": "stdout",
     "output_type": "stream",
     "text": [
      "Tuning results - Lambda: 0.008571447 Alpha: 0.5 \n"
     ]
    },
    {
     "name": "stderr",
     "output_type": "stream",
     "text": [
      "Parallelization within cv.glmnet using all available cores (32).\n",
      "\n",
      "Parallelizing within cv.glmnet\n",
      "\n"
     ]
    },
    {
     "name": "stdout",
     "output_type": "stream",
     "text": [
      "Tuning results - Lambda: 0.006392565 Alpha: 0.5 \n"
     ]
    },
    {
     "name": "stderr",
     "output_type": "stream",
     "text": [
      "Parallelization within cv.glmnet using all available cores (32).\n",
      "\n",
      "Parallelizing within cv.glmnet\n",
      "\n"
     ]
    },
    {
     "name": "stdout",
     "output_type": "stream",
     "text": [
      "Tuning results - Lambda: 0.00582628 Alpha: 0.5 \n",
      "Running methylation site #58816 at position 1987732"
     ]
    },
    {
     "name": "stderr",
     "output_type": "stream",
     "text": [
      "Parallelization within cv.glmnet using all available cores (32).\n",
      "\n",
      "Parallelizing within cv.glmnet\n",
      "\n"
     ]
    },
    {
     "name": "stdout",
     "output_type": "stream",
     "text": [
      "Tuning results - Lambda: 0.006893974 Alpha: 0.5 \n"
     ]
    },
    {
     "name": "stderr",
     "output_type": "stream",
     "text": [
      "Parallelization within cv.glmnet using all available cores (32).\n",
      "\n",
      "Parallelizing within cv.glmnet\n",
      "\n"
     ]
    },
    {
     "name": "stdout",
     "output_type": "stream",
     "text": [
      "Tuning results - Lambda: 0.005228808 Alpha: 0.5 \n"
     ]
    },
    {
     "name": "stderr",
     "output_type": "stream",
     "text": [
      "Parallelization within cv.glmnet using all available cores (32).\n",
      "\n",
      "Parallelizing within cv.glmnet\n",
      "\n"
     ]
    },
    {
     "name": "stdout",
     "output_type": "stream",
     "text": [
      "Tuning results - Lambda: 0.007621254 Alpha: 0.5 \n"
     ]
    },
    {
     "name": "stderr",
     "output_type": "stream",
     "text": [
      "Parallelization within cv.glmnet using all available cores (32).\n",
      "\n",
      "Parallelizing within cv.glmnet\n",
      "\n"
     ]
    },
    {
     "name": "stdout",
     "output_type": "stream",
     "text": [
      "Tuning results - Lambda: 0.005984995 Alpha: 0.5 \n"
     ]
    },
    {
     "name": "stderr",
     "output_type": "stream",
     "text": [
      "Parallelization within cv.glmnet using all available cores (32).\n",
      "\n",
      "Parallelizing within cv.glmnet\n",
      "\n"
     ]
    },
    {
     "name": "stdout",
     "output_type": "stream",
     "text": [
      "Tuning results - Lambda: 0.006381628 Alpha: 0.5 \n"
     ]
    },
    {
     "name": "stderr",
     "output_type": "stream",
     "text": [
      "Parallelization within cv.glmnet using all available cores (32).\n",
      "\n",
      "Parallelizing within cv.glmnet\n",
      "\n"
     ]
    },
    {
     "name": "stdout",
     "output_type": "stream",
     "text": [
      "Tuning results - Lambda: 0.005845816 Alpha: 0.5 \n",
      "Running methylation site #58817 at position 1987778"
     ]
    },
    {
     "name": "stderr",
     "output_type": "stream",
     "text": [
      "Parallelization within cv.glmnet using all available cores (32).\n",
      "\n",
      "Parallelizing within cv.glmnet\n",
      "\n"
     ]
    },
    {
     "name": "stdout",
     "output_type": "stream",
     "text": [
      "Tuning results - Lambda: 0.005005763 Alpha: 0.5 \n"
     ]
    },
    {
     "name": "stderr",
     "output_type": "stream",
     "text": [
      "Parallelization within cv.glmnet using all available cores (32).\n",
      "\n",
      "Parallelizing within cv.glmnet\n",
      "\n"
     ]
    },
    {
     "name": "stdout",
     "output_type": "stream",
     "text": [
      "Tuning results - Lambda: 0.008257257 Alpha: 0.5 \n"
     ]
    },
    {
     "name": "stderr",
     "output_type": "stream",
     "text": [
      "Parallelization within cv.glmnet using all available cores (32).\n",
      "\n",
      "Parallelizing within cv.glmnet\n",
      "\n"
     ]
    },
    {
     "name": "stdout",
     "output_type": "stream",
     "text": [
      "Tuning results - Lambda: 0.008218744 Alpha: 0.5 \n"
     ]
    },
    {
     "name": "stderr",
     "output_type": "stream",
     "text": [
      "Parallelization within cv.glmnet using all available cores (32).\n",
      "\n",
      "Parallelizing within cv.glmnet\n",
      "\n"
     ]
    },
    {
     "name": "stdout",
     "output_type": "stream",
     "text": [
      "Tuning results - Lambda: 0.006646472 Alpha: 0.5 \n"
     ]
    },
    {
     "name": "stderr",
     "output_type": "stream",
     "text": [
      "Parallelization within cv.glmnet using all available cores (32).\n",
      "\n",
      "Parallelizing within cv.glmnet\n",
      "\n"
     ]
    },
    {
     "name": "stdout",
     "output_type": "stream",
     "text": [
      "Tuning results - Lambda: 0.006516522 Alpha: 0.5 \n"
     ]
    },
    {
     "name": "stderr",
     "output_type": "stream",
     "text": [
      "Parallelization within cv.glmnet using all available cores (32).\n",
      "\n",
      "Parallelizing within cv.glmnet\n",
      "\n"
     ]
    },
    {
     "name": "stdout",
     "output_type": "stream",
     "text": [
      "Tuning results - Lambda: 0.006238782 Alpha: 0.5 \n",
      "Running methylation site #58818 at position 1987797"
     ]
    },
    {
     "name": "stderr",
     "output_type": "stream",
     "text": [
      "Parallelization within cv.glmnet using all available cores (32).\n",
      "\n",
      "Parallelizing within cv.glmnet\n",
      "\n"
     ]
    },
    {
     "name": "stdout",
     "output_type": "stream",
     "text": [
      "Tuning results - Lambda: 0.006468265 Alpha: 0.5 \n"
     ]
    },
    {
     "name": "stderr",
     "output_type": "stream",
     "text": [
      "Parallelization within cv.glmnet using all available cores (32).\n",
      "\n",
      "Parallelizing within cv.glmnet\n",
      "\n"
     ]
    },
    {
     "name": "stdout",
     "output_type": "stream",
     "text": [
      "Tuning results - Lambda: 0.007269343 Alpha: 0.5 \n"
     ]
    },
    {
     "name": "stderr",
     "output_type": "stream",
     "text": [
      "Parallelization within cv.glmnet using all available cores (32).\n",
      "\n",
      "Parallelizing within cv.glmnet\n",
      "\n"
     ]
    },
    {
     "name": "stdout",
     "output_type": "stream",
     "text": [
      "Tuning results - Lambda: 0.006202496 Alpha: 0.5 \n"
     ]
    },
    {
     "name": "stderr",
     "output_type": "stream",
     "text": [
      "Parallelization within cv.glmnet using all available cores (32).\n",
      "\n",
      "Parallelizing within cv.glmnet\n",
      "\n"
     ]
    },
    {
     "name": "stdout",
     "output_type": "stream",
     "text": [
      "Tuning results - Lambda: 0.007545019 Alpha: 0.5 \n"
     ]
    },
    {
     "name": "stderr",
     "output_type": "stream",
     "text": [
      "Parallelization within cv.glmnet using all available cores (32).\n",
      "\n",
      "Parallelizing within cv.glmnet\n",
      "\n"
     ]
    },
    {
     "name": "stdout",
     "output_type": "stream",
     "text": [
      "Tuning results - Lambda: 0.006486686 Alpha: 0.5 \n"
     ]
    },
    {
     "name": "stderr",
     "output_type": "stream",
     "text": [
      "Parallelization within cv.glmnet using all available cores (32).\n",
      "\n",
      "Parallelizing within cv.glmnet\n",
      "\n"
     ]
    },
    {
     "name": "stdout",
     "output_type": "stream",
     "text": [
      "Tuning results - Lambda: 0.006379578 Alpha: 0.5 \n",
      "Running methylation site #58819 at position 1987808"
     ]
    },
    {
     "name": "stderr",
     "output_type": "stream",
     "text": [
      "Parallelization within cv.glmnet using all available cores (32).\n",
      "\n",
      "Parallelizing within cv.glmnet\n",
      "\n"
     ]
    },
    {
     "name": "stdout",
     "output_type": "stream",
     "text": [
      "Tuning results - Lambda: 0.006995417 Alpha: 0.5 \n"
     ]
    },
    {
     "name": "stderr",
     "output_type": "stream",
     "text": [
      "Parallelization within cv.glmnet using all available cores (32).\n",
      "\n",
      "Parallelizing within cv.glmnet\n",
      "\n"
     ]
    },
    {
     "name": "stdout",
     "output_type": "stream",
     "text": [
      "Tuning results - Lambda: 0.007551523 Alpha: 0.5 \n"
     ]
    },
    {
     "name": "stderr",
     "output_type": "stream",
     "text": [
      "Parallelization within cv.glmnet using all available cores (32).\n",
      "\n",
      "Parallelizing within cv.glmnet\n",
      "\n"
     ]
    },
    {
     "name": "stdout",
     "output_type": "stream",
     "text": [
      "Tuning results - Lambda: 0.00600614 Alpha: 0.5 \n"
     ]
    },
    {
     "name": "stderr",
     "output_type": "stream",
     "text": [
      "Parallelization within cv.glmnet using all available cores (32).\n",
      "\n",
      "Parallelizing within cv.glmnet\n",
      "\n"
     ]
    },
    {
     "name": "stdout",
     "output_type": "stream",
     "text": [
      "Tuning results - Lambda: 0.00570052 Alpha: 0.5 \n"
     ]
    },
    {
     "name": "stderr",
     "output_type": "stream",
     "text": [
      "Parallelization within cv.glmnet using all available cores (32).\n",
      "\n",
      "Parallelizing within cv.glmnet\n",
      "\n"
     ]
    },
    {
     "name": "stdout",
     "output_type": "stream",
     "text": [
      "Tuning results - Lambda: 0.006859906 Alpha: 0.5 \n"
     ]
    },
    {
     "name": "stderr",
     "output_type": "stream",
     "text": [
      "Parallelization within cv.glmnet using all available cores (32).\n",
      "\n",
      "Parallelizing within cv.glmnet\n",
      "\n"
     ]
    },
    {
     "name": "stdout",
     "output_type": "stream",
     "text": [
      "Tuning results - Lambda: 0.00593513 Alpha: 0.5 \n",
      "Running methylation site #58820 at position 1987853"
     ]
    },
    {
     "name": "stderr",
     "output_type": "stream",
     "text": [
      "Parallelization within cv.glmnet using all available cores (32).\n",
      "\n",
      "Parallelizing within cv.glmnet\n",
      "\n"
     ]
    },
    {
     "name": "stdout",
     "output_type": "stream",
     "text": [
      "Tuning results - Lambda: 0.007149463 Alpha: 0.5 \n"
     ]
    },
    {
     "name": "stderr",
     "output_type": "stream",
     "text": [
      "Parallelization within cv.glmnet using all available cores (32).\n",
      "\n",
      "Parallelizing within cv.glmnet\n",
      "\n"
     ]
    },
    {
     "name": "stdout",
     "output_type": "stream",
     "text": [
      "Tuning results - Lambda: 0.007338617 Alpha: 0.5 \n"
     ]
    },
    {
     "name": "stderr",
     "output_type": "stream",
     "text": [
      "Parallelization within cv.glmnet using all available cores (32).\n",
      "\n",
      "Parallelizing within cv.glmnet\n",
      "\n"
     ]
    },
    {
     "name": "stdout",
     "output_type": "stream",
     "text": [
      "Tuning results - Lambda: 0.00729237 Alpha: 0.5 \n"
     ]
    },
    {
     "name": "stderr",
     "output_type": "stream",
     "text": [
      "Parallelization within cv.glmnet using all available cores (32).\n",
      "\n",
      "Parallelizing within cv.glmnet\n",
      "\n"
     ]
    },
    {
     "name": "stdout",
     "output_type": "stream",
     "text": [
      "Tuning results - Lambda: 0.007540751 Alpha: 0.5 \n"
     ]
    },
    {
     "name": "stderr",
     "output_type": "stream",
     "text": [
      "Parallelization within cv.glmnet using all available cores (32).\n",
      "\n",
      "Parallelizing within cv.glmnet\n",
      "\n"
     ]
    },
    {
     "name": "stdout",
     "output_type": "stream",
     "text": [
      "Tuning results - Lambda: 0.008814046 Alpha: 0.5 \n"
     ]
    },
    {
     "name": "stderr",
     "output_type": "stream",
     "text": [
      "Parallelization within cv.glmnet using all available cores (32).\n",
      "\n",
      "Parallelizing within cv.glmnet\n",
      "\n"
     ]
    },
    {
     "name": "stdout",
     "output_type": "stream",
     "text": [
      "Tuning results - Lambda: 0.005785084 Alpha: 0.5 \n",
      "Running methylation site #58821 at position 1987858"
     ]
    },
    {
     "name": "stderr",
     "output_type": "stream",
     "text": [
      "Parallelization within cv.glmnet using all available cores (32).\n",
      "\n",
      "Parallelizing within cv.glmnet\n",
      "\n"
     ]
    },
    {
     "name": "stdout",
     "output_type": "stream",
     "text": [
      "Tuning results - Lambda: 0.006455933 Alpha: 0.5 \n"
     ]
    },
    {
     "name": "stderr",
     "output_type": "stream",
     "text": [
      "Parallelization within cv.glmnet using all available cores (32).\n",
      "\n",
      "Parallelizing within cv.glmnet\n",
      "\n"
     ]
    },
    {
     "name": "stdout",
     "output_type": "stream",
     "text": [
      "Tuning results - Lambda: 0.009874163 Alpha: 0.5 \n"
     ]
    },
    {
     "name": "stderr",
     "output_type": "stream",
     "text": [
      "Parallelization within cv.glmnet using all available cores (32).\n",
      "\n",
      "Parallelizing within cv.glmnet\n",
      "\n"
     ]
    },
    {
     "name": "stdout",
     "output_type": "stream",
     "text": [
      "Tuning results - Lambda: 0.005703954 Alpha: 0.5 \n"
     ]
    },
    {
     "name": "stderr",
     "output_type": "stream",
     "text": [
      "Parallelization within cv.glmnet using all available cores (32).\n",
      "\n",
      "Parallelizing within cv.glmnet\n",
      "\n"
     ]
    },
    {
     "name": "stdout",
     "output_type": "stream",
     "text": [
      "Tuning results - Lambda: 0.006837987 Alpha: 0.5 \n"
     ]
    },
    {
     "name": "stderr",
     "output_type": "stream",
     "text": [
      "Parallelization within cv.glmnet using all available cores (32).\n",
      "\n",
      "Parallelizing within cv.glmnet\n",
      "\n"
     ]
    },
    {
     "name": "stdout",
     "output_type": "stream",
     "text": [
      "Tuning results - Lambda: 0.007303547 Alpha: 0.5 \n"
     ]
    },
    {
     "name": "stderr",
     "output_type": "stream",
     "text": [
      "Parallelization within cv.glmnet using all available cores (32).\n",
      "\n",
      "Parallelizing within cv.glmnet\n",
      "\n"
     ]
    },
    {
     "name": "stdout",
     "output_type": "stream",
     "text": [
      "Tuning results - Lambda: 0.009435163 Alpha: 0.5 \n",
      "Running methylation site #58822 at position 1987861"
     ]
    },
    {
     "name": "stderr",
     "output_type": "stream",
     "text": [
      "Parallelization within cv.glmnet using all available cores (32).\n",
      "\n",
      "Parallelizing within cv.glmnet\n",
      "\n"
     ]
    },
    {
     "name": "stdout",
     "output_type": "stream",
     "text": [
      "Tuning results - Lambda: 0.007046497 Alpha: 0.5 \n"
     ]
    },
    {
     "name": "stderr",
     "output_type": "stream",
     "text": [
      "Parallelization within cv.glmnet using all available cores (32).\n",
      "\n",
      "Parallelizing within cv.glmnet\n",
      "\n"
     ]
    },
    {
     "name": "stdout",
     "output_type": "stream",
     "text": [
      "Tuning results - Lambda: 0.00522761 Alpha: 0.5 \n"
     ]
    },
    {
     "name": "stderr",
     "output_type": "stream",
     "text": [
      "Parallelization within cv.glmnet using all available cores (32).\n",
      "\n",
      "Parallelizing within cv.glmnet\n",
      "\n"
     ]
    },
    {
     "name": "stdout",
     "output_type": "stream",
     "text": [
      "Tuning results - Lambda: 0.006384486 Alpha: 0.5 \n"
     ]
    },
    {
     "name": "stderr",
     "output_type": "stream",
     "text": [
      "Parallelization within cv.glmnet using all available cores (32).\n",
      "\n",
      "Parallelizing within cv.glmnet\n",
      "\n"
     ]
    },
    {
     "name": "stdout",
     "output_type": "stream",
     "text": [
      "Tuning results - Lambda: 0.009527125 Alpha: 0.5 \n"
     ]
    },
    {
     "name": "stderr",
     "output_type": "stream",
     "text": [
      "Parallelization within cv.glmnet using all available cores (32).\n",
      "\n",
      "Parallelizing within cv.glmnet\n",
      "\n"
     ]
    },
    {
     "name": "stdout",
     "output_type": "stream",
     "text": [
      "Tuning results - Lambda: 0.007456014 Alpha: 0.5 \n"
     ]
    },
    {
     "name": "stderr",
     "output_type": "stream",
     "text": [
      "Parallelization within cv.glmnet using all available cores (32).\n",
      "\n",
      "Parallelizing within cv.glmnet\n",
      "\n"
     ]
    },
    {
     "name": "stdout",
     "output_type": "stream",
     "text": [
      "Tuning results - Lambda: 0.006243946 Alpha: 0.5 \n",
      "Running methylation site #58823 at position 1987896"
     ]
    },
    {
     "name": "stderr",
     "output_type": "stream",
     "text": [
      "Parallelization within cv.glmnet using all available cores (32).\n",
      "\n",
      "Parallelizing within cv.glmnet\n",
      "\n"
     ]
    },
    {
     "name": "stdout",
     "output_type": "stream",
     "text": [
      "Tuning results - Lambda: 0.006613903 Alpha: 0.5 \n"
     ]
    },
    {
     "name": "stderr",
     "output_type": "stream",
     "text": [
      "Parallelization within cv.glmnet using all available cores (32).\n",
      "\n",
      "Parallelizing within cv.glmnet\n",
      "\n"
     ]
    },
    {
     "name": "stdout",
     "output_type": "stream",
     "text": [
      "Tuning results - Lambda: 0.006619647 Alpha: 0.5 \n"
     ]
    },
    {
     "name": "stderr",
     "output_type": "stream",
     "text": [
      "Parallelization within cv.glmnet using all available cores (32).\n",
      "\n",
      "Parallelizing within cv.glmnet\n",
      "\n"
     ]
    },
    {
     "name": "stdout",
     "output_type": "stream",
     "text": [
      "Tuning results - Lambda: 0.009111343 Alpha: 0.5 \n"
     ]
    },
    {
     "name": "stderr",
     "output_type": "stream",
     "text": [
      "Parallelization within cv.glmnet using all available cores (32).\n",
      "\n",
      "Parallelizing within cv.glmnet\n",
      "\n"
     ]
    },
    {
     "name": "stdout",
     "output_type": "stream",
     "text": [
      "Tuning results - Lambda: 0.005190007 Alpha: 0.5 \n"
     ]
    },
    {
     "name": "stderr",
     "output_type": "stream",
     "text": [
      "Parallelization within cv.glmnet using all available cores (32).\n",
      "\n",
      "Parallelizing within cv.glmnet\n",
      "\n"
     ]
    },
    {
     "name": "stdout",
     "output_type": "stream",
     "text": [
      "Tuning results - Lambda: 0.006075314 Alpha: 0.5 \n"
     ]
    },
    {
     "name": "stderr",
     "output_type": "stream",
     "text": [
      "Parallelization within cv.glmnet using all available cores (32).\n",
      "\n",
      "Parallelizing within cv.glmnet\n",
      "\n"
     ]
    },
    {
     "name": "stdout",
     "output_type": "stream",
     "text": [
      "Tuning results - Lambda: 0.007426607 Alpha: 0.5 \n",
      "Running methylation site #58824 at position 1987910"
     ]
    },
    {
     "name": "stderr",
     "output_type": "stream",
     "text": [
      "Parallelization within cv.glmnet using all available cores (32).\n",
      "\n",
      "Parallelizing within cv.glmnet\n",
      "\n"
     ]
    },
    {
     "name": "stdout",
     "output_type": "stream",
     "text": [
      "Tuning results - Lambda: 0.006437993 Alpha: 0.5 \n"
     ]
    },
    {
     "name": "stderr",
     "output_type": "stream",
     "text": [
      "Parallelization within cv.glmnet using all available cores (32).\n",
      "\n",
      "Parallelizing within cv.glmnet\n",
      "\n"
     ]
    },
    {
     "name": "stdout",
     "output_type": "stream",
     "text": [
      "Tuning results - Lambda: 0.006605447 Alpha: 0.5 \n"
     ]
    },
    {
     "name": "stderr",
     "output_type": "stream",
     "text": [
      "Parallelization within cv.glmnet using all available cores (32).\n",
      "\n",
      "Parallelizing within cv.glmnet\n",
      "\n"
     ]
    },
    {
     "name": "stdout",
     "output_type": "stream",
     "text": [
      "Tuning results - Lambda: 0.009015954 Alpha: 0.5 \n"
     ]
    },
    {
     "name": "stderr",
     "output_type": "stream",
     "text": [
      "Parallelization within cv.glmnet using all available cores (32).\n",
      "\n",
      "Parallelizing within cv.glmnet\n",
      "\n"
     ]
    },
    {
     "name": "stdout",
     "output_type": "stream",
     "text": [
      "Tuning results - Lambda: 0.009612154 Alpha: 0.5 \n"
     ]
    },
    {
     "name": "stderr",
     "output_type": "stream",
     "text": [
      "Parallelization within cv.glmnet using all available cores (32).\n",
      "\n",
      "Parallelizing within cv.glmnet\n",
      "\n"
     ]
    },
    {
     "name": "stdout",
     "output_type": "stream",
     "text": [
      "Tuning results - Lambda: 0.01027772 Alpha: 0.5 \n"
     ]
    },
    {
     "name": "stderr",
     "output_type": "stream",
     "text": [
      "Parallelization within cv.glmnet using all available cores (32).\n",
      "\n",
      "Parallelizing within cv.glmnet\n",
      "\n"
     ]
    },
    {
     "name": "stdout",
     "output_type": "stream",
     "text": [
      "Tuning results - Lambda: 0.008286364 Alpha: 0.5 \n",
      "Running methylation site #58825 at position 1987930"
     ]
    },
    {
     "name": "stderr",
     "output_type": "stream",
     "text": [
      "Parallelization within cv.glmnet using all available cores (32).\n",
      "\n",
      "Parallelizing within cv.glmnet\n",
      "\n"
     ]
    },
    {
     "name": "stdout",
     "output_type": "stream",
     "text": [
      "Tuning results - Lambda: 0.008168037 Alpha: 0.5 \n"
     ]
    },
    {
     "name": "stderr",
     "output_type": "stream",
     "text": [
      "Parallelization within cv.glmnet using all available cores (32).\n",
      "\n",
      "Parallelizing within cv.glmnet\n",
      "\n"
     ]
    },
    {
     "name": "stdout",
     "output_type": "stream",
     "text": [
      "Tuning results - Lambda: 0.00941559 Alpha: 0.5 \n"
     ]
    },
    {
     "name": "stderr",
     "output_type": "stream",
     "text": [
      "Parallelization within cv.glmnet using all available cores (32).\n",
      "\n",
      "Parallelizing within cv.glmnet\n",
      "\n"
     ]
    },
    {
     "name": "stdout",
     "output_type": "stream",
     "text": [
      "Tuning results - Lambda: 0.005853101 Alpha: 0.5 \n"
     ]
    },
    {
     "name": "stderr",
     "output_type": "stream",
     "text": [
      "Parallelization within cv.glmnet using all available cores (32).\n",
      "\n",
      "Parallelizing within cv.glmnet\n",
      "\n"
     ]
    },
    {
     "name": "stdout",
     "output_type": "stream",
     "text": [
      "Tuning results - Lambda: 0.005858863 Alpha: 0.5 \n"
     ]
    },
    {
     "name": "stderr",
     "output_type": "stream",
     "text": [
      "Parallelization within cv.glmnet using all available cores (32).\n",
      "\n",
      "Parallelizing within cv.glmnet\n",
      "\n"
     ]
    },
    {
     "name": "stdout",
     "output_type": "stream",
     "text": [
      "Tuning results - Lambda: 0.00650853 Alpha: 0.5 \n"
     ]
    },
    {
     "name": "stderr",
     "output_type": "stream",
     "text": [
      "Parallelization within cv.glmnet using all available cores (32).\n",
      "\n",
      "Parallelizing within cv.glmnet\n",
      "\n"
     ]
    },
    {
     "name": "stdout",
     "output_type": "stream",
     "text": [
      "Tuning results - Lambda: 0.007632946 Alpha: 0.5 \n",
      "Running methylation site #58826 at position 1988010"
     ]
    },
    {
     "name": "stderr",
     "output_type": "stream",
     "text": [
      "Parallelization within cv.glmnet using all available cores (32).\n",
      "\n",
      "Parallelizing within cv.glmnet\n",
      "\n"
     ]
    },
    {
     "name": "stdout",
     "output_type": "stream",
     "text": [
      "Tuning results - Lambda: 0.008092403 Alpha: 0.5 \n"
     ]
    },
    {
     "name": "stderr",
     "output_type": "stream",
     "text": [
      "Parallelization within cv.glmnet using all available cores (32).\n",
      "\n",
      "Parallelizing within cv.glmnet\n",
      "\n"
     ]
    },
    {
     "name": "stdout",
     "output_type": "stream",
     "text": [
      "Tuning results - Lambda: 0.008429953 Alpha: 0.5 \n"
     ]
    },
    {
     "name": "stderr",
     "output_type": "stream",
     "text": [
      "Parallelization within cv.glmnet using all available cores (32).\n",
      "\n",
      "Parallelizing within cv.glmnet\n",
      "\n"
     ]
    },
    {
     "name": "stdout",
     "output_type": "stream",
     "text": [
      "Tuning results - Lambda: 0.005312824 Alpha: 0.5 \n"
     ]
    },
    {
     "name": "stderr",
     "output_type": "stream",
     "text": [
      "Parallelization within cv.glmnet using all available cores (32).\n",
      "\n",
      "Parallelizing within cv.glmnet\n",
      "\n"
     ]
    },
    {
     "name": "stdout",
     "output_type": "stream",
     "text": [
      "Tuning results - Lambda: 0.007704758 Alpha: 0.5 \n"
     ]
    },
    {
     "name": "stderr",
     "output_type": "stream",
     "text": [
      "Parallelization within cv.glmnet using all available cores (32).\n",
      "\n",
      "Parallelizing within cv.glmnet\n",
      "\n"
     ]
    },
    {
     "name": "stdout",
     "output_type": "stream",
     "text": [
      "Tuning results - Lambda: 0.009181383 Alpha: 0.5 \n"
     ]
    },
    {
     "name": "stderr",
     "output_type": "stream",
     "text": [
      "Parallelization within cv.glmnet using all available cores (32).\n",
      "\n",
      "Parallelizing within cv.glmnet\n",
      "\n"
     ]
    },
    {
     "name": "stdout",
     "output_type": "stream",
     "text": [
      "Tuning results - Lambda: 0.01123887 Alpha: 0.5 \n",
      "Running methylation site #58827 at position 1988039"
     ]
    },
    {
     "name": "stderr",
     "output_type": "stream",
     "text": [
      "Parallelization within cv.glmnet using all available cores (32).\n",
      "\n",
      "Parallelizing within cv.glmnet\n",
      "\n"
     ]
    },
    {
     "name": "stdout",
     "output_type": "stream",
     "text": [
      "Tuning results - Lambda: 0.006786169 Alpha: 0.5 \n"
     ]
    },
    {
     "name": "stderr",
     "output_type": "stream",
     "text": [
      "Parallelization within cv.glmnet using all available cores (32).\n",
      "\n",
      "Parallelizing within cv.glmnet\n",
      "\n"
     ]
    },
    {
     "name": "stdout",
     "output_type": "stream",
     "text": [
      "Tuning results - Lambda: 0.007844925 Alpha: 0.5 \n"
     ]
    },
    {
     "name": "stderr",
     "output_type": "stream",
     "text": [
      "Parallelization within cv.glmnet using all available cores (32).\n",
      "\n",
      "Parallelizing within cv.glmnet\n",
      "\n"
     ]
    },
    {
     "name": "stdout",
     "output_type": "stream",
     "text": [
      "Tuning results - Lambda: 0.008572402 Alpha: 0.5 \n"
     ]
    },
    {
     "name": "stderr",
     "output_type": "stream",
     "text": [
      "Parallelization within cv.glmnet using all available cores (32).\n",
      "\n",
      "Parallelizing within cv.glmnet\n",
      "\n"
     ]
    },
    {
     "name": "stdout",
     "output_type": "stream",
     "text": [
      "Tuning results - Lambda: 0.006010692 Alpha: 0.5 \n"
     ]
    },
    {
     "name": "stderr",
     "output_type": "stream",
     "text": [
      "Parallelization within cv.glmnet using all available cores (32).\n",
      "\n",
      "Parallelizing within cv.glmnet\n",
      "\n"
     ]
    },
    {
     "name": "stdout",
     "output_type": "stream",
     "text": [
      "Tuning results - Lambda: 0.007088608 Alpha: 0.5 \n"
     ]
    },
    {
     "name": "stderr",
     "output_type": "stream",
     "text": [
      "Parallelization within cv.glmnet using all available cores (32).\n",
      "\n",
      "Parallelizing within cv.glmnet\n",
      "\n"
     ]
    },
    {
     "name": "stdout",
     "output_type": "stream",
     "text": [
      "Tuning results - Lambda: 0.00913377 Alpha: 0.5 \n",
      "Running methylation site #58828 at position 1988059"
     ]
    },
    {
     "name": "stderr",
     "output_type": "stream",
     "text": [
      "Parallelization within cv.glmnet using all available cores (32).\n",
      "\n",
      "Parallelizing within cv.glmnet\n",
      "\n"
     ]
    },
    {
     "name": "stdout",
     "output_type": "stream",
     "text": [
      "Tuning results - Lambda: 0.006388268 Alpha: 0.5 \n"
     ]
    },
    {
     "name": "stderr",
     "output_type": "stream",
     "text": [
      "Parallelization within cv.glmnet using all available cores (32).\n",
      "\n",
      "Parallelizing within cv.glmnet\n",
      "\n"
     ]
    },
    {
     "name": "stdout",
     "output_type": "stream",
     "text": [
      "Tuning results - Lambda: 0.009105122 Alpha: 0.5 \n"
     ]
    },
    {
     "name": "stderr",
     "output_type": "stream",
     "text": [
      "Parallelization within cv.glmnet using all available cores (32).\n",
      "\n",
      "Parallelizing within cv.glmnet\n",
      "\n"
     ]
    },
    {
     "name": "stdout",
     "output_type": "stream",
     "text": [
      "Tuning results - Lambda: 0.01052869 Alpha: 0.5 \n"
     ]
    },
    {
     "name": "stderr",
     "output_type": "stream",
     "text": [
      "Parallelization within cv.glmnet using all available cores (32).\n",
      "\n",
      "Parallelizing within cv.glmnet\n",
      "\n"
     ]
    },
    {
     "name": "stdout",
     "output_type": "stream",
     "text": [
      "Tuning results - Lambda: 0.006761278 Alpha: 0.5 \n"
     ]
    },
    {
     "name": "stderr",
     "output_type": "stream",
     "text": [
      "Parallelization within cv.glmnet using all available cores (32).\n",
      "\n",
      "Parallelizing within cv.glmnet\n",
      "\n"
     ]
    },
    {
     "name": "stdout",
     "output_type": "stream",
     "text": [
      "Tuning results - Lambda: 0.008375323 Alpha: 0.5 \n"
     ]
    },
    {
     "name": "stderr",
     "output_type": "stream",
     "text": [
      "Parallelization within cv.glmnet using all available cores (32).\n",
      "\n",
      "Parallelizing within cv.glmnet\n",
      "\n"
     ]
    },
    {
     "name": "stdout",
     "output_type": "stream",
     "text": [
      "Tuning results - Lambda: 0.008348049 Alpha: 0.5 \n",
      "Running methylation site #58829 at position 1988066"
     ]
    },
    {
     "name": "stderr",
     "output_type": "stream",
     "text": [
      "Parallelization within cv.glmnet using all available cores (32).\n",
      "\n",
      "Parallelizing within cv.glmnet\n",
      "\n"
     ]
    },
    {
     "name": "stdout",
     "output_type": "stream",
     "text": [
      "Tuning results - Lambda: 0.005695362 Alpha: 0.5 \n"
     ]
    },
    {
     "name": "stderr",
     "output_type": "stream",
     "text": [
      "Parallelization within cv.glmnet using all available cores (32).\n",
      "\n",
      "Parallelizing within cv.glmnet\n",
      "\n"
     ]
    },
    {
     "name": "stdout",
     "output_type": "stream",
     "text": [
      "Tuning results - Lambda: 0.005778285 Alpha: 0.5 \n"
     ]
    },
    {
     "name": "stderr",
     "output_type": "stream",
     "text": [
      "Parallelization within cv.glmnet using all available cores (32).\n",
      "\n",
      "Parallelizing within cv.glmnet\n",
      "\n"
     ]
    },
    {
     "name": "stdout",
     "output_type": "stream",
     "text": [
      "Tuning results - Lambda: 0.006340014 Alpha: 0.5 \n"
     ]
    },
    {
     "name": "stderr",
     "output_type": "stream",
     "text": [
      "Parallelization within cv.glmnet using all available cores (32).\n",
      "\n",
      "Parallelizing within cv.glmnet\n",
      "\n"
     ]
    },
    {
     "name": "stdout",
     "output_type": "stream",
     "text": [
      "Tuning results - Lambda: 0.007277999 Alpha: 0.5 \n"
     ]
    },
    {
     "name": "stderr",
     "output_type": "stream",
     "text": [
      "Parallelization within cv.glmnet using all available cores (32).\n",
      "\n",
      "Parallelizing within cv.glmnet\n",
      "\n"
     ]
    },
    {
     "name": "stdout",
     "output_type": "stream",
     "text": [
      "Tuning results - Lambda: 0.004088446 Alpha: 0.5 \n"
     ]
    },
    {
     "name": "stderr",
     "output_type": "stream",
     "text": [
      "Parallelization within cv.glmnet using all available cores (32).\n",
      "\n",
      "Parallelizing within cv.glmnet\n",
      "\n"
     ]
    },
    {
     "name": "stdout",
     "output_type": "stream",
     "text": [
      "Tuning results - Lambda: 0.006158909 Alpha: 0.5 \n",
      "Running methylation site #58830 at position 1988078"
     ]
    },
    {
     "name": "stderr",
     "output_type": "stream",
     "text": [
      "Parallelization within cv.glmnet using all available cores (32).\n",
      "\n",
      "Parallelizing within cv.glmnet\n",
      "\n"
     ]
    },
    {
     "name": "stdout",
     "output_type": "stream",
     "text": [
      "Tuning results - Lambda: 0.007954229 Alpha: 0.5 \n"
     ]
    },
    {
     "name": "stderr",
     "output_type": "stream",
     "text": [
      "Parallelization within cv.glmnet using all available cores (32).\n",
      "\n",
      "Parallelizing within cv.glmnet\n",
      "\n"
     ]
    },
    {
     "name": "stdout",
     "output_type": "stream",
     "text": [
      "Tuning results - Lambda: 0.01098746 Alpha: 0.5 \n"
     ]
    },
    {
     "name": "stderr",
     "output_type": "stream",
     "text": [
      "Parallelization within cv.glmnet using all available cores (32).\n",
      "\n",
      "Parallelizing within cv.glmnet\n",
      "\n"
     ]
    },
    {
     "name": "stdout",
     "output_type": "stream",
     "text": [
      "Tuning results - Lambda: 0.007613986 Alpha: 0.5 \n"
     ]
    },
    {
     "name": "stderr",
     "output_type": "stream",
     "text": [
      "Parallelization within cv.glmnet using all available cores (32).\n",
      "\n",
      "Parallelizing within cv.glmnet\n",
      "\n"
     ]
    },
    {
     "name": "stdout",
     "output_type": "stream",
     "text": [
      "Tuning results - Lambda: 0.008702786 Alpha: 0.5 \n"
     ]
    },
    {
     "name": "stderr",
     "output_type": "stream",
     "text": [
      "Parallelization within cv.glmnet using all available cores (32).\n",
      "\n",
      "Parallelizing within cv.glmnet\n",
      "\n"
     ]
    },
    {
     "name": "stdout",
     "output_type": "stream",
     "text": [
      "Tuning results - Lambda: 0.010614 Alpha: 0.5 \n"
     ]
    },
    {
     "name": "stderr",
     "output_type": "stream",
     "text": [
      "Parallelization within cv.glmnet using all available cores (32).\n",
      "\n",
      "Parallelizing within cv.glmnet\n",
      "\n"
     ]
    },
    {
     "name": "stdout",
     "output_type": "stream",
     "text": [
      "Tuning results - Lambda: 0.008065031 Alpha: 0.5 \n",
      "Running methylation site #58831 at position 1988129"
     ]
    },
    {
     "name": "stderr",
     "output_type": "stream",
     "text": [
      "Parallelization within cv.glmnet using all available cores (32).\n",
      "\n",
      "Parallelizing within cv.glmnet\n",
      "\n"
     ]
    },
    {
     "name": "stdout",
     "output_type": "stream",
     "text": [
      "Tuning results - Lambda: 0.00610841 Alpha: 0.5 \n"
     ]
    },
    {
     "name": "stderr",
     "output_type": "stream",
     "text": [
      "Parallelization within cv.glmnet using all available cores (32).\n",
      "\n",
      "Parallelizing within cv.glmnet\n",
      "\n"
     ]
    },
    {
     "name": "stdout",
     "output_type": "stream",
     "text": [
      "Tuning results - Lambda: 0.006871124 Alpha: 0.5 \n"
     ]
    },
    {
     "name": "stderr",
     "output_type": "stream",
     "text": [
      "Parallelization within cv.glmnet using all available cores (32).\n",
      "\n",
      "Parallelizing within cv.glmnet\n",
      "\n"
     ]
    },
    {
     "name": "stdout",
     "output_type": "stream",
     "text": [
      "Tuning results - Lambda: 0.005609593 Alpha: 0.5 \n"
     ]
    },
    {
     "name": "stderr",
     "output_type": "stream",
     "text": [
      "Parallelization within cv.glmnet using all available cores (32).\n",
      "\n",
      "Parallelizing within cv.glmnet\n",
      "\n"
     ]
    },
    {
     "name": "stdout",
     "output_type": "stream",
     "text": [
      "Tuning results - Lambda: 0.007119382 Alpha: 0.5 \n"
     ]
    },
    {
     "name": "stderr",
     "output_type": "stream",
     "text": [
      "Parallelization within cv.glmnet using all available cores (32).\n",
      "\n",
      "Parallelizing within cv.glmnet\n",
      "\n"
     ]
    },
    {
     "name": "stdout",
     "output_type": "stream",
     "text": [
      "Tuning results - Lambda: 0.007653669 Alpha: 0.5 \n"
     ]
    },
    {
     "name": "stderr",
     "output_type": "stream",
     "text": [
      "Parallelization within cv.glmnet using all available cores (32).\n",
      "\n",
      "Parallelizing within cv.glmnet\n",
      "\n"
     ]
    },
    {
     "name": "stdout",
     "output_type": "stream",
     "text": [
      "Tuning results - Lambda: 0.008097337 Alpha: 0.5 \n",
      "Running methylation site #58832 at position 1988133"
     ]
    },
    {
     "name": "stderr",
     "output_type": "stream",
     "text": [
      "Parallelization within cv.glmnet using all available cores (32).\n",
      "\n",
      "Parallelizing within cv.glmnet\n",
      "\n"
     ]
    },
    {
     "name": "stdout",
     "output_type": "stream",
     "text": [
      "Tuning results - Lambda: 0.009608804 Alpha: 0.5 \n"
     ]
    },
    {
     "name": "stderr",
     "output_type": "stream",
     "text": [
      "Parallelization within cv.glmnet using all available cores (32).\n",
      "\n",
      "Parallelizing within cv.glmnet\n",
      "\n"
     ]
    },
    {
     "name": "stdout",
     "output_type": "stream",
     "text": [
      "Tuning results - Lambda: 0.005752869 Alpha: 0.5 \n"
     ]
    },
    {
     "name": "stderr",
     "output_type": "stream",
     "text": [
      "Parallelization within cv.glmnet using all available cores (32).\n",
      "\n",
      "Parallelizing within cv.glmnet\n",
      "\n"
     ]
    },
    {
     "name": "stdout",
     "output_type": "stream",
     "text": [
      "Tuning results - Lambda: 0.008464121 Alpha: 0.5 \n"
     ]
    },
    {
     "name": "stderr",
     "output_type": "stream",
     "text": [
      "Parallelization within cv.glmnet using all available cores (32).\n",
      "\n",
      "Parallelizing within cv.glmnet\n",
      "\n"
     ]
    },
    {
     "name": "stdout",
     "output_type": "stream",
     "text": [
      "Tuning results - Lambda: 0.006167827 Alpha: 0.5 \n"
     ]
    },
    {
     "name": "stderr",
     "output_type": "stream",
     "text": [
      "Parallelization within cv.glmnet using all available cores (32).\n",
      "\n",
      "Parallelizing within cv.glmnet\n",
      "\n"
     ]
    },
    {
     "name": "stdout",
     "output_type": "stream",
     "text": [
      "Tuning results - Lambda: 0.002653304 Alpha: 0.5 \n"
     ]
    },
    {
     "name": "stderr",
     "output_type": "stream",
     "text": [
      "Parallelization within cv.glmnet using all available cores (32).\n",
      "\n",
      "Parallelizing within cv.glmnet\n",
      "\n"
     ]
    },
    {
     "name": "stdout",
     "output_type": "stream",
     "text": [
      "Tuning results - Lambda: 0.00581346 Alpha: 0.5 \n",
      "Running methylation site #58833 at position 1988141"
     ]
    },
    {
     "name": "stderr",
     "output_type": "stream",
     "text": [
      "Parallelization within cv.glmnet using all available cores (32).\n",
      "\n",
      "Parallelizing within cv.glmnet\n",
      "\n"
     ]
    },
    {
     "name": "stdout",
     "output_type": "stream",
     "text": [
      "Tuning results - Lambda: 0.009376844 Alpha: 0.5 \n"
     ]
    },
    {
     "name": "stderr",
     "output_type": "stream",
     "text": [
      "Parallelization within cv.glmnet using all available cores (32).\n",
      "\n",
      "Parallelizing within cv.glmnet\n",
      "\n"
     ]
    },
    {
     "name": "stdout",
     "output_type": "stream",
     "text": [
      "Tuning results - Lambda: 0.009661246 Alpha: 0.5 \n"
     ]
    },
    {
     "name": "stderr",
     "output_type": "stream",
     "text": [
      "Parallelization within cv.glmnet using all available cores (32).\n",
      "\n",
      "Parallelizing within cv.glmnet\n",
      "\n"
     ]
    },
    {
     "name": "stdout",
     "output_type": "stream",
     "text": [
      "Tuning results - Lambda: 0.006821966 Alpha: 0.5 \n"
     ]
    },
    {
     "name": "stderr",
     "output_type": "stream",
     "text": [
      "Parallelization within cv.glmnet using all available cores (32).\n",
      "\n",
      "Parallelizing within cv.glmnet\n",
      "\n"
     ]
    },
    {
     "name": "stdout",
     "output_type": "stream",
     "text": [
      "Tuning results - Lambda: 0.005378473 Alpha: 0.5 \n"
     ]
    },
    {
     "name": "stderr",
     "output_type": "stream",
     "text": [
      "Parallelization within cv.glmnet using all available cores (32).\n",
      "\n",
      "Parallelizing within cv.glmnet\n",
      "\n"
     ]
    },
    {
     "name": "stdout",
     "output_type": "stream",
     "text": [
      "Tuning results - Lambda: 0.007597263 Alpha: 0.5 \n"
     ]
    },
    {
     "name": "stderr",
     "output_type": "stream",
     "text": [
      "Parallelization within cv.glmnet using all available cores (32).\n",
      "\n",
      "Parallelizing within cv.glmnet\n",
      "\n"
     ]
    },
    {
     "name": "stdout",
     "output_type": "stream",
     "text": [
      "Tuning results - Lambda: 0.006794627 Alpha: 0.5 \n",
      "Running methylation site #58834 at position 1988201"
     ]
    },
    {
     "name": "stderr",
     "output_type": "stream",
     "text": [
      "Parallelization within cv.glmnet using all available cores (32).\n",
      "\n",
      "Parallelizing within cv.glmnet\n",
      "\n"
     ]
    },
    {
     "name": "stdout",
     "output_type": "stream",
     "text": [
      "Tuning results - Lambda: 0.007766018 Alpha: 0.5 \n"
     ]
    },
    {
     "name": "stderr",
     "output_type": "stream",
     "text": [
      "Parallelization within cv.glmnet using all available cores (32).\n",
      "\n",
      "Parallelizing within cv.glmnet\n",
      "\n"
     ]
    },
    {
     "name": "stdout",
     "output_type": "stream",
     "text": [
      "Tuning results - Lambda: 0.004691127 Alpha: 0.5 \n"
     ]
    },
    {
     "name": "stderr",
     "output_type": "stream",
     "text": [
      "Parallelization within cv.glmnet using all available cores (32).\n",
      "\n",
      "Parallelizing within cv.glmnet\n",
      "\n"
     ]
    },
    {
     "name": "stdout",
     "output_type": "stream",
     "text": [
      "Tuning results - Lambda: 0.003035193 Alpha: 0.5 \n"
     ]
    },
    {
     "name": "stderr",
     "output_type": "stream",
     "text": [
      "Parallelization within cv.glmnet using all available cores (32).\n",
      "\n",
      "Parallelizing within cv.glmnet\n",
      "\n"
     ]
    },
    {
     "name": "stdout",
     "output_type": "stream",
     "text": [
      "Tuning results - Lambda: 0.007955314 Alpha: 0.5 \n"
     ]
    },
    {
     "name": "stderr",
     "output_type": "stream",
     "text": [
      "Parallelization within cv.glmnet using all available cores (32).\n",
      "\n",
      "Parallelizing within cv.glmnet\n",
      "\n"
     ]
    },
    {
     "name": "stdout",
     "output_type": "stream",
     "text": [
      "Tuning results - Lambda: 0.006784411 Alpha: 0.5 \n"
     ]
    },
    {
     "name": "stderr",
     "output_type": "stream",
     "text": [
      "Parallelization within cv.glmnet using all available cores (32).\n",
      "\n",
      "Parallelizing within cv.glmnet\n",
      "\n"
     ]
    },
    {
     "name": "stdout",
     "output_type": "stream",
     "text": [
      "Tuning results - Lambda: 0.004553207 Alpha: 0.5 \n",
      "Running methylation site #58835 at position 1988216"
     ]
    },
    {
     "name": "stderr",
     "output_type": "stream",
     "text": [
      "Parallelization within cv.glmnet using all available cores (32).\n",
      "\n",
      "Parallelizing within cv.glmnet\n",
      "\n"
     ]
    },
    {
     "name": "stdout",
     "output_type": "stream",
     "text": [
      "Tuning results - Lambda: 0.007397901 Alpha: 0.5 \n"
     ]
    },
    {
     "name": "stderr",
     "output_type": "stream",
     "text": [
      "Parallelization within cv.glmnet using all available cores (32).\n",
      "\n",
      "Parallelizing within cv.glmnet\n",
      "\n"
     ]
    },
    {
     "name": "stdout",
     "output_type": "stream",
     "text": [
      "Tuning results - Lambda: 0.002821104 Alpha: 0.5 \n"
     ]
    },
    {
     "name": "stderr",
     "output_type": "stream",
     "text": [
      "Parallelization within cv.glmnet using all available cores (32).\n",
      "\n",
      "Parallelizing within cv.glmnet\n",
      "\n"
     ]
    },
    {
     "name": "stdout",
     "output_type": "stream",
     "text": [
      "Tuning results - Lambda: 0.006908076 Alpha: 0.5 \n"
     ]
    },
    {
     "name": "stderr",
     "output_type": "stream",
     "text": [
      "Parallelization within cv.glmnet using all available cores (32).\n",
      "\n",
      "Parallelizing within cv.glmnet\n",
      "\n"
     ]
    },
    {
     "name": "stdout",
     "output_type": "stream",
     "text": [
      "Tuning results - Lambda: 0.004506388 Alpha: 0.5 \n"
     ]
    },
    {
     "name": "stderr",
     "output_type": "stream",
     "text": [
      "Parallelization within cv.glmnet using all available cores (32).\n",
      "\n",
      "Parallelizing within cv.glmnet\n",
      "\n"
     ]
    },
    {
     "name": "stdout",
     "output_type": "stream",
     "text": [
      "Tuning results - Lambda: 0.007850645 Alpha: 0.5 \n"
     ]
    },
    {
     "name": "stderr",
     "output_type": "stream",
     "text": [
      "Parallelization within cv.glmnet using all available cores (32).\n",
      "\n",
      "Parallelizing within cv.glmnet\n",
      "\n"
     ]
    },
    {
     "name": "stdout",
     "output_type": "stream",
     "text": [
      "Tuning results - Lambda: 0.00720098 Alpha: 0.5 \n",
      "Running methylation site #58836 at position 1988292"
     ]
    },
    {
     "name": "stderr",
     "output_type": "stream",
     "text": [
      "Parallelization within cv.glmnet using all available cores (32).\n",
      "\n",
      "Parallelizing within cv.glmnet\n",
      "\n"
     ]
    },
    {
     "name": "stdout",
     "output_type": "stream",
     "text": [
      "Tuning results - Lambda: 0.005729684 Alpha: 0.5 \n"
     ]
    },
    {
     "name": "stderr",
     "output_type": "stream",
     "text": [
      "Parallelization within cv.glmnet using all available cores (32).\n",
      "\n",
      "Parallelizing within cv.glmnet\n",
      "\n"
     ]
    },
    {
     "name": "stdout",
     "output_type": "stream",
     "text": [
      "Tuning results - Lambda: 0.005390091 Alpha: 0.5 \n"
     ]
    },
    {
     "name": "stderr",
     "output_type": "stream",
     "text": [
      "Parallelization within cv.glmnet using all available cores (32).\n",
      "\n",
      "Parallelizing within cv.glmnet\n",
      "\n"
     ]
    },
    {
     "name": "stdout",
     "output_type": "stream",
     "text": [
      "Tuning results - Lambda: 0.005560736 Alpha: 0.5 \n"
     ]
    },
    {
     "name": "stderr",
     "output_type": "stream",
     "text": [
      "Parallelization within cv.glmnet using all available cores (32).\n",
      "\n",
      "Parallelizing within cv.glmnet\n",
      "\n"
     ]
    },
    {
     "name": "stdout",
     "output_type": "stream",
     "text": [
      "Tuning results - Lambda: 0.005711122 Alpha: 0.5 \n"
     ]
    },
    {
     "name": "stderr",
     "output_type": "stream",
     "text": [
      "Parallelization within cv.glmnet using all available cores (32).\n",
      "\n",
      "Parallelizing within cv.glmnet\n",
      "\n"
     ]
    },
    {
     "name": "stdout",
     "output_type": "stream",
     "text": [
      "Tuning results - Lambda: 0.004883178 Alpha: 0.5 \n"
     ]
    },
    {
     "name": "stderr",
     "output_type": "stream",
     "text": [
      "Parallelization within cv.glmnet using all available cores (32).\n",
      "\n",
      "Parallelizing within cv.glmnet\n",
      "\n"
     ]
    },
    {
     "name": "stdout",
     "output_type": "stream",
     "text": [
      "Tuning results - Lambda: 0.003448417 Alpha: 0.5 \n",
      "Running methylation site #58837 at position 1988321"
     ]
    },
    {
     "name": "stderr",
     "output_type": "stream",
     "text": [
      "Parallelization within cv.glmnet using all available cores (32).\n",
      "\n",
      "Parallelizing within cv.glmnet\n",
      "\n"
     ]
    },
    {
     "name": "stdout",
     "output_type": "stream",
     "text": [
      "Tuning results - Lambda: 0.005176119 Alpha: 0.5 \n"
     ]
    },
    {
     "name": "stderr",
     "output_type": "stream",
     "text": [
      "Parallelization within cv.glmnet using all available cores (32).\n",
      "\n",
      "Parallelizing within cv.glmnet\n",
      "\n"
     ]
    },
    {
     "name": "stdout",
     "output_type": "stream",
     "text": [
      "Tuning results - Lambda: 0.005573463 Alpha: 0.5 \n"
     ]
    },
    {
     "name": "stderr",
     "output_type": "stream",
     "text": [
      "Parallelization within cv.glmnet using all available cores (32).\n",
      "\n",
      "Parallelizing within cv.glmnet\n",
      "\n"
     ]
    },
    {
     "name": "stdout",
     "output_type": "stream",
     "text": [
      "Tuning results - Lambda: 0.005332912 Alpha: 0.5 \n"
     ]
    },
    {
     "name": "stderr",
     "output_type": "stream",
     "text": [
      "Parallelization within cv.glmnet using all available cores (32).\n",
      "\n",
      "Parallelizing within cv.glmnet\n",
      "\n"
     ]
    },
    {
     "name": "stdout",
     "output_type": "stream",
     "text": [
      "Tuning results - Lambda: 0.004063795 Alpha: 0.5 \n"
     ]
    },
    {
     "name": "stderr",
     "output_type": "stream",
     "text": [
      "Parallelization within cv.glmnet using all available cores (32).\n",
      "\n",
      "Parallelizing within cv.glmnet\n",
      "\n"
     ]
    },
    {
     "name": "stdout",
     "output_type": "stream",
     "text": [
      "Tuning results - Lambda: 0.002393459 Alpha: 0.5 \n"
     ]
    },
    {
     "name": "stderr",
     "output_type": "stream",
     "text": [
      "Parallelization within cv.glmnet using all available cores (32).\n",
      "\n",
      "Parallelizing within cv.glmnet\n",
      "\n"
     ]
    },
    {
     "name": "stdout",
     "output_type": "stream",
     "text": [
      "Tuning results - Lambda: 0.002664201 Alpha: 0.5 \n",
      "Running methylation site #58838 at position 1988325"
     ]
    },
    {
     "name": "stderr",
     "output_type": "stream",
     "text": [
      "Parallelization within cv.glmnet using all available cores (32).\n",
      "\n",
      "Parallelizing within cv.glmnet\n",
      "\n"
     ]
    },
    {
     "name": "stdout",
     "output_type": "stream",
     "text": [
      "Tuning results - Lambda: 0.003205013 Alpha: 0.5 \n"
     ]
    },
    {
     "name": "stderr",
     "output_type": "stream",
     "text": [
      "Parallelization within cv.glmnet using all available cores (32).\n",
      "\n",
      "Parallelizing within cv.glmnet\n",
      "\n"
     ]
    },
    {
     "name": "stdout",
     "output_type": "stream",
     "text": [
      "Tuning results - Lambda: 0.004838138 Alpha: 0.5 \n"
     ]
    },
    {
     "name": "stderr",
     "output_type": "stream",
     "text": [
      "Parallelization within cv.glmnet using all available cores (32).\n",
      "\n",
      "Parallelizing within cv.glmnet\n",
      "\n"
     ]
    },
    {
     "name": "stdout",
     "output_type": "stream",
     "text": [
      "Tuning results - Lambda: 0.00492128 Alpha: 0.5 \n"
     ]
    },
    {
     "name": "stderr",
     "output_type": "stream",
     "text": [
      "Parallelization within cv.glmnet using all available cores (32).\n",
      "\n",
      "Parallelizing within cv.glmnet\n",
      "\n"
     ]
    },
    {
     "name": "stdout",
     "output_type": "stream",
     "text": [
      "Tuning results - Lambda: 0.005434253 Alpha: 0.5 \n"
     ]
    },
    {
     "name": "stderr",
     "output_type": "stream",
     "text": [
      "Parallelization within cv.glmnet using all available cores (32).\n",
      "\n",
      "Parallelizing within cv.glmnet\n",
      "\n"
     ]
    },
    {
     "name": "stdout",
     "output_type": "stream",
     "text": [
      "Tuning results - Lambda: 0.003165886 Alpha: 0.5 \n"
     ]
    },
    {
     "name": "stderr",
     "output_type": "stream",
     "text": [
      "Parallelization within cv.glmnet using all available cores (32).\n",
      "\n",
      "Parallelizing within cv.glmnet\n",
      "\n"
     ]
    },
    {
     "name": "stdout",
     "output_type": "stream",
     "text": [
      "Tuning results - Lambda: 0.005163198 Alpha: 0.5 \n",
      "Running methylation site #58839 at position 1988332"
     ]
    },
    {
     "name": "stderr",
     "output_type": "stream",
     "text": [
      "Parallelization within cv.glmnet using all available cores (32).\n",
      "\n",
      "Parallelizing within cv.glmnet\n",
      "\n"
     ]
    },
    {
     "name": "stdout",
     "output_type": "stream",
     "text": [
      "Tuning results - Lambda: 0.0008498997 Alpha: 0.5 \n"
     ]
    },
    {
     "name": "stderr",
     "output_type": "stream",
     "text": [
      "Parallelization within cv.glmnet using all available cores (32).\n",
      "\n",
      "Parallelizing within cv.glmnet\n",
      "\n"
     ]
    },
    {
     "name": "stdout",
     "output_type": "stream",
     "text": [
      "Tuning results - Lambda: 0.005150063 Alpha: 0.5 \n"
     ]
    },
    {
     "name": "stderr",
     "output_type": "stream",
     "text": [
      "Parallelization within cv.glmnet using all available cores (32).\n",
      "\n",
      "Parallelizing within cv.glmnet\n",
      "\n"
     ]
    },
    {
     "name": "stdout",
     "output_type": "stream",
     "text": [
      "Tuning results - Lambda: 0.004949073 Alpha: 0.5 \n"
     ]
    },
    {
     "name": "stderr",
     "output_type": "stream",
     "text": [
      "Parallelization within cv.glmnet using all available cores (32).\n",
      "\n",
      "Parallelizing within cv.glmnet\n",
      "\n"
     ]
    },
    {
     "name": "stdout",
     "output_type": "stream",
     "text": [
      "Tuning results - Lambda: 0.005021306 Alpha: 0.5 \n"
     ]
    },
    {
     "name": "stderr",
     "output_type": "stream",
     "text": [
      "Parallelization within cv.glmnet using all available cores (32).\n",
      "\n",
      "Parallelizing within cv.glmnet\n",
      "\n"
     ]
    },
    {
     "name": "stdout",
     "output_type": "stream",
     "text": [
      "Tuning results - Lambda: 0.004949721 Alpha: 0.5 \n"
     ]
    },
    {
     "name": "stderr",
     "output_type": "stream",
     "text": [
      "Parallelization within cv.glmnet using all available cores (32).\n",
      "\n",
      "Parallelizing within cv.glmnet\n",
      "\n"
     ]
    },
    {
     "name": "stdout",
     "output_type": "stream",
     "text": [
      "Tuning results - Lambda: 0.005518333 Alpha: 0.5 \n",
      "Running methylation site #58840 at position 1988401"
     ]
    },
    {
     "name": "stderr",
     "output_type": "stream",
     "text": [
      "Parallelization within cv.glmnet using all available cores (32).\n",
      "\n",
      "Parallelizing within cv.glmnet\n",
      "\n"
     ]
    },
    {
     "name": "stdout",
     "output_type": "stream",
     "text": [
      "Tuning results - Lambda: 0.00445139 Alpha: 0.5 \n"
     ]
    },
    {
     "name": "stderr",
     "output_type": "stream",
     "text": [
      "Parallelization within cv.glmnet using all available cores (32).\n",
      "\n",
      "Parallelizing within cv.glmnet\n",
      "\n"
     ]
    },
    {
     "name": "stdout",
     "output_type": "stream",
     "text": [
      "Tuning results - Lambda: 0.005307695 Alpha: 0.5 \n"
     ]
    },
    {
     "name": "stderr",
     "output_type": "stream",
     "text": [
      "Parallelization within cv.glmnet using all available cores (32).\n",
      "\n",
      "Parallelizing within cv.glmnet\n",
      "\n"
     ]
    },
    {
     "name": "stdout",
     "output_type": "stream",
     "text": [
      "Tuning results - Lambda: 0.004662199 Alpha: 0.5 \n"
     ]
    },
    {
     "name": "stderr",
     "output_type": "stream",
     "text": [
      "Parallelization within cv.glmnet using all available cores (32).\n",
      "\n",
      "Parallelizing within cv.glmnet\n",
      "\n"
     ]
    },
    {
     "name": "stdout",
     "output_type": "stream",
     "text": [
      "Tuning results - Lambda: 0.003931914 Alpha: 0.5 \n"
     ]
    },
    {
     "name": "stderr",
     "output_type": "stream",
     "text": [
      "Parallelization within cv.glmnet using all available cores (32).\n",
      "\n",
      "Parallelizing within cv.glmnet\n",
      "\n"
     ]
    },
    {
     "name": "stdout",
     "output_type": "stream",
     "text": [
      "Tuning results - Lambda: 0.005209071 Alpha: 0.5 \n"
     ]
    },
    {
     "name": "stderr",
     "output_type": "stream",
     "text": [
      "Parallelization within cv.glmnet using all available cores (32).\n",
      "\n",
      "Parallelizing within cv.glmnet\n",
      "\n"
     ]
    },
    {
     "name": "stdout",
     "output_type": "stream",
     "text": [
      "Tuning results - Lambda: 0.004917714 Alpha: 0.5 \n"
     ]
    },
    {
     "name": "stderr",
     "output_type": "stream",
     "text": [
      "MethylationScaff object saved to ./output//libd_chr7-chr7_all-20240701-112122.rds\n",
      "\n"
     ]
    }
   ],
   "source": [
    "scaffold_models <- fit_MWAS_models(\n",
    "  BSobj = BSobj2,\n",
    "  methInput = methInput,\n",
    "  window_sizes = args$window_sizes,\n",
    "  chunk1 = min(sites_to_test),\n",
    "  chunk2 = max(sites_to_test),\n",
    "  n_fold = args$n_fold,\n",
    "  scaffoldIdentifier = scaffoldIdentifier,\n",
    "  outdir = args$outdir,\n",
    "  verbose = args$verbose,\n",
    "  lambda_choice = args$lambda_choice,\n",
    "  alphas = args$alphas,\n",
    "  cores_per_alpha = args$cores_per_alpha,\n",
    "  num_cores = args$num_cores,\n",
    "  allow_inefficient_parallelization = args$allow_inefficient_parallelization,\n",
    "  save_evaluation_results_each_fold = args$save_evaluation_results_each_fold,\n",
    "  save_glmnet_object = args$save_glmnet_object,\n",
    "  cv_eval_mode = args$cv_eval_mode,\n",
    "  omit_folds_with_na_r = args$omit_folds_with_na_r,\n",
    "  maf = args$maf,\n",
    "  na.action = args$na_action\n",
    ")\n",
    "\n",
    "#df <- as.data.frame(scaffold_models)\n",
    "\n",
    "pgenlibr::ClosePgen(methInput@pgen)\n",
    "pgenlibr::ClosePvar(methInput@pvar_pointer)"
   ]
  },
  {
   "cell_type": "code",
   "execution_count": 15,
   "id": "22df3a04-bc3c-4142-8d64-5f78b3f59276",
   "metadata": {},
   "outputs": [],
   "source": [
    "scaffold_models <- readRDS(\"./output//libd_chr7-chr7_all-20240701-104026.rds\")"
   ]
  },
  {
   "cell_type": "code",
   "execution_count": 16,
   "id": "2b01d52c-8fd0-4fd0-b3bc-7b087ddc0474",
   "metadata": {},
   "outputs": [
    {
     "data": {
      "text/plain": [
       "An object of class \"MethylationScaff\"\n",
       "Slot \"scaffoldIdentifier\":\n",
       "[1] \"libd_chr7-chr7_all-20240701-104026\"\n",
       "\n",
       "Slot \"models\":\n",
       "[[1]]\n",
       "An object of class \"MethylationBase\"\n",
       "Slot \"methylationPosition\":\n",
       "[1] 1987413\n",
       "\n",
       "Slot \"windowSize\":\n",
       "[1] 10000\n",
       "\n",
       "Slot \"n_SNPs\":\n",
       "[1] 43\n",
       "\n",
       "Slot \"glmnetModel\":\n",
       "NULL\n",
       "\n",
       "Slot \"snpWeights\":\n",
       "chr7:1977810:C:T chr7:1981360:G:A chr7:1987719:C:T chr7:1987813:T:C \n",
       "    6.417516e-04    -1.079198e-03    -1.082509e-03     8.254827e-05 \n",
       "chr7:1990232:T:C chr7:1994382:C:T \n",
       "   -1.210573e-03     8.877272e-04 \n",
       "\n",
       "Slot \"intercept\":\n",
       "          s0 \n",
       "0.0003270239 \n",
       "\n",
       "Slot \"alpha\":\n",
       "[1] 0.5\n",
       "\n",
       "Slot \"lambda\":\n",
       "[1] 0.008394776\n",
       "\n",
       "Slot \"evaluation_results\":\n",
       "        cor         mse \n",
       "0.328464699 0.000429953 \n",
       "\n",
       "Slot \"cv_eval_mode\":\n",
       "[1] \"dynamic\"\n",
       "\n",
       "Slot \"full_model_metrics\":\n",
       "           r          mse \n",
       "0.3713346383 0.0004060522 \n",
       "\n",
       "\n",
       "[[2]]\n",
       "An object of class \"MethylationBase\"\n",
       "Slot \"methylationPosition\":\n",
       "[1] 1987418\n",
       "\n",
       "Slot \"windowSize\":\n",
       "[1] 10000\n",
       "\n",
       "Slot \"n_SNPs\":\n",
       "[1] 43\n",
       "\n",
       "Slot \"glmnetModel\":\n",
       "NULL\n",
       "\n",
       "Slot \"snpWeights\":\n",
       "chr7:1977810:C:T chr7:1981360:G:A chr7:1987719:C:T chr7:1987813:T:C \n",
       "    0.0006392769    -0.0010783249    -0.0011603110     0.0001037153 \n",
       "chr7:1990232:T:C chr7:1994382:C:T \n",
       "   -0.0012802189     0.0007899639 \n",
       "\n",
       "Slot \"intercept\":\n",
       "          s0 \n",
       "0.0004902822 \n",
       "\n",
       "Slot \"alpha\":\n",
       "[1] 0.5\n",
       "\n",
       "Slot \"lambda\":\n",
       "[1] 0.008582132\n",
       "\n",
       "Slot \"evaluation_results\":\n",
       "         cor          mse \n",
       "0.3393777950 0.0004195501 \n",
       "\n",
       "Slot \"cv_eval_mode\":\n",
       "[1] \"dynamic\"\n",
       "\n",
       "Slot \"full_model_metrics\":\n",
       "           r          mse \n",
       "0.3800876089 0.0003998698 \n",
       "\n",
       "\n",
       "[[3]]\n",
       "An object of class \"MethylationBase\"\n",
       "Slot \"methylationPosition\":\n",
       "[1] 1987434\n",
       "\n",
       "Slot \"windowSize\":\n",
       "[1] 10000\n",
       "\n",
       "Slot \"n_SNPs\":\n",
       "[1] 42\n",
       "\n",
       "Slot \"glmnetModel\":\n",
       "NULL\n",
       "\n",
       "Slot \"snpWeights\":\n",
       "chr7:1977810:C:T chr7:1981360:G:A chr7:1987719:C:T chr7:1990232:T:C \n",
       "    3.088559e-04    -1.006891e-03    -1.031810e-03    -1.245121e-03 \n",
       "chr7:1994382:C:T \n",
       "    2.708523e-05 \n",
       "\n",
       "Slot \"intercept\":\n",
       "         s0 \n",
       "0.001643044 \n",
       "\n",
       "Slot \"alpha\":\n",
       "[1] 0.5\n",
       "\n",
       "Slot \"lambda\":\n",
       "[1] 0.01103723\n",
       "\n",
       "Slot \"evaluation_results\":\n",
       "         cor          mse \n",
       "0.3812541267 0.0003940158 \n",
       "\n",
       "Slot \"cv_eval_mode\":\n",
       "[1] \"dynamic\"\n",
       "\n",
       "Slot \"full_model_metrics\":\n",
       "           r          mse \n",
       "0.4018163796 0.0003919685 \n",
       "\n",
       "\n",
       "[[4]]\n",
       "An object of class \"MethylationBase\"\n",
       "Slot \"methylationPosition\":\n",
       "[1] 1987449\n",
       "\n",
       "Slot \"windowSize\":\n",
       "[1] 10000\n",
       "\n",
       "Slot \"n_SNPs\":\n",
       "[1] 42\n",
       "\n",
       "Slot \"glmnetModel\":\n",
       "NULL\n",
       "\n",
       "Slot \"snpWeights\":\n",
       "chr7:1977810:C:T chr7:1981360:G:A chr7:1987676:G:T chr7:1987719:C:T \n",
       "    0.0008100052    -0.0010750806    -0.0002676433    -0.0016104802 \n",
       "chr7:1987813:T:C chr7:1990232:T:C chr7:1994382:C:T \n",
       "    0.0003307268    -0.0017034495     0.0004396598 \n",
       "\n",
       "Slot \"intercept\":\n",
       "         s0 \n",
       "0.001029726 \n",
       "\n",
       "Slot \"alpha\":\n",
       "[1] 0.5\n",
       "\n",
       "Slot \"lambda\":\n",
       "[1] 0.008821442\n",
       "\n",
       "Slot \"evaluation_results\":\n",
       "         cor          mse \n",
       "0.4121315834 0.0003801298 \n",
       "\n",
       "Slot \"cv_eval_mode\":\n",
       "[1] \"dynamic\"\n",
       "\n",
       "Slot \"full_model_metrics\":\n",
       "           r          mse \n",
       "0.4363976163 0.0003573054 \n",
       "\n",
       "\n",
       "[[5]]\n",
       "An object of class \"MethylationBase\"\n",
       "Slot \"methylationPosition\":\n",
       "[1] 1987458\n",
       "\n",
       "Slot \"windowSize\":\n",
       "[1] 10000\n",
       "\n",
       "Slot \"n_SNPs\":\n",
       "[1] 42\n",
       "\n",
       "Slot \"glmnetModel\":\n",
       "NULL\n",
       "\n",
       "Slot \"snpWeights\":\n",
       "chr7:1977810:C:T chr7:1981360:G:A chr7:1987676:G:T chr7:1987719:C:T \n",
       "    6.562193e-04    -1.065174e-03    -2.865954e-04    -1.546006e-03 \n",
       "chr7:1987813:T:C chr7:1990232:T:C chr7:1994382:C:T \n",
       "    2.752216e-04    -1.681086e-03     7.484702e-05 \n",
       "\n",
       "Slot \"intercept\":\n",
       "         s0 \n",
       "0.001605236 \n",
       "\n",
       "Slot \"alpha\":\n",
       "[1] 0.5\n",
       "\n",
       "Slot \"lambda\":\n",
       "[1] 0.009979134\n",
       "\n",
       "Slot \"evaluation_results\":\n",
       "         cor          mse \n",
       "0.4072514834 0.0003598551 \n",
       "\n",
       "Slot \"cv_eval_mode\":\n",
       "[1] \"dynamic\"\n",
       "\n",
       "Slot \"full_model_metrics\":\n",
       "          r         mse \n",
       "0.450180574 0.000351837 \n",
       "\n",
       "\n",
       "[[6]]\n",
       "An object of class \"MethylationBase\"\n",
       "Slot \"methylationPosition\":\n",
       "[1] 1987468\n",
       "\n",
       "Slot \"windowSize\":\n",
       "[1] 10000\n",
       "\n",
       "Slot \"n_SNPs\":\n",
       "[1] 42\n",
       "\n",
       "Slot \"glmnetModel\":\n",
       "NULL\n",
       "\n",
       "Slot \"snpWeights\":\n",
       "chr7:1977810:C:T chr7:1981360:G:A chr7:1987676:G:T chr7:1987719:C:T \n",
       "    8.211381e-04    -1.065130e-03    -4.931741e-04    -1.734366e-03 \n",
       "chr7:1987813:T:C chr7:1989994:G:C chr7:1990232:T:C chr7:1990305:T:C \n",
       "    4.291489e-04    -3.093229e-06    -1.854154e-03    -2.760693e-06 \n",
       "chr7:1990372:G:C chr7:1990469:G:A chr7:1994382:C:T \n",
       "   -8.146204e-07    -4.174311e-07     1.260866e-04 \n",
       "\n",
       "Slot \"intercept\":\n",
       "         s0 \n",
       "0.001500799 \n",
       "\n",
       "Slot \"alpha\":\n",
       "[1] 0.5\n",
       "\n",
       "Slot \"lambda\":\n",
       "[1] 0.009382671\n",
       "\n",
       "Slot \"evaluation_results\":\n",
       "         cor          mse \n",
       "0.4402632517 0.0003459439 \n",
       "\n",
       "Slot \"cv_eval_mode\":\n",
       "[1] \"dynamic\"\n",
       "\n",
       "Slot \"full_model_metrics\":\n",
       "           r          mse \n",
       "0.4699198925 0.0003347779 \n",
       "\n",
       "\n",
       "[[7]]\n",
       "An object of class \"MethylationBase\"\n",
       "Slot \"methylationPosition\":\n",
       "[1] 1987492\n",
       "\n",
       "Slot \"windowSize\":\n",
       "[1] 10000\n",
       "\n",
       "Slot \"n_SNPs\":\n",
       "[1] 42\n",
       "\n",
       "Slot \"glmnetModel\":\n",
       "NULL\n",
       "\n",
       "Slot \"snpWeights\":\n",
       "chr7:1977810:C:T chr7:1981360:G:A chr7:1987676:G:T chr7:1987719:C:T \n",
       "    0.0010144031    -0.0010070422    -0.0005649058    -0.0017695393 \n",
       "chr7:1987813:T:C chr7:1989028:A:C chr7:1989994:G:C chr7:1990232:T:C \n",
       "    0.0006299608    -0.0001072540    -0.0001465807    -0.0019710734 \n",
       "chr7:1990305:T:C chr7:1990372:G:C chr7:1990469:G:A chr7:1990652:G:T \n",
       "   -0.0001115881    -0.0001221054    -0.0001422091    -0.0001291903 \n",
       "\n",
       "Slot \"intercept\":\n",
       "        s0 \n",
       "0.00165484 \n",
       "\n",
       "Slot \"alpha\":\n",
       "[1] 0.5\n",
       "\n",
       "Slot \"lambda\":\n",
       "[1] 0.009137397\n",
       "\n",
       "Slot \"evaluation_results\":\n",
       "         cor          mse \n",
       "0.4813446733 0.0003147352 \n",
       "\n",
       "Slot \"cv_eval_mode\":\n",
       "[1] \"dynamic\"\n",
       "\n",
       "Slot \"full_model_metrics\":\n",
       "           r          mse \n",
       "0.5127931751 0.0003025801 \n",
       "\n",
       "\n",
       "[[8]]\n",
       "An object of class \"MethylationBase\"\n",
       "Slot \"methylationPosition\":\n",
       "[1] 1987511\n",
       "\n",
       "Slot \"windowSize\":\n",
       "[1] 10000\n",
       "\n",
       "Slot \"n_SNPs\":\n",
       "[1] 42\n",
       "\n",
       "Slot \"glmnetModel\":\n",
       "NULL\n",
       "\n",
       "Slot \"snpWeights\":\n",
       "chr7:1977810:C:T chr7:1981360:G:A chr7:1987676:G:T chr7:1987719:C:T \n",
       "    0.0017574759    -0.0007964515    -0.0008862193    -0.0022718900 \n",
       "chr7:1987813:T:C chr7:1989028:A:C chr7:1989994:G:C chr7:1990232:T:C \n",
       "    0.0012014698    -0.0001059993    -0.0001506643    -0.0024282460 \n",
       "chr7:1990305:T:C chr7:1990372:G:C chr7:1990469:G:A chr7:1990652:G:T \n",
       "   -0.0001999295    -0.0002396123    -0.0002666130    -0.0002201245 \n",
       "chr7:1994382:C:T chr7:1997034:T:G \n",
       "    0.0005278274    -0.0002072247 \n",
       "\n",
       "Slot \"intercept\":\n",
       "          s0 \n",
       "0.0004844455 \n",
       "\n",
       "Slot \"alpha\":\n",
       "[1] 0.5\n",
       "\n",
       "Slot \"lambda\":\n",
       "[1] 0.006000912\n",
       "\n",
       "Slot \"evaluation_results\":\n",
       "         cor          mse \n",
       "0.5270902911 0.0002797709 \n",
       "\n",
       "Slot \"cv_eval_mode\":\n",
       "[1] \"dynamic\"\n",
       "\n",
       "Slot \"full_model_metrics\":\n",
       "           r          mse \n",
       "0.5490608479 0.0002645749 \n",
       "\n",
       "\n",
       "[[9]]\n",
       "An object of class \"MethylationBase\"\n",
       "Slot \"methylationPosition\":\n",
       "[1] 1987527\n",
       "\n",
       "Slot \"windowSize\":\n",
       "[1] 10000\n",
       "\n",
       "Slot \"n_SNPs\":\n",
       "[1] 42\n",
       "\n",
       "Slot \"glmnetModel\":\n",
       "NULL\n",
       "\n",
       "Slot \"snpWeights\":\n",
       "chr7:1977810:C:T chr7:1981360:G:A chr7:1987676:G:T chr7:1987719:C:T \n",
       "    0.0020287141    -0.0006175443    -0.0010233991    -0.0024641186 \n",
       "chr7:1987813:T:C chr7:1989028:A:C chr7:1989994:G:C chr7:1990232:T:C \n",
       "    0.0014962074    -0.0001975177    -0.0002054185    -0.0026293801 \n",
       "chr7:1990305:T:C chr7:1990372:G:C chr7:1990469:G:A chr7:1990652:G:T \n",
       "   -0.0002026341    -0.0002351713    -0.0002767711    -0.0002540889 \n",
       "chr7:1994382:C:T chr7:1997034:T:G \n",
       "    0.0005847995    -0.0003633864 \n",
       "\n",
       "Slot \"intercept\":\n",
       "          s0 \n",
       "0.0001215946 \n",
       "\n",
       "Slot \"alpha\":\n",
       "[1] 0.5\n",
       "\n",
       "Slot \"lambda\":\n",
       "[1] 0.005147772\n",
       "\n",
       "Slot \"evaluation_results\":\n",
       "         cor          mse \n",
       "0.5565424026 0.0002615935 \n",
       "\n",
       "Slot \"cv_eval_mode\":\n",
       "[1] \"dynamic\"\n",
       "\n",
       "Slot \"full_model_metrics\":\n",
       "           r          mse \n",
       "0.5756242488 0.0002437328 \n",
       "\n",
       "\n",
       "[[10]]\n",
       "An object of class \"MethylationBase\"\n",
       "Slot \"methylationPosition\":\n",
       "[1] 1987565\n",
       "\n",
       "Slot \"windowSize\":\n",
       "[1] 10000\n",
       "\n",
       "Slot \"n_SNPs\":\n",
       "[1] 42\n",
       "\n",
       "Slot \"glmnetModel\":\n",
       "NULL\n",
       "\n",
       "Slot \"snpWeights\":\n",
       "chr7:1977810:C:T chr7:1981360:G:A chr7:1985405:A:G chr7:1987676:G:T \n",
       "    2.045964e-03    -5.284701e-04    -8.284113e-05    -9.076434e-04 \n",
       "chr7:1987719:C:T chr7:1987813:T:C chr7:1989028:A:C chr7:1989994:G:C \n",
       "   -2.270365e-03     1.795725e-03    -4.148451e-04    -4.082031e-04 \n",
       "chr7:1990232:T:C chr7:1990305:T:C chr7:1990372:G:C chr7:1990469:G:A \n",
       "   -2.792011e-03    -3.629714e-04    -3.513782e-04    -3.549183e-04 \n",
       "chr7:1990652:G:T chr7:1994382:C:T chr7:1997034:T:G \n",
       "   -3.119196e-04     1.080580e-04    -5.583295e-04 \n",
       "\n",
       "Slot \"intercept\":\n",
       "          s0 \n",
       "0.0007046039 \n",
       "\n",
       "Slot \"alpha\":\n",
       "[1] 0.5\n",
       "\n",
       "Slot \"lambda\":\n",
       "[1] 0.005474143\n",
       "\n",
       "Slot \"evaluation_results\":\n",
       "         cor          mse \n",
       "0.6057032463 0.0002331966 \n",
       "\n",
       "Slot \"cv_eval_mode\":\n",
       "[1] \"dynamic\"\n",
       "\n",
       "Slot \"full_model_metrics\":\n",
       "           r          mse \n",
       "0.6295804341 0.0002089873 \n",
       "\n",
       "\n",
       "[[11]]\n",
       "An object of class \"MethylationBase\"\n",
       "Slot \"methylationPosition\":\n",
       "[1] 1987604\n",
       "\n",
       "Slot \"windowSize\":\n",
       "[1] 10000\n",
       "\n",
       "Slot \"n_SNPs\":\n",
       "[1] 43\n",
       "\n",
       "Slot \"glmnetModel\":\n",
       "NULL\n",
       "\n",
       "Slot \"snpWeights\":\n",
       "chr7:1977810:C:T chr7:1981360:G:A chr7:1985405:A:G chr7:1987676:G:T \n",
       "    0.0014251843    -0.0005306346    -0.0004944976    -0.0006660618 \n",
       "chr7:1987719:C:T chr7:1987813:T:C chr7:1989028:A:C chr7:1989994:G:C \n",
       "   -0.0016687139     0.0014299668    -0.0003771637    -0.0003601599 \n",
       "chr7:1990232:T:C chr7:1990305:T:C chr7:1990372:G:C chr7:1990469:G:A \n",
       "   -0.0022792456    -0.0003564810    -0.0003406400    -0.0003342177 \n",
       "chr7:1990652:G:T chr7:1997034:T:G chr7:1997580:G:A \n",
       "   -0.0003521594    -0.0002720469    -0.0006946523 \n",
       "\n",
       "Slot \"intercept\":\n",
       "         s0 \n",
       "0.001654674 \n",
       "\n",
       "Slot \"alpha\":\n",
       "[1] 0.5\n",
       "\n",
       "Slot \"lambda\":\n",
       "[1] 0.00827745\n",
       "\n",
       "Slot \"evaluation_results\":\n",
       "         cor          mse \n",
       "0.6499838891 0.0001952045 \n",
       "\n",
       "Slot \"cv_eval_mode\":\n",
       "[1] \"dynamic\"\n",
       "\n",
       "Slot \"full_model_metrics\":\n",
       "           r          mse \n",
       "0.6731535412 0.0001924513 \n",
       "\n",
       "\n",
       "[[12]]\n",
       "An object of class \"MethylationBase\"\n",
       "Slot \"methylationPosition\":\n",
       "[1] 1987616\n",
       "\n",
       "Slot \"windowSize\":\n",
       "[1] 10000\n",
       "\n",
       "Slot \"n_SNPs\":\n",
       "[1] 43\n",
       "\n",
       "Slot \"glmnetModel\":\n",
       "NULL\n",
       "\n",
       "Slot \"snpWeights\":\n",
       "chr7:1977810:C:T chr7:1981360:G:A chr7:1985405:A:G chr7:1987676:G:T \n",
       "    0.0022489749    -0.0002736307    -0.0005531420    -0.0008297734 \n",
       "chr7:1987719:C:T chr7:1987813:T:C chr7:1989028:A:C chr7:1989994:G:C \n",
       "   -0.0020495168     0.0021741596    -0.0003518802    -0.0002840617 \n",
       "chr7:1990232:T:C chr7:1990305:T:C chr7:1990372:G:C chr7:1990469:G:A \n",
       "   -0.0030374195    -0.0002923217    -0.0003142516    -0.0003505980 \n",
       "chr7:1990652:G:T chr7:1997034:T:G chr7:1997580:G:A \n",
       "   -0.0003305941    -0.0005475080    -0.0012120785 \n",
       "\n",
       "Slot \"intercept\":\n",
       "         s0 \n",
       "0.000746538 \n",
       "\n",
       "Slot \"alpha\":\n",
       "[1] 0.5\n",
       "\n",
       "Slot \"lambda\":\n",
       "[1] 0.004777106\n",
       "\n",
       "Slot \"evaluation_results\":\n",
       "         cor          mse \n",
       "0.6630025371 0.0001869302 \n",
       "\n",
       "Slot \"cv_eval_mode\":\n",
       "[1] \"dynamic\"\n",
       "\n",
       "Slot \"full_model_metrics\":\n",
       "           r          mse \n",
       "0.6857034404 0.0001706961 \n",
       "\n",
       "\n",
       "[[13]]\n",
       "An object of class \"MethylationBase\"\n",
       "Slot \"methylationPosition\":\n",
       "[1] 1987627\n",
       "\n",
       "Slot \"windowSize\":\n",
       "[1] 10000\n",
       "\n",
       "Slot \"n_SNPs\":\n",
       "[1] 43\n",
       "\n",
       "Slot \"glmnetModel\":\n",
       "NULL\n",
       "\n",
       "Slot \"snpWeights\":\n",
       "chr7:1977810:C:T chr7:1981360:G:A chr7:1985405:A:G chr7:1987676:G:T \n",
       "    0.0020849749    -0.0002675382    -0.0006707956    -0.0007513172 \n",
       "chr7:1987719:C:T chr7:1987813:T:C chr7:1989028:A:C chr7:1989994:G:C \n",
       "   -0.0018934582     0.0021196548    -0.0004118906    -0.0003383237 \n",
       "chr7:1990232:T:C chr7:1990305:T:C chr7:1990372:G:C chr7:1990469:G:A \n",
       "   -0.0029381839    -0.0003370482    -0.0003409734    -0.0003629117 \n",
       "chr7:1990652:G:T chr7:1997034:T:G chr7:1997580:G:A \n",
       "   -0.0003392514    -0.0005377442    -0.0011231298 \n",
       "\n",
       "Slot \"intercept\":\n",
       "          s0 \n",
       "0.0009437529 \n",
       "\n",
       "Slot \"alpha\":\n",
       "[1] 0.5\n",
       "\n",
       "Slot \"lambda\":\n",
       "[1] 0.005275252\n",
       "\n",
       "Slot \"evaluation_results\":\n",
       "         cor          mse \n",
       "0.6931298114 0.0001753404 \n",
       "\n",
       "Slot \"cv_eval_mode\":\n",
       "[1] \"dynamic\"\n",
       "\n",
       "Slot \"full_model_metrics\":\n",
       "           r          mse \n",
       "0.6942800572 0.0001665663 \n",
       "\n",
       "\n",
       "[[14]]\n",
       "An object of class \"MethylationBase\"\n",
       "Slot \"methylationPosition\":\n",
       "[1] 1987648\n",
       "\n",
       "Slot \"windowSize\":\n",
       "[1] 10000\n",
       "\n",
       "Slot \"n_SNPs\":\n",
       "[1] 43\n",
       "\n",
       "Slot \"glmnetModel\":\n",
       "NULL\n",
       "\n",
       "Slot \"snpWeights\":\n",
       "chr7:1977810:C:T chr7:1981360:G:A chr7:1985405:A:G chr7:1987676:G:T \n",
       "    0.0017693466    -0.0002854540    -0.0008886351    -0.0006806168 \n",
       "chr7:1987719:C:T chr7:1987813:T:C chr7:1989028:A:C chr7:1989994:G:C \n",
       "   -0.0016437892     0.0019248683    -0.0004540666    -0.0004139065 \n",
       "chr7:1990232:T:C chr7:1990305:T:C chr7:1990372:G:C chr7:1990469:G:A \n",
       "   -0.0026897761    -0.0003971432    -0.0003776662    -0.0003670362 \n",
       "chr7:1990652:G:T chr7:1997034:T:G chr7:1997580:G:A \n",
       "   -0.0003885458    -0.0004731502    -0.0009085642 \n",
       "\n",
       "Slot \"intercept\":\n",
       "         s0 \n",
       "0.001365188 \n",
       "\n",
       "Slot \"alpha\":\n",
       "[1] 0.5\n",
       "\n",
       "Slot \"lambda\":\n",
       "[1] 0.006402548\n",
       "\n",
       "Slot \"evaluation_results\":\n",
       "         cor          mse \n",
       "0.6779923877 0.0001695074 \n",
       "\n",
       "Slot \"cv_eval_mode\":\n",
       "[1] \"dynamic\"\n",
       "\n",
       "Slot \"full_model_metrics\":\n",
       "           r          mse \n",
       "0.7073356081 0.0001615619 \n",
       "\n",
       "\n",
       "[[15]]\n",
       "An object of class \"MethylationBase\"\n",
       "Slot \"methylationPosition\":\n",
       "[1] 1987656\n",
       "\n",
       "Slot \"windowSize\":\n",
       "[1] 10000\n",
       "\n",
       "Slot \"n_SNPs\":\n",
       "[1] 43\n",
       "\n",
       "Slot \"glmnetModel\":\n",
       "NULL\n",
       "\n",
       "Slot \"snpWeights\":\n",
       "chr7:1977810:C:T chr7:1981360:G:A chr7:1985405:A:G chr7:1987676:G:T \n",
       "    0.0018859749    -0.0002148662    -0.0009731247    -0.0006851110 \n",
       "chr7:1987719:C:T chr7:1987813:T:C chr7:1989028:A:C chr7:1989994:G:C \n",
       "   -0.0016392435     0.0020542618    -0.0004506071    -0.0004120992 \n",
       "chr7:1990232:T:C chr7:1990305:T:C chr7:1990372:G:C chr7:1990469:G:A \n",
       "   -0.0028258327    -0.0003768272    -0.0003682256    -0.0003767541 \n",
       "chr7:1990652:G:T chr7:1997034:T:G chr7:1997580:G:A \n",
       "   -0.0004026310    -0.0005517853    -0.0009751981 \n",
       "\n",
       "Slot \"intercept\":\n",
       "         s0 \n",
       "0.001235684 \n",
       "\n",
       "Slot \"alpha\":\n",
       "[1] 0.5\n",
       "\n",
       "Slot \"lambda\":\n",
       "[1] 0.005842592\n",
       "\n",
       "Slot \"evaluation_results\":\n",
       "         cor          mse \n",
       "0.6924522268 0.0001629695 \n",
       "\n",
       "Slot \"cv_eval_mode\":\n",
       "[1] \"dynamic\"\n",
       "\n",
       "Slot \"full_model_metrics\":\n",
       "           r          mse \n",
       "0.7116865946 0.0001563962 \n",
       "\n",
       "\n",
       "[[16]]\n",
       "An object of class \"MethylationBase\"\n",
       "Slot \"methylationPosition\":\n",
       "[1] 1987659\n",
       "\n",
       "Slot \"windowSize\":\n",
       "[1] 10000\n",
       "\n",
       "Slot \"n_SNPs\":\n",
       "[1] 43\n",
       "\n",
       "Slot \"glmnetModel\":\n",
       "NULL\n",
       "\n",
       "Slot \"snpWeights\":\n",
       "chr7:1977810:C:T chr7:1981360:G:A chr7:1985405:A:G chr7:1987676:G:T \n",
       "    0.0017459431    -0.0002412441    -0.0009840274    -0.0006566104 \n",
       "chr7:1987719:C:T chr7:1987813:T:C chr7:1989028:A:C chr7:1989994:G:C \n",
       "   -0.0015758005     0.0019458829    -0.0004551832    -0.0004154621 \n",
       "chr7:1990232:T:C chr7:1990305:T:C chr7:1990372:G:C chr7:1990469:G:A \n",
       "   -0.0026933967    -0.0003943306    -0.0003810405    -0.0003824744 \n",
       "chr7:1990652:G:T chr7:1997034:T:G chr7:1997580:G:A \n",
       "   -0.0004061298    -0.0005126033    -0.0008979973 \n",
       "\n",
       "Slot \"intercept\":\n",
       "        s0 \n",
       "0.00138591 \n",
       "\n",
       "Slot \"alpha\":\n",
       "[1] 0.5\n",
       "\n",
       "Slot \"lambda\":\n",
       "[1] 0.006414648\n",
       "\n",
       "Slot \"evaluation_results\":\n",
       "         cor          mse \n",
       "0.6996990149 0.0001628488 \n",
       "\n",
       "Slot \"cv_eval_mode\":\n",
       "[1] \"dynamic\"\n",
       "\n",
       "Slot \"full_model_metrics\":\n",
       "           r          mse \n",
       "0.7128091267 0.0001576599 \n",
       "\n",
       "\n",
       "[[17]]\n",
       "An object of class \"MethylationBase\"\n",
       "Slot \"methylationPosition\":\n",
       "[1] 1987665\n",
       "\n",
       "Slot \"windowSize\":\n",
       "[1] 10000\n",
       "\n",
       "Slot \"n_SNPs\":\n",
       "[1] 43\n",
       "\n",
       "Slot \"glmnetModel\":\n",
       "NULL\n",
       "\n",
       "Slot \"snpWeights\":\n",
       "chr7:1977810:C:T chr7:1981360:G:A chr7:1985405:A:G chr7:1987676:G:T \n",
       "    0.0013065710    -0.0002617573    -0.0009195633    -0.0005553143 \n",
       "chr7:1987719:C:T chr7:1987813:T:C chr7:1989028:A:C chr7:1989994:G:C \n",
       "   -0.0013953080     0.0015889602    -0.0004587415    -0.0004044833 \n",
       "chr7:1990232:T:C chr7:1990305:T:C chr7:1990372:G:C chr7:1990469:G:A \n",
       "   -0.0022958092    -0.0004307195    -0.0004224953    -0.0004081622 \n",
       "chr7:1990652:G:T chr7:1997034:T:G chr7:1997580:G:A \n",
       "   -0.0003900214    -0.0003495461    -0.0006763837 \n",
       "\n",
       "Slot \"intercept\":\n",
       "         s0 \n",
       "0.001735891 \n",
       "\n",
       "Slot \"alpha\":\n",
       "[1] 0.5\n",
       "\n",
       "Slot \"lambda\":\n",
       "[1] 0.008483553\n",
       "\n",
       "Slot \"evaluation_results\":\n",
       "         cor          mse \n",
       "0.6994977506 0.0001609081 \n",
       "\n",
       "Slot \"cv_eval_mode\":\n",
       "[1] \"dynamic\"\n",
       "\n",
       "Slot \"full_model_metrics\":\n",
       "           r          mse \n",
       "0.7143547852 0.0001655364 \n",
       "\n",
       "\n",
       "[[18]]\n",
       "An object of class \"MethylationBase\"\n",
       "Slot \"methylationPosition\":\n",
       "[1] 1987669\n",
       "\n",
       "Slot \"windowSize\":\n",
       "[1] 10000\n",
       "\n",
       "Slot \"n_SNPs\":\n",
       "[1] 43\n",
       "\n",
       "Slot \"glmnetModel\":\n",
       "NULL\n",
       "\n",
       "Slot \"snpWeights\":\n",
       "chr7:1977810:C:T chr7:1985405:A:G chr7:1987676:G:T chr7:1987719:C:T \n",
       "    0.0020724603    -0.0010519394    -0.0006617194    -0.0016552642 \n",
       "chr7:1987813:T:C chr7:1989028:A:C chr7:1989994:G:C chr7:1990232:T:C \n",
       "    0.0023702836    -0.0004610604    -0.0003581902    -0.0031264596 \n",
       "chr7:1990305:T:C chr7:1990372:G:C chr7:1990469:G:A chr7:1990652:G:T \n",
       "   -0.0003603022    -0.0003691810    -0.0003958934    -0.0003566813 \n",
       "chr7:1997034:T:G chr7:1997580:G:A \n",
       "   -0.0006714860    -0.0011737535 \n",
       "\n",
       "Slot \"intercept\":\n",
       "          s0 \n",
       "0.0008464313 \n",
       "\n",
       "Slot \"alpha\":\n",
       "[1] 0.5\n",
       "\n",
       "Slot \"lambda\":\n",
       "[1] 0.004854945\n",
       "\n",
       "Slot \"evaluation_results\":\n",
       "         cor          mse \n",
       "0.7177405140 0.0001536628 \n",
       "\n",
       "Slot \"cv_eval_mode\":\n",
       "[1] \"dynamic\"\n",
       "\n",
       "Slot \"full_model_metrics\":\n",
       "           r          mse \n",
       "0.7176165743 0.0001488196 \n",
       "\n",
       "\n",
       "[[19]]\n",
       "An object of class \"MethylationBase\"\n",
       "Slot \"methylationPosition\":\n",
       "[1] 1987680\n",
       "\n",
       "Slot \"windowSize\":\n",
       "[1] 10000\n",
       "\n",
       "Slot \"n_SNPs\":\n",
       "[1] 43\n",
       "\n",
       "Slot \"glmnetModel\":\n",
       "NULL\n",
       "\n",
       "Slot \"snpWeights\":\n",
       "chr7:1977810:C:T chr7:1985405:A:G chr7:1987676:G:T chr7:1987719:C:T \n",
       "    0.0022683175    -0.0011955579    -0.0006857554    -0.0016393001 \n",
       "chr7:1987813:T:C chr7:1989028:A:C chr7:1989994:G:C chr7:1990232:T:C \n",
       "    0.0026421462    -0.0004617893    -0.0003223518    -0.0035185947 \n",
       "chr7:1990305:T:C chr7:1990372:G:C chr7:1990469:G:A chr7:1990652:G:T \n",
       "   -0.0003072667    -0.0003016903    -0.0003222281    -0.0002791995 \n",
       "chr7:1997034:T:G chr7:1997580:G:A \n",
       "   -0.0007746182    -0.0014337042 \n",
       "\n",
       "Slot \"intercept\":\n",
       "          s0 \n",
       "0.0006600652 \n",
       "\n",
       "Slot \"alpha\":\n",
       "[1] 0.5\n",
       "\n",
       "Slot \"lambda\":\n",
       "[1] 0.003669947\n",
       "\n",
       "Slot \"evaluation_results\":\n",
       "         cor          mse \n",
       "0.7053000619 0.0001594082 \n",
       "\n",
       "Slot \"cv_eval_mode\":\n",
       "[1] \"dynamic\"\n",
       "\n",
       "Slot \"full_model_metrics\":\n",
       "           r          mse \n",
       "0.7213705496 0.0001425588 \n",
       "\n",
       "\n",
       "[[20]]\n",
       "An object of class \"MethylationBase\"\n",
       "Slot \"methylationPosition\":\n",
       "[1] 1987684\n",
       "\n",
       "Slot \"windowSize\":\n",
       "[1] 10000\n",
       "\n",
       "Slot \"n_SNPs\":\n",
       "[1] 43\n",
       "\n",
       "Slot \"glmnetModel\":\n",
       "NULL\n",
       "\n",
       "Slot \"snpWeights\":\n",
       "chr7:1977810:C:T chr7:1981360:G:A chr7:1985405:A:G chr7:1987676:G:T \n",
       "    0.0016791891    -0.0001222820    -0.0011795952    -0.0006025302 \n",
       "chr7:1987719:C:T chr7:1987813:T:C chr7:1989028:A:C chr7:1989994:G:C \n",
       "   -0.0014339578     0.0020076615    -0.0004759301    -0.0004247678 \n",
       "chr7:1990232:T:C chr7:1990305:T:C chr7:1990372:G:C chr7:1990469:G:A \n",
       "   -0.0027124805    -0.0004079407    -0.0003934628    -0.0003929318 \n",
       "chr7:1990652:G:T chr7:1997034:T:G chr7:1997580:G:A \n",
       "   -0.0004146371    -0.0005471730    -0.0008802237 \n",
       "\n",
       "Slot \"intercept\":\n",
       "         s0 \n",
       "0.001387871 \n",
       "\n",
       "Slot \"alpha\":\n",
       "[1] 0.5\n",
       "\n",
       "Slot \"lambda\":\n",
       "[1] 0.006409557\n",
       "\n",
       "Slot \"evaluation_results\":\n",
       "         cor          mse \n",
       "0.7077457419 0.0001535219 \n",
       "\n",
       "Slot \"cv_eval_mode\":\n",
       "[1] \"dynamic\"\n",
       "\n",
       "Slot \"full_model_metrics\":\n",
       "           r          mse \n",
       "0.7210786627 0.0001508719 \n",
       "\n",
       "\n",
       "[[21]]\n",
       "An object of class \"MethylationBase\"\n",
       "Slot \"methylationPosition\":\n",
       "[1] 1987688\n",
       "\n",
       "Slot \"windowSize\":\n",
       "[1] 10000\n",
       "\n",
       "Slot \"n_SNPs\":\n",
       "[1] 43\n",
       "\n",
       "Slot \"glmnetModel\":\n",
       "NULL\n",
       "\n",
       "Slot \"snpWeights\":\n",
       "chr7:1977810:C:T chr7:1981360:G:A chr7:1985405:A:G chr7:1987676:G:T \n",
       "    0.0015341888    -0.0001335967    -0.0011731943    -0.0005808632 \n",
       "chr7:1987719:C:T chr7:1987813:T:C chr7:1989028:A:C chr7:1989994:G:C \n",
       "   -0.0013843247     0.0018965919    -0.0004836280    -0.0004251278 \n",
       "chr7:1990232:T:C chr7:1990305:T:C chr7:1990372:G:C chr7:1990469:G:A \n",
       "   -0.0025799222    -0.0004287680    -0.0004086401    -0.0003930992 \n",
       "chr7:1990652:G:T chr7:1997034:T:G chr7:1997580:G:A \n",
       "   -0.0004067944    -0.0004722462    -0.0008072779 \n",
       "\n",
       "Slot \"intercept\":\n",
       "         s0 \n",
       "0.001513175 \n",
       "\n",
       "Slot \"alpha\":\n",
       "[1] 0.5\n",
       "\n",
       "Slot \"lambda\":\n",
       "[1] 0.007029122\n",
       "\n",
       "Slot \"evaluation_results\":\n",
       "         cor          mse \n",
       "0.7234733770 0.0001534427 \n",
       "\n",
       "Slot \"cv_eval_mode\":\n",
       "[1] \"dynamic\"\n",
       "\n",
       "Slot \"full_model_metrics\":\n",
       "          r         mse \n",
       "0.721578903 0.000152739 \n",
       "\n",
       "\n",
       "[[22]]\n",
       "An object of class \"MethylationBase\"\n",
       "Slot \"methylationPosition\":\n",
       "[1] 1987697\n",
       "\n",
       "Slot \"windowSize\":\n",
       "[1] 10000\n",
       "\n",
       "Slot \"n_SNPs\":\n",
       "[1] 43\n",
       "\n",
       "Slot \"glmnetModel\":\n",
       "NULL\n",
       "\n",
       "Slot \"snpWeights\":\n",
       "chr7:1977810:C:T chr7:1981360:G:A chr7:1985405:A:G chr7:1987676:G:T \n",
       "    1.766633e-03    -1.356082e-05    -1.308392e-03    -5.852785e-04 \n",
       "chr7:1987719:C:T chr7:1987813:T:C chr7:1989028:A:C chr7:1989994:G:C \n",
       "   -1.382833e-03     2.157841e-03    -4.861809e-04    -4.304799e-04 \n",
       "chr7:1990232:T:C chr7:1990305:T:C chr7:1990372:G:C chr7:1990469:G:A \n",
       "   -2.864742e-03    -3.952928e-04    -3.856914e-04    -3.937356e-04 \n",
       "chr7:1990652:G:T chr7:1997034:T:G chr7:1997580:G:A \n",
       "   -4.194693e-04    -6.100313e-04    -9.391757e-04 \n",
       "\n",
       "Slot \"intercept\":\n",
       "        s0 \n",
       "0.00123549 \n",
       "\n",
       "Slot \"alpha\":\n",
       "[1] 0.5\n",
       "\n",
       "Slot \"lambda\":\n",
       "[1] 0.005822071\n",
       "\n",
       "Slot \"evaluation_results\":\n",
       "         cor          mse \n",
       "0.7090960984 0.0001570407 \n",
       "\n",
       "Slot \"cv_eval_mode\":\n",
       "[1] \"dynamic\"\n",
       "\n",
       "Slot \"full_model_metrics\":\n",
       "           r          mse \n",
       "0.7233952884 0.0001461582 \n",
       "\n",
       "\n",
       "[[23]]\n",
       "An object of class \"MethylationBase\"\n",
       "Slot \"methylationPosition\":\n",
       "[1] 1987705\n",
       "\n",
       "Slot \"windowSize\":\n",
       "[1] 10000\n",
       "\n",
       "Slot \"n_SNPs\":\n",
       "[1] 43\n",
       "\n",
       "Slot \"glmnetModel\":\n",
       "NULL\n",
       "\n",
       "Slot \"snpWeights\":\n",
       "chr7:1977810:C:T chr7:1981360:G:A chr7:1985405:A:G chr7:1987676:G:T \n",
       "    0.0016193579    -0.0000199456    -0.0013378941    -0.0005552663 \n",
       "chr7:1987719:C:T chr7:1987813:T:C chr7:1989028:A:C chr7:1989994:G:C \n",
       "   -0.0013126662     0.0020545307    -0.0004878128    -0.0004296446 \n",
       "chr7:1990232:T:C chr7:1990305:T:C chr7:1990372:G:C chr7:1990469:G:A \n",
       "   -0.0027297870    -0.0004106546    -0.0003951187    -0.0003944455 \n",
       "chr7:1990652:G:T chr7:1997034:T:G chr7:1997580:G:A \n",
       "   -0.0004166000    -0.0005684879    -0.0008608258 \n",
       "\n",
       "Slot \"intercept\":\n",
       "         s0 \n",
       "0.001365491 \n",
       "\n",
       "Slot \"alpha\":\n",
       "[1] 0.5\n",
       "\n",
       "Slot \"lambda\":\n",
       "[1] 0.006371887\n",
       "\n",
       "Slot \"evaluation_results\":\n",
       "         cor          mse \n",
       "0.7221457742 0.0001536332 \n",
       "\n",
       "Slot \"cv_eval_mode\":\n",
       "[1] \"dynamic\"\n",
       "\n",
       "Slot \"full_model_metrics\":\n",
       "          r         mse \n",
       "0.723651899 0.000147256 \n",
       "\n",
       "\n",
       "[[24]]\n",
       "An object of class \"MethylationBase\"\n",
       "Slot \"methylationPosition\":\n",
       "[1] 1987725\n",
       "\n",
       "Slot \"windowSize\":\n",
       "[1] 10000\n",
       "\n",
       "Slot \"n_SNPs\":\n",
       "[1] 43\n",
       "\n",
       "Slot \"glmnetModel\":\n",
       "NULL\n",
       "\n",
       "Slot \"snpWeights\":\n",
       "chr7:1977810:C:T chr7:1985405:A:G chr7:1987676:G:T chr7:1987719:C:T \n",
       "    0.0014289121    -0.0014298322    -0.0004881161    -0.0011759305 \n",
       "chr7:1987813:T:C chr7:1989028:A:C chr7:1989994:G:C chr7:1990232:T:C \n",
       "    0.0019616656    -0.0004933863    -0.0004209261    -0.0025978026 \n",
       "chr7:1990305:T:C chr7:1990372:G:C chr7:1990469:G:A chr7:1990652:G:T \n",
       "   -0.0004331925    -0.0004121757    -0.0003928852    -0.0004017929 \n",
       "chr7:1997034:T:G chr7:1997580:G:A \n",
       "   -0.0004986066    -0.0007775338 \n",
       "\n",
       "Slot \"intercept\":\n",
       "         s0 \n",
       "0.001480046 \n",
       "\n",
       "Slot \"alpha\":\n",
       "[1] 0.5\n",
       "\n",
       "Slot \"lambda\":\n",
       "[1] 0.006924451\n",
       "\n",
       "Slot \"evaluation_results\":\n",
       "        cor         mse \n",
       "0.705027499 0.000150768 \n",
       "\n",
       "Slot \"cv_eval_mode\":\n",
       "[1] \"dynamic\"\n",
       "\n",
       "Slot \"full_model_metrics\":\n",
       "          r         mse \n",
       "0.722203318 0.000148067 \n",
       "\n",
       "\n",
       "[[25]]\n",
       "An object of class \"MethylationBase\"\n",
       "Slot \"methylationPosition\":\n",
       "[1] 1987732\n",
       "\n",
       "Slot \"windowSize\":\n",
       "[1] 10000\n",
       "\n",
       "Slot \"n_SNPs\":\n",
       "[1] 43\n",
       "\n",
       "Slot \"glmnetModel\":\n",
       "NULL\n",
       "\n",
       "Slot \"snpWeights\":\n",
       "chr7:1977810:C:T chr7:1985405:A:G chr7:1987676:G:T chr7:1987719:C:T \n",
       "    0.0016129100    -0.0015986406    -0.0004836858    -0.0011395638 \n",
       "chr7:1987813:T:C chr7:1989028:A:C chr7:1989994:G:C chr7:1990232:T:C \n",
       "    0.0021912404    -0.0004890519    -0.0004147636    -0.0028643521 \n",
       "chr7:1990305:T:C chr7:1990372:G:C chr7:1990469:G:A chr7:1990652:G:T \n",
       "   -0.0003988960    -0.0003832954    -0.0003819584    -0.0003997200 \n",
       "chr7:1997034:T:G chr7:1997580:G:A \n",
       "   -0.0006381879    -0.0009071653 \n",
       "\n",
       "Slot \"intercept\":\n",
       "         s0 \n",
       "0.001339449 \n",
       "\n",
       "Slot \"alpha\":\n",
       "[1] 0.5\n",
       "\n",
       "Slot \"lambda\":\n",
       "[1] 0.005723499\n",
       "\n",
       "Slot \"evaluation_results\":\n",
       "         cor          mse \n",
       "0.7187882929 0.0001501205 \n",
       "\n",
       "Slot \"cv_eval_mode\":\n",
       "[1] \"dynamic\"\n",
       "\n",
       "Slot \"full_model_metrics\":\n",
       "           r          mse \n",
       "0.7214727146 0.0001429784 \n",
       "\n",
       "\n",
       "[[26]]\n",
       "An object of class \"MethylationBase\"\n",
       "Slot \"methylationPosition\":\n",
       "[1] 1987778\n",
       "\n",
       "Slot \"windowSize\":\n",
       "[1] 10000\n",
       "\n",
       "Slot \"n_SNPs\":\n",
       "[1] 43\n",
       "\n",
       "Slot \"glmnetModel\":\n",
       "NULL\n",
       "\n",
       "Slot \"snpWeights\":\n",
       "chr7:1977810:C:T chr7:1985405:A:G chr7:1987676:G:T chr7:1987719:C:T \n",
       "    0.0012273614    -0.0018231513    -0.0002901998    -0.0007717833 \n",
       "chr7:1987813:T:C chr7:1989028:A:C chr7:1989994:G:C chr7:1990232:T:C \n",
       "    0.0019753175    -0.0004283239    -0.0003780690    -0.0025705919 \n",
       "chr7:1990305:T:C chr7:1990372:G:C chr7:1990469:G:A chr7:1990652:G:T \n",
       "   -0.0003989013    -0.0004191943    -0.0004260381    -0.0003882486 \n",
       "chr7:1997034:T:G chr7:1997580:G:A \n",
       "   -0.0005464738    -0.0007096339 \n",
       "\n",
       "Slot \"intercept\":\n",
       "         s0 \n",
       "0.001534115 \n",
       "\n",
       "Slot \"alpha\":\n",
       "[1] 0.5\n",
       "\n",
       "Slot \"lambda\":\n",
       "[1] 0.006617324\n",
       "\n",
       "Slot \"evaluation_results\":\n",
       "         cor          mse \n",
       "0.6974671050 0.0001569471 \n",
       "\n",
       "Slot \"cv_eval_mode\":\n",
       "[1] \"dynamic\"\n",
       "\n",
       "Slot \"full_model_metrics\":\n",
       "           r          mse \n",
       "0.7034663365 0.0001495534 \n",
       "\n",
       "\n",
       "[[27]]\n",
       "An object of class \"MethylationBase\"\n",
       "Slot \"methylationPosition\":\n",
       "[1] 1987797\n",
       "\n",
       "Slot \"windowSize\":\n",
       "[1] 10000\n",
       "\n",
       "Slot \"n_SNPs\":\n",
       "[1] 43\n",
       "\n",
       "Slot \"glmnetModel\":\n",
       "NULL\n",
       "\n",
       "Slot \"snpWeights\":\n",
       "chr7:1977810:C:T chr7:1985405:A:G chr7:1987676:G:T chr7:1987719:C:T \n",
       "    0.0011457969    -0.0019600364    -0.0002354619    -0.0006412988 \n",
       "chr7:1987813:T:C chr7:1989028:A:C chr7:1989994:G:C chr7:1990232:T:C \n",
       "    0.0019825660    -0.0004147492    -0.0003601477    -0.0025695860 \n",
       "chr7:1990305:T:C chr7:1990372:G:C chr7:1990469:G:A chr7:1990652:G:T \n",
       "   -0.0003804933    -0.0003985445    -0.0004029339    -0.0003621013 \n",
       "chr7:1997034:T:G chr7:1997580:G:A \n",
       "   -0.0005415754    -0.0006862434 \n",
       "\n",
       "Slot \"intercept\":\n",
       "         s0 \n",
       "0.001527207 \n",
       "\n",
       "Slot \"alpha\":\n",
       "[1] 0.5\n",
       "\n",
       "Slot \"lambda\":\n",
       "[1] 0.006468265\n",
       "\n",
       "Slot \"evaluation_results\":\n",
       "         cor          mse \n",
       "0.6893318990 0.0001527793 \n",
       "\n",
       "Slot \"cv_eval_mode\":\n",
       "[1] \"dynamic\"\n",
       "\n",
       "Slot \"full_model_metrics\":\n",
       "           r          mse \n",
       "0.6918384494 0.0001519294 \n",
       "\n",
       "\n",
       "[[28]]\n",
       "An object of class \"MethylationBase\"\n",
       "Slot \"methylationPosition\":\n",
       "[1] 1987808\n",
       "\n",
       "Slot \"windowSize\":\n",
       "[1] 10000\n",
       "\n",
       "Slot \"n_SNPs\":\n",
       "[1] 43\n",
       "\n",
       "Slot \"glmnetModel\":\n",
       "NULL\n",
       "\n",
       "Slot \"snpWeights\":\n",
       "chr7:1977810:C:T chr7:1985405:A:G chr7:1987676:G:T chr7:1987719:C:T \n",
       "    0.0012907772    -0.0022868362    -0.0002027236    -0.0004935185 \n",
       "chr7:1987813:T:C chr7:1989028:A:C chr7:1989994:G:C chr7:1990232:T:C \n",
       "    0.0023369734    -0.0004895798    -0.0003234969    -0.0030144396 \n",
       "chr7:1990305:T:C chr7:1990372:G:C chr7:1990469:G:A chr7:1990652:G:T \n",
       "   -0.0003165648    -0.0003173589    -0.0003387826    -0.0002872012 \n",
       "chr7:1997034:T:G chr7:1997580:G:A \n",
       "   -0.0007119865    -0.0008843222 \n",
       "\n",
       "Slot \"intercept\":\n",
       "        s0 \n",
       "0.00138438 \n",
       "\n",
       "Slot \"alpha\":\n",
       "[1] 0.5\n",
       "\n",
       "Slot \"lambda\":\n",
       "[1] 0.00482167\n",
       "\n",
       "Slot \"evaluation_results\":\n",
       "         cor          mse \n",
       "0.6743729511 0.0001610986 \n",
       "\n",
       "Slot \"cv_eval_mode\":\n",
       "[1] \"dynamic\"\n",
       "\n",
       "Slot \"full_model_metrics\":\n",
       "           r          mse \n",
       "0.6847547573 0.0001479554 \n",
       "\n",
       "\n",
       "[[29]]\n",
       "An object of class \"MethylationBase\"\n",
       "Slot \"methylationPosition\":\n",
       "[1] 1987853\n",
       "\n",
       "Slot \"windowSize\":\n",
       "[1] 10000\n",
       "\n",
       "Slot \"n_SNPs\":\n",
       "[1] 42\n",
       "\n",
       "Slot \"glmnetModel\":\n",
       "NULL\n",
       "\n",
       "Slot \"snpWeights\":\n",
       "chr7:1985405:A:G chr7:1987676:G:T chr7:1987719:C:T chr7:1987813:T:C \n",
       "   -0.0026263623    -0.0000621759    -0.0001981075     0.0026875168 \n",
       "chr7:1989028:A:C chr7:1989994:G:C chr7:1990232:T:C chr7:1990305:T:C \n",
       "   -0.0004119898    -0.0003108708    -0.0028456797    -0.0002795313 \n",
       "chr7:1990372:G:C chr7:1990469:G:A chr7:1990652:G:T chr7:1997034:T:G \n",
       "   -0.0002682023    -0.0002648376    -0.0002778758    -0.0005973675 \n",
       "chr7:1997580:G:A \n",
       "   -0.0006522581 \n",
       "\n",
       "Slot \"intercept\":\n",
       "         s0 \n",
       "0.002022699 \n",
       "\n",
       "Slot \"alpha\":\n",
       "[1] 0.5\n",
       "\n",
       "Slot \"lambda\":\n",
       "[1] 0.005408306\n",
       "\n",
       "Slot \"evaluation_results\":\n",
       "         cor          mse \n",
       "0.6363229114 0.0001757417 \n",
       "\n",
       "Slot \"cv_eval_mode\":\n",
       "[1] \"dynamic\"\n",
       "\n",
       "Slot \"full_model_metrics\":\n",
       "          r         mse \n",
       "0.645594050 0.000160978 \n",
       "\n",
       "\n",
       "[[30]]\n",
       "An object of class \"MethylationBase\"\n",
       "Slot \"methylationPosition\":\n",
       "[1] 1987858\n",
       "\n",
       "Slot \"windowSize\":\n",
       "[1] 10000\n",
       "\n",
       "Slot \"n_SNPs\":\n",
       "[1] 42\n",
       "\n",
       "Slot \"glmnetModel\":\n",
       "NULL\n",
       "\n",
       "Slot \"snpWeights\":\n",
       "chr7:1985405:A:G chr7:1987676:G:T chr7:1987719:C:T chr7:1987813:T:C \n",
       "   -2.154411e-03    -9.086151e-05    -3.427787e-04     1.968377e-03 \n",
       "chr7:1989028:A:C chr7:1989994:G:C chr7:1990232:T:C chr7:1990305:T:C \n",
       "   -3.600114e-04    -2.856417e-04    -2.230385e-03    -2.905449e-04 \n",
       "chr7:1990372:G:C chr7:1990469:G:A chr7:1990652:G:T chr7:1997034:T:G \n",
       "   -2.784836e-04    -2.653508e-04    -2.670035e-04    -3.434665e-04 \n",
       "chr7:1997580:G:A \n",
       "   -3.987238e-04 \n",
       "\n",
       "Slot \"intercept\":\n",
       "         s0 \n",
       "0.001987685 \n",
       "\n",
       "Slot \"alpha\":\n",
       "[1] 0.5\n",
       "\n",
       "Slot \"lambda\":\n",
       "[1] 0.007776195\n",
       "\n",
       "Slot \"evaluation_results\":\n",
       "         cor          mse \n",
       "0.6306679449 0.0001698784 \n",
       "\n",
       "Slot \"cv_eval_mode\":\n",
       "[1] \"dynamic\"\n",
       "\n",
       "Slot \"full_model_metrics\":\n",
       "           r          mse \n",
       "0.6395645713 0.0001723366 \n",
       "\n",
       "\n",
       "[[31]]\n",
       "An object of class \"MethylationBase\"\n",
       "Slot \"methylationPosition\":\n",
       "[1] 1987861\n",
       "\n",
       "Slot \"windowSize\":\n",
       "[1] 10000\n",
       "\n",
       "Slot \"n_SNPs\":\n",
       "[1] 42\n",
       "\n",
       "Slot \"glmnetModel\":\n",
       "NULL\n",
       "\n",
       "Slot \"snpWeights\":\n",
       "chr7:1985405:A:G chr7:1987676:G:T chr7:1987719:C:T chr7:1987813:T:C \n",
       "   -2.560522e-03    -5.072679e-05    -1.873916e-04     2.507212e-03 \n",
       "chr7:1989028:A:C chr7:1989994:G:C chr7:1990232:T:C chr7:1990305:T:C \n",
       "   -3.929279e-04    -2.996431e-04    -2.688837e-03    -2.748759e-04 \n",
       "chr7:1990372:G:C chr7:1990469:G:A chr7:1990652:G:T chr7:1997034:T:G \n",
       "   -2.639458e-04    -2.590806e-04    -2.670017e-04    -5.334052e-04 \n",
       "chr7:1997580:G:A \n",
       "   -5.800585e-04 \n",
       "\n",
       "Slot \"intercept\":\n",
       "         s0 \n",
       "0.001984336 \n",
       "\n",
       "Slot \"alpha\":\n",
       "[1] 0.5\n",
       "\n",
       "Slot \"lambda\":\n",
       "[1] 0.005850125\n",
       "\n",
       "Slot \"evaluation_results\":\n",
       "         cor          mse \n",
       "0.6286667832 0.0001765853 \n",
       "\n",
       "Slot \"cv_eval_mode\":\n",
       "[1] \"dynamic\"\n",
       "\n",
       "Slot \"full_model_metrics\":\n",
       "           r          mse \n",
       "0.6376195337 0.0001647483 \n",
       "\n",
       "\n",
       "[[32]]\n",
       "An object of class \"MethylationBase\"\n",
       "Slot \"methylationPosition\":\n",
       "[1] 1987896\n",
       "\n",
       "Slot \"windowSize\":\n",
       "[1] 10000\n",
       "\n",
       "Slot \"n_SNPs\":\n",
       "[1] 42\n",
       "\n",
       "Slot \"glmnetModel\":\n",
       "NULL\n",
       "\n",
       "Slot \"snpWeights\":\n",
       "chr7:1985405:A:G chr7:1987719:C:T chr7:1987813:T:C chr7:1989028:A:C \n",
       "   -2.359503e-03    -6.070223e-05     1.923410e-03    -3.079135e-04 \n",
       "chr7:1989994:G:C chr7:1990232:T:C chr7:1990305:T:C chr7:1990372:G:C \n",
       "   -2.262765e-04    -2.205079e-03    -1.997524e-04    -1.950882e-04 \n",
       "chr7:1990469:G:A chr7:1990652:G:T chr7:1997034:T:G chr7:1997580:G:A \n",
       "   -2.013071e-04    -2.092071e-04    -3.374285e-04    -3.656988e-04 \n",
       "\n",
       "Slot \"intercept\":\n",
       "         s0 \n",
       "0.001712599 \n",
       "\n",
       "Slot \"alpha\":\n",
       "[1] 0.5\n",
       "\n",
       "Slot \"lambda\":\n",
       "[1] 0.00725875\n",
       "\n",
       "Slot \"evaluation_results\":\n",
       "         cor          mse \n",
       "0.5867848428 0.0001814287 \n",
       "\n",
       "Slot \"cv_eval_mode\":\n",
       "[1] \"dynamic\"\n",
       "\n",
       "Slot \"full_model_metrics\":\n",
       "           r          mse \n",
       "0.6012785854 0.0001799251 \n",
       "\n",
       "\n",
       "[[33]]\n",
       "An object of class \"MethylationBase\"\n",
       "Slot \"methylationPosition\":\n",
       "[1] 1987910\n",
       "\n",
       "Slot \"windowSize\":\n",
       "[1] 10000\n",
       "\n",
       "Slot \"n_SNPs\":\n",
       "[1] 42\n",
       "\n",
       "Slot \"glmnetModel\":\n",
       "NULL\n",
       "\n",
       "Slot \"snpWeights\":\n",
       "chr7:1985405:A:G chr7:1987719:C:T chr7:1987813:T:C chr7:1989028:A:C \n",
       "   -1.955175e-03    -5.802021e-05     1.329516e-03    -2.119257e-04 \n",
       "chr7:1989994:G:C chr7:1990232:T:C chr7:1990305:T:C chr7:1990372:G:C \n",
       "   -1.456696e-04    -1.730260e-03    -1.499042e-04    -1.596724e-04 \n",
       "chr7:1990469:G:A chr7:1990652:G:T chr7:1997034:T:G chr7:1997580:G:A \n",
       "   -1.712387e-04    -1.412102e-04    -1.436272e-04    -1.799511e-04 \n",
       "\n",
       "Slot \"intercept\":\n",
       "         s0 \n",
       "0.001469925 \n",
       "\n",
       "Slot \"alpha\":\n",
       "[1] 0.5\n",
       "\n",
       "Slot \"lambda\":\n",
       "[1] 0.009340425\n",
       "\n",
       "Slot \"evaluation_results\":\n",
       "        cor         mse \n",
       "0.580088846 0.000185891 \n",
       "\n",
       "Slot \"cv_eval_mode\":\n",
       "[1] \"dynamic\"\n",
       "\n",
       "Slot \"full_model_metrics\":\n",
       "          r         mse \n",
       "0.585956154 0.000193999 \n",
       "\n",
       "\n",
       "[[34]]\n",
       "An object of class \"MethylationBase\"\n",
       "Slot \"methylationPosition\":\n",
       "[1] 1987930\n",
       "\n",
       "Slot \"windowSize\":\n",
       "[1] 10000\n",
       "\n",
       "Slot \"n_SNPs\":\n",
       "[1] 42\n",
       "\n",
       "Slot \"glmnetModel\":\n",
       "NULL\n",
       "\n",
       "Slot \"snpWeights\":\n",
       "chr7:1978783:G:T chr7:1979926:T:C chr7:1985405:A:G chr7:1987813:T:C \n",
       "    1.105768e-04    -4.141516e-05    -3.522625e-03     2.933034e-03 \n",
       "chr7:1989028:A:C chr7:1990232:T:C chr7:1997034:T:G chr7:1997580:G:A \n",
       "   -2.020148e-05    -3.234431e-03    -8.240115e-04    -7.280873e-04 \n",
       "\n",
       "Slot \"intercept\":\n",
       "        s0 \n",
       "0.00154059 \n",
       "\n",
       "Slot \"alpha\":\n",
       "[1] 0.5\n",
       "\n",
       "Slot \"lambda\":\n",
       "[1] 0.00293544\n",
       "\n",
       "Slot \"evaluation_results\":\n",
       "        cor         mse \n",
       "0.553768273 0.000190441 \n",
       "\n",
       "Slot \"cv_eval_mode\":\n",
       "[1] \"dynamic\"\n",
       "\n",
       "Slot \"full_model_metrics\":\n",
       "           r          mse \n",
       "0.5665110072 0.0001731407 \n",
       "\n",
       "\n",
       "[[35]]\n",
       "An object of class \"MethylationBase\"\n",
       "Slot \"methylationPosition\":\n",
       "[1] 1988010\n",
       "\n",
       "Slot \"windowSize\":\n",
       "[1] 10000\n",
       "\n",
       "Slot \"n_SNPs\":\n",
       "[1] 42\n",
       "\n",
       "Slot \"glmnetModel\":\n",
       "NULL\n",
       "\n",
       "Slot \"snpWeights\":\n",
       "chr7:1985405:A:G chr7:1987813:T:C chr7:1990232:T:C \n",
       "    -0.001904824      0.001181065     -0.001186607 \n",
       "\n",
       "Slot \"intercept\":\n",
       "          s0 \n",
       "0.0005504562 \n",
       "\n",
       "Slot \"alpha\":\n",
       "[1] 0.5\n",
       "\n",
       "Slot \"lambda\":\n",
       "[1] 0.008092403\n",
       "\n",
       "Slot \"evaluation_results\":\n",
       "        cor         mse \n",
       "0.462929990 0.000206071 \n",
       "\n",
       "Slot \"cv_eval_mode\":\n",
       "[1] \"dynamic\"\n",
       "\n",
       "Slot \"full_model_metrics\":\n",
       "           r          mse \n",
       "0.4805303219 0.0001990825 \n",
       "\n",
       "\n",
       "[[36]]\n",
       "An object of class \"MethylationBase\"\n",
       "Slot \"methylationPosition\":\n",
       "[1] 1988039\n",
       "\n",
       "Slot \"windowSize\":\n",
       "[1] 10000\n",
       "\n",
       "Slot \"n_SNPs\":\n",
       "[1] 42\n",
       "\n",
       "Slot \"glmnetModel\":\n",
       "NULL\n",
       "\n",
       "Slot \"snpWeights\":\n",
       "chr7:1985405:A:G chr7:1987813:T:C chr7:1990232:T:C \n",
       "    -0.002158599      0.001570185     -0.001237933 \n",
       "\n",
       "Slot \"intercept\":\n",
       "          s0 \n",
       "0.0002805034 \n",
       "\n",
       "Slot \"alpha\":\n",
       "[1] 0.5\n",
       "\n",
       "Slot \"lambda\":\n",
       "[1] 0.006183305\n",
       "\n",
       "Slot \"evaluation_results\":\n",
       "         cor          mse \n",
       "0.4161267000 0.0002089726 \n",
       "\n",
       "Slot \"cv_eval_mode\":\n",
       "[1] \"dynamic\"\n",
       "\n",
       "Slot \"full_model_metrics\":\n",
       "           r          mse \n",
       "0.4520906376 0.0001886558 \n",
       "\n",
       "\n",
       "[[37]]\n",
       "An object of class \"MethylationBase\"\n",
       "Slot \"methylationPosition\":\n",
       "[1] 1988059\n",
       "\n",
       "Slot \"windowSize\":\n",
       "[1] 10000\n",
       "\n",
       "Slot \"n_SNPs\":\n",
       "[1] 42\n",
       "\n",
       "Slot \"glmnetModel\":\n",
       "NULL\n",
       "\n",
       "Slot \"snpWeights\":\n",
       "chr7:1985405:A:G chr7:1987813:T:C chr7:1990232:T:C \n",
       "    -0.001725350      0.001264538     -0.000717279 \n",
       "\n",
       "Slot \"intercept\":\n",
       "          s0 \n",
       "4.912918e-05 \n",
       "\n",
       "Slot \"alpha\":\n",
       "[1] 0.5\n",
       "\n",
       "Slot \"lambda\":\n",
       "[1] 0.007011116\n",
       "\n",
       "Slot \"evaluation_results\":\n",
       "        cor         mse \n",
       "0.401633182 0.000203396 \n",
       "\n",
       "Slot \"cv_eval_mode\":\n",
       "[1] \"dynamic\"\n",
       "\n",
       "Slot \"full_model_metrics\":\n",
       "           r          mse \n",
       "0.4331726563 0.0001889738 \n",
       "\n",
       "\n",
       "[[38]]\n",
       "An object of class \"MethylationBase\"\n",
       "Slot \"methylationPosition\":\n",
       "[1] 1988066\n",
       "\n",
       "Slot \"windowSize\":\n",
       "[1] 10000\n",
       "\n",
       "Slot \"n_SNPs\":\n",
       "[1] 42\n",
       "\n",
       "Slot \"glmnetModel\":\n",
       "NULL\n",
       "\n",
       "Slot \"snpWeights\":\n",
       "chr7:1985405:A:G chr7:1987813:T:C chr7:1990232:T:C \n",
       "   -0.0011025937     0.0006789141    -0.0001158925 \n",
       "\n",
       "Slot \"intercept\":\n",
       "           s0 \n",
       "-1.891342e-05 \n",
       "\n",
       "Slot \"alpha\":\n",
       "[1] 0.5\n",
       "\n",
       "Slot \"lambda\":\n",
       "[1] 0.009068628\n",
       "\n",
       "Slot \"evaluation_results\":\n",
       "         cor          mse \n",
       "0.3993867973 0.0001947193 \n",
       "\n",
       "Slot \"cv_eval_mode\":\n",
       "[1] \"dynamic\"\n",
       "\n",
       "Slot \"full_model_metrics\":\n",
       "          r         mse \n",
       "0.424969295 0.000196883 \n",
       "\n",
       "\n",
       "[[39]]\n",
       "An object of class \"MethylationBase\"\n",
       "Slot \"methylationPosition\":\n",
       "[1] 1988078\n",
       "\n",
       "Slot \"windowSize\":\n",
       "[1] 10000\n",
       "\n",
       "Slot \"n_SNPs\":\n",
       "[1] 42\n",
       "\n",
       "Slot \"glmnetModel\":\n",
       "NULL\n",
       "\n",
       "Slot \"snpWeights\":\n",
       "chr7:1985405:A:G chr7:1987813:T:C chr7:1990232:T:C \n",
       "    -0.001473197      0.001129433     -0.000377942 \n",
       "\n",
       "Slot \"intercept\":\n",
       "           s0 \n",
       "-0.0001588842 \n",
       "\n",
       "Slot \"alpha\":\n",
       "[1] 0.5\n",
       "\n",
       "Slot \"lambda\":\n",
       "[1] 0.007247597\n",
       "\n",
       "Slot \"evaluation_results\":\n",
       "        cor         mse \n",
       "0.402252443 0.000189985 \n",
       "\n",
       "Slot \"cv_eval_mode\":\n",
       "[1] \"dynamic\"\n",
       "\n",
       "Slot \"full_model_metrics\":\n",
       "           r          mse \n",
       "0.4156601617 0.0001863226 \n",
       "\n",
       "\n",
       "[[40]]\n",
       "An object of class \"MethylationBase\"\n",
       "Slot \"methylationPosition\":\n",
       "[1] 1988129\n",
       "\n",
       "Slot \"windowSize\":\n",
       "[1] 10000\n",
       "\n",
       "Slot \"n_SNPs\":\n",
       "[1] 43\n",
       "\n",
       "Slot \"glmnetModel\":\n",
       "NULL\n",
       "\n",
       "Slot \"snpWeights\":\n",
       "chr7:1985405:A:G chr7:1987813:T:C \n",
       "   -0.0007915555     0.0008292251 \n",
       "\n",
       "Slot \"intercept\":\n",
       "           s0 \n",
       "-0.0004752417 \n",
       "\n",
       "Slot \"alpha\":\n",
       "[1] 0.5\n",
       "\n",
       "Slot \"lambda\":\n",
       "[1] 0.007357601\n",
       "\n",
       "Slot \"evaluation_results\":\n",
       "         cor          mse \n",
       "0.3620696532 0.0001748394 \n",
       "\n",
       "Slot \"cv_eval_mode\":\n",
       "[1] \"dynamic\"\n",
       "\n",
       "Slot \"full_model_metrics\":\n",
       "           r          mse \n",
       "0.3718995669 0.0001740654 \n",
       "\n",
       "\n",
       "[[41]]\n",
       "An object of class \"MethylationBase\"\n",
       "Slot \"methylationPosition\":\n",
       "[1] 1988133\n",
       "\n",
       "Slot \"windowSize\":\n",
       "[1] 10000\n",
       "\n",
       "Slot \"n_SNPs\":\n",
       "[1] 43\n",
       "\n",
       "Slot \"glmnetModel\":\n",
       "NULL\n",
       "\n",
       "Slot \"snpWeights\":\n",
       "chr7:1985405:A:G chr7:1987813:T:C \n",
       "    -0.001403874      0.001497795 \n",
       "\n",
       "Slot \"intercept\":\n",
       "           s0 \n",
       "-0.0008755202 \n",
       "\n",
       "Slot \"alpha\":\n",
       "[1] 0.5\n",
       "\n",
       "Slot \"lambda\":\n",
       "[1] 0.005498511\n",
       "\n",
       "Slot \"evaluation_results\":\n",
       "         cor          mse \n",
       "0.3500825895 0.0001753141 \n",
       "\n",
       "Slot \"cv_eval_mode\":\n",
       "[1] \"dynamic\"\n",
       "\n",
       "Slot \"full_model_metrics\":\n",
       "           r          mse \n",
       "0.3687476079 0.0001666081 \n",
       "\n",
       "\n",
       "[[42]]\n",
       "An object of class \"MethylationBase\"\n",
       "Slot \"methylationPosition\":\n",
       "[1] 1988141\n",
       "\n",
       "Slot \"windowSize\":\n",
       "[1] 10000\n",
       "\n",
       "Slot \"n_SNPs\":\n",
       "[1] 43\n",
       "\n",
       "Slot \"glmnetModel\":\n",
       "NULL\n",
       "\n",
       "Slot \"snpWeights\":\n",
       "chr7:1985405:A:G chr7:1987813:T:C \n",
       "   -0.0006996182     0.0008469472 \n",
       "\n",
       "Slot \"intercept\":\n",
       "          s0 \n",
       "-0.000557369 \n",
       "\n",
       "Slot \"alpha\":\n",
       "[1] 0.5\n",
       "\n",
       "Slot \"lambda\":\n",
       "[1] 0.007093239\n",
       "\n",
       "Slot \"evaluation_results\":\n",
       "        cor         mse \n",
       "0.351622515 0.000169274 \n",
       "\n",
       "Slot \"cv_eval_mode\":\n",
       "[1] \"dynamic\"\n",
       "\n",
       "Slot \"full_model_metrics\":\n",
       "           r          mse \n",
       "0.3624690575 0.0001697369 \n",
       "\n",
       "\n",
       "[[43]]\n",
       "An object of class \"MethylationBase\"\n",
       "Slot \"methylationPosition\":\n",
       "[1] 1988201\n",
       "\n",
       "Slot \"windowSize\":\n",
       "[1] 10000\n",
       "\n",
       "Slot \"n_SNPs\":\n",
       "[1] 43\n",
       "\n",
       "Slot \"glmnetModel\":\n",
       "NULL\n",
       "\n",
       "Slot \"snpWeights\":\n",
       "chr7:1987813:T:C \n",
       "    1.549721e-18 \n",
       "\n",
       "Slot \"intercept\":\n",
       "          s0 \n",
       "8.975387e-15 \n",
       "\n",
       "Slot \"alpha\":\n",
       "[1] 0.5\n",
       "\n",
       "Slot \"lambda\":\n",
       "[1] 0.007766018\n",
       "\n",
       "Slot \"evaluation_results\":\n",
       "         cor          mse \n",
       "0.2755742971 0.0001533571 \n",
       "\n",
       "Slot \"cv_eval_mode\":\n",
       "[1] \"dynamic\"\n",
       "\n",
       "Slot \"full_model_metrics\":\n",
       "           r          mse \n",
       "0.3121468388 0.0001547458 \n",
       "\n",
       "\n",
       "[[44]]\n",
       "An object of class \"MethylationBase\"\n",
       "Slot \"methylationPosition\":\n",
       "[1] 1988216\n",
       "\n",
       "Slot \"windowSize\":\n",
       "[1] 10000\n",
       "\n",
       "Slot \"n_SNPs\":\n",
       "[1] 43\n",
       "\n",
       "Slot \"glmnetModel\":\n",
       "NULL\n",
       "\n",
       "Slot \"snpWeights\":\n",
       "chr7:1979926:T:C chr7:1985405:A:G chr7:1987813:T:C chr7:1988307:C:T \n",
       "   -0.0004228912    -0.0007627217     0.0018081276    -0.0004135964 \n",
       "\n",
       "Slot \"intercept\":\n",
       "          s0 \n",
       "-0.001553972 \n",
       "\n",
       "Slot \"alpha\":\n",
       "[1] 0.5\n",
       "\n",
       "Slot \"lambda\":\n",
       "[1] 0.003514602\n",
       "\n",
       "Slot \"evaluation_results\":\n",
       "         cor          mse \n",
       "0.2806409054 0.0001474946 \n",
       "\n",
       "Slot \"cv_eval_mode\":\n",
       "[1] \"dynamic\"\n",
       "\n",
       "Slot \"full_model_metrics\":\n",
       "           r          mse \n",
       "0.3222443258 0.0001385659 \n",
       "\n",
       "\n",
       "[[45]]\n",
       "An object of class \"MethylationBase\"\n",
       "Slot \"methylationPosition\":\n",
       "[1] 1988292\n",
       "\n",
       "Slot \"windowSize\":\n",
       "[1] 10000\n",
       "\n",
       "Slot \"n_SNPs\":\n",
       "[1] 43\n",
       "\n",
       "Slot \"glmnetModel\":\n",
       "NULL\n",
       "\n",
       "Slot \"snpWeights\":\n",
       "chr7:1979926:T:C chr7:1987813:T:C \n",
       "   -0.0001597496     0.0008238353 \n",
       "\n",
       "Slot \"intercept\":\n",
       "           s0 \n",
       "-0.0009533842 \n",
       "\n",
       "Slot \"alpha\":\n",
       "[1] 0.5\n",
       "\n",
       "Slot \"lambda\":\n",
       "[1] 0.004334295\n",
       "\n",
       "Slot \"evaluation_results\":\n",
       "         cor          mse \n",
       "0.2100464526 0.0001287315 \n",
       "\n",
       "Slot \"cv_eval_mode\":\n",
       "[1] \"dynamic\"\n",
       "\n",
       "Slot \"full_model_metrics\":\n",
       "           r          mse \n",
       "0.2660844761 0.0001254408 \n",
       "\n",
       "\n",
       "[[46]]\n",
       "An object of class \"MethylationBase\"\n",
       "Slot \"methylationPosition\":\n",
       "[1] 1988321\n",
       "\n",
       "Slot \"windowSize\":\n",
       "[1] 10000\n",
       "\n",
       "Slot \"n_SNPs\":\n",
       "[1] 43\n",
       "\n",
       "Slot \"glmnetModel\":\n",
       "NULL\n",
       "\n",
       "Slot \"snpWeights\":\n",
       "chr7:1979188:C:A chr7:1979235:G:A chr7:1979926:T:C chr7:1985405:A:G \n",
       "    8.507799e-04     6.675577e-05    -1.048168e-03    -3.755108e-04 \n",
       "chr7:1987813:T:C chr7:1988307:C:T \n",
       "    1.892011e-03    -3.755459e-03 \n",
       "\n",
       "Slot \"intercept\":\n",
       "          s0 \n",
       "-0.002552644 \n",
       "\n",
       "Slot \"alpha\":\n",
       "[1] 0.5\n",
       "\n",
       "Slot \"lambda\":\n",
       "[1] 0.001694946\n",
       "\n",
       "Slot \"evaluation_results\":\n",
       "         cor          mse \n",
       "0.1934174075 0.0001237752 \n",
       "\n",
       "Slot \"cv_eval_mode\":\n",
       "[1] \"dynamic\"\n",
       "\n",
       "Slot \"full_model_metrics\":\n",
       "           r          mse \n",
       "0.3220287475 0.0001131071 \n",
       "\n",
       "\n",
       "[[47]]\n",
       "An object of class \"MethylationBase\"\n",
       "Slot \"methylationPosition\":\n",
       "[1] 1988325\n",
       "\n",
       "Slot \"windowSize\":\n",
       "[1] 10000\n",
       "\n",
       "Slot \"n_SNPs\":\n",
       "[1] 43\n",
       "\n",
       "Slot \"glmnetModel\":\n",
       "NULL\n",
       "\n",
       "Slot \"snpWeights\":\n",
       "chr7:1979188:C:A chr7:1979926:T:C chr7:1987813:T:C chr7:1988307:C:T \n",
       "    0.0005943213    -0.0011026772     0.0018612991    -0.0027632437 \n",
       "\n",
       "Slot \"intercept\":\n",
       "          s0 \n",
       "-0.002500119 \n",
       "\n",
       "Slot \"alpha\":\n",
       "[1] 0.5\n",
       "\n",
       "Slot \"lambda\":\n",
       "[1] 0.002012841\n",
       "\n",
       "Slot \"evaluation_results\":\n",
       "         cor          mse \n",
       "0.1486257139 0.0001235683 \n",
       "\n",
       "Slot \"cv_eval_mode\":\n",
       "[1] \"dynamic\"\n",
       "\n",
       "Slot \"full_model_metrics\":\n",
       "           r          mse \n",
       "0.3125938765 0.0001138905 \n",
       "\n",
       "\n",
       "[[48]]\n",
       "An object of class \"MethylationBase\"\n",
       "Slot \"methylationPosition\":\n",
       "[1] 1988332\n",
       "\n",
       "Slot \"windowSize\":\n",
       "[1] 10000\n",
       "\n",
       "Slot \"n_SNPs\":\n",
       "[1] 43\n",
       "\n",
       "Slot \"glmnetModel\":\n",
       "NULL\n",
       "\n",
       "Slot \"snpWeights\":\n",
       "named numeric(0)\n",
       "\n",
       "Slot \"intercept\":\n",
       "          s0 \n",
       "9.786654e-15 \n",
       "\n",
       "Slot \"alpha\":\n",
       "[1] 0.5\n",
       "\n",
       "Slot \"lambda\":\n",
       "[1] 0.00497788\n",
       "\n",
       "Slot \"evaluation_results\":\n",
       "         cor          mse \n",
       "0.1065490685 0.0001230788 \n",
       "\n",
       "Slot \"cv_eval_mode\":\n",
       "[1] \"dynamic\"\n",
       "\n",
       "Slot \"full_model_metrics\":\n",
       "           r          mse \n",
       "          NA 0.0001221268 \n",
       "\n",
       "\n",
       "[[49]]\n",
       "An object of class \"MethylationBase\"\n",
       "Slot \"methylationPosition\":\n",
       "[1] 1988401\n",
       "\n",
       "Slot \"windowSize\":\n",
       "[1] 10000\n",
       "\n",
       "Slot \"n_SNPs\":\n",
       "[1] 44\n",
       "\n",
       "Slot \"glmnetModel\":\n",
       "NULL\n",
       "\n",
       "Slot \"snpWeights\":\n",
       "chr7:1979188:C:A chr7:1979926:T:C chr7:1987813:T:C chr7:1996464:A:G \n",
       "    0.0002189323    -0.0004369708     0.0001146938     0.0005770818 \n",
       "\n",
       "Slot \"intercept\":\n",
       "          s0 \n",
       "-0.001273338 \n",
       "\n",
       "Slot \"alpha\":\n",
       "[1] 0.5\n",
       "\n",
       "Slot \"lambda\":\n",
       "[1] 0.003367314\n",
       "\n",
       "Slot \"evaluation_results\":\n",
       "         cor          mse \n",
       "0.1704452377 0.0001180054 \n",
       "\n",
       "Slot \"cv_eval_mode\":\n",
       "[1] \"dynamic\"\n",
       "\n",
       "Slot \"full_model_metrics\":\n",
       "           r          mse \n",
       "0.2582587110 0.0001150448 \n",
       "\n",
       "\n"
      ]
     },
     "metadata": {},
     "output_type": "display_data"
    }
   ],
   "source": [
    "scaffold_models"
   ]
  },
  {
   "cell_type": "markdown",
   "id": "e2c32de2-436a-45af-96eb-3ece6d0f7100",
   "metadata": {},
   "source": [
    "## Stage 2"
   ]
  },
  {
   "cell_type": "code",
   "execution_count": 17,
   "id": "f4613b6e-7a63-4787-b27f-db5fa725f85e",
   "metadata": {},
   "outputs": [],
   "source": [
    "library(stringr)"
   ]
  },
  {
   "cell_type": "code",
   "execution_count": 18,
   "id": "c792828a-a3fd-437a-9488-7efe9ecb0114",
   "metadata": {},
   "outputs": [],
   "source": [
    "opt <- list(genome_file_index = 7,\n",
    "          data_file = \"12-OUT_matched_SNP_meth_cov_outputs.csv\")"
   ]
  },
  {
   "cell_type": "code",
   "execution_count": 19,
   "id": "b061019f-95f4-4f7e-a4f9-22b872528e52",
   "metadata": {},
   "outputs": [],
   "source": [
    "# Load genome files\n",
    "genome_files <- list.files(\"/expanse/lustre/projects/jhu152/naglemi/mwas/gwas\",\n",
    "                           pattern = \"EUR\", full.names = TRUE)\n",
    "genome_files <- genome_files[grepl(\"pvar\", genome_files)]\n",
    "\n",
    "genome_files <- data.table(path = genome_files, Chr = NA)\n",
    "\n",
    "genome_files$Chr <- str_split_fixed(genome_files$path, \"chr\", 2)[, 2]\n",
    "genome_files$Chr <- gsub(\".pvar\", \"\", genome_files$Chr)\n",
    "\n",
    "genome_files$Chr <- as.integer(genome_files$Chr)\n",
    "genome_files <- genome_files[order(genome_files$Chr), ]\n",
    "\n",
    "df <- fread(opt$data_file)\n",
    "\n",
    "summary_stats_list <- list.files(\"/expanse/lustre/projects/jhu152/naglemi/mwas/gwas\", pattern = \"stat\", full.names = TRUE)[3]\n",
    "\n",
    "# Pre-load all summary stats files into a list and clean/standardize column names\n",
    "summary_stats_data <- lapply(summary_stats_list, function(path) {\n",
    "  stats <- suppressWarnings(data.table::fread(path))\n",
    "  colnames(stats) <- gsub(\"#CHROM\", \"CHR\", colnames(stats))\n",
    "  clean_and_standardize_colnames(stats)\n",
    "})"
   ]
  },
  {
   "cell_type": "code",
   "execution_count": 20,
   "id": "956a060c-134c-476d-94cb-da0a2f00aea3",
   "metadata": {},
   "outputs": [
    {
     "name": "stdout",
     "output_type": "stream",
     "text": [
      "[1] \"Starting genome file processing\"\n",
      "[1] \"Processing genome file index: 7\"\n",
      "[1] \"Loaded SNP data\"\n",
      "[1] \"Files for this Chr:\"\n",
      "[1] 677\n"
     ]
    }
   ],
   "source": [
    "# Script C: script_C.R\n",
    "library(CpGWAS)\n",
    "library(data.table)\n",
    "library(stringr)\n",
    "library(optparse)\n",
    "\n",
    "print(\"Starting genome file processing\")\n",
    "# Process the specified genome file\n",
    "g <- opt$genome_file_index\n",
    "print(paste(\"Processing genome file index:\", g))\n",
    "\n",
    "paths <- list(\n",
    "  pvar_path = genome_files[g]$path,\n",
    "  pgen_path = gsub(\"pvar\", \"pgen\", genome_files[g]$path),\n",
    "  psam_path = gsub(\"pvar\", \"psam\", genome_files[g]$path)\n",
    ")\n",
    "\n",
    "my_SNPs <- CpGWAS::loadSNPData(paths$pvar_path, paths$pgen_path, paths$psam_path)\n",
    "setkey(my_SNPs$pvar_dt, `#CHROM`, POS)\n",
    "df_this_chr <- df[which(df$Chr == genome_files[g]$Chr), ]\n",
    "\n",
    "summary_stats_data <- lapply(summary_stats_data, function(stats) stats[`CHR` == genome_files[g]$Chr])\n",
    "\n",
    "print(\"Loaded SNP data\")\n",
    "print(\"Files for this Chr:\")\n",
    "print(nrow(df_this_chr))                  "
   ]
  },
  {
   "cell_type": "code",
   "execution_count": 21,
   "id": "15742ce0-a8f4-472a-b504-9f4984778c6f",
   "metadata": {},
   "outputs": [],
   "source": [
    "df_this_chr <- df_this_chr[which(df_this_chr$population == \"all\" & df_this_chr$region == \"caud\"), ]"
   ]
  },
  {
   "cell_type": "code",
   "execution_count": 22,
   "id": "eb595651-7607-41a7-8536-d0121dd07fd0",
   "metadata": {},
   "outputs": [],
   "source": [
    "df_this_chr <- df_this_chr[which(df_this_chr$chunk_start <= min(sites_to_test) & df_this_chr$chunk_end >= max(sites_to_test))]"
   ]
  },
  {
   "cell_type": "code",
   "execution_count": 23,
   "id": "f5c52690-62ac-48ca-87ea-0b4120c61f45",
   "metadata": {},
   "outputs": [
    {
     "data": {
      "text/html": [
       "'/expanse/lustre/projects/jhu152/naglemi/mwas/gwas/gwas_stat_scz'"
      ],
      "text/latex": [
       "'/expanse/lustre/projects/jhu152/naglemi/mwas/gwas/gwas\\_stat\\_scz'"
      ],
      "text/markdown": [
       "'/expanse/lustre/projects/jhu152/naglemi/mwas/gwas/gwas_stat_scz'"
      ],
      "text/plain": [
       "[1] \"/expanse/lustre/projects/jhu152/naglemi/mwas/gwas/gwas_stat_scz\""
      ]
     },
     "metadata": {},
     "output_type": "display_data"
    }
   ],
   "source": [
    "summary_stats_list"
   ]
  },
  {
   "cell_type": "code",
   "execution_count": 24,
   "id": "a34638c6-d1fa-414c-beb0-d98c811cef08",
   "metadata": {},
   "outputs": [
    {
     "name": "stdout",
     "output_type": "stream",
     "text": [
      "[1] \"File number: 1\"\n",
      "[1] \"Loaded RDS file: ..//output_EXPANSE_a2_caud/libd_chr7-chr7_all-libd_chr7-chr7_all-40001-60000-dynamic-1corestotal-allcorepera-20240422-130351.rds\"\n"
     ]
    }
   ],
   "source": [
    "for(j in 1:nrow(df_this_chr)){\n",
    "  print(paste0(\"File number: \", j))\n",
    "  if (grepl(\"empty\", df_this_chr$path[j])) {\n",
    "    message(paste0(\"no model for \", df_this_chr$path[j]))\n",
    "    next\n",
    "  }\n",
    "  #\n",
    "  my_rds <- tryCatch({\n",
    "    readRDS(df_this_chr$path[j])\n",
    "  }, error = function(e) {\n",
    "    # Print an error message and skip this iteration\n",
    "    message(\"ALERT!!! Error reading RDS file: \", e$message)\n",
    "    return(NULL)  # Return NULL to signal failure\n",
    "  })\n",
    "    \n",
    "  # Check if the readRDS call returned NULL (which indicates an error)\n",
    "  if (is.null(my_rds)) {\n",
    "    next  # Skip the rest of this loop iteration\n",
    "  }\n",
    "\n",
    "  print(paste(\"Loaded RDS file:\", df_this_chr$path[j]))\n",
    "\n",
    "  for (k in 1:length(summary_stats_list)) {\n",
    "    outname <- gsub(\"\\\\.rds$\", paste0(\"_\", basename(tools::file_path_sans_ext(summary_stats_list[[k]])), \"_results.rds\"), df_this_chr$path[j])\n",
    "    if(file.exists(outname)) next\n",
    "    summary_stats <- summary_stats_data[[k]]\n",
    "\n",
    "    MWASmodels <- vector(\"list\", length(my_rds@models))\n",
    "    if (is.null(summary_stats)) {\n",
    "      summary_stats <- suppressWarnings(fread(summary_stats_list[[k]]))\n",
    "      summary_stats <- clean_and_standardize_colnames(summary_stats)\n",
    "    }\n",
    "\n",
    "    for (i in seq_along(my_rds@models)) {\n",
    "      this_MethylationBase <- my_rds@models[[i]]\n",
    "      SNP_split <- stringr::str_split_fixed(names(this_MethylationBase@snpWeights), \":\", 4)\n",
    "      SNP_split[, 1] <- gsub(\"chr\", \"\", SNP_split[, 1])\n",
    "      SNP_split_dt <- data.table::as.data.table(SNP_split)\n",
    "      data.table::setnames(SNP_split_dt, c(\"chr\", \"post\", \"ref\", \"alt\"))\n",
    "      SNP_split_dt[, `:=`(chr = as.integer(chr), post = as.integer(post))]\n",
    "      data.table::setkey(SNP_split_dt, chr, post)\n",
    "\n",
    "      relevant_SNP_indices <- my_SNPs$pvar_dt[SNP_split_dt, on = .(`#CHROM` = chr, POS = post), which = TRUE, nomatch = 0]\n",
    "      relevant_ids <- my_SNPs$pvar_dt$ID[relevant_SNP_indices]\n",
    "      summary_stats_sub <- summary_stats[relevant_ids, nomatch = 0]\n",
    "\n",
    "      if (!identical(summary_stats_sub$BP, SNP_split_dt$post)) {\n",
    "        summary_stats_sub <- summary_stats_sub[order(summary_stats_sub$BP), ]\n",
    "        if (!identical(summary_stats_sub$BP, SNP_split_dt$post)) {\n",
    "          unmatched_positions <- !SNP_split_dt$post %in% summary_stats_sub$BP\n",
    "          if (any(unmatched_positions)) {\n",
    "            SNP_split_dt <- SNP_split_dt[!unmatched_positions, ]\n",
    "            this_MethylationBase@snpWeights <- this_MethylationBase@snpWeights[!unmatched_positions]\n",
    "\n",
    "            relevant_SNP_indices <- my_SNPs$pvar_dt[SNP_split_dt, on = .(`#CHROM` = chr, POS = post), which = TRUE, nomatch = 0]\n",
    "            if (!identical(summary_stats_sub$BP, SNP_split_dt$post)) {\n",
    "              stop(\"SNP order does not match even after removing unmatched positions. This should not happen. Code is broken.\")\n",
    "            }\n",
    "          }\n",
    "        }\n",
    "      }\n",
    "\n",
    "      if (!identical(SNP_split_dt$alt, summary_stats_sub$A2) | !identical(SNP_split_dt$ref, summary_stats_sub$A1)) {\n",
    "        not_matching <- which(SNP_split_dt$alt != summary_stats_sub$A2)\n",
    "        summary_stats_ref_flipped <- SNP_split_dt$ref[not_matching]\n",
    "        summary_stats_alt_flipped <- SNP_split_dt$alt[not_matching]\n",
    "        SNP_split_dt[not_matching, `:=`(ref = summary_stats_alt_flipped, alt = summary_stats_ref_flipped)]\n",
    "        this_MethylationBase@snpWeights[not_matching] <- this_MethylationBase@snpWeights[not_matching] * -1\n",
    "      }\n",
    "\n",
    "      G <- pgenlibr::ReadList(my_SNPs$pgen, variant_subset = relevant_SNP_indices)\n",
    "      #print(paste(\"Performing MWAS for model index:\", i))\n",
    "      mwas_out <- mwas(z = summary_stats_sub$BETA, w = this_MethylationBase@snpWeights, G = G)\n",
    "\n",
    "      MWASmodels[[i]] <- mwas_out\n",
    "    }\n",
    "\n",
    "    results <- MWASresults(MWASmodels, paths$pvar_path, paths$pgen_path, paths$psam_path, summary_stats_list[[k]], df_this_chr$path[j])\n",
    "    saveRDS(results, outname)\n",
    "    print(paste(\"Saved results to:\", outname))\n",
    "  }\n",
    "}"
   ]
  },
  {
   "cell_type": "code",
   "execution_count": 25,
   "id": "fc665ecd-0219-4f86-b319-fc77b1457142",
   "metadata": {},
   "outputs": [],
   "source": [
    "out <- readRDS(\"..//output_EXPANSE_a2_caud/libd_chr7-chr7_all-libd_chr7-chr7_all-40001-60000-dynamic-1corestotal-allcorepera-20240422-130351.rds\")"
   ]
  },
  {
   "cell_type": "code",
   "execution_count": null,
   "id": "e58d2a53-fc77-45d1-b809-b109a9668231",
   "metadata": {},
   "outputs": [],
   "source": [
    "out"
   ]
  },
  {
   "cell_type": "code",
   "execution_count": null,
   "id": "db68cd2a-a3f7-4ae0-a8c0-e4bd87520a62",
   "metadata": {},
   "outputs": [],
   "source": []
  }
 ],
 "metadata": {
  "kernelspec": {
   "display_name": "R",
   "language": "R",
   "name": "ir"
  },
  "language_info": {
   "codemirror_mode": "r",
   "file_extension": ".r",
   "mimetype": "text/x-r-source",
   "name": "R",
   "pygments_lexer": "r",
   "version": "4.3.1"
  }
 },
 "nbformat": 4,
 "nbformat_minor": 5
}
