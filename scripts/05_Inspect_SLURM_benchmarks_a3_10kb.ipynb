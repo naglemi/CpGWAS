{
 "cells": [
  {
   "cell_type": "markdown",
   "id": "ec803619-7ddc-467d-85f8-f4a936ed29a5",
   "metadata": {},
   "source": [
    "# Inspect and summarize SLURM benchmarks"
   ]
  },
  {
   "cell_type": "markdown",
   "id": "8a74823d-20cd-4f39-8af6-5f7a71512907",
   "metadata": {},
   "source": [
    "## Overview"
   ]
  },
  {
   "cell_type": "markdown",
   "id": "b83b4000-f5a3-4aa3-b4cd-d425040bf72b",
   "metadata": {},
   "source": [
    "## Load, merge and compare benchmark summary `csv`s"
   ]
  },
  {
   "cell_type": "markdown",
   "id": "822fa4a3-4549-4b81-86c5-32deb17b9f68",
   "metadata": {},
   "source": [
    "We need a function to compare our SLURM summary output files and highlight differences in a table."
   ]
  },
  {
   "cell_type": "code",
   "execution_count": 1,
   "id": "6a868b78-f112-4f01-a0e0-e27892e35fdb",
   "metadata": {},
   "outputs": [
    {
     "name": "stderr",
     "output_type": "stream",
     "text": [
      "\n",
      "Attaching package: ‘dplyr’\n",
      "\n",
      "\n",
      "The following objects are masked from ‘package:stats’:\n",
      "\n",
      "    filter, lag\n",
      "\n",
      "\n",
      "The following objects are masked from ‘package:base’:\n",
      "\n",
      "    intersect, setdiff, setequal, union\n",
      "\n",
      "\n"
     ]
    }
   ],
   "source": [
    "library(dplyr)\n",
    "library(tidyr)\n",
    "\n",
    "read_and_summarize_differences <- function(directory) {\n",
    "  # List all CSV files in the directory\n",
    "  files <- list.files(directory, pattern = \"\\\\.csv$\", full.names = TRUE)\n",
    "  files <- files[!grepl(\"1000000\", files)]\n",
    "  \n",
    "  # Read each file and store in a list\n",
    "  data_list <- lapply(files, function(file) {\n",
    "    data <- read.csv(file)\n",
    "    # Add a column to identify the source file\n",
    "    data$Source <- basename(file)\n",
    "    return(data)\n",
    "  })\n",
    "  \n",
    "  # Combine all data frames into one\n",
    "  combined_data <- bind_rows(data_list)\n",
    "  \n",
    "  # Spread the data to wide format for comparison\n",
    "  wide_data <- spread(combined_data, key = Parameter, value = Value)\n",
    "  \n",
    "  # Identify rows with at least one difference in values\n",
    "  differing_rows <- wide_data %>%\n",
    "    summarise(across(-Source, ~n_distinct(.) > 1)) %>%\n",
    "    select(which(colSums(.) > 0)) %>%\n",
    "    names()\n",
    "  \n",
    "  # Filter the combined data to include only differing parameters\n",
    "  summary_data <- combined_data %>%\n",
    "    filter(Parameter %in% differing_rows) %>%\n",
    "    select(Parameter, Source, Value)\n",
    "  \n",
    "  # Pivot wider for a clearer summary table, if necessary\n",
    "  summary_table <- summary_data %>%\n",
    "    pivot_wider(names_from = Source, values_from = Value)\n",
    "  \n",
    "  return(summary_table)\n",
    "}"
   ]
  },
  {
   "cell_type": "code",
   "execution_count": 2,
   "id": "691fc1f5-c533-4895-a92e-c059d1709534",
   "metadata": {},
   "outputs": [
    {
     "data": {
      "text/html": [
       "<table class=\"dataframe\">\n",
       "<caption>A tibble: 10 × 11</caption>\n",
       "<thead>\n",
       "\t<tr><th scope=col>Parameter</th><th scope=col>libd_chr1-chr1_all-libd_chr1-chr1_all-1-2000-dynamic-12corestotal-allcorepera-20240404-110529-summary.csv</th><th scope=col>libd_chr1-chr1_all-libd_chr1-chr1_all-1-2000-dynamic-1corestotal-allcorepera-20240404-110529-summary.csv</th><th scope=col>libd_chr1-chr1_all-libd_chr1-chr1_all-2001-4000-dynamic-12corestotal-allcorepera-20240404-110529-summary.csv</th><th scope=col>libd_chr1-chr1_all-libd_chr1-chr1_all-2001-4000-dynamic-1corestotal-allcorepera-20240404-110529-summary.csv</th><th scope=col>libd_chr1-chr1_all-libd_chr1-chr1_all-4001-6000-dynamic-12corestotal-allcorepera-20240404-110530-summary.csv</th><th scope=col>libd_chr1-chr1_all-libd_chr1-chr1_all-4001-6000-dynamic-1corestotal-allcorepera-20240404-110530-summary.csv</th><th scope=col>libd_chr1-chr1_all-libd_chr1-chr1_all-6001-8000-dynamic-12corestotal-allcorepera-20240404-110530-summary.csv</th><th scope=col>libd_chr1-chr1_all-libd_chr1-chr1_all-6001-8000-dynamic-1corestotal-allcorepera-20240404-110530-summary.csv</th><th scope=col>libd_chr1-chr1_all-libd_chr1-chr1_all-8001-10000-dynamic-12corestotal-allcorepera-20240404-110530-summary.csv</th><th scope=col>libd_chr1-chr1_all-libd_chr1-chr1_all-8001-10000-dynamic-1corestotal-allcorepera-20240404-110530-summary.csv</th></tr>\n",
       "\t<tr><th scope=col>&lt;chr&gt;</th><th scope=col>&lt;chr&gt;</th><th scope=col>&lt;chr&gt;</th><th scope=col>&lt;chr&gt;</th><th scope=col>&lt;chr&gt;</th><th scope=col>&lt;chr&gt;</th><th scope=col>&lt;chr&gt;</th><th scope=col>&lt;chr&gt;</th><th scope=col>&lt;chr&gt;</th><th scope=col>&lt;chr&gt;</th><th scope=col>&lt;chr&gt;</th></tr>\n",
       "</thead>\n",
       "<tbody>\n",
       "\t<tr><td>chunk1       </td><td>1                                                                                            </td><td>1                                                                                           </td><td>2001                                                                                            </td><td>2001                                                                                           </td><td>4001                                                                                            </td><td>4001                                                                                           </td><td>6001                                                                                            </td><td>6001                                                                                           </td><td>8001                                                                                             </td><td>8001                                                                                            </td></tr>\n",
       "\t<tr><td>chunk2       </td><td>2000                                                                                         </td><td>2000                                                                                        </td><td>4000                                                                                            </td><td>4000                                                                                           </td><td>6000                                                                                            </td><td>6000                                                                                           </td><td>8000                                                                                            </td><td>8000                                                                                           </td><td>10000                                                                                            </td><td>10000                                                                                           </td></tr>\n",
       "\t<tr><td>num_cores    </td><td>12                                                                                           </td><td>1                                                                                           </td><td>12                                                                                              </td><td>1                                                                                              </td><td>12                                                                                              </td><td>1                                                                                              </td><td>12                                                                                              </td><td>1                                                                                              </td><td>12                                                                                               </td><td>1                                                                                               </td></tr>\n",
       "\t<tr><td>tag          </td><td>libd_chr1-chr1_all-1-2000-dynamic-12corestotal-allcorepera-20240404-110529                   </td><td>libd_chr1-chr1_all-1-2000-dynamic-1corestotal-allcorepera-20240404-110529                   </td><td>libd_chr1-chr1_all-2001-4000-dynamic-12corestotal-allcorepera-20240404-110529                   </td><td>libd_chr1-chr1_all-2001-4000-dynamic-1corestotal-allcorepera-20240404-110529                   </td><td>libd_chr1-chr1_all-4001-6000-dynamic-12corestotal-allcorepera-20240404-110530                   </td><td>libd_chr1-chr1_all-4001-6000-dynamic-1corestotal-allcorepera-20240404-110530                   </td><td>libd_chr1-chr1_all-6001-8000-dynamic-12corestotal-allcorepera-20240404-110530                   </td><td>libd_chr1-chr1_all-6001-8000-dynamic-1corestotal-allcorepera-20240404-110530                   </td><td>libd_chr1-chr1_all-8001-10000-dynamic-12corestotal-allcorepera-20240404-110530                   </td><td>libd_chr1-chr1_all-8001-10000-dynamic-1corestotal-allcorepera-20240404-110530                   </td></tr>\n",
       "\t<tr><td>time_started </td><td>2024-04-04 15:08:23                                                                          </td><td>2024-04-04 14:56:39                                                                         </td><td>2024-04-04 15:20:57                                                                             </td><td>2024-04-04 14:58:50                                                                            </td><td>2024-04-04 15:32:41                                                                             </td><td>2024-04-04 14:58:50                                                                            </td><td>2024-04-04 15:35:04                                                                             </td><td>2024-04-04 14:58:50                                                                            </td><td>2024-04-04 15:36:32                                                                              </td><td>2024-04-04 14:58:50                                                                             </td></tr>\n",
       "\t<tr><td>time_finished</td><td>2024-04-04 16:17:51                                                                          </td><td>2024-04-04 15:44:45                                                                         </td><td>2024-04-04 16:07:33                                                                             </td><td>2024-04-04 15:50:11                                                                            </td><td>2024-04-04 16:21:17                                                                             </td><td>2024-04-04 15:50:24                                                                            </td><td>2024-04-04 16:27:07                                                                             </td><td>2024-04-04 15:50:18                                                                            </td><td>2024-04-04 16:28:07                                                                              </td><td>2024-04-04 15:48:01                                                                             </td></tr>\n",
       "\t<tr><td>runtime      </td><td>01:09:27                                                                                     </td><td>00:48:06                                                                                    </td><td>00:46:35                                                                                        </td><td>00:51:21                                                                                       </td><td>00:48:36                                                                                        </td><td>00:51:34                                                                                       </td><td>00:52:03                                                                                        </td><td>00:51:28                                                                                       </td><td>00:51:35                                                                                         </td><td>00:49:11                                                                                        </td></tr>\n",
       "\t<tr><td>amount_RAM   </td><td>0.245569720864296                                                                            </td><td>0.245569720864296                                                                           </td><td>0.245569720864296                                                                               </td><td>0.245569724589586                                                                              </td><td>0.245569724589586                                                                               </td><td>0.245569724589586                                                                              </td><td>0.245569724589586                                                                               </td><td>0.245569724589586                                                                              </td><td>0.245569720864296                                                                                </td><td>0.245569720864296                                                                               </td></tr>\n",
       "\t<tr><td>number_cores </td><td>12                                                                                           </td><td>1                                                                                           </td><td>12                                                                                              </td><td>1                                                                                              </td><td>12                                                                                              </td><td>1                                                                                              </td><td>12                                                                                              </td><td>1                                                                                              </td><td>12                                                                                               </td><td>1                                                                                               </td></tr>\n",
       "\t<tr><td>scaffold_ID  </td><td>libd_chr1-chr1_all-libd_chr1-chr1_all-1-2000-dynamic-12corestotal-allcorepera-20240404-110529</td><td>libd_chr1-chr1_all-libd_chr1-chr1_all-1-2000-dynamic-1corestotal-allcorepera-20240404-110529</td><td>libd_chr1-chr1_all-libd_chr1-chr1_all-2001-4000-dynamic-12corestotal-allcorepera-20240404-110529</td><td>libd_chr1-chr1_all-libd_chr1-chr1_all-2001-4000-dynamic-1corestotal-allcorepera-20240404-110529</td><td>libd_chr1-chr1_all-libd_chr1-chr1_all-4001-6000-dynamic-12corestotal-allcorepera-20240404-110530</td><td>libd_chr1-chr1_all-libd_chr1-chr1_all-4001-6000-dynamic-1corestotal-allcorepera-20240404-110530</td><td>libd_chr1-chr1_all-libd_chr1-chr1_all-6001-8000-dynamic-12corestotal-allcorepera-20240404-110530</td><td>libd_chr1-chr1_all-libd_chr1-chr1_all-6001-8000-dynamic-1corestotal-allcorepera-20240404-110530</td><td>libd_chr1-chr1_all-libd_chr1-chr1_all-8001-10000-dynamic-12corestotal-allcorepera-20240404-110530</td><td>libd_chr1-chr1_all-libd_chr1-chr1_all-8001-10000-dynamic-1corestotal-allcorepera-20240404-110530</td></tr>\n",
       "</tbody>\n",
       "</table>\n"
      ],
      "text/latex": [
       "A tibble: 10 × 11\n",
       "\\begin{tabular}{lllllllllll}\n",
       " Parameter & libd\\_chr1-chr1\\_all-libd\\_chr1-chr1\\_all-1-2000-dynamic-12corestotal-allcorepera-20240404-110529-summary.csv & libd\\_chr1-chr1\\_all-libd\\_chr1-chr1\\_all-1-2000-dynamic-1corestotal-allcorepera-20240404-110529-summary.csv & libd\\_chr1-chr1\\_all-libd\\_chr1-chr1\\_all-2001-4000-dynamic-12corestotal-allcorepera-20240404-110529-summary.csv & libd\\_chr1-chr1\\_all-libd\\_chr1-chr1\\_all-2001-4000-dynamic-1corestotal-allcorepera-20240404-110529-summary.csv & libd\\_chr1-chr1\\_all-libd\\_chr1-chr1\\_all-4001-6000-dynamic-12corestotal-allcorepera-20240404-110530-summary.csv & libd\\_chr1-chr1\\_all-libd\\_chr1-chr1\\_all-4001-6000-dynamic-1corestotal-allcorepera-20240404-110530-summary.csv & libd\\_chr1-chr1\\_all-libd\\_chr1-chr1\\_all-6001-8000-dynamic-12corestotal-allcorepera-20240404-110530-summary.csv & libd\\_chr1-chr1\\_all-libd\\_chr1-chr1\\_all-6001-8000-dynamic-1corestotal-allcorepera-20240404-110530-summary.csv & libd\\_chr1-chr1\\_all-libd\\_chr1-chr1\\_all-8001-10000-dynamic-12corestotal-allcorepera-20240404-110530-summary.csv & libd\\_chr1-chr1\\_all-libd\\_chr1-chr1\\_all-8001-10000-dynamic-1corestotal-allcorepera-20240404-110530-summary.csv\\\\\n",
       " <chr> & <chr> & <chr> & <chr> & <chr> & <chr> & <chr> & <chr> & <chr> & <chr> & <chr>\\\\\n",
       "\\hline\n",
       "\t chunk1        & 1                                                                                             & 1                                                                                            & 2001                                                                                             & 2001                                                                                            & 4001                                                                                             & 4001                                                                                            & 6001                                                                                             & 6001                                                                                            & 8001                                                                                              & 8001                                                                                            \\\\\n",
       "\t chunk2        & 2000                                                                                          & 2000                                                                                         & 4000                                                                                             & 4000                                                                                            & 6000                                                                                             & 6000                                                                                            & 8000                                                                                             & 8000                                                                                            & 10000                                                                                             & 10000                                                                                           \\\\\n",
       "\t num\\_cores     & 12                                                                                            & 1                                                                                            & 12                                                                                               & 1                                                                                               & 12                                                                                               & 1                                                                                               & 12                                                                                               & 1                                                                                               & 12                                                                                                & 1                                                                                               \\\\\n",
       "\t tag           & libd\\_chr1-chr1\\_all-1-2000-dynamic-12corestotal-allcorepera-20240404-110529                    & libd\\_chr1-chr1\\_all-1-2000-dynamic-1corestotal-allcorepera-20240404-110529                    & libd\\_chr1-chr1\\_all-2001-4000-dynamic-12corestotal-allcorepera-20240404-110529                    & libd\\_chr1-chr1\\_all-2001-4000-dynamic-1corestotal-allcorepera-20240404-110529                    & libd\\_chr1-chr1\\_all-4001-6000-dynamic-12corestotal-allcorepera-20240404-110530                    & libd\\_chr1-chr1\\_all-4001-6000-dynamic-1corestotal-allcorepera-20240404-110530                    & libd\\_chr1-chr1\\_all-6001-8000-dynamic-12corestotal-allcorepera-20240404-110530                    & libd\\_chr1-chr1\\_all-6001-8000-dynamic-1corestotal-allcorepera-20240404-110530                    & libd\\_chr1-chr1\\_all-8001-10000-dynamic-12corestotal-allcorepera-20240404-110530                    & libd\\_chr1-chr1\\_all-8001-10000-dynamic-1corestotal-allcorepera-20240404-110530                   \\\\\n",
       "\t time\\_started  & 2024-04-04 15:08:23                                                                           & 2024-04-04 14:56:39                                                                          & 2024-04-04 15:20:57                                                                              & 2024-04-04 14:58:50                                                                             & 2024-04-04 15:32:41                                                                              & 2024-04-04 14:58:50                                                                             & 2024-04-04 15:35:04                                                                              & 2024-04-04 14:58:50                                                                             & 2024-04-04 15:36:32                                                                               & 2024-04-04 14:58:50                                                                             \\\\\n",
       "\t time\\_finished & 2024-04-04 16:17:51                                                                           & 2024-04-04 15:44:45                                                                          & 2024-04-04 16:07:33                                                                              & 2024-04-04 15:50:11                                                                             & 2024-04-04 16:21:17                                                                              & 2024-04-04 15:50:24                                                                             & 2024-04-04 16:27:07                                                                              & 2024-04-04 15:50:18                                                                             & 2024-04-04 16:28:07                                                                               & 2024-04-04 15:48:01                                                                             \\\\\n",
       "\t runtime       & 01:09:27                                                                                      & 00:48:06                                                                                     & 00:46:35                                                                                         & 00:51:21                                                                                        & 00:48:36                                                                                         & 00:51:34                                                                                        & 00:52:03                                                                                         & 00:51:28                                                                                        & 00:51:35                                                                                          & 00:49:11                                                                                        \\\\\n",
       "\t amount\\_RAM    & 0.245569720864296                                                                             & 0.245569720864296                                                                            & 0.245569720864296                                                                                & 0.245569724589586                                                                               & 0.245569724589586                                                                                & 0.245569724589586                                                                               & 0.245569724589586                                                                                & 0.245569724589586                                                                               & 0.245569720864296                                                                                 & 0.245569720864296                                                                               \\\\\n",
       "\t number\\_cores  & 12                                                                                            & 1                                                                                            & 12                                                                                               & 1                                                                                               & 12                                                                                               & 1                                                                                               & 12                                                                                               & 1                                                                                               & 12                                                                                                & 1                                                                                               \\\\\n",
       "\t scaffold\\_ID   & libd\\_chr1-chr1\\_all-libd\\_chr1-chr1\\_all-1-2000-dynamic-12corestotal-allcorepera-20240404-110529 & libd\\_chr1-chr1\\_all-libd\\_chr1-chr1\\_all-1-2000-dynamic-1corestotal-allcorepera-20240404-110529 & libd\\_chr1-chr1\\_all-libd\\_chr1-chr1\\_all-2001-4000-dynamic-12corestotal-allcorepera-20240404-110529 & libd\\_chr1-chr1\\_all-libd\\_chr1-chr1\\_all-2001-4000-dynamic-1corestotal-allcorepera-20240404-110529 & libd\\_chr1-chr1\\_all-libd\\_chr1-chr1\\_all-4001-6000-dynamic-12corestotal-allcorepera-20240404-110530 & libd\\_chr1-chr1\\_all-libd\\_chr1-chr1\\_all-4001-6000-dynamic-1corestotal-allcorepera-20240404-110530 & libd\\_chr1-chr1\\_all-libd\\_chr1-chr1\\_all-6001-8000-dynamic-12corestotal-allcorepera-20240404-110530 & libd\\_chr1-chr1\\_all-libd\\_chr1-chr1\\_all-6001-8000-dynamic-1corestotal-allcorepera-20240404-110530 & libd\\_chr1-chr1\\_all-libd\\_chr1-chr1\\_all-8001-10000-dynamic-12corestotal-allcorepera-20240404-110530 & libd\\_chr1-chr1\\_all-libd\\_chr1-chr1\\_all-8001-10000-dynamic-1corestotal-allcorepera-20240404-110530\\\\\n",
       "\\end{tabular}\n"
      ],
      "text/markdown": [
       "\n",
       "A tibble: 10 × 11\n",
       "\n",
       "| Parameter &lt;chr&gt; | libd_chr1-chr1_all-libd_chr1-chr1_all-1-2000-dynamic-12corestotal-allcorepera-20240404-110529-summary.csv &lt;chr&gt; | libd_chr1-chr1_all-libd_chr1-chr1_all-1-2000-dynamic-1corestotal-allcorepera-20240404-110529-summary.csv &lt;chr&gt; | libd_chr1-chr1_all-libd_chr1-chr1_all-2001-4000-dynamic-12corestotal-allcorepera-20240404-110529-summary.csv &lt;chr&gt; | libd_chr1-chr1_all-libd_chr1-chr1_all-2001-4000-dynamic-1corestotal-allcorepera-20240404-110529-summary.csv &lt;chr&gt; | libd_chr1-chr1_all-libd_chr1-chr1_all-4001-6000-dynamic-12corestotal-allcorepera-20240404-110530-summary.csv &lt;chr&gt; | libd_chr1-chr1_all-libd_chr1-chr1_all-4001-6000-dynamic-1corestotal-allcorepera-20240404-110530-summary.csv &lt;chr&gt; | libd_chr1-chr1_all-libd_chr1-chr1_all-6001-8000-dynamic-12corestotal-allcorepera-20240404-110530-summary.csv &lt;chr&gt; | libd_chr1-chr1_all-libd_chr1-chr1_all-6001-8000-dynamic-1corestotal-allcorepera-20240404-110530-summary.csv &lt;chr&gt; | libd_chr1-chr1_all-libd_chr1-chr1_all-8001-10000-dynamic-12corestotal-allcorepera-20240404-110530-summary.csv &lt;chr&gt; | libd_chr1-chr1_all-libd_chr1-chr1_all-8001-10000-dynamic-1corestotal-allcorepera-20240404-110530-summary.csv &lt;chr&gt; |\n",
       "|---|---|---|---|---|---|---|---|---|---|---|\n",
       "| chunk1        | 1                                                                                             | 1                                                                                            | 2001                                                                                             | 2001                                                                                            | 4001                                                                                             | 4001                                                                                            | 6001                                                                                             | 6001                                                                                            | 8001                                                                                              | 8001                                                                                             |\n",
       "| chunk2        | 2000                                                                                          | 2000                                                                                         | 4000                                                                                             | 4000                                                                                            | 6000                                                                                             | 6000                                                                                            | 8000                                                                                             | 8000                                                                                            | 10000                                                                                             | 10000                                                                                            |\n",
       "| num_cores     | 12                                                                                            | 1                                                                                            | 12                                                                                               | 1                                                                                               | 12                                                                                               | 1                                                                                               | 12                                                                                               | 1                                                                                               | 12                                                                                                | 1                                                                                                |\n",
       "| tag           | libd_chr1-chr1_all-1-2000-dynamic-12corestotal-allcorepera-20240404-110529                    | libd_chr1-chr1_all-1-2000-dynamic-1corestotal-allcorepera-20240404-110529                    | libd_chr1-chr1_all-2001-4000-dynamic-12corestotal-allcorepera-20240404-110529                    | libd_chr1-chr1_all-2001-4000-dynamic-1corestotal-allcorepera-20240404-110529                    | libd_chr1-chr1_all-4001-6000-dynamic-12corestotal-allcorepera-20240404-110530                    | libd_chr1-chr1_all-4001-6000-dynamic-1corestotal-allcorepera-20240404-110530                    | libd_chr1-chr1_all-6001-8000-dynamic-12corestotal-allcorepera-20240404-110530                    | libd_chr1-chr1_all-6001-8000-dynamic-1corestotal-allcorepera-20240404-110530                    | libd_chr1-chr1_all-8001-10000-dynamic-12corestotal-allcorepera-20240404-110530                    | libd_chr1-chr1_all-8001-10000-dynamic-1corestotal-allcorepera-20240404-110530                    |\n",
       "| time_started  | 2024-04-04 15:08:23                                                                           | 2024-04-04 14:56:39                                                                          | 2024-04-04 15:20:57                                                                              | 2024-04-04 14:58:50                                                                             | 2024-04-04 15:32:41                                                                              | 2024-04-04 14:58:50                                                                             | 2024-04-04 15:35:04                                                                              | 2024-04-04 14:58:50                                                                             | 2024-04-04 15:36:32                                                                               | 2024-04-04 14:58:50                                                                              |\n",
       "| time_finished | 2024-04-04 16:17:51                                                                           | 2024-04-04 15:44:45                                                                          | 2024-04-04 16:07:33                                                                              | 2024-04-04 15:50:11                                                                             | 2024-04-04 16:21:17                                                                              | 2024-04-04 15:50:24                                                                             | 2024-04-04 16:27:07                                                                              | 2024-04-04 15:50:18                                                                             | 2024-04-04 16:28:07                                                                               | 2024-04-04 15:48:01                                                                              |\n",
       "| runtime       | 01:09:27                                                                                      | 00:48:06                                                                                     | 00:46:35                                                                                         | 00:51:21                                                                                        | 00:48:36                                                                                         | 00:51:34                                                                                        | 00:52:03                                                                                         | 00:51:28                                                                                        | 00:51:35                                                                                          | 00:49:11                                                                                         |\n",
       "| amount_RAM    | 0.245569720864296                                                                             | 0.245569720864296                                                                            | 0.245569720864296                                                                                | 0.245569724589586                                                                               | 0.245569724589586                                                                                | 0.245569724589586                                                                               | 0.245569724589586                                                                                | 0.245569724589586                                                                               | 0.245569720864296                                                                                 | 0.245569720864296                                                                                |\n",
       "| number_cores  | 12                                                                                            | 1                                                                                            | 12                                                                                               | 1                                                                                               | 12                                                                                               | 1                                                                                               | 12                                                                                               | 1                                                                                               | 12                                                                                                | 1                                                                                                |\n",
       "| scaffold_ID   | libd_chr1-chr1_all-libd_chr1-chr1_all-1-2000-dynamic-12corestotal-allcorepera-20240404-110529 | libd_chr1-chr1_all-libd_chr1-chr1_all-1-2000-dynamic-1corestotal-allcorepera-20240404-110529 | libd_chr1-chr1_all-libd_chr1-chr1_all-2001-4000-dynamic-12corestotal-allcorepera-20240404-110529 | libd_chr1-chr1_all-libd_chr1-chr1_all-2001-4000-dynamic-1corestotal-allcorepera-20240404-110529 | libd_chr1-chr1_all-libd_chr1-chr1_all-4001-6000-dynamic-12corestotal-allcorepera-20240404-110530 | libd_chr1-chr1_all-libd_chr1-chr1_all-4001-6000-dynamic-1corestotal-allcorepera-20240404-110530 | libd_chr1-chr1_all-libd_chr1-chr1_all-6001-8000-dynamic-12corestotal-allcorepera-20240404-110530 | libd_chr1-chr1_all-libd_chr1-chr1_all-6001-8000-dynamic-1corestotal-allcorepera-20240404-110530 | libd_chr1-chr1_all-libd_chr1-chr1_all-8001-10000-dynamic-12corestotal-allcorepera-20240404-110530 | libd_chr1-chr1_all-libd_chr1-chr1_all-8001-10000-dynamic-1corestotal-allcorepera-20240404-110530 |\n",
       "\n"
      ],
      "text/plain": [
       "   Parameter    \n",
       "1  chunk1       \n",
       "2  chunk2       \n",
       "3  num_cores    \n",
       "4  tag          \n",
       "5  time_started \n",
       "6  time_finished\n",
       "7  runtime      \n",
       "8  amount_RAM   \n",
       "9  number_cores \n",
       "10 scaffold_ID  \n",
       "   libd_chr1-chr1_all-libd_chr1-chr1_all-1-2000-dynamic-12corestotal-allcorepera-20240404-110529-summary.csv\n",
       "1  1                                                                                                        \n",
       "2  2000                                                                                                     \n",
       "3  12                                                                                                       \n",
       "4  libd_chr1-chr1_all-1-2000-dynamic-12corestotal-allcorepera-20240404-110529                               \n",
       "5  2024-04-04 15:08:23                                                                                      \n",
       "6  2024-04-04 16:17:51                                                                                      \n",
       "7  01:09:27                                                                                                 \n",
       "8  0.245569720864296                                                                                        \n",
       "9  12                                                                                                       \n",
       "10 libd_chr1-chr1_all-libd_chr1-chr1_all-1-2000-dynamic-12corestotal-allcorepera-20240404-110529            \n",
       "   libd_chr1-chr1_all-libd_chr1-chr1_all-1-2000-dynamic-1corestotal-allcorepera-20240404-110529-summary.csv\n",
       "1  1                                                                                                       \n",
       "2  2000                                                                                                    \n",
       "3  1                                                                                                       \n",
       "4  libd_chr1-chr1_all-1-2000-dynamic-1corestotal-allcorepera-20240404-110529                               \n",
       "5  2024-04-04 14:56:39                                                                                     \n",
       "6  2024-04-04 15:44:45                                                                                     \n",
       "7  00:48:06                                                                                                \n",
       "8  0.245569720864296                                                                                       \n",
       "9  1                                                                                                       \n",
       "10 libd_chr1-chr1_all-libd_chr1-chr1_all-1-2000-dynamic-1corestotal-allcorepera-20240404-110529            \n",
       "   libd_chr1-chr1_all-libd_chr1-chr1_all-2001-4000-dynamic-12corestotal-allcorepera-20240404-110529-summary.csv\n",
       "1  2001                                                                                                        \n",
       "2  4000                                                                                                        \n",
       "3  12                                                                                                          \n",
       "4  libd_chr1-chr1_all-2001-4000-dynamic-12corestotal-allcorepera-20240404-110529                               \n",
       "5  2024-04-04 15:20:57                                                                                         \n",
       "6  2024-04-04 16:07:33                                                                                         \n",
       "7  00:46:35                                                                                                    \n",
       "8  0.245569720864296                                                                                           \n",
       "9  12                                                                                                          \n",
       "10 libd_chr1-chr1_all-libd_chr1-chr1_all-2001-4000-dynamic-12corestotal-allcorepera-20240404-110529            \n",
       "   libd_chr1-chr1_all-libd_chr1-chr1_all-2001-4000-dynamic-1corestotal-allcorepera-20240404-110529-summary.csv\n",
       "1  2001                                                                                                       \n",
       "2  4000                                                                                                       \n",
       "3  1                                                                                                          \n",
       "4  libd_chr1-chr1_all-2001-4000-dynamic-1corestotal-allcorepera-20240404-110529                               \n",
       "5  2024-04-04 14:58:50                                                                                        \n",
       "6  2024-04-04 15:50:11                                                                                        \n",
       "7  00:51:21                                                                                                   \n",
       "8  0.245569724589586                                                                                          \n",
       "9  1                                                                                                          \n",
       "10 libd_chr1-chr1_all-libd_chr1-chr1_all-2001-4000-dynamic-1corestotal-allcorepera-20240404-110529            \n",
       "   libd_chr1-chr1_all-libd_chr1-chr1_all-4001-6000-dynamic-12corestotal-allcorepera-20240404-110530-summary.csv\n",
       "1  4001                                                                                                        \n",
       "2  6000                                                                                                        \n",
       "3  12                                                                                                          \n",
       "4  libd_chr1-chr1_all-4001-6000-dynamic-12corestotal-allcorepera-20240404-110530                               \n",
       "5  2024-04-04 15:32:41                                                                                         \n",
       "6  2024-04-04 16:21:17                                                                                         \n",
       "7  00:48:36                                                                                                    \n",
       "8  0.245569724589586                                                                                           \n",
       "9  12                                                                                                          \n",
       "10 libd_chr1-chr1_all-libd_chr1-chr1_all-4001-6000-dynamic-12corestotal-allcorepera-20240404-110530            \n",
       "   libd_chr1-chr1_all-libd_chr1-chr1_all-4001-6000-dynamic-1corestotal-allcorepera-20240404-110530-summary.csv\n",
       "1  4001                                                                                                       \n",
       "2  6000                                                                                                       \n",
       "3  1                                                                                                          \n",
       "4  libd_chr1-chr1_all-4001-6000-dynamic-1corestotal-allcorepera-20240404-110530                               \n",
       "5  2024-04-04 14:58:50                                                                                        \n",
       "6  2024-04-04 15:50:24                                                                                        \n",
       "7  00:51:34                                                                                                   \n",
       "8  0.245569724589586                                                                                          \n",
       "9  1                                                                                                          \n",
       "10 libd_chr1-chr1_all-libd_chr1-chr1_all-4001-6000-dynamic-1corestotal-allcorepera-20240404-110530            \n",
       "   libd_chr1-chr1_all-libd_chr1-chr1_all-6001-8000-dynamic-12corestotal-allcorepera-20240404-110530-summary.csv\n",
       "1  6001                                                                                                        \n",
       "2  8000                                                                                                        \n",
       "3  12                                                                                                          \n",
       "4  libd_chr1-chr1_all-6001-8000-dynamic-12corestotal-allcorepera-20240404-110530                               \n",
       "5  2024-04-04 15:35:04                                                                                         \n",
       "6  2024-04-04 16:27:07                                                                                         \n",
       "7  00:52:03                                                                                                    \n",
       "8  0.245569724589586                                                                                           \n",
       "9  12                                                                                                          \n",
       "10 libd_chr1-chr1_all-libd_chr1-chr1_all-6001-8000-dynamic-12corestotal-allcorepera-20240404-110530            \n",
       "   libd_chr1-chr1_all-libd_chr1-chr1_all-6001-8000-dynamic-1corestotal-allcorepera-20240404-110530-summary.csv\n",
       "1  6001                                                                                                       \n",
       "2  8000                                                                                                       \n",
       "3  1                                                                                                          \n",
       "4  libd_chr1-chr1_all-6001-8000-dynamic-1corestotal-allcorepera-20240404-110530                               \n",
       "5  2024-04-04 14:58:50                                                                                        \n",
       "6  2024-04-04 15:50:18                                                                                        \n",
       "7  00:51:28                                                                                                   \n",
       "8  0.245569724589586                                                                                          \n",
       "9  1                                                                                                          \n",
       "10 libd_chr1-chr1_all-libd_chr1-chr1_all-6001-8000-dynamic-1corestotal-allcorepera-20240404-110530            \n",
       "   libd_chr1-chr1_all-libd_chr1-chr1_all-8001-10000-dynamic-12corestotal-allcorepera-20240404-110530-summary.csv\n",
       "1  8001                                                                                                         \n",
       "2  10000                                                                                                        \n",
       "3  12                                                                                                           \n",
       "4  libd_chr1-chr1_all-8001-10000-dynamic-12corestotal-allcorepera-20240404-110530                               \n",
       "5  2024-04-04 15:36:32                                                                                          \n",
       "6  2024-04-04 16:28:07                                                                                          \n",
       "7  00:51:35                                                                                                     \n",
       "8  0.245569720864296                                                                                            \n",
       "9  12                                                                                                           \n",
       "10 libd_chr1-chr1_all-libd_chr1-chr1_all-8001-10000-dynamic-12corestotal-allcorepera-20240404-110530            \n",
       "   libd_chr1-chr1_all-libd_chr1-chr1_all-8001-10000-dynamic-1corestotal-allcorepera-20240404-110530-summary.csv\n",
       "1  8001                                                                                                        \n",
       "2  10000                                                                                                       \n",
       "3  1                                                                                                           \n",
       "4  libd_chr1-chr1_all-8001-10000-dynamic-1corestotal-allcorepera-20240404-110530                               \n",
       "5  2024-04-04 14:58:50                                                                                         \n",
       "6  2024-04-04 15:48:01                                                                                         \n",
       "7  00:49:11                                                                                                    \n",
       "8  0.245569720864296                                                                                           \n",
       "9  1                                                                                                           \n",
       "10 libd_chr1-chr1_all-libd_chr1-chr1_all-8001-10000-dynamic-1corestotal-allcorepera-20240404-110530            "
      ]
     },
     "metadata": {},
     "output_type": "display_data"
    }
   ],
   "source": [
    "directory <- \"/expanse/lustre/projects/jhu152/naglemi/mwas/CpGWAS/output/10k_window/\"\n",
    "summary_table <- read_and_summarize_differences(directory)\n",
    "summary_table"
   ]
  },
  {
   "cell_type": "markdown",
   "id": "3d9b6d61-07ee-4325-aa0e-b908cf24449e",
   "metadata": {},
   "source": [
    "## Compute core-hours per test"
   ]
  },
  {
   "cell_type": "code",
   "execution_count": 3,
   "id": "a231ce51-2bbc-4893-bca6-ec8a521ca029",
   "metadata": {},
   "outputs": [
    {
     "data": {
      "text/html": [
       "10000"
      ],
      "text/latex": [
       "10000"
      ],
      "text/markdown": [
       "10000"
      ],
      "text/plain": [
       "[1] 10000"
      ]
     },
     "metadata": {},
     "output_type": "display_data"
    }
   ],
   "source": [
    "windows <- c(10000)\n",
    "n_windows <- length(windows)\n",
    "alphas <- seq(0.5) # left out 0 on first run\n",
    "n_alphas <- length(alphas)\n",
    "chunks <- 10000\n",
    "n_tests <- n_windows * n_alphas * chunks\n",
    "n_tests"
   ]
  },
  {
   "cell_type": "code",
   "execution_count": 4,
   "id": "72d144e0-9151-4871-9bf4-adb32a555e9b",
   "metadata": {},
   "outputs": [
    {
     "data": {
      "text/html": [
       "1"
      ],
      "text/latex": [
       "1"
      ],
      "text/markdown": [
       "1"
      ],
      "text/plain": [
       "[1] 1"
      ]
     },
     "metadata": {},
     "output_type": "display_data"
    }
   ],
   "source": [
    "alphas"
   ]
  },
  {
   "cell_type": "code",
   "execution_count": 5,
   "id": "fc628bd0-2b8a-4d25-b0df-6e3836e0fa11",
   "metadata": {},
   "outputs": [
    {
     "data": {
      "text/html": [
       "<style>\n",
       ".list-inline {list-style: none; margin:0; padding: 0}\n",
       ".list-inline>li {display: inline-block}\n",
       ".list-inline>li:not(:last-child)::after {content: \"\\00b7\"; padding: 0 .5ex}\n",
       "</style>\n",
       "<ol class=list-inline><li>'Parameter'</li><li>'libd_chr1-chr1_all-libd_chr1-chr1_all-1-2000-dynamic-12corestotal-allcorepera-20240404-110529-summary.csv'</li><li>'libd_chr1-chr1_all-libd_chr1-chr1_all-1-2000-dynamic-1corestotal-allcorepera-20240404-110529-summary.csv'</li><li>'libd_chr1-chr1_all-libd_chr1-chr1_all-2001-4000-dynamic-12corestotal-allcorepera-20240404-110529-summary.csv'</li><li>'libd_chr1-chr1_all-libd_chr1-chr1_all-2001-4000-dynamic-1corestotal-allcorepera-20240404-110529-summary.csv'</li><li>'libd_chr1-chr1_all-libd_chr1-chr1_all-4001-6000-dynamic-12corestotal-allcorepera-20240404-110530-summary.csv'</li><li>'libd_chr1-chr1_all-libd_chr1-chr1_all-4001-6000-dynamic-1corestotal-allcorepera-20240404-110530-summary.csv'</li><li>'libd_chr1-chr1_all-libd_chr1-chr1_all-6001-8000-dynamic-12corestotal-allcorepera-20240404-110530-summary.csv'</li><li>'libd_chr1-chr1_all-libd_chr1-chr1_all-6001-8000-dynamic-1corestotal-allcorepera-20240404-110530-summary.csv'</li><li>'libd_chr1-chr1_all-libd_chr1-chr1_all-8001-10000-dynamic-12corestotal-allcorepera-20240404-110530-summary.csv'</li><li>'libd_chr1-chr1_all-libd_chr1-chr1_all-8001-10000-dynamic-1corestotal-allcorepera-20240404-110530-summary.csv'</li></ol>\n"
      ],
      "text/latex": [
       "\\begin{enumerate*}\n",
       "\\item 'Parameter'\n",
       "\\item 'libd\\_chr1-chr1\\_all-libd\\_chr1-chr1\\_all-1-2000-dynamic-12corestotal-allcorepera-20240404-110529-summary.csv'\n",
       "\\item 'libd\\_chr1-chr1\\_all-libd\\_chr1-chr1\\_all-1-2000-dynamic-1corestotal-allcorepera-20240404-110529-summary.csv'\n",
       "\\item 'libd\\_chr1-chr1\\_all-libd\\_chr1-chr1\\_all-2001-4000-dynamic-12corestotal-allcorepera-20240404-110529-summary.csv'\n",
       "\\item 'libd\\_chr1-chr1\\_all-libd\\_chr1-chr1\\_all-2001-4000-dynamic-1corestotal-allcorepera-20240404-110529-summary.csv'\n",
       "\\item 'libd\\_chr1-chr1\\_all-libd\\_chr1-chr1\\_all-4001-6000-dynamic-12corestotal-allcorepera-20240404-110530-summary.csv'\n",
       "\\item 'libd\\_chr1-chr1\\_all-libd\\_chr1-chr1\\_all-4001-6000-dynamic-1corestotal-allcorepera-20240404-110530-summary.csv'\n",
       "\\item 'libd\\_chr1-chr1\\_all-libd\\_chr1-chr1\\_all-6001-8000-dynamic-12corestotal-allcorepera-20240404-110530-summary.csv'\n",
       "\\item 'libd\\_chr1-chr1\\_all-libd\\_chr1-chr1\\_all-6001-8000-dynamic-1corestotal-allcorepera-20240404-110530-summary.csv'\n",
       "\\item 'libd\\_chr1-chr1\\_all-libd\\_chr1-chr1\\_all-8001-10000-dynamic-12corestotal-allcorepera-20240404-110530-summary.csv'\n",
       "\\item 'libd\\_chr1-chr1\\_all-libd\\_chr1-chr1\\_all-8001-10000-dynamic-1corestotal-allcorepera-20240404-110530-summary.csv'\n",
       "\\end{enumerate*}\n"
      ],
      "text/markdown": [
       "1. 'Parameter'\n",
       "2. 'libd_chr1-chr1_all-libd_chr1-chr1_all-1-2000-dynamic-12corestotal-allcorepera-20240404-110529-summary.csv'\n",
       "3. 'libd_chr1-chr1_all-libd_chr1-chr1_all-1-2000-dynamic-1corestotal-allcorepera-20240404-110529-summary.csv'\n",
       "4. 'libd_chr1-chr1_all-libd_chr1-chr1_all-2001-4000-dynamic-12corestotal-allcorepera-20240404-110529-summary.csv'\n",
       "5. 'libd_chr1-chr1_all-libd_chr1-chr1_all-2001-4000-dynamic-1corestotal-allcorepera-20240404-110529-summary.csv'\n",
       "6. 'libd_chr1-chr1_all-libd_chr1-chr1_all-4001-6000-dynamic-12corestotal-allcorepera-20240404-110530-summary.csv'\n",
       "7. 'libd_chr1-chr1_all-libd_chr1-chr1_all-4001-6000-dynamic-1corestotal-allcorepera-20240404-110530-summary.csv'\n",
       "8. 'libd_chr1-chr1_all-libd_chr1-chr1_all-6001-8000-dynamic-12corestotal-allcorepera-20240404-110530-summary.csv'\n",
       "9. 'libd_chr1-chr1_all-libd_chr1-chr1_all-6001-8000-dynamic-1corestotal-allcorepera-20240404-110530-summary.csv'\n",
       "10. 'libd_chr1-chr1_all-libd_chr1-chr1_all-8001-10000-dynamic-12corestotal-allcorepera-20240404-110530-summary.csv'\n",
       "11. 'libd_chr1-chr1_all-libd_chr1-chr1_all-8001-10000-dynamic-1corestotal-allcorepera-20240404-110530-summary.csv'\n",
       "\n",
       "\n"
      ],
      "text/plain": [
       " [1] \"Parameter\"                                                                                                    \n",
       " [2] \"libd_chr1-chr1_all-libd_chr1-chr1_all-1-2000-dynamic-12corestotal-allcorepera-20240404-110529-summary.csv\"    \n",
       " [3] \"libd_chr1-chr1_all-libd_chr1-chr1_all-1-2000-dynamic-1corestotal-allcorepera-20240404-110529-summary.csv\"     \n",
       " [4] \"libd_chr1-chr1_all-libd_chr1-chr1_all-2001-4000-dynamic-12corestotal-allcorepera-20240404-110529-summary.csv\" \n",
       " [5] \"libd_chr1-chr1_all-libd_chr1-chr1_all-2001-4000-dynamic-1corestotal-allcorepera-20240404-110529-summary.csv\"  \n",
       " [6] \"libd_chr1-chr1_all-libd_chr1-chr1_all-4001-6000-dynamic-12corestotal-allcorepera-20240404-110530-summary.csv\" \n",
       " [7] \"libd_chr1-chr1_all-libd_chr1-chr1_all-4001-6000-dynamic-1corestotal-allcorepera-20240404-110530-summary.csv\"  \n",
       " [8] \"libd_chr1-chr1_all-libd_chr1-chr1_all-6001-8000-dynamic-12corestotal-allcorepera-20240404-110530-summary.csv\" \n",
       " [9] \"libd_chr1-chr1_all-libd_chr1-chr1_all-6001-8000-dynamic-1corestotal-allcorepera-20240404-110530-summary.csv\"  \n",
       "[10] \"libd_chr1-chr1_all-libd_chr1-chr1_all-8001-10000-dynamic-12corestotal-allcorepera-20240404-110530-summary.csv\"\n",
       "[11] \"libd_chr1-chr1_all-libd_chr1-chr1_all-8001-10000-dynamic-1corestotal-allcorepera-20240404-110530-summary.csv\" "
      ]
     },
     "metadata": {},
     "output_type": "display_data"
    }
   ],
   "source": [
    "colnames(summary_table)"
   ]
  },
  {
   "cell_type": "code",
   "execution_count": 6,
   "id": "dc35e0ef-9890-488d-aacb-b76370b8069e",
   "metadata": {},
   "outputs": [
    {
     "data": {
      "text/html": [
       "<table class=\"dataframe\">\n",
       "<caption>A tibble: 10 × 11</caption>\n",
       "<thead>\n",
       "\t<tr><th scope=col>Parameter</th><th scope=col>libd_chr1-chr1_all-libd_chr1-chr1_all-1-2000-dynamic-12corestotal-allcorepera-20240404-110529-summary.csv</th><th scope=col>libd_chr1-chr1_all-libd_chr1-chr1_all-1-2000-dynamic-1corestotal-allcorepera-20240404-110529-summary.csv</th><th scope=col>libd_chr1-chr1_all-libd_chr1-chr1_all-2001-4000-dynamic-12corestotal-allcorepera-20240404-110529-summary.csv</th><th scope=col>libd_chr1-chr1_all-libd_chr1-chr1_all-2001-4000-dynamic-1corestotal-allcorepera-20240404-110529-summary.csv</th><th scope=col>libd_chr1-chr1_all-libd_chr1-chr1_all-4001-6000-dynamic-12corestotal-allcorepera-20240404-110530-summary.csv</th><th scope=col>libd_chr1-chr1_all-libd_chr1-chr1_all-4001-6000-dynamic-1corestotal-allcorepera-20240404-110530-summary.csv</th><th scope=col>libd_chr1-chr1_all-libd_chr1-chr1_all-6001-8000-dynamic-12corestotal-allcorepera-20240404-110530-summary.csv</th><th scope=col>libd_chr1-chr1_all-libd_chr1-chr1_all-6001-8000-dynamic-1corestotal-allcorepera-20240404-110530-summary.csv</th><th scope=col>libd_chr1-chr1_all-libd_chr1-chr1_all-8001-10000-dynamic-12corestotal-allcorepera-20240404-110530-summary.csv</th><th scope=col>libd_chr1-chr1_all-libd_chr1-chr1_all-8001-10000-dynamic-1corestotal-allcorepera-20240404-110530-summary.csv</th></tr>\n",
       "\t<tr><th scope=col>&lt;chr&gt;</th><th scope=col>&lt;chr&gt;</th><th scope=col>&lt;chr&gt;</th><th scope=col>&lt;chr&gt;</th><th scope=col>&lt;chr&gt;</th><th scope=col>&lt;chr&gt;</th><th scope=col>&lt;chr&gt;</th><th scope=col>&lt;chr&gt;</th><th scope=col>&lt;chr&gt;</th><th scope=col>&lt;chr&gt;</th><th scope=col>&lt;chr&gt;</th></tr>\n",
       "</thead>\n",
       "<tbody>\n",
       "\t<tr><td>chunk1       </td><td>1                                                                                            </td><td>1                                                                                           </td><td>2001                                                                                            </td><td>2001                                                                                           </td><td>4001                                                                                            </td><td>4001                                                                                           </td><td>6001                                                                                            </td><td>6001                                                                                           </td><td>8001                                                                                             </td><td>8001                                                                                            </td></tr>\n",
       "\t<tr><td>chunk2       </td><td>2000                                                                                         </td><td>2000                                                                                        </td><td>4000                                                                                            </td><td>4000                                                                                           </td><td>6000                                                                                            </td><td>6000                                                                                           </td><td>8000                                                                                            </td><td>8000                                                                                           </td><td>10000                                                                                            </td><td>10000                                                                                           </td></tr>\n",
       "\t<tr><td>num_cores    </td><td>12                                                                                           </td><td>1                                                                                           </td><td>12                                                                                              </td><td>1                                                                                              </td><td>12                                                                                              </td><td>1                                                                                              </td><td>12                                                                                              </td><td>1                                                                                              </td><td>12                                                                                               </td><td>1                                                                                               </td></tr>\n",
       "\t<tr><td>tag          </td><td>libd_chr1-chr1_all-1-2000-dynamic-12corestotal-allcorepera-20240404-110529                   </td><td>libd_chr1-chr1_all-1-2000-dynamic-1corestotal-allcorepera-20240404-110529                   </td><td>libd_chr1-chr1_all-2001-4000-dynamic-12corestotal-allcorepera-20240404-110529                   </td><td>libd_chr1-chr1_all-2001-4000-dynamic-1corestotal-allcorepera-20240404-110529                   </td><td>libd_chr1-chr1_all-4001-6000-dynamic-12corestotal-allcorepera-20240404-110530                   </td><td>libd_chr1-chr1_all-4001-6000-dynamic-1corestotal-allcorepera-20240404-110530                   </td><td>libd_chr1-chr1_all-6001-8000-dynamic-12corestotal-allcorepera-20240404-110530                   </td><td>libd_chr1-chr1_all-6001-8000-dynamic-1corestotal-allcorepera-20240404-110530                   </td><td>libd_chr1-chr1_all-8001-10000-dynamic-12corestotal-allcorepera-20240404-110530                   </td><td>libd_chr1-chr1_all-8001-10000-dynamic-1corestotal-allcorepera-20240404-110530                   </td></tr>\n",
       "\t<tr><td>time_started </td><td>2024-04-04 15:08:23                                                                          </td><td>2024-04-04 14:56:39                                                                         </td><td>2024-04-04 15:20:57                                                                             </td><td>2024-04-04 14:58:50                                                                            </td><td>2024-04-04 15:32:41                                                                             </td><td>2024-04-04 14:58:50                                                                            </td><td>2024-04-04 15:35:04                                                                             </td><td>2024-04-04 14:58:50                                                                            </td><td>2024-04-04 15:36:32                                                                              </td><td>2024-04-04 14:58:50                                                                             </td></tr>\n",
       "\t<tr><td>time_finished</td><td>2024-04-04 16:17:51                                                                          </td><td>2024-04-04 15:44:45                                                                         </td><td>2024-04-04 16:07:33                                                                             </td><td>2024-04-04 15:50:11                                                                            </td><td>2024-04-04 16:21:17                                                                             </td><td>2024-04-04 15:50:24                                                                            </td><td>2024-04-04 16:27:07                                                                             </td><td>2024-04-04 15:50:18                                                                            </td><td>2024-04-04 16:28:07                                                                              </td><td>2024-04-04 15:48:01                                                                             </td></tr>\n",
       "\t<tr><td>runtime      </td><td>01:09:27                                                                                     </td><td>00:48:06                                                                                    </td><td>00:46:35                                                                                        </td><td>00:51:21                                                                                       </td><td>00:48:36                                                                                        </td><td>00:51:34                                                                                       </td><td>00:52:03                                                                                        </td><td>00:51:28                                                                                       </td><td>00:51:35                                                                                         </td><td>00:49:11                                                                                        </td></tr>\n",
       "\t<tr><td>amount_RAM   </td><td>0.245569720864296                                                                            </td><td>0.245569720864296                                                                           </td><td>0.245569720864296                                                                               </td><td>0.245569724589586                                                                              </td><td>0.245569724589586                                                                               </td><td>0.245569724589586                                                                              </td><td>0.245569724589586                                                                               </td><td>0.245569724589586                                                                              </td><td>0.245569720864296                                                                                </td><td>0.245569720864296                                                                               </td></tr>\n",
       "\t<tr><td>number_cores </td><td>12                                                                                           </td><td>1                                                                                           </td><td>12                                                                                              </td><td>1                                                                                              </td><td>12                                                                                              </td><td>1                                                                                              </td><td>12                                                                                              </td><td>1                                                                                              </td><td>12                                                                                               </td><td>1                                                                                               </td></tr>\n",
       "\t<tr><td>scaffold_ID  </td><td>libd_chr1-chr1_all-libd_chr1-chr1_all-1-2000-dynamic-12corestotal-allcorepera-20240404-110529</td><td>libd_chr1-chr1_all-libd_chr1-chr1_all-1-2000-dynamic-1corestotal-allcorepera-20240404-110529</td><td>libd_chr1-chr1_all-libd_chr1-chr1_all-2001-4000-dynamic-12corestotal-allcorepera-20240404-110529</td><td>libd_chr1-chr1_all-libd_chr1-chr1_all-2001-4000-dynamic-1corestotal-allcorepera-20240404-110529</td><td>libd_chr1-chr1_all-libd_chr1-chr1_all-4001-6000-dynamic-12corestotal-allcorepera-20240404-110530</td><td>libd_chr1-chr1_all-libd_chr1-chr1_all-4001-6000-dynamic-1corestotal-allcorepera-20240404-110530</td><td>libd_chr1-chr1_all-libd_chr1-chr1_all-6001-8000-dynamic-12corestotal-allcorepera-20240404-110530</td><td>libd_chr1-chr1_all-libd_chr1-chr1_all-6001-8000-dynamic-1corestotal-allcorepera-20240404-110530</td><td>libd_chr1-chr1_all-libd_chr1-chr1_all-8001-10000-dynamic-12corestotal-allcorepera-20240404-110530</td><td>libd_chr1-chr1_all-libd_chr1-chr1_all-8001-10000-dynamic-1corestotal-allcorepera-20240404-110530</td></tr>\n",
       "</tbody>\n",
       "</table>\n"
      ],
      "text/latex": [
       "A tibble: 10 × 11\n",
       "\\begin{tabular}{lllllllllll}\n",
       " Parameter & libd\\_chr1-chr1\\_all-libd\\_chr1-chr1\\_all-1-2000-dynamic-12corestotal-allcorepera-20240404-110529-summary.csv & libd\\_chr1-chr1\\_all-libd\\_chr1-chr1\\_all-1-2000-dynamic-1corestotal-allcorepera-20240404-110529-summary.csv & libd\\_chr1-chr1\\_all-libd\\_chr1-chr1\\_all-2001-4000-dynamic-12corestotal-allcorepera-20240404-110529-summary.csv & libd\\_chr1-chr1\\_all-libd\\_chr1-chr1\\_all-2001-4000-dynamic-1corestotal-allcorepera-20240404-110529-summary.csv & libd\\_chr1-chr1\\_all-libd\\_chr1-chr1\\_all-4001-6000-dynamic-12corestotal-allcorepera-20240404-110530-summary.csv & libd\\_chr1-chr1\\_all-libd\\_chr1-chr1\\_all-4001-6000-dynamic-1corestotal-allcorepera-20240404-110530-summary.csv & libd\\_chr1-chr1\\_all-libd\\_chr1-chr1\\_all-6001-8000-dynamic-12corestotal-allcorepera-20240404-110530-summary.csv & libd\\_chr1-chr1\\_all-libd\\_chr1-chr1\\_all-6001-8000-dynamic-1corestotal-allcorepera-20240404-110530-summary.csv & libd\\_chr1-chr1\\_all-libd\\_chr1-chr1\\_all-8001-10000-dynamic-12corestotal-allcorepera-20240404-110530-summary.csv & libd\\_chr1-chr1\\_all-libd\\_chr1-chr1\\_all-8001-10000-dynamic-1corestotal-allcorepera-20240404-110530-summary.csv\\\\\n",
       " <chr> & <chr> & <chr> & <chr> & <chr> & <chr> & <chr> & <chr> & <chr> & <chr> & <chr>\\\\\n",
       "\\hline\n",
       "\t chunk1        & 1                                                                                             & 1                                                                                            & 2001                                                                                             & 2001                                                                                            & 4001                                                                                             & 4001                                                                                            & 6001                                                                                             & 6001                                                                                            & 8001                                                                                              & 8001                                                                                            \\\\\n",
       "\t chunk2        & 2000                                                                                          & 2000                                                                                         & 4000                                                                                             & 4000                                                                                            & 6000                                                                                             & 6000                                                                                            & 8000                                                                                             & 8000                                                                                            & 10000                                                                                             & 10000                                                                                           \\\\\n",
       "\t num\\_cores     & 12                                                                                            & 1                                                                                            & 12                                                                                               & 1                                                                                               & 12                                                                                               & 1                                                                                               & 12                                                                                               & 1                                                                                               & 12                                                                                                & 1                                                                                               \\\\\n",
       "\t tag           & libd\\_chr1-chr1\\_all-1-2000-dynamic-12corestotal-allcorepera-20240404-110529                    & libd\\_chr1-chr1\\_all-1-2000-dynamic-1corestotal-allcorepera-20240404-110529                    & libd\\_chr1-chr1\\_all-2001-4000-dynamic-12corestotal-allcorepera-20240404-110529                    & libd\\_chr1-chr1\\_all-2001-4000-dynamic-1corestotal-allcorepera-20240404-110529                    & libd\\_chr1-chr1\\_all-4001-6000-dynamic-12corestotal-allcorepera-20240404-110530                    & libd\\_chr1-chr1\\_all-4001-6000-dynamic-1corestotal-allcorepera-20240404-110530                    & libd\\_chr1-chr1\\_all-6001-8000-dynamic-12corestotal-allcorepera-20240404-110530                    & libd\\_chr1-chr1\\_all-6001-8000-dynamic-1corestotal-allcorepera-20240404-110530                    & libd\\_chr1-chr1\\_all-8001-10000-dynamic-12corestotal-allcorepera-20240404-110530                    & libd\\_chr1-chr1\\_all-8001-10000-dynamic-1corestotal-allcorepera-20240404-110530                   \\\\\n",
       "\t time\\_started  & 2024-04-04 15:08:23                                                                           & 2024-04-04 14:56:39                                                                          & 2024-04-04 15:20:57                                                                              & 2024-04-04 14:58:50                                                                             & 2024-04-04 15:32:41                                                                              & 2024-04-04 14:58:50                                                                             & 2024-04-04 15:35:04                                                                              & 2024-04-04 14:58:50                                                                             & 2024-04-04 15:36:32                                                                               & 2024-04-04 14:58:50                                                                             \\\\\n",
       "\t time\\_finished & 2024-04-04 16:17:51                                                                           & 2024-04-04 15:44:45                                                                          & 2024-04-04 16:07:33                                                                              & 2024-04-04 15:50:11                                                                             & 2024-04-04 16:21:17                                                                              & 2024-04-04 15:50:24                                                                             & 2024-04-04 16:27:07                                                                              & 2024-04-04 15:50:18                                                                             & 2024-04-04 16:28:07                                                                               & 2024-04-04 15:48:01                                                                             \\\\\n",
       "\t runtime       & 01:09:27                                                                                      & 00:48:06                                                                                     & 00:46:35                                                                                         & 00:51:21                                                                                        & 00:48:36                                                                                         & 00:51:34                                                                                        & 00:52:03                                                                                         & 00:51:28                                                                                        & 00:51:35                                                                                          & 00:49:11                                                                                        \\\\\n",
       "\t amount\\_RAM    & 0.245569720864296                                                                             & 0.245569720864296                                                                            & 0.245569720864296                                                                                & 0.245569724589586                                                                               & 0.245569724589586                                                                                & 0.245569724589586                                                                               & 0.245569724589586                                                                                & 0.245569724589586                                                                               & 0.245569720864296                                                                                 & 0.245569720864296                                                                               \\\\\n",
       "\t number\\_cores  & 12                                                                                            & 1                                                                                            & 12                                                                                               & 1                                                                                               & 12                                                                                               & 1                                                                                               & 12                                                                                               & 1                                                                                               & 12                                                                                                & 1                                                                                               \\\\\n",
       "\t scaffold\\_ID   & libd\\_chr1-chr1\\_all-libd\\_chr1-chr1\\_all-1-2000-dynamic-12corestotal-allcorepera-20240404-110529 & libd\\_chr1-chr1\\_all-libd\\_chr1-chr1\\_all-1-2000-dynamic-1corestotal-allcorepera-20240404-110529 & libd\\_chr1-chr1\\_all-libd\\_chr1-chr1\\_all-2001-4000-dynamic-12corestotal-allcorepera-20240404-110529 & libd\\_chr1-chr1\\_all-libd\\_chr1-chr1\\_all-2001-4000-dynamic-1corestotal-allcorepera-20240404-110529 & libd\\_chr1-chr1\\_all-libd\\_chr1-chr1\\_all-4001-6000-dynamic-12corestotal-allcorepera-20240404-110530 & libd\\_chr1-chr1\\_all-libd\\_chr1-chr1\\_all-4001-6000-dynamic-1corestotal-allcorepera-20240404-110530 & libd\\_chr1-chr1\\_all-libd\\_chr1-chr1\\_all-6001-8000-dynamic-12corestotal-allcorepera-20240404-110530 & libd\\_chr1-chr1\\_all-libd\\_chr1-chr1\\_all-6001-8000-dynamic-1corestotal-allcorepera-20240404-110530 & libd\\_chr1-chr1\\_all-libd\\_chr1-chr1\\_all-8001-10000-dynamic-12corestotal-allcorepera-20240404-110530 & libd\\_chr1-chr1\\_all-libd\\_chr1-chr1\\_all-8001-10000-dynamic-1corestotal-allcorepera-20240404-110530\\\\\n",
       "\\end{tabular}\n"
      ],
      "text/markdown": [
       "\n",
       "A tibble: 10 × 11\n",
       "\n",
       "| Parameter &lt;chr&gt; | libd_chr1-chr1_all-libd_chr1-chr1_all-1-2000-dynamic-12corestotal-allcorepera-20240404-110529-summary.csv &lt;chr&gt; | libd_chr1-chr1_all-libd_chr1-chr1_all-1-2000-dynamic-1corestotal-allcorepera-20240404-110529-summary.csv &lt;chr&gt; | libd_chr1-chr1_all-libd_chr1-chr1_all-2001-4000-dynamic-12corestotal-allcorepera-20240404-110529-summary.csv &lt;chr&gt; | libd_chr1-chr1_all-libd_chr1-chr1_all-2001-4000-dynamic-1corestotal-allcorepera-20240404-110529-summary.csv &lt;chr&gt; | libd_chr1-chr1_all-libd_chr1-chr1_all-4001-6000-dynamic-12corestotal-allcorepera-20240404-110530-summary.csv &lt;chr&gt; | libd_chr1-chr1_all-libd_chr1-chr1_all-4001-6000-dynamic-1corestotal-allcorepera-20240404-110530-summary.csv &lt;chr&gt; | libd_chr1-chr1_all-libd_chr1-chr1_all-6001-8000-dynamic-12corestotal-allcorepera-20240404-110530-summary.csv &lt;chr&gt; | libd_chr1-chr1_all-libd_chr1-chr1_all-6001-8000-dynamic-1corestotal-allcorepera-20240404-110530-summary.csv &lt;chr&gt; | libd_chr1-chr1_all-libd_chr1-chr1_all-8001-10000-dynamic-12corestotal-allcorepera-20240404-110530-summary.csv &lt;chr&gt; | libd_chr1-chr1_all-libd_chr1-chr1_all-8001-10000-dynamic-1corestotal-allcorepera-20240404-110530-summary.csv &lt;chr&gt; |\n",
       "|---|---|---|---|---|---|---|---|---|---|---|\n",
       "| chunk1        | 1                                                                                             | 1                                                                                            | 2001                                                                                             | 2001                                                                                            | 4001                                                                                             | 4001                                                                                            | 6001                                                                                             | 6001                                                                                            | 8001                                                                                              | 8001                                                                                             |\n",
       "| chunk2        | 2000                                                                                          | 2000                                                                                         | 4000                                                                                             | 4000                                                                                            | 6000                                                                                             | 6000                                                                                            | 8000                                                                                             | 8000                                                                                            | 10000                                                                                             | 10000                                                                                            |\n",
       "| num_cores     | 12                                                                                            | 1                                                                                            | 12                                                                                               | 1                                                                                               | 12                                                                                               | 1                                                                                               | 12                                                                                               | 1                                                                                               | 12                                                                                                | 1                                                                                                |\n",
       "| tag           | libd_chr1-chr1_all-1-2000-dynamic-12corestotal-allcorepera-20240404-110529                    | libd_chr1-chr1_all-1-2000-dynamic-1corestotal-allcorepera-20240404-110529                    | libd_chr1-chr1_all-2001-4000-dynamic-12corestotal-allcorepera-20240404-110529                    | libd_chr1-chr1_all-2001-4000-dynamic-1corestotal-allcorepera-20240404-110529                    | libd_chr1-chr1_all-4001-6000-dynamic-12corestotal-allcorepera-20240404-110530                    | libd_chr1-chr1_all-4001-6000-dynamic-1corestotal-allcorepera-20240404-110530                    | libd_chr1-chr1_all-6001-8000-dynamic-12corestotal-allcorepera-20240404-110530                    | libd_chr1-chr1_all-6001-8000-dynamic-1corestotal-allcorepera-20240404-110530                    | libd_chr1-chr1_all-8001-10000-dynamic-12corestotal-allcorepera-20240404-110530                    | libd_chr1-chr1_all-8001-10000-dynamic-1corestotal-allcorepera-20240404-110530                    |\n",
       "| time_started  | 2024-04-04 15:08:23                                                                           | 2024-04-04 14:56:39                                                                          | 2024-04-04 15:20:57                                                                              | 2024-04-04 14:58:50                                                                             | 2024-04-04 15:32:41                                                                              | 2024-04-04 14:58:50                                                                             | 2024-04-04 15:35:04                                                                              | 2024-04-04 14:58:50                                                                             | 2024-04-04 15:36:32                                                                               | 2024-04-04 14:58:50                                                                              |\n",
       "| time_finished | 2024-04-04 16:17:51                                                                           | 2024-04-04 15:44:45                                                                          | 2024-04-04 16:07:33                                                                              | 2024-04-04 15:50:11                                                                             | 2024-04-04 16:21:17                                                                              | 2024-04-04 15:50:24                                                                             | 2024-04-04 16:27:07                                                                              | 2024-04-04 15:50:18                                                                             | 2024-04-04 16:28:07                                                                               | 2024-04-04 15:48:01                                                                              |\n",
       "| runtime       | 01:09:27                                                                                      | 00:48:06                                                                                     | 00:46:35                                                                                         | 00:51:21                                                                                        | 00:48:36                                                                                         | 00:51:34                                                                                        | 00:52:03                                                                                         | 00:51:28                                                                                        | 00:51:35                                                                                          | 00:49:11                                                                                         |\n",
       "| amount_RAM    | 0.245569720864296                                                                             | 0.245569720864296                                                                            | 0.245569720864296                                                                                | 0.245569724589586                                                                               | 0.245569724589586                                                                                | 0.245569724589586                                                                               | 0.245569724589586                                                                                | 0.245569724589586                                                                               | 0.245569720864296                                                                                 | 0.245569720864296                                                                                |\n",
       "| number_cores  | 12                                                                                            | 1                                                                                            | 12                                                                                               | 1                                                                                               | 12                                                                                               | 1                                                                                               | 12                                                                                               | 1                                                                                               | 12                                                                                                | 1                                                                                                |\n",
       "| scaffold_ID   | libd_chr1-chr1_all-libd_chr1-chr1_all-1-2000-dynamic-12corestotal-allcorepera-20240404-110529 | libd_chr1-chr1_all-libd_chr1-chr1_all-1-2000-dynamic-1corestotal-allcorepera-20240404-110529 | libd_chr1-chr1_all-libd_chr1-chr1_all-2001-4000-dynamic-12corestotal-allcorepera-20240404-110529 | libd_chr1-chr1_all-libd_chr1-chr1_all-2001-4000-dynamic-1corestotal-allcorepera-20240404-110529 | libd_chr1-chr1_all-libd_chr1-chr1_all-4001-6000-dynamic-12corestotal-allcorepera-20240404-110530 | libd_chr1-chr1_all-libd_chr1-chr1_all-4001-6000-dynamic-1corestotal-allcorepera-20240404-110530 | libd_chr1-chr1_all-libd_chr1-chr1_all-6001-8000-dynamic-12corestotal-allcorepera-20240404-110530 | libd_chr1-chr1_all-libd_chr1-chr1_all-6001-8000-dynamic-1corestotal-allcorepera-20240404-110530 | libd_chr1-chr1_all-libd_chr1-chr1_all-8001-10000-dynamic-12corestotal-allcorepera-20240404-110530 | libd_chr1-chr1_all-libd_chr1-chr1_all-8001-10000-dynamic-1corestotal-allcorepera-20240404-110530 |\n",
       "\n"
      ],
      "text/plain": [
       "   Parameter    \n",
       "1  chunk1       \n",
       "2  chunk2       \n",
       "3  num_cores    \n",
       "4  tag          \n",
       "5  time_started \n",
       "6  time_finished\n",
       "7  runtime      \n",
       "8  amount_RAM   \n",
       "9  number_cores \n",
       "10 scaffold_ID  \n",
       "   libd_chr1-chr1_all-libd_chr1-chr1_all-1-2000-dynamic-12corestotal-allcorepera-20240404-110529-summary.csv\n",
       "1  1                                                                                                        \n",
       "2  2000                                                                                                     \n",
       "3  12                                                                                                       \n",
       "4  libd_chr1-chr1_all-1-2000-dynamic-12corestotal-allcorepera-20240404-110529                               \n",
       "5  2024-04-04 15:08:23                                                                                      \n",
       "6  2024-04-04 16:17:51                                                                                      \n",
       "7  01:09:27                                                                                                 \n",
       "8  0.245569720864296                                                                                        \n",
       "9  12                                                                                                       \n",
       "10 libd_chr1-chr1_all-libd_chr1-chr1_all-1-2000-dynamic-12corestotal-allcorepera-20240404-110529            \n",
       "   libd_chr1-chr1_all-libd_chr1-chr1_all-1-2000-dynamic-1corestotal-allcorepera-20240404-110529-summary.csv\n",
       "1  1                                                                                                       \n",
       "2  2000                                                                                                    \n",
       "3  1                                                                                                       \n",
       "4  libd_chr1-chr1_all-1-2000-dynamic-1corestotal-allcorepera-20240404-110529                               \n",
       "5  2024-04-04 14:56:39                                                                                     \n",
       "6  2024-04-04 15:44:45                                                                                     \n",
       "7  00:48:06                                                                                                \n",
       "8  0.245569720864296                                                                                       \n",
       "9  1                                                                                                       \n",
       "10 libd_chr1-chr1_all-libd_chr1-chr1_all-1-2000-dynamic-1corestotal-allcorepera-20240404-110529            \n",
       "   libd_chr1-chr1_all-libd_chr1-chr1_all-2001-4000-dynamic-12corestotal-allcorepera-20240404-110529-summary.csv\n",
       "1  2001                                                                                                        \n",
       "2  4000                                                                                                        \n",
       "3  12                                                                                                          \n",
       "4  libd_chr1-chr1_all-2001-4000-dynamic-12corestotal-allcorepera-20240404-110529                               \n",
       "5  2024-04-04 15:20:57                                                                                         \n",
       "6  2024-04-04 16:07:33                                                                                         \n",
       "7  00:46:35                                                                                                    \n",
       "8  0.245569720864296                                                                                           \n",
       "9  12                                                                                                          \n",
       "10 libd_chr1-chr1_all-libd_chr1-chr1_all-2001-4000-dynamic-12corestotal-allcorepera-20240404-110529            \n",
       "   libd_chr1-chr1_all-libd_chr1-chr1_all-2001-4000-dynamic-1corestotal-allcorepera-20240404-110529-summary.csv\n",
       "1  2001                                                                                                       \n",
       "2  4000                                                                                                       \n",
       "3  1                                                                                                          \n",
       "4  libd_chr1-chr1_all-2001-4000-dynamic-1corestotal-allcorepera-20240404-110529                               \n",
       "5  2024-04-04 14:58:50                                                                                        \n",
       "6  2024-04-04 15:50:11                                                                                        \n",
       "7  00:51:21                                                                                                   \n",
       "8  0.245569724589586                                                                                          \n",
       "9  1                                                                                                          \n",
       "10 libd_chr1-chr1_all-libd_chr1-chr1_all-2001-4000-dynamic-1corestotal-allcorepera-20240404-110529            \n",
       "   libd_chr1-chr1_all-libd_chr1-chr1_all-4001-6000-dynamic-12corestotal-allcorepera-20240404-110530-summary.csv\n",
       "1  4001                                                                                                        \n",
       "2  6000                                                                                                        \n",
       "3  12                                                                                                          \n",
       "4  libd_chr1-chr1_all-4001-6000-dynamic-12corestotal-allcorepera-20240404-110530                               \n",
       "5  2024-04-04 15:32:41                                                                                         \n",
       "6  2024-04-04 16:21:17                                                                                         \n",
       "7  00:48:36                                                                                                    \n",
       "8  0.245569724589586                                                                                           \n",
       "9  12                                                                                                          \n",
       "10 libd_chr1-chr1_all-libd_chr1-chr1_all-4001-6000-dynamic-12corestotal-allcorepera-20240404-110530            \n",
       "   libd_chr1-chr1_all-libd_chr1-chr1_all-4001-6000-dynamic-1corestotal-allcorepera-20240404-110530-summary.csv\n",
       "1  4001                                                                                                       \n",
       "2  6000                                                                                                       \n",
       "3  1                                                                                                          \n",
       "4  libd_chr1-chr1_all-4001-6000-dynamic-1corestotal-allcorepera-20240404-110530                               \n",
       "5  2024-04-04 14:58:50                                                                                        \n",
       "6  2024-04-04 15:50:24                                                                                        \n",
       "7  00:51:34                                                                                                   \n",
       "8  0.245569724589586                                                                                          \n",
       "9  1                                                                                                          \n",
       "10 libd_chr1-chr1_all-libd_chr1-chr1_all-4001-6000-dynamic-1corestotal-allcorepera-20240404-110530            \n",
       "   libd_chr1-chr1_all-libd_chr1-chr1_all-6001-8000-dynamic-12corestotal-allcorepera-20240404-110530-summary.csv\n",
       "1  6001                                                                                                        \n",
       "2  8000                                                                                                        \n",
       "3  12                                                                                                          \n",
       "4  libd_chr1-chr1_all-6001-8000-dynamic-12corestotal-allcorepera-20240404-110530                               \n",
       "5  2024-04-04 15:35:04                                                                                         \n",
       "6  2024-04-04 16:27:07                                                                                         \n",
       "7  00:52:03                                                                                                    \n",
       "8  0.245569724589586                                                                                           \n",
       "9  12                                                                                                          \n",
       "10 libd_chr1-chr1_all-libd_chr1-chr1_all-6001-8000-dynamic-12corestotal-allcorepera-20240404-110530            \n",
       "   libd_chr1-chr1_all-libd_chr1-chr1_all-6001-8000-dynamic-1corestotal-allcorepera-20240404-110530-summary.csv\n",
       "1  6001                                                                                                       \n",
       "2  8000                                                                                                       \n",
       "3  1                                                                                                          \n",
       "4  libd_chr1-chr1_all-6001-8000-dynamic-1corestotal-allcorepera-20240404-110530                               \n",
       "5  2024-04-04 14:58:50                                                                                        \n",
       "6  2024-04-04 15:50:18                                                                                        \n",
       "7  00:51:28                                                                                                   \n",
       "8  0.245569724589586                                                                                          \n",
       "9  1                                                                                                          \n",
       "10 libd_chr1-chr1_all-libd_chr1-chr1_all-6001-8000-dynamic-1corestotal-allcorepera-20240404-110530            \n",
       "   libd_chr1-chr1_all-libd_chr1-chr1_all-8001-10000-dynamic-12corestotal-allcorepera-20240404-110530-summary.csv\n",
       "1  8001                                                                                                         \n",
       "2  10000                                                                                                        \n",
       "3  12                                                                                                           \n",
       "4  libd_chr1-chr1_all-8001-10000-dynamic-12corestotal-allcorepera-20240404-110530                               \n",
       "5  2024-04-04 15:36:32                                                                                          \n",
       "6  2024-04-04 16:28:07                                                                                          \n",
       "7  00:51:35                                                                                                     \n",
       "8  0.245569720864296                                                                                            \n",
       "9  12                                                                                                           \n",
       "10 libd_chr1-chr1_all-libd_chr1-chr1_all-8001-10000-dynamic-12corestotal-allcorepera-20240404-110530            \n",
       "   libd_chr1-chr1_all-libd_chr1-chr1_all-8001-10000-dynamic-1corestotal-allcorepera-20240404-110530-summary.csv\n",
       "1  8001                                                                                                        \n",
       "2  10000                                                                                                       \n",
       "3  1                                                                                                           \n",
       "4  libd_chr1-chr1_all-8001-10000-dynamic-1corestotal-allcorepera-20240404-110530                               \n",
       "5  2024-04-04 14:58:50                                                                                         \n",
       "6  2024-04-04 15:48:01                                                                                         \n",
       "7  00:49:11                                                                                                    \n",
       "8  0.245569720864296                                                                                           \n",
       "9  1                                                                                                           \n",
       "10 libd_chr1-chr1_all-libd_chr1-chr1_all-8001-10000-dynamic-1corestotal-allcorepera-20240404-110530            "
      ]
     },
     "metadata": {},
     "output_type": "display_data"
    }
   ],
   "source": [
    "summary_table"
   ]
  },
  {
   "cell_type": "code",
   "execution_count": 7,
   "id": "6781ba8a-4a5d-447c-bc04-5168b14bf17a",
   "metadata": {},
   "outputs": [],
   "source": [
    "summary_table <- as.data.frame(t(summary_table))\n",
    "colnames(summary_table) <- summary_table[1, ]\n",
    "summary_table <- summary_table[-1, ]"
   ]
  },
  {
   "cell_type": "code",
   "execution_count": 8,
   "id": "2d07bcc2-2f67-4f92-91ae-5c46414c9925",
   "metadata": {},
   "outputs": [],
   "source": [
    "summary_table$number_cores <- as.numeric(as.character(summary_table$num_cores))"
   ]
  },
  {
   "cell_type": "code",
   "execution_count": 9,
   "id": "072acef6-5e8e-4a03-9647-c2b9eb2440b4",
   "metadata": {},
   "outputs": [],
   "source": [
    "summary_table$runtime_seconds <- sapply(summary_table$runtime, function(x) {\n",
    "  parts <- strsplit(x, \":\")[[1]]\n",
    "  as.numeric(parts[1]) * 3600 + as.numeric(parts[2]) * 60 + as.numeric(parts[3])\n",
    "})"
   ]
  },
  {
   "cell_type": "code",
   "execution_count": 10,
   "id": "643f9b4a-3d63-4d6c-a354-956fc42dc3f4",
   "metadata": {},
   "outputs": [],
   "source": [
    "summary_table$runtime_hours <- summary_table$runtime_seconds/3600"
   ]
  },
  {
   "cell_type": "code",
   "execution_count": 11,
   "id": "3b0aef72-e1e1-4a04-be0a-7d40f9d01938",
   "metadata": {},
   "outputs": [],
   "source": [
    "summary_table$chunk1 <- as.numeric(as.character(summary_table$chunk1))\n",
    "summary_table$chunk2 <- as.numeric(as.character(summary_table$chunk2))"
   ]
  },
  {
   "cell_type": "code",
   "execution_count": 12,
   "id": "ca2f1caa-175f-407e-8a7e-166699164fad",
   "metadata": {},
   "outputs": [],
   "source": [
    "summary_table$runtime_core_hours <- summary_table$runtime_hours * summary_table$number_cores\n",
    "summary_table$runtime_core_seconds <- summary_table$runtime_seconds * summary_table$number_cores\n",
    "summary_table$core_hours_per_test <- summary_table$runtime_core_hours / (summary_table$chunk2 - summary_table$chunk1 + 1)\n",
    "summary_table$core_seconds_per_test <- summary_table$runtime_core_seconds / (summary_table$chunk2 - summary_table$chunk1 + 1)"
   ]
  },
  {
   "cell_type": "code",
   "execution_count": 13,
   "id": "6d784e30-2f15-4034-9b2c-ab404913bb98",
   "metadata": {
    "scrolled": true
   },
   "outputs": [
    {
     "data": {
      "text/html": [
       "<table class=\"dataframe\">\n",
       "<caption>A data.frame: 10 × 16</caption>\n",
       "<thead>\n",
       "\t<tr><th></th><th scope=col>chunk1</th><th scope=col>chunk2</th><th scope=col>num_cores</th><th scope=col>tag</th><th scope=col>time_started</th><th scope=col>time_finished</th><th scope=col>runtime</th><th scope=col>amount_RAM</th><th scope=col>number_cores</th><th scope=col>scaffold_ID</th><th scope=col>runtime_seconds</th><th scope=col>runtime_hours</th><th scope=col>runtime_core_hours</th><th scope=col>runtime_core_seconds</th><th scope=col>core_hours_per_test</th><th scope=col>core_seconds_per_test</th></tr>\n",
       "\t<tr><th></th><th scope=col>&lt;dbl&gt;</th><th scope=col>&lt;dbl&gt;</th><th scope=col>&lt;chr&gt;</th><th scope=col>&lt;chr&gt;</th><th scope=col>&lt;chr&gt;</th><th scope=col>&lt;chr&gt;</th><th scope=col>&lt;chr&gt;</th><th scope=col>&lt;chr&gt;</th><th scope=col>&lt;dbl&gt;</th><th scope=col>&lt;chr&gt;</th><th scope=col>&lt;dbl&gt;</th><th scope=col>&lt;dbl&gt;</th><th scope=col>&lt;dbl&gt;</th><th scope=col>&lt;dbl&gt;</th><th scope=col>&lt;dbl&gt;</th><th scope=col>&lt;dbl&gt;</th></tr>\n",
       "</thead>\n",
       "<tbody>\n",
       "\t<tr><th scope=row>libd_chr1-chr1_all-libd_chr1-chr1_all-1-2000-dynamic-12corestotal-allcorepera-20240404-110529-summary.csv</th><td>   1</td><td> 2000</td><td>12</td><td>libd_chr1-chr1_all-1-2000-dynamic-12corestotal-allcorepera-20240404-110529    </td><td>2024-04-04 15:08:23</td><td>2024-04-04 16:17:51</td><td>01:09:27</td><td>0.245569720864296</td><td>12</td><td>libd_chr1-chr1_all-libd_chr1-chr1_all-1-2000-dynamic-12corestotal-allcorepera-20240404-110529    </td><td>4167</td><td>1.1575000</td><td>13.8900000</td><td>50004</td><td>0.0069450000</td><td>25.0020</td></tr>\n",
       "\t<tr><th scope=row>libd_chr1-chr1_all-libd_chr1-chr1_all-1-2000-dynamic-1corestotal-allcorepera-20240404-110529-summary.csv</th><td>   1</td><td> 2000</td><td>1 </td><td>libd_chr1-chr1_all-1-2000-dynamic-1corestotal-allcorepera-20240404-110529     </td><td>2024-04-04 14:56:39</td><td>2024-04-04 15:44:45</td><td>00:48:06</td><td>0.245569720864296</td><td> 1</td><td>libd_chr1-chr1_all-libd_chr1-chr1_all-1-2000-dynamic-1corestotal-allcorepera-20240404-110529     </td><td>2886</td><td>0.8016667</td><td> 0.8016667</td><td> 2886</td><td>0.0004008333</td><td> 1.4430</td></tr>\n",
       "\t<tr><th scope=row>libd_chr1-chr1_all-libd_chr1-chr1_all-2001-4000-dynamic-12corestotal-allcorepera-20240404-110529-summary.csv</th><td>2001</td><td> 4000</td><td>12</td><td>libd_chr1-chr1_all-2001-4000-dynamic-12corestotal-allcorepera-20240404-110529 </td><td>2024-04-04 15:20:57</td><td>2024-04-04 16:07:33</td><td>00:46:35</td><td>0.245569720864296</td><td>12</td><td>libd_chr1-chr1_all-libd_chr1-chr1_all-2001-4000-dynamic-12corestotal-allcorepera-20240404-110529 </td><td>2795</td><td>0.7763889</td><td> 9.3166667</td><td>33540</td><td>0.0046583333</td><td>16.7700</td></tr>\n",
       "\t<tr><th scope=row>libd_chr1-chr1_all-libd_chr1-chr1_all-2001-4000-dynamic-1corestotal-allcorepera-20240404-110529-summary.csv</th><td>2001</td><td> 4000</td><td>1 </td><td>libd_chr1-chr1_all-2001-4000-dynamic-1corestotal-allcorepera-20240404-110529  </td><td>2024-04-04 14:58:50</td><td>2024-04-04 15:50:11</td><td>00:51:21</td><td>0.245569724589586</td><td> 1</td><td>libd_chr1-chr1_all-libd_chr1-chr1_all-2001-4000-dynamic-1corestotal-allcorepera-20240404-110529  </td><td>3081</td><td>0.8558333</td><td> 0.8558333</td><td> 3081</td><td>0.0004279167</td><td> 1.5405</td></tr>\n",
       "\t<tr><th scope=row>libd_chr1-chr1_all-libd_chr1-chr1_all-4001-6000-dynamic-12corestotal-allcorepera-20240404-110530-summary.csv</th><td>4001</td><td> 6000</td><td>12</td><td>libd_chr1-chr1_all-4001-6000-dynamic-12corestotal-allcorepera-20240404-110530 </td><td>2024-04-04 15:32:41</td><td>2024-04-04 16:21:17</td><td>00:48:36</td><td>0.245569724589586</td><td>12</td><td>libd_chr1-chr1_all-libd_chr1-chr1_all-4001-6000-dynamic-12corestotal-allcorepera-20240404-110530 </td><td>2916</td><td>0.8100000</td><td> 9.7200000</td><td>34992</td><td>0.0048600000</td><td>17.4960</td></tr>\n",
       "\t<tr><th scope=row>libd_chr1-chr1_all-libd_chr1-chr1_all-4001-6000-dynamic-1corestotal-allcorepera-20240404-110530-summary.csv</th><td>4001</td><td> 6000</td><td>1 </td><td>libd_chr1-chr1_all-4001-6000-dynamic-1corestotal-allcorepera-20240404-110530  </td><td>2024-04-04 14:58:50</td><td>2024-04-04 15:50:24</td><td>00:51:34</td><td>0.245569724589586</td><td> 1</td><td>libd_chr1-chr1_all-libd_chr1-chr1_all-4001-6000-dynamic-1corestotal-allcorepera-20240404-110530  </td><td>3094</td><td>0.8594444</td><td> 0.8594444</td><td> 3094</td><td>0.0004297222</td><td> 1.5470</td></tr>\n",
       "\t<tr><th scope=row>libd_chr1-chr1_all-libd_chr1-chr1_all-6001-8000-dynamic-12corestotal-allcorepera-20240404-110530-summary.csv</th><td>6001</td><td> 8000</td><td>12</td><td>libd_chr1-chr1_all-6001-8000-dynamic-12corestotal-allcorepera-20240404-110530 </td><td>2024-04-04 15:35:04</td><td>2024-04-04 16:27:07</td><td>00:52:03</td><td>0.245569724589586</td><td>12</td><td>libd_chr1-chr1_all-libd_chr1-chr1_all-6001-8000-dynamic-12corestotal-allcorepera-20240404-110530 </td><td>3123</td><td>0.8675000</td><td>10.4100000</td><td>37476</td><td>0.0052050000</td><td>18.7380</td></tr>\n",
       "\t<tr><th scope=row>libd_chr1-chr1_all-libd_chr1-chr1_all-6001-8000-dynamic-1corestotal-allcorepera-20240404-110530-summary.csv</th><td>6001</td><td> 8000</td><td>1 </td><td>libd_chr1-chr1_all-6001-8000-dynamic-1corestotal-allcorepera-20240404-110530  </td><td>2024-04-04 14:58:50</td><td>2024-04-04 15:50:18</td><td>00:51:28</td><td>0.245569724589586</td><td> 1</td><td>libd_chr1-chr1_all-libd_chr1-chr1_all-6001-8000-dynamic-1corestotal-allcorepera-20240404-110530  </td><td>3088</td><td>0.8577778</td><td> 0.8577778</td><td> 3088</td><td>0.0004288889</td><td> 1.5440</td></tr>\n",
       "\t<tr><th scope=row>libd_chr1-chr1_all-libd_chr1-chr1_all-8001-10000-dynamic-12corestotal-allcorepera-20240404-110530-summary.csv</th><td>8001</td><td>10000</td><td>12</td><td>libd_chr1-chr1_all-8001-10000-dynamic-12corestotal-allcorepera-20240404-110530</td><td>2024-04-04 15:36:32</td><td>2024-04-04 16:28:07</td><td>00:51:35</td><td>0.245569720864296</td><td>12</td><td>libd_chr1-chr1_all-libd_chr1-chr1_all-8001-10000-dynamic-12corestotal-allcorepera-20240404-110530</td><td>3095</td><td>0.8597222</td><td>10.3166667</td><td>37140</td><td>0.0051583333</td><td>18.5700</td></tr>\n",
       "\t<tr><th scope=row>libd_chr1-chr1_all-libd_chr1-chr1_all-8001-10000-dynamic-1corestotal-allcorepera-20240404-110530-summary.csv</th><td>8001</td><td>10000</td><td>1 </td><td>libd_chr1-chr1_all-8001-10000-dynamic-1corestotal-allcorepera-20240404-110530 </td><td>2024-04-04 14:58:50</td><td>2024-04-04 15:48:01</td><td>00:49:11</td><td>0.245569720864296</td><td> 1</td><td>libd_chr1-chr1_all-libd_chr1-chr1_all-8001-10000-dynamic-1corestotal-allcorepera-20240404-110530 </td><td>2951</td><td>0.8197222</td><td> 0.8197222</td><td> 2951</td><td>0.0004098611</td><td> 1.4755</td></tr>\n",
       "</tbody>\n",
       "</table>\n"
      ],
      "text/latex": [
       "A data.frame: 10 × 16\n",
       "\\begin{tabular}{r|llllllllllllllll}\n",
       "  & chunk1 & chunk2 & num\\_cores & tag & time\\_started & time\\_finished & runtime & amount\\_RAM & number\\_cores & scaffold\\_ID & runtime\\_seconds & runtime\\_hours & runtime\\_core\\_hours & runtime\\_core\\_seconds & core\\_hours\\_per\\_test & core\\_seconds\\_per\\_test\\\\\n",
       "  & <dbl> & <dbl> & <chr> & <chr> & <chr> & <chr> & <chr> & <chr> & <dbl> & <chr> & <dbl> & <dbl> & <dbl> & <dbl> & <dbl> & <dbl>\\\\\n",
       "\\hline\n",
       "\tlibd\\_chr1-chr1\\_all-libd\\_chr1-chr1\\_all-1-2000-dynamic-12corestotal-allcorepera-20240404-110529-summary.csv &    1 &  2000 & 12 & libd\\_chr1-chr1\\_all-1-2000-dynamic-12corestotal-allcorepera-20240404-110529     & 2024-04-04 15:08:23 & 2024-04-04 16:17:51 & 01:09:27 & 0.245569720864296 & 12 & libd\\_chr1-chr1\\_all-libd\\_chr1-chr1\\_all-1-2000-dynamic-12corestotal-allcorepera-20240404-110529     & 4167 & 1.1575000 & 13.8900000 & 50004 & 0.0069450000 & 25.0020\\\\\n",
       "\tlibd\\_chr1-chr1\\_all-libd\\_chr1-chr1\\_all-1-2000-dynamic-1corestotal-allcorepera-20240404-110529-summary.csv &    1 &  2000 & 1  & libd\\_chr1-chr1\\_all-1-2000-dynamic-1corestotal-allcorepera-20240404-110529      & 2024-04-04 14:56:39 & 2024-04-04 15:44:45 & 00:48:06 & 0.245569720864296 &  1 & libd\\_chr1-chr1\\_all-libd\\_chr1-chr1\\_all-1-2000-dynamic-1corestotal-allcorepera-20240404-110529      & 2886 & 0.8016667 &  0.8016667 &  2886 & 0.0004008333 &  1.4430\\\\\n",
       "\tlibd\\_chr1-chr1\\_all-libd\\_chr1-chr1\\_all-2001-4000-dynamic-12corestotal-allcorepera-20240404-110529-summary.csv & 2001 &  4000 & 12 & libd\\_chr1-chr1\\_all-2001-4000-dynamic-12corestotal-allcorepera-20240404-110529  & 2024-04-04 15:20:57 & 2024-04-04 16:07:33 & 00:46:35 & 0.245569720864296 & 12 & libd\\_chr1-chr1\\_all-libd\\_chr1-chr1\\_all-2001-4000-dynamic-12corestotal-allcorepera-20240404-110529  & 2795 & 0.7763889 &  9.3166667 & 33540 & 0.0046583333 & 16.7700\\\\\n",
       "\tlibd\\_chr1-chr1\\_all-libd\\_chr1-chr1\\_all-2001-4000-dynamic-1corestotal-allcorepera-20240404-110529-summary.csv & 2001 &  4000 & 1  & libd\\_chr1-chr1\\_all-2001-4000-dynamic-1corestotal-allcorepera-20240404-110529   & 2024-04-04 14:58:50 & 2024-04-04 15:50:11 & 00:51:21 & 0.245569724589586 &  1 & libd\\_chr1-chr1\\_all-libd\\_chr1-chr1\\_all-2001-4000-dynamic-1corestotal-allcorepera-20240404-110529   & 3081 & 0.8558333 &  0.8558333 &  3081 & 0.0004279167 &  1.5405\\\\\n",
       "\tlibd\\_chr1-chr1\\_all-libd\\_chr1-chr1\\_all-4001-6000-dynamic-12corestotal-allcorepera-20240404-110530-summary.csv & 4001 &  6000 & 12 & libd\\_chr1-chr1\\_all-4001-6000-dynamic-12corestotal-allcorepera-20240404-110530  & 2024-04-04 15:32:41 & 2024-04-04 16:21:17 & 00:48:36 & 0.245569724589586 & 12 & libd\\_chr1-chr1\\_all-libd\\_chr1-chr1\\_all-4001-6000-dynamic-12corestotal-allcorepera-20240404-110530  & 2916 & 0.8100000 &  9.7200000 & 34992 & 0.0048600000 & 17.4960\\\\\n",
       "\tlibd\\_chr1-chr1\\_all-libd\\_chr1-chr1\\_all-4001-6000-dynamic-1corestotal-allcorepera-20240404-110530-summary.csv & 4001 &  6000 & 1  & libd\\_chr1-chr1\\_all-4001-6000-dynamic-1corestotal-allcorepera-20240404-110530   & 2024-04-04 14:58:50 & 2024-04-04 15:50:24 & 00:51:34 & 0.245569724589586 &  1 & libd\\_chr1-chr1\\_all-libd\\_chr1-chr1\\_all-4001-6000-dynamic-1corestotal-allcorepera-20240404-110530   & 3094 & 0.8594444 &  0.8594444 &  3094 & 0.0004297222 &  1.5470\\\\\n",
       "\tlibd\\_chr1-chr1\\_all-libd\\_chr1-chr1\\_all-6001-8000-dynamic-12corestotal-allcorepera-20240404-110530-summary.csv & 6001 &  8000 & 12 & libd\\_chr1-chr1\\_all-6001-8000-dynamic-12corestotal-allcorepera-20240404-110530  & 2024-04-04 15:35:04 & 2024-04-04 16:27:07 & 00:52:03 & 0.245569724589586 & 12 & libd\\_chr1-chr1\\_all-libd\\_chr1-chr1\\_all-6001-8000-dynamic-12corestotal-allcorepera-20240404-110530  & 3123 & 0.8675000 & 10.4100000 & 37476 & 0.0052050000 & 18.7380\\\\\n",
       "\tlibd\\_chr1-chr1\\_all-libd\\_chr1-chr1\\_all-6001-8000-dynamic-1corestotal-allcorepera-20240404-110530-summary.csv & 6001 &  8000 & 1  & libd\\_chr1-chr1\\_all-6001-8000-dynamic-1corestotal-allcorepera-20240404-110530   & 2024-04-04 14:58:50 & 2024-04-04 15:50:18 & 00:51:28 & 0.245569724589586 &  1 & libd\\_chr1-chr1\\_all-libd\\_chr1-chr1\\_all-6001-8000-dynamic-1corestotal-allcorepera-20240404-110530   & 3088 & 0.8577778 &  0.8577778 &  3088 & 0.0004288889 &  1.5440\\\\\n",
       "\tlibd\\_chr1-chr1\\_all-libd\\_chr1-chr1\\_all-8001-10000-dynamic-12corestotal-allcorepera-20240404-110530-summary.csv & 8001 & 10000 & 12 & libd\\_chr1-chr1\\_all-8001-10000-dynamic-12corestotal-allcorepera-20240404-110530 & 2024-04-04 15:36:32 & 2024-04-04 16:28:07 & 00:51:35 & 0.245569720864296 & 12 & libd\\_chr1-chr1\\_all-libd\\_chr1-chr1\\_all-8001-10000-dynamic-12corestotal-allcorepera-20240404-110530 & 3095 & 0.8597222 & 10.3166667 & 37140 & 0.0051583333 & 18.5700\\\\\n",
       "\tlibd\\_chr1-chr1\\_all-libd\\_chr1-chr1\\_all-8001-10000-dynamic-1corestotal-allcorepera-20240404-110530-summary.csv & 8001 & 10000 & 1  & libd\\_chr1-chr1\\_all-8001-10000-dynamic-1corestotal-allcorepera-20240404-110530  & 2024-04-04 14:58:50 & 2024-04-04 15:48:01 & 00:49:11 & 0.245569720864296 &  1 & libd\\_chr1-chr1\\_all-libd\\_chr1-chr1\\_all-8001-10000-dynamic-1corestotal-allcorepera-20240404-110530  & 2951 & 0.8197222 &  0.8197222 &  2951 & 0.0004098611 &  1.4755\\\\\n",
       "\\end{tabular}\n"
      ],
      "text/markdown": [
       "\n",
       "A data.frame: 10 × 16\n",
       "\n",
       "| <!--/--> | chunk1 &lt;dbl&gt; | chunk2 &lt;dbl&gt; | num_cores &lt;chr&gt; | tag &lt;chr&gt; | time_started &lt;chr&gt; | time_finished &lt;chr&gt; | runtime &lt;chr&gt; | amount_RAM &lt;chr&gt; | number_cores &lt;dbl&gt; | scaffold_ID &lt;chr&gt; | runtime_seconds &lt;dbl&gt; | runtime_hours &lt;dbl&gt; | runtime_core_hours &lt;dbl&gt; | runtime_core_seconds &lt;dbl&gt; | core_hours_per_test &lt;dbl&gt; | core_seconds_per_test &lt;dbl&gt; |\n",
       "|---|---|---|---|---|---|---|---|---|---|---|---|---|---|---|---|---|\n",
       "| libd_chr1-chr1_all-libd_chr1-chr1_all-1-2000-dynamic-12corestotal-allcorepera-20240404-110529-summary.csv |    1 |  2000 | 12 | libd_chr1-chr1_all-1-2000-dynamic-12corestotal-allcorepera-20240404-110529     | 2024-04-04 15:08:23 | 2024-04-04 16:17:51 | 01:09:27 | 0.245569720864296 | 12 | libd_chr1-chr1_all-libd_chr1-chr1_all-1-2000-dynamic-12corestotal-allcorepera-20240404-110529     | 4167 | 1.1575000 | 13.8900000 | 50004 | 0.0069450000 | 25.0020 |\n",
       "| libd_chr1-chr1_all-libd_chr1-chr1_all-1-2000-dynamic-1corestotal-allcorepera-20240404-110529-summary.csv |    1 |  2000 | 1  | libd_chr1-chr1_all-1-2000-dynamic-1corestotal-allcorepera-20240404-110529      | 2024-04-04 14:56:39 | 2024-04-04 15:44:45 | 00:48:06 | 0.245569720864296 |  1 | libd_chr1-chr1_all-libd_chr1-chr1_all-1-2000-dynamic-1corestotal-allcorepera-20240404-110529      | 2886 | 0.8016667 |  0.8016667 |  2886 | 0.0004008333 |  1.4430 |\n",
       "| libd_chr1-chr1_all-libd_chr1-chr1_all-2001-4000-dynamic-12corestotal-allcorepera-20240404-110529-summary.csv | 2001 |  4000 | 12 | libd_chr1-chr1_all-2001-4000-dynamic-12corestotal-allcorepera-20240404-110529  | 2024-04-04 15:20:57 | 2024-04-04 16:07:33 | 00:46:35 | 0.245569720864296 | 12 | libd_chr1-chr1_all-libd_chr1-chr1_all-2001-4000-dynamic-12corestotal-allcorepera-20240404-110529  | 2795 | 0.7763889 |  9.3166667 | 33540 | 0.0046583333 | 16.7700 |\n",
       "| libd_chr1-chr1_all-libd_chr1-chr1_all-2001-4000-dynamic-1corestotal-allcorepera-20240404-110529-summary.csv | 2001 |  4000 | 1  | libd_chr1-chr1_all-2001-4000-dynamic-1corestotal-allcorepera-20240404-110529   | 2024-04-04 14:58:50 | 2024-04-04 15:50:11 | 00:51:21 | 0.245569724589586 |  1 | libd_chr1-chr1_all-libd_chr1-chr1_all-2001-4000-dynamic-1corestotal-allcorepera-20240404-110529   | 3081 | 0.8558333 |  0.8558333 |  3081 | 0.0004279167 |  1.5405 |\n",
       "| libd_chr1-chr1_all-libd_chr1-chr1_all-4001-6000-dynamic-12corestotal-allcorepera-20240404-110530-summary.csv | 4001 |  6000 | 12 | libd_chr1-chr1_all-4001-6000-dynamic-12corestotal-allcorepera-20240404-110530  | 2024-04-04 15:32:41 | 2024-04-04 16:21:17 | 00:48:36 | 0.245569724589586 | 12 | libd_chr1-chr1_all-libd_chr1-chr1_all-4001-6000-dynamic-12corestotal-allcorepera-20240404-110530  | 2916 | 0.8100000 |  9.7200000 | 34992 | 0.0048600000 | 17.4960 |\n",
       "| libd_chr1-chr1_all-libd_chr1-chr1_all-4001-6000-dynamic-1corestotal-allcorepera-20240404-110530-summary.csv | 4001 |  6000 | 1  | libd_chr1-chr1_all-4001-6000-dynamic-1corestotal-allcorepera-20240404-110530   | 2024-04-04 14:58:50 | 2024-04-04 15:50:24 | 00:51:34 | 0.245569724589586 |  1 | libd_chr1-chr1_all-libd_chr1-chr1_all-4001-6000-dynamic-1corestotal-allcorepera-20240404-110530   | 3094 | 0.8594444 |  0.8594444 |  3094 | 0.0004297222 |  1.5470 |\n",
       "| libd_chr1-chr1_all-libd_chr1-chr1_all-6001-8000-dynamic-12corestotal-allcorepera-20240404-110530-summary.csv | 6001 |  8000 | 12 | libd_chr1-chr1_all-6001-8000-dynamic-12corestotal-allcorepera-20240404-110530  | 2024-04-04 15:35:04 | 2024-04-04 16:27:07 | 00:52:03 | 0.245569724589586 | 12 | libd_chr1-chr1_all-libd_chr1-chr1_all-6001-8000-dynamic-12corestotal-allcorepera-20240404-110530  | 3123 | 0.8675000 | 10.4100000 | 37476 | 0.0052050000 | 18.7380 |\n",
       "| libd_chr1-chr1_all-libd_chr1-chr1_all-6001-8000-dynamic-1corestotal-allcorepera-20240404-110530-summary.csv | 6001 |  8000 | 1  | libd_chr1-chr1_all-6001-8000-dynamic-1corestotal-allcorepera-20240404-110530   | 2024-04-04 14:58:50 | 2024-04-04 15:50:18 | 00:51:28 | 0.245569724589586 |  1 | libd_chr1-chr1_all-libd_chr1-chr1_all-6001-8000-dynamic-1corestotal-allcorepera-20240404-110530   | 3088 | 0.8577778 |  0.8577778 |  3088 | 0.0004288889 |  1.5440 |\n",
       "| libd_chr1-chr1_all-libd_chr1-chr1_all-8001-10000-dynamic-12corestotal-allcorepera-20240404-110530-summary.csv | 8001 | 10000 | 12 | libd_chr1-chr1_all-8001-10000-dynamic-12corestotal-allcorepera-20240404-110530 | 2024-04-04 15:36:32 | 2024-04-04 16:28:07 | 00:51:35 | 0.245569720864296 | 12 | libd_chr1-chr1_all-libd_chr1-chr1_all-8001-10000-dynamic-12corestotal-allcorepera-20240404-110530 | 3095 | 0.8597222 | 10.3166667 | 37140 | 0.0051583333 | 18.5700 |\n",
       "| libd_chr1-chr1_all-libd_chr1-chr1_all-8001-10000-dynamic-1corestotal-allcorepera-20240404-110530-summary.csv | 8001 | 10000 | 1  | libd_chr1-chr1_all-8001-10000-dynamic-1corestotal-allcorepera-20240404-110530  | 2024-04-04 14:58:50 | 2024-04-04 15:48:01 | 00:49:11 | 0.245569720864296 |  1 | libd_chr1-chr1_all-libd_chr1-chr1_all-8001-10000-dynamic-1corestotal-allcorepera-20240404-110530  | 2951 | 0.8197222 |  0.8197222 |  2951 | 0.0004098611 |  1.4755 |\n",
       "\n"
      ],
      "text/plain": [
       "                                                                                                              chunk1\n",
       "libd_chr1-chr1_all-libd_chr1-chr1_all-1-2000-dynamic-12corestotal-allcorepera-20240404-110529-summary.csv        1  \n",
       "libd_chr1-chr1_all-libd_chr1-chr1_all-1-2000-dynamic-1corestotal-allcorepera-20240404-110529-summary.csv         1  \n",
       "libd_chr1-chr1_all-libd_chr1-chr1_all-2001-4000-dynamic-12corestotal-allcorepera-20240404-110529-summary.csv  2001  \n",
       "libd_chr1-chr1_all-libd_chr1-chr1_all-2001-4000-dynamic-1corestotal-allcorepera-20240404-110529-summary.csv   2001  \n",
       "libd_chr1-chr1_all-libd_chr1-chr1_all-4001-6000-dynamic-12corestotal-allcorepera-20240404-110530-summary.csv  4001  \n",
       "libd_chr1-chr1_all-libd_chr1-chr1_all-4001-6000-dynamic-1corestotal-allcorepera-20240404-110530-summary.csv   4001  \n",
       "libd_chr1-chr1_all-libd_chr1-chr1_all-6001-8000-dynamic-12corestotal-allcorepera-20240404-110530-summary.csv  6001  \n",
       "libd_chr1-chr1_all-libd_chr1-chr1_all-6001-8000-dynamic-1corestotal-allcorepera-20240404-110530-summary.csv   6001  \n",
       "libd_chr1-chr1_all-libd_chr1-chr1_all-8001-10000-dynamic-12corestotal-allcorepera-20240404-110530-summary.csv 8001  \n",
       "libd_chr1-chr1_all-libd_chr1-chr1_all-8001-10000-dynamic-1corestotal-allcorepera-20240404-110530-summary.csv  8001  \n",
       "                                                                                                              chunk2\n",
       "libd_chr1-chr1_all-libd_chr1-chr1_all-1-2000-dynamic-12corestotal-allcorepera-20240404-110529-summary.csv      2000 \n",
       "libd_chr1-chr1_all-libd_chr1-chr1_all-1-2000-dynamic-1corestotal-allcorepera-20240404-110529-summary.csv       2000 \n",
       "libd_chr1-chr1_all-libd_chr1-chr1_all-2001-4000-dynamic-12corestotal-allcorepera-20240404-110529-summary.csv   4000 \n",
       "libd_chr1-chr1_all-libd_chr1-chr1_all-2001-4000-dynamic-1corestotal-allcorepera-20240404-110529-summary.csv    4000 \n",
       "libd_chr1-chr1_all-libd_chr1-chr1_all-4001-6000-dynamic-12corestotal-allcorepera-20240404-110530-summary.csv   6000 \n",
       "libd_chr1-chr1_all-libd_chr1-chr1_all-4001-6000-dynamic-1corestotal-allcorepera-20240404-110530-summary.csv    6000 \n",
       "libd_chr1-chr1_all-libd_chr1-chr1_all-6001-8000-dynamic-12corestotal-allcorepera-20240404-110530-summary.csv   8000 \n",
       "libd_chr1-chr1_all-libd_chr1-chr1_all-6001-8000-dynamic-1corestotal-allcorepera-20240404-110530-summary.csv    8000 \n",
       "libd_chr1-chr1_all-libd_chr1-chr1_all-8001-10000-dynamic-12corestotal-allcorepera-20240404-110530-summary.csv 10000 \n",
       "libd_chr1-chr1_all-libd_chr1-chr1_all-8001-10000-dynamic-1corestotal-allcorepera-20240404-110530-summary.csv  10000 \n",
       "                                                                                                              num_cores\n",
       "libd_chr1-chr1_all-libd_chr1-chr1_all-1-2000-dynamic-12corestotal-allcorepera-20240404-110529-summary.csv     12       \n",
       "libd_chr1-chr1_all-libd_chr1-chr1_all-1-2000-dynamic-1corestotal-allcorepera-20240404-110529-summary.csv      1        \n",
       "libd_chr1-chr1_all-libd_chr1-chr1_all-2001-4000-dynamic-12corestotal-allcorepera-20240404-110529-summary.csv  12       \n",
       "libd_chr1-chr1_all-libd_chr1-chr1_all-2001-4000-dynamic-1corestotal-allcorepera-20240404-110529-summary.csv   1        \n",
       "libd_chr1-chr1_all-libd_chr1-chr1_all-4001-6000-dynamic-12corestotal-allcorepera-20240404-110530-summary.csv  12       \n",
       "libd_chr1-chr1_all-libd_chr1-chr1_all-4001-6000-dynamic-1corestotal-allcorepera-20240404-110530-summary.csv   1        \n",
       "libd_chr1-chr1_all-libd_chr1-chr1_all-6001-8000-dynamic-12corestotal-allcorepera-20240404-110530-summary.csv  12       \n",
       "libd_chr1-chr1_all-libd_chr1-chr1_all-6001-8000-dynamic-1corestotal-allcorepera-20240404-110530-summary.csv   1        \n",
       "libd_chr1-chr1_all-libd_chr1-chr1_all-8001-10000-dynamic-12corestotal-allcorepera-20240404-110530-summary.csv 12       \n",
       "libd_chr1-chr1_all-libd_chr1-chr1_all-8001-10000-dynamic-1corestotal-allcorepera-20240404-110530-summary.csv  1        \n",
       "                                                                                                              tag                                                                           \n",
       "libd_chr1-chr1_all-libd_chr1-chr1_all-1-2000-dynamic-12corestotal-allcorepera-20240404-110529-summary.csv     libd_chr1-chr1_all-1-2000-dynamic-12corestotal-allcorepera-20240404-110529    \n",
       "libd_chr1-chr1_all-libd_chr1-chr1_all-1-2000-dynamic-1corestotal-allcorepera-20240404-110529-summary.csv      libd_chr1-chr1_all-1-2000-dynamic-1corestotal-allcorepera-20240404-110529     \n",
       "libd_chr1-chr1_all-libd_chr1-chr1_all-2001-4000-dynamic-12corestotal-allcorepera-20240404-110529-summary.csv  libd_chr1-chr1_all-2001-4000-dynamic-12corestotal-allcorepera-20240404-110529 \n",
       "libd_chr1-chr1_all-libd_chr1-chr1_all-2001-4000-dynamic-1corestotal-allcorepera-20240404-110529-summary.csv   libd_chr1-chr1_all-2001-4000-dynamic-1corestotal-allcorepera-20240404-110529  \n",
       "libd_chr1-chr1_all-libd_chr1-chr1_all-4001-6000-dynamic-12corestotal-allcorepera-20240404-110530-summary.csv  libd_chr1-chr1_all-4001-6000-dynamic-12corestotal-allcorepera-20240404-110530 \n",
       "libd_chr1-chr1_all-libd_chr1-chr1_all-4001-6000-dynamic-1corestotal-allcorepera-20240404-110530-summary.csv   libd_chr1-chr1_all-4001-6000-dynamic-1corestotal-allcorepera-20240404-110530  \n",
       "libd_chr1-chr1_all-libd_chr1-chr1_all-6001-8000-dynamic-12corestotal-allcorepera-20240404-110530-summary.csv  libd_chr1-chr1_all-6001-8000-dynamic-12corestotal-allcorepera-20240404-110530 \n",
       "libd_chr1-chr1_all-libd_chr1-chr1_all-6001-8000-dynamic-1corestotal-allcorepera-20240404-110530-summary.csv   libd_chr1-chr1_all-6001-8000-dynamic-1corestotal-allcorepera-20240404-110530  \n",
       "libd_chr1-chr1_all-libd_chr1-chr1_all-8001-10000-dynamic-12corestotal-allcorepera-20240404-110530-summary.csv libd_chr1-chr1_all-8001-10000-dynamic-12corestotal-allcorepera-20240404-110530\n",
       "libd_chr1-chr1_all-libd_chr1-chr1_all-8001-10000-dynamic-1corestotal-allcorepera-20240404-110530-summary.csv  libd_chr1-chr1_all-8001-10000-dynamic-1corestotal-allcorepera-20240404-110530 \n",
       "                                                                                                              time_started       \n",
       "libd_chr1-chr1_all-libd_chr1-chr1_all-1-2000-dynamic-12corestotal-allcorepera-20240404-110529-summary.csv     2024-04-04 15:08:23\n",
       "libd_chr1-chr1_all-libd_chr1-chr1_all-1-2000-dynamic-1corestotal-allcorepera-20240404-110529-summary.csv      2024-04-04 14:56:39\n",
       "libd_chr1-chr1_all-libd_chr1-chr1_all-2001-4000-dynamic-12corestotal-allcorepera-20240404-110529-summary.csv  2024-04-04 15:20:57\n",
       "libd_chr1-chr1_all-libd_chr1-chr1_all-2001-4000-dynamic-1corestotal-allcorepera-20240404-110529-summary.csv   2024-04-04 14:58:50\n",
       "libd_chr1-chr1_all-libd_chr1-chr1_all-4001-6000-dynamic-12corestotal-allcorepera-20240404-110530-summary.csv  2024-04-04 15:32:41\n",
       "libd_chr1-chr1_all-libd_chr1-chr1_all-4001-6000-dynamic-1corestotal-allcorepera-20240404-110530-summary.csv   2024-04-04 14:58:50\n",
       "libd_chr1-chr1_all-libd_chr1-chr1_all-6001-8000-dynamic-12corestotal-allcorepera-20240404-110530-summary.csv  2024-04-04 15:35:04\n",
       "libd_chr1-chr1_all-libd_chr1-chr1_all-6001-8000-dynamic-1corestotal-allcorepera-20240404-110530-summary.csv   2024-04-04 14:58:50\n",
       "libd_chr1-chr1_all-libd_chr1-chr1_all-8001-10000-dynamic-12corestotal-allcorepera-20240404-110530-summary.csv 2024-04-04 15:36:32\n",
       "libd_chr1-chr1_all-libd_chr1-chr1_all-8001-10000-dynamic-1corestotal-allcorepera-20240404-110530-summary.csv  2024-04-04 14:58:50\n",
       "                                                                                                              time_finished      \n",
       "libd_chr1-chr1_all-libd_chr1-chr1_all-1-2000-dynamic-12corestotal-allcorepera-20240404-110529-summary.csv     2024-04-04 16:17:51\n",
       "libd_chr1-chr1_all-libd_chr1-chr1_all-1-2000-dynamic-1corestotal-allcorepera-20240404-110529-summary.csv      2024-04-04 15:44:45\n",
       "libd_chr1-chr1_all-libd_chr1-chr1_all-2001-4000-dynamic-12corestotal-allcorepera-20240404-110529-summary.csv  2024-04-04 16:07:33\n",
       "libd_chr1-chr1_all-libd_chr1-chr1_all-2001-4000-dynamic-1corestotal-allcorepera-20240404-110529-summary.csv   2024-04-04 15:50:11\n",
       "libd_chr1-chr1_all-libd_chr1-chr1_all-4001-6000-dynamic-12corestotal-allcorepera-20240404-110530-summary.csv  2024-04-04 16:21:17\n",
       "libd_chr1-chr1_all-libd_chr1-chr1_all-4001-6000-dynamic-1corestotal-allcorepera-20240404-110530-summary.csv   2024-04-04 15:50:24\n",
       "libd_chr1-chr1_all-libd_chr1-chr1_all-6001-8000-dynamic-12corestotal-allcorepera-20240404-110530-summary.csv  2024-04-04 16:27:07\n",
       "libd_chr1-chr1_all-libd_chr1-chr1_all-6001-8000-dynamic-1corestotal-allcorepera-20240404-110530-summary.csv   2024-04-04 15:50:18\n",
       "libd_chr1-chr1_all-libd_chr1-chr1_all-8001-10000-dynamic-12corestotal-allcorepera-20240404-110530-summary.csv 2024-04-04 16:28:07\n",
       "libd_chr1-chr1_all-libd_chr1-chr1_all-8001-10000-dynamic-1corestotal-allcorepera-20240404-110530-summary.csv  2024-04-04 15:48:01\n",
       "                                                                                                              runtime \n",
       "libd_chr1-chr1_all-libd_chr1-chr1_all-1-2000-dynamic-12corestotal-allcorepera-20240404-110529-summary.csv     01:09:27\n",
       "libd_chr1-chr1_all-libd_chr1-chr1_all-1-2000-dynamic-1corestotal-allcorepera-20240404-110529-summary.csv      00:48:06\n",
       "libd_chr1-chr1_all-libd_chr1-chr1_all-2001-4000-dynamic-12corestotal-allcorepera-20240404-110529-summary.csv  00:46:35\n",
       "libd_chr1-chr1_all-libd_chr1-chr1_all-2001-4000-dynamic-1corestotal-allcorepera-20240404-110529-summary.csv   00:51:21\n",
       "libd_chr1-chr1_all-libd_chr1-chr1_all-4001-6000-dynamic-12corestotal-allcorepera-20240404-110530-summary.csv  00:48:36\n",
       "libd_chr1-chr1_all-libd_chr1-chr1_all-4001-6000-dynamic-1corestotal-allcorepera-20240404-110530-summary.csv   00:51:34\n",
       "libd_chr1-chr1_all-libd_chr1-chr1_all-6001-8000-dynamic-12corestotal-allcorepera-20240404-110530-summary.csv  00:52:03\n",
       "libd_chr1-chr1_all-libd_chr1-chr1_all-6001-8000-dynamic-1corestotal-allcorepera-20240404-110530-summary.csv   00:51:28\n",
       "libd_chr1-chr1_all-libd_chr1-chr1_all-8001-10000-dynamic-12corestotal-allcorepera-20240404-110530-summary.csv 00:51:35\n",
       "libd_chr1-chr1_all-libd_chr1-chr1_all-8001-10000-dynamic-1corestotal-allcorepera-20240404-110530-summary.csv  00:49:11\n",
       "                                                                                                              amount_RAM       \n",
       "libd_chr1-chr1_all-libd_chr1-chr1_all-1-2000-dynamic-12corestotal-allcorepera-20240404-110529-summary.csv     0.245569720864296\n",
       "libd_chr1-chr1_all-libd_chr1-chr1_all-1-2000-dynamic-1corestotal-allcorepera-20240404-110529-summary.csv      0.245569720864296\n",
       "libd_chr1-chr1_all-libd_chr1-chr1_all-2001-4000-dynamic-12corestotal-allcorepera-20240404-110529-summary.csv  0.245569720864296\n",
       "libd_chr1-chr1_all-libd_chr1-chr1_all-2001-4000-dynamic-1corestotal-allcorepera-20240404-110529-summary.csv   0.245569724589586\n",
       "libd_chr1-chr1_all-libd_chr1-chr1_all-4001-6000-dynamic-12corestotal-allcorepera-20240404-110530-summary.csv  0.245569724589586\n",
       "libd_chr1-chr1_all-libd_chr1-chr1_all-4001-6000-dynamic-1corestotal-allcorepera-20240404-110530-summary.csv   0.245569724589586\n",
       "libd_chr1-chr1_all-libd_chr1-chr1_all-6001-8000-dynamic-12corestotal-allcorepera-20240404-110530-summary.csv  0.245569724589586\n",
       "libd_chr1-chr1_all-libd_chr1-chr1_all-6001-8000-dynamic-1corestotal-allcorepera-20240404-110530-summary.csv   0.245569724589586\n",
       "libd_chr1-chr1_all-libd_chr1-chr1_all-8001-10000-dynamic-12corestotal-allcorepera-20240404-110530-summary.csv 0.245569720864296\n",
       "libd_chr1-chr1_all-libd_chr1-chr1_all-8001-10000-dynamic-1corestotal-allcorepera-20240404-110530-summary.csv  0.245569720864296\n",
       "                                                                                                              number_cores\n",
       "libd_chr1-chr1_all-libd_chr1-chr1_all-1-2000-dynamic-12corestotal-allcorepera-20240404-110529-summary.csv     12          \n",
       "libd_chr1-chr1_all-libd_chr1-chr1_all-1-2000-dynamic-1corestotal-allcorepera-20240404-110529-summary.csv       1          \n",
       "libd_chr1-chr1_all-libd_chr1-chr1_all-2001-4000-dynamic-12corestotal-allcorepera-20240404-110529-summary.csv  12          \n",
       "libd_chr1-chr1_all-libd_chr1-chr1_all-2001-4000-dynamic-1corestotal-allcorepera-20240404-110529-summary.csv    1          \n",
       "libd_chr1-chr1_all-libd_chr1-chr1_all-4001-6000-dynamic-12corestotal-allcorepera-20240404-110530-summary.csv  12          \n",
       "libd_chr1-chr1_all-libd_chr1-chr1_all-4001-6000-dynamic-1corestotal-allcorepera-20240404-110530-summary.csv    1          \n",
       "libd_chr1-chr1_all-libd_chr1-chr1_all-6001-8000-dynamic-12corestotal-allcorepera-20240404-110530-summary.csv  12          \n",
       "libd_chr1-chr1_all-libd_chr1-chr1_all-6001-8000-dynamic-1corestotal-allcorepera-20240404-110530-summary.csv    1          \n",
       "libd_chr1-chr1_all-libd_chr1-chr1_all-8001-10000-dynamic-12corestotal-allcorepera-20240404-110530-summary.csv 12          \n",
       "libd_chr1-chr1_all-libd_chr1-chr1_all-8001-10000-dynamic-1corestotal-allcorepera-20240404-110530-summary.csv   1          \n",
       "                                                                                                              scaffold_ID                                                                                      \n",
       "libd_chr1-chr1_all-libd_chr1-chr1_all-1-2000-dynamic-12corestotal-allcorepera-20240404-110529-summary.csv     libd_chr1-chr1_all-libd_chr1-chr1_all-1-2000-dynamic-12corestotal-allcorepera-20240404-110529    \n",
       "libd_chr1-chr1_all-libd_chr1-chr1_all-1-2000-dynamic-1corestotal-allcorepera-20240404-110529-summary.csv      libd_chr1-chr1_all-libd_chr1-chr1_all-1-2000-dynamic-1corestotal-allcorepera-20240404-110529     \n",
       "libd_chr1-chr1_all-libd_chr1-chr1_all-2001-4000-dynamic-12corestotal-allcorepera-20240404-110529-summary.csv  libd_chr1-chr1_all-libd_chr1-chr1_all-2001-4000-dynamic-12corestotal-allcorepera-20240404-110529 \n",
       "libd_chr1-chr1_all-libd_chr1-chr1_all-2001-4000-dynamic-1corestotal-allcorepera-20240404-110529-summary.csv   libd_chr1-chr1_all-libd_chr1-chr1_all-2001-4000-dynamic-1corestotal-allcorepera-20240404-110529  \n",
       "libd_chr1-chr1_all-libd_chr1-chr1_all-4001-6000-dynamic-12corestotal-allcorepera-20240404-110530-summary.csv  libd_chr1-chr1_all-libd_chr1-chr1_all-4001-6000-dynamic-12corestotal-allcorepera-20240404-110530 \n",
       "libd_chr1-chr1_all-libd_chr1-chr1_all-4001-6000-dynamic-1corestotal-allcorepera-20240404-110530-summary.csv   libd_chr1-chr1_all-libd_chr1-chr1_all-4001-6000-dynamic-1corestotal-allcorepera-20240404-110530  \n",
       "libd_chr1-chr1_all-libd_chr1-chr1_all-6001-8000-dynamic-12corestotal-allcorepera-20240404-110530-summary.csv  libd_chr1-chr1_all-libd_chr1-chr1_all-6001-8000-dynamic-12corestotal-allcorepera-20240404-110530 \n",
       "libd_chr1-chr1_all-libd_chr1-chr1_all-6001-8000-dynamic-1corestotal-allcorepera-20240404-110530-summary.csv   libd_chr1-chr1_all-libd_chr1-chr1_all-6001-8000-dynamic-1corestotal-allcorepera-20240404-110530  \n",
       "libd_chr1-chr1_all-libd_chr1-chr1_all-8001-10000-dynamic-12corestotal-allcorepera-20240404-110530-summary.csv libd_chr1-chr1_all-libd_chr1-chr1_all-8001-10000-dynamic-12corestotal-allcorepera-20240404-110530\n",
       "libd_chr1-chr1_all-libd_chr1-chr1_all-8001-10000-dynamic-1corestotal-allcorepera-20240404-110530-summary.csv  libd_chr1-chr1_all-libd_chr1-chr1_all-8001-10000-dynamic-1corestotal-allcorepera-20240404-110530 \n",
       "                                                                                                              runtime_seconds\n",
       "libd_chr1-chr1_all-libd_chr1-chr1_all-1-2000-dynamic-12corestotal-allcorepera-20240404-110529-summary.csv     4167           \n",
       "libd_chr1-chr1_all-libd_chr1-chr1_all-1-2000-dynamic-1corestotal-allcorepera-20240404-110529-summary.csv      2886           \n",
       "libd_chr1-chr1_all-libd_chr1-chr1_all-2001-4000-dynamic-12corestotal-allcorepera-20240404-110529-summary.csv  2795           \n",
       "libd_chr1-chr1_all-libd_chr1-chr1_all-2001-4000-dynamic-1corestotal-allcorepera-20240404-110529-summary.csv   3081           \n",
       "libd_chr1-chr1_all-libd_chr1-chr1_all-4001-6000-dynamic-12corestotal-allcorepera-20240404-110530-summary.csv  2916           \n",
       "libd_chr1-chr1_all-libd_chr1-chr1_all-4001-6000-dynamic-1corestotal-allcorepera-20240404-110530-summary.csv   3094           \n",
       "libd_chr1-chr1_all-libd_chr1-chr1_all-6001-8000-dynamic-12corestotal-allcorepera-20240404-110530-summary.csv  3123           \n",
       "libd_chr1-chr1_all-libd_chr1-chr1_all-6001-8000-dynamic-1corestotal-allcorepera-20240404-110530-summary.csv   3088           \n",
       "libd_chr1-chr1_all-libd_chr1-chr1_all-8001-10000-dynamic-12corestotal-allcorepera-20240404-110530-summary.csv 3095           \n",
       "libd_chr1-chr1_all-libd_chr1-chr1_all-8001-10000-dynamic-1corestotal-allcorepera-20240404-110530-summary.csv  2951           \n",
       "                                                                                                              runtime_hours\n",
       "libd_chr1-chr1_all-libd_chr1-chr1_all-1-2000-dynamic-12corestotal-allcorepera-20240404-110529-summary.csv     1.1575000    \n",
       "libd_chr1-chr1_all-libd_chr1-chr1_all-1-2000-dynamic-1corestotal-allcorepera-20240404-110529-summary.csv      0.8016667    \n",
       "libd_chr1-chr1_all-libd_chr1-chr1_all-2001-4000-dynamic-12corestotal-allcorepera-20240404-110529-summary.csv  0.7763889    \n",
       "libd_chr1-chr1_all-libd_chr1-chr1_all-2001-4000-dynamic-1corestotal-allcorepera-20240404-110529-summary.csv   0.8558333    \n",
       "libd_chr1-chr1_all-libd_chr1-chr1_all-4001-6000-dynamic-12corestotal-allcorepera-20240404-110530-summary.csv  0.8100000    \n",
       "libd_chr1-chr1_all-libd_chr1-chr1_all-4001-6000-dynamic-1corestotal-allcorepera-20240404-110530-summary.csv   0.8594444    \n",
       "libd_chr1-chr1_all-libd_chr1-chr1_all-6001-8000-dynamic-12corestotal-allcorepera-20240404-110530-summary.csv  0.8675000    \n",
       "libd_chr1-chr1_all-libd_chr1-chr1_all-6001-8000-dynamic-1corestotal-allcorepera-20240404-110530-summary.csv   0.8577778    \n",
       "libd_chr1-chr1_all-libd_chr1-chr1_all-8001-10000-dynamic-12corestotal-allcorepera-20240404-110530-summary.csv 0.8597222    \n",
       "libd_chr1-chr1_all-libd_chr1-chr1_all-8001-10000-dynamic-1corestotal-allcorepera-20240404-110530-summary.csv  0.8197222    \n",
       "                                                                                                              runtime_core_hours\n",
       "libd_chr1-chr1_all-libd_chr1-chr1_all-1-2000-dynamic-12corestotal-allcorepera-20240404-110529-summary.csv     13.8900000        \n",
       "libd_chr1-chr1_all-libd_chr1-chr1_all-1-2000-dynamic-1corestotal-allcorepera-20240404-110529-summary.csv       0.8016667        \n",
       "libd_chr1-chr1_all-libd_chr1-chr1_all-2001-4000-dynamic-12corestotal-allcorepera-20240404-110529-summary.csv   9.3166667        \n",
       "libd_chr1-chr1_all-libd_chr1-chr1_all-2001-4000-dynamic-1corestotal-allcorepera-20240404-110529-summary.csv    0.8558333        \n",
       "libd_chr1-chr1_all-libd_chr1-chr1_all-4001-6000-dynamic-12corestotal-allcorepera-20240404-110530-summary.csv   9.7200000        \n",
       "libd_chr1-chr1_all-libd_chr1-chr1_all-4001-6000-dynamic-1corestotal-allcorepera-20240404-110530-summary.csv    0.8594444        \n",
       "libd_chr1-chr1_all-libd_chr1-chr1_all-6001-8000-dynamic-12corestotal-allcorepera-20240404-110530-summary.csv  10.4100000        \n",
       "libd_chr1-chr1_all-libd_chr1-chr1_all-6001-8000-dynamic-1corestotal-allcorepera-20240404-110530-summary.csv    0.8577778        \n",
       "libd_chr1-chr1_all-libd_chr1-chr1_all-8001-10000-dynamic-12corestotal-allcorepera-20240404-110530-summary.csv 10.3166667        \n",
       "libd_chr1-chr1_all-libd_chr1-chr1_all-8001-10000-dynamic-1corestotal-allcorepera-20240404-110530-summary.csv   0.8197222        \n",
       "                                                                                                              runtime_core_seconds\n",
       "libd_chr1-chr1_all-libd_chr1-chr1_all-1-2000-dynamic-12corestotal-allcorepera-20240404-110529-summary.csv     50004               \n",
       "libd_chr1-chr1_all-libd_chr1-chr1_all-1-2000-dynamic-1corestotal-allcorepera-20240404-110529-summary.csv       2886               \n",
       "libd_chr1-chr1_all-libd_chr1-chr1_all-2001-4000-dynamic-12corestotal-allcorepera-20240404-110529-summary.csv  33540               \n",
       "libd_chr1-chr1_all-libd_chr1-chr1_all-2001-4000-dynamic-1corestotal-allcorepera-20240404-110529-summary.csv    3081               \n",
       "libd_chr1-chr1_all-libd_chr1-chr1_all-4001-6000-dynamic-12corestotal-allcorepera-20240404-110530-summary.csv  34992               \n",
       "libd_chr1-chr1_all-libd_chr1-chr1_all-4001-6000-dynamic-1corestotal-allcorepera-20240404-110530-summary.csv    3094               \n",
       "libd_chr1-chr1_all-libd_chr1-chr1_all-6001-8000-dynamic-12corestotal-allcorepera-20240404-110530-summary.csv  37476               \n",
       "libd_chr1-chr1_all-libd_chr1-chr1_all-6001-8000-dynamic-1corestotal-allcorepera-20240404-110530-summary.csv    3088               \n",
       "libd_chr1-chr1_all-libd_chr1-chr1_all-8001-10000-dynamic-12corestotal-allcorepera-20240404-110530-summary.csv 37140               \n",
       "libd_chr1-chr1_all-libd_chr1-chr1_all-8001-10000-dynamic-1corestotal-allcorepera-20240404-110530-summary.csv   2951               \n",
       "                                                                                                              core_hours_per_test\n",
       "libd_chr1-chr1_all-libd_chr1-chr1_all-1-2000-dynamic-12corestotal-allcorepera-20240404-110529-summary.csv     0.0069450000       \n",
       "libd_chr1-chr1_all-libd_chr1-chr1_all-1-2000-dynamic-1corestotal-allcorepera-20240404-110529-summary.csv      0.0004008333       \n",
       "libd_chr1-chr1_all-libd_chr1-chr1_all-2001-4000-dynamic-12corestotal-allcorepera-20240404-110529-summary.csv  0.0046583333       \n",
       "libd_chr1-chr1_all-libd_chr1-chr1_all-2001-4000-dynamic-1corestotal-allcorepera-20240404-110529-summary.csv   0.0004279167       \n",
       "libd_chr1-chr1_all-libd_chr1-chr1_all-4001-6000-dynamic-12corestotal-allcorepera-20240404-110530-summary.csv  0.0048600000       \n",
       "libd_chr1-chr1_all-libd_chr1-chr1_all-4001-6000-dynamic-1corestotal-allcorepera-20240404-110530-summary.csv   0.0004297222       \n",
       "libd_chr1-chr1_all-libd_chr1-chr1_all-6001-8000-dynamic-12corestotal-allcorepera-20240404-110530-summary.csv  0.0052050000       \n",
       "libd_chr1-chr1_all-libd_chr1-chr1_all-6001-8000-dynamic-1corestotal-allcorepera-20240404-110530-summary.csv   0.0004288889       \n",
       "libd_chr1-chr1_all-libd_chr1-chr1_all-8001-10000-dynamic-12corestotal-allcorepera-20240404-110530-summary.csv 0.0051583333       \n",
       "libd_chr1-chr1_all-libd_chr1-chr1_all-8001-10000-dynamic-1corestotal-allcorepera-20240404-110530-summary.csv  0.0004098611       \n",
       "                                                                                                              core_seconds_per_test\n",
       "libd_chr1-chr1_all-libd_chr1-chr1_all-1-2000-dynamic-12corestotal-allcorepera-20240404-110529-summary.csv     25.0020              \n",
       "libd_chr1-chr1_all-libd_chr1-chr1_all-1-2000-dynamic-1corestotal-allcorepera-20240404-110529-summary.csv       1.4430              \n",
       "libd_chr1-chr1_all-libd_chr1-chr1_all-2001-4000-dynamic-12corestotal-allcorepera-20240404-110529-summary.csv  16.7700              \n",
       "libd_chr1-chr1_all-libd_chr1-chr1_all-2001-4000-dynamic-1corestotal-allcorepera-20240404-110529-summary.csv    1.5405              \n",
       "libd_chr1-chr1_all-libd_chr1-chr1_all-4001-6000-dynamic-12corestotal-allcorepera-20240404-110530-summary.csv  17.4960              \n",
       "libd_chr1-chr1_all-libd_chr1-chr1_all-4001-6000-dynamic-1corestotal-allcorepera-20240404-110530-summary.csv    1.5470              \n",
       "libd_chr1-chr1_all-libd_chr1-chr1_all-6001-8000-dynamic-12corestotal-allcorepera-20240404-110530-summary.csv  18.7380              \n",
       "libd_chr1-chr1_all-libd_chr1-chr1_all-6001-8000-dynamic-1corestotal-allcorepera-20240404-110530-summary.csv    1.5440              \n",
       "libd_chr1-chr1_all-libd_chr1-chr1_all-8001-10000-dynamic-12corestotal-allcorepera-20240404-110530-summary.csv 18.5700              \n",
       "libd_chr1-chr1_all-libd_chr1-chr1_all-8001-10000-dynamic-1corestotal-allcorepera-20240404-110530-summary.csv   1.4755              "
      ]
     },
     "metadata": {},
     "output_type": "display_data"
    }
   ],
   "source": [
    "summary_table"
   ]
  },
  {
   "cell_type": "code",
   "execution_count": 14,
   "id": "fcf6d834-f970-460a-ba8b-9ef44917e6c9",
   "metadata": {},
   "outputs": [],
   "source": [
    "#summary_table[which.min(summary_table$core_hours_per_test), ]"
   ]
  },
  {
   "cell_type": "code",
   "execution_count": 15,
   "id": "7f4deac8-60dd-4576-8c76-135d39fcb03b",
   "metadata": {},
   "outputs": [],
   "source": [
    "data.table::fwrite(summary_table, \"05-OUT_SLURM_benchmarks_a3_10k_windows.csv\")"
   ]
  },
  {
   "cell_type": "markdown",
   "id": "793cb57e-aa18-4937-8611-570b1a5d30bb",
   "metadata": {},
   "source": [
    "## How long for whole dataset?"
   ]
  },
  {
   "cell_type": "markdown",
   "id": "f828b901-58a5-44e9-ac09-91a0f8ab69ba",
   "metadata": {},
   "source": [
    "***This is for benchmarks with 10kb windows***"
   ]
  },
  {
   "cell_type": "code",
   "execution_count": 16,
   "id": "757c33bf-efa4-4514-8296-287b73daa560",
   "metadata": {},
   "outputs": [],
   "source": [
    "summary_table <- summary_table[which(summary_table$num_cores == 1), ]"
   ]
  },
  {
   "cell_type": "code",
   "execution_count": 17,
   "id": "30850d1c-aeee-49e3-94f7-dccfa46414fb",
   "metadata": {},
   "outputs": [],
   "source": [
    "n_sites <- 26000000"
   ]
  },
  {
   "cell_type": "code",
   "execution_count": 18,
   "id": "7bcd6f96-7109-4fa3-8db2-076b0e5fe422",
   "metadata": {},
   "outputs": [
    {
     "data": {
      "text/html": [
       "10905.5555555556"
      ],
      "text/latex": [
       "10905.5555555556"
      ],
      "text/markdown": [
       "10905.5555555556"
      ],
      "text/plain": [
       "[1] 10905.56"
      ]
     },
     "metadata": {},
     "output_type": "display_data"
    }
   ],
   "source": [
    "# Core hours for single run over methylation dataset (single brain region, single population dataset)\n",
    "\n",
    "n_sites*mean(summary_table$core_hours_per_test)"
   ]
  },
  {
   "cell_type": "code",
   "execution_count": 19,
   "id": "b39dccdd-4a5c-44fa-9156-602c456893ab",
   "metadata": {},
   "outputs": [
    {
     "data": {
      "text/html": [
       "98150"
      ],
      "text/latex": [
       "98150"
      ],
      "text/markdown": [
       "98150"
      ],
      "text/plain": [
       "[1] 98150"
      ]
     },
     "metadata": {},
     "output_type": "display_data"
    }
   ],
   "source": [
    "# Core hours for 3 x 3 brain regions x population datasets\n",
    "\n",
    "brain_regions <- 3\n",
    "populations <- 3\n",
    "n_sites*mean(summary_table$core_hours_per_test)*brain_regions*populations"
   ]
  }
 ],
 "metadata": {
  "kernelspec": {
   "display_name": "R",
   "language": "R",
   "name": "ir"
  },
  "language_info": {
   "codemirror_mode": "r",
   "file_extension": ".r",
   "mimetype": "text/x-r-source",
   "name": "R",
   "pygments_lexer": "r",
   "version": "4.3.1"
  }
 },
 "nbformat": 4,
 "nbformat_minor": 5
}
