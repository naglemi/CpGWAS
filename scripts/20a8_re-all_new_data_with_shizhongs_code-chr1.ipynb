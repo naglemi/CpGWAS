{
 "cells": [
  {
   "cell_type": "markdown",
   "id": "bf56f1cb-692a-4f54-b026-99e8075d50e8",
   "metadata": {},
   "source": [
    "# Compare MWAS methods for sanity tests and troubleshooting"
   ]
  },
  {
   "cell_type": "markdown",
   "id": "dc17d619-945e-4221-8ba7-c4c36fa56efe",
   "metadata": {},
   "source": [
    "In this version, we use the full new SNP set with a selected window"
   ]
  },
  {
   "cell_type": "markdown",
   "id": "ca2a80fb-d548-4157-b585-cd5cf6a471d2",
   "metadata": {},
   "source": [
    "# Pick the regions we will test"
   ]
  },
  {
   "cell_type": "code",
   "execution_count": 1,
   "id": "36f713c6-9673-42fe-b9d9-2010f414deda",
   "metadata": {},
   "outputs": [],
   "source": [
    "library(data.table)\n",
    "\n",
    "# prev_hits <- fread(\"\n",
    "# Chr     pos        old_z       old_p\n",
    "# 11   38247902        -27.1535308285104       2.30024742330298e-162\n",
    "# 2    47933357        18.3327793004811        4.53147699327216e-75\n",
    "# 7    1987910         10.1255085321387        4.25759742738181e-24\n",
    "# 7    1987896         10.1255085321387        4.25759742738189e-24\n",
    "# 7    1987797         10.0241523897721        1.19379483108027e-23\n",
    "# 7    1987778         10.0105851568856        1.36940148731912e-23\n",
    "# 12   2194742         -10.0072634920486       1.41615523554955e-23\n",
    "# \")\n"
   ]
  },
  {
   "cell_type": "code",
   "execution_count": 2,
   "id": "f177a10e-f50a-422d-9c44-d8f5845f19cf",
   "metadata": {},
   "outputs": [],
   "source": [
    "prev_hits <- fread(\"\n",
    "Chr     pos\n",
    "1    73274305\n",
    "1    73418161\n",
    "1    73418205\n",
    "1    73418313\n",
    "1    73419188\n",
    "1    73419830\n",
    "\")"
   ]
  },
  {
   "cell_type": "code",
   "execution_count": 3,
   "id": "ed1b7512-ee13-4f4e-9a6b-da40e521c346",
   "metadata": {},
   "outputs": [],
   "source": [
    "#df <- fread(\"09.5-OUT_matched_SNP_meth_cov_chunked_EXPANSE_a2.csv\")"
   ]
  },
  {
   "cell_type": "code",
   "execution_count": 4,
   "id": "c6034757-2d3c-43d3-aa16-70baa5169549",
   "metadata": {},
   "outputs": [],
   "source": [
    "df <- fread(\"09-OUT_matched_SNP_meth_cov_a2.csv\")"
   ]
  },
  {
   "cell_type": "markdown",
   "id": "d7711c4d-5f19-4fd0-9f7b-891133ac3311",
   "metadata": {},
   "source": [
    "## Try original code"
   ]
  },
  {
   "cell_type": "code",
   "execution_count": 5,
   "id": "be729eb2-c5b2-4d3e-b835-072d8f5ba2e6",
   "metadata": {},
   "outputs": [],
   "source": [
    "###### model: learn elastic net model on training data \n",
    "######---------Input: trainX, trainY\n",
    "######---------Return: selected features and coefficents\n",
    "\n",
    "# original\n",
    "elastic.net <- function(trainX,trainY){\n",
    "    if(nrow(trainX)!=length(trainY)){\n",
    "            stop(\"Number of observations is differerent\")\n",
    "    } \n",
    "\n",
    "    # optimize alpha---mixing parameter  \n",
    "    a <- 0.5\n",
    "    search <- foreach(ai = a, .combine = rbind) %dopar% {\n",
    "        cv.fit <- cv.glmnet(\n",
    "                        trainX,\n",
    "                        trainY,\n",
    "                        nfold = 5,\n",
    "                        type.measure = \"mse\",\n",
    "                        paralle = TRUE,\n",
    "                        alpha = ai\n",
    "                        )\n",
    "        data.frame(\n",
    "                        cvm = min(cv.fit$cvm),\n",
    "                        lambda = cv.fit$lambda.min,\n",
    "                        alpha = ai\n",
    "                        )\n",
    "        } \n",
    "    cv.opt <- search[search$cvm == min(search$cvm),] \n",
    "\n",
    "        # fit model by optimized alpha and lambda\n",
    "        yfit = glmnet(\n",
    "        trainX,\n",
    "        trainY,\n",
    "        lambda = cv.opt$lambda,\n",
    "        alpha = cv.opt$alpha\n",
    "                )       \n",
    "        idf <- coef(yfit)\n",
    "        idx <- which(idf != 0)\n",
    "        selectf <- data.frame(\n",
    "                features = idf@Dimnames[[1]][idx], \n",
    "                coefs = idf [idx]\n",
    "        )\n",
    "}\n",
    "\n",
    "# modified to use lambda 1se and appropriate cvm\n",
    "elastic.net <- function(trainX,trainY){\n",
    "    if(nrow(trainX)!=length(trainY)){\n",
    "            stop(\"Number of observations is differerent\")\n",
    "    } \n",
    "\n",
    "    # optimize alpha---mixing parameter  \n",
    "    a <- 0.5\n",
    "    search <- foreach(ai = a, .combine = rbind) %dopar% {\n",
    "        set.seed(42)\n",
    "        cv.fit <- cv.glmnet(\n",
    "                        trainX,\n",
    "                        trainY,\n",
    "                        nfold = 5,\n",
    "                        type.measure = \"mse\",\n",
    "                        paralle = TRUE,\n",
    "                        alpha = ai\n",
    "                        )\n",
    "        print(paste0(\"Dim of trainX: \", dim(trainX)))\n",
    "        print(paste0(\"Len of trainY: \", length(trainY)))\n",
    "        coef_matrix <- as.matrix(coef(cv.fit))\n",
    "\n",
    "        non_zero_coefs <- coef_matrix[coef_matrix != 0, , drop = FALSE]\n",
    "        print(\"Coefficients when fitting: \")\n",
    "        print(non_zero_coefs)\n",
    "\n",
    "        data.frame(\n",
    "                        cvm = cv.fit$cvm[cv.fit$lambda == cv.fit$lambda.1se],\n",
    "                        lambda = cv.fit$lambda.1se,\n",
    "                        alpha = ai\n",
    "                        )\n",
    "        } \n",
    "    cv.opt <- search[search$cvm == min(search$cvm),] \n",
    "\n",
    "        # fit model by optimized alpha and lambda\n",
    "    set.seed(42)\n",
    "    yfit <- glmnet(\n",
    "    trainX,\n",
    "    trainY,\n",
    "    lambda = cv.opt$lambda,\n",
    "    alpha = cv.opt$alpha)\n",
    "\n",
    "    coef_matrix <- as.matrix(coef(yfit))\n",
    "\n",
    "    non_zero_coefs <- coef_matrix[coef_matrix != 0, , drop = FALSE]\n",
    "    print(\"Coefficients when optimal: \")\n",
    "    print(non_zero_coefs)\n",
    "\n",
    "    idf <- coef(yfit)\n",
    "    idx <- which(idf != 0)\n",
    "    selectf <- data.frame(\n",
    "            features = idf@Dimnames[[1]][idx], \n",
    "            coefs = idf [idx]\n",
    "    )\n",
    "}\n",
    "\n",
    "MWAS <- function(gwas, weight, geno){\n",
    "        z <- gwas %*% weight\n",
    "        z.cor <- cor(geno)\n",
    "        se <- sqrt(weight %*%  z.cor %*%  weight)\n",
    "        z <- z/se\n",
    "        p=pnorm(abs(z),lower.tail=F)*2\n",
    "        return(c(z, p))\n",
    "}"
   ]
  },
  {
   "cell_type": "code",
   "execution_count": 6,
   "id": "9821a860-2a97-4a7b-bfca-6e8abd96bf8a",
   "metadata": {},
   "outputs": [],
   "source": [
    "df <- df[which(df$Chr == 1), ]"
   ]
  },
  {
   "cell_type": "code",
   "execution_count": 7,
   "id": "a023b2df-92e9-414d-a2e5-a8c6d3193954",
   "metadata": {},
   "outputs": [],
   "source": [
    "i <- 2"
   ]
  },
  {
   "cell_type": "code",
   "execution_count": 8,
   "id": "22de2603-481a-4995-8991-1f6f64989e3d",
   "metadata": {},
   "outputs": [
    {
     "name": "stderr",
     "output_type": "stream",
     "text": [
      "Loading required package: Matrix\n",
      "\n",
      "Loaded glmnet 4.1-8\n",
      "\n",
      "Loading required package: foreach\n",
      "\n",
      "Loading required package: iterators\n",
      "\n",
      "Loading required package: parallel\n",
      "\n"
     ]
    }
   ],
   "source": [
    "library(\"glmnet\")\n",
    "library(\"e1071\")\n",
    "library(\"doParallel\")\n",
    "\n",
    "set.seed(2018)\n",
    "wind <- c(5000,10000)\n",
    "# output directory\n",
    "#outd <- \"/dcl02/lieber/shan/shizhong/finemapping/GWAS/tags/scz3/mwas/chr22/1/\"\n",
    "outd <- \"20-OUT_original_mwas_sanity_test/\""
   ]
  },
  {
   "cell_type": "markdown",
   "id": "3a0ea432-3ac3-4077-ae61-c3a029004096",
   "metadata": {},
   "source": [
    "## Replace all old objects with new objects in same format"
   ]
  },
  {
   "cell_type": "code",
   "execution_count": 9,
   "id": "44f6b191-a277-4bb2-96ec-88025728ee70",
   "metadata": {},
   "outputs": [],
   "source": [
    "#load(\"p1.rda\", verbose = TRUE)"
   ]
  },
  {
   "cell_type": "code",
   "execution_count": 10,
   "id": "fa539e6c-8df5-43e1-8378-dc52d75f0fd0",
   "metadata": {},
   "outputs": [],
   "source": [
    "#p[1:10, 1:10]"
   ]
  },
  {
   "cell_type": "markdown",
   "id": "18332543-6f7a-40d8-b894-9562a6ac7457",
   "metadata": {},
   "source": [
    "### Methylation data"
   ]
  },
  {
   "cell_type": "code",
   "execution_count": 11,
   "id": "f9b051aa-a1e5-421b-856d-718cf85c24a3",
   "metadata": {},
   "outputs": [
    {
     "name": "stderr",
     "output_type": "stream",
     "text": [
      "Loading required package: BiocGenerics\n",
      "\n",
      "\n",
      "Attaching package: ‘BiocGenerics’\n",
      "\n",
      "\n",
      "The following objects are masked from ‘package:stats’:\n",
      "\n",
      "    IQR, mad, sd, var, xtabs\n",
      "\n",
      "\n",
      "The following objects are masked from ‘package:base’:\n",
      "\n",
      "    anyDuplicated, aperm, append, as.data.frame, basename, cbind,\n",
      "    colnames, dirname, do.call, duplicated, eval, evalq, Filter, Find,\n",
      "    get, grep, grepl, intersect, is.unsorted, lapply, Map, mapply,\n",
      "    match, mget, order, paste, pmax, pmax.int, pmin, pmin.int,\n",
      "    Position, rank, rbind, Reduce, rownames, sapply, setdiff, sort,\n",
      "    table, tapply, union, unique, unsplit, which.max, which.min\n",
      "\n",
      "\n",
      "Loading required package: GenomicRanges\n",
      "\n",
      "Loading required package: stats4\n",
      "\n",
      "Loading required package: S4Vectors\n",
      "\n",
      "\n",
      "Attaching package: ‘S4Vectors’\n",
      "\n",
      "\n",
      "The following objects are masked from ‘package:Matrix’:\n",
      "\n",
      "    expand, unname\n",
      "\n",
      "\n",
      "The following objects are masked from ‘package:data.table’:\n",
      "\n",
      "    first, second\n",
      "\n",
      "\n",
      "The following object is masked from ‘package:utils’:\n",
      "\n",
      "    findMatches\n",
      "\n",
      "\n",
      "The following objects are masked from ‘package:base’:\n",
      "\n",
      "    expand.grid, I, unname\n",
      "\n",
      "\n",
      "Loading required package: IRanges\n",
      "\n",
      "\n",
      "Attaching package: ‘IRanges’\n",
      "\n",
      "\n",
      "The following object is masked from ‘package:data.table’:\n",
      "\n",
      "    shift\n",
      "\n",
      "\n",
      "Loading required package: GenomeInfoDb\n",
      "\n",
      "Loading required package: SummarizedExperiment\n",
      "\n",
      "Loading required package: MatrixGenerics\n",
      "\n",
      "Loading required package: matrixStats\n",
      "\n",
      "\n",
      "Attaching package: ‘MatrixGenerics’\n",
      "\n",
      "\n",
      "The following objects are masked from ‘package:matrixStats’:\n",
      "\n",
      "    colAlls, colAnyNAs, colAnys, colAvgsPerRowSet, colCollapse,\n",
      "    colCounts, colCummaxs, colCummins, colCumprods, colCumsums,\n",
      "    colDiffs, colIQRDiffs, colIQRs, colLogSumExps, colMadDiffs,\n",
      "    colMads, colMaxs, colMeans2, colMedians, colMins, colOrderStats,\n",
      "    colProds, colQuantiles, colRanges, colRanks, colSdDiffs, colSds,\n",
      "    colSums2, colTabulates, colVarDiffs, colVars, colWeightedMads,\n",
      "    colWeightedMeans, colWeightedMedians, colWeightedSds,\n",
      "    colWeightedVars, rowAlls, rowAnyNAs, rowAnys, rowAvgsPerColSet,\n",
      "    rowCollapse, rowCounts, rowCummaxs, rowCummins, rowCumprods,\n",
      "    rowCumsums, rowDiffs, rowIQRDiffs, rowIQRs, rowLogSumExps,\n",
      "    rowMadDiffs, rowMads, rowMaxs, rowMeans2, rowMedians, rowMins,\n",
      "    rowOrderStats, rowProds, rowQuantiles, rowRanges, rowRanks,\n",
      "    rowSdDiffs, rowSds, rowSums2, rowTabulates, rowVarDiffs, rowVars,\n",
      "    rowWeightedMads, rowWeightedMeans, rowWeightedMedians,\n",
      "    rowWeightedSds, rowWeightedVars\n",
      "\n",
      "\n",
      "Loading required package: Biobase\n",
      "\n",
      "Welcome to Bioconductor\n",
      "\n",
      "    Vignettes contain introductory material; view with\n",
      "    'browseVignettes()'. To cite Bioconductor, see\n",
      "    'citation(\"Biobase\")', and for packages 'citation(\"pkgname\")'.\n",
      "\n",
      "\n",
      "\n",
      "Attaching package: ‘Biobase’\n",
      "\n",
      "\n",
      "The following object is masked from ‘package:MatrixGenerics’:\n",
      "\n",
      "    rowMedians\n",
      "\n",
      "\n",
      "The following objects are masked from ‘package:matrixStats’:\n",
      "\n",
      "    anyMissing, rowMedians\n",
      "\n",
      "\n"
     ]
    }
   ],
   "source": [
    "suppressWarnings(library(bsseq))"
   ]
  },
  {
   "cell_type": "code",
   "execution_count": null,
   "id": "e90b99cd-2b98-40e1-bd61-7814f00d9aec",
   "metadata": {},
   "outputs": [],
   "source": [
    "# load data for mwas\n",
    "# load(\"./rda/caudate_mwas_data_chr22.rda\")\n",
    "load(df$methylation_data[i])\n",
    "\n",
    "p <- getMeth(BSobj2)\n",
    "\n",
    "\n",
    "rownames(p) <- start(BSobj2)\n",
    "\n",
    "sites_to_test <- which(start(BSobj2) >= (73418205 - 500) & start(BSobj2) <= (73418205 + 500))\n",
    "p <- p[sites_to_test, ]\n",
    "\n",
    "# candidate cg\n",
    "cg <- as.numeric(rownames(p))\n",
    "\n",
    "# regress out covariates\n",
    "#load(\"covs_for_meqtl.rda\")"
   ]
  },
  {
   "cell_type": "markdown",
   "id": "6063581e-a107-4977-93d7-836f1da57078",
   "metadata": {},
   "source": [
    "### covariates"
   ]
  },
  {
   "cell_type": "code",
   "execution_count": null,
   "id": "cc499656-ec9a-45cd-ad05-b17e957eaaa6",
   "metadata": {},
   "outputs": [],
   "source": [
    "covs <- fread(df$cov_file[i])\n",
    "covs <- t(covs)\n",
    "colnames(covs) <- covs[1, ]\n",
    "covs <- covs[2:nrow(covs), ]\n",
    "# transpose so we have same orientation as original code"
   ]
  },
  {
   "cell_type": "markdown",
   "id": "72219907-d534-4523-a369-853077888b38",
   "metadata": {},
   "source": [
    "### Regress methylation data over covariates"
   ]
  },
  {
   "cell_type": "code",
   "execution_count": null,
   "id": "85527835-9e3f-4ba9-a645-5330564e0b7c",
   "metadata": {},
   "outputs": [],
   "source": [
    "BSobj2$brnum <- gsub(\"Br0\", \"Br\", BSobj2$brnum)\n",
    "colnames(covs) <- gsub(\"Br0\", \"Br\", colnames(covs))"
   ]
  },
  {
   "cell_type": "code",
   "execution_count": null,
   "id": "8899261b-73fb-430e-bcdb-143fc8f04670",
   "metadata": {},
   "outputs": [],
   "source": [
    "mat <- match(BSobj2$brnum,colnames(covs)) \n",
    "covs <- t(covs[,mat])\n",
    "p.residual=matrix(NA,dim(p)[1],dim(p)[2])"
   ]
  },
  {
   "cell_type": "code",
   "execution_count": null,
   "id": "35031e54-4c54-4a37-9997-99b57efa86bf",
   "metadata": {},
   "outputs": [],
   "source": [
    "rownames(covs)[is.na(covs[, 'genoPC1'])] <- BSobj2$brnum[is.na(covs[, 'genoPC1'])]"
   ]
  },
  {
   "cell_type": "code",
   "execution_count": null,
   "id": "70bda030-7a89-4dff-8c61-f576badfd8bd",
   "metadata": {},
   "outputs": [],
   "source": [
    "colnames(p.residual) <- BSobj2$brnum"
   ]
  },
  {
   "cell_type": "code",
   "execution_count": null,
   "id": "78ee80f1-d9ea-46b0-b37a-dfeed3dbdf97",
   "metadata": {},
   "outputs": [],
   "source": [
    "covs <- as.data.frame(covs)\n",
    "# Convert all columns except Dx and Sex from character to numeric\n",
    "cols_to_convert <- setdiff(names(covs), c(\"Dx\", \"Sex\"))\n",
    "\n",
    "for (col in cols_to_convert) {\n",
    "  covs[[col]] <- as.numeric(covs[[col]])\n",
    "}\n",
    "\n",
    "# Print the modified data frame to check the conversion\n",
    "#print(dat)\n"
   ]
  },
  {
   "cell_type": "code",
   "execution_count": null,
   "id": "db709d51-494c-431c-8327-9348dbf0419c",
   "metadata": {},
   "outputs": [],
   "source": [
    "for (i in 1:dim(p)[1]) { # For each methylation site\n",
    "    dat <- as.data.frame(cbind(y = p[i,], covs))\n",
    "    \n",
    "    # Check for rows with NAs (the ones for which we don't have covariate data)\n",
    "    valid_rows <- complete.cases(dat)\n",
    "    \n",
    "    if (sum(valid_rows) > 0) {\n",
    "        dat_valid <- dat[valid_rows,]\n",
    "        model.res <- lm(y ~ ., data = dat_valid)\n",
    "        \n",
    "        # Store residuals in the corresponding positions\n",
    "        p.residual[i, valid_rows] <- resid(model.res)\n",
    "    }\n",
    "}\n",
    "\n",
    "\n",
    "# for(i in 1:dim(p)[1]){ # foro each methylation site\n",
    "#         dat <- as.data.frame(cbind(p[i,],covs))\n",
    "#         colnames(dat) <- c(\"y\",paste0(\"x\",1:ncol(covs)))\n",
    "#         model.res <- lm(reformulate(paste0(\"x\",1:ncol(covs)), \"y\"),dat)\n",
    "#         p.residual[i,] = resid(model.res) \n",
    "# }"
   ]
  },
  {
   "cell_type": "code",
   "execution_count": null,
   "id": "4f866dd6-16c6-4803-9c21-c70e4b931e66",
   "metadata": {},
   "outputs": [],
   "source": []
  },
  {
   "cell_type": "code",
   "execution_count": null,
   "id": "f4ad72db-fe27-4676-8da6-46222519a095",
   "metadata": {},
   "outputs": [],
   "source": [
    "snp.gwas2 <- NULL"
   ]
  },
  {
   "cell_type": "code",
   "execution_count": null,
   "id": "744fc147-2638-4935-a805-68cb51852dd7",
   "metadata": {},
   "outputs": [],
   "source": [
    "load(\"p1.rda\")"
   ]
  },
  {
   "cell_type": "code",
   "execution_count": null,
   "id": "8a783da8-47b9-4d54-8b56-132e4e0df26b",
   "metadata": {},
   "outputs": [],
   "source": [
    "# min(snp.gwas2$pos_hg38)\n",
    "# max(snp.gwas2$pos_hg38)"
   ]
  },
  {
   "cell_type": "code",
   "execution_count": null,
   "id": "c99fcf98-55e5-409f-a680-b53d79dc2bf6",
   "metadata": {},
   "outputs": [],
   "source": [
    "# load(\"p1.rda\")\n",
    "# pos_we_got <- snp.gwas2$pos_hg38\n",
    "# saveRDS(pos_we_got, \"20-intermediate_positions_in_old_set.csv\")"
   ]
  },
  {
   "cell_type": "code",
   "execution_count": null,
   "id": "2f482f35-ef1c-4f68-8393-ccaada5c7025",
   "metadata": {},
   "outputs": [],
   "source": [
    "#pos_we_got <- readRDS(\"20-intermediate_positions_in_old_set.csv\")"
   ]
  },
  {
   "cell_type": "code",
   "execution_count": null,
   "id": "f6003779-b41a-41c2-91e8-a6a0274addc9",
   "metadata": {},
   "outputs": [],
   "source": [
    "#pos_we_got"
   ]
  },
  {
   "cell_type": "code",
   "execution_count": null,
   "id": "c6110a67-1605-4131-91fa-bdf839c014c8",
   "metadata": {},
   "outputs": [],
   "source": [
    "# head(snp.gwas2)"
   ]
  },
  {
   "cell_type": "markdown",
   "id": "6f1649fc-72c8-4bcf-9cbc-587463117579",
   "metadata": {},
   "source": [
    "### summary stats"
   ]
  },
  {
   "cell_type": "code",
   "execution_count": null,
   "id": "19d2a3db-0ed4-481f-b7d6-78d0ddbbb80f",
   "metadata": {},
   "outputs": [],
   "source": [
    "library(data.table)\n",
    "library(CpGWAS)"
   ]
  },
  {
   "cell_type": "code",
   "execution_count": null,
   "id": "a5270235-a5a6-42d2-a654-ea30cb891279",
   "metadata": {},
   "outputs": [],
   "source": [
    "ss_path <- \"/home/naglemi/mwas/gwas/gwas_stat_scz\""
   ]
  },
  {
   "cell_type": "code",
   "execution_count": null,
   "id": "203b45ea-44b4-4679-8b74-621f634db7dc",
   "metadata": {},
   "outputs": [],
   "source": [
    "snp.gwas2 <- fread(ss_path, skip = 1, header = FALSE)\n",
    "colnames(snp.gwas2) <- strsplit(readLines(ss_path, n = 1), \"\\t\")[[1]]"
   ]
  },
  {
   "cell_type": "code",
   "execution_count": null,
   "id": "917f58c4-4ec5-47b8-bf3d-f0abcf86cf96",
   "metadata": {},
   "outputs": [],
   "source": [
    "snp.gwas2$z <- log(snp.gwas2$OR)/snp.gwas2$SE"
   ]
  },
  {
   "cell_type": "code",
   "execution_count": null,
   "id": "6d87bed5-d32c-4264-b787-d738cd381454",
   "metadata": {},
   "outputs": [],
   "source": [
    "snp.gwas2 <- snp.gwas2[, c(2, 1, 3, 3, 8, 4, 5, 20, 11)]"
   ]
  },
  {
   "cell_type": "code",
   "execution_count": null,
   "id": "3df5e4c7-01eb-475b-a931-1e088d109cdb",
   "metadata": {},
   "outputs": [],
   "source": [
    "head(snp.gwas2, n = 1)"
   ]
  },
  {
   "cell_type": "code",
   "execution_count": null,
   "id": "a1b63fe0-6ff8-4982-92a5-7dd2a937b6f3",
   "metadata": {},
   "outputs": [],
   "source": [
    "colnames(snp.gwas2)[1:5] <- c(\"snp\", \"chr\", \"pos_hg38\", \"pos_hg38\", \"info\")"
   ]
  },
  {
   "cell_type": "code",
   "execution_count": null,
   "id": "86716430-3d24-416b-922e-f7f8e007325d",
   "metadata": {},
   "outputs": [],
   "source": [
    "snp.gwas2 <- snp.gwas2[which(snp.gwas2$chr == 1 & snp.gwas2$pos_hg38 >= (73274305-10000) & snp.gwas2$pos_hg38 <= (73419830 + 10000)), ]"
   ]
  },
  {
   "cell_type": "code",
   "execution_count": null,
   "id": "cf9d755d-69bd-4411-96ff-6736c49236a6",
   "metadata": {},
   "outputs": [],
   "source": [
    "dim(snp.gwas2)"
   ]
  },
  {
   "cell_type": "code",
   "execution_count": null,
   "id": "6dfba3a8-0775-4f8c-92d2-3c9c32a36945",
   "metadata": {},
   "outputs": [],
   "source": [
    "snp.gwas2 <- snp.gwas2[order(snp.gwas2$pos_hg38), ]"
   ]
  },
  {
   "cell_type": "code",
   "execution_count": null,
   "id": "5ec82f36-6328-4c9e-b4d1-23b339c5f487",
   "metadata": {},
   "outputs": [],
   "source": [
    "head(snp.gwas2)"
   ]
  },
  {
   "cell_type": "code",
   "execution_count": null,
   "id": "ffb17b8b-4388-4903-9a9a-f52d25281601",
   "metadata": {},
   "outputs": [],
   "source": [
    "#snp.gwas2 <- snp.gwas2[which(snp.gwas2$pos_hg38 %in% pos_we_got), ]"
   ]
  },
  {
   "cell_type": "code",
   "execution_count": null,
   "id": "a6a6b3d7-ba37-4055-abcb-8141eba02d3f",
   "metadata": {},
   "outputs": [],
   "source": [
    "dim(snp.gwas2)"
   ]
  },
  {
   "cell_type": "code",
   "execution_count": null,
   "id": "4714a813-116f-4567-a6b1-41bb02df8227",
   "metadata": {},
   "outputs": [],
   "source": [
    "# built predition models\n",
    "idx.ea <- BSobj2$race == \"CAUC\""
   ]
  },
  {
   "cell_type": "markdown",
   "id": "9700ca92-911f-4aa6-a557-789f202994b1",
   "metadata": {},
   "source": [
    "### SNPs in LIBD population"
   ]
  },
  {
   "cell_type": "markdown",
   "id": "6c305c43-74d5-42df-8039-b20adbbed9cd",
   "metadata": {},
   "source": [
    "#### For reference, first load Shizhong's formatted SNPs on Chr7"
   ]
  },
  {
   "cell_type": "code",
   "execution_count": null,
   "id": "c03876a6-b33a-4f42-af8d-25c93233dee2",
   "metadata": {},
   "outputs": [],
   "source": [
    "snp2_sorted <- snp2[, order(names(snp2))]"
   ]
  },
  {
   "cell_type": "code",
   "execution_count": null,
   "id": "f24d0fef-0977-4f61-9c6d-a401efb46469",
   "metadata": {},
   "outputs": [],
   "source": [
    "colnames(snp2) <- gsub(\"Br0\", \"Br\", colnames(snp2))"
   ]
  },
  {
   "cell_type": "code",
   "execution_count": null,
   "id": "84f086ad-bf9a-4002-9fd0-822cef73679b",
   "metadata": {},
   "outputs": [],
   "source": [
    "snp2 <- snp2[, colnames(snp2) %in% colnames(p.residual)]"
   ]
  },
  {
   "cell_type": "code",
   "execution_count": null,
   "id": "a3e7cec7-c3cf-4c36-991d-36a1cec26d9e",
   "metadata": {},
   "outputs": [],
   "source": [
    "dim(snp2)"
   ]
  },
  {
   "cell_type": "code",
   "execution_count": null,
   "id": "03ac6e7d-c9df-4759-b53b-a1025dcb2db2",
   "metadata": {},
   "outputs": [],
   "source": [
    "head(snp2)"
   ]
  },
  {
   "cell_type": "code",
   "execution_count": null,
   "id": "87fd1318-bcea-4a94-9b53-2361257d86bb",
   "metadata": {},
   "outputs": [],
   "source": [
    "snp2_positions <- stringr::str_split_fixed(rownames(snp2), \":\", 3)[, 2]"
   ]
  },
  {
   "cell_type": "markdown",
   "id": "64e0f588-fc43-4f4a-aba6-911d037e9ead",
   "metadata": {},
   "source": [
    "#### Now let's load ours on Chr1"
   ]
  },
  {
   "cell_type": "code",
   "execution_count": null,
   "id": "04b0b495-749b-42fa-a4ce-2d7f14f0a053",
   "metadata": {},
   "outputs": [],
   "source": [
    "paths <- list(pvar_path = \"/expanse/lustre/projects/jhu152/naglemi/mwas/gwas/libd_chr1.pvar\",\n",
    "              pgen_path = \"/expanse/lustre/projects/jhu152/naglemi/mwas/gwas/libd_chr1.pgen\",\n",
    "              psam_path = \"/expanse/lustre/projects/jhu152/naglemi/mwas/gwas/libd_chr1.psam\")\n",
    "\n",
    "my_SNPs <- loadSNPData(paths$pvar_path, paths$pgen_path, paths$psam_path)"
   ]
  },
  {
   "cell_type": "code",
   "execution_count": null,
   "id": "1dd4ef47-2a68-4f01-a0e5-03efd6732c4a",
   "metadata": {},
   "outputs": [],
   "source": [
    "snp_indices_of_interest <- which(my_SNPs$pvar_dt$POS >= 73274305-10000 & my_SNPs$pvar_dt$POS <= 73419830 + 10000)"
   ]
  },
  {
   "cell_type": "code",
   "execution_count": null,
   "id": "67aa0c72-53e2-40ef-8d97-9621bdd799ea",
   "metadata": {},
   "outputs": [],
   "source": [
    "snp3 <- pgenlibr::ReadList(my_SNPs$pgen,\n",
    "                        variant_subset = snp_indices_of_interest)\n",
    "colnames(snp3) <- my_SNPs$pvar_dt$ID[snp_indices_of_interest]\n",
    "rownames(snp3) <- my_SNPs$psam$`#IID`"
   ]
  },
  {
   "cell_type": "code",
   "execution_count": null,
   "id": "f61ed340-1395-4e61-89c8-a76f8aa93283",
   "metadata": {},
   "outputs": [],
   "source": [
    "snp3[1:10, 1:10]"
   ]
  },
  {
   "cell_type": "code",
   "execution_count": null,
   "id": "7a35ed6c-92ba-44b3-840e-ffc621828872",
   "metadata": {},
   "outputs": [],
   "source": [
    "map3 <- data.frame(POS = stringr::str_split_fixed(colnames(snp3), \":\", 3)[, 2])"
   ]
  },
  {
   "cell_type": "code",
   "execution_count": null,
   "id": "ca549289-47f4-444b-b3e8-7d8a39c2e33f",
   "metadata": {},
   "outputs": [],
   "source": [
    "snp3 <- t(snp3)"
   ]
  },
  {
   "cell_type": "code",
   "execution_count": null,
   "id": "8ca4e294-8803-4ea9-bb38-d9c9530dd442",
   "metadata": {},
   "outputs": [],
   "source": [
    "# snp3 <- snp3[which(map3$POS %in% pos_we_got), ]"
   ]
  },
  {
   "cell_type": "code",
   "execution_count": null,
   "id": "191b05e4-0107-4059-887e-bd3f2cafde0f",
   "metadata": {},
   "outputs": [],
   "source": [
    "map3 <- data.frame(POS = stringr::str_split_fixed(rownames(snp3), \":\", 3)[, 2])"
   ]
  },
  {
   "cell_type": "code",
   "execution_count": null,
   "id": "4e17a504-e98e-4d5e-bc59-3fd09faf3de8",
   "metadata": {},
   "outputs": [],
   "source": [
    "dim(map3)"
   ]
  },
  {
   "cell_type": "markdown",
   "id": "d0fb3ea3-0f60-4a62-b787-66185fc8e792",
   "metadata": {},
   "source": [
    "### SNPs in reference population"
   ]
  },
  {
   "cell_type": "code",
   "execution_count": null,
   "id": "00b33368-a3ec-4788-8b82-519e1fbd5e95",
   "metadata": {},
   "outputs": [],
   "source": [
    "#snp.1kg.eur2"
   ]
  },
  {
   "cell_type": "code",
   "execution_count": null,
   "id": "99022f2f-c9b9-47db-a5af-b2d7ba0ded99",
   "metadata": {},
   "outputs": [],
   "source": [
    "paths <- list(pvar_path = \"/expanse/lustre/projects/jhu152/naglemi/mwas/gwas/ref_EUR_chr1.pvar\",\n",
    "              pgen_path = \"/expanse/lustre/projects/jhu152/naglemi/mwas/gwas/ref_EUR_chr1.pgen\",\n",
    "              psam_path = \"/expanse/lustre/projects/jhu152/naglemi/mwas/gwas/ref_EUR_chr1.psam\")\n",
    "\n",
    "my_SNPs <- loadSNPData(paths$pvar_path, paths$pgen_path, paths$psam_path)"
   ]
  },
  {
   "cell_type": "code",
   "execution_count": null,
   "id": "90b30176-0532-45a1-bf5e-17e207bb61d5",
   "metadata": {},
   "outputs": [],
   "source": [
    "snp_indices_of_interest <- which(my_SNPs$pvar_dt$POS >= 73274305-10000 & my_SNPs$pvar_dt$POS <= 73419830 + 10000)"
   ]
  },
  {
   "cell_type": "code",
   "execution_count": null,
   "id": "85f427f7-e4d3-4ba6-ad1a-a2691f68346e",
   "metadata": {},
   "outputs": [],
   "source": [
    "snp.1kg.eur2 <- pgenlibr::ReadList(my_SNPs$pgen,\n",
    "                        variant_subset = snp_indices_of_interest)\n",
    "colnames(snp.1kg.eur2) <- my_SNPs$pvar_dt$ID[snp_indices_of_interest]\n",
    "rownames(snp.1kg.eur2) <- my_SNPs$psam$`IID`"
   ]
  },
  {
   "cell_type": "code",
   "execution_count": null,
   "id": "a18efcd5-ce3b-46e0-a6f8-a345812bdfff",
   "metadata": {},
   "outputs": [],
   "source": [
    "dim(snp.1kg.eur2)"
   ]
  },
  {
   "cell_type": "code",
   "execution_count": null,
   "id": "38d80ac5-91d5-4766-8953-fe93f6de6a34",
   "metadata": {},
   "outputs": [],
   "source": [
    "map.1kg.eur2 <- my_SNPs$pvar_dt"
   ]
  },
  {
   "cell_type": "code",
   "execution_count": null,
   "id": "a9650fe9-2483-4bf0-95d3-0102b90465f2",
   "metadata": {},
   "outputs": [],
   "source": [
    "map.1kg.eur2 <- map.1kg.eur2[snp_indices_of_interest, ]"
   ]
  },
  {
   "cell_type": "code",
   "execution_count": null,
   "id": "022cb595-7025-4bd5-ae98-43ed5b1a5b1e",
   "metadata": {},
   "outputs": [],
   "source": [
    "dim(map.1kg.eur2)"
   ]
  },
  {
   "cell_type": "code",
   "execution_count": null,
   "id": "357127e2-bc99-4274-af8c-02f6d9907334",
   "metadata": {},
   "outputs": [],
   "source": [
    "#map.1kg.eur2 <- data.frame(POS = stringr::str_split_fixed(colnames(snp.1kg.eur2), \":\", 3)[, 2])"
   ]
  },
  {
   "cell_type": "code",
   "execution_count": null,
   "id": "f6f5d1f5-0681-4825-bfa7-79d3ace6f004",
   "metadata": {},
   "outputs": [],
   "source": [
    "snp.1kg.eur2 <- t(snp.1kg.eur2)"
   ]
  },
  {
   "cell_type": "code",
   "execution_count": null,
   "id": "b203efd4-9ceb-474f-be52-2a70807c9b6a",
   "metadata": {},
   "outputs": [],
   "source": [
    "# snp3 <- snp3[which(map3$POS %in% pos_we_got), ]"
   ]
  },
  {
   "cell_type": "code",
   "execution_count": null,
   "id": "e6840663-7760-4cc8-816b-b8abf9cc89ee",
   "metadata": {},
   "outputs": [],
   "source": []
  },
  {
   "cell_type": "markdown",
   "id": "882a7c0a-0ec2-4aa2-be3c-a2f152126bd8",
   "metadata": {},
   "source": [
    "### Set window size and any other parameters"
   ]
  },
  {
   "cell_type": "code",
   "execution_count": null,
   "id": "461263e5-8c47-40ae-b3e4-03dbea4820e8",
   "metadata": {},
   "outputs": [],
   "source": [
    "wind <- 10000"
   ]
  },
  {
   "cell_type": "markdown",
   "id": "0849e5e3-af47-480f-82ca-97b07d1dd943",
   "metadata": {},
   "source": [
    "Is 1se vs min for lambda the problem?"
   ]
  },
  {
   "cell_type": "markdown",
   "id": "cfc14c0f-1e12-4108-97fc-ab66a6467640",
   "metadata": {},
   "source": [
    "## Run for all"
   ]
  },
  {
   "cell_type": "code",
   "execution_count": null,
   "id": "c25b764a-bcce-4b86-b0d7-a627f9e8cb8a",
   "metadata": {},
   "outputs": [],
   "source": [
    "head(map3)"
   ]
  },
  {
   "cell_type": "code",
   "execution_count": null,
   "id": "db60d8d3-3d88-45a4-b447-76e20c9e3b2f",
   "metadata": {},
   "outputs": [],
   "source": [
    "dim(map3)"
   ]
  },
  {
   "cell_type": "code",
   "execution_count": null,
   "id": "2920d862-b399-4578-b48c-149fda93111f",
   "metadata": {},
   "outputs": [],
   "source": [
    "dim(snp3)"
   ]
  },
  {
   "cell_type": "code",
   "execution_count": null,
   "id": "f41f9c4d-1489-45a4-ad25-d446a05980bf",
   "metadata": {},
   "outputs": [],
   "source": [
    "p.residual <- p.residual[, order(colnames(p.residual))]"
   ]
  },
  {
   "cell_type": "code",
   "execution_count": null,
   "id": "635b7d94-964f-4a70-aad8-1c4176f38c61",
   "metadata": {},
   "outputs": [],
   "source": [
    "dim(snp3)"
   ]
  },
  {
   "cell_type": "code",
   "execution_count": null,
   "id": "f10f76e6-a6b9-4b98-a93e-dd1352b4e261",
   "metadata": {},
   "outputs": [],
   "source": [
    "p.residual"
   ]
  },
  {
   "cell_type": "code",
   "execution_count": null,
   "id": "5f12a542-8abd-44ed-9142-047adeb6e11f",
   "metadata": {},
   "outputs": [],
   "source": [
    "snp3[1:10, 1:10]"
   ]
  },
  {
   "cell_type": "code",
   "execution_count": null,
   "id": "65857cda-1517-4854-a1e1-5af6459cbdca",
   "metadata": {},
   "outputs": [],
   "source": [
    "snp3 <- snp3[, colnames(snp3) %in% colnames(p.residual)]"
   ]
  },
  {
   "cell_type": "code",
   "execution_count": null,
   "id": "7ab51668-a9da-4913-a8ee-41aa0d49550e",
   "metadata": {},
   "outputs": [],
   "source": [
    "snp3 <- snp3[, order(colnames(snp3))]"
   ]
  },
  {
   "cell_type": "code",
   "execution_count": null,
   "id": "5ddbf83f-9099-4972-ad61-35e94cecc4b0",
   "metadata": {},
   "outputs": [],
   "source": [
    "dim(snp3)"
   ]
  },
  {
   "cell_type": "code",
   "execution_count": null,
   "id": "305409c3-5abb-49c2-9914-6fd958064abf",
   "metadata": {},
   "outputs": [],
   "source": [
    "for(k in 1:length(wind)){\n",
    "    models.ea <- c()\n",
    "    models.all <- c()\n",
    "    for(i in 1:length(cg)){\n",
    "    #for(i in 1){\n",
    "            cat(i,\"\\n\")\n",
    "            print(paste0(\"This cg is: \", cg[i]))\n",
    "            range1 <- ifelse(cg[i] - wind[k] > 0,cg[i] - wind[k],0)\n",
    "            range2 <- cg[i] + wind[k]\n",
    "            idx <- map3$POS > range1 & map3$POS < range2\n",
    "            # go to next cg if no snps within window\n",
    "            if(sum(idx) <= 1){\n",
    "                    next\n",
    "            }\n",
    "            geno <- snp3[idx,] # changed snp2 to snp3\n",
    "            rownames(geno) <- map3$POS[idx]\n",
    "            trainX <- t(geno)\n",
    "            trainY <- p.residual[i,]\n",
    "            fit <- elastic.net(trainX,trainY)\n",
    "            fit <- tryCatch(\n",
    "                    elastic.net(trainX,trainY),\n",
    "                    error = function(e) {return (\"err\")})\n",
    "            if(!is.data.frame(fit)){\n",
    "                if(fit == \"err\"){\n",
    "                    next\n",
    "                }\n",
    "            }\n",
    "            if(nrow(fit) == 0) next\n",
    "\n",
    "            fit$cg <- cg[i]\n",
    "            models.all <- rbind(models.all,fit)\n",
    "            # EA only\n",
    "            trainX <- trainX[idx.ea,]\n",
    "            if(sum(apply(trainX,2,var)!=0) <= 1){\n",
    "                    next\n",
    "            }\n",
    "            trainY <- trainY[idx.ea]\n",
    "            fit <- tryCatch(\n",
    "                    elastic.net(trainX,trainY),\n",
    "                    error = function(e) {return (\"err\")})\n",
    "            if(!is.data.frame(fit)){\n",
    "                if(fit == \"err\"){\n",
    "                    next\n",
    "                }\n",
    "            }\n",
    "            if(nrow(fit) == 0) next\n",
    "            fit$cg <- cg[i]\n",
    "            models.ea <- rbind(models.ea,fit)\n",
    "    }\n",
    "}"
   ]
  },
  {
   "cell_type": "code",
   "execution_count": null,
   "id": "3d109e75-bf26-43f5-8a0d-d6bb2f9cbe6b",
   "metadata": {},
   "outputs": [],
   "source": [
    "models.ea <- models.ea[models.ea[,1] != \"(Intercept)\",]\n",
    "models.all <- models.all[models.all[,1] != \"(Intercept)\",]"
   ]
  },
  {
   "cell_type": "code",
   "execution_count": null,
   "id": "ad0d6d07-06f6-403d-8496-5dd34d8ba4b1",
   "metadata": {},
   "outputs": [],
   "source": [
    "if(!dir.exists(outd)) dir.create(outd)"
   ]
  },
  {
   "cell_type": "code",
   "execution_count": null,
   "id": "31fcde6d-935f-4342-b0ab-53f4fd02bb19",
   "metadata": {},
   "outputs": [],
   "source": [
    "head(models.all)"
   ]
  },
  {
   "cell_type": "code",
   "execution_count": null,
   "id": "cbd16f07-e859-4a62-9b7a-d55e0d3dba8b",
   "metadata": {},
   "outputs": [],
   "source": [
    "dim(models.all)"
   ]
  },
  {
   "cell_type": "code",
   "execution_count": null,
   "id": "2d51aa98-8691-4f63-b583-782ddbea5589",
   "metadata": {},
   "outputs": [],
   "source": [
    "models.all"
   ]
  },
  {
   "cell_type": "code",
   "execution_count": null,
   "id": "0c309969-1162-426a-8957-933a3f1aac4a",
   "metadata": {},
   "outputs": [],
   "source": [
    "head(snp.1kg.eur2)"
   ]
  },
  {
   "cell_type": "code",
   "execution_count": null,
   "id": "86106260-2dbb-4614-b4d9-7a06b9772bc1",
   "metadata": {},
   "outputs": [],
   "source": [
    "head(map.1kg.eur2)"
   ]
  },
  {
   "cell_type": "code",
   "execution_count": null,
   "id": "e38f7f86-c7d1-4243-bd49-5b57483880a0",
   "metadata": {},
   "outputs": [],
   "source": [
    "# mwas by models of all samples\n",
    "cg2 <- unique(models.all$cg)\n",
    "mwas.all <- matrix(0, nrow = length(cg2), ncol = 2)\n",
    "cat(\"Dimensions of relevant objects:\\n\")\n",
    "cat(\"models.all:\", dim(models.all), \"\\n\")\n",
    "cat(\"snp.gwas2:\", dim(snp.gwas2), \"\\n\")\n",
    "cat(\"map.1kg.eur2:\", dim(map.1kg.eur2), \"\\n\")\n",
    "cat(\"snp.1kg.eur2:\", dim(snp.1kg.eur2), \"\\n\\n\")\n",
    "\n",
    "for (i in 1:length(cg2)) {\n",
    "    pos <- models.all[models.all$cg == cg2[i], 1]\n",
    "    gwas <- snp.gwas2$z[is.element(snp.gwas2$pos_hg38, pos)]\n",
    "    weight <- models.all[models.all$cg == cg2[i], 2]\n",
    "    match_indices <- match(pos, map.1kg.eur2$POS)\n",
    "    \n",
    "    cat(\"Iteration:\", i, \"\\n\")\n",
    "    cat(\"Current CG:\", cg2[i], \"\\n\")\n",
    "    cat(\"Positions:\\n\")\n",
    "    print(head(pos))\n",
    "    cat(\"GWAS Z-scores:\\n\")\n",
    "    print(head(gwas))\n",
    "    cat(\"Weights:\\n\")\n",
    "    print(head(weight))\n",
    "    cat(\"Matching Indices:\\n\")\n",
    "    print(head(match_indices))\n",
    "    \n",
    "    tryCatch({\n",
    "        if (any(is.na(match_indices))) stop(\"NA values found in match_indices\")\n",
    "        if (any(match_indices > nrow(snp.1kg.eur2))) stop(\"Out of bounds indices found\")\n",
    "    }, error = function(e) {\n",
    "        cat(\"Error detected:\", e$message, \"\\n\")\n",
    "        cat(\"Dimensions of relevant objects at error detection:\\n\")\n",
    "        cat(\"models.all:\", dim(models.all), \"\\n\")\n",
    "        cat(\"snp.gwas2:\", dim(snp.gwas2), \"\\n\")\n",
    "        cat(\"map.1kg.eur2:\", dim(map.1kg.eur2), \"\\n\")\n",
    "        cat(\"snp.1kg.eur2:\", dim(snp.1kg.eur2), \"\\n\")\n",
    "        cat(\"Positions causing error:\\n\")\n",
    "        print(pos)\n",
    "        cat(\"Matching Indices causing error:\\n\")\n",
    "        print(match_indices)\n",
    "        stop(\"Stopping execution due to error.\")\n",
    "    })\n",
    "    \n",
    "    geno <- NULL\n",
    "    tryCatch({\n",
    "        geno <- snp.1kg.eur2[match_indices, ]\n",
    "    }, error = function(e) {\n",
    "        cat(\"Error accessing genotype data at iteration:\", i, \"\\n\")\n",
    "        cat(\"Error message:\", e$message, \"\\n\")\n",
    "        stop(\"Stopping execution due to error.\")\n",
    "    })\n",
    "    \n",
    "    cat(\"Genotype Data:\\n\")\n",
    "    print(head(geno))\n",
    "    tryCatch({\n",
    "        mwas.all[i, ] <- MWAS(gwas, weight, t(geno))\n",
    "        cat(\"MWAS Results (z, p):\\n\")\n",
    "        print(mwas.all[i, ])\n",
    "        cat(\"\\n\")\n",
    "    }, error = function(e) {\n",
    "        cat(\"Error performing MWAS at iteration:\", i, \"\\n\")\n",
    "        cat(\"Error message:\", e$message, \"\\n\")\n",
    "        stop(\"Stopping execution due to error.\")\n",
    "    })\n",
    "}\n",
    "rownames(mwas.all) <- cg2\n",
    "colnames(mwas.all) <- c(\"z\", \"p\")\n",
    "\n",
    "# mwas by models of EA samples\n",
    "cg2 <- unique(models.ea$cg)\n",
    "mwas.ea <- matrix(0, nrow = length(cg2), ncol = 2)\n",
    "cat(\"Dimensions of relevant objects:\\n\")\n",
    "cat(\"models.ea:\", dim(models.ea), \"\\n\")\n",
    "cat(\"snp.gwas2:\", dim(snp.gwas2), \"\\n\")\n",
    "cat(\"map.1kg.eur2:\", dim(map.1kg.eur2), \"\\n\")\n",
    "cat(\"snp.1kg.eur2:\", dim(snp.1kg.eur2), \"\\n\\n\")\n",
    "\n",
    "for (i in 1:length(cg2)) {\n",
    "    pos <- models.ea[models.ea$cg == cg2[i], 1]\n",
    "    gwas <- snp.gwas2$z[is.element(snp.gwas2$pos_hg38, pos)]\n",
    "    weight <- models.ea[models.ea$cg == cg2[i], 2]\n",
    "    match_indices <- match(pos, map.1kg.eur2$POS)\n",
    "    \n",
    "    cat(\"Iteration:\", i, \"\\n\")\n",
    "    cat(\"Current CG:\", cg2[i], \"\\n\")\n",
    "    cat(\"Positions:\\n\")\n",
    "    print(head(pos))\n",
    "    cat(\"GWAS Z-scores:\\n\")\n",
    "    print(head(gwas))\n",
    "    cat(\"Weights:\\n\")\n",
    "    print(head(weight))\n",
    "    cat(\"Matching Indices:\\n\")\n",
    "    print(head(match_indices))\n",
    "    \n",
    "    tryCatch({\n",
    "        if (any(is.na(match_indices))) stop(\"NA values found in match_indices\")\n",
    "        if (any(match_indices > nrow(snp.1kg.eur2))) stop(\"Out of bounds indices found\")\n",
    "    }, error = function(e) {\n",
    "        cat(\"Error detected:\", e$message, \"\\n\")\n",
    "        cat(\"Dimensions of relevant objects at error detection:\\n\")\n",
    "        cat(\"models.ea:\", dim(models.ea), \"\\n\")\n",
    "        cat(\"snp.gwas2:\", dim(snp.gwas2), \"\\n\")\n",
    "        cat(\"map.1kg.eur2:\", dim(map.1kg.eur2), \"\\n\")\n",
    "        cat(\"snp.1kg.eur2:\", dim(snp.1kg.eur2), \"\\n\")\n",
    "        cat(\"Positions causing error:\\n\")\n",
    "        print(pos)\n",
    "        cat(\"Matching Indices causing error:\\n\")\n",
    "        print(match_indices)\n",
    "        stop(\"Stopping execution due to error.\")\n",
    "    })\n",
    "    \n",
    "    geno <- NULL\n",
    "    tryCatch({\n",
    "        geno <- snp.1kg.eur2[match_indices, ]\n",
    "    }, error = function(e) {\n",
    "        cat(\"Error accessing genotype data at iteration:\", i, \"\\n\")\n",
    "        cat(\"Error message:\", e$message, \"\\n\")\n",
    "        stop(\"Stopping execution due to error.\")\n",
    "    })\n",
    "    \n",
    "    cat(\"Genotype Data:\\n\")\n",
    "    print(head(geno))\n",
    "    tryCatch({\n",
    "        mwas.ea[i, ] <- MWAS(gwas, weight, t(geno))\n",
    "        cat(\"MWAS Results (z, p):\\n\")\n",
    "        print(mwas.ea[i, ])\n",
    "        cat(\"\\n\")\n",
    "    }, error = function(e) {\n",
    "        cat(\"Error performing MWAS at iteration:\", i, \"\\n\")\n",
    "        cat(\"Error message:\", e$message, \"\\n\")\n",
    "        stop(\"Stopping execution due to error.\")\n",
    "    })\n",
    "}\n",
    "rownames(mwas.ea) <- cg2\n",
    "colnames(mwas.ea) <- c(\"z\", \"p\")\n"
   ]
  },
  {
   "cell_type": "code",
   "execution_count": null,
   "id": "35314057-826f-42b2-b320-b5531b78df1f",
   "metadata": {},
   "outputs": [],
   "source": [
    "mwas.ea"
   ]
  },
  {
   "cell_type": "code",
   "execution_count": null,
   "id": "882b49b4-c020-49d1-9689-b9aedae0083c",
   "metadata": {},
   "outputs": [],
   "source": [
    "# mwas by models of all samples\n",
    "cg2 <- unique(models.all$cg)\n",
    "mwas.all <- matrix(0,nrow=length(cg2),ncol=2)\n",
    "for(i in 1:length(cg2)){\n",
    "    pos <- models.all[models.all$cg == cg2[i],1]\n",
    "    \n",
    "    gwas <- snp.gwas2$z[is.element(snp.gwas2$pos_hg38, pos)]\n",
    "    weight <- models.all[models.all$cg == cg2[i],2]\n",
    "    geno <- snp.1kg.eur2[match(pos,map.1kg.eur2$POS),]\n",
    "    mwas.all[i,] <- MWAS(gwas, weight, t(geno))\n",
    "}\n",
    "rownames(mwas.all) <- cg2\n",
    "colnames(mwas.all) <- c(\"z\",\"p\")\n",
    "\n",
    "# mwas by models of EA samples\n",
    "cg2 <- unique(models.ea$cg)\n",
    "mwas.ea <- matrix(0,nrow=length(cg2),ncol=2)\n",
    "for(i in 1:length(cg2)){\n",
    "    pos <- models.ea[models.ea$cg == cg2[i],1]\n",
    "    gwas <- snp.gwas2$z[is.element(snp.gwas2$pos_hg38, pos)]\n",
    "    weight <- models.ea[models.ea$cg == cg2[i],2]\n",
    "    geno <- snp.1kg.eur2[match(pos,map.1kg.eur2$POS),]\n",
    "    mwas.ea[i,] <- MWAS(gwas, weight, t(geno))\n",
    "}\n",
    "rownames(mwas.ea) <- cg2\n",
    "colnames(mwas.ea) <- c(\"z\",\"p\")\n",
    "\n",
    "# output models and mwas results\n",
    "outf <- paste0(outd,\"/models-a8-covnew.all.wind.\",wind[k])\n",
    "write.csv(models.all,outf)\n",
    "outf <- paste0(outd,\"/models-a8-covnew.ea.wind.\",wind[k])\n",
    "write.csv(models.ea,outf)\n",
    "outf <- paste0(outd,\"/mwas-a8-covnew.all.wind.\",wind[k])\n",
    "write.csv(mwas.all,outf)\n",
    "outf <- paste0(outd,\"/mwas-a8-covnew.ea.wind.\",wind[k])\n",
    "write.csv(mwas.ea,outf)"
   ]
  },
  {
   "cell_type": "code",
   "execution_count": null,
   "id": "04992281-b1cb-48dd-8b7a-4c4db9200427",
   "metadata": {},
   "outputs": [],
   "source": [
    "mwas.all"
   ]
  },
  {
   "cell_type": "markdown",
   "id": "71093f94-d9a8-499a-aa7c-9b7671f158e3",
   "metadata": {},
   "source": [
    "We get the same results with old SNPs,"
   ]
  },
  {
   "cell_type": "markdown",
   "id": "ce845b8d-f0f2-4987-9f1f-6ef5b14bc41e",
   "metadata": {},
   "source": [
    "## Compare with results from CpGWAS"
   ]
  },
  {
   "cell_type": "code",
   "execution_count": null,
   "id": "02165283-16a0-47ee-943f-bd3cfa099d4b",
   "metadata": {},
   "outputs": [],
   "source": [
    "# results <- fread(\"16a9par-OUT_stage2_MWAS_scz.csv\")\n",
    "\n",
    "# results <- results[which(results$chr == 7 & results$pos >= 1987413 & results$pos <= 1988332), ]\n",
    "\n",
    "# results <- results[which(results$population == \"EA\" & results$region == \"caud\"), ]\n",
    "\n",
    "# head(results)"
   ]
  },
  {
   "cell_type": "code",
   "execution_count": null,
   "id": "2edb066e-b6fb-441b-b179-050937915dc1",
   "metadata": {},
   "outputs": [],
   "source": []
  }
 ],
 "metadata": {
  "kernelspec": {
   "display_name": "R",
   "language": "R",
   "name": "ir"
  },
  "language_info": {
   "codemirror_mode": "r",
   "file_extension": ".r",
   "mimetype": "text/x-r-source",
   "name": "R",
   "pygments_lexer": "r",
   "version": "4.3.1"
  }
 },
 "nbformat": 4,
 "nbformat_minor": 5
}
