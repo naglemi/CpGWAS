{
 "cells": [
  {
   "cell_type": "markdown",
   "id": "bf56f1cb-692a-4f54-b026-99e8075d50e8",
   "metadata": {},
   "source": [
    "# Compare MWAS methods for sanity tests and troubleshooting"
   ]
  },
  {
   "cell_type": "markdown",
   "id": "dc17d619-945e-4221-8ba7-c4c36fa56efe",
   "metadata": {},
   "source": [
    "In this notebooks, we have my code and Shizhong's side by side, and compare every variable so we can find out exactly where the discrepancy originates."
   ]
  },
  {
   "cell_type": "markdown",
   "id": "ca2a80fb-d548-4157-b585-cd5cf6a471d2",
   "metadata": {},
   "source": [
    "# Pick the regions we will test"
   ]
  },
  {
   "cell_type": "code",
   "execution_count": 1,
   "id": "36f713c6-9673-42fe-b9d9-2010f414deda",
   "metadata": {},
   "outputs": [],
   "source": [
    "library(data.table)\n",
    "\n",
    "# prev_hits <- fread(\"\n",
    "# Chr     pos        old_z       old_p\n",
    "# 11   38247902        -27.1535308285104       2.30024742330298e-162\n",
    "# 2    47933357        18.3327793004811        4.53147699327216e-75\n",
    "# 7    1987910         10.1255085321387        4.25759742738181e-24\n",
    "# 7    1987896         10.1255085321387        4.25759742738189e-24\n",
    "# 7    1987797         10.0241523897721        1.19379483108027e-23\n",
    "# 7    1987778         10.0105851568856        1.36940148731912e-23\n",
    "# 12   2194742         -10.0072634920486       1.41615523554955e-23\n",
    "# \")\n"
   ]
  },
  {
   "cell_type": "code",
   "execution_count": 2,
   "id": "f177a10e-f50a-422d-9c44-d8f5845f19cf",
   "metadata": {},
   "outputs": [],
   "source": [
    "prev_hits <- fread(\"\n",
    "Chr     pos\n",
    "1    73274305\n",
    "1    73418161\n",
    "1    73418205\n",
    "1    73418313\n",
    "1    73419188\n",
    "1    73419830\n",
    "\")"
   ]
  },
  {
   "cell_type": "code",
   "execution_count": 3,
   "id": "ed1b7512-ee13-4f4e-9a6b-da40e521c346",
   "metadata": {},
   "outputs": [],
   "source": [
    "#df <- fread(\"09.5-OUT_matched_SNP_meth_cov_chunked_EXPANSE_a2.csv\")"
   ]
  },
  {
   "cell_type": "code",
   "execution_count": 4,
   "id": "c6034757-2d3c-43d3-aa16-70baa5169549",
   "metadata": {},
   "outputs": [],
   "source": [
    "df <- fread(\"09-OUT_matched_SNP_meth_cov_a2.csv\")"
   ]
  },
  {
   "cell_type": "markdown",
   "id": "d7711c4d-5f19-4fd0-9f7b-891133ac3311",
   "metadata": {},
   "source": [
    "## Try original code"
   ]
  },
  {
   "cell_type": "code",
   "execution_count": 5,
   "id": "be729eb2-c5b2-4d3e-b835-072d8f5ba2e6",
   "metadata": {},
   "outputs": [],
   "source": [
    "###### model: learn elastic net model on training data \n",
    "######---------Input: trainX, trainY\n",
    "######---------Return: selected features and coefficents\n",
    "\n",
    "# original\n",
    "elastic.net <- function(trainX,trainY){\n",
    "    if(nrow(trainX)!=length(trainY)){\n",
    "            stop(\"Number of observations is differerent\")\n",
    "    } \n",
    "\n",
    "    # optimize alpha---mixing parameter  \n",
    "    a <- 0.5\n",
    "    search <- foreach(ai = a, .combine = rbind) %dopar% {\n",
    "        cv.fit <- cv.glmnet(\n",
    "                        trainX,\n",
    "                        trainY,\n",
    "                        nfold = 5,\n",
    "                        type.measure = \"mse\",\n",
    "                        paralle = TRUE,\n",
    "                        alpha = ai\n",
    "                        )\n",
    "        data.frame(\n",
    "                        cvm = min(cv.fit$cvm),\n",
    "                        lambda = cv.fit$lambda.min,\n",
    "                        alpha = ai\n",
    "                        )\n",
    "        } \n",
    "    cv.opt <- search[search$cvm == min(search$cvm),] \n",
    "\n",
    "        # fit model by optimized alpha and lambda\n",
    "        yfit = glmnet(\n",
    "        trainX,\n",
    "        trainY,\n",
    "        lambda = cv.opt$lambda,\n",
    "        alpha = cv.opt$alpha\n",
    "                )       \n",
    "        idf <- coef(yfit)\n",
    "        idx <- which(idf != 0)\n",
    "        selectf <- data.frame(\n",
    "                features = idf@Dimnames[[1]][idx], \n",
    "                coefs = idf [idx]\n",
    "        )\n",
    "}\n",
    "\n",
    "# modified to use lambda 1se and appropriate cvm\n",
    "elastic.net <- function(trainX,trainY){\n",
    "    if(nrow(trainX)!=length(trainY)){\n",
    "            stop(\"Number of observations is differerent\")\n",
    "    } \n",
    "\n",
    "    # optimize alpha---mixing parameter  \n",
    "    a <- 0.5\n",
    "    search <- foreach(ai = a, .combine = rbind) %dopar% {\n",
    "        set.seed(42)\n",
    "        cv.fit <- cv.glmnet(\n",
    "                        trainX,\n",
    "                        trainY,\n",
    "                        nfold = 5,\n",
    "                        type.measure = \"mse\",\n",
    "                        paralle = TRUE,\n",
    "                        alpha = ai\n",
    "                        )\n",
    "        print(paste0(\"Dim of trainX: \", dim(trainX)))\n",
    "        print(paste0(\"Len of trainY: \", length(trainY)))\n",
    "        coef_matrix <- as.matrix(coef(cv.fit))\n",
    "\n",
    "        non_zero_coefs <- coef_matrix[coef_matrix != 0, , drop = FALSE]\n",
    "        print(\"Coefficients when fitting: \")\n",
    "        print(non_zero_coefs)\n",
    "\n",
    "        data.frame(\n",
    "                        cvm = cv.fit$cvm[cv.fit$lambda == cv.fit$lambda.1se],\n",
    "                        lambda = cv.fit$lambda.1se,\n",
    "                        alpha = ai\n",
    "                        )\n",
    "        } \n",
    "    cv.opt <- search[search$cvm == min(search$cvm),] \n",
    "\n",
    "        # fit model by optimized alpha and lambda\n",
    "    set.seed(42)\n",
    "    yfit <- glmnet(\n",
    "    trainX,\n",
    "    trainY,\n",
    "    lambda = cv.opt$lambda,\n",
    "    alpha = cv.opt$alpha)\n",
    "\n",
    "    coef_matrix <- as.matrix(coef(yfit))\n",
    "\n",
    "    non_zero_coefs <- coef_matrix[coef_matrix != 0, , drop = FALSE]\n",
    "    print(\"Coefficients when optimal: \")\n",
    "    print(non_zero_coefs)\n",
    "\n",
    "    idf <- coef(yfit)\n",
    "    idx <- which(idf != 0)\n",
    "    selectf <- data.frame(\n",
    "            features = idf@Dimnames[[1]][idx], \n",
    "            coefs = idf [idx]\n",
    "    )\n",
    "}\n",
    "\n",
    "MWAS <- function(gwas, weight, geno){\n",
    "        z <- gwas %*% weight\n",
    "        z.cor <- cor(geno)\n",
    "        se <- sqrt(weight %*%  z.cor %*%  weight)\n",
    "        z <- z/se\n",
    "        p=pnorm(abs(z),lower.tail=F)*2\n",
    "        return(c(z, p))\n",
    "}"
   ]
  },
  {
   "cell_type": "code",
   "execution_count": 6,
   "id": "9821a860-2a97-4a7b-bfca-6e8abd96bf8a",
   "metadata": {},
   "outputs": [],
   "source": [
    "df <- df[which(df$Chr == 1), ]"
   ]
  },
  {
   "cell_type": "code",
   "execution_count": 7,
   "id": "a023b2df-92e9-414d-a2e5-a8c6d3193954",
   "metadata": {},
   "outputs": [],
   "source": [
    "i <- 2"
   ]
  },
  {
   "cell_type": "code",
   "execution_count": 8,
   "id": "22de2603-481a-4995-8991-1f6f64989e3d",
   "metadata": {},
   "outputs": [
    {
     "name": "stderr",
     "output_type": "stream",
     "text": [
      "Loading required package: Matrix\n",
      "\n",
      "Loaded glmnet 4.1-8\n",
      "\n",
      "Loading required package: foreach\n",
      "\n",
      "Loading required package: iterators\n",
      "\n",
      "Loading required package: parallel\n",
      "\n"
     ]
    }
   ],
   "source": [
    "library(\"glmnet\")\n",
    "library(\"e1071\")\n",
    "library(\"doParallel\")\n",
    "\n",
    "set.seed(2018)\n",
    "wind <- c(5000,10000)\n",
    "# output directory\n",
    "#outd <- \"/dcl02/lieber/shan/shizhong/finemapping/GWAS/tags/scz3/mwas/chr22/1/\"\n",
    "outd <- \"20-OUT_original_mwas_sanity_test/\""
   ]
  },
  {
   "cell_type": "markdown",
   "id": "3a0ea432-3ac3-4077-ae61-c3a029004096",
   "metadata": {},
   "source": [
    "## Replace all old objects with new objects in same format"
   ]
  },
  {
   "cell_type": "code",
   "execution_count": 9,
   "id": "44f6b191-a277-4bb2-96ec-88025728ee70",
   "metadata": {},
   "outputs": [],
   "source": [
    "#load(\"p1.rda\", verbose = TRUE)"
   ]
  },
  {
   "cell_type": "code",
   "execution_count": 10,
   "id": "fa539e6c-8df5-43e1-8378-dc52d75f0fd0",
   "metadata": {},
   "outputs": [],
   "source": [
    "#p[1:10, 1:10]"
   ]
  },
  {
   "cell_type": "markdown",
   "id": "18332543-6f7a-40d8-b894-9562a6ac7457",
   "metadata": {},
   "source": [
    "### Methylation data"
   ]
  },
  {
   "cell_type": "markdown",
   "id": "123a15a4-5fdf-44c0-bab6-20cea4dd998a",
   "metadata": {},
   "source": [
    "#### Previous version"
   ]
  },
  {
   "cell_type": "code",
   "execution_count": 11,
   "id": "f9b051aa-a1e5-421b-856d-718cf85c24a3",
   "metadata": {},
   "outputs": [
    {
     "name": "stderr",
     "output_type": "stream",
     "text": [
      "Loading required package: BiocGenerics\n",
      "\n",
      "\n",
      "Attaching package: ‘BiocGenerics’\n",
      "\n",
      "\n",
      "The following objects are masked from ‘package:stats’:\n",
      "\n",
      "    IQR, mad, sd, var, xtabs\n",
      "\n",
      "\n",
      "The following objects are masked from ‘package:base’:\n",
      "\n",
      "    anyDuplicated, aperm, append, as.data.frame, basename, cbind,\n",
      "    colnames, dirname, do.call, duplicated, eval, evalq, Filter, Find,\n",
      "    get, grep, grepl, intersect, is.unsorted, lapply, Map, mapply,\n",
      "    match, mget, order, paste, pmax, pmax.int, pmin, pmin.int,\n",
      "    Position, rank, rbind, Reduce, rownames, sapply, setdiff, sort,\n",
      "    table, tapply, union, unique, unsplit, which.max, which.min\n",
      "\n",
      "\n",
      "Loading required package: GenomicRanges\n",
      "\n",
      "Loading required package: stats4\n",
      "\n",
      "Loading required package: S4Vectors\n",
      "\n",
      "\n",
      "Attaching package: ‘S4Vectors’\n",
      "\n",
      "\n",
      "The following objects are masked from ‘package:Matrix’:\n",
      "\n",
      "    expand, unname\n",
      "\n",
      "\n",
      "The following objects are masked from ‘package:data.table’:\n",
      "\n",
      "    first, second\n",
      "\n",
      "\n",
      "The following object is masked from ‘package:utils’:\n",
      "\n",
      "    findMatches\n",
      "\n",
      "\n",
      "The following objects are masked from ‘package:base’:\n",
      "\n",
      "    expand.grid, I, unname\n",
      "\n",
      "\n",
      "Loading required package: IRanges\n",
      "\n",
      "\n",
      "Attaching package: ‘IRanges’\n",
      "\n",
      "\n",
      "The following object is masked from ‘package:data.table’:\n",
      "\n",
      "    shift\n",
      "\n",
      "\n",
      "Loading required package: GenomeInfoDb\n",
      "\n",
      "Loading required package: SummarizedExperiment\n",
      "\n",
      "Loading required package: MatrixGenerics\n",
      "\n",
      "Loading required package: matrixStats\n",
      "\n",
      "\n",
      "Attaching package: ‘MatrixGenerics’\n",
      "\n",
      "\n",
      "The following objects are masked from ‘package:matrixStats’:\n",
      "\n",
      "    colAlls, colAnyNAs, colAnys, colAvgsPerRowSet, colCollapse,\n",
      "    colCounts, colCummaxs, colCummins, colCumprods, colCumsums,\n",
      "    colDiffs, colIQRDiffs, colIQRs, colLogSumExps, colMadDiffs,\n",
      "    colMads, colMaxs, colMeans2, colMedians, colMins, colOrderStats,\n",
      "    colProds, colQuantiles, colRanges, colRanks, colSdDiffs, colSds,\n",
      "    colSums2, colTabulates, colVarDiffs, colVars, colWeightedMads,\n",
      "    colWeightedMeans, colWeightedMedians, colWeightedSds,\n",
      "    colWeightedVars, rowAlls, rowAnyNAs, rowAnys, rowAvgsPerColSet,\n",
      "    rowCollapse, rowCounts, rowCummaxs, rowCummins, rowCumprods,\n",
      "    rowCumsums, rowDiffs, rowIQRDiffs, rowIQRs, rowLogSumExps,\n",
      "    rowMadDiffs, rowMads, rowMaxs, rowMeans2, rowMedians, rowMins,\n",
      "    rowOrderStats, rowProds, rowQuantiles, rowRanges, rowRanks,\n",
      "    rowSdDiffs, rowSds, rowSums2, rowTabulates, rowVarDiffs, rowVars,\n",
      "    rowWeightedMads, rowWeightedMeans, rowWeightedMedians,\n",
      "    rowWeightedSds, rowWeightedVars\n",
      "\n",
      "\n",
      "Loading required package: Biobase\n",
      "\n",
      "Welcome to Bioconductor\n",
      "\n",
      "    Vignettes contain introductory material; view with\n",
      "    'browseVignettes()'. To cite Bioconductor, see\n",
      "    'citation(\"Biobase\")', and for packages 'citation(\"pkgname\")'.\n",
      "\n",
      "\n",
      "\n",
      "Attaching package: ‘Biobase’\n",
      "\n",
      "\n",
      "The following object is masked from ‘package:MatrixGenerics’:\n",
      "\n",
      "    rowMedians\n",
      "\n",
      "\n",
      "The following objects are masked from ‘package:matrixStats’:\n",
      "\n",
      "    anyMissing, rowMedians\n",
      "\n",
      "\n"
     ]
    }
   ],
   "source": [
    "suppressWarnings(library(bsseq))"
   ]
  },
  {
   "cell_type": "code",
   "execution_count": 12,
   "id": "12b06643-1149-4b37-9562-9e6dec43e9f0",
   "metadata": {},
   "outputs": [],
   "source": [
    "# load data for mwas\n",
    "# load(\"./rda/caudate_mwas_data_chr22.rda\")\n",
    "load(df$methylation_data[i])\n",
    "\n",
    "p <- getMeth(BSobj2)\n",
    "\n",
    "\n",
    "rownames(p) <- start(BSobj2)\n",
    "\n",
    "sites_to_test_pos <- c(73274305, 73274312, 73292330, 73307769, 73308571, 73419188, 73419830, 73420076)\n",
    "sites_to_test <- which(start(BSobj2) %in% sites_to_test_pos)\n",
    "#sites_to_test <- c(73274305, 73274312, 73292330, 73307769, 73308571, 73419188, 73419830, 73420076)\n",
    "p <- p[sites_to_test, ]"
   ]
  },
  {
   "cell_type": "code",
   "execution_count": 13,
   "id": "b14e6168-563f-4cd2-82f6-939c4443b93e",
   "metadata": {},
   "outputs": [
    {
     "data": {
      "text/plain": [
       "<8 x 297> DelayedMatrix object of type \"double\":\n",
       "              [,1]      [,2]      [,3] ...    [,296]    [,297]\n",
       "73274305 0.8165381 0.8497022 0.8324623   . 0.8438266 0.8545318\n",
       "73274312 0.8165612 0.8497333 0.8324705   . 0.8438781 0.8545820\n",
       "73292330 0.8161550 0.8505156 0.9148587   . 0.8865503 0.8736273\n",
       "73307769 0.8716738 0.8813357 0.8736131   . 0.8888626 0.8768323\n",
       "73308571 0.8533571 0.8791877 0.8659200   . 0.8871417 0.8880064\n",
       "73419188 0.8772179 0.8479983 0.8151479   . 0.8349730 0.8726653\n",
       "73419830 0.8745607 0.8443300 0.8185331   . 0.8296466 0.8653615\n",
       "73420076 0.8750428 0.8456053 0.8235227   . 0.8323508 0.8649822"
      ]
     },
     "metadata": {},
     "output_type": "display_data"
    }
   ],
   "source": [
    "p"
   ]
  },
  {
   "cell_type": "code",
   "execution_count": 14,
   "id": "59742df0-b08a-4914-946e-27bb24b3f7e0",
   "metadata": {},
   "outputs": [],
   "source": [
    "# candidate cg\n",
    "his_cg <- as.numeric(rownames(p))\n",
    "\n",
    "# regress out covariates\n",
    "#load(\"covs_for_meqtl.rda\")"
   ]
  },
  {
   "cell_type": "code",
   "execution_count": 15,
   "id": "c8fd1aa7-6760-440e-9df6-7db0e2ccfc6f",
   "metadata": {},
   "outputs": [
    {
     "data": {
      "text/html": [
       "<style>\n",
       ".list-inline {list-style: none; margin:0; padding: 0}\n",
       ".list-inline>li {display: inline-block}\n",
       ".list-inline>li:not(:last-child)::after {content: \"\\00b7\"; padding: 0 .5ex}\n",
       "</style>\n",
       "<ol class=list-inline><li>909356</li><li>909357</li><li>909437</li><li>909554</li><li>909557</li><li>910071</li><li>910074</li><li>910076</li></ol>\n"
      ],
      "text/latex": [
       "\\begin{enumerate*}\n",
       "\\item 909356\n",
       "\\item 909357\n",
       "\\item 909437\n",
       "\\item 909554\n",
       "\\item 909557\n",
       "\\item 910071\n",
       "\\item 910074\n",
       "\\item 910076\n",
       "\\end{enumerate*}\n"
      ],
      "text/markdown": [
       "1. 909356\n",
       "2. 909357\n",
       "3. 909437\n",
       "4. 909554\n",
       "5. 909557\n",
       "6. 910071\n",
       "7. 910074\n",
       "8. 910076\n",
       "\n",
       "\n"
      ],
      "text/plain": [
       "[1] 909356 909357 909437 909554 909557 910071 910074 910076"
      ]
     },
     "metadata": {},
     "output_type": "display_data"
    }
   ],
   "source": [
    "sites_to_test"
   ]
  },
  {
   "cell_type": "markdown",
   "id": "e6771d56-23b1-4276-a744-94c673257df8",
   "metadata": {},
   "source": [
    "#### cpgwas (also loading SNPs and covs as `methInput`)"
   ]
  },
  {
   "cell_type": "code",
   "execution_count": 16,
   "id": "fe5e0611-a8a9-499c-a0fe-a331c37af565",
   "metadata": {},
   "outputs": [],
   "source": [
    "library(CpGWAS)"
   ]
  },
  {
   "cell_type": "code",
   "execution_count": 17,
   "id": "9547bbb4-d755-46de-bd64-db237ac6ccd2",
   "metadata": {},
   "outputs": [
    {
     "name": "stderr",
     "output_type": "stream",
     "text": [
      "Warning message in processMethylationData(BSseq_obj, start_site, end_site):\n",
      "“Row names not found in methylation matrix of BSseq object. Retrieving from $colData$brnum.”\n"
     ]
    }
   ],
   "source": [
    "#load(df$methylation_data[i])\n",
    "methInput <- new(\"MethylationInput\",\n",
    "               BSseq_obj = BSobj2,\n",
    "               snp_data_path = \"/expanse/lustre/projects/jhu152/naglemi/mwas/gwas/libd_chr1.pgen\",\n",
    "               cov_path = df$cov_file[i],\n",
    "               start_site = min(sites_to_test),\n",
    "               end_site = max(sites_to_test),\n",
    "               no_cores = 120)"
   ]
  },
  {
   "cell_type": "code",
   "execution_count": 18,
   "id": "0263bff5-f838-4016-8de1-e2a9aaf99bdc",
   "metadata": {},
   "outputs": [
    {
     "data": {
      "text/html": [
       "<style>\n",
       ".list-inline {list-style: none; margin:0; padding: 0}\n",
       ".list-inline>li {display: inline-block}\n",
       ".list-inline>li:not(:last-child)::after {content: \"\\00b7\"; padding: 0 .5ex}\n",
       "</style>\n",
       "<ol class=list-inline><li>'methylations'</li><li>'methylations_positions'</li><li>'genotype_IDs'</li><li>'pvar_pointer'</li><li>'pvar_dt'</li><li>'pgen'</li><li>'psam'</li><li>'cov'</li><li>'class'</li></ol>\n"
      ],
      "text/latex": [
       "\\begin{enumerate*}\n",
       "\\item 'methylations'\n",
       "\\item 'methylations\\_positions'\n",
       "\\item 'genotype\\_IDs'\n",
       "\\item 'pvar\\_pointer'\n",
       "\\item 'pvar\\_dt'\n",
       "\\item 'pgen'\n",
       "\\item 'psam'\n",
       "\\item 'cov'\n",
       "\\item 'class'\n",
       "\\end{enumerate*}\n"
      ],
      "text/markdown": [
       "1. 'methylations'\n",
       "2. 'methylations_positions'\n",
       "3. 'genotype_IDs'\n",
       "4. 'pvar_pointer'\n",
       "5. 'pvar_dt'\n",
       "6. 'pgen'\n",
       "7. 'psam'\n",
       "8. 'cov'\n",
       "9. 'class'\n",
       "\n",
       "\n"
      ],
      "text/plain": [
       "[1] \"methylations\"           \"methylations_positions\" \"genotype_IDs\"          \n",
       "[4] \"pvar_pointer\"           \"pvar_dt\"                \"pgen\"                  \n",
       "[7] \"psam\"                   \"cov\"                    \"class\"                 "
      ]
     },
     "metadata": {},
     "output_type": "display_data"
    }
   ],
   "source": [
    "names(attributes(methInput))"
   ]
  },
  {
   "cell_type": "code",
   "execution_count": 19,
   "id": "969f7107-6831-45cc-ae9f-1acc46609e4a",
   "metadata": {},
   "outputs": [
    {
     "data": {
      "text/html": [
       "<style>\n",
       ".list-inline {list-style: none; margin:0; padding: 0}\n",
       ".list-inline>li {display: inline-block}\n",
       ".list-inline>li:not(:last-child)::after {content: \"\\00b7\"; padding: 0 .5ex}\n",
       "</style>\n",
       "<ol class=list-inline><li>297</li><li>721</li></ol>\n"
      ],
      "text/latex": [
       "\\begin{enumerate*}\n",
       "\\item 297\n",
       "\\item 721\n",
       "\\end{enumerate*}\n"
      ],
      "text/markdown": [
       "1. 297\n",
       "2. 721\n",
       "\n",
       "\n"
      ],
      "text/plain": [
       "[1] 297 721"
      ]
     },
     "metadata": {},
     "output_type": "display_data"
    }
   ],
   "source": [
    "dim(methInput@methylations)"
   ]
  },
  {
   "cell_type": "code",
   "execution_count": 20,
   "id": "4da3a87f-44cc-444f-9781-75d8aa6caac5",
   "metadata": {},
   "outputs": [
    {
     "data": {
      "text/html": [
       "<table class=\"dataframe\">\n",
       "<caption>A matrix: 5 × 5 of type dbl</caption>\n",
       "<thead>\n",
       "\t<tr><th></th><th scope=col>pos_73274305</th><th scope=col>pos_73274312</th><th scope=col>pos_73274892</th><th scope=col>pos_73275060</th><th scope=col>pos_73275154</th></tr>\n",
       "</thead>\n",
       "<tbody>\n",
       "\t<tr><th scope=row>Br1003</th><td> 0.004699246</td><td> 0.004701542</td><td> 0.004686685</td><td> 0.004693386</td><td> 0.004734820</td></tr>\n",
       "\t<tr><th scope=row>Br1004</th><td> 0.025714016</td><td> 0.025743890</td><td> 0.027493191</td><td> 0.027756351</td><td> 0.027901250</td></tr>\n",
       "\t<tr><th scope=row>Br1007</th><td>-0.037249239</td><td>-0.037280282</td><td>-0.038909435</td><td>-0.039017383</td><td>-0.039011096</td></tr>\n",
       "\t<tr><th scope=row>Br1016</th><td> 0.029459027</td><td> 0.029420813</td><td> 0.026233422</td><td> 0.025284769</td><td> 0.024711038</td></tr>\n",
       "\t<tr><th scope=row>Br1017</th><td>-0.003689116</td><td>-0.003700395</td><td>-0.004825404</td><td>-0.005209573</td><td>-0.005439233</td></tr>\n",
       "</tbody>\n",
       "</table>\n"
      ],
      "text/latex": [
       "A matrix: 5 × 5 of type dbl\n",
       "\\begin{tabular}{r|lllll}\n",
       "  & pos\\_73274305 & pos\\_73274312 & pos\\_73274892 & pos\\_73275060 & pos\\_73275154\\\\\n",
       "\\hline\n",
       "\tBr1003 &  0.004699246 &  0.004701542 &  0.004686685 &  0.004693386 &  0.004734820\\\\\n",
       "\tBr1004 &  0.025714016 &  0.025743890 &  0.027493191 &  0.027756351 &  0.027901250\\\\\n",
       "\tBr1007 & -0.037249239 & -0.037280282 & -0.038909435 & -0.039017383 & -0.039011096\\\\\n",
       "\tBr1016 &  0.029459027 &  0.029420813 &  0.026233422 &  0.025284769 &  0.024711038\\\\\n",
       "\tBr1017 & -0.003689116 & -0.003700395 & -0.004825404 & -0.005209573 & -0.005439233\\\\\n",
       "\\end{tabular}\n"
      ],
      "text/markdown": [
       "\n",
       "A matrix: 5 × 5 of type dbl\n",
       "\n",
       "| <!--/--> | pos_73274305 | pos_73274312 | pos_73274892 | pos_73275060 | pos_73275154 |\n",
       "|---|---|---|---|---|---|\n",
       "| Br1003 |  0.004699246 |  0.004701542 |  0.004686685 |  0.004693386 |  0.004734820 |\n",
       "| Br1004 |  0.025714016 |  0.025743890 |  0.027493191 |  0.027756351 |  0.027901250 |\n",
       "| Br1007 | -0.037249239 | -0.037280282 | -0.038909435 | -0.039017383 | -0.039011096 |\n",
       "| Br1016 |  0.029459027 |  0.029420813 |  0.026233422 |  0.025284769 |  0.024711038 |\n",
       "| Br1017 | -0.003689116 | -0.003700395 | -0.004825404 | -0.005209573 | -0.005439233 |\n",
       "\n"
      ],
      "text/plain": [
       "       pos_73274305 pos_73274312 pos_73274892 pos_73275060 pos_73275154\n",
       "Br1003  0.004699246  0.004701542  0.004686685  0.004693386  0.004734820\n",
       "Br1004  0.025714016  0.025743890  0.027493191  0.027756351  0.027901250\n",
       "Br1007 -0.037249239 -0.037280282 -0.038909435 -0.039017383 -0.039011096\n",
       "Br1016  0.029459027  0.029420813  0.026233422  0.025284769  0.024711038\n",
       "Br1017 -0.003689116 -0.003700395 -0.004825404 -0.005209573 -0.005439233"
      ]
     },
     "metadata": {},
     "output_type": "display_data"
    }
   ],
   "source": [
    "methInput@methylations[1:5, 1:5]"
   ]
  },
  {
   "cell_type": "code",
   "execution_count": 92,
   "id": "8989310d-beca-4023-9a09-6bb7f706ef72",
   "metadata": {},
   "outputs": [],
   "source": [
    "methInput@methylations <- methInput@methylations[, methInput@methylations_positions %in% sites_to_test_pos]"
   ]
  },
  {
   "cell_type": "code",
   "execution_count": 95,
   "id": "b29645ad-3b80-4961-bfed-d312719ea485",
   "metadata": {},
   "outputs": [],
   "source": [
    "methInput@methylations_positions <- methInput@methylations_positions[methInput@methylations_positions %in% sites_to_test_pos]"
   ]
  },
  {
   "cell_type": "code",
   "execution_count": 21,
   "id": "49ffb021-5760-458b-b3e1-603dbd684868",
   "metadata": {},
   "outputs": [],
   "source": [
    "my_cg <- as.numeric(gsub(\"pos_\", \"\", colnames(methInput@methylations)))"
   ]
  },
  {
   "cell_type": "code",
   "execution_count": 22,
   "id": "472740ee-8366-4303-b844-3990c2b95aae",
   "metadata": {},
   "outputs": [
    {
     "name": "stderr",
     "output_type": "stream",
     "text": [
      "Warning message in my_cg == his_cg:\n",
      "“longer object length is not a multiple of shorter object length”\n"
     ]
    },
    {
     "data": {
      "text/html": [
       "FALSE"
      ],
      "text/latex": [
       "FALSE"
      ],
      "text/markdown": [
       "FALSE"
      ],
      "text/plain": [
       "[1] FALSE"
      ]
     },
     "metadata": {},
     "output_type": "display_data"
    }
   ],
   "source": [
    "all(my_cg == his_cg)"
   ]
  },
  {
   "cell_type": "code",
   "execution_count": 23,
   "id": "aef83a7a-5061-4c38-a3c6-38f11d22c0ee",
   "metadata": {},
   "outputs": [],
   "source": [
    "cg <- my_cg"
   ]
  },
  {
   "cell_type": "markdown",
   "id": "6063581e-a107-4977-93d7-836f1da57078",
   "metadata": {},
   "source": [
    "### covariates (previous code)"
   ]
  },
  {
   "cell_type": "code",
   "execution_count": 24,
   "id": "cc499656-ec9a-45cd-ad05-b17e957eaaa6",
   "metadata": {},
   "outputs": [],
   "source": [
    "covs <- fread(df$cov_file[i])\n",
    "covs <- t(covs)\n",
    "colnames(covs) <- covs[1, ]\n",
    "covs <- covs[2:nrow(covs), ]\n",
    "# transpose so we have same orientation as original code"
   ]
  },
  {
   "cell_type": "markdown",
   "id": "72219907-d534-4523-a369-853077888b38",
   "metadata": {},
   "source": [
    "### Regress methylation data over covariates"
   ]
  },
  {
   "cell_type": "code",
   "execution_count": 25,
   "id": "85527835-9e3f-4ba9-a645-5330564e0b7c",
   "metadata": {},
   "outputs": [],
   "source": [
    "BSobj2$brnum <- gsub(\"Br0\", \"Br\", BSobj2$brnum)\n",
    "colnames(covs) <- gsub(\"Br0\", \"Br\", colnames(covs))"
   ]
  },
  {
   "cell_type": "code",
   "execution_count": 26,
   "id": "8899261b-73fb-430e-bcdb-143fc8f04670",
   "metadata": {},
   "outputs": [],
   "source": [
    "mat <- match(BSobj2$brnum,colnames(covs)) \n",
    "covs <- t(covs[,mat])\n",
    "p.residual=matrix(NA,dim(p)[1],dim(p)[2])"
   ]
  },
  {
   "cell_type": "code",
   "execution_count": 27,
   "id": "35031e54-4c54-4a37-9997-99b57efa86bf",
   "metadata": {},
   "outputs": [],
   "source": [
    "rownames(covs)[is.na(covs[, 'genoPC1'])] <- BSobj2$brnum[is.na(covs[, 'genoPC1'])]"
   ]
  },
  {
   "cell_type": "code",
   "execution_count": 28,
   "id": "70bda030-7a89-4dff-8c61-f576badfd8bd",
   "metadata": {},
   "outputs": [],
   "source": [
    "colnames(p.residual) <- BSobj2$brnum"
   ]
  },
  {
   "cell_type": "code",
   "execution_count": 29,
   "id": "78ee80f1-d9ea-46b0-b37a-dfeed3dbdf97",
   "metadata": {},
   "outputs": [],
   "source": [
    "covs <- as.data.frame(covs)\n",
    "# Convert all columns except Dx and Sex from character to numeric\n",
    "cols_to_convert <- setdiff(names(covs), c(\"Dx\", \"Sex\"))\n",
    "\n",
    "for (col in cols_to_convert) {\n",
    "  covs[[col]] <- as.numeric(covs[[col]])\n",
    "}\n",
    "\n",
    "# Print the modified data frame to check the conversion\n",
    "#print(dat)\n"
   ]
  },
  {
   "cell_type": "code",
   "execution_count": 30,
   "id": "db709d51-494c-431c-8327-9348dbf0419c",
   "metadata": {},
   "outputs": [],
   "source": [
    "for (i in 1:dim(p)[1]) { # For each methylation site\n",
    "    dat <- as.data.frame(cbind(y = p[i,], covs))\n",
    "    \n",
    "    # Check for rows with NAs (the ones for which we don't have covariate data)\n",
    "    valid_rows <- complete.cases(dat)\n",
    "    \n",
    "    if (sum(valid_rows) > 0) {\n",
    "        dat_valid <- dat[valid_rows,]\n",
    "        model.res <- lm(y ~ ., data = dat_valid)\n",
    "        \n",
    "        # Store residuals in the corresponding positions\n",
    "        p.residual[i, valid_rows] <- resid(model.res)\n",
    "    }\n",
    "}\n",
    "\n",
    "\n",
    "# for(i in 1:dim(p)[1]){ # foro each methylation site\n",
    "#         dat <- as.data.frame(cbind(p[i,],covs))\n",
    "#         colnames(dat) <- c(\"y\",paste0(\"x\",1:ncol(covs)))\n",
    "#         model.res <- lm(reformulate(paste0(\"x\",1:ncol(covs)), \"y\"),dat)\n",
    "#         p.residual[i,] = resid(model.res) \n",
    "# }"
   ]
  },
  {
   "cell_type": "markdown",
   "id": "60ad8e50-5be6-4dd4-92f6-9969fcdac98f",
   "metadata": {},
   "source": [
    "Check if result is same for me and old code"
   ]
  },
  {
   "cell_type": "markdown",
   "id": "9411b69e-2a29-4b6e-822d-f92c3730c825",
   "metadata": {},
   "source": [
    "First we need to make sure columns are in same order"
   ]
  },
  {
   "cell_type": "code",
   "execution_count": 31,
   "id": "fa00e9ad-34fc-4312-8f85-91a0e5a1bc86",
   "metadata": {},
   "outputs": [],
   "source": [
    "p.residual_tocompare <- p.residual"
   ]
  },
  {
   "cell_type": "code",
   "execution_count": 32,
   "id": "15cd8d34-fe00-4b2a-88db-401a413ed968",
   "metadata": {},
   "outputs": [
    {
     "ename": "ERROR",
     "evalue": "Error in dimnames(x) <- dn: length of 'dimnames' [1] not equal to array extent\n",
     "output_type": "error",
     "traceback": [
      "Error in dimnames(x) <- dn: length of 'dimnames' [1] not equal to array extent\nTraceback:\n",
      "1. `rownames<-`(`*tmp*`, value = c(\"pos_73274305\", \"pos_73274312\", \n . \"pos_73274892\", \"pos_73275060\", \"pos_73275154\", \"pos_73275472\", \n . \"pos_73276018\", \"pos_73276198\", \"pos_73276331\", \"pos_73276596\", \n . \"pos_73277426\", \"pos_73277555\", \"pos_73277571\", \"pos_73277623\", \n . \"pos_73277656\", \"pos_73277974\", \"pos_73278418\", \"pos_73279661\", \n . \"pos_73279772\", \"pos_73280387\", \"pos_73280884\", \"pos_73281093\", \n . \"pos_73281624\", \"pos_73282293\", \"pos_73283105\", \"pos_73283537\", \n . \"pos_73284224\", \"pos_73284793\", \"pos_73284924\", \"pos_73285272\", \n . \"pos_73285468\", \"pos_73285741\", \"pos_73285847\", \"pos_73286072\", \n . \"pos_73286307\", \"pos_73286473\", \"pos_73286714\", \"pos_73287131\", \n . \"pos_73287196\", \"pos_73287481\", \"pos_73287777\", \"pos_73287794\", \n . \"pos_73287955\", \"pos_73287963\", \"pos_73287993\", \"pos_73288001\", \n . \"pos_73288018\", \"pos_73288025\", \"pos_73288033\", \"pos_73288077\", \n . \"pos_73288081\", \"pos_73288089\", \"pos_73288093\", \"pos_73288123\", \n . \"pos_73288134\", \"pos_73288143\", \"pos_73288154\", \"pos_73288168\", \n . \"pos_73288175\", \"pos_73288179\", \"pos_73288212\", \"pos_73288222\", \n . \"pos_73288224\", \"pos_73288228\", \"pos_73288719\", \"pos_73288850\", \n . \"pos_73289587\", \"pos_73289620\", \"pos_73290108\", \"pos_73290191\", \n . \"pos_73290299\", \"pos_73290306\", \"pos_73290315\", \"pos_73290347\", \n . \"pos_73290530\", \"pos_73290673\", \"pos_73291341\", \"pos_73291358\", \n . \"pos_73291772\", \"pos_73292026\", \"pos_73292137\", \"pos_73292330\", \n . \"pos_73293038\", \"pos_73293389\", \"pos_73293695\", \"pos_73293802\", \n . \"pos_73293878\", \"pos_73293958\", \"pos_73293987\", \"pos_73293994\", \n . \"pos_73295331\", \"pos_73295402\", \"pos_73295667\", \"pos_73296092\", \n . \"pos_73296324\", \"pos_73296333\", \"pos_73296513\", \"pos_73296604\", \n . \"pos_73296627\", \"pos_73296782\", \"pos_73297039\", \"pos_73297482\", \n . \"pos_73297668\", \"pos_73297852\", \"pos_73297924\", \"pos_73297932\", \n . \"pos_73298075\", \"pos_73298086\", \"pos_73298115\", \"pos_73298157\", \n . \"pos_73298187\", \"pos_73298203\", \"pos_73298452\", \"pos_73298460\", \n . \"pos_73298482\", \"pos_73298484\", \"pos_73298507\", \"pos_73298514\", \n . \"pos_73298522\", \"pos_73298566\", \"pos_73298570\", \"pos_73298578\", \n . \"pos_73298582\", \"pos_73298616\", \"pos_73298627\", \"pos_73298647\", \n . \"pos_73298661\", \"pos_73298672\", \"pos_73298677\", \"pos_73298705\", \n . \"pos_73298715\", \"pos_73298717\", \"pos_73298721\", \"pos_73298725\", \n . \"pos_73298740\", \"pos_73298818\", \"pos_73298823\", \"pos_73298873\", \n . \"pos_73298881\", \"pos_73298909\", \"pos_73298921\", \"pos_73298925\", \n . \"pos_73299001\", \"pos_73299007\", \"pos_73299519\", \"pos_73299528\", \n . \"pos_73300047\", \"pos_73300340\", \"pos_73300403\", \"pos_73300478\", \n . \"pos_73300734\", \"pos_73301018\", \"pos_73301313\", \"pos_73301823\", \n . \"pos_73302077\", \"pos_73302471\", \"pos_73302489\", \"pos_73302550\", \n . \"pos_73302555\", \"pos_73302592\", \"pos_73302694\", \"pos_73302712\", \n . \"pos_73302833\", \"pos_73303114\", \"pos_73303118\", \"pos_73303122\", \n . \"pos_73303124\", \"pos_73303134\", \"pos_73303162\", \"pos_73303167\", \n . \"pos_73303171\", \"pos_73303178\", \"pos_73303192\", \"pos_73303223\", \n . \"pos_73303254\", \"pos_73303258\", \"pos_73303266\", \"pos_73303270\", \n . \"pos_73303314\", \"pos_73303322\", \"pos_73303329\", \"pos_73303346\", \n . \"pos_73303354\", \"pos_73303376\", \"pos_73303384\", \"pos_73303392\", \n . \"pos_73303705\", \"pos_73303879\", \"pos_73303978\", \"pos_73304283\", \n . \"pos_73304368\", \"pos_73304740\", \"pos_73304751\", \"pos_73304882\", \n . \"pos_73305492\", \"pos_73306726\", \"pos_73307222\", \"pos_73307226\", \n . \"pos_73307769\", \"pos_73307800\", \"pos_73307965\", \"pos_73308571\", \n . \"pos_73309435\", \"pos_73309827\", \"pos_73309968\", \"pos_73310015\", \n . \"pos_73310153\", \"pos_73310160\", \"pos_73310326\", \"pos_73310467\", \n . \"pos_73310683\", \"pos_73310705\", \"pos_73310952\", \"pos_73310969\", \n . \"pos_73311044\", \"pos_73311049\", \"pos_73312355\", \"pos_73312556\", \n . \"pos_73312715\", \"pos_73312872\", \"pos_73313055\", \"pos_73314077\", \n . \"pos_73314456\", \"pos_73314885\", \"pos_73315135\", \"pos_73315214\", \n . \"pos_73315244\", \"pos_73315257\", \"pos_73315522\", \"pos_73315838\", \n . \"pos_73315887\", \"pos_73315967\", \"pos_73316170\", \"pos_73316359\", \n . \"pos_73317931\", \"pos_73318041\", \"pos_73318143\", \"pos_73318267\", \n . \"pos_73318437\", \"pos_73318459\", \"pos_73319002\", \"pos_73319290\", \n . \"pos_73319392\", \"pos_73319429\", \"pos_73319583\", \"pos_73319949\", \n . \"pos_73320002\", \"pos_73320144\", \"pos_73320162\", \"pos_73320379\", \n . \"pos_73320563\", \"pos_73320724\", \"pos_73320898\", \"pos_73321425\", \n . \"pos_73321661\", \"pos_73321855\", \"pos_73321971\", \"pos_73322087\", \n . \"pos_73322109\", \"pos_73322642\", \"pos_73322920\", \"pos_73323421\", \n . \"pos_73323575\", \"pos_73324262\", \"pos_73324486\", \"pos_73325440\", \n . \"pos_73325874\", \"pos_73326135\", \"pos_73326356\", \"pos_73326590\", \n . \"pos_73326684\", \"pos_73326767\", \"pos_73326827\", \"pos_73326902\", \n . \"pos_73326939\", \"pos_73327454\", \"pos_73327652\", \"pos_73327734\", \n . \"pos_73327874\", \"pos_73328085\", \"pos_73328242\", \"pos_73328253\", \n . \"pos_73328444\", \"pos_73328485\", \"pos_73329325\", \"pos_73329396\", \n . \"pos_73329601\", \"pos_73329662\", \"pos_73329730\", \"pos_73330017\", \n . \"pos_73330125\", \"pos_73330241\", \"pos_73331103\", \"pos_73331413\", \n . \"pos_73331460\", \"pos_73331539\", \"pos_73331581\", \"pos_73331626\", \n . \"pos_73331637\", \"pos_73331680\", \"pos_73331686\", \"pos_73332180\", \n . \"pos_73332227\", \"pos_73332535\", \"pos_73332837\", \"pos_73332887\", \n . \"pos_73334075\", \"pos_73335120\", \"pos_73335161\", \"pos_73335302\", \n . \"pos_73335535\", \"pos_73335672\", \"pos_73335857\", \"pos_73336569\", \n . \"pos_73336804\", \"pos_73336816\", \"pos_73336853\", \"pos_73336860\", \n . \"pos_73336874\", \"pos_73336894\", \"pos_73336910\", \"pos_73336921\", \n . \"pos_73336963\", \"pos_73336967\", \"pos_73337002\", \"pos_73337019\", \n . \"pos_73337241\", \"pos_73337297\", \"pos_73338224\", \"pos_73338279\", \n . \"pos_73338881\", \"pos_73338886\", \"pos_73339378\", \"pos_73339459\", \n . \"pos_73340103\", \"pos_73340195\", \"pos_73341114\", \"pos_73341254\", \n . \"pos_73341278\", \"pos_73341703\", \"pos_73342302\", \"pos_73343335\", \n . \"pos_73343494\", \"pos_73344187\", \"pos_73344254\", \"pos_73344280\", \n . \"pos_73344391\", \"pos_73344516\", \"pos_73344545\", \"pos_73344748\", \n . \"pos_73345224\", \"pos_73346433\", \"pos_73346678\", \"pos_73347075\", \n . \"pos_73348198\", \"pos_73348251\", \"pos_73348376\", \"pos_73348419\", \n . \"pos_73348717\", \"pos_73348791\", \"pos_73348869\", \"pos_73349038\", \n . \"pos_73349156\", \"pos_73349182\", \"pos_73349184\", \"pos_73349188\", \n . \"pos_73349445\", \"pos_73349662\", \"pos_73350094\", \"pos_73350727\", \n . \"pos_73351031\", \"pos_73351137\", \"pos_73351465\", \"pos_73351526\", \n . \"pos_73351551\", \"pos_73352010\", \"pos_73352144\", \"pos_73353035\", \n . \"pos_73353221\", \"pos_73353253\", \"pos_73353316\", \"pos_73353449\", \n . \"pos_73353517\", \"pos_73353749\", \"pos_73354730\", \"pos_73354873\", \n . \"pos_73354957\", \"pos_73355219\", \"pos_73355428\", \"pos_73355894\", \n . \"pos_73356020\", \"pos_73357323\", \"pos_73357918\", \"pos_73358018\", \n . \"pos_73358059\", \"pos_73358595\", \"pos_73358607\", \"pos_73358624\", \n . \"pos_73358674\", \"pos_73358852\", \"pos_73359287\", \"pos_73359298\", \n . \"pos_73359391\", \"pos_73359409\", \"pos_73359471\", \"pos_73359691\", \n . \"pos_73359748\", \"pos_73359869\", \"pos_73360225\", \"pos_73360527\", \n . \"pos_73361006\", \"pos_73361328\", \"pos_73361410\", \"pos_73361505\", \n . \"pos_73361672\", \"pos_73361736\", \"pos_73361825\", \"pos_73362024\", \n . \"pos_73362435\", \"pos_73362442\", \"pos_73362498\", \"pos_73362636\", \n . \"pos_73362734\", \"pos_73363131\", \"pos_73363160\", \"pos_73363340\", \n . \"pos_73363389\", \"pos_73363485\", \"pos_73363594\", \"pos_73364311\", \n . \"pos_73364895\", \"pos_73365123\", \"pos_73365267\", \"pos_73365354\", \n . \"pos_73365777\", \"pos_73365870\", \"pos_73366162\", \"pos_73366257\", \n . \"pos_73366932\", \"pos_73366970\", \"pos_73367167\", \"pos_73367513\", \n . \"pos_73367527\", \"pos_73367956\", \"pos_73368047\", \"pos_73368185\", \n . \"pos_73368236\", \"pos_73368568\", \"pos_73369077\", \"pos_73369244\", \n . \"pos_73370057\", \"pos_73370115\", \"pos_73370247\", \"pos_73370411\", \n . \"pos_73370561\", \"pos_73370589\", \"pos_73370910\", \"pos_73371032\", \n . \"pos_73371036\", \"pos_73371040\", \"pos_73371042\", \"pos_73371110\", \n . \"pos_73371141\", \"pos_73371170\", \"pos_73371186\", \"pos_73371238\", \n . \"pos_73371245\", \"pos_73371262\", \"pos_73371270\", \"pos_73371292\", \n . \"pos_73371305\", \"pos_73371308\", \"pos_73371582\", \"pos_73371759\", \n . \"pos_73371762\", \"pos_73372124\", \"pos_73373058\", \"pos_73373083\", \n . \"pos_73373123\", \"pos_73373627\", \"pos_73373666\", \"pos_73374153\", \n . \"pos_73374560\", \"pos_73374714\", \"pos_73375248\", \"pos_73375449\", \n . \"pos_73375864\", \"pos_73376388\", \"pos_73376430\", \"pos_73376635\", \n . \"pos_73376674\", \"pos_73376828\", \"pos_73377168\", \"pos_73377364\", \n . \"pos_73378520\", \"pos_73378952\", \"pos_73379114\", \"pos_73379130\", \n . \"pos_73379357\", \"pos_73379605\", \"pos_73379794\", \"pos_73379911\", \n . \"pos_73379936\", \"pos_73380325\", \"pos_73380663\", \"pos_73380735\", \n . \"pos_73380737\", \"pos_73380743\", \"pos_73380775\", \"pos_73380823\", \n . \"pos_73380887\", \"pos_73380901\", \"pos_73380912\", \"pos_73380945\", \n . \"pos_73380957\", \"pos_73380961\", \"pos_73381247\", \"pos_73381269\", \n . \"pos_73381661\", \"pos_73381889\", \"pos_73382198\", \"pos_73382399\", \n . \"pos_73382674\", \"pos_73382839\", \"pos_73382854\", \"pos_73382970\", \n . \"pos_73383271\", \"pos_73383279\", \"pos_73383487\", \"pos_73383562\", \n . \"pos_73383613\", \"pos_73384013\", \"pos_73384749\", \"pos_73384960\", \n . \"pos_73385034\", \"pos_73385197\", \"pos_73385718\", \"pos_73385785\", \n . \"pos_73385977\", \"pos_73386030\", \"pos_73386277\", \"pos_73386901\", \n . \"pos_73386923\", \"pos_73386943\", \"pos_73387611\", \"pos_73387742\", \n . \"pos_73388088\", \"pos_73388196\", \"pos_73388203\", \"pos_73388209\", \n . \"pos_73388231\", \"pos_73388264\", \"pos_73388364\", \"pos_73388415\", \n . \"pos_73388613\", \"pos_73388636\", \"pos_73388657\", \"pos_73388806\", \n . \"pos_73388824\", \"pos_73388846\", \"pos_73389049\", \"pos_73389170\", \n . \"pos_73389485\", \"pos_73389504\", \"pos_73389923\", \"pos_73390318\", \n . \"pos_73390484\", \"pos_73390713\", \"pos_73391930\", \"pos_73392000\", \n . \"pos_73392158\", \"pos_73392325\", \"pos_73392334\", \"pos_73392475\", \n . \"pos_73392667\", \"pos_73392725\", \"pos_73392739\", \"pos_73392741\", \n . \"pos_73392769\", \"pos_73392778\", \"pos_73392929\", \"pos_73393133\", \n . \"pos_73393511\", \"pos_73393549\", \"pos_73393577\", \"pos_73393719\", \n . \"pos_73394206\", \"pos_73395384\", \"pos_73395397\", \"pos_73395661\", \n . \"pos_73395791\", \"pos_73396211\", \"pos_73396636\", \"pos_73396978\", \n . \"pos_73397017\", \"pos_73397229\", \"pos_73397238\", \"pos_73397339\", \n . \"pos_73397665\", \"pos_73397719\", \"pos_73397727\", \"pos_73397941\", \n . \"pos_73398078\", \"pos_73398461\", \"pos_73398486\", \"pos_73398636\", \n . \"pos_73399497\", \"pos_73399576\", \"pos_73399741\", \"pos_73400220\", \n . \"pos_73400838\", \"pos_73401032\", \"pos_73401119\", \"pos_73401366\", \n . \"pos_73401389\", \"pos_73401460\", \"pos_73401491\", \"pos_73401553\", \n . \"pos_73401597\", \"pos_73401644\", \"pos_73401762\", \"pos_73401886\", \n . \"pos_73402340\", \"pos_73403332\", \"pos_73403953\", \"pos_73404083\", \n . \"pos_73404238\", \"pos_73404345\", \"pos_73404440\", \"pos_73404825\", \n . \"pos_73404973\", \"pos_73404994\", \"pos_73405659\", \"pos_73405812\", \n . \"pos_73405921\", \"pos_73405990\", \"pos_73406042\", \"pos_73406054\", \n . \"pos_73406058\", \"pos_73406108\", \"pos_73406117\", \"pos_73406292\", \n . \"pos_73406492\", \"pos_73406594\", \"pos_73407190\", \"pos_73407290\", \n . \"pos_73407732\", \"pos_73407802\", \"pos_73407840\", \"pos_73407897\", \n . \"pos_73407991\", \"pos_73408045\", \"pos_73408098\", \"pos_73408172\", \n . \"pos_73408223\", \"pos_73408273\", \"pos_73408409\", \"pos_73409187\", \n . \"pos_73409358\", \"pos_73409425\", \"pos_73409443\", \"pos_73409796\", \n . \"pos_73409935\", \"pos_73410072\", \"pos_73410090\", \"pos_73410125\", \n . \"pos_73410265\", \"pos_73410476\", \"pos_73410569\", \"pos_73410681\", \n . \"pos_73410866\", \"pos_73411505\", \"pos_73411582\", \"pos_73411749\", \n . \"pos_73412389\", \"pos_73412906\", \"pos_73413016\", \"pos_73413069\", \n . \"pos_73413359\", \"pos_73413391\", \"pos_73413398\", \"pos_73413445\", \n . \"pos_73413448\", \"pos_73413983\", \"pos_73414004\", \"pos_73414030\", \n . \"pos_73414091\", \"pos_73414169\", \"pos_73414182\", \"pos_73414186\", \n . \"pos_73414305\", \"pos_73414349\", \"pos_73414365\", \"pos_73414481\", \n . \"pos_73414543\", \"pos_73414554\", \"pos_73414647\", \"pos_73414911\", \n . \"pos_73414914\", \"pos_73414925\", \"pos_73415041\", \"pos_73415348\", \n . \"pos_73415386\", \"pos_73415882\", \"pos_73415954\", \"pos_73416039\", \n . \"pos_73416059\", \"pos_73416639\", \"pos_73417215\", \"pos_73417630\", \n . \"pos_73418062\", \"pos_73418161\", \"pos_73418186\", \"pos_73418205\", \n . \"pos_73418313\", \"pos_73419188\", \"pos_73419659\", \"pos_73419763\", \n . \"pos_73419830\", \"pos_73420060\", \"pos_73420076\"))",
      "2. `rownames<-`(`*tmp*`, value = c(\"pos_73274305\", \"pos_73274312\", \n . \"pos_73274892\", \"pos_73275060\", \"pos_73275154\", \"pos_73275472\", \n . \"pos_73276018\", \"pos_73276198\", \"pos_73276331\", \"pos_73276596\", \n . \"pos_73277426\", \"pos_73277555\", \"pos_73277571\", \"pos_73277623\", \n . \"pos_73277656\", \"pos_73277974\", \"pos_73278418\", \"pos_73279661\", \n . \"pos_73279772\", \"pos_73280387\", \"pos_73280884\", \"pos_73281093\", \n . \"pos_73281624\", \"pos_73282293\", \"pos_73283105\", \"pos_73283537\", \n . \"pos_73284224\", \"pos_73284793\", \"pos_73284924\", \"pos_73285272\", \n . \"pos_73285468\", \"pos_73285741\", \"pos_73285847\", \"pos_73286072\", \n . \"pos_73286307\", \"pos_73286473\", \"pos_73286714\", \"pos_73287131\", \n . \"pos_73287196\", \"pos_73287481\", \"pos_73287777\", \"pos_73287794\", \n . \"pos_73287955\", \"pos_73287963\", \"pos_73287993\", \"pos_73288001\", \n . \"pos_73288018\", \"pos_73288025\", \"pos_73288033\", \"pos_73288077\", \n . \"pos_73288081\", \"pos_73288089\", \"pos_73288093\", \"pos_73288123\", \n . \"pos_73288134\", \"pos_73288143\", \"pos_73288154\", \"pos_73288168\", \n . \"pos_73288175\", \"pos_73288179\", \"pos_73288212\", \"pos_73288222\", \n . \"pos_73288224\", \"pos_73288228\", \"pos_73288719\", \"pos_73288850\", \n . \"pos_73289587\", \"pos_73289620\", \"pos_73290108\", \"pos_73290191\", \n . \"pos_73290299\", \"pos_73290306\", \"pos_73290315\", \"pos_73290347\", \n . \"pos_73290530\", \"pos_73290673\", \"pos_73291341\", \"pos_73291358\", \n . \"pos_73291772\", \"pos_73292026\", \"pos_73292137\", \"pos_73292330\", \n . \"pos_73293038\", \"pos_73293389\", \"pos_73293695\", \"pos_73293802\", \n . \"pos_73293878\", \"pos_73293958\", \"pos_73293987\", \"pos_73293994\", \n . \"pos_73295331\", \"pos_73295402\", \"pos_73295667\", \"pos_73296092\", \n . \"pos_73296324\", \"pos_73296333\", \"pos_73296513\", \"pos_73296604\", \n . \"pos_73296627\", \"pos_73296782\", \"pos_73297039\", \"pos_73297482\", \n . \"pos_73297668\", \"pos_73297852\", \"pos_73297924\", \"pos_73297932\", \n . \"pos_73298075\", \"pos_73298086\", \"pos_73298115\", \"pos_73298157\", \n . \"pos_73298187\", \"pos_73298203\", \"pos_73298452\", \"pos_73298460\", \n . \"pos_73298482\", \"pos_73298484\", \"pos_73298507\", \"pos_73298514\", \n . \"pos_73298522\", \"pos_73298566\", \"pos_73298570\", \"pos_73298578\", \n . \"pos_73298582\", \"pos_73298616\", \"pos_73298627\", \"pos_73298647\", \n . \"pos_73298661\", \"pos_73298672\", \"pos_73298677\", \"pos_73298705\", \n . \"pos_73298715\", \"pos_73298717\", \"pos_73298721\", \"pos_73298725\", \n . \"pos_73298740\", \"pos_73298818\", \"pos_73298823\", \"pos_73298873\", \n . \"pos_73298881\", \"pos_73298909\", \"pos_73298921\", \"pos_73298925\", \n . \"pos_73299001\", \"pos_73299007\", \"pos_73299519\", \"pos_73299528\", \n . \"pos_73300047\", \"pos_73300340\", \"pos_73300403\", \"pos_73300478\", \n . \"pos_73300734\", \"pos_73301018\", \"pos_73301313\", \"pos_73301823\", \n . \"pos_73302077\", \"pos_73302471\", \"pos_73302489\", \"pos_73302550\", \n . \"pos_73302555\", \"pos_73302592\", \"pos_73302694\", \"pos_73302712\", \n . \"pos_73302833\", \"pos_73303114\", \"pos_73303118\", \"pos_73303122\", \n . \"pos_73303124\", \"pos_73303134\", \"pos_73303162\", \"pos_73303167\", \n . \"pos_73303171\", \"pos_73303178\", \"pos_73303192\", \"pos_73303223\", \n . \"pos_73303254\", \"pos_73303258\", \"pos_73303266\", \"pos_73303270\", \n . \"pos_73303314\", \"pos_73303322\", \"pos_73303329\", \"pos_73303346\", \n . \"pos_73303354\", \"pos_73303376\", \"pos_73303384\", \"pos_73303392\", \n . \"pos_73303705\", \"pos_73303879\", \"pos_73303978\", \"pos_73304283\", \n . \"pos_73304368\", \"pos_73304740\", \"pos_73304751\", \"pos_73304882\", \n . \"pos_73305492\", \"pos_73306726\", \"pos_73307222\", \"pos_73307226\", \n . \"pos_73307769\", \"pos_73307800\", \"pos_73307965\", \"pos_73308571\", \n . \"pos_73309435\", \"pos_73309827\", \"pos_73309968\", \"pos_73310015\", \n . \"pos_73310153\", \"pos_73310160\", \"pos_73310326\", \"pos_73310467\", \n . \"pos_73310683\", \"pos_73310705\", \"pos_73310952\", \"pos_73310969\", \n . \"pos_73311044\", \"pos_73311049\", \"pos_73312355\", \"pos_73312556\", \n . \"pos_73312715\", \"pos_73312872\", \"pos_73313055\", \"pos_73314077\", \n . \"pos_73314456\", \"pos_73314885\", \"pos_73315135\", \"pos_73315214\", \n . \"pos_73315244\", \"pos_73315257\", \"pos_73315522\", \"pos_73315838\", \n . \"pos_73315887\", \"pos_73315967\", \"pos_73316170\", \"pos_73316359\", \n . \"pos_73317931\", \"pos_73318041\", \"pos_73318143\", \"pos_73318267\", \n . \"pos_73318437\", \"pos_73318459\", \"pos_73319002\", \"pos_73319290\", \n . \"pos_73319392\", \"pos_73319429\", \"pos_73319583\", \"pos_73319949\", \n . \"pos_73320002\", \"pos_73320144\", \"pos_73320162\", \"pos_73320379\", \n . \"pos_73320563\", \"pos_73320724\", \"pos_73320898\", \"pos_73321425\", \n . \"pos_73321661\", \"pos_73321855\", \"pos_73321971\", \"pos_73322087\", \n . \"pos_73322109\", \"pos_73322642\", \"pos_73322920\", \"pos_73323421\", \n . \"pos_73323575\", \"pos_73324262\", \"pos_73324486\", \"pos_73325440\", \n . \"pos_73325874\", \"pos_73326135\", \"pos_73326356\", \"pos_73326590\", \n . \"pos_73326684\", \"pos_73326767\", \"pos_73326827\", \"pos_73326902\", \n . \"pos_73326939\", \"pos_73327454\", \"pos_73327652\", \"pos_73327734\", \n . \"pos_73327874\", \"pos_73328085\", \"pos_73328242\", \"pos_73328253\", \n . \"pos_73328444\", \"pos_73328485\", \"pos_73329325\", \"pos_73329396\", \n . \"pos_73329601\", \"pos_73329662\", \"pos_73329730\", \"pos_73330017\", \n . \"pos_73330125\", \"pos_73330241\", \"pos_73331103\", \"pos_73331413\", \n . \"pos_73331460\", \"pos_73331539\", \"pos_73331581\", \"pos_73331626\", \n . \"pos_73331637\", \"pos_73331680\", \"pos_73331686\", \"pos_73332180\", \n . \"pos_73332227\", \"pos_73332535\", \"pos_73332837\", \"pos_73332887\", \n . \"pos_73334075\", \"pos_73335120\", \"pos_73335161\", \"pos_73335302\", \n . \"pos_73335535\", \"pos_73335672\", \"pos_73335857\", \"pos_73336569\", \n . \"pos_73336804\", \"pos_73336816\", \"pos_73336853\", \"pos_73336860\", \n . \"pos_73336874\", \"pos_73336894\", \"pos_73336910\", \"pos_73336921\", \n . \"pos_73336963\", \"pos_73336967\", \"pos_73337002\", \"pos_73337019\", \n . \"pos_73337241\", \"pos_73337297\", \"pos_73338224\", \"pos_73338279\", \n . \"pos_73338881\", \"pos_73338886\", \"pos_73339378\", \"pos_73339459\", \n . \"pos_73340103\", \"pos_73340195\", \"pos_73341114\", \"pos_73341254\", \n . \"pos_73341278\", \"pos_73341703\", \"pos_73342302\", \"pos_73343335\", \n . \"pos_73343494\", \"pos_73344187\", \"pos_73344254\", \"pos_73344280\", \n . \"pos_73344391\", \"pos_73344516\", \"pos_73344545\", \"pos_73344748\", \n . \"pos_73345224\", \"pos_73346433\", \"pos_73346678\", \"pos_73347075\", \n . \"pos_73348198\", \"pos_73348251\", \"pos_73348376\", \"pos_73348419\", \n . \"pos_73348717\", \"pos_73348791\", \"pos_73348869\", \"pos_73349038\", \n . \"pos_73349156\", \"pos_73349182\", \"pos_73349184\", \"pos_73349188\", \n . \"pos_73349445\", \"pos_73349662\", \"pos_73350094\", \"pos_73350727\", \n . \"pos_73351031\", \"pos_73351137\", \"pos_73351465\", \"pos_73351526\", \n . \"pos_73351551\", \"pos_73352010\", \"pos_73352144\", \"pos_73353035\", \n . \"pos_73353221\", \"pos_73353253\", \"pos_73353316\", \"pos_73353449\", \n . \"pos_73353517\", \"pos_73353749\", \"pos_73354730\", \"pos_73354873\", \n . \"pos_73354957\", \"pos_73355219\", \"pos_73355428\", \"pos_73355894\", \n . \"pos_73356020\", \"pos_73357323\", \"pos_73357918\", \"pos_73358018\", \n . \"pos_73358059\", \"pos_73358595\", \"pos_73358607\", \"pos_73358624\", \n . \"pos_73358674\", \"pos_73358852\", \"pos_73359287\", \"pos_73359298\", \n . \"pos_73359391\", \"pos_73359409\", \"pos_73359471\", \"pos_73359691\", \n . \"pos_73359748\", \"pos_73359869\", \"pos_73360225\", \"pos_73360527\", \n . \"pos_73361006\", \"pos_73361328\", \"pos_73361410\", \"pos_73361505\", \n . \"pos_73361672\", \"pos_73361736\", \"pos_73361825\", \"pos_73362024\", \n . \"pos_73362435\", \"pos_73362442\", \"pos_73362498\", \"pos_73362636\", \n . \"pos_73362734\", \"pos_73363131\", \"pos_73363160\", \"pos_73363340\", \n . \"pos_73363389\", \"pos_73363485\", \"pos_73363594\", \"pos_73364311\", \n . \"pos_73364895\", \"pos_73365123\", \"pos_73365267\", \"pos_73365354\", \n . \"pos_73365777\", \"pos_73365870\", \"pos_73366162\", \"pos_73366257\", \n . \"pos_73366932\", \"pos_73366970\", \"pos_73367167\", \"pos_73367513\", \n . \"pos_73367527\", \"pos_73367956\", \"pos_73368047\", \"pos_73368185\", \n . \"pos_73368236\", \"pos_73368568\", \"pos_73369077\", \"pos_73369244\", \n . \"pos_73370057\", \"pos_73370115\", \"pos_73370247\", \"pos_73370411\", \n . \"pos_73370561\", \"pos_73370589\", \"pos_73370910\", \"pos_73371032\", \n . \"pos_73371036\", \"pos_73371040\", \"pos_73371042\", \"pos_73371110\", \n . \"pos_73371141\", \"pos_73371170\", \"pos_73371186\", \"pos_73371238\", \n . \"pos_73371245\", \"pos_73371262\", \"pos_73371270\", \"pos_73371292\", \n . \"pos_73371305\", \"pos_73371308\", \"pos_73371582\", \"pos_73371759\", \n . \"pos_73371762\", \"pos_73372124\", \"pos_73373058\", \"pos_73373083\", \n . \"pos_73373123\", \"pos_73373627\", \"pos_73373666\", \"pos_73374153\", \n . \"pos_73374560\", \"pos_73374714\", \"pos_73375248\", \"pos_73375449\", \n . \"pos_73375864\", \"pos_73376388\", \"pos_73376430\", \"pos_73376635\", \n . \"pos_73376674\", \"pos_73376828\", \"pos_73377168\", \"pos_73377364\", \n . \"pos_73378520\", \"pos_73378952\", \"pos_73379114\", \"pos_73379130\", \n . \"pos_73379357\", \"pos_73379605\", \"pos_73379794\", \"pos_73379911\", \n . \"pos_73379936\", \"pos_73380325\", \"pos_73380663\", \"pos_73380735\", \n . \"pos_73380737\", \"pos_73380743\", \"pos_73380775\", \"pos_73380823\", \n . \"pos_73380887\", \"pos_73380901\", \"pos_73380912\", \"pos_73380945\", \n . \"pos_73380957\", \"pos_73380961\", \"pos_73381247\", \"pos_73381269\", \n . \"pos_73381661\", \"pos_73381889\", \"pos_73382198\", \"pos_73382399\", \n . \"pos_73382674\", \"pos_73382839\", \"pos_73382854\", \"pos_73382970\", \n . \"pos_73383271\", \"pos_73383279\", \"pos_73383487\", \"pos_73383562\", \n . \"pos_73383613\", \"pos_73384013\", \"pos_73384749\", \"pos_73384960\", \n . \"pos_73385034\", \"pos_73385197\", \"pos_73385718\", \"pos_73385785\", \n . \"pos_73385977\", \"pos_73386030\", \"pos_73386277\", \"pos_73386901\", \n . \"pos_73386923\", \"pos_73386943\", \"pos_73387611\", \"pos_73387742\", \n . \"pos_73388088\", \"pos_73388196\", \"pos_73388203\", \"pos_73388209\", \n . \"pos_73388231\", \"pos_73388264\", \"pos_73388364\", \"pos_73388415\", \n . \"pos_73388613\", \"pos_73388636\", \"pos_73388657\", \"pos_73388806\", \n . \"pos_73388824\", \"pos_73388846\", \"pos_73389049\", \"pos_73389170\", \n . \"pos_73389485\", \"pos_73389504\", \"pos_73389923\", \"pos_73390318\", \n . \"pos_73390484\", \"pos_73390713\", \"pos_73391930\", \"pos_73392000\", \n . \"pos_73392158\", \"pos_73392325\", \"pos_73392334\", \"pos_73392475\", \n . \"pos_73392667\", \"pos_73392725\", \"pos_73392739\", \"pos_73392741\", \n . \"pos_73392769\", \"pos_73392778\", \"pos_73392929\", \"pos_73393133\", \n . \"pos_73393511\", \"pos_73393549\", \"pos_73393577\", \"pos_73393719\", \n . \"pos_73394206\", \"pos_73395384\", \"pos_73395397\", \"pos_73395661\", \n . \"pos_73395791\", \"pos_73396211\", \"pos_73396636\", \"pos_73396978\", \n . \"pos_73397017\", \"pos_73397229\", \"pos_73397238\", \"pos_73397339\", \n . \"pos_73397665\", \"pos_73397719\", \"pos_73397727\", \"pos_73397941\", \n . \"pos_73398078\", \"pos_73398461\", \"pos_73398486\", \"pos_73398636\", \n . \"pos_73399497\", \"pos_73399576\", \"pos_73399741\", \"pos_73400220\", \n . \"pos_73400838\", \"pos_73401032\", \"pos_73401119\", \"pos_73401366\", \n . \"pos_73401389\", \"pos_73401460\", \"pos_73401491\", \"pos_73401553\", \n . \"pos_73401597\", \"pos_73401644\", \"pos_73401762\", \"pos_73401886\", \n . \"pos_73402340\", \"pos_73403332\", \"pos_73403953\", \"pos_73404083\", \n . \"pos_73404238\", \"pos_73404345\", \"pos_73404440\", \"pos_73404825\", \n . \"pos_73404973\", \"pos_73404994\", \"pos_73405659\", \"pos_73405812\", \n . \"pos_73405921\", \"pos_73405990\", \"pos_73406042\", \"pos_73406054\", \n . \"pos_73406058\", \"pos_73406108\", \"pos_73406117\", \"pos_73406292\", \n . \"pos_73406492\", \"pos_73406594\", \"pos_73407190\", \"pos_73407290\", \n . \"pos_73407732\", \"pos_73407802\", \"pos_73407840\", \"pos_73407897\", \n . \"pos_73407991\", \"pos_73408045\", \"pos_73408098\", \"pos_73408172\", \n . \"pos_73408223\", \"pos_73408273\", \"pos_73408409\", \"pos_73409187\", \n . \"pos_73409358\", \"pos_73409425\", \"pos_73409443\", \"pos_73409796\", \n . \"pos_73409935\", \"pos_73410072\", \"pos_73410090\", \"pos_73410125\", \n . \"pos_73410265\", \"pos_73410476\", \"pos_73410569\", \"pos_73410681\", \n . \"pos_73410866\", \"pos_73411505\", \"pos_73411582\", \"pos_73411749\", \n . \"pos_73412389\", \"pos_73412906\", \"pos_73413016\", \"pos_73413069\", \n . \"pos_73413359\", \"pos_73413391\", \"pos_73413398\", \"pos_73413445\", \n . \"pos_73413448\", \"pos_73413983\", \"pos_73414004\", \"pos_73414030\", \n . \"pos_73414091\", \"pos_73414169\", \"pos_73414182\", \"pos_73414186\", \n . \"pos_73414305\", \"pos_73414349\", \"pos_73414365\", \"pos_73414481\", \n . \"pos_73414543\", \"pos_73414554\", \"pos_73414647\", \"pos_73414911\", \n . \"pos_73414914\", \"pos_73414925\", \"pos_73415041\", \"pos_73415348\", \n . \"pos_73415386\", \"pos_73415882\", \"pos_73415954\", \"pos_73416039\", \n . \"pos_73416059\", \"pos_73416639\", \"pos_73417215\", \"pos_73417630\", \n . \"pos_73418062\", \"pos_73418161\", \"pos_73418186\", \"pos_73418205\", \n . \"pos_73418313\", \"pos_73419188\", \"pos_73419659\", \"pos_73419763\", \n . \"pos_73419830\", \"pos_73420060\", \"pos_73420076\"))"
     ]
    }
   ],
   "source": [
    "rownames(p.residual_tocompare) <- paste0(\"pos_\", cg)"
   ]
  },
  {
   "cell_type": "code",
   "execution_count": null,
   "id": "38ea50d5-c40c-4d7b-ac46-9b2dbb420c4e",
   "metadata": {},
   "outputs": [],
   "source": [
    "p.residual_tocompare <- t(p.residual_tocompare)"
   ]
  },
  {
   "cell_type": "code",
   "execution_count": null,
   "id": "f9213b0a-a0c2-41ee-b22f-85d23c1b30c0",
   "metadata": {},
   "outputs": [],
   "source": [
    "dim(p.residual_tocompare)"
   ]
  },
  {
   "cell_type": "code",
   "execution_count": null,
   "id": "92e2bd48-bc96-409b-9a1c-1b13bb8ab98b",
   "metadata": {},
   "outputs": [],
   "source": [
    "dim(methInput@methylations)"
   ]
  },
  {
   "cell_type": "code",
   "execution_count": null,
   "id": "65cb9bab-2f14-4138-8f62-6cb876369277",
   "metadata": {},
   "outputs": [],
   "source": [
    "p.residual_tocompare <- p.residual_tocompare[order(rownames(p.residual_tocompare)), ]"
   ]
  },
  {
   "cell_type": "code",
   "execution_count": null,
   "id": "cce77de1-adaf-430b-b4f6-8bccbd56edac",
   "metadata": {},
   "outputs": [],
   "source": [
    "is.data.frame(p.residual_tocompare)"
   ]
  },
  {
   "cell_type": "code",
   "execution_count": null,
   "id": "c00c01fb-bb5c-4cf3-ab03-7915db198ee8",
   "metadata": {},
   "outputs": [],
   "source": [
    "is.data.frame(methInput@methylations)"
   ]
  },
  {
   "cell_type": "code",
   "execution_count": null,
   "id": "2044df6b-8e2a-4f1c-adf5-b797730aabf1",
   "metadata": {},
   "outputs": [],
   "source": [
    "names(attributes(p.residual_tocompare))"
   ]
  },
  {
   "cell_type": "code",
   "execution_count": null,
   "id": "fa0589e6-22d6-4b82-bc3c-8e5bc749ad8e",
   "metadata": {},
   "outputs": [],
   "source": [
    "class(p.residual_tocompare)"
   ]
  },
  {
   "cell_type": "code",
   "execution_count": null,
   "id": "07d23347-b2d7-4fb1-a02f-e9f39502aa03",
   "metadata": {},
   "outputs": [],
   "source": [
    "class(methInput@methylations)"
   ]
  },
  {
   "cell_type": "code",
   "execution_count": null,
   "id": "ba16de3f-5d11-4c03-bd6f-925aa3698b62",
   "metadata": {},
   "outputs": [],
   "source": [
    "compare_matrices <- function(mat1, mat2) {\n",
    "  diffs <- mat1 != mat2\n",
    "  indices <- which(diffs, arr.ind = TRUE)\n",
    "  rownames <- rownames(mat1)[indices[, 1]]\n",
    "  colnames <- colnames(mat1)[indices[, 2]]\n",
    "  differences <- mat1[indices] - mat2[indices]\n",
    "  \n",
    "  results <- data.table(\n",
    "    row_index = indices[, 1],\n",
    "    col_index = indices[, 2],\n",
    "    rowname = rownames,\n",
    "    colname = colnames,\n",
    "    difference = differences\n",
    "  )\n",
    "  \n",
    "  overall_mean_difference <- if (nrow(results) > 0) mean(abs(differences)) else 0\n",
    "  percentage_differences <- (nrow(results) / (nrow(mat1) * ncol(mat1))) * 100\n",
    "  largest_difference <- if (nrow(results) > 0) max(abs(differences)) else 0\n",
    "  \n",
    "  cat(\"Total differences:\", nrow(results), \"\\n\")\n",
    "  cat(\"Percentage of values with differences:\", percentage_differences, \"%\\n\")\n",
    "  cat(\"Largest difference:\", largest_difference, \"\\n\")\n",
    "  cat(\"Overall mean difference:\", overall_mean_difference, \"\\n\\n\")\n",
    "  \n",
    "  if (nrow(results) > 0) {\n",
    "    cat(\"Differences found:\\n\")\n",
    "    for (i in 1:nrow(results)) {\n",
    "      cat(\"Row index:\", results$row_index[i], \n",
    "          \"Row name:\", results$rowname[i], \n",
    "          \"Column index:\", results$col_index[i], \n",
    "          \"Column name:\", results$colname[i], \n",
    "          \"Difference:\", results$difference[i], \"\\n\")\n",
    "    }\n",
    "  }\n",
    "  \n",
    "  # Round matrices to 3 decimal places and check again\n",
    "  mat1_rounded <- round(mat1, 3)\n",
    "  mat2_rounded <- round(mat2, 3)\n",
    "  diffs_rounded <- mat1_rounded != mat2_rounded\n",
    "  indices_rounded <- which(diffs_rounded, arr.ind = TRUE)\n",
    "  rownames_rounded <- rownames(mat1_rounded)[indices_rounded[, 1]]\n",
    "  colnames_rounded <- colnames(mat1_rounded)[indices_rounded[, 2]]\n",
    "  differences_rounded <- mat1_rounded[indices_rounded] - mat2_rounded[indices_rounded]\n",
    "  \n",
    "  results_rounded <- data.table(\n",
    "    row_index = indices_rounded[, 1],\n",
    "    col_index = indices_rounded[, 2],\n",
    "    rowname = rownames_rounded,\n",
    "    colname = colnames_rounded,\n",
    "    difference = differences_rounded\n",
    "  )\n",
    "  \n",
    "  overall_mean_difference_rounded <- if (nrow(results_rounded) > 0) mean(abs(differences_rounded)) else 0\n",
    "  percentage_differences_rounded <- (nrow(results_rounded) / (nrow(mat1_rounded) * ncol(mat1_rounded))) * 100\n",
    "  largest_difference_rounded <- if (nrow(results_rounded) > 0) max(abs(differences_rounded)) else 0\n",
    "  \n",
    "  cat(\"\\nAfter rounding to 3 decimal places:\\n\")\n",
    "  cat(\"Total differences:\", nrow(results_rounded), \"\\n\")\n",
    "  cat(\"Percentage of values with differences:\", percentage_differences_rounded, \"%\\n\")\n",
    "  cat(\"Largest difference:\", largest_difference_rounded, \"\\n\")\n",
    "  cat(\"Overall mean difference:\", overall_mean_difference_rounded, \"\\n\")\n",
    "  \n",
    "  if (nrow(results_rounded) > 0) {\n",
    "    cat(\"Differences found:\\n\")\n",
    "    for (i in 1:nrow(results_rounded)) {\n",
    "      cat(\"Row index:\", results_rounded$row_index[i], \n",
    "          \"Row name:\", results_rounded$rowname[i], \n",
    "          \"Column index:\", results_rounded$col_index[i], \n",
    "          \"Column name:\", results_rounded$colname[i], \n",
    "          \"Difference:\", results_rounded$difference[i], \"\\n\")\n",
    "    }\n",
    "  }\n",
    "}\n",
    "\n",
    "#compare_matrices(methInput@methylations, p.residual_tocompare)\n"
   ]
  },
  {
   "cell_type": "markdown",
   "id": "2b1efee9-20aa-48b3-8a44-37f61e0fd2f0",
   "metadata": {},
   "source": [
    "Let's round them down so they're identical"
   ]
  },
  {
   "cell_type": "code",
   "execution_count": null,
   "id": "fe805fad-05d4-4a55-a8d7-6c3974294425",
   "metadata": {},
   "outputs": [],
   "source": [
    "p.residual_tocompare <- round(p.residual_tocompare, 5)\n",
    "methInput@methylations <- round(methInput@methylations, 5)"
   ]
  },
  {
   "cell_type": "code",
   "execution_count": null,
   "id": "fbb6e19f-8b44-480c-839f-6e0ee4ba5ee8",
   "metadata": {},
   "outputs": [],
   "source": [
    "p.residual_tocompare[1:5, 1:5]"
   ]
  },
  {
   "cell_type": "code",
   "execution_count": null,
   "id": "cc5e52d0-33e0-4424-b6a9-3bddaf19c837",
   "metadata": {},
   "outputs": [],
   "source": [
    "methInput@methylations[1:5, 1:5]"
   ]
  },
  {
   "cell_type": "code",
   "execution_count": null,
   "id": "4fb7c21c-fe80-4f45-93b8-0d897732c15d",
   "metadata": {},
   "outputs": [],
   "source": [
    "p.residual <- round(p.residual, 5)"
   ]
  },
  {
   "cell_type": "code",
   "execution_count": null,
   "id": "f4ad72db-fe27-4676-8da6-46222519a095",
   "metadata": {},
   "outputs": [],
   "source": [
    "snp.gwas2 <- NULL"
   ]
  },
  {
   "cell_type": "code",
   "execution_count": null,
   "id": "744fc147-2638-4935-a805-68cb51852dd7",
   "metadata": {},
   "outputs": [],
   "source": [
    "load(\"p1.rda\", verbose = TRUE)"
   ]
  },
  {
   "cell_type": "code",
   "execution_count": null,
   "id": "8a783da8-47b9-4d54-8b56-132e4e0df26b",
   "metadata": {},
   "outputs": [],
   "source": [
    "# min(snp.gwas2$pos_hg38)\n",
    "# max(snp.gwas2$pos_hg38)"
   ]
  },
  {
   "cell_type": "code",
   "execution_count": null,
   "id": "c99fcf98-55e5-409f-a680-b53d79dc2bf6",
   "metadata": {},
   "outputs": [],
   "source": [
    "# load(\"p1.rda\")\n",
    "# pos_we_got <- snp.gwas2$pos_hg38\n",
    "# saveRDS(pos_we_got, \"20-intermediate_positions_in_old_set.csv\")"
   ]
  },
  {
   "cell_type": "code",
   "execution_count": null,
   "id": "2f482f35-ef1c-4f68-8393-ccaada5c7025",
   "metadata": {},
   "outputs": [],
   "source": [
    "#pos_we_got <- readRDS(\"20-intermediate_positions_in_old_set.csv\")"
   ]
  },
  {
   "cell_type": "code",
   "execution_count": null,
   "id": "f6003779-b41a-41c2-91e8-a6a0274addc9",
   "metadata": {},
   "outputs": [],
   "source": [
    "#pos_we_got"
   ]
  },
  {
   "cell_type": "code",
   "execution_count": null,
   "id": "c6110a67-1605-4131-91fa-bdf839c014c8",
   "metadata": {},
   "outputs": [],
   "source": [
    "# head(snp.gwas2)"
   ]
  },
  {
   "cell_type": "markdown",
   "id": "6f1649fc-72c8-4bcf-9cbc-587463117579",
   "metadata": {},
   "source": [
    "### summary stats"
   ]
  },
  {
   "cell_type": "code",
   "execution_count": null,
   "id": "19d2a3db-0ed4-481f-b7d6-78d0ddbbb80f",
   "metadata": {},
   "outputs": [],
   "source": [
    "library(data.table)\n",
    "library(CpGWAS)"
   ]
  },
  {
   "cell_type": "code",
   "execution_count": null,
   "id": "a5270235-a5a6-42d2-a654-ea30cb891279",
   "metadata": {},
   "outputs": [],
   "source": [
    "ss_path <- \"/home/naglemi/mwas/gwas/gwas_stat_scz\""
   ]
  },
  {
   "cell_type": "code",
   "execution_count": null,
   "id": "203b45ea-44b4-4679-8b74-621f634db7dc",
   "metadata": {},
   "outputs": [],
   "source": [
    "snp.gwas2 <- fread(ss_path, skip = 1, header = FALSE)\n",
    "colnames(snp.gwas2) <- strsplit(readLines(ss_path, n = 1), \"\\t\")[[1]]"
   ]
  },
  {
   "cell_type": "code",
   "execution_count": null,
   "id": "917f58c4-4ec5-47b8-bf3d-f0abcf86cf96",
   "metadata": {},
   "outputs": [],
   "source": [
    "snp.gwas2$z <- log(snp.gwas2$OR)/snp.gwas2$SE"
   ]
  },
  {
   "cell_type": "code",
   "execution_count": null,
   "id": "6d87bed5-d32c-4264-b787-d738cd381454",
   "metadata": {},
   "outputs": [],
   "source": [
    "snp.gwas2 <- snp.gwas2[, c(2, 1, 3, 3, 8, 4, 5, 20, 11)]"
   ]
  },
  {
   "cell_type": "code",
   "execution_count": null,
   "id": "3df5e4c7-01eb-475b-a931-1e088d109cdb",
   "metadata": {},
   "outputs": [],
   "source": [
    "head(snp.gwas2, n = 1)"
   ]
  },
  {
   "cell_type": "code",
   "execution_count": null,
   "id": "a1b63fe0-6ff8-4982-92a5-7dd2a937b6f3",
   "metadata": {},
   "outputs": [],
   "source": [
    "colnames(snp.gwas2)[1:5] <- c(\"snp\", \"chr\", \"pos_hg38\", \"pos_hg38\", \"info\")"
   ]
  },
  {
   "cell_type": "code",
   "execution_count": null,
   "id": "86716430-3d24-416b-922e-f7f8e007325d",
   "metadata": {},
   "outputs": [],
   "source": [
    "snp.gwas2 <- snp.gwas2[which(snp.gwas2$chr == 1 & snp.gwas2$pos_hg38 >= (73274305-10000) & snp.gwas2$pos_hg38 <= (73419830 + 10000)), ]"
   ]
  },
  {
   "cell_type": "code",
   "execution_count": null,
   "id": "cf9d755d-69bd-4411-96ff-6736c49236a6",
   "metadata": {},
   "outputs": [],
   "source": [
    "dim(snp.gwas2)"
   ]
  },
  {
   "cell_type": "code",
   "execution_count": null,
   "id": "6dfba3a8-0775-4f8c-92d2-3c9c32a36945",
   "metadata": {},
   "outputs": [],
   "source": [
    "snp.gwas2 <- snp.gwas2[order(snp.gwas2$pos_hg38), ]"
   ]
  },
  {
   "cell_type": "code",
   "execution_count": null,
   "id": "5ec82f36-6328-4c9e-b4d1-23b339c5f487",
   "metadata": {},
   "outputs": [],
   "source": [
    "head(snp.gwas2)"
   ]
  },
  {
   "cell_type": "code",
   "execution_count": null,
   "id": "ffb17b8b-4388-4903-9a9a-f52d25281601",
   "metadata": {},
   "outputs": [],
   "source": [
    "#snp.gwas2 <- snp.gwas2[which(snp.gwas2$pos_hg38 %in% pos_we_got), ]"
   ]
  },
  {
   "cell_type": "code",
   "execution_count": null,
   "id": "a6a6b3d7-ba37-4055-abcb-8141eba02d3f",
   "metadata": {},
   "outputs": [],
   "source": [
    "dim(snp.gwas2)"
   ]
  },
  {
   "cell_type": "code",
   "execution_count": null,
   "id": "4714a813-116f-4567-a6b1-41bb02df8227",
   "metadata": {},
   "outputs": [],
   "source": [
    "# built predition models\n",
    "idx.ea <- BSobj2$race == \"CAUC\""
   ]
  },
  {
   "cell_type": "markdown",
   "id": "9700ca92-911f-4aa6-a557-789f202994b1",
   "metadata": {},
   "source": [
    "### SNPs in LIBD population"
   ]
  },
  {
   "cell_type": "markdown",
   "id": "6c305c43-74d5-42df-8039-b20adbbed9cd",
   "metadata": {},
   "source": [
    "#### For reference, first load Shizhong's formatted SNPs on Chr7"
   ]
  },
  {
   "cell_type": "code",
   "execution_count": null,
   "id": "c03876a6-b33a-4f42-af8d-25c93233dee2",
   "metadata": {},
   "outputs": [],
   "source": [
    "snp2_sorted <- snp2[, order(names(snp2))]"
   ]
  },
  {
   "cell_type": "code",
   "execution_count": null,
   "id": "f24d0fef-0977-4f61-9c6d-a401efb46469",
   "metadata": {},
   "outputs": [],
   "source": [
    "colnames(snp2) <- gsub(\"Br0\", \"Br\", colnames(snp2))"
   ]
  },
  {
   "cell_type": "code",
   "execution_count": null,
   "id": "84f086ad-bf9a-4002-9fd0-822cef73679b",
   "metadata": {},
   "outputs": [],
   "source": [
    "snp2 <- snp2[, colnames(snp2) %in% colnames(p.residual)]"
   ]
  },
  {
   "cell_type": "code",
   "execution_count": null,
   "id": "a3e7cec7-c3cf-4c36-991d-36a1cec26d9e",
   "metadata": {},
   "outputs": [],
   "source": [
    "dim(snp2)"
   ]
  },
  {
   "cell_type": "code",
   "execution_count": null,
   "id": "03ac6e7d-c9df-4759-b53b-a1025dcb2db2",
   "metadata": {},
   "outputs": [],
   "source": [
    "head(snp2)"
   ]
  },
  {
   "cell_type": "code",
   "execution_count": null,
   "id": "87fd1318-bcea-4a94-9b53-2361257d86bb",
   "metadata": {},
   "outputs": [],
   "source": [
    "snp2_positions <- stringr::str_split_fixed(rownames(snp2), \":\", 3)[, 2]"
   ]
  },
  {
   "cell_type": "markdown",
   "id": "64e0f588-fc43-4f4a-aba6-911d037e9ead",
   "metadata": {},
   "source": [
    "#### Now let's load ours on Chr1"
   ]
  },
  {
   "cell_type": "code",
   "execution_count": null,
   "id": "04b0b495-749b-42fa-a4ce-2d7f14f0a053",
   "metadata": {},
   "outputs": [],
   "source": [
    "paths <- list(pvar_path = \"/expanse/lustre/projects/jhu152/naglemi/mwas/gwas/libd_chr1.pvar\",\n",
    "              pgen_path = \"/expanse/lustre/projects/jhu152/naglemi/mwas/gwas/libd_chr1.pgen\",\n",
    "              psam_path = \"/expanse/lustre/projects/jhu152/naglemi/mwas/gwas/libd_chr1.psam\")\n",
    "\n",
    "my_SNPs <- loadSNPData(paths$pvar_path, paths$pgen_path, paths$psam_path)"
   ]
  },
  {
   "cell_type": "code",
   "execution_count": null,
   "id": "1dd4ef47-2a68-4f01-a0e5-03efd6732c4a",
   "metadata": {},
   "outputs": [],
   "source": [
    "snp_indices_of_interest <- which(my_SNPs$pvar_dt$POS >= 73274305-20000 & my_SNPs$pvar_dt$POS <= 73419830 + 20000)"
   ]
  },
  {
   "cell_type": "code",
   "execution_count": null,
   "id": "67aa0c72-53e2-40ef-8d97-9621bdd799ea",
   "metadata": {},
   "outputs": [],
   "source": [
    "snp3 <- pgenlibr::ReadList(my_SNPs$pgen,\n",
    "                        variant_subset = snp_indices_of_interest)\n",
    "colnames(snp3) <- my_SNPs$pvar_dt$ID[snp_indices_of_interest]\n",
    "rownames(snp3) <- my_SNPs$psam$`#IID`"
   ]
  },
  {
   "cell_type": "code",
   "execution_count": null,
   "id": "f61ed340-1395-4e61-89c8-a76f8aa93283",
   "metadata": {},
   "outputs": [],
   "source": [
    "snp3[1:10, 1:10]"
   ]
  },
  {
   "cell_type": "code",
   "execution_count": null,
   "id": "7a35ed6c-92ba-44b3-840e-ffc621828872",
   "metadata": {},
   "outputs": [],
   "source": [
    "map3 <- data.frame(POS = stringr::str_split_fixed(colnames(snp3), \":\", 3)[, 2])"
   ]
  },
  {
   "cell_type": "code",
   "execution_count": null,
   "id": "ca549289-47f4-444b-b3e8-7d8a39c2e33f",
   "metadata": {},
   "outputs": [],
   "source": [
    "snp3 <- t(snp3)"
   ]
  },
  {
   "cell_type": "code",
   "execution_count": null,
   "id": "8ca4e294-8803-4ea9-bb38-d9c9530dd442",
   "metadata": {},
   "outputs": [],
   "source": [
    "# snp3 <- snp3[which(map3$POS %in% pos_we_got), ]"
   ]
  },
  {
   "cell_type": "code",
   "execution_count": null,
   "id": "191b05e4-0107-4059-887e-bd3f2cafde0f",
   "metadata": {},
   "outputs": [],
   "source": [
    "map3 <- data.frame(POS = stringr::str_split_fixed(rownames(snp3), \":\", 3)[, 2])"
   ]
  },
  {
   "cell_type": "code",
   "execution_count": null,
   "id": "4e17a504-e98e-4d5e-bc59-3fd09faf3de8",
   "metadata": {},
   "outputs": [],
   "source": [
    "dim(map3)"
   ]
  },
  {
   "cell_type": "code",
   "execution_count": null,
   "id": "a64f0826-1078-427c-b70c-d3cab6afeafa",
   "metadata": {},
   "outputs": [],
   "source": [
    "head(map3)"
   ]
  },
  {
   "cell_type": "code",
   "execution_count": null,
   "id": "65d4b495-247e-488e-a992-4c7958d8f866",
   "metadata": {},
   "outputs": [],
   "source": [
    "dim(map3)"
   ]
  },
  {
   "cell_type": "markdown",
   "id": "968e2fda-0326-4229-a409-089dc6a78fc6",
   "metadata": {},
   "source": [
    "#### Make sure we're working with same SNPs in cpgwas (and check map3 object)"
   ]
  },
  {
   "cell_type": "code",
   "execution_count": null,
   "id": "d24360e2-c9e0-4707-b707-368f08c5bb1f",
   "metadata": {},
   "outputs": [],
   "source": [
    "dim(methInput@pvar_dt[which(methInput@pvar_dt$POS >= 73274305-10000 & methInput@pvar_dt$POS <= 73419830 + 10000 &\n",
    "                        methInput@pvar_dt$`#CHROM` == 1), ])"
   ]
  },
  {
   "cell_type": "code",
   "execution_count": null,
   "id": "cd9094b8-6634-4480-8839-cfc46d23d09a",
   "metadata": {},
   "outputs": [],
   "source": [
    "my_map3 <- data.frame(POS = methInput@pvar_dt$POS[which(methInput@pvar_dt$POS >= 73274305-10000 & methInput@pvar_dt$POS <= 73419830 + 10000 &\n",
    "                        methInput@pvar_dt$`#CHROM` == 1)])"
   ]
  },
  {
   "cell_type": "code",
   "execution_count": null,
   "id": "e92e1f2e-9d76-4cc4-8047-8675345dec46",
   "metadata": {},
   "outputs": [],
   "source": [
    "all(map3 == my_map3)"
   ]
  },
  {
   "cell_type": "markdown",
   "id": "d0fb3ea3-0f60-4a62-b787-66185fc8e792",
   "metadata": {},
   "source": [
    "### SNPs in reference population"
   ]
  },
  {
   "cell_type": "code",
   "execution_count": null,
   "id": "00b33368-a3ec-4788-8b82-519e1fbd5e95",
   "metadata": {},
   "outputs": [],
   "source": [
    "#snp.1kg.eur2"
   ]
  },
  {
   "cell_type": "code",
   "execution_count": null,
   "id": "34c15291-20a7-4a7d-b90e-3159f250df9f",
   "metadata": {},
   "outputs": [],
   "source": [
    "paths <- list(pvar_path = \"/expanse/lustre/projects/jhu152/naglemi/mwas/gwas/ref_EUR_chr1.pvar\",\n",
    "              pgen_path = \"/expanse/lustre/projects/jhu152/naglemi/mwas/gwas/ref_EUR_chr1.pgen\",\n",
    "              psam_path = \"/expanse/lustre/projects/jhu152/naglemi/mwas/gwas/ref_EUR_chr1.psam\")\n",
    "\n",
    "my_SNPs <- loadSNPData(paths$pvar_path, paths$pgen_path, paths$psam_path)\n",
    "\n",
    "snp_indices_of_interest <- which(my_SNPs$pvar_dt$POS >= 73274305-20000 & my_SNPs$pvar_dt$POS <= 73419830 + 20000)"
   ]
  },
  {
   "cell_type": "code",
   "execution_count": null,
   "id": "85f427f7-e4d3-4ba6-ad1a-a2691f68346e",
   "metadata": {},
   "outputs": [],
   "source": [
    "snp.1kg.eur2 <- pgenlibr::ReadList(my_SNPs$pgen,\n",
    "                        variant_subset = snp_indices_of_interest)\n",
    "colnames(snp.1kg.eur2) <- my_SNPs$pvar_dt$ID[snp_indices_of_interest]\n",
    "rownames(snp.1kg.eur2) <- my_SNPs$psam$`IID`"
   ]
  },
  {
   "cell_type": "code",
   "execution_count": null,
   "id": "a18efcd5-ce3b-46e0-a6f8-a345812bdfff",
   "metadata": {},
   "outputs": [],
   "source": [
    "dim(snp.1kg.eur2)"
   ]
  },
  {
   "cell_type": "code",
   "execution_count": null,
   "id": "38d80ac5-91d5-4766-8953-fe93f6de6a34",
   "metadata": {},
   "outputs": [],
   "source": [
    "map.1kg.eur2 <- my_SNPs$pvar_dt"
   ]
  },
  {
   "cell_type": "code",
   "execution_count": null,
   "id": "a9650fe9-2483-4bf0-95d3-0102b90465f2",
   "metadata": {},
   "outputs": [],
   "source": [
    "map.1kg.eur2 <- map.1kg.eur2[snp_indices_of_interest, ]"
   ]
  },
  {
   "cell_type": "code",
   "execution_count": null,
   "id": "022cb595-7025-4bd5-ae98-43ed5b1a5b1e",
   "metadata": {},
   "outputs": [],
   "source": [
    "dim(map.1kg.eur2)"
   ]
  },
  {
   "cell_type": "code",
   "execution_count": null,
   "id": "357127e2-bc99-4274-af8c-02f6d9907334",
   "metadata": {},
   "outputs": [],
   "source": [
    "#map.1kg.eur2 <- data.frame(POS = stringr::str_split_fixed(colnames(snp.1kg.eur2), \":\", 3)[, 2])"
   ]
  },
  {
   "cell_type": "code",
   "execution_count": null,
   "id": "f6f5d1f5-0681-4825-bfa7-79d3ace6f004",
   "metadata": {},
   "outputs": [],
   "source": [
    "snp.1kg.eur2 <- t(snp.1kg.eur2)"
   ]
  },
  {
   "cell_type": "code",
   "execution_count": null,
   "id": "b203efd4-9ceb-474f-be52-2a70807c9b6a",
   "metadata": {},
   "outputs": [],
   "source": [
    "# snp3 <- snp3[which(map3$POS %in% pos_we_got), ]"
   ]
  },
  {
   "cell_type": "code",
   "execution_count": null,
   "id": "e6840663-7760-4cc8-816b-b8abf9cc89ee",
   "metadata": {},
   "outputs": [],
   "source": []
  },
  {
   "cell_type": "markdown",
   "id": "882a7c0a-0ec2-4aa2-be3c-a2f152126bd8",
   "metadata": {},
   "source": [
    "### Set window size and any other parameters"
   ]
  },
  {
   "cell_type": "code",
   "execution_count": null,
   "id": "461263e5-8c47-40ae-b3e4-03dbea4820e8",
   "metadata": {},
   "outputs": [],
   "source": [
    "wind <- 10000"
   ]
  },
  {
   "cell_type": "markdown",
   "id": "0849e5e3-af47-480f-82ca-97b07d1dd943",
   "metadata": {},
   "source": [
    "Is 1se vs min for lambda the problem?"
   ]
  },
  {
   "cell_type": "markdown",
   "id": "cfc14c0f-1e12-4108-97fc-ab66a6467640",
   "metadata": {},
   "source": [
    "## Stage 1"
   ]
  },
  {
   "cell_type": "markdown",
   "id": "01702c89-68f0-4f60-a5f9-9f1b2fc00447",
   "metadata": {},
   "source": [
    "#### Shizhong's version"
   ]
  },
  {
   "cell_type": "code",
   "execution_count": null,
   "id": "c25b764a-bcce-4b86-b0d7-a627f9e8cb8a",
   "metadata": {},
   "outputs": [],
   "source": [
    "#head(map3)"
   ]
  },
  {
   "cell_type": "code",
   "execution_count": null,
   "id": "db60d8d3-3d88-45a4-b447-76e20c9e3b2f",
   "metadata": {},
   "outputs": [],
   "source": [
    "#dim(map3)"
   ]
  },
  {
   "cell_type": "code",
   "execution_count": null,
   "id": "2920d862-b399-4578-b48c-149fda93111f",
   "metadata": {},
   "outputs": [],
   "source": [
    "#dim(snp3)"
   ]
  },
  {
   "cell_type": "code",
   "execution_count": null,
   "id": "f41f9c4d-1489-45a4-ad25-d446a05980bf",
   "metadata": {},
   "outputs": [],
   "source": [
    "p.residual <- p.residual[, order(colnames(p.residual))]"
   ]
  },
  {
   "cell_type": "code",
   "execution_count": null,
   "id": "635b7d94-964f-4a70-aad8-1c4176f38c61",
   "metadata": {},
   "outputs": [],
   "source": [
    "#dim(snp3)"
   ]
  },
  {
   "cell_type": "code",
   "execution_count": null,
   "id": "f10f76e6-a6b9-4b98-a93e-dd1352b4e261",
   "metadata": {},
   "outputs": [],
   "source": [
    "#p.residual"
   ]
  },
  {
   "cell_type": "code",
   "execution_count": null,
   "id": "5f12a542-8abd-44ed-9142-047adeb6e11f",
   "metadata": {},
   "outputs": [],
   "source": [
    "#snp3[1:10, 1:10]"
   ]
  },
  {
   "cell_type": "code",
   "execution_count": null,
   "id": "65857cda-1517-4854-a1e1-5af6459cbdca",
   "metadata": {},
   "outputs": [],
   "source": [
    "snp3 <- snp3[, colnames(snp3) %in% colnames(p.residual)]"
   ]
  },
  {
   "cell_type": "code",
   "execution_count": null,
   "id": "7ab51668-a9da-4913-a8ee-41aa0d49550e",
   "metadata": {},
   "outputs": [],
   "source": [
    "snp3 <- snp3[, order(colnames(snp3))]"
   ]
  },
  {
   "cell_type": "code",
   "execution_count": null,
   "id": "5ddbf83f-9099-4972-ad61-35e94cecc4b0",
   "metadata": {},
   "outputs": [],
   "source": [
    "#dim(snp3)"
   ]
  },
  {
   "cell_type": "code",
   "execution_count": null,
   "id": "305409c3-5abb-49c2-9914-6fd958064abf",
   "metadata": {},
   "outputs": [],
   "source": [
    "for(k in 1:length(wind)){\n",
    "    models.ea <- c()\n",
    "    models.all <- c()\n",
    "    for(i in 1:length(cg)){\n",
    "    #for(i in 1){\n",
    "            cat(i,\"\\n\")\n",
    "            print(paste0(\"This cg is: \", cg[i]))\n",
    "            range1 <- ifelse(cg[i] - wind[k] > 0,cg[i] - wind[k],0)\n",
    "            range2 <- cg[i] + wind[k]\n",
    "            idx <- map3$POS > range1 & map3$POS < range2\n",
    "            # go to next cg if no snps within window\n",
    "            if(sum(idx) <= 1){\n",
    "                    next\n",
    "            }\n",
    "            geno <- snp3[idx,] # changed snp2 to snp3\n",
    "            rownames(geno) <- map3$POS[idx]\n",
    "            trainX <- t(geno)\n",
    "            trainY <- p.residual[i,]\n",
    "            fit <- elastic.net(trainX,trainY)\n",
    "            fit <- tryCatch(\n",
    "                    elastic.net(trainX,trainY),\n",
    "                    error = function(e) {return (\"err\")})\n",
    "            if(!is.data.frame(fit)){\n",
    "                if(fit == \"err\"){\n",
    "                    next\n",
    "                }\n",
    "            }\n",
    "            if(nrow(fit) == 0) next\n",
    "\n",
    "            fit$cg <- cg[i]\n",
    "            models.all <- rbind(models.all,fit)\n",
    "            # EA only\n",
    "            trainX <- trainX[idx.ea,]\n",
    "            if(sum(apply(trainX,2,var)!=0) <= 1){\n",
    "                    next\n",
    "            }\n",
    "            trainY <- trainY[idx.ea]\n",
    "            fit <- tryCatch(\n",
    "                    elastic.net(trainX,trainY),\n",
    "                    error = function(e) {return (\"err\")})\n",
    "            if(!is.data.frame(fit)){\n",
    "                if(fit == \"err\"){\n",
    "                    next\n",
    "                }\n",
    "            }\n",
    "            if(nrow(fit) == 0) next\n",
    "            fit$cg <- cg[i]\n",
    "            models.ea <- rbind(models.ea,fit)\n",
    "    }\n",
    "}"
   ]
  },
  {
   "cell_type": "code",
   "execution_count": null,
   "id": "3d109e75-bf26-43f5-8a0d-d6bb2f9cbe6b",
   "metadata": {},
   "outputs": [],
   "source": [
    "models.ea <- models.ea[models.ea[,1] != \"(Intercept)\",]\n",
    "models.all <- models.all[models.all[,1] != \"(Intercept)\",]"
   ]
  },
  {
   "cell_type": "markdown",
   "id": "7c836052-c52b-4ccd-9737-58e796be64bd",
   "metadata": {},
   "source": [
    "#### My version"
   ]
  },
  {
   "cell_type": "code",
   "execution_count": null,
   "id": "a85de4cc-501f-4ce4-a062-858165725d03",
   "metadata": {},
   "outputs": [],
   "source": [
    "scaffoldIdentifier <- \"debugging_test_071624\"\n",
    "\n",
    "scaffold_models <- fit_MWAS_models(\n",
    "  BSobj = BSobj2,\n",
    "  methInput = methInput,\n",
    "  window_sizes = c(10000),\n",
    "  chunk1 = 1,\n",
    "  chunk2 = length(methInput@methylations_positions),\n",
    "  n_fold = 5,\n",
    "  scaffoldIdentifier = scaffoldIdentifier,\n",
    "  outdir = \"20-OUT_debugging_test\",\n",
    "  verbose = FALSE,\n",
    "  lambda_choice = \"1se\",\n",
    "  alphas = 0.5,\n",
    "  cores_per_alpha = \"all\",\n",
    "  num_cores = 120,\n",
    "  allow_inefficient_parallelization = FALSE,\n",
    "  save_evaluation_results_each_fold = FALSE,\n",
    "  save_glmnet_object = FALSE,\n",
    "  cv_eval_mode = \"dynamic\",\n",
    "  omit_folds_with_na_r = TRUE,\n",
    "  maf = 0,\n",
    "  na.action = \"remove\"\n",
    ")"
   ]
  },
  {
   "cell_type": "code",
   "execution_count": null,
   "id": "1eacef55-98ef-4754-a837-fa463cc00d3d",
   "metadata": {},
   "outputs": [],
   "source": [
    "methScaff <- readRDS(\"20-OUT_debugging_test/debugging_test_071624.rds\")"
   ]
  },
  {
   "cell_type": "code",
   "execution_count": null,
   "id": "86fae12e-1442-4afe-ab85-503aa6a0d3e8",
   "metadata": {},
   "outputs": [],
   "source": [
    "library(data.table)\n",
    "\n",
    "my_models.all <- rbindlist(lapply(methScaff@models, function(model) {\n",
    "  data.table(\n",
    "    features = sub(\"chr1:\", \"\", names(model@snpWeights)),\n",
    "    coefs = as.numeric(model@snpWeights),\n",
    "    cg = rep(model@methylationPosition, length(model@snpWeights))\n",
    "  )\n",
    "}), use.names = TRUE, fill = TRUE)\n",
    "\n",
    "my_models.all$features <- stringr::str_split_fixed(my_models.all$features, \":\", 3)[,1]\n",
    "setorder(my_models.all, cg)\n",
    "head(my_models.all)\n"
   ]
  },
  {
   "cell_type": "code",
   "execution_count": null,
   "id": "c3137959-3ece-4d6e-9a55-ce7e5538258c",
   "metadata": {},
   "outputs": [],
   "source": []
  },
  {
   "cell_type": "code",
   "execution_count": null,
   "id": "54bb3ee1-8f43-4de3-8b0e-6f6c6519f027",
   "metadata": {},
   "outputs": [],
   "source": [
    "dim(my_models.all)"
   ]
  },
  {
   "cell_type": "code",
   "execution_count": null,
   "id": "150f862c-2c80-44f9-b89a-148762e12e31",
   "metadata": {},
   "outputs": [],
   "source": [
    "dim(models.all)"
   ]
  },
  {
   "cell_type": "code",
   "execution_count": null,
   "id": "1df27575-fd85-45fd-a626-7f2ba98b0a81",
   "metadata": {},
   "outputs": [],
   "source": [
    "dim(na.omit(models.all))"
   ]
  },
  {
   "cell_type": "code",
   "execution_count": null,
   "id": "0d914256-0be2-41bc-bde0-2ededc4f5c3c",
   "metadata": {},
   "outputs": [],
   "source": [
    "head(my_models.all)"
   ]
  },
  {
   "cell_type": "code",
   "execution_count": null,
   "id": "87d2c91c-1d57-463d-a366-1fb4bc8d593d",
   "metadata": {},
   "outputs": [],
   "source": [
    "head(models.all)"
   ]
  },
  {
   "cell_type": "markdown",
   "id": "0a02a795-cfb1-4045-97f3-5ca233de21d0",
   "metadata": {},
   "source": [
    "For testing purposes, although I don't yet know why we have more rows in my_models.all than models.all, let's subset so they match and we can do a proper comparison."
   ]
  },
  {
   "cell_type": "code",
   "execution_count": null,
   "id": "305a1af0-f072-473e-8e87-2d4e445fd912",
   "metadata": {},
   "outputs": [],
   "source": [
    "models.all$tag <- paste0(models.all$features, \"to\", models.all$cg)\n",
    "my_models.all$tag <- paste0(my_models.all$features, \"to\", my_models.all$cg)"
   ]
  },
  {
   "cell_type": "code",
   "execution_count": null,
   "id": "8df0a4e2-56a6-4ff5-9b88-37476bd7e3aa",
   "metadata": {},
   "outputs": [],
   "source": [
    "my_models.all <- my_models.all[which(my_models.all$tag %in% models.all$tag), ]"
   ]
  },
  {
   "cell_type": "code",
   "execution_count": null,
   "id": "b7e93f39-314d-4cee-9e7c-a9f5001ba66b",
   "metadata": {},
   "outputs": [],
   "source": [
    "dim(my_models.all)"
   ]
  },
  {
   "cell_type": "code",
   "execution_count": null,
   "id": "bcf4893e-5657-4632-99a9-dd1f0e8711ba",
   "metadata": {},
   "outputs": [],
   "source": [
    "identical(models.all, my_models.all)"
   ]
  },
  {
   "cell_type": "code",
   "execution_count": null,
   "id": "ebf7c0b4-eb7d-479f-8a27-497c8e074a4e",
   "metadata": {},
   "outputs": [],
   "source": [
    "models.all_compare <- models.all[order(models.all$tag), ]\n",
    "my_models.all_compare <- my_models.all[order(my_models.all$tag), ]\n",
    "rownames(models.all_compare) <- NULL\n",
    "rownames(my_models.all_compare) <- NULL\n"
   ]
  },
  {
   "cell_type": "code",
   "execution_count": null,
   "id": "81d7310f-d4bc-41aa-a2a2-c3dfaa22cb8d",
   "metadata": {},
   "outputs": [],
   "source": [
    "my_models.all_compare <- as.data.frame(my_models.all_compare)"
   ]
  },
  {
   "cell_type": "code",
   "execution_count": null,
   "id": "50f69964-5ba4-48dd-a8b4-aec9c1ea4c70",
   "metadata": {},
   "outputs": [],
   "source": [
    "identical(models.all_compare, my_models.all_compare)"
   ]
  },
  {
   "cell_type": "code",
   "execution_count": null,
   "id": "23f64ac2-c5c2-47ab-9505-1f1e5d63f47d",
   "metadata": {},
   "outputs": [],
   "source": [
    "head(models.all_compare)"
   ]
  },
  {
   "cell_type": "code",
   "execution_count": null,
   "id": "80039800-2cee-4761-942d-c5bb60a17ee0",
   "metadata": {},
   "outputs": [],
   "source": [
    "head(my_models.all_compare)"
   ]
  },
  {
   "cell_type": "code",
   "execution_count": null,
   "id": "fc22c3c2-7ca2-4d1e-8079-557622acfc16",
   "metadata": {},
   "outputs": [],
   "source": [
    "models.all <- as.data.frame(my_models.all)"
   ]
  },
  {
   "cell_type": "markdown",
   "id": "beace15a-4985-43a6-b471-2f6af7e58fd3",
   "metadata": {},
   "source": [
    "### Make sure my old RDS pretty much matches up with what we have in the `my_models.all_compare` object."
   ]
  },
  {
   "cell_type": "code",
   "execution_count": null,
   "id": "c4c43b47-d87b-4e3a-8ce8-fb5c2bd53c07",
   "metadata": {},
   "outputs": [],
   "source": [
    "# df2 <- fread(\"12-OUT_matched_SNP_meth_cov_outputs.csv\")"
   ]
  },
  {
   "cell_type": "code",
   "execution_count": null,
   "id": "becbdc05-24c4-4ce4-b32b-394eda91d5f7",
   "metadata": {},
   "outputs": [],
   "source": [
    "# df2 <- df2[which(df2$Chr == 1 &\n",
    "#                  df2$population == \"all\" &\n",
    "#                  df2$region == \"caud\"), ]"
   ]
  },
  {
   "cell_type": "code",
   "execution_count": null,
   "id": "d25ebb2c-7e51-44e4-b6b8-cb3c8ba472dc",
   "metadata": {},
   "outputs": [],
   "source": [
    "test_in <- readRDS(\"..//output_EXPANSE_a2_caud/libd_chr1-chr1_all-libd_chr1-chr1_all-908982-928981-dynamic-1corestotal-allcorepera-20240416-172011.rds\")"
   ]
  },
  {
   "cell_type": "code",
   "execution_count": null,
   "id": "2b116bc4-2050-4ff9-90e9-41b7e9ac6758",
   "metadata": {},
   "outputs": [],
   "source": [
    "library(data.table)\n",
    "\n",
    "# Function to convert methylationScaff to a data frame\n",
    "convert_to_df <- function(methylationScaff) {\n",
    "  result <- rbindlist(\n",
    "    lapply(methylationScaff@models, function(model) {\n",
    "      data.table(\n",
    "        methylationPosition = rep(model@methylationPosition, length(model@snpWeights)),\n",
    "        snpWeightName = names(model@snpWeights),\n",
    "        snpWeight = model@snpWeights\n",
    "      )\n",
    "    }),\n",
    "    use.names = TRUE\n",
    "  )\n",
    "  return(result)\n",
    "}\n",
    "\n",
    "# Example usage\n",
    "# df <- convert_to_df(test_in)\n"
   ]
  },
  {
   "cell_type": "markdown",
   "id": "63210b57-eabf-43a6-b517-c9d2f049822c",
   "metadata": {},
   "source": [
    "#### Convert RDS to table we can compare"
   ]
  },
  {
   "cell_type": "code",
   "execution_count": null,
   "id": "85a1d829-e9a4-4fb0-8cc5-48adfef62037",
   "metadata": {},
   "outputs": [],
   "source": [
    "library(data.table)"
   ]
  },
  {
   "cell_type": "code",
   "execution_count": null,
   "id": "b7c8cc97-9d80-462a-8d3a-010bc36b68c6",
   "metadata": {},
   "outputs": [],
   "source": [
    "# Function to convert methylationScaff to a data frame\n",
    "convert_to_df <- function(methylationScaff) {\n",
    "  result <- rbindlist(\n",
    "    lapply(methylationScaff@models, function(model) {\n",
    "      data.table(\n",
    "        methylationPosition = rep(model@methylationPosition, length(model@snpWeights)),\n",
    "        snpWeightName = names(model@snpWeights),\n",
    "        snpWeight = model@snpWeights\n",
    "      )\n",
    "    }),\n",
    "    use.names = TRUE\n",
    "  )\n",
    "  return(result)\n",
    "}"
   ]
  },
  {
   "cell_type": "code",
   "execution_count": null,
   "id": "a01ff63b-d299-4583-aa8f-bd137c8ad05f",
   "metadata": {},
   "outputs": [],
   "source": [
    "# Example usage\n",
    "df3 <- convert_to_df(test_in)"
   ]
  },
  {
   "cell_type": "code",
   "execution_count": null,
   "id": "2f94edea-50a8-4fb1-b6db-1c417f098846",
   "metadata": {},
   "outputs": [],
   "source": [
    "df3$feature <- stringr::str_split_fixed(df3$snpWeightName, \":\", 3)[, 2]"
   ]
  },
  {
   "cell_type": "code",
   "execution_count": null,
   "id": "019e2a01-98fb-4291-9382-76db9e2dc5b6",
   "metadata": {},
   "outputs": [],
   "source": [
    "head(my_models.all_compare)"
   ]
  },
  {
   "cell_type": "code",
   "execution_count": null,
   "id": "b3134e28-40bb-4b2d-b152-d712c26ca31e",
   "metadata": {},
   "outputs": [],
   "source": [
    "colnames(df3) <- c(\"cg\", \"SNP\", \"original_CpGWAS_coefs\", \"features\")"
   ]
  },
  {
   "cell_type": "code",
   "execution_count": null,
   "id": "2f66fa3d-bf10-421c-8c3e-727c77f34b0a",
   "metadata": {},
   "outputs": [],
   "source": [
    "head(df3)"
   ]
  },
  {
   "cell_type": "code",
   "execution_count": null,
   "id": "0c18312b-cfe0-45f3-be55-9380c6c5fce6",
   "metadata": {},
   "outputs": [],
   "source": [
    "merged4 <- merge(my_models.all_compare, df3)"
   ]
  },
  {
   "cell_type": "code",
   "execution_count": null,
   "id": "cfd3f503-f475-4190-851b-7dddd53ab648",
   "metadata": {},
   "outputs": [],
   "source": [
    "library(ggplot2)\n",
    "\n",
    "# Scatter plot using ggplot2\n",
    "ggplot(merged4, aes(x = original_CpGWAS_coefs, y = coefs)) +\n",
    "  geom_point() +\n",
    "  labs(x = \"Original CpGWAS Coefficients\", y = \"Coefficients\") +\n",
    "  theme_minimal()"
   ]
  },
  {
   "cell_type": "markdown",
   "id": "13a0860f-e1b6-44ad-95ff-6afb3bcf2dfd",
   "metadata": {},
   "source": [
    "## Stage 2"
   ]
  },
  {
   "cell_type": "markdown",
   "id": "8d4de0d3-04f1-4df3-9a88-6763d7515a4e",
   "metadata": {},
   "source": [
    "#### Shizhong's version"
   ]
  },
  {
   "cell_type": "markdown",
   "id": "a6d3c56d-fd75-497a-b47a-11ddbde24159",
   "metadata": {},
   "source": [
    "#### Shizhong's version with my old RDS"
   ]
  },
  {
   "cell_type": "code",
   "execution_count": null,
   "id": "ad0d6d07-06f6-403d-8496-5dd34d8ba4b1",
   "metadata": {},
   "outputs": [],
   "source": [
    "if(!dir.exists(outd)) dir.create(outd)"
   ]
  },
  {
   "cell_type": "code",
   "execution_count": null,
   "id": "3030108b-0dec-4dc9-9055-3f046da6b55f",
   "metadata": {},
   "outputs": [],
   "source": [
    "models.all.oldrds <- df3"
   ]
  },
  {
   "cell_type": "code",
   "execution_count": null,
   "id": "b90d307f-6772-4f3a-9083-ded773e13619",
   "metadata": {},
   "outputs": [],
   "source": [
    "colnames(models.all.oldrds)[3] <- \"coefs\""
   ]
  },
  {
   "cell_type": "code",
   "execution_count": null,
   "id": "7ce13f85-9ccd-4c5c-8da4-223850b39a3e",
   "metadata": {},
   "outputs": [],
   "source": [
    "models.all.oldrds <- models.all.oldrds[, c(4, 3, 1, 2)]"
   ]
  },
  {
   "cell_type": "code",
   "execution_count": null,
   "id": "a6f940cc-0bc4-434d-be85-1ff6e4d095ae",
   "metadata": {},
   "outputs": [],
   "source": [
    "models.all.oldrds$cg <- as.integer(models.all.oldrds$cg)\n",
    "models.all.oldrds$coefs <- as.double(models.all.oldrds$coefs)\n",
    "models.all.oldrds$features <- as.character(models.all.oldrds$features)"
   ]
  },
  {
   "cell_type": "markdown",
   "id": "b1ac4ea7-e190-4564-9f33-ea8e0e0751b1",
   "metadata": {},
   "source": []
  },
  {
   "cell_type": "code",
   "execution_count": null,
   "id": "e591c3f3-9f83-41f0-ab10-27f2e5377b1f",
   "metadata": {},
   "outputs": [],
   "source": [
    "# mwas by models of all samples\n",
    "cg2 <- unique(models.all$cg) #Let's only run for cg sites found in notebook Shizhong test version\n",
    "print(cg2)\n",
    "mwas.all <- matrix(0,nrow=length(cg2),ncol=2)\n",
    "for(i in 1){\n",
    "#for(i in 1:length(cg2)){\n",
    "    print(i)\n",
    "    print(cg2[i])\n",
    "    pos <- models.all.oldrds[models.all.oldrds$cg == cg2[i],]$features\n",
    "    print(pos)\n",
    "    \n",
    "    gwas <- snp.gwas2$z[is.element(snp.gwas2$pos_hg38, pos)]\n",
    "    print(gwas)\n",
    "    weight <- models.all.oldrds[models.all.oldrds$cg == cg2[i],]$coefs\n",
    "    print(weight)\n",
    "    geno <- snp.1kg.eur2[match(pos,map.1kg.eur2$POS),]\n",
    "    print(geno)\n",
    "    mwas.all[i,] <- MWAS(gwas, weight, t(geno))\n",
    "}\n",
    "rownames(mwas.all) <- cg2\n",
    "colnames(mwas.all) <- c(\"z\",\"p\")"
   ]
  },
  {
   "cell_type": "markdown",
   "id": "f82a14c3-d8d5-469d-8252-a97d31fbc57f",
   "metadata": {},
   "source": [
    "Make sure `z` (`summary_stats_sub` in CpGWAS, `gwas` here) matches up"
   ]
  },
  {
   "cell_type": "code",
   "execution_count": null,
   "id": "5800e57e-540a-4cb3-a125-4cafbe09469e",
   "metadata": {},
   "outputs": [],
   "source": [
    "gwas"
   ]
  },
  {
   "cell_type": "markdown",
   "id": "8199c66d-236f-4531-a835-14e2faf8552f",
   "metadata": {},
   "source": [
    "Agreed. However, note that it is called BETA in CpGWAS and Z here."
   ]
  },
  {
   "cell_type": "code",
   "execution_count": null,
   "id": "7b669b4b-e8c3-4d5b-84de-0da07a93e701",
   "metadata": {},
   "outputs": [],
   "source": [
    "weight"
   ]
  },
  {
   "cell_type": "markdown",
   "id": "33e85e15-8144-4b27-b663-c20f1650d588",
   "metadata": {},
   "source": [
    "Cool. Geno?"
   ]
  },
  {
   "cell_type": "code",
   "execution_count": null,
   "id": "e783bd56-215e-4684-bffb-43a7f70155dc",
   "metadata": {},
   "outputs": [],
   "source": [
    "dim(geno)"
   ]
  },
  {
   "cell_type": "markdown",
   "id": "b7154af7-0b4d-4bf7-98aa-01fad7eab218",
   "metadata": {},
   "source": [
    "Geno looks ok but note appears transposed."
   ]
  },
  {
   "cell_type": "markdown",
   "id": "f13cb67f-c21a-4a6b-8e28-43430045c229",
   "metadata": {},
   "source": [
    "Inputs look ok...? Let's go inside `mwas` and walk through all the math."
   ]
  },
  {
   "cell_type": "markdown",
   "id": "75a410bc-9610-4500-a56a-e148a296d038",
   "metadata": {},
   "source": [
    "But first, let's sanity test to make sure we're getting different p-vals in two settings."
   ]
  },
  {
   "cell_type": "code",
   "execution_count": null,
   "id": "be47010a-8fa2-4c90-8102-340486c15f43",
   "metadata": {},
   "outputs": [],
   "source": [
    "mwas.all[1, ]"
   ]
  },
  {
   "cell_type": "markdown",
   "id": "2706a0a3-9179-4977-a42e-4e6266c2182e",
   "metadata": {},
   "source": [
    "Now let's try the version of code in Shizhong's notebook here."
   ]
  },
  {
   "cell_type": "code",
   "execution_count": null,
   "id": "6dd5286a-0ce1-4236-ba5f-e64bd20b383e",
   "metadata": {},
   "outputs": [],
   "source": [
    "z <- gwas %*% weight\n",
    "z.cor <- cor(t(geno))\n",
    "se <- sqrt(weight %*%  z.cor %*%  weight)\n",
    "z <- z/se\n",
    "p=pnorm(abs(z),lower.tail=F)*2\n",
    "p"
   ]
  },
  {
   "cell_type": "markdown",
   "id": "f5457809-d748-4f5e-bde3-6241b2787604",
   "metadata": {},
   "source": [
    "Let's try the version in `CpGWAS`m"
   ]
  },
  {
   "cell_type": "code",
   "execution_count": null,
   "id": "3b5ba840-516c-470c-af02-dfb6a3c42da6",
   "metadata": {},
   "outputs": [],
   "source": [
    "z = gwas\n",
    "w = weight\n",
    "G = t(geno)\n",
    "\n",
    "z <- z %*% w\n",
    "# compute correlation matrix of SNP matrix, which captures LD structure\n",
    "z.cor <- cor(G)\n",
    "# add small value to diagonal to avoid singular matrix\n",
    "#  which may otherwise happen if two SNPs in perfect LD\n",
    "z.cor <- z.cor + diag(dim(z.cor)[1])*0.1 \n",
    "# variance of correlated variables is weighted sum \n",
    "# multiplying w by corr matrix once gives a vector representing\n",
    "#. the variance of each individual SNP and the extent to which they are\n",
    "#. influenced by other SNPs. Multiplying again by w sums up pairwise contributions\n",
    "#. and reflects total variance of weighted sum.\n",
    "#. the first w is automatically transposed by R so we don't have to write t(w)\n",
    "se <- sqrt(w %*%  z.cor %*%  w)\n",
    "z <- z/se\n",
    "p <- pnorm(abs(z), lower.tail=F)*2\n",
    "p"
   ]
  },
  {
   "cell_type": "code",
   "execution_count": null,
   "id": "e6704594-b418-4d7a-a682-19bda6e8c794",
   "metadata": {},
   "outputs": [],
   "source": []
  },
  {
   "cell_type": "code",
   "execution_count": null,
   "id": "c3eedc8a-7aed-4ae2-8fa9-cb95b3b0383e",
   "metadata": {},
   "outputs": [],
   "source": []
  },
  {
   "cell_type": "code",
   "execution_count": null,
   "id": "2e6b32ab-7d5a-417e-907d-8ce1f733adf9",
   "metadata": {},
   "outputs": [],
   "source": [
    "# mwas by models of all samples\n",
    "cg2 <- unique(models.all$cg)\n",
    "mwas.all <- matrix(0,nrow=length(cg2),ncol=2)\n",
    "for(i in 1:length(cg2)){\n",
    "    pos <- models.all[models.all$cg == cg2[i],1]\n",
    "    \n",
    "    gwas <- snp.gwas2$z[is.element(snp.gwas2$pos_hg38, pos)]\n",
    "    weight <- models.all[models.all$cg == cg2[i],2]\n",
    "    geno <- snp.1kg.eur2[match(pos,map.1kg.eur2$POS),]\n",
    "    mwas.all[i,] <- MWAS(gwas, weight, t(geno))\n",
    "}\n",
    "rownames(mwas.all) <- cg2\n",
    "colnames(mwas.all) <- c(\"z\",\"p\")\n",
    "\n",
    "\n",
    "# mwas by models of EA samples\n",
    "cg2 <- unique(models.ea$cg)\n",
    "mwas.ea <- matrix(0,nrow=length(cg2),ncol=2)\n",
    "for(i in 1){\n",
    "#for(i in 1:length(cg2)){\n",
    "    pos <- models.ea[models.ea$cg == cg2[i],1]\n",
    "    gwas <- snp.gwas2$z[is.element(snp.gwas2$pos_hg38, pos)]\n",
    "    weight <- models.ea[models.ea$cg == cg2[i],2]\n",
    "    geno <- snp.1kg.eur2[match(pos,map.1kg.eur2$POS),]\n",
    "    mwas.ea[i,] <- MWAS(gwas, weight, t(geno))\n",
    "}\n",
    "rownames(mwas.ea) <- cg2\n",
    "colnames(mwas.ea) <- c(\"z\",\"p\")\n",
    "\n",
    "# output models and mwas results\n",
    "outf <- paste0(outd,\"/models-a10-covnew.all.wind.\",wind[k])\n",
    "write.csv(models.all.oldrds,outf)\n",
    "outf <- paste0(outd,\"/models-a10-covnew.ea.wind.\",wind[k])\n",
    "write.csv(models.ea,outf)\n",
    "outf <- paste0(outd,\"/mwas-a10-covnew.all.wind.\",wind[k])\n",
    "write.csv(mwas.all,outf)\n",
    "outf <- paste0(outd,\"/mwas-a10-covnew.ea.wind.\",wind[k])\n",
    "write.csv(mwas.ea,outf)"
   ]
  },
  {
   "cell_type": "code",
   "execution_count": null,
   "id": "a8494d48-810e-4f69-a08a-da8ea10524c1",
   "metadata": {},
   "outputs": [],
   "source": [
    "dim(gwas)"
   ]
  },
  {
   "cell_type": "code",
   "execution_count": null,
   "id": "66ed6535-463a-45d0-90e2-0790f9b09fe5",
   "metadata": {},
   "outputs": [],
   "source": [
    "mwas.all"
   ]
  },
  {
   "cell_type": "code",
   "execution_count": null,
   "id": "1692f8cf-cdd5-4d1c-9e2c-79c61a22a807",
   "metadata": {},
   "outputs": [],
   "source": []
  },
  {
   "cell_type": "code",
   "execution_count": null,
   "id": "a0cbcb8c-b60b-4db8-8e12-d4f1c4d5824e",
   "metadata": {},
   "outputs": [],
   "source": []
  },
  {
   "cell_type": "code",
   "execution_count": null,
   "id": "9d93bed4-8d0a-4fbf-868b-220b3273b8db",
   "metadata": {},
   "outputs": [],
   "source": []
  },
  {
   "cell_type": "code",
   "execution_count": null,
   "id": "f3059c2c-3ef1-44b2-8c58-f62465bec491",
   "metadata": {},
   "outputs": [],
   "source": [
    "mwas.all"
   ]
  },
  {
   "cell_type": "markdown",
   "id": "a069bb7c-72ec-4769-a6de-a8879ee39c35",
   "metadata": {},
   "source": [
    "##### Very verbose"
   ]
  },
  {
   "cell_type": "code",
   "execution_count": null,
   "id": "6fd84bcd-d876-44a1-ae3f-db006ade4dcc",
   "metadata": {},
   "outputs": [],
   "source": [
    "pos"
   ]
  },
  {
   "cell_type": "code",
   "execution_count": null,
   "id": "e38f7f86-c7d1-4243-bd49-5b57483880a0",
   "metadata": {},
   "outputs": [],
   "source": [
    "# mwas by models of all samples\n",
    "cg2 <- unique(models.all$cg)\n",
    "mwas.all <- matrix(0, nrow = length(cg2), ncol = 2)\n",
    "cat(\"Dimensions of relevant objects:\\n\")\n",
    "cat(\"models.all:\", dim(models.all), \"\\n\")\n",
    "cat(\"snp.gwas2:\", dim(snp.gwas2), \"\\n\")\n",
    "cat(\"map.1kg.eur2:\", dim(map.1kg.eur2), \"\\n\")\n",
    "cat(\"snp.1kg.eur2:\", dim(snp.1kg.eur2), \"\\n\\n\")\n",
    "\n",
    "for (i in 1:length(cg2)) {\n",
    "    pos <- models.all[models.all$cg == cg2[i], 1]\n",
    "    gwas <- snp.gwas2$z[is.element(snp.gwas2$pos_hg38, pos)]\n",
    "    weight <- models.all[models.all$cg == cg2[i], 2]\n",
    "    match_indices <- match(pos, map.1kg.eur2$POS)\n",
    "    \n",
    "    cat(\"Iteration:\", i, \"\\n\")\n",
    "    cat(\"Current CG:\", cg2[i], \"\\n\")\n",
    "    cat(\"Positions:\\n\")\n",
    "    print(head(pos))\n",
    "    cat(\"GWAS Z-scores:\\n\")\n",
    "    print(head(gwas))\n",
    "    cat(\"Weights:\\n\")\n",
    "    print(head(weight))\n",
    "    cat(\"Matching Indices:\\n\")\n",
    "    print(head(match_indices))\n",
    "    \n",
    "    tryCatch({\n",
    "        if (any(is.na(match_indices))) stop(\"NA values found in match_indices\")\n",
    "        if (any(match_indices > nrow(snp.1kg.eur2))) stop(\"Out of bounds indices found\")\n",
    "    }, error = function(e) {\n",
    "        cat(\"Error detected:\", e$message, \"\\n\")\n",
    "        cat(\"Dimensions of relevant objects at error detection:\\n\")\n",
    "        cat(\"models.all:\", dim(models.all), \"\\n\")\n",
    "        cat(\"snp.gwas2:\", dim(snp.gwas2), \"\\n\")\n",
    "        cat(\"map.1kg.eur2:\", dim(map.1kg.eur2), \"\\n\")\n",
    "        cat(\"snp.1kg.eur2:\", dim(snp.1kg.eur2), \"\\n\")\n",
    "        cat(\"Positions causing error:\\n\")\n",
    "        print(pos)\n",
    "        cat(\"Matching Indices causing error:\\n\")\n",
    "        print(match_indices)\n",
    "        stop(\"Stopping execution due to error.\")\n",
    "    })\n",
    "    \n",
    "    geno <- NULL\n",
    "    tryCatch({\n",
    "        geno <- snp.1kg.eur2[match_indices, ]\n",
    "    }, error = function(e) {\n",
    "        cat(\"Error accessing genotype data at iteration:\", i, \"\\n\")\n",
    "        cat(\"Error message:\", e$message, \"\\n\")\n",
    "        stop(\"Stopping execution due to error.\")\n",
    "    })\n",
    "    \n",
    "    cat(\"Genotype Data:\\n\")\n",
    "    print(head(geno))\n",
    "    tryCatch({\n",
    "        mwas.all[i, ] <- MWAS(gwas, weight, t(geno))\n",
    "        cat(\"MWAS Results (z, p):\\n\")\n",
    "        print(mwas.all[i, ])\n",
    "        cat(\"\\n\")\n",
    "    }, error = function(e) {\n",
    "        cat(\"Error performing MWAS at iteration:\", i, \"\\n\")\n",
    "        cat(\"Error message:\", e$message, \"\\n\")\n",
    "        stop(\"Stopping execution due to error.\")\n",
    "    })\n",
    "}\n",
    "rownames(mwas.all) <- cg2\n",
    "colnames(mwas.all) <- c(\"z\", \"p\")\n",
    "\n",
    "# mwas by models of EA samples\n",
    "cg2 <- unique(models.ea$cg)\n",
    "mwas.ea <- matrix(0, nrow = length(cg2), ncol = 2)\n",
    "cat(\"Dimensions of relevant objects:\\n\")\n",
    "cat(\"models.ea:\", dim(models.ea), \"\\n\")\n",
    "cat(\"snp.gwas2:\", dim(snp.gwas2), \"\\n\")\n",
    "cat(\"map.1kg.eur2:\", dim(map.1kg.eur2), \"\\n\")\n",
    "cat(\"snp.1kg.eur2:\", dim(snp.1kg.eur2), \"\\n\\n\")\n",
    "\n",
    "for (i in 1:length(cg2)) {\n",
    "    pos <- models.ea[models.ea$cg == cg2[i], 1]\n",
    "    gwas <- snp.gwas2$z[is.element(snp.gwas2$pos_hg38, pos)]\n",
    "    weight <- models.ea[models.ea$cg == cg2[i], 2]\n",
    "    match_indices <- match(pos, map.1kg.eur2$POS)\n",
    "    \n",
    "    cat(\"Iteration:\", i, \"\\n\")\n",
    "    cat(\"Current CG:\", cg2[i], \"\\n\")\n",
    "    cat(\"Positions:\\n\")\n",
    "    print(head(pos))\n",
    "    cat(\"GWAS Z-scores:\\n\")\n",
    "    print(head(gwas))\n",
    "    cat(\"Weights:\\n\")\n",
    "    print(head(weight))\n",
    "    cat(\"Matching Indices:\\n\")\n",
    "    print(head(match_indices))\n",
    "    \n",
    "    tryCatch({\n",
    "        if (any(is.na(match_indices))) stop(\"NA values found in match_indices\")\n",
    "        if (any(match_indices > nrow(snp.1kg.eur2))) stop(\"Out of bounds indices found\")\n",
    "    }, error = function(e) {\n",
    "        cat(\"Error detected:\", e$message, \"\\n\")\n",
    "        cat(\"Dimensions of relevant objects at error detection:\\n\")\n",
    "        cat(\"models.ea:\", dim(models.ea), \"\\n\")\n",
    "        cat(\"snp.gwas2:\", dim(snp.gwas2), \"\\n\")\n",
    "        cat(\"map.1kg.eur2:\", dim(map.1kg.eur2), \"\\n\")\n",
    "        cat(\"snp.1kg.eur2:\", dim(snp.1kg.eur2), \"\\n\")\n",
    "        cat(\"Positions causing error:\\n\")\n",
    "        print(pos)\n",
    "        cat(\"Matching Indices causing error:\\n\")\n",
    "        print(match_indices)\n",
    "        stop(\"Stopping execution due to error.\")\n",
    "    })\n",
    "    \n",
    "    geno <- NULL\n",
    "    tryCatch({\n",
    "        geno <- snp.1kg.eur2[match_indices, ]\n",
    "    }, error = function(e) {\n",
    "        cat(\"Error accessing genotype data at iteration:\", i, \"\\n\")\n",
    "        cat(\"Error message:\", e$message, \"\\n\")\n",
    "        stop(\"Stopping execution due to error.\")\n",
    "    })\n",
    "    \n",
    "    cat(\"Genotype Data:\\n\")\n",
    "    print(head(geno))\n",
    "    tryCatch({\n",
    "        mwas.ea[i, ] <- MWAS(gwas, weight, t(geno))\n",
    "        cat(\"MWAS Results (z, p):\\n\")\n",
    "        print(mwas.ea[i, ])\n",
    "        cat(\"\\n\")\n",
    "    }, error = function(e) {\n",
    "        cat(\"Error performing MWAS at iteration:\", i, \"\\n\")\n",
    "        cat(\"Error message:\", e$message, \"\\n\")\n",
    "        stop(\"Stopping execution due to error.\")\n",
    "    })\n",
    "}\n",
    "rownames(mwas.ea) <- cg2\n",
    "colnames(mwas.ea) <- c(\"z\", \"p\")\n"
   ]
  },
  {
   "cell_type": "markdown",
   "id": "53985d06-9051-4128-8517-bb9e07e78d82",
   "metadata": {},
   "source": [
    "#### My version"
   ]
  },
  {
   "cell_type": "code",
   "execution_count": null,
   "id": "16746f1e-d2b4-45b7-9370-734bc6ff695d",
   "metadata": {},
   "outputs": [],
   "source": [
    "# # Script C: script_C.R\n",
    "# library(CpGWAS)\n",
    "# library(data.table)\n",
    "# library(stringr)\n",
    "# library(optparse)\n",
    "\n",
    "# # Command line options\n",
    "# option_list <- list(\n",
    "#   make_option(c(\"-g\", \"--genome_file_index\"), type = \"integer\", default = 1,\n",
    "#               help = \"Index of genome file to process\"),\n",
    "#   make_option(c(\"-d\", \"--data_file\"), type = \"character\", default = \"/expanse/lustre/projects/jhu152/naglemi/mwas/CpGWAS/scripts/12-OUT_matched_SNP_meth_cov_outputs.csv\",\n",
    "#               help = \"Path to data file\")\n",
    "# )\n",
    "\n",
    "# opt <- parse_args(OptionParser(option_list = option_list))\n",
    "\n",
    "# # Load genome files\n",
    "# genome_files <- list.files(\"/expanse/lustre/projects/jhu152/naglemi/mwas/gwas\",\n",
    "#                            pattern = \"EUR\", full.names = TRUE)\n",
    "# genome_files <- genome_files[grepl(\"pvar\", genome_files)]\n",
    "\n",
    "# genome_files <- data.table(path = genome_files, Chr = NA)\n",
    "\n",
    "# genome_files$Chr <- str_split_fixed(genome_files$path, \"chr\", 2)[, 2]\n",
    "# genome_files$Chr <- gsub(\".pvar\", \"\", genome_files$Chr)\n",
    "\n",
    "# genome_files$Chr <- as.integer(genome_files$Chr)\n",
    "# genome_files <- genome_files[order(genome_files$Chr), ]\n",
    "\n",
    "# df <- fread(opt$data_file)"
   ]
  },
  {
   "cell_type": "code",
   "execution_count": null,
   "id": "daefcff8-738f-4e8b-a74d-17a6e6530b1e",
   "metadata": {},
   "outputs": [],
   "source": [
    "summary_stats_list <- \"/home/naglemi/mwas/gwas/gwas_stat_scz\"\n",
    "\n",
    "# Pre-load all summary stats files into a list and clean/standardize column names\n",
    "summary_stats_data <- lapply(summary_stats_list, function(path) {\n",
    "  stats <- suppressWarnings(data.table::fread(path))\n",
    "  colnames(stats) <- gsub(\"#CHROM\", \"CHR\", colnames(stats))\n",
    "  clean_and_standardize_colnames(stats)\n",
    "})"
   ]
  },
  {
   "cell_type": "code",
   "execution_count": null,
   "id": "b1a2508e-bd08-4657-b659-64a9ec95add9",
   "metadata": {},
   "outputs": [],
   "source": [
    "# print(\"Starting genome file processing\")\n",
    "# # Process the specified genome file\n",
    "# g <- opt$genome_file_index\n",
    "# print(paste(\"Processing genome file index:\", g))\n",
    "\n",
    "# paths <- list(\n",
    "#   pvar_path = genome_files[g]$path,\n",
    "#   pgen_path = gsub(\"pvar\", \"pgen\", genome_files[g]$path),\n",
    "#   psam_path = gsub(\"pvar\", \"psam\", genome_files[g]$path)\n",
    "# )\n",
    "\n",
    "# my_SNPs <- CpGWAS::loadSNPData(paths$pvar_path, paths$pgen_path, paths$psam_path)"
   ]
  },
  {
   "cell_type": "code",
   "execution_count": null,
   "id": "89ac4501-c6f7-4914-ac80-62699cedb0f3",
   "metadata": {},
   "outputs": [],
   "source": [
    "paths <- list(pvar_path = \"/expanse/lustre/projects/jhu152/naglemi/mwas/gwas/ref_EUR_chr1.pvar\",\n",
    "              pgen_path = \"/expanse/lustre/projects/jhu152/naglemi/mwas/gwas/ref_EUR_chr1.pgen\",\n",
    "              psam_path = \"/expanse/lustre/projects/jhu152/naglemi/mwas/gwas/ref_EUR_chr1.psam\")\n",
    "\n",
    "my_SNPs <- loadSNPData(paths$pvar_path, paths$pgen_path, paths$psam_path)\n",
    "\n",
    "snp_indices_of_interest <- which(my_SNPs$pvar_dt$POS >= 73274305-20000 & my_SNPs$pvar_dt$POS <= 73419830 + 20000)"
   ]
  },
  {
   "cell_type": "code",
   "execution_count": null,
   "id": "8f3535cb-cdf8-4aa3-b809-4fe82e3f7b0b",
   "metadata": {},
   "outputs": [],
   "source": [
    "df <- fread(\"12-OUT_matched_SNP_meth_cov_outputs.csv\")"
   ]
  },
  {
   "cell_type": "code",
   "execution_count": null,
   "id": "8186e177-ed64-4522-9981-4fe3b2e2b2bc",
   "metadata": {},
   "outputs": [],
   "source": [
    "df <- df[which(df$region == \"caud\" & df$population == \"all\"), ]"
   ]
  },
  {
   "cell_type": "code",
   "execution_count": null,
   "id": "b9e7cf7f-93bb-4a5d-900d-a2dcc29abdd0",
   "metadata": {},
   "outputs": [],
   "source": [
    "df <- df[which(df$chunk_start <= min(sites_to_test) &\n",
    "         df$chunk_end >= max(sites_to_test)), ]"
   ]
  },
  {
   "cell_type": "code",
   "execution_count": null,
   "id": "83d607ac-9d64-4ba1-ba03-7aca7102bec8",
   "metadata": {},
   "outputs": [],
   "source": [
    "df <- df[which(df$Chr == \"1\")]"
   ]
  },
  {
   "cell_type": "code",
   "execution_count": null,
   "id": "cb1af33d-75d3-468a-a504-ad37cfec1936",
   "metadata": {},
   "outputs": [],
   "source": [
    "getwd()"
   ]
  },
  {
   "cell_type": "code",
   "execution_count": null,
   "id": "f79f1d8e-5889-42df-8701-bbe189f76d52",
   "metadata": {},
   "outputs": [],
   "source": [
    "df"
   ]
  },
  {
   "cell_type": "code",
   "execution_count": null,
   "id": "76f6c3a2-1073-4140-bdec-46500202c4e8",
   "metadata": {},
   "outputs": [],
   "source": [
    "df <- df[1, ]"
   ]
  },
  {
   "cell_type": "code",
   "execution_count": null,
   "id": "25a36edb-6d1e-449e-b9ea-20da25083be7",
   "metadata": {},
   "outputs": [],
   "source": [
    "df_this_chr <- df"
   ]
  },
  {
   "cell_type": "code",
   "execution_count": null,
   "id": "5107d374-81bf-4d72-bb42-a4333af52ec3",
   "metadata": {},
   "outputs": [],
   "source": [
    "summary_stats_list"
   ]
  },
  {
   "cell_type": "code",
   "execution_count": null,
   "id": "72e944c1-475e-48c0-9da4-6a3200ec4a77",
   "metadata": {},
   "outputs": [],
   "source": [
    "summary_stats_data <- lapply(summary_stats_data, function(stats) stats[`CHR` == 1])\n",
    "\n",
    "print(\"Loaded SNP data\")\n",
    "print(\"Files for this Chr:\")\n",
    "print(nrow(df_this_chr))\n",
    "for(j in 1:nrow(df_this_chr)){\n",
    "  print(paste0(\"File number: \", j))\n",
    "  if (grepl(\"empty\", df_this_chr$path[j])) {\n",
    "    message(paste0(\"no model for \", df_this_chr$path[j]))\n",
    "    next\n",
    "  }\n",
    "  #\n",
    "  my_rds <- tryCatch({\n",
    "    readRDS(df_this_chr$path[j])\n",
    "  }, error = function(e) {\n",
    "    # Print an error message and skip this iteration\n",
    "    message(\"ALERT!!! Error reading RDS file: \", e$message)\n",
    "    return(NULL)  # Return NULL to signal failure\n",
    "  })\n",
    "    \n",
    "  # Check if the readRDS call returned NULL (which indicates an error)\n",
    "  if (is.null(my_rds)) {\n",
    "    stop(\"oops\")\n",
    "    next  # Skip the rest of this loop iteration\n",
    "  }\n",
    "\n",
    "  print(paste(\"Loaded RDS file:\", df_this_chr$path[j]))\n",
    "\n",
    "  for (k in 1:length(summary_stats_list)) {\n",
    "    print(paste0(\"k is \", k))\n",
    "    outname <- \"20-OUT_MWAS_debug_stage2_results.rds\"\n",
    "    #if(file.exists(outname)) next\n",
    "    summary_stats <- summary_stats_data[[k]]\n",
    "    print(\"head of summary stats before clean:\")\n",
    "    print(head(summary_stats))\n",
    "\n",
    "    MWASmodels <- vector(\"list\", length(my_rds@models))\n",
    "    if (is.null(summary_stats)) {\n",
    "      summary_stats <- suppressWarnings(fread(summary_stats_list[[k]]))\n",
    "      summary_stats <- clean_and_standardize_colnames(summary_stats)\n",
    "    }\n",
    "    print(\"head of summary stats after clean:\")\n",
    "    print(head(summary_stats))\n",
    "      \n",
    "    for (i in seq_along(my_rds@models)) {\n",
    "      #print(i)\n",
    "      this_MethylationBase <- my_rds@models[[i]]\n",
    "      SNP_split <- stringr::str_split_fixed(names(this_MethylationBase@snpWeights), \":\", 4)\n",
    "      SNP_split[, 1] <- gsub(\"chr\", \"\", SNP_split[, 1])\n",
    "      SNP_split_dt <- data.table::as.data.table(SNP_split)\n",
    "      data.table::setnames(SNP_split_dt, c(\"chr\", \"post\", \"ref\", \"alt\"))\n",
    "      SNP_split_dt[, `:=`(chr = as.integer(chr), post = as.integer(post))]\n",
    "      data.table::setkey(SNP_split_dt, chr, post)\n",
    "\n",
    "      relevant_SNP_indices <- my_SNPs$pvar_dt[SNP_split_dt, on = .(`#CHROM` = chr, POS = post), which = TRUE, nomatch = 0]\n",
    "      relevant_ids <- my_SNPs$pvar_dt$ID[relevant_SNP_indices]\n",
    "      summary_stats_sub <- summary_stats[relevant_ids, nomatch = 0]\n",
    "\n",
    "      if (!identical(summary_stats_sub$BP, SNP_split_dt$post)) {\n",
    "        summary_stats_sub <- summary_stats_sub[order(summary_stats_sub$BP), ]\n",
    "        if (!identical(summary_stats_sub$BP, SNP_split_dt$post)) {\n",
    "          unmatched_positions <- !SNP_split_dt$post %in% summary_stats_sub$BP\n",
    "          if (any(unmatched_positions)) {\n",
    "            SNP_split_dt <- SNP_split_dt[!unmatched_positions, ]\n",
    "            this_MethylationBase@snpWeights <- this_MethylationBase@snpWeights[!unmatched_positions]\n",
    "\n",
    "            relevant_SNP_indices <- my_SNPs$pvar_dt[SNP_split_dt, on = .(`#CHROM` = chr, POS = post), which = TRUE, nomatch = 0]\n",
    "            if (!identical(summary_stats_sub$BP, SNP_split_dt$post)) {\n",
    "              stop(\"SNP order does not match even after removing unmatched positions. This should not happen. Code is broken.\")\n",
    "            }\n",
    "          }\n",
    "        }\n",
    "      }\n",
    "\n",
    "      if (!identical(SNP_split_dt$alt, summary_stats_sub$A2) | !identical(SNP_split_dt$ref, summary_stats_sub$A1)) {\n",
    "        not_matching <- which(SNP_split_dt$alt != summary_stats_sub$A2)\n",
    "        summary_stats_ref_flipped <- SNP_split_dt$ref[not_matching]\n",
    "        summary_stats_alt_flipped <- SNP_split_dt$alt[not_matching]\n",
    "        SNP_split_dt[not_matching, `:=`(ref = summary_stats_alt_flipped, alt = summary_stats_ref_flipped)]\n",
    "        this_MethylationBase@snpWeights[not_matching] <- this_MethylationBase@snpWeights[not_matching] * -1\n",
    "      }\n",
    "\n",
    "      G <- pgenlibr::ReadList(my_SNPs$pgen, variant_subset = relevant_SNP_indices)\n",
    "      #print(paste(\"Performing MWAS for model index:\", i))\n",
    "      mwas_out <- mwas(z = summary_stats_sub$BETA, w = this_MethylationBase@snpWeights, G = G)\n",
    "\n",
    "      MWASmodels[[i]] <- mwas_out\n",
    "    }\n",
    "\n",
    "    results <- MWASresults(MWASmodels, paths$pvar_path, paths$pgen_path, paths$psam_path, summary_stats_list[[k]], df_this_chr$path[j])\n",
    "    saveRDS(results, outname)\n",
    "    print(paste(\"Saved results to:\", outname))\n",
    "  }\n",
    "}"
   ]
  },
  {
   "cell_type": "markdown",
   "id": "cacd85e4-647f-4059-845a-7a82369fd985",
   "metadata": {},
   "source": [
    "### Compare results"
   ]
  },
  {
   "cell_type": "markdown",
   "id": "3187d108-dcc6-4a04-a983-06da2e5e7953",
   "metadata": {},
   "source": [
    "#### My code, new RDS from scratch"
   ]
  },
  {
   "cell_type": "code",
   "execution_count": null,
   "id": "4ea9deda-7ea6-4ac7-9c7f-83cab4948c47",
   "metadata": {},
   "outputs": [],
   "source": [
    "my_results <- readRDS(\"20-OUT_MWAS_debug_stage2_results.rds\")"
   ]
  },
  {
   "cell_type": "code",
   "execution_count": null,
   "id": "823e5a85-8ba3-45af-8e9c-d7df6a1e1ba4",
   "metadata": {},
   "outputs": [],
   "source": [
    "names(attributes(my_results))"
   ]
  },
  {
   "cell_type": "code",
   "execution_count": null,
   "id": "0faf6be4-ac1a-470f-92f8-59ef5eb3eee3",
   "metadata": {},
   "outputs": [],
   "source": [
    "length(my_results@MWASmodels)"
   ]
  },
  {
   "cell_type": "code",
   "execution_count": null,
   "id": "55f9f6e5-d09e-443d-b07f-8ae2848383be",
   "metadata": {},
   "outputs": [],
   "source": [
    "my_results@MWASmodels[[4]]"
   ]
  },
  {
   "cell_type": "code",
   "execution_count": null,
   "id": "9d8b4bc5-1706-44e0-a1ac-286a3c0ac058",
   "metadata": {},
   "outputs": [],
   "source": [
    "trait <- \"scz\"\n",
    "df$stage2_paths <- \"20-OUT_MWAS_debug_stage2_results.rds\"\n",
    "#df$final_paths <- vector(\"list\", length(df$stage2_paths))"
   ]
  },
  {
   "cell_type": "code",
   "execution_count": null,
   "id": "1423e66f-079a-4bca-a1fc-8e5f8b7d7471",
   "metadata": {},
   "outputs": [],
   "source": [
    "message(\"Processing trait: \", trait)\n",
    "#df$final_paths <- paste0(df$stage2_paths, trait, \"_results.rds\")\n",
    "output_file <- \"20-OUT_MWAS_debug_stage2_results.csv\"\n",
    "header_written <- FALSE"
   ]
  },
  {
   "cell_type": "code",
   "execution_count": null,
   "id": "8866d0c9-d102-4516-a352-89ec53f2b2bc",
   "metadata": {},
   "outputs": [],
   "source": [
    "i <- 1"
   ]
  },
  {
   "cell_type": "code",
   "execution_count": null,
   "id": "ac0e715e-9459-4a12-8107-a984480d11e2",
   "metadata": {},
   "outputs": [],
   "source": [
    "df_this_chr"
   ]
  },
  {
   "cell_type": "code",
   "execution_count": null,
   "id": "bcffe7e7-5bf6-40a6-b85a-d883e2b1d799",
   "metadata": {},
   "outputs": [],
   "source": [
    "stage2_in <- my_results\n",
    "stage1_in <- readRDS(df$path[i])"
   ]
  },
  {
   "cell_type": "code",
   "execution_count": null,
   "id": "b108fde9-e688-4afa-9e94-8f523d60ac87",
   "metadata": {},
   "outputs": [],
   "source": [
    "if (length(stage1_in@models) != length(stage2_in@MWASmodels)) {\n",
    "    stop(\"Files don't match\")\n",
    "}\n",
    "\n",
    "data_list <- vector(\"list\", length(stage1_in@models))\n",
    "for (j in seq_along(stage1_in@models)) {\n",
    "    model1 <- stage1_in@models[[j]]\n",
    "    model2 <- stage2_in@MWASmodels[[j]]\n",
    "\n",
    "    data_list[[j]] <- data.table(\n",
    "        z = model2[\"z\"],\n",
    "        p = model2[\"p\"],\n",
    "        n = model2[\"n\"],\n",
    "        pos = model1@methylationPosition,\n",
    "        stats = stage2_in@summary_stats_path,\n",
    "        scaff = stage1_in@scaffoldIdentifier\n",
    "    )\n",
    "}\n",
    "\n",
    "combined_data <- rbindlist(data_list, use.names = TRUE, fill = TRUE)\n",
    "\n",
    "# Write data incrementally\n",
    "if (!header_written) {\n",
    "    fwrite(combined_data, output_file)\n",
    "    header_written <- TRUE\n",
    "} else {\n",
    "    fwrite(combined_data, output_file, append = TRUE)\n",
    "}"
   ]
  },
  {
   "cell_type": "code",
   "execution_count": null,
   "id": "02dcbd07-834d-44d0-a0b9-0c39f6049870",
   "metadata": {},
   "outputs": [],
   "source": [
    "combined_data[which(combined_data$pos %in% rownames(mwas.all)), ]"
   ]
  },
  {
   "cell_type": "markdown",
   "id": "2e166352-c56e-4cca-99b8-6a69e4ac5a15",
   "metadata": {},
   "source": [
    "#### My code, old RDS saved on EXPANSE"
   ]
  },
  {
   "cell_type": "code",
   "execution_count": null,
   "id": "229fbf61-f1cc-4b42-bcbf-a940af1d11cd",
   "metadata": {},
   "outputs": [],
   "source": [
    "my_results <- readRDS(\"20-OUT_MWAS_debug_stage2_results-oldrds.rds\")"
   ]
  },
  {
   "cell_type": "code",
   "execution_count": null,
   "id": "de210c97-a6d9-4052-a846-a22adcf0d9c2",
   "metadata": {},
   "outputs": [],
   "source": [
    "trait <- \"scz\"\n",
    "df$stage2_paths <- \"20-OUT_MWAS_debug_stage2_results-oldrds.rds\"\n",
    "#df$final_paths <- vector(\"list\", length(df$stage2_paths))"
   ]
  },
  {
   "cell_type": "code",
   "execution_count": null,
   "id": "fc61c962-4d44-48c8-8c33-2001852169b0",
   "metadata": {},
   "outputs": [],
   "source": [
    "message(\"Processing trait: \", trait)\n",
    "#df$final_paths <- paste0(df$stage2_paths, trait, \"_results.rds\")\n",
    "output_file <- \"20-OUT_MWAS_debug_stage2_results-oldrds.rds\"\n",
    "header_written <- FALSE"
   ]
  },
  {
   "cell_type": "code",
   "execution_count": null,
   "id": "3975e4a0-c577-465a-890b-ebe93948e283",
   "metadata": {},
   "outputs": [],
   "source": [
    "i <- 1"
   ]
  },
  {
   "cell_type": "code",
   "execution_count": null,
   "id": "ef4d27d3-af82-49cd-9729-18886cebad1c",
   "metadata": {},
   "outputs": [],
   "source": [
    "stage2_in <- my_results\n",
    "stage1_in <- readRDS(df$path[i])"
   ]
  },
  {
   "cell_type": "code",
   "execution_count": null,
   "id": "5360833f-8dec-4b33-b553-d9f2ac44fd78",
   "metadata": {},
   "outputs": [],
   "source": [
    "if (length(stage1_in@models) != length(stage2_in@MWASmodels)) {\n",
    "    stop(\"Files don't match\")\n",
    "}\n",
    "\n",
    "data_list <- vector(\"list\", length(stage1_in@models))\n",
    "for (j in seq_along(stage1_in@models)) {\n",
    "    model1 <- stage1_in@models[[j]]\n",
    "    model2 <- stage2_in@MWASmodels[[j]]\n",
    "\n",
    "    data_list[[j]] <- data.table(\n",
    "        z = model2[\"z\"],\n",
    "        p = model2[\"p\"],\n",
    "        n = model2[\"n\"],\n",
    "        pos = model1@methylationPosition,\n",
    "        stats = stage2_in@summary_stats_path,\n",
    "        scaff = stage1_in@scaffoldIdentifier\n",
    "    )\n",
    "}\n",
    "\n",
    "combined_data2 <- rbindlist(data_list, use.names = TRUE, fill = TRUE)\n",
    "\n",
    "# Write data incrementally\n",
    "if (!header_written) {\n",
    "    fwrite(combined_data2, output_file)\n",
    "    header_written <- TRUE\n",
    "} else {\n",
    "    fwrite(combined_data2, output_file, append = TRUE)\n",
    "}"
   ]
  },
  {
   "cell_type": "code",
   "execution_count": null,
   "id": "c984283a-fff2-4e35-bd23-b1a6522a357b",
   "metadata": {},
   "outputs": [],
   "source": [
    "combined_data[which(combined_data$pos %in% rownames(mwas.all)), ]"
   ]
  },
  {
   "cell_type": "code",
   "execution_count": null,
   "id": "d09f493a-a3a1-4eba-b4fa-ba884c88b5f6",
   "metadata": {},
   "outputs": [],
   "source": [
    "combined_data2[which(combined_data2$pos %in% rownames(mwas.all)), ]"
   ]
  },
  {
   "cell_type": "code",
   "execution_count": null,
   "id": "b49913a0-3cf6-42b9-b268-4fa9d1f03067",
   "metadata": {},
   "outputs": [],
   "source": [
    "mwas.all"
   ]
  },
  {
   "cell_type": "code",
   "execution_count": null,
   "id": "0a060d59-bf2b-443b-9a78-4a59f839c75b",
   "metadata": {},
   "outputs": [],
   "source": []
  },
  {
   "cell_type": "markdown",
   "id": "ce845b8d-f0f2-4987-9f1f-6ef5b14bc41e",
   "metadata": {},
   "source": [
    "## Compare with results from CpGWAS"
   ]
  },
  {
   "cell_type": "code",
   "execution_count": null,
   "id": "810eff80-3596-4398-9697-713d21637b5a",
   "metadata": {},
   "outputs": [],
   "source": [
    "results <- fread(\"16a9par-OUT_stage2_MWAS_scz.csv\")"
   ]
  },
  {
   "cell_type": "code",
   "execution_count": null,
   "id": "f8807593-3300-4288-b90f-e1648b521dc0",
   "metadata": {},
   "outputs": [],
   "source": [
    "smallerdata <- results[which(results$p < 10^-200), ]"
   ]
  },
  {
   "cell_type": "code",
   "execution_count": null,
   "id": "2439231d-7f4f-454b-80ff-d7fa3c7a49ce",
   "metadata": {},
   "outputs": [],
   "source": [
    "dim(smallerdata)"
   ]
  },
  {
   "cell_type": "code",
   "execution_count": null,
   "id": "e4efa952-b046-455a-a2b8-d2635dfa36eb",
   "metadata": {},
   "outputs": [],
   "source": [
    "dim(smallerdata)"
   ]
  },
  {
   "cell_type": "code",
   "execution_count": null,
   "id": "b5bb26fa-6766-47c8-b317-efb1129c2e48",
   "metadata": {},
   "outputs": [],
   "source": [
    "table(smallerdata$population, smallerdata$region)"
   ]
  },
  {
   "cell_type": "code",
   "execution_count": null,
   "id": "f13f65d0-8d4b-4e9b-b838-e9116e0ca2cf",
   "metadata": {},
   "outputs": [],
   "source": [
    "smallerdata_matching_pos <- smallerdata[which(smallerdata$chr == 1 & smallerdata$pos >= 73418062 & smallerdata$pos <= 73418313), ]"
   ]
  },
  {
   "cell_type": "code",
   "execution_count": null,
   "id": "11bb67e0-dfb5-4ebb-a48f-2cd9b8202e70",
   "metadata": {},
   "outputs": [],
   "source": [
    "smallerdata_matching_pos"
   ]
  },
  {
   "cell_type": "code",
   "execution_count": null,
   "id": "9ba1c70d-6880-4bbb-9b53-20ab68c74d49",
   "metadata": {},
   "outputs": [],
   "source": [
    "smallerdata_matching_pos <- smallerdata[which(smallerdata$population == \"all\" & smallerdata$region == \"caud\"), ]"
   ]
  },
  {
   "cell_type": "code",
   "execution_count": null,
   "id": "3f404584-a724-4211-8241-5a11bf0db404",
   "metadata": {},
   "outputs": [],
   "source": [
    "smallerdata_matching_pos"
   ]
  },
  {
   "cell_type": "code",
   "execution_count": null,
   "id": "dd12561d-8faf-4f40-a760-beb122f3655d",
   "metadata": {},
   "outputs": [],
   "source": [
    "dim(results[which(results$p < 10^-200), ])"
   ]
  },
  {
   "cell_type": "code",
   "execution_count": null,
   "id": "1c2feaf6-f698-45c6-a304-ceb67c7af13b",
   "metadata": {},
   "outputs": [],
   "source": []
  },
  {
   "cell_type": "code",
   "execution_count": null,
   "id": "634515b6-5deb-4419-97bf-8de632695c68",
   "metadata": {},
   "outputs": [],
   "source": [
    "results_subset <- results[which(results$chr == 1 & results$pos >= 73418062 & results$pos <= 73418313), ]"
   ]
  },
  {
   "cell_type": "code",
   "execution_count": null,
   "id": "8be20d47-08d3-4b0d-b8a8-3863f1fc6250",
   "metadata": {},
   "outputs": [],
   "source": [
    "results_subset <- results_subset[which(results_subset$population == \"all\" & results_subset$region == \"caud\"), ]\n",
    "\n",
    "head(results)"
   ]
  },
  {
   "cell_type": "code",
   "execution_count": null,
   "id": "2edb066e-b6fb-441b-b179-050937915dc1",
   "metadata": {},
   "outputs": [],
   "source": []
  }
 ],
 "metadata": {
  "kernelspec": {
   "display_name": "R",
   "language": "R",
   "name": "ir"
  },
  "language_info": {
   "codemirror_mode": "r",
   "file_extension": ".r",
   "mimetype": "text/x-r-source",
   "name": "R",
   "pygments_lexer": "r",
   "version": "4.3.1"
  }
 },
 "nbformat": 4,
 "nbformat_minor": 5
}
