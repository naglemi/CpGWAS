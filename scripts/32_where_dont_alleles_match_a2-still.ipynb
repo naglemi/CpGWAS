{
 "cells": [
  {
   "cell_type": "markdown",
   "id": "a73e5ea8-56cc-43a0-b461-7f6a7f8d4761",
   "metadata": {},
   "source": [
    "# Compare alleles across LIBD population, ref population, summary stats"
   ]
  },
  {
   "cell_type": "markdown",
   "id": "e3f555f3-c26e-46da-8698-9e8cd1c585c5",
   "metadata": {},
   "source": [
    "Running this again after making alleles uniform between LIBD, REF populations."
   ]
  },
  {
   "cell_type": "markdown",
   "id": "413eb57b-3010-4edf-bc0a-3602b17afc39",
   "metadata": {},
   "source": [
    "## Define paths"
   ]
  },
  {
   "cell_type": "code",
   "execution_count": 1,
   "id": "da708f88-d9e6-4c9a-8605-879250d987b1",
   "metadata": {},
   "outputs": [],
   "source": [
    "library(data.table)"
   ]
  },
  {
   "cell_type": "code",
   "execution_count": 2,
   "id": "ef595a4d-5c68-4733-9851-8f4573c478b0",
   "metadata": {},
   "outputs": [],
   "source": [
    "library(CpGWAS)"
   ]
  },
  {
   "cell_type": "code",
   "execution_count": 3,
   "id": "70d0c8f8-54aa-4edf-9a27-7050cba07e64",
   "metadata": {},
   "outputs": [],
   "source": [
    "chr <- 1"
   ]
  },
  {
   "cell_type": "code",
   "execution_count": 4,
   "id": "e431d027-1323-4951-b2ac-1e6a7cbf6803",
   "metadata": {},
   "outputs": [],
   "source": [
    "paths_ref <- list(\n",
    "  pvar_path = paste0(\"/expanse/lustre/projects/jhu152/naglemi/mwas/gwas_flipped/ref_EUR_allele-match-libd_chr\", chr, \".pvar\"),\n",
    "  pgen_path = paste0(\"/expanse/lustre/projects/jhu152/naglemi/mwas/gwas_flipped/ref_EUR_allele-match-libd_chr\", chr, \".pgen\"),\n",
    "  psam_path = paste0(\"/expanse/lustre/projects/jhu152/naglemi/mwas/gwas_flipped/ref_EUR_allele-match-libd_chr\", chr, \".psam\")\n",
    ")"
   ]
  },
  {
   "cell_type": "code",
   "execution_count": 5,
   "id": "18b6902d-2065-4be3-83c8-ecf471c9758c",
   "metadata": {},
   "outputs": [],
   "source": [
    "paths_libd <- list(\n",
    "  pvar_path = paste0(\"/expanse/lustre/projects/jhu152/naglemi/mwas/gwas_flipped/libd_chr\", chr, \".pvar\"),\n",
    "  pgen_path = paste0(\"/expanse/lustre/projects/jhu152/naglemi/mwas/gwas_flipped/libd_chr\", chr, \".pgen\"),\n",
    "  psam_path = paste0(\"/expanse/lustre/projects/jhu152/naglemi/mwas/gwas_flipped/libd_chr\", chr, \".psam\")\n",
    ")"
   ]
  },
  {
   "cell_type": "code",
   "execution_count": null,
   "id": "3486651b-74a9-4240-8ba1-6a1ef9189e08",
   "metadata": {},
   "outputs": [],
   "source": []
  },
  {
   "cell_type": "code",
   "execution_count": 6,
   "id": "bbedb75c-2598-4848-af52-780acf0e7527",
   "metadata": {},
   "outputs": [],
   "source": [
    "summary_stats_paths <- list.files(\"/expanse/lustre/projects/jhu152/naglemi/mwas/gwas_flipped/\",\n",
    "                                  pattern = \"stat\",\n",
    "                                  full.names = TRUE)"
   ]
  },
  {
   "cell_type": "code",
   "execution_count": 7,
   "id": "c8085e79-93bf-47a2-be87-0d8757f75491",
   "metadata": {},
   "outputs": [],
   "source": [
    "k <- 1"
   ]
  },
  {
   "cell_type": "code",
   "execution_count": 8,
   "id": "cf577304-4131-4d68-a120-f253eee9a5f4",
   "metadata": {},
   "outputs": [],
   "source": [
    "summary_stats_path <- summary_stats_paths[k]"
   ]
  },
  {
   "cell_type": "code",
   "execution_count": null,
   "id": "033f4db1-cea5-40d5-b94c-bb7045d6d2d0",
   "metadata": {},
   "outputs": [],
   "source": [
    "summary_stats <- suppressWarnings(fread(summary_stats_path))\n",
    "summary_stats <- clean_and_standardize_colnames(summary_stats)"
   ]
  },
  {
   "cell_type": "code",
   "execution_count": null,
   "id": "c5eedcbc-53ac-4e9e-8521-2ccd2d9a19ba",
   "metadata": {},
   "outputs": [],
   "source": [
    "ref <- fread(paths_ref$pvar_path)"
   ]
  },
  {
   "cell_type": "code",
   "execution_count": null,
   "id": "12fcf9d2-3742-43f1-aff3-415d9bc6d03a",
   "metadata": {},
   "outputs": [],
   "source": [
    "head(ref)"
   ]
  },
  {
   "cell_type": "code",
   "execution_count": null,
   "id": "c96d8816-c7da-4ad4-b037-160b862b79b3",
   "metadata": {},
   "outputs": [],
   "source": [
    "libd <- fread(paths_libd$pvar_path)"
   ]
  },
  {
   "cell_type": "code",
   "execution_count": null,
   "id": "953098e2-ad2a-4c51-8aa3-b1646f8ed332",
   "metadata": {},
   "outputs": [],
   "source": [
    "head(libd)"
   ]
  },
  {
   "cell_type": "code",
   "execution_count": null,
   "id": "e65d59b2-8f3e-4c61-9aee-bf70effb2004",
   "metadata": {},
   "outputs": [],
   "source": [
    "library(data.table)\n",
    "\n",
    "summary_stats_paths <- list.files(\"/expanse/lustre/projects/jhu152/naglemi/mwas/gwas/\", pattern = \"stat\", full.names = TRUE)"
   ]
  },
  {
   "cell_type": "code",
   "execution_count": null,
   "id": "9d2d61bc-59cf-484c-9798-da596f881d36",
   "metadata": {},
   "outputs": [],
   "source": [
    "summary_stats_paths"
   ]
  },
  {
   "cell_type": "code",
   "execution_count": null,
   "id": "0e2edd91-71b8-44de-98c3-4c41206687e1",
   "metadata": {},
   "outputs": [],
   "source": [
    "# summary_stats_paths <- summary_stats_paths[!grepl(\"alleleprocessed\", summary_stats_paths)]"
   ]
  },
  {
   "cell_type": "code",
   "execution_count": null,
   "id": "ba35058c-13c0-420b-ac62-103ec3c562c5",
   "metadata": {},
   "outputs": [],
   "source": [
    "summary_stats_paths <- summary_stats_paths[grepl(\"a2\", summary_stats_paths)]"
   ]
  },
  {
   "cell_type": "code",
   "execution_count": null,
   "id": "f76e3310-1a97-42db-86d9-563c4f702b7e",
   "metadata": {},
   "outputs": [],
   "source": [
    "summary_stats_paths"
   ]
  },
  {
   "cell_type": "code",
   "execution_count": null,
   "id": "04396bc5-4eb3-4346-bc0c-af7464aca659",
   "metadata": {},
   "outputs": [],
   "source": [
    "file.remove(\"/expanse/lustre/projects/jhu152/naglemi/mwas/gwas//gwas_stat_bp_alleleprocessed_alleleprocessed.txt\")"
   ]
  },
  {
   "cell_type": "code",
   "execution_count": null,
   "id": "6ef7cc3e-e210-4eb7-b639-2563ec9556a0",
   "metadata": {},
   "outputs": [],
   "source": [
    "colnames(ref)"
   ]
  },
  {
   "cell_type": "code",
   "execution_count": null,
   "id": "62764434-b752-4644-ab13-9eb52261435c",
   "metadata": {},
   "outputs": [],
   "source": [
    "colnames(libd)"
   ]
  },
  {
   "cell_type": "code",
   "execution_count": null,
   "id": "4e765b4e-bd87-44c5-9394-36d1e4a5c799",
   "metadata": {},
   "outputs": [],
   "source": [
    "colnames(summary_stats)"
   ]
  },
  {
   "cell_type": "code",
   "execution_count": null,
   "id": "b9baa4cc-0a36-4fa6-b431-7bd84af50b4c",
   "metadata": {},
   "outputs": [],
   "source": [
    "print(\"test\")"
   ]
  },
  {
   "cell_type": "markdown",
   "id": "a12028ca-39b1-411b-90ff-a576952a5426",
   "metadata": {},
   "source": [
    "## Try for one chr (7)"
   ]
  },
  {
   "cell_type": "code",
   "execution_count": 79,
   "id": "b9faf690-514a-44bb-a231-6f4425c065d7",
   "metadata": {},
   "outputs": [],
   "source": [
    "summary_stats_path <- summary_stats_paths[3]"
   ]
  },
  {
   "cell_type": "code",
   "execution_count": 80,
   "id": "21b977db-4c86-4915-9c83-78a3aea5c7f7",
   "metadata": {},
   "outputs": [
    {
     "data": {
      "text/html": [
       "<style>\n",
       ".list-inline {list-style: none; margin:0; padding: 0}\n",
       ".list-inline>li {display: inline-block}\n",
       ".list-inline>li:not(:last-child)::after {content: \"\\00b7\"; padding: 0 .5ex}\n",
       "</style>\n",
       "<ol class=list-inline><li>'/expanse/lustre/projects/jhu152/naglemi/mwas/gwas//gwas_stat_bp'</li><li>'/expanse/lustre/projects/jhu152/naglemi/mwas/gwas//gwas_stat_mdd'</li><li>'/expanse/lustre/projects/jhu152/naglemi/mwas/gwas//gwas_stat_scz'</li></ol>\n"
      ],
      "text/latex": [
       "\\begin{enumerate*}\n",
       "\\item '/expanse/lustre/projects/jhu152/naglemi/mwas/gwas//gwas\\_stat\\_bp'\n",
       "\\item '/expanse/lustre/projects/jhu152/naglemi/mwas/gwas//gwas\\_stat\\_mdd'\n",
       "\\item '/expanse/lustre/projects/jhu152/naglemi/mwas/gwas//gwas\\_stat\\_scz'\n",
       "\\end{enumerate*}\n"
      ],
      "text/markdown": [
       "1. '/expanse/lustre/projects/jhu152/naglemi/mwas/gwas//gwas_stat_bp'\n",
       "2. '/expanse/lustre/projects/jhu152/naglemi/mwas/gwas//gwas_stat_mdd'\n",
       "3. '/expanse/lustre/projects/jhu152/naglemi/mwas/gwas//gwas_stat_scz'\n",
       "\n",
       "\n"
      ],
      "text/plain": [
       "[1] \"/expanse/lustre/projects/jhu152/naglemi/mwas/gwas//gwas_stat_bp\" \n",
       "[2] \"/expanse/lustre/projects/jhu152/naglemi/mwas/gwas//gwas_stat_mdd\"\n",
       "[3] \"/expanse/lustre/projects/jhu152/naglemi/mwas/gwas//gwas_stat_scz\""
      ]
     },
     "metadata": {},
     "output_type": "display_data"
    }
   ],
   "source": [
    "summary_stats_paths"
   ]
  },
  {
   "cell_type": "code",
   "execution_count": 81,
   "id": "fef36b5c-1671-4341-bf1c-92d8e33da031",
   "metadata": {},
   "outputs": [
    {
     "name": "stderr",
     "output_type": "stream",
     "text": [
      "Warning message in fread(summary_stats_path):\n",
      "“Detected 1 column names but the data has 19 columns (i.e. invalid file). Added 18 extra default column names at the end.”\n"
     ]
    }
   ],
   "source": [
    "summary_stats <- fread(summary_stats_path)"
   ]
  },
  {
   "cell_type": "code",
   "execution_count": 93,
   "id": "ecd3d12f-86e0-4d3a-9d4c-324f0b1b4cd1",
   "metadata": {},
   "outputs": [
    {
     "data": {
      "text/html": [
       "<table class=\"dataframe\">\n",
       "<caption>A data.table: 6 × 17</caption>\n",
       "<thead>\n",
       "\t<tr><th scope=col>CHR</th><th scope=col>BP</th><th scope=col>SNP</th><th scope=col>A1</th><th scope=col>A2</th><th scope=col>logOR</th><th scope=col>SE</th><th scope=col>PVAL</th><th scope=col>NGT</th><th scope=col>FCAS</th><th scope=col>FCON</th><th scope=col>IMPINFO</th><th scope=col>NEFFDIV2</th><th scope=col>NCAS</th><th scope=col>NCON</th><th scope=col>DIRE</th><th scope=col>Z</th></tr>\n",
       "\t<tr><th scope=col>&lt;int&gt;</th><th scope=col>&lt;int&gt;</th><th scope=col>&lt;chr&gt;</th><th scope=col>&lt;chr&gt;</th><th scope=col>&lt;chr&gt;</th><th scope=col>&lt;dbl&gt;</th><th scope=col>&lt;dbl&gt;</th><th scope=col>&lt;dbl&gt;</th><th scope=col>&lt;int&gt;</th><th scope=col>&lt;dbl&gt;</th><th scope=col>&lt;dbl&gt;</th><th scope=col>&lt;dbl&gt;</th><th scope=col>&lt;dbl&gt;</th><th scope=col>&lt;int&gt;</th><th scope=col>&lt;int&gt;</th><th scope=col>&lt;chr&gt;</th><th scope=col>&lt;dbl&gt;</th></tr>\n",
       "</thead>\n",
       "<tbody>\n",
       "\t<tr><td>10</td><td>98322628</td><td>10:100082385_C_A</td><td>C</td><td>A</td><td> 0.004001981</td><td>0.0201</td><td>0.8422</td><td> 0</td><td>0.934</td><td>0.941</td><td>0.971</td><td>43354.73</td><td>37940</td><td>103559</td><td>+++-+--++-+-++---+--++++-++--++++++--+++-+-----??-?+--+?-</td><td> 0.1991036</td></tr>\n",
       "\t<tr><td>10</td><td>98429811</td><td>10:100189568_C_A</td><td>C</td><td>A</td><td> 0.010098835</td><td>0.0200</td><td>0.6135</td><td>25</td><td>0.925</td><td>0.925</td><td>0.890</td><td>42290.42</td><td>36834</td><td>102499</td><td>-++--++++--+-++++++-?---++--+--+-+---+-+----+++??-?+?+-?+</td><td> 0.5049417</td></tr>\n",
       "\t<tr><td>10</td><td>98624242</td><td>10:100383999_C_G</td><td>C</td><td>G</td><td>-0.007397293</td><td>0.0122</td><td>0.5428</td><td> 0</td><td>0.799</td><td>0.797</td><td>1.000</td><td>43445.24</td><td>38084</td><td>103625</td><td>--++++-+++-++-++-+--++-++-+-+---+++-+----+--++-??-?---+-+</td><td>-0.6063355</td></tr>\n",
       "\t<tr><td>10</td><td>99046608</td><td>10:100806365_A_C</td><td>A</td><td>C</td><td>-0.002703652</td><td>0.0152</td><td>0.8603</td><td>26</td><td>0.119</td><td>0.126</td><td>0.993</td><td>43445.24</td><td>38084</td><td>103625</td><td>++--++++-+-++---+++-+---+++-+--+---+--++---++++??+?---++-</td><td>-0.1778718</td></tr>\n",
       "\t<tr><td>10</td><td>99053963</td><td>10:100813720_C_T</td><td>C</td><td>T</td><td>-0.003596460</td><td>0.0152</td><td>0.8123</td><td> 0</td><td>0.118</td><td>0.126</td><td>0.990</td><td>43445.24</td><td>38084</td><td>103625</td><td>--++----+-+--+++---+-+++---+-++-+++-++--+++-+--??-?+++--+</td><td>-0.2366092</td></tr>\n",
       "\t<tr><td>10</td><td>99497901</td><td>10:101257658_T_G</td><td>T</td><td>G</td><td> 0.005096988</td><td>0.0112</td><td>0.6474</td><td> 0</td><td>0.259</td><td>0.259</td><td>0.997</td><td>43445.24</td><td>38084</td><td>103625</td><td>-+--+++----+-+--++++---+---++-++---+--++--+-+++??+?--+--+</td><td> 0.4550882</td></tr>\n",
       "</tbody>\n",
       "</table>\n"
      ],
      "text/latex": [
       "A data.table: 6 × 17\n",
       "\\begin{tabular}{lllllllllllllllll}\n",
       " CHR & BP & SNP & A1 & A2 & logOR & SE & PVAL & NGT & FCAS & FCON & IMPINFO & NEFFDIV2 & NCAS & NCON & DIRE & Z\\\\\n",
       " <int> & <int> & <chr> & <chr> & <chr> & <dbl> & <dbl> & <dbl> & <int> & <dbl> & <dbl> & <dbl> & <dbl> & <int> & <int> & <chr> & <dbl>\\\\\n",
       "\\hline\n",
       "\t 10 & 98322628 & 10:100082385\\_C\\_A & C & A &  0.004001981 & 0.0201 & 0.8422 &  0 & 0.934 & 0.941 & 0.971 & 43354.73 & 37940 & 103559 & +++-+--++-+-++---+--++++-++--++++++--+++-+-----??-?+--+?- &  0.1991036\\\\\n",
       "\t 10 & 98429811 & 10:100189568\\_C\\_A & C & A &  0.010098835 & 0.0200 & 0.6135 & 25 & 0.925 & 0.925 & 0.890 & 42290.42 & 36834 & 102499 & -++--++++--+-++++++-?---++--+--+-+---+-+----+++??-?+?+-?+ &  0.5049417\\\\\n",
       "\t 10 & 98624242 & 10:100383999\\_C\\_G & C & G & -0.007397293 & 0.0122 & 0.5428 &  0 & 0.799 & 0.797 & 1.000 & 43445.24 & 38084 & 103625 & --++++-+++-++-++-+--++-++-+-+---+++-+----+--++-??-?---+-+ & -0.6063355\\\\\n",
       "\t 10 & 99046608 & 10:100806365\\_A\\_C & A & C & -0.002703652 & 0.0152 & 0.8603 & 26 & 0.119 & 0.126 & 0.993 & 43445.24 & 38084 & 103625 & ++--++++-+-++---+++-+---+++-+--+---+--++---++++??+?---++- & -0.1778718\\\\\n",
       "\t 10 & 99053963 & 10:100813720\\_C\\_T & C & T & -0.003596460 & 0.0152 & 0.8123 &  0 & 0.118 & 0.126 & 0.990 & 43445.24 & 38084 & 103625 & --++----+-+--+++---+-+++---+-++-+++-++--+++-+--??-?+++--+ & -0.2366092\\\\\n",
       "\t 10 & 99497901 & 10:101257658\\_T\\_G & T & G &  0.005096988 & 0.0112 & 0.6474 &  0 & 0.259 & 0.259 & 0.997 & 43445.24 & 38084 & 103625 & -+--+++----+-+--++++---+---++-++---+--++--+-+++??+?--+--+ &  0.4550882\\\\\n",
       "\\end{tabular}\n"
      ],
      "text/markdown": [
       "\n",
       "A data.table: 6 × 17\n",
       "\n",
       "| CHR &lt;int&gt; | BP &lt;int&gt; | SNP &lt;chr&gt; | A1 &lt;chr&gt; | A2 &lt;chr&gt; | logOR &lt;dbl&gt; | SE &lt;dbl&gt; | PVAL &lt;dbl&gt; | NGT &lt;int&gt; | FCAS &lt;dbl&gt; | FCON &lt;dbl&gt; | IMPINFO &lt;dbl&gt; | NEFFDIV2 &lt;dbl&gt; | NCAS &lt;int&gt; | NCON &lt;int&gt; | DIRE &lt;chr&gt; | Z &lt;dbl&gt; |\n",
       "|---|---|---|---|---|---|---|---|---|---|---|---|---|---|---|---|---|\n",
       "| 10 | 98322628 | 10:100082385_C_A | C | A |  0.004001981 | 0.0201 | 0.8422 |  0 | 0.934 | 0.941 | 0.971 | 43354.73 | 37940 | 103559 | +++-+--++-+-++---+--++++-++--++++++--+++-+-----??-?+--+?- |  0.1991036 |\n",
       "| 10 | 98429811 | 10:100189568_C_A | C | A |  0.010098835 | 0.0200 | 0.6135 | 25 | 0.925 | 0.925 | 0.890 | 42290.42 | 36834 | 102499 | -++--++++--+-++++++-?---++--+--+-+---+-+----+++??-?+?+-?+ |  0.5049417 |\n",
       "| 10 | 98624242 | 10:100383999_C_G | C | G | -0.007397293 | 0.0122 | 0.5428 |  0 | 0.799 | 0.797 | 1.000 | 43445.24 | 38084 | 103625 | --++++-+++-++-++-+--++-++-+-+---+++-+----+--++-??-?---+-+ | -0.6063355 |\n",
       "| 10 | 99046608 | 10:100806365_A_C | A | C | -0.002703652 | 0.0152 | 0.8603 | 26 | 0.119 | 0.126 | 0.993 | 43445.24 | 38084 | 103625 | ++--++++-+-++---+++-+---+++-+--+---+--++---++++??+?---++- | -0.1778718 |\n",
       "| 10 | 99053963 | 10:100813720_C_T | C | T | -0.003596460 | 0.0152 | 0.8123 |  0 | 0.118 | 0.126 | 0.990 | 43445.24 | 38084 | 103625 | --++----+-+--+++---+-+++---+-++-+++-++--+++-+--??-?+++--+ | -0.2366092 |\n",
       "| 10 | 99497901 | 10:101257658_T_G | T | G |  0.005096988 | 0.0112 | 0.6474 |  0 | 0.259 | 0.259 | 0.997 | 43445.24 | 38084 | 103625 | -+--+++----+-+--++++---+---++-++---+--++--+-+++??+?--+--+ |  0.4550882 |\n",
       "\n"
      ],
      "text/plain": [
       "  CHR BP       SNP              A1 A2 logOR        SE     PVAL   NGT FCAS \n",
       "1 10  98322628 10:100082385_C_A C  A   0.004001981 0.0201 0.8422  0  0.934\n",
       "2 10  98429811 10:100189568_C_A C  A   0.010098835 0.0200 0.6135 25  0.925\n",
       "3 10  98624242 10:100383999_C_G C  G  -0.007397293 0.0122 0.5428  0  0.799\n",
       "4 10  99046608 10:100806365_A_C A  C  -0.002703652 0.0152 0.8603 26  0.119\n",
       "5 10  99053963 10:100813720_C_T C  T  -0.003596460 0.0152 0.8123  0  0.118\n",
       "6 10  99497901 10:101257658_T_G T  G   0.005096988 0.0112 0.6474  0  0.259\n",
       "  FCON  IMPINFO NEFFDIV2 NCAS  NCON  \n",
       "1 0.941 0.971   43354.73 37940 103559\n",
       "2 0.925 0.890   42290.42 36834 102499\n",
       "3 0.797 1.000   43445.24 38084 103625\n",
       "4 0.126 0.993   43445.24 38084 103625\n",
       "5 0.126 0.990   43445.24 38084 103625\n",
       "6 0.259 0.997   43445.24 38084 103625\n",
       "  DIRE                                                      Z         \n",
       "1 +++-+--++-+-++---+--++++-++--++++++--+++-+-----??-?+--+?-  0.1991036\n",
       "2 -++--++++--+-++++++-?---++--+--+-+---+-+----+++??-?+?+-?+  0.5049417\n",
       "3 --++++-+++-++-++-+--++-++-+-+---+++-+----+--++-??-?---+-+ -0.6063355\n",
       "4 ++--++++-+-++---+++-+---+++-+--+---+--++---++++??+?---++- -0.1778718\n",
       "5 --++----+-+--+++---+-+++---+-++-+++-++--+++-+--??-?+++--+ -0.2366092\n",
       "6 -+--+++----+-+--++++---+---++-++---+--++--+-+++??+?--+--+  0.4550882"
      ]
     },
     "metadata": {},
     "output_type": "display_data"
    }
   ],
   "source": [
    "head(summary_stats)"
   ]
  },
  {
   "cell_type": "markdown",
   "id": "b5d124ae-145c-4c90-b820-0d6767be0974",
   "metadata": {
    "jp-MarkdownHeadingCollapsed": true
   },
   "source": [
    "#### What's up with some of these not matching"
   ]
  },
  {
   "cell_type": "code",
   "execution_count": 83,
   "id": "d78aee15-2dd8-4f17-9eb2-a78ff187203b",
   "metadata": {},
   "outputs": [],
   "source": [
    "summary_stats_test <- summary_stats[grepl(\":\", summary_stats$V2), ]"
   ]
  },
  {
   "cell_type": "code",
   "execution_count": null,
   "id": "a42073aa-b739-43f5-9875-8e671667e299",
   "metadata": {},
   "outputs": [],
   "source": []
  },
  {
   "cell_type": "code",
   "execution_count": 84,
   "id": "d3399e6f-2b6b-4b95-a8ed-76d47e4e4620",
   "metadata": {},
   "outputs": [
    {
     "data": {
      "text/html": [
       "<style>\n",
       ".list-inline {list-style: none; margin:0; padding: 0}\n",
       ".list-inline>li {display: inline-block}\n",
       ".list-inline>li:not(:last-child)::after {content: \"\\00b7\"; padding: 0 .5ex}\n",
       "</style>\n",
       "<ol class=list-inline><li>5345</li><li>19</li></ol>\n"
      ],
      "text/latex": [
       "\\begin{enumerate*}\n",
       "\\item 5345\n",
       "\\item 19\n",
       "\\end{enumerate*}\n"
      ],
      "text/markdown": [
       "1. 5345\n",
       "2. 19\n",
       "\n",
       "\n"
      ],
      "text/plain": [
       "[1] 5345   19"
      ]
     },
     "metadata": {},
     "output_type": "display_data"
    }
   ],
   "source": [
    "dim(summary_stats_test)"
   ]
  },
  {
   "cell_type": "code",
   "execution_count": 52,
   "id": "c6d6c4ae-37b8-4d7b-b355-1a0d4e8b1ccc",
   "metadata": {},
   "outputs": [],
   "source": [
    "library(stringr)"
   ]
  },
  {
   "cell_type": "code",
   "execution_count": 53,
   "id": "c0c4676d-6f45-4f58-b809-6e5d2cdd9769",
   "metadata": {},
   "outputs": [],
   "source": [
    "pos_test <- str_split_fixed(summary_stats_test$V2, \":\", 2)[, 2]\n",
    "pos_test <- str_split_fixed(pos_test, \"_\", 2)[, 1]"
   ]
  },
  {
   "cell_type": "code",
   "execution_count": 54,
   "id": "a5163689-a775-41b8-a830-6e9ad88b03a7",
   "metadata": {},
   "outputs": [
    {
     "data": {
      "text/html": [
       "<style>\n",
       ".list-inline {list-style: none; margin:0; padding: 0}\n",
       ".list-inline>li {display: inline-block}\n",
       ".list-inline>li:not(:last-child)::after {content: \"\\00b7\"; padding: 0 .5ex}\n",
       "</style>\n",
       "<ol class=list-inline><li>'106060544'</li><li>'101934971'</li><li>'103606580'</li><li>'109970076'</li><li>'104701401'</li><li>'104122246'</li></ol>\n"
      ],
      "text/latex": [
       "\\begin{enumerate*}\n",
       "\\item '106060544'\n",
       "\\item '101934971'\n",
       "\\item '103606580'\n",
       "\\item '109970076'\n",
       "\\item '104701401'\n",
       "\\item '104122246'\n",
       "\\end{enumerate*}\n"
      ],
      "text/markdown": [
       "1. '106060544'\n",
       "2. '101934971'\n",
       "3. '103606580'\n",
       "4. '109970076'\n",
       "5. '104701401'\n",
       "6. '104122246'\n",
       "\n",
       "\n"
      ],
      "text/plain": [
       "[1] \"106060544\" \"101934971\" \"103606580\" \"109970076\" \"104701401\" \"104122246\""
      ]
     },
     "metadata": {},
     "output_type": "display_data"
    }
   ],
   "source": [
    "head(pos_test)"
   ]
  },
  {
   "cell_type": "code",
   "execution_count": 55,
   "id": "2404abac-5234-49c8-97c9-32c8c6c05125",
   "metadata": {},
   "outputs": [
    {
     "data": {
      "text/html": [
       "TRUE"
      ],
      "text/latex": [
       "TRUE"
      ],
      "text/markdown": [
       "TRUE"
      ],
      "text/plain": [
       "[1] TRUE"
      ]
     },
     "metadata": {},
     "output_type": "display_data"
    }
   ],
   "source": [
    "any(pos_test == summary_stats_test$V3)"
   ]
  },
  {
   "cell_type": "code",
   "execution_count": 58,
   "id": "a10ddc70-65ca-4e6f-9ad6-7d964a4c7c3f",
   "metadata": {},
   "outputs": [],
   "source": [
    "colnames(summary_stats_test)[1] <- \"V1\""
   ]
  },
  {
   "cell_type": "code",
   "execution_count": 59,
   "id": "423dea08-786a-44fe-b974-d51f98518f96",
   "metadata": {},
   "outputs": [
    {
     "data": {
      "text/html": [
       "<style>\n",
       ".list-inline {list-style: none; margin:0; padding: 0}\n",
       ".list-inline>li {display: inline-block}\n",
       ".list-inline>li:not(:last-child)::after {content: \"\\00b7\"; padding: 0 .5ex}\n",
       "</style>\n",
       "<ol class=list-inline><li>'1'</li><li>'2'</li><li>'3'</li><li>'4'</li><li>'5'</li><li>'6'</li><li>'7'</li><li>'8'</li><li>'9'</li><li>'10'</li><li>'11'</li><li>'12'</li><li>'13'</li><li>'14'</li><li>'15'</li><li>'16'</li><li>'17'</li><li>'18'</li><li>'19'</li><li>'20'</li><li>'21'</li><li>'22'</li></ol>\n"
      ],
      "text/latex": [
       "\\begin{enumerate*}\n",
       "\\item '1'\n",
       "\\item '2'\n",
       "\\item '3'\n",
       "\\item '4'\n",
       "\\item '5'\n",
       "\\item '6'\n",
       "\\item '7'\n",
       "\\item '8'\n",
       "\\item '9'\n",
       "\\item '10'\n",
       "\\item '11'\n",
       "\\item '12'\n",
       "\\item '13'\n",
       "\\item '14'\n",
       "\\item '15'\n",
       "\\item '16'\n",
       "\\item '17'\n",
       "\\item '18'\n",
       "\\item '19'\n",
       "\\item '20'\n",
       "\\item '21'\n",
       "\\item '22'\n",
       "\\end{enumerate*}\n"
      ],
      "text/markdown": [
       "1. '1'\n",
       "2. '2'\n",
       "3. '3'\n",
       "4. '4'\n",
       "5. '5'\n",
       "6. '6'\n",
       "7. '7'\n",
       "8. '8'\n",
       "9. '9'\n",
       "10. '10'\n",
       "11. '11'\n",
       "12. '12'\n",
       "13. '13'\n",
       "14. '14'\n",
       "15. '15'\n",
       "16. '16'\n",
       "17. '17'\n",
       "18. '18'\n",
       "19. '19'\n",
       "20. '20'\n",
       "21. '21'\n",
       "22. '22'\n",
       "\n",
       "\n"
      ],
      "text/plain": [
       " [1] \"1\"  \"2\"  \"3\"  \"4\"  \"5\"  \"6\"  \"7\"  \"8\"  \"9\"  \"10\" \"11\" \"12\" \"13\" \"14\" \"15\"\n",
       "[16] \"16\" \"17\" \"18\" \"19\" \"20\" \"21\" \"22\""
      ]
     },
     "metadata": {},
     "output_type": "display_data"
    }
   ],
   "source": [
    "levels(factor(summary_stats_test$V1))"
   ]
  },
  {
   "cell_type": "code",
   "execution_count": 60,
   "id": "a87e73e8-3a88-4e5d-99e3-2c7ca958e7fb",
   "metadata": {},
   "outputs": [
    {
     "data": {
      "text/html": [
       "<table class=\"dataframe\">\n",
       "<caption>A data.table: 6 × 19</caption>\n",
       "<thead>\n",
       "\t<tr><th scope=col>V1</th><th scope=col>V2</th><th scope=col>V3</th><th scope=col>V4</th><th scope=col>V5</th><th scope=col>V6</th><th scope=col>V7</th><th scope=col>V8</th><th scope=col>V9</th><th scope=col>V10</th><th scope=col>V11</th><th scope=col>V12</th><th scope=col>V13</th><th scope=col>V14</th><th scope=col>V15</th><th scope=col>V16</th><th scope=col>V17</th><th scope=col>V18</th><th scope=col>V19</th></tr>\n",
       "\t<tr><th scope=col>&lt;int&gt;</th><th scope=col>&lt;chr&gt;</th><th scope=col>&lt;int&gt;</th><th scope=col>&lt;chr&gt;</th><th scope=col>&lt;chr&gt;</th><th scope=col>&lt;dbl&gt;</th><th scope=col>&lt;dbl&gt;</th><th scope=col>&lt;dbl&gt;</th><th scope=col>&lt;dbl&gt;</th><th scope=col>&lt;dbl&gt;</th><th scope=col>&lt;dbl&gt;</th><th scope=col>&lt;int&gt;</th><th scope=col>&lt;chr&gt;</th><th scope=col>&lt;dbl&gt;</th><th scope=col>&lt;int&gt;</th><th scope=col>&lt;dbl&gt;</th><th scope=col>&lt;int&gt;</th><th scope=col>&lt;int&gt;</th><th scope=col>&lt;dbl&gt;</th></tr>\n",
       "</thead>\n",
       "<tbody>\n",
       "\t<tr><td>8</td><td>8:106060544_T_G</td><td>105048316</td><td>T</td><td>G</td><td>0.638</td><td>0.639</td><td>0.991</td><td>0.99094</td><td>0.0090</td><td>0.31340</td><td> 1</td><td>+----+-+-+--+-+----+----+-+++-+--+---+-+---+--+-++-++-++-----+-+-----++-++--</td><td> 2.6</td><td>75</td><td>0.41500</td><td>53386</td><td>77258</td><td>58749.13</td></tr>\n",
       "\t<tr><td>8</td><td>8:101934971_T_C</td><td>100922743</td><td>T</td><td>C</td><td>0.675</td><td>0.674</td><td>0.987</td><td>1.00331</td><td>0.0092</td><td>0.71890</td><td>59</td><td>++++++-++-+-+++--+++-++---+--+---+---+-+----+++----++-+++++-----+-++-++++-++</td><td>20.0</td><td>75</td><td>0.07086</td><td>53386</td><td>77258</td><td>58749.13</td></tr>\n",
       "\t<tr><td>8</td><td>8:103606580_C_T</td><td>102594352</td><td>C</td><td>T</td><td>0.912</td><td>0.914</td><td>0.985</td><td>0.97210</td><td>0.0154</td><td>0.06564</td><td>13</td><td>--------++------+++-+--++++-++--+--+-++--+++++-+++-++++++++----+-+-+--+-++++</td><td>12.9</td><td>75</td><td>0.17970</td><td>53386</td><td>77258</td><td>58749.13</td></tr>\n",
       "\t<tr><td>8</td><td>8:109970076_G_T</td><td>108957847</td><td>G</td><td>T</td><td>0.919</td><td>0.919</td><td>1.000</td><td>1.00702</td><td>0.0158</td><td>0.65690</td><td>64</td><td>---++-++++++--+-+-+--+--+----+-++-+-+-++-+-+----+--+--+-+++++--++--++---++--</td><td>12.9</td><td>75</td><td>0.17910</td><td>53386</td><td>77258</td><td>58749.13</td></tr>\n",
       "\t<tr><td>8</td><td>8:104701401_A_G</td><td>103689173</td><td>A</td><td>G</td><td>0.918</td><td>0.920</td><td>0.988</td><td>0.96618</td><td>0.0158</td><td>0.02995</td><td> 0</td><td>----+---+-+---+-++--++++-+----+-+---+++++---++-+++---++---+--+--+++---+-----</td><td> 0.0</td><td>75</td><td>0.70490</td><td>53386</td><td>77258</td><td>58749.13</td></tr>\n",
       "\t<tr><td>8</td><td>8:104122246_C_A</td><td>103110018</td><td>C</td><td>A</td><td>0.919</td><td>0.920</td><td>0.971</td><td>0.99243</td><td>0.0160</td><td>0.63480</td><td>32</td><td>-++++---+-++--+-++++------------++--+-++++--+-++--+--++++-+-+-+-+---+++--+++</td><td>13.4</td><td>75</td><td>0.16970</td><td>53386</td><td>77258</td><td>58749.13</td></tr>\n",
       "</tbody>\n",
       "</table>\n"
      ],
      "text/latex": [
       "A data.table: 6 × 19\n",
       "\\begin{tabular}{lllllllllllllllllll}\n",
       " V1 & V2 & V3 & V4 & V5 & V6 & V7 & V8 & V9 & V10 & V11 & V12 & V13 & V14 & V15 & V16 & V17 & V18 & V19\\\\\n",
       " <int> & <chr> & <int> & <chr> & <chr> & <dbl> & <dbl> & <dbl> & <dbl> & <dbl> & <dbl> & <int> & <chr> & <dbl> & <int> & <dbl> & <int> & <int> & <dbl>\\\\\n",
       "\\hline\n",
       "\t 8 & 8:106060544\\_T\\_G & 105048316 & T & G & 0.638 & 0.639 & 0.991 & 0.99094 & 0.0090 & 0.31340 &  1 & +----+-+-+--+-+----+----+-+++-+--+---+-+---+--+-++-++-++-----+-+-----++-++-- &  2.6 & 75 & 0.41500 & 53386 & 77258 & 58749.13\\\\\n",
       "\t 8 & 8:101934971\\_T\\_C & 100922743 & T & C & 0.675 & 0.674 & 0.987 & 1.00331 & 0.0092 & 0.71890 & 59 & ++++++-++-+-+++--+++-++---+--+---+---+-+----+++----++-+++++-----+-++-++++-++ & 20.0 & 75 & 0.07086 & 53386 & 77258 & 58749.13\\\\\n",
       "\t 8 & 8:103606580\\_C\\_T & 102594352 & C & T & 0.912 & 0.914 & 0.985 & 0.97210 & 0.0154 & 0.06564 & 13 & --------++------+++-+--++++-++--+--+-++--+++++-+++-++++++++----+-+-+--+-++++ & 12.9 & 75 & 0.17970 & 53386 & 77258 & 58749.13\\\\\n",
       "\t 8 & 8:109970076\\_G\\_T & 108957847 & G & T & 0.919 & 0.919 & 1.000 & 1.00702 & 0.0158 & 0.65690 & 64 & ---++-++++++--+-+-+--+--+----+-++-+-+-++-+-+----+--+--+-+++++--++--++---++-- & 12.9 & 75 & 0.17910 & 53386 & 77258 & 58749.13\\\\\n",
       "\t 8 & 8:104701401\\_A\\_G & 103689173 & A & G & 0.918 & 0.920 & 0.988 & 0.96618 & 0.0158 & 0.02995 &  0 & ----+---+-+---+-++--++++-+----+-+---+++++---++-+++---++---+--+--+++---+----- &  0.0 & 75 & 0.70490 & 53386 & 77258 & 58749.13\\\\\n",
       "\t 8 & 8:104122246\\_C\\_A & 103110018 & C & A & 0.919 & 0.920 & 0.971 & 0.99243 & 0.0160 & 0.63480 & 32 & -++++---+-++--+-++++------------++--+-++++--+-++--+--++++-+-+-+-+---+++--+++ & 13.4 & 75 & 0.16970 & 53386 & 77258 & 58749.13\\\\\n",
       "\\end{tabular}\n"
      ],
      "text/markdown": [
       "\n",
       "A data.table: 6 × 19\n",
       "\n",
       "| V1 &lt;int&gt; | V2 &lt;chr&gt; | V3 &lt;int&gt; | V4 &lt;chr&gt; | V5 &lt;chr&gt; | V6 &lt;dbl&gt; | V7 &lt;dbl&gt; | V8 &lt;dbl&gt; | V9 &lt;dbl&gt; | V10 &lt;dbl&gt; | V11 &lt;dbl&gt; | V12 &lt;int&gt; | V13 &lt;chr&gt; | V14 &lt;dbl&gt; | V15 &lt;int&gt; | V16 &lt;dbl&gt; | V17 &lt;int&gt; | V18 &lt;int&gt; | V19 &lt;dbl&gt; |\n",
       "|---|---|---|---|---|---|---|---|---|---|---|---|---|---|---|---|---|---|---|\n",
       "| 8 | 8:106060544_T_G | 105048316 | T | G | 0.638 | 0.639 | 0.991 | 0.99094 | 0.0090 | 0.31340 |  1 | +----+-+-+--+-+----+----+-+++-+--+---+-+---+--+-++-++-++-----+-+-----++-++-- |  2.6 | 75 | 0.41500 | 53386 | 77258 | 58749.13 |\n",
       "| 8 | 8:101934971_T_C | 100922743 | T | C | 0.675 | 0.674 | 0.987 | 1.00331 | 0.0092 | 0.71890 | 59 | ++++++-++-+-+++--+++-++---+--+---+---+-+----+++----++-+++++-----+-++-++++-++ | 20.0 | 75 | 0.07086 | 53386 | 77258 | 58749.13 |\n",
       "| 8 | 8:103606580_C_T | 102594352 | C | T | 0.912 | 0.914 | 0.985 | 0.97210 | 0.0154 | 0.06564 | 13 | --------++------+++-+--++++-++--+--+-++--+++++-+++-++++++++----+-+-+--+-++++ | 12.9 | 75 | 0.17970 | 53386 | 77258 | 58749.13 |\n",
       "| 8 | 8:109970076_G_T | 108957847 | G | T | 0.919 | 0.919 | 1.000 | 1.00702 | 0.0158 | 0.65690 | 64 | ---++-++++++--+-+-+--+--+----+-++-+-+-++-+-+----+--+--+-+++++--++--++---++-- | 12.9 | 75 | 0.17910 | 53386 | 77258 | 58749.13 |\n",
       "| 8 | 8:104701401_A_G | 103689173 | A | G | 0.918 | 0.920 | 0.988 | 0.96618 | 0.0158 | 0.02995 |  0 | ----+---+-+---+-++--++++-+----+-+---+++++---++-+++---++---+--+--+++---+----- |  0.0 | 75 | 0.70490 | 53386 | 77258 | 58749.13 |\n",
       "| 8 | 8:104122246_C_A | 103110018 | C | A | 0.919 | 0.920 | 0.971 | 0.99243 | 0.0160 | 0.63480 | 32 | -++++---+-++--+-++++------------++--+-++++--+-++--+--++++-+-+-+-+---+++--+++ | 13.4 | 75 | 0.16970 | 53386 | 77258 | 58749.13 |\n",
       "\n"
      ],
      "text/plain": [
       "  V1 V2              V3        V4 V5 V6    V7    V8    V9      V10    V11    \n",
       "1 8  8:106060544_T_G 105048316 T  G  0.638 0.639 0.991 0.99094 0.0090 0.31340\n",
       "2 8  8:101934971_T_C 100922743 T  C  0.675 0.674 0.987 1.00331 0.0092 0.71890\n",
       "3 8  8:103606580_C_T 102594352 C  T  0.912 0.914 0.985 0.97210 0.0154 0.06564\n",
       "4 8  8:109970076_G_T 108957847 G  T  0.919 0.919 1.000 1.00702 0.0158 0.65690\n",
       "5 8  8:104701401_A_G 103689173 A  G  0.918 0.920 0.988 0.96618 0.0158 0.02995\n",
       "6 8  8:104122246_C_A 103110018 C  A  0.919 0.920 0.971 0.99243 0.0160 0.63480\n",
       "  V12\n",
       "1  1 \n",
       "2 59 \n",
       "3 13 \n",
       "4 64 \n",
       "5  0 \n",
       "6 32 \n",
       "  V13                                                                         \n",
       "1 +----+-+-+--+-+----+----+-+++-+--+---+-+---+--+-++-++-++-----+-+-----++-++--\n",
       "2 ++++++-++-+-+++--+++-++---+--+---+---+-+----+++----++-+++++-----+-++-++++-++\n",
       "3 --------++------+++-+--++++-++--+--+-++--+++++-+++-++++++++----+-+-+--+-++++\n",
       "4 ---++-++++++--+-+-+--+--+----+-++-+-+-++-+-+----+--+--+-+++++--++--++---++--\n",
       "5 ----+---+-+---+-++--++++-+----+-+---+++++---++-+++---++---+--+--+++---+-----\n",
       "6 -++++---+-++--+-++++------------++--+-++++--+-++--+--++++-+-+-+-+---+++--+++\n",
       "  V14  V15 V16     V17   V18   V19     \n",
       "1  2.6 75  0.41500 53386 77258 58749.13\n",
       "2 20.0 75  0.07086 53386 77258 58749.13\n",
       "3 12.9 75  0.17970 53386 77258 58749.13\n",
       "4 12.9 75  0.17910 53386 77258 58749.13\n",
       "5  0.0 75  0.70490 53386 77258 58749.13\n",
       "6 13.4 75  0.16970 53386 77258 58749.13"
      ]
     },
     "metadata": {},
     "output_type": "display_data"
    }
   ],
   "source": [
    "head(summary_stats_test)"
   ]
  },
  {
   "cell_type": "code",
   "execution_count": 61,
   "id": "e47d766b-c4fd-4116-ab95-1690b23d1f95",
   "metadata": {},
   "outputs": [],
   "source": [
    "summary_stats_test_matching <- summary_stats_test[which(summary_stats_test$V3 == pos_test), ]"
   ]
  },
  {
   "cell_type": "code",
   "execution_count": 62,
   "id": "aedf96e7-6139-4b96-acc1-102feb636dc7",
   "metadata": {},
   "outputs": [],
   "source": [
    "summary_stats_test_nonmatching <- summary_stats_test[!which(summary_stats_test$V3 == pos_test), ]"
   ]
  },
  {
   "cell_type": "code",
   "execution_count": 63,
   "id": "ac3699a1-dd09-4e8b-bef4-f1cb63403521",
   "metadata": {},
   "outputs": [
    {
     "data": {
      "text/html": [
       "<style>\n",
       ".list-inline {list-style: none; margin:0; padding: 0}\n",
       ".list-inline>li {display: inline-block}\n",
       ".list-inline>li:not(:last-child)::after {content: \"\\00b7\"; padding: 0 .5ex}\n",
       "</style>\n",
       "<ol class=list-inline><li>105</li><li>19</li></ol>\n"
      ],
      "text/latex": [
       "\\begin{enumerate*}\n",
       "\\item 105\n",
       "\\item 19\n",
       "\\end{enumerate*}\n"
      ],
      "text/markdown": [
       "1. 105\n",
       "2. 19\n",
       "\n",
       "\n"
      ],
      "text/plain": [
       "[1] 105  19"
      ]
     },
     "metadata": {},
     "output_type": "display_data"
    }
   ],
   "source": [
    "dim(summary_stats_test_matching)"
   ]
  },
  {
   "cell_type": "code",
   "execution_count": 64,
   "id": "cadbad91-ad89-4688-8b11-88ee9191852e",
   "metadata": {},
   "outputs": [
    {
     "data": {
      "text/html": [
       "<style>\n",
       ".list-inline {list-style: none; margin:0; padding: 0}\n",
       ".list-inline>li {display: inline-block}\n",
       ".list-inline>li:not(:last-child)::after {content: \"\\00b7\"; padding: 0 .5ex}\n",
       "</style>\n",
       "<ol class=list-inline><li>5240</li><li>19</li></ol>\n"
      ],
      "text/latex": [
       "\\begin{enumerate*}\n",
       "\\item 5240\n",
       "\\item 19\n",
       "\\end{enumerate*}\n"
      ],
      "text/markdown": [
       "1. 5240\n",
       "2. 19\n",
       "\n",
       "\n"
      ],
      "text/plain": [
       "[1] 5240   19"
      ]
     },
     "metadata": {},
     "output_type": "display_data"
    }
   ],
   "source": [
    "dim(summary_stats_test_nonmatching)"
   ]
  },
  {
   "cell_type": "code",
   "execution_count": 65,
   "id": "951b95bf-90a8-4a70-b71c-ed9f73608576",
   "metadata": {},
   "outputs": [
    {
     "data": {
      "text/html": [
       "<style>\n",
       ".list-inline {list-style: none; margin:0; padding: 0}\n",
       ".list-inline>li {display: inline-block}\n",
       ".list-inline>li:not(:last-child)::after {content: \"\\00b7\"; padding: 0 .5ex}\n",
       "</style>\n",
       "<ol class=list-inline><li>5879740</li><li>19</li></ol>\n"
      ],
      "text/latex": [
       "\\begin{enumerate*}\n",
       "\\item 5879740\n",
       "\\item 19\n",
       "\\end{enumerate*}\n"
      ],
      "text/markdown": [
       "1. 5879740\n",
       "2. 19\n",
       "\n",
       "\n"
      ],
      "text/plain": [
       "[1] 5879740      19"
      ]
     },
     "metadata": {},
     "output_type": "display_data"
    }
   ],
   "source": [
    "dim(summary_stats)"
   ]
  },
  {
   "cell_type": "code",
   "execution_count": 67,
   "id": "0c11a157-57e6-4fb2-b121-8f820917dfcf",
   "metadata": {},
   "outputs": [
    {
     "data": {
      "text/html": [
       "<table class=\"dataframe\">\n",
       "<caption>A data.table: 6 × 19</caption>\n",
       "<thead>\n",
       "\t<tr><th scope=col>V1</th><th scope=col>V2</th><th scope=col>V3</th><th scope=col>V4</th><th scope=col>V5</th><th scope=col>V6</th><th scope=col>V7</th><th scope=col>V8</th><th scope=col>V9</th><th scope=col>V10</th><th scope=col>V11</th><th scope=col>V12</th><th scope=col>V13</th><th scope=col>V14</th><th scope=col>V15</th><th scope=col>V16</th><th scope=col>V17</th><th scope=col>V18</th><th scope=col>V19</th></tr>\n",
       "\t<tr><th scope=col>&lt;int&gt;</th><th scope=col>&lt;chr&gt;</th><th scope=col>&lt;int&gt;</th><th scope=col>&lt;chr&gt;</th><th scope=col>&lt;chr&gt;</th><th scope=col>&lt;dbl&gt;</th><th scope=col>&lt;dbl&gt;</th><th scope=col>&lt;dbl&gt;</th><th scope=col>&lt;dbl&gt;</th><th scope=col>&lt;dbl&gt;</th><th scope=col>&lt;dbl&gt;</th><th scope=col>&lt;int&gt;</th><th scope=col>&lt;chr&gt;</th><th scope=col>&lt;dbl&gt;</th><th scope=col>&lt;int&gt;</th><th scope=col>&lt;dbl&gt;</th><th scope=col>&lt;int&gt;</th><th scope=col>&lt;int&gt;</th><th scope=col>&lt;dbl&gt;</th></tr>\n",
       "</thead>\n",
       "<tbody>\n",
       "\t<tr><td>11</td><td>11:928669_C_A</td><td> 928669</td><td>C</td><td>A</td><td>0.464</td><td>0.463</td><td>0.972</td><td>1.01390</td><td>0.0088</td><td>0.1158</td><td> 0</td><td>--+--++---+--+---+---+-++++--++-++-+-+-+-++---+-+++-----++--++++-++++-+---++</td><td>26.2</td><td>75</td><td>0.02228</td><td>53386</td><td>77258</td><td>58749.13</td></tr>\n",
       "\t<tr><td>11</td><td>11:929269_A_G</td><td> 929269</td><td>A</td><td>G</td><td>0.369</td><td>0.369</td><td>0.980</td><td>1.00652</td><td>0.0090</td><td>0.4673</td><td> 0</td><td>-++++---++-++-+++-++++-----++--+--+-+-+-+--+-+++---++++++-++---+++--+-++++--</td><td> 8.9</td><td>75</td><td>0.26250</td><td>53386</td><td>77258</td><td>58749.13</td></tr>\n",
       "\t<tr><td>11</td><td>11:743813_T_C</td><td> 743813</td><td>T</td><td>C</td><td>0.462</td><td>0.456</td><td>0.969</td><td>1.00995</td><td>0.0088</td><td>0.2617</td><td>41</td><td>+----++++-+-+--+-++++++-++-++-++--+++--+--+----+++---+-++-+++--++++++++----+</td><td> 0.0</td><td>75</td><td>0.70980</td><td>53386</td><td>77258</td><td>58749.13</td></tr>\n",
       "\t<tr><td> 9</td><td>9:1068251_G_A</td><td>1068251</td><td>G</td><td>A</td><td>0.432</td><td>0.430</td><td>0.982</td><td>0.99900</td><td>0.0088</td><td>0.9080</td><td> 0</td><td>+--+++--++--+++------+-+-+++-+++-----+-+--+++-+---+++-++---+--+--++-+---++-+</td><td> 0.0</td><td>75</td><td>0.84280</td><td>53386</td><td>77258</td><td>58749.13</td></tr>\n",
       "\t<tr><td> 9</td><td>9:2750294_G_C</td><td>2750294</td><td>G</td><td>C</td><td>0.922</td><td>0.920</td><td>0.967</td><td>0.99840</td><td>0.0162</td><td>0.9193</td><td>12</td><td>++--++-+-++++-+++-+--+-+-+---+--++-+--++----+-+-----++------+----+---+-+-+++</td><td> 0.0</td><td>75</td><td>0.95190</td><td>53386</td><td>77258</td><td>58749.13</td></tr>\n",
       "\t<tr><td> 9</td><td>9:1180817_C_A</td><td>1180817</td><td>C</td><td>A</td><td>0.943</td><td>0.941</td><td>0.952</td><td>1.02747</td><td>0.0188</td><td>0.1491</td><td> 0</td><td>++-+-+-+++++---++-+--+++--+-+-------++++--------++-+-+++----++--++-----++++-</td><td>26.0</td><td>75</td><td>0.02297</td><td>53386</td><td>77258</td><td>58749.13</td></tr>\n",
       "</tbody>\n",
       "</table>\n"
      ],
      "text/latex": [
       "A data.table: 6 × 19\n",
       "\\begin{tabular}{lllllllllllllllllll}\n",
       " V1 & V2 & V3 & V4 & V5 & V6 & V7 & V8 & V9 & V10 & V11 & V12 & V13 & V14 & V15 & V16 & V17 & V18 & V19\\\\\n",
       " <int> & <chr> & <int> & <chr> & <chr> & <dbl> & <dbl> & <dbl> & <dbl> & <dbl> & <dbl> & <int> & <chr> & <dbl> & <int> & <dbl> & <int> & <int> & <dbl>\\\\\n",
       "\\hline\n",
       "\t 11 & 11:928669\\_C\\_A &  928669 & C & A & 0.464 & 0.463 & 0.972 & 1.01390 & 0.0088 & 0.1158 &  0 & --+--++---+--+---+---+-++++--++-++-+-+-+-++---+-+++-----++--++++-++++-+---++ & 26.2 & 75 & 0.02228 & 53386 & 77258 & 58749.13\\\\\n",
       "\t 11 & 11:929269\\_A\\_G &  929269 & A & G & 0.369 & 0.369 & 0.980 & 1.00652 & 0.0090 & 0.4673 &  0 & -++++---++-++-+++-++++-----++--+--+-+-+-+--+-+++---++++++-++---+++--+-++++-- &  8.9 & 75 & 0.26250 & 53386 & 77258 & 58749.13\\\\\n",
       "\t 11 & 11:743813\\_T\\_C &  743813 & T & C & 0.462 & 0.456 & 0.969 & 1.00995 & 0.0088 & 0.2617 & 41 & +----++++-+-+--+-++++++-++-++-++--+++--+--+----+++---+-++-+++--++++++++----+ &  0.0 & 75 & 0.70980 & 53386 & 77258 & 58749.13\\\\\n",
       "\t  9 & 9:1068251\\_G\\_A & 1068251 & G & A & 0.432 & 0.430 & 0.982 & 0.99900 & 0.0088 & 0.9080 &  0 & +--+++--++--+++------+-+-+++-+++-----+-+--+++-+---+++-++---+--+--++-+---++-+ &  0.0 & 75 & 0.84280 & 53386 & 77258 & 58749.13\\\\\n",
       "\t  9 & 9:2750294\\_G\\_C & 2750294 & G & C & 0.922 & 0.920 & 0.967 & 0.99840 & 0.0162 & 0.9193 & 12 & ++--++-+-++++-+++-+--+-+-+---+--++-+--++----+-+-----++------+----+---+-+-+++ &  0.0 & 75 & 0.95190 & 53386 & 77258 & 58749.13\\\\\n",
       "\t  9 & 9:1180817\\_C\\_A & 1180817 & C & A & 0.943 & 0.941 & 0.952 & 1.02747 & 0.0188 & 0.1491 &  0 & ++-+-+-+++++---++-+--+++--+-+-------++++--------++-+-+++----++--++-----++++- & 26.0 & 75 & 0.02297 & 53386 & 77258 & 58749.13\\\\\n",
       "\\end{tabular}\n"
      ],
      "text/markdown": [
       "\n",
       "A data.table: 6 × 19\n",
       "\n",
       "| V1 &lt;int&gt; | V2 &lt;chr&gt; | V3 &lt;int&gt; | V4 &lt;chr&gt; | V5 &lt;chr&gt; | V6 &lt;dbl&gt; | V7 &lt;dbl&gt; | V8 &lt;dbl&gt; | V9 &lt;dbl&gt; | V10 &lt;dbl&gt; | V11 &lt;dbl&gt; | V12 &lt;int&gt; | V13 &lt;chr&gt; | V14 &lt;dbl&gt; | V15 &lt;int&gt; | V16 &lt;dbl&gt; | V17 &lt;int&gt; | V18 &lt;int&gt; | V19 &lt;dbl&gt; |\n",
       "|---|---|---|---|---|---|---|---|---|---|---|---|---|---|---|---|---|---|---|\n",
       "| 11 | 11:928669_C_A |  928669 | C | A | 0.464 | 0.463 | 0.972 | 1.01390 | 0.0088 | 0.1158 |  0 | --+--++---+--+---+---+-++++--++-++-+-+-+-++---+-+++-----++--++++-++++-+---++ | 26.2 | 75 | 0.02228 | 53386 | 77258 | 58749.13 |\n",
       "| 11 | 11:929269_A_G |  929269 | A | G | 0.369 | 0.369 | 0.980 | 1.00652 | 0.0090 | 0.4673 |  0 | -++++---++-++-+++-++++-----++--+--+-+-+-+--+-+++---++++++-++---+++--+-++++-- |  8.9 | 75 | 0.26250 | 53386 | 77258 | 58749.13 |\n",
       "| 11 | 11:743813_T_C |  743813 | T | C | 0.462 | 0.456 | 0.969 | 1.00995 | 0.0088 | 0.2617 | 41 | +----++++-+-+--+-++++++-++-++-++--+++--+--+----+++---+-++-+++--++++++++----+ |  0.0 | 75 | 0.70980 | 53386 | 77258 | 58749.13 |\n",
       "|  9 | 9:1068251_G_A | 1068251 | G | A | 0.432 | 0.430 | 0.982 | 0.99900 | 0.0088 | 0.9080 |  0 | +--+++--++--+++------+-+-+++-+++-----+-+--+++-+---+++-++---+--+--++-+---++-+ |  0.0 | 75 | 0.84280 | 53386 | 77258 | 58749.13 |\n",
       "|  9 | 9:2750294_G_C | 2750294 | G | C | 0.922 | 0.920 | 0.967 | 0.99840 | 0.0162 | 0.9193 | 12 | ++--++-+-++++-+++-+--+-+-+---+--++-+--++----+-+-----++------+----+---+-+-+++ |  0.0 | 75 | 0.95190 | 53386 | 77258 | 58749.13 |\n",
       "|  9 | 9:1180817_C_A | 1180817 | C | A | 0.943 | 0.941 | 0.952 | 1.02747 | 0.0188 | 0.1491 |  0 | ++-+-+-+++++---++-+--+++--+-+-------++++--------++-+-+++----++--++-----++++- | 26.0 | 75 | 0.02297 | 53386 | 77258 | 58749.13 |\n",
       "\n"
      ],
      "text/plain": [
       "  V1 V2            V3      V4 V5 V6    V7    V8    V9      V10    V11    V12\n",
       "1 11 11:928669_C_A  928669 C  A  0.464 0.463 0.972 1.01390 0.0088 0.1158  0 \n",
       "2 11 11:929269_A_G  929269 A  G  0.369 0.369 0.980 1.00652 0.0090 0.4673  0 \n",
       "3 11 11:743813_T_C  743813 T  C  0.462 0.456 0.969 1.00995 0.0088 0.2617 41 \n",
       "4  9 9:1068251_G_A 1068251 G  A  0.432 0.430 0.982 0.99900 0.0088 0.9080  0 \n",
       "5  9 9:2750294_G_C 2750294 G  C  0.922 0.920 0.967 0.99840 0.0162 0.9193 12 \n",
       "6  9 9:1180817_C_A 1180817 C  A  0.943 0.941 0.952 1.02747 0.0188 0.1491  0 \n",
       "  V13                                                                         \n",
       "1 --+--++---+--+---+---+-++++--++-++-+-+-+-++---+-+++-----++--++++-++++-+---++\n",
       "2 -++++---++-++-+++-++++-----++--+--+-+-+-+--+-+++---++++++-++---+++--+-++++--\n",
       "3 +----++++-+-+--+-++++++-++-++-++--+++--+--+----+++---+-++-+++--++++++++----+\n",
       "4 +--+++--++--+++------+-+-+++-+++-----+-+--+++-+---+++-++---+--+--++-+---++-+\n",
       "5 ++--++-+-++++-+++-+--+-+-+---+--++-+--++----+-+-----++------+----+---+-+-+++\n",
       "6 ++-+-+-+++++---++-+--+++--+-+-------++++--------++-+-+++----++--++-----++++-\n",
       "  V14  V15 V16     V17   V18   V19     \n",
       "1 26.2 75  0.02228 53386 77258 58749.13\n",
       "2  8.9 75  0.26250 53386 77258 58749.13\n",
       "3  0.0 75  0.70980 53386 77258 58749.13\n",
       "4  0.0 75  0.84280 53386 77258 58749.13\n",
       "5  0.0 75  0.95190 53386 77258 58749.13\n",
       "6 26.0 75  0.02297 53386 77258 58749.13"
      ]
     },
     "metadata": {},
     "output_type": "display_data"
    }
   ],
   "source": [
    "head(summary_stats_test_matching)"
   ]
  },
  {
   "cell_type": "markdown",
   "id": "c940ecf6-ae2b-42f8-8dc3-492cb88d855b",
   "metadata": {
    "jp-MarkdownHeadingCollapsed": true
   },
   "source": [
    "#### Check for the others"
   ]
  },
  {
   "cell_type": "code",
   "execution_count": null,
   "id": "2035d620-0975-4c1a-833b-979fd81779f5",
   "metadata": {},
   "outputs": [],
   "source": []
  },
  {
   "cell_type": "code",
   "execution_count": null,
   "id": "cd9757cf-39e8-44c3-bbb2-9aacc8bd486c",
   "metadata": {},
   "outputs": [],
   "source": []
  },
  {
   "cell_type": "code",
   "execution_count": 71,
   "id": "f48a8ffe-3fc1-4e2f-adf5-5fd753c2a42c",
   "metadata": {},
   "outputs": [
    {
     "name": "stderr",
     "output_type": "stream",
     "text": [
      "Warning message in fread(summary_stats_path):\n",
      "“Detected 1 column names but the data has 16 columns (i.e. invalid file). Added 15 extra default column names at the end.”\n"
     ]
    },
    {
     "name": "stdout",
     "output_type": "stream",
     "text": [
      "[1] \"This file: /expanse/lustre/projects/jhu152/naglemi/mwas/gwas//gwas_stat_bp\"\n",
      "[1] \"n matching: 0\"\n",
      "[1] \"n nonmatching: 0\"\n",
      "[1] \"perc matching: NaN%\"\n",
      "[1] \"This file: /expanse/lustre/projects/jhu152/naglemi/mwas/gwas//gwas_stat_mdd\"\n",
      "[1] \"n matching: 0\"\n",
      "[1] \"n nonmatching: 0\"\n",
      "[1] \"perc matching: NaN%\"\n"
     ]
    },
    {
     "name": "stderr",
     "output_type": "stream",
     "text": [
      "Warning message in fread(summary_stats_path):\n",
      "“Detected 1 column names but the data has 19 columns (i.e. invalid file). Added 18 extra default column names at the end.”\n"
     ]
    },
    {
     "name": "stdout",
     "output_type": "stream",
     "text": [
      "[1] \"This file: /expanse/lustre/projects/jhu152/naglemi/mwas/gwas//gwas_stat_scz\"\n",
      "[1] \"n matching: 105\"\n",
      "[1] \"n nonmatching: 5240\"\n",
      "[1] \"perc matching: 0.0200381679389313%\"\n"
     ]
    }
   ],
   "source": [
    "for(i in 1:3){\n",
    "    summary_stats_path <- summary_stats_paths[i]\n",
    "    \n",
    "    summary_stats <- fread(summary_stats_path)\n",
    "    \n",
    "    summary_stats_test <- summary_stats[grepl(\":\", summary_stats$V2), ]\n",
    "    \n",
    "    library(stringr)\n",
    "    \n",
    "    pos_test <- str_split_fixed(summary_stats_test$V2, \":\", 2)[, 2]\n",
    "    pos_test <- str_split_fixed(pos_test, \"_\", 2)[, 1]\n",
    "    \n",
    "    colnames(summary_stats_test)[1] <- \"V1\"\n",
    "    \n",
    "    summary_stats_test_matching <- summary_stats_test[which(summary_stats_test$V3 == pos_test), ]\n",
    "    \n",
    "    summary_stats_test_nonmatching <- summary_stats_test[!which(summary_stats_test$V3 == pos_test), ]\n",
    "    \n",
    "    print(paste0(\"This file: \", summary_stats_paths[i]))\n",
    "    n_match <- nrow(summary_stats_test_matching)\n",
    "    n_nonmatch <- nrow(summary_stats_test_nonmatching)\n",
    "    \n",
    "    perc_match <- n_match/n_nonmatch\n",
    "    \n",
    "    perc_match <- n_match / n_nonmatch\n",
    "    print(paste0(\"n matching: \", n_match))\n",
    "    print(paste0(\"n nonmatching: \", n_nonmatch))\n",
    "    print(paste0(\"perc matching: \", perc_match, \"%\"))\n",
    "}"
   ]
  },
  {
   "cell_type": "code",
   "execution_count": null,
   "id": "235310c9-0b24-42ac-ae1b-dc6b1b199993",
   "metadata": {},
   "outputs": [],
   "source": []
  },
  {
   "cell_type": "markdown",
   "id": "40b990cd-7fc7-45b3-b443-8a43f3ac645d",
   "metadata": {},
   "source": [
    "#### Continue onward..."
   ]
  },
  {
   "cell_type": "code",
   "execution_count": null,
   "id": "019e455d-06fc-47d0-889d-0b1c4fca4a65",
   "metadata": {},
   "outputs": [],
   "source": []
  },
  {
   "cell_type": "code",
   "execution_count": null,
   "id": "8094cb84-fab1-4c89-9b2d-cf4900313cad",
   "metadata": {},
   "outputs": [],
   "source": []
  },
  {
   "cell_type": "code",
   "execution_count": null,
   "id": "66ce9211-edae-4534-9ea6-4e6ec6333bf0",
   "metadata": {},
   "outputs": [],
   "source": []
  },
  {
   "cell_type": "code",
   "execution_count": null,
   "id": "8d9f304c-86d6-4918-87d5-b8b2145307ec",
   "metadata": {},
   "outputs": [],
   "source": []
  },
  {
   "cell_type": "code",
   "execution_count": 49,
   "id": "1827011f-bb08-484a-87ad-258ddc6246b8",
   "metadata": {},
   "outputs": [
    {
     "data": {
      "text/html": [
       "<table class=\"dataframe\">\n",
       "<caption>A data.table: 1 × 19</caption>\n",
       "<thead>\n",
       "\t<tr><th scope=col>CHR\tSNP\tBP\tA1\tA2\tFRQ_A_53386\tFRQ_U_77258\tINFO\tOR\tSE\tP\tngt\tDirection\tHetISqt\tHetDf\tHetPVa\tNca\tNco\tNeff</th><th scope=col>V2</th><th scope=col>V3</th><th scope=col>V4</th><th scope=col>V5</th><th scope=col>V6</th><th scope=col>V7</th><th scope=col>V8</th><th scope=col>V9</th><th scope=col>V10</th><th scope=col>V11</th><th scope=col>V12</th><th scope=col>V13</th><th scope=col>V14</th><th scope=col>V15</th><th scope=col>V16</th><th scope=col>V17</th><th scope=col>V18</th><th scope=col>V19</th></tr>\n",
       "\t<tr><th scope=col>&lt;int&gt;</th><th scope=col>&lt;chr&gt;</th><th scope=col>&lt;int&gt;</th><th scope=col>&lt;chr&gt;</th><th scope=col>&lt;chr&gt;</th><th scope=col>&lt;dbl&gt;</th><th scope=col>&lt;dbl&gt;</th><th scope=col>&lt;dbl&gt;</th><th scope=col>&lt;dbl&gt;</th><th scope=col>&lt;dbl&gt;</th><th scope=col>&lt;dbl&gt;</th><th scope=col>&lt;int&gt;</th><th scope=col>&lt;chr&gt;</th><th scope=col>&lt;dbl&gt;</th><th scope=col>&lt;int&gt;</th><th scope=col>&lt;dbl&gt;</th><th scope=col>&lt;int&gt;</th><th scope=col>&lt;int&gt;</th><th scope=col>&lt;dbl&gt;</th></tr>\n",
       "</thead>\n",
       "<tbody>\n",
       "\t<tr><td>7</td><td>7:1826023_T_G</td><td>1786387</td><td>T</td><td>G</td><td>0.74</td><td>0.746</td><td>1</td><td>0.98108</td><td>0.0098</td><td>0.05192</td><td>0</td><td>+--+-----+---++--+---+-+++-+--++++++--++---+++++---++-+-+-++-+-+--+-+-+-+--+</td><td>13.8</td><td>75</td><td>0.1627</td><td>53386</td><td>77258</td><td>58749.13</td></tr>\n",
       "</tbody>\n",
       "</table>\n"
      ],
      "text/latex": [
       "A data.table: 1 × 19\n",
       "\\begin{tabular}{lllllllllllllllllll}\n",
       " CHR\tSNP\tBP\tA1\tA2\tFRQ\\_A\\_53386\tFRQ\\_U\\_77258\tINFO\tOR\tSE\tP\tngt\tDirection\tHetISqt\tHetDf\tHetPVa\tNca\tNco\tNeff & V2 & V3 & V4 & V5 & V6 & V7 & V8 & V9 & V10 & V11 & V12 & V13 & V14 & V15 & V16 & V17 & V18 & V19\\\\\n",
       " <int> & <chr> & <int> & <chr> & <chr> & <dbl> & <dbl> & <dbl> & <dbl> & <dbl> & <dbl> & <int> & <chr> & <dbl> & <int> & <dbl> & <int> & <int> & <dbl>\\\\\n",
       "\\hline\n",
       "\t 7 & 7:1826023\\_T\\_G & 1786387 & T & G & 0.74 & 0.746 & 1 & 0.98108 & 0.0098 & 0.05192 & 0 & +--+-----+---++--+---+-+++-+--++++++--++---+++++---++-+-+-++-+-+--+-+-+-+--+ & 13.8 & 75 & 0.1627 & 53386 & 77258 & 58749.13\\\\\n",
       "\\end{tabular}\n"
      ],
      "text/markdown": [
       "\n",
       "A data.table: 1 × 19\n",
       "\n",
       "| CHR\tSNP\tBP\tA1\tA2\tFRQ_A_53386\tFRQ_U_77258\tINFO\tOR\tSE\tP\tngt\tDirection\tHetISqt\tHetDf\tHetPVa\tNca\tNco\tNeff &lt;int&gt; | V2 &lt;chr&gt; | V3 &lt;int&gt; | V4 &lt;chr&gt; | V5 &lt;chr&gt; | V6 &lt;dbl&gt; | V7 &lt;dbl&gt; | V8 &lt;dbl&gt; | V9 &lt;dbl&gt; | V10 &lt;dbl&gt; | V11 &lt;dbl&gt; | V12 &lt;int&gt; | V13 &lt;chr&gt; | V14 &lt;dbl&gt; | V15 &lt;int&gt; | V16 &lt;dbl&gt; | V17 &lt;int&gt; | V18 &lt;int&gt; | V19 &lt;dbl&gt; |\n",
       "|---|---|---|---|---|---|---|---|---|---|---|---|---|---|---|---|---|---|---|\n",
       "| 7 | 7:1826023_T_G | 1786387 | T | G | 0.74 | 0.746 | 1 | 0.98108 | 0.0098 | 0.05192 | 0 | +--+-----+---++--+---+-+++-+--++++++--++---+++++---++-+-+-++-+-+--+-+-+-+--+ | 13.8 | 75 | 0.1627 | 53386 | 77258 | 58749.13 |\n",
       "\n"
      ],
      "text/plain": [
       "  CHR\\tSNP\\tBP\\tA1\\tA2\\tFRQ_A_53386\\tFRQ_U_77258\\tINFO\\tOR\\tSE\\tP\\tngt\\tDirection\\tHetISqt\\tHetDf\\tHetPVa\\tNca\\tNco\\tNeff\n",
       "1 7                                                                                                                      \n",
       "  V2            V3      V4 V5 V6   V7    V8 V9      V10    V11     V12\n",
       "1 7:1826023_T_G 1786387 T  G  0.74 0.746 1  0.98108 0.0098 0.05192 0  \n",
       "  V13                                                                         \n",
       "1 +--+-----+---++--+---+-+++-+--++++++--++---+++++---++-+-+-++-+-+--+-+-+-+--+\n",
       "  V14  V15 V16    V17   V18   V19     \n",
       "1 13.8 75  0.1627 53386 77258 58749.13"
      ]
     },
     "metadata": {},
     "output_type": "display_data"
    }
   ],
   "source": [
    "summary_stats[which(summary_stats$V3 == 1786387), ]"
   ]
  },
  {
   "cell_type": "code",
   "execution_count": 94,
   "id": "fee4ef96-eb22-4953-a29d-04ccd851aff6",
   "metadata": {},
   "outputs": [
    {
     "name": "stdout",
     "output_type": "stream",
     "text": [
      "[1] \"Z set already\"\n"
     ]
    }
   ],
   "source": [
    "summary_stats <- clean_and_standardize_colnames(summary_stats)"
   ]
  },
  {
   "cell_type": "code",
   "execution_count": 95,
   "id": "355083ba-a61b-493f-a2a9-a4d56f832c6b",
   "metadata": {},
   "outputs": [],
   "source": [
    "chr <- 7"
   ]
  },
  {
   "cell_type": "code",
   "execution_count": 96,
   "id": "51f06c2c-f36e-4e7a-b82a-d75dbbf74bf7",
   "metadata": {},
   "outputs": [],
   "source": [
    "ref <- fread(paste0(\"/expanse/lustre/projects/jhu152/naglemi/mwas/gwas_flipped/ref_EUR_allele-match-libd_chr\", chr, \".pvar\"),\n",
    "             select = c(\"#CHROM\", \"POS\", \"REF\", \"ALT\"),\n",
    "             col.names = c(\"CHR\", \"BP\", \"REF_EUR\", \"ALT_EUR\"))\n",
    "\n",
    "libd <- fread(paste0(\"/expanse/lustre/projects/jhu152/naglemi/mwas/gwas_flipped/libd_chr\", chr, \".pvar\"),\n",
    "              select = c(\"#CHROM\", \"POS\", \"REF\", \"ALT\"),\n",
    "              col.names = c(\"CHR\", \"BP\", \"REF_libd\", \"ALT_libd\"))"
   ]
  },
  {
   "cell_type": "code",
   "execution_count": 97,
   "id": "3ab6af94-1843-47d1-9fa6-c45665cdf567",
   "metadata": {},
   "outputs": [],
   "source": [
    "# Merge with reference and LIBD data by CHR and BP\n",
    "merged_ref <- merge(summary_stats, ref, by = c(\"CHR\", \"BP\"), suffixes = c(\"\", \"_ref\"))\n",
    "merged_data <- merge(merged_ref, libd, by = c(\"CHR\", \"BP\"), suffixes = c(\"\", \"_libd\"))\n",
    "\n",
    "# Identify and flip alleles where necessary\n",
    "flip_index <- which(merged_data$A1 != merged_data$REF_EUR)"
   ]
  },
  {
   "cell_type": "code",
   "execution_count": 40,
   "id": "39dc46b1-a2ba-407b-b97d-9d6c16c5b384",
   "metadata": {},
   "outputs": [
    {
     "data": {
      "text/html": [
       "<table class=\"dataframe\">\n",
       "<caption>A data.table: 1 × 21</caption>\n",
       "<thead>\n",
       "\t<tr><th scope=col>CHR</th><th scope=col>SNP</th><th scope=col>BP</th><th scope=col>A1</th><th scope=col>A2</th><th scope=col>FRQ_A_53386</th><th scope=col>FRQ_U_77258</th><th scope=col>INFO</th><th scope=col>OR</th><th scope=col>SE</th><th scope=col>⋯</th><th scope=col>ngt</th><th scope=col>Direction</th><th scope=col>HetISqt</th><th scope=col>HetDf</th><th scope=col>HetPVa</th><th scope=col>Nca</th><th scope=col>Nco</th><th scope=col>Neff</th><th scope=col>logOR</th><th scope=col>Z</th></tr>\n",
       "\t<tr><th scope=col>&lt;int&gt;</th><th scope=col>&lt;chr&gt;</th><th scope=col>&lt;int&gt;</th><th scope=col>&lt;chr&gt;</th><th scope=col>&lt;chr&gt;</th><th scope=col>&lt;dbl&gt;</th><th scope=col>&lt;dbl&gt;</th><th scope=col>&lt;dbl&gt;</th><th scope=col>&lt;dbl&gt;</th><th scope=col>&lt;dbl&gt;</th><th scope=col>⋯</th><th scope=col>&lt;int&gt;</th><th scope=col>&lt;chr&gt;</th><th scope=col>&lt;dbl&gt;</th><th scope=col>&lt;int&gt;</th><th scope=col>&lt;dbl&gt;</th><th scope=col>&lt;int&gt;</th><th scope=col>&lt;int&gt;</th><th scope=col>&lt;dbl&gt;</th><th scope=col>&lt;dbl&gt;</th><th scope=col>&lt;dbl&gt;</th></tr>\n",
       "</thead>\n",
       "<tbody>\n",
       "\t<tr><td>7</td><td>7:1826023_T_G</td><td>1786387</td><td>T</td><td>G</td><td>0.74</td><td>0.746</td><td>1</td><td>0.98108</td><td>0.0098</td><td>⋯</td><td>0</td><td>+--+-----+---++--+---+-+++-+--++++++--++---+++++---++-+-+-++-+-+--+-+-+-+--+</td><td>13.8</td><td>75</td><td>0.1627</td><td>53386</td><td>77258</td><td>58749.13</td><td>-0.01910127</td><td>-1.94911</td></tr>\n",
       "</tbody>\n",
       "</table>\n"
      ],
      "text/latex": [
       "A data.table: 1 × 21\n",
       "\\begin{tabular}{lllllllllllllllllllll}\n",
       " CHR & SNP & BP & A1 & A2 & FRQ\\_A\\_53386 & FRQ\\_U\\_77258 & INFO & OR & SE & ⋯ & ngt & Direction & HetISqt & HetDf & HetPVa & Nca & Nco & Neff & logOR & Z\\\\\n",
       " <int> & <chr> & <int> & <chr> & <chr> & <dbl> & <dbl> & <dbl> & <dbl> & <dbl> & ⋯ & <int> & <chr> & <dbl> & <int> & <dbl> & <int> & <int> & <dbl> & <dbl> & <dbl>\\\\\n",
       "\\hline\n",
       "\t 7 & 7:1826023\\_T\\_G & 1786387 & T & G & 0.74 & 0.746 & 1 & 0.98108 & 0.0098 & ⋯ & 0 & +--+-----+---++--+---+-+++-+--++++++--++---+++++---++-+-+-++-+-+--+-+-+-+--+ & 13.8 & 75 & 0.1627 & 53386 & 77258 & 58749.13 & -0.01910127 & -1.94911\\\\\n",
       "\\end{tabular}\n"
      ],
      "text/markdown": [
       "\n",
       "A data.table: 1 × 21\n",
       "\n",
       "| CHR &lt;int&gt; | SNP &lt;chr&gt; | BP &lt;int&gt; | A1 &lt;chr&gt; | A2 &lt;chr&gt; | FRQ_A_53386 &lt;dbl&gt; | FRQ_U_77258 &lt;dbl&gt; | INFO &lt;dbl&gt; | OR &lt;dbl&gt; | SE &lt;dbl&gt; | ⋯ ⋯ | ngt &lt;int&gt; | Direction &lt;chr&gt; | HetISqt &lt;dbl&gt; | HetDf &lt;int&gt; | HetPVa &lt;dbl&gt; | Nca &lt;int&gt; | Nco &lt;int&gt; | Neff &lt;dbl&gt; | logOR &lt;dbl&gt; | Z &lt;dbl&gt; |\n",
       "|---|---|---|---|---|---|---|---|---|---|---|---|---|---|---|---|---|---|---|---|---|\n",
       "| 7 | 7:1826023_T_G | 1786387 | T | G | 0.74 | 0.746 | 1 | 0.98108 | 0.0098 | ⋯ | 0 | +--+-----+---++--+---+-+++-+--++++++--++---+++++---++-+-+-++-+-+--+-+-+-+--+ | 13.8 | 75 | 0.1627 | 53386 | 77258 | 58749.13 | -0.01910127 | -1.94911 |\n",
       "\n"
      ],
      "text/plain": [
       "  CHR SNP           BP      A1 A2 FRQ_A_53386 FRQ_U_77258 INFO OR      SE     ⋯\n",
       "1 7   7:1826023_T_G 1786387 T  G  0.74        0.746       1    0.98108 0.0098 ⋯\n",
       "  ngt\n",
       "1 0  \n",
       "  Direction                                                                   \n",
       "1 +--+-----+---++--+---+-+++-+--++++++--++---+++++---++-+-+-++-+-+--+-+-+-+--+\n",
       "  HetISqt HetDf HetPVa Nca   Nco   Neff     logOR       Z       \n",
       "1 13.8    75    0.1627 53386 77258 58749.13 -0.01910127 -1.94911"
      ]
     },
     "metadata": {},
     "output_type": "display_data"
    }
   ],
   "source": [
    "summary_stats[which(summary_stats$BP == 1786387), ]"
   ]
  },
  {
   "cell_type": "markdown",
   "id": "74e35b97-84e9-4594-9728-44d5b8adec07",
   "metadata": {},
   "source": [
    "Why a mismatch between BP and SNP?"
   ]
  },
  {
   "cell_type": "code",
   "execution_count": null,
   "id": "6bd3b1a8-4a2b-484f-9585-3d38fe1e002f",
   "metadata": {},
   "outputs": [],
   "source": []
  },
  {
   "cell_type": "code",
   "execution_count": null,
   "id": "472405cb-80ce-4196-89cf-177a8db1ce9f",
   "metadata": {},
   "outputs": [],
   "source": []
  },
  {
   "cell_type": "code",
   "execution_count": null,
   "id": "5cdfff20-7fa4-4f96-8267-4c8d7e6bb98b",
   "metadata": {},
   "outputs": [],
   "source": []
  },
  {
   "cell_type": "code",
   "execution_count": 98,
   "id": "b6000182-da44-42bd-8919-353c19d674d6",
   "metadata": {},
   "outputs": [],
   "source": [
    "# Flip alleles and BETA where necessary\n",
    "if (length(flip_index) > 0) {\n",
    "    merged_data[flip_index, `:=`(A1 = A2, A2 = A1, Z = -Z)]\n",
    "}\n",
    "summary_stats <- merged_data"
   ]
  },
  {
   "cell_type": "code",
   "execution_count": 99,
   "id": "b1665e99-49b1-4436-9b3f-e0e7f115dc80",
   "metadata": {},
   "outputs": [
    {
     "data": {
      "text/html": [
       "<style>\n",
       ".list-inline {list-style: none; margin:0; padding: 0}\n",
       ".list-inline>li {display: inline-block}\n",
       ".list-inline>li:not(:last-child)::after {content: \"\\00b7\"; padding: 0 .5ex}\n",
       "</style>\n",
       "<ol class=list-inline><li>26929</li><li>26931</li><li>26932</li><li>26933</li><li>26935</li><li>26936</li></ol>\n"
      ],
      "text/latex": [
       "\\begin{enumerate*}\n",
       "\\item 26929\n",
       "\\item 26931\n",
       "\\item 26932\n",
       "\\item 26933\n",
       "\\item 26935\n",
       "\\item 26936\n",
       "\\end{enumerate*}\n"
      ],
      "text/markdown": [
       "1. 26929\n",
       "2. 26931\n",
       "3. 26932\n",
       "4. 26933\n",
       "5. 26935\n",
       "6. 26936\n",
       "\n",
       "\n"
      ],
      "text/plain": [
       "[1] 26929 26931 26932 26933 26935 26936"
      ]
     },
     "metadata": {},
     "output_type": "display_data"
    }
   ],
   "source": [
    "head(flip_index)"
   ]
  },
  {
   "cell_type": "code",
   "execution_count": 100,
   "id": "8f4c5b69-2c05-4fcf-bf26-be91ac4f1fe4",
   "metadata": {},
   "outputs": [
    {
     "data": {
      "text/html": [
       "774"
      ],
      "text/latex": [
       "774"
      ],
      "text/markdown": [
       "774"
      ],
      "text/plain": [
       "[1] 774"
      ]
     },
     "metadata": {},
     "output_type": "display_data"
    }
   ],
   "source": [
    "length(flip_index)"
   ]
  },
  {
   "cell_type": "code",
   "execution_count": 101,
   "id": "58e01d4a-5af9-4f76-8a9c-61b8d893c07a",
   "metadata": {},
   "outputs": [
    {
     "data": {
      "text/html": [
       "<style>\n",
       ".list-inline {list-style: none; margin:0; padding: 0}\n",
       ".list-inline>li {display: inline-block}\n",
       ".list-inline>li:not(:last-child)::after {content: \"\\00b7\"; padding: 0 .5ex}\n",
       "</style>\n",
       "<ol class=list-inline><li>345874</li><li>19</li></ol>\n"
      ],
      "text/latex": [
       "\\begin{enumerate*}\n",
       "\\item 345874\n",
       "\\item 19\n",
       "\\end{enumerate*}\n"
      ],
      "text/markdown": [
       "1. 345874\n",
       "2. 19\n",
       "\n",
       "\n"
      ],
      "text/plain": [
       "[1] 345874     19"
      ]
     },
     "metadata": {},
     "output_type": "display_data"
    }
   ],
   "source": [
    "dim(merged_ref)"
   ]
  },
  {
   "cell_type": "code",
   "execution_count": 102,
   "id": "f182ddb2-1e68-4696-9cd8-05a85497b3b5",
   "metadata": {},
   "outputs": [
    {
     "data": {
      "text/html": [
       "<style>\n",
       ".list-inline {list-style: none; margin:0; padding: 0}\n",
       ".list-inline>li {display: inline-block}\n",
       ".list-inline>li:not(:last-child)::after {content: \"\\00b7\"; padding: 0 .5ex}\n",
       "</style>\n",
       "<ol class=list-inline><li>345874</li><li>21</li></ol>\n"
      ],
      "text/latex": [
       "\\begin{enumerate*}\n",
       "\\item 345874\n",
       "\\item 21\n",
       "\\end{enumerate*}\n"
      ],
      "text/markdown": [
       "1. 345874\n",
       "2. 21\n",
       "\n",
       "\n"
      ],
      "text/plain": [
       "[1] 345874     21"
      ]
     },
     "metadata": {},
     "output_type": "display_data"
    }
   ],
   "source": [
    "dim(merged_data)"
   ]
  },
  {
   "cell_type": "code",
   "execution_count": null,
   "id": "81961203-0f00-4813-8581-562a0ce611be",
   "metadata": {},
   "outputs": [],
   "source": []
  },
  {
   "cell_type": "code",
   "execution_count": 103,
   "id": "2b857dc3-2731-428a-a57f-f71aaf974621",
   "metadata": {},
   "outputs": [],
   "source": [
    "# # Define the columns that need to be retained, ensuring flexibility\n",
    "# retain_cols <- intersect(c(\"CHR\", \"BP\", \"SNP\", \"A1\", \"A2\", \"BETA\", \"SE\", \"P\", \"PVAL\", \"Freq\", \n",
    "#                            \"NGT\", \"FCAS\", \"FCON\", \"IMPINFO\", \"NEFFDIV2\", \"NCAS\", \"NCON\", \"DIRE\"), \n",
    "#                          names(merged_data))\n",
    "\n",
    "# summary_stats <- merged_data[, ..retain_cols]"
   ]
  },
  {
   "cell_type": "code",
   "execution_count": null,
   "id": "7755f884-cf4d-4180-a361-e6973bfea044",
   "metadata": {},
   "outputs": [],
   "source": []
  },
  {
   "cell_type": "code",
   "execution_count": 104,
   "id": "4cbac68c-35dc-4c14-a063-11f623c1e727",
   "metadata": {},
   "outputs": [],
   "source": [
    "#colnames(ref)[3:4] <- c(\"REF_EUR\", \"ALT_EUR\")\n",
    "# Merge with reference and LIBD data by CHR and BP\n",
    "merged_ref <- merge(summary_stats, ref, by = c(\"CHR\", \"BP\"), suffixes = c(\"\", \"_ref\"))\n",
    "merged_libd <- merge(merged_ref, libd, by = c(\"CHR\", \"BP\"), suffixes = c(\"\", \"_libd\"))"
   ]
  },
  {
   "cell_type": "code",
   "execution_count": 105,
   "id": "86b0715b-e236-4efa-8ee9-c308966b4a3d",
   "metadata": {},
   "outputs": [],
   "source": [
    "# Get indices where A1 doesn't match REF_EUR or A2 doesn't match ALT_EUR\n",
    "ref_mismatch_indices <- which(merged_ref$A1 != merged_ref$REF_EUR | merged_ref$A2 != merged_ref$ALT_EUR)\n",
    "\n",
    "# Similarly for libd\n",
    "libd_mismatch_indices <- which(merged_libd$A1 != merged_libd$REF_libd | merged_libd$A2 != merged_libd$ALT_libd)"
   ]
  },
  {
   "cell_type": "code",
   "execution_count": 106,
   "id": "62be0ebc-031e-4a4d-9499-46fe4da34517",
   "metadata": {},
   "outputs": [],
   "source": [
    "# Get indices where A1 doesn't match REF_EUR or A2 doesn't match ALT_EUR\n",
    "ref_mismatch_indices <- which(merged_ref$A1 != merged_ref$REF_EUR | merged_ref$A2 != merged_ref$ALT_EUR)\n",
    "\n",
    "# Similarly for libd\n",
    "libd_mismatch_indices <- which(merged_libd$A1 != merged_libd$REF_libd | merged_libd$A2 != merged_libd$ALT_libd)\n"
   ]
  },
  {
   "cell_type": "code",
   "execution_count": 107,
   "id": "37e15312-2c5b-4de6-9e0a-4e8b67e59fb0",
   "metadata": {},
   "outputs": [
    {
     "data": {
      "text/html": [
       "<style>\n",
       ".list-inline {list-style: none; margin:0; padding: 0}\n",
       ".list-inline>li {display: inline-block}\n",
       ".list-inline>li:not(:last-child)::after {content: \"\\00b7\"; padding: 0 .5ex}\n",
       "</style>\n",
       "<ol class=list-inline><li>345874</li><li>25</li></ol>\n"
      ],
      "text/latex": [
       "\\begin{enumerate*}\n",
       "\\item 345874\n",
       "\\item 25\n",
       "\\end{enumerate*}\n"
      ],
      "text/markdown": [
       "1. 345874\n",
       "2. 25\n",
       "\n",
       "\n"
      ],
      "text/plain": [
       "[1] 345874     25"
      ]
     },
     "metadata": {},
     "output_type": "display_data"
    }
   ],
   "source": [
    "dim(merged_libd)"
   ]
  },
  {
   "cell_type": "code",
   "execution_count": 108,
   "id": "a21742f2-a835-44c8-b1f3-144c2024ac85",
   "metadata": {},
   "outputs": [
    {
     "data": {
      "text/html": [
       "<table class=\"dataframe\">\n",
       "<caption>A data.table: 6 × 4</caption>\n",
       "<thead>\n",
       "\t<tr><th scope=col>CHR</th><th scope=col>BP</th><th scope=col>REF_EUR</th><th scope=col>ALT_EUR</th></tr>\n",
       "\t<tr><th scope=col>&lt;int&gt;</th><th scope=col>&lt;int&gt;</th><th scope=col>&lt;chr&gt;</th><th scope=col>&lt;chr&gt;</th></tr>\n",
       "</thead>\n",
       "<tbody>\n",
       "\t<tr><td>7</td><td>53998</td><td>C</td><td>T</td></tr>\n",
       "\t<tr><td>7</td><td>60728</td><td>G</td><td>A</td></tr>\n",
       "\t<tr><td>7</td><td>63494</td><td>A</td><td>G</td></tr>\n",
       "\t<tr><td>7</td><td>71938</td><td>A</td><td>C</td></tr>\n",
       "\t<tr><td>7</td><td>80500</td><td>T</td><td>C</td></tr>\n",
       "\t<tr><td>7</td><td>82240</td><td>C</td><td>T</td></tr>\n",
       "</tbody>\n",
       "</table>\n"
      ],
      "text/latex": [
       "A data.table: 6 × 4\n",
       "\\begin{tabular}{llll}\n",
       " CHR & BP & REF\\_EUR & ALT\\_EUR\\\\\n",
       " <int> & <int> & <chr> & <chr>\\\\\n",
       "\\hline\n",
       "\t 7 & 53998 & C & T\\\\\n",
       "\t 7 & 60728 & G & A\\\\\n",
       "\t 7 & 63494 & A & G\\\\\n",
       "\t 7 & 71938 & A & C\\\\\n",
       "\t 7 & 80500 & T & C\\\\\n",
       "\t 7 & 82240 & C & T\\\\\n",
       "\\end{tabular}\n"
      ],
      "text/markdown": [
       "\n",
       "A data.table: 6 × 4\n",
       "\n",
       "| CHR &lt;int&gt; | BP &lt;int&gt; | REF_EUR &lt;chr&gt; | ALT_EUR &lt;chr&gt; |\n",
       "|---|---|---|---|\n",
       "| 7 | 53998 | C | T |\n",
       "| 7 | 60728 | G | A |\n",
       "| 7 | 63494 | A | G |\n",
       "| 7 | 71938 | A | C |\n",
       "| 7 | 80500 | T | C |\n",
       "| 7 | 82240 | C | T |\n",
       "\n"
      ],
      "text/plain": [
       "  CHR BP    REF_EUR ALT_EUR\n",
       "1 7   53998 C       T      \n",
       "2 7   60728 G       A      \n",
       "3 7   63494 A       G      \n",
       "4 7   71938 A       C      \n",
       "5 7   80500 T       C      \n",
       "6 7   82240 C       T      "
      ]
     },
     "metadata": {},
     "output_type": "display_data"
    }
   ],
   "source": [
    "head(ref) # forward strand"
   ]
  },
  {
   "cell_type": "code",
   "execution_count": 109,
   "id": "85f163f7-a17a-476e-b8a1-e4f7e7d4dae2",
   "metadata": {},
   "outputs": [
    {
     "data": {
      "text/html": [
       "<table class=\"dataframe\">\n",
       "<caption>A data.table: 6 × 4</caption>\n",
       "<thead>\n",
       "\t<tr><th scope=col>CHR</th><th scope=col>BP</th><th scope=col>REF_libd</th><th scope=col>ALT_libd</th></tr>\n",
       "\t<tr><th scope=col>&lt;int&gt;</th><th scope=col>&lt;int&gt;</th><th scope=col>&lt;chr&gt;</th><th scope=col>&lt;chr&gt;</th></tr>\n",
       "</thead>\n",
       "<tbody>\n",
       "\t<tr><td>7</td><td>53998</td><td>C</td><td>T</td></tr>\n",
       "\t<tr><td>7</td><td>60728</td><td>G</td><td>A</td></tr>\n",
       "\t<tr><td>7</td><td>63494</td><td>A</td><td>G</td></tr>\n",
       "\t<tr><td>7</td><td>71938</td><td>A</td><td>C</td></tr>\n",
       "\t<tr><td>7</td><td>80500</td><td>T</td><td>C</td></tr>\n",
       "\t<tr><td>7</td><td>82240</td><td>C</td><td>T</td></tr>\n",
       "</tbody>\n",
       "</table>\n"
      ],
      "text/latex": [
       "A data.table: 6 × 4\n",
       "\\begin{tabular}{llll}\n",
       " CHR & BP & REF\\_libd & ALT\\_libd\\\\\n",
       " <int> & <int> & <chr> & <chr>\\\\\n",
       "\\hline\n",
       "\t 7 & 53998 & C & T\\\\\n",
       "\t 7 & 60728 & G & A\\\\\n",
       "\t 7 & 63494 & A & G\\\\\n",
       "\t 7 & 71938 & A & C\\\\\n",
       "\t 7 & 80500 & T & C\\\\\n",
       "\t 7 & 82240 & C & T\\\\\n",
       "\\end{tabular}\n"
      ],
      "text/markdown": [
       "\n",
       "A data.table: 6 × 4\n",
       "\n",
       "| CHR &lt;int&gt; | BP &lt;int&gt; | REF_libd &lt;chr&gt; | ALT_libd &lt;chr&gt; |\n",
       "|---|---|---|---|\n",
       "| 7 | 53998 | C | T |\n",
       "| 7 | 60728 | G | A |\n",
       "| 7 | 63494 | A | G |\n",
       "| 7 | 71938 | A | C |\n",
       "| 7 | 80500 | T | C |\n",
       "| 7 | 82240 | C | T |\n",
       "\n"
      ],
      "text/plain": [
       "  CHR BP    REF_libd ALT_libd\n",
       "1 7   53998 C        T       \n",
       "2 7   60728 G        A       \n",
       "3 7   63494 A        G       \n",
       "4 7   71938 A        C       \n",
       "5 7   80500 T        C       \n",
       "6 7   82240 C        T       "
      ]
     },
     "metadata": {},
     "output_type": "display_data"
    }
   ],
   "source": [
    "head(libd)"
   ]
  },
  {
   "cell_type": "markdown",
   "id": "d0dfdd0e-a5f5-4671-b5d8-f8ccd1e2d818",
   "metadata": {},
   "source": [
    "For how many loci is there a mismatch between summary stats and ref_libd?\n",
    "\"I would suggest you change the sign of GWAS summary results to match alleles in the LIBD dataset\""
   ]
  },
  {
   "cell_type": "code",
   "execution_count": 110,
   "id": "f46a1027-1ba0-41f1-a895-ffd35d4fe4d0",
   "metadata": {},
   "outputs": [
    {
     "data": {
      "text/html": [
       "0"
      ],
      "text/latex": [
       "0"
      ],
      "text/markdown": [
       "0"
      ],
      "text/plain": [
       "[1] 0"
      ]
     },
     "metadata": {},
     "output_type": "display_data"
    }
   ],
   "source": [
    "length(libd_mismatch_indices)"
   ]
  },
  {
   "cell_type": "markdown",
   "id": "a7fe703e-aa86-4a28-8075-55a88999114a",
   "metadata": {},
   "source": [
    "For how many alleles is there a mismatch between summary stats and ref_EUR?"
   ]
  },
  {
   "cell_type": "code",
   "execution_count": 111,
   "id": "d41ee051-b04a-4c5d-bab3-11b476b82c91",
   "metadata": {},
   "outputs": [
    {
     "data": {
      "text/html": [
       "0"
      ],
      "text/latex": [
       "0"
      ],
      "text/markdown": [
       "0"
      ],
      "text/plain": [
       "[1] 0"
      ]
     },
     "metadata": {},
     "output_type": "display_data"
    }
   ],
   "source": [
    "length(ref_mismatch_indices)"
   ]
  },
  {
   "cell_type": "markdown",
   "id": "d8332118-cacc-4e90-b868-cdc3c82343ab",
   "metadata": {},
   "source": [
    "An issue we have is that if we only change sign of GWAS summary statistics with respect to alleles in LIBD dataset, we still have cases where both mismatch with ref_EUR, and flipped alleles in ref_EUR will change the z.cor used to compute p-values."
   ]
  },
  {
   "cell_type": "markdown",
   "id": "405b3345-e2ba-4a04-9904-c593386290e7",
   "metadata": {},
   "source": [
    "For how many loci do we have ref_libd and ref_EUR both disagree with summary stats?"
   ]
  },
  {
   "cell_type": "code",
   "execution_count": 45,
   "id": "f7f3cbe9-463f-417c-8464-6b8f884737a7",
   "metadata": {},
   "outputs": [],
   "source": [
    "ss_mismatch_both <- intersect(ref_mismatch_indices, libd_mismatch_indices)"
   ]
  },
  {
   "cell_type": "code",
   "execution_count": 46,
   "id": "9fec9f2d-6cc5-476e-ba7f-932a31340725",
   "metadata": {},
   "outputs": [
    {
     "data": {
      "text/html": [
       "0"
      ],
      "text/latex": [
       "0"
      ],
      "text/markdown": [
       "0"
      ],
      "text/plain": [
       "[1] 0"
      ]
     },
     "metadata": {},
     "output_type": "display_data"
    }
   ],
   "source": [
    "length(ss_mismatch_both)"
   ]
  },
  {
   "cell_type": "code",
   "execution_count": 47,
   "id": "436b718b-546a-4a08-ab4f-1836b17c3739",
   "metadata": {},
   "outputs": [],
   "source": [
    "library(data.table)\n",
    "\n",
    "# Assuming you have already loaded summary_stats, ref, and libd\n",
    "\n",
    "# Merge summary stats with ref by CHR and BP\n",
    "merged_data <- merge(summary_stats, ref, by = c(\"CHR\", \"BP\"), suffixes = c(\"\", \"_ref\"))\n",
    "\n",
    "# Merge the result with libd by CHR and BP\n",
    "merged_data <- merge(merged_data, libd, by = c(\"CHR\", \"BP\"), suffixes = c(\"\", \"_libd\"))\n",
    "\n",
    "# Now merged_data contains summary stats, ref, and libd alleles in one data.table\n"
   ]
  },
  {
   "cell_type": "code",
   "execution_count": 48,
   "id": "cec0607f-453c-43a6-893d-a326ec1e3ad3",
   "metadata": {},
   "outputs": [],
   "source": [
    "ref_mismatch_between_ref_libd <- which(merged_data$REF_EUR != merged_data$REF_libd)"
   ]
  },
  {
   "cell_type": "code",
   "execution_count": 49,
   "id": "53e51261-a896-4a85-af50-c17958004bfc",
   "metadata": {},
   "outputs": [
    {
     "data": {
      "text/html": [
       "0"
      ],
      "text/latex": [
       "0"
      ],
      "text/markdown": [
       "0"
      ],
      "text/plain": [
       "[1] 0"
      ]
     },
     "metadata": {},
     "output_type": "display_data"
    }
   ],
   "source": [
    "length(ref_mismatch_between_ref_libd)"
   ]
  },
  {
   "cell_type": "code",
   "execution_count": 50,
   "id": "bb50142c-bcab-41eb-8ade-74d7252d724f",
   "metadata": {},
   "outputs": [
    {
     "data": {
      "text/html": [
       "0"
      ],
      "text/latex": [
       "0"
      ],
      "text/markdown": [
       "0"
      ],
      "text/plain": [
       "[1] 0"
      ]
     },
     "metadata": {},
     "output_type": "display_data"
    }
   ],
   "source": [
    "length(intersect(ref_mismatch_between_ref_libd, ss_mismatch_both))"
   ]
  },
  {
   "cell_type": "code",
   "execution_count": 51,
   "id": "06bb6d3e-9a54-45e4-a436-f401b5ad2ecd",
   "metadata": {},
   "outputs": [
    {
     "data": {
      "text/html": [
       "<style>\n",
       ".list-inline {list-style: none; margin:0; padding: 0}\n",
       ".list-inline>li {display: inline-block}\n",
       ".list-inline>li:not(:last-child)::after {content: \"\\00b7\"; padding: 0 .5ex}\n",
       "</style>\n",
       "<ol class=list-inline><li>345874</li><li>25</li></ol>\n"
      ],
      "text/latex": [
       "\\begin{enumerate*}\n",
       "\\item 345874\n",
       "\\item 25\n",
       "\\end{enumerate*}\n"
      ],
      "text/markdown": [
       "1. 345874\n",
       "2. 25\n",
       "\n",
       "\n"
      ],
      "text/plain": [
       "[1] 345874     25"
      ]
     },
     "metadata": {},
     "output_type": "display_data"
    }
   ],
   "source": [
    "dim(merged_data)"
   ]
  },
  {
   "cell_type": "code",
   "execution_count": 52,
   "id": "197c2f5c-d9c8-4989-91e2-b77d63283b5b",
   "metadata": {},
   "outputs": [
    {
     "data": {
      "text/html": [
       "<table class=\"dataframe\">\n",
       "<caption>A data.table: 6 × 25</caption>\n",
       "<thead>\n",
       "\t<tr><th scope=col>CHR</th><th scope=col>BP</th><th scope=col>SNP</th><th scope=col>A1</th><th scope=col>A2</th><th scope=col>logOR</th><th scope=col>SE</th><th scope=col>PVAL</th><th scope=col>NGT</th><th scope=col>FCAS</th><th scope=col>⋯</th><th scope=col>DIRE</th><th scope=col>Z</th><th scope=col>REF_EUR</th><th scope=col>ALT_EUR</th><th scope=col>REF_libd</th><th scope=col>ALT_libd</th><th scope=col>REF_EUR_ref</th><th scope=col>ALT_EUR_ref</th><th scope=col>REF_libd_libd</th><th scope=col>ALT_libd_libd</th></tr>\n",
       "\t<tr><th scope=col>&lt;int&gt;</th><th scope=col>&lt;int&gt;</th><th scope=col>&lt;chr&gt;</th><th scope=col>&lt;chr&gt;</th><th scope=col>&lt;chr&gt;</th><th scope=col>&lt;dbl&gt;</th><th scope=col>&lt;dbl&gt;</th><th scope=col>&lt;dbl&gt;</th><th scope=col>&lt;int&gt;</th><th scope=col>&lt;dbl&gt;</th><th scope=col>⋯</th><th scope=col>&lt;chr&gt;</th><th scope=col>&lt;dbl&gt;</th><th scope=col>&lt;chr&gt;</th><th scope=col>&lt;chr&gt;</th><th scope=col>&lt;chr&gt;</th><th scope=col>&lt;chr&gt;</th><th scope=col>&lt;chr&gt;</th><th scope=col>&lt;chr&gt;</th><th scope=col>&lt;chr&gt;</th><th scope=col>&lt;chr&gt;</th></tr>\n",
       "</thead>\n",
       "<tbody>\n",
       "\t<tr><td>7</td><td>53998</td><td>rs7806592 </td><td>C</td><td>T</td><td> 0.01920441</td><td>0.0124</td><td>0.12170</td><td>24</td><td>0.202</td><td>⋯</td><td>----+-----+--++-+--+--++++--++-++++--++--+-++---+--+-+--+</td><td> 1.5487427</td><td>C</td><td>T</td><td>C</td><td>T</td><td>C</td><td>T</td><td>C</td><td>T</td></tr>\n",
       "\t<tr><td>7</td><td>60728</td><td>rs4916941 </td><td>G</td><td>A</td><td>-0.04609630</td><td>0.0304</td><td>0.13010</td><td>19</td><td>0.970</td><td>⋯</td><td>+?-++-?-++-+++--+++-----+----++?+-+-+-?+-++-+++--+-+??+??</td><td>-1.5163255</td><td>G</td><td>A</td><td>G</td><td>A</td><td>G</td><td>A</td><td>G</td><td>A</td></tr>\n",
       "\t<tr><td>7</td><td>63494</td><td>rs6964622 </td><td>A</td><td>G</td><td> 0.01240277</td><td>0.0136</td><td>0.36360</td><td>38</td><td>0.181</td><td>⋯</td><td>++++-+++++-++--+-++-++---+++--+----++-+++-+--++??+?-+-+++</td><td> 0.9119681</td><td>A</td><td>G</td><td>A</td><td>G</td><td>A</td><td>G</td><td>A</td><td>G</td></tr>\n",
       "\t<tr><td>7</td><td>71938</td><td>rs13437666</td><td>A</td><td>C</td><td>-0.04880166</td><td>0.0304</td><td>0.10830</td><td> 1</td><td>0.969</td><td>⋯</td><td>-?---+?+--+---++---+++++--+++--?-+-+-+?-++-+---++-+-??-??</td><td>-1.6053179</td><td>A</td><td>C</td><td>A</td><td>C</td><td>A</td><td>C</td><td>A</td><td>C</td></tr>\n",
       "\t<tr><td>7</td><td>80500</td><td>rs12533719</td><td>T</td><td>C</td><td>-0.01620052</td><td>0.0111</td><td>0.14330</td><td> 1</td><td>0.743</td><td>⋯</td><td>+----+-++--+---+---+-+-+--+++-++----+++-++-+-+-++--+-++--</td><td>-1.4595065</td><td>T</td><td>C</td><td>T</td><td>C</td><td>T</td><td>C</td><td>T</td><td>C</td></tr>\n",
       "\t<tr><td>7</td><td>82240</td><td>rs13236314</td><td>C</td><td>T</td><td> 0.03040311</td><td>0.0126</td><td>0.01623</td><td> 1</td><td>0.822</td><td>⋯</td><td>--------+-------+--++----++++-+------+-++++-----+----+++-</td><td> 2.4129449</td><td>C</td><td>T</td><td>C</td><td>T</td><td>C</td><td>T</td><td>C</td><td>T</td></tr>\n",
       "</tbody>\n",
       "</table>\n"
      ],
      "text/latex": [
       "A data.table: 6 × 25\n",
       "\\begin{tabular}{lllllllllllllllllllll}\n",
       " CHR & BP & SNP & A1 & A2 & logOR & SE & PVAL & NGT & FCAS & ⋯ & DIRE & Z & REF\\_EUR & ALT\\_EUR & REF\\_libd & ALT\\_libd & REF\\_EUR\\_ref & ALT\\_EUR\\_ref & REF\\_libd\\_libd & ALT\\_libd\\_libd\\\\\n",
       " <int> & <int> & <chr> & <chr> & <chr> & <dbl> & <dbl> & <dbl> & <int> & <dbl> & ⋯ & <chr> & <dbl> & <chr> & <chr> & <chr> & <chr> & <chr> & <chr> & <chr> & <chr>\\\\\n",
       "\\hline\n",
       "\t 7 & 53998 & rs7806592  & C & T &  0.01920441 & 0.0124 & 0.12170 & 24 & 0.202 & ⋯ & ----+-----+--++-+--+--++++--++-++++--++--+-++---+--+-+--+ &  1.5487427 & C & T & C & T & C & T & C & T\\\\\n",
       "\t 7 & 60728 & rs4916941  & G & A & -0.04609630 & 0.0304 & 0.13010 & 19 & 0.970 & ⋯ & +?-++-?-++-+++--+++-----+----++?+-+-+-?+-++-+++--+-+??+?? & -1.5163255 & G & A & G & A & G & A & G & A\\\\\n",
       "\t 7 & 63494 & rs6964622  & A & G &  0.01240277 & 0.0136 & 0.36360 & 38 & 0.181 & ⋯ & ++++-+++++-++--+-++-++---+++--+----++-+++-+--++??+?-+-+++ &  0.9119681 & A & G & A & G & A & G & A & G\\\\\n",
       "\t 7 & 71938 & rs13437666 & A & C & -0.04880166 & 0.0304 & 0.10830 &  1 & 0.969 & ⋯ & -?---+?+--+---++---+++++--+++--?-+-+-+?-++-+---++-+-??-?? & -1.6053179 & A & C & A & C & A & C & A & C\\\\\n",
       "\t 7 & 80500 & rs12533719 & T & C & -0.01620052 & 0.0111 & 0.14330 &  1 & 0.743 & ⋯ & +----+-++--+---+---+-+-+--+++-++----+++-++-+-+-++--+-++-- & -1.4595065 & T & C & T & C & T & C & T & C\\\\\n",
       "\t 7 & 82240 & rs13236314 & C & T &  0.03040311 & 0.0126 & 0.01623 &  1 & 0.822 & ⋯ & --------+-------+--++----++++-+------+-++++-----+----+++- &  2.4129449 & C & T & C & T & C & T & C & T\\\\\n",
       "\\end{tabular}\n"
      ],
      "text/markdown": [
       "\n",
       "A data.table: 6 × 25\n",
       "\n",
       "| CHR &lt;int&gt; | BP &lt;int&gt; | SNP &lt;chr&gt; | A1 &lt;chr&gt; | A2 &lt;chr&gt; | logOR &lt;dbl&gt; | SE &lt;dbl&gt; | PVAL &lt;dbl&gt; | NGT &lt;int&gt; | FCAS &lt;dbl&gt; | ⋯ ⋯ | DIRE &lt;chr&gt; | Z &lt;dbl&gt; | REF_EUR &lt;chr&gt; | ALT_EUR &lt;chr&gt; | REF_libd &lt;chr&gt; | ALT_libd &lt;chr&gt; | REF_EUR_ref &lt;chr&gt; | ALT_EUR_ref &lt;chr&gt; | REF_libd_libd &lt;chr&gt; | ALT_libd_libd &lt;chr&gt; |\n",
       "|---|---|---|---|---|---|---|---|---|---|---|---|---|---|---|---|---|---|---|---|---|\n",
       "| 7 | 53998 | rs7806592  | C | T |  0.01920441 | 0.0124 | 0.12170 | 24 | 0.202 | ⋯ | ----+-----+--++-+--+--++++--++-++++--++--+-++---+--+-+--+ |  1.5487427 | C | T | C | T | C | T | C | T |\n",
       "| 7 | 60728 | rs4916941  | G | A | -0.04609630 | 0.0304 | 0.13010 | 19 | 0.970 | ⋯ | +?-++-?-++-+++--+++-----+----++?+-+-+-?+-++-+++--+-+??+?? | -1.5163255 | G | A | G | A | G | A | G | A |\n",
       "| 7 | 63494 | rs6964622  | A | G |  0.01240277 | 0.0136 | 0.36360 | 38 | 0.181 | ⋯ | ++++-+++++-++--+-++-++---+++--+----++-+++-+--++??+?-+-+++ |  0.9119681 | A | G | A | G | A | G | A | G |\n",
       "| 7 | 71938 | rs13437666 | A | C | -0.04880166 | 0.0304 | 0.10830 |  1 | 0.969 | ⋯ | -?---+?+--+---++---+++++--+++--?-+-+-+?-++-+---++-+-??-?? | -1.6053179 | A | C | A | C | A | C | A | C |\n",
       "| 7 | 80500 | rs12533719 | T | C | -0.01620052 | 0.0111 | 0.14330 |  1 | 0.743 | ⋯ | +----+-++--+---+---+-+-+--+++-++----+++-++-+-+-++--+-++-- | -1.4595065 | T | C | T | C | T | C | T | C |\n",
       "| 7 | 82240 | rs13236314 | C | T |  0.03040311 | 0.0126 | 0.01623 |  1 | 0.822 | ⋯ | --------+-------+--++----++++-+------+-++++-----+----+++- |  2.4129449 | C | T | C | T | C | T | C | T |\n",
       "\n"
      ],
      "text/plain": [
       "  CHR BP    SNP        A1 A2 logOR       SE     PVAL    NGT FCAS  ⋯\n",
       "1 7   53998 rs7806592  C  T   0.01920441 0.0124 0.12170 24  0.202 ⋯\n",
       "2 7   60728 rs4916941  G  A  -0.04609630 0.0304 0.13010 19  0.970 ⋯\n",
       "3 7   63494 rs6964622  A  G   0.01240277 0.0136 0.36360 38  0.181 ⋯\n",
       "4 7   71938 rs13437666 A  C  -0.04880166 0.0304 0.10830  1  0.969 ⋯\n",
       "5 7   80500 rs12533719 T  C  -0.01620052 0.0111 0.14330  1  0.743 ⋯\n",
       "6 7   82240 rs13236314 C  T   0.03040311 0.0126 0.01623  1  0.822 ⋯\n",
       "  DIRE                                                      Z          REF_EUR\n",
       "1 ----+-----+--++-+--+--++++--++-++++--++--+-++---+--+-+--+  1.5487427 C      \n",
       "2 +?-++-?-++-+++--+++-----+----++?+-+-+-?+-++-+++--+-+??+?? -1.5163255 G      \n",
       "3 ++++-+++++-++--+-++-++---+++--+----++-+++-+--++??+?-+-+++  0.9119681 A      \n",
       "4 -?---+?+--+---++---+++++--+++--?-+-+-+?-++-+---++-+-??-?? -1.6053179 A      \n",
       "5 +----+-++--+---+---+-+-+--+++-++----+++-++-+-+-++--+-++-- -1.4595065 T      \n",
       "6 --------+-------+--++----++++-+------+-++++-----+----+++-  2.4129449 C      \n",
       "  ALT_EUR REF_libd ALT_libd REF_EUR_ref ALT_EUR_ref REF_libd_libd ALT_libd_libd\n",
       "1 T       C        T        C           T           C             T            \n",
       "2 A       G        A        G           A           G             A            \n",
       "3 G       A        G        A           G           A             G            \n",
       "4 C       A        C        A           C           A             C            \n",
       "5 C       T        C        T           C           T             C            \n",
       "6 T       C        T        C           T           C             T            "
      ]
     },
     "metadata": {},
     "output_type": "display_data"
    }
   ],
   "source": [
    "# Logical condition where alleles match with both ref and libd\n",
    "match_both <- (merged_data$A1 == merged_data$REF_EUR & merged_data$A2 == merged_data$ALT_EUR) &\n",
    "              (merged_data$A1 == merged_data$REF_libd & merged_data$A2 == merged_data$ALT_libd)\n",
    "\n",
    "# View rows where none mismatch\n",
    "head(merged_data[match_both, ])\n"
   ]
  },
  {
   "cell_type": "code",
   "execution_count": 53,
   "id": "fcc66185-9a26-4ac7-8071-56698b8979f6",
   "metadata": {},
   "outputs": [
    {
     "data": {
      "text/html": [
       "<table class=\"dataframe\">\n",
       "<caption>A data.table: 6 × 25</caption>\n",
       "<thead>\n",
       "\t<tr><th scope=col>CHR</th><th scope=col>BP</th><th scope=col>SNP</th><th scope=col>A1</th><th scope=col>A2</th><th scope=col>logOR</th><th scope=col>SE</th><th scope=col>PVAL</th><th scope=col>NGT</th><th scope=col>FCAS</th><th scope=col>⋯</th><th scope=col>DIRE</th><th scope=col>Z</th><th scope=col>REF_EUR</th><th scope=col>ALT_EUR</th><th scope=col>REF_libd</th><th scope=col>ALT_libd</th><th scope=col>REF_EUR_ref</th><th scope=col>ALT_EUR_ref</th><th scope=col>REF_libd_libd</th><th scope=col>ALT_libd_libd</th></tr>\n",
       "\t<tr><th scope=col>&lt;int&gt;</th><th scope=col>&lt;int&gt;</th><th scope=col>&lt;chr&gt;</th><th scope=col>&lt;chr&gt;</th><th scope=col>&lt;chr&gt;</th><th scope=col>&lt;dbl&gt;</th><th scope=col>&lt;dbl&gt;</th><th scope=col>&lt;dbl&gt;</th><th scope=col>&lt;int&gt;</th><th scope=col>&lt;dbl&gt;</th><th scope=col>⋯</th><th scope=col>&lt;chr&gt;</th><th scope=col>&lt;dbl&gt;</th><th scope=col>&lt;chr&gt;</th><th scope=col>&lt;chr&gt;</th><th scope=col>&lt;chr&gt;</th><th scope=col>&lt;chr&gt;</th><th scope=col>&lt;chr&gt;</th><th scope=col>&lt;chr&gt;</th><th scope=col>&lt;chr&gt;</th><th scope=col>&lt;chr&gt;</th></tr>\n",
       "</thead>\n",
       "<tbody>\n",
       "\t<tr><td>7</td><td>53998</td><td>rs7806592 </td><td>C</td><td>T</td><td> 0.01920441</td><td>0.0124</td><td>0.12170</td><td>24</td><td>0.202</td><td>⋯</td><td>----+-----+--++-+--+--++++--++-++++--++--+-++---+--+-+--+</td><td> 1.5487427</td><td>C</td><td>T</td><td>C</td><td>T</td><td>C</td><td>T</td><td>C</td><td>T</td></tr>\n",
       "\t<tr><td>7</td><td>60728</td><td>rs4916941 </td><td>G</td><td>A</td><td>-0.04609630</td><td>0.0304</td><td>0.13010</td><td>19</td><td>0.970</td><td>⋯</td><td>+?-++-?-++-+++--+++-----+----++?+-+-+-?+-++-+++--+-+??+??</td><td>-1.5163255</td><td>G</td><td>A</td><td>G</td><td>A</td><td>G</td><td>A</td><td>G</td><td>A</td></tr>\n",
       "\t<tr><td>7</td><td>63494</td><td>rs6964622 </td><td>A</td><td>G</td><td> 0.01240277</td><td>0.0136</td><td>0.36360</td><td>38</td><td>0.181</td><td>⋯</td><td>++++-+++++-++--+-++-++---+++--+----++-+++-+--++??+?-+-+++</td><td> 0.9119681</td><td>A</td><td>G</td><td>A</td><td>G</td><td>A</td><td>G</td><td>A</td><td>G</td></tr>\n",
       "\t<tr><td>7</td><td>71938</td><td>rs13437666</td><td>A</td><td>C</td><td>-0.04880166</td><td>0.0304</td><td>0.10830</td><td> 1</td><td>0.969</td><td>⋯</td><td>-?---+?+--+---++---+++++--+++--?-+-+-+?-++-+---++-+-??-??</td><td>-1.6053179</td><td>A</td><td>C</td><td>A</td><td>C</td><td>A</td><td>C</td><td>A</td><td>C</td></tr>\n",
       "\t<tr><td>7</td><td>80500</td><td>rs12533719</td><td>T</td><td>C</td><td>-0.01620052</td><td>0.0111</td><td>0.14330</td><td> 1</td><td>0.743</td><td>⋯</td><td>+----+-++--+---+---+-+-+--+++-++----+++-++-+-+-++--+-++--</td><td>-1.4595065</td><td>T</td><td>C</td><td>T</td><td>C</td><td>T</td><td>C</td><td>T</td><td>C</td></tr>\n",
       "\t<tr><td>7</td><td>82240</td><td>rs13236314</td><td>C</td><td>T</td><td> 0.03040311</td><td>0.0126</td><td>0.01623</td><td> 1</td><td>0.822</td><td>⋯</td><td>--------+-------+--++----++++-+------+-++++-----+----+++-</td><td> 2.4129449</td><td>C</td><td>T</td><td>C</td><td>T</td><td>C</td><td>T</td><td>C</td><td>T</td></tr>\n",
       "</tbody>\n",
       "</table>\n"
      ],
      "text/latex": [
       "A data.table: 6 × 25\n",
       "\\begin{tabular}{lllllllllllllllllllll}\n",
       " CHR & BP & SNP & A1 & A2 & logOR & SE & PVAL & NGT & FCAS & ⋯ & DIRE & Z & REF\\_EUR & ALT\\_EUR & REF\\_libd & ALT\\_libd & REF\\_EUR\\_ref & ALT\\_EUR\\_ref & REF\\_libd\\_libd & ALT\\_libd\\_libd\\\\\n",
       " <int> & <int> & <chr> & <chr> & <chr> & <dbl> & <dbl> & <dbl> & <int> & <dbl> & ⋯ & <chr> & <dbl> & <chr> & <chr> & <chr> & <chr> & <chr> & <chr> & <chr> & <chr>\\\\\n",
       "\\hline\n",
       "\t 7 & 53998 & rs7806592  & C & T &  0.01920441 & 0.0124 & 0.12170 & 24 & 0.202 & ⋯ & ----+-----+--++-+--+--++++--++-++++--++--+-++---+--+-+--+ &  1.5487427 & C & T & C & T & C & T & C & T\\\\\n",
       "\t 7 & 60728 & rs4916941  & G & A & -0.04609630 & 0.0304 & 0.13010 & 19 & 0.970 & ⋯ & +?-++-?-++-+++--+++-----+----++?+-+-+-?+-++-+++--+-+??+?? & -1.5163255 & G & A & G & A & G & A & G & A\\\\\n",
       "\t 7 & 63494 & rs6964622  & A & G &  0.01240277 & 0.0136 & 0.36360 & 38 & 0.181 & ⋯ & ++++-+++++-++--+-++-++---+++--+----++-+++-+--++??+?-+-+++ &  0.9119681 & A & G & A & G & A & G & A & G\\\\\n",
       "\t 7 & 71938 & rs13437666 & A & C & -0.04880166 & 0.0304 & 0.10830 &  1 & 0.969 & ⋯ & -?---+?+--+---++---+++++--+++--?-+-+-+?-++-+---++-+-??-?? & -1.6053179 & A & C & A & C & A & C & A & C\\\\\n",
       "\t 7 & 80500 & rs12533719 & T & C & -0.01620052 & 0.0111 & 0.14330 &  1 & 0.743 & ⋯ & +----+-++--+---+---+-+-+--+++-++----+++-++-+-+-++--+-++-- & -1.4595065 & T & C & T & C & T & C & T & C\\\\\n",
       "\t 7 & 82240 & rs13236314 & C & T &  0.03040311 & 0.0126 & 0.01623 &  1 & 0.822 & ⋯ & --------+-------+--++----++++-+------+-++++-----+----+++- &  2.4129449 & C & T & C & T & C & T & C & T\\\\\n",
       "\\end{tabular}\n"
      ],
      "text/markdown": [
       "\n",
       "A data.table: 6 × 25\n",
       "\n",
       "| CHR &lt;int&gt; | BP &lt;int&gt; | SNP &lt;chr&gt; | A1 &lt;chr&gt; | A2 &lt;chr&gt; | logOR &lt;dbl&gt; | SE &lt;dbl&gt; | PVAL &lt;dbl&gt; | NGT &lt;int&gt; | FCAS &lt;dbl&gt; | ⋯ ⋯ | DIRE &lt;chr&gt; | Z &lt;dbl&gt; | REF_EUR &lt;chr&gt; | ALT_EUR &lt;chr&gt; | REF_libd &lt;chr&gt; | ALT_libd &lt;chr&gt; | REF_EUR_ref &lt;chr&gt; | ALT_EUR_ref &lt;chr&gt; | REF_libd_libd &lt;chr&gt; | ALT_libd_libd &lt;chr&gt; |\n",
       "|---|---|---|---|---|---|---|---|---|---|---|---|---|---|---|---|---|---|---|---|---|\n",
       "| 7 | 53998 | rs7806592  | C | T |  0.01920441 | 0.0124 | 0.12170 | 24 | 0.202 | ⋯ | ----+-----+--++-+--+--++++--++-++++--++--+-++---+--+-+--+ |  1.5487427 | C | T | C | T | C | T | C | T |\n",
       "| 7 | 60728 | rs4916941  | G | A | -0.04609630 | 0.0304 | 0.13010 | 19 | 0.970 | ⋯ | +?-++-?-++-+++--+++-----+----++?+-+-+-?+-++-+++--+-+??+?? | -1.5163255 | G | A | G | A | G | A | G | A |\n",
       "| 7 | 63494 | rs6964622  | A | G |  0.01240277 | 0.0136 | 0.36360 | 38 | 0.181 | ⋯ | ++++-+++++-++--+-++-++---+++--+----++-+++-+--++??+?-+-+++ |  0.9119681 | A | G | A | G | A | G | A | G |\n",
       "| 7 | 71938 | rs13437666 | A | C | -0.04880166 | 0.0304 | 0.10830 |  1 | 0.969 | ⋯ | -?---+?+--+---++---+++++--+++--?-+-+-+?-++-+---++-+-??-?? | -1.6053179 | A | C | A | C | A | C | A | C |\n",
       "| 7 | 80500 | rs12533719 | T | C | -0.01620052 | 0.0111 | 0.14330 |  1 | 0.743 | ⋯ | +----+-++--+---+---+-+-+--+++-++----+++-++-+-+-++--+-++-- | -1.4595065 | T | C | T | C | T | C | T | C |\n",
       "| 7 | 82240 | rs13236314 | C | T |  0.03040311 | 0.0126 | 0.01623 |  1 | 0.822 | ⋯ | --------+-------+--++----++++-+------+-++++-----+----+++- |  2.4129449 | C | T | C | T | C | T | C | T |\n",
       "\n"
      ],
      "text/plain": [
       "  CHR BP    SNP        A1 A2 logOR       SE     PVAL    NGT FCAS  ⋯\n",
       "1 7   53998 rs7806592  C  T   0.01920441 0.0124 0.12170 24  0.202 ⋯\n",
       "2 7   60728 rs4916941  G  A  -0.04609630 0.0304 0.13010 19  0.970 ⋯\n",
       "3 7   63494 rs6964622  A  G   0.01240277 0.0136 0.36360 38  0.181 ⋯\n",
       "4 7   71938 rs13437666 A  C  -0.04880166 0.0304 0.10830  1  0.969 ⋯\n",
       "5 7   80500 rs12533719 T  C  -0.01620052 0.0111 0.14330  1  0.743 ⋯\n",
       "6 7   82240 rs13236314 C  T   0.03040311 0.0126 0.01623  1  0.822 ⋯\n",
       "  DIRE                                                      Z          REF_EUR\n",
       "1 ----+-----+--++-+--+--++++--++-++++--++--+-++---+--+-+--+  1.5487427 C      \n",
       "2 +?-++-?-++-+++--+++-----+----++?+-+-+-?+-++-+++--+-+??+?? -1.5163255 G      \n",
       "3 ++++-+++++-++--+-++-++---+++--+----++-+++-+--++??+?-+-+++  0.9119681 A      \n",
       "4 -?---+?+--+---++---+++++--+++--?-+-+-+?-++-+---++-+-??-?? -1.6053179 A      \n",
       "5 +----+-++--+---+---+-+-+--+++-++----+++-++-+-+-++--+-++-- -1.4595065 T      \n",
       "6 --------+-------+--++----++++-+------+-++++-----+----+++-  2.4129449 C      \n",
       "  ALT_EUR REF_libd ALT_libd REF_EUR_ref ALT_EUR_ref REF_libd_libd ALT_libd_libd\n",
       "1 T       C        T        C           T           C             T            \n",
       "2 A       G        A        G           A           G             A            \n",
       "3 G       A        G        A           G           A             G            \n",
       "4 C       A        C        A           C           A             C            \n",
       "5 C       T        C        T           C           T             C            \n",
       "6 T       C        T        C           T           C             T            "
      ]
     },
     "metadata": {},
     "output_type": "display_data"
    }
   ],
   "source": [
    "# Logical condition where alleles match with both ref and libd\n",
    "match_both <- (merged_data$A1 == merged_data$REF_EUR & merged_data$A2 == merged_data$ALT_EUR) &\n",
    "              (merged_data$A1 == merged_data$REF_libd & merged_data$A2 == merged_data$ALT_libd)\n",
    "\n",
    "# View rows where none mismatch\n",
    "head(merged_data[match_both, ])\n"
   ]
  },
  {
   "cell_type": "code",
   "execution_count": 54,
   "id": "4f0d6e7a-7fd1-4135-9a10-ea210d54cb51",
   "metadata": {},
   "outputs": [
    {
     "name": "stderr",
     "output_type": "stream",
     "text": [
      "Warning message in cbind(parts$left, chars$ellip_h, parts$right, deparse.level = 0L):\n",
      "“number of rows of result is not a multiple of vector length (arg 2)”\n",
      "Warning message in cbind(parts$left, chars$ellip_h, parts$right, deparse.level = 0L):\n",
      "“number of rows of result is not a multiple of vector length (arg 2)”\n",
      "Warning message in cbind(parts$left, chars$ellip_h, parts$right, deparse.level = 0L):\n",
      "“number of rows of result is not a multiple of vector length (arg 2)”\n",
      "Warning message in cbind(parts$left, chars$ellip_h, parts$right, deparse.level = 0L):\n",
      "“number of rows of result is not a multiple of vector length (arg 2)”\n"
     ]
    },
    {
     "data": {
      "text/html": [
       "<table class=\"dataframe\">\n",
       "<caption>A data.table: 0 × 25</caption>\n",
       "<thead>\n",
       "\t<tr><th scope=col>CHR</th><th scope=col>BP</th><th scope=col>SNP</th><th scope=col>A1</th><th scope=col>A2</th><th scope=col>logOR</th><th scope=col>SE</th><th scope=col>PVAL</th><th scope=col>NGT</th><th scope=col>FCAS</th><th scope=col>⋯</th><th scope=col>DIRE</th><th scope=col>Z</th><th scope=col>REF_EUR</th><th scope=col>ALT_EUR</th><th scope=col>REF_libd</th><th scope=col>ALT_libd</th><th scope=col>REF_EUR_ref</th><th scope=col>ALT_EUR_ref</th><th scope=col>REF_libd_libd</th><th scope=col>ALT_libd_libd</th></tr>\n",
       "\t<tr><th scope=col>&lt;int&gt;</th><th scope=col>&lt;int&gt;</th><th scope=col>&lt;chr&gt;</th><th scope=col>&lt;chr&gt;</th><th scope=col>&lt;chr&gt;</th><th scope=col>&lt;dbl&gt;</th><th scope=col>&lt;dbl&gt;</th><th scope=col>&lt;dbl&gt;</th><th scope=col>&lt;int&gt;</th><th scope=col>&lt;dbl&gt;</th><th scope=col>⋯</th><th scope=col>&lt;chr&gt;</th><th scope=col>&lt;dbl&gt;</th><th scope=col>&lt;chr&gt;</th><th scope=col>&lt;chr&gt;</th><th scope=col>&lt;chr&gt;</th><th scope=col>&lt;chr&gt;</th><th scope=col>&lt;chr&gt;</th><th scope=col>&lt;chr&gt;</th><th scope=col>&lt;chr&gt;</th><th scope=col>&lt;chr&gt;</th></tr>\n",
       "</thead>\n",
       "<tbody>\n",
       "</tbody>\n",
       "</table>\n"
      ],
      "text/latex": [
       "A data.table: 0 × 25\n",
       "\\begin{tabular}{lllllllllllllllllllll}\n",
       " CHR & BP & SNP & A1 & A2 & logOR & SE & PVAL & NGT & FCAS & ⋯ & DIRE & Z & REF\\_EUR & ALT\\_EUR & REF\\_libd & ALT\\_libd & REF\\_EUR\\_ref & ALT\\_EUR\\_ref & REF\\_libd\\_libd & ALT\\_libd\\_libd\\\\\n",
       " <int> & <int> & <chr> & <chr> & <chr> & <dbl> & <dbl> & <dbl> & <int> & <dbl> & ⋯ & <chr> & <dbl> & <chr> & <chr> & <chr> & <chr> & <chr> & <chr> & <chr> & <chr>\\\\\n",
       "\\hline\n",
       "\\end{tabular}\n"
      ],
      "text/markdown": [
       "\n",
       "A data.table: 0 × 25\n",
       "\n",
       "| CHR &lt;int&gt; | BP &lt;int&gt; | SNP &lt;chr&gt; | A1 &lt;chr&gt; | A2 &lt;chr&gt; | logOR &lt;dbl&gt; | SE &lt;dbl&gt; | PVAL &lt;dbl&gt; | NGT &lt;int&gt; | FCAS &lt;dbl&gt; | ⋯ ⋯ | DIRE &lt;chr&gt; | Z &lt;dbl&gt; | REF_EUR &lt;chr&gt; | ALT_EUR &lt;chr&gt; | REF_libd &lt;chr&gt; | ALT_libd &lt;chr&gt; | REF_EUR_ref &lt;chr&gt; | ALT_EUR_ref &lt;chr&gt; | REF_libd_libd &lt;chr&gt; | ALT_libd_libd &lt;chr&gt; |\n",
       "|---|---|---|---|---|---|---|---|---|---|---|---|---|---|---|---|---|---|---|---|---|\n",
       "\n"
      ],
      "text/plain": [
       "     CHR BP SNP A1 A2 logOR SE PVAL NGT FCAS ⋯ DIRE Z REF_EUR ALT_EUR REF_libd\n",
       "     ALT_libd REF_EUR_ref ALT_EUR_ref REF_libd_libd ALT_libd_libd"
      ]
     },
     "metadata": {},
     "output_type": "display_data"
    }
   ],
   "source": [
    "# Logical condition where ss mismatches with libd but matches with ref\n",
    "mismatch_libd_only <- (merged_data$A1 != merged_data$REF_libd | merged_data$A2 != merged_data$ALT_libd) &\n",
    "                      (merged_data$A1 == merged_data$REF_EUR & merged_data$A2 == merged_data$ALT_EUR)\n",
    "\n",
    "# View rows where ss mismatches with libd\n",
    "head(merged_data[mismatch_libd_only, ])\n"
   ]
  },
  {
   "cell_type": "code",
   "execution_count": 55,
   "id": "dde5f81b-3d20-4903-b5c2-732572fda410",
   "metadata": {},
   "outputs": [
    {
     "name": "stderr",
     "output_type": "stream",
     "text": [
      "Warning message in cbind(parts$left, chars$ellip_h, parts$right, deparse.level = 0L):\n",
      "“number of rows of result is not a multiple of vector length (arg 2)”\n",
      "Warning message in cbind(parts$left, chars$ellip_h, parts$right, deparse.level = 0L):\n",
      "“number of rows of result is not a multiple of vector length (arg 2)”\n",
      "Warning message in cbind(parts$left, chars$ellip_h, parts$right, deparse.level = 0L):\n",
      "“number of rows of result is not a multiple of vector length (arg 2)”\n",
      "Warning message in cbind(parts$left, chars$ellip_h, parts$right, deparse.level = 0L):\n",
      "“number of rows of result is not a multiple of vector length (arg 2)”\n"
     ]
    },
    {
     "data": {
      "text/html": [
       "<table class=\"dataframe\">\n",
       "<caption>A data.table: 0 × 25</caption>\n",
       "<thead>\n",
       "\t<tr><th scope=col>CHR</th><th scope=col>BP</th><th scope=col>SNP</th><th scope=col>A1</th><th scope=col>A2</th><th scope=col>logOR</th><th scope=col>SE</th><th scope=col>PVAL</th><th scope=col>NGT</th><th scope=col>FCAS</th><th scope=col>⋯</th><th scope=col>DIRE</th><th scope=col>Z</th><th scope=col>REF_EUR</th><th scope=col>ALT_EUR</th><th scope=col>REF_libd</th><th scope=col>ALT_libd</th><th scope=col>REF_EUR_ref</th><th scope=col>ALT_EUR_ref</th><th scope=col>REF_libd_libd</th><th scope=col>ALT_libd_libd</th></tr>\n",
       "\t<tr><th scope=col>&lt;int&gt;</th><th scope=col>&lt;int&gt;</th><th scope=col>&lt;chr&gt;</th><th scope=col>&lt;chr&gt;</th><th scope=col>&lt;chr&gt;</th><th scope=col>&lt;dbl&gt;</th><th scope=col>&lt;dbl&gt;</th><th scope=col>&lt;dbl&gt;</th><th scope=col>&lt;int&gt;</th><th scope=col>&lt;dbl&gt;</th><th scope=col>⋯</th><th scope=col>&lt;chr&gt;</th><th scope=col>&lt;dbl&gt;</th><th scope=col>&lt;chr&gt;</th><th scope=col>&lt;chr&gt;</th><th scope=col>&lt;chr&gt;</th><th scope=col>&lt;chr&gt;</th><th scope=col>&lt;chr&gt;</th><th scope=col>&lt;chr&gt;</th><th scope=col>&lt;chr&gt;</th><th scope=col>&lt;chr&gt;</th></tr>\n",
       "</thead>\n",
       "<tbody>\n",
       "</tbody>\n",
       "</table>\n"
      ],
      "text/latex": [
       "A data.table: 0 × 25\n",
       "\\begin{tabular}{lllllllllllllllllllll}\n",
       " CHR & BP & SNP & A1 & A2 & logOR & SE & PVAL & NGT & FCAS & ⋯ & DIRE & Z & REF\\_EUR & ALT\\_EUR & REF\\_libd & ALT\\_libd & REF\\_EUR\\_ref & ALT\\_EUR\\_ref & REF\\_libd\\_libd & ALT\\_libd\\_libd\\\\\n",
       " <int> & <int> & <chr> & <chr> & <chr> & <dbl> & <dbl> & <dbl> & <int> & <dbl> & ⋯ & <chr> & <dbl> & <chr> & <chr> & <chr> & <chr> & <chr> & <chr> & <chr> & <chr>\\\\\n",
       "\\hline\n",
       "\\end{tabular}\n"
      ],
      "text/markdown": [
       "\n",
       "A data.table: 0 × 25\n",
       "\n",
       "| CHR &lt;int&gt; | BP &lt;int&gt; | SNP &lt;chr&gt; | A1 &lt;chr&gt; | A2 &lt;chr&gt; | logOR &lt;dbl&gt; | SE &lt;dbl&gt; | PVAL &lt;dbl&gt; | NGT &lt;int&gt; | FCAS &lt;dbl&gt; | ⋯ ⋯ | DIRE &lt;chr&gt; | Z &lt;dbl&gt; | REF_EUR &lt;chr&gt; | ALT_EUR &lt;chr&gt; | REF_libd &lt;chr&gt; | ALT_libd &lt;chr&gt; | REF_EUR_ref &lt;chr&gt; | ALT_EUR_ref &lt;chr&gt; | REF_libd_libd &lt;chr&gt; | ALT_libd_libd &lt;chr&gt; |\n",
       "|---|---|---|---|---|---|---|---|---|---|---|---|---|---|---|---|---|---|---|---|---|\n",
       "\n"
      ],
      "text/plain": [
       "     CHR BP SNP A1 A2 logOR SE PVAL NGT FCAS ⋯ DIRE Z REF_EUR ALT_EUR REF_libd\n",
       "     ALT_libd REF_EUR_ref ALT_EUR_ref REF_libd_libd ALT_libd_libd"
      ]
     },
     "metadata": {},
     "output_type": "display_data"
    }
   ],
   "source": [
    "# Logical condition where ss mismatches with both ref and libd\n",
    "mismatch_both <- (merged_data$A1 != merged_data$REF_EUR | merged_data$A2 != merged_data$ALT_EUR) &\n",
    "                 (merged_data$A1 != merged_data$REF_libd | merged_data$A2 != merged_data$ALT_libd)\n",
    "\n",
    "# View rows where ss mismatches with both ref and libd\n",
    "head(merged_data[mismatch_both, ])\n"
   ]
  },
  {
   "cell_type": "markdown",
   "id": "359868bb-fe05-4602-ba8c-d793a71fe3b4",
   "metadata": {},
   "source": [
    "Should be 262"
   ]
  },
  {
   "cell_type": "code",
   "execution_count": 56,
   "id": "10cadec7-dc34-46df-9cae-c3c232f1337d",
   "metadata": {},
   "outputs": [
    {
     "data": {
      "text/html": [
       "0"
      ],
      "text/latex": [
       "0"
      ],
      "text/markdown": [
       "0"
      ],
      "text/plain": [
       "[1] 0"
      ]
     },
     "metadata": {},
     "output_type": "display_data"
    }
   ],
   "source": [
    "# Check for mismatches with ref\n",
    "mismatch_ref <- merged_data$A1 != merged_data$REF_EUR | merged_data$A2 != merged_data$ALT_EUR\n",
    "\n",
    "# Verify the number of mismatches\n",
    "length(which(mismatch_ref))\n"
   ]
  },
  {
   "cell_type": "code",
   "execution_count": null,
   "id": "97b808be-2c9d-4da7-b309-f03a3699241a",
   "metadata": {},
   "outputs": [],
   "source": []
  },
  {
   "cell_type": "code",
   "execution_count": 57,
   "id": "bbcbb220-08a7-43a4-8c9d-aebc984696eb",
   "metadata": {},
   "outputs": [],
   "source": [
    "# Identify rows where alleles don't match for ref\n",
    "ref_mismatches <- merged_ref[which(A1 != REF_EUR | A2 != ALT_EUR)]"
   ]
  },
  {
   "cell_type": "code",
   "execution_count": 58,
   "id": "0db78aab-ba8e-415f-8284-da436363f930",
   "metadata": {},
   "outputs": [],
   "source": [
    "#if(!all(ref_mismatches$A1 == ref_mismatches$REF_EUR)) stop(\"Mismatch between summary stats and reference population\")"
   ]
  },
  {
   "cell_type": "code",
   "execution_count": 59,
   "id": "ff4d8f3d-fb91-4309-bb3c-4ce59d4e5a70",
   "metadata": {},
   "outputs": [],
   "source": [
    "# Identify rows where alleles don't match for libd\n",
    "libd_mismatches <- merged_libd[\n",
    "    !((A1 == REF_libd & A2 == ALT_libd) | (A1 == ALT_libd & A2 == REF_libd))\n",
    "]"
   ]
  },
  {
   "cell_type": "markdown",
   "id": "72693bf4-1057-425e-beb0-4636837bea1b",
   "metadata": {},
   "source": [
    "Everything in reference genome dataset is also found in summary stats, but not everything in summary stats is found in this reference genome...?"
   ]
  },
  {
   "cell_type": "code",
   "execution_count": 60,
   "id": "7b8c1770-556c-4159-ac40-a5ea04ae2da3",
   "metadata": {},
   "outputs": [
    {
     "data": {
      "text/html": [
       "<style>\n",
       ".list-inline {list-style: none; margin:0; padding: 0}\n",
       ".list-inline>li {display: inline-block}\n",
       ".list-inline>li:not(:last-child)::after {content: \"\\00b7\"; padding: 0 .5ex}\n",
       "</style>\n",
       "<ol class=list-inline><li>345874</li><li>4</li></ol>\n"
      ],
      "text/latex": [
       "\\begin{enumerate*}\n",
       "\\item 345874\n",
       "\\item 4\n",
       "\\end{enumerate*}\n"
      ],
      "text/markdown": [
       "1. 345874\n",
       "2. 4\n",
       "\n",
       "\n"
      ],
      "text/plain": [
       "[1] 345874      4"
      ]
     },
     "metadata": {},
     "output_type": "display_data"
    }
   ],
   "source": [
    "dim(libd)"
   ]
  },
  {
   "cell_type": "code",
   "execution_count": 61,
   "id": "b3039bbf-f8ca-49bc-9ff5-57123c625a36",
   "metadata": {},
   "outputs": [
    {
     "data": {
      "text/html": [
       "<table class=\"dataframe\">\n",
       "<caption>A data.table: 6 × 4</caption>\n",
       "<thead>\n",
       "\t<tr><th scope=col>CHR</th><th scope=col>BP</th><th scope=col>REF_EUR</th><th scope=col>ALT_EUR</th></tr>\n",
       "\t<tr><th scope=col>&lt;int&gt;</th><th scope=col>&lt;int&gt;</th><th scope=col>&lt;chr&gt;</th><th scope=col>&lt;chr&gt;</th></tr>\n",
       "</thead>\n",
       "<tbody>\n",
       "\t<tr><td>7</td><td>53998</td><td>C</td><td>T</td></tr>\n",
       "\t<tr><td>7</td><td>60728</td><td>G</td><td>A</td></tr>\n",
       "\t<tr><td>7</td><td>63494</td><td>A</td><td>G</td></tr>\n",
       "\t<tr><td>7</td><td>71938</td><td>A</td><td>C</td></tr>\n",
       "\t<tr><td>7</td><td>80500</td><td>T</td><td>C</td></tr>\n",
       "\t<tr><td>7</td><td>82240</td><td>C</td><td>T</td></tr>\n",
       "</tbody>\n",
       "</table>\n"
      ],
      "text/latex": [
       "A data.table: 6 × 4\n",
       "\\begin{tabular}{llll}\n",
       " CHR & BP & REF\\_EUR & ALT\\_EUR\\\\\n",
       " <int> & <int> & <chr> & <chr>\\\\\n",
       "\\hline\n",
       "\t 7 & 53998 & C & T\\\\\n",
       "\t 7 & 60728 & G & A\\\\\n",
       "\t 7 & 63494 & A & G\\\\\n",
       "\t 7 & 71938 & A & C\\\\\n",
       "\t 7 & 80500 & T & C\\\\\n",
       "\t 7 & 82240 & C & T\\\\\n",
       "\\end{tabular}\n"
      ],
      "text/markdown": [
       "\n",
       "A data.table: 6 × 4\n",
       "\n",
       "| CHR &lt;int&gt; | BP &lt;int&gt; | REF_EUR &lt;chr&gt; | ALT_EUR &lt;chr&gt; |\n",
       "|---|---|---|---|\n",
       "| 7 | 53998 | C | T |\n",
       "| 7 | 60728 | G | A |\n",
       "| 7 | 63494 | A | G |\n",
       "| 7 | 71938 | A | C |\n",
       "| 7 | 80500 | T | C |\n",
       "| 7 | 82240 | C | T |\n",
       "\n"
      ],
      "text/plain": [
       "  CHR BP    REF_EUR ALT_EUR\n",
       "1 7   53998 C       T      \n",
       "2 7   60728 G       A      \n",
       "3 7   63494 A       G      \n",
       "4 7   71938 A       C      \n",
       "5 7   80500 T       C      \n",
       "6 7   82240 C       T      "
      ]
     },
     "metadata": {},
     "output_type": "display_data"
    }
   ],
   "source": [
    "head(ref)"
   ]
  },
  {
   "cell_type": "code",
   "execution_count": 62,
   "id": "1ff13cd8-d36c-4840-9a35-806dc65a782e",
   "metadata": {},
   "outputs": [
    {
     "data": {
      "text/html": [
       "<table class=\"dataframe\">\n",
       "<caption>A data.table: 6 × 4</caption>\n",
       "<thead>\n",
       "\t<tr><th scope=col>CHR</th><th scope=col>BP</th><th scope=col>REF_libd</th><th scope=col>ALT_libd</th></tr>\n",
       "\t<tr><th scope=col>&lt;int&gt;</th><th scope=col>&lt;int&gt;</th><th scope=col>&lt;chr&gt;</th><th scope=col>&lt;chr&gt;</th></tr>\n",
       "</thead>\n",
       "<tbody>\n",
       "\t<tr><td>7</td><td>53998</td><td>C</td><td>T</td></tr>\n",
       "\t<tr><td>7</td><td>60728</td><td>G</td><td>A</td></tr>\n",
       "\t<tr><td>7</td><td>63494</td><td>A</td><td>G</td></tr>\n",
       "\t<tr><td>7</td><td>71938</td><td>A</td><td>C</td></tr>\n",
       "\t<tr><td>7</td><td>80500</td><td>T</td><td>C</td></tr>\n",
       "\t<tr><td>7</td><td>82240</td><td>C</td><td>T</td></tr>\n",
       "</tbody>\n",
       "</table>\n"
      ],
      "text/latex": [
       "A data.table: 6 × 4\n",
       "\\begin{tabular}{llll}\n",
       " CHR & BP & REF\\_libd & ALT\\_libd\\\\\n",
       " <int> & <int> & <chr> & <chr>\\\\\n",
       "\\hline\n",
       "\t 7 & 53998 & C & T\\\\\n",
       "\t 7 & 60728 & G & A\\\\\n",
       "\t 7 & 63494 & A & G\\\\\n",
       "\t 7 & 71938 & A & C\\\\\n",
       "\t 7 & 80500 & T & C\\\\\n",
       "\t 7 & 82240 & C & T\\\\\n",
       "\\end{tabular}\n"
      ],
      "text/markdown": [
       "\n",
       "A data.table: 6 × 4\n",
       "\n",
       "| CHR &lt;int&gt; | BP &lt;int&gt; | REF_libd &lt;chr&gt; | ALT_libd &lt;chr&gt; |\n",
       "|---|---|---|---|\n",
       "| 7 | 53998 | C | T |\n",
       "| 7 | 60728 | G | A |\n",
       "| 7 | 63494 | A | G |\n",
       "| 7 | 71938 | A | C |\n",
       "| 7 | 80500 | T | C |\n",
       "| 7 | 82240 | C | T |\n",
       "\n"
      ],
      "text/plain": [
       "  CHR BP    REF_libd ALT_libd\n",
       "1 7   53998 C        T       \n",
       "2 7   60728 G        A       \n",
       "3 7   63494 A        G       \n",
       "4 7   71938 A        C       \n",
       "5 7   80500 T        C       \n",
       "6 7   82240 C        T       "
      ]
     },
     "metadata": {},
     "output_type": "display_data"
    }
   ],
   "source": [
    "head(libd)"
   ]
  },
  {
   "cell_type": "code",
   "execution_count": 63,
   "id": "71220642-015b-4fe8-92f4-b76580bfebd2",
   "metadata": {},
   "outputs": [],
   "source": [
    "merged_data[, matches_ref := (A1 == REF_EUR & A2 == ALT_EUR) | (A1 == ALT_EUR & A2 == REF_EUR)]"
   ]
  },
  {
   "cell_type": "markdown",
   "id": "e3639e45-d3b1-470c-bcf1-acc060571efb",
   "metadata": {},
   "source": [
    "## Try for all chr"
   ]
  },
  {
   "cell_type": "code",
   "execution_count": 64,
   "id": "0c895550-68e7-49f4-821a-b29dbcaab4d4",
   "metadata": {},
   "outputs": [
    {
     "data": {
      "text/html": [
       "<table class=\"dataframe\">\n",
       "<caption>A data.table: 6 × 4</caption>\n",
       "<thead>\n",
       "\t<tr><th scope=col>CHR</th><th scope=col>BP</th><th scope=col>REF_EUR</th><th scope=col>ALT_EUR</th></tr>\n",
       "\t<tr><th scope=col>&lt;int&gt;</th><th scope=col>&lt;int&gt;</th><th scope=col>&lt;chr&gt;</th><th scope=col>&lt;chr&gt;</th></tr>\n",
       "</thead>\n",
       "<tbody>\n",
       "\t<tr><td>7</td><td>53998</td><td>C</td><td>T</td></tr>\n",
       "\t<tr><td>7</td><td>60728</td><td>G</td><td>A</td></tr>\n",
       "\t<tr><td>7</td><td>63494</td><td>A</td><td>G</td></tr>\n",
       "\t<tr><td>7</td><td>71938</td><td>A</td><td>C</td></tr>\n",
       "\t<tr><td>7</td><td>80500</td><td>T</td><td>C</td></tr>\n",
       "\t<tr><td>7</td><td>82240</td><td>C</td><td>T</td></tr>\n",
       "</tbody>\n",
       "</table>\n"
      ],
      "text/latex": [
       "A data.table: 6 × 4\n",
       "\\begin{tabular}{llll}\n",
       " CHR & BP & REF\\_EUR & ALT\\_EUR\\\\\n",
       " <int> & <int> & <chr> & <chr>\\\\\n",
       "\\hline\n",
       "\t 7 & 53998 & C & T\\\\\n",
       "\t 7 & 60728 & G & A\\\\\n",
       "\t 7 & 63494 & A & G\\\\\n",
       "\t 7 & 71938 & A & C\\\\\n",
       "\t 7 & 80500 & T & C\\\\\n",
       "\t 7 & 82240 & C & T\\\\\n",
       "\\end{tabular}\n"
      ],
      "text/markdown": [
       "\n",
       "A data.table: 6 × 4\n",
       "\n",
       "| CHR &lt;int&gt; | BP &lt;int&gt; | REF_EUR &lt;chr&gt; | ALT_EUR &lt;chr&gt; |\n",
       "|---|---|---|---|\n",
       "| 7 | 53998 | C | T |\n",
       "| 7 | 60728 | G | A |\n",
       "| 7 | 63494 | A | G |\n",
       "| 7 | 71938 | A | C |\n",
       "| 7 | 80500 | T | C |\n",
       "| 7 | 82240 | C | T |\n",
       "\n"
      ],
      "text/plain": [
       "  CHR BP    REF_EUR ALT_EUR\n",
       "1 7   53998 C       T      \n",
       "2 7   60728 G       A      \n",
       "3 7   63494 A       G      \n",
       "4 7   71938 A       C      \n",
       "5 7   80500 T       C      \n",
       "6 7   82240 C       T      "
      ]
     },
     "metadata": {},
     "output_type": "display_data"
    }
   ],
   "source": [
    "head(ref)"
   ]
  },
  {
   "cell_type": "code",
   "execution_count": 65,
   "id": "2e8a1ab0-86d3-41e2-9ee8-a9b7c90dfc40",
   "metadata": {
    "scrolled": true
   },
   "outputs": [
    {
     "data": {
      "text/html": [
       "<table class=\"dataframe\">\n",
       "<caption>A data.table: 6 × 21</caption>\n",
       "<thead>\n",
       "\t<tr><th scope=col>CHR</th><th scope=col>BP</th><th scope=col>SNP</th><th scope=col>A1</th><th scope=col>A2</th><th scope=col>logOR</th><th scope=col>SE</th><th scope=col>PVAL</th><th scope=col>NGT</th><th scope=col>FCAS</th><th scope=col>⋯</th><th scope=col>IMPINFO</th><th scope=col>NEFFDIV2</th><th scope=col>NCAS</th><th scope=col>NCON</th><th scope=col>DIRE</th><th scope=col>Z</th><th scope=col>REF_EUR</th><th scope=col>ALT_EUR</th><th scope=col>REF_libd</th><th scope=col>ALT_libd</th></tr>\n",
       "\t<tr><th scope=col>&lt;int&gt;</th><th scope=col>&lt;int&gt;</th><th scope=col>&lt;chr&gt;</th><th scope=col>&lt;chr&gt;</th><th scope=col>&lt;chr&gt;</th><th scope=col>&lt;dbl&gt;</th><th scope=col>&lt;dbl&gt;</th><th scope=col>&lt;dbl&gt;</th><th scope=col>&lt;int&gt;</th><th scope=col>&lt;dbl&gt;</th><th scope=col>⋯</th><th scope=col>&lt;dbl&gt;</th><th scope=col>&lt;dbl&gt;</th><th scope=col>&lt;int&gt;</th><th scope=col>&lt;int&gt;</th><th scope=col>&lt;chr&gt;</th><th scope=col>&lt;dbl&gt;</th><th scope=col>&lt;chr&gt;</th><th scope=col>&lt;chr&gt;</th><th scope=col>&lt;chr&gt;</th><th scope=col>&lt;chr&gt;</th></tr>\n",
       "</thead>\n",
       "<tbody>\n",
       "\t<tr><td>7</td><td>53998</td><td>rs7806592 </td><td>C</td><td>T</td><td> 0.01920441</td><td>0.0124</td><td>0.12170</td><td>24</td><td>0.202</td><td>⋯</td><td>0.885</td><td>50981.48</td><td>41917</td><td>371549</td><td>----+-----+--++-+--+--++++--++-++++--++--+-++---+--+-+--+</td><td> 1.5487427</td><td>C</td><td>T</td><td>C</td><td>T</td></tr>\n",
       "\t<tr><td>7</td><td>60728</td><td>rs4916941 </td><td>G</td><td>A</td><td>-0.04609630</td><td>0.0304</td><td>0.13010</td><td>19</td><td>0.970</td><td>⋯</td><td>0.857</td><td>49458.29</td><td>40581</td><td>368564</td><td>+?-++-?-++-+++--+++-----+----++?+-+-+-?+-++-+++--+-+??+??</td><td>-1.5163255</td><td>G</td><td>A</td><td>G</td><td>A</td></tr>\n",
       "\t<tr><td>7</td><td>63494</td><td>rs6964622 </td><td>A</td><td>G</td><td> 0.01240277</td><td>0.0136</td><td>0.36360</td><td>38</td><td>0.181</td><td>⋯</td><td>0.871</td><td>43445.24</td><td>38084</td><td>103625</td><td>++++-+++++-++--+-++-++---+++--+----++-+++-+--++??+?-+-+++</td><td> 0.9119681</td><td>A</td><td>G</td><td>A</td><td>G</td></tr>\n",
       "\t<tr><td>7</td><td>71938</td><td>rs13437666</td><td>A</td><td>C</td><td>-0.04880166</td><td>0.0304</td><td>0.10830</td><td> 1</td><td>0.969</td><td>⋯</td><td>0.845</td><td>49458.29</td><td>40581</td><td>368564</td><td>-?---+?+--+---++---+++++--+++--?-+-+-+?-++-+---++-+-??-??</td><td>-1.6053179</td><td>A</td><td>C</td><td>A</td><td>C</td></tr>\n",
       "\t<tr><td>7</td><td>80500</td><td>rs12533719</td><td>T</td><td>C</td><td>-0.01620052</td><td>0.0111</td><td>0.14330</td><td> 1</td><td>0.743</td><td>⋯</td><td>0.938</td><td>50981.48</td><td>41917</td><td>371549</td><td>+----+-++--+---+---+-+-+--+++-++----+++-++-+-+-++--+-++--</td><td>-1.4595065</td><td>T</td><td>C</td><td>T</td><td>C</td></tr>\n",
       "\t<tr><td>7</td><td>82240</td><td>rs13236314</td><td>C</td><td>T</td><td> 0.03040311</td><td>0.0126</td><td>0.01623</td><td> 1</td><td>0.822</td><td>⋯</td><td>0.927</td><td>50981.48</td><td>41917</td><td>371549</td><td>--------+-------+--++----++++-+------+-++++-----+----+++-</td><td> 2.4129449</td><td>C</td><td>T</td><td>C</td><td>T</td></tr>\n",
       "</tbody>\n",
       "</table>\n"
      ],
      "text/latex": [
       "A data.table: 6 × 21\n",
       "\\begin{tabular}{lllllllllllllllllllll}\n",
       " CHR & BP & SNP & A1 & A2 & logOR & SE & PVAL & NGT & FCAS & ⋯ & IMPINFO & NEFFDIV2 & NCAS & NCON & DIRE & Z & REF\\_EUR & ALT\\_EUR & REF\\_libd & ALT\\_libd\\\\\n",
       " <int> & <int> & <chr> & <chr> & <chr> & <dbl> & <dbl> & <dbl> & <int> & <dbl> & ⋯ & <dbl> & <dbl> & <int> & <int> & <chr> & <dbl> & <chr> & <chr> & <chr> & <chr>\\\\\n",
       "\\hline\n",
       "\t 7 & 53998 & rs7806592  & C & T &  0.01920441 & 0.0124 & 0.12170 & 24 & 0.202 & ⋯ & 0.885 & 50981.48 & 41917 & 371549 & ----+-----+--++-+--+--++++--++-++++--++--+-++---+--+-+--+ &  1.5487427 & C & T & C & T\\\\\n",
       "\t 7 & 60728 & rs4916941  & G & A & -0.04609630 & 0.0304 & 0.13010 & 19 & 0.970 & ⋯ & 0.857 & 49458.29 & 40581 & 368564 & +?-++-?-++-+++--+++-----+----++?+-+-+-?+-++-+++--+-+??+?? & -1.5163255 & G & A & G & A\\\\\n",
       "\t 7 & 63494 & rs6964622  & A & G &  0.01240277 & 0.0136 & 0.36360 & 38 & 0.181 & ⋯ & 0.871 & 43445.24 & 38084 & 103625 & ++++-+++++-++--+-++-++---+++--+----++-+++-+--++??+?-+-+++ &  0.9119681 & A & G & A & G\\\\\n",
       "\t 7 & 71938 & rs13437666 & A & C & -0.04880166 & 0.0304 & 0.10830 &  1 & 0.969 & ⋯ & 0.845 & 49458.29 & 40581 & 368564 & -?---+?+--+---++---+++++--+++--?-+-+-+?-++-+---++-+-??-?? & -1.6053179 & A & C & A & C\\\\\n",
       "\t 7 & 80500 & rs12533719 & T & C & -0.01620052 & 0.0111 & 0.14330 &  1 & 0.743 & ⋯ & 0.938 & 50981.48 & 41917 & 371549 & +----+-++--+---+---+-+-+--+++-++----+++-++-+-+-++--+-++-- & -1.4595065 & T & C & T & C\\\\\n",
       "\t 7 & 82240 & rs13236314 & C & T &  0.03040311 & 0.0126 & 0.01623 &  1 & 0.822 & ⋯ & 0.927 & 50981.48 & 41917 & 371549 & --------+-------+--++----++++-+------+-++++-----+----+++- &  2.4129449 & C & T & C & T\\\\\n",
       "\\end{tabular}\n"
      ],
      "text/markdown": [
       "\n",
       "A data.table: 6 × 21\n",
       "\n",
       "| CHR &lt;int&gt; | BP &lt;int&gt; | SNP &lt;chr&gt; | A1 &lt;chr&gt; | A2 &lt;chr&gt; | logOR &lt;dbl&gt; | SE &lt;dbl&gt; | PVAL &lt;dbl&gt; | NGT &lt;int&gt; | FCAS &lt;dbl&gt; | ⋯ ⋯ | IMPINFO &lt;dbl&gt; | NEFFDIV2 &lt;dbl&gt; | NCAS &lt;int&gt; | NCON &lt;int&gt; | DIRE &lt;chr&gt; | Z &lt;dbl&gt; | REF_EUR &lt;chr&gt; | ALT_EUR &lt;chr&gt; | REF_libd &lt;chr&gt; | ALT_libd &lt;chr&gt; |\n",
       "|---|---|---|---|---|---|---|---|---|---|---|---|---|---|---|---|---|---|---|---|---|\n",
       "| 7 | 53998 | rs7806592  | C | T |  0.01920441 | 0.0124 | 0.12170 | 24 | 0.202 | ⋯ | 0.885 | 50981.48 | 41917 | 371549 | ----+-----+--++-+--+--++++--++-++++--++--+-++---+--+-+--+ |  1.5487427 | C | T | C | T |\n",
       "| 7 | 60728 | rs4916941  | G | A | -0.04609630 | 0.0304 | 0.13010 | 19 | 0.970 | ⋯ | 0.857 | 49458.29 | 40581 | 368564 | +?-++-?-++-+++--+++-----+----++?+-+-+-?+-++-+++--+-+??+?? | -1.5163255 | G | A | G | A |\n",
       "| 7 | 63494 | rs6964622  | A | G |  0.01240277 | 0.0136 | 0.36360 | 38 | 0.181 | ⋯ | 0.871 | 43445.24 | 38084 | 103625 | ++++-+++++-++--+-++-++---+++--+----++-+++-+--++??+?-+-+++ |  0.9119681 | A | G | A | G |\n",
       "| 7 | 71938 | rs13437666 | A | C | -0.04880166 | 0.0304 | 0.10830 |  1 | 0.969 | ⋯ | 0.845 | 49458.29 | 40581 | 368564 | -?---+?+--+---++---+++++--+++--?-+-+-+?-++-+---++-+-??-?? | -1.6053179 | A | C | A | C |\n",
       "| 7 | 80500 | rs12533719 | T | C | -0.01620052 | 0.0111 | 0.14330 |  1 | 0.743 | ⋯ | 0.938 | 50981.48 | 41917 | 371549 | +----+-++--+---+---+-+-+--+++-++----+++-++-+-+-++--+-++-- | -1.4595065 | T | C | T | C |\n",
       "| 7 | 82240 | rs13236314 | C | T |  0.03040311 | 0.0126 | 0.01623 |  1 | 0.822 | ⋯ | 0.927 | 50981.48 | 41917 | 371549 | --------+-------+--++----++++-+------+-++++-----+----+++- |  2.4129449 | C | T | C | T |\n",
       "\n"
      ],
      "text/plain": [
       "  CHR BP    SNP        A1 A2 logOR       SE     PVAL    NGT FCAS  ⋯ IMPINFO\n",
       "1 7   53998 rs7806592  C  T   0.01920441 0.0124 0.12170 24  0.202 ⋯ 0.885  \n",
       "2 7   60728 rs4916941  G  A  -0.04609630 0.0304 0.13010 19  0.970 ⋯ 0.857  \n",
       "3 7   63494 rs6964622  A  G   0.01240277 0.0136 0.36360 38  0.181 ⋯ 0.871  \n",
       "4 7   71938 rs13437666 A  C  -0.04880166 0.0304 0.10830  1  0.969 ⋯ 0.845  \n",
       "5 7   80500 rs12533719 T  C  -0.01620052 0.0111 0.14330  1  0.743 ⋯ 0.938  \n",
       "6 7   82240 rs13236314 C  T   0.03040311 0.0126 0.01623  1  0.822 ⋯ 0.927  \n",
       "  NEFFDIV2 NCAS  NCON  \n",
       "1 50981.48 41917 371549\n",
       "2 49458.29 40581 368564\n",
       "3 43445.24 38084 103625\n",
       "4 49458.29 40581 368564\n",
       "5 50981.48 41917 371549\n",
       "6 50981.48 41917 371549\n",
       "  DIRE                                                      Z          REF_EUR\n",
       "1 ----+-----+--++-+--+--++++--++-++++--++--+-++---+--+-+--+  1.5487427 C      \n",
       "2 +?-++-?-++-+++--+++-----+----++?+-+-+-?+-++-+++--+-+??+?? -1.5163255 G      \n",
       "3 ++++-+++++-++--+-++-++---+++--+----++-+++-+--++??+?-+-+++  0.9119681 A      \n",
       "4 -?---+?+--+---++---+++++--+++--?-+-+-+?-++-+---++-+-??-?? -1.6053179 A      \n",
       "5 +----+-++--+---+---+-+-+--+++-++----+++-++-+-+-++--+-++-- -1.4595065 T      \n",
       "6 --------+-------+--++----++++-+------+-++++-----+----+++-  2.4129449 C      \n",
       "  ALT_EUR REF_libd ALT_libd\n",
       "1 T       C        T       \n",
       "2 A       G        A       \n",
       "3 G       A        G       \n",
       "4 C       A        C       \n",
       "5 C       T        C       \n",
       "6 T       C        T       "
      ]
     },
     "metadata": {},
     "output_type": "display_data"
    }
   ],
   "source": [
    "head(summary_stats)"
   ]
  },
  {
   "cell_type": "code",
   "execution_count": 66,
   "id": "218400c7-927b-4a1d-9269-53515352ad1c",
   "metadata": {},
   "outputs": [
    {
     "data": {
      "text/html": [
       "<style>\n",
       ".list-inline {list-style: none; margin:0; padding: 0}\n",
       ".list-inline>li {display: inline-block}\n",
       ".list-inline>li:not(:last-child)::after {content: \"\\00b7\"; padding: 0 .5ex}\n",
       "</style>\n",
       "<ol class=list-inline><li>'/expanse/lustre/projects/jhu152/naglemi/mwas/gwas//gwas_stat_bp'</li><li>'/expanse/lustre/projects/jhu152/naglemi/mwas/gwas//gwas_stat_mdd'</li><li>'/expanse/lustre/projects/jhu152/naglemi/mwas/gwas//gwas_stat_scz'</li></ol>\n"
      ],
      "text/latex": [
       "\\begin{enumerate*}\n",
       "\\item '/expanse/lustre/projects/jhu152/naglemi/mwas/gwas//gwas\\_stat\\_bp'\n",
       "\\item '/expanse/lustre/projects/jhu152/naglemi/mwas/gwas//gwas\\_stat\\_mdd'\n",
       "\\item '/expanse/lustre/projects/jhu152/naglemi/mwas/gwas//gwas\\_stat\\_scz'\n",
       "\\end{enumerate*}\n"
      ],
      "text/markdown": [
       "1. '/expanse/lustre/projects/jhu152/naglemi/mwas/gwas//gwas_stat_bp'\n",
       "2. '/expanse/lustre/projects/jhu152/naglemi/mwas/gwas//gwas_stat_mdd'\n",
       "3. '/expanse/lustre/projects/jhu152/naglemi/mwas/gwas//gwas_stat_scz'\n",
       "\n",
       "\n"
      ],
      "text/plain": [
       "[1] \"/expanse/lustre/projects/jhu152/naglemi/mwas/gwas//gwas_stat_bp\" \n",
       "[2] \"/expanse/lustre/projects/jhu152/naglemi/mwas/gwas//gwas_stat_mdd\"\n",
       "[3] \"/expanse/lustre/projects/jhu152/naglemi/mwas/gwas//gwas_stat_scz\""
      ]
     },
     "metadata": {},
     "output_type": "display_data"
    }
   ],
   "source": [
    "summary_stats_paths"
   ]
  },
  {
   "cell_type": "code",
   "execution_count": 67,
   "id": "a3fb8b5e-c4bb-4fbc-b961-62dfde596da2",
   "metadata": {},
   "outputs": [],
   "source": [
    "summary_stats_paths <- summary_stats_paths[!grepl(\"allele\", summary_stats_paths)]"
   ]
  },
  {
   "cell_type": "code",
   "execution_count": 69,
   "id": "326316f6-e432-4d62-9d59-5fd01d0d4bcb",
   "metadata": {},
   "outputs": [
    {
     "data": {
      "text/html": [
       "'/expanse/lustre/projects/jhu152/naglemi/mwas/gwas//gwas_stat_bp_alleleprocessed.txt'"
      ],
      "text/latex": [
       "'/expanse/lustre/projects/jhu152/naglemi/mwas/gwas//gwas\\_stat\\_bp\\_alleleprocessed.txt'"
      ],
      "text/markdown": [
       "'/expanse/lustre/projects/jhu152/naglemi/mwas/gwas//gwas_stat_bp_alleleprocessed.txt'"
      ],
      "text/plain": [
       "[1] \"/expanse/lustre/projects/jhu152/naglemi/mwas/gwas//gwas_stat_bp_alleleprocessed.txt\""
      ]
     },
     "metadata": {},
     "output_type": "display_data"
    }
   ],
   "source": [
    "output_path"
   ]
  },
  {
   "cell_type": "markdown",
   "id": "8e0de32f-1588-4f9a-bbfe-89e20182dcc4",
   "metadata": {},
   "source": [
    "Make sure it works"
   ]
  },
  {
   "cell_type": "code",
   "execution_count": 115,
   "id": "0cfdb4d9-cd61-460a-95a9-1a9237f040ba",
   "metadata": {},
   "outputs": [
    {
     "data": {
      "text/html": [
       "2"
      ],
      "text/latex": [
       "2"
      ],
      "text/markdown": [
       "2"
      ],
      "text/plain": [
       "[1] 2"
      ]
     },
     "metadata": {},
     "output_type": "display_data"
    }
   ],
   "source": [
    "chr"
   ]
  },
  {
   "cell_type": "code",
   "execution_count": 116,
   "id": "b0e8c484-f30b-47aa-9922-32997340d184",
   "metadata": {},
   "outputs": [
    {
     "name": "stdout",
     "output_type": "stream",
     "text": [
      "[1] \"/expanse/lustre/projects/jhu152/naglemi/mwas/gwas_flipped//gwas_stat_bp\"\n"
     ]
    },
    {
     "name": "stderr",
     "output_type": "stream",
     "text": [
      "Warning message in fread(summary_stats_path):\n",
      "“Detected 1 column names but the data has 16 columns (i.e. invalid file). Added 15 extra default column names at the end.”\n"
     ]
    },
    {
     "name": "stdout",
     "output_type": "stream",
     "text": [
      "[1] \"Setting Z\"\n",
      "[1] \"/expanse/lustre/projects/jhu152/naglemi/mwas/gwas_flipped//gwas_stat_bp_alleleprocessed.txt\"\n"
     ]
    }
   ],
   "source": [
    "library(data.table)\n",
    "\n",
    "# List all summary statistics files\n",
    "# summary_stats_paths <- list.files(\"\", pattern = \"alleleprocessed.txt\", full.names = TRUE)\n",
    "\n",
    "for (summary_stats_path in summary_stats_paths[1]) {\n",
    "\n",
    "    print(summary_stats_path)\n",
    "    if (grepl(\"allele\", basename(summary_stats_path))) next\n",
    "    \n",
    "    output_path <- sub(\".txt\", \"_alleleprocessed.txt\", summary_stats_path)\n",
    "    \n",
    "    if (!grepl(\"\\\\.\", basename(output_path))) {\n",
    "        output_path <- paste0(output_path, \"_alleleprocessed.txt\")\n",
    "    }\n",
    "\n",
    "    if (file.exists(output_path)) {\n",
    "        #stop(paste(\"File already exists:\", output_path))\n",
    "    }\n",
    "\n",
    "    summary_stats <- fread(summary_stats_path)\n",
    "    summary_stats <- clean_and_standardize_colnames(summary_stats)\n",
    "\n",
    "    # Make a copy of the original summary statistics\n",
    "    original_summary_stats <- copy(summary_stats)\n",
    "\n",
    "    flip_indices_list <- list()  # Initialize a list to store flip indices for each chromosome\n",
    "\n",
    "    for (chr in 1:22) {\n",
    "        # Load reference and LIBD data\n",
    "        ref <- fread(paste0(\"/expanse/lustre/projects/jhu152/naglemi/mwas/gwas_flipped/ref_EUR_allele-match-libd_chr\", chr, \".pvar\"),\n",
    "                     select = c(\"#CHROM\", \"POS\", \"REF\", \"ALT\"),\n",
    "                     col.names = c(\"CHR\", \"BP\", \"REF_EUR\", \"ALT_EUR\"))\n",
    "\n",
    "        libd <- fread(paste0(\"/expanse/lustre/projects/jhu152/naglemi/mwas/gwas/libd_chr\", chr, \".pvar\"),\n",
    "                      select = c(\"#CHROM\", \"POS\", \"REF\", \"ALT\"),\n",
    "                      col.names = c(\"CHR\", \"BP\", \"REF_libd\", \"ALT_libd\"))\n",
    "\n",
    "        # Merge with reference and LIBD data by CHR and BP\n",
    "        merged_ref <- merge(summary_stats, ref, by = c(\"CHR\", \"BP\"), suffixes = c(\"\", \"_ref\"))\n",
    "        merged_data <- merge(merged_ref, libd, by = c(\"CHR\", \"BP\"), suffixes = c(\"\", \"_libd\"))\n",
    "\n",
    "        # Identify flip indices\n",
    "        flip_index <- which(merged_data$A1 != merged_data$REF)\n",
    "        flip_indices_list[[chr]] <- flip_index\n",
    "    }\n",
    "\n",
    "    if(nrow(summary_stats) == 0) stop(\"no SNPs?\")\n",
    "    \n",
    "    # Apply all flips across chromosomes\n",
    "    for (chr in 1:22) {\n",
    "        flip_index <- flip_indices_list[[chr]]\n",
    "        if (length(flip_index) > 0) {\n",
    "            # Print human-readable output before correction\n",
    "            print(\"Found mismatch. Correcting the following rows:\")\n",
    "            print(original_summary_stats[flip_index, .(CHR, BP, A1, A2, Z)])\n",
    "            \n",
    "            # Apply the correction\n",
    "            summary_stats[flip_index, `:=`(A1 = A2, A2 = A1, Z = -Z)]\n",
    "            \n",
    "            # Print human-readable output after correction\n",
    "            print(\"After correction:\")\n",
    "            print(summary_stats[flip_index, .(CHR, BP, A1, A2, Z)])\n",
    "        }\n",
    "    }\n",
    "\n",
    "    if(nrow(summary_stats) == 0) stop(\"no SNPs?\")\n",
    "    \n",
    "    # Ensure dimensions, CHR, and BP match the original\n",
    "    if (!all.equal(dim(summary_stats), dim(original_summary_stats)) ||\n",
    "        !all.equal(summary_stats$CHR, original_summary_stats$CHR) ||\n",
    "        !all.equal(summary_stats$BP, original_summary_stats$BP)) {\n",
    "        stop(\"Mismatch between original and updated summary statistics in dimensions, CHR, or BP.\")\n",
    "    }\n",
    "\n",
    "    # Write the updated summary statistics back to the file\n",
    "    print(output_path)\n",
    "    #fwrite(summary_stats, output_path)\n",
    "}"
   ]
  },
  {
   "cell_type": "code",
   "execution_count": 118,
   "id": "7d050630-6b2e-41f2-b688-bd0a1f90bb73",
   "metadata": {},
   "outputs": [
    {
     "data": {
      "text/html": [
       "<ol>\n",
       "\t<li></li>\n",
       "\t<li></li>\n",
       "\t<li></li>\n",
       "\t<li></li>\n",
       "\t<li></li>\n",
       "\t<li></li>\n",
       "\t<li></li>\n",
       "\t<li></li>\n",
       "\t<li></li>\n",
       "\t<li></li>\n",
       "\t<li></li>\n",
       "\t<li></li>\n",
       "\t<li></li>\n",
       "\t<li></li>\n",
       "\t<li></li>\n",
       "\t<li></li>\n",
       "\t<li></li>\n",
       "\t<li></li>\n",
       "\t<li></li>\n",
       "\t<li></li>\n",
       "\t<li></li>\n",
       "\t<li></li>\n",
       "</ol>\n"
      ],
      "text/latex": [
       "\\begin{enumerate}\n",
       "\\item \n",
       "\\item \n",
       "\\item \n",
       "\\item \n",
       "\\item \n",
       "\\item \n",
       "\\item \n",
       "\\item \n",
       "\\item \n",
       "\\item \n",
       "\\item \n",
       "\\item \n",
       "\\item \n",
       "\\item \n",
       "\\item \n",
       "\\item \n",
       "\\item \n",
       "\\item \n",
       "\\item \n",
       "\\item \n",
       "\\item \n",
       "\\item \n",
       "\\end{enumerate}\n"
      ],
      "text/markdown": [
       "1. \n",
       "2. \n",
       "3. \n",
       "4. \n",
       "5. \n",
       "6. \n",
       "7. \n",
       "8. \n",
       "9. \n",
       "10. \n",
       "11. \n",
       "12. \n",
       "13. \n",
       "14. \n",
       "15. \n",
       "16. \n",
       "17. \n",
       "18. \n",
       "19. \n",
       "20. \n",
       "21. \n",
       "22. \n",
       "\n",
       "\n"
      ],
      "text/plain": [
       "[[1]]\n",
       "integer(0)\n",
       "\n",
       "[[2]]\n",
       "integer(0)\n",
       "\n",
       "[[3]]\n",
       "integer(0)\n",
       "\n",
       "[[4]]\n",
       "integer(0)\n",
       "\n",
       "[[5]]\n",
       "integer(0)\n",
       "\n",
       "[[6]]\n",
       "integer(0)\n",
       "\n",
       "[[7]]\n",
       "integer(0)\n",
       "\n",
       "[[8]]\n",
       "integer(0)\n",
       "\n",
       "[[9]]\n",
       "integer(0)\n",
       "\n",
       "[[10]]\n",
       "integer(0)\n",
       "\n",
       "[[11]]\n",
       "integer(0)\n",
       "\n",
       "[[12]]\n",
       "integer(0)\n",
       "\n",
       "[[13]]\n",
       "integer(0)\n",
       "\n",
       "[[14]]\n",
       "integer(0)\n",
       "\n",
       "[[15]]\n",
       "integer(0)\n",
       "\n",
       "[[16]]\n",
       "integer(0)\n",
       "\n",
       "[[17]]\n",
       "integer(0)\n",
       "\n",
       "[[18]]\n",
       "integer(0)\n",
       "\n",
       "[[19]]\n",
       "integer(0)\n",
       "\n",
       "[[20]]\n",
       "integer(0)\n",
       "\n",
       "[[21]]\n",
       "integer(0)\n",
       "\n",
       "[[22]]\n",
       "integer(0)\n"
      ]
     },
     "metadata": {},
     "output_type": "display_data"
    }
   ],
   "source": [
    "flip_indices_list"
   ]
  },
  {
   "cell_type": "markdown",
   "id": "a4cf5846-986a-406e-bc29-f966fefece7b",
   "metadata": {},
   "source": [
    "Now run for real"
   ]
  },
  {
   "cell_type": "code",
   "execution_count": 71,
   "id": "83d109cf-85bd-4643-bc3e-64cf31fa419f",
   "metadata": {},
   "outputs": [
    {
     "name": "stdout",
     "output_type": "stream",
     "text": [
      "[1] \"/expanse/lustre/projects/jhu152/naglemi/mwas/gwas//gwas_stat_bp\"\n"
     ]
    },
    {
     "name": "stderr",
     "output_type": "stream",
     "text": [
      "Warning message in fread(summary_stats_path):\n",
      "“Detected 1 column names but the data has 16 columns (i.e. invalid file). Added 15 extra default column names at the end.”\n"
     ]
    },
    {
     "name": "stdout",
     "output_type": "stream",
     "text": [
      "[1] \"Setting Z\"\n",
      "[1] \"/expanse/lustre/projects/jhu152/naglemi/mwas/gwas//gwas_stat_bp_alleleprocessed.txt\"\n",
      "[1] \"/expanse/lustre/projects/jhu152/naglemi/mwas/gwas//gwas_stat_mdd\"\n",
      "[1] \"Setting Z\"\n",
      "[1] \"/expanse/lustre/projects/jhu152/naglemi/mwas/gwas//gwas_stat_mdd_alleleprocessed.txt\"\n",
      "[1] \"/expanse/lustre/projects/jhu152/naglemi/mwas/gwas//gwas_stat_scz\"\n"
     ]
    },
    {
     "name": "stderr",
     "output_type": "stream",
     "text": [
      "Warning message in fread(summary_stats_path):\n",
      "“Detected 1 column names but the data has 19 columns (i.e. invalid file). Added 18 extra default column names at the end.”\n"
     ]
    },
    {
     "name": "stdout",
     "output_type": "stream",
     "text": [
      "[1] \"Setting Z\"\n",
      "[1] \"/expanse/lustre/projects/jhu152/naglemi/mwas/gwas//gwas_stat_scz_alleleprocessed.txt\"\n"
     ]
    }
   ],
   "source": [
    "library(data.table)\n",
    "\n",
    "# List all summary statistics files\n",
    "# summary_stats_paths <- list.files(\"\", pattern = \"alleleprocessed.txt\", full.names = TRUE)\n",
    "\n",
    "for (summary_stats_path in summary_stats_paths) {\n",
    "\n",
    "    print(summary_stats_path)\n",
    "    if (grepl(\"allele\", basename(summary_stats_path))) next\n",
    "    \n",
    "    output_path <- sub(\".txt\", \"_alleleprocessed.txt\", summary_stats_path)\n",
    "    \n",
    "    if (!grepl(\"\\\\.\", basename(output_path))) {\n",
    "        output_path <- paste0(output_path, \"_alleleprocessed.txt\")\n",
    "    }\n",
    "\n",
    "    if (file.exists(output_path)) {\n",
    "        #stop(paste(\"File already exists:\", output_path))\n",
    "    }\n",
    "\n",
    "    summary_stats <- fread(summary_stats_path)\n",
    "    summary_stats <- clean_and_standardize_colnames(summary_stats)\n",
    "\n",
    "    # Make a copy of the original summary statistics\n",
    "    original_summary_stats <- copy(summary_stats)\n",
    "\n",
    "    flip_indices_list <- list()  # Initialize a list to store flip indices for each chromosome\n",
    "\n",
    "    for (chr in 1:22) {\n",
    "        # Load reference and LIBD data\n",
    "        ref <- fread(paste0(\"/expanse/lustre/projects/jhu152/naglemi/mwas/gwas_flipped/ref_EUR_allele-match-libd_chr\", chr, \".pvar\"),\n",
    "                     select = c(\"#CHROM\", \"POS\", \"REF\", \"ALT\"),\n",
    "                     col.names = c(\"CHR\", \"BP\", \"REF_EUR\", \"ALT_EUR\"))\n",
    "\n",
    "        libd <- fread(paste0(\"/expanse/lustre/projects/jhu152/naglemi/mwas/gwas/libd_chr\", chr, \".pvar\"),\n",
    "                      select = c(\"#CHROM\", \"POS\", \"REF\", \"ALT\"),\n",
    "                      col.names = c(\"CHR\", \"BP\", \"REF_libd\", \"ALT_libd\"))\n",
    "\n",
    "        # Merge with reference and LIBD data by CHR and BP\n",
    "        merged_ref <- merge(summary_stats, ref, by = c(\"CHR\", \"BP\"), suffixes = c(\"\", \"_ref\"))\n",
    "        merged_data <- merge(merged_ref, libd, by = c(\"CHR\", \"BP\"), suffixes = c(\"\", \"_libd\"))\n",
    "\n",
    "        # Identify flip indices\n",
    "        flip_index <- which(merged_data$A1 != merged_data$REF)\n",
    "        flip_indices_list[[chr]] <- flip_index\n",
    "    }\n",
    "\n",
    "    if(nrow(summary_stats) == 0) stop(\"no SNPs?\")\n",
    "    \n",
    "    # Apply all flips across chromosomes\n",
    "    for (chr in 1:22) {\n",
    "        flip_index <- flip_indices_list[[chr]]\n",
    "        if (length(flip_index) > 0) {\n",
    "            summary_stats[flip_index, `:=`(A1 = A2, A2 = A1, Z = -Z)]\n",
    "        }\n",
    "    }\n",
    "\n",
    "    if(nrow(summary_stats) == 0) stop(\"no SNPs?\")\n",
    "    \n",
    "    # Ensure dimensions, CHR, and BP match the original\n",
    "    if (!all.equal(dim(summary_stats), dim(original_summary_stats)) ||\n",
    "        !all.equal(summary_stats$CHR, original_summary_stats$CHR) ||\n",
    "        !all.equal(summary_stats$BP, original_summary_stats$BP)) {\n",
    "        stop(\"Mismatch between original and updated summary statistics in dimensions, CHR, or BP.\")\n",
    "    }\n",
    "\n",
    "    # Write the updated summary statistics back to the file\n",
    "    print(output_path)\n",
    "    fwrite(summary_stats, output_path)\n",
    "}\n"
   ]
  },
  {
   "cell_type": "code",
   "execution_count": 72,
   "id": "a76e91b5-12d5-441c-9aeb-3dc037b1a6b0",
   "metadata": {},
   "outputs": [
    {
     "data": {
      "text/html": [
       "'/expanse/lustre/projects/jhu152/naglemi/mwas/gwas//gwas_stat_scz_alleleprocessed.txt'"
      ],
      "text/latex": [
       "'/expanse/lustre/projects/jhu152/naglemi/mwas/gwas//gwas\\_stat\\_scz\\_alleleprocessed.txt'"
      ],
      "text/markdown": [
       "'/expanse/lustre/projects/jhu152/naglemi/mwas/gwas//gwas_stat_scz_alleleprocessed.txt'"
      ],
      "text/plain": [
       "[1] \"/expanse/lustre/projects/jhu152/naglemi/mwas/gwas//gwas_stat_scz_alleleprocessed.txt\""
      ]
     },
     "metadata": {},
     "output_type": "display_data"
    }
   ],
   "source": [
    "output_path"
   ]
  },
  {
   "cell_type": "code",
   "execution_count": 79,
   "id": "c98f8c64-b672-4673-a440-46de3fe60c27",
   "metadata": {},
   "outputs": [
    {
     "data": {
      "text/html": [
       "<table class=\"dataframe\">\n",
       "<caption>A data.table: 6 × 21</caption>\n",
       "<thead>\n",
       "\t<tr><th scope=col>CHR</th><th scope=col>SNP</th><th scope=col>BP</th><th scope=col>A1</th><th scope=col>A2</th><th scope=col>FRQ_A_53386</th><th scope=col>FRQ_U_77258</th><th scope=col>INFO</th><th scope=col>OR</th><th scope=col>SE</th><th scope=col>⋯</th><th scope=col>ngt</th><th scope=col>Direction</th><th scope=col>HetISqt</th><th scope=col>HetDf</th><th scope=col>HetPVa</th><th scope=col>Nca</th><th scope=col>Nco</th><th scope=col>Neff</th><th scope=col>logOR</th><th scope=col>Z</th></tr>\n",
       "\t<tr><th scope=col>&lt;int&gt;</th><th scope=col>&lt;chr&gt;</th><th scope=col>&lt;int&gt;</th><th scope=col>&lt;chr&gt;</th><th scope=col>&lt;chr&gt;</th><th scope=col>&lt;dbl&gt;</th><th scope=col>&lt;dbl&gt;</th><th scope=col>&lt;dbl&gt;</th><th scope=col>&lt;dbl&gt;</th><th scope=col>&lt;dbl&gt;</th><th scope=col>⋯</th><th scope=col>&lt;int&gt;</th><th scope=col>&lt;chr&gt;</th><th scope=col>&lt;dbl&gt;</th><th scope=col>&lt;int&gt;</th><th scope=col>&lt;dbl&gt;</th><th scope=col>&lt;int&gt;</th><th scope=col>&lt;int&gt;</th><th scope=col>&lt;dbl&gt;</th><th scope=col>&lt;dbl&gt;</th><th scope=col>&lt;dbl&gt;</th></tr>\n",
       "</thead>\n",
       "<tbody>\n",
       "\t<tr><td>10</td><td>10:100082385_C_A</td><td>98322628</td><td>C</td><td>A</td><td>0.932</td><td>0.932</td><td>0.978</td><td>1.02501</td><td>0.0172</td><td>⋯</td><td> 0</td><td>--+-+------+-+-+-++-+-++++---+++++-----+-+--+--++-+--++-+--+++++-+++--+-----</td><td> 0.0</td><td>75</td><td>0.64320</td><td>53386</td><td>77258</td><td>58749.13</td><td> 0.024702369</td><td> 1.4361842</td></tr>\n",
       "\t<tr><td>10</td><td>10:100189568_C_A</td><td>98429811</td><td>C</td><td>A</td><td>0.927</td><td>0.925</td><td>0.913</td><td>1.01857</td><td>0.0172</td><td>⋯</td><td>33</td><td>+++-+----++++-+-+---+--++-+++-+++-----+---+++++--+-----+--+---+-+-++-+--++-+</td><td>11.7</td><td>75</td><td>0.20360</td><td>53386</td><td>77258</td><td>58749.13</td><td> 0.018399683</td><td> 1.0697490</td></tr>\n",
       "\t<tr><td>10</td><td>10:100383999_C_G</td><td>98624242</td><td>G</td><td>C</td><td>0.799</td><td>0.800</td><td>0.992</td><td>0.99144</td><td>0.0108</td><td>⋯</td><td> 0</td><td>++----+++-+--+++-++++++-++--++-+---+-++---+-+-+-+-+--+++-++--+++------+++++-</td><td> 2.4</td><td>75</td><td>0.41880</td><td>53386</td><td>77258</td><td>58749.13</td><td>-0.008596847</td><td> 0.7960044</td></tr>\n",
       "\t<tr><td>10</td><td>10:100806365_A_C</td><td>99046608</td><td>A</td><td>C</td><td>0.118</td><td>0.118</td><td>1.000</td><td>0.98432</td><td>0.0134</td><td>⋯</td><td>30</td><td>+0-++-++----+++++-++-+----+-++-+-++--+++----------++-----+---+++----+---+++-</td><td>19.5</td><td>75</td><td>0.07654</td><td>53386</td><td>77258</td><td>58749.13</td><td>-0.015804232</td><td>-1.1794203</td></tr>\n",
       "\t<tr><td>10</td><td>10:100813720_C_T</td><td>99053963</td><td>T</td><td>C</td><td>0.117</td><td>0.118</td><td>0.999</td><td>0.98285</td><td>0.0134</td><td>⋯</td><td> 0</td><td>-++--+--++++-----+--+-++++-+--+-+--++---++++++++++--+++++-+++---++++-+++---+</td><td>17.7</td><td>75</td><td>0.09876</td><td>53386</td><td>77258</td><td>58749.13</td><td>-0.017298765</td><td> 1.2909526</td></tr>\n",
       "\t<tr><td>10</td><td>10:101257658_T_G</td><td>99497901</td><td>G</td><td>T</td><td>0.257</td><td>0.258</td><td>1.000</td><td>1.00451</td><td>0.0098</td><td>⋯</td><td> 0</td><td>-+++-------+++-+--+++++--+--++++-+--+-++---+++++++-----+++--+--+-+--++++++-+</td><td>17.3</td><td>75</td><td>0.10460</td><td>53386</td><td>77258</td><td>58749.13</td><td> 0.004499860</td><td>-0.4591694</td></tr>\n",
       "</tbody>\n",
       "</table>\n"
      ],
      "text/latex": [
       "A data.table: 6 × 21\n",
       "\\begin{tabular}{lllllllllllllllllllll}\n",
       " CHR & SNP & BP & A1 & A2 & FRQ\\_A\\_53386 & FRQ\\_U\\_77258 & INFO & OR & SE & ⋯ & ngt & Direction & HetISqt & HetDf & HetPVa & Nca & Nco & Neff & logOR & Z\\\\\n",
       " <int> & <chr> & <int> & <chr> & <chr> & <dbl> & <dbl> & <dbl> & <dbl> & <dbl> & ⋯ & <int> & <chr> & <dbl> & <int> & <dbl> & <int> & <int> & <dbl> & <dbl> & <dbl>\\\\\n",
       "\\hline\n",
       "\t 10 & 10:100082385\\_C\\_A & 98322628 & C & A & 0.932 & 0.932 & 0.978 & 1.02501 & 0.0172 & ⋯ &  0 & --+-+------+-+-+-++-+-++++---+++++-----+-+--+--++-+--++-+--+++++-+++--+----- &  0.0 & 75 & 0.64320 & 53386 & 77258 & 58749.13 &  0.024702369 &  1.4361842\\\\\n",
       "\t 10 & 10:100189568\\_C\\_A & 98429811 & C & A & 0.927 & 0.925 & 0.913 & 1.01857 & 0.0172 & ⋯ & 33 & +++-+----++++-+-+---+--++-+++-+++-----+---+++++--+-----+--+---+-+-++-+--++-+ & 11.7 & 75 & 0.20360 & 53386 & 77258 & 58749.13 &  0.018399683 &  1.0697490\\\\\n",
       "\t 10 & 10:100383999\\_C\\_G & 98624242 & G & C & 0.799 & 0.800 & 0.992 & 0.99144 & 0.0108 & ⋯ &  0 & ++----+++-+--+++-++++++-++--++-+---+-++---+-+-+-+-+--+++-++--+++------+++++- &  2.4 & 75 & 0.41880 & 53386 & 77258 & 58749.13 & -0.008596847 &  0.7960044\\\\\n",
       "\t 10 & 10:100806365\\_A\\_C & 99046608 & A & C & 0.118 & 0.118 & 1.000 & 0.98432 & 0.0134 & ⋯ & 30 & +0-++-++----+++++-++-+----+-++-+-++--+++----------++-----+---+++----+---+++- & 19.5 & 75 & 0.07654 & 53386 & 77258 & 58749.13 & -0.015804232 & -1.1794203\\\\\n",
       "\t 10 & 10:100813720\\_C\\_T & 99053963 & T & C & 0.117 & 0.118 & 0.999 & 0.98285 & 0.0134 & ⋯ &  0 & -++--+--++++-----+--+-++++-+--+-+--++---++++++++++--+++++-+++---++++-+++---+ & 17.7 & 75 & 0.09876 & 53386 & 77258 & 58749.13 & -0.017298765 &  1.2909526\\\\\n",
       "\t 10 & 10:101257658\\_T\\_G & 99497901 & G & T & 0.257 & 0.258 & 1.000 & 1.00451 & 0.0098 & ⋯ &  0 & -+++-------+++-+--+++++--+--++++-+--+-++---+++++++-----+++--+--+-+--++++++-+ & 17.3 & 75 & 0.10460 & 53386 & 77258 & 58749.13 &  0.004499860 & -0.4591694\\\\\n",
       "\\end{tabular}\n"
      ],
      "text/markdown": [
       "\n",
       "A data.table: 6 × 21\n",
       "\n",
       "| CHR &lt;int&gt; | SNP &lt;chr&gt; | BP &lt;int&gt; | A1 &lt;chr&gt; | A2 &lt;chr&gt; | FRQ_A_53386 &lt;dbl&gt; | FRQ_U_77258 &lt;dbl&gt; | INFO &lt;dbl&gt; | OR &lt;dbl&gt; | SE &lt;dbl&gt; | ⋯ ⋯ | ngt &lt;int&gt; | Direction &lt;chr&gt; | HetISqt &lt;dbl&gt; | HetDf &lt;int&gt; | HetPVa &lt;dbl&gt; | Nca &lt;int&gt; | Nco &lt;int&gt; | Neff &lt;dbl&gt; | logOR &lt;dbl&gt; | Z &lt;dbl&gt; |\n",
       "|---|---|---|---|---|---|---|---|---|---|---|---|---|---|---|---|---|---|---|---|---|\n",
       "| 10 | 10:100082385_C_A | 98322628 | C | A | 0.932 | 0.932 | 0.978 | 1.02501 | 0.0172 | ⋯ |  0 | --+-+------+-+-+-++-+-++++---+++++-----+-+--+--++-+--++-+--+++++-+++--+----- |  0.0 | 75 | 0.64320 | 53386 | 77258 | 58749.13 |  0.024702369 |  1.4361842 |\n",
       "| 10 | 10:100189568_C_A | 98429811 | C | A | 0.927 | 0.925 | 0.913 | 1.01857 | 0.0172 | ⋯ | 33 | +++-+----++++-+-+---+--++-+++-+++-----+---+++++--+-----+--+---+-+-++-+--++-+ | 11.7 | 75 | 0.20360 | 53386 | 77258 | 58749.13 |  0.018399683 |  1.0697490 |\n",
       "| 10 | 10:100383999_C_G | 98624242 | G | C | 0.799 | 0.800 | 0.992 | 0.99144 | 0.0108 | ⋯ |  0 | ++----+++-+--+++-++++++-++--++-+---+-++---+-+-+-+-+--+++-++--+++------+++++- |  2.4 | 75 | 0.41880 | 53386 | 77258 | 58749.13 | -0.008596847 |  0.7960044 |\n",
       "| 10 | 10:100806365_A_C | 99046608 | A | C | 0.118 | 0.118 | 1.000 | 0.98432 | 0.0134 | ⋯ | 30 | +0-++-++----+++++-++-+----+-++-+-++--+++----------++-----+---+++----+---+++- | 19.5 | 75 | 0.07654 | 53386 | 77258 | 58749.13 | -0.015804232 | -1.1794203 |\n",
       "| 10 | 10:100813720_C_T | 99053963 | T | C | 0.117 | 0.118 | 0.999 | 0.98285 | 0.0134 | ⋯ |  0 | -++--+--++++-----+--+-++++-+--+-+--++---++++++++++--+++++-+++---++++-+++---+ | 17.7 | 75 | 0.09876 | 53386 | 77258 | 58749.13 | -0.017298765 |  1.2909526 |\n",
       "| 10 | 10:101257658_T_G | 99497901 | G | T | 0.257 | 0.258 | 1.000 | 1.00451 | 0.0098 | ⋯ |  0 | -+++-------+++-+--+++++--+--++++-+--+-++---+++++++-----+++--+--+-+--++++++-+ | 17.3 | 75 | 0.10460 | 53386 | 77258 | 58749.13 |  0.004499860 | -0.4591694 |\n",
       "\n"
      ],
      "text/plain": [
       "  CHR SNP              BP       A1 A2 FRQ_A_53386 FRQ_U_77258 INFO  OR     \n",
       "1 10  10:100082385_C_A 98322628 C  A  0.932       0.932       0.978 1.02501\n",
       "2 10  10:100189568_C_A 98429811 C  A  0.927       0.925       0.913 1.01857\n",
       "3 10  10:100383999_C_G 98624242 G  C  0.799       0.800       0.992 0.99144\n",
       "4 10  10:100806365_A_C 99046608 A  C  0.118       0.118       1.000 0.98432\n",
       "5 10  10:100813720_C_T 99053963 T  C  0.117       0.118       0.999 0.98285\n",
       "6 10  10:101257658_T_G 99497901 G  T  0.257       0.258       1.000 1.00451\n",
       "  SE     ⋯ ngt\n",
       "1 0.0172 ⋯  0 \n",
       "2 0.0172 ⋯ 33 \n",
       "3 0.0108 ⋯  0 \n",
       "4 0.0134 ⋯ 30 \n",
       "5 0.0134 ⋯  0 \n",
       "6 0.0098 ⋯  0 \n",
       "  Direction                                                                   \n",
       "1 --+-+------+-+-+-++-+-++++---+++++-----+-+--+--++-+--++-+--+++++-+++--+-----\n",
       "2 +++-+----++++-+-+---+--++-+++-+++-----+---+++++--+-----+--+---+-+-++-+--++-+\n",
       "3 ++----+++-+--+++-++++++-++--++-+---+-++---+-+-+-+-+--+++-++--+++------+++++-\n",
       "4 +0-++-++----+++++-++-+----+-++-+-++--+++----------++-----+---+++----+---+++-\n",
       "5 -++--+--++++-----+--+-++++-+--+-+--++---++++++++++--+++++-+++---++++-+++---+\n",
       "6 -+++-------+++-+--+++++--+--++++-+--+-++---+++++++-----+++--+--+-+--++++++-+\n",
       "  HetISqt HetDf HetPVa  Nca   Nco   Neff     logOR        Z         \n",
       "1  0.0    75    0.64320 53386 77258 58749.13  0.024702369  1.4361842\n",
       "2 11.7    75    0.20360 53386 77258 58749.13  0.018399683  1.0697490\n",
       "3  2.4    75    0.41880 53386 77258 58749.13 -0.008596847  0.7960044\n",
       "4 19.5    75    0.07654 53386 77258 58749.13 -0.015804232 -1.1794203\n",
       "5 17.7    75    0.09876 53386 77258 58749.13 -0.017298765  1.2909526\n",
       "6 17.3    75    0.10460 53386 77258 58749.13  0.004499860 -0.4591694"
      ]
     },
     "metadata": {},
     "output_type": "display_data"
    }
   ],
   "source": [
    "head(fread(\"/expanse/lustre/projects/jhu152/naglemi/mwas/gwas_flipped//gwas_stat_scz_alleleprocessed.txt\"))"
   ]
  },
  {
   "cell_type": "code",
   "execution_count": 78,
   "id": "ff8e936d-15ef-40bf-917e-8615d7ffb9d2",
   "metadata": {},
   "outputs": [
    {
     "data": {
      "text/html": [
       "FALSE"
      ],
      "text/latex": [
       "FALSE"
      ],
      "text/markdown": [
       "FALSE"
      ],
      "text/plain": [
       "[1] FALSE"
      ]
     },
     "metadata": {},
     "output_type": "display_data"
    },
    {
     "data": {
      "text/html": [
       "FALSE"
      ],
      "text/latex": [
       "FALSE"
      ],
      "text/markdown": [
       "FALSE"
      ],
      "text/plain": [
       "[1] FALSE"
      ]
     },
     "metadata": {},
     "output_type": "display_data"
    },
    {
     "data": {
      "text/html": [
       "FALSE"
      ],
      "text/latex": [
       "FALSE"
      ],
      "text/markdown": [
       "FALSE"
      ],
      "text/plain": [
       "[1] FALSE"
      ]
     },
     "metadata": {},
     "output_type": "display_data"
    }
   ],
   "source": [
    "file.copy(\"/expanse/lustre/projects/jhu152/naglemi/mwas/gwas//gwas_stat_bp_alleleprocessed.txt\",\n",
    "          \"/expanse/lustre/projects/jhu152/naglemi/mwas/gwas_flipped//gwas_stat_bp_alleleprocessed.txt\")\n",
    "\n",
    "file.copy(\"/expanse/lustre/projects/jhu152/naglemi/mwas/gwas//gwas_stat_scz_alleleprocessed.txt\",\n",
    "          \"/expanse/lustre/projects/jhu152/naglemi/mwas/gwas_flipped//gwas_stat_scz_alleleprocessed.txt\")\n",
    "\n",
    "file.copy(\"/expanse/lustre/projects/jhu152/naglemi/mwas/gwas//gwas_stat_mdd_alleleprocessed.txt\",\n",
    "          \"/expanse/lustre/projects/jhu152/naglemi/mwas/gwas_flipped//gwas_stat_mdd_alleleprocessed.txt\")"
   ]
  },
  {
   "cell_type": "code",
   "execution_count": 70,
   "id": "08460e08-10d1-4df9-a8a0-c43250a6edb3",
   "metadata": {},
   "outputs": [
    {
     "data": {
      "text/html": [
       "<table class=\"dataframe\">\n",
       "<caption>A data.table: 6 × 17</caption>\n",
       "<thead>\n",
       "\t<tr><th scope=col>CHR</th><th scope=col>BP</th><th scope=col>SNP</th><th scope=col>A1</th><th scope=col>A2</th><th scope=col>logOR</th><th scope=col>SE</th><th scope=col>PVAL</th><th scope=col>NGT</th><th scope=col>FCAS</th><th scope=col>FCON</th><th scope=col>IMPINFO</th><th scope=col>NEFFDIV2</th><th scope=col>NCAS</th><th scope=col>NCON</th><th scope=col>DIRE</th><th scope=col>Z</th></tr>\n",
       "\t<tr><th scope=col>&lt;int&gt;</th><th scope=col>&lt;int&gt;</th><th scope=col>&lt;chr&gt;</th><th scope=col>&lt;chr&gt;</th><th scope=col>&lt;chr&gt;</th><th scope=col>&lt;dbl&gt;</th><th scope=col>&lt;dbl&gt;</th><th scope=col>&lt;dbl&gt;</th><th scope=col>&lt;int&gt;</th><th scope=col>&lt;dbl&gt;</th><th scope=col>&lt;dbl&gt;</th><th scope=col>&lt;dbl&gt;</th><th scope=col>&lt;dbl&gt;</th><th scope=col>&lt;int&gt;</th><th scope=col>&lt;int&gt;</th><th scope=col>&lt;chr&gt;</th><th scope=col>&lt;dbl&gt;</th></tr>\n",
       "</thead>\n",
       "<tbody>\n",
       "\t<tr><td>10</td><td>98322628</td><td>10:100082385_C_A</td><td>C</td><td>A</td><td> 0.004001981</td><td>0.0201</td><td>0.8422</td><td> 0</td><td>0.934</td><td>0.941</td><td>0.971</td><td>43354.73</td><td>37940</td><td>103559</td><td>+++-+--++-+-++---+--++++-++--++++++--+++-+-----??-?+--+?-</td><td> 0.1991036</td></tr>\n",
       "\t<tr><td>10</td><td>98429811</td><td>10:100189568_C_A</td><td>C</td><td>A</td><td> 0.010098835</td><td>0.0200</td><td>0.6135</td><td>25</td><td>0.925</td><td>0.925</td><td>0.890</td><td>42290.42</td><td>36834</td><td>102499</td><td>-++--++++--+-++++++-?---++--+--+-+---+-+----+++??-?+?+-?+</td><td> 0.5049417</td></tr>\n",
       "\t<tr><td>10</td><td>98624242</td><td>10:100383999_C_G</td><td>G</td><td>C</td><td>-0.007397293</td><td>0.0122</td><td>0.5428</td><td> 0</td><td>0.799</td><td>0.797</td><td>1.000</td><td>43445.24</td><td>38084</td><td>103625</td><td>--++++-+++-++-++-+--++-++-+-+---+++-+----+--++-??-?---+-+</td><td> 0.6063355</td></tr>\n",
       "\t<tr><td>10</td><td>99046608</td><td>10:100806365_A_C</td><td>A</td><td>C</td><td>-0.002703652</td><td>0.0152</td><td>0.8603</td><td>26</td><td>0.119</td><td>0.126</td><td>0.993</td><td>43445.24</td><td>38084</td><td>103625</td><td>++--++++-+-++---+++-+---+++-+--+---+--++---++++??+?---++-</td><td>-0.1778718</td></tr>\n",
       "\t<tr><td>10</td><td>99053963</td><td>10:100813720_C_T</td><td>T</td><td>C</td><td>-0.003596460</td><td>0.0152</td><td>0.8123</td><td> 0</td><td>0.118</td><td>0.126</td><td>0.990</td><td>43445.24</td><td>38084</td><td>103625</td><td>--++----+-+--+++---+-+++---+-++-+++-++--+++-+--??-?+++--+</td><td> 0.2366092</td></tr>\n",
       "\t<tr><td>10</td><td>99497901</td><td>10:101257658_T_G</td><td>G</td><td>T</td><td> 0.005096988</td><td>0.0112</td><td>0.6474</td><td> 0</td><td>0.259</td><td>0.259</td><td>0.997</td><td>43445.24</td><td>38084</td><td>103625</td><td>-+--+++----+-+--++++---+---++-++---+--++--+-+++??+?--+--+</td><td>-0.4550882</td></tr>\n",
       "</tbody>\n",
       "</table>\n"
      ],
      "text/latex": [
       "A data.table: 6 × 17\n",
       "\\begin{tabular}{lllllllllllllllll}\n",
       " CHR & BP & SNP & A1 & A2 & logOR & SE & PVAL & NGT & FCAS & FCON & IMPINFO & NEFFDIV2 & NCAS & NCON & DIRE & Z\\\\\n",
       " <int> & <int> & <chr> & <chr> & <chr> & <dbl> & <dbl> & <dbl> & <int> & <dbl> & <dbl> & <dbl> & <dbl> & <int> & <int> & <chr> & <dbl>\\\\\n",
       "\\hline\n",
       "\t 10 & 98322628 & 10:100082385\\_C\\_A & C & A &  0.004001981 & 0.0201 & 0.8422 &  0 & 0.934 & 0.941 & 0.971 & 43354.73 & 37940 & 103559 & +++-+--++-+-++---+--++++-++--++++++--+++-+-----??-?+--+?- &  0.1991036\\\\\n",
       "\t 10 & 98429811 & 10:100189568\\_C\\_A & C & A &  0.010098835 & 0.0200 & 0.6135 & 25 & 0.925 & 0.925 & 0.890 & 42290.42 & 36834 & 102499 & -++--++++--+-++++++-?---++--+--+-+---+-+----+++??-?+?+-?+ &  0.5049417\\\\\n",
       "\t 10 & 98624242 & 10:100383999\\_C\\_G & G & C & -0.007397293 & 0.0122 & 0.5428 &  0 & 0.799 & 0.797 & 1.000 & 43445.24 & 38084 & 103625 & --++++-+++-++-++-+--++-++-+-+---+++-+----+--++-??-?---+-+ &  0.6063355\\\\\n",
       "\t 10 & 99046608 & 10:100806365\\_A\\_C & A & C & -0.002703652 & 0.0152 & 0.8603 & 26 & 0.119 & 0.126 & 0.993 & 43445.24 & 38084 & 103625 & ++--++++-+-++---+++-+---+++-+--+---+--++---++++??+?---++- & -0.1778718\\\\\n",
       "\t 10 & 99053963 & 10:100813720\\_C\\_T & T & C & -0.003596460 & 0.0152 & 0.8123 &  0 & 0.118 & 0.126 & 0.990 & 43445.24 & 38084 & 103625 & --++----+-+--+++---+-+++---+-++-+++-++--+++-+--??-?+++--+ &  0.2366092\\\\\n",
       "\t 10 & 99497901 & 10:101257658\\_T\\_G & G & T &  0.005096988 & 0.0112 & 0.6474 &  0 & 0.259 & 0.259 & 0.997 & 43445.24 & 38084 & 103625 & -+--+++----+-+--++++---+---++-++---+--++--+-+++??+?--+--+ & -0.4550882\\\\\n",
       "\\end{tabular}\n"
      ],
      "text/markdown": [
       "\n",
       "A data.table: 6 × 17\n",
       "\n",
       "| CHR &lt;int&gt; | BP &lt;int&gt; | SNP &lt;chr&gt; | A1 &lt;chr&gt; | A2 &lt;chr&gt; | logOR &lt;dbl&gt; | SE &lt;dbl&gt; | PVAL &lt;dbl&gt; | NGT &lt;int&gt; | FCAS &lt;dbl&gt; | FCON &lt;dbl&gt; | IMPINFO &lt;dbl&gt; | NEFFDIV2 &lt;dbl&gt; | NCAS &lt;int&gt; | NCON &lt;int&gt; | DIRE &lt;chr&gt; | Z &lt;dbl&gt; |\n",
       "|---|---|---|---|---|---|---|---|---|---|---|---|---|---|---|---|---|\n",
       "| 10 | 98322628 | 10:100082385_C_A | C | A |  0.004001981 | 0.0201 | 0.8422 |  0 | 0.934 | 0.941 | 0.971 | 43354.73 | 37940 | 103559 | +++-+--++-+-++---+--++++-++--++++++--+++-+-----??-?+--+?- |  0.1991036 |\n",
       "| 10 | 98429811 | 10:100189568_C_A | C | A |  0.010098835 | 0.0200 | 0.6135 | 25 | 0.925 | 0.925 | 0.890 | 42290.42 | 36834 | 102499 | -++--++++--+-++++++-?---++--+--+-+---+-+----+++??-?+?+-?+ |  0.5049417 |\n",
       "| 10 | 98624242 | 10:100383999_C_G | G | C | -0.007397293 | 0.0122 | 0.5428 |  0 | 0.799 | 0.797 | 1.000 | 43445.24 | 38084 | 103625 | --++++-+++-++-++-+--++-++-+-+---+++-+----+--++-??-?---+-+ |  0.6063355 |\n",
       "| 10 | 99046608 | 10:100806365_A_C | A | C | -0.002703652 | 0.0152 | 0.8603 | 26 | 0.119 | 0.126 | 0.993 | 43445.24 | 38084 | 103625 | ++--++++-+-++---+++-+---+++-+--+---+--++---++++??+?---++- | -0.1778718 |\n",
       "| 10 | 99053963 | 10:100813720_C_T | T | C | -0.003596460 | 0.0152 | 0.8123 |  0 | 0.118 | 0.126 | 0.990 | 43445.24 | 38084 | 103625 | --++----+-+--+++---+-+++---+-++-+++-++--+++-+--??-?+++--+ |  0.2366092 |\n",
       "| 10 | 99497901 | 10:101257658_T_G | G | T |  0.005096988 | 0.0112 | 0.6474 |  0 | 0.259 | 0.259 | 0.997 | 43445.24 | 38084 | 103625 | -+--+++----+-+--++++---+---++-++---+--++--+-+++??+?--+--+ | -0.4550882 |\n",
       "\n"
      ],
      "text/plain": [
       "  CHR BP       SNP              A1 A2 logOR        SE     PVAL   NGT FCAS \n",
       "1 10  98322628 10:100082385_C_A C  A   0.004001981 0.0201 0.8422  0  0.934\n",
       "2 10  98429811 10:100189568_C_A C  A   0.010098835 0.0200 0.6135 25  0.925\n",
       "3 10  98624242 10:100383999_C_G G  C  -0.007397293 0.0122 0.5428  0  0.799\n",
       "4 10  99046608 10:100806365_A_C A  C  -0.002703652 0.0152 0.8603 26  0.119\n",
       "5 10  99053963 10:100813720_C_T T  C  -0.003596460 0.0152 0.8123  0  0.118\n",
       "6 10  99497901 10:101257658_T_G G  T   0.005096988 0.0112 0.6474  0  0.259\n",
       "  FCON  IMPINFO NEFFDIV2 NCAS  NCON  \n",
       "1 0.941 0.971   43354.73 37940 103559\n",
       "2 0.925 0.890   42290.42 36834 102499\n",
       "3 0.797 1.000   43445.24 38084 103625\n",
       "4 0.126 0.993   43445.24 38084 103625\n",
       "5 0.126 0.990   43445.24 38084 103625\n",
       "6 0.259 0.997   43445.24 38084 103625\n",
       "  DIRE                                                      Z         \n",
       "1 +++-+--++-+-++---+--++++-++--++++++--+++-+-----??-?+--+?-  0.1991036\n",
       "2 -++--++++--+-++++++-?---++--+--+-+---+-+----+++??-?+?+-?+  0.5049417\n",
       "3 --++++-+++-++-++-+--++-++-+-+---+++-+----+--++-??-?---+-+  0.6063355\n",
       "4 ++--++++-+-++---+++-+---+++-+--+---+--++---++++??+?---++- -0.1778718\n",
       "5 --++----+-+--+++---+-+++---+-++-+++-++--+++-+--??-?+++--+  0.2366092\n",
       "6 -+--+++----+-+--++++---+---++-++---+--++--+-+++??+?--+--+ -0.4550882"
      ]
     },
     "metadata": {},
     "output_type": "display_data"
    }
   ],
   "source": [
    "head(fread(paste0(output_path)))"
   ]
  },
  {
   "cell_type": "code",
   "execution_count": null,
   "id": "a0aeea4c-51a1-4888-9a3d-1c36207c6dab",
   "metadata": {},
   "outputs": [],
   "source": [
    "dim(summary_stats)"
   ]
  },
  {
   "cell_type": "code",
   "execution_count": null,
   "id": "8c6eb480-d925-4379-9011-32d63ff34c0a",
   "metadata": {},
   "outputs": [],
   "source": [
    "head(summary_stats)"
   ]
  },
  {
   "cell_type": "code",
   "execution_count": null,
   "id": "1abb25f7-733e-4f48-a0d9-ab5e3577461a",
   "metadata": {},
   "outputs": [],
   "source": [
    "head(merged_ref)"
   ]
  },
  {
   "cell_type": "code",
   "execution_count": null,
   "id": "0d2fdb29-f759-4fc6-8178-b60dfc09e9db",
   "metadata": {},
   "outputs": [],
   "source": [
    "library(data.table)\n",
    "\n",
    "summary_stats_paths <- list.files(\"/expanse/lustre/projects/jhu152/naglemi/mwas/gwas_flipped/\", pattern = \"alleleprocessed.txt\", full.names = TRUE)"
   ]
  },
  {
   "cell_type": "code",
   "execution_count": null,
   "id": "b677f0bd-3b8e-49a9-b8f1-3242b40b939e",
   "metadata": {},
   "outputs": [],
   "source": [
    "summary_stats_paths"
   ]
  },
  {
   "cell_type": "code",
   "execution_count": null,
   "id": "5b870466-a046-4e99-9de4-246819bdb6ab",
   "metadata": {},
   "outputs": [],
   "source": [
    "library(data.table)\n",
    "\n",
    "\n",
    "for (summary_stats_path in summary_stats_paths) {\n",
    "    \n",
    "    summary_stats <- fread(summary_stats_path)\n",
    "    #summary_stats <- clean_and_standardize_colnames(summary_stats)\n",
    "\n",
    "    total_mismatches <- 0  # Initialize counter for mismatches\n",
    "\n",
    "    for (chr in 1:22) {\n",
    "        # Load reference and LIBD data\n",
    "        ref <- fread(paste0(\"/expanse/lustre/projects/jhu152/naglemi/mwas/gwas_flipped/ref_EUR_allele-match-libd_chr\", chr, \".pvar\"),\n",
    "                     select = c(\"#CHROM\", \"POS\", \"REF\", \"ALT\"),\n",
    "                     col.names = c(\"CHR\", \"BP\", \"REF\", \"ALT\"))\n",
    "\n",
    "        libd <- fread(paste0(\"/expanse/lustre/projects/jhu152/naglemi/mwas/gwas/libd_chr\", chr, \".pvar\"),\n",
    "                      select = c(\"#CHROM\", \"POS\", \"REF\", \"ALT\"),\n",
    "                      col.names = c(\"CHR\", \"BP\", \"REF_libd\", \"ALT_libd\"))\n",
    "\n",
    "        # Merge with reference and LIBD data by CHR and BP\n",
    "        merged_ref <- merge(summary_stats, ref, by = c(\"CHR\", \"BP\"), suffixes = c(\"\", \"_ref\"))\n",
    "        merged_data <- merge(merged_ref, libd, by = c(\"CHR\", \"BP\"), suffixes = c(\"\", \"_libd\"))\n",
    "\n",
    "        # Count mismatches in allele orders\n",
    "        mismatch_count <- merged_data[\n",
    "            !(((A1 == REF & A2 == ALT) | (A1 == ALT & A2 == REF)) &\n",
    "              ((A1 == REF_libd & A2 == ALT_libd) | (A1 == ALT_libd & A2 == REF_libd))),\n",
    "            .N\n",
    "        ]\n",
    "\n",
    "        # Accumulate total mismatches\n",
    "        total_mismatches <- total_mismatches + mismatch_count\n",
    "    }\n",
    "\n",
    "    # Print a message with the total count of mismatches\n",
    "    cat(\"File:\", summary_stats_path, \"- Total mismatches:\", total_mismatches, \"\\n\")\n",
    "}\n"
   ]
  },
  {
   "cell_type": "code",
   "execution_count": null,
   "id": "94ae875a-f2ff-492a-af33-7270fd8289c9",
   "metadata": {},
   "outputs": [],
   "source": [
    "library(data.table)\n",
    "\n",
    "summary_stats_paths <- list.files(\"/expanse/lustre/projects/jhu152/naglemi/mwas/gwas/\", pattern = \"stat\", full.names = TRUE)"
   ]
  },
  {
   "cell_type": "code",
   "execution_count": 122,
   "id": "ce0dee46-9dcf-4cab-95ab-2a90f14973ef",
   "metadata": {
    "collapsed": true,
    "jupyter": {
     "outputs_hidden": true
    }
   },
   "outputs": [
    {
     "name": "stdout",
     "output_type": "stream",
     "text": [
      "[1] \"/expanse/lustre/projects/jhu152/naglemi/mwas/gwas_flipped//gwas_stat_bp\"\n"
     ]
    },
    {
     "name": "stderr",
     "output_type": "stream",
     "text": [
      "Warning message in fread(summary_stats_path):\n",
      "“Detected 1 column names but the data has 16 columns (i.e. invalid file). Added 15 extra default column names at the end.”\n"
     ]
    },
    {
     "name": "stdout",
     "output_type": "stream",
     "text": [
      "[1] \"Setting Z\"\n",
      "Chromosome: 11 - Mismatches found:\n",
      "Key: <CHR, BP>\n",
      "     CHR       BP     A1     A2    REF    ALT REF_libd ALT_libd\n",
      "   <int>    <int> <char> <char> <char> <char>   <char>   <char>\n",
      "1:    11 98556454      G      T      G      A        G        A\n",
      "File: /expanse/lustre/projects/jhu152/naglemi/mwas/gwas_flipped//gwas_stat_bp - Total mismatches: 1 \n",
      "[1] \"/expanse/lustre/projects/jhu152/naglemi/mwas/gwas_flipped//gwas_stat_bp_alleleprocessed.txt\"\n",
      "[1] \"Z set already\"\n",
      "Chromosome: 11 - Mismatches found:\n",
      "Key: <CHR, BP>\n",
      "     CHR       BP     A1     A2    REF    ALT REF_libd ALT_libd\n",
      "   <int>    <int> <char> <char> <char> <char>   <char>   <char>\n",
      "1:    11 98556454      G      T      G      A        G        A\n",
      "File: /expanse/lustre/projects/jhu152/naglemi/mwas/gwas_flipped//gwas_stat_bp_alleleprocessed.txt - Total mismatches: 1 \n",
      "[1] \"/expanse/lustre/projects/jhu152/naglemi/mwas/gwas_flipped//gwas_stat_mdd\"\n",
      "[1] \"Setting Z\"\n",
      "Chromosome: 1 - Mismatches found:\n",
      "Key: <CHR, BP>\n",
      "     CHR       BP     A1     A2    REF    ALT REF_libd ALT_libd\n",
      "   <int>    <int> <char> <char> <char> <char>   <char>   <char>\n",
      "1:     1 22412731      T      C      C      G        C        G\n",
      "2:     1 81246306      A      G      C      T        C        T\n",
      "Chromosome: 5 - Mismatches found:\n",
      "Key: <CHR, BP>\n",
      "     CHR        BP     A1     A2    REF    ALT REF_libd ALT_libd\n",
      "   <int>     <int> <char> <char> <char> <char>   <char>   <char>\n",
      "1:     5 133340061      A      C      C      G        C        G\n",
      "Chromosome: 7 - Mismatches found:\n",
      "Key: <CHR, BP>\n",
      "     CHR      BP     A1     A2    REF    ALT REF_libd ALT_libd\n",
      "   <int>   <int> <char> <char> <char> <char>   <char>   <char>\n",
      "1:     7 6345022      A      G      G      T        G        T\n",
      "Chromosome: 8 - Mismatches found:\n",
      "Key: <CHR, BP>\n",
      "     CHR       BP     A1     A2    REF    ALT REF_libd ALT_libd\n",
      "   <int>    <int> <char> <char> <char> <char>   <char>   <char>\n",
      "1:     8 14944930      C      G      C      T        C        T\n",
      "Chromosome: 9 - Mismatches found:\n",
      "Key: <CHR, BP>\n",
      "     CHR        BP     A1     A2    REF    ALT REF_libd ALT_libd\n",
      "   <int>     <int> <char> <char> <char> <char>   <char>   <char>\n",
      "1:     9   6135696      A      C      A      T        A        T\n",
      "2:     9 110277556      A      C      A      T        A        T\n",
      "Chromosome: 14 - Mismatches found:\n",
      "Key: <CHR, BP>\n",
      "     CHR       BP     A1     A2    REF    ALT REF_libd ALT_libd\n",
      "   <int>    <int> <char> <char> <char> <char>   <char>   <char>\n",
      "1:    14 74942064      C      G      G      T        G        T\n",
      "Chromosome: 20 - Mismatches found:\n",
      "Key: <CHR, BP>\n",
      "     CHR       BP     A1     A2    REF    ALT REF_libd ALT_libd\n",
      "   <int>    <int> <char> <char> <char> <char>   <char>   <char>\n",
      "1:    20 21719493      T      C      T      G        T        G\n",
      "File: /expanse/lustre/projects/jhu152/naglemi/mwas/gwas_flipped//gwas_stat_mdd - Total mismatches: 9 \n",
      "[1] \"/expanse/lustre/projects/jhu152/naglemi/mwas/gwas_flipped//gwas_stat_mdd_alleleprocessed.txt\"\n",
      "[1] \"Z set already\"\n",
      "Chromosome: 1 - Mismatches found:\n",
      "Key: <CHR, BP>\n",
      "     CHR       BP     A1     A2    REF    ALT REF_libd ALT_libd\n",
      "   <int>    <int> <char> <char> <char> <char>   <char>   <char>\n",
      "1:     1 22412731      T      C      C      G        C        G\n",
      "2:     1 81246306      A      G      C      T        C        T\n",
      "Chromosome: 5 - Mismatches found:\n",
      "Key: <CHR, BP>\n",
      "     CHR        BP     A1     A2    REF    ALT REF_libd ALT_libd\n",
      "   <int>     <int> <char> <char> <char> <char>   <char>   <char>\n",
      "1:     5 133340061      A      C      C      G        C        G\n",
      "Chromosome: 7 - Mismatches found:\n",
      "Key: <CHR, BP>\n",
      "     CHR      BP     A1     A2    REF    ALT REF_libd ALT_libd\n",
      "   <int>   <int> <char> <char> <char> <char>   <char>   <char>\n",
      "1:     7 6345022      G      A      G      T        G        T\n",
      "Chromosome: 8 - Mismatches found:\n",
      "Key: <CHR, BP>\n",
      "     CHR       BP     A1     A2    REF    ALT REF_libd ALT_libd\n",
      "   <int>    <int> <char> <char> <char> <char>   <char>   <char>\n",
      "1:     8 14944930      C      G      C      T        C        T\n",
      "Chromosome: 9 - Mismatches found:\n",
      "Key: <CHR, BP>\n",
      "     CHR        BP     A1     A2    REF    ALT REF_libd ALT_libd\n",
      "   <int>     <int> <char> <char> <char> <char>   <char>   <char>\n",
      "1:     9   6135696      A      C      A      T        A        T\n",
      "2:     9 110277556      A      C      A      T        A        T\n",
      "Chromosome: 14 - Mismatches found:\n",
      "Key: <CHR, BP>\n",
      "     CHR       BP     A1     A2    REF    ALT REF_libd ALT_libd\n",
      "   <int>    <int> <char> <char> <char> <char>   <char>   <char>\n",
      "1:    14 74942064      C      G      G      T        G        T\n",
      "Chromosome: 20 - Mismatches found:\n",
      "Key: <CHR, BP>\n",
      "     CHR       BP     A1     A2    REF    ALT REF_libd ALT_libd\n",
      "   <int>    <int> <char> <char> <char> <char>   <char>   <char>\n",
      "1:    20 21719493      T      C      T      G        T        G\n",
      "File: /expanse/lustre/projects/jhu152/naglemi/mwas/gwas_flipped//gwas_stat_mdd_alleleprocessed.txt - Total mismatches: 9 \n",
      "[1] \"/expanse/lustre/projects/jhu152/naglemi/mwas/gwas_flipped//gwas_stat_scz\"\n"
     ]
    },
    {
     "name": "stderr",
     "output_type": "stream",
     "text": [
      "Warning message in fread(summary_stats_path):\n",
      "“Detected 1 column names but the data has 19 columns (i.e. invalid file). Added 18 extra default column names at the end.”\n"
     ]
    },
    {
     "name": "stdout",
     "output_type": "stream",
     "text": [
      "[1] \"Setting Z\"\n",
      "File: /expanse/lustre/projects/jhu152/naglemi/mwas/gwas_flipped//gwas_stat_scz - Total mismatches: 0 \n",
      "[1] \"/expanse/lustre/projects/jhu152/naglemi/mwas/gwas_flipped//gwas_stat_scz_alleleprocessed.txt\"\n",
      "[1] \"Z set already\"\n",
      "File: /expanse/lustre/projects/jhu152/naglemi/mwas/gwas_flipped//gwas_stat_scz_alleleprocessed.txt - Total mismatches: 0 \n"
     ]
    }
   ],
   "source": [
    "for (summary_stats_path in summary_stats_paths) {\n",
    "    print(summary_stats_path)\n",
    "    summary_stats <- fread(summary_stats_path)\n",
    "    summary_stats <- clean_and_standardize_colnames(summary_stats)\n",
    "\n",
    "    total_mismatches <- 0  # Initialize counter for mismatches\n",
    "\n",
    "    for (chr in 1:22) {\n",
    "        # Load reference and LIBD data\n",
    "        ref <- fread(paste0(\"/expanse/lustre/projects/jhu152/naglemi/mwas/gwas_flipped/ref_EUR_allele-match-libd_chr\", chr, \".pvar\"),\n",
    "                     select = c(\"#CHROM\", \"POS\", \"REF\", \"ALT\"),\n",
    "                     col.names = c(\"CHR\", \"BP\", \"REF\", \"ALT\"))\n",
    "\n",
    "        libd <- fread(paste0(\"/expanse/lustre/projects/jhu152/naglemi/mwas/gwas/libd_chr\", chr, \".pvar\"),\n",
    "                      select = c(\"#CHROM\", \"POS\", \"REF\", \"ALT\"),\n",
    "                      col.names = c(\"CHR\", \"BP\", \"REF_libd\", \"ALT_libd\"))\n",
    "\n",
    "        # Merge with reference and LIBD data by CHR and BP\n",
    "        merged_ref <- merge(summary_stats, ref, by = c(\"CHR\", \"BP\"), suffixes = c(\"\", \"_ref\"))\n",
    "        merged_data <- merge(merged_ref, libd, by = c(\"CHR\", \"BP\"), suffixes = c(\"\", \"_libd\"))\n",
    "\n",
    "        # Identify mismatches in allele orders\n",
    "        mismatches <- merged_data[\n",
    "            !(((A1 == REF & A2 == ALT) | (A1 == ALT & A2 == REF)) &\n",
    "              ((A1 == REF_libd & A2 == ALT_libd) | (A1 == ALT_libd & A2 == REF_libd)))\n",
    "        ]\n",
    "\n",
    "        # Count mismatches and accumulate total\n",
    "        mismatch_count <- nrow(mismatches)\n",
    "        total_mismatches <- total_mismatches + mismatch_count\n",
    "\n",
    "        # Display the mismatches\n",
    "        if (mismatch_count > 0) {\n",
    "            cat(\"Chromosome:\", chr, \"- Mismatches found:\\n\")\n",
    "            print(mismatches[, .(CHR, BP, A1, A2, REF, ALT, REF_libd, ALT_libd)])\n",
    "        }\n",
    "    }\n",
    "\n",
    "    # Print a message with the total count of mismatches\n",
    "    cat(\"File:\", summary_stats_path, \"- Total mismatches:\", total_mismatches, \"\\n\")\n",
    "}"
   ]
  },
  {
   "cell_type": "code",
   "execution_count": 129,
   "id": "82a3b22a-824a-4af3-a126-24e547e1e423",
   "metadata": {},
   "outputs": [
    {
     "data": {
      "text/html": [
       "<table class=\"dataframe\">\n",
       "<caption>A data.table: 6 × 5</caption>\n",
       "<thead>\n",
       "\t<tr><th scope=col>#CHROM</th><th scope=col>POS</th><th scope=col>ID</th><th scope=col>REF</th><th scope=col>ALT</th></tr>\n",
       "\t<tr><th scope=col>&lt;int&gt;</th><th scope=col>&lt;int&gt;</th><th scope=col>&lt;chr&gt;</th><th scope=col>&lt;chr&gt;</th><th scope=col>&lt;chr&gt;</th></tr>\n",
       "</thead>\n",
       "<tbody>\n",
       "\t<tr><td>7</td><td>53998</td><td>rs7806592 </td><td>C</td><td>T</td></tr>\n",
       "\t<tr><td>7</td><td>60728</td><td>rs4916941 </td><td>G</td><td>A</td></tr>\n",
       "\t<tr><td>7</td><td>63494</td><td>rs6964622 </td><td>A</td><td>G</td></tr>\n",
       "\t<tr><td>7</td><td>71938</td><td>rs13437666</td><td>A</td><td>C</td></tr>\n",
       "\t<tr><td>7</td><td>80500</td><td>rs12533719</td><td>T</td><td>C</td></tr>\n",
       "\t<tr><td>7</td><td>82240</td><td>rs13236314</td><td>C</td><td>T</td></tr>\n",
       "</tbody>\n",
       "</table>\n"
      ],
      "text/latex": [
       "A data.table: 6 × 5\n",
       "\\begin{tabular}{lllll}\n",
       " \\#CHROM & POS & ID & REF & ALT\\\\\n",
       " <int> & <int> & <chr> & <chr> & <chr>\\\\\n",
       "\\hline\n",
       "\t 7 & 53998 & rs7806592  & C & T\\\\\n",
       "\t 7 & 60728 & rs4916941  & G & A\\\\\n",
       "\t 7 & 63494 & rs6964622  & A & G\\\\\n",
       "\t 7 & 71938 & rs13437666 & A & C\\\\\n",
       "\t 7 & 80500 & rs12533719 & T & C\\\\\n",
       "\t 7 & 82240 & rs13236314 & C & T\\\\\n",
       "\\end{tabular}\n"
      ],
      "text/markdown": [
       "\n",
       "A data.table: 6 × 5\n",
       "\n",
       "| #CHROM &lt;int&gt; | POS &lt;int&gt; | ID &lt;chr&gt; | REF &lt;chr&gt; | ALT &lt;chr&gt; |\n",
       "|---|---|---|---|---|\n",
       "| 7 | 53998 | rs7806592  | C | T |\n",
       "| 7 | 60728 | rs4916941  | G | A |\n",
       "| 7 | 63494 | rs6964622  | A | G |\n",
       "| 7 | 71938 | rs13437666 | A | C |\n",
       "| 7 | 80500 | rs12533719 | T | C |\n",
       "| 7 | 82240 | rs13236314 | C | T |\n",
       "\n"
      ],
      "text/plain": [
       "  #CHROM POS   ID         REF ALT\n",
       "1 7      53998 rs7806592  C   T  \n",
       "2 7      60728 rs4916941  G   A  \n",
       "3 7      63494 rs6964622  A   G  \n",
       "4 7      71938 rs13437666 A   C  \n",
       "5 7      80500 rs12533719 T   C  \n",
       "6 7      82240 rs13236314 C   T  "
      ]
     },
     "metadata": {},
     "output_type": "display_data"
    }
   ],
   "source": [
    "head(fread(paste0(\"/expanse/lustre/projects/jhu152/naglemi/mwas/gwas_flipped/ref_EUR_allele-match-libd_chr\", chr, \".pvar\")))"
   ]
  },
  {
   "cell_type": "code",
   "execution_count": null,
   "id": "f84baaa2-c03e-4fd3-9c37-7faf6015927e",
   "metadata": {},
   "outputs": [],
   "source": [
    "library(data.table)\n",
    "\n",
    "# Initialize an empty table to collect all mismatches\n",
    "all_mismatches <- data.table()  \n",
    "\n",
    "for (summary_stats_path in summary_stats_paths) {\n",
    "    print(summary_stats_path)\n",
    "    summary_stats <- fread(summary_stats_path)\n",
    "    summary_stats <- clean_and_standardize_colnames(summary_stats)\n",
    "\n",
    "    total_mismatches <- 0  # Initialize counter for mismatches\n",
    "\n",
    "    for (chr in 1:22) {\n",
    "        # Load reference and LIBD data\n",
    "        ref <- fread(paste0(\"/expanse/lustre/projects/jhu152/naglemi/mwas/gwas_flipped/ref_EUR_allele-match-libd_chr\", chr, \".pvar\"),\n",
    "                     select = c(\"#CHROM\", \"POS\", \"REF\", \"ALT\", \"ID\"),\n",
    "                     col.names = c(\"CHR\", \"BP\", \"REF\", \"ALT\", \"ID\"))\n",
    "\n",
    "        libd <- fread(paste0(\"/expanse/lustre/projects/jhu152/naglemi/mwas/gwas/libd_chr\", chr, \".pvar\"),\n",
    "                      select = c(\"#CHROM\", \"POS\", \"REF\", \"ALT\"),\n",
    "                      col.names = c(\"CHR\", \"BP\", \"REF_libd\", \"ALT_libd\"))\n",
    "\n",
    "        # Merge with reference and LIBD data by CHR and BP\n",
    "        merged_ref <- merge(summary_stats, ref, by = c(\"CHR\", \"BP\"), suffixes = c(\"\", \"_ref\"))\n",
    "        merged_data <- merge(merged_ref, libd, by = c(\"CHR\", \"BP\"), suffixes = c(\"\", \"_libd\"))\n",
    "\n",
    "        # Identify mismatches in allele orders\n",
    "        mismatches <- merged_data[\n",
    "            !(((A1 == REF & A2 == ALT) | (A1 == ALT & A2 == REF)) &\n",
    "              ((A1 == REF_libd & A2 == ALT_libd) | (A1 == ALT_libd & A2 == REF_libd)))\n",
    "        ]\n",
    "\n",
    "        # Count mismatches and accumulate total\n",
    "        mismatch_count <- nrow(mismatches)\n",
    "        total_mismatches <- total_mismatches + mismatch_count\n",
    "\n",
    "        # Collect mismatches into the giant table\n",
    "        if (mismatch_count > 0) {\n",
    "            mismatches[, File := summary_stats_path]  # Add file information to the mismatches\n",
    "            all_mismatches <- rbind(all_mismatches, mismatches[, .(File, CHR, BP, ID, A1, A2, REF, ALT, REF_libd, ALT_libd)])\n",
    "        }\n",
    "    }\n",
    "\n",
    "    # Print a message with the total count of mismatches\n",
    "    cat(\"File:\", summary_stats_path, \"- Total mismatches:\", total_mismatches, \"\\n\")\n",
    "}\n",
    "\n",
    "# Print the giant table with all mismatches\n",
    "if (nrow(all_mismatches) > 0) {\n",
    "    print(\"All mismatches collected across files:\")\n",
    "    print(all_mismatches)\n",
    "} else {\n",
    "    print(\"No mismatches found in any file.\")\n",
    "}\n",
    "\n",
    "all_mismatches$File <- NULL\n",
    "all_mismatches_id <- unique(all_mismatches$ID)"
   ]
  },
  {
   "cell_type": "code",
   "execution_count": 140,
   "id": "30940a5e-0490-4beb-878a-a78e21301004",
   "metadata": {},
   "outputs": [],
   "source": [
    "# Save the final list of mismatches to CSV with the suffix -pt2-from32a2\n",
    "output_file <- \"30-OUT_multi-allele_exclude_list_pt2-from32a2.txt\"\n",
    "fwrite(as.data.table(all_mismatches_id), output_file, col.names = FALSE)"
   ]
  },
  {
   "cell_type": "code",
   "execution_count": 135,
   "id": "368f7eb7-754e-4b7f-9c96-bea8cf9025e8",
   "metadata": {},
   "outputs": [
    {
     "data": {
      "text/html": [
       "<table class=\"dataframe\">\n",
       "<caption>A data.table: 6 × 9</caption>\n",
       "<thead>\n",
       "\t<tr><th scope=col>CHR</th><th scope=col>BP</th><th scope=col>ID</th><th scope=col>A1</th><th scope=col>A2</th><th scope=col>REF</th><th scope=col>ALT</th><th scope=col>REF_libd</th><th scope=col>ALT_libd</th></tr>\n",
       "\t<tr><th scope=col>&lt;int&gt;</th><th scope=col>&lt;int&gt;</th><th scope=col>&lt;chr&gt;</th><th scope=col>&lt;chr&gt;</th><th scope=col>&lt;chr&gt;</th><th scope=col>&lt;chr&gt;</th><th scope=col>&lt;chr&gt;</th><th scope=col>&lt;chr&gt;</th><th scope=col>&lt;chr&gt;</th></tr>\n",
       "</thead>\n",
       "<tbody>\n",
       "\t<tr><td>11</td><td> 98556454</td><td>rs17132169 </td><td>G</td><td>T</td><td>G</td><td>A</td><td>G</td><td>A</td></tr>\n",
       "\t<tr><td>11</td><td> 98556454</td><td>rs17132169 </td><td>G</td><td>T</td><td>G</td><td>A</td><td>G</td><td>A</td></tr>\n",
       "\t<tr><td> 1</td><td> 22412731</td><td>rs146143599</td><td>T</td><td>C</td><td>C</td><td>G</td><td>C</td><td>G</td></tr>\n",
       "\t<tr><td> 1</td><td> 81246306</td><td>rs12035877 </td><td>A</td><td>G</td><td>C</td><td>T</td><td>C</td><td>T</td></tr>\n",
       "\t<tr><td> 5</td><td>133340061</td><td>rs6880320  </td><td>A</td><td>C</td><td>C</td><td>G</td><td>C</td><td>G</td></tr>\n",
       "\t<tr><td> 7</td><td>  6345022</td><td>rs10235108 </td><td>A</td><td>G</td><td>G</td><td>T</td><td>G</td><td>T</td></tr>\n",
       "</tbody>\n",
       "</table>\n"
      ],
      "text/latex": [
       "A data.table: 6 × 9\n",
       "\\begin{tabular}{lllllllll}\n",
       " CHR & BP & ID & A1 & A2 & REF & ALT & REF\\_libd & ALT\\_libd\\\\\n",
       " <int> & <int> & <chr> & <chr> & <chr> & <chr> & <chr> & <chr> & <chr>\\\\\n",
       "\\hline\n",
       "\t 11 &  98556454 & rs17132169  & G & T & G & A & G & A\\\\\n",
       "\t 11 &  98556454 & rs17132169  & G & T & G & A & G & A\\\\\n",
       "\t  1 &  22412731 & rs146143599 & T & C & C & G & C & G\\\\\n",
       "\t  1 &  81246306 & rs12035877  & A & G & C & T & C & T\\\\\n",
       "\t  5 & 133340061 & rs6880320   & A & C & C & G & C & G\\\\\n",
       "\t  7 &   6345022 & rs10235108  & A & G & G & T & G & T\\\\\n",
       "\\end{tabular}\n"
      ],
      "text/markdown": [
       "\n",
       "A data.table: 6 × 9\n",
       "\n",
       "| CHR &lt;int&gt; | BP &lt;int&gt; | ID &lt;chr&gt; | A1 &lt;chr&gt; | A2 &lt;chr&gt; | REF &lt;chr&gt; | ALT &lt;chr&gt; | REF_libd &lt;chr&gt; | ALT_libd &lt;chr&gt; |\n",
       "|---|---|---|---|---|---|---|---|---|\n",
       "| 11 |  98556454 | rs17132169  | G | T | G | A | G | A |\n",
       "| 11 |  98556454 | rs17132169  | G | T | G | A | G | A |\n",
       "|  1 |  22412731 | rs146143599 | T | C | C | G | C | G |\n",
       "|  1 |  81246306 | rs12035877  | A | G | C | T | C | T |\n",
       "|  5 | 133340061 | rs6880320   | A | C | C | G | C | G |\n",
       "|  7 |   6345022 | rs10235108  | A | G | G | T | G | T |\n",
       "\n"
      ],
      "text/plain": [
       "  CHR BP        ID          A1 A2 REF ALT REF_libd ALT_libd\n",
       "1 11   98556454 rs17132169  G  T  G   A   G        A       \n",
       "2 11   98556454 rs17132169  G  T  G   A   G        A       \n",
       "3  1   22412731 rs146143599 T  C  C   G   C        G       \n",
       "4  1   81246306 rs12035877  A  G  C   T   C        T       \n",
       "5  5  133340061 rs6880320   A  C  C   G   C        G       \n",
       "6  7    6345022 rs10235108  A  G  G   T   G        T       "
      ]
     },
     "metadata": {},
     "output_type": "display_data"
    }
   ],
   "source": [
    "head(all_mismatches)"
   ]
  },
  {
   "cell_type": "code",
   "execution_count": 137,
   "id": "ee85d27f-2bcc-4be7-b781-4849559aef64",
   "metadata": {},
   "outputs": [
    {
     "data": {
      "text/html": [
       "<style>\n",
       ".list-inline {list-style: none; margin:0; padding: 0}\n",
       ".list-inline>li {display: inline-block}\n",
       ".list-inline>li:not(:last-child)::after {content: \"\\00b7\"; padding: 0 .5ex}\n",
       "</style>\n",
       "<ol class=list-inline><li>'rs17132169'</li><li>'rs146143599'</li><li>'rs12035877'</li><li>'rs6880320'</li><li>'rs10235108'</li><li>'rs73201301'</li></ol>\n"
      ],
      "text/latex": [
       "\\begin{enumerate*}\n",
       "\\item 'rs17132169'\n",
       "\\item 'rs146143599'\n",
       "\\item 'rs12035877'\n",
       "\\item 'rs6880320'\n",
       "\\item 'rs10235108'\n",
       "\\item 'rs73201301'\n",
       "\\end{enumerate*}\n"
      ],
      "text/markdown": [
       "1. 'rs17132169'\n",
       "2. 'rs146143599'\n",
       "3. 'rs12035877'\n",
       "4. 'rs6880320'\n",
       "5. 'rs10235108'\n",
       "6. 'rs73201301'\n",
       "\n",
       "\n"
      ],
      "text/plain": [
       "[1] \"rs17132169\"  \"rs146143599\" \"rs12035877\"  \"rs6880320\"   \"rs10235108\" \n",
       "[6] \"rs73201301\" "
      ]
     },
     "metadata": {},
     "output_type": "display_data"
    }
   ],
   "source": [
    "head(all_mismatches_id)"
   ]
  },
  {
   "cell_type": "code",
   "execution_count": 138,
   "id": "34d2c82b-1f5c-45f5-b1c4-0e471755ea98",
   "metadata": {},
   "outputs": [
    {
     "data": {
      "text/html": [
       "10"
      ],
      "text/latex": [
       "10"
      ],
      "text/markdown": [
       "10"
      ],
      "text/plain": [
       "[1] 10"
      ]
     },
     "metadata": {},
     "output_type": "display_data"
    }
   ],
   "source": [
    "length(all_mismatches_id)"
   ]
  },
  {
   "cell_type": "code",
   "execution_count": 139,
   "id": "a659679c-0dd4-4c63-91f7-fc52c1720cc1",
   "metadata": {},
   "outputs": [
    {
     "data": {
      "text/html": [
       "<table class=\"dataframe\">\n",
       "<caption>A data.table: 20 × 9</caption>\n",
       "<thead>\n",
       "\t<tr><th scope=col>CHR</th><th scope=col>BP</th><th scope=col>ID</th><th scope=col>A1</th><th scope=col>A2</th><th scope=col>REF</th><th scope=col>ALT</th><th scope=col>REF_libd</th><th scope=col>ALT_libd</th></tr>\n",
       "\t<tr><th scope=col>&lt;int&gt;</th><th scope=col>&lt;int&gt;</th><th scope=col>&lt;chr&gt;</th><th scope=col>&lt;chr&gt;</th><th scope=col>&lt;chr&gt;</th><th scope=col>&lt;chr&gt;</th><th scope=col>&lt;chr&gt;</th><th scope=col>&lt;chr&gt;</th><th scope=col>&lt;chr&gt;</th></tr>\n",
       "</thead>\n",
       "<tbody>\n",
       "\t<tr><td>11</td><td> 98556454</td><td>rs17132169 </td><td>G</td><td>T</td><td>G</td><td>A</td><td>G</td><td>A</td></tr>\n",
       "\t<tr><td>11</td><td> 98556454</td><td>rs17132169 </td><td>G</td><td>T</td><td>G</td><td>A</td><td>G</td><td>A</td></tr>\n",
       "\t<tr><td> 1</td><td> 22412731</td><td>rs146143599</td><td>T</td><td>C</td><td>C</td><td>G</td><td>C</td><td>G</td></tr>\n",
       "\t<tr><td> 1</td><td> 81246306</td><td>rs12035877 </td><td>A</td><td>G</td><td>C</td><td>T</td><td>C</td><td>T</td></tr>\n",
       "\t<tr><td> 5</td><td>133340061</td><td>rs6880320  </td><td>A</td><td>C</td><td>C</td><td>G</td><td>C</td><td>G</td></tr>\n",
       "\t<tr><td> 7</td><td>  6345022</td><td>rs10235108 </td><td>A</td><td>G</td><td>G</td><td>T</td><td>G</td><td>T</td></tr>\n",
       "\t<tr><td> 8</td><td> 14944930</td><td>rs73201301 </td><td>C</td><td>G</td><td>C</td><td>T</td><td>C</td><td>T</td></tr>\n",
       "\t<tr><td> 9</td><td>  6135696</td><td>rs2094756  </td><td>A</td><td>C</td><td>A</td><td>T</td><td>A</td><td>T</td></tr>\n",
       "\t<tr><td> 9</td><td>110277556</td><td>rs10816958 </td><td>A</td><td>C</td><td>A</td><td>T</td><td>A</td><td>T</td></tr>\n",
       "\t<tr><td>14</td><td> 74942064</td><td>rs1042886  </td><td>C</td><td>G</td><td>G</td><td>T</td><td>G</td><td>T</td></tr>\n",
       "\t<tr><td>20</td><td> 21719493</td><td>rs6113330  </td><td>T</td><td>C</td><td>T</td><td>G</td><td>T</td><td>G</td></tr>\n",
       "\t<tr><td> 1</td><td> 22412731</td><td>rs146143599</td><td>T</td><td>C</td><td>C</td><td>G</td><td>C</td><td>G</td></tr>\n",
       "\t<tr><td> 1</td><td> 81246306</td><td>rs12035877 </td><td>A</td><td>G</td><td>C</td><td>T</td><td>C</td><td>T</td></tr>\n",
       "\t<tr><td> 5</td><td>133340061</td><td>rs6880320  </td><td>A</td><td>C</td><td>C</td><td>G</td><td>C</td><td>G</td></tr>\n",
       "\t<tr><td> 7</td><td>  6345022</td><td>rs10235108 </td><td>G</td><td>A</td><td>G</td><td>T</td><td>G</td><td>T</td></tr>\n",
       "\t<tr><td> 8</td><td> 14944930</td><td>rs73201301 </td><td>C</td><td>G</td><td>C</td><td>T</td><td>C</td><td>T</td></tr>\n",
       "\t<tr><td> 9</td><td>  6135696</td><td>rs2094756  </td><td>A</td><td>C</td><td>A</td><td>T</td><td>A</td><td>T</td></tr>\n",
       "\t<tr><td> 9</td><td>110277556</td><td>rs10816958 </td><td>A</td><td>C</td><td>A</td><td>T</td><td>A</td><td>T</td></tr>\n",
       "\t<tr><td>14</td><td> 74942064</td><td>rs1042886  </td><td>C</td><td>G</td><td>G</td><td>T</td><td>G</td><td>T</td></tr>\n",
       "\t<tr><td>20</td><td> 21719493</td><td>rs6113330  </td><td>T</td><td>C</td><td>T</td><td>G</td><td>T</td><td>G</td></tr>\n",
       "</tbody>\n",
       "</table>\n"
      ],
      "text/latex": [
       "A data.table: 20 × 9\n",
       "\\begin{tabular}{lllllllll}\n",
       " CHR & BP & ID & A1 & A2 & REF & ALT & REF\\_libd & ALT\\_libd\\\\\n",
       " <int> & <int> & <chr> & <chr> & <chr> & <chr> & <chr> & <chr> & <chr>\\\\\n",
       "\\hline\n",
       "\t 11 &  98556454 & rs17132169  & G & T & G & A & G & A\\\\\n",
       "\t 11 &  98556454 & rs17132169  & G & T & G & A & G & A\\\\\n",
       "\t  1 &  22412731 & rs146143599 & T & C & C & G & C & G\\\\\n",
       "\t  1 &  81246306 & rs12035877  & A & G & C & T & C & T\\\\\n",
       "\t  5 & 133340061 & rs6880320   & A & C & C & G & C & G\\\\\n",
       "\t  7 &   6345022 & rs10235108  & A & G & G & T & G & T\\\\\n",
       "\t  8 &  14944930 & rs73201301  & C & G & C & T & C & T\\\\\n",
       "\t  9 &   6135696 & rs2094756   & A & C & A & T & A & T\\\\\n",
       "\t  9 & 110277556 & rs10816958  & A & C & A & T & A & T\\\\\n",
       "\t 14 &  74942064 & rs1042886   & C & G & G & T & G & T\\\\\n",
       "\t 20 &  21719493 & rs6113330   & T & C & T & G & T & G\\\\\n",
       "\t  1 &  22412731 & rs146143599 & T & C & C & G & C & G\\\\\n",
       "\t  1 &  81246306 & rs12035877  & A & G & C & T & C & T\\\\\n",
       "\t  5 & 133340061 & rs6880320   & A & C & C & G & C & G\\\\\n",
       "\t  7 &   6345022 & rs10235108  & G & A & G & T & G & T\\\\\n",
       "\t  8 &  14944930 & rs73201301  & C & G & C & T & C & T\\\\\n",
       "\t  9 &   6135696 & rs2094756   & A & C & A & T & A & T\\\\\n",
       "\t  9 & 110277556 & rs10816958  & A & C & A & T & A & T\\\\\n",
       "\t 14 &  74942064 & rs1042886   & C & G & G & T & G & T\\\\\n",
       "\t 20 &  21719493 & rs6113330   & T & C & T & G & T & G\\\\\n",
       "\\end{tabular}\n"
      ],
      "text/markdown": [
       "\n",
       "A data.table: 20 × 9\n",
       "\n",
       "| CHR &lt;int&gt; | BP &lt;int&gt; | ID &lt;chr&gt; | A1 &lt;chr&gt; | A2 &lt;chr&gt; | REF &lt;chr&gt; | ALT &lt;chr&gt; | REF_libd &lt;chr&gt; | ALT_libd &lt;chr&gt; |\n",
       "|---|---|---|---|---|---|---|---|---|\n",
       "| 11 |  98556454 | rs17132169  | G | T | G | A | G | A |\n",
       "| 11 |  98556454 | rs17132169  | G | T | G | A | G | A |\n",
       "|  1 |  22412731 | rs146143599 | T | C | C | G | C | G |\n",
       "|  1 |  81246306 | rs12035877  | A | G | C | T | C | T |\n",
       "|  5 | 133340061 | rs6880320   | A | C | C | G | C | G |\n",
       "|  7 |   6345022 | rs10235108  | A | G | G | T | G | T |\n",
       "|  8 |  14944930 | rs73201301  | C | G | C | T | C | T |\n",
       "|  9 |   6135696 | rs2094756   | A | C | A | T | A | T |\n",
       "|  9 | 110277556 | rs10816958  | A | C | A | T | A | T |\n",
       "| 14 |  74942064 | rs1042886   | C | G | G | T | G | T |\n",
       "| 20 |  21719493 | rs6113330   | T | C | T | G | T | G |\n",
       "|  1 |  22412731 | rs146143599 | T | C | C | G | C | G |\n",
       "|  1 |  81246306 | rs12035877  | A | G | C | T | C | T |\n",
       "|  5 | 133340061 | rs6880320   | A | C | C | G | C | G |\n",
       "|  7 |   6345022 | rs10235108  | G | A | G | T | G | T |\n",
       "|  8 |  14944930 | rs73201301  | C | G | C | T | C | T |\n",
       "|  9 |   6135696 | rs2094756   | A | C | A | T | A | T |\n",
       "|  9 | 110277556 | rs10816958  | A | C | A | T | A | T |\n",
       "| 14 |  74942064 | rs1042886   | C | G | G | T | G | T |\n",
       "| 20 |  21719493 | rs6113330   | T | C | T | G | T | G |\n",
       "\n"
      ],
      "text/plain": [
       "   CHR BP        ID          A1 A2 REF ALT REF_libd ALT_libd\n",
       "1  11   98556454 rs17132169  G  T  G   A   G        A       \n",
       "2  11   98556454 rs17132169  G  T  G   A   G        A       \n",
       "3   1   22412731 rs146143599 T  C  C   G   C        G       \n",
       "4   1   81246306 rs12035877  A  G  C   T   C        T       \n",
       "5   5  133340061 rs6880320   A  C  C   G   C        G       \n",
       "6   7    6345022 rs10235108  A  G  G   T   G        T       \n",
       "7   8   14944930 rs73201301  C  G  C   T   C        T       \n",
       "8   9    6135696 rs2094756   A  C  A   T   A        T       \n",
       "9   9  110277556 rs10816958  A  C  A   T   A        T       \n",
       "10 14   74942064 rs1042886   C  G  G   T   G        T       \n",
       "11 20   21719493 rs6113330   T  C  T   G   T        G       \n",
       "12  1   22412731 rs146143599 T  C  C   G   C        G       \n",
       "13  1   81246306 rs12035877  A  G  C   T   C        T       \n",
       "14  5  133340061 rs6880320   A  C  C   G   C        G       \n",
       "15  7    6345022 rs10235108  G  A  G   T   G        T       \n",
       "16  8   14944930 rs73201301  C  G  C   T   C        T       \n",
       "17  9    6135696 rs2094756   A  C  A   T   A        T       \n",
       "18  9  110277556 rs10816958  A  C  A   T   A        T       \n",
       "19 14   74942064 rs1042886   C  G  G   T   G        T       \n",
       "20 20   21719493 rs6113330   T  C  T   G   T        G       "
      ]
     },
     "metadata": {},
     "output_type": "display_data"
    }
   ],
   "source": [
    "all_mismatches"
   ]
  },
  {
   "cell_type": "code",
   "execution_count": 136,
   "id": "37dd68e9-462e-48d3-a22b-7c4f1a67c80a",
   "metadata": {},
   "outputs": [
    {
     "name": "stdout",
     "output_type": "stream",
     "text": [
      "[1] \"test\"\n"
     ]
    }
   ],
   "source": [
    "print(\"test\")"
   ]
  },
  {
   "cell_type": "code",
   "execution_count": 144,
   "id": "40730e67-c70a-494f-8409-7c07761374e7",
   "metadata": {},
   "outputs": [],
   "source": [
    "chr <- 7"
   ]
  },
  {
   "cell_type": "code",
   "execution_count": 145,
   "id": "a05de14b-46e8-4acf-8fbb-b995e4ef44cb",
   "metadata": {},
   "outputs": [],
   "source": [
    "# Merge with reference data by CHR and BP\n",
    "merged_ref <- merge(summary_stats, ref, by = c(\"CHR\", \"BP\"), suffixes = c(\"\", \"_ref\"))\n",
    "\n",
    "# Count mismatches in allele orders for ref\n",
    "mismatch_count_ref <- merged_ref[\n",
    "    !((A1 == REF & A2 == ALT) | (A1 == ALT & A2 == REF)),\n",
    "    .N\n",
    "]"
   ]
  },
  {
   "cell_type": "code",
   "execution_count": 147,
   "id": "b9cc9299-e2bd-4605-990c-530856ec9d8d",
   "metadata": {},
   "outputs": [],
   "source": [
    "ref <- fread(paste0(\"/expanse/lustre/projects/jhu152/naglemi/mwas/gwas_flipped/ref_EUR_allele-match-libd_chr\", chr, \".pvar\"),\n",
    "             select = c(\"#CHROM\", \"POS\", \"REF\", \"ALT\"),\n",
    "             col.names = c(\"CHR\", \"BP\", \"REF\", \"ALT\"))"
   ]
  },
  {
   "cell_type": "code",
   "execution_count": 148,
   "id": "2992a036-cf0c-46c1-8e72-6c3ae5d0fa3b",
   "metadata": {},
   "outputs": [
    {
     "data": {
      "text/html": [
       "<table class=\"dataframe\">\n",
       "<caption>A data.table: 6 × 24</caption>\n",
       "<thead>\n",
       "\t<tr><th scope=col>CHR</th><th scope=col>BP</th><th scope=col>SNP</th><th scope=col>A1</th><th scope=col>A2</th><th scope=col>FRQ_A_53386</th><th scope=col>FRQ_U_77258</th><th scope=col>INFO</th><th scope=col>OR</th><th scope=col>SE</th><th scope=col>⋯</th><th scope=col>HetDf</th><th scope=col>HetPVa</th><th scope=col>Nca</th><th scope=col>Nco</th><th scope=col>Neff</th><th scope=col>logOR</th><th scope=col>Z</th><th scope=col>REF</th><th scope=col>ALT</th><th scope=col>ID</th></tr>\n",
       "\t<tr><th scope=col>&lt;int&gt;</th><th scope=col>&lt;int&gt;</th><th scope=col>&lt;chr&gt;</th><th scope=col>&lt;chr&gt;</th><th scope=col>&lt;chr&gt;</th><th scope=col>&lt;dbl&gt;</th><th scope=col>&lt;dbl&gt;</th><th scope=col>&lt;dbl&gt;</th><th scope=col>&lt;dbl&gt;</th><th scope=col>&lt;dbl&gt;</th><th scope=col>⋯</th><th scope=col>&lt;int&gt;</th><th scope=col>&lt;dbl&gt;</th><th scope=col>&lt;int&gt;</th><th scope=col>&lt;int&gt;</th><th scope=col>&lt;dbl&gt;</th><th scope=col>&lt;dbl&gt;</th><th scope=col>&lt;dbl&gt;</th><th scope=col>&lt;chr&gt;</th><th scope=col>&lt;chr&gt;</th><th scope=col>&lt;chr&gt;</th></tr>\n",
       "</thead>\n",
       "<tbody>\n",
       "\t<tr><td>22</td><td>16613859</td><td>rs2096537 </td><td>A</td><td>C</td><td>0.143</td><td>0.142</td><td>0.879</td><td>0.99561</td><td>0.0131</td><td>⋯</td><td>75</td><td>0.5543</td><td>53386</td><td>77258</td><td>58749.13</td><td>-0.004399664</td><td>-0.3358522</td><td>A</td><td>C</td><td>rs2096537 </td></tr>\n",
       "\t<tr><td>22</td><td>16615974</td><td>rs16984366</td><td>T</td><td>C</td><td>0.730</td><td>0.732</td><td>0.903</td><td>0.99134</td><td>0.0102</td><td>⋯</td><td>75</td><td>0.1832</td><td>53386</td><td>77258</td><td>58749.13</td><td>-0.008697716</td><td>-0.8527172</td><td>T</td><td>C</td><td>rs16984366</td></tr>\n",
       "\t<tr><td>22</td><td>16618572</td><td>rs8141034 </td><td>C</td><td>G</td><td>0.730</td><td>0.732</td><td>0.905</td><td>0.99154</td><td>0.0102</td><td>⋯</td><td>75</td><td>0.1725</td><td>53386</td><td>77258</td><td>58749.13</td><td>-0.008495989</td><td>-0.8329401</td><td>C</td><td>G</td><td>rs8141034 </td></tr>\n",
       "\t<tr><td>22</td><td>16623479</td><td>rs9606012 </td><td>T</td><td>C</td><td>0.678</td><td>0.681</td><td>0.880</td><td>0.99362</td><td>0.0099</td><td>⋯</td><td>75</td><td>0.5945</td><td>53386</td><td>77258</td><td>58749.13</td><td>-0.006400439</td><td>-0.6465090</td><td>T</td><td>C</td><td>rs9606012 </td></tr>\n",
       "\t<tr><td>22</td><td>16624111</td><td>rs8137722 </td><td>T</td><td>G</td><td>0.679</td><td>0.681</td><td>0.881</td><td>0.99372</td><td>0.0099</td><td>⋯</td><td>75</td><td>0.5994</td><td>53386</td><td>77258</td><td>58749.13</td><td>-0.006299802</td><td>-0.6363437</td><td>T</td><td>G</td><td>rs8137722 </td></tr>\n",
       "\t<tr><td>22</td><td>16624607</td><td>rs11703045</td><td>C</td><td>T</td><td>0.730</td><td>0.732</td><td>0.905</td><td>0.99144</td><td>0.0102</td><td>⋯</td><td>75</td><td>0.1811</td><td>53386</td><td>77258</td><td>58749.13</td><td>-0.008596847</td><td>-0.8428282</td><td>C</td><td>T</td><td>rs11703045</td></tr>\n",
       "</tbody>\n",
       "</table>\n"
      ],
      "text/latex": [
       "A data.table: 6 × 24\n",
       "\\begin{tabular}{lllllllllllllllllllll}\n",
       " CHR & BP & SNP & A1 & A2 & FRQ\\_A\\_53386 & FRQ\\_U\\_77258 & INFO & OR & SE & ⋯ & HetDf & HetPVa & Nca & Nco & Neff & logOR & Z & REF & ALT & ID\\\\\n",
       " <int> & <int> & <chr> & <chr> & <chr> & <dbl> & <dbl> & <dbl> & <dbl> & <dbl> & ⋯ & <int> & <dbl> & <int> & <int> & <dbl> & <dbl> & <dbl> & <chr> & <chr> & <chr>\\\\\n",
       "\\hline\n",
       "\t 22 & 16613859 & rs2096537  & A & C & 0.143 & 0.142 & 0.879 & 0.99561 & 0.0131 & ⋯ & 75 & 0.5543 & 53386 & 77258 & 58749.13 & -0.004399664 & -0.3358522 & A & C & rs2096537 \\\\\n",
       "\t 22 & 16615974 & rs16984366 & T & C & 0.730 & 0.732 & 0.903 & 0.99134 & 0.0102 & ⋯ & 75 & 0.1832 & 53386 & 77258 & 58749.13 & -0.008697716 & -0.8527172 & T & C & rs16984366\\\\\n",
       "\t 22 & 16618572 & rs8141034  & C & G & 0.730 & 0.732 & 0.905 & 0.99154 & 0.0102 & ⋯ & 75 & 0.1725 & 53386 & 77258 & 58749.13 & -0.008495989 & -0.8329401 & C & G & rs8141034 \\\\\n",
       "\t 22 & 16623479 & rs9606012  & T & C & 0.678 & 0.681 & 0.880 & 0.99362 & 0.0099 & ⋯ & 75 & 0.5945 & 53386 & 77258 & 58749.13 & -0.006400439 & -0.6465090 & T & C & rs9606012 \\\\\n",
       "\t 22 & 16624111 & rs8137722  & T & G & 0.679 & 0.681 & 0.881 & 0.99372 & 0.0099 & ⋯ & 75 & 0.5994 & 53386 & 77258 & 58749.13 & -0.006299802 & -0.6363437 & T & G & rs8137722 \\\\\n",
       "\t 22 & 16624607 & rs11703045 & C & T & 0.730 & 0.732 & 0.905 & 0.99144 & 0.0102 & ⋯ & 75 & 0.1811 & 53386 & 77258 & 58749.13 & -0.008596847 & -0.8428282 & C & T & rs11703045\\\\\n",
       "\\end{tabular}\n"
      ],
      "text/markdown": [
       "\n",
       "A data.table: 6 × 24\n",
       "\n",
       "| CHR &lt;int&gt; | BP &lt;int&gt; | SNP &lt;chr&gt; | A1 &lt;chr&gt; | A2 &lt;chr&gt; | FRQ_A_53386 &lt;dbl&gt; | FRQ_U_77258 &lt;dbl&gt; | INFO &lt;dbl&gt; | OR &lt;dbl&gt; | SE &lt;dbl&gt; | ⋯ ⋯ | HetDf &lt;int&gt; | HetPVa &lt;dbl&gt; | Nca &lt;int&gt; | Nco &lt;int&gt; | Neff &lt;dbl&gt; | logOR &lt;dbl&gt; | Z &lt;dbl&gt; | REF &lt;chr&gt; | ALT &lt;chr&gt; | ID &lt;chr&gt; |\n",
       "|---|---|---|---|---|---|---|---|---|---|---|---|---|---|---|---|---|---|---|---|---|\n",
       "| 22 | 16613859 | rs2096537  | A | C | 0.143 | 0.142 | 0.879 | 0.99561 | 0.0131 | ⋯ | 75 | 0.5543 | 53386 | 77258 | 58749.13 | -0.004399664 | -0.3358522 | A | C | rs2096537  |\n",
       "| 22 | 16615974 | rs16984366 | T | C | 0.730 | 0.732 | 0.903 | 0.99134 | 0.0102 | ⋯ | 75 | 0.1832 | 53386 | 77258 | 58749.13 | -0.008697716 | -0.8527172 | T | C | rs16984366 |\n",
       "| 22 | 16618572 | rs8141034  | C | G | 0.730 | 0.732 | 0.905 | 0.99154 | 0.0102 | ⋯ | 75 | 0.1725 | 53386 | 77258 | 58749.13 | -0.008495989 | -0.8329401 | C | G | rs8141034  |\n",
       "| 22 | 16623479 | rs9606012  | T | C | 0.678 | 0.681 | 0.880 | 0.99362 | 0.0099 | ⋯ | 75 | 0.5945 | 53386 | 77258 | 58749.13 | -0.006400439 | -0.6465090 | T | C | rs9606012  |\n",
       "| 22 | 16624111 | rs8137722  | T | G | 0.679 | 0.681 | 0.881 | 0.99372 | 0.0099 | ⋯ | 75 | 0.5994 | 53386 | 77258 | 58749.13 | -0.006299802 | -0.6363437 | T | G | rs8137722  |\n",
       "| 22 | 16624607 | rs11703045 | C | T | 0.730 | 0.732 | 0.905 | 0.99144 | 0.0102 | ⋯ | 75 | 0.1811 | 53386 | 77258 | 58749.13 | -0.008596847 | -0.8428282 | C | T | rs11703045 |\n",
       "\n"
      ],
      "text/plain": [
       "  CHR BP       SNP        A1 A2 FRQ_A_53386 FRQ_U_77258 INFO  OR      SE     ⋯\n",
       "1 22  16613859 rs2096537  A  C  0.143       0.142       0.879 0.99561 0.0131 ⋯\n",
       "2 22  16615974 rs16984366 T  C  0.730       0.732       0.903 0.99134 0.0102 ⋯\n",
       "3 22  16618572 rs8141034  C  G  0.730       0.732       0.905 0.99154 0.0102 ⋯\n",
       "4 22  16623479 rs9606012  T  C  0.678       0.681       0.880 0.99362 0.0099 ⋯\n",
       "5 22  16624111 rs8137722  T  G  0.679       0.681       0.881 0.99372 0.0099 ⋯\n",
       "6 22  16624607 rs11703045 C  T  0.730       0.732       0.905 0.99144 0.0102 ⋯\n",
       "  HetDf HetPVa Nca   Nco   Neff     logOR        Z          REF ALT ID        \n",
       "1 75    0.5543 53386 77258 58749.13 -0.004399664 -0.3358522 A   C   rs2096537 \n",
       "2 75    0.1832 53386 77258 58749.13 -0.008697716 -0.8527172 T   C   rs16984366\n",
       "3 75    0.1725 53386 77258 58749.13 -0.008495989 -0.8329401 C   G   rs8141034 \n",
       "4 75    0.5945 53386 77258 58749.13 -0.006400439 -0.6465090 T   C   rs9606012 \n",
       "5 75    0.5994 53386 77258 58749.13 -0.006299802 -0.6363437 T   G   rs8137722 \n",
       "6 75    0.1811 53386 77258 58749.13 -0.008596847 -0.8428282 C   T   rs11703045"
      ]
     },
     "metadata": {},
     "output_type": "display_data"
    }
   ],
   "source": [
    "head(merged_ref)"
   ]
  },
  {
   "cell_type": "code",
   "execution_count": 150,
   "id": "ffa5a113-d788-4634-b7ca-15f596c86314",
   "metadata": {},
   "outputs": [
    {
     "data": {
      "text/html": [
       "<table class=\"dataframe\">\n",
       "<caption>A data.table: 6 × 24</caption>\n",
       "<thead>\n",
       "\t<tr><th scope=col>CHR</th><th scope=col>BP</th><th scope=col>SNP</th><th scope=col>A1</th><th scope=col>A2</th><th scope=col>FRQ_A_53386</th><th scope=col>FRQ_U_77258</th><th scope=col>INFO</th><th scope=col>OR</th><th scope=col>SE</th><th scope=col>⋯</th><th scope=col>HetDf</th><th scope=col>HetPVa</th><th scope=col>Nca</th><th scope=col>Nco</th><th scope=col>Neff</th><th scope=col>logOR</th><th scope=col>Z</th><th scope=col>REF</th><th scope=col>ALT</th><th scope=col>ID</th></tr>\n",
       "\t<tr><th scope=col>&lt;int&gt;</th><th scope=col>&lt;int&gt;</th><th scope=col>&lt;chr&gt;</th><th scope=col>&lt;chr&gt;</th><th scope=col>&lt;chr&gt;</th><th scope=col>&lt;dbl&gt;</th><th scope=col>&lt;dbl&gt;</th><th scope=col>&lt;dbl&gt;</th><th scope=col>&lt;dbl&gt;</th><th scope=col>&lt;dbl&gt;</th><th scope=col>⋯</th><th scope=col>&lt;int&gt;</th><th scope=col>&lt;dbl&gt;</th><th scope=col>&lt;int&gt;</th><th scope=col>&lt;int&gt;</th><th scope=col>&lt;dbl&gt;</th><th scope=col>&lt;dbl&gt;</th><th scope=col>&lt;dbl&gt;</th><th scope=col>&lt;chr&gt;</th><th scope=col>&lt;chr&gt;</th><th scope=col>&lt;chr&gt;</th></tr>\n",
       "</thead>\n",
       "<tbody>\n",
       "\t<tr><td>22</td><td>16613859</td><td>rs2096537 </td><td>A</td><td>C</td><td>0.143</td><td>0.142</td><td>0.879</td><td>0.99561</td><td>0.0131</td><td>⋯</td><td>75</td><td>0.5543</td><td>53386</td><td>77258</td><td>58749.13</td><td>-0.004399664</td><td>-0.3358522</td><td>A</td><td>C</td><td>rs2096537 </td></tr>\n",
       "\t<tr><td>22</td><td>16615974</td><td>rs16984366</td><td>T</td><td>C</td><td>0.730</td><td>0.732</td><td>0.903</td><td>0.99134</td><td>0.0102</td><td>⋯</td><td>75</td><td>0.1832</td><td>53386</td><td>77258</td><td>58749.13</td><td>-0.008697716</td><td>-0.8527172</td><td>T</td><td>C</td><td>rs16984366</td></tr>\n",
       "\t<tr><td>22</td><td>16618572</td><td>rs8141034 </td><td>C</td><td>G</td><td>0.730</td><td>0.732</td><td>0.905</td><td>0.99154</td><td>0.0102</td><td>⋯</td><td>75</td><td>0.1725</td><td>53386</td><td>77258</td><td>58749.13</td><td>-0.008495989</td><td>-0.8329401</td><td>C</td><td>G</td><td>rs8141034 </td></tr>\n",
       "\t<tr><td>22</td><td>16623479</td><td>rs9606012 </td><td>T</td><td>C</td><td>0.678</td><td>0.681</td><td>0.880</td><td>0.99362</td><td>0.0099</td><td>⋯</td><td>75</td><td>0.5945</td><td>53386</td><td>77258</td><td>58749.13</td><td>-0.006400439</td><td>-0.6465090</td><td>T</td><td>C</td><td>rs9606012 </td></tr>\n",
       "\t<tr><td>22</td><td>16624111</td><td>rs8137722 </td><td>T</td><td>G</td><td>0.679</td><td>0.681</td><td>0.881</td><td>0.99372</td><td>0.0099</td><td>⋯</td><td>75</td><td>0.5994</td><td>53386</td><td>77258</td><td>58749.13</td><td>-0.006299802</td><td>-0.6363437</td><td>T</td><td>G</td><td>rs8137722 </td></tr>\n",
       "\t<tr><td>22</td><td>16624607</td><td>rs11703045</td><td>C</td><td>T</td><td>0.730</td><td>0.732</td><td>0.905</td><td>0.99144</td><td>0.0102</td><td>⋯</td><td>75</td><td>0.1811</td><td>53386</td><td>77258</td><td>58749.13</td><td>-0.008596847</td><td>-0.8428282</td><td>C</td><td>T</td><td>rs11703045</td></tr>\n",
       "</tbody>\n",
       "</table>\n"
      ],
      "text/latex": [
       "A data.table: 6 × 24\n",
       "\\begin{tabular}{lllllllllllllllllllll}\n",
       " CHR & BP & SNP & A1 & A2 & FRQ\\_A\\_53386 & FRQ\\_U\\_77258 & INFO & OR & SE & ⋯ & HetDf & HetPVa & Nca & Nco & Neff & logOR & Z & REF & ALT & ID\\\\\n",
       " <int> & <int> & <chr> & <chr> & <chr> & <dbl> & <dbl> & <dbl> & <dbl> & <dbl> & ⋯ & <int> & <dbl> & <int> & <int> & <dbl> & <dbl> & <dbl> & <chr> & <chr> & <chr>\\\\\n",
       "\\hline\n",
       "\t 22 & 16613859 & rs2096537  & A & C & 0.143 & 0.142 & 0.879 & 0.99561 & 0.0131 & ⋯ & 75 & 0.5543 & 53386 & 77258 & 58749.13 & -0.004399664 & -0.3358522 & A & C & rs2096537 \\\\\n",
       "\t 22 & 16615974 & rs16984366 & T & C & 0.730 & 0.732 & 0.903 & 0.99134 & 0.0102 & ⋯ & 75 & 0.1832 & 53386 & 77258 & 58749.13 & -0.008697716 & -0.8527172 & T & C & rs16984366\\\\\n",
       "\t 22 & 16618572 & rs8141034  & C & G & 0.730 & 0.732 & 0.905 & 0.99154 & 0.0102 & ⋯ & 75 & 0.1725 & 53386 & 77258 & 58749.13 & -0.008495989 & -0.8329401 & C & G & rs8141034 \\\\\n",
       "\t 22 & 16623479 & rs9606012  & T & C & 0.678 & 0.681 & 0.880 & 0.99362 & 0.0099 & ⋯ & 75 & 0.5945 & 53386 & 77258 & 58749.13 & -0.006400439 & -0.6465090 & T & C & rs9606012 \\\\\n",
       "\t 22 & 16624111 & rs8137722  & T & G & 0.679 & 0.681 & 0.881 & 0.99372 & 0.0099 & ⋯ & 75 & 0.5994 & 53386 & 77258 & 58749.13 & -0.006299802 & -0.6363437 & T & G & rs8137722 \\\\\n",
       "\t 22 & 16624607 & rs11703045 & C & T & 0.730 & 0.732 & 0.905 & 0.99144 & 0.0102 & ⋯ & 75 & 0.1811 & 53386 & 77258 & 58749.13 & -0.008596847 & -0.8428282 & C & T & rs11703045\\\\\n",
       "\\end{tabular}\n"
      ],
      "text/markdown": [
       "\n",
       "A data.table: 6 × 24\n",
       "\n",
       "| CHR &lt;int&gt; | BP &lt;int&gt; | SNP &lt;chr&gt; | A1 &lt;chr&gt; | A2 &lt;chr&gt; | FRQ_A_53386 &lt;dbl&gt; | FRQ_U_77258 &lt;dbl&gt; | INFO &lt;dbl&gt; | OR &lt;dbl&gt; | SE &lt;dbl&gt; | ⋯ ⋯ | HetDf &lt;int&gt; | HetPVa &lt;dbl&gt; | Nca &lt;int&gt; | Nco &lt;int&gt; | Neff &lt;dbl&gt; | logOR &lt;dbl&gt; | Z &lt;dbl&gt; | REF &lt;chr&gt; | ALT &lt;chr&gt; | ID &lt;chr&gt; |\n",
       "|---|---|---|---|---|---|---|---|---|---|---|---|---|---|---|---|---|---|---|---|---|\n",
       "| 22 | 16613859 | rs2096537  | A | C | 0.143 | 0.142 | 0.879 | 0.99561 | 0.0131 | ⋯ | 75 | 0.5543 | 53386 | 77258 | 58749.13 | -0.004399664 | -0.3358522 | A | C | rs2096537  |\n",
       "| 22 | 16615974 | rs16984366 | T | C | 0.730 | 0.732 | 0.903 | 0.99134 | 0.0102 | ⋯ | 75 | 0.1832 | 53386 | 77258 | 58749.13 | -0.008697716 | -0.8527172 | T | C | rs16984366 |\n",
       "| 22 | 16618572 | rs8141034  | C | G | 0.730 | 0.732 | 0.905 | 0.99154 | 0.0102 | ⋯ | 75 | 0.1725 | 53386 | 77258 | 58749.13 | -0.008495989 | -0.8329401 | C | G | rs8141034  |\n",
       "| 22 | 16623479 | rs9606012  | T | C | 0.678 | 0.681 | 0.880 | 0.99362 | 0.0099 | ⋯ | 75 | 0.5945 | 53386 | 77258 | 58749.13 | -0.006400439 | -0.6465090 | T | C | rs9606012  |\n",
       "| 22 | 16624111 | rs8137722  | T | G | 0.679 | 0.681 | 0.881 | 0.99372 | 0.0099 | ⋯ | 75 | 0.5994 | 53386 | 77258 | 58749.13 | -0.006299802 | -0.6363437 | T | G | rs8137722  |\n",
       "| 22 | 16624607 | rs11703045 | C | T | 0.730 | 0.732 | 0.905 | 0.99144 | 0.0102 | ⋯ | 75 | 0.1811 | 53386 | 77258 | 58749.13 | -0.008596847 | -0.8428282 | C | T | rs11703045 |\n",
       "\n"
      ],
      "text/plain": [
       "  CHR BP       SNP        A1 A2 FRQ_A_53386 FRQ_U_77258 INFO  OR      SE     ⋯\n",
       "1 22  16613859 rs2096537  A  C  0.143       0.142       0.879 0.99561 0.0131 ⋯\n",
       "2 22  16615974 rs16984366 T  C  0.730       0.732       0.903 0.99134 0.0102 ⋯\n",
       "3 22  16618572 rs8141034  C  G  0.730       0.732       0.905 0.99154 0.0102 ⋯\n",
       "4 22  16623479 rs9606012  T  C  0.678       0.681       0.880 0.99362 0.0099 ⋯\n",
       "5 22  16624111 rs8137722  T  G  0.679       0.681       0.881 0.99372 0.0099 ⋯\n",
       "6 22  16624607 rs11703045 C  T  0.730       0.732       0.905 0.99144 0.0102 ⋯\n",
       "  HetDf HetPVa Nca   Nco   Neff     logOR        Z          REF ALT ID        \n",
       "1 75    0.5543 53386 77258 58749.13 -0.004399664 -0.3358522 A   C   rs2096537 \n",
       "2 75    0.1832 53386 77258 58749.13 -0.008697716 -0.8527172 T   C   rs16984366\n",
       "3 75    0.1725 53386 77258 58749.13 -0.008495989 -0.8329401 C   G   rs8141034 \n",
       "4 75    0.5945 53386 77258 58749.13 -0.006400439 -0.6465090 T   C   rs9606012 \n",
       "5 75    0.5994 53386 77258 58749.13 -0.006299802 -0.6363437 T   G   rs8137722 \n",
       "6 75    0.1811 53386 77258 58749.13 -0.008596847 -0.8428282 C   T   rs11703045"
      ]
     },
     "metadata": {},
     "output_type": "display_data"
    }
   ],
   "source": [
    "head(merged_ref)"
   ]
  },
  {
   "cell_type": "code",
   "execution_count": 149,
   "id": "c22f3ec6-5bd6-461c-a20b-13e7cce3d92b",
   "metadata": {},
   "outputs": [
    {
     "name": "stderr",
     "output_type": "stream",
     "text": [
      "Warning message in cbind(parts$left, chars$ellip_h, parts$right, deparse.level = 0L):\n",
      "“number of rows of result is not a multiple of vector length (arg 2)”\n",
      "Warning message in cbind(parts$left, chars$ellip_h, parts$right, deparse.level = 0L):\n",
      "“number of rows of result is not a multiple of vector length (arg 2)”\n",
      "Warning message in cbind(parts$left, chars$ellip_h, parts$right, deparse.level = 0L):\n",
      "“number of rows of result is not a multiple of vector length (arg 2)”\n",
      "Warning message in cbind(parts$left, chars$ellip_h, parts$right, deparse.level = 0L):\n",
      "“number of rows of result is not a multiple of vector length (arg 2)”\n"
     ]
    },
    {
     "data": {
      "text/html": [
       "<table class=\"dataframe\">\n",
       "<caption>A data.table: 0 × 24</caption>\n",
       "<thead>\n",
       "\t<tr><th scope=col>CHR</th><th scope=col>BP</th><th scope=col>SNP</th><th scope=col>A1</th><th scope=col>A2</th><th scope=col>FRQ_A_53386</th><th scope=col>FRQ_U_77258</th><th scope=col>INFO</th><th scope=col>OR</th><th scope=col>SE</th><th scope=col>⋯</th><th scope=col>HetDf</th><th scope=col>HetPVa</th><th scope=col>Nca</th><th scope=col>Nco</th><th scope=col>Neff</th><th scope=col>logOR</th><th scope=col>Z</th><th scope=col>REF</th><th scope=col>ALT</th><th scope=col>ID</th></tr>\n",
       "\t<tr><th scope=col>&lt;int&gt;</th><th scope=col>&lt;int&gt;</th><th scope=col>&lt;chr&gt;</th><th scope=col>&lt;chr&gt;</th><th scope=col>&lt;chr&gt;</th><th scope=col>&lt;dbl&gt;</th><th scope=col>&lt;dbl&gt;</th><th scope=col>&lt;dbl&gt;</th><th scope=col>&lt;dbl&gt;</th><th scope=col>&lt;dbl&gt;</th><th scope=col>⋯</th><th scope=col>&lt;int&gt;</th><th scope=col>&lt;dbl&gt;</th><th scope=col>&lt;int&gt;</th><th scope=col>&lt;int&gt;</th><th scope=col>&lt;dbl&gt;</th><th scope=col>&lt;dbl&gt;</th><th scope=col>&lt;dbl&gt;</th><th scope=col>&lt;chr&gt;</th><th scope=col>&lt;chr&gt;</th><th scope=col>&lt;chr&gt;</th></tr>\n",
       "</thead>\n",
       "<tbody>\n",
       "</tbody>\n",
       "</table>\n"
      ],
      "text/latex": [
       "A data.table: 0 × 24\n",
       "\\begin{tabular}{lllllllllllllllllllll}\n",
       " CHR & BP & SNP & A1 & A2 & FRQ\\_A\\_53386 & FRQ\\_U\\_77258 & INFO & OR & SE & ⋯ & HetDf & HetPVa & Nca & Nco & Neff & logOR & Z & REF & ALT & ID\\\\\n",
       " <int> & <int> & <chr> & <chr> & <chr> & <dbl> & <dbl> & <dbl> & <dbl> & <dbl> & ⋯ & <int> & <dbl> & <int> & <int> & <dbl> & <dbl> & <dbl> & <chr> & <chr> & <chr>\\\\\n",
       "\\hline\n",
       "\\end{tabular}\n"
      ],
      "text/markdown": [
       "\n",
       "A data.table: 0 × 24\n",
       "\n",
       "| CHR &lt;int&gt; | BP &lt;int&gt; | SNP &lt;chr&gt; | A1 &lt;chr&gt; | A2 &lt;chr&gt; | FRQ_A_53386 &lt;dbl&gt; | FRQ_U_77258 &lt;dbl&gt; | INFO &lt;dbl&gt; | OR &lt;dbl&gt; | SE &lt;dbl&gt; | ⋯ ⋯ | HetDf &lt;int&gt; | HetPVa &lt;dbl&gt; | Nca &lt;int&gt; | Nco &lt;int&gt; | Neff &lt;dbl&gt; | logOR &lt;dbl&gt; | Z &lt;dbl&gt; | REF &lt;chr&gt; | ALT &lt;chr&gt; | ID &lt;chr&gt; |\n",
       "|---|---|---|---|---|---|---|---|---|---|---|---|---|---|---|---|---|---|---|---|---|\n",
       "\n"
      ],
      "text/plain": [
       "     CHR BP SNP A1 A2 FRQ_A_53386 FRQ_U_77258 INFO OR SE ⋯ HetDf HetPVa Nca Nco\n",
       "     Neff logOR Z REF ALT ID"
      ]
     },
     "metadata": {},
     "output_type": "display_data"
    }
   ],
   "source": [
    "merged_ref[which(merged_ref$BP == 1910701), ]"
   ]
  },
  {
   "cell_type": "code",
   "execution_count": 152,
   "id": "b74035d0-76e7-4a9f-8a83-d5b5eb0e3887",
   "metadata": {},
   "outputs": [
    {
     "data": {
      "text/html": [
       "<table class=\"dataframe\">\n",
       "<caption>A data.table: 1 × 4</caption>\n",
       "<thead>\n",
       "\t<tr><th scope=col>CHR</th><th scope=col>BP</th><th scope=col>REF</th><th scope=col>ALT</th></tr>\n",
       "\t<tr><th scope=col>&lt;int&gt;</th><th scope=col>&lt;int&gt;</th><th scope=col>&lt;chr&gt;</th><th scope=col>&lt;chr&gt;</th></tr>\n",
       "</thead>\n",
       "<tbody>\n",
       "\t<tr><td>7</td><td>1910701</td><td>G</td><td>A</td></tr>\n",
       "</tbody>\n",
       "</table>\n"
      ],
      "text/latex": [
       "A data.table: 1 × 4\n",
       "\\begin{tabular}{llll}\n",
       " CHR & BP & REF & ALT\\\\\n",
       " <int> & <int> & <chr> & <chr>\\\\\n",
       "\\hline\n",
       "\t 7 & 1910701 & G & A\\\\\n",
       "\\end{tabular}\n"
      ],
      "text/markdown": [
       "\n",
       "A data.table: 1 × 4\n",
       "\n",
       "| CHR &lt;int&gt; | BP &lt;int&gt; | REF &lt;chr&gt; | ALT &lt;chr&gt; |\n",
       "|---|---|---|---|\n",
       "| 7 | 1910701 | G | A |\n",
       "\n"
      ],
      "text/plain": [
       "  CHR BP      REF ALT\n",
       "1 7   1910701 G   A  "
      ]
     },
     "metadata": {},
     "output_type": "display_data"
    }
   ],
   "source": [
    "ref[which(ref$BP == 1910701), ]"
   ]
  },
  {
   "cell_type": "code",
   "execution_count": 151,
   "id": "aed0650d-6cca-474a-8e11-881eae567ebe",
   "metadata": {},
   "outputs": [
    {
     "data": {
      "text/html": [
       "<table class=\"dataframe\">\n",
       "<caption>A data.table: 6 × 4</caption>\n",
       "<thead>\n",
       "\t<tr><th scope=col>CHR</th><th scope=col>BP</th><th scope=col>REF</th><th scope=col>ALT</th></tr>\n",
       "\t<tr><th scope=col>&lt;int&gt;</th><th scope=col>&lt;int&gt;</th><th scope=col>&lt;chr&gt;</th><th scope=col>&lt;chr&gt;</th></tr>\n",
       "</thead>\n",
       "<tbody>\n",
       "\t<tr><td>7</td><td>53998</td><td>C</td><td>T</td></tr>\n",
       "\t<tr><td>7</td><td>60728</td><td>G</td><td>A</td></tr>\n",
       "\t<tr><td>7</td><td>63494</td><td>A</td><td>G</td></tr>\n",
       "\t<tr><td>7</td><td>71938</td><td>A</td><td>C</td></tr>\n",
       "\t<tr><td>7</td><td>80500</td><td>T</td><td>C</td></tr>\n",
       "\t<tr><td>7</td><td>82240</td><td>C</td><td>T</td></tr>\n",
       "</tbody>\n",
       "</table>\n"
      ],
      "text/latex": [
       "A data.table: 6 × 4\n",
       "\\begin{tabular}{llll}\n",
       " CHR & BP & REF & ALT\\\\\n",
       " <int> & <int> & <chr> & <chr>\\\\\n",
       "\\hline\n",
       "\t 7 & 53998 & C & T\\\\\n",
       "\t 7 & 60728 & G & A\\\\\n",
       "\t 7 & 63494 & A & G\\\\\n",
       "\t 7 & 71938 & A & C\\\\\n",
       "\t 7 & 80500 & T & C\\\\\n",
       "\t 7 & 82240 & C & T\\\\\n",
       "\\end{tabular}\n"
      ],
      "text/markdown": [
       "\n",
       "A data.table: 6 × 4\n",
       "\n",
       "| CHR &lt;int&gt; | BP &lt;int&gt; | REF &lt;chr&gt; | ALT &lt;chr&gt; |\n",
       "|---|---|---|---|\n",
       "| 7 | 53998 | C | T |\n",
       "| 7 | 60728 | G | A |\n",
       "| 7 | 63494 | A | G |\n",
       "| 7 | 71938 | A | C |\n",
       "| 7 | 80500 | T | C |\n",
       "| 7 | 82240 | C | T |\n",
       "\n"
      ],
      "text/plain": [
       "  CHR BP    REF ALT\n",
       "1 7   53998 C   T  \n",
       "2 7   60728 G   A  \n",
       "3 7   63494 A   G  \n",
       "4 7   71938 A   C  \n",
       "5 7   80500 T   C  \n",
       "6 7   82240 C   T  "
      ]
     },
     "metadata": {},
     "output_type": "display_data"
    }
   ],
   "source": [
    "head(ref)"
   ]
  },
  {
   "cell_type": "code",
   "execution_count": null,
   "id": "8c11e5d3-e922-404b-8b77-4edf766569dd",
   "metadata": {},
   "outputs": [],
   "source": []
  },
  {
   "cell_type": "code",
   "execution_count": 119,
   "id": "754390d2-a7ee-4345-a73b-7b72f575f55f",
   "metadata": {},
   "outputs": [
    {
     "name": "stderr",
     "output_type": "stream",
     "text": [
      "Warning message in fread(summary_stats_path):\n",
      "“Detected 1 column names but the data has 16 columns (i.e. invalid file). Added 15 extra default column names at the end.”\n"
     ]
    }
   ],
   "source": [
    "for (summary_stats_path in summary_stats_paths) {\n",
    "    \n",
    "    summary_stats <- fread(summary_stats_path)\n",
    "    summary_stats <- clean_and_standardize_colnames(summary_stats)\n",
    "\n",
    "    total_mismatches_ref <- 0  # Initialize counter for ref mismatches\n",
    "    total_mismatches_libd <- 0  # Initialize counter for libd mismatches\n",
    "\n",
    "    cat(\"Processing file:\", summary_stats_path, \"\\n\\n\")  # Print the file being processed\n",
    "\n",
    "    for (chr in 1:22) {\n",
    "        # Load reference data\n",
    "        ref <- fread(paste0(\"/expanse/lustre/projects/jhu152/naglemi/mwas/gwas_flipped/ref_EUR_allele-match-libd_chr\", chr, \".pvar\"),\n",
    "                     select = c(\"#CHROM\", \"POS\", \"REF\", \"ALT\"),\n",
    "                     col.names = c(\"CHR\", \"BP\", \"REF\", \"ALT\"))\n",
    "\n",
    "        # Merge with reference data by CHR and BP\n",
    "        merged_ref <- merge(summary_stats, ref, by = c(\"CHR\", \"BP\"), suffixes = c(\"\", \"_ref\"))\n",
    "\n",
    "        # Count mismatches in allele orders for ref\n",
    "        mismatch_count_ref <- merged_ref[\n",
    "            !((A1 == REF & A2 == ALT) | (A1 == ALT & A2 == REF)),\n",
    "            .N\n",
    "        ]\n",
    "\n",
    "        # Accumulate total ref mismatches\n",
    "        total_mismatches_ref <- total_mismatches_ref + mismatch_count_ref\n",
    "\n",
    "        # Print mismatches per chromosome for ref\n",
    "        cat(\"Chromosome:\", chr, \"- ref mismatches:\", mismatch_count_ref, \"\\n\")\n",
    "    }\n",
    "\n",
    "    cat(\"\\n\")  # Line break between ref and libd processing\n",
    "\n",
    "    for (chr in 1:22) {\n",
    "        # Load LIBD data\n",
    "        libd <- fread(paste0(\"/expanse/lustre/projects/jhu152/naglemi/mwas/gwas/libd_chr\", chr, \".pvar\"),\n",
    "                      select = c(\"#CHROM\", \"POS\", \"REF\", \"ALT\"),\n",
    "                      col.names = c(\"CHR\", \"BP\", \"REF_libd\", \"ALT_libd\"))\n",
    "\n",
    "        # Merge with LIBD data by CHR and BP\n",
    "        merged_libd <- merge(summary_stats, libd, by = c(\"CHR\", \"BP\"), suffixes = c(\"\", \"_libd\"))\n",
    "\n",
    "        # Count mismatches in allele orders for libd\n",
    "        mismatch_count_libd <- merged_libd[\n",
    "            !((A1 == REF_libd & A2 == ALT_libd) | (A1 == ALT_libd & A2 == REF_libd)),\n",
    "            .N\n",
    "        ]\n",
    "\n",
    "        # Accumulate total libd mismatches\n",
    "        total_mismatches_libd <- total_mismatches_libd + mismatch_count_libd\n",
    "\n",
    "        # Print mismatches per chromosome for libd\n",
    "        cat(\"Chromosome:\", chr, \"- libd mismatches:\", mismatch_count_libd, \"\\n\")\n",
    "    }\n",
    "\n",
    "    # Print summary of total mismatches for the file\n",
    "    cat(\"\\nFile:\", summary_stats_path, \"- Total ref mismatches:\", total_mismatches_ref, \"\\n\")\n",
    "    cat(\"File:\", summary_stats_path, \"- Total libd mismatches:\", total_mismatches_libd, \"\\n\\n\")\n",
    "}"
   ]
  },
  {
   "cell_type": "code",
   "execution_count": 142,
   "id": "7557143e-208b-4063-8ecc-c3fdeab379dc",
   "metadata": {},
   "outputs": [
    {
     "data": {
      "text/html": [
       "0"
      ],
      "text/latex": [
       "0"
      ],
      "text/markdown": [
       "0"
      ],
      "text/plain": [
       "[1] 0"
      ]
     },
     "metadata": {},
     "output_type": "display_data"
    }
   ],
   "source": [
    "total_mismatches_ref"
   ]
  },
  {
   "cell_type": "code",
   "execution_count": 143,
   "id": "71c5405a-e9d8-4883-a853-1a808d7cc5b3",
   "metadata": {},
   "outputs": [
    {
     "data": {
      "text/html": [
       "0"
      ],
      "text/latex": [
       "0"
      ],
      "text/markdown": [
       "0"
      ],
      "text/plain": [
       "[1] 0"
      ]
     },
     "metadata": {},
     "output_type": "display_data"
    }
   ],
   "source": [
    "total_mismatches_libd"
   ]
  },
  {
   "cell_type": "code",
   "execution_count": null,
   "id": "dfb3780a-ab52-425f-a545-3719e4cd4c7c",
   "metadata": {},
   "outputs": [],
   "source": [
    "file.remove(\"/expanse/lustre/projects/jhu152/naglemi/mwas/gwas//gwas_stat_bp_alleleprocessed_alleleprocessed.txt\")"
   ]
  },
  {
   "cell_type": "code",
   "execution_count": null,
   "id": "25d69f4f-f4c9-4bf5-b295-9adb158509a1",
   "metadata": {},
   "outputs": [],
   "source": [
    "head(summary_stats)"
   ]
  },
  {
   "cell_type": "code",
   "execution_count": null,
   "id": "1dfc472f-041d-4b69-96bc-051d13a31db9",
   "metadata": {},
   "outputs": [],
   "source": []
  },
  {
   "cell_type": "code",
   "execution_count": null,
   "id": "d531d312-d889-4986-a14c-f252246626cd",
   "metadata": {},
   "outputs": [],
   "source": []
  },
  {
   "cell_type": "code",
   "execution_count": null,
   "id": "668b306f-f5ed-4fd7-9a2e-3beb4a1e294f",
   "metadata": {},
   "outputs": [],
   "source": []
  }
 ],
 "metadata": {
  "kernelspec": {
   "display_name": "R",
   "language": "R",
   "name": "ir"
  },
  "language_info": {
   "codemirror_mode": "r",
   "file_extension": ".r",
   "mimetype": "text/x-r-source",
   "name": "R",
   "pygments_lexer": "r",
   "version": "4.3.1"
  }
 },
 "nbformat": 4,
 "nbformat_minor": 5
}
