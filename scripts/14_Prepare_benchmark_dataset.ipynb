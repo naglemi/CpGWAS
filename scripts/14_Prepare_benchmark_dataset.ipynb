{
 "cells": [
  {
   "cell_type": "markdown",
   "id": "a9006e50-c682-4d8e-8757-7e983cb16f83",
   "metadata": {},
   "source": [
    "# Prepare sample methylation subset for benchmarking"
   ]
  },
  {
   "cell_type": "code",
   "execution_count": 1,
   "id": "b854843f-5c22-4a1d-9aed-f5a7872e1b4f",
   "metadata": {},
   "outputs": [],
   "source": [
    "#!/usr/bin/env Rscript\n",
    "#profvis({\n",
    "\n",
    "#options(error = recover)\n",
    "#options(error = traceback)\n",
    "\n",
    "start_time <- Sys.time()  # Start time capture\n",
    "\n",
    "library(CpGWAS)\n",
    "library(optparse)\n",
    "\n",
    "args <- list(\n",
    "    outdir = \"./output/\",\n",
    "    chunk1 = 7801,\n",
    "    chunk2 = 8000,\n",
    "    snp_data_path = \"/dcs04/lieber/statsgen/shizhong/michael/mwas/gwas/libd_chr1.pgen\",\n",
    "    methylation_data_path = \"/dcs04/lieber/statsgen/shizhong/michael/mwas/pheno/dlpfc/out/chr1_all.rda\",\n",
    "    cov = \"/dcs04/lieber/statsgen/mnagle/mwas/full_covariates/all_dlpfc.csv\",\n",
    "    verbose = TRUE,\n",
    "    lambda_choice = \"1se\",\n",
    "    alphas = seq(0, 1, 0.25),\n",
    "    cores_per_alpha = \"all\",\n",
    "    num_cores = \"all\", #future::availableCores(),\n",
    "    allow_inefficient_parallelization = FALSE,\n",
    "    n_fold = 5,\n",
    "    window_sizes = c(2000, 4000, 6000, 8000, 10000),\n",
    "    tag = format(Sys.time(), \"%Y%m%d-%H%M%S\"),\n",
    "    save_evaluation_results_each_fold = FALSE,\n",
    "    save_glmnet_object = FALSE,\n",
    "    cv_eval_mode = \"dynamic\",\n",
    "    omit_folds_with_na_r = TRUE,\n",
    "    #methInput_rds_path = \"~/data/chr1_AA_methylation_10k_samples.rds\",\n",
    "    maf = 0.01\n",
    ")\n",
    "\n",
    "\n",
    "#saveRDS(args, file = file.path(args$outdir, paste0(args$tag, \"-args.rds\")))\n",
    "#args <- readRDS(\"output/libd_chr1-chr1_AA-static-1core-20240129-123107-args.rds\")\n",
    "if(args$num_cores == \"all\"){\n",
    "  args$num_cores <- future::availableCores()\n",
    "}\n",
    "\n",
    "if(args$verbose) {\n",
    "  print(args)\n",
    "}\n",
    "\n",
    "if(!dir.exists(args$outdir)) {\n",
    "  dir.create(args$outdir)\n",
    "}\n",
    "\n",
    "# Check required arguments\n",
    "if (is.null(args$snp_data_path) || is.null(args$methylation_data_path)) {\n",
    "  stop(\"Paths to both SNP and methylation data are required.\")\n",
    "}"
   ]
  },
  {
   "cell_type": "code",
   "execution_count": 5,
   "id": "20a52720-82e6-475d-ae58-03b60de1f0b2",
   "metadata": {},
   "outputs": [],
   "source": [
    "load(args$methylation_data_path)"
   ]
  },
  {
   "cell_type": "code",
   "execution_count": 6,
   "id": "20cb3655-2908-4a28-b182-a29bac2f873a",
   "metadata": {},
   "outputs": [
    {
     "data": {
      "text/html": [
       "'sampleMethylationSites'"
      ],
      "text/latex": [
       "'sampleMethylationSites'"
      ],
      "text/markdown": [
       "'sampleMethylationSites'"
      ],
      "text/plain": [
       "[1] \"sampleMethylationSites\""
      ]
     },
     "metadata": {},
     "output_type": "display_data"
    }
   ],
   "source": [
    "setGeneric(\"sampleMethylationSites\", function(object, num_sites, seed) {\n",
    "  standardGeneric(\"sampleMethylationSites\")\n",
    "})\n",
    "\n",
    "setMethod(\n",
    "  \"sampleMethylationSites\",\n",
    "  \"MethylationInput\",\n",
    "  function(object, num_sites, seed = NULL) {\n",
    "    if (!is.null(seed)) {\n",
    "      set.seed(seed)\n",
    "    }\n",
    "    \n",
    "    if (num_sites <= 0 || num_sites > length(object@methylations_positions)) {\n",
    "      recover()\n",
    "      stop(\"The number of sites must be greater than 0 and less than or equal to the total number of methylation sites.\")\n",
    "    }\n",
    "# \n",
    "    set.seed(42)\n",
    "    selected_indices <- sample(x = 1:length(object@methylations_positions),\n",
    "                               size = num_sites, replace = FALSE)\n",
    "    \n",
    "    # Subset methylations and methylations_positions using selected_indices\n",
    "    object@methylations <- object@methylations[, selected_indices, drop = FALSE]\n",
    "    object@methylations_positions <- object@methylations_positions[selected_indices]\n",
    "    \n",
    "    object\n",
    "  }\n",
    ")\n"
   ]
  },
  {
   "cell_type": "code",
   "execution_count": 7,
   "id": "08e98fa9-69f0-43e0-bc7a-fb85227652d7",
   "metadata": {},
   "outputs": [
    {
     "data": {
      "text/plain": [
       "17754792 bytes"
      ]
     },
     "metadata": {},
     "output_type": "display_data"
    }
   ],
   "source": [
    "object.size(BSobj2)"
   ]
  },
  {
   "cell_type": "code",
   "execution_count": 8,
   "id": "2017c936-6ba5-40bf-b4f2-92a69e97203a",
   "metadata": {},
   "outputs": [
    {
     "name": "stderr",
     "output_type": "stream",
     "text": [
      "Creating new MethylationInput object\n",
      "\n"
     ]
    }
   ],
   "source": [
    "# Pt. 2: Initialize (or load) MethylationInput object -------------------------------\n",
    "\n",
    "if (!is.null(args$methInput_rds_path) && file.exists(args$methInput_rds_path)) {\n",
    "  if(args$verbose) {\n",
    "    message(\"Loading MethylationInput object from RDS file: \", args$methInput_rds_path)\n",
    "  }\n",
    "  methInput <- reinitializeMethylationInput(rds_path = args$methInput_rds_path,\n",
    "                                            snp_data_path = args$snp_data_path,\n",
    "                                            start_site = args$chunk1,\n",
    "                                            end_site = args$chunk2,\n",
    "                                            no_cores = args$num_cores)\n",
    "} else {\n",
    "  if(args$verbose) {\n",
    "    message(\"Creating new MethylationInput object\")\n",
    "  }\n",
    "  methInput <- new(\"MethylationInput\",\n",
    "                   BSseq_obj = BSobj2,\n",
    "                   snp_data_path = args$snp_data_path,\n",
    "                   cov_path = args$cov,\n",
    "                   start_site = 1, #args$chunk1,\n",
    "                   end_site = length(BSobj2@rowRanges@seqnames), #args$chunk2,\n",
    "                   no_cores = args$num_cores)\n",
    "  BSobj2 <- means <- sds <- NULL\n",
    "  methInput <- sampleMethylationSites(methInput, n = 10000, seed = 42)\n",
    "  saveRDS(methInput, \"/dcs04/lieber/statsgen/mnagle/mwas/chr1_dfplc_all_methylation_10k_samples_a3.rds\")\n",
    "}"
   ]
  },
  {
   "cell_type": "code",
   "execution_count": null,
   "id": "0c4a9a97-4fcf-4f2c-97a5-f2c8c3232f10",
   "metadata": {},
   "outputs": [],
   "source": []
  }
 ],
 "metadata": {
  "kernelspec": {
   "display_name": "R",
   "language": "R",
   "name": "ir"
  },
  "language_info": {
   "codemirror_mode": "r",
   "file_extension": ".r",
   "mimetype": "text/x-r-source",
   "name": "R",
   "pygments_lexer": "r",
   "version": "4.3.1"
  }
 },
 "nbformat": 4,
 "nbformat_minor": 5
}
