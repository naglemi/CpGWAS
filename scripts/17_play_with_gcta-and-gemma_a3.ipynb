{
 "cells": [
  {
   "cell_type": "markdown",
   "id": "cb3a98d9-2de3-4216-ba50-377b3ac07e2c",
   "metadata": {
    "tags": []
   },
   "source": [
    "# Look at previous code for GCTA, run with our data, become familiar"
   ]
  },
  {
   "cell_type": "code",
   "execution_count": 1,
   "id": "d27829d8-41e9-4318-a149-5971a023502b",
   "metadata": {},
   "outputs": [],
   "source": [
    "library(data.table)"
   ]
  },
  {
   "cell_type": "code",
   "execution_count": 2,
   "id": "748df55d-026f-437c-964d-ec24f5df419b",
   "metadata": {},
   "outputs": [],
   "source": [
    "outdir <- \"/dcs04/lieber/statsgen/mnagle/mwas/CpGWAS/scripts/gcta_output\"\n",
    "if(!dir.exists(outdir)) dir.create(outdir)"
   ]
  },
  {
   "cell_type": "code",
   "execution_count": 3,
   "id": "3da8c482-029b-46fc-9311-e1dfed1b250d",
   "metadata": {},
   "outputs": [],
   "source": [
    "chunk1 <- 1"
   ]
  },
  {
   "cell_type": "code",
   "execution_count": 4,
   "id": "84825c23-fb01-4ebd-b32d-c49769225a1b",
   "metadata": {},
   "outputs": [],
   "source": [
    "chunk2 <- 10"
   ]
  },
  {
   "cell_type": "markdown",
   "id": "2c909ebd-9e6c-43b6-8eb5-9c33625722a3",
   "metadata": {
    "jp-MarkdownHeadingCollapsed": true,
    "tags": []
   },
   "source": [
    "## Check out these VMRs. Is this something we need to use, or is the same info in our newer file formats?"
   ]
  },
  {
   "cell_type": "code",
   "execution_count": 5,
   "id": "4f14a8d3-2309-4571-bcc3-5bff3d688b8b",
   "metadata": {
    "tags": []
   },
   "outputs": [],
   "source": [
    "# library(data.table)  # For efficient data handling\n",
    "\n",
    "# args <- commandArgs(trailingOnly=TRUE)\n",
    "\n",
    "# indir <- \"/dcs04/lieber/statsgen/shizhong/AANRI/VMR2/99/caud/aa/\"\n",
    "\n",
    "# setwd(outdir)\n",
    "\n",
    "# # Initialize lists to store sizes, dimensions, and loading times\n",
    "# data_sizes <- list()\n",
    "# data_dims <- list()\n",
    "# loading_times <- list()\n",
    "\n",
    "# # Load and analyze VMR files for each chromosome\n",
    "# for (i in 1:22) {\n",
    "#     cat(\"Processing chromosome\", i, \"...\\n\")\n",
    "    \n",
    "#     # Measure loading time\n",
    "#     start_time <- Sys.time()\n",
    "#     load(paste0(indir, \"out/chr\", i, \"_vmr.rda\"))\n",
    "#     end_time <- Sys.time()\n",
    "#     loading_time <- as.numeric(difftime(end_time, start_time, units = \"secs\"))\n",
    "    \n",
    "#     # Store loading time\n",
    "#     loading_times[[i]] <- loading_time\n",
    "    \n",
    "#     # Print the 5x5 slice of the methylation data and head of VMR data\n",
    "#     cat(\"Slice [1:5, 1:5] of meth for chromosome\", i, \":\\n\")\n",
    "#     print(meth[1:5, 1:5])\n",
    "#     cat(\"Head of vmrs for chromosome\", i, \":\\n\")\n",
    "#     print(head(vmrs))\n",
    "    \n",
    "#     # Store the size and dimensions of the data\n",
    "#     data_sizes[[i]] <- list(\n",
    "#         meth_size = object.size(meth),\n",
    "#         vmrs_size = object.size(vmrs)\n",
    "#     )\n",
    "#     data_dims[[i]] <- list(\n",
    "#         meth_dim = dim(meth),\n",
    "#         vmrs_dim = dim(vmrs)\n",
    "#     )\n",
    "    \n",
    "#     # Combine data across chromosomes\n",
    "#     if (i == 1) {\n",
    "#         meth2 <- meth\n",
    "#         vmrs2 <- vmrs\n",
    "#     } else {\n",
    "#         meth2 <- rbind(meth2, meth)\n",
    "#         vmrs2 <- rbind(vmrs2, vmrs)\n",
    "#     }\n",
    "# }\n",
    "\n",
    "# # Print summary information\n",
    "# cat(\"\\nSummary of loading times (seconds):\\n\")\n",
    "# for (i in 1:22) {\n",
    "#     cat(\"Chromosome\", i, \":\", loading_times[[i]], \"seconds\\n\")\n",
    "# }\n",
    "\n",
    "# cat(\"\\nSummary of data sizes (bytes):\\n\")\n",
    "# for (i in 1:22) {\n",
    "#     cat(\"Chromosome\", i, \":\\n\")\n",
    "#     cat(\"  meth size:\", data_sizes[[i]]$meth_size, \"bytes\\n\")\n",
    "#     cat(\"  vmrs size:\", data_sizes[[i]]$vmrs_size, \"bytes\\n\")\n",
    "# }\n",
    "\n",
    "# cat(\"\\nSummary of data dimensions:\\n\")\n",
    "# for (i in 1:22) {\n",
    "#     cat(\"Chromosome\", i, \":\\n\")\n",
    "#     cat(\"  meth dimensions:\", data_dims[[i]]$meth_dim, \"\\n\")\n",
    "#     cat(\"  vmrs dimensions:\", data_dims[[i]]$vmrs_dim, \"\\n\")\n",
    "# }\n"
   ]
  },
  {
   "cell_type": "markdown",
   "id": "a06980c9-3699-468a-8c5c-766840155af8",
   "metadata": {},
   "source": [
    "Interesting how the allele data and methylationd ata appears to be for teh same limited number of sites. We use more SNPs as explanatory variables to compute heritability, right?"
   ]
  },
  {
   "cell_type": "markdown",
   "id": "e8edda57-074e-41f5-98fb-2067727fdb10",
   "metadata": {},
   "source": [
    "## Try with new data"
   ]
  },
  {
   "cell_type": "code",
   "execution_count": 6,
   "id": "4a75067b-7a94-4dcb-b871-58b103559488",
   "metadata": {},
   "outputs": [],
   "source": [
    "library(data.table)"
   ]
  },
  {
   "cell_type": "code",
   "execution_count": 7,
   "id": "cdc49be0-6857-4429-93fa-c321557e0b4d",
   "metadata": {},
   "outputs": [],
   "source": [
    "df <- fread(\"/dcs04/lieber/statsgen/mnagle/mwas/CpGWAS/scripts/09.5-OUT_matched_SNP_meth_cov_chunked_JHPCE.csv\")"
   ]
  },
  {
   "cell_type": "code",
   "execution_count": 8,
   "id": "cba0afc8-da0a-4a04-803c-f8ddb4ed4741",
   "metadata": {},
   "outputs": [],
   "source": [
    "df_row <- 1"
   ]
  },
  {
   "cell_type": "code",
   "execution_count": 9,
   "id": "0ae44a95-1179-493b-8864-131803d99b19",
   "metadata": {},
   "outputs": [],
   "source": [
    "#args = commandArgs(trailingOnly=TRUE)\n",
    "\n",
    "#outdir <- args[1]\n",
    "#chunk1 <- as.numeric(args[2])\n",
    "#chunk2 <- as.numeric(args[3])\n",
    "\n",
    "wind <- c(10000, 100000, 1000000)\n",
    "\n",
    "#wind <- as.numeric(c(\"1000\",\"2000\",\"5000\",\"10000\",\"20000\",\"50000\",\"100000\",\"200000\",\"500000\"))\n",
    "\n",
    "# This directory contains vmr files, which are...\n",
    "#indir <- \"/dcs04/lieber/statsgen/shizhong/AANRI/VMR2/99/caud/aa/\"\n",
    "\n",
    "# path to dir containing pgen, psam files for a given population/subpopulation\n",
    "gwas <- paste0(dirname(df$SNP_data[df_row]), \"/\")\n",
    "gcta <- \"/dcs04/lieber/statsgen/shizhong/software/gcta/gcta-1.94.1-linux-kernel-3-x86_64/gcta-1.94.1\"\n",
    "\n",
    "outdir <- \"/dcs04/lieber/statsgen/mnagle/mwas/CpGWAS/scripts/gcta_output\"\n",
    "if(!dir.exists(outdir)) dir.create(outdir)\n",
    "\n",
    "setwd(outdir)"
   ]
  },
  {
   "cell_type": "code",
   "execution_count": 10,
   "id": "48c95bd5-9d52-4bac-9b91-57f3ddf6e60a",
   "metadata": {},
   "outputs": [
    {
     "data": {
      "text/html": [
       "'/dcs04/lieber/statsgen/shizhong/michael/mwas/gwas/'"
      ],
      "text/latex": [
       "'/dcs04/lieber/statsgen/shizhong/michael/mwas/gwas/'"
      ],
      "text/markdown": [
       "'/dcs04/lieber/statsgen/shizhong/michael/mwas/gwas/'"
      ],
      "text/plain": [
       "[1] \"/dcs04/lieber/statsgen/shizhong/michael/mwas/gwas/\""
      ]
     },
     "metadata": {},
     "output_type": "display_data"
    }
   ],
   "source": [
    "gwas"
   ]
  },
  {
   "cell_type": "code",
   "execution_count": 11,
   "id": "30bdecce-c733-4a58-873f-90b0c2772413",
   "metadata": {
    "tags": []
   },
   "outputs": [
    {
     "name": "stderr",
     "output_type": "stream",
     "text": [
      "Loading required package: BiocGenerics\n",
      "\n",
      "\n",
      "Attaching package: ‘BiocGenerics’\n",
      "\n",
      "\n",
      "The following objects are masked from ‘package:stats’:\n",
      "\n",
      "    IQR, mad, sd, var, xtabs\n",
      "\n",
      "\n",
      "The following objects are masked from ‘package:base’:\n",
      "\n",
      "    anyDuplicated, aperm, append, as.data.frame, basename, cbind,\n",
      "    colnames, dirname, do.call, duplicated, eval, evalq, Filter, Find,\n",
      "    get, grep, grepl, intersect, is.unsorted, lapply, Map, mapply,\n",
      "    match, mget, order, paste, pmax, pmax.int, pmin, pmin.int,\n",
      "    Position, rank, rbind, Reduce, rownames, sapply, setdiff, sort,\n",
      "    table, tapply, union, unique, unsplit, which.max, which.min\n",
      "\n",
      "\n",
      "Loading required package: GenomicRanges\n",
      "\n",
      "Loading required package: stats4\n",
      "\n",
      "Loading required package: S4Vectors\n",
      "\n",
      "\n",
      "Attaching package: ‘S4Vectors’\n",
      "\n",
      "\n",
      "The following objects are masked from ‘package:data.table’:\n",
      "\n",
      "    first, second\n",
      "\n",
      "\n",
      "The following object is masked from ‘package:utils’:\n",
      "\n",
      "    findMatches\n",
      "\n",
      "\n",
      "The following objects are masked from ‘package:base’:\n",
      "\n",
      "    expand.grid, I, unname\n",
      "\n",
      "\n",
      "Loading required package: IRanges\n",
      "\n",
      "\n",
      "Attaching package: ‘IRanges’\n",
      "\n",
      "\n",
      "The following object is masked from ‘package:data.table’:\n",
      "\n",
      "    shift\n",
      "\n",
      "\n",
      "Loading required package: GenomeInfoDb\n",
      "\n",
      "Loading required package: SummarizedExperiment\n",
      "\n",
      "Loading required package: MatrixGenerics\n",
      "\n",
      "Loading required package: matrixStats\n",
      "\n",
      "\n",
      "Attaching package: ‘MatrixGenerics’\n",
      "\n",
      "\n",
      "The following objects are masked from ‘package:matrixStats’:\n",
      "\n",
      "    colAlls, colAnyNAs, colAnys, colAvgsPerRowSet, colCollapse,\n",
      "    colCounts, colCummaxs, colCummins, colCumprods, colCumsums,\n",
      "    colDiffs, colIQRDiffs, colIQRs, colLogSumExps, colMadDiffs,\n",
      "    colMads, colMaxs, colMeans2, colMedians, colMins, colOrderStats,\n",
      "    colProds, colQuantiles, colRanges, colRanks, colSdDiffs, colSds,\n",
      "    colSums2, colTabulates, colVarDiffs, colVars, colWeightedMads,\n",
      "    colWeightedMeans, colWeightedMedians, colWeightedSds,\n",
      "    colWeightedVars, rowAlls, rowAnyNAs, rowAnys, rowAvgsPerColSet,\n",
      "    rowCollapse, rowCounts, rowCummaxs, rowCummins, rowCumprods,\n",
      "    rowCumsums, rowDiffs, rowIQRDiffs, rowIQRs, rowLogSumExps,\n",
      "    rowMadDiffs, rowMads, rowMaxs, rowMeans2, rowMedians, rowMins,\n",
      "    rowOrderStats, rowProds, rowQuantiles, rowRanges, rowRanks,\n",
      "    rowSdDiffs, rowSds, rowSums2, rowTabulates, rowVarDiffs, rowVars,\n",
      "    rowWeightedMads, rowWeightedMeans, rowWeightedMedians,\n",
      "    rowWeightedSds, rowWeightedVars\n",
      "\n",
      "\n",
      "Loading required package: Biobase\n",
      "\n",
      "Welcome to Bioconductor\n",
      "\n",
      "    Vignettes contain introductory material; view with\n",
      "    'browseVignettes()'. To cite Bioconductor, see\n",
      "    'citation(\"Biobase\")', and for packages 'citation(\"pkgname\")'.\n",
      "\n",
      "\n",
      "\n",
      "Attaching package: ‘Biobase’\n",
      "\n",
      "\n",
      "The following object is masked from ‘package:MatrixGenerics’:\n",
      "\n",
      "    rowMedians\n",
      "\n",
      "\n",
      "The following objects are masked from ‘package:matrixStats’:\n",
      "\n",
      "    anyMissing, rowMedians\n",
      "\n",
      "\n"
     ]
    }
   ],
   "source": [
    "library(bsseq)"
   ]
  },
  {
   "cell_type": "code",
   "execution_count": 12,
   "id": "68dfdd8f-aaed-44e2-bedf-fd8910bd3afa",
   "metadata": {},
   "outputs": [],
   "source": [
    "load(df$methylation_data[df_row])\n",
    "chunk1 <- 1\n",
    "chunk2 <- 50"
   ]
  },
  {
   "cell_type": "markdown",
   "id": "108bc93c-8ad5-4404-8f25-2e1da39b4fe5",
   "metadata": {},
   "source": [
    "### Get our methylation data in the same format as the earlier `p` matrix (row per sample, column per site)"
   ]
  },
  {
   "cell_type": "code",
   "execution_count": 13,
   "id": "321abba9-bbbb-4e7e-ba53-0d14fa8b6a5c",
   "metadata": {},
   "outputs": [],
   "source": [
    "p <- t(as.matrix(getMeth(BSobj2, type = \"smooth\", what = \"perBase\")))\n",
    "\n",
    "ind <- BSobj2@colData$brnum <- gsub(\"Br0\", \"Br\", BSobj2@colData$brnum)\n",
    "\n",
    "ind <- gsub(\"Br0\", \"Br\", BSobj2@colData$brnum)\n",
    "id <- ind\n",
    "\n",
    "rownames(p) <- ind\n",
    "\n",
    "covs <- fread(df$cov_file[df_row])\n",
    "covs$Sex[covs$Sex==\"M\"] <- 0\n",
    "covs$Sex[covs$Sex==\"F\"] <- 1\n",
    "\n",
    "covs$Dx[covs$Dx==\"Control\"] <- 0\n",
    "covs$Dx[covs$Dx==\"SCZ\"] <- 1\n",
    "\n",
    "missing_ids <- ind[!ind %in% covs$ID]\n",
    "if (length(missing_ids) > 0) {\n",
    "  cat(\"Missing covariates for IDs:\", paste(missing_ids, collapse = \", \"), \"\\n\")\n",
    "  ind <- ind[ind %in% covs$ID]\n",
    "}\n",
    "covs <- covs[match(ind, covs$ID), ]\n",
    "p <- p[match(ind, rownames(p)), ]\n",
    "\n",
    "id <- colData(BSobj2)$ID[which(colData(BSobj2)$brnum %in% ind)]\n",
    "\n",
    "covs <- cbind(0, covs)\n",
    "colnames(covs)[1] <- \"intercept\"\n",
    "\n",
    "write.table(ind,\"id\",col.names=F,row.names=F,quote=F,sep=\"\\t\")\n",
    "\n",
    "write.table(covs,\"covs\",col.names=F,row.names=F,quote=F,sep=\"\\t\")\n",
    "\n",
    "chr <- unfactor(unique(seqnames(rowRanges(BSobj2))))\n",
    "if(length(chr) > 1) stop (\"Should be just one chromosome per BSobj\")\n",
    "chr <- gsub(\"chr\",\"\",chr)\n",
    "\n",
    "CpG_positions <- start(ranges(granges(BSobj2)))"
   ]
  },
  {
   "cell_type": "markdown",
   "id": "e80c5f2e-b3a7-4dcb-bc56-e5542d82e2e3",
   "metadata": {},
   "source": [
    "#### With multithreading"
   ]
  },
  {
   "cell_type": "code",
   "execution_count": 14,
   "id": "b8d6ce65-14a5-4d60-839c-8d1683e61bc5",
   "metadata": {},
   "outputs": [],
   "source": [
    "# Sys.time()"
   ]
  },
  {
   "cell_type": "code",
   "execution_count": 15,
   "id": "1bee04e8-1976-46ee-9483-a917371f844e",
   "metadata": {
    "tags": []
   },
   "outputs": [],
   "source": [
    "# # loop over vmr between two chunks\n",
    "# res <- c()\n",
    "# for(i in chunk1:chunk2){\n",
    "# \tcat(i,\"\\n\")\n",
    "# \tchr <- gsub(\"chr\",\"\",chr)\n",
    "# \t# loop over each window size\n",
    "# \tfor(w in 1:length(wind)){\n",
    "#         # plink subset\n",
    "#         p1 <- ifelse(CpG_positions[i] - wind[w] > 0, CpG_positions[i] - wind[w],0)\n",
    "#         p2 <- CpG_positions[i] + wind[w]\n",
    "#         gwas_prefix <- paste0(gwas,\"libd_chr\",chr)\n",
    "#         command <- paste(\"/dcs04/lieber/statsgen/mnagle/mwas/CpGWAS/scripts/plink2 --pfile \", gwas_prefix, \"--silent --keep id\",\n",
    "#                          \"--chr \",chr,\n",
    "#                          \"--from-bp\",p1,\"--to-bp\",p2,\n",
    "#                          \"--snps-only 'just-acgt' --make-bed --out temp\",\n",
    "#                          sep=\" \")\n",
    "#         system(command)\t\n",
    "#         if(!file.exists(\"temp.bim\")){\n",
    "#             next;\n",
    "#         }\n",
    "#         # phenotype file \n",
    "#         #pheno <- cbind(0,id,p[,i])\n",
    "#         pheno <- cbind(0,ind,p[,i])\n",
    "#         write.table(pheno,\"pheno\",col.names=F,row.names=F,quote=F,sep=\"\\t\")\n",
    "#         # grm\n",
    "#         command <- paste(gcta, \"--bfile temp --make-grm-bin --out temp\", sep=\" \")\n",
    "#         system(command)\n",
    "#         # h2 estimation\n",
    "#         command <- paste(gcta, \"--reml --grm-bin temp --pheno pheno --mpheno 1 --qcovar covs --out temp\", sep=\" \")\n",
    "#         system(command)\n",
    "#         # collect results\n",
    "#         if(!file.exists(\"temp.hsq\")){\n",
    "#             next;\n",
    "#         }\n",
    "#         temp <- read.table(\"temp.hsq\",header=T, fill=TRUE)\n",
    "#         temp$site <- paste0(\"chr\",chr,\"_\",CpG_positions[i])\n",
    "#         temp$wind <- wind[w]\n",
    "#         res <- rbind(res,temp)\n",
    "#         # remove temp files\n",
    "#         system(\"rm temp*\")\n",
    "#         }\n",
    "\t\n",
    "# }\n",
    "# write.table(res,\"res.txt\",col.names=T,row.names=F,quote=F,sep=\"\\t\") "
   ]
  },
  {
   "cell_type": "code",
   "execution_count": 16,
   "id": "af5d06d4-623f-4b04-86ac-832a987724c4",
   "metadata": {},
   "outputs": [],
   "source": [
    "# Sys.time()"
   ]
  },
  {
   "cell_type": "markdown",
   "id": "fafca2e3-796a-463a-8a3c-28237d5c20e7",
   "metadata": {},
   "source": [
    "#### Single-threaded"
   ]
  },
  {
   "cell_type": "code",
   "execution_count": 17,
   "id": "a157f0db-6051-45e4-81d9-847df60e5aac",
   "metadata": {},
   "outputs": [
    {
     "data": {
      "text/plain": [
       "[1] \"2024-08-28 12:48:08 EDT\""
      ]
     },
     "metadata": {},
     "output_type": "display_data"
    }
   ],
   "source": [
    "Sys.time() # 2024-07-09 10:01:27 EDT"
   ]
  },
  {
   "cell_type": "code",
   "execution_count": 18,
   "id": "a8eccf1e-2cc4-4ba9-b21b-61e44ed8f8d6",
   "metadata": {},
   "outputs": [
    {
     "data": {
      "text/html": [
       "'/dcs04/lieber/statsgen/mnagle/mwas/CpGWAS/scripts/gcta_output'"
      ],
      "text/latex": [
       "'/dcs04/lieber/statsgen/mnagle/mwas/CpGWAS/scripts/gcta\\_output'"
      ],
      "text/markdown": [
       "'/dcs04/lieber/statsgen/mnagle/mwas/CpGWAS/scripts/gcta_output'"
      ],
      "text/plain": [
       "[1] \"/dcs04/lieber/statsgen/mnagle/mwas/CpGWAS/scripts/gcta_output\""
      ]
     },
     "metadata": {},
     "output_type": "display_data"
    }
   ],
   "source": [
    "getwd()"
   ]
  },
  {
   "cell_type": "code",
   "execution_count": null,
   "id": "cc04aa5b-91c6-4cc4-b940-cc616d121b24",
   "metadata": {},
   "outputs": [],
   "source": []
  },
  {
   "cell_type": "code",
   "execution_count": 19,
   "id": "50d7f793-bfeb-4266-924e-8a2862cfdf4c",
   "metadata": {},
   "outputs": [
    {
     "ename": "ERROR",
     "evalue": "Error in eval(expr, envir, enclos): object 'w' not found\n",
     "output_type": "error",
     "traceback": [
      "Error in eval(expr, envir, enclos): object 'w' not found\nTraceback:\n"
     ]
    }
   ],
   "source": [
    "w"
   ]
  },
  {
   "cell_type": "code",
   "execution_count": null,
   "id": "6fcd0f44-a6f7-4381-b54b-b8a83ec22328",
   "metadata": {},
   "outputs": [],
   "source": []
  },
  {
   "cell_type": "code",
   "execution_count": null,
   "id": "365c27f5-3dc7-4ca3-b87a-6358b37e28e8",
   "metadata": {},
   "outputs": [],
   "source": [
    "?system()"
   ]
  },
  {
   "cell_type": "code",
   "execution_count": null,
   "id": "dac75312-ca51-4ecc-80fe-205d04d2f23a",
   "metadata": {},
   "outputs": [],
   "source": [
    "intern <- TRUE"
   ]
  },
  {
   "cell_type": "code",
   "execution_count": null,
   "id": "17854b73-9a5d-4ab3-a84f-68417c0c7bc2",
   "metadata": {
    "tags": []
   },
   "outputs": [],
   "source": [
    "library(data.table)\n",
    "\n",
    "res <- NULL\n",
    "\n",
    "benchmark <- TRUE\n",
    "if (benchmark) {\n",
    "    time_measurements <- list()\n",
    "}\n",
    "\n",
    "for (i in chunk1:chunk2) {\n",
    "    chr <- gsub(\"chr\", \"\", chr)\n",
    "    print(i)\n",
    "\n",
    "    for (w in 1:length(wind)) {\n",
    "        print(wind[w])\n",
    "        if (benchmark) {\n",
    "            start_time <- Sys.time()\n",
    "        }\n",
    "\n",
    "        # PLINK subset\n",
    "        p1 <- ifelse(CpG_positions[i] - wind[w] > 0, CpG_positions[i] - wind[w], 0)\n",
    "        p2 <- CpG_positions[i] + wind[w]\n",
    "        gwas_prefix <- paste0(gwas, \"libd_chr\", chr)\n",
    "        command <- paste(\"/dcs04/lieber/statsgen/mnagle/mwas/CpGWAS/scripts/plink2 --pfile \", gwas_prefix, \"--silent --keep id\",\n",
    "                         \"--chr\", chr,\n",
    "                         \"--from-bp\", p1, \"--to-bp\", p2,\n",
    "                         \"--snps-only 'just-acgt' --make-bed --threads 1 --out temp\",\n",
    "                         sep = \" \")\n",
    "        system(command)\n",
    "        \n",
    "        if (benchmark) {\n",
    "            plink_time <- Sys.time() - start_time\n",
    "            start_time <- Sys.time()\n",
    "        }\n",
    "        \n",
    "        if (!file.exists(\"temp.bim\")) {\n",
    "            print(\"skip this window for this CpG\")\n",
    "            next\n",
    "        }\n",
    "\n",
    "        # Phenotype file\n",
    "        pheno <- cbind(0, ind, p[, i])\n",
    "        write.table(pheno, \"pheno\", col.names = FALSE, row.names = FALSE, quote = FALSE, sep = \"\\t\")\n",
    "\n",
    "        # GRM\n",
    "        command <- paste(gcta, \"--bfile temp --make-grm-bin --thread-num 1 --out temp\", sep = \" \")\n",
    "        c1_out <- system(command, intern = intern)\n",
    "        if(intern) print(c1_out)\n",
    "\n",
    "        if (benchmark) {\n",
    "            grm_time <- Sys.time() - start_time\n",
    "            start_time <- Sys.time()\n",
    "        }\n",
    "\n",
    "        # Heritability estimation\n",
    "        command <- paste(gcta, \"--reml --grm-bin temp --pheno pheno --mpheno 1 --qcovar covs --thread-num 1 --out temp\", sep = \" \")\n",
    "        c2_out <- system(command, intern = intern)\n",
    "        if(intern) print(c2_out)\n",
    "\n",
    "        if (benchmark) {\n",
    "            reml_time <- Sys.time() - start_time\n",
    "        }\n",
    "\n",
    "        if (!file.exists(\"temp.hsq\")) {\n",
    "            stop(\"WTF\")\n",
    "            next\n",
    "        }\n",
    "\n",
    "        # Read and reshape temp\n",
    "        # Assuming temp_before_transpose is already created as shown\n",
    "        temp_before_transpose <- fread(\"temp.hsq\", header = TRUE, fill = TRUE)\n",
    "\n",
    "        # Create a new data frame `temp2` by manually extracting the values using column numbers\n",
    "        temp2 <- list(\n",
    "          V_G = temp_before_transpose[[1, 2]],\n",
    "          SE_V_G = temp_before_transpose[[1, 3]],\n",
    "          V_e = temp_before_transpose[[2, 2]],\n",
    "          SE_V_e = temp_before_transpose[[2, 3]],\n",
    "          Vp = temp_before_transpose[[3, 2]],\n",
    "          SE_Vp = temp_before_transpose[[3, 3]],\n",
    "          V_G_Vp = temp_before_transpose[[4, 2]],\n",
    "          SE_V_G_Vp = temp_before_transpose[[4, 3]],\n",
    "          logL = temp_before_transpose[[5, 2]],\n",
    "          logL0 = temp_before_transpose[[6, 2]],\n",
    "          LRT = temp_before_transpose[[7, 2]],\n",
    "          df = temp_before_transpose[[8, 2]],\n",
    "          Pval = temp_before_transpose[[9, 2]],\n",
    "          n = temp_before_transpose[[10, 2]]\n",
    "        )\n",
    "        \n",
    "        \n",
    "        \n",
    "        temp2$site <- paste0(\"chr\", chr, \"_\", CpG_positions[i])\n",
    "        temp2$wind <- wind[w]\n",
    "        print(as.data.frame(temp2))\n",
    "        \n",
    "        #if(temp2$n <= 1) stop(\"whatttt\")\n",
    "        #if(temp2$V_G == 1) stop(\"what???\")\n",
    "        #if(nrow(temp2) > 1) stop(\"huhh\")\n",
    "        # After creating temp2\n",
    "        if (is.null(temp2) || temp2$n <= 1) {\n",
    "            # Log this issue for further investigation if necessary\n",
    "            cat(\"Skipping invalid row with n =\", temp2$n, \"or incorrect row count\\n\")\n",
    "            next  # Skip this iteration\n",
    "        }\n",
    "\n",
    "        \n",
    "        if (is.null(res)) {\n",
    "            res <- temp2\n",
    "        } else {\n",
    "            res <- rbind(res, temp2)\n",
    "        }\n",
    "\n",
    "        # Remove temp files\n",
    "        system(\"rm temp*\")\n",
    "        \n",
    "        # Collect timing data if benchmarking\n",
    "        if (benchmark) {\n",
    "            time_measurements[[paste0(\"chr\", chr, \"_pos\", CpG_positions[i], \"_wind\", wind[w])]] <- list(plink_time, grm_time, reml_time)\n",
    "        }\n",
    "    }\n",
    "    cat(\"\\n\")\n",
    "}\n",
    "\n",
    "# Convert timing list to a data.table and write to file if benchmarking\n",
    "if (benchmark) {\n",
    "    timing_dt <- rbindlist(lapply(names(time_measurements), function(x) {\n",
    "        list(ID = x, plink_time = time_measurements[[x]][[1]], grm_time = time_measurements[[x]][[2]], reml_time = time_measurements[[x]][[3]])\n",
    "    }), use.names = TRUE, fill = TRUE, idcol = \"ID\")\n",
    "    fwrite(timing_dt, \"timing_measurements.txt\", col.names = TRUE, sep = \"\\t\")\n",
    "}"
   ]
  },
  {
   "cell_type": "code",
   "execution_count": null,
   "id": "4fa8ab28-fbe2-485b-9262-02c95765cb20",
   "metadata": {},
   "outputs": [],
   "source": [
    "temp2 # after reorganizing gcta output, ready to append to results"
   ]
  },
  {
   "cell_type": "code",
   "execution_count": null,
   "id": "c4fe9460-f82f-4f0f-8536-2e9c2056d416",
   "metadata": {},
   "outputs": [],
   "source": [
    "temp_before_transpose # output direct from gcta"
   ]
  },
  {
   "cell_type": "code",
   "execution_count": null,
   "id": "1339d0c1-f2f5-4bc8-bf6a-ce7045e8a1d1",
   "metadata": {},
   "outputs": [],
   "source": [
    "temp2"
   ]
  },
  {
   "cell_type": "code",
   "execution_count": null,
   "id": "ef5ea3f1-819c-4b10-a0c9-93a97b0125e8",
   "metadata": {
    "tags": []
   },
   "outputs": [],
   "source": [
    "# # Convert timing list to a data.table and write to file if benchmarking\n",
    "# if (benchmark) {\n",
    "#     timing_dt <- rbindlist(lapply(names(time_measurements), function(x) {\n",
    "#         list(ID = x, plink_time = time_measurements[[x]][[1]], grm_time = time_measurements[[x]][[2]], reml_time = time_measurements[[x]][[3]])\n",
    "#     }), use.names = TRUE, fill = TRUE, idcol = \"ID\")\n",
    "#     fwrite(timing_dt, \"timing_measurements.txt\", col.names = TRUE, sep = \"\\t\")\n",
    "# }"
   ]
  },
  {
   "cell_type": "code",
   "execution_count": null,
   "id": "e5dfae6e-5826-4408-86f1-9d549050512c",
   "metadata": {},
   "outputs": [],
   "source": [
    "Sys.time() # 2024-07-09 10:22:36 EDT"
   ]
  },
  {
   "cell_type": "code",
   "execution_count": 20,
   "id": "dff02abe-94a5-402e-ada8-426985c0d3c0",
   "metadata": {},
   "outputs": [
    {
     "data": {
      "text/html": [
       "'/dcs04/lieber/statsgen/mnagle/mwas/CpGWAS/scripts/gcta_output'"
      ],
      "text/latex": [
       "'/dcs04/lieber/statsgen/mnagle/mwas/CpGWAS/scripts/gcta\\_output'"
      ],
      "text/markdown": [
       "'/dcs04/lieber/statsgen/mnagle/mwas/CpGWAS/scripts/gcta_output'"
      ],
      "text/plain": [
       "[1] \"/dcs04/lieber/statsgen/mnagle/mwas/CpGWAS/scripts/gcta_output\""
      ]
     },
     "metadata": {},
     "output_type": "display_data"
    }
   ],
   "source": [
    "getwd()"
   ]
  },
  {
   "cell_type": "code",
   "execution_count": 30,
   "id": "78b40bc7-10b0-42bc-9d52-55f20efeacfe",
   "metadata": {},
   "outputs": [
    {
     "data": {
      "text/html": [],
      "text/latex": [],
      "text/markdown": [],
      "text/plain": [
       "character(0)"
      ]
     },
     "metadata": {},
     "output_type": "display_data"
    }
   ],
   "source": [
    "levels(factor(res$wind))"
   ]
  },
  {
   "cell_type": "code",
   "execution_count": 29,
   "id": "aeda928a-84ef-484a-911c-3e0ba886dacc",
   "metadata": {},
   "outputs": [
    {
     "data": {
      "text/plain": [
       "< table of extent 0 >"
      ]
     },
     "metadata": {},
     "output_type": "display_data"
    }
   ],
   "source": [
    "table(res$wind)"
   ]
  },
  {
   "cell_type": "code",
   "execution_count": 36,
   "id": "ca523fb7-23bb-4748-b477-0d8c3c14cb1d",
   "metadata": {},
   "outputs": [
    {
     "data": {
      "text/html": [
       "<table class=\"dataframe\">\n",
       "<caption>A matrix: 50 × 16</caption>\n",
       "<thead>\n",
       "\t<tr><th></th><th scope=col>V_G</th><th scope=col>SE_V_G</th><th scope=col>V_e</th><th scope=col>SE_V_e</th><th scope=col>Vp</th><th scope=col>SE_Vp</th><th scope=col>V_G_Vp</th><th scope=col>SE_V_G_Vp</th><th scope=col>logL</th><th scope=col>logL0</th><th scope=col>LRT</th><th scope=col>df</th><th scope=col>Pval</th><th scope=col>n</th><th scope=col>site</th><th scope=col>wind</th></tr>\n",
       "\t<tr><th></th><th scope=col>&lt;dbl&gt;</th><th scope=col>&lt;dbl&gt;</th><th scope=col>&lt;dbl&gt;</th><th scope=col>&lt;dbl&gt;</th><th scope=col>&lt;dbl&gt;</th><th scope=col>&lt;dbl&gt;</th><th scope=col>&lt;dbl&gt;</th><th scope=col>&lt;dbl&gt;</th><th scope=col>&lt;dbl&gt;</th><th scope=col>&lt;dbl&gt;</th><th scope=col>⋯</th><th scope=col>&lt;dbl&gt;</th><th scope=col>&lt;dbl&gt;</th><th scope=col>&lt;dbl&gt;</th><th scope=col>&lt;dbl&gt;</th><th scope=col>&lt;dbl&gt;</th><th scope=col>&lt;dbl&gt;</th><th scope=col>&lt;dbl&gt;</th><th scope=col>&lt;dbl&gt;</th><th scope=col>&lt;dbl&gt;</th><th scope=col>&lt;dbl&gt;</th></tr>\n",
       "</thead>\n",
       "<tbody>\n",
       "\t<tr><th scope=row>res</th><td>   5e-06</td><td> 1.2e-05</td><td>0.000265</td><td> 3.2e-05</td><td>0.000269</td><td> 3.2e-05</td><td>0.017715</td><td>0.044797</td><td>449.782</td><td>449.697</td><td>0.169</td><td>1</td><td>  0.34039</td><td>164</td><td>chr1_792731</td><td>1e+06</td></tr>\n",
       "\t<tr><th scope=row>temp2</th><td>   4e-06</td><td> 1.2e-05</td><td>0.000272</td><td> 3.3e-05</td><td>0.000277</td><td> 3.2e-05</td><td>0.016255</td><td>0.043039</td><td>447.799</td><td>447.716</td><td>0.167</td><td>1</td><td>  0.34122</td><td>164</td><td>chr1_792910</td><td>1e+06</td></tr>\n",
       "\t<tr><th scope=row>temp2</th><td>   5e-06</td><td> 1.3e-05</td><td>0.000278</td><td> 3.4e-05</td><td>0.000284</td><td> 3.3e-05</td><td> 0.01904</td><td> 0.04437</td><td>446.034</td><td>445.917</td><td>0.234</td><td>1</td><td>  0.31439</td><td>164</td><td>chr1_792972</td><td>1e+06</td></tr>\n",
       "\t<tr><th scope=row>temp2</th><td>   6e-06</td><td> 1.3e-05</td><td>0.000284</td><td> 3.5e-05</td><td> 0.00029</td><td> 3.4e-05</td><td>0.020028</td><td> 0.04478</td><td>444.414</td><td>444.284</td><td>0.261</td><td>1</td><td>  0.30466</td><td>164</td><td>chr1_793022</td><td>1e+06</td></tr>\n",
       "\t<tr><th scope=row>temp2</th><td>   8e-06</td><td> 1.6e-05</td><td>0.000316</td><td> 3.9e-05</td><td>0.000324</td><td> 3.8e-05</td><td>0.025539</td><td> 0.04751</td><td>436.374</td><td>436.163</td><td>0.422</td><td>1</td><td>  0.25809</td><td>164</td><td>chr1_793225</td><td>1e+06</td></tr>\n",
       "\t<tr><th scope=row>temp2</th><td> 1.5e-05</td><td> 2.3e-05</td><td>0.000422</td><td> 5.2e-05</td><td>0.000437</td><td> 5.1e-05</td><td>0.035222</td><td>0.051507</td><td>414.493</td><td> 414.07</td><td>0.845</td><td>1</td><td>  0.17894</td><td>164</td><td>chr1_793543</td><td>1e+06</td></tr>\n",
       "\t<tr><th scope=row>temp2</th><td> 1.9e-05</td><td> 2.7e-05</td><td>0.000476</td><td> 5.8e-05</td><td>0.000495</td><td> 5.8e-05</td><td>0.039206</td><td>0.053202</td><td> 405.48</td><td>404.951</td><td>1.058</td><td>1</td><td>  0.15187</td><td>164</td><td>chr1_793635</td><td>1e+06</td></tr>\n",
       "\t<tr><th scope=row>temp2</th><td> 2.9e-05</td><td> 3.5e-05</td><td>0.000572</td><td>   7e-05</td><td>0.000601</td><td> 7.1e-05</td><td>0.047921</td><td>0.057098</td><td>391.484</td><td>390.705</td><td>1.559</td><td>1</td><td>  0.10593</td><td>164</td><td>chr1_793771</td><td>1e+06</td></tr>\n",
       "\t<tr><th scope=row>temp2</th><td> 4.5e-05</td><td> 4.8e-05</td><td>0.000695</td><td> 8.6e-05</td><td> 0.00074</td><td> 8.8e-05</td><td>0.060861</td><td>0.062803</td><td>376.471</td><td>375.268</td><td>2.405</td><td>1</td><td> 0.060473</td><td>164</td><td>chr1_793919</td><td>1e+06</td></tr>\n",
       "\t<tr><th scope=row>temp2</th><td> 5.1e-05</td><td> 5.2e-05</td><td>0.000734</td><td> 9.1e-05</td><td>0.000785</td><td> 9.4e-05</td><td>0.064429</td><td>0.064348</td><td>372.293</td><td>370.965</td><td>2.657</td><td>1</td><td> 0.051562</td><td>164</td><td>chr1_793959</td><td>1e+06</td></tr>\n",
       "\t<tr><th scope=row>temp2</th><td>0.000127</td><td>0.000111</td><td>0.001253</td><td>0.000157</td><td> 0.00138</td><td>0.000169</td><td>0.092272</td><td>0.076182</td><td>331.696</td><td>329.343</td><td>4.705</td><td>1</td><td> 0.015034</td><td>164</td><td>chr1_794340</td><td>1e+06</td></tr>\n",
       "\t<tr><th scope=row>temp2</th><td> 0.00016</td><td>0.000136</td><td> 0.00147</td><td>0.000185</td><td> 0.00163</td><td>0.000201</td><td>0.098201</td><td>0.078634</td><td>319.704</td><td>317.116</td><td>5.175</td><td>1</td><td> 0.011456</td><td>164</td><td>chr1_794472</td><td>1e+06</td></tr>\n",
       "\t<tr><th scope=row>temp2</th><td>0.000169</td><td>0.000142</td><td>0.001528</td><td>0.000192</td><td>0.001696</td><td>0.000209</td><td>0.099451</td><td> 0.07914</td><td>316.808</td><td>314.168</td><td> 5.28</td><td>1</td><td> 0.010785</td><td>164</td><td>chr1_794508</td><td>1e+06</td></tr>\n",
       "\t<tr><th scope=row>temp2</th><td>0.000174</td><td>0.000146</td><td>0.001562</td><td>0.000197</td><td>0.001736</td><td>0.000214</td><td>0.100142</td><td>0.079416</td><td>315.128</td><td>312.458</td><td> 5.34</td><td>1</td><td> 0.010422</td><td>164</td><td>chr1_794530</td><td>1e+06</td></tr>\n",
       "\t<tr><th scope=row>temp2</th><td>0.000182</td><td>0.000153</td><td> 0.00162</td><td>0.000204</td><td>0.001803</td><td>0.000223</td><td>0.101209</td><td>0.079836</td><td>312.395</td><td>309.677</td><td>5.435</td><td>1</td><td>0.0098657</td><td>164</td><td>chr1_794568</td><td>1e+06</td></tr>\n",
       "\t<tr><th scope=row>temp2</th><td>0.000185</td><td>0.000155</td><td>0.001638</td><td>0.000207</td><td>0.001823</td><td>0.000225</td><td>0.101513</td><td>0.079953</td><td>311.578</td><td>308.846</td><td>5.464</td><td>1</td><td> 0.009707</td><td>164</td><td>chr1_794580</td><td>1e+06</td></tr>\n",
       "\t<tr><th scope=row>temp2</th><td>0.000223</td><td>0.000185</td><td>0.001982</td><td>0.000249</td><td>0.002204</td><td>0.000272</td><td> 0.10097</td><td>0.078935</td><td>297.619</td><td> 294.74</td><td>5.756</td><td>1</td><td>0.0082153</td><td>164</td><td>chr1_794992</td><td>1e+06</td></tr>\n",
       "\t<tr><th scope=row>temp2</th><td>0.000216</td><td>0.000182</td><td>0.002005</td><td>0.000252</td><td>0.002221</td><td>0.000273</td><td>0.097451</td><td>0.077405</td><td>296.924</td><td>294.171</td><td>5.506</td><td>1</td><td> 0.009475</td><td>164</td><td>chr1_795073</td><td>1e+06</td></tr>\n",
       "\t<tr><th scope=row>temp2</th><td>0.000215</td><td>0.000181</td><td> 0.00201</td><td>0.000252</td><td>0.002224</td><td>0.000273</td><td>0.096493</td><td>0.077003</td><td>296.781</td><td>294.066</td><td>5.431</td><td>1</td><td>0.0098925</td><td>164</td><td>chr1_795094</td><td>1e+06</td></tr>\n",
       "\t<tr><th scope=row>temp2</th><td>0.000214</td><td>0.000181</td><td>0.002011</td><td>0.000253</td><td>0.002225</td><td>0.000273</td><td>0.096214</td><td>0.076886</td><td>296.743</td><td>294.039</td><td>5.408</td><td>1</td><td>  0.01002</td><td>164</td><td>chr1_795100</td><td>1e+06</td></tr>\n",
       "\t<tr><th scope=row>temp2</th><td>0.000208</td><td>0.000178</td><td>0.002026</td><td>0.000254</td><td>0.002233</td><td>0.000273</td><td>0.092934</td><td>0.075534</td><td>296.357</td><td>293.788</td><td>5.139</td><td>1</td><td> 0.011698</td><td>164</td><td>chr1_795166</td><td>1e+06</td></tr>\n",
       "\t<tr><th scope=row>temp2</th><td>0.000183</td><td>0.000167</td><td>0.002067</td><td>0.000258</td><td> 0.00225</td><td>0.000273</td><td>0.081194</td><td>0.070846</td><td>295.401</td><td>293.335</td><td>4.131</td><td>1</td><td> 0.021054</td><td>164</td><td>chr1_795362</td><td>1e+06</td></tr>\n",
       "\t<tr><th scope=row>temp2</th><td>0.000181</td><td>0.000166</td><td>0.002071</td><td>0.000258</td><td>0.002252</td><td>0.000273</td><td>0.080231</td><td>0.070461</td><td>295.306</td><td>293.282</td><td>4.048</td><td>1</td><td> 0.022113</td><td>164</td><td>chr1_795377</td><td>1e+06</td></tr>\n",
       "\t<tr><th scope=row>temp2</th><td>0.000177</td><td>0.000164</td><td>0.002078</td><td>0.000259</td><td>0.002255</td><td>0.000273</td><td>0.078612</td><td>0.069814</td><td>295.139</td><td>293.184</td><td>3.909</td><td>1</td><td> 0.024015</td><td>164</td><td>chr1_795402</td><td>1e+06</td></tr>\n",
       "\t<tr><th scope=row>temp2</th><td>0.000169</td><td>0.000161</td><td>0.002097</td><td>0.000261</td><td>0.002266</td><td>0.000273</td><td>0.074532</td><td>0.068177</td><td>294.665</td><td>292.884</td><td>3.562</td><td>1</td><td> 0.029553</td><td>164</td><td>chr1_795464</td><td>1e+06</td></tr>\n",
       "\t<tr><th scope=row>temp2</th><td>0.000146</td><td>0.000151</td><td>0.002162</td><td>0.000268</td><td>0.002308</td><td>0.000276</td><td>0.063044</td><td>0.063528</td><td>292.948</td><td>291.633</td><td>2.629</td><td>1</td><td> 0.052448</td><td>164</td><td>chr1_795635</td><td>1e+06</td></tr>\n",
       "\t<tr><th scope=row>temp2</th><td> 0.00014</td><td>0.000149</td><td>0.002181</td><td> 0.00027</td><td>0.002321</td><td>0.000277</td><td> 0.06029</td><td>0.062403</td><td>292.452</td><td>291.243</td><td>2.418</td><td>1</td><td> 0.059961</td><td>164</td><td>chr1_795676</td><td>1e+06</td></tr>\n",
       "\t<tr><th scope=row>temp2</th><td>0.000139</td><td>0.000149</td><td>0.002184</td><td> 0.00027</td><td>0.002323</td><td>0.000277</td><td>0.059888</td><td>0.062239</td><td>292.377</td><td>291.183</td><td>2.388</td><td>1</td><td> 0.061136</td><td>164</td><td>chr1_795682</td><td>1e+06</td></tr>\n",
       "\t<tr><th scope=row>temp2</th><td>0.000135</td><td>0.000147</td><td>  0.0022</td><td>0.000272</td><td>0.002335</td><td>0.000278</td><td>0.057614</td><td>0.061307</td><td> 291.94</td><td> 290.83</td><td>2.219</td><td>1</td><td> 0.068168</td><td>164</td><td>chr1_795716</td><td>1e+06</td></tr>\n",
       "\t<tr><th scope=row>temp2</th><td>0.000132</td><td>0.000146</td><td>0.002211</td><td>0.000273</td><td>0.002343</td><td>0.000279</td><td>0.056151</td><td>0.060707</td><td>291.646</td><td> 290.59</td><td>2.112</td><td>1</td><td> 0.073062</td><td>164</td><td>chr1_795738</td><td>1e+06</td></tr>\n",
       "\t<tr><th scope=row>temp2</th><td>0.000127</td><td>0.000144</td><td> 0.00223</td><td>0.000276</td><td>0.002357</td><td> 0.00028</td><td>0.053771</td><td>0.059727</td><td> 291.15</td><td>290.179</td><td>1.943</td><td>1</td><td> 0.081678</td><td>164</td><td>chr1_795774</td><td>1e+06</td></tr>\n",
       "\t<tr><th scope=row>temp2</th><td>0.000118</td><td>0.000141</td><td>0.002266</td><td> 0.00028</td><td>0.002384</td><td>0.000282</td><td>0.049387</td><td>0.057913</td><td>290.181</td><td>289.358</td><td>1.645</td><td>1</td><td>  0.09979</td><td>164</td><td>chr1_795841</td><td>1e+06</td></tr>\n",
       "\t<tr><th scope=row>temp2</th><td>0.000112</td><td>0.000139</td><td>0.002291</td><td>0.000282</td><td>0.002403</td><td>0.000284</td><td>0.046611</td><td>0.056737</td><td>289.534</td><td>  288.8</td><td>1.468</td><td>1</td><td>  0.11286</td><td>164</td><td>chr1_795884</td><td>1e+06</td></tr>\n",
       "\t<tr><th scope=row>temp2</th><td>0.000108</td><td>0.000138</td><td>0.002307</td><td>0.000284</td><td>0.002415</td><td>0.000285</td><td>0.044818</td><td>0.055984</td><td>289.104</td><td>288.425</td><td>1.358</td><td>1</td><td>  0.12198</td><td>164</td><td>chr1_795912</td><td>1e+06</td></tr>\n",
       "\t<tr><th scope=row>temp2</th><td> 7.4e-05</td><td>0.000126</td><td>0.002465</td><td>0.000302</td><td>0.002539</td><td>0.000298</td><td>0.029137</td><td>0.049115</td><td>285.101</td><td>284.817</td><td>0.568</td><td>1</td><td>  0.22547</td><td>164</td><td>chr1_796163</td><td>1e+06</td></tr>\n",
       "\t<tr><th scope=row>temp2</th><td> 7.1e-05</td><td>0.000125</td><td>0.002479</td><td>0.000304</td><td> 0.00255</td><td>0.000299</td><td>0.027782</td><td>0.048487</td><td>284.753</td><td>284.495</td><td>0.516</td><td>1</td><td>  0.23636</td><td>164</td><td>chr1_796185</td><td>1e+06</td></tr>\n",
       "\t<tr><th scope=row>temp2</th><td>   6e-05</td><td> 0.00012</td><td> 0.00253</td><td> 0.00031</td><td>0.002589</td><td>0.000303</td><td>0.022982</td><td>0.046195</td><td>283.545</td><td> 283.37</td><td> 0.35</td><td>1</td><td>   0.2771</td><td>164</td><td>chr1_796263</td><td>1e+06</td></tr>\n",
       "\t<tr><th scope=row>temp2</th><td>   5e-05</td><td>0.000116</td><td> 0.00257</td><td>0.000314</td><td> 0.00262</td><td>0.000306</td><td>0.019042</td><td>0.044223</td><td>282.605</td><td>282.486</td><td>0.238</td><td>1</td><td>  0.31281</td><td>164</td><td>chr1_796327</td><td>1e+06</td></tr>\n",
       "\t<tr><th scope=row>temp2</th><td> 4.5e-05</td><td>0.000114</td><td>0.002591</td><td>0.000317</td><td>0.002636</td><td>0.000308</td><td>0.017007</td><td>0.043168</td><td>282.142</td><td>282.048</td><td>0.189</td><td>1</td><td>  0.33193</td><td>164</td><td>chr1_796360</td><td>1e+06</td></tr>\n",
       "\t<tr><th scope=row>temp2</th><td> 3.1e-05</td><td>0.000108</td><td>0.002644</td><td>0.000322</td><td>0.002675</td><td>0.000312</td><td>0.011626</td><td>0.040231</td><td>281.009</td><td>280.966</td><td>0.087</td><td>1</td><td>   0.3842</td><td>164</td><td>chr1_796447</td><td>1e+06</td></tr>\n",
       "\t<tr><th scope=row>temp2</th><td> 1.4e-05</td><td> 9.9e-05</td><td>0.002701</td><td>0.000329</td><td>0.002715</td><td>0.000317</td><td>0.005186</td><td>0.036444</td><td>279.863</td><td>279.855</td><td>0.017</td><td>1</td><td>  0.44861</td><td>164</td><td>chr1_796550</td><td>1e+06</td></tr>\n",
       "\t<tr><th scope=row>temp2</th><td>       0</td><td> 9.7e-05</td><td>0.002768</td><td>0.000336</td><td>0.002768</td><td>0.000323</td><td>   1e-06</td><td>0.035048</td><td>278.414</td><td>278.414</td><td>    0</td><td>1</td><td>      0.5</td><td>164</td><td>chr1_796747</td><td>1e+06</td></tr>\n",
       "\t<tr><th scope=row>temp2</th><td>       0</td><td> 9.9e-05</td><td>0.002774</td><td>0.000337</td><td>0.002774</td><td>0.000324</td><td>   1e-06</td><td>0.035808</td><td>278.252</td><td>278.252</td><td>    0</td><td>1</td><td>      0.5</td><td>164</td><td>chr1_796793</td><td>1e+06</td></tr>\n",
       "\t<tr><th scope=row>temp2</th><td>       0</td><td> 9.9e-05</td><td>0.002774</td><td>0.000337</td><td>0.002774</td><td>0.000324</td><td>   1e-06</td><td>0.035841</td><td>278.247</td><td>278.247</td><td>    0</td><td>1</td><td>      0.5</td><td>164</td><td>chr1_796795</td><td>1e+06</td></tr>\n",
       "\t<tr><th scope=row>temp2</th><td>       0</td><td>   1e-04</td><td>0.002774</td><td>0.000337</td><td>0.002774</td><td>0.000324</td><td>   1e-06</td><td>0.035907</td><td>278.238</td><td>278.238</td><td>    0</td><td>1</td><td>      0.5</td><td>164</td><td>chr1_796799</td><td>1e+06</td></tr>\n",
       "\t<tr><th scope=row>temp2</th><td>       0</td><td>0.000101</td><td>0.002775</td><td>0.000337</td><td>0.002775</td><td>0.000324</td><td>   1e-06</td><td>0.036222</td><td>278.204</td><td>278.204</td><td>    0</td><td>1</td><td>      0.5</td><td>164</td><td>chr1_796818</td><td>1e+06</td></tr>\n",
       "\t<tr><th scope=row>temp2</th><td>       0</td><td>0.000111</td><td>0.002748</td><td>0.000334</td><td>0.002748</td><td>0.000321</td><td>   1e-06</td><td>0.040518</td><td>278.739</td><td>278.739</td><td>    0</td><td>1</td><td>      0.5</td><td>164</td><td>chr1_797103</td><td>1e+06</td></tr>\n",
       "\t<tr><th scope=row>temp2</th><td>       0</td><td>0.000115</td><td>0.002743</td><td>0.000333</td><td>0.002743</td><td> 0.00032</td><td>   1e-06</td><td>0.041918</td><td>278.798</td><td>278.799</td><td>    0</td><td>1</td><td>      0.5</td><td>164</td><td>chr1_797308</td><td>1e+06</td></tr>\n",
       "\t<tr><th scope=row>temp2</th><td>       0</td><td>0.000115</td><td>0.002864</td><td>0.000348</td><td>0.002864</td><td>0.000334</td><td>   1e-06</td><td>0.040266</td><td>275.721</td><td>275.721</td><td>    0</td><td>1</td><td>      0.5</td><td>164</td><td>chr1_797590</td><td>1e+06</td></tr>\n",
       "\t<tr><th scope=row>temp2</th><td>       0</td><td>0.000114</td><td>0.003017</td><td>0.000366</td><td>0.003017</td><td>0.000352</td><td>   1e-06</td><td>0.037944</td><td>271.993</td><td>271.993</td><td>    0</td><td>1</td><td>      0.5</td><td>164</td><td>chr1_797744</td><td>1e+06</td></tr>\n",
       "</tbody>\n",
       "</table>\n"
      ],
      "text/latex": [
       "A matrix: 50 × 16\n",
       "\\begin{tabular}{r|llllllllllllllll}\n",
       "  & V\\_G & SE\\_V\\_G & V\\_e & SE\\_V\\_e & Vp & SE\\_Vp & V\\_G\\_Vp & SE\\_V\\_G\\_Vp & logL & logL0 & LRT & df & Pval & n & site & wind\\\\\n",
       "  & <dbl> & <dbl> & <dbl> & <dbl> & <dbl> & <dbl> & <dbl> & <dbl> & <dbl> & <dbl> & ⋯ & <dbl> & <dbl> & <dbl> & <dbl> & <dbl> & <dbl> & <dbl> & <dbl> & <dbl> & <dbl>\\\\\n",
       "\\hline\n",
       "\tres &    5e-06 &  1.2e-05 & 0.000265 &  3.2e-05 & 0.000269 &  3.2e-05 & 0.017715 & 0.044797 & 449.782 & 449.697 & 0.169 & 1 &   0.34039 & 164 & chr1\\_792731 & 1e+06\\\\\n",
       "\ttemp2 &    4e-06 &  1.2e-05 & 0.000272 &  3.3e-05 & 0.000277 &  3.2e-05 & 0.016255 & 0.043039 & 447.799 & 447.716 & 0.167 & 1 &   0.34122 & 164 & chr1\\_792910 & 1e+06\\\\\n",
       "\ttemp2 &    5e-06 &  1.3e-05 & 0.000278 &  3.4e-05 & 0.000284 &  3.3e-05 &  0.01904 &  0.04437 & 446.034 & 445.917 & 0.234 & 1 &   0.31439 & 164 & chr1\\_792972 & 1e+06\\\\\n",
       "\ttemp2 &    6e-06 &  1.3e-05 & 0.000284 &  3.5e-05 &  0.00029 &  3.4e-05 & 0.020028 &  0.04478 & 444.414 & 444.284 & 0.261 & 1 &   0.30466 & 164 & chr1\\_793022 & 1e+06\\\\\n",
       "\ttemp2 &    8e-06 &  1.6e-05 & 0.000316 &  3.9e-05 & 0.000324 &  3.8e-05 & 0.025539 &  0.04751 & 436.374 & 436.163 & 0.422 & 1 &   0.25809 & 164 & chr1\\_793225 & 1e+06\\\\\n",
       "\ttemp2 &  1.5e-05 &  2.3e-05 & 0.000422 &  5.2e-05 & 0.000437 &  5.1e-05 & 0.035222 & 0.051507 & 414.493 &  414.07 & 0.845 & 1 &   0.17894 & 164 & chr1\\_793543 & 1e+06\\\\\n",
       "\ttemp2 &  1.9e-05 &  2.7e-05 & 0.000476 &  5.8e-05 & 0.000495 &  5.8e-05 & 0.039206 & 0.053202 &  405.48 & 404.951 & 1.058 & 1 &   0.15187 & 164 & chr1\\_793635 & 1e+06\\\\\n",
       "\ttemp2 &  2.9e-05 &  3.5e-05 & 0.000572 &    7e-05 & 0.000601 &  7.1e-05 & 0.047921 & 0.057098 & 391.484 & 390.705 & 1.559 & 1 &   0.10593 & 164 & chr1\\_793771 & 1e+06\\\\\n",
       "\ttemp2 &  4.5e-05 &  4.8e-05 & 0.000695 &  8.6e-05 &  0.00074 &  8.8e-05 & 0.060861 & 0.062803 & 376.471 & 375.268 & 2.405 & 1 &  0.060473 & 164 & chr1\\_793919 & 1e+06\\\\\n",
       "\ttemp2 &  5.1e-05 &  5.2e-05 & 0.000734 &  9.1e-05 & 0.000785 &  9.4e-05 & 0.064429 & 0.064348 & 372.293 & 370.965 & 2.657 & 1 &  0.051562 & 164 & chr1\\_793959 & 1e+06\\\\\n",
       "\ttemp2 & 0.000127 & 0.000111 & 0.001253 & 0.000157 &  0.00138 & 0.000169 & 0.092272 & 0.076182 & 331.696 & 329.343 & 4.705 & 1 &  0.015034 & 164 & chr1\\_794340 & 1e+06\\\\\n",
       "\ttemp2 &  0.00016 & 0.000136 &  0.00147 & 0.000185 &  0.00163 & 0.000201 & 0.098201 & 0.078634 & 319.704 & 317.116 & 5.175 & 1 &  0.011456 & 164 & chr1\\_794472 & 1e+06\\\\\n",
       "\ttemp2 & 0.000169 & 0.000142 & 0.001528 & 0.000192 & 0.001696 & 0.000209 & 0.099451 &  0.07914 & 316.808 & 314.168 &  5.28 & 1 &  0.010785 & 164 & chr1\\_794508 & 1e+06\\\\\n",
       "\ttemp2 & 0.000174 & 0.000146 & 0.001562 & 0.000197 & 0.001736 & 0.000214 & 0.100142 & 0.079416 & 315.128 & 312.458 &  5.34 & 1 &  0.010422 & 164 & chr1\\_794530 & 1e+06\\\\\n",
       "\ttemp2 & 0.000182 & 0.000153 &  0.00162 & 0.000204 & 0.001803 & 0.000223 & 0.101209 & 0.079836 & 312.395 & 309.677 & 5.435 & 1 & 0.0098657 & 164 & chr1\\_794568 & 1e+06\\\\\n",
       "\ttemp2 & 0.000185 & 0.000155 & 0.001638 & 0.000207 & 0.001823 & 0.000225 & 0.101513 & 0.079953 & 311.578 & 308.846 & 5.464 & 1 &  0.009707 & 164 & chr1\\_794580 & 1e+06\\\\\n",
       "\ttemp2 & 0.000223 & 0.000185 & 0.001982 & 0.000249 & 0.002204 & 0.000272 &  0.10097 & 0.078935 & 297.619 &  294.74 & 5.756 & 1 & 0.0082153 & 164 & chr1\\_794992 & 1e+06\\\\\n",
       "\ttemp2 & 0.000216 & 0.000182 & 0.002005 & 0.000252 & 0.002221 & 0.000273 & 0.097451 & 0.077405 & 296.924 & 294.171 & 5.506 & 1 &  0.009475 & 164 & chr1\\_795073 & 1e+06\\\\\n",
       "\ttemp2 & 0.000215 & 0.000181 &  0.00201 & 0.000252 & 0.002224 & 0.000273 & 0.096493 & 0.077003 & 296.781 & 294.066 & 5.431 & 1 & 0.0098925 & 164 & chr1\\_795094 & 1e+06\\\\\n",
       "\ttemp2 & 0.000214 & 0.000181 & 0.002011 & 0.000253 & 0.002225 & 0.000273 & 0.096214 & 0.076886 & 296.743 & 294.039 & 5.408 & 1 &   0.01002 & 164 & chr1\\_795100 & 1e+06\\\\\n",
       "\ttemp2 & 0.000208 & 0.000178 & 0.002026 & 0.000254 & 0.002233 & 0.000273 & 0.092934 & 0.075534 & 296.357 & 293.788 & 5.139 & 1 &  0.011698 & 164 & chr1\\_795166 & 1e+06\\\\\n",
       "\ttemp2 & 0.000183 & 0.000167 & 0.002067 & 0.000258 &  0.00225 & 0.000273 & 0.081194 & 0.070846 & 295.401 & 293.335 & 4.131 & 1 &  0.021054 & 164 & chr1\\_795362 & 1e+06\\\\\n",
       "\ttemp2 & 0.000181 & 0.000166 & 0.002071 & 0.000258 & 0.002252 & 0.000273 & 0.080231 & 0.070461 & 295.306 & 293.282 & 4.048 & 1 &  0.022113 & 164 & chr1\\_795377 & 1e+06\\\\\n",
       "\ttemp2 & 0.000177 & 0.000164 & 0.002078 & 0.000259 & 0.002255 & 0.000273 & 0.078612 & 0.069814 & 295.139 & 293.184 & 3.909 & 1 &  0.024015 & 164 & chr1\\_795402 & 1e+06\\\\\n",
       "\ttemp2 & 0.000169 & 0.000161 & 0.002097 & 0.000261 & 0.002266 & 0.000273 & 0.074532 & 0.068177 & 294.665 & 292.884 & 3.562 & 1 &  0.029553 & 164 & chr1\\_795464 & 1e+06\\\\\n",
       "\ttemp2 & 0.000146 & 0.000151 & 0.002162 & 0.000268 & 0.002308 & 0.000276 & 0.063044 & 0.063528 & 292.948 & 291.633 & 2.629 & 1 &  0.052448 & 164 & chr1\\_795635 & 1e+06\\\\\n",
       "\ttemp2 &  0.00014 & 0.000149 & 0.002181 &  0.00027 & 0.002321 & 0.000277 &  0.06029 & 0.062403 & 292.452 & 291.243 & 2.418 & 1 &  0.059961 & 164 & chr1\\_795676 & 1e+06\\\\\n",
       "\ttemp2 & 0.000139 & 0.000149 & 0.002184 &  0.00027 & 0.002323 & 0.000277 & 0.059888 & 0.062239 & 292.377 & 291.183 & 2.388 & 1 &  0.061136 & 164 & chr1\\_795682 & 1e+06\\\\\n",
       "\ttemp2 & 0.000135 & 0.000147 &   0.0022 & 0.000272 & 0.002335 & 0.000278 & 0.057614 & 0.061307 &  291.94 &  290.83 & 2.219 & 1 &  0.068168 & 164 & chr1\\_795716 & 1e+06\\\\\n",
       "\ttemp2 & 0.000132 & 0.000146 & 0.002211 & 0.000273 & 0.002343 & 0.000279 & 0.056151 & 0.060707 & 291.646 &  290.59 & 2.112 & 1 &  0.073062 & 164 & chr1\\_795738 & 1e+06\\\\\n",
       "\ttemp2 & 0.000127 & 0.000144 &  0.00223 & 0.000276 & 0.002357 &  0.00028 & 0.053771 & 0.059727 &  291.15 & 290.179 & 1.943 & 1 &  0.081678 & 164 & chr1\\_795774 & 1e+06\\\\\n",
       "\ttemp2 & 0.000118 & 0.000141 & 0.002266 &  0.00028 & 0.002384 & 0.000282 & 0.049387 & 0.057913 & 290.181 & 289.358 & 1.645 & 1 &   0.09979 & 164 & chr1\\_795841 & 1e+06\\\\\n",
       "\ttemp2 & 0.000112 & 0.000139 & 0.002291 & 0.000282 & 0.002403 & 0.000284 & 0.046611 & 0.056737 & 289.534 &   288.8 & 1.468 & 1 &   0.11286 & 164 & chr1\\_795884 & 1e+06\\\\\n",
       "\ttemp2 & 0.000108 & 0.000138 & 0.002307 & 0.000284 & 0.002415 & 0.000285 & 0.044818 & 0.055984 & 289.104 & 288.425 & 1.358 & 1 &   0.12198 & 164 & chr1\\_795912 & 1e+06\\\\\n",
       "\ttemp2 &  7.4e-05 & 0.000126 & 0.002465 & 0.000302 & 0.002539 & 0.000298 & 0.029137 & 0.049115 & 285.101 & 284.817 & 0.568 & 1 &   0.22547 & 164 & chr1\\_796163 & 1e+06\\\\\n",
       "\ttemp2 &  7.1e-05 & 0.000125 & 0.002479 & 0.000304 &  0.00255 & 0.000299 & 0.027782 & 0.048487 & 284.753 & 284.495 & 0.516 & 1 &   0.23636 & 164 & chr1\\_796185 & 1e+06\\\\\n",
       "\ttemp2 &    6e-05 &  0.00012 &  0.00253 &  0.00031 & 0.002589 & 0.000303 & 0.022982 & 0.046195 & 283.545 &  283.37 &  0.35 & 1 &    0.2771 & 164 & chr1\\_796263 & 1e+06\\\\\n",
       "\ttemp2 &    5e-05 & 0.000116 &  0.00257 & 0.000314 &  0.00262 & 0.000306 & 0.019042 & 0.044223 & 282.605 & 282.486 & 0.238 & 1 &   0.31281 & 164 & chr1\\_796327 & 1e+06\\\\\n",
       "\ttemp2 &  4.5e-05 & 0.000114 & 0.002591 & 0.000317 & 0.002636 & 0.000308 & 0.017007 & 0.043168 & 282.142 & 282.048 & 0.189 & 1 &   0.33193 & 164 & chr1\\_796360 & 1e+06\\\\\n",
       "\ttemp2 &  3.1e-05 & 0.000108 & 0.002644 & 0.000322 & 0.002675 & 0.000312 & 0.011626 & 0.040231 & 281.009 & 280.966 & 0.087 & 1 &    0.3842 & 164 & chr1\\_796447 & 1e+06\\\\\n",
       "\ttemp2 &  1.4e-05 &  9.9e-05 & 0.002701 & 0.000329 & 0.002715 & 0.000317 & 0.005186 & 0.036444 & 279.863 & 279.855 & 0.017 & 1 &   0.44861 & 164 & chr1\\_796550 & 1e+06\\\\\n",
       "\ttemp2 &        0 &  9.7e-05 & 0.002768 & 0.000336 & 0.002768 & 0.000323 &    1e-06 & 0.035048 & 278.414 & 278.414 &     0 & 1 &       0.5 & 164 & chr1\\_796747 & 1e+06\\\\\n",
       "\ttemp2 &        0 &  9.9e-05 & 0.002774 & 0.000337 & 0.002774 & 0.000324 &    1e-06 & 0.035808 & 278.252 & 278.252 &     0 & 1 &       0.5 & 164 & chr1\\_796793 & 1e+06\\\\\n",
       "\ttemp2 &        0 &  9.9e-05 & 0.002774 & 0.000337 & 0.002774 & 0.000324 &    1e-06 & 0.035841 & 278.247 & 278.247 &     0 & 1 &       0.5 & 164 & chr1\\_796795 & 1e+06\\\\\n",
       "\ttemp2 &        0 &    1e-04 & 0.002774 & 0.000337 & 0.002774 & 0.000324 &    1e-06 & 0.035907 & 278.238 & 278.238 &     0 & 1 &       0.5 & 164 & chr1\\_796799 & 1e+06\\\\\n",
       "\ttemp2 &        0 & 0.000101 & 0.002775 & 0.000337 & 0.002775 & 0.000324 &    1e-06 & 0.036222 & 278.204 & 278.204 &     0 & 1 &       0.5 & 164 & chr1\\_796818 & 1e+06\\\\\n",
       "\ttemp2 &        0 & 0.000111 & 0.002748 & 0.000334 & 0.002748 & 0.000321 &    1e-06 & 0.040518 & 278.739 & 278.739 &     0 & 1 &       0.5 & 164 & chr1\\_797103 & 1e+06\\\\\n",
       "\ttemp2 &        0 & 0.000115 & 0.002743 & 0.000333 & 0.002743 &  0.00032 &    1e-06 & 0.041918 & 278.798 & 278.799 &     0 & 1 &       0.5 & 164 & chr1\\_797308 & 1e+06\\\\\n",
       "\ttemp2 &        0 & 0.000115 & 0.002864 & 0.000348 & 0.002864 & 0.000334 &    1e-06 & 0.040266 & 275.721 & 275.721 &     0 & 1 &       0.5 & 164 & chr1\\_797590 & 1e+06\\\\\n",
       "\ttemp2 &        0 & 0.000114 & 0.003017 & 0.000366 & 0.003017 & 0.000352 &    1e-06 & 0.037944 & 271.993 & 271.993 &     0 & 1 &       0.5 & 164 & chr1\\_797744 & 1e+06\\\\\n",
       "\\end{tabular}\n"
      ],
      "text/markdown": [
       "\n",
       "A matrix: 50 × 16\n",
       "\n",
       "| <!--/--> | V_G &lt;dbl&gt; | SE_V_G &lt;dbl&gt; | V_e &lt;dbl&gt; | SE_V_e &lt;dbl&gt; | Vp &lt;dbl&gt; | SE_Vp &lt;dbl&gt; | V_G_Vp &lt;dbl&gt; | SE_V_G_Vp &lt;dbl&gt; | logL &lt;dbl&gt; | logL0 &lt;dbl&gt; | LRT ⋯ | df &lt;dbl&gt; | Pval &lt;dbl&gt; | n &lt;dbl&gt; | site &lt;dbl&gt; | wind &lt;dbl&gt; | V_G &lt;dbl&gt; | SE_V_G &lt;dbl&gt; | V_e &lt;dbl&gt; | SE_V_e &lt;dbl&gt; | Vp &lt;dbl&gt; |\n",
       "|---|---|---|---|---|---|---|---|---|---|---|---|---|---|---|---|---|\n",
       "| res |    5e-06 |  1.2e-05 | 0.000265 |  3.2e-05 | 0.000269 |  3.2e-05 | 0.017715 | 0.044797 | 449.782 | 449.697 | 0.169 | 1 |   0.34039 | 164 | chr1_792731 | 1e+06 |\n",
       "| temp2 |    4e-06 |  1.2e-05 | 0.000272 |  3.3e-05 | 0.000277 |  3.2e-05 | 0.016255 | 0.043039 | 447.799 | 447.716 | 0.167 | 1 |   0.34122 | 164 | chr1_792910 | 1e+06 |\n",
       "| temp2 |    5e-06 |  1.3e-05 | 0.000278 |  3.4e-05 | 0.000284 |  3.3e-05 |  0.01904 |  0.04437 | 446.034 | 445.917 | 0.234 | 1 |   0.31439 | 164 | chr1_792972 | 1e+06 |\n",
       "| temp2 |    6e-06 |  1.3e-05 | 0.000284 |  3.5e-05 |  0.00029 |  3.4e-05 | 0.020028 |  0.04478 | 444.414 | 444.284 | 0.261 | 1 |   0.30466 | 164 | chr1_793022 | 1e+06 |\n",
       "| temp2 |    8e-06 |  1.6e-05 | 0.000316 |  3.9e-05 | 0.000324 |  3.8e-05 | 0.025539 |  0.04751 | 436.374 | 436.163 | 0.422 | 1 |   0.25809 | 164 | chr1_793225 | 1e+06 |\n",
       "| temp2 |  1.5e-05 |  2.3e-05 | 0.000422 |  5.2e-05 | 0.000437 |  5.1e-05 | 0.035222 | 0.051507 | 414.493 |  414.07 | 0.845 | 1 |   0.17894 | 164 | chr1_793543 | 1e+06 |\n",
       "| temp2 |  1.9e-05 |  2.7e-05 | 0.000476 |  5.8e-05 | 0.000495 |  5.8e-05 | 0.039206 | 0.053202 |  405.48 | 404.951 | 1.058 | 1 |   0.15187 | 164 | chr1_793635 | 1e+06 |\n",
       "| temp2 |  2.9e-05 |  3.5e-05 | 0.000572 |    7e-05 | 0.000601 |  7.1e-05 | 0.047921 | 0.057098 | 391.484 | 390.705 | 1.559 | 1 |   0.10593 | 164 | chr1_793771 | 1e+06 |\n",
       "| temp2 |  4.5e-05 |  4.8e-05 | 0.000695 |  8.6e-05 |  0.00074 |  8.8e-05 | 0.060861 | 0.062803 | 376.471 | 375.268 | 2.405 | 1 |  0.060473 | 164 | chr1_793919 | 1e+06 |\n",
       "| temp2 |  5.1e-05 |  5.2e-05 | 0.000734 |  9.1e-05 | 0.000785 |  9.4e-05 | 0.064429 | 0.064348 | 372.293 | 370.965 | 2.657 | 1 |  0.051562 | 164 | chr1_793959 | 1e+06 |\n",
       "| temp2 | 0.000127 | 0.000111 | 0.001253 | 0.000157 |  0.00138 | 0.000169 | 0.092272 | 0.076182 | 331.696 | 329.343 | 4.705 | 1 |  0.015034 | 164 | chr1_794340 | 1e+06 |\n",
       "| temp2 |  0.00016 | 0.000136 |  0.00147 | 0.000185 |  0.00163 | 0.000201 | 0.098201 | 0.078634 | 319.704 | 317.116 | 5.175 | 1 |  0.011456 | 164 | chr1_794472 | 1e+06 |\n",
       "| temp2 | 0.000169 | 0.000142 | 0.001528 | 0.000192 | 0.001696 | 0.000209 | 0.099451 |  0.07914 | 316.808 | 314.168 |  5.28 | 1 |  0.010785 | 164 | chr1_794508 | 1e+06 |\n",
       "| temp2 | 0.000174 | 0.000146 | 0.001562 | 0.000197 | 0.001736 | 0.000214 | 0.100142 | 0.079416 | 315.128 | 312.458 |  5.34 | 1 |  0.010422 | 164 | chr1_794530 | 1e+06 |\n",
       "| temp2 | 0.000182 | 0.000153 |  0.00162 | 0.000204 | 0.001803 | 0.000223 | 0.101209 | 0.079836 | 312.395 | 309.677 | 5.435 | 1 | 0.0098657 | 164 | chr1_794568 | 1e+06 |\n",
       "| temp2 | 0.000185 | 0.000155 | 0.001638 | 0.000207 | 0.001823 | 0.000225 | 0.101513 | 0.079953 | 311.578 | 308.846 | 5.464 | 1 |  0.009707 | 164 | chr1_794580 | 1e+06 |\n",
       "| temp2 | 0.000223 | 0.000185 | 0.001982 | 0.000249 | 0.002204 | 0.000272 |  0.10097 | 0.078935 | 297.619 |  294.74 | 5.756 | 1 | 0.0082153 | 164 | chr1_794992 | 1e+06 |\n",
       "| temp2 | 0.000216 | 0.000182 | 0.002005 | 0.000252 | 0.002221 | 0.000273 | 0.097451 | 0.077405 | 296.924 | 294.171 | 5.506 | 1 |  0.009475 | 164 | chr1_795073 | 1e+06 |\n",
       "| temp2 | 0.000215 | 0.000181 |  0.00201 | 0.000252 | 0.002224 | 0.000273 | 0.096493 | 0.077003 | 296.781 | 294.066 | 5.431 | 1 | 0.0098925 | 164 | chr1_795094 | 1e+06 |\n",
       "| temp2 | 0.000214 | 0.000181 | 0.002011 | 0.000253 | 0.002225 | 0.000273 | 0.096214 | 0.076886 | 296.743 | 294.039 | 5.408 | 1 |   0.01002 | 164 | chr1_795100 | 1e+06 |\n",
       "| temp2 | 0.000208 | 0.000178 | 0.002026 | 0.000254 | 0.002233 | 0.000273 | 0.092934 | 0.075534 | 296.357 | 293.788 | 5.139 | 1 |  0.011698 | 164 | chr1_795166 | 1e+06 |\n",
       "| temp2 | 0.000183 | 0.000167 | 0.002067 | 0.000258 |  0.00225 | 0.000273 | 0.081194 | 0.070846 | 295.401 | 293.335 | 4.131 | 1 |  0.021054 | 164 | chr1_795362 | 1e+06 |\n",
       "| temp2 | 0.000181 | 0.000166 | 0.002071 | 0.000258 | 0.002252 | 0.000273 | 0.080231 | 0.070461 | 295.306 | 293.282 | 4.048 | 1 |  0.022113 | 164 | chr1_795377 | 1e+06 |\n",
       "| temp2 | 0.000177 | 0.000164 | 0.002078 | 0.000259 | 0.002255 | 0.000273 | 0.078612 | 0.069814 | 295.139 | 293.184 | 3.909 | 1 |  0.024015 | 164 | chr1_795402 | 1e+06 |\n",
       "| temp2 | 0.000169 | 0.000161 | 0.002097 | 0.000261 | 0.002266 | 0.000273 | 0.074532 | 0.068177 | 294.665 | 292.884 | 3.562 | 1 |  0.029553 | 164 | chr1_795464 | 1e+06 |\n",
       "| temp2 | 0.000146 | 0.000151 | 0.002162 | 0.000268 | 0.002308 | 0.000276 | 0.063044 | 0.063528 | 292.948 | 291.633 | 2.629 | 1 |  0.052448 | 164 | chr1_795635 | 1e+06 |\n",
       "| temp2 |  0.00014 | 0.000149 | 0.002181 |  0.00027 | 0.002321 | 0.000277 |  0.06029 | 0.062403 | 292.452 | 291.243 | 2.418 | 1 |  0.059961 | 164 | chr1_795676 | 1e+06 |\n",
       "| temp2 | 0.000139 | 0.000149 | 0.002184 |  0.00027 | 0.002323 | 0.000277 | 0.059888 | 0.062239 | 292.377 | 291.183 | 2.388 | 1 |  0.061136 | 164 | chr1_795682 | 1e+06 |\n",
       "| temp2 | 0.000135 | 0.000147 |   0.0022 | 0.000272 | 0.002335 | 0.000278 | 0.057614 | 0.061307 |  291.94 |  290.83 | 2.219 | 1 |  0.068168 | 164 | chr1_795716 | 1e+06 |\n",
       "| temp2 | 0.000132 | 0.000146 | 0.002211 | 0.000273 | 0.002343 | 0.000279 | 0.056151 | 0.060707 | 291.646 |  290.59 | 2.112 | 1 |  0.073062 | 164 | chr1_795738 | 1e+06 |\n",
       "| temp2 | 0.000127 | 0.000144 |  0.00223 | 0.000276 | 0.002357 |  0.00028 | 0.053771 | 0.059727 |  291.15 | 290.179 | 1.943 | 1 |  0.081678 | 164 | chr1_795774 | 1e+06 |\n",
       "| temp2 | 0.000118 | 0.000141 | 0.002266 |  0.00028 | 0.002384 | 0.000282 | 0.049387 | 0.057913 | 290.181 | 289.358 | 1.645 | 1 |   0.09979 | 164 | chr1_795841 | 1e+06 |\n",
       "| temp2 | 0.000112 | 0.000139 | 0.002291 | 0.000282 | 0.002403 | 0.000284 | 0.046611 | 0.056737 | 289.534 |   288.8 | 1.468 | 1 |   0.11286 | 164 | chr1_795884 | 1e+06 |\n",
       "| temp2 | 0.000108 | 0.000138 | 0.002307 | 0.000284 | 0.002415 | 0.000285 | 0.044818 | 0.055984 | 289.104 | 288.425 | 1.358 | 1 |   0.12198 | 164 | chr1_795912 | 1e+06 |\n",
       "| temp2 |  7.4e-05 | 0.000126 | 0.002465 | 0.000302 | 0.002539 | 0.000298 | 0.029137 | 0.049115 | 285.101 | 284.817 | 0.568 | 1 |   0.22547 | 164 | chr1_796163 | 1e+06 |\n",
       "| temp2 |  7.1e-05 | 0.000125 | 0.002479 | 0.000304 |  0.00255 | 0.000299 | 0.027782 | 0.048487 | 284.753 | 284.495 | 0.516 | 1 |   0.23636 | 164 | chr1_796185 | 1e+06 |\n",
       "| temp2 |    6e-05 |  0.00012 |  0.00253 |  0.00031 | 0.002589 | 0.000303 | 0.022982 | 0.046195 | 283.545 |  283.37 |  0.35 | 1 |    0.2771 | 164 | chr1_796263 | 1e+06 |\n",
       "| temp2 |    5e-05 | 0.000116 |  0.00257 | 0.000314 |  0.00262 | 0.000306 | 0.019042 | 0.044223 | 282.605 | 282.486 | 0.238 | 1 |   0.31281 | 164 | chr1_796327 | 1e+06 |\n",
       "| temp2 |  4.5e-05 | 0.000114 | 0.002591 | 0.000317 | 0.002636 | 0.000308 | 0.017007 | 0.043168 | 282.142 | 282.048 | 0.189 | 1 |   0.33193 | 164 | chr1_796360 | 1e+06 |\n",
       "| temp2 |  3.1e-05 | 0.000108 | 0.002644 | 0.000322 | 0.002675 | 0.000312 | 0.011626 | 0.040231 | 281.009 | 280.966 | 0.087 | 1 |    0.3842 | 164 | chr1_796447 | 1e+06 |\n",
       "| temp2 |  1.4e-05 |  9.9e-05 | 0.002701 | 0.000329 | 0.002715 | 0.000317 | 0.005186 | 0.036444 | 279.863 | 279.855 | 0.017 | 1 |   0.44861 | 164 | chr1_796550 | 1e+06 |\n",
       "| temp2 |        0 |  9.7e-05 | 0.002768 | 0.000336 | 0.002768 | 0.000323 |    1e-06 | 0.035048 | 278.414 | 278.414 |     0 | 1 |       0.5 | 164 | chr1_796747 | 1e+06 |\n",
       "| temp2 |        0 |  9.9e-05 | 0.002774 | 0.000337 | 0.002774 | 0.000324 |    1e-06 | 0.035808 | 278.252 | 278.252 |     0 | 1 |       0.5 | 164 | chr1_796793 | 1e+06 |\n",
       "| temp2 |        0 |  9.9e-05 | 0.002774 | 0.000337 | 0.002774 | 0.000324 |    1e-06 | 0.035841 | 278.247 | 278.247 |     0 | 1 |       0.5 | 164 | chr1_796795 | 1e+06 |\n",
       "| temp2 |        0 |    1e-04 | 0.002774 | 0.000337 | 0.002774 | 0.000324 |    1e-06 | 0.035907 | 278.238 | 278.238 |     0 | 1 |       0.5 | 164 | chr1_796799 | 1e+06 |\n",
       "| temp2 |        0 | 0.000101 | 0.002775 | 0.000337 | 0.002775 | 0.000324 |    1e-06 | 0.036222 | 278.204 | 278.204 |     0 | 1 |       0.5 | 164 | chr1_796818 | 1e+06 |\n",
       "| temp2 |        0 | 0.000111 | 0.002748 | 0.000334 | 0.002748 | 0.000321 |    1e-06 | 0.040518 | 278.739 | 278.739 |     0 | 1 |       0.5 | 164 | chr1_797103 | 1e+06 |\n",
       "| temp2 |        0 | 0.000115 | 0.002743 | 0.000333 | 0.002743 |  0.00032 |    1e-06 | 0.041918 | 278.798 | 278.799 |     0 | 1 |       0.5 | 164 | chr1_797308 | 1e+06 |\n",
       "| temp2 |        0 | 0.000115 | 0.002864 | 0.000348 | 0.002864 | 0.000334 |    1e-06 | 0.040266 | 275.721 | 275.721 |     0 | 1 |       0.5 | 164 | chr1_797590 | 1e+06 |\n",
       "| temp2 |        0 | 0.000114 | 0.003017 | 0.000366 | 0.003017 | 0.000352 |    1e-06 | 0.037944 | 271.993 | 271.993 |     0 | 1 |       0.5 | 164 | chr1_797744 | 1e+06 |\n",
       "\n"
      ],
      "text/plain": [
       "      V_G      SE_V_G   V_e      SE_V_e   Vp       SE_Vp    V_G_Vp   SE_V_G_Vp\n",
       "res      5e-06  1.2e-05 0.000265  3.2e-05 0.000269  3.2e-05 0.017715 0.044797 \n",
       "temp2    4e-06  1.2e-05 0.000272  3.3e-05 0.000277  3.2e-05 0.016255 0.043039 \n",
       "temp2    5e-06  1.3e-05 0.000278  3.4e-05 0.000284  3.3e-05  0.01904  0.04437 \n",
       "temp2    6e-06  1.3e-05 0.000284  3.5e-05  0.00029  3.4e-05 0.020028  0.04478 \n",
       "temp2    8e-06  1.6e-05 0.000316  3.9e-05 0.000324  3.8e-05 0.025539  0.04751 \n",
       "temp2  1.5e-05  2.3e-05 0.000422  5.2e-05 0.000437  5.1e-05 0.035222 0.051507 \n",
       "temp2  1.9e-05  2.7e-05 0.000476  5.8e-05 0.000495  5.8e-05 0.039206 0.053202 \n",
       "temp2  2.9e-05  3.5e-05 0.000572    7e-05 0.000601  7.1e-05 0.047921 0.057098 \n",
       "temp2  4.5e-05  4.8e-05 0.000695  8.6e-05  0.00074  8.8e-05 0.060861 0.062803 \n",
       "temp2  5.1e-05  5.2e-05 0.000734  9.1e-05 0.000785  9.4e-05 0.064429 0.064348 \n",
       "temp2 0.000127 0.000111 0.001253 0.000157  0.00138 0.000169 0.092272 0.076182 \n",
       "temp2  0.00016 0.000136  0.00147 0.000185  0.00163 0.000201 0.098201 0.078634 \n",
       "temp2 0.000169 0.000142 0.001528 0.000192 0.001696 0.000209 0.099451  0.07914 \n",
       "temp2 0.000174 0.000146 0.001562 0.000197 0.001736 0.000214 0.100142 0.079416 \n",
       "temp2 0.000182 0.000153  0.00162 0.000204 0.001803 0.000223 0.101209 0.079836 \n",
       "temp2 0.000185 0.000155 0.001638 0.000207 0.001823 0.000225 0.101513 0.079953 \n",
       "temp2 0.000223 0.000185 0.001982 0.000249 0.002204 0.000272  0.10097 0.078935 \n",
       "temp2 0.000216 0.000182 0.002005 0.000252 0.002221 0.000273 0.097451 0.077405 \n",
       "temp2 0.000215 0.000181  0.00201 0.000252 0.002224 0.000273 0.096493 0.077003 \n",
       "temp2 0.000214 0.000181 0.002011 0.000253 0.002225 0.000273 0.096214 0.076886 \n",
       "temp2 0.000208 0.000178 0.002026 0.000254 0.002233 0.000273 0.092934 0.075534 \n",
       "temp2 0.000183 0.000167 0.002067 0.000258  0.00225 0.000273 0.081194 0.070846 \n",
       "temp2 0.000181 0.000166 0.002071 0.000258 0.002252 0.000273 0.080231 0.070461 \n",
       "temp2 0.000177 0.000164 0.002078 0.000259 0.002255 0.000273 0.078612 0.069814 \n",
       "temp2 0.000169 0.000161 0.002097 0.000261 0.002266 0.000273 0.074532 0.068177 \n",
       "temp2 0.000146 0.000151 0.002162 0.000268 0.002308 0.000276 0.063044 0.063528 \n",
       "temp2  0.00014 0.000149 0.002181  0.00027 0.002321 0.000277  0.06029 0.062403 \n",
       "temp2 0.000139 0.000149 0.002184  0.00027 0.002323 0.000277 0.059888 0.062239 \n",
       "temp2 0.000135 0.000147   0.0022 0.000272 0.002335 0.000278 0.057614 0.061307 \n",
       "temp2 0.000132 0.000146 0.002211 0.000273 0.002343 0.000279 0.056151 0.060707 \n",
       "temp2 0.000127 0.000144  0.00223 0.000276 0.002357  0.00028 0.053771 0.059727 \n",
       "temp2 0.000118 0.000141 0.002266  0.00028 0.002384 0.000282 0.049387 0.057913 \n",
       "temp2 0.000112 0.000139 0.002291 0.000282 0.002403 0.000284 0.046611 0.056737 \n",
       "temp2 0.000108 0.000138 0.002307 0.000284 0.002415 0.000285 0.044818 0.055984 \n",
       "temp2  7.4e-05 0.000126 0.002465 0.000302 0.002539 0.000298 0.029137 0.049115 \n",
       "temp2  7.1e-05 0.000125 0.002479 0.000304  0.00255 0.000299 0.027782 0.048487 \n",
       "temp2    6e-05  0.00012  0.00253  0.00031 0.002589 0.000303 0.022982 0.046195 \n",
       "temp2    5e-05 0.000116  0.00257 0.000314  0.00262 0.000306 0.019042 0.044223 \n",
       "temp2  4.5e-05 0.000114 0.002591 0.000317 0.002636 0.000308 0.017007 0.043168 \n",
       "temp2  3.1e-05 0.000108 0.002644 0.000322 0.002675 0.000312 0.011626 0.040231 \n",
       "temp2  1.4e-05  9.9e-05 0.002701 0.000329 0.002715 0.000317 0.005186 0.036444 \n",
       "temp2        0  9.7e-05 0.002768 0.000336 0.002768 0.000323    1e-06 0.035048 \n",
       "temp2        0  9.9e-05 0.002774 0.000337 0.002774 0.000324    1e-06 0.035808 \n",
       "temp2        0  9.9e-05 0.002774 0.000337 0.002774 0.000324    1e-06 0.035841 \n",
       "temp2        0    1e-04 0.002774 0.000337 0.002774 0.000324    1e-06 0.035907 \n",
       "temp2        0 0.000101 0.002775 0.000337 0.002775 0.000324    1e-06 0.036222 \n",
       "temp2        0 0.000111 0.002748 0.000334 0.002748 0.000321    1e-06 0.040518 \n",
       "temp2        0 0.000115 0.002743 0.000333 0.002743  0.00032    1e-06 0.041918 \n",
       "temp2        0 0.000115 0.002864 0.000348 0.002864 0.000334    1e-06 0.040266 \n",
       "temp2        0 0.000114 0.003017 0.000366 0.003017 0.000352    1e-06 0.037944 \n",
       "      logL    logL0   LRT   df Pval      n   site        wind \n",
       "res   449.782 449.697 0.169 1    0.34039 164 chr1_792731 1e+06\n",
       "temp2 447.799 447.716 0.167 1    0.34122 164 chr1_792910 1e+06\n",
       "temp2 446.034 445.917 0.234 1    0.31439 164 chr1_792972 1e+06\n",
       "temp2 444.414 444.284 0.261 1    0.30466 164 chr1_793022 1e+06\n",
       "temp2 436.374 436.163 0.422 1    0.25809 164 chr1_793225 1e+06\n",
       "temp2 414.493  414.07 0.845 1    0.17894 164 chr1_793543 1e+06\n",
       "temp2  405.48 404.951 1.058 1    0.15187 164 chr1_793635 1e+06\n",
       "temp2 391.484 390.705 1.559 1    0.10593 164 chr1_793771 1e+06\n",
       "temp2 376.471 375.268 2.405 1   0.060473 164 chr1_793919 1e+06\n",
       "temp2 372.293 370.965 2.657 1   0.051562 164 chr1_793959 1e+06\n",
       "temp2 331.696 329.343 4.705 1   0.015034 164 chr1_794340 1e+06\n",
       "temp2 319.704 317.116 5.175 1   0.011456 164 chr1_794472 1e+06\n",
       "temp2 316.808 314.168  5.28 1   0.010785 164 chr1_794508 1e+06\n",
       "temp2 315.128 312.458  5.34 1   0.010422 164 chr1_794530 1e+06\n",
       "temp2 312.395 309.677 5.435 1  0.0098657 164 chr1_794568 1e+06\n",
       "temp2 311.578 308.846 5.464 1   0.009707 164 chr1_794580 1e+06\n",
       "temp2 297.619  294.74 5.756 1  0.0082153 164 chr1_794992 1e+06\n",
       "temp2 296.924 294.171 5.506 1   0.009475 164 chr1_795073 1e+06\n",
       "temp2 296.781 294.066 5.431 1  0.0098925 164 chr1_795094 1e+06\n",
       "temp2 296.743 294.039 5.408 1    0.01002 164 chr1_795100 1e+06\n",
       "temp2 296.357 293.788 5.139 1   0.011698 164 chr1_795166 1e+06\n",
       "temp2 295.401 293.335 4.131 1   0.021054 164 chr1_795362 1e+06\n",
       "temp2 295.306 293.282 4.048 1   0.022113 164 chr1_795377 1e+06\n",
       "temp2 295.139 293.184 3.909 1   0.024015 164 chr1_795402 1e+06\n",
       "temp2 294.665 292.884 3.562 1   0.029553 164 chr1_795464 1e+06\n",
       "temp2 292.948 291.633 2.629 1   0.052448 164 chr1_795635 1e+06\n",
       "temp2 292.452 291.243 2.418 1   0.059961 164 chr1_795676 1e+06\n",
       "temp2 292.377 291.183 2.388 1   0.061136 164 chr1_795682 1e+06\n",
       "temp2  291.94  290.83 2.219 1   0.068168 164 chr1_795716 1e+06\n",
       "temp2 291.646  290.59 2.112 1   0.073062 164 chr1_795738 1e+06\n",
       "temp2  291.15 290.179 1.943 1   0.081678 164 chr1_795774 1e+06\n",
       "temp2 290.181 289.358 1.645 1    0.09979 164 chr1_795841 1e+06\n",
       "temp2 289.534   288.8 1.468 1    0.11286 164 chr1_795884 1e+06\n",
       "temp2 289.104 288.425 1.358 1    0.12198 164 chr1_795912 1e+06\n",
       "temp2 285.101 284.817 0.568 1    0.22547 164 chr1_796163 1e+06\n",
       "temp2 284.753 284.495 0.516 1    0.23636 164 chr1_796185 1e+06\n",
       "temp2 283.545  283.37  0.35 1     0.2771 164 chr1_796263 1e+06\n",
       "temp2 282.605 282.486 0.238 1    0.31281 164 chr1_796327 1e+06\n",
       "temp2 282.142 282.048 0.189 1    0.33193 164 chr1_796360 1e+06\n",
       "temp2 281.009 280.966 0.087 1     0.3842 164 chr1_796447 1e+06\n",
       "temp2 279.863 279.855 0.017 1    0.44861 164 chr1_796550 1e+06\n",
       "temp2 278.414 278.414     0 1        0.5 164 chr1_796747 1e+06\n",
       "temp2 278.252 278.252     0 1        0.5 164 chr1_796793 1e+06\n",
       "temp2 278.247 278.247     0 1        0.5 164 chr1_796795 1e+06\n",
       "temp2 278.238 278.238     0 1        0.5 164 chr1_796799 1e+06\n",
       "temp2 278.204 278.204     0 1        0.5 164 chr1_796818 1e+06\n",
       "temp2 278.739 278.739     0 1        0.5 164 chr1_797103 1e+06\n",
       "temp2 278.798 278.799     0 1        0.5 164 chr1_797308 1e+06\n",
       "temp2 275.721 275.721     0 1        0.5 164 chr1_797590 1e+06\n",
       "temp2 271.993 271.993     0 1        0.5 164 chr1_797744 1e+06"
      ]
     },
     "metadata": {},
     "output_type": "display_data"
    }
   ],
   "source": [
    "res"
   ]
  },
  {
   "cell_type": "code",
   "execution_count": 33,
   "id": "00a68283-a87f-4a94-b489-f6484fb7f447",
   "metadata": {},
   "outputs": [
    {
     "data": {
      "text/html": [
       "<table class=\"dataframe\">\n",
       "<caption>A matrix: 6 × 16</caption>\n",
       "<thead>\n",
       "\t<tr><th></th><th scope=col>V_G</th><th scope=col>SE_V_G</th><th scope=col>V_e</th><th scope=col>SE_V_e</th><th scope=col>Vp</th><th scope=col>SE_Vp</th><th scope=col>V_G_Vp</th><th scope=col>SE_V_G_Vp</th><th scope=col>logL</th><th scope=col>logL0</th><th scope=col>LRT</th><th scope=col>df</th><th scope=col>Pval</th><th scope=col>n</th><th scope=col>site</th><th scope=col>wind</th></tr>\n",
       "\t<tr><th></th><th scope=col>&lt;dbl&gt;</th><th scope=col>&lt;dbl&gt;</th><th scope=col>&lt;dbl&gt;</th><th scope=col>&lt;dbl&gt;</th><th scope=col>&lt;dbl&gt;</th><th scope=col>&lt;dbl&gt;</th><th scope=col>&lt;dbl&gt;</th><th scope=col>&lt;dbl&gt;</th><th scope=col>&lt;dbl&gt;</th><th scope=col>&lt;dbl&gt;</th><th scope=col>⋯</th><th scope=col>&lt;chr&gt;</th><th scope=col>&lt;chr&gt;</th><th scope=col>&lt;chr&gt;</th><th scope=col>&lt;chr&gt;</th><th scope=col>&lt;dbl&gt;</th><th scope=col>&lt;dbl&gt;</th><th scope=col>&lt;dbl&gt;</th><th scope=col>&lt;dbl&gt;</th><th scope=col>&lt;dbl&gt;</th><th scope=col>&lt;dbl&gt;</th></tr>\n",
       "</thead>\n",
       "<tbody>\n",
       "\t<tr><th scope=row>temp2</th><td>0</td><td>   1e-04</td><td>0.002774</td><td>0.000337</td><td>0.002774</td><td>0.000324</td><td>1e-06</td><td>0.035907</td><td>278.238</td><td>278.238</td><td>0</td><td>1</td><td>0.5</td><td>164</td><td>chr1_796799</td><td>1e+06</td></tr>\n",
       "\t<tr><th scope=row>temp2</th><td>0</td><td>0.000101</td><td>0.002775</td><td>0.000337</td><td>0.002775</td><td>0.000324</td><td>1e-06</td><td>0.036222</td><td>278.204</td><td>278.204</td><td>0</td><td>1</td><td>0.5</td><td>164</td><td>chr1_796818</td><td>1e+06</td></tr>\n",
       "\t<tr><th scope=row>temp2</th><td>0</td><td>0.000111</td><td>0.002748</td><td>0.000334</td><td>0.002748</td><td>0.000321</td><td>1e-06</td><td>0.040518</td><td>278.739</td><td>278.739</td><td>0</td><td>1</td><td>0.5</td><td>164</td><td>chr1_797103</td><td>1e+06</td></tr>\n",
       "\t<tr><th scope=row>temp2</th><td>0</td><td>0.000115</td><td>0.002743</td><td>0.000333</td><td>0.002743</td><td> 0.00032</td><td>1e-06</td><td>0.041918</td><td>278.798</td><td>278.799</td><td>0</td><td>1</td><td>0.5</td><td>164</td><td>chr1_797308</td><td>1e+06</td></tr>\n",
       "\t<tr><th scope=row>temp2</th><td>0</td><td>0.000115</td><td>0.002864</td><td>0.000348</td><td>0.002864</td><td>0.000334</td><td>1e-06</td><td>0.040266</td><td>275.721</td><td>275.721</td><td>0</td><td>1</td><td>0.5</td><td>164</td><td>chr1_797590</td><td>1e+06</td></tr>\n",
       "\t<tr><th scope=row>temp2</th><td>0</td><td>0.000114</td><td>0.003017</td><td>0.000366</td><td>0.003017</td><td>0.000352</td><td>1e-06</td><td>0.037944</td><td>271.993</td><td>271.993</td><td>0</td><td>1</td><td>0.5</td><td>164</td><td>chr1_797744</td><td>1e+06</td></tr>\n",
       "</tbody>\n",
       "</table>\n"
      ],
      "text/latex": [
       "A matrix: 6 × 16\n",
       "\\begin{tabular}{r|llllllllllllllll}\n",
       "  & V\\_G & SE\\_V\\_G & V\\_e & SE\\_V\\_e & Vp & SE\\_Vp & V\\_G\\_Vp & SE\\_V\\_G\\_Vp & logL & logL0 & LRT & df & Pval & n & site & wind\\\\\n",
       "  & <dbl> & <dbl> & <dbl> & <dbl> & <dbl> & <dbl> & <dbl> & <dbl> & <dbl> & <dbl> & ⋯ & <chr> & <chr> & <chr> & <chr> & <dbl> & <dbl> & <dbl> & <dbl> & <dbl> & <dbl>\\\\\n",
       "\\hline\n",
       "\ttemp2 & 0 &    1e-04 & 0.002774 & 0.000337 & 0.002774 & 0.000324 & 1e-06 & 0.035907 & 278.238 & 278.238 & 0 & 1 & 0.5 & 164 & chr1\\_796799 & 1e+06\\\\\n",
       "\ttemp2 & 0 & 0.000101 & 0.002775 & 0.000337 & 0.002775 & 0.000324 & 1e-06 & 0.036222 & 278.204 & 278.204 & 0 & 1 & 0.5 & 164 & chr1\\_796818 & 1e+06\\\\\n",
       "\ttemp2 & 0 & 0.000111 & 0.002748 & 0.000334 & 0.002748 & 0.000321 & 1e-06 & 0.040518 & 278.739 & 278.739 & 0 & 1 & 0.5 & 164 & chr1\\_797103 & 1e+06\\\\\n",
       "\ttemp2 & 0 & 0.000115 & 0.002743 & 0.000333 & 0.002743 &  0.00032 & 1e-06 & 0.041918 & 278.798 & 278.799 & 0 & 1 & 0.5 & 164 & chr1\\_797308 & 1e+06\\\\\n",
       "\ttemp2 & 0 & 0.000115 & 0.002864 & 0.000348 & 0.002864 & 0.000334 & 1e-06 & 0.040266 & 275.721 & 275.721 & 0 & 1 & 0.5 & 164 & chr1\\_797590 & 1e+06\\\\\n",
       "\ttemp2 & 0 & 0.000114 & 0.003017 & 0.000366 & 0.003017 & 0.000352 & 1e-06 & 0.037944 & 271.993 & 271.993 & 0 & 1 & 0.5 & 164 & chr1\\_797744 & 1e+06\\\\\n",
       "\\end{tabular}\n"
      ],
      "text/markdown": [
       "\n",
       "A matrix: 6 × 16\n",
       "\n",
       "| <!--/--> | V_G &lt;dbl&gt; | SE_V_G &lt;dbl&gt; | V_e &lt;dbl&gt; | SE_V_e &lt;dbl&gt; | Vp &lt;dbl&gt; | SE_Vp &lt;dbl&gt; | V_G_Vp &lt;dbl&gt; | SE_V_G_Vp &lt;dbl&gt; | logL &lt;dbl&gt; | logL0 &lt;dbl&gt; | LRT ⋯ | df &lt;chr&gt; | Pval &lt;chr&gt; | n &lt;chr&gt; | site &lt;chr&gt; | wind &lt;dbl&gt; | V_G &lt;dbl&gt; | SE_V_G &lt;dbl&gt; | V_e &lt;dbl&gt; | SE_V_e &lt;dbl&gt; | Vp &lt;dbl&gt; |\n",
       "|---|---|---|---|---|---|---|---|---|---|---|---|---|---|---|---|---|\n",
       "| temp2 | 0 |    1e-04 | 0.002774 | 0.000337 | 0.002774 | 0.000324 | 1e-06 | 0.035907 | 278.238 | 278.238 | 0 | 1 | 0.5 | 164 | chr1_796799 | 1e+06 |\n",
       "| temp2 | 0 | 0.000101 | 0.002775 | 0.000337 | 0.002775 | 0.000324 | 1e-06 | 0.036222 | 278.204 | 278.204 | 0 | 1 | 0.5 | 164 | chr1_796818 | 1e+06 |\n",
       "| temp2 | 0 | 0.000111 | 0.002748 | 0.000334 | 0.002748 | 0.000321 | 1e-06 | 0.040518 | 278.739 | 278.739 | 0 | 1 | 0.5 | 164 | chr1_797103 | 1e+06 |\n",
       "| temp2 | 0 | 0.000115 | 0.002743 | 0.000333 | 0.002743 |  0.00032 | 1e-06 | 0.041918 | 278.798 | 278.799 | 0 | 1 | 0.5 | 164 | chr1_797308 | 1e+06 |\n",
       "| temp2 | 0 | 0.000115 | 0.002864 | 0.000348 | 0.002864 | 0.000334 | 1e-06 | 0.040266 | 275.721 | 275.721 | 0 | 1 | 0.5 | 164 | chr1_797590 | 1e+06 |\n",
       "| temp2 | 0 | 0.000114 | 0.003017 | 0.000366 | 0.003017 | 0.000352 | 1e-06 | 0.037944 | 271.993 | 271.993 | 0 | 1 | 0.5 | 164 | chr1_797744 | 1e+06 |\n",
       "\n"
      ],
      "text/plain": [
       "      V_G SE_V_G   V_e      SE_V_e   Vp       SE_Vp    V_G_Vp SE_V_G_Vp logL   \n",
       "temp2 0      1e-04 0.002774 0.000337 0.002774 0.000324 1e-06  0.035907  278.238\n",
       "temp2 0   0.000101 0.002775 0.000337 0.002775 0.000324 1e-06  0.036222  278.204\n",
       "temp2 0   0.000111 0.002748 0.000334 0.002748 0.000321 1e-06  0.040518  278.739\n",
       "temp2 0   0.000115 0.002743 0.000333 0.002743  0.00032 1e-06  0.041918  278.798\n",
       "temp2 0   0.000115 0.002864 0.000348 0.002864 0.000334 1e-06  0.040266  275.721\n",
       "temp2 0   0.000114 0.003017 0.000366 0.003017 0.000352 1e-06  0.037944  271.993\n",
       "      logL0   LRT df Pval n   site        wind \n",
       "temp2 278.238 0   1  0.5  164 chr1_796799 1e+06\n",
       "temp2 278.204 0   1  0.5  164 chr1_796818 1e+06\n",
       "temp2 278.739 0   1  0.5  164 chr1_797103 1e+06\n",
       "temp2 278.799 0   1  0.5  164 chr1_797308 1e+06\n",
       "temp2 275.721 0   1  0.5  164 chr1_797590 1e+06\n",
       "temp2 271.993 0   1  0.5  164 chr1_797744 1e+06"
      ]
     },
     "metadata": {},
     "output_type": "display_data"
    }
   ],
   "source": [
    "tail(res)"
   ]
  },
  {
   "cell_type": "code",
   "execution_count": 34,
   "id": "74ccd8e8-ab29-46ce-9e71-ff1420aab2f6",
   "metadata": {},
   "outputs": [
    {
     "data": {
      "text/html": [
       "<dl>\n",
       "\t<dt>$V_G</dt>\n",
       "\t\t<dd>0</dd>\n",
       "\t<dt>$SE_V_G</dt>\n",
       "\t\t<dd>0.000114</dd>\n",
       "\t<dt>$V_e</dt>\n",
       "\t\t<dd>0.003017</dd>\n",
       "\t<dt>$SE_V_e</dt>\n",
       "\t\t<dd>0.000366</dd>\n",
       "\t<dt>$Vp</dt>\n",
       "\t\t<dd>0.003017</dd>\n",
       "\t<dt>$SE_Vp</dt>\n",
       "\t\t<dd>0.000352</dd>\n",
       "\t<dt>$V_G_Vp</dt>\n",
       "\t\t<dd>1e-06</dd>\n",
       "\t<dt>$SE_V_G_Vp</dt>\n",
       "\t\t<dd>0.037944</dd>\n",
       "\t<dt>$logL</dt>\n",
       "\t\t<dd>271.993</dd>\n",
       "\t<dt>$logL0</dt>\n",
       "\t\t<dd>271.993</dd>\n",
       "\t<dt>$LRT</dt>\n",
       "\t\t<dd>0</dd>\n",
       "\t<dt>$df</dt>\n",
       "\t\t<dd>1</dd>\n",
       "\t<dt>$Pval</dt>\n",
       "\t\t<dd>0.5</dd>\n",
       "\t<dt>$n</dt>\n",
       "\t\t<dd>164</dd>\n",
       "\t<dt>$site</dt>\n",
       "\t\t<dd>'chr1_797744'</dd>\n",
       "\t<dt>$wind</dt>\n",
       "\t\t<dd>1e+06</dd>\n",
       "</dl>\n"
      ],
      "text/latex": [
       "\\begin{description}\n",
       "\\item[\\$V\\_G] 0\n",
       "\\item[\\$SE\\_V\\_G] 0.000114\n",
       "\\item[\\$V\\_e] 0.003017\n",
       "\\item[\\$SE\\_V\\_e] 0.000366\n",
       "\\item[\\$Vp] 0.003017\n",
       "\\item[\\$SE\\_Vp] 0.000352\n",
       "\\item[\\$V\\_G\\_Vp] 1e-06\n",
       "\\item[\\$SE\\_V\\_G\\_Vp] 0.037944\n",
       "\\item[\\$logL] 271.993\n",
       "\\item[\\$logL0] 271.993\n",
       "\\item[\\$LRT] 0\n",
       "\\item[\\$df] 1\n",
       "\\item[\\$Pval] 0.5\n",
       "\\item[\\$n] 164\n",
       "\\item[\\$site] 'chr1\\_797744'\n",
       "\\item[\\$wind] 1e+06\n",
       "\\end{description}\n"
      ],
      "text/markdown": [
       "$V_G\n",
       ":   0\n",
       "$SE_V_G\n",
       ":   0.000114\n",
       "$V_e\n",
       ":   0.003017\n",
       "$SE_V_e\n",
       ":   0.000366\n",
       "$Vp\n",
       ":   0.003017\n",
       "$SE_Vp\n",
       ":   0.000352\n",
       "$V_G_Vp\n",
       ":   1e-06\n",
       "$SE_V_G_Vp\n",
       ":   0.037944\n",
       "$logL\n",
       ":   271.993\n",
       "$logL0\n",
       ":   271.993\n",
       "$LRT\n",
       ":   0\n",
       "$df\n",
       ":   1\n",
       "$Pval\n",
       ":   0.5\n",
       "$n\n",
       ":   164\n",
       "$site\n",
       ":   'chr1_797744'\n",
       "$wind\n",
       ":   1e+06\n",
       "\n",
       "\n"
      ],
      "text/plain": [
       "$V_G\n",
       "[1] 0\n",
       "\n",
       "$SE_V_G\n",
       "[1] 0.000114\n",
       "\n",
       "$V_e\n",
       "[1] 0.003017\n",
       "\n",
       "$SE_V_e\n",
       "[1] 0.000366\n",
       "\n",
       "$Vp\n",
       "[1] 0.003017\n",
       "\n",
       "$SE_Vp\n",
       "[1] 0.000352\n",
       "\n",
       "$V_G_Vp\n",
       "[1] 1e-06\n",
       "\n",
       "$SE_V_G_Vp\n",
       "[1] 0.037944\n",
       "\n",
       "$logL\n",
       "[1] 271.993\n",
       "\n",
       "$logL0\n",
       "[1] 271.993\n",
       "\n",
       "$LRT\n",
       "[1] 0\n",
       "\n",
       "$df\n",
       "[1] 1\n",
       "\n",
       "$Pval\n",
       "[1] 0.5\n",
       "\n",
       "$n\n",
       "[1] 164\n",
       "\n",
       "$site\n",
       "[1] \"chr1_797744\"\n",
       "\n",
       "$wind\n",
       "[1] 1e+06\n"
      ]
     },
     "metadata": {},
     "output_type": "display_data"
    }
   ],
   "source": [
    "temp2"
   ]
  },
  {
   "cell_type": "code",
   "execution_count": 35,
   "id": "d63222d6-ecd8-410b-aebc-667a31691456",
   "metadata": {},
   "outputs": [
    {
     "data": {
      "text/html": [
       "<table class=\"dataframe\">\n",
       "<caption>A data.table: 10 × 3</caption>\n",
       "<thead>\n",
       "\t<tr><th scope=col>Source</th><th scope=col>Variance</th><th scope=col>SE</th></tr>\n",
       "\t<tr><th scope=col>&lt;chr&gt;</th><th scope=col>&lt;dbl&gt;</th><th scope=col>&lt;dbl&gt;</th></tr>\n",
       "</thead>\n",
       "<tbody>\n",
       "\t<tr><td>V(G)   </td><td>  0.000000</td><td>0.000114</td></tr>\n",
       "\t<tr><td>V(e)   </td><td>  0.003017</td><td>0.000366</td></tr>\n",
       "\t<tr><td>Vp     </td><td>  0.003017</td><td>0.000352</td></tr>\n",
       "\t<tr><td>V(G)/Vp</td><td>  0.000001</td><td>0.037944</td></tr>\n",
       "\t<tr><td>logL   </td><td>271.993000</td><td>      NA</td></tr>\n",
       "\t<tr><td>logL0  </td><td>271.993000</td><td>      NA</td></tr>\n",
       "\t<tr><td>LRT    </td><td>  0.000000</td><td>      NA</td></tr>\n",
       "\t<tr><td>df     </td><td>  1.000000</td><td>      NA</td></tr>\n",
       "\t<tr><td>Pval   </td><td>  0.500000</td><td>      NA</td></tr>\n",
       "\t<tr><td>n      </td><td>164.000000</td><td>      NA</td></tr>\n",
       "</tbody>\n",
       "</table>\n"
      ],
      "text/latex": [
       "A data.table: 10 × 3\n",
       "\\begin{tabular}{lll}\n",
       " Source & Variance & SE\\\\\n",
       " <chr> & <dbl> & <dbl>\\\\\n",
       "\\hline\n",
       "\t V(G)    &   0.000000 & 0.000114\\\\\n",
       "\t V(e)    &   0.003017 & 0.000366\\\\\n",
       "\t Vp      &   0.003017 & 0.000352\\\\\n",
       "\t V(G)/Vp &   0.000001 & 0.037944\\\\\n",
       "\t logL    & 271.993000 &       NA\\\\\n",
       "\t logL0   & 271.993000 &       NA\\\\\n",
       "\t LRT     &   0.000000 &       NA\\\\\n",
       "\t df      &   1.000000 &       NA\\\\\n",
       "\t Pval    &   0.500000 &       NA\\\\\n",
       "\t n       & 164.000000 &       NA\\\\\n",
       "\\end{tabular}\n"
      ],
      "text/markdown": [
       "\n",
       "A data.table: 10 × 3\n",
       "\n",
       "| Source &lt;chr&gt; | Variance &lt;dbl&gt; | SE &lt;dbl&gt; |\n",
       "|---|---|---|\n",
       "| V(G)    |   0.000000 | 0.000114 |\n",
       "| V(e)    |   0.003017 | 0.000366 |\n",
       "| Vp      |   0.003017 | 0.000352 |\n",
       "| V(G)/Vp |   0.000001 | 0.037944 |\n",
       "| logL    | 271.993000 |       NA |\n",
       "| logL0   | 271.993000 |       NA |\n",
       "| LRT     |   0.000000 |       NA |\n",
       "| df      |   1.000000 |       NA |\n",
       "| Pval    |   0.500000 |       NA |\n",
       "| n       | 164.000000 |       NA |\n",
       "\n"
      ],
      "text/plain": [
       "   Source  Variance   SE      \n",
       "1  V(G)      0.000000 0.000114\n",
       "2  V(e)      0.003017 0.000366\n",
       "3  Vp        0.003017 0.000352\n",
       "4  V(G)/Vp   0.000001 0.037944\n",
       "5  logL    271.993000       NA\n",
       "6  logL0   271.993000       NA\n",
       "7  LRT       0.000000       NA\n",
       "8  df        1.000000       NA\n",
       "9  Pval      0.500000       NA\n",
       "10 n       164.000000       NA"
      ]
     },
     "metadata": {},
     "output_type": "display_data"
    }
   ],
   "source": [
    "temp_before_transpose"
   ]
  },
  {
   "cell_type": "code",
   "execution_count": 32,
   "id": "55150a5a-67c6-45af-aeb6-c40cea520df1",
   "metadata": {},
   "outputs": [
    {
     "data": {
      "text/html": [
       "<table class=\"dataframe\">\n",
       "<caption>A matrix: 11 × 16</caption>\n",
       "<thead>\n",
       "\t<tr><th></th><th scope=col>V_G</th><th scope=col>SE_V_G</th><th scope=col>V_e</th><th scope=col>SE_V_e</th><th scope=col>Vp</th><th scope=col>SE_Vp</th><th scope=col>V_G_Vp</th><th scope=col>SE_V_G_Vp</th><th scope=col>logL</th><th scope=col>logL0</th><th scope=col>LRT</th><th scope=col>df</th><th scope=col>Pval</th><th scope=col>n</th><th scope=col>site</th><th scope=col>wind</th></tr>\n",
       "\t<tr><th></th><th scope=col>&lt;dbl&gt;</th><th scope=col>&lt;dbl&gt;</th><th scope=col>&lt;dbl&gt;</th><th scope=col>&lt;dbl&gt;</th><th scope=col>&lt;dbl&gt;</th><th scope=col>&lt;dbl&gt;</th><th scope=col>&lt;dbl&gt;</th><th scope=col>&lt;dbl&gt;</th><th scope=col>&lt;dbl&gt;</th><th scope=col>&lt;dbl&gt;</th><th scope=col>⋯</th><th scope=col>&lt;dbl&gt;</th><th scope=col>&lt;dbl&gt;</th><th scope=col>&lt;dbl&gt;</th><th scope=col>&lt;dbl&gt;</th><th scope=col>&lt;dbl&gt;</th><th scope=col>&lt;dbl&gt;</th><th scope=col>&lt;dbl&gt;</th><th scope=col>&lt;dbl&gt;</th><th scope=col>&lt;dbl&gt;</th><th scope=col>&lt;dbl&gt;</th></tr>\n",
       "</thead>\n",
       "<tbody>\n",
       "\t<tr><th scope=row>temp2</th><td>0.000132</td><td>0.000146</td><td>0.002211</td><td>0.000273</td><td>0.002343</td><td>0.000279</td><td>0.056151</td><td>0.060707</td><td>291.646</td><td> 290.59</td><td>2.112</td><td>1</td><td>0.073062</td><td>164</td><td>chr1_795738</td><td>1e+06</td></tr>\n",
       "\t<tr><th scope=row>temp2</th><td>0.000127</td><td>0.000144</td><td> 0.00223</td><td>0.000276</td><td>0.002357</td><td> 0.00028</td><td>0.053771</td><td>0.059727</td><td> 291.15</td><td>290.179</td><td>1.943</td><td>1</td><td>0.081678</td><td>164</td><td>chr1_795774</td><td>1e+06</td></tr>\n",
       "\t<tr><th scope=row>temp2</th><td>0.000118</td><td>0.000141</td><td>0.002266</td><td> 0.00028</td><td>0.002384</td><td>0.000282</td><td>0.049387</td><td>0.057913</td><td>290.181</td><td>289.358</td><td>1.645</td><td>1</td><td> 0.09979</td><td>164</td><td>chr1_795841</td><td>1e+06</td></tr>\n",
       "\t<tr><th scope=row>temp2</th><td>0.000112</td><td>0.000139</td><td>0.002291</td><td>0.000282</td><td>0.002403</td><td>0.000284</td><td>0.046611</td><td>0.056737</td><td>289.534</td><td>  288.8</td><td>1.468</td><td>1</td><td> 0.11286</td><td>164</td><td>chr1_795884</td><td>1e+06</td></tr>\n",
       "\t<tr><th scope=row>temp2</th><td>0.000108</td><td>0.000138</td><td>0.002307</td><td>0.000284</td><td>0.002415</td><td>0.000285</td><td>0.044818</td><td>0.055984</td><td>289.104</td><td>288.425</td><td>1.358</td><td>1</td><td> 0.12198</td><td>164</td><td>chr1_795912</td><td>1e+06</td></tr>\n",
       "\t<tr><th scope=row>temp2</th><td> 7.4e-05</td><td>0.000126</td><td>0.002465</td><td>0.000302</td><td>0.002539</td><td>0.000298</td><td>0.029137</td><td>0.049115</td><td>285.101</td><td>284.817</td><td>0.568</td><td>1</td><td> 0.22547</td><td>164</td><td>chr1_796163</td><td>1e+06</td></tr>\n",
       "\t<tr><th scope=row>temp2</th><td> 7.1e-05</td><td>0.000125</td><td>0.002479</td><td>0.000304</td><td> 0.00255</td><td>0.000299</td><td>0.027782</td><td>0.048487</td><td>284.753</td><td>284.495</td><td>0.516</td><td>1</td><td> 0.23636</td><td>164</td><td>chr1_796185</td><td>1e+06</td></tr>\n",
       "\t<tr><th scope=row>temp2</th><td>   6e-05</td><td> 0.00012</td><td> 0.00253</td><td> 0.00031</td><td>0.002589</td><td>0.000303</td><td>0.022982</td><td>0.046195</td><td>283.545</td><td> 283.37</td><td> 0.35</td><td>1</td><td>  0.2771</td><td>164</td><td>chr1_796263</td><td>1e+06</td></tr>\n",
       "\t<tr><th scope=row>temp2</th><td>   5e-05</td><td>0.000116</td><td> 0.00257</td><td>0.000314</td><td> 0.00262</td><td>0.000306</td><td>0.019042</td><td>0.044223</td><td>282.605</td><td>282.486</td><td>0.238</td><td>1</td><td> 0.31281</td><td>164</td><td>chr1_796327</td><td>1e+06</td></tr>\n",
       "\t<tr><th scope=row>temp2</th><td> 4.5e-05</td><td>0.000114</td><td>0.002591</td><td>0.000317</td><td>0.002636</td><td>0.000308</td><td>0.017007</td><td>0.043168</td><td>282.142</td><td>282.048</td><td>0.189</td><td>1</td><td> 0.33193</td><td>164</td><td>chr1_796360</td><td>1e+06</td></tr>\n",
       "\t<tr><th scope=row>temp2</th><td> 3.1e-05</td><td>0.000108</td><td>0.002644</td><td>0.000322</td><td>0.002675</td><td>0.000312</td><td>0.011626</td><td>0.040231</td><td>281.009</td><td>280.966</td><td>0.087</td><td>1</td><td>  0.3842</td><td>164</td><td>chr1_796447</td><td>1e+06</td></tr>\n",
       "</tbody>\n",
       "</table>\n"
      ],
      "text/latex": [
       "A matrix: 11 × 16\n",
       "\\begin{tabular}{r|llllllllllllllll}\n",
       "  & V\\_G & SE\\_V\\_G & V\\_e & SE\\_V\\_e & Vp & SE\\_Vp & V\\_G\\_Vp & SE\\_V\\_G\\_Vp & logL & logL0 & LRT & df & Pval & n & site & wind\\\\\n",
       "  & <dbl> & <dbl> & <dbl> & <dbl> & <dbl> & <dbl> & <dbl> & <dbl> & <dbl> & <dbl> & ⋯ & <dbl> & <dbl> & <dbl> & <dbl> & <dbl> & <dbl> & <dbl> & <dbl> & <dbl> & <dbl>\\\\\n",
       "\\hline\n",
       "\ttemp2 & 0.000132 & 0.000146 & 0.002211 & 0.000273 & 0.002343 & 0.000279 & 0.056151 & 0.060707 & 291.646 &  290.59 & 2.112 & 1 & 0.073062 & 164 & chr1\\_795738 & 1e+06\\\\\n",
       "\ttemp2 & 0.000127 & 0.000144 &  0.00223 & 0.000276 & 0.002357 &  0.00028 & 0.053771 & 0.059727 &  291.15 & 290.179 & 1.943 & 1 & 0.081678 & 164 & chr1\\_795774 & 1e+06\\\\\n",
       "\ttemp2 & 0.000118 & 0.000141 & 0.002266 &  0.00028 & 0.002384 & 0.000282 & 0.049387 & 0.057913 & 290.181 & 289.358 & 1.645 & 1 &  0.09979 & 164 & chr1\\_795841 & 1e+06\\\\\n",
       "\ttemp2 & 0.000112 & 0.000139 & 0.002291 & 0.000282 & 0.002403 & 0.000284 & 0.046611 & 0.056737 & 289.534 &   288.8 & 1.468 & 1 &  0.11286 & 164 & chr1\\_795884 & 1e+06\\\\\n",
       "\ttemp2 & 0.000108 & 0.000138 & 0.002307 & 0.000284 & 0.002415 & 0.000285 & 0.044818 & 0.055984 & 289.104 & 288.425 & 1.358 & 1 &  0.12198 & 164 & chr1\\_795912 & 1e+06\\\\\n",
       "\ttemp2 &  7.4e-05 & 0.000126 & 0.002465 & 0.000302 & 0.002539 & 0.000298 & 0.029137 & 0.049115 & 285.101 & 284.817 & 0.568 & 1 &  0.22547 & 164 & chr1\\_796163 & 1e+06\\\\\n",
       "\ttemp2 &  7.1e-05 & 0.000125 & 0.002479 & 0.000304 &  0.00255 & 0.000299 & 0.027782 & 0.048487 & 284.753 & 284.495 & 0.516 & 1 &  0.23636 & 164 & chr1\\_796185 & 1e+06\\\\\n",
       "\ttemp2 &    6e-05 &  0.00012 &  0.00253 &  0.00031 & 0.002589 & 0.000303 & 0.022982 & 0.046195 & 283.545 &  283.37 &  0.35 & 1 &   0.2771 & 164 & chr1\\_796263 & 1e+06\\\\\n",
       "\ttemp2 &    5e-05 & 0.000116 &  0.00257 & 0.000314 &  0.00262 & 0.000306 & 0.019042 & 0.044223 & 282.605 & 282.486 & 0.238 & 1 &  0.31281 & 164 & chr1\\_796327 & 1e+06\\\\\n",
       "\ttemp2 &  4.5e-05 & 0.000114 & 0.002591 & 0.000317 & 0.002636 & 0.000308 & 0.017007 & 0.043168 & 282.142 & 282.048 & 0.189 & 1 &  0.33193 & 164 & chr1\\_796360 & 1e+06\\\\\n",
       "\ttemp2 &  3.1e-05 & 0.000108 & 0.002644 & 0.000322 & 0.002675 & 0.000312 & 0.011626 & 0.040231 & 281.009 & 280.966 & 0.087 & 1 &   0.3842 & 164 & chr1\\_796447 & 1e+06\\\\\n",
       "\\end{tabular}\n"
      ],
      "text/markdown": [
       "\n",
       "A matrix: 11 × 16\n",
       "\n",
       "| <!--/--> | V_G &lt;dbl&gt; | SE_V_G &lt;dbl&gt; | V_e &lt;dbl&gt; | SE_V_e &lt;dbl&gt; | Vp &lt;dbl&gt; | SE_Vp &lt;dbl&gt; | V_G_Vp &lt;dbl&gt; | SE_V_G_Vp &lt;dbl&gt; | logL &lt;dbl&gt; | logL0 &lt;dbl&gt; | LRT ⋯ | df &lt;dbl&gt; | Pval &lt;dbl&gt; | n &lt;dbl&gt; | site &lt;dbl&gt; | wind &lt;dbl&gt; | V_G &lt;dbl&gt; | SE_V_G &lt;dbl&gt; | V_e &lt;dbl&gt; | SE_V_e &lt;dbl&gt; | Vp &lt;dbl&gt; |\n",
       "|---|---|---|---|---|---|---|---|---|---|---|---|---|---|---|---|---|\n",
       "| temp2 | 0.000132 | 0.000146 | 0.002211 | 0.000273 | 0.002343 | 0.000279 | 0.056151 | 0.060707 | 291.646 |  290.59 | 2.112 | 1 | 0.073062 | 164 | chr1_795738 | 1e+06 |\n",
       "| temp2 | 0.000127 | 0.000144 |  0.00223 | 0.000276 | 0.002357 |  0.00028 | 0.053771 | 0.059727 |  291.15 | 290.179 | 1.943 | 1 | 0.081678 | 164 | chr1_795774 | 1e+06 |\n",
       "| temp2 | 0.000118 | 0.000141 | 0.002266 |  0.00028 | 0.002384 | 0.000282 | 0.049387 | 0.057913 | 290.181 | 289.358 | 1.645 | 1 |  0.09979 | 164 | chr1_795841 | 1e+06 |\n",
       "| temp2 | 0.000112 | 0.000139 | 0.002291 | 0.000282 | 0.002403 | 0.000284 | 0.046611 | 0.056737 | 289.534 |   288.8 | 1.468 | 1 |  0.11286 | 164 | chr1_795884 | 1e+06 |\n",
       "| temp2 | 0.000108 | 0.000138 | 0.002307 | 0.000284 | 0.002415 | 0.000285 | 0.044818 | 0.055984 | 289.104 | 288.425 | 1.358 | 1 |  0.12198 | 164 | chr1_795912 | 1e+06 |\n",
       "| temp2 |  7.4e-05 | 0.000126 | 0.002465 | 0.000302 | 0.002539 | 0.000298 | 0.029137 | 0.049115 | 285.101 | 284.817 | 0.568 | 1 |  0.22547 | 164 | chr1_796163 | 1e+06 |\n",
       "| temp2 |  7.1e-05 | 0.000125 | 0.002479 | 0.000304 |  0.00255 | 0.000299 | 0.027782 | 0.048487 | 284.753 | 284.495 | 0.516 | 1 |  0.23636 | 164 | chr1_796185 | 1e+06 |\n",
       "| temp2 |    6e-05 |  0.00012 |  0.00253 |  0.00031 | 0.002589 | 0.000303 | 0.022982 | 0.046195 | 283.545 |  283.37 |  0.35 | 1 |   0.2771 | 164 | chr1_796263 | 1e+06 |\n",
       "| temp2 |    5e-05 | 0.000116 |  0.00257 | 0.000314 |  0.00262 | 0.000306 | 0.019042 | 0.044223 | 282.605 | 282.486 | 0.238 | 1 |  0.31281 | 164 | chr1_796327 | 1e+06 |\n",
       "| temp2 |  4.5e-05 | 0.000114 | 0.002591 | 0.000317 | 0.002636 | 0.000308 | 0.017007 | 0.043168 | 282.142 | 282.048 | 0.189 | 1 |  0.33193 | 164 | chr1_796360 | 1e+06 |\n",
       "| temp2 |  3.1e-05 | 0.000108 | 0.002644 | 0.000322 | 0.002675 | 0.000312 | 0.011626 | 0.040231 | 281.009 | 280.966 | 0.087 | 1 |   0.3842 | 164 | chr1_796447 | 1e+06 |\n",
       "\n"
      ],
      "text/plain": [
       "      V_G      SE_V_G   V_e      SE_V_e   Vp       SE_Vp    V_G_Vp   SE_V_G_Vp\n",
       "temp2 0.000132 0.000146 0.002211 0.000273 0.002343 0.000279 0.056151 0.060707 \n",
       "temp2 0.000127 0.000144  0.00223 0.000276 0.002357  0.00028 0.053771 0.059727 \n",
       "temp2 0.000118 0.000141 0.002266  0.00028 0.002384 0.000282 0.049387 0.057913 \n",
       "temp2 0.000112 0.000139 0.002291 0.000282 0.002403 0.000284 0.046611 0.056737 \n",
       "temp2 0.000108 0.000138 0.002307 0.000284 0.002415 0.000285 0.044818 0.055984 \n",
       "temp2  7.4e-05 0.000126 0.002465 0.000302 0.002539 0.000298 0.029137 0.049115 \n",
       "temp2  7.1e-05 0.000125 0.002479 0.000304  0.00255 0.000299 0.027782 0.048487 \n",
       "temp2    6e-05  0.00012  0.00253  0.00031 0.002589 0.000303 0.022982 0.046195 \n",
       "temp2    5e-05 0.000116  0.00257 0.000314  0.00262 0.000306 0.019042 0.044223 \n",
       "temp2  4.5e-05 0.000114 0.002591 0.000317 0.002636 0.000308 0.017007 0.043168 \n",
       "temp2  3.1e-05 0.000108 0.002644 0.000322 0.002675 0.000312 0.011626 0.040231 \n",
       "      logL    logL0   LRT   df Pval     n   site        wind \n",
       "temp2 291.646  290.59 2.112 1  0.073062 164 chr1_795738 1e+06\n",
       "temp2  291.15 290.179 1.943 1  0.081678 164 chr1_795774 1e+06\n",
       "temp2 290.181 289.358 1.645 1   0.09979 164 chr1_795841 1e+06\n",
       "temp2 289.534   288.8 1.468 1   0.11286 164 chr1_795884 1e+06\n",
       "temp2 289.104 288.425 1.358 1   0.12198 164 chr1_795912 1e+06\n",
       "temp2 285.101 284.817 0.568 1   0.22547 164 chr1_796163 1e+06\n",
       "temp2 284.753 284.495 0.516 1   0.23636 164 chr1_796185 1e+06\n",
       "temp2 283.545  283.37  0.35 1    0.2771 164 chr1_796263 1e+06\n",
       "temp2 282.605 282.486 0.238 1   0.31281 164 chr1_796327 1e+06\n",
       "temp2 282.142 282.048 0.189 1   0.33193 164 chr1_796360 1e+06\n",
       "temp2 281.009 280.966 0.087 1    0.3842 164 chr1_796447 1e+06"
      ]
     },
     "metadata": {},
     "output_type": "display_data"
    }
   ],
   "source": [
    "res[30:40, ]"
   ]
  },
  {
   "cell_type": "code",
   "execution_count": null,
   "id": "54351549-4fba-46f3-a61d-231bbb640fd5",
   "metadata": {},
   "outputs": [],
   "source": [
    "# number seconds to run"
   ]
  },
  {
   "cell_type": "code",
   "execution_count": null,
   "id": "aa795446-4368-4e0f-abf3-522aa925509b",
   "metadata": {},
   "outputs": [],
   "source": [
    "n_sec <- (21*60)+9\n",
    "n_min <- n_sec/60\n",
    "n_hr <- n_min/60\n",
    "print(n_hr)"
   ]
  },
  {
   "cell_type": "code",
   "execution_count": null,
   "id": "1eb52d17-8f30-4551-9bb8-ea676074e14b",
   "metadata": {},
   "outputs": [],
   "source": [
    "core_hr_per_cpg <- n_hr/1000"
   ]
  },
  {
   "cell_type": "code",
   "execution_count": null,
   "id": "c6c5a92f-559b-4ee7-a05c-fb5967bdbcb3",
   "metadata": {},
   "outputs": [],
   "source": [
    "core_hr_per_cpg*26000000"
   ]
  },
  {
   "cell_type": "code",
   "execution_count": null,
   "id": "9b30c276-6cfd-4bc0-ba07-b41ca73a5345",
   "metadata": {},
   "outputs": [],
   "source": []
  },
  {
   "cell_type": "code",
   "execution_count": null,
   "id": "a453658f-70cc-40be-9cf3-286065bbb9df",
   "metadata": {},
   "outputs": [],
   "source": []
  },
  {
   "cell_type": "code",
   "execution_count": null,
   "id": "c700ee5b-0853-40e8-af16-69494ef71885",
   "metadata": {},
   "outputs": [],
   "source": []
  },
  {
   "cell_type": "code",
   "execution_count": null,
   "id": "8160cfcf-e1de-4524-971c-e27d276887e6",
   "metadata": {},
   "outputs": [],
   "source": []
  },
  {
   "cell_type": "code",
   "execution_count": null,
   "id": "dd25e710-5f29-4464-855e-00782b0d4e64",
   "metadata": {},
   "outputs": [],
   "source": []
  },
  {
   "cell_type": "code",
   "execution_count": null,
   "id": "87b6b0b2-f3d9-4ea6-bb45-c669abcf793d",
   "metadata": {},
   "outputs": [],
   "source": []
  },
  {
   "cell_type": "code",
   "execution_count": null,
   "id": "3dcb29a9-7fa8-4f4b-b814-f3bb4dcfdea9",
   "metadata": {},
   "outputs": [],
   "source": []
  },
  {
   "cell_type": "code",
   "execution_count": null,
   "id": "12450432-5012-4629-a363-870e3cf0596f",
   "metadata": {},
   "outputs": [],
   "source": []
  },
  {
   "cell_type": "code",
   "execution_count": null,
   "id": "7d904201-7eb5-4695-b5eb-115b8e98cfcb",
   "metadata": {},
   "outputs": [],
   "source": []
  },
  {
   "cell_type": "code",
   "execution_count": null,
   "id": "4cc6705e-6a71-4687-a252-8f734421e8d8",
   "metadata": {},
   "outputs": [],
   "source": []
  },
  {
   "cell_type": "code",
   "execution_count": null,
   "id": "c3d0518c-00d1-43ed-b24c-d79352a09703",
   "metadata": {},
   "outputs": [],
   "source": []
  },
  {
   "cell_type": "code",
   "execution_count": 43,
   "id": "8b4164f7-8198-4036-b155-48a7c9a994cd",
   "metadata": {},
   "outputs": [],
   "source": [
    "chunk2 <- 5000"
   ]
  },
  {
   "cell_type": "code",
   "execution_count": 44,
   "id": "dd2d307a-b82f-4435-9e7e-ba156b9aa83e",
   "metadata": {},
   "outputs": [
    {
     "data": {
      "text/plain": [
       "[1] \"2024-08-22 12:07:23 EDT\""
      ]
     },
     "metadata": {},
     "output_type": "display_data"
    }
   ],
   "source": [
    "Sys.time()"
   ]
  },
  {
   "cell_type": "code",
   "execution_count": null,
   "id": "049c11a6-b8ae-44c5-bb1a-e22133b2d1bc",
   "metadata": {
    "tags": []
   },
   "outputs": [],
   "source": [
    "# loop over vmr between two chunks\n",
    "res <- c()\n",
    "for(i in chunk1:chunk2){\n",
    "\tcat(i,\"\\n\")\n",
    "\tchr <- gsub(\"chr\",\"\",chr)\n",
    "\t# loop over each window size\n",
    "\tfor(w in 1:length(wind)){\n",
    "        # plink subset\n",
    "        p1 <- ifelse(CpG_positions[i] - wind[w] > 0, CpG_positions[i] - wind[w],0)\n",
    "        p2 <- CpG_positions[i] + wind[w]\n",
    "        gwas_prefix <- paste0(gwas,\"libd_chr\",chr)\n",
    "        command <- paste(\"/dcs04/lieber/statsgen/mnagle/mwas/CpGWAS/scripts/plink2 --pfile \", gwas_prefix, \"--silent --keep id\",\n",
    "                         \"--chr \",chr,\n",
    "                         \"--from-bp\",p1,\"--to-bp\",p2,\n",
    "                         \"--snps-only 'just-acgt' --make-bed --threads 1 --out temp\",\n",
    "                         sep=\" \")\n",
    "        system(command)\t\n",
    "        if(!file.exists(\"temp.bim\")){\n",
    "            next;\n",
    "        }\n",
    "        # phenotype file \n",
    "        #pheno <- cbind(0,id,p[,i])\n",
    "        pheno <- cbind(0,ind,p[,i])\n",
    "        write.table(pheno,\"pheno\",col.names=F,row.names=F,quote=F,sep=\"\\t\")\n",
    "        # grm\n",
    "        command <- paste(gcta, \"--bfile temp --make-grm-bin --thread-num 1 --out temp\", sep=\" \")\n",
    "        system(command)\n",
    "        # h2 estimation\n",
    "        command <- paste(gcta, \"--reml --grm-bin temp --pheno pheno --mpheno 1 --qcovar covs --thread-num 1 --out temp\", sep=\" \")\n",
    "        system(command)\n",
    "        # collect results\n",
    "        if(!file.exists(\"temp.hsq\")){\n",
    "            next;\n",
    "        }\n",
    "        temp <- read.table(\"temp.hsq\",header=T, fill=TRUE)\n",
    "        temp$site <- paste0(\"chr\",chr,\"_\",CpG_positions[i])\n",
    "        temp$wind <- wind[w]\n",
    "        res <- rbind(res,temp)\n",
    "        # remove temp files\n",
    "        system(\"rm temp*\")\n",
    "        }\n",
    "\t\n",
    "}\n",
    "write.table(res,\"res-singlethread.txt\",col.names=T,row.names=F,quote=F,sep=\"\\t\") "
   ]
  },
  {
   "cell_type": "code",
   "execution_count": null,
   "id": "82785a1a-a627-4dec-8591-cac4948d45e6",
   "metadata": {},
   "outputs": [],
   "source": [
    "Sys.time()"
   ]
  },
  {
   "cell_type": "markdown",
   "id": "3b850b06-3aa0-47ab-907b-ee75e1c7407e",
   "metadata": {},
   "source": [
    "5000 tests in 1hr54min47sec. 1.9136hr"
   ]
  },
  {
   "cell_type": "code",
   "execution_count": null,
   "id": "97da4431-97bb-41b5-aac8-0e281b140431",
   "metadata": {},
   "outputs": [],
   "source": [
    "(1.913/5000)*2.6*10^6"
   ]
  },
  {
   "cell_type": "code",
   "execution_count": null,
   "id": "195473fb-3970-44a3-8e72-41a6426dc440",
   "metadata": {},
   "outputs": [],
   "source": [
    "(1.913/5000)*26*10^6 # Estimated runtime for all"
   ]
  },
  {
   "cell_type": "code",
   "execution_count": null,
   "id": "b141f5c2-c72a-4758-81c3-6a33b59a903c",
   "metadata": {},
   "outputs": [],
   "source": [
    "|"
   ]
  }
 ],
 "metadata": {
  "kernelspec": {
   "display_name": "R",
   "language": "R",
   "name": "ir"
  },
  "language_info": {
   "codemirror_mode": "r",
   "file_extension": ".r",
   "mimetype": "text/x-r-source",
   "name": "R",
   "pygments_lexer": "r",
   "version": "4.3.1"
  }
 },
 "nbformat": 4,
 "nbformat_minor": 5
}
