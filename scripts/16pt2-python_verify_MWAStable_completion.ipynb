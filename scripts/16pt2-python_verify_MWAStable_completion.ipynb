{
 "cells": [
  {
   "cell_type": "markdown",
   "id": "7490c4d5-30b8-4fe3-9c74-2192e2fdf072",
   "metadata": {},
   "source": [
    "# Verify completion of MWAS tables"
   ]
  },
  {
   "cell_type": "code",
   "execution_count": 1,
   "id": "a37b2af3-6a4a-4347-90d1-96af994dd0c3",
   "metadata": {},
   "outputs": [],
   "source": [
    "from collections import Counter\n",
    "\n",
    "# Read log file\n",
    "with open('processing_log.txt', 'r') as file:\n",
    "    lines = file.readlines()\n",
    "\n",
    "# Create counters for start and finish entries\n",
    "starts = Counter(line.split('file ')[1].strip() for line in lines if 'Starting' in line)\n",
    "finishes = Counter(line.split('file ')[1].strip() for line in lines if 'Finished' in line)\n",
    "\n",
    "# Compare the counters and identify incomplete files\n",
    "incomplete_files = [file for file in starts if starts[file] != finishes[file]]\n",
    "\n",
    "# Print incomplete files\n",
    "for file in incomplete_files:\n",
    "    print(f'Incomplete processing for: {file}')\n"
   ]
  },
  {
   "cell_type": "code",
   "execution_count": 2,
   "id": "f437b8b8-4390-495b-a743-5eb5820468ef",
   "metadata": {},
   "outputs": [
    {
     "name": "stdout",
     "output_type": "stream",
     "text": [
      "Incomplete Files:\n",
      "\n",
      "Complete Files:\n"
     ]
    }
   ],
   "source": [
    "from collections import Counter\n",
    "\n",
    "# Read log file\n",
    "with open('processing_log.txt', 'r') as file:\n",
    "    lines = file.readlines()\n",
    "\n",
    "# Create counters for start and finish entries\n",
    "starts = Counter(line.split('file ')[1].strip() for line in lines if 'Starting' in line)\n",
    "finishes = Counter(line.split('file ')[1].strip() for line in lines if 'Finished' in line)\n",
    "\n",
    "# Identify incomplete and complete files\n",
    "incomplete_files = [file for file in starts if starts[file] != finishes[file]]\n",
    "complete_files = [file for file in starts if starts[file] == finishes[file]]\n",
    "\n",
    "# Print incomplete files\n",
    "print(\"Incomplete Files:\")\n",
    "for file in incomplete_files:\n",
    "    print(f'Incomplete processing for: {file}')\n",
    "\n",
    "# Print complete files\n",
    "print(\"\\nComplete Files:\")\n",
    "for file in complete_files:\n",
    "    print(f'Complete processing for: {file}')\n"
   ]
  },
  {
   "cell_type": "code",
   "execution_count": null,
   "id": "80b92a3c-2620-45b3-9ebe-488067938bc4",
   "metadata": {},
   "outputs": [],
   "source": []
  }
 ],
 "metadata": {
  "kernelspec": {
   "display_name": "Python 3 (ipykernel)",
   "language": "python",
   "name": "python3"
  },
  "language_info": {
   "codemirror_mode": {
    "name": "ipython",
    "version": 3
   },
   "file_extension": ".py",
   "mimetype": "text/x-python",
   "name": "python",
   "nbconvert_exporter": "python",
   "pygments_lexer": "ipython3",
   "version": "3.11.7"
  }
 },
 "nbformat": 4,
 "nbformat_minor": 5
}
