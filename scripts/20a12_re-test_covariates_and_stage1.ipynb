{
 "cells": [
  {
   "cell_type": "markdown",
   "id": "bf56f1cb-692a-4f54-b026-99e8075d50e8",
   "metadata": {},
   "source": [
    "# Try MWAS with covariates prepared in various ways"
   ]
  },
  {
   "cell_type": "markdown",
   "id": "95427c7a-1cc3-4399-8c83-aa336a58b13b",
   "metadata": {},
   "source": [
    "In this version, we only use the SNPs (from new files) also in old files"
   ]
  },
  {
   "cell_type": "markdown",
   "id": "ca2a80fb-d548-4157-b585-cd5cf6a471d2",
   "metadata": {},
   "source": [
    "# Pick the regions we will test"
   ]
  },
  {
   "cell_type": "code",
   "execution_count": 1,
   "id": "36f713c6-9673-42fe-b9d9-2010f414deda",
   "metadata": {},
   "outputs": [],
   "source": [
    "library(data.table)\n",
    "\n",
    "prev_hits <- fread(\"\n",
    "Chr     pos        old_z       old_p\n",
    "11   38247902        -27.1535308285104       2.30024742330298e-162\n",
    "2    47933357        18.3327793004811        4.53147699327216e-75\n",
    "7    1987910         10.1255085321387        4.25759742738181e-24\n",
    "7    1987896         10.1255085321387        4.25759742738189e-24\n",
    "7    1987797         10.0241523897721        1.19379483108027e-23\n",
    "7    1987778         10.0105851568856        1.36940148731912e-23\n",
    "12   2194742         -10.0072634920486       1.41615523554955e-23\n",
    "\")\n"
   ]
  },
  {
   "cell_type": "code",
   "execution_count": 2,
   "id": "ed1b7512-ee13-4f4e-9a6b-da40e521c346",
   "metadata": {},
   "outputs": [],
   "source": [
    "#df <- fread(\"09.5-OUT_matched_SNP_meth_cov_chunked_EXPANSE_a2.csv\")"
   ]
  },
  {
   "cell_type": "code",
   "execution_count": 3,
   "id": "c6034757-2d3c-43d3-aa16-70baa5169549",
   "metadata": {},
   "outputs": [],
   "source": [
    "df <- fread(\"09-OUT_matched_SNP_meth_cov_a2.csv\")"
   ]
  },
  {
   "cell_type": "markdown",
   "id": "d7711c4d-5f19-4fd0-9f7b-891133ac3311",
   "metadata": {},
   "source": [
    "## Try original code"
   ]
  },
  {
   "cell_type": "code",
   "execution_count": 4,
   "id": "be729eb2-c5b2-4d3e-b835-072d8f5ba2e6",
   "metadata": {},
   "outputs": [],
   "source": [
    "###### model: learn elastic net model on training data \n",
    "######---------Input: trainX, trainY\n",
    "######---------Return: selected features and coefficents\n",
    "\n",
    "# original\n",
    "elastic.net <- function(trainX,trainY){\n",
    "    if(nrow(trainX)!=length(trainY)){\n",
    "            stop(\"Number of observations is differerent\")\n",
    "    } \n",
    "\n",
    "    # optimize alpha---mixing parameter  \n",
    "    a <- 0.5\n",
    "    search <- foreach(ai = a, .combine = rbind) %dopar% {\n",
    "        cv.fit <- cv.glmnet(\n",
    "                        trainX,\n",
    "                        trainY,\n",
    "                        nfold = 5,\n",
    "                        type.measure = \"mse\",\n",
    "                        paralle = TRUE,\n",
    "                        alpha = ai\n",
    "                        )\n",
    "        data.frame(\n",
    "                        cvm = min(cv.fit$cvm),\n",
    "                        lambda = cv.fit$lambda.min,\n",
    "                        alpha = ai\n",
    "                        )\n",
    "        } \n",
    "    cv.opt <- search[search$cvm == min(search$cvm),] \n",
    "\n",
    "        # fit model by optimized alpha and lambda\n",
    "        yfit = glmnet(\n",
    "        trainX,\n",
    "        trainY,\n",
    "        lambda = cv.opt$lambda,\n",
    "        alpha = cv.opt$alpha\n",
    "                )       \n",
    "        idf <- coef(yfit)\n",
    "        idx <- which(idf != 0)\n",
    "        selectf <- data.frame(\n",
    "                features = idf@Dimnames[[1]][idx], \n",
    "                coefs = idf [idx]\n",
    "        )\n",
    "}\n",
    "\n",
    "# modified to use lambda 1se and appropriate cvm\n",
    "# elastic.net <- function(trainX,trainY){\n",
    "#     if(nrow(trainX)!=length(trainY)){\n",
    "#             stop(\"Number of observations is differerent\")\n",
    "#     } \n",
    "\n",
    "#     # optimize alpha---mixing parameter  \n",
    "#     a <- 0.5\n",
    "#     search <- foreach(ai = a, .combine = rbind) %dopar% {\n",
    "#         set.seed(42)\n",
    "#         cv.fit <- cv.glmnet(\n",
    "#                         trainX,\n",
    "#                         trainY,\n",
    "#                         nfold = 5,\n",
    "#                         type.measure = \"mse\",\n",
    "#                         paralle = TRUE,\n",
    "#                         alpha = ai\n",
    "#                         )\n",
    "#         print(paste0(\"Dim of trainX: \", dim(trainX)))\n",
    "#         print(paste0(\"Len of trainY: \", length(trainY)))\n",
    "#         coef_matrix <- as.matrix(coef(cv.fit))\n",
    "\n",
    "#         non_zero_coefs <- coef_matrix[coef_matrix != 0, , drop = FALSE]\n",
    "#         print(\"Coefficients when fitting: \")\n",
    "#         print(non_zero_coefs)\n",
    "\n",
    "#         data.frame(\n",
    "#                         cvm = cv.fit$cvm[cv.fit$lambda == cv.fit$lambda.1se],\n",
    "#                         lambda = cv.fit$lambda.1se,\n",
    "#                         alpha = ai\n",
    "#                         )\n",
    "#         } \n",
    "#     cv.opt <- search[search$cvm == min(search$cvm),] \n",
    "\n",
    "#         # fit model by optimized alpha and lambda\n",
    "#     set.seed(42)\n",
    "#     yfit <- glmnet(\n",
    "#     trainX,\n",
    "#     trainY,\n",
    "#     lambda = cv.opt$lambda,\n",
    "#     alpha = cv.opt$alpha)\n",
    "\n",
    "#     coef_matrix <- as.matrix(coef(yfit))\n",
    "\n",
    "#     non_zero_coefs <- coef_matrix[coef_matrix != 0, , drop = FALSE]\n",
    "#     print(\"Coefficients when optimal: \")\n",
    "#     print(non_zero_coefs)\n",
    "\n",
    "#     idf <- coef(yfit)\n",
    "#     idx <- which(idf != 0)\n",
    "#     selectf <- data.frame(\n",
    "#             features = idf@Dimnames[[1]][idx], \n",
    "#             coefs = idf [idx]\n",
    "#     )\n",
    "# }\n",
    "\n",
    "MWAS <- function(gwas, weight, geno){\n",
    "        z <- gwas %*% weight\n",
    "        z.cor <- cor(geno)\n",
    "        se <- sqrt(weight %*%  z.cor %*%  weight)\n",
    "        z <- z/se\n",
    "        p=pnorm(abs(z),lower.tail=F)*2\n",
    "        return(c(z, p))\n",
    "}"
   ]
  },
  {
   "cell_type": "code",
   "execution_count": 5,
   "id": "9821a860-2a97-4a7b-bfca-6e8abd96bf8a",
   "metadata": {},
   "outputs": [],
   "source": [
    "df <- df[which(df$Chr == 7), ]"
   ]
  },
  {
   "cell_type": "code",
   "execution_count": 6,
   "id": "a023b2df-92e9-414d-a2e5-a8c6d3193954",
   "metadata": {},
   "outputs": [],
   "source": [
    "i <- 2"
   ]
  },
  {
   "cell_type": "code",
   "execution_count": 7,
   "id": "22de2603-481a-4995-8991-1f6f64989e3d",
   "metadata": {},
   "outputs": [
    {
     "name": "stderr",
     "output_type": "stream",
     "text": [
      "Loading required package: Matrix\n",
      "\n",
      "Loaded glmnet 4.1-8\n",
      "\n",
      "Loading required package: foreach\n",
      "\n",
      "Loading required package: iterators\n",
      "\n",
      "Loading required package: parallel\n",
      "\n"
     ]
    }
   ],
   "source": [
    "library(\"glmnet\")\n",
    "library(\"e1071\")\n",
    "library(\"doParallel\")\n",
    "\n",
    "set.seed(2018)\n",
    "wind <- c(5000,10000)\n",
    "# output directory\n",
    "#outd <- \"/dcl02/lieber/shan/shizhong/finemapping/GWAS/tags/scz3/mwas/chr22/1/\"\n",
    "outd <- \"20-OUT_original_mwas_sanity_test/\""
   ]
  },
  {
   "cell_type": "code",
   "execution_count": 8,
   "id": "f9b051aa-a1e5-421b-856d-718cf85c24a3",
   "metadata": {},
   "outputs": [
    {
     "name": "stderr",
     "output_type": "stream",
     "text": [
      "Loading required package: BiocGenerics\n",
      "\n",
      "\n",
      "Attaching package: ‘BiocGenerics’\n",
      "\n",
      "\n",
      "The following objects are masked from ‘package:stats’:\n",
      "\n",
      "    IQR, mad, sd, var, xtabs\n",
      "\n",
      "\n",
      "The following objects are masked from ‘package:base’:\n",
      "\n",
      "    anyDuplicated, aperm, append, as.data.frame, basename, cbind,\n",
      "    colnames, dirname, do.call, duplicated, eval, evalq, Filter, Find,\n",
      "    get, grep, grepl, intersect, is.unsorted, lapply, Map, mapply,\n",
      "    match, mget, order, paste, pmax, pmax.int, pmin, pmin.int,\n",
      "    Position, rank, rbind, Reduce, rownames, sapply, setdiff, sort,\n",
      "    table, tapply, union, unique, unsplit, which.max, which.min\n",
      "\n",
      "\n",
      "Loading required package: GenomicRanges\n",
      "\n",
      "Loading required package: stats4\n",
      "\n",
      "Loading required package: S4Vectors\n",
      "\n",
      "\n",
      "Attaching package: ‘S4Vectors’\n",
      "\n",
      "\n",
      "The following objects are masked from ‘package:Matrix’:\n",
      "\n",
      "    expand, unname\n",
      "\n",
      "\n",
      "The following objects are masked from ‘package:data.table’:\n",
      "\n",
      "    first, second\n",
      "\n",
      "\n",
      "The following object is masked from ‘package:utils’:\n",
      "\n",
      "    findMatches\n",
      "\n",
      "\n",
      "The following objects are masked from ‘package:base’:\n",
      "\n",
      "    expand.grid, I, unname\n",
      "\n",
      "\n",
      "Loading required package: IRanges\n",
      "\n",
      "\n",
      "Attaching package: ‘IRanges’\n",
      "\n",
      "\n",
      "The following object is masked from ‘package:data.table’:\n",
      "\n",
      "    shift\n",
      "\n",
      "\n",
      "Loading required package: GenomeInfoDb\n",
      "\n",
      "Loading required package: SummarizedExperiment\n",
      "\n",
      "Loading required package: MatrixGenerics\n",
      "\n",
      "Loading required package: matrixStats\n",
      "\n",
      "\n",
      "Attaching package: ‘MatrixGenerics’\n",
      "\n",
      "\n",
      "The following objects are masked from ‘package:matrixStats’:\n",
      "\n",
      "    colAlls, colAnyNAs, colAnys, colAvgsPerRowSet, colCollapse,\n",
      "    colCounts, colCummaxs, colCummins, colCumprods, colCumsums,\n",
      "    colDiffs, colIQRDiffs, colIQRs, colLogSumExps, colMadDiffs,\n",
      "    colMads, colMaxs, colMeans2, colMedians, colMins, colOrderStats,\n",
      "    colProds, colQuantiles, colRanges, colRanks, colSdDiffs, colSds,\n",
      "    colSums2, colTabulates, colVarDiffs, colVars, colWeightedMads,\n",
      "    colWeightedMeans, colWeightedMedians, colWeightedSds,\n",
      "    colWeightedVars, rowAlls, rowAnyNAs, rowAnys, rowAvgsPerColSet,\n",
      "    rowCollapse, rowCounts, rowCummaxs, rowCummins, rowCumprods,\n",
      "    rowCumsums, rowDiffs, rowIQRDiffs, rowIQRs, rowLogSumExps,\n",
      "    rowMadDiffs, rowMads, rowMaxs, rowMeans2, rowMedians, rowMins,\n",
      "    rowOrderStats, rowProds, rowQuantiles, rowRanges, rowRanks,\n",
      "    rowSdDiffs, rowSds, rowSums2, rowTabulates, rowVarDiffs, rowVars,\n",
      "    rowWeightedMads, rowWeightedMeans, rowWeightedMedians,\n",
      "    rowWeightedSds, rowWeightedVars\n",
      "\n",
      "\n",
      "Loading required package: Biobase\n",
      "\n",
      "Welcome to Bioconductor\n",
      "\n",
      "    Vignettes contain introductory material; view with\n",
      "    'browseVignettes()'. To cite Bioconductor, see\n",
      "    'citation(\"Biobase\")', and for packages 'citation(\"pkgname\")'.\n",
      "\n",
      "\n",
      "\n",
      "Attaching package: ‘Biobase’\n",
      "\n",
      "\n",
      "The following object is masked from ‘package:MatrixGenerics’:\n",
      "\n",
      "    rowMedians\n",
      "\n",
      "\n",
      "The following objects are masked from ‘package:matrixStats’:\n",
      "\n",
      "    anyMissing, rowMedians\n",
      "\n",
      "\n"
     ]
    }
   ],
   "source": [
    "suppressWarnings(library(bsseq))"
   ]
  },
  {
   "cell_type": "code",
   "execution_count": 9,
   "id": "e90b99cd-2b98-40e1-bd61-7814f00d9aec",
   "metadata": {},
   "outputs": [],
   "source": [
    "# load data for mwas\n",
    "# load(\"./rda/caudate_mwas_data_chr22.rda\")\n",
    "load(df$methylation_data[i])\n",
    "\n",
    "p <- getMeth(BSobj2)\n",
    "\n",
    "\n",
    "rownames(p) <- start(BSobj2)\n",
    "\n",
    "sites_to_test <- which(start(BSobj2) >= (1987910 - 500) & start(BSobj2) <= (1987910 + 500))\n",
    "p <- p[sites_to_test, ]\n",
    "\n",
    "# candidate cg\n",
    "cg <- as.numeric(rownames(p))\n",
    "\n",
    "# regress out covariates\n",
    "#load(\"covs_for_meqtl.rda\")"
   ]
  },
  {
   "cell_type": "code",
   "execution_count": 10,
   "id": "fdac488b-fe58-40a7-bab0-408e7141880f",
   "metadata": {},
   "outputs": [
    {
     "data": {
      "text/html": [
       "<style>\n",
       ".list-inline {list-style: none; margin:0; padding: 0}\n",
       ".list-inline>li {display: inline-block}\n",
       ".list-inline>li:not(:last-child)::after {content: \"\\00b7\"; padding: 0 .5ex}\n",
       "</style>\n",
       "<ol class=list-inline><li>58792</li><li>58793</li><li>58794</li><li>58795</li><li>58796</li><li>58797</li><li>58798</li><li>58799</li><li>58800</li><li>58801</li><li>58802</li><li>58803</li><li>58804</li><li>58805</li><li>58806</li><li>58807</li><li>58808</li><li>58809</li><li>58810</li><li>58811</li><li>58812</li><li>58813</li><li>58814</li><li>58815</li><li>58816</li><li>58817</li><li>58818</li><li>58819</li><li>58820</li><li>58821</li><li>58822</li><li>58823</li><li>58824</li><li>58825</li><li>58826</li><li>58827</li><li>58828</li><li>58829</li><li>58830</li><li>58831</li><li>58832</li><li>58833</li><li>58834</li><li>58835</li><li>58836</li><li>58837</li><li>58838</li><li>58839</li><li>58840</li></ol>\n"
      ],
      "text/latex": [
       "\\begin{enumerate*}\n",
       "\\item 58792\n",
       "\\item 58793\n",
       "\\item 58794\n",
       "\\item 58795\n",
       "\\item 58796\n",
       "\\item 58797\n",
       "\\item 58798\n",
       "\\item 58799\n",
       "\\item 58800\n",
       "\\item 58801\n",
       "\\item 58802\n",
       "\\item 58803\n",
       "\\item 58804\n",
       "\\item 58805\n",
       "\\item 58806\n",
       "\\item 58807\n",
       "\\item 58808\n",
       "\\item 58809\n",
       "\\item 58810\n",
       "\\item 58811\n",
       "\\item 58812\n",
       "\\item 58813\n",
       "\\item 58814\n",
       "\\item 58815\n",
       "\\item 58816\n",
       "\\item 58817\n",
       "\\item 58818\n",
       "\\item 58819\n",
       "\\item 58820\n",
       "\\item 58821\n",
       "\\item 58822\n",
       "\\item 58823\n",
       "\\item 58824\n",
       "\\item 58825\n",
       "\\item 58826\n",
       "\\item 58827\n",
       "\\item 58828\n",
       "\\item 58829\n",
       "\\item 58830\n",
       "\\item 58831\n",
       "\\item 58832\n",
       "\\item 58833\n",
       "\\item 58834\n",
       "\\item 58835\n",
       "\\item 58836\n",
       "\\item 58837\n",
       "\\item 58838\n",
       "\\item 58839\n",
       "\\item 58840\n",
       "\\end{enumerate*}\n"
      ],
      "text/markdown": [
       "1. 58792\n",
       "2. 58793\n",
       "3. 58794\n",
       "4. 58795\n",
       "5. 58796\n",
       "6. 58797\n",
       "7. 58798\n",
       "8. 58799\n",
       "9. 58800\n",
       "10. 58801\n",
       "11. 58802\n",
       "12. 58803\n",
       "13. 58804\n",
       "14. 58805\n",
       "15. 58806\n",
       "16. 58807\n",
       "17. 58808\n",
       "18. 58809\n",
       "19. 58810\n",
       "20. 58811\n",
       "21. 58812\n",
       "22. 58813\n",
       "23. 58814\n",
       "24. 58815\n",
       "25. 58816\n",
       "26. 58817\n",
       "27. 58818\n",
       "28. 58819\n",
       "29. 58820\n",
       "30. 58821\n",
       "31. 58822\n",
       "32. 58823\n",
       "33. 58824\n",
       "34. 58825\n",
       "35. 58826\n",
       "36. 58827\n",
       "37. 58828\n",
       "38. 58829\n",
       "39. 58830\n",
       "40. 58831\n",
       "41. 58832\n",
       "42. 58833\n",
       "43. 58834\n",
       "44. 58835\n",
       "45. 58836\n",
       "46. 58837\n",
       "47. 58838\n",
       "48. 58839\n",
       "49. 58840\n",
       "\n",
       "\n"
      ],
      "text/plain": [
       " [1] 58792 58793 58794 58795 58796 58797 58798 58799 58800 58801 58802 58803\n",
       "[13] 58804 58805 58806 58807 58808 58809 58810 58811 58812 58813 58814 58815\n",
       "[25] 58816 58817 58818 58819 58820 58821 58822 58823 58824 58825 58826 58827\n",
       "[37] 58828 58829 58830 58831 58832 58833 58834 58835 58836 58837 58838 58839\n",
       "[49] 58840"
      ]
     },
     "metadata": {},
     "output_type": "display_data"
    }
   ],
   "source": [
    "sites_to_test"
   ]
  },
  {
   "cell_type": "code",
   "execution_count": 11,
   "id": "cc499656-ec9a-45cd-ad05-b17e957eaaa6",
   "metadata": {},
   "outputs": [],
   "source": [
    "covs <- fread(df$cov_file[i])\n",
    "covs <- t(covs)\n",
    "colnames(covs) <- covs[1, ]\n",
    "covs <- covs[2:nrow(covs), ]\n",
    "# transpose so we have same orientation as original code"
   ]
  },
  {
   "cell_type": "code",
   "execution_count": 12,
   "id": "85527835-9e3f-4ba9-a645-5330564e0b7c",
   "metadata": {},
   "outputs": [],
   "source": [
    "BSobj2$brnum <- gsub(\"Br0\", \"Br\", BSobj2$brnum)\n",
    "colnames(covs) <- gsub(\"Br0\", \"Br\", colnames(covs))"
   ]
  },
  {
   "cell_type": "code",
   "execution_count": 13,
   "id": "e0115e07-f204-4ae5-95f5-e67d94554ef7",
   "metadata": {},
   "outputs": [
    {
     "data": {
      "text/html": [
       "297"
      ],
      "text/latex": [
       "297"
      ],
      "text/markdown": [
       "297"
      ],
      "text/plain": [
       "[1] 297"
      ]
     },
     "metadata": {},
     "output_type": "display_data"
    }
   ],
   "source": [
    "length(match(BSobj2$brnum,colnames(covs)))"
   ]
  },
  {
   "cell_type": "code",
   "execution_count": 14,
   "id": "8899261b-73fb-430e-bcdb-143fc8f04670",
   "metadata": {},
   "outputs": [],
   "source": [
    "mat <- match(BSobj2$brnum,colnames(covs)) \n",
    "covs <- t(covs[,mat])\n",
    "p.residual=matrix(NA,dim(p)[1],dim(p)[2])"
   ]
  },
  {
   "cell_type": "code",
   "execution_count": 15,
   "id": "35031e54-4c54-4a37-9997-99b57efa86bf",
   "metadata": {},
   "outputs": [],
   "source": [
    "rownames(covs)[is.na(covs[, 'genoPC1'])] <- BSobj2$brnum[is.na(covs[, 'genoPC1'])]"
   ]
  },
  {
   "cell_type": "code",
   "execution_count": 16,
   "id": "70bda030-7a89-4dff-8c61-f576badfd8bd",
   "metadata": {},
   "outputs": [],
   "source": [
    "colnames(p.residual) <- BSobj2$brnum"
   ]
  },
  {
   "cell_type": "code",
   "execution_count": 17,
   "id": "78ee80f1-d9ea-46b0-b37a-dfeed3dbdf97",
   "metadata": {},
   "outputs": [],
   "source": [
    "covs <- as.data.frame(covs)\n",
    "# Convert all columns except Dx and Sex from character to numeric\n",
    "cols_to_convert <- setdiff(names(covs), c(\"Dx\", \"Sex\"))\n",
    "\n",
    "for (col in cols_to_convert) {\n",
    "  covs[[col]] <- as.numeric(covs[[col]])\n",
    "}\n",
    "\n",
    "# Print the modified data frame to check the conversion\n",
    "#print(dat)\n"
   ]
  },
  {
   "cell_type": "code",
   "execution_count": 18,
   "id": "2675e5bf-0e1a-4942-a712-a73070a547fe",
   "metadata": {},
   "outputs": [
    {
     "data": {
      "text/html": [
       "<table class=\"dataframe\">\n",
       "<caption>A data.frame: 6 × 16</caption>\n",
       "<thead>\n",
       "\t<tr><th></th><th scope=col>genoPC1</th><th scope=col>genoPC2</th><th scope=col>genoPC3</th><th scope=col>methPC1</th><th scope=col>methPC2</th><th scope=col>methPC3</th><th scope=col>methPC4</th><th scope=col>methPC5</th><th scope=col>methPC6</th><th scope=col>methPC7</th><th scope=col>methPC8</th><th scope=col>methPC9</th><th scope=col>methPC10</th><th scope=col>Dx</th><th scope=col>Age</th><th scope=col>Sex</th></tr>\n",
       "\t<tr><th></th><th scope=col>&lt;dbl&gt;</th><th scope=col>&lt;dbl&gt;</th><th scope=col>&lt;dbl&gt;</th><th scope=col>&lt;dbl&gt;</th><th scope=col>&lt;dbl&gt;</th><th scope=col>&lt;dbl&gt;</th><th scope=col>&lt;dbl&gt;</th><th scope=col>&lt;dbl&gt;</th><th scope=col>&lt;dbl&gt;</th><th scope=col>&lt;dbl&gt;</th><th scope=col>&lt;dbl&gt;</th><th scope=col>&lt;dbl&gt;</th><th scope=col>&lt;dbl&gt;</th><th scope=col>&lt;chr&gt;</th><th scope=col>&lt;dbl&gt;</th><th scope=col>&lt;chr&gt;</th></tr>\n",
       "</thead>\n",
       "<tbody>\n",
       "\t<tr><th scope=row>Br1122</th><td> 0.0532758</td><td> 0.00686226</td><td> 0.088819600</td><td>-369.74476</td><td> -87.17607</td><td> 168.759340</td><td>-269.504298</td><td>258.02473</td><td> -1.69242</td><td> 48.97785</td><td>159.56483</td><td> -54.36247</td><td> 35.931528</td><td>Control</td><td>48.61</td><td>M</td></tr>\n",
       "\t<tr><th scope=row>Br2285</th><td>-0.0621117</td><td> 0.06237480</td><td>-0.004629460</td><td> 159.18604</td><td> -48.36568</td><td> 261.556008</td><td>  64.817606</td><td>108.47666</td><td>-52.11707</td><td> 79.76524</td><td> 91.72461</td><td>  67.94607</td><td> 26.261142</td><td>Control</td><td>53.29</td><td>M</td></tr>\n",
       "\t<tr><th scope=row>Br1764</th><td>-0.0613176</td><td> 0.03891250</td><td>-0.000738591</td><td> -74.62200</td><td>-107.85435</td><td> 200.001413</td><td>  58.971643</td><td> 55.62332</td><td>-70.38619</td><td>185.05197</td><td> 61.13412</td><td>  31.48804</td><td> 22.733084</td><td>Control</td><td>56.05</td><td>M</td></tr>\n",
       "\t<tr><th scope=row>Br1464</th><td> 0.0548900</td><td>-0.01760230</td><td>-0.104721000</td><td> -87.98447</td><td> 262.20475</td><td>-115.927348</td><td> 128.059707</td><td>239.34545</td><td>-97.21134</td><td>-82.06519</td><td>-24.13204</td><td>-139.33348</td><td>-15.655063</td><td>SCZ    </td><td>55.69</td><td>F</td></tr>\n",
       "\t<tr><th scope=row>Br5062</th><td>-0.0621787</td><td> 0.05752900</td><td>-0.004001160</td><td> 259.25733</td><td>-171.22695</td><td>   8.888978</td><td>  91.790650</td><td>109.38406</td><td>-96.18880</td><td>-67.54609</td><td> 23.00965</td><td>  92.64693</td><td> -5.282966</td><td>Control</td><td>82.66</td><td>M</td></tr>\n",
       "\t<tr><th scope=row>Br1446</th><td>-0.0599802</td><td>-0.02904590</td><td> 0.024323100</td><td> 496.41183</td><td>-194.51406</td><td>   9.438974</td><td>   5.141084</td><td> 60.36936</td><td>-42.95399</td><td>157.21084</td><td>-44.44427</td><td>  47.59827</td><td> 18.932008</td><td>Control</td><td>34.44</td><td>M</td></tr>\n",
       "</tbody>\n",
       "</table>\n"
      ],
      "text/latex": [
       "A data.frame: 6 × 16\n",
       "\\begin{tabular}{r|llllllllllllllll}\n",
       "  & genoPC1 & genoPC2 & genoPC3 & methPC1 & methPC2 & methPC3 & methPC4 & methPC5 & methPC6 & methPC7 & methPC8 & methPC9 & methPC10 & Dx & Age & Sex\\\\\n",
       "  & <dbl> & <dbl> & <dbl> & <dbl> & <dbl> & <dbl> & <dbl> & <dbl> & <dbl> & <dbl> & <dbl> & <dbl> & <dbl> & <chr> & <dbl> & <chr>\\\\\n",
       "\\hline\n",
       "\tBr1122 &  0.0532758 &  0.00686226 &  0.088819600 & -369.74476 &  -87.17607 &  168.759340 & -269.504298 & 258.02473 &  -1.69242 &  48.97785 & 159.56483 &  -54.36247 &  35.931528 & Control & 48.61 & M\\\\\n",
       "\tBr2285 & -0.0621117 &  0.06237480 & -0.004629460 &  159.18604 &  -48.36568 &  261.556008 &   64.817606 & 108.47666 & -52.11707 &  79.76524 &  91.72461 &   67.94607 &  26.261142 & Control & 53.29 & M\\\\\n",
       "\tBr1764 & -0.0613176 &  0.03891250 & -0.000738591 &  -74.62200 & -107.85435 &  200.001413 &   58.971643 &  55.62332 & -70.38619 & 185.05197 &  61.13412 &   31.48804 &  22.733084 & Control & 56.05 & M\\\\\n",
       "\tBr1464 &  0.0548900 & -0.01760230 & -0.104721000 &  -87.98447 &  262.20475 & -115.927348 &  128.059707 & 239.34545 & -97.21134 & -82.06519 & -24.13204 & -139.33348 & -15.655063 & SCZ     & 55.69 & F\\\\\n",
       "\tBr5062 & -0.0621787 &  0.05752900 & -0.004001160 &  259.25733 & -171.22695 &    8.888978 &   91.790650 & 109.38406 & -96.18880 & -67.54609 &  23.00965 &   92.64693 &  -5.282966 & Control & 82.66 & M\\\\\n",
       "\tBr1446 & -0.0599802 & -0.02904590 &  0.024323100 &  496.41183 & -194.51406 &    9.438974 &    5.141084 &  60.36936 & -42.95399 & 157.21084 & -44.44427 &   47.59827 &  18.932008 & Control & 34.44 & M\\\\\n",
       "\\end{tabular}\n"
      ],
      "text/markdown": [
       "\n",
       "A data.frame: 6 × 16\n",
       "\n",
       "| <!--/--> | genoPC1 &lt;dbl&gt; | genoPC2 &lt;dbl&gt; | genoPC3 &lt;dbl&gt; | methPC1 &lt;dbl&gt; | methPC2 &lt;dbl&gt; | methPC3 &lt;dbl&gt; | methPC4 &lt;dbl&gt; | methPC5 &lt;dbl&gt; | methPC6 &lt;dbl&gt; | methPC7 &lt;dbl&gt; | methPC8 &lt;dbl&gt; | methPC9 &lt;dbl&gt; | methPC10 &lt;dbl&gt; | Dx &lt;chr&gt; | Age &lt;dbl&gt; | Sex &lt;chr&gt; |\n",
       "|---|---|---|---|---|---|---|---|---|---|---|---|---|---|---|---|---|\n",
       "| Br1122 |  0.0532758 |  0.00686226 |  0.088819600 | -369.74476 |  -87.17607 |  168.759340 | -269.504298 | 258.02473 |  -1.69242 |  48.97785 | 159.56483 |  -54.36247 |  35.931528 | Control | 48.61 | M |\n",
       "| Br2285 | -0.0621117 |  0.06237480 | -0.004629460 |  159.18604 |  -48.36568 |  261.556008 |   64.817606 | 108.47666 | -52.11707 |  79.76524 |  91.72461 |   67.94607 |  26.261142 | Control | 53.29 | M |\n",
       "| Br1764 | -0.0613176 |  0.03891250 | -0.000738591 |  -74.62200 | -107.85435 |  200.001413 |   58.971643 |  55.62332 | -70.38619 | 185.05197 |  61.13412 |   31.48804 |  22.733084 | Control | 56.05 | M |\n",
       "| Br1464 |  0.0548900 | -0.01760230 | -0.104721000 |  -87.98447 |  262.20475 | -115.927348 |  128.059707 | 239.34545 | -97.21134 | -82.06519 | -24.13204 | -139.33348 | -15.655063 | SCZ     | 55.69 | F |\n",
       "| Br5062 | -0.0621787 |  0.05752900 | -0.004001160 |  259.25733 | -171.22695 |    8.888978 |   91.790650 | 109.38406 | -96.18880 | -67.54609 |  23.00965 |   92.64693 |  -5.282966 | Control | 82.66 | M |\n",
       "| Br1446 | -0.0599802 | -0.02904590 |  0.024323100 |  496.41183 | -194.51406 |    9.438974 |    5.141084 |  60.36936 | -42.95399 | 157.21084 | -44.44427 |   47.59827 |  18.932008 | Control | 34.44 | M |\n",
       "\n"
      ],
      "text/plain": [
       "       genoPC1    genoPC2     genoPC3      methPC1    methPC2    methPC3    \n",
       "Br1122  0.0532758  0.00686226  0.088819600 -369.74476  -87.17607  168.759340\n",
       "Br2285 -0.0621117  0.06237480 -0.004629460  159.18604  -48.36568  261.556008\n",
       "Br1764 -0.0613176  0.03891250 -0.000738591  -74.62200 -107.85435  200.001413\n",
       "Br1464  0.0548900 -0.01760230 -0.104721000  -87.98447  262.20475 -115.927348\n",
       "Br5062 -0.0621787  0.05752900 -0.004001160  259.25733 -171.22695    8.888978\n",
       "Br1446 -0.0599802 -0.02904590  0.024323100  496.41183 -194.51406    9.438974\n",
       "       methPC4     methPC5   methPC6   methPC7   methPC8   methPC9   \n",
       "Br1122 -269.504298 258.02473  -1.69242  48.97785 159.56483  -54.36247\n",
       "Br2285   64.817606 108.47666 -52.11707  79.76524  91.72461   67.94607\n",
       "Br1764   58.971643  55.62332 -70.38619 185.05197  61.13412   31.48804\n",
       "Br1464  128.059707 239.34545 -97.21134 -82.06519 -24.13204 -139.33348\n",
       "Br5062   91.790650 109.38406 -96.18880 -67.54609  23.00965   92.64693\n",
       "Br1446    5.141084  60.36936 -42.95399 157.21084 -44.44427   47.59827\n",
       "       methPC10   Dx      Age   Sex\n",
       "Br1122  35.931528 Control 48.61 M  \n",
       "Br2285  26.261142 Control 53.29 M  \n",
       "Br1764  22.733084 Control 56.05 M  \n",
       "Br1464 -15.655063 SCZ     55.69 F  \n",
       "Br5062  -5.282966 Control 82.66 M  \n",
       "Br1446  18.932008 Control 34.44 M  "
      ]
     },
     "metadata": {},
     "output_type": "display_data"
    }
   ],
   "source": [
    "head(covs)"
   ]
  },
  {
   "cell_type": "code",
   "execution_count": null,
   "id": "4aa6b303-5c50-4eea-a0c7-35336e6cce8e",
   "metadata": {},
   "outputs": [],
   "source": []
  },
  {
   "cell_type": "code",
   "execution_count": null,
   "id": "9e05ef60-8c5a-4ec0-a227-6a97d178aa45",
   "metadata": {},
   "outputs": [],
   "source": []
  },
  {
   "cell_type": "code",
   "execution_count": 19,
   "id": "db709d51-494c-431c-8327-9348dbf0419c",
   "metadata": {},
   "outputs": [],
   "source": [
    "for (i in 1:dim(p)[1]) { # For each methylation site\n",
    "    dat <- as.data.frame(cbind(y = p[i,], covs))\n",
    "    \n",
    "    # Check for rows with NAs (the ones for which we don't have covariate data)\n",
    "    valid_rows <- complete.cases(dat)\n",
    "    \n",
    "    if (sum(valid_rows) > 0) {\n",
    "        dat_valid <- dat[valid_rows,]\n",
    "        model.res <- lm(y ~ ., data = dat_valid)\n",
    "        \n",
    "        # Store residuals in the corresponding positions\n",
    "        p.residual[i, valid_rows] <- resid(model.res)\n",
    "    }\n",
    "}\n",
    "\n",
    "\n",
    "# for(i in 1:dim(p)[1]){ # foro each methylation site\n",
    "#         dat <- as.data.frame(cbind(p[i,],covs))\n",
    "#         colnames(dat) <- c(\"y\",paste0(\"x\",1:ncol(covs)))\n",
    "#         model.res <- lm(reformulate(paste0(\"x\",1:ncol(covs)), \"y\"),dat)\n",
    "#         p.residual[i,] = resid(model.res) \n",
    "# }"
   ]
  },
  {
   "cell_type": "code",
   "execution_count": 20,
   "id": "44f6b191-a277-4bb2-96ec-88025728ee70",
   "metadata": {},
   "outputs": [],
   "source": [
    "load(\"p1.rda\")"
   ]
  },
  {
   "cell_type": "code",
   "execution_count": 21,
   "id": "461263e5-8c47-40ae-b3e4-03dbea4820e8",
   "metadata": {},
   "outputs": [],
   "source": [
    "wind <- 10000"
   ]
  },
  {
   "cell_type": "code",
   "execution_count": 22,
   "id": "4714a813-116f-4567-a6b1-41bb02df8227",
   "metadata": {},
   "outputs": [],
   "source": [
    "# built predition models\n",
    "idx.ea <- BSobj2$race == \"CAUC\""
   ]
  },
  {
   "cell_type": "code",
   "execution_count": 23,
   "id": "c03876a6-b33a-4f42-af8d-25c93233dee2",
   "metadata": {},
   "outputs": [],
   "source": [
    "snp2_sorted <- snp2[, order(names(snp2))]"
   ]
  },
  {
   "cell_type": "code",
   "execution_count": 24,
   "id": "f24d0fef-0977-4f61-9c6d-a401efb46469",
   "metadata": {},
   "outputs": [],
   "source": [
    "colnames(snp2) <- gsub(\"Br0\", \"Br\", colnames(snp2))"
   ]
  },
  {
   "cell_type": "code",
   "execution_count": 25,
   "id": "84f086ad-bf9a-4002-9fd0-822cef73679b",
   "metadata": {},
   "outputs": [],
   "source": [
    "snp2 <- snp2[, colnames(snp2) %in% colnames(p.residual)]"
   ]
  },
  {
   "cell_type": "code",
   "execution_count": 26,
   "id": "a3e7cec7-c3cf-4c36-991d-36a1cec26d9e",
   "metadata": {},
   "outputs": [
    {
     "data": {
      "text/html": [
       "<style>\n",
       ".list-inline {list-style: none; margin:0; padding: 0}\n",
       ".list-inline>li {display: inline-block}\n",
       ".list-inline>li:not(:last-child)::after {content: \"\\00b7\"; padding: 0 .5ex}\n",
       "</style>\n",
       "<ol class=list-inline><li>56</li><li>297</li></ol>\n"
      ],
      "text/latex": [
       "\\begin{enumerate*}\n",
       "\\item 56\n",
       "\\item 297\n",
       "\\end{enumerate*}\n"
      ],
      "text/markdown": [
       "1. 56\n",
       "2. 297\n",
       "\n",
       "\n"
      ],
      "text/plain": [
       "[1]  56 297"
      ]
     },
     "metadata": {},
     "output_type": "display_data"
    }
   ],
   "source": [
    "dim(snp2)"
   ]
  },
  {
   "cell_type": "code",
   "execution_count": 27,
   "id": "87fd1318-bcea-4a94-9b53-2361257d86bb",
   "metadata": {},
   "outputs": [],
   "source": [
    "snp2_positions <- stringr::str_split_fixed(rownames(snp2), \":\", 3)[, 2]"
   ]
  },
  {
   "cell_type": "markdown",
   "id": "1ffdf122-caea-4a5d-a89e-42be329d85e7",
   "metadata": {},
   "source": [
    "## Test for one"
   ]
  },
  {
   "cell_type": "code",
   "execution_count": 28,
   "id": "a990455f-3ba3-470f-aa78-1f41a92dcc29",
   "metadata": {},
   "outputs": [
    {
     "data": {
      "text/html": [
       "<style>\n",
       ".list-inline {list-style: none; margin:0; padding: 0}\n",
       ".list-inline>li {display: inline-block}\n",
       ".list-inline>li:not(:last-child)::after {content: \"\\00b7\"; padding: 0 .5ex}\n",
       "</style>\n",
       "<ol class=list-inline><li>56</li><li>297</li></ol>\n"
      ],
      "text/latex": [
       "\\begin{enumerate*}\n",
       "\\item 56\n",
       "\\item 297\n",
       "\\end{enumerate*}\n"
      ],
      "text/markdown": [
       "1. 56\n",
       "2. 297\n",
       "\n",
       "\n"
      ],
      "text/plain": [
       "[1]  56 297"
      ]
     },
     "metadata": {},
     "output_type": "display_data"
    }
   ],
   "source": [
    "dim(snp2)"
   ]
  },
  {
   "cell_type": "code",
   "execution_count": 29,
   "id": "013fad37-733d-4aac-a388-5be7e44afb2d",
   "metadata": {},
   "outputs": [
    {
     "data": {
      "text/html": [
       "<style>\n",
       ".list-inline {list-style: none; margin:0; padding: 0}\n",
       ".list-inline>li {display: inline-block}\n",
       ".list-inline>li:not(:last-child)::after {content: \"\\00b7\"; padding: 0 .5ex}\n",
       "</style>\n",
       "<ol class=list-inline><li>'chr7:1963098:T:C'</li><li>'chr7:1963408:C:T'</li><li>'chr7:1964786:C:T'</li><li>'chr7:1966112:T:C'</li><li>'chr7:1973362:G:A'</li><li>'chr7:1975412:T:G'</li><li>'chr7:1976335:C:T'</li><li>'chr7:1977810:C:T'</li><li>'chr7:1978402:C:T'</li><li>'chr7:1978783:G:T'</li><li>'chr7:1979188:C:A'</li><li>'chr7:1979235:G:A'</li><li>'chr7:1980240:G:A'</li><li>'chr7:1981269:G:C'</li><li>'chr7:1981360:G:A'</li><li>'chr7:1982428:C:G'</li><li>'chr7:1985366:G:C'</li><li>'chr7:1985405:A:G'</li><li>'chr7:1987676:G:T'</li><li>'chr7:1987689:G:A'</li><li>'chr7:1987719:C:T'</li><li>'chr7:1987813:T:C'</li><li>'chr7:1989028:A:C'</li><li>'chr7:1989333:G:T'</li><li>'chr7:1989994:G:C'</li><li>'chr7:1990232:T:C'</li><li>'chr7:1990305:T:C'</li><li>'chr7:1990372:G:C'</li><li>'chr7:1990469:G:A'</li><li>'chr7:1990652:G:T'</li><li>'chr7:1993168:C:T'</li><li>'chr7:1993230:A:T'</li><li>'chr7:1994145:G:C'</li><li>'chr7:1994382:C:T'</li><li>'chr7:1994558:A:G'</li><li>'chr7:1994714:G:A'</li><li>'chr7:1994927:A:G'</li><li>'chr7:1997034:T:G'</li><li>'chr7:1997580:G:A'</li><li>'chr7:1998126:G:A'</li><li>'chr7:1999959:A:C'</li><li>'chr7:2001797:A:G'</li><li>'chr7:2002003:G:A'</li><li>'chr7:2002813:C:T'</li><li>'chr7:2002912:C:G'</li><li>'chr7:2004461:G:C'</li><li>'chr7:2005716:T:C'</li><li>'chr7:2006553:G:C'</li><li>'chr7:2006693:A:G'</li><li>'chr7:2007195:C:T'</li><li>'chr7:2008210:A:G'</li><li>'chr7:2008240:G:A'</li><li>'chr7:2008501:T:C'</li><li>'chr7:2008585:G:C'</li><li>'chr7:2008700:A:G'</li><li>'chr7:2009071:A:G'</li></ol>\n"
      ],
      "text/latex": [
       "\\begin{enumerate*}\n",
       "\\item 'chr7:1963098:T:C'\n",
       "\\item 'chr7:1963408:C:T'\n",
       "\\item 'chr7:1964786:C:T'\n",
       "\\item 'chr7:1966112:T:C'\n",
       "\\item 'chr7:1973362:G:A'\n",
       "\\item 'chr7:1975412:T:G'\n",
       "\\item 'chr7:1976335:C:T'\n",
       "\\item 'chr7:1977810:C:T'\n",
       "\\item 'chr7:1978402:C:T'\n",
       "\\item 'chr7:1978783:G:T'\n",
       "\\item 'chr7:1979188:C:A'\n",
       "\\item 'chr7:1979235:G:A'\n",
       "\\item 'chr7:1980240:G:A'\n",
       "\\item 'chr7:1981269:G:C'\n",
       "\\item 'chr7:1981360:G:A'\n",
       "\\item 'chr7:1982428:C:G'\n",
       "\\item 'chr7:1985366:G:C'\n",
       "\\item 'chr7:1985405:A:G'\n",
       "\\item 'chr7:1987676:G:T'\n",
       "\\item 'chr7:1987689:G:A'\n",
       "\\item 'chr7:1987719:C:T'\n",
       "\\item 'chr7:1987813:T:C'\n",
       "\\item 'chr7:1989028:A:C'\n",
       "\\item 'chr7:1989333:G:T'\n",
       "\\item 'chr7:1989994:G:C'\n",
       "\\item 'chr7:1990232:T:C'\n",
       "\\item 'chr7:1990305:T:C'\n",
       "\\item 'chr7:1990372:G:C'\n",
       "\\item 'chr7:1990469:G:A'\n",
       "\\item 'chr7:1990652:G:T'\n",
       "\\item 'chr7:1993168:C:T'\n",
       "\\item 'chr7:1993230:A:T'\n",
       "\\item 'chr7:1994145:G:C'\n",
       "\\item 'chr7:1994382:C:T'\n",
       "\\item 'chr7:1994558:A:G'\n",
       "\\item 'chr7:1994714:G:A'\n",
       "\\item 'chr7:1994927:A:G'\n",
       "\\item 'chr7:1997034:T:G'\n",
       "\\item 'chr7:1997580:G:A'\n",
       "\\item 'chr7:1998126:G:A'\n",
       "\\item 'chr7:1999959:A:C'\n",
       "\\item 'chr7:2001797:A:G'\n",
       "\\item 'chr7:2002003:G:A'\n",
       "\\item 'chr7:2002813:C:T'\n",
       "\\item 'chr7:2002912:C:G'\n",
       "\\item 'chr7:2004461:G:C'\n",
       "\\item 'chr7:2005716:T:C'\n",
       "\\item 'chr7:2006553:G:C'\n",
       "\\item 'chr7:2006693:A:G'\n",
       "\\item 'chr7:2007195:C:T'\n",
       "\\item 'chr7:2008210:A:G'\n",
       "\\item 'chr7:2008240:G:A'\n",
       "\\item 'chr7:2008501:T:C'\n",
       "\\item 'chr7:2008585:G:C'\n",
       "\\item 'chr7:2008700:A:G'\n",
       "\\item 'chr7:2009071:A:G'\n",
       "\\end{enumerate*}\n"
      ],
      "text/markdown": [
       "1. 'chr7:1963098:T:C'\n",
       "2. 'chr7:1963408:C:T'\n",
       "3. 'chr7:1964786:C:T'\n",
       "4. 'chr7:1966112:T:C'\n",
       "5. 'chr7:1973362:G:A'\n",
       "6. 'chr7:1975412:T:G'\n",
       "7. 'chr7:1976335:C:T'\n",
       "8. 'chr7:1977810:C:T'\n",
       "9. 'chr7:1978402:C:T'\n",
       "10. 'chr7:1978783:G:T'\n",
       "11. 'chr7:1979188:C:A'\n",
       "12. 'chr7:1979235:G:A'\n",
       "13. 'chr7:1980240:G:A'\n",
       "14. 'chr7:1981269:G:C'\n",
       "15. 'chr7:1981360:G:A'\n",
       "16. 'chr7:1982428:C:G'\n",
       "17. 'chr7:1985366:G:C'\n",
       "18. 'chr7:1985405:A:G'\n",
       "19. 'chr7:1987676:G:T'\n",
       "20. 'chr7:1987689:G:A'\n",
       "21. 'chr7:1987719:C:T'\n",
       "22. 'chr7:1987813:T:C'\n",
       "23. 'chr7:1989028:A:C'\n",
       "24. 'chr7:1989333:G:T'\n",
       "25. 'chr7:1989994:G:C'\n",
       "26. 'chr7:1990232:T:C'\n",
       "27. 'chr7:1990305:T:C'\n",
       "28. 'chr7:1990372:G:C'\n",
       "29. 'chr7:1990469:G:A'\n",
       "30. 'chr7:1990652:G:T'\n",
       "31. 'chr7:1993168:C:T'\n",
       "32. 'chr7:1993230:A:T'\n",
       "33. 'chr7:1994145:G:C'\n",
       "34. 'chr7:1994382:C:T'\n",
       "35. 'chr7:1994558:A:G'\n",
       "36. 'chr7:1994714:G:A'\n",
       "37. 'chr7:1994927:A:G'\n",
       "38. 'chr7:1997034:T:G'\n",
       "39. 'chr7:1997580:G:A'\n",
       "40. 'chr7:1998126:G:A'\n",
       "41. 'chr7:1999959:A:C'\n",
       "42. 'chr7:2001797:A:G'\n",
       "43. 'chr7:2002003:G:A'\n",
       "44. 'chr7:2002813:C:T'\n",
       "45. 'chr7:2002912:C:G'\n",
       "46. 'chr7:2004461:G:C'\n",
       "47. 'chr7:2005716:T:C'\n",
       "48. 'chr7:2006553:G:C'\n",
       "49. 'chr7:2006693:A:G'\n",
       "50. 'chr7:2007195:C:T'\n",
       "51. 'chr7:2008210:A:G'\n",
       "52. 'chr7:2008240:G:A'\n",
       "53. 'chr7:2008501:T:C'\n",
       "54. 'chr7:2008585:G:C'\n",
       "55. 'chr7:2008700:A:G'\n",
       "56. 'chr7:2009071:A:G'\n",
       "\n",
       "\n"
      ],
      "text/plain": [
       " [1] \"chr7:1963098:T:C\" \"chr7:1963408:C:T\" \"chr7:1964786:C:T\" \"chr7:1966112:T:C\"\n",
       " [5] \"chr7:1973362:G:A\" \"chr7:1975412:T:G\" \"chr7:1976335:C:T\" \"chr7:1977810:C:T\"\n",
       " [9] \"chr7:1978402:C:T\" \"chr7:1978783:G:T\" \"chr7:1979188:C:A\" \"chr7:1979235:G:A\"\n",
       "[13] \"chr7:1980240:G:A\" \"chr7:1981269:G:C\" \"chr7:1981360:G:A\" \"chr7:1982428:C:G\"\n",
       "[17] \"chr7:1985366:G:C\" \"chr7:1985405:A:G\" \"chr7:1987676:G:T\" \"chr7:1987689:G:A\"\n",
       "[21] \"chr7:1987719:C:T\" \"chr7:1987813:T:C\" \"chr7:1989028:A:C\" \"chr7:1989333:G:T\"\n",
       "[25] \"chr7:1989994:G:C\" \"chr7:1990232:T:C\" \"chr7:1990305:T:C\" \"chr7:1990372:G:C\"\n",
       "[29] \"chr7:1990469:G:A\" \"chr7:1990652:G:T\" \"chr7:1993168:C:T\" \"chr7:1993230:A:T\"\n",
       "[33] \"chr7:1994145:G:C\" \"chr7:1994382:C:T\" \"chr7:1994558:A:G\" \"chr7:1994714:G:A\"\n",
       "[37] \"chr7:1994927:A:G\" \"chr7:1997034:T:G\" \"chr7:1997580:G:A\" \"chr7:1998126:G:A\"\n",
       "[41] \"chr7:1999959:A:C\" \"chr7:2001797:A:G\" \"chr7:2002003:G:A\" \"chr7:2002813:C:T\"\n",
       "[45] \"chr7:2002912:C:G\" \"chr7:2004461:G:C\" \"chr7:2005716:T:C\" \"chr7:2006553:G:C\"\n",
       "[49] \"chr7:2006693:A:G\" \"chr7:2007195:C:T\" \"chr7:2008210:A:G\" \"chr7:2008240:G:A\"\n",
       "[53] \"chr7:2008501:T:C\" \"chr7:2008585:G:C\" \"chr7:2008700:A:G\" \"chr7:2009071:A:G\""
      ]
     },
     "metadata": {},
     "output_type": "display_data"
    }
   ],
   "source": [
    "rownames(snp2)"
   ]
  },
  {
   "cell_type": "code",
   "execution_count": 30,
   "id": "1cd5f56e-0e75-4b6d-bfca-07162605dc10",
   "metadata": {},
   "outputs": [
    {
     "data": {
      "text/html": [
       "1977413"
      ],
      "text/latex": [
       "1977413"
      ],
      "text/markdown": [
       "1977413"
      ],
      "text/plain": [
       "[1] 1977413"
      ]
     },
     "metadata": {},
     "output_type": "display_data"
    },
    {
     "data": {
      "text/html": [
       "1997413"
      ],
      "text/latex": [
       "1997413"
      ],
      "text/markdown": [
       "1997413"
      ],
      "text/plain": [
       "[1] 1997413"
      ]
     },
     "metadata": {},
     "output_type": "display_data"
    }
   ],
   "source": [
    "k <- 1\n",
    "\n",
    "i <- 1\n",
    "\n",
    "range1 <- ifelse(cg[i] - wind[k] > 0,cg[i] - wind[k],0)\n",
    "range2 <- cg[i] + wind[k]\n",
    "\n",
    "range1\n",
    "range2"
   ]
  },
  {
   "cell_type": "code",
   "execution_count": 31,
   "id": "7c11a919-15de-4a94-a3ad-adb3b6340923",
   "metadata": {},
   "outputs": [
    {
     "name": "stdout",
     "output_type": "stream",
     "text": [
      "1 \n"
     ]
    },
    {
     "data": {
      "text/html": [
       "1977413"
      ],
      "text/latex": [
       "1977413"
      ],
      "text/markdown": [
       "1977413"
      ],
      "text/plain": [
       "[1] 1977413"
      ]
     },
     "metadata": {},
     "output_type": "display_data"
    },
    {
     "data": {
      "text/html": [
       "1997413"
      ],
      "text/latex": [
       "1997413"
      ],
      "text/markdown": [
       "1997413"
      ],
      "text/plain": [
       "[1] 1997413"
      ]
     },
     "metadata": {},
     "output_type": "display_data"
    },
    {
     "data": {
      "text/html": [
       "56"
      ],
      "text/latex": [
       "56"
      ],
      "text/markdown": [
       "56"
      ],
      "text/plain": [
       "[1] 56"
      ]
     },
     "metadata": {},
     "output_type": "display_data"
    }
   ],
   "source": [
    "cat(i,\"\\n\")\n",
    "range1 <- ifelse(cg[i] - wind[k] > 0,cg[i] - wind[k],0)\n",
    "range2 <- cg[i] + wind[k]\n",
    "range1\n",
    "range2\n",
    "\n",
    "idx <- map2$POS > range1 & map2$POS < range2\n",
    "\n",
    "length(idx)"
   ]
  },
  {
   "cell_type": "code",
   "execution_count": 32,
   "id": "67a1560e-f845-4485-8a42-3cf6c289e518",
   "metadata": {},
   "outputs": [
    {
     "data": {
      "text/html": [
       "1977413"
      ],
      "text/latex": [
       "1977413"
      ],
      "text/markdown": [
       "1977413"
      ],
      "text/plain": [
       "[1] 1977413"
      ]
     },
     "metadata": {},
     "output_type": "display_data"
    }
   ],
   "source": [
    "range1"
   ]
  },
  {
   "cell_type": "code",
   "execution_count": 33,
   "id": "01b9b8ea-ca79-46af-bdd0-22d4445eada6",
   "metadata": {},
   "outputs": [
    {
     "data": {
      "text/html": [
       "1997413"
      ],
      "text/latex": [
       "1997413"
      ],
      "text/markdown": [
       "1997413"
      ],
      "text/plain": [
       "[1] 1997413"
      ]
     },
     "metadata": {},
     "output_type": "display_data"
    }
   ],
   "source": [
    "range2"
   ]
  },
  {
   "cell_type": "code",
   "execution_count": 34,
   "id": "3f05e1d7-8815-449e-9b4f-3247427a4b62",
   "metadata": {},
   "outputs": [],
   "source": [
    "# go to next cg if no snps within window\n",
    "if(sum(idx) <= 1){\n",
    "        next\n",
    "}\n",
    "geno <- snp2[idx,]\n",
    "rownames(geno) <- map2$POS[idx]\n",
    "trainX <- t(geno)\n",
    "trainY <- p.residual[i,]"
   ]
  },
  {
   "cell_type": "code",
   "execution_count": 35,
   "id": "590dcb8f-1a10-4649-a496-9c0afb979b65",
   "metadata": {},
   "outputs": [
    {
     "data": {
      "text/html": [
       "<style>\n",
       ".list-inline {list-style: none; margin:0; padding: 0}\n",
       ".list-inline>li {display: inline-block}\n",
       ".list-inline>li:not(:last-child)::after {content: \"\\00b7\"; padding: 0 .5ex}\n",
       "</style>\n",
       "<ol class=list-inline><li>56</li><li>297</li></ol>\n"
      ],
      "text/latex": [
       "\\begin{enumerate*}\n",
       "\\item 56\n",
       "\\item 297\n",
       "\\end{enumerate*}\n"
      ],
      "text/markdown": [
       "1. 56\n",
       "2. 297\n",
       "\n",
       "\n"
      ],
      "text/plain": [
       "[1]  56 297"
      ]
     },
     "metadata": {},
     "output_type": "display_data"
    },
    {
     "data": {
      "text/html": [
       "<style>\n",
       ".list-inline {list-style: none; margin:0; padding: 0}\n",
       ".list-inline>li {display: inline-block}\n",
       ".list-inline>li:not(:last-child)::after {content: \"\\00b7\"; padding: 0 .5ex}\n",
       "</style>\n",
       "<ol class=list-inline><li>31</li><li>297</li></ol>\n"
      ],
      "text/latex": [
       "\\begin{enumerate*}\n",
       "\\item 31\n",
       "\\item 297\n",
       "\\end{enumerate*}\n"
      ],
      "text/markdown": [
       "1. 31\n",
       "2. 297\n",
       "\n",
       "\n"
      ],
      "text/plain": [
       "[1]  31 297"
      ]
     },
     "metadata": {},
     "output_type": "display_data"
    },
    {
     "data": {
      "text/html": [
       "<style>\n",
       ".dl-inline {width: auto; margin:0; padding: 0}\n",
       ".dl-inline>dt, .dl-inline>dd {float: none; width: auto; display: inline-block}\n",
       ".dl-inline>dt::after {content: \":\\0020\"; padding-right: .5ex}\n",
       ".dl-inline>dt:not(:first-of-type) {padding-left: .5ex}\n",
       "</style><dl class=dl-inline><dt>Br1003</dt><dd>0.0327375897676486</dd><dt>Br1004</dt><dd>0.0194240705539484</dd><dt>Br1007</dt><dd>0.0171506624358887</dd><dt>Br1016</dt><dd>0.00494502907564431</dd><dt>Br1017</dt><dd>-0.00704167030907219</dd><dt>Br1021</dt><dd>-0.0239444627255756</dd></dl>\n"
      ],
      "text/latex": [
       "\\begin{description*}\n",
       "\\item[Br1003] 0.0327375897676486\n",
       "\\item[Br1004] 0.0194240705539484\n",
       "\\item[Br1007] 0.0171506624358887\n",
       "\\item[Br1016] 0.00494502907564431\n",
       "\\item[Br1017] -0.00704167030907219\n",
       "\\item[Br1021] -0.0239444627255756\n",
       "\\end{description*}\n"
      ],
      "text/markdown": [
       "Br1003\n",
       ":   0.0327375897676486Br1004\n",
       ":   0.0194240705539484Br1007\n",
       ":   0.0171506624358887Br1016\n",
       ":   0.00494502907564431Br1017\n",
       ":   -0.00704167030907219Br1021\n",
       ":   -0.0239444627255756\n",
       "\n"
      ],
      "text/plain": [
       "      Br1003       Br1004       Br1007       Br1016       Br1017       Br1021 \n",
       " 0.032737590  0.019424071  0.017150662  0.004945029 -0.007041670 -0.023944463 "
      ]
     },
     "metadata": {},
     "output_type": "display_data"
    }
   ],
   "source": [
    "dim(snp2)\n",
    "\n",
    "dim(geno)\n",
    "\n",
    "head(trainY[order(names(trainY))])"
   ]
  },
  {
   "cell_type": "code",
   "execution_count": 36,
   "id": "900a1894-b0dc-45c0-a127-598bd0d85375",
   "metadata": {},
   "outputs": [],
   "source": [
    "inspect <- t(snp2)\n",
    "inspect <- inspect[order(rownames(inspect)), ]"
   ]
  },
  {
   "cell_type": "code",
   "execution_count": 37,
   "id": "46579eef-08b9-4bc7-aa6a-975abbeb9594",
   "metadata": {},
   "outputs": [
    {
     "name": "stderr",
     "output_type": "stream",
     "text": [
      "Warning message:\n",
      "“executing %dopar% sequentially: no parallel backend registered”\n"
     ]
    }
   ],
   "source": [
    "fit <- elastic.net(trainX,trainY)"
   ]
  },
  {
   "cell_type": "code",
   "execution_count": 38,
   "id": "28d02731-91c4-40cc-80b0-48ebd0dddeb5",
   "metadata": {},
   "outputs": [
    {
     "data": {
      "text/html": [
       "<table class=\"dataframe\">\n",
       "<caption>A data.frame: 3 × 2</caption>\n",
       "<thead>\n",
       "\t<tr><th scope=col>features</th><th scope=col>coefs</th></tr>\n",
       "\t<tr><th scope=col>&lt;chr&gt;</th><th scope=col>&lt;dbl&gt;</th></tr>\n",
       "</thead>\n",
       "<tbody>\n",
       "\t<tr><td>(Intercept)</td><td>-0.0019839249</td></tr>\n",
       "\t<tr><td>1979188    </td><td> 0.0019631282</td></tr>\n",
       "\t<tr><td>1980240    </td><td> 0.0001047671</td></tr>\n",
       "</tbody>\n",
       "</table>\n"
      ],
      "text/latex": [
       "A data.frame: 3 × 2\n",
       "\\begin{tabular}{ll}\n",
       " features & coefs\\\\\n",
       " <chr> & <dbl>\\\\\n",
       "\\hline\n",
       "\t (Intercept) & -0.0019839249\\\\\n",
       "\t 1979188     &  0.0019631282\\\\\n",
       "\t 1980240     &  0.0001047671\\\\\n",
       "\\end{tabular}\n"
      ],
      "text/markdown": [
       "\n",
       "A data.frame: 3 × 2\n",
       "\n",
       "| features &lt;chr&gt; | coefs &lt;dbl&gt; |\n",
       "|---|---|\n",
       "| (Intercept) | -0.0019839249 |\n",
       "| 1979188     |  0.0019631282 |\n",
       "| 1980240     |  0.0001047671 |\n",
       "\n"
      ],
      "text/plain": [
       "  features    coefs        \n",
       "1 (Intercept) -0.0019839249\n",
       "2 1979188      0.0019631282\n",
       "3 1980240      0.0001047671"
      ]
     },
     "metadata": {},
     "output_type": "display_data"
    }
   ],
   "source": [
    "fit"
   ]
  },
  {
   "cell_type": "markdown",
   "id": "d52035bf-2720-4c91-a590-588344e5fbd5",
   "metadata": {},
   "source": [
    "We're getting different elasticnet results here than with our package. Why?"
   ]
  },
  {
   "cell_type": "markdown",
   "id": "a3b63f68-0a82-4422-8048-dbd12a000d8c",
   "metadata": {},
   "source": [
    "Let's go inside elastic.net function"
   ]
  },
  {
   "cell_type": "code",
   "execution_count": 39,
   "id": "f445caf7-0d72-4559-8c1a-b12fae743214",
   "metadata": {},
   "outputs": [
    {
     "data": {
      "text/html": [
       "<style>\n",
       ".list-inline {list-style: none; margin:0; padding: 0}\n",
       ".list-inline>li {display: inline-block}\n",
       ".list-inline>li:not(:last-child)::after {content: \"\\00b7\"; padding: 0 .5ex}\n",
       "</style>\n",
       "<ol class=list-inline><li>297</li><li>31</li></ol>\n"
      ],
      "text/latex": [
       "\\begin{enumerate*}\n",
       "\\item 297\n",
       "\\item 31\n",
       "\\end{enumerate*}\n"
      ],
      "text/markdown": [
       "1. 297\n",
       "2. 31\n",
       "\n",
       "\n"
      ],
      "text/plain": [
       "[1] 297  31"
      ]
     },
     "metadata": {},
     "output_type": "display_data"
    }
   ],
   "source": [
    "dim(trainX)"
   ]
  },
  {
   "cell_type": "markdown",
   "id": "0afe802b-85a7-493c-bde4-da43bd8f4916",
   "metadata": {},
   "source": [
    "Deeper still"
   ]
  },
  {
   "cell_type": "code",
   "execution_count": 40,
   "id": "506b975a-ccaf-49d7-9c60-921d04df45a8",
   "metadata": {},
   "outputs": [],
   "source": [
    "trainX2 <- readRDS(\"20-IN_sanity_test_Xmatrix.rds\")"
   ]
  },
  {
   "cell_type": "code",
   "execution_count": 41,
   "id": "33e0b90e-4ea8-4659-9a13-81697cf444f0",
   "metadata": {},
   "outputs": [],
   "source": [
    "trainy2 <- readRDS(\"20-IN_sanity_test_y.rds\")"
   ]
  },
  {
   "cell_type": "code",
   "execution_count": 42,
   "id": "1da90046-1a57-4874-928c-1637e43cf72f",
   "metadata": {},
   "outputs": [],
   "source": [
    "fold_id <- readRDS(\"20-IN_sanity_test_fold_id.rds\")"
   ]
  },
  {
   "cell_type": "code",
   "execution_count": 43,
   "id": "6eaf76c9-02d9-4389-a5a1-732c426b3bc5",
   "metadata": {},
   "outputs": [],
   "source": [
    "set.seed(42)\n",
    "cv.fit <- cv.glmnet(\n",
    "                trainX,\n",
    "                trainY,\n",
    "    nfold = 5,\n",
    "                #foldid = fold_id,                    \n",
    "        type.measure = \"mse\",\n",
    "                    paralle = TRUE,\n",
    "                    alpha = 0.5\n",
    "                    )"
   ]
  },
  {
   "cell_type": "code",
   "execution_count": 44,
   "id": "d934b4cf-b338-4350-b408-e09c64b8e0d8",
   "metadata": {},
   "outputs": [
    {
     "data": {
      "text/plain": [
       "\n",
       "Call:  cv.glmnet(x = trainX, y = trainY, type.measure = \"mse\", nfolds = 5,      parallel = TRUE, alpha = 0.5) \n",
       "\n",
       "Measure: Mean-Squared Error \n",
       "\n",
       "      Lambda Index   Measure        SE Nonzero\n",
       "min 0.004499     5 0.0004443 3.844e-05       1\n",
       "1se 0.006528     1 0.0004468 3.781e-05       0"
      ]
     },
     "metadata": {},
     "output_type": "display_data"
    }
   ],
   "source": [
    "cv.fit"
   ]
  },
  {
   "cell_type": "code",
   "execution_count": 45,
   "id": "450eebd6-89b7-49b0-bfa1-d42d541a4527",
   "metadata": {},
   "outputs": [
    {
     "data": {
      "text/plain": [
       "32 x 1 sparse Matrix of class \"dgCMatrix\"\n",
       "                      s1\n",
       "(Intercept) 3.388132e-20\n",
       "1977810     .           \n",
       "1978402     .           \n",
       "1978783     .           \n",
       "1979188     .           \n",
       "1979235     .           \n",
       "1980240     .           \n",
       "1981269     .           \n",
       "1981360     .           \n",
       "1982428     .           \n",
       "1985366     .           \n",
       "1985405     .           \n",
       "1987676     .           \n",
       "1987689     .           \n",
       "1987719     .           \n",
       "1987813     .           \n",
       "1989028     .           \n",
       "1989333     .           \n",
       "1989994     .           \n",
       "1990232     .           \n",
       "1990305     .           \n",
       "1990372     .           \n",
       "1990469     .           \n",
       "1990652     .           \n",
       "1993168     .           \n",
       "1993230     .           \n",
       "1994145     .           \n",
       "1994382     .           \n",
       "1994558     .           \n",
       "1994714     .           \n",
       "1994927     .           \n",
       "1997034     .           "
      ]
     },
     "metadata": {},
     "output_type": "display_data"
    }
   ],
   "source": [
    "coef(cv.fit)"
   ]
  },
  {
   "cell_type": "code",
   "execution_count": 46,
   "id": "96bde512-c5db-4ead-a1f9-5b2b27e71219",
   "metadata": {},
   "outputs": [
    {
     "data": {
      "text/html": [
       "<style>\n",
       ".list-inline {list-style: none; margin:0; padding: 0}\n",
       ".list-inline>li {display: inline-block}\n",
       ".list-inline>li:not(:last-child)::after {content: \"\\00b7\"; padding: 0 .5ex}\n",
       "</style>\n",
       "<ol class=list-inline><li>4</li><li>3</li><li>4</li><li>3</li><li>1</li><li>2</li></ol>\n"
      ],
      "text/latex": [
       "\\begin{enumerate*}\n",
       "\\item 4\n",
       "\\item 3\n",
       "\\item 4\n",
       "\\item 3\n",
       "\\item 1\n",
       "\\item 2\n",
       "\\end{enumerate*}\n"
      ],
      "text/markdown": [
       "1. 4\n",
       "2. 3\n",
       "3. 4\n",
       "4. 3\n",
       "5. 1\n",
       "6. 2\n",
       "\n",
       "\n"
      ],
      "text/plain": [
       "[1] 4 3 4 3 1 2"
      ]
     },
     "metadata": {},
     "output_type": "display_data"
    }
   ],
   "source": [
    "head(fold_id)"
   ]
  },
  {
   "cell_type": "code",
   "execution_count": null,
   "id": "6f777eda-46ba-43d4-a86a-4ce179b53acb",
   "metadata": {},
   "outputs": [],
   "source": []
  },
  {
   "cell_type": "code",
   "execution_count": 47,
   "id": "6b16fda2-54ec-4e99-afb0-c4280faaed99",
   "metadata": {},
   "outputs": [],
   "source": [
    "a <- 0.5\n",
    "search <- foreach(ai = a, .combine = rbind) %dopar% {\n",
    "    set.seed(42)\n",
    "    cv.fit <- cv.glmnet(\n",
    "                trainX2,\n",
    "                trainy2,\n",
    "                foldid = fold_id,                    \n",
    "        type.measure = \"mse\",\n",
    "                    paralle = TRUE,\n",
    "                    alpha = ai\n",
    "                    )\n",
    "    data.frame(\n",
    "                    cvm = cv.fit$cvm[cv.fit$lambda == cv.fit$lambda.1se],\n",
    "                    lambda = cv.fit$lambda.1se,\n",
    "                    alpha = ai\n",
    "                    )\n",
    "    } "
   ]
  },
  {
   "cell_type": "code",
   "execution_count": 48,
   "id": "b3fc336e-725f-4902-8f7f-115bca726cbc",
   "metadata": {},
   "outputs": [],
   "source": [
    "cv.opt <- search[search$cvm == min(search$cvm),] "
   ]
  },
  {
   "cell_type": "code",
   "execution_count": 49,
   "id": "2e73fc2a-bf56-48c7-b3eb-b608e94c9061",
   "metadata": {},
   "outputs": [
    {
     "data": {
      "text/html": [
       "<table class=\"dataframe\">\n",
       "<caption>A data.frame: 1 × 3</caption>\n",
       "<thead>\n",
       "\t<tr><th></th><th scope=col>cvm</th><th scope=col>lambda</th><th scope=col>alpha</th></tr>\n",
       "\t<tr><th></th><th scope=col>&lt;dbl&gt;</th><th scope=col>&lt;dbl&gt;</th><th scope=col>&lt;dbl&gt;</th></tr>\n",
       "</thead>\n",
       "<tbody>\n",
       "\t<tr><th scope=row>1</th><td>0.0004224127</td><td>0.007649007</td><td>0.5</td></tr>\n",
       "</tbody>\n",
       "</table>\n"
      ],
      "text/latex": [
       "A data.frame: 1 × 3\n",
       "\\begin{tabular}{r|lll}\n",
       "  & cvm & lambda & alpha\\\\\n",
       "  & <dbl> & <dbl> & <dbl>\\\\\n",
       "\\hline\n",
       "\t1 & 0.0004224127 & 0.007649007 & 0.5\\\\\n",
       "\\end{tabular}\n"
      ],
      "text/markdown": [
       "\n",
       "A data.frame: 1 × 3\n",
       "\n",
       "| <!--/--> | cvm &lt;dbl&gt; | lambda &lt;dbl&gt; | alpha &lt;dbl&gt; |\n",
       "|---|---|---|---|\n",
       "| 1 | 0.0004224127 | 0.007649007 | 0.5 |\n",
       "\n"
      ],
      "text/plain": [
       "  cvm          lambda      alpha\n",
       "1 0.0004224127 0.007649007 0.5  "
      ]
     },
     "metadata": {},
     "output_type": "display_data"
    }
   ],
   "source": [
    "cv.opt"
   ]
  },
  {
   "cell_type": "code",
   "execution_count": 50,
   "id": "bea69853-4ab1-40ea-943e-c42f126bfa94",
   "metadata": {},
   "outputs": [
    {
     "data": {
      "text/plain": [
       "\n",
       "Call:  cv.glmnet(x = trainX, y = trainY, type.measure = \"mse\", nfolds = 5,      parallel = TRUE, alpha = 0.5) \n",
       "\n",
       "Measure: Mean-Squared Error \n",
       "\n",
       "      Lambda Index   Measure        SE Nonzero\n",
       "min 0.004499     5 0.0004443 3.844e-05       1\n",
       "1se 0.006528     1 0.0004468 3.781e-05       0"
      ]
     },
     "metadata": {},
     "output_type": "display_data"
    }
   ],
   "source": [
    "cv.fit"
   ]
  },
  {
   "cell_type": "code",
   "execution_count": 51,
   "id": "6205a011-1c2f-435d-b443-c91c0f4c8d1a",
   "metadata": {},
   "outputs": [
    {
     "data": {
      "text/plain": [
       "32 x 1 sparse Matrix of class \"dgCMatrix\"\n",
       "                      s1\n",
       "(Intercept) 3.388132e-20\n",
       "1977810     .           \n",
       "1978402     .           \n",
       "1978783     .           \n",
       "1979188     .           \n",
       "1979235     .           \n",
       "1980240     .           \n",
       "1981269     .           \n",
       "1981360     .           \n",
       "1982428     .           \n",
       "1985366     .           \n",
       "1985405     .           \n",
       "1987676     .           \n",
       "1987689     .           \n",
       "1987719     .           \n",
       "1987813     .           \n",
       "1989028     .           \n",
       "1989333     .           \n",
       "1989994     .           \n",
       "1990232     .           \n",
       "1990305     .           \n",
       "1990372     .           \n",
       "1990469     .           \n",
       "1990652     .           \n",
       "1993168     .           \n",
       "1993230     .           \n",
       "1994145     .           \n",
       "1994382     .           \n",
       "1994558     .           \n",
       "1994714     .           \n",
       "1994927     .           \n",
       "1997034     .           "
      ]
     },
     "metadata": {},
     "output_type": "display_data"
    }
   ],
   "source": [
    "coef(cv.fit) # This matches what we get out of tune_alpha, without fitting optimized parameters on whole data"
   ]
  },
  {
   "cell_type": "code",
   "execution_count": 52,
   "id": "6ab2cebe-13a0-4a8c-99a6-8c20aa78fd46",
   "metadata": {},
   "outputs": [],
   "source": [
    "a <- 0.5"
   ]
  },
  {
   "cell_type": "code",
   "execution_count": 53,
   "id": "010df7c8-9a53-46e1-a910-b7cebd6c9743",
   "metadata": {},
   "outputs": [],
   "source": [
    "search <- foreach(ai = a, .combine = rbind) %dopar% {\n",
    "    set.seed(42)\n",
    "    cv.fit <- cv.glmnet(\n",
    "                    trainX2,\n",
    "                    trainy2,\n",
    "                    foldid = fold_id,\n",
    "                    type.measure = \"mse\",\n",
    "                    paralle = TRUE,\n",
    "                    alpha = ai\n",
    "                    )\n",
    "    data.frame(\n",
    "                    cvm = cv.fit$cvm[cv.fit$lambda == cv.fit$lambda.1se],\n",
    "                    lambda = cv.fit$lambda.1se,\n",
    "                    alpha = ai\n",
    "                    )\n",
    "    } \n",
    "cv.opt <- search[search$cvm == min(search$cvm),] \n",
    "\n",
    "    # fit model by optimized alpha and lambda\n",
    "    set.seed(42)\n",
    "    yfit = glmnet(\n",
    "    trainX2,\n",
    "    trainy2,\n",
    "    lambda = cv.opt$lambda,\n",
    "    alpha = cv.opt$alpha\n",
    "            )       \n",
    "    idf <- coef(yfit)\n",
    "    idx <- which(idf != 0)\n",
    "    selectf <- data.frame(\n",
    "            features = idf@Dimnames[[1]][idx], \n",
    "            coefs = idf [idx]\n",
    "    )"
   ]
  },
  {
   "cell_type": "code",
   "execution_count": 54,
   "id": "e1f7f6e6-e9ad-49cd-918c-0fcdad8bb3ec",
   "metadata": {},
   "outputs": [
    {
     "data": {
      "text/html": [
       "<table class=\"dataframe\">\n",
       "<caption>A data.frame: 1 × 3</caption>\n",
       "<thead>\n",
       "\t<tr><th></th><th scope=col>cvm</th><th scope=col>lambda</th><th scope=col>alpha</th></tr>\n",
       "\t<tr><th></th><th scope=col>&lt;dbl&gt;</th><th scope=col>&lt;dbl&gt;</th><th scope=col>&lt;dbl&gt;</th></tr>\n",
       "</thead>\n",
       "<tbody>\n",
       "\t<tr><th scope=row>1</th><td>0.0004224127</td><td>0.007649007</td><td>0.5</td></tr>\n",
       "</tbody>\n",
       "</table>\n"
      ],
      "text/latex": [
       "A data.frame: 1 × 3\n",
       "\\begin{tabular}{r|lll}\n",
       "  & cvm & lambda & alpha\\\\\n",
       "  & <dbl> & <dbl> & <dbl>\\\\\n",
       "\\hline\n",
       "\t1 & 0.0004224127 & 0.007649007 & 0.5\\\\\n",
       "\\end{tabular}\n"
      ],
      "text/markdown": [
       "\n",
       "A data.frame: 1 × 3\n",
       "\n",
       "| <!--/--> | cvm &lt;dbl&gt; | lambda &lt;dbl&gt; | alpha &lt;dbl&gt; |\n",
       "|---|---|---|---|\n",
       "| 1 | 0.0004224127 | 0.007649007 | 0.5 |\n",
       "\n"
      ],
      "text/plain": [
       "  cvm          lambda      alpha\n",
       "1 0.0004224127 0.007649007 0.5  "
      ]
     },
     "metadata": {},
     "output_type": "display_data"
    }
   ],
   "source": [
    "cv.opt # GOOD! should be \n",
    "#cvm\tlambda\talpha\n",
    "#<dbl>\t<dbl>\t<dbl>\n",
    "#1\t0.0004224127\t0.007649007\t0.5\n"
   ]
  },
  {
   "cell_type": "code",
   "execution_count": 55,
   "id": "f3b154cb-458b-4d59-ba4f-df5949773153",
   "metadata": {},
   "outputs": [
    {
     "data": {
      "text/html": [
       "<table class=\"dataframe\">\n",
       "<caption>A data.frame: 1 × 3</caption>\n",
       "<thead>\n",
       "\t<tr><th scope=col>cvm</th><th scope=col>lambda</th><th scope=col>alpha</th></tr>\n",
       "\t<tr><th scope=col>&lt;dbl&gt;</th><th scope=col>&lt;dbl&gt;</th><th scope=col>&lt;dbl&gt;</th></tr>\n",
       "</thead>\n",
       "<tbody>\n",
       "\t<tr><td>0.0004224127</td><td>0.007649007</td><td>0.5</td></tr>\n",
       "</tbody>\n",
       "</table>\n"
      ],
      "text/latex": [
       "A data.frame: 1 × 3\n",
       "\\begin{tabular}{lll}\n",
       " cvm & lambda & alpha\\\\\n",
       " <dbl> & <dbl> & <dbl>\\\\\n",
       "\\hline\n",
       "\t 0.0004224127 & 0.007649007 & 0.5\\\\\n",
       "\\end{tabular}\n"
      ],
      "text/markdown": [
       "\n",
       "A data.frame: 1 × 3\n",
       "\n",
       "| cvm &lt;dbl&gt; | lambda &lt;dbl&gt; | alpha &lt;dbl&gt; |\n",
       "|---|---|---|\n",
       "| 0.0004224127 | 0.007649007 | 0.5 |\n",
       "\n"
      ],
      "text/plain": [
       "  cvm          lambda      alpha\n",
       "1 0.0004224127 0.007649007 0.5  "
      ]
     },
     "metadata": {},
     "output_type": "display_data"
    }
   ],
   "source": [
    "search"
   ]
  },
  {
   "cell_type": "markdown",
   "id": "ea5e2e14-3e6a-4133-bd6a-32eaaf19b7fd",
   "metadata": {},
   "source": [
    "Make sure we have same results not only from fitting but for optimal model with fixed alpha, lambda also"
   ]
  },
  {
   "cell_type": "code",
   "execution_count": 56,
   "id": "f6e25c6f-7b7f-4c70-a1a0-ea918dbd4e42",
   "metadata": {},
   "outputs": [
    {
     "data": {
      "text/html": [
       "<table class=\"dataframe\">\n",
       "<caption>A data.frame: 7 × 2</caption>\n",
       "<thead>\n",
       "\t<tr><th scope=col>features</th><th scope=col>coefs</th></tr>\n",
       "\t<tr><th scope=col>&lt;chr&gt;</th><th scope=col>&lt;dbl&gt;</th></tr>\n",
       "</thead>\n",
       "<tbody>\n",
       "\t<tr><td>(Intercept)     </td><td>-4.062561e-05</td></tr>\n",
       "\t<tr><td>chr7:1977810:C:T</td><td> 7.759077e-04</td></tr>\n",
       "\t<tr><td>chr7:1981360:G:A</td><td>-1.070675e-03</td></tr>\n",
       "\t<tr><td>chr7:1987719:C:T</td><td>-1.224151e-03</td></tr>\n",
       "\t<tr><td>chr7:1987813:T:C</td><td> 1.768736e-04</td></tr>\n",
       "\t<tr><td>chr7:1990232:T:C</td><td>-1.298076e-03</td></tr>\n",
       "\t<tr><td>chr7:1994382:C:T</td><td> 1.105434e-03</td></tr>\n",
       "</tbody>\n",
       "</table>\n"
      ],
      "text/latex": [
       "A data.frame: 7 × 2\n",
       "\\begin{tabular}{ll}\n",
       " features & coefs\\\\\n",
       " <chr> & <dbl>\\\\\n",
       "\\hline\n",
       "\t (Intercept)      & -4.062561e-05\\\\\n",
       "\t chr7:1977810:C:T &  7.759077e-04\\\\\n",
       "\t chr7:1981360:G:A & -1.070675e-03\\\\\n",
       "\t chr7:1987719:C:T & -1.224151e-03\\\\\n",
       "\t chr7:1987813:T:C &  1.768736e-04\\\\\n",
       "\t chr7:1990232:T:C & -1.298076e-03\\\\\n",
       "\t chr7:1994382:C:T &  1.105434e-03\\\\\n",
       "\\end{tabular}\n"
      ],
      "text/markdown": [
       "\n",
       "A data.frame: 7 × 2\n",
       "\n",
       "| features &lt;chr&gt; | coefs &lt;dbl&gt; |\n",
       "|---|---|\n",
       "| (Intercept)      | -4.062561e-05 |\n",
       "| chr7:1977810:C:T |  7.759077e-04 |\n",
       "| chr7:1981360:G:A | -1.070675e-03 |\n",
       "| chr7:1987719:C:T | -1.224151e-03 |\n",
       "| chr7:1987813:T:C |  1.768736e-04 |\n",
       "| chr7:1990232:T:C | -1.298076e-03 |\n",
       "| chr7:1994382:C:T |  1.105434e-03 |\n",
       "\n"
      ],
      "text/plain": [
       "  features         coefs        \n",
       "1 (Intercept)      -4.062561e-05\n",
       "2 chr7:1977810:C:T  7.759077e-04\n",
       "3 chr7:1981360:G:A -1.070675e-03\n",
       "4 chr7:1987719:C:T -1.224151e-03\n",
       "5 chr7:1987813:T:C  1.768736e-04\n",
       "6 chr7:1990232:T:C -1.298076e-03\n",
       "7 chr7:1994382:C:T  1.105434e-03"
      ]
     },
     "metadata": {},
     "output_type": "display_data"
    }
   ],
   "source": [
    "selectf"
   ]
  },
  {
   "cell_type": "code",
   "execution_count": 57,
   "id": "08c703aa-abd2-4b62-9cd6-ac0bf86a4e21",
   "metadata": {},
   "outputs": [
    {
     "data": {
      "text/html": [
       "<style>\n",
       ".list-inline {list-style: none; margin:0; padding: 0}\n",
       ".list-inline>li {display: inline-block}\n",
       ".list-inline>li:not(:last-child)::after {content: \"\\00b7\"; padding: 0 .5ex}\n",
       "</style>\n",
       "<ol class=list-inline><li>297</li><li>31</li></ol>\n"
      ],
      "text/latex": [
       "\\begin{enumerate*}\n",
       "\\item 297\n",
       "\\item 31\n",
       "\\end{enumerate*}\n"
      ],
      "text/markdown": [
       "1. 297\n",
       "2. 31\n",
       "\n",
       "\n"
      ],
      "text/plain": [
       "[1] 297  31"
      ]
     },
     "metadata": {},
     "output_type": "display_data"
    }
   ],
   "source": [
    "dim(trainX)"
   ]
  },
  {
   "cell_type": "code",
   "execution_count": 58,
   "id": "4191f37a-525b-461c-95c6-43431c43fc56",
   "metadata": {},
   "outputs": [],
   "source": [
    "models.all <- c()"
   ]
  },
  {
   "cell_type": "code",
   "execution_count": 59,
   "id": "2e248df1-f846-4038-81b7-6f587306f873",
   "metadata": {},
   "outputs": [
    {
     "data": {
      "text/html": [
       "<table class=\"dataframe\">\n",
       "<caption>A matrix: 1 × 12</caption>\n",
       "<thead>\n",
       "\t<tr><th></th><th scope=col>lambda</th><th scope=col>cvm</th><th scope=col>cvsd</th><th scope=col>cvup</th><th scope=col>cvlo</th><th scope=col>nzero</th><th scope=col>call</th><th scope=col>name</th><th scope=col>glmnet.fit</th><th scope=col>lambda.min</th><th scope=col>lambda.1se</th><th scope=col>index</th></tr>\n",
       "\t<tr><th></th><th scope=col>&lt;dbl&gt;</th><th scope=col>&lt;dbl&gt;</th><th scope=col>&lt;dbl&gt;</th><th scope=col>&lt;dbl&gt;</th><th scope=col>&lt;dbl&gt;</th><th scope=col>&lt;int&gt;</th><th scope=col>&lt;language&gt;</th><th scope=col>&lt;chr&gt;</th><th scope=col>&lt;elnet&gt;</th><th scope=col>&lt;dbl&gt;</th><th scope=col>&lt;dbl&gt;</th><th scope=col>&lt;int[,1]&gt;</th></tr>\n",
       "</thead>\n",
       "<tbody>\n",
       "\t<tr><th scope=row>cv.fit</th><td>0.006527....</td><td>0.000446....</td><td>3.781117....</td><td>0.000484....</td><td>0.000409....</td><td>0, 1, 1,....</td><td>cv.glmne....</td><td>Mean-Squ....</td><td>c(s0 = 3....</td><td>0.004499....</td><td>0.006527....</td><td>5, 1</td></tr>\n",
       "</tbody>\n",
       "</table>\n"
      ],
      "text/latex": [
       "A matrix: 1 × 12\n",
       "\\begin{tabular}{r|llllllllllll}\n",
       "  & lambda & cvm & cvsd & cvup & cvlo & nzero & call & name & glmnet.fit & lambda.min & lambda.1se & index\\\\\n",
       "  & <dbl> & <dbl> & <dbl> & <dbl> & <dbl> & <int> & <language> & <chr> & <elnet> & <dbl> & <dbl> & <int{[},1{]}>\\\\\n",
       "\\hline\n",
       "\tcv.fit & 0.006527.... & 0.000446.... & 3.781117.... & 0.000484.... & 0.000409.... & 0, 1, 1,.... & cv.glmne.... & Mean-Squ.... & c(s0 = 3.... & 0.004499.... & 0.006527.... & 5, 1\\\\\n",
       "\\end{tabular}\n"
      ],
      "text/markdown": [
       "\n",
       "A matrix: 1 × 12\n",
       "\n",
       "| <!--/--> | lambda &lt;dbl&gt; | cvm &lt;dbl&gt; | cvsd &lt;dbl&gt; | cvup &lt;dbl&gt; | cvlo &lt;dbl&gt; | nzero &lt;int&gt; | call &lt;language&gt; | name &lt;chr&gt; | glmnet.fit &lt;elnet&gt; | lambda.min &lt;dbl&gt; | lambda.1se &lt;dbl&gt; | index &lt;int[,1]&gt; |\n",
       "|---|---|---|---|---|---|---|---|---|---|---|---|---|\n",
       "| cv.fit | 0.006527.... | 0.000446.... | 3.781117.... | 0.000484.... | 0.000409.... | 0, 1, 1,.... | cv.glmne.... | Mean-Squ.... | c(s0 = 3.... | 0.004499.... | 0.006527.... | 5, 1 |\n",
       "\n"
      ],
      "text/plain": [
       "       lambda       cvm          cvsd         cvup         cvlo        \n",
       "cv.fit 0.006527.... 0.000446.... 3.781117.... 0.000484.... 0.000409....\n",
       "       nzero        call         name         glmnet.fit   lambda.min  \n",
       "cv.fit 0, 1, 1,.... cv.glmne.... Mean-Squ.... c(s0 = 3.... 0.004499....\n",
       "       lambda.1se   index\n",
       "cv.fit 0.006527.... 5, 1 "
      ]
     },
     "metadata": {},
     "output_type": "display_data"
    }
   ],
   "source": [
    "rbind(models.all, cv.fit)"
   ]
  },
  {
   "cell_type": "markdown",
   "id": "0849e5e3-af47-480f-82ca-97b07d1dd943",
   "metadata": {},
   "source": [
    "Is 1se vs min for lambda the problem?"
   ]
  },
  {
   "cell_type": "markdown",
   "id": "cfc14c0f-1e12-4108-97fc-ab66a6467640",
   "metadata": {},
   "source": [
    "## Run for all"
   ]
  },
  {
   "cell_type": "code",
   "execution_count": 60,
   "id": "ea16007c-a92a-49e4-ace7-bba842823fdb",
   "metadata": {},
   "outputs": [
    {
     "data": {
      "text/html": [
       "<style>\n",
       ".list-inline {list-style: none; margin:0; padding: 0}\n",
       ".list-inline>li {display: inline-block}\n",
       ".list-inline>li:not(:last-child)::after {content: \"\\00b7\"; padding: 0 .5ex}\n",
       "</style>\n",
       "<ol class=list-inline><li>56</li><li>297</li></ol>\n"
      ],
      "text/latex": [
       "\\begin{enumerate*}\n",
       "\\item 56\n",
       "\\item 297\n",
       "\\end{enumerate*}\n"
      ],
      "text/markdown": [
       "1. 56\n",
       "2. 297\n",
       "\n",
       "\n"
      ],
      "text/plain": [
       "[1]  56 297"
      ]
     },
     "metadata": {},
     "output_type": "display_data"
    }
   ],
   "source": [
    "dim(snp2)"
   ]
  },
  {
   "cell_type": "code",
   "execution_count": 61,
   "id": "90decbee-c88b-4fdf-bf57-8ec677c50d88",
   "metadata": {},
   "outputs": [
    {
     "data": {
      "text/html": [
       "<style>\n",
       ".list-inline {list-style: none; margin:0; padding: 0}\n",
       ".list-inline>li {display: inline-block}\n",
       ".list-inline>li:not(:last-child)::after {content: \"\\00b7\"; padding: 0 .5ex}\n",
       "</style>\n",
       "<ol class=list-inline><li>56</li><li>297</li></ol>\n"
      ],
      "text/latex": [
       "\\begin{enumerate*}\n",
       "\\item 56\n",
       "\\item 297\n",
       "\\end{enumerate*}\n"
      ],
      "text/markdown": [
       "1. 56\n",
       "2. 297\n",
       "\n",
       "\n"
      ],
      "text/plain": [
       "[1]  56 297"
      ]
     },
     "metadata": {},
     "output_type": "display_data"
    }
   ],
   "source": [
    "dim(snp2)"
   ]
  },
  {
   "cell_type": "code",
   "execution_count": 62,
   "id": "f45d4921-5778-49e6-a902-0e8ec71e5052",
   "metadata": {},
   "outputs": [],
   "source": [
    "snp3 <- readRDS(\"20-IN_check_SNP_window_pos1987413_win50000.rds\")"
   ]
  },
  {
   "cell_type": "code",
   "execution_count": 63,
   "id": "0445391d-9f13-4c14-afd2-55ac5f061df2",
   "metadata": {},
   "outputs": [
    {
     "data": {
      "text/html": [
       "<style>\n",
       ".list-inline {list-style: none; margin:0; padding: 0}\n",
       ".list-inline>li {display: inline-block}\n",
       ".list-inline>li:not(:last-child)::after {content: \"\\00b7\"; padding: 0 .5ex}\n",
       "</style>\n",
       "<ol class=list-inline><li>56</li><li>297</li></ol>\n"
      ],
      "text/latex": [
       "\\begin{enumerate*}\n",
       "\\item 56\n",
       "\\item 297\n",
       "\\end{enumerate*}\n"
      ],
      "text/markdown": [
       "1. 56\n",
       "2. 297\n",
       "\n",
       "\n"
      ],
      "text/plain": [
       "[1]  56 297"
      ]
     },
     "metadata": {},
     "output_type": "display_data"
    }
   ],
   "source": [
    "dim(snp2)"
   ]
  },
  {
   "cell_type": "code",
   "execution_count": 64,
   "id": "ddaf9d90-451b-4d8f-9afe-c5cb396df77c",
   "metadata": {},
   "outputs": [],
   "source": [
    "snp3 <- t(snp3)"
   ]
  },
  {
   "cell_type": "code",
   "execution_count": 65,
   "id": "dcd979be-31a5-44eb-a0f7-9cbaae1c954f",
   "metadata": {},
   "outputs": [],
   "source": [
    "map3 <- data.frame(POS = stringr::str_split_fixed(rownames(snp3), \":\", 3)[, 2])"
   ]
  },
  {
   "cell_type": "code",
   "execution_count": 66,
   "id": "a62ce6b1-1d14-4f59-8609-143e6cfe1989",
   "metadata": {},
   "outputs": [],
   "source": [
    "elastic.net(trainX, trainY)"
   ]
  },
  {
   "cell_type": "code",
   "execution_count": 67,
   "id": "35b95573-bddf-42d2-b26b-9619722dedda",
   "metadata": {},
   "outputs": [
    {
     "data": {
      "text/html": [
       "<table class=\"dataframe\">\n",
       "<caption>A matrix: 10 × 10 of type dbl</caption>\n",
       "<thead>\n",
       "\t<tr><th></th><th scope=col>1977810</th><th scope=col>1978402</th><th scope=col>1978783</th><th scope=col>1979188</th><th scope=col>1979235</th><th scope=col>1980240</th><th scope=col>1981269</th><th scope=col>1981360</th><th scope=col>1982428</th><th scope=col>1985366</th></tr>\n",
       "</thead>\n",
       "<tbody>\n",
       "\t<tr><th scope=row>Br836</th><td>0</td><td>0.008</td><td>0.000</td><td>0.000</td><td>2</td><td>2.000</td><td>2</td><td>2.000</td><td>2.000</td><td>2</td></tr>\n",
       "\t<tr><th scope=row>Br845</th><td>1</td><td>2.000</td><td>2.000</td><td>0.000</td><td>2</td><td>2.000</td><td>2</td><td>2.000</td><td>2.000</td><td>2</td></tr>\n",
       "\t<tr><th scope=row>Br848</th><td>1</td><td>1.991</td><td>1.990</td><td>0.010</td><td>2</td><td>1.905</td><td>2</td><td>1.006</td><td>1.006</td><td>2</td></tr>\n",
       "\t<tr><th scope=row>Br863</th><td>0</td><td>0.000</td><td>0.000</td><td>0.000</td><td>2</td><td>2.000</td><td>2</td><td>2.000</td><td>2.000</td><td>2</td></tr>\n",
       "\t<tr><th scope=row>Br914</th><td>0</td><td>1.981</td><td>1.979</td><td>0.047</td><td>2</td><td>2.000</td><td>2</td><td>2.000</td><td>2.000</td><td>2</td></tr>\n",
       "\t<tr><th scope=row>Br948</th><td>0</td><td>0.024</td><td>0.024</td><td>1.001</td><td>2</td><td>2.000</td><td>2</td><td>2.000</td><td>2.000</td><td>2</td></tr>\n",
       "\t<tr><th scope=row>Br949</th><td>2</td><td>2.000</td><td>2.000</td><td>1.997</td><td>2</td><td>2.000</td><td>2</td><td>0.005</td><td>2.000</td><td>2</td></tr>\n",
       "\t<tr><th scope=row>Br963</th><td>0</td><td>0.015</td><td>0.019</td><td>1.997</td><td>2</td><td>2.000</td><td>2</td><td>2.000</td><td>2.000</td><td>2</td></tr>\n",
       "\t<tr><th scope=row>Br983</th><td>1</td><td>2.000</td><td>2.000</td><td>0.001</td><td>1</td><td>1.000</td><td>1</td><td>1.000</td><td>1.000</td><td>1</td></tr>\n",
       "\t<tr><th scope=row>Br991</th><td>0</td><td>0.000</td><td>0.000</td><td>1.000</td><td>2</td><td>2.000</td><td>2</td><td>2.000</td><td>2.000</td><td>2</td></tr>\n",
       "</tbody>\n",
       "</table>\n"
      ],
      "text/latex": [
       "A matrix: 10 × 10 of type dbl\n",
       "\\begin{tabular}{r|llllllllll}\n",
       "  & 1977810 & 1978402 & 1978783 & 1979188 & 1979235 & 1980240 & 1981269 & 1981360 & 1982428 & 1985366\\\\\n",
       "\\hline\n",
       "\tBr836 & 0 & 0.008 & 0.000 & 0.000 & 2 & 2.000 & 2 & 2.000 & 2.000 & 2\\\\\n",
       "\tBr845 & 1 & 2.000 & 2.000 & 0.000 & 2 & 2.000 & 2 & 2.000 & 2.000 & 2\\\\\n",
       "\tBr848 & 1 & 1.991 & 1.990 & 0.010 & 2 & 1.905 & 2 & 1.006 & 1.006 & 2\\\\\n",
       "\tBr863 & 0 & 0.000 & 0.000 & 0.000 & 2 & 2.000 & 2 & 2.000 & 2.000 & 2\\\\\n",
       "\tBr914 & 0 & 1.981 & 1.979 & 0.047 & 2 & 2.000 & 2 & 2.000 & 2.000 & 2\\\\\n",
       "\tBr948 & 0 & 0.024 & 0.024 & 1.001 & 2 & 2.000 & 2 & 2.000 & 2.000 & 2\\\\\n",
       "\tBr949 & 2 & 2.000 & 2.000 & 1.997 & 2 & 2.000 & 2 & 0.005 & 2.000 & 2\\\\\n",
       "\tBr963 & 0 & 0.015 & 0.019 & 1.997 & 2 & 2.000 & 2 & 2.000 & 2.000 & 2\\\\\n",
       "\tBr983 & 1 & 2.000 & 2.000 & 0.001 & 1 & 1.000 & 1 & 1.000 & 1.000 & 1\\\\\n",
       "\tBr991 & 0 & 0.000 & 0.000 & 1.000 & 2 & 2.000 & 2 & 2.000 & 2.000 & 2\\\\\n",
       "\\end{tabular}\n"
      ],
      "text/markdown": [
       "\n",
       "A matrix: 10 × 10 of type dbl\n",
       "\n",
       "| <!--/--> | 1977810 | 1978402 | 1978783 | 1979188 | 1979235 | 1980240 | 1981269 | 1981360 | 1982428 | 1985366 |\n",
       "|---|---|---|---|---|---|---|---|---|---|---|\n",
       "| Br836 | 0 | 0.008 | 0.000 | 0.000 | 2 | 2.000 | 2 | 2.000 | 2.000 | 2 |\n",
       "| Br845 | 1 | 2.000 | 2.000 | 0.000 | 2 | 2.000 | 2 | 2.000 | 2.000 | 2 |\n",
       "| Br848 | 1 | 1.991 | 1.990 | 0.010 | 2 | 1.905 | 2 | 1.006 | 1.006 | 2 |\n",
       "| Br863 | 0 | 0.000 | 0.000 | 0.000 | 2 | 2.000 | 2 | 2.000 | 2.000 | 2 |\n",
       "| Br914 | 0 | 1.981 | 1.979 | 0.047 | 2 | 2.000 | 2 | 2.000 | 2.000 | 2 |\n",
       "| Br948 | 0 | 0.024 | 0.024 | 1.001 | 2 | 2.000 | 2 | 2.000 | 2.000 | 2 |\n",
       "| Br949 | 2 | 2.000 | 2.000 | 1.997 | 2 | 2.000 | 2 | 0.005 | 2.000 | 2 |\n",
       "| Br963 | 0 | 0.015 | 0.019 | 1.997 | 2 | 2.000 | 2 | 2.000 | 2.000 | 2 |\n",
       "| Br983 | 1 | 2.000 | 2.000 | 0.001 | 1 | 1.000 | 1 | 1.000 | 1.000 | 1 |\n",
       "| Br991 | 0 | 0.000 | 0.000 | 1.000 | 2 | 2.000 | 2 | 2.000 | 2.000 | 2 |\n",
       "\n"
      ],
      "text/plain": [
       "      1977810 1978402 1978783 1979188 1979235 1980240 1981269 1981360 1982428\n",
       "Br836 0       0.008   0.000   0.000   2       2.000   2       2.000   2.000  \n",
       "Br845 1       2.000   2.000   0.000   2       2.000   2       2.000   2.000  \n",
       "Br848 1       1.991   1.990   0.010   2       1.905   2       1.006   1.006  \n",
       "Br863 0       0.000   0.000   0.000   2       2.000   2       2.000   2.000  \n",
       "Br914 0       1.981   1.979   0.047   2       2.000   2       2.000   2.000  \n",
       "Br948 0       0.024   0.024   1.001   2       2.000   2       2.000   2.000  \n",
       "Br949 2       2.000   2.000   1.997   2       2.000   2       0.005   2.000  \n",
       "Br963 0       0.015   0.019   1.997   2       2.000   2       2.000   2.000  \n",
       "Br983 1       2.000   2.000   0.001   1       1.000   1       1.000   1.000  \n",
       "Br991 0       0.000   0.000   1.000   2       2.000   2       2.000   2.000  \n",
       "      1985366\n",
       "Br836 2      \n",
       "Br845 2      \n",
       "Br848 2      \n",
       "Br863 2      \n",
       "Br914 2      \n",
       "Br948 2      \n",
       "Br949 2      \n",
       "Br963 2      \n",
       "Br983 1      \n",
       "Br991 2      "
      ]
     },
     "metadata": {},
     "output_type": "display_data"
    }
   ],
   "source": [
    "trainX[1:10, 1:10]"
   ]
  },
  {
   "cell_type": "code",
   "execution_count": 68,
   "id": "783c5a37-03cc-45e4-bca5-94c4440175a0",
   "metadata": {},
   "outputs": [
    {
     "data": {
      "text/html": [
       "<style>\n",
       ".dl-inline {width: auto; margin:0; padding: 0}\n",
       ".dl-inline>dt, .dl-inline>dd {float: none; width: auto; display: inline-block}\n",
       ".dl-inline>dt::after {content: \":\\0020\"; padding-right: .5ex}\n",
       ".dl-inline>dt:not(:first-of-type) {padding-left: .5ex}\n",
       "</style><dl class=dl-inline><dt>Br1122</dt><dd>-0.0138154121051172</dd><dt>Br2285</dt><dd>-0.0225516889392049</dd><dt>Br1764</dt><dd>-0.00048947325517237</dd><dt>Br1464</dt><dd>0.0340564404599479</dd><dt>Br5062</dt><dd>-0.0329548084063116</dd><dt>Br1446</dt><dd>0.0244990254723474</dd><dt>Br1503</dt><dd>-0.00755545917914849</dd><dt>Br1946</dt><dd>0.0427314728276455</dd><dt>Br5323</dt><dd>0.0199602497753867</dd><dt>Br1297</dt><dd>-0.0177260869492932</dd></dl>\n"
      ],
      "text/latex": [
       "\\begin{description*}\n",
       "\\item[Br1122] -0.0138154121051172\n",
       "\\item[Br2285] -0.0225516889392049\n",
       "\\item[Br1764] -0.00048947325517237\n",
       "\\item[Br1464] 0.0340564404599479\n",
       "\\item[Br5062] -0.0329548084063116\n",
       "\\item[Br1446] 0.0244990254723474\n",
       "\\item[Br1503] -0.00755545917914849\n",
       "\\item[Br1946] 0.0427314728276455\n",
       "\\item[Br5323] 0.0199602497753867\n",
       "\\item[Br1297] -0.0177260869492932\n",
       "\\end{description*}\n"
      ],
      "text/markdown": [
       "Br1122\n",
       ":   -0.0138154121051172Br2285\n",
       ":   -0.0225516889392049Br1764\n",
       ":   -0.00048947325517237Br1464\n",
       ":   0.0340564404599479Br5062\n",
       ":   -0.0329548084063116Br1446\n",
       ":   0.0244990254723474Br1503\n",
       ":   -0.00755545917914849Br1946\n",
       ":   0.0427314728276455Br5323\n",
       ":   0.0199602497753867Br1297\n",
       ":   -0.0177260869492932\n",
       "\n"
      ],
      "text/plain": [
       "       Br1122        Br2285        Br1764        Br1464        Br5062 \n",
       "-0.0138154121 -0.0225516889 -0.0004894733  0.0340564405 -0.0329548084 \n",
       "       Br1446        Br1503        Br1946        Br5323        Br1297 \n",
       " 0.0244990255 -0.0075554592  0.0427314728  0.0199602498 -0.0177260869 "
      ]
     },
     "metadata": {},
     "output_type": "display_data"
    }
   ],
   "source": [
    "trainY[1:10]"
   ]
  },
  {
   "cell_type": "code",
   "execution_count": 69,
   "id": "f41f9c4d-1489-45a4-ad25-d446a05980bf",
   "metadata": {},
   "outputs": [],
   "source": [
    "p.residual <- p.residual[, order(colnames(p.residual))]"
   ]
  },
  {
   "cell_type": "code",
   "execution_count": 70,
   "id": "305409c3-5abb-49c2-9914-6fd958064abf",
   "metadata": {},
   "outputs": [
    {
     "name": "stdout",
     "output_type": "stream",
     "text": [
      "1 \n",
      "[1] \"This cg is: 1987413\"\n",
      "2 \n",
      "[1] \"This cg is: 1987418\"\n",
      "3 \n",
      "[1] \"This cg is: 1987434\"\n",
      "4 \n",
      "[1] \"This cg is: 1987449\"\n",
      "5 \n",
      "[1] \"This cg is: 1987458\"\n",
      "6 \n",
      "[1] \"This cg is: 1987468\"\n",
      "7 \n",
      "[1] \"This cg is: 1987492\"\n",
      "8 \n",
      "[1] \"This cg is: 1987511\"\n",
      "9 \n",
      "[1] \"This cg is: 1987527\"\n",
      "10 \n",
      "[1] \"This cg is: 1987565\"\n",
      "11 \n",
      "[1] \"This cg is: 1987604\"\n",
      "12 \n",
      "[1] \"This cg is: 1987616\"\n",
      "13 \n",
      "[1] \"This cg is: 1987627\"\n",
      "14 \n",
      "[1] \"This cg is: 1987648\"\n",
      "15 \n",
      "[1] \"This cg is: 1987656\"\n",
      "16 \n",
      "[1] \"This cg is: 1987659\"\n",
      "17 \n",
      "[1] \"This cg is: 1987665\"\n",
      "18 \n",
      "[1] \"This cg is: 1987669\"\n",
      "19 \n",
      "[1] \"This cg is: 1987680\"\n",
      "20 \n",
      "[1] \"This cg is: 1987684\"\n",
      "21 \n",
      "[1] \"This cg is: 1987688\"\n",
      "22 \n",
      "[1] \"This cg is: 1987697\"\n",
      "23 \n",
      "[1] \"This cg is: 1987705\"\n",
      "24 \n",
      "[1] \"This cg is: 1987725\"\n",
      "25 \n",
      "[1] \"This cg is: 1987732\"\n",
      "26 \n",
      "[1] \"This cg is: 1987778\"\n",
      "27 \n",
      "[1] \"This cg is: 1987797\"\n",
      "28 \n",
      "[1] \"This cg is: 1987808\"\n",
      "29 \n",
      "[1] \"This cg is: 1987853\"\n",
      "30 \n",
      "[1] \"This cg is: 1987858\"\n",
      "31 \n",
      "[1] \"This cg is: 1987861\"\n",
      "32 \n",
      "[1] \"This cg is: 1987896\"\n",
      "33 \n",
      "[1] \"This cg is: 1987910\"\n",
      "34 \n",
      "[1] \"This cg is: 1987930\"\n",
      "35 \n",
      "[1] \"This cg is: 1988010\"\n",
      "36 \n",
      "[1] \"This cg is: 1988039\"\n",
      "37 \n",
      "[1] \"This cg is: 1988059\"\n",
      "38 \n",
      "[1] \"This cg is: 1988066\"\n",
      "39 \n",
      "[1] \"This cg is: 1988078\"\n",
      "40 \n",
      "[1] \"This cg is: 1988129\"\n",
      "41 \n",
      "[1] \"This cg is: 1988133\"\n",
      "42 \n",
      "[1] \"This cg is: 1988141\"\n",
      "43 \n",
      "[1] \"This cg is: 1988201\"\n",
      "44 \n",
      "[1] \"This cg is: 1988216\"\n",
      "45 \n",
      "[1] \"This cg is: 1988292\"\n",
      "46 \n",
      "[1] \"This cg is: 1988321\"\n",
      "47 \n",
      "[1] \"This cg is: 1988325\"\n",
      "48 \n",
      "[1] \"This cg is: 1988332\"\n",
      "49 \n",
      "[1] \"This cg is: 1988401\"\n"
     ]
    }
   ],
   "source": [
    "for(k in 1:length(wind)){\n",
    "    models.ea <- c()\n",
    "    models.all <- c()\n",
    "    for(i in 1:length(cg)){\n",
    "    #for(i in 1){\n",
    "            cat(i,\"\\n\")\n",
    "            print(paste0(\"This cg is: \", cg[i]))\n",
    "            range1 <- ifelse(cg[i] - wind[k] > 0,cg[i] - wind[k],0)\n",
    "            range2 <- cg[i] + wind[k]\n",
    "            idx <- map3$POS > range1 & map3$POS < range2\n",
    "            # go to next cg if no snps within window\n",
    "            if(sum(idx) <= 1){\n",
    "                    next\n",
    "            }\n",
    "            geno <- snp3[idx,] # changed snp2 to snp3\n",
    "            rownames(geno) <- map3$POS[idx]\n",
    "            trainX <- t(geno)\n",
    "            trainY <- p.residual[i,]\n",
    "            fit <- tryCatch(\n",
    "                    elastic.net(trainX,trainY),\n",
    "                    error = function(e) {return (\"err\")})\n",
    "            if(!is.data.frame(fit)){\n",
    "                if(fit == \"err\"){\n",
    "                    next\n",
    "                }\n",
    "            }\n",
    "            if(nrow(fit) == 0) next\n",
    "\n",
    "            fit$cg <- cg[i]\n",
    "            models.all <- rbind(models.all,fit)\n",
    "            # EA only\n",
    "            trainX <- trainX[idx.ea,]\n",
    "            if(sum(apply(trainX,2,var)!=0) <= 1){\n",
    "                    next\n",
    "            }\n",
    "            trainY <- trainY[idx.ea]\n",
    "            fit <- tryCatch(\n",
    "                    elastic.net(trainX,trainY),\n",
    "                    error = function(e) {return (\"err\")})\n",
    "            if(!is.data.frame(fit)){\n",
    "                if(fit == \"err\"){\n",
    "                    next\n",
    "                }\n",
    "            }\n",
    "            if(nrow(fit) == 0) next\n",
    "            fit$cg <- cg[i]\n",
    "            models.ea <- rbind(models.ea,fit)\n",
    "    }\n",
    "}"
   ]
  },
  {
   "cell_type": "code",
   "execution_count": 71,
   "id": "0bd0880b-f72b-4793-a7da-ac61766e8d3f",
   "metadata": {},
   "outputs": [
    {
     "data": {
      "text/html": [
       "10000"
      ],
      "text/latex": [
       "10000"
      ],
      "text/markdown": [
       "10000"
      ],
      "text/plain": [
       "[1] 10000"
      ]
     },
     "metadata": {},
     "output_type": "display_data"
    }
   ],
   "source": [
    "wind[k]"
   ]
  },
  {
   "cell_type": "code",
   "execution_count": 72,
   "id": "3d109e75-bf26-43f5-8a0d-d6bb2f9cbe6b",
   "metadata": {},
   "outputs": [],
   "source": [
    "models.ea <- models.ea[models.ea[,1] != \"(Intercept)\",]\n",
    "models.all <- models.all[models.all[,1] != \"(Intercept)\",]"
   ]
  },
  {
   "cell_type": "code",
   "execution_count": 73,
   "id": "ad0d6d07-06f6-403d-8496-5dd34d8ba4b1",
   "metadata": {},
   "outputs": [],
   "source": [
    "if(!dir.exists(outd)) dir.create(outd)"
   ]
  },
  {
   "cell_type": "code",
   "execution_count": 74,
   "id": "31fcde6d-935f-4342-b0ab-53f4fd02bb19",
   "metadata": {},
   "outputs": [
    {
     "data": {
      "text/html": [
       "<table class=\"dataframe\">\n",
       "<caption>A data.frame: 6 × 3</caption>\n",
       "<thead>\n",
       "\t<tr><th></th><th scope=col>features</th><th scope=col>coefs</th><th scope=col>cg</th></tr>\n",
       "\t<tr><th></th><th scope=col>&lt;chr&gt;</th><th scope=col>&lt;dbl&gt;</th><th scope=col>&lt;dbl&gt;</th></tr>\n",
       "</thead>\n",
       "<tbody>\n",
       "\t<tr><th scope=row>2</th><td>1977810</td><td> 1.143246e-03</td><td>1987413</td></tr>\n",
       "\t<tr><th scope=row>3</th><td>1979926</td><td>-2.984210e-03</td><td>1987413</td></tr>\n",
       "\t<tr><th scope=row>4</th><td>1981360</td><td>-1.092704e-03</td><td>1987413</td></tr>\n",
       "\t<tr><th scope=row>5</th><td>1987676</td><td>-1.484905e-03</td><td>1987413</td></tr>\n",
       "\t<tr><th scope=row>6</th><td>1987719</td><td>-3.453372e-03</td><td>1987413</td></tr>\n",
       "\t<tr><th scope=row>7</th><td>1990232</td><td>-9.106033e-05</td><td>1987413</td></tr>\n",
       "</tbody>\n",
       "</table>\n"
      ],
      "text/latex": [
       "A data.frame: 6 × 3\n",
       "\\begin{tabular}{r|lll}\n",
       "  & features & coefs & cg\\\\\n",
       "  & <chr> & <dbl> & <dbl>\\\\\n",
       "\\hline\n",
       "\t2 & 1977810 &  1.143246e-03 & 1987413\\\\\n",
       "\t3 & 1979926 & -2.984210e-03 & 1987413\\\\\n",
       "\t4 & 1981360 & -1.092704e-03 & 1987413\\\\\n",
       "\t5 & 1987676 & -1.484905e-03 & 1987413\\\\\n",
       "\t6 & 1987719 & -3.453372e-03 & 1987413\\\\\n",
       "\t7 & 1990232 & -9.106033e-05 & 1987413\\\\\n",
       "\\end{tabular}\n"
      ],
      "text/markdown": [
       "\n",
       "A data.frame: 6 × 3\n",
       "\n",
       "| <!--/--> | features &lt;chr&gt; | coefs &lt;dbl&gt; | cg &lt;dbl&gt; |\n",
       "|---|---|---|---|\n",
       "| 2 | 1977810 |  1.143246e-03 | 1987413 |\n",
       "| 3 | 1979926 | -2.984210e-03 | 1987413 |\n",
       "| 4 | 1981360 | -1.092704e-03 | 1987413 |\n",
       "| 5 | 1987676 | -1.484905e-03 | 1987413 |\n",
       "| 6 | 1987719 | -3.453372e-03 | 1987413 |\n",
       "| 7 | 1990232 | -9.106033e-05 | 1987413 |\n",
       "\n"
      ],
      "text/plain": [
       "  features coefs         cg     \n",
       "2 1977810   1.143246e-03 1987413\n",
       "3 1979926  -2.984210e-03 1987413\n",
       "4 1981360  -1.092704e-03 1987413\n",
       "5 1987676  -1.484905e-03 1987413\n",
       "6 1987719  -3.453372e-03 1987413\n",
       "7 1990232  -9.106033e-05 1987413"
      ]
     },
     "metadata": {},
     "output_type": "display_data"
    }
   ],
   "source": [
    "head(models.all)"
   ]
  },
  {
   "cell_type": "code",
   "execution_count": 75,
   "id": "de537c53-6dd2-4edd-b78d-eae187f6e316",
   "metadata": {},
   "outputs": [
    {
     "data": {
      "text/html": [
       "<style>\n",
       ".list-inline {list-style: none; margin:0; padding: 0}\n",
       ".list-inline>li {display: inline-block}\n",
       ".list-inline>li:not(:last-child)::after {content: \"\\00b7\"; padding: 0 .5ex}\n",
       "</style>\n",
       "<ol class=list-inline><li>644</li><li>3</li></ol>\n"
      ],
      "text/latex": [
       "\\begin{enumerate*}\n",
       "\\item 644\n",
       "\\item 3\n",
       "\\end{enumerate*}\n"
      ],
      "text/markdown": [
       "1. 644\n",
       "2. 3\n",
       "\n",
       "\n"
      ],
      "text/plain": [
       "[1] 644   3"
      ]
     },
     "metadata": {},
     "output_type": "display_data"
    }
   ],
   "source": [
    "dim(models.all)"
   ]
  },
  {
   "cell_type": "code",
   "execution_count": 76,
   "id": "882b49b4-c020-49d1-9689-b9aedae0083c",
   "metadata": {},
   "outputs": [
    {
     "ename": "ERROR",
     "evalue": "Error in gwas %*% weight: non-conformable arguments\n",
     "output_type": "error",
     "traceback": [
      "Error in gwas %*% weight: non-conformable arguments\nTraceback:\n",
      "1. MWAS(gwas, weight, t(geno))"
     ]
    }
   ],
   "source": [
    "# mwas by models of all samples\n",
    "cg2 <- unique(models.all$cg)\n",
    "mwas.all <- matrix(0,nrow=length(cg2),ncol=2)\n",
    "for(i in 1:length(cg2)){\n",
    "        pos <- models.all[models.all$cg == cg2[i],1]\n",
    "        gwas <- snp.gwas2$z[is.element(snp.gwas2$pos_hg38, pos)]\n",
    "        weight <- models.all[models.all$cg == cg2[i],2]\n",
    "        geno <- snp.1kg.eur2[match(pos,map.1kg.eur2$POS),]\n",
    "        mwas.all[i,] <- MWAS(gwas, weight, t(geno))\n",
    "}\n",
    "rownames(mwas.all) <- cg2\n",
    "colnames(mwas.all) <- c(\"z\",\"p\")\n",
    "\n",
    "# mwas by models of EA samples\n",
    "cg2 <- unique(models.ea$cg)\n",
    "mwas.ea <- matrix(0,nrow=length(cg2),ncol=2)\n",
    "for(i in 1:length(cg2)){\n",
    "        pos <- models.ea[models.ea$cg == cg2[i],1]\n",
    "        gwas <- snp.gwas2$z[is.element(snp.gwas2$pos_hg38, pos)]\n",
    "        weight <- models.ea[models.ea$cg == cg2[i],2]\n",
    "        geno <- snp.1kg.eur2[match(pos,map.1kg.eur2$POS),]\n",
    "        mwas.ea[i,] <- MWAS(gwas, weight, t(geno))\n",
    "}\n",
    "rownames(mwas.ea) <- cg2\n",
    "colnames(mwas.ea) <- c(\"z\",\"p\")\n",
    "\n",
    "# output models and mwas results\n",
    "outf <- paste0(outd,\"/models-cov1.all.wind.\",wind[k])\n",
    "write.csv(models.all,outf)\n",
    "outf <- paste0(outd,\"/models-cov1.ea.wind.\",wind[k])\n",
    "write.csv(models.ea,outf)\n",
    "outf <- paste0(outd,\"/mwas-cov1.all.wind.\",wind[k])\n",
    "write.csv(mwas.all,outf)\n",
    "outf <- paste0(outd,\"/mwas-cov1.ea.wind.\",wind[k])\n",
    "write.csv(mwas.ea,outf)"
   ]
  },
  {
   "cell_type": "code",
   "execution_count": null,
   "id": "ad1d4bbb-63d1-4251-8d60-4ccbe150a6ba",
   "metadata": {},
   "outputs": [],
   "source": [
    "dim(gwas)"
   ]
  },
  {
   "cell_type": "code",
   "execution_count": null,
   "id": "7f8a33b5-a2ae-4fa3-9bed-8231c029e31e",
   "metadata": {},
   "outputs": [],
   "source": [
    "length(gwas)"
   ]
  },
  {
   "cell_type": "code",
   "execution_count": null,
   "id": "6ca46882-9264-44d1-a27d-f2bae24da425",
   "metadata": {},
   "outputs": [],
   "source": [
    "gwas"
   ]
  },
  {
   "cell_type": "code",
   "execution_count": null,
   "id": "8556550b-d123-4372-a1e1-d2da177ba599",
   "metadata": {},
   "outputs": [],
   "source": [
    "length(gwas)"
   ]
  },
  {
   "cell_type": "code",
   "execution_count": null,
   "id": "319d40ec-5842-47ea-8e04-b6580b405455",
   "metadata": {},
   "outputs": [],
   "source": [
    "length(weight)"
   ]
  },
  {
   "cell_type": "code",
   "execution_count": null,
   "id": "4fff4328-8684-4e14-8ede-9e2d69a2f4f6",
   "metadata": {},
   "outputs": [],
   "source": [
    "weight"
   ]
  },
  {
   "cell_type": "code",
   "execution_count": null,
   "id": "5cd88556-c8de-4e55-b3d4-4b05a5d06155",
   "metadata": {},
   "outputs": [],
   "source": [
    "models.all"
   ]
  },
  {
   "cell_type": "code",
   "execution_count": null,
   "id": "165f5e3b-9e45-4e32-bc60-2862ad141af1",
   "metadata": {},
   "outputs": [],
   "source": [
    "mwas.all"
   ]
  },
  {
   "cell_type": "code",
   "execution_count": null,
   "id": "2f87c754-55cf-4a61-85c8-f7860e793045",
   "metadata": {},
   "outputs": [],
   "source": [
    "models.all"
   ]
  },
  {
   "cell_type": "code",
   "execution_count": null,
   "id": "98af96ca-e3e8-4281-a608-ecb9cff9db37",
   "metadata": {},
   "outputs": [],
   "source": [
    "mwas.all"
   ]
  },
  {
   "cell_type": "code",
   "execution_count": null,
   "id": "18941c5c-bb0f-4cf7-8ed0-0d21cf79c542",
   "metadata": {},
   "outputs": [],
   "source": [
    "head(models.ea)"
   ]
  },
  {
   "cell_type": "code",
   "execution_count": null,
   "id": "864c550b-b05f-43cf-b7db-94dcd04048f6",
   "metadata": {},
   "outputs": [],
   "source": []
  }
 ],
 "metadata": {
  "kernelspec": {
   "display_name": "R",
   "language": "R",
   "name": "ir"
  },
  "language_info": {
   "codemirror_mode": "r",
   "file_extension": ".r",
   "mimetype": "text/x-r-source",
   "name": "R",
   "pygments_lexer": "r",
   "version": "4.3.1"
  }
 },
 "nbformat": 4,
 "nbformat_minor": 5
}
