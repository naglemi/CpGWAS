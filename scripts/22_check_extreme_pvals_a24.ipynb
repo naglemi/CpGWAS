{
 "cells": [
  {
   "cell_type": "markdown",
   "id": "1987fa63-14d9-405f-8e54-1e04373cef9c",
   "metadata": {},
   "source": [
    "# Take a close look at extreme p-values"
   ]
  },
  {
   "cell_type": "code",
   "execution_count": 1,
   "id": "d42e1183-dabc-4806-9fb1-534d52c1a5ac",
   "metadata": {},
   "outputs": [],
   "source": [
    "library(data.table)"
   ]
  },
  {
   "cell_type": "code",
   "execution_count": 2,
   "id": "7aef0a06-ac63-4ae4-ab05-6f6299cbf35d",
   "metadata": {},
   "outputs": [],
   "source": [
    "bigdata <- fread(\"16a9par-OUT_stage2_MWAS_scz.csv\")"
   ]
  },
  {
   "cell_type": "code",
   "execution_count": 3,
   "id": "ece4648e-ccd0-4a1a-8503-a4f1e1f28963",
   "metadata": {},
   "outputs": [
    {
     "data": {
      "text/html": [
       "<style>\n",
       ".list-inline {list-style: none; margin:0; padding: 0}\n",
       ".list-inline>li {display: inline-block}\n",
       ".list-inline>li:not(:last-child)::after {content: \"\\00b7\"; padding: 0 .5ex}\n",
       "</style>\n",
       "<ol class=list-inline><li>'z'</li><li>'p'</li><li>'n'</li><li>'chr'</li><li>'pos'</li><li>'population'</li><li>'region'</li><li>'stats'</li><li>'scaff'</li></ol>\n"
      ],
      "text/latex": [
       "\\begin{enumerate*}\n",
       "\\item 'z'\n",
       "\\item 'p'\n",
       "\\item 'n'\n",
       "\\item 'chr'\n",
       "\\item 'pos'\n",
       "\\item 'population'\n",
       "\\item 'region'\n",
       "\\item 'stats'\n",
       "\\item 'scaff'\n",
       "\\end{enumerate*}\n"
      ],
      "text/markdown": [
       "1. 'z'\n",
       "2. 'p'\n",
       "3. 'n'\n",
       "4. 'chr'\n",
       "5. 'pos'\n",
       "6. 'population'\n",
       "7. 'region'\n",
       "8. 'stats'\n",
       "9. 'scaff'\n",
       "\n",
       "\n"
      ],
      "text/plain": [
       "[1] \"z\"          \"p\"          \"n\"          \"chr\"        \"pos\"       \n",
       "[6] \"population\" \"region\"     \"stats\"      \"scaff\"     "
      ]
     },
     "metadata": {},
     "output_type": "display_data"
    }
   ],
   "source": [
    "colnames(bigdata)"
   ]
  },
  {
   "cell_type": "code",
   "execution_count": 5,
   "id": "3a8ecee6-1401-4ee8-86aa-b5e79ec9791c",
   "metadata": {},
   "outputs": [],
   "source": [
    "smallerdata <- bigdata[which(bigdata$p < 10^-200), ]"
   ]
  },
  {
   "cell_type": "code",
   "execution_count": 6,
   "id": "3147f26b-999f-43f5-8b64-9ef9af32dfaf",
   "metadata": {},
   "outputs": [
    {
     "data": {
      "text/html": [
       "<style>\n",
       ".list-inline {list-style: none; margin:0; padding: 0}\n",
       ".list-inline>li {display: inline-block}\n",
       ".list-inline>li:not(:last-child)::after {content: \"\\00b7\"; padding: 0 .5ex}\n",
       "</style>\n",
       "<ol class=list-inline><li>4919</li><li>9</li></ol>\n"
      ],
      "text/latex": [
       "\\begin{enumerate*}\n",
       "\\item 4919\n",
       "\\item 9\n",
       "\\end{enumerate*}\n"
      ],
      "text/markdown": [
       "1. 4919\n",
       "2. 9\n",
       "\n",
       "\n"
      ],
      "text/plain": [
       "[1] 4919    9"
      ]
     },
     "metadata": {},
     "output_type": "display_data"
    }
   ],
   "source": [
    "#smallerdata <- bigdata[which(bigdata$p < 10^-200), ]\n",
    "\n",
    "dim(smallerdata)\n",
    "\n",
    "fwrite(smallerdata, \"22_intermediate_extreme_stage2_MWAS_scz.csv\")"
   ]
  },
  {
   "cell_type": "code",
   "execution_count": null,
   "id": "d0264954-9bf2-4a88-89d4-c9518fd25275",
   "metadata": {},
   "outputs": [],
   "source": [
    "smallerdata <- fread(\"22_intermediate_extreme_stage2_MWAS_scz.csv\")"
   ]
  },
  {
   "cell_type": "markdown",
   "id": "6c48e475-e332-416e-948c-8d404c8a8baa",
   "metadata": {},
   "source": [
    "### What are the stage 1 weights for SNPs contributing to this CpG site?"
   ]
  },
  {
   "cell_type": "code",
   "execution_count": 7,
   "id": "751e22ae-03fd-4eba-8c24-5cf87248d457",
   "metadata": {},
   "outputs": [],
   "source": [
    "#weights <- readRDS(\"/expanse/lustre/projects/jhu152/naglemi/mwas/CpGWAS/output_EXPANSE_a2_caud/libd_chr1-chr1_AA-libd_chr1-chr1_AA-908982-928981-dynamic-1corestotal-allcorepera-20240415-134429.rds\")"
   ]
  },
  {
   "cell_type": "code",
   "execution_count": 8,
   "id": "8d7e34cb-6325-49cb-ace4-f4a75c3a3e94",
   "metadata": {},
   "outputs": [],
   "source": [
    "weights <- readRDS(\"/expanse/lustre/projects/jhu152/naglemi/mwas/CpGWAS/output_EXPANSE_a2_caud/libd_chr1-chr1_all-libd_chr1-chr1_all-908982-928981-dynamic-1corestotal-allcorepera-20240416-172011.rds\")"
   ]
  },
  {
   "cell_type": "code",
   "execution_count": 9,
   "id": "c3b790f6-7df4-4e92-ae13-c1023965bde8",
   "metadata": {},
   "outputs": [],
   "source": [
    "smallerdata <- smallerdata[which(smallerdata$population == \"all\" & smallerdata$region == \"caud\"), ]"
   ]
  },
  {
   "cell_type": "code",
   "execution_count": 10,
   "id": "82dfd94b-95f1-4db1-8251-4711d71fddc3",
   "metadata": {},
   "outputs": [],
   "source": [
    "library(data.table)\n",
    "\n",
    "#smallerdata_sorted <- smallerdata[order(smallerdata$pos), ]\n",
    "#duplicated_pos <- smallerdata_sorted$pos[duplicated(smallerdata_sorted$pos)]\n",
    "#smallerdata_sorted[smallerdata_sorted$pos %in% duplicated_pos, ]\n",
    "\n",
    "smallerdata[, timestamp := sub(\".*-(\\\\d{8}-\\\\d{6})$\", \"\\\\1\", scaff)]\n",
    "smallerdata <- smallerdata[order(pos, -timestamp)]\n",
    "\n",
    "smallerdata <- smallerdata[, .SD[1], by = pos]"
   ]
  },
  {
   "cell_type": "code",
   "execution_count": 11,
   "id": "711cfedd-b912-4049-aba6-3048fc5fd213",
   "metadata": {},
   "outputs": [],
   "source": [
    "methylation_positions <- vector(\"list\", length(weights@models))\n",
    "snp_weights_list_of_lists <- vector(\"list\", length(weights@models))\n",
    "desired_methylation_positions <- vector(\"list\", sum(smallerdata$pos %in% sapply(weights@models, function(x) x@methylationPosition)))\n",
    "desired_snp_weights_list_of_lists <- vector(\"list\", sum(smallerdata$pos %in% sapply(weights@models, function(x) x@methylationPosition)))\n",
    "desired_snp_pvals <- vector(\"list\", sum(smallerdata$pos %in% sapply(weights@models, function(x) x@methylationPosition)))"
   ]
  },
  {
   "cell_type": "code",
   "execution_count": 12,
   "id": "34b8b5b9-7522-4cc0-bc59-4c1f403fbc8a",
   "metadata": {},
   "outputs": [],
   "source": [
    "pos_index <- 1\n",
    "\n",
    "for(i in seq_along(weights@models)){\n",
    "    methylation_positions[[i]] <- weights@models[[i]]@methylationPosition\n",
    "    snp_weights_list_of_lists[[i]] <- weights@models[[i]]@snpWeights\n",
    "\n",
    "    if(weights@models[[i]]@methylationPosition %in% smallerdata$pos){\n",
    "        desired_methylation_positions[[pos_index]] <- weights@models[[i]]@methylationPosition\n",
    "        if(is.null(weights@models[[i]]@snpWeights)) stop(\"problem\")\n",
    "        desired_snp_weights_list_of_lists[[pos_index]] <- weights@models[[i]]@snpWeights\n",
    "        desired_snp_pvals[[pos_index]] <- smallerdata$p[which(smallerdata$pos == weights@models[[i]]@methylationPosition)]\n",
    "        pos_index <- pos_index + 1\n",
    "    }\n",
    "}\n",
    "\n",
    "#methylation_positions <- unlist(methylation_positions)\n",
    "#desired_methylation_positions <- unlist(desired_methylation_positions)\n",
    "#desired_snp_pvals <- unlist(desired_snp_pvals)"
   ]
  },
  {
   "cell_type": "code",
   "execution_count": 16,
   "id": "3dfbb3e3-11e8-406e-b6c8-198ec2f7fc29",
   "metadata": {},
   "outputs": [],
   "source": [
    "smallerdata_sub <- smallerdata[which(smallerdata$pos >= 73274305-20000 & smallerdata$pos <= 73419830 + 20000)]"
   ]
  },
  {
   "cell_type": "code",
   "execution_count": 17,
   "id": "4fcc32b8-c376-4afb-97ba-5eed8cd08309",
   "metadata": {},
   "outputs": [
    {
     "data": {
      "text/html": [
       "<table class=\"dataframe\">\n",
       "<caption>A data.table: 8 × 10</caption>\n",
       "<thead>\n",
       "\t<tr><th scope=col>pos</th><th scope=col>z</th><th scope=col>p</th><th scope=col>n</th><th scope=col>chr</th><th scope=col>population</th><th scope=col>region</th><th scope=col>stats</th><th scope=col>scaff</th><th scope=col>timestamp</th></tr>\n",
       "\t<tr><th scope=col>&lt;int&gt;</th><th scope=col>&lt;dbl&gt;</th><th scope=col>&lt;dbl&gt;</th><th scope=col>&lt;int&gt;</th><th scope=col>&lt;int&gt;</th><th scope=col>&lt;chr&gt;</th><th scope=col>&lt;chr&gt;</th><th scope=col>&lt;chr&gt;</th><th scope=col>&lt;chr&gt;</th><th scope=col>&lt;chr&gt;</th></tr>\n",
       "</thead>\n",
       "<tbody>\n",
       "\t<tr><td>73274305</td><td> 51.28433</td><td> 0.000000e+00</td><td> 6</td><td>1</td><td>all</td><td>caud</td><td>/expanse/lustre/projects/jhu152/naglemi/mwas/gwas/gwas_stat_scz</td><td>libd_chr1-chr1_all-libd_chr1-chr1_all-908982-928981-dynamic-1corestotal-allcorepera-caud-20240510-145818</td><td>20240510-145818</td></tr>\n",
       "\t<tr><td>73274312</td><td> 51.03427</td><td> 0.000000e+00</td><td> 6</td><td>1</td><td>all</td><td>caud</td><td>/expanse/lustre/projects/jhu152/naglemi/mwas/gwas/gwas_stat_scz</td><td>libd_chr1-chr1_all-libd_chr1-chr1_all-908982-928981-dynamic-1corestotal-allcorepera-caud-20240510-145818</td><td>20240510-145818</td></tr>\n",
       "\t<tr><td>73292330</td><td> 39.13517</td><td> 0.000000e+00</td><td> 9</td><td>1</td><td>all</td><td>caud</td><td>/expanse/lustre/projects/jhu152/naglemi/mwas/gwas/gwas_stat_scz</td><td>libd_chr1-chr1_all-libd_chr1-chr1_all-908982-928981-dynamic-1corestotal-allcorepera-caud-20240510-145818</td><td>20240510-145818</td></tr>\n",
       "\t<tr><td>73307769</td><td>-31.18148</td><td>1.899807e-213</td><td> 4</td><td>1</td><td>all</td><td>caud</td><td>/expanse/lustre/projects/jhu152/naglemi/mwas/gwas/gwas_stat_scz</td><td>libd_chr1-chr1_all-libd_chr1-chr1_all-908982-928981-dynamic-1corestotal-allcorepera-caud-20240510-145818</td><td>20240510-145818</td></tr>\n",
       "\t<tr><td>73308571</td><td>-55.73635</td><td> 0.000000e+00</td><td>22</td><td>1</td><td>all</td><td>caud</td><td>/expanse/lustre/projects/jhu152/naglemi/mwas/gwas/gwas_stat_scz</td><td>libd_chr1-chr1_all-libd_chr1-chr1_all-908982-928981-dynamic-1corestotal-allcorepera-caud-20240510-145818</td><td>20240510-145818</td></tr>\n",
       "\t<tr><td>73419188</td><td>-36.40970</td><td>2.990203e-290</td><td>23</td><td>1</td><td>all</td><td>caud</td><td>/expanse/lustre/projects/jhu152/naglemi/mwas/gwas/gwas_stat_scz</td><td>libd_chr1-chr1_all-libd_chr1-chr1_all-908982-928981-dynamic-1corestotal-allcorepera-caud-20240510-145818</td><td>20240510-145818</td></tr>\n",
       "\t<tr><td>73419830</td><td>-34.07063</td><td>2.009205e-254</td><td>20</td><td>1</td><td>all</td><td>caud</td><td>/expanse/lustre/projects/jhu152/naglemi/mwas/gwas/gwas_stat_scz</td><td>libd_chr1-chr1_all-libd_chr1-chr1_all-908982-928981-dynamic-1corestotal-allcorepera-caud-20240510-145818</td><td>20240510-145818</td></tr>\n",
       "\t<tr><td>73420076</td><td>-31.35857</td><td>7.433658e-216</td><td>20</td><td>1</td><td>all</td><td>caud</td><td>/expanse/lustre/projects/jhu152/naglemi/mwas/gwas/gwas_stat_scz</td><td>libd_chr1-chr1_all-libd_chr1-chr1_all-908982-928981-dynamic-1corestotal-allcorepera-caud-20240510-145818</td><td>20240510-145818</td></tr>\n",
       "</tbody>\n",
       "</table>\n"
      ],
      "text/latex": [
       "A data.table: 8 × 10\n",
       "\\begin{tabular}{llllllllll}\n",
       " pos & z & p & n & chr & population & region & stats & scaff & timestamp\\\\\n",
       " <int> & <dbl> & <dbl> & <int> & <int> & <chr> & <chr> & <chr> & <chr> & <chr>\\\\\n",
       "\\hline\n",
       "\t 73274305 &  51.28433 &  0.000000e+00 &  6 & 1 & all & caud & /expanse/lustre/projects/jhu152/naglemi/mwas/gwas/gwas\\_stat\\_scz & libd\\_chr1-chr1\\_all-libd\\_chr1-chr1\\_all-908982-928981-dynamic-1corestotal-allcorepera-caud-20240510-145818 & 20240510-145818\\\\\n",
       "\t 73274312 &  51.03427 &  0.000000e+00 &  6 & 1 & all & caud & /expanse/lustre/projects/jhu152/naglemi/mwas/gwas/gwas\\_stat\\_scz & libd\\_chr1-chr1\\_all-libd\\_chr1-chr1\\_all-908982-928981-dynamic-1corestotal-allcorepera-caud-20240510-145818 & 20240510-145818\\\\\n",
       "\t 73292330 &  39.13517 &  0.000000e+00 &  9 & 1 & all & caud & /expanse/lustre/projects/jhu152/naglemi/mwas/gwas/gwas\\_stat\\_scz & libd\\_chr1-chr1\\_all-libd\\_chr1-chr1\\_all-908982-928981-dynamic-1corestotal-allcorepera-caud-20240510-145818 & 20240510-145818\\\\\n",
       "\t 73307769 & -31.18148 & 1.899807e-213 &  4 & 1 & all & caud & /expanse/lustre/projects/jhu152/naglemi/mwas/gwas/gwas\\_stat\\_scz & libd\\_chr1-chr1\\_all-libd\\_chr1-chr1\\_all-908982-928981-dynamic-1corestotal-allcorepera-caud-20240510-145818 & 20240510-145818\\\\\n",
       "\t 73308571 & -55.73635 &  0.000000e+00 & 22 & 1 & all & caud & /expanse/lustre/projects/jhu152/naglemi/mwas/gwas/gwas\\_stat\\_scz & libd\\_chr1-chr1\\_all-libd\\_chr1-chr1\\_all-908982-928981-dynamic-1corestotal-allcorepera-caud-20240510-145818 & 20240510-145818\\\\\n",
       "\t 73419188 & -36.40970 & 2.990203e-290 & 23 & 1 & all & caud & /expanse/lustre/projects/jhu152/naglemi/mwas/gwas/gwas\\_stat\\_scz & libd\\_chr1-chr1\\_all-libd\\_chr1-chr1\\_all-908982-928981-dynamic-1corestotal-allcorepera-caud-20240510-145818 & 20240510-145818\\\\\n",
       "\t 73419830 & -34.07063 & 2.009205e-254 & 20 & 1 & all & caud & /expanse/lustre/projects/jhu152/naglemi/mwas/gwas/gwas\\_stat\\_scz & libd\\_chr1-chr1\\_all-libd\\_chr1-chr1\\_all-908982-928981-dynamic-1corestotal-allcorepera-caud-20240510-145818 & 20240510-145818\\\\\n",
       "\t 73420076 & -31.35857 & 7.433658e-216 & 20 & 1 & all & caud & /expanse/lustre/projects/jhu152/naglemi/mwas/gwas/gwas\\_stat\\_scz & libd\\_chr1-chr1\\_all-libd\\_chr1-chr1\\_all-908982-928981-dynamic-1corestotal-allcorepera-caud-20240510-145818 & 20240510-145818\\\\\n",
       "\\end{tabular}\n"
      ],
      "text/markdown": [
       "\n",
       "A data.table: 8 × 10\n",
       "\n",
       "| pos &lt;int&gt; | z &lt;dbl&gt; | p &lt;dbl&gt; | n &lt;int&gt; | chr &lt;int&gt; | population &lt;chr&gt; | region &lt;chr&gt; | stats &lt;chr&gt; | scaff &lt;chr&gt; | timestamp &lt;chr&gt; |\n",
       "|---|---|---|---|---|---|---|---|---|---|\n",
       "| 73274305 |  51.28433 |  0.000000e+00 |  6 | 1 | all | caud | /expanse/lustre/projects/jhu152/naglemi/mwas/gwas/gwas_stat_scz | libd_chr1-chr1_all-libd_chr1-chr1_all-908982-928981-dynamic-1corestotal-allcorepera-caud-20240510-145818 | 20240510-145818 |\n",
       "| 73274312 |  51.03427 |  0.000000e+00 |  6 | 1 | all | caud | /expanse/lustre/projects/jhu152/naglemi/mwas/gwas/gwas_stat_scz | libd_chr1-chr1_all-libd_chr1-chr1_all-908982-928981-dynamic-1corestotal-allcorepera-caud-20240510-145818 | 20240510-145818 |\n",
       "| 73292330 |  39.13517 |  0.000000e+00 |  9 | 1 | all | caud | /expanse/lustre/projects/jhu152/naglemi/mwas/gwas/gwas_stat_scz | libd_chr1-chr1_all-libd_chr1-chr1_all-908982-928981-dynamic-1corestotal-allcorepera-caud-20240510-145818 | 20240510-145818 |\n",
       "| 73307769 | -31.18148 | 1.899807e-213 |  4 | 1 | all | caud | /expanse/lustre/projects/jhu152/naglemi/mwas/gwas/gwas_stat_scz | libd_chr1-chr1_all-libd_chr1-chr1_all-908982-928981-dynamic-1corestotal-allcorepera-caud-20240510-145818 | 20240510-145818 |\n",
       "| 73308571 | -55.73635 |  0.000000e+00 | 22 | 1 | all | caud | /expanse/lustre/projects/jhu152/naglemi/mwas/gwas/gwas_stat_scz | libd_chr1-chr1_all-libd_chr1-chr1_all-908982-928981-dynamic-1corestotal-allcorepera-caud-20240510-145818 | 20240510-145818 |\n",
       "| 73419188 | -36.40970 | 2.990203e-290 | 23 | 1 | all | caud | /expanse/lustre/projects/jhu152/naglemi/mwas/gwas/gwas_stat_scz | libd_chr1-chr1_all-libd_chr1-chr1_all-908982-928981-dynamic-1corestotal-allcorepera-caud-20240510-145818 | 20240510-145818 |\n",
       "| 73419830 | -34.07063 | 2.009205e-254 | 20 | 1 | all | caud | /expanse/lustre/projects/jhu152/naglemi/mwas/gwas/gwas_stat_scz | libd_chr1-chr1_all-libd_chr1-chr1_all-908982-928981-dynamic-1corestotal-allcorepera-caud-20240510-145818 | 20240510-145818 |\n",
       "| 73420076 | -31.35857 | 7.433658e-216 | 20 | 1 | all | caud | /expanse/lustre/projects/jhu152/naglemi/mwas/gwas/gwas_stat_scz | libd_chr1-chr1_all-libd_chr1-chr1_all-908982-928981-dynamic-1corestotal-allcorepera-caud-20240510-145818 | 20240510-145818 |\n",
       "\n"
      ],
      "text/plain": [
       "  pos      z         p             n  chr population region\n",
       "1 73274305  51.28433  0.000000e+00  6 1   all        caud  \n",
       "2 73274312  51.03427  0.000000e+00  6 1   all        caud  \n",
       "3 73292330  39.13517  0.000000e+00  9 1   all        caud  \n",
       "4 73307769 -31.18148 1.899807e-213  4 1   all        caud  \n",
       "5 73308571 -55.73635  0.000000e+00 22 1   all        caud  \n",
       "6 73419188 -36.40970 2.990203e-290 23 1   all        caud  \n",
       "7 73419830 -34.07063 2.009205e-254 20 1   all        caud  \n",
       "8 73420076 -31.35857 7.433658e-216 20 1   all        caud  \n",
       "  stats                                                          \n",
       "1 /expanse/lustre/projects/jhu152/naglemi/mwas/gwas/gwas_stat_scz\n",
       "2 /expanse/lustre/projects/jhu152/naglemi/mwas/gwas/gwas_stat_scz\n",
       "3 /expanse/lustre/projects/jhu152/naglemi/mwas/gwas/gwas_stat_scz\n",
       "4 /expanse/lustre/projects/jhu152/naglemi/mwas/gwas/gwas_stat_scz\n",
       "5 /expanse/lustre/projects/jhu152/naglemi/mwas/gwas/gwas_stat_scz\n",
       "6 /expanse/lustre/projects/jhu152/naglemi/mwas/gwas/gwas_stat_scz\n",
       "7 /expanse/lustre/projects/jhu152/naglemi/mwas/gwas/gwas_stat_scz\n",
       "8 /expanse/lustre/projects/jhu152/naglemi/mwas/gwas/gwas_stat_scz\n",
       "  scaff                                                                                                   \n",
       "1 libd_chr1-chr1_all-libd_chr1-chr1_all-908982-928981-dynamic-1corestotal-allcorepera-caud-20240510-145818\n",
       "2 libd_chr1-chr1_all-libd_chr1-chr1_all-908982-928981-dynamic-1corestotal-allcorepera-caud-20240510-145818\n",
       "3 libd_chr1-chr1_all-libd_chr1-chr1_all-908982-928981-dynamic-1corestotal-allcorepera-caud-20240510-145818\n",
       "4 libd_chr1-chr1_all-libd_chr1-chr1_all-908982-928981-dynamic-1corestotal-allcorepera-caud-20240510-145818\n",
       "5 libd_chr1-chr1_all-libd_chr1-chr1_all-908982-928981-dynamic-1corestotal-allcorepera-caud-20240510-145818\n",
       "6 libd_chr1-chr1_all-libd_chr1-chr1_all-908982-928981-dynamic-1corestotal-allcorepera-caud-20240510-145818\n",
       "7 libd_chr1-chr1_all-libd_chr1-chr1_all-908982-928981-dynamic-1corestotal-allcorepera-caud-20240510-145818\n",
       "8 libd_chr1-chr1_all-libd_chr1-chr1_all-908982-928981-dynamic-1corestotal-allcorepera-caud-20240510-145818\n",
       "  timestamp      \n",
       "1 20240510-145818\n",
       "2 20240510-145818\n",
       "3 20240510-145818\n",
       "4 20240510-145818\n",
       "5 20240510-145818\n",
       "6 20240510-145818\n",
       "7 20240510-145818\n",
       "8 20240510-145818"
      ]
     },
     "metadata": {},
     "output_type": "display_data"
    }
   ],
   "source": [
    "smallerdata_sub"
   ]
  },
  {
   "cell_type": "code",
   "execution_count": 19,
   "id": "68c023c9-8b1f-4d86-8240-ad764771b445",
   "metadata": {},
   "outputs": [
    {
     "data": {
      "text/html": [
       "<style>\n",
       ".list-inline {list-style: none; margin:0; padding: 0}\n",
       ".list-inline>li {display: inline-block}\n",
       ".list-inline>li:not(:last-child)::after {content: \"\\00b7\"; padding: 0 .5ex}\n",
       "</style>\n",
       "<ol class=list-inline><li>73274305</li><li>73274312</li><li>73292330</li><li>73307769</li><li>73308571</li><li>73419188</li><li>73419830</li><li>73420076</li></ol>\n"
      ],
      "text/latex": [
       "\\begin{enumerate*}\n",
       "\\item 73274305\n",
       "\\item 73274312\n",
       "\\item 73292330\n",
       "\\item 73307769\n",
       "\\item 73308571\n",
       "\\item 73419188\n",
       "\\item 73419830\n",
       "\\item 73420076\n",
       "\\end{enumerate*}\n"
      ],
      "text/markdown": [
       "1. 73274305\n",
       "2. 73274312\n",
       "3. 73292330\n",
       "4. 73307769\n",
       "5. 73308571\n",
       "6. 73419188\n",
       "7. 73419830\n",
       "8. 73420076\n",
       "\n",
       "\n"
      ],
      "text/plain": [
       "[1] 73274305 73274312 73292330 73307769 73308571 73419188 73419830 73420076"
      ]
     },
     "metadata": {},
     "output_type": "display_data"
    }
   ],
   "source": [
    "smallerdata_sub$pos"
   ]
  },
  {
   "cell_type": "code",
   "execution_count": 15,
   "id": "bd121604-4e97-49ee-af35-7152120bd62e",
   "metadata": {},
   "outputs": [
    {
     "data": {
      "text/html": [
       "<table class=\"dataframe\">\n",
       "<caption>A data.table: 383 × 10</caption>\n",
       "<thead>\n",
       "\t<tr><th scope=col>pos</th><th scope=col>z</th><th scope=col>p</th><th scope=col>n</th><th scope=col>chr</th><th scope=col>population</th><th scope=col>region</th><th scope=col>stats</th><th scope=col>scaff</th><th scope=col>timestamp</th></tr>\n",
       "\t<tr><th scope=col>&lt;int&gt;</th><th scope=col>&lt;dbl&gt;</th><th scope=col>&lt;dbl&gt;</th><th scope=col>&lt;int&gt;</th><th scope=col>&lt;int&gt;</th><th scope=col>&lt;chr&gt;</th><th scope=col>&lt;chr&gt;</th><th scope=col>&lt;chr&gt;</th><th scope=col>&lt;chr&gt;</th><th scope=col>&lt;chr&gt;</th></tr>\n",
       "</thead>\n",
       "<tbody>\n",
       "\t<tr><td> 651107</td><td>-31.10433</td><td>2.104787e-212</td><td>46</td><td> 2</td><td>all</td><td>caud</td><td>/expanse/lustre/projects/jhu152/naglemi/mwas/gwas/gwas_stat_scz</td><td>libd_chr2-chr2_all-libd_chr2-chr2_all-1-20000-dynamic-1corestotal-allcorepera-caud-20240511-065518   </td><td>20240511-065518</td></tr>\n",
       "\t<tr><td>1988129</td><td>-33.45159</td><td>2.440211e-245</td><td> 2</td><td> 7</td><td>all</td><td>caud</td><td>/expanse/lustre/projects/jhu152/naglemi/mwas/gwas/gwas_stat_scz</td><td>libd_chr7-chr7_all-libd_chr7-chr7_all-40001-60000-dynamic-1corestotal-allcorepera-20240422-130351    </td><td>20240422-130351</td></tr>\n",
       "\t<tr><td>1988133</td><td>-33.32656</td><td>1.592389e-243</td><td> 2</td><td> 7</td><td>all</td><td>caud</td><td>/expanse/lustre/projects/jhu152/naglemi/mwas/gwas/gwas_stat_scz</td><td>libd_chr7-chr7_all-libd_chr7-chr7_all-40001-60000-dynamic-1corestotal-allcorepera-20240422-130351    </td><td>20240422-130351</td></tr>\n",
       "\t<tr><td>1988141</td><td>-31.93231</td><td>9.512265e-224</td><td> 2</td><td> 7</td><td>all</td><td>caud</td><td>/expanse/lustre/projects/jhu152/naglemi/mwas/gwas/gwas_stat_scz</td><td>libd_chr7-chr7_all-libd_chr7-chr7_all-40001-60000-dynamic-1corestotal-allcorepera-20240422-130351    </td><td>20240422-130351</td></tr>\n",
       "\t<tr><td>2006943</td><td>-30.46161</td><td>8.407191e-204</td><td> 4</td><td> 7</td><td>all</td><td>caud</td><td>/expanse/lustre/projects/jhu152/naglemi/mwas/gwas/gwas_stat_scz</td><td>libd_chr7-chr7_all-libd_chr7-chr7_all-40001-60000-dynamic-1corestotal-allcorepera-20240422-130351    </td><td>20240422-130351</td></tr>\n",
       "\t<tr><td>2007013</td><td>-35.11031</td><td>4.692392e-270</td><td> 3</td><td> 7</td><td>all</td><td>caud</td><td>/expanse/lustre/projects/jhu152/naglemi/mwas/gwas/gwas_stat_scz</td><td>libd_chr7-chr7_all-libd_chr7-chr7_all-40001-60000-dynamic-1corestotal-allcorepera-20240422-130351    </td><td>20240422-130351</td></tr>\n",
       "\t<tr><td>2007144</td><td>-35.97829</td><td>1.828241e-283</td><td> 5</td><td> 7</td><td>all</td><td>caud</td><td>/expanse/lustre/projects/jhu152/naglemi/mwas/gwas/gwas_stat_scz</td><td>libd_chr7-chr7_all-libd_chr7-chr7_all-40001-60000-dynamic-1corestotal-allcorepera-20240422-130351    </td><td>20240422-130351</td></tr>\n",
       "\t<tr><td>2007161</td><td>-33.88309</td><td>1.182130e-251</td><td> 4</td><td> 7</td><td>all</td><td>caud</td><td>/expanse/lustre/projects/jhu152/naglemi/mwas/gwas/gwas_stat_scz</td><td>libd_chr7-chr7_all-libd_chr7-chr7_all-40001-60000-dynamic-1corestotal-allcorepera-20240422-130351    </td><td>20240422-130351</td></tr>\n",
       "\t<tr><td>2007164</td><td>-33.87557</td><td>1.525460e-251</td><td> 4</td><td> 7</td><td>all</td><td>caud</td><td>/expanse/lustre/projects/jhu152/naglemi/mwas/gwas/gwas_stat_scz</td><td>libd_chr7-chr7_all-libd_chr7-chr7_all-40001-60000-dynamic-1corestotal-allcorepera-20240422-130351    </td><td>20240422-130351</td></tr>\n",
       "\t<tr><td>2007179</td><td>-36.59150</td><td>3.904758e-293</td><td> 5</td><td> 7</td><td>all</td><td>caud</td><td>/expanse/lustre/projects/jhu152/naglemi/mwas/gwas/gwas_stat_scz</td><td>libd_chr7-chr7_all-libd_chr7-chr7_all-40001-60000-dynamic-1corestotal-allcorepera-20240422-130351    </td><td>20240422-130351</td></tr>\n",
       "\t<tr><td>2007186</td><td>-35.34475</td><td>1.207349e-273</td><td> 4</td><td> 7</td><td>all</td><td>caud</td><td>/expanse/lustre/projects/jhu152/naglemi/mwas/gwas/gwas_stat_scz</td><td>libd_chr7-chr7_all-libd_chr7-chr7_all-40001-60000-dynamic-1corestotal-allcorepera-20240422-130351    </td><td>20240422-130351</td></tr>\n",
       "\t<tr><td>2007249</td><td>-34.42041</td><td>1.248469e-259</td><td> 6</td><td> 7</td><td>all</td><td>caud</td><td>/expanse/lustre/projects/jhu152/naglemi/mwas/gwas/gwas_stat_scz</td><td>libd_chr7-chr7_all-libd_chr7-chr7_all-40001-60000-dynamic-1corestotal-allcorepera-20240422-130351    </td><td>20240422-130351</td></tr>\n",
       "\t<tr><td>2007271</td><td>-33.77839</td><td>4.096279e-250</td><td> 6</td><td> 7</td><td>all</td><td>caud</td><td>/expanse/lustre/projects/jhu152/naglemi/mwas/gwas/gwas_stat_scz</td><td>libd_chr7-chr7_all-libd_chr7-chr7_all-40001-60000-dynamic-1corestotal-allcorepera-20240422-130351    </td><td>20240422-130351</td></tr>\n",
       "\t<tr><td>2007285</td><td>-37.80520</td><td> 0.000000e+00</td><td> 8</td><td> 7</td><td>all</td><td>caud</td><td>/expanse/lustre/projects/jhu152/naglemi/mwas/gwas/gwas_stat_scz</td><td>libd_chr7-chr7_all-libd_chr7-chr7_all-40001-60000-dynamic-1corestotal-allcorepera-20240422-130351    </td><td>20240422-130351</td></tr>\n",
       "\t<tr><td>2007290</td><td>-39.41279</td><td> 0.000000e+00</td><td> 8</td><td> 7</td><td>all</td><td>caud</td><td>/expanse/lustre/projects/jhu152/naglemi/mwas/gwas/gwas_stat_scz</td><td>libd_chr7-chr7_all-libd_chr7-chr7_all-40001-60000-dynamic-1corestotal-allcorepera-20240422-130351    </td><td>20240422-130351</td></tr>\n",
       "\t<tr><td>2007330</td><td>-37.04599</td><td>2.083558e-300</td><td> 7</td><td> 7</td><td>all</td><td>caud</td><td>/expanse/lustre/projects/jhu152/naglemi/mwas/gwas/gwas_stat_scz</td><td>libd_chr7-chr7_all-libd_chr7-chr7_all-40001-60000-dynamic-1corestotal-allcorepera-20240422-130351    </td><td>20240422-130351</td></tr>\n",
       "\t<tr><td>2007343</td><td>-30.56116</td><td>4.018894e-205</td><td> 7</td><td> 7</td><td>all</td><td>caud</td><td>/expanse/lustre/projects/jhu152/naglemi/mwas/gwas/gwas_stat_scz</td><td>libd_chr7-chr7_all-libd_chr7-chr7_all-40001-60000-dynamic-1corestotal-allcorepera-20240422-130351    </td><td>20240422-130351</td></tr>\n",
       "\t<tr><td>2007345</td><td>-33.74568</td><td>1.236913e-249</td><td> 7</td><td> 7</td><td>all</td><td>caud</td><td>/expanse/lustre/projects/jhu152/naglemi/mwas/gwas/gwas_stat_scz</td><td>libd_chr7-chr7_all-libd_chr7-chr7_all-40001-60000-dynamic-1corestotal-allcorepera-20240422-130351    </td><td>20240422-130351</td></tr>\n",
       "\t<tr><td>2007355</td><td>-37.25896</td><td>7.586455e-304</td><td> 7</td><td> 7</td><td>all</td><td>caud</td><td>/expanse/lustre/projects/jhu152/naglemi/mwas/gwas/gwas_stat_scz</td><td>libd_chr7-chr7_all-libd_chr7-chr7_all-40001-60000-dynamic-1corestotal-allcorepera-20240422-130351    </td><td>20240422-130351</td></tr>\n",
       "\t<tr><td>2253482</td><td> 30.27819</td><td>2.220711e-201</td><td>13</td><td>17</td><td>all</td><td>caud</td><td>/expanse/lustre/projects/jhu152/naglemi/mwas/gwas/gwas_stat_scz</td><td>libd_chr17-chr17_all-libd_chr17-chr17_all-41513-61512-dynamic-1corestotal-allcorepera-20240523-095546</td><td>20240523-095546</td></tr>\n",
       "\t<tr><td>2253537</td><td> 31.38834</td><td>2.918631e-216</td><td>13</td><td>17</td><td>all</td><td>caud</td><td>/expanse/lustre/projects/jhu152/naglemi/mwas/gwas/gwas_stat_scz</td><td>libd_chr17-chr17_all-libd_chr17-chr17_all-41513-61512-dynamic-1corestotal-allcorepera-20240523-095546</td><td>20240523-095546</td></tr>\n",
       "\t<tr><td>2266535</td><td> 32.34243</td><td>1.772451e-229</td><td>12</td><td>17</td><td>all</td><td>caud</td><td>/expanse/lustre/projects/jhu152/naglemi/mwas/gwas/gwas_stat_scz</td><td>libd_chr17-chr17_all-libd_chr17-chr17_all-41513-61512-dynamic-1corestotal-allcorepera-20240523-095546</td><td>20240523-095546</td></tr>\n",
       "\t<tr><td>2283701</td><td> 57.49509</td><td> 0.000000e+00</td><td>29</td><td>17</td><td>all</td><td>caud</td><td>/expanse/lustre/projects/jhu152/naglemi/mwas/gwas/gwas_stat_scz</td><td>libd_chr17-chr17_all-libd_chr17-chr17_all-41513-61512-dynamic-1corestotal-allcorepera-20240523-095546</td><td>20240523-095546</td></tr>\n",
       "\t<tr><td>2286326</td><td> 34.80663</td><td>1.930792e-265</td><td>31</td><td>17</td><td>all</td><td>caud</td><td>/expanse/lustre/projects/jhu152/naglemi/mwas/gwas/gwas_stat_scz</td><td>libd_chr17-chr17_all-libd_chr17-chr17_all-41513-61512-dynamic-1corestotal-allcorepera-20240523-095546</td><td>20240523-095546</td></tr>\n",
       "\t<tr><td>2286661</td><td> 46.63316</td><td> 0.000000e+00</td><td>33</td><td>17</td><td>all</td><td>caud</td><td>/expanse/lustre/projects/jhu152/naglemi/mwas/gwas/gwas_stat_scz</td><td>libd_chr17-chr17_all-libd_chr17-chr17_all-41513-61512-dynamic-1corestotal-allcorepera-20240523-095546</td><td>20240523-095546</td></tr>\n",
       "\t<tr><td>2286717</td><td> 32.67174</td><td>3.936447e-234</td><td>36</td><td>17</td><td>all</td><td>caud</td><td>/expanse/lustre/projects/jhu152/naglemi/mwas/gwas/gwas_stat_scz</td><td>libd_chr17-chr17_all-libd_chr17-chr17_all-41513-61512-dynamic-1corestotal-allcorepera-20240523-095546</td><td>20240523-095546</td></tr>\n",
       "\t<tr><td>2286786</td><td> 34.70698</td><td>6.183059e-264</td><td>31</td><td>17</td><td>all</td><td>caud</td><td>/expanse/lustre/projects/jhu152/naglemi/mwas/gwas/gwas_stat_scz</td><td>libd_chr17-chr17_all-libd_chr17-chr17_all-41513-61512-dynamic-1corestotal-allcorepera-20240523-095546</td><td>20240523-095546</td></tr>\n",
       "\t<tr><td>2286962</td><td> 53.93361</td><td> 0.000000e+00</td><td>35</td><td>17</td><td>all</td><td>caud</td><td>/expanse/lustre/projects/jhu152/naglemi/mwas/gwas/gwas_stat_scz</td><td>libd_chr17-chr17_all-libd_chr17-chr17_all-41513-61512-dynamic-1corestotal-allcorepera-20240523-095546</td><td>20240523-095546</td></tr>\n",
       "\t<tr><td>2286992</td><td> 39.40832</td><td> 0.000000e+00</td><td>33</td><td>17</td><td>all</td><td>caud</td><td>/expanse/lustre/projects/jhu152/naglemi/mwas/gwas/gwas_stat_scz</td><td>libd_chr17-chr17_all-libd_chr17-chr17_all-41513-61512-dynamic-1corestotal-allcorepera-20240523-095546</td><td>20240523-095546</td></tr>\n",
       "\t<tr><td>2287032</td><td> 45.17940</td><td> 0.000000e+00</td><td>35</td><td>17</td><td>all</td><td>caud</td><td>/expanse/lustre/projects/jhu152/naglemi/mwas/gwas/gwas_stat_scz</td><td>libd_chr17-chr17_all-libd_chr17-chr17_all-41513-61512-dynamic-1corestotal-allcorepera-20240523-095546</td><td>20240523-095546</td></tr>\n",
       "\t<tr><td>⋮</td><td>⋮</td><td>⋮</td><td>⋮</td><td>⋮</td><td>⋮</td><td>⋮</td><td>⋮</td><td>⋮</td><td>⋮</td></tr>\n",
       "\t<tr><td>197909745</td><td> 45.96072</td><td> 0.000000e+00</td><td>13</td><td>2</td><td>all</td><td>caud</td><td>/expanse/lustre/projects/jhu152/naglemi/mwas/gwas/gwas_stat_scz</td><td>libd_chr2-chr2_all-libd_chr2-chr2_all-1560001-1580000-dynamic-1corestotal-allcorepera-caud-20240511-081500</td><td>20240511-081500</td></tr>\n",
       "\t<tr><td>197910015</td><td> 43.42866</td><td> 0.000000e+00</td><td>11</td><td>2</td><td>all</td><td>caud</td><td>/expanse/lustre/projects/jhu152/naglemi/mwas/gwas/gwas_stat_scz</td><td>libd_chr2-chr2_all-libd_chr2-chr2_all-1560001-1580000-dynamic-1corestotal-allcorepera-caud-20240511-081500</td><td>20240511-081500</td></tr>\n",
       "\t<tr><td>197910251</td><td> 39.81084</td><td> 0.000000e+00</td><td>11</td><td>2</td><td>all</td><td>caud</td><td>/expanse/lustre/projects/jhu152/naglemi/mwas/gwas/gwas_stat_scz</td><td>libd_chr2-chr2_all-libd_chr2-chr2_all-1560001-1580000-dynamic-1corestotal-allcorepera-caud-20240511-081500</td><td>20240511-081500</td></tr>\n",
       "\t<tr><td>197910449</td><td> 33.80637</td><td>1.589949e-250</td><td>11</td><td>2</td><td>all</td><td>caud</td><td>/expanse/lustre/projects/jhu152/naglemi/mwas/gwas/gwas_stat_scz</td><td>libd_chr2-chr2_all-libd_chr2-chr2_all-1560001-1580000-dynamic-1corestotal-allcorepera-caud-20240511-081500</td><td>20240511-081500</td></tr>\n",
       "\t<tr><td>197910670</td><td> 44.51073</td><td> 0.000000e+00</td><td>11</td><td>2</td><td>all</td><td>caud</td><td>/expanse/lustre/projects/jhu152/naglemi/mwas/gwas/gwas_stat_scz</td><td>libd_chr2-chr2_all-libd_chr2-chr2_all-1560001-1580000-dynamic-1corestotal-allcorepera-caud-20240511-081500</td><td>20240511-081500</td></tr>\n",
       "\t<tr><td>197910818</td><td> 39.85960</td><td> 0.000000e+00</td><td>11</td><td>2</td><td>all</td><td>caud</td><td>/expanse/lustre/projects/jhu152/naglemi/mwas/gwas/gwas_stat_scz</td><td>libd_chr2-chr2_all-libd_chr2-chr2_all-1560001-1580000-dynamic-1corestotal-allcorepera-caud-20240511-081500</td><td>20240511-081500</td></tr>\n",
       "\t<tr><td>197911113</td><td> 41.06180</td><td> 0.000000e+00</td><td>11</td><td>2</td><td>all</td><td>caud</td><td>/expanse/lustre/projects/jhu152/naglemi/mwas/gwas/gwas_stat_scz</td><td>libd_chr2-chr2_all-libd_chr2-chr2_all-1560001-1580000-dynamic-1corestotal-allcorepera-caud-20240511-081500</td><td>20240511-081500</td></tr>\n",
       "\t<tr><td>197911176</td><td> 40.88055</td><td> 0.000000e+00</td><td>11</td><td>2</td><td>all</td><td>caud</td><td>/expanse/lustre/projects/jhu152/naglemi/mwas/gwas/gwas_stat_scz</td><td>libd_chr2-chr2_all-libd_chr2-chr2_all-1560001-1580000-dynamic-1corestotal-allcorepera-caud-20240511-081500</td><td>20240511-081500</td></tr>\n",
       "\t<tr><td>199149462</td><td> 58.19601</td><td> 0.000000e+00</td><td> 7</td><td>2</td><td>all</td><td>caud</td><td>/expanse/lustre/projects/jhu152/naglemi/mwas/gwas/gwas_stat_scz</td><td>libd_chr2-chr2_all-libd_chr2-chr2_all-1580001-1600000-dynamic-1corestotal-allcorepera-caud-20240511-081603</td><td>20240511-081603</td></tr>\n",
       "\t<tr><td>199150087</td><td> 55.54006</td><td> 0.000000e+00</td><td>17</td><td>2</td><td>all</td><td>caud</td><td>/expanse/lustre/projects/jhu152/naglemi/mwas/gwas/gwas_stat_scz</td><td>libd_chr2-chr2_all-libd_chr2-chr2_all-1580001-1600000-dynamic-1corestotal-allcorepera-caud-20240511-081603</td><td>20240511-081603</td></tr>\n",
       "\t<tr><td>199174428</td><td> 32.62892</td><td>1.595729e-233</td><td>29</td><td>2</td><td>all</td><td>caud</td><td>/expanse/lustre/projects/jhu152/naglemi/mwas/gwas/gwas_stat_scz</td><td>libd_chr2-chr2_all-libd_chr2-chr2_all-1580001-1600000-dynamic-1corestotal-allcorepera-caud-20240511-081603</td><td>20240511-081603</td></tr>\n",
       "\t<tr><td>199181824</td><td>-34.50488</td><td>6.777038e-261</td><td> 3</td><td>2</td><td>all</td><td>caud</td><td>/expanse/lustre/projects/jhu152/naglemi/mwas/gwas/gwas_stat_scz</td><td>libd_chr2-chr2_all-libd_chr2-chr2_all-1580001-1600000-dynamic-1corestotal-allcorepera-caud-20240511-081603</td><td>20240511-081603</td></tr>\n",
       "\t<tr><td>199181946</td><td>-31.56351</td><td>1.170030e-218</td><td> 3</td><td>2</td><td>all</td><td>caud</td><td>/expanse/lustre/projects/jhu152/naglemi/mwas/gwas/gwas_stat_scz</td><td>libd_chr2-chr2_all-libd_chr2-chr2_all-1580001-1600000-dynamic-1corestotal-allcorepera-caud-20240511-081603</td><td>20240511-081603</td></tr>\n",
       "\t<tr><td>199193382</td><td> 31.65999</td><td>5.525509e-220</td><td>13</td><td>2</td><td>all</td><td>caud</td><td>/expanse/lustre/projects/jhu152/naglemi/mwas/gwas/gwas_stat_scz</td><td>libd_chr2-chr2_all-libd_chr2-chr2_all-1580001-1600000-dynamic-1corestotal-allcorepera-caud-20240511-081603</td><td>20240511-081603</td></tr>\n",
       "\t<tr><td>199193831</td><td> 36.79082</td><td>2.588360e-296</td><td>11</td><td>2</td><td>all</td><td>caud</td><td>/expanse/lustre/projects/jhu152/naglemi/mwas/gwas/gwas_stat_scz</td><td>libd_chr2-chr2_all-libd_chr2-chr2_all-1580001-1600000-dynamic-1corestotal-allcorepera-caud-20240511-081603</td><td>20240511-081603</td></tr>\n",
       "\t<tr><td>199194004</td><td> 32.16356</td><td>5.709213e-227</td><td>10</td><td>2</td><td>all</td><td>caud</td><td>/expanse/lustre/projects/jhu152/naglemi/mwas/gwas/gwas_stat_scz</td><td>libd_chr2-chr2_all-libd_chr2-chr2_all-1580001-1600000-dynamic-1corestotal-allcorepera-caud-20240511-081603</td><td>20240511-081603</td></tr>\n",
       "\t<tr><td>199194040</td><td> 36.35243</td><td>2.405338e-289</td><td>10</td><td>2</td><td>all</td><td>caud</td><td>/expanse/lustre/projects/jhu152/naglemi/mwas/gwas/gwas_stat_scz</td><td>libd_chr2-chr2_all-libd_chr2-chr2_all-1580001-1600000-dynamic-1corestotal-allcorepera-caud-20240511-081603</td><td>20240511-081603</td></tr>\n",
       "\t<tr><td>200372584</td><td> 37.62059</td><td> 0.000000e+00</td><td>25</td><td>2</td><td>all</td><td>caud</td><td>/expanse/lustre/projects/jhu152/naglemi/mwas/gwas/gwas_stat_scz</td><td>libd_chr2-chr2_all-libd_chr2-chr2_all-1580001-1600000-dynamic-1corestotal-allcorepera-caud-20240511-081603</td><td>20240511-081603</td></tr>\n",
       "\t<tr><td>232937467</td><td> 31.45850</td><td>3.212275e-217</td><td>16</td><td>2</td><td>all</td><td>caud</td><td>/expanse/lustre/projects/jhu152/naglemi/mwas/gwas/gwas_stat_scz</td><td>libd_chr2-chr2_all-libd_chr2-chr2_all-1860001-1880000-dynamic-1corestotal-allcorepera-caud-20240511-083025</td><td>20240511-083025</td></tr>\n",
       "\t<tr><td>232937483</td><td> 31.65869</td><td>5.757800e-220</td><td>16</td><td>2</td><td>all</td><td>caud</td><td>/expanse/lustre/projects/jhu152/naglemi/mwas/gwas/gwas_stat_scz</td><td>libd_chr2-chr2_all-libd_chr2-chr2_all-1860001-1880000-dynamic-1corestotal-allcorepera-caud-20240511-083025</td><td>20240511-083025</td></tr>\n",
       "\t<tr><td>232937666</td><td> 37.34844</td><td>2.688052e-305</td><td>18</td><td>2</td><td>all</td><td>caud</td><td>/expanse/lustre/projects/jhu152/naglemi/mwas/gwas/gwas_stat_scz</td><td>libd_chr2-chr2_all-libd_chr2-chr2_all-1860001-1880000-dynamic-1corestotal-allcorepera-caud-20240511-083025</td><td>20240511-083025</td></tr>\n",
       "\t<tr><td>232937846</td><td> 44.89333</td><td> 0.000000e+00</td><td>18</td><td>2</td><td>all</td><td>caud</td><td>/expanse/lustre/projects/jhu152/naglemi/mwas/gwas/gwas_stat_scz</td><td>libd_chr2-chr2_all-libd_chr2-chr2_all-1860001-1880000-dynamic-1corestotal-allcorepera-caud-20240511-083025</td><td>20240511-083025</td></tr>\n",
       "\t<tr><td>232937924</td><td> 49.04944</td><td> 0.000000e+00</td><td>16</td><td>2</td><td>all</td><td>caud</td><td>/expanse/lustre/projects/jhu152/naglemi/mwas/gwas/gwas_stat_scz</td><td>libd_chr2-chr2_all-libd_chr2-chr2_all-1860001-1880000-dynamic-1corestotal-allcorepera-caud-20240511-083025</td><td>20240511-083025</td></tr>\n",
       "\t<tr><td>232938152</td><td> 55.93865</td><td> 0.000000e+00</td><td>16</td><td>2</td><td>all</td><td>caud</td><td>/expanse/lustre/projects/jhu152/naglemi/mwas/gwas/gwas_stat_scz</td><td>libd_chr2-chr2_all-libd_chr2-chr2_all-1860001-1880000-dynamic-1corestotal-allcorepera-caud-20240511-083025</td><td>20240511-083025</td></tr>\n",
       "\t<tr><td>232938344</td><td> 46.01442</td><td> 0.000000e+00</td><td>13</td><td>2</td><td>all</td><td>caud</td><td>/expanse/lustre/projects/jhu152/naglemi/mwas/gwas/gwas_stat_scz</td><td>libd_chr2-chr2_all-libd_chr2-chr2_all-1860001-1880000-dynamic-1corestotal-allcorepera-caud-20240511-083025</td><td>20240511-083025</td></tr>\n",
       "\t<tr><td>232938363</td><td> 45.67487</td><td> 0.000000e+00</td><td>18</td><td>2</td><td>all</td><td>caud</td><td>/expanse/lustre/projects/jhu152/naglemi/mwas/gwas/gwas_stat_scz</td><td>libd_chr2-chr2_all-libd_chr2-chr2_all-1860001-1880000-dynamic-1corestotal-allcorepera-caud-20240511-083025</td><td>20240511-083025</td></tr>\n",
       "\t<tr><td>232938396</td><td> 40.90676</td><td> 0.000000e+00</td><td>13</td><td>2</td><td>all</td><td>caud</td><td>/expanse/lustre/projects/jhu152/naglemi/mwas/gwas/gwas_stat_scz</td><td>libd_chr2-chr2_all-libd_chr2-chr2_all-1860001-1880000-dynamic-1corestotal-allcorepera-caud-20240511-083025</td><td>20240511-083025</td></tr>\n",
       "\t<tr><td>232938412</td><td> 41.24242</td><td> 0.000000e+00</td><td>13</td><td>2</td><td>all</td><td>caud</td><td>/expanse/lustre/projects/jhu152/naglemi/mwas/gwas/gwas_stat_scz</td><td>libd_chr2-chr2_all-libd_chr2-chr2_all-1860001-1880000-dynamic-1corestotal-allcorepera-caud-20240511-083025</td><td>20240511-083025</td></tr>\n",
       "\t<tr><td>232941586</td><td>-39.13700</td><td> 0.000000e+00</td><td> 9</td><td>2</td><td>all</td><td>caud</td><td>/expanse/lustre/projects/jhu152/naglemi/mwas/gwas/gwas_stat_scz</td><td>libd_chr2-chr2_all-libd_chr2-chr2_all-1860001-1880000-dynamic-1corestotal-allcorepera-caud-20240511-083025</td><td>20240511-083025</td></tr>\n",
       "\t<tr><td>232941590</td><td>-38.61340</td><td> 0.000000e+00</td><td>11</td><td>2</td><td>all</td><td>caud</td><td>/expanse/lustre/projects/jhu152/naglemi/mwas/gwas/gwas_stat_scz</td><td>libd_chr2-chr2_all-libd_chr2-chr2_all-1860001-1880000-dynamic-1corestotal-allcorepera-caud-20240511-083025</td><td>20240511-083025</td></tr>\n",
       "</tbody>\n",
       "</table>\n"
      ],
      "text/latex": [
       "A data.table: 383 × 10\n",
       "\\begin{tabular}{llllllllll}\n",
       " pos & z & p & n & chr & population & region & stats & scaff & timestamp\\\\\n",
       " <int> & <dbl> & <dbl> & <int> & <int> & <chr> & <chr> & <chr> & <chr> & <chr>\\\\\n",
       "\\hline\n",
       "\t  651107 & -31.10433 & 2.104787e-212 & 46 &  2 & all & caud & /expanse/lustre/projects/jhu152/naglemi/mwas/gwas/gwas\\_stat\\_scz & libd\\_chr2-chr2\\_all-libd\\_chr2-chr2\\_all-1-20000-dynamic-1corestotal-allcorepera-caud-20240511-065518    & 20240511-065518\\\\\n",
       "\t 1988129 & -33.45159 & 2.440211e-245 &  2 &  7 & all & caud & /expanse/lustre/projects/jhu152/naglemi/mwas/gwas/gwas\\_stat\\_scz & libd\\_chr7-chr7\\_all-libd\\_chr7-chr7\\_all-40001-60000-dynamic-1corestotal-allcorepera-20240422-130351     & 20240422-130351\\\\\n",
       "\t 1988133 & -33.32656 & 1.592389e-243 &  2 &  7 & all & caud & /expanse/lustre/projects/jhu152/naglemi/mwas/gwas/gwas\\_stat\\_scz & libd\\_chr7-chr7\\_all-libd\\_chr7-chr7\\_all-40001-60000-dynamic-1corestotal-allcorepera-20240422-130351     & 20240422-130351\\\\\n",
       "\t 1988141 & -31.93231 & 9.512265e-224 &  2 &  7 & all & caud & /expanse/lustre/projects/jhu152/naglemi/mwas/gwas/gwas\\_stat\\_scz & libd\\_chr7-chr7\\_all-libd\\_chr7-chr7\\_all-40001-60000-dynamic-1corestotal-allcorepera-20240422-130351     & 20240422-130351\\\\\n",
       "\t 2006943 & -30.46161 & 8.407191e-204 &  4 &  7 & all & caud & /expanse/lustre/projects/jhu152/naglemi/mwas/gwas/gwas\\_stat\\_scz & libd\\_chr7-chr7\\_all-libd\\_chr7-chr7\\_all-40001-60000-dynamic-1corestotal-allcorepera-20240422-130351     & 20240422-130351\\\\\n",
       "\t 2007013 & -35.11031 & 4.692392e-270 &  3 &  7 & all & caud & /expanse/lustre/projects/jhu152/naglemi/mwas/gwas/gwas\\_stat\\_scz & libd\\_chr7-chr7\\_all-libd\\_chr7-chr7\\_all-40001-60000-dynamic-1corestotal-allcorepera-20240422-130351     & 20240422-130351\\\\\n",
       "\t 2007144 & -35.97829 & 1.828241e-283 &  5 &  7 & all & caud & /expanse/lustre/projects/jhu152/naglemi/mwas/gwas/gwas\\_stat\\_scz & libd\\_chr7-chr7\\_all-libd\\_chr7-chr7\\_all-40001-60000-dynamic-1corestotal-allcorepera-20240422-130351     & 20240422-130351\\\\\n",
       "\t 2007161 & -33.88309 & 1.182130e-251 &  4 &  7 & all & caud & /expanse/lustre/projects/jhu152/naglemi/mwas/gwas/gwas\\_stat\\_scz & libd\\_chr7-chr7\\_all-libd\\_chr7-chr7\\_all-40001-60000-dynamic-1corestotal-allcorepera-20240422-130351     & 20240422-130351\\\\\n",
       "\t 2007164 & -33.87557 & 1.525460e-251 &  4 &  7 & all & caud & /expanse/lustre/projects/jhu152/naglemi/mwas/gwas/gwas\\_stat\\_scz & libd\\_chr7-chr7\\_all-libd\\_chr7-chr7\\_all-40001-60000-dynamic-1corestotal-allcorepera-20240422-130351     & 20240422-130351\\\\\n",
       "\t 2007179 & -36.59150 & 3.904758e-293 &  5 &  7 & all & caud & /expanse/lustre/projects/jhu152/naglemi/mwas/gwas/gwas\\_stat\\_scz & libd\\_chr7-chr7\\_all-libd\\_chr7-chr7\\_all-40001-60000-dynamic-1corestotal-allcorepera-20240422-130351     & 20240422-130351\\\\\n",
       "\t 2007186 & -35.34475 & 1.207349e-273 &  4 &  7 & all & caud & /expanse/lustre/projects/jhu152/naglemi/mwas/gwas/gwas\\_stat\\_scz & libd\\_chr7-chr7\\_all-libd\\_chr7-chr7\\_all-40001-60000-dynamic-1corestotal-allcorepera-20240422-130351     & 20240422-130351\\\\\n",
       "\t 2007249 & -34.42041 & 1.248469e-259 &  6 &  7 & all & caud & /expanse/lustre/projects/jhu152/naglemi/mwas/gwas/gwas\\_stat\\_scz & libd\\_chr7-chr7\\_all-libd\\_chr7-chr7\\_all-40001-60000-dynamic-1corestotal-allcorepera-20240422-130351     & 20240422-130351\\\\\n",
       "\t 2007271 & -33.77839 & 4.096279e-250 &  6 &  7 & all & caud & /expanse/lustre/projects/jhu152/naglemi/mwas/gwas/gwas\\_stat\\_scz & libd\\_chr7-chr7\\_all-libd\\_chr7-chr7\\_all-40001-60000-dynamic-1corestotal-allcorepera-20240422-130351     & 20240422-130351\\\\\n",
       "\t 2007285 & -37.80520 &  0.000000e+00 &  8 &  7 & all & caud & /expanse/lustre/projects/jhu152/naglemi/mwas/gwas/gwas\\_stat\\_scz & libd\\_chr7-chr7\\_all-libd\\_chr7-chr7\\_all-40001-60000-dynamic-1corestotal-allcorepera-20240422-130351     & 20240422-130351\\\\\n",
       "\t 2007290 & -39.41279 &  0.000000e+00 &  8 &  7 & all & caud & /expanse/lustre/projects/jhu152/naglemi/mwas/gwas/gwas\\_stat\\_scz & libd\\_chr7-chr7\\_all-libd\\_chr7-chr7\\_all-40001-60000-dynamic-1corestotal-allcorepera-20240422-130351     & 20240422-130351\\\\\n",
       "\t 2007330 & -37.04599 & 2.083558e-300 &  7 &  7 & all & caud & /expanse/lustre/projects/jhu152/naglemi/mwas/gwas/gwas\\_stat\\_scz & libd\\_chr7-chr7\\_all-libd\\_chr7-chr7\\_all-40001-60000-dynamic-1corestotal-allcorepera-20240422-130351     & 20240422-130351\\\\\n",
       "\t 2007343 & -30.56116 & 4.018894e-205 &  7 &  7 & all & caud & /expanse/lustre/projects/jhu152/naglemi/mwas/gwas/gwas\\_stat\\_scz & libd\\_chr7-chr7\\_all-libd\\_chr7-chr7\\_all-40001-60000-dynamic-1corestotal-allcorepera-20240422-130351     & 20240422-130351\\\\\n",
       "\t 2007345 & -33.74568 & 1.236913e-249 &  7 &  7 & all & caud & /expanse/lustre/projects/jhu152/naglemi/mwas/gwas/gwas\\_stat\\_scz & libd\\_chr7-chr7\\_all-libd\\_chr7-chr7\\_all-40001-60000-dynamic-1corestotal-allcorepera-20240422-130351     & 20240422-130351\\\\\n",
       "\t 2007355 & -37.25896 & 7.586455e-304 &  7 &  7 & all & caud & /expanse/lustre/projects/jhu152/naglemi/mwas/gwas/gwas\\_stat\\_scz & libd\\_chr7-chr7\\_all-libd\\_chr7-chr7\\_all-40001-60000-dynamic-1corestotal-allcorepera-20240422-130351     & 20240422-130351\\\\\n",
       "\t 2253482 &  30.27819 & 2.220711e-201 & 13 & 17 & all & caud & /expanse/lustre/projects/jhu152/naglemi/mwas/gwas/gwas\\_stat\\_scz & libd\\_chr17-chr17\\_all-libd\\_chr17-chr17\\_all-41513-61512-dynamic-1corestotal-allcorepera-20240523-095546 & 20240523-095546\\\\\n",
       "\t 2253537 &  31.38834 & 2.918631e-216 & 13 & 17 & all & caud & /expanse/lustre/projects/jhu152/naglemi/mwas/gwas/gwas\\_stat\\_scz & libd\\_chr17-chr17\\_all-libd\\_chr17-chr17\\_all-41513-61512-dynamic-1corestotal-allcorepera-20240523-095546 & 20240523-095546\\\\\n",
       "\t 2266535 &  32.34243 & 1.772451e-229 & 12 & 17 & all & caud & /expanse/lustre/projects/jhu152/naglemi/mwas/gwas/gwas\\_stat\\_scz & libd\\_chr17-chr17\\_all-libd\\_chr17-chr17\\_all-41513-61512-dynamic-1corestotal-allcorepera-20240523-095546 & 20240523-095546\\\\\n",
       "\t 2283701 &  57.49509 &  0.000000e+00 & 29 & 17 & all & caud & /expanse/lustre/projects/jhu152/naglemi/mwas/gwas/gwas\\_stat\\_scz & libd\\_chr17-chr17\\_all-libd\\_chr17-chr17\\_all-41513-61512-dynamic-1corestotal-allcorepera-20240523-095546 & 20240523-095546\\\\\n",
       "\t 2286326 &  34.80663 & 1.930792e-265 & 31 & 17 & all & caud & /expanse/lustre/projects/jhu152/naglemi/mwas/gwas/gwas\\_stat\\_scz & libd\\_chr17-chr17\\_all-libd\\_chr17-chr17\\_all-41513-61512-dynamic-1corestotal-allcorepera-20240523-095546 & 20240523-095546\\\\\n",
       "\t 2286661 &  46.63316 &  0.000000e+00 & 33 & 17 & all & caud & /expanse/lustre/projects/jhu152/naglemi/mwas/gwas/gwas\\_stat\\_scz & libd\\_chr17-chr17\\_all-libd\\_chr17-chr17\\_all-41513-61512-dynamic-1corestotal-allcorepera-20240523-095546 & 20240523-095546\\\\\n",
       "\t 2286717 &  32.67174 & 3.936447e-234 & 36 & 17 & all & caud & /expanse/lustre/projects/jhu152/naglemi/mwas/gwas/gwas\\_stat\\_scz & libd\\_chr17-chr17\\_all-libd\\_chr17-chr17\\_all-41513-61512-dynamic-1corestotal-allcorepera-20240523-095546 & 20240523-095546\\\\\n",
       "\t 2286786 &  34.70698 & 6.183059e-264 & 31 & 17 & all & caud & /expanse/lustre/projects/jhu152/naglemi/mwas/gwas/gwas\\_stat\\_scz & libd\\_chr17-chr17\\_all-libd\\_chr17-chr17\\_all-41513-61512-dynamic-1corestotal-allcorepera-20240523-095546 & 20240523-095546\\\\\n",
       "\t 2286962 &  53.93361 &  0.000000e+00 & 35 & 17 & all & caud & /expanse/lustre/projects/jhu152/naglemi/mwas/gwas/gwas\\_stat\\_scz & libd\\_chr17-chr17\\_all-libd\\_chr17-chr17\\_all-41513-61512-dynamic-1corestotal-allcorepera-20240523-095546 & 20240523-095546\\\\\n",
       "\t 2286992 &  39.40832 &  0.000000e+00 & 33 & 17 & all & caud & /expanse/lustre/projects/jhu152/naglemi/mwas/gwas/gwas\\_stat\\_scz & libd\\_chr17-chr17\\_all-libd\\_chr17-chr17\\_all-41513-61512-dynamic-1corestotal-allcorepera-20240523-095546 & 20240523-095546\\\\\n",
       "\t 2287032 &  45.17940 &  0.000000e+00 & 35 & 17 & all & caud & /expanse/lustre/projects/jhu152/naglemi/mwas/gwas/gwas\\_stat\\_scz & libd\\_chr17-chr17\\_all-libd\\_chr17-chr17\\_all-41513-61512-dynamic-1corestotal-allcorepera-20240523-095546 & 20240523-095546\\\\\n",
       "\t ⋮ & ⋮ & ⋮ & ⋮ & ⋮ & ⋮ & ⋮ & ⋮ & ⋮ & ⋮\\\\\n",
       "\t 197909745 &  45.96072 &  0.000000e+00 & 13 & 2 & all & caud & /expanse/lustre/projects/jhu152/naglemi/mwas/gwas/gwas\\_stat\\_scz & libd\\_chr2-chr2\\_all-libd\\_chr2-chr2\\_all-1560001-1580000-dynamic-1corestotal-allcorepera-caud-20240511-081500 & 20240511-081500\\\\\n",
       "\t 197910015 &  43.42866 &  0.000000e+00 & 11 & 2 & all & caud & /expanse/lustre/projects/jhu152/naglemi/mwas/gwas/gwas\\_stat\\_scz & libd\\_chr2-chr2\\_all-libd\\_chr2-chr2\\_all-1560001-1580000-dynamic-1corestotal-allcorepera-caud-20240511-081500 & 20240511-081500\\\\\n",
       "\t 197910251 &  39.81084 &  0.000000e+00 & 11 & 2 & all & caud & /expanse/lustre/projects/jhu152/naglemi/mwas/gwas/gwas\\_stat\\_scz & libd\\_chr2-chr2\\_all-libd\\_chr2-chr2\\_all-1560001-1580000-dynamic-1corestotal-allcorepera-caud-20240511-081500 & 20240511-081500\\\\\n",
       "\t 197910449 &  33.80637 & 1.589949e-250 & 11 & 2 & all & caud & /expanse/lustre/projects/jhu152/naglemi/mwas/gwas/gwas\\_stat\\_scz & libd\\_chr2-chr2\\_all-libd\\_chr2-chr2\\_all-1560001-1580000-dynamic-1corestotal-allcorepera-caud-20240511-081500 & 20240511-081500\\\\\n",
       "\t 197910670 &  44.51073 &  0.000000e+00 & 11 & 2 & all & caud & /expanse/lustre/projects/jhu152/naglemi/mwas/gwas/gwas\\_stat\\_scz & libd\\_chr2-chr2\\_all-libd\\_chr2-chr2\\_all-1560001-1580000-dynamic-1corestotal-allcorepera-caud-20240511-081500 & 20240511-081500\\\\\n",
       "\t 197910818 &  39.85960 &  0.000000e+00 & 11 & 2 & all & caud & /expanse/lustre/projects/jhu152/naglemi/mwas/gwas/gwas\\_stat\\_scz & libd\\_chr2-chr2\\_all-libd\\_chr2-chr2\\_all-1560001-1580000-dynamic-1corestotal-allcorepera-caud-20240511-081500 & 20240511-081500\\\\\n",
       "\t 197911113 &  41.06180 &  0.000000e+00 & 11 & 2 & all & caud & /expanse/lustre/projects/jhu152/naglemi/mwas/gwas/gwas\\_stat\\_scz & libd\\_chr2-chr2\\_all-libd\\_chr2-chr2\\_all-1560001-1580000-dynamic-1corestotal-allcorepera-caud-20240511-081500 & 20240511-081500\\\\\n",
       "\t 197911176 &  40.88055 &  0.000000e+00 & 11 & 2 & all & caud & /expanse/lustre/projects/jhu152/naglemi/mwas/gwas/gwas\\_stat\\_scz & libd\\_chr2-chr2\\_all-libd\\_chr2-chr2\\_all-1560001-1580000-dynamic-1corestotal-allcorepera-caud-20240511-081500 & 20240511-081500\\\\\n",
       "\t 199149462 &  58.19601 &  0.000000e+00 &  7 & 2 & all & caud & /expanse/lustre/projects/jhu152/naglemi/mwas/gwas/gwas\\_stat\\_scz & libd\\_chr2-chr2\\_all-libd\\_chr2-chr2\\_all-1580001-1600000-dynamic-1corestotal-allcorepera-caud-20240511-081603 & 20240511-081603\\\\\n",
       "\t 199150087 &  55.54006 &  0.000000e+00 & 17 & 2 & all & caud & /expanse/lustre/projects/jhu152/naglemi/mwas/gwas/gwas\\_stat\\_scz & libd\\_chr2-chr2\\_all-libd\\_chr2-chr2\\_all-1580001-1600000-dynamic-1corestotal-allcorepera-caud-20240511-081603 & 20240511-081603\\\\\n",
       "\t 199174428 &  32.62892 & 1.595729e-233 & 29 & 2 & all & caud & /expanse/lustre/projects/jhu152/naglemi/mwas/gwas/gwas\\_stat\\_scz & libd\\_chr2-chr2\\_all-libd\\_chr2-chr2\\_all-1580001-1600000-dynamic-1corestotal-allcorepera-caud-20240511-081603 & 20240511-081603\\\\\n",
       "\t 199181824 & -34.50488 & 6.777038e-261 &  3 & 2 & all & caud & /expanse/lustre/projects/jhu152/naglemi/mwas/gwas/gwas\\_stat\\_scz & libd\\_chr2-chr2\\_all-libd\\_chr2-chr2\\_all-1580001-1600000-dynamic-1corestotal-allcorepera-caud-20240511-081603 & 20240511-081603\\\\\n",
       "\t 199181946 & -31.56351 & 1.170030e-218 &  3 & 2 & all & caud & /expanse/lustre/projects/jhu152/naglemi/mwas/gwas/gwas\\_stat\\_scz & libd\\_chr2-chr2\\_all-libd\\_chr2-chr2\\_all-1580001-1600000-dynamic-1corestotal-allcorepera-caud-20240511-081603 & 20240511-081603\\\\\n",
       "\t 199193382 &  31.65999 & 5.525509e-220 & 13 & 2 & all & caud & /expanse/lustre/projects/jhu152/naglemi/mwas/gwas/gwas\\_stat\\_scz & libd\\_chr2-chr2\\_all-libd\\_chr2-chr2\\_all-1580001-1600000-dynamic-1corestotal-allcorepera-caud-20240511-081603 & 20240511-081603\\\\\n",
       "\t 199193831 &  36.79082 & 2.588360e-296 & 11 & 2 & all & caud & /expanse/lustre/projects/jhu152/naglemi/mwas/gwas/gwas\\_stat\\_scz & libd\\_chr2-chr2\\_all-libd\\_chr2-chr2\\_all-1580001-1600000-dynamic-1corestotal-allcorepera-caud-20240511-081603 & 20240511-081603\\\\\n",
       "\t 199194004 &  32.16356 & 5.709213e-227 & 10 & 2 & all & caud & /expanse/lustre/projects/jhu152/naglemi/mwas/gwas/gwas\\_stat\\_scz & libd\\_chr2-chr2\\_all-libd\\_chr2-chr2\\_all-1580001-1600000-dynamic-1corestotal-allcorepera-caud-20240511-081603 & 20240511-081603\\\\\n",
       "\t 199194040 &  36.35243 & 2.405338e-289 & 10 & 2 & all & caud & /expanse/lustre/projects/jhu152/naglemi/mwas/gwas/gwas\\_stat\\_scz & libd\\_chr2-chr2\\_all-libd\\_chr2-chr2\\_all-1580001-1600000-dynamic-1corestotal-allcorepera-caud-20240511-081603 & 20240511-081603\\\\\n",
       "\t 200372584 &  37.62059 &  0.000000e+00 & 25 & 2 & all & caud & /expanse/lustre/projects/jhu152/naglemi/mwas/gwas/gwas\\_stat\\_scz & libd\\_chr2-chr2\\_all-libd\\_chr2-chr2\\_all-1580001-1600000-dynamic-1corestotal-allcorepera-caud-20240511-081603 & 20240511-081603\\\\\n",
       "\t 232937467 &  31.45850 & 3.212275e-217 & 16 & 2 & all & caud & /expanse/lustre/projects/jhu152/naglemi/mwas/gwas/gwas\\_stat\\_scz & libd\\_chr2-chr2\\_all-libd\\_chr2-chr2\\_all-1860001-1880000-dynamic-1corestotal-allcorepera-caud-20240511-083025 & 20240511-083025\\\\\n",
       "\t 232937483 &  31.65869 & 5.757800e-220 & 16 & 2 & all & caud & /expanse/lustre/projects/jhu152/naglemi/mwas/gwas/gwas\\_stat\\_scz & libd\\_chr2-chr2\\_all-libd\\_chr2-chr2\\_all-1860001-1880000-dynamic-1corestotal-allcorepera-caud-20240511-083025 & 20240511-083025\\\\\n",
       "\t 232937666 &  37.34844 & 2.688052e-305 & 18 & 2 & all & caud & /expanse/lustre/projects/jhu152/naglemi/mwas/gwas/gwas\\_stat\\_scz & libd\\_chr2-chr2\\_all-libd\\_chr2-chr2\\_all-1860001-1880000-dynamic-1corestotal-allcorepera-caud-20240511-083025 & 20240511-083025\\\\\n",
       "\t 232937846 &  44.89333 &  0.000000e+00 & 18 & 2 & all & caud & /expanse/lustre/projects/jhu152/naglemi/mwas/gwas/gwas\\_stat\\_scz & libd\\_chr2-chr2\\_all-libd\\_chr2-chr2\\_all-1860001-1880000-dynamic-1corestotal-allcorepera-caud-20240511-083025 & 20240511-083025\\\\\n",
       "\t 232937924 &  49.04944 &  0.000000e+00 & 16 & 2 & all & caud & /expanse/lustre/projects/jhu152/naglemi/mwas/gwas/gwas\\_stat\\_scz & libd\\_chr2-chr2\\_all-libd\\_chr2-chr2\\_all-1860001-1880000-dynamic-1corestotal-allcorepera-caud-20240511-083025 & 20240511-083025\\\\\n",
       "\t 232938152 &  55.93865 &  0.000000e+00 & 16 & 2 & all & caud & /expanse/lustre/projects/jhu152/naglemi/mwas/gwas/gwas\\_stat\\_scz & libd\\_chr2-chr2\\_all-libd\\_chr2-chr2\\_all-1860001-1880000-dynamic-1corestotal-allcorepera-caud-20240511-083025 & 20240511-083025\\\\\n",
       "\t 232938344 &  46.01442 &  0.000000e+00 & 13 & 2 & all & caud & /expanse/lustre/projects/jhu152/naglemi/mwas/gwas/gwas\\_stat\\_scz & libd\\_chr2-chr2\\_all-libd\\_chr2-chr2\\_all-1860001-1880000-dynamic-1corestotal-allcorepera-caud-20240511-083025 & 20240511-083025\\\\\n",
       "\t 232938363 &  45.67487 &  0.000000e+00 & 18 & 2 & all & caud & /expanse/lustre/projects/jhu152/naglemi/mwas/gwas/gwas\\_stat\\_scz & libd\\_chr2-chr2\\_all-libd\\_chr2-chr2\\_all-1860001-1880000-dynamic-1corestotal-allcorepera-caud-20240511-083025 & 20240511-083025\\\\\n",
       "\t 232938396 &  40.90676 &  0.000000e+00 & 13 & 2 & all & caud & /expanse/lustre/projects/jhu152/naglemi/mwas/gwas/gwas\\_stat\\_scz & libd\\_chr2-chr2\\_all-libd\\_chr2-chr2\\_all-1860001-1880000-dynamic-1corestotal-allcorepera-caud-20240511-083025 & 20240511-083025\\\\\n",
       "\t 232938412 &  41.24242 &  0.000000e+00 & 13 & 2 & all & caud & /expanse/lustre/projects/jhu152/naglemi/mwas/gwas/gwas\\_stat\\_scz & libd\\_chr2-chr2\\_all-libd\\_chr2-chr2\\_all-1860001-1880000-dynamic-1corestotal-allcorepera-caud-20240511-083025 & 20240511-083025\\\\\n",
       "\t 232941586 & -39.13700 &  0.000000e+00 &  9 & 2 & all & caud & /expanse/lustre/projects/jhu152/naglemi/mwas/gwas/gwas\\_stat\\_scz & libd\\_chr2-chr2\\_all-libd\\_chr2-chr2\\_all-1860001-1880000-dynamic-1corestotal-allcorepera-caud-20240511-083025 & 20240511-083025\\\\\n",
       "\t 232941590 & -38.61340 &  0.000000e+00 & 11 & 2 & all & caud & /expanse/lustre/projects/jhu152/naglemi/mwas/gwas/gwas\\_stat\\_scz & libd\\_chr2-chr2\\_all-libd\\_chr2-chr2\\_all-1860001-1880000-dynamic-1corestotal-allcorepera-caud-20240511-083025 & 20240511-083025\\\\\n",
       "\\end{tabular}\n"
      ],
      "text/markdown": [
       "\n",
       "A data.table: 383 × 10\n",
       "\n",
       "| pos &lt;int&gt; | z &lt;dbl&gt; | p &lt;dbl&gt; | n &lt;int&gt; | chr &lt;int&gt; | population &lt;chr&gt; | region &lt;chr&gt; | stats &lt;chr&gt; | scaff &lt;chr&gt; | timestamp &lt;chr&gt; |\n",
       "|---|---|---|---|---|---|---|---|---|---|\n",
       "|  651107 | -31.10433 | 2.104787e-212 | 46 |  2 | all | caud | /expanse/lustre/projects/jhu152/naglemi/mwas/gwas/gwas_stat_scz | libd_chr2-chr2_all-libd_chr2-chr2_all-1-20000-dynamic-1corestotal-allcorepera-caud-20240511-065518    | 20240511-065518 |\n",
       "| 1988129 | -33.45159 | 2.440211e-245 |  2 |  7 | all | caud | /expanse/lustre/projects/jhu152/naglemi/mwas/gwas/gwas_stat_scz | libd_chr7-chr7_all-libd_chr7-chr7_all-40001-60000-dynamic-1corestotal-allcorepera-20240422-130351     | 20240422-130351 |\n",
       "| 1988133 | -33.32656 | 1.592389e-243 |  2 |  7 | all | caud | /expanse/lustre/projects/jhu152/naglemi/mwas/gwas/gwas_stat_scz | libd_chr7-chr7_all-libd_chr7-chr7_all-40001-60000-dynamic-1corestotal-allcorepera-20240422-130351     | 20240422-130351 |\n",
       "| 1988141 | -31.93231 | 9.512265e-224 |  2 |  7 | all | caud | /expanse/lustre/projects/jhu152/naglemi/mwas/gwas/gwas_stat_scz | libd_chr7-chr7_all-libd_chr7-chr7_all-40001-60000-dynamic-1corestotal-allcorepera-20240422-130351     | 20240422-130351 |\n",
       "| 2006943 | -30.46161 | 8.407191e-204 |  4 |  7 | all | caud | /expanse/lustre/projects/jhu152/naglemi/mwas/gwas/gwas_stat_scz | libd_chr7-chr7_all-libd_chr7-chr7_all-40001-60000-dynamic-1corestotal-allcorepera-20240422-130351     | 20240422-130351 |\n",
       "| 2007013 | -35.11031 | 4.692392e-270 |  3 |  7 | all | caud | /expanse/lustre/projects/jhu152/naglemi/mwas/gwas/gwas_stat_scz | libd_chr7-chr7_all-libd_chr7-chr7_all-40001-60000-dynamic-1corestotal-allcorepera-20240422-130351     | 20240422-130351 |\n",
       "| 2007144 | -35.97829 | 1.828241e-283 |  5 |  7 | all | caud | /expanse/lustre/projects/jhu152/naglemi/mwas/gwas/gwas_stat_scz | libd_chr7-chr7_all-libd_chr7-chr7_all-40001-60000-dynamic-1corestotal-allcorepera-20240422-130351     | 20240422-130351 |\n",
       "| 2007161 | -33.88309 | 1.182130e-251 |  4 |  7 | all | caud | /expanse/lustre/projects/jhu152/naglemi/mwas/gwas/gwas_stat_scz | libd_chr7-chr7_all-libd_chr7-chr7_all-40001-60000-dynamic-1corestotal-allcorepera-20240422-130351     | 20240422-130351 |\n",
       "| 2007164 | -33.87557 | 1.525460e-251 |  4 |  7 | all | caud | /expanse/lustre/projects/jhu152/naglemi/mwas/gwas/gwas_stat_scz | libd_chr7-chr7_all-libd_chr7-chr7_all-40001-60000-dynamic-1corestotal-allcorepera-20240422-130351     | 20240422-130351 |\n",
       "| 2007179 | -36.59150 | 3.904758e-293 |  5 |  7 | all | caud | /expanse/lustre/projects/jhu152/naglemi/mwas/gwas/gwas_stat_scz | libd_chr7-chr7_all-libd_chr7-chr7_all-40001-60000-dynamic-1corestotal-allcorepera-20240422-130351     | 20240422-130351 |\n",
       "| 2007186 | -35.34475 | 1.207349e-273 |  4 |  7 | all | caud | /expanse/lustre/projects/jhu152/naglemi/mwas/gwas/gwas_stat_scz | libd_chr7-chr7_all-libd_chr7-chr7_all-40001-60000-dynamic-1corestotal-allcorepera-20240422-130351     | 20240422-130351 |\n",
       "| 2007249 | -34.42041 | 1.248469e-259 |  6 |  7 | all | caud | /expanse/lustre/projects/jhu152/naglemi/mwas/gwas/gwas_stat_scz | libd_chr7-chr7_all-libd_chr7-chr7_all-40001-60000-dynamic-1corestotal-allcorepera-20240422-130351     | 20240422-130351 |\n",
       "| 2007271 | -33.77839 | 4.096279e-250 |  6 |  7 | all | caud | /expanse/lustre/projects/jhu152/naglemi/mwas/gwas/gwas_stat_scz | libd_chr7-chr7_all-libd_chr7-chr7_all-40001-60000-dynamic-1corestotal-allcorepera-20240422-130351     | 20240422-130351 |\n",
       "| 2007285 | -37.80520 |  0.000000e+00 |  8 |  7 | all | caud | /expanse/lustre/projects/jhu152/naglemi/mwas/gwas/gwas_stat_scz | libd_chr7-chr7_all-libd_chr7-chr7_all-40001-60000-dynamic-1corestotal-allcorepera-20240422-130351     | 20240422-130351 |\n",
       "| 2007290 | -39.41279 |  0.000000e+00 |  8 |  7 | all | caud | /expanse/lustre/projects/jhu152/naglemi/mwas/gwas/gwas_stat_scz | libd_chr7-chr7_all-libd_chr7-chr7_all-40001-60000-dynamic-1corestotal-allcorepera-20240422-130351     | 20240422-130351 |\n",
       "| 2007330 | -37.04599 | 2.083558e-300 |  7 |  7 | all | caud | /expanse/lustre/projects/jhu152/naglemi/mwas/gwas/gwas_stat_scz | libd_chr7-chr7_all-libd_chr7-chr7_all-40001-60000-dynamic-1corestotal-allcorepera-20240422-130351     | 20240422-130351 |\n",
       "| 2007343 | -30.56116 | 4.018894e-205 |  7 |  7 | all | caud | /expanse/lustre/projects/jhu152/naglemi/mwas/gwas/gwas_stat_scz | libd_chr7-chr7_all-libd_chr7-chr7_all-40001-60000-dynamic-1corestotal-allcorepera-20240422-130351     | 20240422-130351 |\n",
       "| 2007345 | -33.74568 | 1.236913e-249 |  7 |  7 | all | caud | /expanse/lustre/projects/jhu152/naglemi/mwas/gwas/gwas_stat_scz | libd_chr7-chr7_all-libd_chr7-chr7_all-40001-60000-dynamic-1corestotal-allcorepera-20240422-130351     | 20240422-130351 |\n",
       "| 2007355 | -37.25896 | 7.586455e-304 |  7 |  7 | all | caud | /expanse/lustre/projects/jhu152/naglemi/mwas/gwas/gwas_stat_scz | libd_chr7-chr7_all-libd_chr7-chr7_all-40001-60000-dynamic-1corestotal-allcorepera-20240422-130351     | 20240422-130351 |\n",
       "| 2253482 |  30.27819 | 2.220711e-201 | 13 | 17 | all | caud | /expanse/lustre/projects/jhu152/naglemi/mwas/gwas/gwas_stat_scz | libd_chr17-chr17_all-libd_chr17-chr17_all-41513-61512-dynamic-1corestotal-allcorepera-20240523-095546 | 20240523-095546 |\n",
       "| 2253537 |  31.38834 | 2.918631e-216 | 13 | 17 | all | caud | /expanse/lustre/projects/jhu152/naglemi/mwas/gwas/gwas_stat_scz | libd_chr17-chr17_all-libd_chr17-chr17_all-41513-61512-dynamic-1corestotal-allcorepera-20240523-095546 | 20240523-095546 |\n",
       "| 2266535 |  32.34243 | 1.772451e-229 | 12 | 17 | all | caud | /expanse/lustre/projects/jhu152/naglemi/mwas/gwas/gwas_stat_scz | libd_chr17-chr17_all-libd_chr17-chr17_all-41513-61512-dynamic-1corestotal-allcorepera-20240523-095546 | 20240523-095546 |\n",
       "| 2283701 |  57.49509 |  0.000000e+00 | 29 | 17 | all | caud | /expanse/lustre/projects/jhu152/naglemi/mwas/gwas/gwas_stat_scz | libd_chr17-chr17_all-libd_chr17-chr17_all-41513-61512-dynamic-1corestotal-allcorepera-20240523-095546 | 20240523-095546 |\n",
       "| 2286326 |  34.80663 | 1.930792e-265 | 31 | 17 | all | caud | /expanse/lustre/projects/jhu152/naglemi/mwas/gwas/gwas_stat_scz | libd_chr17-chr17_all-libd_chr17-chr17_all-41513-61512-dynamic-1corestotal-allcorepera-20240523-095546 | 20240523-095546 |\n",
       "| 2286661 |  46.63316 |  0.000000e+00 | 33 | 17 | all | caud | /expanse/lustre/projects/jhu152/naglemi/mwas/gwas/gwas_stat_scz | libd_chr17-chr17_all-libd_chr17-chr17_all-41513-61512-dynamic-1corestotal-allcorepera-20240523-095546 | 20240523-095546 |\n",
       "| 2286717 |  32.67174 | 3.936447e-234 | 36 | 17 | all | caud | /expanse/lustre/projects/jhu152/naglemi/mwas/gwas/gwas_stat_scz | libd_chr17-chr17_all-libd_chr17-chr17_all-41513-61512-dynamic-1corestotal-allcorepera-20240523-095546 | 20240523-095546 |\n",
       "| 2286786 |  34.70698 | 6.183059e-264 | 31 | 17 | all | caud | /expanse/lustre/projects/jhu152/naglemi/mwas/gwas/gwas_stat_scz | libd_chr17-chr17_all-libd_chr17-chr17_all-41513-61512-dynamic-1corestotal-allcorepera-20240523-095546 | 20240523-095546 |\n",
       "| 2286962 |  53.93361 |  0.000000e+00 | 35 | 17 | all | caud | /expanse/lustre/projects/jhu152/naglemi/mwas/gwas/gwas_stat_scz | libd_chr17-chr17_all-libd_chr17-chr17_all-41513-61512-dynamic-1corestotal-allcorepera-20240523-095546 | 20240523-095546 |\n",
       "| 2286992 |  39.40832 |  0.000000e+00 | 33 | 17 | all | caud | /expanse/lustre/projects/jhu152/naglemi/mwas/gwas/gwas_stat_scz | libd_chr17-chr17_all-libd_chr17-chr17_all-41513-61512-dynamic-1corestotal-allcorepera-20240523-095546 | 20240523-095546 |\n",
       "| 2287032 |  45.17940 |  0.000000e+00 | 35 | 17 | all | caud | /expanse/lustre/projects/jhu152/naglemi/mwas/gwas/gwas_stat_scz | libd_chr17-chr17_all-libd_chr17-chr17_all-41513-61512-dynamic-1corestotal-allcorepera-20240523-095546 | 20240523-095546 |\n",
       "| ⋮ | ⋮ | ⋮ | ⋮ | ⋮ | ⋮ | ⋮ | ⋮ | ⋮ | ⋮ |\n",
       "| 197909745 |  45.96072 |  0.000000e+00 | 13 | 2 | all | caud | /expanse/lustre/projects/jhu152/naglemi/mwas/gwas/gwas_stat_scz | libd_chr2-chr2_all-libd_chr2-chr2_all-1560001-1580000-dynamic-1corestotal-allcorepera-caud-20240511-081500 | 20240511-081500 |\n",
       "| 197910015 |  43.42866 |  0.000000e+00 | 11 | 2 | all | caud | /expanse/lustre/projects/jhu152/naglemi/mwas/gwas/gwas_stat_scz | libd_chr2-chr2_all-libd_chr2-chr2_all-1560001-1580000-dynamic-1corestotal-allcorepera-caud-20240511-081500 | 20240511-081500 |\n",
       "| 197910251 |  39.81084 |  0.000000e+00 | 11 | 2 | all | caud | /expanse/lustre/projects/jhu152/naglemi/mwas/gwas/gwas_stat_scz | libd_chr2-chr2_all-libd_chr2-chr2_all-1560001-1580000-dynamic-1corestotal-allcorepera-caud-20240511-081500 | 20240511-081500 |\n",
       "| 197910449 |  33.80637 | 1.589949e-250 | 11 | 2 | all | caud | /expanse/lustre/projects/jhu152/naglemi/mwas/gwas/gwas_stat_scz | libd_chr2-chr2_all-libd_chr2-chr2_all-1560001-1580000-dynamic-1corestotal-allcorepera-caud-20240511-081500 | 20240511-081500 |\n",
       "| 197910670 |  44.51073 |  0.000000e+00 | 11 | 2 | all | caud | /expanse/lustre/projects/jhu152/naglemi/mwas/gwas/gwas_stat_scz | libd_chr2-chr2_all-libd_chr2-chr2_all-1560001-1580000-dynamic-1corestotal-allcorepera-caud-20240511-081500 | 20240511-081500 |\n",
       "| 197910818 |  39.85960 |  0.000000e+00 | 11 | 2 | all | caud | /expanse/lustre/projects/jhu152/naglemi/mwas/gwas/gwas_stat_scz | libd_chr2-chr2_all-libd_chr2-chr2_all-1560001-1580000-dynamic-1corestotal-allcorepera-caud-20240511-081500 | 20240511-081500 |\n",
       "| 197911113 |  41.06180 |  0.000000e+00 | 11 | 2 | all | caud | /expanse/lustre/projects/jhu152/naglemi/mwas/gwas/gwas_stat_scz | libd_chr2-chr2_all-libd_chr2-chr2_all-1560001-1580000-dynamic-1corestotal-allcorepera-caud-20240511-081500 | 20240511-081500 |\n",
       "| 197911176 |  40.88055 |  0.000000e+00 | 11 | 2 | all | caud | /expanse/lustre/projects/jhu152/naglemi/mwas/gwas/gwas_stat_scz | libd_chr2-chr2_all-libd_chr2-chr2_all-1560001-1580000-dynamic-1corestotal-allcorepera-caud-20240511-081500 | 20240511-081500 |\n",
       "| 199149462 |  58.19601 |  0.000000e+00 |  7 | 2 | all | caud | /expanse/lustre/projects/jhu152/naglemi/mwas/gwas/gwas_stat_scz | libd_chr2-chr2_all-libd_chr2-chr2_all-1580001-1600000-dynamic-1corestotal-allcorepera-caud-20240511-081603 | 20240511-081603 |\n",
       "| 199150087 |  55.54006 |  0.000000e+00 | 17 | 2 | all | caud | /expanse/lustre/projects/jhu152/naglemi/mwas/gwas/gwas_stat_scz | libd_chr2-chr2_all-libd_chr2-chr2_all-1580001-1600000-dynamic-1corestotal-allcorepera-caud-20240511-081603 | 20240511-081603 |\n",
       "| 199174428 |  32.62892 | 1.595729e-233 | 29 | 2 | all | caud | /expanse/lustre/projects/jhu152/naglemi/mwas/gwas/gwas_stat_scz | libd_chr2-chr2_all-libd_chr2-chr2_all-1580001-1600000-dynamic-1corestotal-allcorepera-caud-20240511-081603 | 20240511-081603 |\n",
       "| 199181824 | -34.50488 | 6.777038e-261 |  3 | 2 | all | caud | /expanse/lustre/projects/jhu152/naglemi/mwas/gwas/gwas_stat_scz | libd_chr2-chr2_all-libd_chr2-chr2_all-1580001-1600000-dynamic-1corestotal-allcorepera-caud-20240511-081603 | 20240511-081603 |\n",
       "| 199181946 | -31.56351 | 1.170030e-218 |  3 | 2 | all | caud | /expanse/lustre/projects/jhu152/naglemi/mwas/gwas/gwas_stat_scz | libd_chr2-chr2_all-libd_chr2-chr2_all-1580001-1600000-dynamic-1corestotal-allcorepera-caud-20240511-081603 | 20240511-081603 |\n",
       "| 199193382 |  31.65999 | 5.525509e-220 | 13 | 2 | all | caud | /expanse/lustre/projects/jhu152/naglemi/mwas/gwas/gwas_stat_scz | libd_chr2-chr2_all-libd_chr2-chr2_all-1580001-1600000-dynamic-1corestotal-allcorepera-caud-20240511-081603 | 20240511-081603 |\n",
       "| 199193831 |  36.79082 | 2.588360e-296 | 11 | 2 | all | caud | /expanse/lustre/projects/jhu152/naglemi/mwas/gwas/gwas_stat_scz | libd_chr2-chr2_all-libd_chr2-chr2_all-1580001-1600000-dynamic-1corestotal-allcorepera-caud-20240511-081603 | 20240511-081603 |\n",
       "| 199194004 |  32.16356 | 5.709213e-227 | 10 | 2 | all | caud | /expanse/lustre/projects/jhu152/naglemi/mwas/gwas/gwas_stat_scz | libd_chr2-chr2_all-libd_chr2-chr2_all-1580001-1600000-dynamic-1corestotal-allcorepera-caud-20240511-081603 | 20240511-081603 |\n",
       "| 199194040 |  36.35243 | 2.405338e-289 | 10 | 2 | all | caud | /expanse/lustre/projects/jhu152/naglemi/mwas/gwas/gwas_stat_scz | libd_chr2-chr2_all-libd_chr2-chr2_all-1580001-1600000-dynamic-1corestotal-allcorepera-caud-20240511-081603 | 20240511-081603 |\n",
       "| 200372584 |  37.62059 |  0.000000e+00 | 25 | 2 | all | caud | /expanse/lustre/projects/jhu152/naglemi/mwas/gwas/gwas_stat_scz | libd_chr2-chr2_all-libd_chr2-chr2_all-1580001-1600000-dynamic-1corestotal-allcorepera-caud-20240511-081603 | 20240511-081603 |\n",
       "| 232937467 |  31.45850 | 3.212275e-217 | 16 | 2 | all | caud | /expanse/lustre/projects/jhu152/naglemi/mwas/gwas/gwas_stat_scz | libd_chr2-chr2_all-libd_chr2-chr2_all-1860001-1880000-dynamic-1corestotal-allcorepera-caud-20240511-083025 | 20240511-083025 |\n",
       "| 232937483 |  31.65869 | 5.757800e-220 | 16 | 2 | all | caud | /expanse/lustre/projects/jhu152/naglemi/mwas/gwas/gwas_stat_scz | libd_chr2-chr2_all-libd_chr2-chr2_all-1860001-1880000-dynamic-1corestotal-allcorepera-caud-20240511-083025 | 20240511-083025 |\n",
       "| 232937666 |  37.34844 | 2.688052e-305 | 18 | 2 | all | caud | /expanse/lustre/projects/jhu152/naglemi/mwas/gwas/gwas_stat_scz | libd_chr2-chr2_all-libd_chr2-chr2_all-1860001-1880000-dynamic-1corestotal-allcorepera-caud-20240511-083025 | 20240511-083025 |\n",
       "| 232937846 |  44.89333 |  0.000000e+00 | 18 | 2 | all | caud | /expanse/lustre/projects/jhu152/naglemi/mwas/gwas/gwas_stat_scz | libd_chr2-chr2_all-libd_chr2-chr2_all-1860001-1880000-dynamic-1corestotal-allcorepera-caud-20240511-083025 | 20240511-083025 |\n",
       "| 232937924 |  49.04944 |  0.000000e+00 | 16 | 2 | all | caud | /expanse/lustre/projects/jhu152/naglemi/mwas/gwas/gwas_stat_scz | libd_chr2-chr2_all-libd_chr2-chr2_all-1860001-1880000-dynamic-1corestotal-allcorepera-caud-20240511-083025 | 20240511-083025 |\n",
       "| 232938152 |  55.93865 |  0.000000e+00 | 16 | 2 | all | caud | /expanse/lustre/projects/jhu152/naglemi/mwas/gwas/gwas_stat_scz | libd_chr2-chr2_all-libd_chr2-chr2_all-1860001-1880000-dynamic-1corestotal-allcorepera-caud-20240511-083025 | 20240511-083025 |\n",
       "| 232938344 |  46.01442 |  0.000000e+00 | 13 | 2 | all | caud | /expanse/lustre/projects/jhu152/naglemi/mwas/gwas/gwas_stat_scz | libd_chr2-chr2_all-libd_chr2-chr2_all-1860001-1880000-dynamic-1corestotal-allcorepera-caud-20240511-083025 | 20240511-083025 |\n",
       "| 232938363 |  45.67487 |  0.000000e+00 | 18 | 2 | all | caud | /expanse/lustre/projects/jhu152/naglemi/mwas/gwas/gwas_stat_scz | libd_chr2-chr2_all-libd_chr2-chr2_all-1860001-1880000-dynamic-1corestotal-allcorepera-caud-20240511-083025 | 20240511-083025 |\n",
       "| 232938396 |  40.90676 |  0.000000e+00 | 13 | 2 | all | caud | /expanse/lustre/projects/jhu152/naglemi/mwas/gwas/gwas_stat_scz | libd_chr2-chr2_all-libd_chr2-chr2_all-1860001-1880000-dynamic-1corestotal-allcorepera-caud-20240511-083025 | 20240511-083025 |\n",
       "| 232938412 |  41.24242 |  0.000000e+00 | 13 | 2 | all | caud | /expanse/lustre/projects/jhu152/naglemi/mwas/gwas/gwas_stat_scz | libd_chr2-chr2_all-libd_chr2-chr2_all-1860001-1880000-dynamic-1corestotal-allcorepera-caud-20240511-083025 | 20240511-083025 |\n",
       "| 232941586 | -39.13700 |  0.000000e+00 |  9 | 2 | all | caud | /expanse/lustre/projects/jhu152/naglemi/mwas/gwas/gwas_stat_scz | libd_chr2-chr2_all-libd_chr2-chr2_all-1860001-1880000-dynamic-1corestotal-allcorepera-caud-20240511-083025 | 20240511-083025 |\n",
       "| 232941590 | -38.61340 |  0.000000e+00 | 11 | 2 | all | caud | /expanse/lustre/projects/jhu152/naglemi/mwas/gwas/gwas_stat_scz | libd_chr2-chr2_all-libd_chr2-chr2_all-1860001-1880000-dynamic-1corestotal-allcorepera-caud-20240511-083025 | 20240511-083025 |\n",
       "\n"
      ],
      "text/plain": [
       "    pos       z         p             n  chr population region\n",
       "1    651107   -31.10433 2.104787e-212 46  2  all        caud  \n",
       "2   1988129   -33.45159 2.440211e-245  2  7  all        caud  \n",
       "3   1988133   -33.32656 1.592389e-243  2  7  all        caud  \n",
       "4   1988141   -31.93231 9.512265e-224  2  7  all        caud  \n",
       "5   2006943   -30.46161 8.407191e-204  4  7  all        caud  \n",
       "6   2007013   -35.11031 4.692392e-270  3  7  all        caud  \n",
       "7   2007144   -35.97829 1.828241e-283  5  7  all        caud  \n",
       "8   2007161   -33.88309 1.182130e-251  4  7  all        caud  \n",
       "9   2007164   -33.87557 1.525460e-251  4  7  all        caud  \n",
       "10  2007179   -36.59150 3.904758e-293  5  7  all        caud  \n",
       "11  2007186   -35.34475 1.207349e-273  4  7  all        caud  \n",
       "12  2007249   -34.42041 1.248469e-259  6  7  all        caud  \n",
       "13  2007271   -33.77839 4.096279e-250  6  7  all        caud  \n",
       "14  2007285   -37.80520  0.000000e+00  8  7  all        caud  \n",
       "15  2007290   -39.41279  0.000000e+00  8  7  all        caud  \n",
       "16  2007330   -37.04599 2.083558e-300  7  7  all        caud  \n",
       "17  2007343   -30.56116 4.018894e-205  7  7  all        caud  \n",
       "18  2007345   -33.74568 1.236913e-249  7  7  all        caud  \n",
       "19  2007355   -37.25896 7.586455e-304  7  7  all        caud  \n",
       "20  2253482    30.27819 2.220711e-201 13 17  all        caud  \n",
       "21  2253537    31.38834 2.918631e-216 13 17  all        caud  \n",
       "22  2266535    32.34243 1.772451e-229 12 17  all        caud  \n",
       "23  2283701    57.49509  0.000000e+00 29 17  all        caud  \n",
       "24  2286326    34.80663 1.930792e-265 31 17  all        caud  \n",
       "25  2286661    46.63316  0.000000e+00 33 17  all        caud  \n",
       "26  2286717    32.67174 3.936447e-234 36 17  all        caud  \n",
       "27  2286786    34.70698 6.183059e-264 31 17  all        caud  \n",
       "28  2286962    53.93361  0.000000e+00 35 17  all        caud  \n",
       "29  2286992    39.40832  0.000000e+00 33 17  all        caud  \n",
       "30  2287032    45.17940  0.000000e+00 35 17  all        caud  \n",
       "⋮   ⋮         ⋮         ⋮             ⋮  ⋮   ⋮          ⋮     \n",
       "354 197909745  45.96072  0.000000e+00 13 2   all        caud  \n",
       "355 197910015  43.42866  0.000000e+00 11 2   all        caud  \n",
       "356 197910251  39.81084  0.000000e+00 11 2   all        caud  \n",
       "357 197910449  33.80637 1.589949e-250 11 2   all        caud  \n",
       "358 197910670  44.51073  0.000000e+00 11 2   all        caud  \n",
       "359 197910818  39.85960  0.000000e+00 11 2   all        caud  \n",
       "360 197911113  41.06180  0.000000e+00 11 2   all        caud  \n",
       "361 197911176  40.88055  0.000000e+00 11 2   all        caud  \n",
       "362 199149462  58.19601  0.000000e+00  7 2   all        caud  \n",
       "363 199150087  55.54006  0.000000e+00 17 2   all        caud  \n",
       "364 199174428  32.62892 1.595729e-233 29 2   all        caud  \n",
       "365 199181824 -34.50488 6.777038e-261  3 2   all        caud  \n",
       "366 199181946 -31.56351 1.170030e-218  3 2   all        caud  \n",
       "367 199193382  31.65999 5.525509e-220 13 2   all        caud  \n",
       "368 199193831  36.79082 2.588360e-296 11 2   all        caud  \n",
       "369 199194004  32.16356 5.709213e-227 10 2   all        caud  \n",
       "370 199194040  36.35243 2.405338e-289 10 2   all        caud  \n",
       "371 200372584  37.62059  0.000000e+00 25 2   all        caud  \n",
       "372 232937467  31.45850 3.212275e-217 16 2   all        caud  \n",
       "373 232937483  31.65869 5.757800e-220 16 2   all        caud  \n",
       "374 232937666  37.34844 2.688052e-305 18 2   all        caud  \n",
       "375 232937846  44.89333  0.000000e+00 18 2   all        caud  \n",
       "376 232937924  49.04944  0.000000e+00 16 2   all        caud  \n",
       "377 232938152  55.93865  0.000000e+00 16 2   all        caud  \n",
       "378 232938344  46.01442  0.000000e+00 13 2   all        caud  \n",
       "379 232938363  45.67487  0.000000e+00 18 2   all        caud  \n",
       "380 232938396  40.90676  0.000000e+00 13 2   all        caud  \n",
       "381 232938412  41.24242  0.000000e+00 13 2   all        caud  \n",
       "382 232941586 -39.13700  0.000000e+00  9 2   all        caud  \n",
       "383 232941590 -38.61340  0.000000e+00 11 2   all        caud  \n",
       "    stats                                                          \n",
       "1   /expanse/lustre/projects/jhu152/naglemi/mwas/gwas/gwas_stat_scz\n",
       "2   /expanse/lustre/projects/jhu152/naglemi/mwas/gwas/gwas_stat_scz\n",
       "3   /expanse/lustre/projects/jhu152/naglemi/mwas/gwas/gwas_stat_scz\n",
       "4   /expanse/lustre/projects/jhu152/naglemi/mwas/gwas/gwas_stat_scz\n",
       "5   /expanse/lustre/projects/jhu152/naglemi/mwas/gwas/gwas_stat_scz\n",
       "6   /expanse/lustre/projects/jhu152/naglemi/mwas/gwas/gwas_stat_scz\n",
       "7   /expanse/lustre/projects/jhu152/naglemi/mwas/gwas/gwas_stat_scz\n",
       "8   /expanse/lustre/projects/jhu152/naglemi/mwas/gwas/gwas_stat_scz\n",
       "9   /expanse/lustre/projects/jhu152/naglemi/mwas/gwas/gwas_stat_scz\n",
       "10  /expanse/lustre/projects/jhu152/naglemi/mwas/gwas/gwas_stat_scz\n",
       "11  /expanse/lustre/projects/jhu152/naglemi/mwas/gwas/gwas_stat_scz\n",
       "12  /expanse/lustre/projects/jhu152/naglemi/mwas/gwas/gwas_stat_scz\n",
       "13  /expanse/lustre/projects/jhu152/naglemi/mwas/gwas/gwas_stat_scz\n",
       "14  /expanse/lustre/projects/jhu152/naglemi/mwas/gwas/gwas_stat_scz\n",
       "15  /expanse/lustre/projects/jhu152/naglemi/mwas/gwas/gwas_stat_scz\n",
       "16  /expanse/lustre/projects/jhu152/naglemi/mwas/gwas/gwas_stat_scz\n",
       "17  /expanse/lustre/projects/jhu152/naglemi/mwas/gwas/gwas_stat_scz\n",
       "18  /expanse/lustre/projects/jhu152/naglemi/mwas/gwas/gwas_stat_scz\n",
       "19  /expanse/lustre/projects/jhu152/naglemi/mwas/gwas/gwas_stat_scz\n",
       "20  /expanse/lustre/projects/jhu152/naglemi/mwas/gwas/gwas_stat_scz\n",
       "21  /expanse/lustre/projects/jhu152/naglemi/mwas/gwas/gwas_stat_scz\n",
       "22  /expanse/lustre/projects/jhu152/naglemi/mwas/gwas/gwas_stat_scz\n",
       "23  /expanse/lustre/projects/jhu152/naglemi/mwas/gwas/gwas_stat_scz\n",
       "24  /expanse/lustre/projects/jhu152/naglemi/mwas/gwas/gwas_stat_scz\n",
       "25  /expanse/lustre/projects/jhu152/naglemi/mwas/gwas/gwas_stat_scz\n",
       "26  /expanse/lustre/projects/jhu152/naglemi/mwas/gwas/gwas_stat_scz\n",
       "27  /expanse/lustre/projects/jhu152/naglemi/mwas/gwas/gwas_stat_scz\n",
       "28  /expanse/lustre/projects/jhu152/naglemi/mwas/gwas/gwas_stat_scz\n",
       "29  /expanse/lustre/projects/jhu152/naglemi/mwas/gwas/gwas_stat_scz\n",
       "30  /expanse/lustre/projects/jhu152/naglemi/mwas/gwas/gwas_stat_scz\n",
       "⋮   ⋮                                                              \n",
       "354 /expanse/lustre/projects/jhu152/naglemi/mwas/gwas/gwas_stat_scz\n",
       "355 /expanse/lustre/projects/jhu152/naglemi/mwas/gwas/gwas_stat_scz\n",
       "356 /expanse/lustre/projects/jhu152/naglemi/mwas/gwas/gwas_stat_scz\n",
       "357 /expanse/lustre/projects/jhu152/naglemi/mwas/gwas/gwas_stat_scz\n",
       "358 /expanse/lustre/projects/jhu152/naglemi/mwas/gwas/gwas_stat_scz\n",
       "359 /expanse/lustre/projects/jhu152/naglemi/mwas/gwas/gwas_stat_scz\n",
       "360 /expanse/lustre/projects/jhu152/naglemi/mwas/gwas/gwas_stat_scz\n",
       "361 /expanse/lustre/projects/jhu152/naglemi/mwas/gwas/gwas_stat_scz\n",
       "362 /expanse/lustre/projects/jhu152/naglemi/mwas/gwas/gwas_stat_scz\n",
       "363 /expanse/lustre/projects/jhu152/naglemi/mwas/gwas/gwas_stat_scz\n",
       "364 /expanse/lustre/projects/jhu152/naglemi/mwas/gwas/gwas_stat_scz\n",
       "365 /expanse/lustre/projects/jhu152/naglemi/mwas/gwas/gwas_stat_scz\n",
       "366 /expanse/lustre/projects/jhu152/naglemi/mwas/gwas/gwas_stat_scz\n",
       "367 /expanse/lustre/projects/jhu152/naglemi/mwas/gwas/gwas_stat_scz\n",
       "368 /expanse/lustre/projects/jhu152/naglemi/mwas/gwas/gwas_stat_scz\n",
       "369 /expanse/lustre/projects/jhu152/naglemi/mwas/gwas/gwas_stat_scz\n",
       "370 /expanse/lustre/projects/jhu152/naglemi/mwas/gwas/gwas_stat_scz\n",
       "371 /expanse/lustre/projects/jhu152/naglemi/mwas/gwas/gwas_stat_scz\n",
       "372 /expanse/lustre/projects/jhu152/naglemi/mwas/gwas/gwas_stat_scz\n",
       "373 /expanse/lustre/projects/jhu152/naglemi/mwas/gwas/gwas_stat_scz\n",
       "374 /expanse/lustre/projects/jhu152/naglemi/mwas/gwas/gwas_stat_scz\n",
       "375 /expanse/lustre/projects/jhu152/naglemi/mwas/gwas/gwas_stat_scz\n",
       "376 /expanse/lustre/projects/jhu152/naglemi/mwas/gwas/gwas_stat_scz\n",
       "377 /expanse/lustre/projects/jhu152/naglemi/mwas/gwas/gwas_stat_scz\n",
       "378 /expanse/lustre/projects/jhu152/naglemi/mwas/gwas/gwas_stat_scz\n",
       "379 /expanse/lustre/projects/jhu152/naglemi/mwas/gwas/gwas_stat_scz\n",
       "380 /expanse/lustre/projects/jhu152/naglemi/mwas/gwas/gwas_stat_scz\n",
       "381 /expanse/lustre/projects/jhu152/naglemi/mwas/gwas/gwas_stat_scz\n",
       "382 /expanse/lustre/projects/jhu152/naglemi/mwas/gwas/gwas_stat_scz\n",
       "383 /expanse/lustre/projects/jhu152/naglemi/mwas/gwas/gwas_stat_scz\n",
       "    scaff                                                                                                     \n",
       "1   libd_chr2-chr2_all-libd_chr2-chr2_all-1-20000-dynamic-1corestotal-allcorepera-caud-20240511-065518        \n",
       "2   libd_chr7-chr7_all-libd_chr7-chr7_all-40001-60000-dynamic-1corestotal-allcorepera-20240422-130351         \n",
       "3   libd_chr7-chr7_all-libd_chr7-chr7_all-40001-60000-dynamic-1corestotal-allcorepera-20240422-130351         \n",
       "4   libd_chr7-chr7_all-libd_chr7-chr7_all-40001-60000-dynamic-1corestotal-allcorepera-20240422-130351         \n",
       "5   libd_chr7-chr7_all-libd_chr7-chr7_all-40001-60000-dynamic-1corestotal-allcorepera-20240422-130351         \n",
       "6   libd_chr7-chr7_all-libd_chr7-chr7_all-40001-60000-dynamic-1corestotal-allcorepera-20240422-130351         \n",
       "7   libd_chr7-chr7_all-libd_chr7-chr7_all-40001-60000-dynamic-1corestotal-allcorepera-20240422-130351         \n",
       "8   libd_chr7-chr7_all-libd_chr7-chr7_all-40001-60000-dynamic-1corestotal-allcorepera-20240422-130351         \n",
       "9   libd_chr7-chr7_all-libd_chr7-chr7_all-40001-60000-dynamic-1corestotal-allcorepera-20240422-130351         \n",
       "10  libd_chr7-chr7_all-libd_chr7-chr7_all-40001-60000-dynamic-1corestotal-allcorepera-20240422-130351         \n",
       "11  libd_chr7-chr7_all-libd_chr7-chr7_all-40001-60000-dynamic-1corestotal-allcorepera-20240422-130351         \n",
       "12  libd_chr7-chr7_all-libd_chr7-chr7_all-40001-60000-dynamic-1corestotal-allcorepera-20240422-130351         \n",
       "13  libd_chr7-chr7_all-libd_chr7-chr7_all-40001-60000-dynamic-1corestotal-allcorepera-20240422-130351         \n",
       "14  libd_chr7-chr7_all-libd_chr7-chr7_all-40001-60000-dynamic-1corestotal-allcorepera-20240422-130351         \n",
       "15  libd_chr7-chr7_all-libd_chr7-chr7_all-40001-60000-dynamic-1corestotal-allcorepera-20240422-130351         \n",
       "16  libd_chr7-chr7_all-libd_chr7-chr7_all-40001-60000-dynamic-1corestotal-allcorepera-20240422-130351         \n",
       "17  libd_chr7-chr7_all-libd_chr7-chr7_all-40001-60000-dynamic-1corestotal-allcorepera-20240422-130351         \n",
       "18  libd_chr7-chr7_all-libd_chr7-chr7_all-40001-60000-dynamic-1corestotal-allcorepera-20240422-130351         \n",
       "19  libd_chr7-chr7_all-libd_chr7-chr7_all-40001-60000-dynamic-1corestotal-allcorepera-20240422-130351         \n",
       "20  libd_chr17-chr17_all-libd_chr17-chr17_all-41513-61512-dynamic-1corestotal-allcorepera-20240523-095546     \n",
       "21  libd_chr17-chr17_all-libd_chr17-chr17_all-41513-61512-dynamic-1corestotal-allcorepera-20240523-095546     \n",
       "22  libd_chr17-chr17_all-libd_chr17-chr17_all-41513-61512-dynamic-1corestotal-allcorepera-20240523-095546     \n",
       "23  libd_chr17-chr17_all-libd_chr17-chr17_all-41513-61512-dynamic-1corestotal-allcorepera-20240523-095546     \n",
       "24  libd_chr17-chr17_all-libd_chr17-chr17_all-41513-61512-dynamic-1corestotal-allcorepera-20240523-095546     \n",
       "25  libd_chr17-chr17_all-libd_chr17-chr17_all-41513-61512-dynamic-1corestotal-allcorepera-20240523-095546     \n",
       "26  libd_chr17-chr17_all-libd_chr17-chr17_all-41513-61512-dynamic-1corestotal-allcorepera-20240523-095546     \n",
       "27  libd_chr17-chr17_all-libd_chr17-chr17_all-41513-61512-dynamic-1corestotal-allcorepera-20240523-095546     \n",
       "28  libd_chr17-chr17_all-libd_chr17-chr17_all-41513-61512-dynamic-1corestotal-allcorepera-20240523-095546     \n",
       "29  libd_chr17-chr17_all-libd_chr17-chr17_all-41513-61512-dynamic-1corestotal-allcorepera-20240523-095546     \n",
       "30  libd_chr17-chr17_all-libd_chr17-chr17_all-41513-61512-dynamic-1corestotal-allcorepera-20240523-095546     \n",
       "⋮   ⋮                                                                                                         \n",
       "354 libd_chr2-chr2_all-libd_chr2-chr2_all-1560001-1580000-dynamic-1corestotal-allcorepera-caud-20240511-081500\n",
       "355 libd_chr2-chr2_all-libd_chr2-chr2_all-1560001-1580000-dynamic-1corestotal-allcorepera-caud-20240511-081500\n",
       "356 libd_chr2-chr2_all-libd_chr2-chr2_all-1560001-1580000-dynamic-1corestotal-allcorepera-caud-20240511-081500\n",
       "357 libd_chr2-chr2_all-libd_chr2-chr2_all-1560001-1580000-dynamic-1corestotal-allcorepera-caud-20240511-081500\n",
       "358 libd_chr2-chr2_all-libd_chr2-chr2_all-1560001-1580000-dynamic-1corestotal-allcorepera-caud-20240511-081500\n",
       "359 libd_chr2-chr2_all-libd_chr2-chr2_all-1560001-1580000-dynamic-1corestotal-allcorepera-caud-20240511-081500\n",
       "360 libd_chr2-chr2_all-libd_chr2-chr2_all-1560001-1580000-dynamic-1corestotal-allcorepera-caud-20240511-081500\n",
       "361 libd_chr2-chr2_all-libd_chr2-chr2_all-1560001-1580000-dynamic-1corestotal-allcorepera-caud-20240511-081500\n",
       "362 libd_chr2-chr2_all-libd_chr2-chr2_all-1580001-1600000-dynamic-1corestotal-allcorepera-caud-20240511-081603\n",
       "363 libd_chr2-chr2_all-libd_chr2-chr2_all-1580001-1600000-dynamic-1corestotal-allcorepera-caud-20240511-081603\n",
       "364 libd_chr2-chr2_all-libd_chr2-chr2_all-1580001-1600000-dynamic-1corestotal-allcorepera-caud-20240511-081603\n",
       "365 libd_chr2-chr2_all-libd_chr2-chr2_all-1580001-1600000-dynamic-1corestotal-allcorepera-caud-20240511-081603\n",
       "366 libd_chr2-chr2_all-libd_chr2-chr2_all-1580001-1600000-dynamic-1corestotal-allcorepera-caud-20240511-081603\n",
       "367 libd_chr2-chr2_all-libd_chr2-chr2_all-1580001-1600000-dynamic-1corestotal-allcorepera-caud-20240511-081603\n",
       "368 libd_chr2-chr2_all-libd_chr2-chr2_all-1580001-1600000-dynamic-1corestotal-allcorepera-caud-20240511-081603\n",
       "369 libd_chr2-chr2_all-libd_chr2-chr2_all-1580001-1600000-dynamic-1corestotal-allcorepera-caud-20240511-081603\n",
       "370 libd_chr2-chr2_all-libd_chr2-chr2_all-1580001-1600000-dynamic-1corestotal-allcorepera-caud-20240511-081603\n",
       "371 libd_chr2-chr2_all-libd_chr2-chr2_all-1580001-1600000-dynamic-1corestotal-allcorepera-caud-20240511-081603\n",
       "372 libd_chr2-chr2_all-libd_chr2-chr2_all-1860001-1880000-dynamic-1corestotal-allcorepera-caud-20240511-083025\n",
       "373 libd_chr2-chr2_all-libd_chr2-chr2_all-1860001-1880000-dynamic-1corestotal-allcorepera-caud-20240511-083025\n",
       "374 libd_chr2-chr2_all-libd_chr2-chr2_all-1860001-1880000-dynamic-1corestotal-allcorepera-caud-20240511-083025\n",
       "375 libd_chr2-chr2_all-libd_chr2-chr2_all-1860001-1880000-dynamic-1corestotal-allcorepera-caud-20240511-083025\n",
       "376 libd_chr2-chr2_all-libd_chr2-chr2_all-1860001-1880000-dynamic-1corestotal-allcorepera-caud-20240511-083025\n",
       "377 libd_chr2-chr2_all-libd_chr2-chr2_all-1860001-1880000-dynamic-1corestotal-allcorepera-caud-20240511-083025\n",
       "378 libd_chr2-chr2_all-libd_chr2-chr2_all-1860001-1880000-dynamic-1corestotal-allcorepera-caud-20240511-083025\n",
       "379 libd_chr2-chr2_all-libd_chr2-chr2_all-1860001-1880000-dynamic-1corestotal-allcorepera-caud-20240511-083025\n",
       "380 libd_chr2-chr2_all-libd_chr2-chr2_all-1860001-1880000-dynamic-1corestotal-allcorepera-caud-20240511-083025\n",
       "381 libd_chr2-chr2_all-libd_chr2-chr2_all-1860001-1880000-dynamic-1corestotal-allcorepera-caud-20240511-083025\n",
       "382 libd_chr2-chr2_all-libd_chr2-chr2_all-1860001-1880000-dynamic-1corestotal-allcorepera-caud-20240511-083025\n",
       "383 libd_chr2-chr2_all-libd_chr2-chr2_all-1860001-1880000-dynamic-1corestotal-allcorepera-caud-20240511-083025\n",
       "    timestamp      \n",
       "1   20240511-065518\n",
       "2   20240422-130351\n",
       "3   20240422-130351\n",
       "4   20240422-130351\n",
       "5   20240422-130351\n",
       "6   20240422-130351\n",
       "7   20240422-130351\n",
       "8   20240422-130351\n",
       "9   20240422-130351\n",
       "10  20240422-130351\n",
       "11  20240422-130351\n",
       "12  20240422-130351\n",
       "13  20240422-130351\n",
       "14  20240422-130351\n",
       "15  20240422-130351\n",
       "16  20240422-130351\n",
       "17  20240422-130351\n",
       "18  20240422-130351\n",
       "19  20240422-130351\n",
       "20  20240523-095546\n",
       "21  20240523-095546\n",
       "22  20240523-095546\n",
       "23  20240523-095546\n",
       "24  20240523-095546\n",
       "25  20240523-095546\n",
       "26  20240523-095546\n",
       "27  20240523-095546\n",
       "28  20240523-095546\n",
       "29  20240523-095546\n",
       "30  20240523-095546\n",
       "⋮   ⋮              \n",
       "354 20240511-081500\n",
       "355 20240511-081500\n",
       "356 20240511-081500\n",
       "357 20240511-081500\n",
       "358 20240511-081500\n",
       "359 20240511-081500\n",
       "360 20240511-081500\n",
       "361 20240511-081500\n",
       "362 20240511-081603\n",
       "363 20240511-081603\n",
       "364 20240511-081603\n",
       "365 20240511-081603\n",
       "366 20240511-081603\n",
       "367 20240511-081603\n",
       "368 20240511-081603\n",
       "369 20240511-081603\n",
       "370 20240511-081603\n",
       "371 20240511-081603\n",
       "372 20240511-083025\n",
       "373 20240511-083025\n",
       "374 20240511-083025\n",
       "375 20240511-083025\n",
       "376 20240511-083025\n",
       "377 20240511-083025\n",
       "378 20240511-083025\n",
       "379 20240511-083025\n",
       "380 20240511-083025\n",
       "381 20240511-083025\n",
       "382 20240511-083025\n",
       "383 20240511-083025"
      ]
     },
     "metadata": {},
     "output_type": "display_data"
    }
   ],
   "source": [
    "smallerdata"
   ]
  },
  {
   "cell_type": "code",
   "execution_count": 13,
   "id": "c0bd396e-999b-4e91-9e81-ea5c436e2986",
   "metadata": {},
   "outputs": [
    {
     "data": {
      "text/html": [
       "<ol>\n",
       "\t<li>73244297</li>\n",
       "\t<li>73244437</li>\n",
       "\t<li>73244564</li>\n",
       "\t<li>73274305</li>\n",
       "\t<li>73274312</li>\n",
       "\t<li>73292330</li>\n",
       "\t<li>73307769</li>\n",
       "\t<li>73308571</li>\n",
       "\t<li>73419188</li>\n",
       "\t<li>73419830</li>\n",
       "\t<li>73420076</li>\n",
       "</ol>\n"
      ],
      "text/latex": [
       "\\begin{enumerate}\n",
       "\\item 73244297\n",
       "\\item 73244437\n",
       "\\item 73244564\n",
       "\\item 73274305\n",
       "\\item 73274312\n",
       "\\item 73292330\n",
       "\\item 73307769\n",
       "\\item 73308571\n",
       "\\item 73419188\n",
       "\\item 73419830\n",
       "\\item 73420076\n",
       "\\end{enumerate}\n"
      ],
      "text/markdown": [
       "1. 73244297\n",
       "2. 73244437\n",
       "3. 73244564\n",
       "4. 73274305\n",
       "5. 73274312\n",
       "6. 73292330\n",
       "7. 73307769\n",
       "8. 73308571\n",
       "9. 73419188\n",
       "10. 73419830\n",
       "11. 73420076\n",
       "\n",
       "\n"
      ],
      "text/plain": [
       "[[1]]\n",
       "[1] 73244297\n",
       "\n",
       "[[2]]\n",
       "[1] 73244437\n",
       "\n",
       "[[3]]\n",
       "[1] 73244564\n",
       "\n",
       "[[4]]\n",
       "[1] 73274305\n",
       "\n",
       "[[5]]\n",
       "[1] 73274312\n",
       "\n",
       "[[6]]\n",
       "[1] 73292330\n",
       "\n",
       "[[7]]\n",
       "[1] 73307769\n",
       "\n",
       "[[8]]\n",
       "[1] 73308571\n",
       "\n",
       "[[9]]\n",
       "[1] 73419188\n",
       "\n",
       "[[10]]\n",
       "[1] 73419830\n",
       "\n",
       "[[11]]\n",
       "[1] 73420076\n"
      ]
     },
     "metadata": {},
     "output_type": "display_data"
    }
   ],
   "source": [
    "desired_methylation_positions"
   ]
  },
  {
   "cell_type": "code",
   "execution_count": 14,
   "id": "89aaf12e-8c0f-4667-b909-0bd19db4ed88",
   "metadata": {},
   "outputs": [
    {
     "data": {
      "text/html": [
       "<ol>\n",
       "\t<li>2.11745906319317e-222</li>\n",
       "\t<li>6.6942504470699e-217</li>\n",
       "\t<li>2.28428816300216e-204</li>\n",
       "\t<li>0</li>\n",
       "\t<li>0</li>\n",
       "\t<li>0</li>\n",
       "\t<li>1.89980661638239e-213</li>\n",
       "\t<li>0</li>\n",
       "\t<li>2.99020280126401e-290</li>\n",
       "\t<li>2.00920466795179e-254</li>\n",
       "\t<li>7.4336580750095e-216</li>\n",
       "</ol>\n"
      ],
      "text/latex": [
       "\\begin{enumerate}\n",
       "\\item 2.11745906319317e-222\n",
       "\\item 6.6942504470699e-217\n",
       "\\item 2.28428816300216e-204\n",
       "\\item 0\n",
       "\\item 0\n",
       "\\item 0\n",
       "\\item 1.89980661638239e-213\n",
       "\\item 0\n",
       "\\item 2.99020280126401e-290\n",
       "\\item 2.00920466795179e-254\n",
       "\\item 7.4336580750095e-216\n",
       "\\end{enumerate}\n"
      ],
      "text/markdown": [
       "1. 2.11745906319317e-222\n",
       "2. 6.6942504470699e-217\n",
       "3. 2.28428816300216e-204\n",
       "4. 0\n",
       "5. 0\n",
       "6. 0\n",
       "7. 1.89980661638239e-213\n",
       "8. 0\n",
       "9. 2.99020280126401e-290\n",
       "10. 2.00920466795179e-254\n",
       "11. 7.4336580750095e-216\n",
       "\n",
       "\n"
      ],
      "text/plain": [
       "[[1]]\n",
       "[1] 2.117459e-222\n",
       "\n",
       "[[2]]\n",
       "[1] 6.69425e-217\n",
       "\n",
       "[[3]]\n",
       "[1] 2.284288e-204\n",
       "\n",
       "[[4]]\n",
       "[1] 0\n",
       "\n",
       "[[5]]\n",
       "[1] 0\n",
       "\n",
       "[[6]]\n",
       "[1] 0\n",
       "\n",
       "[[7]]\n",
       "[1] 1.899807e-213\n",
       "\n",
       "[[8]]\n",
       "[1] 0\n",
       "\n",
       "[[9]]\n",
       "[1] 2.990203e-290\n",
       "\n",
       "[[10]]\n",
       "[1] 2.009205e-254\n",
       "\n",
       "[[11]]\n",
       "[1] 7.433658e-216\n"
      ]
     },
     "metadata": {},
     "output_type": "display_data"
    }
   ],
   "source": [
    "desired_snp_pvals"
   ]
  },
  {
   "cell_type": "code",
   "execution_count": null,
   "id": "279bda31-ea31-488d-851d-e9d5ab36cd95",
   "metadata": {},
   "outputs": [],
   "source": [
    "# Combine all elements into a single data.table\n",
    "df <- data.table(\n",
    "  methylation_position = rep(desired_methylation_positions, lengths(desired_snp_weights_list_of_lists)),\n",
    "  pval_mwas_stage2 = rep(desired_snp_pvals, lengths(desired_snp_weights_list_of_lists)),\n",
    "  contributing_snp_name = unlist(lapply(desired_snp_weights_list_of_lists, function(x) sapply(strsplit(names(x), \":\"), function(y) paste(y[1:4], collapse=\":\")))),\n",
    "  contributing_snp_weight_mwas_stage1_prediction = unlist(desired_snp_weights_list_of_lists)\n",
    ")\n"
   ]
  },
  {
   "cell_type": "code",
   "execution_count": null,
   "id": "54bc5f06-0478-4baf-994e-80bac9a4e2c0",
   "metadata": {},
   "outputs": [],
   "source": [
    "library(stringr)"
   ]
  },
  {
   "cell_type": "code",
   "execution_count": null,
   "id": "4db2ee61-144e-46ce-836f-2a35d8b59241",
   "metadata": {},
   "outputs": [],
   "source": [
    "df$contributing_snp_pos <- as.numeric(str_split_fixed(df$contributing_snp_name, \":\", 3)[, 2])"
   ]
  },
  {
   "cell_type": "code",
   "execution_count": null,
   "id": "c4b5bc76-1a1a-484c-b1bc-d0947fc87990",
   "metadata": {},
   "outputs": [],
   "source": [
    "head(df)"
   ]
  },
  {
   "cell_type": "markdown",
   "id": "e8570190-df56-413a-9978-48e6fb2d5c7b",
   "metadata": {},
   "source": [
    "### What are the summary stat weights and SE for the same SNPs?"
   ]
  },
  {
   "cell_type": "code",
   "execution_count": null,
   "id": "4a2d135c-2249-4d5b-b379-8ef08a4c1497",
   "metadata": {},
   "outputs": [],
   "source": [
    "library(data.table)"
   ]
  },
  {
   "cell_type": "code",
   "execution_count": null,
   "id": "2988e378-a11c-4e60-ae30-b4cd3f92e01a",
   "metadata": {},
   "outputs": [],
   "source": [
    "ss_path <- \"/home/naglemi/mwas/gwas/gwas_stat_scz\""
   ]
  },
  {
   "cell_type": "code",
   "execution_count": null,
   "id": "8c39cbc2-4be8-4fc6-b2ab-b77743fce29c",
   "metadata": {},
   "outputs": [],
   "source": [
    "snp.gwas2 <- fread(ss_path, skip = 1, header = FALSE)\n",
    "colnames(snp.gwas2) <- strsplit(readLines(ss_path, n = 1), \"\\t\")[[1]]"
   ]
  },
  {
   "cell_type": "code",
   "execution_count": null,
   "id": "99471fee-32cd-43d2-92f8-74a89a088198",
   "metadata": {},
   "outputs": [],
   "source": [
    "snp.gwas2 <- snp.gwas2[which(snp.gwas2$CHR == 1), ]"
   ]
  },
  {
   "cell_type": "code",
   "execution_count": null,
   "id": "2a044b24-4122-41cc-a841-5ce1555565f8",
   "metadata": {},
   "outputs": [],
   "source": [
    "colnames(snp.gwas2) <- paste0(\"ss_\", colnames(snp.gwas2))"
   ]
  },
  {
   "cell_type": "code",
   "execution_count": null,
   "id": "55152bc6-108b-4092-ad61-23055144bac7",
   "metadata": {},
   "outputs": [],
   "source": [
    "colnames(snp.gwas2)[which(colnames(snp.gwas2)  == \"ss_BP\")] <- \"contributing_snp_pos\""
   ]
  },
  {
   "cell_type": "code",
   "execution_count": null,
   "id": "201ead01-9769-4663-8495-f08f7fb998af",
   "metadata": {},
   "outputs": [],
   "source": [
    "merged <- merge(df, snp.gwas2, by = \"contributing_snp_pos\")"
   ]
  },
  {
   "cell_type": "code",
   "execution_count": null,
   "id": "db9a0dea-4738-4c93-9ce2-64516cd89b72",
   "metadata": {},
   "outputs": [],
   "source": [
    "# make sure we have same allele orientation in both. TRUE if so.\n",
    "merged$contributing_snp_name_verified <- paste0(\"chr1:\",\n",
    "                                                merged$contributing_snp_pos,\n",
    "                                                \":\",\n",
    "                                                merged$ss_A1,\n",
    "                                                \":\",\n",
    "                                                merged$ss_A2)\n",
    "\n",
    "all(merged$contributing_snp_name_verified == merged$contributing_snp_name)"
   ]
  },
  {
   "cell_type": "code",
   "execution_count": null,
   "id": "33319823-1209-4b22-b017-9473ba4c73a5",
   "metadata": {},
   "outputs": [],
   "source": [
    "# should all be unique\n",
    "contributing_snp_pos_methylation_position_combo <- paste0(merged$contributing_snp_pos,\n",
    "                                                          \"_\",\n",
    "                                                          merged$methylation_position)\n",
    "length(contributing_snp_pos_methylation_position_combo) == length(unique(contributing_snp_pos_methylation_position_combo))"
   ]
  },
  {
   "cell_type": "code",
   "execution_count": null,
   "id": "c060ac4f-6a93-4c6e-aa89-eb0551064a7c",
   "metadata": {},
   "outputs": [],
   "source": [
    "view_cols <- c(\"contributing_snp_pos\", \"contributing_snp_name\", \"contributing_snp_name_verified\", \"ss_CHR\", \"ss_SNP\", \"ss_A1\", \"ss_A2\")\n",
    "#merged[, ..view_cols]\n"
   ]
  },
  {
   "cell_type": "markdown",
   "id": "f25d57c3-7a5c-42e1-b44f-5b58452f7452",
   "metadata": {},
   "source": [
    "### Recompute the stage 2 result"
   ]
  },
  {
   "cell_type": "markdown",
   "id": "fbbc31d6-4885-4fac-9763-3a6aaf228fd0",
   "metadata": {},
   "source": [
    "### First we need the SNP data"
   ]
  },
  {
   "cell_type": "markdown",
   "id": "b2dbd210-6449-4077-9eac-71d785e4c976",
   "metadata": {},
   "source": [
    "#### Load all SNP data"
   ]
  },
  {
   "cell_type": "code",
   "execution_count": null,
   "id": "2c346ae9-639a-4e9b-be83-fea42ad37091",
   "metadata": {},
   "outputs": [],
   "source": [
    "library(CpGWAS)"
   ]
  },
  {
   "cell_type": "code",
   "execution_count": null,
   "id": "708128d0-302c-4c8c-a74d-1fc2fab74748",
   "metadata": {},
   "outputs": [],
   "source": []
  },
  {
   "cell_type": "code",
   "execution_count": null,
   "id": "c6cd51a4-e3b4-4c7c-96aa-5c8e4192209f",
   "metadata": {},
   "outputs": [],
   "source": [
    "paths <- list(pvar_path = \"/expanse/lustre/projects/jhu152/naglemi/mwas/gwas/ref_EUR_chr1.pvar\",\n",
    "              pgen_path = \"/expanse/lustre/projects/jhu152/naglemi/mwas/gwas/ref_EUR_chr1.pgen\",\n",
    "              psam_path = \"/expanse/lustre/projects/jhu152/naglemi/mwas/gwas/ref_EUR_chr1.psam\")\n",
    "\n",
    "my_SNPs <- loadSNPData(paths$pvar_path, paths$pgen_path, paths$psam_path)"
   ]
  },
  {
   "cell_type": "markdown",
   "id": "153f788d-e300-42d0-8dfd-7e4108362843",
   "metadata": {},
   "source": [
    "Now let's practice subsetting the SNP data to get the ones we want and need for a given methylation site"
   ]
  },
  {
   "cell_type": "markdown",
   "id": "fcfbd757-82ff-44cd-9f0c-a39b84a6ce7b",
   "metadata": {},
   "source": [
    "#### Get the SNP data for specific SNPs contributing to methylation site"
   ]
  },
  {
   "cell_type": "markdown",
   "id": "a916c58b-800e-495a-aa60-b7873da2e72a",
   "metadata": {},
   "source": [
    "##### What are those SNPs?"
   ]
  },
  {
   "cell_type": "code",
   "execution_count": null,
   "id": "8b344fef-3ea2-4882-b2af-498645d1af8c",
   "metadata": {},
   "outputs": [],
   "source": [
    "library(pgenlibr)"
   ]
  },
  {
   "cell_type": "code",
   "execution_count": null,
   "id": "35b614cc-de0f-4b61-8db6-f8a041ed0ac1",
   "metadata": {},
   "outputs": [],
   "source": [
    "i <- 1"
   ]
  },
  {
   "cell_type": "code",
   "execution_count": null,
   "id": "f7eec167-49f8-47ea-aa5a-b87f1963a5fd",
   "metadata": {},
   "outputs": [],
   "source": [
    "this_desired_methylation_position <- unlist(desired_methylation_positions[i])"
   ]
  },
  {
   "cell_type": "code",
   "execution_count": null,
   "id": "920a2e59-1210-4778-ba42-969052b21c0c",
   "metadata": {},
   "outputs": [],
   "source": [
    "this_desired_methylation_position"
   ]
  },
  {
   "cell_type": "code",
   "execution_count": null,
   "id": "6455e74d-df42-4fa1-a8ca-27028f5581f1",
   "metadata": {},
   "outputs": [],
   "source": [
    "typeof(merged$methylation_position)\n",
    "typeof(this_desired_methylation_position)"
   ]
  },
  {
   "cell_type": "code",
   "execution_count": null,
   "id": "ad734f6c-adea-4e7e-b78b-d39bd15e62cf",
   "metadata": {},
   "outputs": [],
   "source": [
    "merged_this_methylation_position <- merged[methylation_position == this_desired_methylation_position, ]"
   ]
  },
  {
   "cell_type": "code",
   "execution_count": null,
   "id": "307958c7-d9d6-4578-9279-614f911eeaef",
   "metadata": {},
   "outputs": [],
   "source": [
    "snp_indices_of_interest <- which(my_SNPs$pvar_dt$POS %in% merged_this_methylation_position$contributing_snp_pos)"
   ]
  },
  {
   "cell_type": "markdown",
   "id": "c1fb1e40-dfd7-4b03-b1a0-b39ae0428fb3",
   "metadata": {},
   "source": [
    "##### Extract and format the SNPs"
   ]
  },
  {
   "cell_type": "code",
   "execution_count": null,
   "id": "cbff419f-3235-4d4b-9c11-b2aef73a22c5",
   "metadata": {},
   "outputs": [],
   "source": [
    "G <- pgenlibr::ReadList(my_SNPs$pgen,\n",
    "                        variant_subset = snp_indices_of_interest)"
   ]
  },
  {
   "cell_type": "code",
   "execution_count": null,
   "id": "d97bfd46-1207-4f1f-a83f-39cc0543c9b6",
   "metadata": {},
   "outputs": [],
   "source": [
    "dim(G)"
   ]
  },
  {
   "cell_type": "code",
   "execution_count": null,
   "id": "86c69932-3900-4f49-a5d1-f68774e8c4a1",
   "metadata": {},
   "outputs": [],
   "source": []
  },
  {
   "cell_type": "code",
   "execution_count": null,
   "id": "9c8263a3-00b3-446b-8646-e35034425c1f",
   "metadata": {},
   "outputs": [],
   "source": [
    "colnames(G) <- my_SNPs$pvar_dt$ID[snp_indices_of_interest]\n",
    "rownames(G) <- my_SNPs$psam$IID"
   ]
  },
  {
   "cell_type": "code",
   "execution_count": null,
   "id": "bfa9969d-e114-4501-8fc2-c5450c5fa74a",
   "metadata": {},
   "outputs": [],
   "source": [
    "dim(G)"
   ]
  },
  {
   "cell_type": "code",
   "execution_count": null,
   "id": "e8661cc6-5c66-46e7-896d-5e609fa5b99e",
   "metadata": {},
   "outputs": [],
   "source": [
    "G"
   ]
  },
  {
   "cell_type": "markdown",
   "id": "0a5aab81-048f-4052-8f61-7a3f2c720a61",
   "metadata": {},
   "source": [
    "### stage 2 MWAS"
   ]
  },
  {
   "cell_type": "code",
   "execution_count": null,
   "id": "dc3fdba9-3c84-4d62-8faf-b81d4fe37b73",
   "metadata": {},
   "outputs": [],
   "source": [
    "merged_this_methylation_position$logOR <- log(merged_this_methylation_position$ss_OR)\n",
    "# merged_this_methylation_position$SElogOR <- merged_this_methylation_position$ss_SE / merged_this_methylation_position$ss_OR\n",
    "\n",
    "# wrong way to compute it - no actually right\n",
    "merged_this_methylation_position$z <- merged_this_methylation_position$logOR / merged_this_methylation_position$ss_SE\n",
    "\n",
    "# The (right?) way to compute it? - no wrong\n",
    "# merged_this_methylation_position$z <- merged_this_methylation_position$logOR / merged_this_methylation_position$SElogOR"
   ]
  },
  {
   "cell_type": "code",
   "execution_count": null,
   "id": "5e917f98-db4f-4d1d-a16c-af82d7685f41",
   "metadata": {},
   "outputs": [],
   "source": []
  },
  {
   "cell_type": "code",
   "execution_count": null,
   "id": "9f375504-953f-46ad-b6e3-fa150d7a61a7",
   "metadata": {},
   "outputs": [],
   "source": [
    "merged_this_methylation_position$ss_SE"
   ]
  },
  {
   "cell_type": "code",
   "execution_count": null,
   "id": "4fc72ca9-0f18-4616-bcb3-e179cc5df3d5",
   "metadata": {},
   "outputs": [],
   "source": [
    "merged_this_methylation_position"
   ]
  },
  {
   "cell_type": "code",
   "execution_count": null,
   "id": "5c9dc669-fb1f-4b1a-9964-9d545b22b413",
   "metadata": {},
   "outputs": [],
   "source": [
    "merged_this_methylation_position$ss_P"
   ]
  },
  {
   "cell_type": "code",
   "execution_count": null,
   "id": "c91cc0eb-e9ce-4272-bc9f-c3a0d2750db3",
   "metadata": {},
   "outputs": [],
   "source": [
    "mwas <- function(z, w, G){   \n",
    "  if(length(w) > 1){\n",
    "    #recover()\n",
    "    # z-scores for effect of SNPs on external phenotype\n",
    "    #. are weighted according to weights for effect of SNPs on methylation\n",
    "    z <- z %*% w\n",
    "    print(paste0(\"Weighted z-score is: \", z))\n",
    "    # compute correlation matrix of SNP matrix, which captures LD structure\n",
    "    print(\"We are looking at head of dosage data in genotype matrix G:\")\n",
    "    print(head(G))\n",
    "    z.cor <- cor(G)\n",
    "    print(paste0(\"z.cor is \", z.cor))\n",
    "    # add small value to diagonal to avoid singular matrix\n",
    "    #  which may otherwise happen if two SNPs in perfect LD\n",
    "    z.cor <- z.cor + diag(dim(z.cor)[1])*0.1 \n",
    "    # variance of correlated variables is weighted sum \n",
    "    # multiplying w by corr matrix once gives a vector representing\n",
    "    #. the variance of each individual SNP and the extent to which they are\n",
    "    #. influenced by other SNPs. Multiplying again by w sums up pairwise contributions\n",
    "    #. and reflects total variance of weighted sum.\n",
    "    #. the first w is automatically transposed by R so we don't have to write t(w)\n",
    "    se <- sqrt(w %*%  z.cor %*%  w)\n",
    "    print(paste0(\"Standard error is: \", se))\n",
    "    z <- z/se\n",
    "    p <- pnorm(abs(z), lower.tail=F)*2\n",
    "    return(c(z=z, p=p, n=length(w)))\n",
    "  } else {\n",
    "    p <- pnorm(abs(z), lower.tail=F)*2\n",
    "    return(c(z=z, p=p, n=1))\n",
    "  }\n",
    "}"
   ]
  },
  {
   "cell_type": "code",
   "execution_count": null,
   "id": "5a8f60f8-a1cb-4c63-a93f-07e40327adda",
   "metadata": {},
   "outputs": [],
   "source": [
    "mwas(z = merged_this_methylation_position$z,\n",
    "     w = merged_this_methylation_position$contributing_snp_weight_mwas_stage1_prediction,\n",
    "     G = G)"
   ]
  },
  {
   "cell_type": "code",
   "execution_count": null,
   "id": "224df552-7317-4847-ba07-0fc4c50acb61",
   "metadata": {},
   "outputs": [],
   "source": [
    "mwas(z = merged_this_methylation_position$z,\n",
    "     w = merged_this_methylation_position$contributing_snp_weight_mwas_stage1_prediction,\n",
    "     G = G)"
   ]
  },
  {
   "cell_type": "code",
   "execution_count": null,
   "id": "59a72fc1-5a62-46e4-ac6a-b7894145410d",
   "metadata": {},
   "outputs": [],
   "source": []
  },
  {
   "cell_type": "markdown",
   "id": "bd80d24f-f2b0-40ed-b85a-9051450931a7",
   "metadata": {},
   "source": [
    "##### An earlier attempt where we used ss instead of the merged df that contains it and other stuff too"
   ]
  },
  {
   "cell_type": "code",
   "execution_count": null,
   "id": "50d6e557-c9e8-43d1-b054-d3d31820734c",
   "metadata": {},
   "outputs": [],
   "source": [
    "ss_snps_for_this_cpg <- snp.gwas2[which(snp.gwas2$contributing_snp_pos %in% merged_this_methylation_position$contributing_snp_pos), ]"
   ]
  },
  {
   "cell_type": "code",
   "execution_count": null,
   "id": "82c2754d-32dc-4b72-ae9c-c82d581a49b1",
   "metadata": {},
   "outputs": [],
   "source": [
    "ss_snps_for_this_cpg <- ss_snps_for_this_cpg[order(ss_snps_for_this_cpg$contributing_snp_pos), ]"
   ]
  },
  {
   "cell_type": "code",
   "execution_count": null,
   "id": "df7200c6-9e19-4dde-a791-23dba31b925b",
   "metadata": {},
   "outputs": [],
   "source": [
    "ss_snps_for_this_cpg"
   ]
  },
  {
   "cell_type": "code",
   "execution_count": null,
   "id": "0fcca0fb-daad-4f04-85b3-eab53316a931",
   "metadata": {},
   "outputs": [],
   "source": [
    "ss_snps_for_this_cpg$logOR <- log(ss_snps_for_this_cpg$ss_OR)\n",
    "ss_snps_for_this_cpg$SElogOR <- ss_snps_for_this_cpg$ss_SE / ss_snps_for_this_cpg$ss_OR"
   ]
  },
  {
   "cell_type": "code",
   "execution_count": null,
   "id": "80bc6c5a-9f97-4653-a789-17775047ca2a",
   "metadata": {},
   "outputs": [],
   "source": [
    "# The (right?) way to compute it?\n",
    "ss_snps_for_this_cpg$z <- ss_snps_for_this_cpg$logOR / ss_snps_for_this_cpg$SElogOR"
   ]
  },
  {
   "cell_type": "code",
   "execution_count": null,
   "id": "67a5ab75-2379-4919-ab01-a467f16668c4",
   "metadata": {},
   "outputs": [],
   "source": [
    "ss_snps_for_this_cpg"
   ]
  },
  {
   "cell_type": "code",
   "execution_count": null,
   "id": "357868d7-e77f-4e13-be47-a8a0c7263c50",
   "metadata": {},
   "outputs": [],
   "source": [
    "dim(merged)"
   ]
  },
  {
   "cell_type": "code",
   "execution_count": null,
   "id": "3b01dca6-b30e-4127-8839-4b55c7c91490",
   "metadata": {},
   "outputs": [],
   "source": [
    "colnames(merged)"
   ]
  },
  {
   "cell_type": "code",
   "execution_count": null,
   "id": "aaed3c3f-6761-4ea5-8f09-a8cb57381d64",
   "metadata": {},
   "outputs": [],
   "source": [
    "head(merged)"
   ]
  },
  {
   "cell_type": "code",
   "execution_count": null,
   "id": "617d7bcb-61f7-4610-84b5-584d1adca470",
   "metadata": {},
   "outputs": [],
   "source": [
    "mwas(z = ss_snps_for_this_cpg$z,\n",
    "     w = ss_snps_for_this_cpg$)"
   ]
  },
  {
   "cell_type": "code",
   "execution_count": null,
   "id": "4e1adc82-c5c5-459e-b6bb-ef1308ad6c96",
   "metadata": {},
   "outputs": [],
   "source": [
    "mwas <- function(z, w, G){   \n",
    "  if(length(w) > 1){\n",
    "    #recover()\n",
    "    # z-scores for effect of SNPs on external phenotype\n",
    "    #. are weighted according to weights for effect of SNPs on methylation\n",
    "    z <- z %*% w\n",
    "    # compute correlation matrix of SNP matrix, which captures LD structure\n",
    "    z.cor <- cor(G)\n",
    "    # add small value to diagonal to avoid singular matrix\n",
    "    #  which may otherwise happen if two SNPs in perfect LD\n",
    "    z.cor <- z.cor + diag(dim(z.cor)[1])*0.1 \n",
    "    # variance of correlated variables is weighted sum \n",
    "    # multiplying w by corr matrix once gives a vector representing\n",
    "    #. the variance of each individual SNP and the extent to which they are\n",
    "    #. influenced by other SNPs. Multiplying again by w sums up pairwise contributions\n",
    "    #. and reflects total variance of weighted sum.\n",
    "    #. the first w is automatically transposed by R so we don't have to write t(w)\n",
    "    se <- sqrt(w %*%  z.cor %*%  w)\n",
    "    z <- z/se\n",
    "    p <- pnorm(abs(z), lower.tail=F)*2\n",
    "    return(c(z=z, p=p, n=length(w)))\n",
    "  } else {\n",
    "    p <- pnorm(abs(z), lower.tail=F)*2\n",
    "    return(c(z=z, p=p, n=1))\n",
    "  }\n",
    "}"
   ]
  },
  {
   "cell_type": "code",
   "execution_count": null,
   "id": "84c6eccb-fd00-4a4c-a02f-99321b288680",
   "metadata": {},
   "outputs": [],
   "source": [
    "mwas()"
   ]
  },
  {
   "cell_type": "code",
   "execution_count": null,
   "id": "fc8a9c3b-7250-46fb-a262-a50361b503af",
   "metadata": {},
   "outputs": [],
   "source": []
  },
  {
   "cell_type": "code",
   "execution_count": null,
   "id": "b4e93395-ae38-4fe9-b280-aafdfbf4963c",
   "metadata": {},
   "outputs": [],
   "source": []
  },
  {
   "cell_type": "code",
   "execution_count": null,
   "id": "45926c63-d36b-4d02-9d45-a458843169d5",
   "metadata": {},
   "outputs": [],
   "source": [
    "getwd()"
   ]
  },
  {
   "cell_type": "code",
   "execution_count": null,
   "id": "ddf220b3-1737-4635-9663-4c863fa5035d",
   "metadata": {},
   "outputs": [],
   "source": [
    "# List files recursively in the current working directory\n",
    "files <- list.files(path = \"/expanse/lustre/projects/jhu152/naglemi/mwas/CpGWAS/\", pattern = \"\", full.names = TRUE, recursive = TRUE)\n",
    "\n",
    "# Filter files containing both 'chr1-chr1' and '_results.rds'\n",
    "files_to_rename <- grep(\"chr1-chr1.*_results\\\\.rds\", files, value = TRUE)"
   ]
  },
  {
   "cell_type": "code",
   "execution_count": null,
   "id": "0a843b4c-4e83-4610-b661-e3da83fd86ff",
   "metadata": {},
   "outputs": [],
   "source": [
    "# Rename files using a loop\n",
    "for (file in files_to_rename) {\n",
    "  new_name <- gsub(\"_results\\\\.rds\", \"_oldresults.rds\", file)\n",
    "  #print(file)\n",
    "  #print(new_name)\n",
    "  #print(\"next\")\n",
    "  file.rename(file, new_name)\n",
    "}"
   ]
  },
  {
   "cell_type": "code",
   "execution_count": null,
   "id": "d63b162f-e976-41e1-8b7a-37ae8c5da307",
   "metadata": {},
   "outputs": [],
   "source": []
  }
 ],
 "metadata": {
  "kernelspec": {
   "display_name": "R",
   "language": "R",
   "name": "ir"
  },
  "language_info": {
   "codemirror_mode": "r",
   "file_extension": ".r",
   "mimetype": "text/x-r-source",
   "name": "R",
   "pygments_lexer": "r",
   "version": "4.3.1"
  }
 },
 "nbformat": 4,
 "nbformat_minor": 5
}
