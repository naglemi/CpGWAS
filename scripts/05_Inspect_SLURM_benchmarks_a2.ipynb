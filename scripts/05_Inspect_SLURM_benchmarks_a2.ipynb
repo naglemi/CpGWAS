{
 "cells": [
  {
   "cell_type": "markdown",
   "id": "ec803619-7ddc-467d-85f8-f4a936ed29a5",
   "metadata": {},
   "source": [
    "# Inspect and summarize SLURM benchmarks"
   ]
  },
  {
   "cell_type": "markdown",
   "id": "8a74823d-20cd-4f39-8af6-5f7a71512907",
   "metadata": {},
   "source": [
    "## Overview"
   ]
  },
  {
   "cell_type": "markdown",
   "id": "b83b4000-f5a3-4aa3-b4cd-d425040bf72b",
   "metadata": {},
   "source": [
    "## Load, merge and compare benchmark summary `csv`s"
   ]
  },
  {
   "cell_type": "markdown",
   "id": "822fa4a3-4549-4b81-86c5-32deb17b9f68",
   "metadata": {},
   "source": [
    "We need a function to compare our SLURM summary output files and highlight differences in a table."
   ]
  },
  {
   "cell_type": "code",
   "execution_count": 7,
   "id": "6a868b78-f112-4f01-a0e0-e27892e35fdb",
   "metadata": {},
   "outputs": [],
   "source": [
    "library(dplyr)\n",
    "library(tidyr)\n",
    "\n",
    "read_and_summarize_differences <- function(directory) {\n",
    "  # List all CSV files in the directory\n",
    "  files <- list.files(directory, pattern = \"\\\\.csv$\", full.names = TRUE, recursive = TRUE)\n",
    "  files <- files[grepl(\"alpha_\", files)]\n",
    "  files <- files[!grepl(\"1000000\", files)]\n",
    "  \n",
    "  # Read each file and store in a list\n",
    "  data_list <- lapply(files, function(file) {\n",
    "    data <- read.csv(file)\n",
    "    # Add a column to identify the source file\n",
    "    data$Source <- basename(file)\n",
    "    return(data)\n",
    "  })\n",
    "  \n",
    "  # Combine all data frames into one\n",
    "  combined_data <- bind_rows(data_list)\n",
    "  \n",
    "  # Spread the data to wide format for comparison\n",
    "  wide_data <- spread(combined_data, key = Parameter, value = Value)\n",
    "  \n",
    "  # Identify rows with at least one difference in values\n",
    "  differing_rows <- wide_data %>%\n",
    "    summarise(across(-Source, ~n_distinct(.) > 1)) %>%\n",
    "    select(which(colSums(.) > 0)) %>%\n",
    "    names()\n",
    "  \n",
    "  # Filter the combined data to include only differing parameters\n",
    "  summary_data <- combined_data %>%\n",
    "    filter(Parameter %in% differing_rows) %>%\n",
    "    select(Parameter, Source, Value)\n",
    "  \n",
    "  # Pivot wider for a clearer summary table, if necessary\n",
    "  summary_table <- summary_data %>%\n",
    "    pivot_wider(names_from = Source, values_from = Value)\n",
    "  \n",
    "  return(summary_table)\n",
    "}"
   ]
  },
  {
   "cell_type": "code",
   "execution_count": 8,
   "id": "691fc1f5-c533-4895-a92e-c059d1709534",
   "metadata": {},
   "outputs": [
    {
     "data": {
      "text/html": [
       "<table class=\"dataframe\">\n",
       "<caption>A tibble: 11 × 251</caption>\n",
       "<thead>\n",
       "\t<tr><th scope=col>Parameter</th><th scope=col>libd_chr1-chr1_all-libd_chr1-chr1_all-1-200-dynamic-1corestotal-1corepera-20240321-113640-summary.csv</th><th scope=col>libd_chr1-chr1_all-libd_chr1-chr1_all-1001-1200-dynamic-1corestotal-1corepera-20240321-113640-summary.csv</th><th scope=col>libd_chr1-chr1_all-libd_chr1-chr1_all-1201-1400-dynamic-1corestotal-1corepera-20240321-113640-summary.csv</th><th scope=col>libd_chr1-chr1_all-libd_chr1-chr1_all-1401-1600-dynamic-1corestotal-1corepera-20240321-113640-summary.csv</th><th scope=col>libd_chr1-chr1_all-libd_chr1-chr1_all-1601-1800-dynamic-1corestotal-1corepera-20240321-113640-summary.csv</th><th scope=col>libd_chr1-chr1_all-libd_chr1-chr1_all-1801-2000-dynamic-1corestotal-1corepera-20240321-113640-summary.csv</th><th scope=col>libd_chr1-chr1_all-libd_chr1-chr1_all-2001-2200-dynamic-1corestotal-1corepera-20240321-113640-summary.csv</th><th scope=col>libd_chr1-chr1_all-libd_chr1-chr1_all-201-400-dynamic-1corestotal-1corepera-20240321-113640-summary.csv</th><th scope=col>libd_chr1-chr1_all-libd_chr1-chr1_all-2201-2400-dynamic-1corestotal-1corepera-20240321-113640-summary.csv</th><th scope=col>⋯</th><th scope=col>libd_chr1-chr1_all-libd_chr1-chr1_all-801-1000-dynamic-1corestotal-1corepera-20240324-170418-summary.csv</th><th scope=col>libd_chr1-chr1_all-libd_chr1-chr1_all-8201-8400-dynamic-1corestotal-1corepera-20240324-170419-summary.csv</th><th scope=col>libd_chr1-chr1_all-libd_chr1-chr1_all-8401-8600-dynamic-1corestotal-1corepera-20240324-170419-summary.csv</th><th scope=col>libd_chr1-chr1_all-libd_chr1-chr1_all-8601-8800-dynamic-1corestotal-1corepera-20240324-170419-summary.csv</th><th scope=col>libd_chr1-chr1_all-libd_chr1-chr1_all-8801-9000-dynamic-1corestotal-1corepera-20240324-170419-summary.csv</th><th scope=col>libd_chr1-chr1_all-libd_chr1-chr1_all-9001-9200-dynamic-1corestotal-1corepera-20240324-170419-summary.csv</th><th scope=col>libd_chr1-chr1_all-libd_chr1-chr1_all-9201-9400-dynamic-1corestotal-1corepera-20240324-170419-summary.csv</th><th scope=col>libd_chr1-chr1_all-libd_chr1-chr1_all-9401-9600-dynamic-1corestotal-1corepera-20240324-170419-summary.csv</th><th scope=col>libd_chr1-chr1_all-libd_chr1-chr1_all-9601-9800-dynamic-1corestotal-1corepera-20240324-170420-summary.csv</th><th scope=col>libd_chr1-chr1_all-libd_chr1-chr1_all-9801-10000-dynamic-1corestotal-1corepera-20240324-170420-summary.csv</th></tr>\n",
       "\t<tr><th scope=col>&lt;chr&gt;</th><th scope=col>&lt;chr&gt;</th><th scope=col>&lt;chr&gt;</th><th scope=col>&lt;chr&gt;</th><th scope=col>&lt;chr&gt;</th><th scope=col>&lt;chr&gt;</th><th scope=col>&lt;chr&gt;</th><th scope=col>&lt;chr&gt;</th><th scope=col>&lt;chr&gt;</th><th scope=col>&lt;chr&gt;</th><th scope=col>⋯</th><th scope=col>&lt;chr&gt;</th><th scope=col>&lt;chr&gt;</th><th scope=col>&lt;chr&gt;</th><th scope=col>&lt;chr&gt;</th><th scope=col>&lt;chr&gt;</th><th scope=col>&lt;chr&gt;</th><th scope=col>&lt;chr&gt;</th><th scope=col>&lt;chr&gt;</th><th scope=col>&lt;chr&gt;</th><th scope=col>&lt;chr&gt;</th></tr>\n",
       "</thead>\n",
       "<tbody>\n",
       "\t<tr><td>chunk1        </td><td>1                                                                                        </td><td>1001                                                                                         </td><td>1201                                                                                         </td><td>1401                                                                                         </td><td>1601                                                                                         </td><td>1801                                                                                         </td><td>2001                                                                                         </td><td>201                                                                                        </td><td>2201                                                                                         </td><td>⋯</td><td>801                                                                                         </td><td>8201                                                                                         </td><td>8401                                                                                         </td><td>8601                                                                                         </td><td>8801                                                                                         </td><td>9001                                                                                         </td><td>9201                                                                                         </td><td>9401                                                                                         </td><td>9601                                                                                         </td><td>9801                                                                                          </td></tr>\n",
       "\t<tr><td>chunk2        </td><td>200                                                                                      </td><td>1200                                                                                         </td><td>1400                                                                                         </td><td>1600                                                                                         </td><td>1800                                                                                         </td><td>2000                                                                                         </td><td>2200                                                                                         </td><td>400                                                                                        </td><td>2400                                                                                         </td><td>⋯</td><td>1000                                                                                        </td><td>8400                                                                                         </td><td>8600                                                                                         </td><td>8800                                                                                         </td><td>9000                                                                                         </td><td>9200                                                                                         </td><td>9400                                                                                         </td><td>9600                                                                                         </td><td>9800                                                                                         </td><td>10000                                                                                         </td></tr>\n",
       "\t<tr><td>alphas        </td><td>0                                                                                        </td><td>0                                                                                            </td><td>0                                                                                            </td><td>0                                                                                            </td><td>0                                                                                            </td><td>0                                                                                            </td><td>0                                                                                            </td><td>0                                                                                          </td><td>0                                                                                            </td><td>⋯</td><td>1                                                                                           </td><td>1                                                                                            </td><td>1                                                                                            </td><td>1                                                                                            </td><td>1                                                                                            </td><td>1                                                                                            </td><td>1                                                                                            </td><td>1                                                                                            </td><td>1                                                                                            </td><td>1                                                                                             </td></tr>\n",
       "\t<tr><td>tag           </td><td>libd_chr1-chr1_all-1-200-dynamic-1corestotal-1corepera-20240321-113640                   </td><td>libd_chr1-chr1_all-1001-1200-dynamic-1corestotal-1corepera-20240321-113640                   </td><td>libd_chr1-chr1_all-1201-1400-dynamic-1corestotal-1corepera-20240321-113640                   </td><td>libd_chr1-chr1_all-1401-1600-dynamic-1corestotal-1corepera-20240321-113640                   </td><td>libd_chr1-chr1_all-1601-1800-dynamic-1corestotal-1corepera-20240321-113640                   </td><td>libd_chr1-chr1_all-1801-2000-dynamic-1corestotal-1corepera-20240321-113640                   </td><td>libd_chr1-chr1_all-2001-2200-dynamic-1corestotal-1corepera-20240321-113640                   </td><td>libd_chr1-chr1_all-201-400-dynamic-1corestotal-1corepera-20240321-113640                   </td><td>libd_chr1-chr1_all-2201-2400-dynamic-1corestotal-1corepera-20240321-113640                   </td><td>⋯</td><td>libd_chr1-chr1_all-801-1000-dynamic-1corestotal-1corepera-20240324-170418                   </td><td>libd_chr1-chr1_all-8201-8400-dynamic-1corestotal-1corepera-20240324-170419                   </td><td>libd_chr1-chr1_all-8401-8600-dynamic-1corestotal-1corepera-20240324-170419                   </td><td>libd_chr1-chr1_all-8601-8800-dynamic-1corestotal-1corepera-20240324-170419                   </td><td>libd_chr1-chr1_all-8801-9000-dynamic-1corestotal-1corepera-20240324-170419                   </td><td>libd_chr1-chr1_all-9001-9200-dynamic-1corestotal-1corepera-20240324-170419                   </td><td>libd_chr1-chr1_all-9201-9400-dynamic-1corestotal-1corepera-20240324-170419                   </td><td>libd_chr1-chr1_all-9401-9600-dynamic-1corestotal-1corepera-20240324-170419                   </td><td>libd_chr1-chr1_all-9601-9800-dynamic-1corestotal-1corepera-20240324-170420                   </td><td>libd_chr1-chr1_all-9801-10000-dynamic-1corestotal-1corepera-20240324-170420                   </td></tr>\n",
       "\t<tr><td>time_started  </td><td>2024-03-21 11:36:53                                                                      </td><td>2024-03-21 11:36:55                                                                          </td><td>2024-03-21 11:36:55                                                                          </td><td>2024-03-21 11:36:55                                                                          </td><td>2024-03-21 11:36:55                                                                          </td><td>2024-03-21 11:36:55                                                                          </td><td>2024-03-21 11:36:55                                                                          </td><td>2024-03-21 11:36:53                                                                        </td><td>2024-03-21 11:36:55                                                                          </td><td>⋯</td><td>2024-03-24 17:04:52                                                                         </td><td>2024-03-24 20:43:38                                                                          </td><td>2024-03-24 20:44:25                                                                          </td><td>2024-03-24 20:45:05                                                                          </td><td>2024-03-24 20:46:34                                                                          </td><td>2024-03-24 21:08:54                                                                          </td><td>2024-03-24 21:09:16                                                                          </td><td>2024-03-24 21:16:34                                                                          </td><td>2024-03-24 21:10:03                                                                          </td><td>2024-03-24 21:17:01                                                                           </td></tr>\n",
       "\t<tr><td>time_finished </td><td>2024-03-21 13:59:41                                                                      </td><td>2024-03-21 14:01:24                                                                          </td><td>2024-03-21 14:04:15                                                                          </td><td>2024-03-21 14:02:14                                                                          </td><td>2024-03-21 14:04:08                                                                          </td><td>2024-03-21 13:58:07                                                                          </td><td>2024-03-21 12:56:47                                                                          </td><td>2024-03-21 13:59:54                                                                        </td><td>2024-03-21 12:57:03                                                                          </td><td>⋯</td><td>2024-03-24 18:28:49                                                                         </td><td>2024-03-24 22:01:55                                                                          </td><td>2024-03-25 00:09:22                                                                          </td><td>2024-03-24 22:57:15                                                                          </td><td>2024-03-25 00:48:32                                                                          </td><td>2024-03-24 23:52:30                                                                          </td><td>2024-03-24 23:59:56                                                                          </td><td>2024-03-25 00:08:59                                                                          </td><td>2024-03-25 01:14:33                                                                          </td><td>2024-03-25 00:04:00                                                                           </td></tr>\n",
       "\t<tr><td>runtime       </td><td>02:22:47                                                                                 </td><td>02:24:29                                                                                     </td><td>02:27:20                                                                                     </td><td>02:25:19                                                                                     </td><td>02:27:13                                                                                     </td><td>02:21:12                                                                                     </td><td>01:19:51                                                                                     </td><td>02:23:00                                                                                   </td><td>01:20:08                                                                                     </td><td>⋯</td><td>01:23:57                                                                                    </td><td>01:18:17                                                                                     </td><td>03:24:57                                                                                     </td><td>02:12:09                                                                                     </td><td>04:01:58                                                                                     </td><td>02:43:35                                                                                     </td><td>02:50:40                                                                                     </td><td>02:52:25                                                                                     </td><td>04:04:29                                                                                     </td><td>02:46:59                                                                                      </td></tr>\n",
       "\t<tr><td>type_CPU      </td><td>                      AMD Opteron(tm) Processor 6380                                     </td><td>                      Intel(R) Xeon(R) CPU E5-2650L v3 @ 1.80GHz                             </td><td>                      Intel(R) Xeon(R) CPU E5-2650L v3 @ 1.80GHz                             </td><td>                      Intel(R) Xeon(R) CPU E5-2650L v3 @ 1.80GHz                             </td><td>                      Intel(R) Xeon(R) CPU E5-2650L v3 @ 1.80GHz                             </td><td>                      Intel(R) Xeon(R) CPU E5-2650L v3 @ 1.80GHz                             </td><td>                      Intel(R) Xeon(R) Gold 6338 CPU @ 2.00GHz                               </td><td>                      AMD Opteron(tm) Processor 6380                                       </td><td>                      Intel(R) Xeon(R) Gold 6338 CPU @ 2.00GHz                               </td><td>⋯</td><td>                      AMD EPYC 9224 24-Core Processor                                       </td><td>                      AMD EPYC 9224 24-Core Processor                                        </td><td>                      Intel(R) Xeon(R) CPU E5-2650L v3 @ 1.80GHz                             </td><td>                      Intel(R) Xeon(R) Gold 6338 CPU @ 2.00GHz                               </td><td>                      Intel(R) Xeon(R) CPU E5-2650L v3 @ 1.80GHz                             </td><td>                      Intel(R) Xeon(R) CPU E5-2650 v4 @ 2.20GHz                              </td><td>                      Intel(R) Xeon(R) CPU E5-2650 v4 @ 2.20GHz                              </td><td>                      Intel(R) Xeon(R) CPU E5-2650 v4 @ 2.20GHz                              </td><td>                      Intel(R) Xeon(R) CPU E5-2650L v3 @ 1.80GHz                             </td><td>                      Intel(R) Xeon(R) CPU E5-2650 v4 @ 2.20GHz                               </td></tr>\n",
       "\t<tr><td>amount_RAM    </td><td>0.492048908025026                                                                        </td><td>0.122735276818275                                                                            </td><td>0.245873626321554                                                                            </td><td>0.245873626321554                                                                            </td><td>0.245873626321554                                                                            </td><td>0.245873626321554                                                                            </td><td>0.491538614034653                                                                            </td><td>0.492048908025026                                                                          </td><td>0.491538614034653                                                                            </td><td>⋯</td><td>0.368568681180477                                                                           </td><td>0.368568681180477                                                                            </td><td>0.122832637280226                                                                            </td><td>0.491538614034653                                                                            </td><td>0.245873626321554                                                                            </td><td>0.122523229569197                                                                            </td><td>0.122523229569197                                                                            </td><td>0.122523229569197                                                                            </td><td>0.245873626321554                                                                            </td><td>0.122523229569197                                                                             </td></tr>\n",
       "\t<tr><td>physical_cores</td><td>32                                                                                       </td><td>24                                                                                           </td><td>24                                                                                           </td><td>24                                                                                           </td><td>24                                                                                           </td><td>24                                                                                           </td><td>64                                                                                           </td><td>32                                                                                         </td><td>64                                                                                           </td><td>⋯</td><td>24                                                                                          </td><td>24                                                                                           </td><td>24                                                                                           </td><td>64                                                                                           </td><td>24                                                                                           </td><td>24                                                                                           </td><td>24                                                                                           </td><td>24                                                                                           </td><td>24                                                                                           </td><td>24                                                                                            </td></tr>\n",
       "\t<tr><td>scaffold_ID   </td><td>libd_chr1-chr1_all-libd_chr1-chr1_all-1-200-dynamic-1corestotal-1corepera-20240321-113640</td><td>libd_chr1-chr1_all-libd_chr1-chr1_all-1001-1200-dynamic-1corestotal-1corepera-20240321-113640</td><td>libd_chr1-chr1_all-libd_chr1-chr1_all-1201-1400-dynamic-1corestotal-1corepera-20240321-113640</td><td>libd_chr1-chr1_all-libd_chr1-chr1_all-1401-1600-dynamic-1corestotal-1corepera-20240321-113640</td><td>libd_chr1-chr1_all-libd_chr1-chr1_all-1601-1800-dynamic-1corestotal-1corepera-20240321-113640</td><td>libd_chr1-chr1_all-libd_chr1-chr1_all-1801-2000-dynamic-1corestotal-1corepera-20240321-113640</td><td>libd_chr1-chr1_all-libd_chr1-chr1_all-2001-2200-dynamic-1corestotal-1corepera-20240321-113640</td><td>libd_chr1-chr1_all-libd_chr1-chr1_all-201-400-dynamic-1corestotal-1corepera-20240321-113640</td><td>libd_chr1-chr1_all-libd_chr1-chr1_all-2201-2400-dynamic-1corestotal-1corepera-20240321-113640</td><td>⋯</td><td>libd_chr1-chr1_all-libd_chr1-chr1_all-801-1000-dynamic-1corestotal-1corepera-20240324-170418</td><td>libd_chr1-chr1_all-libd_chr1-chr1_all-8201-8400-dynamic-1corestotal-1corepera-20240324-170419</td><td>libd_chr1-chr1_all-libd_chr1-chr1_all-8401-8600-dynamic-1corestotal-1corepera-20240324-170419</td><td>libd_chr1-chr1_all-libd_chr1-chr1_all-8601-8800-dynamic-1corestotal-1corepera-20240324-170419</td><td>libd_chr1-chr1_all-libd_chr1-chr1_all-8801-9000-dynamic-1corestotal-1corepera-20240324-170419</td><td>libd_chr1-chr1_all-libd_chr1-chr1_all-9001-9200-dynamic-1corestotal-1corepera-20240324-170419</td><td>libd_chr1-chr1_all-libd_chr1-chr1_all-9201-9400-dynamic-1corestotal-1corepera-20240324-170419</td><td>libd_chr1-chr1_all-libd_chr1-chr1_all-9401-9600-dynamic-1corestotal-1corepera-20240324-170419</td><td>libd_chr1-chr1_all-libd_chr1-chr1_all-9601-9800-dynamic-1corestotal-1corepera-20240324-170420</td><td>libd_chr1-chr1_all-libd_chr1-chr1_all-9801-10000-dynamic-1corestotal-1corepera-20240324-170420</td></tr>\n",
       "</tbody>\n",
       "</table>\n"
      ],
      "text/latex": [
       "A tibble: 11 × 251\n",
       "\\begin{tabular}{lllllllllllllllllllll}\n",
       " Parameter & libd\\_chr1-chr1\\_all-libd\\_chr1-chr1\\_all-1-200-dynamic-1corestotal-1corepera-20240321-113640-summary.csv & libd\\_chr1-chr1\\_all-libd\\_chr1-chr1\\_all-1001-1200-dynamic-1corestotal-1corepera-20240321-113640-summary.csv & libd\\_chr1-chr1\\_all-libd\\_chr1-chr1\\_all-1201-1400-dynamic-1corestotal-1corepera-20240321-113640-summary.csv & libd\\_chr1-chr1\\_all-libd\\_chr1-chr1\\_all-1401-1600-dynamic-1corestotal-1corepera-20240321-113640-summary.csv & libd\\_chr1-chr1\\_all-libd\\_chr1-chr1\\_all-1601-1800-dynamic-1corestotal-1corepera-20240321-113640-summary.csv & libd\\_chr1-chr1\\_all-libd\\_chr1-chr1\\_all-1801-2000-dynamic-1corestotal-1corepera-20240321-113640-summary.csv & libd\\_chr1-chr1\\_all-libd\\_chr1-chr1\\_all-2001-2200-dynamic-1corestotal-1corepera-20240321-113640-summary.csv & libd\\_chr1-chr1\\_all-libd\\_chr1-chr1\\_all-201-400-dynamic-1corestotal-1corepera-20240321-113640-summary.csv & libd\\_chr1-chr1\\_all-libd\\_chr1-chr1\\_all-2201-2400-dynamic-1corestotal-1corepera-20240321-113640-summary.csv & ⋯ & libd\\_chr1-chr1\\_all-libd\\_chr1-chr1\\_all-801-1000-dynamic-1corestotal-1corepera-20240324-170418-summary.csv & libd\\_chr1-chr1\\_all-libd\\_chr1-chr1\\_all-8201-8400-dynamic-1corestotal-1corepera-20240324-170419-summary.csv & libd\\_chr1-chr1\\_all-libd\\_chr1-chr1\\_all-8401-8600-dynamic-1corestotal-1corepera-20240324-170419-summary.csv & libd\\_chr1-chr1\\_all-libd\\_chr1-chr1\\_all-8601-8800-dynamic-1corestotal-1corepera-20240324-170419-summary.csv & libd\\_chr1-chr1\\_all-libd\\_chr1-chr1\\_all-8801-9000-dynamic-1corestotal-1corepera-20240324-170419-summary.csv & libd\\_chr1-chr1\\_all-libd\\_chr1-chr1\\_all-9001-9200-dynamic-1corestotal-1corepera-20240324-170419-summary.csv & libd\\_chr1-chr1\\_all-libd\\_chr1-chr1\\_all-9201-9400-dynamic-1corestotal-1corepera-20240324-170419-summary.csv & libd\\_chr1-chr1\\_all-libd\\_chr1-chr1\\_all-9401-9600-dynamic-1corestotal-1corepera-20240324-170419-summary.csv & libd\\_chr1-chr1\\_all-libd\\_chr1-chr1\\_all-9601-9800-dynamic-1corestotal-1corepera-20240324-170420-summary.csv & libd\\_chr1-chr1\\_all-libd\\_chr1-chr1\\_all-9801-10000-dynamic-1corestotal-1corepera-20240324-170420-summary.csv\\\\\n",
       " <chr> & <chr> & <chr> & <chr> & <chr> & <chr> & <chr> & <chr> & <chr> & <chr> & ⋯ & <chr> & <chr> & <chr> & <chr> & <chr> & <chr> & <chr> & <chr> & <chr> & <chr>\\\\\n",
       "\\hline\n",
       "\t chunk1         & 1                                                                                         & 1001                                                                                          & 1201                                                                                          & 1401                                                                                          & 1601                                                                                          & 1801                                                                                          & 2001                                                                                          & 201                                                                                         & 2201                                                                                          & ⋯ & 801                                                                                          & 8201                                                                                          & 8401                                                                                          & 8601                                                                                          & 8801                                                                                          & 9001                                                                                          & 9201                                                                                          & 9401                                                                                          & 9601                                                                                          & 9801                                                                                          \\\\\n",
       "\t chunk2         & 200                                                                                       & 1200                                                                                          & 1400                                                                                          & 1600                                                                                          & 1800                                                                                          & 2000                                                                                          & 2200                                                                                          & 400                                                                                         & 2400                                                                                          & ⋯ & 1000                                                                                         & 8400                                                                                          & 8600                                                                                          & 8800                                                                                          & 9000                                                                                          & 9200                                                                                          & 9400                                                                                          & 9600                                                                                          & 9800                                                                                          & 10000                                                                                         \\\\\n",
       "\t alphas         & 0                                                                                         & 0                                                                                             & 0                                                                                             & 0                                                                                             & 0                                                                                             & 0                                                                                             & 0                                                                                             & 0                                                                                           & 0                                                                                             & ⋯ & 1                                                                                            & 1                                                                                             & 1                                                                                             & 1                                                                                             & 1                                                                                             & 1                                                                                             & 1                                                                                             & 1                                                                                             & 1                                                                                             & 1                                                                                             \\\\\n",
       "\t tag            & libd\\_chr1-chr1\\_all-1-200-dynamic-1corestotal-1corepera-20240321-113640                    & libd\\_chr1-chr1\\_all-1001-1200-dynamic-1corestotal-1corepera-20240321-113640                    & libd\\_chr1-chr1\\_all-1201-1400-dynamic-1corestotal-1corepera-20240321-113640                    & libd\\_chr1-chr1\\_all-1401-1600-dynamic-1corestotal-1corepera-20240321-113640                    & libd\\_chr1-chr1\\_all-1601-1800-dynamic-1corestotal-1corepera-20240321-113640                    & libd\\_chr1-chr1\\_all-1801-2000-dynamic-1corestotal-1corepera-20240321-113640                    & libd\\_chr1-chr1\\_all-2001-2200-dynamic-1corestotal-1corepera-20240321-113640                    & libd\\_chr1-chr1\\_all-201-400-dynamic-1corestotal-1corepera-20240321-113640                    & libd\\_chr1-chr1\\_all-2201-2400-dynamic-1corestotal-1corepera-20240321-113640                    & ⋯ & libd\\_chr1-chr1\\_all-801-1000-dynamic-1corestotal-1corepera-20240324-170418                    & libd\\_chr1-chr1\\_all-8201-8400-dynamic-1corestotal-1corepera-20240324-170419                    & libd\\_chr1-chr1\\_all-8401-8600-dynamic-1corestotal-1corepera-20240324-170419                    & libd\\_chr1-chr1\\_all-8601-8800-dynamic-1corestotal-1corepera-20240324-170419                    & libd\\_chr1-chr1\\_all-8801-9000-dynamic-1corestotal-1corepera-20240324-170419                    & libd\\_chr1-chr1\\_all-9001-9200-dynamic-1corestotal-1corepera-20240324-170419                    & libd\\_chr1-chr1\\_all-9201-9400-dynamic-1corestotal-1corepera-20240324-170419                    & libd\\_chr1-chr1\\_all-9401-9600-dynamic-1corestotal-1corepera-20240324-170419                    & libd\\_chr1-chr1\\_all-9601-9800-dynamic-1corestotal-1corepera-20240324-170420                    & libd\\_chr1-chr1\\_all-9801-10000-dynamic-1corestotal-1corepera-20240324-170420                   \\\\\n",
       "\t time\\_started   & 2024-03-21 11:36:53                                                                       & 2024-03-21 11:36:55                                                                           & 2024-03-21 11:36:55                                                                           & 2024-03-21 11:36:55                                                                           & 2024-03-21 11:36:55                                                                           & 2024-03-21 11:36:55                                                                           & 2024-03-21 11:36:55                                                                           & 2024-03-21 11:36:53                                                                         & 2024-03-21 11:36:55                                                                           & ⋯ & 2024-03-24 17:04:52                                                                          & 2024-03-24 20:43:38                                                                           & 2024-03-24 20:44:25                                                                           & 2024-03-24 20:45:05                                                                           & 2024-03-24 20:46:34                                                                           & 2024-03-24 21:08:54                                                                           & 2024-03-24 21:09:16                                                                           & 2024-03-24 21:16:34                                                                           & 2024-03-24 21:10:03                                                                           & 2024-03-24 21:17:01                                                                           \\\\\n",
       "\t time\\_finished  & 2024-03-21 13:59:41                                                                       & 2024-03-21 14:01:24                                                                           & 2024-03-21 14:04:15                                                                           & 2024-03-21 14:02:14                                                                           & 2024-03-21 14:04:08                                                                           & 2024-03-21 13:58:07                                                                           & 2024-03-21 12:56:47                                                                           & 2024-03-21 13:59:54                                                                         & 2024-03-21 12:57:03                                                                           & ⋯ & 2024-03-24 18:28:49                                                                          & 2024-03-24 22:01:55                                                                           & 2024-03-25 00:09:22                                                                           & 2024-03-24 22:57:15                                                                           & 2024-03-25 00:48:32                                                                           & 2024-03-24 23:52:30                                                                           & 2024-03-24 23:59:56                                                                           & 2024-03-25 00:08:59                                                                           & 2024-03-25 01:14:33                                                                           & 2024-03-25 00:04:00                                                                           \\\\\n",
       "\t runtime        & 02:22:47                                                                                  & 02:24:29                                                                                      & 02:27:20                                                                                      & 02:25:19                                                                                      & 02:27:13                                                                                      & 02:21:12                                                                                      & 01:19:51                                                                                      & 02:23:00                                                                                    & 01:20:08                                                                                      & ⋯ & 01:23:57                                                                                     & 01:18:17                                                                                      & 03:24:57                                                                                      & 02:12:09                                                                                      & 04:01:58                                                                                      & 02:43:35                                                                                      & 02:50:40                                                                                      & 02:52:25                                                                                      & 04:04:29                                                                                      & 02:46:59                                                                                      \\\\\n",
       "\t type\\_CPU       &                       AMD Opteron(tm) Processor 6380                                      &                       Intel(R) Xeon(R) CPU E5-2650L v3 @ 1.80GHz                              &                       Intel(R) Xeon(R) CPU E5-2650L v3 @ 1.80GHz                              &                       Intel(R) Xeon(R) CPU E5-2650L v3 @ 1.80GHz                              &                       Intel(R) Xeon(R) CPU E5-2650L v3 @ 1.80GHz                              &                       Intel(R) Xeon(R) CPU E5-2650L v3 @ 1.80GHz                              &                       Intel(R) Xeon(R) Gold 6338 CPU @ 2.00GHz                                &                       AMD Opteron(tm) Processor 6380                                        &                       Intel(R) Xeon(R) Gold 6338 CPU @ 2.00GHz                                & ⋯ &                       AMD EPYC 9224 24-Core Processor                                        &                       AMD EPYC 9224 24-Core Processor                                         &                       Intel(R) Xeon(R) CPU E5-2650L v3 @ 1.80GHz                              &                       Intel(R) Xeon(R) Gold 6338 CPU @ 2.00GHz                                &                       Intel(R) Xeon(R) CPU E5-2650L v3 @ 1.80GHz                              &                       Intel(R) Xeon(R) CPU E5-2650 v4 @ 2.20GHz                               &                       Intel(R) Xeon(R) CPU E5-2650 v4 @ 2.20GHz                               &                       Intel(R) Xeon(R) CPU E5-2650 v4 @ 2.20GHz                               &                       Intel(R) Xeon(R) CPU E5-2650L v3 @ 1.80GHz                              &                       Intel(R) Xeon(R) CPU E5-2650 v4 @ 2.20GHz                               \\\\\n",
       "\t amount\\_RAM     & 0.492048908025026                                                                         & 0.122735276818275                                                                             & 0.245873626321554                                                                             & 0.245873626321554                                                                             & 0.245873626321554                                                                             & 0.245873626321554                                                                             & 0.491538614034653                                                                             & 0.492048908025026                                                                           & 0.491538614034653                                                                             & ⋯ & 0.368568681180477                                                                            & 0.368568681180477                                                                             & 0.122832637280226                                                                             & 0.491538614034653                                                                             & 0.245873626321554                                                                             & 0.122523229569197                                                                             & 0.122523229569197                                                                             & 0.122523229569197                                                                             & 0.245873626321554                                                                             & 0.122523229569197                                                                             \\\\\n",
       "\t physical\\_cores & 32                                                                                        & 24                                                                                            & 24                                                                                            & 24                                                                                            & 24                                                                                            & 24                                                                                            & 64                                                                                            & 32                                                                                          & 64                                                                                            & ⋯ & 24                                                                                           & 24                                                                                            & 24                                                                                            & 64                                                                                            & 24                                                                                            & 24                                                                                            & 24                                                                                            & 24                                                                                            & 24                                                                                            & 24                                                                                            \\\\\n",
       "\t scaffold\\_ID    & libd\\_chr1-chr1\\_all-libd\\_chr1-chr1\\_all-1-200-dynamic-1corestotal-1corepera-20240321-113640 & libd\\_chr1-chr1\\_all-libd\\_chr1-chr1\\_all-1001-1200-dynamic-1corestotal-1corepera-20240321-113640 & libd\\_chr1-chr1\\_all-libd\\_chr1-chr1\\_all-1201-1400-dynamic-1corestotal-1corepera-20240321-113640 & libd\\_chr1-chr1\\_all-libd\\_chr1-chr1\\_all-1401-1600-dynamic-1corestotal-1corepera-20240321-113640 & libd\\_chr1-chr1\\_all-libd\\_chr1-chr1\\_all-1601-1800-dynamic-1corestotal-1corepera-20240321-113640 & libd\\_chr1-chr1\\_all-libd\\_chr1-chr1\\_all-1801-2000-dynamic-1corestotal-1corepera-20240321-113640 & libd\\_chr1-chr1\\_all-libd\\_chr1-chr1\\_all-2001-2200-dynamic-1corestotal-1corepera-20240321-113640 & libd\\_chr1-chr1\\_all-libd\\_chr1-chr1\\_all-201-400-dynamic-1corestotal-1corepera-20240321-113640 & libd\\_chr1-chr1\\_all-libd\\_chr1-chr1\\_all-2201-2400-dynamic-1corestotal-1corepera-20240321-113640 & ⋯ & libd\\_chr1-chr1\\_all-libd\\_chr1-chr1\\_all-801-1000-dynamic-1corestotal-1corepera-20240324-170418 & libd\\_chr1-chr1\\_all-libd\\_chr1-chr1\\_all-8201-8400-dynamic-1corestotal-1corepera-20240324-170419 & libd\\_chr1-chr1\\_all-libd\\_chr1-chr1\\_all-8401-8600-dynamic-1corestotal-1corepera-20240324-170419 & libd\\_chr1-chr1\\_all-libd\\_chr1-chr1\\_all-8601-8800-dynamic-1corestotal-1corepera-20240324-170419 & libd\\_chr1-chr1\\_all-libd\\_chr1-chr1\\_all-8801-9000-dynamic-1corestotal-1corepera-20240324-170419 & libd\\_chr1-chr1\\_all-libd\\_chr1-chr1\\_all-9001-9200-dynamic-1corestotal-1corepera-20240324-170419 & libd\\_chr1-chr1\\_all-libd\\_chr1-chr1\\_all-9201-9400-dynamic-1corestotal-1corepera-20240324-170419 & libd\\_chr1-chr1\\_all-libd\\_chr1-chr1\\_all-9401-9600-dynamic-1corestotal-1corepera-20240324-170419 & libd\\_chr1-chr1\\_all-libd\\_chr1-chr1\\_all-9601-9800-dynamic-1corestotal-1corepera-20240324-170420 & libd\\_chr1-chr1\\_all-libd\\_chr1-chr1\\_all-9801-10000-dynamic-1corestotal-1corepera-20240324-170420\\\\\n",
       "\\end{tabular}\n"
      ],
      "text/markdown": [
       "\n",
       "A tibble: 11 × 251\n",
       "\n",
       "| Parameter &lt;chr&gt; | libd_chr1-chr1_all-libd_chr1-chr1_all-1-200-dynamic-1corestotal-1corepera-20240321-113640-summary.csv &lt;chr&gt; | libd_chr1-chr1_all-libd_chr1-chr1_all-1001-1200-dynamic-1corestotal-1corepera-20240321-113640-summary.csv &lt;chr&gt; | libd_chr1-chr1_all-libd_chr1-chr1_all-1201-1400-dynamic-1corestotal-1corepera-20240321-113640-summary.csv &lt;chr&gt; | libd_chr1-chr1_all-libd_chr1-chr1_all-1401-1600-dynamic-1corestotal-1corepera-20240321-113640-summary.csv &lt;chr&gt; | libd_chr1-chr1_all-libd_chr1-chr1_all-1601-1800-dynamic-1corestotal-1corepera-20240321-113640-summary.csv &lt;chr&gt; | libd_chr1-chr1_all-libd_chr1-chr1_all-1801-2000-dynamic-1corestotal-1corepera-20240321-113640-summary.csv &lt;chr&gt; | libd_chr1-chr1_all-libd_chr1-chr1_all-2001-2200-dynamic-1corestotal-1corepera-20240321-113640-summary.csv &lt;chr&gt; | libd_chr1-chr1_all-libd_chr1-chr1_all-201-400-dynamic-1corestotal-1corepera-20240321-113640-summary.csv &lt;chr&gt; | libd_chr1-chr1_all-libd_chr1-chr1_all-2201-2400-dynamic-1corestotal-1corepera-20240321-113640-summary.csv &lt;chr&gt; | ⋯ ⋯ | libd_chr1-chr1_all-libd_chr1-chr1_all-801-1000-dynamic-1corestotal-1corepera-20240324-170418-summary.csv &lt;chr&gt; | libd_chr1-chr1_all-libd_chr1-chr1_all-8201-8400-dynamic-1corestotal-1corepera-20240324-170419-summary.csv &lt;chr&gt; | libd_chr1-chr1_all-libd_chr1-chr1_all-8401-8600-dynamic-1corestotal-1corepera-20240324-170419-summary.csv &lt;chr&gt; | libd_chr1-chr1_all-libd_chr1-chr1_all-8601-8800-dynamic-1corestotal-1corepera-20240324-170419-summary.csv &lt;chr&gt; | libd_chr1-chr1_all-libd_chr1-chr1_all-8801-9000-dynamic-1corestotal-1corepera-20240324-170419-summary.csv &lt;chr&gt; | libd_chr1-chr1_all-libd_chr1-chr1_all-9001-9200-dynamic-1corestotal-1corepera-20240324-170419-summary.csv &lt;chr&gt; | libd_chr1-chr1_all-libd_chr1-chr1_all-9201-9400-dynamic-1corestotal-1corepera-20240324-170419-summary.csv &lt;chr&gt; | libd_chr1-chr1_all-libd_chr1-chr1_all-9401-9600-dynamic-1corestotal-1corepera-20240324-170419-summary.csv &lt;chr&gt; | libd_chr1-chr1_all-libd_chr1-chr1_all-9601-9800-dynamic-1corestotal-1corepera-20240324-170420-summary.csv &lt;chr&gt; | libd_chr1-chr1_all-libd_chr1-chr1_all-9801-10000-dynamic-1corestotal-1corepera-20240324-170420-summary.csv &lt;chr&gt; |\n",
       "|---|---|---|---|---|---|---|---|---|---|---|---|---|---|---|---|---|---|---|---|---|\n",
       "| chunk1         | 1                                                                                         | 1001                                                                                          | 1201                                                                                          | 1401                                                                                          | 1601                                                                                          | 1801                                                                                          | 2001                                                                                          | 201                                                                                         | 2201                                                                                          | ⋯ | 801                                                                                          | 8201                                                                                          | 8401                                                                                          | 8601                                                                                          | 8801                                                                                          | 9001                                                                                          | 9201                                                                                          | 9401                                                                                          | 9601                                                                                          | 9801                                                                                           |\n",
       "| chunk2         | 200                                                                                       | 1200                                                                                          | 1400                                                                                          | 1600                                                                                          | 1800                                                                                          | 2000                                                                                          | 2200                                                                                          | 400                                                                                         | 2400                                                                                          | ⋯ | 1000                                                                                         | 8400                                                                                          | 8600                                                                                          | 8800                                                                                          | 9000                                                                                          | 9200                                                                                          | 9400                                                                                          | 9600                                                                                          | 9800                                                                                          | 10000                                                                                          |\n",
       "| alphas         | 0                                                                                         | 0                                                                                             | 0                                                                                             | 0                                                                                             | 0                                                                                             | 0                                                                                             | 0                                                                                             | 0                                                                                           | 0                                                                                             | ⋯ | 1                                                                                            | 1                                                                                             | 1                                                                                             | 1                                                                                             | 1                                                                                             | 1                                                                                             | 1                                                                                             | 1                                                                                             | 1                                                                                             | 1                                                                                              |\n",
       "| tag            | libd_chr1-chr1_all-1-200-dynamic-1corestotal-1corepera-20240321-113640                    | libd_chr1-chr1_all-1001-1200-dynamic-1corestotal-1corepera-20240321-113640                    | libd_chr1-chr1_all-1201-1400-dynamic-1corestotal-1corepera-20240321-113640                    | libd_chr1-chr1_all-1401-1600-dynamic-1corestotal-1corepera-20240321-113640                    | libd_chr1-chr1_all-1601-1800-dynamic-1corestotal-1corepera-20240321-113640                    | libd_chr1-chr1_all-1801-2000-dynamic-1corestotal-1corepera-20240321-113640                    | libd_chr1-chr1_all-2001-2200-dynamic-1corestotal-1corepera-20240321-113640                    | libd_chr1-chr1_all-201-400-dynamic-1corestotal-1corepera-20240321-113640                    | libd_chr1-chr1_all-2201-2400-dynamic-1corestotal-1corepera-20240321-113640                    | ⋯ | libd_chr1-chr1_all-801-1000-dynamic-1corestotal-1corepera-20240324-170418                    | libd_chr1-chr1_all-8201-8400-dynamic-1corestotal-1corepera-20240324-170419                    | libd_chr1-chr1_all-8401-8600-dynamic-1corestotal-1corepera-20240324-170419                    | libd_chr1-chr1_all-8601-8800-dynamic-1corestotal-1corepera-20240324-170419                    | libd_chr1-chr1_all-8801-9000-dynamic-1corestotal-1corepera-20240324-170419                    | libd_chr1-chr1_all-9001-9200-dynamic-1corestotal-1corepera-20240324-170419                    | libd_chr1-chr1_all-9201-9400-dynamic-1corestotal-1corepera-20240324-170419                    | libd_chr1-chr1_all-9401-9600-dynamic-1corestotal-1corepera-20240324-170419                    | libd_chr1-chr1_all-9601-9800-dynamic-1corestotal-1corepera-20240324-170420                    | libd_chr1-chr1_all-9801-10000-dynamic-1corestotal-1corepera-20240324-170420                    |\n",
       "| time_started   | 2024-03-21 11:36:53                                                                       | 2024-03-21 11:36:55                                                                           | 2024-03-21 11:36:55                                                                           | 2024-03-21 11:36:55                                                                           | 2024-03-21 11:36:55                                                                           | 2024-03-21 11:36:55                                                                           | 2024-03-21 11:36:55                                                                           | 2024-03-21 11:36:53                                                                         | 2024-03-21 11:36:55                                                                           | ⋯ | 2024-03-24 17:04:52                                                                          | 2024-03-24 20:43:38                                                                           | 2024-03-24 20:44:25                                                                           | 2024-03-24 20:45:05                                                                           | 2024-03-24 20:46:34                                                                           | 2024-03-24 21:08:54                                                                           | 2024-03-24 21:09:16                                                                           | 2024-03-24 21:16:34                                                                           | 2024-03-24 21:10:03                                                                           | 2024-03-24 21:17:01                                                                            |\n",
       "| time_finished  | 2024-03-21 13:59:41                                                                       | 2024-03-21 14:01:24                                                                           | 2024-03-21 14:04:15                                                                           | 2024-03-21 14:02:14                                                                           | 2024-03-21 14:04:08                                                                           | 2024-03-21 13:58:07                                                                           | 2024-03-21 12:56:47                                                                           | 2024-03-21 13:59:54                                                                         | 2024-03-21 12:57:03                                                                           | ⋯ | 2024-03-24 18:28:49                                                                          | 2024-03-24 22:01:55                                                                           | 2024-03-25 00:09:22                                                                           | 2024-03-24 22:57:15                                                                           | 2024-03-25 00:48:32                                                                           | 2024-03-24 23:52:30                                                                           | 2024-03-24 23:59:56                                                                           | 2024-03-25 00:08:59                                                                           | 2024-03-25 01:14:33                                                                           | 2024-03-25 00:04:00                                                                            |\n",
       "| runtime        | 02:22:47                                                                                  | 02:24:29                                                                                      | 02:27:20                                                                                      | 02:25:19                                                                                      | 02:27:13                                                                                      | 02:21:12                                                                                      | 01:19:51                                                                                      | 02:23:00                                                                                    | 01:20:08                                                                                      | ⋯ | 01:23:57                                                                                     | 01:18:17                                                                                      | 03:24:57                                                                                      | 02:12:09                                                                                      | 04:01:58                                                                                      | 02:43:35                                                                                      | 02:50:40                                                                                      | 02:52:25                                                                                      | 04:04:29                                                                                      | 02:46:59                                                                                       |\n",
       "| type_CPU       |                       AMD Opteron(tm) Processor 6380                                      |                       Intel(R) Xeon(R) CPU E5-2650L v3 @ 1.80GHz                              |                       Intel(R) Xeon(R) CPU E5-2650L v3 @ 1.80GHz                              |                       Intel(R) Xeon(R) CPU E5-2650L v3 @ 1.80GHz                              |                       Intel(R) Xeon(R) CPU E5-2650L v3 @ 1.80GHz                              |                       Intel(R) Xeon(R) CPU E5-2650L v3 @ 1.80GHz                              |                       Intel(R) Xeon(R) Gold 6338 CPU @ 2.00GHz                                |                       AMD Opteron(tm) Processor 6380                                        |                       Intel(R) Xeon(R) Gold 6338 CPU @ 2.00GHz                                | ⋯ |                       AMD EPYC 9224 24-Core Processor                                        |                       AMD EPYC 9224 24-Core Processor                                         |                       Intel(R) Xeon(R) CPU E5-2650L v3 @ 1.80GHz                              |                       Intel(R) Xeon(R) Gold 6338 CPU @ 2.00GHz                                |                       Intel(R) Xeon(R) CPU E5-2650L v3 @ 1.80GHz                              |                       Intel(R) Xeon(R) CPU E5-2650 v4 @ 2.20GHz                               |                       Intel(R) Xeon(R) CPU E5-2650 v4 @ 2.20GHz                               |                       Intel(R) Xeon(R) CPU E5-2650 v4 @ 2.20GHz                               |                       Intel(R) Xeon(R) CPU E5-2650L v3 @ 1.80GHz                              |                       Intel(R) Xeon(R) CPU E5-2650 v4 @ 2.20GHz                                |\n",
       "| amount_RAM     | 0.492048908025026                                                                         | 0.122735276818275                                                                             | 0.245873626321554                                                                             | 0.245873626321554                                                                             | 0.245873626321554                                                                             | 0.245873626321554                                                                             | 0.491538614034653                                                                             | 0.492048908025026                                                                           | 0.491538614034653                                                                             | ⋯ | 0.368568681180477                                                                            | 0.368568681180477                                                                             | 0.122832637280226                                                                             | 0.491538614034653                                                                             | 0.245873626321554                                                                             | 0.122523229569197                                                                             | 0.122523229569197                                                                             | 0.122523229569197                                                                             | 0.245873626321554                                                                             | 0.122523229569197                                                                              |\n",
       "| physical_cores | 32                                                                                        | 24                                                                                            | 24                                                                                            | 24                                                                                            | 24                                                                                            | 24                                                                                            | 64                                                                                            | 32                                                                                          | 64                                                                                            | ⋯ | 24                                                                                           | 24                                                                                            | 24                                                                                            | 64                                                                                            | 24                                                                                            | 24                                                                                            | 24                                                                                            | 24                                                                                            | 24                                                                                            | 24                                                                                             |\n",
       "| scaffold_ID    | libd_chr1-chr1_all-libd_chr1-chr1_all-1-200-dynamic-1corestotal-1corepera-20240321-113640 | libd_chr1-chr1_all-libd_chr1-chr1_all-1001-1200-dynamic-1corestotal-1corepera-20240321-113640 | libd_chr1-chr1_all-libd_chr1-chr1_all-1201-1400-dynamic-1corestotal-1corepera-20240321-113640 | libd_chr1-chr1_all-libd_chr1-chr1_all-1401-1600-dynamic-1corestotal-1corepera-20240321-113640 | libd_chr1-chr1_all-libd_chr1-chr1_all-1601-1800-dynamic-1corestotal-1corepera-20240321-113640 | libd_chr1-chr1_all-libd_chr1-chr1_all-1801-2000-dynamic-1corestotal-1corepera-20240321-113640 | libd_chr1-chr1_all-libd_chr1-chr1_all-2001-2200-dynamic-1corestotal-1corepera-20240321-113640 | libd_chr1-chr1_all-libd_chr1-chr1_all-201-400-dynamic-1corestotal-1corepera-20240321-113640 | libd_chr1-chr1_all-libd_chr1-chr1_all-2201-2400-dynamic-1corestotal-1corepera-20240321-113640 | ⋯ | libd_chr1-chr1_all-libd_chr1-chr1_all-801-1000-dynamic-1corestotal-1corepera-20240324-170418 | libd_chr1-chr1_all-libd_chr1-chr1_all-8201-8400-dynamic-1corestotal-1corepera-20240324-170419 | libd_chr1-chr1_all-libd_chr1-chr1_all-8401-8600-dynamic-1corestotal-1corepera-20240324-170419 | libd_chr1-chr1_all-libd_chr1-chr1_all-8601-8800-dynamic-1corestotal-1corepera-20240324-170419 | libd_chr1-chr1_all-libd_chr1-chr1_all-8801-9000-dynamic-1corestotal-1corepera-20240324-170419 | libd_chr1-chr1_all-libd_chr1-chr1_all-9001-9200-dynamic-1corestotal-1corepera-20240324-170419 | libd_chr1-chr1_all-libd_chr1-chr1_all-9201-9400-dynamic-1corestotal-1corepera-20240324-170419 | libd_chr1-chr1_all-libd_chr1-chr1_all-9401-9600-dynamic-1corestotal-1corepera-20240324-170419 | libd_chr1-chr1_all-libd_chr1-chr1_all-9601-9800-dynamic-1corestotal-1corepera-20240324-170420 | libd_chr1-chr1_all-libd_chr1-chr1_all-9801-10000-dynamic-1corestotal-1corepera-20240324-170420 |\n",
       "\n"
      ],
      "text/plain": [
       "   Parameter     \n",
       "1  chunk1        \n",
       "2  chunk2        \n",
       "3  alphas        \n",
       "4  tag           \n",
       "5  time_started  \n",
       "6  time_finished \n",
       "7  runtime       \n",
       "8  type_CPU      \n",
       "9  amount_RAM    \n",
       "10 physical_cores\n",
       "11 scaffold_ID   \n",
       "   libd_chr1-chr1_all-libd_chr1-chr1_all-1-200-dynamic-1corestotal-1corepera-20240321-113640-summary.csv\n",
       "1  1                                                                                                    \n",
       "2  200                                                                                                  \n",
       "3  0                                                                                                    \n",
       "4  libd_chr1-chr1_all-1-200-dynamic-1corestotal-1corepera-20240321-113640                               \n",
       "5  2024-03-21 11:36:53                                                                                  \n",
       "6  2024-03-21 13:59:41                                                                                  \n",
       "7  02:22:47                                                                                             \n",
       "8                        AMD Opteron(tm) Processor 6380                                                 \n",
       "9  0.492048908025026                                                                                    \n",
       "10 32                                                                                                   \n",
       "11 libd_chr1-chr1_all-libd_chr1-chr1_all-1-200-dynamic-1corestotal-1corepera-20240321-113640            \n",
       "   libd_chr1-chr1_all-libd_chr1-chr1_all-1001-1200-dynamic-1corestotal-1corepera-20240321-113640-summary.csv\n",
       "1  1001                                                                                                     \n",
       "2  1200                                                                                                     \n",
       "3  0                                                                                                        \n",
       "4  libd_chr1-chr1_all-1001-1200-dynamic-1corestotal-1corepera-20240321-113640                               \n",
       "5  2024-03-21 11:36:55                                                                                      \n",
       "6  2024-03-21 14:01:24                                                                                      \n",
       "7  02:24:29                                                                                                 \n",
       "8                        Intel(R) Xeon(R) CPU E5-2650L v3 @ 1.80GHz                                         \n",
       "9  0.122735276818275                                                                                        \n",
       "10 24                                                                                                       \n",
       "11 libd_chr1-chr1_all-libd_chr1-chr1_all-1001-1200-dynamic-1corestotal-1corepera-20240321-113640            \n",
       "   libd_chr1-chr1_all-libd_chr1-chr1_all-1201-1400-dynamic-1corestotal-1corepera-20240321-113640-summary.csv\n",
       "1  1201                                                                                                     \n",
       "2  1400                                                                                                     \n",
       "3  0                                                                                                        \n",
       "4  libd_chr1-chr1_all-1201-1400-dynamic-1corestotal-1corepera-20240321-113640                               \n",
       "5  2024-03-21 11:36:55                                                                                      \n",
       "6  2024-03-21 14:04:15                                                                                      \n",
       "7  02:27:20                                                                                                 \n",
       "8                        Intel(R) Xeon(R) CPU E5-2650L v3 @ 1.80GHz                                         \n",
       "9  0.245873626321554                                                                                        \n",
       "10 24                                                                                                       \n",
       "11 libd_chr1-chr1_all-libd_chr1-chr1_all-1201-1400-dynamic-1corestotal-1corepera-20240321-113640            \n",
       "   libd_chr1-chr1_all-libd_chr1-chr1_all-1401-1600-dynamic-1corestotal-1corepera-20240321-113640-summary.csv\n",
       "1  1401                                                                                                     \n",
       "2  1600                                                                                                     \n",
       "3  0                                                                                                        \n",
       "4  libd_chr1-chr1_all-1401-1600-dynamic-1corestotal-1corepera-20240321-113640                               \n",
       "5  2024-03-21 11:36:55                                                                                      \n",
       "6  2024-03-21 14:02:14                                                                                      \n",
       "7  02:25:19                                                                                                 \n",
       "8                        Intel(R) Xeon(R) CPU E5-2650L v3 @ 1.80GHz                                         \n",
       "9  0.245873626321554                                                                                        \n",
       "10 24                                                                                                       \n",
       "11 libd_chr1-chr1_all-libd_chr1-chr1_all-1401-1600-dynamic-1corestotal-1corepera-20240321-113640            \n",
       "   libd_chr1-chr1_all-libd_chr1-chr1_all-1601-1800-dynamic-1corestotal-1corepera-20240321-113640-summary.csv\n",
       "1  1601                                                                                                     \n",
       "2  1800                                                                                                     \n",
       "3  0                                                                                                        \n",
       "4  libd_chr1-chr1_all-1601-1800-dynamic-1corestotal-1corepera-20240321-113640                               \n",
       "5  2024-03-21 11:36:55                                                                                      \n",
       "6  2024-03-21 14:04:08                                                                                      \n",
       "7  02:27:13                                                                                                 \n",
       "8                        Intel(R) Xeon(R) CPU E5-2650L v3 @ 1.80GHz                                         \n",
       "9  0.245873626321554                                                                                        \n",
       "10 24                                                                                                       \n",
       "11 libd_chr1-chr1_all-libd_chr1-chr1_all-1601-1800-dynamic-1corestotal-1corepera-20240321-113640            \n",
       "   libd_chr1-chr1_all-libd_chr1-chr1_all-1801-2000-dynamic-1corestotal-1corepera-20240321-113640-summary.csv\n",
       "1  1801                                                                                                     \n",
       "2  2000                                                                                                     \n",
       "3  0                                                                                                        \n",
       "4  libd_chr1-chr1_all-1801-2000-dynamic-1corestotal-1corepera-20240321-113640                               \n",
       "5  2024-03-21 11:36:55                                                                                      \n",
       "6  2024-03-21 13:58:07                                                                                      \n",
       "7  02:21:12                                                                                                 \n",
       "8                        Intel(R) Xeon(R) CPU E5-2650L v3 @ 1.80GHz                                         \n",
       "9  0.245873626321554                                                                                        \n",
       "10 24                                                                                                       \n",
       "11 libd_chr1-chr1_all-libd_chr1-chr1_all-1801-2000-dynamic-1corestotal-1corepera-20240321-113640            \n",
       "   libd_chr1-chr1_all-libd_chr1-chr1_all-2001-2200-dynamic-1corestotal-1corepera-20240321-113640-summary.csv\n",
       "1  2001                                                                                                     \n",
       "2  2200                                                                                                     \n",
       "3  0                                                                                                        \n",
       "4  libd_chr1-chr1_all-2001-2200-dynamic-1corestotal-1corepera-20240321-113640                               \n",
       "5  2024-03-21 11:36:55                                                                                      \n",
       "6  2024-03-21 12:56:47                                                                                      \n",
       "7  01:19:51                                                                                                 \n",
       "8                        Intel(R) Xeon(R) Gold 6338 CPU @ 2.00GHz                                           \n",
       "9  0.491538614034653                                                                                        \n",
       "10 64                                                                                                       \n",
       "11 libd_chr1-chr1_all-libd_chr1-chr1_all-2001-2200-dynamic-1corestotal-1corepera-20240321-113640            \n",
       "   libd_chr1-chr1_all-libd_chr1-chr1_all-201-400-dynamic-1corestotal-1corepera-20240321-113640-summary.csv\n",
       "1  201                                                                                                    \n",
       "2  400                                                                                                    \n",
       "3  0                                                                                                      \n",
       "4  libd_chr1-chr1_all-201-400-dynamic-1corestotal-1corepera-20240321-113640                               \n",
       "5  2024-03-21 11:36:53                                                                                    \n",
       "6  2024-03-21 13:59:54                                                                                    \n",
       "7  02:23:00                                                                                               \n",
       "8                        AMD Opteron(tm) Processor 6380                                                   \n",
       "9  0.492048908025026                                                                                      \n",
       "10 32                                                                                                     \n",
       "11 libd_chr1-chr1_all-libd_chr1-chr1_all-201-400-dynamic-1corestotal-1corepera-20240321-113640            \n",
       "   libd_chr1-chr1_all-libd_chr1-chr1_all-2201-2400-dynamic-1corestotal-1corepera-20240321-113640-summary.csv\n",
       "1  2201                                                                                                     \n",
       "2  2400                                                                                                     \n",
       "3  0                                                                                                        \n",
       "4  libd_chr1-chr1_all-2201-2400-dynamic-1corestotal-1corepera-20240321-113640                               \n",
       "5  2024-03-21 11:36:55                                                                                      \n",
       "6  2024-03-21 12:57:03                                                                                      \n",
       "7  01:20:08                                                                                                 \n",
       "8                        Intel(R) Xeon(R) Gold 6338 CPU @ 2.00GHz                                           \n",
       "9  0.491538614034653                                                                                        \n",
       "10 64                                                                                                       \n",
       "11 libd_chr1-chr1_all-libd_chr1-chr1_all-2201-2400-dynamic-1corestotal-1corepera-20240321-113640            \n",
       "   ⋯\n",
       "1  ⋯\n",
       "2  ⋯\n",
       "3  ⋯\n",
       "4  ⋯\n",
       "5  ⋯\n",
       "6  ⋯\n",
       "7  ⋯\n",
       "8  ⋯\n",
       "9  ⋯\n",
       "10 ⋯\n",
       "11 ⋯\n",
       "   libd_chr1-chr1_all-libd_chr1-chr1_all-801-1000-dynamic-1corestotal-1corepera-20240324-170418-summary.csv\n",
       "1  801                                                                                                     \n",
       "2  1000                                                                                                    \n",
       "3  1                                                                                                       \n",
       "4  libd_chr1-chr1_all-801-1000-dynamic-1corestotal-1corepera-20240324-170418                               \n",
       "5  2024-03-24 17:04:52                                                                                     \n",
       "6  2024-03-24 18:28:49                                                                                     \n",
       "7  01:23:57                                                                                                \n",
       "8                        AMD EPYC 9224 24-Core Processor                                                   \n",
       "9  0.368568681180477                                                                                       \n",
       "10 24                                                                                                      \n",
       "11 libd_chr1-chr1_all-libd_chr1-chr1_all-801-1000-dynamic-1corestotal-1corepera-20240324-170418            \n",
       "   libd_chr1-chr1_all-libd_chr1-chr1_all-8201-8400-dynamic-1corestotal-1corepera-20240324-170419-summary.csv\n",
       "1  8201                                                                                                     \n",
       "2  8400                                                                                                     \n",
       "3  1                                                                                                        \n",
       "4  libd_chr1-chr1_all-8201-8400-dynamic-1corestotal-1corepera-20240324-170419                               \n",
       "5  2024-03-24 20:43:38                                                                                      \n",
       "6  2024-03-24 22:01:55                                                                                      \n",
       "7  01:18:17                                                                                                 \n",
       "8                        AMD EPYC 9224 24-Core Processor                                                    \n",
       "9  0.368568681180477                                                                                        \n",
       "10 24                                                                                                       \n",
       "11 libd_chr1-chr1_all-libd_chr1-chr1_all-8201-8400-dynamic-1corestotal-1corepera-20240324-170419            \n",
       "   libd_chr1-chr1_all-libd_chr1-chr1_all-8401-8600-dynamic-1corestotal-1corepera-20240324-170419-summary.csv\n",
       "1  8401                                                                                                     \n",
       "2  8600                                                                                                     \n",
       "3  1                                                                                                        \n",
       "4  libd_chr1-chr1_all-8401-8600-dynamic-1corestotal-1corepera-20240324-170419                               \n",
       "5  2024-03-24 20:44:25                                                                                      \n",
       "6  2024-03-25 00:09:22                                                                                      \n",
       "7  03:24:57                                                                                                 \n",
       "8                        Intel(R) Xeon(R) CPU E5-2650L v3 @ 1.80GHz                                         \n",
       "9  0.122832637280226                                                                                        \n",
       "10 24                                                                                                       \n",
       "11 libd_chr1-chr1_all-libd_chr1-chr1_all-8401-8600-dynamic-1corestotal-1corepera-20240324-170419            \n",
       "   libd_chr1-chr1_all-libd_chr1-chr1_all-8601-8800-dynamic-1corestotal-1corepera-20240324-170419-summary.csv\n",
       "1  8601                                                                                                     \n",
       "2  8800                                                                                                     \n",
       "3  1                                                                                                        \n",
       "4  libd_chr1-chr1_all-8601-8800-dynamic-1corestotal-1corepera-20240324-170419                               \n",
       "5  2024-03-24 20:45:05                                                                                      \n",
       "6  2024-03-24 22:57:15                                                                                      \n",
       "7  02:12:09                                                                                                 \n",
       "8                        Intel(R) Xeon(R) Gold 6338 CPU @ 2.00GHz                                           \n",
       "9  0.491538614034653                                                                                        \n",
       "10 64                                                                                                       \n",
       "11 libd_chr1-chr1_all-libd_chr1-chr1_all-8601-8800-dynamic-1corestotal-1corepera-20240324-170419            \n",
       "   libd_chr1-chr1_all-libd_chr1-chr1_all-8801-9000-dynamic-1corestotal-1corepera-20240324-170419-summary.csv\n",
       "1  8801                                                                                                     \n",
       "2  9000                                                                                                     \n",
       "3  1                                                                                                        \n",
       "4  libd_chr1-chr1_all-8801-9000-dynamic-1corestotal-1corepera-20240324-170419                               \n",
       "5  2024-03-24 20:46:34                                                                                      \n",
       "6  2024-03-25 00:48:32                                                                                      \n",
       "7  04:01:58                                                                                                 \n",
       "8                        Intel(R) Xeon(R) CPU E5-2650L v3 @ 1.80GHz                                         \n",
       "9  0.245873626321554                                                                                        \n",
       "10 24                                                                                                       \n",
       "11 libd_chr1-chr1_all-libd_chr1-chr1_all-8801-9000-dynamic-1corestotal-1corepera-20240324-170419            \n",
       "   libd_chr1-chr1_all-libd_chr1-chr1_all-9001-9200-dynamic-1corestotal-1corepera-20240324-170419-summary.csv\n",
       "1  9001                                                                                                     \n",
       "2  9200                                                                                                     \n",
       "3  1                                                                                                        \n",
       "4  libd_chr1-chr1_all-9001-9200-dynamic-1corestotal-1corepera-20240324-170419                               \n",
       "5  2024-03-24 21:08:54                                                                                      \n",
       "6  2024-03-24 23:52:30                                                                                      \n",
       "7  02:43:35                                                                                                 \n",
       "8                        Intel(R) Xeon(R) CPU E5-2650 v4 @ 2.20GHz                                          \n",
       "9  0.122523229569197                                                                                        \n",
       "10 24                                                                                                       \n",
       "11 libd_chr1-chr1_all-libd_chr1-chr1_all-9001-9200-dynamic-1corestotal-1corepera-20240324-170419            \n",
       "   libd_chr1-chr1_all-libd_chr1-chr1_all-9201-9400-dynamic-1corestotal-1corepera-20240324-170419-summary.csv\n",
       "1  9201                                                                                                     \n",
       "2  9400                                                                                                     \n",
       "3  1                                                                                                        \n",
       "4  libd_chr1-chr1_all-9201-9400-dynamic-1corestotal-1corepera-20240324-170419                               \n",
       "5  2024-03-24 21:09:16                                                                                      \n",
       "6  2024-03-24 23:59:56                                                                                      \n",
       "7  02:50:40                                                                                                 \n",
       "8                        Intel(R) Xeon(R) CPU E5-2650 v4 @ 2.20GHz                                          \n",
       "9  0.122523229569197                                                                                        \n",
       "10 24                                                                                                       \n",
       "11 libd_chr1-chr1_all-libd_chr1-chr1_all-9201-9400-dynamic-1corestotal-1corepera-20240324-170419            \n",
       "   libd_chr1-chr1_all-libd_chr1-chr1_all-9401-9600-dynamic-1corestotal-1corepera-20240324-170419-summary.csv\n",
       "1  9401                                                                                                     \n",
       "2  9600                                                                                                     \n",
       "3  1                                                                                                        \n",
       "4  libd_chr1-chr1_all-9401-9600-dynamic-1corestotal-1corepera-20240324-170419                               \n",
       "5  2024-03-24 21:16:34                                                                                      \n",
       "6  2024-03-25 00:08:59                                                                                      \n",
       "7  02:52:25                                                                                                 \n",
       "8                        Intel(R) Xeon(R) CPU E5-2650 v4 @ 2.20GHz                                          \n",
       "9  0.122523229569197                                                                                        \n",
       "10 24                                                                                                       \n",
       "11 libd_chr1-chr1_all-libd_chr1-chr1_all-9401-9600-dynamic-1corestotal-1corepera-20240324-170419            \n",
       "   libd_chr1-chr1_all-libd_chr1-chr1_all-9601-9800-dynamic-1corestotal-1corepera-20240324-170420-summary.csv\n",
       "1  9601                                                                                                     \n",
       "2  9800                                                                                                     \n",
       "3  1                                                                                                        \n",
       "4  libd_chr1-chr1_all-9601-9800-dynamic-1corestotal-1corepera-20240324-170420                               \n",
       "5  2024-03-24 21:10:03                                                                                      \n",
       "6  2024-03-25 01:14:33                                                                                      \n",
       "7  04:04:29                                                                                                 \n",
       "8                        Intel(R) Xeon(R) CPU E5-2650L v3 @ 1.80GHz                                         \n",
       "9  0.245873626321554                                                                                        \n",
       "10 24                                                                                                       \n",
       "11 libd_chr1-chr1_all-libd_chr1-chr1_all-9601-9800-dynamic-1corestotal-1corepera-20240324-170420            \n",
       "   libd_chr1-chr1_all-libd_chr1-chr1_all-9801-10000-dynamic-1corestotal-1corepera-20240324-170420-summary.csv\n",
       "1  9801                                                                                                      \n",
       "2  10000                                                                                                     \n",
       "3  1                                                                                                         \n",
       "4  libd_chr1-chr1_all-9801-10000-dynamic-1corestotal-1corepera-20240324-170420                               \n",
       "5  2024-03-24 21:17:01                                                                                       \n",
       "6  2024-03-25 00:04:00                                                                                       \n",
       "7  02:46:59                                                                                                  \n",
       "8                        Intel(R) Xeon(R) CPU E5-2650 v4 @ 2.20GHz                                           \n",
       "9  0.122523229569197                                                                                         \n",
       "10 24                                                                                                        \n",
       "11 libd_chr1-chr1_all-libd_chr1-chr1_all-9801-10000-dynamic-1corestotal-1corepera-20240324-170420            "
      ]
     },
     "metadata": {},
     "output_type": "display_data"
    }
   ],
   "source": [
    "directory <- \"/dcs04/lieber/statsgen/mnagle/mwas/CpGWAS/output/\"\n",
    "summary_table <- read_and_summarize_differences(directory)\n",
    "summary_table"
   ]
  },
  {
   "cell_type": "markdown",
   "id": "3d9b6d61-07ee-4325-aa0e-b908cf24449e",
   "metadata": {},
   "source": [
    "## Compute core-hours per test"
   ]
  },
  {
   "cell_type": "code",
   "execution_count": 3,
   "id": "a231ce51-2bbc-4893-bca6-ec8a521ca029",
   "metadata": {},
   "outputs": [
    {
     "data": {
      "text/html": [
       "40000"
      ],
      "text/latex": [
       "40000"
      ],
      "text/markdown": [
       "40000"
      ],
      "text/plain": [
       "[1] 40000"
      ]
     },
     "metadata": {},
     "output_type": "display_data"
    }
   ],
   "source": [
    "windows <- c(1000,2000,5000,10000,20000,50000,100000,500000)\n",
    "n_windows <- length(windows)\n",
    "alphas <- seq(0, 1, .25) # left out 0 on first run\n",
    "n_alphas <- length(alphas)\n",
    "chunks <- 1000\n",
    "n_tests <- n_windows * n_alphas * chunks\n",
    "n_tests"
   ]
  },
  {
   "cell_type": "code",
   "execution_count": 4,
   "id": "72d144e0-9151-4871-9bf4-adb32a555e9b",
   "metadata": {},
   "outputs": [
    {
     "data": {
      "text/html": [
       "<style>\n",
       ".list-inline {list-style: none; margin:0; padding: 0}\n",
       ".list-inline>li {display: inline-block}\n",
       ".list-inline>li:not(:last-child)::after {content: \"\\00b7\"; padding: 0 .5ex}\n",
       "</style>\n",
       "<ol class=list-inline><li>0</li><li>0.25</li><li>0.5</li><li>0.75</li><li>1</li></ol>\n"
      ],
      "text/latex": [
       "\\begin{enumerate*}\n",
       "\\item 0\n",
       "\\item 0.25\n",
       "\\item 0.5\n",
       "\\item 0.75\n",
       "\\item 1\n",
       "\\end{enumerate*}\n"
      ],
      "text/markdown": [
       "1. 0\n",
       "2. 0.25\n",
       "3. 0.5\n",
       "4. 0.75\n",
       "5. 1\n",
       "\n",
       "\n"
      ],
      "text/plain": [
       "[1] 0.00 0.25 0.50 0.75 1.00"
      ]
     },
     "metadata": {},
     "output_type": "display_data"
    }
   ],
   "source": [
    "alphas"
   ]
  },
  {
   "cell_type": "code",
   "execution_count": 5,
   "id": "fc628bd0-2b8a-4d25-b0df-6e3836e0fa11",
   "metadata": {},
   "outputs": [
    {
     "data": {
      "text/html": [
       "<style>\n",
       ".list-inline {list-style: none; margin:0; padding: 0}\n",
       ".list-inline>li {display: inline-block}\n",
       ".list-inline>li:not(:last-child)::after {content: \"\\00b7\"; padding: 0 .5ex}\n",
       "</style>\n",
       "<ol class=list-inline><li>'Parameter'</li><li>'libd_chr1-chr1_AA-libd_chr1-chr1_AA-1001000-1001999-static-1corestotal-1corepera-20240201-164244-summary.csv'</li><li>'libd_chr1-chr1_AA-libd_chr1-chr1_AA-1004000-1004999-static-1corestotal-1corepera-20240201-164247-summary.csv'</li><li>'libd_chr1-chr1_AA-libd_chr1-chr1_AA-1005000-1005999-static-1corestotal-1corepera-20240201-164248-summary.csv'</li></ol>\n"
      ],
      "text/latex": [
       "\\begin{enumerate*}\n",
       "\\item 'Parameter'\n",
       "\\item 'libd\\_chr1-chr1\\_AA-libd\\_chr1-chr1\\_AA-1001000-1001999-static-1corestotal-1corepera-20240201-164244-summary.csv'\n",
       "\\item 'libd\\_chr1-chr1\\_AA-libd\\_chr1-chr1\\_AA-1004000-1004999-static-1corestotal-1corepera-20240201-164247-summary.csv'\n",
       "\\item 'libd\\_chr1-chr1\\_AA-libd\\_chr1-chr1\\_AA-1005000-1005999-static-1corestotal-1corepera-20240201-164248-summary.csv'\n",
       "\\end{enumerate*}\n"
      ],
      "text/markdown": [
       "1. 'Parameter'\n",
       "2. 'libd_chr1-chr1_AA-libd_chr1-chr1_AA-1001000-1001999-static-1corestotal-1corepera-20240201-164244-summary.csv'\n",
       "3. 'libd_chr1-chr1_AA-libd_chr1-chr1_AA-1004000-1004999-static-1corestotal-1corepera-20240201-164247-summary.csv'\n",
       "4. 'libd_chr1-chr1_AA-libd_chr1-chr1_AA-1005000-1005999-static-1corestotal-1corepera-20240201-164248-summary.csv'\n",
       "\n",
       "\n"
      ],
      "text/plain": [
       "[1] \"Parameter\"                                                                                                   \n",
       "[2] \"libd_chr1-chr1_AA-libd_chr1-chr1_AA-1001000-1001999-static-1corestotal-1corepera-20240201-164244-summary.csv\"\n",
       "[3] \"libd_chr1-chr1_AA-libd_chr1-chr1_AA-1004000-1004999-static-1corestotal-1corepera-20240201-164247-summary.csv\"\n",
       "[4] \"libd_chr1-chr1_AA-libd_chr1-chr1_AA-1005000-1005999-static-1corestotal-1corepera-20240201-164248-summary.csv\""
      ]
     },
     "metadata": {},
     "output_type": "display_data"
    }
   ],
   "source": [
    "colnames(summary_table)"
   ]
  },
  {
   "cell_type": "code",
   "execution_count": 6,
   "id": "dc35e0ef-9890-488d-aacb-b76370b8069e",
   "metadata": {},
   "outputs": [
    {
     "data": {
      "text/html": [
       "<table class=\"dataframe\">\n",
       "<caption>A tibble: 10 × 4</caption>\n",
       "<thead>\n",
       "\t<tr><th scope=col>Parameter</th><th scope=col>libd_chr1-chr1_AA-libd_chr1-chr1_AA-1001000-1001999-static-1corestotal-1corepera-20240201-164244-summary.csv</th><th scope=col>libd_chr1-chr1_AA-libd_chr1-chr1_AA-1004000-1004999-static-1corestotal-1corepera-20240201-164247-summary.csv</th><th scope=col>libd_chr1-chr1_AA-libd_chr1-chr1_AA-1005000-1005999-static-1corestotal-1corepera-20240201-164248-summary.csv</th></tr>\n",
       "\t<tr><th scope=col>&lt;chr&gt;</th><th scope=col>&lt;chr&gt;</th><th scope=col>&lt;chr&gt;</th><th scope=col>&lt;chr&gt;</th></tr>\n",
       "</thead>\n",
       "<tbody>\n",
       "\t<tr><td>chunk1        </td><td>1001000                                                                                         </td><td>1004000                                                                                         </td><td>1005000                                                                                         </td></tr>\n",
       "\t<tr><td>chunk2        </td><td>1001999                                                                                         </td><td>1004999                                                                                         </td><td>1005999                                                                                         </td></tr>\n",
       "\t<tr><td>tag           </td><td>libd_chr1-chr1_AA-1001000-1001999-static-1corestotal-1corepera-20240201-164244                  </td><td>libd_chr1-chr1_AA-1004000-1004999-static-1corestotal-1corepera-20240201-164247                  </td><td>libd_chr1-chr1_AA-1005000-1005999-static-1corestotal-1corepera-20240201-164248                  </td></tr>\n",
       "\t<tr><td>time_started  </td><td>2024-02-01 16:42:47                                                                             </td><td>2024-02-01 16:42:50                                                                             </td><td>2024-02-01 16:42:54                                                                             </td></tr>\n",
       "\t<tr><td>time_finished </td><td>2024-02-01 18:10:46                                                                             </td><td>2024-02-01 18:54:29                                                                             </td><td>2024-02-01 18:46:42                                                                             </td></tr>\n",
       "\t<tr><td>runtime       </td><td>01:27:59                                                                                        </td><td>02:11:38                                                                                        </td><td>02:03:48                                                                                        </td></tr>\n",
       "\t<tr><td>type_CPU      </td><td>                      AMD EPYC 7713 64-Core Processor                                           </td><td>                      Intel(R) Xeon(R) Gold 6338 CPU @ 2.00GHz                                  </td><td>                      Intel(R) Xeon(R) Gold 6338 CPU @ 2.00GHz                                  </td></tr>\n",
       "\t<tr><td>amount_RAM    </td><td>0.983715858310461                                                                               </td><td>0.491538614034653                                                                               </td><td>0.491538614034653                                                                               </td></tr>\n",
       "\t<tr><td>physical_cores</td><td>128                                                                                             </td><td>64                                                                                              </td><td>64                                                                                              </td></tr>\n",
       "\t<tr><td>scaffold_ID   </td><td>libd_chr1-chr1_AA-libd_chr1-chr1_AA-1001000-1001999-static-1corestotal-1corepera-20240201-164244</td><td>libd_chr1-chr1_AA-libd_chr1-chr1_AA-1004000-1004999-static-1corestotal-1corepera-20240201-164247</td><td>libd_chr1-chr1_AA-libd_chr1-chr1_AA-1005000-1005999-static-1corestotal-1corepera-20240201-164248</td></tr>\n",
       "</tbody>\n",
       "</table>\n"
      ],
      "text/latex": [
       "A tibble: 10 × 4\n",
       "\\begin{tabular}{llll}\n",
       " Parameter & libd\\_chr1-chr1\\_AA-libd\\_chr1-chr1\\_AA-1001000-1001999-static-1corestotal-1corepera-20240201-164244-summary.csv & libd\\_chr1-chr1\\_AA-libd\\_chr1-chr1\\_AA-1004000-1004999-static-1corestotal-1corepera-20240201-164247-summary.csv & libd\\_chr1-chr1\\_AA-libd\\_chr1-chr1\\_AA-1005000-1005999-static-1corestotal-1corepera-20240201-164248-summary.csv\\\\\n",
       " <chr> & <chr> & <chr> & <chr>\\\\\n",
       "\\hline\n",
       "\t chunk1         & 1001000                                                                                          & 1004000                                                                                          & 1005000                                                                                         \\\\\n",
       "\t chunk2         & 1001999                                                                                          & 1004999                                                                                          & 1005999                                                                                         \\\\\n",
       "\t tag            & libd\\_chr1-chr1\\_AA-1001000-1001999-static-1corestotal-1corepera-20240201-164244                   & libd\\_chr1-chr1\\_AA-1004000-1004999-static-1corestotal-1corepera-20240201-164247                   & libd\\_chr1-chr1\\_AA-1005000-1005999-static-1corestotal-1corepera-20240201-164248                  \\\\\n",
       "\t time\\_started   & 2024-02-01 16:42:47                                                                              & 2024-02-01 16:42:50                                                                              & 2024-02-01 16:42:54                                                                             \\\\\n",
       "\t time\\_finished  & 2024-02-01 18:10:46                                                                              & 2024-02-01 18:54:29                                                                              & 2024-02-01 18:46:42                                                                             \\\\\n",
       "\t runtime        & 01:27:59                                                                                         & 02:11:38                                                                                         & 02:03:48                                                                                        \\\\\n",
       "\t type\\_CPU       &                       AMD EPYC 7713 64-Core Processor                                            &                       Intel(R) Xeon(R) Gold 6338 CPU @ 2.00GHz                                   &                       Intel(R) Xeon(R) Gold 6338 CPU @ 2.00GHz                                  \\\\\n",
       "\t amount\\_RAM     & 0.983715858310461                                                                                & 0.491538614034653                                                                                & 0.491538614034653                                                                               \\\\\n",
       "\t physical\\_cores & 128                                                                                              & 64                                                                                               & 64                                                                                              \\\\\n",
       "\t scaffold\\_ID    & libd\\_chr1-chr1\\_AA-libd\\_chr1-chr1\\_AA-1001000-1001999-static-1corestotal-1corepera-20240201-164244 & libd\\_chr1-chr1\\_AA-libd\\_chr1-chr1\\_AA-1004000-1004999-static-1corestotal-1corepera-20240201-164247 & libd\\_chr1-chr1\\_AA-libd\\_chr1-chr1\\_AA-1005000-1005999-static-1corestotal-1corepera-20240201-164248\\\\\n",
       "\\end{tabular}\n"
      ],
      "text/markdown": [
       "\n",
       "A tibble: 10 × 4\n",
       "\n",
       "| Parameter &lt;chr&gt; | libd_chr1-chr1_AA-libd_chr1-chr1_AA-1001000-1001999-static-1corestotal-1corepera-20240201-164244-summary.csv &lt;chr&gt; | libd_chr1-chr1_AA-libd_chr1-chr1_AA-1004000-1004999-static-1corestotal-1corepera-20240201-164247-summary.csv &lt;chr&gt; | libd_chr1-chr1_AA-libd_chr1-chr1_AA-1005000-1005999-static-1corestotal-1corepera-20240201-164248-summary.csv &lt;chr&gt; |\n",
       "|---|---|---|---|\n",
       "| chunk1         | 1001000                                                                                          | 1004000                                                                                          | 1005000                                                                                          |\n",
       "| chunk2         | 1001999                                                                                          | 1004999                                                                                          | 1005999                                                                                          |\n",
       "| tag            | libd_chr1-chr1_AA-1001000-1001999-static-1corestotal-1corepera-20240201-164244                   | libd_chr1-chr1_AA-1004000-1004999-static-1corestotal-1corepera-20240201-164247                   | libd_chr1-chr1_AA-1005000-1005999-static-1corestotal-1corepera-20240201-164248                   |\n",
       "| time_started   | 2024-02-01 16:42:47                                                                              | 2024-02-01 16:42:50                                                                              | 2024-02-01 16:42:54                                                                              |\n",
       "| time_finished  | 2024-02-01 18:10:46                                                                              | 2024-02-01 18:54:29                                                                              | 2024-02-01 18:46:42                                                                              |\n",
       "| runtime        | 01:27:59                                                                                         | 02:11:38                                                                                         | 02:03:48                                                                                         |\n",
       "| type_CPU       |                       AMD EPYC 7713 64-Core Processor                                            |                       Intel(R) Xeon(R) Gold 6338 CPU @ 2.00GHz                                   |                       Intel(R) Xeon(R) Gold 6338 CPU @ 2.00GHz                                   |\n",
       "| amount_RAM     | 0.983715858310461                                                                                | 0.491538614034653                                                                                | 0.491538614034653                                                                                |\n",
       "| physical_cores | 128                                                                                              | 64                                                                                               | 64                                                                                               |\n",
       "| scaffold_ID    | libd_chr1-chr1_AA-libd_chr1-chr1_AA-1001000-1001999-static-1corestotal-1corepera-20240201-164244 | libd_chr1-chr1_AA-libd_chr1-chr1_AA-1004000-1004999-static-1corestotal-1corepera-20240201-164247 | libd_chr1-chr1_AA-libd_chr1-chr1_AA-1005000-1005999-static-1corestotal-1corepera-20240201-164248 |\n",
       "\n"
      ],
      "text/plain": [
       "   Parameter     \n",
       "1  chunk1        \n",
       "2  chunk2        \n",
       "3  tag           \n",
       "4  time_started  \n",
       "5  time_finished \n",
       "6  runtime       \n",
       "7  type_CPU      \n",
       "8  amount_RAM    \n",
       "9  physical_cores\n",
       "10 scaffold_ID   \n",
       "   libd_chr1-chr1_AA-libd_chr1-chr1_AA-1001000-1001999-static-1corestotal-1corepera-20240201-164244-summary.csv\n",
       "1  1001000                                                                                                     \n",
       "2  1001999                                                                                                     \n",
       "3  libd_chr1-chr1_AA-1001000-1001999-static-1corestotal-1corepera-20240201-164244                              \n",
       "4  2024-02-01 16:42:47                                                                                         \n",
       "5  2024-02-01 18:10:46                                                                                         \n",
       "6  01:27:59                                                                                                    \n",
       "7                        AMD EPYC 7713 64-Core Processor                                                       \n",
       "8  0.983715858310461                                                                                           \n",
       "9  128                                                                                                         \n",
       "10 libd_chr1-chr1_AA-libd_chr1-chr1_AA-1001000-1001999-static-1corestotal-1corepera-20240201-164244            \n",
       "   libd_chr1-chr1_AA-libd_chr1-chr1_AA-1004000-1004999-static-1corestotal-1corepera-20240201-164247-summary.csv\n",
       "1  1004000                                                                                                     \n",
       "2  1004999                                                                                                     \n",
       "3  libd_chr1-chr1_AA-1004000-1004999-static-1corestotal-1corepera-20240201-164247                              \n",
       "4  2024-02-01 16:42:50                                                                                         \n",
       "5  2024-02-01 18:54:29                                                                                         \n",
       "6  02:11:38                                                                                                    \n",
       "7                        Intel(R) Xeon(R) Gold 6338 CPU @ 2.00GHz                                              \n",
       "8  0.491538614034653                                                                                           \n",
       "9  64                                                                                                          \n",
       "10 libd_chr1-chr1_AA-libd_chr1-chr1_AA-1004000-1004999-static-1corestotal-1corepera-20240201-164247            \n",
       "   libd_chr1-chr1_AA-libd_chr1-chr1_AA-1005000-1005999-static-1corestotal-1corepera-20240201-164248-summary.csv\n",
       "1  1005000                                                                                                     \n",
       "2  1005999                                                                                                     \n",
       "3  libd_chr1-chr1_AA-1005000-1005999-static-1corestotal-1corepera-20240201-164248                              \n",
       "4  2024-02-01 16:42:54                                                                                         \n",
       "5  2024-02-01 18:46:42                                                                                         \n",
       "6  02:03:48                                                                                                    \n",
       "7                        Intel(R) Xeon(R) Gold 6338 CPU @ 2.00GHz                                              \n",
       "8  0.491538614034653                                                                                           \n",
       "9  64                                                                                                          \n",
       "10 libd_chr1-chr1_AA-libd_chr1-chr1_AA-1005000-1005999-static-1corestotal-1corepera-20240201-164248            "
      ]
     },
     "metadata": {},
     "output_type": "display_data"
    }
   ],
   "source": [
    "summary_table"
   ]
  },
  {
   "cell_type": "code",
   "execution_count": 7,
   "id": "31316e4d-dd97-43f5-98f8-1eef70fa37fb",
   "metadata": {},
   "outputs": [],
   "source": [
    "summary_table <- as.data.frame(t(summary_table))\n",
    "colnames(summary_table) <- summary_table[1, ]\n",
    "summary_table <- summary_table[-1, ]\n",
    "summary_table$number_cores <- 1"
   ]
  },
  {
   "cell_type": "code",
   "execution_count": 8,
   "id": "072acef6-5e8e-4a03-9647-c2b9eb2440b4",
   "metadata": {},
   "outputs": [],
   "source": [
    "summary_table$runtime_seconds <- sapply(summary_table$runtime, function(x) {\n",
    "  parts <- strsplit(x, \":\")[[1]]\n",
    "  as.numeric(parts[1]) * 3600 + as.numeric(parts[2]) * 60 + as.numeric(parts[3])\n",
    "})"
   ]
  },
  {
   "cell_type": "code",
   "execution_count": 9,
   "id": "643f9b4a-3d63-4d6c-a354-956fc42dc3f4",
   "metadata": {},
   "outputs": [],
   "source": [
    "summary_table$runtime_hours <- summary_table$runtime_seconds/3600"
   ]
  },
  {
   "cell_type": "code",
   "execution_count": 10,
   "id": "ca2f1caa-175f-407e-8a7e-166699164fad",
   "metadata": {},
   "outputs": [],
   "source": [
    "summary_table$runtime_core_hours <- summary_table$runtime_hours * summary_table$number_cores\n",
    "summary_table$runtime_core_seconds <- summary_table$runtime_seconds * summary_table$number_cores\n",
    "summary_table$core_hours_per_test <- summary_table$runtime_core_hours / n_tests\n",
    "summary_table$core_seconds_per_test <- summary_table$runtime_core_seconds / n_tests"
   ]
  },
  {
   "cell_type": "code",
   "execution_count": 11,
   "id": "6d784e30-2f15-4034-9b2c-ab404913bb98",
   "metadata": {},
   "outputs": [
    {
     "data": {
      "text/html": [
       "<table class=\"dataframe\">\n",
       "<caption>A data.frame: 3 × 17</caption>\n",
       "<thead>\n",
       "\t<tr><th></th><th scope=col>chunk1</th><th scope=col>chunk2</th><th scope=col>tag</th><th scope=col>time_started</th><th scope=col>time_finished</th><th scope=col>runtime</th><th scope=col>type_CPU</th><th scope=col>amount_RAM</th><th scope=col>physical_cores</th><th scope=col>scaffold_ID</th><th scope=col>number_cores</th><th scope=col>runtime_seconds</th><th scope=col>runtime_hours</th><th scope=col>runtime_core_hours</th><th scope=col>runtime_core_seconds</th><th scope=col>core_hours_per_test</th><th scope=col>core_seconds_per_test</th></tr>\n",
       "\t<tr><th></th><th scope=col>&lt;chr&gt;</th><th scope=col>&lt;chr&gt;</th><th scope=col>&lt;chr&gt;</th><th scope=col>&lt;chr&gt;</th><th scope=col>&lt;chr&gt;</th><th scope=col>&lt;chr&gt;</th><th scope=col>&lt;chr&gt;</th><th scope=col>&lt;chr&gt;</th><th scope=col>&lt;chr&gt;</th><th scope=col>&lt;chr&gt;</th><th scope=col>&lt;dbl&gt;</th><th scope=col>&lt;dbl&gt;</th><th scope=col>&lt;dbl&gt;</th><th scope=col>&lt;dbl&gt;</th><th scope=col>&lt;dbl&gt;</th><th scope=col>&lt;dbl&gt;</th><th scope=col>&lt;dbl&gt;</th></tr>\n",
       "</thead>\n",
       "<tbody>\n",
       "\t<tr><th scope=row>libd_chr1-chr1_AA-libd_chr1-chr1_AA-1001000-1001999-static-1corestotal-1corepera-20240201-164244-summary.csv</th><td>1001000</td><td>1001999</td><td>libd_chr1-chr1_AA-1001000-1001999-static-1corestotal-1corepera-20240201-164244</td><td>2024-02-01 16:42:47</td><td>2024-02-01 18:10:46</td><td>01:27:59</td><td>                      AMD EPYC 7713 64-Core Processor         </td><td>0.983715858310461</td><td>128</td><td>libd_chr1-chr1_AA-libd_chr1-chr1_AA-1001000-1001999-static-1corestotal-1corepera-20240201-164244</td><td>1</td><td>5279</td><td>1.466389</td><td>1.466389</td><td>5279</td><td>3.665972e-05</td><td>0.131975</td></tr>\n",
       "\t<tr><th scope=row>libd_chr1-chr1_AA-libd_chr1-chr1_AA-1004000-1004999-static-1corestotal-1corepera-20240201-164247-summary.csv</th><td>1004000</td><td>1004999</td><td>libd_chr1-chr1_AA-1004000-1004999-static-1corestotal-1corepera-20240201-164247</td><td>2024-02-01 16:42:50</td><td>2024-02-01 18:54:29</td><td>02:11:38</td><td>                      Intel(R) Xeon(R) Gold 6338 CPU @ 2.00GHz</td><td>0.491538614034653</td><td>64 </td><td>libd_chr1-chr1_AA-libd_chr1-chr1_AA-1004000-1004999-static-1corestotal-1corepera-20240201-164247</td><td>1</td><td>7898</td><td>2.193889</td><td>2.193889</td><td>7898</td><td>5.484722e-05</td><td>0.197450</td></tr>\n",
       "\t<tr><th scope=row>libd_chr1-chr1_AA-libd_chr1-chr1_AA-1005000-1005999-static-1corestotal-1corepera-20240201-164248-summary.csv</th><td>1005000</td><td>1005999</td><td>libd_chr1-chr1_AA-1005000-1005999-static-1corestotal-1corepera-20240201-164248</td><td>2024-02-01 16:42:54</td><td>2024-02-01 18:46:42</td><td>02:03:48</td><td>                      Intel(R) Xeon(R) Gold 6338 CPU @ 2.00GHz</td><td>0.491538614034653</td><td>64 </td><td>libd_chr1-chr1_AA-libd_chr1-chr1_AA-1005000-1005999-static-1corestotal-1corepera-20240201-164248</td><td>1</td><td>7428</td><td>2.063333</td><td>2.063333</td><td>7428</td><td>5.158333e-05</td><td>0.185700</td></tr>\n",
       "</tbody>\n",
       "</table>\n"
      ],
      "text/latex": [
       "A data.frame: 3 × 17\n",
       "\\begin{tabular}{r|lllllllllllllllll}\n",
       "  & chunk1 & chunk2 & tag & time\\_started & time\\_finished & runtime & type\\_CPU & amount\\_RAM & physical\\_cores & scaffold\\_ID & number\\_cores & runtime\\_seconds & runtime\\_hours & runtime\\_core\\_hours & runtime\\_core\\_seconds & core\\_hours\\_per\\_test & core\\_seconds\\_per\\_test\\\\\n",
       "  & <chr> & <chr> & <chr> & <chr> & <chr> & <chr> & <chr> & <chr> & <chr> & <chr> & <dbl> & <dbl> & <dbl> & <dbl> & <dbl> & <dbl> & <dbl>\\\\\n",
       "\\hline\n",
       "\tlibd\\_chr1-chr1\\_AA-libd\\_chr1-chr1\\_AA-1001000-1001999-static-1corestotal-1corepera-20240201-164244-summary.csv & 1001000 & 1001999 & libd\\_chr1-chr1\\_AA-1001000-1001999-static-1corestotal-1corepera-20240201-164244 & 2024-02-01 16:42:47 & 2024-02-01 18:10:46 & 01:27:59 &                       AMD EPYC 7713 64-Core Processor          & 0.983715858310461 & 128 & libd\\_chr1-chr1\\_AA-libd\\_chr1-chr1\\_AA-1001000-1001999-static-1corestotal-1corepera-20240201-164244 & 1 & 5279 & 1.466389 & 1.466389 & 5279 & 3.665972e-05 & 0.131975\\\\\n",
       "\tlibd\\_chr1-chr1\\_AA-libd\\_chr1-chr1\\_AA-1004000-1004999-static-1corestotal-1corepera-20240201-164247-summary.csv & 1004000 & 1004999 & libd\\_chr1-chr1\\_AA-1004000-1004999-static-1corestotal-1corepera-20240201-164247 & 2024-02-01 16:42:50 & 2024-02-01 18:54:29 & 02:11:38 &                       Intel(R) Xeon(R) Gold 6338 CPU @ 2.00GHz & 0.491538614034653 & 64  & libd\\_chr1-chr1\\_AA-libd\\_chr1-chr1\\_AA-1004000-1004999-static-1corestotal-1corepera-20240201-164247 & 1 & 7898 & 2.193889 & 2.193889 & 7898 & 5.484722e-05 & 0.197450\\\\\n",
       "\tlibd\\_chr1-chr1\\_AA-libd\\_chr1-chr1\\_AA-1005000-1005999-static-1corestotal-1corepera-20240201-164248-summary.csv & 1005000 & 1005999 & libd\\_chr1-chr1\\_AA-1005000-1005999-static-1corestotal-1corepera-20240201-164248 & 2024-02-01 16:42:54 & 2024-02-01 18:46:42 & 02:03:48 &                       Intel(R) Xeon(R) Gold 6338 CPU @ 2.00GHz & 0.491538614034653 & 64  & libd\\_chr1-chr1\\_AA-libd\\_chr1-chr1\\_AA-1005000-1005999-static-1corestotal-1corepera-20240201-164248 & 1 & 7428 & 2.063333 & 2.063333 & 7428 & 5.158333e-05 & 0.185700\\\\\n",
       "\\end{tabular}\n"
      ],
      "text/markdown": [
       "\n",
       "A data.frame: 3 × 17\n",
       "\n",
       "| <!--/--> | chunk1 &lt;chr&gt; | chunk2 &lt;chr&gt; | tag &lt;chr&gt; | time_started &lt;chr&gt; | time_finished &lt;chr&gt; | runtime &lt;chr&gt; | type_CPU &lt;chr&gt; | amount_RAM &lt;chr&gt; | physical_cores &lt;chr&gt; | scaffold_ID &lt;chr&gt; | number_cores &lt;dbl&gt; | runtime_seconds &lt;dbl&gt; | runtime_hours &lt;dbl&gt; | runtime_core_hours &lt;dbl&gt; | runtime_core_seconds &lt;dbl&gt; | core_hours_per_test &lt;dbl&gt; | core_seconds_per_test &lt;dbl&gt; |\n",
       "|---|---|---|---|---|---|---|---|---|---|---|---|---|---|---|---|---|---|\n",
       "| libd_chr1-chr1_AA-libd_chr1-chr1_AA-1001000-1001999-static-1corestotal-1corepera-20240201-164244-summary.csv | 1001000 | 1001999 | libd_chr1-chr1_AA-1001000-1001999-static-1corestotal-1corepera-20240201-164244 | 2024-02-01 16:42:47 | 2024-02-01 18:10:46 | 01:27:59 |                       AMD EPYC 7713 64-Core Processor          | 0.983715858310461 | 128 | libd_chr1-chr1_AA-libd_chr1-chr1_AA-1001000-1001999-static-1corestotal-1corepera-20240201-164244 | 1 | 5279 | 1.466389 | 1.466389 | 5279 | 3.665972e-05 | 0.131975 |\n",
       "| libd_chr1-chr1_AA-libd_chr1-chr1_AA-1004000-1004999-static-1corestotal-1corepera-20240201-164247-summary.csv | 1004000 | 1004999 | libd_chr1-chr1_AA-1004000-1004999-static-1corestotal-1corepera-20240201-164247 | 2024-02-01 16:42:50 | 2024-02-01 18:54:29 | 02:11:38 |                       Intel(R) Xeon(R) Gold 6338 CPU @ 2.00GHz | 0.491538614034653 | 64  | libd_chr1-chr1_AA-libd_chr1-chr1_AA-1004000-1004999-static-1corestotal-1corepera-20240201-164247 | 1 | 7898 | 2.193889 | 2.193889 | 7898 | 5.484722e-05 | 0.197450 |\n",
       "| libd_chr1-chr1_AA-libd_chr1-chr1_AA-1005000-1005999-static-1corestotal-1corepera-20240201-164248-summary.csv | 1005000 | 1005999 | libd_chr1-chr1_AA-1005000-1005999-static-1corestotal-1corepera-20240201-164248 | 2024-02-01 16:42:54 | 2024-02-01 18:46:42 | 02:03:48 |                       Intel(R) Xeon(R) Gold 6338 CPU @ 2.00GHz | 0.491538614034653 | 64  | libd_chr1-chr1_AA-libd_chr1-chr1_AA-1005000-1005999-static-1corestotal-1corepera-20240201-164248 | 1 | 7428 | 2.063333 | 2.063333 | 7428 | 5.158333e-05 | 0.185700 |\n",
       "\n"
      ],
      "text/plain": [
       "                                                                                                             chunk1 \n",
       "libd_chr1-chr1_AA-libd_chr1-chr1_AA-1001000-1001999-static-1corestotal-1corepera-20240201-164244-summary.csv 1001000\n",
       "libd_chr1-chr1_AA-libd_chr1-chr1_AA-1004000-1004999-static-1corestotal-1corepera-20240201-164247-summary.csv 1004000\n",
       "libd_chr1-chr1_AA-libd_chr1-chr1_AA-1005000-1005999-static-1corestotal-1corepera-20240201-164248-summary.csv 1005000\n",
       "                                                                                                             chunk2 \n",
       "libd_chr1-chr1_AA-libd_chr1-chr1_AA-1001000-1001999-static-1corestotal-1corepera-20240201-164244-summary.csv 1001999\n",
       "libd_chr1-chr1_AA-libd_chr1-chr1_AA-1004000-1004999-static-1corestotal-1corepera-20240201-164247-summary.csv 1004999\n",
       "libd_chr1-chr1_AA-libd_chr1-chr1_AA-1005000-1005999-static-1corestotal-1corepera-20240201-164248-summary.csv 1005999\n",
       "                                                                                                             tag                                                                           \n",
       "libd_chr1-chr1_AA-libd_chr1-chr1_AA-1001000-1001999-static-1corestotal-1corepera-20240201-164244-summary.csv libd_chr1-chr1_AA-1001000-1001999-static-1corestotal-1corepera-20240201-164244\n",
       "libd_chr1-chr1_AA-libd_chr1-chr1_AA-1004000-1004999-static-1corestotal-1corepera-20240201-164247-summary.csv libd_chr1-chr1_AA-1004000-1004999-static-1corestotal-1corepera-20240201-164247\n",
       "libd_chr1-chr1_AA-libd_chr1-chr1_AA-1005000-1005999-static-1corestotal-1corepera-20240201-164248-summary.csv libd_chr1-chr1_AA-1005000-1005999-static-1corestotal-1corepera-20240201-164248\n",
       "                                                                                                             time_started       \n",
       "libd_chr1-chr1_AA-libd_chr1-chr1_AA-1001000-1001999-static-1corestotal-1corepera-20240201-164244-summary.csv 2024-02-01 16:42:47\n",
       "libd_chr1-chr1_AA-libd_chr1-chr1_AA-1004000-1004999-static-1corestotal-1corepera-20240201-164247-summary.csv 2024-02-01 16:42:50\n",
       "libd_chr1-chr1_AA-libd_chr1-chr1_AA-1005000-1005999-static-1corestotal-1corepera-20240201-164248-summary.csv 2024-02-01 16:42:54\n",
       "                                                                                                             time_finished      \n",
       "libd_chr1-chr1_AA-libd_chr1-chr1_AA-1001000-1001999-static-1corestotal-1corepera-20240201-164244-summary.csv 2024-02-01 18:10:46\n",
       "libd_chr1-chr1_AA-libd_chr1-chr1_AA-1004000-1004999-static-1corestotal-1corepera-20240201-164247-summary.csv 2024-02-01 18:54:29\n",
       "libd_chr1-chr1_AA-libd_chr1-chr1_AA-1005000-1005999-static-1corestotal-1corepera-20240201-164248-summary.csv 2024-02-01 18:46:42\n",
       "                                                                                                             runtime \n",
       "libd_chr1-chr1_AA-libd_chr1-chr1_AA-1001000-1001999-static-1corestotal-1corepera-20240201-164244-summary.csv 01:27:59\n",
       "libd_chr1-chr1_AA-libd_chr1-chr1_AA-1004000-1004999-static-1corestotal-1corepera-20240201-164247-summary.csv 02:11:38\n",
       "libd_chr1-chr1_AA-libd_chr1-chr1_AA-1005000-1005999-static-1corestotal-1corepera-20240201-164248-summary.csv 02:03:48\n",
       "                                                                                                             type_CPU                                                      \n",
       "libd_chr1-chr1_AA-libd_chr1-chr1_AA-1001000-1001999-static-1corestotal-1corepera-20240201-164244-summary.csv                       AMD EPYC 7713 64-Core Processor         \n",
       "libd_chr1-chr1_AA-libd_chr1-chr1_AA-1004000-1004999-static-1corestotal-1corepera-20240201-164247-summary.csv                       Intel(R) Xeon(R) Gold 6338 CPU @ 2.00GHz\n",
       "libd_chr1-chr1_AA-libd_chr1-chr1_AA-1005000-1005999-static-1corestotal-1corepera-20240201-164248-summary.csv                       Intel(R) Xeon(R) Gold 6338 CPU @ 2.00GHz\n",
       "                                                                                                             amount_RAM       \n",
       "libd_chr1-chr1_AA-libd_chr1-chr1_AA-1001000-1001999-static-1corestotal-1corepera-20240201-164244-summary.csv 0.983715858310461\n",
       "libd_chr1-chr1_AA-libd_chr1-chr1_AA-1004000-1004999-static-1corestotal-1corepera-20240201-164247-summary.csv 0.491538614034653\n",
       "libd_chr1-chr1_AA-libd_chr1-chr1_AA-1005000-1005999-static-1corestotal-1corepera-20240201-164248-summary.csv 0.491538614034653\n",
       "                                                                                                             physical_cores\n",
       "libd_chr1-chr1_AA-libd_chr1-chr1_AA-1001000-1001999-static-1corestotal-1corepera-20240201-164244-summary.csv 128           \n",
       "libd_chr1-chr1_AA-libd_chr1-chr1_AA-1004000-1004999-static-1corestotal-1corepera-20240201-164247-summary.csv 64            \n",
       "libd_chr1-chr1_AA-libd_chr1-chr1_AA-1005000-1005999-static-1corestotal-1corepera-20240201-164248-summary.csv 64            \n",
       "                                                                                                             scaffold_ID                                                                                     \n",
       "libd_chr1-chr1_AA-libd_chr1-chr1_AA-1001000-1001999-static-1corestotal-1corepera-20240201-164244-summary.csv libd_chr1-chr1_AA-libd_chr1-chr1_AA-1001000-1001999-static-1corestotal-1corepera-20240201-164244\n",
       "libd_chr1-chr1_AA-libd_chr1-chr1_AA-1004000-1004999-static-1corestotal-1corepera-20240201-164247-summary.csv libd_chr1-chr1_AA-libd_chr1-chr1_AA-1004000-1004999-static-1corestotal-1corepera-20240201-164247\n",
       "libd_chr1-chr1_AA-libd_chr1-chr1_AA-1005000-1005999-static-1corestotal-1corepera-20240201-164248-summary.csv libd_chr1-chr1_AA-libd_chr1-chr1_AA-1005000-1005999-static-1corestotal-1corepera-20240201-164248\n",
       "                                                                                                             number_cores\n",
       "libd_chr1-chr1_AA-libd_chr1-chr1_AA-1001000-1001999-static-1corestotal-1corepera-20240201-164244-summary.csv 1           \n",
       "libd_chr1-chr1_AA-libd_chr1-chr1_AA-1004000-1004999-static-1corestotal-1corepera-20240201-164247-summary.csv 1           \n",
       "libd_chr1-chr1_AA-libd_chr1-chr1_AA-1005000-1005999-static-1corestotal-1corepera-20240201-164248-summary.csv 1           \n",
       "                                                                                                             runtime_seconds\n",
       "libd_chr1-chr1_AA-libd_chr1-chr1_AA-1001000-1001999-static-1corestotal-1corepera-20240201-164244-summary.csv 5279           \n",
       "libd_chr1-chr1_AA-libd_chr1-chr1_AA-1004000-1004999-static-1corestotal-1corepera-20240201-164247-summary.csv 7898           \n",
       "libd_chr1-chr1_AA-libd_chr1-chr1_AA-1005000-1005999-static-1corestotal-1corepera-20240201-164248-summary.csv 7428           \n",
       "                                                                                                             runtime_hours\n",
       "libd_chr1-chr1_AA-libd_chr1-chr1_AA-1001000-1001999-static-1corestotal-1corepera-20240201-164244-summary.csv 1.466389     \n",
       "libd_chr1-chr1_AA-libd_chr1-chr1_AA-1004000-1004999-static-1corestotal-1corepera-20240201-164247-summary.csv 2.193889     \n",
       "libd_chr1-chr1_AA-libd_chr1-chr1_AA-1005000-1005999-static-1corestotal-1corepera-20240201-164248-summary.csv 2.063333     \n",
       "                                                                                                             runtime_core_hours\n",
       "libd_chr1-chr1_AA-libd_chr1-chr1_AA-1001000-1001999-static-1corestotal-1corepera-20240201-164244-summary.csv 1.466389          \n",
       "libd_chr1-chr1_AA-libd_chr1-chr1_AA-1004000-1004999-static-1corestotal-1corepera-20240201-164247-summary.csv 2.193889          \n",
       "libd_chr1-chr1_AA-libd_chr1-chr1_AA-1005000-1005999-static-1corestotal-1corepera-20240201-164248-summary.csv 2.063333          \n",
       "                                                                                                             runtime_core_seconds\n",
       "libd_chr1-chr1_AA-libd_chr1-chr1_AA-1001000-1001999-static-1corestotal-1corepera-20240201-164244-summary.csv 5279                \n",
       "libd_chr1-chr1_AA-libd_chr1-chr1_AA-1004000-1004999-static-1corestotal-1corepera-20240201-164247-summary.csv 7898                \n",
       "libd_chr1-chr1_AA-libd_chr1-chr1_AA-1005000-1005999-static-1corestotal-1corepera-20240201-164248-summary.csv 7428                \n",
       "                                                                                                             core_hours_per_test\n",
       "libd_chr1-chr1_AA-libd_chr1-chr1_AA-1001000-1001999-static-1corestotal-1corepera-20240201-164244-summary.csv 3.665972e-05       \n",
       "libd_chr1-chr1_AA-libd_chr1-chr1_AA-1004000-1004999-static-1corestotal-1corepera-20240201-164247-summary.csv 5.484722e-05       \n",
       "libd_chr1-chr1_AA-libd_chr1-chr1_AA-1005000-1005999-static-1corestotal-1corepera-20240201-164248-summary.csv 5.158333e-05       \n",
       "                                                                                                             core_seconds_per_test\n",
       "libd_chr1-chr1_AA-libd_chr1-chr1_AA-1001000-1001999-static-1corestotal-1corepera-20240201-164244-summary.csv 0.131975             \n",
       "libd_chr1-chr1_AA-libd_chr1-chr1_AA-1004000-1004999-static-1corestotal-1corepera-20240201-164247-summary.csv 0.197450             \n",
       "libd_chr1-chr1_AA-libd_chr1-chr1_AA-1005000-1005999-static-1corestotal-1corepera-20240201-164248-summary.csv 0.185700             "
      ]
     },
     "metadata": {},
     "output_type": "display_data"
    }
   ],
   "source": [
    "summary_table"
   ]
  },
  {
   "cell_type": "code",
   "execution_count": null,
   "id": "fcf6d834-f970-460a-ba8b-9ef44917e6c9",
   "metadata": {},
   "outputs": [],
   "source": [
    "#summary_table[which.min(summary_table$core_hours_per_test), ]"
   ]
  },
  {
   "cell_type": "code",
   "execution_count": null,
   "id": "7f4deac8-60dd-4576-8c76-135d39fcb03b",
   "metadata": {},
   "outputs": [],
   "source": [
    "data.table::fwrite(summary_table, \"05-OUT_SLURM_benchmarks_a2.csv\")"
   ]
  },
  {
   "cell_type": "markdown",
   "id": "793cb57e-aa18-4937-8611-570b1a5d30bb",
   "metadata": {},
   "source": [
    "## How long for whole dataset?"
   ]
  },
  {
   "cell_type": "code",
   "execution_count": 13,
   "id": "30850d1c-aeee-49e3-94f7-dccfa46414fb",
   "metadata": {},
   "outputs": [],
   "source": [
    "n_sites <- 26000000"
   ]
  },
  {
   "cell_type": "code",
   "execution_count": 14,
   "id": "3315e920-a3c2-499e-a6d5-36b51b134d25",
   "metadata": {},
   "outputs": [
    {
     "data": {
      "text/html": [
       "2880.7714"
      ],
      "text/latex": [
       "2880.7714"
      ],
      "text/markdown": [
       "2880.7714"
      ],
      "text/plain": [
       "[1] 2880.771"
      ]
     },
     "metadata": {},
     "output_type": "display_data"
    }
   ],
   "source": [
    "n_sites*0.0001107989 # From 1000000-1001000"
   ]
  },
  {
   "cell_type": "code",
   "execution_count": 15,
   "id": "7bcd6f96-7109-4fa3-8db2-076b0e5fe422",
   "metadata": {},
   "outputs": [
    {
     "data": {
      "text/html": [
       "1240.11574074074"
      ],
      "text/latex": [
       "1240.11574074074"
      ],
      "text/markdown": [
       "1240.11574074074"
      ],
      "text/plain": [
       "[1] 1240.116"
      ]
     },
     "metadata": {},
     "output_type": "display_data"
    }
   ],
   "source": [
    "n_sites*mean(summary_table$core_hours_per_test)"
   ]
  },
  {
   "cell_type": "code",
   "execution_count": null,
   "id": "b39dccdd-4a5c-44fa-9156-602c456893ab",
   "metadata": {},
   "outputs": [],
   "source": []
  }
 ],
 "metadata": {
  "kernelspec": {
   "display_name": "R",
   "language": "R",
   "name": "ir"
  },
  "language_info": {
   "codemirror_mode": "r",
   "file_extension": ".r",
   "mimetype": "text/x-r-source",
   "name": "R",
   "pygments_lexer": "r",
   "version": "4.3.1"
  }
 },
 "nbformat": 4,
 "nbformat_minor": 5
}
