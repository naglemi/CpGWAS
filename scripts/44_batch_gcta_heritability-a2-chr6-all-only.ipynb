{
 "cells": [
  {
   "cell_type": "markdown",
   "id": "37399ab4-7a55-4cc5-86f1-a413c527d2cf",
   "metadata": {},
   "source": [
    "# 44. Batch heritability with GCTA and SLURM"
   ]
  },
  {
   "cell_type": "code",
   "execution_count": null,
   "id": "143b6180-aece-4092-98fe-fbb2486c9fd9",
   "metadata": {
    "scrolled": true
   },
   "outputs": [
    {
     "name": "stderr",
     "output_type": "stream",
     "text": [
      "Loading required package: BiocGenerics\n",
      "\n",
      "\n",
      "Attaching package: ‘BiocGenerics’\n",
      "\n",
      "\n",
      "The following objects are masked from ‘package:stats’:\n",
      "\n",
      "    IQR, mad, sd, var, xtabs\n",
      "\n",
      "\n",
      "The following objects are masked from ‘package:base’:\n",
      "\n",
      "    anyDuplicated, aperm, append, as.data.frame, basename, cbind,\n",
      "    colnames, dirname, do.call, duplicated, eval, evalq, Filter, Find,\n",
      "    get, grep, grepl, intersect, is.unsorted, lapply, Map, mapply,\n",
      "    match, mget, order, paste, pmax, pmax.int, pmin, pmin.int,\n",
      "    Position, rank, rbind, Reduce, rownames, sapply, setdiff, sort,\n",
      "    table, tapply, union, unique, unsplit, which.max, which.min\n",
      "\n",
      "\n",
      "Loading required package: GenomicRanges\n",
      "\n",
      "Loading required package: stats4\n",
      "\n",
      "Loading required package: S4Vectors\n",
      "\n",
      "\n",
      "Attaching package: ‘S4Vectors’\n",
      "\n",
      "\n",
      "The following objects are masked from ‘package:data.table’:\n",
      "\n",
      "    first, second\n",
      "\n",
      "\n",
      "The following object is masked from ‘package:utils’:\n",
      "\n",
      "    findMatches\n",
      "\n",
      "\n",
      "The following objects are masked from ‘package:base’:\n",
      "\n",
      "    expand.grid, I, unname\n",
      "\n",
      "\n",
      "Loading required package: IRanges\n",
      "\n",
      "\n",
      "Attaching package: ‘IRanges’\n",
      "\n",
      "\n",
      "The following object is masked from ‘package:data.table’:\n",
      "\n",
      "    shift\n",
      "\n",
      "\n",
      "Loading required package: GenomeInfoDb\n",
      "\n",
      "Loading required package: SummarizedExperiment\n",
      "\n",
      "Loading required package: MatrixGenerics\n",
      "\n",
      "Loading required package: matrixStats\n",
      "\n",
      "\n",
      "Attaching package: ‘MatrixGenerics’\n",
      "\n",
      "\n",
      "The following objects are masked from ‘package:matrixStats’:\n",
      "\n",
      "    colAlls, colAnyNAs, colAnys, colAvgsPerRowSet, colCollapse,\n",
      "    colCounts, colCummaxs, colCummins, colCumprods, colCumsums,\n",
      "    colDiffs, colIQRDiffs, colIQRs, colLogSumExps, colMadDiffs,\n",
      "    colMads, colMaxs, colMeans2, colMedians, colMins, colOrderStats,\n",
      "    colProds, colQuantiles, colRanges, colRanks, colSdDiffs, colSds,\n",
      "    colSums2, colTabulates, colVarDiffs, colVars, colWeightedMads,\n",
      "    colWeightedMeans, colWeightedMedians, colWeightedSds,\n",
      "    colWeightedVars, rowAlls, rowAnyNAs, rowAnys, rowAvgsPerColSet,\n",
      "    rowCollapse, rowCounts, rowCummaxs, rowCummins, rowCumprods,\n",
      "    rowCumsums, rowDiffs, rowIQRDiffs, rowIQRs, rowLogSumExps,\n",
      "    rowMadDiffs, rowMads, rowMaxs, rowMeans2, rowMedians, rowMins,\n",
      "    rowOrderStats, rowProds, rowQuantiles, rowRanges, rowRanks,\n",
      "    rowSdDiffs, rowSds, rowSums2, rowTabulates, rowVarDiffs, rowVars,\n",
      "    rowWeightedMads, rowWeightedMeans, rowWeightedMedians,\n",
      "    rowWeightedSds, rowWeightedVars\n",
      "\n",
      "\n",
      "Loading required package: Biobase\n",
      "\n",
      "Welcome to Bioconductor\n",
      "\n",
      "    Vignettes contain introductory material; view with\n",
      "    'browseVignettes()'. To cite Bioconductor, see\n",
      "    'citation(\"Biobase\")', and for packages 'citation(\"pkgname\")'.\n",
      "\n",
      "\n",
      "\n",
      "Attaching package: ‘Biobase’\n",
      "\n",
      "\n",
      "The following object is masked from ‘package:MatrixGenerics’:\n",
      "\n",
      "    rowMedians\n",
      "\n",
      "\n",
      "The following objects are masked from ‘package:matrixStats’:\n",
      "\n",
      "    anyMissing, rowMedians\n",
      "\n",
      "\n",
      "Submitted job 1 with tag libd_chr1-chr1_all-herit-20241104-124820. Status: Submitted\n",
      "\n",
      "Sleeping for 31 seconds to avoid overloading the scheduler.\n",
      "\n"
     ]
    },
    {
     "name": "stdout",
     "output_type": "stream",
     "text": [
      "\n"
     ]
    },
    {
     "name": "stderr",
     "output_type": "stream",
     "text": [
      "Submitted job 2 with tag libd_chr1-chr1_all-herit-20241104-124852. Status: Submitted\n",
      "\n",
      "Sleeping for 31 seconds to avoid overloading the scheduler.\n",
      "\n"
     ]
    },
    {
     "name": "stdout",
     "output_type": "stream",
     "text": [
      "\n"
     ]
    },
    {
     "name": "stderr",
     "output_type": "stream",
     "text": [
      "Submitted job 3 with tag libd_chr1-chr1_all-herit-20241104-124923. Status: Submitted\n",
      "\n",
      "Sleeping for 31 seconds to avoid overloading the scheduler.\n",
      "\n"
     ]
    },
    {
     "name": "stdout",
     "output_type": "stream",
     "text": [
      "\n"
     ]
    },
    {
     "name": "stderr",
     "output_type": "stream",
     "text": [
      "Submitted job 4 with tag libd_chr1-chr1_all-herit-20241104-124954. Status: Submitted\n",
      "\n",
      "Sleeping for 31 seconds to avoid overloading the scheduler.\n",
      "\n"
     ]
    },
    {
     "name": "stdout",
     "output_type": "stream",
     "text": [
      "\n"
     ]
    },
    {
     "name": "stderr",
     "output_type": "stream",
     "text": [
      "Submitted job 5 with tag libd_chr1-chr1_all-herit-20241104-125025. Status: Submitted\n",
      "\n",
      "Sleeping for 31 seconds to avoid overloading the scheduler.\n",
      "\n"
     ]
    },
    {
     "name": "stdout",
     "output_type": "stream",
     "text": [
      "\n"
     ]
    },
    {
     "name": "stderr",
     "output_type": "stream",
     "text": [
      "Submitted job 6 with tag libd_chr1-chr1_all-herit-20241104-125056. Status: Submitted\n",
      "\n",
      "Sleeping for 31 seconds to avoid overloading the scheduler.\n",
      "\n"
     ]
    },
    {
     "name": "stdout",
     "output_type": "stream",
     "text": [
      "\n"
     ]
    },
    {
     "name": "stderr",
     "output_type": "stream",
     "text": [
      "Submitted job 7 with tag libd_chr1-chr1_all-herit-20241104-125127. Status: Submitted\n",
      "\n",
      "Sleeping for 31 seconds to avoid overloading the scheduler.\n",
      "\n"
     ]
    },
    {
     "name": "stdout",
     "output_type": "stream",
     "text": [
      "\n"
     ]
    },
    {
     "name": "stderr",
     "output_type": "stream",
     "text": [
      "Submitted job 8 with tag libd_chr1-chr1_all-herit-20241104-125158. Status: Submitted\n",
      "\n",
      "Sleeping for 31 seconds to avoid overloading the scheduler.\n",
      "\n"
     ]
    },
    {
     "name": "stdout",
     "output_type": "stream",
     "text": [
      "\n"
     ]
    },
    {
     "name": "stderr",
     "output_type": "stream",
     "text": [
      "Submitted job 9 with tag libd_chr1-chr1_all-herit-20241104-125229. Status: Submitted\n",
      "\n",
      "Sleeping for 31 seconds to avoid overloading the scheduler.\n",
      "\n"
     ]
    },
    {
     "name": "stdout",
     "output_type": "stream",
     "text": [
      "\n"
     ]
    },
    {
     "name": "stderr",
     "output_type": "stream",
     "text": [
      "Submitted job 10 with tag libd_chr1-chr1_all-herit-20241104-125300. Status: Submitted\n",
      "\n",
      "Sleeping for 31 seconds to avoid overloading the scheduler.\n",
      "\n"
     ]
    },
    {
     "name": "stdout",
     "output_type": "stream",
     "text": [
      "\n"
     ]
    },
    {
     "name": "stderr",
     "output_type": "stream",
     "text": [
      "Submitted job 11 with tag libd_chr1-chr1_all-herit-20241104-125331. Status: Submitted\n",
      "\n",
      "Sleeping for 31 seconds to avoid overloading the scheduler.\n",
      "\n"
     ]
    },
    {
     "name": "stdout",
     "output_type": "stream",
     "text": [
      "\n"
     ]
    },
    {
     "name": "stderr",
     "output_type": "stream",
     "text": [
      "Submitted job 12 with tag libd_chr1-chr1_all-herit-20241104-125402. Status: Submitted\n",
      "\n",
      "Sleeping for 31 seconds to avoid overloading the scheduler.\n",
      "\n"
     ]
    },
    {
     "name": "stdout",
     "output_type": "stream",
     "text": [
      "\n"
     ]
    },
    {
     "name": "stderr",
     "output_type": "stream",
     "text": [
      "Submitted job 13 with tag libd_chr1-chr1_all-herit-20241104-125433. Status: Submitted\n",
      "\n",
      "Sleeping for 31 seconds to avoid overloading the scheduler.\n",
      "\n"
     ]
    },
    {
     "name": "stdout",
     "output_type": "stream",
     "text": [
      "\n"
     ]
    },
    {
     "name": "stderr",
     "output_type": "stream",
     "text": [
      "Submitted job 14 with tag libd_chr1-chr1_all-herit-20241104-125504. Status: Submitted\n",
      "\n",
      "Sleeping for 31 seconds to avoid overloading the scheduler.\n",
      "\n"
     ]
    },
    {
     "name": "stdout",
     "output_type": "stream",
     "text": [
      "\n"
     ]
    },
    {
     "name": "stderr",
     "output_type": "stream",
     "text": [
      "Submitted job 15 with tag libd_chr1-chr1_all-herit-20241104-125536. Status: Submitted\n",
      "\n",
      "Sleeping for 31 seconds to avoid overloading the scheduler.\n",
      "\n"
     ]
    },
    {
     "name": "stdout",
     "output_type": "stream",
     "text": [
      "\n"
     ]
    },
    {
     "name": "stderr",
     "output_type": "stream",
     "text": [
      "Submitted job 16 with tag libd_chr1-chr1_all-herit-20241104-125607. Status: Submitted\n",
      "\n",
      "Sleeping for 31 seconds to avoid overloading the scheduler.\n",
      "\n"
     ]
    },
    {
     "name": "stdout",
     "output_type": "stream",
     "text": [
      "\n"
     ]
    },
    {
     "name": "stderr",
     "output_type": "stream",
     "text": [
      "Submitted job 17 with tag libd_chr1-chr1_all-herit-20241104-125638. Status: Submitted\n",
      "\n",
      "Sleeping for 31 seconds to avoid overloading the scheduler.\n",
      "\n"
     ]
    },
    {
     "name": "stdout",
     "output_type": "stream",
     "text": [
      "\n"
     ]
    },
    {
     "name": "stderr",
     "output_type": "stream",
     "text": [
      "Submitted job 18 with tag libd_chr1-chr1_all-herit-20241104-125709. Status: Submitted\n",
      "\n",
      "Sleeping for 31 seconds to avoid overloading the scheduler.\n",
      "\n"
     ]
    },
    {
     "name": "stdout",
     "output_type": "stream",
     "text": [
      "\n"
     ]
    },
    {
     "name": "stderr",
     "output_type": "stream",
     "text": [
      "Submitted job 19 with tag libd_chr1-chr1_all-herit-20241104-125740. Status: Submitted\n",
      "\n",
      "Sleeping for 31 seconds to avoid overloading the scheduler.\n",
      "\n"
     ]
    },
    {
     "name": "stdout",
     "output_type": "stream",
     "text": [
      "\n"
     ]
    },
    {
     "name": "stderr",
     "output_type": "stream",
     "text": [
      "Submitted job 20 with tag libd_chr1-chr1_all-herit-20241104-125811. Status: Submitted\n",
      "\n",
      "Sleeping for 31 seconds to avoid overloading the scheduler.\n",
      "\n"
     ]
    },
    {
     "name": "stdout",
     "output_type": "stream",
     "text": [
      "\n"
     ]
    },
    {
     "name": "stderr",
     "output_type": "stream",
     "text": [
      "Submitted job 21 with tag libd_chr1-chr1_all-herit-20241104-125842. Status: Submitted\n",
      "\n",
      "Sleeping for 31 seconds to avoid overloading the scheduler.\n",
      "\n"
     ]
    },
    {
     "name": "stdout",
     "output_type": "stream",
     "text": [
      "\n"
     ]
    },
    {
     "name": "stderr",
     "output_type": "stream",
     "text": [
      "Submitted job 22 with tag libd_chr1-chr1_all-herit-20241104-125913. Status: Submitted\n",
      "\n",
      "Sleeping for 31 seconds to avoid overloading the scheduler.\n",
      "\n"
     ]
    },
    {
     "name": "stdout",
     "output_type": "stream",
     "text": [
      "\n"
     ]
    },
    {
     "name": "stderr",
     "output_type": "stream",
     "text": [
      "Submitted job 23 with tag libd_chr1-chr1_all-herit-20241104-125944. Status: Submitted\n",
      "\n",
      "Sleeping for 31 seconds to avoid overloading the scheduler.\n",
      "\n"
     ]
    },
    {
     "name": "stdout",
     "output_type": "stream",
     "text": [
      "\n"
     ]
    },
    {
     "name": "stderr",
     "output_type": "stream",
     "text": [
      "Submitted job 24 with tag libd_chr1-chr1_all-herit-20241104-130015. Status: Submitted\n",
      "\n",
      "Sleeping for 31 seconds to avoid overloading the scheduler.\n",
      "\n"
     ]
    },
    {
     "name": "stdout",
     "output_type": "stream",
     "text": [
      "\n"
     ]
    },
    {
     "name": "stderr",
     "output_type": "stream",
     "text": [
      "Submitted job 25 with tag libd_chr1-chr1_all-herit-20241104-130046. Status: Submitted\n",
      "\n",
      "Sleeping for 31 seconds to avoid overloading the scheduler.\n",
      "\n"
     ]
    },
    {
     "name": "stdout",
     "output_type": "stream",
     "text": [
      "\n"
     ]
    },
    {
     "name": "stderr",
     "output_type": "stream",
     "text": [
      "Submitted job 26 with tag libd_chr1-chr1_all-herit-20241104-130118. Status: Submitted\n",
      "\n",
      "Sleeping for 31 seconds to avoid overloading the scheduler.\n",
      "\n"
     ]
    },
    {
     "name": "stdout",
     "output_type": "stream",
     "text": [
      "\n"
     ]
    },
    {
     "name": "stderr",
     "output_type": "stream",
     "text": [
      "Submitted job 27 with tag libd_chr1-chr1_all-herit-20241104-130149. Status: Submitted\n",
      "\n",
      "Sleeping for 31 seconds to avoid overloading the scheduler.\n",
      "\n"
     ]
    },
    {
     "name": "stdout",
     "output_type": "stream",
     "text": [
      "\n"
     ]
    },
    {
     "name": "stderr",
     "output_type": "stream",
     "text": [
      "Submitted job 28 with tag libd_chr1-chr1_all-herit-20241104-130220. Status: Submitted\n",
      "\n",
      "Sleeping for 31 seconds to avoid overloading the scheduler.\n",
      "\n"
     ]
    },
    {
     "name": "stdout",
     "output_type": "stream",
     "text": [
      "\n"
     ]
    },
    {
     "name": "stderr",
     "output_type": "stream",
     "text": [
      "Submitted job 29 with tag libd_chr1-chr1_all-herit-20241104-130251. Status: Submitted\n",
      "\n",
      "Sleeping for 31 seconds to avoid overloading the scheduler.\n",
      "\n"
     ]
    },
    {
     "name": "stdout",
     "output_type": "stream",
     "text": [
      "\n"
     ]
    },
    {
     "name": "stderr",
     "output_type": "stream",
     "text": [
      "Submitted job 30 with tag libd_chr1-chr1_all-herit-20241104-130322. Status: Submitted\n",
      "\n",
      "Sleeping for 31 seconds to avoid overloading the scheduler.\n",
      "\n"
     ]
    },
    {
     "name": "stdout",
     "output_type": "stream",
     "text": [
      "\n"
     ]
    },
    {
     "name": "stderr",
     "output_type": "stream",
     "text": [
      "Submitted job 31 with tag libd_chr1-chr1_all-herit-20241104-130353. Status: Submitted\n",
      "\n",
      "Sleeping for 31 seconds to avoid overloading the scheduler.\n",
      "\n"
     ]
    },
    {
     "name": "stdout",
     "output_type": "stream",
     "text": [
      "\n"
     ]
    },
    {
     "name": "stderr",
     "output_type": "stream",
     "text": [
      "Submitted job 32 with tag libd_chr1-chr1_all-herit-20241104-130424. Status: Submitted\n",
      "\n",
      "Sleeping for 31 seconds to avoid overloading the scheduler.\n",
      "\n"
     ]
    },
    {
     "name": "stdout",
     "output_type": "stream",
     "text": [
      "\n"
     ]
    },
    {
     "name": "stderr",
     "output_type": "stream",
     "text": [
      "Submitted job 33 with tag libd_chr1-chr1_all-herit-20241104-130455. Status: Submitted\n",
      "\n",
      "Sleeping for 31 seconds to avoid overloading the scheduler.\n",
      "\n"
     ]
    },
    {
     "name": "stdout",
     "output_type": "stream",
     "text": [
      "\n"
     ]
    },
    {
     "name": "stderr",
     "output_type": "stream",
     "text": [
      "Submitted job 34 with tag libd_chr1-chr1_all-herit-20241104-130526. Status: Submitted\n",
      "\n",
      "Sleeping for 31 seconds to avoid overloading the scheduler.\n",
      "\n"
     ]
    },
    {
     "name": "stdout",
     "output_type": "stream",
     "text": [
      "\n"
     ]
    },
    {
     "name": "stderr",
     "output_type": "stream",
     "text": [
      "Submitted job 35 with tag libd_chr1-chr1_all-herit-20241104-130557. Status: Submitted\n",
      "\n",
      "Sleeping for 31 seconds to avoid overloading the scheduler.\n",
      "\n"
     ]
    },
    {
     "name": "stdout",
     "output_type": "stream",
     "text": [
      "\n"
     ]
    },
    {
     "name": "stderr",
     "output_type": "stream",
     "text": [
      "Submitted job 36 with tag libd_chr1-chr1_all-herit-20241104-130628. Status: Submitted\n",
      "\n",
      "Sleeping for 31 seconds to avoid overloading the scheduler.\n",
      "\n"
     ]
    },
    {
     "name": "stdout",
     "output_type": "stream",
     "text": [
      "\n"
     ]
    },
    {
     "name": "stderr",
     "output_type": "stream",
     "text": [
      "Submitted job 37 with tag libd_chr1-chr1_all-herit-20241104-130659. Status: Submitted\n",
      "\n",
      "Sleeping for 31 seconds to avoid overloading the scheduler.\n",
      "\n"
     ]
    },
    {
     "name": "stdout",
     "output_type": "stream",
     "text": [
      "\n"
     ]
    },
    {
     "name": "stderr",
     "output_type": "stream",
     "text": [
      "Submitted job 38 with tag libd_chr1-chr1_all-herit-20241104-130730. Status: Submitted\n",
      "\n",
      "Sleeping for 31 seconds to avoid overloading the scheduler.\n",
      "\n"
     ]
    },
    {
     "name": "stdout",
     "output_type": "stream",
     "text": [
      "\n"
     ]
    },
    {
     "name": "stderr",
     "output_type": "stream",
     "text": [
      "Submitted job 39 with tag libd_chr1-chr1_all-herit-20241104-130801. Status: Submitted\n",
      "\n",
      "Sleeping for 31 seconds to avoid overloading the scheduler.\n",
      "\n"
     ]
    },
    {
     "name": "stdout",
     "output_type": "stream",
     "text": [
      "\n"
     ]
    },
    {
     "name": "stderr",
     "output_type": "stream",
     "text": [
      "Submitted job 40 with tag libd_chr1-chr1_all-herit-20241104-130833. Status: Submitted\n",
      "\n",
      "Sleeping for 31 seconds to avoid overloading the scheduler.\n",
      "\n"
     ]
    },
    {
     "name": "stdout",
     "output_type": "stream",
     "text": [
      "\n"
     ]
    },
    {
     "name": "stderr",
     "output_type": "stream",
     "text": [
      "Submitted job 41 with tag libd_chr1-chr1_all-herit-20241104-130904. Status: Submitted\n",
      "\n",
      "Sleeping for 31 seconds to avoid overloading the scheduler.\n",
      "\n"
     ]
    },
    {
     "name": "stdout",
     "output_type": "stream",
     "text": [
      "\n"
     ]
    },
    {
     "name": "stderr",
     "output_type": "stream",
     "text": [
      "Submitted job 42 with tag libd_chr1-chr1_all-herit-20241104-130935. Status: Submitted\n",
      "\n",
      "Sleeping for 31 seconds to avoid overloading the scheduler.\n",
      "\n"
     ]
    },
    {
     "name": "stdout",
     "output_type": "stream",
     "text": [
      "\n"
     ]
    },
    {
     "name": "stderr",
     "output_type": "stream",
     "text": [
      "Submitted job 43 with tag libd_chr1-chr1_all-herit-20241104-131006. Status: Submitted\n",
      "\n",
      "Sleeping for 31 seconds to avoid overloading the scheduler.\n",
      "\n"
     ]
    },
    {
     "name": "stdout",
     "output_type": "stream",
     "text": [
      "\n"
     ]
    },
    {
     "name": "stderr",
     "output_type": "stream",
     "text": [
      "Submitted job 44 with tag libd_chr1-chr1_all-herit-20241104-131037. Status: Submitted\n",
      "\n",
      "Sleeping for 31 seconds to avoid overloading the scheduler.\n",
      "\n"
     ]
    },
    {
     "name": "stdout",
     "output_type": "stream",
     "text": [
      "\n"
     ]
    },
    {
     "name": "stderr",
     "output_type": "stream",
     "text": [
      "Submitted job 45 with tag libd_chr1-chr1_all-herit-20241104-131108. Status: Submitted\n",
      "\n",
      "Sleeping for 31 seconds to avoid overloading the scheduler.\n",
      "\n"
     ]
    },
    {
     "name": "stdout",
     "output_type": "stream",
     "text": [
      "\n"
     ]
    },
    {
     "name": "stderr",
     "output_type": "stream",
     "text": [
      "Submitted job 46 with tag libd_chr1-chr1_all-herit-20241104-131139. Status: Submitted\n",
      "\n",
      "Sleeping for 31 seconds to avoid overloading the scheduler.\n",
      "\n"
     ]
    },
    {
     "name": "stdout",
     "output_type": "stream",
     "text": [
      "\n"
     ]
    },
    {
     "name": "stderr",
     "output_type": "stream",
     "text": [
      "Submitted job 47 with tag libd_chr1-chr1_all-herit-20241104-131210. Status: Submitted\n",
      "\n",
      "Sleeping for 31 seconds to avoid overloading the scheduler.\n",
      "\n"
     ]
    },
    {
     "name": "stdout",
     "output_type": "stream",
     "text": [
      "\n"
     ]
    },
    {
     "name": "stderr",
     "output_type": "stream",
     "text": [
      "Submitted job 48 with tag libd_chr1-chr1_all-herit-20241104-131241. Status: Submitted\n",
      "\n",
      "Sleeping for 31 seconds to avoid overloading the scheduler.\n",
      "\n"
     ]
    },
    {
     "name": "stdout",
     "output_type": "stream",
     "text": [
      "\n"
     ]
    },
    {
     "name": "stderr",
     "output_type": "stream",
     "text": [
      "Submitted job 49 with tag libd_chr1-chr1_all-herit-20241104-131312. Status: Submitted\n",
      "\n",
      "Sleeping for 31 seconds to avoid overloading the scheduler.\n",
      "\n"
     ]
    },
    {
     "name": "stdout",
     "output_type": "stream",
     "text": [
      "\n"
     ]
    },
    {
     "name": "stderr",
     "output_type": "stream",
     "text": [
      "Submitted job 50 with tag libd_chr1-chr1_all-herit-20241104-131343. Status: Submitted\n",
      "\n",
      "Sleeping for 31 seconds to avoid overloading the scheduler.\n",
      "\n"
     ]
    },
    {
     "name": "stdout",
     "output_type": "stream",
     "text": [
      "\n"
     ]
    },
    {
     "name": "stderr",
     "output_type": "stream",
     "text": [
      "Submitted job 51 with tag libd_chr1-chr1_all-herit-20241104-131414. Status: Submitted\n",
      "\n",
      "Sleeping for 31 seconds to avoid overloading the scheduler.\n",
      "\n"
     ]
    },
    {
     "name": "stdout",
     "output_type": "stream",
     "text": [
      "\n"
     ]
    },
    {
     "name": "stderr",
     "output_type": "stream",
     "text": [
      "Submitted job 52 with tag libd_chr1-chr1_all-herit-20241104-131445. Status: Submitted\n",
      "\n",
      "Sleeping for 31 seconds to avoid overloading the scheduler.\n",
      "\n"
     ]
    },
    {
     "name": "stdout",
     "output_type": "stream",
     "text": [
      "\n"
     ]
    },
    {
     "name": "stderr",
     "output_type": "stream",
     "text": [
      "Submitted job 53 with tag libd_chr1-chr1_all-herit-20241104-131516. Status: Submitted\n",
      "\n",
      "Sleeping for 31 seconds to avoid overloading the scheduler.\n",
      "\n"
     ]
    },
    {
     "name": "stdout",
     "output_type": "stream",
     "text": [
      "\n"
     ]
    },
    {
     "name": "stderr",
     "output_type": "stream",
     "text": [
      "Submitted job 54 with tag libd_chr1-chr1_all-herit-20241104-131547. Status: Submitted\n",
      "\n",
      "Sleeping for 31 seconds to avoid overloading the scheduler.\n",
      "\n"
     ]
    },
    {
     "name": "stdout",
     "output_type": "stream",
     "text": [
      "\n"
     ]
    },
    {
     "name": "stderr",
     "output_type": "stream",
     "text": [
      "Submitted job 55 with tag libd_chr1-chr1_all-herit-20241104-131619. Status: Submitted\n",
      "\n",
      "Sleeping for 31 seconds to avoid overloading the scheduler.\n",
      "\n"
     ]
    },
    {
     "name": "stdout",
     "output_type": "stream",
     "text": [
      "\n"
     ]
    },
    {
     "name": "stderr",
     "output_type": "stream",
     "text": [
      "Submitted job 56 with tag libd_chr1-chr1_all-herit-20241104-131650. Status: Submitted\n",
      "\n",
      "Sleeping for 31 seconds to avoid overloading the scheduler.\n",
      "\n"
     ]
    },
    {
     "name": "stdout",
     "output_type": "stream",
     "text": [
      "\n"
     ]
    },
    {
     "name": "stderr",
     "output_type": "stream",
     "text": [
      "Submitted job 57 with tag libd_chr1-chr1_all-herit-20241104-131721. Status: Submitted\n",
      "\n",
      "Sleeping for 31 seconds to avoid overloading the scheduler.\n",
      "\n"
     ]
    },
    {
     "name": "stdout",
     "output_type": "stream",
     "text": [
      "\n"
     ]
    },
    {
     "name": "stderr",
     "output_type": "stream",
     "text": [
      "Submitted job 58 with tag libd_chr1-chr1_all-herit-20241104-131752. Status: Submitted\n",
      "\n",
      "Sleeping for 31 seconds to avoid overloading the scheduler.\n",
      "\n"
     ]
    },
    {
     "name": "stdout",
     "output_type": "stream",
     "text": [
      "\n"
     ]
    },
    {
     "name": "stderr",
     "output_type": "stream",
     "text": [
      "Submitted job 59 with tag libd_chr1-chr1_all-herit-20241104-131823. Status: Submitted\n",
      "\n",
      "Sleeping for 31 seconds to avoid overloading the scheduler.\n",
      "\n"
     ]
    },
    {
     "name": "stdout",
     "output_type": "stream",
     "text": [
      "\n"
     ]
    },
    {
     "name": "stderr",
     "output_type": "stream",
     "text": [
      "Submitted job 60 with tag libd_chr1-chr1_all-herit-20241104-131854. Status: Submitted\n",
      "\n",
      "Sleeping for 31 seconds to avoid overloading the scheduler.\n",
      "\n"
     ]
    },
    {
     "name": "stdout",
     "output_type": "stream",
     "text": [
      "\n"
     ]
    },
    {
     "name": "stderr",
     "output_type": "stream",
     "text": [
      "Submitted job 61 with tag libd_chr1-chr1_all-herit-20241104-131925. Status: Submitted\n",
      "\n",
      "Sleeping for 31 seconds to avoid overloading the scheduler.\n",
      "\n"
     ]
    },
    {
     "name": "stdout",
     "output_type": "stream",
     "text": [
      "\n"
     ]
    },
    {
     "name": "stderr",
     "output_type": "stream",
     "text": [
      "Submitted job 62 with tag libd_chr1-chr1_all-herit-20241104-131956. Status: Submitted\n",
      "\n",
      "Sleeping for 31 seconds to avoid overloading the scheduler.\n",
      "\n"
     ]
    },
    {
     "name": "stdout",
     "output_type": "stream",
     "text": [
      "\n"
     ]
    },
    {
     "name": "stderr",
     "output_type": "stream",
     "text": [
      "Submitted job 63 with tag libd_chr1-chr1_all-herit-20241104-132027. Status: Submitted\n",
      "\n",
      "Sleeping for 31 seconds to avoid overloading the scheduler.\n",
      "\n"
     ]
    },
    {
     "name": "stdout",
     "output_type": "stream",
     "text": [
      "\n"
     ]
    },
    {
     "name": "stderr",
     "output_type": "stream",
     "text": [
      "Submitted job 64 with tag libd_chr1-chr1_all-herit-20241104-132058. Status: Submitted\n",
      "\n",
      "Sleeping for 31 seconds to avoid overloading the scheduler.\n",
      "\n"
     ]
    },
    {
     "name": "stdout",
     "output_type": "stream",
     "text": [
      "\n"
     ]
    },
    {
     "name": "stderr",
     "output_type": "stream",
     "text": [
      "Submitted job 65 with tag libd_chr1-chr1_all-herit-20241104-132129. Status: Submitted\n",
      "\n",
      "Sleeping for 31 seconds to avoid overloading the scheduler.\n",
      "\n"
     ]
    },
    {
     "name": "stdout",
     "output_type": "stream",
     "text": [
      "\n"
     ]
    },
    {
     "name": "stderr",
     "output_type": "stream",
     "text": [
      "Submitted job 66 with tag libd_chr1-chr1_all-herit-20241104-132200. Status: Submitted\n",
      "\n",
      "Sleeping for 31 seconds to avoid overloading the scheduler.\n",
      "\n"
     ]
    },
    {
     "name": "stdout",
     "output_type": "stream",
     "text": [
      "\n"
     ]
    },
    {
     "name": "stderr",
     "output_type": "stream",
     "text": [
      "Submitted job 67 with tag libd_chr1-chr1_all-herit-20241104-132232. Status: Submitted\n",
      "\n",
      "Sleeping for 31 seconds to avoid overloading the scheduler.\n",
      "\n"
     ]
    },
    {
     "name": "stdout",
     "output_type": "stream",
     "text": [
      "\n"
     ]
    },
    {
     "name": "stderr",
     "output_type": "stream",
     "text": [
      "Submitted job 68 with tag libd_chr1-chr1_all-herit-20241104-132303. Status: Submitted\n",
      "\n",
      "Sleeping for 31 seconds to avoid overloading the scheduler.\n",
      "\n"
     ]
    },
    {
     "name": "stdout",
     "output_type": "stream",
     "text": [
      "\n"
     ]
    },
    {
     "name": "stderr",
     "output_type": "stream",
     "text": [
      "Submitted job 69 with tag libd_chr1-chr1_all-herit-20241104-132334. Status: Submitted\n",
      "\n",
      "Sleeping for 31 seconds to avoid overloading the scheduler.\n",
      "\n"
     ]
    },
    {
     "name": "stdout",
     "output_type": "stream",
     "text": [
      "\n"
     ]
    },
    {
     "name": "stderr",
     "output_type": "stream",
     "text": [
      "Submitted job 70 with tag libd_chr1-chr1_all-herit-20241104-132405. Status: Submitted\n",
      "\n",
      "Sleeping for 31 seconds to avoid overloading the scheduler.\n",
      "\n"
     ]
    },
    {
     "name": "stdout",
     "output_type": "stream",
     "text": [
      "\n"
     ]
    },
    {
     "name": "stderr",
     "output_type": "stream",
     "text": [
      "Submitted job 71 with tag libd_chr1-chr1_all-herit-20241104-132436. Status: Submitted\n",
      "\n",
      "Sleeping for 31 seconds to avoid overloading the scheduler.\n",
      "\n"
     ]
    },
    {
     "name": "stdout",
     "output_type": "stream",
     "text": [
      "\n"
     ]
    },
    {
     "name": "stderr",
     "output_type": "stream",
     "text": [
      "Submitted job 72 with tag libd_chr1-chr1_all-herit-20241104-132507. Status: Submitted\n",
      "\n",
      "Sleeping for 31 seconds to avoid overloading the scheduler.\n",
      "\n"
     ]
    },
    {
     "name": "stdout",
     "output_type": "stream",
     "text": [
      "\n"
     ]
    },
    {
     "name": "stderr",
     "output_type": "stream",
     "text": [
      "Submitted job 73 with tag libd_chr1-chr1_all-herit-20241104-132538. Status: Submitted\n",
      "\n",
      "Sleeping for 31 seconds to avoid overloading the scheduler.\n",
      "\n"
     ]
    },
    {
     "name": "stdout",
     "output_type": "stream",
     "text": [
      "\n"
     ]
    },
    {
     "name": "stderr",
     "output_type": "stream",
     "text": [
      "Submitted job 74 with tag libd_chr1-chr1_all-herit-20241104-132609. Status: Submitted\n",
      "\n",
      "Sleeping for 31 seconds to avoid overloading the scheduler.\n",
      "\n"
     ]
    },
    {
     "name": "stdout",
     "output_type": "stream",
     "text": [
      "\n"
     ]
    },
    {
     "name": "stderr",
     "output_type": "stream",
     "text": [
      "Submitted job 75 with tag libd_chr1-chr1_all-herit-20241104-132640. Status: Submitted\n",
      "\n",
      "Sleeping for 31 seconds to avoid overloading the scheduler.\n",
      "\n"
     ]
    },
    {
     "name": "stdout",
     "output_type": "stream",
     "text": [
      "\n"
     ]
    },
    {
     "name": "stderr",
     "output_type": "stream",
     "text": [
      "Submitted job 76 with tag libd_chr1-chr1_all-herit-20241104-132711. Status: Submitted\n",
      "\n",
      "Sleeping for 31 seconds to avoid overloading the scheduler.\n",
      "\n"
     ]
    },
    {
     "name": "stdout",
     "output_type": "stream",
     "text": [
      "\n"
     ]
    },
    {
     "name": "stderr",
     "output_type": "stream",
     "text": [
      "Submitted job 77 with tag libd_chr1-chr1_all-herit-20241104-132742. Status: Submitted\n",
      "\n",
      "Sleeping for 31 seconds to avoid overloading the scheduler.\n",
      "\n"
     ]
    },
    {
     "name": "stdout",
     "output_type": "stream",
     "text": [
      "\n"
     ]
    },
    {
     "name": "stderr",
     "output_type": "stream",
     "text": [
      "Submitted job 78 with tag libd_chr1-chr1_all-herit-20241104-132813. Status: Submitted\n",
      "\n",
      "Sleeping for 31 seconds to avoid overloading the scheduler.\n",
      "\n"
     ]
    },
    {
     "name": "stdout",
     "output_type": "stream",
     "text": [
      "\n"
     ]
    },
    {
     "name": "stderr",
     "output_type": "stream",
     "text": [
      "Submitted job 79 with tag libd_chr1-chr1_all-herit-20241104-132844. Status: Submitted\n",
      "\n",
      "Sleeping for 31 seconds to avoid overloading the scheduler.\n",
      "\n"
     ]
    },
    {
     "name": "stdout",
     "output_type": "stream",
     "text": [
      "\n"
     ]
    },
    {
     "name": "stderr",
     "output_type": "stream",
     "text": [
      "Submitted job 80 with tag libd_chr1-chr1_all-herit-20241104-132915. Status: Submitted\n",
      "\n",
      "Sleeping for 31 seconds to avoid overloading the scheduler.\n",
      "\n"
     ]
    },
    {
     "name": "stdout",
     "output_type": "stream",
     "text": [
      "\n"
     ]
    },
    {
     "name": "stderr",
     "output_type": "stream",
     "text": [
      "Submitted job 81 with tag libd_chr1-chr1_all-herit-20241104-132947. Status: Submitted\n",
      "\n",
      "Sleeping for 31 seconds to avoid overloading the scheduler.\n",
      "\n"
     ]
    },
    {
     "name": "stdout",
     "output_type": "stream",
     "text": [
      "\n"
     ]
    },
    {
     "name": "stderr",
     "output_type": "stream",
     "text": [
      "Submitted job 82 with tag libd_chr1-chr1_all-herit-20241104-133018. Status: Submitted\n",
      "\n",
      "Sleeping for 31 seconds to avoid overloading the scheduler.\n",
      "\n"
     ]
    },
    {
     "name": "stdout",
     "output_type": "stream",
     "text": [
      "\n"
     ]
    },
    {
     "name": "stderr",
     "output_type": "stream",
     "text": [
      "Submitted job 83 with tag libd_chr1-chr1_all-herit-20241104-133049. Status: Submitted\n",
      "\n",
      "Sleeping for 31 seconds to avoid overloading the scheduler.\n",
      "\n"
     ]
    },
    {
     "name": "stdout",
     "output_type": "stream",
     "text": [
      "\n"
     ]
    },
    {
     "name": "stderr",
     "output_type": "stream",
     "text": [
      "Submitted job 84 with tag libd_chr1-chr1_all-herit-20241104-133120. Status: Submitted\n",
      "\n",
      "Sleeping for 31 seconds to avoid overloading the scheduler.\n",
      "\n"
     ]
    },
    {
     "name": "stdout",
     "output_type": "stream",
     "text": [
      "\n"
     ]
    },
    {
     "name": "stderr",
     "output_type": "stream",
     "text": [
      "Submitted job 85 with tag libd_chr1-chr1_all-herit-20241104-133151. Status: Submitted\n",
      "\n",
      "Sleeping for 31 seconds to avoid overloading the scheduler.\n",
      "\n"
     ]
    },
    {
     "name": "stdout",
     "output_type": "stream",
     "text": [
      "\n"
     ]
    },
    {
     "name": "stderr",
     "output_type": "stream",
     "text": [
      "Submitted job 86 with tag libd_chr1-chr1_all-herit-20241104-133222. Status: Submitted\n",
      "\n",
      "Sleeping for 31 seconds to avoid overloading the scheduler.\n",
      "\n"
     ]
    },
    {
     "name": "stdout",
     "output_type": "stream",
     "text": [
      "\n"
     ]
    },
    {
     "name": "stderr",
     "output_type": "stream",
     "text": [
      "Submitted job 87 with tag libd_chr1-chr1_all-herit-20241104-133253. Status: Submitted\n",
      "\n",
      "Sleeping for 31 seconds to avoid overloading the scheduler.\n",
      "\n"
     ]
    },
    {
     "name": "stdout",
     "output_type": "stream",
     "text": [
      "\n"
     ]
    },
    {
     "name": "stderr",
     "output_type": "stream",
     "text": [
      "Submitted job 88 with tag libd_chr1-chr1_all-herit-20241104-133324. Status: Submitted\n",
      "\n",
      "Sleeping for 31 seconds to avoid overloading the scheduler.\n",
      "\n"
     ]
    },
    {
     "name": "stdout",
     "output_type": "stream",
     "text": [
      "\n"
     ]
    },
    {
     "name": "stderr",
     "output_type": "stream",
     "text": [
      "Submitted job 89 with tag libd_chr1-chr1_all-herit-20241104-133355. Status: Submitted\n",
      "\n",
      "Sleeping for 31 seconds to avoid overloading the scheduler.\n",
      "\n"
     ]
    },
    {
     "name": "stdout",
     "output_type": "stream",
     "text": [
      "\n"
     ]
    },
    {
     "name": "stderr",
     "output_type": "stream",
     "text": [
      "Submitted job 90 with tag libd_chr1-chr1_all-herit-20241104-133426. Status: Submitted\n",
      "\n",
      "Sleeping for 31 seconds to avoid overloading the scheduler.\n",
      "\n"
     ]
    },
    {
     "name": "stdout",
     "output_type": "stream",
     "text": [
      "\n"
     ]
    },
    {
     "name": "stderr",
     "output_type": "stream",
     "text": [
      "Submitted job 91 with tag libd_chr1-chr1_all-herit-20241104-133457. Status: Submitted\n",
      "\n",
      "Sleeping for 31 seconds to avoid overloading the scheduler.\n",
      "\n"
     ]
    },
    {
     "name": "stdout",
     "output_type": "stream",
     "text": [
      "\n"
     ]
    },
    {
     "name": "stderr",
     "output_type": "stream",
     "text": [
      "Submitted job 92 with tag libd_chr1-chr1_all-herit-20241104-133528. Status: Submitted\n",
      "\n",
      "Sleeping for 31 seconds to avoid overloading the scheduler.\n",
      "\n"
     ]
    },
    {
     "name": "stdout",
     "output_type": "stream",
     "text": [
      "\n"
     ]
    },
    {
     "name": "stderr",
     "output_type": "stream",
     "text": [
      "Submitted job 93 with tag libd_chr1-chr1_all-herit-20241104-133559. Status: Submitted\n",
      "\n",
      "Sleeping for 31 seconds to avoid overloading the scheduler.\n",
      "\n"
     ]
    },
    {
     "name": "stdout",
     "output_type": "stream",
     "text": [
      "\n"
     ]
    },
    {
     "name": "stderr",
     "output_type": "stream",
     "text": [
      "Submitted job 94 with tag libd_chr1-chr1_all-herit-20241104-133630. Status: Submitted\n",
      "\n",
      "Sleeping for 31 seconds to avoid overloading the scheduler.\n",
      "\n"
     ]
    },
    {
     "name": "stdout",
     "output_type": "stream",
     "text": [
      "\n"
     ]
    },
    {
     "name": "stderr",
     "output_type": "stream",
     "text": [
      "Submitted job 95 with tag libd_chr1-chr1_all-herit-20241104-133701. Status: Submitted\n",
      "\n",
      "Sleeping for 31 seconds to avoid overloading the scheduler.\n",
      "\n"
     ]
    },
    {
     "name": "stdout",
     "output_type": "stream",
     "text": [
      "\n"
     ]
    },
    {
     "name": "stderr",
     "output_type": "stream",
     "text": [
      "Submitted job 96 with tag libd_chr1-chr1_all-herit-20241104-133733. Status: Submitted\n",
      "\n",
      "Sleeping for 31 seconds to avoid overloading the scheduler.\n",
      "\n"
     ]
    },
    {
     "name": "stdout",
     "output_type": "stream",
     "text": [
      "\n"
     ]
    },
    {
     "name": "stderr",
     "output_type": "stream",
     "text": [
      "Submitted job 97 with tag libd_chr1-chr1_all-herit-20241104-133804. Status: Submitted\n",
      "\n",
      "Sleeping for 31 seconds to avoid overloading the scheduler.\n",
      "\n"
     ]
    },
    {
     "name": "stdout",
     "output_type": "stream",
     "text": [
      "\n"
     ]
    },
    {
     "name": "stderr",
     "output_type": "stream",
     "text": [
      "Submitted job 98 with tag libd_chr1-chr1_all-herit-20241104-133835. Status: Submitted\n",
      "\n",
      "Sleeping for 31 seconds to avoid overloading the scheduler.\n",
      "\n"
     ]
    },
    {
     "name": "stdout",
     "output_type": "stream",
     "text": [
      "\n"
     ]
    },
    {
     "name": "stderr",
     "output_type": "stream",
     "text": [
      "Submitted job 99 with tag libd_chr1-chr1_all-herit-20241104-133906. Status: Submitted\n",
      "\n",
      "Sleeping for 31 seconds to avoid overloading the scheduler.\n",
      "\n"
     ]
    },
    {
     "name": "stdout",
     "output_type": "stream",
     "text": [
      "\n"
     ]
    },
    {
     "name": "stderr",
     "output_type": "stream",
     "text": [
      "Submitted job 100 with tag libd_chr1-chr1_all-herit-20241104-133937. Status: Submitted\n",
      "\n",
      "Sleeping for 31 seconds to avoid overloading the scheduler.\n",
      "\n"
     ]
    },
    {
     "name": "stdout",
     "output_type": "stream",
     "text": [
      "\n"
     ]
    },
    {
     "name": "stderr",
     "output_type": "stream",
     "text": [
      "Submitted job 101 with tag libd_chr1-chr1_all-herit-20241104-134008. Status: Submitted\n",
      "\n",
      "Sleeping for 31 seconds to avoid overloading the scheduler.\n",
      "\n"
     ]
    },
    {
     "name": "stdout",
     "output_type": "stream",
     "text": [
      "\n"
     ]
    },
    {
     "name": "stderr",
     "output_type": "stream",
     "text": [
      "Submitted job 102 with tag libd_chr1-chr1_all-herit-20241104-134039. Status: Submitted\n",
      "\n",
      "Sleeping for 31 seconds to avoid overloading the scheduler.\n",
      "\n"
     ]
    },
    {
     "name": "stdout",
     "output_type": "stream",
     "text": [
      "\n"
     ]
    },
    {
     "name": "stderr",
     "output_type": "stream",
     "text": [
      "Submitted job 103 with tag libd_chr1-chr1_all-herit-20241104-134110. Status: Submitted\n",
      "\n",
      "Sleeping for 31 seconds to avoid overloading the scheduler.\n",
      "\n"
     ]
    },
    {
     "name": "stdout",
     "output_type": "stream",
     "text": [
      "\n"
     ]
    },
    {
     "name": "stderr",
     "output_type": "stream",
     "text": [
      "Submitted job 104 with tag libd_chr1-chr1_all-herit-20241104-134141. Status: Submitted\n",
      "\n",
      "Sleeping for 31 seconds to avoid overloading the scheduler.\n",
      "\n"
     ]
    },
    {
     "name": "stdout",
     "output_type": "stream",
     "text": [
      "\n"
     ]
    },
    {
     "name": "stderr",
     "output_type": "stream",
     "text": [
      "Submitted job 105 with tag libd_chr1-chr1_all-herit-20241104-134212. Status: Submitted\n",
      "\n",
      "Sleeping for 31 seconds to avoid overloading the scheduler.\n",
      "\n"
     ]
    },
    {
     "name": "stdout",
     "output_type": "stream",
     "text": [
      "\n"
     ]
    },
    {
     "name": "stderr",
     "output_type": "stream",
     "text": [
      "Submitted job 106 with tag libd_chr1-chr1_all-herit-20241104-134243. Status: Submitted\n",
      "\n",
      "Sleeping for 31 seconds to avoid overloading the scheduler.\n",
      "\n"
     ]
    },
    {
     "name": "stdout",
     "output_type": "stream",
     "text": [
      "\n"
     ]
    },
    {
     "name": "stderr",
     "output_type": "stream",
     "text": [
      "Submitted job 107 with tag libd_chr1-chr1_all-herit-20241104-134315. Status: Submitted\n",
      "\n",
      "Sleeping for 31 seconds to avoid overloading the scheduler.\n",
      "\n"
     ]
    },
    {
     "name": "stdout",
     "output_type": "stream",
     "text": [
      "\n"
     ]
    },
    {
     "name": "stderr",
     "output_type": "stream",
     "text": [
      "Submitted job 108 with tag libd_chr1-chr1_all-herit-20241104-134346. Status: Submitted\n",
      "\n",
      "Sleeping for 31 seconds to avoid overloading the scheduler.\n",
      "\n"
     ]
    },
    {
     "name": "stdout",
     "output_type": "stream",
     "text": [
      "\n"
     ]
    },
    {
     "name": "stderr",
     "output_type": "stream",
     "text": [
      "Submitted job 109 with tag libd_chr1-chr1_all-herit-20241104-134417. Status: Submitted\n",
      "\n",
      "Sleeping for 31 seconds to avoid overloading the scheduler.\n",
      "\n"
     ]
    },
    {
     "name": "stdout",
     "output_type": "stream",
     "text": [
      "\n"
     ]
    },
    {
     "name": "stderr",
     "output_type": "stream",
     "text": [
      "Submitted job 110 with tag libd_chr1-chr1_all-herit-20241104-134448. Status: Submitted\n",
      "\n",
      "Sleeping for 31 seconds to avoid overloading the scheduler.\n",
      "\n"
     ]
    },
    {
     "name": "stdout",
     "output_type": "stream",
     "text": [
      "\n"
     ]
    },
    {
     "name": "stderr",
     "output_type": "stream",
     "text": [
      "Submitted job 111 with tag libd_chr1-chr1_all-herit-20241104-134519. Status: Submitted\n",
      "\n",
      "Sleeping for 31 seconds to avoid overloading the scheduler.\n",
      "\n"
     ]
    },
    {
     "name": "stdout",
     "output_type": "stream",
     "text": [
      "\n"
     ]
    },
    {
     "name": "stderr",
     "output_type": "stream",
     "text": [
      "Submitted job 112 with tag libd_chr1-chr1_all-herit-20241104-134550. Status: Submitted\n",
      "\n",
      "Sleeping for 31 seconds to avoid overloading the scheduler.\n",
      "\n"
     ]
    },
    {
     "name": "stdout",
     "output_type": "stream",
     "text": [
      "\n"
     ]
    },
    {
     "name": "stderr",
     "output_type": "stream",
     "text": [
      "Submitted job 113 with tag libd_chr1-chr1_all-herit-20241104-134621. Status: Submitted\n",
      "\n",
      "Sleeping for 31 seconds to avoid overloading the scheduler.\n",
      "\n"
     ]
    },
    {
     "name": "stdout",
     "output_type": "stream",
     "text": [
      "\n"
     ]
    },
    {
     "name": "stderr",
     "output_type": "stream",
     "text": [
      "Submitted job 114 with tag libd_chr1-chr1_all-herit-20241104-134652. Status: Submitted\n",
      "\n",
      "Sleeping for 31 seconds to avoid overloading the scheduler.\n",
      "\n"
     ]
    },
    {
     "name": "stdout",
     "output_type": "stream",
     "text": [
      "\n"
     ]
    },
    {
     "name": "stderr",
     "output_type": "stream",
     "text": [
      "Submitted job 115 with tag libd_chr1-chr1_all-herit-20241104-134723. Status: Submitted\n",
      "\n",
      "Sleeping for 31 seconds to avoid overloading the scheduler.\n",
      "\n"
     ]
    },
    {
     "name": "stdout",
     "output_type": "stream",
     "text": [
      "\n"
     ]
    },
    {
     "name": "stderr",
     "output_type": "stream",
     "text": [
      "Submitted job 116 with tag libd_chr1-chr1_all-herit-20241104-134754. Status: Submitted\n",
      "\n",
      "Sleeping for 31 seconds to avoid overloading the scheduler.\n",
      "\n"
     ]
    },
    {
     "name": "stdout",
     "output_type": "stream",
     "text": [
      "\n"
     ]
    },
    {
     "name": "stderr",
     "output_type": "stream",
     "text": [
      "Submitted job 117 with tag libd_chr1-chr1_all-herit-20241104-134825. Status: Submitted\n",
      "\n",
      "Sleeping for 31 seconds to avoid overloading the scheduler.\n",
      "\n"
     ]
    },
    {
     "name": "stdout",
     "output_type": "stream",
     "text": [
      "\n"
     ]
    },
    {
     "name": "stderr",
     "output_type": "stream",
     "text": [
      "Submitted job 118 with tag libd_chr1-chr1_all-herit-20241104-134856. Status: Submitted\n",
      "\n",
      "Sleeping for 31 seconds to avoid overloading the scheduler.\n",
      "\n"
     ]
    },
    {
     "name": "stdout",
     "output_type": "stream",
     "text": [
      "\n"
     ]
    },
    {
     "name": "stderr",
     "output_type": "stream",
     "text": [
      "Submitted job 119 with tag libd_chr1-chr1_all-herit-20241104-134927. Status: Submitted\n",
      "\n",
      "Sleeping for 31 seconds to avoid overloading the scheduler.\n",
      "\n"
     ]
    },
    {
     "name": "stdout",
     "output_type": "stream",
     "text": [
      "\n"
     ]
    },
    {
     "name": "stderr",
     "output_type": "stream",
     "text": [
      "Submitted job 120 with tag libd_chr1-chr1_all-herit-20241104-134958. Status: Submitted\n",
      "\n",
      "Sleeping for 31 seconds to avoid overloading the scheduler.\n",
      "\n"
     ]
    },
    {
     "name": "stdout",
     "output_type": "stream",
     "text": [
      "\n"
     ]
    },
    {
     "name": "stderr",
     "output_type": "stream",
     "text": [
      "Submitted job 121 with tag libd_chr1-chr1_all-herit-20241104-135030. Status: Submitted\n",
      "\n",
      "Sleeping for 31 seconds to avoid overloading the scheduler.\n",
      "\n"
     ]
    },
    {
     "name": "stdout",
     "output_type": "stream",
     "text": [
      "\n"
     ]
    },
    {
     "name": "stderr",
     "output_type": "stream",
     "text": [
      "Submitted job 122 with tag libd_chr1-chr1_all-herit-20241104-135101. Status: Submitted\n",
      "\n",
      "Sleeping for 31 seconds to avoid overloading the scheduler.\n",
      "\n"
     ]
    },
    {
     "name": "stdout",
     "output_type": "stream",
     "text": [
      "\n"
     ]
    },
    {
     "name": "stderr",
     "output_type": "stream",
     "text": [
      "Submitted job 123 with tag libd_chr1-chr1_all-herit-20241104-135132. Status: Submitted\n",
      "\n",
      "Sleeping for 31 seconds to avoid overloading the scheduler.\n",
      "\n"
     ]
    },
    {
     "name": "stdout",
     "output_type": "stream",
     "text": [
      "\n"
     ]
    },
    {
     "name": "stderr",
     "output_type": "stream",
     "text": [
      "Submitted job 124 with tag libd_chr1-chr1_all-herit-20241104-135203. Status: Submitted\n",
      "\n",
      "Sleeping for 31 seconds to avoid overloading the scheduler.\n",
      "\n"
     ]
    },
    {
     "name": "stdout",
     "output_type": "stream",
     "text": [
      "\n"
     ]
    },
    {
     "name": "stderr",
     "output_type": "stream",
     "text": [
      "Submitted job 125 with tag libd_chr1-chr1_all-herit-20241104-135234. Status: Submitted\n",
      "\n",
      "Sleeping for 31 seconds to avoid overloading the scheduler.\n",
      "\n"
     ]
    },
    {
     "name": "stdout",
     "output_type": "stream",
     "text": [
      "\n"
     ]
    },
    {
     "name": "stderr",
     "output_type": "stream",
     "text": [
      "Submitted job 126 with tag libd_chr1-chr1_all-herit-20241104-135305. Status: Submitted\n",
      "\n",
      "Sleeping for 31 seconds to avoid overloading the scheduler.\n",
      "\n"
     ]
    },
    {
     "name": "stdout",
     "output_type": "stream",
     "text": [
      "\n"
     ]
    },
    {
     "name": "stderr",
     "output_type": "stream",
     "text": [
      "Submitted job 127 with tag libd_chr1-chr1_all-herit-20241104-135336. Status: Submitted\n",
      "\n",
      "Sleeping for 31 seconds to avoid overloading the scheduler.\n",
      "\n"
     ]
    },
    {
     "name": "stdout",
     "output_type": "stream",
     "text": [
      "\n"
     ]
    },
    {
     "name": "stderr",
     "output_type": "stream",
     "text": [
      "Submitted job 128 with tag libd_chr1-chr1_all-herit-20241104-135407. Status: Submitted\n",
      "\n",
      "Sleeping for 31 seconds to avoid overloading the scheduler.\n",
      "\n"
     ]
    },
    {
     "name": "stdout",
     "output_type": "stream",
     "text": [
      "\n"
     ]
    },
    {
     "name": "stderr",
     "output_type": "stream",
     "text": [
      "Submitted job 129 with tag libd_chr1-chr1_all-herit-20241104-135438. Status: Submitted\n",
      "\n",
      "Sleeping for 31 seconds to avoid overloading the scheduler.\n",
      "\n"
     ]
    },
    {
     "name": "stdout",
     "output_type": "stream",
     "text": [
      "\n"
     ]
    },
    {
     "name": "stderr",
     "output_type": "stream",
     "text": [
      "Submitted job 130 with tag libd_chr1-chr1_all-herit-20241104-135509. Status: Submitted\n",
      "\n",
      "Sleeping for 31 seconds to avoid overloading the scheduler.\n",
      "\n"
     ]
    },
    {
     "name": "stdout",
     "output_type": "stream",
     "text": [
      "\n"
     ]
    },
    {
     "name": "stderr",
     "output_type": "stream",
     "text": [
      "Submitted job 131 with tag libd_chr1-chr1_all-herit-20241104-135540. Status: Submitted\n",
      "\n",
      "Sleeping for 31 seconds to avoid overloading the scheduler.\n",
      "\n"
     ]
    },
    {
     "name": "stdout",
     "output_type": "stream",
     "text": [
      "\n"
     ]
    },
    {
     "name": "stderr",
     "output_type": "stream",
     "text": [
      "Submitted job 132 with tag libd_chr1-chr1_all-herit-20241104-135611. Status: Submitted\n",
      "\n",
      "Sleeping for 31 seconds to avoid overloading the scheduler.\n",
      "\n"
     ]
    },
    {
     "name": "stdout",
     "output_type": "stream",
     "text": [
      "\n"
     ]
    },
    {
     "name": "stderr",
     "output_type": "stream",
     "text": [
      "Submitted job 133 with tag libd_chr1-chr1_all-herit-20241104-135643. Status: Submitted\n",
      "\n",
      "Sleeping for 31 seconds to avoid overloading the scheduler.\n",
      "\n"
     ]
    },
    {
     "name": "stdout",
     "output_type": "stream",
     "text": [
      "\n"
     ]
    },
    {
     "name": "stderr",
     "output_type": "stream",
     "text": [
      "Submitted job 134 with tag libd_chr1-chr1_all-herit-20241104-135714. Status: Submitted\n",
      "\n",
      "Sleeping for 31 seconds to avoid overloading the scheduler.\n",
      "\n"
     ]
    },
    {
     "name": "stdout",
     "output_type": "stream",
     "text": [
      "\n"
     ]
    },
    {
     "name": "stderr",
     "output_type": "stream",
     "text": [
      "Submitted job 135 with tag libd_chr1-chr1_all-herit-20241104-135745. Status: Submitted\n",
      "\n",
      "Sleeping for 31 seconds to avoid overloading the scheduler.\n",
      "\n"
     ]
    },
    {
     "name": "stdout",
     "output_type": "stream",
     "text": [
      "\n"
     ]
    },
    {
     "name": "stderr",
     "output_type": "stream",
     "text": [
      "Submitted job 136 with tag libd_chr1-chr1_all-herit-20241104-135816. Status: Submitted\n",
      "\n",
      "Sleeping for 31 seconds to avoid overloading the scheduler.\n",
      "\n"
     ]
    },
    {
     "name": "stdout",
     "output_type": "stream",
     "text": [
      "\n"
     ]
    },
    {
     "name": "stderr",
     "output_type": "stream",
     "text": [
      "Submitted job 137 with tag libd_chr1-chr1_all-herit-20241104-135847. Status: Submitted\n",
      "\n",
      "Sleeping for 31 seconds to avoid overloading the scheduler.\n",
      "\n"
     ]
    },
    {
     "name": "stdout",
     "output_type": "stream",
     "text": [
      "\n"
     ]
    },
    {
     "name": "stderr",
     "output_type": "stream",
     "text": [
      "Submitted job 138 with tag libd_chr1-chr1_all-herit-20241104-135918. Status: Submitted\n",
      "\n",
      "Sleeping for 31 seconds to avoid overloading the scheduler.\n",
      "\n"
     ]
    },
    {
     "name": "stdout",
     "output_type": "stream",
     "text": [
      "\n"
     ]
    },
    {
     "name": "stderr",
     "output_type": "stream",
     "text": [
      "Submitted job 139 with tag libd_chr1-chr1_all-herit-20241104-135949. Status: Submitted\n",
      "\n",
      "Sleeping for 31 seconds to avoid overloading the scheduler.\n",
      "\n"
     ]
    },
    {
     "name": "stdout",
     "output_type": "stream",
     "text": [
      "\n"
     ]
    },
    {
     "name": "stderr",
     "output_type": "stream",
     "text": [
      "Submitted job 140 with tag libd_chr1-chr1_all-herit-20241104-140020. Status: Submitted\n",
      "\n",
      "Sleeping for 31 seconds to avoid overloading the scheduler.\n",
      "\n"
     ]
    },
    {
     "name": "stdout",
     "output_type": "stream",
     "text": [
      "\n"
     ]
    },
    {
     "name": "stderr",
     "output_type": "stream",
     "text": [
      "Submitted job 141 with tag libd_chr1-chr1_all-herit-20241104-140051. Status: Submitted\n",
      "\n",
      "Sleeping for 31 seconds to avoid overloading the scheduler.\n",
      "\n"
     ]
    },
    {
     "name": "stdout",
     "output_type": "stream",
     "text": [
      "\n"
     ]
    },
    {
     "name": "stderr",
     "output_type": "stream",
     "text": [
      "Submitted job 142 with tag libd_chr1-chr1_all-herit-20241104-140122. Status: Submitted\n",
      "\n",
      "Sleeping for 31 seconds to avoid overloading the scheduler.\n",
      "\n"
     ]
    },
    {
     "name": "stdout",
     "output_type": "stream",
     "text": [
      "\n"
     ]
    },
    {
     "name": "stderr",
     "output_type": "stream",
     "text": [
      "Submitted job 143 with tag libd_chr1-chr1_all-herit-20241104-140153. Status: Submitted\n",
      "\n",
      "Sleeping for 31 seconds to avoid overloading the scheduler.\n",
      "\n"
     ]
    },
    {
     "name": "stdout",
     "output_type": "stream",
     "text": [
      "\n"
     ]
    },
    {
     "name": "stderr",
     "output_type": "stream",
     "text": [
      "Submitted job 144 with tag libd_chr1-chr1_all-herit-20241104-140224. Status: Submitted\n",
      "\n",
      "Sleeping for 31 seconds to avoid overloading the scheduler.\n",
      "\n"
     ]
    },
    {
     "name": "stdout",
     "output_type": "stream",
     "text": [
      "\n"
     ]
    },
    {
     "name": "stderr",
     "output_type": "stream",
     "text": [
      "Submitted job 145 with tag libd_chr1-chr1_all-herit-20241104-140255. Status: Submitted\n",
      "\n",
      "Sleeping for 31 seconds to avoid overloading the scheduler.\n",
      "\n"
     ]
    },
    {
     "name": "stdout",
     "output_type": "stream",
     "text": [
      "\n"
     ]
    },
    {
     "name": "stderr",
     "output_type": "stream",
     "text": [
      "Submitted job 146 with tag libd_chr1-chr1_all-herit-20241104-140327. Status: Submitted\n",
      "\n",
      "Sleeping for 31 seconds to avoid overloading the scheduler.\n",
      "\n"
     ]
    },
    {
     "name": "stdout",
     "output_type": "stream",
     "text": [
      "\n"
     ]
    },
    {
     "name": "stderr",
     "output_type": "stream",
     "text": [
      "Submitted job 147 with tag libd_chr1-chr1_all-herit-20241104-140358. Status: Submitted\n",
      "\n",
      "Sleeping for 31 seconds to avoid overloading the scheduler.\n",
      "\n"
     ]
    },
    {
     "name": "stdout",
     "output_type": "stream",
     "text": [
      "\n"
     ]
    },
    {
     "name": "stderr",
     "output_type": "stream",
     "text": [
      "Submitted job 148 with tag libd_chr1-chr1_all-herit-20241104-140429. Status: Submitted\n",
      "\n",
      "Sleeping for 31 seconds to avoid overloading the scheduler.\n",
      "\n"
     ]
    },
    {
     "name": "stdout",
     "output_type": "stream",
     "text": [
      "\n"
     ]
    },
    {
     "name": "stderr",
     "output_type": "stream",
     "text": [
      "Submitted job 149 with tag libd_chr1-chr1_all-herit-20241104-140500. Status: Submitted\n",
      "\n",
      "Sleeping for 31 seconds to avoid overloading the scheduler.\n",
      "\n"
     ]
    },
    {
     "name": "stdout",
     "output_type": "stream",
     "text": [
      "\n"
     ]
    },
    {
     "name": "stderr",
     "output_type": "stream",
     "text": [
      "Submitted job 150 with tag libd_chr1-chr1_all-herit-20241104-140531. Status: Submitted\n",
      "\n",
      "Sleeping for 31 seconds to avoid overloading the scheduler.\n",
      "\n"
     ]
    },
    {
     "name": "stdout",
     "output_type": "stream",
     "text": [
      "\n"
     ]
    },
    {
     "name": "stderr",
     "output_type": "stream",
     "text": [
      "Submitted job 151 with tag libd_chr1-chr1_all-herit-20241104-140602. Status: Submitted\n",
      "\n",
      "Sleeping for 31 seconds to avoid overloading the scheduler.\n",
      "\n"
     ]
    },
    {
     "name": "stdout",
     "output_type": "stream",
     "text": [
      "\n"
     ]
    },
    {
     "name": "stderr",
     "output_type": "stream",
     "text": [
      "Submitted job 152 with tag libd_chr1-chr1_all-herit-20241104-140633. Status: Submitted\n",
      "\n",
      "Sleeping for 31 seconds to avoid overloading the scheduler.\n",
      "\n"
     ]
    },
    {
     "name": "stdout",
     "output_type": "stream",
     "text": [
      "\n"
     ]
    },
    {
     "name": "stderr",
     "output_type": "stream",
     "text": [
      "Submitted job 153 with tag libd_chr1-chr1_all-herit-20241104-140704. Status: Submitted\n",
      "\n",
      "Sleeping for 31 seconds to avoid overloading the scheduler.\n",
      "\n"
     ]
    },
    {
     "name": "stdout",
     "output_type": "stream",
     "text": [
      "\n"
     ]
    },
    {
     "name": "stderr",
     "output_type": "stream",
     "text": [
      "Submitted job 154 with tag libd_chr1-chr1_all-herit-20241104-140735. Status: Submitted\n",
      "\n",
      "Sleeping for 31 seconds to avoid overloading the scheduler.\n",
      "\n"
     ]
    },
    {
     "name": "stdout",
     "output_type": "stream",
     "text": [
      "\n"
     ]
    },
    {
     "name": "stderr",
     "output_type": "stream",
     "text": [
      "Submitted job 155 with tag libd_chr1-chr1_all-herit-20241104-140807. Status: Submitted\n",
      "\n",
      "Sleeping for 31 seconds to avoid overloading the scheduler.\n",
      "\n"
     ]
    },
    {
     "name": "stdout",
     "output_type": "stream",
     "text": [
      "\n"
     ]
    },
    {
     "name": "stderr",
     "output_type": "stream",
     "text": [
      "Submitted job 156 with tag libd_chr1-chr1_all-herit-20241104-140838. Status: Submitted\n",
      "\n",
      "Sleeping for 31 seconds to avoid overloading the scheduler.\n",
      "\n"
     ]
    },
    {
     "name": "stdout",
     "output_type": "stream",
     "text": [
      "\n"
     ]
    },
    {
     "name": "stderr",
     "output_type": "stream",
     "text": [
      "Submitted job 157 with tag libd_chr1-chr1_all-herit-20241104-140909. Status: Submitted\n",
      "\n",
      "Sleeping for 31 seconds to avoid overloading the scheduler.\n",
      "\n"
     ]
    },
    {
     "name": "stdout",
     "output_type": "stream",
     "text": [
      "\n"
     ]
    },
    {
     "name": "stderr",
     "output_type": "stream",
     "text": [
      "Submitted job 158 with tag libd_chr1-chr1_all-herit-20241104-140940. Status: Submitted\n",
      "\n",
      "Sleeping for 31 seconds to avoid overloading the scheduler.\n",
      "\n"
     ]
    },
    {
     "name": "stdout",
     "output_type": "stream",
     "text": [
      "\n"
     ]
    },
    {
     "name": "stderr",
     "output_type": "stream",
     "text": [
      "Submitted job 159 with tag libd_chr1-chr1_all-herit-20241104-141011. Status: Submitted\n",
      "\n",
      "Sleeping for 31 seconds to avoid overloading the scheduler.\n",
      "\n"
     ]
    },
    {
     "name": "stdout",
     "output_type": "stream",
     "text": [
      "\n"
     ]
    },
    {
     "name": "stderr",
     "output_type": "stream",
     "text": [
      "Submitted job 160 with tag libd_chr1-chr1_all-herit-20241104-141042. Status: Submitted\n",
      "\n",
      "Sleeping for 31 seconds to avoid overloading the scheduler.\n",
      "\n"
     ]
    },
    {
     "name": "stdout",
     "output_type": "stream",
     "text": [
      "\n"
     ]
    },
    {
     "name": "stderr",
     "output_type": "stream",
     "text": [
      "Submitted job 161 with tag libd_chr1-chr1_all-herit-20241104-141113. Status: Submitted\n",
      "\n",
      "Sleeping for 31 seconds to avoid overloading the scheduler.\n",
      "\n"
     ]
    },
    {
     "name": "stdout",
     "output_type": "stream",
     "text": [
      "\n"
     ]
    },
    {
     "name": "stderr",
     "output_type": "stream",
     "text": [
      "Submitted job 162 with tag libd_chr1-chr1_all-herit-20241104-141144. Status: Submitted\n",
      "\n",
      "Sleeping for 31 seconds to avoid overloading the scheduler.\n",
      "\n"
     ]
    },
    {
     "name": "stdout",
     "output_type": "stream",
     "text": [
      "\n"
     ]
    },
    {
     "name": "stderr",
     "output_type": "stream",
     "text": [
      "Submitted job 163 with tag libd_chr1-chr1_all-herit-20241104-141216. Status: Submitted\n",
      "\n",
      "Sleeping for 31 seconds to avoid overloading the scheduler.\n",
      "\n"
     ]
    },
    {
     "name": "stdout",
     "output_type": "stream",
     "text": [
      "\n"
     ]
    },
    {
     "name": "stderr",
     "output_type": "stream",
     "text": [
      "Submitted job 164 with tag libd_chr1-chr1_all-herit-20241104-141247. Status: Submitted\n",
      "\n",
      "Sleeping for 31 seconds to avoid overloading the scheduler.\n",
      "\n"
     ]
    },
    {
     "name": "stdout",
     "output_type": "stream",
     "text": [
      "\n"
     ]
    },
    {
     "name": "stderr",
     "output_type": "stream",
     "text": [
      "Submitted job 165 with tag libd_chr1-chr1_all-herit-20241104-141318. Status: Submitted\n",
      "\n",
      "Sleeping for 31 seconds to avoid overloading the scheduler.\n",
      "\n"
     ]
    },
    {
     "name": "stdout",
     "output_type": "stream",
     "text": [
      "\n"
     ]
    },
    {
     "name": "stderr",
     "output_type": "stream",
     "text": [
      "Submitted job 166 with tag libd_chr1-chr1_all-herit-20241104-141349. Status: Submitted\n",
      "\n",
      "Sleeping for 31 seconds to avoid overloading the scheduler.\n",
      "\n"
     ]
    },
    {
     "name": "stdout",
     "output_type": "stream",
     "text": [
      "\n"
     ]
    },
    {
     "name": "stderr",
     "output_type": "stream",
     "text": [
      "Submitted job 167 with tag libd_chr1-chr1_all-herit-20241104-141420. Status: Submitted\n",
      "\n",
      "Sleeping for 31 seconds to avoid overloading the scheduler.\n",
      "\n"
     ]
    },
    {
     "name": "stdout",
     "output_type": "stream",
     "text": [
      "\n"
     ]
    },
    {
     "name": "stderr",
     "output_type": "stream",
     "text": [
      "Submitted job 168 with tag libd_chr1-chr1_all-herit-20241104-141451. Status: Submitted\n",
      "\n",
      "Sleeping for 31 seconds to avoid overloading the scheduler.\n",
      "\n"
     ]
    },
    {
     "name": "stdout",
     "output_type": "stream",
     "text": [
      "\n"
     ]
    },
    {
     "name": "stderr",
     "output_type": "stream",
     "text": [
      "Submitted job 169 with tag libd_chr1-chr1_all-herit-20241104-141522. Status: Submitted\n",
      "\n",
      "Sleeping for 31 seconds to avoid overloading the scheduler.\n",
      "\n"
     ]
    },
    {
     "name": "stdout",
     "output_type": "stream",
     "text": [
      "\n"
     ]
    },
    {
     "name": "stderr",
     "output_type": "stream",
     "text": [
      "Submitted job 170 with tag libd_chr1-chr1_all-herit-20241104-141555. Status: Submitted\n",
      "\n",
      "Sleeping for 31 seconds to avoid overloading the scheduler.\n",
      "\n"
     ]
    },
    {
     "name": "stdout",
     "output_type": "stream",
     "text": [
      "\n"
     ]
    },
    {
     "name": "stderr",
     "output_type": "stream",
     "text": [
      "Submitted job 171 with tag libd_chr1-chr1_all-herit-20241104-141626. Status: Submitted\n",
      "\n",
      "Sleeping for 31 seconds to avoid overloading the scheduler.\n",
      "\n"
     ]
    },
    {
     "name": "stdout",
     "output_type": "stream",
     "text": [
      "\n"
     ]
    },
    {
     "name": "stderr",
     "output_type": "stream",
     "text": [
      "Submitted job 172 with tag libd_chr1-chr1_all-herit-20241104-141657. Status: Submitted\n",
      "\n",
      "Sleeping for 31 seconds to avoid overloading the scheduler.\n",
      "\n"
     ]
    },
    {
     "name": "stdout",
     "output_type": "stream",
     "text": [
      "\n"
     ]
    },
    {
     "name": "stderr",
     "output_type": "stream",
     "text": [
      "Submitted job 173 with tag libd_chr1-chr1_all-herit-20241104-141729. Status: Submitted\n",
      "\n",
      "Sleeping for 31 seconds to avoid overloading the scheduler.\n",
      "\n"
     ]
    },
    {
     "name": "stdout",
     "output_type": "stream",
     "text": [
      "\n"
     ]
    },
    {
     "name": "stderr",
     "output_type": "stream",
     "text": [
      "Submitted job 174 with tag libd_chr1-chr1_all-herit-20241104-141800. Status: Submitted\n",
      "\n",
      "Sleeping for 31 seconds to avoid overloading the scheduler.\n",
      "\n"
     ]
    },
    {
     "name": "stdout",
     "output_type": "stream",
     "text": [
      "\n"
     ]
    },
    {
     "name": "stderr",
     "output_type": "stream",
     "text": [
      "Submitted job 175 with tag libd_chr1-chr1_all-herit-20241104-141831. Status: Submitted\n",
      "\n",
      "Sleeping for 31 seconds to avoid overloading the scheduler.\n",
      "\n"
     ]
    },
    {
     "name": "stdout",
     "output_type": "stream",
     "text": [
      "\n"
     ]
    },
    {
     "name": "stderr",
     "output_type": "stream",
     "text": [
      "Submitted job 176 with tag libd_chr1-chr1_all-herit-20241104-141902. Status: Submitted\n",
      "\n",
      "Sleeping for 31 seconds to avoid overloading the scheduler.\n",
      "\n"
     ]
    },
    {
     "name": "stdout",
     "output_type": "stream",
     "text": [
      "\n"
     ]
    },
    {
     "name": "stderr",
     "output_type": "stream",
     "text": [
      "Submitted job 177 with tag libd_chr1-chr1_all-herit-20241104-141933. Status: Submitted\n",
      "\n",
      "Sleeping for 31 seconds to avoid overloading the scheduler.\n",
      "\n"
     ]
    },
    {
     "name": "stdout",
     "output_type": "stream",
     "text": [
      "\n"
     ]
    },
    {
     "name": "stderr",
     "output_type": "stream",
     "text": [
      "Submitted job 178 with tag libd_chr1-chr1_all-herit-20241104-142005. Status: Submitted\n",
      "\n",
      "Sleeping for 31 seconds to avoid overloading the scheduler.\n",
      "\n"
     ]
    },
    {
     "name": "stdout",
     "output_type": "stream",
     "text": [
      "\n"
     ]
    },
    {
     "name": "stderr",
     "output_type": "stream",
     "text": [
      "Submitted job 179 with tag libd_chr1-chr1_all-herit-20241104-142036. Status: Submitted\n",
      "\n",
      "Sleeping for 31 seconds to avoid overloading the scheduler.\n",
      "\n"
     ]
    },
    {
     "name": "stdout",
     "output_type": "stream",
     "text": [
      "\n"
     ]
    },
    {
     "name": "stderr",
     "output_type": "stream",
     "text": [
      "Submitted job 180 with tag libd_chr1-chr1_all-herit-20241104-142107. Status: Submitted\n",
      "\n",
      "Sleeping for 31 seconds to avoid overloading the scheduler.\n",
      "\n"
     ]
    },
    {
     "name": "stdout",
     "output_type": "stream",
     "text": [
      "\n"
     ]
    },
    {
     "name": "stderr",
     "output_type": "stream",
     "text": [
      "Submitted job 181 with tag libd_chr1-chr1_all-herit-20241104-142138. Status: Submitted\n",
      "\n",
      "Sleeping for 31 seconds to avoid overloading the scheduler.\n",
      "\n"
     ]
    },
    {
     "name": "stdout",
     "output_type": "stream",
     "text": [
      "\n"
     ]
    },
    {
     "name": "stderr",
     "output_type": "stream",
     "text": [
      "Submitted job 182 with tag libd_chr1-chr1_all-herit-20241104-142209. Status: Submitted\n",
      "\n",
      "Sleeping for 31 seconds to avoid overloading the scheduler.\n",
      "\n"
     ]
    },
    {
     "name": "stdout",
     "output_type": "stream",
     "text": [
      "\n"
     ]
    },
    {
     "name": "stderr",
     "output_type": "stream",
     "text": [
      "Submitted job 183 with tag libd_chr1-chr1_all-herit-20241104-142240. Status: Submitted\n",
      "\n",
      "Sleeping for 31 seconds to avoid overloading the scheduler.\n",
      "\n"
     ]
    },
    {
     "name": "stdout",
     "output_type": "stream",
     "text": [
      "\n"
     ]
    },
    {
     "name": "stderr",
     "output_type": "stream",
     "text": [
      "Submitted job 184 with tag libd_chr1-chr1_all-herit-20241104-142312. Status: Submitted\n",
      "\n",
      "Sleeping for 31 seconds to avoid overloading the scheduler.\n",
      "\n"
     ]
    },
    {
     "name": "stdout",
     "output_type": "stream",
     "text": [
      "\n"
     ]
    },
    {
     "name": "stderr",
     "output_type": "stream",
     "text": [
      "Submitted job 185 with tag libd_chr1-chr1_all-herit-20241104-142343. Status: Submitted\n",
      "\n",
      "Sleeping for 31 seconds to avoid overloading the scheduler.\n",
      "\n"
     ]
    },
    {
     "name": "stdout",
     "output_type": "stream",
     "text": [
      "\n"
     ]
    },
    {
     "name": "stderr",
     "output_type": "stream",
     "text": [
      "Submitted job 186 with tag libd_chr1-chr1_all-herit-20241104-142414. Status: Submitted\n",
      "\n",
      "Sleeping for 31 seconds to avoid overloading the scheduler.\n",
      "\n"
     ]
    },
    {
     "name": "stdout",
     "output_type": "stream",
     "text": [
      "\n"
     ]
    },
    {
     "name": "stderr",
     "output_type": "stream",
     "text": [
      "Submitted job 187 with tag libd_chr1-chr1_all-herit-20241104-142445. Status: Submitted\n",
      "\n",
      "Sleeping for 31 seconds to avoid overloading the scheduler.\n",
      "\n"
     ]
    },
    {
     "name": "stdout",
     "output_type": "stream",
     "text": [
      "\n"
     ]
    },
    {
     "name": "stderr",
     "output_type": "stream",
     "text": [
      "Submitted job 188 with tag libd_chr1-chr1_all-herit-20241104-142516. Status: Submitted\n",
      "\n",
      "Sleeping for 31 seconds to avoid overloading the scheduler.\n",
      "\n"
     ]
    },
    {
     "name": "stdout",
     "output_type": "stream",
     "text": [
      "\n"
     ]
    },
    {
     "name": "stderr",
     "output_type": "stream",
     "text": [
      "Submitted job 189 with tag libd_chr1-chr1_all-herit-20241104-142547. Status: Submitted\n",
      "\n",
      "Sleeping for 31 seconds to avoid overloading the scheduler.\n",
      "\n"
     ]
    },
    {
     "name": "stdout",
     "output_type": "stream",
     "text": [
      "\n"
     ]
    },
    {
     "name": "stderr",
     "output_type": "stream",
     "text": [
      "Submitted job 190 with tag libd_chr1-chr1_all-herit-20241104-142619. Status: Submitted\n",
      "\n",
      "Sleeping for 31 seconds to avoid overloading the scheduler.\n",
      "\n"
     ]
    },
    {
     "name": "stdout",
     "output_type": "stream",
     "text": [
      "\n"
     ]
    },
    {
     "name": "stderr",
     "output_type": "stream",
     "text": [
      "Submitted job 191 with tag libd_chr1-chr1_all-herit-20241104-142650. Status: Submitted\n",
      "\n",
      "Sleeping for 31 seconds to avoid overloading the scheduler.\n",
      "\n"
     ]
    },
    {
     "name": "stdout",
     "output_type": "stream",
     "text": [
      "\n"
     ]
    },
    {
     "name": "stderr",
     "output_type": "stream",
     "text": [
      "Submitted job 192 with tag libd_chr1-chr1_all-herit-20241104-142721. Status: Submitted\n",
      "\n",
      "Sleeping for 31 seconds to avoid overloading the scheduler.\n",
      "\n"
     ]
    },
    {
     "name": "stdout",
     "output_type": "stream",
     "text": [
      "\n"
     ]
    },
    {
     "name": "stderr",
     "output_type": "stream",
     "text": [
      "Submitted job 193 with tag libd_chr1-chr1_all-herit-20241104-142752. Status: Submitted\n",
      "\n",
      "Sleeping for 31 seconds to avoid overloading the scheduler.\n",
      "\n"
     ]
    },
    {
     "name": "stdout",
     "output_type": "stream",
     "text": [
      "\n"
     ]
    },
    {
     "name": "stderr",
     "output_type": "stream",
     "text": [
      "Submitted job 194 with tag libd_chr1-chr1_all-herit-20241104-142823. Status: Submitted\n",
      "\n",
      "Sleeping for 31 seconds to avoid overloading the scheduler.\n",
      "\n"
     ]
    },
    {
     "name": "stdout",
     "output_type": "stream",
     "text": [
      "\n"
     ]
    },
    {
     "name": "stderr",
     "output_type": "stream",
     "text": [
      "Submitted job 195 with tag libd_chr1-chr1_all-herit-20241104-142854. Status: Submitted\n",
      "\n",
      "Sleeping for 31 seconds to avoid overloading the scheduler.\n",
      "\n"
     ]
    },
    {
     "name": "stdout",
     "output_type": "stream",
     "text": [
      "\n"
     ]
    },
    {
     "name": "stderr",
     "output_type": "stream",
     "text": [
      "Submitted job 196 with tag libd_chr1-chr1_all-herit-20241104-142925. Status: Submitted\n",
      "\n",
      "Sleeping for 31 seconds to avoid overloading the scheduler.\n",
      "\n"
     ]
    },
    {
     "name": "stdout",
     "output_type": "stream",
     "text": [
      "\n"
     ]
    },
    {
     "name": "stderr",
     "output_type": "stream",
     "text": [
      "Submitted job 197 with tag libd_chr1-chr1_all-herit-20241104-142956. Status: Submitted\n",
      "\n",
      "Sleeping for 31 seconds to avoid overloading the scheduler.\n",
      "\n"
     ]
    },
    {
     "name": "stdout",
     "output_type": "stream",
     "text": [
      "\n"
     ]
    },
    {
     "name": "stderr",
     "output_type": "stream",
     "text": [
      "Submitted job 198 with tag libd_chr1-chr1_all-herit-20241104-143027. Status: Submitted\n",
      "\n",
      "Sleeping for 31 seconds to avoid overloading the scheduler.\n",
      "\n"
     ]
    },
    {
     "name": "stdout",
     "output_type": "stream",
     "text": [
      "\n"
     ]
    },
    {
     "name": "stderr",
     "output_type": "stream",
     "text": [
      "Submitted job 199 with tag libd_chr1-chr1_all-herit-20241104-143059. Status: Submitted\n",
      "\n",
      "Sleeping for 31 seconds to avoid overloading the scheduler.\n",
      "\n"
     ]
    },
    {
     "name": "stdout",
     "output_type": "stream",
     "text": [
      "\n"
     ]
    },
    {
     "name": "stderr",
     "output_type": "stream",
     "text": [
      "Submitted job 200 with tag libd_chr1-chr1_all-herit-20241104-143130. Status: Submitted\n",
      "\n",
      "Sleeping for 31 seconds to avoid overloading the scheduler.\n",
      "\n"
     ]
    },
    {
     "name": "stdout",
     "output_type": "stream",
     "text": [
      "\n"
     ]
    },
    {
     "name": "stderr",
     "output_type": "stream",
     "text": [
      "Submitted job 201 with tag libd_chr1-chr1_all-herit-20241104-143201. Status: Submitted\n",
      "\n",
      "Sleeping for 31 seconds to avoid overloading the scheduler.\n",
      "\n"
     ]
    },
    {
     "name": "stdout",
     "output_type": "stream",
     "text": [
      "\n"
     ]
    },
    {
     "name": "stderr",
     "output_type": "stream",
     "text": [
      "Submitted job 202 with tag libd_chr1-chr1_all-herit-20241104-143232. Status: Submitted\n",
      "\n",
      "Sleeping for 31 seconds to avoid overloading the scheduler.\n",
      "\n"
     ]
    },
    {
     "name": "stdout",
     "output_type": "stream",
     "text": [
      "\n"
     ]
    },
    {
     "name": "stderr",
     "output_type": "stream",
     "text": [
      "Submitted job 203 with tag libd_chr1-chr1_all-herit-20241104-143304. Status: Submitted\n",
      "\n",
      "Sleeping for 31 seconds to avoid overloading the scheduler.\n",
      "\n"
     ]
    },
    {
     "name": "stdout",
     "output_type": "stream",
     "text": [
      "\n"
     ]
    },
    {
     "name": "stderr",
     "output_type": "stream",
     "text": [
      "Submitted job 204 with tag libd_chr1-chr1_all-herit-20241104-143335. Status: Submitted\n",
      "\n",
      "Sleeping for 31 seconds to avoid overloading the scheduler.\n",
      "\n"
     ]
    },
    {
     "name": "stdout",
     "output_type": "stream",
     "text": [
      "\n"
     ]
    },
    {
     "name": "stderr",
     "output_type": "stream",
     "text": [
      "Submitted job 205 with tag libd_chr1-chr1_all-herit-20241104-143406. Status: Submitted\n",
      "\n",
      "Sleeping for 31 seconds to avoid overloading the scheduler.\n",
      "\n"
     ]
    },
    {
     "name": "stdout",
     "output_type": "stream",
     "text": [
      "\n"
     ]
    },
    {
     "name": "stderr",
     "output_type": "stream",
     "text": [
      "Submitted job 206 with tag libd_chr1-chr1_all-herit-20241104-143437. Status: Submitted\n",
      "\n",
      "Sleeping for 31 seconds to avoid overloading the scheduler.\n",
      "\n"
     ]
    },
    {
     "name": "stdout",
     "output_type": "stream",
     "text": [
      "\n"
     ]
    },
    {
     "name": "stderr",
     "output_type": "stream",
     "text": [
      "Submitted job 207 with tag libd_chr1-chr1_all-herit-20241104-143509. Status: Submitted\n",
      "\n",
      "Sleeping for 31 seconds to avoid overloading the scheduler.\n",
      "\n"
     ]
    },
    {
     "name": "stdout",
     "output_type": "stream",
     "text": [
      "\n"
     ]
    },
    {
     "name": "stderr",
     "output_type": "stream",
     "text": [
      "Submitted job 208 with tag libd_chr1-chr1_all-herit-20241104-143540. Status: Submitted\n",
      "\n",
      "Sleeping for 31 seconds to avoid overloading the scheduler.\n",
      "\n"
     ]
    },
    {
     "name": "stdout",
     "output_type": "stream",
     "text": [
      "\n"
     ]
    },
    {
     "name": "stderr",
     "output_type": "stream",
     "text": [
      "Submitted job 209 with tag libd_chr1-chr1_all-herit-20241104-143611. Status: Submitted\n",
      "\n",
      "Sleeping for 31 seconds to avoid overloading the scheduler.\n",
      "\n"
     ]
    },
    {
     "name": "stdout",
     "output_type": "stream",
     "text": [
      "\n"
     ]
    },
    {
     "name": "stderr",
     "output_type": "stream",
     "text": [
      "Submitted job 210 with tag libd_chr1-chr1_all-herit-20241104-143642. Status: Submitted\n",
      "\n",
      "Sleeping for 31 seconds to avoid overloading the scheduler.\n",
      "\n"
     ]
    },
    {
     "name": "stdout",
     "output_type": "stream",
     "text": [
      "\n"
     ]
    },
    {
     "name": "stderr",
     "output_type": "stream",
     "text": [
      "Submitted job 211 with tag libd_chr1-chr1_all-herit-20241104-143713. Status: Submitted\n",
      "\n",
      "Sleeping for 31 seconds to avoid overloading the scheduler.\n",
      "\n"
     ]
    },
    {
     "name": "stdout",
     "output_type": "stream",
     "text": [
      "\n"
     ]
    },
    {
     "name": "stderr",
     "output_type": "stream",
     "text": [
      "Submitted job 212 with tag libd_chr1-chr1_all-herit-20241104-143745. Status: Submitted\n",
      "\n",
      "Sleeping for 31 seconds to avoid overloading the scheduler.\n",
      "\n"
     ]
    },
    {
     "name": "stdout",
     "output_type": "stream",
     "text": [
      "\n"
     ]
    },
    {
     "name": "stderr",
     "output_type": "stream",
     "text": [
      "Submitted job 213 with tag libd_chr1-chr1_all-herit-20241104-143816. Status: Submitted\n",
      "\n",
      "Sleeping for 31 seconds to avoid overloading the scheduler.\n",
      "\n"
     ]
    },
    {
     "name": "stdout",
     "output_type": "stream",
     "text": [
      "\n"
     ]
    },
    {
     "name": "stderr",
     "output_type": "stream",
     "text": [
      "Submitted job 214 with tag libd_chr1-chr1_all-herit-20241104-143847. Status: Submitted\n",
      "\n",
      "Sleeping for 31 seconds to avoid overloading the scheduler.\n",
      "\n"
     ]
    },
    {
     "name": "stdout",
     "output_type": "stream",
     "text": [
      "\n"
     ]
    },
    {
     "name": "stderr",
     "output_type": "stream",
     "text": [
      "Submitted job 215 with tag libd_chr1-chr1_all-herit-20241104-143918. Status: Submitted\n",
      "\n",
      "Sleeping for 31 seconds to avoid overloading the scheduler.\n",
      "\n"
     ]
    },
    {
     "name": "stdout",
     "output_type": "stream",
     "text": [
      "\n"
     ]
    },
    {
     "name": "stderr",
     "output_type": "stream",
     "text": [
      "Submitted job 216 with tag libd_chr1-chr1_all-herit-20241104-143949. Status: Submitted\n",
      "\n",
      "Sleeping for 31 seconds to avoid overloading the scheduler.\n",
      "\n"
     ]
    },
    {
     "name": "stdout",
     "output_type": "stream",
     "text": [
      "\n"
     ]
    },
    {
     "name": "stderr",
     "output_type": "stream",
     "text": [
      "Submitted job 217 with tag libd_chr1-chr1_all-herit-20241104-144020. Status: Submitted\n",
      "\n",
      "Sleeping for 31 seconds to avoid overloading the scheduler.\n",
      "\n"
     ]
    },
    {
     "name": "stdout",
     "output_type": "stream",
     "text": [
      "\n"
     ]
    },
    {
     "name": "stderr",
     "output_type": "stream",
     "text": [
      "Submitted job 218 with tag libd_chr1-chr1_all-herit-20241104-144051. Status: Submitted\n",
      "\n",
      "Sleeping for 31 seconds to avoid overloading the scheduler.\n",
      "\n"
     ]
    },
    {
     "name": "stdout",
     "output_type": "stream",
     "text": [
      "\n"
     ]
    },
    {
     "name": "stderr",
     "output_type": "stream",
     "text": [
      "Submitted job 219 with tag libd_chr1-chr1_all-herit-20241104-144122. Status: Submitted\n",
      "\n",
      "Sleeping for 31 seconds to avoid overloading the scheduler.\n",
      "\n"
     ]
    },
    {
     "name": "stdout",
     "output_type": "stream",
     "text": [
      "\n"
     ]
    },
    {
     "name": "stderr",
     "output_type": "stream",
     "text": [
      "Submitted job 220 with tag libd_chr1-chr1_all-herit-20241104-144154. Status: Submitted\n",
      "\n",
      "Sleeping for 31 seconds to avoid overloading the scheduler.\n",
      "\n"
     ]
    },
    {
     "name": "stdout",
     "output_type": "stream",
     "text": [
      "\n"
     ]
    },
    {
     "name": "stderr",
     "output_type": "stream",
     "text": [
      "Submitted job 221 with tag libd_chr1-chr1_all-herit-20241104-144225. Status: Submitted\n",
      "\n",
      "Sleeping for 31 seconds to avoid overloading the scheduler.\n",
      "\n"
     ]
    },
    {
     "name": "stdout",
     "output_type": "stream",
     "text": [
      "\n"
     ]
    },
    {
     "name": "stderr",
     "output_type": "stream",
     "text": [
      "Submitted job 222 with tag libd_chr1-chr1_all-herit-20241104-144257. Status: Submitted\n",
      "\n",
      "Sleeping for 31 seconds to avoid overloading the scheduler.\n",
      "\n"
     ]
    },
    {
     "name": "stdout",
     "output_type": "stream",
     "text": [
      "\n"
     ]
    },
    {
     "name": "stderr",
     "output_type": "stream",
     "text": [
      "Submitted job 223 with tag libd_chr1-chr1_all-herit-20241104-144328. Status: Submitted\n",
      "\n",
      "Sleeping for 31 seconds to avoid overloading the scheduler.\n",
      "\n"
     ]
    },
    {
     "name": "stdout",
     "output_type": "stream",
     "text": [
      "\n"
     ]
    },
    {
     "name": "stderr",
     "output_type": "stream",
     "text": [
      "Submitted job 224 with tag libd_chr1-chr1_all-herit-20241104-144359. Status: Submitted\n",
      "\n",
      "Sleeping for 31 seconds to avoid overloading the scheduler.\n",
      "\n"
     ]
    },
    {
     "name": "stdout",
     "output_type": "stream",
     "text": [
      "\n"
     ]
    },
    {
     "name": "stderr",
     "output_type": "stream",
     "text": [
      "Submitted job 225 with tag libd_chr1-chr1_all-herit-20241104-144431. Status: Submitted\n",
      "\n",
      "Sleeping for 31 seconds to avoid overloading the scheduler.\n",
      "\n"
     ]
    },
    {
     "name": "stdout",
     "output_type": "stream",
     "text": [
      "\n"
     ]
    },
    {
     "name": "stderr",
     "output_type": "stream",
     "text": [
      "Submitted job 226 with tag libd_chr1-chr1_all-herit-20241104-144502. Status: Submitted\n",
      "\n",
      "Sleeping for 31 seconds to avoid overloading the scheduler.\n",
      "\n"
     ]
    },
    {
     "name": "stdout",
     "output_type": "stream",
     "text": [
      "\n"
     ]
    },
    {
     "name": "stderr",
     "output_type": "stream",
     "text": [
      "Submitted job 227 with tag libd_chr1-chr1_all-herit-20241104-144533. Status: Submitted\n",
      "\n",
      "Sleeping for 31 seconds to avoid overloading the scheduler.\n",
      "\n"
     ]
    },
    {
     "name": "stdout",
     "output_type": "stream",
     "text": [
      "\n"
     ]
    },
    {
     "name": "stderr",
     "output_type": "stream",
     "text": [
      "Submitted job 228 with tag libd_chr1-chr1_all-herit-20241104-144604. Status: Submitted\n",
      "\n",
      "Sleeping for 31 seconds to avoid overloading the scheduler.\n",
      "\n"
     ]
    },
    {
     "name": "stdout",
     "output_type": "stream",
     "text": [
      "\n"
     ]
    },
    {
     "name": "stderr",
     "output_type": "stream",
     "text": [
      "Submitted job 229 with tag libd_chr1-chr1_all-herit-20241104-144635. Status: Submitted\n",
      "\n",
      "Sleeping for 31 seconds to avoid overloading the scheduler.\n",
      "\n"
     ]
    },
    {
     "name": "stdout",
     "output_type": "stream",
     "text": [
      "\n"
     ]
    },
    {
     "name": "stderr",
     "output_type": "stream",
     "text": [
      "Submitted job 230 with tag libd_chr1-chr1_all-herit-20241104-144706. Status: Submitted\n",
      "\n",
      "Sleeping for 31 seconds to avoid overloading the scheduler.\n",
      "\n"
     ]
    },
    {
     "name": "stdout",
     "output_type": "stream",
     "text": [
      "\n"
     ]
    },
    {
     "name": "stderr",
     "output_type": "stream",
     "text": [
      "Submitted job 231 with tag libd_chr1-chr1_all-herit-20241104-144738. Status: Submitted\n",
      "\n",
      "Sleeping for 31 seconds to avoid overloading the scheduler.\n",
      "\n"
     ]
    },
    {
     "name": "stdout",
     "output_type": "stream",
     "text": [
      "\n"
     ]
    },
    {
     "name": "stderr",
     "output_type": "stream",
     "text": [
      "Submitted job 232 with tag libd_chr1-chr1_all-herit-20241104-144809. Status: Submitted\n",
      "\n",
      "Sleeping for 31 seconds to avoid overloading the scheduler.\n",
      "\n"
     ]
    },
    {
     "name": "stdout",
     "output_type": "stream",
     "text": [
      "\n"
     ]
    },
    {
     "name": "stderr",
     "output_type": "stream",
     "text": [
      "Submitted job 233 with tag libd_chr1-chr1_all-herit-20241104-144840. Status: Submitted\n",
      "\n",
      "Sleeping for 31 seconds to avoid overloading the scheduler.\n",
      "\n"
     ]
    },
    {
     "name": "stdout",
     "output_type": "stream",
     "text": [
      "\n"
     ]
    },
    {
     "name": "stderr",
     "output_type": "stream",
     "text": [
      "Submitted job 234 with tag libd_chr1-chr1_all-herit-20241104-144911. Status: Submitted\n",
      "\n",
      "Sleeping for 31 seconds to avoid overloading the scheduler.\n",
      "\n"
     ]
    },
    {
     "name": "stdout",
     "output_type": "stream",
     "text": [
      "\n"
     ]
    },
    {
     "name": "stderr",
     "output_type": "stream",
     "text": [
      "Submitted job 235 with tag libd_chr1-chr1_all-herit-20241104-144943. Status: Submitted\n",
      "\n",
      "Sleeping for 31 seconds to avoid overloading the scheduler.\n",
      "\n"
     ]
    },
    {
     "name": "stdout",
     "output_type": "stream",
     "text": [
      "\n"
     ]
    },
    {
     "name": "stderr",
     "output_type": "stream",
     "text": [
      "Submitted job 236 with tag libd_chr1-chr1_all-herit-20241104-145014. Status: Submitted\n",
      "\n",
      "Sleeping for 31 seconds to avoid overloading the scheduler.\n",
      "\n"
     ]
    },
    {
     "name": "stdout",
     "output_type": "stream",
     "text": [
      "\n"
     ]
    },
    {
     "name": "stderr",
     "output_type": "stream",
     "text": [
      "Submitted job 237 with tag libd_chr1-chr1_all-herit-20241104-145045. Status: Submitted\n",
      "\n",
      "Sleeping for 31 seconds to avoid overloading the scheduler.\n",
      "\n"
     ]
    },
    {
     "name": "stdout",
     "output_type": "stream",
     "text": [
      "\n"
     ]
    },
    {
     "name": "stderr",
     "output_type": "stream",
     "text": [
      "Submitted job 238 with tag libd_chr1-chr1_all-herit-20241104-145116. Status: Submitted\n",
      "\n",
      "Sleeping for 31 seconds to avoid overloading the scheduler.\n",
      "\n"
     ]
    },
    {
     "name": "stdout",
     "output_type": "stream",
     "text": [
      "\n"
     ]
    },
    {
     "name": "stderr",
     "output_type": "stream",
     "text": [
      "Submitted job 239 with tag libd_chr1-chr1_all-herit-20241104-145148. Status: Submitted\n",
      "\n",
      "Sleeping for 31 seconds to avoid overloading the scheduler.\n",
      "\n"
     ]
    },
    {
     "name": "stdout",
     "output_type": "stream",
     "text": [
      "\n"
     ]
    },
    {
     "name": "stderr",
     "output_type": "stream",
     "text": [
      "Submitted job 240 with tag libd_chr1-chr1_all-herit-20241104-145219. Status: Submitted\n",
      "\n",
      "Sleeping for 31 seconds to avoid overloading the scheduler.\n",
      "\n"
     ]
    },
    {
     "name": "stdout",
     "output_type": "stream",
     "text": [
      "\n"
     ]
    },
    {
     "name": "stderr",
     "output_type": "stream",
     "text": [
      "Submitted job 241 with tag libd_chr1-chr1_all-herit-20241104-145250. Status: Submitted\n",
      "\n",
      "Sleeping for 31 seconds to avoid overloading the scheduler.\n",
      "\n"
     ]
    },
    {
     "name": "stdout",
     "output_type": "stream",
     "text": [
      "\n"
     ]
    },
    {
     "name": "stderr",
     "output_type": "stream",
     "text": [
      "Submitted job 242 with tag libd_chr1-chr1_all-herit-20241104-145321. Status: Submitted\n",
      "\n",
      "Sleeping for 31 seconds to avoid overloading the scheduler.\n",
      "\n"
     ]
    },
    {
     "name": "stdout",
     "output_type": "stream",
     "text": [
      "\n"
     ]
    },
    {
     "name": "stderr",
     "output_type": "stream",
     "text": [
      "Submitted job 243 with tag libd_chr1-chr1_all-herit-20241104-145352. Status: Submitted\n",
      "\n",
      "Sleeping for 31 seconds to avoid overloading the scheduler.\n",
      "\n"
     ]
    },
    {
     "name": "stdout",
     "output_type": "stream",
     "text": [
      "\n"
     ]
    },
    {
     "name": "stderr",
     "output_type": "stream",
     "text": [
      "Submitted job 244 with tag libd_chr1-chr1_all-herit-20241104-145423. Status: Submitted\n",
      "\n",
      "Sleeping for 31 seconds to avoid overloading the scheduler.\n",
      "\n"
     ]
    },
    {
     "name": "stdout",
     "output_type": "stream",
     "text": [
      "\n"
     ]
    },
    {
     "name": "stderr",
     "output_type": "stream",
     "text": [
      "Submitted job 245 with tag libd_chr1-chr1_all-herit-20241104-145454. Status: Submitted\n",
      "\n",
      "Sleeping for 31 seconds to avoid overloading the scheduler.\n",
      "\n"
     ]
    },
    {
     "name": "stdout",
     "output_type": "stream",
     "text": [
      "\n"
     ]
    },
    {
     "name": "stderr",
     "output_type": "stream",
     "text": [
      "Submitted job 246 with tag libd_chr1-chr1_all-herit-20241104-145526. Status: Submitted\n",
      "\n",
      "Sleeping for 31 seconds to avoid overloading the scheduler.\n",
      "\n"
     ]
    },
    {
     "name": "stdout",
     "output_type": "stream",
     "text": [
      "\n"
     ]
    },
    {
     "name": "stderr",
     "output_type": "stream",
     "text": [
      "Submitted job 247 with tag libd_chr1-chr1_all-herit-20241104-145557. Status: Submitted\n",
      "\n",
      "Sleeping for 31 seconds to avoid overloading the scheduler.\n",
      "\n"
     ]
    },
    {
     "name": "stdout",
     "output_type": "stream",
     "text": [
      "\n"
     ]
    },
    {
     "name": "stderr",
     "output_type": "stream",
     "text": [
      "Submitted job 248 with tag libd_chr1-chr1_all-herit-20241104-145628. Status: Submitted\n",
      "\n",
      "Sleeping for 31 seconds to avoid overloading the scheduler.\n",
      "\n"
     ]
    },
    {
     "name": "stdout",
     "output_type": "stream",
     "text": [
      "\n"
     ]
    },
    {
     "name": "stderr",
     "output_type": "stream",
     "text": [
      "Submitted job 249 with tag libd_chr1-chr1_all-herit-20241104-145659. Status: Submitted\n",
      "\n",
      "Sleeping for 31 seconds to avoid overloading the scheduler.\n",
      "\n"
     ]
    },
    {
     "name": "stdout",
     "output_type": "stream",
     "text": [
      "\n"
     ]
    },
    {
     "name": "stderr",
     "output_type": "stream",
     "text": [
      "Submitted job 250 with tag libd_chr1-chr1_all-herit-20241104-145730. Status: Submitted\n",
      "\n",
      "Sleeping for 31 seconds to avoid overloading the scheduler.\n",
      "\n"
     ]
    },
    {
     "name": "stdout",
     "output_type": "stream",
     "text": [
      "\n"
     ]
    },
    {
     "name": "stderr",
     "output_type": "stream",
     "text": [
      "Submitted job 251 with tag libd_chr1-chr1_all-herit-20241104-145801. Status: Submitted\n",
      "\n",
      "Sleeping for 31 seconds to avoid overloading the scheduler.\n",
      "\n"
     ]
    },
    {
     "name": "stdout",
     "output_type": "stream",
     "text": [
      "\n"
     ]
    },
    {
     "name": "stderr",
     "output_type": "stream",
     "text": [
      "Submitted job 252 with tag libd_chr1-chr1_all-herit-20241104-145833. Status: Submitted\n",
      "\n",
      "Sleeping for 31 seconds to avoid overloading the scheduler.\n",
      "\n"
     ]
    },
    {
     "name": "stdout",
     "output_type": "stream",
     "text": [
      "\n"
     ]
    },
    {
     "name": "stderr",
     "output_type": "stream",
     "text": [
      "Submitted job 253 with tag libd_chr1-chr1_all-herit-20241104-145904. Status: Submitted\n",
      "\n",
      "Sleeping for 31 seconds to avoid overloading the scheduler.\n",
      "\n"
     ]
    },
    {
     "name": "stdout",
     "output_type": "stream",
     "text": [
      "\n"
     ]
    },
    {
     "name": "stderr",
     "output_type": "stream",
     "text": [
      "Submitted job 254 with tag libd_chr1-chr1_all-herit-20241104-145935. Status: Submitted\n",
      "\n",
      "Sleeping for 31 seconds to avoid overloading the scheduler.\n",
      "\n"
     ]
    },
    {
     "name": "stdout",
     "output_type": "stream",
     "text": [
      "\n"
     ]
    },
    {
     "name": "stderr",
     "output_type": "stream",
     "text": [
      "Submitted job 255 with tag libd_chr1-chr1_all-herit-20241104-150007. Status: Submitted\n",
      "\n",
      "Sleeping for 31 seconds to avoid overloading the scheduler.\n",
      "\n"
     ]
    },
    {
     "name": "stdout",
     "output_type": "stream",
     "text": [
      "\n"
     ]
    },
    {
     "name": "stderr",
     "output_type": "stream",
     "text": [
      "Submitted job 256 with tag libd_chr1-chr1_all-herit-20241104-150038. Status: Submitted\n",
      "\n",
      "Sleeping for 31 seconds to avoid overloading the scheduler.\n",
      "\n"
     ]
    },
    {
     "name": "stdout",
     "output_type": "stream",
     "text": [
      "\n"
     ]
    },
    {
     "name": "stderr",
     "output_type": "stream",
     "text": [
      "Submitted job 257 with tag libd_chr1-chr1_all-herit-20241104-150109. Status: Submitted\n",
      "\n",
      "Sleeping for 31 seconds to avoid overloading the scheduler.\n",
      "\n"
     ]
    },
    {
     "name": "stdout",
     "output_type": "stream",
     "text": [
      "\n"
     ]
    },
    {
     "name": "stderr",
     "output_type": "stream",
     "text": [
      "Submitted job 258 with tag libd_chr1-chr1_all-herit-20241104-150140. Status: Submitted\n",
      "\n",
      "Sleeping for 31 seconds to avoid overloading the scheduler.\n",
      "\n"
     ]
    },
    {
     "name": "stdout",
     "output_type": "stream",
     "text": [
      "\n"
     ]
    },
    {
     "name": "stderr",
     "output_type": "stream",
     "text": [
      "Submitted job 259 with tag libd_chr1-chr1_all-herit-20241104-150212. Status: Submitted\n",
      "\n",
      "Sleeping for 31 seconds to avoid overloading the scheduler.\n",
      "\n"
     ]
    },
    {
     "name": "stdout",
     "output_type": "stream",
     "text": [
      "\n"
     ]
    },
    {
     "name": "stderr",
     "output_type": "stream",
     "text": [
      "Submitted job 260 with tag libd_chr1-chr1_all-herit-20241104-150243. Status: Submitted\n",
      "\n",
      "Sleeping for 31 seconds to avoid overloading the scheduler.\n",
      "\n"
     ]
    },
    {
     "name": "stdout",
     "output_type": "stream",
     "text": [
      "\n"
     ]
    },
    {
     "name": "stderr",
     "output_type": "stream",
     "text": [
      "Submitted job 261 with tag libd_chr1-chr1_all-herit-20241104-150314. Status: Submitted\n",
      "\n",
      "Sleeping for 31 seconds to avoid overloading the scheduler.\n",
      "\n"
     ]
    },
    {
     "name": "stdout",
     "output_type": "stream",
     "text": [
      "\n"
     ]
    },
    {
     "name": "stderr",
     "output_type": "stream",
     "text": [
      "Submitted job 262 with tag libd_chr1-chr1_all-herit-20241104-150346. Status: Submitted\n",
      "\n",
      "Sleeping for 31 seconds to avoid overloading the scheduler.\n",
      "\n"
     ]
    },
    {
     "name": "stdout",
     "output_type": "stream",
     "text": [
      "\n"
     ]
    },
    {
     "name": "stderr",
     "output_type": "stream",
     "text": [
      "Submitted job 263 with tag libd_chr1-chr1_all-herit-20241104-150417. Status: Submitted\n",
      "\n",
      "Sleeping for 31 seconds to avoid overloading the scheduler.\n",
      "\n"
     ]
    },
    {
     "name": "stdout",
     "output_type": "stream",
     "text": [
      "\n"
     ]
    },
    {
     "name": "stderr",
     "output_type": "stream",
     "text": [
      "Submitted job 264 with tag libd_chr1-chr1_all-herit-20241104-150448. Status: Submitted\n",
      "\n",
      "Sleeping for 31 seconds to avoid overloading the scheduler.\n",
      "\n"
     ]
    },
    {
     "name": "stdout",
     "output_type": "stream",
     "text": [
      "\n"
     ]
    },
    {
     "name": "stderr",
     "output_type": "stream",
     "text": [
      "Submitted job 265 with tag libd_chr1-chr1_all-herit-20241104-150519. Status: Submitted\n",
      "\n",
      "Sleeping for 31 seconds to avoid overloading the scheduler.\n",
      "\n"
     ]
    },
    {
     "name": "stdout",
     "output_type": "stream",
     "text": [
      "\n"
     ]
    },
    {
     "name": "stderr",
     "output_type": "stream",
     "text": [
      "Submitted job 266 with tag libd_chr1-chr1_all-herit-20241104-150551. Status: Submitted\n",
      "\n",
      "Sleeping for 31 seconds to avoid overloading the scheduler.\n",
      "\n"
     ]
    },
    {
     "name": "stdout",
     "output_type": "stream",
     "text": [
      "\n"
     ]
    },
    {
     "name": "stderr",
     "output_type": "stream",
     "text": [
      "Submitted job 267 with tag libd_chr1-chr1_all-herit-20241104-150622. Status: Submitted\n",
      "\n",
      "Sleeping for 31 seconds to avoid overloading the scheduler.\n",
      "\n"
     ]
    },
    {
     "name": "stdout",
     "output_type": "stream",
     "text": [
      "\n"
     ]
    },
    {
     "name": "stderr",
     "output_type": "stream",
     "text": [
      "Submitted job 268 with tag libd_chr1-chr1_all-herit-20241104-150653. Status: Submitted\n",
      "\n",
      "Sleeping for 31 seconds to avoid overloading the scheduler.\n",
      "\n"
     ]
    },
    {
     "name": "stdout",
     "output_type": "stream",
     "text": [
      "\n"
     ]
    },
    {
     "name": "stderr",
     "output_type": "stream",
     "text": [
      "Submitted job 269 with tag libd_chr1-chr1_all-herit-20241104-150724. Status: Submitted\n",
      "\n",
      "Sleeping for 31 seconds to avoid overloading the scheduler.\n",
      "\n"
     ]
    },
    {
     "name": "stdout",
     "output_type": "stream",
     "text": [
      "\n"
     ]
    },
    {
     "name": "stderr",
     "output_type": "stream",
     "text": [
      "Submitted job 270 with tag libd_chr1-chr1_all-herit-20241104-150755. Status: Submitted\n",
      "\n",
      "Sleeping for 31 seconds to avoid overloading the scheduler.\n",
      "\n"
     ]
    },
    {
     "name": "stdout",
     "output_type": "stream",
     "text": [
      "\n"
     ]
    },
    {
     "name": "stderr",
     "output_type": "stream",
     "text": [
      "Submitted job 271 with tag libd_chr1-chr1_all-herit-20241104-150826. Status: Submitted\n",
      "\n",
      "Sleeping for 31 seconds to avoid overloading the scheduler.\n",
      "\n"
     ]
    },
    {
     "name": "stdout",
     "output_type": "stream",
     "text": [
      "\n"
     ]
    },
    {
     "name": "stderr",
     "output_type": "stream",
     "text": [
      "Submitted job 272 with tag libd_chr1-chr1_all-herit-20241104-150857. Status: Submitted\n",
      "\n",
      "Sleeping for 31 seconds to avoid overloading the scheduler.\n",
      "\n"
     ]
    },
    {
     "name": "stdout",
     "output_type": "stream",
     "text": [
      "\n"
     ]
    },
    {
     "name": "stderr",
     "output_type": "stream",
     "text": [
      "Submitted job 273 with tag libd_chr1-chr1_all-herit-20241104-150929. Status: Submitted\n",
      "\n",
      "Sleeping for 31 seconds to avoid overloading the scheduler.\n",
      "\n"
     ]
    },
    {
     "name": "stdout",
     "output_type": "stream",
     "text": [
      "\n"
     ]
    },
    {
     "name": "stderr",
     "output_type": "stream",
     "text": [
      "Submitted job 274 with tag libd_chr1-chr1_all-herit-20241104-151000. Status: Submitted\n",
      "\n",
      "Sleeping for 31 seconds to avoid overloading the scheduler.\n",
      "\n"
     ]
    },
    {
     "name": "stdout",
     "output_type": "stream",
     "text": [
      "\n"
     ]
    },
    {
     "name": "stderr",
     "output_type": "stream",
     "text": [
      "Submitted job 275 with tag libd_chr1-chr1_all-herit-20241104-151032. Status: Submitted\n",
      "\n",
      "Sleeping for 31 seconds to avoid overloading the scheduler.\n",
      "\n"
     ]
    },
    {
     "name": "stdout",
     "output_type": "stream",
     "text": [
      "\n"
     ]
    },
    {
     "name": "stderr",
     "output_type": "stream",
     "text": [
      "Submitted job 276 with tag libd_chr1-chr1_all-herit-20241104-151103. Status: Submitted\n",
      "\n",
      "Sleeping for 31 seconds to avoid overloading the scheduler.\n",
      "\n"
     ]
    },
    {
     "name": "stdout",
     "output_type": "stream",
     "text": [
      "\n"
     ]
    },
    {
     "name": "stderr",
     "output_type": "stream",
     "text": [
      "Submitted job 277 with tag libd_chr1-chr1_all-herit-20241104-151134. Status: Submitted\n",
      "\n",
      "Sleeping for 31 seconds to avoid overloading the scheduler.\n",
      "\n"
     ]
    },
    {
     "name": "stdout",
     "output_type": "stream",
     "text": [
      "\n"
     ]
    },
    {
     "name": "stderr",
     "output_type": "stream",
     "text": [
      "Submitted job 278 with tag libd_chr1-chr1_all-herit-20241104-151205. Status: Submitted\n",
      "\n",
      "Sleeping for 31 seconds to avoid overloading the scheduler.\n",
      "\n"
     ]
    },
    {
     "name": "stdout",
     "output_type": "stream",
     "text": [
      "\n"
     ]
    },
    {
     "name": "stderr",
     "output_type": "stream",
     "text": [
      "Submitted job 279 with tag libd_chr1-chr1_all-herit-20241104-151236. Status: Submitted\n",
      "\n",
      "Sleeping for 31 seconds to avoid overloading the scheduler.\n",
      "\n"
     ]
    },
    {
     "name": "stdout",
     "output_type": "stream",
     "text": [
      "\n"
     ]
    },
    {
     "name": "stderr",
     "output_type": "stream",
     "text": [
      "Submitted job 280 with tag libd_chr1-chr1_all-herit-20241104-151308. Status: Submitted\n",
      "\n",
      "Sleeping for 31 seconds to avoid overloading the scheduler.\n",
      "\n"
     ]
    },
    {
     "name": "stdout",
     "output_type": "stream",
     "text": [
      "\n"
     ]
    },
    {
     "name": "stderr",
     "output_type": "stream",
     "text": [
      "Submitted job 281 with tag libd_chr1-chr1_all-herit-20241104-151339. Status: Submitted\n",
      "\n",
      "Sleeping for 31 seconds to avoid overloading the scheduler.\n",
      "\n"
     ]
    },
    {
     "name": "stdout",
     "output_type": "stream",
     "text": [
      "\n"
     ]
    },
    {
     "name": "stderr",
     "output_type": "stream",
     "text": [
      "Submitted job 282 with tag libd_chr1-chr1_all-herit-20241104-151410. Status: Submitted\n",
      "\n",
      "Sleeping for 31 seconds to avoid overloading the scheduler.\n",
      "\n"
     ]
    },
    {
     "name": "stdout",
     "output_type": "stream",
     "text": [
      "\n"
     ]
    },
    {
     "name": "stderr",
     "output_type": "stream",
     "text": [
      "Submitted job 283 with tag libd_chr1-chr1_all-herit-20241104-151441. Status: Submitted\n",
      "\n",
      "Sleeping for 31 seconds to avoid overloading the scheduler.\n",
      "\n"
     ]
    },
    {
     "name": "stdout",
     "output_type": "stream",
     "text": [
      "\n"
     ]
    },
    {
     "name": "stderr",
     "output_type": "stream",
     "text": [
      "Submitted job 284 with tag libd_chr1-chr1_all-herit-20241104-151512. Status: Submitted\n",
      "\n",
      "Sleeping for 31 seconds to avoid overloading the scheduler.\n",
      "\n"
     ]
    },
    {
     "name": "stdout",
     "output_type": "stream",
     "text": [
      "\n"
     ]
    },
    {
     "name": "stderr",
     "output_type": "stream",
     "text": [
      "Submitted job 285 with tag libd_chr1-chr1_all-herit-20241104-151543. Status: Submitted\n",
      "\n",
      "Sleeping for 31 seconds to avoid overloading the scheduler.\n",
      "\n"
     ]
    },
    {
     "name": "stdout",
     "output_type": "stream",
     "text": [
      "\n"
     ]
    },
    {
     "name": "stderr",
     "output_type": "stream",
     "text": [
      "Submitted job 286 with tag libd_chr1-chr1_all-herit-20241104-151614. Status: Submitted\n",
      "\n",
      "Sleeping for 31 seconds to avoid overloading the scheduler.\n",
      "\n"
     ]
    },
    {
     "name": "stdout",
     "output_type": "stream",
     "text": [
      "\n"
     ]
    },
    {
     "name": "stderr",
     "output_type": "stream",
     "text": [
      "Submitted job 287 with tag libd_chr1-chr1_all-herit-20241104-151646. Status: Submitted\n",
      "\n",
      "Sleeping for 31 seconds to avoid overloading the scheduler.\n",
      "\n"
     ]
    },
    {
     "name": "stdout",
     "output_type": "stream",
     "text": [
      "\n"
     ]
    },
    {
     "name": "stderr",
     "output_type": "stream",
     "text": [
      "Submitted job 288 with tag libd_chr1-chr1_all-herit-20241104-151717. Status: Submitted\n",
      "\n",
      "Sleeping for 31 seconds to avoid overloading the scheduler.\n",
      "\n"
     ]
    },
    {
     "name": "stdout",
     "output_type": "stream",
     "text": [
      "\n"
     ]
    },
    {
     "name": "stderr",
     "output_type": "stream",
     "text": [
      "Submitted job 289 with tag libd_chr1-chr1_all-herit-20241104-151748. Status: Submitted\n",
      "\n",
      "Sleeping for 31 seconds to avoid overloading the scheduler.\n",
      "\n"
     ]
    },
    {
     "name": "stdout",
     "output_type": "stream",
     "text": [
      "\n"
     ]
    },
    {
     "name": "stderr",
     "output_type": "stream",
     "text": [
      "Submitted job 290 with tag libd_chr1-chr1_all-herit-20241104-151819. Status: Submitted\n",
      "\n",
      "Sleeping for 31 seconds to avoid overloading the scheduler.\n",
      "\n"
     ]
    },
    {
     "name": "stdout",
     "output_type": "stream",
     "text": [
      "\n"
     ]
    },
    {
     "name": "stderr",
     "output_type": "stream",
     "text": [
      "Submitted job 291 with tag libd_chr1-chr1_all-herit-20241104-151851. Status: Submitted\n",
      "\n",
      "Sleeping for 31 seconds to avoid overloading the scheduler.\n",
      "\n"
     ]
    },
    {
     "name": "stdout",
     "output_type": "stream",
     "text": [
      "\n"
     ]
    },
    {
     "name": "stderr",
     "output_type": "stream",
     "text": [
      "Submitted job 292 with tag libd_chr1-chr1_all-herit-20241104-151922. Status: Submitted\n",
      "\n",
      "Sleeping for 31 seconds to avoid overloading the scheduler.\n",
      "\n"
     ]
    },
    {
     "name": "stdout",
     "output_type": "stream",
     "text": [
      "\n"
     ]
    },
    {
     "name": "stderr",
     "output_type": "stream",
     "text": [
      "Submitted job 293 with tag libd_chr1-chr1_all-herit-20241104-151953. Status: Submitted\n",
      "\n",
      "Sleeping for 31 seconds to avoid overloading the scheduler.\n",
      "\n"
     ]
    },
    {
     "name": "stdout",
     "output_type": "stream",
     "text": [
      "\n"
     ]
    },
    {
     "name": "stderr",
     "output_type": "stream",
     "text": [
      "Submitted job 294 with tag libd_chr1-chr1_all-herit-20241104-152024. Status: Submitted\n",
      "\n",
      "Sleeping for 31 seconds to avoid overloading the scheduler.\n",
      "\n"
     ]
    },
    {
     "name": "stdout",
     "output_type": "stream",
     "text": [
      "\n"
     ]
    },
    {
     "name": "stderr",
     "output_type": "stream",
     "text": [
      "Submitted job 295 with tag libd_chr1-chr1_all-herit-20241104-152055. Status: Submitted\n",
      "\n",
      "Sleeping for 31 seconds to avoid overloading the scheduler.\n",
      "\n"
     ]
    },
    {
     "name": "stdout",
     "output_type": "stream",
     "text": [
      "\n"
     ]
    },
    {
     "name": "stderr",
     "output_type": "stream",
     "text": [
      "Submitted job 296 with tag libd_chr1-chr1_all-herit-20241104-152126. Status: Submitted\n",
      "\n",
      "Sleeping for 31 seconds to avoid overloading the scheduler.\n",
      "\n"
     ]
    },
    {
     "name": "stdout",
     "output_type": "stream",
     "text": [
      "\n"
     ]
    },
    {
     "name": "stderr",
     "output_type": "stream",
     "text": [
      "Submitted job 297 with tag libd_chr1-chr1_all-herit-20241104-152158. Status: Submitted\n",
      "\n",
      "Sleeping for 31 seconds to avoid overloading the scheduler.\n",
      "\n"
     ]
    },
    {
     "name": "stdout",
     "output_type": "stream",
     "text": [
      "\n"
     ]
    },
    {
     "name": "stderr",
     "output_type": "stream",
     "text": [
      "Submitted job 298 with tag libd_chr1-chr1_all-herit-20241104-152229. Status: Submitted\n",
      "\n",
      "Sleeping for 31 seconds to avoid overloading the scheduler.\n",
      "\n"
     ]
    },
    {
     "name": "stdout",
     "output_type": "stream",
     "text": [
      "\n"
     ]
    },
    {
     "name": "stderr",
     "output_type": "stream",
     "text": [
      "Submitted job 299 with tag libd_chr1-chr1_all-herit-20241104-152300. Status: Submitted\n",
      "\n",
      "Sleeping for 31 seconds to avoid overloading the scheduler.\n",
      "\n"
     ]
    },
    {
     "name": "stdout",
     "output_type": "stream",
     "text": [
      "\n"
     ]
    },
    {
     "name": "stderr",
     "output_type": "stream",
     "text": [
      "Submitted job 300 with tag libd_chr1-chr1_all-herit-20241104-152331. Status: Submitted\n",
      "\n",
      "Sleeping for 31 seconds to avoid overloading the scheduler.\n",
      "\n"
     ]
    },
    {
     "name": "stdout",
     "output_type": "stream",
     "text": [
      "\n"
     ]
    },
    {
     "name": "stderr",
     "output_type": "stream",
     "text": [
      "Submitted job 301 with tag libd_chr1-chr1_all-herit-20241104-152403. Status: Submitted\n",
      "\n",
      "Sleeping for 31 seconds to avoid overloading the scheduler.\n",
      "\n"
     ]
    },
    {
     "name": "stdout",
     "output_type": "stream",
     "text": [
      "\n"
     ]
    },
    {
     "name": "stderr",
     "output_type": "stream",
     "text": [
      "Submitted job 302 with tag libd_chr1-chr1_all-herit-20241104-152434. Status: Submitted\n",
      "\n",
      "Sleeping for 31 seconds to avoid overloading the scheduler.\n",
      "\n"
     ]
    },
    {
     "name": "stdout",
     "output_type": "stream",
     "text": [
      "\n"
     ]
    },
    {
     "name": "stderr",
     "output_type": "stream",
     "text": [
      "Submitted job 303 with tag libd_chr1-chr1_all-herit-20241104-152505. Status: Submitted\n",
      "\n",
      "Sleeping for 31 seconds to avoid overloading the scheduler.\n",
      "\n"
     ]
    },
    {
     "name": "stdout",
     "output_type": "stream",
     "text": [
      "\n"
     ]
    },
    {
     "name": "stderr",
     "output_type": "stream",
     "text": [
      "Submitted job 304 with tag libd_chr1-chr1_all-herit-20241104-152537. Status: Submitted\n",
      "\n",
      "Sleeping for 31 seconds to avoid overloading the scheduler.\n",
      "\n"
     ]
    },
    {
     "name": "stdout",
     "output_type": "stream",
     "text": [
      "\n"
     ]
    },
    {
     "name": "stderr",
     "output_type": "stream",
     "text": [
      "Submitted job 305 with tag libd_chr1-chr1_all-herit-20241104-152608. Status: Submitted\n",
      "\n",
      "Sleeping for 31 seconds to avoid overloading the scheduler.\n",
      "\n"
     ]
    },
    {
     "name": "stdout",
     "output_type": "stream",
     "text": [
      "\n"
     ]
    },
    {
     "name": "stderr",
     "output_type": "stream",
     "text": [
      "Submitted job 306 with tag libd_chr1-chr1_all-herit-20241104-152639. Status: Submitted\n",
      "\n",
      "Sleeping for 31 seconds to avoid overloading the scheduler.\n",
      "\n"
     ]
    },
    {
     "name": "stdout",
     "output_type": "stream",
     "text": [
      "\n"
     ]
    },
    {
     "name": "stderr",
     "output_type": "stream",
     "text": [
      "Submitted job 307 with tag libd_chr1-chr1_all-herit-20241104-152710. Status: Submitted\n",
      "\n",
      "Sleeping for 31 seconds to avoid overloading the scheduler.\n",
      "\n"
     ]
    },
    {
     "name": "stdout",
     "output_type": "stream",
     "text": [
      "\n"
     ]
    },
    {
     "name": "stderr",
     "output_type": "stream",
     "text": [
      "Submitted job 308 with tag libd_chr1-chr1_all-herit-20241104-152741. Status: Submitted\n",
      "\n",
      "Sleeping for 31 seconds to avoid overloading the scheduler.\n",
      "\n"
     ]
    },
    {
     "name": "stdout",
     "output_type": "stream",
     "text": [
      "\n"
     ]
    },
    {
     "name": "stderr",
     "output_type": "stream",
     "text": [
      "Submitted job 309 with tag libd_chr1-chr1_all-herit-20241104-152813. Status: Submitted\n",
      "\n",
      "Sleeping for 31 seconds to avoid overloading the scheduler.\n",
      "\n"
     ]
    },
    {
     "name": "stdout",
     "output_type": "stream",
     "text": [
      "\n"
     ]
    },
    {
     "name": "stderr",
     "output_type": "stream",
     "text": [
      "Submitted job 310 with tag libd_chr1-chr1_all-herit-20241104-152844. Status: Submitted\n",
      "\n",
      "Sleeping for 31 seconds to avoid overloading the scheduler.\n",
      "\n"
     ]
    },
    {
     "name": "stdout",
     "output_type": "stream",
     "text": [
      "\n"
     ]
    },
    {
     "name": "stderr",
     "output_type": "stream",
     "text": [
      "Submitted job 311 with tag libd_chr1-chr1_all-herit-20241104-152915. Status: Submitted\n",
      "\n",
      "Sleeping for 31 seconds to avoid overloading the scheduler.\n",
      "\n"
     ]
    },
    {
     "name": "stdout",
     "output_type": "stream",
     "text": [
      "\n"
     ]
    },
    {
     "name": "stderr",
     "output_type": "stream",
     "text": [
      "Submitted job 312 with tag libd_chr1-chr1_all-herit-20241104-152946. Status: Submitted\n",
      "\n",
      "Sleeping for 31 seconds to avoid overloading the scheduler.\n",
      "\n"
     ]
    },
    {
     "name": "stdout",
     "output_type": "stream",
     "text": [
      "\n"
     ]
    },
    {
     "name": "stderr",
     "output_type": "stream",
     "text": [
      "Submitted job 313 with tag libd_chr1-chr1_all-herit-20241104-153017. Status: Submitted\n",
      "\n",
      "Sleeping for 31 seconds to avoid overloading the scheduler.\n",
      "\n"
     ]
    },
    {
     "name": "stdout",
     "output_type": "stream",
     "text": [
      "\n"
     ]
    },
    {
     "name": "stderr",
     "output_type": "stream",
     "text": [
      "Submitted job 314 with tag libd_chr1-chr1_all-herit-20241104-153049. Status: Submitted\n",
      "\n",
      "Sleeping for 31 seconds to avoid overloading the scheduler.\n",
      "\n"
     ]
    },
    {
     "name": "stdout",
     "output_type": "stream",
     "text": [
      "\n"
     ]
    },
    {
     "name": "stderr",
     "output_type": "stream",
     "text": [
      "Submitted job 315 with tag libd_chr1-chr1_all-herit-20241104-153120. Status: Submitted\n",
      "\n",
      "Sleeping for 31 seconds to avoid overloading the scheduler.\n",
      "\n"
     ]
    },
    {
     "name": "stdout",
     "output_type": "stream",
     "text": [
      "\n"
     ]
    },
    {
     "name": "stderr",
     "output_type": "stream",
     "text": [
      "Submitted job 316 with tag libd_chr1-chr1_all-herit-20241104-153151. Status: Submitted\n",
      "\n",
      "Sleeping for 31 seconds to avoid overloading the scheduler.\n",
      "\n"
     ]
    },
    {
     "name": "stdout",
     "output_type": "stream",
     "text": [
      "\n"
     ]
    },
    {
     "name": "stderr",
     "output_type": "stream",
     "text": [
      "Submitted job 317 with tag libd_chr1-chr1_all-herit-20241104-153223. Status: Submitted\n",
      "\n",
      "Sleeping for 31 seconds to avoid overloading the scheduler.\n",
      "\n"
     ]
    },
    {
     "name": "stdout",
     "output_type": "stream",
     "text": [
      "\n"
     ]
    },
    {
     "name": "stderr",
     "output_type": "stream",
     "text": [
      "Submitted job 318 with tag libd_chr1-chr1_all-herit-20241104-153254. Status: Submitted\n",
      "\n",
      "Sleeping for 31 seconds to avoid overloading the scheduler.\n",
      "\n"
     ]
    },
    {
     "name": "stdout",
     "output_type": "stream",
     "text": [
      "\n"
     ]
    },
    {
     "name": "stderr",
     "output_type": "stream",
     "text": [
      "Submitted job 319 with tag libd_chr1-chr1_all-herit-20241104-153325. Status: Submitted\n",
      "\n",
      "Sleeping for 31 seconds to avoid overloading the scheduler.\n",
      "\n"
     ]
    },
    {
     "name": "stdout",
     "output_type": "stream",
     "text": [
      "\n"
     ]
    },
    {
     "name": "stderr",
     "output_type": "stream",
     "text": [
      "Submitted job 320 with tag libd_chr1-chr1_all-herit-20241104-153356. Status: Submitted\n",
      "\n",
      "Sleeping for 31 seconds to avoid overloading the scheduler.\n",
      "\n"
     ]
    },
    {
     "name": "stdout",
     "output_type": "stream",
     "text": [
      "\n"
     ]
    },
    {
     "name": "stderr",
     "output_type": "stream",
     "text": [
      "Submitted job 321 with tag libd_chr1-chr1_all-herit-20241104-153428. Status: Submitted\n",
      "\n",
      "Sleeping for 31 seconds to avoid overloading the scheduler.\n",
      "\n"
     ]
    },
    {
     "name": "stdout",
     "output_type": "stream",
     "text": [
      "\n"
     ]
    },
    {
     "name": "stderr",
     "output_type": "stream",
     "text": [
      "Submitted job 322 with tag libd_chr1-chr1_all-herit-20241104-153459. Status: Submitted\n",
      "\n",
      "Sleeping for 31 seconds to avoid overloading the scheduler.\n",
      "\n"
     ]
    },
    {
     "name": "stdout",
     "output_type": "stream",
     "text": [
      "\n"
     ]
    },
    {
     "name": "stderr",
     "output_type": "stream",
     "text": [
      "Submitted job 323 with tag libd_chr1-chr1_all-herit-20241104-153530. Status: Submitted\n",
      "\n",
      "Sleeping for 31 seconds to avoid overloading the scheduler.\n",
      "\n"
     ]
    },
    {
     "name": "stdout",
     "output_type": "stream",
     "text": [
      "\n"
     ]
    },
    {
     "name": "stderr",
     "output_type": "stream",
     "text": [
      "Submitted job 324 with tag libd_chr1-chr1_all-herit-20241104-153601. Status: Submitted\n",
      "\n",
      "Sleeping for 31 seconds to avoid overloading the scheduler.\n",
      "\n"
     ]
    },
    {
     "name": "stdout",
     "output_type": "stream",
     "text": [
      "\n"
     ]
    },
    {
     "name": "stderr",
     "output_type": "stream",
     "text": [
      "Submitted job 325 with tag libd_chr1-chr1_all-herit-20241104-153632. Status: Submitted\n",
      "\n",
      "Sleeping for 31 seconds to avoid overloading the scheduler.\n",
      "\n"
     ]
    },
    {
     "name": "stdout",
     "output_type": "stream",
     "text": [
      "\n"
     ]
    },
    {
     "name": "stderr",
     "output_type": "stream",
     "text": [
      "Submitted job 326 with tag libd_chr1-chr1_all-herit-20241104-153704. Status: Submitted\n",
      "\n",
      "Sleeping for 31 seconds to avoid overloading the scheduler.\n",
      "\n"
     ]
    },
    {
     "name": "stdout",
     "output_type": "stream",
     "text": [
      "\n"
     ]
    },
    {
     "name": "stderr",
     "output_type": "stream",
     "text": [
      "Submitted job 327 with tag libd_chr1-chr1_all-herit-20241104-153735. Status: Submitted\n",
      "\n",
      "Sleeping for 31 seconds to avoid overloading the scheduler.\n",
      "\n"
     ]
    },
    {
     "name": "stdout",
     "output_type": "stream",
     "text": [
      "\n"
     ]
    },
    {
     "name": "stderr",
     "output_type": "stream",
     "text": [
      "Submitted job 328 with tag libd_chr1-chr1_all-herit-20241104-153806. Status: Submitted\n",
      "\n",
      "Sleeping for 31 seconds to avoid overloading the scheduler.\n",
      "\n"
     ]
    },
    {
     "name": "stdout",
     "output_type": "stream",
     "text": [
      "\n"
     ]
    },
    {
     "name": "stderr",
     "output_type": "stream",
     "text": [
      "Submitted job 329 with tag libd_chr1-chr1_all-herit-20241104-153838. Status: Submitted\n",
      "\n",
      "Sleeping for 31 seconds to avoid overloading the scheduler.\n",
      "\n"
     ]
    },
    {
     "name": "stdout",
     "output_type": "stream",
     "text": [
      "\n"
     ]
    },
    {
     "name": "stderr",
     "output_type": "stream",
     "text": [
      "Submitted job 330 with tag libd_chr1-chr1_all-herit-20241104-153910. Status: Submitted\n",
      "\n",
      "Sleeping for 31 seconds to avoid overloading the scheduler.\n",
      "\n"
     ]
    },
    {
     "name": "stdout",
     "output_type": "stream",
     "text": [
      "\n"
     ]
    },
    {
     "name": "stderr",
     "output_type": "stream",
     "text": [
      "Submitted job 331 with tag libd_chr10-chr10_all-herit-20241104-153941. Status: Submitted\n",
      "\n",
      "Sleeping for 31 seconds to avoid overloading the scheduler.\n",
      "\n"
     ]
    },
    {
     "name": "stdout",
     "output_type": "stream",
     "text": [
      "\n"
     ]
    },
    {
     "name": "stderr",
     "output_type": "stream",
     "text": [
      "Submitted job 332 with tag libd_chr10-chr10_all-herit-20241104-154012. Status: Submitted\n",
      "\n",
      "Sleeping for 31 seconds to avoid overloading the scheduler.\n",
      "\n"
     ]
    },
    {
     "name": "stdout",
     "output_type": "stream",
     "text": [
      "\n"
     ]
    },
    {
     "name": "stderr",
     "output_type": "stream",
     "text": [
      "Submitted job 333 with tag libd_chr10-chr10_all-herit-20241104-154043. Status: Submitted\n",
      "\n",
      "Sleeping for 31 seconds to avoid overloading the scheduler.\n",
      "\n"
     ]
    },
    {
     "name": "stdout",
     "output_type": "stream",
     "text": [
      "\n"
     ]
    },
    {
     "name": "stderr",
     "output_type": "stream",
     "text": [
      "Submitted job 334 with tag libd_chr10-chr10_all-herit-20241104-154115. Status: Submitted\n",
      "\n",
      "Sleeping for 31 seconds to avoid overloading the scheduler.\n",
      "\n"
     ]
    },
    {
     "name": "stdout",
     "output_type": "stream",
     "text": [
      "\n"
     ]
    },
    {
     "name": "stderr",
     "output_type": "stream",
     "text": [
      "Submitted job 335 with tag libd_chr10-chr10_all-herit-20241104-154146. Status: Submitted\n",
      "\n",
      "Sleeping for 31 seconds to avoid overloading the scheduler.\n",
      "\n"
     ]
    },
    {
     "name": "stdout",
     "output_type": "stream",
     "text": [
      "\n"
     ]
    },
    {
     "name": "stderr",
     "output_type": "stream",
     "text": [
      "Submitted job 336 with tag libd_chr10-chr10_all-herit-20241104-154217. Status: Submitted\n",
      "\n",
      "Sleeping for 31 seconds to avoid overloading the scheduler.\n",
      "\n"
     ]
    },
    {
     "name": "stdout",
     "output_type": "stream",
     "text": [
      "\n"
     ]
    },
    {
     "name": "stderr",
     "output_type": "stream",
     "text": [
      "Submitted job 337 with tag libd_chr10-chr10_all-herit-20241104-154248. Status: Submitted\n",
      "\n",
      "Sleeping for 31 seconds to avoid overloading the scheduler.\n",
      "\n"
     ]
    },
    {
     "name": "stdout",
     "output_type": "stream",
     "text": [
      "\n"
     ]
    },
    {
     "name": "stderr",
     "output_type": "stream",
     "text": [
      "Submitted job 338 with tag libd_chr10-chr10_all-herit-20241104-154319. Status: Submitted\n",
      "\n",
      "Sleeping for 31 seconds to avoid overloading the scheduler.\n",
      "\n"
     ]
    },
    {
     "name": "stdout",
     "output_type": "stream",
     "text": [
      "\n"
     ]
    },
    {
     "name": "stderr",
     "output_type": "stream",
     "text": [
      "Submitted job 339 with tag libd_chr10-chr10_all-herit-20241104-154351. Status: Submitted\n",
      "\n",
      "Sleeping for 31 seconds to avoid overloading the scheduler.\n",
      "\n"
     ]
    },
    {
     "name": "stdout",
     "output_type": "stream",
     "text": [
      "\n"
     ]
    },
    {
     "name": "stderr",
     "output_type": "stream",
     "text": [
      "Submitted job 340 with tag libd_chr10-chr10_all-herit-20241104-154422. Status: Submitted\n",
      "\n",
      "Sleeping for 31 seconds to avoid overloading the scheduler.\n",
      "\n"
     ]
    },
    {
     "name": "stdout",
     "output_type": "stream",
     "text": [
      "\n"
     ]
    },
    {
     "name": "stderr",
     "output_type": "stream",
     "text": [
      "Submitted job 341 with tag libd_chr10-chr10_all-herit-20241104-154453. Status: Submitted\n",
      "\n",
      "Sleeping for 31 seconds to avoid overloading the scheduler.\n",
      "\n"
     ]
    },
    {
     "name": "stdout",
     "output_type": "stream",
     "text": [
      "\n"
     ]
    },
    {
     "name": "stderr",
     "output_type": "stream",
     "text": [
      "Submitted job 342 with tag libd_chr10-chr10_all-herit-20241104-154524. Status: Submitted\n",
      "\n",
      "Sleeping for 31 seconds to avoid overloading the scheduler.\n",
      "\n"
     ]
    },
    {
     "name": "stdout",
     "output_type": "stream",
     "text": [
      "\n"
     ]
    },
    {
     "name": "stderr",
     "output_type": "stream",
     "text": [
      "Submitted job 343 with tag libd_chr10-chr10_all-herit-20241104-154556. Status: Submitted\n",
      "\n",
      "Sleeping for 31 seconds to avoid overloading the scheduler.\n",
      "\n"
     ]
    },
    {
     "name": "stdout",
     "output_type": "stream",
     "text": [
      "\n"
     ]
    },
    {
     "name": "stderr",
     "output_type": "stream",
     "text": [
      "Submitted job 344 with tag libd_chr10-chr10_all-herit-20241104-154627. Status: Submitted\n",
      "\n",
      "Sleeping for 31 seconds to avoid overloading the scheduler.\n",
      "\n"
     ]
    },
    {
     "name": "stdout",
     "output_type": "stream",
     "text": [
      "\n"
     ]
    },
    {
     "name": "stderr",
     "output_type": "stream",
     "text": [
      "Submitted job 345 with tag libd_chr10-chr10_all-herit-20241104-154658. Status: Submitted\n",
      "\n",
      "Sleeping for 31 seconds to avoid overloading the scheduler.\n",
      "\n"
     ]
    },
    {
     "name": "stdout",
     "output_type": "stream",
     "text": [
      "\n"
     ]
    },
    {
     "name": "stderr",
     "output_type": "stream",
     "text": [
      "Submitted job 346 with tag libd_chr10-chr10_all-herit-20241104-154729. Status: Submitted\n",
      "\n",
      "Sleeping for 31 seconds to avoid overloading the scheduler.\n",
      "\n"
     ]
    },
    {
     "name": "stdout",
     "output_type": "stream",
     "text": [
      "\n"
     ]
    },
    {
     "name": "stderr",
     "output_type": "stream",
     "text": [
      "Submitted job 347 with tag libd_chr10-chr10_all-herit-20241104-154800. Status: Submitted\n",
      "\n",
      "Sleeping for 31 seconds to avoid overloading the scheduler.\n",
      "\n"
     ]
    },
    {
     "name": "stdout",
     "output_type": "stream",
     "text": [
      "\n"
     ]
    },
    {
     "name": "stderr",
     "output_type": "stream",
     "text": [
      "Submitted job 348 with tag libd_chr10-chr10_all-herit-20241104-154831. Status: Submitted\n",
      "\n",
      "Sleeping for 31 seconds to avoid overloading the scheduler.\n",
      "\n"
     ]
    },
    {
     "name": "stdout",
     "output_type": "stream",
     "text": [
      "\n"
     ]
    },
    {
     "name": "stderr",
     "output_type": "stream",
     "text": [
      "Submitted job 349 with tag libd_chr10-chr10_all-herit-20241104-154902. Status: Submitted\n",
      "\n",
      "Sleeping for 31 seconds to avoid overloading the scheduler.\n",
      "\n"
     ]
    },
    {
     "name": "stdout",
     "output_type": "stream",
     "text": [
      "\n"
     ]
    },
    {
     "name": "stderr",
     "output_type": "stream",
     "text": [
      "Submitted job 350 with tag libd_chr10-chr10_all-herit-20241104-154933. Status: Submitted\n",
      "\n",
      "Sleeping for 31 seconds to avoid overloading the scheduler.\n",
      "\n"
     ]
    },
    {
     "name": "stdout",
     "output_type": "stream",
     "text": [
      "\n"
     ]
    },
    {
     "name": "stderr",
     "output_type": "stream",
     "text": [
      "Submitted job 351 with tag libd_chr10-chr10_all-herit-20241104-155005. Status: Submitted\n",
      "\n",
      "Sleeping for 31 seconds to avoid overloading the scheduler.\n",
      "\n"
     ]
    },
    {
     "name": "stdout",
     "output_type": "stream",
     "text": [
      "\n"
     ]
    },
    {
     "name": "stderr",
     "output_type": "stream",
     "text": [
      "Submitted job 352 with tag libd_chr10-chr10_all-herit-20241104-155036. Status: Submitted\n",
      "\n",
      "Sleeping for 31 seconds to avoid overloading the scheduler.\n",
      "\n"
     ]
    },
    {
     "name": "stdout",
     "output_type": "stream",
     "text": [
      "\n"
     ]
    },
    {
     "name": "stderr",
     "output_type": "stream",
     "text": [
      "Submitted job 353 with tag libd_chr10-chr10_all-herit-20241104-155107. Status: Submitted\n",
      "\n",
      "Sleeping for 31 seconds to avoid overloading the scheduler.\n",
      "\n"
     ]
    },
    {
     "name": "stdout",
     "output_type": "stream",
     "text": [
      "\n"
     ]
    },
    {
     "name": "stderr",
     "output_type": "stream",
     "text": [
      "Submitted job 354 with tag libd_chr10-chr10_all-herit-20241104-155138. Status: Submitted\n",
      "\n",
      "Sleeping for 31 seconds to avoid overloading the scheduler.\n",
      "\n"
     ]
    },
    {
     "name": "stdout",
     "output_type": "stream",
     "text": [
      "\n"
     ]
    },
    {
     "name": "stderr",
     "output_type": "stream",
     "text": [
      "Submitted job 355 with tag libd_chr10-chr10_all-herit-20241104-155209. Status: Submitted\n",
      "\n",
      "Sleeping for 31 seconds to avoid overloading the scheduler.\n",
      "\n"
     ]
    },
    {
     "name": "stdout",
     "output_type": "stream",
     "text": [
      "\n"
     ]
    },
    {
     "name": "stderr",
     "output_type": "stream",
     "text": [
      "Submitted job 356 with tag libd_chr10-chr10_all-herit-20241104-155240. Status: Submitted\n",
      "\n",
      "Sleeping for 31 seconds to avoid overloading the scheduler.\n",
      "\n"
     ]
    },
    {
     "name": "stdout",
     "output_type": "stream",
     "text": [
      "\n"
     ]
    },
    {
     "name": "stderr",
     "output_type": "stream",
     "text": [
      "Submitted job 357 with tag libd_chr10-chr10_all-herit-20241104-155312. Status: Submitted\n",
      "\n",
      "Sleeping for 31 seconds to avoid overloading the scheduler.\n",
      "\n"
     ]
    },
    {
     "name": "stdout",
     "output_type": "stream",
     "text": [
      "\n"
     ]
    },
    {
     "name": "stderr",
     "output_type": "stream",
     "text": [
      "Submitted job 358 with tag libd_chr10-chr10_all-herit-20241104-155343. Status: Submitted\n",
      "\n",
      "Sleeping for 31 seconds to avoid overloading the scheduler.\n",
      "\n"
     ]
    },
    {
     "name": "stdout",
     "output_type": "stream",
     "text": [
      "\n"
     ]
    },
    {
     "name": "stderr",
     "output_type": "stream",
     "text": [
      "Submitted job 359 with tag libd_chr10-chr10_all-herit-20241104-155414. Status: Submitted\n",
      "\n",
      "Sleeping for 31 seconds to avoid overloading the scheduler.\n",
      "\n"
     ]
    },
    {
     "name": "stdout",
     "output_type": "stream",
     "text": [
      "\n"
     ]
    },
    {
     "name": "stderr",
     "output_type": "stream",
     "text": [
      "Submitted job 360 with tag libd_chr10-chr10_all-herit-20241104-155445. Status: Submitted\n",
      "\n",
      "Sleeping for 31 seconds to avoid overloading the scheduler.\n",
      "\n"
     ]
    },
    {
     "name": "stdout",
     "output_type": "stream",
     "text": [
      "\n"
     ]
    },
    {
     "name": "stderr",
     "output_type": "stream",
     "text": [
      "Submitted job 361 with tag libd_chr10-chr10_all-herit-20241104-155517. Status: Submitted\n",
      "\n",
      "Sleeping for 31 seconds to avoid overloading the scheduler.\n",
      "\n"
     ]
    },
    {
     "name": "stdout",
     "output_type": "stream",
     "text": [
      "\n"
     ]
    },
    {
     "name": "stderr",
     "output_type": "stream",
     "text": [
      "Submitted job 362 with tag libd_chr10-chr10_all-herit-20241104-155548. Status: Submitted\n",
      "\n",
      "Sleeping for 31 seconds to avoid overloading the scheduler.\n",
      "\n"
     ]
    },
    {
     "name": "stdout",
     "output_type": "stream",
     "text": [
      "\n"
     ]
    },
    {
     "name": "stderr",
     "output_type": "stream",
     "text": [
      "Submitted job 363 with tag libd_chr10-chr10_all-herit-20241104-155619. Status: Submitted\n",
      "\n",
      "Sleeping for 31 seconds to avoid overloading the scheduler.\n",
      "\n"
     ]
    },
    {
     "name": "stdout",
     "output_type": "stream",
     "text": [
      "\n"
     ]
    },
    {
     "name": "stderr",
     "output_type": "stream",
     "text": [
      "Submitted job 364 with tag libd_chr10-chr10_all-herit-20241104-155650. Status: Submitted\n",
      "\n",
      "Sleeping for 31 seconds to avoid overloading the scheduler.\n",
      "\n"
     ]
    },
    {
     "name": "stdout",
     "output_type": "stream",
     "text": [
      "\n"
     ]
    },
    {
     "name": "stderr",
     "output_type": "stream",
     "text": [
      "Submitted job 365 with tag libd_chr10-chr10_all-herit-20241104-155721. Status: Submitted\n",
      "\n",
      "Sleeping for 31 seconds to avoid overloading the scheduler.\n",
      "\n"
     ]
    },
    {
     "name": "stdout",
     "output_type": "stream",
     "text": [
      "\n"
     ]
    },
    {
     "name": "stderr",
     "output_type": "stream",
     "text": [
      "Submitted job 366 with tag libd_chr10-chr10_all-herit-20241104-155753. Status: Submitted\n",
      "\n",
      "Sleeping for 31 seconds to avoid overloading the scheduler.\n",
      "\n"
     ]
    },
    {
     "name": "stdout",
     "output_type": "stream",
     "text": [
      "\n"
     ]
    },
    {
     "name": "stderr",
     "output_type": "stream",
     "text": [
      "Submitted job 367 with tag libd_chr10-chr10_all-herit-20241104-155824. Status: Submitted\n",
      "\n",
      "Sleeping for 31 seconds to avoid overloading the scheduler.\n",
      "\n"
     ]
    },
    {
     "name": "stdout",
     "output_type": "stream",
     "text": [
      "\n"
     ]
    },
    {
     "name": "stderr",
     "output_type": "stream",
     "text": [
      "Submitted job 368 with tag libd_chr10-chr10_all-herit-20241104-155856. Status: Submitted\n",
      "\n",
      "Sleeping for 31 seconds to avoid overloading the scheduler.\n",
      "\n"
     ]
    },
    {
     "name": "stdout",
     "output_type": "stream",
     "text": [
      "\n"
     ]
    },
    {
     "name": "stderr",
     "output_type": "stream",
     "text": [
      "Submitted job 369 with tag libd_chr10-chr10_all-herit-20241104-155927. Status: Submitted\n",
      "\n",
      "Sleeping for 31 seconds to avoid overloading the scheduler.\n",
      "\n"
     ]
    },
    {
     "name": "stdout",
     "output_type": "stream",
     "text": [
      "\n"
     ]
    },
    {
     "name": "stderr",
     "output_type": "stream",
     "text": [
      "Submitted job 370 with tag libd_chr10-chr10_all-herit-20241104-155958. Status: Submitted\n",
      "\n",
      "Sleeping for 31 seconds to avoid overloading the scheduler.\n",
      "\n"
     ]
    },
    {
     "name": "stdout",
     "output_type": "stream",
     "text": [
      "\n"
     ]
    },
    {
     "name": "stderr",
     "output_type": "stream",
     "text": [
      "Submitted job 371 with tag libd_chr10-chr10_all-herit-20241104-160029. Status: Submitted\n",
      "\n",
      "Sleeping for 31 seconds to avoid overloading the scheduler.\n",
      "\n"
     ]
    },
    {
     "name": "stdout",
     "output_type": "stream",
     "text": [
      "\n"
     ]
    },
    {
     "name": "stderr",
     "output_type": "stream",
     "text": [
      "Submitted job 372 with tag libd_chr10-chr10_all-herit-20241104-160100. Status: Submitted\n",
      "\n",
      "Sleeping for 31 seconds to avoid overloading the scheduler.\n",
      "\n"
     ]
    },
    {
     "name": "stdout",
     "output_type": "stream",
     "text": [
      "\n"
     ]
    },
    {
     "name": "stderr",
     "output_type": "stream",
     "text": [
      "Submitted job 373 with tag libd_chr10-chr10_all-herit-20241104-160131. Status: Submitted\n",
      "\n",
      "Sleeping for 31 seconds to avoid overloading the scheduler.\n",
      "\n"
     ]
    },
    {
     "name": "stdout",
     "output_type": "stream",
     "text": [
      "\n"
     ]
    },
    {
     "name": "stderr",
     "output_type": "stream",
     "text": [
      "Submitted job 374 with tag libd_chr10-chr10_all-herit-20241104-160203. Status: Submitted\n",
      "\n",
      "Sleeping for 31 seconds to avoid overloading the scheduler.\n",
      "\n"
     ]
    },
    {
     "name": "stdout",
     "output_type": "stream",
     "text": [
      "\n"
     ]
    },
    {
     "name": "stderr",
     "output_type": "stream",
     "text": [
      "Submitted job 375 with tag libd_chr10-chr10_all-herit-20241104-160234. Status: Submitted\n",
      "\n",
      "Sleeping for 31 seconds to avoid overloading the scheduler.\n",
      "\n"
     ]
    },
    {
     "name": "stdout",
     "output_type": "stream",
     "text": [
      "\n"
     ]
    },
    {
     "name": "stderr",
     "output_type": "stream",
     "text": [
      "Submitted job 376 with tag libd_chr10-chr10_all-herit-20241104-160305. Status: Submitted\n",
      "\n",
      "Sleeping for 31 seconds to avoid overloading the scheduler.\n",
      "\n"
     ]
    },
    {
     "name": "stdout",
     "output_type": "stream",
     "text": [
      "\n"
     ]
    },
    {
     "name": "stderr",
     "output_type": "stream",
     "text": [
      "Submitted job 377 with tag libd_chr10-chr10_all-herit-20241104-160336. Status: Submitted\n",
      "\n",
      "Sleeping for 31 seconds to avoid overloading the scheduler.\n",
      "\n"
     ]
    },
    {
     "name": "stdout",
     "output_type": "stream",
     "text": [
      "\n"
     ]
    },
    {
     "name": "stderr",
     "output_type": "stream",
     "text": [
      "Submitted job 378 with tag libd_chr10-chr10_all-herit-20241104-160407. Status: Submitted\n",
      "\n",
      "Sleeping for 31 seconds to avoid overloading the scheduler.\n",
      "\n"
     ]
    },
    {
     "name": "stdout",
     "output_type": "stream",
     "text": [
      "\n"
     ]
    },
    {
     "name": "stderr",
     "output_type": "stream",
     "text": [
      "Submitted job 379 with tag libd_chr10-chr10_all-herit-20241104-160438. Status: Submitted\n",
      "\n",
      "Sleeping for 31 seconds to avoid overloading the scheduler.\n",
      "\n"
     ]
    },
    {
     "name": "stdout",
     "output_type": "stream",
     "text": [
      "\n"
     ]
    },
    {
     "name": "stderr",
     "output_type": "stream",
     "text": [
      "Submitted job 380 with tag libd_chr10-chr10_all-herit-20241104-160509. Status: Submitted\n",
      "\n",
      "Sleeping for 31 seconds to avoid overloading the scheduler.\n",
      "\n"
     ]
    },
    {
     "name": "stdout",
     "output_type": "stream",
     "text": [
      "\n"
     ]
    },
    {
     "name": "stderr",
     "output_type": "stream",
     "text": [
      "Submitted job 381 with tag libd_chr10-chr10_all-herit-20241104-160540. Status: Submitted\n",
      "\n",
      "Sleeping for 31 seconds to avoid overloading the scheduler.\n",
      "\n"
     ]
    },
    {
     "name": "stdout",
     "output_type": "stream",
     "text": [
      "\n"
     ]
    },
    {
     "name": "stderr",
     "output_type": "stream",
     "text": [
      "Submitted job 382 with tag libd_chr10-chr10_all-herit-20241104-160612. Status: Submitted\n",
      "\n",
      "Sleeping for 31 seconds to avoid overloading the scheduler.\n",
      "\n"
     ]
    },
    {
     "name": "stdout",
     "output_type": "stream",
     "text": [
      "\n"
     ]
    },
    {
     "name": "stderr",
     "output_type": "stream",
     "text": [
      "Submitted job 383 with tag libd_chr10-chr10_all-herit-20241104-160643. Status: Submitted\n",
      "\n",
      "Sleeping for 31 seconds to avoid overloading the scheduler.\n",
      "\n"
     ]
    },
    {
     "name": "stdout",
     "output_type": "stream",
     "text": [
      "\n"
     ]
    },
    {
     "name": "stderr",
     "output_type": "stream",
     "text": [
      "Submitted job 384 with tag libd_chr10-chr10_all-herit-20241104-160714. Status: Submitted\n",
      "\n",
      "Sleeping for 31 seconds to avoid overloading the scheduler.\n",
      "\n"
     ]
    },
    {
     "name": "stdout",
     "output_type": "stream",
     "text": [
      "\n"
     ]
    },
    {
     "name": "stderr",
     "output_type": "stream",
     "text": [
      "Submitted job 385 with tag libd_chr10-chr10_all-herit-20241104-160745. Status: Submitted\n",
      "\n",
      "Sleeping for 31 seconds to avoid overloading the scheduler.\n",
      "\n"
     ]
    },
    {
     "name": "stdout",
     "output_type": "stream",
     "text": [
      "\n"
     ]
    },
    {
     "name": "stderr",
     "output_type": "stream",
     "text": [
      "Submitted job 386 with tag libd_chr10-chr10_all-herit-20241104-160816. Status: Submitted\n",
      "\n",
      "Sleeping for 31 seconds to avoid overloading the scheduler.\n",
      "\n"
     ]
    },
    {
     "name": "stdout",
     "output_type": "stream",
     "text": [
      "\n"
     ]
    },
    {
     "name": "stderr",
     "output_type": "stream",
     "text": [
      "Submitted job 387 with tag libd_chr10-chr10_all-herit-20241104-160848. Status: Submitted\n",
      "\n",
      "Sleeping for 31 seconds to avoid overloading the scheduler.\n",
      "\n"
     ]
    },
    {
     "name": "stdout",
     "output_type": "stream",
     "text": [
      "\n"
     ]
    },
    {
     "name": "stderr",
     "output_type": "stream",
     "text": [
      "Submitted job 388 with tag libd_chr10-chr10_all-herit-20241104-160921. Status: Submitted\n",
      "\n",
      "Sleeping for 31 seconds to avoid overloading the scheduler.\n",
      "\n"
     ]
    },
    {
     "name": "stdout",
     "output_type": "stream",
     "text": [
      "\n"
     ]
    },
    {
     "name": "stderr",
     "output_type": "stream",
     "text": [
      "Submitted job 389 with tag libd_chr10-chr10_all-herit-20241104-160953. Status: Submitted\n",
      "\n",
      "Sleeping for 31 seconds to avoid overloading the scheduler.\n",
      "\n"
     ]
    },
    {
     "name": "stdout",
     "output_type": "stream",
     "text": [
      "\n"
     ]
    },
    {
     "name": "stderr",
     "output_type": "stream",
     "text": [
      "Submitted job 390 with tag libd_chr10-chr10_all-herit-20241104-161024. Status: Submitted\n",
      "\n",
      "Sleeping for 31 seconds to avoid overloading the scheduler.\n",
      "\n"
     ]
    },
    {
     "name": "stdout",
     "output_type": "stream",
     "text": [
      "\n"
     ]
    },
    {
     "name": "stderr",
     "output_type": "stream",
     "text": [
      "Submitted job 391 with tag libd_chr10-chr10_all-herit-20241104-161055. Status: Submitted\n",
      "\n",
      "Sleeping for 31 seconds to avoid overloading the scheduler.\n",
      "\n"
     ]
    },
    {
     "name": "stdout",
     "output_type": "stream",
     "text": [
      "\n"
     ]
    },
    {
     "name": "stderr",
     "output_type": "stream",
     "text": [
      "Submitted job 392 with tag libd_chr10-chr10_all-herit-20241104-161126. Status: Submitted\n",
      "\n",
      "Sleeping for 31 seconds to avoid overloading the scheduler.\n",
      "\n"
     ]
    },
    {
     "name": "stdout",
     "output_type": "stream",
     "text": [
      "\n"
     ]
    },
    {
     "name": "stderr",
     "output_type": "stream",
     "text": [
      "Submitted job 393 with tag libd_chr10-chr10_all-herit-20241104-161158. Status: Submitted\n",
      "\n",
      "Sleeping for 31 seconds to avoid overloading the scheduler.\n",
      "\n"
     ]
    },
    {
     "name": "stdout",
     "output_type": "stream",
     "text": [
      "\n"
     ]
    },
    {
     "name": "stderr",
     "output_type": "stream",
     "text": [
      "Submitted job 394 with tag libd_chr10-chr10_all-herit-20241104-161229. Status: Submitted\n",
      "\n",
      "Sleeping for 31 seconds to avoid overloading the scheduler.\n",
      "\n"
     ]
    },
    {
     "name": "stdout",
     "output_type": "stream",
     "text": [
      "\n"
     ]
    },
    {
     "name": "stderr",
     "output_type": "stream",
     "text": [
      "Submitted job 395 with tag libd_chr10-chr10_all-herit-20241104-161300. Status: Submitted\n",
      "\n",
      "Sleeping for 31 seconds to avoid overloading the scheduler.\n",
      "\n"
     ]
    },
    {
     "name": "stdout",
     "output_type": "stream",
     "text": [
      "\n"
     ]
    },
    {
     "name": "stderr",
     "output_type": "stream",
     "text": [
      "Submitted job 396 with tag libd_chr10-chr10_all-herit-20241104-161331. Status: Submitted\n",
      "\n",
      "Sleeping for 31 seconds to avoid overloading the scheduler.\n",
      "\n"
     ]
    },
    {
     "name": "stdout",
     "output_type": "stream",
     "text": [
      "\n"
     ]
    },
    {
     "name": "stderr",
     "output_type": "stream",
     "text": [
      "Submitted job 397 with tag libd_chr10-chr10_all-herit-20241104-161402. Status: Submitted\n",
      "\n",
      "Sleeping for 31 seconds to avoid overloading the scheduler.\n",
      "\n"
     ]
    },
    {
     "name": "stdout",
     "output_type": "stream",
     "text": [
      "\n"
     ]
    },
    {
     "name": "stderr",
     "output_type": "stream",
     "text": [
      "Submitted job 398 with tag libd_chr10-chr10_all-herit-20241104-161433. Status: Submitted\n",
      "\n",
      "Sleeping for 31 seconds to avoid overloading the scheduler.\n",
      "\n"
     ]
    },
    {
     "name": "stdout",
     "output_type": "stream",
     "text": [
      "\n"
     ]
    },
    {
     "name": "stderr",
     "output_type": "stream",
     "text": [
      "Submitted job 399 with tag libd_chr10-chr10_all-herit-20241104-161504. Status: Submitted\n",
      "\n",
      "Sleeping for 31 seconds to avoid overloading the scheduler.\n",
      "\n"
     ]
    },
    {
     "name": "stdout",
     "output_type": "stream",
     "text": [
      "\n"
     ]
    },
    {
     "name": "stderr",
     "output_type": "stream",
     "text": [
      "Submitted job 400 with tag libd_chr10-chr10_all-herit-20241104-161536. Status: Submitted\n",
      "\n",
      "Sleeping for 31 seconds to avoid overloading the scheduler.\n",
      "\n"
     ]
    },
    {
     "name": "stdout",
     "output_type": "stream",
     "text": [
      "\n"
     ]
    },
    {
     "name": "stderr",
     "output_type": "stream",
     "text": [
      "Submitted job 401 with tag libd_chr10-chr10_all-herit-20241104-161607. Status: Submitted\n",
      "\n",
      "Sleeping for 31 seconds to avoid overloading the scheduler.\n",
      "\n"
     ]
    },
    {
     "name": "stdout",
     "output_type": "stream",
     "text": [
      "\n"
     ]
    },
    {
     "name": "stderr",
     "output_type": "stream",
     "text": [
      "Submitted job 402 with tag libd_chr10-chr10_all-herit-20241104-161638. Status: Submitted\n",
      "\n",
      "Sleeping for 31 seconds to avoid overloading the scheduler.\n",
      "\n"
     ]
    },
    {
     "name": "stdout",
     "output_type": "stream",
     "text": [
      "\n"
     ]
    },
    {
     "name": "stderr",
     "output_type": "stream",
     "text": [
      "Submitted job 403 with tag libd_chr10-chr10_all-herit-20241104-161709. Status: Submitted\n",
      "\n",
      "Sleeping for 31 seconds to avoid overloading the scheduler.\n",
      "\n"
     ]
    },
    {
     "name": "stdout",
     "output_type": "stream",
     "text": [
      "\n"
     ]
    },
    {
     "name": "stderr",
     "output_type": "stream",
     "text": [
      "Submitted job 404 with tag libd_chr10-chr10_all-herit-20241104-161741. Status: Submitted\n",
      "\n",
      "Sleeping for 31 seconds to avoid overloading the scheduler.\n",
      "\n"
     ]
    },
    {
     "name": "stdout",
     "output_type": "stream",
     "text": [
      "\n"
     ]
    },
    {
     "name": "stderr",
     "output_type": "stream",
     "text": [
      "Submitted job 405 with tag libd_chr10-chr10_all-herit-20241104-161812. Status: Submitted\n",
      "\n",
      "Sleeping for 31 seconds to avoid overloading the scheduler.\n",
      "\n"
     ]
    },
    {
     "name": "stdout",
     "output_type": "stream",
     "text": [
      "\n"
     ]
    },
    {
     "name": "stderr",
     "output_type": "stream",
     "text": [
      "Submitted job 406 with tag libd_chr10-chr10_all-herit-20241104-161843. Status: Submitted\n",
      "\n",
      "Sleeping for 31 seconds to avoid overloading the scheduler.\n",
      "\n"
     ]
    },
    {
     "name": "stdout",
     "output_type": "stream",
     "text": [
      "\n"
     ]
    },
    {
     "name": "stderr",
     "output_type": "stream",
     "text": [
      "Submitted job 407 with tag libd_chr10-chr10_all-herit-20241104-161914. Status: Submitted\n",
      "\n",
      "Sleeping for 31 seconds to avoid overloading the scheduler.\n",
      "\n"
     ]
    },
    {
     "name": "stdout",
     "output_type": "stream",
     "text": [
      "\n"
     ]
    },
    {
     "name": "stderr",
     "output_type": "stream",
     "text": [
      "Submitted job 408 with tag libd_chr10-chr10_all-herit-20241104-161945. Status: Submitted\n",
      "\n",
      "Sleeping for 31 seconds to avoid overloading the scheduler.\n",
      "\n"
     ]
    },
    {
     "name": "stdout",
     "output_type": "stream",
     "text": [
      "\n"
     ]
    },
    {
     "name": "stderr",
     "output_type": "stream",
     "text": [
      "Submitted job 409 with tag libd_chr10-chr10_all-herit-20241104-162017. Status: Submitted\n",
      "\n",
      "Sleeping for 31 seconds to avoid overloading the scheduler.\n",
      "\n"
     ]
    },
    {
     "name": "stdout",
     "output_type": "stream",
     "text": [
      "\n"
     ]
    },
    {
     "name": "stderr",
     "output_type": "stream",
     "text": [
      "Submitted job 410 with tag libd_chr10-chr10_all-herit-20241104-162048. Status: Submitted\n",
      "\n",
      "Sleeping for 31 seconds to avoid overloading the scheduler.\n",
      "\n"
     ]
    },
    {
     "name": "stdout",
     "output_type": "stream",
     "text": [
      "\n"
     ]
    },
    {
     "name": "stderr",
     "output_type": "stream",
     "text": [
      "Submitted job 411 with tag libd_chr10-chr10_all-herit-20241104-162119. Status: Submitted\n",
      "\n",
      "Sleeping for 31 seconds to avoid overloading the scheduler.\n",
      "\n"
     ]
    },
    {
     "name": "stdout",
     "output_type": "stream",
     "text": [
      "\n"
     ]
    },
    {
     "name": "stderr",
     "output_type": "stream",
     "text": [
      "Submitted job 412 with tag libd_chr10-chr10_all-herit-20241104-162150. Status: Submitted\n",
      "\n",
      "Sleeping for 31 seconds to avoid overloading the scheduler.\n",
      "\n"
     ]
    },
    {
     "name": "stdout",
     "output_type": "stream",
     "text": [
      "\n"
     ]
    },
    {
     "name": "stderr",
     "output_type": "stream",
     "text": [
      "Submitted job 413 with tag libd_chr10-chr10_all-herit-20241104-162221. Status: Submitted\n",
      "\n",
      "Sleeping for 31 seconds to avoid overloading the scheduler.\n",
      "\n"
     ]
    },
    {
     "name": "stdout",
     "output_type": "stream",
     "text": [
      "\n"
     ]
    },
    {
     "name": "stderr",
     "output_type": "stream",
     "text": [
      "Submitted job 414 with tag libd_chr10-chr10_all-herit-20241104-162252. Status: Submitted\n",
      "\n",
      "Sleeping for 31 seconds to avoid overloading the scheduler.\n",
      "\n"
     ]
    },
    {
     "name": "stdout",
     "output_type": "stream",
     "text": [
      "\n"
     ]
    },
    {
     "name": "stderr",
     "output_type": "stream",
     "text": [
      "Submitted job 415 with tag libd_chr10-chr10_all-herit-20241104-162324. Status: Submitted\n",
      "\n",
      "Sleeping for 31 seconds to avoid overloading the scheduler.\n",
      "\n"
     ]
    },
    {
     "name": "stdout",
     "output_type": "stream",
     "text": [
      "\n"
     ]
    },
    {
     "name": "stderr",
     "output_type": "stream",
     "text": [
      "Submitted job 416 with tag libd_chr10-chr10_all-herit-20241104-162355. Status: Submitted\n",
      "\n",
      "Sleeping for 31 seconds to avoid overloading the scheduler.\n",
      "\n"
     ]
    },
    {
     "name": "stdout",
     "output_type": "stream",
     "text": [
      "\n"
     ]
    },
    {
     "name": "stderr",
     "output_type": "stream",
     "text": [
      "Submitted job 417 with tag libd_chr10-chr10_all-herit-20241104-162426. Status: Submitted\n",
      "\n",
      "Sleeping for 31 seconds to avoid overloading the scheduler.\n",
      "\n"
     ]
    },
    {
     "name": "stdout",
     "output_type": "stream",
     "text": [
      "\n"
     ]
    },
    {
     "name": "stderr",
     "output_type": "stream",
     "text": [
      "Submitted job 418 with tag libd_chr10-chr10_all-herit-20241104-162457. Status: Submitted\n",
      "\n",
      "Sleeping for 31 seconds to avoid overloading the scheduler.\n",
      "\n"
     ]
    },
    {
     "name": "stdout",
     "output_type": "stream",
     "text": [
      "\n"
     ]
    },
    {
     "name": "stderr",
     "output_type": "stream",
     "text": [
      "Submitted job 419 with tag libd_chr10-chr10_all-herit-20241104-162529. Status: Submitted\n",
      "\n",
      "Sleeping for 31 seconds to avoid overloading the scheduler.\n",
      "\n"
     ]
    },
    {
     "name": "stdout",
     "output_type": "stream",
     "text": [
      "\n"
     ]
    },
    {
     "name": "stderr",
     "output_type": "stream",
     "text": [
      "Submitted job 420 with tag libd_chr10-chr10_all-herit-20241104-162600. Status: Submitted\n",
      "\n",
      "Sleeping for 31 seconds to avoid overloading the scheduler.\n",
      "\n"
     ]
    },
    {
     "name": "stdout",
     "output_type": "stream",
     "text": [
      "\n"
     ]
    },
    {
     "name": "stderr",
     "output_type": "stream",
     "text": [
      "Submitted job 421 with tag libd_chr10-chr10_all-herit-20241104-162631. Status: Submitted\n",
      "\n",
      "Sleeping for 31 seconds to avoid overloading the scheduler.\n",
      "\n"
     ]
    },
    {
     "name": "stdout",
     "output_type": "stream",
     "text": [
      "\n"
     ]
    },
    {
     "name": "stderr",
     "output_type": "stream",
     "text": [
      "Submitted job 422 with tag libd_chr10-chr10_all-herit-20241104-162702. Status: Submitted\n",
      "\n",
      "Sleeping for 31 seconds to avoid overloading the scheduler.\n",
      "\n"
     ]
    },
    {
     "name": "stdout",
     "output_type": "stream",
     "text": [
      "\n"
     ]
    },
    {
     "name": "stderr",
     "output_type": "stream",
     "text": [
      "Submitted job 423 with tag libd_chr10-chr10_all-herit-20241104-162733. Status: Submitted\n",
      "\n",
      "Sleeping for 31 seconds to avoid overloading the scheduler.\n",
      "\n"
     ]
    },
    {
     "name": "stdout",
     "output_type": "stream",
     "text": [
      "\n"
     ]
    },
    {
     "name": "stderr",
     "output_type": "stream",
     "text": [
      "Submitted job 424 with tag libd_chr10-chr10_all-herit-20241104-162804. Status: Submitted\n",
      "\n",
      "Sleeping for 31 seconds to avoid overloading the scheduler.\n",
      "\n"
     ]
    },
    {
     "name": "stdout",
     "output_type": "stream",
     "text": [
      "\n"
     ]
    },
    {
     "name": "stderr",
     "output_type": "stream",
     "text": [
      "Submitted job 425 with tag libd_chr10-chr10_all-herit-20241104-162836. Status: Submitted\n",
      "\n",
      "Sleeping for 31 seconds to avoid overloading the scheduler.\n",
      "\n"
     ]
    },
    {
     "name": "stdout",
     "output_type": "stream",
     "text": [
      "\n"
     ]
    },
    {
     "name": "stderr",
     "output_type": "stream",
     "text": [
      "Submitted job 426 with tag libd_chr10-chr10_all-herit-20241104-162907. Status: Submitted\n",
      "\n",
      "Sleeping for 31 seconds to avoid overloading the scheduler.\n",
      "\n"
     ]
    },
    {
     "name": "stdout",
     "output_type": "stream",
     "text": [
      "\n"
     ]
    },
    {
     "name": "stderr",
     "output_type": "stream",
     "text": [
      "Submitted job 427 with tag libd_chr10-chr10_all-herit-20241104-162939. Status: Submitted\n",
      "\n",
      "Sleeping for 31 seconds to avoid overloading the scheduler.\n",
      "\n"
     ]
    },
    {
     "name": "stdout",
     "output_type": "stream",
     "text": [
      "\n"
     ]
    },
    {
     "name": "stderr",
     "output_type": "stream",
     "text": [
      "Submitted job 428 with tag libd_chr10-chr10_all-herit-20241104-163011. Status: Submitted\n",
      "\n",
      "Sleeping for 31 seconds to avoid overloading the scheduler.\n",
      "\n"
     ]
    },
    {
     "name": "stdout",
     "output_type": "stream",
     "text": [
      "\n"
     ]
    },
    {
     "name": "stderr",
     "output_type": "stream",
     "text": [
      "Submitted job 429 with tag libd_chr10-chr10_all-herit-20241104-163042. Status: Submitted\n",
      "\n",
      "Sleeping for 31 seconds to avoid overloading the scheduler.\n",
      "\n"
     ]
    },
    {
     "name": "stdout",
     "output_type": "stream",
     "text": [
      "\n"
     ]
    },
    {
     "name": "stderr",
     "output_type": "stream",
     "text": [
      "Submitted job 430 with tag libd_chr10-chr10_all-herit-20241104-163113. Status: Submitted\n",
      "\n",
      "Sleeping for 31 seconds to avoid overloading the scheduler.\n",
      "\n"
     ]
    },
    {
     "name": "stdout",
     "output_type": "stream",
     "text": [
      "\n"
     ]
    },
    {
     "name": "stderr",
     "output_type": "stream",
     "text": [
      "Submitted job 431 with tag libd_chr10-chr10_all-herit-20241104-163144. Status: Submitted\n",
      "\n",
      "Sleeping for 31 seconds to avoid overloading the scheduler.\n",
      "\n"
     ]
    },
    {
     "name": "stdout",
     "output_type": "stream",
     "text": [
      "\n"
     ]
    },
    {
     "name": "stderr",
     "output_type": "stream",
     "text": [
      "Submitted job 432 with tag libd_chr10-chr10_all-herit-20241104-163216. Status: Submitted\n",
      "\n",
      "Sleeping for 31 seconds to avoid overloading the scheduler.\n",
      "\n"
     ]
    },
    {
     "name": "stdout",
     "output_type": "stream",
     "text": [
      "\n"
     ]
    },
    {
     "name": "stderr",
     "output_type": "stream",
     "text": [
      "Submitted job 433 with tag libd_chr10-chr10_all-herit-20241104-163247. Status: Submitted\n",
      "\n",
      "Sleeping for 31 seconds to avoid overloading the scheduler.\n",
      "\n"
     ]
    },
    {
     "name": "stdout",
     "output_type": "stream",
     "text": [
      "\n"
     ]
    },
    {
     "name": "stderr",
     "output_type": "stream",
     "text": [
      "Submitted job 434 with tag libd_chr10-chr10_all-herit-20241104-163318. Status: Submitted\n",
      "\n",
      "Sleeping for 31 seconds to avoid overloading the scheduler.\n",
      "\n"
     ]
    },
    {
     "name": "stdout",
     "output_type": "stream",
     "text": [
      "\n"
     ]
    },
    {
     "name": "stderr",
     "output_type": "stream",
     "text": [
      "Submitted job 435 with tag libd_chr10-chr10_all-herit-20241104-163349. Status: Submitted\n",
      "\n",
      "Sleeping for 31 seconds to avoid overloading the scheduler.\n",
      "\n"
     ]
    },
    {
     "name": "stdout",
     "output_type": "stream",
     "text": [
      "\n"
     ]
    },
    {
     "name": "stderr",
     "output_type": "stream",
     "text": [
      "Submitted job 436 with tag libd_chr10-chr10_all-herit-20241104-163420. Status: Submitted\n",
      "\n",
      "Sleeping for 31 seconds to avoid overloading the scheduler.\n",
      "\n"
     ]
    },
    {
     "name": "stdout",
     "output_type": "stream",
     "text": [
      "\n"
     ]
    },
    {
     "name": "stderr",
     "output_type": "stream",
     "text": [
      "Submitted job 437 with tag libd_chr10-chr10_all-herit-20241104-163451. Status: Submitted\n",
      "\n",
      "Sleeping for 31 seconds to avoid overloading the scheduler.\n",
      "\n"
     ]
    },
    {
     "name": "stdout",
     "output_type": "stream",
     "text": [
      "\n"
     ]
    },
    {
     "name": "stderr",
     "output_type": "stream",
     "text": [
      "Submitted job 438 with tag libd_chr10-chr10_all-herit-20241104-163522. Status: Submitted\n",
      "\n",
      "Sleeping for 31 seconds to avoid overloading the scheduler.\n",
      "\n"
     ]
    },
    {
     "name": "stdout",
     "output_type": "stream",
     "text": [
      "\n"
     ]
    },
    {
     "name": "stderr",
     "output_type": "stream",
     "text": [
      "Submitted job 439 with tag libd_chr10-chr10_all-herit-20241104-163554. Status: Submitted\n",
      "\n",
      "Sleeping for 31 seconds to avoid overloading the scheduler.\n",
      "\n"
     ]
    },
    {
     "name": "stdout",
     "output_type": "stream",
     "text": [
      "\n"
     ]
    },
    {
     "name": "stderr",
     "output_type": "stream",
     "text": [
      "Submitted job 440 with tag libd_chr10-chr10_all-herit-20241104-163625. Status: Submitted\n",
      "\n",
      "Sleeping for 31 seconds to avoid overloading the scheduler.\n",
      "\n"
     ]
    },
    {
     "name": "stdout",
     "output_type": "stream",
     "text": [
      "\n"
     ]
    },
    {
     "name": "stderr",
     "output_type": "stream",
     "text": [
      "Submitted job 441 with tag libd_chr10-chr10_all-herit-20241104-163656. Status: Submitted\n",
      "\n",
      "Sleeping for 31 seconds to avoid overloading the scheduler.\n",
      "\n"
     ]
    },
    {
     "name": "stdout",
     "output_type": "stream",
     "text": [
      "\n"
     ]
    },
    {
     "name": "stderr",
     "output_type": "stream",
     "text": [
      "Submitted job 442 with tag libd_chr10-chr10_all-herit-20241104-163727. Status: Submitted\n",
      "\n",
      "Sleeping for 31 seconds to avoid overloading the scheduler.\n",
      "\n"
     ]
    },
    {
     "name": "stdout",
     "output_type": "stream",
     "text": [
      "\n"
     ]
    },
    {
     "name": "stderr",
     "output_type": "stream",
     "text": [
      "Submitted job 443 with tag libd_chr10-chr10_all-herit-20241104-163759. Status: Submitted\n",
      "\n",
      "Sleeping for 31 seconds to avoid overloading the scheduler.\n",
      "\n"
     ]
    },
    {
     "name": "stdout",
     "output_type": "stream",
     "text": [
      "\n"
     ]
    },
    {
     "name": "stderr",
     "output_type": "stream",
     "text": [
      "Submitted job 444 with tag libd_chr10-chr10_all-herit-20241104-163830. Status: Submitted\n",
      "\n",
      "Sleeping for 31 seconds to avoid overloading the scheduler.\n",
      "\n"
     ]
    },
    {
     "name": "stdout",
     "output_type": "stream",
     "text": [
      "\n"
     ]
    },
    {
     "name": "stderr",
     "output_type": "stream",
     "text": [
      "Submitted job 445 with tag libd_chr10-chr10_all-herit-20241104-163901. Status: Submitted\n",
      "\n",
      "Sleeping for 31 seconds to avoid overloading the scheduler.\n",
      "\n"
     ]
    },
    {
     "name": "stdout",
     "output_type": "stream",
     "text": [
      "\n"
     ]
    },
    {
     "name": "stderr",
     "output_type": "stream",
     "text": [
      "Submitted job 446 with tag libd_chr10-chr10_all-herit-20241104-163932. Status: Submitted\n",
      "\n",
      "Sleeping for 31 seconds to avoid overloading the scheduler.\n",
      "\n"
     ]
    },
    {
     "name": "stdout",
     "output_type": "stream",
     "text": [
      "\n"
     ]
    },
    {
     "name": "stderr",
     "output_type": "stream",
     "text": [
      "Submitted job 447 with tag libd_chr10-chr10_all-herit-20241104-164003. Status: Submitted\n",
      "\n",
      "Sleeping for 31 seconds to avoid overloading the scheduler.\n",
      "\n"
     ]
    },
    {
     "name": "stdout",
     "output_type": "stream",
     "text": [
      "\n"
     ]
    },
    {
     "name": "stderr",
     "output_type": "stream",
     "text": [
      "Submitted job 448 with tag libd_chr10-chr10_all-herit-20241104-164034. Status: Submitted\n",
      "\n",
      "Sleeping for 31 seconds to avoid overloading the scheduler.\n",
      "\n"
     ]
    },
    {
     "name": "stdout",
     "output_type": "stream",
     "text": [
      "\n"
     ]
    },
    {
     "name": "stderr",
     "output_type": "stream",
     "text": [
      "Submitted job 449 with tag libd_chr10-chr10_all-herit-20241104-164105. Status: Submitted\n",
      "\n",
      "Sleeping for 31 seconds to avoid overloading the scheduler.\n",
      "\n"
     ]
    },
    {
     "name": "stdout",
     "output_type": "stream",
     "text": [
      "\n"
     ]
    },
    {
     "name": "stderr",
     "output_type": "stream",
     "text": [
      "Submitted job 450 with tag libd_chr10-chr10_all-herit-20241104-164137. Status: Submitted\n",
      "\n",
      "Sleeping for 31 seconds to avoid overloading the scheduler.\n",
      "\n"
     ]
    },
    {
     "name": "stdout",
     "output_type": "stream",
     "text": [
      "\n"
     ]
    },
    {
     "name": "stderr",
     "output_type": "stream",
     "text": [
      "Submitted job 451 with tag libd_chr10-chr10_all-herit-20241104-164208. Status: Submitted\n",
      "\n",
      "Sleeping for 31 seconds to avoid overloading the scheduler.\n",
      "\n"
     ]
    },
    {
     "name": "stdout",
     "output_type": "stream",
     "text": [
      "\n"
     ]
    },
    {
     "name": "stderr",
     "output_type": "stream",
     "text": [
      "Submitted job 452 with tag libd_chr10-chr10_all-herit-20241104-164239. Status: Submitted\n",
      "\n",
      "Sleeping for 31 seconds to avoid overloading the scheduler.\n",
      "\n"
     ]
    },
    {
     "name": "stdout",
     "output_type": "stream",
     "text": [
      "\n"
     ]
    },
    {
     "name": "stderr",
     "output_type": "stream",
     "text": [
      "Submitted job 453 with tag libd_chr10-chr10_all-herit-20241104-164310. Status: Submitted\n",
      "\n",
      "Sleeping for 31 seconds to avoid overloading the scheduler.\n",
      "\n"
     ]
    },
    {
     "name": "stdout",
     "output_type": "stream",
     "text": [
      "\n"
     ]
    },
    {
     "name": "stderr",
     "output_type": "stream",
     "text": [
      "Submitted job 454 with tag libd_chr10-chr10_all-herit-20241104-164341. Status: Submitted\n",
      "\n",
      "Sleeping for 31 seconds to avoid overloading the scheduler.\n",
      "\n"
     ]
    },
    {
     "name": "stdout",
     "output_type": "stream",
     "text": [
      "\n"
     ]
    },
    {
     "name": "stderr",
     "output_type": "stream",
     "text": [
      "Submitted job 455 with tag libd_chr10-chr10_all-herit-20241104-164425. Status: Submitted\n",
      "\n",
      "Sleeping for 31 seconds to avoid overloading the scheduler.\n",
      "\n"
     ]
    },
    {
     "name": "stdout",
     "output_type": "stream",
     "text": [
      "\n"
     ]
    },
    {
     "name": "stderr",
     "output_type": "stream",
     "text": [
      "Submitted job 456 with tag libd_chr10-chr10_all-herit-20241104-164456. Status: Submitted\n",
      "\n",
      "Sleeping for 31 seconds to avoid overloading the scheduler.\n",
      "\n"
     ]
    },
    {
     "name": "stdout",
     "output_type": "stream",
     "text": [
      "\n"
     ]
    },
    {
     "name": "stderr",
     "output_type": "stream",
     "text": [
      "Submitted job 457 with tag libd_chr10-chr10_all-herit-20241104-164528. Status: Submitted\n",
      "\n",
      "Sleeping for 31 seconds to avoid overloading the scheduler.\n",
      "\n"
     ]
    },
    {
     "name": "stdout",
     "output_type": "stream",
     "text": [
      "\n"
     ]
    },
    {
     "name": "stderr",
     "output_type": "stream",
     "text": [
      "Submitted job 458 with tag libd_chr10-chr10_all-herit-20241104-164559. Status: Submitted\n",
      "\n",
      "Sleeping for 31 seconds to avoid overloading the scheduler.\n",
      "\n"
     ]
    },
    {
     "name": "stdout",
     "output_type": "stream",
     "text": [
      "\n"
     ]
    },
    {
     "name": "stderr",
     "output_type": "stream",
     "text": [
      "Submitted job 459 with tag libd_chr10-chr10_all-herit-20241104-164630. Status: Submitted\n",
      "\n",
      "Sleeping for 31 seconds to avoid overloading the scheduler.\n",
      "\n"
     ]
    },
    {
     "name": "stdout",
     "output_type": "stream",
     "text": [
      "\n"
     ]
    },
    {
     "name": "stderr",
     "output_type": "stream",
     "text": [
      "Submitted job 460 with tag libd_chr10-chr10_all-herit-20241104-164701. Status: Submitted\n",
      "\n",
      "Sleeping for 31 seconds to avoid overloading the scheduler.\n",
      "\n"
     ]
    },
    {
     "name": "stdout",
     "output_type": "stream",
     "text": [
      "\n"
     ]
    },
    {
     "name": "stderr",
     "output_type": "stream",
     "text": [
      "Submitted job 461 with tag libd_chr10-chr10_all-herit-20241104-164732. Status: Submitted\n",
      "\n",
      "Sleeping for 31 seconds to avoid overloading the scheduler.\n",
      "\n"
     ]
    },
    {
     "name": "stdout",
     "output_type": "stream",
     "text": [
      "\n"
     ]
    },
    {
     "name": "stderr",
     "output_type": "stream",
     "text": [
      "Submitted job 462 with tag libd_chr10-chr10_all-herit-20241104-164804. Status: Submitted\n",
      "\n",
      "Sleeping for 31 seconds to avoid overloading the scheduler.\n",
      "\n"
     ]
    },
    {
     "name": "stdout",
     "output_type": "stream",
     "text": [
      "\n"
     ]
    },
    {
     "name": "stderr",
     "output_type": "stream",
     "text": [
      "Submitted job 463 with tag libd_chr10-chr10_all-herit-20241104-164835. Status: Submitted\n",
      "\n",
      "Sleeping for 31 seconds to avoid overloading the scheduler.\n",
      "\n"
     ]
    },
    {
     "name": "stdout",
     "output_type": "stream",
     "text": [
      "\n"
     ]
    },
    {
     "name": "stderr",
     "output_type": "stream",
     "text": [
      "Submitted job 464 with tag libd_chr10-chr10_all-herit-20241104-164906. Status: Submitted\n",
      "\n",
      "Sleeping for 31 seconds to avoid overloading the scheduler.\n",
      "\n"
     ]
    },
    {
     "name": "stdout",
     "output_type": "stream",
     "text": [
      "\n"
     ]
    },
    {
     "name": "stderr",
     "output_type": "stream",
     "text": [
      "Submitted job 465 with tag libd_chr10-chr10_all-herit-20241104-164938. Status: Submitted\n",
      "\n",
      "Sleeping for 31 seconds to avoid overloading the scheduler.\n",
      "\n"
     ]
    }
   ],
   "source": [
    "# submit_heritability_jobs.R\n",
    "\n",
    "# Load necessary libraries\n",
    "library(data.table)\n",
    "library(stringr)\n",
    "library(tools)\n",
    "library(bsseq)\n",
    "\n",
    "# Function to generate SbLURM script\n",
    "generate_slurm_script <- function(args, tag_pt1, tag_pt2, partition, acct, mem_per_cpu = \"4G\",\n",
    "                                  cluster_specific_parameters = TRUE, nodes = NULL,\n",
    "                                  ntasks_per_node = NULL, time = \"24:00:00\",\n",
    "                                  module_load_conda = FALSE, run_script_path) {\n",
    "  cpus_per_task <- if (is.null(args$num_cores) || args$num_cores == \"all\") {\n",
    "    \"#SBATCH --exclusive\\n\"\n",
    "  } else {\n",
    "    paste0(\"#SBATCH --cpus-per-task=\", args$num_cores, \"\\n\")\n",
    "  }\n",
    "\n",
    "  # Always set mem_per_cpu flag, even in exclusive mode\n",
    "  mem_allocation <- paste0(\"#SBATCH --mem-per-cpu=\", mem_per_cpu, \"\\n\")\n",
    "\n",
    "  # Construct argument string with proper quoting\n",
    "  args_string <- paste(\"--\", names(args), \"=\", shQuote(as.character(args)), sep = \"\", collapse = \" \")\n",
    "  #args_string <- paste(args_string, \" --tag_pt1=\", shQuote(tag_pt1), sep = \"\")\n",
    "  #args_string <- paste(args_string, \" --tag_pt2=\", shQuote(tag_pt2), sep = \"\")\n",
    "\n",
    "  # Absolute path to run_heritability.R\n",
    "  run_script_abs_path <- normalizePath(run_script_path, mustWork = FALSE)\n",
    "  if (!file.exists(run_script_abs_path)) {\n",
    "    stop(paste(\"run_heritability.R not found at path:\", run_script_abs_path))\n",
    "  }\n",
    "\n",
    "  if(!dir.exists(\"slurm_logs\")) dir.create(\"slurm_logs\")\n",
    "\n",
    "  slurm_script <- paste0(\n",
    "    \"#!/bin/bash\\n\",\n",
    "    if (cluster_specific_parameters) paste0(\n",
    "      \"#SBATCH --partition=\", partition, \"\\n\"\n",
    "      #\"#SBATCH -A \", acct, \"\\n\"\n",
    "    ),\n",
    "    if (!is.null(nodes) && !is.null(ntasks_per_node)) paste0(\n",
    "      \"#SBATCH --nodes=\", nodes, \"\\n\",\n",
    "      \"#SBATCH --ntasks-per-node=\", ntasks_per_node, \"\\n\"\n",
    "    ),\n",
    "    cpus_per_task,\n",
    "    mem_allocation,\n",
    "    \"#SBATCH --output=slurm_logs/slurm_output_\", tag_pt1, \"-\", tag_pt2, \".out\\n\",\n",
    "    \"#SBATCH --job-name=\", tag_pt1, \"-\", tag_pt2, \"\\n\",\n",
    "    \"#SBATCH --time=\", time, \"\\n\",\n",
    "    if (module_load_conda) \"module load conda\\n\",\n",
    "    \"echo 'Activating Conda environment.'\\n\",\n",
    "    \"module load conda\\n\",\n",
    "    \"conda activate mwas\\n\",\n",
    "    \"echo 'Executing Rscript with arguments: Rscript \", run_script_abs_path, \" \", args_string, \"'\\n\",\n",
    "    \"Rscript \", shQuote(run_script_abs_path), \" \", args_string, \"\\n\"\n",
    "  )\n",
    "\n",
    "  return(list(script = slurm_script, path = paste0(\"slurm_scripts/\", tag_pt1, \"-\", tag_pt2, \".sh\")))\n",
    "}\n",
    "\n",
    "# Cluster-specific parameters\n",
    "cluster_specific_parameters <- TRUE\n",
    "acct <- \"jhu152\"               # Adjust as needed\n",
    "time <- \"48:00:00\"             # Adjust as needed\n",
    "partition <- \"shared\"          # Adjust as needed\n",
    "module_load_conda <- FALSE     # Set to TRUE if you need to load Conda module\n",
    "nodes <- 1                     # Adjust as needed\n",
    "ntasks_per_node <- 1           # Adjust as needed\n",
    "\n",
    "# Overwrite flag (set by user)\n",
    "overwrite <- FALSE\n",
    "\n",
    "# Define absolute paths\n",
    "project_dir <- normalizePath(getwd())  # Assuming the script is run from the project root\n",
    "scripts_dir <- file.path(project_dir, \"scripts\")\n",
    "slurm_scripts_dir <- file.path(project_dir, \"slurm_scripts\")\n",
    "heritability_results_dir <- file.path(project_dir, \"heritability_results\")\n",
    "run_script_path <- file.path(\"run_heritability.R\")  # Adjust if located elsewhere\n",
    "\n",
    "# Create necessary directories if they don't exist\n",
    "dir.create(slurm_scripts_dir, showWarnings = FALSE)\n",
    "dir.create(heritability_results_dir, showWarnings = FALSE)\n",
    "\n",
    "# Load and preprocess matched_df\n",
    "matched_df_path <- file.path(project_dir, \"09.5-OUT_matched_SNP_meth_cov_chunked_JHPCE.csv\")\n",
    "if (!file.exists(matched_df_path)) {\n",
    "  stop(paste(\"Matched data file not found at path:\", matched_df_path))\n",
    "}\n",
    "matched_df <- fread(matched_df_path)\n",
    "matched_df <- matched_df[order(matched_df$SNP_data), ]\n",
    "\n",
    "# Update file paths as needed\n",
    "matched_df$SNP_data <- gsub(\"/expanse/lustre/projects/jhu152/naglemi/mwas/gwas/\",\n",
    "                            \"/dcs04/lieber/statsgen/shizhong/michael/mwas/gwas/\",\n",
    "                            matched_df$SNP_data)\n",
    "matched_df$methylation_data <- gsub(\"/expanse/lustre/projects/jhu152/naglemi/mwas/pheno/\",\n",
    "                                    \"/dcs04/lieber/statsgen/shizhong/michael/mwas/pheno/\",\n",
    "                                    matched_df$methylation_data)\n",
    "matched_df$cov_file <- gsub(\"/expanse/lustre/projects/jhu152/naglemi/mwas/full_covariates/\",\n",
    "                            \"/dcs04/lieber/statsgen/mnagle/mwas/full_covariates/\",\n",
    "                            matched_df$cov_file)\n",
    "matched_df$modified_methylation_data <- gsub(\"/expanse/lustre/projects/jhu152/naglemi/\",\"/dcs04/lieber/statsgen/mnagle/\",\n",
    "                                             matched_df$modified_methylation_data)\n",
    "\n",
    "# Subset to Chr 6g\n",
    "#chr_of_interest <- 6\n",
    "#matched_df_chr6 <- matched_df[Chr == 6]\n",
    "#matched_df_chr7 <- matched_df[Chr == 7]\n",
    "\n",
    "#matched_df <- rbind(matched_df_chr6, matched_df_chr7)\n",
    "\n",
    "matched_df <- matched_df[grepl(\"all\", matched_df$methylation_data), ]\n",
    "\n",
    "# For initial testing, select only the first five rows\n",
    "#test_run <- TRUE\n",
    "#if (test_run) {\n",
    "#  matched_df_chr6 <- matched_df_chr6[1:100]\n",
    "#}\n",
    "\n",
    "# Initialize a data.table to store job submission logs\n",
    "job_log <- data.table(\n",
    "  row = integer(),\n",
    "  tag_pt1 = character(),\n",
    "  tag_pt2 = character(),\n",
    "  script_path = character(),\n",
    "  sbatch_output = character(),\n",
    "  status = character()\n",
    ")\n",
    "\n",
    "# Loop over each row in matched_df_chr6 to submit jobs\n",
    "for (i in 1:nrow(matched_df)) {\n",
    "\n",
    "  # Extract variables from the current row\n",
    "  row <- matched_df[i]\n",
    "  snp_data_path <- row$SNP_data\n",
    "  methylation_data_path <- row$methylation_data\n",
    "  cov_file <- row$cov_file\n",
    "  modified_methylation_data <- row$modified_methylation_data\n",
    "  chr <- row$Chr\n",
    "  chunk_start <- row$chunk_start\n",
    "  chunk_end <- row$chunk_end\n",
    "  region <- row$region  # Assuming 'region' corresponds to the desired naming\n",
    "\n",
    "  # Prepare output directory for this job\n",
    "  outdir <- file.path(heritability_results_dir, paste0(\"heritability_\", region))\n",
    "  dir.create(outdir, recursive = TRUE, showWarnings = FALSE)\n",
    "\n",
    "  # Define constant arguments\n",
    "  constant_args <- list(\n",
    "    Chr = chr,\n",
    "    SNP_data = snp_data_path,\n",
    "    methylation_data = methylation_data_path,\n",
    "    cov_file = cov_file,\n",
    "    modified_methylation_data = modified_methylation_data,\n",
    "    wind = \"10000\",  # Adjust as needed\n",
    "    chunk_start = chunk_start,\n",
    "    chunk_end = chunk_end,\n",
    "    gwas = paste0(dirname(matched_df$SNP_data[i]), \"/\"),    # **IMPORTANT:** Adjust to your GWAS path\n",
    "    gcta = \"/dcs04/lieber/statsgen/shizhong/software/gcta/gcta-1.94.1-linux-kernel-3-x86_64/gcta-1.94.1\",     # **IMPORTANT:** Adjust to your GCTA executable path\n",
    "    num_cores = 1                # Adjust if needed\n",
    "    # outdir = outdir  # **REMOVE THIS LINE**\n",
    "  )\n",
    "\n",
    "  # Generate unique tags for the job\n",
    "  snp_base <- file_path_sans_ext(basename(snp_data_path))\n",
    "  meth_base <- file_path_sans_ext(basename(methylation_data_path))\n",
    "  datetime_str <- format(Sys.time(), \"%Y%m%d-%H%M%S\")\n",
    "  tag_pt1 <- paste(snp_base, meth_base, \"herit\", sep = \"-\")\n",
    "  tag_pt2 <- datetime_str\n",
    "\n",
    "  # Set the tags in constant_args\n",
    "  constant_args$tag_pt1 <- tag_pt1\n",
    "  constant_args$tag_pt2 <- tag_pt2\n",
    "\n",
    "  # Define output file path\n",
    "  output_file <- file.path(outdir, paste0(tag_pt1, \"-\", tag_pt2, \"_heritability_results.RDS\"))\n",
    "\n",
    "  # Check if output file already exists\n",
    "  if (!overwrite && file.exists(output_file)) {\n",
    "    message(\"File \", output_file, \" already exists. Skipping job \", i, \"...\")\n",
    "    next\n",
    "  }\n",
    "\n",
    "  # Initialize error_message\n",
    "  error_message <- NULL\n",
    "\n",
    "  # Generate SLURM script\n",
    "  script_info <- tryCatch({\n",
    "    generate_slurm_script(\n",
    "      args = constant_args,\n",
    "      tag_pt1 = tag_pt1,\n",
    "      tag_pt2 = tag_pt2,\n",
    "      partition = partition,\n",
    "      acct = acct,\n",
    "      mem_per_cpu = \"2G\",\n",
    "      cluster_specific_parameters = cluster_specific_parameters,\n",
    "      nodes = nodes,\n",
    "      ntasks_per_node = ntasks_per_node,\n",
    "      time = time,\n",
    "      module_load_conda = module_load_conda,\n",
    "      run_script_path = run_script_path\n",
    "    )\n",
    "  }, error = function(e) {\n",
    "    warning(paste(\"Error generating SLURM script for job\", i, \":\", e$message))\n",
    "    error_message <<- e$message\n",
    "    return(NULL)\n",
    "  })\n",
    "\n",
    "  # If script generation failed, log and skip\n",
    "  if (is.null(script_info)) {\n",
    "    job_log <- rbind(job_log, data.table(\n",
    "      row = i,\n",
    "      tag_pt1 = tag_pt1,\n",
    "      tag_pt2 = tag_pt2,\n",
    "      script_path = NA,\n",
    "      sbatch_output = paste(\"Error generating script:\", error_message),\n",
    "      status = \"Failed\"\n",
    "    ))\n",
    "    next\n",
    "  }\n",
    "\n",
    "  # Write the SLURM script to a file\n",
    "  writeLines(script_info$script, script_info$path)\n",
    "\n",
    "  # Submit the job using sbatch and capture the output\n",
    "  sbatch_result <- system2(\"sbatch\", args = script_info$path, stdout = TRUE, stderr = TRUE)\n",
    "\n",
    "  # Determine the status based on sbatch output\n",
    "  if (grepl(\"^Submitted batch job\", sbatch_result)) {\n",
    "    status <- \"Submitted\"\n",
    "  } else {\n",
    "    status <- \"Failed\"\n",
    "  }\n",
    "\n",
    "  # Log the job submission details\n",
    "  job_log <- rbind(job_log, data.table(\n",
    "    row = i,\n",
    "    tag_pt1 = tag_pt1,\n",
    "    tag_pt2 = tag_pt2,\n",
    "    script_path = script_info$path,\n",
    "    sbatch_output = sbatch_result,\n",
    "    status = status\n",
    "  ))\n",
    "\n",
    "  # Inform the user\n",
    "  message(paste0(\"Submitted job \", i, \" with tag \", tag_pt1, \"-\", tag_pt2, \". Status: \", status))\n",
    "\n",
    "  # If submission failed, skip the sleep\n",
    "  if (status == \"Failed\") {\n",
    "    next\n",
    "  }\n",
    "\n",
    "  # Implement job submission limits and intervals if necessary\n",
    "  sleeptime <- 31\n",
    "  message(paste0(\"Sleeping for \", sleeptime, \" seconds to avoid overloading the scheduler.\"))\n",
    "  Sys.sleep(sleeptime)\n",
    "  cat(\"\\n\")\n",
    "}\n",
    "\n",
    "# Save the job submission log\n",
    "job_log_path <- file.path(slurm_scripts_dir, \"job_submission_log.csv\")\n",
    "fwrite(job_log, file = job_log_path)\n",
    "\n",
    "message(\"Job submission for Chr \", chr_of_interest, \" completed. Check '\", job_log_path, \"' for details.\")"
   ]
  },
  {
   "cell_type": "code",
   "execution_count": null,
   "id": "64d950dc-2a92-4552-9f70-b4ad9acd10db",
   "metadata": {},
   "outputs": [],
   "source": []
  },
  {
   "cell_type": "markdown",
   "id": "edad51b4-69c6-43b1-be0f-cfbb5d49571a",
   "metadata": {},
   "source": [
    "## Debug"
   ]
  },
  {
   "cell_type": "code",
   "execution_count": null,
   "id": "47f99d11-ec3d-47db-bda7-c8cc46cbe15a",
   "metadata": {},
   "outputs": [],
   "source": [
    "# Debugging Script for Heritability Estimation\n",
    "# Run this script in a Jupyter Notebook to debug the heritability estimation process.\n",
    "\n",
    "# Load necessary libraries\n",
    "library(data.table)\n",
    "library(stringr)\n",
    "library(bsseq)\n",
    "library(tools)\n",
    "\n",
    "# Define helper function to check file existence and print messages\n",
    "check_and_report <- function(file_path, description) {\n",
    "  if (file.exists(file_path)) {\n",
    "    full_path <- normalizePath(file_path)\n",
    "    current_wd <- getwd()\n",
    "    # Since all paths are absolute, relative_path is same as full_path\n",
    "    relative_path <- full_path\n",
    "    message(paste0(description, \" saved to full path \", full_path,\n",
    "                   \" from current wd \", current_wd,\n",
    "                   \" using relative path \", relative_path))\n",
    "  } else {\n",
    "    message(paste0(\"Failed to save \", description, \" to \", file_path))\n",
    "  }\n",
    "}\n",
    "\n",
    "# ---------------------------\n",
    "# Step 1: Setup Environment\n",
    "# ---------------------------\n",
    "\n",
    "# Define absolute paths (Adjust these paths according to your environment)\n",
    "project_dir <- normalizePath(getwd())  # Assuming the notebook is run from the project root\n",
    "scripts_dir <- file.path(project_dir, \"scripts\")\n",
    "heritability_results_dir <- file.path(project_dir, \"heritability_results\")\n",
    "all_gcta_outputs_dir <- file.path(project_dir, \"all_gcta_outputs\")\n",
    "run_script_path <- file.path(\"run_heritability.R\")  # Adjust if located elsewhere\n",
    "\n",
    "# Create necessary directories if they don't exist\n",
    "dir.create(all_gcta_outputs_dir, showWarnings = FALSE, recursive = TRUE)\n",
    "dir.create(heritability_results_dir, showWarnings = FALSE, recursive = TRUE)\n",
    "\n",
    "# ---------------------------\n",
    "# Step 2: Load and Preprocess matched_df\n",
    "# ---------------------------\n",
    "\n",
    "# Load matched_df\n",
    "matched_df_path <- file.path(project_dir, \"09.5-OUT_matched_SNP_meth_cov_chunked_JHPCE.csv\")\n",
    "if (!file.exists(matched_df_path)) {\n",
    "  stop(paste(\"Matched data file not found at path:\", matched_df_path))\n",
    "}\n",
    "matched_df <- fread(matched_df_path)\n",
    "matched_df <- matched_df[order(matched_df$SNP_data), ]\n",
    "\n",
    "# Update file paths as needed\n",
    "matched_df$SNP_data <- gsub(\"/expanse/lustre/projects/jhu152/naglemi/mwas/gwas/\",\n",
    "                            \"/dcs04/lieber/statsgen/shizhong/michael/mwas/gwas/\",\n",
    "                            matched_df$SNP_data)\n",
    "matched_df$methylation_data <- gsub(\"/expanse/lustre/projects/jhu152/naglemi/mwas/pheno/\",\n",
    "                                    \"/dcs04/lieber/statsgen/shizhong/michael/mwas/pheno/\",\n",
    "                                    matched_df$methylation_data)\n",
    "matched_df$cov_file <- gsub(\"/expanse/lustre/projects/jhu152/naglemi/mwas/full_covariates/\",\n",
    "                            \"/dcs04/lieber/statsgen/mnagle/mwas/full_covariates/\",\n",
    "                            matched_df$cov_file)\n",
    "matched_df$modified_methylation_data <- gsub(\"/expanse/lustre/projects/jhu152/naglemi/mwas/\",\n",
    "                                             \"/dcs04/lieber/statsgen/mnagle/mwas/\",\n",
    "                                             matched_df$modified_methylation_data)\n",
    "\n",
    "# ---------------------------\n",
    "# Step 3: Select a Single Job for Debugging\n",
    "# ---------------------------\n",
    "\n",
    "# Subset to Chr of interest (e.g., Chr 8 for debugging)\n",
    "chr_of_interest <- 8\n",
    "matched_df_chr <- matched_df[Chr == chr_of_interest]\n",
    "\n",
    "# Check if there are any rows after subsetting\n",
    "if (nrow(matched_df_chr) == 0) {\n",
    "  stop(paste(\"No data found for chromosome\", chr_of_interest))\n",
    "}\n",
    "\n",
    "# Select the first row for debugging\n",
    "debug_row <- matched_df_chr[1]\n",
    "\n",
    "# Extract variables from the first row\n",
    "snp_data_path <- debug_row$SNP_data\n",
    "methylation_data_path <- debug_row$methylation_data\n",
    "cov_file <- debug_row$cov_file\n",
    "modified_methylation_data <- debug_row$modified_methylation_data\n",
    "chr <- debug_row$Chr\n",
    "chunk_start <- debug_row$chunk_start\n",
    "chunk_end <- debug_row$chunk_end\n",
    "region <- debug_row$region  # Assuming 'region' corresponds to the desired naming\n",
    "\n",
    "# ---------------------------\n",
    "# Step 4: Prepare Arguments\n",
    "# ---------------------------\n",
    "\n",
    "# Define constant arguments as per master script\n",
    "constant_args <- list(\n",
    "  Chr = chr,\n",
    "  SNP_data = snp_data_path,\n",
    "  methylation_data = methylation_data_path,\n",
    "  cov_file = cov_file,\n",
    "  modified_methylation_data = modified_methylation_data,\n",
    "  wind = \"10000\",  # Adjust as needed\n",
    "  chunk_start = chunk_start,\n",
    "  chunk_end = chunk_end,\n",
    "  gwas = paste0(dirname(matched_df_chr$SNP_data[1]), \"/\"),    # Adjust to your GWAS path\n",
    "  gcta = \"/dcs04/lieber/statsgen/shizhong/software/gcta/gcta-1.94.1-linux-kernel-3-x86_64/gcta-1.94.1\",     # Adjust to your GCTA executable path\n",
    "  num_cores = 1                # Adjust if needed\n",
    "  # outdir = outdir  # **REMOVE THIS LINE**\n",
    ")\n",
    "\n",
    "# Generate unique tags for the job\n",
    "snp_base <- file_path_sans_ext(basename(snp_data_path))\n",
    "meth_base <- file_path_sans_ext(basename(methylation_data_path))\n",
    "datetime_str <- format(Sys.time(), \"%Y%m%d-%H%M%S\")\n",
    "tag_pt1 <- paste(snp_base, meth_base, \"herit\", sep = \"-\")\n",
    "tag_pt2 <- datetime_str\n",
    "\n",
    "# Add tags to constant_args\n",
    "constant_args$tag_pt1 <- tag_pt1\n",
    "constant_args$tag_pt2 <- tag_pt2\n",
    "\n",
    "# Define output directory for this job\n",
    "outdir <- file.path(all_gcta_outputs_dir, paste0(\"gcta_output_\", tag_pt1, \"_\", tag_pt2))\n",
    "outdir <- gsub(\"\\\\+\", \"\", outdir)  # Remove any '+' signs\n",
    "dir.create(outdir, recursive = TRUE, showWarnings = FALSE)\n",
    "\n",
    "# Display job tags and output directory\n",
    "cat(\"Job Tags:\\n\")\n",
    "cat(\"Tag Part 1:\", tag_pt1, \"\\n\")\n",
    "cat(\"Tag Part 2:\", tag_pt2, \"\\n\")\n",
    "cat(\"Output Directory:\", outdir, \"\\n\")\n",
    "\n",
    "# ---------------------------\n",
    "# Step 5: Verify Input Files\n",
    "# ---------------------------\n",
    "\n",
    "# Define input files to check\n",
    "input_files_to_check <- list(\n",
    "  \"SNP data\" = snp_data_path,\n",
    "  \"Methylation data\" = methylation_data_path,\n",
    "  \"Covariate file\" = cov_file,\n",
    "  \"Modified methylation data\" = modified_methylation_data\n",
    ")\n",
    "\n",
    "# Check existence of input files\n",
    "for (desc in names(input_files_to_check)) {\n",
    "  file_path <- input_files_to_check[[desc]]\n",
    "  if (!file.exists(file_path)) {\n",
    "    stop(paste0(desc, \" file not found at path: \", file_path))\n",
    "  } else {\n",
    "    check_and_report(file_path, desc)\n",
    "  }\n",
    "}\n",
    "\n",
    "# ---------------------------\n",
    "# Step 6: Load Methylation Data\n",
    "# ---------------------------\n",
    "\n",
    "p <- readRDS(modified_methylation_data)\n",
    "check_and_report(modified_methylation_data, \"Modified methylation data\")\n",
    "\n",
    "CpG_positions <- p@methylations_positions\n",
    "p <- p@methylations\n",
    "\n",
    "ind <- fread(cov_file)$ID  # Adjust if necessary\n",
    "check_and_report(cov_file, \"Covariate file\")\n",
    "\n",
    "# Create 'id' file in 'outdir' based on 'ind'\n",
    "# Since fam has #IID and SEX, and PLINK2 expects two columns (FID and IID), set FID = IID\n",
    "id_file <- file.path(outdir, \"id\")\n",
    "write.table(data.frame(FID = 0, IID = ind), file = id_file, row.names = FALSE, col.names = FALSE, quote = FALSE)\n",
    "check_and_report(id_file, \"ID file\")\n",
    "\n",
    "# Initialize result list and index to avoid copying data when appending\n",
    "res <- list()\n",
    "res_index <- 1  # Index to track the position in the result list\n",
    "\n",
    "# ---------------------------\n",
    "# Step 11: Debugging - Select Specific CpG and Window\n",
    "# ---------------------------\n",
    "\n",
    "# For debugging, select a specific CpG index and window\n",
    "debug_CpG_idx <- 1  # Adjust as needed\n",
    "debug_wind_idx <- 1  # Adjust as needed\n",
    "\n",
    "# Extract the selected CpG position\n",
    "CpG_pos <- CpG_positions[debug_CpG_idx]\n",
    "p1 <- ifelse(CpG_pos - as.numeric(constant_args$wind) > 0, CpG_pos - as.numeric(constant_args$wind), 0)\n",
    "p2 <- CpG_pos + as.numeric(constant_args$wind)\n",
    "gwas_prefix <- paste0(constant_args$gwas, \"libd_chr\", chr)\n",
    "\n",
    "# Define PLINK2 output prefix\n",
    "plink_out_prefix <- file.path(outdir, paste0(\"temp_\", debug_CpG_idx, \"_\", debug_wind_idx))\n",
    "\n",
    "# Display debugging information\n",
    "cat(\"Debugging CpG Index:\", debug_CpG_idx, \"\\n\")\n",
    "cat(\"CpG Position:\", CpG_pos, \"\\n\")\n",
    "cat(\"Window Size:\", constant_args$wind, \"\\n\")\n",
    "cat(\"Genomic Range:\", p1, \"-\", p2, \"\\n\")\n",
    "cat(\"Number of Samples to Keep:\", length(ind), \"\\n\")\n",
    "cat(\"Sample IDs (first 5):\", paste(head(ind, 5), collapse = \", \"), \"\\n\")\n",
    "\n",
    "# ---------------------------\n",
    "# Step 12: Generate PLINK2 BED/BIM/FAM Files\n",
    "# ---------------------------\n",
    "\n",
    "# Construct PLINK2 command\n",
    "command_plink <- paste(\n",
    "  \"/dcs04/lieber/statsgen/mnagle/mwas/CpGWAS/scripts/plink2\",\n",
    "  \"--pfile\", shQuote(gwas_prefix),\n",
    "  #\"--silent\",\n",
    "  \"--keep\", shQuote(id_file),\n",
    "  \"--chr\", chr,\n",
    "  \"--from-bp\", p1,\n",
    "  \"--to-bp\", p2,\n",
    "  \"--snps-only\", \"just-acgt\",\n",
    "  \"--make-bed\",\n",
    "  \"--threads\", 1,\n",
    "  \"--out\", shQuote(plink_out_prefix)\n",
    ")\n",
    "cat(\"Executing PLINK2 Command:\\n\")\n",
    "cat(command_plink, \"\\n\")\n",
    "\n",
    "# Execute the PLINK2 command\n",
    "system_ret <- system2(command_plink[1], args = command_plink[-1], stdout = TRUE, stderr = TRUE)\n",
    "\n",
    "# Print the system call results\n",
    "cat(\"Output and Errors from PLINK2:\\n\")\n",
    "print(system_ret)\n",
    "\n",
    "# Check if PLINK2 executed successfully\n",
    "if (!file.exists(paste0(plink_out_prefix, \".bed\"))) {\n",
    "  cat(\"PLINK2 command failed or no output generated for CpG index \", debug_CpG_idx, \".\\n\")\n",
    "  # Output PLINK2 log content for debugging\n",
    "  plink_log_file <- paste0(plink_out_prefix, \".log\")\n",
    "  if (file.exists(plink_log_file)) {\n",
    "    cat(\"PLINK2 Log Content:\\n\")\n",
    "    plink_log <- readLines(plink_log_file)\n",
    "    cat(paste(plink_log, collapse = \"\\n\"), \"\\n\")\n",
    "  }\n",
    "  stop(\"PLINK2 failed. Check the log for details.\")\n",
    "} else {\n",
    "  cat(\"PLINK2 command executed successfully.\\n\")\n",
    "}\n",
    "\n",
    "# Check for PLINK2 output files\n",
    "bed_file <- paste0(plink_out_prefix, \".bed\")\n",
    "bim_file <- paste0(plink_out_prefix, \".bim\")\n",
    "fam_file_out <- paste0(plink_out_prefix, \".fam\")\n",
    "\n",
    "check_and_report(bed_file, \"PLINK BED file\")\n",
    "check_and_report(bim_file, \"PLINK BIM file\")\n",
    "check_and_report(fam_file_out, \"PLINK FAM file\")\n",
    "\n",
    "# ---------------------------\n",
    "# Step 13: Create Phenotype File\n",
    "# ---------------------------\n",
    "\n",
    "pheno <- data.frame(FID = fam_data$FID[fam_data$IID %in% ind], IID = ind, Phenotype = p[, debug_CpG_idx])\n",
    "pheno_path <- file.path(outdir, paste0(\"pheno_\", debug_CpG_idx, \"_\", debug_wind_idx, \".txt\"))\n",
    "write.table(pheno, pheno_path, col.names = FALSE, row.names = FALSE, quote = FALSE, sep = \"\\t\")\n",
    "check_and_report(pheno_path, \"Phenotype file\")\n",
    "\n",
    "# ---------------------------\n",
    "# Step 14: Generate Genetic Relationship Matrix (GRM) with GCTA\n",
    "# ---------------------------\n",
    "\n",
    "command_grm <- paste(\n",
    "  shQuote(constant_args$gcta),\n",
    "  \"--bfile\", shQuote(plink_out_prefix),\n",
    "  \"--make-grm-bin\",\n",
    "  \"--thread-num\", 1,\n",
    "  \"--out\", shQuote(plink_out_prefix)\n",
    ")\n",
    "cat(\"Executing GCTA GRM Command:\\n\")\n",
    "cat(command_grm, \"\\n\")\n",
    "\n",
    "# Execute GCTA GRM command\n",
    "system_ret_grm <- system(command_grm, intern = TRUE, ignore.stderr = FALSE)\n",
    "\n",
    "# Check if GRM was created successfully\n",
    "grm_bin <- paste0(plink_out_prefix, \".grm.bin\")\n",
    "grm_n <- paste0(plink_out_prefix, \".grm.N.bin\")\n",
    "grm_id <- paste0(plink_out_prefix, \".grm.id\")\n",
    "\n",
    "if (!file.exists(grm_bin) || !file.exists(grm_n) || !file.exists(grm_id)) {\n",
    "  cat(\"GCTA GRM command failed or output files not generated.\\n\")\n",
    "  stop(\"GCTA GRM failed. Check the log for details.\")\n",
    "} else {\n",
    "  cat(\"GCTA GRM command executed successfully.\\n\")\n",
    "}\n",
    "\n",
    "# Check for GRM output files\n",
    "check_and_report(grm_bin, \"GRM BIN file\")\n",
    "check_and_report(grm_n, \"GRM N BIN file\")\n",
    "check_and_report(grm_id, \"GRM ID file\")\n",
    "\n",
    "# ---------------------------\n",
    "# Step 15: Perform Heritability Estimation Using GCTA REML\n",
    "# ---------------------------\n",
    "\n",
    "# Define qcovar and covar file paths\n",
    "qcovar_file <- sub(\"\\\\.csv$\", \".qcovar\", cov_file)\n",
    "covar_file <- sub(\"\\\\.csv$\", \".covar\", cov_file)\n",
    "\n",
    "# Construct GCTA REML command\n",
    "command_reml <- paste(\n",
    "  shQuote(constant_args$gcta),\n",
    "  \"--reml\",\n",
    "  \"--grm-bin\", shQuote(plink_out_prefix),\n",
    "  \"--pheno\", shQuote(pheno_path),\n",
    "  \"--mpheno\", 1,\n",
    "  \"--qcovar\", shQuote(qcovar_file),\n",
    "  \"--covar\", shQuote(covar_file),\n",
    "  \"--thread-num\", 1,\n",
    "  \"--out\", shQuote(plink_out_prefix)\n",
    ")\n",
    "cat(\"Executing GCTA REML Command:\\n\")\n",
    "cat(command_reml, \"\\n\")\n",
    "\n",
    "# Execute GCTA REML command\n",
    "system_ret_reml <- system(command_reml, intern = TRUE, ignore.stderr = FALSE)\n",
    "\n",
    "# Check if REML was successful\n",
    "hsq_file <- paste0(plink_out_prefix, \".hsq\")\n",
    "if (!file.exists(hsq_file)) {\n",
    "  cat(\"GCTA REML command failed or .hsq file not generated.\\n\")\n",
    "  # Output GCTA REML log content for debugging\n",
    "  gcta_log_file <- paste0(plink_out_prefix, \".log\")\n",
    "  if (file.exists(gcta_log_file)) {\n",
    "    cat(\"GCTA REML Log Content:\\n\")\n",
    "    gcta_log <- readLines(gcta_log_file)\n",
    "    cat(paste(gcta_log, collapse = \"\\n\"), \"\\n\")\n",
    "  }\n",
    "  stop(\"GCTA REML failed. Check the log for details.\")\n",
    "} else {\n",
    "  cat(\"GCTA REML command executed successfully.\\n\")\n",
    "}\n",
    "\n",
    "# Check for REML output file\n",
    "check_and_report(hsq_file, \"REML HSQ file\")\n",
    "\n",
    "# ---------------------------\n",
    "# Step 16: Read and Save Heritability Results\n",
    "# ---------------------------\n",
    "\n",
    "# Read the .hsq file\n",
    "hsq_data <- fread(hsq_file, header = TRUE, fill = TRUE)\n",
    "\n",
    "# Extract relevant values\n",
    "temp2 <- list(\n",
    "  V_G = hsq_data[1, 2],\n",
    "  SE_V_G = hsq_data[1, 3],\n",
    "  V_e = hsq_data[2, 2],\n",
    "  SE_V_e = hsq_data[2, 3],\n",
    "  Vp = hsq_data[3, 2],\n",
    "  SE_Vp = hsq_data[3, 3],\n",
    "  V_G_Vp = hsq_data[4, 2],\n",
    "  SE_V_G_Vp = hsq_data[4, 3],\n",
    "  logL = hsq_data[5, 2],\n",
    "  logL0 = hsq_data[6, 2],\n",
    "  LRT = hsq_data[7, 2],\n",
    "  df = hsq_data[8, 2],\n",
    "  Pval = hsq_data[9, 2],\n",
    "  n = hsq_data[10, 2],\n",
    "  site = paste0(\"chr\", chr, \"_\", CpG_positions[debug_CpG_idx]),\n",
    "  wind = constant_args$wind\n",
    ")\n",
    "\n",
    "# Validate results\n",
    "if (is.null(temp2) || temp2$n <= 1) {\n",
    "  message(\"Invalid result for CpG index \", debug_CpG_idx, \", window \", constant_args$wind, \". Skipping.\")\n",
    "} else {\n",
    "  # Create a data.table for results\n",
    "  res_dt <- data.table(temp2)\n",
    "  \n",
    "  # Define output file path inside 'outdir' and add '.csv' extension\n",
    "  output_file <- file.path(outdir, paste0(file_path_sans_ext(basename(modified_methylation_data)), \"_heritability_results_debug.csv\"))\n",
    "  \n",
    "  # Save results as CSV\n",
    "  fwrite(res_dt, file = output_file)\n",
    "  check_and_report(output_file, \"Final heritability results CSV\")\n",
    "  \n",
    "  message(paste0(\"Heritability estimation completed successfully. Results saved to \", output_file))\n",
    "}"
   ]
  },
  {
   "cell_type": "code",
   "execution_count": null,
   "id": "33a57b06-1495-4c64-9cad-19ca6341e9e0",
   "metadata": {},
   "outputs": [],
   "source": [
    "ret_code_plink <- system(command_plink, intern = TRUE)"
   ]
  },
  {
   "cell_type": "code",
   "execution_count": null,
   "id": "4159e2ca-916e-4010-b956-919888f71c36",
   "metadata": {},
   "outputs": [],
   "source": [
    "ret_code_plink"
   ]
  },
  {
   "cell_type": "code",
   "execution_count": null,
   "id": "a0284677-38cc-4f51-8768-ea5298e287da",
   "metadata": {},
   "outputs": [],
   "source": [
    "# Define the command with all its arguments including the output directory for the log\n",
    "plink_command <- paste(\n",
    "  \"plink2\",\n",
    "  \"--pfile '/dcs04/lieber/statsgen/shizhong/michael/mwas/gwas/libd_chr8'\",\n",
    "  \"--keep '/dcs04/lieber/statsgen/mnagle/mwas/CpGWAS/scripts/all_gcta_outputs/gcta_output_libd_chr8-chr8_AA-herit_20241011-175524/id'\",\n",
    "  \"--chr 8\",\n",
    "  \"--from-bp 186751\",\n",
    "  \"--to-bp 206751\",\n",
    "  \"--snps-only just-acgt\",\n",
    "  \"--make-bed\",\n",
    "  \"--threads 1\",\n",
    "  \"--out '/dcs04/lieber/statsgen/mnagle/mwas/CpGWAS/scripts/all_gcta_outputs/gcta_output_libd_chr8-chr8_AA-herit_20241011-175524/temp_1_1'\",\n",
    "  sep = \" \"\n",
    ")\n",
    "\n",
    "# Execute the command\n",
    "system(plink_command, intern = FALSE) # intern = FALSE to let it run without capturing output in R\n",
    "\n",
    "# Read and print the log file\n",
    "log_file <- \"/dcs04/lieber/statsgen/mnagle/mwas/CpGWAS/scripts/all_gcta_outputs/gcta_output_libd_chr8-chr8_AA-herit_20241011-175524/temp_1_1.log\"\n",
    "if (file.exists(log_file)) {\n",
    "  log_contents <- readLines(log_file)\n",
    "  cat(\"Log File Contents:\\n\", paste(log_contents, collapse = \"\\n\"))\n",
    "} else {\n",
    "  cat(\"Log file not found.\\n\")\n",
    "}\n"
   ]
  },
  {
   "cell_type": "code",
   "execution_count": null,
   "id": "9faaf840-9978-4c5f-9df9-1e443ab7ea5c",
   "metadata": {},
   "outputs": [],
   "source": [
    "# Set up command and arguments\n",
    "command <- \"plink2\"\n",
    "args <- c(\n",
    "  \"--pfile\", \"/dcs04/lieber/statsgen/shizhong/michael/mwas/gwas/libd_chr8\",\n",
    "  \"--keep\", \"/dcs04/lieber/statsgen/mnagle/mwas/CpGWAS/scripts/all_gcta_outputs/gcta_output_libd_chr8-chr8_AA-herit_20241011-175524/id\",\n",
    "  \"--chr\", \"8\",\n",
    "  \"--from-bp\", \"186751\",\n",
    "  \"--to-bp\", \"206751\",\n",
    "  \"--snps-only\", \"just-acgt\",\n",
    "  \"--make-bed\",\n",
    "  \"--threads\", \"1\",\n",
    "  \"--out\", \"/dcs04/lieber/statsgen/mnagle/mwas/CpGWAS/scripts/all_gcta_outputs/gcta_output_libd_chr8-chr8_AA-herit_20241011-175524/temp_1_1\"\n",
    ")\n",
    "\n",
    "# Execute command\n",
    "system2(command, args = args, stdout = FALSE, stderr = FALSE)\n",
    "\n",
    "# Read and print the log file\n",
    "log_file <- \"/dcs04/lieber/statsgen/mnagle/mwas/CpGWAS/scripts/all_gcta_outputs/gcta_output_libd_chr8-chr8_AA-herit_20241011-175524/temp_1_1.log\"\n",
    "if (file.exists(log_file)) {\n",
    "  log_contents <- readLines(log_file)\n",
    "  cat(\"Log File Contents:\\n\", paste(log_contents, collapse = \"\\n\"))\n",
    "} else {\n",
    "  cat(\"Log file not found.\\n\")\n",
    "}\n"
   ]
  },
  {
   "cell_type": "code",
   "execution_count": null,
   "id": "e7dbaad6-e747-4335-9c9b-1df18e362f20",
   "metadata": {},
   "outputs": [],
   "source": []
  },
  {
   "cell_type": "code",
   "execution_count": null,
   "id": "a203f61d-4477-4dc6-9496-ae37169eb35d",
   "metadata": {},
   "outputs": [],
   "source": [
    "# ---------------------------\n",
    "# Step 17: Cleanup Temporary Files (Optional for Debugging)\n",
    "# ---------------------------\n",
    "\n",
    "# Remove temporary PLINK files\n",
    "temp_files_pattern <- paste0(\"^temp_\", debug_CpG_idx, \"_\", debug_wind_idx)\n",
    "temp_files <- list.files(outdir, pattern = temp_files_pattern, full.names = TRUE)\n",
    "if (length(temp_files) > 0) {\n",
    "  file.remove(temp_files)\n",
    "  message(paste0(\"Temporary files removed: \", paste(basename(temp_files), collapse = \", \")))\n",
    "}\n",
    "\n",
    "# Remove phenotype file\n",
    "if (file.exists(pheno_path)) {\n",
    "  file.remove(pheno_path)\n",
    "  message(paste0(\"Phenotype file removed: \", basename(pheno_path)))\n",
    "}\n",
    "\n",
    "# Remove GRM files\n",
    "grm_files <- c(grm_bin, grm_n, grm_id)\n",
    "existing_grm_files <- grm_files[file.exists(grm_files)]\n",
    "if (length(existing_grm_files) > 0) {\n",
    "  file.remove(existing_grm_files)\n",
    "  message(\"GRM files removed: \", paste(basename(existing_grm_files), collapse = \", \"))\n",
    "}\n",
    "\n",
    "# Remove HSQ file\n",
    "if (file.exists(hsq_file)) {\n",
    "  file.remove(hsq_file)\n",
    "  message(\"HSQ file removed: \", basename(hsq_file))\n",
    "}\n",
    "\n",
    "cat(\"Debugging run completed.\\n\")"
   ]
  },
  {
   "cell_type": "markdown",
   "id": "810741e4-cd6f-4deb-a344-4388c522ad3c",
   "metadata": {},
   "source": [
    "fam_file"
   ]
  }
 ],
 "metadata": {
  "kernelspec": {
   "display_name": "R",
   "language": "R",
   "name": "ir"
  },
  "language_info": {
   "codemirror_mode": "r",
   "file_extension": ".r",
   "mimetype": "text/x-r-source",
   "name": "R",
   "pygments_lexer": "r",
   "version": "4.3.1"
  }
 },
 "nbformat": 4,
 "nbformat_minor": 5
}
