{
 "cells": [
  {
   "cell_type": "markdown",
   "id": "0cb72484-0e2e-4d13-bda9-58fe13e8ae34",
   "metadata": {},
   "source": [
    "# Prep SLURM commands"
   ]
  },
  {
   "cell_type": "code",
   "execution_count": 1,
   "id": "16eddb68-67bf-48d8-9343-a7e48c69b312",
   "metadata": {
    "tags": []
   },
   "outputs": [
    {
     "data": {
      "text/html": [
       "'/dcs04/lieber/statsgen/mnagle/mwas/CpGWAS/scripts'"
      ],
      "text/latex": [
       "'/dcs04/lieber/statsgen/mnagle/mwas/CpGWAS/scripts'"
      ],
      "text/markdown": [
       "'/dcs04/lieber/statsgen/mnagle/mwas/CpGWAS/scripts'"
      ],
      "text/plain": [
       "[1] \"/dcs04/lieber/statsgen/mnagle/mwas/CpGWAS/scripts\""
      ]
     },
     "metadata": {},
     "output_type": "display_data"
    }
   ],
   "source": [
    "getwd()"
   ]
  },
  {
   "cell_type": "code",
   "execution_count": 2,
   "id": "9c7b2054-67b9-42e5-9f90-1bd0bdac846e",
   "metadata": {},
   "outputs": [],
   "source": [
    "library(data.table)\n",
    "library(stringr)"
   ]
  },
  {
   "cell_type": "code",
   "execution_count": 3,
   "id": "82f55bee-2e04-4858-a040-64869a761882",
   "metadata": {},
   "outputs": [],
   "source": [
    "setwd(\"../\")"
   ]
  },
  {
   "cell_type": "code",
   "execution_count": 4,
   "id": "750b3ac4-4232-4549-b317-faa48852db41",
   "metadata": {},
   "outputs": [],
   "source": [
    "#' Generate Chunk Ranges with Fixed Number of Chunks\n",
    "#'\n",
    "#' This function divides a range into a specified number of chunks, with each chunk\n",
    "#' having approximately the same size.\n",
    "#'\n",
    "#' @param start The starting point of the range to be divided.\n",
    "#' @param end The ending point of the range to be divided.\n",
    "#' @param num_chunks The fixed number of chunks to divide the range into.\n",
    "#'\n",
    "#' @return A matrix where each row represents a chunk, with the first column being\n",
    "#'         the start of the chunk and the second column being the end of the chunk.\n",
    "#' @examples\n",
    "#' chunk_fixed_n(1, 100, 5)\n",
    "#' @export\n",
    "chunk_fixed_n <- function(start, end, num_chunks) {\n",
    "  chunk_size <- ceiling((end - start + 1) / num_chunks)\n",
    "  chunk_ranges <- sapply(1:num_chunks, function(i) {\n",
    "    chunk_start <- start + (i - 1) * chunk_size\n",
    "    chunk_end <- min(chunk_start + chunk_size - 1, end)\n",
    "    c(chunk_start, chunk_end)\n",
    "  })\n",
    "  return(chunk_ranges)\n",
    "}\n",
    "\n",
    "#' Generate Chunk Ranges with Fixed Chunk Size\n",
    "#'\n",
    "#' This function divides a range into chunks up to a given maximum size, dynamically\n",
    "#' determining the number of chunks based on the range and maximum chunk size.\n",
    "#'\n",
    "#' @param start The starting point of the range to be divided.\n",
    "#' @param end The ending point of the range to be divided.\n",
    "#' @param max_chunk_size The maximum size that each chunk can have.\n",
    "#'\n",
    "#' @return A matrix where each row represents a chunk, with the first column being\n",
    "#'         the start of the chunk and the second column being the end of the chunk.\n",
    "#'         The last chunk may be smaller than `max_chunk_size` to fit the range.\n",
    "#' @examples\n",
    "#' chunk_fixed_size(1, 100, 20)\n",
    "#' @export\n",
    "chunk_fixed_size <- function(start, end, max_chunk_size) {\n",
    "  if (length(start) > 1 || length(end) > 1) {\n",
    "    stop(\"start and end must be single values\")\n",
    "  }\n",
    "  if (start > end || max_chunk_size <= 0) {\n",
    "    stop(\"Invalid arguments: ensure start <= end and max_chunk_size > 0\")\n",
    "  }\n",
    "  \n",
    "  num_chunks <- ceiling((end - start + 1) / max_chunk_size)\n",
    "  chunk_ranges <- matrix(nrow = num_chunks, ncol = 2)\n",
    "  \n",
    "  for (i in 1:num_chunks) {\n",
    "    chunk_start <- start + (i - 1) * max_chunk_size\n",
    "    chunk_end <- min(chunk_start + max_chunk_size - 1, end)\n",
    "    chunk_ranges[i, ] <- c(chunk_start, chunk_end)\n",
    "  }\n",
    "  \n",
    "  return(t(chunk_ranges))\n",
    "}\n",
    "\n",
    "generate_slurm_script <- function(args, tag_pt1, tag_pt2, mem_per_cpu = \"16G\") {\n",
    "  cpus_per_task <- if (is.null(args$num_cores) || args$num_cores == \"all\") {\n",
    "    \"#SBATCH --exclusive\\n\"\n",
    "  } else {\n",
    "    paste0(\"#SBATCH --cpus-per-task=\", args$num_cores, \"\\n\")\n",
    "  }\n",
    "\n",
    "  # Always set mem_per_cpu flag, even in exclusive mode\n",
    "  mem_allocation <- paste0(\"#SBATCH --mem-per-cpu=\", mem_per_cpu, \"\\n\")\n",
    "\n",
    "  args_string <- paste(\"--\", names(args), \"=\", args, sep = \"\", collapse = \" \")\n",
    "  args_string <- paste(args_string, \" --tag=\", tag_pt1, \"-\", tag_pt2, sep = \"\")\n",
    "\n",
    "  slurm_script <- paste0(\n",
    "    \"#!/bin/bash\\n\",\n",
    "    if (cluster_specific_parameters) paste0(\n",
    "      \"#SBATCH --partition=\", partition, \"\\n\",\n",
    "      \"#SBATCH -A \", acct, \"\\n\",\n",
    "    ),\n",
    "    if (!is.null(nodes) && !is.null(ntasks_per_node)) paste0(\n",
    "      \"#SBATCH --nodes=\", nodes, \"\\n\",\n",
    "      \"#SBATCH --ntasks-per-node=\", ntasks_per_node, \"\\n\"\n",
    "    ),\n",
    "    cpus_per_task,\n",
    "    mem_allocation,\n",
    "    \"#SBATCH --output=slurm_output_\", tag_pt1, \"-\", tag_pt2, \".out\\n\",\n",
    "    \"#SBATCH --job-name=\", tag_pt1, \"-\", tag_pt2, \"\\n\",\n",
    "    \"#SBATCH --time=\", time, \"\\n\",\n",
    "    if (module_load_conda) \"module load conda\\n\",\n",
    "    \"conda activate mwas\\n\",\n",
    "    \"echo 'Executing Rscript with arguments: Rscript scripts/CLI.R \", args_string, \"'\\n\",\n",
    "    \"Rscript scripts/CLI.R \", args_string, \"\\n\"\n",
    "  )\n",
    "\n",
    "  return(list(script = slurm_script, path = paste0(\"slurm_scripts/\", tag_pt1, \"-\", tag_pt2, \".sh\")))\n",
    "}"
   ]
  },
  {
   "cell_type": "code",
   "execution_count": 5,
   "id": "e618d140-ad01-469b-9db1-93176c568260",
   "metadata": {},
   "outputs": [],
   "source": [
    "# Cluster-specific parameters\n",
    "cluster_specific_parameters <- FALSE # Example condition\n",
    "acct <- \"jhu152\"\n",
    "time <- \"48:00:00\"\n",
    "partition <- \"shared\"\n",
    "\n",
    "module_load_conda <- TRUE\n",
    "\n",
    "nodes <- 1\n",
    "ntasks_per_node <- 1\n",
    "\n",
    "# Overwrite flag (set by user)\n",
    "overwrite <- FALSE"
   ]
  },
  {
   "cell_type": "code",
   "execution_count": 6,
   "id": "8e415d48-449a-40da-8547-832968839644",
   "metadata": {},
   "outputs": [],
   "source": [
    "# chunk_ranges <- chunk_fixed_size(files$first_meth_index_with_SNP_coverage[i],\n",
    "#                                  files$last_meth_index_with_SNP_coverage[i],\n",
    "#                                  1000)\n",
    "                         \n",
    "\n",
    "# chunk_ranges <- chunk_ranges[1:2,1:2]\n",
    "\n",
    "#chunk_ranges <- chunk_fixed_n(1, 10000, 5)"
   ]
  },
  {
   "cell_type": "code",
   "execution_count": 7,
   "id": "48c476be-91a2-4c79-8ad1-0e94a7fefd3d",
   "metadata": {},
   "outputs": [
    {
     "data": {
      "text/html": [
       "'/dcs04/lieber/statsgen/mnagle/mwas/CpGWAS'"
      ],
      "text/latex": [
       "'/dcs04/lieber/statsgen/mnagle/mwas/CpGWAS'"
      ],
      "text/markdown": [
       "'/dcs04/lieber/statsgen/mnagle/mwas/CpGWAS'"
      ],
      "text/plain": [
       "[1] \"/dcs04/lieber/statsgen/mnagle/mwas/CpGWAS\""
      ]
     },
     "metadata": {},
     "output_type": "display_data"
    }
   ],
   "source": [
    "getwd()"
   ]
  },
  {
   "cell_type": "code",
   "execution_count": 8,
   "id": "815ee1a2-cbf5-4d10-ab9e-74457df5b83b",
   "metadata": {},
   "outputs": [],
   "source": [
    "matched_df <- fread(\"../CpGWAS/scripts/09.5-OUT_matched_SNP_meth_cov_chunked_JHPCE.csv\")"
   ]
  },
  {
   "cell_type": "code",
   "execution_count": 9,
   "id": "194ef5b8-7f7a-4cb6-ae56-e308980fbc30",
   "metadata": {},
   "outputs": [],
   "source": [
    "matched_df <- matched_df[order(matched_df$SNP_data), ]"
   ]
  },
  {
   "cell_type": "code",
   "execution_count": 10,
   "id": "11a5681f-387c-4e8b-86ab-df62cacdcf05",
   "metadata": {},
   "outputs": [
    {
     "data": {
      "text/html": [
       "<table class=\"dataframe\">\n",
       "<caption>A data.table: 6 × 13</caption>\n",
       "<thead>\n",
       "\t<tr><th scope=col>Chr</th><th scope=col>SNP_data</th><th scope=col>methylation_data</th><th scope=col>last_meth_value_with_SNP_coverage</th><th scope=col>first_meth_value_with_SNP_coverage</th><th scope=col>last_meth_index_with_SNP_coverage</th><th scope=col>first_meth_index_with_SNP_coverage</th><th scope=col>population</th><th scope=col>region</th><th scope=col>cov_file</th><th scope=col>chunk_start</th><th scope=col>chunk_end</th><th scope=col>modified_methylation_data</th></tr>\n",
       "\t<tr><th scope=col>&lt;int&gt;</th><th scope=col>&lt;chr&gt;</th><th scope=col>&lt;chr&gt;</th><th scope=col>&lt;int&gt;</th><th scope=col>&lt;int&gt;</th><th scope=col>&lt;int&gt;</th><th scope=col>&lt;int&gt;</th><th scope=col>&lt;chr&gt;</th><th scope=col>&lt;chr&gt;</th><th scope=col>&lt;chr&gt;</th><th scope=col>&lt;int&gt;</th><th scope=col>&lt;dbl&gt;</th><th scope=col>&lt;chr&gt;</th></tr>\n",
       "</thead>\n",
       "<tbody>\n",
       "\t<tr><td>1</td><td>/dcs04/lieber/statsgen/shizhong/michael/mwas/gwas//libd_chr1.pgen</td><td>/dcs04/lieber/statsgen/shizhong/michael/mwas/pheno/caud/out/chr1_AA.rda</td><td>248918358</td><td>1069461</td><td>2202702</td><td>8982</td><td>AA</td><td>caud</td><td>/dcs04/lieber/statsgen/mnagle/mwas/full_covariates/AA_caud.csv</td><td>  8982</td><td> 28981</td><td>/dcs04/lieber/statsgen/mnagle/mwas/pheno/caud/out/chr1_AA_8982-28981.rds   </td></tr>\n",
       "\t<tr><td>1</td><td>/dcs04/lieber/statsgen/shizhong/michael/mwas/gwas//libd_chr1.pgen</td><td>/dcs04/lieber/statsgen/shizhong/michael/mwas/pheno/caud/out/chr1_AA.rda</td><td>248918358</td><td>1069461</td><td>2202702</td><td>8982</td><td>AA</td><td>caud</td><td>/dcs04/lieber/statsgen/mnagle/mwas/full_covariates/AA_caud.csv</td><td> 28982</td><td> 48981</td><td>/dcs04/lieber/statsgen/mnagle/mwas/pheno/caud/out/chr1_AA_28982-48981.rds  </td></tr>\n",
       "\t<tr><td>1</td><td>/dcs04/lieber/statsgen/shizhong/michael/mwas/gwas//libd_chr1.pgen</td><td>/dcs04/lieber/statsgen/shizhong/michael/mwas/pheno/caud/out/chr1_AA.rda</td><td>248918358</td><td>1069461</td><td>2202702</td><td>8982</td><td>AA</td><td>caud</td><td>/dcs04/lieber/statsgen/mnagle/mwas/full_covariates/AA_caud.csv</td><td> 48982</td><td> 68981</td><td>/dcs04/lieber/statsgen/mnagle/mwas/pheno/caud/out/chr1_AA_48982-68981.rds  </td></tr>\n",
       "\t<tr><td>1</td><td>/dcs04/lieber/statsgen/shizhong/michael/mwas/gwas//libd_chr1.pgen</td><td>/dcs04/lieber/statsgen/shizhong/michael/mwas/pheno/caud/out/chr1_AA.rda</td><td>248918358</td><td>1069461</td><td>2202702</td><td>8982</td><td>AA</td><td>caud</td><td>/dcs04/lieber/statsgen/mnagle/mwas/full_covariates/AA_caud.csv</td><td> 68982</td><td> 88981</td><td>/dcs04/lieber/statsgen/mnagle/mwas/pheno/caud/out/chr1_AA_68982-88981.rds  </td></tr>\n",
       "\t<tr><td>1</td><td>/dcs04/lieber/statsgen/shizhong/michael/mwas/gwas//libd_chr1.pgen</td><td>/dcs04/lieber/statsgen/shizhong/michael/mwas/pheno/caud/out/chr1_AA.rda</td><td>248918358</td><td>1069461</td><td>2202702</td><td>8982</td><td>AA</td><td>caud</td><td>/dcs04/lieber/statsgen/mnagle/mwas/full_covariates/AA_caud.csv</td><td> 88982</td><td>108981</td><td>/dcs04/lieber/statsgen/mnagle/mwas/pheno/caud/out/chr1_AA_88982-108981.rds </td></tr>\n",
       "\t<tr><td>1</td><td>/dcs04/lieber/statsgen/shizhong/michael/mwas/gwas//libd_chr1.pgen</td><td>/dcs04/lieber/statsgen/shizhong/michael/mwas/pheno/caud/out/chr1_AA.rda</td><td>248918358</td><td>1069461</td><td>2202702</td><td>8982</td><td>AA</td><td>caud</td><td>/dcs04/lieber/statsgen/mnagle/mwas/full_covariates/AA_caud.csv</td><td>108982</td><td>128981</td><td>/dcs04/lieber/statsgen/mnagle/mwas/pheno/caud/out/chr1_AA_108982-128981.rds</td></tr>\n",
       "</tbody>\n",
       "</table>\n"
      ],
      "text/latex": [
       "A data.table: 6 × 13\n",
       "\\begin{tabular}{lllllllllllll}\n",
       " Chr & SNP\\_data & methylation\\_data & last\\_meth\\_value\\_with\\_SNP\\_coverage & first\\_meth\\_value\\_with\\_SNP\\_coverage & last\\_meth\\_index\\_with\\_SNP\\_coverage & first\\_meth\\_index\\_with\\_SNP\\_coverage & population & region & cov\\_file & chunk\\_start & chunk\\_end & modified\\_methylation\\_data\\\\\n",
       " <int> & <chr> & <chr> & <int> & <int> & <int> & <int> & <chr> & <chr> & <chr> & <int> & <dbl> & <chr>\\\\\n",
       "\\hline\n",
       "\t 1 & /dcs04/lieber/statsgen/shizhong/michael/mwas/gwas//libd\\_chr1.pgen & /dcs04/lieber/statsgen/shizhong/michael/mwas/pheno/caud/out/chr1\\_AA.rda & 248918358 & 1069461 & 2202702 & 8982 & AA & caud & /dcs04/lieber/statsgen/mnagle/mwas/full\\_covariates/AA\\_caud.csv &   8982 &  28981 & /dcs04/lieber/statsgen/mnagle/mwas/pheno/caud/out/chr1\\_AA\\_8982-28981.rds   \\\\\n",
       "\t 1 & /dcs04/lieber/statsgen/shizhong/michael/mwas/gwas//libd\\_chr1.pgen & /dcs04/lieber/statsgen/shizhong/michael/mwas/pheno/caud/out/chr1\\_AA.rda & 248918358 & 1069461 & 2202702 & 8982 & AA & caud & /dcs04/lieber/statsgen/mnagle/mwas/full\\_covariates/AA\\_caud.csv &  28982 &  48981 & /dcs04/lieber/statsgen/mnagle/mwas/pheno/caud/out/chr1\\_AA\\_28982-48981.rds  \\\\\n",
       "\t 1 & /dcs04/lieber/statsgen/shizhong/michael/mwas/gwas//libd\\_chr1.pgen & /dcs04/lieber/statsgen/shizhong/michael/mwas/pheno/caud/out/chr1\\_AA.rda & 248918358 & 1069461 & 2202702 & 8982 & AA & caud & /dcs04/lieber/statsgen/mnagle/mwas/full\\_covariates/AA\\_caud.csv &  48982 &  68981 & /dcs04/lieber/statsgen/mnagle/mwas/pheno/caud/out/chr1\\_AA\\_48982-68981.rds  \\\\\n",
       "\t 1 & /dcs04/lieber/statsgen/shizhong/michael/mwas/gwas//libd\\_chr1.pgen & /dcs04/lieber/statsgen/shizhong/michael/mwas/pheno/caud/out/chr1\\_AA.rda & 248918358 & 1069461 & 2202702 & 8982 & AA & caud & /dcs04/lieber/statsgen/mnagle/mwas/full\\_covariates/AA\\_caud.csv &  68982 &  88981 & /dcs04/lieber/statsgen/mnagle/mwas/pheno/caud/out/chr1\\_AA\\_68982-88981.rds  \\\\\n",
       "\t 1 & /dcs04/lieber/statsgen/shizhong/michael/mwas/gwas//libd\\_chr1.pgen & /dcs04/lieber/statsgen/shizhong/michael/mwas/pheno/caud/out/chr1\\_AA.rda & 248918358 & 1069461 & 2202702 & 8982 & AA & caud & /dcs04/lieber/statsgen/mnagle/mwas/full\\_covariates/AA\\_caud.csv &  88982 & 108981 & /dcs04/lieber/statsgen/mnagle/mwas/pheno/caud/out/chr1\\_AA\\_88982-108981.rds \\\\\n",
       "\t 1 & /dcs04/lieber/statsgen/shizhong/michael/mwas/gwas//libd\\_chr1.pgen & /dcs04/lieber/statsgen/shizhong/michael/mwas/pheno/caud/out/chr1\\_AA.rda & 248918358 & 1069461 & 2202702 & 8982 & AA & caud & /dcs04/lieber/statsgen/mnagle/mwas/full\\_covariates/AA\\_caud.csv & 108982 & 128981 & /dcs04/lieber/statsgen/mnagle/mwas/pheno/caud/out/chr1\\_AA\\_108982-128981.rds\\\\\n",
       "\\end{tabular}\n"
      ],
      "text/markdown": [
       "\n",
       "A data.table: 6 × 13\n",
       "\n",
       "| Chr &lt;int&gt; | SNP_data &lt;chr&gt; | methylation_data &lt;chr&gt; | last_meth_value_with_SNP_coverage &lt;int&gt; | first_meth_value_with_SNP_coverage &lt;int&gt; | last_meth_index_with_SNP_coverage &lt;int&gt; | first_meth_index_with_SNP_coverage &lt;int&gt; | population &lt;chr&gt; | region &lt;chr&gt; | cov_file &lt;chr&gt; | chunk_start &lt;int&gt; | chunk_end &lt;dbl&gt; | modified_methylation_data &lt;chr&gt; |\n",
       "|---|---|---|---|---|---|---|---|---|---|---|---|---|\n",
       "| 1 | /dcs04/lieber/statsgen/shizhong/michael/mwas/gwas//libd_chr1.pgen | /dcs04/lieber/statsgen/shizhong/michael/mwas/pheno/caud/out/chr1_AA.rda | 248918358 | 1069461 | 2202702 | 8982 | AA | caud | /dcs04/lieber/statsgen/mnagle/mwas/full_covariates/AA_caud.csv |   8982 |  28981 | /dcs04/lieber/statsgen/mnagle/mwas/pheno/caud/out/chr1_AA_8982-28981.rds    |\n",
       "| 1 | /dcs04/lieber/statsgen/shizhong/michael/mwas/gwas//libd_chr1.pgen | /dcs04/lieber/statsgen/shizhong/michael/mwas/pheno/caud/out/chr1_AA.rda | 248918358 | 1069461 | 2202702 | 8982 | AA | caud | /dcs04/lieber/statsgen/mnagle/mwas/full_covariates/AA_caud.csv |  28982 |  48981 | /dcs04/lieber/statsgen/mnagle/mwas/pheno/caud/out/chr1_AA_28982-48981.rds   |\n",
       "| 1 | /dcs04/lieber/statsgen/shizhong/michael/mwas/gwas//libd_chr1.pgen | /dcs04/lieber/statsgen/shizhong/michael/mwas/pheno/caud/out/chr1_AA.rda | 248918358 | 1069461 | 2202702 | 8982 | AA | caud | /dcs04/lieber/statsgen/mnagle/mwas/full_covariates/AA_caud.csv |  48982 |  68981 | /dcs04/lieber/statsgen/mnagle/mwas/pheno/caud/out/chr1_AA_48982-68981.rds   |\n",
       "| 1 | /dcs04/lieber/statsgen/shizhong/michael/mwas/gwas//libd_chr1.pgen | /dcs04/lieber/statsgen/shizhong/michael/mwas/pheno/caud/out/chr1_AA.rda | 248918358 | 1069461 | 2202702 | 8982 | AA | caud | /dcs04/lieber/statsgen/mnagle/mwas/full_covariates/AA_caud.csv |  68982 |  88981 | /dcs04/lieber/statsgen/mnagle/mwas/pheno/caud/out/chr1_AA_68982-88981.rds   |\n",
       "| 1 | /dcs04/lieber/statsgen/shizhong/michael/mwas/gwas//libd_chr1.pgen | /dcs04/lieber/statsgen/shizhong/michael/mwas/pheno/caud/out/chr1_AA.rda | 248918358 | 1069461 | 2202702 | 8982 | AA | caud | /dcs04/lieber/statsgen/mnagle/mwas/full_covariates/AA_caud.csv |  88982 | 108981 | /dcs04/lieber/statsgen/mnagle/mwas/pheno/caud/out/chr1_AA_88982-108981.rds  |\n",
       "| 1 | /dcs04/lieber/statsgen/shizhong/michael/mwas/gwas//libd_chr1.pgen | /dcs04/lieber/statsgen/shizhong/michael/mwas/pheno/caud/out/chr1_AA.rda | 248918358 | 1069461 | 2202702 | 8982 | AA | caud | /dcs04/lieber/statsgen/mnagle/mwas/full_covariates/AA_caud.csv | 108982 | 128981 | /dcs04/lieber/statsgen/mnagle/mwas/pheno/caud/out/chr1_AA_108982-128981.rds |\n",
       "\n"
      ],
      "text/plain": [
       "  Chr SNP_data                                                         \n",
       "1 1   /dcs04/lieber/statsgen/shizhong/michael/mwas/gwas//libd_chr1.pgen\n",
       "2 1   /dcs04/lieber/statsgen/shizhong/michael/mwas/gwas//libd_chr1.pgen\n",
       "3 1   /dcs04/lieber/statsgen/shizhong/michael/mwas/gwas//libd_chr1.pgen\n",
       "4 1   /dcs04/lieber/statsgen/shizhong/michael/mwas/gwas//libd_chr1.pgen\n",
       "5 1   /dcs04/lieber/statsgen/shizhong/michael/mwas/gwas//libd_chr1.pgen\n",
       "6 1   /dcs04/lieber/statsgen/shizhong/michael/mwas/gwas//libd_chr1.pgen\n",
       "  methylation_data                                                       \n",
       "1 /dcs04/lieber/statsgen/shizhong/michael/mwas/pheno/caud/out/chr1_AA.rda\n",
       "2 /dcs04/lieber/statsgen/shizhong/michael/mwas/pheno/caud/out/chr1_AA.rda\n",
       "3 /dcs04/lieber/statsgen/shizhong/michael/mwas/pheno/caud/out/chr1_AA.rda\n",
       "4 /dcs04/lieber/statsgen/shizhong/michael/mwas/pheno/caud/out/chr1_AA.rda\n",
       "5 /dcs04/lieber/statsgen/shizhong/michael/mwas/pheno/caud/out/chr1_AA.rda\n",
       "6 /dcs04/lieber/statsgen/shizhong/michael/mwas/pheno/caud/out/chr1_AA.rda\n",
       "  last_meth_value_with_SNP_coverage first_meth_value_with_SNP_coverage\n",
       "1 248918358                         1069461                           \n",
       "2 248918358                         1069461                           \n",
       "3 248918358                         1069461                           \n",
       "4 248918358                         1069461                           \n",
       "5 248918358                         1069461                           \n",
       "6 248918358                         1069461                           \n",
       "  last_meth_index_with_SNP_coverage first_meth_index_with_SNP_coverage\n",
       "1 2202702                           8982                              \n",
       "2 2202702                           8982                              \n",
       "3 2202702                           8982                              \n",
       "4 2202702                           8982                              \n",
       "5 2202702                           8982                              \n",
       "6 2202702                           8982                              \n",
       "  population region\n",
       "1 AA         caud  \n",
       "2 AA         caud  \n",
       "3 AA         caud  \n",
       "4 AA         caud  \n",
       "5 AA         caud  \n",
       "6 AA         caud  \n",
       "  cov_file                                                       chunk_start\n",
       "1 /dcs04/lieber/statsgen/mnagle/mwas/full_covariates/AA_caud.csv   8982     \n",
       "2 /dcs04/lieber/statsgen/mnagle/mwas/full_covariates/AA_caud.csv  28982     \n",
       "3 /dcs04/lieber/statsgen/mnagle/mwas/full_covariates/AA_caud.csv  48982     \n",
       "4 /dcs04/lieber/statsgen/mnagle/mwas/full_covariates/AA_caud.csv  68982     \n",
       "5 /dcs04/lieber/statsgen/mnagle/mwas/full_covariates/AA_caud.csv  88982     \n",
       "6 /dcs04/lieber/statsgen/mnagle/mwas/full_covariates/AA_caud.csv 108982     \n",
       "  chunk_end\n",
       "1  28981   \n",
       "2  48981   \n",
       "3  68981   \n",
       "4  88981   \n",
       "5 108981   \n",
       "6 128981   \n",
       "  modified_methylation_data                                                  \n",
       "1 /dcs04/lieber/statsgen/mnagle/mwas/pheno/caud/out/chr1_AA_8982-28981.rds   \n",
       "2 /dcs04/lieber/statsgen/mnagle/mwas/pheno/caud/out/chr1_AA_28982-48981.rds  \n",
       "3 /dcs04/lieber/statsgen/mnagle/mwas/pheno/caud/out/chr1_AA_48982-68981.rds  \n",
       "4 /dcs04/lieber/statsgen/mnagle/mwas/pheno/caud/out/chr1_AA_68982-88981.rds  \n",
       "5 /dcs04/lieber/statsgen/mnagle/mwas/pheno/caud/out/chr1_AA_88982-108981.rds \n",
       "6 /dcs04/lieber/statsgen/mnagle/mwas/pheno/caud/out/chr1_AA_108982-128981.rds"
      ]
     },
     "metadata": {},
     "output_type": "display_data"
    }
   ],
   "source": [
    "head(matched_df)"
   ]
  },
  {
   "cell_type": "code",
   "execution_count": 11,
   "id": "9ba70c8a-b2ce-4b52-a948-40cc8e4583a9",
   "metadata": {},
   "outputs": [],
   "source": [
    "matched_df$SNP_data <- gsub(\"/expanse/lustre/projects/jhu152/naglemi/mwas/gwas/\", \"/dcs04/lieber/statsgen/shizhong/michael/mwas/gwas/\", matched_df$SNP_data)\n",
    "matched_df$methylation_data <- gsub(\"/expanse/lustre/projects/jhu152/naglemi/mwas/pheno/\", \"/dcs04/lieber/statsgen/shizhong/michael/mwas/pheno/\", matched_df$methylation_data)\n",
    "matched_df$cov_file <- gsub(\"/expanse/lustre/projects/jhu152/naglemi/mwas/full_covariates/\", \"/dcs04/lieber/statsgen/mnagle/mwas/full_covariates/\", matched_df$cov_file)"
   ]
  },
  {
   "cell_type": "code",
   "execution_count": 12,
   "id": "f71aeaa2-8c2e-40c0-8e7a-7fa04ce321da",
   "metadata": {},
   "outputs": [
    {
     "data": {
      "text/html": [
       "<table class=\"dataframe\">\n",
       "<caption>A data.table: 6 × 13</caption>\n",
       "<thead>\n",
       "\t<tr><th scope=col>Chr</th><th scope=col>SNP_data</th><th scope=col>methylation_data</th><th scope=col>last_meth_value_with_SNP_coverage</th><th scope=col>first_meth_value_with_SNP_coverage</th><th scope=col>last_meth_index_with_SNP_coverage</th><th scope=col>first_meth_index_with_SNP_coverage</th><th scope=col>population</th><th scope=col>region</th><th scope=col>cov_file</th><th scope=col>chunk_start</th><th scope=col>chunk_end</th><th scope=col>modified_methylation_data</th></tr>\n",
       "\t<tr><th scope=col>&lt;int&gt;</th><th scope=col>&lt;chr&gt;</th><th scope=col>&lt;chr&gt;</th><th scope=col>&lt;int&gt;</th><th scope=col>&lt;int&gt;</th><th scope=col>&lt;int&gt;</th><th scope=col>&lt;int&gt;</th><th scope=col>&lt;chr&gt;</th><th scope=col>&lt;chr&gt;</th><th scope=col>&lt;chr&gt;</th><th scope=col>&lt;int&gt;</th><th scope=col>&lt;dbl&gt;</th><th scope=col>&lt;chr&gt;</th></tr>\n",
       "</thead>\n",
       "<tbody>\n",
       "\t<tr><td>1</td><td>/dcs04/lieber/statsgen/shizhong/michael/mwas/gwas//libd_chr1.pgen</td><td>/dcs04/lieber/statsgen/shizhong/michael/mwas/pheno/caud/out/chr1_AA.rda</td><td>248918358</td><td>1069461</td><td>2202702</td><td>8982</td><td>AA</td><td>caud</td><td>/dcs04/lieber/statsgen/mnagle/mwas/full_covariates/AA_caud.csv</td><td>  8982</td><td> 28981</td><td>/dcs04/lieber/statsgen/mnagle/mwas/pheno/caud/out/chr1_AA_8982-28981.rds   </td></tr>\n",
       "\t<tr><td>1</td><td>/dcs04/lieber/statsgen/shizhong/michael/mwas/gwas//libd_chr1.pgen</td><td>/dcs04/lieber/statsgen/shizhong/michael/mwas/pheno/caud/out/chr1_AA.rda</td><td>248918358</td><td>1069461</td><td>2202702</td><td>8982</td><td>AA</td><td>caud</td><td>/dcs04/lieber/statsgen/mnagle/mwas/full_covariates/AA_caud.csv</td><td> 28982</td><td> 48981</td><td>/dcs04/lieber/statsgen/mnagle/mwas/pheno/caud/out/chr1_AA_28982-48981.rds  </td></tr>\n",
       "\t<tr><td>1</td><td>/dcs04/lieber/statsgen/shizhong/michael/mwas/gwas//libd_chr1.pgen</td><td>/dcs04/lieber/statsgen/shizhong/michael/mwas/pheno/caud/out/chr1_AA.rda</td><td>248918358</td><td>1069461</td><td>2202702</td><td>8982</td><td>AA</td><td>caud</td><td>/dcs04/lieber/statsgen/mnagle/mwas/full_covariates/AA_caud.csv</td><td> 48982</td><td> 68981</td><td>/dcs04/lieber/statsgen/mnagle/mwas/pheno/caud/out/chr1_AA_48982-68981.rds  </td></tr>\n",
       "\t<tr><td>1</td><td>/dcs04/lieber/statsgen/shizhong/michael/mwas/gwas//libd_chr1.pgen</td><td>/dcs04/lieber/statsgen/shizhong/michael/mwas/pheno/caud/out/chr1_AA.rda</td><td>248918358</td><td>1069461</td><td>2202702</td><td>8982</td><td>AA</td><td>caud</td><td>/dcs04/lieber/statsgen/mnagle/mwas/full_covariates/AA_caud.csv</td><td> 68982</td><td> 88981</td><td>/dcs04/lieber/statsgen/mnagle/mwas/pheno/caud/out/chr1_AA_68982-88981.rds  </td></tr>\n",
       "\t<tr><td>1</td><td>/dcs04/lieber/statsgen/shizhong/michael/mwas/gwas//libd_chr1.pgen</td><td>/dcs04/lieber/statsgen/shizhong/michael/mwas/pheno/caud/out/chr1_AA.rda</td><td>248918358</td><td>1069461</td><td>2202702</td><td>8982</td><td>AA</td><td>caud</td><td>/dcs04/lieber/statsgen/mnagle/mwas/full_covariates/AA_caud.csv</td><td> 88982</td><td>108981</td><td>/dcs04/lieber/statsgen/mnagle/mwas/pheno/caud/out/chr1_AA_88982-108981.rds </td></tr>\n",
       "\t<tr><td>1</td><td>/dcs04/lieber/statsgen/shizhong/michael/mwas/gwas//libd_chr1.pgen</td><td>/dcs04/lieber/statsgen/shizhong/michael/mwas/pheno/caud/out/chr1_AA.rda</td><td>248918358</td><td>1069461</td><td>2202702</td><td>8982</td><td>AA</td><td>caud</td><td>/dcs04/lieber/statsgen/mnagle/mwas/full_covariates/AA_caud.csv</td><td>108982</td><td>128981</td><td>/dcs04/lieber/statsgen/mnagle/mwas/pheno/caud/out/chr1_AA_108982-128981.rds</td></tr>\n",
       "</tbody>\n",
       "</table>\n"
      ],
      "text/latex": [
       "A data.table: 6 × 13\n",
       "\\begin{tabular}{lllllllllllll}\n",
       " Chr & SNP\\_data & methylation\\_data & last\\_meth\\_value\\_with\\_SNP\\_coverage & first\\_meth\\_value\\_with\\_SNP\\_coverage & last\\_meth\\_index\\_with\\_SNP\\_coverage & first\\_meth\\_index\\_with\\_SNP\\_coverage & population & region & cov\\_file & chunk\\_start & chunk\\_end & modified\\_methylation\\_data\\\\\n",
       " <int> & <chr> & <chr> & <int> & <int> & <int> & <int> & <chr> & <chr> & <chr> & <int> & <dbl> & <chr>\\\\\n",
       "\\hline\n",
       "\t 1 & /dcs04/lieber/statsgen/shizhong/michael/mwas/gwas//libd\\_chr1.pgen & /dcs04/lieber/statsgen/shizhong/michael/mwas/pheno/caud/out/chr1\\_AA.rda & 248918358 & 1069461 & 2202702 & 8982 & AA & caud & /dcs04/lieber/statsgen/mnagle/mwas/full\\_covariates/AA\\_caud.csv &   8982 &  28981 & /dcs04/lieber/statsgen/mnagle/mwas/pheno/caud/out/chr1\\_AA\\_8982-28981.rds   \\\\\n",
       "\t 1 & /dcs04/lieber/statsgen/shizhong/michael/mwas/gwas//libd\\_chr1.pgen & /dcs04/lieber/statsgen/shizhong/michael/mwas/pheno/caud/out/chr1\\_AA.rda & 248918358 & 1069461 & 2202702 & 8982 & AA & caud & /dcs04/lieber/statsgen/mnagle/mwas/full\\_covariates/AA\\_caud.csv &  28982 &  48981 & /dcs04/lieber/statsgen/mnagle/mwas/pheno/caud/out/chr1\\_AA\\_28982-48981.rds  \\\\\n",
       "\t 1 & /dcs04/lieber/statsgen/shizhong/michael/mwas/gwas//libd\\_chr1.pgen & /dcs04/lieber/statsgen/shizhong/michael/mwas/pheno/caud/out/chr1\\_AA.rda & 248918358 & 1069461 & 2202702 & 8982 & AA & caud & /dcs04/lieber/statsgen/mnagle/mwas/full\\_covariates/AA\\_caud.csv &  48982 &  68981 & /dcs04/lieber/statsgen/mnagle/mwas/pheno/caud/out/chr1\\_AA\\_48982-68981.rds  \\\\\n",
       "\t 1 & /dcs04/lieber/statsgen/shizhong/michael/mwas/gwas//libd\\_chr1.pgen & /dcs04/lieber/statsgen/shizhong/michael/mwas/pheno/caud/out/chr1\\_AA.rda & 248918358 & 1069461 & 2202702 & 8982 & AA & caud & /dcs04/lieber/statsgen/mnagle/mwas/full\\_covariates/AA\\_caud.csv &  68982 &  88981 & /dcs04/lieber/statsgen/mnagle/mwas/pheno/caud/out/chr1\\_AA\\_68982-88981.rds  \\\\\n",
       "\t 1 & /dcs04/lieber/statsgen/shizhong/michael/mwas/gwas//libd\\_chr1.pgen & /dcs04/lieber/statsgen/shizhong/michael/mwas/pheno/caud/out/chr1\\_AA.rda & 248918358 & 1069461 & 2202702 & 8982 & AA & caud & /dcs04/lieber/statsgen/mnagle/mwas/full\\_covariates/AA\\_caud.csv &  88982 & 108981 & /dcs04/lieber/statsgen/mnagle/mwas/pheno/caud/out/chr1\\_AA\\_88982-108981.rds \\\\\n",
       "\t 1 & /dcs04/lieber/statsgen/shizhong/michael/mwas/gwas//libd\\_chr1.pgen & /dcs04/lieber/statsgen/shizhong/michael/mwas/pheno/caud/out/chr1\\_AA.rda & 248918358 & 1069461 & 2202702 & 8982 & AA & caud & /dcs04/lieber/statsgen/mnagle/mwas/full\\_covariates/AA\\_caud.csv & 108982 & 128981 & /dcs04/lieber/statsgen/mnagle/mwas/pheno/caud/out/chr1\\_AA\\_108982-128981.rds\\\\\n",
       "\\end{tabular}\n"
      ],
      "text/markdown": [
       "\n",
       "A data.table: 6 × 13\n",
       "\n",
       "| Chr &lt;int&gt; | SNP_data &lt;chr&gt; | methylation_data &lt;chr&gt; | last_meth_value_with_SNP_coverage &lt;int&gt; | first_meth_value_with_SNP_coverage &lt;int&gt; | last_meth_index_with_SNP_coverage &lt;int&gt; | first_meth_index_with_SNP_coverage &lt;int&gt; | population &lt;chr&gt; | region &lt;chr&gt; | cov_file &lt;chr&gt; | chunk_start &lt;int&gt; | chunk_end &lt;dbl&gt; | modified_methylation_data &lt;chr&gt; |\n",
       "|---|---|---|---|---|---|---|---|---|---|---|---|---|\n",
       "| 1 | /dcs04/lieber/statsgen/shizhong/michael/mwas/gwas//libd_chr1.pgen | /dcs04/lieber/statsgen/shizhong/michael/mwas/pheno/caud/out/chr1_AA.rda | 248918358 | 1069461 | 2202702 | 8982 | AA | caud | /dcs04/lieber/statsgen/mnagle/mwas/full_covariates/AA_caud.csv |   8982 |  28981 | /dcs04/lieber/statsgen/mnagle/mwas/pheno/caud/out/chr1_AA_8982-28981.rds    |\n",
       "| 1 | /dcs04/lieber/statsgen/shizhong/michael/mwas/gwas//libd_chr1.pgen | /dcs04/lieber/statsgen/shizhong/michael/mwas/pheno/caud/out/chr1_AA.rda | 248918358 | 1069461 | 2202702 | 8982 | AA | caud | /dcs04/lieber/statsgen/mnagle/mwas/full_covariates/AA_caud.csv |  28982 |  48981 | /dcs04/lieber/statsgen/mnagle/mwas/pheno/caud/out/chr1_AA_28982-48981.rds   |\n",
       "| 1 | /dcs04/lieber/statsgen/shizhong/michael/mwas/gwas//libd_chr1.pgen | /dcs04/lieber/statsgen/shizhong/michael/mwas/pheno/caud/out/chr1_AA.rda | 248918358 | 1069461 | 2202702 | 8982 | AA | caud | /dcs04/lieber/statsgen/mnagle/mwas/full_covariates/AA_caud.csv |  48982 |  68981 | /dcs04/lieber/statsgen/mnagle/mwas/pheno/caud/out/chr1_AA_48982-68981.rds   |\n",
       "| 1 | /dcs04/lieber/statsgen/shizhong/michael/mwas/gwas//libd_chr1.pgen | /dcs04/lieber/statsgen/shizhong/michael/mwas/pheno/caud/out/chr1_AA.rda | 248918358 | 1069461 | 2202702 | 8982 | AA | caud | /dcs04/lieber/statsgen/mnagle/mwas/full_covariates/AA_caud.csv |  68982 |  88981 | /dcs04/lieber/statsgen/mnagle/mwas/pheno/caud/out/chr1_AA_68982-88981.rds   |\n",
       "| 1 | /dcs04/lieber/statsgen/shizhong/michael/mwas/gwas//libd_chr1.pgen | /dcs04/lieber/statsgen/shizhong/michael/mwas/pheno/caud/out/chr1_AA.rda | 248918358 | 1069461 | 2202702 | 8982 | AA | caud | /dcs04/lieber/statsgen/mnagle/mwas/full_covariates/AA_caud.csv |  88982 | 108981 | /dcs04/lieber/statsgen/mnagle/mwas/pheno/caud/out/chr1_AA_88982-108981.rds  |\n",
       "| 1 | /dcs04/lieber/statsgen/shizhong/michael/mwas/gwas//libd_chr1.pgen | /dcs04/lieber/statsgen/shizhong/michael/mwas/pheno/caud/out/chr1_AA.rda | 248918358 | 1069461 | 2202702 | 8982 | AA | caud | /dcs04/lieber/statsgen/mnagle/mwas/full_covariates/AA_caud.csv | 108982 | 128981 | /dcs04/lieber/statsgen/mnagle/mwas/pheno/caud/out/chr1_AA_108982-128981.rds |\n",
       "\n"
      ],
      "text/plain": [
       "  Chr SNP_data                                                         \n",
       "1 1   /dcs04/lieber/statsgen/shizhong/michael/mwas/gwas//libd_chr1.pgen\n",
       "2 1   /dcs04/lieber/statsgen/shizhong/michael/mwas/gwas//libd_chr1.pgen\n",
       "3 1   /dcs04/lieber/statsgen/shizhong/michael/mwas/gwas//libd_chr1.pgen\n",
       "4 1   /dcs04/lieber/statsgen/shizhong/michael/mwas/gwas//libd_chr1.pgen\n",
       "5 1   /dcs04/lieber/statsgen/shizhong/michael/mwas/gwas//libd_chr1.pgen\n",
       "6 1   /dcs04/lieber/statsgen/shizhong/michael/mwas/gwas//libd_chr1.pgen\n",
       "  methylation_data                                                       \n",
       "1 /dcs04/lieber/statsgen/shizhong/michael/mwas/pheno/caud/out/chr1_AA.rda\n",
       "2 /dcs04/lieber/statsgen/shizhong/michael/mwas/pheno/caud/out/chr1_AA.rda\n",
       "3 /dcs04/lieber/statsgen/shizhong/michael/mwas/pheno/caud/out/chr1_AA.rda\n",
       "4 /dcs04/lieber/statsgen/shizhong/michael/mwas/pheno/caud/out/chr1_AA.rda\n",
       "5 /dcs04/lieber/statsgen/shizhong/michael/mwas/pheno/caud/out/chr1_AA.rda\n",
       "6 /dcs04/lieber/statsgen/shizhong/michael/mwas/pheno/caud/out/chr1_AA.rda\n",
       "  last_meth_value_with_SNP_coverage first_meth_value_with_SNP_coverage\n",
       "1 248918358                         1069461                           \n",
       "2 248918358                         1069461                           \n",
       "3 248918358                         1069461                           \n",
       "4 248918358                         1069461                           \n",
       "5 248918358                         1069461                           \n",
       "6 248918358                         1069461                           \n",
       "  last_meth_index_with_SNP_coverage first_meth_index_with_SNP_coverage\n",
       "1 2202702                           8982                              \n",
       "2 2202702                           8982                              \n",
       "3 2202702                           8982                              \n",
       "4 2202702                           8982                              \n",
       "5 2202702                           8982                              \n",
       "6 2202702                           8982                              \n",
       "  population region\n",
       "1 AA         caud  \n",
       "2 AA         caud  \n",
       "3 AA         caud  \n",
       "4 AA         caud  \n",
       "5 AA         caud  \n",
       "6 AA         caud  \n",
       "  cov_file                                                       chunk_start\n",
       "1 /dcs04/lieber/statsgen/mnagle/mwas/full_covariates/AA_caud.csv   8982     \n",
       "2 /dcs04/lieber/statsgen/mnagle/mwas/full_covariates/AA_caud.csv  28982     \n",
       "3 /dcs04/lieber/statsgen/mnagle/mwas/full_covariates/AA_caud.csv  48982     \n",
       "4 /dcs04/lieber/statsgen/mnagle/mwas/full_covariates/AA_caud.csv  68982     \n",
       "5 /dcs04/lieber/statsgen/mnagle/mwas/full_covariates/AA_caud.csv  88982     \n",
       "6 /dcs04/lieber/statsgen/mnagle/mwas/full_covariates/AA_caud.csv 108982     \n",
       "  chunk_end\n",
       "1  28981   \n",
       "2  48981   \n",
       "3  68981   \n",
       "4  88981   \n",
       "5 108981   \n",
       "6 128981   \n",
       "  modified_methylation_data                                                  \n",
       "1 /dcs04/lieber/statsgen/mnagle/mwas/pheno/caud/out/chr1_AA_8982-28981.rds   \n",
       "2 /dcs04/lieber/statsgen/mnagle/mwas/pheno/caud/out/chr1_AA_28982-48981.rds  \n",
       "3 /dcs04/lieber/statsgen/mnagle/mwas/pheno/caud/out/chr1_AA_48982-68981.rds  \n",
       "4 /dcs04/lieber/statsgen/mnagle/mwas/pheno/caud/out/chr1_AA_68982-88981.rds  \n",
       "5 /dcs04/lieber/statsgen/mnagle/mwas/pheno/caud/out/chr1_AA_88982-108981.rds \n",
       "6 /dcs04/lieber/statsgen/mnagle/mwas/pheno/caud/out/chr1_AA_108982-128981.rds"
      ]
     },
     "metadata": {},
     "output_type": "display_data"
    }
   ],
   "source": [
    "head(matched_df)"
   ]
  },
  {
   "cell_type": "code",
   "execution_count": 13,
   "id": "313f8500-1044-4065-aa79-85150d7b2ef4",
   "metadata": {},
   "outputs": [
    {
     "data": {
      "text/html": [
       "<style>\n",
       ".list-inline {list-style: none; margin:0; padding: 0}\n",
       ".list-inline>li {display: inline-block}\n",
       ".list-inline>li:not(:last-child)::after {content: \"\\00b7\"; padding: 0 .5ex}\n",
       "</style>\n",
       "<ol class=list-inline><li>11457</li><li>13</li></ol>\n"
      ],
      "text/latex": [
       "\\begin{enumerate*}\n",
       "\\item 11457\n",
       "\\item 13\n",
       "\\end{enumerate*}\n"
      ],
      "text/markdown": [
       "1. 11457\n",
       "2. 13\n",
       "\n",
       "\n"
      ],
      "text/plain": [
       "[1] 11457    13"
      ]
     },
     "metadata": {},
     "output_type": "display_data"
    }
   ],
   "source": [
    "dim(matched_df)"
   ]
  },
  {
   "cell_type": "code",
   "execution_count": 14,
   "id": "9b1b7650-5cef-448f-bcff-1d16184f0837",
   "metadata": {},
   "outputs": [
    {
     "data": {
      "text/html": [
       "TRUE"
      ],
      "text/latex": [
       "TRUE"
      ],
      "text/markdown": [
       "TRUE"
      ],
      "text/plain": [
       "[1] TRUE"
      ]
     },
     "metadata": {},
     "output_type": "display_data"
    },
    {
     "data": {
      "text/html": [
       "TRUE"
      ],
      "text/latex": [
       "TRUE"
      ],
      "text/markdown": [
       "TRUE"
      ],
      "text/plain": [
       "[1] TRUE"
      ]
     },
     "metadata": {},
     "output_type": "display_data"
    },
    {
     "data": {
      "text/html": [
       "TRUE"
      ],
      "text/latex": [
       "TRUE"
      ],
      "text/markdown": [
       "TRUE"
      ],
      "text/plain": [
       "[1] TRUE"
      ]
     },
     "metadata": {},
     "output_type": "display_data"
    }
   ],
   "source": [
    "file.exists(matched_df$SNP_data[1])\n",
    "file.exists(matched_df$methylation_data[1])\n",
    "file.exists(matched_df$cov_file[1])"
   ]
  },
  {
   "cell_type": "code",
   "execution_count": null,
   "id": "d4a5f1cf-ca16-4f00-9ded-83fc443b557d",
   "metadata": {},
   "outputs": [],
   "source": []
  },
  {
   "cell_type": "code",
   "execution_count": null,
   "id": "c1c44109-9dae-47f8-84a8-4e56647c54a7",
   "metadata": {},
   "outputs": [],
   "source": []
  },
  {
   "cell_type": "code",
   "execution_count": null,
   "id": "bb1308f1-f068-4f2c-8097-cca4fdc14c2b",
   "metadata": {
    "tags": []
   },
   "outputs": [
    {
     "name": "stdout",
     "output_type": "stream",
     "text": [
      "[1] 1\n",
      "[1] \"Checking for files in:  ./output_chr1_a2_caud/\"\n",
      "[1] \"Using pattern:  libd_chr1-chr1_AA-8982-28981-dynamic-1corestotal-allcorepera\"\n",
      "[1] \"Found files with specific pattern: \"\n",
      "[1] \"./output_chr1_a2_caud//libd_chr1-chr1_AA-libd_chr1-chr1_AA-8982-28981-dynamic-1corestotal-allcorepera-20240415-104419.rds\"\n"
     ]
    },
    {
     "name": "stderr",
     "output_type": "stream",
     "text": [
      "File with tag libd_chr1-chr1_AA-8982-28981-dynamic-1corestotal-allcorepera already exists. Skipping...\n",
      "\n"
     ]
    },
    {
     "name": "stdout",
     "output_type": "stream",
     "text": [
      "[1] 2\n",
      "[1] \"Checking for files in:  ./output_chr1_a2_caud/\"\n",
      "[1] \"Using pattern:  libd_chr1-chr1_AA-28982-48981-dynamic-1corestotal-allcorepera\"\n",
      "[1] \"Found files with specific pattern: \"\n",
      "[1] \"./output_chr1_a2_caud//libd_chr1-chr1_AA-libd_chr1-chr1_AA-28982-48981-dynamic-1corestotal-allcorepera-20240415-104820.rds\"\n"
     ]
    },
    {
     "name": "stderr",
     "output_type": "stream",
     "text": [
      "File with tag libd_chr1-chr1_AA-28982-48981-dynamic-1corestotal-allcorepera already exists. Skipping...\n",
      "\n"
     ]
    },
    {
     "name": "stdout",
     "output_type": "stream",
     "text": [
      "[1] 3\n",
      "[1] \"Checking for files in:  ./output_chr1_a2_caud/\"\n",
      "[1] \"Using pattern:  libd_chr1-chr1_AA-48982-68981-dynamic-1corestotal-allcorepera\"\n",
      "[1] \"Found files with specific pattern: \"\n",
      "[1] \"./output_chr1_a2_caud//libd_chr1-chr1_AA-libd_chr1-chr1_AA-48982-68981-dynamic-1corestotal-allcorepera-20240415-105220.rds\"\n"
     ]
    },
    {
     "name": "stderr",
     "output_type": "stream",
     "text": [
      "File with tag libd_chr1-chr1_AA-48982-68981-dynamic-1corestotal-allcorepera already exists. Skipping...\n",
      "\n"
     ]
    },
    {
     "name": "stdout",
     "output_type": "stream",
     "text": [
      "[1] 4\n",
      "[1] \"Checking for files in:  ./output_chr1_a2_caud/\"\n",
      "[1] \"Using pattern:  libd_chr1-chr1_AA-68982-88981-dynamic-1corestotal-allcorepera\"\n",
      "[1] \"Found files with specific pattern: \"\n",
      "[1] \"./output_chr1_a2_caud//libd_chr1-chr1_AA-libd_chr1-chr1_AA-68982-88981-dynamic-1corestotal-allcorepera-20240415-105620.rds\"\n"
     ]
    },
    {
     "name": "stderr",
     "output_type": "stream",
     "text": [
      "File with tag libd_chr1-chr1_AA-68982-88981-dynamic-1corestotal-allcorepera already exists. Skipping...\n",
      "\n"
     ]
    },
    {
     "name": "stdout",
     "output_type": "stream",
     "text": [
      "[1] 5\n",
      "[1] \"Checking for files in:  ./output_chr1_a2_caud/\"\n",
      "[1] \"Using pattern:  libd_chr1-chr1_AA-88982-108981-dynamic-1corestotal-allcorepera\"\n",
      "[1] \"Found files with specific pattern: \"\n",
      "[1] \"./output_chr1_a2_caud//libd_chr1-chr1_AA-libd_chr1-chr1_AA-88982-108981-dynamic-1corestotal-allcorepera-20240416-154123.rds\"\n"
     ]
    },
    {
     "name": "stderr",
     "output_type": "stream",
     "text": [
      "File with tag libd_chr1-chr1_AA-88982-108981-dynamic-1corestotal-allcorepera already exists. Skipping...\n",
      "\n"
     ]
    },
    {
     "name": "stdout",
     "output_type": "stream",
     "text": [
      "[1] 6\n",
      "[1] \"Checking for files in:  ./output_chr1_a2_caud/\"\n",
      "[1] \"Using pattern:  libd_chr1-chr1_AA-108982-128981-dynamic-1corestotal-allcorepera\"\n",
      "[1] \"Found files with specific pattern: \"\n",
      "[1] \"./output_chr1_a2_caud//libd_chr1-chr1_AA-libd_chr1-chr1_AA-108982-128981-dynamic-1corestotal-allcorepera-20240416-154224.rds\"\n"
     ]
    },
    {
     "name": "stderr",
     "output_type": "stream",
     "text": [
      "File with tag libd_chr1-chr1_AA-108982-128981-dynamic-1corestotal-allcorepera already exists. Skipping...\n",
      "\n"
     ]
    },
    {
     "name": "stdout",
     "output_type": "stream",
     "text": [
      "[1] 7\n",
      "[1] \"Checking for files in:  ./output_chr1_a2_caud/\"\n",
      "[1] \"Using pattern:  libd_chr1-chr1_AA-128982-148981-dynamic-1corestotal-allcorepera\"\n",
      "[1] \"Found files with specific pattern: \"\n",
      "[1] \"./output_chr1_a2_caud//libd_chr1-chr1_AA-libd_chr1-chr1_AA-128982-148981-dynamic-1corestotal-allcorepera-20240415-110821.rds\"\n"
     ]
    },
    {
     "name": "stderr",
     "output_type": "stream",
     "text": [
      "File with tag libd_chr1-chr1_AA-128982-148981-dynamic-1corestotal-allcorepera already exists. Skipping...\n",
      "\n"
     ]
    },
    {
     "name": "stdout",
     "output_type": "stream",
     "text": [
      "[1] 8\n",
      "[1] \"Checking for files in:  ./output_chr1_a2_caud/\"\n",
      "[1] \"Using pattern:  libd_chr1-chr1_AA-148982-168981-dynamic-1corestotal-allcorepera\"\n",
      "[1] \"Found files with specific pattern: \"\n",
      "[1] \"./output_chr1_a2_caud//libd_chr1-chr1_AA-libd_chr1-chr1_AA-148982-168981-dynamic-1corestotal-allcorepera-20240415-111221.rds\"\n"
     ]
    },
    {
     "name": "stderr",
     "output_type": "stream",
     "text": [
      "File with tag libd_chr1-chr1_AA-148982-168981-dynamic-1corestotal-allcorepera already exists. Skipping...\n",
      "\n"
     ]
    },
    {
     "name": "stdout",
     "output_type": "stream",
     "text": [
      "[1] 9\n",
      "[1] \"Checking for files in:  ./output_chr1_a2_caud/\"\n",
      "[1] \"Using pattern:  libd_chr1-chr1_AA-168982-188981-dynamic-1corestotal-allcorepera\"\n",
      "[1] \"Found files with specific pattern: \"\n",
      "[1] \"./output_chr1_a2_caud//libd_chr1-chr1_AA-libd_chr1-chr1_AA-168982-188981-dynamic-1corestotal-allcorepera-20240415-111621.rds\"\n"
     ]
    },
    {
     "name": "stderr",
     "output_type": "stream",
     "text": [
      "File with tag libd_chr1-chr1_AA-168982-188981-dynamic-1corestotal-allcorepera already exists. Skipping...\n",
      "\n"
     ]
    },
    {
     "name": "stdout",
     "output_type": "stream",
     "text": [
      "[1] 10\n",
      "[1] \"Checking for files in:  ./output_chr1_a2_caud/\"\n",
      "[1] \"Using pattern:  libd_chr1-chr1_AA-188982-208981-dynamic-1corestotal-allcorepera\"\n",
      "[1] \"Found files with specific pattern: \"\n",
      "[1] \"./output_chr1_a2_caud//libd_chr1-chr1_AA-libd_chr1-chr1_AA-188982-208981-dynamic-1corestotal-allcorepera-20240415-112021.rds\"\n"
     ]
    },
    {
     "name": "stderr",
     "output_type": "stream",
     "text": [
      "File with tag libd_chr1-chr1_AA-188982-208981-dynamic-1corestotal-allcorepera already exists. Skipping...\n",
      "\n"
     ]
    },
    {
     "name": "stdout",
     "output_type": "stream",
     "text": [
      "[1] 11\n",
      "[1] \"Checking for files in:  ./output_chr1_a2_caud/\"\n",
      "[1] \"Using pattern:  libd_chr1-chr1_AA-208982-228981-dynamic-1corestotal-allcorepera\"\n",
      "[1] \"Found files with specific pattern: \"\n",
      "[1] \"./output_chr1_a2_caud//libd_chr1-chr1_AA-libd_chr1-chr1_AA-208982-228981-dynamic-1corestotal-allcorepera-20240415-112422.rds\"\n"
     ]
    },
    {
     "name": "stderr",
     "output_type": "stream",
     "text": [
      "File with tag libd_chr1-chr1_AA-208982-228981-dynamic-1corestotal-allcorepera already exists. Skipping...\n",
      "\n"
     ]
    },
    {
     "name": "stdout",
     "output_type": "stream",
     "text": [
      "[1] 12\n",
      "[1] \"Checking for files in:  ./output_chr1_a2_caud/\"\n",
      "[1] \"Using pattern:  libd_chr1-chr1_AA-228982-248981-dynamic-1corestotal-allcorepera\"\n",
      "[1] \"Found files with specific pattern: \"\n",
      "character(0)\n",
      "\n",
      "#!/bin/bash\n",
      "#SBATCH --nodes=1\n",
      "#SBATCH --ntasks-per-node=1\n",
      "#SBATCH --cpus-per-task=1\n",
      "#SBATCH --mem-per-cpu=2G\n",
      "#SBATCH --output=slurm_output_libd_chr1-chr1_AA-228982-248981-dynamic-1corestotal-allcorepera-20240419-112147.out\n",
      "#SBATCH --job-name=libd_chr1-chr1_AA-228982-248981-dynamic-1corestotal-allcorepera-20240419-112147\n",
      "#SBATCH --time=48:00:00\n",
      "module load conda\n",
      "conda activate mwas\n",
      "echo 'Executing Rscript with arguments: Rscript scripts/CLI.R --outdir=./output_chr1_a2_caud/ --snp_data_path=/dcs04/lieber/statsgen/shizhong/michael/mwas/gwas//libd_chr1.pgen --methylation_data_path=/dcs04/lieber/statsgen/shizhong/michael/mwas/pheno/caud/out/chr1_AA.rda --cov=/dcs04/lieber/statsgen/mnagle/mwas/full_covariates/AA_caud.csv --verbose=FALSE --lambda_choice=1se --alphas=0.5 --allow_inefficient_parallelization=FALSE --n_fold=5 --window_sizes=10000 --save_evaluation_results_each_fold=FALSE --save_glmnet_object=FALSE --omit_folds_with_na_r=TRUE --methInput_rds_path=/dcs04/lieber/statsgen/mnagle/mwas/pheno/caud/out/chr1_AA_228982-248981.rds --chunk1=1 --chunk2=20000 --cv_eval_mode=dynamic --num_cores=1 --cores_per_alpha=all --tag=libd_chr1-chr1_AA-228982-248981-dynamic-1corestotal-allcorepera-20240419-112147'\n",
      "Rscript scripts/CLI.R --outdir=./output_chr1_a2_caud/ --snp_data_path=/dcs04/lieber/statsgen/shizhong/michael/mwas/gwas//libd_chr1.pgen --methylation_data_path=/dcs04/lieber/statsgen/shizhong/michael/mwas/pheno/caud/out/chr1_AA.rda --cov=/dcs04/lieber/statsgen/mnagle/mwas/full_covariates/AA_caud.csv --verbose=FALSE --lambda_choice=1se --alphas=0.5 --allow_inefficient_parallelization=FALSE --n_fold=5 --window_sizes=10000 --save_evaluation_results_each_fold=FALSE --save_glmnet_object=FALSE --omit_folds_with_na_r=TRUE --methInput_rds_path=/dcs04/lieber/statsgen/mnagle/mwas/pheno/caud/out/chr1_AA_228982-248981.rds --chunk1=1 --chunk2=20000 --cv_eval_mode=dynamic --num_cores=1 --cores_per_alpha=all --tag=libd_chr1-chr1_AA-228982-248981-dynamic-1corestotal-allcorepera-20240419-112147\n"
     ]
    },
    {
     "name": "stderr",
     "output_type": "stream",
     "text": [
      "Sleeping for 181 seconds\n",
      "\n"
     ]
    },
    {
     "name": "stdout",
     "output_type": "stream",
     "text": [
      "\n",
      "[1] 13\n",
      "[1] \"Checking for files in:  ./output_chr1_a2_caud/\"\n",
      "[1] \"Using pattern:  libd_chr1-chr1_AA-248982-268981-dynamic-1corestotal-allcorepera\"\n",
      "[1] \"Found files with specific pattern: \"\n",
      "[1] \"./output_chr1_a2_caud//libd_chr1-chr1_AA-libd_chr1-chr1_AA-248982-268981-dynamic-1corestotal-allcorepera-20240415-113222.rds\"\n"
     ]
    },
    {
     "name": "stderr",
     "output_type": "stream",
     "text": [
      "File with tag libd_chr1-chr1_AA-248982-268981-dynamic-1corestotal-allcorepera already exists. Skipping...\n",
      "\n"
     ]
    },
    {
     "name": "stdout",
     "output_type": "stream",
     "text": [
      "[1] 14\n",
      "[1] \"Checking for files in:  ./output_chr1_a2_caud/\"\n",
      "[1] \"Using pattern:  libd_chr1-chr1_AA-268982-288981-dynamic-1corestotal-allcorepera\"\n",
      "[1] \"Found files with specific pattern: \"\n",
      "[1] \"./output_chr1_a2_caud//libd_chr1-chr1_AA-libd_chr1-chr1_AA-268982-288981-dynamic-1corestotal-allcorepera-20240415-113622.rds\"\n"
     ]
    },
    {
     "name": "stderr",
     "output_type": "stream",
     "text": [
      "File with tag libd_chr1-chr1_AA-268982-288981-dynamic-1corestotal-allcorepera already exists. Skipping...\n",
      "\n"
     ]
    },
    {
     "name": "stdout",
     "output_type": "stream",
     "text": [
      "[1] 15\n",
      "[1] \"Checking for files in:  ./output_chr1_a2_caud/\"\n",
      "[1] \"Using pattern:  libd_chr1-chr1_AA-288982-308981-dynamic-1corestotal-allcorepera\"\n",
      "[1] \"Found files with specific pattern: \"\n",
      "[1] \"./output_chr1_a2_caud//libd_chr1-chr1_AA-libd_chr1-chr1_AA-288982-308981-dynamic-1corestotal-allcorepera-20240416-154426.rds\"\n"
     ]
    },
    {
     "name": "stderr",
     "output_type": "stream",
     "text": [
      "File with tag libd_chr1-chr1_AA-288982-308981-dynamic-1corestotal-allcorepera already exists. Skipping...\n",
      "\n"
     ]
    },
    {
     "name": "stdout",
     "output_type": "stream",
     "text": [
      "[1] 16\n",
      "[1] \"Checking for files in:  ./output_chr1_a2_caud/\"\n",
      "[1] \"Using pattern:  libd_chr1-chr1_AA-308982-328981-dynamic-1corestotal-allcorepera\"\n",
      "[1] \"Found files with specific pattern: \"\n",
      "[1] \"./output_chr1_a2_caud//libd_chr1-chr1_AA-libd_chr1-chr1_AA-308982-328981-dynamic-1corestotal-allcorepera-20240415-114423.rds\"\n"
     ]
    },
    {
     "name": "stderr",
     "output_type": "stream",
     "text": [
      "File with tag libd_chr1-chr1_AA-308982-328981-dynamic-1corestotal-allcorepera already exists. Skipping...\n",
      "\n"
     ]
    },
    {
     "name": "stdout",
     "output_type": "stream",
     "text": [
      "[1] 17\n",
      "[1] \"Checking for files in:  ./output_chr1_a2_caud/\"\n",
      "[1] \"Using pattern:  libd_chr1-chr1_AA-328982-348981-dynamic-1corestotal-allcorepera\"\n",
      "[1] \"Found files with specific pattern: \"\n",
      "[1] \"./output_chr1_a2_caud//libd_chr1-chr1_AA-libd_chr1-chr1_AA-328982-348981-dynamic-1corestotal-allcorepera-20240415-114823.rds\"\n"
     ]
    },
    {
     "name": "stderr",
     "output_type": "stream",
     "text": [
      "File with tag libd_chr1-chr1_AA-328982-348981-dynamic-1corestotal-allcorepera already exists. Skipping...\n",
      "\n"
     ]
    },
    {
     "name": "stdout",
     "output_type": "stream",
     "text": [
      "[1] 18\n",
      "[1] \"Checking for files in:  ./output_chr1_a2_caud/\"\n",
      "[1] \"Using pattern:  libd_chr1-chr1_AA-348982-368981-dynamic-1corestotal-allcorepera\"\n",
      "[1] \"Found files with specific pattern: \"\n",
      "[1] \"./output_chr1_a2_caud//libd_chr1-chr1_AA-libd_chr1-chr1_AA-348982-368981-dynamic-1corestotal-allcorepera-20240416-154527.rds\"\n"
     ]
    },
    {
     "name": "stderr",
     "output_type": "stream",
     "text": [
      "File with tag libd_chr1-chr1_AA-348982-368981-dynamic-1corestotal-allcorepera already exists. Skipping...\n",
      "\n"
     ]
    },
    {
     "name": "stdout",
     "output_type": "stream",
     "text": [
      "[1] 19\n",
      "[1] \"Checking for files in:  ./output_chr1_a2_caud/\"\n",
      "[1] \"Using pattern:  libd_chr1-chr1_AA-368982-388981-dynamic-1corestotal-allcorepera\"\n",
      "[1] \"Found files with specific pattern: \"\n",
      "[1] \"./output_chr1_a2_caud//libd_chr1-chr1_AA-libd_chr1-chr1_AA-368982-388981-dynamic-1corestotal-allcorepera-20240416-154628.rds\"\n"
     ]
    },
    {
     "name": "stderr",
     "output_type": "stream",
     "text": [
      "File with tag libd_chr1-chr1_AA-368982-388981-dynamic-1corestotal-allcorepera already exists. Skipping...\n",
      "\n"
     ]
    },
    {
     "name": "stdout",
     "output_type": "stream",
     "text": [
      "[1] 20\n",
      "[1] \"Checking for files in:  ./output_chr1_a2_caud/\"\n",
      "[1] \"Using pattern:  libd_chr1-chr1_AA-388982-408981-dynamic-1corestotal-allcorepera\"\n",
      "[1] \"Found files with specific pattern: \"\n",
      "[1] \"./output_chr1_a2_caud//libd_chr1-chr1_AA-libd_chr1-chr1_AA-388982-408981-dynamic-1corestotal-allcorepera-20240415-120024.rds\"\n"
     ]
    },
    {
     "name": "stderr",
     "output_type": "stream",
     "text": [
      "File with tag libd_chr1-chr1_AA-388982-408981-dynamic-1corestotal-allcorepera already exists. Skipping...\n",
      "\n"
     ]
    },
    {
     "name": "stdout",
     "output_type": "stream",
     "text": [
      "[1] 21\n",
      "[1] \"Checking for files in:  ./output_chr1_a2_caud/\"\n",
      "[1] \"Using pattern:  libd_chr1-chr1_AA-408982-428981-dynamic-1corestotal-allcorepera\"\n",
      "[1] \"Found files with specific pattern: \"\n",
      "[1] \"./output_chr1_a2_caud//libd_chr1-chr1_AA-libd_chr1-chr1_AA-408982-428981-dynamic-1corestotal-allcorepera-20240415-120424.rds\"\n"
     ]
    },
    {
     "name": "stderr",
     "output_type": "stream",
     "text": [
      "File with tag libd_chr1-chr1_AA-408982-428981-dynamic-1corestotal-allcorepera already exists. Skipping...\n",
      "\n"
     ]
    },
    {
     "name": "stdout",
     "output_type": "stream",
     "text": [
      "[1] 22\n",
      "[1] \"Checking for files in:  ./output_chr1_a2_caud/\"\n",
      "[1] \"Using pattern:  libd_chr1-chr1_AA-428982-448981-dynamic-1corestotal-allcorepera\"\n",
      "[1] \"Found files with specific pattern: \"\n",
      "[1] \"./output_chr1_a2_caud//libd_chr1-chr1_AA-libd_chr1-chr1_AA-428982-448981-dynamic-1corestotal-allcorepera-20240415-120824.rds\"\n"
     ]
    },
    {
     "name": "stderr",
     "output_type": "stream",
     "text": [
      "File with tag libd_chr1-chr1_AA-428982-448981-dynamic-1corestotal-allcorepera already exists. Skipping...\n",
      "\n"
     ]
    },
    {
     "name": "stdout",
     "output_type": "stream",
     "text": [
      "[1] 23\n",
      "[1] \"Checking for files in:  ./output_chr1_a2_caud/\"\n",
      "[1] \"Using pattern:  libd_chr1-chr1_AA-448982-468981-dynamic-1corestotal-allcorepera\"\n",
      "[1] \"Found files with specific pattern: \"\n",
      "[1] \"./output_chr1_a2_caud//libd_chr1-chr1_AA-libd_chr1-chr1_AA-448982-468981-dynamic-1corestotal-allcorepera-20240415-121224.rds\"\n"
     ]
    },
    {
     "name": "stderr",
     "output_type": "stream",
     "text": [
      "File with tag libd_chr1-chr1_AA-448982-468981-dynamic-1corestotal-allcorepera already exists. Skipping...\n",
      "\n"
     ]
    },
    {
     "name": "stdout",
     "output_type": "stream",
     "text": [
      "[1] 24\n",
      "[1] \"Checking for files in:  ./output_chr1_a2_caud/\"\n",
      "[1] \"Using pattern:  libd_chr1-chr1_AA-468982-488981-dynamic-1corestotal-allcorepera\"\n",
      "[1] \"Found files with specific pattern: \"\n",
      "[1] \"./output_chr1_a2_caud//libd_chr1-chr1_AA-libd_chr1-chr1_AA-468982-488981-dynamic-1corestotal-allcorepera-20240415-121624.rds\"\n"
     ]
    },
    {
     "name": "stderr",
     "output_type": "stream",
     "text": [
      "File with tag libd_chr1-chr1_AA-468982-488981-dynamic-1corestotal-allcorepera already exists. Skipping...\n",
      "\n"
     ]
    },
    {
     "name": "stdout",
     "output_type": "stream",
     "text": [
      "[1] 25\n",
      "[1] \"Checking for files in:  ./output_chr1_a2_caud/\"\n",
      "[1] \"Using pattern:  libd_chr1-chr1_AA-488982-508981-dynamic-1corestotal-allcorepera\"\n",
      "[1] \"Found files with specific pattern: \"\n",
      "character(0)\n",
      "\n",
      "#!/bin/bash\n",
      "#SBATCH --nodes=1\n",
      "#SBATCH --ntasks-per-node=1\n",
      "#SBATCH --cpus-per-task=1\n",
      "#SBATCH --mem-per-cpu=2G\n",
      "#SBATCH --output=slurm_output_libd_chr1-chr1_AA-488982-508981-dynamic-1corestotal-allcorepera-20240419-112449.out\n",
      "#SBATCH --job-name=libd_chr1-chr1_AA-488982-508981-dynamic-1corestotal-allcorepera-20240419-112449\n",
      "#SBATCH --time=48:00:00\n",
      "module load conda\n",
      "conda activate mwas\n",
      "echo 'Executing Rscript with arguments: Rscript scripts/CLI.R --outdir=./output_chr1_a2_caud/ --snp_data_path=/dcs04/lieber/statsgen/shizhong/michael/mwas/gwas//libd_chr1.pgen --methylation_data_path=/dcs04/lieber/statsgen/shizhong/michael/mwas/pheno/caud/out/chr1_AA.rda --cov=/dcs04/lieber/statsgen/mnagle/mwas/full_covariates/AA_caud.csv --verbose=FALSE --lambda_choice=1se --alphas=0.5 --allow_inefficient_parallelization=FALSE --n_fold=5 --window_sizes=10000 --save_evaluation_results_each_fold=FALSE --save_glmnet_object=FALSE --omit_folds_with_na_r=TRUE --methInput_rds_path=/dcs04/lieber/statsgen/mnagle/mwas/pheno/caud/out/chr1_AA_488982-508981.rds --chunk1=1 --chunk2=20000 --cv_eval_mode=dynamic --num_cores=1 --cores_per_alpha=all --tag=libd_chr1-chr1_AA-488982-508981-dynamic-1corestotal-allcorepera-20240419-112449'\n",
      "Rscript scripts/CLI.R --outdir=./output_chr1_a2_caud/ --snp_data_path=/dcs04/lieber/statsgen/shizhong/michael/mwas/gwas//libd_chr1.pgen --methylation_data_path=/dcs04/lieber/statsgen/shizhong/michael/mwas/pheno/caud/out/chr1_AA.rda --cov=/dcs04/lieber/statsgen/mnagle/mwas/full_covariates/AA_caud.csv --verbose=FALSE --lambda_choice=1se --alphas=0.5 --allow_inefficient_parallelization=FALSE --n_fold=5 --window_sizes=10000 --save_evaluation_results_each_fold=FALSE --save_glmnet_object=FALSE --omit_folds_with_na_r=TRUE --methInput_rds_path=/dcs04/lieber/statsgen/mnagle/mwas/pheno/caud/out/chr1_AA_488982-508981.rds --chunk1=1 --chunk2=20000 --cv_eval_mode=dynamic --num_cores=1 --cores_per_alpha=all --tag=libd_chr1-chr1_AA-488982-508981-dynamic-1corestotal-allcorepera-20240419-112449\n"
     ]
    },
    {
     "name": "stderr",
     "output_type": "stream",
     "text": [
      "Sleeping for 181 seconds\n",
      "\n"
     ]
    },
    {
     "name": "stdout",
     "output_type": "stream",
     "text": [
      "\n",
      "[1] 26\n",
      "[1] \"Checking for files in:  ./output_chr1_a2_caud/\"\n",
      "[1] \"Using pattern:  libd_chr1-chr1_AA-508982-528981-dynamic-1corestotal-allcorepera\"\n",
      "[1] \"Found files with specific pattern: \"\n",
      "[1] \"./output_chr1_a2_caud//libd_chr1-chr1_AA-libd_chr1-chr1_AA-508982-528981-dynamic-1corestotal-allcorepera-20240415-122425.rds\"\n"
     ]
    },
    {
     "name": "stderr",
     "output_type": "stream",
     "text": [
      "File with tag libd_chr1-chr1_AA-508982-528981-dynamic-1corestotal-allcorepera already exists. Skipping...\n",
      "\n"
     ]
    },
    {
     "name": "stdout",
     "output_type": "stream",
     "text": [
      "[1] 27\n",
      "[1] \"Checking for files in:  ./output_chr1_a2_caud/\"\n",
      "[1] \"Using pattern:  libd_chr1-chr1_AA-528982-548981-dynamic-1corestotal-allcorepera\"\n",
      "[1] \"Found files with specific pattern: \"\n",
      "[1] \"./output_chr1_a2_caud//libd_chr1-chr1_AA-libd_chr1-chr1_AA-528982-548981-dynamic-1corestotal-allcorepera-20240415-122825.rds\"\n"
     ]
    },
    {
     "name": "stderr",
     "output_type": "stream",
     "text": [
      "File with tag libd_chr1-chr1_AA-528982-548981-dynamic-1corestotal-allcorepera already exists. Skipping...\n",
      "\n"
     ]
    },
    {
     "name": "stdout",
     "output_type": "stream",
     "text": [
      "[1] 28\n",
      "[1] \"Checking for files in:  ./output_chr1_a2_caud/\"\n",
      "[1] \"Using pattern:  libd_chr1-chr1_AA-548982-568981-dynamic-1corestotal-allcorepera\"\n",
      "[1] \"Found files with specific pattern: \"\n",
      "[1] \"./output_chr1_a2_caud//libd_chr1-chr1_AA-libd_chr1-chr1_AA-548982-568981-dynamic-1corestotal-allcorepera-20240415-123225.rds\"\n"
     ]
    },
    {
     "name": "stderr",
     "output_type": "stream",
     "text": [
      "File with tag libd_chr1-chr1_AA-548982-568981-dynamic-1corestotal-allcorepera already exists. Skipping...\n",
      "\n"
     ]
    },
    {
     "name": "stdout",
     "output_type": "stream",
     "text": [
      "[1] 29\n",
      "[1] \"Checking for files in:  ./output_chr1_a2_caud/\"\n",
      "[1] \"Using pattern:  libd_chr1-chr1_AA-568982-588981-dynamic-1corestotal-allcorepera\"\n",
      "[1] \"Found files with specific pattern: \"\n",
      "[1] \"./output_chr1_a2_caud//libd_chr1-chr1_AA-libd_chr1-chr1_AA-568982-588981-dynamic-1corestotal-allcorepera-20240415-123625.rds\"\n"
     ]
    },
    {
     "name": "stderr",
     "output_type": "stream",
     "text": [
      "File with tag libd_chr1-chr1_AA-568982-588981-dynamic-1corestotal-allcorepera already exists. Skipping...\n",
      "\n"
     ]
    },
    {
     "name": "stdout",
     "output_type": "stream",
     "text": [
      "[1] 30\n",
      "[1] \"Checking for files in:  ./output_chr1_a2_caud/\"\n",
      "[1] \"Using pattern:  libd_chr1-chr1_AA-588982-608981-dynamic-1corestotal-allcorepera\"\n",
      "[1] \"Found files with specific pattern: \"\n",
      "[1] \"./output_chr1_a2_caud//libd_chr1-chr1_AA-libd_chr1-chr1_AA-588982-608981-dynamic-1corestotal-allcorepera-20240415-124026.rds\"\n"
     ]
    },
    {
     "name": "stderr",
     "output_type": "stream",
     "text": [
      "File with tag libd_chr1-chr1_AA-588982-608981-dynamic-1corestotal-allcorepera already exists. Skipping...\n",
      "\n"
     ]
    },
    {
     "name": "stdout",
     "output_type": "stream",
     "text": [
      "[1] 31\n",
      "[1] \"Checking for files in:  ./output_chr1_a2_caud/\"\n",
      "[1] \"Using pattern:  libd_chr1-chr1_AA-608982-628981-dynamic-1corestotal-allcorepera\"\n",
      "[1] \"Found files with specific pattern: \"\n",
      "[1] \"./output_chr1_a2_caud//libd_chr1-chr1_AA-libd_chr1-chr1_AA-608982-628981-dynamic-1corestotal-allcorepera-20240415-124426.rds\"\n"
     ]
    },
    {
     "name": "stderr",
     "output_type": "stream",
     "text": [
      "File with tag libd_chr1-chr1_AA-608982-628981-dynamic-1corestotal-allcorepera already exists. Skipping...\n",
      "\n"
     ]
    },
    {
     "name": "stdout",
     "output_type": "stream",
     "text": [
      "[1] 32\n",
      "[1] \"Checking for files in:  ./output_chr1_a2_caud/\"\n",
      "[1] \"Using pattern:  libd_chr1-chr1_AA-628982-648981-dynamic-1corestotal-allcorepera\"\n",
      "[1] \"Found files with specific pattern: \"\n",
      "[1] \"./output_chr1_a2_caud//libd_chr1-chr1_AA-libd_chr1-chr1_AA-628982-648981-dynamic-1corestotal-allcorepera-20240415-124826.rds\"\n"
     ]
    },
    {
     "name": "stderr",
     "output_type": "stream",
     "text": [
      "File with tag libd_chr1-chr1_AA-628982-648981-dynamic-1corestotal-allcorepera already exists. Skipping...\n",
      "\n"
     ]
    },
    {
     "name": "stdout",
     "output_type": "stream",
     "text": [
      "[1] 33\n",
      "[1] \"Checking for files in:  ./output_chr1_a2_caud/\"\n",
      "[1] \"Using pattern:  libd_chr1-chr1_AA-648982-668981-dynamic-1corestotal-allcorepera\"\n",
      "[1] \"Found files with specific pattern: \"\n",
      "[1] \"./output_chr1_a2_caud//libd_chr1-chr1_AA-libd_chr1-chr1_AA-648982-668981-dynamic-1corestotal-allcorepera-20240415-125226.rds\"\n"
     ]
    },
    {
     "name": "stderr",
     "output_type": "stream",
     "text": [
      "File with tag libd_chr1-chr1_AA-648982-668981-dynamic-1corestotal-allcorepera already exists. Skipping...\n",
      "\n"
     ]
    },
    {
     "name": "stdout",
     "output_type": "stream",
     "text": [
      "[1] 34\n",
      "[1] \"Checking for files in:  ./output_chr1_a2_caud/\"\n",
      "[1] \"Using pattern:  libd_chr1-chr1_AA-668982-688981-dynamic-1corestotal-allcorepera\"\n",
      "[1] \"Found files with specific pattern: \"\n",
      "[1] \"./output_chr1_a2_caud//libd_chr1-chr1_AA-libd_chr1-chr1_AA-668982-688981-dynamic-1corestotal-allcorepera-20240415-125627.rds\"\n"
     ]
    },
    {
     "name": "stderr",
     "output_type": "stream",
     "text": [
      "File with tag libd_chr1-chr1_AA-668982-688981-dynamic-1corestotal-allcorepera already exists. Skipping...\n",
      "\n"
     ]
    },
    {
     "name": "stdout",
     "output_type": "stream",
     "text": [
      "[1] 35\n",
      "[1] \"Checking for files in:  ./output_chr1_a2_caud/\"\n",
      "[1] \"Using pattern:  libd_chr1-chr1_AA-688982-708981-dynamic-1corestotal-allcorepera\"\n",
      "[1] \"Found files with specific pattern: \"\n",
      "[1] \"./output_chr1_a2_caud//libd_chr1-chr1_AA-libd_chr1-chr1_AA-688982-708981-dynamic-1corestotal-allcorepera-20240415-130027.rds\"\n"
     ]
    },
    {
     "name": "stderr",
     "output_type": "stream",
     "text": [
      "File with tag libd_chr1-chr1_AA-688982-708981-dynamic-1corestotal-allcorepera already exists. Skipping...\n",
      "\n"
     ]
    },
    {
     "name": "stdout",
     "output_type": "stream",
     "text": [
      "[1] 36\n",
      "[1] \"Checking for files in:  ./output_chr1_a2_caud/\"\n",
      "[1] \"Using pattern:  libd_chr1-chr1_AA-708982-728981-dynamic-1corestotal-allcorepera\"\n",
      "[1] \"Found files with specific pattern: \"\n",
      "[1] \"./output_chr1_a2_caud//libd_chr1-chr1_AA-libd_chr1-chr1_AA-708982-728981-dynamic-1corestotal-allcorepera-20240415-130427.rds\"\n"
     ]
    },
    {
     "name": "stderr",
     "output_type": "stream",
     "text": [
      "File with tag libd_chr1-chr1_AA-708982-728981-dynamic-1corestotal-allcorepera already exists. Skipping...\n",
      "\n"
     ]
    },
    {
     "name": "stdout",
     "output_type": "stream",
     "text": [
      "[1] 37\n",
      "[1] \"Checking for files in:  ./output_chr1_a2_caud/\"\n",
      "[1] \"Using pattern:  libd_chr1-chr1_AA-728982-748981-dynamic-1corestotal-allcorepera\"\n",
      "[1] \"Found files with specific pattern: \"\n",
      "[1] \"./output_chr1_a2_caud//libd_chr1-chr1_AA-libd_chr1-chr1_AA-728982-748981-dynamic-1corestotal-allcorepera-20240415-130827.rds\"\n"
     ]
    },
    {
     "name": "stderr",
     "output_type": "stream",
     "text": [
      "File with tag libd_chr1-chr1_AA-728982-748981-dynamic-1corestotal-allcorepera already exists. Skipping...\n",
      "\n"
     ]
    },
    {
     "name": "stdout",
     "output_type": "stream",
     "text": [
      "[1] 38\n",
      "[1] \"Checking for files in:  ./output_chr1_a2_caud/\"\n",
      "[1] \"Using pattern:  libd_chr1-chr1_AA-748982-768981-dynamic-1corestotal-allcorepera\"\n",
      "[1] \"Found files with specific pattern: \"\n",
      "[1] \"./output_chr1_a2_caud//libd_chr1-chr1_AA-libd_chr1-chr1_AA-748982-768981-dynamic-1corestotal-allcorepera-20240415-131228.rds\"\n"
     ]
    },
    {
     "name": "stderr",
     "output_type": "stream",
     "text": [
      "File with tag libd_chr1-chr1_AA-748982-768981-dynamic-1corestotal-allcorepera already exists. Skipping...\n",
      "\n"
     ]
    },
    {
     "name": "stdout",
     "output_type": "stream",
     "text": [
      "[1] 39\n",
      "[1] \"Checking for files in:  ./output_chr1_a2_caud/\"\n",
      "[1] \"Using pattern:  libd_chr1-chr1_AA-768982-788981-dynamic-1corestotal-allcorepera\"\n",
      "[1] \"Found files with specific pattern: \"\n",
      "[1] \"./output_chr1_a2_caud//libd_chr1-chr1_AA-libd_chr1-chr1_AA-768982-788981-dynamic-1corestotal-allcorepera-20240416-154831.rds\"\n"
     ]
    },
    {
     "name": "stderr",
     "output_type": "stream",
     "text": [
      "File with tag libd_chr1-chr1_AA-768982-788981-dynamic-1corestotal-allcorepera already exists. Skipping...\n",
      "\n"
     ]
    },
    {
     "name": "stdout",
     "output_type": "stream",
     "text": [
      "[1] 40\n",
      "[1] \"Checking for files in:  ./output_chr1_a2_caud/\"\n",
      "[1] \"Using pattern:  libd_chr1-chr1_AA-788982-808981-dynamic-1corestotal-allcorepera\"\n",
      "[1] \"Found files with specific pattern: \"\n",
      "[1] \"./output_chr1_a2_caud//libd_chr1-chr1_AA-libd_chr1-chr1_AA-788982-808981-dynamic-1corestotal-allcorepera-20240415-132028.rds\"\n"
     ]
    },
    {
     "name": "stderr",
     "output_type": "stream",
     "text": [
      "File with tag libd_chr1-chr1_AA-788982-808981-dynamic-1corestotal-allcorepera already exists. Skipping...\n",
      "\n"
     ]
    },
    {
     "name": "stdout",
     "output_type": "stream",
     "text": [
      "[1] 41\n",
      "[1] \"Checking for files in:  ./output_chr1_a2_caud/\"\n",
      "[1] \"Using pattern:  libd_chr1-chr1_AA-808982-828981-dynamic-1corestotal-allcorepera\"\n",
      "[1] \"Found files with specific pattern: \"\n",
      "[1] \"./output_chr1_a2_caud//libd_chr1-chr1_AA-libd_chr1-chr1_AA-808982-828981-dynamic-1corestotal-allcorepera-20240415-132428.rds\"\n"
     ]
    },
    {
     "name": "stderr",
     "output_type": "stream",
     "text": [
      "File with tag libd_chr1-chr1_AA-808982-828981-dynamic-1corestotal-allcorepera already exists. Skipping...\n",
      "\n"
     ]
    },
    {
     "name": "stdout",
     "output_type": "stream",
     "text": [
      "[1] 42\n",
      "[1] \"Checking for files in:  ./output_chr1_a2_caud/\"\n",
      "[1] \"Using pattern:  libd_chr1-chr1_AA-828982-848981-dynamic-1corestotal-allcorepera\"\n",
      "[1] \"Found files with specific pattern: \"\n",
      "[1] \"./output_chr1_a2_caud//libd_chr1-chr1_AA-libd_chr1-chr1_AA-828982-848981-dynamic-1corestotal-allcorepera-20240415-132828.rds\"\n"
     ]
    },
    {
     "name": "stderr",
     "output_type": "stream",
     "text": [
      "File with tag libd_chr1-chr1_AA-828982-848981-dynamic-1corestotal-allcorepera already exists. Skipping...\n",
      "\n"
     ]
    },
    {
     "name": "stdout",
     "output_type": "stream",
     "text": [
      "[1] 43\n",
      "[1] \"Checking for files in:  ./output_chr1_a2_caud/\"\n",
      "[1] \"Using pattern:  libd_chr1-chr1_AA-848982-868981-dynamic-1corestotal-allcorepera\"\n",
      "[1] \"Found files with specific pattern: \"\n",
      "[1] \"./output_chr1_a2_caud//libd_chr1-chr1_AA-libd_chr1-chr1_AA-848982-868981-dynamic-1corestotal-allcorepera-20240415-133229.rds\"\n"
     ]
    },
    {
     "name": "stderr",
     "output_type": "stream",
     "text": [
      "File with tag libd_chr1-chr1_AA-848982-868981-dynamic-1corestotal-allcorepera already exists. Skipping...\n",
      "\n"
     ]
    },
    {
     "name": "stdout",
     "output_type": "stream",
     "text": [
      "[1] 44\n",
      "[1] \"Checking for files in:  ./output_chr1_a2_caud/\"\n",
      "[1] \"Using pattern:  libd_chr1-chr1_AA-868982-888981-dynamic-1corestotal-allcorepera\"\n",
      "[1] \"Found files with specific pattern: \"\n",
      "[1] \"./output_chr1_a2_caud//libd_chr1-chr1_AA-libd_chr1-chr1_AA-868982-888981-dynamic-1corestotal-allcorepera-20240415-133629.rds\"\n"
     ]
    },
    {
     "name": "stderr",
     "output_type": "stream",
     "text": [
      "File with tag libd_chr1-chr1_AA-868982-888981-dynamic-1corestotal-allcorepera already exists. Skipping...\n",
      "\n"
     ]
    },
    {
     "name": "stdout",
     "output_type": "stream",
     "text": [
      "[1] 45\n",
      "[1] \"Checking for files in:  ./output_chr1_a2_caud/\"\n",
      "[1] \"Using pattern:  libd_chr1-chr1_AA-888982-908981-dynamic-1corestotal-allcorepera\"\n",
      "[1] \"Found files with specific pattern: \"\n",
      "[1] \"./output_chr1_a2_caud//libd_chr1-chr1_AA-libd_chr1-chr1_AA-888982-908981-dynamic-1corestotal-allcorepera-20240415-134029.rds\"\n"
     ]
    },
    {
     "name": "stderr",
     "output_type": "stream",
     "text": [
      "File with tag libd_chr1-chr1_AA-888982-908981-dynamic-1corestotal-allcorepera already exists. Skipping...\n",
      "\n"
     ]
    },
    {
     "name": "stdout",
     "output_type": "stream",
     "text": [
      "[1] 46\n",
      "[1] \"Checking for files in:  ./output_chr1_a2_caud/\"\n",
      "[1] \"Using pattern:  libd_chr1-chr1_AA-908982-928981-dynamic-1corestotal-allcorepera\"\n",
      "[1] \"Found files with specific pattern: \"\n",
      "[1] \"./output_chr1_a2_caud//libd_chr1-chr1_AA-libd_chr1-chr1_AA-908982-928981-dynamic-1corestotal-allcorepera-20240415-134429.rds\"\n"
     ]
    },
    {
     "name": "stderr",
     "output_type": "stream",
     "text": [
      "File with tag libd_chr1-chr1_AA-908982-928981-dynamic-1corestotal-allcorepera already exists. Skipping...\n",
      "\n"
     ]
    },
    {
     "name": "stdout",
     "output_type": "stream",
     "text": [
      "[1] 47\n",
      "[1] \"Checking for files in:  ./output_chr1_a2_caud/\"\n",
      "[1] \"Using pattern:  libd_chr1-chr1_AA-928982-948981-dynamic-1corestotal-allcorepera\"\n",
      "[1] \"Found files with specific pattern: \"\n",
      "[1] \"./output_chr1_a2_caud//libd_chr1-chr1_AA-libd_chr1-chr1_AA-928982-948981-dynamic-1corestotal-allcorepera-20240415-134829.rds\"\n"
     ]
    },
    {
     "name": "stderr",
     "output_type": "stream",
     "text": [
      "File with tag libd_chr1-chr1_AA-928982-948981-dynamic-1corestotal-allcorepera already exists. Skipping...\n",
      "\n"
     ]
    },
    {
     "name": "stdout",
     "output_type": "stream",
     "text": [
      "[1] 48\n",
      "[1] \"Checking for files in:  ./output_chr1_a2_caud/\"\n",
      "[1] \"Using pattern:  libd_chr1-chr1_AA-948982-968981-dynamic-1corestotal-allcorepera\"\n",
      "[1] \"Found files with specific pattern: \"\n",
      "[1] \"./output_chr1_a2_caud//libd_chr1-chr1_AA-libd_chr1-chr1_AA-948982-968981-dynamic-1corestotal-allcorepera-20240415-135230.rds\"\n"
     ]
    },
    {
     "name": "stderr",
     "output_type": "stream",
     "text": [
      "File with tag libd_chr1-chr1_AA-948982-968981-dynamic-1corestotal-allcorepera already exists. Skipping...\n",
      "\n"
     ]
    },
    {
     "name": "stdout",
     "output_type": "stream",
     "text": [
      "[1] 49\n",
      "[1] \"Checking for files in:  ./output_chr1_a2_caud/\"\n",
      "[1] \"Using pattern:  libd_chr1-chr1_AA-968982-988981-dynamic-1corestotal-allcorepera\"\n",
      "[1] \"Found files with specific pattern: \"\n",
      "[1] \"./output_chr1_a2_caud//libd_chr1-chr1_AA-libd_chr1-chr1_AA-968982-988981-dynamic-1corestotal-allcorepera-20240415-135630.rds\"\n"
     ]
    },
    {
     "name": "stderr",
     "output_type": "stream",
     "text": [
      "File with tag libd_chr1-chr1_AA-968982-988981-dynamic-1corestotal-allcorepera already exists. Skipping...\n",
      "\n"
     ]
    },
    {
     "name": "stdout",
     "output_type": "stream",
     "text": [
      "[1] 50\n",
      "[1] \"Checking for files in:  ./output_chr1_a2_caud/\"\n",
      "[1] \"Using pattern:  libd_chr1-chr1_AA-988982-1008981-dynamic-1corestotal-allcorepera\"\n",
      "[1] \"Found files with specific pattern: \"\n",
      "[1] \"./output_chr1_a2_caud//libd_chr1-chr1_AA-libd_chr1-chr1_AA-988982-1008981-dynamic-1corestotal-allcorepera-20240415-140030.rds\"\n"
     ]
    },
    {
     "name": "stderr",
     "output_type": "stream",
     "text": [
      "File with tag libd_chr1-chr1_AA-988982-1008981-dynamic-1corestotal-allcorepera already exists. Skipping...\n",
      "\n"
     ]
    },
    {
     "name": "stdout",
     "output_type": "stream",
     "text": [
      "[1] 51\n",
      "[1] \"Checking for files in:  ./output_chr1_a2_caud/\"\n",
      "[1] \"Using pattern:  libd_chr1-chr1_AA-1008982-1028981-dynamic-1corestotal-allcorepera\"\n",
      "[1] \"Found files with specific pattern: \"\n",
      "[1] \"./output_chr1_a2_caud//libd_chr1-chr1_AA-libd_chr1-chr1_AA-1008982-1028981-dynamic-1corestotal-allcorepera-20240416-154932.rds\"\n"
     ]
    },
    {
     "name": "stderr",
     "output_type": "stream",
     "text": [
      "File with tag libd_chr1-chr1_AA-1008982-1028981-dynamic-1corestotal-allcorepera already exists. Skipping...\n",
      "\n"
     ]
    },
    {
     "name": "stdout",
     "output_type": "stream",
     "text": [
      "[1] 52\n",
      "[1] \"Checking for files in:  ./output_chr1_a2_caud/\"\n",
      "[1] \"Using pattern:  libd_chr1-chr1_AA-1028982-1048981-dynamic-1corestotal-allcorepera\"\n",
      "[1] \"Found files with specific pattern: \"\n",
      "[1] \"./output_chr1_a2_caud//libd_chr1-chr1_AA-libd_chr1-chr1_AA-1028982-1048981-dynamic-1corestotal-allcorepera-20240415-140831.rds\"\n"
     ]
    },
    {
     "name": "stderr",
     "output_type": "stream",
     "text": [
      "File with tag libd_chr1-chr1_AA-1028982-1048981-dynamic-1corestotal-allcorepera already exists. Skipping...\n",
      "\n"
     ]
    },
    {
     "name": "stdout",
     "output_type": "stream",
     "text": [
      "[1] 53\n",
      "[1] \"Checking for files in:  ./output_chr1_a2_caud/\"\n",
      "[1] \"Using pattern:  libd_chr1-chr1_AA-1048982-1068981-dynamic-1corestotal-allcorepera\"\n",
      "[1] \"Found files with specific pattern: \"\n",
      "[1] \"./output_chr1_a2_caud//libd_chr1-chr1_AA-libd_chr1-chr1_AA-1048982-1068981-dynamic-1corestotal-allcorepera-20240415-141231.rds\"\n"
     ]
    },
    {
     "name": "stderr",
     "output_type": "stream",
     "text": [
      "File with tag libd_chr1-chr1_AA-1048982-1068981-dynamic-1corestotal-allcorepera already exists. Skipping...\n",
      "\n"
     ]
    },
    {
     "name": "stdout",
     "output_type": "stream",
     "text": [
      "[1] 54\n",
      "[1] \"Checking for files in:  ./output_chr1_a2_caud/\"\n",
      "[1] \"Using pattern:  libd_chr1-chr1_AA-1068982-1088981-dynamic-1corestotal-allcorepera\"\n",
      "[1] \"Found files with specific pattern: \"\n",
      "[1] \"./output_chr1_a2_caud//libd_chr1-chr1_AA-libd_chr1-chr1_AA-1068982-1088981-dynamic-1corestotal-allcorepera-20240415-141631.rds\"\n"
     ]
    },
    {
     "name": "stderr",
     "output_type": "stream",
     "text": [
      "File with tag libd_chr1-chr1_AA-1068982-1088981-dynamic-1corestotal-allcorepera already exists. Skipping...\n",
      "\n"
     ]
    },
    {
     "name": "stdout",
     "output_type": "stream",
     "text": [
      "[1] 55\n",
      "[1] \"Checking for files in:  ./output_chr1_a2_caud/\"\n",
      "[1] \"Using pattern:  libd_chr1-chr1_AA-1088982-1108981-dynamic-1corestotal-allcorepera\"\n",
      "[1] \"Found files with specific pattern: \"\n",
      "[1] \"./output_chr1_a2_caud//libd_chr1-chr1_AA-libd_chr1-chr1_AA-1088982-1108981-dynamic-1corestotal-allcorepera-20240415-142031.rds\"\n"
     ]
    },
    {
     "name": "stderr",
     "output_type": "stream",
     "text": [
      "File with tag libd_chr1-chr1_AA-1088982-1108981-dynamic-1corestotal-allcorepera already exists. Skipping...\n",
      "\n"
     ]
    },
    {
     "name": "stdout",
     "output_type": "stream",
     "text": [
      "[1] 56\n",
      "[1] \"Checking for files in:  ./output_chr1_a2_caud/\"\n",
      "[1] \"Using pattern:  libd_chr1-chr1_AA-1108982-1128981-dynamic-1corestotal-allcorepera\"\n",
      "[1] \"Found files with specific pattern: \"\n",
      "[1] \"./output_chr1_a2_caud//libd_chr1-chr1_AA-libd_chr1-chr1_AA-1108982-1128981-dynamic-1corestotal-allcorepera-20240415-142431.rds\"\n"
     ]
    },
    {
     "name": "stderr",
     "output_type": "stream",
     "text": [
      "File with tag libd_chr1-chr1_AA-1108982-1128981-dynamic-1corestotal-allcorepera already exists. Skipping...\n",
      "\n"
     ]
    },
    {
     "name": "stdout",
     "output_type": "stream",
     "text": [
      "[1] 57\n",
      "[1] \"Checking for files in:  ./output_chr1_a2_caud/\"\n",
      "[1] \"Using pattern:  libd_chr1-chr1_AA-1128982-1148981-dynamic-1corestotal-allcorepera\"\n",
      "[1] \"Found files with specific pattern: \"\n",
      "[1] \"./output_chr1_a2_caud//libd_chr1-chr1_AA-libd_chr1-chr1_AA-1128982-1148981-dynamic-1corestotal-allcorepera-20240415-142832.rds\"\n"
     ]
    },
    {
     "name": "stderr",
     "output_type": "stream",
     "text": [
      "File with tag libd_chr1-chr1_AA-1128982-1148981-dynamic-1corestotal-allcorepera already exists. Skipping...\n",
      "\n"
     ]
    },
    {
     "name": "stdout",
     "output_type": "stream",
     "text": [
      "[1] 58\n",
      "[1] \"Checking for files in:  ./output_chr1_a2_caud/\"\n",
      "[1] \"Using pattern:  libd_chr1-chr1_AA-1148982-1168981-dynamic-1corestotal-allcorepera\"\n",
      "[1] \"Found files with specific pattern: \"\n",
      "[1] \"./output_chr1_a2_caud//libd_chr1-chr1_AA-libd_chr1-chr1_AA-1148982-1168981-dynamic-1corestotal-allcorepera-20240415-143232.rds\"\n"
     ]
    },
    {
     "name": "stderr",
     "output_type": "stream",
     "text": [
      "File with tag libd_chr1-chr1_AA-1148982-1168981-dynamic-1corestotal-allcorepera already exists. Skipping...\n",
      "\n"
     ]
    },
    {
     "name": "stdout",
     "output_type": "stream",
     "text": [
      "[1] 59\n",
      "[1] \"Checking for files in:  ./output_chr1_a2_caud/\"\n",
      "[1] \"Using pattern:  libd_chr1-chr1_AA-1168982-1188981-dynamic-1corestotal-allcorepera\"\n",
      "[1] \"Found files with specific pattern: \"\n",
      "[1] \"./output_chr1_a2_caud//libd_chr1-chr1_AA-libd_chr1-chr1_AA-1168982-1188981-dynamic-1corestotal-allcorepera-20240415-143632.rds\"\n"
     ]
    },
    {
     "name": "stderr",
     "output_type": "stream",
     "text": [
      "File with tag libd_chr1-chr1_AA-1168982-1188981-dynamic-1corestotal-allcorepera already exists. Skipping...\n",
      "\n"
     ]
    },
    {
     "name": "stdout",
     "output_type": "stream",
     "text": [
      "[1] 60\n",
      "[1] \"Checking for files in:  ./output_chr1_a2_caud/\"\n",
      "[1] \"Using pattern:  libd_chr1-chr1_AA-1188982-1208981-dynamic-1corestotal-allcorepera\"\n",
      "[1] \"Found files with specific pattern: \"\n",
      "[1] \"./output_chr1_a2_caud//libd_chr1-chr1_AA-libd_chr1-chr1_AA-1188982-1208981-dynamic-1corestotal-allcorepera-20240415-144032.rds\"\n"
     ]
    },
    {
     "name": "stderr",
     "output_type": "stream",
     "text": [
      "File with tag libd_chr1-chr1_AA-1188982-1208981-dynamic-1corestotal-allcorepera already exists. Skipping...\n",
      "\n"
     ]
    },
    {
     "name": "stdout",
     "output_type": "stream",
     "text": [
      "[1] 61\n",
      "[1] \"Checking for files in:  ./output_chr1_a2_caud/\"\n",
      "[1] \"Using pattern:  libd_chr1-chr1_AA-1208982-1228981-dynamic-1corestotal-allcorepera\"\n",
      "[1] \"Found files with specific pattern: \"\n",
      "[1] \"./output_chr1_a2_caud//libd_chr1-chr1_AA-libd_chr1-chr1_AA-1208982-1228981-dynamic-1corestotal-allcorepera-20240415-144432.rds\"\n"
     ]
    },
    {
     "name": "stderr",
     "output_type": "stream",
     "text": [
      "File with tag libd_chr1-chr1_AA-1208982-1228981-dynamic-1corestotal-allcorepera already exists. Skipping...\n",
      "\n"
     ]
    },
    {
     "name": "stdout",
     "output_type": "stream",
     "text": [
      "[1] 62\n",
      "[1] \"Checking for files in:  ./output_chr1_a2_caud/\"\n",
      "[1] \"Using pattern:  libd_chr1-chr1_AA-1228982-1248981-dynamic-1corestotal-allcorepera\"\n",
      "[1] \"Found files with specific pattern: \"\n",
      "[1] \"./output_chr1_a2_caud//libd_chr1-chr1_AA-libd_chr1-chr1_AA-1228982-1248981-dynamic-1corestotal-allcorepera-20240415-144833.rds\"\n"
     ]
    },
    {
     "name": "stderr",
     "output_type": "stream",
     "text": [
      "File with tag libd_chr1-chr1_AA-1228982-1248981-dynamic-1corestotal-allcorepera already exists. Skipping...\n",
      "\n"
     ]
    },
    {
     "name": "stdout",
     "output_type": "stream",
     "text": [
      "[1] 63\n",
      "[1] \"Checking for files in:  ./output_chr1_a2_caud/\"\n",
      "[1] \"Using pattern:  libd_chr1-chr1_AA-1248982-1268981-dynamic-1corestotal-allcorepera\"\n",
      "[1] \"Found files with specific pattern: \"\n",
      "character(0)\n",
      "\n",
      "#!/bin/bash\n",
      "#SBATCH --nodes=1\n",
      "#SBATCH --ntasks-per-node=1\n",
      "#SBATCH --cpus-per-task=1\n",
      "#SBATCH --mem-per-cpu=2G\n",
      "#SBATCH --output=slurm_output_libd_chr1-chr1_AA-1248982-1268981-dynamic-1corestotal-allcorepera-20240419-112750.out\n",
      "#SBATCH --job-name=libd_chr1-chr1_AA-1248982-1268981-dynamic-1corestotal-allcorepera-20240419-112750\n",
      "#SBATCH --time=48:00:00\n",
      "module load conda\n",
      "conda activate mwas\n",
      "echo 'Executing Rscript with arguments: Rscript scripts/CLI.R --outdir=./output_chr1_a2_caud/ --snp_data_path=/dcs04/lieber/statsgen/shizhong/michael/mwas/gwas//libd_chr1.pgen --methylation_data_path=/dcs04/lieber/statsgen/shizhong/michael/mwas/pheno/caud/out/chr1_AA.rda --cov=/dcs04/lieber/statsgen/mnagle/mwas/full_covariates/AA_caud.csv --verbose=FALSE --lambda_choice=1se --alphas=0.5 --allow_inefficient_parallelization=FALSE --n_fold=5 --window_sizes=10000 --save_evaluation_results_each_fold=FALSE --save_glmnet_object=FALSE --omit_folds_with_na_r=TRUE --methInput_rds_path=/dcs04/lieber/statsgen/mnagle/mwas/pheno/caud/out/chr1_AA_1248982-1268981.rds --chunk1=1 --chunk2=20000 --cv_eval_mode=dynamic --num_cores=1 --cores_per_alpha=all --tag=libd_chr1-chr1_AA-1248982-1268981-dynamic-1corestotal-allcorepera-20240419-112750'\n",
      "Rscript scripts/CLI.R --outdir=./output_chr1_a2_caud/ --snp_data_path=/dcs04/lieber/statsgen/shizhong/michael/mwas/gwas//libd_chr1.pgen --methylation_data_path=/dcs04/lieber/statsgen/shizhong/michael/mwas/pheno/caud/out/chr1_AA.rda --cov=/dcs04/lieber/statsgen/mnagle/mwas/full_covariates/AA_caud.csv --verbose=FALSE --lambda_choice=1se --alphas=0.5 --allow_inefficient_parallelization=FALSE --n_fold=5 --window_sizes=10000 --save_evaluation_results_each_fold=FALSE --save_glmnet_object=FALSE --omit_folds_with_na_r=TRUE --methInput_rds_path=/dcs04/lieber/statsgen/mnagle/mwas/pheno/caud/out/chr1_AA_1248982-1268981.rds --chunk1=1 --chunk2=20000 --cv_eval_mode=dynamic --num_cores=1 --cores_per_alpha=all --tag=libd_chr1-chr1_AA-1248982-1268981-dynamic-1corestotal-allcorepera-20240419-112750\n"
     ]
    },
    {
     "name": "stderr",
     "output_type": "stream",
     "text": [
      "Sleeping for 181 seconds\n",
      "\n"
     ]
    },
    {
     "name": "stdout",
     "output_type": "stream",
     "text": [
      "\n",
      "[1] 64\n",
      "[1] \"Checking for files in:  ./output_chr1_a2_caud/\"\n",
      "[1] \"Using pattern:  libd_chr1-chr1_AA-1268982-1288981-dynamic-1corestotal-allcorepera\"\n",
      "[1] \"Found files with specific pattern: \"\n",
      "character(0)\n",
      "\n",
      "#!/bin/bash\n",
      "#SBATCH --nodes=1\n",
      "#SBATCH --ntasks-per-node=1\n",
      "#SBATCH --cpus-per-task=1\n",
      "#SBATCH --mem-per-cpu=2G\n",
      "#SBATCH --output=slurm_output_libd_chr1-chr1_AA-1268982-1288981-dynamic-1corestotal-allcorepera-20240419-113051.out\n",
      "#SBATCH --job-name=libd_chr1-chr1_AA-1268982-1288981-dynamic-1corestotal-allcorepera-20240419-113051\n",
      "#SBATCH --time=48:00:00\n",
      "module load conda\n",
      "conda activate mwas\n",
      "echo 'Executing Rscript with arguments: Rscript scripts/CLI.R --outdir=./output_chr1_a2_caud/ --snp_data_path=/dcs04/lieber/statsgen/shizhong/michael/mwas/gwas//libd_chr1.pgen --methylation_data_path=/dcs04/lieber/statsgen/shizhong/michael/mwas/pheno/caud/out/chr1_AA.rda --cov=/dcs04/lieber/statsgen/mnagle/mwas/full_covariates/AA_caud.csv --verbose=FALSE --lambda_choice=1se --alphas=0.5 --allow_inefficient_parallelization=FALSE --n_fold=5 --window_sizes=10000 --save_evaluation_results_each_fold=FALSE --save_glmnet_object=FALSE --omit_folds_with_na_r=TRUE --methInput_rds_path=/dcs04/lieber/statsgen/mnagle/mwas/pheno/caud/out/chr1_AA_1268982-1288981.rds --chunk1=1 --chunk2=20000 --cv_eval_mode=dynamic --num_cores=1 --cores_per_alpha=all --tag=libd_chr1-chr1_AA-1268982-1288981-dynamic-1corestotal-allcorepera-20240419-113051'\n",
      "Rscript scripts/CLI.R --outdir=./output_chr1_a2_caud/ --snp_data_path=/dcs04/lieber/statsgen/shizhong/michael/mwas/gwas//libd_chr1.pgen --methylation_data_path=/dcs04/lieber/statsgen/shizhong/michael/mwas/pheno/caud/out/chr1_AA.rda --cov=/dcs04/lieber/statsgen/mnagle/mwas/full_covariates/AA_caud.csv --verbose=FALSE --lambda_choice=1se --alphas=0.5 --allow_inefficient_parallelization=FALSE --n_fold=5 --window_sizes=10000 --save_evaluation_results_each_fold=FALSE --save_glmnet_object=FALSE --omit_folds_with_na_r=TRUE --methInput_rds_path=/dcs04/lieber/statsgen/mnagle/mwas/pheno/caud/out/chr1_AA_1268982-1288981.rds --chunk1=1 --chunk2=20000 --cv_eval_mode=dynamic --num_cores=1 --cores_per_alpha=all --tag=libd_chr1-chr1_AA-1268982-1288981-dynamic-1corestotal-allcorepera-20240419-113051\n"
     ]
    },
    {
     "name": "stderr",
     "output_type": "stream",
     "text": [
      "Sleeping for 181 seconds\n",
      "\n"
     ]
    },
    {
     "name": "stdout",
     "output_type": "stream",
     "text": [
      "\n",
      "[1] 65\n",
      "[1] \"Checking for files in:  ./output_chr1_a2_caud/\"\n",
      "[1] \"Using pattern:  libd_chr1-chr1_AA-1288982-1308981-dynamic-1corestotal-allcorepera\"\n",
      "[1] \"Found files with specific pattern: \"\n",
      "[1] \"./output_chr1_a2_caud//libd_chr1-chr1_AA-libd_chr1-chr1_AA-1288982-1308981-dynamic-1corestotal-allcorepera-20240415-150033.rds\"\n"
     ]
    },
    {
     "name": "stderr",
     "output_type": "stream",
     "text": [
      "File with tag libd_chr1-chr1_AA-1288982-1308981-dynamic-1corestotal-allcorepera already exists. Skipping...\n",
      "\n"
     ]
    },
    {
     "name": "stdout",
     "output_type": "stream",
     "text": [
      "[1] 66\n",
      "[1] \"Checking for files in:  ./output_chr1_a2_caud/\"\n",
      "[1] \"Using pattern:  libd_chr1-chr1_AA-1308982-1328981-dynamic-1corestotal-allcorepera\"\n",
      "[1] \"Found files with specific pattern: \"\n",
      "[1] \"./output_chr1_a2_caud//libd_chr1-chr1_AA-libd_chr1-chr1_AA-1308982-1328981-dynamic-1corestotal-allcorepera-20240415-150433.rds\"\n"
     ]
    },
    {
     "name": "stderr",
     "output_type": "stream",
     "text": [
      "File with tag libd_chr1-chr1_AA-1308982-1328981-dynamic-1corestotal-allcorepera already exists. Skipping...\n",
      "\n"
     ]
    },
    {
     "name": "stdout",
     "output_type": "stream",
     "text": [
      "[1] 67\n",
      "[1] \"Checking for files in:  ./output_chr1_a2_caud/\"\n",
      "[1] \"Using pattern:  libd_chr1-chr1_AA-1328982-1348981-dynamic-1corestotal-allcorepera\"\n",
      "[1] \"Found files with specific pattern: \"\n",
      "[1] \"./output_chr1_a2_caud//libd_chr1-chr1_AA-libd_chr1-chr1_AA-1328982-1348981-dynamic-1corestotal-allcorepera-20240415-150833.rds\"\n"
     ]
    },
    {
     "name": "stderr",
     "output_type": "stream",
     "text": [
      "File with tag libd_chr1-chr1_AA-1328982-1348981-dynamic-1corestotal-allcorepera already exists. Skipping...\n",
      "\n"
     ]
    },
    {
     "name": "stdout",
     "output_type": "stream",
     "text": [
      "[1] 68\n",
      "[1] \"Checking for files in:  ./output_chr1_a2_caud/\"\n",
      "[1] \"Using pattern:  libd_chr1-chr1_AA-1348982-1368981-dynamic-1corestotal-allcorepera\"\n",
      "[1] \"Found files with specific pattern: \"\n",
      "[1] \"./output_chr1_a2_caud//libd_chr1-chr1_AA-libd_chr1-chr1_AA-1348982-1368981-dynamic-1corestotal-allcorepera-20240415-151234.rds\"\n"
     ]
    },
    {
     "name": "stderr",
     "output_type": "stream",
     "text": [
      "File with tag libd_chr1-chr1_AA-1348982-1368981-dynamic-1corestotal-allcorepera already exists. Skipping...\n",
      "\n"
     ]
    },
    {
     "name": "stdout",
     "output_type": "stream",
     "text": [
      "[1] 69\n",
      "[1] \"Checking for files in:  ./output_chr1_a2_caud/\"\n",
      "[1] \"Using pattern:  libd_chr1-chr1_AA-1368982-1388981-dynamic-1corestotal-allcorepera\"\n",
      "[1] \"Found files with specific pattern: \"\n",
      "[1] \"./output_chr1_a2_caud//libd_chr1-chr1_AA-libd_chr1-chr1_AA-1368982-1388981-dynamic-1corestotal-allcorepera-20240415-151634.rds\"\n"
     ]
    },
    {
     "name": "stderr",
     "output_type": "stream",
     "text": [
      "File with tag libd_chr1-chr1_AA-1368982-1388981-dynamic-1corestotal-allcorepera already exists. Skipping...\n",
      "\n"
     ]
    },
    {
     "name": "stdout",
     "output_type": "stream",
     "text": [
      "[1] 70\n",
      "[1] \"Checking for files in:  ./output_chr1_a2_caud/\"\n",
      "[1] \"Using pattern:  libd_chr1-chr1_AA-1388982-1408981-dynamic-1corestotal-allcorepera\"\n",
      "[1] \"Found files with specific pattern: \"\n",
      "character(0)\n",
      "\n",
      "#!/bin/bash\n",
      "#SBATCH --nodes=1\n",
      "#SBATCH --ntasks-per-node=1\n",
      "#SBATCH --cpus-per-task=1\n",
      "#SBATCH --mem-per-cpu=2G\n",
      "#SBATCH --output=slurm_output_libd_chr1-chr1_AA-1388982-1408981-dynamic-1corestotal-allcorepera-20240419-113352.out\n",
      "#SBATCH --job-name=libd_chr1-chr1_AA-1388982-1408981-dynamic-1corestotal-allcorepera-20240419-113352\n",
      "#SBATCH --time=48:00:00\n",
      "module load conda\n",
      "conda activate mwas\n",
      "echo 'Executing Rscript with arguments: Rscript scripts/CLI.R --outdir=./output_chr1_a2_caud/ --snp_data_path=/dcs04/lieber/statsgen/shizhong/michael/mwas/gwas//libd_chr1.pgen --methylation_data_path=/dcs04/lieber/statsgen/shizhong/michael/mwas/pheno/caud/out/chr1_AA.rda --cov=/dcs04/lieber/statsgen/mnagle/mwas/full_covariates/AA_caud.csv --verbose=FALSE --lambda_choice=1se --alphas=0.5 --allow_inefficient_parallelization=FALSE --n_fold=5 --window_sizes=10000 --save_evaluation_results_each_fold=FALSE --save_glmnet_object=FALSE --omit_folds_with_na_r=TRUE --methInput_rds_path=/dcs04/lieber/statsgen/mnagle/mwas/pheno/caud/out/chr1_AA_1388982-1408981.rds --chunk1=1 --chunk2=20000 --cv_eval_mode=dynamic --num_cores=1 --cores_per_alpha=all --tag=libd_chr1-chr1_AA-1388982-1408981-dynamic-1corestotal-allcorepera-20240419-113352'\n",
      "Rscript scripts/CLI.R --outdir=./output_chr1_a2_caud/ --snp_data_path=/dcs04/lieber/statsgen/shizhong/michael/mwas/gwas//libd_chr1.pgen --methylation_data_path=/dcs04/lieber/statsgen/shizhong/michael/mwas/pheno/caud/out/chr1_AA.rda --cov=/dcs04/lieber/statsgen/mnagle/mwas/full_covariates/AA_caud.csv --verbose=FALSE --lambda_choice=1se --alphas=0.5 --allow_inefficient_parallelization=FALSE --n_fold=5 --window_sizes=10000 --save_evaluation_results_each_fold=FALSE --save_glmnet_object=FALSE --omit_folds_with_na_r=TRUE --methInput_rds_path=/dcs04/lieber/statsgen/mnagle/mwas/pheno/caud/out/chr1_AA_1388982-1408981.rds --chunk1=1 --chunk2=20000 --cv_eval_mode=dynamic --num_cores=1 --cores_per_alpha=all --tag=libd_chr1-chr1_AA-1388982-1408981-dynamic-1corestotal-allcorepera-20240419-113352\n"
     ]
    },
    {
     "name": "stderr",
     "output_type": "stream",
     "text": [
      "Sleeping for 181 seconds\n",
      "\n"
     ]
    },
    {
     "name": "stdout",
     "output_type": "stream",
     "text": [
      "\n",
      "[1] 71\n",
      "[1] \"Checking for files in:  ./output_chr1_a2_caud/\"\n",
      "[1] \"Using pattern:  libd_chr1-chr1_AA-1408982-1428981-dynamic-1corestotal-allcorepera\"\n",
      "[1] \"Found files with specific pattern: \"\n",
      "[1] \"./output_chr1_a2_caud//libd_chr1-chr1_AA-libd_chr1-chr1_AA-1408982-1428981-dynamic-1corestotal-allcorepera-20240416-155336.rds\"\n"
     ]
    },
    {
     "name": "stderr",
     "output_type": "stream",
     "text": [
      "File with tag libd_chr1-chr1_AA-1408982-1428981-dynamic-1corestotal-allcorepera already exists. Skipping...\n",
      "\n"
     ]
    },
    {
     "name": "stdout",
     "output_type": "stream",
     "text": [
      "[1] 72\n",
      "[1] \"Checking for files in:  ./output_chr1_a2_caud/\"\n",
      "[1] \"Using pattern:  libd_chr1-chr1_AA-1428982-1448981-dynamic-1corestotal-allcorepera\"\n",
      "[1] \"Found files with specific pattern: \"\n",
      "character(0)\n",
      "\n",
      "#!/bin/bash\n",
      "#SBATCH --nodes=1\n",
      "#SBATCH --ntasks-per-node=1\n",
      "#SBATCH --cpus-per-task=1\n",
      "#SBATCH --mem-per-cpu=2G\n",
      "#SBATCH --output=slurm_output_libd_chr1-chr1_AA-1428982-1448981-dynamic-1corestotal-allcorepera-20240419-113653.out\n",
      "#SBATCH --job-name=libd_chr1-chr1_AA-1428982-1448981-dynamic-1corestotal-allcorepera-20240419-113653\n",
      "#SBATCH --time=48:00:00\n",
      "module load conda\n",
      "conda activate mwas\n",
      "echo 'Executing Rscript with arguments: Rscript scripts/CLI.R --outdir=./output_chr1_a2_caud/ --snp_data_path=/dcs04/lieber/statsgen/shizhong/michael/mwas/gwas//libd_chr1.pgen --methylation_data_path=/dcs04/lieber/statsgen/shizhong/michael/mwas/pheno/caud/out/chr1_AA.rda --cov=/dcs04/lieber/statsgen/mnagle/mwas/full_covariates/AA_caud.csv --verbose=FALSE --lambda_choice=1se --alphas=0.5 --allow_inefficient_parallelization=FALSE --n_fold=5 --window_sizes=10000 --save_evaluation_results_each_fold=FALSE --save_glmnet_object=FALSE --omit_folds_with_na_r=TRUE --methInput_rds_path=/dcs04/lieber/statsgen/mnagle/mwas/pheno/caud/out/chr1_AA_1428982-1448981.rds --chunk1=1 --chunk2=20000 --cv_eval_mode=dynamic --num_cores=1 --cores_per_alpha=all --tag=libd_chr1-chr1_AA-1428982-1448981-dynamic-1corestotal-allcorepera-20240419-113653'\n",
      "Rscript scripts/CLI.R --outdir=./output_chr1_a2_caud/ --snp_data_path=/dcs04/lieber/statsgen/shizhong/michael/mwas/gwas//libd_chr1.pgen --methylation_data_path=/dcs04/lieber/statsgen/shizhong/michael/mwas/pheno/caud/out/chr1_AA.rda --cov=/dcs04/lieber/statsgen/mnagle/mwas/full_covariates/AA_caud.csv --verbose=FALSE --lambda_choice=1se --alphas=0.5 --allow_inefficient_parallelization=FALSE --n_fold=5 --window_sizes=10000 --save_evaluation_results_each_fold=FALSE --save_glmnet_object=FALSE --omit_folds_with_na_r=TRUE --methInput_rds_path=/dcs04/lieber/statsgen/mnagle/mwas/pheno/caud/out/chr1_AA_1428982-1448981.rds --chunk1=1 --chunk2=20000 --cv_eval_mode=dynamic --num_cores=1 --cores_per_alpha=all --tag=libd_chr1-chr1_AA-1428982-1448981-dynamic-1corestotal-allcorepera-20240419-113653\n"
     ]
    },
    {
     "name": "stderr",
     "output_type": "stream",
     "text": [
      "Sleeping for 181 seconds\n",
      "\n"
     ]
    },
    {
     "name": "stdout",
     "output_type": "stream",
     "text": [
      "\n",
      "[1] 73\n",
      "[1] \"Checking for files in:  ./output_chr1_a2_caud/\"\n",
      "[1] \"Using pattern:  libd_chr1-chr1_AA-1448982-1468981-dynamic-1corestotal-allcorepera\"\n",
      "[1] \"Found files with specific pattern: \"\n",
      "[1] \"./output_chr1_a2_caud//libd_chr1-chr1_AA-libd_chr1-chr1_AA-1448982-1468981-dynamic-1corestotal-allcorepera-20240416-155539.rds\"\n"
     ]
    },
    {
     "name": "stderr",
     "output_type": "stream",
     "text": [
      "File with tag libd_chr1-chr1_AA-1448982-1468981-dynamic-1corestotal-allcorepera already exists. Skipping...\n",
      "\n"
     ]
    },
    {
     "name": "stdout",
     "output_type": "stream",
     "text": [
      "[1] 74\n",
      "[1] \"Checking for files in:  ./output_chr1_a2_caud/\"\n",
      "[1] \"Using pattern:  libd_chr1-chr1_AA-1468982-1488981-dynamic-1corestotal-allcorepera\"\n",
      "[1] \"Found files with specific pattern: \"\n",
      "[1] \"./output_chr1_a2_caud//libd_chr1-chr1_AA-libd_chr1-chr1_AA-1468982-1488981-dynamic-1corestotal-allcorepera-20240416-155640.rds\"\n"
     ]
    },
    {
     "name": "stderr",
     "output_type": "stream",
     "text": [
      "File with tag libd_chr1-chr1_AA-1468982-1488981-dynamic-1corestotal-allcorepera already exists. Skipping...\n",
      "\n"
     ]
    },
    {
     "name": "stdout",
     "output_type": "stream",
     "text": [
      "[1] 75\n",
      "[1] \"Checking for files in:  ./output_chr1_a2_caud/\"\n",
      "[1] \"Using pattern:  libd_chr1-chr1_AA-1488982-1508981-dynamic-1corestotal-allcorepera\"\n",
      "[1] \"Found files with specific pattern: \"\n",
      "[1] \"./output_chr1_a2_caud//libd_chr1-chr1_AA-libd_chr1-chr1_AA-1488982-1508981-dynamic-1corestotal-allcorepera-20240416-155741.rds\"\n"
     ]
    },
    {
     "name": "stderr",
     "output_type": "stream",
     "text": [
      "File with tag libd_chr1-chr1_AA-1488982-1508981-dynamic-1corestotal-allcorepera already exists. Skipping...\n",
      "\n"
     ]
    },
    {
     "name": "stdout",
     "output_type": "stream",
     "text": [
      "[1] 76\n",
      "[1] \"Checking for files in:  ./output_chr1_a2_caud/\"\n",
      "[1] \"Using pattern:  libd_chr1-chr1_AA-1508982-1528981-dynamic-1corestotal-allcorepera\"\n",
      "[1] \"Found files with specific pattern: \"\n",
      "[1] \"./output_chr1_a2_caud//libd_chr1-chr1_AA-libd_chr1-chr1_AA-1508982-1528981-dynamic-1corestotal-allcorepera-20240416-155842.rds\"\n"
     ]
    },
    {
     "name": "stderr",
     "output_type": "stream",
     "text": [
      "File with tag libd_chr1-chr1_AA-1508982-1528981-dynamic-1corestotal-allcorepera already exists. Skipping...\n",
      "\n"
     ]
    },
    {
     "name": "stdout",
     "output_type": "stream",
     "text": [
      "[1] 77\n",
      "[1] \"Checking for files in:  ./output_chr1_a2_caud/\"\n",
      "[1] \"Using pattern:  libd_chr1-chr1_AA-1528982-1548981-dynamic-1corestotal-allcorepera\"\n",
      "[1] \"Found files with specific pattern: \"\n",
      "[1] \"./output_chr1_a2_caud//libd_chr1-chr1_AA-libd_chr1-chr1_AA-1528982-1548981-dynamic-1corestotal-allcorepera-20240416-155943.rds\"\n"
     ]
    },
    {
     "name": "stderr",
     "output_type": "stream",
     "text": [
      "File with tag libd_chr1-chr1_AA-1528982-1548981-dynamic-1corestotal-allcorepera already exists. Skipping...\n",
      "\n"
     ]
    },
    {
     "name": "stdout",
     "output_type": "stream",
     "text": [
      "[1] 78\n",
      "[1] \"Checking for files in:  ./output_chr1_a2_caud/\"\n",
      "[1] \"Using pattern:  libd_chr1-chr1_AA-1548982-1568981-dynamic-1corestotal-allcorepera\"\n",
      "[1] \"Found files with specific pattern: \"\n",
      "[1] \"./output_chr1_a2_caud//libd_chr1-chr1_AA-libd_chr1-chr1_AA-1548982-1568981-dynamic-1corestotal-allcorepera-20240416-160044.rds\"\n"
     ]
    },
    {
     "name": "stderr",
     "output_type": "stream",
     "text": [
      "File with tag libd_chr1-chr1_AA-1548982-1568981-dynamic-1corestotal-allcorepera already exists. Skipping...\n",
      "\n"
     ]
    },
    {
     "name": "stdout",
     "output_type": "stream",
     "text": [
      "[1] 79\n",
      "[1] \"Checking for files in:  ./output_chr1_a2_caud/\"\n",
      "[1] \"Using pattern:  libd_chr1-chr1_AA-1568982-1588981-dynamic-1corestotal-allcorepera\"\n",
      "[1] \"Found files with specific pattern: \"\n",
      "character(0)\n",
      "\n",
      "#!/bin/bash\n",
      "#SBATCH --nodes=1\n",
      "#SBATCH --ntasks-per-node=1\n",
      "#SBATCH --cpus-per-task=1\n",
      "#SBATCH --mem-per-cpu=2G\n",
      "#SBATCH --output=slurm_output_libd_chr1-chr1_AA-1568982-1588981-dynamic-1corestotal-allcorepera-20240419-113955.out\n",
      "#SBATCH --job-name=libd_chr1-chr1_AA-1568982-1588981-dynamic-1corestotal-allcorepera-20240419-113955\n",
      "#SBATCH --time=48:00:00\n",
      "module load conda\n",
      "conda activate mwas\n",
      "echo 'Executing Rscript with arguments: Rscript scripts/CLI.R --outdir=./output_chr1_a2_caud/ --snp_data_path=/dcs04/lieber/statsgen/shizhong/michael/mwas/gwas//libd_chr1.pgen --methylation_data_path=/dcs04/lieber/statsgen/shizhong/michael/mwas/pheno/caud/out/chr1_AA.rda --cov=/dcs04/lieber/statsgen/mnagle/mwas/full_covariates/AA_caud.csv --verbose=FALSE --lambda_choice=1se --alphas=0.5 --allow_inefficient_parallelization=FALSE --n_fold=5 --window_sizes=10000 --save_evaluation_results_each_fold=FALSE --save_glmnet_object=FALSE --omit_folds_with_na_r=TRUE --methInput_rds_path=/dcs04/lieber/statsgen/mnagle/mwas/pheno/caud/out/chr1_AA_1568982-1588981.rds --chunk1=1 --chunk2=20000 --cv_eval_mode=dynamic --num_cores=1 --cores_per_alpha=all --tag=libd_chr1-chr1_AA-1568982-1588981-dynamic-1corestotal-allcorepera-20240419-113955'\n",
      "Rscript scripts/CLI.R --outdir=./output_chr1_a2_caud/ --snp_data_path=/dcs04/lieber/statsgen/shizhong/michael/mwas/gwas//libd_chr1.pgen --methylation_data_path=/dcs04/lieber/statsgen/shizhong/michael/mwas/pheno/caud/out/chr1_AA.rda --cov=/dcs04/lieber/statsgen/mnagle/mwas/full_covariates/AA_caud.csv --verbose=FALSE --lambda_choice=1se --alphas=0.5 --allow_inefficient_parallelization=FALSE --n_fold=5 --window_sizes=10000 --save_evaluation_results_each_fold=FALSE --save_glmnet_object=FALSE --omit_folds_with_na_r=TRUE --methInput_rds_path=/dcs04/lieber/statsgen/mnagle/mwas/pheno/caud/out/chr1_AA_1568982-1588981.rds --chunk1=1 --chunk2=20000 --cv_eval_mode=dynamic --num_cores=1 --cores_per_alpha=all --tag=libd_chr1-chr1_AA-1568982-1588981-dynamic-1corestotal-allcorepera-20240419-113955\n"
     ]
    },
    {
     "name": "stderr",
     "output_type": "stream",
     "text": [
      "Sleeping for 181 seconds\n",
      "\n"
     ]
    },
    {
     "name": "stdout",
     "output_type": "stream",
     "text": [
      "\n",
      "[1] 80\n",
      "[1] \"Checking for files in:  ./output_chr1_a2_caud/\"\n",
      "[1] \"Using pattern:  libd_chr1-chr1_AA-1588982-1608981-dynamic-1corestotal-allcorepera\"\n",
      "[1] \"Found files with specific pattern: \"\n",
      "[1] \"./output_chr1_a2_caud//libd_chr1-chr1_AA-libd_chr1-chr1_AA-1588982-1608981-dynamic-1corestotal-allcorepera-20240416-160246.rds\"\n"
     ]
    },
    {
     "name": "stderr",
     "output_type": "stream",
     "text": [
      "File with tag libd_chr1-chr1_AA-1588982-1608981-dynamic-1corestotal-allcorepera already exists. Skipping...\n",
      "\n"
     ]
    },
    {
     "name": "stdout",
     "output_type": "stream",
     "text": [
      "[1] 81\n",
      "[1] \"Checking for files in:  ./output_chr1_a2_caud/\"\n",
      "[1] \"Using pattern:  libd_chr1-chr1_AA-1608982-1628981-dynamic-1corestotal-allcorepera\"\n",
      "[1] \"Found files with specific pattern: \"\n",
      "[1] \"./output_chr1_a2_caud//libd_chr1-chr1_AA-libd_chr1-chr1_AA-1608982-1628981-dynamic-1corestotal-allcorepera-20240416-160347.rds\"\n"
     ]
    },
    {
     "name": "stderr",
     "output_type": "stream",
     "text": [
      "File with tag libd_chr1-chr1_AA-1608982-1628981-dynamic-1corestotal-allcorepera already exists. Skipping...\n",
      "\n"
     ]
    },
    {
     "name": "stdout",
     "output_type": "stream",
     "text": [
      "[1] 82\n",
      "[1] \"Checking for files in:  ./output_chr1_a2_caud/\"\n",
      "[1] \"Using pattern:  libd_chr1-chr1_AA-1628982-1648981-dynamic-1corestotal-allcorepera\"\n",
      "[1] \"Found files with specific pattern: \"\n",
      "[1] \"./output_chr1_a2_caud//libd_chr1-chr1_AA-libd_chr1-chr1_AA-1628982-1648981-dynamic-1corestotal-allcorepera-20240416-160449.rds\"\n"
     ]
    },
    {
     "name": "stderr",
     "output_type": "stream",
     "text": [
      "File with tag libd_chr1-chr1_AA-1628982-1648981-dynamic-1corestotal-allcorepera already exists. Skipping...\n",
      "\n"
     ]
    },
    {
     "name": "stdout",
     "output_type": "stream",
     "text": [
      "[1] 83\n",
      "[1] \"Checking for files in:  ./output_chr1_a2_caud/\"\n",
      "[1] \"Using pattern:  libd_chr1-chr1_AA-1648982-1668981-dynamic-1corestotal-allcorepera\"\n",
      "[1] \"Found files with specific pattern: \"\n",
      "[1] \"./output_chr1_a2_caud//libd_chr1-chr1_AA-libd_chr1-chr1_AA-1648982-1668981-dynamic-1corestotal-allcorepera-20240416-160550.rds\"\n"
     ]
    },
    {
     "name": "stderr",
     "output_type": "stream",
     "text": [
      "File with tag libd_chr1-chr1_AA-1648982-1668981-dynamic-1corestotal-allcorepera already exists. Skipping...\n",
      "\n"
     ]
    },
    {
     "name": "stdout",
     "output_type": "stream",
     "text": [
      "[1] 84\n",
      "[1] \"Checking for files in:  ./output_chr1_a2_caud/\"\n",
      "[1] \"Using pattern:  libd_chr1-chr1_AA-1668982-1688981-dynamic-1corestotal-allcorepera\"\n",
      "[1] \"Found files with specific pattern: \"\n",
      "[1] \"./output_chr1_a2_caud//libd_chr1-chr1_AA-libd_chr1-chr1_AA-1668982-1688981-dynamic-1corestotal-allcorepera-20240416-160651.rds\"\n"
     ]
    },
    {
     "name": "stderr",
     "output_type": "stream",
     "text": [
      "File with tag libd_chr1-chr1_AA-1668982-1688981-dynamic-1corestotal-allcorepera already exists. Skipping...\n",
      "\n"
     ]
    },
    {
     "name": "stdout",
     "output_type": "stream",
     "text": [
      "[1] 85\n",
      "[1] \"Checking for files in:  ./output_chr1_a2_caud/\"\n",
      "[1] \"Using pattern:  libd_chr1-chr1_AA-1688982-1708981-dynamic-1corestotal-allcorepera\"\n",
      "[1] \"Found files with specific pattern: \"\n",
      "[1] \"./output_chr1_a2_caud//libd_chr1-chr1_AA-libd_chr1-chr1_AA-1688982-1708981-dynamic-1corestotal-allcorepera-20240416-160752.rds\"\n"
     ]
    },
    {
     "name": "stderr",
     "output_type": "stream",
     "text": [
      "File with tag libd_chr1-chr1_AA-1688982-1708981-dynamic-1corestotal-allcorepera already exists. Skipping...\n",
      "\n"
     ]
    },
    {
     "name": "stdout",
     "output_type": "stream",
     "text": [
      "[1] 86\n",
      "[1] \"Checking for files in:  ./output_chr1_a2_caud/\"\n",
      "[1] \"Using pattern:  libd_chr1-chr1_AA-1708982-1728981-dynamic-1corestotal-allcorepera\"\n",
      "[1] \"Found files with specific pattern: \"\n",
      "[1] \"./output_chr1_a2_caud//libd_chr1-chr1_AA-libd_chr1-chr1_AA-1708982-1728981-dynamic-1corestotal-allcorepera-20240416-160853.rds\"\n"
     ]
    },
    {
     "name": "stderr",
     "output_type": "stream",
     "text": [
      "File with tag libd_chr1-chr1_AA-1708982-1728981-dynamic-1corestotal-allcorepera already exists. Skipping...\n",
      "\n"
     ]
    },
    {
     "name": "stdout",
     "output_type": "stream",
     "text": [
      "[1] 87\n",
      "[1] \"Checking for files in:  ./output_chr1_a2_caud/\"\n",
      "[1] \"Using pattern:  libd_chr1-chr1_AA-1728982-1748981-dynamic-1corestotal-allcorepera\"\n",
      "[1] \"Found files with specific pattern: \"\n",
      "[1] \"./output_chr1_a2_caud//libd_chr1-chr1_AA-libd_chr1-chr1_AA-1728982-1748981-dynamic-1corestotal-allcorepera-20240416-160954.rds\"\n"
     ]
    },
    {
     "name": "stderr",
     "output_type": "stream",
     "text": [
      "File with tag libd_chr1-chr1_AA-1728982-1748981-dynamic-1corestotal-allcorepera already exists. Skipping...\n",
      "\n"
     ]
    },
    {
     "name": "stdout",
     "output_type": "stream",
     "text": [
      "[1] 88\n",
      "[1] \"Checking for files in:  ./output_chr1_a2_caud/\"\n",
      "[1] \"Using pattern:  libd_chr1-chr1_AA-1748982-1768981-dynamic-1corestotal-allcorepera\"\n",
      "[1] \"Found files with specific pattern: \"\n",
      "[1] \"./output_chr1_a2_caud//libd_chr1-chr1_AA-libd_chr1-chr1_AA-1748982-1768981-dynamic-1corestotal-allcorepera-20240416-161055.rds\"\n"
     ]
    },
    {
     "name": "stderr",
     "output_type": "stream",
     "text": [
      "File with tag libd_chr1-chr1_AA-1748982-1768981-dynamic-1corestotal-allcorepera already exists. Skipping...\n",
      "\n"
     ]
    },
    {
     "name": "stdout",
     "output_type": "stream",
     "text": [
      "[1] 89\n",
      "[1] \"Checking for files in:  ./output_chr1_a2_caud/\"\n",
      "[1] \"Using pattern:  libd_chr1-chr1_AA-1768982-1788981-dynamic-1corestotal-allcorepera\"\n",
      "[1] \"Found files with specific pattern: \"\n",
      "[1] \"./output_chr1_a2_caud//libd_chr1-chr1_AA-libd_chr1-chr1_AA-1768982-1788981-dynamic-1corestotal-allcorepera-20240416-161156.rds\"\n"
     ]
    },
    {
     "name": "stderr",
     "output_type": "stream",
     "text": [
      "File with tag libd_chr1-chr1_AA-1768982-1788981-dynamic-1corestotal-allcorepera already exists. Skipping...\n",
      "\n"
     ]
    },
    {
     "name": "stdout",
     "output_type": "stream",
     "text": [
      "[1] 90\n",
      "[1] \"Checking for files in:  ./output_chr1_a2_caud/\"\n",
      "[1] \"Using pattern:  libd_chr1-chr1_AA-1788982-1808981-dynamic-1corestotal-allcorepera\"\n",
      "[1] \"Found files with specific pattern: \"\n",
      "[1] \"./output_chr1_a2_caud//libd_chr1-chr1_AA-libd_chr1-chr1_AA-1788982-1808981-dynamic-1corestotal-allcorepera-20240416-161257.rds\"\n"
     ]
    },
    {
     "name": "stderr",
     "output_type": "stream",
     "text": [
      "File with tag libd_chr1-chr1_AA-1788982-1808981-dynamic-1corestotal-allcorepera already exists. Skipping...\n",
      "\n"
     ]
    },
    {
     "name": "stdout",
     "output_type": "stream",
     "text": [
      "[1] 91\n",
      "[1] \"Checking for files in:  ./output_chr1_a2_caud/\"\n",
      "[1] \"Using pattern:  libd_chr1-chr1_AA-1808982-1828981-dynamic-1corestotal-allcorepera\"\n",
      "[1] \"Found files with specific pattern: \"\n",
      "[1] \"./output_chr1_a2_caud//libd_chr1-chr1_AA-libd_chr1-chr1_AA-1808982-1828981-dynamic-1corestotal-allcorepera-20240416-161358.rds\"\n"
     ]
    },
    {
     "name": "stderr",
     "output_type": "stream",
     "text": [
      "File with tag libd_chr1-chr1_AA-1808982-1828981-dynamic-1corestotal-allcorepera already exists. Skipping...\n",
      "\n"
     ]
    },
    {
     "name": "stdout",
     "output_type": "stream",
     "text": [
      "[1] 92\n",
      "[1] \"Checking for files in:  ./output_chr1_a2_caud/\"\n",
      "[1] \"Using pattern:  libd_chr1-chr1_AA-1828982-1848981-dynamic-1corestotal-allcorepera\"\n",
      "[1] \"Found files with specific pattern: \"\n",
      "[1] \"./output_chr1_a2_caud//libd_chr1-chr1_AA-libd_chr1-chr1_AA-1828982-1848981-dynamic-1corestotal-allcorepera-20240416-161500.rds\"\n"
     ]
    },
    {
     "name": "stderr",
     "output_type": "stream",
     "text": [
      "File with tag libd_chr1-chr1_AA-1828982-1848981-dynamic-1corestotal-allcorepera already exists. Skipping...\n",
      "\n"
     ]
    },
    {
     "name": "stdout",
     "output_type": "stream",
     "text": [
      "[1] 93\n",
      "[1] \"Checking for files in:  ./output_chr1_a2_caud/\"\n",
      "[1] \"Using pattern:  libd_chr1-chr1_AA-1848982-1868981-dynamic-1corestotal-allcorepera\"\n",
      "[1] \"Found files with specific pattern: \"\n",
      "[1] \"./output_chr1_a2_caud//libd_chr1-chr1_AA-libd_chr1-chr1_AA-1848982-1868981-dynamic-1corestotal-allcorepera-20240416-161601.rds\"\n"
     ]
    },
    {
     "name": "stderr",
     "output_type": "stream",
     "text": [
      "File with tag libd_chr1-chr1_AA-1848982-1868981-dynamic-1corestotal-allcorepera already exists. Skipping...\n",
      "\n"
     ]
    },
    {
     "name": "stdout",
     "output_type": "stream",
     "text": [
      "[1] 94\n",
      "[1] \"Checking for files in:  ./output_chr1_a2_caud/\"\n",
      "[1] \"Using pattern:  libd_chr1-chr1_AA-1868982-1888981-dynamic-1corestotal-allcorepera\"\n",
      "[1] \"Found files with specific pattern: \"\n",
      "[1] \"./output_chr1_a2_caud//libd_chr1-chr1_AA-libd_chr1-chr1_AA-1868982-1888981-dynamic-1corestotal-allcorepera-20240416-161702.rds\"\n"
     ]
    },
    {
     "name": "stderr",
     "output_type": "stream",
     "text": [
      "File with tag libd_chr1-chr1_AA-1868982-1888981-dynamic-1corestotal-allcorepera already exists. Skipping...\n",
      "\n"
     ]
    },
    {
     "name": "stdout",
     "output_type": "stream",
     "text": [
      "[1] 95\n",
      "[1] \"Checking for files in:  ./output_chr1_a2_caud/\"\n",
      "[1] \"Using pattern:  libd_chr1-chr1_AA-1888982-1908981-dynamic-1corestotal-allcorepera\"\n",
      "[1] \"Found files with specific pattern: \"\n",
      "[1] \"./output_chr1_a2_caud//libd_chr1-chr1_AA-libd_chr1-chr1_AA-1888982-1908981-dynamic-1corestotal-allcorepera-20240416-161803.rds\"\n"
     ]
    },
    {
     "name": "stderr",
     "output_type": "stream",
     "text": [
      "File with tag libd_chr1-chr1_AA-1888982-1908981-dynamic-1corestotal-allcorepera already exists. Skipping...\n",
      "\n"
     ]
    },
    {
     "name": "stdout",
     "output_type": "stream",
     "text": [
      "[1] 96\n",
      "[1] \"Checking for files in:  ./output_chr1_a2_caud/\"\n",
      "[1] \"Using pattern:  libd_chr1-chr1_AA-1908982-1928981-dynamic-1corestotal-allcorepera\"\n",
      "[1] \"Found files with specific pattern: \"\n",
      "[1] \"./output_chr1_a2_caud//libd_chr1-chr1_AA-libd_chr1-chr1_AA-1908982-1928981-dynamic-1corestotal-allcorepera-20240416-161904.rds\"\n"
     ]
    },
    {
     "name": "stderr",
     "output_type": "stream",
     "text": [
      "File with tag libd_chr1-chr1_AA-1908982-1928981-dynamic-1corestotal-allcorepera already exists. Skipping...\n",
      "\n"
     ]
    },
    {
     "name": "stdout",
     "output_type": "stream",
     "text": [
      "[1] 97\n",
      "[1] \"Checking for files in:  ./output_chr1_a2_caud/\"\n",
      "[1] \"Using pattern:  libd_chr1-chr1_AA-1928982-1948981-dynamic-1corestotal-allcorepera\"\n",
      "[1] \"Found files with specific pattern: \"\n",
      "[1] \"./output_chr1_a2_caud//libd_chr1-chr1_AA-libd_chr1-chr1_AA-1928982-1948981-dynamic-1corestotal-allcorepera-20240416-162005.rds\"\n"
     ]
    },
    {
     "name": "stderr",
     "output_type": "stream",
     "text": [
      "File with tag libd_chr1-chr1_AA-1928982-1948981-dynamic-1corestotal-allcorepera already exists. Skipping...\n",
      "\n"
     ]
    },
    {
     "name": "stdout",
     "output_type": "stream",
     "text": [
      "[1] 98\n",
      "[1] \"Checking for files in:  ./output_chr1_a2_caud/\"\n",
      "[1] \"Using pattern:  libd_chr1-chr1_AA-1948982-1968981-dynamic-1corestotal-allcorepera\"\n",
      "[1] \"Found files with specific pattern: \"\n",
      "[1] \"./output_chr1_a2_caud//libd_chr1-chr1_AA-libd_chr1-chr1_AA-1948982-1968981-dynamic-1corestotal-allcorepera-20240416-162106.rds\"\n"
     ]
    },
    {
     "name": "stderr",
     "output_type": "stream",
     "text": [
      "File with tag libd_chr1-chr1_AA-1948982-1968981-dynamic-1corestotal-allcorepera already exists. Skipping...\n",
      "\n"
     ]
    },
    {
     "name": "stdout",
     "output_type": "stream",
     "text": [
      "[1] 99\n",
      "[1] \"Checking for files in:  ./output_chr1_a2_caud/\"\n",
      "[1] \"Using pattern:  libd_chr1-chr1_AA-1968982-1988981-dynamic-1corestotal-allcorepera\"\n",
      "[1] \"Found files with specific pattern: \"\n",
      "[1] \"./output_chr1_a2_caud//libd_chr1-chr1_AA-libd_chr1-chr1_AA-1968982-1988981-dynamic-1corestotal-allcorepera-20240416-162207.rds\"\n"
     ]
    },
    {
     "name": "stderr",
     "output_type": "stream",
     "text": [
      "File with tag libd_chr1-chr1_AA-1968982-1988981-dynamic-1corestotal-allcorepera already exists. Skipping...\n",
      "\n"
     ]
    },
    {
     "name": "stdout",
     "output_type": "stream",
     "text": [
      "[1] 100\n",
      "[1] \"Checking for files in:  ./output_chr1_a2_caud/\"\n",
      "[1] \"Using pattern:  libd_chr1-chr1_AA-1988982-2008981-dynamic-1corestotal-allcorepera\"\n",
      "[1] \"Found files with specific pattern: \"\n",
      "[1] \"./output_chr1_a2_caud//libd_chr1-chr1_AA-libd_chr1-chr1_AA-1988982-2008981-dynamic-1corestotal-allcorepera-20240416-162308.rds\"\n"
     ]
    },
    {
     "name": "stderr",
     "output_type": "stream",
     "text": [
      "File with tag libd_chr1-chr1_AA-1988982-2008981-dynamic-1corestotal-allcorepera already exists. Skipping...\n",
      "\n"
     ]
    },
    {
     "name": "stdout",
     "output_type": "stream",
     "text": [
      "[1] 101\n",
      "[1] \"Checking for files in:  ./output_chr1_a2_caud/\"\n",
      "[1] \"Using pattern:  libd_chr1-chr1_AA-2008982-2028981-dynamic-1corestotal-allcorepera\"\n",
      "[1] \"Found files with specific pattern: \"\n",
      "[1] \"./output_chr1_a2_caud//libd_chr1-chr1_AA-libd_chr1-chr1_AA-2008982-2028981-dynamic-1corestotal-allcorepera-20240416-162409.rds\"\n"
     ]
    },
    {
     "name": "stderr",
     "output_type": "stream",
     "text": [
      "File with tag libd_chr1-chr1_AA-2008982-2028981-dynamic-1corestotal-allcorepera already exists. Skipping...\n",
      "\n"
     ]
    },
    {
     "name": "stdout",
     "output_type": "stream",
     "text": [
      "[1] 102\n",
      "[1] \"Checking for files in:  ./output_chr1_a2_caud/\"\n",
      "[1] \"Using pattern:  libd_chr1-chr1_AA-2028982-2048981-dynamic-1corestotal-allcorepera\"\n",
      "[1] \"Found files with specific pattern: \"\n",
      "[1] \"./output_chr1_a2_caud//libd_chr1-chr1_AA-libd_chr1-chr1_AA-2028982-2048981-dynamic-1corestotal-allcorepera-20240416-162510.rds\"\n"
     ]
    },
    {
     "name": "stderr",
     "output_type": "stream",
     "text": [
      "File with tag libd_chr1-chr1_AA-2028982-2048981-dynamic-1corestotal-allcorepera already exists. Skipping...\n",
      "\n"
     ]
    },
    {
     "name": "stdout",
     "output_type": "stream",
     "text": [
      "[1] 103\n",
      "[1] \"Checking for files in:  ./output_chr1_a2_caud/\"\n",
      "[1] \"Using pattern:  libd_chr1-chr1_AA-2048982-2068981-dynamic-1corestotal-allcorepera\"\n",
      "[1] \"Found files with specific pattern: \"\n",
      "[1] \"./output_chr1_a2_caud//libd_chr1-chr1_AA-libd_chr1-chr1_AA-2048982-2068981-dynamic-1corestotal-allcorepera-20240416-162611.rds\"\n"
     ]
    },
    {
     "name": "stderr",
     "output_type": "stream",
     "text": [
      "File with tag libd_chr1-chr1_AA-2048982-2068981-dynamic-1corestotal-allcorepera already exists. Skipping...\n",
      "\n"
     ]
    },
    {
     "name": "stdout",
     "output_type": "stream",
     "text": [
      "[1] 104\n",
      "[1] \"Checking for files in:  ./output_chr1_a2_caud/\"\n",
      "[1] \"Using pattern:  libd_chr1-chr1_AA-2068982-2088981-dynamic-1corestotal-allcorepera\"\n",
      "[1] \"Found files with specific pattern: \"\n",
      "[1] \"./output_chr1_a2_caud//libd_chr1-chr1_AA-libd_chr1-chr1_AA-2068982-2088981-dynamic-1corestotal-allcorepera-20240416-162713.rds\"\n"
     ]
    },
    {
     "name": "stderr",
     "output_type": "stream",
     "text": [
      "File with tag libd_chr1-chr1_AA-2068982-2088981-dynamic-1corestotal-allcorepera already exists. Skipping...\n",
      "\n"
     ]
    },
    {
     "name": "stdout",
     "output_type": "stream",
     "text": [
      "[1] 105\n",
      "[1] \"Checking for files in:  ./output_chr1_a2_caud/\"\n",
      "[1] \"Using pattern:  libd_chr1-chr1_AA-2088982-2108981-dynamic-1corestotal-allcorepera\"\n",
      "[1] \"Found files with specific pattern: \"\n",
      "[1] \"./output_chr1_a2_caud//libd_chr1-chr1_AA-libd_chr1-chr1_AA-2088982-2108981-dynamic-1corestotal-allcorepera-20240416-162814.rds\"\n"
     ]
    },
    {
     "name": "stderr",
     "output_type": "stream",
     "text": [
      "File with tag libd_chr1-chr1_AA-2088982-2108981-dynamic-1corestotal-allcorepera already exists. Skipping...\n",
      "\n"
     ]
    },
    {
     "name": "stdout",
     "output_type": "stream",
     "text": [
      "[1] 106\n",
      "[1] \"Checking for files in:  ./output_chr1_a2_caud/\"\n",
      "[1] \"Using pattern:  libd_chr1-chr1_AA-2108982-2128981-dynamic-1corestotal-allcorepera\"\n",
      "[1] \"Found files with specific pattern: \"\n",
      "[1] \"./output_chr1_a2_caud//libd_chr1-chr1_AA-libd_chr1-chr1_AA-2108982-2128981-dynamic-1corestotal-allcorepera-20240416-162915.rds\"\n"
     ]
    },
    {
     "name": "stderr",
     "output_type": "stream",
     "text": [
      "File with tag libd_chr1-chr1_AA-2108982-2128981-dynamic-1corestotal-allcorepera already exists. Skipping...\n",
      "\n"
     ]
    },
    {
     "name": "stdout",
     "output_type": "stream",
     "text": [
      "[1] 107\n",
      "[1] \"Checking for files in:  ./output_chr1_a2_caud/\"\n",
      "[1] \"Using pattern:  libd_chr1-chr1_AA-2128982-2148981-dynamic-1corestotal-allcorepera\"\n",
      "[1] \"Found files with specific pattern: \"\n",
      "[1] \"./output_chr1_a2_caud//libd_chr1-chr1_AA-libd_chr1-chr1_AA-2128982-2148981-dynamic-1corestotal-allcorepera-20240416-163016.rds\"\n"
     ]
    },
    {
     "name": "stderr",
     "output_type": "stream",
     "text": [
      "File with tag libd_chr1-chr1_AA-2128982-2148981-dynamic-1corestotal-allcorepera already exists. Skipping...\n",
      "\n"
     ]
    },
    {
     "name": "stdout",
     "output_type": "stream",
     "text": [
      "[1] 108\n",
      "[1] \"Checking for files in:  ./output_chr1_a2_caud/\"\n",
      "[1] \"Using pattern:  libd_chr1-chr1_AA-2148982-2168981-dynamic-1corestotal-allcorepera\"\n",
      "[1] \"Found files with specific pattern: \"\n",
      "[1] \"./output_chr1_a2_caud//libd_chr1-chr1_AA-libd_chr1-chr1_AA-2148982-2168981-dynamic-1corestotal-allcorepera-20240416-163117.rds\"\n"
     ]
    },
    {
     "name": "stderr",
     "output_type": "stream",
     "text": [
      "File with tag libd_chr1-chr1_AA-2148982-2168981-dynamic-1corestotal-allcorepera already exists. Skipping...\n",
      "\n"
     ]
    },
    {
     "name": "stdout",
     "output_type": "stream",
     "text": [
      "[1] 109\n",
      "[1] \"Checking for files in:  ./output_chr1_a2_caud/\"\n",
      "[1] \"Using pattern:  libd_chr1-chr1_AA-2168982-2188981-dynamic-1corestotal-allcorepera\"\n",
      "[1] \"Found files with specific pattern: \"\n",
      "[1] \"./output_chr1_a2_caud//libd_chr1-chr1_AA-libd_chr1-chr1_AA-2168982-2188981-dynamic-1corestotal-allcorepera-20240416-163218.rds\"\n"
     ]
    },
    {
     "name": "stderr",
     "output_type": "stream",
     "text": [
      "File with tag libd_chr1-chr1_AA-2168982-2188981-dynamic-1corestotal-allcorepera already exists. Skipping...\n",
      "\n"
     ]
    },
    {
     "name": "stdout",
     "output_type": "stream",
     "text": [
      "[1] 110\n",
      "[1] \"Checking for files in:  ./output_chr1_a2_caud/\"\n",
      "[1] \"Using pattern:  libd_chr1-chr1_AA-2188982-2202702-dynamic-1corestotal-allcorepera\"\n",
      "[1] \"Found files with specific pattern: \"\n",
      "[1] \"./output_chr1_a2_caud//libd_chr1-chr1_AA-libd_chr1-chr1_AA-2188982-2202702-dynamic-1corestotal-allcorepera-20240416-163319.rds\"\n"
     ]
    },
    {
     "name": "stderr",
     "output_type": "stream",
     "text": [
      "File with tag libd_chr1-chr1_AA-2188982-2202702-dynamic-1corestotal-allcorepera already exists. Skipping...\n",
      "\n"
     ]
    },
    {
     "name": "stdout",
     "output_type": "stream",
     "text": [
      "[1] 111\n",
      "[1] \"Checking for files in:  ./output_chr1_a2_caud/\"\n",
      "[1] \"Using pattern:  libd_chr1-chr1_all-8982-28981-dynamic-1corestotal-allcorepera\"\n",
      "[1] \"Found files with specific pattern: \"\n",
      "[1] \"./output_chr1_a2_caud//libd_chr1-chr1_all-libd_chr1-chr1_all-8982-28981-dynamic-1corestotal-allcorepera-20240416-163420.rds\"\n"
     ]
    },
    {
     "name": "stderr",
     "output_type": "stream",
     "text": [
      "File with tag libd_chr1-chr1_all-8982-28981-dynamic-1corestotal-allcorepera already exists. Skipping...\n",
      "\n"
     ]
    },
    {
     "name": "stdout",
     "output_type": "stream",
     "text": [
      "[1] 112\n",
      "[1] \"Checking for files in:  ./output_chr1_a2_caud/\"\n",
      "[1] \"Using pattern:  libd_chr1-chr1_all-28982-48981-dynamic-1corestotal-allcorepera\"\n",
      "[1] \"Found files with specific pattern: \"\n",
      "[1] \"./output_chr1_a2_caud//libd_chr1-chr1_all-libd_chr1-chr1_all-28982-48981-dynamic-1corestotal-allcorepera-20240416-163521.rds\"\n"
     ]
    },
    {
     "name": "stderr",
     "output_type": "stream",
     "text": [
      "File with tag libd_chr1-chr1_all-28982-48981-dynamic-1corestotal-allcorepera already exists. Skipping...\n",
      "\n"
     ]
    },
    {
     "name": "stdout",
     "output_type": "stream",
     "text": [
      "[1] 113\n",
      "[1] \"Checking for files in:  ./output_chr1_a2_caud/\"\n",
      "[1] \"Using pattern:  libd_chr1-chr1_all-48982-68981-dynamic-1corestotal-allcorepera\"\n",
      "[1] \"Found files with specific pattern: \"\n",
      "[1] \"./output_chr1_a2_caud//libd_chr1-chr1_all-libd_chr1-chr1_all-48982-68981-dynamic-1corestotal-allcorepera-20240416-163622.rds\"\n"
     ]
    },
    {
     "name": "stderr",
     "output_type": "stream",
     "text": [
      "File with tag libd_chr1-chr1_all-48982-68981-dynamic-1corestotal-allcorepera already exists. Skipping...\n",
      "\n"
     ]
    },
    {
     "name": "stdout",
     "output_type": "stream",
     "text": [
      "[1] 114\n",
      "[1] \"Checking for files in:  ./output_chr1_a2_caud/\"\n",
      "[1] \"Using pattern:  libd_chr1-chr1_all-68982-88981-dynamic-1corestotal-allcorepera\"\n",
      "[1] \"Found files with specific pattern: \"\n",
      "[1] \"./output_chr1_a2_caud//libd_chr1-chr1_all-libd_chr1-chr1_all-68982-88981-dynamic-1corestotal-allcorepera-20240416-163724.rds\"\n"
     ]
    },
    {
     "name": "stderr",
     "output_type": "stream",
     "text": [
      "File with tag libd_chr1-chr1_all-68982-88981-dynamic-1corestotal-allcorepera already exists. Skipping...\n",
      "\n"
     ]
    },
    {
     "name": "stdout",
     "output_type": "stream",
     "text": [
      "[1] 115\n",
      "[1] \"Checking for files in:  ./output_chr1_a2_caud/\"\n",
      "[1] \"Using pattern:  libd_chr1-chr1_all-88982-108981-dynamic-1corestotal-allcorepera\"\n",
      "[1] \"Found files with specific pattern: \"\n",
      "[1] \"./output_chr1_a2_caud//libd_chr1-chr1_all-libd_chr1-chr1_all-88982-108981-dynamic-1corestotal-allcorepera-20240416-163825.rds\"\n"
     ]
    },
    {
     "name": "stderr",
     "output_type": "stream",
     "text": [
      "File with tag libd_chr1-chr1_all-88982-108981-dynamic-1corestotal-allcorepera already exists. Skipping...\n",
      "\n"
     ]
    },
    {
     "name": "stdout",
     "output_type": "stream",
     "text": [
      "[1] 116\n",
      "[1] \"Checking for files in:  ./output_chr1_a2_caud/\"\n",
      "[1] \"Using pattern:  libd_chr1-chr1_all-108982-128981-dynamic-1corestotal-allcorepera\"\n",
      "[1] \"Found files with specific pattern: \"\n",
      "[1] \"./output_chr1_a2_caud//libd_chr1-chr1_all-libd_chr1-chr1_all-108982-128981-dynamic-1corestotal-allcorepera-20240416-163926.rds\"\n"
     ]
    },
    {
     "name": "stderr",
     "output_type": "stream",
     "text": [
      "File with tag libd_chr1-chr1_all-108982-128981-dynamic-1corestotal-allcorepera already exists. Skipping...\n",
      "\n"
     ]
    },
    {
     "name": "stdout",
     "output_type": "stream",
     "text": [
      "[1] 117\n",
      "[1] \"Checking for files in:  ./output_chr1_a2_caud/\"\n",
      "[1] \"Using pattern:  libd_chr1-chr1_all-128982-148981-dynamic-1corestotal-allcorepera\"\n",
      "[1] \"Found files with specific pattern: \"\n",
      "[1] \"./output_chr1_a2_caud//libd_chr1-chr1_all-libd_chr1-chr1_all-128982-148981-dynamic-1corestotal-allcorepera-20240416-164027.rds\"\n"
     ]
    },
    {
     "name": "stderr",
     "output_type": "stream",
     "text": [
      "File with tag libd_chr1-chr1_all-128982-148981-dynamic-1corestotal-allcorepera already exists. Skipping...\n",
      "\n"
     ]
    },
    {
     "name": "stdout",
     "output_type": "stream",
     "text": [
      "[1] 118\n",
      "[1] \"Checking for files in:  ./output_chr1_a2_caud/\"\n",
      "[1] \"Using pattern:  libd_chr1-chr1_all-148982-168981-dynamic-1corestotal-allcorepera\"\n",
      "[1] \"Found files with specific pattern: \"\n",
      "[1] \"./output_chr1_a2_caud//libd_chr1-chr1_all-libd_chr1-chr1_all-148982-168981-dynamic-1corestotal-allcorepera-20240416-164128.rds\"\n"
     ]
    },
    {
     "name": "stderr",
     "output_type": "stream",
     "text": [
      "File with tag libd_chr1-chr1_all-148982-168981-dynamic-1corestotal-allcorepera already exists. Skipping...\n",
      "\n"
     ]
    },
    {
     "name": "stdout",
     "output_type": "stream",
     "text": [
      "[1] 119\n",
      "[1] \"Checking for files in:  ./output_chr1_a2_caud/\"\n",
      "[1] \"Using pattern:  libd_chr1-chr1_all-168982-188981-dynamic-1corestotal-allcorepera\"\n",
      "[1] \"Found files with specific pattern: \"\n",
      "[1] \"./output_chr1_a2_caud//libd_chr1-chr1_all-libd_chr1-chr1_all-168982-188981-dynamic-1corestotal-allcorepera-20240416-164229.rds\"\n"
     ]
    },
    {
     "name": "stderr",
     "output_type": "stream",
     "text": [
      "File with tag libd_chr1-chr1_all-168982-188981-dynamic-1corestotal-allcorepera already exists. Skipping...\n",
      "\n"
     ]
    },
    {
     "name": "stdout",
     "output_type": "stream",
     "text": [
      "[1] 120\n",
      "[1] \"Checking for files in:  ./output_chr1_a2_caud/\"\n",
      "[1] \"Using pattern:  libd_chr1-chr1_all-188982-208981-dynamic-1corestotal-allcorepera\"\n",
      "[1] \"Found files with specific pattern: \"\n",
      "[1] \"./output_chr1_a2_caud//libd_chr1-chr1_all-libd_chr1-chr1_all-188982-208981-dynamic-1corestotal-allcorepera-20240416-164330.rds\"\n"
     ]
    },
    {
     "name": "stderr",
     "output_type": "stream",
     "text": [
      "File with tag libd_chr1-chr1_all-188982-208981-dynamic-1corestotal-allcorepera already exists. Skipping...\n",
      "\n"
     ]
    },
    {
     "name": "stdout",
     "output_type": "stream",
     "text": [
      "[1] 121\n",
      "[1] \"Checking for files in:  ./output_chr1_a2_caud/\"\n",
      "[1] \"Using pattern:  libd_chr1-chr1_all-208982-228981-dynamic-1corestotal-allcorepera\"\n",
      "[1] \"Found files with specific pattern: \"\n",
      "[1] \"./output_chr1_a2_caud//libd_chr1-chr1_all-libd_chr1-chr1_all-208982-228981-dynamic-1corestotal-allcorepera-20240416-164431.rds\"\n"
     ]
    },
    {
     "name": "stderr",
     "output_type": "stream",
     "text": [
      "File with tag libd_chr1-chr1_all-208982-228981-dynamic-1corestotal-allcorepera already exists. Skipping...\n",
      "\n"
     ]
    },
    {
     "name": "stdout",
     "output_type": "stream",
     "text": [
      "[1] 122\n",
      "[1] \"Checking for files in:  ./output_chr1_a2_caud/\"\n",
      "[1] \"Using pattern:  libd_chr1-chr1_all-228982-248981-dynamic-1corestotal-allcorepera\"\n",
      "[1] \"Found files with specific pattern: \"\n",
      "[1] \"./output_chr1_a2_caud//libd_chr1-chr1_all-libd_chr1-chr1_all-228982-248981-dynamic-1corestotal-allcorepera-20240416-164532.rds\"\n"
     ]
    },
    {
     "name": "stderr",
     "output_type": "stream",
     "text": [
      "File with tag libd_chr1-chr1_all-228982-248981-dynamic-1corestotal-allcorepera already exists. Skipping...\n",
      "\n"
     ]
    },
    {
     "name": "stdout",
     "output_type": "stream",
     "text": [
      "[1] 123\n",
      "[1] \"Checking for files in:  ./output_chr1_a2_caud/\"\n",
      "[1] \"Using pattern:  libd_chr1-chr1_all-248982-268981-dynamic-1corestotal-allcorepera\"\n",
      "[1] \"Found files with specific pattern: \"\n",
      "[1] \"./output_chr1_a2_caud//libd_chr1-chr1_all-libd_chr1-chr1_all-248982-268981-dynamic-1corestotal-allcorepera-20240416-164633.rds\"\n"
     ]
    },
    {
     "name": "stderr",
     "output_type": "stream",
     "text": [
      "File with tag libd_chr1-chr1_all-248982-268981-dynamic-1corestotal-allcorepera already exists. Skipping...\n",
      "\n"
     ]
    },
    {
     "name": "stdout",
     "output_type": "stream",
     "text": [
      "[1] 124\n",
      "[1] \"Checking for files in:  ./output_chr1_a2_caud/\"\n",
      "[1] \"Using pattern:  libd_chr1-chr1_all-268982-288981-dynamic-1corestotal-allcorepera\"\n",
      "[1] \"Found files with specific pattern: \"\n",
      "[1] \"./output_chr1_a2_caud//libd_chr1-chr1_all-libd_chr1-chr1_all-268982-288981-dynamic-1corestotal-allcorepera-20240416-164735.rds\"\n"
     ]
    },
    {
     "name": "stderr",
     "output_type": "stream",
     "text": [
      "File with tag libd_chr1-chr1_all-268982-288981-dynamic-1corestotal-allcorepera already exists. Skipping...\n",
      "\n"
     ]
    },
    {
     "name": "stdout",
     "output_type": "stream",
     "text": [
      "[1] 125\n",
      "[1] \"Checking for files in:  ./output_chr1_a2_caud/\"\n",
      "[1] \"Using pattern:  libd_chr1-chr1_all-288982-308981-dynamic-1corestotal-allcorepera\"\n",
      "[1] \"Found files with specific pattern: \"\n",
      "[1] \"./output_chr1_a2_caud//libd_chr1-chr1_all-libd_chr1-chr1_all-288982-308981-dynamic-1corestotal-allcorepera-20240416-164836.rds\"\n"
     ]
    },
    {
     "name": "stderr",
     "output_type": "stream",
     "text": [
      "File with tag libd_chr1-chr1_all-288982-308981-dynamic-1corestotal-allcorepera already exists. Skipping...\n",
      "\n"
     ]
    },
    {
     "name": "stdout",
     "output_type": "stream",
     "text": [
      "[1] 126\n",
      "[1] \"Checking for files in:  ./output_chr1_a2_caud/\"\n",
      "[1] \"Using pattern:  libd_chr1-chr1_all-308982-328981-dynamic-1corestotal-allcorepera\"\n",
      "[1] \"Found files with specific pattern: \"\n",
      "[1] \"./output_chr1_a2_caud//libd_chr1-chr1_all-libd_chr1-chr1_all-308982-328981-dynamic-1corestotal-allcorepera-20240416-164937.rds\"\n"
     ]
    },
    {
     "name": "stderr",
     "output_type": "stream",
     "text": [
      "File with tag libd_chr1-chr1_all-308982-328981-dynamic-1corestotal-allcorepera already exists. Skipping...\n",
      "\n"
     ]
    },
    {
     "name": "stdout",
     "output_type": "stream",
     "text": [
      "[1] 127\n",
      "[1] \"Checking for files in:  ./output_chr1_a2_caud/\"\n",
      "[1] \"Using pattern:  libd_chr1-chr1_all-328982-348981-dynamic-1corestotal-allcorepera\"\n",
      "[1] \"Found files with specific pattern: \"\n",
      "[1] \"./output_chr1_a2_caud//libd_chr1-chr1_all-libd_chr1-chr1_all-328982-348981-dynamic-1corestotal-allcorepera-20240416-165038.rds\"\n"
     ]
    },
    {
     "name": "stderr",
     "output_type": "stream",
     "text": [
      "File with tag libd_chr1-chr1_all-328982-348981-dynamic-1corestotal-allcorepera already exists. Skipping...\n",
      "\n"
     ]
    },
    {
     "name": "stdout",
     "output_type": "stream",
     "text": [
      "[1] 128\n",
      "[1] \"Checking for files in:  ./output_chr1_a2_caud/\"\n",
      "[1] \"Using pattern:  libd_chr1-chr1_all-348982-368981-dynamic-1corestotal-allcorepera\"\n",
      "[1] \"Found files with specific pattern: \"\n",
      "[1] \"./output_chr1_a2_caud//libd_chr1-chr1_all-libd_chr1-chr1_all-348982-368981-dynamic-1corestotal-allcorepera-20240416-165139.rds\"\n"
     ]
    },
    {
     "name": "stderr",
     "output_type": "stream",
     "text": [
      "File with tag libd_chr1-chr1_all-348982-368981-dynamic-1corestotal-allcorepera already exists. Skipping...\n",
      "\n"
     ]
    },
    {
     "name": "stdout",
     "output_type": "stream",
     "text": [
      "[1] 129\n",
      "[1] \"Checking for files in:  ./output_chr1_a2_caud/\"\n",
      "[1] \"Using pattern:  libd_chr1-chr1_all-368982-388981-dynamic-1corestotal-allcorepera\"\n",
      "[1] \"Found files with specific pattern: \"\n",
      "character(0)\n",
      "\n",
      "#!/bin/bash\n",
      "#SBATCH --nodes=1\n",
      "#SBATCH --ntasks-per-node=1\n",
      "#SBATCH --cpus-per-task=1\n",
      "#SBATCH --mem-per-cpu=2G\n",
      "#SBATCH --output=slurm_output_libd_chr1-chr1_all-368982-388981-dynamic-1corestotal-allcorepera-20240419-114256.out\n",
      "#SBATCH --job-name=libd_chr1-chr1_all-368982-388981-dynamic-1corestotal-allcorepera-20240419-114256\n",
      "#SBATCH --time=48:00:00\n",
      "module load conda\n",
      "conda activate mwas\n",
      "echo 'Executing Rscript with arguments: Rscript scripts/CLI.R --outdir=./output_chr1_a2_caud/ --snp_data_path=/dcs04/lieber/statsgen/shizhong/michael/mwas/gwas//libd_chr1.pgen --methylation_data_path=/dcs04/lieber/statsgen/shizhong/michael/mwas/pheno/caud/out/chr1_all.rda --cov=/dcs04/lieber/statsgen/mnagle/mwas/full_covariates/all_caud.csv --verbose=FALSE --lambda_choice=1se --alphas=0.5 --allow_inefficient_parallelization=FALSE --n_fold=5 --window_sizes=10000 --save_evaluation_results_each_fold=FALSE --save_glmnet_object=FALSE --omit_folds_with_na_r=TRUE --methInput_rds_path=/dcs04/lieber/statsgen/mnagle/mwas/pheno/caud/out/chr1_all_368982-388981.rds --chunk1=1 --chunk2=20000 --cv_eval_mode=dynamic --num_cores=1 --cores_per_alpha=all --tag=libd_chr1-chr1_all-368982-388981-dynamic-1corestotal-allcorepera-20240419-114256'\n",
      "Rscript scripts/CLI.R --outdir=./output_chr1_a2_caud/ --snp_data_path=/dcs04/lieber/statsgen/shizhong/michael/mwas/gwas//libd_chr1.pgen --methylation_data_path=/dcs04/lieber/statsgen/shizhong/michael/mwas/pheno/caud/out/chr1_all.rda --cov=/dcs04/lieber/statsgen/mnagle/mwas/full_covariates/all_caud.csv --verbose=FALSE --lambda_choice=1se --alphas=0.5 --allow_inefficient_parallelization=FALSE --n_fold=5 --window_sizes=10000 --save_evaluation_results_each_fold=FALSE --save_glmnet_object=FALSE --omit_folds_with_na_r=TRUE --methInput_rds_path=/dcs04/lieber/statsgen/mnagle/mwas/pheno/caud/out/chr1_all_368982-388981.rds --chunk1=1 --chunk2=20000 --cv_eval_mode=dynamic --num_cores=1 --cores_per_alpha=all --tag=libd_chr1-chr1_all-368982-388981-dynamic-1corestotal-allcorepera-20240419-114256\n"
     ]
    },
    {
     "name": "stderr",
     "output_type": "stream",
     "text": [
      "Sleeping for 181 seconds\n",
      "\n"
     ]
    },
    {
     "name": "stdout",
     "output_type": "stream",
     "text": [
      "\n",
      "[1] 130\n",
      "[1] \"Checking for files in:  ./output_chr1_a2_caud/\"\n",
      "[1] \"Using pattern:  libd_chr1-chr1_all-388982-408981-dynamic-1corestotal-allcorepera\"\n",
      "[1] \"Found files with specific pattern: \"\n",
      "[1] \"./output_chr1_a2_caud//libd_chr1-chr1_all-libd_chr1-chr1_all-388982-408981-dynamic-1corestotal-allcorepera-20240416-165342.rds\"\n"
     ]
    },
    {
     "name": "stderr",
     "output_type": "stream",
     "text": [
      "File with tag libd_chr1-chr1_all-388982-408981-dynamic-1corestotal-allcorepera already exists. Skipping...\n",
      "\n"
     ]
    },
    {
     "name": "stdout",
     "output_type": "stream",
     "text": [
      "[1] 131\n",
      "[1] \"Checking for files in:  ./output_chr1_a2_caud/\"\n",
      "[1] \"Using pattern:  libd_chr1-chr1_all-408982-428981-dynamic-1corestotal-allcorepera\"\n",
      "[1] \"Found files with specific pattern: \"\n",
      "[1] \"./output_chr1_a2_caud//libd_chr1-chr1_all-libd_chr1-chr1_all-408982-428981-dynamic-1corestotal-allcorepera-20240416-165443.rds\"\n"
     ]
    },
    {
     "name": "stderr",
     "output_type": "stream",
     "text": [
      "File with tag libd_chr1-chr1_all-408982-428981-dynamic-1corestotal-allcorepera already exists. Skipping...\n",
      "\n"
     ]
    },
    {
     "name": "stdout",
     "output_type": "stream",
     "text": [
      "[1] 132\n",
      "[1] \"Checking for files in:  ./output_chr1_a2_caud/\"\n",
      "[1] \"Using pattern:  libd_chr1-chr1_all-428982-448981-dynamic-1corestotal-allcorepera\"\n",
      "[1] \"Found files with specific pattern: \"\n",
      "[1] \"./output_chr1_a2_caud//libd_chr1-chr1_all-libd_chr1-chr1_all-428982-448981-dynamic-1corestotal-allcorepera-20240416-165544.rds\"\n"
     ]
    },
    {
     "name": "stderr",
     "output_type": "stream",
     "text": [
      "File with tag libd_chr1-chr1_all-428982-448981-dynamic-1corestotal-allcorepera already exists. Skipping...\n",
      "\n"
     ]
    },
    {
     "name": "stdout",
     "output_type": "stream",
     "text": [
      "[1] 133\n",
      "[1] \"Checking for files in:  ./output_chr1_a2_caud/\"\n",
      "[1] \"Using pattern:  libd_chr1-chr1_all-448982-468981-dynamic-1corestotal-allcorepera\"\n",
      "[1] \"Found files with specific pattern: \"\n",
      "[1] \"./output_chr1_a2_caud//libd_chr1-chr1_all-libd_chr1-chr1_all-448982-468981-dynamic-1corestotal-allcorepera-20240416-165645.rds\"\n"
     ]
    },
    {
     "name": "stderr",
     "output_type": "stream",
     "text": [
      "File with tag libd_chr1-chr1_all-448982-468981-dynamic-1corestotal-allcorepera already exists. Skipping...\n",
      "\n"
     ]
    },
    {
     "name": "stdout",
     "output_type": "stream",
     "text": [
      "[1] 134\n",
      "[1] \"Checking for files in:  ./output_chr1_a2_caud/\"\n",
      "[1] \"Using pattern:  libd_chr1-chr1_all-468982-488981-dynamic-1corestotal-allcorepera\"\n",
      "[1] \"Found files with specific pattern: \"\n",
      "[1] \"./output_chr1_a2_caud//libd_chr1-chr1_all-libd_chr1-chr1_all-468982-488981-dynamic-1corestotal-allcorepera-20240416-165746.rds\"\n"
     ]
    },
    {
     "name": "stderr",
     "output_type": "stream",
     "text": [
      "File with tag libd_chr1-chr1_all-468982-488981-dynamic-1corestotal-allcorepera already exists. Skipping...\n",
      "\n"
     ]
    },
    {
     "name": "stdout",
     "output_type": "stream",
     "text": [
      "[1] 135\n",
      "[1] \"Checking for files in:  ./output_chr1_a2_caud/\"\n",
      "[1] \"Using pattern:  libd_chr1-chr1_all-488982-508981-dynamic-1corestotal-allcorepera\"\n",
      "[1] \"Found files with specific pattern: \"\n",
      "[1] \"./output_chr1_a2_caud//libd_chr1-chr1_all-libd_chr1-chr1_all-488982-508981-dynamic-1corestotal-allcorepera-20240416-165847.rds\"\n"
     ]
    },
    {
     "name": "stderr",
     "output_type": "stream",
     "text": [
      "File with tag libd_chr1-chr1_all-488982-508981-dynamic-1corestotal-allcorepera already exists. Skipping...\n",
      "\n"
     ]
    },
    {
     "name": "stdout",
     "output_type": "stream",
     "text": [
      "[1] 136\n",
      "[1] \"Checking for files in:  ./output_chr1_a2_caud/\"\n",
      "[1] \"Using pattern:  libd_chr1-chr1_all-508982-528981-dynamic-1corestotal-allcorepera\"\n",
      "[1] \"Found files with specific pattern: \"\n",
      "[1] \"./output_chr1_a2_caud//libd_chr1-chr1_all-libd_chr1-chr1_all-508982-528981-dynamic-1corestotal-allcorepera-20240416-165948.rds\"\n"
     ]
    },
    {
     "name": "stderr",
     "output_type": "stream",
     "text": [
      "File with tag libd_chr1-chr1_all-508982-528981-dynamic-1corestotal-allcorepera already exists. Skipping...\n",
      "\n"
     ]
    },
    {
     "name": "stdout",
     "output_type": "stream",
     "text": [
      "[1] 137\n",
      "[1] \"Checking for files in:  ./output_chr1_a2_caud/\"\n",
      "[1] \"Using pattern:  libd_chr1-chr1_all-528982-548981-dynamic-1corestotal-allcorepera\"\n",
      "[1] \"Found files with specific pattern: \"\n",
      "[1] \"./output_chr1_a2_caud//libd_chr1-chr1_all-libd_chr1-chr1_all-528982-548981-dynamic-1corestotal-allcorepera-20240416-170049.rds\"\n"
     ]
    },
    {
     "name": "stderr",
     "output_type": "stream",
     "text": [
      "File with tag libd_chr1-chr1_all-528982-548981-dynamic-1corestotal-allcorepera already exists. Skipping...\n",
      "\n"
     ]
    },
    {
     "name": "stdout",
     "output_type": "stream",
     "text": [
      "[1] 138\n",
      "[1] \"Checking for files in:  ./output_chr1_a2_caud/\"\n",
      "[1] \"Using pattern:  libd_chr1-chr1_all-548982-568981-dynamic-1corestotal-allcorepera\"\n",
      "[1] \"Found files with specific pattern: \"\n",
      "[1] \"./output_chr1_a2_caud//libd_chr1-chr1_all-libd_chr1-chr1_all-548982-568981-dynamic-1corestotal-allcorepera-20240416-170150.rds\"\n"
     ]
    },
    {
     "name": "stderr",
     "output_type": "stream",
     "text": [
      "File with tag libd_chr1-chr1_all-548982-568981-dynamic-1corestotal-allcorepera already exists. Skipping...\n",
      "\n"
     ]
    },
    {
     "name": "stdout",
     "output_type": "stream",
     "text": [
      "[1] 139\n",
      "[1] \"Checking for files in:  ./output_chr1_a2_caud/\"\n",
      "[1] \"Using pattern:  libd_chr1-chr1_all-568982-588981-dynamic-1corestotal-allcorepera\"\n",
      "[1] \"Found files with specific pattern: \"\n",
      "[1] \"./output_chr1_a2_caud//libd_chr1-chr1_all-libd_chr1-chr1_all-568982-588981-dynamic-1corestotal-allcorepera-20240416-170252.rds\"\n"
     ]
    },
    {
     "name": "stderr",
     "output_type": "stream",
     "text": [
      "File with tag libd_chr1-chr1_all-568982-588981-dynamic-1corestotal-allcorepera already exists. Skipping...\n",
      "\n"
     ]
    },
    {
     "name": "stdout",
     "output_type": "stream",
     "text": [
      "[1] 140\n",
      "[1] \"Checking for files in:  ./output_chr1_a2_caud/\"\n",
      "[1] \"Using pattern:  libd_chr1-chr1_all-588982-608981-dynamic-1corestotal-allcorepera\"\n",
      "[1] \"Found files with specific pattern: \"\n",
      "[1] \"./output_chr1_a2_caud//libd_chr1-chr1_all-libd_chr1-chr1_all-588982-608981-dynamic-1corestotal-allcorepera-20240416-170353.rds\"\n"
     ]
    },
    {
     "name": "stderr",
     "output_type": "stream",
     "text": [
      "File with tag libd_chr1-chr1_all-588982-608981-dynamic-1corestotal-allcorepera already exists. Skipping...\n",
      "\n"
     ]
    },
    {
     "name": "stdout",
     "output_type": "stream",
     "text": [
      "[1] 141\n",
      "[1] \"Checking for files in:  ./output_chr1_a2_caud/\"\n",
      "[1] \"Using pattern:  libd_chr1-chr1_all-608982-628981-dynamic-1corestotal-allcorepera\"\n",
      "[1] \"Found files with specific pattern: \"\n",
      "[1] \"./output_chr1_a2_caud//libd_chr1-chr1_all-libd_chr1-chr1_all-608982-628981-dynamic-1corestotal-allcorepera-20240416-170454.rds\"\n"
     ]
    },
    {
     "name": "stderr",
     "output_type": "stream",
     "text": [
      "File with tag libd_chr1-chr1_all-608982-628981-dynamic-1corestotal-allcorepera already exists. Skipping...\n",
      "\n"
     ]
    },
    {
     "name": "stdout",
     "output_type": "stream",
     "text": [
      "[1] 142\n",
      "[1] \"Checking for files in:  ./output_chr1_a2_caud/\"\n",
      "[1] \"Using pattern:  libd_chr1-chr1_all-628982-648981-dynamic-1corestotal-allcorepera\"\n",
      "[1] \"Found files with specific pattern: \"\n",
      "[1] \"./output_chr1_a2_caud//libd_chr1-chr1_all-libd_chr1-chr1_all-628982-648981-dynamic-1corestotal-allcorepera-20240416-170555.rds\"\n"
     ]
    },
    {
     "name": "stderr",
     "output_type": "stream",
     "text": [
      "File with tag libd_chr1-chr1_all-628982-648981-dynamic-1corestotal-allcorepera already exists. Skipping...\n",
      "\n"
     ]
    },
    {
     "name": "stdout",
     "output_type": "stream",
     "text": [
      "[1] 143\n",
      "[1] \"Checking for files in:  ./output_chr1_a2_caud/\"\n",
      "[1] \"Using pattern:  libd_chr1-chr1_all-648982-668981-dynamic-1corestotal-allcorepera\"\n",
      "[1] \"Found files with specific pattern: \"\n",
      "[1] \"./output_chr1_a2_caud//libd_chr1-chr1_all-libd_chr1-chr1_all-648982-668981-dynamic-1corestotal-allcorepera-20240416-170656.rds\"\n"
     ]
    },
    {
     "name": "stderr",
     "output_type": "stream",
     "text": [
      "File with tag libd_chr1-chr1_all-648982-668981-dynamic-1corestotal-allcorepera already exists. Skipping...\n",
      "\n"
     ]
    },
    {
     "name": "stdout",
     "output_type": "stream",
     "text": [
      "[1] 144\n",
      "[1] \"Checking for files in:  ./output_chr1_a2_caud/\"\n",
      "[1] \"Using pattern:  libd_chr1-chr1_all-668982-688981-dynamic-1corestotal-allcorepera\"\n",
      "[1] \"Found files with specific pattern: \"\n",
      "[1] \"./output_chr1_a2_caud//libd_chr1-chr1_all-libd_chr1-chr1_all-668982-688981-dynamic-1corestotal-allcorepera-20240416-170757.rds\"\n"
     ]
    },
    {
     "name": "stderr",
     "output_type": "stream",
     "text": [
      "File with tag libd_chr1-chr1_all-668982-688981-dynamic-1corestotal-allcorepera already exists. Skipping...\n",
      "\n"
     ]
    },
    {
     "name": "stdout",
     "output_type": "stream",
     "text": [
      "[1] 145\n",
      "[1] \"Checking for files in:  ./output_chr1_a2_caud/\"\n",
      "[1] \"Using pattern:  libd_chr1-chr1_all-688982-708981-dynamic-1corestotal-allcorepera\"\n",
      "[1] \"Found files with specific pattern: \"\n",
      "[1] \"./output_chr1_a2_caud//libd_chr1-chr1_all-libd_chr1-chr1_all-688982-708981-dynamic-1corestotal-allcorepera-20240416-170858.rds\"\n"
     ]
    },
    {
     "name": "stderr",
     "output_type": "stream",
     "text": [
      "File with tag libd_chr1-chr1_all-688982-708981-dynamic-1corestotal-allcorepera already exists. Skipping...\n",
      "\n"
     ]
    },
    {
     "name": "stdout",
     "output_type": "stream",
     "text": [
      "[1] 146\n",
      "[1] \"Checking for files in:  ./output_chr1_a2_caud/\"\n",
      "[1] \"Using pattern:  libd_chr1-chr1_all-708982-728981-dynamic-1corestotal-allcorepera\"\n",
      "[1] \"Found files with specific pattern: \"\n",
      "[1] \"./output_chr1_a2_caud//libd_chr1-chr1_all-libd_chr1-chr1_all-708982-728981-dynamic-1corestotal-allcorepera-20240416-170959.rds\"\n"
     ]
    },
    {
     "name": "stderr",
     "output_type": "stream",
     "text": [
      "File with tag libd_chr1-chr1_all-708982-728981-dynamic-1corestotal-allcorepera already exists. Skipping...\n",
      "\n"
     ]
    },
    {
     "name": "stdout",
     "output_type": "stream",
     "text": [
      "[1] 147\n",
      "[1] \"Checking for files in:  ./output_chr1_a2_caud/\"\n",
      "[1] \"Using pattern:  libd_chr1-chr1_all-728982-748981-dynamic-1corestotal-allcorepera\"\n",
      "[1] \"Found files with specific pattern: \"\n",
      "[1] \"./output_chr1_a2_caud//libd_chr1-chr1_all-libd_chr1-chr1_all-728982-748981-dynamic-1corestotal-allcorepera-20240416-171100.rds\"\n"
     ]
    },
    {
     "name": "stderr",
     "output_type": "stream",
     "text": [
      "File with tag libd_chr1-chr1_all-728982-748981-dynamic-1corestotal-allcorepera already exists. Skipping...\n",
      "\n"
     ]
    },
    {
     "name": "stdout",
     "output_type": "stream",
     "text": [
      "[1] 148\n",
      "[1] \"Checking for files in:  ./output_chr1_a2_caud/\"\n",
      "[1] \"Using pattern:  libd_chr1-chr1_all-748982-768981-dynamic-1corestotal-allcorepera\"\n",
      "[1] \"Found files with specific pattern: \"\n",
      "[1] \"./output_chr1_a2_caud//libd_chr1-chr1_all-libd_chr1-chr1_all-748982-768981-dynamic-1corestotal-allcorepera-20240416-171202.rds\"\n"
     ]
    },
    {
     "name": "stderr",
     "output_type": "stream",
     "text": [
      "File with tag libd_chr1-chr1_all-748982-768981-dynamic-1corestotal-allcorepera already exists. Skipping...\n",
      "\n"
     ]
    },
    {
     "name": "stdout",
     "output_type": "stream",
     "text": [
      "[1] 149\n",
      "[1] \"Checking for files in:  ./output_chr1_a2_caud/\"\n",
      "[1] \"Using pattern:  libd_chr1-chr1_all-768982-788981-dynamic-1corestotal-allcorepera\"\n",
      "[1] \"Found files with specific pattern: \"\n",
      "[1] \"./output_chr1_a2_caud//libd_chr1-chr1_all-libd_chr1-chr1_all-768982-788981-dynamic-1corestotal-allcorepera-20240416-171303.rds\"\n"
     ]
    },
    {
     "name": "stderr",
     "output_type": "stream",
     "text": [
      "File with tag libd_chr1-chr1_all-768982-788981-dynamic-1corestotal-allcorepera already exists. Skipping...\n",
      "\n"
     ]
    },
    {
     "name": "stdout",
     "output_type": "stream",
     "text": [
      "[1] 150\n",
      "[1] \"Checking for files in:  ./output_chr1_a2_caud/\"\n",
      "[1] \"Using pattern:  libd_chr1-chr1_all-788982-808981-dynamic-1corestotal-allcorepera\"\n",
      "[1] \"Found files with specific pattern: \"\n",
      "[1] \"./output_chr1_a2_caud//libd_chr1-chr1_all-libd_chr1-chr1_all-788982-808981-dynamic-1corestotal-allcorepera-20240416-171404.rds\"\n"
     ]
    },
    {
     "name": "stderr",
     "output_type": "stream",
     "text": [
      "File with tag libd_chr1-chr1_all-788982-808981-dynamic-1corestotal-allcorepera already exists. Skipping...\n",
      "\n"
     ]
    },
    {
     "name": "stdout",
     "output_type": "stream",
     "text": [
      "[1] 151\n",
      "[1] \"Checking for files in:  ./output_chr1_a2_caud/\"\n",
      "[1] \"Using pattern:  libd_chr1-chr1_all-808982-828981-dynamic-1corestotal-allcorepera\"\n",
      "[1] \"Found files with specific pattern: \"\n",
      "[1] \"./output_chr1_a2_caud//libd_chr1-chr1_all-libd_chr1-chr1_all-808982-828981-dynamic-1corestotal-allcorepera-20240416-171505.rds\"\n"
     ]
    },
    {
     "name": "stderr",
     "output_type": "stream",
     "text": [
      "File with tag libd_chr1-chr1_all-808982-828981-dynamic-1corestotal-allcorepera already exists. Skipping...\n",
      "\n"
     ]
    },
    {
     "name": "stdout",
     "output_type": "stream",
     "text": [
      "[1] 152\n",
      "[1] \"Checking for files in:  ./output_chr1_a2_caud/\"\n",
      "[1] \"Using pattern:  libd_chr1-chr1_all-828982-848981-dynamic-1corestotal-allcorepera\"\n",
      "[1] \"Found files with specific pattern: \"\n",
      "[1] \"./output_chr1_a2_caud//libd_chr1-chr1_all-libd_chr1-chr1_all-828982-848981-dynamic-1corestotal-allcorepera-20240416-171606.rds\"\n"
     ]
    },
    {
     "name": "stderr",
     "output_type": "stream",
     "text": [
      "File with tag libd_chr1-chr1_all-828982-848981-dynamic-1corestotal-allcorepera already exists. Skipping...\n",
      "\n"
     ]
    },
    {
     "name": "stdout",
     "output_type": "stream",
     "text": [
      "[1] 153\n",
      "[1] \"Checking for files in:  ./output_chr1_a2_caud/\"\n",
      "[1] \"Using pattern:  libd_chr1-chr1_all-848982-868981-dynamic-1corestotal-allcorepera\"\n",
      "[1] \"Found files with specific pattern: \"\n",
      "[1] \"./output_chr1_a2_caud//libd_chr1-chr1_all-libd_chr1-chr1_all-848982-868981-dynamic-1corestotal-allcorepera-20240416-171707.rds\"\n"
     ]
    },
    {
     "name": "stderr",
     "output_type": "stream",
     "text": [
      "File with tag libd_chr1-chr1_all-848982-868981-dynamic-1corestotal-allcorepera already exists. Skipping...\n",
      "\n"
     ]
    },
    {
     "name": "stdout",
     "output_type": "stream",
     "text": [
      "[1] 154\n",
      "[1] \"Checking for files in:  ./output_chr1_a2_caud/\"\n",
      "[1] \"Using pattern:  libd_chr1-chr1_all-868982-888981-dynamic-1corestotal-allcorepera\"\n",
      "[1] \"Found files with specific pattern: \"\n",
      "[1] \"./output_chr1_a2_caud//libd_chr1-chr1_all-libd_chr1-chr1_all-868982-888981-dynamic-1corestotal-allcorepera-20240416-171809.rds\"\n"
     ]
    },
    {
     "name": "stderr",
     "output_type": "stream",
     "text": [
      "File with tag libd_chr1-chr1_all-868982-888981-dynamic-1corestotal-allcorepera already exists. Skipping...\n",
      "\n"
     ]
    },
    {
     "name": "stdout",
     "output_type": "stream",
     "text": [
      "[1] 155\n",
      "[1] \"Checking for files in:  ./output_chr1_a2_caud/\"\n",
      "[1] \"Using pattern:  libd_chr1-chr1_all-888982-908981-dynamic-1corestotal-allcorepera\"\n",
      "[1] \"Found files with specific pattern: \"\n",
      "[1] \"./output_chr1_a2_caud//libd_chr1-chr1_all-libd_chr1-chr1_all-888982-908981-dynamic-1corestotal-allcorepera-20240416-171910.rds\"\n"
     ]
    },
    {
     "name": "stderr",
     "output_type": "stream",
     "text": [
      "File with tag libd_chr1-chr1_all-888982-908981-dynamic-1corestotal-allcorepera already exists. Skipping...\n",
      "\n"
     ]
    },
    {
     "name": "stdout",
     "output_type": "stream",
     "text": [
      "[1] 156\n",
      "[1] \"Checking for files in:  ./output_chr1_a2_caud/\"\n",
      "[1] \"Using pattern:  libd_chr1-chr1_all-908982-928981-dynamic-1corestotal-allcorepera\"\n",
      "[1] \"Found files with specific pattern: \"\n",
      "[1] \"./output_chr1_a2_caud//libd_chr1-chr1_all-libd_chr1-chr1_all-908982-928981-dynamic-1corestotal-allcorepera-20240416-172011.rds\"\n"
     ]
    },
    {
     "name": "stderr",
     "output_type": "stream",
     "text": [
      "File with tag libd_chr1-chr1_all-908982-928981-dynamic-1corestotal-allcorepera already exists. Skipping...\n",
      "\n"
     ]
    },
    {
     "name": "stdout",
     "output_type": "stream",
     "text": [
      "[1] 157\n",
      "[1] \"Checking for files in:  ./output_chr1_a2_caud/\"\n",
      "[1] \"Using pattern:  libd_chr1-chr1_all-928982-948981-dynamic-1corestotal-allcorepera\"\n",
      "[1] \"Found files with specific pattern: \"\n",
      "character(0)\n",
      "\n",
      "#!/bin/bash\n",
      "#SBATCH --nodes=1\n",
      "#SBATCH --ntasks-per-node=1\n",
      "#SBATCH --cpus-per-task=1\n",
      "#SBATCH --mem-per-cpu=2G\n",
      "#SBATCH --output=slurm_output_libd_chr1-chr1_all-928982-948981-dynamic-1corestotal-allcorepera-20240419-114557.out\n",
      "#SBATCH --job-name=libd_chr1-chr1_all-928982-948981-dynamic-1corestotal-allcorepera-20240419-114557\n",
      "#SBATCH --time=48:00:00\n",
      "module load conda\n",
      "conda activate mwas\n",
      "echo 'Executing Rscript with arguments: Rscript scripts/CLI.R --outdir=./output_chr1_a2_caud/ --snp_data_path=/dcs04/lieber/statsgen/shizhong/michael/mwas/gwas//libd_chr1.pgen --methylation_data_path=/dcs04/lieber/statsgen/shizhong/michael/mwas/pheno/caud/out/chr1_all.rda --cov=/dcs04/lieber/statsgen/mnagle/mwas/full_covariates/all_caud.csv --verbose=FALSE --lambda_choice=1se --alphas=0.5 --allow_inefficient_parallelization=FALSE --n_fold=5 --window_sizes=10000 --save_evaluation_results_each_fold=FALSE --save_glmnet_object=FALSE --omit_folds_with_na_r=TRUE --methInput_rds_path=/dcs04/lieber/statsgen/mnagle/mwas/pheno/caud/out/chr1_all_928982-948981.rds --chunk1=1 --chunk2=20000 --cv_eval_mode=dynamic --num_cores=1 --cores_per_alpha=all --tag=libd_chr1-chr1_all-928982-948981-dynamic-1corestotal-allcorepera-20240419-114557'\n",
      "Rscript scripts/CLI.R --outdir=./output_chr1_a2_caud/ --snp_data_path=/dcs04/lieber/statsgen/shizhong/michael/mwas/gwas//libd_chr1.pgen --methylation_data_path=/dcs04/lieber/statsgen/shizhong/michael/mwas/pheno/caud/out/chr1_all.rda --cov=/dcs04/lieber/statsgen/mnagle/mwas/full_covariates/all_caud.csv --verbose=FALSE --lambda_choice=1se --alphas=0.5 --allow_inefficient_parallelization=FALSE --n_fold=5 --window_sizes=10000 --save_evaluation_results_each_fold=FALSE --save_glmnet_object=FALSE --omit_folds_with_na_r=TRUE --methInput_rds_path=/dcs04/lieber/statsgen/mnagle/mwas/pheno/caud/out/chr1_all_928982-948981.rds --chunk1=1 --chunk2=20000 --cv_eval_mode=dynamic --num_cores=1 --cores_per_alpha=all --tag=libd_chr1-chr1_all-928982-948981-dynamic-1corestotal-allcorepera-20240419-114557\n"
     ]
    },
    {
     "name": "stderr",
     "output_type": "stream",
     "text": [
      "Sleeping for 181 seconds\n",
      "\n"
     ]
    },
    {
     "name": "stdout",
     "output_type": "stream",
     "text": [
      "\n",
      "[1] 158\n",
      "[1] \"Checking for files in:  ./output_chr1_a2_caud/\"\n",
      "[1] \"Using pattern:  libd_chr1-chr1_all-948982-968981-dynamic-1corestotal-allcorepera\"\n",
      "[1] \"Found files with specific pattern: \"\n",
      "character(0)\n",
      "\n",
      "#!/bin/bash\n",
      "#SBATCH --nodes=1\n",
      "#SBATCH --ntasks-per-node=1\n",
      "#SBATCH --cpus-per-task=1\n",
      "#SBATCH --mem-per-cpu=2G\n",
      "#SBATCH --output=slurm_output_libd_chr1-chr1_all-948982-968981-dynamic-1corestotal-allcorepera-20240419-114858.out\n",
      "#SBATCH --job-name=libd_chr1-chr1_all-948982-968981-dynamic-1corestotal-allcorepera-20240419-114858\n",
      "#SBATCH --time=48:00:00\n",
      "module load conda\n",
      "conda activate mwas\n",
      "echo 'Executing Rscript with arguments: Rscript scripts/CLI.R --outdir=./output_chr1_a2_caud/ --snp_data_path=/dcs04/lieber/statsgen/shizhong/michael/mwas/gwas//libd_chr1.pgen --methylation_data_path=/dcs04/lieber/statsgen/shizhong/michael/mwas/pheno/caud/out/chr1_all.rda --cov=/dcs04/lieber/statsgen/mnagle/mwas/full_covariates/all_caud.csv --verbose=FALSE --lambda_choice=1se --alphas=0.5 --allow_inefficient_parallelization=FALSE --n_fold=5 --window_sizes=10000 --save_evaluation_results_each_fold=FALSE --save_glmnet_object=FALSE --omit_folds_with_na_r=TRUE --methInput_rds_path=/dcs04/lieber/statsgen/mnagle/mwas/pheno/caud/out/chr1_all_948982-968981.rds --chunk1=1 --chunk2=20000 --cv_eval_mode=dynamic --num_cores=1 --cores_per_alpha=all --tag=libd_chr1-chr1_all-948982-968981-dynamic-1corestotal-allcorepera-20240419-114858'\n",
      "Rscript scripts/CLI.R --outdir=./output_chr1_a2_caud/ --snp_data_path=/dcs04/lieber/statsgen/shizhong/michael/mwas/gwas//libd_chr1.pgen --methylation_data_path=/dcs04/lieber/statsgen/shizhong/michael/mwas/pheno/caud/out/chr1_all.rda --cov=/dcs04/lieber/statsgen/mnagle/mwas/full_covariates/all_caud.csv --verbose=FALSE --lambda_choice=1se --alphas=0.5 --allow_inefficient_parallelization=FALSE --n_fold=5 --window_sizes=10000 --save_evaluation_results_each_fold=FALSE --save_glmnet_object=FALSE --omit_folds_with_na_r=TRUE --methInput_rds_path=/dcs04/lieber/statsgen/mnagle/mwas/pheno/caud/out/chr1_all_948982-968981.rds --chunk1=1 --chunk2=20000 --cv_eval_mode=dynamic --num_cores=1 --cores_per_alpha=all --tag=libd_chr1-chr1_all-948982-968981-dynamic-1corestotal-allcorepera-20240419-114858\n"
     ]
    },
    {
     "name": "stderr",
     "output_type": "stream",
     "text": [
      "Sleeping for 181 seconds\n",
      "\n"
     ]
    },
    {
     "name": "stdout",
     "output_type": "stream",
     "text": [
      "\n",
      "[1] 159\n",
      "[1] \"Checking for files in:  ./output_chr1_a2_caud/\"\n",
      "[1] \"Using pattern:  libd_chr1-chr1_all-968982-988981-dynamic-1corestotal-allcorepera\"\n",
      "[1] \"Found files with specific pattern: \"\n",
      "character(0)\n",
      "\n",
      "#!/bin/bash\n",
      "#SBATCH --nodes=1\n",
      "#SBATCH --ntasks-per-node=1\n",
      "#SBATCH --cpus-per-task=1\n",
      "#SBATCH --mem-per-cpu=2G\n",
      "#SBATCH --output=slurm_output_libd_chr1-chr1_all-968982-988981-dynamic-1corestotal-allcorepera-20240419-115159.out\n",
      "#SBATCH --job-name=libd_chr1-chr1_all-968982-988981-dynamic-1corestotal-allcorepera-20240419-115159\n",
      "#SBATCH --time=48:00:00\n",
      "module load conda\n",
      "conda activate mwas\n",
      "echo 'Executing Rscript with arguments: Rscript scripts/CLI.R --outdir=./output_chr1_a2_caud/ --snp_data_path=/dcs04/lieber/statsgen/shizhong/michael/mwas/gwas//libd_chr1.pgen --methylation_data_path=/dcs04/lieber/statsgen/shizhong/michael/mwas/pheno/caud/out/chr1_all.rda --cov=/dcs04/lieber/statsgen/mnagle/mwas/full_covariates/all_caud.csv --verbose=FALSE --lambda_choice=1se --alphas=0.5 --allow_inefficient_parallelization=FALSE --n_fold=5 --window_sizes=10000 --save_evaluation_results_each_fold=FALSE --save_glmnet_object=FALSE --omit_folds_with_na_r=TRUE --methInput_rds_path=/dcs04/lieber/statsgen/mnagle/mwas/pheno/caud/out/chr1_all_968982-988981.rds --chunk1=1 --chunk2=20000 --cv_eval_mode=dynamic --num_cores=1 --cores_per_alpha=all --tag=libd_chr1-chr1_all-968982-988981-dynamic-1corestotal-allcorepera-20240419-115159'\n",
      "Rscript scripts/CLI.R --outdir=./output_chr1_a2_caud/ --snp_data_path=/dcs04/lieber/statsgen/shizhong/michael/mwas/gwas//libd_chr1.pgen --methylation_data_path=/dcs04/lieber/statsgen/shizhong/michael/mwas/pheno/caud/out/chr1_all.rda --cov=/dcs04/lieber/statsgen/mnagle/mwas/full_covariates/all_caud.csv --verbose=FALSE --lambda_choice=1se --alphas=0.5 --allow_inefficient_parallelization=FALSE --n_fold=5 --window_sizes=10000 --save_evaluation_results_each_fold=FALSE --save_glmnet_object=FALSE --omit_folds_with_na_r=TRUE --methInput_rds_path=/dcs04/lieber/statsgen/mnagle/mwas/pheno/caud/out/chr1_all_968982-988981.rds --chunk1=1 --chunk2=20000 --cv_eval_mode=dynamic --num_cores=1 --cores_per_alpha=all --tag=libd_chr1-chr1_all-968982-988981-dynamic-1corestotal-allcorepera-20240419-115159\n"
     ]
    },
    {
     "name": "stderr",
     "output_type": "stream",
     "text": [
      "Sleeping for 181 seconds\n",
      "\n"
     ]
    },
    {
     "name": "stdout",
     "output_type": "stream",
     "text": [
      "\n",
      "[1] 160\n",
      "[1] \"Checking for files in:  ./output_chr1_a2_caud/\"\n",
      "[1] \"Using pattern:  libd_chr1-chr1_all-988982-1008981-dynamic-1corestotal-allcorepera\"\n",
      "[1] \"Found files with specific pattern: \"\n",
      "character(0)\n",
      "\n",
      "#!/bin/bash\n",
      "#SBATCH --nodes=1\n",
      "#SBATCH --ntasks-per-node=1\n",
      "#SBATCH --cpus-per-task=1\n",
      "#SBATCH --mem-per-cpu=2G\n",
      "#SBATCH --output=slurm_output_libd_chr1-chr1_all-988982-1008981-dynamic-1corestotal-allcorepera-20240419-115501.out\n",
      "#SBATCH --job-name=libd_chr1-chr1_all-988982-1008981-dynamic-1corestotal-allcorepera-20240419-115501\n",
      "#SBATCH --time=48:00:00\n",
      "module load conda\n",
      "conda activate mwas\n",
      "echo 'Executing Rscript with arguments: Rscript scripts/CLI.R --outdir=./output_chr1_a2_caud/ --snp_data_path=/dcs04/lieber/statsgen/shizhong/michael/mwas/gwas//libd_chr1.pgen --methylation_data_path=/dcs04/lieber/statsgen/shizhong/michael/mwas/pheno/caud/out/chr1_all.rda --cov=/dcs04/lieber/statsgen/mnagle/mwas/full_covariates/all_caud.csv --verbose=FALSE --lambda_choice=1se --alphas=0.5 --allow_inefficient_parallelization=FALSE --n_fold=5 --window_sizes=10000 --save_evaluation_results_each_fold=FALSE --save_glmnet_object=FALSE --omit_folds_with_na_r=TRUE --methInput_rds_path=/dcs04/lieber/statsgen/mnagle/mwas/pheno/caud/out/chr1_all_988982-1008981.rds --chunk1=1 --chunk2=20000 --cv_eval_mode=dynamic --num_cores=1 --cores_per_alpha=all --tag=libd_chr1-chr1_all-988982-1008981-dynamic-1corestotal-allcorepera-20240419-115501'\n",
      "Rscript scripts/CLI.R --outdir=./output_chr1_a2_caud/ --snp_data_path=/dcs04/lieber/statsgen/shizhong/michael/mwas/gwas//libd_chr1.pgen --methylation_data_path=/dcs04/lieber/statsgen/shizhong/michael/mwas/pheno/caud/out/chr1_all.rda --cov=/dcs04/lieber/statsgen/mnagle/mwas/full_covariates/all_caud.csv --verbose=FALSE --lambda_choice=1se --alphas=0.5 --allow_inefficient_parallelization=FALSE --n_fold=5 --window_sizes=10000 --save_evaluation_results_each_fold=FALSE --save_glmnet_object=FALSE --omit_folds_with_na_r=TRUE --methInput_rds_path=/dcs04/lieber/statsgen/mnagle/mwas/pheno/caud/out/chr1_all_988982-1008981.rds --chunk1=1 --chunk2=20000 --cv_eval_mode=dynamic --num_cores=1 --cores_per_alpha=all --tag=libd_chr1-chr1_all-988982-1008981-dynamic-1corestotal-allcorepera-20240419-115501\n"
     ]
    },
    {
     "name": "stderr",
     "output_type": "stream",
     "text": [
      "Sleeping for 181 seconds\n",
      "\n"
     ]
    },
    {
     "name": "stdout",
     "output_type": "stream",
     "text": [
      "\n",
      "[1] 161\n",
      "[1] \"Checking for files in:  ./output_chr1_a2_caud/\"\n",
      "[1] \"Using pattern:  libd_chr1-chr1_all-1008982-1028981-dynamic-1corestotal-allcorepera\"\n",
      "[1] \"Found files with specific pattern: \"\n",
      "character(0)\n",
      "\n",
      "#!/bin/bash\n",
      "#SBATCH --nodes=1\n",
      "#SBATCH --ntasks-per-node=1\n",
      "#SBATCH --cpus-per-task=1\n",
      "#SBATCH --mem-per-cpu=2G\n",
      "#SBATCH --output=slurm_output_libd_chr1-chr1_all-1008982-1028981-dynamic-1corestotal-allcorepera-20240419-115802.out\n",
      "#SBATCH --job-name=libd_chr1-chr1_all-1008982-1028981-dynamic-1corestotal-allcorepera-20240419-115802\n",
      "#SBATCH --time=48:00:00\n",
      "module load conda\n",
      "conda activate mwas\n",
      "echo 'Executing Rscript with arguments: Rscript scripts/CLI.R --outdir=./output_chr1_a2_caud/ --snp_data_path=/dcs04/lieber/statsgen/shizhong/michael/mwas/gwas//libd_chr1.pgen --methylation_data_path=/dcs04/lieber/statsgen/shizhong/michael/mwas/pheno/caud/out/chr1_all.rda --cov=/dcs04/lieber/statsgen/mnagle/mwas/full_covariates/all_caud.csv --verbose=FALSE --lambda_choice=1se --alphas=0.5 --allow_inefficient_parallelization=FALSE --n_fold=5 --window_sizes=10000 --save_evaluation_results_each_fold=FALSE --save_glmnet_object=FALSE --omit_folds_with_na_r=TRUE --methInput_rds_path=/dcs04/lieber/statsgen/mnagle/mwas/pheno/caud/out/chr1_all_1008982-1028981.rds --chunk1=1 --chunk2=20000 --cv_eval_mode=dynamic --num_cores=1 --cores_per_alpha=all --tag=libd_chr1-chr1_all-1008982-1028981-dynamic-1corestotal-allcorepera-20240419-115802'\n",
      "Rscript scripts/CLI.R --outdir=./output_chr1_a2_caud/ --snp_data_path=/dcs04/lieber/statsgen/shizhong/michael/mwas/gwas//libd_chr1.pgen --methylation_data_path=/dcs04/lieber/statsgen/shizhong/michael/mwas/pheno/caud/out/chr1_all.rda --cov=/dcs04/lieber/statsgen/mnagle/mwas/full_covariates/all_caud.csv --verbose=FALSE --lambda_choice=1se --alphas=0.5 --allow_inefficient_parallelization=FALSE --n_fold=5 --window_sizes=10000 --save_evaluation_results_each_fold=FALSE --save_glmnet_object=FALSE --omit_folds_with_na_r=TRUE --methInput_rds_path=/dcs04/lieber/statsgen/mnagle/mwas/pheno/caud/out/chr1_all_1008982-1028981.rds --chunk1=1 --chunk2=20000 --cv_eval_mode=dynamic --num_cores=1 --cores_per_alpha=all --tag=libd_chr1-chr1_all-1008982-1028981-dynamic-1corestotal-allcorepera-20240419-115802\n"
     ]
    },
    {
     "name": "stderr",
     "output_type": "stream",
     "text": [
      "Sleeping for 181 seconds\n",
      "\n"
     ]
    },
    {
     "name": "stdout",
     "output_type": "stream",
     "text": [
      "\n",
      "[1] 162\n",
      "[1] \"Checking for files in:  ./output_chr1_a2_caud/\"\n",
      "[1] \"Using pattern:  libd_chr1-chr1_all-1028982-1048981-dynamic-1corestotal-allcorepera\"\n",
      "[1] \"Found files with specific pattern: \"\n",
      "character(0)\n",
      "\n",
      "#!/bin/bash\n",
      "#SBATCH --nodes=1\n",
      "#SBATCH --ntasks-per-node=1\n",
      "#SBATCH --cpus-per-task=1\n",
      "#SBATCH --mem-per-cpu=2G\n",
      "#SBATCH --output=slurm_output_libd_chr1-chr1_all-1028982-1048981-dynamic-1corestotal-allcorepera-20240419-120103.out\n",
      "#SBATCH --job-name=libd_chr1-chr1_all-1028982-1048981-dynamic-1corestotal-allcorepera-20240419-120103\n",
      "#SBATCH --time=48:00:00\n",
      "module load conda\n",
      "conda activate mwas\n",
      "echo 'Executing Rscript with arguments: Rscript scripts/CLI.R --outdir=./output_chr1_a2_caud/ --snp_data_path=/dcs04/lieber/statsgen/shizhong/michael/mwas/gwas//libd_chr1.pgen --methylation_data_path=/dcs04/lieber/statsgen/shizhong/michael/mwas/pheno/caud/out/chr1_all.rda --cov=/dcs04/lieber/statsgen/mnagle/mwas/full_covariates/all_caud.csv --verbose=FALSE --lambda_choice=1se --alphas=0.5 --allow_inefficient_parallelization=FALSE --n_fold=5 --window_sizes=10000 --save_evaluation_results_each_fold=FALSE --save_glmnet_object=FALSE --omit_folds_with_na_r=TRUE --methInput_rds_path=/dcs04/lieber/statsgen/mnagle/mwas/pheno/caud/out/chr1_all_1028982-1048981.rds --chunk1=1 --chunk2=20000 --cv_eval_mode=dynamic --num_cores=1 --cores_per_alpha=all --tag=libd_chr1-chr1_all-1028982-1048981-dynamic-1corestotal-allcorepera-20240419-120103'\n",
      "Rscript scripts/CLI.R --outdir=./output_chr1_a2_caud/ --snp_data_path=/dcs04/lieber/statsgen/shizhong/michael/mwas/gwas//libd_chr1.pgen --methylation_data_path=/dcs04/lieber/statsgen/shizhong/michael/mwas/pheno/caud/out/chr1_all.rda --cov=/dcs04/lieber/statsgen/mnagle/mwas/full_covariates/all_caud.csv --verbose=FALSE --lambda_choice=1se --alphas=0.5 --allow_inefficient_parallelization=FALSE --n_fold=5 --window_sizes=10000 --save_evaluation_results_each_fold=FALSE --save_glmnet_object=FALSE --omit_folds_with_na_r=TRUE --methInput_rds_path=/dcs04/lieber/statsgen/mnagle/mwas/pheno/caud/out/chr1_all_1028982-1048981.rds --chunk1=1 --chunk2=20000 --cv_eval_mode=dynamic --num_cores=1 --cores_per_alpha=all --tag=libd_chr1-chr1_all-1028982-1048981-dynamic-1corestotal-allcorepera-20240419-120103\n"
     ]
    },
    {
     "name": "stderr",
     "output_type": "stream",
     "text": [
      "Sleeping for 181 seconds\n",
      "\n"
     ]
    },
    {
     "name": "stdout",
     "output_type": "stream",
     "text": [
      "\n",
      "[1] 163\n",
      "[1] \"Checking for files in:  ./output_chr1_a2_caud/\"\n",
      "[1] \"Using pattern:  libd_chr1-chr1_all-1048982-1068981-dynamic-1corestotal-allcorepera\"\n",
      "[1] \"Found files with specific pattern: \"\n",
      "character(0)\n",
      "\n",
      "#!/bin/bash\n",
      "#SBATCH --nodes=1\n",
      "#SBATCH --ntasks-per-node=1\n",
      "#SBATCH --cpus-per-task=1\n",
      "#SBATCH --mem-per-cpu=2G\n",
      "#SBATCH --output=slurm_output_libd_chr1-chr1_all-1048982-1068981-dynamic-1corestotal-allcorepera-20240419-120404.out\n",
      "#SBATCH --job-name=libd_chr1-chr1_all-1048982-1068981-dynamic-1corestotal-allcorepera-20240419-120404\n",
      "#SBATCH --time=48:00:00\n",
      "module load conda\n",
      "conda activate mwas\n",
      "echo 'Executing Rscript with arguments: Rscript scripts/CLI.R --outdir=./output_chr1_a2_caud/ --snp_data_path=/dcs04/lieber/statsgen/shizhong/michael/mwas/gwas//libd_chr1.pgen --methylation_data_path=/dcs04/lieber/statsgen/shizhong/michael/mwas/pheno/caud/out/chr1_all.rda --cov=/dcs04/lieber/statsgen/mnagle/mwas/full_covariates/all_caud.csv --verbose=FALSE --lambda_choice=1se --alphas=0.5 --allow_inefficient_parallelization=FALSE --n_fold=5 --window_sizes=10000 --save_evaluation_results_each_fold=FALSE --save_glmnet_object=FALSE --omit_folds_with_na_r=TRUE --methInput_rds_path=/dcs04/lieber/statsgen/mnagle/mwas/pheno/caud/out/chr1_all_1048982-1068981.rds --chunk1=1 --chunk2=20000 --cv_eval_mode=dynamic --num_cores=1 --cores_per_alpha=all --tag=libd_chr1-chr1_all-1048982-1068981-dynamic-1corestotal-allcorepera-20240419-120404'\n",
      "Rscript scripts/CLI.R --outdir=./output_chr1_a2_caud/ --snp_data_path=/dcs04/lieber/statsgen/shizhong/michael/mwas/gwas//libd_chr1.pgen --methylation_data_path=/dcs04/lieber/statsgen/shizhong/michael/mwas/pheno/caud/out/chr1_all.rda --cov=/dcs04/lieber/statsgen/mnagle/mwas/full_covariates/all_caud.csv --verbose=FALSE --lambda_choice=1se --alphas=0.5 --allow_inefficient_parallelization=FALSE --n_fold=5 --window_sizes=10000 --save_evaluation_results_each_fold=FALSE --save_glmnet_object=FALSE --omit_folds_with_na_r=TRUE --methInput_rds_path=/dcs04/lieber/statsgen/mnagle/mwas/pheno/caud/out/chr1_all_1048982-1068981.rds --chunk1=1 --chunk2=20000 --cv_eval_mode=dynamic --num_cores=1 --cores_per_alpha=all --tag=libd_chr1-chr1_all-1048982-1068981-dynamic-1corestotal-allcorepera-20240419-120404\n"
     ]
    },
    {
     "name": "stderr",
     "output_type": "stream",
     "text": [
      "Sleeping for 181 seconds\n",
      "\n"
     ]
    },
    {
     "name": "stdout",
     "output_type": "stream",
     "text": [
      "\n",
      "[1] 164\n",
      "[1] \"Checking for files in:  ./output_chr1_a2_caud/\"\n",
      "[1] \"Using pattern:  libd_chr1-chr1_all-1068982-1088981-dynamic-1corestotal-allcorepera\"\n",
      "[1] \"Found files with specific pattern: \"\n",
      "character(0)\n",
      "\n",
      "#!/bin/bash\n",
      "#SBATCH --nodes=1\n",
      "#SBATCH --ntasks-per-node=1\n",
      "#SBATCH --cpus-per-task=1\n",
      "#SBATCH --mem-per-cpu=2G\n",
      "#SBATCH --output=slurm_output_libd_chr1-chr1_all-1068982-1088981-dynamic-1corestotal-allcorepera-20240419-120705.out\n",
      "#SBATCH --job-name=libd_chr1-chr1_all-1068982-1088981-dynamic-1corestotal-allcorepera-20240419-120705\n",
      "#SBATCH --time=48:00:00\n",
      "module load conda\n",
      "conda activate mwas\n",
      "echo 'Executing Rscript with arguments: Rscript scripts/CLI.R --outdir=./output_chr1_a2_caud/ --snp_data_path=/dcs04/lieber/statsgen/shizhong/michael/mwas/gwas//libd_chr1.pgen --methylation_data_path=/dcs04/lieber/statsgen/shizhong/michael/mwas/pheno/caud/out/chr1_all.rda --cov=/dcs04/lieber/statsgen/mnagle/mwas/full_covariates/all_caud.csv --verbose=FALSE --lambda_choice=1se --alphas=0.5 --allow_inefficient_parallelization=FALSE --n_fold=5 --window_sizes=10000 --save_evaluation_results_each_fold=FALSE --save_glmnet_object=FALSE --omit_folds_with_na_r=TRUE --methInput_rds_path=/dcs04/lieber/statsgen/mnagle/mwas/pheno/caud/out/chr1_all_1068982-1088981.rds --chunk1=1 --chunk2=20000 --cv_eval_mode=dynamic --num_cores=1 --cores_per_alpha=all --tag=libd_chr1-chr1_all-1068982-1088981-dynamic-1corestotal-allcorepera-20240419-120705'\n",
      "Rscript scripts/CLI.R --outdir=./output_chr1_a2_caud/ --snp_data_path=/dcs04/lieber/statsgen/shizhong/michael/mwas/gwas//libd_chr1.pgen --methylation_data_path=/dcs04/lieber/statsgen/shizhong/michael/mwas/pheno/caud/out/chr1_all.rda --cov=/dcs04/lieber/statsgen/mnagle/mwas/full_covariates/all_caud.csv --verbose=FALSE --lambda_choice=1se --alphas=0.5 --allow_inefficient_parallelization=FALSE --n_fold=5 --window_sizes=10000 --save_evaluation_results_each_fold=FALSE --save_glmnet_object=FALSE --omit_folds_with_na_r=TRUE --methInput_rds_path=/dcs04/lieber/statsgen/mnagle/mwas/pheno/caud/out/chr1_all_1068982-1088981.rds --chunk1=1 --chunk2=20000 --cv_eval_mode=dynamic --num_cores=1 --cores_per_alpha=all --tag=libd_chr1-chr1_all-1068982-1088981-dynamic-1corestotal-allcorepera-20240419-120705\n"
     ]
    },
    {
     "name": "stderr",
     "output_type": "stream",
     "text": [
      "Sleeping for 181 seconds\n",
      "\n"
     ]
    },
    {
     "name": "stdout",
     "output_type": "stream",
     "text": [
      "\n",
      "[1] 165\n",
      "[1] \"Checking for files in:  ./output_chr1_a2_caud/\"\n",
      "[1] \"Using pattern:  libd_chr1-chr1_all-1088982-1108981-dynamic-1corestotal-allcorepera\"\n",
      "[1] \"Found files with specific pattern: \"\n",
      "character(0)\n",
      "\n",
      "#!/bin/bash\n",
      "#SBATCH --nodes=1\n",
      "#SBATCH --ntasks-per-node=1\n",
      "#SBATCH --cpus-per-task=1\n",
      "#SBATCH --mem-per-cpu=2G\n",
      "#SBATCH --output=slurm_output_libd_chr1-chr1_all-1088982-1108981-dynamic-1corestotal-allcorepera-20240419-121006.out\n",
      "#SBATCH --job-name=libd_chr1-chr1_all-1088982-1108981-dynamic-1corestotal-allcorepera-20240419-121006\n",
      "#SBATCH --time=48:00:00\n",
      "module load conda\n",
      "conda activate mwas\n",
      "echo 'Executing Rscript with arguments: Rscript scripts/CLI.R --outdir=./output_chr1_a2_caud/ --snp_data_path=/dcs04/lieber/statsgen/shizhong/michael/mwas/gwas//libd_chr1.pgen --methylation_data_path=/dcs04/lieber/statsgen/shizhong/michael/mwas/pheno/caud/out/chr1_all.rda --cov=/dcs04/lieber/statsgen/mnagle/mwas/full_covariates/all_caud.csv --verbose=FALSE --lambda_choice=1se --alphas=0.5 --allow_inefficient_parallelization=FALSE --n_fold=5 --window_sizes=10000 --save_evaluation_results_each_fold=FALSE --save_glmnet_object=FALSE --omit_folds_with_na_r=TRUE --methInput_rds_path=/dcs04/lieber/statsgen/mnagle/mwas/pheno/caud/out/chr1_all_1088982-1108981.rds --chunk1=1 --chunk2=20000 --cv_eval_mode=dynamic --num_cores=1 --cores_per_alpha=all --tag=libd_chr1-chr1_all-1088982-1108981-dynamic-1corestotal-allcorepera-20240419-121006'\n",
      "Rscript scripts/CLI.R --outdir=./output_chr1_a2_caud/ --snp_data_path=/dcs04/lieber/statsgen/shizhong/michael/mwas/gwas//libd_chr1.pgen --methylation_data_path=/dcs04/lieber/statsgen/shizhong/michael/mwas/pheno/caud/out/chr1_all.rda --cov=/dcs04/lieber/statsgen/mnagle/mwas/full_covariates/all_caud.csv --verbose=FALSE --lambda_choice=1se --alphas=0.5 --allow_inefficient_parallelization=FALSE --n_fold=5 --window_sizes=10000 --save_evaluation_results_each_fold=FALSE --save_glmnet_object=FALSE --omit_folds_with_na_r=TRUE --methInput_rds_path=/dcs04/lieber/statsgen/mnagle/mwas/pheno/caud/out/chr1_all_1088982-1108981.rds --chunk1=1 --chunk2=20000 --cv_eval_mode=dynamic --num_cores=1 --cores_per_alpha=all --tag=libd_chr1-chr1_all-1088982-1108981-dynamic-1corestotal-allcorepera-20240419-121006\n"
     ]
    },
    {
     "name": "stderr",
     "output_type": "stream",
     "text": [
      "Sleeping for 181 seconds\n",
      "\n"
     ]
    },
    {
     "name": "stdout",
     "output_type": "stream",
     "text": [
      "\n",
      "[1] 166\n",
      "[1] \"Checking for files in:  ./output_chr1_a2_caud/\"\n",
      "[1] \"Using pattern:  libd_chr1-chr1_all-1108982-1128981-dynamic-1corestotal-allcorepera\"\n",
      "[1] \"Found files with specific pattern: \"\n",
      "character(0)\n",
      "\n",
      "#!/bin/bash\n",
      "#SBATCH --nodes=1\n",
      "#SBATCH --ntasks-per-node=1\n",
      "#SBATCH --cpus-per-task=1\n",
      "#SBATCH --mem-per-cpu=2G\n",
      "#SBATCH --output=slurm_output_libd_chr1-chr1_all-1108982-1128981-dynamic-1corestotal-allcorepera-20240419-121307.out\n",
      "#SBATCH --job-name=libd_chr1-chr1_all-1108982-1128981-dynamic-1corestotal-allcorepera-20240419-121307\n",
      "#SBATCH --time=48:00:00\n",
      "module load conda\n",
      "conda activate mwas\n",
      "echo 'Executing Rscript with arguments: Rscript scripts/CLI.R --outdir=./output_chr1_a2_caud/ --snp_data_path=/dcs04/lieber/statsgen/shizhong/michael/mwas/gwas//libd_chr1.pgen --methylation_data_path=/dcs04/lieber/statsgen/shizhong/michael/mwas/pheno/caud/out/chr1_all.rda --cov=/dcs04/lieber/statsgen/mnagle/mwas/full_covariates/all_caud.csv --verbose=FALSE --lambda_choice=1se --alphas=0.5 --allow_inefficient_parallelization=FALSE --n_fold=5 --window_sizes=10000 --save_evaluation_results_each_fold=FALSE --save_glmnet_object=FALSE --omit_folds_with_na_r=TRUE --methInput_rds_path=/dcs04/lieber/statsgen/mnagle/mwas/pheno/caud/out/chr1_all_1108982-1128981.rds --chunk1=1 --chunk2=20000 --cv_eval_mode=dynamic --num_cores=1 --cores_per_alpha=all --tag=libd_chr1-chr1_all-1108982-1128981-dynamic-1corestotal-allcorepera-20240419-121307'\n",
      "Rscript scripts/CLI.R --outdir=./output_chr1_a2_caud/ --snp_data_path=/dcs04/lieber/statsgen/shizhong/michael/mwas/gwas//libd_chr1.pgen --methylation_data_path=/dcs04/lieber/statsgen/shizhong/michael/mwas/pheno/caud/out/chr1_all.rda --cov=/dcs04/lieber/statsgen/mnagle/mwas/full_covariates/all_caud.csv --verbose=FALSE --lambda_choice=1se --alphas=0.5 --allow_inefficient_parallelization=FALSE --n_fold=5 --window_sizes=10000 --save_evaluation_results_each_fold=FALSE --save_glmnet_object=FALSE --omit_folds_with_na_r=TRUE --methInput_rds_path=/dcs04/lieber/statsgen/mnagle/mwas/pheno/caud/out/chr1_all_1108982-1128981.rds --chunk1=1 --chunk2=20000 --cv_eval_mode=dynamic --num_cores=1 --cores_per_alpha=all --tag=libd_chr1-chr1_all-1108982-1128981-dynamic-1corestotal-allcorepera-20240419-121307\n"
     ]
    },
    {
     "name": "stderr",
     "output_type": "stream",
     "text": [
      "Sleeping for 181 seconds\n",
      "\n"
     ]
    },
    {
     "name": "stdout",
     "output_type": "stream",
     "text": [
      "\n",
      "[1] 167\n",
      "[1] \"Checking for files in:  ./output_chr1_a2_caud/\"\n",
      "[1] \"Using pattern:  libd_chr1-chr1_all-1128982-1148981-dynamic-1corestotal-allcorepera\"\n",
      "[1] \"Found files with specific pattern: \"\n",
      "character(0)\n",
      "\n",
      "#!/bin/bash\n",
      "#SBATCH --nodes=1\n",
      "#SBATCH --ntasks-per-node=1\n",
      "#SBATCH --cpus-per-task=1\n",
      "#SBATCH --mem-per-cpu=2G\n",
      "#SBATCH --output=slurm_output_libd_chr1-chr1_all-1128982-1148981-dynamic-1corestotal-allcorepera-20240419-121608.out\n",
      "#SBATCH --job-name=libd_chr1-chr1_all-1128982-1148981-dynamic-1corestotal-allcorepera-20240419-121608\n",
      "#SBATCH --time=48:00:00\n",
      "module load conda\n",
      "conda activate mwas\n",
      "echo 'Executing Rscript with arguments: Rscript scripts/CLI.R --outdir=./output_chr1_a2_caud/ --snp_data_path=/dcs04/lieber/statsgen/shizhong/michael/mwas/gwas//libd_chr1.pgen --methylation_data_path=/dcs04/lieber/statsgen/shizhong/michael/mwas/pheno/caud/out/chr1_all.rda --cov=/dcs04/lieber/statsgen/mnagle/mwas/full_covariates/all_caud.csv --verbose=FALSE --lambda_choice=1se --alphas=0.5 --allow_inefficient_parallelization=FALSE --n_fold=5 --window_sizes=10000 --save_evaluation_results_each_fold=FALSE --save_glmnet_object=FALSE --omit_folds_with_na_r=TRUE --methInput_rds_path=/dcs04/lieber/statsgen/mnagle/mwas/pheno/caud/out/chr1_all_1128982-1148981.rds --chunk1=1 --chunk2=20000 --cv_eval_mode=dynamic --num_cores=1 --cores_per_alpha=all --tag=libd_chr1-chr1_all-1128982-1148981-dynamic-1corestotal-allcorepera-20240419-121608'\n",
      "Rscript scripts/CLI.R --outdir=./output_chr1_a2_caud/ --snp_data_path=/dcs04/lieber/statsgen/shizhong/michael/mwas/gwas//libd_chr1.pgen --methylation_data_path=/dcs04/lieber/statsgen/shizhong/michael/mwas/pheno/caud/out/chr1_all.rda --cov=/dcs04/lieber/statsgen/mnagle/mwas/full_covariates/all_caud.csv --verbose=FALSE --lambda_choice=1se --alphas=0.5 --allow_inefficient_parallelization=FALSE --n_fold=5 --window_sizes=10000 --save_evaluation_results_each_fold=FALSE --save_glmnet_object=FALSE --omit_folds_with_na_r=TRUE --methInput_rds_path=/dcs04/lieber/statsgen/mnagle/mwas/pheno/caud/out/chr1_all_1128982-1148981.rds --chunk1=1 --chunk2=20000 --cv_eval_mode=dynamic --num_cores=1 --cores_per_alpha=all --tag=libd_chr1-chr1_all-1128982-1148981-dynamic-1corestotal-allcorepera-20240419-121608\n"
     ]
    },
    {
     "name": "stderr",
     "output_type": "stream",
     "text": [
      "Sleeping for 181 seconds\n",
      "\n"
     ]
    },
    {
     "name": "stdout",
     "output_type": "stream",
     "text": [
      "\n",
      "[1] 168\n",
      "[1] \"Checking for files in:  ./output_chr1_a2_caud/\"\n",
      "[1] \"Using pattern:  libd_chr1-chr1_all-1148982-1168981-dynamic-1corestotal-allcorepera\"\n",
      "[1] \"Found files with specific pattern: \"\n",
      "character(0)\n",
      "\n",
      "#!/bin/bash\n",
      "#SBATCH --nodes=1\n",
      "#SBATCH --ntasks-per-node=1\n",
      "#SBATCH --cpus-per-task=1\n",
      "#SBATCH --mem-per-cpu=2G\n",
      "#SBATCH --output=slurm_output_libd_chr1-chr1_all-1148982-1168981-dynamic-1corestotal-allcorepera-20240419-121909.out\n",
      "#SBATCH --job-name=libd_chr1-chr1_all-1148982-1168981-dynamic-1corestotal-allcorepera-20240419-121909\n",
      "#SBATCH --time=48:00:00\n",
      "module load conda\n",
      "conda activate mwas\n",
      "echo 'Executing Rscript with arguments: Rscript scripts/CLI.R --outdir=./output_chr1_a2_caud/ --snp_data_path=/dcs04/lieber/statsgen/shizhong/michael/mwas/gwas//libd_chr1.pgen --methylation_data_path=/dcs04/lieber/statsgen/shizhong/michael/mwas/pheno/caud/out/chr1_all.rda --cov=/dcs04/lieber/statsgen/mnagle/mwas/full_covariates/all_caud.csv --verbose=FALSE --lambda_choice=1se --alphas=0.5 --allow_inefficient_parallelization=FALSE --n_fold=5 --window_sizes=10000 --save_evaluation_results_each_fold=FALSE --save_glmnet_object=FALSE --omit_folds_with_na_r=TRUE --methInput_rds_path=/dcs04/lieber/statsgen/mnagle/mwas/pheno/caud/out/chr1_all_1148982-1168981.rds --chunk1=1 --chunk2=20000 --cv_eval_mode=dynamic --num_cores=1 --cores_per_alpha=all --tag=libd_chr1-chr1_all-1148982-1168981-dynamic-1corestotal-allcorepera-20240419-121909'\n",
      "Rscript scripts/CLI.R --outdir=./output_chr1_a2_caud/ --snp_data_path=/dcs04/lieber/statsgen/shizhong/michael/mwas/gwas//libd_chr1.pgen --methylation_data_path=/dcs04/lieber/statsgen/shizhong/michael/mwas/pheno/caud/out/chr1_all.rda --cov=/dcs04/lieber/statsgen/mnagle/mwas/full_covariates/all_caud.csv --verbose=FALSE --lambda_choice=1se --alphas=0.5 --allow_inefficient_parallelization=FALSE --n_fold=5 --window_sizes=10000 --save_evaluation_results_each_fold=FALSE --save_glmnet_object=FALSE --omit_folds_with_na_r=TRUE --methInput_rds_path=/dcs04/lieber/statsgen/mnagle/mwas/pheno/caud/out/chr1_all_1148982-1168981.rds --chunk1=1 --chunk2=20000 --cv_eval_mode=dynamic --num_cores=1 --cores_per_alpha=all --tag=libd_chr1-chr1_all-1148982-1168981-dynamic-1corestotal-allcorepera-20240419-121909\n"
     ]
    },
    {
     "name": "stderr",
     "output_type": "stream",
     "text": [
      "Sleeping for 181 seconds\n",
      "\n"
     ]
    },
    {
     "name": "stdout",
     "output_type": "stream",
     "text": [
      "\n",
      "[1] 169\n",
      "[1] \"Checking for files in:  ./output_chr1_a2_caud/\"\n",
      "[1] \"Using pattern:  libd_chr1-chr1_all-1168982-1188981-dynamic-1corestotal-allcorepera\"\n",
      "[1] \"Found files with specific pattern: \"\n",
      "character(0)\n",
      "\n",
      "#!/bin/bash\n",
      "#SBATCH --nodes=1\n",
      "#SBATCH --ntasks-per-node=1\n",
      "#SBATCH --cpus-per-task=1\n",
      "#SBATCH --mem-per-cpu=2G\n",
      "#SBATCH --output=slurm_output_libd_chr1-chr1_all-1168982-1188981-dynamic-1corestotal-allcorepera-20240419-122210.out\n",
      "#SBATCH --job-name=libd_chr1-chr1_all-1168982-1188981-dynamic-1corestotal-allcorepera-20240419-122210\n",
      "#SBATCH --time=48:00:00\n",
      "module load conda\n",
      "conda activate mwas\n",
      "echo 'Executing Rscript with arguments: Rscript scripts/CLI.R --outdir=./output_chr1_a2_caud/ --snp_data_path=/dcs04/lieber/statsgen/shizhong/michael/mwas/gwas//libd_chr1.pgen --methylation_data_path=/dcs04/lieber/statsgen/shizhong/michael/mwas/pheno/caud/out/chr1_all.rda --cov=/dcs04/lieber/statsgen/mnagle/mwas/full_covariates/all_caud.csv --verbose=FALSE --lambda_choice=1se --alphas=0.5 --allow_inefficient_parallelization=FALSE --n_fold=5 --window_sizes=10000 --save_evaluation_results_each_fold=FALSE --save_glmnet_object=FALSE --omit_folds_with_na_r=TRUE --methInput_rds_path=/dcs04/lieber/statsgen/mnagle/mwas/pheno/caud/out/chr1_all_1168982-1188981.rds --chunk1=1 --chunk2=20000 --cv_eval_mode=dynamic --num_cores=1 --cores_per_alpha=all --tag=libd_chr1-chr1_all-1168982-1188981-dynamic-1corestotal-allcorepera-20240419-122210'\n",
      "Rscript scripts/CLI.R --outdir=./output_chr1_a2_caud/ --snp_data_path=/dcs04/lieber/statsgen/shizhong/michael/mwas/gwas//libd_chr1.pgen --methylation_data_path=/dcs04/lieber/statsgen/shizhong/michael/mwas/pheno/caud/out/chr1_all.rda --cov=/dcs04/lieber/statsgen/mnagle/mwas/full_covariates/all_caud.csv --verbose=FALSE --lambda_choice=1se --alphas=0.5 --allow_inefficient_parallelization=FALSE --n_fold=5 --window_sizes=10000 --save_evaluation_results_each_fold=FALSE --save_glmnet_object=FALSE --omit_folds_with_na_r=TRUE --methInput_rds_path=/dcs04/lieber/statsgen/mnagle/mwas/pheno/caud/out/chr1_all_1168982-1188981.rds --chunk1=1 --chunk2=20000 --cv_eval_mode=dynamic --num_cores=1 --cores_per_alpha=all --tag=libd_chr1-chr1_all-1168982-1188981-dynamic-1corestotal-allcorepera-20240419-122210\n"
     ]
    },
    {
     "name": "stderr",
     "output_type": "stream",
     "text": [
      "Sleeping for 181 seconds\n",
      "\n"
     ]
    },
    {
     "name": "stdout",
     "output_type": "stream",
     "text": [
      "\n",
      "[1] 170\n",
      "[1] \"Checking for files in:  ./output_chr1_a2_caud/\"\n",
      "[1] \"Using pattern:  libd_chr1-chr1_all-1188982-1208981-dynamic-1corestotal-allcorepera\"\n",
      "[1] \"Found files with specific pattern: \"\n",
      "character(0)\n",
      "\n",
      "#!/bin/bash\n",
      "#SBATCH --nodes=1\n",
      "#SBATCH --ntasks-per-node=1\n",
      "#SBATCH --cpus-per-task=1\n",
      "#SBATCH --mem-per-cpu=2G\n",
      "#SBATCH --output=slurm_output_libd_chr1-chr1_all-1188982-1208981-dynamic-1corestotal-allcorepera-20240419-122512.out\n",
      "#SBATCH --job-name=libd_chr1-chr1_all-1188982-1208981-dynamic-1corestotal-allcorepera-20240419-122512\n",
      "#SBATCH --time=48:00:00\n",
      "module load conda\n",
      "conda activate mwas\n",
      "echo 'Executing Rscript with arguments: Rscript scripts/CLI.R --outdir=./output_chr1_a2_caud/ --snp_data_path=/dcs04/lieber/statsgen/shizhong/michael/mwas/gwas//libd_chr1.pgen --methylation_data_path=/dcs04/lieber/statsgen/shizhong/michael/mwas/pheno/caud/out/chr1_all.rda --cov=/dcs04/lieber/statsgen/mnagle/mwas/full_covariates/all_caud.csv --verbose=FALSE --lambda_choice=1se --alphas=0.5 --allow_inefficient_parallelization=FALSE --n_fold=5 --window_sizes=10000 --save_evaluation_results_each_fold=FALSE --save_glmnet_object=FALSE --omit_folds_with_na_r=TRUE --methInput_rds_path=/dcs04/lieber/statsgen/mnagle/mwas/pheno/caud/out/chr1_all_1188982-1208981.rds --chunk1=1 --chunk2=20000 --cv_eval_mode=dynamic --num_cores=1 --cores_per_alpha=all --tag=libd_chr1-chr1_all-1188982-1208981-dynamic-1corestotal-allcorepera-20240419-122512'\n",
      "Rscript scripts/CLI.R --outdir=./output_chr1_a2_caud/ --snp_data_path=/dcs04/lieber/statsgen/shizhong/michael/mwas/gwas//libd_chr1.pgen --methylation_data_path=/dcs04/lieber/statsgen/shizhong/michael/mwas/pheno/caud/out/chr1_all.rda --cov=/dcs04/lieber/statsgen/mnagle/mwas/full_covariates/all_caud.csv --verbose=FALSE --lambda_choice=1se --alphas=0.5 --allow_inefficient_parallelization=FALSE --n_fold=5 --window_sizes=10000 --save_evaluation_results_each_fold=FALSE --save_glmnet_object=FALSE --omit_folds_with_na_r=TRUE --methInput_rds_path=/dcs04/lieber/statsgen/mnagle/mwas/pheno/caud/out/chr1_all_1188982-1208981.rds --chunk1=1 --chunk2=20000 --cv_eval_mode=dynamic --num_cores=1 --cores_per_alpha=all --tag=libd_chr1-chr1_all-1188982-1208981-dynamic-1corestotal-allcorepera-20240419-122512\n"
     ]
    },
    {
     "name": "stderr",
     "output_type": "stream",
     "text": [
      "Sleeping for 181 seconds\n",
      "\n"
     ]
    },
    {
     "name": "stdout",
     "output_type": "stream",
     "text": [
      "\n",
      "[1] 171\n",
      "[1] \"Checking for files in:  ./output_chr1_a2_caud/\"\n",
      "[1] \"Using pattern:  libd_chr1-chr1_all-1208982-1228981-dynamic-1corestotal-allcorepera\"\n",
      "[1] \"Found files with specific pattern: \"\n",
      "character(0)\n",
      "\n",
      "#!/bin/bash\n",
      "#SBATCH --nodes=1\n",
      "#SBATCH --ntasks-per-node=1\n",
      "#SBATCH --cpus-per-task=1\n",
      "#SBATCH --mem-per-cpu=2G\n",
      "#SBATCH --output=slurm_output_libd_chr1-chr1_all-1208982-1228981-dynamic-1corestotal-allcorepera-20240419-122813.out\n",
      "#SBATCH --job-name=libd_chr1-chr1_all-1208982-1228981-dynamic-1corestotal-allcorepera-20240419-122813\n",
      "#SBATCH --time=48:00:00\n",
      "module load conda\n",
      "conda activate mwas\n",
      "echo 'Executing Rscript with arguments: Rscript scripts/CLI.R --outdir=./output_chr1_a2_caud/ --snp_data_path=/dcs04/lieber/statsgen/shizhong/michael/mwas/gwas//libd_chr1.pgen --methylation_data_path=/dcs04/lieber/statsgen/shizhong/michael/mwas/pheno/caud/out/chr1_all.rda --cov=/dcs04/lieber/statsgen/mnagle/mwas/full_covariates/all_caud.csv --verbose=FALSE --lambda_choice=1se --alphas=0.5 --allow_inefficient_parallelization=FALSE --n_fold=5 --window_sizes=10000 --save_evaluation_results_each_fold=FALSE --save_glmnet_object=FALSE --omit_folds_with_na_r=TRUE --methInput_rds_path=/dcs04/lieber/statsgen/mnagle/mwas/pheno/caud/out/chr1_all_1208982-1228981.rds --chunk1=1 --chunk2=20000 --cv_eval_mode=dynamic --num_cores=1 --cores_per_alpha=all --tag=libd_chr1-chr1_all-1208982-1228981-dynamic-1corestotal-allcorepera-20240419-122813'\n",
      "Rscript scripts/CLI.R --outdir=./output_chr1_a2_caud/ --snp_data_path=/dcs04/lieber/statsgen/shizhong/michael/mwas/gwas//libd_chr1.pgen --methylation_data_path=/dcs04/lieber/statsgen/shizhong/michael/mwas/pheno/caud/out/chr1_all.rda --cov=/dcs04/lieber/statsgen/mnagle/mwas/full_covariates/all_caud.csv --verbose=FALSE --lambda_choice=1se --alphas=0.5 --allow_inefficient_parallelization=FALSE --n_fold=5 --window_sizes=10000 --save_evaluation_results_each_fold=FALSE --save_glmnet_object=FALSE --omit_folds_with_na_r=TRUE --methInput_rds_path=/dcs04/lieber/statsgen/mnagle/mwas/pheno/caud/out/chr1_all_1208982-1228981.rds --chunk1=1 --chunk2=20000 --cv_eval_mode=dynamic --num_cores=1 --cores_per_alpha=all --tag=libd_chr1-chr1_all-1208982-1228981-dynamic-1corestotal-allcorepera-20240419-122813\n"
     ]
    },
    {
     "name": "stderr",
     "output_type": "stream",
     "text": [
      "Sleeping for 181 seconds\n",
      "\n"
     ]
    },
    {
     "name": "stdout",
     "output_type": "stream",
     "text": [
      "\n",
      "[1] 172\n",
      "[1] \"Checking for files in:  ./output_chr1_a2_caud/\"\n",
      "[1] \"Using pattern:  libd_chr1-chr1_all-1228982-1248981-dynamic-1corestotal-allcorepera\"\n",
      "[1] \"Found files with specific pattern: \"\n",
      "character(0)\n",
      "\n",
      "#!/bin/bash\n",
      "#SBATCH --nodes=1\n",
      "#SBATCH --ntasks-per-node=1\n",
      "#SBATCH --cpus-per-task=1\n",
      "#SBATCH --mem-per-cpu=2G\n",
      "#SBATCH --output=slurm_output_libd_chr1-chr1_all-1228982-1248981-dynamic-1corestotal-allcorepera-20240419-123114.out\n",
      "#SBATCH --job-name=libd_chr1-chr1_all-1228982-1248981-dynamic-1corestotal-allcorepera-20240419-123114\n",
      "#SBATCH --time=48:00:00\n",
      "module load conda\n",
      "conda activate mwas\n",
      "echo 'Executing Rscript with arguments: Rscript scripts/CLI.R --outdir=./output_chr1_a2_caud/ --snp_data_path=/dcs04/lieber/statsgen/shizhong/michael/mwas/gwas//libd_chr1.pgen --methylation_data_path=/dcs04/lieber/statsgen/shizhong/michael/mwas/pheno/caud/out/chr1_all.rda --cov=/dcs04/lieber/statsgen/mnagle/mwas/full_covariates/all_caud.csv --verbose=FALSE --lambda_choice=1se --alphas=0.5 --allow_inefficient_parallelization=FALSE --n_fold=5 --window_sizes=10000 --save_evaluation_results_each_fold=FALSE --save_glmnet_object=FALSE --omit_folds_with_na_r=TRUE --methInput_rds_path=/dcs04/lieber/statsgen/mnagle/mwas/pheno/caud/out/chr1_all_1228982-1248981.rds --chunk1=1 --chunk2=20000 --cv_eval_mode=dynamic --num_cores=1 --cores_per_alpha=all --tag=libd_chr1-chr1_all-1228982-1248981-dynamic-1corestotal-allcorepera-20240419-123114'\n",
      "Rscript scripts/CLI.R --outdir=./output_chr1_a2_caud/ --snp_data_path=/dcs04/lieber/statsgen/shizhong/michael/mwas/gwas//libd_chr1.pgen --methylation_data_path=/dcs04/lieber/statsgen/shizhong/michael/mwas/pheno/caud/out/chr1_all.rda --cov=/dcs04/lieber/statsgen/mnagle/mwas/full_covariates/all_caud.csv --verbose=FALSE --lambda_choice=1se --alphas=0.5 --allow_inefficient_parallelization=FALSE --n_fold=5 --window_sizes=10000 --save_evaluation_results_each_fold=FALSE --save_glmnet_object=FALSE --omit_folds_with_na_r=TRUE --methInput_rds_path=/dcs04/lieber/statsgen/mnagle/mwas/pheno/caud/out/chr1_all_1228982-1248981.rds --chunk1=1 --chunk2=20000 --cv_eval_mode=dynamic --num_cores=1 --cores_per_alpha=all --tag=libd_chr1-chr1_all-1228982-1248981-dynamic-1corestotal-allcorepera-20240419-123114\n"
     ]
    },
    {
     "name": "stderr",
     "output_type": "stream",
     "text": [
      "Sleeping for 181 seconds\n",
      "\n"
     ]
    },
    {
     "name": "stdout",
     "output_type": "stream",
     "text": [
      "\n",
      "[1] 173\n",
      "[1] \"Checking for files in:  ./output_chr1_a2_caud/\"\n",
      "[1] \"Using pattern:  libd_chr1-chr1_all-1248982-1268981-dynamic-1corestotal-allcorepera\"\n",
      "[1] \"Found files with specific pattern: \"\n",
      "character(0)\n",
      "\n",
      "#!/bin/bash\n",
      "#SBATCH --nodes=1\n",
      "#SBATCH --ntasks-per-node=1\n",
      "#SBATCH --cpus-per-task=1\n",
      "#SBATCH --mem-per-cpu=2G\n",
      "#SBATCH --output=slurm_output_libd_chr1-chr1_all-1248982-1268981-dynamic-1corestotal-allcorepera-20240419-123415.out\n",
      "#SBATCH --job-name=libd_chr1-chr1_all-1248982-1268981-dynamic-1corestotal-allcorepera-20240419-123415\n",
      "#SBATCH --time=48:00:00\n",
      "module load conda\n",
      "conda activate mwas\n",
      "echo 'Executing Rscript with arguments: Rscript scripts/CLI.R --outdir=./output_chr1_a2_caud/ --snp_data_path=/dcs04/lieber/statsgen/shizhong/michael/mwas/gwas//libd_chr1.pgen --methylation_data_path=/dcs04/lieber/statsgen/shizhong/michael/mwas/pheno/caud/out/chr1_all.rda --cov=/dcs04/lieber/statsgen/mnagle/mwas/full_covariates/all_caud.csv --verbose=FALSE --lambda_choice=1se --alphas=0.5 --allow_inefficient_parallelization=FALSE --n_fold=5 --window_sizes=10000 --save_evaluation_results_each_fold=FALSE --save_glmnet_object=FALSE --omit_folds_with_na_r=TRUE --methInput_rds_path=/dcs04/lieber/statsgen/mnagle/mwas/pheno/caud/out/chr1_all_1248982-1268981.rds --chunk1=1 --chunk2=20000 --cv_eval_mode=dynamic --num_cores=1 --cores_per_alpha=all --tag=libd_chr1-chr1_all-1248982-1268981-dynamic-1corestotal-allcorepera-20240419-123415'\n",
      "Rscript scripts/CLI.R --outdir=./output_chr1_a2_caud/ --snp_data_path=/dcs04/lieber/statsgen/shizhong/michael/mwas/gwas//libd_chr1.pgen --methylation_data_path=/dcs04/lieber/statsgen/shizhong/michael/mwas/pheno/caud/out/chr1_all.rda --cov=/dcs04/lieber/statsgen/mnagle/mwas/full_covariates/all_caud.csv --verbose=FALSE --lambda_choice=1se --alphas=0.5 --allow_inefficient_parallelization=FALSE --n_fold=5 --window_sizes=10000 --save_evaluation_results_each_fold=FALSE --save_glmnet_object=FALSE --omit_folds_with_na_r=TRUE --methInput_rds_path=/dcs04/lieber/statsgen/mnagle/mwas/pheno/caud/out/chr1_all_1248982-1268981.rds --chunk1=1 --chunk2=20000 --cv_eval_mode=dynamic --num_cores=1 --cores_per_alpha=all --tag=libd_chr1-chr1_all-1248982-1268981-dynamic-1corestotal-allcorepera-20240419-123415\n"
     ]
    },
    {
     "name": "stderr",
     "output_type": "stream",
     "text": [
      "Sleeping for 181 seconds\n",
      "\n"
     ]
    },
    {
     "name": "stdout",
     "output_type": "stream",
     "text": [
      "\n",
      "[1] 174\n",
      "[1] \"Checking for files in:  ./output_chr1_a2_caud/\"\n",
      "[1] \"Using pattern:  libd_chr1-chr1_all-1268982-1288981-dynamic-1corestotal-allcorepera\"\n",
      "[1] \"Found files with specific pattern: \"\n",
      "character(0)\n",
      "\n",
      "#!/bin/bash\n",
      "#SBATCH --nodes=1\n",
      "#SBATCH --ntasks-per-node=1\n",
      "#SBATCH --cpus-per-task=1\n",
      "#SBATCH --mem-per-cpu=2G\n",
      "#SBATCH --output=slurm_output_libd_chr1-chr1_all-1268982-1288981-dynamic-1corestotal-allcorepera-20240419-123716.out\n",
      "#SBATCH --job-name=libd_chr1-chr1_all-1268982-1288981-dynamic-1corestotal-allcorepera-20240419-123716\n",
      "#SBATCH --time=48:00:00\n",
      "module load conda\n",
      "conda activate mwas\n",
      "echo 'Executing Rscript with arguments: Rscript scripts/CLI.R --outdir=./output_chr1_a2_caud/ --snp_data_path=/dcs04/lieber/statsgen/shizhong/michael/mwas/gwas//libd_chr1.pgen --methylation_data_path=/dcs04/lieber/statsgen/shizhong/michael/mwas/pheno/caud/out/chr1_all.rda --cov=/dcs04/lieber/statsgen/mnagle/mwas/full_covariates/all_caud.csv --verbose=FALSE --lambda_choice=1se --alphas=0.5 --allow_inefficient_parallelization=FALSE --n_fold=5 --window_sizes=10000 --save_evaluation_results_each_fold=FALSE --save_glmnet_object=FALSE --omit_folds_with_na_r=TRUE --methInput_rds_path=/dcs04/lieber/statsgen/mnagle/mwas/pheno/caud/out/chr1_all_1268982-1288981.rds --chunk1=1 --chunk2=20000 --cv_eval_mode=dynamic --num_cores=1 --cores_per_alpha=all --tag=libd_chr1-chr1_all-1268982-1288981-dynamic-1corestotal-allcorepera-20240419-123716'\n",
      "Rscript scripts/CLI.R --outdir=./output_chr1_a2_caud/ --snp_data_path=/dcs04/lieber/statsgen/shizhong/michael/mwas/gwas//libd_chr1.pgen --methylation_data_path=/dcs04/lieber/statsgen/shizhong/michael/mwas/pheno/caud/out/chr1_all.rda --cov=/dcs04/lieber/statsgen/mnagle/mwas/full_covariates/all_caud.csv --verbose=FALSE --lambda_choice=1se --alphas=0.5 --allow_inefficient_parallelization=FALSE --n_fold=5 --window_sizes=10000 --save_evaluation_results_each_fold=FALSE --save_glmnet_object=FALSE --omit_folds_with_na_r=TRUE --methInput_rds_path=/dcs04/lieber/statsgen/mnagle/mwas/pheno/caud/out/chr1_all_1268982-1288981.rds --chunk1=1 --chunk2=20000 --cv_eval_mode=dynamic --num_cores=1 --cores_per_alpha=all --tag=libd_chr1-chr1_all-1268982-1288981-dynamic-1corestotal-allcorepera-20240419-123716\n"
     ]
    },
    {
     "name": "stderr",
     "output_type": "stream",
     "text": [
      "Sleeping for 181 seconds\n",
      "\n"
     ]
    },
    {
     "name": "stdout",
     "output_type": "stream",
     "text": [
      "\n",
      "[1] 175\n",
      "[1] \"Checking for files in:  ./output_chr1_a2_caud/\"\n",
      "[1] \"Using pattern:  libd_chr1-chr1_all-1288982-1308981-dynamic-1corestotal-allcorepera\"\n",
      "[1] \"Found files with specific pattern: \"\n",
      "character(0)\n",
      "\n",
      "#!/bin/bash\n",
      "#SBATCH --nodes=1\n",
      "#SBATCH --ntasks-per-node=1\n",
      "#SBATCH --cpus-per-task=1\n",
      "#SBATCH --mem-per-cpu=2G\n",
      "#SBATCH --output=slurm_output_libd_chr1-chr1_all-1288982-1308981-dynamic-1corestotal-allcorepera-20240419-124017.out\n",
      "#SBATCH --job-name=libd_chr1-chr1_all-1288982-1308981-dynamic-1corestotal-allcorepera-20240419-124017\n",
      "#SBATCH --time=48:00:00\n",
      "module load conda\n",
      "conda activate mwas\n",
      "echo 'Executing Rscript with arguments: Rscript scripts/CLI.R --outdir=./output_chr1_a2_caud/ --snp_data_path=/dcs04/lieber/statsgen/shizhong/michael/mwas/gwas//libd_chr1.pgen --methylation_data_path=/dcs04/lieber/statsgen/shizhong/michael/mwas/pheno/caud/out/chr1_all.rda --cov=/dcs04/lieber/statsgen/mnagle/mwas/full_covariates/all_caud.csv --verbose=FALSE --lambda_choice=1se --alphas=0.5 --allow_inefficient_parallelization=FALSE --n_fold=5 --window_sizes=10000 --save_evaluation_results_each_fold=FALSE --save_glmnet_object=FALSE --omit_folds_with_na_r=TRUE --methInput_rds_path=/dcs04/lieber/statsgen/mnagle/mwas/pheno/caud/out/chr1_all_1288982-1308981.rds --chunk1=1 --chunk2=20000 --cv_eval_mode=dynamic --num_cores=1 --cores_per_alpha=all --tag=libd_chr1-chr1_all-1288982-1308981-dynamic-1corestotal-allcorepera-20240419-124017'\n",
      "Rscript scripts/CLI.R --outdir=./output_chr1_a2_caud/ --snp_data_path=/dcs04/lieber/statsgen/shizhong/michael/mwas/gwas//libd_chr1.pgen --methylation_data_path=/dcs04/lieber/statsgen/shizhong/michael/mwas/pheno/caud/out/chr1_all.rda --cov=/dcs04/lieber/statsgen/mnagle/mwas/full_covariates/all_caud.csv --verbose=FALSE --lambda_choice=1se --alphas=0.5 --allow_inefficient_parallelization=FALSE --n_fold=5 --window_sizes=10000 --save_evaluation_results_each_fold=FALSE --save_glmnet_object=FALSE --omit_folds_with_na_r=TRUE --methInput_rds_path=/dcs04/lieber/statsgen/mnagle/mwas/pheno/caud/out/chr1_all_1288982-1308981.rds --chunk1=1 --chunk2=20000 --cv_eval_mode=dynamic --num_cores=1 --cores_per_alpha=all --tag=libd_chr1-chr1_all-1288982-1308981-dynamic-1corestotal-allcorepera-20240419-124017\n"
     ]
    },
    {
     "name": "stderr",
     "output_type": "stream",
     "text": [
      "Sleeping for 181 seconds\n",
      "\n"
     ]
    },
    {
     "name": "stdout",
     "output_type": "stream",
     "text": [
      "\n",
      "[1] 176\n",
      "[1] \"Checking for files in:  ./output_chr1_a2_caud/\"\n",
      "[1] \"Using pattern:  libd_chr1-chr1_all-1308982-1328981-dynamic-1corestotal-allcorepera\"\n",
      "[1] \"Found files with specific pattern: \"\n",
      "character(0)\n",
      "\n",
      "#!/bin/bash\n",
      "#SBATCH --nodes=1\n",
      "#SBATCH --ntasks-per-node=1\n",
      "#SBATCH --cpus-per-task=1\n",
      "#SBATCH --mem-per-cpu=2G\n",
      "#SBATCH --output=slurm_output_libd_chr1-chr1_all-1308982-1328981-dynamic-1corestotal-allcorepera-20240419-124318.out\n",
      "#SBATCH --job-name=libd_chr1-chr1_all-1308982-1328981-dynamic-1corestotal-allcorepera-20240419-124318\n",
      "#SBATCH --time=48:00:00\n",
      "module load conda\n",
      "conda activate mwas\n",
      "echo 'Executing Rscript with arguments: Rscript scripts/CLI.R --outdir=./output_chr1_a2_caud/ --snp_data_path=/dcs04/lieber/statsgen/shizhong/michael/mwas/gwas//libd_chr1.pgen --methylation_data_path=/dcs04/lieber/statsgen/shizhong/michael/mwas/pheno/caud/out/chr1_all.rda --cov=/dcs04/lieber/statsgen/mnagle/mwas/full_covariates/all_caud.csv --verbose=FALSE --lambda_choice=1se --alphas=0.5 --allow_inefficient_parallelization=FALSE --n_fold=5 --window_sizes=10000 --save_evaluation_results_each_fold=FALSE --save_glmnet_object=FALSE --omit_folds_with_na_r=TRUE --methInput_rds_path=/dcs04/lieber/statsgen/mnagle/mwas/pheno/caud/out/chr1_all_1308982-1328981.rds --chunk1=1 --chunk2=20000 --cv_eval_mode=dynamic --num_cores=1 --cores_per_alpha=all --tag=libd_chr1-chr1_all-1308982-1328981-dynamic-1corestotal-allcorepera-20240419-124318'\n",
      "Rscript scripts/CLI.R --outdir=./output_chr1_a2_caud/ --snp_data_path=/dcs04/lieber/statsgen/shizhong/michael/mwas/gwas//libd_chr1.pgen --methylation_data_path=/dcs04/lieber/statsgen/shizhong/michael/mwas/pheno/caud/out/chr1_all.rda --cov=/dcs04/lieber/statsgen/mnagle/mwas/full_covariates/all_caud.csv --verbose=FALSE --lambda_choice=1se --alphas=0.5 --allow_inefficient_parallelization=FALSE --n_fold=5 --window_sizes=10000 --save_evaluation_results_each_fold=FALSE --save_glmnet_object=FALSE --omit_folds_with_na_r=TRUE --methInput_rds_path=/dcs04/lieber/statsgen/mnagle/mwas/pheno/caud/out/chr1_all_1308982-1328981.rds --chunk1=1 --chunk2=20000 --cv_eval_mode=dynamic --num_cores=1 --cores_per_alpha=all --tag=libd_chr1-chr1_all-1308982-1328981-dynamic-1corestotal-allcorepera-20240419-124318\n"
     ]
    },
    {
     "name": "stderr",
     "output_type": "stream",
     "text": [
      "Sleeping for 181 seconds\n",
      "\n"
     ]
    },
    {
     "name": "stdout",
     "output_type": "stream",
     "text": [
      "\n",
      "[1] 177\n",
      "[1] \"Checking for files in:  ./output_chr1_a2_caud/\"\n",
      "[1] \"Using pattern:  libd_chr1-chr1_all-1328982-1348981-dynamic-1corestotal-allcorepera\"\n",
      "[1] \"Found files with specific pattern: \"\n",
      "character(0)\n",
      "\n",
      "#!/bin/bash\n",
      "#SBATCH --nodes=1\n",
      "#SBATCH --ntasks-per-node=1\n",
      "#SBATCH --cpus-per-task=1\n",
      "#SBATCH --mem-per-cpu=2G\n",
      "#SBATCH --output=slurm_output_libd_chr1-chr1_all-1328982-1348981-dynamic-1corestotal-allcorepera-20240419-124619.out\n",
      "#SBATCH --job-name=libd_chr1-chr1_all-1328982-1348981-dynamic-1corestotal-allcorepera-20240419-124619\n",
      "#SBATCH --time=48:00:00\n",
      "module load conda\n",
      "conda activate mwas\n",
      "echo 'Executing Rscript with arguments: Rscript scripts/CLI.R --outdir=./output_chr1_a2_caud/ --snp_data_path=/dcs04/lieber/statsgen/shizhong/michael/mwas/gwas//libd_chr1.pgen --methylation_data_path=/dcs04/lieber/statsgen/shizhong/michael/mwas/pheno/caud/out/chr1_all.rda --cov=/dcs04/lieber/statsgen/mnagle/mwas/full_covariates/all_caud.csv --verbose=FALSE --lambda_choice=1se --alphas=0.5 --allow_inefficient_parallelization=FALSE --n_fold=5 --window_sizes=10000 --save_evaluation_results_each_fold=FALSE --save_glmnet_object=FALSE --omit_folds_with_na_r=TRUE --methInput_rds_path=/dcs04/lieber/statsgen/mnagle/mwas/pheno/caud/out/chr1_all_1328982-1348981.rds --chunk1=1 --chunk2=20000 --cv_eval_mode=dynamic --num_cores=1 --cores_per_alpha=all --tag=libd_chr1-chr1_all-1328982-1348981-dynamic-1corestotal-allcorepera-20240419-124619'\n",
      "Rscript scripts/CLI.R --outdir=./output_chr1_a2_caud/ --snp_data_path=/dcs04/lieber/statsgen/shizhong/michael/mwas/gwas//libd_chr1.pgen --methylation_data_path=/dcs04/lieber/statsgen/shizhong/michael/mwas/pheno/caud/out/chr1_all.rda --cov=/dcs04/lieber/statsgen/mnagle/mwas/full_covariates/all_caud.csv --verbose=FALSE --lambda_choice=1se --alphas=0.5 --allow_inefficient_parallelization=FALSE --n_fold=5 --window_sizes=10000 --save_evaluation_results_each_fold=FALSE --save_glmnet_object=FALSE --omit_folds_with_na_r=TRUE --methInput_rds_path=/dcs04/lieber/statsgen/mnagle/mwas/pheno/caud/out/chr1_all_1328982-1348981.rds --chunk1=1 --chunk2=20000 --cv_eval_mode=dynamic --num_cores=1 --cores_per_alpha=all --tag=libd_chr1-chr1_all-1328982-1348981-dynamic-1corestotal-allcorepera-20240419-124619\n"
     ]
    },
    {
     "name": "stderr",
     "output_type": "stream",
     "text": [
      "Sleeping for 181 seconds\n",
      "\n"
     ]
    },
    {
     "name": "stdout",
     "output_type": "stream",
     "text": [
      "\n",
      "[1] 178\n",
      "[1] \"Checking for files in:  ./output_chr1_a2_caud/\"\n",
      "[1] \"Using pattern:  libd_chr1-chr1_all-1348982-1368981-dynamic-1corestotal-allcorepera\"\n",
      "[1] \"Found files with specific pattern: \"\n",
      "character(0)\n",
      "\n",
      "#!/bin/bash\n",
      "#SBATCH --nodes=1\n",
      "#SBATCH --ntasks-per-node=1\n",
      "#SBATCH --cpus-per-task=1\n",
      "#SBATCH --mem-per-cpu=2G\n",
      "#SBATCH --output=slurm_output_libd_chr1-chr1_all-1348982-1368981-dynamic-1corestotal-allcorepera-20240419-124921.out\n",
      "#SBATCH --job-name=libd_chr1-chr1_all-1348982-1368981-dynamic-1corestotal-allcorepera-20240419-124921\n",
      "#SBATCH --time=48:00:00\n",
      "module load conda\n",
      "conda activate mwas\n",
      "echo 'Executing Rscript with arguments: Rscript scripts/CLI.R --outdir=./output_chr1_a2_caud/ --snp_data_path=/dcs04/lieber/statsgen/shizhong/michael/mwas/gwas//libd_chr1.pgen --methylation_data_path=/dcs04/lieber/statsgen/shizhong/michael/mwas/pheno/caud/out/chr1_all.rda --cov=/dcs04/lieber/statsgen/mnagle/mwas/full_covariates/all_caud.csv --verbose=FALSE --lambda_choice=1se --alphas=0.5 --allow_inefficient_parallelization=FALSE --n_fold=5 --window_sizes=10000 --save_evaluation_results_each_fold=FALSE --save_glmnet_object=FALSE --omit_folds_with_na_r=TRUE --methInput_rds_path=/dcs04/lieber/statsgen/mnagle/mwas/pheno/caud/out/chr1_all_1348982-1368981.rds --chunk1=1 --chunk2=20000 --cv_eval_mode=dynamic --num_cores=1 --cores_per_alpha=all --tag=libd_chr1-chr1_all-1348982-1368981-dynamic-1corestotal-allcorepera-20240419-124921'\n",
      "Rscript scripts/CLI.R --outdir=./output_chr1_a2_caud/ --snp_data_path=/dcs04/lieber/statsgen/shizhong/michael/mwas/gwas//libd_chr1.pgen --methylation_data_path=/dcs04/lieber/statsgen/shizhong/michael/mwas/pheno/caud/out/chr1_all.rda --cov=/dcs04/lieber/statsgen/mnagle/mwas/full_covariates/all_caud.csv --verbose=FALSE --lambda_choice=1se --alphas=0.5 --allow_inefficient_parallelization=FALSE --n_fold=5 --window_sizes=10000 --save_evaluation_results_each_fold=FALSE --save_glmnet_object=FALSE --omit_folds_with_na_r=TRUE --methInput_rds_path=/dcs04/lieber/statsgen/mnagle/mwas/pheno/caud/out/chr1_all_1348982-1368981.rds --chunk1=1 --chunk2=20000 --cv_eval_mode=dynamic --num_cores=1 --cores_per_alpha=all --tag=libd_chr1-chr1_all-1348982-1368981-dynamic-1corestotal-allcorepera-20240419-124921\n"
     ]
    },
    {
     "name": "stderr",
     "output_type": "stream",
     "text": [
      "Sleeping for 181 seconds\n",
      "\n"
     ]
    },
    {
     "name": "stdout",
     "output_type": "stream",
     "text": [
      "\n",
      "[1] 179\n",
      "[1] \"Checking for files in:  ./output_chr1_a2_caud/\"\n",
      "[1] \"Using pattern:  libd_chr1-chr1_all-1368982-1388981-dynamic-1corestotal-allcorepera\"\n",
      "[1] \"Found files with specific pattern: \"\n",
      "character(0)\n",
      "\n",
      "#!/bin/bash\n",
      "#SBATCH --nodes=1\n",
      "#SBATCH --ntasks-per-node=1\n",
      "#SBATCH --cpus-per-task=1\n",
      "#SBATCH --mem-per-cpu=2G\n",
      "#SBATCH --output=slurm_output_libd_chr1-chr1_all-1368982-1388981-dynamic-1corestotal-allcorepera-20240419-125222.out\n",
      "#SBATCH --job-name=libd_chr1-chr1_all-1368982-1388981-dynamic-1corestotal-allcorepera-20240419-125222\n",
      "#SBATCH --time=48:00:00\n",
      "module load conda\n",
      "conda activate mwas\n",
      "echo 'Executing Rscript with arguments: Rscript scripts/CLI.R --outdir=./output_chr1_a2_caud/ --snp_data_path=/dcs04/lieber/statsgen/shizhong/michael/mwas/gwas//libd_chr1.pgen --methylation_data_path=/dcs04/lieber/statsgen/shizhong/michael/mwas/pheno/caud/out/chr1_all.rda --cov=/dcs04/lieber/statsgen/mnagle/mwas/full_covariates/all_caud.csv --verbose=FALSE --lambda_choice=1se --alphas=0.5 --allow_inefficient_parallelization=FALSE --n_fold=5 --window_sizes=10000 --save_evaluation_results_each_fold=FALSE --save_glmnet_object=FALSE --omit_folds_with_na_r=TRUE --methInput_rds_path=/dcs04/lieber/statsgen/mnagle/mwas/pheno/caud/out/chr1_all_1368982-1388981.rds --chunk1=1 --chunk2=20000 --cv_eval_mode=dynamic --num_cores=1 --cores_per_alpha=all --tag=libd_chr1-chr1_all-1368982-1388981-dynamic-1corestotal-allcorepera-20240419-125222'\n",
      "Rscript scripts/CLI.R --outdir=./output_chr1_a2_caud/ --snp_data_path=/dcs04/lieber/statsgen/shizhong/michael/mwas/gwas//libd_chr1.pgen --methylation_data_path=/dcs04/lieber/statsgen/shizhong/michael/mwas/pheno/caud/out/chr1_all.rda --cov=/dcs04/lieber/statsgen/mnagle/mwas/full_covariates/all_caud.csv --verbose=FALSE --lambda_choice=1se --alphas=0.5 --allow_inefficient_parallelization=FALSE --n_fold=5 --window_sizes=10000 --save_evaluation_results_each_fold=FALSE --save_glmnet_object=FALSE --omit_folds_with_na_r=TRUE --methInput_rds_path=/dcs04/lieber/statsgen/mnagle/mwas/pheno/caud/out/chr1_all_1368982-1388981.rds --chunk1=1 --chunk2=20000 --cv_eval_mode=dynamic --num_cores=1 --cores_per_alpha=all --tag=libd_chr1-chr1_all-1368982-1388981-dynamic-1corestotal-allcorepera-20240419-125222\n"
     ]
    },
    {
     "name": "stderr",
     "output_type": "stream",
     "text": [
      "Sleeping for 181 seconds\n",
      "\n"
     ]
    },
    {
     "name": "stdout",
     "output_type": "stream",
     "text": [
      "\n",
      "[1] 180\n",
      "[1] \"Checking for files in:  ./output_chr1_a2_caud/\"\n",
      "[1] \"Using pattern:  libd_chr1-chr1_all-1388982-1408981-dynamic-1corestotal-allcorepera\"\n",
      "[1] \"Found files with specific pattern: \"\n",
      "character(0)\n",
      "\n",
      "#!/bin/bash\n",
      "#SBATCH --nodes=1\n",
      "#SBATCH --ntasks-per-node=1\n",
      "#SBATCH --cpus-per-task=1\n",
      "#SBATCH --mem-per-cpu=2G\n",
      "#SBATCH --output=slurm_output_libd_chr1-chr1_all-1388982-1408981-dynamic-1corestotal-allcorepera-20240419-125523.out\n",
      "#SBATCH --job-name=libd_chr1-chr1_all-1388982-1408981-dynamic-1corestotal-allcorepera-20240419-125523\n",
      "#SBATCH --time=48:00:00\n",
      "module load conda\n",
      "conda activate mwas\n",
      "echo 'Executing Rscript with arguments: Rscript scripts/CLI.R --outdir=./output_chr1_a2_caud/ --snp_data_path=/dcs04/lieber/statsgen/shizhong/michael/mwas/gwas//libd_chr1.pgen --methylation_data_path=/dcs04/lieber/statsgen/shizhong/michael/mwas/pheno/caud/out/chr1_all.rda --cov=/dcs04/lieber/statsgen/mnagle/mwas/full_covariates/all_caud.csv --verbose=FALSE --lambda_choice=1se --alphas=0.5 --allow_inefficient_parallelization=FALSE --n_fold=5 --window_sizes=10000 --save_evaluation_results_each_fold=FALSE --save_glmnet_object=FALSE --omit_folds_with_na_r=TRUE --methInput_rds_path=/dcs04/lieber/statsgen/mnagle/mwas/pheno/caud/out/chr1_all_1388982-1408981.rds --chunk1=1 --chunk2=20000 --cv_eval_mode=dynamic --num_cores=1 --cores_per_alpha=all --tag=libd_chr1-chr1_all-1388982-1408981-dynamic-1corestotal-allcorepera-20240419-125523'\n",
      "Rscript scripts/CLI.R --outdir=./output_chr1_a2_caud/ --snp_data_path=/dcs04/lieber/statsgen/shizhong/michael/mwas/gwas//libd_chr1.pgen --methylation_data_path=/dcs04/lieber/statsgen/shizhong/michael/mwas/pheno/caud/out/chr1_all.rda --cov=/dcs04/lieber/statsgen/mnagle/mwas/full_covariates/all_caud.csv --verbose=FALSE --lambda_choice=1se --alphas=0.5 --allow_inefficient_parallelization=FALSE --n_fold=5 --window_sizes=10000 --save_evaluation_results_each_fold=FALSE --save_glmnet_object=FALSE --omit_folds_with_na_r=TRUE --methInput_rds_path=/dcs04/lieber/statsgen/mnagle/mwas/pheno/caud/out/chr1_all_1388982-1408981.rds --chunk1=1 --chunk2=20000 --cv_eval_mode=dynamic --num_cores=1 --cores_per_alpha=all --tag=libd_chr1-chr1_all-1388982-1408981-dynamic-1corestotal-allcorepera-20240419-125523\n"
     ]
    },
    {
     "name": "stderr",
     "output_type": "stream",
     "text": [
      "Sleeping for 181 seconds\n",
      "\n"
     ]
    },
    {
     "name": "stdout",
     "output_type": "stream",
     "text": [
      "\n",
      "[1] 181\n",
      "[1] \"Checking for files in:  ./output_chr1_a2_caud/\"\n",
      "[1] \"Using pattern:  libd_chr1-chr1_all-1408982-1428981-dynamic-1corestotal-allcorepera\"\n",
      "[1] \"Found files with specific pattern: \"\n",
      "character(0)\n",
      "\n",
      "#!/bin/bash\n",
      "#SBATCH --nodes=1\n",
      "#SBATCH --ntasks-per-node=1\n",
      "#SBATCH --cpus-per-task=1\n",
      "#SBATCH --mem-per-cpu=2G\n",
      "#SBATCH --output=slurm_output_libd_chr1-chr1_all-1408982-1428981-dynamic-1corestotal-allcorepera-20240419-125824.out\n",
      "#SBATCH --job-name=libd_chr1-chr1_all-1408982-1428981-dynamic-1corestotal-allcorepera-20240419-125824\n",
      "#SBATCH --time=48:00:00\n",
      "module load conda\n",
      "conda activate mwas\n",
      "echo 'Executing Rscript with arguments: Rscript scripts/CLI.R --outdir=./output_chr1_a2_caud/ --snp_data_path=/dcs04/lieber/statsgen/shizhong/michael/mwas/gwas//libd_chr1.pgen --methylation_data_path=/dcs04/lieber/statsgen/shizhong/michael/mwas/pheno/caud/out/chr1_all.rda --cov=/dcs04/lieber/statsgen/mnagle/mwas/full_covariates/all_caud.csv --verbose=FALSE --lambda_choice=1se --alphas=0.5 --allow_inefficient_parallelization=FALSE --n_fold=5 --window_sizes=10000 --save_evaluation_results_each_fold=FALSE --save_glmnet_object=FALSE --omit_folds_with_na_r=TRUE --methInput_rds_path=/dcs04/lieber/statsgen/mnagle/mwas/pheno/caud/out/chr1_all_1408982-1428981.rds --chunk1=1 --chunk2=20000 --cv_eval_mode=dynamic --num_cores=1 --cores_per_alpha=all --tag=libd_chr1-chr1_all-1408982-1428981-dynamic-1corestotal-allcorepera-20240419-125824'\n",
      "Rscript scripts/CLI.R --outdir=./output_chr1_a2_caud/ --snp_data_path=/dcs04/lieber/statsgen/shizhong/michael/mwas/gwas//libd_chr1.pgen --methylation_data_path=/dcs04/lieber/statsgen/shizhong/michael/mwas/pheno/caud/out/chr1_all.rda --cov=/dcs04/lieber/statsgen/mnagle/mwas/full_covariates/all_caud.csv --verbose=FALSE --lambda_choice=1se --alphas=0.5 --allow_inefficient_parallelization=FALSE --n_fold=5 --window_sizes=10000 --save_evaluation_results_each_fold=FALSE --save_glmnet_object=FALSE --omit_folds_with_na_r=TRUE --methInput_rds_path=/dcs04/lieber/statsgen/mnagle/mwas/pheno/caud/out/chr1_all_1408982-1428981.rds --chunk1=1 --chunk2=20000 --cv_eval_mode=dynamic --num_cores=1 --cores_per_alpha=all --tag=libd_chr1-chr1_all-1408982-1428981-dynamic-1corestotal-allcorepera-20240419-125824\n"
     ]
    },
    {
     "name": "stderr",
     "output_type": "stream",
     "text": [
      "Sleeping for 181 seconds\n",
      "\n"
     ]
    },
    {
     "name": "stdout",
     "output_type": "stream",
     "text": [
      "\n",
      "[1] 182\n",
      "[1] \"Checking for files in:  ./output_chr1_a2_caud/\"\n",
      "[1] \"Using pattern:  libd_chr1-chr1_all-1428982-1448981-dynamic-1corestotal-allcorepera\"\n",
      "[1] \"Found files with specific pattern: \"\n",
      "character(0)\n",
      "\n",
      "#!/bin/bash\n",
      "#SBATCH --nodes=1\n",
      "#SBATCH --ntasks-per-node=1\n",
      "#SBATCH --cpus-per-task=1\n",
      "#SBATCH --mem-per-cpu=2G\n",
      "#SBATCH --output=slurm_output_libd_chr1-chr1_all-1428982-1448981-dynamic-1corestotal-allcorepera-20240419-130125.out\n",
      "#SBATCH --job-name=libd_chr1-chr1_all-1428982-1448981-dynamic-1corestotal-allcorepera-20240419-130125\n",
      "#SBATCH --time=48:00:00\n",
      "module load conda\n",
      "conda activate mwas\n",
      "echo 'Executing Rscript with arguments: Rscript scripts/CLI.R --outdir=./output_chr1_a2_caud/ --snp_data_path=/dcs04/lieber/statsgen/shizhong/michael/mwas/gwas//libd_chr1.pgen --methylation_data_path=/dcs04/lieber/statsgen/shizhong/michael/mwas/pheno/caud/out/chr1_all.rda --cov=/dcs04/lieber/statsgen/mnagle/mwas/full_covariates/all_caud.csv --verbose=FALSE --lambda_choice=1se --alphas=0.5 --allow_inefficient_parallelization=FALSE --n_fold=5 --window_sizes=10000 --save_evaluation_results_each_fold=FALSE --save_glmnet_object=FALSE --omit_folds_with_na_r=TRUE --methInput_rds_path=/dcs04/lieber/statsgen/mnagle/mwas/pheno/caud/out/chr1_all_1428982-1448981.rds --chunk1=1 --chunk2=20000 --cv_eval_mode=dynamic --num_cores=1 --cores_per_alpha=all --tag=libd_chr1-chr1_all-1428982-1448981-dynamic-1corestotal-allcorepera-20240419-130125'\n",
      "Rscript scripts/CLI.R --outdir=./output_chr1_a2_caud/ --snp_data_path=/dcs04/lieber/statsgen/shizhong/michael/mwas/gwas//libd_chr1.pgen --methylation_data_path=/dcs04/lieber/statsgen/shizhong/michael/mwas/pheno/caud/out/chr1_all.rda --cov=/dcs04/lieber/statsgen/mnagle/mwas/full_covariates/all_caud.csv --verbose=FALSE --lambda_choice=1se --alphas=0.5 --allow_inefficient_parallelization=FALSE --n_fold=5 --window_sizes=10000 --save_evaluation_results_each_fold=FALSE --save_glmnet_object=FALSE --omit_folds_with_na_r=TRUE --methInput_rds_path=/dcs04/lieber/statsgen/mnagle/mwas/pheno/caud/out/chr1_all_1428982-1448981.rds --chunk1=1 --chunk2=20000 --cv_eval_mode=dynamic --num_cores=1 --cores_per_alpha=all --tag=libd_chr1-chr1_all-1428982-1448981-dynamic-1corestotal-allcorepera-20240419-130125\n"
     ]
    },
    {
     "name": "stderr",
     "output_type": "stream",
     "text": [
      "Sleeping for 181 seconds\n",
      "\n"
     ]
    },
    {
     "name": "stdout",
     "output_type": "stream",
     "text": [
      "\n",
      "[1] 183\n",
      "[1] \"Checking for files in:  ./output_chr1_a2_caud/\"\n",
      "[1] \"Using pattern:  libd_chr1-chr1_all-1448982-1468981-dynamic-1corestotal-allcorepera\"\n",
      "[1] \"Found files with specific pattern: \"\n",
      "character(0)\n",
      "\n",
      "#!/bin/bash\n",
      "#SBATCH --nodes=1\n",
      "#SBATCH --ntasks-per-node=1\n",
      "#SBATCH --cpus-per-task=1\n",
      "#SBATCH --mem-per-cpu=2G\n",
      "#SBATCH --output=slurm_output_libd_chr1-chr1_all-1448982-1468981-dynamic-1corestotal-allcorepera-20240419-130433.out\n",
      "#SBATCH --job-name=libd_chr1-chr1_all-1448982-1468981-dynamic-1corestotal-allcorepera-20240419-130433\n",
      "#SBATCH --time=48:00:00\n",
      "module load conda\n",
      "conda activate mwas\n",
      "echo 'Executing Rscript with arguments: Rscript scripts/CLI.R --outdir=./output_chr1_a2_caud/ --snp_data_path=/dcs04/lieber/statsgen/shizhong/michael/mwas/gwas//libd_chr1.pgen --methylation_data_path=/dcs04/lieber/statsgen/shizhong/michael/mwas/pheno/caud/out/chr1_all.rda --cov=/dcs04/lieber/statsgen/mnagle/mwas/full_covariates/all_caud.csv --verbose=FALSE --lambda_choice=1se --alphas=0.5 --allow_inefficient_parallelization=FALSE --n_fold=5 --window_sizes=10000 --save_evaluation_results_each_fold=FALSE --save_glmnet_object=FALSE --omit_folds_with_na_r=TRUE --methInput_rds_path=/dcs04/lieber/statsgen/mnagle/mwas/pheno/caud/out/chr1_all_1448982-1468981.rds --chunk1=1 --chunk2=20000 --cv_eval_mode=dynamic --num_cores=1 --cores_per_alpha=all --tag=libd_chr1-chr1_all-1448982-1468981-dynamic-1corestotal-allcorepera-20240419-130433'\n",
      "Rscript scripts/CLI.R --outdir=./output_chr1_a2_caud/ --snp_data_path=/dcs04/lieber/statsgen/shizhong/michael/mwas/gwas//libd_chr1.pgen --methylation_data_path=/dcs04/lieber/statsgen/shizhong/michael/mwas/pheno/caud/out/chr1_all.rda --cov=/dcs04/lieber/statsgen/mnagle/mwas/full_covariates/all_caud.csv --verbose=FALSE --lambda_choice=1se --alphas=0.5 --allow_inefficient_parallelization=FALSE --n_fold=5 --window_sizes=10000 --save_evaluation_results_each_fold=FALSE --save_glmnet_object=FALSE --omit_folds_with_na_r=TRUE --methInput_rds_path=/dcs04/lieber/statsgen/mnagle/mwas/pheno/caud/out/chr1_all_1448982-1468981.rds --chunk1=1 --chunk2=20000 --cv_eval_mode=dynamic --num_cores=1 --cores_per_alpha=all --tag=libd_chr1-chr1_all-1448982-1468981-dynamic-1corestotal-allcorepera-20240419-130433\n"
     ]
    },
    {
     "name": "stderr",
     "output_type": "stream",
     "text": [
      "Sleeping for 181 seconds\n",
      "\n"
     ]
    },
    {
     "name": "stdout",
     "output_type": "stream",
     "text": [
      "\n",
      "[1] 184\n",
      "[1] \"Checking for files in:  ./output_chr1_a2_caud/\"\n",
      "[1] \"Using pattern:  libd_chr1-chr1_all-1468982-1488981-dynamic-1corestotal-allcorepera\"\n",
      "[1] \"Found files with specific pattern: \"\n",
      "character(0)\n",
      "\n",
      "#!/bin/bash\n",
      "#SBATCH --nodes=1\n",
      "#SBATCH --ntasks-per-node=1\n",
      "#SBATCH --cpus-per-task=1\n",
      "#SBATCH --mem-per-cpu=2G\n",
      "#SBATCH --output=slurm_output_libd_chr1-chr1_all-1468982-1488981-dynamic-1corestotal-allcorepera-20240419-130735.out\n",
      "#SBATCH --job-name=libd_chr1-chr1_all-1468982-1488981-dynamic-1corestotal-allcorepera-20240419-130735\n",
      "#SBATCH --time=48:00:00\n",
      "module load conda\n",
      "conda activate mwas\n",
      "echo 'Executing Rscript with arguments: Rscript scripts/CLI.R --outdir=./output_chr1_a2_caud/ --snp_data_path=/dcs04/lieber/statsgen/shizhong/michael/mwas/gwas//libd_chr1.pgen --methylation_data_path=/dcs04/lieber/statsgen/shizhong/michael/mwas/pheno/caud/out/chr1_all.rda --cov=/dcs04/lieber/statsgen/mnagle/mwas/full_covariates/all_caud.csv --verbose=FALSE --lambda_choice=1se --alphas=0.5 --allow_inefficient_parallelization=FALSE --n_fold=5 --window_sizes=10000 --save_evaluation_results_each_fold=FALSE --save_glmnet_object=FALSE --omit_folds_with_na_r=TRUE --methInput_rds_path=/dcs04/lieber/statsgen/mnagle/mwas/pheno/caud/out/chr1_all_1468982-1488981.rds --chunk1=1 --chunk2=20000 --cv_eval_mode=dynamic --num_cores=1 --cores_per_alpha=all --tag=libd_chr1-chr1_all-1468982-1488981-dynamic-1corestotal-allcorepera-20240419-130735'\n",
      "Rscript scripts/CLI.R --outdir=./output_chr1_a2_caud/ --snp_data_path=/dcs04/lieber/statsgen/shizhong/michael/mwas/gwas//libd_chr1.pgen --methylation_data_path=/dcs04/lieber/statsgen/shizhong/michael/mwas/pheno/caud/out/chr1_all.rda --cov=/dcs04/lieber/statsgen/mnagle/mwas/full_covariates/all_caud.csv --verbose=FALSE --lambda_choice=1se --alphas=0.5 --allow_inefficient_parallelization=FALSE --n_fold=5 --window_sizes=10000 --save_evaluation_results_each_fold=FALSE --save_glmnet_object=FALSE --omit_folds_with_na_r=TRUE --methInput_rds_path=/dcs04/lieber/statsgen/mnagle/mwas/pheno/caud/out/chr1_all_1468982-1488981.rds --chunk1=1 --chunk2=20000 --cv_eval_mode=dynamic --num_cores=1 --cores_per_alpha=all --tag=libd_chr1-chr1_all-1468982-1488981-dynamic-1corestotal-allcorepera-20240419-130735\n"
     ]
    },
    {
     "name": "stderr",
     "output_type": "stream",
     "text": [
      "Sleeping for 181 seconds\n",
      "\n"
     ]
    },
    {
     "name": "stdout",
     "output_type": "stream",
     "text": [
      "\n",
      "[1] 185\n",
      "[1] \"Checking for files in:  ./output_chr1_a2_caud/\"\n",
      "[1] \"Using pattern:  libd_chr1-chr1_all-1488982-1508981-dynamic-1corestotal-allcorepera\"\n",
      "[1] \"Found files with specific pattern: \"\n",
      "character(0)\n",
      "\n",
      "#!/bin/bash\n",
      "#SBATCH --nodes=1\n",
      "#SBATCH --ntasks-per-node=1\n",
      "#SBATCH --cpus-per-task=1\n",
      "#SBATCH --mem-per-cpu=2G\n",
      "#SBATCH --output=slurm_output_libd_chr1-chr1_all-1488982-1508981-dynamic-1corestotal-allcorepera-20240419-131036.out\n",
      "#SBATCH --job-name=libd_chr1-chr1_all-1488982-1508981-dynamic-1corestotal-allcorepera-20240419-131036\n",
      "#SBATCH --time=48:00:00\n",
      "module load conda\n",
      "conda activate mwas\n",
      "echo 'Executing Rscript with arguments: Rscript scripts/CLI.R --outdir=./output_chr1_a2_caud/ --snp_data_path=/dcs04/lieber/statsgen/shizhong/michael/mwas/gwas//libd_chr1.pgen --methylation_data_path=/dcs04/lieber/statsgen/shizhong/michael/mwas/pheno/caud/out/chr1_all.rda --cov=/dcs04/lieber/statsgen/mnagle/mwas/full_covariates/all_caud.csv --verbose=FALSE --lambda_choice=1se --alphas=0.5 --allow_inefficient_parallelization=FALSE --n_fold=5 --window_sizes=10000 --save_evaluation_results_each_fold=FALSE --save_glmnet_object=FALSE --omit_folds_with_na_r=TRUE --methInput_rds_path=/dcs04/lieber/statsgen/mnagle/mwas/pheno/caud/out/chr1_all_1488982-1508981.rds --chunk1=1 --chunk2=20000 --cv_eval_mode=dynamic --num_cores=1 --cores_per_alpha=all --tag=libd_chr1-chr1_all-1488982-1508981-dynamic-1corestotal-allcorepera-20240419-131036'\n",
      "Rscript scripts/CLI.R --outdir=./output_chr1_a2_caud/ --snp_data_path=/dcs04/lieber/statsgen/shizhong/michael/mwas/gwas//libd_chr1.pgen --methylation_data_path=/dcs04/lieber/statsgen/shizhong/michael/mwas/pheno/caud/out/chr1_all.rda --cov=/dcs04/lieber/statsgen/mnagle/mwas/full_covariates/all_caud.csv --verbose=FALSE --lambda_choice=1se --alphas=0.5 --allow_inefficient_parallelization=FALSE --n_fold=5 --window_sizes=10000 --save_evaluation_results_each_fold=FALSE --save_glmnet_object=FALSE --omit_folds_with_na_r=TRUE --methInput_rds_path=/dcs04/lieber/statsgen/mnagle/mwas/pheno/caud/out/chr1_all_1488982-1508981.rds --chunk1=1 --chunk2=20000 --cv_eval_mode=dynamic --num_cores=1 --cores_per_alpha=all --tag=libd_chr1-chr1_all-1488982-1508981-dynamic-1corestotal-allcorepera-20240419-131036\n"
     ]
    },
    {
     "name": "stderr",
     "output_type": "stream",
     "text": [
      "Sleeping for 181 seconds\n",
      "\n"
     ]
    },
    {
     "name": "stdout",
     "output_type": "stream",
     "text": [
      "\n",
      "[1] 186\n",
      "[1] \"Checking for files in:  ./output_chr1_a2_caud/\"\n",
      "[1] \"Using pattern:  libd_chr1-chr1_all-1508982-1528981-dynamic-1corestotal-allcorepera\"\n",
      "[1] \"Found files with specific pattern: \"\n",
      "character(0)\n",
      "\n",
      "#!/bin/bash\n",
      "#SBATCH --nodes=1\n",
      "#SBATCH --ntasks-per-node=1\n",
      "#SBATCH --cpus-per-task=1\n",
      "#SBATCH --mem-per-cpu=2G\n",
      "#SBATCH --output=slurm_output_libd_chr1-chr1_all-1508982-1528981-dynamic-1corestotal-allcorepera-20240419-131338.out\n",
      "#SBATCH --job-name=libd_chr1-chr1_all-1508982-1528981-dynamic-1corestotal-allcorepera-20240419-131338\n",
      "#SBATCH --time=48:00:00\n",
      "module load conda\n",
      "conda activate mwas\n",
      "echo 'Executing Rscript with arguments: Rscript scripts/CLI.R --outdir=./output_chr1_a2_caud/ --snp_data_path=/dcs04/lieber/statsgen/shizhong/michael/mwas/gwas//libd_chr1.pgen --methylation_data_path=/dcs04/lieber/statsgen/shizhong/michael/mwas/pheno/caud/out/chr1_all.rda --cov=/dcs04/lieber/statsgen/mnagle/mwas/full_covariates/all_caud.csv --verbose=FALSE --lambda_choice=1se --alphas=0.5 --allow_inefficient_parallelization=FALSE --n_fold=5 --window_sizes=10000 --save_evaluation_results_each_fold=FALSE --save_glmnet_object=FALSE --omit_folds_with_na_r=TRUE --methInput_rds_path=/dcs04/lieber/statsgen/mnagle/mwas/pheno/caud/out/chr1_all_1508982-1528981.rds --chunk1=1 --chunk2=20000 --cv_eval_mode=dynamic --num_cores=1 --cores_per_alpha=all --tag=libd_chr1-chr1_all-1508982-1528981-dynamic-1corestotal-allcorepera-20240419-131338'\n",
      "Rscript scripts/CLI.R --outdir=./output_chr1_a2_caud/ --snp_data_path=/dcs04/lieber/statsgen/shizhong/michael/mwas/gwas//libd_chr1.pgen --methylation_data_path=/dcs04/lieber/statsgen/shizhong/michael/mwas/pheno/caud/out/chr1_all.rda --cov=/dcs04/lieber/statsgen/mnagle/mwas/full_covariates/all_caud.csv --verbose=FALSE --lambda_choice=1se --alphas=0.5 --allow_inefficient_parallelization=FALSE --n_fold=5 --window_sizes=10000 --save_evaluation_results_each_fold=FALSE --save_glmnet_object=FALSE --omit_folds_with_na_r=TRUE --methInput_rds_path=/dcs04/lieber/statsgen/mnagle/mwas/pheno/caud/out/chr1_all_1508982-1528981.rds --chunk1=1 --chunk2=20000 --cv_eval_mode=dynamic --num_cores=1 --cores_per_alpha=all --tag=libd_chr1-chr1_all-1508982-1528981-dynamic-1corestotal-allcorepera-20240419-131338\n"
     ]
    },
    {
     "name": "stderr",
     "output_type": "stream",
     "text": [
      "Sleeping for 181 seconds\n",
      "\n"
     ]
    },
    {
     "name": "stdout",
     "output_type": "stream",
     "text": [
      "\n",
      "[1] 187\n",
      "[1] \"Checking for files in:  ./output_chr1_a2_caud/\"\n",
      "[1] \"Using pattern:  libd_chr1-chr1_all-1528982-1548981-dynamic-1corestotal-allcorepera\"\n",
      "[1] \"Found files with specific pattern: \"\n",
      "character(0)\n",
      "\n",
      "#!/bin/bash\n",
      "#SBATCH --nodes=1\n",
      "#SBATCH --ntasks-per-node=1\n",
      "#SBATCH --cpus-per-task=1\n",
      "#SBATCH --mem-per-cpu=2G\n",
      "#SBATCH --output=slurm_output_libd_chr1-chr1_all-1528982-1548981-dynamic-1corestotal-allcorepera-20240419-131639.out\n",
      "#SBATCH --job-name=libd_chr1-chr1_all-1528982-1548981-dynamic-1corestotal-allcorepera-20240419-131639\n",
      "#SBATCH --time=48:00:00\n",
      "module load conda\n",
      "conda activate mwas\n",
      "echo 'Executing Rscript with arguments: Rscript scripts/CLI.R --outdir=./output_chr1_a2_caud/ --snp_data_path=/dcs04/lieber/statsgen/shizhong/michael/mwas/gwas//libd_chr1.pgen --methylation_data_path=/dcs04/lieber/statsgen/shizhong/michael/mwas/pheno/caud/out/chr1_all.rda --cov=/dcs04/lieber/statsgen/mnagle/mwas/full_covariates/all_caud.csv --verbose=FALSE --lambda_choice=1se --alphas=0.5 --allow_inefficient_parallelization=FALSE --n_fold=5 --window_sizes=10000 --save_evaluation_results_each_fold=FALSE --save_glmnet_object=FALSE --omit_folds_with_na_r=TRUE --methInput_rds_path=/dcs04/lieber/statsgen/mnagle/mwas/pheno/caud/out/chr1_all_1528982-1548981.rds --chunk1=1 --chunk2=20000 --cv_eval_mode=dynamic --num_cores=1 --cores_per_alpha=all --tag=libd_chr1-chr1_all-1528982-1548981-dynamic-1corestotal-allcorepera-20240419-131639'\n",
      "Rscript scripts/CLI.R --outdir=./output_chr1_a2_caud/ --snp_data_path=/dcs04/lieber/statsgen/shizhong/michael/mwas/gwas//libd_chr1.pgen --methylation_data_path=/dcs04/lieber/statsgen/shizhong/michael/mwas/pheno/caud/out/chr1_all.rda --cov=/dcs04/lieber/statsgen/mnagle/mwas/full_covariates/all_caud.csv --verbose=FALSE --lambda_choice=1se --alphas=0.5 --allow_inefficient_parallelization=FALSE --n_fold=5 --window_sizes=10000 --save_evaluation_results_each_fold=FALSE --save_glmnet_object=FALSE --omit_folds_with_na_r=TRUE --methInput_rds_path=/dcs04/lieber/statsgen/mnagle/mwas/pheno/caud/out/chr1_all_1528982-1548981.rds --chunk1=1 --chunk2=20000 --cv_eval_mode=dynamic --num_cores=1 --cores_per_alpha=all --tag=libd_chr1-chr1_all-1528982-1548981-dynamic-1corestotal-allcorepera-20240419-131639\n"
     ]
    },
    {
     "name": "stderr",
     "output_type": "stream",
     "text": [
      "Sleeping for 181 seconds\n",
      "\n"
     ]
    },
    {
     "name": "stdout",
     "output_type": "stream",
     "text": [
      "\n",
      "[1] 188\n",
      "[1] \"Checking for files in:  ./output_chr1_a2_caud/\"\n",
      "[1] \"Using pattern:  libd_chr1-chr1_all-1548982-1568981-dynamic-1corestotal-allcorepera\"\n",
      "[1] \"Found files with specific pattern: \"\n",
      "character(0)\n",
      "\n",
      "#!/bin/bash\n",
      "#SBATCH --nodes=1\n",
      "#SBATCH --ntasks-per-node=1\n",
      "#SBATCH --cpus-per-task=1\n",
      "#SBATCH --mem-per-cpu=2G\n",
      "#SBATCH --output=slurm_output_libd_chr1-chr1_all-1548982-1568981-dynamic-1corestotal-allcorepera-20240419-131940.out\n",
      "#SBATCH --job-name=libd_chr1-chr1_all-1548982-1568981-dynamic-1corestotal-allcorepera-20240419-131940\n",
      "#SBATCH --time=48:00:00\n",
      "module load conda\n",
      "conda activate mwas\n",
      "echo 'Executing Rscript with arguments: Rscript scripts/CLI.R --outdir=./output_chr1_a2_caud/ --snp_data_path=/dcs04/lieber/statsgen/shizhong/michael/mwas/gwas//libd_chr1.pgen --methylation_data_path=/dcs04/lieber/statsgen/shizhong/michael/mwas/pheno/caud/out/chr1_all.rda --cov=/dcs04/lieber/statsgen/mnagle/mwas/full_covariates/all_caud.csv --verbose=FALSE --lambda_choice=1se --alphas=0.5 --allow_inefficient_parallelization=FALSE --n_fold=5 --window_sizes=10000 --save_evaluation_results_each_fold=FALSE --save_glmnet_object=FALSE --omit_folds_with_na_r=TRUE --methInput_rds_path=/dcs04/lieber/statsgen/mnagle/mwas/pheno/caud/out/chr1_all_1548982-1568981.rds --chunk1=1 --chunk2=20000 --cv_eval_mode=dynamic --num_cores=1 --cores_per_alpha=all --tag=libd_chr1-chr1_all-1548982-1568981-dynamic-1corestotal-allcorepera-20240419-131940'\n",
      "Rscript scripts/CLI.R --outdir=./output_chr1_a2_caud/ --snp_data_path=/dcs04/lieber/statsgen/shizhong/michael/mwas/gwas//libd_chr1.pgen --methylation_data_path=/dcs04/lieber/statsgen/shizhong/michael/mwas/pheno/caud/out/chr1_all.rda --cov=/dcs04/lieber/statsgen/mnagle/mwas/full_covariates/all_caud.csv --verbose=FALSE --lambda_choice=1se --alphas=0.5 --allow_inefficient_parallelization=FALSE --n_fold=5 --window_sizes=10000 --save_evaluation_results_each_fold=FALSE --save_glmnet_object=FALSE --omit_folds_with_na_r=TRUE --methInput_rds_path=/dcs04/lieber/statsgen/mnagle/mwas/pheno/caud/out/chr1_all_1548982-1568981.rds --chunk1=1 --chunk2=20000 --cv_eval_mode=dynamic --num_cores=1 --cores_per_alpha=all --tag=libd_chr1-chr1_all-1548982-1568981-dynamic-1corestotal-allcorepera-20240419-131940\n"
     ]
    },
    {
     "name": "stderr",
     "output_type": "stream",
     "text": [
      "Sleeping for 181 seconds\n",
      "\n"
     ]
    },
    {
     "name": "stdout",
     "output_type": "stream",
     "text": [
      "\n",
      "[1] 189\n",
      "[1] \"Checking for files in:  ./output_chr1_a2_caud/\"\n",
      "[1] \"Using pattern:  libd_chr1-chr1_all-1568982-1588981-dynamic-1corestotal-allcorepera\"\n",
      "[1] \"Found files with specific pattern: \"\n",
      "character(0)\n",
      "\n",
      "#!/bin/bash\n",
      "#SBATCH --nodes=1\n",
      "#SBATCH --ntasks-per-node=1\n",
      "#SBATCH --cpus-per-task=1\n",
      "#SBATCH --mem-per-cpu=2G\n",
      "#SBATCH --output=slurm_output_libd_chr1-chr1_all-1568982-1588981-dynamic-1corestotal-allcorepera-20240419-132241.out\n",
      "#SBATCH --job-name=libd_chr1-chr1_all-1568982-1588981-dynamic-1corestotal-allcorepera-20240419-132241\n",
      "#SBATCH --time=48:00:00\n",
      "module load conda\n",
      "conda activate mwas\n",
      "echo 'Executing Rscript with arguments: Rscript scripts/CLI.R --outdir=./output_chr1_a2_caud/ --snp_data_path=/dcs04/lieber/statsgen/shizhong/michael/mwas/gwas//libd_chr1.pgen --methylation_data_path=/dcs04/lieber/statsgen/shizhong/michael/mwas/pheno/caud/out/chr1_all.rda --cov=/dcs04/lieber/statsgen/mnagle/mwas/full_covariates/all_caud.csv --verbose=FALSE --lambda_choice=1se --alphas=0.5 --allow_inefficient_parallelization=FALSE --n_fold=5 --window_sizes=10000 --save_evaluation_results_each_fold=FALSE --save_glmnet_object=FALSE --omit_folds_with_na_r=TRUE --methInput_rds_path=/dcs04/lieber/statsgen/mnagle/mwas/pheno/caud/out/chr1_all_1568982-1588981.rds --chunk1=1 --chunk2=20000 --cv_eval_mode=dynamic --num_cores=1 --cores_per_alpha=all --tag=libd_chr1-chr1_all-1568982-1588981-dynamic-1corestotal-allcorepera-20240419-132241'\n",
      "Rscript scripts/CLI.R --outdir=./output_chr1_a2_caud/ --snp_data_path=/dcs04/lieber/statsgen/shizhong/michael/mwas/gwas//libd_chr1.pgen --methylation_data_path=/dcs04/lieber/statsgen/shizhong/michael/mwas/pheno/caud/out/chr1_all.rda --cov=/dcs04/lieber/statsgen/mnagle/mwas/full_covariates/all_caud.csv --verbose=FALSE --lambda_choice=1se --alphas=0.5 --allow_inefficient_parallelization=FALSE --n_fold=5 --window_sizes=10000 --save_evaluation_results_each_fold=FALSE --save_glmnet_object=FALSE --omit_folds_with_na_r=TRUE --methInput_rds_path=/dcs04/lieber/statsgen/mnagle/mwas/pheno/caud/out/chr1_all_1568982-1588981.rds --chunk1=1 --chunk2=20000 --cv_eval_mode=dynamic --num_cores=1 --cores_per_alpha=all --tag=libd_chr1-chr1_all-1568982-1588981-dynamic-1corestotal-allcorepera-20240419-132241\n"
     ]
    },
    {
     "name": "stderr",
     "output_type": "stream",
     "text": [
      "Sleeping for 181 seconds\n",
      "\n"
     ]
    },
    {
     "name": "stdout",
     "output_type": "stream",
     "text": [
      "\n",
      "[1] 190\n",
      "[1] \"Checking for files in:  ./output_chr1_a2_caud/\"\n",
      "[1] \"Using pattern:  libd_chr1-chr1_all-1588982-1608981-dynamic-1corestotal-allcorepera\"\n",
      "[1] \"Found files with specific pattern: \"\n",
      "character(0)\n",
      "\n",
      "#!/bin/bash\n",
      "#SBATCH --nodes=1\n",
      "#SBATCH --ntasks-per-node=1\n",
      "#SBATCH --cpus-per-task=1\n",
      "#SBATCH --mem-per-cpu=2G\n",
      "#SBATCH --output=slurm_output_libd_chr1-chr1_all-1588982-1608981-dynamic-1corestotal-allcorepera-20240419-132542.out\n",
      "#SBATCH --job-name=libd_chr1-chr1_all-1588982-1608981-dynamic-1corestotal-allcorepera-20240419-132542\n",
      "#SBATCH --time=48:00:00\n",
      "module load conda\n",
      "conda activate mwas\n",
      "echo 'Executing Rscript with arguments: Rscript scripts/CLI.R --outdir=./output_chr1_a2_caud/ --snp_data_path=/dcs04/lieber/statsgen/shizhong/michael/mwas/gwas//libd_chr1.pgen --methylation_data_path=/dcs04/lieber/statsgen/shizhong/michael/mwas/pheno/caud/out/chr1_all.rda --cov=/dcs04/lieber/statsgen/mnagle/mwas/full_covariates/all_caud.csv --verbose=FALSE --lambda_choice=1se --alphas=0.5 --allow_inefficient_parallelization=FALSE --n_fold=5 --window_sizes=10000 --save_evaluation_results_each_fold=FALSE --save_glmnet_object=FALSE --omit_folds_with_na_r=TRUE --methInput_rds_path=/dcs04/lieber/statsgen/mnagle/mwas/pheno/caud/out/chr1_all_1588982-1608981.rds --chunk1=1 --chunk2=20000 --cv_eval_mode=dynamic --num_cores=1 --cores_per_alpha=all --tag=libd_chr1-chr1_all-1588982-1608981-dynamic-1corestotal-allcorepera-20240419-132542'\n",
      "Rscript scripts/CLI.R --outdir=./output_chr1_a2_caud/ --snp_data_path=/dcs04/lieber/statsgen/shizhong/michael/mwas/gwas//libd_chr1.pgen --methylation_data_path=/dcs04/lieber/statsgen/shizhong/michael/mwas/pheno/caud/out/chr1_all.rda --cov=/dcs04/lieber/statsgen/mnagle/mwas/full_covariates/all_caud.csv --verbose=FALSE --lambda_choice=1se --alphas=0.5 --allow_inefficient_parallelization=FALSE --n_fold=5 --window_sizes=10000 --save_evaluation_results_each_fold=FALSE --save_glmnet_object=FALSE --omit_folds_with_na_r=TRUE --methInput_rds_path=/dcs04/lieber/statsgen/mnagle/mwas/pheno/caud/out/chr1_all_1588982-1608981.rds --chunk1=1 --chunk2=20000 --cv_eval_mode=dynamic --num_cores=1 --cores_per_alpha=all --tag=libd_chr1-chr1_all-1588982-1608981-dynamic-1corestotal-allcorepera-20240419-132542\n"
     ]
    },
    {
     "name": "stderr",
     "output_type": "stream",
     "text": [
      "Sleeping for 181 seconds\n",
      "\n"
     ]
    },
    {
     "name": "stdout",
     "output_type": "stream",
     "text": [
      "\n",
      "[1] 191\n",
      "[1] \"Checking for files in:  ./output_chr1_a2_caud/\"\n",
      "[1] \"Using pattern:  libd_chr1-chr1_all-1608982-1628981-dynamic-1corestotal-allcorepera\"\n",
      "[1] \"Found files with specific pattern: \"\n",
      "character(0)\n",
      "\n",
      "#!/bin/bash\n",
      "#SBATCH --nodes=1\n",
      "#SBATCH --ntasks-per-node=1\n",
      "#SBATCH --cpus-per-task=1\n",
      "#SBATCH --mem-per-cpu=2G\n",
      "#SBATCH --output=slurm_output_libd_chr1-chr1_all-1608982-1628981-dynamic-1corestotal-allcorepera-20240419-132843.out\n",
      "#SBATCH --job-name=libd_chr1-chr1_all-1608982-1628981-dynamic-1corestotal-allcorepera-20240419-132843\n",
      "#SBATCH --time=48:00:00\n",
      "module load conda\n",
      "conda activate mwas\n",
      "echo 'Executing Rscript with arguments: Rscript scripts/CLI.R --outdir=./output_chr1_a2_caud/ --snp_data_path=/dcs04/lieber/statsgen/shizhong/michael/mwas/gwas//libd_chr1.pgen --methylation_data_path=/dcs04/lieber/statsgen/shizhong/michael/mwas/pheno/caud/out/chr1_all.rda --cov=/dcs04/lieber/statsgen/mnagle/mwas/full_covariates/all_caud.csv --verbose=FALSE --lambda_choice=1se --alphas=0.5 --allow_inefficient_parallelization=FALSE --n_fold=5 --window_sizes=10000 --save_evaluation_results_each_fold=FALSE --save_glmnet_object=FALSE --omit_folds_with_na_r=TRUE --methInput_rds_path=/dcs04/lieber/statsgen/mnagle/mwas/pheno/caud/out/chr1_all_1608982-1628981.rds --chunk1=1 --chunk2=20000 --cv_eval_mode=dynamic --num_cores=1 --cores_per_alpha=all --tag=libd_chr1-chr1_all-1608982-1628981-dynamic-1corestotal-allcorepera-20240419-132843'\n",
      "Rscript scripts/CLI.R --outdir=./output_chr1_a2_caud/ --snp_data_path=/dcs04/lieber/statsgen/shizhong/michael/mwas/gwas//libd_chr1.pgen --methylation_data_path=/dcs04/lieber/statsgen/shizhong/michael/mwas/pheno/caud/out/chr1_all.rda --cov=/dcs04/lieber/statsgen/mnagle/mwas/full_covariates/all_caud.csv --verbose=FALSE --lambda_choice=1se --alphas=0.5 --allow_inefficient_parallelization=FALSE --n_fold=5 --window_sizes=10000 --save_evaluation_results_each_fold=FALSE --save_glmnet_object=FALSE --omit_folds_with_na_r=TRUE --methInput_rds_path=/dcs04/lieber/statsgen/mnagle/mwas/pheno/caud/out/chr1_all_1608982-1628981.rds --chunk1=1 --chunk2=20000 --cv_eval_mode=dynamic --num_cores=1 --cores_per_alpha=all --tag=libd_chr1-chr1_all-1608982-1628981-dynamic-1corestotal-allcorepera-20240419-132843\n"
     ]
    },
    {
     "name": "stderr",
     "output_type": "stream",
     "text": [
      "Sleeping for 181 seconds\n",
      "\n"
     ]
    },
    {
     "name": "stdout",
     "output_type": "stream",
     "text": [
      "\n",
      "[1] 192\n",
      "[1] \"Checking for files in:  ./output_chr1_a2_caud/\"\n",
      "[1] \"Using pattern:  libd_chr1-chr1_all-1628982-1648981-dynamic-1corestotal-allcorepera\"\n",
      "[1] \"Found files with specific pattern: \"\n",
      "character(0)\n",
      "\n",
      "#!/bin/bash\n",
      "#SBATCH --nodes=1\n",
      "#SBATCH --ntasks-per-node=1\n",
      "#SBATCH --cpus-per-task=1\n",
      "#SBATCH --mem-per-cpu=2G\n",
      "#SBATCH --output=slurm_output_libd_chr1-chr1_all-1628982-1648981-dynamic-1corestotal-allcorepera-20240419-133144.out\n",
      "#SBATCH --job-name=libd_chr1-chr1_all-1628982-1648981-dynamic-1corestotal-allcorepera-20240419-133144\n",
      "#SBATCH --time=48:00:00\n",
      "module load conda\n",
      "conda activate mwas\n",
      "echo 'Executing Rscript with arguments: Rscript scripts/CLI.R --outdir=./output_chr1_a2_caud/ --snp_data_path=/dcs04/lieber/statsgen/shizhong/michael/mwas/gwas//libd_chr1.pgen --methylation_data_path=/dcs04/lieber/statsgen/shizhong/michael/mwas/pheno/caud/out/chr1_all.rda --cov=/dcs04/lieber/statsgen/mnagle/mwas/full_covariates/all_caud.csv --verbose=FALSE --lambda_choice=1se --alphas=0.5 --allow_inefficient_parallelization=FALSE --n_fold=5 --window_sizes=10000 --save_evaluation_results_each_fold=FALSE --save_glmnet_object=FALSE --omit_folds_with_na_r=TRUE --methInput_rds_path=/dcs04/lieber/statsgen/mnagle/mwas/pheno/caud/out/chr1_all_1628982-1648981.rds --chunk1=1 --chunk2=20000 --cv_eval_mode=dynamic --num_cores=1 --cores_per_alpha=all --tag=libd_chr1-chr1_all-1628982-1648981-dynamic-1corestotal-allcorepera-20240419-133144'\n",
      "Rscript scripts/CLI.R --outdir=./output_chr1_a2_caud/ --snp_data_path=/dcs04/lieber/statsgen/shizhong/michael/mwas/gwas//libd_chr1.pgen --methylation_data_path=/dcs04/lieber/statsgen/shizhong/michael/mwas/pheno/caud/out/chr1_all.rda --cov=/dcs04/lieber/statsgen/mnagle/mwas/full_covariates/all_caud.csv --verbose=FALSE --lambda_choice=1se --alphas=0.5 --allow_inefficient_parallelization=FALSE --n_fold=5 --window_sizes=10000 --save_evaluation_results_each_fold=FALSE --save_glmnet_object=FALSE --omit_folds_with_na_r=TRUE --methInput_rds_path=/dcs04/lieber/statsgen/mnagle/mwas/pheno/caud/out/chr1_all_1628982-1648981.rds --chunk1=1 --chunk2=20000 --cv_eval_mode=dynamic --num_cores=1 --cores_per_alpha=all --tag=libd_chr1-chr1_all-1628982-1648981-dynamic-1corestotal-allcorepera-20240419-133144\n"
     ]
    },
    {
     "name": "stderr",
     "output_type": "stream",
     "text": [
      "Sleeping for 181 seconds\n",
      "\n"
     ]
    },
    {
     "name": "stdout",
     "output_type": "stream",
     "text": [
      "\n",
      "[1] 193\n",
      "[1] \"Checking for files in:  ./output_chr1_a2_caud/\"\n",
      "[1] \"Using pattern:  libd_chr1-chr1_all-1648982-1668981-dynamic-1corestotal-allcorepera\"\n",
      "[1] \"Found files with specific pattern: \"\n",
      "character(0)\n",
      "\n",
      "#!/bin/bash\n",
      "#SBATCH --nodes=1\n",
      "#SBATCH --ntasks-per-node=1\n",
      "#SBATCH --cpus-per-task=1\n",
      "#SBATCH --mem-per-cpu=2G\n",
      "#SBATCH --output=slurm_output_libd_chr1-chr1_all-1648982-1668981-dynamic-1corestotal-allcorepera-20240419-133446.out\n",
      "#SBATCH --job-name=libd_chr1-chr1_all-1648982-1668981-dynamic-1corestotal-allcorepera-20240419-133446\n",
      "#SBATCH --time=48:00:00\n",
      "module load conda\n",
      "conda activate mwas\n",
      "echo 'Executing Rscript with arguments: Rscript scripts/CLI.R --outdir=./output_chr1_a2_caud/ --snp_data_path=/dcs04/lieber/statsgen/shizhong/michael/mwas/gwas//libd_chr1.pgen --methylation_data_path=/dcs04/lieber/statsgen/shizhong/michael/mwas/pheno/caud/out/chr1_all.rda --cov=/dcs04/lieber/statsgen/mnagle/mwas/full_covariates/all_caud.csv --verbose=FALSE --lambda_choice=1se --alphas=0.5 --allow_inefficient_parallelization=FALSE --n_fold=5 --window_sizes=10000 --save_evaluation_results_each_fold=FALSE --save_glmnet_object=FALSE --omit_folds_with_na_r=TRUE --methInput_rds_path=/dcs04/lieber/statsgen/mnagle/mwas/pheno/caud/out/chr1_all_1648982-1668981.rds --chunk1=1 --chunk2=20000 --cv_eval_mode=dynamic --num_cores=1 --cores_per_alpha=all --tag=libd_chr1-chr1_all-1648982-1668981-dynamic-1corestotal-allcorepera-20240419-133446'\n",
      "Rscript scripts/CLI.R --outdir=./output_chr1_a2_caud/ --snp_data_path=/dcs04/lieber/statsgen/shizhong/michael/mwas/gwas//libd_chr1.pgen --methylation_data_path=/dcs04/lieber/statsgen/shizhong/michael/mwas/pheno/caud/out/chr1_all.rda --cov=/dcs04/lieber/statsgen/mnagle/mwas/full_covariates/all_caud.csv --verbose=FALSE --lambda_choice=1se --alphas=0.5 --allow_inefficient_parallelization=FALSE --n_fold=5 --window_sizes=10000 --save_evaluation_results_each_fold=FALSE --save_glmnet_object=FALSE --omit_folds_with_na_r=TRUE --methInput_rds_path=/dcs04/lieber/statsgen/mnagle/mwas/pheno/caud/out/chr1_all_1648982-1668981.rds --chunk1=1 --chunk2=20000 --cv_eval_mode=dynamic --num_cores=1 --cores_per_alpha=all --tag=libd_chr1-chr1_all-1648982-1668981-dynamic-1corestotal-allcorepera-20240419-133446\n"
     ]
    },
    {
     "name": "stderr",
     "output_type": "stream",
     "text": [
      "Sleeping for 181 seconds\n",
      "\n"
     ]
    },
    {
     "name": "stdout",
     "output_type": "stream",
     "text": [
      "\n",
      "[1] 194\n",
      "[1] \"Checking for files in:  ./output_chr1_a2_caud/\"\n",
      "[1] \"Using pattern:  libd_chr1-chr1_all-1668982-1688981-dynamic-1corestotal-allcorepera\"\n",
      "[1] \"Found files with specific pattern: \"\n",
      "character(0)\n",
      "\n",
      "#!/bin/bash\n",
      "#SBATCH --nodes=1\n",
      "#SBATCH --ntasks-per-node=1\n",
      "#SBATCH --cpus-per-task=1\n",
      "#SBATCH --mem-per-cpu=2G\n",
      "#SBATCH --output=slurm_output_libd_chr1-chr1_all-1668982-1688981-dynamic-1corestotal-allcorepera-20240419-133747.out\n",
      "#SBATCH --job-name=libd_chr1-chr1_all-1668982-1688981-dynamic-1corestotal-allcorepera-20240419-133747\n",
      "#SBATCH --time=48:00:00\n",
      "module load conda\n",
      "conda activate mwas\n",
      "echo 'Executing Rscript with arguments: Rscript scripts/CLI.R --outdir=./output_chr1_a2_caud/ --snp_data_path=/dcs04/lieber/statsgen/shizhong/michael/mwas/gwas//libd_chr1.pgen --methylation_data_path=/dcs04/lieber/statsgen/shizhong/michael/mwas/pheno/caud/out/chr1_all.rda --cov=/dcs04/lieber/statsgen/mnagle/mwas/full_covariates/all_caud.csv --verbose=FALSE --lambda_choice=1se --alphas=0.5 --allow_inefficient_parallelization=FALSE --n_fold=5 --window_sizes=10000 --save_evaluation_results_each_fold=FALSE --save_glmnet_object=FALSE --omit_folds_with_na_r=TRUE --methInput_rds_path=/dcs04/lieber/statsgen/mnagle/mwas/pheno/caud/out/chr1_all_1668982-1688981.rds --chunk1=1 --chunk2=20000 --cv_eval_mode=dynamic --num_cores=1 --cores_per_alpha=all --tag=libd_chr1-chr1_all-1668982-1688981-dynamic-1corestotal-allcorepera-20240419-133747'\n",
      "Rscript scripts/CLI.R --outdir=./output_chr1_a2_caud/ --snp_data_path=/dcs04/lieber/statsgen/shizhong/michael/mwas/gwas//libd_chr1.pgen --methylation_data_path=/dcs04/lieber/statsgen/shizhong/michael/mwas/pheno/caud/out/chr1_all.rda --cov=/dcs04/lieber/statsgen/mnagle/mwas/full_covariates/all_caud.csv --verbose=FALSE --lambda_choice=1se --alphas=0.5 --allow_inefficient_parallelization=FALSE --n_fold=5 --window_sizes=10000 --save_evaluation_results_each_fold=FALSE --save_glmnet_object=FALSE --omit_folds_with_na_r=TRUE --methInput_rds_path=/dcs04/lieber/statsgen/mnagle/mwas/pheno/caud/out/chr1_all_1668982-1688981.rds --chunk1=1 --chunk2=20000 --cv_eval_mode=dynamic --num_cores=1 --cores_per_alpha=all --tag=libd_chr1-chr1_all-1668982-1688981-dynamic-1corestotal-allcorepera-20240419-133747\n"
     ]
    },
    {
     "name": "stderr",
     "output_type": "stream",
     "text": [
      "Sleeping for 181 seconds\n",
      "\n"
     ]
    },
    {
     "name": "stdout",
     "output_type": "stream",
     "text": [
      "\n",
      "[1] 195\n",
      "[1] \"Checking for files in:  ./output_chr1_a2_caud/\"\n",
      "[1] \"Using pattern:  libd_chr1-chr1_all-1688982-1708981-dynamic-1corestotal-allcorepera\"\n",
      "[1] \"Found files with specific pattern: \"\n",
      "character(0)\n",
      "\n",
      "#!/bin/bash\n",
      "#SBATCH --nodes=1\n",
      "#SBATCH --ntasks-per-node=1\n",
      "#SBATCH --cpus-per-task=1\n",
      "#SBATCH --mem-per-cpu=2G\n",
      "#SBATCH --output=slurm_output_libd_chr1-chr1_all-1688982-1708981-dynamic-1corestotal-allcorepera-20240419-134048.out\n",
      "#SBATCH --job-name=libd_chr1-chr1_all-1688982-1708981-dynamic-1corestotal-allcorepera-20240419-134048\n",
      "#SBATCH --time=48:00:00\n",
      "module load conda\n",
      "conda activate mwas\n",
      "echo 'Executing Rscript with arguments: Rscript scripts/CLI.R --outdir=./output_chr1_a2_caud/ --snp_data_path=/dcs04/lieber/statsgen/shizhong/michael/mwas/gwas//libd_chr1.pgen --methylation_data_path=/dcs04/lieber/statsgen/shizhong/michael/mwas/pheno/caud/out/chr1_all.rda --cov=/dcs04/lieber/statsgen/mnagle/mwas/full_covariates/all_caud.csv --verbose=FALSE --lambda_choice=1se --alphas=0.5 --allow_inefficient_parallelization=FALSE --n_fold=5 --window_sizes=10000 --save_evaluation_results_each_fold=FALSE --save_glmnet_object=FALSE --omit_folds_with_na_r=TRUE --methInput_rds_path=/dcs04/lieber/statsgen/mnagle/mwas/pheno/caud/out/chr1_all_1688982-1708981.rds --chunk1=1 --chunk2=20000 --cv_eval_mode=dynamic --num_cores=1 --cores_per_alpha=all --tag=libd_chr1-chr1_all-1688982-1708981-dynamic-1corestotal-allcorepera-20240419-134048'\n",
      "Rscript scripts/CLI.R --outdir=./output_chr1_a2_caud/ --snp_data_path=/dcs04/lieber/statsgen/shizhong/michael/mwas/gwas//libd_chr1.pgen --methylation_data_path=/dcs04/lieber/statsgen/shizhong/michael/mwas/pheno/caud/out/chr1_all.rda --cov=/dcs04/lieber/statsgen/mnagle/mwas/full_covariates/all_caud.csv --verbose=FALSE --lambda_choice=1se --alphas=0.5 --allow_inefficient_parallelization=FALSE --n_fold=5 --window_sizes=10000 --save_evaluation_results_each_fold=FALSE --save_glmnet_object=FALSE --omit_folds_with_na_r=TRUE --methInput_rds_path=/dcs04/lieber/statsgen/mnagle/mwas/pheno/caud/out/chr1_all_1688982-1708981.rds --chunk1=1 --chunk2=20000 --cv_eval_mode=dynamic --num_cores=1 --cores_per_alpha=all --tag=libd_chr1-chr1_all-1688982-1708981-dynamic-1corestotal-allcorepera-20240419-134048\n"
     ]
    },
    {
     "name": "stderr",
     "output_type": "stream",
     "text": [
      "Sleeping for 181 seconds\n",
      "\n"
     ]
    },
    {
     "name": "stdout",
     "output_type": "stream",
     "text": [
      "\n",
      "[1] 196\n",
      "[1] \"Checking for files in:  ./output_chr1_a2_caud/\"\n",
      "[1] \"Using pattern:  libd_chr1-chr1_all-1708982-1728981-dynamic-1corestotal-allcorepera\"\n",
      "[1] \"Found files with specific pattern: \"\n",
      "character(0)\n",
      "\n",
      "#!/bin/bash\n",
      "#SBATCH --nodes=1\n",
      "#SBATCH --ntasks-per-node=1\n",
      "#SBATCH --cpus-per-task=1\n",
      "#SBATCH --mem-per-cpu=2G\n",
      "#SBATCH --output=slurm_output_libd_chr1-chr1_all-1708982-1728981-dynamic-1corestotal-allcorepera-20240419-134350.out\n",
      "#SBATCH --job-name=libd_chr1-chr1_all-1708982-1728981-dynamic-1corestotal-allcorepera-20240419-134350\n",
      "#SBATCH --time=48:00:00\n",
      "module load conda\n",
      "conda activate mwas\n",
      "echo 'Executing Rscript with arguments: Rscript scripts/CLI.R --outdir=./output_chr1_a2_caud/ --snp_data_path=/dcs04/lieber/statsgen/shizhong/michael/mwas/gwas//libd_chr1.pgen --methylation_data_path=/dcs04/lieber/statsgen/shizhong/michael/mwas/pheno/caud/out/chr1_all.rda --cov=/dcs04/lieber/statsgen/mnagle/mwas/full_covariates/all_caud.csv --verbose=FALSE --lambda_choice=1se --alphas=0.5 --allow_inefficient_parallelization=FALSE --n_fold=5 --window_sizes=10000 --save_evaluation_results_each_fold=FALSE --save_glmnet_object=FALSE --omit_folds_with_na_r=TRUE --methInput_rds_path=/dcs04/lieber/statsgen/mnagle/mwas/pheno/caud/out/chr1_all_1708982-1728981.rds --chunk1=1 --chunk2=20000 --cv_eval_mode=dynamic --num_cores=1 --cores_per_alpha=all --tag=libd_chr1-chr1_all-1708982-1728981-dynamic-1corestotal-allcorepera-20240419-134350'\n",
      "Rscript scripts/CLI.R --outdir=./output_chr1_a2_caud/ --snp_data_path=/dcs04/lieber/statsgen/shizhong/michael/mwas/gwas//libd_chr1.pgen --methylation_data_path=/dcs04/lieber/statsgen/shizhong/michael/mwas/pheno/caud/out/chr1_all.rda --cov=/dcs04/lieber/statsgen/mnagle/mwas/full_covariates/all_caud.csv --verbose=FALSE --lambda_choice=1se --alphas=0.5 --allow_inefficient_parallelization=FALSE --n_fold=5 --window_sizes=10000 --save_evaluation_results_each_fold=FALSE --save_glmnet_object=FALSE --omit_folds_with_na_r=TRUE --methInput_rds_path=/dcs04/lieber/statsgen/mnagle/mwas/pheno/caud/out/chr1_all_1708982-1728981.rds --chunk1=1 --chunk2=20000 --cv_eval_mode=dynamic --num_cores=1 --cores_per_alpha=all --tag=libd_chr1-chr1_all-1708982-1728981-dynamic-1corestotal-allcorepera-20240419-134350\n"
     ]
    },
    {
     "name": "stderr",
     "output_type": "stream",
     "text": [
      "Sleeping for 181 seconds\n",
      "\n"
     ]
    },
    {
     "name": "stdout",
     "output_type": "stream",
     "text": [
      "\n",
      "[1] 197\n",
      "[1] \"Checking for files in:  ./output_chr1_a2_caud/\"\n",
      "[1] \"Using pattern:  libd_chr1-chr1_all-1728982-1748981-dynamic-1corestotal-allcorepera\"\n",
      "[1] \"Found files with specific pattern: \"\n",
      "character(0)\n",
      "\n",
      "#!/bin/bash\n",
      "#SBATCH --nodes=1\n",
      "#SBATCH --ntasks-per-node=1\n",
      "#SBATCH --cpus-per-task=1\n",
      "#SBATCH --mem-per-cpu=2G\n",
      "#SBATCH --output=slurm_output_libd_chr1-chr1_all-1728982-1748981-dynamic-1corestotal-allcorepera-20240419-134651.out\n",
      "#SBATCH --job-name=libd_chr1-chr1_all-1728982-1748981-dynamic-1corestotal-allcorepera-20240419-134651\n",
      "#SBATCH --time=48:00:00\n",
      "module load conda\n",
      "conda activate mwas\n",
      "echo 'Executing Rscript with arguments: Rscript scripts/CLI.R --outdir=./output_chr1_a2_caud/ --snp_data_path=/dcs04/lieber/statsgen/shizhong/michael/mwas/gwas//libd_chr1.pgen --methylation_data_path=/dcs04/lieber/statsgen/shizhong/michael/mwas/pheno/caud/out/chr1_all.rda --cov=/dcs04/lieber/statsgen/mnagle/mwas/full_covariates/all_caud.csv --verbose=FALSE --lambda_choice=1se --alphas=0.5 --allow_inefficient_parallelization=FALSE --n_fold=5 --window_sizes=10000 --save_evaluation_results_each_fold=FALSE --save_glmnet_object=FALSE --omit_folds_with_na_r=TRUE --methInput_rds_path=/dcs04/lieber/statsgen/mnagle/mwas/pheno/caud/out/chr1_all_1728982-1748981.rds --chunk1=1 --chunk2=20000 --cv_eval_mode=dynamic --num_cores=1 --cores_per_alpha=all --tag=libd_chr1-chr1_all-1728982-1748981-dynamic-1corestotal-allcorepera-20240419-134651'\n",
      "Rscript scripts/CLI.R --outdir=./output_chr1_a2_caud/ --snp_data_path=/dcs04/lieber/statsgen/shizhong/michael/mwas/gwas//libd_chr1.pgen --methylation_data_path=/dcs04/lieber/statsgen/shizhong/michael/mwas/pheno/caud/out/chr1_all.rda --cov=/dcs04/lieber/statsgen/mnagle/mwas/full_covariates/all_caud.csv --verbose=FALSE --lambda_choice=1se --alphas=0.5 --allow_inefficient_parallelization=FALSE --n_fold=5 --window_sizes=10000 --save_evaluation_results_each_fold=FALSE --save_glmnet_object=FALSE --omit_folds_with_na_r=TRUE --methInput_rds_path=/dcs04/lieber/statsgen/mnagle/mwas/pheno/caud/out/chr1_all_1728982-1748981.rds --chunk1=1 --chunk2=20000 --cv_eval_mode=dynamic --num_cores=1 --cores_per_alpha=all --tag=libd_chr1-chr1_all-1728982-1748981-dynamic-1corestotal-allcorepera-20240419-134651\n"
     ]
    },
    {
     "name": "stderr",
     "output_type": "stream",
     "text": [
      "Sleeping for 181 seconds\n",
      "\n"
     ]
    },
    {
     "name": "stdout",
     "output_type": "stream",
     "text": [
      "\n",
      "[1] 198\n",
      "[1] \"Checking for files in:  ./output_chr1_a2_caud/\"\n",
      "[1] \"Using pattern:  libd_chr1-chr1_all-1748982-1768981-dynamic-1corestotal-allcorepera\"\n",
      "[1] \"Found files with specific pattern: \"\n",
      "character(0)\n",
      "\n",
      "#!/bin/bash\n",
      "#SBATCH --nodes=1\n",
      "#SBATCH --ntasks-per-node=1\n",
      "#SBATCH --cpus-per-task=1\n",
      "#SBATCH --mem-per-cpu=2G\n",
      "#SBATCH --output=slurm_output_libd_chr1-chr1_all-1748982-1768981-dynamic-1corestotal-allcorepera-20240419-134952.out\n",
      "#SBATCH --job-name=libd_chr1-chr1_all-1748982-1768981-dynamic-1corestotal-allcorepera-20240419-134952\n",
      "#SBATCH --time=48:00:00\n",
      "module load conda\n",
      "conda activate mwas\n",
      "echo 'Executing Rscript with arguments: Rscript scripts/CLI.R --outdir=./output_chr1_a2_caud/ --snp_data_path=/dcs04/lieber/statsgen/shizhong/michael/mwas/gwas//libd_chr1.pgen --methylation_data_path=/dcs04/lieber/statsgen/shizhong/michael/mwas/pheno/caud/out/chr1_all.rda --cov=/dcs04/lieber/statsgen/mnagle/mwas/full_covariates/all_caud.csv --verbose=FALSE --lambda_choice=1se --alphas=0.5 --allow_inefficient_parallelization=FALSE --n_fold=5 --window_sizes=10000 --save_evaluation_results_each_fold=FALSE --save_glmnet_object=FALSE --omit_folds_with_na_r=TRUE --methInput_rds_path=/dcs04/lieber/statsgen/mnagle/mwas/pheno/caud/out/chr1_all_1748982-1768981.rds --chunk1=1 --chunk2=20000 --cv_eval_mode=dynamic --num_cores=1 --cores_per_alpha=all --tag=libd_chr1-chr1_all-1748982-1768981-dynamic-1corestotal-allcorepera-20240419-134952'\n",
      "Rscript scripts/CLI.R --outdir=./output_chr1_a2_caud/ --snp_data_path=/dcs04/lieber/statsgen/shizhong/michael/mwas/gwas//libd_chr1.pgen --methylation_data_path=/dcs04/lieber/statsgen/shizhong/michael/mwas/pheno/caud/out/chr1_all.rda --cov=/dcs04/lieber/statsgen/mnagle/mwas/full_covariates/all_caud.csv --verbose=FALSE --lambda_choice=1se --alphas=0.5 --allow_inefficient_parallelization=FALSE --n_fold=5 --window_sizes=10000 --save_evaluation_results_each_fold=FALSE --save_glmnet_object=FALSE --omit_folds_with_na_r=TRUE --methInput_rds_path=/dcs04/lieber/statsgen/mnagle/mwas/pheno/caud/out/chr1_all_1748982-1768981.rds --chunk1=1 --chunk2=20000 --cv_eval_mode=dynamic --num_cores=1 --cores_per_alpha=all --tag=libd_chr1-chr1_all-1748982-1768981-dynamic-1corestotal-allcorepera-20240419-134952\n"
     ]
    },
    {
     "name": "stderr",
     "output_type": "stream",
     "text": [
      "Sleeping for 181 seconds\n",
      "\n"
     ]
    },
    {
     "name": "stdout",
     "output_type": "stream",
     "text": [
      "\n",
      "[1] 199\n",
      "[1] \"Checking for files in:  ./output_chr1_a2_caud/\"\n",
      "[1] \"Using pattern:  libd_chr1-chr1_all-1768982-1788981-dynamic-1corestotal-allcorepera\"\n",
      "[1] \"Found files with specific pattern: \"\n",
      "character(0)\n",
      "\n",
      "#!/bin/bash\n",
      "#SBATCH --nodes=1\n",
      "#SBATCH --ntasks-per-node=1\n",
      "#SBATCH --cpus-per-task=1\n",
      "#SBATCH --mem-per-cpu=2G\n",
      "#SBATCH --output=slurm_output_libd_chr1-chr1_all-1768982-1788981-dynamic-1corestotal-allcorepera-20240419-135253.out\n",
      "#SBATCH --job-name=libd_chr1-chr1_all-1768982-1788981-dynamic-1corestotal-allcorepera-20240419-135253\n",
      "#SBATCH --time=48:00:00\n",
      "module load conda\n",
      "conda activate mwas\n",
      "echo 'Executing Rscript with arguments: Rscript scripts/CLI.R --outdir=./output_chr1_a2_caud/ --snp_data_path=/dcs04/lieber/statsgen/shizhong/michael/mwas/gwas//libd_chr1.pgen --methylation_data_path=/dcs04/lieber/statsgen/shizhong/michael/mwas/pheno/caud/out/chr1_all.rda --cov=/dcs04/lieber/statsgen/mnagle/mwas/full_covariates/all_caud.csv --verbose=FALSE --lambda_choice=1se --alphas=0.5 --allow_inefficient_parallelization=FALSE --n_fold=5 --window_sizes=10000 --save_evaluation_results_each_fold=FALSE --save_glmnet_object=FALSE --omit_folds_with_na_r=TRUE --methInput_rds_path=/dcs04/lieber/statsgen/mnagle/mwas/pheno/caud/out/chr1_all_1768982-1788981.rds --chunk1=1 --chunk2=20000 --cv_eval_mode=dynamic --num_cores=1 --cores_per_alpha=all --tag=libd_chr1-chr1_all-1768982-1788981-dynamic-1corestotal-allcorepera-20240419-135253'\n",
      "Rscript scripts/CLI.R --outdir=./output_chr1_a2_caud/ --snp_data_path=/dcs04/lieber/statsgen/shizhong/michael/mwas/gwas//libd_chr1.pgen --methylation_data_path=/dcs04/lieber/statsgen/shizhong/michael/mwas/pheno/caud/out/chr1_all.rda --cov=/dcs04/lieber/statsgen/mnagle/mwas/full_covariates/all_caud.csv --verbose=FALSE --lambda_choice=1se --alphas=0.5 --allow_inefficient_parallelization=FALSE --n_fold=5 --window_sizes=10000 --save_evaluation_results_each_fold=FALSE --save_glmnet_object=FALSE --omit_folds_with_na_r=TRUE --methInput_rds_path=/dcs04/lieber/statsgen/mnagle/mwas/pheno/caud/out/chr1_all_1768982-1788981.rds --chunk1=1 --chunk2=20000 --cv_eval_mode=dynamic --num_cores=1 --cores_per_alpha=all --tag=libd_chr1-chr1_all-1768982-1788981-dynamic-1corestotal-allcorepera-20240419-135253\n"
     ]
    },
    {
     "name": "stderr",
     "output_type": "stream",
     "text": [
      "Sleeping for 181 seconds\n",
      "\n"
     ]
    },
    {
     "name": "stdout",
     "output_type": "stream",
     "text": [
      "\n",
      "[1] 200\n",
      "[1] \"Checking for files in:  ./output_chr1_a2_caud/\"\n",
      "[1] \"Using pattern:  libd_chr1-chr1_all-1788982-1808981-dynamic-1corestotal-allcorepera\"\n",
      "[1] \"Found files with specific pattern: \"\n",
      "character(0)\n",
      "\n",
      "#!/bin/bash\n",
      "#SBATCH --nodes=1\n",
      "#SBATCH --ntasks-per-node=1\n",
      "#SBATCH --cpus-per-task=1\n",
      "#SBATCH --mem-per-cpu=2G\n",
      "#SBATCH --output=slurm_output_libd_chr1-chr1_all-1788982-1808981-dynamic-1corestotal-allcorepera-20240419-135554.out\n",
      "#SBATCH --job-name=libd_chr1-chr1_all-1788982-1808981-dynamic-1corestotal-allcorepera-20240419-135554\n",
      "#SBATCH --time=48:00:00\n",
      "module load conda\n",
      "conda activate mwas\n",
      "echo 'Executing Rscript with arguments: Rscript scripts/CLI.R --outdir=./output_chr1_a2_caud/ --snp_data_path=/dcs04/lieber/statsgen/shizhong/michael/mwas/gwas//libd_chr1.pgen --methylation_data_path=/dcs04/lieber/statsgen/shizhong/michael/mwas/pheno/caud/out/chr1_all.rda --cov=/dcs04/lieber/statsgen/mnagle/mwas/full_covariates/all_caud.csv --verbose=FALSE --lambda_choice=1se --alphas=0.5 --allow_inefficient_parallelization=FALSE --n_fold=5 --window_sizes=10000 --save_evaluation_results_each_fold=FALSE --save_glmnet_object=FALSE --omit_folds_with_na_r=TRUE --methInput_rds_path=/dcs04/lieber/statsgen/mnagle/mwas/pheno/caud/out/chr1_all_1788982-1808981.rds --chunk1=1 --chunk2=20000 --cv_eval_mode=dynamic --num_cores=1 --cores_per_alpha=all --tag=libd_chr1-chr1_all-1788982-1808981-dynamic-1corestotal-allcorepera-20240419-135554'\n",
      "Rscript scripts/CLI.R --outdir=./output_chr1_a2_caud/ --snp_data_path=/dcs04/lieber/statsgen/shizhong/michael/mwas/gwas//libd_chr1.pgen --methylation_data_path=/dcs04/lieber/statsgen/shizhong/michael/mwas/pheno/caud/out/chr1_all.rda --cov=/dcs04/lieber/statsgen/mnagle/mwas/full_covariates/all_caud.csv --verbose=FALSE --lambda_choice=1se --alphas=0.5 --allow_inefficient_parallelization=FALSE --n_fold=5 --window_sizes=10000 --save_evaluation_results_each_fold=FALSE --save_glmnet_object=FALSE --omit_folds_with_na_r=TRUE --methInput_rds_path=/dcs04/lieber/statsgen/mnagle/mwas/pheno/caud/out/chr1_all_1788982-1808981.rds --chunk1=1 --chunk2=20000 --cv_eval_mode=dynamic --num_cores=1 --cores_per_alpha=all --tag=libd_chr1-chr1_all-1788982-1808981-dynamic-1corestotal-allcorepera-20240419-135554\n"
     ]
    },
    {
     "name": "stderr",
     "output_type": "stream",
     "text": [
      "Sleeping for 181 seconds\n",
      "\n"
     ]
    },
    {
     "name": "stdout",
     "output_type": "stream",
     "text": [
      "\n",
      "[1] 201\n",
      "[1] \"Checking for files in:  ./output_chr1_a2_caud/\"\n",
      "[1] \"Using pattern:  libd_chr1-chr1_all-1808982-1828981-dynamic-1corestotal-allcorepera\"\n",
      "[1] \"Found files with specific pattern: \"\n",
      "character(0)\n",
      "\n",
      "#!/bin/bash\n",
      "#SBATCH --nodes=1\n",
      "#SBATCH --ntasks-per-node=1\n",
      "#SBATCH --cpus-per-task=1\n",
      "#SBATCH --mem-per-cpu=2G\n",
      "#SBATCH --output=slurm_output_libd_chr1-chr1_all-1808982-1828981-dynamic-1corestotal-allcorepera-20240419-135856.out\n",
      "#SBATCH --job-name=libd_chr1-chr1_all-1808982-1828981-dynamic-1corestotal-allcorepera-20240419-135856\n",
      "#SBATCH --time=48:00:00\n",
      "module load conda\n",
      "conda activate mwas\n",
      "echo 'Executing Rscript with arguments: Rscript scripts/CLI.R --outdir=./output_chr1_a2_caud/ --snp_data_path=/dcs04/lieber/statsgen/shizhong/michael/mwas/gwas//libd_chr1.pgen --methylation_data_path=/dcs04/lieber/statsgen/shizhong/michael/mwas/pheno/caud/out/chr1_all.rda --cov=/dcs04/lieber/statsgen/mnagle/mwas/full_covariates/all_caud.csv --verbose=FALSE --lambda_choice=1se --alphas=0.5 --allow_inefficient_parallelization=FALSE --n_fold=5 --window_sizes=10000 --save_evaluation_results_each_fold=FALSE --save_glmnet_object=FALSE --omit_folds_with_na_r=TRUE --methInput_rds_path=/dcs04/lieber/statsgen/mnagle/mwas/pheno/caud/out/chr1_all_1808982-1828981.rds --chunk1=1 --chunk2=20000 --cv_eval_mode=dynamic --num_cores=1 --cores_per_alpha=all --tag=libd_chr1-chr1_all-1808982-1828981-dynamic-1corestotal-allcorepera-20240419-135856'\n",
      "Rscript scripts/CLI.R --outdir=./output_chr1_a2_caud/ --snp_data_path=/dcs04/lieber/statsgen/shizhong/michael/mwas/gwas//libd_chr1.pgen --methylation_data_path=/dcs04/lieber/statsgen/shizhong/michael/mwas/pheno/caud/out/chr1_all.rda --cov=/dcs04/lieber/statsgen/mnagle/mwas/full_covariates/all_caud.csv --verbose=FALSE --lambda_choice=1se --alphas=0.5 --allow_inefficient_parallelization=FALSE --n_fold=5 --window_sizes=10000 --save_evaluation_results_each_fold=FALSE --save_glmnet_object=FALSE --omit_folds_with_na_r=TRUE --methInput_rds_path=/dcs04/lieber/statsgen/mnagle/mwas/pheno/caud/out/chr1_all_1808982-1828981.rds --chunk1=1 --chunk2=20000 --cv_eval_mode=dynamic --num_cores=1 --cores_per_alpha=all --tag=libd_chr1-chr1_all-1808982-1828981-dynamic-1corestotal-allcorepera-20240419-135856\n"
     ]
    },
    {
     "name": "stderr",
     "output_type": "stream",
     "text": [
      "Sleeping for 181 seconds\n",
      "\n"
     ]
    },
    {
     "name": "stdout",
     "output_type": "stream",
     "text": [
      "\n",
      "[1] 202\n",
      "[1] \"Checking for files in:  ./output_chr1_a2_caud/\"\n",
      "[1] \"Using pattern:  libd_chr1-chr1_all-1828982-1848981-dynamic-1corestotal-allcorepera\"\n",
      "[1] \"Found files with specific pattern: \"\n",
      "character(0)\n",
      "\n",
      "#!/bin/bash\n",
      "#SBATCH --nodes=1\n",
      "#SBATCH --ntasks-per-node=1\n",
      "#SBATCH --cpus-per-task=1\n",
      "#SBATCH --mem-per-cpu=2G\n",
      "#SBATCH --output=slurm_output_libd_chr1-chr1_all-1828982-1848981-dynamic-1corestotal-allcorepera-20240419-140157.out\n",
      "#SBATCH --job-name=libd_chr1-chr1_all-1828982-1848981-dynamic-1corestotal-allcorepera-20240419-140157\n",
      "#SBATCH --time=48:00:00\n",
      "module load conda\n",
      "conda activate mwas\n",
      "echo 'Executing Rscript with arguments: Rscript scripts/CLI.R --outdir=./output_chr1_a2_caud/ --snp_data_path=/dcs04/lieber/statsgen/shizhong/michael/mwas/gwas//libd_chr1.pgen --methylation_data_path=/dcs04/lieber/statsgen/shizhong/michael/mwas/pheno/caud/out/chr1_all.rda --cov=/dcs04/lieber/statsgen/mnagle/mwas/full_covariates/all_caud.csv --verbose=FALSE --lambda_choice=1se --alphas=0.5 --allow_inefficient_parallelization=FALSE --n_fold=5 --window_sizes=10000 --save_evaluation_results_each_fold=FALSE --save_glmnet_object=FALSE --omit_folds_with_na_r=TRUE --methInput_rds_path=/dcs04/lieber/statsgen/mnagle/mwas/pheno/caud/out/chr1_all_1828982-1848981.rds --chunk1=1 --chunk2=20000 --cv_eval_mode=dynamic --num_cores=1 --cores_per_alpha=all --tag=libd_chr1-chr1_all-1828982-1848981-dynamic-1corestotal-allcorepera-20240419-140157'\n",
      "Rscript scripts/CLI.R --outdir=./output_chr1_a2_caud/ --snp_data_path=/dcs04/lieber/statsgen/shizhong/michael/mwas/gwas//libd_chr1.pgen --methylation_data_path=/dcs04/lieber/statsgen/shizhong/michael/mwas/pheno/caud/out/chr1_all.rda --cov=/dcs04/lieber/statsgen/mnagle/mwas/full_covariates/all_caud.csv --verbose=FALSE --lambda_choice=1se --alphas=0.5 --allow_inefficient_parallelization=FALSE --n_fold=5 --window_sizes=10000 --save_evaluation_results_each_fold=FALSE --save_glmnet_object=FALSE --omit_folds_with_na_r=TRUE --methInput_rds_path=/dcs04/lieber/statsgen/mnagle/mwas/pheno/caud/out/chr1_all_1828982-1848981.rds --chunk1=1 --chunk2=20000 --cv_eval_mode=dynamic --num_cores=1 --cores_per_alpha=all --tag=libd_chr1-chr1_all-1828982-1848981-dynamic-1corestotal-allcorepera-20240419-140157\n"
     ]
    },
    {
     "name": "stderr",
     "output_type": "stream",
     "text": [
      "Sleeping for 181 seconds\n",
      "\n"
     ]
    },
    {
     "name": "stdout",
     "output_type": "stream",
     "text": [
      "\n",
      "[1] 203\n",
      "[1] \"Checking for files in:  ./output_chr1_a2_caud/\"\n",
      "[1] \"Using pattern:  libd_chr1-chr1_all-1848982-1868981-dynamic-1corestotal-allcorepera\"\n",
      "[1] \"Found files with specific pattern: \"\n",
      "character(0)\n",
      "\n",
      "#!/bin/bash\n",
      "#SBATCH --nodes=1\n",
      "#SBATCH --ntasks-per-node=1\n",
      "#SBATCH --cpus-per-task=1\n",
      "#SBATCH --mem-per-cpu=2G\n",
      "#SBATCH --output=slurm_output_libd_chr1-chr1_all-1848982-1868981-dynamic-1corestotal-allcorepera-20240419-140458.out\n",
      "#SBATCH --job-name=libd_chr1-chr1_all-1848982-1868981-dynamic-1corestotal-allcorepera-20240419-140458\n",
      "#SBATCH --time=48:00:00\n",
      "module load conda\n",
      "conda activate mwas\n",
      "echo 'Executing Rscript with arguments: Rscript scripts/CLI.R --outdir=./output_chr1_a2_caud/ --snp_data_path=/dcs04/lieber/statsgen/shizhong/michael/mwas/gwas//libd_chr1.pgen --methylation_data_path=/dcs04/lieber/statsgen/shizhong/michael/mwas/pheno/caud/out/chr1_all.rda --cov=/dcs04/lieber/statsgen/mnagle/mwas/full_covariates/all_caud.csv --verbose=FALSE --lambda_choice=1se --alphas=0.5 --allow_inefficient_parallelization=FALSE --n_fold=5 --window_sizes=10000 --save_evaluation_results_each_fold=FALSE --save_glmnet_object=FALSE --omit_folds_with_na_r=TRUE --methInput_rds_path=/dcs04/lieber/statsgen/mnagle/mwas/pheno/caud/out/chr1_all_1848982-1868981.rds --chunk1=1 --chunk2=20000 --cv_eval_mode=dynamic --num_cores=1 --cores_per_alpha=all --tag=libd_chr1-chr1_all-1848982-1868981-dynamic-1corestotal-allcorepera-20240419-140458'\n",
      "Rscript scripts/CLI.R --outdir=./output_chr1_a2_caud/ --snp_data_path=/dcs04/lieber/statsgen/shizhong/michael/mwas/gwas//libd_chr1.pgen --methylation_data_path=/dcs04/lieber/statsgen/shizhong/michael/mwas/pheno/caud/out/chr1_all.rda --cov=/dcs04/lieber/statsgen/mnagle/mwas/full_covariates/all_caud.csv --verbose=FALSE --lambda_choice=1se --alphas=0.5 --allow_inefficient_parallelization=FALSE --n_fold=5 --window_sizes=10000 --save_evaluation_results_each_fold=FALSE --save_glmnet_object=FALSE --omit_folds_with_na_r=TRUE --methInput_rds_path=/dcs04/lieber/statsgen/mnagle/mwas/pheno/caud/out/chr1_all_1848982-1868981.rds --chunk1=1 --chunk2=20000 --cv_eval_mode=dynamic --num_cores=1 --cores_per_alpha=all --tag=libd_chr1-chr1_all-1848982-1868981-dynamic-1corestotal-allcorepera-20240419-140458\n"
     ]
    },
    {
     "name": "stderr",
     "output_type": "stream",
     "text": [
      "Sleeping for 181 seconds\n",
      "\n"
     ]
    },
    {
     "name": "stdout",
     "output_type": "stream",
     "text": [
      "\n",
      "[1] 204\n",
      "[1] \"Checking for files in:  ./output_chr1_a2_caud/\"\n",
      "[1] \"Using pattern:  libd_chr1-chr1_all-1868982-1888981-dynamic-1corestotal-allcorepera\"\n",
      "[1] \"Found files with specific pattern: \"\n",
      "character(0)\n",
      "\n",
      "#!/bin/bash\n",
      "#SBATCH --nodes=1\n",
      "#SBATCH --ntasks-per-node=1\n",
      "#SBATCH --cpus-per-task=1\n",
      "#SBATCH --mem-per-cpu=2G\n",
      "#SBATCH --output=slurm_output_libd_chr1-chr1_all-1868982-1888981-dynamic-1corestotal-allcorepera-20240419-140759.out\n",
      "#SBATCH --job-name=libd_chr1-chr1_all-1868982-1888981-dynamic-1corestotal-allcorepera-20240419-140759\n",
      "#SBATCH --time=48:00:00\n",
      "module load conda\n",
      "conda activate mwas\n",
      "echo 'Executing Rscript with arguments: Rscript scripts/CLI.R --outdir=./output_chr1_a2_caud/ --snp_data_path=/dcs04/lieber/statsgen/shizhong/michael/mwas/gwas//libd_chr1.pgen --methylation_data_path=/dcs04/lieber/statsgen/shizhong/michael/mwas/pheno/caud/out/chr1_all.rda --cov=/dcs04/lieber/statsgen/mnagle/mwas/full_covariates/all_caud.csv --verbose=FALSE --lambda_choice=1se --alphas=0.5 --allow_inefficient_parallelization=FALSE --n_fold=5 --window_sizes=10000 --save_evaluation_results_each_fold=FALSE --save_glmnet_object=FALSE --omit_folds_with_na_r=TRUE --methInput_rds_path=/dcs04/lieber/statsgen/mnagle/mwas/pheno/caud/out/chr1_all_1868982-1888981.rds --chunk1=1 --chunk2=20000 --cv_eval_mode=dynamic --num_cores=1 --cores_per_alpha=all --tag=libd_chr1-chr1_all-1868982-1888981-dynamic-1corestotal-allcorepera-20240419-140759'\n",
      "Rscript scripts/CLI.R --outdir=./output_chr1_a2_caud/ --snp_data_path=/dcs04/lieber/statsgen/shizhong/michael/mwas/gwas//libd_chr1.pgen --methylation_data_path=/dcs04/lieber/statsgen/shizhong/michael/mwas/pheno/caud/out/chr1_all.rda --cov=/dcs04/lieber/statsgen/mnagle/mwas/full_covariates/all_caud.csv --verbose=FALSE --lambda_choice=1se --alphas=0.5 --allow_inefficient_parallelization=FALSE --n_fold=5 --window_sizes=10000 --save_evaluation_results_each_fold=FALSE --save_glmnet_object=FALSE --omit_folds_with_na_r=TRUE --methInput_rds_path=/dcs04/lieber/statsgen/mnagle/mwas/pheno/caud/out/chr1_all_1868982-1888981.rds --chunk1=1 --chunk2=20000 --cv_eval_mode=dynamic --num_cores=1 --cores_per_alpha=all --tag=libd_chr1-chr1_all-1868982-1888981-dynamic-1corestotal-allcorepera-20240419-140759\n"
     ]
    },
    {
     "name": "stderr",
     "output_type": "stream",
     "text": [
      "Sleeping for 181 seconds\n",
      "\n"
     ]
    },
    {
     "name": "stdout",
     "output_type": "stream",
     "text": [
      "\n",
      "[1] 205\n",
      "[1] \"Checking for files in:  ./output_chr1_a2_caud/\"\n",
      "[1] \"Using pattern:  libd_chr1-chr1_all-1888982-1908981-dynamic-1corestotal-allcorepera\"\n",
      "[1] \"Found files with specific pattern: \"\n",
      "character(0)\n",
      "\n",
      "#!/bin/bash\n",
      "#SBATCH --nodes=1\n",
      "#SBATCH --ntasks-per-node=1\n",
      "#SBATCH --cpus-per-task=1\n",
      "#SBATCH --mem-per-cpu=2G\n",
      "#SBATCH --output=slurm_output_libd_chr1-chr1_all-1888982-1908981-dynamic-1corestotal-allcorepera-20240419-141101.out\n",
      "#SBATCH --job-name=libd_chr1-chr1_all-1888982-1908981-dynamic-1corestotal-allcorepera-20240419-141101\n",
      "#SBATCH --time=48:00:00\n",
      "module load conda\n",
      "conda activate mwas\n",
      "echo 'Executing Rscript with arguments: Rscript scripts/CLI.R --outdir=./output_chr1_a2_caud/ --snp_data_path=/dcs04/lieber/statsgen/shizhong/michael/mwas/gwas//libd_chr1.pgen --methylation_data_path=/dcs04/lieber/statsgen/shizhong/michael/mwas/pheno/caud/out/chr1_all.rda --cov=/dcs04/lieber/statsgen/mnagle/mwas/full_covariates/all_caud.csv --verbose=FALSE --lambda_choice=1se --alphas=0.5 --allow_inefficient_parallelization=FALSE --n_fold=5 --window_sizes=10000 --save_evaluation_results_each_fold=FALSE --save_glmnet_object=FALSE --omit_folds_with_na_r=TRUE --methInput_rds_path=/dcs04/lieber/statsgen/mnagle/mwas/pheno/caud/out/chr1_all_1888982-1908981.rds --chunk1=1 --chunk2=20000 --cv_eval_mode=dynamic --num_cores=1 --cores_per_alpha=all --tag=libd_chr1-chr1_all-1888982-1908981-dynamic-1corestotal-allcorepera-20240419-141101'\n",
      "Rscript scripts/CLI.R --outdir=./output_chr1_a2_caud/ --snp_data_path=/dcs04/lieber/statsgen/shizhong/michael/mwas/gwas//libd_chr1.pgen --methylation_data_path=/dcs04/lieber/statsgen/shizhong/michael/mwas/pheno/caud/out/chr1_all.rda --cov=/dcs04/lieber/statsgen/mnagle/mwas/full_covariates/all_caud.csv --verbose=FALSE --lambda_choice=1se --alphas=0.5 --allow_inefficient_parallelization=FALSE --n_fold=5 --window_sizes=10000 --save_evaluation_results_each_fold=FALSE --save_glmnet_object=FALSE --omit_folds_with_na_r=TRUE --methInput_rds_path=/dcs04/lieber/statsgen/mnagle/mwas/pheno/caud/out/chr1_all_1888982-1908981.rds --chunk1=1 --chunk2=20000 --cv_eval_mode=dynamic --num_cores=1 --cores_per_alpha=all --tag=libd_chr1-chr1_all-1888982-1908981-dynamic-1corestotal-allcorepera-20240419-141101\n"
     ]
    },
    {
     "name": "stderr",
     "output_type": "stream",
     "text": [
      "Sleeping for 181 seconds\n",
      "\n"
     ]
    },
    {
     "name": "stdout",
     "output_type": "stream",
     "text": [
      "\n",
      "[1] 206\n",
      "[1] \"Checking for files in:  ./output_chr1_a2_caud/\"\n",
      "[1] \"Using pattern:  libd_chr1-chr1_all-1908982-1928981-dynamic-1corestotal-allcorepera\"\n",
      "[1] \"Found files with specific pattern: \"\n",
      "character(0)\n",
      "\n",
      "#!/bin/bash\n",
      "#SBATCH --nodes=1\n",
      "#SBATCH --ntasks-per-node=1\n",
      "#SBATCH --cpus-per-task=1\n",
      "#SBATCH --mem-per-cpu=2G\n",
      "#SBATCH --output=slurm_output_libd_chr1-chr1_all-1908982-1928981-dynamic-1corestotal-allcorepera-20240419-141402.out\n",
      "#SBATCH --job-name=libd_chr1-chr1_all-1908982-1928981-dynamic-1corestotal-allcorepera-20240419-141402\n",
      "#SBATCH --time=48:00:00\n",
      "module load conda\n",
      "conda activate mwas\n",
      "echo 'Executing Rscript with arguments: Rscript scripts/CLI.R --outdir=./output_chr1_a2_caud/ --snp_data_path=/dcs04/lieber/statsgen/shizhong/michael/mwas/gwas//libd_chr1.pgen --methylation_data_path=/dcs04/lieber/statsgen/shizhong/michael/mwas/pheno/caud/out/chr1_all.rda --cov=/dcs04/lieber/statsgen/mnagle/mwas/full_covariates/all_caud.csv --verbose=FALSE --lambda_choice=1se --alphas=0.5 --allow_inefficient_parallelization=FALSE --n_fold=5 --window_sizes=10000 --save_evaluation_results_each_fold=FALSE --save_glmnet_object=FALSE --omit_folds_with_na_r=TRUE --methInput_rds_path=/dcs04/lieber/statsgen/mnagle/mwas/pheno/caud/out/chr1_all_1908982-1928981.rds --chunk1=1 --chunk2=20000 --cv_eval_mode=dynamic --num_cores=1 --cores_per_alpha=all --tag=libd_chr1-chr1_all-1908982-1928981-dynamic-1corestotal-allcorepera-20240419-141402'\n",
      "Rscript scripts/CLI.R --outdir=./output_chr1_a2_caud/ --snp_data_path=/dcs04/lieber/statsgen/shizhong/michael/mwas/gwas//libd_chr1.pgen --methylation_data_path=/dcs04/lieber/statsgen/shizhong/michael/mwas/pheno/caud/out/chr1_all.rda --cov=/dcs04/lieber/statsgen/mnagle/mwas/full_covariates/all_caud.csv --verbose=FALSE --lambda_choice=1se --alphas=0.5 --allow_inefficient_parallelization=FALSE --n_fold=5 --window_sizes=10000 --save_evaluation_results_each_fold=FALSE --save_glmnet_object=FALSE --omit_folds_with_na_r=TRUE --methInput_rds_path=/dcs04/lieber/statsgen/mnagle/mwas/pheno/caud/out/chr1_all_1908982-1928981.rds --chunk1=1 --chunk2=20000 --cv_eval_mode=dynamic --num_cores=1 --cores_per_alpha=all --tag=libd_chr1-chr1_all-1908982-1928981-dynamic-1corestotal-allcorepera-20240419-141402\n"
     ]
    },
    {
     "name": "stderr",
     "output_type": "stream",
     "text": [
      "Sleeping for 181 seconds\n",
      "\n"
     ]
    },
    {
     "name": "stdout",
     "output_type": "stream",
     "text": [
      "\n",
      "[1] 207\n",
      "[1] \"Checking for files in:  ./output_chr1_a2_caud/\"\n",
      "[1] \"Using pattern:  libd_chr1-chr1_all-1928982-1948981-dynamic-1corestotal-allcorepera\"\n",
      "[1] \"Found files with specific pattern: \"\n",
      "character(0)\n",
      "\n",
      "#!/bin/bash\n",
      "#SBATCH --nodes=1\n",
      "#SBATCH --ntasks-per-node=1\n",
      "#SBATCH --cpus-per-task=1\n",
      "#SBATCH --mem-per-cpu=2G\n",
      "#SBATCH --output=slurm_output_libd_chr1-chr1_all-1928982-1948981-dynamic-1corestotal-allcorepera-20240419-141703.out\n",
      "#SBATCH --job-name=libd_chr1-chr1_all-1928982-1948981-dynamic-1corestotal-allcorepera-20240419-141703\n",
      "#SBATCH --time=48:00:00\n",
      "module load conda\n",
      "conda activate mwas\n",
      "echo 'Executing Rscript with arguments: Rscript scripts/CLI.R --outdir=./output_chr1_a2_caud/ --snp_data_path=/dcs04/lieber/statsgen/shizhong/michael/mwas/gwas//libd_chr1.pgen --methylation_data_path=/dcs04/lieber/statsgen/shizhong/michael/mwas/pheno/caud/out/chr1_all.rda --cov=/dcs04/lieber/statsgen/mnagle/mwas/full_covariates/all_caud.csv --verbose=FALSE --lambda_choice=1se --alphas=0.5 --allow_inefficient_parallelization=FALSE --n_fold=5 --window_sizes=10000 --save_evaluation_results_each_fold=FALSE --save_glmnet_object=FALSE --omit_folds_with_na_r=TRUE --methInput_rds_path=/dcs04/lieber/statsgen/mnagle/mwas/pheno/caud/out/chr1_all_1928982-1948981.rds --chunk1=1 --chunk2=20000 --cv_eval_mode=dynamic --num_cores=1 --cores_per_alpha=all --tag=libd_chr1-chr1_all-1928982-1948981-dynamic-1corestotal-allcorepera-20240419-141703'\n",
      "Rscript scripts/CLI.R --outdir=./output_chr1_a2_caud/ --snp_data_path=/dcs04/lieber/statsgen/shizhong/michael/mwas/gwas//libd_chr1.pgen --methylation_data_path=/dcs04/lieber/statsgen/shizhong/michael/mwas/pheno/caud/out/chr1_all.rda --cov=/dcs04/lieber/statsgen/mnagle/mwas/full_covariates/all_caud.csv --verbose=FALSE --lambda_choice=1se --alphas=0.5 --allow_inefficient_parallelization=FALSE --n_fold=5 --window_sizes=10000 --save_evaluation_results_each_fold=FALSE --save_glmnet_object=FALSE --omit_folds_with_na_r=TRUE --methInput_rds_path=/dcs04/lieber/statsgen/mnagle/mwas/pheno/caud/out/chr1_all_1928982-1948981.rds --chunk1=1 --chunk2=20000 --cv_eval_mode=dynamic --num_cores=1 --cores_per_alpha=all --tag=libd_chr1-chr1_all-1928982-1948981-dynamic-1corestotal-allcorepera-20240419-141703\n"
     ]
    },
    {
     "name": "stderr",
     "output_type": "stream",
     "text": [
      "Sleeping for 181 seconds\n",
      "\n"
     ]
    },
    {
     "name": "stdout",
     "output_type": "stream",
     "text": [
      "\n",
      "[1] 208\n",
      "[1] \"Checking for files in:  ./output_chr1_a2_caud/\"\n",
      "[1] \"Using pattern:  libd_chr1-chr1_all-1948982-1968981-dynamic-1corestotal-allcorepera\"\n",
      "[1] \"Found files with specific pattern: \"\n",
      "character(0)\n",
      "\n",
      "#!/bin/bash\n",
      "#SBATCH --nodes=1\n",
      "#SBATCH --ntasks-per-node=1\n",
      "#SBATCH --cpus-per-task=1\n",
      "#SBATCH --mem-per-cpu=2G\n",
      "#SBATCH --output=slurm_output_libd_chr1-chr1_all-1948982-1968981-dynamic-1corestotal-allcorepera-20240419-142004.out\n",
      "#SBATCH --job-name=libd_chr1-chr1_all-1948982-1968981-dynamic-1corestotal-allcorepera-20240419-142004\n",
      "#SBATCH --time=48:00:00\n",
      "module load conda\n",
      "conda activate mwas\n",
      "echo 'Executing Rscript with arguments: Rscript scripts/CLI.R --outdir=./output_chr1_a2_caud/ --snp_data_path=/dcs04/lieber/statsgen/shizhong/michael/mwas/gwas//libd_chr1.pgen --methylation_data_path=/dcs04/lieber/statsgen/shizhong/michael/mwas/pheno/caud/out/chr1_all.rda --cov=/dcs04/lieber/statsgen/mnagle/mwas/full_covariates/all_caud.csv --verbose=FALSE --lambda_choice=1se --alphas=0.5 --allow_inefficient_parallelization=FALSE --n_fold=5 --window_sizes=10000 --save_evaluation_results_each_fold=FALSE --save_glmnet_object=FALSE --omit_folds_with_na_r=TRUE --methInput_rds_path=/dcs04/lieber/statsgen/mnagle/mwas/pheno/caud/out/chr1_all_1948982-1968981.rds --chunk1=1 --chunk2=20000 --cv_eval_mode=dynamic --num_cores=1 --cores_per_alpha=all --tag=libd_chr1-chr1_all-1948982-1968981-dynamic-1corestotal-allcorepera-20240419-142004'\n",
      "Rscript scripts/CLI.R --outdir=./output_chr1_a2_caud/ --snp_data_path=/dcs04/lieber/statsgen/shizhong/michael/mwas/gwas//libd_chr1.pgen --methylation_data_path=/dcs04/lieber/statsgen/shizhong/michael/mwas/pheno/caud/out/chr1_all.rda --cov=/dcs04/lieber/statsgen/mnagle/mwas/full_covariates/all_caud.csv --verbose=FALSE --lambda_choice=1se --alphas=0.5 --allow_inefficient_parallelization=FALSE --n_fold=5 --window_sizes=10000 --save_evaluation_results_each_fold=FALSE --save_glmnet_object=FALSE --omit_folds_with_na_r=TRUE --methInput_rds_path=/dcs04/lieber/statsgen/mnagle/mwas/pheno/caud/out/chr1_all_1948982-1968981.rds --chunk1=1 --chunk2=20000 --cv_eval_mode=dynamic --num_cores=1 --cores_per_alpha=all --tag=libd_chr1-chr1_all-1948982-1968981-dynamic-1corestotal-allcorepera-20240419-142004\n"
     ]
    },
    {
     "name": "stderr",
     "output_type": "stream",
     "text": [
      "Sleeping for 181 seconds\n",
      "\n"
     ]
    },
    {
     "name": "stdout",
     "output_type": "stream",
     "text": [
      "\n",
      "[1] 209\n",
      "[1] \"Checking for files in:  ./output_chr1_a2_caud/\"\n",
      "[1] \"Using pattern:  libd_chr1-chr1_all-1968982-1988981-dynamic-1corestotal-allcorepera\"\n",
      "[1] \"Found files with specific pattern: \"\n",
      "character(0)\n",
      "\n",
      "#!/bin/bash\n",
      "#SBATCH --nodes=1\n",
      "#SBATCH --ntasks-per-node=1\n",
      "#SBATCH --cpus-per-task=1\n",
      "#SBATCH --mem-per-cpu=2G\n",
      "#SBATCH --output=slurm_output_libd_chr1-chr1_all-1968982-1988981-dynamic-1corestotal-allcorepera-20240419-142305.out\n",
      "#SBATCH --job-name=libd_chr1-chr1_all-1968982-1988981-dynamic-1corestotal-allcorepera-20240419-142305\n",
      "#SBATCH --time=48:00:00\n",
      "module load conda\n",
      "conda activate mwas\n",
      "echo 'Executing Rscript with arguments: Rscript scripts/CLI.R --outdir=./output_chr1_a2_caud/ --snp_data_path=/dcs04/lieber/statsgen/shizhong/michael/mwas/gwas//libd_chr1.pgen --methylation_data_path=/dcs04/lieber/statsgen/shizhong/michael/mwas/pheno/caud/out/chr1_all.rda --cov=/dcs04/lieber/statsgen/mnagle/mwas/full_covariates/all_caud.csv --verbose=FALSE --lambda_choice=1se --alphas=0.5 --allow_inefficient_parallelization=FALSE --n_fold=5 --window_sizes=10000 --save_evaluation_results_each_fold=FALSE --save_glmnet_object=FALSE --omit_folds_with_na_r=TRUE --methInput_rds_path=/dcs04/lieber/statsgen/mnagle/mwas/pheno/caud/out/chr1_all_1968982-1988981.rds --chunk1=1 --chunk2=20000 --cv_eval_mode=dynamic --num_cores=1 --cores_per_alpha=all --tag=libd_chr1-chr1_all-1968982-1988981-dynamic-1corestotal-allcorepera-20240419-142305'\n",
      "Rscript scripts/CLI.R --outdir=./output_chr1_a2_caud/ --snp_data_path=/dcs04/lieber/statsgen/shizhong/michael/mwas/gwas//libd_chr1.pgen --methylation_data_path=/dcs04/lieber/statsgen/shizhong/michael/mwas/pheno/caud/out/chr1_all.rda --cov=/dcs04/lieber/statsgen/mnagle/mwas/full_covariates/all_caud.csv --verbose=FALSE --lambda_choice=1se --alphas=0.5 --allow_inefficient_parallelization=FALSE --n_fold=5 --window_sizes=10000 --save_evaluation_results_each_fold=FALSE --save_glmnet_object=FALSE --omit_folds_with_na_r=TRUE --methInput_rds_path=/dcs04/lieber/statsgen/mnagle/mwas/pheno/caud/out/chr1_all_1968982-1988981.rds --chunk1=1 --chunk2=20000 --cv_eval_mode=dynamic --num_cores=1 --cores_per_alpha=all --tag=libd_chr1-chr1_all-1968982-1988981-dynamic-1corestotal-allcorepera-20240419-142305\n"
     ]
    },
    {
     "name": "stderr",
     "output_type": "stream",
     "text": [
      "Sleeping for 181 seconds\n",
      "\n"
     ]
    },
    {
     "name": "stdout",
     "output_type": "stream",
     "text": [
      "\n",
      "[1] 210\n",
      "[1] \"Checking for files in:  ./output_chr1_a2_caud/\"\n",
      "[1] \"Using pattern:  libd_chr1-chr1_all-1988982-2008981-dynamic-1corestotal-allcorepera\"\n",
      "[1] \"Found files with specific pattern: \"\n",
      "character(0)\n",
      "\n",
      "#!/bin/bash\n",
      "#SBATCH --nodes=1\n",
      "#SBATCH --ntasks-per-node=1\n",
      "#SBATCH --cpus-per-task=1\n",
      "#SBATCH --mem-per-cpu=2G\n",
      "#SBATCH --output=slurm_output_libd_chr1-chr1_all-1988982-2008981-dynamic-1corestotal-allcorepera-20240419-142612.out\n",
      "#SBATCH --job-name=libd_chr1-chr1_all-1988982-2008981-dynamic-1corestotal-allcorepera-20240419-142612\n",
      "#SBATCH --time=48:00:00\n",
      "module load conda\n",
      "conda activate mwas\n",
      "echo 'Executing Rscript with arguments: Rscript scripts/CLI.R --outdir=./output_chr1_a2_caud/ --snp_data_path=/dcs04/lieber/statsgen/shizhong/michael/mwas/gwas//libd_chr1.pgen --methylation_data_path=/dcs04/lieber/statsgen/shizhong/michael/mwas/pheno/caud/out/chr1_all.rda --cov=/dcs04/lieber/statsgen/mnagle/mwas/full_covariates/all_caud.csv --verbose=FALSE --lambda_choice=1se --alphas=0.5 --allow_inefficient_parallelization=FALSE --n_fold=5 --window_sizes=10000 --save_evaluation_results_each_fold=FALSE --save_glmnet_object=FALSE --omit_folds_with_na_r=TRUE --methInput_rds_path=/dcs04/lieber/statsgen/mnagle/mwas/pheno/caud/out/chr1_all_1988982-2008981.rds --chunk1=1 --chunk2=20000 --cv_eval_mode=dynamic --num_cores=1 --cores_per_alpha=all --tag=libd_chr1-chr1_all-1988982-2008981-dynamic-1corestotal-allcorepera-20240419-142612'\n",
      "Rscript scripts/CLI.R --outdir=./output_chr1_a2_caud/ --snp_data_path=/dcs04/lieber/statsgen/shizhong/michael/mwas/gwas//libd_chr1.pgen --methylation_data_path=/dcs04/lieber/statsgen/shizhong/michael/mwas/pheno/caud/out/chr1_all.rda --cov=/dcs04/lieber/statsgen/mnagle/mwas/full_covariates/all_caud.csv --verbose=FALSE --lambda_choice=1se --alphas=0.5 --allow_inefficient_parallelization=FALSE --n_fold=5 --window_sizes=10000 --save_evaluation_results_each_fold=FALSE --save_glmnet_object=FALSE --omit_folds_with_na_r=TRUE --methInput_rds_path=/dcs04/lieber/statsgen/mnagle/mwas/pheno/caud/out/chr1_all_1988982-2008981.rds --chunk1=1 --chunk2=20000 --cv_eval_mode=dynamic --num_cores=1 --cores_per_alpha=all --tag=libd_chr1-chr1_all-1988982-2008981-dynamic-1corestotal-allcorepera-20240419-142612\n"
     ]
    },
    {
     "name": "stderr",
     "output_type": "stream",
     "text": [
      "Sleeping for 181 seconds\n",
      "\n"
     ]
    },
    {
     "name": "stdout",
     "output_type": "stream",
     "text": [
      "\n",
      "[1] 211\n",
      "[1] \"Checking for files in:  ./output_chr1_a2_caud/\"\n",
      "[1] \"Using pattern:  libd_chr1-chr1_all-2008982-2028981-dynamic-1corestotal-allcorepera\"\n",
      "[1] \"Found files with specific pattern: \"\n",
      "character(0)\n",
      "\n",
      "#!/bin/bash\n",
      "#SBATCH --nodes=1\n",
      "#SBATCH --ntasks-per-node=1\n",
      "#SBATCH --cpus-per-task=1\n",
      "#SBATCH --mem-per-cpu=2G\n",
      "#SBATCH --output=slurm_output_libd_chr1-chr1_all-2008982-2028981-dynamic-1corestotal-allcorepera-20240419-142914.out\n",
      "#SBATCH --job-name=libd_chr1-chr1_all-2008982-2028981-dynamic-1corestotal-allcorepera-20240419-142914\n",
      "#SBATCH --time=48:00:00\n",
      "module load conda\n",
      "conda activate mwas\n",
      "echo 'Executing Rscript with arguments: Rscript scripts/CLI.R --outdir=./output_chr1_a2_caud/ --snp_data_path=/dcs04/lieber/statsgen/shizhong/michael/mwas/gwas//libd_chr1.pgen --methylation_data_path=/dcs04/lieber/statsgen/shizhong/michael/mwas/pheno/caud/out/chr1_all.rda --cov=/dcs04/lieber/statsgen/mnagle/mwas/full_covariates/all_caud.csv --verbose=FALSE --lambda_choice=1se --alphas=0.5 --allow_inefficient_parallelization=FALSE --n_fold=5 --window_sizes=10000 --save_evaluation_results_each_fold=FALSE --save_glmnet_object=FALSE --omit_folds_with_na_r=TRUE --methInput_rds_path=/dcs04/lieber/statsgen/mnagle/mwas/pheno/caud/out/chr1_all_2008982-2028981.rds --chunk1=1 --chunk2=20000 --cv_eval_mode=dynamic --num_cores=1 --cores_per_alpha=all --tag=libd_chr1-chr1_all-2008982-2028981-dynamic-1corestotal-allcorepera-20240419-142914'\n",
      "Rscript scripts/CLI.R --outdir=./output_chr1_a2_caud/ --snp_data_path=/dcs04/lieber/statsgen/shizhong/michael/mwas/gwas//libd_chr1.pgen --methylation_data_path=/dcs04/lieber/statsgen/shizhong/michael/mwas/pheno/caud/out/chr1_all.rda --cov=/dcs04/lieber/statsgen/mnagle/mwas/full_covariates/all_caud.csv --verbose=FALSE --lambda_choice=1se --alphas=0.5 --allow_inefficient_parallelization=FALSE --n_fold=5 --window_sizes=10000 --save_evaluation_results_each_fold=FALSE --save_glmnet_object=FALSE --omit_folds_with_na_r=TRUE --methInput_rds_path=/dcs04/lieber/statsgen/mnagle/mwas/pheno/caud/out/chr1_all_2008982-2028981.rds --chunk1=1 --chunk2=20000 --cv_eval_mode=dynamic --num_cores=1 --cores_per_alpha=all --tag=libd_chr1-chr1_all-2008982-2028981-dynamic-1corestotal-allcorepera-20240419-142914\n"
     ]
    },
    {
     "name": "stderr",
     "output_type": "stream",
     "text": [
      "Sleeping for 181 seconds\n",
      "\n"
     ]
    },
    {
     "name": "stdout",
     "output_type": "stream",
     "text": [
      "\n",
      "[1] 212\n",
      "[1] \"Checking for files in:  ./output_chr1_a2_caud/\"\n",
      "[1] \"Using pattern:  libd_chr1-chr1_all-2028982-2048981-dynamic-1corestotal-allcorepera\"\n",
      "[1] \"Found files with specific pattern: \"\n",
      "character(0)\n",
      "\n",
      "#!/bin/bash\n",
      "#SBATCH --nodes=1\n",
      "#SBATCH --ntasks-per-node=1\n",
      "#SBATCH --cpus-per-task=1\n",
      "#SBATCH --mem-per-cpu=2G\n",
      "#SBATCH --output=slurm_output_libd_chr1-chr1_all-2028982-2048981-dynamic-1corestotal-allcorepera-20240419-143215.out\n",
      "#SBATCH --job-name=libd_chr1-chr1_all-2028982-2048981-dynamic-1corestotal-allcorepera-20240419-143215\n",
      "#SBATCH --time=48:00:00\n",
      "module load conda\n",
      "conda activate mwas\n",
      "echo 'Executing Rscript with arguments: Rscript scripts/CLI.R --outdir=./output_chr1_a2_caud/ --snp_data_path=/dcs04/lieber/statsgen/shizhong/michael/mwas/gwas//libd_chr1.pgen --methylation_data_path=/dcs04/lieber/statsgen/shizhong/michael/mwas/pheno/caud/out/chr1_all.rda --cov=/dcs04/lieber/statsgen/mnagle/mwas/full_covariates/all_caud.csv --verbose=FALSE --lambda_choice=1se --alphas=0.5 --allow_inefficient_parallelization=FALSE --n_fold=5 --window_sizes=10000 --save_evaluation_results_each_fold=FALSE --save_glmnet_object=FALSE --omit_folds_with_na_r=TRUE --methInput_rds_path=/dcs04/lieber/statsgen/mnagle/mwas/pheno/caud/out/chr1_all_2028982-2048981.rds --chunk1=1 --chunk2=20000 --cv_eval_mode=dynamic --num_cores=1 --cores_per_alpha=all --tag=libd_chr1-chr1_all-2028982-2048981-dynamic-1corestotal-allcorepera-20240419-143215'\n",
      "Rscript scripts/CLI.R --outdir=./output_chr1_a2_caud/ --snp_data_path=/dcs04/lieber/statsgen/shizhong/michael/mwas/gwas//libd_chr1.pgen --methylation_data_path=/dcs04/lieber/statsgen/shizhong/michael/mwas/pheno/caud/out/chr1_all.rda --cov=/dcs04/lieber/statsgen/mnagle/mwas/full_covariates/all_caud.csv --verbose=FALSE --lambda_choice=1se --alphas=0.5 --allow_inefficient_parallelization=FALSE --n_fold=5 --window_sizes=10000 --save_evaluation_results_each_fold=FALSE --save_glmnet_object=FALSE --omit_folds_with_na_r=TRUE --methInput_rds_path=/dcs04/lieber/statsgen/mnagle/mwas/pheno/caud/out/chr1_all_2028982-2048981.rds --chunk1=1 --chunk2=20000 --cv_eval_mode=dynamic --num_cores=1 --cores_per_alpha=all --tag=libd_chr1-chr1_all-2028982-2048981-dynamic-1corestotal-allcorepera-20240419-143215\n"
     ]
    },
    {
     "name": "stderr",
     "output_type": "stream",
     "text": [
      "Sleeping for 181 seconds\n",
      "\n"
     ]
    },
    {
     "name": "stdout",
     "output_type": "stream",
     "text": [
      "\n",
      "[1] 213\n",
      "[1] \"Checking for files in:  ./output_chr1_a2_caud/\"\n",
      "[1] \"Using pattern:  libd_chr1-chr1_all-2048982-2068981-dynamic-1corestotal-allcorepera\"\n",
      "[1] \"Found files with specific pattern: \"\n",
      "character(0)\n",
      "\n",
      "#!/bin/bash\n",
      "#SBATCH --nodes=1\n",
      "#SBATCH --ntasks-per-node=1\n",
      "#SBATCH --cpus-per-task=1\n",
      "#SBATCH --mem-per-cpu=2G\n",
      "#SBATCH --output=slurm_output_libd_chr1-chr1_all-2048982-2068981-dynamic-1corestotal-allcorepera-20240419-143516.out\n",
      "#SBATCH --job-name=libd_chr1-chr1_all-2048982-2068981-dynamic-1corestotal-allcorepera-20240419-143516\n",
      "#SBATCH --time=48:00:00\n",
      "module load conda\n",
      "conda activate mwas\n",
      "echo 'Executing Rscript with arguments: Rscript scripts/CLI.R --outdir=./output_chr1_a2_caud/ --snp_data_path=/dcs04/lieber/statsgen/shizhong/michael/mwas/gwas//libd_chr1.pgen --methylation_data_path=/dcs04/lieber/statsgen/shizhong/michael/mwas/pheno/caud/out/chr1_all.rda --cov=/dcs04/lieber/statsgen/mnagle/mwas/full_covariates/all_caud.csv --verbose=FALSE --lambda_choice=1se --alphas=0.5 --allow_inefficient_parallelization=FALSE --n_fold=5 --window_sizes=10000 --save_evaluation_results_each_fold=FALSE --save_glmnet_object=FALSE --omit_folds_with_na_r=TRUE --methInput_rds_path=/dcs04/lieber/statsgen/mnagle/mwas/pheno/caud/out/chr1_all_2048982-2068981.rds --chunk1=1 --chunk2=20000 --cv_eval_mode=dynamic --num_cores=1 --cores_per_alpha=all --tag=libd_chr1-chr1_all-2048982-2068981-dynamic-1corestotal-allcorepera-20240419-143516'\n",
      "Rscript scripts/CLI.R --outdir=./output_chr1_a2_caud/ --snp_data_path=/dcs04/lieber/statsgen/shizhong/michael/mwas/gwas//libd_chr1.pgen --methylation_data_path=/dcs04/lieber/statsgen/shizhong/michael/mwas/pheno/caud/out/chr1_all.rda --cov=/dcs04/lieber/statsgen/mnagle/mwas/full_covariates/all_caud.csv --verbose=FALSE --lambda_choice=1se --alphas=0.5 --allow_inefficient_parallelization=FALSE --n_fold=5 --window_sizes=10000 --save_evaluation_results_each_fold=FALSE --save_glmnet_object=FALSE --omit_folds_with_na_r=TRUE --methInput_rds_path=/dcs04/lieber/statsgen/mnagle/mwas/pheno/caud/out/chr1_all_2048982-2068981.rds --chunk1=1 --chunk2=20000 --cv_eval_mode=dynamic --num_cores=1 --cores_per_alpha=all --tag=libd_chr1-chr1_all-2048982-2068981-dynamic-1corestotal-allcorepera-20240419-143516\n"
     ]
    },
    {
     "name": "stderr",
     "output_type": "stream",
     "text": [
      "Sleeping for 181 seconds\n",
      "\n"
     ]
    },
    {
     "name": "stdout",
     "output_type": "stream",
     "text": [
      "\n",
      "[1] 214\n",
      "[1] \"Checking for files in:  ./output_chr1_a2_caud/\"\n",
      "[1] \"Using pattern:  libd_chr1-chr1_all-2068982-2088981-dynamic-1corestotal-allcorepera\"\n",
      "[1] \"Found files with specific pattern: \"\n",
      "character(0)\n",
      "\n",
      "#!/bin/bash\n",
      "#SBATCH --nodes=1\n",
      "#SBATCH --ntasks-per-node=1\n",
      "#SBATCH --cpus-per-task=1\n",
      "#SBATCH --mem-per-cpu=2G\n",
      "#SBATCH --output=slurm_output_libd_chr1-chr1_all-2068982-2088981-dynamic-1corestotal-allcorepera-20240419-143817.out\n",
      "#SBATCH --job-name=libd_chr1-chr1_all-2068982-2088981-dynamic-1corestotal-allcorepera-20240419-143817\n",
      "#SBATCH --time=48:00:00\n",
      "module load conda\n",
      "conda activate mwas\n",
      "echo 'Executing Rscript with arguments: Rscript scripts/CLI.R --outdir=./output_chr1_a2_caud/ --snp_data_path=/dcs04/lieber/statsgen/shizhong/michael/mwas/gwas//libd_chr1.pgen --methylation_data_path=/dcs04/lieber/statsgen/shizhong/michael/mwas/pheno/caud/out/chr1_all.rda --cov=/dcs04/lieber/statsgen/mnagle/mwas/full_covariates/all_caud.csv --verbose=FALSE --lambda_choice=1se --alphas=0.5 --allow_inefficient_parallelization=FALSE --n_fold=5 --window_sizes=10000 --save_evaluation_results_each_fold=FALSE --save_glmnet_object=FALSE --omit_folds_with_na_r=TRUE --methInput_rds_path=/dcs04/lieber/statsgen/mnagle/mwas/pheno/caud/out/chr1_all_2068982-2088981.rds --chunk1=1 --chunk2=20000 --cv_eval_mode=dynamic --num_cores=1 --cores_per_alpha=all --tag=libd_chr1-chr1_all-2068982-2088981-dynamic-1corestotal-allcorepera-20240419-143817'\n",
      "Rscript scripts/CLI.R --outdir=./output_chr1_a2_caud/ --snp_data_path=/dcs04/lieber/statsgen/shizhong/michael/mwas/gwas//libd_chr1.pgen --methylation_data_path=/dcs04/lieber/statsgen/shizhong/michael/mwas/pheno/caud/out/chr1_all.rda --cov=/dcs04/lieber/statsgen/mnagle/mwas/full_covariates/all_caud.csv --verbose=FALSE --lambda_choice=1se --alphas=0.5 --allow_inefficient_parallelization=FALSE --n_fold=5 --window_sizes=10000 --save_evaluation_results_each_fold=FALSE --save_glmnet_object=FALSE --omit_folds_with_na_r=TRUE --methInput_rds_path=/dcs04/lieber/statsgen/mnagle/mwas/pheno/caud/out/chr1_all_2068982-2088981.rds --chunk1=1 --chunk2=20000 --cv_eval_mode=dynamic --num_cores=1 --cores_per_alpha=all --tag=libd_chr1-chr1_all-2068982-2088981-dynamic-1corestotal-allcorepera-20240419-143817\n"
     ]
    },
    {
     "name": "stderr",
     "output_type": "stream",
     "text": [
      "Sleeping for 181 seconds\n",
      "\n"
     ]
    },
    {
     "name": "stdout",
     "output_type": "stream",
     "text": [
      "\n",
      "[1] 215\n",
      "[1] \"Checking for files in:  ./output_chr1_a2_caud/\"\n",
      "[1] \"Using pattern:  libd_chr1-chr1_all-2088982-2108981-dynamic-1corestotal-allcorepera\"\n",
      "[1] \"Found files with specific pattern: \"\n",
      "character(0)\n",
      "\n",
      "#!/bin/bash\n",
      "#SBATCH --nodes=1\n",
      "#SBATCH --ntasks-per-node=1\n",
      "#SBATCH --cpus-per-task=1\n",
      "#SBATCH --mem-per-cpu=2G\n",
      "#SBATCH --output=slurm_output_libd_chr1-chr1_all-2088982-2108981-dynamic-1corestotal-allcorepera-20240419-144118.out\n",
      "#SBATCH --job-name=libd_chr1-chr1_all-2088982-2108981-dynamic-1corestotal-allcorepera-20240419-144118\n",
      "#SBATCH --time=48:00:00\n",
      "module load conda\n",
      "conda activate mwas\n",
      "echo 'Executing Rscript with arguments: Rscript scripts/CLI.R --outdir=./output_chr1_a2_caud/ --snp_data_path=/dcs04/lieber/statsgen/shizhong/michael/mwas/gwas//libd_chr1.pgen --methylation_data_path=/dcs04/lieber/statsgen/shizhong/michael/mwas/pheno/caud/out/chr1_all.rda --cov=/dcs04/lieber/statsgen/mnagle/mwas/full_covariates/all_caud.csv --verbose=FALSE --lambda_choice=1se --alphas=0.5 --allow_inefficient_parallelization=FALSE --n_fold=5 --window_sizes=10000 --save_evaluation_results_each_fold=FALSE --save_glmnet_object=FALSE --omit_folds_with_na_r=TRUE --methInput_rds_path=/dcs04/lieber/statsgen/mnagle/mwas/pheno/caud/out/chr1_all_2088982-2108981.rds --chunk1=1 --chunk2=20000 --cv_eval_mode=dynamic --num_cores=1 --cores_per_alpha=all --tag=libd_chr1-chr1_all-2088982-2108981-dynamic-1corestotal-allcorepera-20240419-144118'\n",
      "Rscript scripts/CLI.R --outdir=./output_chr1_a2_caud/ --snp_data_path=/dcs04/lieber/statsgen/shizhong/michael/mwas/gwas//libd_chr1.pgen --methylation_data_path=/dcs04/lieber/statsgen/shizhong/michael/mwas/pheno/caud/out/chr1_all.rda --cov=/dcs04/lieber/statsgen/mnagle/mwas/full_covariates/all_caud.csv --verbose=FALSE --lambda_choice=1se --alphas=0.5 --allow_inefficient_parallelization=FALSE --n_fold=5 --window_sizes=10000 --save_evaluation_results_each_fold=FALSE --save_glmnet_object=FALSE --omit_folds_with_na_r=TRUE --methInput_rds_path=/dcs04/lieber/statsgen/mnagle/mwas/pheno/caud/out/chr1_all_2088982-2108981.rds --chunk1=1 --chunk2=20000 --cv_eval_mode=dynamic --num_cores=1 --cores_per_alpha=all --tag=libd_chr1-chr1_all-2088982-2108981-dynamic-1corestotal-allcorepera-20240419-144118\n"
     ]
    },
    {
     "name": "stderr",
     "output_type": "stream",
     "text": [
      "Sleeping for 181 seconds\n",
      "\n"
     ]
    },
    {
     "name": "stdout",
     "output_type": "stream",
     "text": [
      "\n",
      "[1] 216\n",
      "[1] \"Checking for files in:  ./output_chr1_a2_caud/\"\n",
      "[1] \"Using pattern:  libd_chr1-chr1_all-2108982-2128981-dynamic-1corestotal-allcorepera\"\n",
      "[1] \"Found files with specific pattern: \"\n",
      "character(0)\n",
      "\n",
      "#!/bin/bash\n",
      "#SBATCH --nodes=1\n",
      "#SBATCH --ntasks-per-node=1\n",
      "#SBATCH --cpus-per-task=1\n",
      "#SBATCH --mem-per-cpu=2G\n",
      "#SBATCH --output=slurm_output_libd_chr1-chr1_all-2108982-2128981-dynamic-1corestotal-allcorepera-20240419-144419.out\n",
      "#SBATCH --job-name=libd_chr1-chr1_all-2108982-2128981-dynamic-1corestotal-allcorepera-20240419-144419\n",
      "#SBATCH --time=48:00:00\n",
      "module load conda\n",
      "conda activate mwas\n",
      "echo 'Executing Rscript with arguments: Rscript scripts/CLI.R --outdir=./output_chr1_a2_caud/ --snp_data_path=/dcs04/lieber/statsgen/shizhong/michael/mwas/gwas//libd_chr1.pgen --methylation_data_path=/dcs04/lieber/statsgen/shizhong/michael/mwas/pheno/caud/out/chr1_all.rda --cov=/dcs04/lieber/statsgen/mnagle/mwas/full_covariates/all_caud.csv --verbose=FALSE --lambda_choice=1se --alphas=0.5 --allow_inefficient_parallelization=FALSE --n_fold=5 --window_sizes=10000 --save_evaluation_results_each_fold=FALSE --save_glmnet_object=FALSE --omit_folds_with_na_r=TRUE --methInput_rds_path=/dcs04/lieber/statsgen/mnagle/mwas/pheno/caud/out/chr1_all_2108982-2128981.rds --chunk1=1 --chunk2=20000 --cv_eval_mode=dynamic --num_cores=1 --cores_per_alpha=all --tag=libd_chr1-chr1_all-2108982-2128981-dynamic-1corestotal-allcorepera-20240419-144419'\n",
      "Rscript scripts/CLI.R --outdir=./output_chr1_a2_caud/ --snp_data_path=/dcs04/lieber/statsgen/shizhong/michael/mwas/gwas//libd_chr1.pgen --methylation_data_path=/dcs04/lieber/statsgen/shizhong/michael/mwas/pheno/caud/out/chr1_all.rda --cov=/dcs04/lieber/statsgen/mnagle/mwas/full_covariates/all_caud.csv --verbose=FALSE --lambda_choice=1se --alphas=0.5 --allow_inefficient_parallelization=FALSE --n_fold=5 --window_sizes=10000 --save_evaluation_results_each_fold=FALSE --save_glmnet_object=FALSE --omit_folds_with_na_r=TRUE --methInput_rds_path=/dcs04/lieber/statsgen/mnagle/mwas/pheno/caud/out/chr1_all_2108982-2128981.rds --chunk1=1 --chunk2=20000 --cv_eval_mode=dynamic --num_cores=1 --cores_per_alpha=all --tag=libd_chr1-chr1_all-2108982-2128981-dynamic-1corestotal-allcorepera-20240419-144419\n"
     ]
    },
    {
     "name": "stderr",
     "output_type": "stream",
     "text": [
      "Sleeping for 181 seconds\n",
      "\n"
     ]
    },
    {
     "name": "stdout",
     "output_type": "stream",
     "text": [
      "\n",
      "[1] 217\n",
      "[1] \"Checking for files in:  ./output_chr1_a2_caud/\"\n",
      "[1] \"Using pattern:  libd_chr1-chr1_all-2128982-2148981-dynamic-1corestotal-allcorepera\"\n",
      "[1] \"Found files with specific pattern: \"\n",
      "character(0)\n",
      "\n",
      "#!/bin/bash\n",
      "#SBATCH --nodes=1\n",
      "#SBATCH --ntasks-per-node=1\n",
      "#SBATCH --cpus-per-task=1\n",
      "#SBATCH --mem-per-cpu=2G\n",
      "#SBATCH --output=slurm_output_libd_chr1-chr1_all-2128982-2148981-dynamic-1corestotal-allcorepera-20240419-144720.out\n",
      "#SBATCH --job-name=libd_chr1-chr1_all-2128982-2148981-dynamic-1corestotal-allcorepera-20240419-144720\n",
      "#SBATCH --time=48:00:00\n",
      "module load conda\n",
      "conda activate mwas\n",
      "echo 'Executing Rscript with arguments: Rscript scripts/CLI.R --outdir=./output_chr1_a2_caud/ --snp_data_path=/dcs04/lieber/statsgen/shizhong/michael/mwas/gwas//libd_chr1.pgen --methylation_data_path=/dcs04/lieber/statsgen/shizhong/michael/mwas/pheno/caud/out/chr1_all.rda --cov=/dcs04/lieber/statsgen/mnagle/mwas/full_covariates/all_caud.csv --verbose=FALSE --lambda_choice=1se --alphas=0.5 --allow_inefficient_parallelization=FALSE --n_fold=5 --window_sizes=10000 --save_evaluation_results_each_fold=FALSE --save_glmnet_object=FALSE --omit_folds_with_na_r=TRUE --methInput_rds_path=/dcs04/lieber/statsgen/mnagle/mwas/pheno/caud/out/chr1_all_2128982-2148981.rds --chunk1=1 --chunk2=20000 --cv_eval_mode=dynamic --num_cores=1 --cores_per_alpha=all --tag=libd_chr1-chr1_all-2128982-2148981-dynamic-1corestotal-allcorepera-20240419-144720'\n",
      "Rscript scripts/CLI.R --outdir=./output_chr1_a2_caud/ --snp_data_path=/dcs04/lieber/statsgen/shizhong/michael/mwas/gwas//libd_chr1.pgen --methylation_data_path=/dcs04/lieber/statsgen/shizhong/michael/mwas/pheno/caud/out/chr1_all.rda --cov=/dcs04/lieber/statsgen/mnagle/mwas/full_covariates/all_caud.csv --verbose=FALSE --lambda_choice=1se --alphas=0.5 --allow_inefficient_parallelization=FALSE --n_fold=5 --window_sizes=10000 --save_evaluation_results_each_fold=FALSE --save_glmnet_object=FALSE --omit_folds_with_na_r=TRUE --methInput_rds_path=/dcs04/lieber/statsgen/mnagle/mwas/pheno/caud/out/chr1_all_2128982-2148981.rds --chunk1=1 --chunk2=20000 --cv_eval_mode=dynamic --num_cores=1 --cores_per_alpha=all --tag=libd_chr1-chr1_all-2128982-2148981-dynamic-1corestotal-allcorepera-20240419-144720\n"
     ]
    },
    {
     "name": "stderr",
     "output_type": "stream",
     "text": [
      "Sleeping for 181 seconds\n",
      "\n"
     ]
    },
    {
     "name": "stdout",
     "output_type": "stream",
     "text": [
      "\n",
      "[1] 218\n",
      "[1] \"Checking for files in:  ./output_chr1_a2_caud/\"\n",
      "[1] \"Using pattern:  libd_chr1-chr1_all-2148982-2168981-dynamic-1corestotal-allcorepera\"\n",
      "[1] \"Found files with specific pattern: \"\n",
      "character(0)\n",
      "\n",
      "#!/bin/bash\n",
      "#SBATCH --nodes=1\n",
      "#SBATCH --ntasks-per-node=1\n",
      "#SBATCH --cpus-per-task=1\n",
      "#SBATCH --mem-per-cpu=2G\n",
      "#SBATCH --output=slurm_output_libd_chr1-chr1_all-2148982-2168981-dynamic-1corestotal-allcorepera-20240419-145021.out\n",
      "#SBATCH --job-name=libd_chr1-chr1_all-2148982-2168981-dynamic-1corestotal-allcorepera-20240419-145021\n",
      "#SBATCH --time=48:00:00\n",
      "module load conda\n",
      "conda activate mwas\n",
      "echo 'Executing Rscript with arguments: Rscript scripts/CLI.R --outdir=./output_chr1_a2_caud/ --snp_data_path=/dcs04/lieber/statsgen/shizhong/michael/mwas/gwas//libd_chr1.pgen --methylation_data_path=/dcs04/lieber/statsgen/shizhong/michael/mwas/pheno/caud/out/chr1_all.rda --cov=/dcs04/lieber/statsgen/mnagle/mwas/full_covariates/all_caud.csv --verbose=FALSE --lambda_choice=1se --alphas=0.5 --allow_inefficient_parallelization=FALSE --n_fold=5 --window_sizes=10000 --save_evaluation_results_each_fold=FALSE --save_glmnet_object=FALSE --omit_folds_with_na_r=TRUE --methInput_rds_path=/dcs04/lieber/statsgen/mnagle/mwas/pheno/caud/out/chr1_all_2148982-2168981.rds --chunk1=1 --chunk2=20000 --cv_eval_mode=dynamic --num_cores=1 --cores_per_alpha=all --tag=libd_chr1-chr1_all-2148982-2168981-dynamic-1corestotal-allcorepera-20240419-145021'\n",
      "Rscript scripts/CLI.R --outdir=./output_chr1_a2_caud/ --snp_data_path=/dcs04/lieber/statsgen/shizhong/michael/mwas/gwas//libd_chr1.pgen --methylation_data_path=/dcs04/lieber/statsgen/shizhong/michael/mwas/pheno/caud/out/chr1_all.rda --cov=/dcs04/lieber/statsgen/mnagle/mwas/full_covariates/all_caud.csv --verbose=FALSE --lambda_choice=1se --alphas=0.5 --allow_inefficient_parallelization=FALSE --n_fold=5 --window_sizes=10000 --save_evaluation_results_each_fold=FALSE --save_glmnet_object=FALSE --omit_folds_with_na_r=TRUE --methInput_rds_path=/dcs04/lieber/statsgen/mnagle/mwas/pheno/caud/out/chr1_all_2148982-2168981.rds --chunk1=1 --chunk2=20000 --cv_eval_mode=dynamic --num_cores=1 --cores_per_alpha=all --tag=libd_chr1-chr1_all-2148982-2168981-dynamic-1corestotal-allcorepera-20240419-145021\n"
     ]
    },
    {
     "name": "stderr",
     "output_type": "stream",
     "text": [
      "Sleeping for 181 seconds\n",
      "\n"
     ]
    },
    {
     "name": "stdout",
     "output_type": "stream",
     "text": [
      "\n",
      "[1] 219\n",
      "[1] \"Checking for files in:  ./output_chr1_a2_caud/\"\n",
      "[1] \"Using pattern:  libd_chr1-chr1_all-2168982-2188981-dynamic-1corestotal-allcorepera\"\n",
      "[1] \"Found files with specific pattern: \"\n",
      "character(0)\n",
      "\n",
      "#!/bin/bash\n",
      "#SBATCH --nodes=1\n",
      "#SBATCH --ntasks-per-node=1\n",
      "#SBATCH --cpus-per-task=1\n",
      "#SBATCH --mem-per-cpu=2G\n",
      "#SBATCH --output=slurm_output_libd_chr1-chr1_all-2168982-2188981-dynamic-1corestotal-allcorepera-20240419-145323.out\n",
      "#SBATCH --job-name=libd_chr1-chr1_all-2168982-2188981-dynamic-1corestotal-allcorepera-20240419-145323\n",
      "#SBATCH --time=48:00:00\n",
      "module load conda\n",
      "conda activate mwas\n",
      "echo 'Executing Rscript with arguments: Rscript scripts/CLI.R --outdir=./output_chr1_a2_caud/ --snp_data_path=/dcs04/lieber/statsgen/shizhong/michael/mwas/gwas//libd_chr1.pgen --methylation_data_path=/dcs04/lieber/statsgen/shizhong/michael/mwas/pheno/caud/out/chr1_all.rda --cov=/dcs04/lieber/statsgen/mnagle/mwas/full_covariates/all_caud.csv --verbose=FALSE --lambda_choice=1se --alphas=0.5 --allow_inefficient_parallelization=FALSE --n_fold=5 --window_sizes=10000 --save_evaluation_results_each_fold=FALSE --save_glmnet_object=FALSE --omit_folds_with_na_r=TRUE --methInput_rds_path=/dcs04/lieber/statsgen/mnagle/mwas/pheno/caud/out/chr1_all_2168982-2188981.rds --chunk1=1 --chunk2=20000 --cv_eval_mode=dynamic --num_cores=1 --cores_per_alpha=all --tag=libd_chr1-chr1_all-2168982-2188981-dynamic-1corestotal-allcorepera-20240419-145323'\n",
      "Rscript scripts/CLI.R --outdir=./output_chr1_a2_caud/ --snp_data_path=/dcs04/lieber/statsgen/shizhong/michael/mwas/gwas//libd_chr1.pgen --methylation_data_path=/dcs04/lieber/statsgen/shizhong/michael/mwas/pheno/caud/out/chr1_all.rda --cov=/dcs04/lieber/statsgen/mnagle/mwas/full_covariates/all_caud.csv --verbose=FALSE --lambda_choice=1se --alphas=0.5 --allow_inefficient_parallelization=FALSE --n_fold=5 --window_sizes=10000 --save_evaluation_results_each_fold=FALSE --save_glmnet_object=FALSE --omit_folds_with_na_r=TRUE --methInput_rds_path=/dcs04/lieber/statsgen/mnagle/mwas/pheno/caud/out/chr1_all_2168982-2188981.rds --chunk1=1 --chunk2=20000 --cv_eval_mode=dynamic --num_cores=1 --cores_per_alpha=all --tag=libd_chr1-chr1_all-2168982-2188981-dynamic-1corestotal-allcorepera-20240419-145323\n"
     ]
    },
    {
     "name": "stderr",
     "output_type": "stream",
     "text": [
      "Sleeping for 181 seconds\n",
      "\n"
     ]
    },
    {
     "name": "stdout",
     "output_type": "stream",
     "text": [
      "\n",
      "[1] 220\n",
      "[1] \"Checking for files in:  ./output_chr1_a2_caud/\"\n",
      "[1] \"Using pattern:  libd_chr1-chr1_all-2188982-2202702-dynamic-1corestotal-allcorepera\"\n",
      "[1] \"Found files with specific pattern: \"\n",
      "character(0)\n",
      "\n",
      "#!/bin/bash\n",
      "#SBATCH --nodes=1\n",
      "#SBATCH --ntasks-per-node=1\n",
      "#SBATCH --cpus-per-task=1\n",
      "#SBATCH --mem-per-cpu=2G\n",
      "#SBATCH --output=slurm_output_libd_chr1-chr1_all-2188982-2202702-dynamic-1corestotal-allcorepera-20240419-145624.out\n",
      "#SBATCH --job-name=libd_chr1-chr1_all-2188982-2202702-dynamic-1corestotal-allcorepera-20240419-145624\n",
      "#SBATCH --time=48:00:00\n",
      "module load conda\n",
      "conda activate mwas\n",
      "echo 'Executing Rscript with arguments: Rscript scripts/CLI.R --outdir=./output_chr1_a2_caud/ --snp_data_path=/dcs04/lieber/statsgen/shizhong/michael/mwas/gwas//libd_chr1.pgen --methylation_data_path=/dcs04/lieber/statsgen/shizhong/michael/mwas/pheno/caud/out/chr1_all.rda --cov=/dcs04/lieber/statsgen/mnagle/mwas/full_covariates/all_caud.csv --verbose=FALSE --lambda_choice=1se --alphas=0.5 --allow_inefficient_parallelization=FALSE --n_fold=5 --window_sizes=10000 --save_evaluation_results_each_fold=FALSE --save_glmnet_object=FALSE --omit_folds_with_na_r=TRUE --methInput_rds_path=/dcs04/lieber/statsgen/mnagle/mwas/pheno/caud/out/chr1_all_2188982-2202702.rds --chunk1=1 --chunk2=13721 --cv_eval_mode=dynamic --num_cores=1 --cores_per_alpha=all --tag=libd_chr1-chr1_all-2188982-2202702-dynamic-1corestotal-allcorepera-20240419-145624'\n",
      "Rscript scripts/CLI.R --outdir=./output_chr1_a2_caud/ --snp_data_path=/dcs04/lieber/statsgen/shizhong/michael/mwas/gwas//libd_chr1.pgen --methylation_data_path=/dcs04/lieber/statsgen/shizhong/michael/mwas/pheno/caud/out/chr1_all.rda --cov=/dcs04/lieber/statsgen/mnagle/mwas/full_covariates/all_caud.csv --verbose=FALSE --lambda_choice=1se --alphas=0.5 --allow_inefficient_parallelization=FALSE --n_fold=5 --window_sizes=10000 --save_evaluation_results_each_fold=FALSE --save_glmnet_object=FALSE --omit_folds_with_na_r=TRUE --methInput_rds_path=/dcs04/lieber/statsgen/mnagle/mwas/pheno/caud/out/chr1_all_2188982-2202702.rds --chunk1=1 --chunk2=13721 --cv_eval_mode=dynamic --num_cores=1 --cores_per_alpha=all --tag=libd_chr1-chr1_all-2188982-2202702-dynamic-1corestotal-allcorepera-20240419-145624\n"
     ]
    },
    {
     "name": "stderr",
     "output_type": "stream",
     "text": [
      "Sleeping for 181 seconds\n",
      "\n"
     ]
    },
    {
     "name": "stdout",
     "output_type": "stream",
     "text": [
      "\n",
      "[1] 221\n",
      "[1] \"Checking for files in:  ./output_chr1_a2_caud/\"\n",
      "[1] \"Using pattern:  libd_chr1-chr1_EA-8982-28981-dynamic-1corestotal-allcorepera\"\n",
      "[1] \"Found files with specific pattern: \"\n",
      "character(0)\n",
      "\n",
      "#!/bin/bash\n",
      "#SBATCH --nodes=1\n",
      "#SBATCH --ntasks-per-node=1\n",
      "#SBATCH --cpus-per-task=1\n",
      "#SBATCH --mem-per-cpu=2G\n",
      "#SBATCH --output=slurm_output_libd_chr1-chr1_EA-8982-28981-dynamic-1corestotal-allcorepera-20240419-145925.out\n",
      "#SBATCH --job-name=libd_chr1-chr1_EA-8982-28981-dynamic-1corestotal-allcorepera-20240419-145925\n",
      "#SBATCH --time=48:00:00\n",
      "module load conda\n",
      "conda activate mwas\n",
      "echo 'Executing Rscript with arguments: Rscript scripts/CLI.R --outdir=./output_chr1_a2_caud/ --snp_data_path=/dcs04/lieber/statsgen/shizhong/michael/mwas/gwas//libd_chr1.pgen --methylation_data_path=/dcs04/lieber/statsgen/shizhong/michael/mwas/pheno/caud/out/chr1_EA.rda --cov=/dcs04/lieber/statsgen/mnagle/mwas/full_covariates/EA_caud.csv --verbose=FALSE --lambda_choice=1se --alphas=0.5 --allow_inefficient_parallelization=FALSE --n_fold=5 --window_sizes=10000 --save_evaluation_results_each_fold=FALSE --save_glmnet_object=FALSE --omit_folds_with_na_r=TRUE --methInput_rds_path=/dcs04/lieber/statsgen/mnagle/mwas/pheno/caud/out/chr1_EA_8982-28981.rds --chunk1=1 --chunk2=20000 --cv_eval_mode=dynamic --num_cores=1 --cores_per_alpha=all --tag=libd_chr1-chr1_EA-8982-28981-dynamic-1corestotal-allcorepera-20240419-145925'\n",
      "Rscript scripts/CLI.R --outdir=./output_chr1_a2_caud/ --snp_data_path=/dcs04/lieber/statsgen/shizhong/michael/mwas/gwas//libd_chr1.pgen --methylation_data_path=/dcs04/lieber/statsgen/shizhong/michael/mwas/pheno/caud/out/chr1_EA.rda --cov=/dcs04/lieber/statsgen/mnagle/mwas/full_covariates/EA_caud.csv --verbose=FALSE --lambda_choice=1se --alphas=0.5 --allow_inefficient_parallelization=FALSE --n_fold=5 --window_sizes=10000 --save_evaluation_results_each_fold=FALSE --save_glmnet_object=FALSE --omit_folds_with_na_r=TRUE --methInput_rds_path=/dcs04/lieber/statsgen/mnagle/mwas/pheno/caud/out/chr1_EA_8982-28981.rds --chunk1=1 --chunk2=20000 --cv_eval_mode=dynamic --num_cores=1 --cores_per_alpha=all --tag=libd_chr1-chr1_EA-8982-28981-dynamic-1corestotal-allcorepera-20240419-145925\n"
     ]
    },
    {
     "name": "stderr",
     "output_type": "stream",
     "text": [
      "Sleeping for 181 seconds\n",
      "\n"
     ]
    },
    {
     "name": "stdout",
     "output_type": "stream",
     "text": [
      "\n",
      "[1] 222\n",
      "[1] \"Checking for files in:  ./output_chr1_a2_caud/\"\n",
      "[1] \"Using pattern:  libd_chr1-chr1_EA-28982-48981-dynamic-1corestotal-allcorepera\"\n",
      "[1] \"Found files with specific pattern: \"\n",
      "character(0)\n",
      "\n",
      "#!/bin/bash\n",
      "#SBATCH --nodes=1\n",
      "#SBATCH --ntasks-per-node=1\n",
      "#SBATCH --cpus-per-task=1\n",
      "#SBATCH --mem-per-cpu=2G\n",
      "#SBATCH --output=slurm_output_libd_chr1-chr1_EA-28982-48981-dynamic-1corestotal-allcorepera-20240419-150226.out\n",
      "#SBATCH --job-name=libd_chr1-chr1_EA-28982-48981-dynamic-1corestotal-allcorepera-20240419-150226\n",
      "#SBATCH --time=48:00:00\n",
      "module load conda\n",
      "conda activate mwas\n",
      "echo 'Executing Rscript with arguments: Rscript scripts/CLI.R --outdir=./output_chr1_a2_caud/ --snp_data_path=/dcs04/lieber/statsgen/shizhong/michael/mwas/gwas//libd_chr1.pgen --methylation_data_path=/dcs04/lieber/statsgen/shizhong/michael/mwas/pheno/caud/out/chr1_EA.rda --cov=/dcs04/lieber/statsgen/mnagle/mwas/full_covariates/EA_caud.csv --verbose=FALSE --lambda_choice=1se --alphas=0.5 --allow_inefficient_parallelization=FALSE --n_fold=5 --window_sizes=10000 --save_evaluation_results_each_fold=FALSE --save_glmnet_object=FALSE --omit_folds_with_na_r=TRUE --methInput_rds_path=/dcs04/lieber/statsgen/mnagle/mwas/pheno/caud/out/chr1_EA_28982-48981.rds --chunk1=1 --chunk2=20000 --cv_eval_mode=dynamic --num_cores=1 --cores_per_alpha=all --tag=libd_chr1-chr1_EA-28982-48981-dynamic-1corestotal-allcorepera-20240419-150226'\n",
      "Rscript scripts/CLI.R --outdir=./output_chr1_a2_caud/ --snp_data_path=/dcs04/lieber/statsgen/shizhong/michael/mwas/gwas//libd_chr1.pgen --methylation_data_path=/dcs04/lieber/statsgen/shizhong/michael/mwas/pheno/caud/out/chr1_EA.rda --cov=/dcs04/lieber/statsgen/mnagle/mwas/full_covariates/EA_caud.csv --verbose=FALSE --lambda_choice=1se --alphas=0.5 --allow_inefficient_parallelization=FALSE --n_fold=5 --window_sizes=10000 --save_evaluation_results_each_fold=FALSE --save_glmnet_object=FALSE --omit_folds_with_na_r=TRUE --methInput_rds_path=/dcs04/lieber/statsgen/mnagle/mwas/pheno/caud/out/chr1_EA_28982-48981.rds --chunk1=1 --chunk2=20000 --cv_eval_mode=dynamic --num_cores=1 --cores_per_alpha=all --tag=libd_chr1-chr1_EA-28982-48981-dynamic-1corestotal-allcorepera-20240419-150226\n"
     ]
    },
    {
     "name": "stderr",
     "output_type": "stream",
     "text": [
      "Sleeping for 181 seconds\n",
      "\n"
     ]
    },
    {
     "name": "stdout",
     "output_type": "stream",
     "text": [
      "\n",
      "[1] 223\n",
      "[1] \"Checking for files in:  ./output_chr1_a2_caud/\"\n",
      "[1] \"Using pattern:  libd_chr1-chr1_EA-48982-68981-dynamic-1corestotal-allcorepera\"\n",
      "[1] \"Found files with specific pattern: \"\n",
      "character(0)\n",
      "\n",
      "#!/bin/bash\n",
      "#SBATCH --nodes=1\n",
      "#SBATCH --ntasks-per-node=1\n",
      "#SBATCH --cpus-per-task=1\n",
      "#SBATCH --mem-per-cpu=2G\n",
      "#SBATCH --output=slurm_output_libd_chr1-chr1_EA-48982-68981-dynamic-1corestotal-allcorepera-20240419-150527.out\n",
      "#SBATCH --job-name=libd_chr1-chr1_EA-48982-68981-dynamic-1corestotal-allcorepera-20240419-150527\n",
      "#SBATCH --time=48:00:00\n",
      "module load conda\n",
      "conda activate mwas\n",
      "echo 'Executing Rscript with arguments: Rscript scripts/CLI.R --outdir=./output_chr1_a2_caud/ --snp_data_path=/dcs04/lieber/statsgen/shizhong/michael/mwas/gwas//libd_chr1.pgen --methylation_data_path=/dcs04/lieber/statsgen/shizhong/michael/mwas/pheno/caud/out/chr1_EA.rda --cov=/dcs04/lieber/statsgen/mnagle/mwas/full_covariates/EA_caud.csv --verbose=FALSE --lambda_choice=1se --alphas=0.5 --allow_inefficient_parallelization=FALSE --n_fold=5 --window_sizes=10000 --save_evaluation_results_each_fold=FALSE --save_glmnet_object=FALSE --omit_folds_with_na_r=TRUE --methInput_rds_path=/dcs04/lieber/statsgen/mnagle/mwas/pheno/caud/out/chr1_EA_48982-68981.rds --chunk1=1 --chunk2=20000 --cv_eval_mode=dynamic --num_cores=1 --cores_per_alpha=all --tag=libd_chr1-chr1_EA-48982-68981-dynamic-1corestotal-allcorepera-20240419-150527'\n",
      "Rscript scripts/CLI.R --outdir=./output_chr1_a2_caud/ --snp_data_path=/dcs04/lieber/statsgen/shizhong/michael/mwas/gwas//libd_chr1.pgen --methylation_data_path=/dcs04/lieber/statsgen/shizhong/michael/mwas/pheno/caud/out/chr1_EA.rda --cov=/dcs04/lieber/statsgen/mnagle/mwas/full_covariates/EA_caud.csv --verbose=FALSE --lambda_choice=1se --alphas=0.5 --allow_inefficient_parallelization=FALSE --n_fold=5 --window_sizes=10000 --save_evaluation_results_each_fold=FALSE --save_glmnet_object=FALSE --omit_folds_with_na_r=TRUE --methInput_rds_path=/dcs04/lieber/statsgen/mnagle/mwas/pheno/caud/out/chr1_EA_48982-68981.rds --chunk1=1 --chunk2=20000 --cv_eval_mode=dynamic --num_cores=1 --cores_per_alpha=all --tag=libd_chr1-chr1_EA-48982-68981-dynamic-1corestotal-allcorepera-20240419-150527\n"
     ]
    },
    {
     "name": "stderr",
     "output_type": "stream",
     "text": [
      "Sleeping for 181 seconds\n",
      "\n"
     ]
    },
    {
     "name": "stdout",
     "output_type": "stream",
     "text": [
      "\n",
      "[1] 224\n",
      "[1] \"Checking for files in:  ./output_chr1_a2_caud/\"\n",
      "[1] \"Using pattern:  libd_chr1-chr1_EA-68982-88981-dynamic-1corestotal-allcorepera\"\n",
      "[1] \"Found files with specific pattern: \"\n",
      "character(0)\n",
      "\n",
      "#!/bin/bash\n",
      "#SBATCH --nodes=1\n",
      "#SBATCH --ntasks-per-node=1\n",
      "#SBATCH --cpus-per-task=1\n",
      "#SBATCH --mem-per-cpu=2G\n",
      "#SBATCH --output=slurm_output_libd_chr1-chr1_EA-68982-88981-dynamic-1corestotal-allcorepera-20240419-150828.out\n",
      "#SBATCH --job-name=libd_chr1-chr1_EA-68982-88981-dynamic-1corestotal-allcorepera-20240419-150828\n",
      "#SBATCH --time=48:00:00\n",
      "module load conda\n",
      "conda activate mwas\n",
      "echo 'Executing Rscript with arguments: Rscript scripts/CLI.R --outdir=./output_chr1_a2_caud/ --snp_data_path=/dcs04/lieber/statsgen/shizhong/michael/mwas/gwas//libd_chr1.pgen --methylation_data_path=/dcs04/lieber/statsgen/shizhong/michael/mwas/pheno/caud/out/chr1_EA.rda --cov=/dcs04/lieber/statsgen/mnagle/mwas/full_covariates/EA_caud.csv --verbose=FALSE --lambda_choice=1se --alphas=0.5 --allow_inefficient_parallelization=FALSE --n_fold=5 --window_sizes=10000 --save_evaluation_results_each_fold=FALSE --save_glmnet_object=FALSE --omit_folds_with_na_r=TRUE --methInput_rds_path=/dcs04/lieber/statsgen/mnagle/mwas/pheno/caud/out/chr1_EA_68982-88981.rds --chunk1=1 --chunk2=20000 --cv_eval_mode=dynamic --num_cores=1 --cores_per_alpha=all --tag=libd_chr1-chr1_EA-68982-88981-dynamic-1corestotal-allcorepera-20240419-150828'\n",
      "Rscript scripts/CLI.R --outdir=./output_chr1_a2_caud/ --snp_data_path=/dcs04/lieber/statsgen/shizhong/michael/mwas/gwas//libd_chr1.pgen --methylation_data_path=/dcs04/lieber/statsgen/shizhong/michael/mwas/pheno/caud/out/chr1_EA.rda --cov=/dcs04/lieber/statsgen/mnagle/mwas/full_covariates/EA_caud.csv --verbose=FALSE --lambda_choice=1se --alphas=0.5 --allow_inefficient_parallelization=FALSE --n_fold=5 --window_sizes=10000 --save_evaluation_results_each_fold=FALSE --save_glmnet_object=FALSE --omit_folds_with_na_r=TRUE --methInput_rds_path=/dcs04/lieber/statsgen/mnagle/mwas/pheno/caud/out/chr1_EA_68982-88981.rds --chunk1=1 --chunk2=20000 --cv_eval_mode=dynamic --num_cores=1 --cores_per_alpha=all --tag=libd_chr1-chr1_EA-68982-88981-dynamic-1corestotal-allcorepera-20240419-150828\n"
     ]
    },
    {
     "name": "stderr",
     "output_type": "stream",
     "text": [
      "Sleeping for 181 seconds\n",
      "\n"
     ]
    },
    {
     "name": "stdout",
     "output_type": "stream",
     "text": [
      "\n",
      "[1] 225\n",
      "[1] \"Checking for files in:  ./output_chr1_a2_caud/\"\n",
      "[1] \"Using pattern:  libd_chr1-chr1_EA-88982-108981-dynamic-1corestotal-allcorepera\"\n",
      "[1] \"Found files with specific pattern: \"\n",
      "character(0)\n",
      "\n",
      "#!/bin/bash\n",
      "#SBATCH --nodes=1\n",
      "#SBATCH --ntasks-per-node=1\n",
      "#SBATCH --cpus-per-task=1\n",
      "#SBATCH --mem-per-cpu=2G\n",
      "#SBATCH --output=slurm_output_libd_chr1-chr1_EA-88982-108981-dynamic-1corestotal-allcorepera-20240419-151129.out\n",
      "#SBATCH --job-name=libd_chr1-chr1_EA-88982-108981-dynamic-1corestotal-allcorepera-20240419-151129\n",
      "#SBATCH --time=48:00:00\n",
      "module load conda\n",
      "conda activate mwas\n",
      "echo 'Executing Rscript with arguments: Rscript scripts/CLI.R --outdir=./output_chr1_a2_caud/ --snp_data_path=/dcs04/lieber/statsgen/shizhong/michael/mwas/gwas//libd_chr1.pgen --methylation_data_path=/dcs04/lieber/statsgen/shizhong/michael/mwas/pheno/caud/out/chr1_EA.rda --cov=/dcs04/lieber/statsgen/mnagle/mwas/full_covariates/EA_caud.csv --verbose=FALSE --lambda_choice=1se --alphas=0.5 --allow_inefficient_parallelization=FALSE --n_fold=5 --window_sizes=10000 --save_evaluation_results_each_fold=FALSE --save_glmnet_object=FALSE --omit_folds_with_na_r=TRUE --methInput_rds_path=/dcs04/lieber/statsgen/mnagle/mwas/pheno/caud/out/chr1_EA_88982-108981.rds --chunk1=1 --chunk2=20000 --cv_eval_mode=dynamic --num_cores=1 --cores_per_alpha=all --tag=libd_chr1-chr1_EA-88982-108981-dynamic-1corestotal-allcorepera-20240419-151129'\n",
      "Rscript scripts/CLI.R --outdir=./output_chr1_a2_caud/ --snp_data_path=/dcs04/lieber/statsgen/shizhong/michael/mwas/gwas//libd_chr1.pgen --methylation_data_path=/dcs04/lieber/statsgen/shizhong/michael/mwas/pheno/caud/out/chr1_EA.rda --cov=/dcs04/lieber/statsgen/mnagle/mwas/full_covariates/EA_caud.csv --verbose=FALSE --lambda_choice=1se --alphas=0.5 --allow_inefficient_parallelization=FALSE --n_fold=5 --window_sizes=10000 --save_evaluation_results_each_fold=FALSE --save_glmnet_object=FALSE --omit_folds_with_na_r=TRUE --methInput_rds_path=/dcs04/lieber/statsgen/mnagle/mwas/pheno/caud/out/chr1_EA_88982-108981.rds --chunk1=1 --chunk2=20000 --cv_eval_mode=dynamic --num_cores=1 --cores_per_alpha=all --tag=libd_chr1-chr1_EA-88982-108981-dynamic-1corestotal-allcorepera-20240419-151129\n"
     ]
    },
    {
     "name": "stderr",
     "output_type": "stream",
     "text": [
      "Sleeping for 181 seconds\n",
      "\n"
     ]
    },
    {
     "name": "stdout",
     "output_type": "stream",
     "text": [
      "\n",
      "[1] 226\n",
      "[1] \"Checking for files in:  ./output_chr1_a2_caud/\"\n",
      "[1] \"Using pattern:  libd_chr1-chr1_EA-108982-128981-dynamic-1corestotal-allcorepera\"\n",
      "[1] \"Found files with specific pattern: \"\n",
      "character(0)\n",
      "\n",
      "#!/bin/bash\n",
      "#SBATCH --nodes=1\n",
      "#SBATCH --ntasks-per-node=1\n",
      "#SBATCH --cpus-per-task=1\n",
      "#SBATCH --mem-per-cpu=2G\n",
      "#SBATCH --output=slurm_output_libd_chr1-chr1_EA-108982-128981-dynamic-1corestotal-allcorepera-20240419-151430.out\n",
      "#SBATCH --job-name=libd_chr1-chr1_EA-108982-128981-dynamic-1corestotal-allcorepera-20240419-151430\n",
      "#SBATCH --time=48:00:00\n",
      "module load conda\n",
      "conda activate mwas\n",
      "echo 'Executing Rscript with arguments: Rscript scripts/CLI.R --outdir=./output_chr1_a2_caud/ --snp_data_path=/dcs04/lieber/statsgen/shizhong/michael/mwas/gwas//libd_chr1.pgen --methylation_data_path=/dcs04/lieber/statsgen/shizhong/michael/mwas/pheno/caud/out/chr1_EA.rda --cov=/dcs04/lieber/statsgen/mnagle/mwas/full_covariates/EA_caud.csv --verbose=FALSE --lambda_choice=1se --alphas=0.5 --allow_inefficient_parallelization=FALSE --n_fold=5 --window_sizes=10000 --save_evaluation_results_each_fold=FALSE --save_glmnet_object=FALSE --omit_folds_with_na_r=TRUE --methInput_rds_path=/dcs04/lieber/statsgen/mnagle/mwas/pheno/caud/out/chr1_EA_108982-128981.rds --chunk1=1 --chunk2=20000 --cv_eval_mode=dynamic --num_cores=1 --cores_per_alpha=all --tag=libd_chr1-chr1_EA-108982-128981-dynamic-1corestotal-allcorepera-20240419-151430'\n",
      "Rscript scripts/CLI.R --outdir=./output_chr1_a2_caud/ --snp_data_path=/dcs04/lieber/statsgen/shizhong/michael/mwas/gwas//libd_chr1.pgen --methylation_data_path=/dcs04/lieber/statsgen/shizhong/michael/mwas/pheno/caud/out/chr1_EA.rda --cov=/dcs04/lieber/statsgen/mnagle/mwas/full_covariates/EA_caud.csv --verbose=FALSE --lambda_choice=1se --alphas=0.5 --allow_inefficient_parallelization=FALSE --n_fold=5 --window_sizes=10000 --save_evaluation_results_each_fold=FALSE --save_glmnet_object=FALSE --omit_folds_with_na_r=TRUE --methInput_rds_path=/dcs04/lieber/statsgen/mnagle/mwas/pheno/caud/out/chr1_EA_108982-128981.rds --chunk1=1 --chunk2=20000 --cv_eval_mode=dynamic --num_cores=1 --cores_per_alpha=all --tag=libd_chr1-chr1_EA-108982-128981-dynamic-1corestotal-allcorepera-20240419-151430\n"
     ]
    },
    {
     "name": "stderr",
     "output_type": "stream",
     "text": [
      "Sleeping for 181 seconds\n",
      "\n"
     ]
    },
    {
     "name": "stdout",
     "output_type": "stream",
     "text": [
      "\n",
      "[1] 227\n",
      "[1] \"Checking for files in:  ./output_chr1_a2_caud/\"\n",
      "[1] \"Using pattern:  libd_chr1-chr1_EA-128982-148981-dynamic-1corestotal-allcorepera\"\n",
      "[1] \"Found files with specific pattern: \"\n",
      "character(0)\n",
      "\n",
      "#!/bin/bash\n",
      "#SBATCH --nodes=1\n",
      "#SBATCH --ntasks-per-node=1\n",
      "#SBATCH --cpus-per-task=1\n",
      "#SBATCH --mem-per-cpu=2G\n",
      "#SBATCH --output=slurm_output_libd_chr1-chr1_EA-128982-148981-dynamic-1corestotal-allcorepera-20240419-151731.out\n",
      "#SBATCH --job-name=libd_chr1-chr1_EA-128982-148981-dynamic-1corestotal-allcorepera-20240419-151731\n",
      "#SBATCH --time=48:00:00\n",
      "module load conda\n",
      "conda activate mwas\n",
      "echo 'Executing Rscript with arguments: Rscript scripts/CLI.R --outdir=./output_chr1_a2_caud/ --snp_data_path=/dcs04/lieber/statsgen/shizhong/michael/mwas/gwas//libd_chr1.pgen --methylation_data_path=/dcs04/lieber/statsgen/shizhong/michael/mwas/pheno/caud/out/chr1_EA.rda --cov=/dcs04/lieber/statsgen/mnagle/mwas/full_covariates/EA_caud.csv --verbose=FALSE --lambda_choice=1se --alphas=0.5 --allow_inefficient_parallelization=FALSE --n_fold=5 --window_sizes=10000 --save_evaluation_results_each_fold=FALSE --save_glmnet_object=FALSE --omit_folds_with_na_r=TRUE --methInput_rds_path=/dcs04/lieber/statsgen/mnagle/mwas/pheno/caud/out/chr1_EA_128982-148981.rds --chunk1=1 --chunk2=20000 --cv_eval_mode=dynamic --num_cores=1 --cores_per_alpha=all --tag=libd_chr1-chr1_EA-128982-148981-dynamic-1corestotal-allcorepera-20240419-151731'\n",
      "Rscript scripts/CLI.R --outdir=./output_chr1_a2_caud/ --snp_data_path=/dcs04/lieber/statsgen/shizhong/michael/mwas/gwas//libd_chr1.pgen --methylation_data_path=/dcs04/lieber/statsgen/shizhong/michael/mwas/pheno/caud/out/chr1_EA.rda --cov=/dcs04/lieber/statsgen/mnagle/mwas/full_covariates/EA_caud.csv --verbose=FALSE --lambda_choice=1se --alphas=0.5 --allow_inefficient_parallelization=FALSE --n_fold=5 --window_sizes=10000 --save_evaluation_results_each_fold=FALSE --save_glmnet_object=FALSE --omit_folds_with_na_r=TRUE --methInput_rds_path=/dcs04/lieber/statsgen/mnagle/mwas/pheno/caud/out/chr1_EA_128982-148981.rds --chunk1=1 --chunk2=20000 --cv_eval_mode=dynamic --num_cores=1 --cores_per_alpha=all --tag=libd_chr1-chr1_EA-128982-148981-dynamic-1corestotal-allcorepera-20240419-151731\n"
     ]
    },
    {
     "name": "stderr",
     "output_type": "stream",
     "text": [
      "Sleeping for 181 seconds\n",
      "\n"
     ]
    },
    {
     "name": "stdout",
     "output_type": "stream",
     "text": [
      "\n",
      "[1] 228\n",
      "[1] \"Checking for files in:  ./output_chr1_a2_caud/\"\n",
      "[1] \"Using pattern:  libd_chr1-chr1_EA-148982-168981-dynamic-1corestotal-allcorepera\"\n",
      "[1] \"Found files with specific pattern: \"\n",
      "character(0)\n",
      "\n",
      "#!/bin/bash\n",
      "#SBATCH --nodes=1\n",
      "#SBATCH --ntasks-per-node=1\n",
      "#SBATCH --cpus-per-task=1\n",
      "#SBATCH --mem-per-cpu=2G\n",
      "#SBATCH --output=slurm_output_libd_chr1-chr1_EA-148982-168981-dynamic-1corestotal-allcorepera-20240419-152033.out\n",
      "#SBATCH --job-name=libd_chr1-chr1_EA-148982-168981-dynamic-1corestotal-allcorepera-20240419-152033\n",
      "#SBATCH --time=48:00:00\n",
      "module load conda\n",
      "conda activate mwas\n",
      "echo 'Executing Rscript with arguments: Rscript scripts/CLI.R --outdir=./output_chr1_a2_caud/ --snp_data_path=/dcs04/lieber/statsgen/shizhong/michael/mwas/gwas//libd_chr1.pgen --methylation_data_path=/dcs04/lieber/statsgen/shizhong/michael/mwas/pheno/caud/out/chr1_EA.rda --cov=/dcs04/lieber/statsgen/mnagle/mwas/full_covariates/EA_caud.csv --verbose=FALSE --lambda_choice=1se --alphas=0.5 --allow_inefficient_parallelization=FALSE --n_fold=5 --window_sizes=10000 --save_evaluation_results_each_fold=FALSE --save_glmnet_object=FALSE --omit_folds_with_na_r=TRUE --methInput_rds_path=/dcs04/lieber/statsgen/mnagle/mwas/pheno/caud/out/chr1_EA_148982-168981.rds --chunk1=1 --chunk2=20000 --cv_eval_mode=dynamic --num_cores=1 --cores_per_alpha=all --tag=libd_chr1-chr1_EA-148982-168981-dynamic-1corestotal-allcorepera-20240419-152033'\n",
      "Rscript scripts/CLI.R --outdir=./output_chr1_a2_caud/ --snp_data_path=/dcs04/lieber/statsgen/shizhong/michael/mwas/gwas//libd_chr1.pgen --methylation_data_path=/dcs04/lieber/statsgen/shizhong/michael/mwas/pheno/caud/out/chr1_EA.rda --cov=/dcs04/lieber/statsgen/mnagle/mwas/full_covariates/EA_caud.csv --verbose=FALSE --lambda_choice=1se --alphas=0.5 --allow_inefficient_parallelization=FALSE --n_fold=5 --window_sizes=10000 --save_evaluation_results_each_fold=FALSE --save_glmnet_object=FALSE --omit_folds_with_na_r=TRUE --methInput_rds_path=/dcs04/lieber/statsgen/mnagle/mwas/pheno/caud/out/chr1_EA_148982-168981.rds --chunk1=1 --chunk2=20000 --cv_eval_mode=dynamic --num_cores=1 --cores_per_alpha=all --tag=libd_chr1-chr1_EA-148982-168981-dynamic-1corestotal-allcorepera-20240419-152033\n"
     ]
    },
    {
     "name": "stderr",
     "output_type": "stream",
     "text": [
      "Sleeping for 181 seconds\n",
      "\n"
     ]
    },
    {
     "name": "stdout",
     "output_type": "stream",
     "text": [
      "\n",
      "[1] 229\n",
      "[1] \"Checking for files in:  ./output_chr1_a2_caud/\"\n",
      "[1] \"Using pattern:  libd_chr1-chr1_EA-168982-188981-dynamic-1corestotal-allcorepera\"\n",
      "[1] \"Found files with specific pattern: \"\n",
      "character(0)\n",
      "\n",
      "#!/bin/bash\n",
      "#SBATCH --nodes=1\n",
      "#SBATCH --ntasks-per-node=1\n",
      "#SBATCH --cpus-per-task=1\n",
      "#SBATCH --mem-per-cpu=2G\n",
      "#SBATCH --output=slurm_output_libd_chr1-chr1_EA-168982-188981-dynamic-1corestotal-allcorepera-20240419-152334.out\n",
      "#SBATCH --job-name=libd_chr1-chr1_EA-168982-188981-dynamic-1corestotal-allcorepera-20240419-152334\n",
      "#SBATCH --time=48:00:00\n",
      "module load conda\n",
      "conda activate mwas\n",
      "echo 'Executing Rscript with arguments: Rscript scripts/CLI.R --outdir=./output_chr1_a2_caud/ --snp_data_path=/dcs04/lieber/statsgen/shizhong/michael/mwas/gwas//libd_chr1.pgen --methylation_data_path=/dcs04/lieber/statsgen/shizhong/michael/mwas/pheno/caud/out/chr1_EA.rda --cov=/dcs04/lieber/statsgen/mnagle/mwas/full_covariates/EA_caud.csv --verbose=FALSE --lambda_choice=1se --alphas=0.5 --allow_inefficient_parallelization=FALSE --n_fold=5 --window_sizes=10000 --save_evaluation_results_each_fold=FALSE --save_glmnet_object=FALSE --omit_folds_with_na_r=TRUE --methInput_rds_path=/dcs04/lieber/statsgen/mnagle/mwas/pheno/caud/out/chr1_EA_168982-188981.rds --chunk1=1 --chunk2=20000 --cv_eval_mode=dynamic --num_cores=1 --cores_per_alpha=all --tag=libd_chr1-chr1_EA-168982-188981-dynamic-1corestotal-allcorepera-20240419-152334'\n",
      "Rscript scripts/CLI.R --outdir=./output_chr1_a2_caud/ --snp_data_path=/dcs04/lieber/statsgen/shizhong/michael/mwas/gwas//libd_chr1.pgen --methylation_data_path=/dcs04/lieber/statsgen/shizhong/michael/mwas/pheno/caud/out/chr1_EA.rda --cov=/dcs04/lieber/statsgen/mnagle/mwas/full_covariates/EA_caud.csv --verbose=FALSE --lambda_choice=1se --alphas=0.5 --allow_inefficient_parallelization=FALSE --n_fold=5 --window_sizes=10000 --save_evaluation_results_each_fold=FALSE --save_glmnet_object=FALSE --omit_folds_with_na_r=TRUE --methInput_rds_path=/dcs04/lieber/statsgen/mnagle/mwas/pheno/caud/out/chr1_EA_168982-188981.rds --chunk1=1 --chunk2=20000 --cv_eval_mode=dynamic --num_cores=1 --cores_per_alpha=all --tag=libd_chr1-chr1_EA-168982-188981-dynamic-1corestotal-allcorepera-20240419-152334\n"
     ]
    },
    {
     "name": "stderr",
     "output_type": "stream",
     "text": [
      "Sleeping for 181 seconds\n",
      "\n"
     ]
    },
    {
     "name": "stdout",
     "output_type": "stream",
     "text": [
      "\n",
      "[1] 230\n",
      "[1] \"Checking for files in:  ./output_chr1_a2_caud/\"\n",
      "[1] \"Using pattern:  libd_chr1-chr1_EA-188982-208981-dynamic-1corestotal-allcorepera\"\n",
      "[1] \"Found files with specific pattern: \"\n",
      "character(0)\n",
      "\n",
      "#!/bin/bash\n",
      "#SBATCH --nodes=1\n",
      "#SBATCH --ntasks-per-node=1\n",
      "#SBATCH --cpus-per-task=1\n",
      "#SBATCH --mem-per-cpu=2G\n",
      "#SBATCH --output=slurm_output_libd_chr1-chr1_EA-188982-208981-dynamic-1corestotal-allcorepera-20240419-152635.out\n",
      "#SBATCH --job-name=libd_chr1-chr1_EA-188982-208981-dynamic-1corestotal-allcorepera-20240419-152635\n",
      "#SBATCH --time=48:00:00\n",
      "module load conda\n",
      "conda activate mwas\n",
      "echo 'Executing Rscript with arguments: Rscript scripts/CLI.R --outdir=./output_chr1_a2_caud/ --snp_data_path=/dcs04/lieber/statsgen/shizhong/michael/mwas/gwas//libd_chr1.pgen --methylation_data_path=/dcs04/lieber/statsgen/shizhong/michael/mwas/pheno/caud/out/chr1_EA.rda --cov=/dcs04/lieber/statsgen/mnagle/mwas/full_covariates/EA_caud.csv --verbose=FALSE --lambda_choice=1se --alphas=0.5 --allow_inefficient_parallelization=FALSE --n_fold=5 --window_sizes=10000 --save_evaluation_results_each_fold=FALSE --save_glmnet_object=FALSE --omit_folds_with_na_r=TRUE --methInput_rds_path=/dcs04/lieber/statsgen/mnagle/mwas/pheno/caud/out/chr1_EA_188982-208981.rds --chunk1=1 --chunk2=20000 --cv_eval_mode=dynamic --num_cores=1 --cores_per_alpha=all --tag=libd_chr1-chr1_EA-188982-208981-dynamic-1corestotal-allcorepera-20240419-152635'\n",
      "Rscript scripts/CLI.R --outdir=./output_chr1_a2_caud/ --snp_data_path=/dcs04/lieber/statsgen/shizhong/michael/mwas/gwas//libd_chr1.pgen --methylation_data_path=/dcs04/lieber/statsgen/shizhong/michael/mwas/pheno/caud/out/chr1_EA.rda --cov=/dcs04/lieber/statsgen/mnagle/mwas/full_covariates/EA_caud.csv --verbose=FALSE --lambda_choice=1se --alphas=0.5 --allow_inefficient_parallelization=FALSE --n_fold=5 --window_sizes=10000 --save_evaluation_results_each_fold=FALSE --save_glmnet_object=FALSE --omit_folds_with_na_r=TRUE --methInput_rds_path=/dcs04/lieber/statsgen/mnagle/mwas/pheno/caud/out/chr1_EA_188982-208981.rds --chunk1=1 --chunk2=20000 --cv_eval_mode=dynamic --num_cores=1 --cores_per_alpha=all --tag=libd_chr1-chr1_EA-188982-208981-dynamic-1corestotal-allcorepera-20240419-152635\n"
     ]
    },
    {
     "name": "stderr",
     "output_type": "stream",
     "text": [
      "Sleeping for 181 seconds\n",
      "\n"
     ]
    },
    {
     "name": "stdout",
     "output_type": "stream",
     "text": [
      "\n",
      "[1] 231\n",
      "[1] \"Checking for files in:  ./output_chr1_a2_caud/\"\n",
      "[1] \"Using pattern:  libd_chr1-chr1_EA-208982-228981-dynamic-1corestotal-allcorepera\"\n",
      "[1] \"Found files with specific pattern: \"\n",
      "character(0)\n",
      "\n",
      "#!/bin/bash\n",
      "#SBATCH --nodes=1\n",
      "#SBATCH --ntasks-per-node=1\n",
      "#SBATCH --cpus-per-task=1\n",
      "#SBATCH --mem-per-cpu=2G\n",
      "#SBATCH --output=slurm_output_libd_chr1-chr1_EA-208982-228981-dynamic-1corestotal-allcorepera-20240419-152936.out\n",
      "#SBATCH --job-name=libd_chr1-chr1_EA-208982-228981-dynamic-1corestotal-allcorepera-20240419-152936\n",
      "#SBATCH --time=48:00:00\n",
      "module load conda\n",
      "conda activate mwas\n",
      "echo 'Executing Rscript with arguments: Rscript scripts/CLI.R --outdir=./output_chr1_a2_caud/ --snp_data_path=/dcs04/lieber/statsgen/shizhong/michael/mwas/gwas//libd_chr1.pgen --methylation_data_path=/dcs04/lieber/statsgen/shizhong/michael/mwas/pheno/caud/out/chr1_EA.rda --cov=/dcs04/lieber/statsgen/mnagle/mwas/full_covariates/EA_caud.csv --verbose=FALSE --lambda_choice=1se --alphas=0.5 --allow_inefficient_parallelization=FALSE --n_fold=5 --window_sizes=10000 --save_evaluation_results_each_fold=FALSE --save_glmnet_object=FALSE --omit_folds_with_na_r=TRUE --methInput_rds_path=/dcs04/lieber/statsgen/mnagle/mwas/pheno/caud/out/chr1_EA_208982-228981.rds --chunk1=1 --chunk2=20000 --cv_eval_mode=dynamic --num_cores=1 --cores_per_alpha=all --tag=libd_chr1-chr1_EA-208982-228981-dynamic-1corestotal-allcorepera-20240419-152936'\n",
      "Rscript scripts/CLI.R --outdir=./output_chr1_a2_caud/ --snp_data_path=/dcs04/lieber/statsgen/shizhong/michael/mwas/gwas//libd_chr1.pgen --methylation_data_path=/dcs04/lieber/statsgen/shizhong/michael/mwas/pheno/caud/out/chr1_EA.rda --cov=/dcs04/lieber/statsgen/mnagle/mwas/full_covariates/EA_caud.csv --verbose=FALSE --lambda_choice=1se --alphas=0.5 --allow_inefficient_parallelization=FALSE --n_fold=5 --window_sizes=10000 --save_evaluation_results_each_fold=FALSE --save_glmnet_object=FALSE --omit_folds_with_na_r=TRUE --methInput_rds_path=/dcs04/lieber/statsgen/mnagle/mwas/pheno/caud/out/chr1_EA_208982-228981.rds --chunk1=1 --chunk2=20000 --cv_eval_mode=dynamic --num_cores=1 --cores_per_alpha=all --tag=libd_chr1-chr1_EA-208982-228981-dynamic-1corestotal-allcorepera-20240419-152936\n"
     ]
    },
    {
     "name": "stderr",
     "output_type": "stream",
     "text": [
      "Sleeping for 181 seconds\n",
      "\n"
     ]
    },
    {
     "name": "stdout",
     "output_type": "stream",
     "text": [
      "\n",
      "[1] 232\n",
      "[1] \"Checking for files in:  ./output_chr1_a2_caud/\"\n",
      "[1] \"Using pattern:  libd_chr1-chr1_EA-228982-248981-dynamic-1corestotal-allcorepera\"\n",
      "[1] \"Found files with specific pattern: \"\n",
      "character(0)\n",
      "\n",
      "#!/bin/bash\n",
      "#SBATCH --nodes=1\n",
      "#SBATCH --ntasks-per-node=1\n",
      "#SBATCH --cpus-per-task=1\n",
      "#SBATCH --mem-per-cpu=2G\n",
      "#SBATCH --output=slurm_output_libd_chr1-chr1_EA-228982-248981-dynamic-1corestotal-allcorepera-20240419-153237.out\n",
      "#SBATCH --job-name=libd_chr1-chr1_EA-228982-248981-dynamic-1corestotal-allcorepera-20240419-153237\n",
      "#SBATCH --time=48:00:00\n",
      "module load conda\n",
      "conda activate mwas\n",
      "echo 'Executing Rscript with arguments: Rscript scripts/CLI.R --outdir=./output_chr1_a2_caud/ --snp_data_path=/dcs04/lieber/statsgen/shizhong/michael/mwas/gwas//libd_chr1.pgen --methylation_data_path=/dcs04/lieber/statsgen/shizhong/michael/mwas/pheno/caud/out/chr1_EA.rda --cov=/dcs04/lieber/statsgen/mnagle/mwas/full_covariates/EA_caud.csv --verbose=FALSE --lambda_choice=1se --alphas=0.5 --allow_inefficient_parallelization=FALSE --n_fold=5 --window_sizes=10000 --save_evaluation_results_each_fold=FALSE --save_glmnet_object=FALSE --omit_folds_with_na_r=TRUE --methInput_rds_path=/dcs04/lieber/statsgen/mnagle/mwas/pheno/caud/out/chr1_EA_228982-248981.rds --chunk1=1 --chunk2=20000 --cv_eval_mode=dynamic --num_cores=1 --cores_per_alpha=all --tag=libd_chr1-chr1_EA-228982-248981-dynamic-1corestotal-allcorepera-20240419-153237'\n",
      "Rscript scripts/CLI.R --outdir=./output_chr1_a2_caud/ --snp_data_path=/dcs04/lieber/statsgen/shizhong/michael/mwas/gwas//libd_chr1.pgen --methylation_data_path=/dcs04/lieber/statsgen/shizhong/michael/mwas/pheno/caud/out/chr1_EA.rda --cov=/dcs04/lieber/statsgen/mnagle/mwas/full_covariates/EA_caud.csv --verbose=FALSE --lambda_choice=1se --alphas=0.5 --allow_inefficient_parallelization=FALSE --n_fold=5 --window_sizes=10000 --save_evaluation_results_each_fold=FALSE --save_glmnet_object=FALSE --omit_folds_with_na_r=TRUE --methInput_rds_path=/dcs04/lieber/statsgen/mnagle/mwas/pheno/caud/out/chr1_EA_228982-248981.rds --chunk1=1 --chunk2=20000 --cv_eval_mode=dynamic --num_cores=1 --cores_per_alpha=all --tag=libd_chr1-chr1_EA-228982-248981-dynamic-1corestotal-allcorepera-20240419-153237\n"
     ]
    },
    {
     "name": "stderr",
     "output_type": "stream",
     "text": [
      "Sleeping for 181 seconds\n",
      "\n"
     ]
    },
    {
     "name": "stdout",
     "output_type": "stream",
     "text": [
      "\n",
      "[1] 233\n",
      "[1] \"Checking for files in:  ./output_chr1_a2_caud/\"\n",
      "[1] \"Using pattern:  libd_chr1-chr1_EA-248982-268981-dynamic-1corestotal-allcorepera\"\n",
      "[1] \"Found files with specific pattern: \"\n",
      "character(0)\n",
      "\n",
      "#!/bin/bash\n",
      "#SBATCH --nodes=1\n",
      "#SBATCH --ntasks-per-node=1\n",
      "#SBATCH --cpus-per-task=1\n",
      "#SBATCH --mem-per-cpu=2G\n",
      "#SBATCH --output=slurm_output_libd_chr1-chr1_EA-248982-268981-dynamic-1corestotal-allcorepera-20240419-153538.out\n",
      "#SBATCH --job-name=libd_chr1-chr1_EA-248982-268981-dynamic-1corestotal-allcorepera-20240419-153538\n",
      "#SBATCH --time=48:00:00\n",
      "module load conda\n",
      "conda activate mwas\n",
      "echo 'Executing Rscript with arguments: Rscript scripts/CLI.R --outdir=./output_chr1_a2_caud/ --snp_data_path=/dcs04/lieber/statsgen/shizhong/michael/mwas/gwas//libd_chr1.pgen --methylation_data_path=/dcs04/lieber/statsgen/shizhong/michael/mwas/pheno/caud/out/chr1_EA.rda --cov=/dcs04/lieber/statsgen/mnagle/mwas/full_covariates/EA_caud.csv --verbose=FALSE --lambda_choice=1se --alphas=0.5 --allow_inefficient_parallelization=FALSE --n_fold=5 --window_sizes=10000 --save_evaluation_results_each_fold=FALSE --save_glmnet_object=FALSE --omit_folds_with_na_r=TRUE --methInput_rds_path=/dcs04/lieber/statsgen/mnagle/mwas/pheno/caud/out/chr1_EA_248982-268981.rds --chunk1=1 --chunk2=20000 --cv_eval_mode=dynamic --num_cores=1 --cores_per_alpha=all --tag=libd_chr1-chr1_EA-248982-268981-dynamic-1corestotal-allcorepera-20240419-153538'\n",
      "Rscript scripts/CLI.R --outdir=./output_chr1_a2_caud/ --snp_data_path=/dcs04/lieber/statsgen/shizhong/michael/mwas/gwas//libd_chr1.pgen --methylation_data_path=/dcs04/lieber/statsgen/shizhong/michael/mwas/pheno/caud/out/chr1_EA.rda --cov=/dcs04/lieber/statsgen/mnagle/mwas/full_covariates/EA_caud.csv --verbose=FALSE --lambda_choice=1se --alphas=0.5 --allow_inefficient_parallelization=FALSE --n_fold=5 --window_sizes=10000 --save_evaluation_results_each_fold=FALSE --save_glmnet_object=FALSE --omit_folds_with_na_r=TRUE --methInput_rds_path=/dcs04/lieber/statsgen/mnagle/mwas/pheno/caud/out/chr1_EA_248982-268981.rds --chunk1=1 --chunk2=20000 --cv_eval_mode=dynamic --num_cores=1 --cores_per_alpha=all --tag=libd_chr1-chr1_EA-248982-268981-dynamic-1corestotal-allcorepera-20240419-153538\n"
     ]
    },
    {
     "name": "stderr",
     "output_type": "stream",
     "text": [
      "Sleeping for 181 seconds\n",
      "\n"
     ]
    },
    {
     "name": "stdout",
     "output_type": "stream",
     "text": [
      "\n",
      "[1] 234\n",
      "[1] \"Checking for files in:  ./output_chr1_a2_caud/\"\n",
      "[1] \"Using pattern:  libd_chr1-chr1_EA-268982-288981-dynamic-1corestotal-allcorepera\"\n",
      "[1] \"Found files with specific pattern: \"\n",
      "character(0)\n",
      "\n",
      "#!/bin/bash\n",
      "#SBATCH --nodes=1\n",
      "#SBATCH --ntasks-per-node=1\n",
      "#SBATCH --cpus-per-task=1\n",
      "#SBATCH --mem-per-cpu=2G\n",
      "#SBATCH --output=slurm_output_libd_chr1-chr1_EA-268982-288981-dynamic-1corestotal-allcorepera-20240419-153839.out\n",
      "#SBATCH --job-name=libd_chr1-chr1_EA-268982-288981-dynamic-1corestotal-allcorepera-20240419-153839\n",
      "#SBATCH --time=48:00:00\n",
      "module load conda\n",
      "conda activate mwas\n",
      "echo 'Executing Rscript with arguments: Rscript scripts/CLI.R --outdir=./output_chr1_a2_caud/ --snp_data_path=/dcs04/lieber/statsgen/shizhong/michael/mwas/gwas//libd_chr1.pgen --methylation_data_path=/dcs04/lieber/statsgen/shizhong/michael/mwas/pheno/caud/out/chr1_EA.rda --cov=/dcs04/lieber/statsgen/mnagle/mwas/full_covariates/EA_caud.csv --verbose=FALSE --lambda_choice=1se --alphas=0.5 --allow_inefficient_parallelization=FALSE --n_fold=5 --window_sizes=10000 --save_evaluation_results_each_fold=FALSE --save_glmnet_object=FALSE --omit_folds_with_na_r=TRUE --methInput_rds_path=/dcs04/lieber/statsgen/mnagle/mwas/pheno/caud/out/chr1_EA_268982-288981.rds --chunk1=1 --chunk2=20000 --cv_eval_mode=dynamic --num_cores=1 --cores_per_alpha=all --tag=libd_chr1-chr1_EA-268982-288981-dynamic-1corestotal-allcorepera-20240419-153839'\n",
      "Rscript scripts/CLI.R --outdir=./output_chr1_a2_caud/ --snp_data_path=/dcs04/lieber/statsgen/shizhong/michael/mwas/gwas//libd_chr1.pgen --methylation_data_path=/dcs04/lieber/statsgen/shizhong/michael/mwas/pheno/caud/out/chr1_EA.rda --cov=/dcs04/lieber/statsgen/mnagle/mwas/full_covariates/EA_caud.csv --verbose=FALSE --lambda_choice=1se --alphas=0.5 --allow_inefficient_parallelization=FALSE --n_fold=5 --window_sizes=10000 --save_evaluation_results_each_fold=FALSE --save_glmnet_object=FALSE --omit_folds_with_na_r=TRUE --methInput_rds_path=/dcs04/lieber/statsgen/mnagle/mwas/pheno/caud/out/chr1_EA_268982-288981.rds --chunk1=1 --chunk2=20000 --cv_eval_mode=dynamic --num_cores=1 --cores_per_alpha=all --tag=libd_chr1-chr1_EA-268982-288981-dynamic-1corestotal-allcorepera-20240419-153839\n"
     ]
    },
    {
     "name": "stderr",
     "output_type": "stream",
     "text": [
      "Sleeping for 181 seconds\n",
      "\n"
     ]
    },
    {
     "name": "stdout",
     "output_type": "stream",
     "text": [
      "\n",
      "[1] 235\n",
      "[1] \"Checking for files in:  ./output_chr1_a2_caud/\"\n",
      "[1] \"Using pattern:  libd_chr1-chr1_EA-288982-308981-dynamic-1corestotal-allcorepera\"\n",
      "[1] \"Found files with specific pattern: \"\n",
      "character(0)\n",
      "\n",
      "#!/bin/bash\n",
      "#SBATCH --nodes=1\n",
      "#SBATCH --ntasks-per-node=1\n",
      "#SBATCH --cpus-per-task=1\n",
      "#SBATCH --mem-per-cpu=2G\n",
      "#SBATCH --output=slurm_output_libd_chr1-chr1_EA-288982-308981-dynamic-1corestotal-allcorepera-20240419-154141.out\n",
      "#SBATCH --job-name=libd_chr1-chr1_EA-288982-308981-dynamic-1corestotal-allcorepera-20240419-154141\n",
      "#SBATCH --time=48:00:00\n",
      "module load conda\n",
      "conda activate mwas\n",
      "echo 'Executing Rscript with arguments: Rscript scripts/CLI.R --outdir=./output_chr1_a2_caud/ --snp_data_path=/dcs04/lieber/statsgen/shizhong/michael/mwas/gwas//libd_chr1.pgen --methylation_data_path=/dcs04/lieber/statsgen/shizhong/michael/mwas/pheno/caud/out/chr1_EA.rda --cov=/dcs04/lieber/statsgen/mnagle/mwas/full_covariates/EA_caud.csv --verbose=FALSE --lambda_choice=1se --alphas=0.5 --allow_inefficient_parallelization=FALSE --n_fold=5 --window_sizes=10000 --save_evaluation_results_each_fold=FALSE --save_glmnet_object=FALSE --omit_folds_with_na_r=TRUE --methInput_rds_path=/dcs04/lieber/statsgen/mnagle/mwas/pheno/caud/out/chr1_EA_288982-308981.rds --chunk1=1 --chunk2=20000 --cv_eval_mode=dynamic --num_cores=1 --cores_per_alpha=all --tag=libd_chr1-chr1_EA-288982-308981-dynamic-1corestotal-allcorepera-20240419-154141'\n",
      "Rscript scripts/CLI.R --outdir=./output_chr1_a2_caud/ --snp_data_path=/dcs04/lieber/statsgen/shizhong/michael/mwas/gwas//libd_chr1.pgen --methylation_data_path=/dcs04/lieber/statsgen/shizhong/michael/mwas/pheno/caud/out/chr1_EA.rda --cov=/dcs04/lieber/statsgen/mnagle/mwas/full_covariates/EA_caud.csv --verbose=FALSE --lambda_choice=1se --alphas=0.5 --allow_inefficient_parallelization=FALSE --n_fold=5 --window_sizes=10000 --save_evaluation_results_each_fold=FALSE --save_glmnet_object=FALSE --omit_folds_with_na_r=TRUE --methInput_rds_path=/dcs04/lieber/statsgen/mnagle/mwas/pheno/caud/out/chr1_EA_288982-308981.rds --chunk1=1 --chunk2=20000 --cv_eval_mode=dynamic --num_cores=1 --cores_per_alpha=all --tag=libd_chr1-chr1_EA-288982-308981-dynamic-1corestotal-allcorepera-20240419-154141\n"
     ]
    },
    {
     "name": "stderr",
     "output_type": "stream",
     "text": [
      "Sleeping for 181 seconds\n",
      "\n"
     ]
    },
    {
     "name": "stdout",
     "output_type": "stream",
     "text": [
      "\n",
      "[1] 236\n",
      "[1] \"Checking for files in:  ./output_chr1_a2_caud/\"\n",
      "[1] \"Using pattern:  libd_chr1-chr1_EA-308982-328981-dynamic-1corestotal-allcorepera\"\n",
      "[1] \"Found files with specific pattern: \"\n",
      "character(0)\n",
      "\n",
      "#!/bin/bash\n",
      "#SBATCH --nodes=1\n",
      "#SBATCH --ntasks-per-node=1\n",
      "#SBATCH --cpus-per-task=1\n",
      "#SBATCH --mem-per-cpu=2G\n",
      "#SBATCH --output=slurm_output_libd_chr1-chr1_EA-308982-328981-dynamic-1corestotal-allcorepera-20240419-154442.out\n",
      "#SBATCH --job-name=libd_chr1-chr1_EA-308982-328981-dynamic-1corestotal-allcorepera-20240419-154442\n",
      "#SBATCH --time=48:00:00\n",
      "module load conda\n",
      "conda activate mwas\n",
      "echo 'Executing Rscript with arguments: Rscript scripts/CLI.R --outdir=./output_chr1_a2_caud/ --snp_data_path=/dcs04/lieber/statsgen/shizhong/michael/mwas/gwas//libd_chr1.pgen --methylation_data_path=/dcs04/lieber/statsgen/shizhong/michael/mwas/pheno/caud/out/chr1_EA.rda --cov=/dcs04/lieber/statsgen/mnagle/mwas/full_covariates/EA_caud.csv --verbose=FALSE --lambda_choice=1se --alphas=0.5 --allow_inefficient_parallelization=FALSE --n_fold=5 --window_sizes=10000 --save_evaluation_results_each_fold=FALSE --save_glmnet_object=FALSE --omit_folds_with_na_r=TRUE --methInput_rds_path=/dcs04/lieber/statsgen/mnagle/mwas/pheno/caud/out/chr1_EA_308982-328981.rds --chunk1=1 --chunk2=20000 --cv_eval_mode=dynamic --num_cores=1 --cores_per_alpha=all --tag=libd_chr1-chr1_EA-308982-328981-dynamic-1corestotal-allcorepera-20240419-154442'\n",
      "Rscript scripts/CLI.R --outdir=./output_chr1_a2_caud/ --snp_data_path=/dcs04/lieber/statsgen/shizhong/michael/mwas/gwas//libd_chr1.pgen --methylation_data_path=/dcs04/lieber/statsgen/shizhong/michael/mwas/pheno/caud/out/chr1_EA.rda --cov=/dcs04/lieber/statsgen/mnagle/mwas/full_covariates/EA_caud.csv --verbose=FALSE --lambda_choice=1se --alphas=0.5 --allow_inefficient_parallelization=FALSE --n_fold=5 --window_sizes=10000 --save_evaluation_results_each_fold=FALSE --save_glmnet_object=FALSE --omit_folds_with_na_r=TRUE --methInput_rds_path=/dcs04/lieber/statsgen/mnagle/mwas/pheno/caud/out/chr1_EA_308982-328981.rds --chunk1=1 --chunk2=20000 --cv_eval_mode=dynamic --num_cores=1 --cores_per_alpha=all --tag=libd_chr1-chr1_EA-308982-328981-dynamic-1corestotal-allcorepera-20240419-154442\n"
     ]
    },
    {
     "name": "stderr",
     "output_type": "stream",
     "text": [
      "Sleeping for 181 seconds\n",
      "\n"
     ]
    },
    {
     "name": "stdout",
     "output_type": "stream",
     "text": [
      "\n",
      "[1] 237\n",
      "[1] \"Checking for files in:  ./output_chr1_a2_caud/\"\n",
      "[1] \"Using pattern:  libd_chr1-chr1_EA-328982-348981-dynamic-1corestotal-allcorepera\"\n",
      "[1] \"Found files with specific pattern: \"\n",
      "character(0)\n",
      "\n",
      "#!/bin/bash\n",
      "#SBATCH --nodes=1\n",
      "#SBATCH --ntasks-per-node=1\n",
      "#SBATCH --cpus-per-task=1\n",
      "#SBATCH --mem-per-cpu=2G\n",
      "#SBATCH --output=slurm_output_libd_chr1-chr1_EA-328982-348981-dynamic-1corestotal-allcorepera-20240419-154743.out\n",
      "#SBATCH --job-name=libd_chr1-chr1_EA-328982-348981-dynamic-1corestotal-allcorepera-20240419-154743\n",
      "#SBATCH --time=48:00:00\n",
      "module load conda\n",
      "conda activate mwas\n",
      "echo 'Executing Rscript with arguments: Rscript scripts/CLI.R --outdir=./output_chr1_a2_caud/ --snp_data_path=/dcs04/lieber/statsgen/shizhong/michael/mwas/gwas//libd_chr1.pgen --methylation_data_path=/dcs04/lieber/statsgen/shizhong/michael/mwas/pheno/caud/out/chr1_EA.rda --cov=/dcs04/lieber/statsgen/mnagle/mwas/full_covariates/EA_caud.csv --verbose=FALSE --lambda_choice=1se --alphas=0.5 --allow_inefficient_parallelization=FALSE --n_fold=5 --window_sizes=10000 --save_evaluation_results_each_fold=FALSE --save_glmnet_object=FALSE --omit_folds_with_na_r=TRUE --methInput_rds_path=/dcs04/lieber/statsgen/mnagle/mwas/pheno/caud/out/chr1_EA_328982-348981.rds --chunk1=1 --chunk2=20000 --cv_eval_mode=dynamic --num_cores=1 --cores_per_alpha=all --tag=libd_chr1-chr1_EA-328982-348981-dynamic-1corestotal-allcorepera-20240419-154743'\n",
      "Rscript scripts/CLI.R --outdir=./output_chr1_a2_caud/ --snp_data_path=/dcs04/lieber/statsgen/shizhong/michael/mwas/gwas//libd_chr1.pgen --methylation_data_path=/dcs04/lieber/statsgen/shizhong/michael/mwas/pheno/caud/out/chr1_EA.rda --cov=/dcs04/lieber/statsgen/mnagle/mwas/full_covariates/EA_caud.csv --verbose=FALSE --lambda_choice=1se --alphas=0.5 --allow_inefficient_parallelization=FALSE --n_fold=5 --window_sizes=10000 --save_evaluation_results_each_fold=FALSE --save_glmnet_object=FALSE --omit_folds_with_na_r=TRUE --methInput_rds_path=/dcs04/lieber/statsgen/mnagle/mwas/pheno/caud/out/chr1_EA_328982-348981.rds --chunk1=1 --chunk2=20000 --cv_eval_mode=dynamic --num_cores=1 --cores_per_alpha=all --tag=libd_chr1-chr1_EA-328982-348981-dynamic-1corestotal-allcorepera-20240419-154743\n"
     ]
    },
    {
     "name": "stderr",
     "output_type": "stream",
     "text": [
      "Sleeping for 181 seconds\n",
      "\n"
     ]
    },
    {
     "name": "stdout",
     "output_type": "stream",
     "text": [
      "\n",
      "[1] 238\n",
      "[1] \"Checking for files in:  ./output_chr1_a2_caud/\"\n",
      "[1] \"Using pattern:  libd_chr1-chr1_EA-348982-368981-dynamic-1corestotal-allcorepera\"\n",
      "[1] \"Found files with specific pattern: \"\n",
      "character(0)\n",
      "\n",
      "#!/bin/bash\n",
      "#SBATCH --nodes=1\n",
      "#SBATCH --ntasks-per-node=1\n",
      "#SBATCH --cpus-per-task=1\n",
      "#SBATCH --mem-per-cpu=2G\n",
      "#SBATCH --output=slurm_output_libd_chr1-chr1_EA-348982-368981-dynamic-1corestotal-allcorepera-20240419-155044.out\n",
      "#SBATCH --job-name=libd_chr1-chr1_EA-348982-368981-dynamic-1corestotal-allcorepera-20240419-155044\n",
      "#SBATCH --time=48:00:00\n",
      "module load conda\n",
      "conda activate mwas\n",
      "echo 'Executing Rscript with arguments: Rscript scripts/CLI.R --outdir=./output_chr1_a2_caud/ --snp_data_path=/dcs04/lieber/statsgen/shizhong/michael/mwas/gwas//libd_chr1.pgen --methylation_data_path=/dcs04/lieber/statsgen/shizhong/michael/mwas/pheno/caud/out/chr1_EA.rda --cov=/dcs04/lieber/statsgen/mnagle/mwas/full_covariates/EA_caud.csv --verbose=FALSE --lambda_choice=1se --alphas=0.5 --allow_inefficient_parallelization=FALSE --n_fold=5 --window_sizes=10000 --save_evaluation_results_each_fold=FALSE --save_glmnet_object=FALSE --omit_folds_with_na_r=TRUE --methInput_rds_path=/dcs04/lieber/statsgen/mnagle/mwas/pheno/caud/out/chr1_EA_348982-368981.rds --chunk1=1 --chunk2=20000 --cv_eval_mode=dynamic --num_cores=1 --cores_per_alpha=all --tag=libd_chr1-chr1_EA-348982-368981-dynamic-1corestotal-allcorepera-20240419-155044'\n",
      "Rscript scripts/CLI.R --outdir=./output_chr1_a2_caud/ --snp_data_path=/dcs04/lieber/statsgen/shizhong/michael/mwas/gwas//libd_chr1.pgen --methylation_data_path=/dcs04/lieber/statsgen/shizhong/michael/mwas/pheno/caud/out/chr1_EA.rda --cov=/dcs04/lieber/statsgen/mnagle/mwas/full_covariates/EA_caud.csv --verbose=FALSE --lambda_choice=1se --alphas=0.5 --allow_inefficient_parallelization=FALSE --n_fold=5 --window_sizes=10000 --save_evaluation_results_each_fold=FALSE --save_glmnet_object=FALSE --omit_folds_with_na_r=TRUE --methInput_rds_path=/dcs04/lieber/statsgen/mnagle/mwas/pheno/caud/out/chr1_EA_348982-368981.rds --chunk1=1 --chunk2=20000 --cv_eval_mode=dynamic --num_cores=1 --cores_per_alpha=all --tag=libd_chr1-chr1_EA-348982-368981-dynamic-1corestotal-allcorepera-20240419-155044\n"
     ]
    },
    {
     "name": "stderr",
     "output_type": "stream",
     "text": [
      "Sleeping for 181 seconds\n",
      "\n"
     ]
    },
    {
     "name": "stdout",
     "output_type": "stream",
     "text": [
      "\n",
      "[1] 239\n",
      "[1] \"Checking for files in:  ./output_chr1_a2_caud/\"\n",
      "[1] \"Using pattern:  libd_chr1-chr1_EA-368982-388981-dynamic-1corestotal-allcorepera\"\n",
      "[1] \"Found files with specific pattern: \"\n",
      "character(0)\n",
      "\n",
      "#!/bin/bash\n",
      "#SBATCH --nodes=1\n",
      "#SBATCH --ntasks-per-node=1\n",
      "#SBATCH --cpus-per-task=1\n",
      "#SBATCH --mem-per-cpu=2G\n",
      "#SBATCH --output=slurm_output_libd_chr1-chr1_EA-368982-388981-dynamic-1corestotal-allcorepera-20240419-155345.out\n",
      "#SBATCH --job-name=libd_chr1-chr1_EA-368982-388981-dynamic-1corestotal-allcorepera-20240419-155345\n",
      "#SBATCH --time=48:00:00\n",
      "module load conda\n",
      "conda activate mwas\n",
      "echo 'Executing Rscript with arguments: Rscript scripts/CLI.R --outdir=./output_chr1_a2_caud/ --snp_data_path=/dcs04/lieber/statsgen/shizhong/michael/mwas/gwas//libd_chr1.pgen --methylation_data_path=/dcs04/lieber/statsgen/shizhong/michael/mwas/pheno/caud/out/chr1_EA.rda --cov=/dcs04/lieber/statsgen/mnagle/mwas/full_covariates/EA_caud.csv --verbose=FALSE --lambda_choice=1se --alphas=0.5 --allow_inefficient_parallelization=FALSE --n_fold=5 --window_sizes=10000 --save_evaluation_results_each_fold=FALSE --save_glmnet_object=FALSE --omit_folds_with_na_r=TRUE --methInput_rds_path=/dcs04/lieber/statsgen/mnagle/mwas/pheno/caud/out/chr1_EA_368982-388981.rds --chunk1=1 --chunk2=20000 --cv_eval_mode=dynamic --num_cores=1 --cores_per_alpha=all --tag=libd_chr1-chr1_EA-368982-388981-dynamic-1corestotal-allcorepera-20240419-155345'\n",
      "Rscript scripts/CLI.R --outdir=./output_chr1_a2_caud/ --snp_data_path=/dcs04/lieber/statsgen/shizhong/michael/mwas/gwas//libd_chr1.pgen --methylation_data_path=/dcs04/lieber/statsgen/shizhong/michael/mwas/pheno/caud/out/chr1_EA.rda --cov=/dcs04/lieber/statsgen/mnagle/mwas/full_covariates/EA_caud.csv --verbose=FALSE --lambda_choice=1se --alphas=0.5 --allow_inefficient_parallelization=FALSE --n_fold=5 --window_sizes=10000 --save_evaluation_results_each_fold=FALSE --save_glmnet_object=FALSE --omit_folds_with_na_r=TRUE --methInput_rds_path=/dcs04/lieber/statsgen/mnagle/mwas/pheno/caud/out/chr1_EA_368982-388981.rds --chunk1=1 --chunk2=20000 --cv_eval_mode=dynamic --num_cores=1 --cores_per_alpha=all --tag=libd_chr1-chr1_EA-368982-388981-dynamic-1corestotal-allcorepera-20240419-155345\n"
     ]
    },
    {
     "name": "stderr",
     "output_type": "stream",
     "text": [
      "Sleeping for 181 seconds\n",
      "\n"
     ]
    },
    {
     "name": "stdout",
     "output_type": "stream",
     "text": [
      "\n",
      "[1] 240\n",
      "[1] \"Checking for files in:  ./output_chr1_a2_caud/\"\n",
      "[1] \"Using pattern:  libd_chr1-chr1_EA-388982-408981-dynamic-1corestotal-allcorepera\"\n",
      "[1] \"Found files with specific pattern: \"\n",
      "character(0)\n",
      "\n",
      "#!/bin/bash\n",
      "#SBATCH --nodes=1\n",
      "#SBATCH --ntasks-per-node=1\n",
      "#SBATCH --cpus-per-task=1\n",
      "#SBATCH --mem-per-cpu=2G\n",
      "#SBATCH --output=slurm_output_libd_chr1-chr1_EA-388982-408981-dynamic-1corestotal-allcorepera-20240419-155646.out\n",
      "#SBATCH --job-name=libd_chr1-chr1_EA-388982-408981-dynamic-1corestotal-allcorepera-20240419-155646\n",
      "#SBATCH --time=48:00:00\n",
      "module load conda\n",
      "conda activate mwas\n",
      "echo 'Executing Rscript with arguments: Rscript scripts/CLI.R --outdir=./output_chr1_a2_caud/ --snp_data_path=/dcs04/lieber/statsgen/shizhong/michael/mwas/gwas//libd_chr1.pgen --methylation_data_path=/dcs04/lieber/statsgen/shizhong/michael/mwas/pheno/caud/out/chr1_EA.rda --cov=/dcs04/lieber/statsgen/mnagle/mwas/full_covariates/EA_caud.csv --verbose=FALSE --lambda_choice=1se --alphas=0.5 --allow_inefficient_parallelization=FALSE --n_fold=5 --window_sizes=10000 --save_evaluation_results_each_fold=FALSE --save_glmnet_object=FALSE --omit_folds_with_na_r=TRUE --methInput_rds_path=/dcs04/lieber/statsgen/mnagle/mwas/pheno/caud/out/chr1_EA_388982-408981.rds --chunk1=1 --chunk2=20000 --cv_eval_mode=dynamic --num_cores=1 --cores_per_alpha=all --tag=libd_chr1-chr1_EA-388982-408981-dynamic-1corestotal-allcorepera-20240419-155646'\n",
      "Rscript scripts/CLI.R --outdir=./output_chr1_a2_caud/ --snp_data_path=/dcs04/lieber/statsgen/shizhong/michael/mwas/gwas//libd_chr1.pgen --methylation_data_path=/dcs04/lieber/statsgen/shizhong/michael/mwas/pheno/caud/out/chr1_EA.rda --cov=/dcs04/lieber/statsgen/mnagle/mwas/full_covariates/EA_caud.csv --verbose=FALSE --lambda_choice=1se --alphas=0.5 --allow_inefficient_parallelization=FALSE --n_fold=5 --window_sizes=10000 --save_evaluation_results_each_fold=FALSE --save_glmnet_object=FALSE --omit_folds_with_na_r=TRUE --methInput_rds_path=/dcs04/lieber/statsgen/mnagle/mwas/pheno/caud/out/chr1_EA_388982-408981.rds --chunk1=1 --chunk2=20000 --cv_eval_mode=dynamic --num_cores=1 --cores_per_alpha=all --tag=libd_chr1-chr1_EA-388982-408981-dynamic-1corestotal-allcorepera-20240419-155646\n"
     ]
    },
    {
     "name": "stderr",
     "output_type": "stream",
     "text": [
      "Sleeping for 181 seconds\n",
      "\n"
     ]
    },
    {
     "name": "stdout",
     "output_type": "stream",
     "text": [
      "\n",
      "[1] 241\n",
      "[1] \"Checking for files in:  ./output_chr1_a2_caud/\"\n",
      "[1] \"Using pattern:  libd_chr1-chr1_EA-408982-428981-dynamic-1corestotal-allcorepera\"\n",
      "[1] \"Found files with specific pattern: \"\n",
      "character(0)\n",
      "\n",
      "#!/bin/bash\n",
      "#SBATCH --nodes=1\n",
      "#SBATCH --ntasks-per-node=1\n",
      "#SBATCH --cpus-per-task=1\n",
      "#SBATCH --mem-per-cpu=2G\n",
      "#SBATCH --output=slurm_output_libd_chr1-chr1_EA-408982-428981-dynamic-1corestotal-allcorepera-20240419-155948.out\n",
      "#SBATCH --job-name=libd_chr1-chr1_EA-408982-428981-dynamic-1corestotal-allcorepera-20240419-155948\n",
      "#SBATCH --time=48:00:00\n",
      "module load conda\n",
      "conda activate mwas\n",
      "echo 'Executing Rscript with arguments: Rscript scripts/CLI.R --outdir=./output_chr1_a2_caud/ --snp_data_path=/dcs04/lieber/statsgen/shizhong/michael/mwas/gwas//libd_chr1.pgen --methylation_data_path=/dcs04/lieber/statsgen/shizhong/michael/mwas/pheno/caud/out/chr1_EA.rda --cov=/dcs04/lieber/statsgen/mnagle/mwas/full_covariates/EA_caud.csv --verbose=FALSE --lambda_choice=1se --alphas=0.5 --allow_inefficient_parallelization=FALSE --n_fold=5 --window_sizes=10000 --save_evaluation_results_each_fold=FALSE --save_glmnet_object=FALSE --omit_folds_with_na_r=TRUE --methInput_rds_path=/dcs04/lieber/statsgen/mnagle/mwas/pheno/caud/out/chr1_EA_408982-428981.rds --chunk1=1 --chunk2=20000 --cv_eval_mode=dynamic --num_cores=1 --cores_per_alpha=all --tag=libd_chr1-chr1_EA-408982-428981-dynamic-1corestotal-allcorepera-20240419-155948'\n",
      "Rscript scripts/CLI.R --outdir=./output_chr1_a2_caud/ --snp_data_path=/dcs04/lieber/statsgen/shizhong/michael/mwas/gwas//libd_chr1.pgen --methylation_data_path=/dcs04/lieber/statsgen/shizhong/michael/mwas/pheno/caud/out/chr1_EA.rda --cov=/dcs04/lieber/statsgen/mnagle/mwas/full_covariates/EA_caud.csv --verbose=FALSE --lambda_choice=1se --alphas=0.5 --allow_inefficient_parallelization=FALSE --n_fold=5 --window_sizes=10000 --save_evaluation_results_each_fold=FALSE --save_glmnet_object=FALSE --omit_folds_with_na_r=TRUE --methInput_rds_path=/dcs04/lieber/statsgen/mnagle/mwas/pheno/caud/out/chr1_EA_408982-428981.rds --chunk1=1 --chunk2=20000 --cv_eval_mode=dynamic --num_cores=1 --cores_per_alpha=all --tag=libd_chr1-chr1_EA-408982-428981-dynamic-1corestotal-allcorepera-20240419-155948\n"
     ]
    },
    {
     "name": "stderr",
     "output_type": "stream",
     "text": [
      "Sleeping for 181 seconds\n",
      "\n"
     ]
    },
    {
     "name": "stdout",
     "output_type": "stream",
     "text": [
      "\n",
      "[1] 242\n",
      "[1] \"Checking for files in:  ./output_chr1_a2_caud/\"\n",
      "[1] \"Using pattern:  libd_chr1-chr1_EA-428982-448981-dynamic-1corestotal-allcorepera\"\n",
      "[1] \"Found files with specific pattern: \"\n",
      "character(0)\n",
      "\n",
      "#!/bin/bash\n",
      "#SBATCH --nodes=1\n",
      "#SBATCH --ntasks-per-node=1\n",
      "#SBATCH --cpus-per-task=1\n",
      "#SBATCH --mem-per-cpu=2G\n",
      "#SBATCH --output=slurm_output_libd_chr1-chr1_EA-428982-448981-dynamic-1corestotal-allcorepera-20240419-160249.out\n",
      "#SBATCH --job-name=libd_chr1-chr1_EA-428982-448981-dynamic-1corestotal-allcorepera-20240419-160249\n",
      "#SBATCH --time=48:00:00\n",
      "module load conda\n",
      "conda activate mwas\n",
      "echo 'Executing Rscript with arguments: Rscript scripts/CLI.R --outdir=./output_chr1_a2_caud/ --snp_data_path=/dcs04/lieber/statsgen/shizhong/michael/mwas/gwas//libd_chr1.pgen --methylation_data_path=/dcs04/lieber/statsgen/shizhong/michael/mwas/pheno/caud/out/chr1_EA.rda --cov=/dcs04/lieber/statsgen/mnagle/mwas/full_covariates/EA_caud.csv --verbose=FALSE --lambda_choice=1se --alphas=0.5 --allow_inefficient_parallelization=FALSE --n_fold=5 --window_sizes=10000 --save_evaluation_results_each_fold=FALSE --save_glmnet_object=FALSE --omit_folds_with_na_r=TRUE --methInput_rds_path=/dcs04/lieber/statsgen/mnagle/mwas/pheno/caud/out/chr1_EA_428982-448981.rds --chunk1=1 --chunk2=20000 --cv_eval_mode=dynamic --num_cores=1 --cores_per_alpha=all --tag=libd_chr1-chr1_EA-428982-448981-dynamic-1corestotal-allcorepera-20240419-160249'\n",
      "Rscript scripts/CLI.R --outdir=./output_chr1_a2_caud/ --snp_data_path=/dcs04/lieber/statsgen/shizhong/michael/mwas/gwas//libd_chr1.pgen --methylation_data_path=/dcs04/lieber/statsgen/shizhong/michael/mwas/pheno/caud/out/chr1_EA.rda --cov=/dcs04/lieber/statsgen/mnagle/mwas/full_covariates/EA_caud.csv --verbose=FALSE --lambda_choice=1se --alphas=0.5 --allow_inefficient_parallelization=FALSE --n_fold=5 --window_sizes=10000 --save_evaluation_results_each_fold=FALSE --save_glmnet_object=FALSE --omit_folds_with_na_r=TRUE --methInput_rds_path=/dcs04/lieber/statsgen/mnagle/mwas/pheno/caud/out/chr1_EA_428982-448981.rds --chunk1=1 --chunk2=20000 --cv_eval_mode=dynamic --num_cores=1 --cores_per_alpha=all --tag=libd_chr1-chr1_EA-428982-448981-dynamic-1corestotal-allcorepera-20240419-160249\n"
     ]
    },
    {
     "name": "stderr",
     "output_type": "stream",
     "text": [
      "Sleeping for 181 seconds\n",
      "\n"
     ]
    },
    {
     "name": "stdout",
     "output_type": "stream",
     "text": [
      "\n",
      "[1] 243\n",
      "[1] \"Checking for files in:  ./output_chr1_a2_caud/\"\n",
      "[1] \"Using pattern:  libd_chr1-chr1_EA-448982-468981-dynamic-1corestotal-allcorepera\"\n",
      "[1] \"Found files with specific pattern: \"\n",
      "character(0)\n",
      "\n",
      "#!/bin/bash\n",
      "#SBATCH --nodes=1\n",
      "#SBATCH --ntasks-per-node=1\n",
      "#SBATCH --cpus-per-task=1\n",
      "#SBATCH --mem-per-cpu=2G\n",
      "#SBATCH --output=slurm_output_libd_chr1-chr1_EA-448982-468981-dynamic-1corestotal-allcorepera-20240419-160550.out\n",
      "#SBATCH --job-name=libd_chr1-chr1_EA-448982-468981-dynamic-1corestotal-allcorepera-20240419-160550\n",
      "#SBATCH --time=48:00:00\n",
      "module load conda\n",
      "conda activate mwas\n",
      "echo 'Executing Rscript with arguments: Rscript scripts/CLI.R --outdir=./output_chr1_a2_caud/ --snp_data_path=/dcs04/lieber/statsgen/shizhong/michael/mwas/gwas//libd_chr1.pgen --methylation_data_path=/dcs04/lieber/statsgen/shizhong/michael/mwas/pheno/caud/out/chr1_EA.rda --cov=/dcs04/lieber/statsgen/mnagle/mwas/full_covariates/EA_caud.csv --verbose=FALSE --lambda_choice=1se --alphas=0.5 --allow_inefficient_parallelization=FALSE --n_fold=5 --window_sizes=10000 --save_evaluation_results_each_fold=FALSE --save_glmnet_object=FALSE --omit_folds_with_na_r=TRUE --methInput_rds_path=/dcs04/lieber/statsgen/mnagle/mwas/pheno/caud/out/chr1_EA_448982-468981.rds --chunk1=1 --chunk2=20000 --cv_eval_mode=dynamic --num_cores=1 --cores_per_alpha=all --tag=libd_chr1-chr1_EA-448982-468981-dynamic-1corestotal-allcorepera-20240419-160550'\n",
      "Rscript scripts/CLI.R --outdir=./output_chr1_a2_caud/ --snp_data_path=/dcs04/lieber/statsgen/shizhong/michael/mwas/gwas//libd_chr1.pgen --methylation_data_path=/dcs04/lieber/statsgen/shizhong/michael/mwas/pheno/caud/out/chr1_EA.rda --cov=/dcs04/lieber/statsgen/mnagle/mwas/full_covariates/EA_caud.csv --verbose=FALSE --lambda_choice=1se --alphas=0.5 --allow_inefficient_parallelization=FALSE --n_fold=5 --window_sizes=10000 --save_evaluation_results_each_fold=FALSE --save_glmnet_object=FALSE --omit_folds_with_na_r=TRUE --methInput_rds_path=/dcs04/lieber/statsgen/mnagle/mwas/pheno/caud/out/chr1_EA_448982-468981.rds --chunk1=1 --chunk2=20000 --cv_eval_mode=dynamic --num_cores=1 --cores_per_alpha=all --tag=libd_chr1-chr1_EA-448982-468981-dynamic-1corestotal-allcorepera-20240419-160550\n"
     ]
    },
    {
     "name": "stderr",
     "output_type": "stream",
     "text": [
      "Sleeping for 181 seconds\n",
      "\n"
     ]
    },
    {
     "name": "stdout",
     "output_type": "stream",
     "text": [
      "\n",
      "[1] 244\n",
      "[1] \"Checking for files in:  ./output_chr1_a2_caud/\"\n",
      "[1] \"Using pattern:  libd_chr1-chr1_EA-468982-488981-dynamic-1corestotal-allcorepera\"\n",
      "[1] \"Found files with specific pattern: \"\n",
      "character(0)\n",
      "\n",
      "#!/bin/bash\n",
      "#SBATCH --nodes=1\n",
      "#SBATCH --ntasks-per-node=1\n",
      "#SBATCH --cpus-per-task=1\n",
      "#SBATCH --mem-per-cpu=2G\n",
      "#SBATCH --output=slurm_output_libd_chr1-chr1_EA-468982-488981-dynamic-1corestotal-allcorepera-20240419-160851.out\n",
      "#SBATCH --job-name=libd_chr1-chr1_EA-468982-488981-dynamic-1corestotal-allcorepera-20240419-160851\n",
      "#SBATCH --time=48:00:00\n",
      "module load conda\n",
      "conda activate mwas\n",
      "echo 'Executing Rscript with arguments: Rscript scripts/CLI.R --outdir=./output_chr1_a2_caud/ --snp_data_path=/dcs04/lieber/statsgen/shizhong/michael/mwas/gwas//libd_chr1.pgen --methylation_data_path=/dcs04/lieber/statsgen/shizhong/michael/mwas/pheno/caud/out/chr1_EA.rda --cov=/dcs04/lieber/statsgen/mnagle/mwas/full_covariates/EA_caud.csv --verbose=FALSE --lambda_choice=1se --alphas=0.5 --allow_inefficient_parallelization=FALSE --n_fold=5 --window_sizes=10000 --save_evaluation_results_each_fold=FALSE --save_glmnet_object=FALSE --omit_folds_with_na_r=TRUE --methInput_rds_path=/dcs04/lieber/statsgen/mnagle/mwas/pheno/caud/out/chr1_EA_468982-488981.rds --chunk1=1 --chunk2=20000 --cv_eval_mode=dynamic --num_cores=1 --cores_per_alpha=all --tag=libd_chr1-chr1_EA-468982-488981-dynamic-1corestotal-allcorepera-20240419-160851'\n",
      "Rscript scripts/CLI.R --outdir=./output_chr1_a2_caud/ --snp_data_path=/dcs04/lieber/statsgen/shizhong/michael/mwas/gwas//libd_chr1.pgen --methylation_data_path=/dcs04/lieber/statsgen/shizhong/michael/mwas/pheno/caud/out/chr1_EA.rda --cov=/dcs04/lieber/statsgen/mnagle/mwas/full_covariates/EA_caud.csv --verbose=FALSE --lambda_choice=1se --alphas=0.5 --allow_inefficient_parallelization=FALSE --n_fold=5 --window_sizes=10000 --save_evaluation_results_each_fold=FALSE --save_glmnet_object=FALSE --omit_folds_with_na_r=TRUE --methInput_rds_path=/dcs04/lieber/statsgen/mnagle/mwas/pheno/caud/out/chr1_EA_468982-488981.rds --chunk1=1 --chunk2=20000 --cv_eval_mode=dynamic --num_cores=1 --cores_per_alpha=all --tag=libd_chr1-chr1_EA-468982-488981-dynamic-1corestotal-allcorepera-20240419-160851\n"
     ]
    },
    {
     "name": "stderr",
     "output_type": "stream",
     "text": [
      "Sleeping for 181 seconds\n",
      "\n"
     ]
    },
    {
     "name": "stdout",
     "output_type": "stream",
     "text": [
      "\n",
      "[1] 245\n",
      "[1] \"Checking for files in:  ./output_chr1_a2_caud/\"\n",
      "[1] \"Using pattern:  libd_chr1-chr1_EA-488982-508981-dynamic-1corestotal-allcorepera\"\n",
      "[1] \"Found files with specific pattern: \"\n",
      "character(0)\n",
      "\n",
      "#!/bin/bash\n",
      "#SBATCH --nodes=1\n",
      "#SBATCH --ntasks-per-node=1\n",
      "#SBATCH --cpus-per-task=1\n",
      "#SBATCH --mem-per-cpu=2G\n",
      "#SBATCH --output=slurm_output_libd_chr1-chr1_EA-488982-508981-dynamic-1corestotal-allcorepera-20240419-161153.out\n",
      "#SBATCH --job-name=libd_chr1-chr1_EA-488982-508981-dynamic-1corestotal-allcorepera-20240419-161153\n",
      "#SBATCH --time=48:00:00\n",
      "module load conda\n",
      "conda activate mwas\n",
      "echo 'Executing Rscript with arguments: Rscript scripts/CLI.R --outdir=./output_chr1_a2_caud/ --snp_data_path=/dcs04/lieber/statsgen/shizhong/michael/mwas/gwas//libd_chr1.pgen --methylation_data_path=/dcs04/lieber/statsgen/shizhong/michael/mwas/pheno/caud/out/chr1_EA.rda --cov=/dcs04/lieber/statsgen/mnagle/mwas/full_covariates/EA_caud.csv --verbose=FALSE --lambda_choice=1se --alphas=0.5 --allow_inefficient_parallelization=FALSE --n_fold=5 --window_sizes=10000 --save_evaluation_results_each_fold=FALSE --save_glmnet_object=FALSE --omit_folds_with_na_r=TRUE --methInput_rds_path=/dcs04/lieber/statsgen/mnagle/mwas/pheno/caud/out/chr1_EA_488982-508981.rds --chunk1=1 --chunk2=20000 --cv_eval_mode=dynamic --num_cores=1 --cores_per_alpha=all --tag=libd_chr1-chr1_EA-488982-508981-dynamic-1corestotal-allcorepera-20240419-161153'\n",
      "Rscript scripts/CLI.R --outdir=./output_chr1_a2_caud/ --snp_data_path=/dcs04/lieber/statsgen/shizhong/michael/mwas/gwas//libd_chr1.pgen --methylation_data_path=/dcs04/lieber/statsgen/shizhong/michael/mwas/pheno/caud/out/chr1_EA.rda --cov=/dcs04/lieber/statsgen/mnagle/mwas/full_covariates/EA_caud.csv --verbose=FALSE --lambda_choice=1se --alphas=0.5 --allow_inefficient_parallelization=FALSE --n_fold=5 --window_sizes=10000 --save_evaluation_results_each_fold=FALSE --save_glmnet_object=FALSE --omit_folds_with_na_r=TRUE --methInput_rds_path=/dcs04/lieber/statsgen/mnagle/mwas/pheno/caud/out/chr1_EA_488982-508981.rds --chunk1=1 --chunk2=20000 --cv_eval_mode=dynamic --num_cores=1 --cores_per_alpha=all --tag=libd_chr1-chr1_EA-488982-508981-dynamic-1corestotal-allcorepera-20240419-161153\n"
     ]
    },
    {
     "name": "stderr",
     "output_type": "stream",
     "text": [
      "Sleeping for 181 seconds\n",
      "\n"
     ]
    },
    {
     "name": "stdout",
     "output_type": "stream",
     "text": [
      "\n",
      "[1] 246\n",
      "[1] \"Checking for files in:  ./output_chr1_a2_caud/\"\n",
      "[1] \"Using pattern:  libd_chr1-chr1_EA-508982-528981-dynamic-1corestotal-allcorepera\"\n",
      "[1] \"Found files with specific pattern: \"\n",
      "character(0)\n",
      "\n",
      "#!/bin/bash\n",
      "#SBATCH --nodes=1\n",
      "#SBATCH --ntasks-per-node=1\n",
      "#SBATCH --cpus-per-task=1\n",
      "#SBATCH --mem-per-cpu=2G\n",
      "#SBATCH --output=slurm_output_libd_chr1-chr1_EA-508982-528981-dynamic-1corestotal-allcorepera-20240419-161454.out\n",
      "#SBATCH --job-name=libd_chr1-chr1_EA-508982-528981-dynamic-1corestotal-allcorepera-20240419-161454\n",
      "#SBATCH --time=48:00:00\n",
      "module load conda\n",
      "conda activate mwas\n",
      "echo 'Executing Rscript with arguments: Rscript scripts/CLI.R --outdir=./output_chr1_a2_caud/ --snp_data_path=/dcs04/lieber/statsgen/shizhong/michael/mwas/gwas//libd_chr1.pgen --methylation_data_path=/dcs04/lieber/statsgen/shizhong/michael/mwas/pheno/caud/out/chr1_EA.rda --cov=/dcs04/lieber/statsgen/mnagle/mwas/full_covariates/EA_caud.csv --verbose=FALSE --lambda_choice=1se --alphas=0.5 --allow_inefficient_parallelization=FALSE --n_fold=5 --window_sizes=10000 --save_evaluation_results_each_fold=FALSE --save_glmnet_object=FALSE --omit_folds_with_na_r=TRUE --methInput_rds_path=/dcs04/lieber/statsgen/mnagle/mwas/pheno/caud/out/chr1_EA_508982-528981.rds --chunk1=1 --chunk2=20000 --cv_eval_mode=dynamic --num_cores=1 --cores_per_alpha=all --tag=libd_chr1-chr1_EA-508982-528981-dynamic-1corestotal-allcorepera-20240419-161454'\n",
      "Rscript scripts/CLI.R --outdir=./output_chr1_a2_caud/ --snp_data_path=/dcs04/lieber/statsgen/shizhong/michael/mwas/gwas//libd_chr1.pgen --methylation_data_path=/dcs04/lieber/statsgen/shizhong/michael/mwas/pheno/caud/out/chr1_EA.rda --cov=/dcs04/lieber/statsgen/mnagle/mwas/full_covariates/EA_caud.csv --verbose=FALSE --lambda_choice=1se --alphas=0.5 --allow_inefficient_parallelization=FALSE --n_fold=5 --window_sizes=10000 --save_evaluation_results_each_fold=FALSE --save_glmnet_object=FALSE --omit_folds_with_na_r=TRUE --methInput_rds_path=/dcs04/lieber/statsgen/mnagle/mwas/pheno/caud/out/chr1_EA_508982-528981.rds --chunk1=1 --chunk2=20000 --cv_eval_mode=dynamic --num_cores=1 --cores_per_alpha=all --tag=libd_chr1-chr1_EA-508982-528981-dynamic-1corestotal-allcorepera-20240419-161454\n"
     ]
    },
    {
     "name": "stderr",
     "output_type": "stream",
     "text": [
      "Sleeping for 181 seconds\n",
      "\n"
     ]
    },
    {
     "name": "stdout",
     "output_type": "stream",
     "text": [
      "\n",
      "[1] 247\n",
      "[1] \"Checking for files in:  ./output_chr1_a2_caud/\"\n",
      "[1] \"Using pattern:  libd_chr1-chr1_EA-528982-548981-dynamic-1corestotal-allcorepera\"\n",
      "[1] \"Found files with specific pattern: \"\n",
      "character(0)\n",
      "\n",
      "#!/bin/bash\n",
      "#SBATCH --nodes=1\n",
      "#SBATCH --ntasks-per-node=1\n",
      "#SBATCH --cpus-per-task=1\n",
      "#SBATCH --mem-per-cpu=2G\n",
      "#SBATCH --output=slurm_output_libd_chr1-chr1_EA-528982-548981-dynamic-1corestotal-allcorepera-20240419-161755.out\n",
      "#SBATCH --job-name=libd_chr1-chr1_EA-528982-548981-dynamic-1corestotal-allcorepera-20240419-161755\n",
      "#SBATCH --time=48:00:00\n",
      "module load conda\n",
      "conda activate mwas\n",
      "echo 'Executing Rscript with arguments: Rscript scripts/CLI.R --outdir=./output_chr1_a2_caud/ --snp_data_path=/dcs04/lieber/statsgen/shizhong/michael/mwas/gwas//libd_chr1.pgen --methylation_data_path=/dcs04/lieber/statsgen/shizhong/michael/mwas/pheno/caud/out/chr1_EA.rda --cov=/dcs04/lieber/statsgen/mnagle/mwas/full_covariates/EA_caud.csv --verbose=FALSE --lambda_choice=1se --alphas=0.5 --allow_inefficient_parallelization=FALSE --n_fold=5 --window_sizes=10000 --save_evaluation_results_each_fold=FALSE --save_glmnet_object=FALSE --omit_folds_with_na_r=TRUE --methInput_rds_path=/dcs04/lieber/statsgen/mnagle/mwas/pheno/caud/out/chr1_EA_528982-548981.rds --chunk1=1 --chunk2=20000 --cv_eval_mode=dynamic --num_cores=1 --cores_per_alpha=all --tag=libd_chr1-chr1_EA-528982-548981-dynamic-1corestotal-allcorepera-20240419-161755'\n",
      "Rscript scripts/CLI.R --outdir=./output_chr1_a2_caud/ --snp_data_path=/dcs04/lieber/statsgen/shizhong/michael/mwas/gwas//libd_chr1.pgen --methylation_data_path=/dcs04/lieber/statsgen/shizhong/michael/mwas/pheno/caud/out/chr1_EA.rda --cov=/dcs04/lieber/statsgen/mnagle/mwas/full_covariates/EA_caud.csv --verbose=FALSE --lambda_choice=1se --alphas=0.5 --allow_inefficient_parallelization=FALSE --n_fold=5 --window_sizes=10000 --save_evaluation_results_each_fold=FALSE --save_glmnet_object=FALSE --omit_folds_with_na_r=TRUE --methInput_rds_path=/dcs04/lieber/statsgen/mnagle/mwas/pheno/caud/out/chr1_EA_528982-548981.rds --chunk1=1 --chunk2=20000 --cv_eval_mode=dynamic --num_cores=1 --cores_per_alpha=all --tag=libd_chr1-chr1_EA-528982-548981-dynamic-1corestotal-allcorepera-20240419-161755\n"
     ]
    },
    {
     "name": "stderr",
     "output_type": "stream",
     "text": [
      "Sleeping for 181 seconds\n",
      "\n"
     ]
    },
    {
     "name": "stdout",
     "output_type": "stream",
     "text": [
      "\n",
      "[1] 248\n",
      "[1] \"Checking for files in:  ./output_chr1_a2_caud/\"\n",
      "[1] \"Using pattern:  libd_chr1-chr1_EA-548982-568981-dynamic-1corestotal-allcorepera\"\n",
      "[1] \"Found files with specific pattern: \"\n",
      "character(0)\n",
      "\n",
      "#!/bin/bash\n",
      "#SBATCH --nodes=1\n",
      "#SBATCH --ntasks-per-node=1\n",
      "#SBATCH --cpus-per-task=1\n",
      "#SBATCH --mem-per-cpu=2G\n",
      "#SBATCH --output=slurm_output_libd_chr1-chr1_EA-548982-568981-dynamic-1corestotal-allcorepera-20240419-162056.out\n",
      "#SBATCH --job-name=libd_chr1-chr1_EA-548982-568981-dynamic-1corestotal-allcorepera-20240419-162056\n",
      "#SBATCH --time=48:00:00\n",
      "module load conda\n",
      "conda activate mwas\n",
      "echo 'Executing Rscript with arguments: Rscript scripts/CLI.R --outdir=./output_chr1_a2_caud/ --snp_data_path=/dcs04/lieber/statsgen/shizhong/michael/mwas/gwas//libd_chr1.pgen --methylation_data_path=/dcs04/lieber/statsgen/shizhong/michael/mwas/pheno/caud/out/chr1_EA.rda --cov=/dcs04/lieber/statsgen/mnagle/mwas/full_covariates/EA_caud.csv --verbose=FALSE --lambda_choice=1se --alphas=0.5 --allow_inefficient_parallelization=FALSE --n_fold=5 --window_sizes=10000 --save_evaluation_results_each_fold=FALSE --save_glmnet_object=FALSE --omit_folds_with_na_r=TRUE --methInput_rds_path=/dcs04/lieber/statsgen/mnagle/mwas/pheno/caud/out/chr1_EA_548982-568981.rds --chunk1=1 --chunk2=20000 --cv_eval_mode=dynamic --num_cores=1 --cores_per_alpha=all --tag=libd_chr1-chr1_EA-548982-568981-dynamic-1corestotal-allcorepera-20240419-162056'\n",
      "Rscript scripts/CLI.R --outdir=./output_chr1_a2_caud/ --snp_data_path=/dcs04/lieber/statsgen/shizhong/michael/mwas/gwas//libd_chr1.pgen --methylation_data_path=/dcs04/lieber/statsgen/shizhong/michael/mwas/pheno/caud/out/chr1_EA.rda --cov=/dcs04/lieber/statsgen/mnagle/mwas/full_covariates/EA_caud.csv --verbose=FALSE --lambda_choice=1se --alphas=0.5 --allow_inefficient_parallelization=FALSE --n_fold=5 --window_sizes=10000 --save_evaluation_results_each_fold=FALSE --save_glmnet_object=FALSE --omit_folds_with_na_r=TRUE --methInput_rds_path=/dcs04/lieber/statsgen/mnagle/mwas/pheno/caud/out/chr1_EA_548982-568981.rds --chunk1=1 --chunk2=20000 --cv_eval_mode=dynamic --num_cores=1 --cores_per_alpha=all --tag=libd_chr1-chr1_EA-548982-568981-dynamic-1corestotal-allcorepera-20240419-162056\n"
     ]
    },
    {
     "name": "stderr",
     "output_type": "stream",
     "text": [
      "Sleeping for 181 seconds\n",
      "\n"
     ]
    },
    {
     "name": "stdout",
     "output_type": "stream",
     "text": [
      "\n",
      "[1] 249\n",
      "[1] \"Checking for files in:  ./output_chr1_a2_caud/\"\n",
      "[1] \"Using pattern:  libd_chr1-chr1_EA-568982-588981-dynamic-1corestotal-allcorepera\"\n",
      "[1] \"Found files with specific pattern: \"\n",
      "character(0)\n",
      "\n",
      "#!/bin/bash\n",
      "#SBATCH --nodes=1\n",
      "#SBATCH --ntasks-per-node=1\n",
      "#SBATCH --cpus-per-task=1\n",
      "#SBATCH --mem-per-cpu=2G\n",
      "#SBATCH --output=slurm_output_libd_chr1-chr1_EA-568982-588981-dynamic-1corestotal-allcorepera-20240419-162357.out\n",
      "#SBATCH --job-name=libd_chr1-chr1_EA-568982-588981-dynamic-1corestotal-allcorepera-20240419-162357\n",
      "#SBATCH --time=48:00:00\n",
      "module load conda\n",
      "conda activate mwas\n",
      "echo 'Executing Rscript with arguments: Rscript scripts/CLI.R --outdir=./output_chr1_a2_caud/ --snp_data_path=/dcs04/lieber/statsgen/shizhong/michael/mwas/gwas//libd_chr1.pgen --methylation_data_path=/dcs04/lieber/statsgen/shizhong/michael/mwas/pheno/caud/out/chr1_EA.rda --cov=/dcs04/lieber/statsgen/mnagle/mwas/full_covariates/EA_caud.csv --verbose=FALSE --lambda_choice=1se --alphas=0.5 --allow_inefficient_parallelization=FALSE --n_fold=5 --window_sizes=10000 --save_evaluation_results_each_fold=FALSE --save_glmnet_object=FALSE --omit_folds_with_na_r=TRUE --methInput_rds_path=/dcs04/lieber/statsgen/mnagle/mwas/pheno/caud/out/chr1_EA_568982-588981.rds --chunk1=1 --chunk2=20000 --cv_eval_mode=dynamic --num_cores=1 --cores_per_alpha=all --tag=libd_chr1-chr1_EA-568982-588981-dynamic-1corestotal-allcorepera-20240419-162357'\n",
      "Rscript scripts/CLI.R --outdir=./output_chr1_a2_caud/ --snp_data_path=/dcs04/lieber/statsgen/shizhong/michael/mwas/gwas//libd_chr1.pgen --methylation_data_path=/dcs04/lieber/statsgen/shizhong/michael/mwas/pheno/caud/out/chr1_EA.rda --cov=/dcs04/lieber/statsgen/mnagle/mwas/full_covariates/EA_caud.csv --verbose=FALSE --lambda_choice=1se --alphas=0.5 --allow_inefficient_parallelization=FALSE --n_fold=5 --window_sizes=10000 --save_evaluation_results_each_fold=FALSE --save_glmnet_object=FALSE --omit_folds_with_na_r=TRUE --methInput_rds_path=/dcs04/lieber/statsgen/mnagle/mwas/pheno/caud/out/chr1_EA_568982-588981.rds --chunk1=1 --chunk2=20000 --cv_eval_mode=dynamic --num_cores=1 --cores_per_alpha=all --tag=libd_chr1-chr1_EA-568982-588981-dynamic-1corestotal-allcorepera-20240419-162357\n"
     ]
    },
    {
     "name": "stderr",
     "output_type": "stream",
     "text": [
      "Sleeping for 181 seconds\n",
      "\n"
     ]
    },
    {
     "name": "stdout",
     "output_type": "stream",
     "text": [
      "\n",
      "[1] 250\n",
      "[1] \"Checking for files in:  ./output_chr1_a2_caud/\"\n",
      "[1] \"Using pattern:  libd_chr1-chr1_EA-588982-608981-dynamic-1corestotal-allcorepera\"\n",
      "[1] \"Found files with specific pattern: \"\n",
      "character(0)\n",
      "\n",
      "#!/bin/bash\n",
      "#SBATCH --nodes=1\n",
      "#SBATCH --ntasks-per-node=1\n",
      "#SBATCH --cpus-per-task=1\n",
      "#SBATCH --mem-per-cpu=2G\n",
      "#SBATCH --output=slurm_output_libd_chr1-chr1_EA-588982-608981-dynamic-1corestotal-allcorepera-20240419-162658.out\n",
      "#SBATCH --job-name=libd_chr1-chr1_EA-588982-608981-dynamic-1corestotal-allcorepera-20240419-162658\n",
      "#SBATCH --time=48:00:00\n",
      "module load conda\n",
      "conda activate mwas\n",
      "echo 'Executing Rscript with arguments: Rscript scripts/CLI.R --outdir=./output_chr1_a2_caud/ --snp_data_path=/dcs04/lieber/statsgen/shizhong/michael/mwas/gwas//libd_chr1.pgen --methylation_data_path=/dcs04/lieber/statsgen/shizhong/michael/mwas/pheno/caud/out/chr1_EA.rda --cov=/dcs04/lieber/statsgen/mnagle/mwas/full_covariates/EA_caud.csv --verbose=FALSE --lambda_choice=1se --alphas=0.5 --allow_inefficient_parallelization=FALSE --n_fold=5 --window_sizes=10000 --save_evaluation_results_each_fold=FALSE --save_glmnet_object=FALSE --omit_folds_with_na_r=TRUE --methInput_rds_path=/dcs04/lieber/statsgen/mnagle/mwas/pheno/caud/out/chr1_EA_588982-608981.rds --chunk1=1 --chunk2=20000 --cv_eval_mode=dynamic --num_cores=1 --cores_per_alpha=all --tag=libd_chr1-chr1_EA-588982-608981-dynamic-1corestotal-allcorepera-20240419-162658'\n",
      "Rscript scripts/CLI.R --outdir=./output_chr1_a2_caud/ --snp_data_path=/dcs04/lieber/statsgen/shizhong/michael/mwas/gwas//libd_chr1.pgen --methylation_data_path=/dcs04/lieber/statsgen/shizhong/michael/mwas/pheno/caud/out/chr1_EA.rda --cov=/dcs04/lieber/statsgen/mnagle/mwas/full_covariates/EA_caud.csv --verbose=FALSE --lambda_choice=1se --alphas=0.5 --allow_inefficient_parallelization=FALSE --n_fold=5 --window_sizes=10000 --save_evaluation_results_each_fold=FALSE --save_glmnet_object=FALSE --omit_folds_with_na_r=TRUE --methInput_rds_path=/dcs04/lieber/statsgen/mnagle/mwas/pheno/caud/out/chr1_EA_588982-608981.rds --chunk1=1 --chunk2=20000 --cv_eval_mode=dynamic --num_cores=1 --cores_per_alpha=all --tag=libd_chr1-chr1_EA-588982-608981-dynamic-1corestotal-allcorepera-20240419-162658\n"
     ]
    },
    {
     "name": "stderr",
     "output_type": "stream",
     "text": [
      "Sleeping for 181 seconds\n",
      "\n"
     ]
    },
    {
     "name": "stdout",
     "output_type": "stream",
     "text": [
      "\n",
      "[1] 251\n",
      "[1] \"Checking for files in:  ./output_chr1_a2_caud/\"\n",
      "[1] \"Using pattern:  libd_chr1-chr1_EA-608982-628981-dynamic-1corestotal-allcorepera\"\n",
      "[1] \"Found files with specific pattern: \"\n",
      "character(0)\n",
      "\n",
      "#!/bin/bash\n",
      "#SBATCH --nodes=1\n",
      "#SBATCH --ntasks-per-node=1\n",
      "#SBATCH --cpus-per-task=1\n",
      "#SBATCH --mem-per-cpu=2G\n",
      "#SBATCH --output=slurm_output_libd_chr1-chr1_EA-608982-628981-dynamic-1corestotal-allcorepera-20240419-162959.out\n",
      "#SBATCH --job-name=libd_chr1-chr1_EA-608982-628981-dynamic-1corestotal-allcorepera-20240419-162959\n",
      "#SBATCH --time=48:00:00\n",
      "module load conda\n",
      "conda activate mwas\n",
      "echo 'Executing Rscript with arguments: Rscript scripts/CLI.R --outdir=./output_chr1_a2_caud/ --snp_data_path=/dcs04/lieber/statsgen/shizhong/michael/mwas/gwas//libd_chr1.pgen --methylation_data_path=/dcs04/lieber/statsgen/shizhong/michael/mwas/pheno/caud/out/chr1_EA.rda --cov=/dcs04/lieber/statsgen/mnagle/mwas/full_covariates/EA_caud.csv --verbose=FALSE --lambda_choice=1se --alphas=0.5 --allow_inefficient_parallelization=FALSE --n_fold=5 --window_sizes=10000 --save_evaluation_results_each_fold=FALSE --save_glmnet_object=FALSE --omit_folds_with_na_r=TRUE --methInput_rds_path=/dcs04/lieber/statsgen/mnagle/mwas/pheno/caud/out/chr1_EA_608982-628981.rds --chunk1=1 --chunk2=20000 --cv_eval_mode=dynamic --num_cores=1 --cores_per_alpha=all --tag=libd_chr1-chr1_EA-608982-628981-dynamic-1corestotal-allcorepera-20240419-162959'\n",
      "Rscript scripts/CLI.R --outdir=./output_chr1_a2_caud/ --snp_data_path=/dcs04/lieber/statsgen/shizhong/michael/mwas/gwas//libd_chr1.pgen --methylation_data_path=/dcs04/lieber/statsgen/shizhong/michael/mwas/pheno/caud/out/chr1_EA.rda --cov=/dcs04/lieber/statsgen/mnagle/mwas/full_covariates/EA_caud.csv --verbose=FALSE --lambda_choice=1se --alphas=0.5 --allow_inefficient_parallelization=FALSE --n_fold=5 --window_sizes=10000 --save_evaluation_results_each_fold=FALSE --save_glmnet_object=FALSE --omit_folds_with_na_r=TRUE --methInput_rds_path=/dcs04/lieber/statsgen/mnagle/mwas/pheno/caud/out/chr1_EA_608982-628981.rds --chunk1=1 --chunk2=20000 --cv_eval_mode=dynamic --num_cores=1 --cores_per_alpha=all --tag=libd_chr1-chr1_EA-608982-628981-dynamic-1corestotal-allcorepera-20240419-162959\n"
     ]
    },
    {
     "name": "stderr",
     "output_type": "stream",
     "text": [
      "Sleeping for 181 seconds\n",
      "\n"
     ]
    },
    {
     "name": "stdout",
     "output_type": "stream",
     "text": [
      "\n",
      "[1] 252\n",
      "[1] \"Checking for files in:  ./output_chr1_a2_caud/\"\n",
      "[1] \"Using pattern:  libd_chr1-chr1_EA-628982-648981-dynamic-1corestotal-allcorepera\"\n",
      "[1] \"Found files with specific pattern: \"\n",
      "character(0)\n",
      "\n",
      "#!/bin/bash\n",
      "#SBATCH --nodes=1\n",
      "#SBATCH --ntasks-per-node=1\n",
      "#SBATCH --cpus-per-task=1\n",
      "#SBATCH --mem-per-cpu=2G\n",
      "#SBATCH --output=slurm_output_libd_chr1-chr1_EA-628982-648981-dynamic-1corestotal-allcorepera-20240419-163301.out\n",
      "#SBATCH --job-name=libd_chr1-chr1_EA-628982-648981-dynamic-1corestotal-allcorepera-20240419-163301\n",
      "#SBATCH --time=48:00:00\n",
      "module load conda\n",
      "conda activate mwas\n",
      "echo 'Executing Rscript with arguments: Rscript scripts/CLI.R --outdir=./output_chr1_a2_caud/ --snp_data_path=/dcs04/lieber/statsgen/shizhong/michael/mwas/gwas//libd_chr1.pgen --methylation_data_path=/dcs04/lieber/statsgen/shizhong/michael/mwas/pheno/caud/out/chr1_EA.rda --cov=/dcs04/lieber/statsgen/mnagle/mwas/full_covariates/EA_caud.csv --verbose=FALSE --lambda_choice=1se --alphas=0.5 --allow_inefficient_parallelization=FALSE --n_fold=5 --window_sizes=10000 --save_evaluation_results_each_fold=FALSE --save_glmnet_object=FALSE --omit_folds_with_na_r=TRUE --methInput_rds_path=/dcs04/lieber/statsgen/mnagle/mwas/pheno/caud/out/chr1_EA_628982-648981.rds --chunk1=1 --chunk2=20000 --cv_eval_mode=dynamic --num_cores=1 --cores_per_alpha=all --tag=libd_chr1-chr1_EA-628982-648981-dynamic-1corestotal-allcorepera-20240419-163301'\n",
      "Rscript scripts/CLI.R --outdir=./output_chr1_a2_caud/ --snp_data_path=/dcs04/lieber/statsgen/shizhong/michael/mwas/gwas//libd_chr1.pgen --methylation_data_path=/dcs04/lieber/statsgen/shizhong/michael/mwas/pheno/caud/out/chr1_EA.rda --cov=/dcs04/lieber/statsgen/mnagle/mwas/full_covariates/EA_caud.csv --verbose=FALSE --lambda_choice=1se --alphas=0.5 --allow_inefficient_parallelization=FALSE --n_fold=5 --window_sizes=10000 --save_evaluation_results_each_fold=FALSE --save_glmnet_object=FALSE --omit_folds_with_na_r=TRUE --methInput_rds_path=/dcs04/lieber/statsgen/mnagle/mwas/pheno/caud/out/chr1_EA_628982-648981.rds --chunk1=1 --chunk2=20000 --cv_eval_mode=dynamic --num_cores=1 --cores_per_alpha=all --tag=libd_chr1-chr1_EA-628982-648981-dynamic-1corestotal-allcorepera-20240419-163301\n"
     ]
    },
    {
     "name": "stderr",
     "output_type": "stream",
     "text": [
      "Sleeping for 181 seconds\n",
      "\n"
     ]
    },
    {
     "name": "stdout",
     "output_type": "stream",
     "text": [
      "\n",
      "[1] 253\n",
      "[1] \"Checking for files in:  ./output_chr1_a2_caud/\"\n",
      "[1] \"Using pattern:  libd_chr1-chr1_EA-648982-668981-dynamic-1corestotal-allcorepera\"\n",
      "[1] \"Found files with specific pattern: \"\n",
      "character(0)\n",
      "\n",
      "#!/bin/bash\n",
      "#SBATCH --nodes=1\n",
      "#SBATCH --ntasks-per-node=1\n",
      "#SBATCH --cpus-per-task=1\n",
      "#SBATCH --mem-per-cpu=2G\n",
      "#SBATCH --output=slurm_output_libd_chr1-chr1_EA-648982-668981-dynamic-1corestotal-allcorepera-20240419-163602.out\n",
      "#SBATCH --job-name=libd_chr1-chr1_EA-648982-668981-dynamic-1corestotal-allcorepera-20240419-163602\n",
      "#SBATCH --time=48:00:00\n",
      "module load conda\n",
      "conda activate mwas\n",
      "echo 'Executing Rscript with arguments: Rscript scripts/CLI.R --outdir=./output_chr1_a2_caud/ --snp_data_path=/dcs04/lieber/statsgen/shizhong/michael/mwas/gwas//libd_chr1.pgen --methylation_data_path=/dcs04/lieber/statsgen/shizhong/michael/mwas/pheno/caud/out/chr1_EA.rda --cov=/dcs04/lieber/statsgen/mnagle/mwas/full_covariates/EA_caud.csv --verbose=FALSE --lambda_choice=1se --alphas=0.5 --allow_inefficient_parallelization=FALSE --n_fold=5 --window_sizes=10000 --save_evaluation_results_each_fold=FALSE --save_glmnet_object=FALSE --omit_folds_with_na_r=TRUE --methInput_rds_path=/dcs04/lieber/statsgen/mnagle/mwas/pheno/caud/out/chr1_EA_648982-668981.rds --chunk1=1 --chunk2=20000 --cv_eval_mode=dynamic --num_cores=1 --cores_per_alpha=all --tag=libd_chr1-chr1_EA-648982-668981-dynamic-1corestotal-allcorepera-20240419-163602'\n",
      "Rscript scripts/CLI.R --outdir=./output_chr1_a2_caud/ --snp_data_path=/dcs04/lieber/statsgen/shizhong/michael/mwas/gwas//libd_chr1.pgen --methylation_data_path=/dcs04/lieber/statsgen/shizhong/michael/mwas/pheno/caud/out/chr1_EA.rda --cov=/dcs04/lieber/statsgen/mnagle/mwas/full_covariates/EA_caud.csv --verbose=FALSE --lambda_choice=1se --alphas=0.5 --allow_inefficient_parallelization=FALSE --n_fold=5 --window_sizes=10000 --save_evaluation_results_each_fold=FALSE --save_glmnet_object=FALSE --omit_folds_with_na_r=TRUE --methInput_rds_path=/dcs04/lieber/statsgen/mnagle/mwas/pheno/caud/out/chr1_EA_648982-668981.rds --chunk1=1 --chunk2=20000 --cv_eval_mode=dynamic --num_cores=1 --cores_per_alpha=all --tag=libd_chr1-chr1_EA-648982-668981-dynamic-1corestotal-allcorepera-20240419-163602\n"
     ]
    },
    {
     "name": "stderr",
     "output_type": "stream",
     "text": [
      "Sleeping for 181 seconds\n",
      "\n"
     ]
    }
   ],
   "source": [
    "for(i in 1:nrow(matched_df)){\n",
    "    \n",
    "    print(i)\n",
    "    \n",
    "    region <- str_split_fixed(\n",
    "    str_split_fixed(matched_df$methylation_data[i], \"pheno/\", 2)[, 2],\n",
    "    \"/out\", 2)[, 1]\n",
    "    outdir <- paste0(\"./output_chr1_a2_\", region, \"/\")\n",
    "    if(!dir.exists(outdir)) dir.create(outdir)\n",
    "\n",
    "    chunk_size <- matched_df$chunk_end[i] - matched_df$chunk_start[i] + 1\n",
    "    \n",
    "    # Constant Arguments Setup\n",
    "    constant_args_df <- data.frame(\n",
    "      outdir = outdir,\n",
    "      snp_data_path = matched_df$SNP_data[i],\n",
    "      methylation_data_path = matched_df$methylation_data[i],\n",
    "      cov = matched_df$cov_file[i],\n",
    "      verbose = FALSE,\n",
    "      lambda_choice = \"1se\",\n",
    "      alphas = 0.5,\n",
    "      allow_inefficient_parallelization = FALSE,\n",
    "      n_fold = 5,\n",
    "      window_sizes = \"10000\",\n",
    "      #window_sizes = \"500000\",\n",
    "      save_evaluation_results_each_fold = FALSE,\n",
    "      save_glmnet_object = FALSE,\n",
    "      omit_folds_with_na_r = TRUE,\n",
    "      methInput_rds_path = matched_df$modified_methylation_data[i]\n",
    "    )\n",
    "    \n",
    "    # Varying parameters\n",
    "    cv_eval_modes <- c(\"dynamic\")\n",
    "    cores_per_alphas <- c(\"all\") #NA)  # Include NA to signify the default value should be used\n",
    "    num_cores_options <- c(1)\n",
    "    \n",
    "    #for (chunk_range in 2){\n",
    "    constant_args_df$chunk1 <- 1\n",
    "    constant_args_df$chunk2 <- chunk_size\n",
    "    # Loop through each combination\n",
    "    for (cv_eval_mode in cv_eval_modes) {\n",
    "      for (cores_per_alpha in cores_per_alphas) {\n",
    "        for (num_cores in num_cores_options) {\n",
    "          # Update constant_args_df for the current combination\n",
    "          constant_args_df$cv_eval_mode <- cv_eval_mode\n",
    "          constant_args_df$num_cores <- num_cores\n",
    "          if (!is.na(cores_per_alpha)) {\n",
    "            constant_args_df$cores_per_alpha <- cores_per_alpha\n",
    "          } else {\n",
    "            constant_args_df$cores_per_alpha <- NULL\n",
    "          }\n",
    "\n",
    "          # Generate tags\n",
    "          snp_base <- tools::file_path_sans_ext(basename(constant_args_df$snp_data_path))\n",
    "          meth_base <- tools::file_path_sans_ext(basename(constant_args_df$methylation_data_path))\n",
    "          datetime_str <- format(Sys.time(), \"%Y%m%d-%H%M%S\")\n",
    "          tag_pt1 <- paste(snp_base, meth_base, format(matched_df$chunk_start[i], scientific = FALSE), format(matched_df$chunk_end[i], scientific = FALSE), cv_eval_mode, paste0(num_cores, \"corestotal\"), ifelse(is.na(cores_per_alpha), \"defaultcore\", paste0(cores_per_alpha, \"corepera\")), sep = \"-\")\n",
    "          tag_pt2 <- datetime_str\n",
    "            \n",
    "          all_files_in_directory <- list.files(path = constant_args_df$outdir, full.names = TRUE)\n",
    "          #print(paste(\"All files in directory: \", constant_args_df$outdir))\n",
    "          #print(all_files_in_directory)\n",
    "\n",
    "          # Now check with the specific pattern\n",
    "          #existing_files_pattern <- paste0(\"^\", tag_pt1, \".*\\\\.rds$\")\n",
    "          existing_files <- list.files(path = constant_args_df$outdir, pattern = tag_pt1, full.names = TRUE)\n",
    "          existing_files <- existing_files[grepl(\"rds\", existing_files)]\n",
    "            \n",
    "          # Diagnostic print statements for troubleshooting\n",
    "          print(paste(\"Checking for files in: \", constant_args_df$outdir))\n",
    "          print(paste(\"Using pattern: \", tag_pt1))\n",
    "          print(\"Found files with specific pattern: \")\n",
    "          print(existing_files)\n",
    "          \n",
    "          if (!overwrite && length(existing_files) > 0) {\n",
    "            message(\"File with tag \", tag_pt1, \" already exists. Skipping...\")\n",
    "            next\n",
    "          }\n",
    "\n",
    "          # Generate and print SLURM script\n",
    "          script_info <- generate_slurm_script(constant_args_df, tag_pt1, tag_pt2,\n",
    "                                               mem_per_cpu = \"2G\")\n",
    "\n",
    "          cat(\"\\n\")\n",
    "          cat(script_info$script)\n",
    "\n",
    "          writeLines(script_info$script, script_info$path)\n",
    "\n",
    "          # Submit the SLURM job using the sbatch command\n",
    "          system(paste(\"sbatch\", script_info$path))\n",
    "\n",
    "          # Implement job submission limits and intervals if necessary\n",
    "          sleeptime <- 181\n",
    "\n",
    "          message(paste0(\"Sleeping for \", sleeptime, \" seconds\"))\n",
    "          Sys.sleep(sleeptime)\n",
    "          cat(\"\\n\")\n",
    "        }\n",
    "      }\n",
    "    }\n",
    "}"
   ]
  },
  {
   "cell_type": "code",
   "execution_count": null,
   "id": "5371a450-78e9-4625-bc65-67fc22693584",
   "metadata": {},
   "outputs": [],
   "source": []
  },
  {
   "cell_type": "code",
   "execution_count": null,
   "id": "d42889af-e0fb-43b7-9ea0-f84c90aacbbb",
   "metadata": {},
   "outputs": [],
   "source": []
  }
 ],
 "metadata": {
  "kernelspec": {
   "display_name": "R",
   "language": "R",
   "name": "ir"
  },
  "language_info": {
   "codemirror_mode": "r",
   "file_extension": ".r",
   "mimetype": "text/x-r-source",
   "name": "R",
   "pygments_lexer": "r",
   "version": "4.3.1"
  }
 },
 "nbformat": 4,
 "nbformat_minor": 5
}
