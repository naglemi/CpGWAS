{
 "cells": [
  {
   "cell_type": "markdown",
   "id": "0cb72484-0e2e-4d13-bda9-58fe13e8ae34",
   "metadata": {},
   "source": [
    "# Prep SLURM commands"
   ]
  },
  {
   "cell_type": "code",
   "execution_count": 1,
   "id": "16eddb68-67bf-48d8-9343-a7e48c69b312",
   "metadata": {
    "tags": []
   },
   "outputs": [
    {
     "data": {
      "text/html": [
       "'/dcs04/lieber/statsgen/mnagle/mwas/CpGWAS/scripts'"
      ],
      "text/latex": [
       "'/dcs04/lieber/statsgen/mnagle/mwas/CpGWAS/scripts'"
      ],
      "text/markdown": [
       "'/dcs04/lieber/statsgen/mnagle/mwas/CpGWAS/scripts'"
      ],
      "text/plain": [
       "[1] \"/dcs04/lieber/statsgen/mnagle/mwas/CpGWAS/scripts\""
      ]
     },
     "metadata": {},
     "output_type": "display_data"
    }
   ],
   "source": [
    "getwd()"
   ]
  },
  {
   "cell_type": "code",
   "execution_count": 2,
   "id": "9c7b2054-67b9-42e5-9f90-1bd0bdac846e",
   "metadata": {},
   "outputs": [],
   "source": [
    "library(data.table)\n",
    "library(stringr)"
   ]
  },
  {
   "cell_type": "code",
   "execution_count": 3,
   "id": "82f55bee-2e04-4858-a040-64869a761882",
   "metadata": {},
   "outputs": [],
   "source": [
    "setwd(\"../\")"
   ]
  },
  {
   "cell_type": "code",
   "execution_count": 4,
   "id": "750b3ac4-4232-4549-b317-faa48852db41",
   "metadata": {},
   "outputs": [],
   "source": [
    "#' Generate Chunk Ranges with Fixed Number of Chunks\n",
    "#'\n",
    "#' This function divides a range into a specified number of chunks, with each chunk\n",
    "#' having approximately the same size.\n",
    "#'\n",
    "#' @param start The starting point of the range to be divided.\n",
    "#' @param end The ending point of the range to be divided.\n",
    "#' @param num_chunks The fixed number of chunks to divide the range into.\n",
    "#'\n",
    "#' @return A matrix where each row represents a chunk, with the first column being\n",
    "#'         the start of the chunk and the second column being the end of the chunk.\n",
    "#' @examples\n",
    "#' chunk_fixed_n(1, 100, 5)\n",
    "#' @export\n",
    "chunk_fixed_n <- function(start, end, num_chunks) {\n",
    "  chunk_size <- ceiling((end - start + 1) / num_chunks)\n",
    "  chunk_ranges <- sapply(1:num_chunks, function(i) {\n",
    "    chunk_start <- start + (i - 1) * chunk_size\n",
    "    chunk_end <- min(chunk_start + chunk_size - 1, end)\n",
    "    c(chunk_start, chunk_end)\n",
    "  })\n",
    "  return(chunk_ranges)\n",
    "}\n",
    "\n",
    "#' Generate Chunk Ranges with Fixed Chunk Size\n",
    "#'\n",
    "#' This function divides a range into chunks up to a given maximum size, dynamically\n",
    "#' determining the number of chunks based on the range and maximum chunk size.\n",
    "#'\n",
    "#' @param start The starting point of the range to be divided.\n",
    "#' @param end The ending point of the range to be divided.\n",
    "#' @param max_chunk_size The maximum size that each chunk can have.\n",
    "#'\n",
    "#' @return A matrix where each row represents a chunk, with the first column being\n",
    "#'         the start of the chunk and the second column being the end of the chunk.\n",
    "#'         The last chunk may be smaller than `max_chunk_size` to fit the range.\n",
    "#' @examples\n",
    "#' chunk_fixed_size(1, 100, 20)\n",
    "#' @export\n",
    "chunk_fixed_size <- function(start, end, max_chunk_size) {\n",
    "  if (length(start) > 1 || length(end) > 1) {\n",
    "    stop(\"start and end must be single values\")\n",
    "  }\n",
    "  if (start > end || max_chunk_size <= 0) {\n",
    "    stop(\"Invalid arguments: ensure start <= end and max_chunk_size > 0\")\n",
    "  }\n",
    "  \n",
    "  num_chunks <- ceiling((end - start + 1) / max_chunk_size)\n",
    "  chunk_ranges <- matrix(nrow = num_chunks, ncol = 2)\n",
    "  \n",
    "  for (i in 1:num_chunks) {\n",
    "    chunk_start <- start + (i - 1) * max_chunk_size\n",
    "    chunk_end <- min(chunk_start + max_chunk_size - 1, end)\n",
    "    chunk_ranges[i, ] <- c(chunk_start, chunk_end)\n",
    "  }\n",
    "  \n",
    "  return(t(chunk_ranges))\n",
    "}\n",
    "\n",
    "generate_slurm_script <- function(args, tag_pt1, tag_pt2, mem_per_cpu = \"16G\") {\n",
    "  cpus_per_task <- if (is.null(args$num_cores) || args$num_cores == \"all\") {\n",
    "    \"#SBATCH --exclusive\\n\"\n",
    "  } else {\n",
    "    paste0(\"#SBATCH --cpus-per-task=\", args$num_cores, \"\\n\")\n",
    "  }\n",
    "\n",
    "  # Always set mem_per_cpu flag, even in exclusive mode\n",
    "  mem_allocation <- paste0(\"#SBATCH --mem-per-cpu=\", mem_per_cpu, \"\\n\")\n",
    "\n",
    "  args_string <- paste(\"--\", names(args), \"=\", args, sep = \"\", collapse = \" \")\n",
    "  args_string <- paste(args_string, \" --tag=\", tag_pt1, \"-\", tag_pt2, sep = \"\")\n",
    "\n",
    "  slurm_script <- paste0(\n",
    "    \"#!/bin/bash\\n\",\n",
    "    if (cluster_specific_parameters) paste0(\n",
    "      \"#SBATCH --partition=\", partition, \"\\n\",\n",
    "      \"#SBATCH -A \", acct, \"\\n\",\n",
    "    ),\n",
    "    if (!is.null(nodes) && !is.null(ntasks_per_node)) paste0(\n",
    "      \"#SBATCH --nodes=\", nodes, \"\\n\",\n",
    "      \"#SBATCH --ntasks-per-node=\", ntasks_per_node, \"\\n\"\n",
    "    ),\n",
    "    cpus_per_task,\n",
    "    mem_allocation,\n",
    "    \"#SBATCH --output=slurm_output_\", tag_pt1, \"-\", tag_pt2, \".out\\n\",\n",
    "    \"#SBATCH --job-name=\", tag_pt1, \"-\", tag_pt2, \"\\n\",\n",
    "    \"#SBATCH --time=\", time, \"\\n\",\n",
    "    if (module_load_conda) \"module load conda\\n\",\n",
    "    \"conda activate mwas\\n\",\n",
    "    \"echo 'Executing Rscript with arguments: Rscript scripts/CLI.R \", args_string, \"'\\n\",\n",
    "    \"Rscript scripts/CLI.R \", args_string, \"\\n\"\n",
    "  )\n",
    "\n",
    "  return(list(script = slurm_script, path = paste0(\"slurm_scripts/\", tag_pt1, \"-\", tag_pt2, \".sh\")))\n",
    "}"
   ]
  },
  {
   "cell_type": "code",
   "execution_count": 5,
   "id": "e618d140-ad01-469b-9db1-93176c568260",
   "metadata": {},
   "outputs": [],
   "source": [
    "# Cluster-specific parameters\n",
    "cluster_specific_parameters <- FALSE # Example condition\n",
    "acct <- \"jhu152\"\n",
    "time <- \"48:00:00\"\n",
    "partition <- \"shared\"\n",
    "\n",
    "module_load_conda <- TRUE\n",
    "\n",
    "nodes <- 1\n",
    "ntasks_per_node <- 1\n",
    "\n",
    "# Overwrite flag (set by user)\n",
    "overwrite <- FALSE"
   ]
  },
  {
   "cell_type": "code",
   "execution_count": 6,
   "id": "8e415d48-449a-40da-8547-832968839644",
   "metadata": {},
   "outputs": [],
   "source": [
    "# chunk_ranges <- chunk_fixed_size(files$first_meth_index_with_SNP_coverage[i],\n",
    "#                                  files$last_meth_index_with_SNP_coverage[i],\n",
    "#                                  1000)\n",
    "                         \n",
    "\n",
    "# chunk_ranges <- chunk_ranges[1:2,1:2]\n",
    "\n",
    "#chunk_ranges <- chunk_fixed_n(1, 10000, 5)"
   ]
  },
  {
   "cell_type": "code",
   "execution_count": 7,
   "id": "48c476be-91a2-4c79-8ad1-0e94a7fefd3d",
   "metadata": {},
   "outputs": [
    {
     "data": {
      "text/html": [
       "'/dcs04/lieber/statsgen/mnagle/mwas/CpGWAS'"
      ],
      "text/latex": [
       "'/dcs04/lieber/statsgen/mnagle/mwas/CpGWAS'"
      ],
      "text/markdown": [
       "'/dcs04/lieber/statsgen/mnagle/mwas/CpGWAS'"
      ],
      "text/plain": [
       "[1] \"/dcs04/lieber/statsgen/mnagle/mwas/CpGWAS\""
      ]
     },
     "metadata": {},
     "output_type": "display_data"
    }
   ],
   "source": [
    "getwd()"
   ]
  },
  {
   "cell_type": "code",
   "execution_count": 8,
   "id": "815ee1a2-cbf5-4d10-ab9e-74457df5b83b",
   "metadata": {},
   "outputs": [],
   "source": [
    "matched_df <- fread(\"../CpGWAS/scripts/09.5-OUT_matched_SNP_meth_cov_chunked_JHPCE.csv\")"
   ]
  },
  {
   "cell_type": "code",
   "execution_count": 9,
   "id": "194ef5b8-7f7a-4cb6-ae56-e308980fbc30",
   "metadata": {},
   "outputs": [],
   "source": [
    "matched_df <- matched_df[order(matched_df$SNP_data), ]"
   ]
  },
  {
   "cell_type": "code",
   "execution_count": 10,
   "id": "11a5681f-387c-4e8b-86ab-df62cacdcf05",
   "metadata": {},
   "outputs": [
    {
     "data": {
      "text/html": [
       "<table class=\"dataframe\">\n",
       "<caption>A data.table: 6 × 13</caption>\n",
       "<thead>\n",
       "\t<tr><th scope=col>Chr</th><th scope=col>SNP_data</th><th scope=col>methylation_data</th><th scope=col>last_meth_value_with_SNP_coverage</th><th scope=col>first_meth_value_with_SNP_coverage</th><th scope=col>last_meth_index_with_SNP_coverage</th><th scope=col>first_meth_index_with_SNP_coverage</th><th scope=col>population</th><th scope=col>region</th><th scope=col>cov_file</th><th scope=col>chunk_start</th><th scope=col>chunk_end</th><th scope=col>modified_methylation_data</th></tr>\n",
       "\t<tr><th scope=col>&lt;int&gt;</th><th scope=col>&lt;chr&gt;</th><th scope=col>&lt;chr&gt;</th><th scope=col>&lt;int&gt;</th><th scope=col>&lt;int&gt;</th><th scope=col>&lt;int&gt;</th><th scope=col>&lt;int&gt;</th><th scope=col>&lt;chr&gt;</th><th scope=col>&lt;chr&gt;</th><th scope=col>&lt;chr&gt;</th><th scope=col>&lt;int&gt;</th><th scope=col>&lt;dbl&gt;</th><th scope=col>&lt;chr&gt;</th></tr>\n",
       "</thead>\n",
       "<tbody>\n",
       "\t<tr><td>1</td><td>/dcs04/lieber/statsgen/shizhong/michael/mwas/gwas//libd_chr1.pgen</td><td>/dcs04/lieber/statsgen/shizhong/michael/mwas/pheno/caud/out/chr1_AA.rda</td><td>248918358</td><td>1069461</td><td>2202702</td><td>8982</td><td>AA</td><td>caud</td><td>/dcs04/lieber/statsgen/mnagle/mwas/full_covariates/AA_caud.csv</td><td>  8982</td><td> 28981</td><td>/dcs04/lieber/statsgen/mnagle/mwas/pheno/caud/out/chr1_AA_8982-28981.rds   </td></tr>\n",
       "\t<tr><td>1</td><td>/dcs04/lieber/statsgen/shizhong/michael/mwas/gwas//libd_chr1.pgen</td><td>/dcs04/lieber/statsgen/shizhong/michael/mwas/pheno/caud/out/chr1_AA.rda</td><td>248918358</td><td>1069461</td><td>2202702</td><td>8982</td><td>AA</td><td>caud</td><td>/dcs04/lieber/statsgen/mnagle/mwas/full_covariates/AA_caud.csv</td><td> 28982</td><td> 48981</td><td>/dcs04/lieber/statsgen/mnagle/mwas/pheno/caud/out/chr1_AA_28982-48981.rds  </td></tr>\n",
       "\t<tr><td>1</td><td>/dcs04/lieber/statsgen/shizhong/michael/mwas/gwas//libd_chr1.pgen</td><td>/dcs04/lieber/statsgen/shizhong/michael/mwas/pheno/caud/out/chr1_AA.rda</td><td>248918358</td><td>1069461</td><td>2202702</td><td>8982</td><td>AA</td><td>caud</td><td>/dcs04/lieber/statsgen/mnagle/mwas/full_covariates/AA_caud.csv</td><td> 48982</td><td> 68981</td><td>/dcs04/lieber/statsgen/mnagle/mwas/pheno/caud/out/chr1_AA_48982-68981.rds  </td></tr>\n",
       "\t<tr><td>1</td><td>/dcs04/lieber/statsgen/shizhong/michael/mwas/gwas//libd_chr1.pgen</td><td>/dcs04/lieber/statsgen/shizhong/michael/mwas/pheno/caud/out/chr1_AA.rda</td><td>248918358</td><td>1069461</td><td>2202702</td><td>8982</td><td>AA</td><td>caud</td><td>/dcs04/lieber/statsgen/mnagle/mwas/full_covariates/AA_caud.csv</td><td> 68982</td><td> 88981</td><td>/dcs04/lieber/statsgen/mnagle/mwas/pheno/caud/out/chr1_AA_68982-88981.rds  </td></tr>\n",
       "\t<tr><td>1</td><td>/dcs04/lieber/statsgen/shizhong/michael/mwas/gwas//libd_chr1.pgen</td><td>/dcs04/lieber/statsgen/shizhong/michael/mwas/pheno/caud/out/chr1_AA.rda</td><td>248918358</td><td>1069461</td><td>2202702</td><td>8982</td><td>AA</td><td>caud</td><td>/dcs04/lieber/statsgen/mnagle/mwas/full_covariates/AA_caud.csv</td><td> 88982</td><td>108981</td><td>/dcs04/lieber/statsgen/mnagle/mwas/pheno/caud/out/chr1_AA_88982-108981.rds </td></tr>\n",
       "\t<tr><td>1</td><td>/dcs04/lieber/statsgen/shizhong/michael/mwas/gwas//libd_chr1.pgen</td><td>/dcs04/lieber/statsgen/shizhong/michael/mwas/pheno/caud/out/chr1_AA.rda</td><td>248918358</td><td>1069461</td><td>2202702</td><td>8982</td><td>AA</td><td>caud</td><td>/dcs04/lieber/statsgen/mnagle/mwas/full_covariates/AA_caud.csv</td><td>108982</td><td>128981</td><td>/dcs04/lieber/statsgen/mnagle/mwas/pheno/caud/out/chr1_AA_108982-128981.rds</td></tr>\n",
       "</tbody>\n",
       "</table>\n"
      ],
      "text/latex": [
       "A data.table: 6 × 13\n",
       "\\begin{tabular}{lllllllllllll}\n",
       " Chr & SNP\\_data & methylation\\_data & last\\_meth\\_value\\_with\\_SNP\\_coverage & first\\_meth\\_value\\_with\\_SNP\\_coverage & last\\_meth\\_index\\_with\\_SNP\\_coverage & first\\_meth\\_index\\_with\\_SNP\\_coverage & population & region & cov\\_file & chunk\\_start & chunk\\_end & modified\\_methylation\\_data\\\\\n",
       " <int> & <chr> & <chr> & <int> & <int> & <int> & <int> & <chr> & <chr> & <chr> & <int> & <dbl> & <chr>\\\\\n",
       "\\hline\n",
       "\t 1 & /dcs04/lieber/statsgen/shizhong/michael/mwas/gwas//libd\\_chr1.pgen & /dcs04/lieber/statsgen/shizhong/michael/mwas/pheno/caud/out/chr1\\_AA.rda & 248918358 & 1069461 & 2202702 & 8982 & AA & caud & /dcs04/lieber/statsgen/mnagle/mwas/full\\_covariates/AA\\_caud.csv &   8982 &  28981 & /dcs04/lieber/statsgen/mnagle/mwas/pheno/caud/out/chr1\\_AA\\_8982-28981.rds   \\\\\n",
       "\t 1 & /dcs04/lieber/statsgen/shizhong/michael/mwas/gwas//libd\\_chr1.pgen & /dcs04/lieber/statsgen/shizhong/michael/mwas/pheno/caud/out/chr1\\_AA.rda & 248918358 & 1069461 & 2202702 & 8982 & AA & caud & /dcs04/lieber/statsgen/mnagle/mwas/full\\_covariates/AA\\_caud.csv &  28982 &  48981 & /dcs04/lieber/statsgen/mnagle/mwas/pheno/caud/out/chr1\\_AA\\_28982-48981.rds  \\\\\n",
       "\t 1 & /dcs04/lieber/statsgen/shizhong/michael/mwas/gwas//libd\\_chr1.pgen & /dcs04/lieber/statsgen/shizhong/michael/mwas/pheno/caud/out/chr1\\_AA.rda & 248918358 & 1069461 & 2202702 & 8982 & AA & caud & /dcs04/lieber/statsgen/mnagle/mwas/full\\_covariates/AA\\_caud.csv &  48982 &  68981 & /dcs04/lieber/statsgen/mnagle/mwas/pheno/caud/out/chr1\\_AA\\_48982-68981.rds  \\\\\n",
       "\t 1 & /dcs04/lieber/statsgen/shizhong/michael/mwas/gwas//libd\\_chr1.pgen & /dcs04/lieber/statsgen/shizhong/michael/mwas/pheno/caud/out/chr1\\_AA.rda & 248918358 & 1069461 & 2202702 & 8982 & AA & caud & /dcs04/lieber/statsgen/mnagle/mwas/full\\_covariates/AA\\_caud.csv &  68982 &  88981 & /dcs04/lieber/statsgen/mnagle/mwas/pheno/caud/out/chr1\\_AA\\_68982-88981.rds  \\\\\n",
       "\t 1 & /dcs04/lieber/statsgen/shizhong/michael/mwas/gwas//libd\\_chr1.pgen & /dcs04/lieber/statsgen/shizhong/michael/mwas/pheno/caud/out/chr1\\_AA.rda & 248918358 & 1069461 & 2202702 & 8982 & AA & caud & /dcs04/lieber/statsgen/mnagle/mwas/full\\_covariates/AA\\_caud.csv &  88982 & 108981 & /dcs04/lieber/statsgen/mnagle/mwas/pheno/caud/out/chr1\\_AA\\_88982-108981.rds \\\\\n",
       "\t 1 & /dcs04/lieber/statsgen/shizhong/michael/mwas/gwas//libd\\_chr1.pgen & /dcs04/lieber/statsgen/shizhong/michael/mwas/pheno/caud/out/chr1\\_AA.rda & 248918358 & 1069461 & 2202702 & 8982 & AA & caud & /dcs04/lieber/statsgen/mnagle/mwas/full\\_covariates/AA\\_caud.csv & 108982 & 128981 & /dcs04/lieber/statsgen/mnagle/mwas/pheno/caud/out/chr1\\_AA\\_108982-128981.rds\\\\\n",
       "\\end{tabular}\n"
      ],
      "text/markdown": [
       "\n",
       "A data.table: 6 × 13\n",
       "\n",
       "| Chr &lt;int&gt; | SNP_data &lt;chr&gt; | methylation_data &lt;chr&gt; | last_meth_value_with_SNP_coverage &lt;int&gt; | first_meth_value_with_SNP_coverage &lt;int&gt; | last_meth_index_with_SNP_coverage &lt;int&gt; | first_meth_index_with_SNP_coverage &lt;int&gt; | population &lt;chr&gt; | region &lt;chr&gt; | cov_file &lt;chr&gt; | chunk_start &lt;int&gt; | chunk_end &lt;dbl&gt; | modified_methylation_data &lt;chr&gt; |\n",
       "|---|---|---|---|---|---|---|---|---|---|---|---|---|\n",
       "| 1 | /dcs04/lieber/statsgen/shizhong/michael/mwas/gwas//libd_chr1.pgen | /dcs04/lieber/statsgen/shizhong/michael/mwas/pheno/caud/out/chr1_AA.rda | 248918358 | 1069461 | 2202702 | 8982 | AA | caud | /dcs04/lieber/statsgen/mnagle/mwas/full_covariates/AA_caud.csv |   8982 |  28981 | /dcs04/lieber/statsgen/mnagle/mwas/pheno/caud/out/chr1_AA_8982-28981.rds    |\n",
       "| 1 | /dcs04/lieber/statsgen/shizhong/michael/mwas/gwas//libd_chr1.pgen | /dcs04/lieber/statsgen/shizhong/michael/mwas/pheno/caud/out/chr1_AA.rda | 248918358 | 1069461 | 2202702 | 8982 | AA | caud | /dcs04/lieber/statsgen/mnagle/mwas/full_covariates/AA_caud.csv |  28982 |  48981 | /dcs04/lieber/statsgen/mnagle/mwas/pheno/caud/out/chr1_AA_28982-48981.rds   |\n",
       "| 1 | /dcs04/lieber/statsgen/shizhong/michael/mwas/gwas//libd_chr1.pgen | /dcs04/lieber/statsgen/shizhong/michael/mwas/pheno/caud/out/chr1_AA.rda | 248918358 | 1069461 | 2202702 | 8982 | AA | caud | /dcs04/lieber/statsgen/mnagle/mwas/full_covariates/AA_caud.csv |  48982 |  68981 | /dcs04/lieber/statsgen/mnagle/mwas/pheno/caud/out/chr1_AA_48982-68981.rds   |\n",
       "| 1 | /dcs04/lieber/statsgen/shizhong/michael/mwas/gwas//libd_chr1.pgen | /dcs04/lieber/statsgen/shizhong/michael/mwas/pheno/caud/out/chr1_AA.rda | 248918358 | 1069461 | 2202702 | 8982 | AA | caud | /dcs04/lieber/statsgen/mnagle/mwas/full_covariates/AA_caud.csv |  68982 |  88981 | /dcs04/lieber/statsgen/mnagle/mwas/pheno/caud/out/chr1_AA_68982-88981.rds   |\n",
       "| 1 | /dcs04/lieber/statsgen/shizhong/michael/mwas/gwas//libd_chr1.pgen | /dcs04/lieber/statsgen/shizhong/michael/mwas/pheno/caud/out/chr1_AA.rda | 248918358 | 1069461 | 2202702 | 8982 | AA | caud | /dcs04/lieber/statsgen/mnagle/mwas/full_covariates/AA_caud.csv |  88982 | 108981 | /dcs04/lieber/statsgen/mnagle/mwas/pheno/caud/out/chr1_AA_88982-108981.rds  |\n",
       "| 1 | /dcs04/lieber/statsgen/shizhong/michael/mwas/gwas//libd_chr1.pgen | /dcs04/lieber/statsgen/shizhong/michael/mwas/pheno/caud/out/chr1_AA.rda | 248918358 | 1069461 | 2202702 | 8982 | AA | caud | /dcs04/lieber/statsgen/mnagle/mwas/full_covariates/AA_caud.csv | 108982 | 128981 | /dcs04/lieber/statsgen/mnagle/mwas/pheno/caud/out/chr1_AA_108982-128981.rds |\n",
       "\n"
      ],
      "text/plain": [
       "  Chr SNP_data                                                         \n",
       "1 1   /dcs04/lieber/statsgen/shizhong/michael/mwas/gwas//libd_chr1.pgen\n",
       "2 1   /dcs04/lieber/statsgen/shizhong/michael/mwas/gwas//libd_chr1.pgen\n",
       "3 1   /dcs04/lieber/statsgen/shizhong/michael/mwas/gwas//libd_chr1.pgen\n",
       "4 1   /dcs04/lieber/statsgen/shizhong/michael/mwas/gwas//libd_chr1.pgen\n",
       "5 1   /dcs04/lieber/statsgen/shizhong/michael/mwas/gwas//libd_chr1.pgen\n",
       "6 1   /dcs04/lieber/statsgen/shizhong/michael/mwas/gwas//libd_chr1.pgen\n",
       "  methylation_data                                                       \n",
       "1 /dcs04/lieber/statsgen/shizhong/michael/mwas/pheno/caud/out/chr1_AA.rda\n",
       "2 /dcs04/lieber/statsgen/shizhong/michael/mwas/pheno/caud/out/chr1_AA.rda\n",
       "3 /dcs04/lieber/statsgen/shizhong/michael/mwas/pheno/caud/out/chr1_AA.rda\n",
       "4 /dcs04/lieber/statsgen/shizhong/michael/mwas/pheno/caud/out/chr1_AA.rda\n",
       "5 /dcs04/lieber/statsgen/shizhong/michael/mwas/pheno/caud/out/chr1_AA.rda\n",
       "6 /dcs04/lieber/statsgen/shizhong/michael/mwas/pheno/caud/out/chr1_AA.rda\n",
       "  last_meth_value_with_SNP_coverage first_meth_value_with_SNP_coverage\n",
       "1 248918358                         1069461                           \n",
       "2 248918358                         1069461                           \n",
       "3 248918358                         1069461                           \n",
       "4 248918358                         1069461                           \n",
       "5 248918358                         1069461                           \n",
       "6 248918358                         1069461                           \n",
       "  last_meth_index_with_SNP_coverage first_meth_index_with_SNP_coverage\n",
       "1 2202702                           8982                              \n",
       "2 2202702                           8982                              \n",
       "3 2202702                           8982                              \n",
       "4 2202702                           8982                              \n",
       "5 2202702                           8982                              \n",
       "6 2202702                           8982                              \n",
       "  population region\n",
       "1 AA         caud  \n",
       "2 AA         caud  \n",
       "3 AA         caud  \n",
       "4 AA         caud  \n",
       "5 AA         caud  \n",
       "6 AA         caud  \n",
       "  cov_file                                                       chunk_start\n",
       "1 /dcs04/lieber/statsgen/mnagle/mwas/full_covariates/AA_caud.csv   8982     \n",
       "2 /dcs04/lieber/statsgen/mnagle/mwas/full_covariates/AA_caud.csv  28982     \n",
       "3 /dcs04/lieber/statsgen/mnagle/mwas/full_covariates/AA_caud.csv  48982     \n",
       "4 /dcs04/lieber/statsgen/mnagle/mwas/full_covariates/AA_caud.csv  68982     \n",
       "5 /dcs04/lieber/statsgen/mnagle/mwas/full_covariates/AA_caud.csv  88982     \n",
       "6 /dcs04/lieber/statsgen/mnagle/mwas/full_covariates/AA_caud.csv 108982     \n",
       "  chunk_end\n",
       "1  28981   \n",
       "2  48981   \n",
       "3  68981   \n",
       "4  88981   \n",
       "5 108981   \n",
       "6 128981   \n",
       "  modified_methylation_data                                                  \n",
       "1 /dcs04/lieber/statsgen/mnagle/mwas/pheno/caud/out/chr1_AA_8982-28981.rds   \n",
       "2 /dcs04/lieber/statsgen/mnagle/mwas/pheno/caud/out/chr1_AA_28982-48981.rds  \n",
       "3 /dcs04/lieber/statsgen/mnagle/mwas/pheno/caud/out/chr1_AA_48982-68981.rds  \n",
       "4 /dcs04/lieber/statsgen/mnagle/mwas/pheno/caud/out/chr1_AA_68982-88981.rds  \n",
       "5 /dcs04/lieber/statsgen/mnagle/mwas/pheno/caud/out/chr1_AA_88982-108981.rds \n",
       "6 /dcs04/lieber/statsgen/mnagle/mwas/pheno/caud/out/chr1_AA_108982-128981.rds"
      ]
     },
     "metadata": {},
     "output_type": "display_data"
    }
   ],
   "source": [
    "head(matched_df)"
   ]
  },
  {
   "cell_type": "code",
   "execution_count": 11,
   "id": "9ba70c8a-b2ce-4b52-a948-40cc8e4583a9",
   "metadata": {},
   "outputs": [],
   "source": [
    "matched_df$SNP_data <- gsub(\"/expanse/lustre/projects/jhu152/naglemi/mwas/gwas/\", \"/dcs04/lieber/statsgen/shizhong/michael/mwas/gwas/\", matched_df$SNP_data)\n",
    "matched_df$methylation_data <- gsub(\"/expanse/lustre/projects/jhu152/naglemi/mwas/pheno/\", \"/dcs04/lieber/statsgen/shizhong/michael/mwas/pheno/\", matched_df$methylation_data)\n",
    "matched_df$cov_file <- gsub(\"/expanse/lustre/projects/jhu152/naglemi/mwas/full_covariates/\", \"/dcs04/lieber/statsgen/mnagle/mwas/full_covariates/\", matched_df$cov_file)"
   ]
  },
  {
   "cell_type": "code",
   "execution_count": 12,
   "id": "f71aeaa2-8c2e-40c0-8e7a-7fa04ce321da",
   "metadata": {},
   "outputs": [
    {
     "data": {
      "text/html": [
       "<table class=\"dataframe\">\n",
       "<caption>A data.table: 6 × 13</caption>\n",
       "<thead>\n",
       "\t<tr><th scope=col>Chr</th><th scope=col>SNP_data</th><th scope=col>methylation_data</th><th scope=col>last_meth_value_with_SNP_coverage</th><th scope=col>first_meth_value_with_SNP_coverage</th><th scope=col>last_meth_index_with_SNP_coverage</th><th scope=col>first_meth_index_with_SNP_coverage</th><th scope=col>population</th><th scope=col>region</th><th scope=col>cov_file</th><th scope=col>chunk_start</th><th scope=col>chunk_end</th><th scope=col>modified_methylation_data</th></tr>\n",
       "\t<tr><th scope=col>&lt;int&gt;</th><th scope=col>&lt;chr&gt;</th><th scope=col>&lt;chr&gt;</th><th scope=col>&lt;int&gt;</th><th scope=col>&lt;int&gt;</th><th scope=col>&lt;int&gt;</th><th scope=col>&lt;int&gt;</th><th scope=col>&lt;chr&gt;</th><th scope=col>&lt;chr&gt;</th><th scope=col>&lt;chr&gt;</th><th scope=col>&lt;int&gt;</th><th scope=col>&lt;dbl&gt;</th><th scope=col>&lt;chr&gt;</th></tr>\n",
       "</thead>\n",
       "<tbody>\n",
       "\t<tr><td>1</td><td>/dcs04/lieber/statsgen/shizhong/michael/mwas/gwas//libd_chr1.pgen</td><td>/dcs04/lieber/statsgen/shizhong/michael/mwas/pheno/caud/out/chr1_AA.rda</td><td>248918358</td><td>1069461</td><td>2202702</td><td>8982</td><td>AA</td><td>caud</td><td>/dcs04/lieber/statsgen/mnagle/mwas/full_covariates/AA_caud.csv</td><td>  8982</td><td> 28981</td><td>/dcs04/lieber/statsgen/mnagle/mwas/pheno/caud/out/chr1_AA_8982-28981.rds   </td></tr>\n",
       "\t<tr><td>1</td><td>/dcs04/lieber/statsgen/shizhong/michael/mwas/gwas//libd_chr1.pgen</td><td>/dcs04/lieber/statsgen/shizhong/michael/mwas/pheno/caud/out/chr1_AA.rda</td><td>248918358</td><td>1069461</td><td>2202702</td><td>8982</td><td>AA</td><td>caud</td><td>/dcs04/lieber/statsgen/mnagle/mwas/full_covariates/AA_caud.csv</td><td> 28982</td><td> 48981</td><td>/dcs04/lieber/statsgen/mnagle/mwas/pheno/caud/out/chr1_AA_28982-48981.rds  </td></tr>\n",
       "\t<tr><td>1</td><td>/dcs04/lieber/statsgen/shizhong/michael/mwas/gwas//libd_chr1.pgen</td><td>/dcs04/lieber/statsgen/shizhong/michael/mwas/pheno/caud/out/chr1_AA.rda</td><td>248918358</td><td>1069461</td><td>2202702</td><td>8982</td><td>AA</td><td>caud</td><td>/dcs04/lieber/statsgen/mnagle/mwas/full_covariates/AA_caud.csv</td><td> 48982</td><td> 68981</td><td>/dcs04/lieber/statsgen/mnagle/mwas/pheno/caud/out/chr1_AA_48982-68981.rds  </td></tr>\n",
       "\t<tr><td>1</td><td>/dcs04/lieber/statsgen/shizhong/michael/mwas/gwas//libd_chr1.pgen</td><td>/dcs04/lieber/statsgen/shizhong/michael/mwas/pheno/caud/out/chr1_AA.rda</td><td>248918358</td><td>1069461</td><td>2202702</td><td>8982</td><td>AA</td><td>caud</td><td>/dcs04/lieber/statsgen/mnagle/mwas/full_covariates/AA_caud.csv</td><td> 68982</td><td> 88981</td><td>/dcs04/lieber/statsgen/mnagle/mwas/pheno/caud/out/chr1_AA_68982-88981.rds  </td></tr>\n",
       "\t<tr><td>1</td><td>/dcs04/lieber/statsgen/shizhong/michael/mwas/gwas//libd_chr1.pgen</td><td>/dcs04/lieber/statsgen/shizhong/michael/mwas/pheno/caud/out/chr1_AA.rda</td><td>248918358</td><td>1069461</td><td>2202702</td><td>8982</td><td>AA</td><td>caud</td><td>/dcs04/lieber/statsgen/mnagle/mwas/full_covariates/AA_caud.csv</td><td> 88982</td><td>108981</td><td>/dcs04/lieber/statsgen/mnagle/mwas/pheno/caud/out/chr1_AA_88982-108981.rds </td></tr>\n",
       "\t<tr><td>1</td><td>/dcs04/lieber/statsgen/shizhong/michael/mwas/gwas//libd_chr1.pgen</td><td>/dcs04/lieber/statsgen/shizhong/michael/mwas/pheno/caud/out/chr1_AA.rda</td><td>248918358</td><td>1069461</td><td>2202702</td><td>8982</td><td>AA</td><td>caud</td><td>/dcs04/lieber/statsgen/mnagle/mwas/full_covariates/AA_caud.csv</td><td>108982</td><td>128981</td><td>/dcs04/lieber/statsgen/mnagle/mwas/pheno/caud/out/chr1_AA_108982-128981.rds</td></tr>\n",
       "</tbody>\n",
       "</table>\n"
      ],
      "text/latex": [
       "A data.table: 6 × 13\n",
       "\\begin{tabular}{lllllllllllll}\n",
       " Chr & SNP\\_data & methylation\\_data & last\\_meth\\_value\\_with\\_SNP\\_coverage & first\\_meth\\_value\\_with\\_SNP\\_coverage & last\\_meth\\_index\\_with\\_SNP\\_coverage & first\\_meth\\_index\\_with\\_SNP\\_coverage & population & region & cov\\_file & chunk\\_start & chunk\\_end & modified\\_methylation\\_data\\\\\n",
       " <int> & <chr> & <chr> & <int> & <int> & <int> & <int> & <chr> & <chr> & <chr> & <int> & <dbl> & <chr>\\\\\n",
       "\\hline\n",
       "\t 1 & /dcs04/lieber/statsgen/shizhong/michael/mwas/gwas//libd\\_chr1.pgen & /dcs04/lieber/statsgen/shizhong/michael/mwas/pheno/caud/out/chr1\\_AA.rda & 248918358 & 1069461 & 2202702 & 8982 & AA & caud & /dcs04/lieber/statsgen/mnagle/mwas/full\\_covariates/AA\\_caud.csv &   8982 &  28981 & /dcs04/lieber/statsgen/mnagle/mwas/pheno/caud/out/chr1\\_AA\\_8982-28981.rds   \\\\\n",
       "\t 1 & /dcs04/lieber/statsgen/shizhong/michael/mwas/gwas//libd\\_chr1.pgen & /dcs04/lieber/statsgen/shizhong/michael/mwas/pheno/caud/out/chr1\\_AA.rda & 248918358 & 1069461 & 2202702 & 8982 & AA & caud & /dcs04/lieber/statsgen/mnagle/mwas/full\\_covariates/AA\\_caud.csv &  28982 &  48981 & /dcs04/lieber/statsgen/mnagle/mwas/pheno/caud/out/chr1\\_AA\\_28982-48981.rds  \\\\\n",
       "\t 1 & /dcs04/lieber/statsgen/shizhong/michael/mwas/gwas//libd\\_chr1.pgen & /dcs04/lieber/statsgen/shizhong/michael/mwas/pheno/caud/out/chr1\\_AA.rda & 248918358 & 1069461 & 2202702 & 8982 & AA & caud & /dcs04/lieber/statsgen/mnagle/mwas/full\\_covariates/AA\\_caud.csv &  48982 &  68981 & /dcs04/lieber/statsgen/mnagle/mwas/pheno/caud/out/chr1\\_AA\\_48982-68981.rds  \\\\\n",
       "\t 1 & /dcs04/lieber/statsgen/shizhong/michael/mwas/gwas//libd\\_chr1.pgen & /dcs04/lieber/statsgen/shizhong/michael/mwas/pheno/caud/out/chr1\\_AA.rda & 248918358 & 1069461 & 2202702 & 8982 & AA & caud & /dcs04/lieber/statsgen/mnagle/mwas/full\\_covariates/AA\\_caud.csv &  68982 &  88981 & /dcs04/lieber/statsgen/mnagle/mwas/pheno/caud/out/chr1\\_AA\\_68982-88981.rds  \\\\\n",
       "\t 1 & /dcs04/lieber/statsgen/shizhong/michael/mwas/gwas//libd\\_chr1.pgen & /dcs04/lieber/statsgen/shizhong/michael/mwas/pheno/caud/out/chr1\\_AA.rda & 248918358 & 1069461 & 2202702 & 8982 & AA & caud & /dcs04/lieber/statsgen/mnagle/mwas/full\\_covariates/AA\\_caud.csv &  88982 & 108981 & /dcs04/lieber/statsgen/mnagle/mwas/pheno/caud/out/chr1\\_AA\\_88982-108981.rds \\\\\n",
       "\t 1 & /dcs04/lieber/statsgen/shizhong/michael/mwas/gwas//libd\\_chr1.pgen & /dcs04/lieber/statsgen/shizhong/michael/mwas/pheno/caud/out/chr1\\_AA.rda & 248918358 & 1069461 & 2202702 & 8982 & AA & caud & /dcs04/lieber/statsgen/mnagle/mwas/full\\_covariates/AA\\_caud.csv & 108982 & 128981 & /dcs04/lieber/statsgen/mnagle/mwas/pheno/caud/out/chr1\\_AA\\_108982-128981.rds\\\\\n",
       "\\end{tabular}\n"
      ],
      "text/markdown": [
       "\n",
       "A data.table: 6 × 13\n",
       "\n",
       "| Chr &lt;int&gt; | SNP_data &lt;chr&gt; | methylation_data &lt;chr&gt; | last_meth_value_with_SNP_coverage &lt;int&gt; | first_meth_value_with_SNP_coverage &lt;int&gt; | last_meth_index_with_SNP_coverage &lt;int&gt; | first_meth_index_with_SNP_coverage &lt;int&gt; | population &lt;chr&gt; | region &lt;chr&gt; | cov_file &lt;chr&gt; | chunk_start &lt;int&gt; | chunk_end &lt;dbl&gt; | modified_methylation_data &lt;chr&gt; |\n",
       "|---|---|---|---|---|---|---|---|---|---|---|---|---|\n",
       "| 1 | /dcs04/lieber/statsgen/shizhong/michael/mwas/gwas//libd_chr1.pgen | /dcs04/lieber/statsgen/shizhong/michael/mwas/pheno/caud/out/chr1_AA.rda | 248918358 | 1069461 | 2202702 | 8982 | AA | caud | /dcs04/lieber/statsgen/mnagle/mwas/full_covariates/AA_caud.csv |   8982 |  28981 | /dcs04/lieber/statsgen/mnagle/mwas/pheno/caud/out/chr1_AA_8982-28981.rds    |\n",
       "| 1 | /dcs04/lieber/statsgen/shizhong/michael/mwas/gwas//libd_chr1.pgen | /dcs04/lieber/statsgen/shizhong/michael/mwas/pheno/caud/out/chr1_AA.rda | 248918358 | 1069461 | 2202702 | 8982 | AA | caud | /dcs04/lieber/statsgen/mnagle/mwas/full_covariates/AA_caud.csv |  28982 |  48981 | /dcs04/lieber/statsgen/mnagle/mwas/pheno/caud/out/chr1_AA_28982-48981.rds   |\n",
       "| 1 | /dcs04/lieber/statsgen/shizhong/michael/mwas/gwas//libd_chr1.pgen | /dcs04/lieber/statsgen/shizhong/michael/mwas/pheno/caud/out/chr1_AA.rda | 248918358 | 1069461 | 2202702 | 8982 | AA | caud | /dcs04/lieber/statsgen/mnagle/mwas/full_covariates/AA_caud.csv |  48982 |  68981 | /dcs04/lieber/statsgen/mnagle/mwas/pheno/caud/out/chr1_AA_48982-68981.rds   |\n",
       "| 1 | /dcs04/lieber/statsgen/shizhong/michael/mwas/gwas//libd_chr1.pgen | /dcs04/lieber/statsgen/shizhong/michael/mwas/pheno/caud/out/chr1_AA.rda | 248918358 | 1069461 | 2202702 | 8982 | AA | caud | /dcs04/lieber/statsgen/mnagle/mwas/full_covariates/AA_caud.csv |  68982 |  88981 | /dcs04/lieber/statsgen/mnagle/mwas/pheno/caud/out/chr1_AA_68982-88981.rds   |\n",
       "| 1 | /dcs04/lieber/statsgen/shizhong/michael/mwas/gwas//libd_chr1.pgen | /dcs04/lieber/statsgen/shizhong/michael/mwas/pheno/caud/out/chr1_AA.rda | 248918358 | 1069461 | 2202702 | 8982 | AA | caud | /dcs04/lieber/statsgen/mnagle/mwas/full_covariates/AA_caud.csv |  88982 | 108981 | /dcs04/lieber/statsgen/mnagle/mwas/pheno/caud/out/chr1_AA_88982-108981.rds  |\n",
       "| 1 | /dcs04/lieber/statsgen/shizhong/michael/mwas/gwas//libd_chr1.pgen | /dcs04/lieber/statsgen/shizhong/michael/mwas/pheno/caud/out/chr1_AA.rda | 248918358 | 1069461 | 2202702 | 8982 | AA | caud | /dcs04/lieber/statsgen/mnagle/mwas/full_covariates/AA_caud.csv | 108982 | 128981 | /dcs04/lieber/statsgen/mnagle/mwas/pheno/caud/out/chr1_AA_108982-128981.rds |\n",
       "\n"
      ],
      "text/plain": [
       "  Chr SNP_data                                                         \n",
       "1 1   /dcs04/lieber/statsgen/shizhong/michael/mwas/gwas//libd_chr1.pgen\n",
       "2 1   /dcs04/lieber/statsgen/shizhong/michael/mwas/gwas//libd_chr1.pgen\n",
       "3 1   /dcs04/lieber/statsgen/shizhong/michael/mwas/gwas//libd_chr1.pgen\n",
       "4 1   /dcs04/lieber/statsgen/shizhong/michael/mwas/gwas//libd_chr1.pgen\n",
       "5 1   /dcs04/lieber/statsgen/shizhong/michael/mwas/gwas//libd_chr1.pgen\n",
       "6 1   /dcs04/lieber/statsgen/shizhong/michael/mwas/gwas//libd_chr1.pgen\n",
       "  methylation_data                                                       \n",
       "1 /dcs04/lieber/statsgen/shizhong/michael/mwas/pheno/caud/out/chr1_AA.rda\n",
       "2 /dcs04/lieber/statsgen/shizhong/michael/mwas/pheno/caud/out/chr1_AA.rda\n",
       "3 /dcs04/lieber/statsgen/shizhong/michael/mwas/pheno/caud/out/chr1_AA.rda\n",
       "4 /dcs04/lieber/statsgen/shizhong/michael/mwas/pheno/caud/out/chr1_AA.rda\n",
       "5 /dcs04/lieber/statsgen/shizhong/michael/mwas/pheno/caud/out/chr1_AA.rda\n",
       "6 /dcs04/lieber/statsgen/shizhong/michael/mwas/pheno/caud/out/chr1_AA.rda\n",
       "  last_meth_value_with_SNP_coverage first_meth_value_with_SNP_coverage\n",
       "1 248918358                         1069461                           \n",
       "2 248918358                         1069461                           \n",
       "3 248918358                         1069461                           \n",
       "4 248918358                         1069461                           \n",
       "5 248918358                         1069461                           \n",
       "6 248918358                         1069461                           \n",
       "  last_meth_index_with_SNP_coverage first_meth_index_with_SNP_coverage\n",
       "1 2202702                           8982                              \n",
       "2 2202702                           8982                              \n",
       "3 2202702                           8982                              \n",
       "4 2202702                           8982                              \n",
       "5 2202702                           8982                              \n",
       "6 2202702                           8982                              \n",
       "  population region\n",
       "1 AA         caud  \n",
       "2 AA         caud  \n",
       "3 AA         caud  \n",
       "4 AA         caud  \n",
       "5 AA         caud  \n",
       "6 AA         caud  \n",
       "  cov_file                                                       chunk_start\n",
       "1 /dcs04/lieber/statsgen/mnagle/mwas/full_covariates/AA_caud.csv   8982     \n",
       "2 /dcs04/lieber/statsgen/mnagle/mwas/full_covariates/AA_caud.csv  28982     \n",
       "3 /dcs04/lieber/statsgen/mnagle/mwas/full_covariates/AA_caud.csv  48982     \n",
       "4 /dcs04/lieber/statsgen/mnagle/mwas/full_covariates/AA_caud.csv  68982     \n",
       "5 /dcs04/lieber/statsgen/mnagle/mwas/full_covariates/AA_caud.csv  88982     \n",
       "6 /dcs04/lieber/statsgen/mnagle/mwas/full_covariates/AA_caud.csv 108982     \n",
       "  chunk_end\n",
       "1  28981   \n",
       "2  48981   \n",
       "3  68981   \n",
       "4  88981   \n",
       "5 108981   \n",
       "6 128981   \n",
       "  modified_methylation_data                                                  \n",
       "1 /dcs04/lieber/statsgen/mnagle/mwas/pheno/caud/out/chr1_AA_8982-28981.rds   \n",
       "2 /dcs04/lieber/statsgen/mnagle/mwas/pheno/caud/out/chr1_AA_28982-48981.rds  \n",
       "3 /dcs04/lieber/statsgen/mnagle/mwas/pheno/caud/out/chr1_AA_48982-68981.rds  \n",
       "4 /dcs04/lieber/statsgen/mnagle/mwas/pheno/caud/out/chr1_AA_68982-88981.rds  \n",
       "5 /dcs04/lieber/statsgen/mnagle/mwas/pheno/caud/out/chr1_AA_88982-108981.rds \n",
       "6 /dcs04/lieber/statsgen/mnagle/mwas/pheno/caud/out/chr1_AA_108982-128981.rds"
      ]
     },
     "metadata": {},
     "output_type": "display_data"
    }
   ],
   "source": [
    "head(matched_df)"
   ]
  },
  {
   "cell_type": "code",
   "execution_count": 13,
   "id": "313f8500-1044-4065-aa79-85150d7b2ef4",
   "metadata": {},
   "outputs": [
    {
     "data": {
      "text/html": [
       "<style>\n",
       ".list-inline {list-style: none; margin:0; padding: 0}\n",
       ".list-inline>li {display: inline-block}\n",
       ".list-inline>li:not(:last-child)::after {content: \"\\00b7\"; padding: 0 .5ex}\n",
       "</style>\n",
       "<ol class=list-inline><li>11457</li><li>13</li></ol>\n"
      ],
      "text/latex": [
       "\\begin{enumerate*}\n",
       "\\item 11457\n",
       "\\item 13\n",
       "\\end{enumerate*}\n"
      ],
      "text/markdown": [
       "1. 11457\n",
       "2. 13\n",
       "\n",
       "\n"
      ],
      "text/plain": [
       "[1] 11457    13"
      ]
     },
     "metadata": {},
     "output_type": "display_data"
    }
   ],
   "source": [
    "dim(matched_df)"
   ]
  },
  {
   "cell_type": "code",
   "execution_count": 14,
   "id": "9b1b7650-5cef-448f-bcff-1d16184f0837",
   "metadata": {},
   "outputs": [
    {
     "data": {
      "text/html": [
       "TRUE"
      ],
      "text/latex": [
       "TRUE"
      ],
      "text/markdown": [
       "TRUE"
      ],
      "text/plain": [
       "[1] TRUE"
      ]
     },
     "metadata": {},
     "output_type": "display_data"
    },
    {
     "data": {
      "text/html": [
       "TRUE"
      ],
      "text/latex": [
       "TRUE"
      ],
      "text/markdown": [
       "TRUE"
      ],
      "text/plain": [
       "[1] TRUE"
      ]
     },
     "metadata": {},
     "output_type": "display_data"
    },
    {
     "data": {
      "text/html": [
       "TRUE"
      ],
      "text/latex": [
       "TRUE"
      ],
      "text/markdown": [
       "TRUE"
      ],
      "text/plain": [
       "[1] TRUE"
      ]
     },
     "metadata": {},
     "output_type": "display_data"
    }
   ],
   "source": [
    "file.exists(matched_df$SNP_data[1])\n",
    "file.exists(matched_df$methylation_data[1])\n",
    "file.exists(matched_df$cov_file[1])"
   ]
  },
  {
   "cell_type": "code",
   "execution_count": 15,
   "id": "c8fcfa99-0ed5-4891-9d4f-8e5450135fd7",
   "metadata": {},
   "outputs": [],
   "source": [
    "i <- 1"
   ]
  },
  {
   "cell_type": "code",
   "execution_count": null,
   "id": "d4a5f1cf-ca16-4f00-9ded-83fc443b557d",
   "metadata": {},
   "outputs": [],
   "source": []
  },
  {
   "cell_type": "code",
   "execution_count": null,
   "id": "c1c44109-9dae-47f8-84a8-4e56647c54a7",
   "metadata": {},
   "outputs": [],
   "source": []
  },
  {
   "cell_type": "code",
   "execution_count": null,
   "id": "bb1308f1-f068-4f2c-8097-cca4fdc14c2b",
   "metadata": {
    "tags": []
   },
   "outputs": [
    {
     "name": "stdout",
     "output_type": "stream",
     "text": [
      "[1] \"Checking for files in:  ./output_chr1_a2_caud/\"\n",
      "[1] \"Using pattern:  libd_chr1-chr1_AA-8982-28981-dynamic-1corestotal-allcorepera\"\n",
      "[1] \"Found files with specific pattern: \"\n",
      "[1] \"./output_chr1_a2_caud//libd_chr1-chr1_AA-libd_chr1-chr1_AA-8982-28981-dynamic-1corestotal-allcorepera-20240415-104419.rds\"\n"
     ]
    },
    {
     "name": "stderr",
     "output_type": "stream",
     "text": [
      "File with tag libd_chr1-chr1_AA-8982-28981-dynamic-1corestotal-allcorepera already exists. Skipping...\n",
      "\n"
     ]
    },
    {
     "name": "stdout",
     "output_type": "stream",
     "text": [
      "[1] \"Checking for files in:  ./output_chr1_a2_caud/\"\n",
      "[1] \"Using pattern:  libd_chr1-chr1_AA-28982-48981-dynamic-1corestotal-allcorepera\"\n",
      "[1] \"Found files with specific pattern: \"\n",
      "[1] \"./output_chr1_a2_caud//libd_chr1-chr1_AA-libd_chr1-chr1_AA-28982-48981-dynamic-1corestotal-allcorepera-20240415-104820.rds\"\n"
     ]
    },
    {
     "name": "stderr",
     "output_type": "stream",
     "text": [
      "File with tag libd_chr1-chr1_AA-28982-48981-dynamic-1corestotal-allcorepera already exists. Skipping...\n",
      "\n"
     ]
    },
    {
     "name": "stdout",
     "output_type": "stream",
     "text": [
      "[1] \"Checking for files in:  ./output_chr1_a2_caud/\"\n",
      "[1] \"Using pattern:  libd_chr1-chr1_AA-48982-68981-dynamic-1corestotal-allcorepera\"\n",
      "[1] \"Found files with specific pattern: \"\n",
      "[1] \"./output_chr1_a2_caud//libd_chr1-chr1_AA-libd_chr1-chr1_AA-48982-68981-dynamic-1corestotal-allcorepera-20240415-105220.rds\"\n"
     ]
    },
    {
     "name": "stderr",
     "output_type": "stream",
     "text": [
      "File with tag libd_chr1-chr1_AA-48982-68981-dynamic-1corestotal-allcorepera already exists. Skipping...\n",
      "\n"
     ]
    },
    {
     "name": "stdout",
     "output_type": "stream",
     "text": [
      "[1] \"Checking for files in:  ./output_chr1_a2_caud/\"\n",
      "[1] \"Using pattern:  libd_chr1-chr1_AA-68982-88981-dynamic-1corestotal-allcorepera\"\n",
      "[1] \"Found files with specific pattern: \"\n",
      "[1] \"./output_chr1_a2_caud//libd_chr1-chr1_AA-libd_chr1-chr1_AA-68982-88981-dynamic-1corestotal-allcorepera-20240415-105620.rds\"\n"
     ]
    },
    {
     "name": "stderr",
     "output_type": "stream",
     "text": [
      "File with tag libd_chr1-chr1_AA-68982-88981-dynamic-1corestotal-allcorepera already exists. Skipping...\n",
      "\n"
     ]
    },
    {
     "name": "stdout",
     "output_type": "stream",
     "text": [
      "[1] \"Checking for files in:  ./output_chr1_a2_caud/\"\n",
      "[1] \"Using pattern:  libd_chr1-chr1_AA-88982-108981-dynamic-1corestotal-allcorepera\"\n",
      "[1] \"Found files with specific pattern: \"\n",
      "character(0)\n",
      "\n",
      "#!/bin/bash\n",
      "#SBATCH --nodes=1\n",
      "#SBATCH --ntasks-per-node=1\n",
      "#SBATCH --cpus-per-task=1\n",
      "#SBATCH --mem-per-cpu=2G\n",
      "#SBATCH --output=slurm_output_libd_chr1-chr1_AA-88982-108981-dynamic-1corestotal-allcorepera-20240416-154123.out\n",
      "#SBATCH --job-name=libd_chr1-chr1_AA-88982-108981-dynamic-1corestotal-allcorepera-20240416-154123\n",
      "#SBATCH --time=48:00:00\n",
      "module load conda\n",
      "conda activate mwas\n",
      "echo 'Executing Rscript with arguments: Rscript scripts/CLI.R --outdir=./output_chr1_a2_caud/ --snp_data_path=/dcs04/lieber/statsgen/shizhong/michael/mwas/gwas//libd_chr1.pgen --methylation_data_path=/dcs04/lieber/statsgen/shizhong/michael/mwas/pheno/caud/out/chr1_AA.rda --cov=/dcs04/lieber/statsgen/mnagle/mwas/full_covariates/AA_caud.csv --verbose=FALSE --lambda_choice=1se --alphas=0.5 --allow_inefficient_parallelization=FALSE --n_fold=5 --window_sizes=10000 --save_evaluation_results_each_fold=FALSE --save_glmnet_object=FALSE --omit_folds_with_na_r=TRUE --methInput_rds_path=/dcs04/lieber/statsgen/mnagle/mwas/pheno/caud/out/chr1_AA_88982-108981.rds --chunk1=1 --chunk2=20000 --cv_eval_mode=dynamic --num_cores=1 --cores_per_alpha=all --tag=libd_chr1-chr1_AA-88982-108981-dynamic-1corestotal-allcorepera-20240416-154123'\n",
      "Rscript scripts/CLI.R --outdir=./output_chr1_a2_caud/ --snp_data_path=/dcs04/lieber/statsgen/shizhong/michael/mwas/gwas//libd_chr1.pgen --methylation_data_path=/dcs04/lieber/statsgen/shizhong/michael/mwas/pheno/caud/out/chr1_AA.rda --cov=/dcs04/lieber/statsgen/mnagle/mwas/full_covariates/AA_caud.csv --verbose=FALSE --lambda_choice=1se --alphas=0.5 --allow_inefficient_parallelization=FALSE --n_fold=5 --window_sizes=10000 --save_evaluation_results_each_fold=FALSE --save_glmnet_object=FALSE --omit_folds_with_na_r=TRUE --methInput_rds_path=/dcs04/lieber/statsgen/mnagle/mwas/pheno/caud/out/chr1_AA_88982-108981.rds --chunk1=1 --chunk2=20000 --cv_eval_mode=dynamic --num_cores=1 --cores_per_alpha=all --tag=libd_chr1-chr1_AA-88982-108981-dynamic-1corestotal-allcorepera-20240416-154123\n"
     ]
    },
    {
     "name": "stderr",
     "output_type": "stream",
     "text": [
      "Sleeping for 61 seconds\n",
      "\n"
     ]
    },
    {
     "name": "stdout",
     "output_type": "stream",
     "text": [
      "\n",
      "[1] \"Checking for files in:  ./output_chr1_a2_caud/\"\n",
      "[1] \"Using pattern:  libd_chr1-chr1_AA-108982-128981-dynamic-1corestotal-allcorepera\"\n",
      "[1] \"Found files with specific pattern: \"\n",
      "character(0)\n",
      "\n",
      "#!/bin/bash\n",
      "#SBATCH --nodes=1\n",
      "#SBATCH --ntasks-per-node=1\n",
      "#SBATCH --cpus-per-task=1\n",
      "#SBATCH --mem-per-cpu=2G\n",
      "#SBATCH --output=slurm_output_libd_chr1-chr1_AA-108982-128981-dynamic-1corestotal-allcorepera-20240416-154224.out\n",
      "#SBATCH --job-name=libd_chr1-chr1_AA-108982-128981-dynamic-1corestotal-allcorepera-20240416-154224\n",
      "#SBATCH --time=48:00:00\n",
      "module load conda\n",
      "conda activate mwas\n",
      "echo 'Executing Rscript with arguments: Rscript scripts/CLI.R --outdir=./output_chr1_a2_caud/ --snp_data_path=/dcs04/lieber/statsgen/shizhong/michael/mwas/gwas//libd_chr1.pgen --methylation_data_path=/dcs04/lieber/statsgen/shizhong/michael/mwas/pheno/caud/out/chr1_AA.rda --cov=/dcs04/lieber/statsgen/mnagle/mwas/full_covariates/AA_caud.csv --verbose=FALSE --lambda_choice=1se --alphas=0.5 --allow_inefficient_parallelization=FALSE --n_fold=5 --window_sizes=10000 --save_evaluation_results_each_fold=FALSE --save_glmnet_object=FALSE --omit_folds_with_na_r=TRUE --methInput_rds_path=/dcs04/lieber/statsgen/mnagle/mwas/pheno/caud/out/chr1_AA_108982-128981.rds --chunk1=1 --chunk2=20000 --cv_eval_mode=dynamic --num_cores=1 --cores_per_alpha=all --tag=libd_chr1-chr1_AA-108982-128981-dynamic-1corestotal-allcorepera-20240416-154224'\n",
      "Rscript scripts/CLI.R --outdir=./output_chr1_a2_caud/ --snp_data_path=/dcs04/lieber/statsgen/shizhong/michael/mwas/gwas//libd_chr1.pgen --methylation_data_path=/dcs04/lieber/statsgen/shizhong/michael/mwas/pheno/caud/out/chr1_AA.rda --cov=/dcs04/lieber/statsgen/mnagle/mwas/full_covariates/AA_caud.csv --verbose=FALSE --lambda_choice=1se --alphas=0.5 --allow_inefficient_parallelization=FALSE --n_fold=5 --window_sizes=10000 --save_evaluation_results_each_fold=FALSE --save_glmnet_object=FALSE --omit_folds_with_na_r=TRUE --methInput_rds_path=/dcs04/lieber/statsgen/mnagle/mwas/pheno/caud/out/chr1_AA_108982-128981.rds --chunk1=1 --chunk2=20000 --cv_eval_mode=dynamic --num_cores=1 --cores_per_alpha=all --tag=libd_chr1-chr1_AA-108982-128981-dynamic-1corestotal-allcorepera-20240416-154224\n"
     ]
    },
    {
     "name": "stderr",
     "output_type": "stream",
     "text": [
      "Sleeping for 61 seconds\n",
      "\n"
     ]
    },
    {
     "name": "stdout",
     "output_type": "stream",
     "text": [
      "\n",
      "[1] \"Checking for files in:  ./output_chr1_a2_caud/\"\n",
      "[1] \"Using pattern:  libd_chr1-chr1_AA-128982-148981-dynamic-1corestotal-allcorepera\"\n",
      "[1] \"Found files with specific pattern: \"\n",
      "[1] \"./output_chr1_a2_caud//libd_chr1-chr1_AA-libd_chr1-chr1_AA-128982-148981-dynamic-1corestotal-allcorepera-20240415-110821.rds\"\n"
     ]
    },
    {
     "name": "stderr",
     "output_type": "stream",
     "text": [
      "File with tag libd_chr1-chr1_AA-128982-148981-dynamic-1corestotal-allcorepera already exists. Skipping...\n",
      "\n"
     ]
    },
    {
     "name": "stdout",
     "output_type": "stream",
     "text": [
      "[1] \"Checking for files in:  ./output_chr1_a2_caud/\"\n",
      "[1] \"Using pattern:  libd_chr1-chr1_AA-148982-168981-dynamic-1corestotal-allcorepera\"\n",
      "[1] \"Found files with specific pattern: \"\n",
      "[1] \"./output_chr1_a2_caud//libd_chr1-chr1_AA-libd_chr1-chr1_AA-148982-168981-dynamic-1corestotal-allcorepera-20240415-111221.rds\"\n"
     ]
    },
    {
     "name": "stderr",
     "output_type": "stream",
     "text": [
      "File with tag libd_chr1-chr1_AA-148982-168981-dynamic-1corestotal-allcorepera already exists. Skipping...\n",
      "\n"
     ]
    },
    {
     "name": "stdout",
     "output_type": "stream",
     "text": [
      "[1] \"Checking for files in:  ./output_chr1_a2_caud/\"\n",
      "[1] \"Using pattern:  libd_chr1-chr1_AA-168982-188981-dynamic-1corestotal-allcorepera\"\n",
      "[1] \"Found files with specific pattern: \"\n",
      "[1] \"./output_chr1_a2_caud//libd_chr1-chr1_AA-libd_chr1-chr1_AA-168982-188981-dynamic-1corestotal-allcorepera-20240415-111621.rds\"\n"
     ]
    },
    {
     "name": "stderr",
     "output_type": "stream",
     "text": [
      "File with tag libd_chr1-chr1_AA-168982-188981-dynamic-1corestotal-allcorepera already exists. Skipping...\n",
      "\n"
     ]
    },
    {
     "name": "stdout",
     "output_type": "stream",
     "text": [
      "[1] \"Checking for files in:  ./output_chr1_a2_caud/\"\n",
      "[1] \"Using pattern:  libd_chr1-chr1_AA-188982-208981-dynamic-1corestotal-allcorepera\"\n",
      "[1] \"Found files with specific pattern: \"\n",
      "[1] \"./output_chr1_a2_caud//libd_chr1-chr1_AA-libd_chr1-chr1_AA-188982-208981-dynamic-1corestotal-allcorepera-20240415-112021.rds\"\n"
     ]
    },
    {
     "name": "stderr",
     "output_type": "stream",
     "text": [
      "File with tag libd_chr1-chr1_AA-188982-208981-dynamic-1corestotal-allcorepera already exists. Skipping...\n",
      "\n"
     ]
    },
    {
     "name": "stdout",
     "output_type": "stream",
     "text": [
      "[1] \"Checking for files in:  ./output_chr1_a2_caud/\"\n",
      "[1] \"Using pattern:  libd_chr1-chr1_AA-208982-228981-dynamic-1corestotal-allcorepera\"\n",
      "[1] \"Found files with specific pattern: \"\n",
      "[1] \"./output_chr1_a2_caud//libd_chr1-chr1_AA-libd_chr1-chr1_AA-208982-228981-dynamic-1corestotal-allcorepera-20240415-112422.rds\"\n"
     ]
    },
    {
     "name": "stderr",
     "output_type": "stream",
     "text": [
      "File with tag libd_chr1-chr1_AA-208982-228981-dynamic-1corestotal-allcorepera already exists. Skipping...\n",
      "\n"
     ]
    },
    {
     "name": "stdout",
     "output_type": "stream",
     "text": [
      "[1] \"Checking for files in:  ./output_chr1_a2_caud/\"\n",
      "[1] \"Using pattern:  libd_chr1-chr1_AA-228982-248981-dynamic-1corestotal-allcorepera\"\n",
      "[1] \"Found files with specific pattern: \"\n",
      "character(0)\n",
      "\n",
      "#!/bin/bash\n",
      "#SBATCH --nodes=1\n",
      "#SBATCH --ntasks-per-node=1\n",
      "#SBATCH --cpus-per-task=1\n",
      "#SBATCH --mem-per-cpu=2G\n",
      "#SBATCH --output=slurm_output_libd_chr1-chr1_AA-228982-248981-dynamic-1corestotal-allcorepera-20240416-154325.out\n",
      "#SBATCH --job-name=libd_chr1-chr1_AA-228982-248981-dynamic-1corestotal-allcorepera-20240416-154325\n",
      "#SBATCH --time=48:00:00\n",
      "module load conda\n",
      "conda activate mwas\n",
      "echo 'Executing Rscript with arguments: Rscript scripts/CLI.R --outdir=./output_chr1_a2_caud/ --snp_data_path=/dcs04/lieber/statsgen/shizhong/michael/mwas/gwas//libd_chr1.pgen --methylation_data_path=/dcs04/lieber/statsgen/shizhong/michael/mwas/pheno/caud/out/chr1_AA.rda --cov=/dcs04/lieber/statsgen/mnagle/mwas/full_covariates/AA_caud.csv --verbose=FALSE --lambda_choice=1se --alphas=0.5 --allow_inefficient_parallelization=FALSE --n_fold=5 --window_sizes=10000 --save_evaluation_results_each_fold=FALSE --save_glmnet_object=FALSE --omit_folds_with_na_r=TRUE --methInput_rds_path=/dcs04/lieber/statsgen/mnagle/mwas/pheno/caud/out/chr1_AA_228982-248981.rds --chunk1=1 --chunk2=20000 --cv_eval_mode=dynamic --num_cores=1 --cores_per_alpha=all --tag=libd_chr1-chr1_AA-228982-248981-dynamic-1corestotal-allcorepera-20240416-154325'\n",
      "Rscript scripts/CLI.R --outdir=./output_chr1_a2_caud/ --snp_data_path=/dcs04/lieber/statsgen/shizhong/michael/mwas/gwas//libd_chr1.pgen --methylation_data_path=/dcs04/lieber/statsgen/shizhong/michael/mwas/pheno/caud/out/chr1_AA.rda --cov=/dcs04/lieber/statsgen/mnagle/mwas/full_covariates/AA_caud.csv --verbose=FALSE --lambda_choice=1se --alphas=0.5 --allow_inefficient_parallelization=FALSE --n_fold=5 --window_sizes=10000 --save_evaluation_results_each_fold=FALSE --save_glmnet_object=FALSE --omit_folds_with_na_r=TRUE --methInput_rds_path=/dcs04/lieber/statsgen/mnagle/mwas/pheno/caud/out/chr1_AA_228982-248981.rds --chunk1=1 --chunk2=20000 --cv_eval_mode=dynamic --num_cores=1 --cores_per_alpha=all --tag=libd_chr1-chr1_AA-228982-248981-dynamic-1corestotal-allcorepera-20240416-154325\n"
     ]
    },
    {
     "name": "stderr",
     "output_type": "stream",
     "text": [
      "Sleeping for 61 seconds\n",
      "\n"
     ]
    },
    {
     "name": "stdout",
     "output_type": "stream",
     "text": [
      "\n",
      "[1] \"Checking for files in:  ./output_chr1_a2_caud/\"\n",
      "[1] \"Using pattern:  libd_chr1-chr1_AA-248982-268981-dynamic-1corestotal-allcorepera\"\n",
      "[1] \"Found files with specific pattern: \"\n",
      "[1] \"./output_chr1_a2_caud//libd_chr1-chr1_AA-libd_chr1-chr1_AA-248982-268981-dynamic-1corestotal-allcorepera-20240415-113222.rds\"\n"
     ]
    },
    {
     "name": "stderr",
     "output_type": "stream",
     "text": [
      "File with tag libd_chr1-chr1_AA-248982-268981-dynamic-1corestotal-allcorepera already exists. Skipping...\n",
      "\n"
     ]
    },
    {
     "name": "stdout",
     "output_type": "stream",
     "text": [
      "[1] \"Checking for files in:  ./output_chr1_a2_caud/\"\n",
      "[1] \"Using pattern:  libd_chr1-chr1_AA-268982-288981-dynamic-1corestotal-allcorepera\"\n",
      "[1] \"Found files with specific pattern: \"\n",
      "[1] \"./output_chr1_a2_caud//libd_chr1-chr1_AA-libd_chr1-chr1_AA-268982-288981-dynamic-1corestotal-allcorepera-20240415-113622.rds\"\n"
     ]
    },
    {
     "name": "stderr",
     "output_type": "stream",
     "text": [
      "File with tag libd_chr1-chr1_AA-268982-288981-dynamic-1corestotal-allcorepera already exists. Skipping...\n",
      "\n"
     ]
    },
    {
     "name": "stdout",
     "output_type": "stream",
     "text": [
      "[1] \"Checking for files in:  ./output_chr1_a2_caud/\"\n",
      "[1] \"Using pattern:  libd_chr1-chr1_AA-288982-308981-dynamic-1corestotal-allcorepera\"\n",
      "[1] \"Found files with specific pattern: \"\n",
      "character(0)\n",
      "\n",
      "#!/bin/bash\n",
      "#SBATCH --nodes=1\n",
      "#SBATCH --ntasks-per-node=1\n",
      "#SBATCH --cpus-per-task=1\n",
      "#SBATCH --mem-per-cpu=2G\n",
      "#SBATCH --output=slurm_output_libd_chr1-chr1_AA-288982-308981-dynamic-1corestotal-allcorepera-20240416-154426.out\n",
      "#SBATCH --job-name=libd_chr1-chr1_AA-288982-308981-dynamic-1corestotal-allcorepera-20240416-154426\n",
      "#SBATCH --time=48:00:00\n",
      "module load conda\n",
      "conda activate mwas\n",
      "echo 'Executing Rscript with arguments: Rscript scripts/CLI.R --outdir=./output_chr1_a2_caud/ --snp_data_path=/dcs04/lieber/statsgen/shizhong/michael/mwas/gwas//libd_chr1.pgen --methylation_data_path=/dcs04/lieber/statsgen/shizhong/michael/mwas/pheno/caud/out/chr1_AA.rda --cov=/dcs04/lieber/statsgen/mnagle/mwas/full_covariates/AA_caud.csv --verbose=FALSE --lambda_choice=1se --alphas=0.5 --allow_inefficient_parallelization=FALSE --n_fold=5 --window_sizes=10000 --save_evaluation_results_each_fold=FALSE --save_glmnet_object=FALSE --omit_folds_with_na_r=TRUE --methInput_rds_path=/dcs04/lieber/statsgen/mnagle/mwas/pheno/caud/out/chr1_AA_288982-308981.rds --chunk1=1 --chunk2=20000 --cv_eval_mode=dynamic --num_cores=1 --cores_per_alpha=all --tag=libd_chr1-chr1_AA-288982-308981-dynamic-1corestotal-allcorepera-20240416-154426'\n",
      "Rscript scripts/CLI.R --outdir=./output_chr1_a2_caud/ --snp_data_path=/dcs04/lieber/statsgen/shizhong/michael/mwas/gwas//libd_chr1.pgen --methylation_data_path=/dcs04/lieber/statsgen/shizhong/michael/mwas/pheno/caud/out/chr1_AA.rda --cov=/dcs04/lieber/statsgen/mnagle/mwas/full_covariates/AA_caud.csv --verbose=FALSE --lambda_choice=1se --alphas=0.5 --allow_inefficient_parallelization=FALSE --n_fold=5 --window_sizes=10000 --save_evaluation_results_each_fold=FALSE --save_glmnet_object=FALSE --omit_folds_with_na_r=TRUE --methInput_rds_path=/dcs04/lieber/statsgen/mnagle/mwas/pheno/caud/out/chr1_AA_288982-308981.rds --chunk1=1 --chunk2=20000 --cv_eval_mode=dynamic --num_cores=1 --cores_per_alpha=all --tag=libd_chr1-chr1_AA-288982-308981-dynamic-1corestotal-allcorepera-20240416-154426\n"
     ]
    },
    {
     "name": "stderr",
     "output_type": "stream",
     "text": [
      "Sleeping for 61 seconds\n",
      "\n"
     ]
    },
    {
     "name": "stdout",
     "output_type": "stream",
     "text": [
      "\n",
      "[1] \"Checking for files in:  ./output_chr1_a2_caud/\"\n",
      "[1] \"Using pattern:  libd_chr1-chr1_AA-308982-328981-dynamic-1corestotal-allcorepera\"\n",
      "[1] \"Found files with specific pattern: \"\n",
      "[1] \"./output_chr1_a2_caud//libd_chr1-chr1_AA-libd_chr1-chr1_AA-308982-328981-dynamic-1corestotal-allcorepera-20240415-114423.rds\"\n"
     ]
    },
    {
     "name": "stderr",
     "output_type": "stream",
     "text": [
      "File with tag libd_chr1-chr1_AA-308982-328981-dynamic-1corestotal-allcorepera already exists. Skipping...\n",
      "\n"
     ]
    },
    {
     "name": "stdout",
     "output_type": "stream",
     "text": [
      "[1] \"Checking for files in:  ./output_chr1_a2_caud/\"\n",
      "[1] \"Using pattern:  libd_chr1-chr1_AA-328982-348981-dynamic-1corestotal-allcorepera\"\n",
      "[1] \"Found files with specific pattern: \"\n",
      "[1] \"./output_chr1_a2_caud//libd_chr1-chr1_AA-libd_chr1-chr1_AA-328982-348981-dynamic-1corestotal-allcorepera-20240415-114823.rds\"\n"
     ]
    },
    {
     "name": "stderr",
     "output_type": "stream",
     "text": [
      "File with tag libd_chr1-chr1_AA-328982-348981-dynamic-1corestotal-allcorepera already exists. Skipping...\n",
      "\n"
     ]
    },
    {
     "name": "stdout",
     "output_type": "stream",
     "text": [
      "[1] \"Checking for files in:  ./output_chr1_a2_caud/\"\n",
      "[1] \"Using pattern:  libd_chr1-chr1_AA-348982-368981-dynamic-1corestotal-allcorepera\"\n",
      "[1] \"Found files with specific pattern: \"\n",
      "character(0)\n",
      "\n",
      "#!/bin/bash\n",
      "#SBATCH --nodes=1\n",
      "#SBATCH --ntasks-per-node=1\n",
      "#SBATCH --cpus-per-task=1\n",
      "#SBATCH --mem-per-cpu=2G\n",
      "#SBATCH --output=slurm_output_libd_chr1-chr1_AA-348982-368981-dynamic-1corestotal-allcorepera-20240416-154527.out\n",
      "#SBATCH --job-name=libd_chr1-chr1_AA-348982-368981-dynamic-1corestotal-allcorepera-20240416-154527\n",
      "#SBATCH --time=48:00:00\n",
      "module load conda\n",
      "conda activate mwas\n",
      "echo 'Executing Rscript with arguments: Rscript scripts/CLI.R --outdir=./output_chr1_a2_caud/ --snp_data_path=/dcs04/lieber/statsgen/shizhong/michael/mwas/gwas//libd_chr1.pgen --methylation_data_path=/dcs04/lieber/statsgen/shizhong/michael/mwas/pheno/caud/out/chr1_AA.rda --cov=/dcs04/lieber/statsgen/mnagle/mwas/full_covariates/AA_caud.csv --verbose=FALSE --lambda_choice=1se --alphas=0.5 --allow_inefficient_parallelization=FALSE --n_fold=5 --window_sizes=10000 --save_evaluation_results_each_fold=FALSE --save_glmnet_object=FALSE --omit_folds_with_na_r=TRUE --methInput_rds_path=/dcs04/lieber/statsgen/mnagle/mwas/pheno/caud/out/chr1_AA_348982-368981.rds --chunk1=1 --chunk2=20000 --cv_eval_mode=dynamic --num_cores=1 --cores_per_alpha=all --tag=libd_chr1-chr1_AA-348982-368981-dynamic-1corestotal-allcorepera-20240416-154527'\n",
      "Rscript scripts/CLI.R --outdir=./output_chr1_a2_caud/ --snp_data_path=/dcs04/lieber/statsgen/shizhong/michael/mwas/gwas//libd_chr1.pgen --methylation_data_path=/dcs04/lieber/statsgen/shizhong/michael/mwas/pheno/caud/out/chr1_AA.rda --cov=/dcs04/lieber/statsgen/mnagle/mwas/full_covariates/AA_caud.csv --verbose=FALSE --lambda_choice=1se --alphas=0.5 --allow_inefficient_parallelization=FALSE --n_fold=5 --window_sizes=10000 --save_evaluation_results_each_fold=FALSE --save_glmnet_object=FALSE --omit_folds_with_na_r=TRUE --methInput_rds_path=/dcs04/lieber/statsgen/mnagle/mwas/pheno/caud/out/chr1_AA_348982-368981.rds --chunk1=1 --chunk2=20000 --cv_eval_mode=dynamic --num_cores=1 --cores_per_alpha=all --tag=libd_chr1-chr1_AA-348982-368981-dynamic-1corestotal-allcorepera-20240416-154527\n"
     ]
    },
    {
     "name": "stderr",
     "output_type": "stream",
     "text": [
      "Sleeping for 61 seconds\n",
      "\n"
     ]
    },
    {
     "name": "stdout",
     "output_type": "stream",
     "text": [
      "\n",
      "[1] \"Checking for files in:  ./output_chr1_a2_caud/\"\n",
      "[1] \"Using pattern:  libd_chr1-chr1_AA-368982-388981-dynamic-1corestotal-allcorepera\"\n",
      "[1] \"Found files with specific pattern: \"\n",
      "character(0)\n",
      "\n",
      "#!/bin/bash\n",
      "#SBATCH --nodes=1\n",
      "#SBATCH --ntasks-per-node=1\n",
      "#SBATCH --cpus-per-task=1\n",
      "#SBATCH --mem-per-cpu=2G\n",
      "#SBATCH --output=slurm_output_libd_chr1-chr1_AA-368982-388981-dynamic-1corestotal-allcorepera-20240416-154628.out\n",
      "#SBATCH --job-name=libd_chr1-chr1_AA-368982-388981-dynamic-1corestotal-allcorepera-20240416-154628\n",
      "#SBATCH --time=48:00:00\n",
      "module load conda\n",
      "conda activate mwas\n",
      "echo 'Executing Rscript with arguments: Rscript scripts/CLI.R --outdir=./output_chr1_a2_caud/ --snp_data_path=/dcs04/lieber/statsgen/shizhong/michael/mwas/gwas//libd_chr1.pgen --methylation_data_path=/dcs04/lieber/statsgen/shizhong/michael/mwas/pheno/caud/out/chr1_AA.rda --cov=/dcs04/lieber/statsgen/mnagle/mwas/full_covariates/AA_caud.csv --verbose=FALSE --lambda_choice=1se --alphas=0.5 --allow_inefficient_parallelization=FALSE --n_fold=5 --window_sizes=10000 --save_evaluation_results_each_fold=FALSE --save_glmnet_object=FALSE --omit_folds_with_na_r=TRUE --methInput_rds_path=/dcs04/lieber/statsgen/mnagle/mwas/pheno/caud/out/chr1_AA_368982-388981.rds --chunk1=1 --chunk2=20000 --cv_eval_mode=dynamic --num_cores=1 --cores_per_alpha=all --tag=libd_chr1-chr1_AA-368982-388981-dynamic-1corestotal-allcorepera-20240416-154628'\n",
      "Rscript scripts/CLI.R --outdir=./output_chr1_a2_caud/ --snp_data_path=/dcs04/lieber/statsgen/shizhong/michael/mwas/gwas//libd_chr1.pgen --methylation_data_path=/dcs04/lieber/statsgen/shizhong/michael/mwas/pheno/caud/out/chr1_AA.rda --cov=/dcs04/lieber/statsgen/mnagle/mwas/full_covariates/AA_caud.csv --verbose=FALSE --lambda_choice=1se --alphas=0.5 --allow_inefficient_parallelization=FALSE --n_fold=5 --window_sizes=10000 --save_evaluation_results_each_fold=FALSE --save_glmnet_object=FALSE --omit_folds_with_na_r=TRUE --methInput_rds_path=/dcs04/lieber/statsgen/mnagle/mwas/pheno/caud/out/chr1_AA_368982-388981.rds --chunk1=1 --chunk2=20000 --cv_eval_mode=dynamic --num_cores=1 --cores_per_alpha=all --tag=libd_chr1-chr1_AA-368982-388981-dynamic-1corestotal-allcorepera-20240416-154628\n"
     ]
    },
    {
     "name": "stderr",
     "output_type": "stream",
     "text": [
      "Sleeping for 61 seconds\n",
      "\n"
     ]
    },
    {
     "name": "stdout",
     "output_type": "stream",
     "text": [
      "\n",
      "[1] \"Checking for files in:  ./output_chr1_a2_caud/\"\n",
      "[1] \"Using pattern:  libd_chr1-chr1_AA-388982-408981-dynamic-1corestotal-allcorepera\"\n",
      "[1] \"Found files with specific pattern: \"\n",
      "[1] \"./output_chr1_a2_caud//libd_chr1-chr1_AA-libd_chr1-chr1_AA-388982-408981-dynamic-1corestotal-allcorepera-20240415-120024.rds\"\n"
     ]
    },
    {
     "name": "stderr",
     "output_type": "stream",
     "text": [
      "File with tag libd_chr1-chr1_AA-388982-408981-dynamic-1corestotal-allcorepera already exists. Skipping...\n",
      "\n"
     ]
    },
    {
     "name": "stdout",
     "output_type": "stream",
     "text": [
      "[1] \"Checking for files in:  ./output_chr1_a2_caud/\"\n",
      "[1] \"Using pattern:  libd_chr1-chr1_AA-408982-428981-dynamic-1corestotal-allcorepera\"\n",
      "[1] \"Found files with specific pattern: \"\n",
      "[1] \"./output_chr1_a2_caud//libd_chr1-chr1_AA-libd_chr1-chr1_AA-408982-428981-dynamic-1corestotal-allcorepera-20240415-120424.rds\"\n"
     ]
    },
    {
     "name": "stderr",
     "output_type": "stream",
     "text": [
      "File with tag libd_chr1-chr1_AA-408982-428981-dynamic-1corestotal-allcorepera already exists. Skipping...\n",
      "\n"
     ]
    },
    {
     "name": "stdout",
     "output_type": "stream",
     "text": [
      "[1] \"Checking for files in:  ./output_chr1_a2_caud/\"\n",
      "[1] \"Using pattern:  libd_chr1-chr1_AA-428982-448981-dynamic-1corestotal-allcorepera\"\n",
      "[1] \"Found files with specific pattern: \"\n",
      "[1] \"./output_chr1_a2_caud//libd_chr1-chr1_AA-libd_chr1-chr1_AA-428982-448981-dynamic-1corestotal-allcorepera-20240415-120824.rds\"\n"
     ]
    },
    {
     "name": "stderr",
     "output_type": "stream",
     "text": [
      "File with tag libd_chr1-chr1_AA-428982-448981-dynamic-1corestotal-allcorepera already exists. Skipping...\n",
      "\n"
     ]
    },
    {
     "name": "stdout",
     "output_type": "stream",
     "text": [
      "[1] \"Checking for files in:  ./output_chr1_a2_caud/\"\n",
      "[1] \"Using pattern:  libd_chr1-chr1_AA-448982-468981-dynamic-1corestotal-allcorepera\"\n",
      "[1] \"Found files with specific pattern: \"\n",
      "[1] \"./output_chr1_a2_caud//libd_chr1-chr1_AA-libd_chr1-chr1_AA-448982-468981-dynamic-1corestotal-allcorepera-20240415-121224.rds\"\n"
     ]
    },
    {
     "name": "stderr",
     "output_type": "stream",
     "text": [
      "File with tag libd_chr1-chr1_AA-448982-468981-dynamic-1corestotal-allcorepera already exists. Skipping...\n",
      "\n"
     ]
    },
    {
     "name": "stdout",
     "output_type": "stream",
     "text": [
      "[1] \"Checking for files in:  ./output_chr1_a2_caud/\"\n",
      "[1] \"Using pattern:  libd_chr1-chr1_AA-468982-488981-dynamic-1corestotal-allcorepera\"\n",
      "[1] \"Found files with specific pattern: \"\n",
      "[1] \"./output_chr1_a2_caud//libd_chr1-chr1_AA-libd_chr1-chr1_AA-468982-488981-dynamic-1corestotal-allcorepera-20240415-121624.rds\"\n"
     ]
    },
    {
     "name": "stderr",
     "output_type": "stream",
     "text": [
      "File with tag libd_chr1-chr1_AA-468982-488981-dynamic-1corestotal-allcorepera already exists. Skipping...\n",
      "\n"
     ]
    },
    {
     "name": "stdout",
     "output_type": "stream",
     "text": [
      "[1] \"Checking for files in:  ./output_chr1_a2_caud/\"\n",
      "[1] \"Using pattern:  libd_chr1-chr1_AA-488982-508981-dynamic-1corestotal-allcorepera\"\n",
      "[1] \"Found files with specific pattern: \"\n",
      "character(0)\n",
      "\n",
      "#!/bin/bash\n",
      "#SBATCH --nodes=1\n",
      "#SBATCH --ntasks-per-node=1\n",
      "#SBATCH --cpus-per-task=1\n",
      "#SBATCH --mem-per-cpu=2G\n",
      "#SBATCH --output=slurm_output_libd_chr1-chr1_AA-488982-508981-dynamic-1corestotal-allcorepera-20240416-154729.out\n",
      "#SBATCH --job-name=libd_chr1-chr1_AA-488982-508981-dynamic-1corestotal-allcorepera-20240416-154729\n",
      "#SBATCH --time=48:00:00\n",
      "module load conda\n",
      "conda activate mwas\n",
      "echo 'Executing Rscript with arguments: Rscript scripts/CLI.R --outdir=./output_chr1_a2_caud/ --snp_data_path=/dcs04/lieber/statsgen/shizhong/michael/mwas/gwas//libd_chr1.pgen --methylation_data_path=/dcs04/lieber/statsgen/shizhong/michael/mwas/pheno/caud/out/chr1_AA.rda --cov=/dcs04/lieber/statsgen/mnagle/mwas/full_covariates/AA_caud.csv --verbose=FALSE --lambda_choice=1se --alphas=0.5 --allow_inefficient_parallelization=FALSE --n_fold=5 --window_sizes=10000 --save_evaluation_results_each_fold=FALSE --save_glmnet_object=FALSE --omit_folds_with_na_r=TRUE --methInput_rds_path=/dcs04/lieber/statsgen/mnagle/mwas/pheno/caud/out/chr1_AA_488982-508981.rds --chunk1=1 --chunk2=20000 --cv_eval_mode=dynamic --num_cores=1 --cores_per_alpha=all --tag=libd_chr1-chr1_AA-488982-508981-dynamic-1corestotal-allcorepera-20240416-154729'\n",
      "Rscript scripts/CLI.R --outdir=./output_chr1_a2_caud/ --snp_data_path=/dcs04/lieber/statsgen/shizhong/michael/mwas/gwas//libd_chr1.pgen --methylation_data_path=/dcs04/lieber/statsgen/shizhong/michael/mwas/pheno/caud/out/chr1_AA.rda --cov=/dcs04/lieber/statsgen/mnagle/mwas/full_covariates/AA_caud.csv --verbose=FALSE --lambda_choice=1se --alphas=0.5 --allow_inefficient_parallelization=FALSE --n_fold=5 --window_sizes=10000 --save_evaluation_results_each_fold=FALSE --save_glmnet_object=FALSE --omit_folds_with_na_r=TRUE --methInput_rds_path=/dcs04/lieber/statsgen/mnagle/mwas/pheno/caud/out/chr1_AA_488982-508981.rds --chunk1=1 --chunk2=20000 --cv_eval_mode=dynamic --num_cores=1 --cores_per_alpha=all --tag=libd_chr1-chr1_AA-488982-508981-dynamic-1corestotal-allcorepera-20240416-154729\n"
     ]
    },
    {
     "name": "stderr",
     "output_type": "stream",
     "text": [
      "Sleeping for 61 seconds\n",
      "\n"
     ]
    },
    {
     "name": "stdout",
     "output_type": "stream",
     "text": [
      "\n",
      "[1] \"Checking for files in:  ./output_chr1_a2_caud/\"\n",
      "[1] \"Using pattern:  libd_chr1-chr1_AA-508982-528981-dynamic-1corestotal-allcorepera\"\n",
      "[1] \"Found files with specific pattern: \"\n",
      "[1] \"./output_chr1_a2_caud//libd_chr1-chr1_AA-libd_chr1-chr1_AA-508982-528981-dynamic-1corestotal-allcorepera-20240415-122425.rds\"\n"
     ]
    },
    {
     "name": "stderr",
     "output_type": "stream",
     "text": [
      "File with tag libd_chr1-chr1_AA-508982-528981-dynamic-1corestotal-allcorepera already exists. Skipping...\n",
      "\n"
     ]
    },
    {
     "name": "stdout",
     "output_type": "stream",
     "text": [
      "[1] \"Checking for files in:  ./output_chr1_a2_caud/\"\n",
      "[1] \"Using pattern:  libd_chr1-chr1_AA-528982-548981-dynamic-1corestotal-allcorepera\"\n",
      "[1] \"Found files with specific pattern: \"\n",
      "[1] \"./output_chr1_a2_caud//libd_chr1-chr1_AA-libd_chr1-chr1_AA-528982-548981-dynamic-1corestotal-allcorepera-20240415-122825.rds\"\n"
     ]
    },
    {
     "name": "stderr",
     "output_type": "stream",
     "text": [
      "File with tag libd_chr1-chr1_AA-528982-548981-dynamic-1corestotal-allcorepera already exists. Skipping...\n",
      "\n"
     ]
    },
    {
     "name": "stdout",
     "output_type": "stream",
     "text": [
      "[1] \"Checking for files in:  ./output_chr1_a2_caud/\"\n",
      "[1] \"Using pattern:  libd_chr1-chr1_AA-548982-568981-dynamic-1corestotal-allcorepera\"\n",
      "[1] \"Found files with specific pattern: \"\n",
      "[1] \"./output_chr1_a2_caud//libd_chr1-chr1_AA-libd_chr1-chr1_AA-548982-568981-dynamic-1corestotal-allcorepera-20240415-123225.rds\"\n"
     ]
    },
    {
     "name": "stderr",
     "output_type": "stream",
     "text": [
      "File with tag libd_chr1-chr1_AA-548982-568981-dynamic-1corestotal-allcorepera already exists. Skipping...\n",
      "\n"
     ]
    },
    {
     "name": "stdout",
     "output_type": "stream",
     "text": [
      "[1] \"Checking for files in:  ./output_chr1_a2_caud/\"\n",
      "[1] \"Using pattern:  libd_chr1-chr1_AA-568982-588981-dynamic-1corestotal-allcorepera\"\n",
      "[1] \"Found files with specific pattern: \"\n",
      "[1] \"./output_chr1_a2_caud//libd_chr1-chr1_AA-libd_chr1-chr1_AA-568982-588981-dynamic-1corestotal-allcorepera-20240415-123625.rds\"\n"
     ]
    },
    {
     "name": "stderr",
     "output_type": "stream",
     "text": [
      "File with tag libd_chr1-chr1_AA-568982-588981-dynamic-1corestotal-allcorepera already exists. Skipping...\n",
      "\n"
     ]
    },
    {
     "name": "stdout",
     "output_type": "stream",
     "text": [
      "[1] \"Checking for files in:  ./output_chr1_a2_caud/\"\n",
      "[1] \"Using pattern:  libd_chr1-chr1_AA-588982-608981-dynamic-1corestotal-allcorepera\"\n",
      "[1] \"Found files with specific pattern: \"\n",
      "[1] \"./output_chr1_a2_caud//libd_chr1-chr1_AA-libd_chr1-chr1_AA-588982-608981-dynamic-1corestotal-allcorepera-20240415-124026.rds\"\n"
     ]
    },
    {
     "name": "stderr",
     "output_type": "stream",
     "text": [
      "File with tag libd_chr1-chr1_AA-588982-608981-dynamic-1corestotal-allcorepera already exists. Skipping...\n",
      "\n"
     ]
    },
    {
     "name": "stdout",
     "output_type": "stream",
     "text": [
      "[1] \"Checking for files in:  ./output_chr1_a2_caud/\"\n",
      "[1] \"Using pattern:  libd_chr1-chr1_AA-608982-628981-dynamic-1corestotal-allcorepera\"\n",
      "[1] \"Found files with specific pattern: \"\n",
      "[1] \"./output_chr1_a2_caud//libd_chr1-chr1_AA-libd_chr1-chr1_AA-608982-628981-dynamic-1corestotal-allcorepera-20240415-124426.rds\"\n"
     ]
    },
    {
     "name": "stderr",
     "output_type": "stream",
     "text": [
      "File with tag libd_chr1-chr1_AA-608982-628981-dynamic-1corestotal-allcorepera already exists. Skipping...\n",
      "\n"
     ]
    },
    {
     "name": "stdout",
     "output_type": "stream",
     "text": [
      "[1] \"Checking for files in:  ./output_chr1_a2_caud/\"\n",
      "[1] \"Using pattern:  libd_chr1-chr1_AA-628982-648981-dynamic-1corestotal-allcorepera\"\n",
      "[1] \"Found files with specific pattern: \"\n",
      "[1] \"./output_chr1_a2_caud//libd_chr1-chr1_AA-libd_chr1-chr1_AA-628982-648981-dynamic-1corestotal-allcorepera-20240415-124826.rds\"\n"
     ]
    },
    {
     "name": "stderr",
     "output_type": "stream",
     "text": [
      "File with tag libd_chr1-chr1_AA-628982-648981-dynamic-1corestotal-allcorepera already exists. Skipping...\n",
      "\n"
     ]
    },
    {
     "name": "stdout",
     "output_type": "stream",
     "text": [
      "[1] \"Checking for files in:  ./output_chr1_a2_caud/\"\n",
      "[1] \"Using pattern:  libd_chr1-chr1_AA-648982-668981-dynamic-1corestotal-allcorepera\"\n",
      "[1] \"Found files with specific pattern: \"\n",
      "[1] \"./output_chr1_a2_caud//libd_chr1-chr1_AA-libd_chr1-chr1_AA-648982-668981-dynamic-1corestotal-allcorepera-20240415-125226.rds\"\n"
     ]
    },
    {
     "name": "stderr",
     "output_type": "stream",
     "text": [
      "File with tag libd_chr1-chr1_AA-648982-668981-dynamic-1corestotal-allcorepera already exists. Skipping...\n",
      "\n"
     ]
    },
    {
     "name": "stdout",
     "output_type": "stream",
     "text": [
      "[1] \"Checking for files in:  ./output_chr1_a2_caud/\"\n",
      "[1] \"Using pattern:  libd_chr1-chr1_AA-668982-688981-dynamic-1corestotal-allcorepera\"\n",
      "[1] \"Found files with specific pattern: \"\n",
      "[1] \"./output_chr1_a2_caud//libd_chr1-chr1_AA-libd_chr1-chr1_AA-668982-688981-dynamic-1corestotal-allcorepera-20240415-125627.rds\"\n"
     ]
    },
    {
     "name": "stderr",
     "output_type": "stream",
     "text": [
      "File with tag libd_chr1-chr1_AA-668982-688981-dynamic-1corestotal-allcorepera already exists. Skipping...\n",
      "\n"
     ]
    },
    {
     "name": "stdout",
     "output_type": "stream",
     "text": [
      "[1] \"Checking for files in:  ./output_chr1_a2_caud/\"\n",
      "[1] \"Using pattern:  libd_chr1-chr1_AA-688982-708981-dynamic-1corestotal-allcorepera\"\n",
      "[1] \"Found files with specific pattern: \"\n",
      "[1] \"./output_chr1_a2_caud//libd_chr1-chr1_AA-libd_chr1-chr1_AA-688982-708981-dynamic-1corestotal-allcorepera-20240415-130027.rds\"\n"
     ]
    },
    {
     "name": "stderr",
     "output_type": "stream",
     "text": [
      "File with tag libd_chr1-chr1_AA-688982-708981-dynamic-1corestotal-allcorepera already exists. Skipping...\n",
      "\n"
     ]
    },
    {
     "name": "stdout",
     "output_type": "stream",
     "text": [
      "[1] \"Checking for files in:  ./output_chr1_a2_caud/\"\n",
      "[1] \"Using pattern:  libd_chr1-chr1_AA-708982-728981-dynamic-1corestotal-allcorepera\"\n",
      "[1] \"Found files with specific pattern: \"\n",
      "[1] \"./output_chr1_a2_caud//libd_chr1-chr1_AA-libd_chr1-chr1_AA-708982-728981-dynamic-1corestotal-allcorepera-20240415-130427.rds\"\n"
     ]
    },
    {
     "name": "stderr",
     "output_type": "stream",
     "text": [
      "File with tag libd_chr1-chr1_AA-708982-728981-dynamic-1corestotal-allcorepera already exists. Skipping...\n",
      "\n"
     ]
    },
    {
     "name": "stdout",
     "output_type": "stream",
     "text": [
      "[1] \"Checking for files in:  ./output_chr1_a2_caud/\"\n",
      "[1] \"Using pattern:  libd_chr1-chr1_AA-728982-748981-dynamic-1corestotal-allcorepera\"\n",
      "[1] \"Found files with specific pattern: \"\n",
      "[1] \"./output_chr1_a2_caud//libd_chr1-chr1_AA-libd_chr1-chr1_AA-728982-748981-dynamic-1corestotal-allcorepera-20240415-130827.rds\"\n"
     ]
    },
    {
     "name": "stderr",
     "output_type": "stream",
     "text": [
      "File with tag libd_chr1-chr1_AA-728982-748981-dynamic-1corestotal-allcorepera already exists. Skipping...\n",
      "\n"
     ]
    },
    {
     "name": "stdout",
     "output_type": "stream",
     "text": [
      "[1] \"Checking for files in:  ./output_chr1_a2_caud/\"\n",
      "[1] \"Using pattern:  libd_chr1-chr1_AA-748982-768981-dynamic-1corestotal-allcorepera\"\n",
      "[1] \"Found files with specific pattern: \"\n",
      "[1] \"./output_chr1_a2_caud//libd_chr1-chr1_AA-libd_chr1-chr1_AA-748982-768981-dynamic-1corestotal-allcorepera-20240415-131228.rds\"\n"
     ]
    },
    {
     "name": "stderr",
     "output_type": "stream",
     "text": [
      "File with tag libd_chr1-chr1_AA-748982-768981-dynamic-1corestotal-allcorepera already exists. Skipping...\n",
      "\n"
     ]
    },
    {
     "name": "stdout",
     "output_type": "stream",
     "text": [
      "[1] \"Checking for files in:  ./output_chr1_a2_caud/\"\n",
      "[1] \"Using pattern:  libd_chr1-chr1_AA-768982-788981-dynamic-1corestotal-allcorepera\"\n",
      "[1] \"Found files with specific pattern: \"\n",
      "character(0)\n",
      "\n",
      "#!/bin/bash\n",
      "#SBATCH --nodes=1\n",
      "#SBATCH --ntasks-per-node=1\n",
      "#SBATCH --cpus-per-task=1\n",
      "#SBATCH --mem-per-cpu=2G\n",
      "#SBATCH --output=slurm_output_libd_chr1-chr1_AA-768982-788981-dynamic-1corestotal-allcorepera-20240416-154831.out\n",
      "#SBATCH --job-name=libd_chr1-chr1_AA-768982-788981-dynamic-1corestotal-allcorepera-20240416-154831\n",
      "#SBATCH --time=48:00:00\n",
      "module load conda\n",
      "conda activate mwas\n",
      "echo 'Executing Rscript with arguments: Rscript scripts/CLI.R --outdir=./output_chr1_a2_caud/ --snp_data_path=/dcs04/lieber/statsgen/shizhong/michael/mwas/gwas//libd_chr1.pgen --methylation_data_path=/dcs04/lieber/statsgen/shizhong/michael/mwas/pheno/caud/out/chr1_AA.rda --cov=/dcs04/lieber/statsgen/mnagle/mwas/full_covariates/AA_caud.csv --verbose=FALSE --lambda_choice=1se --alphas=0.5 --allow_inefficient_parallelization=FALSE --n_fold=5 --window_sizes=10000 --save_evaluation_results_each_fold=FALSE --save_glmnet_object=FALSE --omit_folds_with_na_r=TRUE --methInput_rds_path=/dcs04/lieber/statsgen/mnagle/mwas/pheno/caud/out/chr1_AA_768982-788981.rds --chunk1=1 --chunk2=20000 --cv_eval_mode=dynamic --num_cores=1 --cores_per_alpha=all --tag=libd_chr1-chr1_AA-768982-788981-dynamic-1corestotal-allcorepera-20240416-154831'\n",
      "Rscript scripts/CLI.R --outdir=./output_chr1_a2_caud/ --snp_data_path=/dcs04/lieber/statsgen/shizhong/michael/mwas/gwas//libd_chr1.pgen --methylation_data_path=/dcs04/lieber/statsgen/shizhong/michael/mwas/pheno/caud/out/chr1_AA.rda --cov=/dcs04/lieber/statsgen/mnagle/mwas/full_covariates/AA_caud.csv --verbose=FALSE --lambda_choice=1se --alphas=0.5 --allow_inefficient_parallelization=FALSE --n_fold=5 --window_sizes=10000 --save_evaluation_results_each_fold=FALSE --save_glmnet_object=FALSE --omit_folds_with_na_r=TRUE --methInput_rds_path=/dcs04/lieber/statsgen/mnagle/mwas/pheno/caud/out/chr1_AA_768982-788981.rds --chunk1=1 --chunk2=20000 --cv_eval_mode=dynamic --num_cores=1 --cores_per_alpha=all --tag=libd_chr1-chr1_AA-768982-788981-dynamic-1corestotal-allcorepera-20240416-154831\n"
     ]
    },
    {
     "name": "stderr",
     "output_type": "stream",
     "text": [
      "Sleeping for 61 seconds\n",
      "\n"
     ]
    },
    {
     "name": "stdout",
     "output_type": "stream",
     "text": [
      "\n",
      "[1] \"Checking for files in:  ./output_chr1_a2_caud/\"\n",
      "[1] \"Using pattern:  libd_chr1-chr1_AA-788982-808981-dynamic-1corestotal-allcorepera\"\n",
      "[1] \"Found files with specific pattern: \"\n",
      "[1] \"./output_chr1_a2_caud//libd_chr1-chr1_AA-libd_chr1-chr1_AA-788982-808981-dynamic-1corestotal-allcorepera-20240415-132028.rds\"\n"
     ]
    },
    {
     "name": "stderr",
     "output_type": "stream",
     "text": [
      "File with tag libd_chr1-chr1_AA-788982-808981-dynamic-1corestotal-allcorepera already exists. Skipping...\n",
      "\n"
     ]
    },
    {
     "name": "stdout",
     "output_type": "stream",
     "text": [
      "[1] \"Checking for files in:  ./output_chr1_a2_caud/\"\n",
      "[1] \"Using pattern:  libd_chr1-chr1_AA-808982-828981-dynamic-1corestotal-allcorepera\"\n",
      "[1] \"Found files with specific pattern: \"\n",
      "[1] \"./output_chr1_a2_caud//libd_chr1-chr1_AA-libd_chr1-chr1_AA-808982-828981-dynamic-1corestotal-allcorepera-20240415-132428.rds\"\n"
     ]
    },
    {
     "name": "stderr",
     "output_type": "stream",
     "text": [
      "File with tag libd_chr1-chr1_AA-808982-828981-dynamic-1corestotal-allcorepera already exists. Skipping...\n",
      "\n"
     ]
    },
    {
     "name": "stdout",
     "output_type": "stream",
     "text": [
      "[1] \"Checking for files in:  ./output_chr1_a2_caud/\"\n",
      "[1] \"Using pattern:  libd_chr1-chr1_AA-828982-848981-dynamic-1corestotal-allcorepera\"\n",
      "[1] \"Found files with specific pattern: \"\n",
      "[1] \"./output_chr1_a2_caud//libd_chr1-chr1_AA-libd_chr1-chr1_AA-828982-848981-dynamic-1corestotal-allcorepera-20240415-132828.rds\"\n"
     ]
    },
    {
     "name": "stderr",
     "output_type": "stream",
     "text": [
      "File with tag libd_chr1-chr1_AA-828982-848981-dynamic-1corestotal-allcorepera already exists. Skipping...\n",
      "\n"
     ]
    },
    {
     "name": "stdout",
     "output_type": "stream",
     "text": [
      "[1] \"Checking for files in:  ./output_chr1_a2_caud/\"\n",
      "[1] \"Using pattern:  libd_chr1-chr1_AA-848982-868981-dynamic-1corestotal-allcorepera\"\n",
      "[1] \"Found files with specific pattern: \"\n",
      "[1] \"./output_chr1_a2_caud//libd_chr1-chr1_AA-libd_chr1-chr1_AA-848982-868981-dynamic-1corestotal-allcorepera-20240415-133229.rds\"\n"
     ]
    },
    {
     "name": "stderr",
     "output_type": "stream",
     "text": [
      "File with tag libd_chr1-chr1_AA-848982-868981-dynamic-1corestotal-allcorepera already exists. Skipping...\n",
      "\n"
     ]
    },
    {
     "name": "stdout",
     "output_type": "stream",
     "text": [
      "[1] \"Checking for files in:  ./output_chr1_a2_caud/\"\n",
      "[1] \"Using pattern:  libd_chr1-chr1_AA-868982-888981-dynamic-1corestotal-allcorepera\"\n",
      "[1] \"Found files with specific pattern: \"\n",
      "[1] \"./output_chr1_a2_caud//libd_chr1-chr1_AA-libd_chr1-chr1_AA-868982-888981-dynamic-1corestotal-allcorepera-20240415-133629.rds\"\n"
     ]
    },
    {
     "name": "stderr",
     "output_type": "stream",
     "text": [
      "File with tag libd_chr1-chr1_AA-868982-888981-dynamic-1corestotal-allcorepera already exists. Skipping...\n",
      "\n"
     ]
    },
    {
     "name": "stdout",
     "output_type": "stream",
     "text": [
      "[1] \"Checking for files in:  ./output_chr1_a2_caud/\"\n",
      "[1] \"Using pattern:  libd_chr1-chr1_AA-888982-908981-dynamic-1corestotal-allcorepera\"\n",
      "[1] \"Found files with specific pattern: \"\n",
      "[1] \"./output_chr1_a2_caud//libd_chr1-chr1_AA-libd_chr1-chr1_AA-888982-908981-dynamic-1corestotal-allcorepera-20240415-134029.rds\"\n"
     ]
    },
    {
     "name": "stderr",
     "output_type": "stream",
     "text": [
      "File with tag libd_chr1-chr1_AA-888982-908981-dynamic-1corestotal-allcorepera already exists. Skipping...\n",
      "\n"
     ]
    },
    {
     "name": "stdout",
     "output_type": "stream",
     "text": [
      "[1] \"Checking for files in:  ./output_chr1_a2_caud/\"\n",
      "[1] \"Using pattern:  libd_chr1-chr1_AA-908982-928981-dynamic-1corestotal-allcorepera\"\n",
      "[1] \"Found files with specific pattern: \"\n",
      "[1] \"./output_chr1_a2_caud//libd_chr1-chr1_AA-libd_chr1-chr1_AA-908982-928981-dynamic-1corestotal-allcorepera-20240415-134429.rds\"\n"
     ]
    },
    {
     "name": "stderr",
     "output_type": "stream",
     "text": [
      "File with tag libd_chr1-chr1_AA-908982-928981-dynamic-1corestotal-allcorepera already exists. Skipping...\n",
      "\n"
     ]
    },
    {
     "name": "stdout",
     "output_type": "stream",
     "text": [
      "[1] \"Checking for files in:  ./output_chr1_a2_caud/\"\n",
      "[1] \"Using pattern:  libd_chr1-chr1_AA-928982-948981-dynamic-1corestotal-allcorepera\"\n",
      "[1] \"Found files with specific pattern: \"\n",
      "[1] \"./output_chr1_a2_caud//libd_chr1-chr1_AA-libd_chr1-chr1_AA-928982-948981-dynamic-1corestotal-allcorepera-20240415-134829.rds\"\n"
     ]
    },
    {
     "name": "stderr",
     "output_type": "stream",
     "text": [
      "File with tag libd_chr1-chr1_AA-928982-948981-dynamic-1corestotal-allcorepera already exists. Skipping...\n",
      "\n"
     ]
    },
    {
     "name": "stdout",
     "output_type": "stream",
     "text": [
      "[1] \"Checking for files in:  ./output_chr1_a2_caud/\"\n",
      "[1] \"Using pattern:  libd_chr1-chr1_AA-948982-968981-dynamic-1corestotal-allcorepera\"\n",
      "[1] \"Found files with specific pattern: \"\n",
      "[1] \"./output_chr1_a2_caud//libd_chr1-chr1_AA-libd_chr1-chr1_AA-948982-968981-dynamic-1corestotal-allcorepera-20240415-135230.rds\"\n"
     ]
    },
    {
     "name": "stderr",
     "output_type": "stream",
     "text": [
      "File with tag libd_chr1-chr1_AA-948982-968981-dynamic-1corestotal-allcorepera already exists. Skipping...\n",
      "\n"
     ]
    },
    {
     "name": "stdout",
     "output_type": "stream",
     "text": [
      "[1] \"Checking for files in:  ./output_chr1_a2_caud/\"\n",
      "[1] \"Using pattern:  libd_chr1-chr1_AA-968982-988981-dynamic-1corestotal-allcorepera\"\n",
      "[1] \"Found files with specific pattern: \"\n",
      "[1] \"./output_chr1_a2_caud//libd_chr1-chr1_AA-libd_chr1-chr1_AA-968982-988981-dynamic-1corestotal-allcorepera-20240415-135630.rds\"\n"
     ]
    },
    {
     "name": "stderr",
     "output_type": "stream",
     "text": [
      "File with tag libd_chr1-chr1_AA-968982-988981-dynamic-1corestotal-allcorepera already exists. Skipping...\n",
      "\n"
     ]
    },
    {
     "name": "stdout",
     "output_type": "stream",
     "text": [
      "[1] \"Checking for files in:  ./output_chr1_a2_caud/\"\n",
      "[1] \"Using pattern:  libd_chr1-chr1_AA-988982-1008981-dynamic-1corestotal-allcorepera\"\n",
      "[1] \"Found files with specific pattern: \"\n",
      "[1] \"./output_chr1_a2_caud//libd_chr1-chr1_AA-libd_chr1-chr1_AA-988982-1008981-dynamic-1corestotal-allcorepera-20240415-140030.rds\"\n"
     ]
    },
    {
     "name": "stderr",
     "output_type": "stream",
     "text": [
      "File with tag libd_chr1-chr1_AA-988982-1008981-dynamic-1corestotal-allcorepera already exists. Skipping...\n",
      "\n"
     ]
    },
    {
     "name": "stdout",
     "output_type": "stream",
     "text": [
      "[1] \"Checking for files in:  ./output_chr1_a2_caud/\"\n",
      "[1] \"Using pattern:  libd_chr1-chr1_AA-1008982-1028981-dynamic-1corestotal-allcorepera\"\n",
      "[1] \"Found files with specific pattern: \"\n",
      "character(0)\n",
      "\n",
      "#!/bin/bash\n",
      "#SBATCH --nodes=1\n",
      "#SBATCH --ntasks-per-node=1\n",
      "#SBATCH --cpus-per-task=1\n",
      "#SBATCH --mem-per-cpu=2G\n",
      "#SBATCH --output=slurm_output_libd_chr1-chr1_AA-1008982-1028981-dynamic-1corestotal-allcorepera-20240416-154932.out\n",
      "#SBATCH --job-name=libd_chr1-chr1_AA-1008982-1028981-dynamic-1corestotal-allcorepera-20240416-154932\n",
      "#SBATCH --time=48:00:00\n",
      "module load conda\n",
      "conda activate mwas\n",
      "echo 'Executing Rscript with arguments: Rscript scripts/CLI.R --outdir=./output_chr1_a2_caud/ --snp_data_path=/dcs04/lieber/statsgen/shizhong/michael/mwas/gwas//libd_chr1.pgen --methylation_data_path=/dcs04/lieber/statsgen/shizhong/michael/mwas/pheno/caud/out/chr1_AA.rda --cov=/dcs04/lieber/statsgen/mnagle/mwas/full_covariates/AA_caud.csv --verbose=FALSE --lambda_choice=1se --alphas=0.5 --allow_inefficient_parallelization=FALSE --n_fold=5 --window_sizes=10000 --save_evaluation_results_each_fold=FALSE --save_glmnet_object=FALSE --omit_folds_with_na_r=TRUE --methInput_rds_path=/dcs04/lieber/statsgen/mnagle/mwas/pheno/caud/out/chr1_AA_1008982-1028981.rds --chunk1=1 --chunk2=20000 --cv_eval_mode=dynamic --num_cores=1 --cores_per_alpha=all --tag=libd_chr1-chr1_AA-1008982-1028981-dynamic-1corestotal-allcorepera-20240416-154932'\n",
      "Rscript scripts/CLI.R --outdir=./output_chr1_a2_caud/ --snp_data_path=/dcs04/lieber/statsgen/shizhong/michael/mwas/gwas//libd_chr1.pgen --methylation_data_path=/dcs04/lieber/statsgen/shizhong/michael/mwas/pheno/caud/out/chr1_AA.rda --cov=/dcs04/lieber/statsgen/mnagle/mwas/full_covariates/AA_caud.csv --verbose=FALSE --lambda_choice=1se --alphas=0.5 --allow_inefficient_parallelization=FALSE --n_fold=5 --window_sizes=10000 --save_evaluation_results_each_fold=FALSE --save_glmnet_object=FALSE --omit_folds_with_na_r=TRUE --methInput_rds_path=/dcs04/lieber/statsgen/mnagle/mwas/pheno/caud/out/chr1_AA_1008982-1028981.rds --chunk1=1 --chunk2=20000 --cv_eval_mode=dynamic --num_cores=1 --cores_per_alpha=all --tag=libd_chr1-chr1_AA-1008982-1028981-dynamic-1corestotal-allcorepera-20240416-154932\n"
     ]
    },
    {
     "name": "stderr",
     "output_type": "stream",
     "text": [
      "Sleeping for 61 seconds\n",
      "\n"
     ]
    },
    {
     "name": "stdout",
     "output_type": "stream",
     "text": [
      "\n",
      "[1] \"Checking for files in:  ./output_chr1_a2_caud/\"\n",
      "[1] \"Using pattern:  libd_chr1-chr1_AA-1028982-1048981-dynamic-1corestotal-allcorepera\"\n",
      "[1] \"Found files with specific pattern: \"\n",
      "[1] \"./output_chr1_a2_caud//libd_chr1-chr1_AA-libd_chr1-chr1_AA-1028982-1048981-dynamic-1corestotal-allcorepera-20240415-140831.rds\"\n"
     ]
    },
    {
     "name": "stderr",
     "output_type": "stream",
     "text": [
      "File with tag libd_chr1-chr1_AA-1028982-1048981-dynamic-1corestotal-allcorepera already exists. Skipping...\n",
      "\n"
     ]
    },
    {
     "name": "stdout",
     "output_type": "stream",
     "text": [
      "[1] \"Checking for files in:  ./output_chr1_a2_caud/\"\n",
      "[1] \"Using pattern:  libd_chr1-chr1_AA-1048982-1068981-dynamic-1corestotal-allcorepera\"\n",
      "[1] \"Found files with specific pattern: \"\n",
      "[1] \"./output_chr1_a2_caud//libd_chr1-chr1_AA-libd_chr1-chr1_AA-1048982-1068981-dynamic-1corestotal-allcorepera-20240415-141231.rds\"\n"
     ]
    },
    {
     "name": "stderr",
     "output_type": "stream",
     "text": [
      "File with tag libd_chr1-chr1_AA-1048982-1068981-dynamic-1corestotal-allcorepera already exists. Skipping...\n",
      "\n"
     ]
    },
    {
     "name": "stdout",
     "output_type": "stream",
     "text": [
      "[1] \"Checking for files in:  ./output_chr1_a2_caud/\"\n",
      "[1] \"Using pattern:  libd_chr1-chr1_AA-1068982-1088981-dynamic-1corestotal-allcorepera\"\n",
      "[1] \"Found files with specific pattern: \"\n",
      "[1] \"./output_chr1_a2_caud//libd_chr1-chr1_AA-libd_chr1-chr1_AA-1068982-1088981-dynamic-1corestotal-allcorepera-20240415-141631.rds\"\n"
     ]
    },
    {
     "name": "stderr",
     "output_type": "stream",
     "text": [
      "File with tag libd_chr1-chr1_AA-1068982-1088981-dynamic-1corestotal-allcorepera already exists. Skipping...\n",
      "\n"
     ]
    },
    {
     "name": "stdout",
     "output_type": "stream",
     "text": [
      "[1] \"Checking for files in:  ./output_chr1_a2_caud/\"\n",
      "[1] \"Using pattern:  libd_chr1-chr1_AA-1088982-1108981-dynamic-1corestotal-allcorepera\"\n",
      "[1] \"Found files with specific pattern: \"\n",
      "[1] \"./output_chr1_a2_caud//libd_chr1-chr1_AA-libd_chr1-chr1_AA-1088982-1108981-dynamic-1corestotal-allcorepera-20240415-142031.rds\"\n"
     ]
    },
    {
     "name": "stderr",
     "output_type": "stream",
     "text": [
      "File with tag libd_chr1-chr1_AA-1088982-1108981-dynamic-1corestotal-allcorepera already exists. Skipping...\n",
      "\n"
     ]
    },
    {
     "name": "stdout",
     "output_type": "stream",
     "text": [
      "[1] \"Checking for files in:  ./output_chr1_a2_caud/\"\n",
      "[1] \"Using pattern:  libd_chr1-chr1_AA-1108982-1128981-dynamic-1corestotal-allcorepera\"\n",
      "[1] \"Found files with specific pattern: \"\n",
      "[1] \"./output_chr1_a2_caud//libd_chr1-chr1_AA-libd_chr1-chr1_AA-1108982-1128981-dynamic-1corestotal-allcorepera-20240415-142431.rds\"\n"
     ]
    },
    {
     "name": "stderr",
     "output_type": "stream",
     "text": [
      "File with tag libd_chr1-chr1_AA-1108982-1128981-dynamic-1corestotal-allcorepera already exists. Skipping...\n",
      "\n"
     ]
    },
    {
     "name": "stdout",
     "output_type": "stream",
     "text": [
      "[1] \"Checking for files in:  ./output_chr1_a2_caud/\"\n",
      "[1] \"Using pattern:  libd_chr1-chr1_AA-1128982-1148981-dynamic-1corestotal-allcorepera\"\n",
      "[1] \"Found files with specific pattern: \"\n",
      "[1] \"./output_chr1_a2_caud//libd_chr1-chr1_AA-libd_chr1-chr1_AA-1128982-1148981-dynamic-1corestotal-allcorepera-20240415-142832.rds\"\n"
     ]
    },
    {
     "name": "stderr",
     "output_type": "stream",
     "text": [
      "File with tag libd_chr1-chr1_AA-1128982-1148981-dynamic-1corestotal-allcorepera already exists. Skipping...\n",
      "\n"
     ]
    },
    {
     "name": "stdout",
     "output_type": "stream",
     "text": [
      "[1] \"Checking for files in:  ./output_chr1_a2_caud/\"\n",
      "[1] \"Using pattern:  libd_chr1-chr1_AA-1148982-1168981-dynamic-1corestotal-allcorepera\"\n",
      "[1] \"Found files with specific pattern: \"\n",
      "[1] \"./output_chr1_a2_caud//libd_chr1-chr1_AA-libd_chr1-chr1_AA-1148982-1168981-dynamic-1corestotal-allcorepera-20240415-143232.rds\"\n"
     ]
    },
    {
     "name": "stderr",
     "output_type": "stream",
     "text": [
      "File with tag libd_chr1-chr1_AA-1148982-1168981-dynamic-1corestotal-allcorepera already exists. Skipping...\n",
      "\n"
     ]
    },
    {
     "name": "stdout",
     "output_type": "stream",
     "text": [
      "[1] \"Checking for files in:  ./output_chr1_a2_caud/\"\n",
      "[1] \"Using pattern:  libd_chr1-chr1_AA-1168982-1188981-dynamic-1corestotal-allcorepera\"\n",
      "[1] \"Found files with specific pattern: \"\n",
      "[1] \"./output_chr1_a2_caud//libd_chr1-chr1_AA-libd_chr1-chr1_AA-1168982-1188981-dynamic-1corestotal-allcorepera-20240415-143632.rds\"\n"
     ]
    },
    {
     "name": "stderr",
     "output_type": "stream",
     "text": [
      "File with tag libd_chr1-chr1_AA-1168982-1188981-dynamic-1corestotal-allcorepera already exists. Skipping...\n",
      "\n"
     ]
    },
    {
     "name": "stdout",
     "output_type": "stream",
     "text": [
      "[1] \"Checking for files in:  ./output_chr1_a2_caud/\"\n",
      "[1] \"Using pattern:  libd_chr1-chr1_AA-1188982-1208981-dynamic-1corestotal-allcorepera\"\n",
      "[1] \"Found files with specific pattern: \"\n",
      "[1] \"./output_chr1_a2_caud//libd_chr1-chr1_AA-libd_chr1-chr1_AA-1188982-1208981-dynamic-1corestotal-allcorepera-20240415-144032.rds\"\n"
     ]
    },
    {
     "name": "stderr",
     "output_type": "stream",
     "text": [
      "File with tag libd_chr1-chr1_AA-1188982-1208981-dynamic-1corestotal-allcorepera already exists. Skipping...\n",
      "\n"
     ]
    },
    {
     "name": "stdout",
     "output_type": "stream",
     "text": [
      "[1] \"Checking for files in:  ./output_chr1_a2_caud/\"\n",
      "[1] \"Using pattern:  libd_chr1-chr1_AA-1208982-1228981-dynamic-1corestotal-allcorepera\"\n",
      "[1] \"Found files with specific pattern: \"\n",
      "[1] \"./output_chr1_a2_caud//libd_chr1-chr1_AA-libd_chr1-chr1_AA-1208982-1228981-dynamic-1corestotal-allcorepera-20240415-144432.rds\"\n"
     ]
    },
    {
     "name": "stderr",
     "output_type": "stream",
     "text": [
      "File with tag libd_chr1-chr1_AA-1208982-1228981-dynamic-1corestotal-allcorepera already exists. Skipping...\n",
      "\n"
     ]
    },
    {
     "name": "stdout",
     "output_type": "stream",
     "text": [
      "[1] \"Checking for files in:  ./output_chr1_a2_caud/\"\n",
      "[1] \"Using pattern:  libd_chr1-chr1_AA-1228982-1248981-dynamic-1corestotal-allcorepera\"\n",
      "[1] \"Found files with specific pattern: \"\n",
      "[1] \"./output_chr1_a2_caud//libd_chr1-chr1_AA-libd_chr1-chr1_AA-1228982-1248981-dynamic-1corestotal-allcorepera-20240415-144833.rds\"\n"
     ]
    },
    {
     "name": "stderr",
     "output_type": "stream",
     "text": [
      "File with tag libd_chr1-chr1_AA-1228982-1248981-dynamic-1corestotal-allcorepera already exists. Skipping...\n",
      "\n"
     ]
    },
    {
     "name": "stdout",
     "output_type": "stream",
     "text": [
      "[1] \"Checking for files in:  ./output_chr1_a2_caud/\"\n",
      "[1] \"Using pattern:  libd_chr1-chr1_AA-1248982-1268981-dynamic-1corestotal-allcorepera\"\n",
      "[1] \"Found files with specific pattern: \"\n",
      "character(0)\n",
      "\n",
      "#!/bin/bash\n",
      "#SBATCH --nodes=1\n",
      "#SBATCH --ntasks-per-node=1\n",
      "#SBATCH --cpus-per-task=1\n",
      "#SBATCH --mem-per-cpu=2G\n",
      "#SBATCH --output=slurm_output_libd_chr1-chr1_AA-1248982-1268981-dynamic-1corestotal-allcorepera-20240416-155033.out\n",
      "#SBATCH --job-name=libd_chr1-chr1_AA-1248982-1268981-dynamic-1corestotal-allcorepera-20240416-155033\n",
      "#SBATCH --time=48:00:00\n",
      "module load conda\n",
      "conda activate mwas\n",
      "echo 'Executing Rscript with arguments: Rscript scripts/CLI.R --outdir=./output_chr1_a2_caud/ --snp_data_path=/dcs04/lieber/statsgen/shizhong/michael/mwas/gwas//libd_chr1.pgen --methylation_data_path=/dcs04/lieber/statsgen/shizhong/michael/mwas/pheno/caud/out/chr1_AA.rda --cov=/dcs04/lieber/statsgen/mnagle/mwas/full_covariates/AA_caud.csv --verbose=FALSE --lambda_choice=1se --alphas=0.5 --allow_inefficient_parallelization=FALSE --n_fold=5 --window_sizes=10000 --save_evaluation_results_each_fold=FALSE --save_glmnet_object=FALSE --omit_folds_with_na_r=TRUE --methInput_rds_path=/dcs04/lieber/statsgen/mnagle/mwas/pheno/caud/out/chr1_AA_1248982-1268981.rds --chunk1=1 --chunk2=20000 --cv_eval_mode=dynamic --num_cores=1 --cores_per_alpha=all --tag=libd_chr1-chr1_AA-1248982-1268981-dynamic-1corestotal-allcorepera-20240416-155033'\n",
      "Rscript scripts/CLI.R --outdir=./output_chr1_a2_caud/ --snp_data_path=/dcs04/lieber/statsgen/shizhong/michael/mwas/gwas//libd_chr1.pgen --methylation_data_path=/dcs04/lieber/statsgen/shizhong/michael/mwas/pheno/caud/out/chr1_AA.rda --cov=/dcs04/lieber/statsgen/mnagle/mwas/full_covariates/AA_caud.csv --verbose=FALSE --lambda_choice=1se --alphas=0.5 --allow_inefficient_parallelization=FALSE --n_fold=5 --window_sizes=10000 --save_evaluation_results_each_fold=FALSE --save_glmnet_object=FALSE --omit_folds_with_na_r=TRUE --methInput_rds_path=/dcs04/lieber/statsgen/mnagle/mwas/pheno/caud/out/chr1_AA_1248982-1268981.rds --chunk1=1 --chunk2=20000 --cv_eval_mode=dynamic --num_cores=1 --cores_per_alpha=all --tag=libd_chr1-chr1_AA-1248982-1268981-dynamic-1corestotal-allcorepera-20240416-155033\n"
     ]
    },
    {
     "name": "stderr",
     "output_type": "stream",
     "text": [
      "Sleeping for 61 seconds\n",
      "\n"
     ]
    },
    {
     "name": "stdout",
     "output_type": "stream",
     "text": [
      "\n",
      "[1] \"Checking for files in:  ./output_chr1_a2_caud/\"\n",
      "[1] \"Using pattern:  libd_chr1-chr1_AA-1268982-1288981-dynamic-1corestotal-allcorepera\"\n",
      "[1] \"Found files with specific pattern: \"\n",
      "character(0)\n",
      "\n",
      "#!/bin/bash\n",
      "#SBATCH --nodes=1\n",
      "#SBATCH --ntasks-per-node=1\n",
      "#SBATCH --cpus-per-task=1\n",
      "#SBATCH --mem-per-cpu=2G\n",
      "#SBATCH --output=slurm_output_libd_chr1-chr1_AA-1268982-1288981-dynamic-1corestotal-allcorepera-20240416-155134.out\n",
      "#SBATCH --job-name=libd_chr1-chr1_AA-1268982-1288981-dynamic-1corestotal-allcorepera-20240416-155134\n",
      "#SBATCH --time=48:00:00\n",
      "module load conda\n",
      "conda activate mwas\n",
      "echo 'Executing Rscript with arguments: Rscript scripts/CLI.R --outdir=./output_chr1_a2_caud/ --snp_data_path=/dcs04/lieber/statsgen/shizhong/michael/mwas/gwas//libd_chr1.pgen --methylation_data_path=/dcs04/lieber/statsgen/shizhong/michael/mwas/pheno/caud/out/chr1_AA.rda --cov=/dcs04/lieber/statsgen/mnagle/mwas/full_covariates/AA_caud.csv --verbose=FALSE --lambda_choice=1se --alphas=0.5 --allow_inefficient_parallelization=FALSE --n_fold=5 --window_sizes=10000 --save_evaluation_results_each_fold=FALSE --save_glmnet_object=FALSE --omit_folds_with_na_r=TRUE --methInput_rds_path=/dcs04/lieber/statsgen/mnagle/mwas/pheno/caud/out/chr1_AA_1268982-1288981.rds --chunk1=1 --chunk2=20000 --cv_eval_mode=dynamic --num_cores=1 --cores_per_alpha=all --tag=libd_chr1-chr1_AA-1268982-1288981-dynamic-1corestotal-allcorepera-20240416-155134'\n",
      "Rscript scripts/CLI.R --outdir=./output_chr1_a2_caud/ --snp_data_path=/dcs04/lieber/statsgen/shizhong/michael/mwas/gwas//libd_chr1.pgen --methylation_data_path=/dcs04/lieber/statsgen/shizhong/michael/mwas/pheno/caud/out/chr1_AA.rda --cov=/dcs04/lieber/statsgen/mnagle/mwas/full_covariates/AA_caud.csv --verbose=FALSE --lambda_choice=1se --alphas=0.5 --allow_inefficient_parallelization=FALSE --n_fold=5 --window_sizes=10000 --save_evaluation_results_each_fold=FALSE --save_glmnet_object=FALSE --omit_folds_with_na_r=TRUE --methInput_rds_path=/dcs04/lieber/statsgen/mnagle/mwas/pheno/caud/out/chr1_AA_1268982-1288981.rds --chunk1=1 --chunk2=20000 --cv_eval_mode=dynamic --num_cores=1 --cores_per_alpha=all --tag=libd_chr1-chr1_AA-1268982-1288981-dynamic-1corestotal-allcorepera-20240416-155134\n"
     ]
    },
    {
     "name": "stderr",
     "output_type": "stream",
     "text": [
      "Sleeping for 61 seconds\n",
      "\n"
     ]
    },
    {
     "name": "stdout",
     "output_type": "stream",
     "text": [
      "\n",
      "[1] \"Checking for files in:  ./output_chr1_a2_caud/\"\n",
      "[1] \"Using pattern:  libd_chr1-chr1_AA-1288982-1308981-dynamic-1corestotal-allcorepera\"\n",
      "[1] \"Found files with specific pattern: \"\n",
      "[1] \"./output_chr1_a2_caud//libd_chr1-chr1_AA-libd_chr1-chr1_AA-1288982-1308981-dynamic-1corestotal-allcorepera-20240415-150033.rds\"\n"
     ]
    },
    {
     "name": "stderr",
     "output_type": "stream",
     "text": [
      "File with tag libd_chr1-chr1_AA-1288982-1308981-dynamic-1corestotal-allcorepera already exists. Skipping...\n",
      "\n"
     ]
    },
    {
     "name": "stdout",
     "output_type": "stream",
     "text": [
      "[1] \"Checking for files in:  ./output_chr1_a2_caud/\"\n",
      "[1] \"Using pattern:  libd_chr1-chr1_AA-1308982-1328981-dynamic-1corestotal-allcorepera\"\n",
      "[1] \"Found files with specific pattern: \"\n",
      "[1] \"./output_chr1_a2_caud//libd_chr1-chr1_AA-libd_chr1-chr1_AA-1308982-1328981-dynamic-1corestotal-allcorepera-20240415-150433.rds\"\n"
     ]
    },
    {
     "name": "stderr",
     "output_type": "stream",
     "text": [
      "File with tag libd_chr1-chr1_AA-1308982-1328981-dynamic-1corestotal-allcorepera already exists. Skipping...\n",
      "\n"
     ]
    },
    {
     "name": "stdout",
     "output_type": "stream",
     "text": [
      "[1] \"Checking for files in:  ./output_chr1_a2_caud/\"\n",
      "[1] \"Using pattern:  libd_chr1-chr1_AA-1328982-1348981-dynamic-1corestotal-allcorepera\"\n",
      "[1] \"Found files with specific pattern: \"\n",
      "[1] \"./output_chr1_a2_caud//libd_chr1-chr1_AA-libd_chr1-chr1_AA-1328982-1348981-dynamic-1corestotal-allcorepera-20240415-150833.rds\"\n"
     ]
    },
    {
     "name": "stderr",
     "output_type": "stream",
     "text": [
      "File with tag libd_chr1-chr1_AA-1328982-1348981-dynamic-1corestotal-allcorepera already exists. Skipping...\n",
      "\n"
     ]
    },
    {
     "name": "stdout",
     "output_type": "stream",
     "text": [
      "[1] \"Checking for files in:  ./output_chr1_a2_caud/\"\n",
      "[1] \"Using pattern:  libd_chr1-chr1_AA-1348982-1368981-dynamic-1corestotal-allcorepera\"\n",
      "[1] \"Found files with specific pattern: \"\n",
      "[1] \"./output_chr1_a2_caud//libd_chr1-chr1_AA-libd_chr1-chr1_AA-1348982-1368981-dynamic-1corestotal-allcorepera-20240415-151234.rds\"\n"
     ]
    },
    {
     "name": "stderr",
     "output_type": "stream",
     "text": [
      "File with tag libd_chr1-chr1_AA-1348982-1368981-dynamic-1corestotal-allcorepera already exists. Skipping...\n",
      "\n"
     ]
    },
    {
     "name": "stdout",
     "output_type": "stream",
     "text": [
      "[1] \"Checking for files in:  ./output_chr1_a2_caud/\"\n",
      "[1] \"Using pattern:  libd_chr1-chr1_AA-1368982-1388981-dynamic-1corestotal-allcorepera\"\n",
      "[1] \"Found files with specific pattern: \"\n",
      "[1] \"./output_chr1_a2_caud//libd_chr1-chr1_AA-libd_chr1-chr1_AA-1368982-1388981-dynamic-1corestotal-allcorepera-20240415-151634.rds\"\n"
     ]
    },
    {
     "name": "stderr",
     "output_type": "stream",
     "text": [
      "File with tag libd_chr1-chr1_AA-1368982-1388981-dynamic-1corestotal-allcorepera already exists. Skipping...\n",
      "\n"
     ]
    },
    {
     "name": "stdout",
     "output_type": "stream",
     "text": [
      "[1] \"Checking for files in:  ./output_chr1_a2_caud/\"\n",
      "[1] \"Using pattern:  libd_chr1-chr1_AA-1388982-1408981-dynamic-1corestotal-allcorepera\"\n",
      "[1] \"Found files with specific pattern: \"\n",
      "character(0)\n",
      "\n",
      "#!/bin/bash\n",
      "#SBATCH --nodes=1\n",
      "#SBATCH --ntasks-per-node=1\n",
      "#SBATCH --cpus-per-task=1\n",
      "#SBATCH --mem-per-cpu=2G\n",
      "#SBATCH --output=slurm_output_libd_chr1-chr1_AA-1388982-1408981-dynamic-1corestotal-allcorepera-20240416-155235.out\n",
      "#SBATCH --job-name=libd_chr1-chr1_AA-1388982-1408981-dynamic-1corestotal-allcorepera-20240416-155235\n",
      "#SBATCH --time=48:00:00\n",
      "module load conda\n",
      "conda activate mwas\n",
      "echo 'Executing Rscript with arguments: Rscript scripts/CLI.R --outdir=./output_chr1_a2_caud/ --snp_data_path=/dcs04/lieber/statsgen/shizhong/michael/mwas/gwas//libd_chr1.pgen --methylation_data_path=/dcs04/lieber/statsgen/shizhong/michael/mwas/pheno/caud/out/chr1_AA.rda --cov=/dcs04/lieber/statsgen/mnagle/mwas/full_covariates/AA_caud.csv --verbose=FALSE --lambda_choice=1se --alphas=0.5 --allow_inefficient_parallelization=FALSE --n_fold=5 --window_sizes=10000 --save_evaluation_results_each_fold=FALSE --save_glmnet_object=FALSE --omit_folds_with_na_r=TRUE --methInput_rds_path=/dcs04/lieber/statsgen/mnagle/mwas/pheno/caud/out/chr1_AA_1388982-1408981.rds --chunk1=1 --chunk2=20000 --cv_eval_mode=dynamic --num_cores=1 --cores_per_alpha=all --tag=libd_chr1-chr1_AA-1388982-1408981-dynamic-1corestotal-allcorepera-20240416-155235'\n",
      "Rscript scripts/CLI.R --outdir=./output_chr1_a2_caud/ --snp_data_path=/dcs04/lieber/statsgen/shizhong/michael/mwas/gwas//libd_chr1.pgen --methylation_data_path=/dcs04/lieber/statsgen/shizhong/michael/mwas/pheno/caud/out/chr1_AA.rda --cov=/dcs04/lieber/statsgen/mnagle/mwas/full_covariates/AA_caud.csv --verbose=FALSE --lambda_choice=1se --alphas=0.5 --allow_inefficient_parallelization=FALSE --n_fold=5 --window_sizes=10000 --save_evaluation_results_each_fold=FALSE --save_glmnet_object=FALSE --omit_folds_with_na_r=TRUE --methInput_rds_path=/dcs04/lieber/statsgen/mnagle/mwas/pheno/caud/out/chr1_AA_1388982-1408981.rds --chunk1=1 --chunk2=20000 --cv_eval_mode=dynamic --num_cores=1 --cores_per_alpha=all --tag=libd_chr1-chr1_AA-1388982-1408981-dynamic-1corestotal-allcorepera-20240416-155235\n"
     ]
    },
    {
     "name": "stderr",
     "output_type": "stream",
     "text": [
      "Sleeping for 61 seconds\n",
      "\n"
     ]
    },
    {
     "name": "stdout",
     "output_type": "stream",
     "text": [
      "\n",
      "[1] \"Checking for files in:  ./output_chr1_a2_caud/\"\n",
      "[1] \"Using pattern:  libd_chr1-chr1_AA-1408982-1428981-dynamic-1corestotal-allcorepera\"\n",
      "[1] \"Found files with specific pattern: \"\n",
      "character(0)\n",
      "\n",
      "#!/bin/bash\n",
      "#SBATCH --nodes=1\n",
      "#SBATCH --ntasks-per-node=1\n",
      "#SBATCH --cpus-per-task=1\n",
      "#SBATCH --mem-per-cpu=2G\n",
      "#SBATCH --output=slurm_output_libd_chr1-chr1_AA-1408982-1428981-dynamic-1corestotal-allcorepera-20240416-155336.out\n",
      "#SBATCH --job-name=libd_chr1-chr1_AA-1408982-1428981-dynamic-1corestotal-allcorepera-20240416-155336\n",
      "#SBATCH --time=48:00:00\n",
      "module load conda\n",
      "conda activate mwas\n",
      "echo 'Executing Rscript with arguments: Rscript scripts/CLI.R --outdir=./output_chr1_a2_caud/ --snp_data_path=/dcs04/lieber/statsgen/shizhong/michael/mwas/gwas//libd_chr1.pgen --methylation_data_path=/dcs04/lieber/statsgen/shizhong/michael/mwas/pheno/caud/out/chr1_AA.rda --cov=/dcs04/lieber/statsgen/mnagle/mwas/full_covariates/AA_caud.csv --verbose=FALSE --lambda_choice=1se --alphas=0.5 --allow_inefficient_parallelization=FALSE --n_fold=5 --window_sizes=10000 --save_evaluation_results_each_fold=FALSE --save_glmnet_object=FALSE --omit_folds_with_na_r=TRUE --methInput_rds_path=/dcs04/lieber/statsgen/mnagle/mwas/pheno/caud/out/chr1_AA_1408982-1428981.rds --chunk1=1 --chunk2=20000 --cv_eval_mode=dynamic --num_cores=1 --cores_per_alpha=all --tag=libd_chr1-chr1_AA-1408982-1428981-dynamic-1corestotal-allcorepera-20240416-155336'\n",
      "Rscript scripts/CLI.R --outdir=./output_chr1_a2_caud/ --snp_data_path=/dcs04/lieber/statsgen/shizhong/michael/mwas/gwas//libd_chr1.pgen --methylation_data_path=/dcs04/lieber/statsgen/shizhong/michael/mwas/pheno/caud/out/chr1_AA.rda --cov=/dcs04/lieber/statsgen/mnagle/mwas/full_covariates/AA_caud.csv --verbose=FALSE --lambda_choice=1se --alphas=0.5 --allow_inefficient_parallelization=FALSE --n_fold=5 --window_sizes=10000 --save_evaluation_results_each_fold=FALSE --save_glmnet_object=FALSE --omit_folds_with_na_r=TRUE --methInput_rds_path=/dcs04/lieber/statsgen/mnagle/mwas/pheno/caud/out/chr1_AA_1408982-1428981.rds --chunk1=1 --chunk2=20000 --cv_eval_mode=dynamic --num_cores=1 --cores_per_alpha=all --tag=libd_chr1-chr1_AA-1408982-1428981-dynamic-1corestotal-allcorepera-20240416-155336\n"
     ]
    },
    {
     "name": "stderr",
     "output_type": "stream",
     "text": [
      "Sleeping for 61 seconds\n",
      "\n"
     ]
    },
    {
     "name": "stdout",
     "output_type": "stream",
     "text": [
      "\n",
      "[1] \"Checking for files in:  ./output_chr1_a2_caud/\"\n",
      "[1] \"Using pattern:  libd_chr1-chr1_AA-1428982-1448981-dynamic-1corestotal-allcorepera\"\n",
      "[1] \"Found files with specific pattern: \"\n",
      "character(0)\n",
      "\n",
      "#!/bin/bash\n",
      "#SBATCH --nodes=1\n",
      "#SBATCH --ntasks-per-node=1\n",
      "#SBATCH --cpus-per-task=1\n",
      "#SBATCH --mem-per-cpu=2G\n",
      "#SBATCH --output=slurm_output_libd_chr1-chr1_AA-1428982-1448981-dynamic-1corestotal-allcorepera-20240416-155437.out\n",
      "#SBATCH --job-name=libd_chr1-chr1_AA-1428982-1448981-dynamic-1corestotal-allcorepera-20240416-155437\n",
      "#SBATCH --time=48:00:00\n",
      "module load conda\n",
      "conda activate mwas\n",
      "echo 'Executing Rscript with arguments: Rscript scripts/CLI.R --outdir=./output_chr1_a2_caud/ --snp_data_path=/dcs04/lieber/statsgen/shizhong/michael/mwas/gwas//libd_chr1.pgen --methylation_data_path=/dcs04/lieber/statsgen/shizhong/michael/mwas/pheno/caud/out/chr1_AA.rda --cov=/dcs04/lieber/statsgen/mnagle/mwas/full_covariates/AA_caud.csv --verbose=FALSE --lambda_choice=1se --alphas=0.5 --allow_inefficient_parallelization=FALSE --n_fold=5 --window_sizes=10000 --save_evaluation_results_each_fold=FALSE --save_glmnet_object=FALSE --omit_folds_with_na_r=TRUE --methInput_rds_path=/dcs04/lieber/statsgen/mnagle/mwas/pheno/caud/out/chr1_AA_1428982-1448981.rds --chunk1=1 --chunk2=20000 --cv_eval_mode=dynamic --num_cores=1 --cores_per_alpha=all --tag=libd_chr1-chr1_AA-1428982-1448981-dynamic-1corestotal-allcorepera-20240416-155437'\n",
      "Rscript scripts/CLI.R --outdir=./output_chr1_a2_caud/ --snp_data_path=/dcs04/lieber/statsgen/shizhong/michael/mwas/gwas//libd_chr1.pgen --methylation_data_path=/dcs04/lieber/statsgen/shizhong/michael/mwas/pheno/caud/out/chr1_AA.rda --cov=/dcs04/lieber/statsgen/mnagle/mwas/full_covariates/AA_caud.csv --verbose=FALSE --lambda_choice=1se --alphas=0.5 --allow_inefficient_parallelization=FALSE --n_fold=5 --window_sizes=10000 --save_evaluation_results_each_fold=FALSE --save_glmnet_object=FALSE --omit_folds_with_na_r=TRUE --methInput_rds_path=/dcs04/lieber/statsgen/mnagle/mwas/pheno/caud/out/chr1_AA_1428982-1448981.rds --chunk1=1 --chunk2=20000 --cv_eval_mode=dynamic --num_cores=1 --cores_per_alpha=all --tag=libd_chr1-chr1_AA-1428982-1448981-dynamic-1corestotal-allcorepera-20240416-155437\n"
     ]
    },
    {
     "name": "stderr",
     "output_type": "stream",
     "text": [
      "Sleeping for 61 seconds\n",
      "\n"
     ]
    },
    {
     "name": "stdout",
     "output_type": "stream",
     "text": [
      "\n",
      "[1] \"Checking for files in:  ./output_chr1_a2_caud/\"\n",
      "[1] \"Using pattern:  libd_chr1-chr1_AA-1448982-1468981-dynamic-1corestotal-allcorepera\"\n",
      "[1] \"Found files with specific pattern: \"\n",
      "character(0)\n",
      "\n",
      "#!/bin/bash\n",
      "#SBATCH --nodes=1\n",
      "#SBATCH --ntasks-per-node=1\n",
      "#SBATCH --cpus-per-task=1\n",
      "#SBATCH --mem-per-cpu=2G\n",
      "#SBATCH --output=slurm_output_libd_chr1-chr1_AA-1448982-1468981-dynamic-1corestotal-allcorepera-20240416-155539.out\n",
      "#SBATCH --job-name=libd_chr1-chr1_AA-1448982-1468981-dynamic-1corestotal-allcorepera-20240416-155539\n",
      "#SBATCH --time=48:00:00\n",
      "module load conda\n",
      "conda activate mwas\n",
      "echo 'Executing Rscript with arguments: Rscript scripts/CLI.R --outdir=./output_chr1_a2_caud/ --snp_data_path=/dcs04/lieber/statsgen/shizhong/michael/mwas/gwas//libd_chr1.pgen --methylation_data_path=/dcs04/lieber/statsgen/shizhong/michael/mwas/pheno/caud/out/chr1_AA.rda --cov=/dcs04/lieber/statsgen/mnagle/mwas/full_covariates/AA_caud.csv --verbose=FALSE --lambda_choice=1se --alphas=0.5 --allow_inefficient_parallelization=FALSE --n_fold=5 --window_sizes=10000 --save_evaluation_results_each_fold=FALSE --save_glmnet_object=FALSE --omit_folds_with_na_r=TRUE --methInput_rds_path=/dcs04/lieber/statsgen/mnagle/mwas/pheno/caud/out/chr1_AA_1448982-1468981.rds --chunk1=1 --chunk2=20000 --cv_eval_mode=dynamic --num_cores=1 --cores_per_alpha=all --tag=libd_chr1-chr1_AA-1448982-1468981-dynamic-1corestotal-allcorepera-20240416-155539'\n",
      "Rscript scripts/CLI.R --outdir=./output_chr1_a2_caud/ --snp_data_path=/dcs04/lieber/statsgen/shizhong/michael/mwas/gwas//libd_chr1.pgen --methylation_data_path=/dcs04/lieber/statsgen/shizhong/michael/mwas/pheno/caud/out/chr1_AA.rda --cov=/dcs04/lieber/statsgen/mnagle/mwas/full_covariates/AA_caud.csv --verbose=FALSE --lambda_choice=1se --alphas=0.5 --allow_inefficient_parallelization=FALSE --n_fold=5 --window_sizes=10000 --save_evaluation_results_each_fold=FALSE --save_glmnet_object=FALSE --omit_folds_with_na_r=TRUE --methInput_rds_path=/dcs04/lieber/statsgen/mnagle/mwas/pheno/caud/out/chr1_AA_1448982-1468981.rds --chunk1=1 --chunk2=20000 --cv_eval_mode=dynamic --num_cores=1 --cores_per_alpha=all --tag=libd_chr1-chr1_AA-1448982-1468981-dynamic-1corestotal-allcorepera-20240416-155539\n"
     ]
    },
    {
     "name": "stderr",
     "output_type": "stream",
     "text": [
      "Sleeping for 61 seconds\n",
      "\n"
     ]
    },
    {
     "name": "stdout",
     "output_type": "stream",
     "text": [
      "\n",
      "[1] \"Checking for files in:  ./output_chr1_a2_caud/\"\n",
      "[1] \"Using pattern:  libd_chr1-chr1_AA-1468982-1488981-dynamic-1corestotal-allcorepera\"\n",
      "[1] \"Found files with specific pattern: \"\n",
      "character(0)\n",
      "\n",
      "#!/bin/bash\n",
      "#SBATCH --nodes=1\n",
      "#SBATCH --ntasks-per-node=1\n",
      "#SBATCH --cpus-per-task=1\n",
      "#SBATCH --mem-per-cpu=2G\n",
      "#SBATCH --output=slurm_output_libd_chr1-chr1_AA-1468982-1488981-dynamic-1corestotal-allcorepera-20240416-155640.out\n",
      "#SBATCH --job-name=libd_chr1-chr1_AA-1468982-1488981-dynamic-1corestotal-allcorepera-20240416-155640\n",
      "#SBATCH --time=48:00:00\n",
      "module load conda\n",
      "conda activate mwas\n",
      "echo 'Executing Rscript with arguments: Rscript scripts/CLI.R --outdir=./output_chr1_a2_caud/ --snp_data_path=/dcs04/lieber/statsgen/shizhong/michael/mwas/gwas//libd_chr1.pgen --methylation_data_path=/dcs04/lieber/statsgen/shizhong/michael/mwas/pheno/caud/out/chr1_AA.rda --cov=/dcs04/lieber/statsgen/mnagle/mwas/full_covariates/AA_caud.csv --verbose=FALSE --lambda_choice=1se --alphas=0.5 --allow_inefficient_parallelization=FALSE --n_fold=5 --window_sizes=10000 --save_evaluation_results_each_fold=FALSE --save_glmnet_object=FALSE --omit_folds_with_na_r=TRUE --methInput_rds_path=/dcs04/lieber/statsgen/mnagle/mwas/pheno/caud/out/chr1_AA_1468982-1488981.rds --chunk1=1 --chunk2=20000 --cv_eval_mode=dynamic --num_cores=1 --cores_per_alpha=all --tag=libd_chr1-chr1_AA-1468982-1488981-dynamic-1corestotal-allcorepera-20240416-155640'\n",
      "Rscript scripts/CLI.R --outdir=./output_chr1_a2_caud/ --snp_data_path=/dcs04/lieber/statsgen/shizhong/michael/mwas/gwas//libd_chr1.pgen --methylation_data_path=/dcs04/lieber/statsgen/shizhong/michael/mwas/pheno/caud/out/chr1_AA.rda --cov=/dcs04/lieber/statsgen/mnagle/mwas/full_covariates/AA_caud.csv --verbose=FALSE --lambda_choice=1se --alphas=0.5 --allow_inefficient_parallelization=FALSE --n_fold=5 --window_sizes=10000 --save_evaluation_results_each_fold=FALSE --save_glmnet_object=FALSE --omit_folds_with_na_r=TRUE --methInput_rds_path=/dcs04/lieber/statsgen/mnagle/mwas/pheno/caud/out/chr1_AA_1468982-1488981.rds --chunk1=1 --chunk2=20000 --cv_eval_mode=dynamic --num_cores=1 --cores_per_alpha=all --tag=libd_chr1-chr1_AA-1468982-1488981-dynamic-1corestotal-allcorepera-20240416-155640\n"
     ]
    },
    {
     "name": "stderr",
     "output_type": "stream",
     "text": [
      "Sleeping for 61 seconds\n",
      "\n"
     ]
    },
    {
     "name": "stdout",
     "output_type": "stream",
     "text": [
      "\n",
      "[1] \"Checking for files in:  ./output_chr1_a2_caud/\"\n",
      "[1] \"Using pattern:  libd_chr1-chr1_AA-1488982-1508981-dynamic-1corestotal-allcorepera\"\n",
      "[1] \"Found files with specific pattern: \"\n",
      "character(0)\n",
      "\n",
      "#!/bin/bash\n",
      "#SBATCH --nodes=1\n",
      "#SBATCH --ntasks-per-node=1\n",
      "#SBATCH --cpus-per-task=1\n",
      "#SBATCH --mem-per-cpu=2G\n",
      "#SBATCH --output=slurm_output_libd_chr1-chr1_AA-1488982-1508981-dynamic-1corestotal-allcorepera-20240416-155741.out\n",
      "#SBATCH --job-name=libd_chr1-chr1_AA-1488982-1508981-dynamic-1corestotal-allcorepera-20240416-155741\n",
      "#SBATCH --time=48:00:00\n",
      "module load conda\n",
      "conda activate mwas\n",
      "echo 'Executing Rscript with arguments: Rscript scripts/CLI.R --outdir=./output_chr1_a2_caud/ --snp_data_path=/dcs04/lieber/statsgen/shizhong/michael/mwas/gwas//libd_chr1.pgen --methylation_data_path=/dcs04/lieber/statsgen/shizhong/michael/mwas/pheno/caud/out/chr1_AA.rda --cov=/dcs04/lieber/statsgen/mnagle/mwas/full_covariates/AA_caud.csv --verbose=FALSE --lambda_choice=1se --alphas=0.5 --allow_inefficient_parallelization=FALSE --n_fold=5 --window_sizes=10000 --save_evaluation_results_each_fold=FALSE --save_glmnet_object=FALSE --omit_folds_with_na_r=TRUE --methInput_rds_path=/dcs04/lieber/statsgen/mnagle/mwas/pheno/caud/out/chr1_AA_1488982-1508981.rds --chunk1=1 --chunk2=20000 --cv_eval_mode=dynamic --num_cores=1 --cores_per_alpha=all --tag=libd_chr1-chr1_AA-1488982-1508981-dynamic-1corestotal-allcorepera-20240416-155741'\n",
      "Rscript scripts/CLI.R --outdir=./output_chr1_a2_caud/ --snp_data_path=/dcs04/lieber/statsgen/shizhong/michael/mwas/gwas//libd_chr1.pgen --methylation_data_path=/dcs04/lieber/statsgen/shizhong/michael/mwas/pheno/caud/out/chr1_AA.rda --cov=/dcs04/lieber/statsgen/mnagle/mwas/full_covariates/AA_caud.csv --verbose=FALSE --lambda_choice=1se --alphas=0.5 --allow_inefficient_parallelization=FALSE --n_fold=5 --window_sizes=10000 --save_evaluation_results_each_fold=FALSE --save_glmnet_object=FALSE --omit_folds_with_na_r=TRUE --methInput_rds_path=/dcs04/lieber/statsgen/mnagle/mwas/pheno/caud/out/chr1_AA_1488982-1508981.rds --chunk1=1 --chunk2=20000 --cv_eval_mode=dynamic --num_cores=1 --cores_per_alpha=all --tag=libd_chr1-chr1_AA-1488982-1508981-dynamic-1corestotal-allcorepera-20240416-155741\n"
     ]
    },
    {
     "name": "stderr",
     "output_type": "stream",
     "text": [
      "Sleeping for 61 seconds\n",
      "\n"
     ]
    },
    {
     "name": "stdout",
     "output_type": "stream",
     "text": [
      "\n",
      "[1] \"Checking for files in:  ./output_chr1_a2_caud/\"\n",
      "[1] \"Using pattern:  libd_chr1-chr1_AA-1508982-1528981-dynamic-1corestotal-allcorepera\"\n",
      "[1] \"Found files with specific pattern: \"\n",
      "character(0)\n",
      "\n",
      "#!/bin/bash\n",
      "#SBATCH --nodes=1\n",
      "#SBATCH --ntasks-per-node=1\n",
      "#SBATCH --cpus-per-task=1\n",
      "#SBATCH --mem-per-cpu=2G\n",
      "#SBATCH --output=slurm_output_libd_chr1-chr1_AA-1508982-1528981-dynamic-1corestotal-allcorepera-20240416-155842.out\n",
      "#SBATCH --job-name=libd_chr1-chr1_AA-1508982-1528981-dynamic-1corestotal-allcorepera-20240416-155842\n",
      "#SBATCH --time=48:00:00\n",
      "module load conda\n",
      "conda activate mwas\n",
      "echo 'Executing Rscript with arguments: Rscript scripts/CLI.R --outdir=./output_chr1_a2_caud/ --snp_data_path=/dcs04/lieber/statsgen/shizhong/michael/mwas/gwas//libd_chr1.pgen --methylation_data_path=/dcs04/lieber/statsgen/shizhong/michael/mwas/pheno/caud/out/chr1_AA.rda --cov=/dcs04/lieber/statsgen/mnagle/mwas/full_covariates/AA_caud.csv --verbose=FALSE --lambda_choice=1se --alphas=0.5 --allow_inefficient_parallelization=FALSE --n_fold=5 --window_sizes=10000 --save_evaluation_results_each_fold=FALSE --save_glmnet_object=FALSE --omit_folds_with_na_r=TRUE --methInput_rds_path=/dcs04/lieber/statsgen/mnagle/mwas/pheno/caud/out/chr1_AA_1508982-1528981.rds --chunk1=1 --chunk2=20000 --cv_eval_mode=dynamic --num_cores=1 --cores_per_alpha=all --tag=libd_chr1-chr1_AA-1508982-1528981-dynamic-1corestotal-allcorepera-20240416-155842'\n",
      "Rscript scripts/CLI.R --outdir=./output_chr1_a2_caud/ --snp_data_path=/dcs04/lieber/statsgen/shizhong/michael/mwas/gwas//libd_chr1.pgen --methylation_data_path=/dcs04/lieber/statsgen/shizhong/michael/mwas/pheno/caud/out/chr1_AA.rda --cov=/dcs04/lieber/statsgen/mnagle/mwas/full_covariates/AA_caud.csv --verbose=FALSE --lambda_choice=1se --alphas=0.5 --allow_inefficient_parallelization=FALSE --n_fold=5 --window_sizes=10000 --save_evaluation_results_each_fold=FALSE --save_glmnet_object=FALSE --omit_folds_with_na_r=TRUE --methInput_rds_path=/dcs04/lieber/statsgen/mnagle/mwas/pheno/caud/out/chr1_AA_1508982-1528981.rds --chunk1=1 --chunk2=20000 --cv_eval_mode=dynamic --num_cores=1 --cores_per_alpha=all --tag=libd_chr1-chr1_AA-1508982-1528981-dynamic-1corestotal-allcorepera-20240416-155842\n"
     ]
    },
    {
     "name": "stderr",
     "output_type": "stream",
     "text": [
      "Sleeping for 61 seconds\n",
      "\n"
     ]
    },
    {
     "name": "stdout",
     "output_type": "stream",
     "text": [
      "\n",
      "[1] \"Checking for files in:  ./output_chr1_a2_caud/\"\n",
      "[1] \"Using pattern:  libd_chr1-chr1_AA-1528982-1548981-dynamic-1corestotal-allcorepera\"\n",
      "[1] \"Found files with specific pattern: \"\n",
      "character(0)\n",
      "\n",
      "#!/bin/bash\n",
      "#SBATCH --nodes=1\n",
      "#SBATCH --ntasks-per-node=1\n",
      "#SBATCH --cpus-per-task=1\n",
      "#SBATCH --mem-per-cpu=2G\n",
      "#SBATCH --output=slurm_output_libd_chr1-chr1_AA-1528982-1548981-dynamic-1corestotal-allcorepera-20240416-155943.out\n",
      "#SBATCH --job-name=libd_chr1-chr1_AA-1528982-1548981-dynamic-1corestotal-allcorepera-20240416-155943\n",
      "#SBATCH --time=48:00:00\n",
      "module load conda\n",
      "conda activate mwas\n",
      "echo 'Executing Rscript with arguments: Rscript scripts/CLI.R --outdir=./output_chr1_a2_caud/ --snp_data_path=/dcs04/lieber/statsgen/shizhong/michael/mwas/gwas//libd_chr1.pgen --methylation_data_path=/dcs04/lieber/statsgen/shizhong/michael/mwas/pheno/caud/out/chr1_AA.rda --cov=/dcs04/lieber/statsgen/mnagle/mwas/full_covariates/AA_caud.csv --verbose=FALSE --lambda_choice=1se --alphas=0.5 --allow_inefficient_parallelization=FALSE --n_fold=5 --window_sizes=10000 --save_evaluation_results_each_fold=FALSE --save_glmnet_object=FALSE --omit_folds_with_na_r=TRUE --methInput_rds_path=/dcs04/lieber/statsgen/mnagle/mwas/pheno/caud/out/chr1_AA_1528982-1548981.rds --chunk1=1 --chunk2=20000 --cv_eval_mode=dynamic --num_cores=1 --cores_per_alpha=all --tag=libd_chr1-chr1_AA-1528982-1548981-dynamic-1corestotal-allcorepera-20240416-155943'\n",
      "Rscript scripts/CLI.R --outdir=./output_chr1_a2_caud/ --snp_data_path=/dcs04/lieber/statsgen/shizhong/michael/mwas/gwas//libd_chr1.pgen --methylation_data_path=/dcs04/lieber/statsgen/shizhong/michael/mwas/pheno/caud/out/chr1_AA.rda --cov=/dcs04/lieber/statsgen/mnagle/mwas/full_covariates/AA_caud.csv --verbose=FALSE --lambda_choice=1se --alphas=0.5 --allow_inefficient_parallelization=FALSE --n_fold=5 --window_sizes=10000 --save_evaluation_results_each_fold=FALSE --save_glmnet_object=FALSE --omit_folds_with_na_r=TRUE --methInput_rds_path=/dcs04/lieber/statsgen/mnagle/mwas/pheno/caud/out/chr1_AA_1528982-1548981.rds --chunk1=1 --chunk2=20000 --cv_eval_mode=dynamic --num_cores=1 --cores_per_alpha=all --tag=libd_chr1-chr1_AA-1528982-1548981-dynamic-1corestotal-allcorepera-20240416-155943\n"
     ]
    },
    {
     "name": "stderr",
     "output_type": "stream",
     "text": [
      "Sleeping for 61 seconds\n",
      "\n"
     ]
    },
    {
     "name": "stdout",
     "output_type": "stream",
     "text": [
      "\n",
      "[1] \"Checking for files in:  ./output_chr1_a2_caud/\"\n",
      "[1] \"Using pattern:  libd_chr1-chr1_AA-1548982-1568981-dynamic-1corestotal-allcorepera\"\n",
      "[1] \"Found files with specific pattern: \"\n",
      "character(0)\n",
      "\n",
      "#!/bin/bash\n",
      "#SBATCH --nodes=1\n",
      "#SBATCH --ntasks-per-node=1\n",
      "#SBATCH --cpus-per-task=1\n",
      "#SBATCH --mem-per-cpu=2G\n",
      "#SBATCH --output=slurm_output_libd_chr1-chr1_AA-1548982-1568981-dynamic-1corestotal-allcorepera-20240416-160044.out\n",
      "#SBATCH --job-name=libd_chr1-chr1_AA-1548982-1568981-dynamic-1corestotal-allcorepera-20240416-160044\n",
      "#SBATCH --time=48:00:00\n",
      "module load conda\n",
      "conda activate mwas\n",
      "echo 'Executing Rscript with arguments: Rscript scripts/CLI.R --outdir=./output_chr1_a2_caud/ --snp_data_path=/dcs04/lieber/statsgen/shizhong/michael/mwas/gwas//libd_chr1.pgen --methylation_data_path=/dcs04/lieber/statsgen/shizhong/michael/mwas/pheno/caud/out/chr1_AA.rda --cov=/dcs04/lieber/statsgen/mnagle/mwas/full_covariates/AA_caud.csv --verbose=FALSE --lambda_choice=1se --alphas=0.5 --allow_inefficient_parallelization=FALSE --n_fold=5 --window_sizes=10000 --save_evaluation_results_each_fold=FALSE --save_glmnet_object=FALSE --omit_folds_with_na_r=TRUE --methInput_rds_path=/dcs04/lieber/statsgen/mnagle/mwas/pheno/caud/out/chr1_AA_1548982-1568981.rds --chunk1=1 --chunk2=20000 --cv_eval_mode=dynamic --num_cores=1 --cores_per_alpha=all --tag=libd_chr1-chr1_AA-1548982-1568981-dynamic-1corestotal-allcorepera-20240416-160044'\n",
      "Rscript scripts/CLI.R --outdir=./output_chr1_a2_caud/ --snp_data_path=/dcs04/lieber/statsgen/shizhong/michael/mwas/gwas//libd_chr1.pgen --methylation_data_path=/dcs04/lieber/statsgen/shizhong/michael/mwas/pheno/caud/out/chr1_AA.rda --cov=/dcs04/lieber/statsgen/mnagle/mwas/full_covariates/AA_caud.csv --verbose=FALSE --lambda_choice=1se --alphas=0.5 --allow_inefficient_parallelization=FALSE --n_fold=5 --window_sizes=10000 --save_evaluation_results_each_fold=FALSE --save_glmnet_object=FALSE --omit_folds_with_na_r=TRUE --methInput_rds_path=/dcs04/lieber/statsgen/mnagle/mwas/pheno/caud/out/chr1_AA_1548982-1568981.rds --chunk1=1 --chunk2=20000 --cv_eval_mode=dynamic --num_cores=1 --cores_per_alpha=all --tag=libd_chr1-chr1_AA-1548982-1568981-dynamic-1corestotal-allcorepera-20240416-160044\n"
     ]
    },
    {
     "name": "stderr",
     "output_type": "stream",
     "text": [
      "Sleeping for 61 seconds\n",
      "\n"
     ]
    },
    {
     "name": "stdout",
     "output_type": "stream",
     "text": [
      "\n",
      "[1] \"Checking for files in:  ./output_chr1_a2_caud/\"\n",
      "[1] \"Using pattern:  libd_chr1-chr1_AA-1568982-1588981-dynamic-1corestotal-allcorepera\"\n",
      "[1] \"Found files with specific pattern: \"\n",
      "character(0)\n",
      "\n",
      "#!/bin/bash\n",
      "#SBATCH --nodes=1\n",
      "#SBATCH --ntasks-per-node=1\n",
      "#SBATCH --cpus-per-task=1\n",
      "#SBATCH --mem-per-cpu=2G\n",
      "#SBATCH --output=slurm_output_libd_chr1-chr1_AA-1568982-1588981-dynamic-1corestotal-allcorepera-20240416-160145.out\n",
      "#SBATCH --job-name=libd_chr1-chr1_AA-1568982-1588981-dynamic-1corestotal-allcorepera-20240416-160145\n",
      "#SBATCH --time=48:00:00\n",
      "module load conda\n",
      "conda activate mwas\n",
      "echo 'Executing Rscript with arguments: Rscript scripts/CLI.R --outdir=./output_chr1_a2_caud/ --snp_data_path=/dcs04/lieber/statsgen/shizhong/michael/mwas/gwas//libd_chr1.pgen --methylation_data_path=/dcs04/lieber/statsgen/shizhong/michael/mwas/pheno/caud/out/chr1_AA.rda --cov=/dcs04/lieber/statsgen/mnagle/mwas/full_covariates/AA_caud.csv --verbose=FALSE --lambda_choice=1se --alphas=0.5 --allow_inefficient_parallelization=FALSE --n_fold=5 --window_sizes=10000 --save_evaluation_results_each_fold=FALSE --save_glmnet_object=FALSE --omit_folds_with_na_r=TRUE --methInput_rds_path=/dcs04/lieber/statsgen/mnagle/mwas/pheno/caud/out/chr1_AA_1568982-1588981.rds --chunk1=1 --chunk2=20000 --cv_eval_mode=dynamic --num_cores=1 --cores_per_alpha=all --tag=libd_chr1-chr1_AA-1568982-1588981-dynamic-1corestotal-allcorepera-20240416-160145'\n",
      "Rscript scripts/CLI.R --outdir=./output_chr1_a2_caud/ --snp_data_path=/dcs04/lieber/statsgen/shizhong/michael/mwas/gwas//libd_chr1.pgen --methylation_data_path=/dcs04/lieber/statsgen/shizhong/michael/mwas/pheno/caud/out/chr1_AA.rda --cov=/dcs04/lieber/statsgen/mnagle/mwas/full_covariates/AA_caud.csv --verbose=FALSE --lambda_choice=1se --alphas=0.5 --allow_inefficient_parallelization=FALSE --n_fold=5 --window_sizes=10000 --save_evaluation_results_each_fold=FALSE --save_glmnet_object=FALSE --omit_folds_with_na_r=TRUE --methInput_rds_path=/dcs04/lieber/statsgen/mnagle/mwas/pheno/caud/out/chr1_AA_1568982-1588981.rds --chunk1=1 --chunk2=20000 --cv_eval_mode=dynamic --num_cores=1 --cores_per_alpha=all --tag=libd_chr1-chr1_AA-1568982-1588981-dynamic-1corestotal-allcorepera-20240416-160145\n"
     ]
    },
    {
     "name": "stderr",
     "output_type": "stream",
     "text": [
      "Sleeping for 61 seconds\n",
      "\n"
     ]
    },
    {
     "name": "stdout",
     "output_type": "stream",
     "text": [
      "\n",
      "[1] \"Checking for files in:  ./output_chr1_a2_caud/\"\n",
      "[1] \"Using pattern:  libd_chr1-chr1_AA-1588982-1608981-dynamic-1corestotal-allcorepera\"\n",
      "[1] \"Found files with specific pattern: \"\n",
      "character(0)\n",
      "\n",
      "#!/bin/bash\n",
      "#SBATCH --nodes=1\n",
      "#SBATCH --ntasks-per-node=1\n",
      "#SBATCH --cpus-per-task=1\n",
      "#SBATCH --mem-per-cpu=2G\n",
      "#SBATCH --output=slurm_output_libd_chr1-chr1_AA-1588982-1608981-dynamic-1corestotal-allcorepera-20240416-160246.out\n",
      "#SBATCH --job-name=libd_chr1-chr1_AA-1588982-1608981-dynamic-1corestotal-allcorepera-20240416-160246\n",
      "#SBATCH --time=48:00:00\n",
      "module load conda\n",
      "conda activate mwas\n",
      "echo 'Executing Rscript with arguments: Rscript scripts/CLI.R --outdir=./output_chr1_a2_caud/ --snp_data_path=/dcs04/lieber/statsgen/shizhong/michael/mwas/gwas//libd_chr1.pgen --methylation_data_path=/dcs04/lieber/statsgen/shizhong/michael/mwas/pheno/caud/out/chr1_AA.rda --cov=/dcs04/lieber/statsgen/mnagle/mwas/full_covariates/AA_caud.csv --verbose=FALSE --lambda_choice=1se --alphas=0.5 --allow_inefficient_parallelization=FALSE --n_fold=5 --window_sizes=10000 --save_evaluation_results_each_fold=FALSE --save_glmnet_object=FALSE --omit_folds_with_na_r=TRUE --methInput_rds_path=/dcs04/lieber/statsgen/mnagle/mwas/pheno/caud/out/chr1_AA_1588982-1608981.rds --chunk1=1 --chunk2=20000 --cv_eval_mode=dynamic --num_cores=1 --cores_per_alpha=all --tag=libd_chr1-chr1_AA-1588982-1608981-dynamic-1corestotal-allcorepera-20240416-160246'\n",
      "Rscript scripts/CLI.R --outdir=./output_chr1_a2_caud/ --snp_data_path=/dcs04/lieber/statsgen/shizhong/michael/mwas/gwas//libd_chr1.pgen --methylation_data_path=/dcs04/lieber/statsgen/shizhong/michael/mwas/pheno/caud/out/chr1_AA.rda --cov=/dcs04/lieber/statsgen/mnagle/mwas/full_covariates/AA_caud.csv --verbose=FALSE --lambda_choice=1se --alphas=0.5 --allow_inefficient_parallelization=FALSE --n_fold=5 --window_sizes=10000 --save_evaluation_results_each_fold=FALSE --save_glmnet_object=FALSE --omit_folds_with_na_r=TRUE --methInput_rds_path=/dcs04/lieber/statsgen/mnagle/mwas/pheno/caud/out/chr1_AA_1588982-1608981.rds --chunk1=1 --chunk2=20000 --cv_eval_mode=dynamic --num_cores=1 --cores_per_alpha=all --tag=libd_chr1-chr1_AA-1588982-1608981-dynamic-1corestotal-allcorepera-20240416-160246\n"
     ]
    },
    {
     "name": "stderr",
     "output_type": "stream",
     "text": [
      "Sleeping for 61 seconds\n",
      "\n"
     ]
    },
    {
     "name": "stdout",
     "output_type": "stream",
     "text": [
      "\n",
      "[1] \"Checking for files in:  ./output_chr1_a2_caud/\"\n",
      "[1] \"Using pattern:  libd_chr1-chr1_AA-1608982-1628981-dynamic-1corestotal-allcorepera\"\n",
      "[1] \"Found files with specific pattern: \"\n",
      "character(0)\n",
      "\n",
      "#!/bin/bash\n",
      "#SBATCH --nodes=1\n",
      "#SBATCH --ntasks-per-node=1\n",
      "#SBATCH --cpus-per-task=1\n",
      "#SBATCH --mem-per-cpu=2G\n",
      "#SBATCH --output=slurm_output_libd_chr1-chr1_AA-1608982-1628981-dynamic-1corestotal-allcorepera-20240416-160347.out\n",
      "#SBATCH --job-name=libd_chr1-chr1_AA-1608982-1628981-dynamic-1corestotal-allcorepera-20240416-160347\n",
      "#SBATCH --time=48:00:00\n",
      "module load conda\n",
      "conda activate mwas\n",
      "echo 'Executing Rscript with arguments: Rscript scripts/CLI.R --outdir=./output_chr1_a2_caud/ --snp_data_path=/dcs04/lieber/statsgen/shizhong/michael/mwas/gwas//libd_chr1.pgen --methylation_data_path=/dcs04/lieber/statsgen/shizhong/michael/mwas/pheno/caud/out/chr1_AA.rda --cov=/dcs04/lieber/statsgen/mnagle/mwas/full_covariates/AA_caud.csv --verbose=FALSE --lambda_choice=1se --alphas=0.5 --allow_inefficient_parallelization=FALSE --n_fold=5 --window_sizes=10000 --save_evaluation_results_each_fold=FALSE --save_glmnet_object=FALSE --omit_folds_with_na_r=TRUE --methInput_rds_path=/dcs04/lieber/statsgen/mnagle/mwas/pheno/caud/out/chr1_AA_1608982-1628981.rds --chunk1=1 --chunk2=20000 --cv_eval_mode=dynamic --num_cores=1 --cores_per_alpha=all --tag=libd_chr1-chr1_AA-1608982-1628981-dynamic-1corestotal-allcorepera-20240416-160347'\n",
      "Rscript scripts/CLI.R --outdir=./output_chr1_a2_caud/ --snp_data_path=/dcs04/lieber/statsgen/shizhong/michael/mwas/gwas//libd_chr1.pgen --methylation_data_path=/dcs04/lieber/statsgen/shizhong/michael/mwas/pheno/caud/out/chr1_AA.rda --cov=/dcs04/lieber/statsgen/mnagle/mwas/full_covariates/AA_caud.csv --verbose=FALSE --lambda_choice=1se --alphas=0.5 --allow_inefficient_parallelization=FALSE --n_fold=5 --window_sizes=10000 --save_evaluation_results_each_fold=FALSE --save_glmnet_object=FALSE --omit_folds_with_na_r=TRUE --methInput_rds_path=/dcs04/lieber/statsgen/mnagle/mwas/pheno/caud/out/chr1_AA_1608982-1628981.rds --chunk1=1 --chunk2=20000 --cv_eval_mode=dynamic --num_cores=1 --cores_per_alpha=all --tag=libd_chr1-chr1_AA-1608982-1628981-dynamic-1corestotal-allcorepera-20240416-160347\n"
     ]
    },
    {
     "name": "stderr",
     "output_type": "stream",
     "text": [
      "Sleeping for 61 seconds\n",
      "\n"
     ]
    },
    {
     "name": "stdout",
     "output_type": "stream",
     "text": [
      "\n",
      "[1] \"Checking for files in:  ./output_chr1_a2_caud/\"\n",
      "[1] \"Using pattern:  libd_chr1-chr1_AA-1628982-1648981-dynamic-1corestotal-allcorepera\"\n",
      "[1] \"Found files with specific pattern: \"\n",
      "character(0)\n",
      "\n",
      "#!/bin/bash\n",
      "#SBATCH --nodes=1\n",
      "#SBATCH --ntasks-per-node=1\n",
      "#SBATCH --cpus-per-task=1\n",
      "#SBATCH --mem-per-cpu=2G\n",
      "#SBATCH --output=slurm_output_libd_chr1-chr1_AA-1628982-1648981-dynamic-1corestotal-allcorepera-20240416-160449.out\n",
      "#SBATCH --job-name=libd_chr1-chr1_AA-1628982-1648981-dynamic-1corestotal-allcorepera-20240416-160449\n",
      "#SBATCH --time=48:00:00\n",
      "module load conda\n",
      "conda activate mwas\n",
      "echo 'Executing Rscript with arguments: Rscript scripts/CLI.R --outdir=./output_chr1_a2_caud/ --snp_data_path=/dcs04/lieber/statsgen/shizhong/michael/mwas/gwas//libd_chr1.pgen --methylation_data_path=/dcs04/lieber/statsgen/shizhong/michael/mwas/pheno/caud/out/chr1_AA.rda --cov=/dcs04/lieber/statsgen/mnagle/mwas/full_covariates/AA_caud.csv --verbose=FALSE --lambda_choice=1se --alphas=0.5 --allow_inefficient_parallelization=FALSE --n_fold=5 --window_sizes=10000 --save_evaluation_results_each_fold=FALSE --save_glmnet_object=FALSE --omit_folds_with_na_r=TRUE --methInput_rds_path=/dcs04/lieber/statsgen/mnagle/mwas/pheno/caud/out/chr1_AA_1628982-1648981.rds --chunk1=1 --chunk2=20000 --cv_eval_mode=dynamic --num_cores=1 --cores_per_alpha=all --tag=libd_chr1-chr1_AA-1628982-1648981-dynamic-1corestotal-allcorepera-20240416-160449'\n",
      "Rscript scripts/CLI.R --outdir=./output_chr1_a2_caud/ --snp_data_path=/dcs04/lieber/statsgen/shizhong/michael/mwas/gwas//libd_chr1.pgen --methylation_data_path=/dcs04/lieber/statsgen/shizhong/michael/mwas/pheno/caud/out/chr1_AA.rda --cov=/dcs04/lieber/statsgen/mnagle/mwas/full_covariates/AA_caud.csv --verbose=FALSE --lambda_choice=1se --alphas=0.5 --allow_inefficient_parallelization=FALSE --n_fold=5 --window_sizes=10000 --save_evaluation_results_each_fold=FALSE --save_glmnet_object=FALSE --omit_folds_with_na_r=TRUE --methInput_rds_path=/dcs04/lieber/statsgen/mnagle/mwas/pheno/caud/out/chr1_AA_1628982-1648981.rds --chunk1=1 --chunk2=20000 --cv_eval_mode=dynamic --num_cores=1 --cores_per_alpha=all --tag=libd_chr1-chr1_AA-1628982-1648981-dynamic-1corestotal-allcorepera-20240416-160449\n"
     ]
    },
    {
     "name": "stderr",
     "output_type": "stream",
     "text": [
      "Sleeping for 61 seconds\n",
      "\n"
     ]
    },
    {
     "name": "stdout",
     "output_type": "stream",
     "text": [
      "\n",
      "[1] \"Checking for files in:  ./output_chr1_a2_caud/\"\n",
      "[1] \"Using pattern:  libd_chr1-chr1_AA-1648982-1668981-dynamic-1corestotal-allcorepera\"\n",
      "[1] \"Found files with specific pattern: \"\n",
      "character(0)\n",
      "\n",
      "#!/bin/bash\n",
      "#SBATCH --nodes=1\n",
      "#SBATCH --ntasks-per-node=1\n",
      "#SBATCH --cpus-per-task=1\n",
      "#SBATCH --mem-per-cpu=2G\n",
      "#SBATCH --output=slurm_output_libd_chr1-chr1_AA-1648982-1668981-dynamic-1corestotal-allcorepera-20240416-160550.out\n",
      "#SBATCH --job-name=libd_chr1-chr1_AA-1648982-1668981-dynamic-1corestotal-allcorepera-20240416-160550\n",
      "#SBATCH --time=48:00:00\n",
      "module load conda\n",
      "conda activate mwas\n",
      "echo 'Executing Rscript with arguments: Rscript scripts/CLI.R --outdir=./output_chr1_a2_caud/ --snp_data_path=/dcs04/lieber/statsgen/shizhong/michael/mwas/gwas//libd_chr1.pgen --methylation_data_path=/dcs04/lieber/statsgen/shizhong/michael/mwas/pheno/caud/out/chr1_AA.rda --cov=/dcs04/lieber/statsgen/mnagle/mwas/full_covariates/AA_caud.csv --verbose=FALSE --lambda_choice=1se --alphas=0.5 --allow_inefficient_parallelization=FALSE --n_fold=5 --window_sizes=10000 --save_evaluation_results_each_fold=FALSE --save_glmnet_object=FALSE --omit_folds_with_na_r=TRUE --methInput_rds_path=/dcs04/lieber/statsgen/mnagle/mwas/pheno/caud/out/chr1_AA_1648982-1668981.rds --chunk1=1 --chunk2=20000 --cv_eval_mode=dynamic --num_cores=1 --cores_per_alpha=all --tag=libd_chr1-chr1_AA-1648982-1668981-dynamic-1corestotal-allcorepera-20240416-160550'\n",
      "Rscript scripts/CLI.R --outdir=./output_chr1_a2_caud/ --snp_data_path=/dcs04/lieber/statsgen/shizhong/michael/mwas/gwas//libd_chr1.pgen --methylation_data_path=/dcs04/lieber/statsgen/shizhong/michael/mwas/pheno/caud/out/chr1_AA.rda --cov=/dcs04/lieber/statsgen/mnagle/mwas/full_covariates/AA_caud.csv --verbose=FALSE --lambda_choice=1se --alphas=0.5 --allow_inefficient_parallelization=FALSE --n_fold=5 --window_sizes=10000 --save_evaluation_results_each_fold=FALSE --save_glmnet_object=FALSE --omit_folds_with_na_r=TRUE --methInput_rds_path=/dcs04/lieber/statsgen/mnagle/mwas/pheno/caud/out/chr1_AA_1648982-1668981.rds --chunk1=1 --chunk2=20000 --cv_eval_mode=dynamic --num_cores=1 --cores_per_alpha=all --tag=libd_chr1-chr1_AA-1648982-1668981-dynamic-1corestotal-allcorepera-20240416-160550\n"
     ]
    },
    {
     "name": "stderr",
     "output_type": "stream",
     "text": [
      "Sleeping for 61 seconds\n",
      "\n"
     ]
    },
    {
     "name": "stdout",
     "output_type": "stream",
     "text": [
      "\n",
      "[1] \"Checking for files in:  ./output_chr1_a2_caud/\"\n",
      "[1] \"Using pattern:  libd_chr1-chr1_AA-1668982-1688981-dynamic-1corestotal-allcorepera\"\n",
      "[1] \"Found files with specific pattern: \"\n",
      "character(0)\n",
      "\n",
      "#!/bin/bash\n",
      "#SBATCH --nodes=1\n",
      "#SBATCH --ntasks-per-node=1\n",
      "#SBATCH --cpus-per-task=1\n",
      "#SBATCH --mem-per-cpu=2G\n",
      "#SBATCH --output=slurm_output_libd_chr1-chr1_AA-1668982-1688981-dynamic-1corestotal-allcorepera-20240416-160651.out\n",
      "#SBATCH --job-name=libd_chr1-chr1_AA-1668982-1688981-dynamic-1corestotal-allcorepera-20240416-160651\n",
      "#SBATCH --time=48:00:00\n",
      "module load conda\n",
      "conda activate mwas\n",
      "echo 'Executing Rscript with arguments: Rscript scripts/CLI.R --outdir=./output_chr1_a2_caud/ --snp_data_path=/dcs04/lieber/statsgen/shizhong/michael/mwas/gwas//libd_chr1.pgen --methylation_data_path=/dcs04/lieber/statsgen/shizhong/michael/mwas/pheno/caud/out/chr1_AA.rda --cov=/dcs04/lieber/statsgen/mnagle/mwas/full_covariates/AA_caud.csv --verbose=FALSE --lambda_choice=1se --alphas=0.5 --allow_inefficient_parallelization=FALSE --n_fold=5 --window_sizes=10000 --save_evaluation_results_each_fold=FALSE --save_glmnet_object=FALSE --omit_folds_with_na_r=TRUE --methInput_rds_path=/dcs04/lieber/statsgen/mnagle/mwas/pheno/caud/out/chr1_AA_1668982-1688981.rds --chunk1=1 --chunk2=20000 --cv_eval_mode=dynamic --num_cores=1 --cores_per_alpha=all --tag=libd_chr1-chr1_AA-1668982-1688981-dynamic-1corestotal-allcorepera-20240416-160651'\n",
      "Rscript scripts/CLI.R --outdir=./output_chr1_a2_caud/ --snp_data_path=/dcs04/lieber/statsgen/shizhong/michael/mwas/gwas//libd_chr1.pgen --methylation_data_path=/dcs04/lieber/statsgen/shizhong/michael/mwas/pheno/caud/out/chr1_AA.rda --cov=/dcs04/lieber/statsgen/mnagle/mwas/full_covariates/AA_caud.csv --verbose=FALSE --lambda_choice=1se --alphas=0.5 --allow_inefficient_parallelization=FALSE --n_fold=5 --window_sizes=10000 --save_evaluation_results_each_fold=FALSE --save_glmnet_object=FALSE --omit_folds_with_na_r=TRUE --methInput_rds_path=/dcs04/lieber/statsgen/mnagle/mwas/pheno/caud/out/chr1_AA_1668982-1688981.rds --chunk1=1 --chunk2=20000 --cv_eval_mode=dynamic --num_cores=1 --cores_per_alpha=all --tag=libd_chr1-chr1_AA-1668982-1688981-dynamic-1corestotal-allcorepera-20240416-160651\n"
     ]
    },
    {
     "name": "stderr",
     "output_type": "stream",
     "text": [
      "Sleeping for 61 seconds\n",
      "\n"
     ]
    },
    {
     "name": "stdout",
     "output_type": "stream",
     "text": [
      "\n",
      "[1] \"Checking for files in:  ./output_chr1_a2_caud/\"\n",
      "[1] \"Using pattern:  libd_chr1-chr1_AA-1688982-1708981-dynamic-1corestotal-allcorepera\"\n",
      "[1] \"Found files with specific pattern: \"\n",
      "character(0)\n",
      "\n",
      "#!/bin/bash\n",
      "#SBATCH --nodes=1\n",
      "#SBATCH --ntasks-per-node=1\n",
      "#SBATCH --cpus-per-task=1\n",
      "#SBATCH --mem-per-cpu=2G\n",
      "#SBATCH --output=slurm_output_libd_chr1-chr1_AA-1688982-1708981-dynamic-1corestotal-allcorepera-20240416-160752.out\n",
      "#SBATCH --job-name=libd_chr1-chr1_AA-1688982-1708981-dynamic-1corestotal-allcorepera-20240416-160752\n",
      "#SBATCH --time=48:00:00\n",
      "module load conda\n",
      "conda activate mwas\n",
      "echo 'Executing Rscript with arguments: Rscript scripts/CLI.R --outdir=./output_chr1_a2_caud/ --snp_data_path=/dcs04/lieber/statsgen/shizhong/michael/mwas/gwas//libd_chr1.pgen --methylation_data_path=/dcs04/lieber/statsgen/shizhong/michael/mwas/pheno/caud/out/chr1_AA.rda --cov=/dcs04/lieber/statsgen/mnagle/mwas/full_covariates/AA_caud.csv --verbose=FALSE --lambda_choice=1se --alphas=0.5 --allow_inefficient_parallelization=FALSE --n_fold=5 --window_sizes=10000 --save_evaluation_results_each_fold=FALSE --save_glmnet_object=FALSE --omit_folds_with_na_r=TRUE --methInput_rds_path=/dcs04/lieber/statsgen/mnagle/mwas/pheno/caud/out/chr1_AA_1688982-1708981.rds --chunk1=1 --chunk2=20000 --cv_eval_mode=dynamic --num_cores=1 --cores_per_alpha=all --tag=libd_chr1-chr1_AA-1688982-1708981-dynamic-1corestotal-allcorepera-20240416-160752'\n",
      "Rscript scripts/CLI.R --outdir=./output_chr1_a2_caud/ --snp_data_path=/dcs04/lieber/statsgen/shizhong/michael/mwas/gwas//libd_chr1.pgen --methylation_data_path=/dcs04/lieber/statsgen/shizhong/michael/mwas/pheno/caud/out/chr1_AA.rda --cov=/dcs04/lieber/statsgen/mnagle/mwas/full_covariates/AA_caud.csv --verbose=FALSE --lambda_choice=1se --alphas=0.5 --allow_inefficient_parallelization=FALSE --n_fold=5 --window_sizes=10000 --save_evaluation_results_each_fold=FALSE --save_glmnet_object=FALSE --omit_folds_with_na_r=TRUE --methInput_rds_path=/dcs04/lieber/statsgen/mnagle/mwas/pheno/caud/out/chr1_AA_1688982-1708981.rds --chunk1=1 --chunk2=20000 --cv_eval_mode=dynamic --num_cores=1 --cores_per_alpha=all --tag=libd_chr1-chr1_AA-1688982-1708981-dynamic-1corestotal-allcorepera-20240416-160752\n"
     ]
    },
    {
     "name": "stderr",
     "output_type": "stream",
     "text": [
      "Sleeping for 61 seconds\n",
      "\n"
     ]
    },
    {
     "name": "stdout",
     "output_type": "stream",
     "text": [
      "\n",
      "[1] \"Checking for files in:  ./output_chr1_a2_caud/\"\n",
      "[1] \"Using pattern:  libd_chr1-chr1_AA-1708982-1728981-dynamic-1corestotal-allcorepera\"\n",
      "[1] \"Found files with specific pattern: \"\n",
      "character(0)\n",
      "\n",
      "#!/bin/bash\n",
      "#SBATCH --nodes=1\n",
      "#SBATCH --ntasks-per-node=1\n",
      "#SBATCH --cpus-per-task=1\n",
      "#SBATCH --mem-per-cpu=2G\n",
      "#SBATCH --output=slurm_output_libd_chr1-chr1_AA-1708982-1728981-dynamic-1corestotal-allcorepera-20240416-160853.out\n",
      "#SBATCH --job-name=libd_chr1-chr1_AA-1708982-1728981-dynamic-1corestotal-allcorepera-20240416-160853\n",
      "#SBATCH --time=48:00:00\n",
      "module load conda\n",
      "conda activate mwas\n",
      "echo 'Executing Rscript with arguments: Rscript scripts/CLI.R --outdir=./output_chr1_a2_caud/ --snp_data_path=/dcs04/lieber/statsgen/shizhong/michael/mwas/gwas//libd_chr1.pgen --methylation_data_path=/dcs04/lieber/statsgen/shizhong/michael/mwas/pheno/caud/out/chr1_AA.rda --cov=/dcs04/lieber/statsgen/mnagle/mwas/full_covariates/AA_caud.csv --verbose=FALSE --lambda_choice=1se --alphas=0.5 --allow_inefficient_parallelization=FALSE --n_fold=5 --window_sizes=10000 --save_evaluation_results_each_fold=FALSE --save_glmnet_object=FALSE --omit_folds_with_na_r=TRUE --methInput_rds_path=/dcs04/lieber/statsgen/mnagle/mwas/pheno/caud/out/chr1_AA_1708982-1728981.rds --chunk1=1 --chunk2=20000 --cv_eval_mode=dynamic --num_cores=1 --cores_per_alpha=all --tag=libd_chr1-chr1_AA-1708982-1728981-dynamic-1corestotal-allcorepera-20240416-160853'\n",
      "Rscript scripts/CLI.R --outdir=./output_chr1_a2_caud/ --snp_data_path=/dcs04/lieber/statsgen/shizhong/michael/mwas/gwas//libd_chr1.pgen --methylation_data_path=/dcs04/lieber/statsgen/shizhong/michael/mwas/pheno/caud/out/chr1_AA.rda --cov=/dcs04/lieber/statsgen/mnagle/mwas/full_covariates/AA_caud.csv --verbose=FALSE --lambda_choice=1se --alphas=0.5 --allow_inefficient_parallelization=FALSE --n_fold=5 --window_sizes=10000 --save_evaluation_results_each_fold=FALSE --save_glmnet_object=FALSE --omit_folds_with_na_r=TRUE --methInput_rds_path=/dcs04/lieber/statsgen/mnagle/mwas/pheno/caud/out/chr1_AA_1708982-1728981.rds --chunk1=1 --chunk2=20000 --cv_eval_mode=dynamic --num_cores=1 --cores_per_alpha=all --tag=libd_chr1-chr1_AA-1708982-1728981-dynamic-1corestotal-allcorepera-20240416-160853\n"
     ]
    },
    {
     "name": "stderr",
     "output_type": "stream",
     "text": [
      "Sleeping for 61 seconds\n",
      "\n"
     ]
    },
    {
     "name": "stdout",
     "output_type": "stream",
     "text": [
      "\n",
      "[1] \"Checking for files in:  ./output_chr1_a2_caud/\"\n",
      "[1] \"Using pattern:  libd_chr1-chr1_AA-1728982-1748981-dynamic-1corestotal-allcorepera\"\n",
      "[1] \"Found files with specific pattern: \"\n",
      "character(0)\n",
      "\n",
      "#!/bin/bash\n",
      "#SBATCH --nodes=1\n",
      "#SBATCH --ntasks-per-node=1\n",
      "#SBATCH --cpus-per-task=1\n",
      "#SBATCH --mem-per-cpu=2G\n",
      "#SBATCH --output=slurm_output_libd_chr1-chr1_AA-1728982-1748981-dynamic-1corestotal-allcorepera-20240416-160954.out\n",
      "#SBATCH --job-name=libd_chr1-chr1_AA-1728982-1748981-dynamic-1corestotal-allcorepera-20240416-160954\n",
      "#SBATCH --time=48:00:00\n",
      "module load conda\n",
      "conda activate mwas\n",
      "echo 'Executing Rscript with arguments: Rscript scripts/CLI.R --outdir=./output_chr1_a2_caud/ --snp_data_path=/dcs04/lieber/statsgen/shizhong/michael/mwas/gwas//libd_chr1.pgen --methylation_data_path=/dcs04/lieber/statsgen/shizhong/michael/mwas/pheno/caud/out/chr1_AA.rda --cov=/dcs04/lieber/statsgen/mnagle/mwas/full_covariates/AA_caud.csv --verbose=FALSE --lambda_choice=1se --alphas=0.5 --allow_inefficient_parallelization=FALSE --n_fold=5 --window_sizes=10000 --save_evaluation_results_each_fold=FALSE --save_glmnet_object=FALSE --omit_folds_with_na_r=TRUE --methInput_rds_path=/dcs04/lieber/statsgen/mnagle/mwas/pheno/caud/out/chr1_AA_1728982-1748981.rds --chunk1=1 --chunk2=20000 --cv_eval_mode=dynamic --num_cores=1 --cores_per_alpha=all --tag=libd_chr1-chr1_AA-1728982-1748981-dynamic-1corestotal-allcorepera-20240416-160954'\n",
      "Rscript scripts/CLI.R --outdir=./output_chr1_a2_caud/ --snp_data_path=/dcs04/lieber/statsgen/shizhong/michael/mwas/gwas//libd_chr1.pgen --methylation_data_path=/dcs04/lieber/statsgen/shizhong/michael/mwas/pheno/caud/out/chr1_AA.rda --cov=/dcs04/lieber/statsgen/mnagle/mwas/full_covariates/AA_caud.csv --verbose=FALSE --lambda_choice=1se --alphas=0.5 --allow_inefficient_parallelization=FALSE --n_fold=5 --window_sizes=10000 --save_evaluation_results_each_fold=FALSE --save_glmnet_object=FALSE --omit_folds_with_na_r=TRUE --methInput_rds_path=/dcs04/lieber/statsgen/mnagle/mwas/pheno/caud/out/chr1_AA_1728982-1748981.rds --chunk1=1 --chunk2=20000 --cv_eval_mode=dynamic --num_cores=1 --cores_per_alpha=all --tag=libd_chr1-chr1_AA-1728982-1748981-dynamic-1corestotal-allcorepera-20240416-160954\n"
     ]
    },
    {
     "name": "stderr",
     "output_type": "stream",
     "text": [
      "Sleeping for 61 seconds\n",
      "\n"
     ]
    },
    {
     "name": "stdout",
     "output_type": "stream",
     "text": [
      "\n",
      "[1] \"Checking for files in:  ./output_chr1_a2_caud/\"\n",
      "[1] \"Using pattern:  libd_chr1-chr1_AA-1748982-1768981-dynamic-1corestotal-allcorepera\"\n",
      "[1] \"Found files with specific pattern: \"\n",
      "character(0)\n",
      "\n",
      "#!/bin/bash\n",
      "#SBATCH --nodes=1\n",
      "#SBATCH --ntasks-per-node=1\n",
      "#SBATCH --cpus-per-task=1\n",
      "#SBATCH --mem-per-cpu=2G\n",
      "#SBATCH --output=slurm_output_libd_chr1-chr1_AA-1748982-1768981-dynamic-1corestotal-allcorepera-20240416-161055.out\n",
      "#SBATCH --job-name=libd_chr1-chr1_AA-1748982-1768981-dynamic-1corestotal-allcorepera-20240416-161055\n",
      "#SBATCH --time=48:00:00\n",
      "module load conda\n",
      "conda activate mwas\n",
      "echo 'Executing Rscript with arguments: Rscript scripts/CLI.R --outdir=./output_chr1_a2_caud/ --snp_data_path=/dcs04/lieber/statsgen/shizhong/michael/mwas/gwas//libd_chr1.pgen --methylation_data_path=/dcs04/lieber/statsgen/shizhong/michael/mwas/pheno/caud/out/chr1_AA.rda --cov=/dcs04/lieber/statsgen/mnagle/mwas/full_covariates/AA_caud.csv --verbose=FALSE --lambda_choice=1se --alphas=0.5 --allow_inefficient_parallelization=FALSE --n_fold=5 --window_sizes=10000 --save_evaluation_results_each_fold=FALSE --save_glmnet_object=FALSE --omit_folds_with_na_r=TRUE --methInput_rds_path=/dcs04/lieber/statsgen/mnagle/mwas/pheno/caud/out/chr1_AA_1748982-1768981.rds --chunk1=1 --chunk2=20000 --cv_eval_mode=dynamic --num_cores=1 --cores_per_alpha=all --tag=libd_chr1-chr1_AA-1748982-1768981-dynamic-1corestotal-allcorepera-20240416-161055'\n",
      "Rscript scripts/CLI.R --outdir=./output_chr1_a2_caud/ --snp_data_path=/dcs04/lieber/statsgen/shizhong/michael/mwas/gwas//libd_chr1.pgen --methylation_data_path=/dcs04/lieber/statsgen/shizhong/michael/mwas/pheno/caud/out/chr1_AA.rda --cov=/dcs04/lieber/statsgen/mnagle/mwas/full_covariates/AA_caud.csv --verbose=FALSE --lambda_choice=1se --alphas=0.5 --allow_inefficient_parallelization=FALSE --n_fold=5 --window_sizes=10000 --save_evaluation_results_each_fold=FALSE --save_glmnet_object=FALSE --omit_folds_with_na_r=TRUE --methInput_rds_path=/dcs04/lieber/statsgen/mnagle/mwas/pheno/caud/out/chr1_AA_1748982-1768981.rds --chunk1=1 --chunk2=20000 --cv_eval_mode=dynamic --num_cores=1 --cores_per_alpha=all --tag=libd_chr1-chr1_AA-1748982-1768981-dynamic-1corestotal-allcorepera-20240416-161055\n"
     ]
    },
    {
     "name": "stderr",
     "output_type": "stream",
     "text": [
      "Sleeping for 61 seconds\n",
      "\n"
     ]
    },
    {
     "name": "stdout",
     "output_type": "stream",
     "text": [
      "\n",
      "[1] \"Checking for files in:  ./output_chr1_a2_caud/\"\n",
      "[1] \"Using pattern:  libd_chr1-chr1_AA-1768982-1788981-dynamic-1corestotal-allcorepera\"\n",
      "[1] \"Found files with specific pattern: \"\n",
      "character(0)\n",
      "\n",
      "#!/bin/bash\n",
      "#SBATCH --nodes=1\n",
      "#SBATCH --ntasks-per-node=1\n",
      "#SBATCH --cpus-per-task=1\n",
      "#SBATCH --mem-per-cpu=2G\n",
      "#SBATCH --output=slurm_output_libd_chr1-chr1_AA-1768982-1788981-dynamic-1corestotal-allcorepera-20240416-161156.out\n",
      "#SBATCH --job-name=libd_chr1-chr1_AA-1768982-1788981-dynamic-1corestotal-allcorepera-20240416-161156\n",
      "#SBATCH --time=48:00:00\n",
      "module load conda\n",
      "conda activate mwas\n",
      "echo 'Executing Rscript with arguments: Rscript scripts/CLI.R --outdir=./output_chr1_a2_caud/ --snp_data_path=/dcs04/lieber/statsgen/shizhong/michael/mwas/gwas//libd_chr1.pgen --methylation_data_path=/dcs04/lieber/statsgen/shizhong/michael/mwas/pheno/caud/out/chr1_AA.rda --cov=/dcs04/lieber/statsgen/mnagle/mwas/full_covariates/AA_caud.csv --verbose=FALSE --lambda_choice=1se --alphas=0.5 --allow_inefficient_parallelization=FALSE --n_fold=5 --window_sizes=10000 --save_evaluation_results_each_fold=FALSE --save_glmnet_object=FALSE --omit_folds_with_na_r=TRUE --methInput_rds_path=/dcs04/lieber/statsgen/mnagle/mwas/pheno/caud/out/chr1_AA_1768982-1788981.rds --chunk1=1 --chunk2=20000 --cv_eval_mode=dynamic --num_cores=1 --cores_per_alpha=all --tag=libd_chr1-chr1_AA-1768982-1788981-dynamic-1corestotal-allcorepera-20240416-161156'\n",
      "Rscript scripts/CLI.R --outdir=./output_chr1_a2_caud/ --snp_data_path=/dcs04/lieber/statsgen/shizhong/michael/mwas/gwas//libd_chr1.pgen --methylation_data_path=/dcs04/lieber/statsgen/shizhong/michael/mwas/pheno/caud/out/chr1_AA.rda --cov=/dcs04/lieber/statsgen/mnagle/mwas/full_covariates/AA_caud.csv --verbose=FALSE --lambda_choice=1se --alphas=0.5 --allow_inefficient_parallelization=FALSE --n_fold=5 --window_sizes=10000 --save_evaluation_results_each_fold=FALSE --save_glmnet_object=FALSE --omit_folds_with_na_r=TRUE --methInput_rds_path=/dcs04/lieber/statsgen/mnagle/mwas/pheno/caud/out/chr1_AA_1768982-1788981.rds --chunk1=1 --chunk2=20000 --cv_eval_mode=dynamic --num_cores=1 --cores_per_alpha=all --tag=libd_chr1-chr1_AA-1768982-1788981-dynamic-1corestotal-allcorepera-20240416-161156\n"
     ]
    },
    {
     "name": "stderr",
     "output_type": "stream",
     "text": [
      "Sleeping for 61 seconds\n",
      "\n"
     ]
    },
    {
     "name": "stdout",
     "output_type": "stream",
     "text": [
      "\n",
      "[1] \"Checking for files in:  ./output_chr1_a2_caud/\"\n",
      "[1] \"Using pattern:  libd_chr1-chr1_AA-1788982-1808981-dynamic-1corestotal-allcorepera\"\n",
      "[1] \"Found files with specific pattern: \"\n",
      "character(0)\n",
      "\n",
      "#!/bin/bash\n",
      "#SBATCH --nodes=1\n",
      "#SBATCH --ntasks-per-node=1\n",
      "#SBATCH --cpus-per-task=1\n",
      "#SBATCH --mem-per-cpu=2G\n",
      "#SBATCH --output=slurm_output_libd_chr1-chr1_AA-1788982-1808981-dynamic-1corestotal-allcorepera-20240416-161257.out\n",
      "#SBATCH --job-name=libd_chr1-chr1_AA-1788982-1808981-dynamic-1corestotal-allcorepera-20240416-161257\n",
      "#SBATCH --time=48:00:00\n",
      "module load conda\n",
      "conda activate mwas\n",
      "echo 'Executing Rscript with arguments: Rscript scripts/CLI.R --outdir=./output_chr1_a2_caud/ --snp_data_path=/dcs04/lieber/statsgen/shizhong/michael/mwas/gwas//libd_chr1.pgen --methylation_data_path=/dcs04/lieber/statsgen/shizhong/michael/mwas/pheno/caud/out/chr1_AA.rda --cov=/dcs04/lieber/statsgen/mnagle/mwas/full_covariates/AA_caud.csv --verbose=FALSE --lambda_choice=1se --alphas=0.5 --allow_inefficient_parallelization=FALSE --n_fold=5 --window_sizes=10000 --save_evaluation_results_each_fold=FALSE --save_glmnet_object=FALSE --omit_folds_with_na_r=TRUE --methInput_rds_path=/dcs04/lieber/statsgen/mnagle/mwas/pheno/caud/out/chr1_AA_1788982-1808981.rds --chunk1=1 --chunk2=20000 --cv_eval_mode=dynamic --num_cores=1 --cores_per_alpha=all --tag=libd_chr1-chr1_AA-1788982-1808981-dynamic-1corestotal-allcorepera-20240416-161257'\n",
      "Rscript scripts/CLI.R --outdir=./output_chr1_a2_caud/ --snp_data_path=/dcs04/lieber/statsgen/shizhong/michael/mwas/gwas//libd_chr1.pgen --methylation_data_path=/dcs04/lieber/statsgen/shizhong/michael/mwas/pheno/caud/out/chr1_AA.rda --cov=/dcs04/lieber/statsgen/mnagle/mwas/full_covariates/AA_caud.csv --verbose=FALSE --lambda_choice=1se --alphas=0.5 --allow_inefficient_parallelization=FALSE --n_fold=5 --window_sizes=10000 --save_evaluation_results_each_fold=FALSE --save_glmnet_object=FALSE --omit_folds_with_na_r=TRUE --methInput_rds_path=/dcs04/lieber/statsgen/mnagle/mwas/pheno/caud/out/chr1_AA_1788982-1808981.rds --chunk1=1 --chunk2=20000 --cv_eval_mode=dynamic --num_cores=1 --cores_per_alpha=all --tag=libd_chr1-chr1_AA-1788982-1808981-dynamic-1corestotal-allcorepera-20240416-161257\n"
     ]
    },
    {
     "name": "stderr",
     "output_type": "stream",
     "text": [
      "Sleeping for 61 seconds\n",
      "\n"
     ]
    },
    {
     "name": "stdout",
     "output_type": "stream",
     "text": [
      "\n",
      "[1] \"Checking for files in:  ./output_chr1_a2_caud/\"\n",
      "[1] \"Using pattern:  libd_chr1-chr1_AA-1808982-1828981-dynamic-1corestotal-allcorepera\"\n",
      "[1] \"Found files with specific pattern: \"\n",
      "character(0)\n",
      "\n",
      "#!/bin/bash\n",
      "#SBATCH --nodes=1\n",
      "#SBATCH --ntasks-per-node=1\n",
      "#SBATCH --cpus-per-task=1\n",
      "#SBATCH --mem-per-cpu=2G\n",
      "#SBATCH --output=slurm_output_libd_chr1-chr1_AA-1808982-1828981-dynamic-1corestotal-allcorepera-20240416-161358.out\n",
      "#SBATCH --job-name=libd_chr1-chr1_AA-1808982-1828981-dynamic-1corestotal-allcorepera-20240416-161358\n",
      "#SBATCH --time=48:00:00\n",
      "module load conda\n",
      "conda activate mwas\n",
      "echo 'Executing Rscript with arguments: Rscript scripts/CLI.R --outdir=./output_chr1_a2_caud/ --snp_data_path=/dcs04/lieber/statsgen/shizhong/michael/mwas/gwas//libd_chr1.pgen --methylation_data_path=/dcs04/lieber/statsgen/shizhong/michael/mwas/pheno/caud/out/chr1_AA.rda --cov=/dcs04/lieber/statsgen/mnagle/mwas/full_covariates/AA_caud.csv --verbose=FALSE --lambda_choice=1se --alphas=0.5 --allow_inefficient_parallelization=FALSE --n_fold=5 --window_sizes=10000 --save_evaluation_results_each_fold=FALSE --save_glmnet_object=FALSE --omit_folds_with_na_r=TRUE --methInput_rds_path=/dcs04/lieber/statsgen/mnagle/mwas/pheno/caud/out/chr1_AA_1808982-1828981.rds --chunk1=1 --chunk2=20000 --cv_eval_mode=dynamic --num_cores=1 --cores_per_alpha=all --tag=libd_chr1-chr1_AA-1808982-1828981-dynamic-1corestotal-allcorepera-20240416-161358'\n",
      "Rscript scripts/CLI.R --outdir=./output_chr1_a2_caud/ --snp_data_path=/dcs04/lieber/statsgen/shizhong/michael/mwas/gwas//libd_chr1.pgen --methylation_data_path=/dcs04/lieber/statsgen/shizhong/michael/mwas/pheno/caud/out/chr1_AA.rda --cov=/dcs04/lieber/statsgen/mnagle/mwas/full_covariates/AA_caud.csv --verbose=FALSE --lambda_choice=1se --alphas=0.5 --allow_inefficient_parallelization=FALSE --n_fold=5 --window_sizes=10000 --save_evaluation_results_each_fold=FALSE --save_glmnet_object=FALSE --omit_folds_with_na_r=TRUE --methInput_rds_path=/dcs04/lieber/statsgen/mnagle/mwas/pheno/caud/out/chr1_AA_1808982-1828981.rds --chunk1=1 --chunk2=20000 --cv_eval_mode=dynamic --num_cores=1 --cores_per_alpha=all --tag=libd_chr1-chr1_AA-1808982-1828981-dynamic-1corestotal-allcorepera-20240416-161358\n"
     ]
    },
    {
     "name": "stderr",
     "output_type": "stream",
     "text": [
      "Sleeping for 61 seconds\n",
      "\n"
     ]
    },
    {
     "name": "stdout",
     "output_type": "stream",
     "text": [
      "\n",
      "[1] \"Checking for files in:  ./output_chr1_a2_caud/\"\n",
      "[1] \"Using pattern:  libd_chr1-chr1_AA-1828982-1848981-dynamic-1corestotal-allcorepera\"\n",
      "[1] \"Found files with specific pattern: \"\n",
      "character(0)\n",
      "\n",
      "#!/bin/bash\n",
      "#SBATCH --nodes=1\n",
      "#SBATCH --ntasks-per-node=1\n",
      "#SBATCH --cpus-per-task=1\n",
      "#SBATCH --mem-per-cpu=2G\n",
      "#SBATCH --output=slurm_output_libd_chr1-chr1_AA-1828982-1848981-dynamic-1corestotal-allcorepera-20240416-161500.out\n",
      "#SBATCH --job-name=libd_chr1-chr1_AA-1828982-1848981-dynamic-1corestotal-allcorepera-20240416-161500\n",
      "#SBATCH --time=48:00:00\n",
      "module load conda\n",
      "conda activate mwas\n",
      "echo 'Executing Rscript with arguments: Rscript scripts/CLI.R --outdir=./output_chr1_a2_caud/ --snp_data_path=/dcs04/lieber/statsgen/shizhong/michael/mwas/gwas//libd_chr1.pgen --methylation_data_path=/dcs04/lieber/statsgen/shizhong/michael/mwas/pheno/caud/out/chr1_AA.rda --cov=/dcs04/lieber/statsgen/mnagle/mwas/full_covariates/AA_caud.csv --verbose=FALSE --lambda_choice=1se --alphas=0.5 --allow_inefficient_parallelization=FALSE --n_fold=5 --window_sizes=10000 --save_evaluation_results_each_fold=FALSE --save_glmnet_object=FALSE --omit_folds_with_na_r=TRUE --methInput_rds_path=/dcs04/lieber/statsgen/mnagle/mwas/pheno/caud/out/chr1_AA_1828982-1848981.rds --chunk1=1 --chunk2=20000 --cv_eval_mode=dynamic --num_cores=1 --cores_per_alpha=all --tag=libd_chr1-chr1_AA-1828982-1848981-dynamic-1corestotal-allcorepera-20240416-161500'\n",
      "Rscript scripts/CLI.R --outdir=./output_chr1_a2_caud/ --snp_data_path=/dcs04/lieber/statsgen/shizhong/michael/mwas/gwas//libd_chr1.pgen --methylation_data_path=/dcs04/lieber/statsgen/shizhong/michael/mwas/pheno/caud/out/chr1_AA.rda --cov=/dcs04/lieber/statsgen/mnagle/mwas/full_covariates/AA_caud.csv --verbose=FALSE --lambda_choice=1se --alphas=0.5 --allow_inefficient_parallelization=FALSE --n_fold=5 --window_sizes=10000 --save_evaluation_results_each_fold=FALSE --save_glmnet_object=FALSE --omit_folds_with_na_r=TRUE --methInput_rds_path=/dcs04/lieber/statsgen/mnagle/mwas/pheno/caud/out/chr1_AA_1828982-1848981.rds --chunk1=1 --chunk2=20000 --cv_eval_mode=dynamic --num_cores=1 --cores_per_alpha=all --tag=libd_chr1-chr1_AA-1828982-1848981-dynamic-1corestotal-allcorepera-20240416-161500\n"
     ]
    },
    {
     "name": "stderr",
     "output_type": "stream",
     "text": [
      "Sleeping for 61 seconds\n",
      "\n"
     ]
    },
    {
     "name": "stdout",
     "output_type": "stream",
     "text": [
      "\n",
      "[1] \"Checking for files in:  ./output_chr1_a2_caud/\"\n",
      "[1] \"Using pattern:  libd_chr1-chr1_AA-1848982-1868981-dynamic-1corestotal-allcorepera\"\n",
      "[1] \"Found files with specific pattern: \"\n",
      "character(0)\n",
      "\n",
      "#!/bin/bash\n",
      "#SBATCH --nodes=1\n",
      "#SBATCH --ntasks-per-node=1\n",
      "#SBATCH --cpus-per-task=1\n",
      "#SBATCH --mem-per-cpu=2G\n",
      "#SBATCH --output=slurm_output_libd_chr1-chr1_AA-1848982-1868981-dynamic-1corestotal-allcorepera-20240416-161601.out\n",
      "#SBATCH --job-name=libd_chr1-chr1_AA-1848982-1868981-dynamic-1corestotal-allcorepera-20240416-161601\n",
      "#SBATCH --time=48:00:00\n",
      "module load conda\n",
      "conda activate mwas\n",
      "echo 'Executing Rscript with arguments: Rscript scripts/CLI.R --outdir=./output_chr1_a2_caud/ --snp_data_path=/dcs04/lieber/statsgen/shizhong/michael/mwas/gwas//libd_chr1.pgen --methylation_data_path=/dcs04/lieber/statsgen/shizhong/michael/mwas/pheno/caud/out/chr1_AA.rda --cov=/dcs04/lieber/statsgen/mnagle/mwas/full_covariates/AA_caud.csv --verbose=FALSE --lambda_choice=1se --alphas=0.5 --allow_inefficient_parallelization=FALSE --n_fold=5 --window_sizes=10000 --save_evaluation_results_each_fold=FALSE --save_glmnet_object=FALSE --omit_folds_with_na_r=TRUE --methInput_rds_path=/dcs04/lieber/statsgen/mnagle/mwas/pheno/caud/out/chr1_AA_1848982-1868981.rds --chunk1=1 --chunk2=20000 --cv_eval_mode=dynamic --num_cores=1 --cores_per_alpha=all --tag=libd_chr1-chr1_AA-1848982-1868981-dynamic-1corestotal-allcorepera-20240416-161601'\n",
      "Rscript scripts/CLI.R --outdir=./output_chr1_a2_caud/ --snp_data_path=/dcs04/lieber/statsgen/shizhong/michael/mwas/gwas//libd_chr1.pgen --methylation_data_path=/dcs04/lieber/statsgen/shizhong/michael/mwas/pheno/caud/out/chr1_AA.rda --cov=/dcs04/lieber/statsgen/mnagle/mwas/full_covariates/AA_caud.csv --verbose=FALSE --lambda_choice=1se --alphas=0.5 --allow_inefficient_parallelization=FALSE --n_fold=5 --window_sizes=10000 --save_evaluation_results_each_fold=FALSE --save_glmnet_object=FALSE --omit_folds_with_na_r=TRUE --methInput_rds_path=/dcs04/lieber/statsgen/mnagle/mwas/pheno/caud/out/chr1_AA_1848982-1868981.rds --chunk1=1 --chunk2=20000 --cv_eval_mode=dynamic --num_cores=1 --cores_per_alpha=all --tag=libd_chr1-chr1_AA-1848982-1868981-dynamic-1corestotal-allcorepera-20240416-161601\n"
     ]
    },
    {
     "name": "stderr",
     "output_type": "stream",
     "text": [
      "Sleeping for 61 seconds\n",
      "\n"
     ]
    },
    {
     "name": "stdout",
     "output_type": "stream",
     "text": [
      "\n",
      "[1] \"Checking for files in:  ./output_chr1_a2_caud/\"\n",
      "[1] \"Using pattern:  libd_chr1-chr1_AA-1868982-1888981-dynamic-1corestotal-allcorepera\"\n",
      "[1] \"Found files with specific pattern: \"\n",
      "character(0)\n",
      "\n",
      "#!/bin/bash\n",
      "#SBATCH --nodes=1\n",
      "#SBATCH --ntasks-per-node=1\n",
      "#SBATCH --cpus-per-task=1\n",
      "#SBATCH --mem-per-cpu=2G\n",
      "#SBATCH --output=slurm_output_libd_chr1-chr1_AA-1868982-1888981-dynamic-1corestotal-allcorepera-20240416-161702.out\n",
      "#SBATCH --job-name=libd_chr1-chr1_AA-1868982-1888981-dynamic-1corestotal-allcorepera-20240416-161702\n",
      "#SBATCH --time=48:00:00\n",
      "module load conda\n",
      "conda activate mwas\n",
      "echo 'Executing Rscript with arguments: Rscript scripts/CLI.R --outdir=./output_chr1_a2_caud/ --snp_data_path=/dcs04/lieber/statsgen/shizhong/michael/mwas/gwas//libd_chr1.pgen --methylation_data_path=/dcs04/lieber/statsgen/shizhong/michael/mwas/pheno/caud/out/chr1_AA.rda --cov=/dcs04/lieber/statsgen/mnagle/mwas/full_covariates/AA_caud.csv --verbose=FALSE --lambda_choice=1se --alphas=0.5 --allow_inefficient_parallelization=FALSE --n_fold=5 --window_sizes=10000 --save_evaluation_results_each_fold=FALSE --save_glmnet_object=FALSE --omit_folds_with_na_r=TRUE --methInput_rds_path=/dcs04/lieber/statsgen/mnagle/mwas/pheno/caud/out/chr1_AA_1868982-1888981.rds --chunk1=1 --chunk2=20000 --cv_eval_mode=dynamic --num_cores=1 --cores_per_alpha=all --tag=libd_chr1-chr1_AA-1868982-1888981-dynamic-1corestotal-allcorepera-20240416-161702'\n",
      "Rscript scripts/CLI.R --outdir=./output_chr1_a2_caud/ --snp_data_path=/dcs04/lieber/statsgen/shizhong/michael/mwas/gwas//libd_chr1.pgen --methylation_data_path=/dcs04/lieber/statsgen/shizhong/michael/mwas/pheno/caud/out/chr1_AA.rda --cov=/dcs04/lieber/statsgen/mnagle/mwas/full_covariates/AA_caud.csv --verbose=FALSE --lambda_choice=1se --alphas=0.5 --allow_inefficient_parallelization=FALSE --n_fold=5 --window_sizes=10000 --save_evaluation_results_each_fold=FALSE --save_glmnet_object=FALSE --omit_folds_with_na_r=TRUE --methInput_rds_path=/dcs04/lieber/statsgen/mnagle/mwas/pheno/caud/out/chr1_AA_1868982-1888981.rds --chunk1=1 --chunk2=20000 --cv_eval_mode=dynamic --num_cores=1 --cores_per_alpha=all --tag=libd_chr1-chr1_AA-1868982-1888981-dynamic-1corestotal-allcorepera-20240416-161702\n"
     ]
    },
    {
     "name": "stderr",
     "output_type": "stream",
     "text": [
      "Sleeping for 61 seconds\n",
      "\n"
     ]
    },
    {
     "name": "stdout",
     "output_type": "stream",
     "text": [
      "\n",
      "[1] \"Checking for files in:  ./output_chr1_a2_caud/\"\n",
      "[1] \"Using pattern:  libd_chr1-chr1_AA-1888982-1908981-dynamic-1corestotal-allcorepera\"\n",
      "[1] \"Found files with specific pattern: \"\n",
      "character(0)\n",
      "\n",
      "#!/bin/bash\n",
      "#SBATCH --nodes=1\n",
      "#SBATCH --ntasks-per-node=1\n",
      "#SBATCH --cpus-per-task=1\n",
      "#SBATCH --mem-per-cpu=2G\n",
      "#SBATCH --output=slurm_output_libd_chr1-chr1_AA-1888982-1908981-dynamic-1corestotal-allcorepera-20240416-161803.out\n",
      "#SBATCH --job-name=libd_chr1-chr1_AA-1888982-1908981-dynamic-1corestotal-allcorepera-20240416-161803\n",
      "#SBATCH --time=48:00:00\n",
      "module load conda\n",
      "conda activate mwas\n",
      "echo 'Executing Rscript with arguments: Rscript scripts/CLI.R --outdir=./output_chr1_a2_caud/ --snp_data_path=/dcs04/lieber/statsgen/shizhong/michael/mwas/gwas//libd_chr1.pgen --methylation_data_path=/dcs04/lieber/statsgen/shizhong/michael/mwas/pheno/caud/out/chr1_AA.rda --cov=/dcs04/lieber/statsgen/mnagle/mwas/full_covariates/AA_caud.csv --verbose=FALSE --lambda_choice=1se --alphas=0.5 --allow_inefficient_parallelization=FALSE --n_fold=5 --window_sizes=10000 --save_evaluation_results_each_fold=FALSE --save_glmnet_object=FALSE --omit_folds_with_na_r=TRUE --methInput_rds_path=/dcs04/lieber/statsgen/mnagle/mwas/pheno/caud/out/chr1_AA_1888982-1908981.rds --chunk1=1 --chunk2=20000 --cv_eval_mode=dynamic --num_cores=1 --cores_per_alpha=all --tag=libd_chr1-chr1_AA-1888982-1908981-dynamic-1corestotal-allcorepera-20240416-161803'\n",
      "Rscript scripts/CLI.R --outdir=./output_chr1_a2_caud/ --snp_data_path=/dcs04/lieber/statsgen/shizhong/michael/mwas/gwas//libd_chr1.pgen --methylation_data_path=/dcs04/lieber/statsgen/shizhong/michael/mwas/pheno/caud/out/chr1_AA.rda --cov=/dcs04/lieber/statsgen/mnagle/mwas/full_covariates/AA_caud.csv --verbose=FALSE --lambda_choice=1se --alphas=0.5 --allow_inefficient_parallelization=FALSE --n_fold=5 --window_sizes=10000 --save_evaluation_results_each_fold=FALSE --save_glmnet_object=FALSE --omit_folds_with_na_r=TRUE --methInput_rds_path=/dcs04/lieber/statsgen/mnagle/mwas/pheno/caud/out/chr1_AA_1888982-1908981.rds --chunk1=1 --chunk2=20000 --cv_eval_mode=dynamic --num_cores=1 --cores_per_alpha=all --tag=libd_chr1-chr1_AA-1888982-1908981-dynamic-1corestotal-allcorepera-20240416-161803\n"
     ]
    },
    {
     "name": "stderr",
     "output_type": "stream",
     "text": [
      "Sleeping for 61 seconds\n",
      "\n"
     ]
    },
    {
     "name": "stdout",
     "output_type": "stream",
     "text": [
      "\n",
      "[1] \"Checking for files in:  ./output_chr1_a2_caud/\"\n",
      "[1] \"Using pattern:  libd_chr1-chr1_AA-1908982-1928981-dynamic-1corestotal-allcorepera\"\n",
      "[1] \"Found files with specific pattern: \"\n",
      "character(0)\n",
      "\n",
      "#!/bin/bash\n",
      "#SBATCH --nodes=1\n",
      "#SBATCH --ntasks-per-node=1\n",
      "#SBATCH --cpus-per-task=1\n",
      "#SBATCH --mem-per-cpu=2G\n",
      "#SBATCH --output=slurm_output_libd_chr1-chr1_AA-1908982-1928981-dynamic-1corestotal-allcorepera-20240416-161904.out\n",
      "#SBATCH --job-name=libd_chr1-chr1_AA-1908982-1928981-dynamic-1corestotal-allcorepera-20240416-161904\n",
      "#SBATCH --time=48:00:00\n",
      "module load conda\n",
      "conda activate mwas\n",
      "echo 'Executing Rscript with arguments: Rscript scripts/CLI.R --outdir=./output_chr1_a2_caud/ --snp_data_path=/dcs04/lieber/statsgen/shizhong/michael/mwas/gwas//libd_chr1.pgen --methylation_data_path=/dcs04/lieber/statsgen/shizhong/michael/mwas/pheno/caud/out/chr1_AA.rda --cov=/dcs04/lieber/statsgen/mnagle/mwas/full_covariates/AA_caud.csv --verbose=FALSE --lambda_choice=1se --alphas=0.5 --allow_inefficient_parallelization=FALSE --n_fold=5 --window_sizes=10000 --save_evaluation_results_each_fold=FALSE --save_glmnet_object=FALSE --omit_folds_with_na_r=TRUE --methInput_rds_path=/dcs04/lieber/statsgen/mnagle/mwas/pheno/caud/out/chr1_AA_1908982-1928981.rds --chunk1=1 --chunk2=20000 --cv_eval_mode=dynamic --num_cores=1 --cores_per_alpha=all --tag=libd_chr1-chr1_AA-1908982-1928981-dynamic-1corestotal-allcorepera-20240416-161904'\n",
      "Rscript scripts/CLI.R --outdir=./output_chr1_a2_caud/ --snp_data_path=/dcs04/lieber/statsgen/shizhong/michael/mwas/gwas//libd_chr1.pgen --methylation_data_path=/dcs04/lieber/statsgen/shizhong/michael/mwas/pheno/caud/out/chr1_AA.rda --cov=/dcs04/lieber/statsgen/mnagle/mwas/full_covariates/AA_caud.csv --verbose=FALSE --lambda_choice=1se --alphas=0.5 --allow_inefficient_parallelization=FALSE --n_fold=5 --window_sizes=10000 --save_evaluation_results_each_fold=FALSE --save_glmnet_object=FALSE --omit_folds_with_na_r=TRUE --methInput_rds_path=/dcs04/lieber/statsgen/mnagle/mwas/pheno/caud/out/chr1_AA_1908982-1928981.rds --chunk1=1 --chunk2=20000 --cv_eval_mode=dynamic --num_cores=1 --cores_per_alpha=all --tag=libd_chr1-chr1_AA-1908982-1928981-dynamic-1corestotal-allcorepera-20240416-161904\n"
     ]
    },
    {
     "name": "stderr",
     "output_type": "stream",
     "text": [
      "Sleeping for 61 seconds\n",
      "\n"
     ]
    },
    {
     "name": "stdout",
     "output_type": "stream",
     "text": [
      "\n",
      "[1] \"Checking for files in:  ./output_chr1_a2_caud/\"\n",
      "[1] \"Using pattern:  libd_chr1-chr1_AA-1928982-1948981-dynamic-1corestotal-allcorepera\"\n",
      "[1] \"Found files with specific pattern: \"\n",
      "character(0)\n",
      "\n",
      "#!/bin/bash\n",
      "#SBATCH --nodes=1\n",
      "#SBATCH --ntasks-per-node=1\n",
      "#SBATCH --cpus-per-task=1\n",
      "#SBATCH --mem-per-cpu=2G\n",
      "#SBATCH --output=slurm_output_libd_chr1-chr1_AA-1928982-1948981-dynamic-1corestotal-allcorepera-20240416-162005.out\n",
      "#SBATCH --job-name=libd_chr1-chr1_AA-1928982-1948981-dynamic-1corestotal-allcorepera-20240416-162005\n",
      "#SBATCH --time=48:00:00\n",
      "module load conda\n",
      "conda activate mwas\n",
      "echo 'Executing Rscript with arguments: Rscript scripts/CLI.R --outdir=./output_chr1_a2_caud/ --snp_data_path=/dcs04/lieber/statsgen/shizhong/michael/mwas/gwas//libd_chr1.pgen --methylation_data_path=/dcs04/lieber/statsgen/shizhong/michael/mwas/pheno/caud/out/chr1_AA.rda --cov=/dcs04/lieber/statsgen/mnagle/mwas/full_covariates/AA_caud.csv --verbose=FALSE --lambda_choice=1se --alphas=0.5 --allow_inefficient_parallelization=FALSE --n_fold=5 --window_sizes=10000 --save_evaluation_results_each_fold=FALSE --save_glmnet_object=FALSE --omit_folds_with_na_r=TRUE --methInput_rds_path=/dcs04/lieber/statsgen/mnagle/mwas/pheno/caud/out/chr1_AA_1928982-1948981.rds --chunk1=1 --chunk2=20000 --cv_eval_mode=dynamic --num_cores=1 --cores_per_alpha=all --tag=libd_chr1-chr1_AA-1928982-1948981-dynamic-1corestotal-allcorepera-20240416-162005'\n",
      "Rscript scripts/CLI.R --outdir=./output_chr1_a2_caud/ --snp_data_path=/dcs04/lieber/statsgen/shizhong/michael/mwas/gwas//libd_chr1.pgen --methylation_data_path=/dcs04/lieber/statsgen/shizhong/michael/mwas/pheno/caud/out/chr1_AA.rda --cov=/dcs04/lieber/statsgen/mnagle/mwas/full_covariates/AA_caud.csv --verbose=FALSE --lambda_choice=1se --alphas=0.5 --allow_inefficient_parallelization=FALSE --n_fold=5 --window_sizes=10000 --save_evaluation_results_each_fold=FALSE --save_glmnet_object=FALSE --omit_folds_with_na_r=TRUE --methInput_rds_path=/dcs04/lieber/statsgen/mnagle/mwas/pheno/caud/out/chr1_AA_1928982-1948981.rds --chunk1=1 --chunk2=20000 --cv_eval_mode=dynamic --num_cores=1 --cores_per_alpha=all --tag=libd_chr1-chr1_AA-1928982-1948981-dynamic-1corestotal-allcorepera-20240416-162005\n"
     ]
    },
    {
     "name": "stderr",
     "output_type": "stream",
     "text": [
      "Sleeping for 61 seconds\n",
      "\n"
     ]
    },
    {
     "name": "stdout",
     "output_type": "stream",
     "text": [
      "\n",
      "[1] \"Checking for files in:  ./output_chr1_a2_caud/\"\n",
      "[1] \"Using pattern:  libd_chr1-chr1_AA-1948982-1968981-dynamic-1corestotal-allcorepera\"\n",
      "[1] \"Found files with specific pattern: \"\n",
      "character(0)\n",
      "\n",
      "#!/bin/bash\n",
      "#SBATCH --nodes=1\n",
      "#SBATCH --ntasks-per-node=1\n",
      "#SBATCH --cpus-per-task=1\n",
      "#SBATCH --mem-per-cpu=2G\n",
      "#SBATCH --output=slurm_output_libd_chr1-chr1_AA-1948982-1968981-dynamic-1corestotal-allcorepera-20240416-162106.out\n",
      "#SBATCH --job-name=libd_chr1-chr1_AA-1948982-1968981-dynamic-1corestotal-allcorepera-20240416-162106\n",
      "#SBATCH --time=48:00:00\n",
      "module load conda\n",
      "conda activate mwas\n",
      "echo 'Executing Rscript with arguments: Rscript scripts/CLI.R --outdir=./output_chr1_a2_caud/ --snp_data_path=/dcs04/lieber/statsgen/shizhong/michael/mwas/gwas//libd_chr1.pgen --methylation_data_path=/dcs04/lieber/statsgen/shizhong/michael/mwas/pheno/caud/out/chr1_AA.rda --cov=/dcs04/lieber/statsgen/mnagle/mwas/full_covariates/AA_caud.csv --verbose=FALSE --lambda_choice=1se --alphas=0.5 --allow_inefficient_parallelization=FALSE --n_fold=5 --window_sizes=10000 --save_evaluation_results_each_fold=FALSE --save_glmnet_object=FALSE --omit_folds_with_na_r=TRUE --methInput_rds_path=/dcs04/lieber/statsgen/mnagle/mwas/pheno/caud/out/chr1_AA_1948982-1968981.rds --chunk1=1 --chunk2=20000 --cv_eval_mode=dynamic --num_cores=1 --cores_per_alpha=all --tag=libd_chr1-chr1_AA-1948982-1968981-dynamic-1corestotal-allcorepera-20240416-162106'\n",
      "Rscript scripts/CLI.R --outdir=./output_chr1_a2_caud/ --snp_data_path=/dcs04/lieber/statsgen/shizhong/michael/mwas/gwas//libd_chr1.pgen --methylation_data_path=/dcs04/lieber/statsgen/shizhong/michael/mwas/pheno/caud/out/chr1_AA.rda --cov=/dcs04/lieber/statsgen/mnagle/mwas/full_covariates/AA_caud.csv --verbose=FALSE --lambda_choice=1se --alphas=0.5 --allow_inefficient_parallelization=FALSE --n_fold=5 --window_sizes=10000 --save_evaluation_results_each_fold=FALSE --save_glmnet_object=FALSE --omit_folds_with_na_r=TRUE --methInput_rds_path=/dcs04/lieber/statsgen/mnagle/mwas/pheno/caud/out/chr1_AA_1948982-1968981.rds --chunk1=1 --chunk2=20000 --cv_eval_mode=dynamic --num_cores=1 --cores_per_alpha=all --tag=libd_chr1-chr1_AA-1948982-1968981-dynamic-1corestotal-allcorepera-20240416-162106\n"
     ]
    },
    {
     "name": "stderr",
     "output_type": "stream",
     "text": [
      "Sleeping for 61 seconds\n",
      "\n"
     ]
    },
    {
     "name": "stdout",
     "output_type": "stream",
     "text": [
      "\n",
      "[1] \"Checking for files in:  ./output_chr1_a2_caud/\"\n",
      "[1] \"Using pattern:  libd_chr1-chr1_AA-1968982-1988981-dynamic-1corestotal-allcorepera\"\n",
      "[1] \"Found files with specific pattern: \"\n",
      "character(0)\n",
      "\n",
      "#!/bin/bash\n",
      "#SBATCH --nodes=1\n",
      "#SBATCH --ntasks-per-node=1\n",
      "#SBATCH --cpus-per-task=1\n",
      "#SBATCH --mem-per-cpu=2G\n",
      "#SBATCH --output=slurm_output_libd_chr1-chr1_AA-1968982-1988981-dynamic-1corestotal-allcorepera-20240416-162207.out\n",
      "#SBATCH --job-name=libd_chr1-chr1_AA-1968982-1988981-dynamic-1corestotal-allcorepera-20240416-162207\n",
      "#SBATCH --time=48:00:00\n",
      "module load conda\n",
      "conda activate mwas\n",
      "echo 'Executing Rscript with arguments: Rscript scripts/CLI.R --outdir=./output_chr1_a2_caud/ --snp_data_path=/dcs04/lieber/statsgen/shizhong/michael/mwas/gwas//libd_chr1.pgen --methylation_data_path=/dcs04/lieber/statsgen/shizhong/michael/mwas/pheno/caud/out/chr1_AA.rda --cov=/dcs04/lieber/statsgen/mnagle/mwas/full_covariates/AA_caud.csv --verbose=FALSE --lambda_choice=1se --alphas=0.5 --allow_inefficient_parallelization=FALSE --n_fold=5 --window_sizes=10000 --save_evaluation_results_each_fold=FALSE --save_glmnet_object=FALSE --omit_folds_with_na_r=TRUE --methInput_rds_path=/dcs04/lieber/statsgen/mnagle/mwas/pheno/caud/out/chr1_AA_1968982-1988981.rds --chunk1=1 --chunk2=20000 --cv_eval_mode=dynamic --num_cores=1 --cores_per_alpha=all --tag=libd_chr1-chr1_AA-1968982-1988981-dynamic-1corestotal-allcorepera-20240416-162207'\n",
      "Rscript scripts/CLI.R --outdir=./output_chr1_a2_caud/ --snp_data_path=/dcs04/lieber/statsgen/shizhong/michael/mwas/gwas//libd_chr1.pgen --methylation_data_path=/dcs04/lieber/statsgen/shizhong/michael/mwas/pheno/caud/out/chr1_AA.rda --cov=/dcs04/lieber/statsgen/mnagle/mwas/full_covariates/AA_caud.csv --verbose=FALSE --lambda_choice=1se --alphas=0.5 --allow_inefficient_parallelization=FALSE --n_fold=5 --window_sizes=10000 --save_evaluation_results_each_fold=FALSE --save_glmnet_object=FALSE --omit_folds_with_na_r=TRUE --methInput_rds_path=/dcs04/lieber/statsgen/mnagle/mwas/pheno/caud/out/chr1_AA_1968982-1988981.rds --chunk1=1 --chunk2=20000 --cv_eval_mode=dynamic --num_cores=1 --cores_per_alpha=all --tag=libd_chr1-chr1_AA-1968982-1988981-dynamic-1corestotal-allcorepera-20240416-162207\n"
     ]
    },
    {
     "name": "stderr",
     "output_type": "stream",
     "text": [
      "Sleeping for 61 seconds\n",
      "\n"
     ]
    },
    {
     "name": "stdout",
     "output_type": "stream",
     "text": [
      "\n",
      "[1] \"Checking for files in:  ./output_chr1_a2_caud/\"\n",
      "[1] \"Using pattern:  libd_chr1-chr1_AA-1988982-2008981-dynamic-1corestotal-allcorepera\"\n",
      "[1] \"Found files with specific pattern: \"\n",
      "character(0)\n",
      "\n",
      "#!/bin/bash\n",
      "#SBATCH --nodes=1\n",
      "#SBATCH --ntasks-per-node=1\n",
      "#SBATCH --cpus-per-task=1\n",
      "#SBATCH --mem-per-cpu=2G\n",
      "#SBATCH --output=slurm_output_libd_chr1-chr1_AA-1988982-2008981-dynamic-1corestotal-allcorepera-20240416-162308.out\n",
      "#SBATCH --job-name=libd_chr1-chr1_AA-1988982-2008981-dynamic-1corestotal-allcorepera-20240416-162308\n",
      "#SBATCH --time=48:00:00\n",
      "module load conda\n",
      "conda activate mwas\n",
      "echo 'Executing Rscript with arguments: Rscript scripts/CLI.R --outdir=./output_chr1_a2_caud/ --snp_data_path=/dcs04/lieber/statsgen/shizhong/michael/mwas/gwas//libd_chr1.pgen --methylation_data_path=/dcs04/lieber/statsgen/shizhong/michael/mwas/pheno/caud/out/chr1_AA.rda --cov=/dcs04/lieber/statsgen/mnagle/mwas/full_covariates/AA_caud.csv --verbose=FALSE --lambda_choice=1se --alphas=0.5 --allow_inefficient_parallelization=FALSE --n_fold=5 --window_sizes=10000 --save_evaluation_results_each_fold=FALSE --save_glmnet_object=FALSE --omit_folds_with_na_r=TRUE --methInput_rds_path=/dcs04/lieber/statsgen/mnagle/mwas/pheno/caud/out/chr1_AA_1988982-2008981.rds --chunk1=1 --chunk2=20000 --cv_eval_mode=dynamic --num_cores=1 --cores_per_alpha=all --tag=libd_chr1-chr1_AA-1988982-2008981-dynamic-1corestotal-allcorepera-20240416-162308'\n",
      "Rscript scripts/CLI.R --outdir=./output_chr1_a2_caud/ --snp_data_path=/dcs04/lieber/statsgen/shizhong/michael/mwas/gwas//libd_chr1.pgen --methylation_data_path=/dcs04/lieber/statsgen/shizhong/michael/mwas/pheno/caud/out/chr1_AA.rda --cov=/dcs04/lieber/statsgen/mnagle/mwas/full_covariates/AA_caud.csv --verbose=FALSE --lambda_choice=1se --alphas=0.5 --allow_inefficient_parallelization=FALSE --n_fold=5 --window_sizes=10000 --save_evaluation_results_each_fold=FALSE --save_glmnet_object=FALSE --omit_folds_with_na_r=TRUE --methInput_rds_path=/dcs04/lieber/statsgen/mnagle/mwas/pheno/caud/out/chr1_AA_1988982-2008981.rds --chunk1=1 --chunk2=20000 --cv_eval_mode=dynamic --num_cores=1 --cores_per_alpha=all --tag=libd_chr1-chr1_AA-1988982-2008981-dynamic-1corestotal-allcorepera-20240416-162308\n"
     ]
    },
    {
     "name": "stderr",
     "output_type": "stream",
     "text": [
      "Sleeping for 61 seconds\n",
      "\n"
     ]
    },
    {
     "name": "stdout",
     "output_type": "stream",
     "text": [
      "\n",
      "[1] \"Checking for files in:  ./output_chr1_a2_caud/\"\n",
      "[1] \"Using pattern:  libd_chr1-chr1_AA-2008982-2028981-dynamic-1corestotal-allcorepera\"\n",
      "[1] \"Found files with specific pattern: \"\n",
      "character(0)\n",
      "\n",
      "#!/bin/bash\n",
      "#SBATCH --nodes=1\n",
      "#SBATCH --ntasks-per-node=1\n",
      "#SBATCH --cpus-per-task=1\n",
      "#SBATCH --mem-per-cpu=2G\n",
      "#SBATCH --output=slurm_output_libd_chr1-chr1_AA-2008982-2028981-dynamic-1corestotal-allcorepera-20240416-162409.out\n",
      "#SBATCH --job-name=libd_chr1-chr1_AA-2008982-2028981-dynamic-1corestotal-allcorepera-20240416-162409\n",
      "#SBATCH --time=48:00:00\n",
      "module load conda\n",
      "conda activate mwas\n",
      "echo 'Executing Rscript with arguments: Rscript scripts/CLI.R --outdir=./output_chr1_a2_caud/ --snp_data_path=/dcs04/lieber/statsgen/shizhong/michael/mwas/gwas//libd_chr1.pgen --methylation_data_path=/dcs04/lieber/statsgen/shizhong/michael/mwas/pheno/caud/out/chr1_AA.rda --cov=/dcs04/lieber/statsgen/mnagle/mwas/full_covariates/AA_caud.csv --verbose=FALSE --lambda_choice=1se --alphas=0.5 --allow_inefficient_parallelization=FALSE --n_fold=5 --window_sizes=10000 --save_evaluation_results_each_fold=FALSE --save_glmnet_object=FALSE --omit_folds_with_na_r=TRUE --methInput_rds_path=/dcs04/lieber/statsgen/mnagle/mwas/pheno/caud/out/chr1_AA_2008982-2028981.rds --chunk1=1 --chunk2=20000 --cv_eval_mode=dynamic --num_cores=1 --cores_per_alpha=all --tag=libd_chr1-chr1_AA-2008982-2028981-dynamic-1corestotal-allcorepera-20240416-162409'\n",
      "Rscript scripts/CLI.R --outdir=./output_chr1_a2_caud/ --snp_data_path=/dcs04/lieber/statsgen/shizhong/michael/mwas/gwas//libd_chr1.pgen --methylation_data_path=/dcs04/lieber/statsgen/shizhong/michael/mwas/pheno/caud/out/chr1_AA.rda --cov=/dcs04/lieber/statsgen/mnagle/mwas/full_covariates/AA_caud.csv --verbose=FALSE --lambda_choice=1se --alphas=0.5 --allow_inefficient_parallelization=FALSE --n_fold=5 --window_sizes=10000 --save_evaluation_results_each_fold=FALSE --save_glmnet_object=FALSE --omit_folds_with_na_r=TRUE --methInput_rds_path=/dcs04/lieber/statsgen/mnagle/mwas/pheno/caud/out/chr1_AA_2008982-2028981.rds --chunk1=1 --chunk2=20000 --cv_eval_mode=dynamic --num_cores=1 --cores_per_alpha=all --tag=libd_chr1-chr1_AA-2008982-2028981-dynamic-1corestotal-allcorepera-20240416-162409\n"
     ]
    },
    {
     "name": "stderr",
     "output_type": "stream",
     "text": [
      "Sleeping for 61 seconds\n",
      "\n"
     ]
    },
    {
     "name": "stdout",
     "output_type": "stream",
     "text": [
      "\n",
      "[1] \"Checking for files in:  ./output_chr1_a2_caud/\"\n",
      "[1] \"Using pattern:  libd_chr1-chr1_AA-2028982-2048981-dynamic-1corestotal-allcorepera\"\n",
      "[1] \"Found files with specific pattern: \"\n",
      "character(0)\n",
      "\n",
      "#!/bin/bash\n",
      "#SBATCH --nodes=1\n",
      "#SBATCH --ntasks-per-node=1\n",
      "#SBATCH --cpus-per-task=1\n",
      "#SBATCH --mem-per-cpu=2G\n",
      "#SBATCH --output=slurm_output_libd_chr1-chr1_AA-2028982-2048981-dynamic-1corestotal-allcorepera-20240416-162510.out\n",
      "#SBATCH --job-name=libd_chr1-chr1_AA-2028982-2048981-dynamic-1corestotal-allcorepera-20240416-162510\n",
      "#SBATCH --time=48:00:00\n",
      "module load conda\n",
      "conda activate mwas\n",
      "echo 'Executing Rscript with arguments: Rscript scripts/CLI.R --outdir=./output_chr1_a2_caud/ --snp_data_path=/dcs04/lieber/statsgen/shizhong/michael/mwas/gwas//libd_chr1.pgen --methylation_data_path=/dcs04/lieber/statsgen/shizhong/michael/mwas/pheno/caud/out/chr1_AA.rda --cov=/dcs04/lieber/statsgen/mnagle/mwas/full_covariates/AA_caud.csv --verbose=FALSE --lambda_choice=1se --alphas=0.5 --allow_inefficient_parallelization=FALSE --n_fold=5 --window_sizes=10000 --save_evaluation_results_each_fold=FALSE --save_glmnet_object=FALSE --omit_folds_with_na_r=TRUE --methInput_rds_path=/dcs04/lieber/statsgen/mnagle/mwas/pheno/caud/out/chr1_AA_2028982-2048981.rds --chunk1=1 --chunk2=20000 --cv_eval_mode=dynamic --num_cores=1 --cores_per_alpha=all --tag=libd_chr1-chr1_AA-2028982-2048981-dynamic-1corestotal-allcorepera-20240416-162510'\n",
      "Rscript scripts/CLI.R --outdir=./output_chr1_a2_caud/ --snp_data_path=/dcs04/lieber/statsgen/shizhong/michael/mwas/gwas//libd_chr1.pgen --methylation_data_path=/dcs04/lieber/statsgen/shizhong/michael/mwas/pheno/caud/out/chr1_AA.rda --cov=/dcs04/lieber/statsgen/mnagle/mwas/full_covariates/AA_caud.csv --verbose=FALSE --lambda_choice=1se --alphas=0.5 --allow_inefficient_parallelization=FALSE --n_fold=5 --window_sizes=10000 --save_evaluation_results_each_fold=FALSE --save_glmnet_object=FALSE --omit_folds_with_na_r=TRUE --methInput_rds_path=/dcs04/lieber/statsgen/mnagle/mwas/pheno/caud/out/chr1_AA_2028982-2048981.rds --chunk1=1 --chunk2=20000 --cv_eval_mode=dynamic --num_cores=1 --cores_per_alpha=all --tag=libd_chr1-chr1_AA-2028982-2048981-dynamic-1corestotal-allcorepera-20240416-162510\n"
     ]
    },
    {
     "name": "stderr",
     "output_type": "stream",
     "text": [
      "Sleeping for 61 seconds\n",
      "\n"
     ]
    },
    {
     "name": "stdout",
     "output_type": "stream",
     "text": [
      "\n",
      "[1] \"Checking for files in:  ./output_chr1_a2_caud/\"\n",
      "[1] \"Using pattern:  libd_chr1-chr1_AA-2048982-2068981-dynamic-1corestotal-allcorepera\"\n",
      "[1] \"Found files with specific pattern: \"\n",
      "character(0)\n",
      "\n",
      "#!/bin/bash\n",
      "#SBATCH --nodes=1\n",
      "#SBATCH --ntasks-per-node=1\n",
      "#SBATCH --cpus-per-task=1\n",
      "#SBATCH --mem-per-cpu=2G\n",
      "#SBATCH --output=slurm_output_libd_chr1-chr1_AA-2048982-2068981-dynamic-1corestotal-allcorepera-20240416-162611.out\n",
      "#SBATCH --job-name=libd_chr1-chr1_AA-2048982-2068981-dynamic-1corestotal-allcorepera-20240416-162611\n",
      "#SBATCH --time=48:00:00\n",
      "module load conda\n",
      "conda activate mwas\n",
      "echo 'Executing Rscript with arguments: Rscript scripts/CLI.R --outdir=./output_chr1_a2_caud/ --snp_data_path=/dcs04/lieber/statsgen/shizhong/michael/mwas/gwas//libd_chr1.pgen --methylation_data_path=/dcs04/lieber/statsgen/shizhong/michael/mwas/pheno/caud/out/chr1_AA.rda --cov=/dcs04/lieber/statsgen/mnagle/mwas/full_covariates/AA_caud.csv --verbose=FALSE --lambda_choice=1se --alphas=0.5 --allow_inefficient_parallelization=FALSE --n_fold=5 --window_sizes=10000 --save_evaluation_results_each_fold=FALSE --save_glmnet_object=FALSE --omit_folds_with_na_r=TRUE --methInput_rds_path=/dcs04/lieber/statsgen/mnagle/mwas/pheno/caud/out/chr1_AA_2048982-2068981.rds --chunk1=1 --chunk2=20000 --cv_eval_mode=dynamic --num_cores=1 --cores_per_alpha=all --tag=libd_chr1-chr1_AA-2048982-2068981-dynamic-1corestotal-allcorepera-20240416-162611'\n",
      "Rscript scripts/CLI.R --outdir=./output_chr1_a2_caud/ --snp_data_path=/dcs04/lieber/statsgen/shizhong/michael/mwas/gwas//libd_chr1.pgen --methylation_data_path=/dcs04/lieber/statsgen/shizhong/michael/mwas/pheno/caud/out/chr1_AA.rda --cov=/dcs04/lieber/statsgen/mnagle/mwas/full_covariates/AA_caud.csv --verbose=FALSE --lambda_choice=1se --alphas=0.5 --allow_inefficient_parallelization=FALSE --n_fold=5 --window_sizes=10000 --save_evaluation_results_each_fold=FALSE --save_glmnet_object=FALSE --omit_folds_with_na_r=TRUE --methInput_rds_path=/dcs04/lieber/statsgen/mnagle/mwas/pheno/caud/out/chr1_AA_2048982-2068981.rds --chunk1=1 --chunk2=20000 --cv_eval_mode=dynamic --num_cores=1 --cores_per_alpha=all --tag=libd_chr1-chr1_AA-2048982-2068981-dynamic-1corestotal-allcorepera-20240416-162611\n"
     ]
    },
    {
     "name": "stderr",
     "output_type": "stream",
     "text": [
      "Sleeping for 61 seconds\n",
      "\n"
     ]
    },
    {
     "name": "stdout",
     "output_type": "stream",
     "text": [
      "\n",
      "[1] \"Checking for files in:  ./output_chr1_a2_caud/\"\n",
      "[1] \"Using pattern:  libd_chr1-chr1_AA-2068982-2088981-dynamic-1corestotal-allcorepera\"\n",
      "[1] \"Found files with specific pattern: \"\n",
      "character(0)\n",
      "\n",
      "#!/bin/bash\n",
      "#SBATCH --nodes=1\n",
      "#SBATCH --ntasks-per-node=1\n",
      "#SBATCH --cpus-per-task=1\n",
      "#SBATCH --mem-per-cpu=2G\n",
      "#SBATCH --output=slurm_output_libd_chr1-chr1_AA-2068982-2088981-dynamic-1corestotal-allcorepera-20240416-162713.out\n",
      "#SBATCH --job-name=libd_chr1-chr1_AA-2068982-2088981-dynamic-1corestotal-allcorepera-20240416-162713\n",
      "#SBATCH --time=48:00:00\n",
      "module load conda\n",
      "conda activate mwas\n",
      "echo 'Executing Rscript with arguments: Rscript scripts/CLI.R --outdir=./output_chr1_a2_caud/ --snp_data_path=/dcs04/lieber/statsgen/shizhong/michael/mwas/gwas//libd_chr1.pgen --methylation_data_path=/dcs04/lieber/statsgen/shizhong/michael/mwas/pheno/caud/out/chr1_AA.rda --cov=/dcs04/lieber/statsgen/mnagle/mwas/full_covariates/AA_caud.csv --verbose=FALSE --lambda_choice=1se --alphas=0.5 --allow_inefficient_parallelization=FALSE --n_fold=5 --window_sizes=10000 --save_evaluation_results_each_fold=FALSE --save_glmnet_object=FALSE --omit_folds_with_na_r=TRUE --methInput_rds_path=/dcs04/lieber/statsgen/mnagle/mwas/pheno/caud/out/chr1_AA_2068982-2088981.rds --chunk1=1 --chunk2=20000 --cv_eval_mode=dynamic --num_cores=1 --cores_per_alpha=all --tag=libd_chr1-chr1_AA-2068982-2088981-dynamic-1corestotal-allcorepera-20240416-162713'\n",
      "Rscript scripts/CLI.R --outdir=./output_chr1_a2_caud/ --snp_data_path=/dcs04/lieber/statsgen/shizhong/michael/mwas/gwas//libd_chr1.pgen --methylation_data_path=/dcs04/lieber/statsgen/shizhong/michael/mwas/pheno/caud/out/chr1_AA.rda --cov=/dcs04/lieber/statsgen/mnagle/mwas/full_covariates/AA_caud.csv --verbose=FALSE --lambda_choice=1se --alphas=0.5 --allow_inefficient_parallelization=FALSE --n_fold=5 --window_sizes=10000 --save_evaluation_results_each_fold=FALSE --save_glmnet_object=FALSE --omit_folds_with_na_r=TRUE --methInput_rds_path=/dcs04/lieber/statsgen/mnagle/mwas/pheno/caud/out/chr1_AA_2068982-2088981.rds --chunk1=1 --chunk2=20000 --cv_eval_mode=dynamic --num_cores=1 --cores_per_alpha=all --tag=libd_chr1-chr1_AA-2068982-2088981-dynamic-1corestotal-allcorepera-20240416-162713\n"
     ]
    },
    {
     "name": "stderr",
     "output_type": "stream",
     "text": [
      "Sleeping for 61 seconds\n",
      "\n"
     ]
    },
    {
     "name": "stdout",
     "output_type": "stream",
     "text": [
      "\n",
      "[1] \"Checking for files in:  ./output_chr1_a2_caud/\"\n",
      "[1] \"Using pattern:  libd_chr1-chr1_AA-2088982-2108981-dynamic-1corestotal-allcorepera\"\n",
      "[1] \"Found files with specific pattern: \"\n",
      "character(0)\n",
      "\n",
      "#!/bin/bash\n",
      "#SBATCH --nodes=1\n",
      "#SBATCH --ntasks-per-node=1\n",
      "#SBATCH --cpus-per-task=1\n",
      "#SBATCH --mem-per-cpu=2G\n",
      "#SBATCH --output=slurm_output_libd_chr1-chr1_AA-2088982-2108981-dynamic-1corestotal-allcorepera-20240416-162814.out\n",
      "#SBATCH --job-name=libd_chr1-chr1_AA-2088982-2108981-dynamic-1corestotal-allcorepera-20240416-162814\n",
      "#SBATCH --time=48:00:00\n",
      "module load conda\n",
      "conda activate mwas\n",
      "echo 'Executing Rscript with arguments: Rscript scripts/CLI.R --outdir=./output_chr1_a2_caud/ --snp_data_path=/dcs04/lieber/statsgen/shizhong/michael/mwas/gwas//libd_chr1.pgen --methylation_data_path=/dcs04/lieber/statsgen/shizhong/michael/mwas/pheno/caud/out/chr1_AA.rda --cov=/dcs04/lieber/statsgen/mnagle/mwas/full_covariates/AA_caud.csv --verbose=FALSE --lambda_choice=1se --alphas=0.5 --allow_inefficient_parallelization=FALSE --n_fold=5 --window_sizes=10000 --save_evaluation_results_each_fold=FALSE --save_glmnet_object=FALSE --omit_folds_with_na_r=TRUE --methInput_rds_path=/dcs04/lieber/statsgen/mnagle/mwas/pheno/caud/out/chr1_AA_2088982-2108981.rds --chunk1=1 --chunk2=20000 --cv_eval_mode=dynamic --num_cores=1 --cores_per_alpha=all --tag=libd_chr1-chr1_AA-2088982-2108981-dynamic-1corestotal-allcorepera-20240416-162814'\n",
      "Rscript scripts/CLI.R --outdir=./output_chr1_a2_caud/ --snp_data_path=/dcs04/lieber/statsgen/shizhong/michael/mwas/gwas//libd_chr1.pgen --methylation_data_path=/dcs04/lieber/statsgen/shizhong/michael/mwas/pheno/caud/out/chr1_AA.rda --cov=/dcs04/lieber/statsgen/mnagle/mwas/full_covariates/AA_caud.csv --verbose=FALSE --lambda_choice=1se --alphas=0.5 --allow_inefficient_parallelization=FALSE --n_fold=5 --window_sizes=10000 --save_evaluation_results_each_fold=FALSE --save_glmnet_object=FALSE --omit_folds_with_na_r=TRUE --methInput_rds_path=/dcs04/lieber/statsgen/mnagle/mwas/pheno/caud/out/chr1_AA_2088982-2108981.rds --chunk1=1 --chunk2=20000 --cv_eval_mode=dynamic --num_cores=1 --cores_per_alpha=all --tag=libd_chr1-chr1_AA-2088982-2108981-dynamic-1corestotal-allcorepera-20240416-162814\n"
     ]
    },
    {
     "name": "stderr",
     "output_type": "stream",
     "text": [
      "Sleeping for 61 seconds\n",
      "\n"
     ]
    },
    {
     "name": "stdout",
     "output_type": "stream",
     "text": [
      "\n",
      "[1] \"Checking for files in:  ./output_chr1_a2_caud/\"\n",
      "[1] \"Using pattern:  libd_chr1-chr1_AA-2108982-2128981-dynamic-1corestotal-allcorepera\"\n",
      "[1] \"Found files with specific pattern: \"\n",
      "character(0)\n",
      "\n",
      "#!/bin/bash\n",
      "#SBATCH --nodes=1\n",
      "#SBATCH --ntasks-per-node=1\n",
      "#SBATCH --cpus-per-task=1\n",
      "#SBATCH --mem-per-cpu=2G\n",
      "#SBATCH --output=slurm_output_libd_chr1-chr1_AA-2108982-2128981-dynamic-1corestotal-allcorepera-20240416-162915.out\n",
      "#SBATCH --job-name=libd_chr1-chr1_AA-2108982-2128981-dynamic-1corestotal-allcorepera-20240416-162915\n",
      "#SBATCH --time=48:00:00\n",
      "module load conda\n",
      "conda activate mwas\n",
      "echo 'Executing Rscript with arguments: Rscript scripts/CLI.R --outdir=./output_chr1_a2_caud/ --snp_data_path=/dcs04/lieber/statsgen/shizhong/michael/mwas/gwas//libd_chr1.pgen --methylation_data_path=/dcs04/lieber/statsgen/shizhong/michael/mwas/pheno/caud/out/chr1_AA.rda --cov=/dcs04/lieber/statsgen/mnagle/mwas/full_covariates/AA_caud.csv --verbose=FALSE --lambda_choice=1se --alphas=0.5 --allow_inefficient_parallelization=FALSE --n_fold=5 --window_sizes=10000 --save_evaluation_results_each_fold=FALSE --save_glmnet_object=FALSE --omit_folds_with_na_r=TRUE --methInput_rds_path=/dcs04/lieber/statsgen/mnagle/mwas/pheno/caud/out/chr1_AA_2108982-2128981.rds --chunk1=1 --chunk2=20000 --cv_eval_mode=dynamic --num_cores=1 --cores_per_alpha=all --tag=libd_chr1-chr1_AA-2108982-2128981-dynamic-1corestotal-allcorepera-20240416-162915'\n",
      "Rscript scripts/CLI.R --outdir=./output_chr1_a2_caud/ --snp_data_path=/dcs04/lieber/statsgen/shizhong/michael/mwas/gwas//libd_chr1.pgen --methylation_data_path=/dcs04/lieber/statsgen/shizhong/michael/mwas/pheno/caud/out/chr1_AA.rda --cov=/dcs04/lieber/statsgen/mnagle/mwas/full_covariates/AA_caud.csv --verbose=FALSE --lambda_choice=1se --alphas=0.5 --allow_inefficient_parallelization=FALSE --n_fold=5 --window_sizes=10000 --save_evaluation_results_each_fold=FALSE --save_glmnet_object=FALSE --omit_folds_with_na_r=TRUE --methInput_rds_path=/dcs04/lieber/statsgen/mnagle/mwas/pheno/caud/out/chr1_AA_2108982-2128981.rds --chunk1=1 --chunk2=20000 --cv_eval_mode=dynamic --num_cores=1 --cores_per_alpha=all --tag=libd_chr1-chr1_AA-2108982-2128981-dynamic-1corestotal-allcorepera-20240416-162915\n"
     ]
    },
    {
     "name": "stderr",
     "output_type": "stream",
     "text": [
      "Sleeping for 61 seconds\n",
      "\n"
     ]
    },
    {
     "name": "stdout",
     "output_type": "stream",
     "text": [
      "\n",
      "[1] \"Checking for files in:  ./output_chr1_a2_caud/\"\n",
      "[1] \"Using pattern:  libd_chr1-chr1_AA-2128982-2148981-dynamic-1corestotal-allcorepera\"\n",
      "[1] \"Found files with specific pattern: \"\n",
      "character(0)\n",
      "\n",
      "#!/bin/bash\n",
      "#SBATCH --nodes=1\n",
      "#SBATCH --ntasks-per-node=1\n",
      "#SBATCH --cpus-per-task=1\n",
      "#SBATCH --mem-per-cpu=2G\n",
      "#SBATCH --output=slurm_output_libd_chr1-chr1_AA-2128982-2148981-dynamic-1corestotal-allcorepera-20240416-163016.out\n",
      "#SBATCH --job-name=libd_chr1-chr1_AA-2128982-2148981-dynamic-1corestotal-allcorepera-20240416-163016\n",
      "#SBATCH --time=48:00:00\n",
      "module load conda\n",
      "conda activate mwas\n",
      "echo 'Executing Rscript with arguments: Rscript scripts/CLI.R --outdir=./output_chr1_a2_caud/ --snp_data_path=/dcs04/lieber/statsgen/shizhong/michael/mwas/gwas//libd_chr1.pgen --methylation_data_path=/dcs04/lieber/statsgen/shizhong/michael/mwas/pheno/caud/out/chr1_AA.rda --cov=/dcs04/lieber/statsgen/mnagle/mwas/full_covariates/AA_caud.csv --verbose=FALSE --lambda_choice=1se --alphas=0.5 --allow_inefficient_parallelization=FALSE --n_fold=5 --window_sizes=10000 --save_evaluation_results_each_fold=FALSE --save_glmnet_object=FALSE --omit_folds_with_na_r=TRUE --methInput_rds_path=/dcs04/lieber/statsgen/mnagle/mwas/pheno/caud/out/chr1_AA_2128982-2148981.rds --chunk1=1 --chunk2=20000 --cv_eval_mode=dynamic --num_cores=1 --cores_per_alpha=all --tag=libd_chr1-chr1_AA-2128982-2148981-dynamic-1corestotal-allcorepera-20240416-163016'\n",
      "Rscript scripts/CLI.R --outdir=./output_chr1_a2_caud/ --snp_data_path=/dcs04/lieber/statsgen/shizhong/michael/mwas/gwas//libd_chr1.pgen --methylation_data_path=/dcs04/lieber/statsgen/shizhong/michael/mwas/pheno/caud/out/chr1_AA.rda --cov=/dcs04/lieber/statsgen/mnagle/mwas/full_covariates/AA_caud.csv --verbose=FALSE --lambda_choice=1se --alphas=0.5 --allow_inefficient_parallelization=FALSE --n_fold=5 --window_sizes=10000 --save_evaluation_results_each_fold=FALSE --save_glmnet_object=FALSE --omit_folds_with_na_r=TRUE --methInput_rds_path=/dcs04/lieber/statsgen/mnagle/mwas/pheno/caud/out/chr1_AA_2128982-2148981.rds --chunk1=1 --chunk2=20000 --cv_eval_mode=dynamic --num_cores=1 --cores_per_alpha=all --tag=libd_chr1-chr1_AA-2128982-2148981-dynamic-1corestotal-allcorepera-20240416-163016\n"
     ]
    },
    {
     "name": "stderr",
     "output_type": "stream",
     "text": [
      "Sleeping for 61 seconds\n",
      "\n"
     ]
    },
    {
     "name": "stdout",
     "output_type": "stream",
     "text": [
      "\n",
      "[1] \"Checking for files in:  ./output_chr1_a2_caud/\"\n",
      "[1] \"Using pattern:  libd_chr1-chr1_AA-2148982-2168981-dynamic-1corestotal-allcorepera\"\n",
      "[1] \"Found files with specific pattern: \"\n",
      "character(0)\n",
      "\n",
      "#!/bin/bash\n",
      "#SBATCH --nodes=1\n",
      "#SBATCH --ntasks-per-node=1\n",
      "#SBATCH --cpus-per-task=1\n",
      "#SBATCH --mem-per-cpu=2G\n",
      "#SBATCH --output=slurm_output_libd_chr1-chr1_AA-2148982-2168981-dynamic-1corestotal-allcorepera-20240416-163117.out\n",
      "#SBATCH --job-name=libd_chr1-chr1_AA-2148982-2168981-dynamic-1corestotal-allcorepera-20240416-163117\n",
      "#SBATCH --time=48:00:00\n",
      "module load conda\n",
      "conda activate mwas\n",
      "echo 'Executing Rscript with arguments: Rscript scripts/CLI.R --outdir=./output_chr1_a2_caud/ --snp_data_path=/dcs04/lieber/statsgen/shizhong/michael/mwas/gwas//libd_chr1.pgen --methylation_data_path=/dcs04/lieber/statsgen/shizhong/michael/mwas/pheno/caud/out/chr1_AA.rda --cov=/dcs04/lieber/statsgen/mnagle/mwas/full_covariates/AA_caud.csv --verbose=FALSE --lambda_choice=1se --alphas=0.5 --allow_inefficient_parallelization=FALSE --n_fold=5 --window_sizes=10000 --save_evaluation_results_each_fold=FALSE --save_glmnet_object=FALSE --omit_folds_with_na_r=TRUE --methInput_rds_path=/dcs04/lieber/statsgen/mnagle/mwas/pheno/caud/out/chr1_AA_2148982-2168981.rds --chunk1=1 --chunk2=20000 --cv_eval_mode=dynamic --num_cores=1 --cores_per_alpha=all --tag=libd_chr1-chr1_AA-2148982-2168981-dynamic-1corestotal-allcorepera-20240416-163117'\n",
      "Rscript scripts/CLI.R --outdir=./output_chr1_a2_caud/ --snp_data_path=/dcs04/lieber/statsgen/shizhong/michael/mwas/gwas//libd_chr1.pgen --methylation_data_path=/dcs04/lieber/statsgen/shizhong/michael/mwas/pheno/caud/out/chr1_AA.rda --cov=/dcs04/lieber/statsgen/mnagle/mwas/full_covariates/AA_caud.csv --verbose=FALSE --lambda_choice=1se --alphas=0.5 --allow_inefficient_parallelization=FALSE --n_fold=5 --window_sizes=10000 --save_evaluation_results_each_fold=FALSE --save_glmnet_object=FALSE --omit_folds_with_na_r=TRUE --methInput_rds_path=/dcs04/lieber/statsgen/mnagle/mwas/pheno/caud/out/chr1_AA_2148982-2168981.rds --chunk1=1 --chunk2=20000 --cv_eval_mode=dynamic --num_cores=1 --cores_per_alpha=all --tag=libd_chr1-chr1_AA-2148982-2168981-dynamic-1corestotal-allcorepera-20240416-163117\n"
     ]
    },
    {
     "name": "stderr",
     "output_type": "stream",
     "text": [
      "Sleeping for 61 seconds\n",
      "\n"
     ]
    },
    {
     "name": "stdout",
     "output_type": "stream",
     "text": [
      "\n",
      "[1] \"Checking for files in:  ./output_chr1_a2_caud/\"\n",
      "[1] \"Using pattern:  libd_chr1-chr1_AA-2168982-2188981-dynamic-1corestotal-allcorepera\"\n",
      "[1] \"Found files with specific pattern: \"\n",
      "character(0)\n",
      "\n",
      "#!/bin/bash\n",
      "#SBATCH --nodes=1\n",
      "#SBATCH --ntasks-per-node=1\n",
      "#SBATCH --cpus-per-task=1\n",
      "#SBATCH --mem-per-cpu=2G\n",
      "#SBATCH --output=slurm_output_libd_chr1-chr1_AA-2168982-2188981-dynamic-1corestotal-allcorepera-20240416-163218.out\n",
      "#SBATCH --job-name=libd_chr1-chr1_AA-2168982-2188981-dynamic-1corestotal-allcorepera-20240416-163218\n",
      "#SBATCH --time=48:00:00\n",
      "module load conda\n",
      "conda activate mwas\n",
      "echo 'Executing Rscript with arguments: Rscript scripts/CLI.R --outdir=./output_chr1_a2_caud/ --snp_data_path=/dcs04/lieber/statsgen/shizhong/michael/mwas/gwas//libd_chr1.pgen --methylation_data_path=/dcs04/lieber/statsgen/shizhong/michael/mwas/pheno/caud/out/chr1_AA.rda --cov=/dcs04/lieber/statsgen/mnagle/mwas/full_covariates/AA_caud.csv --verbose=FALSE --lambda_choice=1se --alphas=0.5 --allow_inefficient_parallelization=FALSE --n_fold=5 --window_sizes=10000 --save_evaluation_results_each_fold=FALSE --save_glmnet_object=FALSE --omit_folds_with_na_r=TRUE --methInput_rds_path=/dcs04/lieber/statsgen/mnagle/mwas/pheno/caud/out/chr1_AA_2168982-2188981.rds --chunk1=1 --chunk2=20000 --cv_eval_mode=dynamic --num_cores=1 --cores_per_alpha=all --tag=libd_chr1-chr1_AA-2168982-2188981-dynamic-1corestotal-allcorepera-20240416-163218'\n",
      "Rscript scripts/CLI.R --outdir=./output_chr1_a2_caud/ --snp_data_path=/dcs04/lieber/statsgen/shizhong/michael/mwas/gwas//libd_chr1.pgen --methylation_data_path=/dcs04/lieber/statsgen/shizhong/michael/mwas/pheno/caud/out/chr1_AA.rda --cov=/dcs04/lieber/statsgen/mnagle/mwas/full_covariates/AA_caud.csv --verbose=FALSE --lambda_choice=1se --alphas=0.5 --allow_inefficient_parallelization=FALSE --n_fold=5 --window_sizes=10000 --save_evaluation_results_each_fold=FALSE --save_glmnet_object=FALSE --omit_folds_with_na_r=TRUE --methInput_rds_path=/dcs04/lieber/statsgen/mnagle/mwas/pheno/caud/out/chr1_AA_2168982-2188981.rds --chunk1=1 --chunk2=20000 --cv_eval_mode=dynamic --num_cores=1 --cores_per_alpha=all --tag=libd_chr1-chr1_AA-2168982-2188981-dynamic-1corestotal-allcorepera-20240416-163218\n"
     ]
    },
    {
     "name": "stderr",
     "output_type": "stream",
     "text": [
      "Sleeping for 61 seconds\n",
      "\n"
     ]
    },
    {
     "name": "stdout",
     "output_type": "stream",
     "text": [
      "\n",
      "[1] \"Checking for files in:  ./output_chr1_a2_caud/\"\n",
      "[1] \"Using pattern:  libd_chr1-chr1_AA-2188982-2202702-dynamic-1corestotal-allcorepera\"\n",
      "[1] \"Found files with specific pattern: \"\n",
      "character(0)\n",
      "\n",
      "#!/bin/bash\n",
      "#SBATCH --nodes=1\n",
      "#SBATCH --ntasks-per-node=1\n",
      "#SBATCH --cpus-per-task=1\n",
      "#SBATCH --mem-per-cpu=2G\n",
      "#SBATCH --output=slurm_output_libd_chr1-chr1_AA-2188982-2202702-dynamic-1corestotal-allcorepera-20240416-163319.out\n",
      "#SBATCH --job-name=libd_chr1-chr1_AA-2188982-2202702-dynamic-1corestotal-allcorepera-20240416-163319\n",
      "#SBATCH --time=48:00:00\n",
      "module load conda\n",
      "conda activate mwas\n",
      "echo 'Executing Rscript with arguments: Rscript scripts/CLI.R --outdir=./output_chr1_a2_caud/ --snp_data_path=/dcs04/lieber/statsgen/shizhong/michael/mwas/gwas//libd_chr1.pgen --methylation_data_path=/dcs04/lieber/statsgen/shizhong/michael/mwas/pheno/caud/out/chr1_AA.rda --cov=/dcs04/lieber/statsgen/mnagle/mwas/full_covariates/AA_caud.csv --verbose=FALSE --lambda_choice=1se --alphas=0.5 --allow_inefficient_parallelization=FALSE --n_fold=5 --window_sizes=10000 --save_evaluation_results_each_fold=FALSE --save_glmnet_object=FALSE --omit_folds_with_na_r=TRUE --methInput_rds_path=/dcs04/lieber/statsgen/mnagle/mwas/pheno/caud/out/chr1_AA_2188982-2202702.rds --chunk1=1 --chunk2=13721 --cv_eval_mode=dynamic --num_cores=1 --cores_per_alpha=all --tag=libd_chr1-chr1_AA-2188982-2202702-dynamic-1corestotal-allcorepera-20240416-163319'\n",
      "Rscript scripts/CLI.R --outdir=./output_chr1_a2_caud/ --snp_data_path=/dcs04/lieber/statsgen/shizhong/michael/mwas/gwas//libd_chr1.pgen --methylation_data_path=/dcs04/lieber/statsgen/shizhong/michael/mwas/pheno/caud/out/chr1_AA.rda --cov=/dcs04/lieber/statsgen/mnagle/mwas/full_covariates/AA_caud.csv --verbose=FALSE --lambda_choice=1se --alphas=0.5 --allow_inefficient_parallelization=FALSE --n_fold=5 --window_sizes=10000 --save_evaluation_results_each_fold=FALSE --save_glmnet_object=FALSE --omit_folds_with_na_r=TRUE --methInput_rds_path=/dcs04/lieber/statsgen/mnagle/mwas/pheno/caud/out/chr1_AA_2188982-2202702.rds --chunk1=1 --chunk2=13721 --cv_eval_mode=dynamic --num_cores=1 --cores_per_alpha=all --tag=libd_chr1-chr1_AA-2188982-2202702-dynamic-1corestotal-allcorepera-20240416-163319\n"
     ]
    },
    {
     "name": "stderr",
     "output_type": "stream",
     "text": [
      "Sleeping for 61 seconds\n",
      "\n"
     ]
    },
    {
     "name": "stdout",
     "output_type": "stream",
     "text": [
      "\n",
      "[1] \"Checking for files in:  ./output_chr1_a2_caud/\"\n",
      "[1] \"Using pattern:  libd_chr1-chr1_all-8982-28981-dynamic-1corestotal-allcorepera\"\n",
      "[1] \"Found files with specific pattern: \"\n",
      "character(0)\n",
      "\n",
      "#!/bin/bash\n",
      "#SBATCH --nodes=1\n",
      "#SBATCH --ntasks-per-node=1\n",
      "#SBATCH --cpus-per-task=1\n",
      "#SBATCH --mem-per-cpu=2G\n",
      "#SBATCH --output=slurm_output_libd_chr1-chr1_all-8982-28981-dynamic-1corestotal-allcorepera-20240416-163420.out\n",
      "#SBATCH --job-name=libd_chr1-chr1_all-8982-28981-dynamic-1corestotal-allcorepera-20240416-163420\n",
      "#SBATCH --time=48:00:00\n",
      "module load conda\n",
      "conda activate mwas\n",
      "echo 'Executing Rscript with arguments: Rscript scripts/CLI.R --outdir=./output_chr1_a2_caud/ --snp_data_path=/dcs04/lieber/statsgen/shizhong/michael/mwas/gwas//libd_chr1.pgen --methylation_data_path=/dcs04/lieber/statsgen/shizhong/michael/mwas/pheno/caud/out/chr1_all.rda --cov=/dcs04/lieber/statsgen/mnagle/mwas/full_covariates/all_caud.csv --verbose=FALSE --lambda_choice=1se --alphas=0.5 --allow_inefficient_parallelization=FALSE --n_fold=5 --window_sizes=10000 --save_evaluation_results_each_fold=FALSE --save_glmnet_object=FALSE --omit_folds_with_na_r=TRUE --methInput_rds_path=/dcs04/lieber/statsgen/mnagle/mwas/pheno/caud/out/chr1_all_8982-28981.rds --chunk1=1 --chunk2=20000 --cv_eval_mode=dynamic --num_cores=1 --cores_per_alpha=all --tag=libd_chr1-chr1_all-8982-28981-dynamic-1corestotal-allcorepera-20240416-163420'\n",
      "Rscript scripts/CLI.R --outdir=./output_chr1_a2_caud/ --snp_data_path=/dcs04/lieber/statsgen/shizhong/michael/mwas/gwas//libd_chr1.pgen --methylation_data_path=/dcs04/lieber/statsgen/shizhong/michael/mwas/pheno/caud/out/chr1_all.rda --cov=/dcs04/lieber/statsgen/mnagle/mwas/full_covariates/all_caud.csv --verbose=FALSE --lambda_choice=1se --alphas=0.5 --allow_inefficient_parallelization=FALSE --n_fold=5 --window_sizes=10000 --save_evaluation_results_each_fold=FALSE --save_glmnet_object=FALSE --omit_folds_with_na_r=TRUE --methInput_rds_path=/dcs04/lieber/statsgen/mnagle/mwas/pheno/caud/out/chr1_all_8982-28981.rds --chunk1=1 --chunk2=20000 --cv_eval_mode=dynamic --num_cores=1 --cores_per_alpha=all --tag=libd_chr1-chr1_all-8982-28981-dynamic-1corestotal-allcorepera-20240416-163420\n"
     ]
    },
    {
     "name": "stderr",
     "output_type": "stream",
     "text": [
      "Sleeping for 61 seconds\n",
      "\n"
     ]
    },
    {
     "name": "stdout",
     "output_type": "stream",
     "text": [
      "\n",
      "[1] \"Checking for files in:  ./output_chr1_a2_caud/\"\n",
      "[1] \"Using pattern:  libd_chr1-chr1_all-28982-48981-dynamic-1corestotal-allcorepera\"\n",
      "[1] \"Found files with specific pattern: \"\n",
      "character(0)\n",
      "\n",
      "#!/bin/bash\n",
      "#SBATCH --nodes=1\n",
      "#SBATCH --ntasks-per-node=1\n",
      "#SBATCH --cpus-per-task=1\n",
      "#SBATCH --mem-per-cpu=2G\n",
      "#SBATCH --output=slurm_output_libd_chr1-chr1_all-28982-48981-dynamic-1corestotal-allcorepera-20240416-163521.out\n",
      "#SBATCH --job-name=libd_chr1-chr1_all-28982-48981-dynamic-1corestotal-allcorepera-20240416-163521\n",
      "#SBATCH --time=48:00:00\n",
      "module load conda\n",
      "conda activate mwas\n",
      "echo 'Executing Rscript with arguments: Rscript scripts/CLI.R --outdir=./output_chr1_a2_caud/ --snp_data_path=/dcs04/lieber/statsgen/shizhong/michael/mwas/gwas//libd_chr1.pgen --methylation_data_path=/dcs04/lieber/statsgen/shizhong/michael/mwas/pheno/caud/out/chr1_all.rda --cov=/dcs04/lieber/statsgen/mnagle/mwas/full_covariates/all_caud.csv --verbose=FALSE --lambda_choice=1se --alphas=0.5 --allow_inefficient_parallelization=FALSE --n_fold=5 --window_sizes=10000 --save_evaluation_results_each_fold=FALSE --save_glmnet_object=FALSE --omit_folds_with_na_r=TRUE --methInput_rds_path=/dcs04/lieber/statsgen/mnagle/mwas/pheno/caud/out/chr1_all_28982-48981.rds --chunk1=1 --chunk2=20000 --cv_eval_mode=dynamic --num_cores=1 --cores_per_alpha=all --tag=libd_chr1-chr1_all-28982-48981-dynamic-1corestotal-allcorepera-20240416-163521'\n",
      "Rscript scripts/CLI.R --outdir=./output_chr1_a2_caud/ --snp_data_path=/dcs04/lieber/statsgen/shizhong/michael/mwas/gwas//libd_chr1.pgen --methylation_data_path=/dcs04/lieber/statsgen/shizhong/michael/mwas/pheno/caud/out/chr1_all.rda --cov=/dcs04/lieber/statsgen/mnagle/mwas/full_covariates/all_caud.csv --verbose=FALSE --lambda_choice=1se --alphas=0.5 --allow_inefficient_parallelization=FALSE --n_fold=5 --window_sizes=10000 --save_evaluation_results_each_fold=FALSE --save_glmnet_object=FALSE --omit_folds_with_na_r=TRUE --methInput_rds_path=/dcs04/lieber/statsgen/mnagle/mwas/pheno/caud/out/chr1_all_28982-48981.rds --chunk1=1 --chunk2=20000 --cv_eval_mode=dynamic --num_cores=1 --cores_per_alpha=all --tag=libd_chr1-chr1_all-28982-48981-dynamic-1corestotal-allcorepera-20240416-163521\n"
     ]
    },
    {
     "name": "stderr",
     "output_type": "stream",
     "text": [
      "Sleeping for 61 seconds\n",
      "\n"
     ]
    },
    {
     "name": "stdout",
     "output_type": "stream",
     "text": [
      "\n",
      "[1] \"Checking for files in:  ./output_chr1_a2_caud/\"\n",
      "[1] \"Using pattern:  libd_chr1-chr1_all-48982-68981-dynamic-1corestotal-allcorepera\"\n",
      "[1] \"Found files with specific pattern: \"\n",
      "character(0)\n",
      "\n",
      "#!/bin/bash\n",
      "#SBATCH --nodes=1\n",
      "#SBATCH --ntasks-per-node=1\n",
      "#SBATCH --cpus-per-task=1\n",
      "#SBATCH --mem-per-cpu=2G\n",
      "#SBATCH --output=slurm_output_libd_chr1-chr1_all-48982-68981-dynamic-1corestotal-allcorepera-20240416-163622.out\n",
      "#SBATCH --job-name=libd_chr1-chr1_all-48982-68981-dynamic-1corestotal-allcorepera-20240416-163622\n",
      "#SBATCH --time=48:00:00\n",
      "module load conda\n",
      "conda activate mwas\n",
      "echo 'Executing Rscript with arguments: Rscript scripts/CLI.R --outdir=./output_chr1_a2_caud/ --snp_data_path=/dcs04/lieber/statsgen/shizhong/michael/mwas/gwas//libd_chr1.pgen --methylation_data_path=/dcs04/lieber/statsgen/shizhong/michael/mwas/pheno/caud/out/chr1_all.rda --cov=/dcs04/lieber/statsgen/mnagle/mwas/full_covariates/all_caud.csv --verbose=FALSE --lambda_choice=1se --alphas=0.5 --allow_inefficient_parallelization=FALSE --n_fold=5 --window_sizes=10000 --save_evaluation_results_each_fold=FALSE --save_glmnet_object=FALSE --omit_folds_with_na_r=TRUE --methInput_rds_path=/dcs04/lieber/statsgen/mnagle/mwas/pheno/caud/out/chr1_all_48982-68981.rds --chunk1=1 --chunk2=20000 --cv_eval_mode=dynamic --num_cores=1 --cores_per_alpha=all --tag=libd_chr1-chr1_all-48982-68981-dynamic-1corestotal-allcorepera-20240416-163622'\n",
      "Rscript scripts/CLI.R --outdir=./output_chr1_a2_caud/ --snp_data_path=/dcs04/lieber/statsgen/shizhong/michael/mwas/gwas//libd_chr1.pgen --methylation_data_path=/dcs04/lieber/statsgen/shizhong/michael/mwas/pheno/caud/out/chr1_all.rda --cov=/dcs04/lieber/statsgen/mnagle/mwas/full_covariates/all_caud.csv --verbose=FALSE --lambda_choice=1se --alphas=0.5 --allow_inefficient_parallelization=FALSE --n_fold=5 --window_sizes=10000 --save_evaluation_results_each_fold=FALSE --save_glmnet_object=FALSE --omit_folds_with_na_r=TRUE --methInput_rds_path=/dcs04/lieber/statsgen/mnagle/mwas/pheno/caud/out/chr1_all_48982-68981.rds --chunk1=1 --chunk2=20000 --cv_eval_mode=dynamic --num_cores=1 --cores_per_alpha=all --tag=libd_chr1-chr1_all-48982-68981-dynamic-1corestotal-allcorepera-20240416-163622\n"
     ]
    },
    {
     "name": "stderr",
     "output_type": "stream",
     "text": [
      "Sleeping for 61 seconds\n",
      "\n"
     ]
    },
    {
     "name": "stdout",
     "output_type": "stream",
     "text": [
      "\n",
      "[1] \"Checking for files in:  ./output_chr1_a2_caud/\"\n",
      "[1] \"Using pattern:  libd_chr1-chr1_all-68982-88981-dynamic-1corestotal-allcorepera\"\n",
      "[1] \"Found files with specific pattern: \"\n",
      "character(0)\n",
      "\n",
      "#!/bin/bash\n",
      "#SBATCH --nodes=1\n",
      "#SBATCH --ntasks-per-node=1\n",
      "#SBATCH --cpus-per-task=1\n",
      "#SBATCH --mem-per-cpu=2G\n",
      "#SBATCH --output=slurm_output_libd_chr1-chr1_all-68982-88981-dynamic-1corestotal-allcorepera-20240416-163724.out\n",
      "#SBATCH --job-name=libd_chr1-chr1_all-68982-88981-dynamic-1corestotal-allcorepera-20240416-163724\n",
      "#SBATCH --time=48:00:00\n",
      "module load conda\n",
      "conda activate mwas\n",
      "echo 'Executing Rscript with arguments: Rscript scripts/CLI.R --outdir=./output_chr1_a2_caud/ --snp_data_path=/dcs04/lieber/statsgen/shizhong/michael/mwas/gwas//libd_chr1.pgen --methylation_data_path=/dcs04/lieber/statsgen/shizhong/michael/mwas/pheno/caud/out/chr1_all.rda --cov=/dcs04/lieber/statsgen/mnagle/mwas/full_covariates/all_caud.csv --verbose=FALSE --lambda_choice=1se --alphas=0.5 --allow_inefficient_parallelization=FALSE --n_fold=5 --window_sizes=10000 --save_evaluation_results_each_fold=FALSE --save_glmnet_object=FALSE --omit_folds_with_na_r=TRUE --methInput_rds_path=/dcs04/lieber/statsgen/mnagle/mwas/pheno/caud/out/chr1_all_68982-88981.rds --chunk1=1 --chunk2=20000 --cv_eval_mode=dynamic --num_cores=1 --cores_per_alpha=all --tag=libd_chr1-chr1_all-68982-88981-dynamic-1corestotal-allcorepera-20240416-163724'\n",
      "Rscript scripts/CLI.R --outdir=./output_chr1_a2_caud/ --snp_data_path=/dcs04/lieber/statsgen/shizhong/michael/mwas/gwas//libd_chr1.pgen --methylation_data_path=/dcs04/lieber/statsgen/shizhong/michael/mwas/pheno/caud/out/chr1_all.rda --cov=/dcs04/lieber/statsgen/mnagle/mwas/full_covariates/all_caud.csv --verbose=FALSE --lambda_choice=1se --alphas=0.5 --allow_inefficient_parallelization=FALSE --n_fold=5 --window_sizes=10000 --save_evaluation_results_each_fold=FALSE --save_glmnet_object=FALSE --omit_folds_with_na_r=TRUE --methInput_rds_path=/dcs04/lieber/statsgen/mnagle/mwas/pheno/caud/out/chr1_all_68982-88981.rds --chunk1=1 --chunk2=20000 --cv_eval_mode=dynamic --num_cores=1 --cores_per_alpha=all --tag=libd_chr1-chr1_all-68982-88981-dynamic-1corestotal-allcorepera-20240416-163724\n"
     ]
    },
    {
     "name": "stderr",
     "output_type": "stream",
     "text": [
      "Sleeping for 61 seconds\n",
      "\n"
     ]
    },
    {
     "name": "stdout",
     "output_type": "stream",
     "text": [
      "\n",
      "[1] \"Checking for files in:  ./output_chr1_a2_caud/\"\n",
      "[1] \"Using pattern:  libd_chr1-chr1_all-88982-108981-dynamic-1corestotal-allcorepera\"\n",
      "[1] \"Found files with specific pattern: \"\n",
      "character(0)\n",
      "\n",
      "#!/bin/bash\n",
      "#SBATCH --nodes=1\n",
      "#SBATCH --ntasks-per-node=1\n",
      "#SBATCH --cpus-per-task=1\n",
      "#SBATCH --mem-per-cpu=2G\n",
      "#SBATCH --output=slurm_output_libd_chr1-chr1_all-88982-108981-dynamic-1corestotal-allcorepera-20240416-163825.out\n",
      "#SBATCH --job-name=libd_chr1-chr1_all-88982-108981-dynamic-1corestotal-allcorepera-20240416-163825\n",
      "#SBATCH --time=48:00:00\n",
      "module load conda\n",
      "conda activate mwas\n",
      "echo 'Executing Rscript with arguments: Rscript scripts/CLI.R --outdir=./output_chr1_a2_caud/ --snp_data_path=/dcs04/lieber/statsgen/shizhong/michael/mwas/gwas//libd_chr1.pgen --methylation_data_path=/dcs04/lieber/statsgen/shizhong/michael/mwas/pheno/caud/out/chr1_all.rda --cov=/dcs04/lieber/statsgen/mnagle/mwas/full_covariates/all_caud.csv --verbose=FALSE --lambda_choice=1se --alphas=0.5 --allow_inefficient_parallelization=FALSE --n_fold=5 --window_sizes=10000 --save_evaluation_results_each_fold=FALSE --save_glmnet_object=FALSE --omit_folds_with_na_r=TRUE --methInput_rds_path=/dcs04/lieber/statsgen/mnagle/mwas/pheno/caud/out/chr1_all_88982-108981.rds --chunk1=1 --chunk2=20000 --cv_eval_mode=dynamic --num_cores=1 --cores_per_alpha=all --tag=libd_chr1-chr1_all-88982-108981-dynamic-1corestotal-allcorepera-20240416-163825'\n",
      "Rscript scripts/CLI.R --outdir=./output_chr1_a2_caud/ --snp_data_path=/dcs04/lieber/statsgen/shizhong/michael/mwas/gwas//libd_chr1.pgen --methylation_data_path=/dcs04/lieber/statsgen/shizhong/michael/mwas/pheno/caud/out/chr1_all.rda --cov=/dcs04/lieber/statsgen/mnagle/mwas/full_covariates/all_caud.csv --verbose=FALSE --lambda_choice=1se --alphas=0.5 --allow_inefficient_parallelization=FALSE --n_fold=5 --window_sizes=10000 --save_evaluation_results_each_fold=FALSE --save_glmnet_object=FALSE --omit_folds_with_na_r=TRUE --methInput_rds_path=/dcs04/lieber/statsgen/mnagle/mwas/pheno/caud/out/chr1_all_88982-108981.rds --chunk1=1 --chunk2=20000 --cv_eval_mode=dynamic --num_cores=1 --cores_per_alpha=all --tag=libd_chr1-chr1_all-88982-108981-dynamic-1corestotal-allcorepera-20240416-163825\n"
     ]
    },
    {
     "name": "stderr",
     "output_type": "stream",
     "text": [
      "Sleeping for 61 seconds\n",
      "\n"
     ]
    },
    {
     "name": "stdout",
     "output_type": "stream",
     "text": [
      "\n",
      "[1] \"Checking for files in:  ./output_chr1_a2_caud/\"\n",
      "[1] \"Using pattern:  libd_chr1-chr1_all-108982-128981-dynamic-1corestotal-allcorepera\"\n",
      "[1] \"Found files with specific pattern: \"\n",
      "character(0)\n",
      "\n",
      "#!/bin/bash\n",
      "#SBATCH --nodes=1\n",
      "#SBATCH --ntasks-per-node=1\n",
      "#SBATCH --cpus-per-task=1\n",
      "#SBATCH --mem-per-cpu=2G\n",
      "#SBATCH --output=slurm_output_libd_chr1-chr1_all-108982-128981-dynamic-1corestotal-allcorepera-20240416-163926.out\n",
      "#SBATCH --job-name=libd_chr1-chr1_all-108982-128981-dynamic-1corestotal-allcorepera-20240416-163926\n",
      "#SBATCH --time=48:00:00\n",
      "module load conda\n",
      "conda activate mwas\n",
      "echo 'Executing Rscript with arguments: Rscript scripts/CLI.R --outdir=./output_chr1_a2_caud/ --snp_data_path=/dcs04/lieber/statsgen/shizhong/michael/mwas/gwas//libd_chr1.pgen --methylation_data_path=/dcs04/lieber/statsgen/shizhong/michael/mwas/pheno/caud/out/chr1_all.rda --cov=/dcs04/lieber/statsgen/mnagle/mwas/full_covariates/all_caud.csv --verbose=FALSE --lambda_choice=1se --alphas=0.5 --allow_inefficient_parallelization=FALSE --n_fold=5 --window_sizes=10000 --save_evaluation_results_each_fold=FALSE --save_glmnet_object=FALSE --omit_folds_with_na_r=TRUE --methInput_rds_path=/dcs04/lieber/statsgen/mnagle/mwas/pheno/caud/out/chr1_all_108982-128981.rds --chunk1=1 --chunk2=20000 --cv_eval_mode=dynamic --num_cores=1 --cores_per_alpha=all --tag=libd_chr1-chr1_all-108982-128981-dynamic-1corestotal-allcorepera-20240416-163926'\n",
      "Rscript scripts/CLI.R --outdir=./output_chr1_a2_caud/ --snp_data_path=/dcs04/lieber/statsgen/shizhong/michael/mwas/gwas//libd_chr1.pgen --methylation_data_path=/dcs04/lieber/statsgen/shizhong/michael/mwas/pheno/caud/out/chr1_all.rda --cov=/dcs04/lieber/statsgen/mnagle/mwas/full_covariates/all_caud.csv --verbose=FALSE --lambda_choice=1se --alphas=0.5 --allow_inefficient_parallelization=FALSE --n_fold=5 --window_sizes=10000 --save_evaluation_results_each_fold=FALSE --save_glmnet_object=FALSE --omit_folds_with_na_r=TRUE --methInput_rds_path=/dcs04/lieber/statsgen/mnagle/mwas/pheno/caud/out/chr1_all_108982-128981.rds --chunk1=1 --chunk2=20000 --cv_eval_mode=dynamic --num_cores=1 --cores_per_alpha=all --tag=libd_chr1-chr1_all-108982-128981-dynamic-1corestotal-allcorepera-20240416-163926\n"
     ]
    },
    {
     "name": "stderr",
     "output_type": "stream",
     "text": [
      "Sleeping for 61 seconds\n",
      "\n"
     ]
    },
    {
     "name": "stdout",
     "output_type": "stream",
     "text": [
      "\n",
      "[1] \"Checking for files in:  ./output_chr1_a2_caud/\"\n",
      "[1] \"Using pattern:  libd_chr1-chr1_all-128982-148981-dynamic-1corestotal-allcorepera\"\n",
      "[1] \"Found files with specific pattern: \"\n",
      "character(0)\n",
      "\n",
      "#!/bin/bash\n",
      "#SBATCH --nodes=1\n",
      "#SBATCH --ntasks-per-node=1\n",
      "#SBATCH --cpus-per-task=1\n",
      "#SBATCH --mem-per-cpu=2G\n",
      "#SBATCH --output=slurm_output_libd_chr1-chr1_all-128982-148981-dynamic-1corestotal-allcorepera-20240416-164027.out\n",
      "#SBATCH --job-name=libd_chr1-chr1_all-128982-148981-dynamic-1corestotal-allcorepera-20240416-164027\n",
      "#SBATCH --time=48:00:00\n",
      "module load conda\n",
      "conda activate mwas\n",
      "echo 'Executing Rscript with arguments: Rscript scripts/CLI.R --outdir=./output_chr1_a2_caud/ --snp_data_path=/dcs04/lieber/statsgen/shizhong/michael/mwas/gwas//libd_chr1.pgen --methylation_data_path=/dcs04/lieber/statsgen/shizhong/michael/mwas/pheno/caud/out/chr1_all.rda --cov=/dcs04/lieber/statsgen/mnagle/mwas/full_covariates/all_caud.csv --verbose=FALSE --lambda_choice=1se --alphas=0.5 --allow_inefficient_parallelization=FALSE --n_fold=5 --window_sizes=10000 --save_evaluation_results_each_fold=FALSE --save_glmnet_object=FALSE --omit_folds_with_na_r=TRUE --methInput_rds_path=/dcs04/lieber/statsgen/mnagle/mwas/pheno/caud/out/chr1_all_128982-148981.rds --chunk1=1 --chunk2=20000 --cv_eval_mode=dynamic --num_cores=1 --cores_per_alpha=all --tag=libd_chr1-chr1_all-128982-148981-dynamic-1corestotal-allcorepera-20240416-164027'\n",
      "Rscript scripts/CLI.R --outdir=./output_chr1_a2_caud/ --snp_data_path=/dcs04/lieber/statsgen/shizhong/michael/mwas/gwas//libd_chr1.pgen --methylation_data_path=/dcs04/lieber/statsgen/shizhong/michael/mwas/pheno/caud/out/chr1_all.rda --cov=/dcs04/lieber/statsgen/mnagle/mwas/full_covariates/all_caud.csv --verbose=FALSE --lambda_choice=1se --alphas=0.5 --allow_inefficient_parallelization=FALSE --n_fold=5 --window_sizes=10000 --save_evaluation_results_each_fold=FALSE --save_glmnet_object=FALSE --omit_folds_with_na_r=TRUE --methInput_rds_path=/dcs04/lieber/statsgen/mnagle/mwas/pheno/caud/out/chr1_all_128982-148981.rds --chunk1=1 --chunk2=20000 --cv_eval_mode=dynamic --num_cores=1 --cores_per_alpha=all --tag=libd_chr1-chr1_all-128982-148981-dynamic-1corestotal-allcorepera-20240416-164027\n"
     ]
    },
    {
     "name": "stderr",
     "output_type": "stream",
     "text": [
      "Sleeping for 61 seconds\n",
      "\n"
     ]
    },
    {
     "name": "stdout",
     "output_type": "stream",
     "text": [
      "\n",
      "[1] \"Checking for files in:  ./output_chr1_a2_caud/\"\n",
      "[1] \"Using pattern:  libd_chr1-chr1_all-148982-168981-dynamic-1corestotal-allcorepera\"\n",
      "[1] \"Found files with specific pattern: \"\n",
      "character(0)\n",
      "\n",
      "#!/bin/bash\n",
      "#SBATCH --nodes=1\n",
      "#SBATCH --ntasks-per-node=1\n",
      "#SBATCH --cpus-per-task=1\n",
      "#SBATCH --mem-per-cpu=2G\n",
      "#SBATCH --output=slurm_output_libd_chr1-chr1_all-148982-168981-dynamic-1corestotal-allcorepera-20240416-164128.out\n",
      "#SBATCH --job-name=libd_chr1-chr1_all-148982-168981-dynamic-1corestotal-allcorepera-20240416-164128\n",
      "#SBATCH --time=48:00:00\n",
      "module load conda\n",
      "conda activate mwas\n",
      "echo 'Executing Rscript with arguments: Rscript scripts/CLI.R --outdir=./output_chr1_a2_caud/ --snp_data_path=/dcs04/lieber/statsgen/shizhong/michael/mwas/gwas//libd_chr1.pgen --methylation_data_path=/dcs04/lieber/statsgen/shizhong/michael/mwas/pheno/caud/out/chr1_all.rda --cov=/dcs04/lieber/statsgen/mnagle/mwas/full_covariates/all_caud.csv --verbose=FALSE --lambda_choice=1se --alphas=0.5 --allow_inefficient_parallelization=FALSE --n_fold=5 --window_sizes=10000 --save_evaluation_results_each_fold=FALSE --save_glmnet_object=FALSE --omit_folds_with_na_r=TRUE --methInput_rds_path=/dcs04/lieber/statsgen/mnagle/mwas/pheno/caud/out/chr1_all_148982-168981.rds --chunk1=1 --chunk2=20000 --cv_eval_mode=dynamic --num_cores=1 --cores_per_alpha=all --tag=libd_chr1-chr1_all-148982-168981-dynamic-1corestotal-allcorepera-20240416-164128'\n",
      "Rscript scripts/CLI.R --outdir=./output_chr1_a2_caud/ --snp_data_path=/dcs04/lieber/statsgen/shizhong/michael/mwas/gwas//libd_chr1.pgen --methylation_data_path=/dcs04/lieber/statsgen/shizhong/michael/mwas/pheno/caud/out/chr1_all.rda --cov=/dcs04/lieber/statsgen/mnagle/mwas/full_covariates/all_caud.csv --verbose=FALSE --lambda_choice=1se --alphas=0.5 --allow_inefficient_parallelization=FALSE --n_fold=5 --window_sizes=10000 --save_evaluation_results_each_fold=FALSE --save_glmnet_object=FALSE --omit_folds_with_na_r=TRUE --methInput_rds_path=/dcs04/lieber/statsgen/mnagle/mwas/pheno/caud/out/chr1_all_148982-168981.rds --chunk1=1 --chunk2=20000 --cv_eval_mode=dynamic --num_cores=1 --cores_per_alpha=all --tag=libd_chr1-chr1_all-148982-168981-dynamic-1corestotal-allcorepera-20240416-164128\n"
     ]
    },
    {
     "name": "stderr",
     "output_type": "stream",
     "text": [
      "Sleeping for 61 seconds\n",
      "\n"
     ]
    },
    {
     "name": "stdout",
     "output_type": "stream",
     "text": [
      "\n",
      "[1] \"Checking for files in:  ./output_chr1_a2_caud/\"\n",
      "[1] \"Using pattern:  libd_chr1-chr1_all-168982-188981-dynamic-1corestotal-allcorepera\"\n",
      "[1] \"Found files with specific pattern: \"\n",
      "character(0)\n",
      "\n",
      "#!/bin/bash\n",
      "#SBATCH --nodes=1\n",
      "#SBATCH --ntasks-per-node=1\n",
      "#SBATCH --cpus-per-task=1\n",
      "#SBATCH --mem-per-cpu=2G\n",
      "#SBATCH --output=slurm_output_libd_chr1-chr1_all-168982-188981-dynamic-1corestotal-allcorepera-20240416-164229.out\n",
      "#SBATCH --job-name=libd_chr1-chr1_all-168982-188981-dynamic-1corestotal-allcorepera-20240416-164229\n",
      "#SBATCH --time=48:00:00\n",
      "module load conda\n",
      "conda activate mwas\n",
      "echo 'Executing Rscript with arguments: Rscript scripts/CLI.R --outdir=./output_chr1_a2_caud/ --snp_data_path=/dcs04/lieber/statsgen/shizhong/michael/mwas/gwas//libd_chr1.pgen --methylation_data_path=/dcs04/lieber/statsgen/shizhong/michael/mwas/pheno/caud/out/chr1_all.rda --cov=/dcs04/lieber/statsgen/mnagle/mwas/full_covariates/all_caud.csv --verbose=FALSE --lambda_choice=1se --alphas=0.5 --allow_inefficient_parallelization=FALSE --n_fold=5 --window_sizes=10000 --save_evaluation_results_each_fold=FALSE --save_glmnet_object=FALSE --omit_folds_with_na_r=TRUE --methInput_rds_path=/dcs04/lieber/statsgen/mnagle/mwas/pheno/caud/out/chr1_all_168982-188981.rds --chunk1=1 --chunk2=20000 --cv_eval_mode=dynamic --num_cores=1 --cores_per_alpha=all --tag=libd_chr1-chr1_all-168982-188981-dynamic-1corestotal-allcorepera-20240416-164229'\n",
      "Rscript scripts/CLI.R --outdir=./output_chr1_a2_caud/ --snp_data_path=/dcs04/lieber/statsgen/shizhong/michael/mwas/gwas//libd_chr1.pgen --methylation_data_path=/dcs04/lieber/statsgen/shizhong/michael/mwas/pheno/caud/out/chr1_all.rda --cov=/dcs04/lieber/statsgen/mnagle/mwas/full_covariates/all_caud.csv --verbose=FALSE --lambda_choice=1se --alphas=0.5 --allow_inefficient_parallelization=FALSE --n_fold=5 --window_sizes=10000 --save_evaluation_results_each_fold=FALSE --save_glmnet_object=FALSE --omit_folds_with_na_r=TRUE --methInput_rds_path=/dcs04/lieber/statsgen/mnagle/mwas/pheno/caud/out/chr1_all_168982-188981.rds --chunk1=1 --chunk2=20000 --cv_eval_mode=dynamic --num_cores=1 --cores_per_alpha=all --tag=libd_chr1-chr1_all-168982-188981-dynamic-1corestotal-allcorepera-20240416-164229\n"
     ]
    },
    {
     "name": "stderr",
     "output_type": "stream",
     "text": [
      "Sleeping for 61 seconds\n",
      "\n"
     ]
    },
    {
     "name": "stdout",
     "output_type": "stream",
     "text": [
      "\n",
      "[1] \"Checking for files in:  ./output_chr1_a2_caud/\"\n",
      "[1] \"Using pattern:  libd_chr1-chr1_all-188982-208981-dynamic-1corestotal-allcorepera\"\n",
      "[1] \"Found files with specific pattern: \"\n",
      "character(0)\n",
      "\n",
      "#!/bin/bash\n",
      "#SBATCH --nodes=1\n",
      "#SBATCH --ntasks-per-node=1\n",
      "#SBATCH --cpus-per-task=1\n",
      "#SBATCH --mem-per-cpu=2G\n",
      "#SBATCH --output=slurm_output_libd_chr1-chr1_all-188982-208981-dynamic-1corestotal-allcorepera-20240416-164330.out\n",
      "#SBATCH --job-name=libd_chr1-chr1_all-188982-208981-dynamic-1corestotal-allcorepera-20240416-164330\n",
      "#SBATCH --time=48:00:00\n",
      "module load conda\n",
      "conda activate mwas\n",
      "echo 'Executing Rscript with arguments: Rscript scripts/CLI.R --outdir=./output_chr1_a2_caud/ --snp_data_path=/dcs04/lieber/statsgen/shizhong/michael/mwas/gwas//libd_chr1.pgen --methylation_data_path=/dcs04/lieber/statsgen/shizhong/michael/mwas/pheno/caud/out/chr1_all.rda --cov=/dcs04/lieber/statsgen/mnagle/mwas/full_covariates/all_caud.csv --verbose=FALSE --lambda_choice=1se --alphas=0.5 --allow_inefficient_parallelization=FALSE --n_fold=5 --window_sizes=10000 --save_evaluation_results_each_fold=FALSE --save_glmnet_object=FALSE --omit_folds_with_na_r=TRUE --methInput_rds_path=/dcs04/lieber/statsgen/mnagle/mwas/pheno/caud/out/chr1_all_188982-208981.rds --chunk1=1 --chunk2=20000 --cv_eval_mode=dynamic --num_cores=1 --cores_per_alpha=all --tag=libd_chr1-chr1_all-188982-208981-dynamic-1corestotal-allcorepera-20240416-164330'\n",
      "Rscript scripts/CLI.R --outdir=./output_chr1_a2_caud/ --snp_data_path=/dcs04/lieber/statsgen/shizhong/michael/mwas/gwas//libd_chr1.pgen --methylation_data_path=/dcs04/lieber/statsgen/shizhong/michael/mwas/pheno/caud/out/chr1_all.rda --cov=/dcs04/lieber/statsgen/mnagle/mwas/full_covariates/all_caud.csv --verbose=FALSE --lambda_choice=1se --alphas=0.5 --allow_inefficient_parallelization=FALSE --n_fold=5 --window_sizes=10000 --save_evaluation_results_each_fold=FALSE --save_glmnet_object=FALSE --omit_folds_with_na_r=TRUE --methInput_rds_path=/dcs04/lieber/statsgen/mnagle/mwas/pheno/caud/out/chr1_all_188982-208981.rds --chunk1=1 --chunk2=20000 --cv_eval_mode=dynamic --num_cores=1 --cores_per_alpha=all --tag=libd_chr1-chr1_all-188982-208981-dynamic-1corestotal-allcorepera-20240416-164330\n"
     ]
    },
    {
     "name": "stderr",
     "output_type": "stream",
     "text": [
      "Sleeping for 61 seconds\n",
      "\n"
     ]
    },
    {
     "name": "stdout",
     "output_type": "stream",
     "text": [
      "\n",
      "[1] \"Checking for files in:  ./output_chr1_a2_caud/\"\n",
      "[1] \"Using pattern:  libd_chr1-chr1_all-208982-228981-dynamic-1corestotal-allcorepera\"\n",
      "[1] \"Found files with specific pattern: \"\n",
      "character(0)\n",
      "\n",
      "#!/bin/bash\n",
      "#SBATCH --nodes=1\n",
      "#SBATCH --ntasks-per-node=1\n",
      "#SBATCH --cpus-per-task=1\n",
      "#SBATCH --mem-per-cpu=2G\n",
      "#SBATCH --output=slurm_output_libd_chr1-chr1_all-208982-228981-dynamic-1corestotal-allcorepera-20240416-164431.out\n",
      "#SBATCH --job-name=libd_chr1-chr1_all-208982-228981-dynamic-1corestotal-allcorepera-20240416-164431\n",
      "#SBATCH --time=48:00:00\n",
      "module load conda\n",
      "conda activate mwas\n",
      "echo 'Executing Rscript with arguments: Rscript scripts/CLI.R --outdir=./output_chr1_a2_caud/ --snp_data_path=/dcs04/lieber/statsgen/shizhong/michael/mwas/gwas//libd_chr1.pgen --methylation_data_path=/dcs04/lieber/statsgen/shizhong/michael/mwas/pheno/caud/out/chr1_all.rda --cov=/dcs04/lieber/statsgen/mnagle/mwas/full_covariates/all_caud.csv --verbose=FALSE --lambda_choice=1se --alphas=0.5 --allow_inefficient_parallelization=FALSE --n_fold=5 --window_sizes=10000 --save_evaluation_results_each_fold=FALSE --save_glmnet_object=FALSE --omit_folds_with_na_r=TRUE --methInput_rds_path=/dcs04/lieber/statsgen/mnagle/mwas/pheno/caud/out/chr1_all_208982-228981.rds --chunk1=1 --chunk2=20000 --cv_eval_mode=dynamic --num_cores=1 --cores_per_alpha=all --tag=libd_chr1-chr1_all-208982-228981-dynamic-1corestotal-allcorepera-20240416-164431'\n",
      "Rscript scripts/CLI.R --outdir=./output_chr1_a2_caud/ --snp_data_path=/dcs04/lieber/statsgen/shizhong/michael/mwas/gwas//libd_chr1.pgen --methylation_data_path=/dcs04/lieber/statsgen/shizhong/michael/mwas/pheno/caud/out/chr1_all.rda --cov=/dcs04/lieber/statsgen/mnagle/mwas/full_covariates/all_caud.csv --verbose=FALSE --lambda_choice=1se --alphas=0.5 --allow_inefficient_parallelization=FALSE --n_fold=5 --window_sizes=10000 --save_evaluation_results_each_fold=FALSE --save_glmnet_object=FALSE --omit_folds_with_na_r=TRUE --methInput_rds_path=/dcs04/lieber/statsgen/mnagle/mwas/pheno/caud/out/chr1_all_208982-228981.rds --chunk1=1 --chunk2=20000 --cv_eval_mode=dynamic --num_cores=1 --cores_per_alpha=all --tag=libd_chr1-chr1_all-208982-228981-dynamic-1corestotal-allcorepera-20240416-164431\n"
     ]
    },
    {
     "name": "stderr",
     "output_type": "stream",
     "text": [
      "Sleeping for 61 seconds\n",
      "\n"
     ]
    },
    {
     "name": "stdout",
     "output_type": "stream",
     "text": [
      "\n",
      "[1] \"Checking for files in:  ./output_chr1_a2_caud/\"\n",
      "[1] \"Using pattern:  libd_chr1-chr1_all-228982-248981-dynamic-1corestotal-allcorepera\"\n",
      "[1] \"Found files with specific pattern: \"\n",
      "character(0)\n",
      "\n",
      "#!/bin/bash\n",
      "#SBATCH --nodes=1\n",
      "#SBATCH --ntasks-per-node=1\n",
      "#SBATCH --cpus-per-task=1\n",
      "#SBATCH --mem-per-cpu=2G\n",
      "#SBATCH --output=slurm_output_libd_chr1-chr1_all-228982-248981-dynamic-1corestotal-allcorepera-20240416-164532.out\n",
      "#SBATCH --job-name=libd_chr1-chr1_all-228982-248981-dynamic-1corestotal-allcorepera-20240416-164532\n",
      "#SBATCH --time=48:00:00\n",
      "module load conda\n",
      "conda activate mwas\n",
      "echo 'Executing Rscript with arguments: Rscript scripts/CLI.R --outdir=./output_chr1_a2_caud/ --snp_data_path=/dcs04/lieber/statsgen/shizhong/michael/mwas/gwas//libd_chr1.pgen --methylation_data_path=/dcs04/lieber/statsgen/shizhong/michael/mwas/pheno/caud/out/chr1_all.rda --cov=/dcs04/lieber/statsgen/mnagle/mwas/full_covariates/all_caud.csv --verbose=FALSE --lambda_choice=1se --alphas=0.5 --allow_inefficient_parallelization=FALSE --n_fold=5 --window_sizes=10000 --save_evaluation_results_each_fold=FALSE --save_glmnet_object=FALSE --omit_folds_with_na_r=TRUE --methInput_rds_path=/dcs04/lieber/statsgen/mnagle/mwas/pheno/caud/out/chr1_all_228982-248981.rds --chunk1=1 --chunk2=20000 --cv_eval_mode=dynamic --num_cores=1 --cores_per_alpha=all --tag=libd_chr1-chr1_all-228982-248981-dynamic-1corestotal-allcorepera-20240416-164532'\n",
      "Rscript scripts/CLI.R --outdir=./output_chr1_a2_caud/ --snp_data_path=/dcs04/lieber/statsgen/shizhong/michael/mwas/gwas//libd_chr1.pgen --methylation_data_path=/dcs04/lieber/statsgen/shizhong/michael/mwas/pheno/caud/out/chr1_all.rda --cov=/dcs04/lieber/statsgen/mnagle/mwas/full_covariates/all_caud.csv --verbose=FALSE --lambda_choice=1se --alphas=0.5 --allow_inefficient_parallelization=FALSE --n_fold=5 --window_sizes=10000 --save_evaluation_results_each_fold=FALSE --save_glmnet_object=FALSE --omit_folds_with_na_r=TRUE --methInput_rds_path=/dcs04/lieber/statsgen/mnagle/mwas/pheno/caud/out/chr1_all_228982-248981.rds --chunk1=1 --chunk2=20000 --cv_eval_mode=dynamic --num_cores=1 --cores_per_alpha=all --tag=libd_chr1-chr1_all-228982-248981-dynamic-1corestotal-allcorepera-20240416-164532\n"
     ]
    },
    {
     "name": "stderr",
     "output_type": "stream",
     "text": [
      "Sleeping for 61 seconds\n",
      "\n"
     ]
    },
    {
     "name": "stdout",
     "output_type": "stream",
     "text": [
      "\n",
      "[1] \"Checking for files in:  ./output_chr1_a2_caud/\"\n",
      "[1] \"Using pattern:  libd_chr1-chr1_all-248982-268981-dynamic-1corestotal-allcorepera\"\n",
      "[1] \"Found files with specific pattern: \"\n",
      "character(0)\n",
      "\n",
      "#!/bin/bash\n",
      "#SBATCH --nodes=1\n",
      "#SBATCH --ntasks-per-node=1\n",
      "#SBATCH --cpus-per-task=1\n",
      "#SBATCH --mem-per-cpu=2G\n",
      "#SBATCH --output=slurm_output_libd_chr1-chr1_all-248982-268981-dynamic-1corestotal-allcorepera-20240416-164633.out\n",
      "#SBATCH --job-name=libd_chr1-chr1_all-248982-268981-dynamic-1corestotal-allcorepera-20240416-164633\n",
      "#SBATCH --time=48:00:00\n",
      "module load conda\n",
      "conda activate mwas\n",
      "echo 'Executing Rscript with arguments: Rscript scripts/CLI.R --outdir=./output_chr1_a2_caud/ --snp_data_path=/dcs04/lieber/statsgen/shizhong/michael/mwas/gwas//libd_chr1.pgen --methylation_data_path=/dcs04/lieber/statsgen/shizhong/michael/mwas/pheno/caud/out/chr1_all.rda --cov=/dcs04/lieber/statsgen/mnagle/mwas/full_covariates/all_caud.csv --verbose=FALSE --lambda_choice=1se --alphas=0.5 --allow_inefficient_parallelization=FALSE --n_fold=5 --window_sizes=10000 --save_evaluation_results_each_fold=FALSE --save_glmnet_object=FALSE --omit_folds_with_na_r=TRUE --methInput_rds_path=/dcs04/lieber/statsgen/mnagle/mwas/pheno/caud/out/chr1_all_248982-268981.rds --chunk1=1 --chunk2=20000 --cv_eval_mode=dynamic --num_cores=1 --cores_per_alpha=all --tag=libd_chr1-chr1_all-248982-268981-dynamic-1corestotal-allcorepera-20240416-164633'\n",
      "Rscript scripts/CLI.R --outdir=./output_chr1_a2_caud/ --snp_data_path=/dcs04/lieber/statsgen/shizhong/michael/mwas/gwas//libd_chr1.pgen --methylation_data_path=/dcs04/lieber/statsgen/shizhong/michael/mwas/pheno/caud/out/chr1_all.rda --cov=/dcs04/lieber/statsgen/mnagle/mwas/full_covariates/all_caud.csv --verbose=FALSE --lambda_choice=1se --alphas=0.5 --allow_inefficient_parallelization=FALSE --n_fold=5 --window_sizes=10000 --save_evaluation_results_each_fold=FALSE --save_glmnet_object=FALSE --omit_folds_with_na_r=TRUE --methInput_rds_path=/dcs04/lieber/statsgen/mnagle/mwas/pheno/caud/out/chr1_all_248982-268981.rds --chunk1=1 --chunk2=20000 --cv_eval_mode=dynamic --num_cores=1 --cores_per_alpha=all --tag=libd_chr1-chr1_all-248982-268981-dynamic-1corestotal-allcorepera-20240416-164633\n"
     ]
    },
    {
     "name": "stderr",
     "output_type": "stream",
     "text": [
      "Sleeping for 61 seconds\n",
      "\n"
     ]
    },
    {
     "name": "stdout",
     "output_type": "stream",
     "text": [
      "\n",
      "[1] \"Checking for files in:  ./output_chr1_a2_caud/\"\n",
      "[1] \"Using pattern:  libd_chr1-chr1_all-268982-288981-dynamic-1corestotal-allcorepera\"\n",
      "[1] \"Found files with specific pattern: \"\n",
      "character(0)\n",
      "\n",
      "#!/bin/bash\n",
      "#SBATCH --nodes=1\n",
      "#SBATCH --ntasks-per-node=1\n",
      "#SBATCH --cpus-per-task=1\n",
      "#SBATCH --mem-per-cpu=2G\n",
      "#SBATCH --output=slurm_output_libd_chr1-chr1_all-268982-288981-dynamic-1corestotal-allcorepera-20240416-164735.out\n",
      "#SBATCH --job-name=libd_chr1-chr1_all-268982-288981-dynamic-1corestotal-allcorepera-20240416-164735\n",
      "#SBATCH --time=48:00:00\n",
      "module load conda\n",
      "conda activate mwas\n",
      "echo 'Executing Rscript with arguments: Rscript scripts/CLI.R --outdir=./output_chr1_a2_caud/ --snp_data_path=/dcs04/lieber/statsgen/shizhong/michael/mwas/gwas//libd_chr1.pgen --methylation_data_path=/dcs04/lieber/statsgen/shizhong/michael/mwas/pheno/caud/out/chr1_all.rda --cov=/dcs04/lieber/statsgen/mnagle/mwas/full_covariates/all_caud.csv --verbose=FALSE --lambda_choice=1se --alphas=0.5 --allow_inefficient_parallelization=FALSE --n_fold=5 --window_sizes=10000 --save_evaluation_results_each_fold=FALSE --save_glmnet_object=FALSE --omit_folds_with_na_r=TRUE --methInput_rds_path=/dcs04/lieber/statsgen/mnagle/mwas/pheno/caud/out/chr1_all_268982-288981.rds --chunk1=1 --chunk2=20000 --cv_eval_mode=dynamic --num_cores=1 --cores_per_alpha=all --tag=libd_chr1-chr1_all-268982-288981-dynamic-1corestotal-allcorepera-20240416-164735'\n",
      "Rscript scripts/CLI.R --outdir=./output_chr1_a2_caud/ --snp_data_path=/dcs04/lieber/statsgen/shizhong/michael/mwas/gwas//libd_chr1.pgen --methylation_data_path=/dcs04/lieber/statsgen/shizhong/michael/mwas/pheno/caud/out/chr1_all.rda --cov=/dcs04/lieber/statsgen/mnagle/mwas/full_covariates/all_caud.csv --verbose=FALSE --lambda_choice=1se --alphas=0.5 --allow_inefficient_parallelization=FALSE --n_fold=5 --window_sizes=10000 --save_evaluation_results_each_fold=FALSE --save_glmnet_object=FALSE --omit_folds_with_na_r=TRUE --methInput_rds_path=/dcs04/lieber/statsgen/mnagle/mwas/pheno/caud/out/chr1_all_268982-288981.rds --chunk1=1 --chunk2=20000 --cv_eval_mode=dynamic --num_cores=1 --cores_per_alpha=all --tag=libd_chr1-chr1_all-268982-288981-dynamic-1corestotal-allcorepera-20240416-164735\n"
     ]
    },
    {
     "name": "stderr",
     "output_type": "stream",
     "text": [
      "Sleeping for 61 seconds\n",
      "\n"
     ]
    },
    {
     "name": "stdout",
     "output_type": "stream",
     "text": [
      "\n",
      "[1] \"Checking for files in:  ./output_chr1_a2_caud/\"\n",
      "[1] \"Using pattern:  libd_chr1-chr1_all-288982-308981-dynamic-1corestotal-allcorepera\"\n",
      "[1] \"Found files with specific pattern: \"\n",
      "character(0)\n",
      "\n",
      "#!/bin/bash\n",
      "#SBATCH --nodes=1\n",
      "#SBATCH --ntasks-per-node=1\n",
      "#SBATCH --cpus-per-task=1\n",
      "#SBATCH --mem-per-cpu=2G\n",
      "#SBATCH --output=slurm_output_libd_chr1-chr1_all-288982-308981-dynamic-1corestotal-allcorepera-20240416-164836.out\n",
      "#SBATCH --job-name=libd_chr1-chr1_all-288982-308981-dynamic-1corestotal-allcorepera-20240416-164836\n",
      "#SBATCH --time=48:00:00\n",
      "module load conda\n",
      "conda activate mwas\n",
      "echo 'Executing Rscript with arguments: Rscript scripts/CLI.R --outdir=./output_chr1_a2_caud/ --snp_data_path=/dcs04/lieber/statsgen/shizhong/michael/mwas/gwas//libd_chr1.pgen --methylation_data_path=/dcs04/lieber/statsgen/shizhong/michael/mwas/pheno/caud/out/chr1_all.rda --cov=/dcs04/lieber/statsgen/mnagle/mwas/full_covariates/all_caud.csv --verbose=FALSE --lambda_choice=1se --alphas=0.5 --allow_inefficient_parallelization=FALSE --n_fold=5 --window_sizes=10000 --save_evaluation_results_each_fold=FALSE --save_glmnet_object=FALSE --omit_folds_with_na_r=TRUE --methInput_rds_path=/dcs04/lieber/statsgen/mnagle/mwas/pheno/caud/out/chr1_all_288982-308981.rds --chunk1=1 --chunk2=20000 --cv_eval_mode=dynamic --num_cores=1 --cores_per_alpha=all --tag=libd_chr1-chr1_all-288982-308981-dynamic-1corestotal-allcorepera-20240416-164836'\n",
      "Rscript scripts/CLI.R --outdir=./output_chr1_a2_caud/ --snp_data_path=/dcs04/lieber/statsgen/shizhong/michael/mwas/gwas//libd_chr1.pgen --methylation_data_path=/dcs04/lieber/statsgen/shizhong/michael/mwas/pheno/caud/out/chr1_all.rda --cov=/dcs04/lieber/statsgen/mnagle/mwas/full_covariates/all_caud.csv --verbose=FALSE --lambda_choice=1se --alphas=0.5 --allow_inefficient_parallelization=FALSE --n_fold=5 --window_sizes=10000 --save_evaluation_results_each_fold=FALSE --save_glmnet_object=FALSE --omit_folds_with_na_r=TRUE --methInput_rds_path=/dcs04/lieber/statsgen/mnagle/mwas/pheno/caud/out/chr1_all_288982-308981.rds --chunk1=1 --chunk2=20000 --cv_eval_mode=dynamic --num_cores=1 --cores_per_alpha=all --tag=libd_chr1-chr1_all-288982-308981-dynamic-1corestotal-allcorepera-20240416-164836\n"
     ]
    },
    {
     "name": "stderr",
     "output_type": "stream",
     "text": [
      "Sleeping for 61 seconds\n",
      "\n"
     ]
    },
    {
     "name": "stdout",
     "output_type": "stream",
     "text": [
      "\n",
      "[1] \"Checking for files in:  ./output_chr1_a2_caud/\"\n",
      "[1] \"Using pattern:  libd_chr1-chr1_all-308982-328981-dynamic-1corestotal-allcorepera\"\n",
      "[1] \"Found files with specific pattern: \"\n",
      "character(0)\n",
      "\n",
      "#!/bin/bash\n",
      "#SBATCH --nodes=1\n",
      "#SBATCH --ntasks-per-node=1\n",
      "#SBATCH --cpus-per-task=1\n",
      "#SBATCH --mem-per-cpu=2G\n",
      "#SBATCH --output=slurm_output_libd_chr1-chr1_all-308982-328981-dynamic-1corestotal-allcorepera-20240416-164937.out\n",
      "#SBATCH --job-name=libd_chr1-chr1_all-308982-328981-dynamic-1corestotal-allcorepera-20240416-164937\n",
      "#SBATCH --time=48:00:00\n",
      "module load conda\n",
      "conda activate mwas\n",
      "echo 'Executing Rscript with arguments: Rscript scripts/CLI.R --outdir=./output_chr1_a2_caud/ --snp_data_path=/dcs04/lieber/statsgen/shizhong/michael/mwas/gwas//libd_chr1.pgen --methylation_data_path=/dcs04/lieber/statsgen/shizhong/michael/mwas/pheno/caud/out/chr1_all.rda --cov=/dcs04/lieber/statsgen/mnagle/mwas/full_covariates/all_caud.csv --verbose=FALSE --lambda_choice=1se --alphas=0.5 --allow_inefficient_parallelization=FALSE --n_fold=5 --window_sizes=10000 --save_evaluation_results_each_fold=FALSE --save_glmnet_object=FALSE --omit_folds_with_na_r=TRUE --methInput_rds_path=/dcs04/lieber/statsgen/mnagle/mwas/pheno/caud/out/chr1_all_308982-328981.rds --chunk1=1 --chunk2=20000 --cv_eval_mode=dynamic --num_cores=1 --cores_per_alpha=all --tag=libd_chr1-chr1_all-308982-328981-dynamic-1corestotal-allcorepera-20240416-164937'\n",
      "Rscript scripts/CLI.R --outdir=./output_chr1_a2_caud/ --snp_data_path=/dcs04/lieber/statsgen/shizhong/michael/mwas/gwas//libd_chr1.pgen --methylation_data_path=/dcs04/lieber/statsgen/shizhong/michael/mwas/pheno/caud/out/chr1_all.rda --cov=/dcs04/lieber/statsgen/mnagle/mwas/full_covariates/all_caud.csv --verbose=FALSE --lambda_choice=1se --alphas=0.5 --allow_inefficient_parallelization=FALSE --n_fold=5 --window_sizes=10000 --save_evaluation_results_each_fold=FALSE --save_glmnet_object=FALSE --omit_folds_with_na_r=TRUE --methInput_rds_path=/dcs04/lieber/statsgen/mnagle/mwas/pheno/caud/out/chr1_all_308982-328981.rds --chunk1=1 --chunk2=20000 --cv_eval_mode=dynamic --num_cores=1 --cores_per_alpha=all --tag=libd_chr1-chr1_all-308982-328981-dynamic-1corestotal-allcorepera-20240416-164937\n"
     ]
    },
    {
     "name": "stderr",
     "output_type": "stream",
     "text": [
      "Sleeping for 61 seconds\n",
      "\n"
     ]
    },
    {
     "name": "stdout",
     "output_type": "stream",
     "text": [
      "\n",
      "[1] \"Checking for files in:  ./output_chr1_a2_caud/\"\n",
      "[1] \"Using pattern:  libd_chr1-chr1_all-328982-348981-dynamic-1corestotal-allcorepera\"\n",
      "[1] \"Found files with specific pattern: \"\n",
      "character(0)\n",
      "\n",
      "#!/bin/bash\n",
      "#SBATCH --nodes=1\n",
      "#SBATCH --ntasks-per-node=1\n",
      "#SBATCH --cpus-per-task=1\n",
      "#SBATCH --mem-per-cpu=2G\n",
      "#SBATCH --output=slurm_output_libd_chr1-chr1_all-328982-348981-dynamic-1corestotal-allcorepera-20240416-165038.out\n",
      "#SBATCH --job-name=libd_chr1-chr1_all-328982-348981-dynamic-1corestotal-allcorepera-20240416-165038\n",
      "#SBATCH --time=48:00:00\n",
      "module load conda\n",
      "conda activate mwas\n",
      "echo 'Executing Rscript with arguments: Rscript scripts/CLI.R --outdir=./output_chr1_a2_caud/ --snp_data_path=/dcs04/lieber/statsgen/shizhong/michael/mwas/gwas//libd_chr1.pgen --methylation_data_path=/dcs04/lieber/statsgen/shizhong/michael/mwas/pheno/caud/out/chr1_all.rda --cov=/dcs04/lieber/statsgen/mnagle/mwas/full_covariates/all_caud.csv --verbose=FALSE --lambda_choice=1se --alphas=0.5 --allow_inefficient_parallelization=FALSE --n_fold=5 --window_sizes=10000 --save_evaluation_results_each_fold=FALSE --save_glmnet_object=FALSE --omit_folds_with_na_r=TRUE --methInput_rds_path=/dcs04/lieber/statsgen/mnagle/mwas/pheno/caud/out/chr1_all_328982-348981.rds --chunk1=1 --chunk2=20000 --cv_eval_mode=dynamic --num_cores=1 --cores_per_alpha=all --tag=libd_chr1-chr1_all-328982-348981-dynamic-1corestotal-allcorepera-20240416-165038'\n",
      "Rscript scripts/CLI.R --outdir=./output_chr1_a2_caud/ --snp_data_path=/dcs04/lieber/statsgen/shizhong/michael/mwas/gwas//libd_chr1.pgen --methylation_data_path=/dcs04/lieber/statsgen/shizhong/michael/mwas/pheno/caud/out/chr1_all.rda --cov=/dcs04/lieber/statsgen/mnagle/mwas/full_covariates/all_caud.csv --verbose=FALSE --lambda_choice=1se --alphas=0.5 --allow_inefficient_parallelization=FALSE --n_fold=5 --window_sizes=10000 --save_evaluation_results_each_fold=FALSE --save_glmnet_object=FALSE --omit_folds_with_na_r=TRUE --methInput_rds_path=/dcs04/lieber/statsgen/mnagle/mwas/pheno/caud/out/chr1_all_328982-348981.rds --chunk1=1 --chunk2=20000 --cv_eval_mode=dynamic --num_cores=1 --cores_per_alpha=all --tag=libd_chr1-chr1_all-328982-348981-dynamic-1corestotal-allcorepera-20240416-165038\n"
     ]
    },
    {
     "name": "stderr",
     "output_type": "stream",
     "text": [
      "Sleeping for 61 seconds\n",
      "\n"
     ]
    }
   ],
   "source": [
    "for(i in 1:nrow(matched_df)){\n",
    "    \n",
    "    region <- str_split_fixed(\n",
    "    str_split_fixed(matched_df$methylation_data[i], \"pheno/\", 2)[, 2],\n",
    "    \"/out\", 2)[, 1]\n",
    "    outdir <- paste0(\"./output_chr1_a2_\", region, \"/\")\n",
    "    if(!dir.exists(outdir)) dir.create(outdir)\n",
    "\n",
    "    chunk_size <- matched_df$chunk_end[i] - matched_df$chunk_start[i] + 1\n",
    "    \n",
    "    # Constant Arguments Setup\n",
    "    constant_args_df <- data.frame(\n",
    "      outdir = outdir,\n",
    "      snp_data_path = matched_df$SNP_data[i],\n",
    "      methylation_data_path = matched_df$methylation_data[i],\n",
    "      cov = matched_df$cov_file[i],\n",
    "      verbose = FALSE,\n",
    "      lambda_choice = \"1se\",\n",
    "      alphas = 0.5,\n",
    "      allow_inefficient_parallelization = FALSE,\n",
    "      n_fold = 5,\n",
    "      window_sizes = \"10000\",\n",
    "      #window_sizes = \"500000\",\n",
    "      save_evaluation_results_each_fold = FALSE,\n",
    "      save_glmnet_object = FALSE,\n",
    "      omit_folds_with_na_r = TRUE,\n",
    "      methInput_rds_path = matched_df$modified_methylation_data[i]\n",
    "    )\n",
    "    \n",
    "    # Varying parameters\n",
    "    cv_eval_modes <- c(\"dynamic\")\n",
    "    cores_per_alphas <- c(\"all\") #NA)  # Include NA to signify the default value should be used\n",
    "    num_cores_options <- c(1)\n",
    "    \n",
    "    #for (chunk_range in 2){\n",
    "    constant_args_df$chunk1 <- 1\n",
    "    constant_args_df$chunk2 <- chunk_size\n",
    "    # Loop through each combination\n",
    "    for (cv_eval_mode in cv_eval_modes) {\n",
    "      for (cores_per_alpha in cores_per_alphas) {\n",
    "        for (num_cores in num_cores_options) {\n",
    "          # Update constant_args_df for the current combination\n",
    "          constant_args_df$cv_eval_mode <- cv_eval_mode\n",
    "          constant_args_df$num_cores <- num_cores\n",
    "          if (!is.na(cores_per_alpha)) {\n",
    "            constant_args_df$cores_per_alpha <- cores_per_alpha\n",
    "          } else {\n",
    "            constant_args_df$cores_per_alpha <- NULL\n",
    "          }\n",
    "\n",
    "          # Generate tags\n",
    "          snp_base <- tools::file_path_sans_ext(basename(constant_args_df$snp_data_path))\n",
    "          meth_base <- tools::file_path_sans_ext(basename(constant_args_df$methylation_data_path))\n",
    "          datetime_str <- format(Sys.time(), \"%Y%m%d-%H%M%S\")\n",
    "          tag_pt1 <- paste(snp_base, meth_base, format(matched_df$chunk_start[i], scientific = FALSE), format(matched_df$chunk_end[i], scientific = FALSE), cv_eval_mode, paste0(num_cores, \"corestotal\"), ifelse(is.na(cores_per_alpha), \"defaultcore\", paste0(cores_per_alpha, \"corepera\")), sep = \"-\")\n",
    "          tag_pt2 <- datetime_str\n",
    "            \n",
    "          all_files_in_directory <- list.files(path = constant_args_df$outdir, full.names = TRUE)\n",
    "          #print(paste(\"All files in directory: \", constant_args_df$outdir))\n",
    "          #print(all_files_in_directory)\n",
    "\n",
    "          # Now check with the specific pattern\n",
    "          #existing_files_pattern <- paste0(\"^\", tag_pt1, \".*\\\\.rds$\")\n",
    "          existing_files <- list.files(path = constant_args_df$outdir, pattern = tag_pt1, full.names = TRUE)\n",
    "          existing_files <- existing_files[grepl(\"rds\", existing_files)]\n",
    "            \n",
    "          # Diagnostic print statements for troubleshooting\n",
    "          print(paste(\"Checking for files in: \", constant_args_df$outdir))\n",
    "          print(paste(\"Using pattern: \", tag_pt1))\n",
    "          print(\"Found files with specific pattern: \")\n",
    "          print(existing_files)\n",
    "          \n",
    "          if (!overwrite && length(existing_files) > 0) {\n",
    "            message(\"File with tag \", tag_pt1, \" already exists. Skipping...\")\n",
    "            next\n",
    "          }\n",
    "\n",
    "          # Generate and print SLURM script\n",
    "          script_info <- generate_slurm_script(constant_args_df, tag_pt1, tag_pt2,\n",
    "                                               mem_per_cpu = \"2G\")\n",
    "\n",
    "          cat(\"\\n\")\n",
    "          cat(script_info$script)\n",
    "\n",
    "          writeLines(script_info$script, script_info$path)\n",
    "\n",
    "          # Submit the SLURM job using the sbatch command\n",
    "          system(paste(\"sbatch\", script_info$path))\n",
    "\n",
    "          # Implement job submission limits and intervals if necessary\n",
    "          sleeptime <- 61\n",
    "\n",
    "          message(paste0(\"Sleeping for \", sleeptime, \" seconds\"))\n",
    "          Sys.sleep(sleeptime)\n",
    "          cat(\"\\n\")\n",
    "        }\n",
    "      }\n",
    "    }\n",
    "}"
   ]
  },
  {
   "cell_type": "code",
   "execution_count": null,
   "id": "5371a450-78e9-4625-bc65-67fc22693584",
   "metadata": {},
   "outputs": [],
   "source": []
  },
  {
   "cell_type": "code",
   "execution_count": null,
   "id": "d42889af-e0fb-43b7-9ea0-f84c90aacbbb",
   "metadata": {},
   "outputs": [],
   "source": []
  }
 ],
 "metadata": {
  "kernelspec": {
   "display_name": "R",
   "language": "R",
   "name": "ir"
  },
  "language_info": {
   "codemirror_mode": "r",
   "file_extension": ".r",
   "mimetype": "text/x-r-source",
   "name": "R",
   "pygments_lexer": "r",
   "version": "4.3.1"
  }
 },
 "nbformat": 4,
 "nbformat_minor": 5
}
