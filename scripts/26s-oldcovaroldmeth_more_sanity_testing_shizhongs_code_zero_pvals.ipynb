{
 "cells": [
  {
   "cell_type": "markdown",
   "id": "bf56f1cb-692a-4f54-b026-99e8075d50e8",
   "metadata": {},
   "source": [
    "# Compare MWAS methods for sanity tests and troubleshooting"
   ]
  },
  {
   "cell_type": "markdown",
   "id": "dc17d619-945e-4221-8ba7-c4c36fa56efe",
   "metadata": {},
   "source": [
    "In version e, we unify the elastic.net functions and make sure 1se and 1min produce different results.\n",
    "\n",
    "In version f, we try old covariates with all new data for everything else\n",
    "\n",
    "In version g, we do another quick sanity test with \"all\" sample methylation data instead of AA.\n",
    "\n",
    "In version h, we try old covariates, new BSseq data, new everything else. Since we're using old BSseq data, we must change back to Chr 7 for the selected peak for which we have sample data. We got normal results!\n",
    "\n",
    "In version i, change back to Chr 1 and see if we still get normal results.... We did not!\n",
    "\n",
    "Ok, now let's try other chromosomes/regions with random sites (version l)\n",
    "\n",
    "version m: add manhattan plots and MAF filter\n",
    "\n",
    "version n: go back to region in Shizhong's `BSsample.rda` file\n",
    "\n",
    "Down the road (o), let's change covariates back to ours\n",
    "\n",
    "Also in o, we found that Shizhong's old results still don't quite match up with ours.\n",
    "\n",
    "So now in p, we will use original BSsample and see if they finally do... In p, we still get different results.\n",
    "\n",
    "Now in q, we use old covar in addition to old BSsample.\n",
    "\n",
    "In r, we also use old SNPs. Ding ding ding, now we get approximately same results (although slightly different I guess due to stochasticity)\n",
    "\n",
    "In s, we use new SNPs for reference population in stage 2, but old SNPs for LIBD in stage 1. We get different result again.\n",
    "\n",
    "In t, we switch back to old reference population SNPs for stage 2"
   ]
  },
  {
   "cell_type": "code",
   "execution_count": 1,
   "id": "27763970-c612-403d-a55c-8149145a7e29",
   "metadata": {},
   "outputs": [
    {
     "data": {
      "text/plain": [
       "[1] \"2024-08-06 12:38:31 PDT\""
      ]
     },
     "metadata": {},
     "output_type": "display_data"
    }
   ],
   "source": [
    "Sys.time()"
   ]
  },
  {
   "cell_type": "code",
   "execution_count": 2,
   "id": "ba280997-149a-4123-bdec-00547ad791e6",
   "metadata": {},
   "outputs": [],
   "source": [
    "chr <- 7 # code set up for old bsseq chr 7, or anything with new bsseq\n",
    "maf <- 0.05\n",
    "\n",
    "min_site_to_test_pos <- 1980077\n",
    "max_site_to_test_pos <- 1989957"
   ]
  },
  {
   "cell_type": "code",
   "execution_count": 3,
   "id": "484d3ff2-9116-4477-8976-f1c828f354fa",
   "metadata": {},
   "outputs": [],
   "source": [
    "sites_to_test_pos <- \"range\"\n",
    "#n_samples <- 500"
   ]
  },
  {
   "cell_type": "code",
   "execution_count": 4,
   "id": "be49eb64-a0d8-4e1f-a85a-983fe490bd2c",
   "metadata": {},
   "outputs": [],
   "source": [
    "# # Chr 1 sites\n",
    "# sites_to_test_pos <- c(73274305, 73274312, 73292330, 73307769, 73308571, 73419188, 73419830, 73420076)"
   ]
  },
  {
   "cell_type": "code",
   "execution_count": 5,
   "id": "b6595216-f957-4571-a12e-7027b278774d",
   "metadata": {},
   "outputs": [],
   "source": [
    "filter_snps <- FALSE # speed things up by pre-filtering whole chromosomes to desired regions"
   ]
  },
  {
   "cell_type": "markdown",
   "id": "ca2a80fb-d548-4157-b585-cd5cf6a471d2",
   "metadata": {},
   "source": [
    "## Be ready with matched up SNP and covariate files"
   ]
  },
  {
   "cell_type": "code",
   "execution_count": 6,
   "id": "1d0d53e3-618f-4b04-b2b6-ae27a7e4ef5c",
   "metadata": {},
   "outputs": [
    {
     "name": "stderr",
     "output_type": "stream",
     "text": [
      "Loading required package: Matrix\n",
      "\n",
      "Loaded glmnet 4.1-8\n",
      "\n",
      "Loading required package: foreach\n",
      "\n",
      "Loading required package: iterators\n",
      "\n",
      "Loading required package: parallel\n",
      "\n"
     ]
    }
   ],
   "source": [
    "library(\"glmnet\")\n",
    "library(\"e1071\")\n",
    "library(\"doParallel\")\n",
    "library(\"data.table\")"
   ]
  },
  {
   "cell_type": "code",
   "execution_count": 7,
   "id": "c6034757-2d3c-43d3-aa16-70baa5169549",
   "metadata": {},
   "outputs": [],
   "source": [
    "df <- fread(\"09-OUT_matched_SNP_meth_cov_a2.csv\")"
   ]
  },
  {
   "cell_type": "code",
   "execution_count": 8,
   "id": "9821a860-2a97-4a7b-bfca-6e8abd96bf8a",
   "metadata": {},
   "outputs": [],
   "source": [
    "df <- df[which(df$Chr == chr), ]"
   ]
  },
  {
   "cell_type": "code",
   "execution_count": 9,
   "id": "ea91a79d-67a6-40df-b0ad-3b2c7db9be85",
   "metadata": {},
   "outputs": [],
   "source": [
    "df <- df[which(df$population == \"all\"), ]\n",
    "df <- df[which(df$brain_region == \"caud\"), ]"
   ]
  },
  {
   "cell_type": "code",
   "execution_count": 10,
   "id": "465c4237-66ee-4512-971b-1a70e550c36e",
   "metadata": {},
   "outputs": [
    {
     "data": {
      "text/html": [
       "<table class=\"dataframe\">\n",
       "<caption>A data.table: 1 × 15</caption>\n",
       "<thead>\n",
       "\t<tr><th scope=col>Chr</th><th scope=col>SNP_data</th><th scope=col>methylation_data</th><th scope=col>last_meth_value_with_SNP_coverage</th><th scope=col>first_meth_value_with_SNP_coverage</th><th scope=col>last_meth_index_with_SNP_coverage</th><th scope=col>first_meth_index_with_SNP_coverage</th><th scope=col>subpopulation</th><th scope=col>brain_region</th><th scope=col>population</th><th scope=col>region</th><th scope=col>cov_file</th><th scope=col>cov_file2</th><th scope=col>cov_file3</th><th scope=col>cov_file4</th></tr>\n",
       "\t<tr><th scope=col>&lt;int&gt;</th><th scope=col>&lt;chr&gt;</th><th scope=col>&lt;chr&gt;</th><th scope=col>&lt;int&gt;</th><th scope=col>&lt;int&gt;</th><th scope=col>&lt;int&gt;</th><th scope=col>&lt;int&gt;</th><th scope=col>&lt;chr&gt;</th><th scope=col>&lt;chr&gt;</th><th scope=col>&lt;chr&gt;</th><th scope=col>&lt;chr&gt;</th><th scope=col>&lt;chr&gt;</th><th scope=col>&lt;chr&gt;</th><th scope=col>&lt;chr&gt;</th><th scope=col>&lt;chr&gt;</th></tr>\n",
       "</thead>\n",
       "<tbody>\n",
       "\t<tr><td>7</td><td>/expanse/lustre/projects/jhu152/naglemi/mwas/gwas//libd_chr7.pgen</td><td>/expanse/lustre/projects/jhu152/naglemi/mwas/pheno/caud/out/chr7_all.rda</td><td>159334659</td><td>49742</td><td>1490198</td><td>1</td><td>all</td><td>caud</td><td>all</td><td>caud</td><td>/expanse/lustre/projects/jhu152/naglemi/mwas/full_covariates_a2/all_caud.csv</td><td>/expanse/lustre/projects/jhu152/naglemi/mwas/full_covariates_a2/all_caud-no-meth.csv</td><td>/expanse/lustre/projects/jhu152/naglemi/mwas/full_covariates_a2/all_caud-no-meth-no-dx.csv</td><td>/expanse/lustre/projects/jhu152/naglemi/mwas/full_covariates_a2/all_caud-no-dx.csv</td></tr>\n",
       "</tbody>\n",
       "</table>\n"
      ],
      "text/latex": [
       "A data.table: 1 × 15\n",
       "\\begin{tabular}{lllllllllllllll}\n",
       " Chr & SNP\\_data & methylation\\_data & last\\_meth\\_value\\_with\\_SNP\\_coverage & first\\_meth\\_value\\_with\\_SNP\\_coverage & last\\_meth\\_index\\_with\\_SNP\\_coverage & first\\_meth\\_index\\_with\\_SNP\\_coverage & subpopulation & brain\\_region & population & region & cov\\_file & cov\\_file2 & cov\\_file3 & cov\\_file4\\\\\n",
       " <int> & <chr> & <chr> & <int> & <int> & <int> & <int> & <chr> & <chr> & <chr> & <chr> & <chr> & <chr> & <chr> & <chr>\\\\\n",
       "\\hline\n",
       "\t 7 & /expanse/lustre/projects/jhu152/naglemi/mwas/gwas//libd\\_chr7.pgen & /expanse/lustre/projects/jhu152/naglemi/mwas/pheno/caud/out/chr7\\_all.rda & 159334659 & 49742 & 1490198 & 1 & all & caud & all & caud & /expanse/lustre/projects/jhu152/naglemi/mwas/full\\_covariates\\_a2/all\\_caud.csv & /expanse/lustre/projects/jhu152/naglemi/mwas/full\\_covariates\\_a2/all\\_caud-no-meth.csv & /expanse/lustre/projects/jhu152/naglemi/mwas/full\\_covariates\\_a2/all\\_caud-no-meth-no-dx.csv & /expanse/lustre/projects/jhu152/naglemi/mwas/full\\_covariates\\_a2/all\\_caud-no-dx.csv\\\\\n",
       "\\end{tabular}\n"
      ],
      "text/markdown": [
       "\n",
       "A data.table: 1 × 15\n",
       "\n",
       "| Chr &lt;int&gt; | SNP_data &lt;chr&gt; | methylation_data &lt;chr&gt; | last_meth_value_with_SNP_coverage &lt;int&gt; | first_meth_value_with_SNP_coverage &lt;int&gt; | last_meth_index_with_SNP_coverage &lt;int&gt; | first_meth_index_with_SNP_coverage &lt;int&gt; | subpopulation &lt;chr&gt; | brain_region &lt;chr&gt; | population &lt;chr&gt; | region &lt;chr&gt; | cov_file &lt;chr&gt; | cov_file2 &lt;chr&gt; | cov_file3 &lt;chr&gt; | cov_file4 &lt;chr&gt; |\n",
       "|---|---|---|---|---|---|---|---|---|---|---|---|---|---|---|\n",
       "| 7 | /expanse/lustre/projects/jhu152/naglemi/mwas/gwas//libd_chr7.pgen | /expanse/lustre/projects/jhu152/naglemi/mwas/pheno/caud/out/chr7_all.rda | 159334659 | 49742 | 1490198 | 1 | all | caud | all | caud | /expanse/lustre/projects/jhu152/naglemi/mwas/full_covariates_a2/all_caud.csv | /expanse/lustre/projects/jhu152/naglemi/mwas/full_covariates_a2/all_caud-no-meth.csv | /expanse/lustre/projects/jhu152/naglemi/mwas/full_covariates_a2/all_caud-no-meth-no-dx.csv | /expanse/lustre/projects/jhu152/naglemi/mwas/full_covariates_a2/all_caud-no-dx.csv |\n",
       "\n"
      ],
      "text/plain": [
       "  Chr SNP_data                                                         \n",
       "1 7   /expanse/lustre/projects/jhu152/naglemi/mwas/gwas//libd_chr7.pgen\n",
       "  methylation_data                                                        \n",
       "1 /expanse/lustre/projects/jhu152/naglemi/mwas/pheno/caud/out/chr7_all.rda\n",
       "  last_meth_value_with_SNP_coverage first_meth_value_with_SNP_coverage\n",
       "1 159334659                         49742                             \n",
       "  last_meth_index_with_SNP_coverage first_meth_index_with_SNP_coverage\n",
       "1 1490198                           1                                 \n",
       "  subpopulation brain_region population region\n",
       "1 all           caud         all        caud  \n",
       "  cov_file                                                                    \n",
       "1 /expanse/lustre/projects/jhu152/naglemi/mwas/full_covariates_a2/all_caud.csv\n",
       "  cov_file2                                                                           \n",
       "1 /expanse/lustre/projects/jhu152/naglemi/mwas/full_covariates_a2/all_caud-no-meth.csv\n",
       "  cov_file3                                                                                 \n",
       "1 /expanse/lustre/projects/jhu152/naglemi/mwas/full_covariates_a2/all_caud-no-meth-no-dx.csv\n",
       "  cov_file4                                                                         \n",
       "1 /expanse/lustre/projects/jhu152/naglemi/mwas/full_covariates_a2/all_caud-no-dx.csv"
      ]
     },
     "metadata": {},
     "output_type": "display_data"
    }
   ],
   "source": [
    "df"
   ]
  },
  {
   "cell_type": "code",
   "execution_count": 11,
   "id": "e3010894-c5e0-4875-a695-302ed787be90",
   "metadata": {},
   "outputs": [],
   "source": [
    "i <- 1"
   ]
  },
  {
   "cell_type": "code",
   "execution_count": 12,
   "id": "522b7988-f517-454d-90d5-4e6a51f49380",
   "metadata": {},
   "outputs": [
    {
     "data": {
      "text/html": [
       "<table class=\"dataframe\">\n",
       "<caption>A data.table: 1 × 15</caption>\n",
       "<thead>\n",
       "\t<tr><th scope=col>Chr</th><th scope=col>SNP_data</th><th scope=col>methylation_data</th><th scope=col>last_meth_value_with_SNP_coverage</th><th scope=col>first_meth_value_with_SNP_coverage</th><th scope=col>last_meth_index_with_SNP_coverage</th><th scope=col>first_meth_index_with_SNP_coverage</th><th scope=col>subpopulation</th><th scope=col>brain_region</th><th scope=col>population</th><th scope=col>region</th><th scope=col>cov_file</th><th scope=col>cov_file2</th><th scope=col>cov_file3</th><th scope=col>cov_file4</th></tr>\n",
       "\t<tr><th scope=col>&lt;int&gt;</th><th scope=col>&lt;chr&gt;</th><th scope=col>&lt;chr&gt;</th><th scope=col>&lt;int&gt;</th><th scope=col>&lt;int&gt;</th><th scope=col>&lt;int&gt;</th><th scope=col>&lt;int&gt;</th><th scope=col>&lt;chr&gt;</th><th scope=col>&lt;chr&gt;</th><th scope=col>&lt;chr&gt;</th><th scope=col>&lt;chr&gt;</th><th scope=col>&lt;chr&gt;</th><th scope=col>&lt;chr&gt;</th><th scope=col>&lt;chr&gt;</th><th scope=col>&lt;chr&gt;</th></tr>\n",
       "</thead>\n",
       "<tbody>\n",
       "\t<tr><td>7</td><td>/expanse/lustre/projects/jhu152/naglemi/mwas/gwas//libd_chr7.pgen</td><td>/expanse/lustre/projects/jhu152/naglemi/mwas/pheno/caud/out/chr7_all.rda</td><td>159334659</td><td>49742</td><td>1490198</td><td>1</td><td>all</td><td>caud</td><td>all</td><td>caud</td><td>/expanse/lustre/projects/jhu152/naglemi/mwas/full_covariates_a2/all_caud.csv</td><td>/expanse/lustre/projects/jhu152/naglemi/mwas/full_covariates_a2/all_caud-no-meth.csv</td><td>/expanse/lustre/projects/jhu152/naglemi/mwas/full_covariates_a2/all_caud-no-meth-no-dx.csv</td><td>/expanse/lustre/projects/jhu152/naglemi/mwas/full_covariates_a2/all_caud-no-dx.csv</td></tr>\n",
       "</tbody>\n",
       "</table>\n"
      ],
      "text/latex": [
       "A data.table: 1 × 15\n",
       "\\begin{tabular}{lllllllllllllll}\n",
       " Chr & SNP\\_data & methylation\\_data & last\\_meth\\_value\\_with\\_SNP\\_coverage & first\\_meth\\_value\\_with\\_SNP\\_coverage & last\\_meth\\_index\\_with\\_SNP\\_coverage & first\\_meth\\_index\\_with\\_SNP\\_coverage & subpopulation & brain\\_region & population & region & cov\\_file & cov\\_file2 & cov\\_file3 & cov\\_file4\\\\\n",
       " <int> & <chr> & <chr> & <int> & <int> & <int> & <int> & <chr> & <chr> & <chr> & <chr> & <chr> & <chr> & <chr> & <chr>\\\\\n",
       "\\hline\n",
       "\t 7 & /expanse/lustre/projects/jhu152/naglemi/mwas/gwas//libd\\_chr7.pgen & /expanse/lustre/projects/jhu152/naglemi/mwas/pheno/caud/out/chr7\\_all.rda & 159334659 & 49742 & 1490198 & 1 & all & caud & all & caud & /expanse/lustre/projects/jhu152/naglemi/mwas/full\\_covariates\\_a2/all\\_caud.csv & /expanse/lustre/projects/jhu152/naglemi/mwas/full\\_covariates\\_a2/all\\_caud-no-meth.csv & /expanse/lustre/projects/jhu152/naglemi/mwas/full\\_covariates\\_a2/all\\_caud-no-meth-no-dx.csv & /expanse/lustre/projects/jhu152/naglemi/mwas/full\\_covariates\\_a2/all\\_caud-no-dx.csv\\\\\n",
       "\\end{tabular}\n"
      ],
      "text/markdown": [
       "\n",
       "A data.table: 1 × 15\n",
       "\n",
       "| Chr &lt;int&gt; | SNP_data &lt;chr&gt; | methylation_data &lt;chr&gt; | last_meth_value_with_SNP_coverage &lt;int&gt; | first_meth_value_with_SNP_coverage &lt;int&gt; | last_meth_index_with_SNP_coverage &lt;int&gt; | first_meth_index_with_SNP_coverage &lt;int&gt; | subpopulation &lt;chr&gt; | brain_region &lt;chr&gt; | population &lt;chr&gt; | region &lt;chr&gt; | cov_file &lt;chr&gt; | cov_file2 &lt;chr&gt; | cov_file3 &lt;chr&gt; | cov_file4 &lt;chr&gt; |\n",
       "|---|---|---|---|---|---|---|---|---|---|---|---|---|---|---|\n",
       "| 7 | /expanse/lustre/projects/jhu152/naglemi/mwas/gwas//libd_chr7.pgen | /expanse/lustre/projects/jhu152/naglemi/mwas/pheno/caud/out/chr7_all.rda | 159334659 | 49742 | 1490198 | 1 | all | caud | all | caud | /expanse/lustre/projects/jhu152/naglemi/mwas/full_covariates_a2/all_caud.csv | /expanse/lustre/projects/jhu152/naglemi/mwas/full_covariates_a2/all_caud-no-meth.csv | /expanse/lustre/projects/jhu152/naglemi/mwas/full_covariates_a2/all_caud-no-meth-no-dx.csv | /expanse/lustre/projects/jhu152/naglemi/mwas/full_covariates_a2/all_caud-no-dx.csv |\n",
       "\n"
      ],
      "text/plain": [
       "  Chr SNP_data                                                         \n",
       "1 7   /expanse/lustre/projects/jhu152/naglemi/mwas/gwas//libd_chr7.pgen\n",
       "  methylation_data                                                        \n",
       "1 /expanse/lustre/projects/jhu152/naglemi/mwas/pheno/caud/out/chr7_all.rda\n",
       "  last_meth_value_with_SNP_coverage first_meth_value_with_SNP_coverage\n",
       "1 159334659                         49742                             \n",
       "  last_meth_index_with_SNP_coverage first_meth_index_with_SNP_coverage\n",
       "1 1490198                           1                                 \n",
       "  subpopulation brain_region population region\n",
       "1 all           caud         all        caud  \n",
       "  cov_file                                                                    \n",
       "1 /expanse/lustre/projects/jhu152/naglemi/mwas/full_covariates_a2/all_caud.csv\n",
       "  cov_file2                                                                           \n",
       "1 /expanse/lustre/projects/jhu152/naglemi/mwas/full_covariates_a2/all_caud-no-meth.csv\n",
       "  cov_file3                                                                                 \n",
       "1 /expanse/lustre/projects/jhu152/naglemi/mwas/full_covariates_a2/all_caud-no-meth-no-dx.csv\n",
       "  cov_file4                                                                         \n",
       "1 /expanse/lustre/projects/jhu152/naglemi/mwas/full_covariates_a2/all_caud-no-dx.csv"
      ]
     },
     "metadata": {},
     "output_type": "display_data"
    }
   ],
   "source": [
    "df[1, ]"
   ]
  },
  {
   "cell_type": "code",
   "execution_count": 13,
   "id": "22de2603-481a-4995-8991-1f6f64989e3d",
   "metadata": {},
   "outputs": [],
   "source": [
    "set.seed(2018)\n",
    "wind <- c(10000)\n",
    "# output directory\n",
    "#outd <- \"/dcl02/lieber/shan/shizhong/finemapping/GWAS/tags/scz3/mwas/chr22/1/\"\n",
    "outd <- \"20-OUT_original_mwas_sanity_test/\""
   ]
  },
  {
   "cell_type": "markdown",
   "id": "d7711c4d-5f19-4fd0-9f7b-891133ac3311",
   "metadata": {},
   "source": [
    "## Functions"
   ]
  },
  {
   "cell_type": "markdown",
   "id": "655b95b9-bbcb-4ae8-8914-cf36149e10e1",
   "metadata": {},
   "source": [
    "### Shizhong's original"
   ]
  },
  {
   "cell_type": "code",
   "execution_count": 14,
   "id": "be729eb2-c5b2-4d3e-b835-072d8f5ba2e6",
   "metadata": {},
   "outputs": [],
   "source": [
    "###### model: learn elastic net model on training data \n",
    "######---------Input: trainX, trainY\n",
    "######---------Return: selected features and coefficents\n",
    "\n",
    "# original\n",
    "# elastic.net <- function(trainX,trainY){\n",
    "#     if(nrow(trainX)!=length(trainY)){\n",
    "#             stop(\"Number of observations is differerent\")\n",
    "#     } \n",
    "\n",
    "#     # optimize alpha---mixing parameter  \n",
    "#     a <- 0.5\n",
    "#     search <- foreach(ai = a, .combine = rbind) %dopar% {\n",
    "#         cv.fit <- cv.glmnet(\n",
    "#                         trainX,\n",
    "#                         trainY,\n",
    "#                         nfold = 5,\n",
    "#                         type.measure = \"mse\",\n",
    "#                         paralle = TRUE,\n",
    "#                         alpha = ai\n",
    "#                         )\n",
    "#         data.frame(\n",
    "#                         cvm = min(cv.fit$cvm),\n",
    "#                         lambda = cv.fit$lambda.min,\n",
    "#                         alpha = ai\n",
    "#                         )\n",
    "#         } \n",
    "#     cv.opt <- search[search$cvm == min(search$cvm),] \n",
    "\n",
    "#         # fit model by optimized alpha and lambda\n",
    "#         yfit = glmnet(\n",
    "#         trainX,\n",
    "#         trainY,\n",
    "#         lambda = cv.opt$lambda,\n",
    "#         alpha = cv.opt$alpha\n",
    "#                 )       \n",
    "#         idf <- coef(yfit)\n",
    "#         idx <- which(idf != 0)\n",
    "#         selectf <- data.frame(\n",
    "#                 features = idf@Dimnames[[1]][idx], \n",
    "#                 coefs = idf [idx]\n",
    "#         )\n",
    "# }\n",
    "\n",
    "MWAS <- function(gwas, weight, geno){\n",
    "        z <- gwas %*% weight\n",
    "        z.cor <- cor(geno)\n",
    "        se <- sqrt(weight %*%  z.cor %*%  weight)\n",
    "        z <- z/se\n",
    "        p=pnorm(abs(z),lower.tail=F)*2\n",
    "        return(c(z, p))\n",
    "}"
   ]
  },
  {
   "cell_type": "markdown",
   "id": "52a2753a-ebee-4587-9fa2-1d33f878f68f",
   "metadata": {},
   "source": [
    "#### Modified `elastic.net` to use `lambda.1se`"
   ]
  },
  {
   "cell_type": "code",
   "execution_count": 15,
   "id": "e2a06b13-9a13-4caa-8436-9a05a0f53035",
   "metadata": {},
   "outputs": [],
   "source": [
    "# modified to use lambda 1se and appropriate cvm\n",
    "elastic.net <- function(trainX,trainY, lambda.choice = \"1se\"){\n",
    "    if(nrow(trainX)!=length(trainY)){\n",
    "            stop(\"Number of observations is differerent\")\n",
    "    } \n",
    "\n",
    "    # optimize alpha---mixing parameter  \n",
    "    a <- 0.5\n",
    "    search <- foreach(ai = a, .combine = rbind) %dopar% {\n",
    "        #set.seed(42)\n",
    "        cv.fit <- cv.glmnet(\n",
    "                        trainX,\n",
    "                        trainY,\n",
    "                        nfold = 5,\n",
    "                        type.measure = \"mse\",\n",
    "                        parallel = TRUE,\n",
    "                        alpha = ai\n",
    "                        )\n",
    "        #print(paste0(\"Dim of trainX: \", dim(trainX)))\n",
    "        #print(paste0(\"Len of trainY: \", length(trainY)))\n",
    "        coef_matrix <- as.matrix(coef(cv.fit))\n",
    "\n",
    "        if(lambda.choice == \"1se\"){\n",
    "            chosen_lambda <- cv.fit$lambda.1se\n",
    "            chosen_cvm <- cv.fit$cvm[cv.fit$lambda == cv.fit$lambda.1se]\n",
    "        }\n",
    "        if(lambda.choice == \"min\"){\n",
    "            chosen_lambda <- cv.fit$lambda.min\n",
    "            chosen_cvm <- min(cv.fit$cvm)\n",
    "        }\n",
    "\n",
    "\n",
    "        data.frame(\n",
    "                        cvm = chosen_cvm,\n",
    "                        lambda = chosen_lambda,\n",
    "                        alpha = ai\n",
    "                        )\n",
    "        } \n",
    "    cv.opt <- search[search$cvm == min(search$cvm),] \n",
    "\n",
    "        # fit model by optimized alpha and lambda\n",
    "    #set.seed(42)\n",
    "    yfit <- glmnet(\n",
    "    trainX,\n",
    "    trainY,\n",
    "    lambda = cv.opt$lambda,\n",
    "    alpha = cv.opt$alpha)\n",
    "\n",
    "    idf <- coef(yfit)\n",
    "    idx <- which(idf != 0)\n",
    "    selectf <- data.frame(\n",
    "            features = idf@Dimnames[[1]][idx], \n",
    "            coefs = idf [idx]\n",
    "    )\n",
    "}"
   ]
  },
  {
   "cell_type": "code",
   "execution_count": 16,
   "id": "c61851b6-5956-4c88-beff-413929873770",
   "metadata": {},
   "outputs": [],
   "source": [
    "# version using for loop for easier debugging\n",
    "\n",
    "elastic.net <- function(trainX, trainY, lambda.choice = \"1se\") {\n",
    "    if (nrow(trainX) != length(trainY)) {\n",
    "        stop(\"Number of observations is different\")\n",
    "    }\n",
    "\n",
    "    a <- 0.5\n",
    "    search <- NULL\n",
    "\n",
    "    for (ai in a) {\n",
    "        cv.fit <- cv.glmnet(\n",
    "            trainX,\n",
    "            trainY,\n",
    "            nfold = 5,\n",
    "            type.measure = \"mse\",\n",
    "            parallel = FALSE,\n",
    "            alpha = ai\n",
    "        )\n",
    "        coef_matrix <- as.matrix(coef(cv.fit))\n",
    "\n",
    "        if (lambda.choice == \"1se\") {\n",
    "            chosen_lambda <- cv.fit$lambda.1se\n",
    "            chosen_cvm <- cv.fit$cvm[cv.fit$lambda == cv.fit$lambda.1se]\n",
    "        }\n",
    "        if (lambda.choice == \"min\") {\n",
    "            chosen_lambda <- cv.fit$lambda.min\n",
    "            chosen_cvm <- min(cv.fit$cvm)\n",
    "        }\n",
    "\n",
    "        search <- rbind(\n",
    "            search,\n",
    "            data.frame(\n",
    "                cvm = chosen_cvm,\n",
    "                lambda = chosen_lambda,\n",
    "                alpha = ai\n",
    "            )\n",
    "        )\n",
    "    }\n",
    "\n",
    "    cv.opt <- search[search$cvm == min(search$cvm),]\n",
    "\n",
    "    yfit <- glmnet(\n",
    "        trainX,\n",
    "        trainY,\n",
    "        lambda = cv.opt$lambda,\n",
    "        alpha = cv.opt$alpha\n",
    "    )\n",
    "\n",
    "    idf <- coef(yfit)\n",
    "    idx <- which(idf != 0)\n",
    "    selectf <- data.frame(\n",
    "        features = idf@Dimnames[[1]][idx],\n",
    "        coefs = idf[idx]\n",
    "    )\n",
    "}\n"
   ]
  },
  {
   "cell_type": "markdown",
   "id": "3a0ea432-3ac3-4077-ae61-c3a029004096",
   "metadata": {},
   "source": [
    "## Replace all old objects with new objects in same format"
   ]
  },
  {
   "cell_type": "markdown",
   "id": "18332543-6f7a-40d8-b894-9562a6ac7457",
   "metadata": {},
   "source": [
    "### Methylation data"
   ]
  },
  {
   "cell_type": "code",
   "execution_count": 17,
   "id": "f9b051aa-a1e5-421b-856d-718cf85c24a3",
   "metadata": {
    "scrolled": true
   },
   "outputs": [
    {
     "name": "stderr",
     "output_type": "stream",
     "text": [
      "Loading required package: BiocGenerics\n",
      "\n",
      "\n",
      "Attaching package: ‘BiocGenerics’\n",
      "\n",
      "\n",
      "The following objects are masked from ‘package:stats’:\n",
      "\n",
      "    IQR, mad, sd, var, xtabs\n",
      "\n",
      "\n",
      "The following objects are masked from ‘package:base’:\n",
      "\n",
      "    anyDuplicated, aperm, append, as.data.frame, basename, cbind,\n",
      "    colnames, dirname, do.call, duplicated, eval, evalq, Filter, Find,\n",
      "    get, grep, grepl, intersect, is.unsorted, lapply, Map, mapply,\n",
      "    match, mget, order, paste, pmax, pmax.int, pmin, pmin.int,\n",
      "    Position, rank, rbind, Reduce, rownames, sapply, setdiff, sort,\n",
      "    table, tapply, union, unique, unsplit, which.max, which.min\n",
      "\n",
      "\n",
      "Loading required package: GenomicRanges\n",
      "\n",
      "Loading required package: stats4\n",
      "\n",
      "Loading required package: S4Vectors\n",
      "\n",
      "\n",
      "Attaching package: ‘S4Vectors’\n",
      "\n",
      "\n",
      "The following objects are masked from ‘package:data.table’:\n",
      "\n",
      "    first, second\n",
      "\n",
      "\n",
      "The following objects are masked from ‘package:Matrix’:\n",
      "\n",
      "    expand, unname\n",
      "\n",
      "\n",
      "The following object is masked from ‘package:utils’:\n",
      "\n",
      "    findMatches\n",
      "\n",
      "\n",
      "The following objects are masked from ‘package:base’:\n",
      "\n",
      "    expand.grid, I, unname\n",
      "\n",
      "\n",
      "Loading required package: IRanges\n",
      "\n",
      "\n",
      "Attaching package: ‘IRanges’\n",
      "\n",
      "\n",
      "The following object is masked from ‘package:data.table’:\n",
      "\n",
      "    shift\n",
      "\n",
      "\n",
      "Loading required package: GenomeInfoDb\n",
      "\n",
      "Loading required package: SummarizedExperiment\n",
      "\n",
      "Loading required package: MatrixGenerics\n",
      "\n",
      "Loading required package: matrixStats\n",
      "\n",
      "\n",
      "Attaching package: ‘MatrixGenerics’\n",
      "\n",
      "\n",
      "The following objects are masked from ‘package:matrixStats’:\n",
      "\n",
      "    colAlls, colAnyNAs, colAnys, colAvgsPerRowSet, colCollapse,\n",
      "    colCounts, colCummaxs, colCummins, colCumprods, colCumsums,\n",
      "    colDiffs, colIQRDiffs, colIQRs, colLogSumExps, colMadDiffs,\n",
      "    colMads, colMaxs, colMeans2, colMedians, colMins, colOrderStats,\n",
      "    colProds, colQuantiles, colRanges, colRanks, colSdDiffs, colSds,\n",
      "    colSums2, colTabulates, colVarDiffs, colVars, colWeightedMads,\n",
      "    colWeightedMeans, colWeightedMedians, colWeightedSds,\n",
      "    colWeightedVars, rowAlls, rowAnyNAs, rowAnys, rowAvgsPerColSet,\n",
      "    rowCollapse, rowCounts, rowCummaxs, rowCummins, rowCumprods,\n",
      "    rowCumsums, rowDiffs, rowIQRDiffs, rowIQRs, rowLogSumExps,\n",
      "    rowMadDiffs, rowMads, rowMaxs, rowMeans2, rowMedians, rowMins,\n",
      "    rowOrderStats, rowProds, rowQuantiles, rowRanges, rowRanks,\n",
      "    rowSdDiffs, rowSds, rowSums2, rowTabulates, rowVarDiffs, rowVars,\n",
      "    rowWeightedMads, rowWeightedMeans, rowWeightedMedians,\n",
      "    rowWeightedSds, rowWeightedVars\n",
      "\n",
      "\n",
      "Loading required package: Biobase\n",
      "\n",
      "Welcome to Bioconductor\n",
      "\n",
      "    Vignettes contain introductory material; view with\n",
      "    'browseVignettes()'. To cite Bioconductor, see\n",
      "    'citation(\"Biobase\")', and for packages 'citation(\"pkgname\")'.\n",
      "\n",
      "\n",
      "\n",
      "Attaching package: ‘Biobase’\n",
      "\n",
      "\n",
      "The following object is masked from ‘package:MatrixGenerics’:\n",
      "\n",
      "    rowMedians\n",
      "\n",
      "\n",
      "The following objects are masked from ‘package:matrixStats’:\n",
      "\n",
      "    anyMissing, rowMedians\n",
      "\n",
      "\n"
     ]
    }
   ],
   "source": [
    "suppressWarnings(library(bsseq))"
   ]
  },
  {
   "cell_type": "code",
   "execution_count": 18,
   "id": "8a871cb8-d71d-4f62-8d5e-70b79bb1c1c8",
   "metadata": {},
   "outputs": [],
   "source": [
    "# # # The code in this block is for NEW methylation data, which can be for any chromosome or portion\n",
    "\n",
    "# # # load data for mwas\n",
    "# # # load(\"./rda/caudate_mwas_data_chr22.rda\")\n",
    "# load(df$methylation_data[i])\n",
    "\n",
    "# p <- getMeth(BSobj2)\n",
    "\n",
    "\n",
    "# rownames(p) <- start(BSobj2)\n",
    "\n",
    "# if(sites_to_test_pos[1] == \"random\"){\n",
    "#     sites_to_test_pos <- sample(start(BSobj2), n_samples)\n",
    "# } else {\n",
    "#     sites_to_test_pos <- start(BSobj2)[which(start(BSobj2) >= min_site_to_test_pos & start(BSobj2) <= max_site_to_test_pos)]\n",
    "# }\n",
    "\n",
    "# sites_to_test <- which(start(BSobj2) %in% sites_to_test_pos)\n",
    "# p <- p[sites_to_test, ]\n",
    "# cg <- as.numeric(rownames(p))"
   ]
  },
  {
   "cell_type": "code",
   "execution_count": 19,
   "id": "d690f701-eb0b-4aaa-8533-9f792f37d785",
   "metadata": {},
   "outputs": [],
   "source": [
    "# length(sites_to_test_pos)"
   ]
  },
  {
   "cell_type": "code",
   "execution_count": 20,
   "id": "de6de2b3-60bb-4611-8632-d930efce4fe3",
   "metadata": {},
   "outputs": [],
   "source": [
    "# head(sites_to_test_pos)"
   ]
  },
  {
   "cell_type": "markdown",
   "id": "892e5592-48be-4854-b932-5d43a9d27791",
   "metadata": {},
   "source": [
    "Subset our p object to the same sites as the old one, compare values"
   ]
  },
  {
   "cell_type": "code",
   "execution_count": 21,
   "id": "067bd47b-6d87-4707-be4f-2f48e4382517",
   "metadata": {},
   "outputs": [
    {
     "name": "stdout",
     "output_type": "stream",
     "text": [
      "Loading objects:\n",
      "  BSsample\n",
      "Loading objects:\n",
      "  snp.gwas2\n",
      "  snp.1kg.eur2\n",
      "  map.1kg.eur2\n",
      "  snp2\n",
      "  map2\n",
      "  p\n",
      "  BSsample\n"
     ]
    }
   ],
   "source": [
    "# Old dataset\n",
    "load(\"BSsample.rda\", verbose = TRUE) # we get the @colData attribute as a data.frame here\n",
    "load(\"p1.rda\", verbose = TRUE) # and the p matrix from getMeth() here\n",
    "\n",
    "BSobj2 <- BSsample\n",
    "cg <- as.numeric(rownames(p)) # This line same whether we use old or new version\n",
    "sites_to_test_pos <- cg"
   ]
  },
  {
   "cell_type": "markdown",
   "id": "6063581e-a107-4977-93d7-836f1da57078",
   "metadata": {},
   "source": [
    "### covariates"
   ]
  },
  {
   "cell_type": "code",
   "execution_count": 22,
   "id": "cc499656-ec9a-45cd-ad05-b17e957eaaa6",
   "metadata": {},
   "outputs": [],
   "source": [
    "# #The code in this block is for NEW covariate data\n",
    "\n",
    "# covs <- fread(df$cov_file[i])\n",
    "# covs <- t(covs)\n",
    "# colnames(covs) <- covs[1, ]\n",
    "# covs <- covs[2:nrow(covs), ]\n",
    "# # transpose so we have same orientation as original code"
   ]
  },
  {
   "cell_type": "code",
   "execution_count": 23,
   "id": "b73eadb7-0f96-4f46-bafc-1e9ad864613d",
   "metadata": {},
   "outputs": [],
   "source": [
    "# This is the OLD covariate data\n",
    "\n",
    "load(\"covs_for_meqtl.rda\")"
   ]
  },
  {
   "cell_type": "markdown",
   "id": "72219907-d534-4523-a369-853077888b38",
   "metadata": {},
   "source": [
    "### Regress methylation data over covariates"
   ]
  },
  {
   "cell_type": "code",
   "execution_count": 24,
   "id": "85527835-9e3f-4ba9-a645-5330564e0b7c",
   "metadata": {},
   "outputs": [],
   "source": [
    "BSobj2$brnum <- gsub(\"Br0\", \"Br\", BSobj2$brnum)\n",
    "colnames(covs) <- gsub(\"Br0\", \"Br\", colnames(covs))"
   ]
  },
  {
   "cell_type": "code",
   "execution_count": 25,
   "id": "8899261b-73fb-430e-bcdb-143fc8f04670",
   "metadata": {},
   "outputs": [],
   "source": [
    "mat <- match(BSobj2$brnum,colnames(covs)) \n",
    "covs <- t(covs[,mat])\n",
    "p.residual=matrix(NA,dim(p)[1],dim(p)[2])"
   ]
  },
  {
   "cell_type": "code",
   "execution_count": 26,
   "id": "35031e54-4c54-4a37-9997-99b57efa86bf",
   "metadata": {},
   "outputs": [],
   "source": [
    "# This is something we only need to do for new covariates\n",
    "if(\"genoPC1\" %in% colnames(covs)){\n",
    "    rownames(covs)[is.na(covs[, 'genoPC1'])] <- BSobj2$brnum[is.na(covs[, 'genoPC1'])]\n",
    "}"
   ]
  },
  {
   "cell_type": "code",
   "execution_count": 27,
   "id": "70bda030-7a89-4dff-8c61-f576badfd8bd",
   "metadata": {},
   "outputs": [],
   "source": [
    "colnames(p.residual) <- BSobj2$brnum"
   ]
  },
  {
   "cell_type": "code",
   "execution_count": 28,
   "id": "78ee80f1-d9ea-46b0-b37a-dfeed3dbdf97",
   "metadata": {},
   "outputs": [],
   "source": [
    "covs <- as.data.frame(covs)\n",
    "# Convert all columns except Dx and Sex from character to numeric\n",
    "cols_to_convert <- setdiff(names(covs), c(\"Dx\", \"Sex\"))\n",
    "\n",
    "for (col in cols_to_convert) {\n",
    "  covs[[col]] <- as.numeric(covs[[col]])\n",
    "}\n",
    "\n",
    "# Print the modified data frame to check the conversion\n",
    "#print(dat)\n"
   ]
  },
  {
   "cell_type": "code",
   "execution_count": 29,
   "id": "db709d51-494c-431c-8327-9348dbf0419c",
   "metadata": {},
   "outputs": [],
   "source": [
    "for (i in 1:dim(p)[1]) { # For each methylation site\n",
    "    dat <- as.data.frame(cbind(y = p[i,], covs))\n",
    "    \n",
    "    # Check for rows with NAs (the ones for which we don't have covariate data)\n",
    "    valid_rows <- complete.cases(dat)\n",
    "    \n",
    "    if (sum(valid_rows) > 0) {\n",
    "        dat_valid <- dat[valid_rows,]\n",
    "        model.res <- lm(y ~ ., data = dat_valid)\n",
    "        \n",
    "        # Store residuals in the corresponding positions\n",
    "        p.residual[i, valid_rows] <- resid(model.res)\n",
    "    }\n",
    "}\n",
    "\n",
    "\n",
    "# for(i in 1:dim(p)[1]){ # foro each methylation site\n",
    "#         dat <- as.data.frame(cbind(p[i,],covs))\n",
    "#         colnames(dat) <- c(\"y\",paste0(\"x\",1:ncol(covs)))\n",
    "#         model.res <- lm(reformulate(paste0(\"x\",1:ncol(covs)), \"y\"),dat)\n",
    "#         p.residual[i,] = resid(model.res) \n",
    "# }"
   ]
  },
  {
   "cell_type": "code",
   "execution_count": 30,
   "id": "dee072f8-010e-4618-806c-b5e66018bc81",
   "metadata": {},
   "outputs": [
    {
     "data": {
      "text/html": [
       "<style>\n",
       ".list-inline {list-style: none; margin:0; padding: 0}\n",
       ".list-inline>li {display: inline-block}\n",
       ".list-inline>li:not(:last-child)::after {content: \"\\00b7\"; padding: 0 .5ex}\n",
       "</style>\n",
       "<ol class=list-inline><li>330</li><li>308</li></ol>\n"
      ],
      "text/latex": [
       "\\begin{enumerate*}\n",
       "\\item 330\n",
       "\\item 308\n",
       "\\end{enumerate*}\n"
      ],
      "text/markdown": [
       "1. 330\n",
       "2. 308\n",
       "\n",
       "\n"
      ],
      "text/plain": [
       "[1] 330 308"
      ]
     },
     "metadata": {},
     "output_type": "display_data"
    }
   ],
   "source": [
    "dim(p.residual)"
   ]
  },
  {
   "cell_type": "code",
   "execution_count": 31,
   "id": "4f866dd6-16c6-4803-9c21-c70e4b931e66",
   "metadata": {},
   "outputs": [
    {
     "data": {
      "text/html": [
       "<table class=\"dataframe\">\n",
       "<caption>A matrix: 8 × 8 of type dbl</caption>\n",
       "<thead>\n",
       "\t<tr><th scope=col>Br836</th><th scope=col>Br845</th><th scope=col>Br848</th><th scope=col>Br863</th><th scope=col>Br914</th><th scope=col>Br948</th><th scope=col>Br949</th><th scope=col>Br963</th></tr>\n",
       "</thead>\n",
       "<tbody>\n",
       "\t<tr><td>0.01273526</td><td>0.003955796</td><td>-0.006492196</td><td>-0.003937108</td><td>-0.003108317</td><td>-0.02635100</td><td>-0.01780211</td><td>0.02198214</td></tr>\n",
       "\t<tr><td>0.01244238</td><td>0.004791327</td><td>-0.006684356</td><td>-0.004304248</td><td>-0.002787528</td><td>-0.02590003</td><td>-0.01859511</td><td>0.02199029</td></tr>\n",
       "\t<tr><td>0.01199289</td><td>0.005968815</td><td>-0.006910408</td><td>-0.004612377</td><td>-0.002502153</td><td>-0.02531498</td><td>-0.01932406</td><td>0.02187912</td></tr>\n",
       "\t<tr><td>0.01185321</td><td>0.006292368</td><td>-0.006985009</td><td>-0.004655232</td><td>-0.002462299</td><td>-0.02516852</td><td>-0.01943433</td><td>0.02181896</td></tr>\n",
       "\t<tr><td>0.01165765</td><td>0.006722936</td><td>-0.007091745</td><td>-0.004689633</td><td>-0.002431018</td><td>-0.02498177</td><td>-0.01953200</td><td>0.02172186</td></tr>\n",
       "\t<tr><td>0.01077923</td><td>0.008466136</td><td>-0.007601638</td><td>-0.004627312</td><td>-0.002500745</td><td>-0.02429218</td><td>-0.01948105</td><td>0.02116477</td></tr>\n",
       "\t<tr><td>0.01066253</td><td>0.008680782</td><td>-0.007672761</td><td>-0.004601013</td><td>-0.002526803</td><td>-0.02421065</td><td>-0.01943371</td><td>0.02108082</td></tr>\n",
       "\t<tr><td>0.01035960</td><td>0.009223814</td><td>-0.007860604</td><td>-0.004518253</td><td>-0.002606966</td><td>-0.02400573</td><td>-0.01927932</td><td>0.02085531</td></tr>\n",
       "</tbody>\n",
       "</table>\n"
      ],
      "text/latex": [
       "A matrix: 8 × 8 of type dbl\n",
       "\\begin{tabular}{llllllll}\n",
       " Br836 & Br845 & Br848 & Br863 & Br914 & Br948 & Br949 & Br963\\\\\n",
       "\\hline\n",
       "\t 0.01273526 & 0.003955796 & -0.006492196 & -0.003937108 & -0.003108317 & -0.02635100 & -0.01780211 & 0.02198214\\\\\n",
       "\t 0.01244238 & 0.004791327 & -0.006684356 & -0.004304248 & -0.002787528 & -0.02590003 & -0.01859511 & 0.02199029\\\\\n",
       "\t 0.01199289 & 0.005968815 & -0.006910408 & -0.004612377 & -0.002502153 & -0.02531498 & -0.01932406 & 0.02187912\\\\\n",
       "\t 0.01185321 & 0.006292368 & -0.006985009 & -0.004655232 & -0.002462299 & -0.02516852 & -0.01943433 & 0.02181896\\\\\n",
       "\t 0.01165765 & 0.006722936 & -0.007091745 & -0.004689633 & -0.002431018 & -0.02498177 & -0.01953200 & 0.02172186\\\\\n",
       "\t 0.01077923 & 0.008466136 & -0.007601638 & -0.004627312 & -0.002500745 & -0.02429218 & -0.01948105 & 0.02116477\\\\\n",
       "\t 0.01066253 & 0.008680782 & -0.007672761 & -0.004601013 & -0.002526803 & -0.02421065 & -0.01943371 & 0.02108082\\\\\n",
       "\t 0.01035960 & 0.009223814 & -0.007860604 & -0.004518253 & -0.002606966 & -0.02400573 & -0.01927932 & 0.02085531\\\\\n",
       "\\end{tabular}\n"
      ],
      "text/markdown": [
       "\n",
       "A matrix: 8 × 8 of type dbl\n",
       "\n",
       "| Br836 | Br845 | Br848 | Br863 | Br914 | Br948 | Br949 | Br963 |\n",
       "|---|---|---|---|---|---|---|---|\n",
       "| 0.01273526 | 0.003955796 | -0.006492196 | -0.003937108 | -0.003108317 | -0.02635100 | -0.01780211 | 0.02198214 |\n",
       "| 0.01244238 | 0.004791327 | -0.006684356 | -0.004304248 | -0.002787528 | -0.02590003 | -0.01859511 | 0.02199029 |\n",
       "| 0.01199289 | 0.005968815 | -0.006910408 | -0.004612377 | -0.002502153 | -0.02531498 | -0.01932406 | 0.02187912 |\n",
       "| 0.01185321 | 0.006292368 | -0.006985009 | -0.004655232 | -0.002462299 | -0.02516852 | -0.01943433 | 0.02181896 |\n",
       "| 0.01165765 | 0.006722936 | -0.007091745 | -0.004689633 | -0.002431018 | -0.02498177 | -0.01953200 | 0.02172186 |\n",
       "| 0.01077923 | 0.008466136 | -0.007601638 | -0.004627312 | -0.002500745 | -0.02429218 | -0.01948105 | 0.02116477 |\n",
       "| 0.01066253 | 0.008680782 | -0.007672761 | -0.004601013 | -0.002526803 | -0.02421065 | -0.01943371 | 0.02108082 |\n",
       "| 0.01035960 | 0.009223814 | -0.007860604 | -0.004518253 | -0.002606966 | -0.02400573 | -0.01927932 | 0.02085531 |\n",
       "\n"
      ],
      "text/plain": [
       "     Br836      Br845       Br848        Br863        Br914        Br948      \n",
       "[1,] 0.01273526 0.003955796 -0.006492196 -0.003937108 -0.003108317 -0.02635100\n",
       "[2,] 0.01244238 0.004791327 -0.006684356 -0.004304248 -0.002787528 -0.02590003\n",
       "[3,] 0.01199289 0.005968815 -0.006910408 -0.004612377 -0.002502153 -0.02531498\n",
       "[4,] 0.01185321 0.006292368 -0.006985009 -0.004655232 -0.002462299 -0.02516852\n",
       "[5,] 0.01165765 0.006722936 -0.007091745 -0.004689633 -0.002431018 -0.02498177\n",
       "[6,] 0.01077923 0.008466136 -0.007601638 -0.004627312 -0.002500745 -0.02429218\n",
       "[7,] 0.01066253 0.008680782 -0.007672761 -0.004601013 -0.002526803 -0.02421065\n",
       "[8,] 0.01035960 0.009223814 -0.007860604 -0.004518253 -0.002606966 -0.02400573\n",
       "     Br949       Br963     \n",
       "[1,] -0.01780211 0.02198214\n",
       "[2,] -0.01859511 0.02199029\n",
       "[3,] -0.01932406 0.02187912\n",
       "[4,] -0.01943433 0.02181896\n",
       "[5,] -0.01953200 0.02172186\n",
       "[6,] -0.01948105 0.02116477\n",
       "[7,] -0.01943371 0.02108082\n",
       "[8,] -0.01927932 0.02085531"
      ]
     },
     "metadata": {},
     "output_type": "display_data"
    }
   ],
   "source": [
    "p.residual[1:8, 1:8]"
   ]
  },
  {
   "cell_type": "code",
   "execution_count": 32,
   "id": "10a4df3c-1f1a-40fe-a581-87152b140f03",
   "metadata": {},
   "outputs": [
    {
     "data": {
      "text/html": [
       "0"
      ],
      "text/latex": [
       "0"
      ],
      "text/markdown": [
       "0"
      ],
      "text/plain": [
       "[1] 0"
      ]
     },
     "metadata": {},
     "output_type": "display_data"
    }
   ],
   "source": [
    "sum(is.na(p.residual))"
   ]
  },
  {
   "cell_type": "code",
   "execution_count": 33,
   "id": "991b6c83-60a6-4d2f-9f5e-1d278535aa84",
   "metadata": {},
   "outputs": [
    {
     "data": {
      "text/html": [
       "0"
      ],
      "text/latex": [
       "0"
      ],
      "text/markdown": [
       "0"
      ],
      "text/plain": [
       "[1] 0"
      ]
     },
     "metadata": {},
     "output_type": "display_data"
    },
    {
     "data": {
      "text/html": [
       "0"
      ],
      "text/latex": [
       "0"
      ],
      "text/markdown": [
       "0"
      ],
      "text/plain": [
       "[1] 0"
      ]
     },
     "metadata": {},
     "output_type": "display_data"
    }
   ],
   "source": [
    "sum(rowSums(is.na(p.residual)) == ncol(p.residual))\n",
    "sum(colSums(is.na(p.residual)) == nrow(p.residual))"
   ]
  },
  {
   "cell_type": "code",
   "execution_count": 34,
   "id": "094f14a2-d65d-4c77-8484-12cb5b7e88e2",
   "metadata": {},
   "outputs": [],
   "source": [
    "# p.residual <- p.residual[, colSums(is.na(p.residual)) != nrow(p.residual)]"
   ]
  },
  {
   "cell_type": "code",
   "execution_count": 35,
   "id": "0060e7ba-8818-4986-b23d-03ae8dbb1cda",
   "metadata": {},
   "outputs": [
    {
     "data": {
      "text/html": [
       "0"
      ],
      "text/latex": [
       "0"
      ],
      "text/markdown": [
       "0"
      ],
      "text/plain": [
       "[1] 0"
      ]
     },
     "metadata": {},
     "output_type": "display_data"
    }
   ],
   "source": [
    "sum(is.na(p.residual))"
   ]
  },
  {
   "cell_type": "code",
   "execution_count": 36,
   "id": "f4ad72db-fe27-4676-8da6-46222519a095",
   "metadata": {},
   "outputs": [],
   "source": [
    "snp.gwas2 <- NULL"
   ]
  },
  {
   "cell_type": "code",
   "execution_count": 37,
   "id": "744fc147-2638-4935-a805-68cb51852dd7",
   "metadata": {},
   "outputs": [],
   "source": [
    "#load(\"p1.rda\", verbose = TRUE)"
   ]
  },
  {
   "cell_type": "markdown",
   "id": "6f1649fc-72c8-4bcf-9cbc-587463117579",
   "metadata": {},
   "source": [
    "### summary stats"
   ]
  },
  {
   "cell_type": "code",
   "execution_count": 38,
   "id": "19d2a3db-0ed4-481f-b7d6-78d0ddbbb80f",
   "metadata": {},
   "outputs": [],
   "source": [
    "library(data.table)\n",
    "library(CpGWAS)"
   ]
  },
  {
   "cell_type": "code",
   "execution_count": 39,
   "id": "a5270235-a5a6-42d2-a654-ea30cb891279",
   "metadata": {},
   "outputs": [],
   "source": [
    "ss_path <- \"/home/naglemi/mwas/gwas/gwas_stat_scz\""
   ]
  },
  {
   "cell_type": "code",
   "execution_count": 40,
   "id": "203b45ea-44b4-4679-8b74-621f634db7dc",
   "metadata": {},
   "outputs": [],
   "source": [
    "snp.gwas2 <- fread(ss_path, skip = 1, header = FALSE)\n",
    "colnames(snp.gwas2) <- strsplit(readLines(ss_path, n = 1), \"\\t\")[[1]]"
   ]
  },
  {
   "cell_type": "code",
   "execution_count": 41,
   "id": "917f58c4-4ec5-47b8-bf3d-f0abcf86cf96",
   "metadata": {},
   "outputs": [],
   "source": [
    "snp.gwas2$z <- log(snp.gwas2$OR)/snp.gwas2$SE"
   ]
  },
  {
   "cell_type": "code",
   "execution_count": 42,
   "id": "6d87bed5-d32c-4264-b787-d738cd381454",
   "metadata": {},
   "outputs": [],
   "source": [
    "snp.gwas2 <- snp.gwas2[, c(2, 1, 3, 3, 8, 4, 5, 20, 11)]"
   ]
  },
  {
   "cell_type": "code",
   "execution_count": 43,
   "id": "3df5e4c7-01eb-475b-a931-1e088d109cdb",
   "metadata": {},
   "outputs": [
    {
     "data": {
      "text/html": [
       "<table class=\"dataframe\">\n",
       "<caption>A data.table: 1 × 9</caption>\n",
       "<thead>\n",
       "\t<tr><th scope=col>SNP</th><th scope=col>CHR</th><th scope=col>BP</th><th scope=col>BP</th><th scope=col>INFO</th><th scope=col>A1</th><th scope=col>A2</th><th scope=col>z</th><th scope=col>P</th></tr>\n",
       "\t<tr><th scope=col>&lt;chr&gt;</th><th scope=col>&lt;int&gt;</th><th scope=col>&lt;int&gt;</th><th scope=col>&lt;int&gt;</th><th scope=col>&lt;dbl&gt;</th><th scope=col>&lt;chr&gt;</th><th scope=col>&lt;chr&gt;</th><th scope=col>&lt;dbl&gt;</th><th scope=col>&lt;dbl&gt;</th></tr>\n",
       "</thead>\n",
       "<tbody>\n",
       "\t<tr><td>rs62513865</td><td>8</td><td>100579985</td><td>100579985</td><td>0.963</td><td>C</td><td>T</td><td>0.7016221</td><td>0.4847</td></tr>\n",
       "</tbody>\n",
       "</table>\n"
      ],
      "text/latex": [
       "A data.table: 1 × 9\n",
       "\\begin{tabular}{lllllllll}\n",
       " SNP & CHR & BP & BP & INFO & A1 & A2 & z & P\\\\\n",
       " <chr> & <int> & <int> & <int> & <dbl> & <chr> & <chr> & <dbl> & <dbl>\\\\\n",
       "\\hline\n",
       "\t rs62513865 & 8 & 100579985 & 100579985 & 0.963 & C & T & 0.7016221 & 0.4847\\\\\n",
       "\\end{tabular}\n"
      ],
      "text/markdown": [
       "\n",
       "A data.table: 1 × 9\n",
       "\n",
       "| SNP &lt;chr&gt; | CHR &lt;int&gt; | BP &lt;int&gt; | BP &lt;int&gt; | INFO &lt;dbl&gt; | A1 &lt;chr&gt; | A2 &lt;chr&gt; | z &lt;dbl&gt; | P &lt;dbl&gt; |\n",
       "|---|---|---|---|---|---|---|---|---|\n",
       "| rs62513865 | 8 | 100579985 | 100579985 | 0.963 | C | T | 0.7016221 | 0.4847 |\n",
       "\n"
      ],
      "text/plain": [
       "  SNP        CHR BP        BP        INFO  A1 A2 z         P     \n",
       "1 rs62513865 8   100579985 100579985 0.963 C  T  0.7016221 0.4847"
      ]
     },
     "metadata": {},
     "output_type": "display_data"
    }
   ],
   "source": [
    "head(snp.gwas2, n = 1)"
   ]
  },
  {
   "cell_type": "code",
   "execution_count": 44,
   "id": "a1b63fe0-6ff8-4982-92a5-7dd2a937b6f3",
   "metadata": {},
   "outputs": [],
   "source": [
    "colnames(snp.gwas2)[1:5] <- c(\"snp\", \"chr\", \"pos_hg38\", \"pos_hg38\", \"info\")"
   ]
  },
  {
   "cell_type": "code",
   "execution_count": 45,
   "id": "bda48de1-8191-4b45-8f16-41cce0a957af",
   "metadata": {},
   "outputs": [],
   "source": [
    "CHR <- chr # to avoid R df local env mixing variables of columns name and subset variable"
   ]
  },
  {
   "cell_type": "code",
   "execution_count": 46,
   "id": "196dca2f-edd0-4ff7-83d0-73049310205f",
   "metadata": {},
   "outputs": [],
   "source": [
    "snp.gwas2 <- snp.gwas2[which(snp.gwas2$chr == CHR), ]"
   ]
  },
  {
   "cell_type": "code",
   "execution_count": 47,
   "id": "86716430-3d24-416b-922e-f7f8e007325d",
   "metadata": {},
   "outputs": [],
   "source": [
    "if(filter_snps == TRUE){\n",
    "    snp.gwas2 <- snp.gwas2[which(snp.gwas2$pos_hg38 >= (min(sites_to_test_pos)-10000) & snp.gwas2$pos_hg38 <= (max(sites_to_test_pos) + 10000)), ]\n",
    "}"
   ]
  },
  {
   "cell_type": "code",
   "execution_count": 48,
   "id": "6dfba3a8-0775-4f8c-92d2-3c9c32a36945",
   "metadata": {},
   "outputs": [],
   "source": [
    "snp.gwas2 <- snp.gwas2[order(snp.gwas2$pos_hg38), ]"
   ]
  },
  {
   "cell_type": "code",
   "execution_count": 49,
   "id": "e094af46-5937-4e19-aaef-a6e6d8fdb692",
   "metadata": {},
   "outputs": [
    {
     "data": {
      "text/plain": [
       "DataFrame with 6 rows and 10 columns\n",
       "               ID       brnum has_genotype   source  agedeath      sex     race\n",
       "      <character> <character>    <logical> <factor> <numeric> <factor> <factor>\n",
       "1 LIBD1633_190509       Br836         TRUE       DC     20.77        M       AA\n",
       "2 LIBD1654_190509       Br845         TRUE       DC     24.79        M       AA\n",
       "3 LIBD1508_190509       Br848         TRUE       DC     22.71        M       AA\n",
       "4 LIBD1655_190509       Br863         TRUE       DC     43.85        M       AA\n",
       "5 LIBD1604_190509       Br914         TRUE       DC     19.69        F       AA\n",
       "6 LIBD1389_190509       Br948         TRUE       DC     45.91        M       AA\n",
       "  primarydx       pmi        ph\n",
       "   <factor> <numeric> <numeric>\n",
       "1   Control      25.5      6.46\n",
       "2   Control      43.5      6.94\n",
       "3   Control      38.5      6.57\n",
       "4   Control      24.5      6.57\n",
       "5   Control      19.0      6.98\n",
       "6   Control      38.5      6.66"
      ]
     },
     "metadata": {},
     "output_type": "display_data"
    }
   ],
   "source": [
    "head(BSobj2)"
   ]
  },
  {
   "cell_type": "code",
   "execution_count": 50,
   "id": "a7e65537-90ab-49df-b17e-0c526f8bce94",
   "metadata": {},
   "outputs": [
    {
     "data": {
      "text/html": [
       "<style>\n",
       ".list-inline {list-style: none; margin:0; padding: 0}\n",
       ".list-inline>li {display: inline-block}\n",
       ".list-inline>li:not(:last-child)::after {content: \"\\00b7\"; padding: 0 .5ex}\n",
       "</style>\n",
       "<ol class=list-inline><li>308</li><li>10</li></ol>\n"
      ],
      "text/latex": [
       "\\begin{enumerate*}\n",
       "\\item 308\n",
       "\\item 10\n",
       "\\end{enumerate*}\n"
      ],
      "text/markdown": [
       "1. 308\n",
       "2. 10\n",
       "\n",
       "\n"
      ],
      "text/plain": [
       "[1] 308  10"
      ]
     },
     "metadata": {},
     "output_type": "display_data"
    }
   ],
   "source": [
    "dim(BSobj2)"
   ]
  },
  {
   "cell_type": "code",
   "execution_count": 51,
   "id": "694a73ac-0c1e-43a2-8a0e-51666fe047e3",
   "metadata": {},
   "outputs": [],
   "source": [
    "BSobj2 <- BSobj2[which(BSobj2$brnum %in% colnames(p.residual)), ]"
   ]
  },
  {
   "cell_type": "code",
   "execution_count": 52,
   "id": "7faa87a9-46ae-44b0-9ab8-436cb9537c4d",
   "metadata": {},
   "outputs": [
    {
     "data": {
      "text/html": [
       "<style>\n",
       ".list-inline {list-style: none; margin:0; padding: 0}\n",
       ".list-inline>li {display: inline-block}\n",
       ".list-inline>li:not(:last-child)::after {content: \"\\00b7\"; padding: 0 .5ex}\n",
       "</style>\n",
       "<ol class=list-inline><li>308</li><li>10</li></ol>\n"
      ],
      "text/latex": [
       "\\begin{enumerate*}\n",
       "\\item 308\n",
       "\\item 10\n",
       "\\end{enumerate*}\n"
      ],
      "text/markdown": [
       "1. 308\n",
       "2. 10\n",
       "\n",
       "\n"
      ],
      "text/plain": [
       "[1] 308  10"
      ]
     },
     "metadata": {},
     "output_type": "display_data"
    }
   ],
   "source": [
    "dim(BSobj2)"
   ]
  },
  {
   "cell_type": "code",
   "execution_count": 53,
   "id": "4714a813-116f-4567-a6b1-41bb02df8227",
   "metadata": {},
   "outputs": [],
   "source": [
    "# built predition models\n",
    "idx.ea <- BSobj2$race == \"CAUC\""
   ]
  },
  {
   "cell_type": "code",
   "execution_count": 54,
   "id": "8bce368a-5bbc-4ed4-9906-5d8ab09e21a8",
   "metadata": {},
   "outputs": [
    {
     "data": {
      "text/html": [
       "'7'"
      ],
      "text/latex": [
       "'7'"
      ],
      "text/markdown": [
       "'7'"
      ],
      "text/plain": [
       "[1] \"7\""
      ]
     },
     "metadata": {},
     "output_type": "display_data"
    }
   ],
   "source": [
    "levels(factor(snp.gwas2$chr))"
   ]
  },
  {
   "cell_type": "markdown",
   "id": "9700ca92-911f-4aa6-a557-789f202994b1",
   "metadata": {},
   "source": [
    "### SNPs in LIBD population"
   ]
  },
  {
   "cell_type": "markdown",
   "id": "4f57b245-ca89-42ac-986a-c47623a31e59",
   "metadata": {},
   "source": [
    "#### Old dataset"
   ]
  },
  {
   "cell_type": "code",
   "execution_count": null,
   "id": "03097259-e5c1-43c7-9b09-e67ed2080067",
   "metadata": {},
   "outputs": [],
   "source": []
  },
  {
   "cell_type": "code",
   "execution_count": null,
   "id": "0c89ee08-626a-42b6-8091-791bd5d63239",
   "metadata": {},
   "outputs": [],
   "source": []
  },
  {
   "cell_type": "code",
   "execution_count": null,
   "id": "e68fddaf-f50a-41ac-bdb3-56f9bd93ff4b",
   "metadata": {},
   "outputs": [],
   "source": []
  },
  {
   "cell_type": "markdown",
   "id": "6c305c43-74d5-42df-8039-b20adbbed9cd",
   "metadata": {},
   "source": [
    "#### New dataset prep: For reference, first load Shizhong's formatted SNPs on Chr7"
   ]
  },
  {
   "cell_type": "code",
   "execution_count": 55,
   "id": "17bbe86f-b1ff-4af1-8297-56ed0e3051e6",
   "metadata": {},
   "outputs": [
    {
     "name": "stdout",
     "output_type": "stream",
     "text": [
      "Loading objects:\n",
      "  snp.gwas2\n",
      "  snp.1kg.eur2\n",
      "  map.1kg.eur2\n",
      "  snp2\n",
      "  map2\n",
      "  p\n",
      "  BSsample\n"
     ]
    }
   ],
   "source": [
    "load(\"p1.rda\", verbose = TRUE)\n",
    "\n",
    "snp2_sorted <- snp2[, order(names(snp2))]\n",
    "\n",
    "colnames(snp2) <- gsub(\"Br0\", \"Br\", colnames(snp2))\n",
    "\n",
    "snp2 <- snp2[, colnames(snp2) %in% colnames(p.residual)]\n",
    "\n",
    "snp2_positions <- stringr::str_split_fixed(rownames(snp2), \":\", 3)[, 2]\n",
    "\n",
    "snp3 <- snp2\n",
    "map3 <- map2"
   ]
  },
  {
   "cell_type": "markdown",
   "id": "64e0f588-fc43-4f4a-aba6-911d037e9ead",
   "metadata": {},
   "source": [
    "#### New dataset: Now let's load ours on Chr1"
   ]
  },
  {
   "cell_type": "code",
   "execution_count": 56,
   "id": "04b0b495-749b-42fa-a4ce-2d7f14f0a053",
   "metadata": {},
   "outputs": [],
   "source": [
    "# paths <- list(\n",
    "#   pvar_path = paste0(\"/expanse/lustre/projects/jhu152/naglemi/mwas/gwas/libd_chr\", chr, \".pvar\"),\n",
    "#   pgen_path = paste0(\"/expanse/lustre/projects/jhu152/naglemi/mwas/gwas/libd_chr\", chr, \".pgen\"),\n",
    "#   psam_path = paste0(\"/expanse/lustre/projects/jhu152/naglemi/mwas/gwas/libd_chr\", chr, \".psam\")\n",
    "# )\n",
    "\n",
    "# my_SNPs <- loadSNPData(paths$pvar_path, paths$pgen_path, paths$psam_path)"
   ]
  },
  {
   "cell_type": "code",
   "execution_count": 57,
   "id": "6c82ac91-681b-483c-818f-3a2ec958bca7",
   "metadata": {},
   "outputs": [],
   "source": [
    "# filter_snps <- TRUE"
   ]
  },
  {
   "cell_type": "code",
   "execution_count": 58,
   "id": "1dd4ef47-2a68-4f01-a0e5-03efd6732c4a",
   "metadata": {},
   "outputs": [],
   "source": [
    "# if(filter_snps == TRUE){\n",
    "#     snp_indices_of_interest <- which(my_SNPs$pvar_dt$POS >= min(sites_to_test_pos)-100000 & my_SNPs$pvar_dt$POS <= max(sites_to_test_pos) + 100000)\n",
    "# }"
   ]
  },
  {
   "cell_type": "code",
   "execution_count": 59,
   "id": "24e9b8e2-bbbc-4421-98e2-97a6ae33ef68",
   "metadata": {},
   "outputs": [],
   "source": [
    "# if(filter_snps == TRUE){\n",
    "#     snp3 <- pgenlibr::ReadList(my_SNPs$pgen,\n",
    "#                                variant_subset = snp_indices_of_interest)\n",
    "#     colnames(snp3) <- my_SNPs$pvar_dt$ID[snp_indices_of_interest]\n",
    "# } else {\n",
    "#     snp3 <- pgenlibr::ReadList(my_SNPs$pgen)\n",
    "#     colnames(snp3) <- my_SNPs$pvar_dt$ID\n",
    "# }"
   ]
  },
  {
   "cell_type": "code",
   "execution_count": 60,
   "id": "cec6d1f4-f37a-4788-a6c8-04fb1d6a6fcf",
   "metadata": {},
   "outputs": [],
   "source": [
    "# snp3[1:10, 1:10]"
   ]
  },
  {
   "cell_type": "code",
   "execution_count": 61,
   "id": "41fbfa27-83df-4758-87c6-0cff2de9a160",
   "metadata": {},
   "outputs": [],
   "source": [
    "# rownames(snp3) <- my_SNPs$psam$`#IID`"
   ]
  },
  {
   "cell_type": "markdown",
   "id": "2bedf35f-af22-4395-9768-748ad69c8137",
   "metadata": {},
   "source": [
    "filter by `maf`"
   ]
  },
  {
   "cell_type": "code",
   "execution_count": 62,
   "id": "4292e859-185f-4268-9eee-1f477be83d81",
   "metadata": {},
   "outputs": [],
   "source": [
    "# dim(snp3)"
   ]
  },
  {
   "cell_type": "code",
   "execution_count": 63,
   "id": "6cfdeb6b-37cb-49d7-9af7-384edf349c8b",
   "metadata": {},
   "outputs": [],
   "source": [
    "# verbose <- FALSE\n",
    "# if (maf > 0){\n",
    "#     mafs <- colMeans(snp3, na.rm = TRUE) / 2\n",
    "#     mafs_below_threshold <- mafs < maf\n",
    "#     if (any(mafs_below_threshold)) {\n",
    "#       if (verbose) {\n",
    "#         message(paste0(\"removing \", sum(mafs_below_threshold), \" SNP(s) with MAF < \",\n",
    "#                        maf, \" for position \", meth_site_pos,\n",
    "#                       \" with window size \", window_size, \".\\n\\n\"))\n",
    "#       }\n",
    "#       snp3 <- snp3[, !mafs_below_threshold, drop = FALSE] \n",
    "#     }\n",
    "# }"
   ]
  },
  {
   "cell_type": "code",
   "execution_count": 64,
   "id": "446bb612-0118-4ea0-9d48-e9e7d603a51a",
   "metadata": {},
   "outputs": [],
   "source": [
    "# dim(snp3)"
   ]
  },
  {
   "cell_type": "code",
   "execution_count": 65,
   "id": "7a35ed6c-92ba-44b3-840e-ffc621828872",
   "metadata": {},
   "outputs": [],
   "source": [
    "# map3 <- data.frame(POS = stringr::str_split_fixed(colnames(snp3), \":\", 3)[, 2])"
   ]
  },
  {
   "cell_type": "code",
   "execution_count": 66,
   "id": "ca549289-47f4-444b-b3e8-7d8a39c2e33f",
   "metadata": {},
   "outputs": [],
   "source": [
    "# snp3 <- t(snp3)"
   ]
  },
  {
   "cell_type": "code",
   "execution_count": 67,
   "id": "191b05e4-0107-4059-887e-bd3f2cafde0f",
   "metadata": {},
   "outputs": [],
   "source": [
    "# map3 <- data.frame(POS = stringr::str_split_fixed(rownames(snp3), \":\", 3)[, 2])"
   ]
  },
  {
   "cell_type": "code",
   "execution_count": 68,
   "id": "4e17a504-e98e-4d5e-bc59-3fd09faf3de8",
   "metadata": {},
   "outputs": [],
   "source": [
    "# dim(map3)"
   ]
  },
  {
   "cell_type": "markdown",
   "id": "268b409b-4571-4f32-8a6d-0104927e2d8a",
   "metadata": {},
   "source": []
  },
  {
   "cell_type": "markdown",
   "id": "d0fb3ea3-0f60-4a62-b787-66185fc8e792",
   "metadata": {},
   "source": [
    "### SNPs in reference population"
   ]
  },
  {
   "cell_type": "code",
   "execution_count": 69,
   "id": "00b33368-a3ec-4788-8b82-519e1fbd5e95",
   "metadata": {},
   "outputs": [],
   "source": [
    "#snp.1kg.eur2"
   ]
  },
  {
   "cell_type": "code",
   "execution_count": 70,
   "id": "99022f2f-c9b9-47db-a5af-b2d7ba0ded99",
   "metadata": {},
   "outputs": [],
   "source": [
    "paths <- list(\n",
    "  pvar_path = paste0(\"/expanse/lustre/projects/jhu152/naglemi/mwas/gwas/ref_EUR_chr\", chr, \".pvar\"),\n",
    "  pgen_path = paste0(\"/expanse/lustre/projects/jhu152/naglemi/mwas/gwas/ref_EUR_chr\", chr, \".pgen\"),\n",
    "  psam_path = paste0(\"/expanse/lustre/projects/jhu152/naglemi/mwas/gwas/ref_EUR_chr\", chr, \".psam\")\n",
    ")\n",
    "\n",
    "my_SNPs <- loadSNPData(paths$pvar_path, paths$pgen_path, paths$psam_path)"
   ]
  },
  {
   "cell_type": "code",
   "execution_count": 73,
   "id": "21e1265c-d53d-48fe-a209-69ff51e27a6f",
   "metadata": {},
   "outputs": [
    {
     "data": {
      "text/html": [
       "FALSE"
      ],
      "text/latex": [
       "FALSE"
      ],
      "text/markdown": [
       "FALSE"
      ],
      "text/plain": [
       "[1] FALSE"
      ]
     },
     "metadata": {},
     "output_type": "display_data"
    }
   ],
   "source": [
    "filter_snps"
   ]
  },
  {
   "cell_type": "code",
   "execution_count": 74,
   "id": "90b30176-0532-45a1-bf5e-17e207bb61d5",
   "metadata": {},
   "outputs": [],
   "source": [
    "#if(filter_snps == TRUE){\n",
    "    snp_indices_of_interest <- which(my_SNPs$pvar_dt$POS >= min(sites_to_test_pos)-10000 & my_SNPs$pvar_dt$POS <= max(sites_to_test_pos) + 10000)\n",
    "#}"
   ]
  },
  {
   "cell_type": "code",
   "execution_count": 75,
   "id": "85f427f7-e4d3-4ba6-ad1a-a2691f68346e",
   "metadata": {},
   "outputs": [],
   "source": [
    "snp.1kg.eur2 <- pgenlibr::ReadList(my_SNPs$pgen,\n",
    "                        variant_subset = snp_indices_of_interest)\n",
    "colnames(snp.1kg.eur2) <- my_SNPs$pvar_dt$ID[snp_indices_of_interest]\n",
    "rownames(snp.1kg.eur2) <- my_SNPs$psam$`IID`"
   ]
  },
  {
   "cell_type": "code",
   "execution_count": 76,
   "id": "38d80ac5-91d5-4766-8953-fe93f6de6a34",
   "metadata": {},
   "outputs": [],
   "source": [
    "map.1kg.eur2 <- my_SNPs$pvar_dt"
   ]
  },
  {
   "cell_type": "code",
   "execution_count": 77,
   "id": "a9650fe9-2483-4bf0-95d3-0102b90465f2",
   "metadata": {},
   "outputs": [],
   "source": [
    "map.1kg.eur2 <- map.1kg.eur2[snp_indices_of_interest, ]"
   ]
  },
  {
   "cell_type": "code",
   "execution_count": 78,
   "id": "f6f5d1f5-0681-4825-bfa7-79d3ace6f004",
   "metadata": {},
   "outputs": [],
   "source": [
    "snp.1kg.eur2 <- t(snp.1kg.eur2)"
   ]
  },
  {
   "cell_type": "code",
   "execution_count": 79,
   "id": "7c47bf64-29fd-431d-a454-7ba93918ae3f",
   "metadata": {},
   "outputs": [
    {
     "data": {
      "text/html": [
       "<style>\n",
       ".list-inline {list-style: none; margin:0; padding: 0}\n",
       ".list-inline>li {display: inline-block}\n",
       ".list-inline>li:not(:last-child)::after {content: \"\\00b7\"; padding: 0 .5ex}\n",
       "</style>\n",
       "<ol class=list-inline><li>63</li><li>3</li></ol>\n"
      ],
      "text/latex": [
       "\\begin{enumerate*}\n",
       "\\item 63\n",
       "\\item 3\n",
       "\\end{enumerate*}\n"
      ],
      "text/markdown": [
       "1. 63\n",
       "2. 3\n",
       "\n",
       "\n"
      ],
      "text/plain": [
       "[1] 63  3"
      ]
     },
     "metadata": {},
     "output_type": "display_data"
    }
   ],
   "source": [
    "dim(map.1kg.eur2)"
   ]
  },
  {
   "cell_type": "code",
   "execution_count": 80,
   "id": "aa32c47b-c9cf-46b9-9109-3701617675a6",
   "metadata": {},
   "outputs": [
    {
     "data": {
      "text/html": [
       "<style>\n",
       ".list-inline {list-style: none; margin:0; padding: 0}\n",
       ".list-inline>li {display: inline-block}\n",
       ".list-inline>li:not(:last-child)::after {content: \"\\00b7\"; padding: 0 .5ex}\n",
       "</style>\n",
       "<ol class=list-inline><li>63</li><li>489</li></ol>\n"
      ],
      "text/latex": [
       "\\begin{enumerate*}\n",
       "\\item 63\n",
       "\\item 489\n",
       "\\end{enumerate*}\n"
      ],
      "text/markdown": [
       "1. 63\n",
       "2. 489\n",
       "\n",
       "\n"
      ],
      "text/plain": [
       "[1]  63 489"
      ]
     },
     "metadata": {},
     "output_type": "display_data"
    }
   ],
   "source": [
    "dim(snp.1kg.eur2)"
   ]
  },
  {
   "cell_type": "markdown",
   "id": "882a7c0a-0ec2-4aa2-be3c-a2f152126bd8",
   "metadata": {},
   "source": [
    "### Set window size and any other parameters"
   ]
  },
  {
   "cell_type": "code",
   "execution_count": 81,
   "id": "461263e5-8c47-40ae-b3e4-03dbea4820e8",
   "metadata": {},
   "outputs": [],
   "source": [
    "wind <- 10000"
   ]
  },
  {
   "cell_type": "markdown",
   "id": "0849e5e3-af47-480f-82ca-97b07d1dd943",
   "metadata": {},
   "source": [
    "Is 1se vs min for lambda the problem?"
   ]
  },
  {
   "cell_type": "markdown",
   "id": "b0244eba-060a-4ac3-966c-cb68deb41cb0",
   "metadata": {},
   "source": [
    "#### Final formatting steps to prepare for MWAS - sort samples"
   ]
  },
  {
   "cell_type": "code",
   "execution_count": 82,
   "id": "f41f9c4d-1489-45a4-ad25-d446a05980bf",
   "metadata": {},
   "outputs": [],
   "source": [
    "p.residual <- p.residual[, order(colnames(p.residual))]"
   ]
  },
  {
   "cell_type": "code",
   "execution_count": 83,
   "id": "65857cda-1517-4854-a1e1-5af6459cbdca",
   "metadata": {},
   "outputs": [],
   "source": [
    "snp3 <- snp3[, colnames(snp3) %in% colnames(p.residual)]"
   ]
  },
  {
   "cell_type": "code",
   "execution_count": 84,
   "id": "7ab51668-a9da-4913-a8ee-41aa0d49550e",
   "metadata": {},
   "outputs": [],
   "source": [
    "snp3 <- snp3[, order(colnames(snp3))]"
   ]
  },
  {
   "cell_type": "markdown",
   "id": "768cf092-82d8-46e6-b322-efd6e09bbb73",
   "metadata": {},
   "source": [
    "## MWAS"
   ]
  },
  {
   "cell_type": "markdown",
   "id": "c3720675-e92d-46ee-b5a6-66d71d367dc4",
   "metadata": {},
   "source": [
    "### With `lambda.1se`"
   ]
  },
  {
   "cell_type": "markdown",
   "id": "cfc14c0f-1e12-4108-97fc-ab66a6467640",
   "metadata": {},
   "source": [
    "#### Stage 1"
   ]
  },
  {
   "cell_type": "markdown",
   "id": "7cde5d54-d8c6-4f26-b992-cd06803bafc3",
   "metadata": {},
   "source": [
    "Quick debug: A version to see why we end up with empty `models.aa` and `models.ea`"
   ]
  },
  {
   "cell_type": "code",
   "execution_count": null,
   "id": "5d91fd24-41c3-4bed-a2d8-9baebad17d83",
   "metadata": {},
   "outputs": [],
   "source": []
  },
  {
   "cell_type": "code",
   "execution_count": 85,
   "id": "f1394b5f-aa91-46d0-8dce-2893edd40e2c",
   "metadata": {},
   "outputs": [
    {
     "data": {
      "text/html": [
       "<table class=\"dataframe\">\n",
       "<caption>A data.frame: 6 × 10</caption>\n",
       "<thead>\n",
       "\t<tr><th></th><th scope=col>SNP</th><th scope=col>RS</th><th scope=col>CHR</th><th scope=col>POS</th><th scope=col>VCF_COUNTED</th><th scope=col>VCF_ALT</th><th scope=col>AF</th><th scope=col>HDS</th><th scope=col>COUNTED</th><th scope=col>ALT</th></tr>\n",
       "\t<tr><th></th><th scope=col>&lt;chr&gt;</th><th scope=col>&lt;chr&gt;</th><th scope=col>&lt;chr&gt;</th><th scope=col>&lt;int&gt;</th><th scope=col>&lt;chr&gt;</th><th scope=col>&lt;chr&gt;</th><th scope=col>&lt;dbl&gt;</th><th scope=col>&lt;dbl&gt;</th><th scope=col>&lt;chr&gt;</th><th scope=col>&lt;chr&gt;</th></tr>\n",
       "</thead>\n",
       "<tbody>\n",
       "\t<tr><th scope=row>chr7:1963098:T:C</th><td>chr7:1963098:T:C</td><td>rs11773627</td><td>chr7</td><td>1963098</td><td>T</td><td>C</td><td>0.17371</td><td>0.97471</td><td>T</td><td>C</td></tr>\n",
       "\t<tr><th scope=row>chr7:1963408:C:T</th><td>chr7:1963408:C:T</td><td>rs6972374 </td><td>chr7</td><td>1963408</td><td>C</td><td>T</td><td>0.37882</td><td>0.99781</td><td>C</td><td>T</td></tr>\n",
       "\t<tr><th scope=row>chr7:1964786:C:T</th><td>chr7:1964786:C:T</td><td>rs12666575</td><td>chr7</td><td>1964786</td><td>C</td><td>T</td><td>0.27908</td><td>1.05016</td><td>C</td><td>T</td></tr>\n",
       "\t<tr><th scope=row>chr7:1966112:T:C</th><td>chr7:1966112:T:C</td><td>rs11766575</td><td>chr7</td><td>1966112</td><td>T</td><td>C</td><td>0.27687</td><td>1.05159</td><td>T</td><td>C</td></tr>\n",
       "\t<tr><th scope=row>chr7:1973362:G:A</th><td>chr7:1973362:G:A</td><td>rs4721264 </td><td>chr7</td><td>1973362</td><td>G</td><td>A</td><td>0.30366</td><td>1.03061</td><td>G</td><td>A</td></tr>\n",
       "\t<tr><th scope=row>chr7:1975412:T:G</th><td>chr7:1975412:T:G</td><td>rs62442944</td><td>chr7</td><td>1975412</td><td>T</td><td>G</td><td>0.16749</td><td>0.96670</td><td>T</td><td>G</td></tr>\n",
       "</tbody>\n",
       "</table>\n"
      ],
      "text/latex": [
       "A data.frame: 6 × 10\n",
       "\\begin{tabular}{r|llllllllll}\n",
       "  & SNP & RS & CHR & POS & VCF\\_COUNTED & VCF\\_ALT & AF & HDS & COUNTED & ALT\\\\\n",
       "  & <chr> & <chr> & <chr> & <int> & <chr> & <chr> & <dbl> & <dbl> & <chr> & <chr>\\\\\n",
       "\\hline\n",
       "\tchr7:1963098:T:C & chr7:1963098:T:C & rs11773627 & chr7 & 1963098 & T & C & 0.17371 & 0.97471 & T & C\\\\\n",
       "\tchr7:1963408:C:T & chr7:1963408:C:T & rs6972374  & chr7 & 1963408 & C & T & 0.37882 & 0.99781 & C & T\\\\\n",
       "\tchr7:1964786:C:T & chr7:1964786:C:T & rs12666575 & chr7 & 1964786 & C & T & 0.27908 & 1.05016 & C & T\\\\\n",
       "\tchr7:1966112:T:C & chr7:1966112:T:C & rs11766575 & chr7 & 1966112 & T & C & 0.27687 & 1.05159 & T & C\\\\\n",
       "\tchr7:1973362:G:A & chr7:1973362:G:A & rs4721264  & chr7 & 1973362 & G & A & 0.30366 & 1.03061 & G & A\\\\\n",
       "\tchr7:1975412:T:G & chr7:1975412:T:G & rs62442944 & chr7 & 1975412 & T & G & 0.16749 & 0.96670 & T & G\\\\\n",
       "\\end{tabular}\n"
      ],
      "text/markdown": [
       "\n",
       "A data.frame: 6 × 10\n",
       "\n",
       "| <!--/--> | SNP &lt;chr&gt; | RS &lt;chr&gt; | CHR &lt;chr&gt; | POS &lt;int&gt; | VCF_COUNTED &lt;chr&gt; | VCF_ALT &lt;chr&gt; | AF &lt;dbl&gt; | HDS &lt;dbl&gt; | COUNTED &lt;chr&gt; | ALT &lt;chr&gt; |\n",
       "|---|---|---|---|---|---|---|---|---|---|---|\n",
       "| chr7:1963098:T:C | chr7:1963098:T:C | rs11773627 | chr7 | 1963098 | T | C | 0.17371 | 0.97471 | T | C |\n",
       "| chr7:1963408:C:T | chr7:1963408:C:T | rs6972374  | chr7 | 1963408 | C | T | 0.37882 | 0.99781 | C | T |\n",
       "| chr7:1964786:C:T | chr7:1964786:C:T | rs12666575 | chr7 | 1964786 | C | T | 0.27908 | 1.05016 | C | T |\n",
       "| chr7:1966112:T:C | chr7:1966112:T:C | rs11766575 | chr7 | 1966112 | T | C | 0.27687 | 1.05159 | T | C |\n",
       "| chr7:1973362:G:A | chr7:1973362:G:A | rs4721264  | chr7 | 1973362 | G | A | 0.30366 | 1.03061 | G | A |\n",
       "| chr7:1975412:T:G | chr7:1975412:T:G | rs62442944 | chr7 | 1975412 | T | G | 0.16749 | 0.96670 | T | G |\n",
       "\n"
      ],
      "text/plain": [
       "                 SNP              RS         CHR  POS     VCF_COUNTED VCF_ALT\n",
       "chr7:1963098:T:C chr7:1963098:T:C rs11773627 chr7 1963098 T           C      \n",
       "chr7:1963408:C:T chr7:1963408:C:T rs6972374  chr7 1963408 C           T      \n",
       "chr7:1964786:C:T chr7:1964786:C:T rs12666575 chr7 1964786 C           T      \n",
       "chr7:1966112:T:C chr7:1966112:T:C rs11766575 chr7 1966112 T           C      \n",
       "chr7:1973362:G:A chr7:1973362:G:A rs4721264  chr7 1973362 G           A      \n",
       "chr7:1975412:T:G chr7:1975412:T:G rs62442944 chr7 1975412 T           G      \n",
       "                 AF      HDS     COUNTED ALT\n",
       "chr7:1963098:T:C 0.17371 0.97471 T       C  \n",
       "chr7:1963408:C:T 0.37882 0.99781 C       T  \n",
       "chr7:1964786:C:T 0.27908 1.05016 C       T  \n",
       "chr7:1966112:T:C 0.27687 1.05159 T       C  \n",
       "chr7:1973362:G:A 0.30366 1.03061 G       A  \n",
       "chr7:1975412:T:G 0.16749 0.96670 T       G  "
      ]
     },
     "metadata": {},
     "output_type": "display_data"
    }
   ],
   "source": [
    "head(map3)"
   ]
  },
  {
   "cell_type": "code",
   "execution_count": 86,
   "id": "9e6f43e4-4b69-4c73-9155-0b22a9eb5c69",
   "metadata": {},
   "outputs": [
    {
     "data": {
      "text/html": [
       "<style>\n",
       ".list-inline {list-style: none; margin:0; padding: 0}\n",
       ".list-inline>li {display: inline-block}\n",
       ".list-inline>li:not(:last-child)::after {content: \"\\00b7\"; padding: 0 .5ex}\n",
       "</style>\n",
       "<ol class=list-inline><li>1980077</li><li>1980101</li><li>1980129</li><li>1980136</li><li>1980145</li><li>1980179</li></ol>\n"
      ],
      "text/latex": [
       "\\begin{enumerate*}\n",
       "\\item 1980077\n",
       "\\item 1980101\n",
       "\\item 1980129\n",
       "\\item 1980136\n",
       "\\item 1980145\n",
       "\\item 1980179\n",
       "\\end{enumerate*}\n"
      ],
      "text/markdown": [
       "1. 1980077\n",
       "2. 1980101\n",
       "3. 1980129\n",
       "4. 1980136\n",
       "5. 1980145\n",
       "6. 1980179\n",
       "\n",
       "\n"
      ],
      "text/plain": [
       "[1] 1980077 1980101 1980129 1980136 1980145 1980179"
      ]
     },
     "metadata": {},
     "output_type": "display_data"
    }
   ],
   "source": [
    "head(cg)"
   ]
  },
  {
   "cell_type": "code",
   "execution_count": 87,
   "id": "77341afb-cba2-45dc-9101-9663192c7290",
   "metadata": {},
   "outputs": [
    {
     "data": {
      "text/html": [
       "10000"
      ],
      "text/latex": [
       "10000"
      ],
      "text/markdown": [
       "10000"
      ],
      "text/plain": [
       "[1] 10000"
      ]
     },
     "metadata": {},
     "output_type": "display_data"
    }
   ],
   "source": [
    "head(wind)"
   ]
  },
  {
   "cell_type": "code",
   "execution_count": null,
   "id": "9b2f9469-7609-4675-b94e-4d449db46529",
   "metadata": {},
   "outputs": [],
   "source": []
  },
  {
   "cell_type": "code",
   "execution_count": 88,
   "id": "305409c3-5abb-49c2-9914-6fd958064abf",
   "metadata": {},
   "outputs": [
    {
     "name": "stdout",
     "output_type": "stream",
     "text": [
      "[1] 1\n",
      "[1] 2\n",
      "[1] 3\n",
      "[1] 4\n",
      "[1] 5\n",
      "[1] 6\n",
      "[1] 7\n",
      "[1] 8\n",
      "[1] 9\n",
      "[1] 10\n",
      "[1] 11\n",
      "[1] 12\n",
      "[1] 13\n",
      "[1] 14\n",
      "[1] 15\n",
      "[1] 16\n",
      "[1] 17\n",
      "[1] 18\n",
      "[1] 19\n",
      "[1] 20\n",
      "[1] 21\n",
      "[1] 22\n",
      "[1] 23\n",
      "[1] 24\n",
      "[1] 25\n",
      "[1] 26\n",
      "[1] 27\n",
      "[1] 28\n",
      "[1] 29\n",
      "[1] 30\n",
      "[1] 31\n",
      "[1] 32\n",
      "[1] 33\n",
      "[1] 34\n",
      "[1] 35\n",
      "[1] 36\n",
      "[1] 37\n",
      "[1] 38\n",
      "[1] 39\n",
      "[1] 40\n",
      "[1] 41\n",
      "[1] 42\n",
      "[1] 43\n",
      "[1] 44\n",
      "[1] 45\n",
      "[1] 46\n",
      "[1] 47\n",
      "[1] 48\n",
      "[1] 49\n",
      "[1] 50\n",
      "[1] 51\n",
      "[1] 52\n",
      "[1] 53\n",
      "[1] 54\n",
      "[1] 55\n",
      "[1] 56\n",
      "[1] 57\n",
      "[1] 58\n",
      "[1] 59\n",
      "[1] 60\n",
      "[1] 61\n",
      "[1] 62\n",
      "[1] 63\n",
      "[1] 64\n",
      "[1] 65\n",
      "[1] 66\n",
      "[1] 67\n",
      "[1] 68\n",
      "[1] 69\n",
      "[1] 70\n",
      "[1] 71\n",
      "[1] 72\n",
      "[1] 73\n",
      "[1] 74\n",
      "[1] 75\n",
      "[1] 76\n",
      "[1] 77\n",
      "[1] 78\n",
      "[1] 79\n",
      "[1] 80\n",
      "[1] 81\n",
      "[1] 82\n",
      "[1] 83\n",
      "[1] 84\n",
      "[1] 85\n",
      "[1] 86\n",
      "[1] 87\n",
      "[1] 88\n",
      "[1] 89\n",
      "[1] 90\n",
      "[1] 91\n",
      "[1] 92\n",
      "[1] 93\n",
      "[1] 94\n",
      "[1] 95\n",
      "[1] 96\n",
      "[1] 97\n",
      "[1] 98\n",
      "[1] 99\n",
      "[1] 100\n",
      "[1] 101\n",
      "[1] 102\n",
      "[1] 103\n",
      "[1] 104\n",
      "[1] 105\n",
      "[1] 106\n",
      "[1] 107\n",
      "[1] 108\n",
      "[1] 109\n",
      "[1] 110\n",
      "[1] 111\n",
      "[1] 112\n",
      "[1] 113\n",
      "[1] 114\n",
      "[1] 115\n",
      "[1] 116\n",
      "[1] 117\n",
      "[1] 118\n",
      "[1] 119\n",
      "[1] 120\n",
      "[1] 121\n",
      "[1] 122\n",
      "[1] 123\n",
      "[1] 124\n",
      "[1] 125\n",
      "[1] 126\n",
      "[1] 127\n",
      "[1] 128\n",
      "[1] 129\n",
      "[1] 130\n",
      "[1] 131\n",
      "[1] 132\n",
      "[1] 133\n",
      "[1] 134\n",
      "[1] 135\n",
      "[1] 136\n",
      "[1] 137\n",
      "[1] 138\n",
      "[1] 139\n",
      "[1] 140\n",
      "[1] 141\n",
      "[1] 142\n",
      "[1] 143\n",
      "[1] 144\n",
      "[1] 145\n",
      "[1] 146\n",
      "[1] 147\n",
      "[1] 148\n",
      "[1] 149\n",
      "[1] 150\n",
      "[1] 151\n",
      "[1] 152\n",
      "[1] 153\n",
      "[1] 154\n",
      "[1] 155\n",
      "[1] 156\n",
      "[1] 157\n",
      "[1] 158\n",
      "[1] 159\n",
      "[1] 160\n",
      "[1] 161\n",
      "[1] 162\n",
      "[1] 163\n",
      "[1] 164\n",
      "[1] 165\n",
      "[1] 166\n",
      "[1] 167\n",
      "[1] 168\n",
      "[1] 169\n",
      "[1] 170\n",
      "[1] 171\n",
      "[1] 172\n",
      "[1] 173\n",
      "[1] 174\n",
      "[1] 175\n",
      "[1] 176\n",
      "[1] 177\n",
      "[1] 178\n",
      "[1] 179\n",
      "[1] 180\n",
      "[1] 181\n",
      "[1] 182\n",
      "[1] 183\n",
      "[1] 184\n",
      "[1] 185\n",
      "[1] 186\n",
      "[1] 187\n",
      "[1] 188\n",
      "[1] 189\n",
      "[1] 190\n",
      "[1] 191\n",
      "[1] 192\n",
      "[1] 193\n",
      "[1] 194\n",
      "[1] 195\n",
      "[1] 196\n",
      "[1] 197\n",
      "[1] 198\n",
      "[1] 199\n",
      "[1] 200\n",
      "[1] 201\n",
      "[1] 202\n",
      "[1] 203\n",
      "[1] 204\n",
      "[1] 205\n",
      "[1] 206\n",
      "[1] 207\n",
      "[1] 208\n",
      "[1] 209\n",
      "[1] 210\n",
      "[1] 211\n",
      "[1] 212\n",
      "[1] 213\n",
      "[1] 214\n",
      "[1] 215\n",
      "[1] 216\n",
      "[1] 217\n",
      "[1] 218\n",
      "[1] 219\n",
      "[1] 220\n",
      "[1] 221\n",
      "[1] 222\n",
      "[1] 223\n",
      "[1] 224\n",
      "[1] 225\n",
      "[1] 226\n",
      "[1] 227\n",
      "[1] 228\n",
      "[1] 229\n",
      "[1] 230\n",
      "[1] 231\n",
      "[1] 232\n",
      "[1] 233\n",
      "[1] 234\n",
      "[1] 235\n",
      "[1] 236\n",
      "[1] 237\n",
      "[1] 238\n",
      "[1] 239\n",
      "[1] 240\n",
      "[1] 241\n",
      "[1] 242\n",
      "[1] 243\n",
      "[1] 244\n",
      "[1] 245\n",
      "[1] 246\n",
      "[1] 247\n",
      "[1] 248\n",
      "[1] 249\n",
      "[1] 250\n",
      "[1] 251\n",
      "[1] 252\n",
      "[1] 253\n",
      "[1] 254\n",
      "[1] 255\n",
      "[1] 256\n",
      "[1] 257\n",
      "[1] 258\n",
      "[1] 259\n",
      "[1] 260\n",
      "[1] 261\n",
      "[1] 262\n",
      "[1] 263\n",
      "[1] 264\n",
      "[1] 265\n",
      "[1] 266\n",
      "[1] 267\n",
      "[1] 268\n",
      "[1] 269\n",
      "[1] 270\n",
      "[1] 271\n",
      "[1] 272\n",
      "[1] 273\n",
      "[1] 274\n",
      "[1] 275\n",
      "[1] 276\n",
      "[1] 277\n",
      "[1] 278\n",
      "[1] 279\n",
      "[1] 280\n",
      "[1] 281\n",
      "[1] 282\n",
      "[1] 283\n",
      "[1] 284\n",
      "[1] 285\n",
      "[1] 286\n",
      "[1] 287\n",
      "[1] 288\n",
      "[1] 289\n",
      "[1] 290\n",
      "[1] 291\n",
      "[1] 292\n",
      "[1] 293\n",
      "[1] 294\n",
      "[1] 295\n",
      "[1] 296\n",
      "[1] 297\n",
      "[1] 298\n",
      "[1] 299\n",
      "[1] 300\n",
      "[1] 301\n",
      "[1] 302\n",
      "[1] 303\n",
      "[1] 304\n",
      "[1] 305\n",
      "[1] 306\n",
      "[1] 307\n",
      "[1] 308\n",
      "[1] 309\n",
      "[1] 310\n",
      "[1] 311\n",
      "[1] 312\n",
      "[1] 313\n",
      "[1] 314\n",
      "[1] 315\n",
      "[1] 316\n",
      "[1] 317\n",
      "[1] 318\n",
      "[1] 319\n",
      "[1] 320\n",
      "[1] 321\n",
      "[1] 322\n",
      "[1] 323\n",
      "[1] 324\n",
      "[1] 325\n",
      "[1] 326\n",
      "[1] 327\n",
      "[1] 328\n",
      "[1] 329\n",
      "[1] 330\n"
     ]
    }
   ],
   "source": [
    "set.seed(42)\n",
    "for(k in 1:length(wind)){\n",
    "    models.ea <- c()\n",
    "    models.all <- c()\n",
    "    for(i in 1:length(cg)){\n",
    "    print(i)\n",
    "    #for(i in 1){\n",
    "            #cat(i,\"\\n\")\n",
    "            #print(paste0(\"This cg is: \", cg[i]))\n",
    "            range1 <- ifelse(cg[i] - wind[k] > 0,cg[i] - wind[k],0)\n",
    "            range2 <- cg[i] + wind[k]\n",
    "            idx <- map3$POS > range1 & map3$POS < range2\n",
    "            # go to next cg if no snps within window\n",
    "            if(sum(idx) <= 1){\n",
    "                    next\n",
    "            }\n",
    "            geno <- snp3[idx,] # changed snp2 to snp3\n",
    "            rownames(geno) <- map3$POS[idx]\n",
    "            trainX <- t(geno)\n",
    "            trainY <- p.residual[i,]\n",
    "            fit <- elastic.net(trainX,trainY, \"1se\")\n",
    "            fit <- tryCatch(\n",
    "                    elastic.net(trainX,trainY, \"1se\"),\n",
    "                    error = function(e) {return (\"err\")})\n",
    "            if(!is.data.frame(fit)){\n",
    "                if(fit == \"err\"){\n",
    "                    next\n",
    "                }\n",
    "            }\n",
    "            if(nrow(fit) == 0) next\n",
    "\n",
    "            fit$cg <- cg[i]\n",
    "            models.all <- rbind(models.all,fit)\n",
    "            # EA only\n",
    "            trainX <- trainX[idx.ea,]\n",
    "            if(sum(apply(trainX,2,var)!=0) <= 1){\n",
    "                    next\n",
    "            }\n",
    "            trainY <- trainY[idx.ea]\n",
    "            fit <- tryCatch(\n",
    "                    elastic.net(trainX,trainY, \"1se\"),\n",
    "                    error = function(e) {return (\"err\")})\n",
    "            if(!is.data.frame(fit)){\n",
    "                if(fit == \"err\"){\n",
    "                    next\n",
    "                }\n",
    "            }\n",
    "            if(nrow(fit) == 0) next\n",
    "            fit$cg <- cg[i]\n",
    "            models.ea <- rbind(models.ea,fit)\n",
    "    }\n",
    "}"
   ]
  },
  {
   "cell_type": "code",
   "execution_count": 89,
   "id": "3d109e75-bf26-43f5-8a0d-d6bb2f9cbe6b",
   "metadata": {},
   "outputs": [],
   "source": [
    "models.ea <- models.ea[models.ea[,1] != \"(Intercept)\",]\n",
    "models.all <- models.all[models.all[,1] != \"(Intercept)\",]"
   ]
  },
  {
   "cell_type": "markdown",
   "id": "9f851085-6f8e-4b8e-91fb-5696125a32be",
   "metadata": {},
   "source": [
    "#### Stage 2"
   ]
  },
  {
   "cell_type": "code",
   "execution_count": 90,
   "id": "ad0d6d07-06f6-403d-8496-5dd34d8ba4b1",
   "metadata": {},
   "outputs": [],
   "source": [
    "if(!dir.exists(outd)) dir.create(outd)"
   ]
  },
  {
   "cell_type": "code",
   "execution_count": 91,
   "id": "96693eaa-eb61-415a-b5d8-6034f0a4d150",
   "metadata": {},
   "outputs": [],
   "source": [
    "set.seed(42)\n",
    "# mwas by models of all samples\n",
    "cg2 <- unique(models.all$cg)\n",
    "mwas.all <- matrix(0,nrow=length(cg2),ncol=2)\n",
    "\n",
    "for(i in 1:length(cg2)){\n",
    "    pos <- models.all[models.all$cg == cg2[i],1]\n",
    "    gwas <- snp.gwas2$z[is.element(snp.gwas2$pos_hg38, pos)]\n",
    "    weight <- models.all[models.all$cg == cg2[i],2]\n",
    "    #geno <- snp.1kg.eur2[match(pos,map.1kg.eur2$POS),]\n",
    "\n",
    "    match_indices <- match(pos, map.1kg.eur2$POS)\n",
    "\n",
    "    tryCatch({\n",
    "        geno <- snp.1kg.eur2[match_indices, , drop = FALSE]\n",
    "    }, error = function(e) {\n",
    "        cat(\"Error accessing genotype data at iteration:\", i, \"\\n\")\n",
    "        cat(\"Error message:\", e$message, \"\\n\")\n",
    "        stop(\"Stopping execution due to error.\")\n",
    "    })\n",
    "\n",
    "    tryCatch({\n",
    "        mwas.all[i,] <- MWAS(gwas, weight, t(geno))\n",
    "    }, error = function(e) {\n",
    "        cat(\"Error at iteration:\", i, \"\\n\")\n",
    "        cat(\"cg2[i]:\", cg2[i], \"\\n\")\n",
    "        cat(\"gwas:\\n\")\n",
    "        print(gwas)\n",
    "        cat(\"weight:\\n\")\n",
    "        print(weight)\n",
    "        stop(e)\n",
    "    })\n",
    "}\n",
    "\n",
    "rownames(mwas.all) <- cg2\n",
    "colnames(mwas.all) <- c(\"z\",\"p\")"
   ]
  },
  {
   "cell_type": "code",
   "execution_count": 92,
   "id": "a473f0ba-f50b-45ad-81b4-7428db19f4b9",
   "metadata": {},
   "outputs": [
    {
     "data": {
      "text/html": [
       "9.3597759293037"
      ],
      "text/latex": [
       "9.3597759293037"
      ],
      "text/markdown": [
       "9.3597759293037"
      ],
      "text/plain": [
       "[1] 9.359776"
      ]
     },
     "metadata": {},
     "output_type": "display_data"
    }
   ],
   "source": [
    "gwas"
   ]
  },
  {
   "cell_type": "code",
   "execution_count": 93,
   "id": "6efcb1d4-8d6e-4043-9f2f-671b3f739d95",
   "metadata": {},
   "outputs": [
    {
     "data": {
      "text/html": [
       "-1.7816681885052e-18"
      ],
      "text/latex": [
       "-1.7816681885052e-18"
      ],
      "text/markdown": [
       "-1.7816681885052e-18"
      ],
      "text/plain": [
       "[1] -1.781668e-18"
      ]
     },
     "metadata": {},
     "output_type": "display_data"
    }
   ],
   "source": [
    "weight"
   ]
  },
  {
   "cell_type": "code",
   "execution_count": null,
   "id": "fff88e9a-ba5e-4ef7-bd31-f8474f93c2a1",
   "metadata": {},
   "outputs": [],
   "source": []
  },
  {
   "cell_type": "code",
   "execution_count": null,
   "id": "65066b5d-bbae-4afa-b648-d635971cd251",
   "metadata": {},
   "outputs": [],
   "source": []
  },
  {
   "cell_type": "code",
   "execution_count": 94,
   "id": "a4314a84-5d2e-4c56-83d4-692912ee5f79",
   "metadata": {},
   "outputs": [
    {
     "data": {
      "text/html": [
       "269"
      ],
      "text/latex": [
       "269"
      ],
      "text/markdown": [
       "269"
      ],
      "text/plain": [
       "[1] 269"
      ]
     },
     "metadata": {},
     "output_type": "display_data"
    }
   ],
   "source": [
    "i"
   ]
  },
  {
   "cell_type": "code",
   "execution_count": 95,
   "id": "170e9bd7-6652-423a-b58b-3dd771d4cc0d",
   "metadata": {},
   "outputs": [
    {
     "data": {
      "text/html": [
       "'1997034'"
      ],
      "text/latex": [
       "'1997034'"
      ],
      "text/markdown": [
       "'1997034'"
      ],
      "text/plain": [
       "[1] \"1997034\""
      ]
     },
     "metadata": {},
     "output_type": "display_data"
    }
   ],
   "source": [
    "pos"
   ]
  },
  {
   "cell_type": "code",
   "execution_count": 96,
   "id": "b493791d-c9a3-42bb-af38-5fc978f5aa8e",
   "metadata": {},
   "outputs": [
    {
     "data": {
      "text/html": [
       "9.3597759293037"
      ],
      "text/latex": [
       "9.3597759293037"
      ],
      "text/markdown": [
       "9.3597759293037"
      ],
      "text/plain": [
       "[1] 9.359776"
      ]
     },
     "metadata": {},
     "output_type": "display_data"
    }
   ],
   "source": [
    "gwas"
   ]
  },
  {
   "cell_type": "code",
   "execution_count": 97,
   "id": "ede13b23-ec79-4861-a0f4-4f2bd2bb07f0",
   "metadata": {},
   "outputs": [
    {
     "data": {
      "text/html": [
       "1"
      ],
      "text/latex": [
       "1"
      ],
      "text/markdown": [
       "1"
      ],
      "text/plain": [
       "[1] 1"
      ]
     },
     "metadata": {},
     "output_type": "display_data"
    }
   ],
   "source": [
    "length(pos)"
   ]
  },
  {
   "cell_type": "code",
   "execution_count": 98,
   "id": "5cd8089c-2616-4eda-8b67-d102a50cfd79",
   "metadata": {},
   "outputs": [
    {
     "data": {
      "text/html": [
       "1"
      ],
      "text/latex": [
       "1"
      ],
      "text/markdown": [
       "1"
      ],
      "text/plain": [
       "[1] 1"
      ]
     },
     "metadata": {},
     "output_type": "display_data"
    }
   ],
   "source": [
    "length(gwas)"
   ]
  },
  {
   "cell_type": "code",
   "execution_count": 99,
   "id": "8e13c25a-1b93-4186-b614-ea68f07dba7d",
   "metadata": {},
   "outputs": [
    {
     "data": {
      "text/html": [
       "<table class=\"dataframe\">\n",
       "<caption>A data.frame: 1 × 3</caption>\n",
       "<thead>\n",
       "\t<tr><th></th><th scope=col>features</th><th scope=col>coefs</th><th scope=col>cg</th></tr>\n",
       "\t<tr><th></th><th scope=col>&lt;chr&gt;</th><th scope=col>&lt;dbl&gt;</th><th scope=col>&lt;dbl&gt;</th></tr>\n",
       "</thead>\n",
       "<tbody>\n",
       "\t<tr><th scope=row>1679</th><td>1997034</td><td>-1.781668e-18</td><td>1989924</td></tr>\n",
       "</tbody>\n",
       "</table>\n"
      ],
      "text/latex": [
       "A data.frame: 1 × 3\n",
       "\\begin{tabular}{r|lll}\n",
       "  & features & coefs & cg\\\\\n",
       "  & <chr> & <dbl> & <dbl>\\\\\n",
       "\\hline\n",
       "\t1679 & 1997034 & -1.781668e-18 & 1989924\\\\\n",
       "\\end{tabular}\n"
      ],
      "text/markdown": [
       "\n",
       "A data.frame: 1 × 3\n",
       "\n",
       "| <!--/--> | features &lt;chr&gt; | coefs &lt;dbl&gt; | cg &lt;dbl&gt; |\n",
       "|---|---|---|---|\n",
       "| 1679 | 1997034 | -1.781668e-18 | 1989924 |\n",
       "\n"
      ],
      "text/plain": [
       "     features coefs         cg     \n",
       "1679 1997034  -1.781668e-18 1989924"
      ]
     },
     "metadata": {},
     "output_type": "display_data"
    }
   ],
   "source": [
    "models.all[models.all$cg == cg2[i], ]"
   ]
  },
  {
   "cell_type": "code",
   "execution_count": 100,
   "id": "0f3ea4dd-de72-40df-91d6-4deee103e85c",
   "metadata": {},
   "outputs": [
    {
     "data": {
      "text/html": [
       "<table class=\"dataframe\">\n",
       "<caption>A data.frame: 1 × 9</caption>\n",
       "<thead>\n",
       "\t<tr><th></th><th scope=col>snp</th><th scope=col>chr</th><th scope=col>pos_hg38</th><th scope=col>pos_hg19</th><th scope=col>info</th><th scope=col>A1</th><th scope=col>A2</th><th scope=col>z</th><th scope=col>p</th></tr>\n",
       "\t<tr><th></th><th scope=col>&lt;fct&gt;</th><th scope=col>&lt;fct&gt;</th><th scope=col>&lt;int&gt;</th><th scope=col>&lt;int&gt;</th><th scope=col>&lt;dbl&gt;</th><th scope=col>&lt;chr&gt;</th><th scope=col>&lt;chr&gt;</th><th scope=col>&lt;dbl&gt;</th><th scope=col>&lt;dbl&gt;</th></tr>\n",
       "</thead>\n",
       "<tbody>\n",
       "\t<tr><th scope=row>1592761</th><td>rs4721295</td><td>chr7</td><td>1997034</td><td>2036669</td><td>0.994</td><td>T</td><td>G</td><td>9.359776</td><td>5.765e-21</td></tr>\n",
       "</tbody>\n",
       "</table>\n"
      ],
      "text/latex": [
       "A data.frame: 1 × 9\n",
       "\\begin{tabular}{r|lllllllll}\n",
       "  & snp & chr & pos\\_hg38 & pos\\_hg19 & info & A1 & A2 & z & p\\\\\n",
       "  & <fct> & <fct> & <int> & <int> & <dbl> & <chr> & <chr> & <dbl> & <dbl>\\\\\n",
       "\\hline\n",
       "\t1592761 & rs4721295 & chr7 & 1997034 & 2036669 & 0.994 & T & G & 9.359776 & 5.765e-21\\\\\n",
       "\\end{tabular}\n"
      ],
      "text/markdown": [
       "\n",
       "A data.frame: 1 × 9\n",
       "\n",
       "| <!--/--> | snp &lt;fct&gt; | chr &lt;fct&gt; | pos_hg38 &lt;int&gt; | pos_hg19 &lt;int&gt; | info &lt;dbl&gt; | A1 &lt;chr&gt; | A2 &lt;chr&gt; | z &lt;dbl&gt; | p &lt;dbl&gt; |\n",
       "|---|---|---|---|---|---|---|---|---|---|\n",
       "| 1592761 | rs4721295 | chr7 | 1997034 | 2036669 | 0.994 | T | G | 9.359776 | 5.765e-21 |\n",
       "\n"
      ],
      "text/plain": [
       "        snp       chr  pos_hg38 pos_hg19 info  A1 A2 z        p        \n",
       "1592761 rs4721295 chr7 1997034  2036669  0.994 T  G  9.359776 5.765e-21"
      ]
     },
     "metadata": {},
     "output_type": "display_data"
    }
   ],
   "source": [
    "snp.gwas2[is.element(snp.gwas2$pos_hg38, pos), ]"
   ]
  },
  {
   "cell_type": "code",
   "execution_count": null,
   "id": "6c26320f-8327-4798-a4a8-688da8a232cd",
   "metadata": {},
   "outputs": [],
   "source": []
  },
  {
   "cell_type": "code",
   "execution_count": null,
   "id": "a3409bbc-aad9-4e4e-a96e-8a2708013cea",
   "metadata": {},
   "outputs": [],
   "source": []
  },
  {
   "cell_type": "code",
   "execution_count": 101,
   "id": "0c31ad3e-4c74-4b93-bed1-c628df41a756",
   "metadata": {},
   "outputs": [],
   "source": [
    "# Why do we get non-conformable arguments for iteration 57?"
   ]
  },
  {
   "cell_type": "code",
   "execution_count": null,
   "id": "af58f5cb-4dac-40e0-976c-8fef56a53ad9",
   "metadata": {},
   "outputs": [],
   "source": []
  },
  {
   "cell_type": "code",
   "execution_count": null,
   "id": "c4a157bc-a24d-4bf8-bb5c-e5359747c5df",
   "metadata": {},
   "outputs": [],
   "source": []
  },
  {
   "cell_type": "code",
   "execution_count": null,
   "id": "900dd643-8906-41aa-9658-7fbfd394ee3d",
   "metadata": {},
   "outputs": [],
   "source": []
  },
  {
   "cell_type": "code",
   "execution_count": 102,
   "id": "dccc0ad7-c8ec-47b9-8fd1-204576e6482e",
   "metadata": {},
   "outputs": [
    {
     "data": {
      "text/html": [
       "-1.7816681885052e-18"
      ],
      "text/latex": [
       "-1.7816681885052e-18"
      ],
      "text/markdown": [
       "-1.7816681885052e-18"
      ],
      "text/plain": [
       "[1] -1.781668e-18"
      ]
     },
     "metadata": {},
     "output_type": "display_data"
    }
   ],
   "source": [
    "weight"
   ]
  },
  {
   "cell_type": "code",
   "execution_count": 103,
   "id": "55bb7b60-c52c-4462-9a53-8d103db474a7",
   "metadata": {},
   "outputs": [
    {
     "data": {
      "text/html": [
       "1"
      ],
      "text/latex": [
       "1"
      ],
      "text/markdown": [
       "1"
      ],
      "text/plain": [
       "[1] 1"
      ]
     },
     "metadata": {},
     "output_type": "display_data"
    }
   ],
   "source": [
    "length(weight)"
   ]
  },
  {
   "cell_type": "code",
   "execution_count": 104,
   "id": "6804d2d5-c798-48ba-bdef-e073d0e61788",
   "metadata": {},
   "outputs": [
    {
     "data": {
      "text/html": [
       "9.3597759293037"
      ],
      "text/latex": [
       "9.3597759293037"
      ],
      "text/markdown": [
       "9.3597759293037"
      ],
      "text/plain": [
       "[1] 9.359776"
      ]
     },
     "metadata": {},
     "output_type": "display_data"
    }
   ],
   "source": [
    "gwas"
   ]
  },
  {
   "cell_type": "code",
   "execution_count": 105,
   "id": "f1f81f5a-dd46-4180-86fc-2dcd9ae390c5",
   "metadata": {},
   "outputs": [
    {
     "data": {
      "text/html": [
       "1"
      ],
      "text/latex": [
       "1"
      ],
      "text/markdown": [
       "1"
      ],
      "text/plain": [
       "[1] 1"
      ]
     },
     "metadata": {},
     "output_type": "display_data"
    }
   ],
   "source": [
    "length(gwas)"
   ]
  },
  {
   "cell_type": "code",
   "execution_count": 106,
   "id": "b78985e2-cb5d-4c1d-adf4-d22a1f5dae0b",
   "metadata": {},
   "outputs": [
    {
     "data": {
      "text/html": [
       "9.3597759293037"
      ],
      "text/latex": [
       "9.3597759293037"
      ],
      "text/markdown": [
       "9.3597759293037"
      ],
      "text/plain": [
       "[1] 9.359776"
      ]
     },
     "metadata": {},
     "output_type": "display_data"
    }
   ],
   "source": [
    "head(gwas)"
   ]
  },
  {
   "cell_type": "code",
   "execution_count": 107,
   "id": "a7639e85-621f-44e4-bae1-93f2f9e800f2",
   "metadata": {},
   "outputs": [
    {
     "data": {
      "text/html": [
       "<table class=\"dataframe\">\n",
       "<caption>A data.frame: 6 × 10</caption>\n",
       "<thead>\n",
       "\t<tr><th></th><th scope=col>SNP</th><th scope=col>RS</th><th scope=col>CHR</th><th scope=col>POS</th><th scope=col>VCF_COUNTED</th><th scope=col>VCF_ALT</th><th scope=col>AF</th><th scope=col>HDS</th><th scope=col>COUNTED</th><th scope=col>ALT</th></tr>\n",
       "\t<tr><th></th><th scope=col>&lt;chr&gt;</th><th scope=col>&lt;chr&gt;</th><th scope=col>&lt;chr&gt;</th><th scope=col>&lt;int&gt;</th><th scope=col>&lt;chr&gt;</th><th scope=col>&lt;chr&gt;</th><th scope=col>&lt;dbl&gt;</th><th scope=col>&lt;dbl&gt;</th><th scope=col>&lt;chr&gt;</th><th scope=col>&lt;chr&gt;</th></tr>\n",
       "</thead>\n",
       "<tbody>\n",
       "\t<tr><th scope=row>chr7:1963098:T:C</th><td>chr7:1963098:T:C</td><td>rs11773627</td><td>chr7</td><td>1963098</td><td>T</td><td>C</td><td>0.17371</td><td>0.97471</td><td>T</td><td>C</td></tr>\n",
       "\t<tr><th scope=row>chr7:1963408:C:T</th><td>chr7:1963408:C:T</td><td>rs6972374 </td><td>chr7</td><td>1963408</td><td>C</td><td>T</td><td>0.37882</td><td>0.99781</td><td>C</td><td>T</td></tr>\n",
       "\t<tr><th scope=row>chr7:1964786:C:T</th><td>chr7:1964786:C:T</td><td>rs12666575</td><td>chr7</td><td>1964786</td><td>C</td><td>T</td><td>0.27908</td><td>1.05016</td><td>C</td><td>T</td></tr>\n",
       "\t<tr><th scope=row>chr7:1966112:T:C</th><td>chr7:1966112:T:C</td><td>rs11766575</td><td>chr7</td><td>1966112</td><td>T</td><td>C</td><td>0.27687</td><td>1.05159</td><td>T</td><td>C</td></tr>\n",
       "\t<tr><th scope=row>chr7:1973362:G:A</th><td>chr7:1973362:G:A</td><td>rs4721264 </td><td>chr7</td><td>1973362</td><td>G</td><td>A</td><td>0.30366</td><td>1.03061</td><td>G</td><td>A</td></tr>\n",
       "\t<tr><th scope=row>chr7:1975412:T:G</th><td>chr7:1975412:T:G</td><td>rs62442944</td><td>chr7</td><td>1975412</td><td>T</td><td>G</td><td>0.16749</td><td>0.96670</td><td>T</td><td>G</td></tr>\n",
       "</tbody>\n",
       "</table>\n"
      ],
      "text/latex": [
       "A data.frame: 6 × 10\n",
       "\\begin{tabular}{r|llllllllll}\n",
       "  & SNP & RS & CHR & POS & VCF\\_COUNTED & VCF\\_ALT & AF & HDS & COUNTED & ALT\\\\\n",
       "  & <chr> & <chr> & <chr> & <int> & <chr> & <chr> & <dbl> & <dbl> & <chr> & <chr>\\\\\n",
       "\\hline\n",
       "\tchr7:1963098:T:C & chr7:1963098:T:C & rs11773627 & chr7 & 1963098 & T & C & 0.17371 & 0.97471 & T & C\\\\\n",
       "\tchr7:1963408:C:T & chr7:1963408:C:T & rs6972374  & chr7 & 1963408 & C & T & 0.37882 & 0.99781 & C & T\\\\\n",
       "\tchr7:1964786:C:T & chr7:1964786:C:T & rs12666575 & chr7 & 1964786 & C & T & 0.27908 & 1.05016 & C & T\\\\\n",
       "\tchr7:1966112:T:C & chr7:1966112:T:C & rs11766575 & chr7 & 1966112 & T & C & 0.27687 & 1.05159 & T & C\\\\\n",
       "\tchr7:1973362:G:A & chr7:1973362:G:A & rs4721264  & chr7 & 1973362 & G & A & 0.30366 & 1.03061 & G & A\\\\\n",
       "\tchr7:1975412:T:G & chr7:1975412:T:G & rs62442944 & chr7 & 1975412 & T & G & 0.16749 & 0.96670 & T & G\\\\\n",
       "\\end{tabular}\n"
      ],
      "text/markdown": [
       "\n",
       "A data.frame: 6 × 10\n",
       "\n",
       "| <!--/--> | SNP &lt;chr&gt; | RS &lt;chr&gt; | CHR &lt;chr&gt; | POS &lt;int&gt; | VCF_COUNTED &lt;chr&gt; | VCF_ALT &lt;chr&gt; | AF &lt;dbl&gt; | HDS &lt;dbl&gt; | COUNTED &lt;chr&gt; | ALT &lt;chr&gt; |\n",
       "|---|---|---|---|---|---|---|---|---|---|---|\n",
       "| chr7:1963098:T:C | chr7:1963098:T:C | rs11773627 | chr7 | 1963098 | T | C | 0.17371 | 0.97471 | T | C |\n",
       "| chr7:1963408:C:T | chr7:1963408:C:T | rs6972374  | chr7 | 1963408 | C | T | 0.37882 | 0.99781 | C | T |\n",
       "| chr7:1964786:C:T | chr7:1964786:C:T | rs12666575 | chr7 | 1964786 | C | T | 0.27908 | 1.05016 | C | T |\n",
       "| chr7:1966112:T:C | chr7:1966112:T:C | rs11766575 | chr7 | 1966112 | T | C | 0.27687 | 1.05159 | T | C |\n",
       "| chr7:1973362:G:A | chr7:1973362:G:A | rs4721264  | chr7 | 1973362 | G | A | 0.30366 | 1.03061 | G | A |\n",
       "| chr7:1975412:T:G | chr7:1975412:T:G | rs62442944 | chr7 | 1975412 | T | G | 0.16749 | 0.96670 | T | G |\n",
       "\n"
      ],
      "text/plain": [
       "                 SNP              RS         CHR  POS     VCF_COUNTED VCF_ALT\n",
       "chr7:1963098:T:C chr7:1963098:T:C rs11773627 chr7 1963098 T           C      \n",
       "chr7:1963408:C:T chr7:1963408:C:T rs6972374  chr7 1963408 C           T      \n",
       "chr7:1964786:C:T chr7:1964786:C:T rs12666575 chr7 1964786 C           T      \n",
       "chr7:1966112:T:C chr7:1966112:T:C rs11766575 chr7 1966112 T           C      \n",
       "chr7:1973362:G:A chr7:1973362:G:A rs4721264  chr7 1973362 G           A      \n",
       "chr7:1975412:T:G chr7:1975412:T:G rs62442944 chr7 1975412 T           G      \n",
       "                 AF      HDS     COUNTED ALT\n",
       "chr7:1963098:T:C 0.17371 0.97471 T       C  \n",
       "chr7:1963408:C:T 0.37882 0.99781 C       T  \n",
       "chr7:1964786:C:T 0.27908 1.05016 C       T  \n",
       "chr7:1966112:T:C 0.27687 1.05159 T       C  \n",
       "chr7:1973362:G:A 0.30366 1.03061 G       A  \n",
       "chr7:1975412:T:G 0.16749 0.96670 T       G  "
      ]
     },
     "metadata": {},
     "output_type": "display_data"
    }
   ],
   "source": [
    "head(map3)"
   ]
  },
  {
   "cell_type": "code",
   "execution_count": 108,
   "id": "387129e1-c89e-40b2-9f02-0ee18c3272fd",
   "metadata": {},
   "outputs": [
    {
     "data": {
      "text/html": [
       "<table class=\"dataframe\">\n",
       "<caption>A matrix: 1 × 489 of type dbl</caption>\n",
       "<thead>\n",
       "\t<tr><th></th><th scope=col>HG00096</th><th scope=col>HG00097</th><th scope=col>HG00099</th><th scope=col>HG00101</th><th scope=col>HG00102</th><th scope=col>HG00103</th><th scope=col>HG00105</th><th scope=col>HG00107</th><th scope=col>HG00108</th><th scope=col>HG00109</th><th scope=col>⋯</th><th scope=col>NA20814</th><th scope=col>NA20815</th><th scope=col>NA20818</th><th scope=col>NA20819</th><th scope=col>NA20821</th><th scope=col>NA20822</th><th scope=col>NA20826</th><th scope=col>NA20827</th><th scope=col>NA20828</th><th scope=col>NA20832</th></tr>\n",
       "</thead>\n",
       "<tbody>\n",
       "\t<tr><th scope=row>rs4721295</th><td>2</td><td>1</td><td>1</td><td>1</td><td>1</td><td>1</td><td>1</td><td>2</td><td>0</td><td>1</td><td>⋯</td><td>0</td><td>1</td><td>1</td><td>1</td><td>0</td><td>0</td><td>1</td><td>2</td><td>0</td><td>0</td></tr>\n",
       "</tbody>\n",
       "</table>\n"
      ],
      "text/latex": [
       "A matrix: 1 × 489 of type dbl\n",
       "\\begin{tabular}{r|lllllllllllllllllllll}\n",
       "  & HG00096 & HG00097 & HG00099 & HG00101 & HG00102 & HG00103 & HG00105 & HG00107 & HG00108 & HG00109 & ⋯ & NA20814 & NA20815 & NA20818 & NA20819 & NA20821 & NA20822 & NA20826 & NA20827 & NA20828 & NA20832\\\\\n",
       "\\hline\n",
       "\trs4721295 & 2 & 1 & 1 & 1 & 1 & 1 & 1 & 2 & 0 & 1 & ⋯ & 0 & 1 & 1 & 1 & 0 & 0 & 1 & 2 & 0 & 0\\\\\n",
       "\\end{tabular}\n"
      ],
      "text/markdown": [
       "\n",
       "A matrix: 1 × 489 of type dbl\n",
       "\n",
       "| <!--/--> | HG00096 | HG00097 | HG00099 | HG00101 | HG00102 | HG00103 | HG00105 | HG00107 | HG00108 | HG00109 | ⋯ | NA20814 | NA20815 | NA20818 | NA20819 | NA20821 | NA20822 | NA20826 | NA20827 | NA20828 | NA20832 |\n",
       "|---|---|---|---|---|---|---|---|---|---|---|---|---|---|---|---|---|---|---|---|---|---|\n",
       "| rs4721295 | 2 | 1 | 1 | 1 | 1 | 1 | 1 | 2 | 0 | 1 | ⋯ | 0 | 1 | 1 | 1 | 0 | 0 | 1 | 2 | 0 | 0 |\n",
       "\n"
      ],
      "text/plain": [
       "          HG00096 HG00097 HG00099 HG00101 HG00102 HG00103 HG00105 HG00107\n",
       "rs4721295 2       1       1       1       1       1       1       2      \n",
       "          HG00108 HG00109 ⋯ NA20814 NA20815 NA20818 NA20819 NA20821 NA20822\n",
       "rs4721295 0       1       ⋯ 0       1       1       1       0       0      \n",
       "          NA20826 NA20827 NA20828 NA20832\n",
       "rs4721295 1       2       0       0      "
      ]
     },
     "metadata": {},
     "output_type": "display_data"
    }
   ],
   "source": [
    "head(geno)"
   ]
  },
  {
   "cell_type": "code",
   "execution_count": 109,
   "id": "c5fbba20-e398-4e3d-8c18-c99857820da5",
   "metadata": {},
   "outputs": [],
   "source": [
    "# mwas by models of EA samples\n",
    "cg2 <- unique(models.ea$cg)\n",
    "mwas.ea <- matrix(0,nrow=length(cg2),ncol=2)\n",
    "for(i in 1:length(cg2)){\n",
    "        pos <- models.ea[models.ea$cg == cg2[i],1]\n",
    "        gwas <- snp.gwas2$z[is.element(snp.gwas2$pos_hg38, pos)]\n",
    "        weight <- models.ea[models.ea$cg == cg2[i],2]\n",
    "        #geno <- snp.1kg.eur2[match(pos,map.1kg.eur2$POS),]\n",
    "\n",
    "        match_indices <- match(pos, map.1kg.eur2$POS)\n",
    "\n",
    "        tryCatch({\n",
    "            geno <- snp.1kg.eur2[match_indices, , drop = FALSE]\n",
    "        }, error = function(e) {\n",
    "            cat(\"Error accessing genotype data at iteration:\", i, \"\\n\")\n",
    "            cat(\"Error message:\", e$message, \"\\n\")\n",
    "            stop(\"Stopping execution due to error.\")\n",
    "        })    \n",
    "    \n",
    "        mwas.ea[i,] <- MWAS(gwas, weight, t(geno))\n",
    "}\n",
    "rownames(mwas.ea) <- cg2\n",
    "colnames(mwas.ea) <- c(\"z\",\"p\")"
   ]
  },
  {
   "cell_type": "code",
   "execution_count": 110,
   "id": "207bf56e-0680-4f1b-a54d-f5e4b68cf77d",
   "metadata": {},
   "outputs": [
    {
     "data": {
      "text/html": [
       "<table class=\"dataframe\">\n",
       "<caption>A matrix: 6 × 2 of type dbl</caption>\n",
       "<thead>\n",
       "\t<tr><th></th><th scope=col>z</th><th scope=col>p</th></tr>\n",
       "</thead>\n",
       "<tbody>\n",
       "\t<tr><th scope=row>1980077</th><td>9.859725</td><td>6.221983e-23</td></tr>\n",
       "\t<tr><th scope=row>1980101</th><td>9.867943</td><td>5.732825e-23</td></tr>\n",
       "\t<tr><th scope=row>1980129</th><td>9.869397</td><td>5.650312e-23</td></tr>\n",
       "\t<tr><th scope=row>1980136</th><td>9.872536</td><td>5.476245e-23</td></tr>\n",
       "\t<tr><th scope=row>1980145</th><td>9.834843</td><td>7.969200e-23</td></tr>\n",
       "\t<tr><th scope=row>1980179</th><td>9.921721</td><td>3.349299e-23</td></tr>\n",
       "</tbody>\n",
       "</table>\n"
      ],
      "text/latex": [
       "A matrix: 6 × 2 of type dbl\n",
       "\\begin{tabular}{r|ll}\n",
       "  & z & p\\\\\n",
       "\\hline\n",
       "\t1980077 & 9.859725 & 6.221983e-23\\\\\n",
       "\t1980101 & 9.867943 & 5.732825e-23\\\\\n",
       "\t1980129 & 9.869397 & 5.650312e-23\\\\\n",
       "\t1980136 & 9.872536 & 5.476245e-23\\\\\n",
       "\t1980145 & 9.834843 & 7.969200e-23\\\\\n",
       "\t1980179 & 9.921721 & 3.349299e-23\\\\\n",
       "\\end{tabular}\n"
      ],
      "text/markdown": [
       "\n",
       "A matrix: 6 × 2 of type dbl\n",
       "\n",
       "| <!--/--> | z | p |\n",
       "|---|---|---|\n",
       "| 1980077 | 9.859725 | 6.221983e-23 |\n",
       "| 1980101 | 9.867943 | 5.732825e-23 |\n",
       "| 1980129 | 9.869397 | 5.650312e-23 |\n",
       "| 1980136 | 9.872536 | 5.476245e-23 |\n",
       "| 1980145 | 9.834843 | 7.969200e-23 |\n",
       "| 1980179 | 9.921721 | 3.349299e-23 |\n",
       "\n"
      ],
      "text/plain": [
       "        z        p           \n",
       "1980077 9.859725 6.221983e-23\n",
       "1980101 9.867943 5.732825e-23\n",
       "1980129 9.869397 5.650312e-23\n",
       "1980136 9.872536 5.476245e-23\n",
       "1980145 9.834843 7.969200e-23\n",
       "1980179 9.921721 3.349299e-23"
      ]
     },
     "metadata": {},
     "output_type": "display_data"
    }
   ],
   "source": [
    "head(mwas.all)"
   ]
  },
  {
   "cell_type": "code",
   "execution_count": 111,
   "id": "4b88eb34-6d44-4fe7-ad8a-c49dc1a71a81",
   "metadata": {},
   "outputs": [],
   "source": [
    "mwas.all.1se <- mwas.all"
   ]
  },
  {
   "cell_type": "markdown",
   "id": "0765a889-36b0-4d87-bd66-4f33dbea0de5",
   "metadata": {},
   "source": [
    "### With `lambda.min`"
   ]
  },
  {
   "cell_type": "markdown",
   "id": "047c1cca-57f3-494d-9f25-08d7959713d9",
   "metadata": {},
   "source": [
    "#### Stage 1"
   ]
  },
  {
   "cell_type": "code",
   "execution_count": 112,
   "id": "61a5f950-2c27-40b1-aa96-809004183249",
   "metadata": {},
   "outputs": [],
   "source": [
    "set.seed(42)\n",
    "for(k in 1:length(wind)){\n",
    "    models.ea <- c()\n",
    "    models.all <- c()\n",
    "    for(i in 1:length(cg)){\n",
    "    #for(i in 1){\n",
    "        #cat(i,\"\\n\")\n",
    "        #print(paste0(\"This cg is: \", cg[i]))\n",
    "        range1 <- ifelse(cg[i] - wind[k] > 0,cg[i] - wind[k],0)\n",
    "        range2 <- cg[i] + wind[k]\n",
    "        idx <- map3$POS > range1 & map3$POS < range2\n",
    "        # go to next cg if no snps within window\n",
    "        if(sum(idx) <= 1){\n",
    "                next\n",
    "        }\n",
    "        geno <- snp3[idx,] # changed snp2 to snp3\n",
    "        rownames(geno) <- map3$POS[idx]\n",
    "        trainX <- t(geno)\n",
    "        trainY <- p.residual[i,]\n",
    "        fit <- elastic.net(trainX,trainY)\n",
    "        fit <- tryCatch(\n",
    "                elastic.net(trainX,trainY, \"min\"),\n",
    "                error = function(e) {return (\"err\")})\n",
    "        if(!is.data.frame(fit)){\n",
    "            if(fit == \"err\"){\n",
    "                next\n",
    "            }\n",
    "        }\n",
    "        if(nrow(fit) == 0) next\n",
    "\n",
    "        fit$cg <- cg[i]\n",
    "        models.all <- rbind(models.all,fit)\n",
    "        # EA only\n",
    "        trainX <- trainX[idx.ea,]\n",
    "        if(sum(apply(trainX,2,var)!=0) <= 1){\n",
    "                next\n",
    "        }\n",
    "        trainY <- trainY[idx.ea]\n",
    "        fit <- tryCatch(\n",
    "                elastic.net(trainX,trainY, \"min\"),\n",
    "                error = function(e) {return (\"err\")})\n",
    "        if(!is.data.frame(fit)){\n",
    "            if(fit == \"err\"){\n",
    "                next\n",
    "            }\n",
    "        }\n",
    "        if(nrow(fit) == 0) next\n",
    "        fit$cg <- cg[i]\n",
    "        models.ea <- rbind(models.ea,fit)\n",
    "    }\n",
    "}"
   ]
  },
  {
   "cell_type": "code",
   "execution_count": 113,
   "id": "edde27e7-2435-474e-8fee-5870af257547",
   "metadata": {},
   "outputs": [],
   "source": [
    "models.ea <- models.ea[models.ea[,1] != \"(Intercept)\",]\n",
    "models.all <- models.all[models.all[,1] != \"(Intercept)\",]"
   ]
  },
  {
   "cell_type": "markdown",
   "id": "e1a14145-108e-4f1c-9abb-fd4744ba5105",
   "metadata": {},
   "source": [
    "#### Stage 2"
   ]
  },
  {
   "cell_type": "code",
   "execution_count": 114,
   "id": "582b72bb-156b-4d61-9a28-b6e07b2feee6",
   "metadata": {},
   "outputs": [],
   "source": [
    "if(!dir.exists(outd)) dir.create(outd)"
   ]
  },
  {
   "cell_type": "code",
   "execution_count": 115,
   "id": "0dc61fc5-dcd5-41ca-b76d-61e379df41fc",
   "metadata": {},
   "outputs": [],
   "source": [
    "set.seed(42)\n",
    "# mwas by models of all samples\n",
    "cg2 <- unique(models.all$cg)\n",
    "mwas.all <- matrix(0,nrow=length(cg2),ncol=2)\n",
    "for(i in 1:length(cg2)){\n",
    "    pos <- models.all[models.all$cg == cg2[i],1]\n",
    "    gwas <- snp.gwas2$z[is.element(snp.gwas2$pos_hg38, pos)]\n",
    "    weight <- models.all[models.all$cg == cg2[i],2]\n",
    "    #geno <- snp.1kg.eur2[match(pos,map.1kg.eur2$POS),]\n",
    "\n",
    "    match_indices <- match(pos, map.1kg.eur2$POS)\n",
    "\n",
    "    tryCatch({\n",
    "        geno <- snp.1kg.eur2[match_indices, , drop = FALSE]\n",
    "    }, error = function(e) {\n",
    "        cat(\"Error accessing genotype data at iteration:\", i, \"\\n\")\n",
    "        cat(\"Error message:\", e$message, \"\\n\")\n",
    "        stop(\"Stopping execution due to error.\")\n",
    "    })\n",
    "\n",
    "    mwas.all[i,] <- MWAS(gwas, weight, t(geno))\n",
    "}\n",
    "rownames(mwas.all) <- cg2\n",
    "colnames(mwas.all) <- c(\"z\",\"p\")"
   ]
  },
  {
   "cell_type": "code",
   "execution_count": 116,
   "id": "4002b896-fbac-46f7-aae3-671083aa49d7",
   "metadata": {},
   "outputs": [],
   "source": [
    "# mwas by models of EA samples\n",
    "cg2 <- unique(models.ea$cg)\n",
    "mwas.ea <- matrix(0,nrow=length(cg2),ncol=2)\n",
    "for(i in 1:length(cg2)){\n",
    "    pos <- models.ea[models.ea$cg == cg2[i],1]\n",
    "    gwas <- snp.gwas2$z[is.element(snp.gwas2$pos_hg38, pos)]\n",
    "    weight <- models.ea[models.ea$cg == cg2[i],2]\n",
    "    #geno <- snp.1kg.eur2[match(pos,map.1kg.eur2$POS),]\n",
    "\n",
    "    match_indices <- match(pos, map.1kg.eur2$POS)\n",
    "\n",
    "    tryCatch({\n",
    "        geno <- snp.1kg.eur2[match_indices, , drop = FALSE]\n",
    "    }, error = function(e) {\n",
    "        cat(\"Error accessing genotype data at iteration:\", i, \"\\n\")\n",
    "        cat(\"Error message:\", e$message, \"\\n\")\n",
    "        stop(\"Stopping execution due to error.\")\n",
    "    })    \n",
    "\n",
    "    mwas.ea[i,] <- MWAS(gwas, weight, t(geno))\n",
    "}\n",
    "rownames(mwas.ea) <- cg2\n",
    "colnames(mwas.ea) <- c(\"z\",\"p\")"
   ]
  },
  {
   "cell_type": "code",
   "execution_count": 117,
   "id": "4131a37d-d770-49e0-b06e-f7731eda00d6",
   "metadata": {
    "scrolled": true
   },
   "outputs": [
    {
     "data": {
      "text/html": [
       "<table class=\"dataframe\">\n",
       "<caption>A matrix: 6 × 2 of type dbl</caption>\n",
       "<thead>\n",
       "\t<tr><th></th><th scope=col>z</th><th scope=col>p</th></tr>\n",
       "</thead>\n",
       "<tbody>\n",
       "\t<tr><th scope=row>1980077</th><td>10.34372</td><td>4.468363e-25</td></tr>\n",
       "\t<tr><th scope=row>1980101</th><td>10.38689</td><td>2.844841e-25</td></tr>\n",
       "\t<tr><th scope=row>1980129</th><td>10.49067</td><td>9.535207e-26</td></tr>\n",
       "\t<tr><th scope=row>1980136</th><td>10.69017</td><td>1.131600e-26</td></tr>\n",
       "\t<tr><th scope=row>1980145</th><td>10.51795</td><td>7.141185e-26</td></tr>\n",
       "\t<tr><th scope=row>1980179</th><td>10.72197</td><td>8.027174e-27</td></tr>\n",
       "</tbody>\n",
       "</table>\n"
      ],
      "text/latex": [
       "A matrix: 6 × 2 of type dbl\n",
       "\\begin{tabular}{r|ll}\n",
       "  & z & p\\\\\n",
       "\\hline\n",
       "\t1980077 & 10.34372 & 4.468363e-25\\\\\n",
       "\t1980101 & 10.38689 & 2.844841e-25\\\\\n",
       "\t1980129 & 10.49067 & 9.535207e-26\\\\\n",
       "\t1980136 & 10.69017 & 1.131600e-26\\\\\n",
       "\t1980145 & 10.51795 & 7.141185e-26\\\\\n",
       "\t1980179 & 10.72197 & 8.027174e-27\\\\\n",
       "\\end{tabular}\n"
      ],
      "text/markdown": [
       "\n",
       "A matrix: 6 × 2 of type dbl\n",
       "\n",
       "| <!--/--> | z | p |\n",
       "|---|---|---|\n",
       "| 1980077 | 10.34372 | 4.468363e-25 |\n",
       "| 1980101 | 10.38689 | 2.844841e-25 |\n",
       "| 1980129 | 10.49067 | 9.535207e-26 |\n",
       "| 1980136 | 10.69017 | 1.131600e-26 |\n",
       "| 1980145 | 10.51795 | 7.141185e-26 |\n",
       "| 1980179 | 10.72197 | 8.027174e-27 |\n",
       "\n"
      ],
      "text/plain": [
       "        z        p           \n",
       "1980077 10.34372 4.468363e-25\n",
       "1980101 10.38689 2.844841e-25\n",
       "1980129 10.49067 9.535207e-26\n",
       "1980136 10.69017 1.131600e-26\n",
       "1980145 10.51795 7.141185e-26\n",
       "1980179 10.72197 8.027174e-27"
      ]
     },
     "metadata": {},
     "output_type": "display_data"
    }
   ],
   "source": [
    "head(mwas.all)"
   ]
  },
  {
   "cell_type": "code",
   "execution_count": 118,
   "id": "b30cbbe2-8dc6-4d04-b454-30c6216b87ee",
   "metadata": {},
   "outputs": [],
   "source": [
    "mwas.all.min <- mwas.all"
   ]
  },
  {
   "cell_type": "markdown",
   "id": "87456298-fa83-4288-9607-7d4d4457a01a",
   "metadata": {},
   "source": [
    "## Compare"
   ]
  },
  {
   "cell_type": "code",
   "execution_count": 119,
   "id": "d8b4153c-b4a2-4add-b174-8a9945da6962",
   "metadata": {},
   "outputs": [
    {
     "data": {
      "text/html": [
       "<table class=\"dataframe\">\n",
       "<caption>A matrix: 269 × 2 of type dbl</caption>\n",
       "<thead>\n",
       "\t<tr><th></th><th scope=col>z</th><th scope=col>p</th></tr>\n",
       "</thead>\n",
       "<tbody>\n",
       "\t<tr><th scope=row>1980077</th><td> 9.859725</td><td>6.221983e-23</td></tr>\n",
       "\t<tr><th scope=row>1980101</th><td> 9.867943</td><td>5.732825e-23</td></tr>\n",
       "\t<tr><th scope=row>1980129</th><td> 9.869397</td><td>5.650312e-23</td></tr>\n",
       "\t<tr><th scope=row>1980136</th><td> 9.872536</td><td>5.476245e-23</td></tr>\n",
       "\t<tr><th scope=row>1980145</th><td> 9.834843</td><td>7.969200e-23</td></tr>\n",
       "\t<tr><th scope=row>1980179</th><td> 9.921721</td><td>3.349299e-23</td></tr>\n",
       "\t<tr><th scope=row>1980183</th><td> 9.904509</td><td>3.979202e-23</td></tr>\n",
       "\t<tr><th scope=row>1980193</th><td> 9.907153</td><td>3.875325e-23</td></tr>\n",
       "\t<tr><th scope=row>1980205</th><td> 9.911713</td><td>3.702424e-23</td></tr>\n",
       "\t<tr><th scope=row>1980239</th><td> 9.987529</td><td>1.728371e-23</td></tr>\n",
       "\t<tr><th scope=row>1980247</th><td>10.005589</td><td>1.440318e-23</td></tr>\n",
       "\t<tr><th scope=row>1980287</th><td>10.089549</td><td>6.145121e-24</td></tr>\n",
       "\t<tr><th scope=row>1980291</th><td>10.080996</td><td>6.704315e-24</td></tr>\n",
       "\t<tr><th scope=row>1980303</th><td>10.147518</td><td>3.398973e-24</td></tr>\n",
       "\t<tr><th scope=row>1980320</th><td>10.147839</td><td>3.387812e-24</td></tr>\n",
       "\t<tr><th scope=row>1980326</th><td>10.130735</td><td>4.036042e-24</td></tr>\n",
       "\t<tr><th scope=row>1980355</th><td>10.177017</td><td>2.511412e-24</td></tr>\n",
       "\t<tr><th scope=row>1980373</th><td>10.147870</td><td>3.386754e-24</td></tr>\n",
       "\t<tr><th scope=row>1980396</th><td>10.147870</td><td>3.386754e-24</td></tr>\n",
       "\t<tr><th scope=row>1980424</th><td>10.147870</td><td>3.386754e-24</td></tr>\n",
       "\t<tr><th scope=row>1980430</th><td>10.174809</td><td>2.569023e-24</td></tr>\n",
       "\t<tr><th scope=row>1980448</th><td>10.159089</td><td>3.018824e-24</td></tr>\n",
       "\t<tr><th scope=row>1980458</th><td>10.147870</td><td>3.386754e-24</td></tr>\n",
       "\t<tr><th scope=row>1980496</th><td>10.147870</td><td>3.386754e-24</td></tr>\n",
       "\t<tr><th scope=row>1980577</th><td> 4.640838</td><td>3.469993e-06</td></tr>\n",
       "\t<tr><th scope=row>1980581</th><td> 4.640838</td><td>3.469993e-06</td></tr>\n",
       "\t<tr><th scope=row>1980787</th><td> 4.640838</td><td>3.469993e-06</td></tr>\n",
       "\t<tr><th scope=row>1980860</th><td>10.147870</td><td>3.386754e-24</td></tr>\n",
       "\t<tr><th scope=row>1980869</th><td>10.147870</td><td>3.386754e-24</td></tr>\n",
       "\t<tr><th scope=row>1980893</th><td>10.147870</td><td>3.386754e-24</td></tr>\n",
       "\t<tr><th scope=row>⋮</th><td>⋮</td><td>⋮</td></tr>\n",
       "\t<tr><th scope=row>1989119</th><td>-5.256727</td><td>1.466416e-07</td></tr>\n",
       "\t<tr><th scope=row>1989169</th><td>-5.242269</td><td>1.586142e-07</td></tr>\n",
       "\t<tr><th scope=row>1989201</th><td>-5.239396</td><td>1.611034e-07</td></tr>\n",
       "\t<tr><th scope=row>1989209</th><td>-5.240242</td><td>1.603664e-07</td></tr>\n",
       "\t<tr><th scope=row>1989218</th><td>-5.256727</td><td>1.466416e-07</td></tr>\n",
       "\t<tr><th scope=row>1989241</th><td>-5.238783</td><td>1.616388e-07</td></tr>\n",
       "\t<tr><th scope=row>1989249</th><td>-5.241711</td><td>1.590944e-07</td></tr>\n",
       "\t<tr><th scope=row>1989258</th><td>-5.239990</td><td>1.605854e-07</td></tr>\n",
       "\t<tr><th scope=row>1989263</th><td>-5.239934</td><td>1.606342e-07</td></tr>\n",
       "\t<tr><th scope=row>1989275</th><td>-4.316561</td><td>1.584788e-05</td></tr>\n",
       "\t<tr><th scope=row>1989298</th><td>-5.238105</td><td>1.622337e-07</td></tr>\n",
       "\t<tr><th scope=row>1989308</th><td>-5.239116</td><td>1.613473e-07</td></tr>\n",
       "\t<tr><th scope=row>1989332</th><td>-5.237237</td><td>1.629980e-07</td></tr>\n",
       "\t<tr><th scope=row>1989394</th><td>-5.235391</td><td>1.646357e-07</td></tr>\n",
       "\t<tr><th scope=row>1989442</th><td>-5.232726</td><td>1.670287e-07</td></tr>\n",
       "\t<tr><th scope=row>1989451</th><td>-5.232002</td><td>1.676843e-07</td></tr>\n",
       "\t<tr><th scope=row>1989482</th><td>-5.227625</td><td>1.717015e-07</td></tr>\n",
       "\t<tr><th scope=row>1989497</th><td>-5.227970</td><td>1.713811e-07</td></tr>\n",
       "\t<tr><th scope=row>1989500</th><td>-5.221171</td><td>1.777950e-07</td></tr>\n",
       "\t<tr><th scope=row>1989503</th><td>-5.226580</td><td>1.726744e-07</td></tr>\n",
       "\t<tr><th scope=row>1989527</th><td>-5.200384</td><td>1.988772e-07</td></tr>\n",
       "\t<tr><th scope=row>1989605</th><td>-5.200384</td><td>1.988772e-07</td></tr>\n",
       "\t<tr><th scope=row>1989607</th><td>-5.200384</td><td>1.988772e-07</td></tr>\n",
       "\t<tr><th scope=row>1989617</th><td>-5.973486</td><td>2.322369e-09</td></tr>\n",
       "\t<tr><th scope=row>1989642</th><td>-5.200384</td><td>1.988772e-07</td></tr>\n",
       "\t<tr><th scope=row>1989658</th><td>-5.200384</td><td>1.988772e-07</td></tr>\n",
       "\t<tr><th scope=row>1989674</th><td>-5.200384</td><td>1.988772e-07</td></tr>\n",
       "\t<tr><th scope=row>1989767</th><td>-9.674640</td><td>3.864480e-22</td></tr>\n",
       "\t<tr><th scope=row>1989793</th><td>-9.674640</td><td>3.864480e-22</td></tr>\n",
       "\t<tr><th scope=row>1989924</th><td>-9.359776</td><td>7.990597e-21</td></tr>\n",
       "</tbody>\n",
       "</table>\n"
      ],
      "text/latex": [
       "A matrix: 269 × 2 of type dbl\n",
       "\\begin{tabular}{r|ll}\n",
       "  & z & p\\\\\n",
       "\\hline\n",
       "\t1980077 &  9.859725 & 6.221983e-23\\\\\n",
       "\t1980101 &  9.867943 & 5.732825e-23\\\\\n",
       "\t1980129 &  9.869397 & 5.650312e-23\\\\\n",
       "\t1980136 &  9.872536 & 5.476245e-23\\\\\n",
       "\t1980145 &  9.834843 & 7.969200e-23\\\\\n",
       "\t1980179 &  9.921721 & 3.349299e-23\\\\\n",
       "\t1980183 &  9.904509 & 3.979202e-23\\\\\n",
       "\t1980193 &  9.907153 & 3.875325e-23\\\\\n",
       "\t1980205 &  9.911713 & 3.702424e-23\\\\\n",
       "\t1980239 &  9.987529 & 1.728371e-23\\\\\n",
       "\t1980247 & 10.005589 & 1.440318e-23\\\\\n",
       "\t1980287 & 10.089549 & 6.145121e-24\\\\\n",
       "\t1980291 & 10.080996 & 6.704315e-24\\\\\n",
       "\t1980303 & 10.147518 & 3.398973e-24\\\\\n",
       "\t1980320 & 10.147839 & 3.387812e-24\\\\\n",
       "\t1980326 & 10.130735 & 4.036042e-24\\\\\n",
       "\t1980355 & 10.177017 & 2.511412e-24\\\\\n",
       "\t1980373 & 10.147870 & 3.386754e-24\\\\\n",
       "\t1980396 & 10.147870 & 3.386754e-24\\\\\n",
       "\t1980424 & 10.147870 & 3.386754e-24\\\\\n",
       "\t1980430 & 10.174809 & 2.569023e-24\\\\\n",
       "\t1980448 & 10.159089 & 3.018824e-24\\\\\n",
       "\t1980458 & 10.147870 & 3.386754e-24\\\\\n",
       "\t1980496 & 10.147870 & 3.386754e-24\\\\\n",
       "\t1980577 &  4.640838 & 3.469993e-06\\\\\n",
       "\t1980581 &  4.640838 & 3.469993e-06\\\\\n",
       "\t1980787 &  4.640838 & 3.469993e-06\\\\\n",
       "\t1980860 & 10.147870 & 3.386754e-24\\\\\n",
       "\t1980869 & 10.147870 & 3.386754e-24\\\\\n",
       "\t1980893 & 10.147870 & 3.386754e-24\\\\\n",
       "\t⋮ & ⋮ & ⋮\\\\\n",
       "\t1989119 & -5.256727 & 1.466416e-07\\\\\n",
       "\t1989169 & -5.242269 & 1.586142e-07\\\\\n",
       "\t1989201 & -5.239396 & 1.611034e-07\\\\\n",
       "\t1989209 & -5.240242 & 1.603664e-07\\\\\n",
       "\t1989218 & -5.256727 & 1.466416e-07\\\\\n",
       "\t1989241 & -5.238783 & 1.616388e-07\\\\\n",
       "\t1989249 & -5.241711 & 1.590944e-07\\\\\n",
       "\t1989258 & -5.239990 & 1.605854e-07\\\\\n",
       "\t1989263 & -5.239934 & 1.606342e-07\\\\\n",
       "\t1989275 & -4.316561 & 1.584788e-05\\\\\n",
       "\t1989298 & -5.238105 & 1.622337e-07\\\\\n",
       "\t1989308 & -5.239116 & 1.613473e-07\\\\\n",
       "\t1989332 & -5.237237 & 1.629980e-07\\\\\n",
       "\t1989394 & -5.235391 & 1.646357e-07\\\\\n",
       "\t1989442 & -5.232726 & 1.670287e-07\\\\\n",
       "\t1989451 & -5.232002 & 1.676843e-07\\\\\n",
       "\t1989482 & -5.227625 & 1.717015e-07\\\\\n",
       "\t1989497 & -5.227970 & 1.713811e-07\\\\\n",
       "\t1989500 & -5.221171 & 1.777950e-07\\\\\n",
       "\t1989503 & -5.226580 & 1.726744e-07\\\\\n",
       "\t1989527 & -5.200384 & 1.988772e-07\\\\\n",
       "\t1989605 & -5.200384 & 1.988772e-07\\\\\n",
       "\t1989607 & -5.200384 & 1.988772e-07\\\\\n",
       "\t1989617 & -5.973486 & 2.322369e-09\\\\\n",
       "\t1989642 & -5.200384 & 1.988772e-07\\\\\n",
       "\t1989658 & -5.200384 & 1.988772e-07\\\\\n",
       "\t1989674 & -5.200384 & 1.988772e-07\\\\\n",
       "\t1989767 & -9.674640 & 3.864480e-22\\\\\n",
       "\t1989793 & -9.674640 & 3.864480e-22\\\\\n",
       "\t1989924 & -9.359776 & 7.990597e-21\\\\\n",
       "\\end{tabular}\n"
      ],
      "text/markdown": [
       "\n",
       "A matrix: 269 × 2 of type dbl\n",
       "\n",
       "| <!--/--> | z | p |\n",
       "|---|---|---|\n",
       "| 1980077 |  9.859725 | 6.221983e-23 |\n",
       "| 1980101 |  9.867943 | 5.732825e-23 |\n",
       "| 1980129 |  9.869397 | 5.650312e-23 |\n",
       "| 1980136 |  9.872536 | 5.476245e-23 |\n",
       "| 1980145 |  9.834843 | 7.969200e-23 |\n",
       "| 1980179 |  9.921721 | 3.349299e-23 |\n",
       "| 1980183 |  9.904509 | 3.979202e-23 |\n",
       "| 1980193 |  9.907153 | 3.875325e-23 |\n",
       "| 1980205 |  9.911713 | 3.702424e-23 |\n",
       "| 1980239 |  9.987529 | 1.728371e-23 |\n",
       "| 1980247 | 10.005589 | 1.440318e-23 |\n",
       "| 1980287 | 10.089549 | 6.145121e-24 |\n",
       "| 1980291 | 10.080996 | 6.704315e-24 |\n",
       "| 1980303 | 10.147518 | 3.398973e-24 |\n",
       "| 1980320 | 10.147839 | 3.387812e-24 |\n",
       "| 1980326 | 10.130735 | 4.036042e-24 |\n",
       "| 1980355 | 10.177017 | 2.511412e-24 |\n",
       "| 1980373 | 10.147870 | 3.386754e-24 |\n",
       "| 1980396 | 10.147870 | 3.386754e-24 |\n",
       "| 1980424 | 10.147870 | 3.386754e-24 |\n",
       "| 1980430 | 10.174809 | 2.569023e-24 |\n",
       "| 1980448 | 10.159089 | 3.018824e-24 |\n",
       "| 1980458 | 10.147870 | 3.386754e-24 |\n",
       "| 1980496 | 10.147870 | 3.386754e-24 |\n",
       "| 1980577 |  4.640838 | 3.469993e-06 |\n",
       "| 1980581 |  4.640838 | 3.469993e-06 |\n",
       "| 1980787 |  4.640838 | 3.469993e-06 |\n",
       "| 1980860 | 10.147870 | 3.386754e-24 |\n",
       "| 1980869 | 10.147870 | 3.386754e-24 |\n",
       "| 1980893 | 10.147870 | 3.386754e-24 |\n",
       "| ⋮ | ⋮ | ⋮ |\n",
       "| 1989119 | -5.256727 | 1.466416e-07 |\n",
       "| 1989169 | -5.242269 | 1.586142e-07 |\n",
       "| 1989201 | -5.239396 | 1.611034e-07 |\n",
       "| 1989209 | -5.240242 | 1.603664e-07 |\n",
       "| 1989218 | -5.256727 | 1.466416e-07 |\n",
       "| 1989241 | -5.238783 | 1.616388e-07 |\n",
       "| 1989249 | -5.241711 | 1.590944e-07 |\n",
       "| 1989258 | -5.239990 | 1.605854e-07 |\n",
       "| 1989263 | -5.239934 | 1.606342e-07 |\n",
       "| 1989275 | -4.316561 | 1.584788e-05 |\n",
       "| 1989298 | -5.238105 | 1.622337e-07 |\n",
       "| 1989308 | -5.239116 | 1.613473e-07 |\n",
       "| 1989332 | -5.237237 | 1.629980e-07 |\n",
       "| 1989394 | -5.235391 | 1.646357e-07 |\n",
       "| 1989442 | -5.232726 | 1.670287e-07 |\n",
       "| 1989451 | -5.232002 | 1.676843e-07 |\n",
       "| 1989482 | -5.227625 | 1.717015e-07 |\n",
       "| 1989497 | -5.227970 | 1.713811e-07 |\n",
       "| 1989500 | -5.221171 | 1.777950e-07 |\n",
       "| 1989503 | -5.226580 | 1.726744e-07 |\n",
       "| 1989527 | -5.200384 | 1.988772e-07 |\n",
       "| 1989605 | -5.200384 | 1.988772e-07 |\n",
       "| 1989607 | -5.200384 | 1.988772e-07 |\n",
       "| 1989617 | -5.973486 | 2.322369e-09 |\n",
       "| 1989642 | -5.200384 | 1.988772e-07 |\n",
       "| 1989658 | -5.200384 | 1.988772e-07 |\n",
       "| 1989674 | -5.200384 | 1.988772e-07 |\n",
       "| 1989767 | -9.674640 | 3.864480e-22 |\n",
       "| 1989793 | -9.674640 | 3.864480e-22 |\n",
       "| 1989924 | -9.359776 | 7.990597e-21 |\n",
       "\n"
      ],
      "text/plain": [
       "        z         p           \n",
       "1980077  9.859725 6.221983e-23\n",
       "1980101  9.867943 5.732825e-23\n",
       "1980129  9.869397 5.650312e-23\n",
       "1980136  9.872536 5.476245e-23\n",
       "1980145  9.834843 7.969200e-23\n",
       "1980179  9.921721 3.349299e-23\n",
       "1980183  9.904509 3.979202e-23\n",
       "1980193  9.907153 3.875325e-23\n",
       "1980205  9.911713 3.702424e-23\n",
       "1980239  9.987529 1.728371e-23\n",
       "1980247 10.005589 1.440318e-23\n",
       "1980287 10.089549 6.145121e-24\n",
       "1980291 10.080996 6.704315e-24\n",
       "1980303 10.147518 3.398973e-24\n",
       "1980320 10.147839 3.387812e-24\n",
       "1980326 10.130735 4.036042e-24\n",
       "1980355 10.177017 2.511412e-24\n",
       "1980373 10.147870 3.386754e-24\n",
       "1980396 10.147870 3.386754e-24\n",
       "1980424 10.147870 3.386754e-24\n",
       "1980430 10.174809 2.569023e-24\n",
       "1980448 10.159089 3.018824e-24\n",
       "1980458 10.147870 3.386754e-24\n",
       "1980496 10.147870 3.386754e-24\n",
       "1980577  4.640838 3.469993e-06\n",
       "1980581  4.640838 3.469993e-06\n",
       "1980787  4.640838 3.469993e-06\n",
       "1980860 10.147870 3.386754e-24\n",
       "1980869 10.147870 3.386754e-24\n",
       "1980893 10.147870 3.386754e-24\n",
       "⋮       ⋮         ⋮           \n",
       "1989119 -5.256727 1.466416e-07\n",
       "1989169 -5.242269 1.586142e-07\n",
       "1989201 -5.239396 1.611034e-07\n",
       "1989209 -5.240242 1.603664e-07\n",
       "1989218 -5.256727 1.466416e-07\n",
       "1989241 -5.238783 1.616388e-07\n",
       "1989249 -5.241711 1.590944e-07\n",
       "1989258 -5.239990 1.605854e-07\n",
       "1989263 -5.239934 1.606342e-07\n",
       "1989275 -4.316561 1.584788e-05\n",
       "1989298 -5.238105 1.622337e-07\n",
       "1989308 -5.239116 1.613473e-07\n",
       "1989332 -5.237237 1.629980e-07\n",
       "1989394 -5.235391 1.646357e-07\n",
       "1989442 -5.232726 1.670287e-07\n",
       "1989451 -5.232002 1.676843e-07\n",
       "1989482 -5.227625 1.717015e-07\n",
       "1989497 -5.227970 1.713811e-07\n",
       "1989500 -5.221171 1.777950e-07\n",
       "1989503 -5.226580 1.726744e-07\n",
       "1989527 -5.200384 1.988772e-07\n",
       "1989605 -5.200384 1.988772e-07\n",
       "1989607 -5.200384 1.988772e-07\n",
       "1989617 -5.973486 2.322369e-09\n",
       "1989642 -5.200384 1.988772e-07\n",
       "1989658 -5.200384 1.988772e-07\n",
       "1989674 -5.200384 1.988772e-07\n",
       "1989767 -9.674640 3.864480e-22\n",
       "1989793 -9.674640 3.864480e-22\n",
       "1989924 -9.359776 7.990597e-21"
      ]
     },
     "metadata": {},
     "output_type": "display_data"
    }
   ],
   "source": [
    "mwas.all.1se"
   ]
  },
  {
   "cell_type": "code",
   "execution_count": 120,
   "id": "41f09f92-953b-44f8-a682-db1cc9baf86a",
   "metadata": {},
   "outputs": [
    {
     "data": {
      "text/html": [
       "<table class=\"dataframe\">\n",
       "<caption>A matrix: 326 × 2 of type dbl</caption>\n",
       "<thead>\n",
       "\t<tr><th></th><th scope=col>z</th><th scope=col>p</th></tr>\n",
       "</thead>\n",
       "<tbody>\n",
       "\t<tr><th scope=row>1980077</th><td>10.343722</td><td> 4.468363e-25</td></tr>\n",
       "\t<tr><th scope=row>1980101</th><td>10.386888</td><td> 2.844841e-25</td></tr>\n",
       "\t<tr><th scope=row>1980129</th><td>10.490668</td><td> 9.535207e-26</td></tr>\n",
       "\t<tr><th scope=row>1980136</th><td>10.690173</td><td> 1.131600e-26</td></tr>\n",
       "\t<tr><th scope=row>1980145</th><td>10.517948</td><td> 7.141185e-26</td></tr>\n",
       "\t<tr><th scope=row>1980179</th><td>10.721974</td><td> 8.027174e-27</td></tr>\n",
       "\t<tr><th scope=row>1980183</th><td>10.621963</td><td> 2.355553e-26</td></tr>\n",
       "\t<tr><th scope=row>1980193</th><td>10.571477</td><td> 4.040796e-26</td></tr>\n",
       "\t<tr><th scope=row>1980205</th><td>10.557143</td><td> 4.707749e-26</td></tr>\n",
       "\t<tr><th scope=row>1980239</th><td>10.577982</td><td> 3.769900e-26</td></tr>\n",
       "\t<tr><th scope=row>1980247</th><td>10.705712</td><td> 9.569227e-27</td></tr>\n",
       "\t<tr><th scope=row>1980287</th><td>10.471620</td><td> 1.166302e-25</td></tr>\n",
       "\t<tr><th scope=row>1980291</th><td>10.291375</td><td> 7.706792e-25</td></tr>\n",
       "\t<tr><th scope=row>1980303</th><td>26.110828</td><td>2.746953e-150</td></tr>\n",
       "\t<tr><th scope=row>1980320</th><td>10.221869</td><td> 1.582604e-24</td></tr>\n",
       "\t<tr><th scope=row>1980326</th><td>10.235754</td><td> 1.371226e-24</td></tr>\n",
       "\t<tr><th scope=row>1980355</th><td>20.820038</td><td> 2.849567e-96</td></tr>\n",
       "\t<tr><th scope=row>1980373</th><td>10.098808</td><td> 5.591785e-24</td></tr>\n",
       "\t<tr><th scope=row>1980390</th><td> 9.931649</td><td> 3.031979e-23</td></tr>\n",
       "\t<tr><th scope=row>1980396</th><td> 9.955031</td><td> 2.397492e-23</td></tr>\n",
       "\t<tr><th scope=row>1980424</th><td>10.177082</td><td> 2.509748e-24</td></tr>\n",
       "\t<tr><th scope=row>1980430</th><td>21.863729</td><td>5.754571e-106</td></tr>\n",
       "\t<tr><th scope=row>1980448</th><td>18.129530</td><td> 1.863442e-73</td></tr>\n",
       "\t<tr><th scope=row>1980458</th><td>17.150513</td><td> 6.229969e-66</td></tr>\n",
       "\t<tr><th scope=row>1980464</th><td>16.878594</td><td> 6.466666e-64</td></tr>\n",
       "\t<tr><th scope=row>1980496</th><td> 9.670981</td><td> 4.005213e-22</td></tr>\n",
       "\t<tr><th scope=row>1980577</th><td> 7.962256</td><td> 1.689298e-15</td></tr>\n",
       "\t<tr><th scope=row>1980581</th><td> 4.640838</td><td> 3.469993e-06</td></tr>\n",
       "\t<tr><th scope=row>1980642</th><td> 4.678188</td><td> 2.894213e-06</td></tr>\n",
       "\t<tr><th scope=row>1980661</th><td> 4.261648</td><td> 2.029245e-05</td></tr>\n",
       "\t<tr><th scope=row>⋮</th><td>⋮</td><td>⋮</td></tr>\n",
       "\t<tr><th scope=row>1989258</th><td>-3.851026</td><td>1.176240e-04</td></tr>\n",
       "\t<tr><th scope=row>1989263</th><td>-2.907593</td><td>3.642221e-03</td></tr>\n",
       "\t<tr><th scope=row>1989275</th><td>-3.010214</td><td>2.610641e-03</td></tr>\n",
       "\t<tr><th scope=row>1989298</th><td>-3.803165</td><td>1.428592e-04</td></tr>\n",
       "\t<tr><th scope=row>1989308</th><td>-2.944621</td><td>3.233502e-03</td></tr>\n",
       "\t<tr><th scope=row>1989332</th><td>-2.950907</td><td>3.168418e-03</td></tr>\n",
       "\t<tr><th scope=row>1989394</th><td>-2.767452</td><td>5.649645e-03</td></tr>\n",
       "\t<tr><th scope=row>1989442</th><td>-3.497089</td><td>4.703656e-04</td></tr>\n",
       "\t<tr><th scope=row>1989451</th><td>-2.874278</td><td>4.049518e-03</td></tr>\n",
       "\t<tr><th scope=row>1989482</th><td>-3.585813</td><td>3.360301e-04</td></tr>\n",
       "\t<tr><th scope=row>1989497</th><td>-3.571028</td><td>3.555833e-04</td></tr>\n",
       "\t<tr><th scope=row>1989500</th><td>-2.973509</td><td>2.944161e-03</td></tr>\n",
       "\t<tr><th scope=row>1989503</th><td>-3.404342</td><td>6.632375e-04</td></tr>\n",
       "\t<tr><th scope=row>1989510</th><td>-2.946762</td><td>3.211202e-03</td></tr>\n",
       "\t<tr><th scope=row>1989527</th><td>-3.442178</td><td>5.770511e-04</td></tr>\n",
       "\t<tr><th scope=row>1989534</th><td>-3.390215</td><td>6.983780e-04</td></tr>\n",
       "\t<tr><th scope=row>1989550</th><td>-3.356232</td><td>7.901214e-04</td></tr>\n",
       "\t<tr><th scope=row>1989605</th><td>-2.539190</td><td>1.111095e-02</td></tr>\n",
       "\t<tr><th scope=row>1989607</th><td>-2.679388</td><td>7.375692e-03</td></tr>\n",
       "\t<tr><th scope=row>1989617</th><td>-2.370397</td><td>1.776899e-02</td></tr>\n",
       "\t<tr><th scope=row>1989622</th><td>-2.320413</td><td>2.031857e-02</td></tr>\n",
       "\t<tr><th scope=row>1989628</th><td>-3.022701</td><td>2.505293e-03</td></tr>\n",
       "\t<tr><th scope=row>1989642</th><td>-2.090240</td><td>3.659626e-02</td></tr>\n",
       "\t<tr><th scope=row>1989658</th><td>-1.823106</td><td>6.828730e-02</td></tr>\n",
       "\t<tr><th scope=row>1989674</th><td>-2.761829</td><td>5.747849e-03</td></tr>\n",
       "\t<tr><th scope=row>1989690</th><td>-1.764052</td><td>7.772315e-02</td></tr>\n",
       "\t<tr><th scope=row>1989761</th><td>-1.663521</td><td>9.620821e-02</td></tr>\n",
       "\t<tr><th scope=row>1989767</th><td>-1.649725</td><td>9.899927e-02</td></tr>\n",
       "\t<tr><th scope=row>1989793</th><td>-9.674640</td><td>3.864480e-22</td></tr>\n",
       "\t<tr><th scope=row>1989924</th><td>-9.359776</td><td>7.990597e-21</td></tr>\n",
       "</tbody>\n",
       "</table>\n"
      ],
      "text/latex": [
       "A matrix: 326 × 2 of type dbl\n",
       "\\begin{tabular}{r|ll}\n",
       "  & z & p\\\\\n",
       "\\hline\n",
       "\t1980077 & 10.343722 &  4.468363e-25\\\\\n",
       "\t1980101 & 10.386888 &  2.844841e-25\\\\\n",
       "\t1980129 & 10.490668 &  9.535207e-26\\\\\n",
       "\t1980136 & 10.690173 &  1.131600e-26\\\\\n",
       "\t1980145 & 10.517948 &  7.141185e-26\\\\\n",
       "\t1980179 & 10.721974 &  8.027174e-27\\\\\n",
       "\t1980183 & 10.621963 &  2.355553e-26\\\\\n",
       "\t1980193 & 10.571477 &  4.040796e-26\\\\\n",
       "\t1980205 & 10.557143 &  4.707749e-26\\\\\n",
       "\t1980239 & 10.577982 &  3.769900e-26\\\\\n",
       "\t1980247 & 10.705712 &  9.569227e-27\\\\\n",
       "\t1980287 & 10.471620 &  1.166302e-25\\\\\n",
       "\t1980291 & 10.291375 &  7.706792e-25\\\\\n",
       "\t1980303 & 26.110828 & 2.746953e-150\\\\\n",
       "\t1980320 & 10.221869 &  1.582604e-24\\\\\n",
       "\t1980326 & 10.235754 &  1.371226e-24\\\\\n",
       "\t1980355 & 20.820038 &  2.849567e-96\\\\\n",
       "\t1980373 & 10.098808 &  5.591785e-24\\\\\n",
       "\t1980390 &  9.931649 &  3.031979e-23\\\\\n",
       "\t1980396 &  9.955031 &  2.397492e-23\\\\\n",
       "\t1980424 & 10.177082 &  2.509748e-24\\\\\n",
       "\t1980430 & 21.863729 & 5.754571e-106\\\\\n",
       "\t1980448 & 18.129530 &  1.863442e-73\\\\\n",
       "\t1980458 & 17.150513 &  6.229969e-66\\\\\n",
       "\t1980464 & 16.878594 &  6.466666e-64\\\\\n",
       "\t1980496 &  9.670981 &  4.005213e-22\\\\\n",
       "\t1980577 &  7.962256 &  1.689298e-15\\\\\n",
       "\t1980581 &  4.640838 &  3.469993e-06\\\\\n",
       "\t1980642 &  4.678188 &  2.894213e-06\\\\\n",
       "\t1980661 &  4.261648 &  2.029245e-05\\\\\n",
       "\t⋮ & ⋮ & ⋮\\\\\n",
       "\t1989258 & -3.851026 & 1.176240e-04\\\\\n",
       "\t1989263 & -2.907593 & 3.642221e-03\\\\\n",
       "\t1989275 & -3.010214 & 2.610641e-03\\\\\n",
       "\t1989298 & -3.803165 & 1.428592e-04\\\\\n",
       "\t1989308 & -2.944621 & 3.233502e-03\\\\\n",
       "\t1989332 & -2.950907 & 3.168418e-03\\\\\n",
       "\t1989394 & -2.767452 & 5.649645e-03\\\\\n",
       "\t1989442 & -3.497089 & 4.703656e-04\\\\\n",
       "\t1989451 & -2.874278 & 4.049518e-03\\\\\n",
       "\t1989482 & -3.585813 & 3.360301e-04\\\\\n",
       "\t1989497 & -3.571028 & 3.555833e-04\\\\\n",
       "\t1989500 & -2.973509 & 2.944161e-03\\\\\n",
       "\t1989503 & -3.404342 & 6.632375e-04\\\\\n",
       "\t1989510 & -2.946762 & 3.211202e-03\\\\\n",
       "\t1989527 & -3.442178 & 5.770511e-04\\\\\n",
       "\t1989534 & -3.390215 & 6.983780e-04\\\\\n",
       "\t1989550 & -3.356232 & 7.901214e-04\\\\\n",
       "\t1989605 & -2.539190 & 1.111095e-02\\\\\n",
       "\t1989607 & -2.679388 & 7.375692e-03\\\\\n",
       "\t1989617 & -2.370397 & 1.776899e-02\\\\\n",
       "\t1989622 & -2.320413 & 2.031857e-02\\\\\n",
       "\t1989628 & -3.022701 & 2.505293e-03\\\\\n",
       "\t1989642 & -2.090240 & 3.659626e-02\\\\\n",
       "\t1989658 & -1.823106 & 6.828730e-02\\\\\n",
       "\t1989674 & -2.761829 & 5.747849e-03\\\\\n",
       "\t1989690 & -1.764052 & 7.772315e-02\\\\\n",
       "\t1989761 & -1.663521 & 9.620821e-02\\\\\n",
       "\t1989767 & -1.649725 & 9.899927e-02\\\\\n",
       "\t1989793 & -9.674640 & 3.864480e-22\\\\\n",
       "\t1989924 & -9.359776 & 7.990597e-21\\\\\n",
       "\\end{tabular}\n"
      ],
      "text/markdown": [
       "\n",
       "A matrix: 326 × 2 of type dbl\n",
       "\n",
       "| <!--/--> | z | p |\n",
       "|---|---|---|\n",
       "| 1980077 | 10.343722 |  4.468363e-25 |\n",
       "| 1980101 | 10.386888 |  2.844841e-25 |\n",
       "| 1980129 | 10.490668 |  9.535207e-26 |\n",
       "| 1980136 | 10.690173 |  1.131600e-26 |\n",
       "| 1980145 | 10.517948 |  7.141185e-26 |\n",
       "| 1980179 | 10.721974 |  8.027174e-27 |\n",
       "| 1980183 | 10.621963 |  2.355553e-26 |\n",
       "| 1980193 | 10.571477 |  4.040796e-26 |\n",
       "| 1980205 | 10.557143 |  4.707749e-26 |\n",
       "| 1980239 | 10.577982 |  3.769900e-26 |\n",
       "| 1980247 | 10.705712 |  9.569227e-27 |\n",
       "| 1980287 | 10.471620 |  1.166302e-25 |\n",
       "| 1980291 | 10.291375 |  7.706792e-25 |\n",
       "| 1980303 | 26.110828 | 2.746953e-150 |\n",
       "| 1980320 | 10.221869 |  1.582604e-24 |\n",
       "| 1980326 | 10.235754 |  1.371226e-24 |\n",
       "| 1980355 | 20.820038 |  2.849567e-96 |\n",
       "| 1980373 | 10.098808 |  5.591785e-24 |\n",
       "| 1980390 |  9.931649 |  3.031979e-23 |\n",
       "| 1980396 |  9.955031 |  2.397492e-23 |\n",
       "| 1980424 | 10.177082 |  2.509748e-24 |\n",
       "| 1980430 | 21.863729 | 5.754571e-106 |\n",
       "| 1980448 | 18.129530 |  1.863442e-73 |\n",
       "| 1980458 | 17.150513 |  6.229969e-66 |\n",
       "| 1980464 | 16.878594 |  6.466666e-64 |\n",
       "| 1980496 |  9.670981 |  4.005213e-22 |\n",
       "| 1980577 |  7.962256 |  1.689298e-15 |\n",
       "| 1980581 |  4.640838 |  3.469993e-06 |\n",
       "| 1980642 |  4.678188 |  2.894213e-06 |\n",
       "| 1980661 |  4.261648 |  2.029245e-05 |\n",
       "| ⋮ | ⋮ | ⋮ |\n",
       "| 1989258 | -3.851026 | 1.176240e-04 |\n",
       "| 1989263 | -2.907593 | 3.642221e-03 |\n",
       "| 1989275 | -3.010214 | 2.610641e-03 |\n",
       "| 1989298 | -3.803165 | 1.428592e-04 |\n",
       "| 1989308 | -2.944621 | 3.233502e-03 |\n",
       "| 1989332 | -2.950907 | 3.168418e-03 |\n",
       "| 1989394 | -2.767452 | 5.649645e-03 |\n",
       "| 1989442 | -3.497089 | 4.703656e-04 |\n",
       "| 1989451 | -2.874278 | 4.049518e-03 |\n",
       "| 1989482 | -3.585813 | 3.360301e-04 |\n",
       "| 1989497 | -3.571028 | 3.555833e-04 |\n",
       "| 1989500 | -2.973509 | 2.944161e-03 |\n",
       "| 1989503 | -3.404342 | 6.632375e-04 |\n",
       "| 1989510 | -2.946762 | 3.211202e-03 |\n",
       "| 1989527 | -3.442178 | 5.770511e-04 |\n",
       "| 1989534 | -3.390215 | 6.983780e-04 |\n",
       "| 1989550 | -3.356232 | 7.901214e-04 |\n",
       "| 1989605 | -2.539190 | 1.111095e-02 |\n",
       "| 1989607 | -2.679388 | 7.375692e-03 |\n",
       "| 1989617 | -2.370397 | 1.776899e-02 |\n",
       "| 1989622 | -2.320413 | 2.031857e-02 |\n",
       "| 1989628 | -3.022701 | 2.505293e-03 |\n",
       "| 1989642 | -2.090240 | 3.659626e-02 |\n",
       "| 1989658 | -1.823106 | 6.828730e-02 |\n",
       "| 1989674 | -2.761829 | 5.747849e-03 |\n",
       "| 1989690 | -1.764052 | 7.772315e-02 |\n",
       "| 1989761 | -1.663521 | 9.620821e-02 |\n",
       "| 1989767 | -1.649725 | 9.899927e-02 |\n",
       "| 1989793 | -9.674640 | 3.864480e-22 |\n",
       "| 1989924 | -9.359776 | 7.990597e-21 |\n",
       "\n"
      ],
      "text/plain": [
       "        z         p            \n",
       "1980077 10.343722  4.468363e-25\n",
       "1980101 10.386888  2.844841e-25\n",
       "1980129 10.490668  9.535207e-26\n",
       "1980136 10.690173  1.131600e-26\n",
       "1980145 10.517948  7.141185e-26\n",
       "1980179 10.721974  8.027174e-27\n",
       "1980183 10.621963  2.355553e-26\n",
       "1980193 10.571477  4.040796e-26\n",
       "1980205 10.557143  4.707749e-26\n",
       "1980239 10.577982  3.769900e-26\n",
       "1980247 10.705712  9.569227e-27\n",
       "1980287 10.471620  1.166302e-25\n",
       "1980291 10.291375  7.706792e-25\n",
       "1980303 26.110828 2.746953e-150\n",
       "1980320 10.221869  1.582604e-24\n",
       "1980326 10.235754  1.371226e-24\n",
       "1980355 20.820038  2.849567e-96\n",
       "1980373 10.098808  5.591785e-24\n",
       "1980390  9.931649  3.031979e-23\n",
       "1980396  9.955031  2.397492e-23\n",
       "1980424 10.177082  2.509748e-24\n",
       "1980430 21.863729 5.754571e-106\n",
       "1980448 18.129530  1.863442e-73\n",
       "1980458 17.150513  6.229969e-66\n",
       "1980464 16.878594  6.466666e-64\n",
       "1980496  9.670981  4.005213e-22\n",
       "1980577  7.962256  1.689298e-15\n",
       "1980581  4.640838  3.469993e-06\n",
       "1980642  4.678188  2.894213e-06\n",
       "1980661  4.261648  2.029245e-05\n",
       "⋮       ⋮         ⋮            \n",
       "1989258 -3.851026 1.176240e-04 \n",
       "1989263 -2.907593 3.642221e-03 \n",
       "1989275 -3.010214 2.610641e-03 \n",
       "1989298 -3.803165 1.428592e-04 \n",
       "1989308 -2.944621 3.233502e-03 \n",
       "1989332 -2.950907 3.168418e-03 \n",
       "1989394 -2.767452 5.649645e-03 \n",
       "1989442 -3.497089 4.703656e-04 \n",
       "1989451 -2.874278 4.049518e-03 \n",
       "1989482 -3.585813 3.360301e-04 \n",
       "1989497 -3.571028 3.555833e-04 \n",
       "1989500 -2.973509 2.944161e-03 \n",
       "1989503 -3.404342 6.632375e-04 \n",
       "1989510 -2.946762 3.211202e-03 \n",
       "1989527 -3.442178 5.770511e-04 \n",
       "1989534 -3.390215 6.983780e-04 \n",
       "1989550 -3.356232 7.901214e-04 \n",
       "1989605 -2.539190 1.111095e-02 \n",
       "1989607 -2.679388 7.375692e-03 \n",
       "1989617 -2.370397 1.776899e-02 \n",
       "1989622 -2.320413 2.031857e-02 \n",
       "1989628 -3.022701 2.505293e-03 \n",
       "1989642 -2.090240 3.659626e-02 \n",
       "1989658 -1.823106 6.828730e-02 \n",
       "1989674 -2.761829 5.747849e-03 \n",
       "1989690 -1.764052 7.772315e-02 \n",
       "1989761 -1.663521 9.620821e-02 \n",
       "1989767 -1.649725 9.899927e-02 \n",
       "1989793 -9.674640 3.864480e-22 \n",
       "1989924 -9.359776 7.990597e-21 "
      ]
     },
     "metadata": {},
     "output_type": "display_data"
    }
   ],
   "source": [
    "mwas.all.min"
   ]
  },
  {
   "cell_type": "code",
   "execution_count": 121,
   "id": "da310ebe-3fe8-45f4-b3e0-3482f4487c9a",
   "metadata": {},
   "outputs": [],
   "source": [
    "library(ggplot2)"
   ]
  },
  {
   "cell_type": "code",
   "execution_count": 122,
   "id": "721c36b4-2130-4e3b-9d33-d9f6ef27c7c4",
   "metadata": {},
   "outputs": [
    {
     "data": {
      "image/png": "[encoded data removed]",
      "text/plain": [
       "plot without title"
      ]
     },
     "metadata": {
      "image/png": {
       "height": 420,
       "width": 420
      }
     },
     "output_type": "display_data"
    }
   ],
   "source": [
    "mwas.all.1se <- as.data.frame(mwas.all.1se)\n",
    "mwas.all.min <- as.data.frame(mwas.all.min)\n",
    "\n",
    "mwas.all.1se$pos <- rownames(mwas.all.1se)\n",
    "mwas.all.min$pos <- rownames(mwas.all.min)\n",
    "\n",
    "rownames(mwas.all.1se) <- rownames(mwas.all.min) <- NULL\n",
    "\n",
    "colnames(mwas.all.1se)[2] <- \"pval.lambda.1se\"\n",
    "colnames(mwas.all.min)[2] <- \"pval.lambda.min\"\n",
    "\n",
    "df <- merge(mwas.all.1se, mwas.all.min, by = \"pos\")\n",
    "\n",
    "ggplot(df, aes(x = -log(pval.lambda.1se, base = 10), y = -log(pval.lambda.min, base = 10))) +\n",
    "  geom_point(alpha = 0.6) +\n",
    "  labs(x = \"-log_10 of p-values (lambda.1se)\",\n",
    "       y = \"-log_10 of p-values (lambda.min)\",\n",
    "       title = \"Scattergram of MWAS p-values\",\n",
    "       subtitle = \"Comparing lambda.1se and lambda.min\") +\n",
    "  theme_minimal()"
   ]
  },
  {
   "cell_type": "code",
   "execution_count": 123,
   "id": "ba334163-d310-4e59-88a1-7fd2b529151d",
   "metadata": {},
   "outputs": [
    {
     "data": {
      "text/html": [
       "0"
      ],
      "text/latex": [
       "0"
      ],
      "text/markdown": [
       "0"
      ],
      "text/plain": [
       "[1] 0"
      ]
     },
     "metadata": {},
     "output_type": "display_data"
    }
   ],
   "source": [
    "min(df$pval.lambda.1se)"
   ]
  },
  {
   "cell_type": "code",
   "execution_count": 124,
   "id": "10d87bfa-e446-4e95-85a8-a73d5d6aea58",
   "metadata": {},
   "outputs": [
    {
     "data": {
      "text/html": [
       "0"
      ],
      "text/latex": [
       "0"
      ],
      "text/markdown": [
       "0"
      ],
      "text/plain": [
       "[1] 0"
      ]
     },
     "metadata": {},
     "output_type": "display_data"
    }
   ],
   "source": [
    "min(df$pval.lambda.1se)"
   ]
  },
  {
   "cell_type": "code",
   "execution_count": 125,
   "id": "1481f858-1c1e-4ed1-b70d-397311678f33",
   "metadata": {},
   "outputs": [
    {
     "data": {
      "text/html": [
       "<table class=\"dataframe\">\n",
       "<caption>A data.frame: 6 × 5</caption>\n",
       "<thead>\n",
       "\t<tr><th></th><th scope=col>pos</th><th scope=col>z.x</th><th scope=col>pval.lambda.1se</th><th scope=col>z.y</th><th scope=col>pval.lambda.min</th></tr>\n",
       "\t<tr><th></th><th scope=col>&lt;chr&gt;</th><th scope=col>&lt;dbl&gt;</th><th scope=col>&lt;dbl&gt;</th><th scope=col>&lt;dbl&gt;</th><th scope=col>&lt;dbl&gt;</th></tr>\n",
       "</thead>\n",
       "<tbody>\n",
       "\t<tr><th scope=row>1</th><td>1980077</td><td>9.859725</td><td>6.221983e-23</td><td>10.34372</td><td>4.468363e-25</td></tr>\n",
       "\t<tr><th scope=row>2</th><td>1980101</td><td>9.867943</td><td>5.732825e-23</td><td>10.38689</td><td>2.844841e-25</td></tr>\n",
       "\t<tr><th scope=row>3</th><td>1980129</td><td>9.869397</td><td>5.650312e-23</td><td>10.49067</td><td>9.535207e-26</td></tr>\n",
       "\t<tr><th scope=row>4</th><td>1980136</td><td>9.872536</td><td>5.476245e-23</td><td>10.69017</td><td>1.131600e-26</td></tr>\n",
       "\t<tr><th scope=row>5</th><td>1980145</td><td>9.834843</td><td>7.969200e-23</td><td>10.51795</td><td>7.141185e-26</td></tr>\n",
       "\t<tr><th scope=row>6</th><td>1980179</td><td>9.921721</td><td>3.349299e-23</td><td>10.72197</td><td>8.027174e-27</td></tr>\n",
       "</tbody>\n",
       "</table>\n"
      ],
      "text/latex": [
       "A data.frame: 6 × 5\n",
       "\\begin{tabular}{r|lllll}\n",
       "  & pos & z.x & pval.lambda.1se & z.y & pval.lambda.min\\\\\n",
       "  & <chr> & <dbl> & <dbl> & <dbl> & <dbl>\\\\\n",
       "\\hline\n",
       "\t1 & 1980077 & 9.859725 & 6.221983e-23 & 10.34372 & 4.468363e-25\\\\\n",
       "\t2 & 1980101 & 9.867943 & 5.732825e-23 & 10.38689 & 2.844841e-25\\\\\n",
       "\t3 & 1980129 & 9.869397 & 5.650312e-23 & 10.49067 & 9.535207e-26\\\\\n",
       "\t4 & 1980136 & 9.872536 & 5.476245e-23 & 10.69017 & 1.131600e-26\\\\\n",
       "\t5 & 1980145 & 9.834843 & 7.969200e-23 & 10.51795 & 7.141185e-26\\\\\n",
       "\t6 & 1980179 & 9.921721 & 3.349299e-23 & 10.72197 & 8.027174e-27\\\\\n",
       "\\end{tabular}\n"
      ],
      "text/markdown": [
       "\n",
       "A data.frame: 6 × 5\n",
       "\n",
       "| <!--/--> | pos &lt;chr&gt; | z.x &lt;dbl&gt; | pval.lambda.1se &lt;dbl&gt; | z.y &lt;dbl&gt; | pval.lambda.min &lt;dbl&gt; |\n",
       "|---|---|---|---|---|---|\n",
       "| 1 | 1980077 | 9.859725 | 6.221983e-23 | 10.34372 | 4.468363e-25 |\n",
       "| 2 | 1980101 | 9.867943 | 5.732825e-23 | 10.38689 | 2.844841e-25 |\n",
       "| 3 | 1980129 | 9.869397 | 5.650312e-23 | 10.49067 | 9.535207e-26 |\n",
       "| 4 | 1980136 | 9.872536 | 5.476245e-23 | 10.69017 | 1.131600e-26 |\n",
       "| 5 | 1980145 | 9.834843 | 7.969200e-23 | 10.51795 | 7.141185e-26 |\n",
       "| 6 | 1980179 | 9.921721 | 3.349299e-23 | 10.72197 | 8.027174e-27 |\n",
       "\n"
      ],
      "text/plain": [
       "  pos     z.x      pval.lambda.1se z.y      pval.lambda.min\n",
       "1 1980077 9.859725 6.221983e-23    10.34372 4.468363e-25   \n",
       "2 1980101 9.867943 5.732825e-23    10.38689 2.844841e-25   \n",
       "3 1980129 9.869397 5.650312e-23    10.49067 9.535207e-26   \n",
       "4 1980136 9.872536 5.476245e-23    10.69017 1.131600e-26   \n",
       "5 1980145 9.834843 7.969200e-23    10.51795 7.141185e-26   \n",
       "6 1980179 9.921721 3.349299e-23    10.72197 8.027174e-27   "
      ]
     },
     "metadata": {},
     "output_type": "display_data"
    }
   ],
   "source": [
    "head(df)"
   ]
  },
  {
   "cell_type": "code",
   "execution_count": 126,
   "id": "0db2d0ed-003d-40fb-8301-ed4adffed964",
   "metadata": {},
   "outputs": [],
   "source": [
    "df$pos <- as.numeric(df$pos)"
   ]
  },
  {
   "cell_type": "code",
   "execution_count": 127,
   "id": "bd08c5ec-daae-49c9-9be3-d51875d378a3",
   "metadata": {},
   "outputs": [
    {
     "data": {
      "text/html": [
       "0"
      ],
      "text/latex": [
       "0"
      ],
      "text/markdown": [
       "0"
      ],
      "text/plain": [
       "[1] 0"
      ]
     },
     "metadata": {},
     "output_type": "display_data"
    }
   ],
   "source": [
    "min(df$pval.lambda.1se)"
   ]
  },
  {
   "cell_type": "code",
   "execution_count": 128,
   "id": "f45fed7a-aca1-4b3e-9cd9-03f3c1de7cd4",
   "metadata": {},
   "outputs": [
    {
     "data": {
      "text/html": [
       "0"
      ],
      "text/latex": [
       "0"
      ],
      "text/markdown": [
       "0"
      ],
      "text/plain": [
       "[1] 0"
      ]
     },
     "metadata": {},
     "output_type": "display_data"
    }
   ],
   "source": [
    "min(df$pval.lambda.min)"
   ]
  },
  {
   "cell_type": "code",
   "execution_count": 129,
   "id": "6913b682-43b6-46a1-a62b-e0ba15d80768",
   "metadata": {},
   "outputs": [],
   "source": [
    "library(ggplot2)\n",
    "library(scales)  # For comma formatting"
   ]
  },
  {
   "cell_type": "code",
   "execution_count": 130,
   "id": "50204879-9f49-4c8f-a6db-38fa215114b0",
   "metadata": {},
   "outputs": [
    {
     "name": "stderr",
     "output_type": "stream",
     "text": [
      "Warning message:\n",
      "“\u001b[1m\u001b[22mNo shared levels found between `names(values)` of the manual scale and the\n",
      "data's \u001b[32mcolour\u001b[39m values.”\n",
      "Warning message:\n",
      "“\u001b[1m\u001b[22mNo shared levels found between `names(values)` of the manual scale and the\n",
      "data's \u001b[32mcolour\u001b[39m values.”\n"
     ]
    },
    {
     "data": {
      "image/png": "[encoded data removed]",
      "text/plain": [
       "plot without title"
      ]
     },
     "metadata": {
      "image/png": {
       "height": 420,
       "width": 420
      }
     },
     "output_type": "display_data"
    }
   ],
   "source": [
    "# Convert numbers to comma-separated format\n",
    "formatted_min_pos <- comma(min_site_to_test_pos)\n",
    "formatted_max_pos <- comma(max_site_to_test_pos)\n",
    "\n",
    "# Converting the data to long format if not already done\n",
    "df_long <- tidyr::pivot_longer(df, \n",
    "                               cols = c(\"pval.lambda.1se\", \"pval.lambda.min\"), \n",
    "                               names_to = \"variable\", \n",
    "                               values_to = \"pval\")\n",
    "\n",
    "# Plot with detailed title\n",
    "ggplot(df_long, aes(x = pos, y = -log(pval, base = 10), color = variable)) +\n",
    "  geom_point(alpha = 0.6) +\n",
    "  labs(x = \"Genomic Position\",\n",
    "       y = \"Log of p-values\",\n",
    "       title = paste(\"Scattergrams of MWAS p-values by Genomic Position\\nchr:\", chr,\n",
    "                     \"MAF:\", maf, \n",
    "                     \"Positions:\", formatted_min_pos, \"to\", formatted_max_pos),\n",
    "       subtitle = \"Faceted by lambda type\") +\n",
    "  scale_color_manual(values = c(\"lambda.1se\" = \"blue\", \"lambda.min\" = \"red\")) +\n",
    "  facet_wrap(~ variable, scales = \"free_y\") +\n",
    "  theme_minimal()"
   ]
  },
  {
   "cell_type": "markdown",
   "id": "9df6eb9f-4d04-4c50-b69d-d3f641157303",
   "metadata": {},
   "source": [
    "### Plot Shizhong's old results to compare"
   ]
  },
  {
   "cell_type": "code",
   "execution_count": 131,
   "id": "63d195e1-e0d0-41e7-ba92-90313d9b9989",
   "metadata": {},
   "outputs": [
    {
     "name": "stderr",
     "output_type": "stream",
     "text": [
      "\n",
      "\n",
      "For example usage please run: vignette('qqman')\n",
      "\n",
      "\n",
      "\n",
      "Citation appreciated but not required:\n",
      "\n",
      "Turner, (2018). qqman: an R package for visualizing GWAS results using Q-Q and manhattan plots. Journal of Open Source Software, 3(25), 731, https://doi.org/10.21105/joss.00731.\n",
      "\n",
      "\n",
      "\n"
     ]
    }
   ],
   "source": [
    "library(data.table)\n",
    "library(qqman)"
   ]
  },
  {
   "cell_type": "code",
   "execution_count": 132,
   "id": "30c503ca-8701-4b1f-86a5-d9d5a5571912",
   "metadata": {},
   "outputs": [],
   "source": [
    "old <- fread(\"mwas.all.wind.10000\")"
   ]
  },
  {
   "cell_type": "code",
   "execution_count": 133,
   "id": "95f6c7c6-2c8d-4382-b043-cc3e32582b19",
   "metadata": {},
   "outputs": [
    {
     "data": {
      "text/html": [
       "<table class=\"dataframe\">\n",
       "<caption>A data.table: 6 × 4</caption>\n",
       "<thead>\n",
       "\t<tr><th scope=col>chr</th><th scope=col>pos_hg38</th><th scope=col>z</th><th scope=col>p</th></tr>\n",
       "\t<tr><th scope=col>&lt;chr&gt;</th><th scope=col>&lt;dbl&gt;</th><th scope=col>&lt;dbl&gt;</th><th scope=col>&lt;dbl&gt;</th></tr>\n",
       "</thead>\n",
       "<tbody>\n",
       "\t<tr><td>chr1</td><td>1104982</td><td>0.8199803</td><td>0.4122274</td></tr>\n",
       "\t<tr><td>chr1</td><td>1104984</td><td>0.8363752</td><td>0.4029439</td></tr>\n",
       "\t<tr><td>chr1</td><td>1105038</td><td>0.7885519</td><td>0.4303740</td></tr>\n",
       "\t<tr><td>chr1</td><td>1105092</td><td>0.7844246</td><td>0.4327910</td></tr>\n",
       "\t<tr><td>chr1</td><td>1105200</td><td>0.8570140</td><td>0.3914372</td></tr>\n",
       "\t<tr><td>chr1</td><td>1105299</td><td>0.7617538</td><td>0.4462070</td></tr>\n",
       "</tbody>\n",
       "</table>\n"
      ],
      "text/latex": [
       "A data.table: 6 × 4\n",
       "\\begin{tabular}{llll}\n",
       " chr & pos\\_hg38 & z & p\\\\\n",
       " <chr> & <dbl> & <dbl> & <dbl>\\\\\n",
       "\\hline\n",
       "\t chr1 & 1104982 & 0.8199803 & 0.4122274\\\\\n",
       "\t chr1 & 1104984 & 0.8363752 & 0.4029439\\\\\n",
       "\t chr1 & 1105038 & 0.7885519 & 0.4303740\\\\\n",
       "\t chr1 & 1105092 & 0.7844246 & 0.4327910\\\\\n",
       "\t chr1 & 1105200 & 0.8570140 & 0.3914372\\\\\n",
       "\t chr1 & 1105299 & 0.7617538 & 0.4462070\\\\\n",
       "\\end{tabular}\n"
      ],
      "text/markdown": [
       "\n",
       "A data.table: 6 × 4\n",
       "\n",
       "| chr &lt;chr&gt; | pos_hg38 &lt;dbl&gt; | z &lt;dbl&gt; | p &lt;dbl&gt; |\n",
       "|---|---|---|---|\n",
       "| chr1 | 1104982 | 0.8199803 | 0.4122274 |\n",
       "| chr1 | 1104984 | 0.8363752 | 0.4029439 |\n",
       "| chr1 | 1105038 | 0.7885519 | 0.4303740 |\n",
       "| chr1 | 1105092 | 0.7844246 | 0.4327910 |\n",
       "| chr1 | 1105200 | 0.8570140 | 0.3914372 |\n",
       "| chr1 | 1105299 | 0.7617538 | 0.4462070 |\n",
       "\n"
      ],
      "text/plain": [
       "  chr  pos_hg38 z         p        \n",
       "1 chr1 1104982  0.8199803 0.4122274\n",
       "2 chr1 1104984  0.8363752 0.4029439\n",
       "3 chr1 1105038  0.7885519 0.4303740\n",
       "4 chr1 1105092  0.7844246 0.4327910\n",
       "5 chr1 1105200  0.8570140 0.3914372\n",
       "6 chr1 1105299  0.7617538 0.4462070"
      ]
     },
     "metadata": {},
     "output_type": "display_data"
    }
   ],
   "source": [
    "head(old)"
   ]
  },
  {
   "cell_type": "code",
   "execution_count": 134,
   "id": "18922aa9-0ba3-4bb3-8b69-9db5bf654230",
   "metadata": {},
   "outputs": [],
   "source": [
    "colnames(old) <- c(\"CHR\", \"BP\", \"Z\", \"P\")"
   ]
  },
  {
   "cell_type": "code",
   "execution_count": 135,
   "id": "33fa8404-6bbd-4fd9-aa02-8a10480df395",
   "metadata": {},
   "outputs": [],
   "source": [
    "old$CHR <- gsub(\"chr\", \"\", old$CHR)\n",
    "old$CHR <- as.numeric(old$CHR)"
   ]
  },
  {
   "cell_type": "code",
   "execution_count": 136,
   "id": "24c6dac6-4573-472b-98e0-a722c69b38ec",
   "metadata": {},
   "outputs": [],
   "source": [
    "old$SNP <- paste0(\"Chr\", old$CHR, \":\", old$BP)"
   ]
  },
  {
   "cell_type": "code",
   "execution_count": 137,
   "id": "b0bdacbb-5a50-4288-8e21-fa917043e77e",
   "metadata": {},
   "outputs": [
    {
     "data": {
      "image/png": "[encoded data removed]",
      "text/plain": [
       "plot without title"
      ]
     },
     "metadata": {
      "image/png": {
       "height": 420,
       "width": 420
      }
     },
     "output_type": "display_data"
    }
   ],
   "source": [
    "manhattan(old)"
   ]
  },
  {
   "cell_type": "markdown",
   "id": "a31e7b75-58f9-4ea4-9d01-ca34f31fe5eb",
   "metadata": {},
   "source": [
    "### Merging/overlap of Shizhong's results, ours."
   ]
  },
  {
   "cell_type": "code",
   "execution_count": 138,
   "id": "3adff280-3287-4fa7-9f8e-530298383fcc",
   "metadata": {},
   "outputs": [
    {
     "data": {
      "text/html": [
       "<table class=\"dataframe\">\n",
       "<caption>A data.table: 6 × 5</caption>\n",
       "<thead>\n",
       "\t<tr><th scope=col>CHR</th><th scope=col>BP</th><th scope=col>Z</th><th scope=col>P</th><th scope=col>SNP</th></tr>\n",
       "\t<tr><th scope=col>&lt;dbl&gt;</th><th scope=col>&lt;dbl&gt;</th><th scope=col>&lt;dbl&gt;</th><th scope=col>&lt;dbl&gt;</th><th scope=col>&lt;chr&gt;</th></tr>\n",
       "</thead>\n",
       "<tbody>\n",
       "\t<tr><td>1</td><td>1104982</td><td>0.8199803</td><td>0.4122274</td><td>Chr1:1104982</td></tr>\n",
       "\t<tr><td>1</td><td>1104984</td><td>0.8363752</td><td>0.4029439</td><td>Chr1:1104984</td></tr>\n",
       "\t<tr><td>1</td><td>1105038</td><td>0.7885519</td><td>0.4303740</td><td>Chr1:1105038</td></tr>\n",
       "\t<tr><td>1</td><td>1105092</td><td>0.7844246</td><td>0.4327910</td><td>Chr1:1105092</td></tr>\n",
       "\t<tr><td>1</td><td>1105200</td><td>0.8570140</td><td>0.3914372</td><td>Chr1:1105200</td></tr>\n",
       "\t<tr><td>1</td><td>1105299</td><td>0.7617538</td><td>0.4462070</td><td>Chr1:1105299</td></tr>\n",
       "</tbody>\n",
       "</table>\n"
      ],
      "text/latex": [
       "A data.table: 6 × 5\n",
       "\\begin{tabular}{lllll}\n",
       " CHR & BP & Z & P & SNP\\\\\n",
       " <dbl> & <dbl> & <dbl> & <dbl> & <chr>\\\\\n",
       "\\hline\n",
       "\t 1 & 1104982 & 0.8199803 & 0.4122274 & Chr1:1104982\\\\\n",
       "\t 1 & 1104984 & 0.8363752 & 0.4029439 & Chr1:1104984\\\\\n",
       "\t 1 & 1105038 & 0.7885519 & 0.4303740 & Chr1:1105038\\\\\n",
       "\t 1 & 1105092 & 0.7844246 & 0.4327910 & Chr1:1105092\\\\\n",
       "\t 1 & 1105200 & 0.8570140 & 0.3914372 & Chr1:1105200\\\\\n",
       "\t 1 & 1105299 & 0.7617538 & 0.4462070 & Chr1:1105299\\\\\n",
       "\\end{tabular}\n"
      ],
      "text/markdown": [
       "\n",
       "A data.table: 6 × 5\n",
       "\n",
       "| CHR &lt;dbl&gt; | BP &lt;dbl&gt; | Z &lt;dbl&gt; | P &lt;dbl&gt; | SNP &lt;chr&gt; |\n",
       "|---|---|---|---|---|\n",
       "| 1 | 1104982 | 0.8199803 | 0.4122274 | Chr1:1104982 |\n",
       "| 1 | 1104984 | 0.8363752 | 0.4029439 | Chr1:1104984 |\n",
       "| 1 | 1105038 | 0.7885519 | 0.4303740 | Chr1:1105038 |\n",
       "| 1 | 1105092 | 0.7844246 | 0.4327910 | Chr1:1105092 |\n",
       "| 1 | 1105200 | 0.8570140 | 0.3914372 | Chr1:1105200 |\n",
       "| 1 | 1105299 | 0.7617538 | 0.4462070 | Chr1:1105299 |\n",
       "\n"
      ],
      "text/plain": [
       "  CHR BP      Z         P         SNP         \n",
       "1 1   1104982 0.8199803 0.4122274 Chr1:1104982\n",
       "2 1   1104984 0.8363752 0.4029439 Chr1:1104984\n",
       "3 1   1105038 0.7885519 0.4303740 Chr1:1105038\n",
       "4 1   1105092 0.7844246 0.4327910 Chr1:1105092\n",
       "5 1   1105200 0.8570140 0.3914372 Chr1:1105200\n",
       "6 1   1105299 0.7617538 0.4462070 Chr1:1105299"
      ]
     },
     "metadata": {},
     "output_type": "display_data"
    }
   ],
   "source": [
    "head(old)"
   ]
  },
  {
   "cell_type": "code",
   "execution_count": 139,
   "id": "8254843a-a87f-4691-a030-b2e15fe1eb60",
   "metadata": {
    "scrolled": true
   },
   "outputs": [
    {
     "data": {
      "text/html": [
       "<table class=\"dataframe\">\n",
       "<caption>A data.frame: 6 × 3</caption>\n",
       "<thead>\n",
       "\t<tr><th></th><th scope=col>features</th><th scope=col>coefs</th><th scope=col>cg</th></tr>\n",
       "\t<tr><th></th><th scope=col>&lt;chr&gt;</th><th scope=col>&lt;dbl&gt;</th><th scope=col>&lt;dbl&gt;</th></tr>\n",
       "</thead>\n",
       "<tbody>\n",
       "\t<tr><th scope=row>2</th><td>1975412</td><td>-0.0010587502</td><td>1980077</td></tr>\n",
       "\t<tr><th scope=row>3</th><td>1980240</td><td> 0.0023327672</td><td>1980077</td></tr>\n",
       "\t<tr><th scope=row>4</th><td>1981269</td><td>-0.0004382277</td><td>1980077</td></tr>\n",
       "\t<tr><th scope=row>5</th><td>1981360</td><td> 0.0037984149</td><td>1980077</td></tr>\n",
       "\t<tr><th scope=row>6</th><td>1987813</td><td>-0.0002457779</td><td>1980077</td></tr>\n",
       "\t<tr><th scope=row>7</th><td>1989028</td><td> 0.0026451759</td><td>1980077</td></tr>\n",
       "</tbody>\n",
       "</table>\n"
      ],
      "text/latex": [
       "A data.frame: 6 × 3\n",
       "\\begin{tabular}{r|lll}\n",
       "  & features & coefs & cg\\\\\n",
       "  & <chr> & <dbl> & <dbl>\\\\\n",
       "\\hline\n",
       "\t2 & 1975412 & -0.0010587502 & 1980077\\\\\n",
       "\t3 & 1980240 &  0.0023327672 & 1980077\\\\\n",
       "\t4 & 1981269 & -0.0004382277 & 1980077\\\\\n",
       "\t5 & 1981360 &  0.0037984149 & 1980077\\\\\n",
       "\t6 & 1987813 & -0.0002457779 & 1980077\\\\\n",
       "\t7 & 1989028 &  0.0026451759 & 1980077\\\\\n",
       "\\end{tabular}\n"
      ],
      "text/markdown": [
       "\n",
       "A data.frame: 6 × 3\n",
       "\n",
       "| <!--/--> | features &lt;chr&gt; | coefs &lt;dbl&gt; | cg &lt;dbl&gt; |\n",
       "|---|---|---|---|\n",
       "| 2 | 1975412 | -0.0010587502 | 1980077 |\n",
       "| 3 | 1980240 |  0.0023327672 | 1980077 |\n",
       "| 4 | 1981269 | -0.0004382277 | 1980077 |\n",
       "| 5 | 1981360 |  0.0037984149 | 1980077 |\n",
       "| 6 | 1987813 | -0.0002457779 | 1980077 |\n",
       "| 7 | 1989028 |  0.0026451759 | 1980077 |\n",
       "\n"
      ],
      "text/plain": [
       "  features coefs         cg     \n",
       "2 1975412  -0.0010587502 1980077\n",
       "3 1980240   0.0023327672 1980077\n",
       "4 1981269  -0.0004382277 1980077\n",
       "5 1981360   0.0037984149 1980077\n",
       "6 1987813  -0.0002457779 1980077\n",
       "7 1989028   0.0026451759 1980077"
      ]
     },
     "metadata": {},
     "output_type": "display_data"
    }
   ],
   "source": [
    "head(models.all)"
   ]
  },
  {
   "cell_type": "code",
   "execution_count": 140,
   "id": "12d92e3e-9ea9-4ec3-a2a9-70e6d7099b37",
   "metadata": {},
   "outputs": [
    {
     "data": {
      "text/html": [
       "<table class=\"dataframe\">\n",
       "<caption>A data.frame: 6 × 5</caption>\n",
       "<thead>\n",
       "\t<tr><th></th><th scope=col>pos</th><th scope=col>z.x</th><th scope=col>pval.lambda.1se</th><th scope=col>z.y</th><th scope=col>pval.lambda.min</th></tr>\n",
       "\t<tr><th></th><th scope=col>&lt;dbl&gt;</th><th scope=col>&lt;dbl&gt;</th><th scope=col>&lt;dbl&gt;</th><th scope=col>&lt;dbl&gt;</th><th scope=col>&lt;dbl&gt;</th></tr>\n",
       "</thead>\n",
       "<tbody>\n",
       "\t<tr><th scope=row>1</th><td>1980077</td><td>9.859725</td><td>6.221983e-23</td><td>10.34372</td><td>4.468363e-25</td></tr>\n",
       "\t<tr><th scope=row>2</th><td>1980101</td><td>9.867943</td><td>5.732825e-23</td><td>10.38689</td><td>2.844841e-25</td></tr>\n",
       "\t<tr><th scope=row>3</th><td>1980129</td><td>9.869397</td><td>5.650312e-23</td><td>10.49067</td><td>9.535207e-26</td></tr>\n",
       "\t<tr><th scope=row>4</th><td>1980136</td><td>9.872536</td><td>5.476245e-23</td><td>10.69017</td><td>1.131600e-26</td></tr>\n",
       "\t<tr><th scope=row>5</th><td>1980145</td><td>9.834843</td><td>7.969200e-23</td><td>10.51795</td><td>7.141185e-26</td></tr>\n",
       "\t<tr><th scope=row>6</th><td>1980179</td><td>9.921721</td><td>3.349299e-23</td><td>10.72197</td><td>8.027174e-27</td></tr>\n",
       "</tbody>\n",
       "</table>\n"
      ],
      "text/latex": [
       "A data.frame: 6 × 5\n",
       "\\begin{tabular}{r|lllll}\n",
       "  & pos & z.x & pval.lambda.1se & z.y & pval.lambda.min\\\\\n",
       "  & <dbl> & <dbl> & <dbl> & <dbl> & <dbl>\\\\\n",
       "\\hline\n",
       "\t1 & 1980077 & 9.859725 & 6.221983e-23 & 10.34372 & 4.468363e-25\\\\\n",
       "\t2 & 1980101 & 9.867943 & 5.732825e-23 & 10.38689 & 2.844841e-25\\\\\n",
       "\t3 & 1980129 & 9.869397 & 5.650312e-23 & 10.49067 & 9.535207e-26\\\\\n",
       "\t4 & 1980136 & 9.872536 & 5.476245e-23 & 10.69017 & 1.131600e-26\\\\\n",
       "\t5 & 1980145 & 9.834843 & 7.969200e-23 & 10.51795 & 7.141185e-26\\\\\n",
       "\t6 & 1980179 & 9.921721 & 3.349299e-23 & 10.72197 & 8.027174e-27\\\\\n",
       "\\end{tabular}\n"
      ],
      "text/markdown": [
       "\n",
       "A data.frame: 6 × 5\n",
       "\n",
       "| <!--/--> | pos &lt;dbl&gt; | z.x &lt;dbl&gt; | pval.lambda.1se &lt;dbl&gt; | z.y &lt;dbl&gt; | pval.lambda.min &lt;dbl&gt; |\n",
       "|---|---|---|---|---|---|\n",
       "| 1 | 1980077 | 9.859725 | 6.221983e-23 | 10.34372 | 4.468363e-25 |\n",
       "| 2 | 1980101 | 9.867943 | 5.732825e-23 | 10.38689 | 2.844841e-25 |\n",
       "| 3 | 1980129 | 9.869397 | 5.650312e-23 | 10.49067 | 9.535207e-26 |\n",
       "| 4 | 1980136 | 9.872536 | 5.476245e-23 | 10.69017 | 1.131600e-26 |\n",
       "| 5 | 1980145 | 9.834843 | 7.969200e-23 | 10.51795 | 7.141185e-26 |\n",
       "| 6 | 1980179 | 9.921721 | 3.349299e-23 | 10.72197 | 8.027174e-27 |\n",
       "\n"
      ],
      "text/plain": [
       "  pos     z.x      pval.lambda.1se z.y      pval.lambda.min\n",
       "1 1980077 9.859725 6.221983e-23    10.34372 4.468363e-25   \n",
       "2 1980101 9.867943 5.732825e-23    10.38689 2.844841e-25   \n",
       "3 1980129 9.869397 5.650312e-23    10.49067 9.535207e-26   \n",
       "4 1980136 9.872536 5.476245e-23    10.69017 1.131600e-26   \n",
       "5 1980145 9.834843 7.969200e-23    10.51795 7.141185e-26   \n",
       "6 1980179 9.921721 3.349299e-23    10.72197 8.027174e-27   "
      ]
     },
     "metadata": {},
     "output_type": "display_data"
    }
   ],
   "source": [
    "head(df)"
   ]
  },
  {
   "cell_type": "code",
   "execution_count": 141,
   "id": "a2ecaab0-f3ca-4565-a025-e6b589d2f086",
   "metadata": {},
   "outputs": [],
   "source": [
    "df$CHR <- 7"
   ]
  },
  {
   "cell_type": "code",
   "execution_count": 142,
   "id": "5290da01-bf63-4544-9b7d-5971c72907ee",
   "metadata": {},
   "outputs": [
    {
     "data": {
      "text/html": [
       "<style>\n",
       ".list-inline {list-style: none; margin:0; padding: 0}\n",
       ".list-inline>li {display: inline-block}\n",
       ".list-inline>li:not(:last-child)::after {content: \"\\00b7\"; padding: 0 .5ex}\n",
       "</style>\n",
       "<ol class=list-inline><li>'pos'</li><li>'z.x'</li><li>'pval.lambda.1se'</li><li>'z.y'</li><li>'pval.lambda.min'</li><li>'CHR'</li></ol>\n"
      ],
      "text/latex": [
       "\\begin{enumerate*}\n",
       "\\item 'pos'\n",
       "\\item 'z.x'\n",
       "\\item 'pval.lambda.1se'\n",
       "\\item 'z.y'\n",
       "\\item 'pval.lambda.min'\n",
       "\\item 'CHR'\n",
       "\\end{enumerate*}\n"
      ],
      "text/markdown": [
       "1. 'pos'\n",
       "2. 'z.x'\n",
       "3. 'pval.lambda.1se'\n",
       "4. 'z.y'\n",
       "5. 'pval.lambda.min'\n",
       "6. 'CHR'\n",
       "\n",
       "\n"
      ],
      "text/plain": [
       "[1] \"pos\"             \"z.x\"             \"pval.lambda.1se\" \"z.y\"            \n",
       "[5] \"pval.lambda.min\" \"CHR\"            "
      ]
     },
     "metadata": {},
     "output_type": "display_data"
    }
   ],
   "source": [
    "colnames(df)"
   ]
  },
  {
   "cell_type": "code",
   "execution_count": 143,
   "id": "372df21e-d255-4be8-8e1d-ac8290812557",
   "metadata": {},
   "outputs": [],
   "source": [
    "colnames(df)[1] <- \"BP\""
   ]
  },
  {
   "cell_type": "markdown",
   "id": "cd919381-193c-425a-a552-fedc24f2da94",
   "metadata": {},
   "source": [
    "### What % of CpG sites in our results are also found in Shizhongs?"
   ]
  },
  {
   "cell_type": "code",
   "execution_count": 144,
   "id": "1994df44-9c3c-4137-b1cb-f47e07c07d2f",
   "metadata": {},
   "outputs": [
    {
     "data": {
      "text/html": [
       "<table class=\"dataframe\">\n",
       "<caption>A data.frame: 6 × 6</caption>\n",
       "<thead>\n",
       "\t<tr><th></th><th scope=col>BP</th><th scope=col>z.x</th><th scope=col>pval.lambda.1se</th><th scope=col>z.y</th><th scope=col>pval.lambda.min</th><th scope=col>CHR</th></tr>\n",
       "\t<tr><th></th><th scope=col>&lt;dbl&gt;</th><th scope=col>&lt;dbl&gt;</th><th scope=col>&lt;dbl&gt;</th><th scope=col>&lt;dbl&gt;</th><th scope=col>&lt;dbl&gt;</th><th scope=col>&lt;dbl&gt;</th></tr>\n",
       "</thead>\n",
       "<tbody>\n",
       "\t<tr><th scope=row>1</th><td>1980077</td><td>9.859725</td><td>6.221983e-23</td><td>10.34372</td><td>4.468363e-25</td><td>7</td></tr>\n",
       "\t<tr><th scope=row>2</th><td>1980101</td><td>9.867943</td><td>5.732825e-23</td><td>10.38689</td><td>2.844841e-25</td><td>7</td></tr>\n",
       "\t<tr><th scope=row>3</th><td>1980129</td><td>9.869397</td><td>5.650312e-23</td><td>10.49067</td><td>9.535207e-26</td><td>7</td></tr>\n",
       "\t<tr><th scope=row>4</th><td>1980136</td><td>9.872536</td><td>5.476245e-23</td><td>10.69017</td><td>1.131600e-26</td><td>7</td></tr>\n",
       "\t<tr><th scope=row>5</th><td>1980145</td><td>9.834843</td><td>7.969200e-23</td><td>10.51795</td><td>7.141185e-26</td><td>7</td></tr>\n",
       "\t<tr><th scope=row>6</th><td>1980179</td><td>9.921721</td><td>3.349299e-23</td><td>10.72197</td><td>8.027174e-27</td><td>7</td></tr>\n",
       "</tbody>\n",
       "</table>\n"
      ],
      "text/latex": [
       "A data.frame: 6 × 6\n",
       "\\begin{tabular}{r|llllll}\n",
       "  & BP & z.x & pval.lambda.1se & z.y & pval.lambda.min & CHR\\\\\n",
       "  & <dbl> & <dbl> & <dbl> & <dbl> & <dbl> & <dbl>\\\\\n",
       "\\hline\n",
       "\t1 & 1980077 & 9.859725 & 6.221983e-23 & 10.34372 & 4.468363e-25 & 7\\\\\n",
       "\t2 & 1980101 & 9.867943 & 5.732825e-23 & 10.38689 & 2.844841e-25 & 7\\\\\n",
       "\t3 & 1980129 & 9.869397 & 5.650312e-23 & 10.49067 & 9.535207e-26 & 7\\\\\n",
       "\t4 & 1980136 & 9.872536 & 5.476245e-23 & 10.69017 & 1.131600e-26 & 7\\\\\n",
       "\t5 & 1980145 & 9.834843 & 7.969200e-23 & 10.51795 & 7.141185e-26 & 7\\\\\n",
       "\t6 & 1980179 & 9.921721 & 3.349299e-23 & 10.72197 & 8.027174e-27 & 7\\\\\n",
       "\\end{tabular}\n"
      ],
      "text/markdown": [
       "\n",
       "A data.frame: 6 × 6\n",
       "\n",
       "| <!--/--> | BP &lt;dbl&gt; | z.x &lt;dbl&gt; | pval.lambda.1se &lt;dbl&gt; | z.y &lt;dbl&gt; | pval.lambda.min &lt;dbl&gt; | CHR &lt;dbl&gt; |\n",
       "|---|---|---|---|---|---|---|\n",
       "| 1 | 1980077 | 9.859725 | 6.221983e-23 | 10.34372 | 4.468363e-25 | 7 |\n",
       "| 2 | 1980101 | 9.867943 | 5.732825e-23 | 10.38689 | 2.844841e-25 | 7 |\n",
       "| 3 | 1980129 | 9.869397 | 5.650312e-23 | 10.49067 | 9.535207e-26 | 7 |\n",
       "| 4 | 1980136 | 9.872536 | 5.476245e-23 | 10.69017 | 1.131600e-26 | 7 |\n",
       "| 5 | 1980145 | 9.834843 | 7.969200e-23 | 10.51795 | 7.141185e-26 | 7 |\n",
       "| 6 | 1980179 | 9.921721 | 3.349299e-23 | 10.72197 | 8.027174e-27 | 7 |\n",
       "\n"
      ],
      "text/plain": [
       "  BP      z.x      pval.lambda.1se z.y      pval.lambda.min CHR\n",
       "1 1980077 9.859725 6.221983e-23    10.34372 4.468363e-25    7  \n",
       "2 1980101 9.867943 5.732825e-23    10.38689 2.844841e-25    7  \n",
       "3 1980129 9.869397 5.650312e-23    10.49067 9.535207e-26    7  \n",
       "4 1980136 9.872536 5.476245e-23    10.69017 1.131600e-26    7  \n",
       "5 1980145 9.834843 7.969200e-23    10.51795 7.141185e-26    7  \n",
       "6 1980179 9.921721 3.349299e-23    10.72197 8.027174e-27    7  "
      ]
     },
     "metadata": {},
     "output_type": "display_data"
    }
   ],
   "source": [
    "head(df)"
   ]
  },
  {
   "cell_type": "code",
   "execution_count": 145,
   "id": "34d767a6-542c-4f45-8161-e23fd24b1aab",
   "metadata": {},
   "outputs": [],
   "source": [
    "colnames(df)[2] <- \"Z_lambda.1se\"\n",
    "colnames(df)[4] <- \"Z_lambda.min\""
   ]
  },
  {
   "cell_type": "code",
   "execution_count": 146,
   "id": "b9281343-f871-46ae-bb7c-400deedf2f1b",
   "metadata": {},
   "outputs": [],
   "source": [
    "colnames(old)[3:4] <- c(\"Z_Shizhongs_old\", \"pval.shizhongs_old\")"
   ]
  },
  {
   "cell_type": "code",
   "execution_count": 147,
   "id": "cac828c1-1d9d-403d-b2c7-0711db7da571",
   "metadata": {},
   "outputs": [
    {
     "data": {
      "text/html": [
       "<table class=\"dataframe\">\n",
       "<caption>A data.table: 6 × 5</caption>\n",
       "<thead>\n",
       "\t<tr><th scope=col>CHR</th><th scope=col>BP</th><th scope=col>Z_Shizhongs_old</th><th scope=col>pval.shizhongs_old</th><th scope=col>SNP</th></tr>\n",
       "\t<tr><th scope=col>&lt;dbl&gt;</th><th scope=col>&lt;dbl&gt;</th><th scope=col>&lt;dbl&gt;</th><th scope=col>&lt;dbl&gt;</th><th scope=col>&lt;chr&gt;</th></tr>\n",
       "</thead>\n",
       "<tbody>\n",
       "\t<tr><td>1</td><td>1104982</td><td>0.8199803</td><td>0.4122274</td><td>Chr1:1104982</td></tr>\n",
       "\t<tr><td>1</td><td>1104984</td><td>0.8363752</td><td>0.4029439</td><td>Chr1:1104984</td></tr>\n",
       "\t<tr><td>1</td><td>1105038</td><td>0.7885519</td><td>0.4303740</td><td>Chr1:1105038</td></tr>\n",
       "\t<tr><td>1</td><td>1105092</td><td>0.7844246</td><td>0.4327910</td><td>Chr1:1105092</td></tr>\n",
       "\t<tr><td>1</td><td>1105200</td><td>0.8570140</td><td>0.3914372</td><td>Chr1:1105200</td></tr>\n",
       "\t<tr><td>1</td><td>1105299</td><td>0.7617538</td><td>0.4462070</td><td>Chr1:1105299</td></tr>\n",
       "</tbody>\n",
       "</table>\n"
      ],
      "text/latex": [
       "A data.table: 6 × 5\n",
       "\\begin{tabular}{lllll}\n",
       " CHR & BP & Z\\_Shizhongs\\_old & pval.shizhongs\\_old & SNP\\\\\n",
       " <dbl> & <dbl> & <dbl> & <dbl> & <chr>\\\\\n",
       "\\hline\n",
       "\t 1 & 1104982 & 0.8199803 & 0.4122274 & Chr1:1104982\\\\\n",
       "\t 1 & 1104984 & 0.8363752 & 0.4029439 & Chr1:1104984\\\\\n",
       "\t 1 & 1105038 & 0.7885519 & 0.4303740 & Chr1:1105038\\\\\n",
       "\t 1 & 1105092 & 0.7844246 & 0.4327910 & Chr1:1105092\\\\\n",
       "\t 1 & 1105200 & 0.8570140 & 0.3914372 & Chr1:1105200\\\\\n",
       "\t 1 & 1105299 & 0.7617538 & 0.4462070 & Chr1:1105299\\\\\n",
       "\\end{tabular}\n"
      ],
      "text/markdown": [
       "\n",
       "A data.table: 6 × 5\n",
       "\n",
       "| CHR &lt;dbl&gt; | BP &lt;dbl&gt; | Z_Shizhongs_old &lt;dbl&gt; | pval.shizhongs_old &lt;dbl&gt; | SNP &lt;chr&gt; |\n",
       "|---|---|---|---|---|\n",
       "| 1 | 1104982 | 0.8199803 | 0.4122274 | Chr1:1104982 |\n",
       "| 1 | 1104984 | 0.8363752 | 0.4029439 | Chr1:1104984 |\n",
       "| 1 | 1105038 | 0.7885519 | 0.4303740 | Chr1:1105038 |\n",
       "| 1 | 1105092 | 0.7844246 | 0.4327910 | Chr1:1105092 |\n",
       "| 1 | 1105200 | 0.8570140 | 0.3914372 | Chr1:1105200 |\n",
       "| 1 | 1105299 | 0.7617538 | 0.4462070 | Chr1:1105299 |\n",
       "\n"
      ],
      "text/plain": [
       "  CHR BP      Z_Shizhongs_old pval.shizhongs_old SNP         \n",
       "1 1   1104982 0.8199803       0.4122274          Chr1:1104982\n",
       "2 1   1104984 0.8363752       0.4029439          Chr1:1104984\n",
       "3 1   1105038 0.7885519       0.4303740          Chr1:1105038\n",
       "4 1   1105092 0.7844246       0.4327910          Chr1:1105092\n",
       "5 1   1105200 0.8570140       0.3914372          Chr1:1105200\n",
       "6 1   1105299 0.7617538       0.4462070          Chr1:1105299"
      ]
     },
     "metadata": {},
     "output_type": "display_data"
    }
   ],
   "source": [
    "head(old)"
   ]
  },
  {
   "cell_type": "code",
   "execution_count": 148,
   "id": "77ec8fc9-fc3e-4340-bd36-281fefb243db",
   "metadata": {},
   "outputs": [],
   "source": [
    "merged <- merge(old, df)"
   ]
  },
  {
   "cell_type": "code",
   "execution_count": 149,
   "id": "c75e1d33-b683-4a0d-ac0f-8d8c7b2886d8",
   "metadata": {},
   "outputs": [
    {
     "data": {
      "text/html": [
       "<table class=\"dataframe\">\n",
       "<caption>A data.table: 6 × 9</caption>\n",
       "<thead>\n",
       "\t<tr><th scope=col>CHR</th><th scope=col>BP</th><th scope=col>Z_Shizhongs_old</th><th scope=col>pval.shizhongs_old</th><th scope=col>SNP</th><th scope=col>Z_lambda.1se</th><th scope=col>pval.lambda.1se</th><th scope=col>Z_lambda.min</th><th scope=col>pval.lambda.min</th></tr>\n",
       "\t<tr><th scope=col>&lt;dbl&gt;</th><th scope=col>&lt;dbl&gt;</th><th scope=col>&lt;dbl&gt;</th><th scope=col>&lt;dbl&gt;</th><th scope=col>&lt;chr&gt;</th><th scope=col>&lt;dbl&gt;</th><th scope=col>&lt;dbl&gt;</th><th scope=col>&lt;dbl&gt;</th><th scope=col>&lt;dbl&gt;</th></tr>\n",
       "</thead>\n",
       "<tbody>\n",
       "\t<tr><td>7</td><td>1987511</td><td> 9.903333</td><td>4.026274e-23</td><td>Chr7:1987511</td><td>19.68581</td><td> 2.853656e-86</td><td>24.41724</td><td>1.122092e-131</td></tr>\n",
       "\t<tr><td>7</td><td>1987527</td><td> 9.918049</td><td>3.474819e-23</td><td>Chr7:1987527</td><td>17.07298</td><td> 2.358535e-65</td><td>27.43261</td><td>1.120388e-165</td></tr>\n",
       "\t<tr><td>7</td><td>1987565</td><td>10.003180</td><td>1.475801e-23</td><td>Chr7:1987565</td><td>22.06001</td><td>7.657086e-108</td><td>30.21517</td><td>1.497263e-200</td></tr>\n",
       "\t<tr><td>7</td><td>1987604</td><td>10.120719</td><td>4.471204e-24</td><td>Chr7:1987604</td><td>21.64935</td><td>6.164851e-104</td><td>32.00572</td><td>9.079747e-225</td></tr>\n",
       "\t<tr><td>7</td><td>1987616</td><td>10.157135</td><td>3.079935e-24</td><td>Chr7:1987616</td><td>23.42409</td><td>2.428780e-121</td><td>31.66020</td><td>5.489701e-220</td></tr>\n",
       "\t<tr><td>7</td><td>1987627</td><td>10.000170</td><td>1.521364e-23</td><td>Chr7:1987627</td><td>22.66812</td><td>9.246659e-114</td><td>32.35257</td><td>1.276472e-229</td></tr>\n",
       "</tbody>\n",
       "</table>\n"
      ],
      "text/latex": [
       "A data.table: 6 × 9\n",
       "\\begin{tabular}{lllllllll}\n",
       " CHR & BP & Z\\_Shizhongs\\_old & pval.shizhongs\\_old & SNP & Z\\_lambda.1se & pval.lambda.1se & Z\\_lambda.min & pval.lambda.min\\\\\n",
       " <dbl> & <dbl> & <dbl> & <dbl> & <chr> & <dbl> & <dbl> & <dbl> & <dbl>\\\\\n",
       "\\hline\n",
       "\t 7 & 1987511 &  9.903333 & 4.026274e-23 & Chr7:1987511 & 19.68581 &  2.853656e-86 & 24.41724 & 1.122092e-131\\\\\n",
       "\t 7 & 1987527 &  9.918049 & 3.474819e-23 & Chr7:1987527 & 17.07298 &  2.358535e-65 & 27.43261 & 1.120388e-165\\\\\n",
       "\t 7 & 1987565 & 10.003180 & 1.475801e-23 & Chr7:1987565 & 22.06001 & 7.657086e-108 & 30.21517 & 1.497263e-200\\\\\n",
       "\t 7 & 1987604 & 10.120719 & 4.471204e-24 & Chr7:1987604 & 21.64935 & 6.164851e-104 & 32.00572 & 9.079747e-225\\\\\n",
       "\t 7 & 1987616 & 10.157135 & 3.079935e-24 & Chr7:1987616 & 23.42409 & 2.428780e-121 & 31.66020 & 5.489701e-220\\\\\n",
       "\t 7 & 1987627 & 10.000170 & 1.521364e-23 & Chr7:1987627 & 22.66812 & 9.246659e-114 & 32.35257 & 1.276472e-229\\\\\n",
       "\\end{tabular}\n"
      ],
      "text/markdown": [
       "\n",
       "A data.table: 6 × 9\n",
       "\n",
       "| CHR &lt;dbl&gt; | BP &lt;dbl&gt; | Z_Shizhongs_old &lt;dbl&gt; | pval.shizhongs_old &lt;dbl&gt; | SNP &lt;chr&gt; | Z_lambda.1se &lt;dbl&gt; | pval.lambda.1se &lt;dbl&gt; | Z_lambda.min &lt;dbl&gt; | pval.lambda.min &lt;dbl&gt; |\n",
       "|---|---|---|---|---|---|---|---|---|\n",
       "| 7 | 1987511 |  9.903333 | 4.026274e-23 | Chr7:1987511 | 19.68581 |  2.853656e-86 | 24.41724 | 1.122092e-131 |\n",
       "| 7 | 1987527 |  9.918049 | 3.474819e-23 | Chr7:1987527 | 17.07298 |  2.358535e-65 | 27.43261 | 1.120388e-165 |\n",
       "| 7 | 1987565 | 10.003180 | 1.475801e-23 | Chr7:1987565 | 22.06001 | 7.657086e-108 | 30.21517 | 1.497263e-200 |\n",
       "| 7 | 1987604 | 10.120719 | 4.471204e-24 | Chr7:1987604 | 21.64935 | 6.164851e-104 | 32.00572 | 9.079747e-225 |\n",
       "| 7 | 1987616 | 10.157135 | 3.079935e-24 | Chr7:1987616 | 23.42409 | 2.428780e-121 | 31.66020 | 5.489701e-220 |\n",
       "| 7 | 1987627 | 10.000170 | 1.521364e-23 | Chr7:1987627 | 22.66812 | 9.246659e-114 | 32.35257 | 1.276472e-229 |\n",
       "\n"
      ],
      "text/plain": [
       "  CHR BP      Z_Shizhongs_old pval.shizhongs_old SNP          Z_lambda.1se\n",
       "1 7   1987511  9.903333       4.026274e-23       Chr7:1987511 19.68581    \n",
       "2 7   1987527  9.918049       3.474819e-23       Chr7:1987527 17.07298    \n",
       "3 7   1987565 10.003180       1.475801e-23       Chr7:1987565 22.06001    \n",
       "4 7   1987604 10.120719       4.471204e-24       Chr7:1987604 21.64935    \n",
       "5 7   1987616 10.157135       3.079935e-24       Chr7:1987616 23.42409    \n",
       "6 7   1987627 10.000170       1.521364e-23       Chr7:1987627 22.66812    \n",
       "  pval.lambda.1se Z_lambda.min pval.lambda.min\n",
       "1  2.853656e-86   24.41724     1.122092e-131  \n",
       "2  2.358535e-65   27.43261     1.120388e-165  \n",
       "3 7.657086e-108   30.21517     1.497263e-200  \n",
       "4 6.164851e-104   32.00572     9.079747e-225  \n",
       "5 2.428780e-121   31.66020     5.489701e-220  \n",
       "6 9.246659e-114   32.35257     1.276472e-229  "
      ]
     },
     "metadata": {},
     "output_type": "display_data"
    }
   ],
   "source": [
    "head(merged)"
   ]
  },
  {
   "cell_type": "code",
   "execution_count": 150,
   "id": "c93b212c-1cb3-4d26-8e20-ec727da333bc",
   "metadata": {},
   "outputs": [
    {
     "data": {
      "text/html": [
       "<style>\n",
       ".list-inline {list-style: none; margin:0; padding: 0}\n",
       ".list-inline>li {display: inline-block}\n",
       ".list-inline>li:not(:last-child)::after {content: \"\\00b7\"; padding: 0 .5ex}\n",
       "</style>\n",
       "<ol class=list-inline><li>4525979</li><li>5</li></ol>\n"
      ],
      "text/latex": [
       "\\begin{enumerate*}\n",
       "\\item 4525979\n",
       "\\item 5\n",
       "\\end{enumerate*}\n"
      ],
      "text/markdown": [
       "1. 4525979\n",
       "2. 5\n",
       "\n",
       "\n"
      ],
      "text/plain": [
       "[1] 4525979       5"
      ]
     },
     "metadata": {},
     "output_type": "display_data"
    }
   ],
   "source": [
    "dim(old)"
   ]
  },
  {
   "cell_type": "code",
   "execution_count": 151,
   "id": "20ee9fa2-afda-4171-a655-4d9dc2aa6e04",
   "metadata": {},
   "outputs": [
    {
     "data": {
      "text/html": [
       "<style>\n",
       ".list-inline {list-style: none; margin:0; padding: 0}\n",
       ".list-inline>li {display: inline-block}\n",
       ".list-inline>li:not(:last-child)::after {content: \"\\00b7\"; padding: 0 .5ex}\n",
       "</style>\n",
       "<ol class=list-inline><li>269</li><li>6</li></ol>\n"
      ],
      "text/latex": [
       "\\begin{enumerate*}\n",
       "\\item 269\n",
       "\\item 6\n",
       "\\end{enumerate*}\n"
      ],
      "text/markdown": [
       "1. 269\n",
       "2. 6\n",
       "\n",
       "\n"
      ],
      "text/plain": [
       "[1] 269   6"
      ]
     },
     "metadata": {},
     "output_type": "display_data"
    }
   ],
   "source": [
    "dim(df)"
   ]
  },
  {
   "cell_type": "code",
   "execution_count": 152,
   "id": "d97bec16-7d14-47f2-a44b-c29090290eed",
   "metadata": {},
   "outputs": [
    {
     "data": {
      "text/html": [
       "<style>\n",
       ".list-inline {list-style: none; margin:0; padding: 0}\n",
       ".list-inline>li {display: inline-block}\n",
       ".list-inline>li:not(:last-child)::after {content: \"\\00b7\"; padding: 0 .5ex}\n",
       "</style>\n",
       "<ol class=list-inline><li>28</li><li>9</li></ol>\n"
      ],
      "text/latex": [
       "\\begin{enumerate*}\n",
       "\\item 28\n",
       "\\item 9\n",
       "\\end{enumerate*}\n"
      ],
      "text/markdown": [
       "1. 28\n",
       "2. 9\n",
       "\n",
       "\n"
      ],
      "text/plain": [
       "[1] 28  9"
      ]
     },
     "metadata": {},
     "output_type": "display_data"
    }
   ],
   "source": [
    "dim(merged)"
   ]
  },
  {
   "cell_type": "code",
   "execution_count": 153,
   "id": "c6ec26ce-f679-4dc1-ad92-f0fe41dcac02",
   "metadata": {},
   "outputs": [
    {
     "data": {
      "text/html": [
       "4472847"
      ],
      "text/latex": [
       "4472847"
      ],
      "text/markdown": [
       "4472847"
      ],
      "text/plain": [
       "[1] 4472847"
      ]
     },
     "metadata": {},
     "output_type": "display_data"
    }
   ],
   "source": [
    "length(setdiff(old$BP, df$BP))\n",
    "#setdiff(old$BP, df$BP)"
   ]
  },
  {
   "cell_type": "code",
   "execution_count": 154,
   "id": "fcae7930-ba65-418f-a3de-94c9e919a719",
   "metadata": {},
   "outputs": [
    {
     "data": {
      "text/html": [
       "235"
      ],
      "text/latex": [
       "235"
      ],
      "text/markdown": [
       "235"
      ],
      "text/plain": [
       "[1] 235"
      ]
     },
     "metadata": {},
     "output_type": "display_data"
    },
    {
     "data": {
      "text/html": [
       "<style>\n",
       ".list-inline {list-style: none; margin:0; padding: 0}\n",
       ".list-inline>li {display: inline-block}\n",
       ".list-inline>li:not(:last-child)::after {content: \"\\00b7\"; padding: 0 .5ex}\n",
       "</style>\n",
       "<ol class=list-inline><li>1980077</li><li>1980101</li><li>1980136</li><li>1980145</li><li>1980179</li><li>1980183</li><li>1980193</li><li>1980205</li><li>1980239</li><li>1980247</li><li>1980287</li><li>1980291</li><li>1980303</li><li>1980320</li><li>1980326</li><li>1980355</li><li>1980373</li><li>1980396</li><li>1980424</li><li>1980430</li><li>1980448</li><li>1980458</li><li>1980496</li><li>1980577</li><li>1980581</li><li>1980787</li><li>1980860</li><li>1980869</li><li>1980893</li><li>1980896</li><li>1980905</li><li>1980948</li><li>1980952</li><li>1980997</li><li>1981035</li><li>1981111</li><li>1981113</li><li>1981123</li><li>1981186</li><li>1981200</li><li>1981213</li><li>1981219</li><li>1981246</li><li>1981253</li><li>1981262</li><li>1981286</li><li>1981328</li><li>1981352</li><li>1981359</li><li>1981386</li><li>1981410</li><li>1981427</li><li>1981449</li><li>1981479</li><li>1981518</li><li>1981608</li><li>1981613</li><li>1981675</li><li>1981682</li><li>1981958</li><li>1982004</li><li>1982017</li><li>1982035</li><li>1982079</li><li>1982246</li><li>1982264</li><li>1982311</li><li>1982357</li><li>1982397</li><li>1982428</li><li>1982488</li><li>1982495</li><li>1982498</li><li>1982500</li><li>1982541</li><li>1982564</li><li>1982583</li><li>1982587</li><li>1982648</li><li>1982740</li><li>1982933</li><li>1983077</li><li>1983083</li><li>1983105</li><li>1983135</li><li>1983139</li><li>1983141</li><li>1983143</li><li>1983145</li><li>1983149</li><li>1983151</li><li>1983153</li><li>1983296</li><li>1983405</li><li>1983484</li><li>1983612</li><li>1983632</li><li>1983747</li><li>1984150</li><li>1984336</li><li>1984422</li><li>1984473</li><li>1984518</li><li>1984623</li><li>1984705</li><li>1984833</li><li>1984895</li><li>1984908</li><li>1984972</li><li>1985070</li><li>1985172</li><li>1985193</li><li>1985231</li><li>1985257</li><li>1985261</li><li>1985292</li><li>1985304</li><li>1985311</li><li>1985342</li><li>1985365</li><li>1985419</li><li>1985445</li><li>1985468</li><li>1985486</li><li>1985521</li><li>1985572</li><li>1985585</li><li>1985591</li><li>1985721</li><li>1985744</li><li>1985751</li><li>1985767</li><li>1985848</li><li>1985857</li><li>1985878</li><li>1985883</li><li>1985906</li><li>1985971</li><li>1986087</li><li>1986093</li><li>1986164</li><li>1986194</li><li>1986214</li><li>1986268</li><li>1986377</li><li>1986407</li><li>1986417</li><li>1986424</li><li>1986443</li><li>1986450</li><li>1986462</li><li>1986465</li><li>1986484</li><li>1986486</li><li>1986497</li><li>1986500</li><li>1986519</li><li>1986521</li><li>1986530</li><li>1986556</li><li>1986624</li><li>1986652</li><li>1986733</li><li>1986909</li><li>1986957</li><li>1987106</li><li>1987319</li><li>1987365</li><li>1987395</li><li>1987403</li><li>1987407</li><li>1987413</li><li>1987418</li><li>1987434</li><li>1987449</li><li>1987458</li><li>1987468</li><li>1987492</li><li>1988010</li><li>1988039</li><li>1988059</li><li>1988066</li><li>1988078</li><li>1988129</li><li>1988133</li><li>1988141</li><li>1988171</li><li>1988201</li><li>1988216</li><li>1988307</li><li>1988321</li><li>1988325</li><li>1988332</li><li>1988401</li><li>1988423</li><li>1988546</li><li>1988580</li><li>1988634</li><li>1988636</li><li>1988655</li><li>1988718</li><li>1988745</li><li>1988776</li><li>1988785</li><li>1988847</li><li>1988874</li><li>1989119</li><li>1989169</li><li>1989201</li><li>1989209</li><li>1989218</li><li>1989241</li><li>1989249</li><li>1989258</li><li>1989275</li><li>1989298</li><li>1989308</li><li>1989332</li><li>1989394</li><li>1989442</li><li>1989451</li><li>1989482</li><li>1989497</li><li>1989500</li><li>1989503</li><li>1989527</li><li>1989605</li><li>1989607</li><li>1989617</li><li>1989642</li><li>1989658</li><li>1989674</li><li>1989767</li><li>1989793</li><li>1989924</li></ol>\n"
      ],
      "text/latex": [
       "\\begin{enumerate*}\n",
       "\\item 1980077\n",
       "\\item 1980101\n",
       "\\item 1980136\n",
       "\\item 1980145\n",
       "\\item 1980179\n",
       "\\item 1980183\n",
       "\\item 1980193\n",
       "\\item 1980205\n",
       "\\item 1980239\n",
       "\\item 1980247\n",
       "\\item 1980287\n",
       "\\item 1980291\n",
       "\\item 1980303\n",
       "\\item 1980320\n",
       "\\item 1980326\n",
       "\\item 1980355\n",
       "\\item 1980373\n",
       "\\item 1980396\n",
       "\\item 1980424\n",
       "\\item 1980430\n",
       "\\item 1980448\n",
       "\\item 1980458\n",
       "\\item 1980496\n",
       "\\item 1980577\n",
       "\\item 1980581\n",
       "\\item 1980787\n",
       "\\item 1980860\n",
       "\\item 1980869\n",
       "\\item 1980893\n",
       "\\item 1980896\n",
       "\\item 1980905\n",
       "\\item 1980948\n",
       "\\item 1980952\n",
       "\\item 1980997\n",
       "\\item 1981035\n",
       "\\item 1981111\n",
       "\\item 1981113\n",
       "\\item 1981123\n",
       "\\item 1981186\n",
       "\\item 1981200\n",
       "\\item 1981213\n",
       "\\item 1981219\n",
       "\\item 1981246\n",
       "\\item 1981253\n",
       "\\item 1981262\n",
       "\\item 1981286\n",
       "\\item 1981328\n",
       "\\item 1981352\n",
       "\\item 1981359\n",
       "\\item 1981386\n",
       "\\item 1981410\n",
       "\\item 1981427\n",
       "\\item 1981449\n",
       "\\item 1981479\n",
       "\\item 1981518\n",
       "\\item 1981608\n",
       "\\item 1981613\n",
       "\\item 1981675\n",
       "\\item 1981682\n",
       "\\item 1981958\n",
       "\\item 1982004\n",
       "\\item 1982017\n",
       "\\item 1982035\n",
       "\\item 1982079\n",
       "\\item 1982246\n",
       "\\item 1982264\n",
       "\\item 1982311\n",
       "\\item 1982357\n",
       "\\item 1982397\n",
       "\\item 1982428\n",
       "\\item 1982488\n",
       "\\item 1982495\n",
       "\\item 1982498\n",
       "\\item 1982500\n",
       "\\item 1982541\n",
       "\\item 1982564\n",
       "\\item 1982583\n",
       "\\item 1982587\n",
       "\\item 1982648\n",
       "\\item 1982740\n",
       "\\item 1982933\n",
       "\\item 1983077\n",
       "\\item 1983083\n",
       "\\item 1983105\n",
       "\\item 1983135\n",
       "\\item 1983139\n",
       "\\item 1983141\n",
       "\\item 1983143\n",
       "\\item 1983145\n",
       "\\item 1983149\n",
       "\\item 1983151\n",
       "\\item 1983153\n",
       "\\item 1983296\n",
       "\\item 1983405\n",
       "\\item 1983484\n",
       "\\item 1983612\n",
       "\\item 1983632\n",
       "\\item 1983747\n",
       "\\item 1984150\n",
       "\\item 1984336\n",
       "\\item 1984422\n",
       "\\item 1984473\n",
       "\\item 1984518\n",
       "\\item 1984623\n",
       "\\item 1984705\n",
       "\\item 1984833\n",
       "\\item 1984895\n",
       "\\item 1984908\n",
       "\\item 1984972\n",
       "\\item 1985070\n",
       "\\item 1985172\n",
       "\\item 1985193\n",
       "\\item 1985231\n",
       "\\item 1985257\n",
       "\\item 1985261\n",
       "\\item 1985292\n",
       "\\item 1985304\n",
       "\\item 1985311\n",
       "\\item 1985342\n",
       "\\item 1985365\n",
       "\\item 1985419\n",
       "\\item 1985445\n",
       "\\item 1985468\n",
       "\\item 1985486\n",
       "\\item 1985521\n",
       "\\item 1985572\n",
       "\\item 1985585\n",
       "\\item 1985591\n",
       "\\item 1985721\n",
       "\\item 1985744\n",
       "\\item 1985751\n",
       "\\item 1985767\n",
       "\\item 1985848\n",
       "\\item 1985857\n",
       "\\item 1985878\n",
       "\\item 1985883\n",
       "\\item 1985906\n",
       "\\item 1985971\n",
       "\\item 1986087\n",
       "\\item 1986093\n",
       "\\item 1986164\n",
       "\\item 1986194\n",
       "\\item 1986214\n",
       "\\item 1986268\n",
       "\\item 1986377\n",
       "\\item 1986407\n",
       "\\item 1986417\n",
       "\\item 1986424\n",
       "\\item 1986443\n",
       "\\item 1986450\n",
       "\\item 1986462\n",
       "\\item 1986465\n",
       "\\item 1986484\n",
       "\\item 1986486\n",
       "\\item 1986497\n",
       "\\item 1986500\n",
       "\\item 1986519\n",
       "\\item 1986521\n",
       "\\item 1986530\n",
       "\\item 1986556\n",
       "\\item 1986624\n",
       "\\item 1986652\n",
       "\\item 1986733\n",
       "\\item 1986909\n",
       "\\item 1986957\n",
       "\\item 1987106\n",
       "\\item 1987319\n",
       "\\item 1987365\n",
       "\\item 1987395\n",
       "\\item 1987403\n",
       "\\item 1987407\n",
       "\\item 1987413\n",
       "\\item 1987418\n",
       "\\item 1987434\n",
       "\\item 1987449\n",
       "\\item 1987458\n",
       "\\item 1987468\n",
       "\\item 1987492\n",
       "\\item 1988010\n",
       "\\item 1988039\n",
       "\\item 1988059\n",
       "\\item 1988066\n",
       "\\item 1988078\n",
       "\\item 1988129\n",
       "\\item 1988133\n",
       "\\item 1988141\n",
       "\\item 1988171\n",
       "\\item 1988201\n",
       "\\item 1988216\n",
       "\\item 1988307\n",
       "\\item 1988321\n",
       "\\item 1988325\n",
       "\\item 1988332\n",
       "\\item 1988401\n",
       "\\item 1988423\n",
       "\\item 1988546\n",
       "\\item 1988580\n",
       "\\item 1988634\n",
       "\\item 1988636\n",
       "\\item 1988655\n",
       "\\item 1988718\n",
       "\\item 1988745\n",
       "\\item 1988776\n",
       "\\item 1988785\n",
       "\\item 1988847\n",
       "\\item 1988874\n",
       "\\item 1989119\n",
       "\\item 1989169\n",
       "\\item 1989201\n",
       "\\item 1989209\n",
       "\\item 1989218\n",
       "\\item 1989241\n",
       "\\item 1989249\n",
       "\\item 1989258\n",
       "\\item 1989275\n",
       "\\item 1989298\n",
       "\\item 1989308\n",
       "\\item 1989332\n",
       "\\item 1989394\n",
       "\\item 1989442\n",
       "\\item 1989451\n",
       "\\item 1989482\n",
       "\\item 1989497\n",
       "\\item 1989500\n",
       "\\item 1989503\n",
       "\\item 1989527\n",
       "\\item 1989605\n",
       "\\item 1989607\n",
       "\\item 1989617\n",
       "\\item 1989642\n",
       "\\item 1989658\n",
       "\\item 1989674\n",
       "\\item 1989767\n",
       "\\item 1989793\n",
       "\\item 1989924\n",
       "\\end{enumerate*}\n"
      ],
      "text/markdown": [
       "1. 1980077\n",
       "2. 1980101\n",
       "3. 1980136\n",
       "4. 1980145\n",
       "5. 1980179\n",
       "6. 1980183\n",
       "7. 1980193\n",
       "8. 1980205\n",
       "9. 1980239\n",
       "10. 1980247\n",
       "11. 1980287\n",
       "12. 1980291\n",
       "13. 1980303\n",
       "14. 1980320\n",
       "15. 1980326\n",
       "16. 1980355\n",
       "17. 1980373\n",
       "18. 1980396\n",
       "19. 1980424\n",
       "20. 1980430\n",
       "21. 1980448\n",
       "22. 1980458\n",
       "23. 1980496\n",
       "24. 1980577\n",
       "25. 1980581\n",
       "26. 1980787\n",
       "27. 1980860\n",
       "28. 1980869\n",
       "29. 1980893\n",
       "30. 1980896\n",
       "31. 1980905\n",
       "32. 1980948\n",
       "33. 1980952\n",
       "34. 1980997\n",
       "35. 1981035\n",
       "36. 1981111\n",
       "37. 1981113\n",
       "38. 1981123\n",
       "39. 1981186\n",
       "40. 1981200\n",
       "41. 1981213\n",
       "42. 1981219\n",
       "43. 1981246\n",
       "44. 1981253\n",
       "45. 1981262\n",
       "46. 1981286\n",
       "47. 1981328\n",
       "48. 1981352\n",
       "49. 1981359\n",
       "50. 1981386\n",
       "51. 1981410\n",
       "52. 1981427\n",
       "53. 1981449\n",
       "54. 1981479\n",
       "55. 1981518\n",
       "56. 1981608\n",
       "57. 1981613\n",
       "58. 1981675\n",
       "59. 1981682\n",
       "60. 1981958\n",
       "61. 1982004\n",
       "62. 1982017\n",
       "63. 1982035\n",
       "64. 1982079\n",
       "65. 1982246\n",
       "66. 1982264\n",
       "67. 1982311\n",
       "68. 1982357\n",
       "69. 1982397\n",
       "70. 1982428\n",
       "71. 1982488\n",
       "72. 1982495\n",
       "73. 1982498\n",
       "74. 1982500\n",
       "75. 1982541\n",
       "76. 1982564\n",
       "77. 1982583\n",
       "78. 1982587\n",
       "79. 1982648\n",
       "80. 1982740\n",
       "81. 1982933\n",
       "82. 1983077\n",
       "83. 1983083\n",
       "84. 1983105\n",
       "85. 1983135\n",
       "86. 1983139\n",
       "87. 1983141\n",
       "88. 1983143\n",
       "89. 1983145\n",
       "90. 1983149\n",
       "91. 1983151\n",
       "92. 1983153\n",
       "93. 1983296\n",
       "94. 1983405\n",
       "95. 1983484\n",
       "96. 1983612\n",
       "97. 1983632\n",
       "98. 1983747\n",
       "99. 1984150\n",
       "100. 1984336\n",
       "101. 1984422\n",
       "102. 1984473\n",
       "103. 1984518\n",
       "104. 1984623\n",
       "105. 1984705\n",
       "106. 1984833\n",
       "107. 1984895\n",
       "108. 1984908\n",
       "109. 1984972\n",
       "110. 1985070\n",
       "111. 1985172\n",
       "112. 1985193\n",
       "113. 1985231\n",
       "114. 1985257\n",
       "115. 1985261\n",
       "116. 1985292\n",
       "117. 1985304\n",
       "118. 1985311\n",
       "119. 1985342\n",
       "120. 1985365\n",
       "121. 1985419\n",
       "122. 1985445\n",
       "123. 1985468\n",
       "124. 1985486\n",
       "125. 1985521\n",
       "126. 1985572\n",
       "127. 1985585\n",
       "128. 1985591\n",
       "129. 1985721\n",
       "130. 1985744\n",
       "131. 1985751\n",
       "132. 1985767\n",
       "133. 1985848\n",
       "134. 1985857\n",
       "135. 1985878\n",
       "136. 1985883\n",
       "137. 1985906\n",
       "138. 1985971\n",
       "139. 1986087\n",
       "140. 1986093\n",
       "141. 1986164\n",
       "142. 1986194\n",
       "143. 1986214\n",
       "144. 1986268\n",
       "145. 1986377\n",
       "146. 1986407\n",
       "147. 1986417\n",
       "148. 1986424\n",
       "149. 1986443\n",
       "150. 1986450\n",
       "151. 1986462\n",
       "152. 1986465\n",
       "153. 1986484\n",
       "154. 1986486\n",
       "155. 1986497\n",
       "156. 1986500\n",
       "157. 1986519\n",
       "158. 1986521\n",
       "159. 1986530\n",
       "160. 1986556\n",
       "161. 1986624\n",
       "162. 1986652\n",
       "163. 1986733\n",
       "164. 1986909\n",
       "165. 1986957\n",
       "166. 1987106\n",
       "167. 1987319\n",
       "168. 1987365\n",
       "169. 1987395\n",
       "170. 1987403\n",
       "171. 1987407\n",
       "172. 1987413\n",
       "173. 1987418\n",
       "174. 1987434\n",
       "175. 1987449\n",
       "176. 1987458\n",
       "177. 1987468\n",
       "178. 1987492\n",
       "179. 1988010\n",
       "180. 1988039\n",
       "181. 1988059\n",
       "182. 1988066\n",
       "183. 1988078\n",
       "184. 1988129\n",
       "185. 1988133\n",
       "186. 1988141\n",
       "187. 1988171\n",
       "188. 1988201\n",
       "189. 1988216\n",
       "190. 1988307\n",
       "191. 1988321\n",
       "192. 1988325\n",
       "193. 1988332\n",
       "194. 1988401\n",
       "195. 1988423\n",
       "196. 1988546\n",
       "197. 1988580\n",
       "198. 1988634\n",
       "199. 1988636\n",
       "200. 1988655\n",
       "201. 1988718\n",
       "202. 1988745\n",
       "203. 1988776\n",
       "204. 1988785\n",
       "205. 1988847\n",
       "206. 1988874\n",
       "207. 1989119\n",
       "208. 1989169\n",
       "209. 1989201\n",
       "210. 1989209\n",
       "211. 1989218\n",
       "212. 1989241\n",
       "213. 1989249\n",
       "214. 1989258\n",
       "215. 1989275\n",
       "216. 1989298\n",
       "217. 1989308\n",
       "218. 1989332\n",
       "219. 1989394\n",
       "220. 1989442\n",
       "221. 1989451\n",
       "222. 1989482\n",
       "223. 1989497\n",
       "224. 1989500\n",
       "225. 1989503\n",
       "226. 1989527\n",
       "227. 1989605\n",
       "228. 1989607\n",
       "229. 1989617\n",
       "230. 1989642\n",
       "231. 1989658\n",
       "232. 1989674\n",
       "233. 1989767\n",
       "234. 1989793\n",
       "235. 1989924\n",
       "\n",
       "\n"
      ],
      "text/plain": [
       "  [1] 1980077 1980101 1980136 1980145 1980179 1980183 1980193 1980205 1980239\n",
       " [10] 1980247 1980287 1980291 1980303 1980320 1980326 1980355 1980373 1980396\n",
       " [19] 1980424 1980430 1980448 1980458 1980496 1980577 1980581 1980787 1980860\n",
       " [28] 1980869 1980893 1980896 1980905 1980948 1980952 1980997 1981035 1981111\n",
       " [37] 1981113 1981123 1981186 1981200 1981213 1981219 1981246 1981253 1981262\n",
       " [46] 1981286 1981328 1981352 1981359 1981386 1981410 1981427 1981449 1981479\n",
       " [55] 1981518 1981608 1981613 1981675 1981682 1981958 1982004 1982017 1982035\n",
       " [64] 1982079 1982246 1982264 1982311 1982357 1982397 1982428 1982488 1982495\n",
       " [73] 1982498 1982500 1982541 1982564 1982583 1982587 1982648 1982740 1982933\n",
       " [82] 1983077 1983083 1983105 1983135 1983139 1983141 1983143 1983145 1983149\n",
       " [91] 1983151 1983153 1983296 1983405 1983484 1983612 1983632 1983747 1984150\n",
       "[100] 1984336 1984422 1984473 1984518 1984623 1984705 1984833 1984895 1984908\n",
       "[109] 1984972 1985070 1985172 1985193 1985231 1985257 1985261 1985292 1985304\n",
       "[118] 1985311 1985342 1985365 1985419 1985445 1985468 1985486 1985521 1985572\n",
       "[127] 1985585 1985591 1985721 1985744 1985751 1985767 1985848 1985857 1985878\n",
       "[136] 1985883 1985906 1985971 1986087 1986093 1986164 1986194 1986214 1986268\n",
       "[145] 1986377 1986407 1986417 1986424 1986443 1986450 1986462 1986465 1986484\n",
       "[154] 1986486 1986497 1986500 1986519 1986521 1986530 1986556 1986624 1986652\n",
       "[163] 1986733 1986909 1986957 1987106 1987319 1987365 1987395 1987403 1987407\n",
       "[172] 1987413 1987418 1987434 1987449 1987458 1987468 1987492 1988010 1988039\n",
       "[181] 1988059 1988066 1988078 1988129 1988133 1988141 1988171 1988201 1988216\n",
       "[190] 1988307 1988321 1988325 1988332 1988401 1988423 1988546 1988580 1988634\n",
       "[199] 1988636 1988655 1988718 1988745 1988776 1988785 1988847 1988874 1989119\n",
       "[208] 1989169 1989201 1989209 1989218 1989241 1989249 1989258 1989275 1989298\n",
       "[217] 1989308 1989332 1989394 1989442 1989451 1989482 1989497 1989500 1989503\n",
       "[226] 1989527 1989605 1989607 1989617 1989642 1989658 1989674 1989767 1989793\n",
       "[235] 1989924"
      ]
     },
     "metadata": {},
     "output_type": "display_data"
    }
   ],
   "source": [
    "length(setdiff(df$BP, old$BP))\n",
    "setdiff(df$BP, old$BP)"
   ]
  },
  {
   "cell_type": "code",
   "execution_count": 155,
   "id": "39e8961d-d06c-4651-b980-4833d2c79050",
   "metadata": {},
   "outputs": [
    {
     "data": {
      "text/html": [
       "34"
      ],
      "text/latex": [
       "34"
      ],
      "text/markdown": [
       "34"
      ],
      "text/plain": [
       "[1] 34"
      ]
     },
     "metadata": {},
     "output_type": "display_data"
    },
    {
     "data": {
      "text/html": [
       "<style>\n",
       ".list-inline {list-style: none; margin:0; padding: 0}\n",
       ".list-inline>li {display: inline-block}\n",
       ".list-inline>li:not(:last-child)::after {content: \"\\00b7\"; padding: 0 .5ex}\n",
       "</style>\n",
       "<ol class=list-inline><li>1980129</li><li>1987659</li><li>1985759</li><li>1987627</li><li>1989263</li><li>1987330</li><li>1987511</li><li>1987527</li><li>1987565</li><li>1987604</li><li>1987616</li><li>1987648</li><li>1987656</li><li>1987665</li><li>1987669</li><li>1987680</li><li>1987684</li><li>1987688</li><li>1987697</li><li>1987705</li><li>1987719</li><li>1987725</li><li>1987732</li><li>1987778</li><li>1987797</li><li>1987808</li><li>1987853</li><li>1987858</li><li>1987861</li><li>1987896</li><li>1987910</li><li>1987930</li><li>1985911</li><li>1985872</li></ol>\n"
      ],
      "text/latex": [
       "\\begin{enumerate*}\n",
       "\\item 1980129\n",
       "\\item 1987659\n",
       "\\item 1985759\n",
       "\\item 1987627\n",
       "\\item 1989263\n",
       "\\item 1987330\n",
       "\\item 1987511\n",
       "\\item 1987527\n",
       "\\item 1987565\n",
       "\\item 1987604\n",
       "\\item 1987616\n",
       "\\item 1987648\n",
       "\\item 1987656\n",
       "\\item 1987665\n",
       "\\item 1987669\n",
       "\\item 1987680\n",
       "\\item 1987684\n",
       "\\item 1987688\n",
       "\\item 1987697\n",
       "\\item 1987705\n",
       "\\item 1987719\n",
       "\\item 1987725\n",
       "\\item 1987732\n",
       "\\item 1987778\n",
       "\\item 1987797\n",
       "\\item 1987808\n",
       "\\item 1987853\n",
       "\\item 1987858\n",
       "\\item 1987861\n",
       "\\item 1987896\n",
       "\\item 1987910\n",
       "\\item 1987930\n",
       "\\item 1985911\n",
       "\\item 1985872\n",
       "\\end{enumerate*}\n"
      ],
      "text/markdown": [
       "1. 1980129\n",
       "2. 1987659\n",
       "3. 1985759\n",
       "4. 1987627\n",
       "5. 1989263\n",
       "6. 1987330\n",
       "7. 1987511\n",
       "8. 1987527\n",
       "9. 1987565\n",
       "10. 1987604\n",
       "11. 1987616\n",
       "12. 1987648\n",
       "13. 1987656\n",
       "14. 1987665\n",
       "15. 1987669\n",
       "16. 1987680\n",
       "17. 1987684\n",
       "18. 1987688\n",
       "19. 1987697\n",
       "20. 1987705\n",
       "21. 1987719\n",
       "22. 1987725\n",
       "23. 1987732\n",
       "24. 1987778\n",
       "25. 1987797\n",
       "26. 1987808\n",
       "27. 1987853\n",
       "28. 1987858\n",
       "29. 1987861\n",
       "30. 1987896\n",
       "31. 1987910\n",
       "32. 1987930\n",
       "33. 1985911\n",
       "34. 1985872\n",
       "\n",
       "\n"
      ],
      "text/plain": [
       " [1] 1980129 1987659 1985759 1987627 1989263 1987330 1987511 1987527 1987565\n",
       "[10] 1987604 1987616 1987648 1987656 1987665 1987669 1987680 1987684 1987688\n",
       "[19] 1987697 1987705 1987719 1987725 1987732 1987778 1987797 1987808 1987853\n",
       "[28] 1987858 1987861 1987896 1987910 1987930 1985911 1985872"
      ]
     },
     "metadata": {},
     "output_type": "display_data"
    }
   ],
   "source": [
    "length(intersect(old$BP, df$BP))\n",
    "intersect(old$BP, df$BP)"
   ]
  },
  {
   "cell_type": "markdown",
   "id": "749f978e-cb18-4480-a0ba-3f43e3777ea4",
   "metadata": {},
   "source": [
    "### Among those found in both, what is agreement?"
   ]
  },
  {
   "cell_type": "code",
   "execution_count": 156,
   "id": "7740b6f0-ed57-4811-9021-e3cc5f600676",
   "metadata": {},
   "outputs": [
    {
     "data": {
      "text/html": [
       "<table class=\"dataframe\">\n",
       "<caption>A data.table: 6 × 9</caption>\n",
       "<thead>\n",
       "\t<tr><th scope=col>CHR</th><th scope=col>BP</th><th scope=col>Z_Shizhongs_old</th><th scope=col>pval.shizhongs_old</th><th scope=col>SNP</th><th scope=col>Z_lambda.1se</th><th scope=col>pval.lambda.1se</th><th scope=col>Z_lambda.min</th><th scope=col>pval.lambda.min</th></tr>\n",
       "\t<tr><th scope=col>&lt;dbl&gt;</th><th scope=col>&lt;dbl&gt;</th><th scope=col>&lt;dbl&gt;</th><th scope=col>&lt;dbl&gt;</th><th scope=col>&lt;chr&gt;</th><th scope=col>&lt;dbl&gt;</th><th scope=col>&lt;dbl&gt;</th><th scope=col>&lt;dbl&gt;</th><th scope=col>&lt;dbl&gt;</th></tr>\n",
       "</thead>\n",
       "<tbody>\n",
       "\t<tr><td>7</td><td>1987511</td><td> 9.903333</td><td>4.026274e-23</td><td>Chr7:1987511</td><td>19.68581</td><td> 2.853656e-86</td><td>24.41724</td><td>1.122092e-131</td></tr>\n",
       "\t<tr><td>7</td><td>1987527</td><td> 9.918049</td><td>3.474819e-23</td><td>Chr7:1987527</td><td>17.07298</td><td> 2.358535e-65</td><td>27.43261</td><td>1.120388e-165</td></tr>\n",
       "\t<tr><td>7</td><td>1987565</td><td>10.003180</td><td>1.475801e-23</td><td>Chr7:1987565</td><td>22.06001</td><td>7.657086e-108</td><td>30.21517</td><td>1.497263e-200</td></tr>\n",
       "\t<tr><td>7</td><td>1987604</td><td>10.120719</td><td>4.471204e-24</td><td>Chr7:1987604</td><td>21.64935</td><td>6.164851e-104</td><td>32.00572</td><td>9.079747e-225</td></tr>\n",
       "\t<tr><td>7</td><td>1987616</td><td>10.157135</td><td>3.079935e-24</td><td>Chr7:1987616</td><td>23.42409</td><td>2.428780e-121</td><td>31.66020</td><td>5.489701e-220</td></tr>\n",
       "\t<tr><td>7</td><td>1987627</td><td>10.000170</td><td>1.521364e-23</td><td>Chr7:1987627</td><td>22.66812</td><td>9.246659e-114</td><td>32.35257</td><td>1.276472e-229</td></tr>\n",
       "</tbody>\n",
       "</table>\n"
      ],
      "text/latex": [
       "A data.table: 6 × 9\n",
       "\\begin{tabular}{lllllllll}\n",
       " CHR & BP & Z\\_Shizhongs\\_old & pval.shizhongs\\_old & SNP & Z\\_lambda.1se & pval.lambda.1se & Z\\_lambda.min & pval.lambda.min\\\\\n",
       " <dbl> & <dbl> & <dbl> & <dbl> & <chr> & <dbl> & <dbl> & <dbl> & <dbl>\\\\\n",
       "\\hline\n",
       "\t 7 & 1987511 &  9.903333 & 4.026274e-23 & Chr7:1987511 & 19.68581 &  2.853656e-86 & 24.41724 & 1.122092e-131\\\\\n",
       "\t 7 & 1987527 &  9.918049 & 3.474819e-23 & Chr7:1987527 & 17.07298 &  2.358535e-65 & 27.43261 & 1.120388e-165\\\\\n",
       "\t 7 & 1987565 & 10.003180 & 1.475801e-23 & Chr7:1987565 & 22.06001 & 7.657086e-108 & 30.21517 & 1.497263e-200\\\\\n",
       "\t 7 & 1987604 & 10.120719 & 4.471204e-24 & Chr7:1987604 & 21.64935 & 6.164851e-104 & 32.00572 & 9.079747e-225\\\\\n",
       "\t 7 & 1987616 & 10.157135 & 3.079935e-24 & Chr7:1987616 & 23.42409 & 2.428780e-121 & 31.66020 & 5.489701e-220\\\\\n",
       "\t 7 & 1987627 & 10.000170 & 1.521364e-23 & Chr7:1987627 & 22.66812 & 9.246659e-114 & 32.35257 & 1.276472e-229\\\\\n",
       "\\end{tabular}\n"
      ],
      "text/markdown": [
       "\n",
       "A data.table: 6 × 9\n",
       "\n",
       "| CHR &lt;dbl&gt; | BP &lt;dbl&gt; | Z_Shizhongs_old &lt;dbl&gt; | pval.shizhongs_old &lt;dbl&gt; | SNP &lt;chr&gt; | Z_lambda.1se &lt;dbl&gt; | pval.lambda.1se &lt;dbl&gt; | Z_lambda.min &lt;dbl&gt; | pval.lambda.min &lt;dbl&gt; |\n",
       "|---|---|---|---|---|---|---|---|---|\n",
       "| 7 | 1987511 |  9.903333 | 4.026274e-23 | Chr7:1987511 | 19.68581 |  2.853656e-86 | 24.41724 | 1.122092e-131 |\n",
       "| 7 | 1987527 |  9.918049 | 3.474819e-23 | Chr7:1987527 | 17.07298 |  2.358535e-65 | 27.43261 | 1.120388e-165 |\n",
       "| 7 | 1987565 | 10.003180 | 1.475801e-23 | Chr7:1987565 | 22.06001 | 7.657086e-108 | 30.21517 | 1.497263e-200 |\n",
       "| 7 | 1987604 | 10.120719 | 4.471204e-24 | Chr7:1987604 | 21.64935 | 6.164851e-104 | 32.00572 | 9.079747e-225 |\n",
       "| 7 | 1987616 | 10.157135 | 3.079935e-24 | Chr7:1987616 | 23.42409 | 2.428780e-121 | 31.66020 | 5.489701e-220 |\n",
       "| 7 | 1987627 | 10.000170 | 1.521364e-23 | Chr7:1987627 | 22.66812 | 9.246659e-114 | 32.35257 | 1.276472e-229 |\n",
       "\n"
      ],
      "text/plain": [
       "  CHR BP      Z_Shizhongs_old pval.shizhongs_old SNP          Z_lambda.1se\n",
       "1 7   1987511  9.903333       4.026274e-23       Chr7:1987511 19.68581    \n",
       "2 7   1987527  9.918049       3.474819e-23       Chr7:1987527 17.07298    \n",
       "3 7   1987565 10.003180       1.475801e-23       Chr7:1987565 22.06001    \n",
       "4 7   1987604 10.120719       4.471204e-24       Chr7:1987604 21.64935    \n",
       "5 7   1987616 10.157135       3.079935e-24       Chr7:1987616 23.42409    \n",
       "6 7   1987627 10.000170       1.521364e-23       Chr7:1987627 22.66812    \n",
       "  pval.lambda.1se Z_lambda.min pval.lambda.min\n",
       "1  2.853656e-86   24.41724     1.122092e-131  \n",
       "2  2.358535e-65   27.43261     1.120388e-165  \n",
       "3 7.657086e-108   30.21517     1.497263e-200  \n",
       "4 6.164851e-104   32.00572     9.079747e-225  \n",
       "5 2.428780e-121   31.66020     5.489701e-220  \n",
       "6 9.246659e-114   32.35257     1.276472e-229  "
      ]
     },
     "metadata": {},
     "output_type": "display_data"
    }
   ],
   "source": [
    "head(merged)"
   ]
  },
  {
   "cell_type": "code",
   "execution_count": 157,
   "id": "017e8b8d-66ee-4eb4-8297-b8abe1cb5432",
   "metadata": {},
   "outputs": [
    {
     "name": "stderr",
     "output_type": "stream",
     "text": [
      "\n",
      "Attaching package: ‘dplyr’\n",
      "\n",
      "\n",
      "The following object is masked from ‘package:bsseq’:\n",
      "\n",
      "    combine\n",
      "\n",
      "\n",
      "The following object is masked from ‘package:Biobase’:\n",
      "\n",
      "    combine\n",
      "\n",
      "\n",
      "The following object is masked from ‘package:matrixStats’:\n",
      "\n",
      "    count\n",
      "\n",
      "\n",
      "The following objects are masked from ‘package:GenomicRanges’:\n",
      "\n",
      "    intersect, setdiff, union\n",
      "\n",
      "\n",
      "The following object is masked from ‘package:GenomeInfoDb’:\n",
      "\n",
      "    intersect\n",
      "\n",
      "\n",
      "The following objects are masked from ‘package:IRanges’:\n",
      "\n",
      "    collapse, desc, intersect, setdiff, slice, union\n",
      "\n",
      "\n",
      "The following objects are masked from ‘package:S4Vectors’:\n",
      "\n",
      "    first, intersect, rename, setdiff, setequal, union\n",
      "\n",
      "\n",
      "The following objects are masked from ‘package:BiocGenerics’:\n",
      "\n",
      "    combine, intersect, setdiff, union\n",
      "\n",
      "\n",
      "The following objects are masked from ‘package:data.table’:\n",
      "\n",
      "    between, first, last\n",
      "\n",
      "\n",
      "The following objects are masked from ‘package:stats’:\n",
      "\n",
      "    filter, lag\n",
      "\n",
      "\n",
      "The following objects are masked from ‘package:base’:\n",
      "\n",
      "    intersect, setdiff, setequal, union\n",
      "\n",
      "\n",
      "\n",
      "Attaching package: ‘tidyr’\n",
      "\n",
      "\n",
      "The following object is masked from ‘package:S4Vectors’:\n",
      "\n",
      "    expand\n",
      "\n",
      "\n",
      "The following objects are masked from ‘package:Matrix’:\n",
      "\n",
      "    expand, pack, unpack\n",
      "\n",
      "\n"
     ]
    }
   ],
   "source": [
    "library(dplyr)\n",
    "library(tidyr)\n",
    "library(ggplot2)\n",
    "\n",
    "# Assuming 'merged' is your dataframe\n",
    "# You may have already set the column names as shown in your previous message\n",
    "\n",
    "# Convert BP to numeric if not already\n",
    "merged$BP <- as.numeric(merged$BP)\n",
    "\n",
    "# Convert p-values to their -log10 for visualization\n",
    "merged$log_pval_shizhong <- -log10(merged$pval.shizhongs_old)\n",
    "merged$log_pval_lambda_1se <- -log10(merged$pval.lambda.1se)\n",
    "merged$log_pval_lambda_min <- -log10(merged$pval.lambda.min)\n"
   ]
  },
  {
   "cell_type": "code",
   "execution_count": 158,
   "id": "f2843374-55cc-4921-ba5a-6fe975242fae",
   "metadata": {},
   "outputs": [
    {
     "data": {
      "image/png": "[encoded data removed]",
      "text/plain": [
       "plot without title"
      ]
     },
     "metadata": {
      "image/png": {
       "height": 420,
       "width": 420
      }
     },
     "output_type": "display_data"
    }
   ],
   "source": [
    "# Create the ggplot visualizations\n",
    "plot <- ggplot(merged, aes(x = BP)) +\n",
    "  geom_point(aes(y = log_pval_shizhong, color = \"Shizhong's Old\"), alpha = 0.6) +\n",
    "  geom_point(aes(y = log_pval_lambda_1se, color = \"Lambda 1se\"), alpha = 0.6) +\n",
    "  geom_point(aes(y = log_pval_lambda_min, color = \"Lambda Min\"), alpha = 0.6) +\n",
    "  scale_color_manual(values = c(\"Shizhong's Old\" = \"green\", \"Lambda 1se\" = \"blue\", \"Lambda Min\" = \"red\")) +\n",
    "  labs(x = \"Genomic Position (BP)\",\n",
    "       y = \"-log10 of p-values\",\n",
    "       title = \"Comparative Scattergram of MWAS p-values by Genomic Position\",\n",
    "       subtitle = \"Green: Shizhong's Old, Blue: Lambda.1se, Red: Lambda.min\") +\n",
    "  theme_minimal() +\n",
    "  facet_wrap(~ CHR, scales = \"free_y\")  # Facet by chromosome\n",
    "\n",
    "# Print the plot\n",
    "print(plot)\n"
   ]
  },
  {
   "cell_type": "code",
   "execution_count": 159,
   "id": "fd8f6da7-e165-472c-ae86-32e629019e74",
   "metadata": {},
   "outputs": [],
   "source": [
    "library(ggplot2)\n",
    "library(tidyr)\n",
    "library(scales)  # for comma formatting\n",
    "\n",
    "# Define your positions\n",
    "min_site_to_test_pos <- 73274305\n",
    "max_site_to_test_pos <- 73420076\n",
    "\n",
    "# Convert numbers to comma-separated format\n",
    "formatted_min_pos <- scales::comma(min_site_to_test_pos)\n",
    "formatted_max_pos <- scales::comma(max_site_to_test_pos)\n"
   ]
  },
  {
   "cell_type": "code",
   "execution_count": 160,
   "id": "6d18bd7f-c8b9-4146-879c-c0d1d4cde1f6",
   "metadata": {},
   "outputs": [],
   "source": [
    "# Ensure your dataframe 'df' is already properly formatted and 'pos' is correct\n",
    "df_long <- tidyr::pivot_longer(df, \n",
    "                               cols = c(\"pval.lambda.1se\", \"pval.lambda.min\"), \n",
    "                               names_to = \"variable\", \n",
    "                               values_to = \"pval\")\n"
   ]
  },
  {
   "cell_type": "code",
   "execution_count": 161,
   "id": "88af396d-f475-4887-8a13-0cfe2b87500f",
   "metadata": {},
   "outputs": [
    {
     "data": {
      "text/html": [
       "<table class=\"dataframe\">\n",
       "<caption>A tibble: 6 × 6</caption>\n",
       "<thead>\n",
       "\t<tr><th scope=col>BP</th><th scope=col>Z_lambda.1se</th><th scope=col>Z_lambda.min</th><th scope=col>CHR</th><th scope=col>variable</th><th scope=col>pval</th></tr>\n",
       "\t<tr><th scope=col>&lt;dbl&gt;</th><th scope=col>&lt;dbl&gt;</th><th scope=col>&lt;dbl&gt;</th><th scope=col>&lt;dbl&gt;</th><th scope=col>&lt;chr&gt;</th><th scope=col>&lt;dbl&gt;</th></tr>\n",
       "</thead>\n",
       "<tbody>\n",
       "\t<tr><td>1980077</td><td>9.859725</td><td>10.34372</td><td>7</td><td>pval.lambda.1se</td><td>6.221983e-23</td></tr>\n",
       "\t<tr><td>1980077</td><td>9.859725</td><td>10.34372</td><td>7</td><td>pval.lambda.min</td><td>4.468363e-25</td></tr>\n",
       "\t<tr><td>1980101</td><td>9.867943</td><td>10.38689</td><td>7</td><td>pval.lambda.1se</td><td>5.732825e-23</td></tr>\n",
       "\t<tr><td>1980101</td><td>9.867943</td><td>10.38689</td><td>7</td><td>pval.lambda.min</td><td>2.844841e-25</td></tr>\n",
       "\t<tr><td>1980129</td><td>9.869397</td><td>10.49067</td><td>7</td><td>pval.lambda.1se</td><td>5.650312e-23</td></tr>\n",
       "\t<tr><td>1980129</td><td>9.869397</td><td>10.49067</td><td>7</td><td>pval.lambda.min</td><td>9.535207e-26</td></tr>\n",
       "</tbody>\n",
       "</table>\n"
      ],
      "text/latex": [
       "A tibble: 6 × 6\n",
       "\\begin{tabular}{llllll}\n",
       " BP & Z\\_lambda.1se & Z\\_lambda.min & CHR & variable & pval\\\\\n",
       " <dbl> & <dbl> & <dbl> & <dbl> & <chr> & <dbl>\\\\\n",
       "\\hline\n",
       "\t 1980077 & 9.859725 & 10.34372 & 7 & pval.lambda.1se & 6.221983e-23\\\\\n",
       "\t 1980077 & 9.859725 & 10.34372 & 7 & pval.lambda.min & 4.468363e-25\\\\\n",
       "\t 1980101 & 9.867943 & 10.38689 & 7 & pval.lambda.1se & 5.732825e-23\\\\\n",
       "\t 1980101 & 9.867943 & 10.38689 & 7 & pval.lambda.min & 2.844841e-25\\\\\n",
       "\t 1980129 & 9.869397 & 10.49067 & 7 & pval.lambda.1se & 5.650312e-23\\\\\n",
       "\t 1980129 & 9.869397 & 10.49067 & 7 & pval.lambda.min & 9.535207e-26\\\\\n",
       "\\end{tabular}\n"
      ],
      "text/markdown": [
       "\n",
       "A tibble: 6 × 6\n",
       "\n",
       "| BP &lt;dbl&gt; | Z_lambda.1se &lt;dbl&gt; | Z_lambda.min &lt;dbl&gt; | CHR &lt;dbl&gt; | variable &lt;chr&gt; | pval &lt;dbl&gt; |\n",
       "|---|---|---|---|---|---|\n",
       "| 1980077 | 9.859725 | 10.34372 | 7 | pval.lambda.1se | 6.221983e-23 |\n",
       "| 1980077 | 9.859725 | 10.34372 | 7 | pval.lambda.min | 4.468363e-25 |\n",
       "| 1980101 | 9.867943 | 10.38689 | 7 | pval.lambda.1se | 5.732825e-23 |\n",
       "| 1980101 | 9.867943 | 10.38689 | 7 | pval.lambda.min | 2.844841e-25 |\n",
       "| 1980129 | 9.869397 | 10.49067 | 7 | pval.lambda.1se | 5.650312e-23 |\n",
       "| 1980129 | 9.869397 | 10.49067 | 7 | pval.lambda.min | 9.535207e-26 |\n",
       "\n"
      ],
      "text/plain": [
       "  BP      Z_lambda.1se Z_lambda.min CHR variable        pval        \n",
       "1 1980077 9.859725     10.34372     7   pval.lambda.1se 6.221983e-23\n",
       "2 1980077 9.859725     10.34372     7   pval.lambda.min 4.468363e-25\n",
       "3 1980101 9.867943     10.38689     7   pval.lambda.1se 5.732825e-23\n",
       "4 1980101 9.867943     10.38689     7   pval.lambda.min 2.844841e-25\n",
       "5 1980129 9.869397     10.49067     7   pval.lambda.1se 5.650312e-23\n",
       "6 1980129 9.869397     10.49067     7   pval.lambda.min 9.535207e-26"
      ]
     },
     "metadata": {},
     "output_type": "display_data"
    }
   ],
   "source": [
    "head(df_long)"
   ]
  },
  {
   "cell_type": "code",
   "execution_count": null,
   "id": "438494f6-a4b4-4de3-9dcc-4636accc2cd6",
   "metadata": {},
   "outputs": [],
   "source": []
  },
  {
   "cell_type": "code",
   "execution_count": 165,
   "id": "46b13534-a8f8-4572-a701-926c756d169b",
   "metadata": {},
   "outputs": [],
   "source": [
    "library(tidyr)\n",
    "library(ggplot2)\n",
    "library(scales)  # for comma formatting\n",
    "\n",
    "# Convert numbers to comma-separated format\n",
    "formatted_min_pos <- comma(min_site_to_test_pos)\n",
    "formatted_max_pos <- comma(max_site_to_test_pos)\n",
    "\n",
    "# Convert the dataframe to long format including the new Shizhong's p-values\n",
    "df_long <- pivot_longer(merged, \n",
    "                        cols = c(\"pval.lambda.1se\", \"pval.lambda.min\", \"pval.shizhongs_old\"),\n",
    "                        names_to = \"variable\",\n",
    "                        values_to = \"pval\")\n"
   ]
  },
  {
   "cell_type": "code",
   "execution_count": 166,
   "id": "4ae7290c-6102-4b92-a8ac-b94d83212720",
   "metadata": {},
   "outputs": [
    {
     "data": {
      "image/png": "[encoded data removed]",
      "text/plain": [
       "plot without title"
      ]
     },
     "metadata": {
      "image/png": {
       "height": 420,
       "width": 420
      }
     },
     "output_type": "display_data"
    }
   ],
   "source": [
    "library(data.table)\n",
    "library(ggplot2)\n",
    "library(scales)\n",
    "library(tidyr)\n",
    "\n",
    "# Convert 'BP' to numeric\n",
    "merged$BP <- as.numeric(merged$BP)\n",
    "\n",
    "# Minimum p-values\n",
    "min_pval_lambda.1se <- min(merged$pval.lambda.1se)\n",
    "min_pval_lambda.min <- min(merged$pval.lambda.min)\n",
    "min_pval_shizhongs_old <- min(merged$pval.shizhongs_old)\n",
    "\n",
    "# Convert numbers to comma-separated format\n",
    "formatted_min_pos <- comma(min(merged$BP))\n",
    "formatted_max_pos <- comma(max(merged$BP))\n",
    "\n",
    "# Convert data to long format\n",
    "df_long <- pivot_longer(merged, cols = c(\"pval.lambda.1se\", \"pval.lambda.min\", \"pval.shizhongs_old\"), \n",
    "                        names_to = \"variable\", values_to = \"pval\")\n",
    "\n",
    "# Plot with detailed title\n",
    "ggplot(df_long, aes(x = BP, y = -log10(pval), color = variable)) +\n",
    "  geom_point(alpha = 0.6) +\n",
    "  labs(x = \"Genomic Position\",\n",
    "       y = \"Log of p-values\",\n",
    "       title = paste(\"Scattergrams of MWAS p-values by Genomic Position\\nCHR:\", unique(merged$CHR),\n",
    "                     \"Positions:\", formatted_min_pos, \"to\", formatted_max_pos),\n",
    "       subtitle = \"Faceted by lambda type\") +\n",
    "  scale_color_manual(values = c(\"pval.lambda.1se\" = \"blue\", \"pval.lambda.min\" = \"red\", \"pval.shizhongs_old\" = \"green\")) +\n",
    "  facet_wrap(~ variable, scales = \"free_y\") +\n",
    "  theme_minimal()\n"
   ]
  },
  {
   "cell_type": "code",
   "execution_count": 164,
   "id": "8896045c-cadf-4df4-ae93-31637de111fd",
   "metadata": {},
   "outputs": [
    {
     "data": {
      "text/plain": [
       "[1] \"2024-08-06 12:45:50 PDT\""
      ]
     },
     "metadata": {},
     "output_type": "display_data"
    }
   ],
   "source": [
    "Sys.time()"
   ]
  },
  {
   "cell_type": "code",
   "execution_count": null,
   "id": "a04714ab-7316-42ce-80e6-e37bfd4ab89b",
   "metadata": {},
   "outputs": [],
   "source": []
  },
  {
   "cell_type": "code",
   "execution_count": null,
   "id": "75f0ce1c-f351-4cbf-b190-e28b967c5d19",
   "metadata": {},
   "outputs": [],
   "source": []
  },
  {
   "cell_type": "code",
   "execution_count": null,
   "id": "ace76259-97f5-4458-bf0a-51ef52a30e8a",
   "metadata": {},
   "outputs": [],
   "source": []
  },
  {
   "cell_type": "code",
   "execution_count": null,
   "id": "49f720de-f893-4186-9a6c-f1ff973e135c",
   "metadata": {},
   "outputs": [],
   "source": []
  },
  {
   "cell_type": "code",
   "execution_count": null,
   "id": "8e73dd6d-8bc5-40bd-9769-68c6ae0fc62a",
   "metadata": {},
   "outputs": [],
   "source": []
  },
  {
   "cell_type": "code",
   "execution_count": null,
   "id": "77f6bf37-5e2d-49ee-b871-f473e8e64788",
   "metadata": {},
   "outputs": [],
   "source": []
  },
  {
   "cell_type": "code",
   "execution_count": null,
   "id": "3d97b2c2-28b4-412d-bc67-124c002e2d4f",
   "metadata": {},
   "outputs": [],
   "source": []
  },
  {
   "cell_type": "code",
   "execution_count": null,
   "id": "76539955-78ed-4bb9-b203-5e14a921afe6",
   "metadata": {},
   "outputs": [],
   "source": []
  },
  {
   "cell_type": "code",
   "execution_count": null,
   "id": "eafb421a-aa0c-4ef8-9da8-eaf119226685",
   "metadata": {},
   "outputs": [],
   "source": []
  },
  {
   "cell_type": "code",
   "execution_count": null,
   "id": "c951209c-fc57-4736-be96-d7739bcd1ab3",
   "metadata": {},
   "outputs": [],
   "source": []
  },
  {
   "cell_type": "code",
   "execution_count": null,
   "id": "99de28dc-7b5b-4e50-a222-d7d3db3b7dd9",
   "metadata": {},
   "outputs": [],
   "source": []
  },
  {
   "cell_type": "code",
   "execution_count": null,
   "id": "e98ae471-5079-4a79-bbd5-87cc79199f5d",
   "metadata": {},
   "outputs": [],
   "source": []
  },
  {
   "cell_type": "code",
   "execution_count": null,
   "id": "a34eae81-df5d-443f-aec7-51140b1dca86",
   "metadata": {},
   "outputs": [],
   "source": []
  },
  {
   "cell_type": "code",
   "execution_count": null,
   "id": "7d5ed585-5d85-44d0-8d30-4e869b805ef6",
   "metadata": {},
   "outputs": [],
   "source": []
  },
  {
   "cell_type": "code",
   "execution_count": null,
   "id": "4d3add94-ea26-40dc-8665-155182991851",
   "metadata": {},
   "outputs": [],
   "source": []
  },
  {
   "cell_type": "code",
   "execution_count": null,
   "id": "4ffd9fa7-3acf-4c05-ad6b-fb1d4cfce3ef",
   "metadata": {},
   "outputs": [],
   "source": []
  },
  {
   "cell_type": "code",
   "execution_count": null,
   "id": "f3d8bd53-acdc-418f-ab4c-5234a2e366c8",
   "metadata": {},
   "outputs": [],
   "source": []
  },
  {
   "cell_type": "code",
   "execution_count": null,
   "id": "d85363d1-644f-4a56-ae5c-14ab85e3593c",
   "metadata": {},
   "outputs": [],
   "source": []
  },
  {
   "cell_type": "code",
   "execution_count": null,
   "id": "6c507ca0-ac74-4198-afe2-3a1499a23d31",
   "metadata": {},
   "outputs": [],
   "source": []
  },
  {
   "cell_type": "code",
   "execution_count": null,
   "id": "704d7236-397c-4d01-8705-baaa64c3dcb4",
   "metadata": {},
   "outputs": [],
   "source": []
  },
  {
   "cell_type": "code",
   "execution_count": null,
   "id": "ab006a27-a5a3-47bf-89d3-d754e7a22d32",
   "metadata": {},
   "outputs": [],
   "source": []
  },
  {
   "cell_type": "code",
   "execution_count": null,
   "id": "6613e2b1-b72b-4011-9754-93790530b6c2",
   "metadata": {},
   "outputs": [],
   "source": []
  },
  {
   "cell_type": "code",
   "execution_count": null,
   "id": "673bd63c-0e20-4e0d-a414-ac645f76f5f6",
   "metadata": {},
   "outputs": [],
   "source": []
  },
  {
   "cell_type": "code",
   "execution_count": null,
   "id": "3c418d76-d110-4c9e-837b-f2687b77f47f",
   "metadata": {},
   "outputs": [],
   "source": []
  },
  {
   "cell_type": "code",
   "execution_count": null,
   "id": "10a76b46-b35d-4673-ac49-02cfb2b47eab",
   "metadata": {},
   "outputs": [],
   "source": []
  },
  {
   "cell_type": "code",
   "execution_count": null,
   "id": "43f2d55f-a83b-4dd0-adab-c9833051ae4d",
   "metadata": {},
   "outputs": [],
   "source": []
  },
  {
   "cell_type": "code",
   "execution_count": null,
   "id": "d3abb9bb-0a1a-46c5-9666-f2ba9269cdf0",
   "metadata": {},
   "outputs": [],
   "source": []
  },
  {
   "cell_type": "code",
   "execution_count": null,
   "id": "c7b7e42b-3df0-4a1d-a4da-925439e100ce",
   "metadata": {},
   "outputs": [],
   "source": []
  },
  {
   "cell_type": "code",
   "execution_count": null,
   "id": "af5b9058-2dc1-4ced-a01d-a3b6c5707791",
   "metadata": {},
   "outputs": [],
   "source": []
  },
  {
   "cell_type": "code",
   "execution_count": null,
   "id": "49682a27-311f-48eb-9706-6ba4702081e6",
   "metadata": {},
   "outputs": [],
   "source": []
  },
  {
   "cell_type": "code",
   "execution_count": null,
   "id": "b0ce3769-6823-4d63-8aa4-bc5b2d2969d3",
   "metadata": {},
   "outputs": [],
   "source": []
  },
  {
   "cell_type": "code",
   "execution_count": null,
   "id": "48a45403-7621-462e-a2f7-7fde2f55d4c1",
   "metadata": {},
   "outputs": [],
   "source": []
  },
  {
   "cell_type": "code",
   "execution_count": null,
   "id": "e77a397b-ac8c-4143-988b-f607bfc534cc",
   "metadata": {},
   "outputs": [],
   "source": []
  }
 ],
 "metadata": {
  "kernelspec": {
   "display_name": "R",
   "language": "R",
   "name": "ir"
  },
  "language_info": {
   "codemirror_mode": "r",
   "file_extension": ".r",
   "mimetype": "text/x-r-source",
   "name": "R",
   "pygments_lexer": "r",
   "version": "4.3.1"
  }
 },
 "nbformat": 4,
 "nbformat_minor": 5
}
