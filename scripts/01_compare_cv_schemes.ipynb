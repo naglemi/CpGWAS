{
 "cells": [
  {
   "cell_type": "markdown",
   "id": "0d495431-29b2-4030-8f9d-351c673b747d",
   "metadata": {},
   "source": [
    "# Compare speed and similarity in results for two cross-validation schemes"
   ]
  },
  {
   "cell_type": "markdown",
   "id": "fc8c8af2-30bd-4af1-9186-0ce135142a83",
   "metadata": {},
   "source": [
    "Cross-validation is important for 1) tuning to determine alpha and lambda parameters in elastic net models, and 2) evaluating performance of optimized models while parameters are fixed.\n",
    "\n",
    "We wish to perform cross-validation in a manner that will give us the best cost/benefit ratio with respect to computational expense and model quality."
   ]
  },
  {
   "cell_type": "markdown",
   "id": "5aa27ff1-81de-478f-ab1e-2bf7e0779b51",
   "metadata": {},
   "source": [
    "## Prepare inputs"
   ]
  },
  {
   "cell_type": "code",
   "execution_count": 1,
   "id": "c2328408-d295-4387-afab-34c511b18b93",
   "metadata": {
    "scrolled": true
   },
   "outputs": [],
   "source": [
    "library(CpGWAS)"
   ]
  },
  {
   "cell_type": "markdown",
   "id": "ff5b504e-9698-4a7d-a7d5-87bc89ac916d",
   "metadata": {},
   "source": [
    "Let's run these tests over a very small chunk on one chromosome."
   ]
  },
  {
   "cell_type": "code",
   "execution_count": 2,
   "id": "c0d0abbe-22ea-46d4-ae1f-245de3f2e55e",
   "metadata": {},
   "outputs": [],
   "source": [
    "args <- list(\n",
    "    outdir = \"../output/\",\n",
    "    chunk1 = 10^6,\n",
    "    chunk2 = 10^6 + 10,\n",
    "    snp_data_path = \"../../mwas/gwas/libd_chr1.pgen\",\n",
    "    methylation_data_path = \"../../mwas/pheno/dlpfc/out/chr1_AA.rda\")"
   ]
  },
  {
   "cell_type": "markdown",
   "id": "6aa64a39-88cb-4498-9711-55760d3a1adb",
   "metadata": {},
   "source": [
    "Load our `BSseq` object containing bisulfite sequencing data and covariates"
   ]
  },
  {
   "cell_type": "code",
   "execution_count": 3,
   "id": "ecbe46a8-10ae-43c7-bbea-1f1d55464b29",
   "metadata": {},
   "outputs": [],
   "source": [
    "load(args$methylation_data_path)"
   ]
  },
  {
   "cell_type": "markdown",
   "id": "a2ab1fe5-7e86-41fd-ac60-d3e73b50b0e4",
   "metadata": {},
   "source": [
    "Organize inputs into an object of our class `MethylationInput`"
   ]
  },
  {
   "cell_type": "code",
   "execution_count": 4,
   "id": "24166609-049c-462a-aca4-9e4e479ee5f1",
   "metadata": {},
   "outputs": [
    {
     "name": "stdout",
     "output_type": "stream",
     "text": [
      "Dimensions of methylations:  111 2202819 \n",
      "Dimensions of cov_matrix:  111 5 \n",
      "Dimensions of pseudoinv:  5 111 \n"
     ]
    }
   ],
   "source": [
    "methInput <- new(\"MethylationInput\",\n",
    "                 BSseq_obj = BSobj2,\n",
    "                 snp_data_path = args$snp_data_path,\n",
    "                 args = args)"
   ]
  },
  {
   "cell_type": "markdown",
   "id": "df4fa228-76ea-4bb2-8f30-d358e654a68c",
   "metadata": {},
   "source": [
    "Define window sizes for SNPs to be extracted surrounding each methylation site"
   ]
  },
  {
   "cell_type": "code",
   "execution_count": 5,
   "id": "153cf041-33cb-4dba-b629-25cf878c8a01",
   "metadata": {},
   "outputs": [],
   "source": [
    "window_sizes <- c(1000, 2000, 5000, 10000, 20000, 50000, 100000, 200000, 500000)"
   ]
  },
  {
   "cell_type": "code",
   "execution_count": 6,
   "id": "2e84052d-457b-4d56-939f-491497da393e",
   "metadata": {},
   "outputs": [],
   "source": [
    "scaffoldIdentifier_prefix <- paste0(tools::file_path_sans_ext(basename(args$snp_data_path)),\n",
    "                                    \"-\",\n",
    "                                    tools::file_path_sans_ext(basename(args$methylation_data_path)))"
   ]
  },
  {
   "cell_type": "markdown",
   "id": "68cc93c6-1cc1-4927-9f07-f9fdeed9bbc7",
   "metadata": {},
   "source": [
    "## Try triple-nested CV scheme"
   ]
  },
  {
   "cell_type": "code",
   "execution_count": 7,
   "id": "3bb7e296-e639-43d0-81eb-d25c275c0b36",
   "metadata": {},
   "outputs": [],
   "source": [
    "start_time <- Sys.time() "
   ]
  },
  {
   "cell_type": "code",
   "execution_count": 8,
   "id": "758dd5c4-973b-4c44-8b7a-9ed5a3e1496c",
   "metadata": {},
   "outputs": [],
   "source": [
    "scaffoldIdentifier_1 <- paste0(scaffoldIdentifier_prefix, \"_scheme1\")"
   ]
  },
  {
   "cell_type": "code",
   "execution_count": 9,
   "id": "c83ca1d1-21c3-48f8-8f98-a0f4a3ecdd0a",
   "metadata": {
    "collapsed": true,
    "jupyter": {
     "outputs_hidden": true
    }
   },
   "outputs": [
    {
     "name": "stdout",
     "output_type": "stream",
     "text": [
      "Processing methylation site index:  1000000 \n",
      "Testing methylation site at position  87818200 \n",
      "Testing window size:  1000 \n",
      "Dimensions of SNP matrix:  111 3 \n",
      "\n",
      "Testing window size:  2000 \n",
      "Dimensions of SNP matrix:  111 7 \n"
     ]
    },
    {
     "name": "stderr",
     "output_type": "stream",
     "text": [
      "Warning message in cor(predictions, yhat_test):\n",
      "“the standard deviation is zero”\n"
     ]
    },
    {
     "name": "stdout",
     "output_type": "stream",
     "text": [
      "\n",
      "Testing window size:  5000 \n",
      "Dimensions of SNP matrix:  111 15 \n"
     ]
    },
    {
     "name": "stderr",
     "output_type": "stream",
     "text": [
      "Warning message in cor(predictions, yhat_test):\n",
      "“the standard deviation is zero”\n"
     ]
    },
    {
     "name": "stdout",
     "output_type": "stream",
     "text": [
      "\n",
      "Testing window size:  10000 \n",
      "Dimensions of SNP matrix:  111 25 \n"
     ]
    },
    {
     "name": "stderr",
     "output_type": "stream",
     "text": [
      "Warning message in cor(predictions, yhat_test):\n",
      "“the standard deviation is zero”\n",
      "Warning message in cor(predictions, yhat_test):\n",
      "“the standard deviation is zero”\n"
     ]
    },
    {
     "name": "stdout",
     "output_type": "stream",
     "text": [
      "\n",
      "Testing window size:  20000 \n",
      "Dimensions of SNP matrix:  111 42 \n",
      "\n",
      "Testing window size:  50000 \n",
      "Dimensions of SNP matrix:  111 100 \n",
      "\n",
      "Testing window size:  1e+05 \n",
      "Dimensions of SNP matrix:  111 235 \n"
     ]
    },
    {
     "name": "stderr",
     "output_type": "stream",
     "text": [
      "Warning message in cor(predictions, yhat_test):\n",
      "“the standard deviation is zero”\n"
     ]
    },
    {
     "name": "stdout",
     "output_type": "stream",
     "text": [
      "\n",
      "Testing window size:  2e+05 \n",
      "Dimensions of SNP matrix:  111 591 \n"
     ]
    },
    {
     "name": "stderr",
     "output_type": "stream",
     "text": [
      "Warning message in cor(predictions, yhat_test):\n",
      "“the standard deviation is zero”\n",
      "Warning message in cor(predictions, yhat_test):\n",
      "“the standard deviation is zero”\n"
     ]
    },
    {
     "name": "stdout",
     "output_type": "stream",
     "text": [
      "\n",
      "Testing window size:  5e+05 \n",
      "Dimensions of SNP matrix:  111 1336 \n"
     ]
    },
    {
     "name": "stderr",
     "output_type": "stream",
     "text": [
      "Warning message in cor(predictions, yhat_test):\n",
      "“the standard deviation is zero”\n",
      "Warning message in cor(predictions, yhat_test):\n",
      "“the standard deviation is zero”\n"
     ]
    },
    {
     "name": "stdout",
     "output_type": "stream",
     "text": [
      "\n",
      "Processing methylation site index:  1000001 \n",
      "Testing methylation site at position  87818244 \n",
      "Testing window size:  1000 \n",
      "Dimensions of SNP matrix:  111 3 \n"
     ]
    },
    {
     "name": "stderr",
     "output_type": "stream",
     "text": [
      "Warning message in cor(predictions, yhat_test):\n",
      "“the standard deviation is zero”\n"
     ]
    },
    {
     "name": "stdout",
     "output_type": "stream",
     "text": [
      "\n",
      "Testing window size:  2000 \n",
      "Dimensions of SNP matrix:  111 6 \n"
     ]
    },
    {
     "name": "stderr",
     "output_type": "stream",
     "text": [
      "Warning message in cor(predictions, yhat_test):\n",
      "“the standard deviation is zero”\n"
     ]
    },
    {
     "name": "stdout",
     "output_type": "stream",
     "text": [
      "\n",
      "Testing window size:  5000 \n",
      "Dimensions of SNP matrix:  111 15 \n",
      "\n",
      "Testing window size:  10000 \n",
      "Dimensions of SNP matrix:  111 25 \n"
     ]
    },
    {
     "name": "stderr",
     "output_type": "stream",
     "text": [
      "Warning message in cor(predictions, yhat_test):\n",
      "“the standard deviation is zero”\n",
      "Warning message in cor(predictions, yhat_test):\n",
      "“the standard deviation is zero”\n",
      "Warning message in cor(predictions, yhat_test):\n",
      "“the standard deviation is zero”\n"
     ]
    },
    {
     "name": "stdout",
     "output_type": "stream",
     "text": [
      "\n",
      "Testing window size:  20000 \n",
      "Dimensions of SNP matrix:  111 42 \n"
     ]
    },
    {
     "name": "stderr",
     "output_type": "stream",
     "text": [
      "Warning message in cor(predictions, yhat_test):\n",
      "“the standard deviation is zero”\n"
     ]
    },
    {
     "name": "stdout",
     "output_type": "stream",
     "text": [
      "\n",
      "Testing window size:  50000 \n",
      "Dimensions of SNP matrix:  111 99 \n",
      "\n",
      "Testing window size:  1e+05 \n",
      "Dimensions of SNP matrix:  111 235 \n",
      "\n",
      "Testing window size:  2e+05 \n",
      "Dimensions of SNP matrix:  111 591 \n",
      "\n",
      "Testing window size:  5e+05 \n",
      "Dimensions of SNP matrix:  111 1336 \n"
     ]
    },
    {
     "name": "stderr",
     "output_type": "stream",
     "text": [
      "Warning message in cor(predictions, yhat_test):\n",
      "“the standard deviation is zero”\n",
      "Warning message in cor(predictions, yhat_test):\n",
      "“the standard deviation is zero”\n",
      "Warning message in cor(predictions, yhat_test):\n",
      "“the standard deviation is zero”\n"
     ]
    },
    {
     "name": "stdout",
     "output_type": "stream",
     "text": [
      "\n",
      "Processing methylation site index:  1000002 \n",
      "Testing methylation site at position  87818262 \n",
      "Testing window size:  1000 \n",
      "Dimensions of SNP matrix:  111 3 \n",
      "\n",
      "Testing window size:  2000 \n",
      "Dimensions of SNP matrix:  111 6 \n",
      "\n",
      "Testing window size:  5000 \n",
      "Dimensions of SNP matrix:  111 15 \n",
      "\n",
      "Testing window size:  10000 \n",
      "Dimensions of SNP matrix:  111 25 \n"
     ]
    },
    {
     "name": "stderr",
     "output_type": "stream",
     "text": [
      "Warning message in cor(predictions, yhat_test):\n",
      "“the standard deviation is zero”\n"
     ]
    },
    {
     "name": "stdout",
     "output_type": "stream",
     "text": [
      "\n",
      "Testing window size:  20000 \n",
      "Dimensions of SNP matrix:  111 42 \n"
     ]
    },
    {
     "name": "stderr",
     "output_type": "stream",
     "text": [
      "Warning message in cor(predictions, yhat_test):\n",
      "“the standard deviation is zero”\n"
     ]
    },
    {
     "name": "stdout",
     "output_type": "stream",
     "text": [
      "\n",
      "Testing window size:  50000 \n",
      "Dimensions of SNP matrix:  111 100 \n",
      "\n",
      "Testing window size:  1e+05 \n",
      "Dimensions of SNP matrix:  111 235 \n"
     ]
    },
    {
     "name": "stderr",
     "output_type": "stream",
     "text": [
      "Warning message in cor(predictions, yhat_test):\n",
      "“the standard deviation is zero”\n"
     ]
    },
    {
     "name": "stdout",
     "output_type": "stream",
     "text": [
      "\n",
      "Testing window size:  2e+05 \n",
      "Dimensions of SNP matrix:  111 591 \n"
     ]
    },
    {
     "name": "stderr",
     "output_type": "stream",
     "text": [
      "Warning message in cor(predictions, yhat_test):\n",
      "“the standard deviation is zero”\n"
     ]
    },
    {
     "name": "stdout",
     "output_type": "stream",
     "text": [
      "\n",
      "Testing window size:  5e+05 \n",
      "Dimensions of SNP matrix:  111 1336 \n"
     ]
    },
    {
     "name": "stderr",
     "output_type": "stream",
     "text": [
      "Warning message in cor(predictions, yhat_test):\n",
      "“the standard deviation is zero”\n",
      "Warning message in cor(predictions, yhat_test):\n",
      "“the standard deviation is zero”\n"
     ]
    },
    {
     "name": "stdout",
     "output_type": "stream",
     "text": [
      "\n",
      "Processing methylation site index:  1000003 \n",
      "Testing methylation site at position  87818291 \n",
      "Testing window size:  1000 \n",
      "Dimensions of SNP matrix:  111 3 \n"
     ]
    },
    {
     "name": "stderr",
     "output_type": "stream",
     "text": [
      "Warning message in cor(predictions, yhat_test):\n",
      "“the standard deviation is zero”\n"
     ]
    },
    {
     "name": "stdout",
     "output_type": "stream",
     "text": [
      "\n",
      "Testing window size:  2000 \n",
      "Dimensions of SNP matrix:  111 6 \n"
     ]
    },
    {
     "name": "stderr",
     "output_type": "stream",
     "text": [
      "Warning message in cor(predictions, yhat_test):\n",
      "“the standard deviation is zero”\n"
     ]
    },
    {
     "name": "stdout",
     "output_type": "stream",
     "text": [
      "\n",
      "Testing window size:  5000 \n",
      "Dimensions of SNP matrix:  111 15 \n"
     ]
    },
    {
     "name": "stderr",
     "output_type": "stream",
     "text": [
      "Warning message in cor(predictions, yhat_test):\n",
      "“the standard deviation is zero”\n"
     ]
    },
    {
     "name": "stdout",
     "output_type": "stream",
     "text": [
      "\n",
      "Testing window size:  10000 \n",
      "Dimensions of SNP matrix:  111 25 \n",
      "\n",
      "Testing window size:  20000 \n",
      "Dimensions of SNP matrix:  111 42 \n",
      "\n",
      "Testing window size:  50000 \n",
      "Dimensions of SNP matrix:  111 99 \n"
     ]
    },
    {
     "name": "stderr",
     "output_type": "stream",
     "text": [
      "Warning message in cor(predictions, yhat_test):\n",
      "“the standard deviation is zero”\n"
     ]
    },
    {
     "name": "stdout",
     "output_type": "stream",
     "text": [
      "\n",
      "Testing window size:  1e+05 \n",
      "Dimensions of SNP matrix:  111 235 \n",
      "\n",
      "Testing window size:  2e+05 \n",
      "Dimensions of SNP matrix:  111 591 \n"
     ]
    },
    {
     "name": "stderr",
     "output_type": "stream",
     "text": [
      "Warning message in cor(predictions, yhat_test):\n",
      "“the standard deviation is zero”\n",
      "Warning message in cor(predictions, yhat_test):\n",
      "“the standard deviation is zero”\n"
     ]
    },
    {
     "name": "stdout",
     "output_type": "stream",
     "text": [
      "\n",
      "Testing window size:  5e+05 \n",
      "Dimensions of SNP matrix:  111 1336 \n"
     ]
    },
    {
     "name": "stderr",
     "output_type": "stream",
     "text": [
      "Warning message in cor(predictions, yhat_test):\n",
      "“the standard deviation is zero”\n",
      "Warning message in cor(predictions, yhat_test):\n",
      "“the standard deviation is zero”\n"
     ]
    },
    {
     "name": "stdout",
     "output_type": "stream",
     "text": [
      "\n",
      "Processing methylation site index:  1000004 \n",
      "Testing methylation site at position  87818777 \n",
      "Testing window size:  1000 \n",
      "Dimensions of SNP matrix:  111 2 \n",
      "\n",
      "Testing window size:  2000 \n",
      "Dimensions of SNP matrix:  111 5 \n",
      "\n",
      "Testing window size:  5000 \n",
      "Dimensions of SNP matrix:  111 13 \n"
     ]
    },
    {
     "name": "stderr",
     "output_type": "stream",
     "text": [
      "Warning message in cor(predictions, yhat_test):\n",
      "“the standard deviation is zero”\n",
      "Warning message in cor(predictions, yhat_test):\n",
      "“the standard deviation is zero”\n"
     ]
    },
    {
     "name": "stdout",
     "output_type": "stream",
     "text": [
      "\n",
      "Testing window size:  10000 \n",
      "Dimensions of SNP matrix:  111 26 \n"
     ]
    },
    {
     "name": "stderr",
     "output_type": "stream",
     "text": [
      "Warning message in cor(predictions, yhat_test):\n",
      "“the standard deviation is zero”\n"
     ]
    },
    {
     "name": "stdout",
     "output_type": "stream",
     "text": [
      "\n",
      "Testing window size:  20000 \n",
      "Dimensions of SNP matrix:  111 42 \n"
     ]
    },
    {
     "name": "stderr",
     "output_type": "stream",
     "text": [
      "Warning message in cor(predictions, yhat_test):\n",
      "“the standard deviation is zero”\n"
     ]
    },
    {
     "name": "stdout",
     "output_type": "stream",
     "text": [
      "\n",
      "Testing window size:  50000 \n",
      "Dimensions of SNP matrix:  111 102 \n"
     ]
    },
    {
     "name": "stderr",
     "output_type": "stream",
     "text": [
      "Warning message in cor(predictions, yhat_test):\n",
      "“the standard deviation is zero”\n",
      "Warning message in cor(predictions, yhat_test):\n",
      "“the standard deviation is zero”\n"
     ]
    },
    {
     "name": "stdout",
     "output_type": "stream",
     "text": [
      "\n",
      "Testing window size:  1e+05 \n",
      "Dimensions of SNP matrix:  111 236 \n",
      "\n",
      "Testing window size:  2e+05 \n",
      "Dimensions of SNP matrix:  111 592 \n"
     ]
    },
    {
     "name": "stderr",
     "output_type": "stream",
     "text": [
      "Warning message in cor(predictions, yhat_test):\n",
      "“the standard deviation is zero”\n"
     ]
    },
    {
     "name": "stdout",
     "output_type": "stream",
     "text": [
      "\n",
      "Testing window size:  5e+05 \n",
      "Dimensions of SNP matrix:  111 1336 \n"
     ]
    },
    {
     "name": "stderr",
     "output_type": "stream",
     "text": [
      "Warning message in cor(predictions, yhat_test):\n",
      "“the standard deviation is zero”\n",
      "Warning message in cor(predictions, yhat_test):\n",
      "“the standard deviation is zero”\n",
      "Warning message in cor(predictions, yhat_test):\n",
      "“the standard deviation is zero”\n"
     ]
    },
    {
     "name": "stdout",
     "output_type": "stream",
     "text": [
      "\n",
      "Processing methylation site index:  1000005 \n",
      "Testing methylation site at position  87818847 \n",
      "Testing window size:  1000 \n",
      "Dimensions of SNP matrix:  111 2 \n",
      "\n",
      "Testing window size:  2000 \n",
      "Dimensions of SNP matrix:  111 5 \n"
     ]
    },
    {
     "name": "stderr",
     "output_type": "stream",
     "text": [
      "Warning message in cor(predictions, yhat_test):\n",
      "“the standard deviation is zero”\n"
     ]
    },
    {
     "name": "stdout",
     "output_type": "stream",
     "text": [
      "\n",
      "Testing window size:  5000 \n",
      "Dimensions of SNP matrix:  111 13 \n"
     ]
    },
    {
     "name": "stderr",
     "output_type": "stream",
     "text": [
      "Warning message in cor(predictions, yhat_test):\n",
      "“the standard deviation is zero”\n"
     ]
    },
    {
     "name": "stdout",
     "output_type": "stream",
     "text": [
      "\n",
      "Testing window size:  10000 \n",
      "Dimensions of SNP matrix:  111 26 \n",
      "\n",
      "Testing window size:  20000 \n",
      "Dimensions of SNP matrix:  111 42 \n",
      "\n",
      "Testing window size:  50000 \n",
      "Dimensions of SNP matrix:  111 101 \n",
      "\n",
      "Testing window size:  1e+05 \n",
      "Dimensions of SNP matrix:  111 236 \n",
      "\n",
      "Testing window size:  2e+05 \n",
      "Dimensions of SNP matrix:  111 592 \n",
      "\n",
      "Testing window size:  5e+05 \n",
      "Dimensions of SNP matrix:  111 1336 \n"
     ]
    },
    {
     "name": "stderr",
     "output_type": "stream",
     "text": [
      "Warning message in cor(predictions, yhat_test):\n",
      "“the standard deviation is zero”\n",
      "Warning message in cor(predictions, yhat_test):\n",
      "“the standard deviation is zero”\n"
     ]
    },
    {
     "name": "stdout",
     "output_type": "stream",
     "text": [
      "\n",
      "Processing methylation site index:  1000006 \n",
      "Testing methylation site at position  87819360 \n",
      "Testing window size:  1000 \n",
      "Dimensions of SNP matrix:  111 3 \n",
      "\n",
      "Testing window size:  2000 \n",
      "Dimensions of SNP matrix:  111 3 \n",
      "\n",
      "Testing window size:  5000 \n",
      "Dimensions of SNP matrix:  111 13 \n"
     ]
    },
    {
     "name": "stderr",
     "output_type": "stream",
     "text": [
      "Warning message in cor(predictions, yhat_test):\n",
      "“the standard deviation is zero”\n"
     ]
    },
    {
     "name": "stdout",
     "output_type": "stream",
     "text": [
      "\n",
      "Testing window size:  10000 \n",
      "Dimensions of SNP matrix:  111 26 \n"
     ]
    },
    {
     "name": "stderr",
     "output_type": "stream",
     "text": [
      "Warning message in cor(predictions, yhat_test):\n",
      "“the standard deviation is zero”\n",
      "Warning message in cor(predictions, yhat_test):\n",
      "“the standard deviation is zero”\n"
     ]
    },
    {
     "name": "stdout",
     "output_type": "stream",
     "text": [
      "\n",
      "Testing window size:  20000 \n",
      "Dimensions of SNP matrix:  111 42 \n"
     ]
    },
    {
     "name": "stderr",
     "output_type": "stream",
     "text": [
      "Warning message in cor(predictions, yhat_test):\n",
      "“the standard deviation is zero”\n"
     ]
    },
    {
     "name": "stdout",
     "output_type": "stream",
     "text": [
      "\n",
      "Testing window size:  50000 \n",
      "Dimensions of SNP matrix:  111 101 \n"
     ]
    },
    {
     "name": "stderr",
     "output_type": "stream",
     "text": [
      "Warning message in cor(predictions, yhat_test):\n",
      "“the standard deviation is zero”\n"
     ]
    },
    {
     "name": "stdout",
     "output_type": "stream",
     "text": [
      "\n",
      "Testing window size:  1e+05 \n",
      "Dimensions of SNP matrix:  111 236 \n"
     ]
    },
    {
     "name": "stderr",
     "output_type": "stream",
     "text": [
      "Warning message in cor(predictions, yhat_test):\n",
      "“the standard deviation is zero”\n"
     ]
    },
    {
     "name": "stdout",
     "output_type": "stream",
     "text": [
      "\n",
      "Testing window size:  2e+05 \n",
      "Dimensions of SNP matrix:  111 593 \n",
      "\n",
      "Testing window size:  5e+05 \n",
      "Dimensions of SNP matrix:  111 1337 \n"
     ]
    },
    {
     "name": "stderr",
     "output_type": "stream",
     "text": [
      "Warning message in cor(predictions, yhat_test):\n",
      "“the standard deviation is zero”\n",
      "Warning message in cor(predictions, yhat_test):\n",
      "“the standard deviation is zero”\n"
     ]
    },
    {
     "name": "stdout",
     "output_type": "stream",
     "text": [
      "\n",
      "Processing methylation site index:  1000007 \n",
      "Testing methylation site at position  87819622 \n",
      "Testing window size:  1000 \n",
      "Dimensions of SNP matrix:  111 2 \n",
      "\n",
      "Testing window size:  2000 \n",
      "Dimensions of SNP matrix:  111 3 \n",
      "\n",
      "Testing window size:  5000 \n",
      "Dimensions of SNP matrix:  111 13 \n"
     ]
    },
    {
     "name": "stderr",
     "output_type": "stream",
     "text": [
      "Warning message in cor(predictions, yhat_test):\n",
      "“the standard deviation is zero”\n",
      "Warning message in cor(predictions, yhat_test):\n",
      "“the standard deviation is zero”\n"
     ]
    },
    {
     "name": "stdout",
     "output_type": "stream",
     "text": [
      "\n",
      "Testing window size:  10000 \n",
      "Dimensions of SNP matrix:  111 26 \n"
     ]
    },
    {
     "name": "stderr",
     "output_type": "stream",
     "text": [
      "Warning message in cor(predictions, yhat_test):\n",
      "“the standard deviation is zero”\n",
      "Warning message in cor(predictions, yhat_test):\n",
      "“the standard deviation is zero”\n"
     ]
    },
    {
     "name": "stdout",
     "output_type": "stream",
     "text": [
      "\n",
      "Testing window size:  20000 \n",
      "Dimensions of SNP matrix:  111 41 \n"
     ]
    },
    {
     "name": "stderr",
     "output_type": "stream",
     "text": [
      "Warning message in cor(predictions, yhat_test):\n",
      "“the standard deviation is zero”\n",
      "Warning message in cor(predictions, yhat_test):\n",
      "“the standard deviation is zero”\n",
      "Warning message in cor(predictions, yhat_test):\n",
      "“the standard deviation is zero”\n",
      "Warning message:\n",
      "“from glmnet C++ code (error code -100); Convergence for 100th lambda value not reached after maxit=100000 iterations; solutions for larger lambdas returned”\n"
     ]
    },
    {
     "name": "stdout",
     "output_type": "stream",
     "text": [
      "\n",
      "Testing window size:  50000 \n",
      "Dimensions of SNP matrix:  111 101 \n",
      "\n",
      "Testing window size:  1e+05 \n",
      "Dimensions of SNP matrix:  111 235 \n",
      "\n",
      "Testing window size:  2e+05 \n",
      "Dimensions of SNP matrix:  111 593 \n"
     ]
    },
    {
     "name": "stderr",
     "output_type": "stream",
     "text": [
      "Warning message in cor(predictions, yhat_test):\n",
      "“the standard deviation is zero”\n",
      "Warning message in cor(predictions, yhat_test):\n",
      "“the standard deviation is zero”\n"
     ]
    },
    {
     "name": "stdout",
     "output_type": "stream",
     "text": [
      "\n",
      "Testing window size:  5e+05 \n",
      "Dimensions of SNP matrix:  111 1338 \n"
     ]
    },
    {
     "name": "stderr",
     "output_type": "stream",
     "text": [
      "Warning message in cor(predictions, yhat_test):\n",
      "“the standard deviation is zero”\n",
      "Warning message in cor(predictions, yhat_test):\n",
      "“the standard deviation is zero”\n",
      "Warning message in cor(predictions, yhat_test):\n",
      "“the standard deviation is zero”\n",
      "Warning message in cor(predictions, yhat_test):\n",
      "“the standard deviation is zero”\n"
     ]
    },
    {
     "name": "stdout",
     "output_type": "stream",
     "text": [
      "\n",
      "Processing methylation site index:  1000008 \n",
      "Testing methylation site at position  87819799 \n",
      "Testing window size:  1000 \n",
      "Dimensions of SNP matrix:  \n",
      "For site at position 87819799, no SNPs were found in the window of size 1000\n",
      "Testing window size:  2000 \n",
      "Dimensions of SNP matrix:  111 4 \n",
      "\n",
      "Testing window size:  5000 \n",
      "Dimensions of SNP matrix:  111 13 \n"
     ]
    },
    {
     "name": "stderr",
     "output_type": "stream",
     "text": [
      "Warning message in cor(predictions, yhat_test):\n",
      "“the standard deviation is zero”\n",
      "Warning message in cor(predictions, yhat_test):\n",
      "“the standard deviation is zero”\n"
     ]
    },
    {
     "name": "stdout",
     "output_type": "stream",
     "text": [
      "\n",
      "Testing window size:  10000 \n",
      "Dimensions of SNP matrix:  111 25 \n"
     ]
    },
    {
     "name": "stderr",
     "output_type": "stream",
     "text": [
      "Warning message in cor(predictions, yhat_test):\n",
      "“the standard deviation is zero”\n",
      "Warning message in cor(predictions, yhat_test):\n",
      "“the standard deviation is zero”\n"
     ]
    },
    {
     "name": "stdout",
     "output_type": "stream",
     "text": [
      "\n",
      "Testing window size:  20000 \n",
      "Dimensions of SNP matrix:  111 41 \n"
     ]
    },
    {
     "name": "stderr",
     "output_type": "stream",
     "text": [
      "Warning message in cor(predictions, yhat_test):\n",
      "“the standard deviation is zero”\n",
      "Warning message in cor(predictions, yhat_test):\n",
      "“the standard deviation is zero”\n"
     ]
    },
    {
     "name": "stdout",
     "output_type": "stream",
     "text": [
      "\n",
      "Testing window size:  50000 \n",
      "Dimensions of SNP matrix:  111 101 \n"
     ]
    },
    {
     "name": "stderr",
     "output_type": "stream",
     "text": [
      "Warning message in cor(predictions, yhat_test):\n",
      "“the standard deviation is zero”\n"
     ]
    },
    {
     "name": "stdout",
     "output_type": "stream",
     "text": [
      "\n",
      "Testing window size:  1e+05 \n",
      "Dimensions of SNP matrix:  111 235 \n",
      "\n",
      "Testing window size:  2e+05 \n",
      "Dimensions of SNP matrix:  111 591 \n"
     ]
    },
    {
     "name": "stderr",
     "output_type": "stream",
     "text": [
      "Warning message in cor(predictions, yhat_test):\n",
      "“the standard deviation is zero”\n"
     ]
    },
    {
     "name": "stdout",
     "output_type": "stream",
     "text": [
      "\n",
      "Testing window size:  5e+05 \n",
      "Dimensions of SNP matrix:  111 1338 \n"
     ]
    },
    {
     "name": "stderr",
     "output_type": "stream",
     "text": [
      "Warning message in cor(predictions, yhat_test):\n",
      "“the standard deviation is zero”\n",
      "Warning message in cor(predictions, yhat_test):\n",
      "“the standard deviation is zero”\n"
     ]
    },
    {
     "name": "stdout",
     "output_type": "stream",
     "text": [
      "\n",
      "Processing methylation site index:  1000009 \n",
      "Testing methylation site at position  87819982 \n",
      "Testing window size:  1000 \n",
      "Dimensions of SNP matrix:  \n",
      "For site at position 87819982, no SNPs were found in the window of size 1000\n",
      "Testing window size:  2000 \n",
      "Dimensions of SNP matrix:  111 4 \n",
      "\n",
      "Testing window size:  5000 \n",
      "Dimensions of SNP matrix:  111 13 \n"
     ]
    },
    {
     "name": "stderr",
     "output_type": "stream",
     "text": [
      "Warning message in cor(predictions, yhat_test):\n",
      "“the standard deviation is zero”\n"
     ]
    },
    {
     "name": "stdout",
     "output_type": "stream",
     "text": [
      "\n",
      "Testing window size:  10000 \n",
      "Dimensions of SNP matrix:  111 23 \n"
     ]
    },
    {
     "name": "stderr",
     "output_type": "stream",
     "text": [
      "Warning message in cor(predictions, yhat_test):\n",
      "“the standard deviation is zero”\n"
     ]
    },
    {
     "name": "stdout",
     "output_type": "stream",
     "text": [
      "\n",
      "Testing window size:  20000 \n",
      "Dimensions of SNP matrix:  111 41 \n"
     ]
    },
    {
     "name": "stderr",
     "output_type": "stream",
     "text": [
      "Warning message in cor(predictions, yhat_test):\n",
      "“the standard deviation is zero”\n",
      "Warning message in cor(predictions, yhat_test):\n",
      "“the standard deviation is zero”\n"
     ]
    },
    {
     "name": "stdout",
     "output_type": "stream",
     "text": [
      "\n",
      "Testing window size:  50000 \n",
      "Dimensions of SNP matrix:  111 101 \n"
     ]
    },
    {
     "name": "stderr",
     "output_type": "stream",
     "text": [
      "Warning message in cor(predictions, yhat_test):\n",
      "“the standard deviation is zero”\n"
     ]
    },
    {
     "name": "stdout",
     "output_type": "stream",
     "text": [
      "\n",
      "Testing window size:  1e+05 \n",
      "Dimensions of SNP matrix:  111 235 \n",
      "\n",
      "Testing window size:  2e+05 \n",
      "Dimensions of SNP matrix:  111 591 \n"
     ]
    },
    {
     "name": "stderr",
     "output_type": "stream",
     "text": [
      "Warning message in cor(predictions, yhat_test):\n",
      "“the standard deviation is zero”\n",
      "Warning message in cor(predictions, yhat_test):\n",
      "“the standard deviation is zero”\n"
     ]
    },
    {
     "name": "stdout",
     "output_type": "stream",
     "text": [
      "\n",
      "Testing window size:  5e+05 \n",
      "Dimensions of SNP matrix:  111 1337 \n"
     ]
    },
    {
     "name": "stderr",
     "output_type": "stream",
     "text": [
      "Warning message in cor(predictions, yhat_test):\n",
      "“the standard deviation is zero”\n",
      "Warning message in cor(predictions, yhat_test):\n",
      "“the standard deviation is zero”\n",
      "Warning message in cor(predictions, yhat_test):\n",
      "“the standard deviation is zero”\n",
      "Warning message in cor(predictions, yhat_test):\n",
      "“the standard deviation is zero”\n"
     ]
    },
    {
     "name": "stdout",
     "output_type": "stream",
     "text": [
      "\n",
      "Processing methylation site index:  1000010 \n",
      "Testing methylation site at position  87820227 \n",
      "Testing window size:  1000 \n",
      "Dimensions of SNP matrix:  \n",
      "For site at position 87820227, no SNPs were found in the window of size 1000\n",
      "Testing window size:  2000 \n",
      "Dimensions of SNP matrix:  111 5 \n",
      "\n",
      "Testing window size:  5000 \n",
      "Dimensions of SNP matrix:  111 12 \n"
     ]
    },
    {
     "name": "stderr",
     "output_type": "stream",
     "text": [
      "Warning message in cor(predictions, yhat_test):\n",
      "“the standard deviation is zero”\n",
      "Warning message in cor(predictions, yhat_test):\n",
      "“the standard deviation is zero”\n"
     ]
    },
    {
     "name": "stdout",
     "output_type": "stream",
     "text": [
      "\n",
      "Testing window size:  10000 \n",
      "Dimensions of SNP matrix:  111 23 \n"
     ]
    },
    {
     "name": "stderr",
     "output_type": "stream",
     "text": [
      "Warning message in cor(predictions, yhat_test):\n",
      "“the standard deviation is zero”\n"
     ]
    },
    {
     "name": "stdout",
     "output_type": "stream",
     "text": [
      "\n",
      "Testing window size:  20000 \n",
      "Dimensions of SNP matrix:  111 40 \n",
      "\n",
      "Testing window size:  50000 \n",
      "Dimensions of SNP matrix:  111 100 \n"
     ]
    },
    {
     "name": "stderr",
     "output_type": "stream",
     "text": [
      "Warning message in cor(predictions, yhat_test):\n",
      "“the standard deviation is zero”\n"
     ]
    },
    {
     "name": "stdout",
     "output_type": "stream",
     "text": [
      "\n",
      "Testing window size:  1e+05 \n",
      "Dimensions of SNP matrix:  111 234 \n",
      "\n",
      "Testing window size:  2e+05 \n",
      "Dimensions of SNP matrix:  111 591 \n"
     ]
    },
    {
     "name": "stderr",
     "output_type": "stream",
     "text": [
      "Warning message in cor(predictions, yhat_test):\n",
      "“the standard deviation is zero”\n",
      "Warning message in cor(predictions, yhat_test):\n",
      "“the standard deviation is zero”\n",
      "Warning message in cor(predictions, yhat_test):\n",
      "“the standard deviation is zero”\n"
     ]
    },
    {
     "name": "stdout",
     "output_type": "stream",
     "text": [
      "\n",
      "Testing window size:  5e+05 \n",
      "Dimensions of SNP matrix:  111 1337 \n"
     ]
    },
    {
     "name": "stderr",
     "output_type": "stream",
     "text": [
      "Warning message in cor(predictions, yhat_test):\n",
      "“the standard deviation is zero”\n",
      "Warning message in cor(predictions, yhat_test):\n",
      "“the standard deviation is zero”\n",
      "Warning message in cor(predictions, yhat_test):\n",
      "“the standard deviation is zero”\n"
     ]
    },
    {
     "name": "stdout",
     "output_type": "stream",
     "text": [
      "\n"
     ]
    },
    {
     "name": "stderr",
     "output_type": "stream",
     "text": [
      "MethylationScaff object saved to ../output//libd_chr1-chr1_AA_scheme1.rds\n",
      "\n"
     ]
    }
   ],
   "source": [
    "scaffold_models_1 <- build_prediction_model(\n",
    "  BSobj = BSobj2,\n",
    "  methInput = methInput,\n",
    "  window_sizes = window_sizes,\n",
    "  chunk1 = args$chunk1,\n",
    "  chunk2 = args$chunk2,\n",
    "  n_fold = 5,\n",
    "  cv_nesting = \"triple\",\n",
    "  scaffoldIdentifier = scaffoldIdentifier_1,\n",
    "  outdir = args$outdir,\n",
    "  record_runtime = TRUE\n",
    ")\n",
    "\n",
    "df_1 <- convertToDataFrame(scaffold_models_1)"
   ]
  },
  {
   "cell_type": "code",
   "execution_count": 10,
   "id": "0b5d9c7c-072a-4e28-bf56-6e90359d826d",
   "metadata": {
    "scrolled": true
   },
   "outputs": [
    {
     "data": {
      "text/html": [
       "<table class=\"dataframe\">\n",
       "<caption>A data.frame: 96 × 9</caption>\n",
       "<thead>\n",
       "\t<tr><th></th><th scope=col>scaffoldIdentifier</th><th scope=col>methylationPosition</th><th scope=col>windowSize</th><th scope=col>nSNPs</th><th scope=col>cor</th><th scope=col>mse</th><th scope=col>alpha</th><th scope=col>lambda</th><th scope=col>runtime</th></tr>\n",
       "\t<tr><th></th><th scope=col>&lt;chr&gt;</th><th scope=col>&lt;int&gt;</th><th scope=col>&lt;dbl&gt;</th><th scope=col>&lt;int&gt;</th><th scope=col>&lt;dbl&gt;</th><th scope=col>&lt;dbl&gt;</th><th scope=col>&lt;dbl&gt;</th><th scope=col>&lt;dbl&gt;</th><th scope=col>&lt;dbl&gt;</th></tr>\n",
       "</thead>\n",
       "<tbody>\n",
       "\t<tr><th scope=row>cor</th><td>libd_chr1-chr1_AA_scheme1</td><td>87818200</td><td>1e+03</td><td>   3</td><td> 0.05811582</td><td>0.001204599</td><td>0.0</td><td> 3.42100197</td><td>0.8471191</td></tr>\n",
       "\t<tr><th scope=row>cor1</th><td>libd_chr1-chr1_AA_scheme1</td><td>87818200</td><td>2e+03</td><td>   7</td><td> 0.09706483</td><td>0.001204267</td><td>0.0</td><td> 5.15138270</td><td>0.7063329</td></tr>\n",
       "\t<tr><th scope=row>cor2</th><td>libd_chr1-chr1_AA_scheme1</td><td>87818200</td><td>5e+03</td><td>  15</td><td> 0.19280609</td><td>0.001203523</td><td>0.0</td><td> 5.15138270</td><td>1.4051371</td></tr>\n",
       "\t<tr><th scope=row>cor3</th><td>libd_chr1-chr1_AA_scheme1</td><td>87818200</td><td>1e+04</td><td>  25</td><td>         NA</td><td>0.001204809</td><td>0.1</td><td> 0.09023399</td><td>0.9360950</td></tr>\n",
       "\t<tr><th scope=row>cor4</th><td>libd_chr1-chr1_AA_scheme1</td><td>87818200</td><td>2e+04</td><td>  42</td><td> 0.26418881</td><td>0.001201189</td><td>0.0</td><td> 9.02339933</td><td>4.8685620</td></tr>\n",
       "\t<tr><th scope=row>cor5</th><td>libd_chr1-chr1_AA_scheme1</td><td>87818200</td><td>5e+04</td><td> 100</td><td> 0.43693084</td><td>0.001193544</td><td>0.0</td><td> 9.02339933</td><td>3.1526499</td></tr>\n",
       "\t<tr><th scope=row>cor6</th><td>libd_chr1-chr1_AA_scheme1</td><td>87818200</td><td>1e+05</td><td> 235</td><td> 0.19516417</td><td>0.001204809</td><td>0.1</td><td> 0.11940134</td><td>5.2693400</td></tr>\n",
       "\t<tr><th scope=row>cor7</th><td>libd_chr1-chr1_AA_scheme1</td><td>87818200</td><td>2e+05</td><td> 591</td><td> 0.53459738</td><td>0.001143726</td><td>0.0</td><td>14.56712409</td><td>2.8303020</td></tr>\n",
       "\t<tr><th scope=row>cor8</th><td>libd_chr1-chr1_AA_scheme1</td><td>87818200</td><td>5e+05</td><td>1336</td><td>-0.32309257</td><td>0.001204809</td><td>0.1</td><td> 0.14828041</td><td>3.4706271</td></tr>\n",
       "\t<tr><th scope=row>cor9</th><td>libd_chr1-chr1_AA_scheme1</td><td>87818244</td><td>1e+03</td><td>   3</td><td> 0.06575757</td><td>0.001264007</td><td>0.0</td><td> 3.41513600</td><td>0.5878980</td></tr>\n",
       "\t<tr><th scope=row>cor10</th><td>libd_chr1-chr1_AA_scheme1</td><td>87818244</td><td>2e+03</td><td>   6</td><td> 0.11511511</td><td>0.001263589</td><td>0.0</td><td> 5.15636414</td><td>0.6513920</td></tr>\n",
       "\t<tr><th scope=row>cor11</th><td>libd_chr1-chr1_AA_scheme1</td><td>87818244</td><td>5e+03</td><td>  15</td><td> 0.21512051</td><td>0.001262723</td><td>0.0</td><td> 5.15636414</td><td>0.7695451</td></tr>\n",
       "\t<tr><th scope=row>cor12</th><td>libd_chr1-chr1_AA_scheme1</td><td>87818244</td><td>1e+04</td><td>  25</td><td>         NA</td><td>0.001264256</td><td>0.1</td><td> 0.09128776</td><td>0.9242311</td></tr>\n",
       "\t<tr><th scope=row>cor13</th><td>libd_chr1-chr1_AA_scheme1</td><td>87818244</td><td>2e+04</td><td>  42</td><td> 0.27145739</td><td>0.001260347</td><td>0.0</td><td> 9.12877556</td><td>4.8568461</td></tr>\n",
       "\t<tr><th scope=row>cor14</th><td>libd_chr1-chr1_AA_scheme1</td><td>87818244</td><td>5e+04</td><td>  99</td><td> 0.43527129</td><td>0.001252316</td><td>0.0</td><td> 9.12877556</td><td>3.1732700</td></tr>\n",
       "\t<tr><th scope=row>cor15</th><td>libd_chr1-chr1_AA_scheme1</td><td>87818244</td><td>1e+05</td><td> 235</td><td> 0.20456556</td><td>0.001264256</td><td>0.1</td><td> 0.12105441</td><td>5.2341151</td></tr>\n",
       "\t<tr><th scope=row>cor16</th><td>libd_chr1-chr1_AA_scheme1</td><td>87818244</td><td>2e+05</td><td> 591</td><td> 0.54078298</td><td>0.001200464</td><td>0.0</td><td>14.82425289</td><td>2.8047771</td></tr>\n",
       "\t<tr><th scope=row>cor17</th><td>libd_chr1-chr1_AA_scheme1</td><td>87818244</td><td>5e+05</td><td>1336</td><td>         NA</td><td>0.001264256</td><td>0.1</td><td> 0.15001911</td><td>3.4863081</td></tr>\n",
       "\t<tr><th scope=row>cor18</th><td>libd_chr1-chr1_AA_scheme1</td><td>87818262</td><td>1e+03</td><td>   3</td><td> 0.06871587</td><td>0.001288530</td><td>0.0</td><td> 3.41283375</td><td>0.5987990</td></tr>\n",
       "\t<tr><th scope=row>cor19</th><td>libd_chr1-chr1_AA_scheme1</td><td>87818262</td><td>2e+03</td><td>   6</td><td> 0.12177911</td><td>0.001288074</td><td>0.0</td><td> 5.15808085</td><td>0.6530170</td></tr>\n",
       "\t<tr><th scope=row>cor20</th><td>libd_chr1-chr1_AA_scheme1</td><td>87818262</td><td>5e+03</td><td>  15</td><td> 0.22373406</td><td>0.001287157</td><td>0.0</td><td> 5.15808085</td><td>0.7725420</td></tr>\n",
       "\t<tr><th scope=row>cor21</th><td>libd_chr1-chr1_AA_scheme1</td><td>87818262</td><td>1e+04</td><td>  25</td><td>-0.11713074</td><td>0.001288795</td><td>0.1</td><td> 0.09170415</td><td>0.9221978</td></tr>\n",
       "\t<tr><th scope=row>cor22</th><td>libd_chr1-chr1_AA_scheme1</td><td>87818262</td><td>2e+04</td><td>  42</td><td> 0.27432592</td><td>0.001284765</td><td>0.0</td><td> 9.17041506</td><td>5.0143821</td></tr>\n",
       "\t<tr><th scope=row>cor23</th><td>libd_chr1-chr1_AA_scheme1</td><td>87818262</td><td>5e+04</td><td> 100</td><td> 0.43684797</td><td>0.001276506</td><td>0.0</td><td> 9.17041506</td><td>3.2133851</td></tr>\n",
       "\t<tr><th scope=row>cor24</th><td>libd_chr1-chr1_AA_scheme1</td><td>87818262</td><td>1e+05</td><td> 235</td><td>         NA</td><td>0.001288795</td><td>0.1</td><td> 0.12171270</td><td>5.3597870</td></tr>\n",
       "\t<tr><th scope=row>cor25</th><td>libd_chr1-chr1_AA_scheme1</td><td>87818262</td><td>2e+05</td><td> 591</td><td> 0.54317536</td><td>0.001223903</td><td>0.0</td><td>14.92751468</td><td>2.7224159</td></tr>\n",
       "\t<tr><th scope=row>cor26</th><td>libd_chr1-chr1_AA_scheme1</td><td>87818262</td><td>5e+05</td><td>1336</td><td>         NA</td><td>0.001288795</td><td>0.1</td><td> 0.15070867</td><td>3.4687490</td></tr>\n",
       "\t<tr><th scope=row>cor27</th><td>libd_chr1-chr1_AA_scheme1</td><td>87818291</td><td>1e+03</td><td>   3</td><td> 0.07328687</td><td>0.001328240</td><td>0.0</td><td> 3.40926727</td><td>0.6128731</td></tr>\n",
       "\t<tr><th scope=row>cor28</th><td>libd_chr1-chr1_AA_scheme1</td><td>87818291</td><td>2e+03</td><td>   6</td><td> 0.13217588</td><td>0.001327720</td><td>0.0</td><td> 5.16046701</td><td>0.6505949</td></tr>\n",
       "\t<tr><th scope=row>cor29</th><td>libd_chr1-chr1_AA_scheme1</td><td>87818291</td><td>5e+03</td><td>  15</td><td> 0.23697649</td><td>0.001326717</td><td>0.0</td><td> 5.16046701</td><td>0.7745490</td></tr>\n",
       "\t<tr><th scope=row>⋮</th><td>⋮</td><td>⋮</td><td>⋮</td><td>⋮</td><td>⋮</td><td>⋮</td><td>⋮</td><td>⋮</td><td>⋮</td></tr>\n",
       "\t<tr><th scope=row>cor66</th><td>libd_chr1-chr1_AA_scheme1</td><td>87819622</td><td>1e+04</td><td>  26</td><td>         NA</td><td>0.001864566</td><td>1.0</td><td> 0.01267766</td><td>0.9632230</td></tr>\n",
       "\t<tr><th scope=row>cor67</th><td>libd_chr1-chr1_AA_scheme1</td><td>87819622</td><td>2e+04</td><td>  41</td><td>         NA</td><td>0.001864566</td><td>1.0</td><td> 0.01267766</td><td>3.8250542</td></tr>\n",
       "\t<tr><th scope=row>cor68</th><td>libd_chr1-chr1_AA_scheme1</td><td>87819622</td><td>5e+04</td><td> 101</td><td> 0.41957878</td><td>0.001843354</td><td>0.0</td><td>12.67765920</td><td>3.1712182</td></tr>\n",
       "\t<tr><th scope=row>cor69</th><td>libd_chr1-chr1_AA_scheme1</td><td>87819622</td><td>1e+05</td><td> 235</td><td> 0.40735518</td><td>0.001826844</td><td>0.0</td><td>12.67765920</td><td>5.1417520</td></tr>\n",
       "\t<tr><th scope=row>cor70</th><td>libd_chr1-chr1_AA_scheme1</td><td>87819622</td><td>2e+05</td><td> 593</td><td> 0.42066228</td><td>0.001822345</td><td>0.0</td><td>18.16085213</td><td>2.8319409</td></tr>\n",
       "\t<tr><th scope=row>cor71</th><td>libd_chr1-chr1_AA_scheme1</td><td>87819622</td><td>5e+05</td><td>1338</td><td>         NA</td><td>0.001864566</td><td>0.1</td><td> 0.18160852</td><td>3.4728050</td></tr>\n",
       "\t<tr><th scope=row>cor72</th><td>libd_chr1-chr1_AA_scheme1</td><td>87819799</td><td>2e+03</td><td>   4</td><td> 0.13385564</td><td>0.001607756</td><td>0.0</td><td> 3.46278904</td><td>0.6704330</td></tr>\n",
       "\t<tr><th scope=row>cor73</th><td>libd_chr1-chr1_AA_scheme1</td><td>87819799</td><td>5e+03</td><td>  13</td><td>         NA</td><td>0.001608561</td><td>1.0</td><td> 0.01230537</td><td>0.8373291</td></tr>\n",
       "\t<tr><th scope=row>cor74</th><td>libd_chr1-chr1_AA_scheme1</td><td>87819799</td><td>1e+04</td><td>  25</td><td>         NA</td><td>0.001608561</td><td>1.0</td><td> 0.01230537</td><td>0.9522300</td></tr>\n",
       "\t<tr><th scope=row>cor75</th><td>libd_chr1-chr1_AA_scheme1</td><td>87819799</td><td>2e+04</td><td>  41</td><td>         NA</td><td>0.001608561</td><td>1.0</td><td> 0.01230537</td><td>3.7801640</td></tr>\n",
       "\t<tr><th scope=row>cor76</th><td>libd_chr1-chr1_AA_scheme1</td><td>87819799</td><td>5e+04</td><td> 101</td><td> 0.39593854</td><td>0.001590987</td><td>0.0</td><td>12.30536699</td><td>3.2898390</td></tr>\n",
       "\t<tr><th scope=row>cor77</th><td>libd_chr1-chr1_AA_scheme1</td><td>87819799</td><td>1e+05</td><td> 235</td><td> 0.35530787</td><td>0.001582908</td><td>0.0</td><td>12.30536699</td><td>4.9669080</td></tr>\n",
       "\t<tr><th scope=row>cor78</th><td>libd_chr1-chr1_AA_scheme1</td><td>87819799</td><td>2e+05</td><td> 591</td><td>-0.53584666</td><td>0.001608561</td><td>0.1</td><td> 0.17720851</td><td>2.8933680</td></tr>\n",
       "\t<tr><th scope=row>cor79</th><td>libd_chr1-chr1_AA_scheme1</td><td>87819799</td><td>5e+05</td><td>1338</td><td>-0.53584666</td><td>0.001608561</td><td>0.1</td><td> 0.17720851</td><td>3.5037580</td></tr>\n",
       "\t<tr><th scope=row>cor80</th><td>libd_chr1-chr1_AA_scheme1</td><td>87819982</td><td>2e+03</td><td>   4</td><td> 0.08843370</td><td>0.001371528</td><td>0.0</td><td> 3.97422703</td><td>0.6767032</td></tr>\n",
       "\t<tr><th scope=row>cor81</th><td>libd_chr1-chr1_AA_scheme1</td><td>87819982</td><td>5e+03</td><td>  13</td><td>         NA</td><td>0.001372035</td><td>1.0</td><td> 0.01171740</td><td>0.7587221</td></tr>\n",
       "\t<tr><th scope=row>cor82</th><td>libd_chr1-chr1_AA_scheme1</td><td>87819982</td><td>1e+04</td><td>  23</td><td>         NA</td><td>0.001372035</td><td>1.0</td><td> 0.01171740</td><td>0.8823149</td></tr>\n",
       "\t<tr><th scope=row>cor83</th><td>libd_chr1-chr1_AA_scheme1</td><td>87819982</td><td>2e+04</td><td>  41</td><td>         NA</td><td>0.001372035</td><td>1.0</td><td> 0.01171740</td><td>3.8567050</td></tr>\n",
       "\t<tr><th scope=row>cor84</th><td>libd_chr1-chr1_AA_scheme1</td><td>87819982</td><td>5e+04</td><td> 101</td><td> 0.36222718</td><td>0.001357944</td><td>0.0</td><td>11.71739881</td><td>3.1541760</td></tr>\n",
       "\t<tr><th scope=row>cor85</th><td>libd_chr1-chr1_AA_scheme1</td><td>87819982</td><td>1e+05</td><td> 235</td><td> 0.28177841</td><td>0.001357909</td><td>0.0</td><td>11.71739881</td><td>4.8724809</td></tr>\n",
       "\t<tr><th scope=row>cor86</th><td>libd_chr1-chr1_AA_scheme1</td><td>87819982</td><td>2e+05</td><td> 591</td><td>         NA</td><td>0.001372035</td><td>0.1</td><td> 0.17168424</td><td>2.8980060</td></tr>\n",
       "\t<tr><th scope=row>cor87</th><td>libd_chr1-chr1_AA_scheme1</td><td>87819982</td><td>5e+05</td><td>1337</td><td>         NA</td><td>0.001372035</td><td>0.1</td><td> 0.17168424</td><td>3.4777489</td></tr>\n",
       "\t<tr><th scope=row>cor88</th><td>libd_chr1-chr1_AA_scheme1</td><td>87820227</td><td>2e+03</td><td>   5</td><td> 0.03627875</td><td>0.001163211</td><td>0.0</td><td> 5.42522079</td><td>0.7194932</td></tr>\n",
       "\t<tr><th scope=row>cor89</th><td>libd_chr1-chr1_AA_scheme1</td><td>87820227</td><td>5e+03</td><td>  12</td><td>         NA</td><td>0.001163499</td><td>1.0</td><td> 0.01068602</td><td>0.8214662</td></tr>\n",
       "\t<tr><th scope=row>cor90</th><td>libd_chr1-chr1_AA_scheme1</td><td>87820227</td><td>1e+04</td><td>  23</td><td>-0.11330783</td><td>0.001164952</td><td>0.0</td><td>10.68601577</td><td>0.8784039</td></tr>\n",
       "\t<tr><th scope=row>cor91</th><td>libd_chr1-chr1_AA_scheme1</td><td>87820227</td><td>2e+04</td><td>  40</td><td> 0.15978794</td><td>0.001161530</td><td>0.0</td><td>10.68601577</td><td>4.1890092</td></tr>\n",
       "\t<tr><th scope=row>cor92</th><td>libd_chr1-chr1_AA_scheme1</td><td>87820227</td><td>5e+04</td><td> 100</td><td> 0.30341105</td><td>0.001153094</td><td>0.0</td><td>10.74874761</td><td>3.2162371</td></tr>\n",
       "\t<tr><th scope=row>cor93</th><td>libd_chr1-chr1_AA_scheme1</td><td>87820227</td><td>1e+05</td><td> 234</td><td> 0.17628518</td><td>0.001161200</td><td>0.0</td><td>10.74874761</td><td>5.1846750</td></tr>\n",
       "\t<tr><th scope=row>cor94</th><td>libd_chr1-chr1_AA_scheme1</td><td>87820227</td><td>2e+05</td><td> 591</td><td>         NA</td><td>0.001163499</td><td>0.1</td><td> 0.16316110</td><td>2.9444020</td></tr>\n",
       "\t<tr><th scope=row>cor95</th><td>libd_chr1-chr1_AA_scheme1</td><td>87820227</td><td>5e+05</td><td>1337</td><td>         NA</td><td>0.001163499</td><td>0.1</td><td> 0.16316110</td><td>3.5109901</td></tr>\n",
       "</tbody>\n",
       "</table>\n"
      ],
      "text/latex": [
       "A data.frame: 96 × 9\n",
       "\\begin{tabular}{r|lllllllll}\n",
       "  & scaffoldIdentifier & methylationPosition & windowSize & nSNPs & cor & mse & alpha & lambda & runtime\\\\\n",
       "  & <chr> & <int> & <dbl> & <int> & <dbl> & <dbl> & <dbl> & <dbl> & <dbl>\\\\\n",
       "\\hline\n",
       "\tcor & libd\\_chr1-chr1\\_AA\\_scheme1 & 87818200 & 1e+03 &    3 &  0.05811582 & 0.001204599 & 0.0 &  3.42100197 & 0.8471191\\\\\n",
       "\tcor1 & libd\\_chr1-chr1\\_AA\\_scheme1 & 87818200 & 2e+03 &    7 &  0.09706483 & 0.001204267 & 0.0 &  5.15138270 & 0.7063329\\\\\n",
       "\tcor2 & libd\\_chr1-chr1\\_AA\\_scheme1 & 87818200 & 5e+03 &   15 &  0.19280609 & 0.001203523 & 0.0 &  5.15138270 & 1.4051371\\\\\n",
       "\tcor3 & libd\\_chr1-chr1\\_AA\\_scheme1 & 87818200 & 1e+04 &   25 &          NA & 0.001204809 & 0.1 &  0.09023399 & 0.9360950\\\\\n",
       "\tcor4 & libd\\_chr1-chr1\\_AA\\_scheme1 & 87818200 & 2e+04 &   42 &  0.26418881 & 0.001201189 & 0.0 &  9.02339933 & 4.8685620\\\\\n",
       "\tcor5 & libd\\_chr1-chr1\\_AA\\_scheme1 & 87818200 & 5e+04 &  100 &  0.43693084 & 0.001193544 & 0.0 &  9.02339933 & 3.1526499\\\\\n",
       "\tcor6 & libd\\_chr1-chr1\\_AA\\_scheme1 & 87818200 & 1e+05 &  235 &  0.19516417 & 0.001204809 & 0.1 &  0.11940134 & 5.2693400\\\\\n",
       "\tcor7 & libd\\_chr1-chr1\\_AA\\_scheme1 & 87818200 & 2e+05 &  591 &  0.53459738 & 0.001143726 & 0.0 & 14.56712409 & 2.8303020\\\\\n",
       "\tcor8 & libd\\_chr1-chr1\\_AA\\_scheme1 & 87818200 & 5e+05 & 1336 & -0.32309257 & 0.001204809 & 0.1 &  0.14828041 & 3.4706271\\\\\n",
       "\tcor9 & libd\\_chr1-chr1\\_AA\\_scheme1 & 87818244 & 1e+03 &    3 &  0.06575757 & 0.001264007 & 0.0 &  3.41513600 & 0.5878980\\\\\n",
       "\tcor10 & libd\\_chr1-chr1\\_AA\\_scheme1 & 87818244 & 2e+03 &    6 &  0.11511511 & 0.001263589 & 0.0 &  5.15636414 & 0.6513920\\\\\n",
       "\tcor11 & libd\\_chr1-chr1\\_AA\\_scheme1 & 87818244 & 5e+03 &   15 &  0.21512051 & 0.001262723 & 0.0 &  5.15636414 & 0.7695451\\\\\n",
       "\tcor12 & libd\\_chr1-chr1\\_AA\\_scheme1 & 87818244 & 1e+04 &   25 &          NA & 0.001264256 & 0.1 &  0.09128776 & 0.9242311\\\\\n",
       "\tcor13 & libd\\_chr1-chr1\\_AA\\_scheme1 & 87818244 & 2e+04 &   42 &  0.27145739 & 0.001260347 & 0.0 &  9.12877556 & 4.8568461\\\\\n",
       "\tcor14 & libd\\_chr1-chr1\\_AA\\_scheme1 & 87818244 & 5e+04 &   99 &  0.43527129 & 0.001252316 & 0.0 &  9.12877556 & 3.1732700\\\\\n",
       "\tcor15 & libd\\_chr1-chr1\\_AA\\_scheme1 & 87818244 & 1e+05 &  235 &  0.20456556 & 0.001264256 & 0.1 &  0.12105441 & 5.2341151\\\\\n",
       "\tcor16 & libd\\_chr1-chr1\\_AA\\_scheme1 & 87818244 & 2e+05 &  591 &  0.54078298 & 0.001200464 & 0.0 & 14.82425289 & 2.8047771\\\\\n",
       "\tcor17 & libd\\_chr1-chr1\\_AA\\_scheme1 & 87818244 & 5e+05 & 1336 &          NA & 0.001264256 & 0.1 &  0.15001911 & 3.4863081\\\\\n",
       "\tcor18 & libd\\_chr1-chr1\\_AA\\_scheme1 & 87818262 & 1e+03 &    3 &  0.06871587 & 0.001288530 & 0.0 &  3.41283375 & 0.5987990\\\\\n",
       "\tcor19 & libd\\_chr1-chr1\\_AA\\_scheme1 & 87818262 & 2e+03 &    6 &  0.12177911 & 0.001288074 & 0.0 &  5.15808085 & 0.6530170\\\\\n",
       "\tcor20 & libd\\_chr1-chr1\\_AA\\_scheme1 & 87818262 & 5e+03 &   15 &  0.22373406 & 0.001287157 & 0.0 &  5.15808085 & 0.7725420\\\\\n",
       "\tcor21 & libd\\_chr1-chr1\\_AA\\_scheme1 & 87818262 & 1e+04 &   25 & -0.11713074 & 0.001288795 & 0.1 &  0.09170415 & 0.9221978\\\\\n",
       "\tcor22 & libd\\_chr1-chr1\\_AA\\_scheme1 & 87818262 & 2e+04 &   42 &  0.27432592 & 0.001284765 & 0.0 &  9.17041506 & 5.0143821\\\\\n",
       "\tcor23 & libd\\_chr1-chr1\\_AA\\_scheme1 & 87818262 & 5e+04 &  100 &  0.43684797 & 0.001276506 & 0.0 &  9.17041506 & 3.2133851\\\\\n",
       "\tcor24 & libd\\_chr1-chr1\\_AA\\_scheme1 & 87818262 & 1e+05 &  235 &          NA & 0.001288795 & 0.1 &  0.12171270 & 5.3597870\\\\\n",
       "\tcor25 & libd\\_chr1-chr1\\_AA\\_scheme1 & 87818262 & 2e+05 &  591 &  0.54317536 & 0.001223903 & 0.0 & 14.92751468 & 2.7224159\\\\\n",
       "\tcor26 & libd\\_chr1-chr1\\_AA\\_scheme1 & 87818262 & 5e+05 & 1336 &          NA & 0.001288795 & 0.1 &  0.15070867 & 3.4687490\\\\\n",
       "\tcor27 & libd\\_chr1-chr1\\_AA\\_scheme1 & 87818291 & 1e+03 &    3 &  0.07328687 & 0.001328240 & 0.0 &  3.40926727 & 0.6128731\\\\\n",
       "\tcor28 & libd\\_chr1-chr1\\_AA\\_scheme1 & 87818291 & 2e+03 &    6 &  0.13217588 & 0.001327720 & 0.0 &  5.16046701 & 0.6505949\\\\\n",
       "\tcor29 & libd\\_chr1-chr1\\_AA\\_scheme1 & 87818291 & 5e+03 &   15 &  0.23697649 & 0.001326717 & 0.0 &  5.16046701 & 0.7745490\\\\\n",
       "\t⋮ & ⋮ & ⋮ & ⋮ & ⋮ & ⋮ & ⋮ & ⋮ & ⋮ & ⋮\\\\\n",
       "\tcor66 & libd\\_chr1-chr1\\_AA\\_scheme1 & 87819622 & 1e+04 &   26 &          NA & 0.001864566 & 1.0 &  0.01267766 & 0.9632230\\\\\n",
       "\tcor67 & libd\\_chr1-chr1\\_AA\\_scheme1 & 87819622 & 2e+04 &   41 &          NA & 0.001864566 & 1.0 &  0.01267766 & 3.8250542\\\\\n",
       "\tcor68 & libd\\_chr1-chr1\\_AA\\_scheme1 & 87819622 & 5e+04 &  101 &  0.41957878 & 0.001843354 & 0.0 & 12.67765920 & 3.1712182\\\\\n",
       "\tcor69 & libd\\_chr1-chr1\\_AA\\_scheme1 & 87819622 & 1e+05 &  235 &  0.40735518 & 0.001826844 & 0.0 & 12.67765920 & 5.1417520\\\\\n",
       "\tcor70 & libd\\_chr1-chr1\\_AA\\_scheme1 & 87819622 & 2e+05 &  593 &  0.42066228 & 0.001822345 & 0.0 & 18.16085213 & 2.8319409\\\\\n",
       "\tcor71 & libd\\_chr1-chr1\\_AA\\_scheme1 & 87819622 & 5e+05 & 1338 &          NA & 0.001864566 & 0.1 &  0.18160852 & 3.4728050\\\\\n",
       "\tcor72 & libd\\_chr1-chr1\\_AA\\_scheme1 & 87819799 & 2e+03 &    4 &  0.13385564 & 0.001607756 & 0.0 &  3.46278904 & 0.6704330\\\\\n",
       "\tcor73 & libd\\_chr1-chr1\\_AA\\_scheme1 & 87819799 & 5e+03 &   13 &          NA & 0.001608561 & 1.0 &  0.01230537 & 0.8373291\\\\\n",
       "\tcor74 & libd\\_chr1-chr1\\_AA\\_scheme1 & 87819799 & 1e+04 &   25 &          NA & 0.001608561 & 1.0 &  0.01230537 & 0.9522300\\\\\n",
       "\tcor75 & libd\\_chr1-chr1\\_AA\\_scheme1 & 87819799 & 2e+04 &   41 &          NA & 0.001608561 & 1.0 &  0.01230537 & 3.7801640\\\\\n",
       "\tcor76 & libd\\_chr1-chr1\\_AA\\_scheme1 & 87819799 & 5e+04 &  101 &  0.39593854 & 0.001590987 & 0.0 & 12.30536699 & 3.2898390\\\\\n",
       "\tcor77 & libd\\_chr1-chr1\\_AA\\_scheme1 & 87819799 & 1e+05 &  235 &  0.35530787 & 0.001582908 & 0.0 & 12.30536699 & 4.9669080\\\\\n",
       "\tcor78 & libd\\_chr1-chr1\\_AA\\_scheme1 & 87819799 & 2e+05 &  591 & -0.53584666 & 0.001608561 & 0.1 &  0.17720851 & 2.8933680\\\\\n",
       "\tcor79 & libd\\_chr1-chr1\\_AA\\_scheme1 & 87819799 & 5e+05 & 1338 & -0.53584666 & 0.001608561 & 0.1 &  0.17720851 & 3.5037580\\\\\n",
       "\tcor80 & libd\\_chr1-chr1\\_AA\\_scheme1 & 87819982 & 2e+03 &    4 &  0.08843370 & 0.001371528 & 0.0 &  3.97422703 & 0.6767032\\\\\n",
       "\tcor81 & libd\\_chr1-chr1\\_AA\\_scheme1 & 87819982 & 5e+03 &   13 &          NA & 0.001372035 & 1.0 &  0.01171740 & 0.7587221\\\\\n",
       "\tcor82 & libd\\_chr1-chr1\\_AA\\_scheme1 & 87819982 & 1e+04 &   23 &          NA & 0.001372035 & 1.0 &  0.01171740 & 0.8823149\\\\\n",
       "\tcor83 & libd\\_chr1-chr1\\_AA\\_scheme1 & 87819982 & 2e+04 &   41 &          NA & 0.001372035 & 1.0 &  0.01171740 & 3.8567050\\\\\n",
       "\tcor84 & libd\\_chr1-chr1\\_AA\\_scheme1 & 87819982 & 5e+04 &  101 &  0.36222718 & 0.001357944 & 0.0 & 11.71739881 & 3.1541760\\\\\n",
       "\tcor85 & libd\\_chr1-chr1\\_AA\\_scheme1 & 87819982 & 1e+05 &  235 &  0.28177841 & 0.001357909 & 0.0 & 11.71739881 & 4.8724809\\\\\n",
       "\tcor86 & libd\\_chr1-chr1\\_AA\\_scheme1 & 87819982 & 2e+05 &  591 &          NA & 0.001372035 & 0.1 &  0.17168424 & 2.8980060\\\\\n",
       "\tcor87 & libd\\_chr1-chr1\\_AA\\_scheme1 & 87819982 & 5e+05 & 1337 &          NA & 0.001372035 & 0.1 &  0.17168424 & 3.4777489\\\\\n",
       "\tcor88 & libd\\_chr1-chr1\\_AA\\_scheme1 & 87820227 & 2e+03 &    5 &  0.03627875 & 0.001163211 & 0.0 &  5.42522079 & 0.7194932\\\\\n",
       "\tcor89 & libd\\_chr1-chr1\\_AA\\_scheme1 & 87820227 & 5e+03 &   12 &          NA & 0.001163499 & 1.0 &  0.01068602 & 0.8214662\\\\\n",
       "\tcor90 & libd\\_chr1-chr1\\_AA\\_scheme1 & 87820227 & 1e+04 &   23 & -0.11330783 & 0.001164952 & 0.0 & 10.68601577 & 0.8784039\\\\\n",
       "\tcor91 & libd\\_chr1-chr1\\_AA\\_scheme1 & 87820227 & 2e+04 &   40 &  0.15978794 & 0.001161530 & 0.0 & 10.68601577 & 4.1890092\\\\\n",
       "\tcor92 & libd\\_chr1-chr1\\_AA\\_scheme1 & 87820227 & 5e+04 &  100 &  0.30341105 & 0.001153094 & 0.0 & 10.74874761 & 3.2162371\\\\\n",
       "\tcor93 & libd\\_chr1-chr1\\_AA\\_scheme1 & 87820227 & 1e+05 &  234 &  0.17628518 & 0.001161200 & 0.0 & 10.74874761 & 5.1846750\\\\\n",
       "\tcor94 & libd\\_chr1-chr1\\_AA\\_scheme1 & 87820227 & 2e+05 &  591 &          NA & 0.001163499 & 0.1 &  0.16316110 & 2.9444020\\\\\n",
       "\tcor95 & libd\\_chr1-chr1\\_AA\\_scheme1 & 87820227 & 5e+05 & 1337 &          NA & 0.001163499 & 0.1 &  0.16316110 & 3.5109901\\\\\n",
       "\\end{tabular}\n"
      ],
      "text/markdown": [
       "\n",
       "A data.frame: 96 × 9\n",
       "\n",
       "| <!--/--> | scaffoldIdentifier &lt;chr&gt; | methylationPosition &lt;int&gt; | windowSize &lt;dbl&gt; | nSNPs &lt;int&gt; | cor &lt;dbl&gt; | mse &lt;dbl&gt; | alpha &lt;dbl&gt; | lambda &lt;dbl&gt; | runtime &lt;dbl&gt; |\n",
       "|---|---|---|---|---|---|---|---|---|---|\n",
       "| cor | libd_chr1-chr1_AA_scheme1 | 87818200 | 1e+03 |    3 |  0.05811582 | 0.001204599 | 0.0 |  3.42100197 | 0.8471191 |\n",
       "| cor1 | libd_chr1-chr1_AA_scheme1 | 87818200 | 2e+03 |    7 |  0.09706483 | 0.001204267 | 0.0 |  5.15138270 | 0.7063329 |\n",
       "| cor2 | libd_chr1-chr1_AA_scheme1 | 87818200 | 5e+03 |   15 |  0.19280609 | 0.001203523 | 0.0 |  5.15138270 | 1.4051371 |\n",
       "| cor3 | libd_chr1-chr1_AA_scheme1 | 87818200 | 1e+04 |   25 |          NA | 0.001204809 | 0.1 |  0.09023399 | 0.9360950 |\n",
       "| cor4 | libd_chr1-chr1_AA_scheme1 | 87818200 | 2e+04 |   42 |  0.26418881 | 0.001201189 | 0.0 |  9.02339933 | 4.8685620 |\n",
       "| cor5 | libd_chr1-chr1_AA_scheme1 | 87818200 | 5e+04 |  100 |  0.43693084 | 0.001193544 | 0.0 |  9.02339933 | 3.1526499 |\n",
       "| cor6 | libd_chr1-chr1_AA_scheme1 | 87818200 | 1e+05 |  235 |  0.19516417 | 0.001204809 | 0.1 |  0.11940134 | 5.2693400 |\n",
       "| cor7 | libd_chr1-chr1_AA_scheme1 | 87818200 | 2e+05 |  591 |  0.53459738 | 0.001143726 | 0.0 | 14.56712409 | 2.8303020 |\n",
       "| cor8 | libd_chr1-chr1_AA_scheme1 | 87818200 | 5e+05 | 1336 | -0.32309257 | 0.001204809 | 0.1 |  0.14828041 | 3.4706271 |\n",
       "| cor9 | libd_chr1-chr1_AA_scheme1 | 87818244 | 1e+03 |    3 |  0.06575757 | 0.001264007 | 0.0 |  3.41513600 | 0.5878980 |\n",
       "| cor10 | libd_chr1-chr1_AA_scheme1 | 87818244 | 2e+03 |    6 |  0.11511511 | 0.001263589 | 0.0 |  5.15636414 | 0.6513920 |\n",
       "| cor11 | libd_chr1-chr1_AA_scheme1 | 87818244 | 5e+03 |   15 |  0.21512051 | 0.001262723 | 0.0 |  5.15636414 | 0.7695451 |\n",
       "| cor12 | libd_chr1-chr1_AA_scheme1 | 87818244 | 1e+04 |   25 |          NA | 0.001264256 | 0.1 |  0.09128776 | 0.9242311 |\n",
       "| cor13 | libd_chr1-chr1_AA_scheme1 | 87818244 | 2e+04 |   42 |  0.27145739 | 0.001260347 | 0.0 |  9.12877556 | 4.8568461 |\n",
       "| cor14 | libd_chr1-chr1_AA_scheme1 | 87818244 | 5e+04 |   99 |  0.43527129 | 0.001252316 | 0.0 |  9.12877556 | 3.1732700 |\n",
       "| cor15 | libd_chr1-chr1_AA_scheme1 | 87818244 | 1e+05 |  235 |  0.20456556 | 0.001264256 | 0.1 |  0.12105441 | 5.2341151 |\n",
       "| cor16 | libd_chr1-chr1_AA_scheme1 | 87818244 | 2e+05 |  591 |  0.54078298 | 0.001200464 | 0.0 | 14.82425289 | 2.8047771 |\n",
       "| cor17 | libd_chr1-chr1_AA_scheme1 | 87818244 | 5e+05 | 1336 |          NA | 0.001264256 | 0.1 |  0.15001911 | 3.4863081 |\n",
       "| cor18 | libd_chr1-chr1_AA_scheme1 | 87818262 | 1e+03 |    3 |  0.06871587 | 0.001288530 | 0.0 |  3.41283375 | 0.5987990 |\n",
       "| cor19 | libd_chr1-chr1_AA_scheme1 | 87818262 | 2e+03 |    6 |  0.12177911 | 0.001288074 | 0.0 |  5.15808085 | 0.6530170 |\n",
       "| cor20 | libd_chr1-chr1_AA_scheme1 | 87818262 | 5e+03 |   15 |  0.22373406 | 0.001287157 | 0.0 |  5.15808085 | 0.7725420 |\n",
       "| cor21 | libd_chr1-chr1_AA_scheme1 | 87818262 | 1e+04 |   25 | -0.11713074 | 0.001288795 | 0.1 |  0.09170415 | 0.9221978 |\n",
       "| cor22 | libd_chr1-chr1_AA_scheme1 | 87818262 | 2e+04 |   42 |  0.27432592 | 0.001284765 | 0.0 |  9.17041506 | 5.0143821 |\n",
       "| cor23 | libd_chr1-chr1_AA_scheme1 | 87818262 | 5e+04 |  100 |  0.43684797 | 0.001276506 | 0.0 |  9.17041506 | 3.2133851 |\n",
       "| cor24 | libd_chr1-chr1_AA_scheme1 | 87818262 | 1e+05 |  235 |          NA | 0.001288795 | 0.1 |  0.12171270 | 5.3597870 |\n",
       "| cor25 | libd_chr1-chr1_AA_scheme1 | 87818262 | 2e+05 |  591 |  0.54317536 | 0.001223903 | 0.0 | 14.92751468 | 2.7224159 |\n",
       "| cor26 | libd_chr1-chr1_AA_scheme1 | 87818262 | 5e+05 | 1336 |          NA | 0.001288795 | 0.1 |  0.15070867 | 3.4687490 |\n",
       "| cor27 | libd_chr1-chr1_AA_scheme1 | 87818291 | 1e+03 |    3 |  0.07328687 | 0.001328240 | 0.0 |  3.40926727 | 0.6128731 |\n",
       "| cor28 | libd_chr1-chr1_AA_scheme1 | 87818291 | 2e+03 |    6 |  0.13217588 | 0.001327720 | 0.0 |  5.16046701 | 0.6505949 |\n",
       "| cor29 | libd_chr1-chr1_AA_scheme1 | 87818291 | 5e+03 |   15 |  0.23697649 | 0.001326717 | 0.0 |  5.16046701 | 0.7745490 |\n",
       "| ⋮ | ⋮ | ⋮ | ⋮ | ⋮ | ⋮ | ⋮ | ⋮ | ⋮ | ⋮ |\n",
       "| cor66 | libd_chr1-chr1_AA_scheme1 | 87819622 | 1e+04 |   26 |          NA | 0.001864566 | 1.0 |  0.01267766 | 0.9632230 |\n",
       "| cor67 | libd_chr1-chr1_AA_scheme1 | 87819622 | 2e+04 |   41 |          NA | 0.001864566 | 1.0 |  0.01267766 | 3.8250542 |\n",
       "| cor68 | libd_chr1-chr1_AA_scheme1 | 87819622 | 5e+04 |  101 |  0.41957878 | 0.001843354 | 0.0 | 12.67765920 | 3.1712182 |\n",
       "| cor69 | libd_chr1-chr1_AA_scheme1 | 87819622 | 1e+05 |  235 |  0.40735518 | 0.001826844 | 0.0 | 12.67765920 | 5.1417520 |\n",
       "| cor70 | libd_chr1-chr1_AA_scheme1 | 87819622 | 2e+05 |  593 |  0.42066228 | 0.001822345 | 0.0 | 18.16085213 | 2.8319409 |\n",
       "| cor71 | libd_chr1-chr1_AA_scheme1 | 87819622 | 5e+05 | 1338 |          NA | 0.001864566 | 0.1 |  0.18160852 | 3.4728050 |\n",
       "| cor72 | libd_chr1-chr1_AA_scheme1 | 87819799 | 2e+03 |    4 |  0.13385564 | 0.001607756 | 0.0 |  3.46278904 | 0.6704330 |\n",
       "| cor73 | libd_chr1-chr1_AA_scheme1 | 87819799 | 5e+03 |   13 |          NA | 0.001608561 | 1.0 |  0.01230537 | 0.8373291 |\n",
       "| cor74 | libd_chr1-chr1_AA_scheme1 | 87819799 | 1e+04 |   25 |          NA | 0.001608561 | 1.0 |  0.01230537 | 0.9522300 |\n",
       "| cor75 | libd_chr1-chr1_AA_scheme1 | 87819799 | 2e+04 |   41 |          NA | 0.001608561 | 1.0 |  0.01230537 | 3.7801640 |\n",
       "| cor76 | libd_chr1-chr1_AA_scheme1 | 87819799 | 5e+04 |  101 |  0.39593854 | 0.001590987 | 0.0 | 12.30536699 | 3.2898390 |\n",
       "| cor77 | libd_chr1-chr1_AA_scheme1 | 87819799 | 1e+05 |  235 |  0.35530787 | 0.001582908 | 0.0 | 12.30536699 | 4.9669080 |\n",
       "| cor78 | libd_chr1-chr1_AA_scheme1 | 87819799 | 2e+05 |  591 | -0.53584666 | 0.001608561 | 0.1 |  0.17720851 | 2.8933680 |\n",
       "| cor79 | libd_chr1-chr1_AA_scheme1 | 87819799 | 5e+05 | 1338 | -0.53584666 | 0.001608561 | 0.1 |  0.17720851 | 3.5037580 |\n",
       "| cor80 | libd_chr1-chr1_AA_scheme1 | 87819982 | 2e+03 |    4 |  0.08843370 | 0.001371528 | 0.0 |  3.97422703 | 0.6767032 |\n",
       "| cor81 | libd_chr1-chr1_AA_scheme1 | 87819982 | 5e+03 |   13 |          NA | 0.001372035 | 1.0 |  0.01171740 | 0.7587221 |\n",
       "| cor82 | libd_chr1-chr1_AA_scheme1 | 87819982 | 1e+04 |   23 |          NA | 0.001372035 | 1.0 |  0.01171740 | 0.8823149 |\n",
       "| cor83 | libd_chr1-chr1_AA_scheme1 | 87819982 | 2e+04 |   41 |          NA | 0.001372035 | 1.0 |  0.01171740 | 3.8567050 |\n",
       "| cor84 | libd_chr1-chr1_AA_scheme1 | 87819982 | 5e+04 |  101 |  0.36222718 | 0.001357944 | 0.0 | 11.71739881 | 3.1541760 |\n",
       "| cor85 | libd_chr1-chr1_AA_scheme1 | 87819982 | 1e+05 |  235 |  0.28177841 | 0.001357909 | 0.0 | 11.71739881 | 4.8724809 |\n",
       "| cor86 | libd_chr1-chr1_AA_scheme1 | 87819982 | 2e+05 |  591 |          NA | 0.001372035 | 0.1 |  0.17168424 | 2.8980060 |\n",
       "| cor87 | libd_chr1-chr1_AA_scheme1 | 87819982 | 5e+05 | 1337 |          NA | 0.001372035 | 0.1 |  0.17168424 | 3.4777489 |\n",
       "| cor88 | libd_chr1-chr1_AA_scheme1 | 87820227 | 2e+03 |    5 |  0.03627875 | 0.001163211 | 0.0 |  5.42522079 | 0.7194932 |\n",
       "| cor89 | libd_chr1-chr1_AA_scheme1 | 87820227 | 5e+03 |   12 |          NA | 0.001163499 | 1.0 |  0.01068602 | 0.8214662 |\n",
       "| cor90 | libd_chr1-chr1_AA_scheme1 | 87820227 | 1e+04 |   23 | -0.11330783 | 0.001164952 | 0.0 | 10.68601577 | 0.8784039 |\n",
       "| cor91 | libd_chr1-chr1_AA_scheme1 | 87820227 | 2e+04 |   40 |  0.15978794 | 0.001161530 | 0.0 | 10.68601577 | 4.1890092 |\n",
       "| cor92 | libd_chr1-chr1_AA_scheme1 | 87820227 | 5e+04 |  100 |  0.30341105 | 0.001153094 | 0.0 | 10.74874761 | 3.2162371 |\n",
       "| cor93 | libd_chr1-chr1_AA_scheme1 | 87820227 | 1e+05 |  234 |  0.17628518 | 0.001161200 | 0.0 | 10.74874761 | 5.1846750 |\n",
       "| cor94 | libd_chr1-chr1_AA_scheme1 | 87820227 | 2e+05 |  591 |          NA | 0.001163499 | 0.1 |  0.16316110 | 2.9444020 |\n",
       "| cor95 | libd_chr1-chr1_AA_scheme1 | 87820227 | 5e+05 | 1337 |          NA | 0.001163499 | 0.1 |  0.16316110 | 3.5109901 |\n",
       "\n"
      ],
      "text/plain": [
       "      scaffoldIdentifier        methylationPosition windowSize nSNPs\n",
       "cor   libd_chr1-chr1_AA_scheme1 87818200            1e+03         3 \n",
       "cor1  libd_chr1-chr1_AA_scheme1 87818200            2e+03         7 \n",
       "cor2  libd_chr1-chr1_AA_scheme1 87818200            5e+03        15 \n",
       "cor3  libd_chr1-chr1_AA_scheme1 87818200            1e+04        25 \n",
       "cor4  libd_chr1-chr1_AA_scheme1 87818200            2e+04        42 \n",
       "cor5  libd_chr1-chr1_AA_scheme1 87818200            5e+04       100 \n",
       "cor6  libd_chr1-chr1_AA_scheme1 87818200            1e+05       235 \n",
       "cor7  libd_chr1-chr1_AA_scheme1 87818200            2e+05       591 \n",
       "cor8  libd_chr1-chr1_AA_scheme1 87818200            5e+05      1336 \n",
       "cor9  libd_chr1-chr1_AA_scheme1 87818244            1e+03         3 \n",
       "cor10 libd_chr1-chr1_AA_scheme1 87818244            2e+03         6 \n",
       "cor11 libd_chr1-chr1_AA_scheme1 87818244            5e+03        15 \n",
       "cor12 libd_chr1-chr1_AA_scheme1 87818244            1e+04        25 \n",
       "cor13 libd_chr1-chr1_AA_scheme1 87818244            2e+04        42 \n",
       "cor14 libd_chr1-chr1_AA_scheme1 87818244            5e+04        99 \n",
       "cor15 libd_chr1-chr1_AA_scheme1 87818244            1e+05       235 \n",
       "cor16 libd_chr1-chr1_AA_scheme1 87818244            2e+05       591 \n",
       "cor17 libd_chr1-chr1_AA_scheme1 87818244            5e+05      1336 \n",
       "cor18 libd_chr1-chr1_AA_scheme1 87818262            1e+03         3 \n",
       "cor19 libd_chr1-chr1_AA_scheme1 87818262            2e+03         6 \n",
       "cor20 libd_chr1-chr1_AA_scheme1 87818262            5e+03        15 \n",
       "cor21 libd_chr1-chr1_AA_scheme1 87818262            1e+04        25 \n",
       "cor22 libd_chr1-chr1_AA_scheme1 87818262            2e+04        42 \n",
       "cor23 libd_chr1-chr1_AA_scheme1 87818262            5e+04       100 \n",
       "cor24 libd_chr1-chr1_AA_scheme1 87818262            1e+05       235 \n",
       "cor25 libd_chr1-chr1_AA_scheme1 87818262            2e+05       591 \n",
       "cor26 libd_chr1-chr1_AA_scheme1 87818262            5e+05      1336 \n",
       "cor27 libd_chr1-chr1_AA_scheme1 87818291            1e+03         3 \n",
       "cor28 libd_chr1-chr1_AA_scheme1 87818291            2e+03         6 \n",
       "cor29 libd_chr1-chr1_AA_scheme1 87818291            5e+03        15 \n",
       "⋮     ⋮                         ⋮                   ⋮          ⋮    \n",
       "cor66 libd_chr1-chr1_AA_scheme1 87819622            1e+04        26 \n",
       "cor67 libd_chr1-chr1_AA_scheme1 87819622            2e+04        41 \n",
       "cor68 libd_chr1-chr1_AA_scheme1 87819622            5e+04       101 \n",
       "cor69 libd_chr1-chr1_AA_scheme1 87819622            1e+05       235 \n",
       "cor70 libd_chr1-chr1_AA_scheme1 87819622            2e+05       593 \n",
       "cor71 libd_chr1-chr1_AA_scheme1 87819622            5e+05      1338 \n",
       "cor72 libd_chr1-chr1_AA_scheme1 87819799            2e+03         4 \n",
       "cor73 libd_chr1-chr1_AA_scheme1 87819799            5e+03        13 \n",
       "cor74 libd_chr1-chr1_AA_scheme1 87819799            1e+04        25 \n",
       "cor75 libd_chr1-chr1_AA_scheme1 87819799            2e+04        41 \n",
       "cor76 libd_chr1-chr1_AA_scheme1 87819799            5e+04       101 \n",
       "cor77 libd_chr1-chr1_AA_scheme1 87819799            1e+05       235 \n",
       "cor78 libd_chr1-chr1_AA_scheme1 87819799            2e+05       591 \n",
       "cor79 libd_chr1-chr1_AA_scheme1 87819799            5e+05      1338 \n",
       "cor80 libd_chr1-chr1_AA_scheme1 87819982            2e+03         4 \n",
       "cor81 libd_chr1-chr1_AA_scheme1 87819982            5e+03        13 \n",
       "cor82 libd_chr1-chr1_AA_scheme1 87819982            1e+04        23 \n",
       "cor83 libd_chr1-chr1_AA_scheme1 87819982            2e+04        41 \n",
       "cor84 libd_chr1-chr1_AA_scheme1 87819982            5e+04       101 \n",
       "cor85 libd_chr1-chr1_AA_scheme1 87819982            1e+05       235 \n",
       "cor86 libd_chr1-chr1_AA_scheme1 87819982            2e+05       591 \n",
       "cor87 libd_chr1-chr1_AA_scheme1 87819982            5e+05      1337 \n",
       "cor88 libd_chr1-chr1_AA_scheme1 87820227            2e+03         5 \n",
       "cor89 libd_chr1-chr1_AA_scheme1 87820227            5e+03        12 \n",
       "cor90 libd_chr1-chr1_AA_scheme1 87820227            1e+04        23 \n",
       "cor91 libd_chr1-chr1_AA_scheme1 87820227            2e+04        40 \n",
       "cor92 libd_chr1-chr1_AA_scheme1 87820227            5e+04       100 \n",
       "cor93 libd_chr1-chr1_AA_scheme1 87820227            1e+05       234 \n",
       "cor94 libd_chr1-chr1_AA_scheme1 87820227            2e+05       591 \n",
       "cor95 libd_chr1-chr1_AA_scheme1 87820227            5e+05      1337 \n",
       "      cor         mse         alpha lambda      runtime  \n",
       "cor    0.05811582 0.001204599 0.0    3.42100197 0.8471191\n",
       "cor1   0.09706483 0.001204267 0.0    5.15138270 0.7063329\n",
       "cor2   0.19280609 0.001203523 0.0    5.15138270 1.4051371\n",
       "cor3           NA 0.001204809 0.1    0.09023399 0.9360950\n",
       "cor4   0.26418881 0.001201189 0.0    9.02339933 4.8685620\n",
       "cor5   0.43693084 0.001193544 0.0    9.02339933 3.1526499\n",
       "cor6   0.19516417 0.001204809 0.1    0.11940134 5.2693400\n",
       "cor7   0.53459738 0.001143726 0.0   14.56712409 2.8303020\n",
       "cor8  -0.32309257 0.001204809 0.1    0.14828041 3.4706271\n",
       "cor9   0.06575757 0.001264007 0.0    3.41513600 0.5878980\n",
       "cor10  0.11511511 0.001263589 0.0    5.15636414 0.6513920\n",
       "cor11  0.21512051 0.001262723 0.0    5.15636414 0.7695451\n",
       "cor12          NA 0.001264256 0.1    0.09128776 0.9242311\n",
       "cor13  0.27145739 0.001260347 0.0    9.12877556 4.8568461\n",
       "cor14  0.43527129 0.001252316 0.0    9.12877556 3.1732700\n",
       "cor15  0.20456556 0.001264256 0.1    0.12105441 5.2341151\n",
       "cor16  0.54078298 0.001200464 0.0   14.82425289 2.8047771\n",
       "cor17          NA 0.001264256 0.1    0.15001911 3.4863081\n",
       "cor18  0.06871587 0.001288530 0.0    3.41283375 0.5987990\n",
       "cor19  0.12177911 0.001288074 0.0    5.15808085 0.6530170\n",
       "cor20  0.22373406 0.001287157 0.0    5.15808085 0.7725420\n",
       "cor21 -0.11713074 0.001288795 0.1    0.09170415 0.9221978\n",
       "cor22  0.27432592 0.001284765 0.0    9.17041506 5.0143821\n",
       "cor23  0.43684797 0.001276506 0.0    9.17041506 3.2133851\n",
       "cor24          NA 0.001288795 0.1    0.12171270 5.3597870\n",
       "cor25  0.54317536 0.001223903 0.0   14.92751468 2.7224159\n",
       "cor26          NA 0.001288795 0.1    0.15070867 3.4687490\n",
       "cor27  0.07328687 0.001328240 0.0    3.40926727 0.6128731\n",
       "cor28  0.13217588 0.001327720 0.0    5.16046701 0.6505949\n",
       "cor29  0.23697649 0.001326717 0.0    5.16046701 0.7745490\n",
       "⋮     ⋮           ⋮           ⋮     ⋮           ⋮        \n",
       "cor66          NA 0.001864566 1.0    0.01267766 0.9632230\n",
       "cor67          NA 0.001864566 1.0    0.01267766 3.8250542\n",
       "cor68  0.41957878 0.001843354 0.0   12.67765920 3.1712182\n",
       "cor69  0.40735518 0.001826844 0.0   12.67765920 5.1417520\n",
       "cor70  0.42066228 0.001822345 0.0   18.16085213 2.8319409\n",
       "cor71          NA 0.001864566 0.1    0.18160852 3.4728050\n",
       "cor72  0.13385564 0.001607756 0.0    3.46278904 0.6704330\n",
       "cor73          NA 0.001608561 1.0    0.01230537 0.8373291\n",
       "cor74          NA 0.001608561 1.0    0.01230537 0.9522300\n",
       "cor75          NA 0.001608561 1.0    0.01230537 3.7801640\n",
       "cor76  0.39593854 0.001590987 0.0   12.30536699 3.2898390\n",
       "cor77  0.35530787 0.001582908 0.0   12.30536699 4.9669080\n",
       "cor78 -0.53584666 0.001608561 0.1    0.17720851 2.8933680\n",
       "cor79 -0.53584666 0.001608561 0.1    0.17720851 3.5037580\n",
       "cor80  0.08843370 0.001371528 0.0    3.97422703 0.6767032\n",
       "cor81          NA 0.001372035 1.0    0.01171740 0.7587221\n",
       "cor82          NA 0.001372035 1.0    0.01171740 0.8823149\n",
       "cor83          NA 0.001372035 1.0    0.01171740 3.8567050\n",
       "cor84  0.36222718 0.001357944 0.0   11.71739881 3.1541760\n",
       "cor85  0.28177841 0.001357909 0.0   11.71739881 4.8724809\n",
       "cor86          NA 0.001372035 0.1    0.17168424 2.8980060\n",
       "cor87          NA 0.001372035 0.1    0.17168424 3.4777489\n",
       "cor88  0.03627875 0.001163211 0.0    5.42522079 0.7194932\n",
       "cor89          NA 0.001163499 1.0    0.01068602 0.8214662\n",
       "cor90 -0.11330783 0.001164952 0.0   10.68601577 0.8784039\n",
       "cor91  0.15978794 0.001161530 0.0   10.68601577 4.1890092\n",
       "cor92  0.30341105 0.001153094 0.0   10.74874761 3.2162371\n",
       "cor93  0.17628518 0.001161200 0.0   10.74874761 5.1846750\n",
       "cor94          NA 0.001163499 0.1    0.16316110 2.9444020\n",
       "cor95          NA 0.001163499 0.1    0.16316110 3.5109901"
      ]
     },
     "metadata": {},
     "output_type": "display_data"
    }
   ],
   "source": [
    "df_1"
   ]
  },
  {
   "cell_type": "code",
   "execution_count": 12,
   "id": "fe554153-68df-4ba9-a8c4-785efb172f5f",
   "metadata": {},
   "outputs": [
    {
     "name": "stdout",
     "output_type": "stream",
     "text": [
      "Processed chunks 1000000 through 1000010 in 0 hours, 4 minutes and 2 seconds.\n"
     ]
    }
   ],
   "source": [
    "end_time <- Sys.time()  # End time capture\n",
    "total_runtime <- end_time - start_time\n",
    "total_runtime_seconds <- as.numeric(total_runtime, units = \"secs\")\n",
    "hours <- total_runtime_seconds %/% 3600\n",
    "minutes <- (total_runtime_seconds %% 3600) %/% 60\n",
    "seconds <- total_runtime_seconds %% 60\n",
    "\n",
    "# Report the runtime\n",
    "cat(sprintf(\"Processed chunks %d through %d in %d hours, %d minutes and %d seconds.\\n\",\n",
    "            args$chunk1, args$chunk2, as.integer(hours), as.integer(minutes), as.integer(seconds)))"
   ]
  },
  {
   "cell_type": "markdown",
   "id": "6979d0bd-a04c-4c6b-a26f-7635d7a05e19",
   "metadata": {},
   "source": [
    "## Try double-nested, two-step CV scheme"
   ]
  },
  {
   "cell_type": "code",
   "execution_count": 13,
   "id": "3b9bc633-2d90-4917-8adf-4845030cfab6",
   "metadata": {},
   "outputs": [],
   "source": [
    "start_time <- Sys.time() "
   ]
  },
  {
   "cell_type": "code",
   "execution_count": 14,
   "id": "a55c3674-db3e-451a-b9d9-cf64ef21268b",
   "metadata": {},
   "outputs": [],
   "source": [
    "scaffoldIdentifier_2 <- paste0(scaffoldIdentifier_prefix, \"_scheme2\")"
   ]
  },
  {
   "cell_type": "code",
   "execution_count": 15,
   "id": "affb031f-acea-4c81-abe1-c5289292d93f",
   "metadata": {
    "collapsed": true,
    "jupyter": {
     "outputs_hidden": true
    }
   },
   "outputs": [
    {
     "name": "stdout",
     "output_type": "stream",
     "text": [
      "Processing methylation site index:  1000000 \n",
      "Testing methylation site at position  87818200 \n",
      "Testing window size:  1000 \n",
      "Dimensions of SNP matrix:  111 3 \n",
      "\n",
      "Testing window size:  2000 \n",
      "Dimensions of SNP matrix:  111 7 \n",
      "\n",
      "Testing window size:  5000 \n",
      "Dimensions of SNP matrix:  111 15 \n",
      "\n",
      "Testing window size:  10000 \n",
      "Dimensions of SNP matrix:  111 25 \n",
      "\n",
      "Testing window size:  20000 \n",
      "Dimensions of SNP matrix:  111 42 \n",
      "\n",
      "Testing window size:  50000 \n",
      "Dimensions of SNP matrix:  111 100 \n",
      "\n",
      "Testing window size:  1e+05 \n",
      "Dimensions of SNP matrix:  111 235 \n",
      "\n",
      "Testing window size:  2e+05 \n",
      "Dimensions of SNP matrix:  111 591 \n",
      "\n",
      "Testing window size:  5e+05 \n",
      "Dimensions of SNP matrix:  111 1336 \n",
      "\n",
      "Processing methylation site index:  1000001 \n",
      "Testing methylation site at position  87818244 \n",
      "Testing window size:  1000 \n",
      "Dimensions of SNP matrix:  111 3 \n",
      "\n",
      "Testing window size:  2000 \n",
      "Dimensions of SNP matrix:  111 6 \n",
      "\n",
      "Testing window size:  5000 \n",
      "Dimensions of SNP matrix:  111 15 \n",
      "\n",
      "Testing window size:  10000 \n",
      "Dimensions of SNP matrix:  111 25 \n",
      "\n",
      "Testing window size:  20000 \n",
      "Dimensions of SNP matrix:  111 42 \n",
      "\n",
      "Testing window size:  50000 \n",
      "Dimensions of SNP matrix:  111 99 \n",
      "\n",
      "Testing window size:  1e+05 \n",
      "Dimensions of SNP matrix:  111 235 \n",
      "\n",
      "Testing window size:  2e+05 \n",
      "Dimensions of SNP matrix:  111 591 \n",
      "\n",
      "Testing window size:  5e+05 \n",
      "Dimensions of SNP matrix:  111 1336 \n",
      "\n",
      "Processing methylation site index:  1000002 \n",
      "Testing methylation site at position  87818262 \n",
      "Testing window size:  1000 \n",
      "Dimensions of SNP matrix:  111 3 \n",
      "\n",
      "Testing window size:  2000 \n",
      "Dimensions of SNP matrix:  111 6 \n",
      "\n",
      "Testing window size:  5000 \n",
      "Dimensions of SNP matrix:  111 15 \n",
      "\n",
      "Testing window size:  10000 \n",
      "Dimensions of SNP matrix:  111 25 \n",
      "\n",
      "Testing window size:  20000 \n",
      "Dimensions of SNP matrix:  111 42 \n",
      "\n",
      "Testing window size:  50000 \n",
      "Dimensions of SNP matrix:  111 100 \n",
      "\n",
      "Testing window size:  1e+05 \n",
      "Dimensions of SNP matrix:  111 235 \n",
      "\n",
      "Testing window size:  2e+05 \n",
      "Dimensions of SNP matrix:  111 591 \n",
      "\n",
      "Testing window size:  5e+05 \n",
      "Dimensions of SNP matrix:  111 1336 \n",
      "\n",
      "Processing methylation site index:  1000003 \n",
      "Testing methylation site at position  87818291 \n",
      "Testing window size:  1000 \n",
      "Dimensions of SNP matrix:  111 3 \n",
      "\n",
      "Testing window size:  2000 \n",
      "Dimensions of SNP matrix:  111 6 \n",
      "\n",
      "Testing window size:  5000 \n",
      "Dimensions of SNP matrix:  111 15 \n",
      "\n",
      "Testing window size:  10000 \n",
      "Dimensions of SNP matrix:  111 25 \n",
      "\n",
      "Testing window size:  20000 \n",
      "Dimensions of SNP matrix:  111 42 \n",
      "\n",
      "Testing window size:  50000 \n",
      "Dimensions of SNP matrix:  111 99 \n",
      "\n",
      "Testing window size:  1e+05 \n",
      "Dimensions of SNP matrix:  111 235 \n",
      "\n",
      "Testing window size:  2e+05 \n",
      "Dimensions of SNP matrix:  111 591 \n",
      "\n",
      "Testing window size:  5e+05 \n",
      "Dimensions of SNP matrix:  111 1336 \n",
      "\n",
      "Processing methylation site index:  1000004 \n",
      "Testing methylation site at position  87818777 \n",
      "Testing window size:  1000 \n",
      "Dimensions of SNP matrix:  111 2 \n",
      "\n",
      "Testing window size:  2000 \n",
      "Dimensions of SNP matrix:  111 5 \n",
      "\n",
      "Testing window size:  5000 \n",
      "Dimensions of SNP matrix:  111 13 \n",
      "\n",
      "Testing window size:  10000 \n",
      "Dimensions of SNP matrix:  111 26 \n",
      "\n",
      "Testing window size:  20000 \n",
      "Dimensions of SNP matrix:  111 42 \n",
      "\n",
      "Testing window size:  50000 \n",
      "Dimensions of SNP matrix:  111 102 \n",
      "\n",
      "Testing window size:  1e+05 \n",
      "Dimensions of SNP matrix:  111 236 \n",
      "\n",
      "Testing window size:  2e+05 \n",
      "Dimensions of SNP matrix:  111 592 \n",
      "\n",
      "Testing window size:  5e+05 \n",
      "Dimensions of SNP matrix:  111 1336 \n",
      "\n",
      "Processing methylation site index:  1000005 \n",
      "Testing methylation site at position  87818847 \n",
      "Testing window size:  1000 \n",
      "Dimensions of SNP matrix:  111 2 \n",
      "\n",
      "Testing window size:  2000 \n",
      "Dimensions of SNP matrix:  111 5 \n",
      "\n",
      "Testing window size:  5000 \n",
      "Dimensions of SNP matrix:  111 13 \n",
      "\n",
      "Testing window size:  10000 \n",
      "Dimensions of SNP matrix:  111 26 \n",
      "\n",
      "Testing window size:  20000 \n",
      "Dimensions of SNP matrix:  111 42 \n",
      "\n",
      "Testing window size:  50000 \n",
      "Dimensions of SNP matrix:  111 101 \n",
      "\n",
      "Testing window size:  1e+05 \n",
      "Dimensions of SNP matrix:  111 236 \n",
      "\n",
      "Testing window size:  2e+05 \n",
      "Dimensions of SNP matrix:  111 592 \n",
      "\n",
      "Testing window size:  5e+05 \n",
      "Dimensions of SNP matrix:  111 1336 \n",
      "\n",
      "Processing methylation site index:  1000006 \n",
      "Testing methylation site at position  87819360 \n",
      "Testing window size:  1000 \n",
      "Dimensions of SNP matrix:  111 3 \n",
      "\n",
      "Testing window size:  2000 \n",
      "Dimensions of SNP matrix:  111 3 \n",
      "\n",
      "Testing window size:  5000 \n",
      "Dimensions of SNP matrix:  111 13 \n",
      "\n",
      "Testing window size:  10000 \n",
      "Dimensions of SNP matrix:  111 26 \n",
      "\n",
      "Testing window size:  20000 \n",
      "Dimensions of SNP matrix:  111 42 \n",
      "\n",
      "Testing window size:  50000 \n",
      "Dimensions of SNP matrix:  111 101 \n",
      "\n",
      "Testing window size:  1e+05 \n",
      "Dimensions of SNP matrix:  111 236 \n",
      "\n",
      "Testing window size:  2e+05 \n",
      "Dimensions of SNP matrix:  111 593 \n",
      "\n",
      "Testing window size:  5e+05 \n",
      "Dimensions of SNP matrix:  111 1337 \n",
      "\n",
      "Processing methylation site index:  1000007 \n",
      "Testing methylation site at position  87819622 \n",
      "Testing window size:  1000 \n",
      "Dimensions of SNP matrix:  111 2 \n",
      "\n",
      "Testing window size:  2000 \n",
      "Dimensions of SNP matrix:  111 3 \n",
      "\n",
      "Testing window size:  5000 \n",
      "Dimensions of SNP matrix:  111 13 \n",
      "\n",
      "Testing window size:  10000 \n",
      "Dimensions of SNP matrix:  111 26 \n",
      "\n",
      "Testing window size:  20000 \n",
      "Dimensions of SNP matrix:  111 41 \n",
      "\n",
      "Testing window size:  50000 \n",
      "Dimensions of SNP matrix:  111 101 \n",
      "\n",
      "Testing window size:  1e+05 \n",
      "Dimensions of SNP matrix:  111 235 \n",
      "\n",
      "Testing window size:  2e+05 \n",
      "Dimensions of SNP matrix:  111 593 \n",
      "\n",
      "Testing window size:  5e+05 \n",
      "Dimensions of SNP matrix:  111 1338 \n",
      "\n",
      "Processing methylation site index:  1000008 \n",
      "Testing methylation site at position  87819799 \n",
      "Testing window size:  1000 \n",
      "Dimensions of SNP matrix:  \n",
      "For site at position 87819799, no SNPs were found in the window of size 1000\n",
      "Testing window size:  2000 \n",
      "Dimensions of SNP matrix:  111 4 \n",
      "\n",
      "Testing window size:  5000 \n",
      "Dimensions of SNP matrix:  111 13 \n",
      "\n",
      "Testing window size:  10000 \n",
      "Dimensions of SNP matrix:  111 25 \n",
      "\n",
      "Testing window size:  20000 \n",
      "Dimensions of SNP matrix:  111 41 \n",
      "\n",
      "Testing window size:  50000 \n",
      "Dimensions of SNP matrix:  111 101 \n",
      "\n",
      "Testing window size:  1e+05 \n",
      "Dimensions of SNP matrix:  111 235 \n",
      "\n",
      "Testing window size:  2e+05 \n",
      "Dimensions of SNP matrix:  111 591 \n",
      "\n",
      "Testing window size:  5e+05 \n",
      "Dimensions of SNP matrix:  111 1338 \n",
      "\n",
      "Processing methylation site index:  1000009 \n",
      "Testing methylation site at position  87819982 \n",
      "Testing window size:  1000 \n",
      "Dimensions of SNP matrix:  \n",
      "For site at position 87819982, no SNPs were found in the window of size 1000\n",
      "Testing window size:  2000 \n",
      "Dimensions of SNP matrix:  111 4 \n",
      "\n",
      "Testing window size:  5000 \n",
      "Dimensions of SNP matrix:  111 13 \n",
      "\n",
      "Testing window size:  10000 \n",
      "Dimensions of SNP matrix:  111 23 \n",
      "\n",
      "Testing window size:  20000 \n",
      "Dimensions of SNP matrix:  111 41 \n",
      "\n",
      "Testing window size:  50000 \n",
      "Dimensions of SNP matrix:  111 101 \n",
      "\n",
      "Testing window size:  1e+05 \n",
      "Dimensions of SNP matrix:  111 235 \n",
      "\n",
      "Testing window size:  2e+05 \n",
      "Dimensions of SNP matrix:  111 591 \n",
      "\n",
      "Testing window size:  5e+05 \n",
      "Dimensions of SNP matrix:  111 1337 \n",
      "\n",
      "Processing methylation site index:  1000010 \n",
      "Testing methylation site at position  87820227 \n",
      "Testing window size:  1000 \n",
      "Dimensions of SNP matrix:  \n",
      "For site at position 87820227, no SNPs were found in the window of size 1000\n",
      "Testing window size:  2000 \n",
      "Dimensions of SNP matrix:  111 5 \n",
      "\n",
      "Testing window size:  5000 \n",
      "Dimensions of SNP matrix:  111 12 \n",
      "\n",
      "Testing window size:  10000 \n",
      "Dimensions of SNP matrix:  111 23 \n",
      "\n",
      "Testing window size:  20000 \n",
      "Dimensions of SNP matrix:  111 40 \n",
      "\n",
      "Testing window size:  50000 \n",
      "Dimensions of SNP matrix:  111 100 \n",
      "\n",
      "Testing window size:  1e+05 \n",
      "Dimensions of SNP matrix:  111 234 \n",
      "\n",
      "Testing window size:  2e+05 \n",
      "Dimensions of SNP matrix:  111 591 \n",
      "\n",
      "Testing window size:  5e+05 \n",
      "Dimensions of SNP matrix:  111 1337 \n",
      "\n"
     ]
    },
    {
     "name": "stderr",
     "output_type": "stream",
     "text": [
      "MethylationScaff object saved to ../output//libd_chr1-chr1_AA_scheme2.rds\n",
      "\n"
     ]
    }
   ],
   "source": [
    "scaffold_models_2 <- build_prediction_model(\n",
    "  BSobj = BSobj2,\n",
    "  methInput = methInput,\n",
    "  window_sizes = window_sizes,\n",
    "  chunk1 = args$chunk1,\n",
    "  chunk2 = args$chunk2,\n",
    "  n_fold = 5,\n",
    "  cv_nesting = \"double\",\n",
    "  scaffoldIdentifier = scaffoldIdentifier_2,\n",
    "  outdir = args$outdir,\n",
    "  record_runtime = TRUE\n",
    ")\n",
    "\n",
    "df_2 <- convertToDataFrame(scaffold_models_2)"
   ]
  },
  {
   "cell_type": "code",
   "execution_count": 16,
   "id": "092bb725-241d-47d1-b693-32dce6ad7c07",
   "metadata": {},
   "outputs": [
    {
     "name": "stdout",
     "output_type": "stream",
     "text": [
      "Processed chunks 1000000 through 1000010 in 0 hours, 1 minutes and 8 seconds.\n"
     ]
    }
   ],
   "source": [
    "end_time <- Sys.time()  # End time capture\n",
    "total_runtime <- end_time - start_time\n",
    "total_runtime_seconds <- as.numeric(total_runtime, units = \"secs\")\n",
    "hours <- total_runtime_seconds %/% 3600\n",
    "minutes <- (total_runtime_seconds %% 3600) %/% 60\n",
    "seconds <- total_runtime_seconds %% 60\n",
    "\n",
    "# Report the runtime\n",
    "cat(sprintf(\"Processed chunks %d through %d in %d hours, %d minutes and %d seconds.\\n\",\n",
    "            args$chunk1, args$chunk2, as.integer(hours), as.integer(minutes), as.integer(seconds)))"
   ]
  },
  {
   "cell_type": "markdown",
   "id": "db32367d-e07d-4581-bd05-292b118f3b23",
   "metadata": {},
   "source": [
    "## Compare results across two scheme"
   ]
  },
  {
   "cell_type": "code",
   "execution_count": 25,
   "id": "12ad872a-ddd7-43ea-bc63-5721f2b4f562",
   "metadata": {},
   "outputs": [],
   "source": [
    "df_1 <- convertToDataFrame(scaffold_models_1)\n",
    "df_2 <- convertToDataFrame(scaffold_models_2)"
   ]
  },
  {
   "cell_type": "code",
   "execution_count": 28,
   "id": "d682e7d6-7baa-425b-80a6-624e91f69759",
   "metadata": {},
   "outputs": [
    {
     "data": {
      "text/html": [
       "<style>\n",
       ".list-inline {list-style: none; margin:0; padding: 0}\n",
       ".list-inline>li {display: inline-block}\n",
       ".list-inline>li:not(:last-child)::after {content: \"\\00b7\"; padding: 0 .5ex}\n",
       "</style>\n",
       "<ol class=list-inline><li>96</li><li>8</li></ol>\n"
      ],
      "text/latex": [
       "\\begin{enumerate*}\n",
       "\\item 96\n",
       "\\item 8\n",
       "\\end{enumerate*}\n"
      ],
      "text/markdown": [
       "1. 96\n",
       "2. 8\n",
       "\n",
       "\n"
      ],
      "text/plain": [
       "[1] 96  8"
      ]
     },
     "metadata": {},
     "output_type": "display_data"
    },
    {
     "data": {
      "text/html": [
       "<style>\n",
       ".list-inline {list-style: none; margin:0; padding: 0}\n",
       ".list-inline>li {display: inline-block}\n",
       ".list-inline>li:not(:last-child)::after {content: \"\\00b7\"; padding: 0 .5ex}\n",
       "</style>\n",
       "<ol class=list-inline><li>96</li><li>8</li></ol>\n"
      ],
      "text/latex": [
       "\\begin{enumerate*}\n",
       "\\item 96\n",
       "\\item 8\n",
       "\\end{enumerate*}\n"
      ],
      "text/markdown": [
       "1. 96\n",
       "2. 8\n",
       "\n",
       "\n"
      ],
      "text/plain": [
       "[1] 96  8"
      ]
     },
     "metadata": {},
     "output_type": "display_data"
    }
   ],
   "source": [
    "dim(df_1)\n",
    "dim(df_2)"
   ]
  },
  {
   "cell_type": "code",
   "execution_count": 26,
   "id": "386e4a24-0a87-4bb3-88f1-541d87fb98fb",
   "metadata": {},
   "outputs": [],
   "source": [
    "df_1$scaffoldIdentifier <- df_2$scaffoldIdentifier <- NULL"
   ]
  },
  {
   "cell_type": "code",
   "execution_count": 27,
   "id": "90522b65-246f-4b75-9fbd-8ac53e946cff",
   "metadata": {},
   "outputs": [
    {
     "data": {
      "text/html": [
       "FALSE"
      ],
      "text/latex": [
       "FALSE"
      ],
      "text/markdown": [
       "FALSE"
      ],
      "text/plain": [
       "[1] FALSE"
      ]
     },
     "metadata": {},
     "output_type": "display_data"
    }
   ],
   "source": [
    "identical(df_1, df_2)"
   ]
  },
  {
   "cell_type": "markdown",
   "id": "e87a53f9-bc2c-4e78-82eb-398f9b543a8b",
   "metadata": {},
   "source": [
    "Make sure orders of samples are the same"
   ]
  },
  {
   "cell_type": "code",
   "execution_count": 36,
   "id": "ad428cbf-c856-45a0-a214-b018a25f25bd",
   "metadata": {},
   "outputs": [],
   "source": [
    "df_1_metadata <- df_1[,1:3]\n",
    "df_2_metadata <- df_2[,1:3]"
   ]
  },
  {
   "cell_type": "code",
   "execution_count": 37,
   "id": "8fd31a9c-9541-4852-9f06-f09567bafb9b",
   "metadata": {
    "scrolled": true
   },
   "outputs": [
    {
     "data": {
      "text/html": [
       "TRUE"
      ],
      "text/latex": [
       "TRUE"
      ],
      "text/markdown": [
       "TRUE"
      ],
      "text/plain": [
       "[1] TRUE"
      ]
     },
     "metadata": {},
     "output_type": "display_data"
    }
   ],
   "source": [
    "identical(df_1_metadata, df_2_metadata)"
   ]
  },
  {
   "cell_type": "markdown",
   "id": "7c542e77-8056-4266-9e19-69673e3e8891",
   "metadata": {},
   "source": [
    "Compare correlations between predicted and observed values, across the two nesting schema"
   ]
  },
  {
   "cell_type": "code",
   "execution_count": null,
   "id": "b4bffe82-6351-4557-94da-7d2c00a5f775",
   "metadata": {},
   "outputs": [],
   "source": []
  },
  {
   "cell_type": "code",
   "execution_count": 47,
   "id": "0c9cb091-a731-48fa-ad34-65c84ececf63",
   "metadata": {},
   "outputs": [],
   "source": [
    "library(ggplot2)\n",
    "library(ggpubr)\n",
    "\n",
    "# Merge the two data frames (assuming they have the same number of rows)\n",
    "combined_df <- data.frame(triple_nesting = df_1$cor, double_nesting = df_2$cor)"
   ]
  },
  {
   "cell_type": "code",
   "execution_count": 48,
   "id": "057ffdbc-4c4d-48ab-81b6-fbf8d512e1ee",
   "metadata": {
    "collapsed": true,
    "jupyter": {
     "outputs_hidden": true
    }
   },
   "outputs": [
    {
     "data": {
      "text/html": [
       "<table class=\"dataframe\">\n",
       "<caption>A data.frame: 96 × 2</caption>\n",
       "<thead>\n",
       "\t<tr><th scope=col>triple_nesting</th><th scope=col>double_nesting</th></tr>\n",
       "\t<tr><th scope=col>&lt;dbl&gt;</th><th scope=col>&lt;dbl&gt;</th></tr>\n",
       "</thead>\n",
       "<tbody>\n",
       "\t<tr><td> 0.05811582</td><td>0.1365585</td></tr>\n",
       "\t<tr><td> 0.09706483</td><td>0.2152592</td></tr>\n",
       "\t<tr><td> 0.19280609</td><td>0.2197099</td></tr>\n",
       "\t<tr><td>         NA</td><td>0.2538043</td></tr>\n",
       "\t<tr><td> 0.26418881</td><td>0.2768170</td></tr>\n",
       "\t<tr><td> 0.43693084</td><td>0.3435623</td></tr>\n",
       "\t<tr><td> 0.19516417</td><td>0.3834200</td></tr>\n",
       "\t<tr><td> 0.53459738</td><td>0.4796146</td></tr>\n",
       "\t<tr><td>-0.32309257</td><td>0.5686094</td></tr>\n",
       "\t<tr><td> 0.06575757</td><td>0.1371217</td></tr>\n",
       "\t<tr><td> 0.11511511</td><td>0.2231325</td></tr>\n",
       "\t<tr><td> 0.21512051</td><td>0.2214781</td></tr>\n",
       "\t<tr><td>         NA</td><td>0.2538011</td></tr>\n",
       "\t<tr><td> 0.27145739</td><td>0.2775684</td></tr>\n",
       "\t<tr><td> 0.43527129</td><td>0.3441200</td></tr>\n",
       "\t<tr><td> 0.20456556</td><td>0.3850549</td></tr>\n",
       "\t<tr><td> 0.54078298</td><td>0.4804884</td></tr>\n",
       "\t<tr><td>         NA</td><td>0.5673565</td></tr>\n",
       "\t<tr><td> 0.06871587</td><td>0.1373545</td></tr>\n",
       "\t<tr><td> 0.12177911</td><td>0.2242959</td></tr>\n",
       "\t<tr><td> 0.22373406</td><td>0.2222551</td></tr>\n",
       "\t<tr><td>-0.11713074</td><td>0.2538259</td></tr>\n",
       "\t<tr><td> 0.27432592</td><td>0.2779164</td></tr>\n",
       "\t<tr><td> 0.43684797</td><td>0.3439332</td></tr>\n",
       "\t<tr><td>         NA</td><td>0.3857023</td></tr>\n",
       "\t<tr><td> 0.54317536</td><td>0.4808382</td></tr>\n",
       "\t<tr><td>         NA</td><td>0.5668669</td></tr>\n",
       "\t<tr><td> 0.07328687</td><td>0.1377326</td></tr>\n",
       "\t<tr><td> 0.13217588</td><td>0.2261206</td></tr>\n",
       "\t<tr><td> 0.23697649</td><td>0.2235642</td></tr>\n",
       "\t<tr><td>⋮</td><td>⋮</td></tr>\n",
       "\t<tr><td>         NA</td><td>0.28095571</td></tr>\n",
       "\t<tr><td>         NA</td><td>0.30879683</td></tr>\n",
       "\t<tr><td> 0.41957878</td><td>0.34679637</td></tr>\n",
       "\t<tr><td> 0.40735518</td><td>0.39146110</td></tr>\n",
       "\t<tr><td> 0.42066228</td><td>0.48413537</td></tr>\n",
       "\t<tr><td>         NA</td><td>0.54176633</td></tr>\n",
       "\t<tr><td> 0.13385564</td><td>0.04872198</td></tr>\n",
       "\t<tr><td>         NA</td><td>0.25888332</td></tr>\n",
       "\t<tr><td>         NA</td><td>0.28897447</td></tr>\n",
       "\t<tr><td>         NA</td><td>0.30696515</td></tr>\n",
       "\t<tr><td> 0.39593854</td><td>0.34209747</td></tr>\n",
       "\t<tr><td> 0.35530787</td><td>0.38565186</td></tr>\n",
       "\t<tr><td>-0.53584666</td><td>0.48111674</td></tr>\n",
       "\t<tr><td>-0.53584666</td><td>0.53663098</td></tr>\n",
       "\t<tr><td> 0.08843370</td><td>0.05067950</td></tr>\n",
       "\t<tr><td>         NA</td><td>0.24626764</td></tr>\n",
       "\t<tr><td>         NA</td><td>0.28171737</td></tr>\n",
       "\t<tr><td>         NA</td><td>0.30286157</td></tr>\n",
       "\t<tr><td> 0.36222718</td><td>0.33853567</td></tr>\n",
       "\t<tr><td> 0.28177841</td><td>0.38162036</td></tr>\n",
       "\t<tr><td>         NA</td><td>0.47846656</td></tr>\n",
       "\t<tr><td>         NA</td><td>0.53328146</td></tr>\n",
       "\t<tr><td> 0.03627875</td><td>0.06154353</td></tr>\n",
       "\t<tr><td>         NA</td><td>0.20381751</td></tr>\n",
       "\t<tr><td>-0.11330783</td><td>0.26933980</td></tr>\n",
       "\t<tr><td> 0.15978794</td><td>0.29795800</td></tr>\n",
       "\t<tr><td> 0.30341105</td><td>0.33612997</td></tr>\n",
       "\t<tr><td> 0.17628518</td><td>0.38812378</td></tr>\n",
       "\t<tr><td>         NA</td><td>0.48211006</td></tr>\n",
       "\t<tr><td>         NA</td><td>0.53542714</td></tr>\n",
       "</tbody>\n",
       "</table>\n"
      ],
      "text/latex": [
       "A data.frame: 96 × 2\n",
       "\\begin{tabular}{ll}\n",
       " triple\\_nesting & double\\_nesting\\\\\n",
       " <dbl> & <dbl>\\\\\n",
       "\\hline\n",
       "\t  0.05811582 & 0.1365585\\\\\n",
       "\t  0.09706483 & 0.2152592\\\\\n",
       "\t  0.19280609 & 0.2197099\\\\\n",
       "\t          NA & 0.2538043\\\\\n",
       "\t  0.26418881 & 0.2768170\\\\\n",
       "\t  0.43693084 & 0.3435623\\\\\n",
       "\t  0.19516417 & 0.3834200\\\\\n",
       "\t  0.53459738 & 0.4796146\\\\\n",
       "\t -0.32309257 & 0.5686094\\\\\n",
       "\t  0.06575757 & 0.1371217\\\\\n",
       "\t  0.11511511 & 0.2231325\\\\\n",
       "\t  0.21512051 & 0.2214781\\\\\n",
       "\t          NA & 0.2538011\\\\\n",
       "\t  0.27145739 & 0.2775684\\\\\n",
       "\t  0.43527129 & 0.3441200\\\\\n",
       "\t  0.20456556 & 0.3850549\\\\\n",
       "\t  0.54078298 & 0.4804884\\\\\n",
       "\t          NA & 0.5673565\\\\\n",
       "\t  0.06871587 & 0.1373545\\\\\n",
       "\t  0.12177911 & 0.2242959\\\\\n",
       "\t  0.22373406 & 0.2222551\\\\\n",
       "\t -0.11713074 & 0.2538259\\\\\n",
       "\t  0.27432592 & 0.2779164\\\\\n",
       "\t  0.43684797 & 0.3439332\\\\\n",
       "\t          NA & 0.3857023\\\\\n",
       "\t  0.54317536 & 0.4808382\\\\\n",
       "\t          NA & 0.5668669\\\\\n",
       "\t  0.07328687 & 0.1377326\\\\\n",
       "\t  0.13217588 & 0.2261206\\\\\n",
       "\t  0.23697649 & 0.2235642\\\\\n",
       "\t ⋮ & ⋮\\\\\n",
       "\t          NA & 0.28095571\\\\\n",
       "\t          NA & 0.30879683\\\\\n",
       "\t  0.41957878 & 0.34679637\\\\\n",
       "\t  0.40735518 & 0.39146110\\\\\n",
       "\t  0.42066228 & 0.48413537\\\\\n",
       "\t          NA & 0.54176633\\\\\n",
       "\t  0.13385564 & 0.04872198\\\\\n",
       "\t          NA & 0.25888332\\\\\n",
       "\t          NA & 0.28897447\\\\\n",
       "\t          NA & 0.30696515\\\\\n",
       "\t  0.39593854 & 0.34209747\\\\\n",
       "\t  0.35530787 & 0.38565186\\\\\n",
       "\t -0.53584666 & 0.48111674\\\\\n",
       "\t -0.53584666 & 0.53663098\\\\\n",
       "\t  0.08843370 & 0.05067950\\\\\n",
       "\t          NA & 0.24626764\\\\\n",
       "\t          NA & 0.28171737\\\\\n",
       "\t          NA & 0.30286157\\\\\n",
       "\t  0.36222718 & 0.33853567\\\\\n",
       "\t  0.28177841 & 0.38162036\\\\\n",
       "\t          NA & 0.47846656\\\\\n",
       "\t          NA & 0.53328146\\\\\n",
       "\t  0.03627875 & 0.06154353\\\\\n",
       "\t          NA & 0.20381751\\\\\n",
       "\t -0.11330783 & 0.26933980\\\\\n",
       "\t  0.15978794 & 0.29795800\\\\\n",
       "\t  0.30341105 & 0.33612997\\\\\n",
       "\t  0.17628518 & 0.38812378\\\\\n",
       "\t          NA & 0.48211006\\\\\n",
       "\t          NA & 0.53542714\\\\\n",
       "\\end{tabular}\n"
      ],
      "text/markdown": [
       "\n",
       "A data.frame: 96 × 2\n",
       "\n",
       "| triple_nesting &lt;dbl&gt; | double_nesting &lt;dbl&gt; |\n",
       "|---|---|\n",
       "|  0.05811582 | 0.1365585 |\n",
       "|  0.09706483 | 0.2152592 |\n",
       "|  0.19280609 | 0.2197099 |\n",
       "|          NA | 0.2538043 |\n",
       "|  0.26418881 | 0.2768170 |\n",
       "|  0.43693084 | 0.3435623 |\n",
       "|  0.19516417 | 0.3834200 |\n",
       "|  0.53459738 | 0.4796146 |\n",
       "| -0.32309257 | 0.5686094 |\n",
       "|  0.06575757 | 0.1371217 |\n",
       "|  0.11511511 | 0.2231325 |\n",
       "|  0.21512051 | 0.2214781 |\n",
       "|          NA | 0.2538011 |\n",
       "|  0.27145739 | 0.2775684 |\n",
       "|  0.43527129 | 0.3441200 |\n",
       "|  0.20456556 | 0.3850549 |\n",
       "|  0.54078298 | 0.4804884 |\n",
       "|          NA | 0.5673565 |\n",
       "|  0.06871587 | 0.1373545 |\n",
       "|  0.12177911 | 0.2242959 |\n",
       "|  0.22373406 | 0.2222551 |\n",
       "| -0.11713074 | 0.2538259 |\n",
       "|  0.27432592 | 0.2779164 |\n",
       "|  0.43684797 | 0.3439332 |\n",
       "|          NA | 0.3857023 |\n",
       "|  0.54317536 | 0.4808382 |\n",
       "|          NA | 0.5668669 |\n",
       "|  0.07328687 | 0.1377326 |\n",
       "|  0.13217588 | 0.2261206 |\n",
       "|  0.23697649 | 0.2235642 |\n",
       "| ⋮ | ⋮ |\n",
       "|          NA | 0.28095571 |\n",
       "|          NA | 0.30879683 |\n",
       "|  0.41957878 | 0.34679637 |\n",
       "|  0.40735518 | 0.39146110 |\n",
       "|  0.42066228 | 0.48413537 |\n",
       "|          NA | 0.54176633 |\n",
       "|  0.13385564 | 0.04872198 |\n",
       "|          NA | 0.25888332 |\n",
       "|          NA | 0.28897447 |\n",
       "|          NA | 0.30696515 |\n",
       "|  0.39593854 | 0.34209747 |\n",
       "|  0.35530787 | 0.38565186 |\n",
       "| -0.53584666 | 0.48111674 |\n",
       "| -0.53584666 | 0.53663098 |\n",
       "|  0.08843370 | 0.05067950 |\n",
       "|          NA | 0.24626764 |\n",
       "|          NA | 0.28171737 |\n",
       "|          NA | 0.30286157 |\n",
       "|  0.36222718 | 0.33853567 |\n",
       "|  0.28177841 | 0.38162036 |\n",
       "|          NA | 0.47846656 |\n",
       "|          NA | 0.53328146 |\n",
       "|  0.03627875 | 0.06154353 |\n",
       "|          NA | 0.20381751 |\n",
       "| -0.11330783 | 0.26933980 |\n",
       "|  0.15978794 | 0.29795800 |\n",
       "|  0.30341105 | 0.33612997 |\n",
       "|  0.17628518 | 0.38812378 |\n",
       "|          NA | 0.48211006 |\n",
       "|          NA | 0.53542714 |\n",
       "\n"
      ],
      "text/plain": [
       "   triple_nesting double_nesting\n",
       "1   0.05811582    0.1365585     \n",
       "2   0.09706483    0.2152592     \n",
       "3   0.19280609    0.2197099     \n",
       "4           NA    0.2538043     \n",
       "5   0.26418881    0.2768170     \n",
       "6   0.43693084    0.3435623     \n",
       "7   0.19516417    0.3834200     \n",
       "8   0.53459738    0.4796146     \n",
       "9  -0.32309257    0.5686094     \n",
       "10  0.06575757    0.1371217     \n",
       "11  0.11511511    0.2231325     \n",
       "12  0.21512051    0.2214781     \n",
       "13          NA    0.2538011     \n",
       "14  0.27145739    0.2775684     \n",
       "15  0.43527129    0.3441200     \n",
       "16  0.20456556    0.3850549     \n",
       "17  0.54078298    0.4804884     \n",
       "18          NA    0.5673565     \n",
       "19  0.06871587    0.1373545     \n",
       "20  0.12177911    0.2242959     \n",
       "21  0.22373406    0.2222551     \n",
       "22 -0.11713074    0.2538259     \n",
       "23  0.27432592    0.2779164     \n",
       "24  0.43684797    0.3439332     \n",
       "25          NA    0.3857023     \n",
       "26  0.54317536    0.4808382     \n",
       "27          NA    0.5668669     \n",
       "28  0.07328687    0.1377326     \n",
       "29  0.13217588    0.2261206     \n",
       "30  0.23697649    0.2235642     \n",
       "⋮  ⋮              ⋮             \n",
       "67          NA    0.28095571    \n",
       "68          NA    0.30879683    \n",
       "69  0.41957878    0.34679637    \n",
       "70  0.40735518    0.39146110    \n",
       "71  0.42066228    0.48413537    \n",
       "72          NA    0.54176633    \n",
       "73  0.13385564    0.04872198    \n",
       "74          NA    0.25888332    \n",
       "75          NA    0.28897447    \n",
       "76          NA    0.30696515    \n",
       "77  0.39593854    0.34209747    \n",
       "78  0.35530787    0.38565186    \n",
       "79 -0.53584666    0.48111674    \n",
       "80 -0.53584666    0.53663098    \n",
       "81  0.08843370    0.05067950    \n",
       "82          NA    0.24626764    \n",
       "83          NA    0.28171737    \n",
       "84          NA    0.30286157    \n",
       "85  0.36222718    0.33853567    \n",
       "86  0.28177841    0.38162036    \n",
       "87          NA    0.47846656    \n",
       "88          NA    0.53328146    \n",
       "89  0.03627875    0.06154353    \n",
       "90          NA    0.20381751    \n",
       "91 -0.11330783    0.26933980    \n",
       "92  0.15978794    0.29795800    \n",
       "93  0.30341105    0.33612997    \n",
       "94  0.17628518    0.38812378    \n",
       "95          NA    0.48211006    \n",
       "96          NA    0.53542714    "
      ]
     },
     "metadata": {},
     "output_type": "display_data"
    }
   ],
   "source": [
    "combined_df"
   ]
  },
  {
   "cell_type": "markdown",
   "id": "62d2590b-6ce7-4597-8aed-22a484cdc60e",
   "metadata": {},
   "source": [
    "Note: We're left with dropout (no terms kept in model) much more often with triple than double-nested scheme?"
   ]
  },
  {
   "cell_type": "code",
   "execution_count": 44,
   "id": "ec5ec104-ff43-412c-a74c-41be8e9ff2ed",
   "metadata": {},
   "outputs": [
    {
     "data": {
      "text/html": [
       "<style>\n",
       ".list-inline {list-style: none; margin:0; padding: 0}\n",
       ".list-inline>li {display: inline-block}\n",
       ".list-inline>li:not(:last-child)::after {content: \"\\00b7\"; padding: 0 .5ex}\n",
       "</style>\n",
       "<ol class=list-inline><li>73</li><li>2</li></ol>\n"
      ],
      "text/latex": [
       "\\begin{enumerate*}\n",
       "\\item 73\n",
       "\\item 2\n",
       "\\end{enumerate*}\n"
      ],
      "text/markdown": [
       "1. 73\n",
       "2. 2\n",
       "\n",
       "\n"
      ],
      "text/plain": [
       "[1] 73  2"
      ]
     },
     "metadata": {},
     "output_type": "display_data"
    }
   ],
   "source": [
    "combined_df <- na.omit(combined_df))"
   ]
  },
  {
   "cell_type": "code",
   "execution_count": 46,
   "id": "825f3345-967f-4f63-ad16-4a1b76443440",
   "metadata": {
    "scrolled": true
   },
   "outputs": [
    {
     "data": {
      "text/html": [
       "<table class=\"dataframe\">\n",
       "<caption>A data.frame: 73 × 2</caption>\n",
       "<thead>\n",
       "\t<tr><th></th><th scope=col>triple_nesting</th><th scope=col>double_nesting</th></tr>\n",
       "\t<tr><th></th><th scope=col>&lt;dbl&gt;</th><th scope=col>&lt;dbl&gt;</th></tr>\n",
       "</thead>\n",
       "<tbody>\n",
       "\t<tr><th scope=row>1</th><td> 0.05811582</td><td>0.1365585</td></tr>\n",
       "\t<tr><th scope=row>2</th><td> 0.09706483</td><td>0.2152592</td></tr>\n",
       "\t<tr><th scope=row>3</th><td> 0.19280609</td><td>0.2197099</td></tr>\n",
       "\t<tr><th scope=row>5</th><td> 0.26418881</td><td>0.2768170</td></tr>\n",
       "\t<tr><th scope=row>6</th><td> 0.43693084</td><td>0.3435623</td></tr>\n",
       "\t<tr><th scope=row>7</th><td> 0.19516417</td><td>0.3834200</td></tr>\n",
       "\t<tr><th scope=row>8</th><td> 0.53459738</td><td>0.4796146</td></tr>\n",
       "\t<tr><th scope=row>9</th><td>-0.32309257</td><td>0.5686094</td></tr>\n",
       "\t<tr><th scope=row>10</th><td> 0.06575757</td><td>0.1371217</td></tr>\n",
       "\t<tr><th scope=row>11</th><td> 0.11511511</td><td>0.2231325</td></tr>\n",
       "\t<tr><th scope=row>12</th><td> 0.21512051</td><td>0.2214781</td></tr>\n",
       "\t<tr><th scope=row>14</th><td> 0.27145739</td><td>0.2775684</td></tr>\n",
       "\t<tr><th scope=row>15</th><td> 0.43527129</td><td>0.3441200</td></tr>\n",
       "\t<tr><th scope=row>16</th><td> 0.20456556</td><td>0.3850549</td></tr>\n",
       "\t<tr><th scope=row>17</th><td> 0.54078298</td><td>0.4804884</td></tr>\n",
       "\t<tr><th scope=row>19</th><td> 0.06871587</td><td>0.1373545</td></tr>\n",
       "\t<tr><th scope=row>20</th><td> 0.12177911</td><td>0.2242959</td></tr>\n",
       "\t<tr><th scope=row>21</th><td> 0.22373406</td><td>0.2222551</td></tr>\n",
       "\t<tr><th scope=row>22</th><td>-0.11713074</td><td>0.2538259</td></tr>\n",
       "\t<tr><th scope=row>23</th><td> 0.27432592</td><td>0.2779164</td></tr>\n",
       "\t<tr><th scope=row>24</th><td> 0.43684797</td><td>0.3439332</td></tr>\n",
       "\t<tr><th scope=row>26</th><td> 0.54317536</td><td>0.4808382</td></tr>\n",
       "\t<tr><th scope=row>28</th><td> 0.07328687</td><td>0.1377326</td></tr>\n",
       "\t<tr><th scope=row>29</th><td> 0.13217588</td><td>0.2261206</td></tr>\n",
       "\t<tr><th scope=row>30</th><td> 0.23697649</td><td>0.2235642</td></tr>\n",
       "\t<tr><th scope=row>31</th><td> 0.12307896</td><td>0.2539387</td></tr>\n",
       "\t<tr><th scope=row>32</th><td> 0.27881817</td><td>0.2785203</td></tr>\n",
       "\t<tr><th scope=row>33</th><td> 0.43379357</td><td>0.3425630</td></tr>\n",
       "\t<tr><th scope=row>34</th><td> 0.21186368</td><td>0.3867185</td></tr>\n",
       "\t<tr><th scope=row>35</th><td> 0.54687012</td><td>0.4813912</td></tr>\n",
       "\t<tr><th scope=row>⋮</th><td>⋮</td><td>⋮</td></tr>\n",
       "\t<tr><th scope=row>50</th><td> 3.362174e-01</td><td>0.29403270</td></tr>\n",
       "\t<tr><th scope=row>51</th><td> 4.451673e-01</td><td>0.34645591</td></tr>\n",
       "\t<tr><th scope=row>52</th><td> 6.254399e-01</td><td>0.40039151</td></tr>\n",
       "\t<tr><th scope=row>53</th><td> 5.893519e-01</td><td>0.48861800</td></tr>\n",
       "\t<tr><th scope=row>54</th><td>-9.363735e-05</td><td>0.55558266</td></tr>\n",
       "\t<tr><th scope=row>55</th><td>-3.860760e-01</td><td>0.05556243</td></tr>\n",
       "\t<tr><th scope=row>56</th><td>-3.860760e-01</td><td>0.05556243</td></tr>\n",
       "\t<tr><th scope=row>57</th><td>-5.897971e-02</td><td>0.26758212</td></tr>\n",
       "\t<tr><th scope=row>58</th><td>-5.897971e-02</td><td>0.27906544</td></tr>\n",
       "\t<tr><th scope=row>59</th><td>-5.897971e-02</td><td>0.30465138</td></tr>\n",
       "\t<tr><th scope=row>60</th><td> 3.980295e-01</td><td>0.35122508</td></tr>\n",
       "\t<tr><th scope=row>62</th><td> 5.950993e-01</td><td>0.48862623</td></tr>\n",
       "\t<tr><th scope=row>64</th><td> 1.340138e-01</td><td>0.06396082</td></tr>\n",
       "\t<tr><th scope=row>65</th><td> 1.183665e-01</td><td>0.05203557</td></tr>\n",
       "\t<tr><th scope=row>69</th><td> 4.195788e-01</td><td>0.34679637</td></tr>\n",
       "\t<tr><th scope=row>70</th><td> 4.073552e-01</td><td>0.39146110</td></tr>\n",
       "\t<tr><th scope=row>71</th><td> 4.206623e-01</td><td>0.48413537</td></tr>\n",
       "\t<tr><th scope=row>73</th><td> 1.338556e-01</td><td>0.04872198</td></tr>\n",
       "\t<tr><th scope=row>77</th><td> 3.959385e-01</td><td>0.34209747</td></tr>\n",
       "\t<tr><th scope=row>78</th><td> 3.553079e-01</td><td>0.38565186</td></tr>\n",
       "\t<tr><th scope=row>79</th><td>-5.358467e-01</td><td>0.48111674</td></tr>\n",
       "\t<tr><th scope=row>80</th><td>-5.358467e-01</td><td>0.53663098</td></tr>\n",
       "\t<tr><th scope=row>81</th><td> 8.843370e-02</td><td>0.05067950</td></tr>\n",
       "\t<tr><th scope=row>85</th><td> 3.622272e-01</td><td>0.33853567</td></tr>\n",
       "\t<tr><th scope=row>86</th><td> 2.817784e-01</td><td>0.38162036</td></tr>\n",
       "\t<tr><th scope=row>89</th><td> 3.627875e-02</td><td>0.06154353</td></tr>\n",
       "\t<tr><th scope=row>91</th><td>-1.133078e-01</td><td>0.26933980</td></tr>\n",
       "\t<tr><th scope=row>92</th><td> 1.597879e-01</td><td>0.29795800</td></tr>\n",
       "\t<tr><th scope=row>93</th><td> 3.034110e-01</td><td>0.33612997</td></tr>\n",
       "\t<tr><th scope=row>94</th><td> 1.762852e-01</td><td>0.38812378</td></tr>\n",
       "</tbody>\n",
       "</table>\n"
      ],
      "text/latex": [
       "A data.frame: 73 × 2\n",
       "\\begin{tabular}{r|ll}\n",
       "  & triple\\_nesting & double\\_nesting\\\\\n",
       "  & <dbl> & <dbl>\\\\\n",
       "\\hline\n",
       "\t1 &  0.05811582 & 0.1365585\\\\\n",
       "\t2 &  0.09706483 & 0.2152592\\\\\n",
       "\t3 &  0.19280609 & 0.2197099\\\\\n",
       "\t5 &  0.26418881 & 0.2768170\\\\\n",
       "\t6 &  0.43693084 & 0.3435623\\\\\n",
       "\t7 &  0.19516417 & 0.3834200\\\\\n",
       "\t8 &  0.53459738 & 0.4796146\\\\\n",
       "\t9 & -0.32309257 & 0.5686094\\\\\n",
       "\t10 &  0.06575757 & 0.1371217\\\\\n",
       "\t11 &  0.11511511 & 0.2231325\\\\\n",
       "\t12 &  0.21512051 & 0.2214781\\\\\n",
       "\t14 &  0.27145739 & 0.2775684\\\\\n",
       "\t15 &  0.43527129 & 0.3441200\\\\\n",
       "\t16 &  0.20456556 & 0.3850549\\\\\n",
       "\t17 &  0.54078298 & 0.4804884\\\\\n",
       "\t19 &  0.06871587 & 0.1373545\\\\\n",
       "\t20 &  0.12177911 & 0.2242959\\\\\n",
       "\t21 &  0.22373406 & 0.2222551\\\\\n",
       "\t22 & -0.11713074 & 0.2538259\\\\\n",
       "\t23 &  0.27432592 & 0.2779164\\\\\n",
       "\t24 &  0.43684797 & 0.3439332\\\\\n",
       "\t26 &  0.54317536 & 0.4808382\\\\\n",
       "\t28 &  0.07328687 & 0.1377326\\\\\n",
       "\t29 &  0.13217588 & 0.2261206\\\\\n",
       "\t30 &  0.23697649 & 0.2235642\\\\\n",
       "\t31 &  0.12307896 & 0.2539387\\\\\n",
       "\t32 &  0.27881817 & 0.2785203\\\\\n",
       "\t33 &  0.43379357 & 0.3425630\\\\\n",
       "\t34 &  0.21186368 & 0.3867185\\\\\n",
       "\t35 &  0.54687012 & 0.4813912\\\\\n",
       "\t⋮ & ⋮ & ⋮\\\\\n",
       "\t50 &  3.362174e-01 & 0.29403270\\\\\n",
       "\t51 &  4.451673e-01 & 0.34645591\\\\\n",
       "\t52 &  6.254399e-01 & 0.40039151\\\\\n",
       "\t53 &  5.893519e-01 & 0.48861800\\\\\n",
       "\t54 & -9.363735e-05 & 0.55558266\\\\\n",
       "\t55 & -3.860760e-01 & 0.05556243\\\\\n",
       "\t56 & -3.860760e-01 & 0.05556243\\\\\n",
       "\t57 & -5.897971e-02 & 0.26758212\\\\\n",
       "\t58 & -5.897971e-02 & 0.27906544\\\\\n",
       "\t59 & -5.897971e-02 & 0.30465138\\\\\n",
       "\t60 &  3.980295e-01 & 0.35122508\\\\\n",
       "\t62 &  5.950993e-01 & 0.48862623\\\\\n",
       "\t64 &  1.340138e-01 & 0.06396082\\\\\n",
       "\t65 &  1.183665e-01 & 0.05203557\\\\\n",
       "\t69 &  4.195788e-01 & 0.34679637\\\\\n",
       "\t70 &  4.073552e-01 & 0.39146110\\\\\n",
       "\t71 &  4.206623e-01 & 0.48413537\\\\\n",
       "\t73 &  1.338556e-01 & 0.04872198\\\\\n",
       "\t77 &  3.959385e-01 & 0.34209747\\\\\n",
       "\t78 &  3.553079e-01 & 0.38565186\\\\\n",
       "\t79 & -5.358467e-01 & 0.48111674\\\\\n",
       "\t80 & -5.358467e-01 & 0.53663098\\\\\n",
       "\t81 &  8.843370e-02 & 0.05067950\\\\\n",
       "\t85 &  3.622272e-01 & 0.33853567\\\\\n",
       "\t86 &  2.817784e-01 & 0.38162036\\\\\n",
       "\t89 &  3.627875e-02 & 0.06154353\\\\\n",
       "\t91 & -1.133078e-01 & 0.26933980\\\\\n",
       "\t92 &  1.597879e-01 & 0.29795800\\\\\n",
       "\t93 &  3.034110e-01 & 0.33612997\\\\\n",
       "\t94 &  1.762852e-01 & 0.38812378\\\\\n",
       "\\end{tabular}\n"
      ],
      "text/markdown": [
       "\n",
       "A data.frame: 73 × 2\n",
       "\n",
       "| <!--/--> | triple_nesting &lt;dbl&gt; | double_nesting &lt;dbl&gt; |\n",
       "|---|---|---|\n",
       "| 1 |  0.05811582 | 0.1365585 |\n",
       "| 2 |  0.09706483 | 0.2152592 |\n",
       "| 3 |  0.19280609 | 0.2197099 |\n",
       "| 5 |  0.26418881 | 0.2768170 |\n",
       "| 6 |  0.43693084 | 0.3435623 |\n",
       "| 7 |  0.19516417 | 0.3834200 |\n",
       "| 8 |  0.53459738 | 0.4796146 |\n",
       "| 9 | -0.32309257 | 0.5686094 |\n",
       "| 10 |  0.06575757 | 0.1371217 |\n",
       "| 11 |  0.11511511 | 0.2231325 |\n",
       "| 12 |  0.21512051 | 0.2214781 |\n",
       "| 14 |  0.27145739 | 0.2775684 |\n",
       "| 15 |  0.43527129 | 0.3441200 |\n",
       "| 16 |  0.20456556 | 0.3850549 |\n",
       "| 17 |  0.54078298 | 0.4804884 |\n",
       "| 19 |  0.06871587 | 0.1373545 |\n",
       "| 20 |  0.12177911 | 0.2242959 |\n",
       "| 21 |  0.22373406 | 0.2222551 |\n",
       "| 22 | -0.11713074 | 0.2538259 |\n",
       "| 23 |  0.27432592 | 0.2779164 |\n",
       "| 24 |  0.43684797 | 0.3439332 |\n",
       "| 26 |  0.54317536 | 0.4808382 |\n",
       "| 28 |  0.07328687 | 0.1377326 |\n",
       "| 29 |  0.13217588 | 0.2261206 |\n",
       "| 30 |  0.23697649 | 0.2235642 |\n",
       "| 31 |  0.12307896 | 0.2539387 |\n",
       "| 32 |  0.27881817 | 0.2785203 |\n",
       "| 33 |  0.43379357 | 0.3425630 |\n",
       "| 34 |  0.21186368 | 0.3867185 |\n",
       "| 35 |  0.54687012 | 0.4813912 |\n",
       "| ⋮ | ⋮ | ⋮ |\n",
       "| 50 |  3.362174e-01 | 0.29403270 |\n",
       "| 51 |  4.451673e-01 | 0.34645591 |\n",
       "| 52 |  6.254399e-01 | 0.40039151 |\n",
       "| 53 |  5.893519e-01 | 0.48861800 |\n",
       "| 54 | -9.363735e-05 | 0.55558266 |\n",
       "| 55 | -3.860760e-01 | 0.05556243 |\n",
       "| 56 | -3.860760e-01 | 0.05556243 |\n",
       "| 57 | -5.897971e-02 | 0.26758212 |\n",
       "| 58 | -5.897971e-02 | 0.27906544 |\n",
       "| 59 | -5.897971e-02 | 0.30465138 |\n",
       "| 60 |  3.980295e-01 | 0.35122508 |\n",
       "| 62 |  5.950993e-01 | 0.48862623 |\n",
       "| 64 |  1.340138e-01 | 0.06396082 |\n",
       "| 65 |  1.183665e-01 | 0.05203557 |\n",
       "| 69 |  4.195788e-01 | 0.34679637 |\n",
       "| 70 |  4.073552e-01 | 0.39146110 |\n",
       "| 71 |  4.206623e-01 | 0.48413537 |\n",
       "| 73 |  1.338556e-01 | 0.04872198 |\n",
       "| 77 |  3.959385e-01 | 0.34209747 |\n",
       "| 78 |  3.553079e-01 | 0.38565186 |\n",
       "| 79 | -5.358467e-01 | 0.48111674 |\n",
       "| 80 | -5.358467e-01 | 0.53663098 |\n",
       "| 81 |  8.843370e-02 | 0.05067950 |\n",
       "| 85 |  3.622272e-01 | 0.33853567 |\n",
       "| 86 |  2.817784e-01 | 0.38162036 |\n",
       "| 89 |  3.627875e-02 | 0.06154353 |\n",
       "| 91 | -1.133078e-01 | 0.26933980 |\n",
       "| 92 |  1.597879e-01 | 0.29795800 |\n",
       "| 93 |  3.034110e-01 | 0.33612997 |\n",
       "| 94 |  1.762852e-01 | 0.38812378 |\n",
       "\n"
      ],
      "text/plain": [
       "   triple_nesting double_nesting\n",
       "1   0.05811582    0.1365585     \n",
       "2   0.09706483    0.2152592     \n",
       "3   0.19280609    0.2197099     \n",
       "5   0.26418881    0.2768170     \n",
       "6   0.43693084    0.3435623     \n",
       "7   0.19516417    0.3834200     \n",
       "8   0.53459738    0.4796146     \n",
       "9  -0.32309257    0.5686094     \n",
       "10  0.06575757    0.1371217     \n",
       "11  0.11511511    0.2231325     \n",
       "12  0.21512051    0.2214781     \n",
       "14  0.27145739    0.2775684     \n",
       "15  0.43527129    0.3441200     \n",
       "16  0.20456556    0.3850549     \n",
       "17  0.54078298    0.4804884     \n",
       "19  0.06871587    0.1373545     \n",
       "20  0.12177911    0.2242959     \n",
       "21  0.22373406    0.2222551     \n",
       "22 -0.11713074    0.2538259     \n",
       "23  0.27432592    0.2779164     \n",
       "24  0.43684797    0.3439332     \n",
       "26  0.54317536    0.4808382     \n",
       "28  0.07328687    0.1377326     \n",
       "29  0.13217588    0.2261206     \n",
       "30  0.23697649    0.2235642     \n",
       "31  0.12307896    0.2539387     \n",
       "32  0.27881817    0.2785203     \n",
       "33  0.43379357    0.3425630     \n",
       "34  0.21186368    0.3867185     \n",
       "35  0.54687012    0.4813912     \n",
       "⋮  ⋮              ⋮             \n",
       "50  3.362174e-01  0.29403270    \n",
       "51  4.451673e-01  0.34645591    \n",
       "52  6.254399e-01  0.40039151    \n",
       "53  5.893519e-01  0.48861800    \n",
       "54 -9.363735e-05  0.55558266    \n",
       "55 -3.860760e-01  0.05556243    \n",
       "56 -3.860760e-01  0.05556243    \n",
       "57 -5.897971e-02  0.26758212    \n",
       "58 -5.897971e-02  0.27906544    \n",
       "59 -5.897971e-02  0.30465138    \n",
       "60  3.980295e-01  0.35122508    \n",
       "62  5.950993e-01  0.48862623    \n",
       "64  1.340138e-01  0.06396082    \n",
       "65  1.183665e-01  0.05203557    \n",
       "69  4.195788e-01  0.34679637    \n",
       "70  4.073552e-01  0.39146110    \n",
       "71  4.206623e-01  0.48413537    \n",
       "73  1.338556e-01  0.04872198    \n",
       "77  3.959385e-01  0.34209747    \n",
       "78  3.553079e-01  0.38565186    \n",
       "79 -5.358467e-01  0.48111674    \n",
       "80 -5.358467e-01  0.53663098    \n",
       "81  8.843370e-02  0.05067950    \n",
       "85  3.622272e-01  0.33853567    \n",
       "86  2.817784e-01  0.38162036    \n",
       "89  3.627875e-02  0.06154353    \n",
       "91 -1.133078e-01  0.26933980    \n",
       "92  1.597879e-01  0.29795800    \n",
       "93  3.034110e-01  0.33612997    \n",
       "94  1.762852e-01  0.38812378    "
      ]
     },
     "metadata": {},
     "output_type": "display_data"
    }
   ],
   "source": [
    "combined_df"
   ]
  },
  {
   "cell_type": "code",
   "execution_count": 49,
   "id": "fe3d7b37-8645-422c-b715-ed33566fc631",
   "metadata": {},
   "outputs": [
    {
     "name": "stderr",
     "output_type": "stream",
     "text": [
      "\u001b[1m\u001b[22m`geom_smooth()` using formula = 'y ~ x'\n",
      "Warning message:\n",
      "“\u001b[1m\u001b[22mRemoved 23 rows containing non-finite values (`stat_smooth()`).”\n",
      "Warning message:\n",
      "“\u001b[1m\u001b[22mRemoved 23 rows containing non-finite values (`stat_regline_equation()`).”\n",
      "Warning message:\n",
      "“\u001b[1m\u001b[22mRemoved 23 rows containing missing values (`geom_point()`).”\n"
     ]
    },
    {
     "data": {
      "image/png": "[encoded data removed]",
      "text/plain": [
       "plot without title"
      ]
     },
     "metadata": {
      "image/png": {
       "height": 420,
       "width": 420
      }
     },
     "output_type": "display_data"
    }
   ],
   "source": [
    "# Convert columns to numeric if they are not already\n",
    "combined_df$triple_nesting <- as.numeric(as.character(combined_df$triple_nesting))\n",
    "combined_df$double_nesting <- as.numeric(as.character(combined_df$double_nesting))\n",
    "\n",
    "# Create the scatter plot\n",
    "ggplot(combined_df, aes(x = triple_nesting, y = double_nesting)) +\n",
    "  geom_point() +  # Add points\n",
    "  geom_smooth(method = \"lm\", se = TRUE, color = \"blue\") +  # Add regression line and CI\n",
    "  geom_abline(intercept = 0, slope = 1, linetype = \"dashed\", color = \"red\") +  # Diagonal line\n",
    "  stat_regline_equation(aes(label = ..rr.label..), label.x.npc = \"left\") +  # Add R²\n",
    "  labs(x = \"Triple-Nesting\", y = \"Double-Nesting\")  # Axis titles\n"
   ]
  },
  {
   "cell_type": "code",
   "execution_count": 51,
   "id": "9697df8d-3c3a-40eb-8d96-9359475fd7bc",
   "metadata": {},
   "outputs": [
    {
     "data": {
      "text/html": [
       "0.185139685526342"
      ],
      "text/latex": [
       "0.185139685526342"
      ],
      "text/markdown": [
       "0.185139685526342"
      ],
      "text/plain": [
       "[1] 0.1851397"
      ]
     },
     "metadata": {},
     "output_type": "display_data"
    }
   ],
   "source": [
    "mean(na.omit(combined_df$triple_nesting))"
   ]
  },
  {
   "cell_type": "code",
   "execution_count": 52,
   "id": "9d491913-6df0-400c-b4dd-693f81a94d71",
   "metadata": {},
   "outputs": [
    {
     "data": {
      "text/html": [
       "0.317879325423587"
      ],
      "text/latex": [
       "0.317879325423587"
      ],
      "text/markdown": [
       "0.317879325423587"
      ],
      "text/plain": [
       "[1] 0.3178793"
      ]
     },
     "metadata": {},
     "output_type": "display_data"
    }
   ],
   "source": [
    "mean(na.omit(combined_df$double_nesting))"
   ]
  },
  {
   "cell_type": "markdown",
   "id": "59eecdbf-cdba-4551-a892-ee5453317fe5",
   "metadata": {},
   "source": [
    "## Evaluate overall performance"
   ]
  },
  {
   "cell_type": "markdown",
   "id": "38bfd07a-0fbb-45b7-b8b2-144cc8def45d",
   "metadata": {},
   "source": [
    "For each methylation site, only keep the test for the `window_size` giving the greatest R^2"
   ]
  },
  {
   "cell_type": "code",
   "execution_count": 57,
   "id": "80e0979e-f367-4537-8c8a-c10ae0b79805",
   "metadata": {},
   "outputs": [
    {
     "name": "stdout",
     "output_type": "stream",
     "text": [
      "\u001b[90m# A tibble: 11 × 8\u001b[39m\n",
      "\u001b[90m# Groups:   methylationPosition [11]\u001b[39m\n",
      "   methylationPosition windowSize nSNPs   cor     mse alpha lambda runtime\n",
      "                 \u001b[3m\u001b[90m<int>\u001b[39m\u001b[23m      \u001b[3m\u001b[90m<dbl>\u001b[39m\u001b[23m \u001b[3m\u001b[90m<int>\u001b[39m\u001b[23m \u001b[3m\u001b[90m<dbl>\u001b[39m\u001b[23m   \u001b[3m\u001b[90m<dbl>\u001b[39m\u001b[23m \u001b[3m\u001b[90m<dbl>\u001b[39m\u001b[23m  \u001b[3m\u001b[90m<dbl>\u001b[39m\u001b[23m   \u001b[3m\u001b[90m<dbl>\u001b[39m\u001b[23m\n",
      "\u001b[90m 1\u001b[39m            87\u001b[4m8\u001b[24m\u001b[4m1\u001b[24m\u001b[4m8\u001b[24m200     \u001b[4m2\u001b[24m\u001b[4m0\u001b[24m\u001b[4m0\u001b[24m000   591 0.535 0.001\u001b[4m1\u001b[24m\u001b[4m4\u001b[24m     0   14.6    2.83\n",
      "\u001b[90m 2\u001b[39m            87\u001b[4m8\u001b[24m\u001b[4m1\u001b[24m\u001b[4m8\u001b[24m244     \u001b[4m2\u001b[24m\u001b[4m0\u001b[24m\u001b[4m0\u001b[24m000   591 0.541 0.001\u001b[4m2\u001b[24m\u001b[4m0\u001b[24m     0   14.8    2.80\n",
      "\u001b[90m 3\u001b[39m            87\u001b[4m8\u001b[24m\u001b[4m1\u001b[24m\u001b[4m8\u001b[24m262     \u001b[4m2\u001b[24m\u001b[4m0\u001b[24m\u001b[4m0\u001b[24m000   591 0.543 0.001\u001b[4m2\u001b[24m\u001b[4m2\u001b[24m     0   14.9    2.72\n",
      "\u001b[90m 4\u001b[39m            87\u001b[4m8\u001b[24m\u001b[4m1\u001b[24m\u001b[4m8\u001b[24m291     \u001b[4m2\u001b[24m\u001b[4m0\u001b[24m\u001b[4m0\u001b[24m000   591 0.547 0.001\u001b[4m2\u001b[24m\u001b[4m6\u001b[24m     0   15.1    2.69\n",
      "\u001b[90m 5\u001b[39m            87\u001b[4m8\u001b[24m\u001b[4m1\u001b[24m\u001b[4m8\u001b[24m777     \u001b[4m1\u001b[24m\u001b[4m0\u001b[24m\u001b[4m0\u001b[24m000   236 0.628 0.001\u001b[4m9\u001b[24m\u001b[4m0\u001b[24m     0   13.6    5.02\n",
      "\u001b[90m 6\u001b[39m            87\u001b[4m8\u001b[24m\u001b[4m1\u001b[24m\u001b[4m8\u001b[24m847     \u001b[4m1\u001b[24m\u001b[4m0\u001b[24m\u001b[4m0\u001b[24m000   236 0.625 0.001\u001b[4m9\u001b[24m\u001b[4m6\u001b[24m     0   13.7    5.07\n",
      "\u001b[90m 7\u001b[39m            87\u001b[4m8\u001b[24m\u001b[4m1\u001b[24m\u001b[4m9\u001b[24m360     \u001b[4m2\u001b[24m\u001b[4m0\u001b[24m\u001b[4m0\u001b[24m000   593 0.595 0.002\u001b[4m0\u001b[24m\u001b[4m5\u001b[24m     0   18.1    2.95\n",
      "\u001b[90m 8\u001b[39m            87\u001b[4m8\u001b[24m\u001b[4m1\u001b[24m\u001b[4m9\u001b[24m622     \u001b[4m2\u001b[24m\u001b[4m0\u001b[24m\u001b[4m0\u001b[24m000   593 0.421 0.001\u001b[4m8\u001b[24m\u001b[4m2\u001b[24m     0   18.2    2.83\n",
      "\u001b[90m 9\u001b[39m            87\u001b[4m8\u001b[24m\u001b[4m1\u001b[24m\u001b[4m9\u001b[24m799      \u001b[4m5\u001b[24m\u001b[4m0\u001b[24m000   101 0.396 0.001\u001b[4m5\u001b[24m\u001b[4m9\u001b[24m     0   12.3    3.29\n",
      "\u001b[90m10\u001b[39m            87\u001b[4m8\u001b[24m\u001b[4m1\u001b[24m\u001b[4m9\u001b[24m982      \u001b[4m5\u001b[24m\u001b[4m0\u001b[24m000   101 0.362 0.001\u001b[4m3\u001b[24m\u001b[4m6\u001b[24m     0   11.7    3.15\n",
      "\u001b[90m11\u001b[39m            87\u001b[4m8\u001b[24m\u001b[4m2\u001b[24m\u001b[4m0\u001b[24m227      \u001b[4m5\u001b[24m\u001b[4m0\u001b[24m000   100 0.303 0.001\u001b[4m1\u001b[24m\u001b[4m5\u001b[24m     0   10.7    3.22\n"
     ]
    }
   ],
   "source": [
    "library(dplyr)\n",
    "\n",
    "# Assuming your data frame is named df\n",
    "result_df_1 <- df_1 %>%\n",
    "  group_by(methylationPosition) %>%\n",
    "  filter(cor == max(cor, na.rm = TRUE))\n",
    "\n",
    "# View the resulting data frame\n",
    "print(result_df_1)\n"
   ]
  },
  {
   "cell_type": "code",
   "execution_count": 62,
   "id": "34d31203-c4c4-4f88-a3b7-5c59a86ff5f2",
   "metadata": {},
   "outputs": [
    {
     "data": {
      "text/html": [
       "0.499631220305984"
      ],
      "text/latex": [
       "0.499631220305984"
      ],
      "text/markdown": [
       "0.499631220305984"
      ],
      "text/plain": [
       "[1] 0.4996312"
      ]
     },
     "metadata": {},
     "output_type": "display_data"
    }
   ],
   "source": [
    "mean(result_df_1$cor)"
   ]
  },
  {
   "cell_type": "code",
   "execution_count": 60,
   "id": "b5b01b3c-c8a9-41ec-a339-390cb56b8d88",
   "metadata": {},
   "outputs": [
    {
     "name": "stdout",
     "output_type": "stream",
     "text": [
      "\u001b[90m# A tibble: 11 × 8\u001b[39m\n",
      "\u001b[90m# Groups:   methylationPosition [11]\u001b[39m\n",
      "   methylationPosition windowSize nSNPs   cor     mse alpha lambda  runtime\n",
      "                 \u001b[3m\u001b[90m<int>\u001b[39m\u001b[23m      \u001b[3m\u001b[90m<dbl>\u001b[39m\u001b[23m \u001b[3m\u001b[90m<int>\u001b[39m\u001b[23m \u001b[3m\u001b[90m<dbl>\u001b[39m\u001b[23m   \u001b[3m\u001b[90m<dbl>\u001b[39m\u001b[23m \u001b[3m\u001b[90m<dbl>\u001b[39m\u001b[23m  \u001b[3m\u001b[90m<dbl>\u001b[39m\u001b[23m    \u001b[3m\u001b[90m<dbl>\u001b[39m\u001b[23m\n",
      "\u001b[90m 1\u001b[39m            87\u001b[4m8\u001b[24m\u001b[4m1\u001b[24m\u001b[4m8\u001b[24m200     \u001b[4m5\u001b[24m\u001b[4m0\u001b[24m\u001b[4m0\u001b[24m000  \u001b[4m1\u001b[24m336 0.569 0.001\u001b[4m6\u001b[24m\u001b[4m1\u001b[24m     0   15.0 0.000\u001b[4m8\u001b[24m\u001b[4m1\u001b[24m\u001b[4m3\u001b[24m\n",
      "\u001b[90m 2\u001b[39m            87\u001b[4m8\u001b[24m\u001b[4m1\u001b[24m\u001b[4m8\u001b[24m244     \u001b[4m5\u001b[24m\u001b[4m0\u001b[24m\u001b[4m0\u001b[24m000  \u001b[4m1\u001b[24m336 0.567 0.001\u001b[4m6\u001b[24m\u001b[4m6\u001b[24m     0   15.3 0.000\u001b[4m8\u001b[24m\u001b[4m8\u001b[24m\u001b[4m3\u001b[24m\n",
      "\u001b[90m 3\u001b[39m            87\u001b[4m8\u001b[24m\u001b[4m1\u001b[24m\u001b[4m8\u001b[24m262     \u001b[4m5\u001b[24m\u001b[4m0\u001b[24m\u001b[4m0\u001b[24m000  \u001b[4m1\u001b[24m336 0.567 0.001\u001b[4m6\u001b[24m\u001b[4m8\u001b[24m     0   15.4 0.000\u001b[4m9\u001b[24m\u001b[4m0\u001b[24m\u001b[4m3\u001b[24m\n",
      "\u001b[90m 4\u001b[39m            87\u001b[4m8\u001b[24m\u001b[4m1\u001b[24m\u001b[4m8\u001b[24m291     \u001b[4m5\u001b[24m\u001b[4m0\u001b[24m\u001b[4m0\u001b[24m000  \u001b[4m1\u001b[24m336 0.566 0.001\u001b[4m7\u001b[24m\u001b[4m1\u001b[24m     0   15.6 0.000\u001b[4m9\u001b[24m\u001b[4m2\u001b[24m\u001b[4m1\u001b[24m\n",
      "\u001b[90m 5\u001b[39m            87\u001b[4m8\u001b[24m\u001b[4m1\u001b[24m\u001b[4m8\u001b[24m777     \u001b[4m5\u001b[24m\u001b[4m0\u001b[24m\u001b[4m0\u001b[24m000  \u001b[4m1\u001b[24m336 0.557 0.002\u001b[4m2\u001b[24m\u001b[4m2\u001b[24m     0   17.8 0.000\u001b[4m9\u001b[24m\u001b[4m0\u001b[24m\u001b[4m8\u001b[24m\n",
      "\u001b[90m 6\u001b[39m            87\u001b[4m8\u001b[24m\u001b[4m1\u001b[24m\u001b[4m8\u001b[24m847     \u001b[4m5\u001b[24m\u001b[4m0\u001b[24m\u001b[4m0\u001b[24m000  \u001b[4m1\u001b[24m336 0.556 0.002\u001b[4m2\u001b[24m\u001b[4m7\u001b[24m     0   17.9 0.000\u001b[4m9\u001b[24m\u001b[4m0\u001b[24m\u001b[4m2\u001b[24m\n",
      "\u001b[90m 7\u001b[39m            87\u001b[4m8\u001b[24m\u001b[4m1\u001b[24m\u001b[4m9\u001b[24m360     \u001b[4m5\u001b[24m\u001b[4m0\u001b[24m\u001b[4m0\u001b[24m000  \u001b[4m1\u001b[24m337 0.548 0.002\u001b[4m3\u001b[24m\u001b[4m9\u001b[24m     0   18.0 0.000\u001b[4m9\u001b[24m\u001b[4m0\u001b[24m\u001b[4m5\u001b[24m\n",
      "\u001b[90m 8\u001b[39m            87\u001b[4m8\u001b[24m\u001b[4m1\u001b[24m\u001b[4m9\u001b[24m622     \u001b[4m5\u001b[24m\u001b[4m0\u001b[24m\u001b[4m0\u001b[24m000  \u001b[4m1\u001b[24m338 0.542 0.002\u001b[4m2\u001b[24m\u001b[4m1\u001b[24m     0   16.8 0.000\u001b[4m8\u001b[24m\u001b[4m7\u001b[24m\u001b[4m1\u001b[24m\n",
      "\u001b[90m 9\u001b[39m            87\u001b[4m8\u001b[24m\u001b[4m1\u001b[24m\u001b[4m9\u001b[24m799     \u001b[4m5\u001b[24m\u001b[4m0\u001b[24m\u001b[4m0\u001b[24m000  \u001b[4m1\u001b[24m338 0.537 0.002\u001b[4m0\u001b[24m\u001b[4m5\u001b[24m     0   15.6 0.000\u001b[4m9\u001b[24m\u001b[4m0\u001b[24m\u001b[4m8\u001b[24m\n",
      "\u001b[90m10\u001b[39m            87\u001b[4m8\u001b[24m\u001b[4m1\u001b[24m\u001b[4m9\u001b[24m982     \u001b[4m5\u001b[24m\u001b[4m0\u001b[24m\u001b[4m0\u001b[24m000  \u001b[4m1\u001b[24m337 0.533 0.001\u001b[4m9\u001b[24m\u001b[4m0\u001b[24m     0   14.2 0.000\u001b[4m9\u001b[24m\u001b[4m0\u001b[24m\u001b[4m0\u001b[24m\n",
      "\u001b[90m11\u001b[39m            87\u001b[4m8\u001b[24m\u001b[4m2\u001b[24m\u001b[4m0\u001b[24m227     \u001b[4m5\u001b[24m\u001b[4m0\u001b[24m\u001b[4m0\u001b[24m000  \u001b[4m1\u001b[24m337 0.535 0.001\u001b[4m7\u001b[24m\u001b[4m7\u001b[24m     0   12.5 0.000\u001b[4m8\u001b[24m\u001b[4m9\u001b[24m\u001b[4m2\u001b[24m\n"
     ]
    }
   ],
   "source": [
    "# Assuming your data frame is named df\n",
    "result_df_2 <- df_2 %>%\n",
    "  group_by(methylationPosition) %>%\n",
    "  filter(cor == max(cor, na.rm = TRUE))\n",
    "\n",
    "# View the resulting data frame\n",
    "print(result_df_2)"
   ]
  },
  {
   "cell_type": "markdown",
   "id": "0c43a4af-f83a-4ef2-acc7-23433226aeb4",
   "metadata": {},
   "source": [
    "Note: For this sample subset, alpha := 0, meaning elastic net always results in pure ridge regression"
   ]
  },
  {
   "cell_type": "code",
   "execution_count": 63,
   "id": "39bb42d4-f003-4439-b617-c2a8bd52ccc2",
   "metadata": {},
   "outputs": [
    {
     "data": {
      "text/html": [
       "0.552413540617139"
      ],
      "text/latex": [
       "0.552413540617139"
      ],
      "text/markdown": [
       "0.552413540617139"
      ],
      "text/plain": [
       "[1] 0.5524135"
      ]
     },
     "metadata": {},
     "output_type": "display_data"
    }
   ],
   "source": [
    "mean(result_df_2$cor)"
   ]
  },
  {
   "cell_type": "code",
   "execution_count": null,
   "id": "70c7f594-4c70-4d93-9632-32c2b2c46861",
   "metadata": {},
   "outputs": [],
   "source": []
  }
 ],
 "metadata": {
  "kernelspec": {
   "display_name": "R",
   "language": "R",
   "name": "ir"
  },
  "language_info": {
   "codemirror_mode": "r",
   "file_extension": ".r",
   "mimetype": "text/x-r-source",
   "name": "R",
   "pygments_lexer": "r",
   "version": "4.3.2"
  }
 },
 "nbformat": 4,
 "nbformat_minor": 5
}
