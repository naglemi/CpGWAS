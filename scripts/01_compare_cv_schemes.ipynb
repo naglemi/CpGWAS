{
 "cells": [
  {
   "cell_type": "markdown",
   "id": "0d495431-29b2-4030-8f9d-351c673b747d",
   "metadata": {},
   "source": [
    "# Compare speed and similarity in results for two cross-validation schemes"
   ]
  },
  {
   "cell_type": "markdown",
   "id": "fc8c8af2-30bd-4af1-9186-0ce135142a83",
   "metadata": {},
   "source": [
    "Cross-validation is important for 1) tuning to determine alpha and lambda parameters in elastic net models, and 2) evaluating performance of optimized models while parameters are fixed.\n",
    "\n",
    "We wish to perform cross-validation in a manner that will give us the best cost/benefit ratio with respect to computational expense and model quality."
   ]
  },
  {
   "cell_type": "markdown",
   "id": "5aa27ff1-81de-478f-ab1e-2bf7e0779b51",
   "metadata": {},
   "source": [
    "## Prepare inputs"
   ]
  },
  {
   "cell_type": "code",
   "execution_count": 1,
   "id": "c2328408-d295-4387-afab-34c511b18b93",
   "metadata": {
    "scrolled": true
   },
   "outputs": [],
   "source": [
    "library(CpGWAS)"
   ]
  },
  {
   "cell_type": "markdown",
   "id": "ff5b504e-9698-4a7d-a7d5-87bc89ac916d",
   "metadata": {},
   "source": [
    "Let's run these tests over a very small chunk on one chromosome."
   ]
  },
  {
   "cell_type": "code",
   "execution_count": 2,
   "id": "c0d0abbe-22ea-46d4-ae1f-245de3f2e55e",
   "metadata": {},
   "outputs": [],
   "source": [
    "args <- list(\n",
    "    outdir = \"../output/\",\n",
    "    chunk1 = 10^6,\n",
    "    chunk2 = 10^6 + 1000,\n",
    "    snp_data_path = \"../../mwas/gwas/libd_chr1.pgen\",\n",
    "    methylation_data_path = \"../../mwas/pheno/dlpfc/out/chr1_AA.rda\")"
   ]
  },
  {
   "cell_type": "markdown",
   "id": "6aa64a39-88cb-4498-9711-55760d3a1adb",
   "metadata": {},
   "source": [
    "Load our `BSseq` object containing bisulfite sequencing data and covariates"
   ]
  },
  {
   "cell_type": "code",
   "execution_count": 5,
   "id": "ecbe46a8-10ae-43c7-bbea-1f1d55464b29",
   "metadata": {},
   "outputs": [],
   "source": [
    "load(args$methylation_data_path)"
   ]
  },
  {
   "cell_type": "markdown",
   "id": "a2ab1fe5-7e86-41fd-ac60-d3e73b50b0e4",
   "metadata": {},
   "source": [
    "Organize inputs into an object of our class `MethylationInput`"
   ]
  },
  {
   "cell_type": "code",
   "execution_count": 6,
   "id": "24166609-049c-462a-aca4-9e4e479ee5f1",
   "metadata": {},
   "outputs": [
    {
     "name": "stdout",
     "output_type": "stream",
     "text": [
      "Dimensions of methylations:  111 2202819 \n",
      "Dimensions of cov_matrix:  111 5 \n",
      "Dimensions of pseudoinv:  5 111 \n"
     ]
    }
   ],
   "source": [
    "methInput <- new(\"MethylationInput\",\n",
    "                 BSseq_obj = BSobj2,\n",
    "                 snp_data_path = args$snp_data_path,\n",
    "                 args = args)"
   ]
  },
  {
   "cell_type": "markdown",
   "id": "df4fa228-76ea-4bb2-8f30-d358e654a68c",
   "metadata": {},
   "source": [
    "Define window sizes for SNPs to be extracted surrounding each methylation site"
   ]
  },
  {
   "cell_type": "code",
   "execution_count": null,
   "id": "153cf041-33cb-4dba-b629-25cf878c8a01",
   "metadata": {},
   "outputs": [],
   "source": [
    "window_sizes <- c(1000, 2000, 5000, 10000, 20000, 50000, 100000, 200000, 500000)"
   ]
  },
  {
   "cell_type": "code",
   "execution_count": null,
   "id": "2e84052d-457b-4d56-939f-491497da393e",
   "metadata": {},
   "outputs": [],
   "source": [
    "scaffoldIdentifier_prefix <- paste0(tools::file_path_sans_ext(basename(args$snp_data_path)),\n",
    "                                    \"-\",\n",
    "                                    tools::file_path_sans_ext(basename(args$methylation_data_path)))"
   ]
  },
  {
   "cell_type": "markdown",
   "id": "68cc93c6-1cc1-4927-9f07-f9fdeed9bbc7",
   "metadata": {},
   "source": [
    "## Try triple-nested CV scheme"
   ]
  },
  {
   "cell_type": "code",
   "execution_count": null,
   "id": "3bb7e296-e639-43d0-81eb-d25c275c0b36",
   "metadata": {},
   "outputs": [],
   "source": [
    "start_time <- Sys.time() "
   ]
  },
  {
   "cell_type": "code",
   "execution_count": null,
   "id": "758dd5c4-973b-4c44-8b7a-9ed5a3e1496c",
   "metadata": {},
   "outputs": [],
   "source": [
    "scaffoldIdentifier_1 <- paste0(scaffoldIdentifier_prefix, \"_scheme1\")"
   ]
  },
  {
   "cell_type": "code",
   "execution_count": null,
   "id": "c83ca1d1-21c3-48f8-8f98-a0f4a3ecdd0a",
   "metadata": {},
   "outputs": [],
   "source": [
    "scaffold_models_1 <- suppressWarnings(build_prediction_model(\n",
    "  BSobj = BSobj2,\n",
    "  methInput = methInput,\n",
    "  window_sizes = window_sizes,\n",
    "  chunk1 = args$chunk1,\n",
    "  chunk2 = args$chunk2,\n",
    "  n_fold = 5,\n",
    "  cv_nesting = \"triple\",\n",
    "  scaffoldIdentifier = scaffoldIdentifier_1,\n",
    "  outdir = args$outdir,\n",
    "  record_runtime = TRUE\n",
    "))\n",
    "\n",
    "df_1 <- convertToDataFrame(scaffold_models_1)"
   ]
  },
  {
   "cell_type": "code",
   "execution_count": null,
   "id": "0b5d9c7c-072a-4e28-bf56-6e90359d826d",
   "metadata": {
    "scrolled": true
   },
   "outputs": [],
   "source": [
    "df_1"
   ]
  },
  {
   "cell_type": "code",
   "execution_count": null,
   "id": "fe554153-68df-4ba9-a8c4-785efb172f5f",
   "metadata": {},
   "outputs": [],
   "source": [
    "end_time <- Sys.time()  # End time capture\n",
    "total_runtime <- end_time - start_time\n",
    "total_runtime_seconds <- as.numeric(total_runtime, units = \"secs\")\n",
    "hours <- total_runtime_seconds %/% 3600\n",
    "minutes <- (total_runtime_seconds %% 3600) %/% 60\n",
    "seconds <- total_runtime_seconds %% 60\n",
    "\n",
    "# Report the runtime\n",
    "cat(sprintf(\"Processed chunks %d through %d in %d hours, %d minutes and %d seconds.\\n\",\n",
    "            args$chunk1, args$chunk2, as.integer(hours), as.integer(minutes), as.integer(seconds)))"
   ]
  },
  {
   "cell_type": "markdown",
   "id": "6979d0bd-a04c-4c6b-a26f-7635d7a05e19",
   "metadata": {},
   "source": [
    "## Try double-nested, two-step CV scheme"
   ]
  },
  {
   "cell_type": "code",
   "execution_count": null,
   "id": "3b9bc633-2d90-4917-8adf-4845030cfab6",
   "metadata": {},
   "outputs": [],
   "source": [
    "start_time <- Sys.time() "
   ]
  },
  {
   "cell_type": "code",
   "execution_count": null,
   "id": "a55c3674-db3e-451a-b9d9-cf64ef21268b",
   "metadata": {},
   "outputs": [],
   "source": [
    "scaffoldIdentifier_2 <- paste0(scaffoldIdentifier_prefix, \"_scheme2\")"
   ]
  },
  {
   "cell_type": "code",
   "execution_count": null,
   "id": "affb031f-acea-4c81-abe1-c5289292d93f",
   "metadata": {},
   "outputs": [],
   "source": [
    "scaffold_models_2 <- suppressWarnings(build_prediction_model(\n",
    "  BSobj = BSobj2,\n",
    "  methInput = methInput,\n",
    "  window_sizes = window_sizes,\n",
    "  chunk1 = args$chunk1,\n",
    "  chunk2 = args$chunk2,\n",
    "  n_fold = 5,\n",
    "  cv_nesting = \"double\",\n",
    "  scaffoldIdentifier = scaffoldIdentifier_2,\n",
    "  outdir = args$outdir,\n",
    "  record_runtime = TRUE\n",
    "))\n",
    "\n",
    "df_2 <- convertToDataFrame(scaffold_models_2)"
   ]
  },
  {
   "cell_type": "code",
   "execution_count": null,
   "id": "092bb725-241d-47d1-b693-32dce6ad7c07",
   "metadata": {},
   "outputs": [],
   "source": [
    "end_time <- Sys.time()  # End time capture\n",
    "total_runtime <- end_time - start_time\n",
    "total_runtime_seconds <- as.numeric(total_runtime, units = \"secs\")\n",
    "hours <- total_runtime_seconds %/% 3600\n",
    "minutes <- (total_runtime_seconds %% 3600) %/% 60\n",
    "seconds <- total_runtime_seconds %% 60\n",
    "\n",
    "# Report the runtime\n",
    "cat(sprintf(\"Processed chunks %d through %d in %d hours, %d minutes and %d seconds.\\n\",\n",
    "            args$chunk1, args$chunk2, as.integer(hours), as.integer(minutes), as.integer(seconds)))"
   ]
  },
  {
   "cell_type": "markdown",
   "id": "db32367d-e07d-4581-bd05-292b118f3b23",
   "metadata": {},
   "source": [
    "## Compare results across two scheme"
   ]
  },
  {
   "cell_type": "code",
   "execution_count": null,
   "id": "12ad872a-ddd7-43ea-bc63-5721f2b4f562",
   "metadata": {},
   "outputs": [],
   "source": [
    "df_1 <- convertToDataFrame(scaffold_models_1)\n",
    "df_2 <- convertToDataFrame(scaffold_models_2)"
   ]
  },
  {
   "cell_type": "code",
   "execution_count": null,
   "id": "d682e7d6-7baa-425b-80a6-624e91f69759",
   "metadata": {},
   "outputs": [],
   "source": [
    "dim(df_1)\n",
    "dim(df_2)"
   ]
  },
  {
   "cell_type": "code",
   "execution_count": null,
   "id": "386e4a24-0a87-4bb3-88f1-541d87fb98fb",
   "metadata": {},
   "outputs": [],
   "source": [
    "df_1$scaffoldIdentifier <- df_2$scaffoldIdentifier <- NULL"
   ]
  },
  {
   "cell_type": "code",
   "execution_count": null,
   "id": "90522b65-246f-4b75-9fbd-8ac53e946cff",
   "metadata": {},
   "outputs": [],
   "source": [
    "identical(df_1, df_2)"
   ]
  },
  {
   "cell_type": "markdown",
   "id": "e87a53f9-bc2c-4e78-82eb-398f9b543a8b",
   "metadata": {},
   "source": [
    "Make sure orders of samples are the same"
   ]
  },
  {
   "cell_type": "code",
   "execution_count": null,
   "id": "ad428cbf-c856-45a0-a214-b018a25f25bd",
   "metadata": {},
   "outputs": [],
   "source": [
    "df_1_metadata <- df_1[,1:3]\n",
    "df_2_metadata <- df_2[,1:3]"
   ]
  },
  {
   "cell_type": "code",
   "execution_count": null,
   "id": "8fd31a9c-9541-4852-9f06-f09567bafb9b",
   "metadata": {
    "scrolled": true
   },
   "outputs": [],
   "source": [
    "identical(df_1_metadata, df_2_metadata)"
   ]
  },
  {
   "cell_type": "markdown",
   "id": "7c542e77-8056-4266-9e19-69673e3e8891",
   "metadata": {},
   "source": [
    "Compare correlations between predicted and observed values, across the two nesting schema"
   ]
  },
  {
   "cell_type": "code",
   "execution_count": null,
   "id": "b4bffe82-6351-4557-94da-7d2c00a5f775",
   "metadata": {},
   "outputs": [],
   "source": []
  },
  {
   "cell_type": "code",
   "execution_count": null,
   "id": "0c9cb091-a731-48fa-ad34-65c84ececf63",
   "metadata": {},
   "outputs": [],
   "source": [
    "library(ggplot2)\n",
    "library(ggpubr)\n",
    "\n",
    "# Merge the two data frames (assuming they have the same number of rows)\n",
    "combined_df <- data.frame(triple_nesting = df_1$cor, double_nesting = df_2$cor)"
   ]
  },
  {
   "cell_type": "code",
   "execution_count": null,
   "id": "057ffdbc-4c4d-48ab-81b6-fbf8d512e1ee",
   "metadata": {},
   "outputs": [],
   "source": [
    "combined_df"
   ]
  },
  {
   "cell_type": "markdown",
   "id": "62d2590b-6ce7-4597-8aed-22a484cdc60e",
   "metadata": {},
   "source": [
    "Note: We're left with dropout (no terms kept in model) much more often with triple than double-nested scheme?"
   ]
  },
  {
   "cell_type": "code",
   "execution_count": null,
   "id": "ec5ec104-ff43-412c-a74c-41be8e9ff2ed",
   "metadata": {},
   "outputs": [],
   "source": [
    "combined_df <- na.omit(combined_df))"
   ]
  },
  {
   "cell_type": "code",
   "execution_count": null,
   "id": "825f3345-967f-4f63-ad16-4a1b76443440",
   "metadata": {
    "scrolled": true
   },
   "outputs": [],
   "source": [
    "combined_df"
   ]
  },
  {
   "cell_type": "code",
   "execution_count": null,
   "id": "fe3d7b37-8645-422c-b715-ed33566fc631",
   "metadata": {},
   "outputs": [],
   "source": [
    "# Convert columns to numeric if they are not already\n",
    "combined_df$triple_nesting <- as.numeric(as.character(combined_df$triple_nesting))\n",
    "combined_df$double_nesting <- as.numeric(as.character(combined_df$double_nesting))\n",
    "\n",
    "# Create the scatter plot\n",
    "ggplot(combined_df, aes(x = triple_nesting, y = double_nesting)) +\n",
    "  geom_point() +  # Add points\n",
    "  geom_smooth(method = \"lm\", se = TRUE, color = \"blue\") +  # Add regression line and CI\n",
    "  geom_abline(intercept = 0, slope = 1, linetype = \"dashed\", color = \"red\") +  # Diagonal line\n",
    "  stat_regline_equation(aes(label = ..rr.label..), label.x.npc = \"left\") +  # Add R²\n",
    "  labs(x = \"Triple-Nesting\", y = \"Double-Nesting\")  # Axis titles\n"
   ]
  },
  {
   "cell_type": "code",
   "execution_count": null,
   "id": "9697df8d-3c3a-40eb-8d96-9359475fd7bc",
   "metadata": {},
   "outputs": [],
   "source": [
    "mean(na.omit(combined_df$triple_nesting))"
   ]
  },
  {
   "cell_type": "code",
   "execution_count": null,
   "id": "9d491913-6df0-400c-b4dd-693f81a94d71",
   "metadata": {},
   "outputs": [],
   "source": [
    "mean(na.omit(combined_df$double_nesting))"
   ]
  },
  {
   "cell_type": "markdown",
   "id": "59eecdbf-cdba-4551-a892-ee5453317fe5",
   "metadata": {},
   "source": [
    "## Evaluate overall performance"
   ]
  },
  {
   "cell_type": "markdown",
   "id": "38bfd07a-0fbb-45b7-b8b2-144cc8def45d",
   "metadata": {},
   "source": [
    "For each methylation site, only keep the test for the `window_size` giving the greatest R^2"
   ]
  },
  {
   "cell_type": "code",
   "execution_count": null,
   "id": "80e0979e-f367-4537-8c8a-c10ae0b79805",
   "metadata": {},
   "outputs": [],
   "source": [
    "library(dplyr)\n",
    "\n",
    "# Assuming your data frame is named df\n",
    "result_df_1 <- df_1 %>%\n",
    "  group_by(methylationPosition) %>%\n",
    "  filter(cor == max(cor, na.rm = TRUE))\n",
    "\n",
    "# View the resulting data frame\n",
    "print(result_df_1)\n"
   ]
  },
  {
   "cell_type": "code",
   "execution_count": null,
   "id": "34d31203-c4c4-4f88-a3b7-5c59a86ff5f2",
   "metadata": {},
   "outputs": [],
   "source": [
    "mean(result_df_1$cor)"
   ]
  },
  {
   "cell_type": "code",
   "execution_count": null,
   "id": "b5b01b3c-c8a9-41ec-a339-390cb56b8d88",
   "metadata": {},
   "outputs": [],
   "source": [
    "# Assuming your data frame is named df\n",
    "result_df_2 <- df_2 %>%\n",
    "  group_by(methylationPosition) %>%\n",
    "  filter(cor == max(cor, na.rm = TRUE))\n",
    "\n",
    "# View the resulting data frame\n",
    "print(result_df_2)"
   ]
  },
  {
   "cell_type": "markdown",
   "id": "0c43a4af-f83a-4ef2-acc7-23433226aeb4",
   "metadata": {},
   "source": [
    "Note: For this sample subset, alpha := 0, meaning elastic net always results in pure ridge regression"
   ]
  },
  {
   "cell_type": "code",
   "execution_count": null,
   "id": "39bb42d4-f003-4439-b617-c2a8bd52ccc2",
   "metadata": {},
   "outputs": [],
   "source": [
    "mean(result_df_2$cor)"
   ]
  },
  {
   "cell_type": "code",
   "execution_count": null,
   "id": "70c7f594-4c70-4d93-9632-32c2b2c46861",
   "metadata": {},
   "outputs": [],
   "source": []
  }
 ],
 "metadata": {
  "kernelspec": {
   "display_name": "R",
   "language": "R",
   "name": "ir"
  },
  "language_info": {
   "codemirror_mode": "r",
   "file_extension": ".r",
   "mimetype": "text/x-r-source",
   "name": "R",
   "pygments_lexer": "r",
   "version": "4.3.2"
  }
 },
 "nbformat": 4,
 "nbformat_minor": 5
}
