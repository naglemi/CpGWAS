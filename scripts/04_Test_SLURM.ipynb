{
 "cells": [
  {
   "cell_type": "markdown",
   "id": "0cb72484-0e2e-4d13-bda9-58fe13e8ae34",
   "metadata": {},
   "source": [
    "# Prep SLURM commands"
   ]
  },
  {
   "cell_type": "code",
   "execution_count": 1,
   "id": "16eddb68-67bf-48d8-9343-a7e48c69b312",
   "metadata": {},
   "outputs": [
    {
     "data": {
      "text/html": [
       "'/dcs04/lieber/statsgen/mnagle/mwas/CpGWAS/scripts'"
      ],
      "text/latex": [
       "'/dcs04/lieber/statsgen/mnagle/mwas/CpGWAS/scripts'"
      ],
      "text/markdown": [
       "'/dcs04/lieber/statsgen/mnagle/mwas/CpGWAS/scripts'"
      ],
      "text/plain": [
       "[1] \"/dcs04/lieber/statsgen/mnagle/mwas/CpGWAS/scripts\""
      ]
     },
     "metadata": {},
     "output_type": "display_data"
    }
   ],
   "source": [
    "getwd()"
   ]
  },
  {
   "cell_type": "code",
   "execution_count": 2,
   "id": "82f55bee-2e04-4858-a040-64869a761882",
   "metadata": {},
   "outputs": [],
   "source": [
    "setwd(\"../\")"
   ]
  },
  {
   "cell_type": "code",
   "execution_count": 3,
   "id": "bb1308f1-f068-4f2c-8097-cca4fdc14c2b",
   "metadata": {},
   "outputs": [
    {
     "name": "stdout",
     "output_type": "stream",
     "text": [
      "#!/bin/bash\n",
      "#SBATCH --cpus-per-task=1\n",
      "#SBATCH --mem-per-cpu=16G\n",
      "#SBATCH --output=slurm_output_libd_chr1-chr1_AA-1000000-1001000-static-1corestotal-1corepera-20240131-122515.out\n",
      "#SBATCH --job-name=libd_chr1-chr1_AA-1000000-1001000-static-1corestotal-1corepera-20240131-122515\n",
      "module load conda\n",
      "conda activate mwas\n",
      "echo 'Executing Rscript with arguments: Rscript scripts/CLI.R --outdir=./output/ --chunk1=1e+06 --chunk2=1001000 --snp_data_path=/dcs04/lieber/statsgen/mnagle/mwas/gwas/libd_chr1.pgen --methylation_data_path=/dcs04/lieber/statsgen/mnagle/mwas/pheno/dlpfc/out/chr1_AA.rda --verbose=FALSE --lambda_choice=1se --alphas=0.25,0.5,0.75,1 --allow_inefficient_parallelization=FALSE --n_fold=5 --window_sizes=1000,2000,5000,10000,20000,50000,100000,500000 --save_evaluation_results_each_fold=FALSE --save_glmnet_object=FALSE --cv_eval_mode=static --num_cores=1 --cores_per_alpha=1 --tag=libd_chr1-chr1_AA-1000000-1001000-static-1corestotal-1corepera-20240131-122515'\n",
      "Rscript scripts/CLI.R --outdir=./output/ --chunk1=1e+06 --chunk2=1001000 --snp_data_path=/dcs04/lieber/statsgen/mnagle/mwas/gwas/libd_chr1.pgen --methylation_data_path=/dcs04/lieber/statsgen/mnagle/mwas/pheno/dlpfc/out/chr1_AA.rda --verbose=FALSE --lambda_choice=1se --alphas=0.25,0.5,0.75,1 --allow_inefficient_parallelization=FALSE --n_fold=5 --window_sizes=1000,2000,5000,10000,20000,50000,100000,500000 --save_evaluation_results_each_fold=FALSE --save_glmnet_object=FALSE --cv_eval_mode=static --num_cores=1 --cores_per_alpha=1 --tag=libd_chr1-chr1_AA-1000000-1001000-static-1corestotal-1corepera-20240131-122515\n"
     ]
    },
    {
     "name": "stderr",
     "output_type": "stream",
     "text": [
      "ZZZZzzzz....\n",
      "\n"
     ]
    },
    {
     "name": "stdout",
     "output_type": "stream",
     "text": [
      "#!/bin/bash\n",
      "#SBATCH --cpus-per-task=8\n",
      "#SBATCH --mem-per-cpu=16G\n",
      "#SBATCH --output=slurm_output_libd_chr1-chr1_AA-1000000-1001000-static-8corestotal-1corepera-20240131-122516.out\n",
      "#SBATCH --job-name=libd_chr1-chr1_AA-1000000-1001000-static-8corestotal-1corepera-20240131-122516\n",
      "module load conda\n",
      "conda activate mwas\n",
      "echo 'Executing Rscript with arguments: Rscript scripts/CLI.R --outdir=./output/ --chunk1=1e+06 --chunk2=1001000 --snp_data_path=/dcs04/lieber/statsgen/mnagle/mwas/gwas/libd_chr1.pgen --methylation_data_path=/dcs04/lieber/statsgen/mnagle/mwas/pheno/dlpfc/out/chr1_AA.rda --verbose=FALSE --lambda_choice=1se --alphas=0.25,0.5,0.75,1 --allow_inefficient_parallelization=FALSE --n_fold=5 --window_sizes=1000,2000,5000,10000,20000,50000,100000,500000 --save_evaluation_results_each_fold=FALSE --save_glmnet_object=FALSE --cv_eval_mode=static --num_cores=8 --cores_per_alpha=1 --tag=libd_chr1-chr1_AA-1000000-1001000-static-8corestotal-1corepera-20240131-122516'\n",
      "Rscript scripts/CLI.R --outdir=./output/ --chunk1=1e+06 --chunk2=1001000 --snp_data_path=/dcs04/lieber/statsgen/mnagle/mwas/gwas/libd_chr1.pgen --methylation_data_path=/dcs04/lieber/statsgen/mnagle/mwas/pheno/dlpfc/out/chr1_AA.rda --verbose=FALSE --lambda_choice=1se --alphas=0.25,0.5,0.75,1 --allow_inefficient_parallelization=FALSE --n_fold=5 --window_sizes=1000,2000,5000,10000,20000,50000,100000,500000 --save_evaluation_results_each_fold=FALSE --save_glmnet_object=FALSE --cv_eval_mode=static --num_cores=8 --cores_per_alpha=1 --tag=libd_chr1-chr1_AA-1000000-1001000-static-8corestotal-1corepera-20240131-122516\n"
     ]
    },
    {
     "name": "stderr",
     "output_type": "stream",
     "text": [
      "ZZZZzzzz....\n",
      "\n"
     ]
    },
    {
     "name": "stdout",
     "output_type": "stream",
     "text": [
      "#!/bin/bash\n",
      "#SBATCH --cpus-per-task=1\n",
      "#SBATCH --mem-per-cpu=16G\n",
      "#SBATCH --output=slurm_output_libd_chr1-chr1_AA-1000000-1001000-static-1corestotal-allcorepera-20240131-122517.out\n",
      "#SBATCH --job-name=libd_chr1-chr1_AA-1000000-1001000-static-1corestotal-allcorepera-20240131-122517\n",
      "module load conda\n",
      "conda activate mwas\n",
      "echo 'Executing Rscript with arguments: Rscript scripts/CLI.R --outdir=./output/ --chunk1=1e+06 --chunk2=1001000 --snp_data_path=/dcs04/lieber/statsgen/mnagle/mwas/gwas/libd_chr1.pgen --methylation_data_path=/dcs04/lieber/statsgen/mnagle/mwas/pheno/dlpfc/out/chr1_AA.rda --verbose=FALSE --lambda_choice=1se --alphas=0.25,0.5,0.75,1 --allow_inefficient_parallelization=FALSE --n_fold=5 --window_sizes=1000,2000,5000,10000,20000,50000,100000,500000 --save_evaluation_results_each_fold=FALSE --save_glmnet_object=FALSE --cv_eval_mode=static --num_cores=1 --cores_per_alpha=all --tag=libd_chr1-chr1_AA-1000000-1001000-static-1corestotal-allcorepera-20240131-122517'\n",
      "Rscript scripts/CLI.R --outdir=./output/ --chunk1=1e+06 --chunk2=1001000 --snp_data_path=/dcs04/lieber/statsgen/mnagle/mwas/gwas/libd_chr1.pgen --methylation_data_path=/dcs04/lieber/statsgen/mnagle/mwas/pheno/dlpfc/out/chr1_AA.rda --verbose=FALSE --lambda_choice=1se --alphas=0.25,0.5,0.75,1 --allow_inefficient_parallelization=FALSE --n_fold=5 --window_sizes=1000,2000,5000,10000,20000,50000,100000,500000 --save_evaluation_results_each_fold=FALSE --save_glmnet_object=FALSE --cv_eval_mode=static --num_cores=1 --cores_per_alpha=all --tag=libd_chr1-chr1_AA-1000000-1001000-static-1corestotal-allcorepera-20240131-122517\n"
     ]
    },
    {
     "name": "stderr",
     "output_type": "stream",
     "text": [
      "ZZZZzzzz....\n",
      "\n"
     ]
    },
    {
     "name": "stdout",
     "output_type": "stream",
     "text": [
      "#!/bin/bash\n",
      "#SBATCH --cpus-per-task=8\n",
      "#SBATCH --mem-per-cpu=16G\n",
      "#SBATCH --output=slurm_output_libd_chr1-chr1_AA-1000000-1001000-static-8corestotal-allcorepera-20240131-122518.out\n",
      "#SBATCH --job-name=libd_chr1-chr1_AA-1000000-1001000-static-8corestotal-allcorepera-20240131-122518\n",
      "module load conda\n",
      "conda activate mwas\n",
      "echo 'Executing Rscript with arguments: Rscript scripts/CLI.R --outdir=./output/ --chunk1=1e+06 --chunk2=1001000 --snp_data_path=/dcs04/lieber/statsgen/mnagle/mwas/gwas/libd_chr1.pgen --methylation_data_path=/dcs04/lieber/statsgen/mnagle/mwas/pheno/dlpfc/out/chr1_AA.rda --verbose=FALSE --lambda_choice=1se --alphas=0.25,0.5,0.75,1 --allow_inefficient_parallelization=FALSE --n_fold=5 --window_sizes=1000,2000,5000,10000,20000,50000,100000,500000 --save_evaluation_results_each_fold=FALSE --save_glmnet_object=FALSE --cv_eval_mode=static --num_cores=8 --cores_per_alpha=all --tag=libd_chr1-chr1_AA-1000000-1001000-static-8corestotal-allcorepera-20240131-122518'\n",
      "Rscript scripts/CLI.R --outdir=./output/ --chunk1=1e+06 --chunk2=1001000 --snp_data_path=/dcs04/lieber/statsgen/mnagle/mwas/gwas/libd_chr1.pgen --methylation_data_path=/dcs04/lieber/statsgen/mnagle/mwas/pheno/dlpfc/out/chr1_AA.rda --verbose=FALSE --lambda_choice=1se --alphas=0.25,0.5,0.75,1 --allow_inefficient_parallelization=FALSE --n_fold=5 --window_sizes=1000,2000,5000,10000,20000,50000,100000,500000 --save_evaluation_results_each_fold=FALSE --save_glmnet_object=FALSE --cv_eval_mode=static --num_cores=8 --cores_per_alpha=all --tag=libd_chr1-chr1_AA-1000000-1001000-static-8corestotal-allcorepera-20240131-122518\n"
     ]
    },
    {
     "name": "stderr",
     "output_type": "stream",
     "text": [
      "ZZZZzzzz....\n",
      "\n"
     ]
    },
    {
     "name": "stdout",
     "output_type": "stream",
     "text": [
      "#!/bin/bash\n",
      "#SBATCH --cpus-per-task=1\n",
      "#SBATCH --mem-per-cpu=16G\n",
      "#SBATCH --output=slurm_output_libd_chr1-chr1_AA-1000000-1001000-dynamic-1corestotal-1corepera-20240131-122519.out\n",
      "#SBATCH --job-name=libd_chr1-chr1_AA-1000000-1001000-dynamic-1corestotal-1corepera-20240131-122519\n",
      "module load conda\n",
      "conda activate mwas\n",
      "echo 'Executing Rscript with arguments: Rscript scripts/CLI.R --outdir=./output/ --chunk1=1e+06 --chunk2=1001000 --snp_data_path=/dcs04/lieber/statsgen/mnagle/mwas/gwas/libd_chr1.pgen --methylation_data_path=/dcs04/lieber/statsgen/mnagle/mwas/pheno/dlpfc/out/chr1_AA.rda --verbose=FALSE --lambda_choice=1se --alphas=0.25,0.5,0.75,1 --allow_inefficient_parallelization=FALSE --n_fold=5 --window_sizes=1000,2000,5000,10000,20000,50000,100000,500000 --save_evaluation_results_each_fold=FALSE --save_glmnet_object=FALSE --cv_eval_mode=dynamic --num_cores=1 --cores_per_alpha=1 --tag=libd_chr1-chr1_AA-1000000-1001000-dynamic-1corestotal-1corepera-20240131-122519'\n",
      "Rscript scripts/CLI.R --outdir=./output/ --chunk1=1e+06 --chunk2=1001000 --snp_data_path=/dcs04/lieber/statsgen/mnagle/mwas/gwas/libd_chr1.pgen --methylation_data_path=/dcs04/lieber/statsgen/mnagle/mwas/pheno/dlpfc/out/chr1_AA.rda --verbose=FALSE --lambda_choice=1se --alphas=0.25,0.5,0.75,1 --allow_inefficient_parallelization=FALSE --n_fold=5 --window_sizes=1000,2000,5000,10000,20000,50000,100000,500000 --save_evaluation_results_each_fold=FALSE --save_glmnet_object=FALSE --cv_eval_mode=dynamic --num_cores=1 --cores_per_alpha=1 --tag=libd_chr1-chr1_AA-1000000-1001000-dynamic-1corestotal-1corepera-20240131-122519\n"
     ]
    },
    {
     "name": "stderr",
     "output_type": "stream",
     "text": [
      "ZZZZzzzz....\n",
      "\n"
     ]
    },
    {
     "name": "stdout",
     "output_type": "stream",
     "text": [
      "#!/bin/bash\n",
      "#SBATCH --cpus-per-task=8\n",
      "#SBATCH --mem-per-cpu=16G\n",
      "#SBATCH --output=slurm_output_libd_chr1-chr1_AA-1000000-1001000-dynamic-8corestotal-1corepera-20240131-122520.out\n",
      "#SBATCH --job-name=libd_chr1-chr1_AA-1000000-1001000-dynamic-8corestotal-1corepera-20240131-122520\n",
      "module load conda\n",
      "conda activate mwas\n",
      "echo 'Executing Rscript with arguments: Rscript scripts/CLI.R --outdir=./output/ --chunk1=1e+06 --chunk2=1001000 --snp_data_path=/dcs04/lieber/statsgen/mnagle/mwas/gwas/libd_chr1.pgen --methylation_data_path=/dcs04/lieber/statsgen/mnagle/mwas/pheno/dlpfc/out/chr1_AA.rda --verbose=FALSE --lambda_choice=1se --alphas=0.25,0.5,0.75,1 --allow_inefficient_parallelization=FALSE --n_fold=5 --window_sizes=1000,2000,5000,10000,20000,50000,100000,500000 --save_evaluation_results_each_fold=FALSE --save_glmnet_object=FALSE --cv_eval_mode=dynamic --num_cores=8 --cores_per_alpha=1 --tag=libd_chr1-chr1_AA-1000000-1001000-dynamic-8corestotal-1corepera-20240131-122520'\n",
      "Rscript scripts/CLI.R --outdir=./output/ --chunk1=1e+06 --chunk2=1001000 --snp_data_path=/dcs04/lieber/statsgen/mnagle/mwas/gwas/libd_chr1.pgen --methylation_data_path=/dcs04/lieber/statsgen/mnagle/mwas/pheno/dlpfc/out/chr1_AA.rda --verbose=FALSE --lambda_choice=1se --alphas=0.25,0.5,0.75,1 --allow_inefficient_parallelization=FALSE --n_fold=5 --window_sizes=1000,2000,5000,10000,20000,50000,100000,500000 --save_evaluation_results_each_fold=FALSE --save_glmnet_object=FALSE --cv_eval_mode=dynamic --num_cores=8 --cores_per_alpha=1 --tag=libd_chr1-chr1_AA-1000000-1001000-dynamic-8corestotal-1corepera-20240131-122520\n"
     ]
    },
    {
     "name": "stderr",
     "output_type": "stream",
     "text": [
      "ZZZZzzzz....\n",
      "\n"
     ]
    },
    {
     "name": "stdout",
     "output_type": "stream",
     "text": [
      "#!/bin/bash\n",
      "#SBATCH --cpus-per-task=1\n",
      "#SBATCH --mem-per-cpu=16G\n",
      "#SBATCH --output=slurm_output_libd_chr1-chr1_AA-1000000-1001000-dynamic-1corestotal-allcorepera-20240131-122521.out\n",
      "#SBATCH --job-name=libd_chr1-chr1_AA-1000000-1001000-dynamic-1corestotal-allcorepera-20240131-122521\n",
      "module load conda\n",
      "conda activate mwas\n",
      "echo 'Executing Rscript with arguments: Rscript scripts/CLI.R --outdir=./output/ --chunk1=1e+06 --chunk2=1001000 --snp_data_path=/dcs04/lieber/statsgen/mnagle/mwas/gwas/libd_chr1.pgen --methylation_data_path=/dcs04/lieber/statsgen/mnagle/mwas/pheno/dlpfc/out/chr1_AA.rda --verbose=FALSE --lambda_choice=1se --alphas=0.25,0.5,0.75,1 --allow_inefficient_parallelization=FALSE --n_fold=5 --window_sizes=1000,2000,5000,10000,20000,50000,100000,500000 --save_evaluation_results_each_fold=FALSE --save_glmnet_object=FALSE --cv_eval_mode=dynamic --num_cores=1 --cores_per_alpha=all --tag=libd_chr1-chr1_AA-1000000-1001000-dynamic-1corestotal-allcorepera-20240131-122521'\n",
      "Rscript scripts/CLI.R --outdir=./output/ --chunk1=1e+06 --chunk2=1001000 --snp_data_path=/dcs04/lieber/statsgen/mnagle/mwas/gwas/libd_chr1.pgen --methylation_data_path=/dcs04/lieber/statsgen/mnagle/mwas/pheno/dlpfc/out/chr1_AA.rda --verbose=FALSE --lambda_choice=1se --alphas=0.25,0.5,0.75,1 --allow_inefficient_parallelization=FALSE --n_fold=5 --window_sizes=1000,2000,5000,10000,20000,50000,100000,500000 --save_evaluation_results_each_fold=FALSE --save_glmnet_object=FALSE --cv_eval_mode=dynamic --num_cores=1 --cores_per_alpha=all --tag=libd_chr1-chr1_AA-1000000-1001000-dynamic-1corestotal-allcorepera-20240131-122521\n"
     ]
    },
    {
     "name": "stderr",
     "output_type": "stream",
     "text": [
      "ZZZZzzzz....\n",
      "\n"
     ]
    },
    {
     "name": "stdout",
     "output_type": "stream",
     "text": [
      "#!/bin/bash\n",
      "#SBATCH --cpus-per-task=8\n",
      "#SBATCH --mem-per-cpu=16G\n",
      "#SBATCH --output=slurm_output_libd_chr1-chr1_AA-1000000-1001000-dynamic-8corestotal-allcorepera-20240131-122522.out\n",
      "#SBATCH --job-name=libd_chr1-chr1_AA-1000000-1001000-dynamic-8corestotal-allcorepera-20240131-122522\n",
      "module load conda\n",
      "conda activate mwas\n",
      "echo 'Executing Rscript with arguments: Rscript scripts/CLI.R --outdir=./output/ --chunk1=1e+06 --chunk2=1001000 --snp_data_path=/dcs04/lieber/statsgen/mnagle/mwas/gwas/libd_chr1.pgen --methylation_data_path=/dcs04/lieber/statsgen/mnagle/mwas/pheno/dlpfc/out/chr1_AA.rda --verbose=FALSE --lambda_choice=1se --alphas=0.25,0.5,0.75,1 --allow_inefficient_parallelization=FALSE --n_fold=5 --window_sizes=1000,2000,5000,10000,20000,50000,100000,500000 --save_evaluation_results_each_fold=FALSE --save_glmnet_object=FALSE --cv_eval_mode=dynamic --num_cores=8 --cores_per_alpha=all --tag=libd_chr1-chr1_AA-1000000-1001000-dynamic-8corestotal-allcorepera-20240131-122522'\n",
      "Rscript scripts/CLI.R --outdir=./output/ --chunk1=1e+06 --chunk2=1001000 --snp_data_path=/dcs04/lieber/statsgen/mnagle/mwas/gwas/libd_chr1.pgen --methylation_data_path=/dcs04/lieber/statsgen/mnagle/mwas/pheno/dlpfc/out/chr1_AA.rda --verbose=FALSE --lambda_choice=1se --alphas=0.25,0.5,0.75,1 --allow_inefficient_parallelization=FALSE --n_fold=5 --window_sizes=1000,2000,5000,10000,20000,50000,100000,500000 --save_evaluation_results_each_fold=FALSE --save_glmnet_object=FALSE --cv_eval_mode=dynamic --num_cores=8 --cores_per_alpha=all --tag=libd_chr1-chr1_AA-1000000-1001000-dynamic-8corestotal-allcorepera-20240131-122522\n"
     ]
    },
    {
     "name": "stderr",
     "output_type": "stream",
     "text": [
      "ZZZZzzzz....\n",
      "\n"
     ]
    }
   ],
   "source": [
    "# Constant Arguments Setup\n",
    "constant_args_df <- data.frame(\n",
    "  outdir = \"./output/\",\n",
    "  chunk1 = 1000000,\n",
    "  chunk2 = 1001000,\n",
    "  snp_data_path = \"/dcs04/lieber/statsgen/mnagle/mwas/gwas/libd_chr1.pgen\",\n",
    "  methylation_data_path = \"/dcs04/lieber/statsgen/mnagle/mwas/pheno/dlpfc/out/chr1_AA.rda\",\n",
    "  verbose = FALSE,\n",
    "  lambda_choice = \"1se\",\n",
    "  alphas = \"0,0.25,0.5,0.75,1\",\n",
    "  allow_inefficient_parallelization = FALSE,\n",
    "  n_fold = 5,\n",
    "  window_sizes = \"1000,2000,5000,10000,20000,50000,100000,500000\",\n",
    "  save_evaluation_results_each_fold = FALSE,\n",
    "  save_glmnet_object = FALSE,\n",
    "  cv_eval_mode = \"dynamic\"\n",
    ")\n",
    "\n",
    "# Varying parameters\n",
    "cv_eval_modes <- c(\"static\", \"dynamic\")\n",
    "cores_per_alphas <- c(\"1\", \"all\") #NA)  # Include NA to signify the default value should be used\n",
    "num_cores_options <- c(1, 8)\n",
    "\n",
    "generate_slurm_script <- function(args, tag_pt1, tag_pt2, mem_per_cpu = \"16G\") {\n",
    "  cpus_per_task <- if (is.null(args$num_cores) || args$num_cores == \"all\") {\n",
    "    \"#SBATCH --exclusive\\n\"\n",
    "  } else {\n",
    "    paste0(\"#SBATCH --cpus-per-task=\", args$num_cores, \"\\n\")\n",
    "  }\n",
    "\n",
    "  # Always set mem_per_cpu flag, even in exclusive mode\n",
    "  mem_allocation <- paste0(\"#SBATCH --mem-per-cpu=\", mem_per_cpu, \"\\n\")\n",
    "\n",
    "  args_string <- paste(\"--\", names(args), \"=\", args, sep = \"\", collapse = \" \")\n",
    "  args_string <- paste(args_string, \" --tag=\", tag_pt1, \"-\", tag_pt2, sep = \"\")\n",
    "\n",
    "slurm_script <- paste(\n",
    "  \"#!/bin/bash\\n\",\n",
    "  cpus_per_task,\n",
    "  mem_allocation,\n",
    "  \"#SBATCH --output=slurm_output_\", tag_pt1, \"-\", tag_pt2, \".out\\n\",\n",
    "  \"#SBATCH --job-name=\", tag_pt1, \"-\", tag_pt2, \"\\n\",\n",
    "  \"module load conda\\n\",\n",
    "  \"conda activate mwas\\n\",\n",
    "  \"echo 'Executing Rscript with arguments: Rscript scripts/CLI.R \", args_string, \"'\\n\",\n",
    "  \"Rscript scripts/CLI.R \", args_string, \"\\n\",\n",
    "  sep = \"\"\n",
    ")\n",
    "\n",
    "  return(list(script = slurm_script, path = paste0(\"slurm_scripts/\", tag_pt1, \"-\", tag_pt2, \".sh\")))\n",
    "}\n",
    "\n",
    "# Overwrite flag (set by user)\n",
    "overwrite <- FALSE\n",
    "\n",
    "# Loop through each combination\n",
    "for (cv_eval_mode in cv_eval_modes) {\n",
    "  for (cores_per_alpha in cores_per_alphas) {\n",
    "    for (num_cores in num_cores_options) {\n",
    "      # Update constant_args_df for the current combination\n",
    "      constant_args_df$cv_eval_mode <- cv_eval_mode\n",
    "      constant_args_df$num_cores <- num_cores\n",
    "      if (!is.na(cores_per_alpha)) {\n",
    "        constant_args_df$cores_per_alpha <- cores_per_alpha\n",
    "      } else {\n",
    "        constant_args_df$cores_per_alpha <- NULL\n",
    "      }\n",
    "\n",
    "      # Generate tags\n",
    "      snp_base <- tools::file_path_sans_ext(basename(constant_args_df$snp_data_path))\n",
    "      meth_base <- tools::file_path_sans_ext(basename(constant_args_df$methylation_data_path))\n",
    "      datetime_str <- format(Sys.time(), \"%Y%m%d-%H%M%S\")\n",
    "      tag_pt1 <- paste(snp_base, meth_base, format(constant_args_df$chunk1, scientific = FALSE), format(constant_args_df$chunk2, scientific = FALSE), cv_eval_mode, paste0(num_cores, \"corestotal\"), ifelse(is.na(cores_per_alpha), \"defaultcore\", paste0(cores_per_alpha, \"corepera\")), sep = \"-\")\n",
    "      tag_pt2 <- datetime_str\n",
    "\n",
    "      # Check for existing file\n",
    "      existing_files <- list.files(path = constant_args_df$outdir, pattern = paste0(\"^\", tag_pt1, \".*\\\\.rds$\"), full.names = TRUE)\n",
    "      if (!overwrite && length(existing_files) > 0) {\n",
    "        message(\"File with tag \", tag_pt1, \" already exists. Skipping...\")\n",
    "        next\n",
    "      }\n",
    "\n",
    "      # Generate and print SLURM script\n",
    "      script_info <- generate_slurm_script(constant_args_df, tag_pt1, tag_pt2,\n",
    "                                           mem_per_cpu = \"16G\")\n",
    "\n",
    "      cat(script_info$script)\n",
    "        \n",
    "      writeLines(script_info$script, script_info$path)\n",
    "\n",
    "      # Submit the SLURM job using the sbatch command\n",
    "      system(paste(\"sbatch\", script_info$path))\n",
    "\n",
    "      # Implement job submission limits and intervals if necessary\n",
    "      Sys.sleep(1)\n",
    "      message(\"ZZZZzzzz....\")\n",
    "    }\n",
    "  }\n",
    "}\n"
   ]
  },
  {
   "cell_type": "markdown",
   "id": "c9a9aa25-1415-456b-b5b0-3ab6703941c7",
   "metadata": {
    "tags": []
   },
   "source": [
    "## Define parameters"
   ]
  },
  {
   "cell_type": "code",
   "execution_count": 4,
   "id": "d1924a3d-0a35-4f4d-8dc6-3a18ecd1f543",
   "metadata": {
    "tags": []
   },
   "outputs": [],
   "source": [
    "# # Constant Arguments Setup\n",
    "# constant_args_df <- data.frame(\n",
    "#   outdir = \"./output/\",\n",
    "#   chunk1 = 1000000,\n",
    "#   chunk2 = 1001000,\n",
    "#   snp_data_path = \"/dcs04/lieber/statsgen/mnagle/mwas/gwas/libd_chr1.pgen\",\n",
    "#   methylation_data_path = \"/dcs04/lieber/statsgen/mnagle/mwas/pheno/dlpfc/out/chr1_AA.rda\",\n",
    "#   #snp_data_path = \"/Users/michaelnagle/code/mwas/gwas/libd_chr1.pgen\",\n",
    "#   #methylation_data_path = \"/Users/michaelnagle/code/mwas/pheno/dlpfc/out/chr1_AA.rda\",  \n",
    "#   verbose = FALSE,\n",
    "#   lambda_choice = \"1se\",\n",
    "#   alphas = \"0.25,0.5,0.75,1\",\n",
    "#   #num_cores = \"all\",\n",
    "#   allow_inefficient_parallelization = FALSE,\n",
    "#   n_fold = 5,\n",
    "#   window_sizes = \"1000,2000,5000,10000,20000,50000,100000,500000\",\n",
    "#   #tag = format(Sys.time(), \"%Y%m%d-%H%M%S\"),\n",
    "#   save_evaluation_results_each_fold = FALSE,\n",
    "#   save_glmnet_object = FALSE,\n",
    "#   cv_eval_mode = \"dynamic\"\n",
    "# )\n",
    "\n",
    "# # Convert alphas to a comma-separated string\n",
    "# #constant_args_df$alphas <- sapply(constant_args_df$alphas, function(x) paste(x, collapse = \",\"))\n",
    "\n",
    "\n",
    "# # Varying parameters\n",
    "# cv_eval_modes <- c(\"static\", \"dynamic\")\n",
    "# cores_per_alphas <- c(\"all\", \"1\")"
   ]
  },
  {
   "cell_type": "markdown",
   "id": "e58c74ca-a71b-43b0-967b-185802ec8cb1",
   "metadata": {},
   "source": [
    "## Generate and deploy SLURM calls"
   ]
  },
  {
   "cell_type": "code",
   "execution_count": 5,
   "id": "27def26a-2583-4b17-947b-b40cacd9e562",
   "metadata": {
    "tags": []
   },
   "outputs": [],
   "source": [
    "# generate_slurm_script <- function(args, tag) {\n",
    "#   # Check if cores_per_alpha is set and not NULL\n",
    "#   if (!is.null(args$cores_per_alpha) && args$cores_per_alpha == \"all\") {\n",
    "#     mem_allocation <- \"0\"\n",
    "#     cpus_per_task <- \"#SBATCH --exclusive\\n\"\n",
    "#   } else {\n",
    "#     mem_allocation <- \"16G\"\n",
    "#     cpus_per_task <- \"#SBATCH --cpus-per-task=1\\n\"\n",
    "#   }\n",
    "\n",
    "#   args_string <- paste(\"--\", names(args), \"=\", args, sep = \"\", collapse = \" \")\n",
    "#   args_string <- paste(args_string, \" --tag=\", tag, sep = \"\")\n",
    "\n",
    "#   slurm_script <- paste(\n",
    "#     \"#!/bin/bash\\n\",\n",
    "#     cpus_per_task,\n",
    "#     \"#SBATCH --mem=\", mem_allocation, \"\\n\",\n",
    "#     \"#SBATCH --output=slurm_output_\", tag, \".out\\n\",\n",
    "#     \"#SBATCH --job-name=\", tag, \"\\n\",\n",
    "#     \"Rscript scripts/CLI.R \", args_string, \"\\n\",\n",
    "#     sep = \"\"\n",
    "#   )\n",
    "\n",
    "#   return(slurm_script)\n",
    "# }\n",
    "\n",
    "# # Varying parameters\n",
    "# cv_eval_modes <- c(\"static\", \"dynamic\")\n",
    "# cores_per_alphas <- c(\"1\", NA)  # Include NA to signify the default value should be used\n",
    "\n",
    "# # Loop through each combination\n",
    "# for (cv_eval_mode in cv_eval_modes) {\n",
    "#   for (cores_per_alpha in cores_per_alphas) {\n",
    "#     # Update constant_args_df for the current combination\n",
    "#     constant_args_df$cv_eval_mode <- cv_eval_mode\n",
    "#     # Use an if-statement to decide whether to assign the value or leave it to default\n",
    "#     if (!is.na(cores_per_alpha)) {\n",
    "#       constant_args_df$cores_per_alpha <- cores_per_alpha\n",
    "#     } else {\n",
    "#       constant_args_df$cores_per_alpha <- NULL  # Setting it to NULL to use the function's default\n",
    "#     }\n",
    "\n",
    "#     # Generate tag with consideration for NA\n",
    "#     snp_base <- tools::file_path_sans_ext(basename(constant_args_df$snp_data_path))\n",
    "#     meth_base <- tools::file_path_sans_ext(basename(constant_args_df$methylation_data_path))\n",
    "#     datetime_str <- format(Sys.time(), \"%Y%m%d-%H%M%S\")\n",
    "#     cores_tag <- ifelse(is.na(cores_per_alpha), \"defaultcore\", paste0(cores_per_alpha, \"core\"))\n",
    "#     tag <- paste(snp_base, meth_base, cv_eval_mode, cores_tag, datetime_str, sep = \"-\")\n",
    "\n",
    "#     # Generate and print SLURM script\n",
    "#     slurm_script <- generate_slurm_script(constant_args_df, tag)\n",
    "#     cat(slurm_script, \"\\n\\n\")\n",
    "\n",
    "#     slurm_script_path <- paste0(\"slurm_scripts/\", tag, \".sh\")  # Define path to save SLURM script\n",
    "\n",
    "      \n",
    "#     # Save SLURM script to a file\n",
    "#     writeLines(slurm_script, slurm_script_path)\n",
    "\n",
    "#     # Submit the SLURM job using the sbatch command\n",
    "#     system(paste(\"sbatch\", slurm_script_path))\n",
    "\n",
    "#     # Implement job submission limits and intervals if necessary\n",
    "#     # For example, to wait for 1 second between submissions:\n",
    "#     Sys.sleep(42)\n",
    "#     message(\"ZZZZzzzz....\")\n",
    "#   }\n",
    "# }\n"
   ]
  },
  {
   "cell_type": "code",
   "execution_count": null,
   "id": "5371a450-78e9-4625-bc65-67fc22693584",
   "metadata": {},
   "outputs": [],
   "source": []
  },
  {
   "cell_type": "code",
   "execution_count": null,
   "id": "d42889af-e0fb-43b7-9ea0-f84c90aacbbb",
   "metadata": {},
   "outputs": [],
   "source": []
  }
 ],
 "metadata": {
  "kernelspec": {
   "display_name": "R",
   "language": "R",
   "name": "ir"
  },
  "language_info": {
   "codemirror_mode": "r",
   "file_extension": ".r",
   "mimetype": "text/x-r-source",
   "name": "R",
   "pygments_lexer": "r",
   "version": "4.3.1"
  }
 },
 "nbformat": 4,
 "nbformat_minor": 5
}
