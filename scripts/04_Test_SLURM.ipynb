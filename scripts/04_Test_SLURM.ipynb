{
 "cells": [
  {
   "cell_type": "markdown",
   "id": "0cb72484-0e2e-4d13-bda9-58fe13e8ae34",
   "metadata": {},
   "source": [
    "# Prep SLURM commands"
   ]
  },
  {
   "cell_type": "markdown",
   "id": "c9a9aa25-1415-456b-b5b0-3ab6703941c7",
   "metadata": {
    "tags": []
   },
   "source": [
    "## Define parameters"
   ]
  },
  {
   "cell_type": "code",
   "execution_count": 12,
   "id": "d1924a3d-0a35-4f4d-8dc6-3a18ecd1f543",
   "metadata": {
    "tags": []
   },
   "outputs": [],
   "source": [
    "# Constant Arguments Setup\n",
    "constant_args_df <- data.frame(\n",
    "  outdir = \"./output/\",\n",
    "  chunk1 = 1000000,\n",
    "  chunk2 = 1000010,\n",
    "  #snp_data_path = \"/dcs04/lieber/statsgen/mnagle/mwas/gwas/libd_chr1.pgen\",\n",
    "  #methylation_data_path = \"/dcs04/lieber/statsgen/mnagle/mwas/pheno/dlpfc/out/chr1_AA.rda\",\n",
    "  snp_data_path = \"/Users/michaelnagle/code/mwas/gwas/libd_chr1.pgen\",\n",
    "  methylation_data_path = \"/Users/michaelnagle/code/mwas/pheno/dlpfc/out/chr1_AA.rda\",  \n",
    "  verbose = TRUE,\n",
    "  lambda_choice = \"1se\",\n",
    "  alphas = \"0.25,0.5,0.75,1\",\n",
    "  #num_cores = \"all\",\n",
    "  allow_inefficient_parallelization = FALSE,\n",
    "  n_fold = 5,\n",
    "  window_sizes = \"1000,2000,5000,10000,20000,50000,100000,500000\",\n",
    "  #tag = format(Sys.time(), \"%Y%m%d-%H%M%S\"),\n",
    "  save_evaluation_results_each_fold = FALSE,\n",
    "  save_glmnet_object = FALSE,\n",
    "  cv_eval_mode = \"dynamic\"\n",
    ")\n",
    "\n",
    "# Convert alphas to a comma-separated string\n",
    "#constant_args_df$alphas <- sapply(constant_args_df$alphas, function(x) paste(x, collapse = \",\"))\n",
    "\n",
    "\n",
    "# Varying parameters\n",
    "cv_eval_modes <- c(\"static\", \"dynamic\")\n",
    "cores_per_alphas <- c(\"all\", \"1\")"
   ]
  },
  {
   "cell_type": "markdown",
   "id": "e58c74ca-a71b-43b0-967b-185802ec8cb1",
   "metadata": {},
   "source": [
    "## Generate and deploy SLURM calls"
   ]
  },
  {
   "cell_type": "code",
   "execution_count": 13,
   "id": "27def26a-2583-4b17-947b-b40cacd9e562",
   "metadata": {
    "tags": []
   },
   "outputs": [
    {
     "name": "stdout",
     "output_type": "stream",
     "text": [
      "#!/bin/bash\n",
      "#SBATCH --exclusive\n",
      "#SBATCH --mem=0\n",
      "#SBATCH --output=slurm_output_libd_chr1-chr1_AA-static-allcore-20240129-123107.out\n",
      "#SBATCH --job-name=libd_chr1-chr1_AA-static-allcore-20240129-123107\n",
      "Rscript scripts/CLI.R --outdir=./output/ --chunk1=1e+06 --chunk2=1000010 --snp_data_path=/Users/michaelnagle/code/mwas/gwas/libd_chr1.pgen --methylation_data_path=/Users/michaelnagle/code/mwas/pheno/dlpfc/out/chr1_AA.rda --verbose=TRUE --lambda_choice=1se --alphas=0.25,0.5,0,75,1 --allow_inefficient_parallelization=FALSE --n_fold=5 --window_sizes=1000,2000,5000,10000,20000,50000,100000,500000 --save_evaluation_results_each_fold=FALSE --save_glmnet_object=FALSE --cv_eval_mode=static --cores_per_alpha=all --tag=libd_chr1-chr1_AA-static-allcore-20240129-123107\n",
      " \n",
      "\n",
      "#!/bin/bash\n",
      "#SBATCH --cpus-per-task=1\n",
      "#SBATCH --mem=16G\n",
      "#SBATCH --output=slurm_output_libd_chr1-chr1_AA-static-1core-20240129-123107.out\n",
      "#SBATCH --job-name=libd_chr1-chr1_AA-static-1core-20240129-123107\n",
      "Rscript scripts/CLI.R --outdir=./output/ --chunk1=1e+06 --chunk2=1000010 --snp_data_path=/Users/michaelnagle/code/mwas/gwas/libd_chr1.pgen --methylation_data_path=/Users/michaelnagle/code/mwas/pheno/dlpfc/out/chr1_AA.rda --verbose=TRUE --lambda_choice=1se --alphas=0.25,0.5,0,75,1 --allow_inefficient_parallelization=FALSE --n_fold=5 --window_sizes=1000,2000,5000,10000,20000,50000,100000,500000 --save_evaluation_results_each_fold=FALSE --save_glmnet_object=FALSE --cv_eval_mode=static --cores_per_alpha=1 --tag=libd_chr1-chr1_AA-static-1core-20240129-123107\n",
      " \n",
      "\n",
      "#!/bin/bash\n",
      "#SBATCH --exclusive\n",
      "#SBATCH --mem=0\n",
      "#SBATCH --output=slurm_output_libd_chr1-chr1_AA-dynamic-allcore-20240129-123107.out\n",
      "#SBATCH --job-name=libd_chr1-chr1_AA-dynamic-allcore-20240129-123107\n",
      "Rscript scripts/CLI.R --outdir=./output/ --chunk1=1e+06 --chunk2=1000010 --snp_data_path=/Users/michaelnagle/code/mwas/gwas/libd_chr1.pgen --methylation_data_path=/Users/michaelnagle/code/mwas/pheno/dlpfc/out/chr1_AA.rda --verbose=TRUE --lambda_choice=1se --alphas=0.25,0.5,0,75,1 --allow_inefficient_parallelization=FALSE --n_fold=5 --window_sizes=1000,2000,5000,10000,20000,50000,100000,500000 --save_evaluation_results_each_fold=FALSE --save_glmnet_object=FALSE --cv_eval_mode=dynamic --cores_per_alpha=all --tag=libd_chr1-chr1_AA-dynamic-allcore-20240129-123107\n",
      " \n",
      "\n",
      "#!/bin/bash\n",
      "#SBATCH --cpus-per-task=1\n",
      "#SBATCH --mem=16G\n",
      "#SBATCH --output=slurm_output_libd_chr1-chr1_AA-dynamic-1core-20240129-123107.out\n",
      "#SBATCH --job-name=libd_chr1-chr1_AA-dynamic-1core-20240129-123107\n",
      "Rscript scripts/CLI.R --outdir=./output/ --chunk1=1e+06 --chunk2=1000010 --snp_data_path=/Users/michaelnagle/code/mwas/gwas/libd_chr1.pgen --methylation_data_path=/Users/michaelnagle/code/mwas/pheno/dlpfc/out/chr1_AA.rda --verbose=TRUE --lambda_choice=1se --alphas=0.25,0.5,0,75,1 --allow_inefficient_parallelization=FALSE --n_fold=5 --window_sizes=1000,2000,5000,10000,20000,50000,100000,500000 --save_evaluation_results_each_fold=FALSE --save_glmnet_object=FALSE --cv_eval_mode=dynamic --cores_per_alpha=1 --tag=libd_chr1-chr1_AA-dynamic-1core-20240129-123107\n",
      " \n",
      "\n"
     ]
    }
   ],
   "source": [
    "# Function to generate SLURM script\n",
    "generate_slurm_script <- function(args, tag) {\n",
    "  mem_allocation <- if (args$cores_per_alpha == \"all\") \"0\" else \"16G\"\n",
    "  args_string <- paste(\"--\", names(args), \"=\", args, sep = \"\", collapse = \" \")\n",
    "  args_string <- paste(args_string, \" --tag=\", tag, sep = \"\")  # Append tag to the argument string\n",
    "\n",
    "  slurm_script <- paste(\n",
    "    \"#!/bin/bash\\n\",\n",
    "    if (args$cores_per_alpha == \"all\") \"#SBATCH --exclusive\\n\" else \"#SBATCH --cpus-per-task=1\\n\",\n",
    "    \"#SBATCH --mem=\", mem_allocation, \"\\n\",\n",
    "    \"#SBATCH --output=slurm_output_\", tag, \".out\\n\",\n",
    "    \"#SBATCH --job-name=\", tag, \"\\n\",\n",
    "    \"Rscript scripts/CLI.R \", args_string, \"\\n\",\n",
    "    sep = \"\"\n",
    "  )\n",
    "  return(slurm_script)\n",
    "}\n",
    "\n",
    "# Varying parameters\n",
    "cv_eval_modes <- c(\"static\", \"dynamic\")\n",
    "cores_per_alphas <- c(\"all\", \"1\")\n",
    "\n",
    "# Loop through each combination\n",
    "for (cv_eval_mode in cv_eval_modes) {\n",
    "  for (cores_per_alpha in cores_per_alphas) {\n",
    "    # Update constant_args_df for the current combination\n",
    "    constant_args_df$cv_eval_mode <- cv_eval_mode\n",
    "    constant_args_df$cores_per_alpha <- cores_per_alpha\n",
    "\n",
    "    # Generate tag\n",
    "    snp_base <- tools::file_path_sans_ext(basename(constant_args_df$snp_data_path))\n",
    "    meth_base <- tools::file_path_sans_ext(basename(constant_args_df$methylation_data_path))\n",
    "    datetime_str <- format(Sys.time(), \"%Y%m%d-%H%M%S\")\n",
    "    tag <- paste(snp_base, meth_base, cv_eval_mode, paste0(cores_per_alpha, \"core\"), datetime_str, sep = \"-\")\n",
    "\n",
    "    # Generate and print SLURM script\n",
    "    slurm_script <- generate_slurm_script(constant_args_df, tag)\n",
    "    cat(slurm_script, \"\\n\\n\")\n",
    "\n",
    "    # Additional logic to submit jobs with sbatch or srun, including job submission limits and intervals\n",
    "    # ...\n",
    "  }\n",
    "}\n"
   ]
  },
  {
   "cell_type": "code",
   "execution_count": null,
   "id": "5371a450-78e9-4625-bc65-67fc22693584",
   "metadata": {},
   "outputs": [],
   "source": []
  }
 ],
 "metadata": {
  "kernelspec": {
   "display_name": "R",
   "language": "R",
   "name": "ir"
  },
  "language_info": {
   "codemirror_mode": "r",
   "file_extension": ".r",
   "mimetype": "text/x-r-source",
   "name": "R",
   "pygments_lexer": "r",
   "version": "4.3.2"
  }
 },
 "nbformat": 4,
 "nbformat_minor": 5
}
