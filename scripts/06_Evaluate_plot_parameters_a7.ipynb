{
 "cells": [
  {
   "cell_type": "markdown",
   "id": "92172ba0-7a78-4d8b-a3f6-fd42a3e9b2d0",
   "metadata": {},
   "source": [
    "# Further investigate which `windowSize` parameters tend to give best `R` when `alpha` fixed at 0.5"
   ]
  },
  {
   "cell_type": "code",
   "execution_count": 1,
   "id": "e995778b-b899-4b98-ba41-8eedad97a460",
   "metadata": {},
   "outputs": [],
   "source": [
    "library(CpGWAS)"
   ]
  },
  {
   "cell_type": "code",
   "execution_count": 2,
   "id": "f8e962d8-8763-4ef3-b597-0f0655fa7952",
   "metadata": {},
   "outputs": [],
   "source": [
    "# Want big view for facet plots\n",
    "options(repr.plot.width=10, repr.plot.height=8)"
   ]
  },
  {
   "cell_type": "code",
   "execution_count": 3,
   "id": "6e2af235-8e47-47fd-8299-8c155b8d2b2e",
   "metadata": {},
   "outputs": [
    {
     "data": {
      "text/html": [
       "<table class=\"dataframe\">\n",
       "<caption>A data.frame: 6 × 3</caption>\n",
       "<thead>\n",
       "\t<tr><th></th><th scope=col>path</th><th scope=col>date</th><th scope=col>time</th></tr>\n",
       "\t<tr><th></th><th scope=col>&lt;chr&gt;</th><th scope=col>&lt;chr&gt;</th><th scope=col>&lt;chr&gt;</th></tr>\n",
       "</thead>\n",
       "<tbody>\n",
       "\t<tr><th scope=row>38</th><td>../output//libd_chr1-chr1_AA-libd_chr1-chr1_AA-1011000-1011999-dynamic-1corestotal-1corepera-20240205-165817.rds</td><td>2024-02-05</td><td>16:58:17</td></tr>\n",
       "\t<tr><th scope=row>36</th><td>../output//libd_chr1-chr1_AA-libd_chr1-chr1_AA-1010000-1010999-dynamic-1corestotal-1corepera-20240208-104421.rds</td><td>2024-02-08</td><td>10:44:21</td></tr>\n",
       "\t<tr><th scope=row>39</th><td>../output//libd_chr1-chr1_AA-libd_chr1-chr1_AA-1011000-1011999-dynamic-1corestotal-1corepera-20240208-104422.rds</td><td>2024-02-08</td><td>10:44:22</td></tr>\n",
       "\t<tr><th scope=row>34</th><td>../output//libd_chr1-chr1_AA-libd_chr1-chr1_AA-1009000-1009999-dynamic-1corestotal-1corepera-20240212-125021.rds</td><td>2024-02-12</td><td>12:50:21</td></tr>\n",
       "\t<tr><th scope=row>37</th><td>../output//libd_chr1-chr1_AA-libd_chr1-chr1_AA-1010000-1010999-dynamic-1corestotal-1corepera-20240212-125022.rds</td><td>2024-02-12</td><td>12:50:22</td></tr>\n",
       "\t<tr><th scope=row>40</th><td>../output//libd_chr1-chr1_AA-libd_chr1-chr1_AA-1011000-1011999-dynamic-1corestotal-1corepera-20240212-125023.rds</td><td>2024-02-12</td><td>12:50:23</td></tr>\n",
       "</tbody>\n",
       "</table>\n"
      ],
      "text/latex": [
       "A data.frame: 6 × 3\n",
       "\\begin{tabular}{r|lll}\n",
       "  & path & date & time\\\\\n",
       "  & <chr> & <chr> & <chr>\\\\\n",
       "\\hline\n",
       "\t38 & ../output//libd\\_chr1-chr1\\_AA-libd\\_chr1-chr1\\_AA-1011000-1011999-dynamic-1corestotal-1corepera-20240205-165817.rds & 2024-02-05 & 16:58:17\\\\\n",
       "\t36 & ../output//libd\\_chr1-chr1\\_AA-libd\\_chr1-chr1\\_AA-1010000-1010999-dynamic-1corestotal-1corepera-20240208-104421.rds & 2024-02-08 & 10:44:21\\\\\n",
       "\t39 & ../output//libd\\_chr1-chr1\\_AA-libd\\_chr1-chr1\\_AA-1011000-1011999-dynamic-1corestotal-1corepera-20240208-104422.rds & 2024-02-08 & 10:44:22\\\\\n",
       "\t34 & ../output//libd\\_chr1-chr1\\_AA-libd\\_chr1-chr1\\_AA-1009000-1009999-dynamic-1corestotal-1corepera-20240212-125021.rds & 2024-02-12 & 12:50:21\\\\\n",
       "\t37 & ../output//libd\\_chr1-chr1\\_AA-libd\\_chr1-chr1\\_AA-1010000-1010999-dynamic-1corestotal-1corepera-20240212-125022.rds & 2024-02-12 & 12:50:22\\\\\n",
       "\t40 & ../output//libd\\_chr1-chr1\\_AA-libd\\_chr1-chr1\\_AA-1011000-1011999-dynamic-1corestotal-1corepera-20240212-125023.rds & 2024-02-12 & 12:50:23\\\\\n",
       "\\end{tabular}\n"
      ],
      "text/markdown": [
       "\n",
       "A data.frame: 6 × 3\n",
       "\n",
       "| <!--/--> | path &lt;chr&gt; | date &lt;chr&gt; | time &lt;chr&gt; |\n",
       "|---|---|---|---|\n",
       "| 38 | ../output//libd_chr1-chr1_AA-libd_chr1-chr1_AA-1011000-1011999-dynamic-1corestotal-1corepera-20240205-165817.rds | 2024-02-05 | 16:58:17 |\n",
       "| 36 | ../output//libd_chr1-chr1_AA-libd_chr1-chr1_AA-1010000-1010999-dynamic-1corestotal-1corepera-20240208-104421.rds | 2024-02-08 | 10:44:21 |\n",
       "| 39 | ../output//libd_chr1-chr1_AA-libd_chr1-chr1_AA-1011000-1011999-dynamic-1corestotal-1corepera-20240208-104422.rds | 2024-02-08 | 10:44:22 |\n",
       "| 34 | ../output//libd_chr1-chr1_AA-libd_chr1-chr1_AA-1009000-1009999-dynamic-1corestotal-1corepera-20240212-125021.rds | 2024-02-12 | 12:50:21 |\n",
       "| 37 | ../output//libd_chr1-chr1_AA-libd_chr1-chr1_AA-1010000-1010999-dynamic-1corestotal-1corepera-20240212-125022.rds | 2024-02-12 | 12:50:22 |\n",
       "| 40 | ../output//libd_chr1-chr1_AA-libd_chr1-chr1_AA-1011000-1011999-dynamic-1corestotal-1corepera-20240212-125023.rds | 2024-02-12 | 12:50:23 |\n",
       "\n"
      ],
      "text/plain": [
       "   path                                                                                                            \n",
       "38 ../output//libd_chr1-chr1_AA-libd_chr1-chr1_AA-1011000-1011999-dynamic-1corestotal-1corepera-20240205-165817.rds\n",
       "36 ../output//libd_chr1-chr1_AA-libd_chr1-chr1_AA-1010000-1010999-dynamic-1corestotal-1corepera-20240208-104421.rds\n",
       "39 ../output//libd_chr1-chr1_AA-libd_chr1-chr1_AA-1011000-1011999-dynamic-1corestotal-1corepera-20240208-104422.rds\n",
       "34 ../output//libd_chr1-chr1_AA-libd_chr1-chr1_AA-1009000-1009999-dynamic-1corestotal-1corepera-20240212-125021.rds\n",
       "37 ../output//libd_chr1-chr1_AA-libd_chr1-chr1_AA-1010000-1010999-dynamic-1corestotal-1corepera-20240212-125022.rds\n",
       "40 ../output//libd_chr1-chr1_AA-libd_chr1-chr1_AA-1011000-1011999-dynamic-1corestotal-1corepera-20240212-125023.rds\n",
       "   date       time    \n",
       "38 2024-02-05 16:58:17\n",
       "36 2024-02-08 10:44:21\n",
       "39 2024-02-08 10:44:22\n",
       "34 2024-02-12 12:50:21\n",
       "37 2024-02-12 12:50:22\n",
       "40 2024-02-12 12:50:23"
      ]
     },
     "metadata": {},
     "output_type": "display_data"
    }
   ],
   "source": [
    "scaff_paths <- list.files(\"../output/\", pattern = \"rds\", full.names = TRUE)\n",
    "\n",
    "extract_info <- function(path) {\n",
    "  matches <- regmatches(path, regexpr(\"\\\\d{8}-\\\\d{6}\", path))\n",
    "  if (length(matches) > 0) {\n",
    "    datetime <- strsplit(matches, \"-\")[[1]]\n",
    "    date <- paste(substr(datetime[1], 1, 4), substr(datetime[1], 5, 6), substr(datetime[1], 7, 8), sep=\"-\")\n",
    "    time <- paste(substr(datetime[2], 1, 2), substr(datetime[2], 3, 4), substr(datetime[2], 5, 6), sep=\":\")\n",
    "    return(c(date, time))\n",
    "  } else {\n",
    "    return(c(NA, NA))\n",
    "  }\n",
    "}\n",
    "\n",
    "data_frame <- do.call(rbind, lapply(scaff_paths, function(path) {\n",
    "  info <- extract_info(path)\n",
    "  data.frame(path = path, date = info[1], time = info[2], stringsAsFactors = FALSE)\n",
    "}))\n",
    "\n",
    "sorted_data_frame <- data_frame[order(data_frame$date, data_frame$time), ]\n",
    "\n",
    "tail(sorted_data_frame)\n"
   ]
  },
  {
   "cell_type": "code",
   "execution_count": null,
   "id": "4cce14f8-d021-43a3-9fc4-0389eac5ae4b",
   "metadata": {},
   "outputs": [],
   "source": [
    "scaff_paths <- sorted_data_frame$path[38:40]"
   ]
  },
  {
   "cell_type": "code",
   "execution_count": null,
   "id": "7633e72c-c032-4dc5-a099-dac3359594d2",
   "metadata": {},
   "outputs": [],
   "source": [
    "scaff_paths"
   ]
  },
  {
   "cell_type": "code",
   "execution_count": null,
   "id": "55c07f7d-c724-4cb2-8ab3-4420d97f3aa7",
   "metadata": {},
   "outputs": [],
   "source": [
    "convertToDataFrame <- function(object) {\n",
    "  if (!inherits(object, \"MethylationScaff\")) {\n",
    "    stop(\"The object must be of class 'MethylationScaff'.\")\n",
    "  }\n",
    "\n",
    "  modelsList <- lapply(object@models, function(model) {\n",
    "    data.frame(\n",
    "      scaffoldIdentifier = object@scaffoldIdentifier,\n",
    "      methylationPosition = model@methylationPosition,\n",
    "      windowSize = model@windowSize,\n",
    "      nSNPs = model@n_SNPs,\n",
    "      cor = model@evaluation_results['cor'],\n",
    "      mse = model@evaluation_results['mse'],\n",
    "      alpha = model@alpha,\n",
    "      lambda = model@lambda\n",
    "    )\n",
    "  })\n",
    "\n",
    "  do.call(\"rbind\", modelsList)\n",
    "}"
   ]
  },
  {
   "cell_type": "code",
   "execution_count": null,
   "id": "a8525704-9dee-4dd1-9d0a-f0e931798774",
   "metadata": {},
   "outputs": [],
   "source": [
    "library(dplyr)"
   ]
  },
  {
   "cell_type": "code",
   "execution_count": null,
   "id": "6483829b-ee03-4898-a035-2feeaf727659",
   "metadata": {},
   "outputs": [],
   "source": [
    "df <- data.frame()"
   ]
  },
  {
   "cell_type": "code",
   "execution_count": null,
   "id": "16fb812b-ec33-4e07-8b5f-e2ae7d41511a",
   "metadata": {},
   "outputs": [],
   "source": [
    "for(scaff_path in scaff_paths){\n",
    "    my_scaff <- readRDS(scaff_path)\n",
    "    small_df <- convertToDataFrame(my_scaff)\n",
    "    df <- bind_rows(df, small_df)\n",
    "}"
   ]
  },
  {
   "cell_type": "markdown",
   "id": "5fdb7487-1c98-4c85-8947-801acb05e7d1",
   "metadata": {},
   "source": [
    "Let's get the first and last SNP positions so we can properly define our SNP window"
   ]
  },
  {
   "cell_type": "code",
   "execution_count": null,
   "id": "3cec48b8-1ae2-4fdb-ae54-c58c9aa9bae0",
   "metadata": {},
   "outputs": [],
   "source": [
    "start_pos <- min(df$methylationPosition)\n",
    "end_pos <- max(df$methylationPosition)"
   ]
  },
  {
   "cell_type": "code",
   "execution_count": null,
   "id": "a4f515a3-c8e2-401c-885d-f8b19f64ee98",
   "metadata": {},
   "outputs": [],
   "source": [
    "start_pos"
   ]
  },
  {
   "cell_type": "code",
   "execution_count": null,
   "id": "81b66a39-8514-42e7-a703-bfec4f3bd5d7",
   "metadata": {},
   "outputs": [],
   "source": [
    "end_pos"
   ]
  },
  {
   "cell_type": "code",
   "execution_count": null,
   "id": "5d2d1861-41d3-40f8-9cf0-56a9ddb04645",
   "metadata": {},
   "outputs": [],
   "source": [
    "head(levels(factor(df$methylationPosition))) # make sure these don't all end in 0"
   ]
  },
  {
   "cell_type": "markdown",
   "id": "dad7c4de-cce3-4f62-a4f0-f25f5225f01f",
   "metadata": {},
   "source": [
    "What percentage of models have all coefficients dropped during regularization?"
   ]
  },
  {
   "cell_type": "code",
   "execution_count": null,
   "id": "a40d54d8-0abc-4163-9e38-0d0ff4359515",
   "metadata": {},
   "outputs": [],
   "source": [
    "sum(is.na(df$cor))/dim(df)[1]"
   ]
  },
  {
   "cell_type": "code",
   "execution_count": null,
   "id": "c52e5a1d-df92-4420-89aa-a3dd37b9e666",
   "metadata": {},
   "outputs": [],
   "source": [
    "nrow(df)"
   ]
  },
  {
   "cell_type": "code",
   "execution_count": null,
   "id": "263906d3-0108-41ee-9037-c961d324568c",
   "metadata": {},
   "outputs": [],
   "source": [
    "t(t(table(df$alpha)))"
   ]
  },
  {
   "cell_type": "code",
   "execution_count": null,
   "id": "20c5af63-8e60-4ef4-a239-84eaf012ddaf",
   "metadata": {},
   "outputs": [],
   "source": [
    "table(df$windowSize)"
   ]
  },
  {
   "cell_type": "markdown",
   "id": "ce0ed114-7878-48c8-822e-91c7f0b305e0",
   "metadata": {},
   "source": [
    "What if we limit to the best model for each positions?"
   ]
  },
  {
   "cell_type": "markdown",
   "id": "e96ba6f4-11f9-4207-8a05-a3486db70bec",
   "metadata": {},
   "source": [
    "## Which alpha, window_size tend to give most `NA`?"
   ]
  },
  {
   "cell_type": "markdown",
   "id": "2d026710-19d0-410b-86b9-eeaf108d6ba9",
   "metadata": {},
   "source": [
    "We get `NA` values for cor when all SNPs are dropped during regularization."
   ]
  },
  {
   "cell_type": "code",
   "execution_count": null,
   "id": "d7ad3c01-4d8a-4b7b-b7b4-a9dd0209a818",
   "metadata": {},
   "outputs": [],
   "source": [
    "library(dplyr)\n",
    "library(ggplot2)\n",
    "\n",
    "na_percentage.1 <- df %>%\n",
    "  mutate(alpha = factor(alpha, labels = levels(factor(alpha))),\n",
    "         windowSize = factor(windowSize, labels = paste(\"window =\", levels(factor(windowSize))))) %>%\n",
    "  group_by(alpha, windowSize) %>%\n",
    "  summarise(PercentageNA = mean(is.na(cor)) * 100, .groups = 'drop')\n",
    "\n",
    "ggplot(na_percentage.1, aes(x = as.factor(alpha), y = PercentageNA)) +\n",
    "  geom_bar(stat = \"identity\", fill = \"skyblue\") +\n",
    "  #geom_text(aes(label = sprintf(\"%.2f%%\", PercentageNA)), vjust = -1, hjust = 0.5, angle = 45) +\n",
    "  facet_wrap(~windowSize) +\n",
    "  theme_minimal() +\n",
    "  labs(title = paste0(\"Percentage of sites with NA R by\\nalpha (x-axis) and window_size (facet)\\nChr1:\",\n",
    "                      start_pos, \":\", end_pos), x = \"alpha\", y = \"Percentage of NA\") +\n",
    "  theme(\n",
    "    text = element_text(size = 20),\n",
    "    plot.title = element_text(size = 22),\n",
    "    axis.title = element_text(size = 20),\n",
    "    axis.text.x = element_text(size = 14, angle = 45, hjust = 1)\n",
    "  )\n",
    "\n",
    "na_percentage.2 <- df %>%\n",
    "  mutate(alpha = factor(alpha, labels = paste(\"alpha =\", levels(factor(alpha)))),\n",
    "         windowSize = factor(windowSize, labels = levels(factor(windowSize)))) %>%\n",
    "  group_by(alpha, windowSize) %>%\n",
    "  summarise(PercentageNA = mean(is.na(cor)) * 100, .groups = 'drop')\n",
    "\n",
    "ggplot(na_percentage.2, aes(x = as.factor(windowSize), y = PercentageNA)) +\n",
    "  geom_bar(stat = \"identity\", fill = \"lightgreen\") +\n",
    "  #geom_text(aes(label = sprintf(\"%.2f%%\", PercentageNA)), vjust = -1, hjust = 0.5, angle = 45) +\n",
    "  facet_wrap(~alpha) +\n",
    "  theme_minimal() +\n",
    "  labs(title = paste0(\"Percentage of sites with NA R by\\nwindow size (x-axis) and alpha (facet)\\nChr1:\",\n",
    "                      start_pos, \":\", end_pos), x = \"Window Size\", y = \"Percentage of NA\") +\n",
    "  theme(\n",
    "    text = element_text(size = 20),\n",
    "    plot.title = element_text(size = 22),\n",
    "    axis.title = element_text(size = 20),\n",
    "    axis.text.x = element_text(angle = 45, hjust = 1, size = 14)\n",
    "  )\n"
   ]
  },
  {
   "cell_type": "raw",
   "id": "d1552056-7e0a-49b3-92e8-8bb4702591c7",
   "metadata": {
    "tags": []
   },
   "source": [
    "## See which have best `alpha`, `window_size` tend to give best R (`cor`)"
   ]
  },
  {
   "cell_type": "code",
   "execution_count": null,
   "id": "83636417-0794-417f-a41d-1c5756659359",
   "metadata": {},
   "outputs": [],
   "source": [
    "library(dplyr)\n",
    "library(ggplot2)\n",
    "\n",
    "df_formatted.1 <- df %>%\n",
    "  mutate(alpha = factor(alpha, labels = paste(levels(factor(alpha)))),\n",
    "         windowSize = factor(windowSize, labels = paste(\"window =\", levels(factor(windowSize)))))\n",
    "\n",
    "p_alpha_formatted <- ggplot(df_formatted.1, aes(x = alpha, y = cor)) +\n",
    "  geom_boxplot() +\n",
    "  geom_jitter(width = 0.2, alpha = 0.05) +\n",
    "  geom_violin(fill = \"skyblue\", alpha = 0.3) +\n",
    "  facet_wrap(~windowSize) +\n",
    "  theme_minimal() +\n",
    "  labs(title = paste0(\"Correlation (R) by alpha (x-axis) and window_size (facet)\\nChr1:\",\n",
    "                      start_pos, \":\", end_pos), x = \"Alpha\", y = \"Correlation (R)\") +\n",
    "  scale_y_continuous(breaks = seq(floor(min(df$cor, na.rm = TRUE)), ceiling(max(df$cor, na.rm = TRUE)), by = 0.1)) +\n",
    "  theme(\n",
    "    text = element_text(size = 20),\n",
    "    plot.title = element_text(size = 22),\n",
    "    axis.title = element_text(size = 20),\n",
    "    axis.text.x = element_text(angle = 45, hjust = 1, size = 12),\n",
    "    axis.text.y = element_text(size = 10)\n",
    "  )\n",
    "\n",
    "df_formatted.2 <- df %>%\n",
    "  mutate(alpha = factor(alpha, labels = paste(\"alpha =\", levels(factor(alpha)))),\n",
    "         windowSize = factor(windowSize, labels = paste(levels(factor(windowSize)))))\n",
    "\n",
    "p_windowSize_formatted <- ggplot(df_formatted.2, aes(x = windowSize, y = cor)) +\n",
    "  geom_boxplot() +\n",
    "  geom_jitter(width = 0.2, alpha = 0.05) +\n",
    "  geom_violin(fill = \"skyblue\", alpha = 0.3) +\n",
    "  facet_wrap(~alpha) +\n",
    "  theme_minimal() +\n",
    "  labs(title = paste0(\"Correlation (R) by window size (x-axis) and alpha (facet)\\nChr1:\",\n",
    "                      start_pos, \":\", end_pos), x = \"Window Size\", y = \"Correlation (R)\") +\n",
    "  scale_y_continuous(breaks = seq(floor(min(df$cor, na.rm = TRUE)), ceiling(max(df$cor, na.rm = TRUE)), by = 0.1)) +\n",
    "  theme(\n",
    "    text = element_text(size = 20),\n",
    "    plot.title = element_text(size = 22),\n",
    "    axis.title = element_text(size = 20),\n",
    "    axis.text.x = element_text(angle = 45, hjust = 1, size = 12),\n",
    "    axis.text.y = element_text(size = 12)\n",
    "  )\n",
    "\n",
    "print(p_alpha_formatted)\n",
    "print(p_windowSize_formatted)\n"
   ]
  },
  {
   "cell_type": "markdown",
   "id": "e89e5e85-7dc8-43e1-ac6f-7296e5cc391e",
   "metadata": {},
   "source": [
    "<div class=\"alert alert-block alert-info\">Including two additional window sizes (200k and 2M) it becomes increasingly clear to the eye that there is in fact a trend.</div>"
   ]
  },
  {
   "cell_type": "markdown",
   "id": "8fbf8e82-97d0-4321-b6ba-55efd3640022",
   "metadata": {
    "tags": []
   },
   "source": [
    "# Track trends of changes in `alpha`, `window_size` for `cor` of specific given CpG sites"
   ]
  },
  {
   "cell_type": "markdown",
   "id": "2a59d6f7-31ce-4ad5-babb-02e9c0f8cb06",
   "metadata": {},
   "source": [
    "## By plotting"
   ]
  },
  {
   "cell_type": "markdown",
   "id": "18fa31bf-370b-404f-8fb6-51dd996aa82f",
   "metadata": {},
   "source": [
    "#### Without scaling `cor`"
   ]
  },
  {
   "cell_type": "code",
   "execution_count": null,
   "id": "0fbaacec-7baa-4a41-87ff-5eb4867be95a",
   "metadata": {},
   "outputs": [],
   "source": [
    "convert_and_order_windowSizes <- function(df, windowSizeColumn = 'windowSize') {\n",
    "  convert_to_genetic_terms <- function(size) {\n",
    "    if (size >= 1e6) {\n",
    "      return(paste0(size / 1e6, \"Mb\"))\n",
    "    } else if (size >= 1e3) {\n",
    "      return(paste0(size / 1e3, \"kb\"))\n",
    "    } else {\n",
    "      return(paste0(size, \"bp\"))\n",
    "    }\n",
    "  }\n",
    "  \n",
    "  df$windowSizeLabel <- sapply(df[[windowSizeColumn]], convert_to_genetic_terms)\n",
    "  \n",
    "  sizes_numeric <- unique(df[[windowSizeColumn]])\n",
    "  labels <- sapply(sizes_numeric, convert_to_genetic_terms)\n",
    "  order_mapping <- setNames(sizes_numeric, labels)\n",
    "  \n",
    "  ordered_labels <- names(sort(order_mapping))\n",
    "  \n",
    "  return(df)\n",
    "}\n",
    "\n",
    "df <- convert_and_order_windowSizes(df, 'windowSize')\n"
   ]
  },
  {
   "cell_type": "code",
   "execution_count": null,
   "id": "cec714dc-bc7b-497c-97ee-ebb2fe9624dd",
   "metadata": {},
   "outputs": [],
   "source": []
  },
  {
   "cell_type": "code",
   "execution_count": null,
   "id": "7c812fb2-5e93-45e4-ac24-7374dba3ac80",
   "metadata": {},
   "outputs": [],
   "source": [
    "ggplot(df, aes(x = windowSizeLabel, y = cor, group = methylationPosition)) +\n",
    "  geom_line(aes(color = as.factor(methylationPosition)), alpha = 0.2) +\n",
    "  theme_minimal() +\n",
    "  labs(title = paste0(\"Correlation (R) by Methylation Position across Window Sizes\\nfor 2000 windows Chr1:\",\n",
    "                      start_pos, \":\", end_pos),\n",
    "       x = \"Window Size\", y = \"Correlation (R)\") +\n",
    "  theme(legend.position = \"none\",\n",
    "        text = element_text(size = 20),\n",
    "        plot.title = element_text(size = 22),\n",
    "        axis.title = element_text(size = 20),\n",
    "        axis.text.x = element_text(size = 14),\n",
    "        axis.text.y = element_text(size = 14))\n"
   ]
  },
  {
   "cell_type": "code",
   "execution_count": null,
   "id": "c982c9b1-4492-46b8-b4a2-b0de5a0fc757",
   "metadata": {
    "tags": []
   },
   "outputs": [],
   "source": [
    "filter_random_methylation_sites <- function(df, x) {\n",
    "  x <- min(x, length(unique(df$methylationPosition)))\n",
    "  \n",
    "  selected_sites <- sample(unique(df$methylationPosition), x)\n",
    "    \n",
    "  filtered_df <- df %>% filter(methylationPosition %in% selected_sites)\n",
    "  \n",
    "  return(filtered_df)\n",
    "}\n",
    "\n",
    "filtered_df <- filter_random_methylation_sites(df, x = 20)\n",
    "#head(filtered_df)\n"
   ]
  },
  {
   "cell_type": "code",
   "execution_count": null,
   "id": "247dbb10-8df6-4957-af47-f63e2be23e1d",
   "metadata": {},
   "outputs": [],
   "source": [
    "ggplot(filtered_df, aes(x = windowSizeLabel, y = cor, group = methylationPosition)) +\n",
    "  geom_line(aes(color = as.factor(methylationPosition)), alpha = 0.75, size = 1.5) +\n",
    "  theme_minimal() +\n",
    "  labs(title = \"Correlation (R) by methylation position across window sizes\\n for 20 randomly selected windows\",\n",
    "       x = \"Window Size\", y = \"Correlation (R)\") +\n",
    "  theme(legend.position = \"none\",\n",
    "        text = element_text(size = 20),\n",
    "        plot.title = element_text(size = 22),\n",
    "        axis.title = element_text(size = 20),\n",
    "        axis.text.x = element_text(size = 14),\n",
    "        axis.text.y = element_text(size = 14))\n"
   ]
  },
  {
   "cell_type": "markdown",
   "id": "e27c07c4-fce0-4999-80ee-d57dde2db8fb",
   "metadata": {},
   "source": [
    "#### With scaling `cor`"
   ]
  },
  {
   "cell_type": "code",
   "execution_count": null,
   "id": "3aab917f-241a-45df-9c83-b0e531e7d18b",
   "metadata": {},
   "outputs": [],
   "source": [
    "library(dplyr)\n",
    "\n",
    "scale_cor_values <- function(df) {\n",
    "  df %>% \n",
    "    group_by(methylationPosition) %>% \n",
    "    mutate(scaled_cor = (cor - min(cor)) / (max(cor) - min(cor)) * 100) %>% \n",
    "    ungroup()\n",
    "}\n",
    "\n",
    "df_scaled <- scale_cor_values(filtered_df)\n"
   ]
  },
  {
   "cell_type": "code",
   "execution_count": null,
   "id": "8f0162cd-8529-456a-975d-22e632c83b28",
   "metadata": {},
   "outputs": [],
   "source": [
    "max(df_scaled$scaled_cor, na.rm = TRUE)"
   ]
  },
  {
   "cell_type": "code",
   "execution_count": null,
   "id": "c32f3ecd-52fd-4f5d-882f-5353b0cf9737",
   "metadata": {},
   "outputs": [],
   "source": [
    "min(df_scaled$scaled_cor, na.rm = TRUE)"
   ]
  },
  {
   "cell_type": "code",
   "execution_count": null,
   "id": "76ccbe3a-ced2-407b-9ec7-c970bf13b85b",
   "metadata": {},
   "outputs": [],
   "source": [
    "ggplot(df_scaled, aes(x = windowSizeLabel, y = scaled_cor, group = methylationPosition)) +\n",
    "  geom_line(aes(color = as.factor(methylationPosition)), alpha = 0.75, size = 1.5) +\n",
    "  theme_minimal() +\n",
    "  labs(title = \"Correlation (R) by methylation position across window sizes\",\n",
    "       x = \"Window Size\", y = \"Correlation (R), scaled\") +\n",
    "  theme(legend.position = \"none\",\n",
    "        text = element_text(size = 20),\n",
    "        plot.title = element_text(size = 22),\n",
    "        axis.title = element_text(size = 20),\n",
    "        axis.text.x = element_text(size = 14),\n",
    "        axis.text.y = element_text(size = 14))"
   ]
  },
  {
   "cell_type": "markdown",
   "id": "ff88f421-a2e4-442e-979d-880545cf7b76",
   "metadata": {},
   "source": [
    "<div class=\"alert alert-block alert-info\">What a mess... This didn't clear things up like I hoped. Let's try a nonvisual approach to see if decline of R over window sizes is significant.</div>"
   ]
  },
  {
   "cell_type": "markdown",
   "id": "4a8593f0-6161-419b-8489-fde686ae0c93",
   "metadata": {},
   "source": [
    "### Statistical models"
   ]
  },
  {
   "cell_type": "markdown",
   "id": "85c49cc3-7d3c-465f-85b7-3ccac569cebc",
   "metadata": {},
   "source": [
    "Let's start with a simple linear model and ANOVA to see if we're able to detect any difference across groups for window size, alpha, and interaction."
   ]
  },
  {
   "cell_type": "code",
   "execution_count": null,
   "id": "6ca61e5e-65a0-4a40-85e0-7a9cdcfab33e",
   "metadata": {},
   "outputs": [],
   "source": [
    "model <- lm(cor ~ windowSize,\n",
    "            data = df)"
   ]
  },
  {
   "cell_type": "code",
   "execution_count": null,
   "id": "7d42a1fa-db8c-4ac4-8214-c262430f407c",
   "metadata": {},
   "outputs": [],
   "source": [
    "model"
   ]
  },
  {
   "cell_type": "code",
   "execution_count": null,
   "id": "eeb05b3c-e774-40ca-b447-19417f84ce72",
   "metadata": {},
   "outputs": [],
   "source": [
    "anova(model)"
   ]
  },
  {
   "cell_type": "markdown",
   "id": "4ac25da5-4262-4f9c-b435-0d18661004a3",
   "metadata": {},
   "source": [
    "<div class=\"alert alert-block alert-info\">Yes, clear effect</div>"
   ]
  },
  {
   "cell_type": "markdown",
   "id": "59865200-723f-4f53-9e5e-f245999b9276",
   "metadata": {},
   "source": [
    "## What's the relationship between SNP effect size and distance from methylation site... and how does this depend on window size?"
   ]
  },
  {
   "cell_type": "markdown",
   "id": "427ed889-1290-416c-a16b-55408950695b",
   "metadata": {},
   "source": [
    "First, extract all SNP coefficients, IDs, and corresponding methylation sites for our models.<br><br>Let's only make this df for one window size at a time, for fair comparisons."
   ]
  },
  {
   "cell_type": "code",
   "execution_count": null,
   "id": "e9e08a99-fd5e-4f29-a797-e7bd4e2c77c6",
   "metadata": {},
   "outputs": [],
   "source": [
    "SNPs_to_df <- function(object) {\n",
    "  modelsList <- lapply(object@models, function(model) {\n",
    "    snpIDs <- names(model@snpWeights)\n",
    "    snpWeights <- model@snpWeights\n",
    "\n",
    "    expandedModelAttrs <- data.frame(\n",
    "      scaffoldIdentifier = rep(object@scaffoldIdentifier, length(snpIDs)),\n",
    "      methylationPosition = rep(model@methylationPosition, length(snpIDs)),\n",
    "      windowSize = rep(model@windowSize, length(snpIDs)),\n",
    "      SNP_ID = snpIDs,\n",
    "      SNP_Weight = snpWeights,\n",
    "      cor = rep(model@evaluation_results[['cor']], length(snpIDs))\n",
    "    )\n",
    "\n",
    "    return(expandedModelAttrs)\n",
    "  })\n",
    "\n",
    "  df <- do.call(\"rbind\", modelsList)\n",
    "  \n",
    "  df <- convert_and_order_windowSizes(df, 'windowSize')\n",
    "  \n",
    "  return(df)\n",
    "}"
   ]
  },
  {
   "cell_type": "code",
   "execution_count": null,
   "id": "d40c7e01-f21f-4b51-83cb-9129ce34c369",
   "metadata": {},
   "outputs": [],
   "source": [
    "snp_df <- data.frame()"
   ]
  },
  {
   "cell_type": "code",
   "execution_count": null,
   "id": "c72b9c4b-a5a1-4aba-9378-4f3b8d01f3ff",
   "metadata": {},
   "outputs": [],
   "source": [
    "for(scaff_path in scaff_paths){\n",
    "    my_scaff <- readRDS(scaff_path)\n",
    "    small_snp_df <- SNPs_to_df(my_scaff)\n",
    "    snp_df <- bind_rows(snp_df, small_snp_df)\n",
    "}"
   ]
  },
  {
   "cell_type": "code",
   "execution_count": null,
   "id": "d95f5ee3-41bf-4e55-8893-e51c21f77674",
   "metadata": {},
   "outputs": [],
   "source": [
    "snp_df$SNP_Position <- as.numeric(gsub(\".*:(\\\\d+):.*\", \"\\\\1\", snp_df$SNP_ID))\n",
    "snp_df$Distance = abs(snp_df$methylationPosition - snp_df$SNP_Position)\n"
   ]
  },
  {
   "cell_type": "code",
   "execution_count": null,
   "id": "4211a5f1-90b8-4d83-a6f6-5451e924bae1",
   "metadata": {},
   "outputs": [],
   "source": [
    "dim(snp_df)"
   ]
  },
  {
   "cell_type": "code",
   "execution_count": null,
   "id": "c68df65b-ec5e-4df6-864a-e5a69bb975d5",
   "metadata": {},
   "outputs": [],
   "source": [
    "r_squared_df <- snp_df %>%\n",
    "  group_by(windowSize) %>%\n",
    "  do({\n",
    "    model <- lm(cor ~ Distance, data = .)\n",
    "    data.frame(R2 = summary(model)$r.squared)\n",
    "  }) %>%\n",
    "  ungroup() %>%\n",
    "  mutate(windowSize = as.factor(windowSize))\n",
    "\n",
    "print(r_squared_df)\n"
   ]
  },
  {
   "cell_type": "markdown",
   "id": "4ba685bb-bf50-4300-b12f-3255260bdb97",
   "metadata": {},
   "source": [
    "<div class=\"alert alert-block alert-info\">Very weak correlation between distance from methylation site and SNP effect size is surprising</div>"
   ]
  },
  {
   "cell_type": "code",
   "execution_count": null,
   "id": "fd551088-88b2-4a39-88ab-8190008b242a",
   "metadata": {},
   "outputs": [],
   "source": [
    "library(ggplot2)\n",
    "\n",
    "ggplot(snp_df, aes(x = Distance, y = SNP_Weight, color = as.factor(windowSize))) +\n",
    "  geom_point(alpha = 0.1) +\n",
    "  #geom_smooth(method = \"lm\", se = FALSE, size = 2) + # Add trendline\n",
    "  labs(title = \"SNP effect size vs. distance by window size\",\n",
    "       x = \"Distance between SNP and methylation site\",\n",
    "       y = \"SNP effect size\") +  \n",
    "  theme(legend.position = \"none\",\n",
    "        text = element_text(size = 20),\n",
    "        plot.title = element_text(size = 22),\n",
    "        axis.title = element_text(size = 20),\n",
    "        axis.text.x = element_text(size = 14),\n",
    "        axis.text.y = element_text(size = 14))"
   ]
  },
  {
   "cell_type": "code",
   "execution_count": null,
   "id": "66415d00-3ee0-4943-86ba-ad7cd46e797c",
   "metadata": {},
   "outputs": [],
   "source": [
    "library(ggplot2)\n",
    "\n",
    "ggplot(snp_df, aes(x = Distance, y = SNP_Weight, color = as.factor(windowSize))) +\n",
    "  geom_point(alpha = 0.2) +\n",
    "  #geom_smooth(method = \"lm\", se = FALSE, size = 2) + # Add trendline\n",
    "  labs(title = \"SNP effect size vs. distance by window size (y-truncated)\",\n",
    "       x = \"Distance between SNP and methylation site\",\n",
    "       y = \"SNP effect size\") +  \n",
    "  ylim(0, 0.1)+\n",
    "  theme(text = element_text(size = 20),\n",
    "        plot.title = element_text(size = 22),\n",
    "        axis.title = element_text(size = 20),\n",
    "        axis.text.x = element_text(size = 14),\n",
    "        axis.text.y = element_text(size = 14))"
   ]
  },
  {
   "cell_type": "markdown",
   "id": "11b5b871-f387-4699-9207-eec27f16c328",
   "metadata": {},
   "source": [
    "Does this trend hold up if we only look at large windows?"
   ]
  },
  {
   "cell_type": "code",
   "execution_count": null,
   "id": "3bfdac75-a150-469b-8903-4e97c6a85231",
   "metadata": {},
   "outputs": [],
   "source": [
    "library(ggplot2)\n",
    "\n",
    "snp_df_subset <- snp_df[which(snp_df$windowSize >= 500000), ]\n",
    "\n",
    "ggplot(snp_df_subset, aes(x = Distance, y = SNP_Weight, color = as.factor(windowSize))) +\n",
    "  geom_point(alpha = 0.2) +\n",
    "  #geom_smooth(method = \"lm\", se = FALSE, size = 2) + # Add trendline\n",
    "  labs(title = \"SNP effect size vs. distance by window size (y-truncated)\",\n",
    "       x = \"Distance between SNP and methylation site\",\n",
    "       y = \"SNP effect size\") +  \n",
    "  ylim(0, 0.025)+\n",
    "  theme(text = element_text(size = 20),\n",
    "        plot.title = element_text(size = 22),\n",
    "        axis.title = element_text(size = 20),\n",
    "        axis.text.x = element_text(size = 14),\n",
    "        axis.text.y = element_text(size = 14))"
   ]
  },
  {
   "cell_type": "code",
   "execution_count": null,
   "id": "d023c628-4f6c-424f-a189-2121c51915f0",
   "metadata": {},
   "outputs": [],
   "source": [
    "library(ggplot2)\n",
    "\n",
    "snp_df_subset <- snp_df[which(snp_df$windowSize >= 2000000), ]\n",
    "\n",
    "ggplot(snp_df_subset, aes(x = Distance, y = SNP_Weight, color = as.factor(windowSize))) +\n",
    "  geom_point(alpha = 0.2) +\n",
    "  #geom_smooth(method = \"lm\", se = FALSE, size = 2) + # Add trendline\n",
    "  labs(title = \"SNP effect size vs. distance by window size (y-truncated)\",\n",
    "       x = \"Distance between SNP and methylation site\",\n",
    "       y = \"SNP effect size\") +  \n",
    "  ylim(0, 0.025)+\n",
    "  theme(text = element_text(size = 20),\n",
    "        plot.title = element_text(size = 22),\n",
    "        axis.title = element_text(size = 20),\n",
    "        axis.text.x = element_text(size = 14),\n",
    "        axis.text.y = element_text(size = 14))"
   ]
  },
  {
   "cell_type": "markdown",
   "id": "ce0aeb81-9554-4603-951d-d62f3034dea3",
   "metadata": {},
   "source": [
    "## When window size varies, how similar is correlation for given SNPs"
   ]
  },
  {
   "cell_type": "markdown",
   "id": "c545b5f7-23d4-4ea2-b8e5-2fde4f9a027c",
   "metadata": {},
   "source": [
    "<div class=\"alert alert-block alert-info\">In these plots, each dot represents a SNP included in runs for both window sizes, with cor for each window size shown on a different axis.</div>"
   ]
  },
  {
   "cell_type": "code",
   "execution_count": null,
   "id": "73bd1746-059b-4a26-82b8-6ee6d6eda340",
   "metadata": {},
   "outputs": [],
   "source": [
    "plotSNPEffectSizes <- function(data, labelX, labelY) {\n",
    "  # Filter for SNPs present in both specified window size labels\n",
    "  dataX <- subset(data, windowSizeLabel == labelX)\n",
    "  dataY <- subset(data, windowSizeLabel == labelY)\n",
    "  \n",
    "  # Find common SNPs in both window size labels\n",
    "  commonSNPIDs <- intersect(dataX$SNP_ID, dataY$SNP_ID)\n",
    "  \n",
    "  # Subset data for common SNPs\n",
    "  dataXCommon <- subset(dataX, SNP_ID %in% commonSNPIDs)\n",
    "  dataYCommon <- subset(dataY, SNP_ID %in% commonSNPIDs)\n",
    "  \n",
    "  commonSNPs <- merge(dataXCommon, dataYCommon, by = \"SNP_ID\", suffixes = c(\"_x\", \"_y\"))\n",
    "  \n",
    "  plot <- ggplot(commonSNPs, aes(x = SNP_Weight_x, y = SNP_Weight_y)) +\n",
    "    geom_point(alpha = 0.05) +\n",
    "    geom_smooth(method = \"lm\", se = FALSE, color = \"blue\", size = 2) +\n",
    "    labs(title = paste(\"SNP effect size comparison between window sizes\", labelX, \"and\", labelY),\n",
    "         x = paste(\"SNP Effect Size - Window Size\", labelX),\n",
    "         y = paste(\"SNP Effect Size - Window Size\", labelY)) +\n",
    "    theme_minimal() +\n",
    "    theme(legend.position = \"none\",\n",
    "          text = element_text(size = 20),\n",
    "          plot.title = element_text(size = 22),\n",
    "          axis.title = element_text(size = 20),\n",
    "          axis.text.x = element_text(size = 14),\n",
    "          axis.text.y = element_text(size = 14))\n",
    "  \n",
    "  print(plot)\n",
    "  \n",
    "  # Calculate and print R^2 for linear model of SNP_Weight comparison\n",
    "  model <- lm(SNP_Weight_y ~ SNP_Weight_x, data = commonSNPs)\n",
    "  rSquared <- summary(model)$r.squared\n",
    "  cat(\"R^2:\", rSquared, \"\\n\")\n",
    "}\n",
    "\n",
    "plotSNPEffectSizes(snp_df, \"5kb\", \"500kb\")\n"
   ]
  },
  {
   "cell_type": "markdown",
   "id": "d8319db2-769d-480c-a90f-010c72e744e9",
   "metadata": {},
   "source": [
    "<div class=\"alert alert-block alert-info\">Weak agreement when window sizes are very different</div>"
   ]
  },
  {
   "cell_type": "code",
   "execution_count": null,
   "id": "7d3322f5-b576-4cc9-86cb-1dd9370071fc",
   "metadata": {},
   "outputs": [],
   "source": [
    "levels(factor(snp_df$windowSize))"
   ]
  },
  {
   "cell_type": "code",
   "execution_count": null,
   "id": "4f00c5cb-d00b-451d-98bf-59979ce4375b",
   "metadata": {},
   "outputs": [],
   "source": [
    "plotSNPEffectSizes(snp_df, \"10kb\", \"20kb\")"
   ]
  },
  {
   "cell_type": "markdown",
   "id": "60c6a702-3891-4866-a8e5-5e9dd25f2923",
   "metadata": {},
   "source": [
    "<div class=\"alert alert-block alert-info\">Agreement is not much stronger when window sizes are closer</div>"
   ]
  },
  {
   "cell_type": "code",
   "execution_count": null,
   "id": "d09ab0f6-3704-47a9-bd9d-488e60dda6b5",
   "metadata": {},
   "outputs": [],
   "source": [
    "plotSNPEffectSizes(snp_df, \"50kb\", \"500kb\")"
   ]
  },
  {
   "cell_type": "markdown",
   "id": "619a1656-3f4c-48c2-bee9-f8acc0423c57",
   "metadata": {},
   "source": [
    "## How frequently does each possible window size give highest cor for given methylation site?"
   ]
  },
  {
   "cell_type": "code",
   "execution_count": null,
   "id": "adf8d1ca-e1d8-44a0-a7f2-c0572b4075be",
   "metadata": {},
   "outputs": [],
   "source": [
    "highest_cor_labels <- aggregate(cor ~ methylationPosition, data = df, function(x) df$windowSizeLabel[which.max(x)])\n",
    "frequency_of_max_cor <- table(highest_cor_labels$cor)\n",
    "print(frequency_of_max_cor)\n"
   ]
  },
  {
   "cell_type": "code",
   "execution_count": null,
   "id": "5fdf6493-d190-4db8-b415-28b392c23690",
   "metadata": {},
   "outputs": [],
   "source": [
    "percentage_of_max_cor <- prop.table(frequency_of_max_cor) * 100\n",
    "print(percentage_of_max_cor)\n",
    "sum(percentage_of_max_cor)"
   ]
  },
  {
   "cell_type": "markdown",
   "id": "54e91d77-1dfc-402f-96d2-c4e68010bf87",
   "metadata": {},
   "source": [
    "<div class=\"alert alert-block alert-info\">All considered, there seems to be no easy answer for best window size</div>"
   ]
  },
  {
   "cell_type": "code",
   "execution_count": null,
   "id": "ef5bd2a3-4921-4642-863f-066591eb3756",
   "metadata": {},
   "outputs": [],
   "source": []
  }
 ],
 "metadata": {
  "kernelspec": {
   "display_name": "R",
   "language": "R",
   "name": "ir"
  },
  "language_info": {
   "codemirror_mode": "r",
   "file_extension": ".r",
   "mimetype": "text/x-r-source",
   "name": "R",
   "pygments_lexer": "r",
   "version": "4.3.1"
  },
  "toc-autonumbering": true
 },
 "nbformat": 4,
 "nbformat_minor": 5
}
