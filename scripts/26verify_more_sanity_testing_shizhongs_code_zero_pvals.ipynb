{
 "cells": [
  {
   "cell_type": "markdown",
   "id": "bf56f1cb-692a-4f54-b026-99e8075d50e8",
   "metadata": {},
   "source": [
    "# Compare MWAS results with `lambda.min` and `lambda.1se` using Shizhong's old code with new data"
   ]
  },
  {
   "cell_type": "markdown",
   "id": "dc17d619-945e-4221-8ba7-c4c36fa56efe",
   "metadata": {},
   "source": [
    "In this version, we use the full new SNP set with a selected window"
   ]
  },
  {
   "cell_type": "markdown",
   "id": "ca2a80fb-d548-4157-b585-cd5cf6a471d2",
   "metadata": {},
   "source": [
    "## Be ready with matched up SNP and covariate files"
   ]
  },
  {
   "cell_type": "code",
   "execution_count": 1,
   "id": "1d0d53e3-618f-4b04-b2b6-ae27a7e4ef5c",
   "metadata": {},
   "outputs": [
    {
     "name": "stderr",
     "output_type": "stream",
     "text": [
      "Loading required package: Matrix\n",
      "\n",
      "Loaded glmnet 4.1-8\n",
      "\n",
      "Loading required package: foreach\n",
      "\n",
      "Loading required package: iterators\n",
      "\n",
      "Loading required package: parallel\n",
      "\n"
     ]
    }
   ],
   "source": [
    "library(\"glmnet\")\n",
    "library(\"e1071\")\n",
    "library(\"doParallel\")\n",
    "library(\"data.table\")"
   ]
  },
  {
   "cell_type": "code",
   "execution_count": 2,
   "id": "c6034757-2d3c-43d3-aa16-70baa5169549",
   "metadata": {},
   "outputs": [],
   "source": [
    "df <- fread(\"09-OUT_matched_SNP_meth_cov_a2.csv\")"
   ]
  },
  {
   "cell_type": "code",
   "execution_count": 3,
   "id": "9821a860-2a97-4a7b-bfca-6e8abd96bf8a",
   "metadata": {},
   "outputs": [],
   "source": [
    "df <- df[which(df$Chr == 1), ]"
   ]
  },
  {
   "cell_type": "code",
   "execution_count": 4,
   "id": "a023b2df-92e9-414d-a2e5-a8c6d3193954",
   "metadata": {},
   "outputs": [],
   "source": [
    "i <- 2"
   ]
  },
  {
   "cell_type": "code",
   "execution_count": 6,
   "id": "522b7988-f517-454d-90d5-4e6a51f49380",
   "metadata": {},
   "outputs": [
    {
     "data": {
      "text/html": [
       "<table class=\"dataframe\">\n",
       "<caption>A data.table: 1 × 15</caption>\n",
       "<thead>\n",
       "\t<tr><th scope=col>Chr</th><th scope=col>SNP_data</th><th scope=col>methylation_data</th><th scope=col>last_meth_value_with_SNP_coverage</th><th scope=col>first_meth_value_with_SNP_coverage</th><th scope=col>last_meth_index_with_SNP_coverage</th><th scope=col>first_meth_index_with_SNP_coverage</th><th scope=col>subpopulation</th><th scope=col>brain_region</th><th scope=col>population</th><th scope=col>region</th><th scope=col>cov_file</th><th scope=col>cov_file2</th><th scope=col>cov_file3</th><th scope=col>cov_file4</th></tr>\n",
       "\t<tr><th scope=col>&lt;int&gt;</th><th scope=col>&lt;chr&gt;</th><th scope=col>&lt;chr&gt;</th><th scope=col>&lt;int&gt;</th><th scope=col>&lt;int&gt;</th><th scope=col>&lt;int&gt;</th><th scope=col>&lt;int&gt;</th><th scope=col>&lt;chr&gt;</th><th scope=col>&lt;chr&gt;</th><th scope=col>&lt;chr&gt;</th><th scope=col>&lt;chr&gt;</th><th scope=col>&lt;chr&gt;</th><th scope=col>&lt;chr&gt;</th><th scope=col>&lt;chr&gt;</th><th scope=col>&lt;chr&gt;</th></tr>\n",
       "</thead>\n",
       "<tbody>\n",
       "\t<tr><td>1</td><td>/expanse/lustre/projects/jhu152/naglemi/mwas/gwas//libd_chr1.pgen</td><td>/expanse/lustre/projects/jhu152/naglemi/mwas/pheno/caud/out/chr1_all.rda</td><td>248918358</td><td>1069461</td><td>2202702</td><td>8982</td><td>all</td><td>caud</td><td>all</td><td>caud</td><td>/expanse/lustre/projects/jhu152/naglemi/mwas/full_covariates_a2/all_caud.csv</td><td>/expanse/lustre/projects/jhu152/naglemi/mwas/full_covariates_a2/all_caud-no-meth.csv</td><td>/expanse/lustre/projects/jhu152/naglemi/mwas/full_covariates_a2/all_caud-no-meth-no-dx.csv</td><td>/expanse/lustre/projects/jhu152/naglemi/mwas/full_covariates_a2/all_caud-no-dx.csv</td></tr>\n",
       "</tbody>\n",
       "</table>\n"
      ],
      "text/latex": [
       "A data.table: 1 × 15\n",
       "\\begin{tabular}{lllllllllllllll}\n",
       " Chr & SNP\\_data & methylation\\_data & last\\_meth\\_value\\_with\\_SNP\\_coverage & first\\_meth\\_value\\_with\\_SNP\\_coverage & last\\_meth\\_index\\_with\\_SNP\\_coverage & first\\_meth\\_index\\_with\\_SNP\\_coverage & subpopulation & brain\\_region & population & region & cov\\_file & cov\\_file2 & cov\\_file3 & cov\\_file4\\\\\n",
       " <int> & <chr> & <chr> & <int> & <int> & <int> & <int> & <chr> & <chr> & <chr> & <chr> & <chr> & <chr> & <chr> & <chr>\\\\\n",
       "\\hline\n",
       "\t 1 & /expanse/lustre/projects/jhu152/naglemi/mwas/gwas//libd\\_chr1.pgen & /expanse/lustre/projects/jhu152/naglemi/mwas/pheno/caud/out/chr1\\_all.rda & 248918358 & 1069461 & 2202702 & 8982 & all & caud & all & caud & /expanse/lustre/projects/jhu152/naglemi/mwas/full\\_covariates\\_a2/all\\_caud.csv & /expanse/lustre/projects/jhu152/naglemi/mwas/full\\_covariates\\_a2/all\\_caud-no-meth.csv & /expanse/lustre/projects/jhu152/naglemi/mwas/full\\_covariates\\_a2/all\\_caud-no-meth-no-dx.csv & /expanse/lustre/projects/jhu152/naglemi/mwas/full\\_covariates\\_a2/all\\_caud-no-dx.csv\\\\\n",
       "\\end{tabular}\n"
      ],
      "text/markdown": [
       "\n",
       "A data.table: 1 × 15\n",
       "\n",
       "| Chr &lt;int&gt; | SNP_data &lt;chr&gt; | methylation_data &lt;chr&gt; | last_meth_value_with_SNP_coverage &lt;int&gt; | first_meth_value_with_SNP_coverage &lt;int&gt; | last_meth_index_with_SNP_coverage &lt;int&gt; | first_meth_index_with_SNP_coverage &lt;int&gt; | subpopulation &lt;chr&gt; | brain_region &lt;chr&gt; | population &lt;chr&gt; | region &lt;chr&gt; | cov_file &lt;chr&gt; | cov_file2 &lt;chr&gt; | cov_file3 &lt;chr&gt; | cov_file4 &lt;chr&gt; |\n",
       "|---|---|---|---|---|---|---|---|---|---|---|---|---|---|---|\n",
       "| 1 | /expanse/lustre/projects/jhu152/naglemi/mwas/gwas//libd_chr1.pgen | /expanse/lustre/projects/jhu152/naglemi/mwas/pheno/caud/out/chr1_all.rda | 248918358 | 1069461 | 2202702 | 8982 | all | caud | all | caud | /expanse/lustre/projects/jhu152/naglemi/mwas/full_covariates_a2/all_caud.csv | /expanse/lustre/projects/jhu152/naglemi/mwas/full_covariates_a2/all_caud-no-meth.csv | /expanse/lustre/projects/jhu152/naglemi/mwas/full_covariates_a2/all_caud-no-meth-no-dx.csv | /expanse/lustre/projects/jhu152/naglemi/mwas/full_covariates_a2/all_caud-no-dx.csv |\n",
       "\n"
      ],
      "text/plain": [
       "  Chr SNP_data                                                         \n",
       "1 1   /expanse/lustre/projects/jhu152/naglemi/mwas/gwas//libd_chr1.pgen\n",
       "  methylation_data                                                        \n",
       "1 /expanse/lustre/projects/jhu152/naglemi/mwas/pheno/caud/out/chr1_all.rda\n",
       "  last_meth_value_with_SNP_coverage first_meth_value_with_SNP_coverage\n",
       "1 248918358                         1069461                           \n",
       "  last_meth_index_with_SNP_coverage first_meth_index_with_SNP_coverage\n",
       "1 2202702                           8982                              \n",
       "  subpopulation brain_region population region\n",
       "1 all           caud         all        caud  \n",
       "  cov_file                                                                    \n",
       "1 /expanse/lustre/projects/jhu152/naglemi/mwas/full_covariates_a2/all_caud.csv\n",
       "  cov_file2                                                                           \n",
       "1 /expanse/lustre/projects/jhu152/naglemi/mwas/full_covariates_a2/all_caud-no-meth.csv\n",
       "  cov_file3                                                                                 \n",
       "1 /expanse/lustre/projects/jhu152/naglemi/mwas/full_covariates_a2/all_caud-no-meth-no-dx.csv\n",
       "  cov_file4                                                                         \n",
       "1 /expanse/lustre/projects/jhu152/naglemi/mwas/full_covariates_a2/all_caud-no-dx.csv"
      ]
     },
     "metadata": {},
     "output_type": "display_data"
    }
   ],
   "source": [
    "df[1, ]"
   ]
  },
  {
   "cell_type": "code",
   "execution_count": 7,
   "id": "22de2603-481a-4995-8991-1f6f64989e3d",
   "metadata": {},
   "outputs": [],
   "source": [
    "set.seed(2018)\n",
    "wind <- c(10000)\n",
    "# output directory\n",
    "#outd <- \"/dcl02/lieber/shan/shizhong/finemapping/GWAS/tags/scz3/mwas/chr22/1/\"\n",
    "outd <- \"20-OUT_original_mwas_sanity_test/\""
   ]
  },
  {
   "cell_type": "markdown",
   "id": "d7711c4d-5f19-4fd0-9f7b-891133ac3311",
   "metadata": {},
   "source": [
    "## Functions"
   ]
  },
  {
   "cell_type": "markdown",
   "id": "655b95b9-bbcb-4ae8-8914-cf36149e10e1",
   "metadata": {},
   "source": [
    "### Shizhong's original"
   ]
  },
  {
   "cell_type": "code",
   "execution_count": 8,
   "id": "be729eb2-c5b2-4d3e-b835-072d8f5ba2e6",
   "metadata": {},
   "outputs": [],
   "source": [
    "###### model: learn elastic net model on training data \n",
    "######---------Input: trainX, trainY\n",
    "######---------Return: selected features and coefficents\n",
    "\n",
    "# original\n",
    "elastic.net <- function(trainX,trainY){\n",
    "    if(nrow(trainX)!=length(trainY)){\n",
    "            stop(\"Number of observations is differerent\")\n",
    "    } \n",
    "\n",
    "    # optimize alpha---mixing parameter  \n",
    "    a <- 0.5\n",
    "    search <- foreach(ai = a, .combine = rbind) %dopar% {\n",
    "        cv.fit <- cv.glmnet(\n",
    "                        trainX,\n",
    "                        trainY,\n",
    "                        nfold = 5,\n",
    "                        type.measure = \"mse\",\n",
    "                        paralle = TRUE,\n",
    "                        alpha = ai\n",
    "                        )\n",
    "        data.frame(\n",
    "                        cvm = min(cv.fit$cvm),\n",
    "                        lambda = cv.fit$lambda.min,\n",
    "                        alpha = ai\n",
    "                        )\n",
    "        } \n",
    "    cv.opt <- search[search$cvm == min(search$cvm),] \n",
    "\n",
    "        # fit model by optimized alpha and lambda\n",
    "        yfit = glmnet(\n",
    "        trainX,\n",
    "        trainY,\n",
    "        lambda = cv.opt$lambda,\n",
    "        alpha = cv.opt$alpha\n",
    "                )       \n",
    "        idf <- coef(yfit)\n",
    "        idx <- which(idf != 0)\n",
    "        selectf <- data.frame(\n",
    "                features = idf@Dimnames[[1]][idx], \n",
    "                coefs = idf [idx]\n",
    "        )\n",
    "}\n",
    "\n",
    "MWAS <- function(gwas, weight, geno){\n",
    "        z <- gwas %*% weight\n",
    "        z.cor <- cor(geno)\n",
    "        se <- sqrt(weight %*%  z.cor %*%  weight)\n",
    "        z <- z/se\n",
    "        p=pnorm(abs(z),lower.tail=F)*2\n",
    "        return(c(z, p))\n",
    "}"
   ]
  },
  {
   "cell_type": "markdown",
   "id": "3a0ea432-3ac3-4077-ae61-c3a029004096",
   "metadata": {},
   "source": [
    "## Replace all old objects with new objects in same format"
   ]
  },
  {
   "cell_type": "markdown",
   "id": "18332543-6f7a-40d8-b894-9562a6ac7457",
   "metadata": {},
   "source": [
    "### Methylation data"
   ]
  },
  {
   "cell_type": "code",
   "execution_count": 9,
   "id": "f9b051aa-a1e5-421b-856d-718cf85c24a3",
   "metadata": {},
   "outputs": [
    {
     "name": "stderr",
     "output_type": "stream",
     "text": [
      "Loading required package: BiocGenerics\n",
      "\n",
      "\n",
      "Attaching package: ‘BiocGenerics’\n",
      "\n",
      "\n",
      "The following objects are masked from ‘package:stats’:\n",
      "\n",
      "    IQR, mad, sd, var, xtabs\n",
      "\n",
      "\n",
      "The following objects are masked from ‘package:base’:\n",
      "\n",
      "    anyDuplicated, aperm, append, as.data.frame, basename, cbind,\n",
      "    colnames, dirname, do.call, duplicated, eval, evalq, Filter, Find,\n",
      "    get, grep, grepl, intersect, is.unsorted, lapply, Map, mapply,\n",
      "    match, mget, order, paste, pmax, pmax.int, pmin, pmin.int,\n",
      "    Position, rank, rbind, Reduce, rownames, sapply, setdiff, sort,\n",
      "    table, tapply, union, unique, unsplit, which.max, which.min\n",
      "\n",
      "\n",
      "Loading required package: GenomicRanges\n",
      "\n",
      "Loading required package: stats4\n",
      "\n",
      "Loading required package: S4Vectors\n",
      "\n",
      "\n",
      "Attaching package: ‘S4Vectors’\n",
      "\n",
      "\n",
      "The following objects are masked from ‘package:data.table’:\n",
      "\n",
      "    first, second\n",
      "\n",
      "\n",
      "The following objects are masked from ‘package:Matrix’:\n",
      "\n",
      "    expand, unname\n",
      "\n",
      "\n",
      "The following object is masked from ‘package:utils’:\n",
      "\n",
      "    findMatches\n",
      "\n",
      "\n",
      "The following objects are masked from ‘package:base’:\n",
      "\n",
      "    expand.grid, I, unname\n",
      "\n",
      "\n",
      "Loading required package: IRanges\n",
      "\n",
      "\n",
      "Attaching package: ‘IRanges’\n",
      "\n",
      "\n",
      "The following object is masked from ‘package:data.table’:\n",
      "\n",
      "    shift\n",
      "\n",
      "\n",
      "Loading required package: GenomeInfoDb\n",
      "\n",
      "Loading required package: SummarizedExperiment\n",
      "\n",
      "Loading required package: MatrixGenerics\n",
      "\n",
      "Loading required package: matrixStats\n",
      "\n",
      "\n",
      "Attaching package: ‘MatrixGenerics’\n",
      "\n",
      "\n",
      "The following objects are masked from ‘package:matrixStats’:\n",
      "\n",
      "    colAlls, colAnyNAs, colAnys, colAvgsPerRowSet, colCollapse,\n",
      "    colCounts, colCummaxs, colCummins, colCumprods, colCumsums,\n",
      "    colDiffs, colIQRDiffs, colIQRs, colLogSumExps, colMadDiffs,\n",
      "    colMads, colMaxs, colMeans2, colMedians, colMins, colOrderStats,\n",
      "    colProds, colQuantiles, colRanges, colRanks, colSdDiffs, colSds,\n",
      "    colSums2, colTabulates, colVarDiffs, colVars, colWeightedMads,\n",
      "    colWeightedMeans, colWeightedMedians, colWeightedSds,\n",
      "    colWeightedVars, rowAlls, rowAnyNAs, rowAnys, rowAvgsPerColSet,\n",
      "    rowCollapse, rowCounts, rowCummaxs, rowCummins, rowCumprods,\n",
      "    rowCumsums, rowDiffs, rowIQRDiffs, rowIQRs, rowLogSumExps,\n",
      "    rowMadDiffs, rowMads, rowMaxs, rowMeans2, rowMedians, rowMins,\n",
      "    rowOrderStats, rowProds, rowQuantiles, rowRanges, rowRanks,\n",
      "    rowSdDiffs, rowSds, rowSums2, rowTabulates, rowVarDiffs, rowVars,\n",
      "    rowWeightedMads, rowWeightedMeans, rowWeightedMedians,\n",
      "    rowWeightedSds, rowWeightedVars\n",
      "\n",
      "\n",
      "Loading required package: Biobase\n",
      "\n",
      "Welcome to Bioconductor\n",
      "\n",
      "    Vignettes contain introductory material; view with\n",
      "    'browseVignettes()'. To cite Bioconductor, see\n",
      "    'citation(\"Biobase\")', and for packages 'citation(\"pkgname\")'.\n",
      "\n",
      "\n",
      "\n",
      "Attaching package: ‘Biobase’\n",
      "\n",
      "\n",
      "The following object is masked from ‘package:MatrixGenerics’:\n",
      "\n",
      "    rowMedians\n",
      "\n",
      "\n",
      "The following objects are masked from ‘package:matrixStats’:\n",
      "\n",
      "    anyMissing, rowMedians\n",
      "\n",
      "\n"
     ]
    }
   ],
   "source": [
    "suppressWarnings(library(bsseq))"
   ]
  },
  {
   "cell_type": "code",
   "execution_count": 10,
   "id": "8a871cb8-d71d-4f62-8d5e-70b79bb1c1c8",
   "metadata": {},
   "outputs": [],
   "source": [
    "# load data for mwas\n",
    "# load(\"./rda/caudate_mwas_data_chr22.rda\")\n",
    "load(df$methylation_data[i])\n",
    "\n",
    "p <- getMeth(BSobj2)\n",
    "\n",
    "\n",
    "rownames(p) <- start(BSobj2)\n",
    "\n",
    "sites_to_test_pos <- c(73274305, 73274312, 73292330, 73307769, 73308571, 73419188, 73419830, 73420076)\n",
    "sites_to_test <- which(start(BSobj2) %in% sites_to_test_pos)\n",
    "#sites_to_test <- c(73274305, 73274312, 73292330, 73307769, 73308571, 73419188, 73419830, 73420076)\n",
    "p <- p[sites_to_test, ]\n",
    "cg <- as.numeric(rownames(p))"
   ]
  },
  {
   "cell_type": "markdown",
   "id": "6063581e-a107-4977-93d7-836f1da57078",
   "metadata": {},
   "source": [
    "### covariates"
   ]
  },
  {
   "cell_type": "code",
   "execution_count": 11,
   "id": "cc499656-ec9a-45cd-ad05-b17e957eaaa6",
   "metadata": {},
   "outputs": [],
   "source": [
    "covs <- fread(df$cov_file[i])\n",
    "covs <- t(covs)\n",
    "colnames(covs) <- covs[1, ]\n",
    "covs <- covs[2:nrow(covs), ]\n",
    "# transpose so we have same orientation as original code"
   ]
  },
  {
   "cell_type": "markdown",
   "id": "72219907-d534-4523-a369-853077888b38",
   "metadata": {},
   "source": [
    "### Regress methylation data over covariates"
   ]
  },
  {
   "cell_type": "code",
   "execution_count": 12,
   "id": "85527835-9e3f-4ba9-a645-5330564e0b7c",
   "metadata": {},
   "outputs": [],
   "source": [
    "BSobj2$brnum <- gsub(\"Br0\", \"Br\", BSobj2$brnum)\n",
    "colnames(covs) <- gsub(\"Br0\", \"Br\", colnames(covs))"
   ]
  },
  {
   "cell_type": "code",
   "execution_count": 13,
   "id": "8899261b-73fb-430e-bcdb-143fc8f04670",
   "metadata": {},
   "outputs": [],
   "source": [
    "mat <- match(BSobj2$brnum,colnames(covs)) \n",
    "covs <- t(covs[,mat])\n",
    "p.residual=matrix(NA,dim(p)[1],dim(p)[2])"
   ]
  },
  {
   "cell_type": "code",
   "execution_count": 14,
   "id": "35031e54-4c54-4a37-9997-99b57efa86bf",
   "metadata": {},
   "outputs": [],
   "source": [
    "rownames(covs)[is.na(covs[, 'genoPC1'])] <- BSobj2$brnum[is.na(covs[, 'genoPC1'])]"
   ]
  },
  {
   "cell_type": "code",
   "execution_count": 15,
   "id": "70bda030-7a89-4dff-8c61-f576badfd8bd",
   "metadata": {},
   "outputs": [],
   "source": [
    "colnames(p.residual) <- BSobj2$brnum"
   ]
  },
  {
   "cell_type": "code",
   "execution_count": 16,
   "id": "78ee80f1-d9ea-46b0-b37a-dfeed3dbdf97",
   "metadata": {},
   "outputs": [],
   "source": [
    "covs <- as.data.frame(covs)\n",
    "# Convert all columns except Dx and Sex from character to numeric\n",
    "cols_to_convert <- setdiff(names(covs), c(\"Dx\", \"Sex\"))\n",
    "\n",
    "for (col in cols_to_convert) {\n",
    "  covs[[col]] <- as.numeric(covs[[col]])\n",
    "}\n",
    "\n",
    "# Print the modified data frame to check the conversion\n",
    "#print(dat)\n"
   ]
  },
  {
   "cell_type": "code",
   "execution_count": 17,
   "id": "db709d51-494c-431c-8327-9348dbf0419c",
   "metadata": {},
   "outputs": [],
   "source": [
    "for (i in 1:dim(p)[1]) { # For each methylation site\n",
    "    dat <- as.data.frame(cbind(y = p[i,], covs))\n",
    "    \n",
    "    # Check for rows with NAs (the ones for which we don't have covariate data)\n",
    "    valid_rows <- complete.cases(dat)\n",
    "    \n",
    "    if (sum(valid_rows) > 0) {\n",
    "        dat_valid <- dat[valid_rows,]\n",
    "        model.res <- lm(y ~ ., data = dat_valid)\n",
    "        \n",
    "        # Store residuals in the corresponding positions\n",
    "        p.residual[i, valid_rows] <- resid(model.res)\n",
    "    }\n",
    "}\n",
    "\n",
    "\n",
    "# for(i in 1:dim(p)[1]){ # foro each methylation site\n",
    "#         dat <- as.data.frame(cbind(p[i,],covs))\n",
    "#         colnames(dat) <- c(\"y\",paste0(\"x\",1:ncol(covs)))\n",
    "#         model.res <- lm(reformulate(paste0(\"x\",1:ncol(covs)), \"y\"),dat)\n",
    "#         p.residual[i,] = resid(model.res) \n",
    "# }"
   ]
  },
  {
   "cell_type": "code",
   "execution_count": null,
   "id": "4f866dd6-16c6-4803-9c21-c70e4b931e66",
   "metadata": {},
   "outputs": [],
   "source": []
  },
  {
   "cell_type": "code",
   "execution_count": 18,
   "id": "f4ad72db-fe27-4676-8da6-46222519a095",
   "metadata": {},
   "outputs": [],
   "source": [
    "snp.gwas2 <- NULL"
   ]
  },
  {
   "cell_type": "code",
   "execution_count": 2,
   "id": "744fc147-2638-4935-a805-68cb51852dd7",
   "metadata": {},
   "outputs": [
    {
     "name": "stdout",
     "output_type": "stream",
     "text": [
      "Loading objects:\n",
      "  snp.gwas2\n",
      "  snp.1kg.eur2\n",
      "  map.1kg.eur2\n",
      "  snp2\n",
      "  map2\n",
      "  p\n",
      "  BSsample\n"
     ]
    }
   ],
   "source": [
    "load(\"p1.rda\", verbose = TRUE)"
   ]
  },
  {
   "cell_type": "code",
   "execution_count": 5,
   "id": "fbc7c163-274b-4e9d-a37d-adb0c85d46c2",
   "metadata": {},
   "outputs": [],
   "source": [
    "load(\"covs_for_meqtl.rda\")"
   ]
  },
  {
   "cell_type": "code",
   "execution_count": 6,
   "id": "6f2df432-c986-4359-a96e-17d4a9e77e91",
   "metadata": {},
   "outputs": [
    {
     "data": {
      "text/html": [
       "<table class=\"dataframe\">\n",
       "<caption>A matrix: 33 × 308 of type dbl</caption>\n",
       "<thead>\n",
       "\t<tr><th></th><th scope=col>Br1122</th><th scope=col>Br2285</th><th scope=col>Br1764</th><th scope=col>Br1464</th><th scope=col>Br5062</th><th scope=col>Br1446</th><th scope=col>Br1503</th><th scope=col>Br1946</th><th scope=col>Br5323</th><th scope=col>Br1297</th><th scope=col>⋯</th><th scope=col>Br1941</th><th scope=col>Br1039</th><th scope=col>Br1459</th><th scope=col>Br1069</th><th scope=col>Br1380</th><th scope=col>Br5212</th><th scope=col>Br1590</th><th scope=col>Br1314</th><th scope=col>Br5422</th><th scope=col>Br1265</th></tr>\n",
       "</thead>\n",
       "<tbody>\n",
       "\t<tr><th scope=row>mds$snpPC1</th><td>  0.05336220</td><td> -0.061529300</td><td> -0.060146400</td><td>  0.055570600</td><td> -0.06258930</td><td> -0.060679900</td><td>  0.03232570</td><td> -0.062316000</td><td>  0.04505070</td><td>  0.03074970</td><td>⋯</td><td>  0.03338870</td><td>  0.037958300</td><td>  0.06131110</td><td> 7.089250e-02</td><td>-6.290920e-02</td><td> -0.063099900</td><td>  0.07269830</td><td>  0.04520430</td><td> -0.063880800</td><td>  0.066528900</td></tr>\n",
       "\t<tr><th scope=row>mds$snpPC2</th><td> -0.00493535</td><td> -0.007748360</td><td> -0.005592440</td><td> -0.003211120</td><td>  0.02361260</td><td> -0.005420770</td><td> -0.00725822</td><td> -0.008141190</td><td>  0.03099780</td><td> -0.00202406</td><td>⋯</td><td> -0.00546016</td><td> -0.003337430</td><td> -0.00360097</td><td>-2.344500e-03</td><td>-7.060960e-03</td><td>  0.023121800</td><td> -0.00102199</td><td> -0.00571073</td><td> -0.005758700</td><td> -0.002056290</td></tr>\n",
       "\t<tr><th scope=row>mds$snpPC3</th><td>  0.00324252</td><td>  0.002632680</td><td>  0.000477782</td><td>  0.003123790</td><td> -0.00073594</td><td> -0.000522544</td><td>  0.00141074</td><td>  0.002803310</td><td>  0.00180414</td><td> -0.00366815</td><td>⋯</td><td> -0.00145050</td><td>  0.000287557</td><td>  0.00250648</td><td>-2.983330e-03</td><td> 5.444890e-05</td><td> -0.001428790</td><td>  0.00217143</td><td>  0.00150678</td><td> -0.016621700</td><td>  0.003693140</td></tr>\n",
       "\t<tr><th scope=row>mds$snpPC4</th><td> -0.00248045</td><td> -0.000332221</td><td> -0.001155650</td><td>  0.000378073</td><td> -0.00195798</td><td> -0.003833690</td><td>  0.00466118</td><td> -0.001357160</td><td> -0.00556010</td><td>  0.00839171</td><td>⋯</td><td> -0.00397426</td><td>  0.007310740</td><td> -0.00697688</td><td> 1.261240e-03</td><td> 2.150870e-03</td><td> -0.000968091</td><td>  0.00373419</td><td>  0.00338605</td><td> -0.000245543</td><td> -0.000427764</td></tr>\n",
       "\t<tr><th scope=row>mds$snpPC5</th><td> -0.00156466</td><td> -0.004430670</td><td> -0.003881360</td><td> -0.001534850</td><td> -0.00334107</td><td>  0.002002600</td><td> -0.00169547</td><td> -0.000623057</td><td> -0.00253161</td><td>  0.00873754</td><td>⋯</td><td> -0.00513461</td><td> -0.000797029</td><td> -0.00459006</td><td>-6.180510e-05</td><td>-8.387620e-04</td><td> -0.003100600</td><td>  0.00393012</td><td> -0.00375567</td><td> -0.001296920</td><td> -0.002908830</td></tr>\n",
       "\t<tr><th scope=row>PC1</th><td>-28.66256825</td><td>  7.868488802</td><td> -7.209887758</td><td>-15.887979249</td><td> 21.93632482</td><td> 41.136000943</td><td> 14.27669977</td><td>  9.834270072</td><td> -7.72586062</td><td> -7.95761522</td><td>⋯</td><td> -4.72030312</td><td>  1.653789634</td><td> 15.99254446</td><td>-1.629044e+01</td><td> 9.486887e+01</td><td>  8.426131827</td><td> 14.70553830</td><td> -1.29434724</td><td> 21.812669817</td><td>  0.882591603</td></tr>\n",
       "\t<tr><th scope=row>PC2</th><td> 14.19782612</td><td>  6.519323087</td><td> 17.143397186</td><td>-27.271630718</td><td> 11.65009982</td><td>  7.668122829</td><td> -0.46193912</td><td>  2.906308487</td><td> -9.10477819</td><td> -6.13711766</td><td>⋯</td><td> -7.91816381</td><td>-17.578415211</td><td>-29.34970759</td><td>-3.156348e+01</td><td> 3.042554e+01</td><td>  8.213950807</td><td>-37.59716504</td><td>-34.36552134</td><td>  6.579365097</td><td>-23.215706816</td></tr>\n",
       "\t<tr><th scope=row>PC3</th><td> -1.37464102</td><td> 25.379743904</td><td> 18.170360672</td><td>-11.113778879</td><td>  8.13739916</td><td>  8.333769257</td><td>-12.18818346</td><td> 17.536432056</td><td>-17.22189160</td><td>  9.92162074</td><td>⋯</td><td>  2.07323216</td><td>  2.306459963</td><td>-25.07862443</td><td>-2.832538e-01</td><td>-2.311018e+01</td><td> 13.056706592</td><td> -6.70515753</td><td> -6.93759412</td><td>-17.626167307</td><td> -9.876449590</td></tr>\n",
       "\t<tr><th scope=row>PC4</th><td> 31.37032226</td><td>  3.596101024</td><td> -2.863536438</td><td>-15.752138188</td><td>-13.96019676</td><td> -6.673113724</td><td>  1.76703918</td><td> -8.177214421</td><td>  7.66197155</td><td> -1.59320548</td><td>⋯</td><td>  9.28508418</td><td>  5.484807111</td><td>-17.98829584</td><td>-1.352409e+00</td><td> 6.125502e+00</td><td>-14.462367737</td><td>-12.88639231</td><td>-13.76001744</td><td>-18.698139632</td><td> -8.815399409</td></tr>\n",
       "\t<tr><th scope=row>PC5</th><td> 10.59932060</td><td> 12.190328729</td><td>  1.119478968</td><td>  6.550066693</td><td>-10.98082946</td><td>  1.862815957</td><td>-19.75333294</td><td> -8.113174838</td><td> -1.10652397</td><td>-16.47148545</td><td>⋯</td><td>-10.48876760</td><td>  7.219989930</td><td>-10.49657094</td><td>-4.084115e+00</td><td> 1.046632e+01</td><td> -1.327572369</td><td>  6.70568730</td><td>-11.12836465</td><td>-14.257332372</td><td>  2.220624280</td></tr>\n",
       "\t<tr><th scope=row>PC6</th><td>-25.16507564</td><td> -5.490247073</td><td> -3.523740717</td><td> 11.607900451</td><td>  1.34737733</td><td>  6.615777190</td><td>  8.65754077</td><td>  6.414294001</td><td> 16.25577624</td><td> -0.52559572</td><td>⋯</td><td>  0.44823249</td><td> 20.529919262</td><td> -5.39624591</td><td> 2.017665e+01</td><td> 2.303821e+00</td><td>  9.545469017</td><td>-24.18273789</td><td> -6.29086866</td><td> -3.589116726</td><td> 19.235545861</td></tr>\n",
       "\t<tr><th scope=row>PC7</th><td> 13.67472447</td><td> 14.103422961</td><td>  4.279992628</td><td> -4.668478718</td><td>  2.53955165</td><td> -5.962878675</td><td>  0.09700267</td><td>  2.351633095</td><td> -0.94204880</td><td>-21.34184693</td><td>⋯</td><td> 10.64768409</td><td> -1.779245451</td><td> 19.30265146</td><td>-1.159513e+00</td><td> 1.312846e+01</td><td> -9.130926382</td><td> -2.75927335</td><td> -1.25486454</td><td> 36.080228516</td><td> -5.953225442</td></tr>\n",
       "\t<tr><th scope=row>PC8</th><td>-21.79844405</td><td>-19.439693212</td><td>-10.930906907</td><td>-27.547838072</td><td> -2.51177389</td><td>-11.403889029</td><td>  8.56676625</td><td> -0.253356581</td><td> -5.51509188</td><td>-11.76180316</td><td>⋯</td><td>-12.52407365</td><td>-19.891327998</td><td>-19.38992484</td><td> 1.061693e+01</td><td>-9.906969e+00</td><td>-13.247636188</td><td> -2.03832568</td><td> -0.85814271</td><td>-22.955130208</td><td> -1.315185318</td></tr>\n",
       "\t<tr><th scope=row>PC9</th><td>  6.35563951</td><td>  0.600841684</td><td> 12.743843487</td><td> 19.826766137</td><td> 16.39895043</td><td>  9.753352382</td><td>-11.03773311</td><td> -9.938797490</td><td> -7.61713928</td><td>  3.47442616</td><td>⋯</td><td>  0.27179295</td><td> -7.645342636</td><td> 10.06871401</td><td>-9.916917e+00</td><td>-1.072245e+01</td><td> -7.214808483</td><td>  2.70711090</td><td>  2.53421518</td><td> 16.464738259</td><td> 16.106385886</td></tr>\n",
       "\t<tr><th scope=row>PC10</th><td> -2.06303381</td><td>  0.682607272</td><td>  6.679367874</td><td>-18.069473088</td><td>  4.79010819</td><td> 11.464090377</td><td> -2.31334446</td><td>-20.619307414</td><td>-17.86411810</td><td>-18.08101486</td><td>⋯</td><td> -1.96533283</td><td> 11.269876224</td><td> -2.03448079</td><td>-1.614582e+01</td><td> 3.704058e-01</td><td> -2.522259798</td><td> -0.25716350</td><td> 10.04785536</td><td>  9.911230366</td><td>  5.417537705</td></tr>\n",
       "\t<tr><th scope=row>PC11</th><td> 22.03120094</td><td> -3.551877673</td><td>  8.448863345</td><td>  3.895965741</td><td>  7.39188230</td><td> 12.098670174</td><td> 15.65666849</td><td>  1.319465455</td><td> -0.67405847</td><td>  6.16403595</td><td>⋯</td><td>  2.30959746</td><td> -8.992572624</td><td> -9.52762936</td><td>-1.225936e-01</td><td> 1.644967e+01</td><td>  5.743267594</td><td>  9.87938048</td><td> -0.34070674</td><td> -2.579993292</td><td>-10.720583139</td></tr>\n",
       "\t<tr><th scope=row>PC12</th><td> -7.32035802</td><td> -2.692319964</td><td>  8.594563756</td><td> -9.457383171</td><td> -0.15682372</td><td> -0.598854469</td><td> 14.07052188</td><td>  8.207348812</td><td>  0.49067128</td><td> -1.92879806</td><td>⋯</td><td>  3.95939554</td><td>  9.610921859</td><td> -5.90211621</td><td> 1.868030e+00</td><td> 4.035129e-02</td><td>  0.762329567</td><td> -1.78757346</td><td> 15.51585602</td><td> -5.740093767</td><td>-12.551861514</td></tr>\n",
       "\t<tr><th scope=row>PC13</th><td>  5.21897081</td><td>-16.556782283</td><td> -7.882095302</td><td>  0.995618048</td><td>  3.24502976</td><td>  1.175467157</td><td>  1.72165677</td><td>  6.863448476</td><td> -5.89610079</td><td>  5.49285182</td><td>⋯</td><td> -7.68212693</td><td> -8.313346769</td><td> 18.80549712</td><td>-2.922351e+00</td><td>-1.174669e+01</td><td>  5.050286141</td><td> -8.21700971</td><td>  8.90642740</td><td>  3.450624944</td><td> 12.268829067</td></tr>\n",
       "\t<tr><th scope=row>PC14</th><td> -4.03955173</td><td>  5.960108314</td><td> 15.009996849</td><td>  3.667774270</td><td>  2.65769377</td><td> -4.744138774</td><td> -5.10638810</td><td>-14.190769104</td><td>-11.08279638</td><td>-10.39488267</td><td>⋯</td><td>  2.67083138</td><td>  6.707286851</td><td> 21.60698397</td><td> 6.412670e+00</td><td> 4.065842e+00</td><td>  5.686618516</td><td> -3.86180376</td><td>  4.38136842</td><td>-12.120724874</td><td> -8.204358386</td></tr>\n",
       "\t<tr><th scope=row>PC15</th><td> 11.77055857</td><td>  3.044414363</td><td> 13.049221216</td><td> -4.545679475</td><td>  1.71374468</td><td>  4.326582385</td><td> -4.19194112</td><td>  5.181480791</td><td> -8.75927517</td><td>  0.63693312</td><td>⋯</td><td> -0.94954758</td><td> -8.062061219</td><td>  3.34947828</td><td>-6.716785e+00</td><td> 4.799864e+00</td><td> -4.128319834</td><td> 11.13105912</td><td>-24.73645810</td><td>-13.948850164</td><td>  8.405044355</td></tr>\n",
       "\t<tr><th scope=row>PC16</th><td> 11.78283492</td><td> -6.238862907</td><td> -3.746955911</td><td> -0.521236298</td><td>-15.54133394</td><td>  7.512100439</td><td> -7.51700055</td><td> -4.860429986</td><td>  3.51689570</td><td> -1.94042508</td><td>⋯</td><td> 11.00666112</td><td> 10.105431563</td><td> 14.61658327</td><td> 7.296174e+00</td><td> 3.284105e+01</td><td> -5.306848215</td><td> -3.82311797</td><td> -8.78213683</td><td> -4.394633458</td><td>  3.383619495</td></tr>\n",
       "\t<tr><th scope=row>PC17</th><td> -1.93508813</td><td>-14.855354617</td><td> -1.812896744</td><td> -2.853396636</td><td> -3.54464568</td><td>  9.637065282</td><td> -4.11076989</td><td> 11.501152658</td><td> -6.08570637</td><td>  2.26521866</td><td>⋯</td><td> -3.97445340</td><td> -7.972264467</td><td> -7.06599885</td><td>-1.979047e+01</td><td> 1.097433e+01</td><td>-12.714050995</td><td>  1.16201023</td><td>-16.63607133</td><td> -0.278440909</td><td>-19.808151981</td></tr>\n",
       "\t<tr><th scope=row>PC18</th><td> 11.01135579</td><td> -3.073787996</td><td> -6.092412058</td><td> -1.358805703</td><td> -8.54269685</td><td> -9.812436917</td><td> -2.75134631</td><td> 14.309628969</td><td> -6.96693872</td><td> -8.36189198</td><td>⋯</td><td> 15.41382343</td><td>  1.065192959</td><td>  6.95240142</td><td>-6.408090e+00</td><td> 9.501401e+00</td><td>  1.695538887</td><td> 19.10305690</td><td> 14.79972180</td><td> 13.237530429</td><td> -6.914725375</td></tr>\n",
       "\t<tr><th scope=row>PC19</th><td> -6.18812302</td><td>  3.897745378</td><td>-10.379832383</td><td>  7.977551003</td><td>  5.58471510</td><td>-11.593362128</td><td> 16.55255815</td><td>  3.365460802</td><td>  4.42954202</td><td> 16.73296544</td><td>⋯</td><td>  6.87910504</td><td>  2.833199883</td><td>-13.60668813</td><td>-8.936445e+00</td><td>-1.169804e+00</td><td>-16.705935079</td><td> -7.65339323</td><td>  1.93909719</td><td>  0.580599792</td><td> -7.985092600</td></tr>\n",
       "\t<tr><th scope=row>PC20</th><td>  5.06648098</td><td>-11.184795081</td><td>  6.763647881</td><td> 13.249211844</td><td> -5.24164584</td><td> -9.878328031</td><td>-18.88634833</td><td> -9.909220394</td><td> -9.16555287</td><td> 13.32920363</td><td>⋯</td><td> 10.30032441</td><td>  8.783025055</td><td>-19.14498385</td><td> 3.458647e+00</td><td> 3.441258e+00</td><td>  0.243087779</td><td> -1.11581637</td><td> -1.61822581</td><td> 11.169377066</td><td> 12.168290238</td></tr>\n",
       "\t<tr><th scope=row>PC21</th><td> -7.59374151</td><td>  4.910410760</td><td> -2.738643294</td><td> -7.630135681</td><td> -6.83911082</td><td>  5.129886275</td><td>-15.13213339</td><td> 12.203153431</td><td>-11.21752020</td><td>  0.01669831</td><td>⋯</td><td>-12.20434132</td><td>  3.262864114</td><td>-17.88171235</td><td>-2.205702e+01</td><td> 1.319029e+01</td><td>  3.176113087</td><td>-14.17337402</td><td>  4.65117468</td><td> 12.266363364</td><td> -0.359632516</td></tr>\n",
       "\t<tr><th scope=row>PC22</th><td> 14.76261842</td><td> -5.737296611</td><td> -9.204380694</td><td> -9.933193135</td><td>  2.96835178</td><td> -1.385504567</td><td> -6.90364228</td><td>  6.052534897</td><td>  5.37009336</td><td>  3.72885914</td><td>⋯</td><td>  8.12629632</td><td> -8.240785369</td><td>-13.99395390</td><td>-6.070233e+00</td><td> 5.051686e+00</td><td>  8.483536868</td><td>  6.27832263</td><td>  2.99027038</td><td> 11.403762575</td><td>  2.453815530</td></tr>\n",
       "\t<tr><th scope=row>PC23</th><td> -0.99930304</td><td> 13.716783113</td><td>  5.927247768</td><td>  1.287398698</td><td>-13.82143628</td><td>  8.704720607</td><td> -8.05310785</td><td> 11.778392313</td><td>  9.39040958</td><td>  3.39815977</td><td>⋯</td><td> -8.99960132</td><td>-16.147946138</td><td>-14.13120494</td><td> 1.583712e+00</td><td> 1.145168e+01</td><td> -4.055982441</td><td> 24.53570818</td><td> 13.74939820</td><td> 11.504351385</td><td>-16.851117500</td></tr>\n",
       "\t<tr><th scope=row>PC24</th><td>  7.78485603</td><td>-11.824778785</td><td> 11.778903161</td><td> -3.231867470</td><td>  9.72388334</td><td>  6.655869988</td><td>-17.26727022</td><td> -0.250096922</td><td>  2.14266301</td><td>  3.12123024</td><td>⋯</td><td>-11.02286409</td><td>  3.914651518</td><td>  9.08830977</td><td> 4.956014e+00</td><td> 8.552006e+00</td><td>-16.951104020</td><td>  4.73505828</td><td>  5.29926780</td><td>  7.438615838</td><td> 14.656789024</td></tr>\n",
       "\t<tr><th scope=row>PC25</th><td> -6.75036091</td><td>  6.780192048</td><td> 16.207965637</td><td>-28.763070225</td><td>  5.31346565</td><td>  3.770619246</td><td>  3.93507942</td><td> -6.080551750</td><td>  4.72841151</td><td>  9.06578292</td><td>⋯</td><td>  8.89262953</td><td>  0.401664033</td><td> 26.43015728</td><td>-7.328563e+00</td><td>-2.725216e+00</td><td>-17.025816837</td><td> -7.66391029</td><td> -8.19341947</td><td>  8.622123503</td><td> -3.916574753</td></tr>\n",
       "\t<tr><th scope=row>PC26</th><td>  0.68195530</td><td>  3.239014105</td><td> -8.373359705</td><td> -6.136629178</td><td> -3.63085808</td><td>  3.551931557</td><td> -9.73571701</td><td>  2.233079922</td><td> -8.15681333</td><td>  1.93717078</td><td>⋯</td><td>  6.93479150</td><td> 12.143271818</td><td>  5.87140599</td><td>-4.112257e+00</td><td> 9.900447e+00</td><td> 13.159133358</td><td>-15.65213923</td><td>-24.98290528</td><td>  0.972666331</td><td>  8.122854091</td></tr>\n",
       "\t<tr><th scope=row>PC27</th><td> -4.06782923</td><td>  4.800311008</td><td>  2.676408232</td><td> 23.160872485</td><td>  1.55483908</td><td>  1.804098566</td><td> -6.17372585</td><td> -4.433766018</td><td> 15.82663175</td><td>-12.96390388</td><td>⋯</td><td>-14.17906299</td><td> -1.769282169</td><td> 13.59967867</td><td>-5.536066e+00</td><td>-7.114244e+00</td><td>-17.185654296</td><td>-10.28111503</td><td> -0.54268480</td><td>-10.279179042</td><td> -0.408812201</td></tr>\n",
       "\t<tr><th scope=row>PC28</th><td>  6.03997968</td><td> -2.249324653</td><td> -4.932415933</td><td>  6.321839331</td><td> -5.66089097</td><td> -0.480572119</td><td> -9.29598091</td><td>  3.156314338</td><td>  1.25181073</td><td> -0.03820176</td><td>⋯</td><td>  9.35471103</td><td>-11.722368967</td><td> 30.06469429</td><td> 7.815884e+00</td><td> 1.597064e+01</td><td>  8.687896608</td><td>-12.04248543</td><td>  8.22254473</td><td> -0.826614261</td><td>-10.097604923</td></tr>\n",
       "</tbody>\n",
       "</table>\n"
      ],
      "text/latex": [
       "A matrix: 33 × 308 of type dbl\n",
       "\\begin{tabular}{r|lllllllllllllllllllll}\n",
       "  & Br1122 & Br2285 & Br1764 & Br1464 & Br5062 & Br1446 & Br1503 & Br1946 & Br5323 & Br1297 & ⋯ & Br1941 & Br1039 & Br1459 & Br1069 & Br1380 & Br5212 & Br1590 & Br1314 & Br5422 & Br1265\\\\\n",
       "\\hline\n",
       "\tmds\\$snpPC1 &   0.05336220 &  -0.061529300 &  -0.060146400 &   0.055570600 &  -0.06258930 &  -0.060679900 &   0.03232570 &  -0.062316000 &   0.04505070 &   0.03074970 & ⋯ &   0.03338870 &   0.037958300 &   0.06131110 &  7.089250e-02 & -6.290920e-02 &  -0.063099900 &   0.07269830 &   0.04520430 &  -0.063880800 &   0.066528900\\\\\n",
       "\tmds\\$snpPC2 &  -0.00493535 &  -0.007748360 &  -0.005592440 &  -0.003211120 &   0.02361260 &  -0.005420770 &  -0.00725822 &  -0.008141190 &   0.03099780 &  -0.00202406 & ⋯ &  -0.00546016 &  -0.003337430 &  -0.00360097 & -2.344500e-03 & -7.060960e-03 &   0.023121800 &  -0.00102199 &  -0.00571073 &  -0.005758700 &  -0.002056290\\\\\n",
       "\tmds\\$snpPC3 &   0.00324252 &   0.002632680 &   0.000477782 &   0.003123790 &  -0.00073594 &  -0.000522544 &   0.00141074 &   0.002803310 &   0.00180414 &  -0.00366815 & ⋯ &  -0.00145050 &   0.000287557 &   0.00250648 & -2.983330e-03 &  5.444890e-05 &  -0.001428790 &   0.00217143 &   0.00150678 &  -0.016621700 &   0.003693140\\\\\n",
       "\tmds\\$snpPC4 &  -0.00248045 &  -0.000332221 &  -0.001155650 &   0.000378073 &  -0.00195798 &  -0.003833690 &   0.00466118 &  -0.001357160 &  -0.00556010 &   0.00839171 & ⋯ &  -0.00397426 &   0.007310740 &  -0.00697688 &  1.261240e-03 &  2.150870e-03 &  -0.000968091 &   0.00373419 &   0.00338605 &  -0.000245543 &  -0.000427764\\\\\n",
       "\tmds\\$snpPC5 &  -0.00156466 &  -0.004430670 &  -0.003881360 &  -0.001534850 &  -0.00334107 &   0.002002600 &  -0.00169547 &  -0.000623057 &  -0.00253161 &   0.00873754 & ⋯ &  -0.00513461 &  -0.000797029 &  -0.00459006 & -6.180510e-05 & -8.387620e-04 &  -0.003100600 &   0.00393012 &  -0.00375567 &  -0.001296920 &  -0.002908830\\\\\n",
       "\tPC1 & -28.66256825 &   7.868488802 &  -7.209887758 & -15.887979249 &  21.93632482 &  41.136000943 &  14.27669977 &   9.834270072 &  -7.72586062 &  -7.95761522 & ⋯ &  -4.72030312 &   1.653789634 &  15.99254446 & -1.629044e+01 &  9.486887e+01 &   8.426131827 &  14.70553830 &  -1.29434724 &  21.812669817 &   0.882591603\\\\\n",
       "\tPC2 &  14.19782612 &   6.519323087 &  17.143397186 & -27.271630718 &  11.65009982 &   7.668122829 &  -0.46193912 &   2.906308487 &  -9.10477819 &  -6.13711766 & ⋯ &  -7.91816381 & -17.578415211 & -29.34970759 & -3.156348e+01 &  3.042554e+01 &   8.213950807 & -37.59716504 & -34.36552134 &   6.579365097 & -23.215706816\\\\\n",
       "\tPC3 &  -1.37464102 &  25.379743904 &  18.170360672 & -11.113778879 &   8.13739916 &   8.333769257 & -12.18818346 &  17.536432056 & -17.22189160 &   9.92162074 & ⋯ &   2.07323216 &   2.306459963 & -25.07862443 & -2.832538e-01 & -2.311018e+01 &  13.056706592 &  -6.70515753 &  -6.93759412 & -17.626167307 &  -9.876449590\\\\\n",
       "\tPC4 &  31.37032226 &   3.596101024 &  -2.863536438 & -15.752138188 & -13.96019676 &  -6.673113724 &   1.76703918 &  -8.177214421 &   7.66197155 &  -1.59320548 & ⋯ &   9.28508418 &   5.484807111 & -17.98829584 & -1.352409e+00 &  6.125502e+00 & -14.462367737 & -12.88639231 & -13.76001744 & -18.698139632 &  -8.815399409\\\\\n",
       "\tPC5 &  10.59932060 &  12.190328729 &   1.119478968 &   6.550066693 & -10.98082946 &   1.862815957 & -19.75333294 &  -8.113174838 &  -1.10652397 & -16.47148545 & ⋯ & -10.48876760 &   7.219989930 & -10.49657094 & -4.084115e+00 &  1.046632e+01 &  -1.327572369 &   6.70568730 & -11.12836465 & -14.257332372 &   2.220624280\\\\\n",
       "\tPC6 & -25.16507564 &  -5.490247073 &  -3.523740717 &  11.607900451 &   1.34737733 &   6.615777190 &   8.65754077 &   6.414294001 &  16.25577624 &  -0.52559572 & ⋯ &   0.44823249 &  20.529919262 &  -5.39624591 &  2.017665e+01 &  2.303821e+00 &   9.545469017 & -24.18273789 &  -6.29086866 &  -3.589116726 &  19.235545861\\\\\n",
       "\tPC7 &  13.67472447 &  14.103422961 &   4.279992628 &  -4.668478718 &   2.53955165 &  -5.962878675 &   0.09700267 &   2.351633095 &  -0.94204880 & -21.34184693 & ⋯ &  10.64768409 &  -1.779245451 &  19.30265146 & -1.159513e+00 &  1.312846e+01 &  -9.130926382 &  -2.75927335 &  -1.25486454 &  36.080228516 &  -5.953225442\\\\\n",
       "\tPC8 & -21.79844405 & -19.439693212 & -10.930906907 & -27.547838072 &  -2.51177389 & -11.403889029 &   8.56676625 &  -0.253356581 &  -5.51509188 & -11.76180316 & ⋯ & -12.52407365 & -19.891327998 & -19.38992484 &  1.061693e+01 & -9.906969e+00 & -13.247636188 &  -2.03832568 &  -0.85814271 & -22.955130208 &  -1.315185318\\\\\n",
       "\tPC9 &   6.35563951 &   0.600841684 &  12.743843487 &  19.826766137 &  16.39895043 &   9.753352382 & -11.03773311 &  -9.938797490 &  -7.61713928 &   3.47442616 & ⋯ &   0.27179295 &  -7.645342636 &  10.06871401 & -9.916917e+00 & -1.072245e+01 &  -7.214808483 &   2.70711090 &   2.53421518 &  16.464738259 &  16.106385886\\\\\n",
       "\tPC10 &  -2.06303381 &   0.682607272 &   6.679367874 & -18.069473088 &   4.79010819 &  11.464090377 &  -2.31334446 & -20.619307414 & -17.86411810 & -18.08101486 & ⋯ &  -1.96533283 &  11.269876224 &  -2.03448079 & -1.614582e+01 &  3.704058e-01 &  -2.522259798 &  -0.25716350 &  10.04785536 &   9.911230366 &   5.417537705\\\\\n",
       "\tPC11 &  22.03120094 &  -3.551877673 &   8.448863345 &   3.895965741 &   7.39188230 &  12.098670174 &  15.65666849 &   1.319465455 &  -0.67405847 &   6.16403595 & ⋯ &   2.30959746 &  -8.992572624 &  -9.52762936 & -1.225936e-01 &  1.644967e+01 &   5.743267594 &   9.87938048 &  -0.34070674 &  -2.579993292 & -10.720583139\\\\\n",
       "\tPC12 &  -7.32035802 &  -2.692319964 &   8.594563756 &  -9.457383171 &  -0.15682372 &  -0.598854469 &  14.07052188 &   8.207348812 &   0.49067128 &  -1.92879806 & ⋯ &   3.95939554 &   9.610921859 &  -5.90211621 &  1.868030e+00 &  4.035129e-02 &   0.762329567 &  -1.78757346 &  15.51585602 &  -5.740093767 & -12.551861514\\\\\n",
       "\tPC13 &   5.21897081 & -16.556782283 &  -7.882095302 &   0.995618048 &   3.24502976 &   1.175467157 &   1.72165677 &   6.863448476 &  -5.89610079 &   5.49285182 & ⋯ &  -7.68212693 &  -8.313346769 &  18.80549712 & -2.922351e+00 & -1.174669e+01 &   5.050286141 &  -8.21700971 &   8.90642740 &   3.450624944 &  12.268829067\\\\\n",
       "\tPC14 &  -4.03955173 &   5.960108314 &  15.009996849 &   3.667774270 &   2.65769377 &  -4.744138774 &  -5.10638810 & -14.190769104 & -11.08279638 & -10.39488267 & ⋯ &   2.67083138 &   6.707286851 &  21.60698397 &  6.412670e+00 &  4.065842e+00 &   5.686618516 &  -3.86180376 &   4.38136842 & -12.120724874 &  -8.204358386\\\\\n",
       "\tPC15 &  11.77055857 &   3.044414363 &  13.049221216 &  -4.545679475 &   1.71374468 &   4.326582385 &  -4.19194112 &   5.181480791 &  -8.75927517 &   0.63693312 & ⋯ &  -0.94954758 &  -8.062061219 &   3.34947828 & -6.716785e+00 &  4.799864e+00 &  -4.128319834 &  11.13105912 & -24.73645810 & -13.948850164 &   8.405044355\\\\\n",
       "\tPC16 &  11.78283492 &  -6.238862907 &  -3.746955911 &  -0.521236298 & -15.54133394 &   7.512100439 &  -7.51700055 &  -4.860429986 &   3.51689570 &  -1.94042508 & ⋯ &  11.00666112 &  10.105431563 &  14.61658327 &  7.296174e+00 &  3.284105e+01 &  -5.306848215 &  -3.82311797 &  -8.78213683 &  -4.394633458 &   3.383619495\\\\\n",
       "\tPC17 &  -1.93508813 & -14.855354617 &  -1.812896744 &  -2.853396636 &  -3.54464568 &   9.637065282 &  -4.11076989 &  11.501152658 &  -6.08570637 &   2.26521866 & ⋯ &  -3.97445340 &  -7.972264467 &  -7.06599885 & -1.979047e+01 &  1.097433e+01 & -12.714050995 &   1.16201023 & -16.63607133 &  -0.278440909 & -19.808151981\\\\\n",
       "\tPC18 &  11.01135579 &  -3.073787996 &  -6.092412058 &  -1.358805703 &  -8.54269685 &  -9.812436917 &  -2.75134631 &  14.309628969 &  -6.96693872 &  -8.36189198 & ⋯ &  15.41382343 &   1.065192959 &   6.95240142 & -6.408090e+00 &  9.501401e+00 &   1.695538887 &  19.10305690 &  14.79972180 &  13.237530429 &  -6.914725375\\\\\n",
       "\tPC19 &  -6.18812302 &   3.897745378 & -10.379832383 &   7.977551003 &   5.58471510 & -11.593362128 &  16.55255815 &   3.365460802 &   4.42954202 &  16.73296544 & ⋯ &   6.87910504 &   2.833199883 & -13.60668813 & -8.936445e+00 & -1.169804e+00 & -16.705935079 &  -7.65339323 &   1.93909719 &   0.580599792 &  -7.985092600\\\\\n",
       "\tPC20 &   5.06648098 & -11.184795081 &   6.763647881 &  13.249211844 &  -5.24164584 &  -9.878328031 & -18.88634833 &  -9.909220394 &  -9.16555287 &  13.32920363 & ⋯ &  10.30032441 &   8.783025055 & -19.14498385 &  3.458647e+00 &  3.441258e+00 &   0.243087779 &  -1.11581637 &  -1.61822581 &  11.169377066 &  12.168290238\\\\\n",
       "\tPC21 &  -7.59374151 &   4.910410760 &  -2.738643294 &  -7.630135681 &  -6.83911082 &   5.129886275 & -15.13213339 &  12.203153431 & -11.21752020 &   0.01669831 & ⋯ & -12.20434132 &   3.262864114 & -17.88171235 & -2.205702e+01 &  1.319029e+01 &   3.176113087 & -14.17337402 &   4.65117468 &  12.266363364 &  -0.359632516\\\\\n",
       "\tPC22 &  14.76261842 &  -5.737296611 &  -9.204380694 &  -9.933193135 &   2.96835178 &  -1.385504567 &  -6.90364228 &   6.052534897 &   5.37009336 &   3.72885914 & ⋯ &   8.12629632 &  -8.240785369 & -13.99395390 & -6.070233e+00 &  5.051686e+00 &   8.483536868 &   6.27832263 &   2.99027038 &  11.403762575 &   2.453815530\\\\\n",
       "\tPC23 &  -0.99930304 &  13.716783113 &   5.927247768 &   1.287398698 & -13.82143628 &   8.704720607 &  -8.05310785 &  11.778392313 &   9.39040958 &   3.39815977 & ⋯ &  -8.99960132 & -16.147946138 & -14.13120494 &  1.583712e+00 &  1.145168e+01 &  -4.055982441 &  24.53570818 &  13.74939820 &  11.504351385 & -16.851117500\\\\\n",
       "\tPC24 &   7.78485603 & -11.824778785 &  11.778903161 &  -3.231867470 &   9.72388334 &   6.655869988 & -17.26727022 &  -0.250096922 &   2.14266301 &   3.12123024 & ⋯ & -11.02286409 &   3.914651518 &   9.08830977 &  4.956014e+00 &  8.552006e+00 & -16.951104020 &   4.73505828 &   5.29926780 &   7.438615838 &  14.656789024\\\\\n",
       "\tPC25 &  -6.75036091 &   6.780192048 &  16.207965637 & -28.763070225 &   5.31346565 &   3.770619246 &   3.93507942 &  -6.080551750 &   4.72841151 &   9.06578292 & ⋯ &   8.89262953 &   0.401664033 &  26.43015728 & -7.328563e+00 & -2.725216e+00 & -17.025816837 &  -7.66391029 &  -8.19341947 &   8.622123503 &  -3.916574753\\\\\n",
       "\tPC26 &   0.68195530 &   3.239014105 &  -8.373359705 &  -6.136629178 &  -3.63085808 &   3.551931557 &  -9.73571701 &   2.233079922 &  -8.15681333 &   1.93717078 & ⋯ &   6.93479150 &  12.143271818 &   5.87140599 & -4.112257e+00 &  9.900447e+00 &  13.159133358 & -15.65213923 & -24.98290528 &   0.972666331 &   8.122854091\\\\\n",
       "\tPC27 &  -4.06782923 &   4.800311008 &   2.676408232 &  23.160872485 &   1.55483908 &   1.804098566 &  -6.17372585 &  -4.433766018 &  15.82663175 & -12.96390388 & ⋯ & -14.17906299 &  -1.769282169 &  13.59967867 & -5.536066e+00 & -7.114244e+00 & -17.185654296 & -10.28111503 &  -0.54268480 & -10.279179042 &  -0.408812201\\\\\n",
       "\tPC28 &   6.03997968 &  -2.249324653 &  -4.932415933 &   6.321839331 &  -5.66089097 &  -0.480572119 &  -9.29598091 &   3.156314338 &   1.25181073 &  -0.03820176 & ⋯ &   9.35471103 & -11.722368967 &  30.06469429 &  7.815884e+00 &  1.597064e+01 &   8.687896608 & -12.04248543 &   8.22254473 &  -0.826614261 & -10.097604923\\\\\n",
       "\\end{tabular}\n"
      ],
      "text/markdown": [
       "\n",
       "A matrix: 33 × 308 of type dbl\n",
       "\n",
       "| <!--/--> | Br1122 | Br2285 | Br1764 | Br1464 | Br5062 | Br1446 | Br1503 | Br1946 | Br5323 | Br1297 | ⋯ | Br1941 | Br1039 | Br1459 | Br1069 | Br1380 | Br5212 | Br1590 | Br1314 | Br5422 | Br1265 |\n",
       "|---|---|---|---|---|---|---|---|---|---|---|---|---|---|---|---|---|---|---|---|---|---|\n",
       "| mds$snpPC1 |   0.05336220 |  -0.061529300 |  -0.060146400 |   0.055570600 |  -0.06258930 |  -0.060679900 |   0.03232570 |  -0.062316000 |   0.04505070 |   0.03074970 | ⋯ |   0.03338870 |   0.037958300 |   0.06131110 |  7.089250e-02 | -6.290920e-02 |  -0.063099900 |   0.07269830 |   0.04520430 |  -0.063880800 |   0.066528900 |\n",
       "| mds$snpPC2 |  -0.00493535 |  -0.007748360 |  -0.005592440 |  -0.003211120 |   0.02361260 |  -0.005420770 |  -0.00725822 |  -0.008141190 |   0.03099780 |  -0.00202406 | ⋯ |  -0.00546016 |  -0.003337430 |  -0.00360097 | -2.344500e-03 | -7.060960e-03 |   0.023121800 |  -0.00102199 |  -0.00571073 |  -0.005758700 |  -0.002056290 |\n",
       "| mds$snpPC3 |   0.00324252 |   0.002632680 |   0.000477782 |   0.003123790 |  -0.00073594 |  -0.000522544 |   0.00141074 |   0.002803310 |   0.00180414 |  -0.00366815 | ⋯ |  -0.00145050 |   0.000287557 |   0.00250648 | -2.983330e-03 |  5.444890e-05 |  -0.001428790 |   0.00217143 |   0.00150678 |  -0.016621700 |   0.003693140 |\n",
       "| mds$snpPC4 |  -0.00248045 |  -0.000332221 |  -0.001155650 |   0.000378073 |  -0.00195798 |  -0.003833690 |   0.00466118 |  -0.001357160 |  -0.00556010 |   0.00839171 | ⋯ |  -0.00397426 |   0.007310740 |  -0.00697688 |  1.261240e-03 |  2.150870e-03 |  -0.000968091 |   0.00373419 |   0.00338605 |  -0.000245543 |  -0.000427764 |\n",
       "| mds$snpPC5 |  -0.00156466 |  -0.004430670 |  -0.003881360 |  -0.001534850 |  -0.00334107 |   0.002002600 |  -0.00169547 |  -0.000623057 |  -0.00253161 |   0.00873754 | ⋯ |  -0.00513461 |  -0.000797029 |  -0.00459006 | -6.180510e-05 | -8.387620e-04 |  -0.003100600 |   0.00393012 |  -0.00375567 |  -0.001296920 |  -0.002908830 |\n",
       "| PC1 | -28.66256825 |   7.868488802 |  -7.209887758 | -15.887979249 |  21.93632482 |  41.136000943 |  14.27669977 |   9.834270072 |  -7.72586062 |  -7.95761522 | ⋯ |  -4.72030312 |   1.653789634 |  15.99254446 | -1.629044e+01 |  9.486887e+01 |   8.426131827 |  14.70553830 |  -1.29434724 |  21.812669817 |   0.882591603 |\n",
       "| PC2 |  14.19782612 |   6.519323087 |  17.143397186 | -27.271630718 |  11.65009982 |   7.668122829 |  -0.46193912 |   2.906308487 |  -9.10477819 |  -6.13711766 | ⋯ |  -7.91816381 | -17.578415211 | -29.34970759 | -3.156348e+01 |  3.042554e+01 |   8.213950807 | -37.59716504 | -34.36552134 |   6.579365097 | -23.215706816 |\n",
       "| PC3 |  -1.37464102 |  25.379743904 |  18.170360672 | -11.113778879 |   8.13739916 |   8.333769257 | -12.18818346 |  17.536432056 | -17.22189160 |   9.92162074 | ⋯ |   2.07323216 |   2.306459963 | -25.07862443 | -2.832538e-01 | -2.311018e+01 |  13.056706592 |  -6.70515753 |  -6.93759412 | -17.626167307 |  -9.876449590 |\n",
       "| PC4 |  31.37032226 |   3.596101024 |  -2.863536438 | -15.752138188 | -13.96019676 |  -6.673113724 |   1.76703918 |  -8.177214421 |   7.66197155 |  -1.59320548 | ⋯ |   9.28508418 |   5.484807111 | -17.98829584 | -1.352409e+00 |  6.125502e+00 | -14.462367737 | -12.88639231 | -13.76001744 | -18.698139632 |  -8.815399409 |\n",
       "| PC5 |  10.59932060 |  12.190328729 |   1.119478968 |   6.550066693 | -10.98082946 |   1.862815957 | -19.75333294 |  -8.113174838 |  -1.10652397 | -16.47148545 | ⋯ | -10.48876760 |   7.219989930 | -10.49657094 | -4.084115e+00 |  1.046632e+01 |  -1.327572369 |   6.70568730 | -11.12836465 | -14.257332372 |   2.220624280 |\n",
       "| PC6 | -25.16507564 |  -5.490247073 |  -3.523740717 |  11.607900451 |   1.34737733 |   6.615777190 |   8.65754077 |   6.414294001 |  16.25577624 |  -0.52559572 | ⋯ |   0.44823249 |  20.529919262 |  -5.39624591 |  2.017665e+01 |  2.303821e+00 |   9.545469017 | -24.18273789 |  -6.29086866 |  -3.589116726 |  19.235545861 |\n",
       "| PC7 |  13.67472447 |  14.103422961 |   4.279992628 |  -4.668478718 |   2.53955165 |  -5.962878675 |   0.09700267 |   2.351633095 |  -0.94204880 | -21.34184693 | ⋯ |  10.64768409 |  -1.779245451 |  19.30265146 | -1.159513e+00 |  1.312846e+01 |  -9.130926382 |  -2.75927335 |  -1.25486454 |  36.080228516 |  -5.953225442 |\n",
       "| PC8 | -21.79844405 | -19.439693212 | -10.930906907 | -27.547838072 |  -2.51177389 | -11.403889029 |   8.56676625 |  -0.253356581 |  -5.51509188 | -11.76180316 | ⋯ | -12.52407365 | -19.891327998 | -19.38992484 |  1.061693e+01 | -9.906969e+00 | -13.247636188 |  -2.03832568 |  -0.85814271 | -22.955130208 |  -1.315185318 |\n",
       "| PC9 |   6.35563951 |   0.600841684 |  12.743843487 |  19.826766137 |  16.39895043 |   9.753352382 | -11.03773311 |  -9.938797490 |  -7.61713928 |   3.47442616 | ⋯ |   0.27179295 |  -7.645342636 |  10.06871401 | -9.916917e+00 | -1.072245e+01 |  -7.214808483 |   2.70711090 |   2.53421518 |  16.464738259 |  16.106385886 |\n",
       "| PC10 |  -2.06303381 |   0.682607272 |   6.679367874 | -18.069473088 |   4.79010819 |  11.464090377 |  -2.31334446 | -20.619307414 | -17.86411810 | -18.08101486 | ⋯ |  -1.96533283 |  11.269876224 |  -2.03448079 | -1.614582e+01 |  3.704058e-01 |  -2.522259798 |  -0.25716350 |  10.04785536 |   9.911230366 |   5.417537705 |\n",
       "| PC11 |  22.03120094 |  -3.551877673 |   8.448863345 |   3.895965741 |   7.39188230 |  12.098670174 |  15.65666849 |   1.319465455 |  -0.67405847 |   6.16403595 | ⋯ |   2.30959746 |  -8.992572624 |  -9.52762936 | -1.225936e-01 |  1.644967e+01 |   5.743267594 |   9.87938048 |  -0.34070674 |  -2.579993292 | -10.720583139 |\n",
       "| PC12 |  -7.32035802 |  -2.692319964 |   8.594563756 |  -9.457383171 |  -0.15682372 |  -0.598854469 |  14.07052188 |   8.207348812 |   0.49067128 |  -1.92879806 | ⋯ |   3.95939554 |   9.610921859 |  -5.90211621 |  1.868030e+00 |  4.035129e-02 |   0.762329567 |  -1.78757346 |  15.51585602 |  -5.740093767 | -12.551861514 |\n",
       "| PC13 |   5.21897081 | -16.556782283 |  -7.882095302 |   0.995618048 |   3.24502976 |   1.175467157 |   1.72165677 |   6.863448476 |  -5.89610079 |   5.49285182 | ⋯ |  -7.68212693 |  -8.313346769 |  18.80549712 | -2.922351e+00 | -1.174669e+01 |   5.050286141 |  -8.21700971 |   8.90642740 |   3.450624944 |  12.268829067 |\n",
       "| PC14 |  -4.03955173 |   5.960108314 |  15.009996849 |   3.667774270 |   2.65769377 |  -4.744138774 |  -5.10638810 | -14.190769104 | -11.08279638 | -10.39488267 | ⋯ |   2.67083138 |   6.707286851 |  21.60698397 |  6.412670e+00 |  4.065842e+00 |   5.686618516 |  -3.86180376 |   4.38136842 | -12.120724874 |  -8.204358386 |\n",
       "| PC15 |  11.77055857 |   3.044414363 |  13.049221216 |  -4.545679475 |   1.71374468 |   4.326582385 |  -4.19194112 |   5.181480791 |  -8.75927517 |   0.63693312 | ⋯ |  -0.94954758 |  -8.062061219 |   3.34947828 | -6.716785e+00 |  4.799864e+00 |  -4.128319834 |  11.13105912 | -24.73645810 | -13.948850164 |   8.405044355 |\n",
       "| PC16 |  11.78283492 |  -6.238862907 |  -3.746955911 |  -0.521236298 | -15.54133394 |   7.512100439 |  -7.51700055 |  -4.860429986 |   3.51689570 |  -1.94042508 | ⋯ |  11.00666112 |  10.105431563 |  14.61658327 |  7.296174e+00 |  3.284105e+01 |  -5.306848215 |  -3.82311797 |  -8.78213683 |  -4.394633458 |   3.383619495 |\n",
       "| PC17 |  -1.93508813 | -14.855354617 |  -1.812896744 |  -2.853396636 |  -3.54464568 |   9.637065282 |  -4.11076989 |  11.501152658 |  -6.08570637 |   2.26521866 | ⋯ |  -3.97445340 |  -7.972264467 |  -7.06599885 | -1.979047e+01 |  1.097433e+01 | -12.714050995 |   1.16201023 | -16.63607133 |  -0.278440909 | -19.808151981 |\n",
       "| PC18 |  11.01135579 |  -3.073787996 |  -6.092412058 |  -1.358805703 |  -8.54269685 |  -9.812436917 |  -2.75134631 |  14.309628969 |  -6.96693872 |  -8.36189198 | ⋯ |  15.41382343 |   1.065192959 |   6.95240142 | -6.408090e+00 |  9.501401e+00 |   1.695538887 |  19.10305690 |  14.79972180 |  13.237530429 |  -6.914725375 |\n",
       "| PC19 |  -6.18812302 |   3.897745378 | -10.379832383 |   7.977551003 |   5.58471510 | -11.593362128 |  16.55255815 |   3.365460802 |   4.42954202 |  16.73296544 | ⋯ |   6.87910504 |   2.833199883 | -13.60668813 | -8.936445e+00 | -1.169804e+00 | -16.705935079 |  -7.65339323 |   1.93909719 |   0.580599792 |  -7.985092600 |\n",
       "| PC20 |   5.06648098 | -11.184795081 |   6.763647881 |  13.249211844 |  -5.24164584 |  -9.878328031 | -18.88634833 |  -9.909220394 |  -9.16555287 |  13.32920363 | ⋯ |  10.30032441 |   8.783025055 | -19.14498385 |  3.458647e+00 |  3.441258e+00 |   0.243087779 |  -1.11581637 |  -1.61822581 |  11.169377066 |  12.168290238 |\n",
       "| PC21 |  -7.59374151 |   4.910410760 |  -2.738643294 |  -7.630135681 |  -6.83911082 |   5.129886275 | -15.13213339 |  12.203153431 | -11.21752020 |   0.01669831 | ⋯ | -12.20434132 |   3.262864114 | -17.88171235 | -2.205702e+01 |  1.319029e+01 |   3.176113087 | -14.17337402 |   4.65117468 |  12.266363364 |  -0.359632516 |\n",
       "| PC22 |  14.76261842 |  -5.737296611 |  -9.204380694 |  -9.933193135 |   2.96835178 |  -1.385504567 |  -6.90364228 |   6.052534897 |   5.37009336 |   3.72885914 | ⋯ |   8.12629632 |  -8.240785369 | -13.99395390 | -6.070233e+00 |  5.051686e+00 |   8.483536868 |   6.27832263 |   2.99027038 |  11.403762575 |   2.453815530 |\n",
       "| PC23 |  -0.99930304 |  13.716783113 |   5.927247768 |   1.287398698 | -13.82143628 |   8.704720607 |  -8.05310785 |  11.778392313 |   9.39040958 |   3.39815977 | ⋯ |  -8.99960132 | -16.147946138 | -14.13120494 |  1.583712e+00 |  1.145168e+01 |  -4.055982441 |  24.53570818 |  13.74939820 |  11.504351385 | -16.851117500 |\n",
       "| PC24 |   7.78485603 | -11.824778785 |  11.778903161 |  -3.231867470 |   9.72388334 |   6.655869988 | -17.26727022 |  -0.250096922 |   2.14266301 |   3.12123024 | ⋯ | -11.02286409 |   3.914651518 |   9.08830977 |  4.956014e+00 |  8.552006e+00 | -16.951104020 |   4.73505828 |   5.29926780 |   7.438615838 |  14.656789024 |\n",
       "| PC25 |  -6.75036091 |   6.780192048 |  16.207965637 | -28.763070225 |   5.31346565 |   3.770619246 |   3.93507942 |  -6.080551750 |   4.72841151 |   9.06578292 | ⋯ |   8.89262953 |   0.401664033 |  26.43015728 | -7.328563e+00 | -2.725216e+00 | -17.025816837 |  -7.66391029 |  -8.19341947 |   8.622123503 |  -3.916574753 |\n",
       "| PC26 |   0.68195530 |   3.239014105 |  -8.373359705 |  -6.136629178 |  -3.63085808 |   3.551931557 |  -9.73571701 |   2.233079922 |  -8.15681333 |   1.93717078 | ⋯ |   6.93479150 |  12.143271818 |   5.87140599 | -4.112257e+00 |  9.900447e+00 |  13.159133358 | -15.65213923 | -24.98290528 |   0.972666331 |   8.122854091 |\n",
       "| PC27 |  -4.06782923 |   4.800311008 |   2.676408232 |  23.160872485 |   1.55483908 |   1.804098566 |  -6.17372585 |  -4.433766018 |  15.82663175 | -12.96390388 | ⋯ | -14.17906299 |  -1.769282169 |  13.59967867 | -5.536066e+00 | -7.114244e+00 | -17.185654296 | -10.28111503 |  -0.54268480 | -10.279179042 |  -0.408812201 |\n",
       "| PC28 |   6.03997968 |  -2.249324653 |  -4.932415933 |   6.321839331 |  -5.66089097 |  -0.480572119 |  -9.29598091 |   3.156314338 |   1.25181073 |  -0.03820176 | ⋯ |   9.35471103 | -11.722368967 |  30.06469429 |  7.815884e+00 |  1.597064e+01 |   8.687896608 | -12.04248543 |   8.22254473 |  -0.826614261 | -10.097604923 |\n",
       "\n"
      ],
      "text/plain": [
       "           Br1122       Br2285        Br1764        Br1464        Br5062      \n",
       "mds$snpPC1   0.05336220  -0.061529300  -0.060146400   0.055570600  -0.06258930\n",
       "mds$snpPC2  -0.00493535  -0.007748360  -0.005592440  -0.003211120   0.02361260\n",
       "mds$snpPC3   0.00324252   0.002632680   0.000477782   0.003123790  -0.00073594\n",
       "mds$snpPC4  -0.00248045  -0.000332221  -0.001155650   0.000378073  -0.00195798\n",
       "mds$snpPC5  -0.00156466  -0.004430670  -0.003881360  -0.001534850  -0.00334107\n",
       "PC1        -28.66256825   7.868488802  -7.209887758 -15.887979249  21.93632482\n",
       "PC2         14.19782612   6.519323087  17.143397186 -27.271630718  11.65009982\n",
       "PC3         -1.37464102  25.379743904  18.170360672 -11.113778879   8.13739916\n",
       "PC4         31.37032226   3.596101024  -2.863536438 -15.752138188 -13.96019676\n",
       "PC5         10.59932060  12.190328729   1.119478968   6.550066693 -10.98082946\n",
       "PC6        -25.16507564  -5.490247073  -3.523740717  11.607900451   1.34737733\n",
       "PC7         13.67472447  14.103422961   4.279992628  -4.668478718   2.53955165\n",
       "PC8        -21.79844405 -19.439693212 -10.930906907 -27.547838072  -2.51177389\n",
       "PC9          6.35563951   0.600841684  12.743843487  19.826766137  16.39895043\n",
       "PC10        -2.06303381   0.682607272   6.679367874 -18.069473088   4.79010819\n",
       "PC11        22.03120094  -3.551877673   8.448863345   3.895965741   7.39188230\n",
       "PC12        -7.32035802  -2.692319964   8.594563756  -9.457383171  -0.15682372\n",
       "PC13         5.21897081 -16.556782283  -7.882095302   0.995618048   3.24502976\n",
       "PC14        -4.03955173   5.960108314  15.009996849   3.667774270   2.65769377\n",
       "PC15        11.77055857   3.044414363  13.049221216  -4.545679475   1.71374468\n",
       "PC16        11.78283492  -6.238862907  -3.746955911  -0.521236298 -15.54133394\n",
       "PC17        -1.93508813 -14.855354617  -1.812896744  -2.853396636  -3.54464568\n",
       "PC18        11.01135579  -3.073787996  -6.092412058  -1.358805703  -8.54269685\n",
       "PC19        -6.18812302   3.897745378 -10.379832383   7.977551003   5.58471510\n",
       "PC20         5.06648098 -11.184795081   6.763647881  13.249211844  -5.24164584\n",
       "PC21        -7.59374151   4.910410760  -2.738643294  -7.630135681  -6.83911082\n",
       "PC22        14.76261842  -5.737296611  -9.204380694  -9.933193135   2.96835178\n",
       "PC23        -0.99930304  13.716783113   5.927247768   1.287398698 -13.82143628\n",
       "PC24         7.78485603 -11.824778785  11.778903161  -3.231867470   9.72388334\n",
       "PC25        -6.75036091   6.780192048  16.207965637 -28.763070225   5.31346565\n",
       "PC26         0.68195530   3.239014105  -8.373359705  -6.136629178  -3.63085808\n",
       "PC27        -4.06782923   4.800311008   2.676408232  23.160872485   1.55483908\n",
       "PC28         6.03997968  -2.249324653  -4.932415933   6.321839331  -5.66089097\n",
       "           Br1446        Br1503       Br1946        Br5323       Br1297       ⋯\n",
       "mds$snpPC1  -0.060679900   0.03232570  -0.062316000   0.04505070   0.03074970 ⋯\n",
       "mds$snpPC2  -0.005420770  -0.00725822  -0.008141190   0.03099780  -0.00202406 ⋯\n",
       "mds$snpPC3  -0.000522544   0.00141074   0.002803310   0.00180414  -0.00366815 ⋯\n",
       "mds$snpPC4  -0.003833690   0.00466118  -0.001357160  -0.00556010   0.00839171 ⋯\n",
       "mds$snpPC5   0.002002600  -0.00169547  -0.000623057  -0.00253161   0.00873754 ⋯\n",
       "PC1         41.136000943  14.27669977   9.834270072  -7.72586062  -7.95761522 ⋯\n",
       "PC2          7.668122829  -0.46193912   2.906308487  -9.10477819  -6.13711766 ⋯\n",
       "PC3          8.333769257 -12.18818346  17.536432056 -17.22189160   9.92162074 ⋯\n",
       "PC4         -6.673113724   1.76703918  -8.177214421   7.66197155  -1.59320548 ⋯\n",
       "PC5          1.862815957 -19.75333294  -8.113174838  -1.10652397 -16.47148545 ⋯\n",
       "PC6          6.615777190   8.65754077   6.414294001  16.25577624  -0.52559572 ⋯\n",
       "PC7         -5.962878675   0.09700267   2.351633095  -0.94204880 -21.34184693 ⋯\n",
       "PC8        -11.403889029   8.56676625  -0.253356581  -5.51509188 -11.76180316 ⋯\n",
       "PC9          9.753352382 -11.03773311  -9.938797490  -7.61713928   3.47442616 ⋯\n",
       "PC10        11.464090377  -2.31334446 -20.619307414 -17.86411810 -18.08101486 ⋯\n",
       "PC11        12.098670174  15.65666849   1.319465455  -0.67405847   6.16403595 ⋯\n",
       "PC12        -0.598854469  14.07052188   8.207348812   0.49067128  -1.92879806 ⋯\n",
       "PC13         1.175467157   1.72165677   6.863448476  -5.89610079   5.49285182 ⋯\n",
       "PC14        -4.744138774  -5.10638810 -14.190769104 -11.08279638 -10.39488267 ⋯\n",
       "PC15         4.326582385  -4.19194112   5.181480791  -8.75927517   0.63693312 ⋯\n",
       "PC16         7.512100439  -7.51700055  -4.860429986   3.51689570  -1.94042508 ⋯\n",
       "PC17         9.637065282  -4.11076989  11.501152658  -6.08570637   2.26521866 ⋯\n",
       "PC18        -9.812436917  -2.75134631  14.309628969  -6.96693872  -8.36189198 ⋯\n",
       "PC19       -11.593362128  16.55255815   3.365460802   4.42954202  16.73296544 ⋯\n",
       "PC20        -9.878328031 -18.88634833  -9.909220394  -9.16555287  13.32920363 ⋯\n",
       "PC21         5.129886275 -15.13213339  12.203153431 -11.21752020   0.01669831 ⋯\n",
       "PC22        -1.385504567  -6.90364228   6.052534897   5.37009336   3.72885914 ⋯\n",
       "PC23         8.704720607  -8.05310785  11.778392313   9.39040958   3.39815977 ⋯\n",
       "PC24         6.655869988 -17.26727022  -0.250096922   2.14266301   3.12123024 ⋯\n",
       "PC25         3.770619246   3.93507942  -6.080551750   4.72841151   9.06578292 ⋯\n",
       "PC26         3.551931557  -9.73571701   2.233079922  -8.15681333   1.93717078 ⋯\n",
       "PC27         1.804098566  -6.17372585  -4.433766018  15.82663175 -12.96390388 ⋯\n",
       "PC28        -0.480572119  -9.29598091   3.156314338   1.25181073  -0.03820176 ⋯\n",
       "           Br1941       Br1039        Br1459       Br1069        Br1380       \n",
       "mds$snpPC1   0.03338870   0.037958300   0.06131110  7.089250e-02 -6.290920e-02\n",
       "mds$snpPC2  -0.00546016  -0.003337430  -0.00360097 -2.344500e-03 -7.060960e-03\n",
       "mds$snpPC3  -0.00145050   0.000287557   0.00250648 -2.983330e-03  5.444890e-05\n",
       "mds$snpPC4  -0.00397426   0.007310740  -0.00697688  1.261240e-03  2.150870e-03\n",
       "mds$snpPC5  -0.00513461  -0.000797029  -0.00459006 -6.180510e-05 -8.387620e-04\n",
       "PC1         -4.72030312   1.653789634  15.99254446 -1.629044e+01  9.486887e+01\n",
       "PC2         -7.91816381 -17.578415211 -29.34970759 -3.156348e+01  3.042554e+01\n",
       "PC3          2.07323216   2.306459963 -25.07862443 -2.832538e-01 -2.311018e+01\n",
       "PC4          9.28508418   5.484807111 -17.98829584 -1.352409e+00  6.125502e+00\n",
       "PC5        -10.48876760   7.219989930 -10.49657094 -4.084115e+00  1.046632e+01\n",
       "PC6          0.44823249  20.529919262  -5.39624591  2.017665e+01  2.303821e+00\n",
       "PC7         10.64768409  -1.779245451  19.30265146 -1.159513e+00  1.312846e+01\n",
       "PC8        -12.52407365 -19.891327998 -19.38992484  1.061693e+01 -9.906969e+00\n",
       "PC9          0.27179295  -7.645342636  10.06871401 -9.916917e+00 -1.072245e+01\n",
       "PC10        -1.96533283  11.269876224  -2.03448079 -1.614582e+01  3.704058e-01\n",
       "PC11         2.30959746  -8.992572624  -9.52762936 -1.225936e-01  1.644967e+01\n",
       "PC12         3.95939554   9.610921859  -5.90211621  1.868030e+00  4.035129e-02\n",
       "PC13        -7.68212693  -8.313346769  18.80549712 -2.922351e+00 -1.174669e+01\n",
       "PC14         2.67083138   6.707286851  21.60698397  6.412670e+00  4.065842e+00\n",
       "PC15        -0.94954758  -8.062061219   3.34947828 -6.716785e+00  4.799864e+00\n",
       "PC16        11.00666112  10.105431563  14.61658327  7.296174e+00  3.284105e+01\n",
       "PC17        -3.97445340  -7.972264467  -7.06599885 -1.979047e+01  1.097433e+01\n",
       "PC18        15.41382343   1.065192959   6.95240142 -6.408090e+00  9.501401e+00\n",
       "PC19         6.87910504   2.833199883 -13.60668813 -8.936445e+00 -1.169804e+00\n",
       "PC20        10.30032441   8.783025055 -19.14498385  3.458647e+00  3.441258e+00\n",
       "PC21       -12.20434132   3.262864114 -17.88171235 -2.205702e+01  1.319029e+01\n",
       "PC22         8.12629632  -8.240785369 -13.99395390 -6.070233e+00  5.051686e+00\n",
       "PC23        -8.99960132 -16.147946138 -14.13120494  1.583712e+00  1.145168e+01\n",
       "PC24       -11.02286409   3.914651518   9.08830977  4.956014e+00  8.552006e+00\n",
       "PC25         8.89262953   0.401664033  26.43015728 -7.328563e+00 -2.725216e+00\n",
       "PC26         6.93479150  12.143271818   5.87140599 -4.112257e+00  9.900447e+00\n",
       "PC27       -14.17906299  -1.769282169  13.59967867 -5.536066e+00 -7.114244e+00\n",
       "PC28         9.35471103 -11.722368967  30.06469429  7.815884e+00  1.597064e+01\n",
       "           Br5212        Br1590       Br1314       Br5422        Br1265       \n",
       "mds$snpPC1  -0.063099900   0.07269830   0.04520430  -0.063880800   0.066528900\n",
       "mds$snpPC2   0.023121800  -0.00102199  -0.00571073  -0.005758700  -0.002056290\n",
       "mds$snpPC3  -0.001428790   0.00217143   0.00150678  -0.016621700   0.003693140\n",
       "mds$snpPC4  -0.000968091   0.00373419   0.00338605  -0.000245543  -0.000427764\n",
       "mds$snpPC5  -0.003100600   0.00393012  -0.00375567  -0.001296920  -0.002908830\n",
       "PC1          8.426131827  14.70553830  -1.29434724  21.812669817   0.882591603\n",
       "PC2          8.213950807 -37.59716504 -34.36552134   6.579365097 -23.215706816\n",
       "PC3         13.056706592  -6.70515753  -6.93759412 -17.626167307  -9.876449590\n",
       "PC4        -14.462367737 -12.88639231 -13.76001744 -18.698139632  -8.815399409\n",
       "PC5         -1.327572369   6.70568730 -11.12836465 -14.257332372   2.220624280\n",
       "PC6          9.545469017 -24.18273789  -6.29086866  -3.589116726  19.235545861\n",
       "PC7         -9.130926382  -2.75927335  -1.25486454  36.080228516  -5.953225442\n",
       "PC8        -13.247636188  -2.03832568  -0.85814271 -22.955130208  -1.315185318\n",
       "PC9         -7.214808483   2.70711090   2.53421518  16.464738259  16.106385886\n",
       "PC10        -2.522259798  -0.25716350  10.04785536   9.911230366   5.417537705\n",
       "PC11         5.743267594   9.87938048  -0.34070674  -2.579993292 -10.720583139\n",
       "PC12         0.762329567  -1.78757346  15.51585602  -5.740093767 -12.551861514\n",
       "PC13         5.050286141  -8.21700971   8.90642740   3.450624944  12.268829067\n",
       "PC14         5.686618516  -3.86180376   4.38136842 -12.120724874  -8.204358386\n",
       "PC15        -4.128319834  11.13105912 -24.73645810 -13.948850164   8.405044355\n",
       "PC16        -5.306848215  -3.82311797  -8.78213683  -4.394633458   3.383619495\n",
       "PC17       -12.714050995   1.16201023 -16.63607133  -0.278440909 -19.808151981\n",
       "PC18         1.695538887  19.10305690  14.79972180  13.237530429  -6.914725375\n",
       "PC19       -16.705935079  -7.65339323   1.93909719   0.580599792  -7.985092600\n",
       "PC20         0.243087779  -1.11581637  -1.61822581  11.169377066  12.168290238\n",
       "PC21         3.176113087 -14.17337402   4.65117468  12.266363364  -0.359632516\n",
       "PC22         8.483536868   6.27832263   2.99027038  11.403762575   2.453815530\n",
       "PC23        -4.055982441  24.53570818  13.74939820  11.504351385 -16.851117500\n",
       "PC24       -16.951104020   4.73505828   5.29926780   7.438615838  14.656789024\n",
       "PC25       -17.025816837  -7.66391029  -8.19341947   8.622123503  -3.916574753\n",
       "PC26        13.159133358 -15.65213923 -24.98290528   0.972666331   8.122854091\n",
       "PC27       -17.185654296 -10.28111503  -0.54268480 -10.279179042  -0.408812201\n",
       "PC28         8.687896608 -12.04248543   8.22254473  -0.826614261 -10.097604923"
      ]
     },
     "metadata": {},
     "output_type": "display_data"
    }
   ],
   "source": [
    "covs"
   ]
  },
  {
   "cell_type": "markdown",
   "id": "6f1649fc-72c8-4bcf-9cbc-587463117579",
   "metadata": {},
   "source": [
    "### summary stats"
   ]
  },
  {
   "cell_type": "code",
   "execution_count": 20,
   "id": "19d2a3db-0ed4-481f-b7d6-78d0ddbbb80f",
   "metadata": {},
   "outputs": [],
   "source": [
    "library(data.table)\n",
    "library(CpGWAS)"
   ]
  },
  {
   "cell_type": "code",
   "execution_count": 21,
   "id": "a5270235-a5a6-42d2-a654-ea30cb891279",
   "metadata": {},
   "outputs": [],
   "source": [
    "ss_path <- \"/home/naglemi/mwas/gwas/gwas_stat_scz\""
   ]
  },
  {
   "cell_type": "code",
   "execution_count": 22,
   "id": "203b45ea-44b4-4679-8b74-621f634db7dc",
   "metadata": {},
   "outputs": [],
   "source": [
    "snp.gwas2 <- fread(ss_path, skip = 1, header = FALSE)\n",
    "colnames(snp.gwas2) <- strsplit(readLines(ss_path, n = 1), \"\\t\")[[1]]"
   ]
  },
  {
   "cell_type": "code",
   "execution_count": 23,
   "id": "917f58c4-4ec5-47b8-bf3d-f0abcf86cf96",
   "metadata": {},
   "outputs": [],
   "source": [
    "snp.gwas2$z <- log(snp.gwas2$OR)/snp.gwas2$SE"
   ]
  },
  {
   "cell_type": "code",
   "execution_count": 24,
   "id": "6d87bed5-d32c-4264-b787-d738cd381454",
   "metadata": {},
   "outputs": [],
   "source": [
    "snp.gwas2 <- snp.gwas2[, c(2, 1, 3, 3, 8, 4, 5, 20, 11)]"
   ]
  },
  {
   "cell_type": "code",
   "execution_count": 25,
   "id": "3df5e4c7-01eb-475b-a931-1e088d109cdb",
   "metadata": {},
   "outputs": [
    {
     "data": {
      "text/html": [
       "<table class=\"dataframe\">\n",
       "<caption>A data.table: 1 × 9</caption>\n",
       "<thead>\n",
       "\t<tr><th scope=col>SNP</th><th scope=col>CHR</th><th scope=col>BP</th><th scope=col>BP</th><th scope=col>INFO</th><th scope=col>A1</th><th scope=col>A2</th><th scope=col>z</th><th scope=col>P</th></tr>\n",
       "\t<tr><th scope=col>&lt;chr&gt;</th><th scope=col>&lt;int&gt;</th><th scope=col>&lt;int&gt;</th><th scope=col>&lt;int&gt;</th><th scope=col>&lt;dbl&gt;</th><th scope=col>&lt;chr&gt;</th><th scope=col>&lt;chr&gt;</th><th scope=col>&lt;dbl&gt;</th><th scope=col>&lt;dbl&gt;</th></tr>\n",
       "</thead>\n",
       "<tbody>\n",
       "\t<tr><td>rs62513865</td><td>8</td><td>100579985</td><td>100579985</td><td>0.963</td><td>C</td><td>T</td><td>0.7016221</td><td>0.4847</td></tr>\n",
       "</tbody>\n",
       "</table>\n"
      ],
      "text/latex": [
       "A data.table: 1 × 9\n",
       "\\begin{tabular}{lllllllll}\n",
       " SNP & CHR & BP & BP & INFO & A1 & A2 & z & P\\\\\n",
       " <chr> & <int> & <int> & <int> & <dbl> & <chr> & <chr> & <dbl> & <dbl>\\\\\n",
       "\\hline\n",
       "\t rs62513865 & 8 & 100579985 & 100579985 & 0.963 & C & T & 0.7016221 & 0.4847\\\\\n",
       "\\end{tabular}\n"
      ],
      "text/markdown": [
       "\n",
       "A data.table: 1 × 9\n",
       "\n",
       "| SNP &lt;chr&gt; | CHR &lt;int&gt; | BP &lt;int&gt; | BP &lt;int&gt; | INFO &lt;dbl&gt; | A1 &lt;chr&gt; | A2 &lt;chr&gt; | z &lt;dbl&gt; | P &lt;dbl&gt; |\n",
       "|---|---|---|---|---|---|---|---|---|\n",
       "| rs62513865 | 8 | 100579985 | 100579985 | 0.963 | C | T | 0.7016221 | 0.4847 |\n",
       "\n"
      ],
      "text/plain": [
       "  SNP        CHR BP        BP        INFO  A1 A2 z         P     \n",
       "1 rs62513865 8   100579985 100579985 0.963 C  T  0.7016221 0.4847"
      ]
     },
     "metadata": {},
     "output_type": "display_data"
    }
   ],
   "source": [
    "head(snp.gwas2, n = 1)"
   ]
  },
  {
   "cell_type": "code",
   "execution_count": 26,
   "id": "a1b63fe0-6ff8-4982-92a5-7dd2a937b6f3",
   "metadata": {},
   "outputs": [],
   "source": [
    "colnames(snp.gwas2)[1:5] <- c(\"snp\", \"chr\", \"pos_hg38\", \"pos_hg38\", \"info\")"
   ]
  },
  {
   "cell_type": "code",
   "execution_count": 27,
   "id": "86716430-3d24-416b-922e-f7f8e007325d",
   "metadata": {},
   "outputs": [],
   "source": [
    "snp.gwas2 <- snp.gwas2[which(snp.gwas2$chr == 1 & snp.gwas2$pos_hg38 >= (73274305-10000) & snp.gwas2$pos_hg38 <= (73419830 + 10000)), ]"
   ]
  },
  {
   "cell_type": "code",
   "execution_count": 28,
   "id": "6dfba3a8-0775-4f8c-92d2-3c9c32a36945",
   "metadata": {},
   "outputs": [],
   "source": [
    "snp.gwas2 <- snp.gwas2[order(snp.gwas2$pos_hg38), ]"
   ]
  },
  {
   "cell_type": "code",
   "execution_count": 29,
   "id": "4714a813-116f-4567-a6b1-41bb02df8227",
   "metadata": {},
   "outputs": [],
   "source": [
    "# built predition models\n",
    "idx.ea <- BSobj2$race == \"CAUC\""
   ]
  },
  {
   "cell_type": "markdown",
   "id": "9700ca92-911f-4aa6-a557-789f202994b1",
   "metadata": {},
   "source": [
    "### SNPs in LIBD population"
   ]
  },
  {
   "cell_type": "markdown",
   "id": "6c305c43-74d5-42df-8039-b20adbbed9cd",
   "metadata": {},
   "source": [
    "#### For reference, first load Shizhong's formatted SNPs on Chr7"
   ]
  },
  {
   "cell_type": "code",
   "execution_count": 30,
   "id": "c03876a6-b33a-4f42-af8d-25c93233dee2",
   "metadata": {},
   "outputs": [],
   "source": [
    "snp2_sorted <- snp2[, order(names(snp2))]"
   ]
  },
  {
   "cell_type": "code",
   "execution_count": 31,
   "id": "f24d0fef-0977-4f61-9c6d-a401efb46469",
   "metadata": {},
   "outputs": [],
   "source": [
    "colnames(snp2) <- gsub(\"Br0\", \"Br\", colnames(snp2))"
   ]
  },
  {
   "cell_type": "code",
   "execution_count": 32,
   "id": "84f086ad-bf9a-4002-9fd0-822cef73679b",
   "metadata": {},
   "outputs": [],
   "source": [
    "snp2 <- snp2[, colnames(snp2) %in% colnames(p.residual)]"
   ]
  },
  {
   "cell_type": "code",
   "execution_count": 33,
   "id": "87fd1318-bcea-4a94-9b53-2361257d86bb",
   "metadata": {},
   "outputs": [],
   "source": [
    "snp2_positions <- stringr::str_split_fixed(rownames(snp2), \":\", 3)[, 2]"
   ]
  },
  {
   "cell_type": "markdown",
   "id": "64e0f588-fc43-4f4a-aba6-911d037e9ead",
   "metadata": {},
   "source": [
    "#### Now let's load ours on Chr1"
   ]
  },
  {
   "cell_type": "code",
   "execution_count": 34,
   "id": "04b0b495-749b-42fa-a4ce-2d7f14f0a053",
   "metadata": {},
   "outputs": [],
   "source": [
    "paths <- list(pvar_path = \"/expanse/lustre/projects/jhu152/naglemi/mwas/gwas/libd_chr1.pvar\",\n",
    "              pgen_path = \"/expanse/lustre/projects/jhu152/naglemi/mwas/gwas/libd_chr1.pgen\",\n",
    "              psam_path = \"/expanse/lustre/projects/jhu152/naglemi/mwas/gwas/libd_chr1.psam\")\n",
    "\n",
    "my_SNPs <- loadSNPData(paths$pvar_path, paths$pgen_path, paths$psam_path)"
   ]
  },
  {
   "cell_type": "code",
   "execution_count": 35,
   "id": "1dd4ef47-2a68-4f01-a0e5-03efd6732c4a",
   "metadata": {},
   "outputs": [],
   "source": [
    "snp_indices_of_interest <- which(my_SNPs$pvar_dt$POS >= 73274305-10000 & my_SNPs$pvar_dt$POS <= 73419830 + 10000)"
   ]
  },
  {
   "cell_type": "code",
   "execution_count": 36,
   "id": "67aa0c72-53e2-40ef-8d97-9621bdd799ea",
   "metadata": {},
   "outputs": [],
   "source": [
    "snp3 <- pgenlibr::ReadList(my_SNPs$pgen,\n",
    "                        variant_subset = snp_indices_of_interest)\n",
    "colnames(snp3) <- my_SNPs$pvar_dt$ID[snp_indices_of_interest]\n",
    "rownames(snp3) <- my_SNPs$psam$`#IID`"
   ]
  },
  {
   "cell_type": "code",
   "execution_count": 37,
   "id": "7a35ed6c-92ba-44b3-840e-ffc621828872",
   "metadata": {},
   "outputs": [],
   "source": [
    "map3 <- data.frame(POS = stringr::str_split_fixed(colnames(snp3), \":\", 3)[, 2])"
   ]
  },
  {
   "cell_type": "code",
   "execution_count": 38,
   "id": "ca549289-47f4-444b-b3e8-7d8a39c2e33f",
   "metadata": {},
   "outputs": [],
   "source": [
    "snp3 <- t(snp3)"
   ]
  },
  {
   "cell_type": "code",
   "execution_count": 39,
   "id": "191b05e4-0107-4059-887e-bd3f2cafde0f",
   "metadata": {},
   "outputs": [],
   "source": [
    "map3 <- data.frame(POS = stringr::str_split_fixed(rownames(snp3), \":\", 3)[, 2])"
   ]
  },
  {
   "cell_type": "code",
   "execution_count": 40,
   "id": "4e17a504-e98e-4d5e-bc59-3fd09faf3de8",
   "metadata": {},
   "outputs": [
    {
     "data": {
      "text/html": [
       "<style>\n",
       ".list-inline {list-style: none; margin:0; padding: 0}\n",
       ".list-inline>li {display: inline-block}\n",
       ".list-inline>li:not(:last-child)::after {content: \"\\00b7\"; padding: 0 .5ex}\n",
       "</style>\n",
       "<ol class=list-inline><li>321</li><li>1</li></ol>\n"
      ],
      "text/latex": [
       "\\begin{enumerate*}\n",
       "\\item 321\n",
       "\\item 1\n",
       "\\end{enumerate*}\n"
      ],
      "text/markdown": [
       "1. 321\n",
       "2. 1\n",
       "\n",
       "\n"
      ],
      "text/plain": [
       "[1] 321   1"
      ]
     },
     "metadata": {},
     "output_type": "display_data"
    }
   ],
   "source": [
    "dim(map3)"
   ]
  },
  {
   "cell_type": "markdown",
   "id": "d0fb3ea3-0f60-4a62-b787-66185fc8e792",
   "metadata": {},
   "source": [
    "### SNPs in reference population"
   ]
  },
  {
   "cell_type": "code",
   "execution_count": 41,
   "id": "00b33368-a3ec-4788-8b82-519e1fbd5e95",
   "metadata": {},
   "outputs": [],
   "source": [
    "#snp.1kg.eur2"
   ]
  },
  {
   "cell_type": "code",
   "execution_count": 42,
   "id": "99022f2f-c9b9-47db-a5af-b2d7ba0ded99",
   "metadata": {},
   "outputs": [],
   "source": [
    "paths <- list(pvar_path = \"/expanse/lustre/projects/jhu152/naglemi/mwas/gwas/ref_EUR_chr1.pvar\",\n",
    "              pgen_path = \"/expanse/lustre/projects/jhu152/naglemi/mwas/gwas/ref_EUR_chr1.pgen\",\n",
    "              psam_path = \"/expanse/lustre/projects/jhu152/naglemi/mwas/gwas/ref_EUR_chr1.psam\")\n",
    "\n",
    "my_SNPs <- loadSNPData(paths$pvar_path, paths$pgen_path, paths$psam_path)"
   ]
  },
  {
   "cell_type": "code",
   "execution_count": 43,
   "id": "90b30176-0532-45a1-bf5e-17e207bb61d5",
   "metadata": {},
   "outputs": [],
   "source": [
    "snp_indices_of_interest <- which(my_SNPs$pvar_dt$POS >= 73274305-10000 & my_SNPs$pvar_dt$POS <= 73419830 + 10000)"
   ]
  },
  {
   "cell_type": "code",
   "execution_count": 44,
   "id": "85f427f7-e4d3-4ba6-ad1a-a2691f68346e",
   "metadata": {},
   "outputs": [],
   "source": [
    "snp.1kg.eur2 <- pgenlibr::ReadList(my_SNPs$pgen,\n",
    "                        variant_subset = snp_indices_of_interest)\n",
    "colnames(snp.1kg.eur2) <- my_SNPs$pvar_dt$ID[snp_indices_of_interest]\n",
    "rownames(snp.1kg.eur2) <- my_SNPs$psam$`IID`"
   ]
  },
  {
   "cell_type": "code",
   "execution_count": 45,
   "id": "38d80ac5-91d5-4766-8953-fe93f6de6a34",
   "metadata": {},
   "outputs": [],
   "source": [
    "map.1kg.eur2 <- my_SNPs$pvar_dt"
   ]
  },
  {
   "cell_type": "code",
   "execution_count": 46,
   "id": "a9650fe9-2483-4bf0-95d3-0102b90465f2",
   "metadata": {},
   "outputs": [],
   "source": [
    "map.1kg.eur2 <- map.1kg.eur2[snp_indices_of_interest, ]"
   ]
  },
  {
   "cell_type": "code",
   "execution_count": 47,
   "id": "f6f5d1f5-0681-4825-bfa7-79d3ace6f004",
   "metadata": {},
   "outputs": [],
   "source": [
    "snp.1kg.eur2 <- t(snp.1kg.eur2)"
   ]
  },
  {
   "cell_type": "markdown",
   "id": "882a7c0a-0ec2-4aa2-be3c-a2f152126bd8",
   "metadata": {},
   "source": [
    "### Set window size and any other parameters"
   ]
  },
  {
   "cell_type": "code",
   "execution_count": 48,
   "id": "461263e5-8c47-40ae-b3e4-03dbea4820e8",
   "metadata": {},
   "outputs": [],
   "source": [
    "wind <- 10000"
   ]
  },
  {
   "cell_type": "markdown",
   "id": "0849e5e3-af47-480f-82ca-97b07d1dd943",
   "metadata": {},
   "source": [
    "Is 1se vs min for lambda the problem?"
   ]
  },
  {
   "cell_type": "markdown",
   "id": "b0244eba-060a-4ac3-966c-cb68deb41cb0",
   "metadata": {},
   "source": [
    "#### Final formatting steps to prepare for MWAS - sort samples"
   ]
  },
  {
   "cell_type": "code",
   "execution_count": 49,
   "id": "f41f9c4d-1489-45a4-ad25-d446a05980bf",
   "metadata": {},
   "outputs": [],
   "source": [
    "p.residual <- p.residual[, order(colnames(p.residual))]"
   ]
  },
  {
   "cell_type": "code",
   "execution_count": 50,
   "id": "65857cda-1517-4854-a1e1-5af6459cbdca",
   "metadata": {},
   "outputs": [],
   "source": [
    "snp3 <- snp3[, colnames(snp3) %in% colnames(p.residual)]"
   ]
  },
  {
   "cell_type": "code",
   "execution_count": 51,
   "id": "7ab51668-a9da-4913-a8ee-41aa0d49550e",
   "metadata": {},
   "outputs": [],
   "source": [
    "snp3 <- snp3[, order(colnames(snp3))]"
   ]
  },
  {
   "cell_type": "markdown",
   "id": "768cf092-82d8-46e6-b322-efd6e09bbb73",
   "metadata": {},
   "source": [
    "## MWAS"
   ]
  },
  {
   "cell_type": "markdown",
   "id": "c739260a-4928-4a12-8b74-5933000360a3",
   "metadata": {},
   "source": [
    "### With original `lambda.min`"
   ]
  },
  {
   "cell_type": "markdown",
   "id": "cfc14c0f-1e12-4108-97fc-ab66a6467640",
   "metadata": {},
   "source": [
    "#### Stage 1"
   ]
  },
  {
   "cell_type": "code",
   "execution_count": 53,
   "id": "305409c3-5abb-49c2-9914-6fd958064abf",
   "metadata": {},
   "outputs": [
    {
     "name": "stdout",
     "output_type": "stream",
     "text": [
      "1 \n",
      "[1] \"This cg is: 73274305\"\n"
     ]
    },
    {
     "ename": "ERROR",
     "evalue": "Error in {: task 1 failed - \"missing value where TRUE/FALSE needed\"\n",
     "output_type": "error",
     "traceback": [
      "Error in {: task 1 failed - \"missing value where TRUE/FALSE needed\"\nTraceback:\n",
      "1. elastic.net(trainX, trainY)",
      "2. foreach(ai = a, .combine = rbind) %dopar% {\n .     cv.fit <- cv.glmnet(trainX, trainY, nfold = 5, type.measure = \"mse\", \n .         paralle = TRUE, alpha = ai)\n .     data.frame(cvm = min(cv.fit$cvm), lambda = cv.fit$lambda.min, \n .         alpha = ai)\n . }   # at line 13-27 of file <text>",
      "3. e$fun(obj, substitute(ex), parent.frame(), e$data)"
     ]
    }
   ],
   "source": [
    "for(k in 1:length(wind)){\n",
    "    models.ea <- c()\n",
    "    models.all <- c()\n",
    "    for(i in 1:length(cg)){\n",
    "    #for(i in 1){\n",
    "            cat(i,\"\\n\")\n",
    "            print(paste0(\"This cg is: \", cg[i]))\n",
    "            range1 <- ifelse(cg[i] - wind[k] > 0,cg[i] - wind[k],0)\n",
    "            range2 <- cg[i] + wind[k]\n",
    "            idx <- map3$POS > range1 & map3$POS < range2\n",
    "            # go to next cg if no snps within window\n",
    "            if(sum(idx) <= 1){\n",
    "                    next\n",
    "            }\n",
    "            geno <- snp3[idx,] # changed snp2 to snp3\n",
    "            rownames(geno) <- map3$POS[idx]\n",
    "            trainX <- t(geno)\n",
    "            trainY <- p.residual[i,]\n",
    "            fit <- elastic.net(trainX,trainY)\n",
    "            fit <- tryCatch(\n",
    "                    elastic.net(trainX,trainY),\n",
    "                    error = function(e) {return (\"err\")})\n",
    "            if(!is.data.frame(fit)){\n",
    "                if(fit == \"err\"){\n",
    "                    next\n",
    "                }\n",
    "            }\n",
    "            if(nrow(fit) == 0) next\n",
    "\n",
    "            fit$cg <- cg[i]\n",
    "            models.all <- rbind(models.all,fit)\n",
    "            # EA only\n",
    "            trainX <- trainX[idx.ea,]\n",
    "            if(sum(apply(trainX,2,var)!=0) <= 1){\n",
    "                    next\n",
    "            }\n",
    "            trainY <- trainY[idx.ea]\n",
    "            fit <- tryCatch(\n",
    "                    elastic.net(trainX,trainY),\n",
    "                    error = function(e) {return (\"err\")})\n",
    "            if(!is.data.frame(fit)){\n",
    "                if(fit == \"err\"){\n",
    "                    next\n",
    "                }\n",
    "            }\n",
    "            if(nrow(fit) == 0) next\n",
    "            fit$cg <- cg[i]\n",
    "            models.ea <- rbind(models.ea,fit)\n",
    "    }\n",
    "}"
   ]
  },
  {
   "cell_type": "code",
   "execution_count": null,
   "id": "3d109e75-bf26-43f5-8a0d-d6bb2f9cbe6b",
   "metadata": {},
   "outputs": [],
   "source": [
    "models.ea <- models.ea[models.ea[,1] != \"(Intercept)\",]\n",
    "models.all <- models.all[models.all[,1] != \"(Intercept)\",]"
   ]
  },
  {
   "cell_type": "markdown",
   "id": "9f851085-6f8e-4b8e-91fb-5696125a32be",
   "metadata": {},
   "source": [
    "## Stage 2"
   ]
  },
  {
   "cell_type": "code",
   "execution_count": null,
   "id": "ad0d6d07-06f6-403d-8496-5dd34d8ba4b1",
   "metadata": {},
   "outputs": [],
   "source": [
    "if(!dir.exists(outd)) dir.create(outd)"
   ]
  },
  {
   "cell_type": "code",
   "execution_count": null,
   "id": "96693eaa-eb61-415a-b5d8-6034f0a4d150",
   "metadata": {},
   "outputs": [],
   "source": [
    "# mwas by models of all samples\n",
    "cg2 <- unique(models.all$cg)\n",
    "mwas.all <- matrix(0,nrow=length(cg2),ncol=2)\n",
    "for(i in 1:length(cg2)){\n",
    "        pos <- models.all[models.all$cg == cg2[i],1]\n",
    "        gwas <- snp.gwas2$z[is.element(snp.gwas2$pos_hg38, pos)]\n",
    "        weight <- models.all[models.all$cg == cg2[i],2]\n",
    "        #geno <- snp.1kg.eur2[match(pos,map.1kg.eur2$POS),]\n",
    "\n",
    "        match_indices <- match(pos, map.1kg.eur2$POS)\n",
    "    \n",
    "        tryCatch({\n",
    "            geno <- snp.1kg.eur2[match_indices, , drop = FALSE]\n",
    "        }, error = function(e) {\n",
    "            cat(\"Error accessing genotype data at iteration:\", i, \"\\n\")\n",
    "            cat(\"Error message:\", e$message, \"\\n\")\n",
    "            stop(\"Stopping execution due to error.\")\n",
    "        })\n",
    "    \n",
    "        mwas.all[i,] <- MWAS(gwas, weight, t(geno))\n",
    "}\n",
    "rownames(mwas.all) <- cg2\n",
    "colnames(mwas.all) <- c(\"z\",\"p\")"
   ]
  },
  {
   "cell_type": "code",
   "execution_count": null,
   "id": "c5fbba20-e398-4e3d-8c18-c99857820da5",
   "metadata": {},
   "outputs": [],
   "source": [
    "# mwas by models of EA samples\n",
    "cg2 <- unique(models.ea$cg)\n",
    "mwas.ea <- matrix(0,nrow=length(cg2),ncol=2)\n",
    "for(i in 1:length(cg2)){\n",
    "        pos <- models.ea[models.ea$cg == cg2[i],1]\n",
    "        gwas <- snp.gwas2$z[is.element(snp.gwas2$pos_hg38, pos)]\n",
    "        weight <- models.ea[models.ea$cg == cg2[i],2]\n",
    "        #geno <- snp.1kg.eur2[match(pos,map.1kg.eur2$POS),]\n",
    "\n",
    "        match_indices <- match(pos, map.1kg.eur2$POS)\n",
    "\n",
    "        tryCatch({\n",
    "            geno <- snp.1kg.eur2[match_indices, , drop = FALSE]\n",
    "        }, error = function(e) {\n",
    "            cat(\"Error accessing genotype data at iteration:\", i, \"\\n\")\n",
    "            cat(\"Error message:\", e$message, \"\\n\")\n",
    "            stop(\"Stopping execution due to error.\")\n",
    "        })    \n",
    "    \n",
    "        mwas.ea[i,] <- MWAS(gwas, weight, t(geno))\n",
    "}\n",
    "rownames(mwas.ea) <- cg2\n",
    "colnames(mwas.ea) <- c(\"z\",\"p\")"
   ]
  },
  {
   "cell_type": "code",
   "execution_count": null,
   "id": "a14f4c3d-4566-4024-92fa-215abf2b4556",
   "metadata": {},
   "outputs": [],
   "source": [
    "mwas.ea"
   ]
  },
  {
   "cell_type": "code",
   "execution_count": null,
   "id": "207bf56e-0680-4f1b-a54d-f5e4b68cf77d",
   "metadata": {},
   "outputs": [],
   "source": [
    "mwas.all"
   ]
  },
  {
   "cell_type": "markdown",
   "id": "58e23918-df06-45f2-8fa6-46f3b2cb00bb",
   "metadata": {},
   "source": [
    "### With `lambda.1se`"
   ]
  },
  {
   "cell_type": "code",
   "execution_count": null,
   "id": "8ae40fc9-96f4-4152-a999-7c530ec1627c",
   "metadata": {},
   "outputs": [],
   "source": []
  },
  {
   "cell_type": "markdown",
   "id": "e54e0541-1d85-4c13-9111-59ad45775394",
   "metadata": {},
   "source": [
    "#### Modified `elastic.net` to use `lambda.1se`"
   ]
  },
  {
   "cell_type": "code",
   "execution_count": null,
   "id": "e2a06b13-9a13-4caa-8436-9a05a0f53035",
   "metadata": {},
   "outputs": [],
   "source": [
    "# modified to use lambda 1se and appropriate cvm\n",
    "elastic.net <- function(trainX,trainY){\n",
    "    if(nrow(trainX)!=length(trainY)){\n",
    "            stop(\"Number of observations is differerent\")\n",
    "    } \n",
    "\n",
    "    # optimize alpha---mixing parameter  \n",
    "    a <- 0.5\n",
    "    search <- foreach(ai = a, .combine = rbind) %dopar% {\n",
    "        set.seed(42)\n",
    "        cv.fit <- cv.glmnet(\n",
    "                        trainX,\n",
    "                        trainY,\n",
    "                        nfold = 5,\n",
    "                        type.measure = \"mse\",\n",
    "                        paralle = TRUE,\n",
    "                        alpha = ai\n",
    "                        )\n",
    "        #print(paste0(\"Dim of trainX: \", dim(trainX)))\n",
    "        #print(paste0(\"Len of trainY: \", length(trainY)))\n",
    "        coef_matrix <- as.matrix(coef(cv.fit))\n",
    "\n",
    "        non_zero_coefs <- coef_matrix[coef_matrix != 0, , drop = FALSE]\n",
    "        #print(\"Coefficients when fitting: \")\n",
    "        #print(non_zero_coefs)\n",
    "\n",
    "        data.frame(\n",
    "                        cvm = cv.fit$cvm[cv.fit$lambda == cv.fit$lambda.1se],\n",
    "                        lambda = cv.fit$lambda.1se,\n",
    "                        alpha = ai\n",
    "                        )\n",
    "        } \n",
    "    cv.opt <- search[search$cvm == min(search$cvm),] \n",
    "\n",
    "        # fit model by optimized alpha and lambda\n",
    "    set.seed(42)\n",
    "    yfit <- glmnet(\n",
    "    trainX,\n",
    "    trainY,\n",
    "    lambda = cv.opt$lambda,\n",
    "    alpha = cv.opt$alpha)\n",
    "\n",
    "    coef_matrix <- as.matrix(coef(yfit))\n",
    "\n",
    "    non_zero_coefs <- coef_matrix[coef_matrix != 0, , drop = FALSE]\n",
    "    #print(\"Coefficients when optimal: \")\n",
    "    #print(non_zero_coefs)\n",
    "\n",
    "    idf <- coef(yfit)\n",
    "    idx <- which(idf != 0)\n",
    "    selectf <- data.frame(\n",
    "            features = idf@Dimnames[[1]][idx], \n",
    "            coefs = idf [idx]\n",
    "    )\n",
    "}"
   ]
  },
  {
   "cell_type": "markdown",
   "id": "7624a067-ea20-45d4-a4c8-4684de1f4e35",
   "metadata": {},
   "source": [
    "#### Stage 1"
   ]
  },
  {
   "cell_type": "code",
   "execution_count": null,
   "id": "0744766e-9cc1-4e15-939e-2ce7d88a9469",
   "metadata": {},
   "outputs": [],
   "source": [
    "for(k in 1:length(wind)){\n",
    "    models.ea <- c()\n",
    "    models.all <- c()\n",
    "    for(i in 1:length(cg)){\n",
    "    #for(i in 1){\n",
    "            cat(i,\"\\n\")\n",
    "            print(paste0(\"This cg is: \", cg[i]))\n",
    "            range1 <- ifelse(cg[i] - wind[k] > 0,cg[i] - wind[k],0)\n",
    "            range2 <- cg[i] + wind[k]\n",
    "            idx <- map3$POS > range1 & map3$POS < range2\n",
    "            # go to next cg if no snps within window\n",
    "            if(sum(idx) <= 1){\n",
    "                    next\n",
    "            }\n",
    "            geno <- snp3[idx,] # changed snp2 to snp3\n",
    "            rownames(geno) <- map3$POS[idx]\n",
    "            trainX <- t(geno)\n",
    "            trainY <- p.residual[i,]\n",
    "            fit <- elastic.net(trainX,trainY)\n",
    "            fit <- tryCatch(\n",
    "                    elastic.net(trainX,trainY),\n",
    "                    error = function(e) {return (\"err\")})\n",
    "            if(!is.data.frame(fit)){\n",
    "                if(fit == \"err\"){\n",
    "                    next\n",
    "                }\n",
    "            }\n",
    "            if(nrow(fit) == 0) next\n",
    "\n",
    "            fit$cg <- cg[i]\n",
    "            models.all <- rbind(models.all,fit)\n",
    "            # EA only\n",
    "            trainX <- trainX[idx.ea,]\n",
    "            if(sum(apply(trainX,2,var)!=0) <= 1){\n",
    "                    next\n",
    "            }\n",
    "            trainY <- trainY[idx.ea]\n",
    "            fit <- tryCatch(\n",
    "                    elastic.net(trainX,trainY),\n",
    "                    error = function(e) {return (\"err\")})\n",
    "            if(!is.data.frame(fit)){\n",
    "                if(fit == \"err\"){\n",
    "                    next\n",
    "                }\n",
    "            }\n",
    "            if(nrow(fit) == 0) next\n",
    "            fit$cg <- cg[i]\n",
    "            models.ea <- rbind(models.ea,fit)\n",
    "    }\n",
    "}"
   ]
  },
  {
   "cell_type": "code",
   "execution_count": null,
   "id": "bde7018f-440f-4b10-a471-433b6e6444da",
   "metadata": {},
   "outputs": [],
   "source": [
    "models.ea <- models.ea[models.ea[,1] != \"(Intercept)\",]\n",
    "models.all <- models.all[models.all[,1] != \"(Intercept)\",]"
   ]
  },
  {
   "cell_type": "markdown",
   "id": "aba2a99e-89ac-4296-97f7-40bb922667eb",
   "metadata": {},
   "source": [
    "## Stage 2"
   ]
  },
  {
   "cell_type": "code",
   "execution_count": null,
   "id": "1c51ec72-850f-405a-b676-2a8869e711a3",
   "metadata": {},
   "outputs": [],
   "source": [
    "if(!dir.exists(outd)) dir.create(outd)"
   ]
  },
  {
   "cell_type": "code",
   "execution_count": null,
   "id": "d52fb097-dedb-4736-ad25-46f2e2cc82bf",
   "metadata": {},
   "outputs": [],
   "source": [
    "# mwas by models of all samples\n",
    "cg2 <- unique(models.all$cg)\n",
    "mwas.all <- matrix(0,nrow=length(cg2),ncol=2)\n",
    "for(i in 1:length(cg2)){\n",
    "        pos <- models.all[models.all$cg == cg2[i],1]\n",
    "        gwas <- snp.gwas2$z[is.element(snp.gwas2$pos_hg38, pos)]\n",
    "        weight <- models.all[models.all$cg == cg2[i],2]\n",
    "        #geno <- snp.1kg.eur2[match(pos,map.1kg.eur2$POS),]\n",
    "\n",
    "        match_indices <- match(pos, map.1kg.eur2$POS)\n",
    "    \n",
    "        tryCatch({\n",
    "            geno <- snp.1kg.eur2[match_indices, , drop = FALSE]\n",
    "        }, error = function(e) {\n",
    "            cat(\"Error accessing genotype data at iteration:\", i, \"\\n\")\n",
    "            cat(\"Error message:\", e$message, \"\\n\")\n",
    "            stop(\"Stopping execution due to error.\")\n",
    "        })\n",
    "    \n",
    "        mwas.all[i,] <- MWAS(gwas, weight, t(geno))\n",
    "}\n",
    "rownames(mwas.all) <- cg2\n",
    "colnames(mwas.all) <- c(\"z\",\"p\")\n",
    "\n",
    "# mwas by models of EA samples\n",
    "cg2 <- unique(models.ea$cg)\n",
    "mwas.ea <- matrix(0,nrow=length(cg2),ncol=2)\n",
    "for(i in 1:length(cg2)){\n",
    "        pos <- models.ea[models.ea$cg == cg2[i],1]\n",
    "        gwas <- snp.gwas2$z[is.element(snp.gwas2$pos_hg38, pos)]\n",
    "        weight <- models.ea[models.ea$cg == cg2[i],2]\n",
    "        #geno <- snp.1kg.eur2[match(pos,map.1kg.eur2$POS),]\n",
    "\n",
    "        match_indices <- match(pos, map.1kg.eur2$POS)\n",
    "\n",
    "        tryCatch({\n",
    "            geno <- snp.1kg.eur2[match_indices, , drop = FALSE]\n",
    "        }, error = function(e) {\n",
    "            cat(\"Error accessing genotype data at iteration:\", i, \"\\n\")\n",
    "            cat(\"Error message:\", e$message, \"\\n\")\n",
    "            stop(\"Stopping execution due to error.\")\n",
    "        })    \n",
    "    \n",
    "        mwas.ea[i,] <- MWAS(gwas, weight, t(geno))\n",
    "}\n",
    "rownames(mwas.ea) <- cg2\n",
    "colnames(mwas.ea) <- c(\"z\",\"p\")"
   ]
  },
  {
   "cell_type": "code",
   "execution_count": null,
   "id": "cfed1a7b-410d-4f01-9785-14a72e6f64bf",
   "metadata": {},
   "outputs": [],
   "source": [
    "mwas.ea"
   ]
  },
  {
   "cell_type": "code",
   "execution_count": null,
   "id": "105e180a-7444-435f-a591-4606392861bc",
   "metadata": {},
   "outputs": [],
   "source": [
    "mwas.all"
   ]
  }
 ],
 "metadata": {
  "kernelspec": {
   "display_name": "R",
   "language": "R",
   "name": "ir"
  },
  "language_info": {
   "codemirror_mode": "r",
   "file_extension": ".r",
   "mimetype": "text/x-r-source",
   "name": "R",
   "pygments_lexer": "r",
   "version": "4.3.1"
  }
 },
 "nbformat": 4,
 "nbformat_minor": 5
}
