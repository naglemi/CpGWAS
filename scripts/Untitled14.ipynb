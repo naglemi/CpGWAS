{
 "cells": [
  {
   "cell_type": "markdown",
   "id": "3d26bedb-b31f-4d0f-824a-102b48c42a9d",
   "metadata": {},
   "source": [
    "# Check MWAS overlap for GWAS risk loci"
   ]
  },
  {
   "cell_type": "code",
   "execution_count": null,
   "id": "1e0ad5f0-a118-42b3-a62a-40ab732c0042",
   "metadata": {},
   "outputs": [],
   "source": []
  }
 ],
 "metadata": {
  "kernelspec": {
   "display_name": "R",
   "language": "R",
   "name": "ir"
  },
  "language_info": {
   "codemirror_mode": "r",
   "file_extension": ".r",
   "mimetype": "text/x-r-source",
   "name": "R",
   "pygments_lexer": "r",
   "version": "4.3.1"
  }
 },
 "nbformat": 4,
 "nbformat_minor": 5
}
