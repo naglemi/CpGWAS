{
 "cells": [
  {
   "cell_type": "markdown",
   "id": "ec803619-7ddc-467d-85f8-f4a936ed29a5",
   "metadata": {},
   "source": [
    "# Inspect and summarize SLURM benchmarks"
   ]
  },
  {
   "cell_type": "markdown",
   "id": "8a74823d-20cd-4f39-8af6-5f7a71512907",
   "metadata": {},
   "source": [
    "## Overview"
   ]
  },
  {
   "cell_type": "markdown",
   "id": "b83b4000-f5a3-4aa3-b4cd-d425040bf72b",
   "metadata": {},
   "source": [
    "## Load, merge and compare benchmark summary `csv`s"
   ]
  },
  {
   "cell_type": "markdown",
   "id": "822fa4a3-4549-4b81-86c5-32deb17b9f68",
   "metadata": {},
   "source": [
    "We need a function to compare our SLURM summary output files and highlight differences in a table."
   ]
  },
  {
   "cell_type": "code",
   "execution_count": 1,
   "id": "6a868b78-f112-4f01-a0e0-e27892e35fdb",
   "metadata": {},
   "outputs": [
    {
     "name": "stderr",
     "output_type": "stream",
     "text": [
      "\n",
      "Attaching package: ‘dplyr’\n",
      "\n",
      "\n",
      "The following objects are masked from ‘package:stats’:\n",
      "\n",
      "    filter, lag\n",
      "\n",
      "\n",
      "The following objects are masked from ‘package:base’:\n",
      "\n",
      "    intersect, setdiff, setequal, union\n",
      "\n",
      "\n"
     ]
    }
   ],
   "source": [
    "library(dplyr)\n",
    "library(tidyr)\n",
    "\n",
    "read_and_summarize_differences <- function(directory) {\n",
    "  # List all CSV files in the directory\n",
    "  files <- list.files(directory, pattern = \"\\\\.csv$\", full.names = TRUE)\n",
    "  #files <- files[grepl(\"alpha_05\", files)]\n",
    "  #files <- files[!grepl(\"1000000\", files)]\n",
    "  \n",
    "  # Read each file and store in a list\n",
    "  data_list <- lapply(files, function(file) {\n",
    "    data <- read.csv(file)\n",
    "    # Add a column to identify the source file\n",
    "    data$Source <- basename(file)\n",
    "    return(data)\n",
    "  })\n",
    "  \n",
    "  # Combine all data frames into one\n",
    "  combined_data <- bind_rows(data_list)\n",
    "  \n",
    "  # Spread the data to wide format for comparison\n",
    "  wide_data <- spread(combined_data, key = Parameter, value = Value)\n",
    "  \n",
    "  # Identify rows with at least one difference in values\n",
    "  differing_rows <- wide_data %>%\n",
    "    summarise(across(-Source, ~n_distinct(.) > 1)) %>%\n",
    "    select(which(colSums(.) > 0)) %>%\n",
    "    names()\n",
    "  \n",
    "  # Filter the combined data to include only differing parameters\n",
    "  summary_data <- combined_data %>%\n",
    "    filter(Parameter %in% differing_rows) %>%\n",
    "    select(Parameter, Source, Value)\n",
    "  \n",
    "  # Pivot wider for a clearer summary table, if necessary\n",
    "  summary_table <- summary_data %>%\n",
    "    pivot_wider(names_from = Source, values_from = Value)\n",
    "  \n",
    "  return(summary_table)\n",
    "}"
   ]
  },
  {
   "cell_type": "code",
   "execution_count": 2,
   "id": "691fc1f5-c533-4895-a92e-c059d1709534",
   "metadata": {},
   "outputs": [
    {
     "data": {
      "text/html": [
       "<table class=\"dataframe\">\n",
       "<caption>A tibble: 10 × 6</caption>\n",
       "<thead>\n",
       "\t<tr><th scope=col>Parameter</th><th scope=col>libd_chr1-chr1_all-libd_chr1-chr1_all-1-2000-dynamic-1corestotal-1corepera-20240402-150130-summary.csv</th><th scope=col>libd_chr1-chr1_all-libd_chr1-chr1_all-2001-4000-dynamic-1corestotal-1corepera-20240402-150131-summary.csv</th><th scope=col>libd_chr1-chr1_all-libd_chr1-chr1_all-4001-6000-dynamic-1corestotal-1corepera-20240402-150131-summary.csv</th><th scope=col>libd_chr1-chr1_all-libd_chr1-chr1_all-6001-8000-dynamic-1corestotal-1corepera-20240402-150131-summary.csv</th><th scope=col>libd_chr1-chr1_all-libd_chr1-chr1_all-8001-10000-dynamic-1corestotal-1corepera-20240402-150131-summary.csv</th></tr>\n",
       "\t<tr><th scope=col>&lt;chr&gt;</th><th scope=col>&lt;chr&gt;</th><th scope=col>&lt;chr&gt;</th><th scope=col>&lt;chr&gt;</th><th scope=col>&lt;chr&gt;</th><th scope=col>&lt;chr&gt;</th></tr>\n",
       "</thead>\n",
       "<tbody>\n",
       "\t<tr><td>chunk1        </td><td>1                                                                                         </td><td>2001                                                                                         </td><td>4001                                                                                         </td><td>6001                                                                                         </td><td>8001                                                                                          </td></tr>\n",
       "\t<tr><td>chunk2        </td><td>2000                                                                                      </td><td>4000                                                                                         </td><td>6000                                                                                         </td><td>8000                                                                                         </td><td>10000                                                                                         </td></tr>\n",
       "\t<tr><td>tag           </td><td>libd_chr1-chr1_all-1-2000-dynamic-1corestotal-1corepera-20240402-150130                   </td><td>libd_chr1-chr1_all-2001-4000-dynamic-1corestotal-1corepera-20240402-150131                   </td><td>libd_chr1-chr1_all-4001-6000-dynamic-1corestotal-1corepera-20240402-150131                   </td><td>libd_chr1-chr1_all-6001-8000-dynamic-1corestotal-1corepera-20240402-150131                   </td><td>libd_chr1-chr1_all-8001-10000-dynamic-1corestotal-1corepera-20240402-150131                   </td></tr>\n",
       "\t<tr><td>time_started  </td><td>2024-04-02 15:02:36                                                                       </td><td>2024-04-02 15:04:30                                                                          </td><td>2024-04-02 15:05:35                                                                          </td><td>2024-04-02 15:05:28                                                                          </td><td>2024-04-02 15:23:03                                                                           </td></tr>\n",
       "\t<tr><td>time_finished </td><td>2024-04-02 17:38:10                                                                       </td><td>2024-04-02 17:08:55                                                                          </td><td>2024-04-02 16:53:03                                                                          </td><td>2024-04-02 16:00:10                                                                          </td><td>2024-04-02 17:53:51                                                                           </td></tr>\n",
       "\t<tr><td>runtime       </td><td>02:35:33                                                                                  </td><td>02:04:25                                                                                     </td><td>01:47:28                                                                                     </td><td>00:54:42                                                                                     </td><td>02:30:48                                                                                      </td></tr>\n",
       "\t<tr><td>type_CPU      </td><td>                      AMD Opteron(TM) Processor 6234                                      </td><td>                      AMD Opteron(tm) Processor 6380                                         </td><td>                      Intel(R) Xeon(R) CPU E5-2650L v3 @ 1.80GHz                             </td><td>                      Intel(R) Xeon(R) Gold 6338 CPU @ 2.00GHz                               </td><td>                      AMD Opteron(tm) Processor 6380                                          </td></tr>\n",
       "\t<tr><td>amount_RAM    </td><td>0.492048904299736                                                                         </td><td>0.476668052375317                                                                            </td><td>0.122735276818275                                                                            </td><td>0.491538614034653                                                                            </td><td>0.476668059825897                                                                             </td></tr>\n",
       "\t<tr><td>physical_cores</td><td>24                                                                                        </td><td>32                                                                                           </td><td>24                                                                                           </td><td>64                                                                                           </td><td>32                                                                                            </td></tr>\n",
       "\t<tr><td>scaffold_ID   </td><td>libd_chr1-chr1_all-libd_chr1-chr1_all-1-2000-dynamic-1corestotal-1corepera-20240402-150130</td><td>libd_chr1-chr1_all-libd_chr1-chr1_all-2001-4000-dynamic-1corestotal-1corepera-20240402-150131</td><td>libd_chr1-chr1_all-libd_chr1-chr1_all-4001-6000-dynamic-1corestotal-1corepera-20240402-150131</td><td>libd_chr1-chr1_all-libd_chr1-chr1_all-6001-8000-dynamic-1corestotal-1corepera-20240402-150131</td><td>libd_chr1-chr1_all-libd_chr1-chr1_all-8001-10000-dynamic-1corestotal-1corepera-20240402-150131</td></tr>\n",
       "</tbody>\n",
       "</table>\n"
      ],
      "text/latex": [
       "A tibble: 10 × 6\n",
       "\\begin{tabular}{llllll}\n",
       " Parameter & libd\\_chr1-chr1\\_all-libd\\_chr1-chr1\\_all-1-2000-dynamic-1corestotal-1corepera-20240402-150130-summary.csv & libd\\_chr1-chr1\\_all-libd\\_chr1-chr1\\_all-2001-4000-dynamic-1corestotal-1corepera-20240402-150131-summary.csv & libd\\_chr1-chr1\\_all-libd\\_chr1-chr1\\_all-4001-6000-dynamic-1corestotal-1corepera-20240402-150131-summary.csv & libd\\_chr1-chr1\\_all-libd\\_chr1-chr1\\_all-6001-8000-dynamic-1corestotal-1corepera-20240402-150131-summary.csv & libd\\_chr1-chr1\\_all-libd\\_chr1-chr1\\_all-8001-10000-dynamic-1corestotal-1corepera-20240402-150131-summary.csv\\\\\n",
       " <chr> & <chr> & <chr> & <chr> & <chr> & <chr>\\\\\n",
       "\\hline\n",
       "\t chunk1         & 1                                                                                          & 2001                                                                                          & 4001                                                                                          & 6001                                                                                          & 8001                                                                                          \\\\\n",
       "\t chunk2         & 2000                                                                                       & 4000                                                                                          & 6000                                                                                          & 8000                                                                                          & 10000                                                                                         \\\\\n",
       "\t tag            & libd\\_chr1-chr1\\_all-1-2000-dynamic-1corestotal-1corepera-20240402-150130                    & libd\\_chr1-chr1\\_all-2001-4000-dynamic-1corestotal-1corepera-20240402-150131                    & libd\\_chr1-chr1\\_all-4001-6000-dynamic-1corestotal-1corepera-20240402-150131                    & libd\\_chr1-chr1\\_all-6001-8000-dynamic-1corestotal-1corepera-20240402-150131                    & libd\\_chr1-chr1\\_all-8001-10000-dynamic-1corestotal-1corepera-20240402-150131                   \\\\\n",
       "\t time\\_started   & 2024-04-02 15:02:36                                                                        & 2024-04-02 15:04:30                                                                           & 2024-04-02 15:05:35                                                                           & 2024-04-02 15:05:28                                                                           & 2024-04-02 15:23:03                                                                           \\\\\n",
       "\t time\\_finished  & 2024-04-02 17:38:10                                                                        & 2024-04-02 17:08:55                                                                           & 2024-04-02 16:53:03                                                                           & 2024-04-02 16:00:10                                                                           & 2024-04-02 17:53:51                                                                           \\\\\n",
       "\t runtime        & 02:35:33                                                                                   & 02:04:25                                                                                      & 01:47:28                                                                                      & 00:54:42                                                                                      & 02:30:48                                                                                      \\\\\n",
       "\t type\\_CPU       &                       AMD Opteron(TM) Processor 6234                                       &                       AMD Opteron(tm) Processor 6380                                          &                       Intel(R) Xeon(R) CPU E5-2650L v3 @ 1.80GHz                              &                       Intel(R) Xeon(R) Gold 6338 CPU @ 2.00GHz                                &                       AMD Opteron(tm) Processor 6380                                          \\\\\n",
       "\t amount\\_RAM     & 0.492048904299736                                                                          & 0.476668052375317                                                                             & 0.122735276818275                                                                             & 0.491538614034653                                                                             & 0.476668059825897                                                                             \\\\\n",
       "\t physical\\_cores & 24                                                                                         & 32                                                                                            & 24                                                                                            & 64                                                                                            & 32                                                                                            \\\\\n",
       "\t scaffold\\_ID    & libd\\_chr1-chr1\\_all-libd\\_chr1-chr1\\_all-1-2000-dynamic-1corestotal-1corepera-20240402-150130 & libd\\_chr1-chr1\\_all-libd\\_chr1-chr1\\_all-2001-4000-dynamic-1corestotal-1corepera-20240402-150131 & libd\\_chr1-chr1\\_all-libd\\_chr1-chr1\\_all-4001-6000-dynamic-1corestotal-1corepera-20240402-150131 & libd\\_chr1-chr1\\_all-libd\\_chr1-chr1\\_all-6001-8000-dynamic-1corestotal-1corepera-20240402-150131 & libd\\_chr1-chr1\\_all-libd\\_chr1-chr1\\_all-8001-10000-dynamic-1corestotal-1corepera-20240402-150131\\\\\n",
       "\\end{tabular}\n"
      ],
      "text/markdown": [
       "\n",
       "A tibble: 10 × 6\n",
       "\n",
       "| Parameter &lt;chr&gt; | libd_chr1-chr1_all-libd_chr1-chr1_all-1-2000-dynamic-1corestotal-1corepera-20240402-150130-summary.csv &lt;chr&gt; | libd_chr1-chr1_all-libd_chr1-chr1_all-2001-4000-dynamic-1corestotal-1corepera-20240402-150131-summary.csv &lt;chr&gt; | libd_chr1-chr1_all-libd_chr1-chr1_all-4001-6000-dynamic-1corestotal-1corepera-20240402-150131-summary.csv &lt;chr&gt; | libd_chr1-chr1_all-libd_chr1-chr1_all-6001-8000-dynamic-1corestotal-1corepera-20240402-150131-summary.csv &lt;chr&gt; | libd_chr1-chr1_all-libd_chr1-chr1_all-8001-10000-dynamic-1corestotal-1corepera-20240402-150131-summary.csv &lt;chr&gt; |\n",
       "|---|---|---|---|---|---|\n",
       "| chunk1         | 1                                                                                          | 2001                                                                                          | 4001                                                                                          | 6001                                                                                          | 8001                                                                                           |\n",
       "| chunk2         | 2000                                                                                       | 4000                                                                                          | 6000                                                                                          | 8000                                                                                          | 10000                                                                                          |\n",
       "| tag            | libd_chr1-chr1_all-1-2000-dynamic-1corestotal-1corepera-20240402-150130                    | libd_chr1-chr1_all-2001-4000-dynamic-1corestotal-1corepera-20240402-150131                    | libd_chr1-chr1_all-4001-6000-dynamic-1corestotal-1corepera-20240402-150131                    | libd_chr1-chr1_all-6001-8000-dynamic-1corestotal-1corepera-20240402-150131                    | libd_chr1-chr1_all-8001-10000-dynamic-1corestotal-1corepera-20240402-150131                    |\n",
       "| time_started   | 2024-04-02 15:02:36                                                                        | 2024-04-02 15:04:30                                                                           | 2024-04-02 15:05:35                                                                           | 2024-04-02 15:05:28                                                                           | 2024-04-02 15:23:03                                                                            |\n",
       "| time_finished  | 2024-04-02 17:38:10                                                                        | 2024-04-02 17:08:55                                                                           | 2024-04-02 16:53:03                                                                           | 2024-04-02 16:00:10                                                                           | 2024-04-02 17:53:51                                                                            |\n",
       "| runtime        | 02:35:33                                                                                   | 02:04:25                                                                                      | 01:47:28                                                                                      | 00:54:42                                                                                      | 02:30:48                                                                                       |\n",
       "| type_CPU       |                       AMD Opteron(TM) Processor 6234                                       |                       AMD Opteron(tm) Processor 6380                                          |                       Intel(R) Xeon(R) CPU E5-2650L v3 @ 1.80GHz                              |                       Intel(R) Xeon(R) Gold 6338 CPU @ 2.00GHz                                |                       AMD Opteron(tm) Processor 6380                                           |\n",
       "| amount_RAM     | 0.492048904299736                                                                          | 0.476668052375317                                                                             | 0.122735276818275                                                                             | 0.491538614034653                                                                             | 0.476668059825897                                                                              |\n",
       "| physical_cores | 24                                                                                         | 32                                                                                            | 24                                                                                            | 64                                                                                            | 32                                                                                             |\n",
       "| scaffold_ID    | libd_chr1-chr1_all-libd_chr1-chr1_all-1-2000-dynamic-1corestotal-1corepera-20240402-150130 | libd_chr1-chr1_all-libd_chr1-chr1_all-2001-4000-dynamic-1corestotal-1corepera-20240402-150131 | libd_chr1-chr1_all-libd_chr1-chr1_all-4001-6000-dynamic-1corestotal-1corepera-20240402-150131 | libd_chr1-chr1_all-libd_chr1-chr1_all-6001-8000-dynamic-1corestotal-1corepera-20240402-150131 | libd_chr1-chr1_all-libd_chr1-chr1_all-8001-10000-dynamic-1corestotal-1corepera-20240402-150131 |\n",
       "\n"
      ],
      "text/plain": [
       "   Parameter     \n",
       "1  chunk1        \n",
       "2  chunk2        \n",
       "3  tag           \n",
       "4  time_started  \n",
       "5  time_finished \n",
       "6  runtime       \n",
       "7  type_CPU      \n",
       "8  amount_RAM    \n",
       "9  physical_cores\n",
       "10 scaffold_ID   \n",
       "   libd_chr1-chr1_all-libd_chr1-chr1_all-1-2000-dynamic-1corestotal-1corepera-20240402-150130-summary.csv\n",
       "1  1                                                                                                     \n",
       "2  2000                                                                                                  \n",
       "3  libd_chr1-chr1_all-1-2000-dynamic-1corestotal-1corepera-20240402-150130                               \n",
       "4  2024-04-02 15:02:36                                                                                   \n",
       "5  2024-04-02 17:38:10                                                                                   \n",
       "6  02:35:33                                                                                              \n",
       "7                        AMD Opteron(TM) Processor 6234                                                  \n",
       "8  0.492048904299736                                                                                     \n",
       "9  24                                                                                                    \n",
       "10 libd_chr1-chr1_all-libd_chr1-chr1_all-1-2000-dynamic-1corestotal-1corepera-20240402-150130            \n",
       "   libd_chr1-chr1_all-libd_chr1-chr1_all-2001-4000-dynamic-1corestotal-1corepera-20240402-150131-summary.csv\n",
       "1  2001                                                                                                     \n",
       "2  4000                                                                                                     \n",
       "3  libd_chr1-chr1_all-2001-4000-dynamic-1corestotal-1corepera-20240402-150131                               \n",
       "4  2024-04-02 15:04:30                                                                                      \n",
       "5  2024-04-02 17:08:55                                                                                      \n",
       "6  02:04:25                                                                                                 \n",
       "7                        AMD Opteron(tm) Processor 6380                                                     \n",
       "8  0.476668052375317                                                                                        \n",
       "9  32                                                                                                       \n",
       "10 libd_chr1-chr1_all-libd_chr1-chr1_all-2001-4000-dynamic-1corestotal-1corepera-20240402-150131            \n",
       "   libd_chr1-chr1_all-libd_chr1-chr1_all-4001-6000-dynamic-1corestotal-1corepera-20240402-150131-summary.csv\n",
       "1  4001                                                                                                     \n",
       "2  6000                                                                                                     \n",
       "3  libd_chr1-chr1_all-4001-6000-dynamic-1corestotal-1corepera-20240402-150131                               \n",
       "4  2024-04-02 15:05:35                                                                                      \n",
       "5  2024-04-02 16:53:03                                                                                      \n",
       "6  01:47:28                                                                                                 \n",
       "7                        Intel(R) Xeon(R) CPU E5-2650L v3 @ 1.80GHz                                         \n",
       "8  0.122735276818275                                                                                        \n",
       "9  24                                                                                                       \n",
       "10 libd_chr1-chr1_all-libd_chr1-chr1_all-4001-6000-dynamic-1corestotal-1corepera-20240402-150131            \n",
       "   libd_chr1-chr1_all-libd_chr1-chr1_all-6001-8000-dynamic-1corestotal-1corepera-20240402-150131-summary.csv\n",
       "1  6001                                                                                                     \n",
       "2  8000                                                                                                     \n",
       "3  libd_chr1-chr1_all-6001-8000-dynamic-1corestotal-1corepera-20240402-150131                               \n",
       "4  2024-04-02 15:05:28                                                                                      \n",
       "5  2024-04-02 16:00:10                                                                                      \n",
       "6  00:54:42                                                                                                 \n",
       "7                        Intel(R) Xeon(R) Gold 6338 CPU @ 2.00GHz                                           \n",
       "8  0.491538614034653                                                                                        \n",
       "9  64                                                                                                       \n",
       "10 libd_chr1-chr1_all-libd_chr1-chr1_all-6001-8000-dynamic-1corestotal-1corepera-20240402-150131            \n",
       "   libd_chr1-chr1_all-libd_chr1-chr1_all-8001-10000-dynamic-1corestotal-1corepera-20240402-150131-summary.csv\n",
       "1  8001                                                                                                      \n",
       "2  10000                                                                                                     \n",
       "3  libd_chr1-chr1_all-8001-10000-dynamic-1corestotal-1corepera-20240402-150131                               \n",
       "4  2024-04-02 15:23:03                                                                                       \n",
       "5  2024-04-02 17:53:51                                                                                       \n",
       "6  02:30:48                                                                                                  \n",
       "7                        AMD Opteron(tm) Processor 6380                                                      \n",
       "8  0.476668059825897                                                                                         \n",
       "9  32                                                                                                        \n",
       "10 libd_chr1-chr1_all-libd_chr1-chr1_all-8001-10000-dynamic-1corestotal-1corepera-20240402-150131            "
      ]
     },
     "metadata": {},
     "output_type": "display_data"
    }
   ],
   "source": [
    "directory <- \"/dcs04/lieber/statsgen/mnagle/mwas/CpGWAS/output/\"\n",
    "summary_table <- read_and_summarize_differences(directory)\n",
    "summary_table"
   ]
  },
  {
   "cell_type": "markdown",
   "id": "3d9b6d61-07ee-4325-aa0e-b908cf24449e",
   "metadata": {},
   "source": [
    "## Compute core-hours per test"
   ]
  },
  {
   "cell_type": "code",
   "execution_count": 3,
   "id": "a231ce51-2bbc-4893-bca6-ec8a521ca029",
   "metadata": {},
   "outputs": [
    {
     "data": {
      "text/html": [
       "10000"
      ],
      "text/latex": [
       "10000"
      ],
      "text/markdown": [
       "10000"
      ],
      "text/plain": [
       "[1] 10000"
      ]
     },
     "metadata": {},
     "output_type": "display_data"
    }
   ],
   "source": [
    "windows <- c(10000)\n",
    "n_windows <- length(windows)\n",
    "alphas <- 0.5 #seq(0, 1, .25) # left out 0 on first run\n",
    "n_alphas <- length(alphas)\n",
    "chunks <- 10000\n",
    "n_tests <- n_windows * n_alphas * chunks\n",
    "n_tests"
   ]
  },
  {
   "cell_type": "code",
   "execution_count": 4,
   "id": "72d144e0-9151-4871-9bf4-adb32a555e9b",
   "metadata": {},
   "outputs": [
    {
     "data": {
      "text/html": [
       "0.5"
      ],
      "text/latex": [
       "0.5"
      ],
      "text/markdown": [
       "0.5"
      ],
      "text/plain": [
       "[1] 0.5"
      ]
     },
     "metadata": {},
     "output_type": "display_data"
    }
   ],
   "source": [
    "alphas"
   ]
  },
  {
   "cell_type": "code",
   "execution_count": 5,
   "id": "fc628bd0-2b8a-4d25-b0df-6e3836e0fa11",
   "metadata": {},
   "outputs": [
    {
     "data": {
      "text/html": [
       "<style>\n",
       ".list-inline {list-style: none; margin:0; padding: 0}\n",
       ".list-inline>li {display: inline-block}\n",
       ".list-inline>li:not(:last-child)::after {content: \"\\00b7\"; padding: 0 .5ex}\n",
       "</style>\n",
       "<ol class=list-inline><li>'Parameter'</li><li>'libd_chr1-chr1_all-libd_chr1-chr1_all-1-2000-dynamic-1corestotal-1corepera-20240402-150130-summary.csv'</li><li>'libd_chr1-chr1_all-libd_chr1-chr1_all-2001-4000-dynamic-1corestotal-1corepera-20240402-150131-summary.csv'</li><li>'libd_chr1-chr1_all-libd_chr1-chr1_all-4001-6000-dynamic-1corestotal-1corepera-20240402-150131-summary.csv'</li><li>'libd_chr1-chr1_all-libd_chr1-chr1_all-6001-8000-dynamic-1corestotal-1corepera-20240402-150131-summary.csv'</li><li>'libd_chr1-chr1_all-libd_chr1-chr1_all-8001-10000-dynamic-1corestotal-1corepera-20240402-150131-summary.csv'</li></ol>\n"
      ],
      "text/latex": [
       "\\begin{enumerate*}\n",
       "\\item 'Parameter'\n",
       "\\item 'libd\\_chr1-chr1\\_all-libd\\_chr1-chr1\\_all-1-2000-dynamic-1corestotal-1corepera-20240402-150130-summary.csv'\n",
       "\\item 'libd\\_chr1-chr1\\_all-libd\\_chr1-chr1\\_all-2001-4000-dynamic-1corestotal-1corepera-20240402-150131-summary.csv'\n",
       "\\item 'libd\\_chr1-chr1\\_all-libd\\_chr1-chr1\\_all-4001-6000-dynamic-1corestotal-1corepera-20240402-150131-summary.csv'\n",
       "\\item 'libd\\_chr1-chr1\\_all-libd\\_chr1-chr1\\_all-6001-8000-dynamic-1corestotal-1corepera-20240402-150131-summary.csv'\n",
       "\\item 'libd\\_chr1-chr1\\_all-libd\\_chr1-chr1\\_all-8001-10000-dynamic-1corestotal-1corepera-20240402-150131-summary.csv'\n",
       "\\end{enumerate*}\n"
      ],
      "text/markdown": [
       "1. 'Parameter'\n",
       "2. 'libd_chr1-chr1_all-libd_chr1-chr1_all-1-2000-dynamic-1corestotal-1corepera-20240402-150130-summary.csv'\n",
       "3. 'libd_chr1-chr1_all-libd_chr1-chr1_all-2001-4000-dynamic-1corestotal-1corepera-20240402-150131-summary.csv'\n",
       "4. 'libd_chr1-chr1_all-libd_chr1-chr1_all-4001-6000-dynamic-1corestotal-1corepera-20240402-150131-summary.csv'\n",
       "5. 'libd_chr1-chr1_all-libd_chr1-chr1_all-6001-8000-dynamic-1corestotal-1corepera-20240402-150131-summary.csv'\n",
       "6. 'libd_chr1-chr1_all-libd_chr1-chr1_all-8001-10000-dynamic-1corestotal-1corepera-20240402-150131-summary.csv'\n",
       "\n",
       "\n"
      ],
      "text/plain": [
       "[1] \"Parameter\"                                                                                                 \n",
       "[2] \"libd_chr1-chr1_all-libd_chr1-chr1_all-1-2000-dynamic-1corestotal-1corepera-20240402-150130-summary.csv\"    \n",
       "[3] \"libd_chr1-chr1_all-libd_chr1-chr1_all-2001-4000-dynamic-1corestotal-1corepera-20240402-150131-summary.csv\" \n",
       "[4] \"libd_chr1-chr1_all-libd_chr1-chr1_all-4001-6000-dynamic-1corestotal-1corepera-20240402-150131-summary.csv\" \n",
       "[5] \"libd_chr1-chr1_all-libd_chr1-chr1_all-6001-8000-dynamic-1corestotal-1corepera-20240402-150131-summary.csv\" \n",
       "[6] \"libd_chr1-chr1_all-libd_chr1-chr1_all-8001-10000-dynamic-1corestotal-1corepera-20240402-150131-summary.csv\""
      ]
     },
     "metadata": {},
     "output_type": "display_data"
    }
   ],
   "source": [
    "colnames(summary_table)"
   ]
  },
  {
   "cell_type": "code",
   "execution_count": 6,
   "id": "dc35e0ef-9890-488d-aacb-b76370b8069e",
   "metadata": {},
   "outputs": [
    {
     "data": {
      "text/html": [
       "<table class=\"dataframe\">\n",
       "<caption>A tibble: 10 × 6</caption>\n",
       "<thead>\n",
       "\t<tr><th scope=col>Parameter</th><th scope=col>libd_chr1-chr1_all-libd_chr1-chr1_all-1-2000-dynamic-1corestotal-1corepera-20240402-150130-summary.csv</th><th scope=col>libd_chr1-chr1_all-libd_chr1-chr1_all-2001-4000-dynamic-1corestotal-1corepera-20240402-150131-summary.csv</th><th scope=col>libd_chr1-chr1_all-libd_chr1-chr1_all-4001-6000-dynamic-1corestotal-1corepera-20240402-150131-summary.csv</th><th scope=col>libd_chr1-chr1_all-libd_chr1-chr1_all-6001-8000-dynamic-1corestotal-1corepera-20240402-150131-summary.csv</th><th scope=col>libd_chr1-chr1_all-libd_chr1-chr1_all-8001-10000-dynamic-1corestotal-1corepera-20240402-150131-summary.csv</th></tr>\n",
       "\t<tr><th scope=col>&lt;chr&gt;</th><th scope=col>&lt;chr&gt;</th><th scope=col>&lt;chr&gt;</th><th scope=col>&lt;chr&gt;</th><th scope=col>&lt;chr&gt;</th><th scope=col>&lt;chr&gt;</th></tr>\n",
       "</thead>\n",
       "<tbody>\n",
       "\t<tr><td>chunk1        </td><td>1                                                                                         </td><td>2001                                                                                         </td><td>4001                                                                                         </td><td>6001                                                                                         </td><td>8001                                                                                          </td></tr>\n",
       "\t<tr><td>chunk2        </td><td>2000                                                                                      </td><td>4000                                                                                         </td><td>6000                                                                                         </td><td>8000                                                                                         </td><td>10000                                                                                         </td></tr>\n",
       "\t<tr><td>tag           </td><td>libd_chr1-chr1_all-1-2000-dynamic-1corestotal-1corepera-20240402-150130                   </td><td>libd_chr1-chr1_all-2001-4000-dynamic-1corestotal-1corepera-20240402-150131                   </td><td>libd_chr1-chr1_all-4001-6000-dynamic-1corestotal-1corepera-20240402-150131                   </td><td>libd_chr1-chr1_all-6001-8000-dynamic-1corestotal-1corepera-20240402-150131                   </td><td>libd_chr1-chr1_all-8001-10000-dynamic-1corestotal-1corepera-20240402-150131                   </td></tr>\n",
       "\t<tr><td>time_started  </td><td>2024-04-02 15:02:36                                                                       </td><td>2024-04-02 15:04:30                                                                          </td><td>2024-04-02 15:05:35                                                                          </td><td>2024-04-02 15:05:28                                                                          </td><td>2024-04-02 15:23:03                                                                           </td></tr>\n",
       "\t<tr><td>time_finished </td><td>2024-04-02 17:38:10                                                                       </td><td>2024-04-02 17:08:55                                                                          </td><td>2024-04-02 16:53:03                                                                          </td><td>2024-04-02 16:00:10                                                                          </td><td>2024-04-02 17:53:51                                                                           </td></tr>\n",
       "\t<tr><td>runtime       </td><td>02:35:33                                                                                  </td><td>02:04:25                                                                                     </td><td>01:47:28                                                                                     </td><td>00:54:42                                                                                     </td><td>02:30:48                                                                                      </td></tr>\n",
       "\t<tr><td>type_CPU      </td><td>                      AMD Opteron(TM) Processor 6234                                      </td><td>                      AMD Opteron(tm) Processor 6380                                         </td><td>                      Intel(R) Xeon(R) CPU E5-2650L v3 @ 1.80GHz                             </td><td>                      Intel(R) Xeon(R) Gold 6338 CPU @ 2.00GHz                               </td><td>                      AMD Opteron(tm) Processor 6380                                          </td></tr>\n",
       "\t<tr><td>amount_RAM    </td><td>0.492048904299736                                                                         </td><td>0.476668052375317                                                                            </td><td>0.122735276818275                                                                            </td><td>0.491538614034653                                                                            </td><td>0.476668059825897                                                                             </td></tr>\n",
       "\t<tr><td>physical_cores</td><td>24                                                                                        </td><td>32                                                                                           </td><td>24                                                                                           </td><td>64                                                                                           </td><td>32                                                                                            </td></tr>\n",
       "\t<tr><td>scaffold_ID   </td><td>libd_chr1-chr1_all-libd_chr1-chr1_all-1-2000-dynamic-1corestotal-1corepera-20240402-150130</td><td>libd_chr1-chr1_all-libd_chr1-chr1_all-2001-4000-dynamic-1corestotal-1corepera-20240402-150131</td><td>libd_chr1-chr1_all-libd_chr1-chr1_all-4001-6000-dynamic-1corestotal-1corepera-20240402-150131</td><td>libd_chr1-chr1_all-libd_chr1-chr1_all-6001-8000-dynamic-1corestotal-1corepera-20240402-150131</td><td>libd_chr1-chr1_all-libd_chr1-chr1_all-8001-10000-dynamic-1corestotal-1corepera-20240402-150131</td></tr>\n",
       "</tbody>\n",
       "</table>\n"
      ],
      "text/latex": [
       "A tibble: 10 × 6\n",
       "\\begin{tabular}{llllll}\n",
       " Parameter & libd\\_chr1-chr1\\_all-libd\\_chr1-chr1\\_all-1-2000-dynamic-1corestotal-1corepera-20240402-150130-summary.csv & libd\\_chr1-chr1\\_all-libd\\_chr1-chr1\\_all-2001-4000-dynamic-1corestotal-1corepera-20240402-150131-summary.csv & libd\\_chr1-chr1\\_all-libd\\_chr1-chr1\\_all-4001-6000-dynamic-1corestotal-1corepera-20240402-150131-summary.csv & libd\\_chr1-chr1\\_all-libd\\_chr1-chr1\\_all-6001-8000-dynamic-1corestotal-1corepera-20240402-150131-summary.csv & libd\\_chr1-chr1\\_all-libd\\_chr1-chr1\\_all-8001-10000-dynamic-1corestotal-1corepera-20240402-150131-summary.csv\\\\\n",
       " <chr> & <chr> & <chr> & <chr> & <chr> & <chr>\\\\\n",
       "\\hline\n",
       "\t chunk1         & 1                                                                                          & 2001                                                                                          & 4001                                                                                          & 6001                                                                                          & 8001                                                                                          \\\\\n",
       "\t chunk2         & 2000                                                                                       & 4000                                                                                          & 6000                                                                                          & 8000                                                                                          & 10000                                                                                         \\\\\n",
       "\t tag            & libd\\_chr1-chr1\\_all-1-2000-dynamic-1corestotal-1corepera-20240402-150130                    & libd\\_chr1-chr1\\_all-2001-4000-dynamic-1corestotal-1corepera-20240402-150131                    & libd\\_chr1-chr1\\_all-4001-6000-dynamic-1corestotal-1corepera-20240402-150131                    & libd\\_chr1-chr1\\_all-6001-8000-dynamic-1corestotal-1corepera-20240402-150131                    & libd\\_chr1-chr1\\_all-8001-10000-dynamic-1corestotal-1corepera-20240402-150131                   \\\\\n",
       "\t time\\_started   & 2024-04-02 15:02:36                                                                        & 2024-04-02 15:04:30                                                                           & 2024-04-02 15:05:35                                                                           & 2024-04-02 15:05:28                                                                           & 2024-04-02 15:23:03                                                                           \\\\\n",
       "\t time\\_finished  & 2024-04-02 17:38:10                                                                        & 2024-04-02 17:08:55                                                                           & 2024-04-02 16:53:03                                                                           & 2024-04-02 16:00:10                                                                           & 2024-04-02 17:53:51                                                                           \\\\\n",
       "\t runtime        & 02:35:33                                                                                   & 02:04:25                                                                                      & 01:47:28                                                                                      & 00:54:42                                                                                      & 02:30:48                                                                                      \\\\\n",
       "\t type\\_CPU       &                       AMD Opteron(TM) Processor 6234                                       &                       AMD Opteron(tm) Processor 6380                                          &                       Intel(R) Xeon(R) CPU E5-2650L v3 @ 1.80GHz                              &                       Intel(R) Xeon(R) Gold 6338 CPU @ 2.00GHz                                &                       AMD Opteron(tm) Processor 6380                                          \\\\\n",
       "\t amount\\_RAM     & 0.492048904299736                                                                          & 0.476668052375317                                                                             & 0.122735276818275                                                                             & 0.491538614034653                                                                             & 0.476668059825897                                                                             \\\\\n",
       "\t physical\\_cores & 24                                                                                         & 32                                                                                            & 24                                                                                            & 64                                                                                            & 32                                                                                            \\\\\n",
       "\t scaffold\\_ID    & libd\\_chr1-chr1\\_all-libd\\_chr1-chr1\\_all-1-2000-dynamic-1corestotal-1corepera-20240402-150130 & libd\\_chr1-chr1\\_all-libd\\_chr1-chr1\\_all-2001-4000-dynamic-1corestotal-1corepera-20240402-150131 & libd\\_chr1-chr1\\_all-libd\\_chr1-chr1\\_all-4001-6000-dynamic-1corestotal-1corepera-20240402-150131 & libd\\_chr1-chr1\\_all-libd\\_chr1-chr1\\_all-6001-8000-dynamic-1corestotal-1corepera-20240402-150131 & libd\\_chr1-chr1\\_all-libd\\_chr1-chr1\\_all-8001-10000-dynamic-1corestotal-1corepera-20240402-150131\\\\\n",
       "\\end{tabular}\n"
      ],
      "text/markdown": [
       "\n",
       "A tibble: 10 × 6\n",
       "\n",
       "| Parameter &lt;chr&gt; | libd_chr1-chr1_all-libd_chr1-chr1_all-1-2000-dynamic-1corestotal-1corepera-20240402-150130-summary.csv &lt;chr&gt; | libd_chr1-chr1_all-libd_chr1-chr1_all-2001-4000-dynamic-1corestotal-1corepera-20240402-150131-summary.csv &lt;chr&gt; | libd_chr1-chr1_all-libd_chr1-chr1_all-4001-6000-dynamic-1corestotal-1corepera-20240402-150131-summary.csv &lt;chr&gt; | libd_chr1-chr1_all-libd_chr1-chr1_all-6001-8000-dynamic-1corestotal-1corepera-20240402-150131-summary.csv &lt;chr&gt; | libd_chr1-chr1_all-libd_chr1-chr1_all-8001-10000-dynamic-1corestotal-1corepera-20240402-150131-summary.csv &lt;chr&gt; |\n",
       "|---|---|---|---|---|---|\n",
       "| chunk1         | 1                                                                                          | 2001                                                                                          | 4001                                                                                          | 6001                                                                                          | 8001                                                                                           |\n",
       "| chunk2         | 2000                                                                                       | 4000                                                                                          | 6000                                                                                          | 8000                                                                                          | 10000                                                                                          |\n",
       "| tag            | libd_chr1-chr1_all-1-2000-dynamic-1corestotal-1corepera-20240402-150130                    | libd_chr1-chr1_all-2001-4000-dynamic-1corestotal-1corepera-20240402-150131                    | libd_chr1-chr1_all-4001-6000-dynamic-1corestotal-1corepera-20240402-150131                    | libd_chr1-chr1_all-6001-8000-dynamic-1corestotal-1corepera-20240402-150131                    | libd_chr1-chr1_all-8001-10000-dynamic-1corestotal-1corepera-20240402-150131                    |\n",
       "| time_started   | 2024-04-02 15:02:36                                                                        | 2024-04-02 15:04:30                                                                           | 2024-04-02 15:05:35                                                                           | 2024-04-02 15:05:28                                                                           | 2024-04-02 15:23:03                                                                            |\n",
       "| time_finished  | 2024-04-02 17:38:10                                                                        | 2024-04-02 17:08:55                                                                           | 2024-04-02 16:53:03                                                                           | 2024-04-02 16:00:10                                                                           | 2024-04-02 17:53:51                                                                            |\n",
       "| runtime        | 02:35:33                                                                                   | 02:04:25                                                                                      | 01:47:28                                                                                      | 00:54:42                                                                                      | 02:30:48                                                                                       |\n",
       "| type_CPU       |                       AMD Opteron(TM) Processor 6234                                       |                       AMD Opteron(tm) Processor 6380                                          |                       Intel(R) Xeon(R) CPU E5-2650L v3 @ 1.80GHz                              |                       Intel(R) Xeon(R) Gold 6338 CPU @ 2.00GHz                                |                       AMD Opteron(tm) Processor 6380                                           |\n",
       "| amount_RAM     | 0.492048904299736                                                                          | 0.476668052375317                                                                             | 0.122735276818275                                                                             | 0.491538614034653                                                                             | 0.476668059825897                                                                              |\n",
       "| physical_cores | 24                                                                                         | 32                                                                                            | 24                                                                                            | 64                                                                                            | 32                                                                                             |\n",
       "| scaffold_ID    | libd_chr1-chr1_all-libd_chr1-chr1_all-1-2000-dynamic-1corestotal-1corepera-20240402-150130 | libd_chr1-chr1_all-libd_chr1-chr1_all-2001-4000-dynamic-1corestotal-1corepera-20240402-150131 | libd_chr1-chr1_all-libd_chr1-chr1_all-4001-6000-dynamic-1corestotal-1corepera-20240402-150131 | libd_chr1-chr1_all-libd_chr1-chr1_all-6001-8000-dynamic-1corestotal-1corepera-20240402-150131 | libd_chr1-chr1_all-libd_chr1-chr1_all-8001-10000-dynamic-1corestotal-1corepera-20240402-150131 |\n",
       "\n"
      ],
      "text/plain": [
       "   Parameter     \n",
       "1  chunk1        \n",
       "2  chunk2        \n",
       "3  tag           \n",
       "4  time_started  \n",
       "5  time_finished \n",
       "6  runtime       \n",
       "7  type_CPU      \n",
       "8  amount_RAM    \n",
       "9  physical_cores\n",
       "10 scaffold_ID   \n",
       "   libd_chr1-chr1_all-libd_chr1-chr1_all-1-2000-dynamic-1corestotal-1corepera-20240402-150130-summary.csv\n",
       "1  1                                                                                                     \n",
       "2  2000                                                                                                  \n",
       "3  libd_chr1-chr1_all-1-2000-dynamic-1corestotal-1corepera-20240402-150130                               \n",
       "4  2024-04-02 15:02:36                                                                                   \n",
       "5  2024-04-02 17:38:10                                                                                   \n",
       "6  02:35:33                                                                                              \n",
       "7                        AMD Opteron(TM) Processor 6234                                                  \n",
       "8  0.492048904299736                                                                                     \n",
       "9  24                                                                                                    \n",
       "10 libd_chr1-chr1_all-libd_chr1-chr1_all-1-2000-dynamic-1corestotal-1corepera-20240402-150130            \n",
       "   libd_chr1-chr1_all-libd_chr1-chr1_all-2001-4000-dynamic-1corestotal-1corepera-20240402-150131-summary.csv\n",
       "1  2001                                                                                                     \n",
       "2  4000                                                                                                     \n",
       "3  libd_chr1-chr1_all-2001-4000-dynamic-1corestotal-1corepera-20240402-150131                               \n",
       "4  2024-04-02 15:04:30                                                                                      \n",
       "5  2024-04-02 17:08:55                                                                                      \n",
       "6  02:04:25                                                                                                 \n",
       "7                        AMD Opteron(tm) Processor 6380                                                     \n",
       "8  0.476668052375317                                                                                        \n",
       "9  32                                                                                                       \n",
       "10 libd_chr1-chr1_all-libd_chr1-chr1_all-2001-4000-dynamic-1corestotal-1corepera-20240402-150131            \n",
       "   libd_chr1-chr1_all-libd_chr1-chr1_all-4001-6000-dynamic-1corestotal-1corepera-20240402-150131-summary.csv\n",
       "1  4001                                                                                                     \n",
       "2  6000                                                                                                     \n",
       "3  libd_chr1-chr1_all-4001-6000-dynamic-1corestotal-1corepera-20240402-150131                               \n",
       "4  2024-04-02 15:05:35                                                                                      \n",
       "5  2024-04-02 16:53:03                                                                                      \n",
       "6  01:47:28                                                                                                 \n",
       "7                        Intel(R) Xeon(R) CPU E5-2650L v3 @ 1.80GHz                                         \n",
       "8  0.122735276818275                                                                                        \n",
       "9  24                                                                                                       \n",
       "10 libd_chr1-chr1_all-libd_chr1-chr1_all-4001-6000-dynamic-1corestotal-1corepera-20240402-150131            \n",
       "   libd_chr1-chr1_all-libd_chr1-chr1_all-6001-8000-dynamic-1corestotal-1corepera-20240402-150131-summary.csv\n",
       "1  6001                                                                                                     \n",
       "2  8000                                                                                                     \n",
       "3  libd_chr1-chr1_all-6001-8000-dynamic-1corestotal-1corepera-20240402-150131                               \n",
       "4  2024-04-02 15:05:28                                                                                      \n",
       "5  2024-04-02 16:00:10                                                                                      \n",
       "6  00:54:42                                                                                                 \n",
       "7                        Intel(R) Xeon(R) Gold 6338 CPU @ 2.00GHz                                           \n",
       "8  0.491538614034653                                                                                        \n",
       "9  64                                                                                                       \n",
       "10 libd_chr1-chr1_all-libd_chr1-chr1_all-6001-8000-dynamic-1corestotal-1corepera-20240402-150131            \n",
       "   libd_chr1-chr1_all-libd_chr1-chr1_all-8001-10000-dynamic-1corestotal-1corepera-20240402-150131-summary.csv\n",
       "1  8001                                                                                                      \n",
       "2  10000                                                                                                     \n",
       "3  libd_chr1-chr1_all-8001-10000-dynamic-1corestotal-1corepera-20240402-150131                               \n",
       "4  2024-04-02 15:23:03                                                                                       \n",
       "5  2024-04-02 17:53:51                                                                                       \n",
       "6  02:30:48                                                                                                  \n",
       "7                        AMD Opteron(tm) Processor 6380                                                      \n",
       "8  0.476668059825897                                                                                         \n",
       "9  32                                                                                                        \n",
       "10 libd_chr1-chr1_all-libd_chr1-chr1_all-8001-10000-dynamic-1corestotal-1corepera-20240402-150131            "
      ]
     },
     "metadata": {},
     "output_type": "display_data"
    }
   ],
   "source": [
    "summary_table"
   ]
  },
  {
   "cell_type": "code",
   "execution_count": 7,
   "id": "31316e4d-dd97-43f5-98f8-1eef70fa37fb",
   "metadata": {},
   "outputs": [],
   "source": [
    "summary_table <- as.data.frame(t(summary_table))\n",
    "colnames(summary_table) <- summary_table[1, ]\n",
    "summary_table <- summary_table[-1, ]\n",
    "summary_table$number_cores <- 1"
   ]
  },
  {
   "cell_type": "code",
   "execution_count": 8,
   "id": "072acef6-5e8e-4a03-9647-c2b9eb2440b4",
   "metadata": {},
   "outputs": [],
   "source": [
    "summary_table$runtime_seconds <- sapply(summary_table$runtime, function(x) {\n",
    "  parts <- strsplit(x, \":\")[[1]]\n",
    "  as.numeric(parts[1]) * 3600 + as.numeric(parts[2]) * 60 + as.numeric(parts[3])\n",
    "})"
   ]
  },
  {
   "cell_type": "code",
   "execution_count": 9,
   "id": "643f9b4a-3d63-4d6c-a354-956fc42dc3f4",
   "metadata": {},
   "outputs": [],
   "source": [
    "summary_table$runtime_hours <- summary_table$runtime_seconds/3600"
   ]
  },
  {
   "cell_type": "code",
   "execution_count": 10,
   "id": "ca2f1caa-175f-407e-8a7e-166699164fad",
   "metadata": {},
   "outputs": [],
   "source": [
    "summary_table$runtime_core_hours <- summary_table$runtime_hours * summary_table$number_cores\n",
    "summary_table$runtime_core_seconds <- summary_table$runtime_seconds * summary_table$number_cores\n",
    "summary_table$core_hours_per_test <- summary_table$runtime_core_hours / n_tests\n",
    "summary_table$core_seconds_per_test <- summary_table$runtime_core_seconds / n_tests"
   ]
  },
  {
   "cell_type": "code",
   "execution_count": 11,
   "id": "6d784e30-2f15-4034-9b2c-ab404913bb98",
   "metadata": {},
   "outputs": [
    {
     "data": {
      "text/html": [
       "<table class=\"dataframe\">\n",
       "<caption>A data.frame: 5 × 17</caption>\n",
       "<thead>\n",
       "\t<tr><th></th><th scope=col>chunk1</th><th scope=col>chunk2</th><th scope=col>tag</th><th scope=col>time_started</th><th scope=col>time_finished</th><th scope=col>runtime</th><th scope=col>type_CPU</th><th scope=col>amount_RAM</th><th scope=col>physical_cores</th><th scope=col>scaffold_ID</th><th scope=col>number_cores</th><th scope=col>runtime_seconds</th><th scope=col>runtime_hours</th><th scope=col>runtime_core_hours</th><th scope=col>runtime_core_seconds</th><th scope=col>core_hours_per_test</th><th scope=col>core_seconds_per_test</th></tr>\n",
       "\t<tr><th></th><th scope=col>&lt;chr&gt;</th><th scope=col>&lt;chr&gt;</th><th scope=col>&lt;chr&gt;</th><th scope=col>&lt;chr&gt;</th><th scope=col>&lt;chr&gt;</th><th scope=col>&lt;chr&gt;</th><th scope=col>&lt;chr&gt;</th><th scope=col>&lt;chr&gt;</th><th scope=col>&lt;chr&gt;</th><th scope=col>&lt;chr&gt;</th><th scope=col>&lt;dbl&gt;</th><th scope=col>&lt;dbl&gt;</th><th scope=col>&lt;dbl&gt;</th><th scope=col>&lt;dbl&gt;</th><th scope=col>&lt;dbl&gt;</th><th scope=col>&lt;dbl&gt;</th><th scope=col>&lt;dbl&gt;</th></tr>\n",
       "</thead>\n",
       "<tbody>\n",
       "\t<tr><th scope=row>libd_chr1-chr1_all-libd_chr1-chr1_all-1-2000-dynamic-1corestotal-1corepera-20240402-150130-summary.csv</th><td>1   </td><td>2000 </td><td>libd_chr1-chr1_all-1-2000-dynamic-1corestotal-1corepera-20240402-150130    </td><td>2024-04-02 15:02:36</td><td>2024-04-02 17:38:10</td><td>02:35:33</td><td>                      AMD Opteron(TM) Processor 6234            </td><td>0.492048904299736</td><td>24</td><td>libd_chr1-chr1_all-libd_chr1-chr1_all-1-2000-dynamic-1corestotal-1corepera-20240402-150130    </td><td>1</td><td>9333</td><td>2.5925000</td><td>2.5925000</td><td>9333</td><td>2.592500e-04</td><td>0.9333</td></tr>\n",
       "\t<tr><th scope=row>libd_chr1-chr1_all-libd_chr1-chr1_all-2001-4000-dynamic-1corestotal-1corepera-20240402-150131-summary.csv</th><td>2001</td><td>4000 </td><td>libd_chr1-chr1_all-2001-4000-dynamic-1corestotal-1corepera-20240402-150131 </td><td>2024-04-02 15:04:30</td><td>2024-04-02 17:08:55</td><td>02:04:25</td><td>                      AMD Opteron(tm) Processor 6380            </td><td>0.476668052375317</td><td>32</td><td>libd_chr1-chr1_all-libd_chr1-chr1_all-2001-4000-dynamic-1corestotal-1corepera-20240402-150131 </td><td>1</td><td>7465</td><td>2.0736111</td><td>2.0736111</td><td>7465</td><td>2.073611e-04</td><td>0.7465</td></tr>\n",
       "\t<tr><th scope=row>libd_chr1-chr1_all-libd_chr1-chr1_all-4001-6000-dynamic-1corestotal-1corepera-20240402-150131-summary.csv</th><td>4001</td><td>6000 </td><td>libd_chr1-chr1_all-4001-6000-dynamic-1corestotal-1corepera-20240402-150131 </td><td>2024-04-02 15:05:35</td><td>2024-04-02 16:53:03</td><td>01:47:28</td><td>                      Intel(R) Xeon(R) CPU E5-2650L v3 @ 1.80GHz</td><td>0.122735276818275</td><td>24</td><td>libd_chr1-chr1_all-libd_chr1-chr1_all-4001-6000-dynamic-1corestotal-1corepera-20240402-150131 </td><td>1</td><td>6448</td><td>1.7911111</td><td>1.7911111</td><td>6448</td><td>1.791111e-04</td><td>0.6448</td></tr>\n",
       "\t<tr><th scope=row>libd_chr1-chr1_all-libd_chr1-chr1_all-6001-8000-dynamic-1corestotal-1corepera-20240402-150131-summary.csv</th><td>6001</td><td>8000 </td><td>libd_chr1-chr1_all-6001-8000-dynamic-1corestotal-1corepera-20240402-150131 </td><td>2024-04-02 15:05:28</td><td>2024-04-02 16:00:10</td><td>00:54:42</td><td>                      Intel(R) Xeon(R) Gold 6338 CPU @ 2.00GHz  </td><td>0.491538614034653</td><td>64</td><td>libd_chr1-chr1_all-libd_chr1-chr1_all-6001-8000-dynamic-1corestotal-1corepera-20240402-150131 </td><td>1</td><td>3282</td><td>0.9116667</td><td>0.9116667</td><td>3282</td><td>9.116667e-05</td><td>0.3282</td></tr>\n",
       "\t<tr><th scope=row>libd_chr1-chr1_all-libd_chr1-chr1_all-8001-10000-dynamic-1corestotal-1corepera-20240402-150131-summary.csv</th><td>8001</td><td>10000</td><td>libd_chr1-chr1_all-8001-10000-dynamic-1corestotal-1corepera-20240402-150131</td><td>2024-04-02 15:23:03</td><td>2024-04-02 17:53:51</td><td>02:30:48</td><td>                      AMD Opteron(tm) Processor 6380            </td><td>0.476668059825897</td><td>32</td><td>libd_chr1-chr1_all-libd_chr1-chr1_all-8001-10000-dynamic-1corestotal-1corepera-20240402-150131</td><td>1</td><td>9048</td><td>2.5133333</td><td>2.5133333</td><td>9048</td><td>2.513333e-04</td><td>0.9048</td></tr>\n",
       "</tbody>\n",
       "</table>\n"
      ],
      "text/latex": [
       "A data.frame: 5 × 17\n",
       "\\begin{tabular}{r|lllllllllllllllll}\n",
       "  & chunk1 & chunk2 & tag & time\\_started & time\\_finished & runtime & type\\_CPU & amount\\_RAM & physical\\_cores & scaffold\\_ID & number\\_cores & runtime\\_seconds & runtime\\_hours & runtime\\_core\\_hours & runtime\\_core\\_seconds & core\\_hours\\_per\\_test & core\\_seconds\\_per\\_test\\\\\n",
       "  & <chr> & <chr> & <chr> & <chr> & <chr> & <chr> & <chr> & <chr> & <chr> & <chr> & <dbl> & <dbl> & <dbl> & <dbl> & <dbl> & <dbl> & <dbl>\\\\\n",
       "\\hline\n",
       "\tlibd\\_chr1-chr1\\_all-libd\\_chr1-chr1\\_all-1-2000-dynamic-1corestotal-1corepera-20240402-150130-summary.csv & 1    & 2000  & libd\\_chr1-chr1\\_all-1-2000-dynamic-1corestotal-1corepera-20240402-150130     & 2024-04-02 15:02:36 & 2024-04-02 17:38:10 & 02:35:33 &                       AMD Opteron(TM) Processor 6234             & 0.492048904299736 & 24 & libd\\_chr1-chr1\\_all-libd\\_chr1-chr1\\_all-1-2000-dynamic-1corestotal-1corepera-20240402-150130     & 1 & 9333 & 2.5925000 & 2.5925000 & 9333 & 2.592500e-04 & 0.9333\\\\\n",
       "\tlibd\\_chr1-chr1\\_all-libd\\_chr1-chr1\\_all-2001-4000-dynamic-1corestotal-1corepera-20240402-150131-summary.csv & 2001 & 4000  & libd\\_chr1-chr1\\_all-2001-4000-dynamic-1corestotal-1corepera-20240402-150131  & 2024-04-02 15:04:30 & 2024-04-02 17:08:55 & 02:04:25 &                       AMD Opteron(tm) Processor 6380             & 0.476668052375317 & 32 & libd\\_chr1-chr1\\_all-libd\\_chr1-chr1\\_all-2001-4000-dynamic-1corestotal-1corepera-20240402-150131  & 1 & 7465 & 2.0736111 & 2.0736111 & 7465 & 2.073611e-04 & 0.7465\\\\\n",
       "\tlibd\\_chr1-chr1\\_all-libd\\_chr1-chr1\\_all-4001-6000-dynamic-1corestotal-1corepera-20240402-150131-summary.csv & 4001 & 6000  & libd\\_chr1-chr1\\_all-4001-6000-dynamic-1corestotal-1corepera-20240402-150131  & 2024-04-02 15:05:35 & 2024-04-02 16:53:03 & 01:47:28 &                       Intel(R) Xeon(R) CPU E5-2650L v3 @ 1.80GHz & 0.122735276818275 & 24 & libd\\_chr1-chr1\\_all-libd\\_chr1-chr1\\_all-4001-6000-dynamic-1corestotal-1corepera-20240402-150131  & 1 & 6448 & 1.7911111 & 1.7911111 & 6448 & 1.791111e-04 & 0.6448\\\\\n",
       "\tlibd\\_chr1-chr1\\_all-libd\\_chr1-chr1\\_all-6001-8000-dynamic-1corestotal-1corepera-20240402-150131-summary.csv & 6001 & 8000  & libd\\_chr1-chr1\\_all-6001-8000-dynamic-1corestotal-1corepera-20240402-150131  & 2024-04-02 15:05:28 & 2024-04-02 16:00:10 & 00:54:42 &                       Intel(R) Xeon(R) Gold 6338 CPU @ 2.00GHz   & 0.491538614034653 & 64 & libd\\_chr1-chr1\\_all-libd\\_chr1-chr1\\_all-6001-8000-dynamic-1corestotal-1corepera-20240402-150131  & 1 & 3282 & 0.9116667 & 0.9116667 & 3282 & 9.116667e-05 & 0.3282\\\\\n",
       "\tlibd\\_chr1-chr1\\_all-libd\\_chr1-chr1\\_all-8001-10000-dynamic-1corestotal-1corepera-20240402-150131-summary.csv & 8001 & 10000 & libd\\_chr1-chr1\\_all-8001-10000-dynamic-1corestotal-1corepera-20240402-150131 & 2024-04-02 15:23:03 & 2024-04-02 17:53:51 & 02:30:48 &                       AMD Opteron(tm) Processor 6380             & 0.476668059825897 & 32 & libd\\_chr1-chr1\\_all-libd\\_chr1-chr1\\_all-8001-10000-dynamic-1corestotal-1corepera-20240402-150131 & 1 & 9048 & 2.5133333 & 2.5133333 & 9048 & 2.513333e-04 & 0.9048\\\\\n",
       "\\end{tabular}\n"
      ],
      "text/markdown": [
       "\n",
       "A data.frame: 5 × 17\n",
       "\n",
       "| <!--/--> | chunk1 &lt;chr&gt; | chunk2 &lt;chr&gt; | tag &lt;chr&gt; | time_started &lt;chr&gt; | time_finished &lt;chr&gt; | runtime &lt;chr&gt; | type_CPU &lt;chr&gt; | amount_RAM &lt;chr&gt; | physical_cores &lt;chr&gt; | scaffold_ID &lt;chr&gt; | number_cores &lt;dbl&gt; | runtime_seconds &lt;dbl&gt; | runtime_hours &lt;dbl&gt; | runtime_core_hours &lt;dbl&gt; | runtime_core_seconds &lt;dbl&gt; | core_hours_per_test &lt;dbl&gt; | core_seconds_per_test &lt;dbl&gt; |\n",
       "|---|---|---|---|---|---|---|---|---|---|---|---|---|---|---|---|---|---|\n",
       "| libd_chr1-chr1_all-libd_chr1-chr1_all-1-2000-dynamic-1corestotal-1corepera-20240402-150130-summary.csv | 1    | 2000  | libd_chr1-chr1_all-1-2000-dynamic-1corestotal-1corepera-20240402-150130     | 2024-04-02 15:02:36 | 2024-04-02 17:38:10 | 02:35:33 |                       AMD Opteron(TM) Processor 6234             | 0.492048904299736 | 24 | libd_chr1-chr1_all-libd_chr1-chr1_all-1-2000-dynamic-1corestotal-1corepera-20240402-150130     | 1 | 9333 | 2.5925000 | 2.5925000 | 9333 | 2.592500e-04 | 0.9333 |\n",
       "| libd_chr1-chr1_all-libd_chr1-chr1_all-2001-4000-dynamic-1corestotal-1corepera-20240402-150131-summary.csv | 2001 | 4000  | libd_chr1-chr1_all-2001-4000-dynamic-1corestotal-1corepera-20240402-150131  | 2024-04-02 15:04:30 | 2024-04-02 17:08:55 | 02:04:25 |                       AMD Opteron(tm) Processor 6380             | 0.476668052375317 | 32 | libd_chr1-chr1_all-libd_chr1-chr1_all-2001-4000-dynamic-1corestotal-1corepera-20240402-150131  | 1 | 7465 | 2.0736111 | 2.0736111 | 7465 | 2.073611e-04 | 0.7465 |\n",
       "| libd_chr1-chr1_all-libd_chr1-chr1_all-4001-6000-dynamic-1corestotal-1corepera-20240402-150131-summary.csv | 4001 | 6000  | libd_chr1-chr1_all-4001-6000-dynamic-1corestotal-1corepera-20240402-150131  | 2024-04-02 15:05:35 | 2024-04-02 16:53:03 | 01:47:28 |                       Intel(R) Xeon(R) CPU E5-2650L v3 @ 1.80GHz | 0.122735276818275 | 24 | libd_chr1-chr1_all-libd_chr1-chr1_all-4001-6000-dynamic-1corestotal-1corepera-20240402-150131  | 1 | 6448 | 1.7911111 | 1.7911111 | 6448 | 1.791111e-04 | 0.6448 |\n",
       "| libd_chr1-chr1_all-libd_chr1-chr1_all-6001-8000-dynamic-1corestotal-1corepera-20240402-150131-summary.csv | 6001 | 8000  | libd_chr1-chr1_all-6001-8000-dynamic-1corestotal-1corepera-20240402-150131  | 2024-04-02 15:05:28 | 2024-04-02 16:00:10 | 00:54:42 |                       Intel(R) Xeon(R) Gold 6338 CPU @ 2.00GHz   | 0.491538614034653 | 64 | libd_chr1-chr1_all-libd_chr1-chr1_all-6001-8000-dynamic-1corestotal-1corepera-20240402-150131  | 1 | 3282 | 0.9116667 | 0.9116667 | 3282 | 9.116667e-05 | 0.3282 |\n",
       "| libd_chr1-chr1_all-libd_chr1-chr1_all-8001-10000-dynamic-1corestotal-1corepera-20240402-150131-summary.csv | 8001 | 10000 | libd_chr1-chr1_all-8001-10000-dynamic-1corestotal-1corepera-20240402-150131 | 2024-04-02 15:23:03 | 2024-04-02 17:53:51 | 02:30:48 |                       AMD Opteron(tm) Processor 6380             | 0.476668059825897 | 32 | libd_chr1-chr1_all-libd_chr1-chr1_all-8001-10000-dynamic-1corestotal-1corepera-20240402-150131 | 1 | 9048 | 2.5133333 | 2.5133333 | 9048 | 2.513333e-04 | 0.9048 |\n",
       "\n"
      ],
      "text/plain": [
       "                                                                                                           chunk1\n",
       "libd_chr1-chr1_all-libd_chr1-chr1_all-1-2000-dynamic-1corestotal-1corepera-20240402-150130-summary.csv     1     \n",
       "libd_chr1-chr1_all-libd_chr1-chr1_all-2001-4000-dynamic-1corestotal-1corepera-20240402-150131-summary.csv  2001  \n",
       "libd_chr1-chr1_all-libd_chr1-chr1_all-4001-6000-dynamic-1corestotal-1corepera-20240402-150131-summary.csv  4001  \n",
       "libd_chr1-chr1_all-libd_chr1-chr1_all-6001-8000-dynamic-1corestotal-1corepera-20240402-150131-summary.csv  6001  \n",
       "libd_chr1-chr1_all-libd_chr1-chr1_all-8001-10000-dynamic-1corestotal-1corepera-20240402-150131-summary.csv 8001  \n",
       "                                                                                                           chunk2\n",
       "libd_chr1-chr1_all-libd_chr1-chr1_all-1-2000-dynamic-1corestotal-1corepera-20240402-150130-summary.csv     2000  \n",
       "libd_chr1-chr1_all-libd_chr1-chr1_all-2001-4000-dynamic-1corestotal-1corepera-20240402-150131-summary.csv  4000  \n",
       "libd_chr1-chr1_all-libd_chr1-chr1_all-4001-6000-dynamic-1corestotal-1corepera-20240402-150131-summary.csv  6000  \n",
       "libd_chr1-chr1_all-libd_chr1-chr1_all-6001-8000-dynamic-1corestotal-1corepera-20240402-150131-summary.csv  8000  \n",
       "libd_chr1-chr1_all-libd_chr1-chr1_all-8001-10000-dynamic-1corestotal-1corepera-20240402-150131-summary.csv 10000 \n",
       "                                                                                                           tag                                                                        \n",
       "libd_chr1-chr1_all-libd_chr1-chr1_all-1-2000-dynamic-1corestotal-1corepera-20240402-150130-summary.csv     libd_chr1-chr1_all-1-2000-dynamic-1corestotal-1corepera-20240402-150130    \n",
       "libd_chr1-chr1_all-libd_chr1-chr1_all-2001-4000-dynamic-1corestotal-1corepera-20240402-150131-summary.csv  libd_chr1-chr1_all-2001-4000-dynamic-1corestotal-1corepera-20240402-150131 \n",
       "libd_chr1-chr1_all-libd_chr1-chr1_all-4001-6000-dynamic-1corestotal-1corepera-20240402-150131-summary.csv  libd_chr1-chr1_all-4001-6000-dynamic-1corestotal-1corepera-20240402-150131 \n",
       "libd_chr1-chr1_all-libd_chr1-chr1_all-6001-8000-dynamic-1corestotal-1corepera-20240402-150131-summary.csv  libd_chr1-chr1_all-6001-8000-dynamic-1corestotal-1corepera-20240402-150131 \n",
       "libd_chr1-chr1_all-libd_chr1-chr1_all-8001-10000-dynamic-1corestotal-1corepera-20240402-150131-summary.csv libd_chr1-chr1_all-8001-10000-dynamic-1corestotal-1corepera-20240402-150131\n",
       "                                                                                                           time_started       \n",
       "libd_chr1-chr1_all-libd_chr1-chr1_all-1-2000-dynamic-1corestotal-1corepera-20240402-150130-summary.csv     2024-04-02 15:02:36\n",
       "libd_chr1-chr1_all-libd_chr1-chr1_all-2001-4000-dynamic-1corestotal-1corepera-20240402-150131-summary.csv  2024-04-02 15:04:30\n",
       "libd_chr1-chr1_all-libd_chr1-chr1_all-4001-6000-dynamic-1corestotal-1corepera-20240402-150131-summary.csv  2024-04-02 15:05:35\n",
       "libd_chr1-chr1_all-libd_chr1-chr1_all-6001-8000-dynamic-1corestotal-1corepera-20240402-150131-summary.csv  2024-04-02 15:05:28\n",
       "libd_chr1-chr1_all-libd_chr1-chr1_all-8001-10000-dynamic-1corestotal-1corepera-20240402-150131-summary.csv 2024-04-02 15:23:03\n",
       "                                                                                                           time_finished      \n",
       "libd_chr1-chr1_all-libd_chr1-chr1_all-1-2000-dynamic-1corestotal-1corepera-20240402-150130-summary.csv     2024-04-02 17:38:10\n",
       "libd_chr1-chr1_all-libd_chr1-chr1_all-2001-4000-dynamic-1corestotal-1corepera-20240402-150131-summary.csv  2024-04-02 17:08:55\n",
       "libd_chr1-chr1_all-libd_chr1-chr1_all-4001-6000-dynamic-1corestotal-1corepera-20240402-150131-summary.csv  2024-04-02 16:53:03\n",
       "libd_chr1-chr1_all-libd_chr1-chr1_all-6001-8000-dynamic-1corestotal-1corepera-20240402-150131-summary.csv  2024-04-02 16:00:10\n",
       "libd_chr1-chr1_all-libd_chr1-chr1_all-8001-10000-dynamic-1corestotal-1corepera-20240402-150131-summary.csv 2024-04-02 17:53:51\n",
       "                                                                                                           runtime \n",
       "libd_chr1-chr1_all-libd_chr1-chr1_all-1-2000-dynamic-1corestotal-1corepera-20240402-150130-summary.csv     02:35:33\n",
       "libd_chr1-chr1_all-libd_chr1-chr1_all-2001-4000-dynamic-1corestotal-1corepera-20240402-150131-summary.csv  02:04:25\n",
       "libd_chr1-chr1_all-libd_chr1-chr1_all-4001-6000-dynamic-1corestotal-1corepera-20240402-150131-summary.csv  01:47:28\n",
       "libd_chr1-chr1_all-libd_chr1-chr1_all-6001-8000-dynamic-1corestotal-1corepera-20240402-150131-summary.csv  00:54:42\n",
       "libd_chr1-chr1_all-libd_chr1-chr1_all-8001-10000-dynamic-1corestotal-1corepera-20240402-150131-summary.csv 02:30:48\n",
       "                                                                                                           type_CPU                                                        \n",
       "libd_chr1-chr1_all-libd_chr1-chr1_all-1-2000-dynamic-1corestotal-1corepera-20240402-150130-summary.csv                           AMD Opteron(TM) Processor 6234            \n",
       "libd_chr1-chr1_all-libd_chr1-chr1_all-2001-4000-dynamic-1corestotal-1corepera-20240402-150131-summary.csv                        AMD Opteron(tm) Processor 6380            \n",
       "libd_chr1-chr1_all-libd_chr1-chr1_all-4001-6000-dynamic-1corestotal-1corepera-20240402-150131-summary.csv                        Intel(R) Xeon(R) CPU E5-2650L v3 @ 1.80GHz\n",
       "libd_chr1-chr1_all-libd_chr1-chr1_all-6001-8000-dynamic-1corestotal-1corepera-20240402-150131-summary.csv                        Intel(R) Xeon(R) Gold 6338 CPU @ 2.00GHz  \n",
       "libd_chr1-chr1_all-libd_chr1-chr1_all-8001-10000-dynamic-1corestotal-1corepera-20240402-150131-summary.csv                       AMD Opteron(tm) Processor 6380            \n",
       "                                                                                                           amount_RAM       \n",
       "libd_chr1-chr1_all-libd_chr1-chr1_all-1-2000-dynamic-1corestotal-1corepera-20240402-150130-summary.csv     0.492048904299736\n",
       "libd_chr1-chr1_all-libd_chr1-chr1_all-2001-4000-dynamic-1corestotal-1corepera-20240402-150131-summary.csv  0.476668052375317\n",
       "libd_chr1-chr1_all-libd_chr1-chr1_all-4001-6000-dynamic-1corestotal-1corepera-20240402-150131-summary.csv  0.122735276818275\n",
       "libd_chr1-chr1_all-libd_chr1-chr1_all-6001-8000-dynamic-1corestotal-1corepera-20240402-150131-summary.csv  0.491538614034653\n",
       "libd_chr1-chr1_all-libd_chr1-chr1_all-8001-10000-dynamic-1corestotal-1corepera-20240402-150131-summary.csv 0.476668059825897\n",
       "                                                                                                           physical_cores\n",
       "libd_chr1-chr1_all-libd_chr1-chr1_all-1-2000-dynamic-1corestotal-1corepera-20240402-150130-summary.csv     24            \n",
       "libd_chr1-chr1_all-libd_chr1-chr1_all-2001-4000-dynamic-1corestotal-1corepera-20240402-150131-summary.csv  32            \n",
       "libd_chr1-chr1_all-libd_chr1-chr1_all-4001-6000-dynamic-1corestotal-1corepera-20240402-150131-summary.csv  24            \n",
       "libd_chr1-chr1_all-libd_chr1-chr1_all-6001-8000-dynamic-1corestotal-1corepera-20240402-150131-summary.csv  64            \n",
       "libd_chr1-chr1_all-libd_chr1-chr1_all-8001-10000-dynamic-1corestotal-1corepera-20240402-150131-summary.csv 32            \n",
       "                                                                                                           scaffold_ID                                                                                   \n",
       "libd_chr1-chr1_all-libd_chr1-chr1_all-1-2000-dynamic-1corestotal-1corepera-20240402-150130-summary.csv     libd_chr1-chr1_all-libd_chr1-chr1_all-1-2000-dynamic-1corestotal-1corepera-20240402-150130    \n",
       "libd_chr1-chr1_all-libd_chr1-chr1_all-2001-4000-dynamic-1corestotal-1corepera-20240402-150131-summary.csv  libd_chr1-chr1_all-libd_chr1-chr1_all-2001-4000-dynamic-1corestotal-1corepera-20240402-150131 \n",
       "libd_chr1-chr1_all-libd_chr1-chr1_all-4001-6000-dynamic-1corestotal-1corepera-20240402-150131-summary.csv  libd_chr1-chr1_all-libd_chr1-chr1_all-4001-6000-dynamic-1corestotal-1corepera-20240402-150131 \n",
       "libd_chr1-chr1_all-libd_chr1-chr1_all-6001-8000-dynamic-1corestotal-1corepera-20240402-150131-summary.csv  libd_chr1-chr1_all-libd_chr1-chr1_all-6001-8000-dynamic-1corestotal-1corepera-20240402-150131 \n",
       "libd_chr1-chr1_all-libd_chr1-chr1_all-8001-10000-dynamic-1corestotal-1corepera-20240402-150131-summary.csv libd_chr1-chr1_all-libd_chr1-chr1_all-8001-10000-dynamic-1corestotal-1corepera-20240402-150131\n",
       "                                                                                                           number_cores\n",
       "libd_chr1-chr1_all-libd_chr1-chr1_all-1-2000-dynamic-1corestotal-1corepera-20240402-150130-summary.csv     1           \n",
       "libd_chr1-chr1_all-libd_chr1-chr1_all-2001-4000-dynamic-1corestotal-1corepera-20240402-150131-summary.csv  1           \n",
       "libd_chr1-chr1_all-libd_chr1-chr1_all-4001-6000-dynamic-1corestotal-1corepera-20240402-150131-summary.csv  1           \n",
       "libd_chr1-chr1_all-libd_chr1-chr1_all-6001-8000-dynamic-1corestotal-1corepera-20240402-150131-summary.csv  1           \n",
       "libd_chr1-chr1_all-libd_chr1-chr1_all-8001-10000-dynamic-1corestotal-1corepera-20240402-150131-summary.csv 1           \n",
       "                                                                                                           runtime_seconds\n",
       "libd_chr1-chr1_all-libd_chr1-chr1_all-1-2000-dynamic-1corestotal-1corepera-20240402-150130-summary.csv     9333           \n",
       "libd_chr1-chr1_all-libd_chr1-chr1_all-2001-4000-dynamic-1corestotal-1corepera-20240402-150131-summary.csv  7465           \n",
       "libd_chr1-chr1_all-libd_chr1-chr1_all-4001-6000-dynamic-1corestotal-1corepera-20240402-150131-summary.csv  6448           \n",
       "libd_chr1-chr1_all-libd_chr1-chr1_all-6001-8000-dynamic-1corestotal-1corepera-20240402-150131-summary.csv  3282           \n",
       "libd_chr1-chr1_all-libd_chr1-chr1_all-8001-10000-dynamic-1corestotal-1corepera-20240402-150131-summary.csv 9048           \n",
       "                                                                                                           runtime_hours\n",
       "libd_chr1-chr1_all-libd_chr1-chr1_all-1-2000-dynamic-1corestotal-1corepera-20240402-150130-summary.csv     2.5925000    \n",
       "libd_chr1-chr1_all-libd_chr1-chr1_all-2001-4000-dynamic-1corestotal-1corepera-20240402-150131-summary.csv  2.0736111    \n",
       "libd_chr1-chr1_all-libd_chr1-chr1_all-4001-6000-dynamic-1corestotal-1corepera-20240402-150131-summary.csv  1.7911111    \n",
       "libd_chr1-chr1_all-libd_chr1-chr1_all-6001-8000-dynamic-1corestotal-1corepera-20240402-150131-summary.csv  0.9116667    \n",
       "libd_chr1-chr1_all-libd_chr1-chr1_all-8001-10000-dynamic-1corestotal-1corepera-20240402-150131-summary.csv 2.5133333    \n",
       "                                                                                                           runtime_core_hours\n",
       "libd_chr1-chr1_all-libd_chr1-chr1_all-1-2000-dynamic-1corestotal-1corepera-20240402-150130-summary.csv     2.5925000         \n",
       "libd_chr1-chr1_all-libd_chr1-chr1_all-2001-4000-dynamic-1corestotal-1corepera-20240402-150131-summary.csv  2.0736111         \n",
       "libd_chr1-chr1_all-libd_chr1-chr1_all-4001-6000-dynamic-1corestotal-1corepera-20240402-150131-summary.csv  1.7911111         \n",
       "libd_chr1-chr1_all-libd_chr1-chr1_all-6001-8000-dynamic-1corestotal-1corepera-20240402-150131-summary.csv  0.9116667         \n",
       "libd_chr1-chr1_all-libd_chr1-chr1_all-8001-10000-dynamic-1corestotal-1corepera-20240402-150131-summary.csv 2.5133333         \n",
       "                                                                                                           runtime_core_seconds\n",
       "libd_chr1-chr1_all-libd_chr1-chr1_all-1-2000-dynamic-1corestotal-1corepera-20240402-150130-summary.csv     9333                \n",
       "libd_chr1-chr1_all-libd_chr1-chr1_all-2001-4000-dynamic-1corestotal-1corepera-20240402-150131-summary.csv  7465                \n",
       "libd_chr1-chr1_all-libd_chr1-chr1_all-4001-6000-dynamic-1corestotal-1corepera-20240402-150131-summary.csv  6448                \n",
       "libd_chr1-chr1_all-libd_chr1-chr1_all-6001-8000-dynamic-1corestotal-1corepera-20240402-150131-summary.csv  3282                \n",
       "libd_chr1-chr1_all-libd_chr1-chr1_all-8001-10000-dynamic-1corestotal-1corepera-20240402-150131-summary.csv 9048                \n",
       "                                                                                                           core_hours_per_test\n",
       "libd_chr1-chr1_all-libd_chr1-chr1_all-1-2000-dynamic-1corestotal-1corepera-20240402-150130-summary.csv     2.592500e-04       \n",
       "libd_chr1-chr1_all-libd_chr1-chr1_all-2001-4000-dynamic-1corestotal-1corepera-20240402-150131-summary.csv  2.073611e-04       \n",
       "libd_chr1-chr1_all-libd_chr1-chr1_all-4001-6000-dynamic-1corestotal-1corepera-20240402-150131-summary.csv  1.791111e-04       \n",
       "libd_chr1-chr1_all-libd_chr1-chr1_all-6001-8000-dynamic-1corestotal-1corepera-20240402-150131-summary.csv  9.116667e-05       \n",
       "libd_chr1-chr1_all-libd_chr1-chr1_all-8001-10000-dynamic-1corestotal-1corepera-20240402-150131-summary.csv 2.513333e-04       \n",
       "                                                                                                           core_seconds_per_test\n",
       "libd_chr1-chr1_all-libd_chr1-chr1_all-1-2000-dynamic-1corestotal-1corepera-20240402-150130-summary.csv     0.9333               \n",
       "libd_chr1-chr1_all-libd_chr1-chr1_all-2001-4000-dynamic-1corestotal-1corepera-20240402-150131-summary.csv  0.7465               \n",
       "libd_chr1-chr1_all-libd_chr1-chr1_all-4001-6000-dynamic-1corestotal-1corepera-20240402-150131-summary.csv  0.6448               \n",
       "libd_chr1-chr1_all-libd_chr1-chr1_all-6001-8000-dynamic-1corestotal-1corepera-20240402-150131-summary.csv  0.3282               \n",
       "libd_chr1-chr1_all-libd_chr1-chr1_all-8001-10000-dynamic-1corestotal-1corepera-20240402-150131-summary.csv 0.9048               "
      ]
     },
     "metadata": {},
     "output_type": "display_data"
    }
   ],
   "source": [
    "summary_table"
   ]
  },
  {
   "cell_type": "code",
   "execution_count": 12,
   "id": "fcf6d834-f970-460a-ba8b-9ef44917e6c9",
   "metadata": {},
   "outputs": [],
   "source": [
    "#summary_table[which.min(summary_table$core_hours_per_test), ]"
   ]
  },
  {
   "cell_type": "code",
   "execution_count": 12,
   "id": "7f4deac8-60dd-4576-8c76-135d39fcb03b",
   "metadata": {},
   "outputs": [],
   "source": [
    "data.table::fwrite(summary_table, \"05-OUT_SLURM_benchmarks_a2.91.csv\")"
   ]
  },
  {
   "cell_type": "markdown",
   "id": "793cb57e-aa18-4937-8611-570b1a5d30bb",
   "metadata": {},
   "source": [
    "## How long for whole dataset?"
   ]
  },
  {
   "cell_type": "code",
   "execution_count": 13,
   "id": "30850d1c-aeee-49e3-94f7-dccfa46414fb",
   "metadata": {},
   "outputs": [],
   "source": [
    "n_sites <- 26000000"
   ]
  },
  {
   "cell_type": "code",
   "execution_count": 14,
   "id": "3315e920-a3c2-499e-a6d5-36b51b134d25",
   "metadata": {},
   "outputs": [
    {
     "data": {
      "text/html": [
       "2880.7714"
      ],
      "text/latex": [
       "2880.7714"
      ],
      "text/markdown": [
       "2880.7714"
      ],
      "text/plain": [
       "[1] 2880.771"
      ]
     },
     "metadata": {},
     "output_type": "display_data"
    }
   ],
   "source": [
    "n_sites*0.0001107989 # From 1000000-1001000"
   ]
  },
  {
   "cell_type": "code",
   "execution_count": 15,
   "id": "7bcd6f96-7109-4fa3-8db2-076b0e5fe422",
   "metadata": {},
   "outputs": [
    {
     "data": {
      "text/html": [
       "5138.75555555556"
      ],
      "text/latex": [
       "5138.75555555556"
      ],
      "text/markdown": [
       "5138.75555555556"
      ],
      "text/plain": [
       "[1] 5138.756"
      ]
     },
     "metadata": {},
     "output_type": "display_data"
    }
   ],
   "source": [
    "n_sites*mean(summary_table$core_hours_per_test)"
   ]
  },
  {
   "cell_type": "code",
   "execution_count": 17,
   "id": "b39dccdd-4a5c-44fa-9156-602c456893ab",
   "metadata": {},
   "outputs": [],
   "source": [
    "# 1240"
   ]
  }
 ],
 "metadata": {
  "kernelspec": {
   "display_name": "R",
   "language": "R",
   "name": "ir"
  },
  "language_info": {
   "codemirror_mode": "r",
   "file_extension": ".r",
   "mimetype": "text/x-r-source",
   "name": "R",
   "pygments_lexer": "r",
   "version": "4.3.1"
  }
 },
 "nbformat": 4,
 "nbformat_minor": 5
}
